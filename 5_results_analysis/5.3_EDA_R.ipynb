{
 "cells": [
  {
   "cell_type": "markdown",
   "metadata": {},
   "source": [
    "### EDA"
   ]
  },
  {
   "cell_type": "code",
   "execution_count": 57,
   "metadata": {},
   "outputs": [],
   "source": [
    "library(cowplot) #Installing package into 'C:/Users/User/Documents/R/win-library/4.0'\n",
    "library(grid)\n",
    "library(ggplot2)\n",
    "library(ggExtra)\n",
    "library(tidyverse)\n",
    "library(lubridate)\n",
    "library(gridExtra)\n",
    "library(tableone)"
   ]
  },
  {
   "cell_type": "code",
   "execution_count": 2,
   "metadata": {},
   "outputs": [],
   "source": [
    "# directories\n",
    "datadir = \"../../DataTD\"\n",
    "cohortdir = \"../../OutputTD/1_cohort\"\n",
    "featuredir = \"../../OutputTD/2_features\"\n",
    "figuredir = \"../../OutputTD/Figures\"\n",
    "modeldir4 = \"../../OutputTD/3_models/1_4_cohort\"\n",
    "# modeldir4preadmit = \"../../OutputTD/3_models/1_4_cohort_24hrpreadmit\"\n",
    "tabledir = \"../../OutputTD/4_tables\"\n",
    "resultdir = \"../../OutputTD/5_results_analysis\"\n",
    "\n",
    "options(repr.matrix.max.rows=200, repr.matrix.max.cols=30)"
   ]
  },
  {
   "cell_type": "code",
   "execution_count": 49,
   "metadata": {},
   "outputs": [
    {
     "data": {
      "text/html": [
       "43980"
      ],
      "text/latex": [
       "43980"
      ],
      "text/markdown": [
       "43980"
      ],
      "text/plain": [
       "[1] 43980"
      ]
     },
     "metadata": {},
     "output_type": "display_data"
    },
    {
     "data": {
      "text/html": [
       "45794"
      ],
      "text/latex": [
       "45794"
      ],
      "text/markdown": [
       "45794"
      ],
      "text/plain": [
       "[1] 45794"
      ]
     },
     "metadata": {},
     "output_type": "display_data"
    },
    {
     "data": {
      "text/html": [
       "44258"
      ],
      "text/latex": [
       "44258"
      ],
      "text/markdown": [
       "44258"
      ],
      "text/plain": [
       "[1] 44258"
      ]
     },
     "metadata": {},
     "output_type": "display_data"
    },
    {
     "data": {
      "text/html": [
       "43979"
      ],
      "text/latex": [
       "43979"
      ],
      "text/markdown": [
       "43979"
      ],
      "text/plain": [
       "[1] 43979"
      ]
     },
     "metadata": {},
     "output_type": "display_data"
    },
    {
     "data": {
      "text/html": [
       "43980"
      ],
      "text/latex": [
       "43980"
      ],
      "text/markdown": [
       "43980"
      ],
      "text/plain": [
       "[1] 43980"
      ]
     },
     "metadata": {},
     "output_type": "display_data"
    }
   ],
   "source": [
    "cohort <- read.csv(file.path(cohortdir, \"1_4_cohort.csv\")) %>% mutate(admit_time = ymd_hms(admit_time))\n",
    "nrow(cohort)\n",
    "\n",
    "demo <- read.csv(file.path(featuredir, \"2_1_coh2_demo.csv\"))  %>% mutate(admit_time = ymd_hms(admit_time)) \n",
    "nrow(demo)\n",
    "\n",
    "esi <- read.csv(file.path(featuredir, \"2_5_coh3_imputedHWESI.csv\"))  %>% mutate(admit_time = ymd_hms(admit_time)) %>%\n",
    "            select(anon_id, pat_enc_csn_id_coded, ESI_i) %>% rename(ESI = ESI_i)\n",
    "nrow(esi)\n",
    "\n",
    "los1 <- read.csv(file.path(resultdir, \"01_length_of_stay_in_ED.csv\"))#%>% mutate(admit_time = ymd_hms(admit_time))\n",
    "nrow(los1) # less 1 than cohort\n",
    "\n",
    "los2 <- read.csv(file.path(resultdir, \"5_2_length_of_stay_labels.csv\")) %>% mutate(admit_time = ymd_hms(admit_time))\n",
    "nrow(los2) # same size!\n",
    "# adm_year = year(admit_time)"
   ]
  },
  {
   "cell_type": "code",
   "execution_count": 48,
   "metadata": {},
   "outputs": [
    {
     "name": "stderr",
     "output_type": "stream",
     "text": [
      "`summarise()` ungrouping output (override with `.groups` argument)\n",
      "\n"
     ]
    },
    {
     "data": {
      "text/html": [
       "<table>\n",
       "<caption>A tibble: 7 × 2</caption>\n",
       "<thead>\n",
       "\t<tr><th scope=col>race</th><th scope=col>n</th></tr>\n",
       "\t<tr><th scope=col>&lt;chr&gt;</th><th scope=col>&lt;int&gt;</th></tr>\n",
       "</thead>\n",
       "<tbody>\n",
       "\t<tr><td>Asian           </td><td> 6870</td></tr>\n",
       "\t<tr><td>Black           </td><td> 3260</td></tr>\n",
       "\t<tr><td>Native American </td><td>  195</td></tr>\n",
       "\t<tr><td>Other           </td><td>10511</td></tr>\n",
       "\t<tr><td>Pacific Islander</td><td>  930</td></tr>\n",
       "\t<tr><td>Unknown         </td><td>  424</td></tr>\n",
       "\t<tr><td>White           </td><td>23604</td></tr>\n",
       "</tbody>\n",
       "</table>\n"
      ],
      "text/latex": [
       "A tibble: 7 × 2\n",
       "\\begin{tabular}{ll}\n",
       " race & n\\\\\n",
       " <chr> & <int>\\\\\n",
       "\\hline\n",
       "\t Asian            &  6870\\\\\n",
       "\t Black            &  3260\\\\\n",
       "\t Native American  &   195\\\\\n",
       "\t Other            & 10511\\\\\n",
       "\t Pacific Islander &   930\\\\\n",
       "\t Unknown          &   424\\\\\n",
       "\t White            & 23604\\\\\n",
       "\\end{tabular}\n"
      ],
      "text/markdown": [
       "\n",
       "A tibble: 7 × 2\n",
       "\n",
       "| race &lt;chr&gt; | n &lt;int&gt; |\n",
       "|---|---|\n",
       "| Asian            |  6870 |\n",
       "| Black            |  3260 |\n",
       "| Native American  |   195 |\n",
       "| Other            | 10511 |\n",
       "| Pacific Islander |   930 |\n",
       "| Unknown          |   424 |\n",
       "| White            | 23604 |\n",
       "\n"
      ],
      "text/plain": [
       "  race             n    \n",
       "1 Asian             6870\n",
       "2 Black             3260\n",
       "3 Native American    195\n",
       "4 Other            10511\n",
       "5 Pacific Islander   930\n",
       "6 Unknown            424\n",
       "7 White            23604"
      ]
     },
     "metadata": {},
     "output_type": "display_data"
    }
   ],
   "source": [
    "demo %>% group_by(race) %>% summarize(n=n())"
   ]
  },
  {
   "cell_type": "code",
   "execution_count": 12,
   "metadata": {},
   "outputs": [
    {
     "data": {
      "text/html": [
       "<table>\n",
       "<caption>A data.frame: 1 × 3</caption>\n",
       "<thead>\n",
       "\t<tr><th></th><th scope=col>anon_id</th><th scope=col>pat_enc_csn_id_coded</th><th scope=col>race</th></tr>\n",
       "\t<tr><th></th><th scope=col>&lt;chr&gt;</th><th scope=col>&lt;dbl&gt;</th><th scope=col>&lt;chr&gt;</th></tr>\n",
       "</thead>\n",
       "<tbody>\n",
       "\t<tr><th scope=row>1</th><td>JC29f8ad2</td><td>131274729058</td><td>White</td></tr>\n",
       "</tbody>\n",
       "</table>\n"
      ],
      "text/latex": [
       "A data.frame: 1 × 3\n",
       "\\begin{tabular}{r|lll}\n",
       "  & anon\\_id & pat\\_enc\\_csn\\_id\\_coded & race\\\\\n",
       "  & <chr> & <dbl> & <chr>\\\\\n",
       "\\hline\n",
       "\t1 & JC29f8ad2 & 131274729058 & White\\\\\n",
       "\\end{tabular}\n"
      ],
      "text/markdown": [
       "\n",
       "A data.frame: 1 × 3\n",
       "\n",
       "| <!--/--> | anon_id &lt;chr&gt; | pat_enc_csn_id_coded &lt;dbl&gt; | race &lt;chr&gt; |\n",
       "|---|---|---|---|\n",
       "| 1 | JC29f8ad2 | 131274729058 | White |\n",
       "\n"
      ],
      "text/plain": [
       "  anon_id   pat_enc_csn_id_coded race \n",
       "1 JC29f8ad2 131274729058         White"
      ]
     },
     "metadata": {},
     "output_type": "display_data"
    },
    {
     "data": {
      "text/html": [
       "<table>\n",
       "<caption>A data.frame: 1 × 3</caption>\n",
       "<thead>\n",
       "\t<tr><th></th><th scope=col>anon_id</th><th scope=col>pat_enc_csn_id_coded</th><th scope=col>ESI</th></tr>\n",
       "\t<tr><th></th><th scope=col>&lt;chr&gt;</th><th scope=col>&lt;dbl&gt;</th><th scope=col>&lt;int&gt;</th></tr>\n",
       "</thead>\n",
       "<tbody>\n",
       "\t<tr><th scope=row>1</th><td>JC29f8ad2</td><td>131274729058</td><td>3</td></tr>\n",
       "</tbody>\n",
       "</table>\n"
      ],
      "text/latex": [
       "A data.frame: 1 × 3\n",
       "\\begin{tabular}{r|lll}\n",
       "  & anon\\_id & pat\\_enc\\_csn\\_id\\_coded & ESI\\\\\n",
       "  & <chr> & <dbl> & <int>\\\\\n",
       "\\hline\n",
       "\t1 & JC29f8ad2 & 131274729058 & 3\\\\\n",
       "\\end{tabular}\n"
      ],
      "text/markdown": [
       "\n",
       "A data.frame: 1 × 3\n",
       "\n",
       "| <!--/--> | anon_id &lt;chr&gt; | pat_enc_csn_id_coded &lt;dbl&gt; | ESI &lt;int&gt; |\n",
       "|---|---|---|---|\n",
       "| 1 | JC29f8ad2 | 131274729058 | 3 |\n",
       "\n"
      ],
      "text/plain": [
       "  anon_id   pat_enc_csn_id_coded ESI\n",
       "1 JC29f8ad2 131274729058         3  "
      ]
     },
     "metadata": {},
     "output_type": "display_data"
    },
    {
     "data": {
      "text/html": [
       "<style>\n",
       ".list-inline {list-style: none; margin:0; padding: 0}\n",
       ".list-inline>li {display: inline-block}\n",
       ".list-inline>li:not(:last-child)::after {content: \"\\00b7\"; padding: 0 .5ex}\n",
       "</style>\n",
       "<ol class=list-inline><li>'anon_id'</li><li>'pat_enc_csn_id_coded'</li><li>'inpatient_data_id_coded'</li><li>'admit_time'</li><li>'label_max24'</li><li>'label_24hr_recent'</li><li>'admit_label'</li><li>'has_admit_label'</li><li>'died_within_24hrs'</li><li>'death_24hr_max_label'</li><li>'death_24hr_recent_label'</li><li>'first_label'</li><li>'first_label_minutes_since_admit'</li><li>'acute_to_critical_label_recent'</li><li>'critical_to_acute_label_recent'</li><li>'acute_to_critical_label_max'</li><li>'critical_to_acute_label_max'</li></ol>\n"
      ],
      "text/latex": [
       "\\begin{enumerate*}\n",
       "\\item 'anon\\_id'\n",
       "\\item 'pat\\_enc\\_csn\\_id\\_coded'\n",
       "\\item 'inpatient\\_data\\_id\\_coded'\n",
       "\\item 'admit\\_time'\n",
       "\\item 'label\\_max24'\n",
       "\\item 'label\\_24hr\\_recent'\n",
       "\\item 'admit\\_label'\n",
       "\\item 'has\\_admit\\_label'\n",
       "\\item 'died\\_within\\_24hrs'\n",
       "\\item 'death\\_24hr\\_max\\_label'\n",
       "\\item 'death\\_24hr\\_recent\\_label'\n",
       "\\item 'first\\_label'\n",
       "\\item 'first\\_label\\_minutes\\_since\\_admit'\n",
       "\\item 'acute\\_to\\_critical\\_label\\_recent'\n",
       "\\item 'critical\\_to\\_acute\\_label\\_recent'\n",
       "\\item 'acute\\_to\\_critical\\_label\\_max'\n",
       "\\item 'critical\\_to\\_acute\\_label\\_max'\n",
       "\\end{enumerate*}\n"
      ],
      "text/markdown": [
       "1. 'anon_id'\n",
       "2. 'pat_enc_csn_id_coded'\n",
       "3. 'inpatient_data_id_coded'\n",
       "4. 'admit_time'\n",
       "5. 'label_max24'\n",
       "6. 'label_24hr_recent'\n",
       "7. 'admit_label'\n",
       "8. 'has_admit_label'\n",
       "9. 'died_within_24hrs'\n",
       "10. 'death_24hr_max_label'\n",
       "11. 'death_24hr_recent_label'\n",
       "12. 'first_label'\n",
       "13. 'first_label_minutes_since_admit'\n",
       "14. 'acute_to_critical_label_recent'\n",
       "15. 'critical_to_acute_label_recent'\n",
       "16. 'acute_to_critical_label_max'\n",
       "17. 'critical_to_acute_label_max'\n",
       "\n",
       "\n"
      ],
      "text/plain": [
       " [1] \"anon_id\"                         \"pat_enc_csn_id_coded\"           \n",
       " [3] \"inpatient_data_id_coded\"         \"admit_time\"                     \n",
       " [5] \"label_max24\"                     \"label_24hr_recent\"              \n",
       " [7] \"admit_label\"                     \"has_admit_label\"                \n",
       " [9] \"died_within_24hrs\"               \"death_24hr_max_label\"           \n",
       "[11] \"death_24hr_recent_label\"         \"first_label\"                    \n",
       "[13] \"first_label_minutes_since_admit\" \"acute_to_critical_label_recent\" \n",
       "[15] \"critical_to_acute_label_recent\"  \"acute_to_critical_label_max\"    \n",
       "[17] \"critical_to_acute_label_max\"    "
      ]
     },
     "metadata": {},
     "output_type": "display_data"
    },
    {
     "data": {
      "text/html": [
       "<table>\n",
       "<caption>A data.frame: 1 × 17</caption>\n",
       "<thead>\n",
       "\t<tr><th></th><th scope=col>anon_id</th><th scope=col>pat_enc_csn_id_coded</th><th scope=col>inpatient_data_id_coded</th><th scope=col>admit_time</th><th scope=col>label_max24</th><th scope=col>label_24hr_recent</th><th scope=col>admit_label</th><th scope=col>has_admit_label</th><th scope=col>died_within_24hrs</th><th scope=col>death_24hr_max_label</th><th scope=col>death_24hr_recent_label</th><th scope=col>first_label</th><th scope=col>first_label_minutes_since_admit</th><th scope=col>acute_to_critical_label_recent</th><th scope=col>critical_to_acute_label_recent</th><th scope=col>acute_to_critical_label_max</th><th scope=col>critical_to_acute_label_max</th></tr>\n",
       "\t<tr><th></th><th scope=col>&lt;chr&gt;</th><th scope=col>&lt;dbl&gt;</th><th scope=col>&lt;int&gt;</th><th scope=col>&lt;dttm&gt;</th><th scope=col>&lt;int&gt;</th><th scope=col>&lt;int&gt;</th><th scope=col>&lt;int&gt;</th><th scope=col>&lt;int&gt;</th><th scope=col>&lt;int&gt;</th><th scope=col>&lt;int&gt;</th><th scope=col>&lt;int&gt;</th><th scope=col>&lt;int&gt;</th><th scope=col>&lt;dbl&gt;</th><th scope=col>&lt;int&gt;</th><th scope=col>&lt;int&gt;</th><th scope=col>&lt;int&gt;</th><th scope=col>&lt;int&gt;</th></tr>\n",
       "</thead>\n",
       "<tbody>\n",
       "\t<tr><th scope=row>1</th><td>JCd97296</td><td>1.31176e+11</td><td>18290644</td><td>2016-02-06 22:31:00</td><td>0</td><td>0</td><td>NA</td><td>0</td><td>0</td><td>0</td><td>0</td><td>0</td><td>1325</td><td>0</td><td>0</td><td>0</td><td>0</td></tr>\n",
       "</tbody>\n",
       "</table>\n"
      ],
      "text/latex": [
       "A data.frame: 1 × 17\n",
       "\\begin{tabular}{r|lllllllllllllllll}\n",
       "  & anon\\_id & pat\\_enc\\_csn\\_id\\_coded & inpatient\\_data\\_id\\_coded & admit\\_time & label\\_max24 & label\\_24hr\\_recent & admit\\_label & has\\_admit\\_label & died\\_within\\_24hrs & death\\_24hr\\_max\\_label & death\\_24hr\\_recent\\_label & first\\_label & first\\_label\\_minutes\\_since\\_admit & acute\\_to\\_critical\\_label\\_recent & critical\\_to\\_acute\\_label\\_recent & acute\\_to\\_critical\\_label\\_max & critical\\_to\\_acute\\_label\\_max\\\\\n",
       "  & <chr> & <dbl> & <int> & <dttm> & <int> & <int> & <int> & <int> & <int> & <int> & <int> & <int> & <dbl> & <int> & <int> & <int> & <int>\\\\\n",
       "\\hline\n",
       "\t1 & JCd97296 & 1.31176e+11 & 18290644 & 2016-02-06 22:31:00 & 0 & 0 & NA & 0 & 0 & 0 & 0 & 0 & 1325 & 0 & 0 & 0 & 0\\\\\n",
       "\\end{tabular}\n"
      ],
      "text/markdown": [
       "\n",
       "A data.frame: 1 × 17\n",
       "\n",
       "| <!--/--> | anon_id &lt;chr&gt; | pat_enc_csn_id_coded &lt;dbl&gt; | inpatient_data_id_coded &lt;int&gt; | admit_time &lt;dttm&gt; | label_max24 &lt;int&gt; | label_24hr_recent &lt;int&gt; | admit_label &lt;int&gt; | has_admit_label &lt;int&gt; | died_within_24hrs &lt;int&gt; | death_24hr_max_label &lt;int&gt; | death_24hr_recent_label &lt;int&gt; | first_label &lt;int&gt; | first_label_minutes_since_admit &lt;dbl&gt; | acute_to_critical_label_recent &lt;int&gt; | critical_to_acute_label_recent &lt;int&gt; | acute_to_critical_label_max &lt;int&gt; | critical_to_acute_label_max &lt;int&gt; |\n",
       "|---|---|---|---|---|---|---|---|---|---|---|---|---|---|---|---|---|---|\n",
       "| 1 | JCd97296 | 1.31176e+11 | 18290644 | 2016-02-06 22:31:00 | 0 | 0 | NA | 0 | 0 | 0 | 0 | 0 | 1325 | 0 | 0 | 0 | 0 |\n",
       "\n"
      ],
      "text/plain": [
       "  anon_id  pat_enc_csn_id_coded inpatient_data_id_coded admit_time         \n",
       "1 JCd97296 1.31176e+11          18290644                2016-02-06 22:31:00\n",
       "  label_max24 label_24hr_recent admit_label has_admit_label died_within_24hrs\n",
       "1 0           0                 NA          0               0                \n",
       "  death_24hr_max_label death_24hr_recent_label first_label\n",
       "1 0                    0                       0          \n",
       "  first_label_minutes_since_admit acute_to_critical_label_recent\n",
       "1 1325                            0                             \n",
       "  critical_to_acute_label_recent acute_to_critical_label_max\n",
       "1 0                              0                          \n",
       "  critical_to_acute_label_max\n",
       "1 0                          "
      ]
     },
     "metadata": {},
     "output_type": "display_data"
    },
    {
     "data": {
      "text/html": [
       "<style>\n",
       ".list-inline {list-style: none; margin:0; padding: 0}\n",
       ".list-inline>li {display: inline-block}\n",
       ".list-inline>li:not(:last-child)::after {content: \"\\00b7\"; padding: 0 .5ex}\n",
       "</style>\n",
       "<ol class=list-inline><li>'anon_id'</li><li>'pat_enc_csn_id_coded'</li><li>'admit_time'</li><li>'first_ED_time'</li><li>'discharge_time'</li><li>'end_date'</li><li>'length_of_ip_since_admit'</li><li>'length_from_ED_entry_until_end_date'</li><li>'death_date_jittered'</li><li>'discharge_date'</li><li>'died_before_discharge'</li></ol>\n"
      ],
      "text/latex": [
       "\\begin{enumerate*}\n",
       "\\item 'anon\\_id'\n",
       "\\item 'pat\\_enc\\_csn\\_id\\_coded'\n",
       "\\item 'admit\\_time'\n",
       "\\item 'first\\_ED\\_time'\n",
       "\\item 'discharge\\_time'\n",
       "\\item 'end\\_date'\n",
       "\\item 'length\\_of\\_ip\\_since\\_admit'\n",
       "\\item 'length\\_from\\_ED\\_entry\\_until\\_end\\_date'\n",
       "\\item 'death\\_date\\_jittered'\n",
       "\\item 'discharge\\_date'\n",
       "\\item 'died\\_before\\_discharge'\n",
       "\\end{enumerate*}\n"
      ],
      "text/markdown": [
       "1. 'anon_id'\n",
       "2. 'pat_enc_csn_id_coded'\n",
       "3. 'admit_time'\n",
       "4. 'first_ED_time'\n",
       "5. 'discharge_time'\n",
       "6. 'end_date'\n",
       "7. 'length_of_ip_since_admit'\n",
       "8. 'length_from_ED_entry_until_end_date'\n",
       "9. 'death_date_jittered'\n",
       "10. 'discharge_date'\n",
       "11. 'died_before_discharge'\n",
       "\n",
       "\n"
      ],
      "text/plain": [
       " [1] \"anon_id\"                             \"pat_enc_csn_id_coded\"               \n",
       " [3] \"admit_time\"                          \"first_ED_time\"                      \n",
       " [5] \"discharge_time\"                      \"end_date\"                           \n",
       " [7] \"length_of_ip_since_admit\"            \"length_from_ED_entry_until_end_date\"\n",
       " [9] \"death_date_jittered\"                 \"discharge_date\"                     \n",
       "[11] \"died_before_discharge\"              "
      ]
     },
     "metadata": {},
     "output_type": "display_data"
    },
    {
     "data": {
      "text/html": [
       "<table>\n",
       "<caption>A data.frame: 1 × 11</caption>\n",
       "<thead>\n",
       "\t<tr><th></th><th scope=col>anon_id</th><th scope=col>pat_enc_csn_id_coded</th><th scope=col>admit_time</th><th scope=col>first_ED_time</th><th scope=col>discharge_time</th><th scope=col>end_date</th><th scope=col>length_of_ip_since_admit</th><th scope=col>length_from_ED_entry_until_end_date</th><th scope=col>death_date_jittered</th><th scope=col>discharge_date</th><th scope=col>died_before_discharge</th></tr>\n",
       "\t<tr><th></th><th scope=col>&lt;chr&gt;</th><th scope=col>&lt;dbl&gt;</th><th scope=col>&lt;dttm&gt;</th><th scope=col>&lt;chr&gt;</th><th scope=col>&lt;chr&gt;</th><th scope=col>&lt;chr&gt;</th><th scope=col>&lt;chr&gt;</th><th scope=col>&lt;chr&gt;</th><th scope=col>&lt;chr&gt;</th><th scope=col>&lt;chr&gt;</th><th scope=col>&lt;chr&gt;</th></tr>\n",
       "</thead>\n",
       "<tbody>\n",
       "\t<tr><th scope=row>1</th><td>JCe78a06</td><td>131062667066</td><td>2015-01-02 01:01:00</td><td>2015-01-01 17:10:00+00:00</td><td>2015-01-11 23:40:00+00:00</td><td>2015-01-11</td><td>9 days</td><td>10 days</td><td>2020-01-10</td><td>2015-01-11</td><td></td></tr>\n",
       "</tbody>\n",
       "</table>\n"
      ],
      "text/latex": [
       "A data.frame: 1 × 11\n",
       "\\begin{tabular}{r|lllllllllll}\n",
       "  & anon\\_id & pat\\_enc\\_csn\\_id\\_coded & admit\\_time & first\\_ED\\_time & discharge\\_time & end\\_date & length\\_of\\_ip\\_since\\_admit & length\\_from\\_ED\\_entry\\_until\\_end\\_date & death\\_date\\_jittered & discharge\\_date & died\\_before\\_discharge\\\\\n",
       "  & <chr> & <dbl> & <dttm> & <chr> & <chr> & <chr> & <chr> & <chr> & <chr> & <chr> & <chr>\\\\\n",
       "\\hline\n",
       "\t1 & JCe78a06 & 131062667066 & 2015-01-02 01:01:00 & 2015-01-01 17:10:00+00:00 & 2015-01-11 23:40:00+00:00 & 2015-01-11 & 9 days & 10 days & 2020-01-10 & 2015-01-11 & \\\\\n",
       "\\end{tabular}\n"
      ],
      "text/markdown": [
       "\n",
       "A data.frame: 1 × 11\n",
       "\n",
       "| <!--/--> | anon_id &lt;chr&gt; | pat_enc_csn_id_coded &lt;dbl&gt; | admit_time &lt;dttm&gt; | first_ED_time &lt;chr&gt; | discharge_time &lt;chr&gt; | end_date &lt;chr&gt; | length_of_ip_since_admit &lt;chr&gt; | length_from_ED_entry_until_end_date &lt;chr&gt; | death_date_jittered &lt;chr&gt; | discharge_date &lt;chr&gt; | died_before_discharge &lt;chr&gt; |\n",
       "|---|---|---|---|---|---|---|---|---|---|---|---|\n",
       "| 1 | JCe78a06 | 131062667066 | 2015-01-02 01:01:00 | 2015-01-01 17:10:00+00:00 | 2015-01-11 23:40:00+00:00 | 2015-01-11 | 9 days | 10 days | 2020-01-10 | 2015-01-11 | <!----> |\n",
       "\n"
      ],
      "text/plain": [
       "  anon_id  pat_enc_csn_id_coded admit_time          first_ED_time            \n",
       "1 JCe78a06 131062667066         2015-01-02 01:01:00 2015-01-01 17:10:00+00:00\n",
       "  discharge_time            end_date   length_of_ip_since_admit\n",
       "1 2015-01-11 23:40:00+00:00 2015-01-11 9 days                  \n",
       "  length_from_ED_entry_until_end_date death_date_jittered discharge_date\n",
       "1 10 days                             2020-01-10          2015-01-11    \n",
       "  died_before_discharge\n",
       "1                      "
      ]
     },
     "metadata": {},
     "output_type": "display_data"
    }
   ],
   "source": [
    "head(demo, 1)\n",
    "head(esi, 1)\n",
    "colnames(cohort)\n",
    "head(cohort, 1)\n",
    "# end date is death date if patient died in the hospital, otherwise, it's discharge date\n",
    "colnames(los2)\n",
    "head(los2, 1)"
   ]
  },
  {
   "cell_type": "code",
   "execution_count": 41,
   "metadata": {},
   "outputs": [
    {
     "data": {
      "text/html": [
       "3085046"
      ],
      "text/latex": [
       "3085046"
      ],
      "text/markdown": [
       "3085046"
      ],
      "text/plain": [
       "[1] 3085046"
      ]
     },
     "metadata": {},
     "output_type": "display_data"
    },
    {
     "data": {
      "text/html": [
       "<style>\n",
       ".list-inline {list-style: none; margin:0; padding: 0}\n",
       ".list-inline>li {display: inline-block}\n",
       ".list-inline>li:not(:last-child)::after {content: \"\\00b7\"; padding: 0 .5ex}\n",
       "</style>\n",
       "<ol class=list-inline><li>'anon_id'</li><li>'pat_enc_csn_id_coded'</li><li>'admit_time'</li><li>'first_label'</li><li>'death_24hr_recent_label'</li><li>'death_24hr_max_label'</li><li>'feature_type'</li><li>'features'</li><li>'values'</li><li>'time'</li></ol>\n"
      ],
      "text/latex": [
       "\\begin{enumerate*}\n",
       "\\item 'anon\\_id'\n",
       "\\item 'pat\\_enc\\_csn\\_id\\_coded'\n",
       "\\item 'admit\\_time'\n",
       "\\item 'first\\_label'\n",
       "\\item 'death\\_24hr\\_recent\\_label'\n",
       "\\item 'death\\_24hr\\_max\\_label'\n",
       "\\item 'feature\\_type'\n",
       "\\item 'features'\n",
       "\\item 'values'\n",
       "\\item 'time'\n",
       "\\end{enumerate*}\n"
      ],
      "text/markdown": [
       "1. 'anon_id'\n",
       "2. 'pat_enc_csn_id_coded'\n",
       "3. 'admit_time'\n",
       "4. 'first_label'\n",
       "5. 'death_24hr_recent_label'\n",
       "6. 'death_24hr_max_label'\n",
       "7. 'feature_type'\n",
       "8. 'features'\n",
       "9. 'values'\n",
       "10. 'time'\n",
       "\n",
       "\n"
      ],
      "text/plain": [
       " [1] \"anon_id\"                 \"pat_enc_csn_id_coded\"   \n",
       " [3] \"admit_time\"              \"first_label\"            \n",
       " [5] \"death_24hr_recent_label\" \"death_24hr_max_label\"   \n",
       " [7] \"feature_type\"            \"features\"               \n",
       " [9] \"values\"                  \"time\"                   "
      ]
     },
     "metadata": {},
     "output_type": "display_data"
    },
    {
     "data": {
      "text/html": [
       "<style>\n",
       ".list-inline {list-style: none; margin:0; padding: 0}\n",
       ".list-inline>li {display: inline-block}\n",
       ".list-inline>li:not(:last-child)::after {content: \"\\00b7\"; padding: 0 .5ex}\n",
       "</style>\n",
       "<ol class=list-inline><li>'ESI_i'</li><li>'delta_ESI'</li><li>'gender'</li><li>'age'</li><li>'insurance'</li><li>'English'</li><li>'Height_i'</li><li>'delta_H'</li><li>'Weight_i'</li><li>'delta_W'</li><li>'race.Asian'</li><li>'race.Black'</li><li>'race.Native.American'</li><li>'race.Other'</li><li>'race.Pacific.Islander'</li><li>'race.Unknown'</li><li>'race.White'</li><li>'Temp'</li><li>'DBP'</li><li>'SBP'</li><li>'Pulse'</li><li>'RR'</li><li>'Lactate'</li><li>'PO2_a'</li><li>'pH_a'</li><li>'TCO2_a'</li><li>'AnionGap'</li><li>'HCO3_a'</li><li>'O2sat_a'</li><li>'pCO2_a'</li><li>'Neut'</li><li>'HCO3_v'</li><li>'BUN'</li><li>'Cl'</li><li>'K'</li><li>'Base'</li><li>'Ca'</li><li>'Cr'</li><li>'Na'</li><li>'PT'</li><li>'TProtein'</li><li>'ALB'</li><li>'ALT'</li><li>'AST'</li><li>'CO2'</li><li>'Glucose'</li><li>'Hct'</li><li>'Hgb'</li><li>'INR'</li><li>'MCH'</li><li>'pH_v'</li><li>'Platelet'</li><li>'RDW'</li><li>'Trop'</li><li>'WBC'</li><li>'ALK'</li><li>'eGFR'</li><li>'Glob'</li><li>'PO2_v'</li><li>'TBili'</li><li>'Eos'</li><li>'Lymp'</li><li>'pCO2_v'</li><li>'Basos'</li><li>'Mono'</li><li>'O2sat_v'</li></ol>\n"
      ],
      "text/latex": [
       "\\begin{enumerate*}\n",
       "\\item 'ESI\\_i'\n",
       "\\item 'delta\\_ESI'\n",
       "\\item 'gender'\n",
       "\\item 'age'\n",
       "\\item 'insurance'\n",
       "\\item 'English'\n",
       "\\item 'Height\\_i'\n",
       "\\item 'delta\\_H'\n",
       "\\item 'Weight\\_i'\n",
       "\\item 'delta\\_W'\n",
       "\\item 'race.Asian'\n",
       "\\item 'race.Black'\n",
       "\\item 'race.Native.American'\n",
       "\\item 'race.Other'\n",
       "\\item 'race.Pacific.Islander'\n",
       "\\item 'race.Unknown'\n",
       "\\item 'race.White'\n",
       "\\item 'Temp'\n",
       "\\item 'DBP'\n",
       "\\item 'SBP'\n",
       "\\item 'Pulse'\n",
       "\\item 'RR'\n",
       "\\item 'Lactate'\n",
       "\\item 'PO2\\_a'\n",
       "\\item 'pH\\_a'\n",
       "\\item 'TCO2\\_a'\n",
       "\\item 'AnionGap'\n",
       "\\item 'HCO3\\_a'\n",
       "\\item 'O2sat\\_a'\n",
       "\\item 'pCO2\\_a'\n",
       "\\item 'Neut'\n",
       "\\item 'HCO3\\_v'\n",
       "\\item 'BUN'\n",
       "\\item 'Cl'\n",
       "\\item 'K'\n",
       "\\item 'Base'\n",
       "\\item 'Ca'\n",
       "\\item 'Cr'\n",
       "\\item 'Na'\n",
       "\\item 'PT'\n",
       "\\item 'TProtein'\n",
       "\\item 'ALB'\n",
       "\\item 'ALT'\n",
       "\\item 'AST'\n",
       "\\item 'CO2'\n",
       "\\item 'Glucose'\n",
       "\\item 'Hct'\n",
       "\\item 'Hgb'\n",
       "\\item 'INR'\n",
       "\\item 'MCH'\n",
       "\\item 'pH\\_v'\n",
       "\\item 'Platelet'\n",
       "\\item 'RDW'\n",
       "\\item 'Trop'\n",
       "\\item 'WBC'\n",
       "\\item 'ALK'\n",
       "\\item 'eGFR'\n",
       "\\item 'Glob'\n",
       "\\item 'PO2\\_v'\n",
       "\\item 'TBili'\n",
       "\\item 'Eos'\n",
       "\\item 'Lymp'\n",
       "\\item 'pCO2\\_v'\n",
       "\\item 'Basos'\n",
       "\\item 'Mono'\n",
       "\\item 'O2sat\\_v'\n",
       "\\end{enumerate*}\n"
      ],
      "text/markdown": [
       "1. 'ESI_i'\n",
       "2. 'delta_ESI'\n",
       "3. 'gender'\n",
       "4. 'age'\n",
       "5. 'insurance'\n",
       "6. 'English'\n",
       "7. 'Height_i'\n",
       "8. 'delta_H'\n",
       "9. 'Weight_i'\n",
       "10. 'delta_W'\n",
       "11. 'race.Asian'\n",
       "12. 'race.Black'\n",
       "13. 'race.Native.American'\n",
       "14. 'race.Other'\n",
       "15. 'race.Pacific.Islander'\n",
       "16. 'race.Unknown'\n",
       "17. 'race.White'\n",
       "18. 'Temp'\n",
       "19. 'DBP'\n",
       "20. 'SBP'\n",
       "21. 'Pulse'\n",
       "22. 'RR'\n",
       "23. 'Lactate'\n",
       "24. 'PO2_a'\n",
       "25. 'pH_a'\n",
       "26. 'TCO2_a'\n",
       "27. 'AnionGap'\n",
       "28. 'HCO3_a'\n",
       "29. 'O2sat_a'\n",
       "30. 'pCO2_a'\n",
       "31. 'Neut'\n",
       "32. 'HCO3_v'\n",
       "33. 'BUN'\n",
       "34. 'Cl'\n",
       "35. 'K'\n",
       "36. 'Base'\n",
       "37. 'Ca'\n",
       "38. 'Cr'\n",
       "39. 'Na'\n",
       "40. 'PT'\n",
       "41. 'TProtein'\n",
       "42. 'ALB'\n",
       "43. 'ALT'\n",
       "44. 'AST'\n",
       "45. 'CO2'\n",
       "46. 'Glucose'\n",
       "47. 'Hct'\n",
       "48. 'Hgb'\n",
       "49. 'INR'\n",
       "50. 'MCH'\n",
       "51. 'pH_v'\n",
       "52. 'Platelet'\n",
       "53. 'RDW'\n",
       "54. 'Trop'\n",
       "55. 'WBC'\n",
       "56. 'ALK'\n",
       "57. 'eGFR'\n",
       "58. 'Glob'\n",
       "59. 'PO2_v'\n",
       "60. 'TBili'\n",
       "61. 'Eos'\n",
       "62. 'Lymp'\n",
       "63. 'pCO2_v'\n",
       "64. 'Basos'\n",
       "65. 'Mono'\n",
       "66. 'O2sat_v'\n",
       "\n",
       "\n"
      ],
      "text/plain": [
       " [1] \"ESI_i\"                 \"delta_ESI\"             \"gender\"               \n",
       " [4] \"age\"                   \"insurance\"             \"English\"              \n",
       " [7] \"Height_i\"              \"delta_H\"               \"Weight_i\"             \n",
       "[10] \"delta_W\"               \"race.Asian\"            \"race.Black\"           \n",
       "[13] \"race.Native.American\"  \"race.Other\"            \"race.Pacific.Islander\"\n",
       "[16] \"race.Unknown\"          \"race.White\"            \"Temp\"                 \n",
       "[19] \"DBP\"                   \"SBP\"                   \"Pulse\"                \n",
       "[22] \"RR\"                    \"Lactate\"               \"PO2_a\"                \n",
       "[25] \"pH_a\"                  \"TCO2_a\"                \"AnionGap\"             \n",
       "[28] \"HCO3_a\"                \"O2sat_a\"               \"pCO2_a\"               \n",
       "[31] \"Neut\"                  \"HCO3_v\"                \"BUN\"                  \n",
       "[34] \"Cl\"                    \"K\"                     \"Base\"                 \n",
       "[37] \"Ca\"                    \"Cr\"                    \"Na\"                   \n",
       "[40] \"PT\"                    \"TProtein\"              \"ALB\"                  \n",
       "[43] \"ALT\"                   \"AST\"                   \"CO2\"                  \n",
       "[46] \"Glucose\"               \"Hct\"                   \"Hgb\"                  \n",
       "[49] \"INR\"                   \"MCH\"                   \"pH_v\"                 \n",
       "[52] \"Platelet\"              \"RDW\"                   \"Trop\"                 \n",
       "[55] \"WBC\"                   \"ALK\"                   \"eGFR\"                 \n",
       "[58] \"Glob\"                  \"PO2_v\"                 \"TBili\"                \n",
       "[61] \"Eos\"                   \"Lymp\"                  \"pCO2_v\"               \n",
       "[64] \"Basos\"                 \"Mono\"                  \"O2sat_v\"              "
      ]
     },
     "metadata": {},
     "output_type": "display_data"
    }
   ],
   "source": [
    "# this one is slow, main file with all values for prediction\n",
    "features <- read.csv(file.path(featuredir, \"2_7_coh4_feature_values.csv\"))\n",
    "nrow(features)\n",
    "colnames(features)\n",
    "unique(features$features)"
   ]
  },
  {
   "cell_type": "markdown",
   "metadata": {},
   "source": [
    "### Descriptive of cohort features:"
   ]
  },
  {
   "cell_type": "code",
   "execution_count": 52,
   "metadata": {},
   "outputs": [
    {
     "name": "stderr",
     "output_type": "stream",
     "text": [
      "Joining, by = c(\"anon_id\", \"pat_enc_csn_id_coded\", \"inpatient_data_id_coded\", \"admit_time\")\n",
      "\n"
     ]
    },
    {
     "data": {
      "text/html": [
       "43980"
      ],
      "text/latex": [
       "43980"
      ],
      "text/markdown": [
       "43980"
      ],
      "text/plain": [
       "[1] 43980"
      ]
     },
     "metadata": {},
     "output_type": "display_data"
    },
    {
     "data": {
      "text/html": [
       "<style>\n",
       ".list-inline {list-style: none; margin:0; padding: 0}\n",
       ".list-inline>li {display: inline-block}\n",
       ".list-inline>li:not(:last-child)::after {content: \"\\00b7\"; padding: 0 .5ex}\n",
       "</style>\n",
       "<ol class=list-inline><li>'anon_id'</li><li>'pat_enc_csn_id_coded'</li><li>'inpatient_data_id_coded'</li><li>'admit_time'</li><li>'label_max24'</li><li>'label_24hr_recent'</li><li>'admit_label'</li><li>'has_admit_label'</li><li>'died_within_24hrs'</li><li>'death_24hr_max_label'</li><li>'death_24hr_recent_label'</li><li>'first_label'</li><li>'first_label_minutes_since_admit'</li><li>'acute_to_critical_label_recent'</li><li>'critical_to_acute_label_recent'</li><li>'acute_to_critical_label_max'</li><li>'critical_to_acute_label_max'</li><li>'label'</li><li>'ESI'</li><li>'gender'</li><li>'race'</li><li>'recent_height_cm'</li><li>'recent_weight_kg'</li><li>'insurance'</li><li>'recent_date'</li><li>'age'</li><li>'English'</li></ol>\n"
      ],
      "text/latex": [
       "\\begin{enumerate*}\n",
       "\\item 'anon\\_id'\n",
       "\\item 'pat\\_enc\\_csn\\_id\\_coded'\n",
       "\\item 'inpatient\\_data\\_id\\_coded'\n",
       "\\item 'admit\\_time'\n",
       "\\item 'label\\_max24'\n",
       "\\item 'label\\_24hr\\_recent'\n",
       "\\item 'admit\\_label'\n",
       "\\item 'has\\_admit\\_label'\n",
       "\\item 'died\\_within\\_24hrs'\n",
       "\\item 'death\\_24hr\\_max\\_label'\n",
       "\\item 'death\\_24hr\\_recent\\_label'\n",
       "\\item 'first\\_label'\n",
       "\\item 'first\\_label\\_minutes\\_since\\_admit'\n",
       "\\item 'acute\\_to\\_critical\\_label\\_recent'\n",
       "\\item 'critical\\_to\\_acute\\_label\\_recent'\n",
       "\\item 'acute\\_to\\_critical\\_label\\_max'\n",
       "\\item 'critical\\_to\\_acute\\_label\\_max'\n",
       "\\item 'label'\n",
       "\\item 'ESI'\n",
       "\\item 'gender'\n",
       "\\item 'race'\n",
       "\\item 'recent\\_height\\_cm'\n",
       "\\item 'recent\\_weight\\_kg'\n",
       "\\item 'insurance'\n",
       "\\item 'recent\\_date'\n",
       "\\item 'age'\n",
       "\\item 'English'\n",
       "\\end{enumerate*}\n"
      ],
      "text/markdown": [
       "1. 'anon_id'\n",
       "2. 'pat_enc_csn_id_coded'\n",
       "3. 'inpatient_data_id_coded'\n",
       "4. 'admit_time'\n",
       "5. 'label_max24'\n",
       "6. 'label_24hr_recent'\n",
       "7. 'admit_label'\n",
       "8. 'has_admit_label'\n",
       "9. 'died_within_24hrs'\n",
       "10. 'death_24hr_max_label'\n",
       "11. 'death_24hr_recent_label'\n",
       "12. 'first_label'\n",
       "13. 'first_label_minutes_since_admit'\n",
       "14. 'acute_to_critical_label_recent'\n",
       "15. 'critical_to_acute_label_recent'\n",
       "16. 'acute_to_critical_label_max'\n",
       "17. 'critical_to_acute_label_max'\n",
       "18. 'label'\n",
       "19. 'ESI'\n",
       "20. 'gender'\n",
       "21. 'race'\n",
       "22. 'recent_height_cm'\n",
       "23. 'recent_weight_kg'\n",
       "24. 'insurance'\n",
       "25. 'recent_date'\n",
       "26. 'age'\n",
       "27. 'English'\n",
       "\n",
       "\n"
      ],
      "text/plain": [
       " [1] \"anon_id\"                         \"pat_enc_csn_id_coded\"           \n",
       " [3] \"inpatient_data_id_coded\"         \"admit_time\"                     \n",
       " [5] \"label_max24\"                     \"label_24hr_recent\"              \n",
       " [7] \"admit_label\"                     \"has_admit_label\"                \n",
       " [9] \"died_within_24hrs\"               \"death_24hr_max_label\"           \n",
       "[11] \"death_24hr_recent_label\"         \"first_label\"                    \n",
       "[13] \"first_label_minutes_since_admit\" \"acute_to_critical_label_recent\" \n",
       "[15] \"critical_to_acute_label_recent\"  \"acute_to_critical_label_max\"    \n",
       "[17] \"critical_to_acute_label_max\"     \"label\"                          \n",
       "[19] \"ESI\"                             \"gender\"                         \n",
       "[21] \"race\"                            \"recent_height_cm\"               \n",
       "[23] \"recent_weight_kg\"                \"insurance\"                      \n",
       "[25] \"recent_date\"                     \"age\"                            \n",
       "[27] \"English\"                        "
      ]
     },
     "metadata": {},
     "output_type": "display_data"
    }
   ],
   "source": [
    "coh_demo <- left_join(cohort, demo)\n",
    "nrow(coh_demo)\n",
    "colnames(coh_demo)"
   ]
  },
  {
   "cell_type": "code",
   "execution_count": 55,
   "metadata": {},
   "outputs": [],
   "source": [
    "numvars <- c('age', 'recent_weight_kg', 'recent_height_cm', 'ESI')\n",
    "catvars <- c('gender', 'race', 'insurance', 'English')\n",
    "myvars <- c(numvars, catvars)"
   ]
  },
  {
   "cell_type": "code",
   "execution_count": 59,
   "metadata": {},
   "outputs": [
    {
     "data": {
      "text/plain": [
       "                              \n",
       "                               Overall       \n",
       "  n                             43980        \n",
       "  age (mean (SD))               58.26 (18.80)\n",
       "  recent_weight_kg (mean (SD))  76.55 (22.94)\n",
       "  recent_height_cm (mean (SD)) 167.94 (11.19)\n",
       "  ESI (mean (SD))                2.66 (0.52) "
      ]
     },
     "metadata": {},
     "output_type": "display_data"
    }
   ],
   "source": [
    "tab1 <- CreateTableOne(vars = numvars, data = coh_demo) # or numvars\n",
    "tab1"
   ]
  },
  {
   "cell_type": "code",
   "execution_count": 54,
   "metadata": {},
   "outputs": [
    {
     "data": {
      "text/plain": [
       "      ESI        recent_height_cm recent_weight_kg      age       \n",
       " Min.   :1.000   Min.   : 12.95   Min.   :  0.10   Min.   :18.00  \n",
       " 1st Qu.:2.000   1st Qu.:160.02   1st Qu.: 60.88   1st Qu.:44.00  \n",
       " Median :3.000   Median :167.64   Median : 73.10   Median :60.00  \n",
       " Mean   :2.659   Mean   :167.94   Mean   : 76.55   Mean   :58.26  \n",
       " 3rd Qu.:3.000   3rd Qu.:175.26   3rd Qu.: 88.00   3rd Qu.:73.00  \n",
       " Max.   :5.000   Max.   :210.82   Max.   :320.69   Max.   :90.00  \n",
       " NA's   :1706    NA's   :1346     NA's   :293                     "
      ]
     },
     "metadata": {},
     "output_type": "display_data"
    }
   ],
   "source": [
    "summary(coh_demo[, c('ESI',  'recent_height_cm', 'recent_weight_kg', 'age')])"
   ]
  },
  {
   "cell_type": "code",
   "execution_count": 61,
   "metadata": {},
   "outputs": [
    {
     "data": {
      "text/html": [
       "43980"
      ],
      "text/latex": [
       "43980"
      ],
      "text/markdown": [
       "43980"
      ],
      "text/plain": [
       "[1] 43980"
      ]
     },
     "metadata": {},
     "output_type": "display_data"
    },
    {
     "data": {
      "text/html": [
       "3.87903592542065"
      ],
      "text/latex": [
       "3.87903592542065"
      ],
      "text/markdown": [
       "3.87903592542065"
      ],
      "text/plain": [
       "[1] 3.879036"
      ]
     },
     "metadata": {},
     "output_type": "display_data"
    },
    {
     "data": {
      "text/html": [
       "3.06048203728968"
      ],
      "text/latex": [
       "3.06048203728968"
      ],
      "text/markdown": [
       "3.06048203728968"
      ],
      "text/plain": [
       "[1] 3.060482"
      ]
     },
     "metadata": {},
     "output_type": "display_data"
    },
    {
     "data": {
      "text/html": [
       "0.666211914506594"
      ],
      "text/latex": [
       "0.666211914506594"
      ],
      "text/markdown": [
       "0.666211914506594"
      ],
      "text/plain": [
       "[1] 0.6662119"
      ]
     },
     "metadata": {},
     "output_type": "display_data"
    }
   ],
   "source": [
    "# missing values (%)\n",
    "n=nrow(cohort)\n",
    "n\n",
    "1706/n*100; 1346/n*100; 293/n*100"
   ]
  },
  {
   "cell_type": "code",
   "execution_count": 60,
   "metadata": {},
   "outputs": [
    {
     "data": {
      "text/plain": [
       "                     \n",
       "                      Overall      \n",
       "  n                   43980        \n",
       "  gender = Male (%)   22947 (52.2) \n",
       "  race (%)                         \n",
       "     Asian             6655 (15.1) \n",
       "     Black             3104 ( 7.1) \n",
       "     Native American    187 ( 0.4) \n",
       "     Other            10170 (23.1) \n",
       "     Pacific Islander   902 ( 2.1) \n",
       "     Unknown            382 ( 0.9) \n",
       "     White            22580 (51.3) \n",
       "  insurance = 1 (%)   18458 (42.0) \n",
       "  English = 1 (%)     37024 (84.2) "
      ]
     },
     "metadata": {},
     "output_type": "display_data"
    }
   ],
   "source": [
    "tab2 <- CreateTableOne(vars = catvars, data = coh_demo, factorVars = catvars)\n",
    "tab2"
   ]
  },
  {
   "cell_type": "code",
   "execution_count": 62,
   "metadata": {},
   "outputs": [
    {
     "data": {
      "text/html": [
       "21033"
      ],
      "text/latex": [
       "21033"
      ],
      "text/markdown": [
       "21033"
      ],
      "text/plain": [
       "[1] 21033"
      ]
     },
     "metadata": {},
     "output_type": "display_data"
    },
    {
     "data": {
      "text/html": [
       "25522"
      ],
      "text/latex": [
       "25522"
      ],
      "text/markdown": [
       "25522"
      ],
      "text/plain": [
       "[1] 25522"
      ]
     },
     "metadata": {},
     "output_type": "display_data"
    },
    {
     "data": {
      "text/html": [
       "6956"
      ],
      "text/latex": [
       "6956"
      ],
      "text/markdown": [
       "6956"
      ],
      "text/plain": [
       "[1] 6956"
      ]
     },
     "metadata": {},
     "output_type": "display_data"
    }
   ],
   "source": [
    "n-22947; n-18458; n-37024"
   ]
  },
  {
   "cell_type": "code",
   "execution_count": 63,
   "metadata": {},
   "outputs": [
    {
     "data": {
      "text/html": [
       "6086852"
      ],
      "text/latex": [
       "6086852"
      ],
      "text/markdown": [
       "6086852"
      ],
      "text/plain": [
       "[1] 6086852"
      ]
     },
     "metadata": {},
     "output_type": "display_data"
    }
   ],
   "source": [
    "# this one used 1_4_cohort to query orders\n",
    "orders4 <- read.csv(file.path(datadir, 'coh4_order_code_counts.csv'))\n",
    "nrow(orders4) #6086852"
   ]
  },
  {
   "cell_type": "code",
   "execution_count": 64,
   "metadata": {},
   "outputs": [
    {
     "data": {
      "text/html": [
       "<table>\n",
       "<caption>A grouped_df: 6 × 2</caption>\n",
       "<thead>\n",
       "\t<tr><th scope=col>feature_type</th><th scope=col>n</th></tr>\n",
       "\t<tr><th scope=col>&lt;chr&gt;</th><th scope=col>&lt;int&gt;</th></tr>\n",
       "</thead>\n",
       "<tbody>\n",
       "\t<tr><td>Diagnosis   </td><td>2834516</td></tr>\n",
       "\t<tr><td>Meds        </td><td>1868195</td></tr>\n",
       "\t<tr><td>Lab         </td><td> 993484</td></tr>\n",
       "\t<tr><td>Imaging     </td><td> 299944</td></tr>\n",
       "\t<tr><td>Procedures  </td><td>  51696</td></tr>\n",
       "\t<tr><td>Microbiology</td><td>  39017</td></tr>\n",
       "</tbody>\n",
       "</table>\n"
      ],
      "text/latex": [
       "A grouped\\_df: 6 × 2\n",
       "\\begin{tabular}{ll}\n",
       " feature\\_type & n\\\\\n",
       " <chr> & <int>\\\\\n",
       "\\hline\n",
       "\t Diagnosis    & 2834516\\\\\n",
       "\t Meds         & 1868195\\\\\n",
       "\t Lab          &  993484\\\\\n",
       "\t Imaging      &  299944\\\\\n",
       "\t Procedures   &   51696\\\\\n",
       "\t Microbiology &   39017\\\\\n",
       "\\end{tabular}\n"
      ],
      "text/markdown": [
       "\n",
       "A grouped_df: 6 × 2\n",
       "\n",
       "| feature_type &lt;chr&gt; | n &lt;int&gt; |\n",
       "|---|---|\n",
       "| Diagnosis    | 2834516 |\n",
       "| Meds         | 1868195 |\n",
       "| Lab          |  993484 |\n",
       "| Imaging      |  299944 |\n",
       "| Procedures   |   51696 |\n",
       "| Microbiology |   39017 |\n",
       "\n"
      ],
      "text/plain": [
       "  feature_type n      \n",
       "1 Diagnosis    2834516\n",
       "2 Meds         1868195\n",
       "3 Lab           993484\n",
       "4 Imaging       299944\n",
       "5 Procedures     51696\n",
       "6 Microbiology   39017"
      ]
     },
     "metadata": {},
     "output_type": "display_data"
    }
   ],
   "source": [
    "orders4_micro <- orders4 %>% mutate(feature_type = ifelse(str_detect(feature_type, \"Microbiology\"), \"Microbiology\", feature_type))\n",
    "orders4_micro %>% group_by(feature_type) %>% count(sort=TRUE)"
   ]
  },
  {
   "cell_type": "code",
   "execution_count": 66,
   "metadata": {},
   "outputs": [
    {
     "data": {
      "text/html": [
       "43970"
      ],
      "text/latex": [
       "43970"
      ],
      "text/markdown": [
       "43970"
      ],
      "text/plain": [
       "[1] 43970"
      ]
     },
     "metadata": {},
     "output_type": "display_data"
    }
   ],
   "source": [
    "length(unique(orders4_micro$pat_enc_csn_id_coded))"
   ]
  },
  {
   "cell_type": "code",
   "execution_count": 70,
   "metadata": {},
   "outputs": [
    {
     "name": "stderr",
     "output_type": "stream",
     "text": [
      "`summarise()` regrouping output by 'pat_enc_csn_id_coded' (override with `.groups` argument)\n",
      "\n",
      "`summarise()` ungrouping output (override with `.groups` argument)\n",
      "\n"
     ]
    },
    {
     "data": {
      "text/html": [
       "<table>\n",
       "<caption>A tibble: 6 × 3</caption>\n",
       "<thead>\n",
       "\t<tr><th scope=col>feature_type</th><th scope=col>mean</th><th scope=col>sd</th></tr>\n",
       "\t<tr><th scope=col>&lt;chr&gt;</th><th scope=col>&lt;dbl&gt;</th><th scope=col>&lt;dbl&gt;</th></tr>\n",
       "</thead>\n",
       "<tbody>\n",
       "\t<tr><td>Diagnosis   </td><td>74.490592</td><td>79.458565</td></tr>\n",
       "\t<tr><td>Imaging     </td><td> 7.360950</td><td> 6.774175</td></tr>\n",
       "\t<tr><td>Lab         </td><td>22.698348</td><td>20.773822</td></tr>\n",
       "\t<tr><td>Meds        </td><td>43.446395</td><td>49.258248</td></tr>\n",
       "\t<tr><td>Microbiology</td><td> 2.188278</td><td> 1.076025</td></tr>\n",
       "\t<tr><td>Procedures  </td><td> 2.681189</td><td> 2.343629</td></tr>\n",
       "</tbody>\n",
       "</table>\n"
      ],
      "text/latex": [
       "A tibble: 6 × 3\n",
       "\\begin{tabular}{lll}\n",
       " feature\\_type & mean & sd\\\\\n",
       " <chr> & <dbl> & <dbl>\\\\\n",
       "\\hline\n",
       "\t Diagnosis    & 74.490592 & 79.458565\\\\\n",
       "\t Imaging      &  7.360950 &  6.774175\\\\\n",
       "\t Lab          & 22.698348 & 20.773822\\\\\n",
       "\t Meds         & 43.446395 & 49.258248\\\\\n",
       "\t Microbiology &  2.188278 &  1.076025\\\\\n",
       "\t Procedures   &  2.681189 &  2.343629\\\\\n",
       "\\end{tabular}\n"
      ],
      "text/markdown": [
       "\n",
       "A tibble: 6 × 3\n",
       "\n",
       "| feature_type &lt;chr&gt; | mean &lt;dbl&gt; | sd &lt;dbl&gt; |\n",
       "|---|---|---|\n",
       "| Diagnosis    | 74.490592 | 79.458565 |\n",
       "| Imaging      |  7.360950 |  6.774175 |\n",
       "| Lab          | 22.698348 | 20.773822 |\n",
       "| Meds         | 43.446395 | 49.258248 |\n",
       "| Microbiology |  2.188278 |  1.076025 |\n",
       "| Procedures   |  2.681189 |  2.343629 |\n",
       "\n"
      ],
      "text/plain": [
       "  feature_type mean      sd       \n",
       "1 Diagnosis    74.490592 79.458565\n",
       "2 Imaging       7.360950  6.774175\n",
       "3 Lab          22.698348 20.773822\n",
       "4 Meds         43.446395 49.258248\n",
       "5 Microbiology  2.188278  1.076025\n",
       "6 Procedures    2.681189  2.343629"
      ]
     },
     "metadata": {},
     "output_type": "display_data"
    }
   ],
   "source": [
    "# note that 10 patients have 0 orders in all categories, very minor difference\n",
    "orders4_micro %>% group_by(pat_enc_csn_id_coded, feature_type) %>% summarize(n1=n()) %>% \n",
    "                    group_by(feature_type) %>% summarize(mean=mean(n1), sd=sd(n1))"
   ]
  },
  {
   "cell_type": "markdown",
   "metadata": {},
   "source": [
    "### Descriptive statistics of the 1_4_cohort"
   ]
  },
  {
   "cell_type": "code",
   "execution_count": 13,
   "metadata": {},
   "outputs": [
    {
     "data": {
      "text/html": [
       "43980"
      ],
      "text/latex": [
       "43980"
      ],
      "text/markdown": [
       "43980"
      ],
      "text/plain": [
       "[1] 43980"
      ]
     },
     "metadata": {},
     "output_type": "display_data"
    },
    {
     "data": {
      "text/html": [
       "<table>\n",
       "<caption>A data.frame: 1 × 13</caption>\n",
       "<thead>\n",
       "\t<tr><th scope=col>label_max24</th><th scope=col>label_24hr_recent</th><th scope=col>admit_label</th><th scope=col>has_admit_label</th><th scope=col>died_within_24hrs</th><th scope=col>death_24hr_max_label</th><th scope=col>death_24hr_recent_label</th><th scope=col>first_label</th><th scope=col>first_label_minutes_since_admit</th><th scope=col>acute_to_critical_label_recent</th><th scope=col>critical_to_acute_label_recent</th><th scope=col>acute_to_critical_label_max</th><th scope=col>critical_to_acute_label_max</th></tr>\n",
       "\t<tr><th scope=col>&lt;int&gt;</th><th scope=col>&lt;int&gt;</th><th scope=col>&lt;int&gt;</th><th scope=col>&lt;int&gt;</th><th scope=col>&lt;int&gt;</th><th scope=col>&lt;int&gt;</th><th scope=col>&lt;int&gt;</th><th scope=col>&lt;int&gt;</th><th scope=col>&lt;dbl&gt;</th><th scope=col>&lt;int&gt;</th><th scope=col>&lt;int&gt;</th><th scope=col>&lt;int&gt;</th><th scope=col>&lt;int&gt;</th></tr>\n",
       "</thead>\n",
       "<tbody>\n",
       "\t<tr><td>5952</td><td>4156</td><td>4758</td><td>43272</td><td>20</td><td>5959</td><td>4164</td><td>4839</td><td>148607</td><td>912</td><td>1587</td><td>1120</td><td>0</td></tr>\n",
       "</tbody>\n",
       "</table>\n"
      ],
      "text/latex": [
       "A data.frame: 1 × 13\n",
       "\\begin{tabular}{lllllllllllll}\n",
       " label\\_max24 & label\\_24hr\\_recent & admit\\_label & has\\_admit\\_label & died\\_within\\_24hrs & death\\_24hr\\_max\\_label & death\\_24hr\\_recent\\_label & first\\_label & first\\_label\\_minutes\\_since\\_admit & acute\\_to\\_critical\\_label\\_recent & critical\\_to\\_acute\\_label\\_recent & acute\\_to\\_critical\\_label\\_max & critical\\_to\\_acute\\_label\\_max\\\\\n",
       " <int> & <int> & <int> & <int> & <int> & <int> & <int> & <int> & <dbl> & <int> & <int> & <int> & <int>\\\\\n",
       "\\hline\n",
       "\t 5952 & 4156 & 4758 & 43272 & 20 & 5959 & 4164 & 4839 & 148607 & 912 & 1587 & 1120 & 0\\\\\n",
       "\\end{tabular}\n"
      ],
      "text/markdown": [
       "\n",
       "A data.frame: 1 × 13\n",
       "\n",
       "| label_max24 &lt;int&gt; | label_24hr_recent &lt;int&gt; | admit_label &lt;int&gt; | has_admit_label &lt;int&gt; | died_within_24hrs &lt;int&gt; | death_24hr_max_label &lt;int&gt; | death_24hr_recent_label &lt;int&gt; | first_label &lt;int&gt; | first_label_minutes_since_admit &lt;dbl&gt; | acute_to_critical_label_recent &lt;int&gt; | critical_to_acute_label_recent &lt;int&gt; | acute_to_critical_label_max &lt;int&gt; | critical_to_acute_label_max &lt;int&gt; |\n",
       "|---|---|---|---|---|---|---|---|---|---|---|---|---|\n",
       "| 5952 | 4156 | 4758 | 43272 | 20 | 5959 | 4164 | 4839 | 148607 | 912 | 1587 | 1120 | 0 |\n",
       "\n"
      ],
      "text/plain": [
       "  label_max24 label_24hr_recent admit_label has_admit_label died_within_24hrs\n",
       "1 5952        4156              4758        43272           20               \n",
       "  death_24hr_max_label death_24hr_recent_label first_label\n",
       "1 5959                 4164                    4839       \n",
       "  first_label_minutes_since_admit acute_to_critical_label_recent\n",
       "1 148607                          912                           \n",
       "  critical_to_acute_label_recent acute_to_critical_label_max\n",
       "1 1587                           1120                       \n",
       "  critical_to_acute_label_max\n",
       "1 0                          "
      ]
     },
     "metadata": {},
     "output_type": "display_data"
    },
    {
     "data": {
      "text/html": [
       "<table>\n",
       "<caption>A data.frame: 1 × 13</caption>\n",
       "<thead>\n",
       "\t<tr><th scope=col>label_max24</th><th scope=col>label_24hr_recent</th><th scope=col>admit_label</th><th scope=col>has_admit_label</th><th scope=col>died_within_24hrs</th><th scope=col>death_24hr_max_label</th><th scope=col>death_24hr_recent_label</th><th scope=col>first_label</th><th scope=col>first_label_minutes_since_admit</th><th scope=col>acute_to_critical_label_recent</th><th scope=col>critical_to_acute_label_recent</th><th scope=col>acute_to_critical_label_max</th><th scope=col>critical_to_acute_label_max</th></tr>\n",
       "\t<tr><th scope=col>&lt;dbl&gt;</th><th scope=col>&lt;dbl&gt;</th><th scope=col>&lt;dbl&gt;</th><th scope=col>&lt;dbl&gt;</th><th scope=col>&lt;dbl&gt;</th><th scope=col>&lt;dbl&gt;</th><th scope=col>&lt;dbl&gt;</th><th scope=col>&lt;dbl&gt;</th><th scope=col>&lt;dbl&gt;</th><th scope=col>&lt;dbl&gt;</th><th scope=col>&lt;dbl&gt;</th><th scope=col>&lt;dbl&gt;</th><th scope=col>&lt;dbl&gt;</th></tr>\n",
       "</thead>\n",
       "<tbody>\n",
       "\t<tr><td>13.53342</td><td>9.44975</td><td>10.81855</td><td>98.39018</td><td>0.04547522</td><td>13.54934</td><td>9.46794</td><td>11.00273</td><td>337.8968</td><td>2.07367</td><td>3.608458</td><td>2.546612</td><td>0</td></tr>\n",
       "</tbody>\n",
       "</table>\n"
      ],
      "text/latex": [
       "A data.frame: 1 × 13\n",
       "\\begin{tabular}{lllllllllllll}\n",
       " label\\_max24 & label\\_24hr\\_recent & admit\\_label & has\\_admit\\_label & died\\_within\\_24hrs & death\\_24hr\\_max\\_label & death\\_24hr\\_recent\\_label & first\\_label & first\\_label\\_minutes\\_since\\_admit & acute\\_to\\_critical\\_label\\_recent & critical\\_to\\_acute\\_label\\_recent & acute\\_to\\_critical\\_label\\_max & critical\\_to\\_acute\\_label\\_max\\\\\n",
       " <dbl> & <dbl> & <dbl> & <dbl> & <dbl> & <dbl> & <dbl> & <dbl> & <dbl> & <dbl> & <dbl> & <dbl> & <dbl>\\\\\n",
       "\\hline\n",
       "\t 13.53342 & 9.44975 & 10.81855 & 98.39018 & 0.04547522 & 13.54934 & 9.46794 & 11.00273 & 337.8968 & 2.07367 & 3.608458 & 2.546612 & 0\\\\\n",
       "\\end{tabular}\n"
      ],
      "text/markdown": [
       "\n",
       "A data.frame: 1 × 13\n",
       "\n",
       "| label_max24 &lt;dbl&gt; | label_24hr_recent &lt;dbl&gt; | admit_label &lt;dbl&gt; | has_admit_label &lt;dbl&gt; | died_within_24hrs &lt;dbl&gt; | death_24hr_max_label &lt;dbl&gt; | death_24hr_recent_label &lt;dbl&gt; | first_label &lt;dbl&gt; | first_label_minutes_since_admit &lt;dbl&gt; | acute_to_critical_label_recent &lt;dbl&gt; | critical_to_acute_label_recent &lt;dbl&gt; | acute_to_critical_label_max &lt;dbl&gt; | critical_to_acute_label_max &lt;dbl&gt; |\n",
       "|---|---|---|---|---|---|---|---|---|---|---|---|---|\n",
       "| 13.53342 | 9.44975 | 10.81855 | 98.39018 | 0.04547522 | 13.54934 | 9.46794 | 11.00273 | 337.8968 | 2.07367 | 3.608458 | 2.546612 | 0 |\n",
       "\n"
      ],
      "text/plain": [
       "  label_max24 label_24hr_recent admit_label has_admit_label died_within_24hrs\n",
       "1 13.53342    9.44975           10.81855    98.39018        0.04547522       \n",
       "  death_24hr_max_label death_24hr_recent_label first_label\n",
       "1 13.54934             9.46794                 11.00273   \n",
       "  first_label_minutes_since_admit acute_to_critical_label_recent\n",
       "1 337.8968                        2.07367                       \n",
       "  critical_to_acute_label_recent acute_to_critical_label_max\n",
       "1 3.608458                       2.546612                   \n",
       "  critical_to_acute_label_max\n",
       "1 0                          "
      ]
     },
     "metadata": {},
     "output_type": "display_data"
    }
   ],
   "source": [
    "n = nrow(cohort)\n",
    "n\n",
    "\n",
    "cohort %>% select(-pat_enc_csn_id_coded, -inpatient_data_id_coded) %>% \n",
    "        summarize_if(is.numeric, sum, na.rm=TRUE)\n",
    "cohort %>% select(-pat_enc_csn_id_coded, -inpatient_data_id_coded) %>% \n",
    "        summarize_if(is.numeric, sum, na.rm=TRUE)/n *100"
   ]
  },
  {
   "cell_type": "code",
   "execution_count": 14,
   "metadata": {},
   "outputs": [
    {
     "data": {
      "text/html": [
       "30451"
      ],
      "text/latex": [
       "30451"
      ],
      "text/markdown": [
       "30451"
      ],
      "text/plain": [
       "[1] 30451"
      ]
     },
     "metadata": {},
     "output_type": "display_data"
    },
    {
     "data": {
      "text/html": [
       "69.2382901318781"
      ],
      "text/latex": [
       "69.2382901318781"
      ],
      "text/markdown": [
       "69.2382901318781"
      ],
      "text/plain": [
       "[1] 69.23829"
      ]
     },
     "metadata": {},
     "output_type": "display_data"
    },
    {
     "name": "stderr",
     "output_type": "stream",
     "text": [
      "`summarise()` ungrouping output (override with `.groups` argument)\n",
      "\n"
     ]
    },
    {
     "data": {
      "text/html": [
       "<table>\n",
       "<caption>A tibble: 6 × 2</caption>\n",
       "<thead>\n",
       "\t<tr><th scope=col>year</th><th scope=col>n</th></tr>\n",
       "\t<tr><th scope=col>&lt;dbl&gt;</th><th scope=col>&lt;int&gt;</th></tr>\n",
       "</thead>\n",
       "<tbody>\n",
       "\t<tr><td>2015</td><td> 8138</td></tr>\n",
       "\t<tr><td>2016</td><td> 7050</td></tr>\n",
       "\t<tr><td>2017</td><td> 6842</td></tr>\n",
       "\t<tr><td>2018</td><td> 9532</td></tr>\n",
       "\t<tr><td>2019</td><td>10115</td></tr>\n",
       "\t<tr><td>2020</td><td> 2303</td></tr>\n",
       "</tbody>\n",
       "</table>\n"
      ],
      "text/latex": [
       "A tibble: 6 × 2\n",
       "\\begin{tabular}{ll}\n",
       " year & n\\\\\n",
       " <dbl> & <int>\\\\\n",
       "\\hline\n",
       "\t 2015 &  8138\\\\\n",
       "\t 2016 &  7050\\\\\n",
       "\t 2017 &  6842\\\\\n",
       "\t 2018 &  9532\\\\\n",
       "\t 2019 & 10115\\\\\n",
       "\t 2020 &  2303\\\\\n",
       "\\end{tabular}\n"
      ],
      "text/markdown": [
       "\n",
       "A tibble: 6 × 2\n",
       "\n",
       "| year &lt;dbl&gt; | n &lt;int&gt; |\n",
       "|---|---|\n",
       "| 2015 |  8138 |\n",
       "| 2016 |  7050 |\n",
       "| 2017 |  6842 |\n",
       "| 2018 |  9532 |\n",
       "| 2019 | 10115 |\n",
       "| 2020 |  2303 |\n",
       "\n"
      ],
      "text/plain": [
       "  year n    \n",
       "1 2015  8138\n",
       "2 2016  7050\n",
       "3 2017  6842\n",
       "4 2018  9532\n",
       "5 2019 10115\n",
       "6 2020  2303"
      ]
     },
     "metadata": {},
     "output_type": "display_data"
    },
    {
     "data": {
      "text/html": [
       "12418"
      ],
      "text/latex": [
       "12418"
      ],
      "text/markdown": [
       "12418"
      ],
      "text/plain": [
       "[1] 12418"
      ]
     },
     "metadata": {},
     "output_type": "display_data"
    },
    {
     "data": {
      "text/html": [
       "9780"
      ],
      "text/latex": [
       "9780"
      ],
      "text/markdown": [
       "9780"
      ],
      "text/plain": [
       "[1] 9780"
      ]
     },
     "metadata": {},
     "output_type": "display_data"
    },
    {
     "data": {
      "text/html": [
       "22553"
      ],
      "text/latex": [
       "22553"
      ],
      "text/markdown": [
       "22553"
      ],
      "text/plain": [
       "[1] 22553"
      ]
     },
     "metadata": {},
     "output_type": "display_data"
    },
    {
     "data": {
      "text/html": [
       "7898"
      ],
      "text/latex": [
       "7898"
      ],
      "text/markdown": [
       "7898"
      ],
      "text/plain": [
       "[1] 7898"
      ]
     },
     "metadata": {},
     "output_type": "display_data"
    },
    {
     "data": {
      "text/html": [
       "80.7566462167689"
      ],
      "text/latex": [
       "80.7566462167689"
      ],
      "text/markdown": [
       "80.7566462167689"
      ],
      "text/plain": [
       "[1] 80.75665"
      ]
     },
     "metadata": {},
     "output_type": "display_data"
    }
   ],
   "source": [
    "# table(cohort$label_24hr_recent)\n",
    "length(unique(cohort$anon_id))\n",
    "length(unique(cohort$anon_id)) / n*100\n",
    "\n",
    "cohort_year <- cohort %>% mutate(year = year(admit_time))\n",
    "cohort_year %>% group_by(year) %>% summarize(n=n())\n",
    "10115 + 2303\n",
    "\n",
    "testid <- cohort_year %>% filter(year > 2018) %>% distinct(anon_id)\n",
    "trainvalid <- cohort_year %>% filter(year < 2019) %>% distinct(anon_id)\n",
    "\n",
    "nrow(testid)\n",
    "nrow(trainvalid)\n",
    "\n",
    "# in test but not in trainval \n",
    "length(setdiff(testid$anon_id,trainvalid$anon_id))\n",
    "length(setdiff(testid$anon_id,trainvalid$anon_id))/ nrow(testid)*100"
   ]
  },
  {
   "cell_type": "markdown",
   "metadata": {},
   "source": [
    " ### check ESI by race"
   ]
  },
  {
   "cell_type": "code",
   "execution_count": 50,
   "metadata": {},
   "outputs": [
    {
     "name": "stderr",
     "output_type": "stream",
     "text": [
      "Joining, by = c(\"anon_id\", \"pat_enc_csn_id_coded\")\n",
      "\n",
      "Joining, by = c(\"anon_id\", \"pat_enc_csn_id_coded\")\n",
      "\n"
     ]
    },
    {
     "data": {
      "text/html": [
       "43980"
      ],
      "text/latex": [
       "43980"
      ],
      "text/markdown": [
       "43980"
      ],
      "text/plain": [
       "[1] 43980"
      ]
     },
     "metadata": {},
     "output_type": "display_data"
    },
    {
     "data": {
      "text/plain": [
       "   anon_id          pat_enc_csn_id_coded inpatient_data_id_coded\n",
       " Length:43980       Min.   :1.311e+11    Min.   :13616753       \n",
       " Class :character   1st Qu.:1.312e+11    1st Qu.:19861137       \n",
       " Mode  :character   Median :1.312e+11    Median :27876162       \n",
       "                    Mean   :1.312e+11    Mean   :28124485       \n",
       "                    3rd Qu.:1.313e+11    3rd Qu.:34360245       \n",
       "                    Max.   :1.313e+11    Max.   :48026130       \n",
       "                                                                \n",
       "   admit_time                   label_max24     label_24hr_recent\n",
       " Min.   :2015-01-01 08:24:00   Min.   :0.0000   Min.   :0.0000   \n",
       " 1st Qu.:2016-05-21 21:18:15   1st Qu.:0.0000   1st Qu.:0.0000   \n",
       " Median :2017-12-29 20:46:30   Median :0.0000   Median :0.0000   \n",
       " Mean   :2017-10-11 23:21:00   Mean   :0.1353   Mean   :0.0945   \n",
       " 3rd Qu.:2019-02-17 03:08:45   3rd Qu.:0.0000   3rd Qu.:0.0000   \n",
       " Max.   :2020-03-31 07:00:00   Max.   :1.0000   Max.   :1.0000   \n",
       "                                                                 \n",
       "  admit_label   has_admit_label  died_within_24hrs   death_24hr_max_label\n",
       " Min.   :0.00   Min.   :0.0000   Min.   :0.0000000   Min.   :0.0000      \n",
       " 1st Qu.:0.00   1st Qu.:1.0000   1st Qu.:0.0000000   1st Qu.:0.0000      \n",
       " Median :0.00   Median :1.0000   Median :0.0000000   Median :0.0000      \n",
       " Mean   :0.11   Mean   :0.9839   Mean   :0.0004548   Mean   :0.1355      \n",
       " 3rd Qu.:0.00   3rd Qu.:1.0000   3rd Qu.:0.0000000   3rd Qu.:0.0000      \n",
       " Max.   :1.00   Max.   :1.0000   Max.   :1.0000000   Max.   :1.0000      \n",
       " NA's   :708                                                             \n",
       " death_24hr_recent_label  first_label   first_label_minutes_since_admit\n",
       " Min.   :0.00000         Min.   :0.00   Min.   :   0.000               \n",
       " 1st Qu.:0.00000         1st Qu.:0.00   1st Qu.:   0.000               \n",
       " Median :0.00000         Median :0.00   Median :   0.000               \n",
       " Mean   :0.09468         Mean   :0.11   Mean   :   3.379               \n",
       " 3rd Qu.:0.00000         3rd Qu.:0.00   3rd Qu.:   0.000               \n",
       " Max.   :1.00000         Max.   :1.00   Max.   :1411.000               \n",
       "                                                                       \n",
       " acute_to_critical_label_recent critical_to_acute_label_recent\n",
       " Min.   :0.00000                Min.   :0.00000               \n",
       " 1st Qu.:0.00000                1st Qu.:0.00000               \n",
       " Median :0.00000                Median :0.00000               \n",
       " Mean   :0.02074                Mean   :0.03608               \n",
       " 3rd Qu.:0.00000                3rd Qu.:0.00000               \n",
       " Max.   :1.00000                Max.   :1.00000               \n",
       "                                                              \n",
       " acute_to_critical_label_max critical_to_acute_label_max\n",
       " Min.   :0.00000             Min.   :0                  \n",
       " 1st Qu.:0.00000             1st Qu.:0                  \n",
       " Median :0.00000             Median :0                  \n",
       " Mean   :0.02547             Mean   :0                  \n",
       " 3rd Qu.:0.00000             3rd Qu.:0                  \n",
       " Max.   :1.00000             Max.   :0                  \n",
       "                                                        \n",
       "               race            ESI       \n",
       " Asian           : 6655   Min.   :1.000  \n",
       " Black           : 3104   1st Qu.:2.000  \n",
       " Native American :  187   Median :3.000  \n",
       " Other           :10170   Mean   :2.658  \n",
       " Pacific Islander:  902   3rd Qu.:3.000  \n",
       " Unknown         :  382   Max.   :5.000  \n",
       " White           :22580                  "
      ]
     },
     "metadata": {},
     "output_type": "display_data"
    },
    {
     "data": {
      "image/png": "[encoded data removed]",
      "text/plain": [
       "Plot with title \"Histogram of coh_race$ESI\""
      ]
     },
     "metadata": {
      "image/png": {
       "height": 420,
       "width": 600
      }
     },
     "output_type": "display_data"
    }
   ],
   "source": [
    "race <- demo %>% select(anon_id, pat_enc_csn_id_coded, race)\n",
    "coh_race <- left_join(cohort, race) %>% left_join(esi) %>% mutate(race=factor(race))\n",
    "nrow(coh_race)\n",
    "summary(coh_race)\n",
    "\n",
    "hist(coh_race$ESI)"
   ]
  },
  {
   "cell_type": "code",
   "execution_count": 51,
   "metadata": {},
   "outputs": [
    {
     "name": "stderr",
     "output_type": "stream",
     "text": [
      "`summarise()` regrouping output by 'race' (override with `.groups` argument)\n",
      "\n"
     ]
    },
    {
     "data": {
      "text/html": [
       "<table>\n",
       "<caption>A grouped_df: 32 × 5</caption>\n",
       "<thead>\n",
       "\t<tr><th scope=col>race</th><th scope=col>ESI</th><th scope=col>n</th><th scope=col>ntotal</th><th scope=col>group_percentage</th></tr>\n",
       "\t<tr><th scope=col>&lt;fct&gt;</th><th scope=col>&lt;int&gt;</th><th scope=col>&lt;int&gt;</th><th scope=col>&lt;int&gt;</th><th scope=col>&lt;dbl&gt;</th></tr>\n",
       "</thead>\n",
       "<tbody>\n",
       "\t<tr><td>Asian           </td><td>1</td><td>   69</td><td> 6655</td><td> 1.04</td></tr>\n",
       "\t<tr><td>Asian           </td><td>2</td><td> 2307</td><td> 6655</td><td>34.67</td></tr>\n",
       "\t<tr><td>Asian           </td><td>3</td><td> 4224</td><td> 6655</td><td>63.47</td></tr>\n",
       "\t<tr><td>Asian           </td><td>4</td><td>   53</td><td> 6655</td><td> 0.80</td></tr>\n",
       "\t<tr><td>Asian           </td><td>5</td><td>    2</td><td> 6655</td><td> 0.03</td></tr>\n",
       "\t<tr><td>Black           </td><td>1</td><td>   43</td><td> 3104</td><td> 1.39</td></tr>\n",
       "\t<tr><td>Black           </td><td>2</td><td> 1084</td><td> 3104</td><td>34.92</td></tr>\n",
       "\t<tr><td>Black           </td><td>3</td><td> 1938</td><td> 3104</td><td>62.44</td></tr>\n",
       "\t<tr><td>Black           </td><td>4</td><td>   36</td><td> 3104</td><td> 1.16</td></tr>\n",
       "\t<tr><td>Black           </td><td>5</td><td>    3</td><td> 3104</td><td> 0.10</td></tr>\n",
       "\t<tr><td>Native American </td><td>1</td><td>    2</td><td>  187</td><td> 1.07</td></tr>\n",
       "\t<tr><td>Native American </td><td>2</td><td>   51</td><td>  187</td><td>27.27</td></tr>\n",
       "\t<tr><td>Native American </td><td>3</td><td>  133</td><td>  187</td><td>71.12</td></tr>\n",
       "\t<tr><td>Native American </td><td>4</td><td>    1</td><td>  187</td><td> 0.53</td></tr>\n",
       "\t<tr><td>Other           </td><td>1</td><td>   91</td><td>10170</td><td> 0.89</td></tr>\n",
       "\t<tr><td>Other           </td><td>2</td><td> 3104</td><td>10170</td><td>30.52</td></tr>\n",
       "\t<tr><td>Other           </td><td>3</td><td> 6878</td><td>10170</td><td>67.63</td></tr>\n",
       "\t<tr><td>Other           </td><td>4</td><td>   93</td><td>10170</td><td> 0.91</td></tr>\n",
       "\t<tr><td>Other           </td><td>5</td><td>    4</td><td>10170</td><td> 0.04</td></tr>\n",
       "\t<tr><td>Pacific Islander</td><td>1</td><td>   14</td><td>  902</td><td> 1.55</td></tr>\n",
       "\t<tr><td>Pacific Islander</td><td>2</td><td>  312</td><td>  902</td><td>34.59</td></tr>\n",
       "\t<tr><td>Pacific Islander</td><td>3</td><td>  568</td><td>  902</td><td>62.97</td></tr>\n",
       "\t<tr><td>Pacific Islander</td><td>4</td><td>    8</td><td>  902</td><td> 0.89</td></tr>\n",
       "\t<tr><td>Unknown         </td><td>1</td><td>   13</td><td>  382</td><td> 3.40</td></tr>\n",
       "\t<tr><td>Unknown         </td><td>2</td><td>  140</td><td>  382</td><td>36.65</td></tr>\n",
       "\t<tr><td>Unknown         </td><td>3</td><td>  226</td><td>  382</td><td>59.16</td></tr>\n",
       "\t<tr><td>Unknown         </td><td>4</td><td>    3</td><td>  382</td><td> 0.79</td></tr>\n",
       "\t<tr><td>White           </td><td>1</td><td>  240</td><td>22580</td><td> 1.06</td></tr>\n",
       "\t<tr><td>White           </td><td>2</td><td> 7533</td><td>22580</td><td>33.36</td></tr>\n",
       "\t<tr><td>White           </td><td>3</td><td>14589</td><td>22580</td><td>64.61</td></tr>\n",
       "\t<tr><td>White           </td><td>4</td><td>  211</td><td>22580</td><td> 0.93</td></tr>\n",
       "\t<tr><td>White           </td><td>5</td><td>    7</td><td>22580</td><td> 0.03</td></tr>\n",
       "</tbody>\n",
       "</table>\n"
      ],
      "text/latex": [
       "A grouped\\_df: 32 × 5\n",
       "\\begin{tabular}{lllll}\n",
       " race & ESI & n & ntotal & group\\_percentage\\\\\n",
       " <fct> & <int> & <int> & <int> & <dbl>\\\\\n",
       "\\hline\n",
       "\t Asian            & 1 &    69 &  6655 &  1.04\\\\\n",
       "\t Asian            & 2 &  2307 &  6655 & 34.67\\\\\n",
       "\t Asian            & 3 &  4224 &  6655 & 63.47\\\\\n",
       "\t Asian            & 4 &    53 &  6655 &  0.80\\\\\n",
       "\t Asian            & 5 &     2 &  6655 &  0.03\\\\\n",
       "\t Black            & 1 &    43 &  3104 &  1.39\\\\\n",
       "\t Black            & 2 &  1084 &  3104 & 34.92\\\\\n",
       "\t Black            & 3 &  1938 &  3104 & 62.44\\\\\n",
       "\t Black            & 4 &    36 &  3104 &  1.16\\\\\n",
       "\t Black            & 5 &     3 &  3104 &  0.10\\\\\n",
       "\t Native American  & 1 &     2 &   187 &  1.07\\\\\n",
       "\t Native American  & 2 &    51 &   187 & 27.27\\\\\n",
       "\t Native American  & 3 &   133 &   187 & 71.12\\\\\n",
       "\t Native American  & 4 &     1 &   187 &  0.53\\\\\n",
       "\t Other            & 1 &    91 & 10170 &  0.89\\\\\n",
       "\t Other            & 2 &  3104 & 10170 & 30.52\\\\\n",
       "\t Other            & 3 &  6878 & 10170 & 67.63\\\\\n",
       "\t Other            & 4 &    93 & 10170 &  0.91\\\\\n",
       "\t Other            & 5 &     4 & 10170 &  0.04\\\\\n",
       "\t Pacific Islander & 1 &    14 &   902 &  1.55\\\\\n",
       "\t Pacific Islander & 2 &   312 &   902 & 34.59\\\\\n",
       "\t Pacific Islander & 3 &   568 &   902 & 62.97\\\\\n",
       "\t Pacific Islander & 4 &     8 &   902 &  0.89\\\\\n",
       "\t Unknown          & 1 &    13 &   382 &  3.40\\\\\n",
       "\t Unknown          & 2 &   140 &   382 & 36.65\\\\\n",
       "\t Unknown          & 3 &   226 &   382 & 59.16\\\\\n",
       "\t Unknown          & 4 &     3 &   382 &  0.79\\\\\n",
       "\t White            & 1 &   240 & 22580 &  1.06\\\\\n",
       "\t White            & 2 &  7533 & 22580 & 33.36\\\\\n",
       "\t White            & 3 & 14589 & 22580 & 64.61\\\\\n",
       "\t White            & 4 &   211 & 22580 &  0.93\\\\\n",
       "\t White            & 5 &     7 & 22580 &  0.03\\\\\n",
       "\\end{tabular}\n"
      ],
      "text/markdown": [
       "\n",
       "A grouped_df: 32 × 5\n",
       "\n",
       "| race &lt;fct&gt; | ESI &lt;int&gt; | n &lt;int&gt; | ntotal &lt;int&gt; | group_percentage &lt;dbl&gt; |\n",
       "|---|---|---|---|---|\n",
       "| Asian            | 1 |    69 |  6655 |  1.04 |\n",
       "| Asian            | 2 |  2307 |  6655 | 34.67 |\n",
       "| Asian            | 3 |  4224 |  6655 | 63.47 |\n",
       "| Asian            | 4 |    53 |  6655 |  0.80 |\n",
       "| Asian            | 5 |     2 |  6655 |  0.03 |\n",
       "| Black            | 1 |    43 |  3104 |  1.39 |\n",
       "| Black            | 2 |  1084 |  3104 | 34.92 |\n",
       "| Black            | 3 |  1938 |  3104 | 62.44 |\n",
       "| Black            | 4 |    36 |  3104 |  1.16 |\n",
       "| Black            | 5 |     3 |  3104 |  0.10 |\n",
       "| Native American  | 1 |     2 |   187 |  1.07 |\n",
       "| Native American  | 2 |    51 |   187 | 27.27 |\n",
       "| Native American  | 3 |   133 |   187 | 71.12 |\n",
       "| Native American  | 4 |     1 |   187 |  0.53 |\n",
       "| Other            | 1 |    91 | 10170 |  0.89 |\n",
       "| Other            | 2 |  3104 | 10170 | 30.52 |\n",
       "| Other            | 3 |  6878 | 10170 | 67.63 |\n",
       "| Other            | 4 |    93 | 10170 |  0.91 |\n",
       "| Other            | 5 |     4 | 10170 |  0.04 |\n",
       "| Pacific Islander | 1 |    14 |   902 |  1.55 |\n",
       "| Pacific Islander | 2 |   312 |   902 | 34.59 |\n",
       "| Pacific Islander | 3 |   568 |   902 | 62.97 |\n",
       "| Pacific Islander | 4 |     8 |   902 |  0.89 |\n",
       "| Unknown          | 1 |    13 |   382 |  3.40 |\n",
       "| Unknown          | 2 |   140 |   382 | 36.65 |\n",
       "| Unknown          | 3 |   226 |   382 | 59.16 |\n",
       "| Unknown          | 4 |     3 |   382 |  0.79 |\n",
       "| White            | 1 |   240 | 22580 |  1.06 |\n",
       "| White            | 2 |  7533 | 22580 | 33.36 |\n",
       "| White            | 3 | 14589 | 22580 | 64.61 |\n",
       "| White            | 4 |   211 | 22580 |  0.93 |\n",
       "| White            | 5 |     7 | 22580 |  0.03 |\n",
       "\n"
      ],
      "text/plain": [
       "   race             ESI n     ntotal group_percentage\n",
       "1  Asian            1      69  6655   1.04           \n",
       "2  Asian            2    2307  6655  34.67           \n",
       "3  Asian            3    4224  6655  63.47           \n",
       "4  Asian            4      53  6655   0.80           \n",
       "5  Asian            5       2  6655   0.03           \n",
       "6  Black            1      43  3104   1.39           \n",
       "7  Black            2    1084  3104  34.92           \n",
       "8  Black            3    1938  3104  62.44           \n",
       "9  Black            4      36  3104   1.16           \n",
       "10 Black            5       3  3104   0.10           \n",
       "11 Native American  1       2   187   1.07           \n",
       "12 Native American  2      51   187  27.27           \n",
       "13 Native American  3     133   187  71.12           \n",
       "14 Native American  4       1   187   0.53           \n",
       "15 Other            1      91 10170   0.89           \n",
       "16 Other            2    3104 10170  30.52           \n",
       "17 Other            3    6878 10170  67.63           \n",
       "18 Other            4      93 10170   0.91           \n",
       "19 Other            5       4 10170   0.04           \n",
       "20 Pacific Islander 1      14   902   1.55           \n",
       "21 Pacific Islander 2     312   902  34.59           \n",
       "22 Pacific Islander 3     568   902  62.97           \n",
       "23 Pacific Islander 4       8   902   0.89           \n",
       "24 Unknown          1      13   382   3.40           \n",
       "25 Unknown          2     140   382  36.65           \n",
       "26 Unknown          3     226   382  59.16           \n",
       "27 Unknown          4       3   382   0.79           \n",
       "28 White            1     240 22580   1.06           \n",
       "29 White            2    7533 22580  33.36           \n",
       "30 White            3   14589 22580  64.61           \n",
       "31 White            4     211 22580   0.93           \n",
       "32 White            5       7 22580   0.03           "
      ]
     },
     "metadata": {},
     "output_type": "display_data"
    }
   ],
   "source": [
    "race_esi <- coh_race %>% group_by(race, ESI) %>% summarise(n = n()) %>% \n",
    "                group_by(race) %>% mutate(ntotal = sum(n), group_percentage = round(100*n/ntotal, 2))\n",
    "race_esi"
   ]
  },
  {
   "cell_type": "code",
   "execution_count": 17,
   "metadata": {},
   "outputs": [
    {
     "data": {
      "text/html": [
       "<table>\n",
       "<caption>A grouped_df: 4 × 5</caption>\n",
       "<thead>\n",
       "\t<tr><th scope=col>race</th><th scope=col>ESI</th><th scope=col>n</th><th scope=col>ntotal</th><th scope=col>group_percentage</th></tr>\n",
       "\t<tr><th scope=col>&lt;fct&gt;</th><th scope=col>&lt;int&gt;</th><th scope=col>&lt;int&gt;</th><th scope=col>&lt;int&gt;</th><th scope=col>&lt;dbl&gt;</th></tr>\n",
       "</thead>\n",
       "<tbody>\n",
       "\t<tr><td>Asian</td><td>5</td><td>2</td><td> 6655</td><td>0.03</td></tr>\n",
       "\t<tr><td>Black</td><td>5</td><td>3</td><td> 3104</td><td>0.10</td></tr>\n",
       "\t<tr><td>Other</td><td>5</td><td>4</td><td>10170</td><td>0.04</td></tr>\n",
       "\t<tr><td>White</td><td>5</td><td>7</td><td>22580</td><td>0.03</td></tr>\n",
       "</tbody>\n",
       "</table>\n"
      ],
      "text/latex": [
       "A grouped\\_df: 4 × 5\n",
       "\\begin{tabular}{lllll}\n",
       " race & ESI & n & ntotal & group\\_percentage\\\\\n",
       " <fct> & <int> & <int> & <int> & <dbl>\\\\\n",
       "\\hline\n",
       "\t Asian & 5 & 2 &  6655 & 0.03\\\\\n",
       "\t Black & 5 & 3 &  3104 & 0.10\\\\\n",
       "\t Other & 5 & 4 & 10170 & 0.04\\\\\n",
       "\t White & 5 & 7 & 22580 & 0.03\\\\\n",
       "\\end{tabular}\n"
      ],
      "text/markdown": [
       "\n",
       "A grouped_df: 4 × 5\n",
       "\n",
       "| race &lt;fct&gt; | ESI &lt;int&gt; | n &lt;int&gt; | ntotal &lt;int&gt; | group_percentage &lt;dbl&gt; |\n",
       "|---|---|---|---|---|\n",
       "| Asian | 5 | 2 |  6655 | 0.03 |\n",
       "| Black | 5 | 3 |  3104 | 0.10 |\n",
       "| Other | 5 | 4 | 10170 | 0.04 |\n",
       "| White | 5 | 7 | 22580 | 0.03 |\n",
       "\n"
      ],
      "text/plain": [
       "  race  ESI n ntotal group_percentage\n",
       "1 Asian 5   2  6655  0.03            \n",
       "2 Black 5   3  3104  0.10            \n",
       "3 Other 5   4 10170  0.04            \n",
       "4 White 5   7 22580  0.03            "
      ]
     },
     "metadata": {},
     "output_type": "display_data"
    }
   ],
   "source": [
    "color_table <- tibble(\n",
    "  race = c(\"Asian\", \"Black\", \"Native American\", \"Other\", \"Pacific Islander\", \"Unknown\", \"White\"),\n",
    "  color = c(\"tan\", \"grey30\", \"salmon4\", \"magenta3\", \"tan3\", \"limegreen\", \"moccasin\")\n",
    "  )\n",
    "color_table5 <- tibble(\n",
    "  race = c(\"Asian\", \"Black\", \"Other\", \"White\"),\n",
    "  color = c(\"tan\", \"grey30\", \"magenta3\", \"moccasin\")\n",
    "  )\n",
    "\n",
    "race_esi1 <- race_esi %>% filter(ESI==1)\n",
    "race_esi23 <- race_esi %>% filter(ESI==2 | ESI==3)\n",
    "race_esi4 <- race_esi %>% filter(ESI==4)\n",
    "race_esi5 <- race_esi %>% filter(ESI==5)\n",
    "\n",
    "race_esi5"
   ]
  },
  {
   "cell_type": "code",
   "execution_count": 21,
   "metadata": {},
   "outputs": [
    {
     "data": {
      "image/png": "[encoded data removed]",
      "text/plain": [
       "plot without title"
      ]
     },
     "metadata": {
      "image/png": {
       "height": 420,
       "width": 900
      }
     },
     "output_type": "display_data"
    }
   ],
   "source": [
    "options(repr.plot.width=15, repr.plot.height=7)\n",
    "\n",
    "p1 <- ggplot(race_esi1, aes(fill=race, y=group_percentage, x=race)) + \n",
    "    geom_bar(position=\"dodge\", stat=\"identity\") + scale_fill_manual(values = color_table$color) +\n",
    "    geom_text(aes(label=n), position=position_dodge(width=1), vjust=-0.5)\n",
    "\n",
    "p23 <- ggplot(race_esi23, aes(fill=race, y=group_percentage, x=ESI)) + \n",
    "    geom_bar(position=\"dodge\", stat=\"identity\") + scale_fill_manual(values = color_table$color) #+\n",
    "#     geom_text(aes(label=n), position=position_dodge(width=1), vjust=0, angle=90)\n",
    "\n",
    "grid.arrange(p1, p23, ncol=2)\n",
    "ggsave(file.path(figuredir,\"Fig5_ESI123.png\"), width = 15, height = 7, dpi = 1200) "
   ]
  },
  {
   "cell_type": "code",
   "execution_count": 22,
   "metadata": {},
   "outputs": [
    {
     "data": {
      "image/png": "[encoded data removed]",
      "text/plain": [
       "plot without title"
      ]
     },
     "metadata": {
      "image/png": {
       "height": 420,
       "width": 900
      }
     },
     "output_type": "display_data"
    }
   ],
   "source": [
    "p4 <- ggplot(race_esi4, aes(fill=race, y=group_percentage, x=race)) + \n",
    "    geom_bar(position=\"dodge\", stat=\"identity\") + scale_fill_manual(values = color_table$color) +\n",
    "    geom_text(aes(label=n), position=position_dodge(width=1), vjust=-0.5)\n",
    "\n",
    "p5 <- ggplot(race_esi5, aes(fill=race, y=group_percentage, x=race)) + \n",
    "    geom_bar(position=\"dodge\", stat=\"identity\") + scale_fill_manual(values = color_table5$color) +\n",
    "    geom_text(aes(label=n), position=position_dodge(width=1), vjust=-0.5)\n",
    "\n",
    "grid.arrange(p4, p5, ncol=2)\n",
    "# plotlist <- list(p4, p5)\n",
    "# plot_grid(plotlist=plotlist)\n",
    "ggsave(file.path(figuredir,\"Fig5_ESI45.png\"), width = 15, height = 7, dpi = 1200) "
   ]
  },
  {
   "cell_type": "markdown",
   "metadata": {},
   "source": [
    "### density plot of predicted probabilities for test cohort\n"
   ]
  },
  {
   "cell_type": "code",
   "execution_count": 26,
   "metadata": {},
   "outputs": [
    {
     "data": {
      "text/html": [
       "12418"
      ],
      "text/latex": [
       "12418"
      ],
      "text/markdown": [
       "12418"
      ],
      "text/plain": [
       "[1] 12418"
      ]
     },
     "metadata": {},
     "output_type": "display_data"
    },
    {
     "data": {
      "text/html": [
       "<style>\n",
       ".list-inline {list-style: none; margin:0; padding: 0}\n",
       ".list-inline>li {display: inline-block}\n",
       ".list-inline>li:not(:last-child)::after {content: \"\\00b7\"; padding: 0 .5ex}\n",
       "</style>\n",
       "<ol class=list-inline><li>'pat_enc_csn_id_coded'</li><li>'first_label'</li><li>'death_24hr_max_label'</li><li>'death_24hr_recent_label'</li><li>'pred_first'</li><li>'pred_death_24hr_max'</li><li>'pred_death_24hr_recent'</li><li>'abs_diff0_24'</li><li>'transfer'</li></ol>\n"
      ],
      "text/latex": [
       "\\begin{enumerate*}\n",
       "\\item 'pat\\_enc\\_csn\\_id\\_coded'\n",
       "\\item 'first\\_label'\n",
       "\\item 'death\\_24hr\\_max\\_label'\n",
       "\\item 'death\\_24hr\\_recent\\_label'\n",
       "\\item 'pred\\_first'\n",
       "\\item 'pred\\_death\\_24hr\\_max'\n",
       "\\item 'pred\\_death\\_24hr\\_recent'\n",
       "\\item 'abs\\_diff0\\_24'\n",
       "\\item 'transfer'\n",
       "\\end{enumerate*}\n"
      ],
      "text/markdown": [
       "1. 'pat_enc_csn_id_coded'\n",
       "2. 'first_label'\n",
       "3. 'death_24hr_max_label'\n",
       "4. 'death_24hr_recent_label'\n",
       "5. 'pred_first'\n",
       "6. 'pred_death_24hr_max'\n",
       "7. 'pred_death_24hr_recent'\n",
       "8. 'abs_diff0_24'\n",
       "9. 'transfer'\n",
       "\n",
       "\n"
      ],
      "text/plain": [
       "[1] \"pat_enc_csn_id_coded\"    \"first_label\"            \n",
       "[3] \"death_24hr_max_label\"    \"death_24hr_recent_label\"\n",
       "[5] \"pred_first\"              \"pred_death_24hr_max\"    \n",
       "[7] \"pred_death_24hr_recent\"  \"abs_diff0_24\"           \n",
       "[9] \"transfer\"               "
      ]
     },
     "metadata": {},
     "output_type": "display_data"
    }
   ],
   "source": [
    "coh_test <- read.csv(file.path(modeldir4, \"1_4_cohort_test_results.csv\")) %>% \n",
    "                select(pat_enc_csn_id_coded, first_label, death_24hr_max_label, death_24hr_recent_label, \n",
    "                       pred_first, pred_death_24hr_max, pred_death_24hr_recent, abs_diff0_24, transfer)\n",
    "nrow(coh_test)\n",
    "colnames(coh_test)\n",
    "# preds_max <- coh_test %>% select(outcome = death_24hr_max_label, prediction = pred_death_24hr_max)\n",
    "# preds_24hr <- coh_test %>% select(outcome = death_24hr_recent_label, prediction = pred_death_24hr_recent)"
   ]
  },
  {
   "cell_type": "code",
   "execution_count": 27,
   "metadata": {},
   "outputs": [],
   "source": [
    "### Plot function, using data0\n",
    "plotfxn <- function(X, Xlab, Fill, data){\n",
    "#     p0 <- data %>% ggplot(aes(x=X)) + geom_density() + facet_wrap(~race_recoded) # unable to use Fill here\n",
    "    p1 <- data %>% ggplot(aes(x=X, fill=Fill)) +\n",
    "        geom_density(alpha=0.3, position = 'identity') + # color=\"#e9ecef\", \n",
    "        labs(fill=\"\") + xlab(Xlab) \n",
    "\n",
    "    p2 <- p1 + theme(axis.text=element_text(size=14),\n",
    "             axis.title=element_text(size=16), legend.key.size = unit(1, \"cm\"))#, face=\"bold\"\n",
    "#     return(list(p0, p2))\n",
    "    return(p2)\n",
    "}"
   ]
  },
  {
   "cell_type": "code",
   "execution_count": 32,
   "metadata": {},
   "outputs": [
    {
     "data": {
      "image/png": "[encoded data removed]",
      "text/plain": [
       "plot without title"
      ]
     },
     "metadata": {
      "image/png": {
       "height": 420,
       "width": 840
      }
     },
     "output_type": "display_data"
    }
   ],
   "source": [
    "options(repr.plot.width=14, repr.plot.height=7)\n",
    "\n",
    "# first label and label at 24th hr\n",
    "pmax <- plotfxn(X=coh_test$pred_first, Xlab=\"Predicted Probability\", Fill=factor(coh_test$first_label), coh_test)\n",
    "p24 <- plotfxn(X=coh_test$pred_death_24hr_recent, Xlab=\"Predicted Probability\", Fill=factor(coh_test$death_24hr_recent_label), coh_test)\n",
    "\n",
    "grid.arrange(pmax, p24, ncol=2)\n",
    "ggsave(file.path(figuredir,\"Fig5_pred_density.png\"), width = 14, height = 7, dpi = 1200) "
   ]
  },
  {
   "cell_type": "code",
   "execution_count": 35,
   "metadata": {},
   "outputs": [
    {
     "data": {
      "image/png": "[encoded data removed]",
      "text/plain": [
       "plot without title"
      ]
     },
     "metadata": {
      "image/png": {
       "height": 420,
       "width": 840
      }
     },
     "output_type": "display_data"
    }
   ],
   "source": [
    "# at initial admission and at 24th hr, with labels, combined legends\n",
    "\n",
    "prow <- plot_grid(\n",
    "            plotfxn(X=coh_test$pred_first, Xlab=\"Predicted Probability\", \n",
    "                    Fill=factor(coh_test$first_label), coh_test) +\n",
    "                theme(legend.position=\"none\"), \n",
    "            plotfxn(X=coh_test$pred_death_24hr_recent, Xlab=\"Predicted Probability\", \n",
    "                    Fill=factor(coh_test$death_24hr_recent_label), coh_test) +\n",
    "                theme(legend.position=\"none\"),\n",
    "            labels = c(\"A: initial admission\", \"B: 24 hours after admission\"),\n",
    "            hjust = -1,\n",
    "            nrow = 1\n",
    ")\n",
    "\n",
    "legend <- get_legend(\n",
    "            plotfxn(X=coh_test$pred_first, Xlab=\"Predicted Probability\", \n",
    "                    Fill=factor(coh_test$first_label), coh_test) +\n",
    "            theme(legend.title = element_text(color = \"Black\", size = 16),\n",
    "                  legend.text = element_text(color = \"black\", size = 14)\n",
    "                 ) + scale_fill_discrete(name = \"LOC\")#+ theme(legend.box.margin = margin(0, 0, 0, 1))\n",
    ")\n",
    "\n",
    "plot_grid(prow, legend, rel_widths=c(6, 0.7))\n",
    "ggsave(file.path(figuredir,\"Fig5_pred_density2.png\"), width = 14, height = 7, dpi = 1200) "
   ]
  },
  {
   "cell_type": "code",
   "execution_count": 30,
   "metadata": {},
   "outputs": [
    {
     "data": {
      "text/html": [
       "<table>\n",
       "<caption>A data.frame: 6 × 7</caption>\n",
       "<thead>\n",
       "\t<tr><th></th><th scope=col>pat_enc_csn_id_coded</th><th scope=col>first_label</th><th scope=col>death_24hr_recent_label</th><th scope=col>abs_diff0_24</th><th scope=col>transfer</th><th scope=col>time</th><th scope=col>prediction</th></tr>\n",
       "\t<tr><th></th><th scope=col>&lt;dbl&gt;</th><th scope=col>&lt;int&gt;</th><th scope=col>&lt;int&gt;</th><th scope=col>&lt;dbl&gt;</th><th scope=col>&lt;int&gt;</th><th scope=col>&lt;fct&gt;</th><th scope=col>&lt;dbl&gt;</th></tr>\n",
       "</thead>\n",
       "<tbody>\n",
       "\t<tr><th scope=row>1</th><td>131264906504</td><td>0</td><td>0</td><td>0.0</td><td>0</td><td>time0</td><td>0.2356759</td></tr>\n",
       "\t<tr><th scope=row>2</th><td>131280664882</td><td>1</td><td>1</td><td>0.1</td><td>0</td><td>time0</td><td>0.9463215</td></tr>\n",
       "\t<tr><th scope=row>3</th><td>131282861801</td><td>0</td><td>1</td><td>0.0</td><td>1</td><td>time0</td><td>0.6882317</td></tr>\n",
       "\t<tr><th scope=row>4</th><td>131264837675</td><td>1</td><td>1</td><td>0.2</td><td>0</td><td>time0</td><td>0.6547346</td></tr>\n",
       "\t<tr><th scope=row>5</th><td>131279238299</td><td>0</td><td>0</td><td>0.0</td><td>0</td><td>time0</td><td>0.3064106</td></tr>\n",
       "\t<tr><th scope=row>6</th><td>131265866954</td><td>1</td><td>1</td><td>0.0</td><td>0</td><td>time0</td><td>0.7664736</td></tr>\n",
       "</tbody>\n",
       "</table>\n"
      ],
      "text/latex": [
       "A data.frame: 6 × 7\n",
       "\\begin{tabular}{r|lllllll}\n",
       "  & pat\\_enc\\_csn\\_id\\_coded & first\\_label & death\\_24hr\\_recent\\_label & abs\\_diff0\\_24 & transfer & time & prediction\\\\\n",
       "  & <dbl> & <int> & <int> & <dbl> & <int> & <fct> & <dbl>\\\\\n",
       "\\hline\n",
       "\t1 & 131264906504 & 0 & 0 & 0.0 & 0 & time0 & 0.2356759\\\\\n",
       "\t2 & 131280664882 & 1 & 1 & 0.1 & 0 & time0 & 0.9463215\\\\\n",
       "\t3 & 131282861801 & 0 & 1 & 0.0 & 1 & time0 & 0.6882317\\\\\n",
       "\t4 & 131264837675 & 1 & 1 & 0.2 & 0 & time0 & 0.6547346\\\\\n",
       "\t5 & 131279238299 & 0 & 0 & 0.0 & 0 & time0 & 0.3064106\\\\\n",
       "\t6 & 131265866954 & 1 & 1 & 0.0 & 0 & time0 & 0.7664736\\\\\n",
       "\\end{tabular}\n"
      ],
      "text/markdown": [
       "\n",
       "A data.frame: 6 × 7\n",
       "\n",
       "| <!--/--> | pat_enc_csn_id_coded &lt;dbl&gt; | first_label &lt;int&gt; | death_24hr_recent_label &lt;int&gt; | abs_diff0_24 &lt;dbl&gt; | transfer &lt;int&gt; | time &lt;fct&gt; | prediction &lt;dbl&gt; |\n",
       "|---|---|---|---|---|---|---|---|\n",
       "| 1 | 131264906504 | 0 | 0 | 0.0 | 0 | time0 | 0.2356759 |\n",
       "| 2 | 131280664882 | 1 | 1 | 0.1 | 0 | time0 | 0.9463215 |\n",
       "| 3 | 131282861801 | 0 | 1 | 0.0 | 1 | time0 | 0.6882317 |\n",
       "| 4 | 131264837675 | 1 | 1 | 0.2 | 0 | time0 | 0.6547346 |\n",
       "| 5 | 131279238299 | 0 | 0 | 0.0 | 0 | time0 | 0.3064106 |\n",
       "| 6 | 131265866954 | 1 | 1 | 0.0 | 0 | time0 | 0.7664736 |\n",
       "\n"
      ],
      "text/plain": [
       "  pat_enc_csn_id_coded first_label death_24hr_recent_label abs_diff0_24\n",
       "1 131264906504         0           0                       0.0         \n",
       "2 131280664882         1           1                       0.1         \n",
       "3 131282861801         0           1                       0.0         \n",
       "4 131264837675         1           1                       0.2         \n",
       "5 131279238299         0           0                       0.0         \n",
       "6 131265866954         1           1                       0.0         \n",
       "  transfer time  prediction\n",
       "1 0        time0 0.2356759 \n",
       "2 0        time0 0.9463215 \n",
       "3 1        time0 0.6882317 \n",
       "4 0        time0 0.6547346 \n",
       "5 0        time0 0.3064106 \n",
       "6 0        time0 0.7664736 "
      ]
     },
     "metadata": {},
     "output_type": "display_data"
    }
   ],
   "source": [
    "# convert wide to long, entire test cohort\n",
    "coh_test2 <- coh_test %>% rename(time0=pred_first, time24=pred_death_24hr_recent) %>% \n",
    "                select(-pred_death_24hr_max, -death_24hr_max_label)\n",
    "coh_test2 <- gather(coh_test2, time, prediction, time0:time24, factor_key=TRUE)\n",
    "head(coh_test2)"
   ]
  },
  {
   "cell_type": "code",
   "execution_count": 36,
   "metadata": {},
   "outputs": [
    {
     "name": "stderr",
     "output_type": "stream",
     "text": [
      "`stat_bin()` using `bins = 30`. Pick better value with `binwidth`.\n",
      "\n"
     ]
    },
    {
     "data": {
      "image/png": "[encoded data removed]",
      "text/plain": [
       "plot without title"
      ]
     },
     "metadata": {
      "image/png": {
       "height": 420,
       "width": 600
      }
     },
     "output_type": "display_data"
    },
    {
     "data": {
      "image/png": "[encoded data removed]",
      "text/plain": [
       "plot without title"
      ]
     },
     "metadata": {
      "image/png": {
       "height": 420,
       "width": 600
      }
     },
     "output_type": "display_data"
    }
   ],
   "source": [
    "# hist(coh_test$abs_diff0_24)\n",
    "# plotfxn(X=cohdis$pred_death_24hr_recent, Xlab=\"Predicted Probability\", Fill=factor(coh_test$death_24hr_recent_label), coh_test)\n",
    "\n",
    "options(repr.plot.width=10, repr.plot.height=7)\n",
    "\n",
    "# test cohort, with abs difference btwn predicted values at time0 and time24 greater than 0.1\n",
    "ggplot(data = coh_test2, aes(x=prediction, fill=time)) +\n",
    "        geom_density(alpha=0.3, position = 'identity') + # color=\"#e9ecef\", \n",
    "        labs(fill=\"\")\n",
    "\n",
    "ggplot(data = coh_test[coh_test$abs_diff0_24 > 0.1, ], aes(x=abs_diff0_24)) +\n",
    "        geom_histogram() + xlab(\"absolute difference in model predictions\")"
   ]
  },
  {
   "cell_type": "code",
   "execution_count": 21,
   "metadata": {},
   "outputs": [
    {
     "data": {
      "text/html": [
       "<style>\n",
       ".list-inline {list-style: none; margin:0; padding: 0}\n",
       ".list-inline>li {display: inline-block}\n",
       ".list-inline>li:not(:last-child)::after {content: \"\\00b7\"; padding: 0 .5ex}\n",
       "</style>\n",
       "<ol class=list-inline><li>'pat_enc_csn_id_coded'</li><li>'first_label'</li><li>'death_24hr_max_label'</li><li>'death_24hr_recent_label'</li><li>'pred_first'</li><li>'pred_death_24hr_max'</li><li>'pred_death_24hr_recent'</li><li>'abs_diff0_24'</li><li>'transfer'</li></ol>\n"
      ],
      "text/latex": [
       "\\begin{enumerate*}\n",
       "\\item 'pat\\_enc\\_csn\\_id\\_coded'\n",
       "\\item 'first\\_label'\n",
       "\\item 'death\\_24hr\\_max\\_label'\n",
       "\\item 'death\\_24hr\\_recent\\_label'\n",
       "\\item 'pred\\_first'\n",
       "\\item 'pred\\_death\\_24hr\\_max'\n",
       "\\item 'pred\\_death\\_24hr\\_recent'\n",
       "\\item 'abs\\_diff0\\_24'\n",
       "\\item 'transfer'\n",
       "\\end{enumerate*}\n"
      ],
      "text/markdown": [
       "1. 'pat_enc_csn_id_coded'\n",
       "2. 'first_label'\n",
       "3. 'death_24hr_max_label'\n",
       "4. 'death_24hr_recent_label'\n",
       "5. 'pred_first'\n",
       "6. 'pred_death_24hr_max'\n",
       "7. 'pred_death_24hr_recent'\n",
       "8. 'abs_diff0_24'\n",
       "9. 'transfer'\n",
       "\n",
       "\n"
      ],
      "text/plain": [
       "[1] \"pat_enc_csn_id_coded\"    \"first_label\"            \n",
       "[3] \"death_24hr_max_label\"    \"death_24hr_recent_label\"\n",
       "[5] \"pred_first\"              \"pred_death_24hr_max\"    \n",
       "[7] \"pred_death_24hr_recent\"  \"abs_diff0_24\"           \n",
       "[9] \"transfer\"               "
      ]
     },
     "metadata": {},
     "output_type": "display_data"
    },
    {
     "data": {
      "text/html": [
       "117"
      ],
      "text/latex": [
       "117"
      ],
      "text/markdown": [
       "117"
      ],
      "text/plain": [
       "[1] 117"
      ]
     },
     "metadata": {},
     "output_type": "display_data"
    }
   ],
   "source": [
    "# get discordance cohort abs_diff0_@4 >= 0.4\n",
    "colnames(coh_test)\n",
    "coh_dis <- coh_test %>% filter(abs_diff0_24 >= 0.4)\n",
    "nrow(coh_dis)"
   ]
  },
  {
   "cell_type": "code",
   "execution_count": null,
   "metadata": {},
   "outputs": [],
   "source": [
    "# coh_dis[coh_dis$transfer==1, ]$pred_first\n",
    "# coh_dis[coh_dis$transfer==1 & coh_dis$first_label==1, ]$pred_first"
   ]
  },
  {
   "cell_type": "code",
   "execution_count": 22,
   "metadata": {},
   "outputs": [
    {
     "data": {
      "text/html": [
       "117"
      ],
      "text/latex": [
       "117"
      ],
      "text/markdown": [
       "117"
      ],
      "text/plain": [
       "[1] 117"
      ]
     },
     "metadata": {},
     "output_type": "display_data"
    },
    {
     "data": {
      "text/html": [
       "<table>\n",
       "<caption>A data.frame: 6 × 8</caption>\n",
       "<thead>\n",
       "\t<tr><th></th><th scope=col>pat_enc_csn_id_coded</th><th scope=col>first_label</th><th scope=col>death_24hr_recent_label</th><th scope=col>time0</th><th scope=col>time24</th><th scope=col>abs_diff0_24</th><th scope=col>transfer</th><th scope=col>idx</th></tr>\n",
       "\t<tr><th></th><th scope=col>&lt;dbl&gt;</th><th scope=col>&lt;int&gt;</th><th scope=col>&lt;int&gt;</th><th scope=col>&lt;dbl&gt;</th><th scope=col>&lt;dbl&gt;</th><th scope=col>&lt;dbl&gt;</th><th scope=col>&lt;int&gt;</th><th scope=col>&lt;chr&gt;</th></tr>\n",
       "</thead>\n",
       "<tbody>\n",
       "\t<tr><th scope=row>1</th><td>131274348480</td><td>0</td><td>0</td><td>0.8106468</td><td>0.4368035</td><td>0.4</td><td>0</td><td>1</td></tr>\n",
       "\t<tr><th scope=row>2</th><td>131281383883</td><td>1</td><td>1</td><td>0.5626119</td><td>0.1700678</td><td>0.4</td><td>0</td><td>2</td></tr>\n",
       "\t<tr><th scope=row>3</th><td>131282719671</td><td>1</td><td>1</td><td>0.7961093</td><td>0.4289658</td><td>0.4</td><td>0</td><td>3</td></tr>\n",
       "\t<tr><th scope=row>4</th><td>131284115343</td><td>1</td><td>1</td><td>0.5984289</td><td>0.2139906</td><td>0.4</td><td>0</td><td>4</td></tr>\n",
       "\t<tr><th scope=row>5</th><td>131281707426</td><td>1</td><td>1</td><td>0.5319339</td><td>0.1795119</td><td>0.4</td><td>0</td><td>5</td></tr>\n",
       "\t<tr><th scope=row>6</th><td>131263212928</td><td>0</td><td>0</td><td>0.6490586</td><td>0.2920811</td><td>0.4</td><td>0</td><td>6</td></tr>\n",
       "</tbody>\n",
       "</table>\n"
      ],
      "text/latex": [
       "A data.frame: 6 × 8\n",
       "\\begin{tabular}{r|llllllll}\n",
       "  & pat\\_enc\\_csn\\_id\\_coded & first\\_label & death\\_24hr\\_recent\\_label & time0 & time24 & abs\\_diff0\\_24 & transfer & idx\\\\\n",
       "  & <dbl> & <int> & <int> & <dbl> & <dbl> & <dbl> & <int> & <chr>\\\\\n",
       "\\hline\n",
       "\t1 & 131274348480 & 0 & 0 & 0.8106468 & 0.4368035 & 0.4 & 0 & 1\\\\\n",
       "\t2 & 131281383883 & 1 & 1 & 0.5626119 & 0.1700678 & 0.4 & 0 & 2\\\\\n",
       "\t3 & 131282719671 & 1 & 1 & 0.7961093 & 0.4289658 & 0.4 & 0 & 3\\\\\n",
       "\t4 & 131284115343 & 1 & 1 & 0.5984289 & 0.2139906 & 0.4 & 0 & 4\\\\\n",
       "\t5 & 131281707426 & 1 & 1 & 0.5319339 & 0.1795119 & 0.4 & 0 & 5\\\\\n",
       "\t6 & 131263212928 & 0 & 0 & 0.6490586 & 0.2920811 & 0.4 & 0 & 6\\\\\n",
       "\\end{tabular}\n"
      ],
      "text/markdown": [
       "\n",
       "A data.frame: 6 × 8\n",
       "\n",
       "| <!--/--> | pat_enc_csn_id_coded &lt;dbl&gt; | first_label &lt;int&gt; | death_24hr_recent_label &lt;int&gt; | time0 &lt;dbl&gt; | time24 &lt;dbl&gt; | abs_diff0_24 &lt;dbl&gt; | transfer &lt;int&gt; | idx &lt;chr&gt; |\n",
       "|---|---|---|---|---|---|---|---|---|\n",
       "| 1 | 131274348480 | 0 | 0 | 0.8106468 | 0.4368035 | 0.4 | 0 | 1 |\n",
       "| 2 | 131281383883 | 1 | 1 | 0.5626119 | 0.1700678 | 0.4 | 0 | 2 |\n",
       "| 3 | 131282719671 | 1 | 1 | 0.7961093 | 0.4289658 | 0.4 | 0 | 3 |\n",
       "| 4 | 131284115343 | 1 | 1 | 0.5984289 | 0.2139906 | 0.4 | 0 | 4 |\n",
       "| 5 | 131281707426 | 1 | 1 | 0.5319339 | 0.1795119 | 0.4 | 0 | 5 |\n",
       "| 6 | 131263212928 | 0 | 0 | 0.6490586 | 0.2920811 | 0.4 | 0 | 6 |\n",
       "\n"
      ],
      "text/plain": [
       "  pat_enc_csn_id_coded first_label death_24hr_recent_label time0     time24   \n",
       "1 131274348480         0           0                       0.8106468 0.4368035\n",
       "2 131281383883         1           1                       0.5626119 0.1700678\n",
       "3 131282719671         1           1                       0.7961093 0.4289658\n",
       "4 131284115343         1           1                       0.5984289 0.2139906\n",
       "5 131281707426         1           1                       0.5319339 0.1795119\n",
       "6 131263212928         0           0                       0.6490586 0.2920811\n",
       "  abs_diff0_24 transfer idx\n",
       "1 0.4          0        1  \n",
       "2 0.4          0        2  \n",
       "3 0.4          0        3  \n",
       "4 0.4          0        4  \n",
       "5 0.4          0        5  \n",
       "6 0.4          0        6  "
      ]
     },
     "metadata": {},
     "output_type": "display_data"
    },
    {
     "data": {
      "text/html": [
       "234"
      ],
      "text/latex": [
       "234"
      ],
      "text/markdown": [
       "234"
      ],
      "text/plain": [
       "[1] 234"
      ]
     },
     "metadata": {},
     "output_type": "display_data"
    },
    {
     "data": {
      "text/html": [
       "<table>\n",
       "<caption>A data.frame: 6 × 8</caption>\n",
       "<thead>\n",
       "\t<tr><th></th><th scope=col>pat_enc_csn_id_coded</th><th scope=col>first_label</th><th scope=col>death_24hr_recent_label</th><th scope=col>abs_diff0_24</th><th scope=col>transfer</th><th scope=col>idx</th><th scope=col>time</th><th scope=col>prediction</th></tr>\n",
       "\t<tr><th></th><th scope=col>&lt;dbl&gt;</th><th scope=col>&lt;int&gt;</th><th scope=col>&lt;int&gt;</th><th scope=col>&lt;dbl&gt;</th><th scope=col>&lt;int&gt;</th><th scope=col>&lt;chr&gt;</th><th scope=col>&lt;fct&gt;</th><th scope=col>&lt;dbl&gt;</th></tr>\n",
       "</thead>\n",
       "<tbody>\n",
       "\t<tr><th scope=row>1</th><td>131274348480</td><td>0</td><td>0</td><td>0.4</td><td>0</td><td>1</td><td>time0</td><td>0.8106468</td></tr>\n",
       "\t<tr><th scope=row>2</th><td>131281383883</td><td>1</td><td>1</td><td>0.4</td><td>0</td><td>2</td><td>time0</td><td>0.5626119</td></tr>\n",
       "\t<tr><th scope=row>3</th><td>131282719671</td><td>1</td><td>1</td><td>0.4</td><td>0</td><td>3</td><td>time0</td><td>0.7961093</td></tr>\n",
       "\t<tr><th scope=row>4</th><td>131284115343</td><td>1</td><td>1</td><td>0.4</td><td>0</td><td>4</td><td>time0</td><td>0.5984289</td></tr>\n",
       "\t<tr><th scope=row>5</th><td>131281707426</td><td>1</td><td>1</td><td>0.4</td><td>0</td><td>5</td><td>time0</td><td>0.5319339</td></tr>\n",
       "\t<tr><th scope=row>6</th><td>131263212928</td><td>0</td><td>0</td><td>0.4</td><td>0</td><td>6</td><td>time0</td><td>0.6490586</td></tr>\n",
       "</tbody>\n",
       "</table>\n"
      ],
      "text/latex": [
       "A data.frame: 6 × 8\n",
       "\\begin{tabular}{r|llllllll}\n",
       "  & pat\\_enc\\_csn\\_id\\_coded & first\\_label & death\\_24hr\\_recent\\_label & abs\\_diff0\\_24 & transfer & idx & time & prediction\\\\\n",
       "  & <dbl> & <int> & <int> & <dbl> & <int> & <chr> & <fct> & <dbl>\\\\\n",
       "\\hline\n",
       "\t1 & 131274348480 & 0 & 0 & 0.4 & 0 & 1 & time0 & 0.8106468\\\\\n",
       "\t2 & 131281383883 & 1 & 1 & 0.4 & 0 & 2 & time0 & 0.5626119\\\\\n",
       "\t3 & 131282719671 & 1 & 1 & 0.4 & 0 & 3 & time0 & 0.7961093\\\\\n",
       "\t4 & 131284115343 & 1 & 1 & 0.4 & 0 & 4 & time0 & 0.5984289\\\\\n",
       "\t5 & 131281707426 & 1 & 1 & 0.4 & 0 & 5 & time0 & 0.5319339\\\\\n",
       "\t6 & 131263212928 & 0 & 0 & 0.4 & 0 & 6 & time0 & 0.6490586\\\\\n",
       "\\end{tabular}\n"
      ],
      "text/markdown": [
       "\n",
       "A data.frame: 6 × 8\n",
       "\n",
       "| <!--/--> | pat_enc_csn_id_coded &lt;dbl&gt; | first_label &lt;int&gt; | death_24hr_recent_label &lt;int&gt; | abs_diff0_24 &lt;dbl&gt; | transfer &lt;int&gt; | idx &lt;chr&gt; | time &lt;fct&gt; | prediction &lt;dbl&gt; |\n",
       "|---|---|---|---|---|---|---|---|---|\n",
       "| 1 | 131274348480 | 0 | 0 | 0.4 | 0 | 1 | time0 | 0.8106468 |\n",
       "| 2 | 131281383883 | 1 | 1 | 0.4 | 0 | 2 | time0 | 0.5626119 |\n",
       "| 3 | 131282719671 | 1 | 1 | 0.4 | 0 | 3 | time0 | 0.7961093 |\n",
       "| 4 | 131284115343 | 1 | 1 | 0.4 | 0 | 4 | time0 | 0.5984289 |\n",
       "| 5 | 131281707426 | 1 | 1 | 0.4 | 0 | 5 | time0 | 0.5319339 |\n",
       "| 6 | 131263212928 | 0 | 0 | 0.4 | 0 | 6 | time0 | 0.6490586 |\n",
       "\n"
      ],
      "text/plain": [
       "  pat_enc_csn_id_coded first_label death_24hr_recent_label abs_diff0_24\n",
       "1 131274348480         0           0                       0.4         \n",
       "2 131281383883         1           1                       0.4         \n",
       "3 131282719671         1           1                       0.4         \n",
       "4 131284115343         1           1                       0.4         \n",
       "5 131281707426         1           1                       0.4         \n",
       "6 131263212928         0           0                       0.4         \n",
       "  transfer idx time  prediction\n",
       "1 0        1   time0 0.8106468 \n",
       "2 0        2   time0 0.5626119 \n",
       "3 0        3   time0 0.7961093 \n",
       "4 0        4   time0 0.5984289 \n",
       "5 0        5   time0 0.5319339 \n",
       "6 0        6   time0 0.6490586 "
      ]
     },
     "metadata": {},
     "output_type": "display_data"
    }
   ],
   "source": [
    "# discordance cohort, only with pred at time 24, not the primary outcome, wide to long\n",
    "cohdis <- coh_dis %>% rename(time0=pred_first, time24=pred_death_24hr_recent) %>% \n",
    "            select(-pred_death_24hr_max, -death_24hr_max_label)\n",
    "\n",
    "# get an index for each of the observations \n",
    "cohdis$idx <- rownames(cohdis)\n",
    "nrow(cohdis)\n",
    "head(cohdis)\n",
    "\n",
    "# wide to long\n",
    "cohdis2 <- gather(cohdis, time, prediction, time0:time24, factor_key=TRUE)\n",
    "nrow(cohdis2)\n",
    "head(cohdis2)"
   ]
  },
  {
   "cell_type": "code",
   "execution_count": 23,
   "metadata": {},
   "outputs": [
    {
     "data": {
      "image/png": "[encoded data removed]",
      "text/plain": [
       "plot without title"
      ]
     },
     "metadata": {
      "image/png": {
       "height": 420,
       "width": 1200
      }
     },
     "output_type": "display_data"
    }
   ],
   "source": [
    "# all discordance >= 0.4 in pairs, not very informative\n",
    "options(repr.plot.width=20, repr.plot.height=7)\n",
    "\n",
    "p <- ggplot(cohdis2, aes(idx, prediction)) + \n",
    "        geom_point(aes(colour = factor(time), shape = factor(time))) + \n",
    "        geom_line(aes(group = idx)) +\n",
    "        theme(axis.title.x=element_blank(),\n",
    "              axis.text.x=element_blank(),\n",
    "              axis.ticks.x=element_blank())\n",
    "p"
   ]
  },
  {
   "cell_type": "code",
   "execution_count": 24,
   "metadata": {},
   "outputs": [
    {
     "data": {
      "image/png": "[encoded data removed]",
      "text/plain": [
       "plot without title"
      ]
     },
     "metadata": {
      "image/png": {
       "height": 420,
       "width": 1200
      }
     },
     "output_type": "display_data"
    }
   ],
   "source": [
    "# density plot for prediction at time 0 and 24 for the discordance cohort\n",
    "# time0 prob lean toward higher values and time24 leans toward lower values\n",
    "plotfxn(X=cohdis2$prediction, Xlab=\"Predicted Probability\", Fill=factor(cohdis2$time), cohdis2)"
   ]
  },
  {
   "cell_type": "code",
   "execution_count": 25,
   "metadata": {},
   "outputs": [
    {
     "data": {
      "image/png": "[encoded data removed]",
      "text/plain": [
       "plot without title"
      ]
     },
     "metadata": {
      "image/png": {
       "height": 420,
       "width": 900
      }
     },
     "output_type": "display_data"
    }
   ],
   "source": [
    "# coh_dis[coh_dis$transfer==1, ]$pred_first\n",
    "# coh_dis[coh_dis$transfer==1 & coh_dis$first_label==1, ]$pred_first\n",
    "\n",
    "# discordance cohort who did transfer\n",
    "dtx10 = cohdis2[cohdis2$transfer==1 & cohdis2$first_label==1, ]\n",
    "dtx01 = cohdis2[cohdis2$transfer==1 & cohdis2$first_label==0, ]\n",
    "\n",
    "pdtx10 <- plotfxn(X=dtx10$prediction, Xlab=\"Predicted Probability\", Fill=factor(dtx10$time), dtx10)\n",
    "pdtx01 <- plotfxn(X=dtx01$prediction, Xlab=\"Predicted Probability\", Fill=factor(dtx01$time), dtx01)\n",
    "\n",
    "options(repr.plot.width=15, repr.plot.height=7)\n",
    "grid.arrange(pdtx10, pdtx01, ncol=2)\n",
    "\n",
    "# ggsave(file.path(resultdir,\"Fig_disc_tx_dens.png\"), width = 14, height = 7, dpi = 1200) "
   ]
  },
  {
   "cell_type": "code",
   "execution_count": 26,
   "metadata": {},
   "outputs": [
    {
     "data": {
      "image/png": "[encoded data removed]",
      "text/plain": [
       "plot without title"
      ]
     },
     "metadata": {
      "image/png": {
       "height": 420,
       "width": 900
      }
     },
     "output_type": "display_data"
    }
   ],
   "source": [
    "# remove duplicate legends\n",
    "\n",
    "prowt <- plot_grid(pdtx10 + theme(legend.position=\"none\"), pdtx01 + theme(legend.position=\"none\"),\n",
    "#             labels = c(\"A: highest LOC\", \"B: time24 LOC\"),\n",
    "            hjust = -1,\n",
    "            nrow = 1\n",
    ")\n",
    "\n",
    "# legend <- get_legend(\n",
    "#             plotfxn(X=coh_test$pred_death_24hr_max, Xlab=\"Predicted Probability\", \n",
    "#                     Fill=factor(coh_test$death_24hr_max_label), coh_test) +\n",
    "#             theme(legend.title = element_text(color = \"Black\", size = 16),\n",
    "#                   legend.text = element_text(color = \"black\", size = 14)\n",
    "#                  ) + scale_fill_discrete(name = \"LOC\")#+ theme(legend.box.margin = margin(0, 0, 0, 1))\n",
    "# )\n",
    "plot_grid(prowt, legend, rel_widths=c(6, 0.7))"
   ]
  },
  {
   "cell_type": "code",
   "execution_count": 27,
   "metadata": {},
   "outputs": [
    {
     "data": {
      "image/png": "[encoded data removed]",
      "text/plain": [
       "plot without title"
      ]
     },
     "metadata": {
      "image/png": {
       "height": 420,
       "width": 900
      }
     },
     "output_type": "display_data"
    }
   ],
   "source": [
    "# discordance cohort who did not transfer\n",
    "# remove duplicate legends\n",
    "\n",
    "d1 = cohdis2[cohdis2$transfer==0 & cohdis2$first_label==1, ]\n",
    "d0 = cohdis2[cohdis2$transfer==0 & cohdis2$first_label==0, ]\n",
    "\n",
    "pd1 <- plotfxn(X=d1$prediction, Xlab=\"Predicted Probability\", Fill=factor(d1$time), d1)\n",
    "pd0 <- plotfxn(X=d0$prediction, Xlab=\"Predicted Probability\", Fill=factor(d0$time), d0)\n",
    "\n",
    "# plot\n",
    "options(repr.plot.width=15, repr.plot.height=7)\n",
    "# grid.arrange(pd1, pd0, ncol=2)\n",
    "\n",
    "prowd <- plot_grid(pd1 + theme(legend.position=\"none\"), pd0 + theme(legend.position=\"none\"),\n",
    "#             labels = c(\"A: highest LOC\", \"B: time24 LOC\"),\n",
    "            hjust = -1,\n",
    "            nrow = 1\n",
    ")\n",
    "\n",
    "plot_grid(prowd, legend, rel_widths=c(6, 0.7))\n",
    "# ggsave(file.path(resultdir,\"Fig_disc_notx_dens.png\"), width = 14, height = 7, dpi = 1200) "
   ]
  },
  {
   "cell_type": "markdown",
   "metadata": {},
   "source": [
    "### check LOS and death\n",
    "This has less than the full cohort"
   ]
  },
  {
   "cell_type": "code",
   "execution_count": 28,
   "metadata": {},
   "outputs": [
    {
     "name": "stderr",
     "output_type": "stream",
     "text": [
      "\n",
      "\u001b[36m--\u001b[39m \u001b[1m\u001b[1mColumn specification\u001b[1m\u001b[22m \u001b[36m--------------------------------------------------------\u001b[39m\n",
      "cols(\n",
      "  anon_id = \u001b[31mcol_character()\u001b[39m,\n",
      "  pat_enc_csn_id_coded = \u001b[32mcol_double()\u001b[39m,\n",
      "  admit_time = \u001b[34mcol_datetime(format = \"\")\u001b[39m,\n",
      "  first_ED_time = \u001b[34mcol_datetime(format = \"\")\u001b[39m,\n",
      "  discharge_time = \u001b[34mcol_datetime(format = \"\")\u001b[39m,\n",
      "  end_date = \u001b[34mcol_date(format = \"\")\u001b[39m,\n",
      "  length_of_ip_since_admit = \u001b[31mcol_character()\u001b[39m,\n",
      "  length_from_ED_entry_until_end_date = \u001b[31mcol_character()\u001b[39m,\n",
      "  death_date_jittered = \u001b[34mcol_date(format = \"\")\u001b[39m,\n",
      "  discharge_date = \u001b[34mcol_date(format = \"\")\u001b[39m,\n",
      "  died_before_discharge = \u001b[33mcol_logical()\u001b[39m\n",
      ")\n",
      "\n",
      "\n"
     ]
    },
    {
     "data": {
      "text/html": [
       "43980"
      ],
      "text/latex": [
       "43980"
      ],
      "text/markdown": [
       "43980"
      ],
      "text/plain": [
       "[1] 43980"
      ]
     },
     "metadata": {},
     "output_type": "display_data"
    }
   ],
   "source": [
    "los <- read_csv(file.path(resultdir, \"5_2_length_of_stay_labels.csv\"))\n",
    "nrow(los)"
   ]
  },
  {
   "cell_type": "code",
   "execution_count": 30,
   "metadata": {},
   "outputs": [
    {
     "data": {
      "text/html": [
       "<table>\n",
       "<caption>A tibble: 1 × 11</caption>\n",
       "<thead>\n",
       "\t<tr><th scope=col>anon_id</th><th scope=col>pat_enc_csn_id_coded</th><th scope=col>admit_time</th><th scope=col>first_ED_time</th><th scope=col>discharge_time</th><th scope=col>end_date</th><th scope=col>length_of_ip_since_admit</th><th scope=col>length_from_ED_entry_until_end_date</th><th scope=col>death_date_jittered</th><th scope=col>discharge_date</th><th scope=col>died_before_discharge</th></tr>\n",
       "\t<tr><th scope=col>&lt;chr&gt;</th><th scope=col>&lt;dbl&gt;</th><th scope=col>&lt;dttm&gt;</th><th scope=col>&lt;dttm&gt;</th><th scope=col>&lt;dttm&gt;</th><th scope=col>&lt;date&gt;</th><th scope=col>&lt;chr&gt;</th><th scope=col>&lt;chr&gt;</th><th scope=col>&lt;date&gt;</th><th scope=col>&lt;date&gt;</th><th scope=col>&lt;lgl&gt;</th></tr>\n",
       "</thead>\n",
       "<tbody>\n",
       "\t<tr><td>JCe78a06</td><td>131062667066</td><td>2015-01-02 01:01:00</td><td>2015-01-01 17:10:00</td><td>2015-01-11 23:40:00</td><td>2015-01-11</td><td>9 days</td><td>10 days</td><td>2020-01-10</td><td>2015-01-11</td><td>NA</td></tr>\n",
       "</tbody>\n",
       "</table>\n"
      ],
      "text/latex": [
       "A tibble: 1 × 11\n",
       "\\begin{tabular}{lllllllllll}\n",
       " anon\\_id & pat\\_enc\\_csn\\_id\\_coded & admit\\_time & first\\_ED\\_time & discharge\\_time & end\\_date & length\\_of\\_ip\\_since\\_admit & length\\_from\\_ED\\_entry\\_until\\_end\\_date & death\\_date\\_jittered & discharge\\_date & died\\_before\\_discharge\\\\\n",
       " <chr> & <dbl> & <dttm> & <dttm> & <dttm> & <date> & <chr> & <chr> & <date> & <date> & <lgl>\\\\\n",
       "\\hline\n",
       "\t JCe78a06 & 131062667066 & 2015-01-02 01:01:00 & 2015-01-01 17:10:00 & 2015-01-11 23:40:00 & 2015-01-11 & 9 days & 10 days & 2020-01-10 & 2015-01-11 & NA\\\\\n",
       "\\end{tabular}\n"
      ],
      "text/markdown": [
       "\n",
       "A tibble: 1 × 11\n",
       "\n",
       "| anon_id &lt;chr&gt; | pat_enc_csn_id_coded &lt;dbl&gt; | admit_time &lt;dttm&gt; | first_ED_time &lt;dttm&gt; | discharge_time &lt;dttm&gt; | end_date &lt;date&gt; | length_of_ip_since_admit &lt;chr&gt; | length_from_ED_entry_until_end_date &lt;chr&gt; | death_date_jittered &lt;date&gt; | discharge_date &lt;date&gt; | died_before_discharge &lt;lgl&gt; |\n",
       "|---|---|---|---|---|---|---|---|---|---|---|\n",
       "| JCe78a06 | 131062667066 | 2015-01-02 01:01:00 | 2015-01-01 17:10:00 | 2015-01-11 23:40:00 | 2015-01-11 | 9 days | 10 days | 2020-01-10 | 2015-01-11 | NA |\n",
       "\n"
      ],
      "text/plain": [
       "  anon_id  pat_enc_csn_id_coded admit_time          first_ED_time      \n",
       "1 JCe78a06 131062667066         2015-01-02 01:01:00 2015-01-01 17:10:00\n",
       "  discharge_time      end_date   length_of_ip_since_admit\n",
       "1 2015-01-11 23:40:00 2015-01-11 9 days                  \n",
       "  length_from_ED_entry_until_end_date death_date_jittered discharge_date\n",
       "1 10 days                             2020-01-10          2015-01-11    \n",
       "  died_before_discharge\n",
       "1 NA                   "
      ]
     },
     "metadata": {},
     "output_type": "display_data"
    }
   ],
   "source": [
    "head(los, n=1)"
   ]
  },
  {
   "cell_type": "code",
   "execution_count": 31,
   "metadata": {},
   "outputs": [
    {
     "data": {
      "text/plain": [
       "\n",
       "TRUE \n",
       " 120 "
      ]
     },
     "metadata": {},
     "output_type": "display_data"
    },
    {
     "data": {
      "text/plain": [
       "\n",
       "-158 days    0 days    1 days   10 days  101 days  104 days  106 days  109 days \n",
       "        1      1493      5897       940         1         2         1         1 \n",
       "  11 days  110 days  119 days   12 days  120 days   13 days  130 days  136 days \n",
       "      757         1         1       615         1       539         1         1 \n",
       "  14 days  141 days  145 days  147 days   15 days  150 days  152 days   16 days \n",
       "      446         1         1         1       367         1         1       317 \n",
       " 160 days  168 days   17 days   18 days   19 days  190 days    2 days   20 days \n",
       "        1         1       265       222       184         1      7406       159 \n",
       " 205 days   21 days  214 days   22 days   23 days  232 days   24 days   25 days \n",
       "        1       149         1       123       144         1       104       102 \n",
       "  26 days   27 days   28 days   29 days    3 days   30 days   31 days   32 days \n",
       "       96        84        82        68      6539        67        63        50 \n",
       "  33 days   34 days   35 days   36 days   37 days   38 days   39 days    4 days \n",
       "       45        48        38        27        31        24        20      4790 \n",
       "  40 days   41 days   42 days   43 days   44 days   45 days   46 days   47 days \n",
       "       29        23        22        25        20        15        11        11 \n",
       "  48 days   49 days    5 days   50 days   51 days   52 days   53 days   54 days \n",
       "       16        17      3548         7         9         9        10         7 \n",
       "  55 days   56 days   57 days   58 days   59 days    6 days   60 days   61 days \n",
       "       12         4        10         9         6      2691         4        11 \n",
       "  62 days   63 days   64 days   65 days   66 days   67 days   68 days   69 days \n",
       "        7        14         7         5         5         5         4         3 \n",
       "   7 days   70 days   71 days   72 days   74 days   75 days   76 days   77 days \n",
       "     2121         3         3         3         2         4         3         2 \n",
       "  79 days    8 days   80 days   81 days   82 days   84 days   85 days   88 days \n",
       "        4      1507         1         3         2         4         2         1 \n",
       "  89 days    9 days   91 days   92 days   93 days   94 days   96 days   97 days \n",
       "        3      1203         2         2         1         3         1         2 \n",
       "  98 days \n",
       "        1 "
      ]
     },
     "metadata": {},
     "output_type": "display_data"
    },
    {
     "data": {
      "text/plain": [
       "\n",
       "-157 days    0 days    1 days   10 days  100 days  101 days  104 days  106 days \n",
       "        1       897      4611       969         1         1         1         2 \n",
       " 109 days   11 days  110 days  119 days   12 days  121 days   13 days  130 days \n",
       "        1       842         1         1       652         1       562         1 \n",
       " 136 days   14 days  141 days  146 days  147 days   15 days  150 days  152 days \n",
       "        1       475         1         1         1       394         1         1 \n",
       "  16 days  160 days  169 days   17 days   18 days   19 days  191 days    2 days \n",
       "      317         1         1       291       235       201         1      7233 \n",
       "  20 days  205 days   21 days  214 days   22 days   23 days  232 days   24 days \n",
       "      169         1       146         1       132       132         1       113 \n",
       "  25 days   26 days   27 days   28 days   29 days    3 days   30 days   31 days \n",
       "      109        96        97        82        68      6917        61        73 \n",
       "  32 days   33 days   34 days   35 days   36 days   37 days   38 days   39 days \n",
       "       47        49        55        36        31        28        26        21 \n",
       "   4 days   40 days   41 days   42 days   43 days   44 days   45 days   46 days \n",
       "     5232        31        25        23        16        23        16        16 \n",
       "  47 days   48 days   49 days    5 days   50 days   51 days   52 days   53 days \n",
       "       11        14        13      3865        15         8         8        11 \n",
       "  54 days   55 days   56 days   57 days   58 days   59 days    6 days   60 days \n",
       "        8         8         7        10        12         5      2862         5 \n",
       "  61 days   62 days   63 days   64 days   65 days   66 days   67 days   68 days \n",
       "        9         7        14         8         5         5         6         3 \n",
       "  69 days    7 days   70 days   71 days   72 days   73 days   75 days   76 days \n",
       "        4      2333         2         5         2         1         3         3 \n",
       "  77 days   79 days    8 days   80 days   81 days   82 days   83 days   84 days \n",
       "        4         2      1627         4         2         2         1         3 \n",
       "  85 days   86 days   88 days   89 days    9 days   90 days   91 days   92 days \n",
       "        2         1         1         2      1275         1         1         3 \n",
       "  94 days   96 days   97 days   98 days \n",
       "        3         1         1         2 "
      ]
     },
     "metadata": {},
     "output_type": "display_data"
    }
   ],
   "source": [
    "table(los$died_before_discharge)\n",
    "table(los$length_of_ip_since_admit)\n",
    "table(los$length_from_ED_entry_until_end_date)"
   ]
  },
  {
   "cell_type": "code",
   "execution_count": 32,
   "metadata": {},
   "outputs": [
    {
     "data": {
      "text/html": [
       "<table>\n",
       "<caption>A tibble: 1 × 13</caption>\n",
       "<thead>\n",
       "\t<tr><th scope=col>anon_id</th><th scope=col>pat_enc_csn_id_coded</th><th scope=col>admit_time</th><th scope=col>first_ED_time</th><th scope=col>discharge_time</th><th scope=col>end_date</th><th scope=col>length_of_ip_since_admit</th><th scope=col>length_from_ED_entry_until_end_date</th><th scope=col>death_date_jittered</th><th scope=col>discharge_date</th><th scope=col>died_before_discharge</th><th scope=col>death_dc_days</th><th scope=col>admit_ed_hours</th></tr>\n",
       "\t<tr><th scope=col>&lt;chr&gt;</th><th scope=col>&lt;dbl&gt;</th><th scope=col>&lt;dttm&gt;</th><th scope=col>&lt;dttm&gt;</th><th scope=col>&lt;dttm&gt;</th><th scope=col>&lt;date&gt;</th><th scope=col>&lt;dbl&gt;</th><th scope=col>&lt;dbl&gt;</th><th scope=col>&lt;date&gt;</th><th scope=col>&lt;date&gt;</th><th scope=col>&lt;dbl&gt;</th><th scope=col>&lt;drtn&gt;</th><th scope=col>&lt;dbl&gt;</th></tr>\n",
       "</thead>\n",
       "<tbody>\n",
       "\t<tr><td>JCe78a06</td><td>131062667066</td><td>2015-01-02 01:01:00</td><td>2015-01-01 17:10:00</td><td>2015-01-11 23:40:00</td><td>2015-01-11</td><td>9</td><td>10</td><td>2020-01-10</td><td>2015-01-11</td><td>NA</td><td>1825 days</td><td>7.8</td></tr>\n",
       "</tbody>\n",
       "</table>\n"
      ],
      "text/latex": [
       "A tibble: 1 × 13\n",
       "\\begin{tabular}{lllllllllllll}\n",
       " anon\\_id & pat\\_enc\\_csn\\_id\\_coded & admit\\_time & first\\_ED\\_time & discharge\\_time & end\\_date & length\\_of\\_ip\\_since\\_admit & length\\_from\\_ED\\_entry\\_until\\_end\\_date & death\\_date\\_jittered & discharge\\_date & died\\_before\\_discharge & death\\_dc\\_days & admit\\_ed\\_hours\\\\\n",
       " <chr> & <dbl> & <dttm> & <dttm> & <dttm> & <date> & <dbl> & <dbl> & <date> & <date> & <dbl> & <drtn> & <dbl>\\\\\n",
       "\\hline\n",
       "\t JCe78a06 & 131062667066 & 2015-01-02 01:01:00 & 2015-01-01 17:10:00 & 2015-01-11 23:40:00 & 2015-01-11 & 9 & 10 & 2020-01-10 & 2015-01-11 & NA & 1825 days & 7.8\\\\\n",
       "\\end{tabular}\n"
      ],
      "text/markdown": [
       "\n",
       "A tibble: 1 × 13\n",
       "\n",
       "| anon_id &lt;chr&gt; | pat_enc_csn_id_coded &lt;dbl&gt; | admit_time &lt;dttm&gt; | first_ED_time &lt;dttm&gt; | discharge_time &lt;dttm&gt; | end_date &lt;date&gt; | length_of_ip_since_admit &lt;dbl&gt; | length_from_ED_entry_until_end_date &lt;dbl&gt; | death_date_jittered &lt;date&gt; | discharge_date &lt;date&gt; | died_before_discharge &lt;dbl&gt; | death_dc_days &lt;drtn&gt; | admit_ed_hours &lt;dbl&gt; |\n",
       "|---|---|---|---|---|---|---|---|---|---|---|---|---|\n",
       "| JCe78a06 | 131062667066 | 2015-01-02 01:01:00 | 2015-01-01 17:10:00 | 2015-01-11 23:40:00 | 2015-01-11 | 9 | 10 | 2020-01-10 | 2015-01-11 | NA | 1825 days | 7.8 |\n",
       "\n"
      ],
      "text/plain": [
       "  anon_id  pat_enc_csn_id_coded admit_time          first_ED_time      \n",
       "1 JCe78a06 131062667066         2015-01-02 01:01:00 2015-01-01 17:10:00\n",
       "  discharge_time      end_date   length_of_ip_since_admit\n",
       "1 2015-01-11 23:40:00 2015-01-11 9                       \n",
       "  length_from_ED_entry_until_end_date death_date_jittered discharge_date\n",
       "1 10                                  2020-01-10          2015-01-11    \n",
       "  died_before_discharge death_dc_days admit_ed_hours\n",
       "1 NA                    1825 days     7.8           "
      ]
     },
     "metadata": {},
     "output_type": "display_data"
    }
   ],
   "source": [
    "los <- los %>% mutate(died_before_discharge = ifelse(died_before_discharge, 1, 0),\n",
    "                      death_dc_days = death_date_jittered - discharge_date,\n",
    "                      admit_ed_hours = round(as.numeric(difftime(admit_time, first_ED_time, units=\"hours\")), 1),\n",
    "#                       length_of_ip_since_admit = str_sub(length_of_ip_since_admit, star=1, end=-5), \n",
    "#                       length_from_ED_entry_until_end_date = str_sub(length_from_ED_entry_until_end_date, star=1, end=-5))\n",
    "                      length_of_ip_since_admit= ifelse(length_of_ip_since_admit == \"\", NA,\n",
    "                                                       as.numeric(str_sub(length_of_ip_since_admit, star=1, end=-5))),\n",
    "                      length_from_ED_entry_until_end_date= ifelse(length_from_ED_entry_until_end_date == \"\", NA,\n",
    "                                                                  as.numeric(str_sub(length_from_ED_entry_until_end_date, star=1, end=-5))))\n",
    "head(los, n=1)"
   ]
  },
  {
   "cell_type": "code",
   "execution_count": 33,
   "metadata": {},
   "outputs": [
    {
     "data": {
      "text/html": [
       "<table>\n",
       "<caption>A tibble: 6 × 13</caption>\n",
       "<thead>\n",
       "\t<tr><th scope=col>anon_id</th><th scope=col>pat_enc_csn_id_coded</th><th scope=col>admit_time</th><th scope=col>first_ED_time</th><th scope=col>discharge_time</th><th scope=col>end_date</th><th scope=col>length_of_ip_since_admit</th><th scope=col>length_from_ED_entry_until_end_date</th><th scope=col>death_date_jittered</th><th scope=col>discharge_date</th><th scope=col>died_before_discharge</th><th scope=col>death_dc_days</th><th scope=col>admit_ed_hours</th></tr>\n",
       "\t<tr><th scope=col>&lt;chr&gt;</th><th scope=col>&lt;dbl&gt;</th><th scope=col>&lt;dttm&gt;</th><th scope=col>&lt;dttm&gt;</th><th scope=col>&lt;dttm&gt;</th><th scope=col>&lt;date&gt;</th><th scope=col>&lt;dbl&gt;</th><th scope=col>&lt;dbl&gt;</th><th scope=col>&lt;date&gt;</th><th scope=col>&lt;date&gt;</th><th scope=col>&lt;dbl&gt;</th><th scope=col>&lt;dbl&gt;</th><th scope=col>&lt;dbl&gt;</th></tr>\n",
       "</thead>\n",
       "<tbody>\n",
       "\t<tr><td>JCe78a06</td><td>131062667066</td><td>2015-01-02 01:01:00</td><td>2015-01-01 17:10:00</td><td>2015-01-11 23:40:00</td><td>2015-01-11</td><td> 9</td><td>10</td><td>2020-01-10</td><td>2015-01-11</td><td>NA</td><td>1825</td><td>7.8</td></tr>\n",
       "\t<tr><td>JCd1c19e</td><td>131062745090</td><td>2015-01-03 05:53:00</td><td>2015-01-03 01:56:00</td><td>2015-01-07 02:00:00</td><td>2015-01-07</td><td> 4</td><td> 4</td><td>NA</td><td>2015-01-07</td><td>NA</td><td>  NA</td><td>4.0</td></tr>\n",
       "\t<tr><td>JCd91eb2</td><td>131062747648</td><td>2015-01-01 08:24:00</td><td>2015-01-01 01:10:00</td><td>2015-01-06 03:19:00</td><td>2015-01-06</td><td> 5</td><td> 5</td><td>2019-01-01</td><td>2015-01-06</td><td>NA</td><td>1456</td><td>7.2</td></tr>\n",
       "\t<tr><td>JCe7cb4d</td><td>131062788358</td><td>2015-01-01 23:39:00</td><td>2015-01-01 17:07:00</td><td>2015-01-22 01:25:00</td><td>2015-01-22</td><td>21</td><td>21</td><td>NA</td><td>2015-01-22</td><td>NA</td><td>  NA</td><td>6.5</td></tr>\n",
       "\t<tr><td>JCe293de</td><td>131063044001</td><td>2015-01-05 02:23:00</td><td>2015-01-04 18:13:00</td><td>2015-01-05 22:30:00</td><td>2015-01-05</td><td> 0</td><td> 1</td><td>NA</td><td>2015-01-05</td><td>NA</td><td>  NA</td><td>8.2</td></tr>\n",
       "\t<tr><td>JCe8d756</td><td>131063080858</td><td>2015-01-07 04:00:00</td><td>2015-01-06 22:24:00</td><td>2015-01-09 21:00:00</td><td>2015-01-09</td><td> 2</td><td> 3</td><td>NA</td><td>2015-01-09</td><td>NA</td><td>  NA</td><td>5.6</td></tr>\n",
       "</tbody>\n",
       "</table>\n"
      ],
      "text/latex": [
       "A tibble: 6 × 13\n",
       "\\begin{tabular}{lllllllllllll}\n",
       " anon\\_id & pat\\_enc\\_csn\\_id\\_coded & admit\\_time & first\\_ED\\_time & discharge\\_time & end\\_date & length\\_of\\_ip\\_since\\_admit & length\\_from\\_ED\\_entry\\_until\\_end\\_date & death\\_date\\_jittered & discharge\\_date & died\\_before\\_discharge & death\\_dc\\_days & admit\\_ed\\_hours\\\\\n",
       " <chr> & <dbl> & <dttm> & <dttm> & <dttm> & <date> & <dbl> & <dbl> & <date> & <date> & <dbl> & <dbl> & <dbl>\\\\\n",
       "\\hline\n",
       "\t JCe78a06 & 131062667066 & 2015-01-02 01:01:00 & 2015-01-01 17:10:00 & 2015-01-11 23:40:00 & 2015-01-11 &  9 & 10 & 2020-01-10 & 2015-01-11 & NA & 1825 & 7.8\\\\\n",
       "\t JCd1c19e & 131062745090 & 2015-01-03 05:53:00 & 2015-01-03 01:56:00 & 2015-01-07 02:00:00 & 2015-01-07 &  4 &  4 & NA & 2015-01-07 & NA &   NA & 4.0\\\\\n",
       "\t JCd91eb2 & 131062747648 & 2015-01-01 08:24:00 & 2015-01-01 01:10:00 & 2015-01-06 03:19:00 & 2015-01-06 &  5 &  5 & 2019-01-01 & 2015-01-06 & NA & 1456 & 7.2\\\\\n",
       "\t JCe7cb4d & 131062788358 & 2015-01-01 23:39:00 & 2015-01-01 17:07:00 & 2015-01-22 01:25:00 & 2015-01-22 & 21 & 21 & NA & 2015-01-22 & NA &   NA & 6.5\\\\\n",
       "\t JCe293de & 131063044001 & 2015-01-05 02:23:00 & 2015-01-04 18:13:00 & 2015-01-05 22:30:00 & 2015-01-05 &  0 &  1 & NA & 2015-01-05 & NA &   NA & 8.2\\\\\n",
       "\t JCe8d756 & 131063080858 & 2015-01-07 04:00:00 & 2015-01-06 22:24:00 & 2015-01-09 21:00:00 & 2015-01-09 &  2 &  3 & NA & 2015-01-09 & NA &   NA & 5.6\\\\\n",
       "\\end{tabular}\n"
      ],
      "text/markdown": [
       "\n",
       "A tibble: 6 × 13\n",
       "\n",
       "| anon_id &lt;chr&gt; | pat_enc_csn_id_coded &lt;dbl&gt; | admit_time &lt;dttm&gt; | first_ED_time &lt;dttm&gt; | discharge_time &lt;dttm&gt; | end_date &lt;date&gt; | length_of_ip_since_admit &lt;dbl&gt; | length_from_ED_entry_until_end_date &lt;dbl&gt; | death_date_jittered &lt;date&gt; | discharge_date &lt;date&gt; | died_before_discharge &lt;dbl&gt; | death_dc_days &lt;dbl&gt; | admit_ed_hours &lt;dbl&gt; |\n",
       "|---|---|---|---|---|---|---|---|---|---|---|---|---|\n",
       "| JCe78a06 | 131062667066 | 2015-01-02 01:01:00 | 2015-01-01 17:10:00 | 2015-01-11 23:40:00 | 2015-01-11 |  9 | 10 | 2020-01-10 | 2015-01-11 | NA | 1825 | 7.8 |\n",
       "| JCd1c19e | 131062745090 | 2015-01-03 05:53:00 | 2015-01-03 01:56:00 | 2015-01-07 02:00:00 | 2015-01-07 |  4 |  4 | NA | 2015-01-07 | NA |   NA | 4.0 |\n",
       "| JCd91eb2 | 131062747648 | 2015-01-01 08:24:00 | 2015-01-01 01:10:00 | 2015-01-06 03:19:00 | 2015-01-06 |  5 |  5 | 2019-01-01 | 2015-01-06 | NA | 1456 | 7.2 |\n",
       "| JCe7cb4d | 131062788358 | 2015-01-01 23:39:00 | 2015-01-01 17:07:00 | 2015-01-22 01:25:00 | 2015-01-22 | 21 | 21 | NA | 2015-01-22 | NA |   NA | 6.5 |\n",
       "| JCe293de | 131063044001 | 2015-01-05 02:23:00 | 2015-01-04 18:13:00 | 2015-01-05 22:30:00 | 2015-01-05 |  0 |  1 | NA | 2015-01-05 | NA |   NA | 8.2 |\n",
       "| JCe8d756 | 131063080858 | 2015-01-07 04:00:00 | 2015-01-06 22:24:00 | 2015-01-09 21:00:00 | 2015-01-09 |  2 |  3 | NA | 2015-01-09 | NA |   NA | 5.6 |\n",
       "\n"
      ],
      "text/plain": [
       "  anon_id  pat_enc_csn_id_coded admit_time          first_ED_time      \n",
       "1 JCe78a06 131062667066         2015-01-02 01:01:00 2015-01-01 17:10:00\n",
       "2 JCd1c19e 131062745090         2015-01-03 05:53:00 2015-01-03 01:56:00\n",
       "3 JCd91eb2 131062747648         2015-01-01 08:24:00 2015-01-01 01:10:00\n",
       "4 JCe7cb4d 131062788358         2015-01-01 23:39:00 2015-01-01 17:07:00\n",
       "5 JCe293de 131063044001         2015-01-05 02:23:00 2015-01-04 18:13:00\n",
       "6 JCe8d756 131063080858         2015-01-07 04:00:00 2015-01-06 22:24:00\n",
       "  discharge_time      end_date   length_of_ip_since_admit\n",
       "1 2015-01-11 23:40:00 2015-01-11  9                      \n",
       "2 2015-01-07 02:00:00 2015-01-07  4                      \n",
       "3 2015-01-06 03:19:00 2015-01-06  5                      \n",
       "4 2015-01-22 01:25:00 2015-01-22 21                      \n",
       "5 2015-01-05 22:30:00 2015-01-05  0                      \n",
       "6 2015-01-09 21:00:00 2015-01-09  2                      \n",
       "  length_from_ED_entry_until_end_date death_date_jittered discharge_date\n",
       "1 10                                  2020-01-10          2015-01-11    \n",
       "2  4                                  <NA>                2015-01-07    \n",
       "3  5                                  2019-01-01          2015-01-06    \n",
       "4 21                                  <NA>                2015-01-22    \n",
       "5  1                                  <NA>                2015-01-05    \n",
       "6  3                                  <NA>                2015-01-09    \n",
       "  died_before_discharge death_dc_days admit_ed_hours\n",
       "1 NA                    1825          7.8           \n",
       "2 NA                      NA          4.0           \n",
       "3 NA                    1456          7.2           \n",
       "4 NA                      NA          6.5           \n",
       "5 NA                      NA          8.2           \n",
       "6 NA                      NA          5.6           "
      ]
     },
     "metadata": {},
     "output_type": "display_data"
    }
   ],
   "source": [
    "los <- los %>% mutate(death_dc_days = as.numeric(death_dc_days))\n",
    "head(los)"
   ]
  },
  {
   "cell_type": "code",
   "execution_count": 34,
   "metadata": {},
   "outputs": [
    {
     "data": {
      "text/plain": [
       "\n",
       "  1 \n",
       "120 "
      ]
     },
     "metadata": {},
     "output_type": "display_data"
    },
    {
     "data": {
      "text/plain": [
       "    Min.  1st Qu.   Median     Mean  3rd Qu.     Max.     NA's \n",
       "-158.000    2.000    4.000    5.855    7.000  232.000      198 "
      ]
     },
     "metadata": {},
     "output_type": "display_data"
    },
    {
     "data": {
      "text/plain": [
       "    Min.  1st Qu.   Median     Mean  3rd Qu.     Max.     NA's \n",
       "-157.000    2.000    4.000    6.143    7.000  232.000      198 "
      ]
     },
     "metadata": {},
     "output_type": "display_data"
    },
    {
     "data": {
      "text/plain": [
       "   Min. 1st Qu.  Median    Mean 3rd Qu.    Max.    NA's \n",
       "-160.00   -1.00   -1.00   -2.33   -1.00   -1.00   43860 "
      ]
     },
     "metadata": {},
     "output_type": "display_data"
    }
   ],
   "source": [
    "table(los$died_before_discharge)\n",
    "summary(los$length_of_ip_since_admit)\n",
    "summary(los$length_from_ED_entry_until_end_date)\n",
    "summary(los[los$died_before_discharge == 1, ]$death_dc_days)"
   ]
  },
  {
   "cell_type": "code",
   "execution_count": 35,
   "metadata": {},
   "outputs": [
    {
     "data": {
      "text/html": [
       "<table>\n",
       "<caption>A spec_tbl_df: 1 × 13</caption>\n",
       "<thead>\n",
       "\t<tr><th scope=col>anon_id</th><th scope=col>pat_enc_csn_id_coded</th><th scope=col>admit_time</th><th scope=col>first_ED_time</th><th scope=col>discharge_time</th><th scope=col>end_date</th><th scope=col>length_of_ip_since_admit</th><th scope=col>length_from_ED_entry_until_end_date</th><th scope=col>death_date_jittered</th><th scope=col>discharge_date</th><th scope=col>died_before_discharge</th><th scope=col>death_dc_days</th><th scope=col>admit_ed_hours</th></tr>\n",
       "\t<tr><th scope=col>&lt;chr&gt;</th><th scope=col>&lt;dbl&gt;</th><th scope=col>&lt;dttm&gt;</th><th scope=col>&lt;dttm&gt;</th><th scope=col>&lt;dttm&gt;</th><th scope=col>&lt;date&gt;</th><th scope=col>&lt;dbl&gt;</th><th scope=col>&lt;dbl&gt;</th><th scope=col>&lt;date&gt;</th><th scope=col>&lt;date&gt;</th><th scope=col>&lt;dbl&gt;</th><th scope=col>&lt;dbl&gt;</th><th scope=col>&lt;dbl&gt;</th></tr>\n",
       "</thead>\n",
       "<tbody>\n",
       "\t<tr><td>JCe83587</td><td>131267837304</td><td>2019-06-08 06:06:00</td><td>2019-06-07 21:23:00</td><td>2019-06-10 21:13:00</td><td>2019-01-01</td><td>-158</td><td>-157</td><td>2019-01-01</td><td>2019-06-10</td><td>1</td><td>-160</td><td>8.7</td></tr>\n",
       "</tbody>\n",
       "</table>\n"
      ],
      "text/latex": [
       "A spec\\_tbl\\_df: 1 × 13\n",
       "\\begin{tabular}{lllllllllllll}\n",
       " anon\\_id & pat\\_enc\\_csn\\_id\\_coded & admit\\_time & first\\_ED\\_time & discharge\\_time & end\\_date & length\\_of\\_ip\\_since\\_admit & length\\_from\\_ED\\_entry\\_until\\_end\\_date & death\\_date\\_jittered & discharge\\_date & died\\_before\\_discharge & death\\_dc\\_days & admit\\_ed\\_hours\\\\\n",
       " <chr> & <dbl> & <dttm> & <dttm> & <dttm> & <date> & <dbl> & <dbl> & <date> & <date> & <dbl> & <dbl> & <dbl>\\\\\n",
       "\\hline\n",
       "\t JCe83587 & 131267837304 & 2019-06-08 06:06:00 & 2019-06-07 21:23:00 & 2019-06-10 21:13:00 & 2019-01-01 & -158 & -157 & 2019-01-01 & 2019-06-10 & 1 & -160 & 8.7\\\\\n",
       "\\end{tabular}\n"
      ],
      "text/markdown": [
       "\n",
       "A spec_tbl_df: 1 × 13\n",
       "\n",
       "| anon_id &lt;chr&gt; | pat_enc_csn_id_coded &lt;dbl&gt; | admit_time &lt;dttm&gt; | first_ED_time &lt;dttm&gt; | discharge_time &lt;dttm&gt; | end_date &lt;date&gt; | length_of_ip_since_admit &lt;dbl&gt; | length_from_ED_entry_until_end_date &lt;dbl&gt; | death_date_jittered &lt;date&gt; | discharge_date &lt;date&gt; | died_before_discharge &lt;dbl&gt; | death_dc_days &lt;dbl&gt; | admit_ed_hours &lt;dbl&gt; |\n",
       "|---|---|---|---|---|---|---|---|---|---|---|---|---|\n",
       "| JCe83587 | 131267837304 | 2019-06-08 06:06:00 | 2019-06-07 21:23:00 | 2019-06-10 21:13:00 | 2019-01-01 | -158 | -157 | 2019-01-01 | 2019-06-10 | 1 | -160 | 8.7 |\n",
       "\n"
      ],
      "text/plain": [
       "  anon_id  pat_enc_csn_id_coded admit_time          first_ED_time      \n",
       "1 JCe83587 131267837304         2019-06-08 06:06:00 2019-06-07 21:23:00\n",
       "  discharge_time      end_date   length_of_ip_since_admit\n",
       "1 2019-06-10 21:13:00 2019-01-01 -158                    \n",
       "  length_from_ED_entry_until_end_date death_date_jittered discharge_date\n",
       "1 -157                                2019-01-01          2019-06-10    \n",
       "  died_before_discharge death_dc_days admit_ed_hours\n",
       "1 1                     -160          8.7           "
      ]
     },
     "metadata": {},
     "output_type": "display_data"
    },
    {
     "data": {
      "text/html": [
       "<table>\n",
       "<caption>A spec_tbl_df: 1 × 13</caption>\n",
       "<thead>\n",
       "\t<tr><th scope=col>anon_id</th><th scope=col>pat_enc_csn_id_coded</th><th scope=col>admit_time</th><th scope=col>first_ED_time</th><th scope=col>discharge_time</th><th scope=col>end_date</th><th scope=col>length_of_ip_since_admit</th><th scope=col>length_from_ED_entry_until_end_date</th><th scope=col>death_date_jittered</th><th scope=col>discharge_date</th><th scope=col>died_before_discharge</th><th scope=col>death_dc_days</th><th scope=col>admit_ed_hours</th></tr>\n",
       "\t<tr><th scope=col>&lt;chr&gt;</th><th scope=col>&lt;dbl&gt;</th><th scope=col>&lt;dttm&gt;</th><th scope=col>&lt;dttm&gt;</th><th scope=col>&lt;dttm&gt;</th><th scope=col>&lt;date&gt;</th><th scope=col>&lt;dbl&gt;</th><th scope=col>&lt;dbl&gt;</th><th scope=col>&lt;date&gt;</th><th scope=col>&lt;date&gt;</th><th scope=col>&lt;dbl&gt;</th><th scope=col>&lt;dbl&gt;</th><th scope=col>&lt;dbl&gt;</th></tr>\n",
       "</thead>\n",
       "<tbody>\n",
       "\t<tr><td>JCe83587</td><td>131267837304</td><td>2019-06-08 06:06:00</td><td>2019-06-07 21:23:00</td><td>2019-06-10 21:13:00</td><td>2019-01-01</td><td>-158</td><td>-157</td><td>2019-01-01</td><td>2019-06-10</td><td>1</td><td>-160</td><td>8.7</td></tr>\n",
       "</tbody>\n",
       "</table>\n"
      ],
      "text/latex": [
       "A spec\\_tbl\\_df: 1 × 13\n",
       "\\begin{tabular}{lllllllllllll}\n",
       " anon\\_id & pat\\_enc\\_csn\\_id\\_coded & admit\\_time & first\\_ED\\_time & discharge\\_time & end\\_date & length\\_of\\_ip\\_since\\_admit & length\\_from\\_ED\\_entry\\_until\\_end\\_date & death\\_date\\_jittered & discharge\\_date & died\\_before\\_discharge & death\\_dc\\_days & admit\\_ed\\_hours\\\\\n",
       " <chr> & <dbl> & <dttm> & <dttm> & <dttm> & <date> & <dbl> & <dbl> & <date> & <date> & <dbl> & <dbl> & <dbl>\\\\\n",
       "\\hline\n",
       "\t JCe83587 & 131267837304 & 2019-06-08 06:06:00 & 2019-06-07 21:23:00 & 2019-06-10 21:13:00 & 2019-01-01 & -158 & -157 & 2019-01-01 & 2019-06-10 & 1 & -160 & 8.7\\\\\n",
       "\\end{tabular}\n"
      ],
      "text/markdown": [
       "\n",
       "A spec_tbl_df: 1 × 13\n",
       "\n",
       "| anon_id &lt;chr&gt; | pat_enc_csn_id_coded &lt;dbl&gt; | admit_time &lt;dttm&gt; | first_ED_time &lt;dttm&gt; | discharge_time &lt;dttm&gt; | end_date &lt;date&gt; | length_of_ip_since_admit &lt;dbl&gt; | length_from_ED_entry_until_end_date &lt;dbl&gt; | death_date_jittered &lt;date&gt; | discharge_date &lt;date&gt; | died_before_discharge &lt;dbl&gt; | death_dc_days &lt;dbl&gt; | admit_ed_hours &lt;dbl&gt; |\n",
       "|---|---|---|---|---|---|---|---|---|---|---|---|---|\n",
       "| JCe83587 | 131267837304 | 2019-06-08 06:06:00 | 2019-06-07 21:23:00 | 2019-06-10 21:13:00 | 2019-01-01 | -158 | -157 | 2019-01-01 | 2019-06-10 | 1 | -160 | 8.7 |\n",
       "\n"
      ],
      "text/plain": [
       "  anon_id  pat_enc_csn_id_coded admit_time          first_ED_time      \n",
       "1 JCe83587 131267837304         2019-06-08 06:06:00 2019-06-07 21:23:00\n",
       "  discharge_time      end_date   length_of_ip_since_admit\n",
       "1 2019-06-10 21:13:00 2019-01-01 -158                    \n",
       "  length_from_ED_entry_until_end_date death_date_jittered discharge_date\n",
       "1 -157                                2019-01-01          2019-06-10    \n",
       "  died_before_discharge death_dc_days admit_ed_hours\n",
       "1 1                     -160          8.7           "
      ]
     },
     "metadata": {},
     "output_type": "display_data"
    },
    {
     "data": {
      "text/html": [
       "<table>\n",
       "<caption>A spec_tbl_df: 1 × 13</caption>\n",
       "<thead>\n",
       "\t<tr><th scope=col>anon_id</th><th scope=col>pat_enc_csn_id_coded</th><th scope=col>admit_time</th><th scope=col>first_ED_time</th><th scope=col>discharge_time</th><th scope=col>end_date</th><th scope=col>length_of_ip_since_admit</th><th scope=col>length_from_ED_entry_until_end_date</th><th scope=col>death_date_jittered</th><th scope=col>discharge_date</th><th scope=col>died_before_discharge</th><th scope=col>death_dc_days</th><th scope=col>admit_ed_hours</th></tr>\n",
       "\t<tr><th scope=col>&lt;chr&gt;</th><th scope=col>&lt;dbl&gt;</th><th scope=col>&lt;dttm&gt;</th><th scope=col>&lt;dttm&gt;</th><th scope=col>&lt;dttm&gt;</th><th scope=col>&lt;date&gt;</th><th scope=col>&lt;dbl&gt;</th><th scope=col>&lt;dbl&gt;</th><th scope=col>&lt;date&gt;</th><th scope=col>&lt;date&gt;</th><th scope=col>&lt;dbl&gt;</th><th scope=col>&lt;dbl&gt;</th><th scope=col>&lt;dbl&gt;</th></tr>\n",
       "</thead>\n",
       "<tbody>\n",
       "\t<tr><td>JCe83587</td><td>131267837304</td><td>2019-06-08 06:06:00</td><td>2019-06-07 21:23:00</td><td>2019-06-10 21:13:00</td><td>2019-01-01</td><td>-158</td><td>-157</td><td>2019-01-01</td><td>2019-06-10</td><td>1</td><td>-160</td><td>8.7</td></tr>\n",
       "</tbody>\n",
       "</table>\n"
      ],
      "text/latex": [
       "A spec\\_tbl\\_df: 1 × 13\n",
       "\\begin{tabular}{lllllllllllll}\n",
       " anon\\_id & pat\\_enc\\_csn\\_id\\_coded & admit\\_time & first\\_ED\\_time & discharge\\_time & end\\_date & length\\_of\\_ip\\_since\\_admit & length\\_from\\_ED\\_entry\\_until\\_end\\_date & death\\_date\\_jittered & discharge\\_date & died\\_before\\_discharge & death\\_dc\\_days & admit\\_ed\\_hours\\\\\n",
       " <chr> & <dbl> & <dttm> & <dttm> & <dttm> & <date> & <dbl> & <dbl> & <date> & <date> & <dbl> & <dbl> & <dbl>\\\\\n",
       "\\hline\n",
       "\t JCe83587 & 131267837304 & 2019-06-08 06:06:00 & 2019-06-07 21:23:00 & 2019-06-10 21:13:00 & 2019-01-01 & -158 & -157 & 2019-01-01 & 2019-06-10 & 1 & -160 & 8.7\\\\\n",
       "\\end{tabular}\n"
      ],
      "text/markdown": [
       "\n",
       "A spec_tbl_df: 1 × 13\n",
       "\n",
       "| anon_id &lt;chr&gt; | pat_enc_csn_id_coded &lt;dbl&gt; | admit_time &lt;dttm&gt; | first_ED_time &lt;dttm&gt; | discharge_time &lt;dttm&gt; | end_date &lt;date&gt; | length_of_ip_since_admit &lt;dbl&gt; | length_from_ED_entry_until_end_date &lt;dbl&gt; | death_date_jittered &lt;date&gt; | discharge_date &lt;date&gt; | died_before_discharge &lt;dbl&gt; | death_dc_days &lt;dbl&gt; | admit_ed_hours &lt;dbl&gt; |\n",
       "|---|---|---|---|---|---|---|---|---|---|---|---|---|\n",
       "| JCe83587 | 131267837304 | 2019-06-08 06:06:00 | 2019-06-07 21:23:00 | 2019-06-10 21:13:00 | 2019-01-01 | -158 | -157 | 2019-01-01 | 2019-06-10 | 1 | -160 | 8.7 |\n",
       "\n"
      ],
      "text/plain": [
       "  anon_id  pat_enc_csn_id_coded admit_time          first_ED_time      \n",
       "1 JCe83587 131267837304         2019-06-08 06:06:00 2019-06-07 21:23:00\n",
       "  discharge_time      end_date   length_of_ip_since_admit\n",
       "1 2019-06-10 21:13:00 2019-01-01 -158                    \n",
       "  length_from_ED_entry_until_end_date death_date_jittered discharge_date\n",
       "1 -157                                2019-01-01          2019-06-10    \n",
       "  died_before_discharge death_dc_days admit_ed_hours\n",
       "1 1                     -160          8.7           "
      ]
     },
     "metadata": {},
     "output_type": "display_data"
    }
   ],
   "source": [
    "los %>% filter(death_dc_days < -1)\n",
    "los %>% filter(length_of_ip_since_admit < 0)\n",
    "los %>% filter(length_from_ED_entry_until_end_date < 0)"
   ]
  },
  {
   "cell_type": "code",
   "execution_count": 36,
   "metadata": {},
   "outputs": [
    {
     "data": {
      "image/png": "[encoded data removed]",
      "text/plain": [
       "Plot with title \"Histogram of los$length_of_ip_since_admit\""
      ]
     },
     "metadata": {
      "image/png": {
       "height": 420,
       "width": 900
      }
     },
     "output_type": "display_data"
    },
    {
     "data": {
      "image/png": "[encoded data removed]",
      "text/plain": [
       "Plot with title \"Histogram of los$length_from_ED_entry_until_end_date\""
      ]
     },
     "metadata": {
      "image/png": {
       "height": 420,
       "width": 900
      }
     },
     "output_type": "display_data"
    }
   ],
   "source": [
    "hist(los$length_of_ip_since_admit)\n",
    "hist(los$length_from_ED_entry_until_end_date)"
   ]
  },
  {
   "cell_type": "markdown",
   "metadata": {},
   "source": [
    "### read the discordance"
   ]
  },
  {
   "cell_type": "code",
   "execution_count": 37,
   "metadata": {},
   "outputs": [
    {
     "name": "stderr",
     "output_type": "stream",
     "text": [
      "\n",
      "\u001b[36m--\u001b[39m \u001b[1m\u001b[1mColumn specification\u001b[1m\u001b[22m \u001b[36m--------------------------------------------------------\u001b[39m\n",
      "cols(\n",
      "  anon_id = \u001b[31mcol_character()\u001b[39m,\n",
      "  jitter = \u001b[31mcol_character()\u001b[39m,\n",
      "  pat_enc_csn_id_coded = \u001b[32mcol_double()\u001b[39m,\n",
      "  admit_time = \u001b[34mcol_datetime(format = \"\")\u001b[39m,\n",
      "  first_label = \u001b[32mcol_double()\u001b[39m,\n",
      "  death_24hr_recent_label = \u001b[32mcol_double()\u001b[39m,\n",
      "  pred_first = \u001b[32mcol_double()\u001b[39m,\n",
      "  pred_death_24hr_recent = \u001b[32mcol_double()\u001b[39m,\n",
      "  abs_diff0_24 = \u001b[32mcol_double()\u001b[39m,\n",
      "  transfer = \u001b[32mcol_double()\u001b[39m\n",
      ")\n",
      "\n",
      "\n"
     ]
    },
    {
     "data": {
      "text/html": [
       "117"
      ],
      "text/latex": [
       "117"
      ],
      "text/markdown": [
       "117"
      ],
      "text/plain": [
       "[1] 117"
      ]
     },
     "metadata": {},
     "output_type": "display_data"
    }
   ],
   "source": [
    "los_dis <- read_csv(file.path(tabledir, \"4_2_diffIDs_117.csv\")) \n",
    "nrow(los_dis)"
   ]
  },
  {
   "cell_type": "code",
   "execution_count": 38,
   "metadata": {},
   "outputs": [
    {
     "name": "stderr",
     "output_type": "stream",
     "text": [
      "Joining, by = \"pat_enc_csn_id_coded\"\n",
      "\n"
     ]
    },
    {
     "data": {
      "text/html": [
       "2499"
      ],
      "text/latex": [
       "2499"
      ],
      "text/markdown": [
       "2499"
      ],
      "text/plain": [
       "[1] 2499"
      ]
     },
     "metadata": {},
     "output_type": "display_data"
    }
   ],
   "source": [
    "los_tx <- cohort %>% select(pat_enc_csn_id_coded, first_label, death_24hr_recent_label) %>% \n",
    "            filter(first_label != death_24hr_recent_label) %>% left_join(los)\n",
    "nrow(los_tx)"
   ]
  },
  {
   "cell_type": "code",
   "execution_count": 39,
   "metadata": {},
   "outputs": [
    {
     "name": "stderr",
     "output_type": "stream",
     "text": [
      "Joining, by = c(\"anon_id\", \"pat_enc_csn_id_coded\", \"admit_time\")\n",
      "\n"
     ]
    },
    {
     "data": {
      "text/html": [
       "117"
      ],
      "text/latex": [
       "117"
      ],
      "text/markdown": [
       "117"
      ],
      "text/plain": [
       "[1] 117"
      ]
     },
     "metadata": {},
     "output_type": "display_data"
    },
    {
     "data": {
      "text/html": [
       "<table>\n",
       "<caption>A tibble: 6 × 20</caption>\n",
       "<thead>\n",
       "\t<tr><th scope=col>anon_id</th><th scope=col>pat_enc_csn_id_coded</th><th scope=col>admit_time</th><th scope=col>first_ED_time</th><th scope=col>discharge_time</th><th scope=col>end_date</th><th scope=col>length_of_ip_since_admit</th><th scope=col>length_from_ED_entry_until_end_date</th><th scope=col>death_date_jittered</th><th scope=col>discharge_date</th><th scope=col>died_before_discharge</th><th scope=col>death_dc_days</th><th scope=col>admit_ed_hours</th><th scope=col>jitter</th><th scope=col>first_label</th><th scope=col>death_24hr_recent_label</th><th scope=col>pred_first</th><th scope=col>pred_death_24hr_recent</th><th scope=col>abs_diff0_24</th><th scope=col>transfer</th></tr>\n",
       "\t<tr><th scope=col>&lt;chr&gt;</th><th scope=col>&lt;dbl&gt;</th><th scope=col>&lt;dttm&gt;</th><th scope=col>&lt;dttm&gt;</th><th scope=col>&lt;dttm&gt;</th><th scope=col>&lt;date&gt;</th><th scope=col>&lt;dbl&gt;</th><th scope=col>&lt;dbl&gt;</th><th scope=col>&lt;date&gt;</th><th scope=col>&lt;date&gt;</th><th scope=col>&lt;dbl&gt;</th><th scope=col>&lt;dbl&gt;</th><th scope=col>&lt;dbl&gt;</th><th scope=col>&lt;chr&gt;</th><th scope=col>&lt;dbl&gt;</th><th scope=col>&lt;dbl&gt;</th><th scope=col>&lt;dbl&gt;</th><th scope=col>&lt;dbl&gt;</th><th scope=col>&lt;dbl&gt;</th><th scope=col>&lt;dbl&gt;</th></tr>\n",
       "</thead>\n",
       "<tbody>\n",
       "\t<tr><td>JCcf7ee2</td><td>131261541119</td><td>2019-01-15 06:59:00</td><td>2019-01-15 03:44:00</td><td>2019-01-16 01:00:00</td><td>2019-01-16</td><td>1</td><td>1</td><td>NA</td><td>2019-01-16</td><td>NA</td><td>NA</td><td>3.2</td><td>18 days 00:00:00.000000000  </td><td>1</td><td>0</td><td>0.8834838</td><td>0.39151948</td><td>0.5</td><td>1</td></tr>\n",
       "\t<tr><td>JCcc6f5a</td><td>131261651290</td><td>2019-01-27 21:31:00</td><td>2019-01-27 17:29:00</td><td>2019-01-29 22:00:00</td><td>2019-01-29</td><td>2</td><td>2</td><td>NA</td><td>2019-01-29</td><td>NA</td><td>NA</td><td>4.0</td><td>25 days 00:00:00.000000000  </td><td>1</td><td>0</td><td>0.7241807</td><td>0.24340748</td><td>0.5</td><td>1</td></tr>\n",
       "\t<tr><td>JCde7c64</td><td>131261808962</td><td>2019-01-16 00:57:00</td><td>2019-01-15 20:24:00</td><td>2019-01-18 22:00:00</td><td>2019-01-18</td><td>2</td><td>3</td><td>NA</td><td>2019-01-18</td><td>NA</td><td>NA</td><td>4.6</td><td>10 days 00:00:00.000000000  </td><td>1</td><td>0</td><td>0.4796851</td><td>0.05314808</td><td>0.4</td><td>1</td></tr>\n",
       "\t<tr><td>JCdd7007</td><td>131262475284</td><td>2019-02-08 03:16:00</td><td>2019-02-07 19:04:00</td><td>2019-02-12 03:23:00</td><td>2019-02-12</td><td>4</td><td>5</td><td>NA</td><td>2019-02-12</td><td>NA</td><td>NA</td><td>8.2</td><td>19 days 00:00:00.000000000  </td><td>0</td><td>0</td><td>0.4612504</td><td>0.07889768</td><td>0.4</td><td>0</td></tr>\n",
       "\t<tr><td>JCdc5d49</td><td>131262480872</td><td>2019-01-05 17:04:00</td><td>2019-01-05 15:08:00</td><td>2019-01-08 02:45:00</td><td>2019-01-08</td><td>3</td><td>3</td><td>NA</td><td>2019-01-08</td><td>NA</td><td>NA</td><td>1.9</td><td>-15 days +00:00:00.000000000</td><td>1</td><td>1</td><td>0.6639243</td><td>0.20044141</td><td>0.5</td><td>0</td></tr>\n",
       "\t<tr><td>JCe03bac</td><td>131262690581</td><td>2019-01-13 07:44:00</td><td>2019-01-13 04:42:00</td><td>2019-01-20 00:30:00</td><td>2019-01-20</td><td>7</td><td>7</td><td>2019-04-19</td><td>2019-01-20</td><td>NA</td><td>89</td><td>3.0</td><td>-12 days +00:00:00.000000000</td><td>1</td><td>1</td><td>0.6941944</td><td>0.27086723</td><td>0.4</td><td>0</td></tr>\n",
       "</tbody>\n",
       "</table>\n"
      ],
      "text/latex": [
       "A tibble: 6 × 20\n",
       "\\begin{tabular}{llllllllllllllllllll}\n",
       " anon\\_id & pat\\_enc\\_csn\\_id\\_coded & admit\\_time & first\\_ED\\_time & discharge\\_time & end\\_date & length\\_of\\_ip\\_since\\_admit & length\\_from\\_ED\\_entry\\_until\\_end\\_date & death\\_date\\_jittered & discharge\\_date & died\\_before\\_discharge & death\\_dc\\_days & admit\\_ed\\_hours & jitter & first\\_label & death\\_24hr\\_recent\\_label & pred\\_first & pred\\_death\\_24hr\\_recent & abs\\_diff0\\_24 & transfer\\\\\n",
       " <chr> & <dbl> & <dttm> & <dttm> & <dttm> & <date> & <dbl> & <dbl> & <date> & <date> & <dbl> & <dbl> & <dbl> & <chr> & <dbl> & <dbl> & <dbl> & <dbl> & <dbl> & <dbl>\\\\\n",
       "\\hline\n",
       "\t JCcf7ee2 & 131261541119 & 2019-01-15 06:59:00 & 2019-01-15 03:44:00 & 2019-01-16 01:00:00 & 2019-01-16 & 1 & 1 & NA & 2019-01-16 & NA & NA & 3.2 & 18 days 00:00:00.000000000   & 1 & 0 & 0.8834838 & 0.39151948 & 0.5 & 1\\\\\n",
       "\t JCcc6f5a & 131261651290 & 2019-01-27 21:31:00 & 2019-01-27 17:29:00 & 2019-01-29 22:00:00 & 2019-01-29 & 2 & 2 & NA & 2019-01-29 & NA & NA & 4.0 & 25 days 00:00:00.000000000   & 1 & 0 & 0.7241807 & 0.24340748 & 0.5 & 1\\\\\n",
       "\t JCde7c64 & 131261808962 & 2019-01-16 00:57:00 & 2019-01-15 20:24:00 & 2019-01-18 22:00:00 & 2019-01-18 & 2 & 3 & NA & 2019-01-18 & NA & NA & 4.6 & 10 days 00:00:00.000000000   & 1 & 0 & 0.4796851 & 0.05314808 & 0.4 & 1\\\\\n",
       "\t JCdd7007 & 131262475284 & 2019-02-08 03:16:00 & 2019-02-07 19:04:00 & 2019-02-12 03:23:00 & 2019-02-12 & 4 & 5 & NA & 2019-02-12 & NA & NA & 8.2 & 19 days 00:00:00.000000000   & 0 & 0 & 0.4612504 & 0.07889768 & 0.4 & 0\\\\\n",
       "\t JCdc5d49 & 131262480872 & 2019-01-05 17:04:00 & 2019-01-05 15:08:00 & 2019-01-08 02:45:00 & 2019-01-08 & 3 & 3 & NA & 2019-01-08 & NA & NA & 1.9 & -15 days +00:00:00.000000000 & 1 & 1 & 0.6639243 & 0.20044141 & 0.5 & 0\\\\\n",
       "\t JCe03bac & 131262690581 & 2019-01-13 07:44:00 & 2019-01-13 04:42:00 & 2019-01-20 00:30:00 & 2019-01-20 & 7 & 7 & 2019-04-19 & 2019-01-20 & NA & 89 & 3.0 & -12 days +00:00:00.000000000 & 1 & 1 & 0.6941944 & 0.27086723 & 0.4 & 0\\\\\n",
       "\\end{tabular}\n"
      ],
      "text/markdown": [
       "\n",
       "A tibble: 6 × 20\n",
       "\n",
       "| anon_id &lt;chr&gt; | pat_enc_csn_id_coded &lt;dbl&gt; | admit_time &lt;dttm&gt; | first_ED_time &lt;dttm&gt; | discharge_time &lt;dttm&gt; | end_date &lt;date&gt; | length_of_ip_since_admit &lt;dbl&gt; | length_from_ED_entry_until_end_date &lt;dbl&gt; | death_date_jittered &lt;date&gt; | discharge_date &lt;date&gt; | died_before_discharge &lt;dbl&gt; | death_dc_days &lt;dbl&gt; | admit_ed_hours &lt;dbl&gt; | jitter &lt;chr&gt; | first_label &lt;dbl&gt; | death_24hr_recent_label &lt;dbl&gt; | pred_first &lt;dbl&gt; | pred_death_24hr_recent &lt;dbl&gt; | abs_diff0_24 &lt;dbl&gt; | transfer &lt;dbl&gt; |\n",
       "|---|---|---|---|---|---|---|---|---|---|---|---|---|---|---|---|---|---|---|---|\n",
       "| JCcf7ee2 | 131261541119 | 2019-01-15 06:59:00 | 2019-01-15 03:44:00 | 2019-01-16 01:00:00 | 2019-01-16 | 1 | 1 | NA | 2019-01-16 | NA | NA | 3.2 | 18 days 00:00:00.000000000   | 1 | 0 | 0.8834838 | 0.39151948 | 0.5 | 1 |\n",
       "| JCcc6f5a | 131261651290 | 2019-01-27 21:31:00 | 2019-01-27 17:29:00 | 2019-01-29 22:00:00 | 2019-01-29 | 2 | 2 | NA | 2019-01-29 | NA | NA | 4.0 | 25 days 00:00:00.000000000   | 1 | 0 | 0.7241807 | 0.24340748 | 0.5 | 1 |\n",
       "| JCde7c64 | 131261808962 | 2019-01-16 00:57:00 | 2019-01-15 20:24:00 | 2019-01-18 22:00:00 | 2019-01-18 | 2 | 3 | NA | 2019-01-18 | NA | NA | 4.6 | 10 days 00:00:00.000000000   | 1 | 0 | 0.4796851 | 0.05314808 | 0.4 | 1 |\n",
       "| JCdd7007 | 131262475284 | 2019-02-08 03:16:00 | 2019-02-07 19:04:00 | 2019-02-12 03:23:00 | 2019-02-12 | 4 | 5 | NA | 2019-02-12 | NA | NA | 8.2 | 19 days 00:00:00.000000000   | 0 | 0 | 0.4612504 | 0.07889768 | 0.4 | 0 |\n",
       "| JCdc5d49 | 131262480872 | 2019-01-05 17:04:00 | 2019-01-05 15:08:00 | 2019-01-08 02:45:00 | 2019-01-08 | 3 | 3 | NA | 2019-01-08 | NA | NA | 1.9 | -15 days +00:00:00.000000000 | 1 | 1 | 0.6639243 | 0.20044141 | 0.5 | 0 |\n",
       "| JCe03bac | 131262690581 | 2019-01-13 07:44:00 | 2019-01-13 04:42:00 | 2019-01-20 00:30:00 | 2019-01-20 | 7 | 7 | 2019-04-19 | 2019-01-20 | NA | 89 | 3.0 | -12 days +00:00:00.000000000 | 1 | 1 | 0.6941944 | 0.27086723 | 0.4 | 0 |\n",
       "\n"
      ],
      "text/plain": [
       "  anon_id  pat_enc_csn_id_coded admit_time          first_ED_time      \n",
       "1 JCcf7ee2 131261541119         2019-01-15 06:59:00 2019-01-15 03:44:00\n",
       "2 JCcc6f5a 131261651290         2019-01-27 21:31:00 2019-01-27 17:29:00\n",
       "3 JCde7c64 131261808962         2019-01-16 00:57:00 2019-01-15 20:24:00\n",
       "4 JCdd7007 131262475284         2019-02-08 03:16:00 2019-02-07 19:04:00\n",
       "5 JCdc5d49 131262480872         2019-01-05 17:04:00 2019-01-05 15:08:00\n",
       "6 JCe03bac 131262690581         2019-01-13 07:44:00 2019-01-13 04:42:00\n",
       "  discharge_time      end_date   length_of_ip_since_admit\n",
       "1 2019-01-16 01:00:00 2019-01-16 1                       \n",
       "2 2019-01-29 22:00:00 2019-01-29 2                       \n",
       "3 2019-01-18 22:00:00 2019-01-18 2                       \n",
       "4 2019-02-12 03:23:00 2019-02-12 4                       \n",
       "5 2019-01-08 02:45:00 2019-01-08 3                       \n",
       "6 2019-01-20 00:30:00 2019-01-20 7                       \n",
       "  length_from_ED_entry_until_end_date death_date_jittered discharge_date\n",
       "1 1                                   <NA>                2019-01-16    \n",
       "2 2                                   <NA>                2019-01-29    \n",
       "3 3                                   <NA>                2019-01-18    \n",
       "4 5                                   <NA>                2019-02-12    \n",
       "5 3                                   <NA>                2019-01-08    \n",
       "6 7                                   2019-04-19          2019-01-20    \n",
       "  died_before_discharge death_dc_days admit_ed_hours\n",
       "1 NA                    NA            3.2           \n",
       "2 NA                    NA            4.0           \n",
       "3 NA                    NA            4.6           \n",
       "4 NA                    NA            8.2           \n",
       "5 NA                    NA            1.9           \n",
       "6 NA                    89            3.0           \n",
       "  jitter                       first_label death_24hr_recent_label pred_first\n",
       "1 18 days 00:00:00.000000000   1           0                       0.8834838 \n",
       "2 25 days 00:00:00.000000000   1           0                       0.7241807 \n",
       "3 10 days 00:00:00.000000000   1           0                       0.4796851 \n",
       "4 19 days 00:00:00.000000000   0           0                       0.4612504 \n",
       "5 -15 days +00:00:00.000000000 1           1                       0.6639243 \n",
       "6 -12 days +00:00:00.000000000 1           1                       0.6941944 \n",
       "  pred_death_24hr_recent abs_diff0_24 transfer\n",
       "1 0.39151948             0.5          1       \n",
       "2 0.24340748             0.5          1       \n",
       "3 0.05314808             0.4          1       \n",
       "4 0.07889768             0.4          0       \n",
       "5 0.20044141             0.5          0       \n",
       "6 0.27086723             0.4          0       "
      ]
     },
     "metadata": {},
     "output_type": "display_data"
    }
   ],
   "source": [
    "los_dis <- right_join(los, los_dis)\n",
    "nrow(los_dis)\n",
    "head(los_dis)"
   ]
  },
  {
   "cell_type": "code",
   "execution_count": 40,
   "metadata": {},
   "outputs": [
    {
     "data": {
      "text/plain": [
       "\n",
       "  1 \n",
       "120 "
      ]
     },
     "metadata": {},
     "output_type": "display_data"
    },
    {
     "data": {
      "text/plain": [
       "\n",
       "1 \n",
       "2 "
      ]
     },
     "metadata": {},
     "output_type": "display_data"
    },
    {
     "data": {
      "text/plain": [
       "\n",
       " 1 \n",
       "25 "
      ]
     },
     "metadata": {},
     "output_type": "display_data"
    },
    {
     "data": {
      "text/plain": [
       "    Min.  1st Qu.   Median     Mean  3rd Qu.     Max.     NA's \n",
       "-158.000    2.000    4.000    5.855    7.000  232.000      198 "
      ]
     },
     "metadata": {},
     "output_type": "display_data"
    },
    {
     "data": {
      "text/plain": [
       "   Min. 1st Qu.  Median    Mean 3rd Qu.    Max. \n",
       "  0.000   2.000   3.000   3.983   5.000  29.000 "
      ]
     },
     "metadata": {},
     "output_type": "display_data"
    },
    {
     "data": {
      "text/plain": [
       "    Min.  1st Qu.   Median     Mean  3rd Qu.     Max.     NA's \n",
       "-158.000    2.000    4.000    6.233    7.000  160.000       15 "
      ]
     },
     "metadata": {},
     "output_type": "display_data"
    },
    {
     "data": {
      "text/plain": [
       "   Min. 1st Qu.  Median    Mean 3rd Qu.    Max. \n",
       "  0.000   2.200   3.500   4.865   5.300 190.400 "
      ]
     },
     "metadata": {},
     "output_type": "display_data"
    },
    {
     "data": {
      "text/plain": [
       "   Min. 1st Qu.  Median    Mean 3rd Qu.    Max. \n",
       "  0.800   2.300   3.000   3.562   4.400  10.100 "
      ]
     },
     "metadata": {},
     "output_type": "display_data"
    },
    {
     "data": {
      "text/plain": [
       "   Min. 1st Qu.  Median    Mean 3rd Qu.    Max. \n",
       "  0.000   2.100   3.000   3.652   4.600  30.800 "
      ]
     },
     "metadata": {},
     "output_type": "display_data"
    }
   ],
   "source": [
    "table(los$died_before_discharge)\n",
    "table(los_dis$died_before_discharge)\n",
    "table(los_tx$died_before_discharge)\n",
    "\n",
    "summary(los$length_of_ip_since_admit)\n",
    "summary(los_dis$length_of_ip_since_admit)\n",
    "summary(los_tx$length_of_ip_since_admit)\n",
    "\n",
    "summary(los$admit_ed_hours)\n",
    "summary(los_dis$admit_ed_hours)\n",
    "summary(los_tx$admit_ed_hours)"
   ]
  },
  {
   "cell_type": "code",
   "execution_count": 41,
   "metadata": {},
   "outputs": [
    {
     "data": {
      "text/html": [
       "912"
      ],
      "text/latex": [
       "912"
      ],
      "text/markdown": [
       "912"
      ],
      "text/plain": [
       "[1] 912"
      ]
     },
     "metadata": {},
     "output_type": "display_data"
    },
    {
     "data": {
      "text/html": [
       "1587"
      ],
      "text/latex": [
       "1587"
      ],
      "text/markdown": [
       "1587"
      ],
      "text/plain": [
       "[1] 1587"
      ]
     },
     "metadata": {},
     "output_type": "display_data"
    },
    {
     "data": {
      "text/plain": [
       "\n",
       "1 \n",
       "3 "
      ]
     },
     "metadata": {},
     "output_type": "display_data"
    },
    {
     "data": {
      "text/plain": [
       "\n",
       " 1 \n",
       "22 "
      ]
     },
     "metadata": {},
     "output_type": "display_data"
    },
    {
     "data": {
      "text/plain": [
       "    Min.  1st Qu.   Median     Mean  3rd Qu.     Max.     NA's \n",
       "-158.000    2.000    4.000    6.233    7.000  160.000       15 "
      ]
     },
     "metadata": {},
     "output_type": "display_data"
    },
    {
     "data": {
      "text/plain": [
       "    Min.  1st Qu.   Median     Mean  3rd Qu.     Max.     NA's \n",
       "-158.000    4.000    7.000    9.836   11.000  109.000       12 "
      ]
     },
     "metadata": {},
     "output_type": "display_data"
    },
    {
     "data": {
      "text/plain": [
       "   Min. 1st Qu.  Median    Mean 3rd Qu.    Max. \n",
       "  0.000   2.100   3.000   3.652   4.600  30.800 "
      ]
     },
     "metadata": {},
     "output_type": "display_data"
    },
    {
     "data": {
      "text/plain": [
       "   Min. 1st Qu.  Median    Mean 3rd Qu.    Max. \n",
       "  0.000   2.000   3.100   3.741   4.800  30.800 "
      ]
     },
     "metadata": {},
     "output_type": "display_data"
    }
   ],
   "source": [
    "los_tx10 <- los_tx %>% filter(first_label==1)\n",
    "los_tx01 <- los_tx %>% filter(first_label==0)\n",
    "\n",
    "nrow(los_tx01)\n",
    "nrow(los_tx10)\n",
    "\n",
    "table(los_tx10$died_before_discharge)\n",
    "table(los_tx01$died_before_discharge)\n",
    "\n",
    "summary(los_tx$length_of_ip_since_admit)\n",
    "summary(los_tx01$length_of_ip_since_admit)\n",
    "\n",
    "summary(los_tx$admit_ed_hours)\n",
    "summary(los_tx01$admit_ed_hours)"
   ]
  },
  {
   "cell_type": "code",
   "execution_count": 42,
   "metadata": {},
   "outputs": [
    {
     "data": {
      "text/html": [
       "25"
      ],
      "text/latex": [
       "25"
      ],
      "text/markdown": [
       "25"
      ],
      "text/plain": [
       "[1] 25"
      ]
     },
     "metadata": {},
     "output_type": "display_data"
    }
   ],
   "source": [
    "txdeath <- los_tx %>% filter(died_before_discharge ==1) %>% select(anon_id)\n",
    "write.csv(txdeath, file.path(resultdir, \"5_3_tx_death.csv\"), row.names=FALSE)\n",
    "nrow(txdeath)"
   ]
  },
  {
   "cell_type": "code",
   "execution_count": null,
   "metadata": {},
   "outputs": [],
   "source": []
  }
 ],
 "metadata": {
  "environment": {
   "name": "r-cpu.4-0.m71",
   "type": "gcloud",
   "uri": "gcr.io/deeplearning-platform-release/r-cpu.4-0:m71"
  },
  "kernelspec": {
   "display_name": "R",
   "language": "R",
   "name": "ir"
  },
  "language_info": {
   "codemirror_mode": "r",
   "file_extension": ".r",
   "mimetype": "text/x-r-source",
   "name": "R",
   "pygments_lexer": "r",
   "version": "4.1.0"
  }
 },
 "nbformat": 4,
 "nbformat_minor": 4
}
