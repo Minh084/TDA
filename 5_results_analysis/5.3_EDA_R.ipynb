{
 "cells": [
  {
   "cell_type": "markdown",
   "metadata": {},
   "source": [
    "### EDA"
   ]
  },
  {
   "cell_type": "code",
   "execution_count": null,
   "metadata": {},
   "outputs": [],
   "source": [
    "library(cowplot) #Installing package into 'C:/Users/User/Documents/R/win-library/4.0'\n",
    "library(grid)\n",
    "library(ggplot2)\n",
    "library(ggExtra)\n",
    "library(tidyverse)\n",
    "library(lubridate)\n",
    "library(gridExtra)\n",
    "library(pROC)\n",
    "library(ROCR)\n",
    "library(ROCit)\n",
    "library(caret)\n",
    "library(boot)\n",
    "library(gbm)\n",
    "# library(\"cvAUC\")\n",
    "\n",
    "library(MLmetrics)"
   ]
  },
  {
   "cell_type": "code",
   "execution_count": null,
   "metadata": {},
   "outputs": [],
   "source": [
    "# directories\n",
    "datadir = \"../../DataTD\"\n",
    "cohortdir = \"../../OutputTD/1_cohort\"\n",
    "featuredir = \"../../OutputTD/2_features\"\n",
    "modeldir4 = \"../../OutputTD/3_models/1_4_cohort\"\n",
    "# modeldir4preadmit = \"../../OutputTD/3_models/1_4_cohort_24hrpreadmit\"\n",
    "tabledir = \"../../OutputTD/4_tables\"\n",
    "resultdir = \"../../OutputTD/5_results_analysis\"\n",
    "\n",
    "options(repr.matrix.max.rows=200, repr.matrix.max.cols=30)"
   ]
  },
  {
   "cell_type": "code",
   "execution_count": null,
   "metadata": {},
   "outputs": [],
   "source": [
    "cohort <- read.csv(file.path(cohortdir, \"1_4_cohort.csv\")) %>% mutate(admit_time = ymd_hms(admit_time))\n",
    "nrow(cohort)\n",
    "\n",
    "demo <- read.csv(file.path(featuredir, \"2_1_coh2_demo.csv\"))  %>% mutate(admit_time = ymd_hms(admit_time)) %>% \n",
    "            select(anon_id, pat_enc_csn_id_coded, race)\n",
    "nrow(demo)\n",
    "\n",
    "esi <- read.csv(file.path(featuredir, \"2_5_coh3_imputedHWESI.csv\"))  %>% mutate(admit_time = ymd_hms(admit_time)) %>%\n",
    "            select(anon_id, pat_enc_csn_id_coded, ESI_i) %>% rename(ESI = ESI_i)\n",
    "nrow(esi)\n",
    "\n",
    "los <- read.csv(file.path(datadir, \"length_of_stay_labels.csv\")) %>% mutate(admit_time = ymd_hms(admit_time))\n",
    "nrow(los) # less than cohort\n",
    "\n",
    "# adm_year = year(admit_time)"
   ]
  },
  {
   "cell_type": "code",
   "execution_count": null,
   "metadata": {},
   "outputs": [],
   "source": [
    "features <- read.csv(file.path(featuredir, \"2_7_coh4_feature_values.csv\"))\n",
    "nrow(features)\n",
    "colnames(features)"
   ]
  },
  {
   "cell_type": "code",
   "execution_count": 17,
   "metadata": {},
   "outputs": [
    {
     "data": {
      "text/html": [
       "<style>\n",
       ".list-inline {list-style: none; margin:0; padding: 0}\n",
       ".list-inline>li {display: inline-block}\n",
       ".list-inline>li:not(:last-child)::after {content: \"\\00b7\"; padding: 0 .5ex}\n",
       "</style>\n",
       "<ol class=list-inline><li>'ESI_i'</li><li>'delta_ESI'</li><li>'gender'</li><li>'age'</li><li>'insurance'</li><li>'English'</li><li>'Height_i'</li><li>'delta_H'</li><li>'Weight_i'</li><li>'delta_W'</li><li>'race.Asian'</li><li>'race.Black'</li><li>'race.Native.American'</li><li>'race.Other'</li><li>'race.Pacific.Islander'</li><li>'race.Unknown'</li><li>'race.White'</li><li>'Temp'</li><li>'DBP'</li><li>'SBP'</li><li>'Pulse'</li><li>'RR'</li><li>'Lactate'</li><li>'PO2_a'</li><li>'pH_a'</li><li>'TCO2_a'</li><li>'AnionGap'</li><li>'HCO3_a'</li><li>'O2sat_a'</li><li>'pCO2_a'</li><li>'Neut'</li><li>'HCO3_v'</li><li>'BUN'</li><li>'Cl'</li><li>'K'</li><li>'Base'</li><li>'Ca'</li><li>'Cr'</li><li>'Na'</li><li>'PT'</li><li>'TProtein'</li><li>'ALB'</li><li>'ALT'</li><li>'AST'</li><li>'CO2'</li><li>'Glucose'</li><li>'Hct'</li><li>'Hgb'</li><li>'INR'</li><li>'MCH'</li><li>'pH_v'</li><li>'Platelet'</li><li>'RDW'</li><li>'Trop'</li><li>'WBC'</li><li>'ALK'</li><li>'eGFR'</li><li>'Glob'</li><li>'PO2_v'</li><li>'TBili'</li><li>'Eos'</li><li>'Lymp'</li><li>'pCO2_v'</li><li>'Basos'</li><li>'Mono'</li><li>'O2sat_v'</li></ol>\n"
      ],
      "text/latex": [
       "\\begin{enumerate*}\n",
       "\\item 'ESI\\_i'\n",
       "\\item 'delta\\_ESI'\n",
       "\\item 'gender'\n",
       "\\item 'age'\n",
       "\\item 'insurance'\n",
       "\\item 'English'\n",
       "\\item 'Height\\_i'\n",
       "\\item 'delta\\_H'\n",
       "\\item 'Weight\\_i'\n",
       "\\item 'delta\\_W'\n",
       "\\item 'race.Asian'\n",
       "\\item 'race.Black'\n",
       "\\item 'race.Native.American'\n",
       "\\item 'race.Other'\n",
       "\\item 'race.Pacific.Islander'\n",
       "\\item 'race.Unknown'\n",
       "\\item 'race.White'\n",
       "\\item 'Temp'\n",
       "\\item 'DBP'\n",
       "\\item 'SBP'\n",
       "\\item 'Pulse'\n",
       "\\item 'RR'\n",
       "\\item 'Lactate'\n",
       "\\item 'PO2\\_a'\n",
       "\\item 'pH\\_a'\n",
       "\\item 'TCO2\\_a'\n",
       "\\item 'AnionGap'\n",
       "\\item 'HCO3\\_a'\n",
       "\\item 'O2sat\\_a'\n",
       "\\item 'pCO2\\_a'\n",
       "\\item 'Neut'\n",
       "\\item 'HCO3\\_v'\n",
       "\\item 'BUN'\n",
       "\\item 'Cl'\n",
       "\\item 'K'\n",
       "\\item 'Base'\n",
       "\\item 'Ca'\n",
       "\\item 'Cr'\n",
       "\\item 'Na'\n",
       "\\item 'PT'\n",
       "\\item 'TProtein'\n",
       "\\item 'ALB'\n",
       "\\item 'ALT'\n",
       "\\item 'AST'\n",
       "\\item 'CO2'\n",
       "\\item 'Glucose'\n",
       "\\item 'Hct'\n",
       "\\item 'Hgb'\n",
       "\\item 'INR'\n",
       "\\item 'MCH'\n",
       "\\item 'pH\\_v'\n",
       "\\item 'Platelet'\n",
       "\\item 'RDW'\n",
       "\\item 'Trop'\n",
       "\\item 'WBC'\n",
       "\\item 'ALK'\n",
       "\\item 'eGFR'\n",
       "\\item 'Glob'\n",
       "\\item 'PO2\\_v'\n",
       "\\item 'TBili'\n",
       "\\item 'Eos'\n",
       "\\item 'Lymp'\n",
       "\\item 'pCO2\\_v'\n",
       "\\item 'Basos'\n",
       "\\item 'Mono'\n",
       "\\item 'O2sat\\_v'\n",
       "\\end{enumerate*}\n"
      ],
      "text/markdown": [
       "1. 'ESI_i'\n",
       "2. 'delta_ESI'\n",
       "3. 'gender'\n",
       "4. 'age'\n",
       "5. 'insurance'\n",
       "6. 'English'\n",
       "7. 'Height_i'\n",
       "8. 'delta_H'\n",
       "9. 'Weight_i'\n",
       "10. 'delta_W'\n",
       "11. 'race.Asian'\n",
       "12. 'race.Black'\n",
       "13. 'race.Native.American'\n",
       "14. 'race.Other'\n",
       "15. 'race.Pacific.Islander'\n",
       "16. 'race.Unknown'\n",
       "17. 'race.White'\n",
       "18. 'Temp'\n",
       "19. 'DBP'\n",
       "20. 'SBP'\n",
       "21. 'Pulse'\n",
       "22. 'RR'\n",
       "23. 'Lactate'\n",
       "24. 'PO2_a'\n",
       "25. 'pH_a'\n",
       "26. 'TCO2_a'\n",
       "27. 'AnionGap'\n",
       "28. 'HCO3_a'\n",
       "29. 'O2sat_a'\n",
       "30. 'pCO2_a'\n",
       "31. 'Neut'\n",
       "32. 'HCO3_v'\n",
       "33. 'BUN'\n",
       "34. 'Cl'\n",
       "35. 'K'\n",
       "36. 'Base'\n",
       "37. 'Ca'\n",
       "38. 'Cr'\n",
       "39. 'Na'\n",
       "40. 'PT'\n",
       "41. 'TProtein'\n",
       "42. 'ALB'\n",
       "43. 'ALT'\n",
       "44. 'AST'\n",
       "45. 'CO2'\n",
       "46. 'Glucose'\n",
       "47. 'Hct'\n",
       "48. 'Hgb'\n",
       "49. 'INR'\n",
       "50. 'MCH'\n",
       "51. 'pH_v'\n",
       "52. 'Platelet'\n",
       "53. 'RDW'\n",
       "54. 'Trop'\n",
       "55. 'WBC'\n",
       "56. 'ALK'\n",
       "57. 'eGFR'\n",
       "58. 'Glob'\n",
       "59. 'PO2_v'\n",
       "60. 'TBili'\n",
       "61. 'Eos'\n",
       "62. 'Lymp'\n",
       "63. 'pCO2_v'\n",
       "64. 'Basos'\n",
       "65. 'Mono'\n",
       "66. 'O2sat_v'\n",
       "\n",
       "\n"
      ],
      "text/plain": [
       " [1] \"ESI_i\"                 \"delta_ESI\"             \"gender\"               \n",
       " [4] \"age\"                   \"insurance\"             \"English\"              \n",
       " [7] \"Height_i\"              \"delta_H\"               \"Weight_i\"             \n",
       "[10] \"delta_W\"               \"race.Asian\"            \"race.Black\"           \n",
       "[13] \"race.Native.American\"  \"race.Other\"            \"race.Pacific.Islander\"\n",
       "[16] \"race.Unknown\"          \"race.White\"            \"Temp\"                 \n",
       "[19] \"DBP\"                   \"SBP\"                   \"Pulse\"                \n",
       "[22] \"RR\"                    \"Lactate\"               \"PO2_a\"                \n",
       "[25] \"pH_a\"                  \"TCO2_a\"                \"AnionGap\"             \n",
       "[28] \"HCO3_a\"                \"O2sat_a\"               \"pCO2_a\"               \n",
       "[31] \"Neut\"                  \"HCO3_v\"                \"BUN\"                  \n",
       "[34] \"Cl\"                    \"K\"                     \"Base\"                 \n",
       "[37] \"Ca\"                    \"Cr\"                    \"Na\"                   \n",
       "[40] \"PT\"                    \"TProtein\"              \"ALB\"                  \n",
       "[43] \"ALT\"                   \"AST\"                   \"CO2\"                  \n",
       "[46] \"Glucose\"               \"Hct\"                   \"Hgb\"                  \n",
       "[49] \"INR\"                   \"MCH\"                   \"pH_v\"                 \n",
       "[52] \"Platelet\"              \"RDW\"                   \"Trop\"                 \n",
       "[55] \"WBC\"                   \"ALK\"                   \"eGFR\"                 \n",
       "[58] \"Glob\"                  \"PO2_v\"                 \"TBili\"                \n",
       "[61] \"Eos\"                   \"Lymp\"                  \"pCO2_v\"               \n",
       "[64] \"Basos\"                 \"Mono\"                  \"O2sat_v\"              "
      ]
     },
     "metadata": {},
     "output_type": "display_data"
    }
   ],
   "source": [
    "unique(features$features)"
   ]
  },
  {
   "cell_type": "code",
   "execution_count": null,
   "metadata": {},
   "outputs": [],
   "source": [
    "head(cohort,1)\n",
    "head(demo,1)\n",
    "head(esi)\n",
    "head(los)"
   ]
  },
  {
   "cell_type": "markdown",
   "metadata": {},
   "source": [
    "### check ESI by race"
   ]
  },
  {
   "cell_type": "code",
   "execution_count": null,
   "metadata": {},
   "outputs": [],
   "source": [
    "coh_demo <- left_join(cohort, demo) %>% left_join(esi) %>% mutate(race=factor(race))\n",
    "nrow(coh_demo)\n",
    "summary(coh_demo)\n",
    "\n",
    "hist(coh_demo$ESI)"
   ]
  },
  {
   "cell_type": "code",
   "execution_count": null,
   "metadata": {},
   "outputs": [],
   "source": [
    "race_esi <- coh_demo %>% group_by(race, ESI) %>% summarise(n = n()) %>% \n",
    "                group_by(race) %>% mutate(ntotal = sum(n), group_percentage = round(100*n/ntotal, 2))\n",
    "race_esi"
   ]
  },
  {
   "cell_type": "code",
   "execution_count": null,
   "metadata": {},
   "outputs": [],
   "source": [
    "color_table <- tibble(\n",
    "  race = c(\"Asian\", \"Black\", \"Native American\", \"Other\", \"Pacific Islander\", \"Unknown\", \"White\"),\n",
    "  color = c(\"tan\", \"grey30\", \"salmon4\", \"magenta3\", \"tan3\", \"limegreen\", \"moccasin\")\n",
    "  )\n",
    "color_table5 <- tibble(\n",
    "  race = c(\"Asian\", \"Black\", \"Other\", \"White\"),\n",
    "  color = c(\"tan\", \"grey30\", \"magenta3\", \"moccasin\")\n",
    "  )\n",
    "\n",
    "race_esi1 <- race_esi %>% filter(ESI==1)\n",
    "race_esi23 <- race_esi %>% filter(ESI==2 | ESI==3)\n",
    "race_esi4 <- race_esi %>% filter(ESI==4)\n",
    "race_esi5 <- race_esi %>% filter(ESI==5)\n",
    "\n",
    "race_esi5"
   ]
  },
  {
   "cell_type": "code",
   "execution_count": null,
   "metadata": {},
   "outputs": [],
   "source": [
    "options(repr.plot.width=15, repr.plot.height=7)\n",
    "\n",
    "p1 <- ggplot(race_esi1, aes(fill=race, y=group_percentage, x=race)) + \n",
    "    geom_bar(position=\"dodge\", stat=\"identity\") + scale_fill_manual(values = color_table$color) +\n",
    "    geom_text(aes(label=n), position=position_dodge(width=1), vjust=-0.5)\n",
    "\n",
    "p23 <- ggplot(race_esi23, aes(fill=race, y=group_percentage, x=ESI)) + \n",
    "    geom_bar(position=\"dodge\", stat=\"identity\") + scale_fill_manual(values = color_table$color) #+\n",
    "#     geom_text(aes(label=n), position=position_dodge(width=1), vjust=0, angle=90)\n",
    "\n",
    "grid.arrange(p1, p23, ncol=2)\n",
    "ggsave(file.path(resultdir,\"Fig_ESI123.png\"), width = 15, height = 7, dpi = 1200) "
   ]
  },
  {
   "cell_type": "code",
   "execution_count": null,
   "metadata": {},
   "outputs": [],
   "source": [
    "p4 <- ggplot(race_esi4, aes(fill=race, y=group_percentage, x=race)) + \n",
    "    geom_bar(position=\"dodge\", stat=\"identity\") + scale_fill_manual(values = color_table$color) +\n",
    "    geom_text(aes(label=n), position=position_dodge(width=1), vjust=-0.5)\n",
    "\n",
    "p5 <- ggplot(race_esi5, aes(fill=race, y=group_percentage, x=race)) + \n",
    "    geom_bar(position=\"dodge\", stat=\"identity\") + scale_fill_manual(values = color_table5$color) +\n",
    "    geom_text(aes(label=n), position=position_dodge(width=1), vjust=-0.5)\n",
    "\n",
    "grid.arrange(p4, p5, ncol=2)\n",
    "# plotlist <- list(p4, p5)\n",
    "# plot_grid(plotlist=plotlist)\n",
    "ggsave(file.path(resultdir,\"Fig_ESI45.png\"), width = 15, height = 7, dpi = 1200) "
   ]
  },
  {
   "cell_type": "markdown",
   "metadata": {},
   "source": [
    "### density plot of predicted probabilities for test cohort\n"
   ]
  },
  {
   "cell_type": "code",
   "execution_count": null,
   "metadata": {},
   "outputs": [],
   "source": [
    "coh_test <- read.csv(file.path(modeldir4, \"1_4_cohort_test_results.csv\")) %>% \n",
    "                select(pat_enc_csn_id_coded, first_label, death_24hr_max_label, death_24hr_recent_label, \n",
    "                       pred_first, pred_death_24hr_max, pred_death_24hr_recent, abs_diff0_24, transfer)\n",
    "nrow(coh_test)\n",
    "colnames(coh_test)\n",
    "# preds_max <- coh_test %>% select(outcome = death_24hr_max_label, prediction = pred_death_24hr_max)\n",
    "# preds_24hr <- coh_test %>% select(outcome = death_24hr_recent_label, prediction = pred_death_24hr_recent)"
   ]
  },
  {
   "cell_type": "code",
   "execution_count": null,
   "metadata": {},
   "outputs": [],
   "source": [
    "### Plot function, using data0\n",
    "plotfxn <- function(X, Xlab, Fill, data){\n",
    "#     p0 <- data %>% ggplot(aes(x=X)) + geom_density() + facet_wrap(~race_recoded) # unable to use Fill here\n",
    "    p1 <- data %>% ggplot(aes(x=X, fill=Fill)) +\n",
    "        geom_density(alpha=0.3, position = 'identity') + # color=\"#e9ecef\", \n",
    "        labs(fill=\"\") + xlab(Xlab) \n",
    "\n",
    "    p2 <- p1 + theme(axis.text=element_text(size=14),\n",
    "             axis.title=element_text(size=16), legend.key.size = unit(1, \"cm\"))#, face=\"bold\"\n",
    "#     return(list(p0, p2))\n",
    "    return(p2)\n",
    "}"
   ]
  },
  {
   "cell_type": "code",
   "execution_count": null,
   "metadata": {},
   "outputs": [],
   "source": [
    "options(repr.plot.width=14, repr.plot.height=7)\n",
    "\n",
    "# 1st and 2nd outcome (highest LOC or at 24th)\n",
    "pmax <- plotfxn(X=coh_test$pred_death_24hr_max, Xlab=\"Predicted Probability\", Fill=factor(coh_test$death_24hr_max_label), coh_test)\n",
    "p24 <- plotfxn(X=coh_test$pred_death_24hr_recent, Xlab=\"Predicted Probability\", Fill=factor(coh_test$death_24hr_recent_label), coh_test)\n",
    "\n",
    "grid.arrange(pmax, p24, ncol=2)\n",
    "# ggsave(file.path(resultdir,\"Fig_pred_dens.png\"), width = 14, height = 7, dpi = 1200) "
   ]
  },
  {
   "cell_type": "code",
   "execution_count": null,
   "metadata": {},
   "outputs": [],
   "source": [
    "# 1st and 2nd outcome (highest LOC or at 24th), with labels, combined legends\n",
    "\n",
    "prow <- plot_grid(\n",
    "            plotfxn(X=coh_test$pred_death_24hr_max, Xlab=\"Predicted Probability\", \n",
    "                    Fill=factor(coh_test$death_24hr_max_label), coh_test) +\n",
    "                theme(legend.position=\"none\"), \n",
    "            plotfxn(X=coh_test$pred_death_24hr_recent, Xlab=\"Predicted Probability\", \n",
    "                    Fill=factor(coh_test$death_24hr_recent_label), coh_test) +\n",
    "                theme(legend.position=\"none\"),\n",
    "            labels = c(\"A: highest LOC\", \"B: time24 LOC\"),\n",
    "            hjust = -1,\n",
    "            nrow = 1\n",
    ")\n",
    "\n",
    "legend <- get_legend(\n",
    "            plotfxn(X=coh_test$pred_death_24hr_max, Xlab=\"Predicted Probability\", \n",
    "                    Fill=factor(coh_test$death_24hr_max_label), coh_test) +\n",
    "            theme(legend.title = element_text(color = \"Black\", size = 16),\n",
    "                  legend.text = element_text(color = \"black\", size = 14)\n",
    "                 ) + scale_fill_discrete(name = \"LOC\")#+ theme(legend.box.margin = margin(0, 0, 0, 1))\n",
    ")\n",
    "\n",
    "plot_grid(prow, legend, rel_widths=c(6, 0.7))\n",
    "ggsave(file.path(resultdir,\"Fig_pred_dens.png\"), width = 14, height = 7, dpi = 1200) "
   ]
  },
  {
   "cell_type": "code",
   "execution_count": null,
   "metadata": {},
   "outputs": [],
   "source": [
    "# convert wide to long, entire test cohort\n",
    "coh_test2 <- coh_test %>% rename(time0=pred_first, time24=pred_death_24hr_recent) %>% \n",
    "                select(-pred_death_24hr_max, -death_24hr_max_label)\n",
    "coh_test2 <- gather(coh_test2, time, prediction, time0:time24, factor_key=TRUE)\n",
    "head(coh_test2)"
   ]
  },
  {
   "cell_type": "code",
   "execution_count": null,
   "metadata": {},
   "outputs": [],
   "source": [
    "# hist(coh_test$abs_diff0_24)\n",
    "# plotfxn(X=cohdis$pred_death_24hr_recent, Xlab=\"Predicted Probability\", Fill=factor(coh_test$death_24hr_recent_label), coh_test)\n",
    "\n",
    "options(repr.plot.width=10, repr.plot.height=7)\n",
    "\n",
    "# test cohort, with abs difference btwn predicted values at time0 and time24 greater than 0.1\n",
    "ggplot(data = coh_test2, aes(x=prediction, fill=time)) +\n",
    "        geom_density(alpha=0.3, position = 'identity') + # color=\"#e9ecef\", \n",
    "        labs(fill=\"\")\n",
    "\n",
    "ggplot(data = coh_test[coh_test$abs_diff0_24 > 0.1, ], aes(x=abs_diff0_24)) +\n",
    "        geom_histogram() + xlab(\"absolute difference in model predictions\")"
   ]
  },
  {
   "cell_type": "code",
   "execution_count": null,
   "metadata": {},
   "outputs": [],
   "source": [
    "# get discordance cohort abs_diff0_@4 >= 0.4\n",
    "colnames(coh_test)\n",
    "coh_dis <- coh_test %>% filter(abs_diff0_24 >= 0.4)\n",
    "nrow(coh_dis)"
   ]
  },
  {
   "cell_type": "code",
   "execution_count": null,
   "metadata": {},
   "outputs": [],
   "source": [
    "# coh_dis[coh_dis$transfer==1, ]$pred_first\n",
    "# coh_dis[coh_dis$transfer==1 & coh_dis$first_label==1, ]$pred_first"
   ]
  },
  {
   "cell_type": "code",
   "execution_count": null,
   "metadata": {},
   "outputs": [],
   "source": [
    "# discordance cohort, only with pred at time 24, not the primary outcome, wide to long\n",
    "cohdis <- coh_dis %>% rename(time0=pred_first, time24=pred_death_24hr_recent) %>% \n",
    "            select(-pred_death_24hr_max, -death_24hr_max_label)\n",
    "\n",
    "# get an index for each of the observations \n",
    "cohdis$idx <- rownames(cohdis)\n",
    "nrow(cohdis)\n",
    "head(cohdis)\n",
    "\n",
    "# wide to long\n",
    "cohdis2 <- gather(cohdis, time, prediction, time0:time24, factor_key=TRUE)\n",
    "nrow(cohdis2)\n",
    "head(cohdis2)"
   ]
  },
  {
   "cell_type": "code",
   "execution_count": null,
   "metadata": {},
   "outputs": [],
   "source": [
    "# all discordance >= 0.4 in pairs, not very informative\n",
    "options(repr.plot.width=20, repr.plot.height=7)\n",
    "\n",
    "p <- ggplot(cohdis2, aes(idx, prediction)) + \n",
    "        geom_point(aes(colour = factor(time), shape = factor(time))) + \n",
    "        geom_line(aes(group = idx)) +\n",
    "        theme(axis.title.x=element_blank(),\n",
    "              axis.text.x=element_blank(),\n",
    "              axis.ticks.x=element_blank())\n",
    "p"
   ]
  },
  {
   "cell_type": "code",
   "execution_count": null,
   "metadata": {},
   "outputs": [],
   "source": [
    "# density plot for prediction at time 0 and 24 for the discordance cohort\n",
    "# time0 prob lean toward higher values and time24 leans toward lower values\n",
    "plotfxn(X=cohdis2$prediction, Xlab=\"Predicted Probability\", Fill=factor(cohdis2$time), cohdis2)"
   ]
  },
  {
   "cell_type": "code",
   "execution_count": null,
   "metadata": {},
   "outputs": [],
   "source": [
    "# coh_dis[coh_dis$transfer==1, ]$pred_first\n",
    "# coh_dis[coh_dis$transfer==1 & coh_dis$first_label==1, ]$pred_first\n",
    "\n",
    "# discordance cohort who did transfer\n",
    "dtx10 = cohdis2[cohdis2$transfer==1 & cohdis2$first_label==1, ]\n",
    "dtx01 = cohdis2[cohdis2$transfer==1 & cohdis2$first_label==0, ]\n",
    "\n",
    "pdtx10 <- plotfxn(X=dtx10$prediction, Xlab=\"Predicted Probability\", Fill=factor(dtx10$time), dtx10)\n",
    "pdtx01 <- plotfxn(X=dtx01$prediction, Xlab=\"Predicted Probability\", Fill=factor(dtx01$time), dtx01)\n",
    "\n",
    "options(repr.plot.width=15, repr.plot.height=7)\n",
    "grid.arrange(pdtx10, pdtx01, ncol=2)\n",
    "\n",
    "# ggsave(file.path(resultdir,\"Fig_disc_tx_dens.png\"), width = 14, height = 7, dpi = 1200) "
   ]
  },
  {
   "cell_type": "code",
   "execution_count": null,
   "metadata": {},
   "outputs": [],
   "source": [
    "# remove duplicate legends\n",
    "\n",
    "prowt <- plot_grid(pdtx10 + theme(legend.position=\"none\"), pdtx01 + theme(legend.position=\"none\"),\n",
    "#             labels = c(\"A: highest LOC\", \"B: time24 LOC\"),\n",
    "            hjust = -1,\n",
    "            nrow = 1\n",
    ")\n",
    "\n",
    "# legend <- get_legend(\n",
    "#             plotfxn(X=coh_test$pred_death_24hr_max, Xlab=\"Predicted Probability\", \n",
    "#                     Fill=factor(coh_test$death_24hr_max_label), coh_test) +\n",
    "#             theme(legend.title = element_text(color = \"Black\", size = 16),\n",
    "#                   legend.text = element_text(color = \"black\", size = 14)\n",
    "#                  ) + scale_fill_discrete(name = \"LOC\")#+ theme(legend.box.margin = margin(0, 0, 0, 1))\n",
    "# )\n",
    "plot_grid(prowt, legend, rel_widths=c(6, 0.7))"
   ]
  },
  {
   "cell_type": "code",
   "execution_count": null,
   "metadata": {},
   "outputs": [],
   "source": [
    "# discordance cohort who did not transfer\n",
    "# remove duplicate legends\n",
    "\n",
    "d1 = cohdis2[cohdis2$transfer==0 & cohdis2$first_label==1, ]\n",
    "d0 = cohdis2[cohdis2$transfer==0 & cohdis2$first_label==0, ]\n",
    "\n",
    "pd1 <- plotfxn(X=d1$prediction, Xlab=\"Predicted Probability\", Fill=factor(d1$time), d1)\n",
    "pd0 <- plotfxn(X=d0$prediction, Xlab=\"Predicted Probability\", Fill=factor(d0$time), d0)\n",
    "\n",
    "# plot\n",
    "options(repr.plot.width=15, repr.plot.height=7)\n",
    "# grid.arrange(pd1, pd0, ncol=2)\n",
    "\n",
    "prowd <- plot_grid(pd1 + theme(legend.position=\"none\"), pd0 + theme(legend.position=\"none\"),\n",
    "#             labels = c(\"A: highest LOC\", \"B: time24 LOC\"),\n",
    "            hjust = -1,\n",
    "            nrow = 1\n",
    ")\n",
    "\n",
    "plot_grid(prowd, legend, rel_widths=c(6, 0.7))\n",
    "# ggsave(file.path(resultdir,\"Fig_disc_notx_dens.png\"), width = 14, height = 7, dpi = 1200) "
   ]
  },
  {
   "cell_type": "markdown",
   "metadata": {},
   "source": [
    "### check LOS and death\n",
    "This has less than the full cohort"
   ]
  },
  {
   "cell_type": "code",
   "execution_count": null,
   "metadata": {},
   "outputs": [],
   "source": [
    "los <- read_csv(file.path(resultdir, \"5_2_length_of_stay_labels.csv\"))\n",
    "nrow(los)"
   ]
  },
  {
   "cell_type": "code",
   "execution_count": null,
   "metadata": {},
   "outputs": [],
   "source": [
    "head(los, n=1)"
   ]
  },
  {
   "cell_type": "code",
   "execution_count": null,
   "metadata": {},
   "outputs": [],
   "source": [
    "table(los$died_before_discharge)\n",
    "table(los$length_of_ip_since_admit)\n",
    "table(los$length_from_ED_entry_until_end_date)"
   ]
  },
  {
   "cell_type": "code",
   "execution_count": null,
   "metadata": {},
   "outputs": [],
   "source": [
    "los <- los %>% mutate(died_before_discharge = ifelse(died_before_discharge, 1, 0),\n",
    "                      death_dc_days = death_date_jittered - discharge_date,\n",
    "                      admit_ed_hours = round(as.numeric(difftime(admit_time, first_ED_time, units=\"hours\")), 1),\n",
    "#                       length_of_ip_since_admit = str_sub(length_of_ip_since_admit, star=1, end=-5), \n",
    "#                       length_from_ED_entry_until_end_date = str_sub(length_from_ED_entry_until_end_date, star=1, end=-5))\n",
    "                      length_of_ip_since_admit= ifelse(length_of_ip_since_admit == \"\", NA,\n",
    "                                                       as.numeric(str_sub(length_of_ip_since_admit, star=1, end=-5))),\n",
    "                      length_from_ED_entry_until_end_date= ifelse(length_from_ED_entry_until_end_date == \"\", NA,\n",
    "                                                                  as.numeric(str_sub(length_from_ED_entry_until_end_date, star=1, end=-5))))\n",
    "head(los, n=1)"
   ]
  },
  {
   "cell_type": "code",
   "execution_count": null,
   "metadata": {},
   "outputs": [],
   "source": [
    "los <- los %>% mutate(death_dc_days = as.numeric(death_dc_days))\n",
    "head(los)"
   ]
  },
  {
   "cell_type": "code",
   "execution_count": null,
   "metadata": {},
   "outputs": [],
   "source": [
    "table(los$died_before_discharge)\n",
    "summary(los$length_of_ip_since_admit)\n",
    "summary(los$length_from_ED_entry_until_end_date)\n",
    "summary(los[los$died_before_discharge == 1, ]$death_dc_days)"
   ]
  },
  {
   "cell_type": "code",
   "execution_count": null,
   "metadata": {},
   "outputs": [],
   "source": [
    "los %>% filter(death_dc_days < -1)\n",
    "los %>% filter(length_of_ip_since_admit < 0)\n",
    "los %>% filter(length_from_ED_entry_until_end_date < 0)"
   ]
  },
  {
   "cell_type": "code",
   "execution_count": null,
   "metadata": {},
   "outputs": [],
   "source": [
    "hist(los$length_of_ip_since_admit)\n",
    "hist(los$length_from_ED_entry_until_end_date)"
   ]
  },
  {
   "cell_type": "markdown",
   "metadata": {},
   "source": [
    "### read the discordance"
   ]
  },
  {
   "cell_type": "code",
   "execution_count": null,
   "metadata": {},
   "outputs": [],
   "source": [
    "los_dis <- read_csv(file.path(tabledir, \"4_2_diffIDs_117.csv\")) \n",
    "nrow(los_dis)"
   ]
  },
  {
   "cell_type": "code",
   "execution_count": null,
   "metadata": {},
   "outputs": [],
   "source": [
    "los_tx <- cohort %>% select(pat_enc_csn_id_coded, first_label, death_24hr_recent_label) %>% \n",
    "            filter(first_label != death_24hr_recent_label) %>% left_join(los)\n",
    "nrow(los_tx)"
   ]
  },
  {
   "cell_type": "code",
   "execution_count": null,
   "metadata": {},
   "outputs": [],
   "source": [
    "los_dis <- right_join(los, los_dis)\n",
    "nrow(los_dis)\n",
    "head(los_dis)"
   ]
  },
  {
   "cell_type": "code",
   "execution_count": null,
   "metadata": {},
   "outputs": [],
   "source": [
    "table(los$died_before_discharge)\n",
    "table(los_dis$died_before_discharge)\n",
    "table(los_tx$died_before_discharge)\n",
    "\n",
    "summary(los$length_of_ip_since_admit)\n",
    "summary(los_dis$length_of_ip_since_admit)\n",
    "summary(los_tx$length_of_ip_since_admit)\n",
    "\n",
    "summary(los$admit_ed_hours)\n",
    "summary(los_dis$admit_ed_hours)\n",
    "summary(los_tx$admit_ed_hours)"
   ]
  },
  {
   "cell_type": "code",
   "execution_count": null,
   "metadata": {},
   "outputs": [],
   "source": [
    "los_tx10 <- los_tx %>% filter(first_label==1)\n",
    "los_tx01 <- los_tx %>% filter(first_label==0)\n",
    "\n",
    "nrow(los_tx01)\n",
    "nrow(los_tx10)\n",
    "\n",
    "table(los_tx10$died_before_discharge)\n",
    "table(los_tx01$died_before_discharge)\n",
    "\n",
    "summary(los_tx$length_of_ip_since_admit)\n",
    "summary(los_tx01$length_of_ip_since_admit)\n",
    "\n",
    "summary(los_tx$admit_ed_hours)\n",
    "summary(los_tx01$admit_ed_hours)"
   ]
  },
  {
   "cell_type": "code",
   "execution_count": null,
   "metadata": {},
   "outputs": [],
   "source": [
    "txdeath <- los_tx %>% filter(died_before_discharge ==1) %>% select(anon_id)\n",
    "write.csv(txdeath, file.path(resultdir, \"5_3_tx_death.csv\"), row.names=FALSE)\n",
    "nrow(txdeath)"
   ]
  }
 ],
 "metadata": {
  "kernelspec": {
   "display_name": "R",
   "language": "R",
   "name": "ir"
  },
  "language_info": {
   "codemirror_mode": "r",
   "file_extension": ".r",
   "mimetype": "text/x-r-source",
   "name": "R",
   "pygments_lexer": "r",
   "version": "4.0.3"
  }
 },
 "nbformat": 4,
 "nbformat_minor": 4
}
