{
 "cells": [
  {
   "cell_type": "code",
   "execution_count": 1,
   "metadata": {},
   "outputs": [],
   "source": [
    "import numpy as np\n",
    "import pandas as pd\n",
    "from datetime import datetime, timedelta"
   ]
  },
  {
   "cell_type": "code",
   "execution_count": 2,
   "metadata": {},
   "outputs": [],
   "source": [
    "# read in data files\n",
    "datadir = \"../../DataTD/\"\n",
    "resultsdir = \"../../OutputTD/3_models/1_4_cohort_24hrpreadmit/\"\n",
    "\n",
    "# adt_file = datadir + \"cohort_1_3_adt.csv\"\n",
    "results_file = resultsdir + \"1_4_cohort_test_results.csv\"\n",
    "cohort_file = \"../../OutputTD/1_cohort/1_4_cohort.csv\"\n",
    "los_file = datadir + \"length_of_stay_labels.csv\""
   ]
  },
  {
   "cell_type": "code",
   "execution_count": 16,
   "metadata": {},
   "outputs": [],
   "source": [
    "cohort = pd.read_csv(cohort_file)\n",
    "los = pd.read_csv(los_file)"
   ]
  },
  {
   "cell_type": "code",
   "execution_count": 17,
   "metadata": {},
   "outputs": [
    {
     "name": "stdout",
     "output_type": "stream",
     "text": [
      "(43980, 17)\n",
      "(43765, 9)\n"
     ]
    }
   ],
   "source": [
    "print(cohort.shape)\n",
    "print(los.shape)"
   ]
  },
  {
   "cell_type": "code",
   "execution_count": 26,
   "metadata": {},
   "outputs": [
    {
     "data": {
      "text/plain": [
       "43980"
      ]
     },
     "execution_count": 26,
     "metadata": {},
     "output_type": "execute_result"
    }
   ],
   "source": [
    "43764 + 216"
   ]
  },
  {
   "cell_type": "code",
   "execution_count": 18,
   "metadata": {},
   "outputs": [
    {
     "name": "stdout",
     "output_type": "stream",
     "text": [
      "anon_id                                 object\n",
      "pat_enc_csn_id_coded                     int64\n",
      "admit_time                              object\n",
      "first_ED_time                           object\n",
      "discharge_time                          object\n",
      "length_of_ip_since_admit                object\n",
      "length_from_ED_entry_until_discharge    object\n",
      "death_date_jittered                     object\n",
      "died_before_discharge                   object\n",
      "dtype: object\n"
     ]
    },
    {
     "data": {
      "text/html": [
       "<div>\n",
       "<style scoped>\n",
       "    .dataframe tbody tr th:only-of-type {\n",
       "        vertical-align: middle;\n",
       "    }\n",
       "\n",
       "    .dataframe tbody tr th {\n",
       "        vertical-align: top;\n",
       "    }\n",
       "\n",
       "    .dataframe thead th {\n",
       "        text-align: right;\n",
       "    }\n",
       "</style>\n",
       "<table border=\"1\" class=\"dataframe\">\n",
       "  <thead>\n",
       "    <tr style=\"text-align: right;\">\n",
       "      <th></th>\n",
       "      <th>anon_id</th>\n",
       "      <th>pat_enc_csn_id_coded</th>\n",
       "      <th>admit_time</th>\n",
       "      <th>first_ED_time</th>\n",
       "      <th>discharge_time</th>\n",
       "      <th>length_of_ip_since_admit</th>\n",
       "      <th>length_from_ED_entry_until_discharge</th>\n",
       "      <th>death_date_jittered</th>\n",
       "      <th>died_before_discharge</th>\n",
       "    </tr>\n",
       "  </thead>\n",
       "  <tbody>\n",
       "    <tr>\n",
       "      <th>0</th>\n",
       "      <td>JCe78a06</td>\n",
       "      <td>131062667066</td>\n",
       "      <td>2015-01-02 01:01:00+00:00</td>\n",
       "      <td>2015-01-01 17:10:00+00:00</td>\n",
       "      <td>2015-01-11 23:40:00+00:00</td>\n",
       "      <td>9 days 22:39:00</td>\n",
       "      <td>10 days 06:30:00</td>\n",
       "      <td>2020-01-10 00:00:00+00:00</td>\n",
       "      <td>NaN</td>\n",
       "    </tr>\n",
       "    <tr>\n",
       "      <th>1</th>\n",
       "      <td>JCd1c19e</td>\n",
       "      <td>131062745090</td>\n",
       "      <td>2015-01-03 05:53:00+00:00</td>\n",
       "      <td>2015-01-03 01:56:00+00:00</td>\n",
       "      <td>2015-01-07 02:00:00+00:00</td>\n",
       "      <td>3 days 20:07:00</td>\n",
       "      <td>4 days 00:04:00</td>\n",
       "      <td>NaN</td>\n",
       "      <td>NaN</td>\n",
       "    </tr>\n",
       "    <tr>\n",
       "      <th>2</th>\n",
       "      <td>JCd91eb2</td>\n",
       "      <td>131062747648</td>\n",
       "      <td>2015-01-01 08:24:00+00:00</td>\n",
       "      <td>2015-01-01 01:10:00+00:00</td>\n",
       "      <td>2015-01-06 03:19:00+00:00</td>\n",
       "      <td>4 days 18:55:00</td>\n",
       "      <td>5 days 02:09:00</td>\n",
       "      <td>2019-01-01 00:00:00+00:00</td>\n",
       "      <td>NaN</td>\n",
       "    </tr>\n",
       "    <tr>\n",
       "      <th>3</th>\n",
       "      <td>JCe7cb4d</td>\n",
       "      <td>131062788358</td>\n",
       "      <td>2015-01-01 23:39:00+00:00</td>\n",
       "      <td>2015-01-01 17:07:00+00:00</td>\n",
       "      <td>2015-01-22 01:25:00+00:00</td>\n",
       "      <td>20 days 01:46:00</td>\n",
       "      <td>20 days 08:18:00</td>\n",
       "      <td>NaN</td>\n",
       "      <td>NaN</td>\n",
       "    </tr>\n",
       "    <tr>\n",
       "      <th>4</th>\n",
       "      <td>JCe293de</td>\n",
       "      <td>131063044001</td>\n",
       "      <td>2015-01-05 02:23:00+00:00</td>\n",
       "      <td>2015-01-04 18:13:00+00:00</td>\n",
       "      <td>2015-01-05 22:30:00+00:00</td>\n",
       "      <td>0 days 20:07:00</td>\n",
       "      <td>1 days 04:17:00</td>\n",
       "      <td>NaN</td>\n",
       "      <td>NaN</td>\n",
       "    </tr>\n",
       "  </tbody>\n",
       "</table>\n",
       "</div>"
      ],
      "text/plain": [
       "    anon_id  pat_enc_csn_id_coded                 admit_time  \\\n",
       "0  JCe78a06          131062667066  2015-01-02 01:01:00+00:00   \n",
       "1  JCd1c19e          131062745090  2015-01-03 05:53:00+00:00   \n",
       "2  JCd91eb2          131062747648  2015-01-01 08:24:00+00:00   \n",
       "3  JCe7cb4d          131062788358  2015-01-01 23:39:00+00:00   \n",
       "4  JCe293de          131063044001  2015-01-05 02:23:00+00:00   \n",
       "\n",
       "               first_ED_time             discharge_time  \\\n",
       "0  2015-01-01 17:10:00+00:00  2015-01-11 23:40:00+00:00   \n",
       "1  2015-01-03 01:56:00+00:00  2015-01-07 02:00:00+00:00   \n",
       "2  2015-01-01 01:10:00+00:00  2015-01-06 03:19:00+00:00   \n",
       "3  2015-01-01 17:07:00+00:00  2015-01-22 01:25:00+00:00   \n",
       "4  2015-01-04 18:13:00+00:00  2015-01-05 22:30:00+00:00   \n",
       "\n",
       "  length_of_ip_since_admit length_from_ED_entry_until_discharge  \\\n",
       "0          9 days 22:39:00                     10 days 06:30:00   \n",
       "1          3 days 20:07:00                      4 days 00:04:00   \n",
       "2          4 days 18:55:00                      5 days 02:09:00   \n",
       "3         20 days 01:46:00                     20 days 08:18:00   \n",
       "4          0 days 20:07:00                      1 days 04:17:00   \n",
       "\n",
       "         death_date_jittered died_before_discharge  \n",
       "0  2020-01-10 00:00:00+00:00                   NaN  \n",
       "1                        NaN                   NaN  \n",
       "2  2019-01-01 00:00:00+00:00                   NaN  \n",
       "3                        NaN                   NaN  \n",
       "4                        NaN                   NaN  "
      ]
     },
     "execution_count": 18,
     "metadata": {},
     "output_type": "execute_result"
    }
   ],
   "source": [
    "print(los.dtypes)\n",
    "los.head()"
   ]
  },
  {
   "cell_type": "raw",
   "metadata": {},
   "source": [
    "# number of rows in cohort is more than in los: \n",
    "# does everyone has a discharge date? 216 don't have a discharge date in 2019 and 2020. maybe we don't have a record of that yet\n",
    "# when they have a death date, is there discharge time after death time? \n",
    "# death_date only have the date\n",
    "Variables:\n",
    "- days btwn \n",
    "- los = convert to number of days if death=1, los = death - "
   ]
  },
  {
   "cell_type": "code",
   "execution_count": 28,
   "metadata": {},
   "outputs": [],
   "source": [
    "los['admit_time'] = pd.to_datetime(los['admit_time'])\n",
    "los['discharge_time'] = pd.to_datetime(los['discharge_time'])\n",
    "los['first_ED_time'] = pd.to_datetime(los['first_ED_time'])\n",
    "los['death_date_jittered'] = pd.to_datetime(los['death_date_jittered'])    \n",
    "                                    \n",
    "los['time_diff_dcdeath'] = round((los.discharge_time - los.death_date_jittered).dt.total_seconds()/(3600.0))\n",
    "\n",
    "los['hours_ip_since_admit'] = round((los.discharge_time - los.admit_time).dt.total_seconds()/(3600.0))#gets the time in hours\n",
    "\n",
    "# los['los_hours'] = los['length_of_ip_since_admit'] // 3600"
   ]
  },
  {
   "cell_type": "code",
   "execution_count": 29,
   "metadata": {},
   "outputs": [
    {
     "data": {
      "text/html": [
       "<div>\n",
       "<style scoped>\n",
       "    .dataframe tbody tr th:only-of-type {\n",
       "        vertical-align: middle;\n",
       "    }\n",
       "\n",
       "    .dataframe tbody tr th {\n",
       "        vertical-align: top;\n",
       "    }\n",
       "\n",
       "    .dataframe thead th {\n",
       "        text-align: right;\n",
       "    }\n",
       "</style>\n",
       "<table border=\"1\" class=\"dataframe\">\n",
       "  <thead>\n",
       "    <tr style=\"text-align: right;\">\n",
       "      <th></th>\n",
       "      <th>anon_id</th>\n",
       "      <th>pat_enc_csn_id_coded</th>\n",
       "      <th>admit_time</th>\n",
       "      <th>first_ED_time</th>\n",
       "      <th>discharge_time</th>\n",
       "      <th>length_of_ip_since_admit</th>\n",
       "      <th>length_from_ED_entry_until_discharge</th>\n",
       "      <th>death_date_jittered</th>\n",
       "      <th>died_before_discharge</th>\n",
       "      <th>time_diff_dcdeath</th>\n",
       "      <th>hours_ip_since_admit</th>\n",
       "    </tr>\n",
       "  </thead>\n",
       "  <tbody>\n",
       "    <tr>\n",
       "      <th>0</th>\n",
       "      <td>JCe78a06</td>\n",
       "      <td>131062667066</td>\n",
       "      <td>2015-01-02 01:01:00+00:00</td>\n",
       "      <td>2015-01-01 17:10:00+00:00</td>\n",
       "      <td>2015-01-11 23:40:00+00:00</td>\n",
       "      <td>9 days 22:39:00</td>\n",
       "      <td>10 days 06:30:00</td>\n",
       "      <td>2020-01-10 00:00:00+00:00</td>\n",
       "      <td>NaN</td>\n",
       "      <td>-43776.0</td>\n",
       "      <td>239.0</td>\n",
       "    </tr>\n",
       "    <tr>\n",
       "      <th>1</th>\n",
       "      <td>JCd1c19e</td>\n",
       "      <td>131062745090</td>\n",
       "      <td>2015-01-03 05:53:00+00:00</td>\n",
       "      <td>2015-01-03 01:56:00+00:00</td>\n",
       "      <td>2015-01-07 02:00:00+00:00</td>\n",
       "      <td>3 days 20:07:00</td>\n",
       "      <td>4 days 00:04:00</td>\n",
       "      <td>NaT</td>\n",
       "      <td>NaN</td>\n",
       "      <td>NaN</td>\n",
       "      <td>92.0</td>\n",
       "    </tr>\n",
       "    <tr>\n",
       "      <th>2</th>\n",
       "      <td>JCd91eb2</td>\n",
       "      <td>131062747648</td>\n",
       "      <td>2015-01-01 08:24:00+00:00</td>\n",
       "      <td>2015-01-01 01:10:00+00:00</td>\n",
       "      <td>2015-01-06 03:19:00+00:00</td>\n",
       "      <td>4 days 18:55:00</td>\n",
       "      <td>5 days 02:09:00</td>\n",
       "      <td>2019-01-01 00:00:00+00:00</td>\n",
       "      <td>NaN</td>\n",
       "      <td>-34941.0</td>\n",
       "      <td>115.0</td>\n",
       "    </tr>\n",
       "    <tr>\n",
       "      <th>3</th>\n",
       "      <td>JCe7cb4d</td>\n",
       "      <td>131062788358</td>\n",
       "      <td>2015-01-01 23:39:00+00:00</td>\n",
       "      <td>2015-01-01 17:07:00+00:00</td>\n",
       "      <td>2015-01-22 01:25:00+00:00</td>\n",
       "      <td>20 days 01:46:00</td>\n",
       "      <td>20 days 08:18:00</td>\n",
       "      <td>NaT</td>\n",
       "      <td>NaN</td>\n",
       "      <td>NaN</td>\n",
       "      <td>482.0</td>\n",
       "    </tr>\n",
       "    <tr>\n",
       "      <th>4</th>\n",
       "      <td>JCe293de</td>\n",
       "      <td>131063044001</td>\n",
       "      <td>2015-01-05 02:23:00+00:00</td>\n",
       "      <td>2015-01-04 18:13:00+00:00</td>\n",
       "      <td>2015-01-05 22:30:00+00:00</td>\n",
       "      <td>0 days 20:07:00</td>\n",
       "      <td>1 days 04:17:00</td>\n",
       "      <td>NaT</td>\n",
       "      <td>NaN</td>\n",
       "      <td>NaN</td>\n",
       "      <td>20.0</td>\n",
       "    </tr>\n",
       "  </tbody>\n",
       "</table>\n",
       "</div>"
      ],
      "text/plain": [
       "    anon_id  pat_enc_csn_id_coded                admit_time  \\\n",
       "0  JCe78a06          131062667066 2015-01-02 01:01:00+00:00   \n",
       "1  JCd1c19e          131062745090 2015-01-03 05:53:00+00:00   \n",
       "2  JCd91eb2          131062747648 2015-01-01 08:24:00+00:00   \n",
       "3  JCe7cb4d          131062788358 2015-01-01 23:39:00+00:00   \n",
       "4  JCe293de          131063044001 2015-01-05 02:23:00+00:00   \n",
       "\n",
       "              first_ED_time            discharge_time  \\\n",
       "0 2015-01-01 17:10:00+00:00 2015-01-11 23:40:00+00:00   \n",
       "1 2015-01-03 01:56:00+00:00 2015-01-07 02:00:00+00:00   \n",
       "2 2015-01-01 01:10:00+00:00 2015-01-06 03:19:00+00:00   \n",
       "3 2015-01-01 17:07:00+00:00 2015-01-22 01:25:00+00:00   \n",
       "4 2015-01-04 18:13:00+00:00 2015-01-05 22:30:00+00:00   \n",
       "\n",
       "  length_of_ip_since_admit length_from_ED_entry_until_discharge  \\\n",
       "0          9 days 22:39:00                     10 days 06:30:00   \n",
       "1          3 days 20:07:00                      4 days 00:04:00   \n",
       "2          4 days 18:55:00                      5 days 02:09:00   \n",
       "3         20 days 01:46:00                     20 days 08:18:00   \n",
       "4          0 days 20:07:00                      1 days 04:17:00   \n",
       "\n",
       "        death_date_jittered died_before_discharge  time_diff_dcdeath  \\\n",
       "0 2020-01-10 00:00:00+00:00                   NaN           -43776.0   \n",
       "1                       NaT                   NaN                NaN   \n",
       "2 2019-01-01 00:00:00+00:00                   NaN           -34941.0   \n",
       "3                       NaT                   NaN                NaN   \n",
       "4                       NaT                   NaN                NaN   \n",
       "\n",
       "   hours_ip_since_admit  \n",
       "0                 239.0  \n",
       "1                  92.0  \n",
       "2                 115.0  \n",
       "3                 482.0  \n",
       "4                  20.0  "
      ]
     },
     "execution_count": 29,
     "metadata": {},
     "output_type": "execute_result"
    }
   ],
   "source": [
    "los.head()"
   ]
  },
  {
   "cell_type": "code",
   "execution_count": 32,
   "metadata": {},
   "outputs": [
    {
     "data": {
      "text/plain": [
       "array([[<AxesSubplot:title={'center':'time_diff_dcdeath'}>]], dtype=object)"
      ]
     },
     "execution_count": 32,
     "metadata": {},
     "output_type": "execute_result"
    },
    {
     "data": {
      "image/png": "[encoded data removed]",
      "text/plain": [
       "<Figure size 432x288 with 1 Axes>"
      ]
     },
     "metadata": {
      "needs_background": "light"
     },
     "output_type": "display_data"
    }
   ],
   "source": [
    "los[los.time_diff_dcdeath > 0].hist(['time_diff_dcdeath'])"
   ]
  },
  {
   "cell_type": "code",
   "execution_count": 35,
   "metadata": {},
   "outputs": [
    {
     "data": {
      "text/plain": [
       "array([[<AxesSubplot:title={'center':'time_diff_dcdeath'}>]], dtype=object)"
      ]
     },
     "execution_count": 35,
     "metadata": {},
     "output_type": "execute_result"
    },
    {
     "data": {
      "image/png": "[encoded data removed]",
      "text/plain": [
       "<Figure size 432x288 with 1 Axes>"
      ]
     },
     "metadata": {
      "needs_background": "light"
     },
     "output_type": "display_data"
    }
   ],
   "source": [
    "los[(los.time_diff_dcdeath > 0) & (los.time_diff_dcdeath < 500)].hist(['time_diff_dcdeath'])"
   ]
  },
  {
   "cell_type": "code",
   "execution_count": 34,
   "metadata": {},
   "outputs": [
    {
     "data": {
      "text/plain": [
       "count     241.000000\n",
       "mean       38.000000\n",
       "std       247.385782\n",
       "min         1.000000\n",
       "25%        18.000000\n",
       "50%        24.000000\n",
       "75%        28.000000\n",
       "max      3861.000000\n",
       "Name: time_diff_dcdeath, dtype: float64"
      ]
     },
     "execution_count": 34,
     "metadata": {},
     "output_type": "execute_result"
    }
   ],
   "source": [
    "los[los.time_diff_dcdeath > 0].time_diff_dcdeath.describe()"
   ]
  },
  {
   "cell_type": "code",
   "execution_count": 36,
   "metadata": {},
   "outputs": [
    {
     "data": {
      "text/plain": [
       "count    240.000000\n",
       "mean      22.070833\n",
       "std        6.999042\n",
       "min        1.000000\n",
       "25%       18.000000\n",
       "50%       24.000000\n",
       "75%       28.000000\n",
       "max       32.000000\n",
       "Name: time_diff_dcdeath, dtype: float64"
      ]
     },
     "execution_count": 36,
     "metadata": {},
     "output_type": "execute_result"
    }
   ],
   "source": [
    "los[(los.time_diff_dcdeath > 0) & (los.time_diff_dcdeath < 500)].time_diff_dcdeath.describe()"
   ]
  },
  {
   "cell_type": "code",
   "execution_count": 37,
   "metadata": {},
   "outputs": [
    {
     "data": {
      "text/html": [
       "<div>\n",
       "<style scoped>\n",
       "    .dataframe tbody tr th:only-of-type {\n",
       "        vertical-align: middle;\n",
       "    }\n",
       "\n",
       "    .dataframe tbody tr th {\n",
       "        vertical-align: top;\n",
       "    }\n",
       "\n",
       "    .dataframe thead th {\n",
       "        text-align: right;\n",
       "    }\n",
       "</style>\n",
       "<table border=\"1\" class=\"dataframe\">\n",
       "  <thead>\n",
       "    <tr style=\"text-align: right;\">\n",
       "      <th></th>\n",
       "      <th>anon_id</th>\n",
       "      <th>pat_enc_csn_id_coded</th>\n",
       "      <th>admit_time</th>\n",
       "      <th>first_ED_time</th>\n",
       "      <th>discharge_time</th>\n",
       "      <th>length_of_ip_since_admit</th>\n",
       "      <th>length_from_ED_entry_until_discharge</th>\n",
       "      <th>death_date_jittered</th>\n",
       "      <th>died_before_discharge</th>\n",
       "      <th>time_diff_dcdeath</th>\n",
       "      <th>hours_ip_since_admit</th>\n",
       "    </tr>\n",
       "  </thead>\n",
       "  <tbody>\n",
       "  </tbody>\n",
       "</table>\n",
       "</div>"
      ],
      "text/plain": [
       "Empty DataFrame\n",
       "Columns: [anon_id, pat_enc_csn_id_coded, admit_time, first_ED_time, discharge_time, length_of_ip_since_admit, length_from_ED_entry_until_discharge, death_date_jittered, died_before_discharge, time_diff_dcdeath, hours_ip_since_admit]\n",
       "Index: []"
      ]
     },
     "execution_count": 37,
     "metadata": {},
     "output_type": "execute_result"
    }
   ],
   "source": [
    "los[los.pat_enc_csn_id_coded == 131284409583]"
   ]
  },
  {
   "cell_type": "code",
   "execution_count": 38,
   "metadata": {},
   "outputs": [
    {
     "data": {
      "text/html": [
       "<div>\n",
       "<style scoped>\n",
       "    .dataframe tbody tr th:only-of-type {\n",
       "        vertical-align: middle;\n",
       "    }\n",
       "\n",
       "    .dataframe tbody tr th {\n",
       "        vertical-align: top;\n",
       "    }\n",
       "\n",
       "    .dataframe thead th {\n",
       "        text-align: right;\n",
       "    }\n",
       "</style>\n",
       "<table border=\"1\" class=\"dataframe\">\n",
       "  <thead>\n",
       "    <tr style=\"text-align: right;\">\n",
       "      <th></th>\n",
       "      <th>anon_id</th>\n",
       "      <th>pat_enc_csn_id_coded</th>\n",
       "      <th>inpatient_data_id_coded</th>\n",
       "      <th>admit_time</th>\n",
       "      <th>label_max24</th>\n",
       "      <th>label_24hr_recent</th>\n",
       "      <th>admit_label</th>\n",
       "      <th>has_admit_label</th>\n",
       "      <th>died_within_24hrs</th>\n",
       "      <th>death_24hr_max_label</th>\n",
       "      <th>death_24hr_recent_label</th>\n",
       "      <th>first_label</th>\n",
       "      <th>first_label_minutes_since_admit</th>\n",
       "      <th>acute_to_critical_label_recent</th>\n",
       "      <th>critical_to_acute_label_recent</th>\n",
       "      <th>acute_to_critical_label_max</th>\n",
       "      <th>critical_to_acute_label_max</th>\n",
       "    </tr>\n",
       "  </thead>\n",
       "  <tbody>\n",
       "    <tr>\n",
       "      <th>42983</th>\n",
       "      <td>JCdc9538</td>\n",
       "      <td>131284409583</td>\n",
       "      <td>46725794</td>\n",
       "      <td>2020-03-30 14:37:00+00:00</td>\n",
       "      <td>0</td>\n",
       "      <td>0</td>\n",
       "      <td>0.0</td>\n",
       "      <td>1</td>\n",
       "      <td>1</td>\n",
       "      <td>1</td>\n",
       "      <td>1</td>\n",
       "      <td>0</td>\n",
       "      <td>0.0</td>\n",
       "      <td>1</td>\n",
       "      <td>0</td>\n",
       "      <td>1</td>\n",
       "      <td>0</td>\n",
       "    </tr>\n",
       "  </tbody>\n",
       "</table>\n",
       "</div>"
      ],
      "text/plain": [
       "        anon_id  pat_enc_csn_id_coded  inpatient_data_id_coded  \\\n",
       "42983  JCdc9538          131284409583                 46725794   \n",
       "\n",
       "                      admit_time  label_max24  label_24hr_recent  admit_label  \\\n",
       "42983  2020-03-30 14:37:00+00:00            0                  0          0.0   \n",
       "\n",
       "       has_admit_label  died_within_24hrs  death_24hr_max_label  \\\n",
       "42983                1                  1                     1   \n",
       "\n",
       "       death_24hr_recent_label  first_label  first_label_minutes_since_admit  \\\n",
       "42983                        1            0                              0.0   \n",
       "\n",
       "       acute_to_critical_label_recent  critical_to_acute_label_recent  \\\n",
       "42983                               1                               0   \n",
       "\n",
       "       acute_to_critical_label_max  critical_to_acute_label_max  \n",
       "42983                            1                            0  "
      ]
     },
     "execution_count": 38,
     "metadata": {},
     "output_type": "execute_result"
    }
   ],
   "source": [
    "cohort[cohort.pat_enc_csn_id_coded == 131284409583]"
   ]
  },
  {
   "cell_type": "code",
   "execution_count": 39,
   "metadata": {},
   "outputs": [
    {
     "data": {
      "text/html": [
       "<div>\n",
       "<style scoped>\n",
       "    .dataframe tbody tr th:only-of-type {\n",
       "        vertical-align: middle;\n",
       "    }\n",
       "\n",
       "    .dataframe tbody tr th {\n",
       "        vertical-align: top;\n",
       "    }\n",
       "\n",
       "    .dataframe thead th {\n",
       "        text-align: right;\n",
       "    }\n",
       "</style>\n",
       "<table border=\"1\" class=\"dataframe\">\n",
       "  <thead>\n",
       "    <tr style=\"text-align: right;\">\n",
       "      <th></th>\n",
       "      <th>anon_id</th>\n",
       "      <th>pat_enc_csn_id_coded</th>\n",
       "      <th>inpatient_data_id_coded</th>\n",
       "      <th>admit_time</th>\n",
       "      <th>label_max24</th>\n",
       "      <th>label_24hr_recent</th>\n",
       "      <th>admit_label</th>\n",
       "      <th>has_admit_label</th>\n",
       "      <th>died_within_24hrs</th>\n",
       "      <th>death_24hr_max_label</th>\n",
       "      <th>death_24hr_recent_label</th>\n",
       "      <th>first_label</th>\n",
       "      <th>first_label_minutes_since_admit</th>\n",
       "      <th>acute_to_critical_label_recent</th>\n",
       "      <th>critical_to_acute_label_recent</th>\n",
       "      <th>acute_to_critical_label_max</th>\n",
       "      <th>critical_to_acute_label_max</th>\n",
       "    </tr>\n",
       "  </thead>\n",
       "  <tbody>\n",
       "    <tr>\n",
       "      <th>24753</th>\n",
       "      <td>JCdc9538</td>\n",
       "      <td>131281381262</td>\n",
       "      <td>44823872</td>\n",
       "      <td>2020-01-29 23:50:00+00:00</td>\n",
       "      <td>0</td>\n",
       "      <td>0</td>\n",
       "      <td>0.0</td>\n",
       "      <td>1</td>\n",
       "      <td>0</td>\n",
       "      <td>0</td>\n",
       "      <td>0</td>\n",
       "      <td>0</td>\n",
       "      <td>0.0</td>\n",
       "      <td>0</td>\n",
       "      <td>0</td>\n",
       "      <td>0</td>\n",
       "      <td>0</td>\n",
       "    </tr>\n",
       "    <tr>\n",
       "      <th>33407</th>\n",
       "      <td>JCdc9538</td>\n",
       "      <td>131281841915</td>\n",
       "      <td>45116153</td>\n",
       "      <td>2020-02-08 23:05:00+00:00</td>\n",
       "      <td>1</td>\n",
       "      <td>1</td>\n",
       "      <td>1.0</td>\n",
       "      <td>1</td>\n",
       "      <td>0</td>\n",
       "      <td>1</td>\n",
       "      <td>1</td>\n",
       "      <td>1</td>\n",
       "      <td>0.0</td>\n",
       "      <td>0</td>\n",
       "      <td>0</td>\n",
       "      <td>0</td>\n",
       "      <td>0</td>\n",
       "    </tr>\n",
       "    <tr>\n",
       "      <th>42983</th>\n",
       "      <td>JCdc9538</td>\n",
       "      <td>131284409583</td>\n",
       "      <td>46725794</td>\n",
       "      <td>2020-03-30 14:37:00+00:00</td>\n",
       "      <td>0</td>\n",
       "      <td>0</td>\n",
       "      <td>0.0</td>\n",
       "      <td>1</td>\n",
       "      <td>1</td>\n",
       "      <td>1</td>\n",
       "      <td>1</td>\n",
       "      <td>0</td>\n",
       "      <td>0.0</td>\n",
       "      <td>1</td>\n",
       "      <td>0</td>\n",
       "      <td>1</td>\n",
       "      <td>0</td>\n",
       "    </tr>\n",
       "  </tbody>\n",
       "</table>\n",
       "</div>"
      ],
      "text/plain": [
       "        anon_id  pat_enc_csn_id_coded  inpatient_data_id_coded  \\\n",
       "24753  JCdc9538          131281381262                 44823872   \n",
       "33407  JCdc9538          131281841915                 45116153   \n",
       "42983  JCdc9538          131284409583                 46725794   \n",
       "\n",
       "                      admit_time  label_max24  label_24hr_recent  admit_label  \\\n",
       "24753  2020-01-29 23:50:00+00:00            0                  0          0.0   \n",
       "33407  2020-02-08 23:05:00+00:00            1                  1          1.0   \n",
       "42983  2020-03-30 14:37:00+00:00            0                  0          0.0   \n",
       "\n",
       "       has_admit_label  died_within_24hrs  death_24hr_max_label  \\\n",
       "24753                1                  0                     0   \n",
       "33407                1                  0                     1   \n",
       "42983                1                  1                     1   \n",
       "\n",
       "       death_24hr_recent_label  first_label  first_label_minutes_since_admit  \\\n",
       "24753                        0            0                              0.0   \n",
       "33407                        1            1                              0.0   \n",
       "42983                        1            0                              0.0   \n",
       "\n",
       "       acute_to_critical_label_recent  critical_to_acute_label_recent  \\\n",
       "24753                               0                               0   \n",
       "33407                               0                               0   \n",
       "42983                               1                               0   \n",
       "\n",
       "       acute_to_critical_label_max  critical_to_acute_label_max  \n",
       "24753                            0                            0  \n",
       "33407                            0                            0  \n",
       "42983                            1                            0  "
      ]
     },
     "execution_count": 39,
     "metadata": {},
     "output_type": "execute_result"
    }
   ],
   "source": [
    "cohort[cohort.anon_id == 'JCdc9538']"
   ]
  }
 ],
 "metadata": {
  "kernelspec": {
   "display_name": "Python 3",
   "language": "python",
   "name": "python3"
  },
  "language_info": {
   "codemirror_mode": {
    "name": "ipython",
    "version": 3
   },
   "file_extension": ".py",
   "mimetype": "text/x-python",
   "name": "python",
   "nbconvert_exporter": "python",
   "pygments_lexer": "ipython3",
   "version": "3.8.5"
  }
 },
 "nbformat": 4,
 "nbformat_minor": 4
}
