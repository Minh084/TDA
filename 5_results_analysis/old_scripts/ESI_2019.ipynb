{
 "cells": [
  {
   "cell_type": "markdown",
   "metadata": {},
   "source": [
    "# ESI\n",
    "\n",
    "Check out ESI for the cohort and how ESI correlates with actual moveing into the ICU (using label max24).\n",
    "\n",
    "Check the trajectories for patients that the simple model got right but the complex model got wrong."
   ]
  },
  {
   "cell_type": "code",
   "execution_count": 1,
   "metadata": {},
   "outputs": [],
   "source": [
    "import pandas as pd\n",
    "import numpy as np\n",
    "from datetime import datetime\n",
    "from datetime import timedelta\n",
    "import matplotlib.pyplot as plt\n",
    "import seaborn as sns \n",
    "from scipy import stats"
   ]
  },
  {
   "cell_type": "code",
   "execution_count": 2,
   "metadata": {},
   "outputs": [],
   "source": [
    "# read in data files\n",
    "datadir = \"/home/eulalio/BMI212/2019_data/\"\n",
    "\n",
    "adt_file = datadir + \"traige_cohort_2019_adt.csv\"\n",
    "csn_file = datadir + \"cohort_2019_csns.csv\"\n",
    "results_file = datadir + \"results_gbw.csv\"\n",
    "labels_file = datadir + \"triage_cohort_2019_all_labels.csv\"\n",
    "demo_file = datadir + \"cohort_demo.csv\"\n",
    "\n",
    "\n",
    "full_adt = pd.read_csv(adt_file)\n",
    "csns = pd.read_csv(csn_file)\n",
    "results = pd.read_csv(results_file)\n",
    "labels = pd.read_csv(labels_file)\n",
    "demo = pd.read_csv(demo_file)"
   ]
  },
  {
   "cell_type": "code",
   "execution_count": 3,
   "metadata": {},
   "outputs": [
    {
     "name": "stdout",
     "output_type": "stream",
     "text": [
      "Index(['anon_id', 'pat_enc_csn_id_coded', 'inpatient_data_id_coded',\n",
      "       'label_max24', 'admit_time', 'admit_label', 'label_24hr_recent',\n",
      "       'label_12hr_recent', 'has_admit_label', 'first_label',\n",
      "       'first_label_time_since_admit', 'acute_to_critical_label',\n",
      "       'critical_to_acute_label'],\n",
      "      dtype='object')\n",
      "Index(['anon_id', 'pat_enc_csn_id_coded', 'admit_time_jittered', 'label',\n",
      "       'inpatient_data_id_coded', 'esi', 'hosp_admsn_time_jittered',\n",
      "       'ed_time_hr', 'admtimediff', 'admit_time', 'ed_time_min', 'gender',\n",
      "       'race', 'recent_height', 'recent_weight_kg', 'recent_date', 'age',\n",
      "       'medis', 'English'],\n",
      "      dtype='object')\n"
     ]
    }
   ],
   "source": [
    "print(labels.columns)\n",
    "print(demo.columns)"
   ]
  },
  {
   "cell_type": "markdown",
   "metadata": {},
   "source": [
    "We want to use the ESI from the demo table and the labels from the labels table."
   ]
  },
  {
   "cell_type": "code",
   "execution_count": 4,
   "metadata": {},
   "outputs": [
    {
     "data": {
      "text/plain": [
       "42995"
      ]
     },
     "execution_count": 4,
     "metadata": {},
     "output_type": "execute_result"
    }
   ],
   "source": [
    "labels_demo = labels.merge(demo, on='pat_enc_csn_id_coded')\n",
    "\n",
    "labels_demo.pat_enc_csn_id_coded.nunique()"
   ]
  },
  {
   "cell_type": "code",
   "execution_count": 5,
   "metadata": {},
   "outputs": [
    {
     "data": {
      "text/plain": [
       "41654"
      ]
     },
     "execution_count": 5,
     "metadata": {},
     "output_type": "execute_result"
    }
   ],
   "source": [
    "# there are too many csns above, we need to get this down to the final set of csns\n",
    "\n",
    "# filter down to csns in our cohort - should be 41,654 csns\n",
    "adt = full_adt[full_adt.pat_enc_csn_id_coded.isin(csns.pat_enc_csn_id_coded)]\n",
    "adt.pat_enc_csn_id_coded.nunique() # needs to be 61,654"
   ]
  },
  {
   "cell_type": "code",
   "execution_count": 6,
   "metadata": {},
   "outputs": [
    {
     "data": {
      "text/plain": [
       "41642"
      ]
     },
     "execution_count": 6,
     "metadata": {},
     "output_type": "execute_result"
    }
   ],
   "source": [
    "# now subset down to csns from the adt table\n",
    "labels_demo_sub = labels_demo[labels_demo.pat_enc_csn_id_coded.isin(csns.pat_enc_csn_id_coded)]\n",
    "labels_demo_sub.pat_enc_csn_id_coded.nunique()"
   ]
  },
  {
   "cell_type": "markdown",
   "metadata": {},
   "source": [
    "## Now we have final cohort set\n",
    "\n",
    "We're down to the final set of 61,642 csns, so we can look at data now."
   ]
  },
  {
   "cell_type": "code",
   "execution_count": 7,
   "metadata": {},
   "outputs": [
    {
     "data": {
      "text/plain": [
       "Index(['anon_id_x', 'pat_enc_csn_id_coded', 'inpatient_data_id_coded_x',\n",
       "       'label_max24', 'admit_time_x', 'admit_label', 'label_24hr_recent',\n",
       "       'label_12hr_recent', 'has_admit_label', 'first_label',\n",
       "       'first_label_time_since_admit', 'acute_to_critical_label',\n",
       "       'critical_to_acute_label', 'anon_id_y', 'admit_time_jittered', 'label',\n",
       "       'inpatient_data_id_coded_y', 'esi', 'hosp_admsn_time_jittered',\n",
       "       'ed_time_hr', 'admtimediff', 'admit_time_y', 'ed_time_min', 'gender',\n",
       "       'race', 'recent_height', 'recent_weight_kg', 'recent_date', 'age',\n",
       "       'medis', 'English'],\n",
       "      dtype='object')"
      ]
     },
     "execution_count": 7,
     "metadata": {},
     "output_type": "execute_result"
    }
   ],
   "source": [
    "labels_demo_sub.columns"
   ]
  },
  {
   "cell_type": "code",
   "execution_count": 8,
   "metadata": {},
   "outputs": [
    {
     "data": {
      "text/html": [
       "<div>\n",
       "<style scoped>\n",
       "    .dataframe tbody tr th:only-of-type {\n",
       "        vertical-align: middle;\n",
       "    }\n",
       "\n",
       "    .dataframe tbody tr th {\n",
       "        vertical-align: top;\n",
       "    }\n",
       "\n",
       "    .dataframe thead th {\n",
       "        text-align: right;\n",
       "    }\n",
       "</style>\n",
       "<table border=\"1\" class=\"dataframe\">\n",
       "  <thead>\n",
       "    <tr style=\"text-align: right;\">\n",
       "      <th></th>\n",
       "      <th>anon_id_x</th>\n",
       "      <th>pat_enc_csn_id_coded</th>\n",
       "      <th>inpatient_data_id_coded_x</th>\n",
       "      <th>label_max24</th>\n",
       "      <th>admit_time_x</th>\n",
       "      <th>admit_label</th>\n",
       "      <th>label_24hr_recent</th>\n",
       "      <th>label_12hr_recent</th>\n",
       "      <th>has_admit_label</th>\n",
       "      <th>first_label</th>\n",
       "      <th>...</th>\n",
       "      <th>admit_time_y</th>\n",
       "      <th>ed_time_min</th>\n",
       "      <th>gender</th>\n",
       "      <th>race</th>\n",
       "      <th>recent_height</th>\n",
       "      <th>recent_weight_kg</th>\n",
       "      <th>recent_date</th>\n",
       "      <th>age</th>\n",
       "      <th>medis</th>\n",
       "      <th>English</th>\n",
       "    </tr>\n",
       "  </thead>\n",
       "  <tbody>\n",
       "    <tr>\n",
       "      <th>0</th>\n",
       "      <td>JCcb658e</td>\n",
       "      <td>131231466934</td>\n",
       "      <td>24822070</td>\n",
       "      <td>0</td>\n",
       "      <td>2017-06-24 12:56:00+00:00</td>\n",
       "      <td>0.0</td>\n",
       "      <td>0</td>\n",
       "      <td>0.0</td>\n",
       "      <td>1</td>\n",
       "      <td>0.0</td>\n",
       "      <td>...</td>\n",
       "      <td>2017-06-24 12:56:00</td>\n",
       "      <td>463</td>\n",
       "      <td>Female</td>\n",
       "      <td>White</td>\n",
       "      <td>154.94</td>\n",
       "      <td>54.43</td>\n",
       "      <td>2019-01-01</td>\n",
       "      <td>22</td>\n",
       "      <td>0</td>\n",
       "      <td>1</td>\n",
       "    </tr>\n",
       "    <tr>\n",
       "      <th>1</th>\n",
       "      <td>JCcb65bd</td>\n",
       "      <td>131072545278</td>\n",
       "      <td>14327919</td>\n",
       "      <td>0</td>\n",
       "      <td>2015-02-18 20:54:00+00:00</td>\n",
       "      <td>0.0</td>\n",
       "      <td>0</td>\n",
       "      <td>0.0</td>\n",
       "      <td>1</td>\n",
       "      <td>0.0</td>\n",
       "      <td>...</td>\n",
       "      <td>2015-02-18 05:24:00</td>\n",
       "      <td>270</td>\n",
       "      <td>Female</td>\n",
       "      <td>Other</td>\n",
       "      <td>144.78</td>\n",
       "      <td>35.00</td>\n",
       "      <td>2019-01-01</td>\n",
       "      <td>85</td>\n",
       "      <td>0</td>\n",
       "      <td>1</td>\n",
       "    </tr>\n",
       "    <tr>\n",
       "      <th>2</th>\n",
       "      <td>JCcb65e1</td>\n",
       "      <td>131239638605</td>\n",
       "      <td>26535361</td>\n",
       "      <td>0</td>\n",
       "      <td>2017-11-08 09:51:00+00:00</td>\n",
       "      <td>0.0</td>\n",
       "      <td>0</td>\n",
       "      <td>0.0</td>\n",
       "      <td>1</td>\n",
       "      <td>0.0</td>\n",
       "      <td>...</td>\n",
       "      <td>2017-11-08 09:51:00</td>\n",
       "      <td>159</td>\n",
       "      <td>Female</td>\n",
       "      <td>Native American</td>\n",
       "      <td>147.32</td>\n",
       "      <td>61.69</td>\n",
       "      <td>2019-10-25</td>\n",
       "      <td>71</td>\n",
       "      <td>0</td>\n",
       "      <td>0</td>\n",
       "    </tr>\n",
       "    <tr>\n",
       "      <th>3</th>\n",
       "      <td>JCcb65e1</td>\n",
       "      <td>131265028886</td>\n",
       "      <td>35078537</td>\n",
       "      <td>0</td>\n",
       "      <td>2019-04-17 16:25:00+00:00</td>\n",
       "      <td>0.0</td>\n",
       "      <td>0</td>\n",
       "      <td>0.0</td>\n",
       "      <td>1</td>\n",
       "      <td>0.0</td>\n",
       "      <td>...</td>\n",
       "      <td>2019-04-17 16:25:00</td>\n",
       "      <td>624</td>\n",
       "      <td>Female</td>\n",
       "      <td>Native American</td>\n",
       "      <td>147.32</td>\n",
       "      <td>61.69</td>\n",
       "      <td>2019-10-25</td>\n",
       "      <td>72</td>\n",
       "      <td>0</td>\n",
       "      <td>0</td>\n",
       "    </tr>\n",
       "    <tr>\n",
       "      <th>4</th>\n",
       "      <td>JCcb6601</td>\n",
       "      <td>131125490360</td>\n",
       "      <td>16936826</td>\n",
       "      <td>0</td>\n",
       "      <td>2015-09-15 04:10:00+00:00</td>\n",
       "      <td>0.0</td>\n",
       "      <td>0</td>\n",
       "      <td>0.0</td>\n",
       "      <td>1</td>\n",
       "      <td>0.0</td>\n",
       "      <td>...</td>\n",
       "      <td>2015-09-15 02:57:00</td>\n",
       "      <td>277</td>\n",
       "      <td>Male</td>\n",
       "      <td>White</td>\n",
       "      <td>182.88</td>\n",
       "      <td>125.65</td>\n",
       "      <td>2020-03-31</td>\n",
       "      <td>69</td>\n",
       "      <td>1</td>\n",
       "      <td>1</td>\n",
       "    </tr>\n",
       "  </tbody>\n",
       "</table>\n",
       "<p>5 rows × 31 columns</p>\n",
       "</div>"
      ],
      "text/plain": [
       "  anon_id_x  pat_enc_csn_id_coded  inpatient_data_id_coded_x  label_max24  \\\n",
       "0  JCcb658e          131231466934                   24822070            0   \n",
       "1  JCcb65bd          131072545278                   14327919            0   \n",
       "2  JCcb65e1          131239638605                   26535361            0   \n",
       "3  JCcb65e1          131265028886                   35078537            0   \n",
       "4  JCcb6601          131125490360                   16936826            0   \n",
       "\n",
       "                admit_time_x  admit_label  label_24hr_recent  \\\n",
       "0  2017-06-24 12:56:00+00:00          0.0                  0   \n",
       "1  2015-02-18 20:54:00+00:00          0.0                  0   \n",
       "2  2017-11-08 09:51:00+00:00          0.0                  0   \n",
       "3  2019-04-17 16:25:00+00:00          0.0                  0   \n",
       "4  2015-09-15 04:10:00+00:00          0.0                  0   \n",
       "\n",
       "   label_12hr_recent  has_admit_label  first_label  ...         admit_time_y  \\\n",
       "0                0.0                1          0.0  ...  2017-06-24 12:56:00   \n",
       "1                0.0                1          0.0  ...  2015-02-18 05:24:00   \n",
       "2                0.0                1          0.0  ...  2017-11-08 09:51:00   \n",
       "3                0.0                1          0.0  ...  2019-04-17 16:25:00   \n",
       "4                0.0                1          0.0  ...  2015-09-15 02:57:00   \n",
       "\n",
       "   ed_time_min  gender             race recent_height  recent_weight_kg  \\\n",
       "0          463  Female            White        154.94             54.43   \n",
       "1          270  Female            Other        144.78             35.00   \n",
       "2          159  Female  Native American        147.32             61.69   \n",
       "3          624  Female  Native American        147.32             61.69   \n",
       "4          277    Male            White        182.88            125.65   \n",
       "\n",
       "   recent_date  age medis  English  \n",
       "0   2019-01-01   22     0        1  \n",
       "1   2019-01-01   85     0        1  \n",
       "2   2019-10-25   71     0        0  \n",
       "3   2019-10-25   72     0        0  \n",
       "4   2020-03-31   69     1        1  \n",
       "\n",
       "[5 rows x 31 columns]"
      ]
     },
     "execution_count": 8,
     "metadata": {},
     "output_type": "execute_result"
    }
   ],
   "source": [
    "labels_demo_sub.head()"
   ]
  },
  {
   "cell_type": "code",
   "execution_count": 9,
   "metadata": {},
   "outputs": [
    {
     "data": {
      "image/png": "[encoded data removed]",
      "text/plain": [
       "<Figure size 431.5x360 with 1 Axes>"
      ]
     },
     "metadata": {
      "needs_background": "light"
     },
     "output_type": "display_data"
    }
   ],
   "source": [
    "# check out label distribution for each ESI level for MAX label\n",
    "p = sns.catplot(data=labels_demo_sub,\n",
    "           x='esi',\n",
    "            kind='count',\n",
    "           hue='label_max24')\n",
    "p.fig.suptitle(\"24 hour max label by ESI\")\n",
    "p.fig.get_axes()[0].set_yscale('log')\n",
    "plt.show()"
   ]
  },
  {
   "cell_type": "code",
   "execution_count": 10,
   "metadata": {},
   "outputs": [
    {
     "data": {
      "image/png": "[encoded data removed]",
      "text/plain": [
       "<Figure size 457.25x360 with 1 Axes>"
      ]
     },
     "metadata": {
      "needs_background": "light"
     },
     "output_type": "display_data"
    }
   ],
   "source": [
    "# check out label distribution for each ESI level for RECENT label\n",
    "p = sns.catplot(data=labels_demo_sub,\n",
    "           x='esi',\n",
    "            kind='count',\n",
    "           hue='label_24hr_recent')\n",
    "p.fig.suptitle(\"24 hour RECENT label by ESI\")\n",
    "p.fig.get_axes()[0].set_yscale('log')\n",
    "plt.show()"
   ]
  },
  {
   "cell_type": "code",
   "execution_count": 45,
   "metadata": {},
   "outputs": [
    {
     "data": {
      "image/png": "[encoded data removed]",
      "text/plain": [
       "<Figure size 432x288 with 1 Axes>"
      ]
     },
     "metadata": {
      "needs_background": "light"
     },
     "output_type": "display_data"
    }
   ],
   "source": [
    "# create density plot\n",
    "p = sns.histplot(data=labels_demo_sub,\n",
    "           x='esi',\n",
    "           hue='label_max24',\n",
    "               discrete=True,\n",
    "                stat='density',\n",
    "               common_norm=False,\n",
    "                 multiple='dodge',\n",
    "                 shrink=0.8\n",
    "               )\n",
    "# p.fig.suptitle(\"24 hour max label by ESI\")\n",
    "# p.fig.get_axes()[0].set_yscale('log')\n",
    "p.set_title(\"Maximum level of care within 24 hours and Emergency Severity Index (ESI)\")\n",
    "p.set(xlabel='Emergency Severity Index (ESI)')\n",
    "plt.show()"
   ]
  }
 ],
 "metadata": {
  "kernelspec": {
   "display_name": "Python 3",
   "language": "python",
   "name": "python3"
  },
  "language_info": {
   "codemirror_mode": {
    "name": "ipython",
    "version": 3
   },
   "file_extension": ".py",
   "mimetype": "text/x-python",
   "name": "python",
   "nbconvert_exporter": "python",
   "pygments_lexer": "ipython3",
   "version": "3.7.3"
  }
 },
 "nbformat": 4,
 "nbformat_minor": 2
}
