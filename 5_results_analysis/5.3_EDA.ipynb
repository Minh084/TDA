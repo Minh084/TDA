{
 "cells": [
  {
   "cell_type": "markdown",
   "metadata": {},
   "source": [
    "### EDA"
   ]
  },
  {
   "cell_type": "code",
   "execution_count": 1,
   "metadata": {},
   "outputs": [
    {
     "name": "stderr",
     "output_type": "stream",
     "text": [
      "-- \u001b[1mAttaching packages\u001b[22m --------------------------------------- tidyverse 1.3.0 --\n",
      "\n",
      "\u001b[32mv\u001b[39m \u001b[34mtibble \u001b[39m 3.0.4     \u001b[32mv\u001b[39m \u001b[34mdplyr  \u001b[39m 1.0.2\n",
      "\u001b[32mv\u001b[39m \u001b[34mtidyr  \u001b[39m 1.1.2     \u001b[32mv\u001b[39m \u001b[34mstringr\u001b[39m 1.4.0\n",
      "\u001b[32mv\u001b[39m \u001b[34mreadr  \u001b[39m 1.4.0     \u001b[32mv\u001b[39m \u001b[34mforcats\u001b[39m 0.5.0\n",
      "\u001b[32mv\u001b[39m \u001b[34mpurrr  \u001b[39m 0.3.4     \n",
      "\n",
      "-- \u001b[1mConflicts\u001b[22m ------------------------------------------ tidyverse_conflicts() --\n",
      "\u001b[31mx\u001b[39m \u001b[34mdplyr\u001b[39m::\u001b[32mfilter()\u001b[39m masks \u001b[34mstats\u001b[39m::filter()\n",
      "\u001b[31mx\u001b[39m \u001b[34mdplyr\u001b[39m::\u001b[32mlag()\u001b[39m    masks \u001b[34mstats\u001b[39m::lag()\n",
      "\n",
      "\n",
      "Attaching package: 'lubridate'\n",
      "\n",
      "\n",
      "The following objects are masked from 'package:base':\n",
      "\n",
      "    date, intersect, setdiff, union\n",
      "\n",
      "\n",
      "\n",
      "Attaching package: 'gridExtra'\n",
      "\n",
      "\n",
      "The following object is masked from 'package:dplyr':\n",
      "\n",
      "    combine\n",
      "\n",
      "\n",
      "Type 'citation(\"pROC\")' for a citation.\n",
      "\n",
      "\n",
      "Attaching package: 'pROC'\n",
      "\n",
      "\n",
      "The following objects are masked from 'package:stats':\n",
      "\n",
      "    cov, smooth, var\n",
      "\n",
      "\n",
      "Loading required package: lattice\n",
      "\n",
      "\n",
      "Attaching package: 'caret'\n",
      "\n",
      "\n",
      "The following object is masked from 'package:purrr':\n",
      "\n",
      "    lift\n",
      "\n",
      "\n",
      "\n",
      "Attaching package: 'boot'\n",
      "\n",
      "\n",
      "The following object is masked from 'package:lattice':\n",
      "\n",
      "    melanoma\n",
      "\n",
      "\n",
      "The following object is masked from 'package:ROCit':\n",
      "\n",
      "    logit\n",
      "\n",
      "\n",
      "Warning message:\n",
      "\"package 'gbm' was built under R version 4.0.4\"\n",
      "Loaded gbm 2.1.8\n",
      "\n",
      "\n",
      "Attaching package: 'MLmetrics'\n",
      "\n",
      "\n",
      "The following objects are masked from 'package:caret':\n",
      "\n",
      "    MAE, RMSE\n",
      "\n",
      "\n",
      "The following object is masked from 'package:base':\n",
      "\n",
      "    Recall\n",
      "\n",
      "\n"
     ]
    }
   ],
   "source": [
    "library(ggplot2)\n",
    "library(ggExtra)\n",
    "library(tidyverse)\n",
    "library(lubridate)\n",
    "library(gridExtra)\n",
    "library(pROC)\n",
    "library(ROCR)\n",
    "library(ROCit)\n",
    "library(caret)\n",
    "library(boot)\n",
    "library(gbm)\n",
    "# library(\"cvAUC\")\n",
    "\n",
    "library(MLmetrics)"
   ]
  },
  {
   "cell_type": "code",
   "execution_count": 120,
   "metadata": {},
   "outputs": [],
   "source": [
    "# directories\n",
    "datadir = \"../../DataTD\"\n",
    "cohortdir = \"../../OutputTD/1_cohort\"\n",
    "featuredir = \"../../OutputTD/2_features\"\n",
    "modeldir4 = \"../../OutputTD/3_models/1_4_cohort\"\n",
    "# modeldir4preadmit = \"../../OutputTD/3_models/1_4_cohort_24hrpreadmit\"\n",
    "tabledir = \"../../OutputTD/4_tables\"\n",
    "resultdir = \"../../OutputTD/5_results_analysis\"\n",
    "\n",
    "options(repr.matrix.max.rows=200, repr.matrix.max.cols=30)"
   ]
  },
  {
   "cell_type": "code",
   "execution_count": 39,
   "metadata": {},
   "outputs": [
    {
     "data": {
      "text/html": [
       "43980"
      ],
      "text/latex": [
       "43980"
      ],
      "text/markdown": [
       "43980"
      ],
      "text/plain": [
       "[1] 43980"
      ]
     },
     "metadata": {},
     "output_type": "display_data"
    },
    {
     "data": {
      "text/html": [
       "45794"
      ],
      "text/latex": [
       "45794"
      ],
      "text/markdown": [
       "45794"
      ],
      "text/plain": [
       "[1] 45794"
      ]
     },
     "metadata": {},
     "output_type": "display_data"
    },
    {
     "data": {
      "text/html": [
       "44258"
      ],
      "text/latex": [
       "44258"
      ],
      "text/markdown": [
       "44258"
      ],
      "text/plain": [
       "[1] 44258"
      ]
     },
     "metadata": {},
     "output_type": "display_data"
    }
   ],
   "source": [
    "cohort <- read.csv(file.path(cohortdir, \"1_4_cohort.csv\")) %>% mutate(admit_time = ymd_hms(admit_time))\n",
    "nrow(cohort)\n",
    "\n",
    "demo <- read.csv(file.path(featuredir, \"2_1_coh2_demo.csv\"))  %>% mutate(admit_time = ymd_hms(admit_time)) %>% \n",
    "            select(anon_id, pat_enc_csn_id_coded, race)\n",
    "nrow(demo)\n",
    "\n",
    "esi <- read.csv(file.path(featuredir, \"2_5_coh3_imputedHWESI.csv\"))  %>% mutate(admit_time = ymd_hms(admit_time)) %>%\n",
    "            select(anon_id, pat_enc_csn_id_coded, ESI_i) %>% rename(ESI = ESI_i)\n",
    "nrow(esi)\n",
    "# adm_year = year(admit_time)"
   ]
  },
  {
   "cell_type": "code",
   "execution_count": 40,
   "metadata": {},
   "outputs": [
    {
     "data": {
      "text/html": [
       "<table>\n",
       "<caption>A data.frame: 1 × 17</caption>\n",
       "<thead>\n",
       "\t<tr><th></th><th scope=col>anon_id</th><th scope=col>pat_enc_csn_id_coded</th><th scope=col>inpatient_data_id_coded</th><th scope=col>admit_time</th><th scope=col>label_max24</th><th scope=col>label_24hr_recent</th><th scope=col>admit_label</th><th scope=col>has_admit_label</th><th scope=col>died_within_24hrs</th><th scope=col>death_24hr_max_label</th><th scope=col>death_24hr_recent_label</th><th scope=col>first_label</th><th scope=col>first_label_minutes_since_admit</th><th scope=col>acute_to_critical_label_recent</th><th scope=col>critical_to_acute_label_recent</th><th scope=col>acute_to_critical_label_max</th><th scope=col>critical_to_acute_label_max</th></tr>\n",
       "\t<tr><th></th><th scope=col>&lt;chr&gt;</th><th scope=col>&lt;dbl&gt;</th><th scope=col>&lt;int&gt;</th><th scope=col>&lt;dttm&gt;</th><th scope=col>&lt;int&gt;</th><th scope=col>&lt;int&gt;</th><th scope=col>&lt;int&gt;</th><th scope=col>&lt;int&gt;</th><th scope=col>&lt;int&gt;</th><th scope=col>&lt;int&gt;</th><th scope=col>&lt;int&gt;</th><th scope=col>&lt;int&gt;</th><th scope=col>&lt;dbl&gt;</th><th scope=col>&lt;int&gt;</th><th scope=col>&lt;int&gt;</th><th scope=col>&lt;int&gt;</th><th scope=col>&lt;int&gt;</th></tr>\n",
       "</thead>\n",
       "<tbody>\n",
       "\t<tr><th scope=row>1</th><td>JCd97296</td><td>1.31176e+11</td><td>18290644</td><td>2016-02-06 22:31:00</td><td>0</td><td>0</td><td>NA</td><td>0</td><td>0</td><td>0</td><td>0</td><td>0</td><td>1325</td><td>0</td><td>0</td><td>0</td><td>0</td></tr>\n",
       "</tbody>\n",
       "</table>\n"
      ],
      "text/latex": [
       "A data.frame: 1 × 17\n",
       "\\begin{tabular}{r|lllllllllllllllll}\n",
       "  & anon\\_id & pat\\_enc\\_csn\\_id\\_coded & inpatient\\_data\\_id\\_coded & admit\\_time & label\\_max24 & label\\_24hr\\_recent & admit\\_label & has\\_admit\\_label & died\\_within\\_24hrs & death\\_24hr\\_max\\_label & death\\_24hr\\_recent\\_label & first\\_label & first\\_label\\_minutes\\_since\\_admit & acute\\_to\\_critical\\_label\\_recent & critical\\_to\\_acute\\_label\\_recent & acute\\_to\\_critical\\_label\\_max & critical\\_to\\_acute\\_label\\_max\\\\\n",
       "  & <chr> & <dbl> & <int> & <dttm> & <int> & <int> & <int> & <int> & <int> & <int> & <int> & <int> & <dbl> & <int> & <int> & <int> & <int>\\\\\n",
       "\\hline\n",
       "\t1 & JCd97296 & 1.31176e+11 & 18290644 & 2016-02-06 22:31:00 & 0 & 0 & NA & 0 & 0 & 0 & 0 & 0 & 1325 & 0 & 0 & 0 & 0\\\\\n",
       "\\end{tabular}\n"
      ],
      "text/markdown": [
       "\n",
       "A data.frame: 1 × 17\n",
       "\n",
       "| <!--/--> | anon_id &lt;chr&gt; | pat_enc_csn_id_coded &lt;dbl&gt; | inpatient_data_id_coded &lt;int&gt; | admit_time &lt;dttm&gt; | label_max24 &lt;int&gt; | label_24hr_recent &lt;int&gt; | admit_label &lt;int&gt; | has_admit_label &lt;int&gt; | died_within_24hrs &lt;int&gt; | death_24hr_max_label &lt;int&gt; | death_24hr_recent_label &lt;int&gt; | first_label &lt;int&gt; | first_label_minutes_since_admit &lt;dbl&gt; | acute_to_critical_label_recent &lt;int&gt; | critical_to_acute_label_recent &lt;int&gt; | acute_to_critical_label_max &lt;int&gt; | critical_to_acute_label_max &lt;int&gt; |\n",
       "|---|---|---|---|---|---|---|---|---|---|---|---|---|---|---|---|---|---|\n",
       "| 1 | JCd97296 | 1.31176e+11 | 18290644 | 2016-02-06 22:31:00 | 0 | 0 | NA | 0 | 0 | 0 | 0 | 0 | 1325 | 0 | 0 | 0 | 0 |\n",
       "\n"
      ],
      "text/plain": [
       "  anon_id  pat_enc_csn_id_coded inpatient_data_id_coded admit_time         \n",
       "1 JCd97296 1.31176e+11          18290644                2016-02-06 22:31:00\n",
       "  label_max24 label_24hr_recent admit_label has_admit_label died_within_24hrs\n",
       "1 0           0                 NA          0               0                \n",
       "  death_24hr_max_label death_24hr_recent_label first_label\n",
       "1 0                    0                       0          \n",
       "  first_label_minutes_since_admit acute_to_critical_label_recent\n",
       "1 1325                            0                             \n",
       "  critical_to_acute_label_recent acute_to_critical_label_max\n",
       "1 0                              0                          \n",
       "  critical_to_acute_label_max\n",
       "1 0                          "
      ]
     },
     "metadata": {},
     "output_type": "display_data"
    },
    {
     "data": {
      "text/html": [
       "<table>\n",
       "<caption>A data.frame: 1 × 3</caption>\n",
       "<thead>\n",
       "\t<tr><th></th><th scope=col>anon_id</th><th scope=col>pat_enc_csn_id_coded</th><th scope=col>race</th></tr>\n",
       "\t<tr><th></th><th scope=col>&lt;chr&gt;</th><th scope=col>&lt;dbl&gt;</th><th scope=col>&lt;chr&gt;</th></tr>\n",
       "</thead>\n",
       "<tbody>\n",
       "\t<tr><th scope=row>1</th><td>JC29f8ad2</td><td>131274729058</td><td>White</td></tr>\n",
       "</tbody>\n",
       "</table>\n"
      ],
      "text/latex": [
       "A data.frame: 1 × 3\n",
       "\\begin{tabular}{r|lll}\n",
       "  & anon\\_id & pat\\_enc\\_csn\\_id\\_coded & race\\\\\n",
       "  & <chr> & <dbl> & <chr>\\\\\n",
       "\\hline\n",
       "\t1 & JC29f8ad2 & 131274729058 & White\\\\\n",
       "\\end{tabular}\n"
      ],
      "text/markdown": [
       "\n",
       "A data.frame: 1 × 3\n",
       "\n",
       "| <!--/--> | anon_id &lt;chr&gt; | pat_enc_csn_id_coded &lt;dbl&gt; | race &lt;chr&gt; |\n",
       "|---|---|---|---|\n",
       "| 1 | JC29f8ad2 | 131274729058 | White |\n",
       "\n"
      ],
      "text/plain": [
       "  anon_id   pat_enc_csn_id_coded race \n",
       "1 JC29f8ad2 131274729058         White"
      ]
     },
     "metadata": {},
     "output_type": "display_data"
    },
    {
     "data": {
      "text/html": [
       "<table>\n",
       "<caption>A data.frame: 6 × 3</caption>\n",
       "<thead>\n",
       "\t<tr><th></th><th scope=col>anon_id</th><th scope=col>pat_enc_csn_id_coded</th><th scope=col>ESI</th></tr>\n",
       "\t<tr><th></th><th scope=col>&lt;chr&gt;</th><th scope=col>&lt;dbl&gt;</th><th scope=col>&lt;int&gt;</th></tr>\n",
       "</thead>\n",
       "<tbody>\n",
       "\t<tr><th scope=row>1</th><td>JC29f8ad2</td><td>131274729058</td><td>3</td></tr>\n",
       "\t<tr><th scope=row>2</th><td>JC29f8ad3</td><td>131278291027</td><td>3</td></tr>\n",
       "\t<tr><th scope=row>3</th><td>JC29f8b9c</td><td>131266787806</td><td>2</td></tr>\n",
       "\t<tr><th scope=row>4</th><td>JC29f8beb</td><td>131264387263</td><td>3</td></tr>\n",
       "\t<tr><th scope=row>5</th><td>JC29f8beb</td><td>131279241689</td><td>3</td></tr>\n",
       "\t<tr><th scope=row>6</th><td>JC29f8bef</td><td>131280937356</td><td>3</td></tr>\n",
       "</tbody>\n",
       "</table>\n"
      ],
      "text/latex": [
       "A data.frame: 6 × 3\n",
       "\\begin{tabular}{r|lll}\n",
       "  & anon\\_id & pat\\_enc\\_csn\\_id\\_coded & ESI\\\\\n",
       "  & <chr> & <dbl> & <int>\\\\\n",
       "\\hline\n",
       "\t1 & JC29f8ad2 & 131274729058 & 3\\\\\n",
       "\t2 & JC29f8ad3 & 131278291027 & 3\\\\\n",
       "\t3 & JC29f8b9c & 131266787806 & 2\\\\\n",
       "\t4 & JC29f8beb & 131264387263 & 3\\\\\n",
       "\t5 & JC29f8beb & 131279241689 & 3\\\\\n",
       "\t6 & JC29f8bef & 131280937356 & 3\\\\\n",
       "\\end{tabular}\n"
      ],
      "text/markdown": [
       "\n",
       "A data.frame: 6 × 3\n",
       "\n",
       "| <!--/--> | anon_id &lt;chr&gt; | pat_enc_csn_id_coded &lt;dbl&gt; | ESI &lt;int&gt; |\n",
       "|---|---|---|---|\n",
       "| 1 | JC29f8ad2 | 131274729058 | 3 |\n",
       "| 2 | JC29f8ad3 | 131278291027 | 3 |\n",
       "| 3 | JC29f8b9c | 131266787806 | 2 |\n",
       "| 4 | JC29f8beb | 131264387263 | 3 |\n",
       "| 5 | JC29f8beb | 131279241689 | 3 |\n",
       "| 6 | JC29f8bef | 131280937356 | 3 |\n",
       "\n"
      ],
      "text/plain": [
       "  anon_id   pat_enc_csn_id_coded ESI\n",
       "1 JC29f8ad2 131274729058         3  \n",
       "2 JC29f8ad3 131278291027         3  \n",
       "3 JC29f8b9c 131266787806         2  \n",
       "4 JC29f8beb 131264387263         3  \n",
       "5 JC29f8beb 131279241689         3  \n",
       "6 JC29f8bef 131280937356         3  "
      ]
     },
     "metadata": {},
     "output_type": "display_data"
    }
   ],
   "source": [
    "head(cohort,1)\n",
    "head(demo,1)\n",
    "head(esi)"
   ]
  },
  {
   "cell_type": "code",
   "execution_count": 44,
   "metadata": {},
   "outputs": [
    {
     "name": "stderr",
     "output_type": "stream",
     "text": [
      "Joining, by = c(\"anon_id\", \"pat_enc_csn_id_coded\")\n",
      "\n",
      "Joining, by = c(\"anon_id\", \"pat_enc_csn_id_coded\")\n",
      "\n"
     ]
    },
    {
     "data": {
      "text/html": [
       "43980"
      ],
      "text/latex": [
       "43980"
      ],
      "text/markdown": [
       "43980"
      ],
      "text/plain": [
       "[1] 43980"
      ]
     },
     "metadata": {},
     "output_type": "display_data"
    },
    {
     "data": {
      "text/plain": [
       "   anon_id          pat_enc_csn_id_coded inpatient_data_id_coded\n",
       " Length:43980       Min.   :1.311e+11    Min.   :13616753       \n",
       " Class :character   1st Qu.:1.312e+11    1st Qu.:19861137       \n",
       " Mode  :character   Median :1.312e+11    Median :27876162       \n",
       "                    Mean   :1.312e+11    Mean   :28124485       \n",
       "                    3rd Qu.:1.313e+11    3rd Qu.:34360245       \n",
       "                    Max.   :1.313e+11    Max.   :48026130       \n",
       "                                                                \n",
       "   admit_time                   label_max24     label_24hr_recent\n",
       " Min.   :2015-01-01 08:24:00   Min.   :0.0000   Min.   :0.0000   \n",
       " 1st Qu.:2016-05-21 21:18:15   1st Qu.:0.0000   1st Qu.:0.0000   \n",
       " Median :2017-12-29 20:46:30   Median :0.0000   Median :0.0000   \n",
       " Mean   :2017-10-11 23:21:00   Mean   :0.1353   Mean   :0.0945   \n",
       " 3rd Qu.:2019-02-17 03:08:45   3rd Qu.:0.0000   3rd Qu.:0.0000   \n",
       " Max.   :2020-03-31 07:00:00   Max.   :1.0000   Max.   :1.0000   \n",
       "                                                                 \n",
       "  admit_label   has_admit_label  died_within_24hrs   death_24hr_max_label\n",
       " Min.   :0.00   Min.   :0.0000   Min.   :0.0000000   Min.   :0.0000      \n",
       " 1st Qu.:0.00   1st Qu.:1.0000   1st Qu.:0.0000000   1st Qu.:0.0000      \n",
       " Median :0.00   Median :1.0000   Median :0.0000000   Median :0.0000      \n",
       " Mean   :0.11   Mean   :0.9839   Mean   :0.0004548   Mean   :0.1355      \n",
       " 3rd Qu.:0.00   3rd Qu.:1.0000   3rd Qu.:0.0000000   3rd Qu.:0.0000      \n",
       " Max.   :1.00   Max.   :1.0000   Max.   :1.0000000   Max.   :1.0000      \n",
       " NA's   :708                                                             \n",
       " death_24hr_recent_label  first_label   first_label_minutes_since_admit\n",
       " Min.   :0.00000         Min.   :0.00   Min.   :   0.000               \n",
       " 1st Qu.:0.00000         1st Qu.:0.00   1st Qu.:   0.000               \n",
       " Median :0.00000         Median :0.00   Median :   0.000               \n",
       " Mean   :0.09468         Mean   :0.11   Mean   :   3.379               \n",
       " 3rd Qu.:0.00000         3rd Qu.:0.00   3rd Qu.:   0.000               \n",
       " Max.   :1.00000         Max.   :1.00   Max.   :1411.000               \n",
       "                                                                       \n",
       " acute_to_critical_label_recent critical_to_acute_label_recent\n",
       " Min.   :0.00000                Min.   :0.00000               \n",
       " 1st Qu.:0.00000                1st Qu.:0.00000               \n",
       " Median :0.00000                Median :0.00000               \n",
       " Mean   :0.02074                Mean   :0.03608               \n",
       " 3rd Qu.:0.00000                3rd Qu.:0.00000               \n",
       " Max.   :1.00000                Max.   :1.00000               \n",
       "                                                              \n",
       " acute_to_critical_label_max critical_to_acute_label_max\n",
       " Min.   :0.00000             Min.   :0                  \n",
       " 1st Qu.:0.00000             1st Qu.:0                  \n",
       " Median :0.00000             Median :0                  \n",
       " Mean   :0.02547             Mean   :0                  \n",
       " 3rd Qu.:0.00000             3rd Qu.:0                  \n",
       " Max.   :1.00000             Max.   :0                  \n",
       "                                                        \n",
       "               race            ESI       \n",
       " Asian           : 6655   Min.   :1.000  \n",
       " Black           : 3104   1st Qu.:2.000  \n",
       " Native American :  187   Median :3.000  \n",
       " Other           :10170   Mean   :2.658  \n",
       " Pacific Islander:  902   3rd Qu.:3.000  \n",
       " Unknown         :  382   Max.   :5.000  \n",
       " White           :22580                  "
      ]
     },
     "metadata": {},
     "output_type": "display_data"
    }
   ],
   "source": [
    "coh_demo <- left_join(cohort, demo) %>% left_join(esi) %>% mutate(race=factor(race))\n",
    "nrow(coh_demo)\n",
    "summary(coh_demo)"
   ]
  },
  {
   "cell_type": "code",
   "execution_count": 52,
   "metadata": {},
   "outputs": [
    {
     "data": {
      "image/png": "[encoded data removed]",
      "text/plain": [
       "Plot with title \"Histogram of coh_demo$ESI\""
      ]
     },
     "metadata": {
      "image/png": {
       "height": 420,
       "width": 600
      }
     },
     "output_type": "display_data"
    }
   ],
   "source": [
    "hist(coh_demo$ESI)"
   ]
  },
  {
   "cell_type": "code",
   "execution_count": 64,
   "metadata": {},
   "outputs": [
    {
     "name": "stderr",
     "output_type": "stream",
     "text": [
      "`summarise()` regrouping output by 'race' (override with `.groups` argument)\n",
      "\n"
     ]
    },
    {
     "data": {
      "text/html": [
       "<table>\n",
       "<caption>A grouped_df: 32 × 5</caption>\n",
       "<thead>\n",
       "\t<tr><th scope=col>race</th><th scope=col>ESI</th><th scope=col>n</th><th scope=col>ntotal</th><th scope=col>group_percentage</th></tr>\n",
       "\t<tr><th scope=col>&lt;fct&gt;</th><th scope=col>&lt;int&gt;</th><th scope=col>&lt;int&gt;</th><th scope=col>&lt;int&gt;</th><th scope=col>&lt;dbl&gt;</th></tr>\n",
       "</thead>\n",
       "<tbody>\n",
       "\t<tr><td>Asian           </td><td>1</td><td>   69</td><td> 6655</td><td> 1.04</td></tr>\n",
       "\t<tr><td>Asian           </td><td>2</td><td> 2307</td><td> 6655</td><td>34.67</td></tr>\n",
       "\t<tr><td>Asian           </td><td>3</td><td> 4224</td><td> 6655</td><td>63.47</td></tr>\n",
       "\t<tr><td>Asian           </td><td>4</td><td>   53</td><td> 6655</td><td> 0.80</td></tr>\n",
       "\t<tr><td>Asian           </td><td>5</td><td>    2</td><td> 6655</td><td> 0.03</td></tr>\n",
       "\t<tr><td>Black           </td><td>1</td><td>   43</td><td> 3104</td><td> 1.39</td></tr>\n",
       "\t<tr><td>Black           </td><td>2</td><td> 1084</td><td> 3104</td><td>34.92</td></tr>\n",
       "\t<tr><td>Black           </td><td>3</td><td> 1938</td><td> 3104</td><td>62.44</td></tr>\n",
       "\t<tr><td>Black           </td><td>4</td><td>   36</td><td> 3104</td><td> 1.16</td></tr>\n",
       "\t<tr><td>Black           </td><td>5</td><td>    3</td><td> 3104</td><td> 0.10</td></tr>\n",
       "\t<tr><td>Native American </td><td>1</td><td>    2</td><td>  187</td><td> 1.07</td></tr>\n",
       "\t<tr><td>Native American </td><td>2</td><td>   51</td><td>  187</td><td>27.27</td></tr>\n",
       "\t<tr><td>Native American </td><td>3</td><td>  133</td><td>  187</td><td>71.12</td></tr>\n",
       "\t<tr><td>Native American </td><td>4</td><td>    1</td><td>  187</td><td> 0.53</td></tr>\n",
       "\t<tr><td>Other           </td><td>1</td><td>   91</td><td>10170</td><td> 0.89</td></tr>\n",
       "\t<tr><td>Other           </td><td>2</td><td> 3104</td><td>10170</td><td>30.52</td></tr>\n",
       "\t<tr><td>Other           </td><td>3</td><td> 6878</td><td>10170</td><td>67.63</td></tr>\n",
       "\t<tr><td>Other           </td><td>4</td><td>   93</td><td>10170</td><td> 0.91</td></tr>\n",
       "\t<tr><td>Other           </td><td>5</td><td>    4</td><td>10170</td><td> 0.04</td></tr>\n",
       "\t<tr><td>Pacific Islander</td><td>1</td><td>   14</td><td>  902</td><td> 1.55</td></tr>\n",
       "\t<tr><td>Pacific Islander</td><td>2</td><td>  312</td><td>  902</td><td>34.59</td></tr>\n",
       "\t<tr><td>Pacific Islander</td><td>3</td><td>  568</td><td>  902</td><td>62.97</td></tr>\n",
       "\t<tr><td>Pacific Islander</td><td>4</td><td>    8</td><td>  902</td><td> 0.89</td></tr>\n",
       "\t<tr><td>Unknown         </td><td>1</td><td>   13</td><td>  382</td><td> 3.40</td></tr>\n",
       "\t<tr><td>Unknown         </td><td>2</td><td>  140</td><td>  382</td><td>36.65</td></tr>\n",
       "\t<tr><td>Unknown         </td><td>3</td><td>  226</td><td>  382</td><td>59.16</td></tr>\n",
       "\t<tr><td>Unknown         </td><td>4</td><td>    3</td><td>  382</td><td> 0.79</td></tr>\n",
       "\t<tr><td>White           </td><td>1</td><td>  240</td><td>22580</td><td> 1.06</td></tr>\n",
       "\t<tr><td>White           </td><td>2</td><td> 7533</td><td>22580</td><td>33.36</td></tr>\n",
       "\t<tr><td>White           </td><td>3</td><td>14589</td><td>22580</td><td>64.61</td></tr>\n",
       "\t<tr><td>White           </td><td>4</td><td>  211</td><td>22580</td><td> 0.93</td></tr>\n",
       "\t<tr><td>White           </td><td>5</td><td>    7</td><td>22580</td><td> 0.03</td></tr>\n",
       "</tbody>\n",
       "</table>\n"
      ],
      "text/latex": [
       "A grouped\\_df: 32 × 5\n",
       "\\begin{tabular}{lllll}\n",
       " race & ESI & n & ntotal & group\\_percentage\\\\\n",
       " <fct> & <int> & <int> & <int> & <dbl>\\\\\n",
       "\\hline\n",
       "\t Asian            & 1 &    69 &  6655 &  1.04\\\\\n",
       "\t Asian            & 2 &  2307 &  6655 & 34.67\\\\\n",
       "\t Asian            & 3 &  4224 &  6655 & 63.47\\\\\n",
       "\t Asian            & 4 &    53 &  6655 &  0.80\\\\\n",
       "\t Asian            & 5 &     2 &  6655 &  0.03\\\\\n",
       "\t Black            & 1 &    43 &  3104 &  1.39\\\\\n",
       "\t Black            & 2 &  1084 &  3104 & 34.92\\\\\n",
       "\t Black            & 3 &  1938 &  3104 & 62.44\\\\\n",
       "\t Black            & 4 &    36 &  3104 &  1.16\\\\\n",
       "\t Black            & 5 &     3 &  3104 &  0.10\\\\\n",
       "\t Native American  & 1 &     2 &   187 &  1.07\\\\\n",
       "\t Native American  & 2 &    51 &   187 & 27.27\\\\\n",
       "\t Native American  & 3 &   133 &   187 & 71.12\\\\\n",
       "\t Native American  & 4 &     1 &   187 &  0.53\\\\\n",
       "\t Other            & 1 &    91 & 10170 &  0.89\\\\\n",
       "\t Other            & 2 &  3104 & 10170 & 30.52\\\\\n",
       "\t Other            & 3 &  6878 & 10170 & 67.63\\\\\n",
       "\t Other            & 4 &    93 & 10170 &  0.91\\\\\n",
       "\t Other            & 5 &     4 & 10170 &  0.04\\\\\n",
       "\t Pacific Islander & 1 &    14 &   902 &  1.55\\\\\n",
       "\t Pacific Islander & 2 &   312 &   902 & 34.59\\\\\n",
       "\t Pacific Islander & 3 &   568 &   902 & 62.97\\\\\n",
       "\t Pacific Islander & 4 &     8 &   902 &  0.89\\\\\n",
       "\t Unknown          & 1 &    13 &   382 &  3.40\\\\\n",
       "\t Unknown          & 2 &   140 &   382 & 36.65\\\\\n",
       "\t Unknown          & 3 &   226 &   382 & 59.16\\\\\n",
       "\t Unknown          & 4 &     3 &   382 &  0.79\\\\\n",
       "\t White            & 1 &   240 & 22580 &  1.06\\\\\n",
       "\t White            & 2 &  7533 & 22580 & 33.36\\\\\n",
       "\t White            & 3 & 14589 & 22580 & 64.61\\\\\n",
       "\t White            & 4 &   211 & 22580 &  0.93\\\\\n",
       "\t White            & 5 &     7 & 22580 &  0.03\\\\\n",
       "\\end{tabular}\n"
      ],
      "text/markdown": [
       "\n",
       "A grouped_df: 32 × 5\n",
       "\n",
       "| race &lt;fct&gt; | ESI &lt;int&gt; | n &lt;int&gt; | ntotal &lt;int&gt; | group_percentage &lt;dbl&gt; |\n",
       "|---|---|---|---|---|\n",
       "| Asian            | 1 |    69 |  6655 |  1.04 |\n",
       "| Asian            | 2 |  2307 |  6655 | 34.67 |\n",
       "| Asian            | 3 |  4224 |  6655 | 63.47 |\n",
       "| Asian            | 4 |    53 |  6655 |  0.80 |\n",
       "| Asian            | 5 |     2 |  6655 |  0.03 |\n",
       "| Black            | 1 |    43 |  3104 |  1.39 |\n",
       "| Black            | 2 |  1084 |  3104 | 34.92 |\n",
       "| Black            | 3 |  1938 |  3104 | 62.44 |\n",
       "| Black            | 4 |    36 |  3104 |  1.16 |\n",
       "| Black            | 5 |     3 |  3104 |  0.10 |\n",
       "| Native American  | 1 |     2 |   187 |  1.07 |\n",
       "| Native American  | 2 |    51 |   187 | 27.27 |\n",
       "| Native American  | 3 |   133 |   187 | 71.12 |\n",
       "| Native American  | 4 |     1 |   187 |  0.53 |\n",
       "| Other            | 1 |    91 | 10170 |  0.89 |\n",
       "| Other            | 2 |  3104 | 10170 | 30.52 |\n",
       "| Other            | 3 |  6878 | 10170 | 67.63 |\n",
       "| Other            | 4 |    93 | 10170 |  0.91 |\n",
       "| Other            | 5 |     4 | 10170 |  0.04 |\n",
       "| Pacific Islander | 1 |    14 |   902 |  1.55 |\n",
       "| Pacific Islander | 2 |   312 |   902 | 34.59 |\n",
       "| Pacific Islander | 3 |   568 |   902 | 62.97 |\n",
       "| Pacific Islander | 4 |     8 |   902 |  0.89 |\n",
       "| Unknown          | 1 |    13 |   382 |  3.40 |\n",
       "| Unknown          | 2 |   140 |   382 | 36.65 |\n",
       "| Unknown          | 3 |   226 |   382 | 59.16 |\n",
       "| Unknown          | 4 |     3 |   382 |  0.79 |\n",
       "| White            | 1 |   240 | 22580 |  1.06 |\n",
       "| White            | 2 |  7533 | 22580 | 33.36 |\n",
       "| White            | 3 | 14589 | 22580 | 64.61 |\n",
       "| White            | 4 |   211 | 22580 |  0.93 |\n",
       "| White            | 5 |     7 | 22580 |  0.03 |\n",
       "\n"
      ],
      "text/plain": [
       "   race             ESI n     ntotal group_percentage\n",
       "1  Asian            1      69  6655   1.04           \n",
       "2  Asian            2    2307  6655  34.67           \n",
       "3  Asian            3    4224  6655  63.47           \n",
       "4  Asian            4      53  6655   0.80           \n",
       "5  Asian            5       2  6655   0.03           \n",
       "6  Black            1      43  3104   1.39           \n",
       "7  Black            2    1084  3104  34.92           \n",
       "8  Black            3    1938  3104  62.44           \n",
       "9  Black            4      36  3104   1.16           \n",
       "10 Black            5       3  3104   0.10           \n",
       "11 Native American  1       2   187   1.07           \n",
       "12 Native American  2      51   187  27.27           \n",
       "13 Native American  3     133   187  71.12           \n",
       "14 Native American  4       1   187   0.53           \n",
       "15 Other            1      91 10170   0.89           \n",
       "16 Other            2    3104 10170  30.52           \n",
       "17 Other            3    6878 10170  67.63           \n",
       "18 Other            4      93 10170   0.91           \n",
       "19 Other            5       4 10170   0.04           \n",
       "20 Pacific Islander 1      14   902   1.55           \n",
       "21 Pacific Islander 2     312   902  34.59           \n",
       "22 Pacific Islander 3     568   902  62.97           \n",
       "23 Pacific Islander 4       8   902   0.89           \n",
       "24 Unknown          1      13   382   3.40           \n",
       "25 Unknown          2     140   382  36.65           \n",
       "26 Unknown          3     226   382  59.16           \n",
       "27 Unknown          4       3   382   0.79           \n",
       "28 White            1     240 22580   1.06           \n",
       "29 White            2    7533 22580  33.36           \n",
       "30 White            3   14589 22580  64.61           \n",
       "31 White            4     211 22580   0.93           \n",
       "32 White            5       7 22580   0.03           "
      ]
     },
     "metadata": {},
     "output_type": "display_data"
    }
   ],
   "source": [
    "race_esi <- coh_demo %>% group_by(race, ESI) %>% summarise(n = n()) %>% \n",
    "                group_by(race) %>% mutate(ntotal = sum(n), group_percentage = round(100*n/ntotal, 2))\n",
    "race_esi"
   ]
  },
  {
   "cell_type": "code",
   "execution_count": 95,
   "metadata": {},
   "outputs": [
    {
     "data": {
      "text/html": [
       "<table>\n",
       "<caption>A grouped_df: 4 × 5</caption>\n",
       "<thead>\n",
       "\t<tr><th scope=col>race</th><th scope=col>ESI</th><th scope=col>n</th><th scope=col>ntotal</th><th scope=col>group_percentage</th></tr>\n",
       "\t<tr><th scope=col>&lt;fct&gt;</th><th scope=col>&lt;int&gt;</th><th scope=col>&lt;int&gt;</th><th scope=col>&lt;int&gt;</th><th scope=col>&lt;dbl&gt;</th></tr>\n",
       "</thead>\n",
       "<tbody>\n",
       "\t<tr><td>Asian</td><td>5</td><td>2</td><td> 6655</td><td>0.03</td></tr>\n",
       "\t<tr><td>Black</td><td>5</td><td>3</td><td> 3104</td><td>0.10</td></tr>\n",
       "\t<tr><td>Other</td><td>5</td><td>4</td><td>10170</td><td>0.04</td></tr>\n",
       "\t<tr><td>White</td><td>5</td><td>7</td><td>22580</td><td>0.03</td></tr>\n",
       "</tbody>\n",
       "</table>\n"
      ],
      "text/latex": [
       "A grouped\\_df: 4 × 5\n",
       "\\begin{tabular}{lllll}\n",
       " race & ESI & n & ntotal & group\\_percentage\\\\\n",
       " <fct> & <int> & <int> & <int> & <dbl>\\\\\n",
       "\\hline\n",
       "\t Asian & 5 & 2 &  6655 & 0.03\\\\\n",
       "\t Black & 5 & 3 &  3104 & 0.10\\\\\n",
       "\t Other & 5 & 4 & 10170 & 0.04\\\\\n",
       "\t White & 5 & 7 & 22580 & 0.03\\\\\n",
       "\\end{tabular}\n"
      ],
      "text/markdown": [
       "\n",
       "A grouped_df: 4 × 5\n",
       "\n",
       "| race &lt;fct&gt; | ESI &lt;int&gt; | n &lt;int&gt; | ntotal &lt;int&gt; | group_percentage &lt;dbl&gt; |\n",
       "|---|---|---|---|---|\n",
       "| Asian | 5 | 2 |  6655 | 0.03 |\n",
       "| Black | 5 | 3 |  3104 | 0.10 |\n",
       "| Other | 5 | 4 | 10170 | 0.04 |\n",
       "| White | 5 | 7 | 22580 | 0.03 |\n",
       "\n"
      ],
      "text/plain": [
       "  race  ESI n ntotal group_percentage\n",
       "1 Asian 5   2  6655  0.03            \n",
       "2 Black 5   3  3104  0.10            \n",
       "3 Other 5   4 10170  0.04            \n",
       "4 White 5   7 22580  0.03            "
      ]
     },
     "metadata": {},
     "output_type": "display_data"
    }
   ],
   "source": [
    "color_table <- tibble(\n",
    "  race = c(\"Asian\", \"Black\", \"Native American\", \"Other\", \"Pacific Islander\", \"Unknown\", \"White\"),\n",
    "  color = c(\"tan\", \"grey30\", \"salmon4\", \"magenta3\", \"tan3\", \"limegreen\", \"moccasin\")\n",
    "  )\n",
    "color_table5 <- tibble(\n",
    "  race = c(\"Asian\", \"Black\", \"Other\", \"White\"),\n",
    "  color = c(\"tan\", \"grey30\", \"magenta3\", \"moccasin\")\n",
    "  )\n",
    "\n",
    "race_esi1 <- race_esi %>% filter(ESI==1)\n",
    "race_esi23 <- race_esi %>% filter(ESI==2 | ESI==3)\n",
    "race_esi4 <- race_esi %>% filter(ESI==4)\n",
    "race_esi5 <- race_esi %>% filter(ESI==5)\n",
    "\n",
    "race_esi5"
   ]
  },
  {
   "cell_type": "code",
   "execution_count": 123,
   "metadata": {},
   "outputs": [
    {
     "data": {
      "image/png": "[encoded data removed]",
      "text/plain": [
       "plot without title"
      ]
     },
     "metadata": {
      "image/png": {
       "height": 420,
       "width": 720
      }
     },
     "output_type": "display_data"
    }
   ],
   "source": [
    "options(repr.plot.width=12, repr.plot.height=7)\n",
    "\n",
    "p1 <- ggplot(race_esi1, aes(fill=race, y=group_percentage, x=race)) + \n",
    "    geom_bar(position=\"dodge\", stat=\"identity\") + scale_fill_manual(values = color_table$color) +\n",
    "    geom_text(aes(label=n), position=position_dodge(width=1), vjust=-0.5)\n",
    "\n",
    "p23 <- ggplot(race_esi23, aes(fill=race, y=group_percentage, x=ESI)) + \n",
    "    geom_bar(position=\"dodge\", stat=\"identity\") + scale_fill_manual(values = color_table$color) #+\n",
    "#     geom_text(aes(label=n), position=position_dodge(width=1), vjust=0, angle=90)\n",
    "\n",
    "grid.arrange(p1, p23, ncol=2)\n",
    "ggsave(file.path(resultdir,\"Fig_ESI123.png\"), width = 10, height = 7, dpi = 1200) "
   ]
  },
  {
   "cell_type": "code",
   "execution_count": 124,
   "metadata": {},
   "outputs": [
    {
     "data": {
      "image/png": "[encoded data removed]",
      "text/plain": [
       "plot without title"
      ]
     },
     "metadata": {
      "image/png": {
       "height": 420,
       "width": 720
      }
     },
     "output_type": "display_data"
    }
   ],
   "source": [
    "p4 <- ggplot(race_esi4, aes(fill=race, y=group_percentage, x=race)) + \n",
    "    geom_bar(position=\"dodge\", stat=\"identity\") + scale_fill_manual(values = color_table$color) +\n",
    "    geom_text(aes(label=n), position=position_dodge(width=1), vjust=-0.5)\n",
    "\n",
    "p5 <- ggplot(race_esi5, aes(fill=race, y=group_percentage, x=race)) + \n",
    "    geom_bar(position=\"dodge\", stat=\"identity\") + scale_fill_manual(values = color_table5$color) +\n",
    "    geom_text(aes(label=n), position=position_dodge(width=1), vjust=-0.5)\n",
    "\n",
    "grid.arrange(p4, p5, ncol=2)\n",
    "# plotlist <- list(p4, p5)\n",
    "# plot_grid(plotlist=plotlist)\n",
    "ggsave(file.path(resultdir,\"Fig_ESI45.png\"), width = 10, height = 7, dpi = 1200) "
   ]
  },
  {
   "cell_type": "markdown",
   "metadata": {},
   "source": [
    "### density plot of predicted probabilities\n"
   ]
  },
  {
   "cell_type": "code",
   "execution_count": 134,
   "metadata": {},
   "outputs": [
    {
     "data": {
      "text/html": [
       "12418"
      ],
      "text/latex": [
       "12418"
      ],
      "text/markdown": [
       "12418"
      ],
      "text/plain": [
       "[1] 12418"
      ]
     },
     "metadata": {},
     "output_type": "display_data"
    }
   ],
   "source": [
    "coh_test <- read.csv(file.path(modeldir4, \"1_4_cohort_test_results.csv\")) %>% \n",
    "                select(pat_enc_csn_id_coded, death_24hr_max_label, death_24hr_recent_label, pred_death_24hr_max, pred_death_24hr_recent)\n",
    "nrow(coh_test)\n",
    "\n",
    "# preds_max <- coh_test %>% select(outcome = death_24hr_max_label, prediction = pred_death_24hr_max)\n",
    "# preds_24hr <- coh_test %>% select(outcome = death_24hr_recent_label, prediction = pred_death_24hr_recent)"
   ]
  },
  {
   "cell_type": "code",
   "execution_count": 135,
   "metadata": {},
   "outputs": [],
   "source": [
    "### Plot function, using data0\n",
    "plotfxn <- function(X, Xlab, Fill, data){\n",
    "#     p0 <- data %>% ggplot(aes(x=X)) + geom_density() + facet_wrap(~race_recoded) # unable to use Fill here\n",
    "    p1 <- data %>% ggplot(aes(x=X, fill=Fill)) +\n",
    "        geom_density(alpha=0.3, position = 'identity') + # color=\"#e9ecef\", \n",
    "        labs(fill=\"\") + xlab(Xlab) \n",
    "\n",
    "    p2 <- p1 + theme(axis.text=element_text(size=14),\n",
    "             axis.title=element_text(size=16), legend.key.size = unit(1, \"cm\"))#, face=\"bold\"\n",
    "#     return(list(p0, p2))\n",
    "    return(p2)\n",
    "}"
   ]
  },
  {
   "cell_type": "code",
   "execution_count": 142,
   "metadata": {},
   "outputs": [
    {
     "data": {
      "image/png": "[encoded data removed]",
      "text/plain": [
       "plot without title"
      ]
     },
     "metadata": {
      "image/png": {
       "height": 420,
       "width": 840
      }
     },
     "output_type": "display_data"
    }
   ],
   "source": [
    "options(repr.plot.width=14, repr.plot.height=7)\n",
    "\n",
    "pmax <- plotfxn(X=coh_test$pred_death_24hr_max, Xlab=\"Predicted Probability\", Fill=factor(coh_test$death_24hr_max_label), coh_test)\n",
    "p24 <- plotfxn(X=coh_test$pred_death_24hr_recent, Xlab=\"Predicted Probability\", Fill=factor(coh_test$death_24hr_recent_label), coh_test)\n",
    "\n",
    "grid.arrange(pmax, p24, ncol=2)\n",
    "ggsave(file.path(resultdir,\"Fig_pred_dens.png\"), width = 14, height = 7, dpi = 1200) "
   ]
  }
 ],
 "metadata": {
  "kernelspec": {
   "display_name": "R",
   "language": "R",
   "name": "ir"
  },
  "language_info": {
   "codemirror_mode": "r",
   "file_extension": ".r",
   "mimetype": "text/x-r-source",
   "name": "R",
   "pygments_lexer": "r",
   "version": "4.0.3"
  }
 },
 "nbformat": 4,
 "nbformat_minor": 4
}
