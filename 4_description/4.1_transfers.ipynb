{
 "cells": [
  {
   "cell_type": "markdown",
   "metadata": {},
   "source": [
    "## Descriptions:\n",
    "- Query other tables on shc\n",
    "- Some bigger queries cannot be done in this notebook. use separate SQL file in python instead\n",
    "- Check the characteristics of the transfer cohort, compared to the full cohort\n",
    "\n",
    "**Inputs**:  \n",
    "- `1_4_cohort_diff_full_features`: contains cohort with most difference pdiff >= 0.3\n",
    "    - 24hrpreadmit: 324 total\n",
    "    - all: 318 total\n",
    "    \n",
    "**Outputs**: \n"
   ]
  },
  {
   "cell_type": "raw",
   "metadata": {},
   "source": [
    "install.packages('bigrquery')\n",
    "# Installing package into 'C:/Users/User/Documents/R/win-library/4.0'\n",
    "# (as 'lib' is unspecified)\n",
    "# The downloaded binary packages are in\n",
    "# \tC:\\Users\\User\\AppData\\Local\\Temp\\RtmpaumGcc\\downloaded_packages"
   ]
  },
  {
   "cell_type": "markdown",
   "metadata": {},
   "source": [
    "### Importing R libraries"
   ]
  },
  {
   "cell_type": "code",
   "execution_count": 1,
   "metadata": {
    "ExecuteTime": {
     "end_time": "2020-05-21T00:38:06.078240Z",
     "start_time": "2020-05-21T00:38:02.778Z"
    }
   },
   "outputs": [
    {
     "name": "stderr",
     "output_type": "stream",
     "text": [
      "Warning message:\n",
      "\"package 'bigrquery' was built under R version 4.0.5\"\n",
      "-- \u001b[1mAttaching packages\u001b[22m --------------------------------------- tidyverse 1.3.0 --\n",
      "\n",
      "\u001b[32mv\u001b[39m \u001b[34mggplot2\u001b[39m 3.3.2     \u001b[32mv\u001b[39m \u001b[34mpurrr  \u001b[39m 0.3.4\n",
      "\u001b[32mv\u001b[39m \u001b[34mtibble \u001b[39m 3.0.4     \u001b[32mv\u001b[39m \u001b[34mdplyr  \u001b[39m 1.0.2\n",
      "\u001b[32mv\u001b[39m \u001b[34mtidyr  \u001b[39m 1.1.2     \u001b[32mv\u001b[39m \u001b[34mstringr\u001b[39m 1.4.0\n",
      "\u001b[32mv\u001b[39m \u001b[34mreadr  \u001b[39m 1.4.0     \u001b[32mv\u001b[39m \u001b[34mforcats\u001b[39m 0.5.0\n",
      "\n",
      "-- \u001b[1mConflicts\u001b[22m ------------------------------------------ tidyverse_conflicts() --\n",
      "\u001b[31mx\u001b[39m \u001b[34mdplyr\u001b[39m::\u001b[32mfilter()\u001b[39m masks \u001b[34mstats\u001b[39m::filter()\n",
      "\u001b[31mx\u001b[39m \u001b[34mdplyr\u001b[39m::\u001b[32mlag()\u001b[39m    masks \u001b[34mstats\u001b[39m::lag()\n",
      "\n",
      "\n",
      "Attaching package: 'lubridate'\n",
      "\n",
      "\n",
      "The following objects are masked from 'package:base':\n",
      "\n",
      "    date, intersect, setdiff, union\n",
      "\n",
      "\n"
     ]
    }
   ],
   "source": [
    "library(bigrquery)  # to query STARR-OMOP (stored in BigQuery) using SQL\n",
    "library(tidyverse)\n",
    "library(lubridate)\n",
    "\n",
    "# options(repr.matrix.max.rows=250, repr.matrix.max.cols=30)"
   ]
  },
  {
   "cell_type": "markdown",
   "metadata": {},
   "source": [
    "### Set up and run queries"
   ]
  },
  {
   "cell_type": "code",
   "execution_count": 2,
   "metadata": {},
   "outputs": [
    {
     "data": {
      "text/plain": [
       "NULL"
      ]
     },
     "metadata": {},
     "output_type": "display_data"
    }
   ],
   "source": [
    "# CREDENTIALS depending on LOCATIONS:\n",
    "# credential <- paste0(\"/home/\", \"minh084\", \"/.config/gcloud/application_default_credentials.json\")\n",
    "\n",
    "# local computer\n",
    "credential <- \"C:/Users/User/AppData/Roaming/gcloud/application_default_credentials.json\"\n",
    "\n",
    "# Nero onprem\n",
    "# credential <- \"/home/minh084/.config/gcloud/application_default_credentials.json\"\n",
    "\n",
    "# Nero gcp notebook\n",
    "# credential <- \"/home/jupyter/.config/gcloud/application_default_credentials.json\"\n",
    "\n",
    "project_id <- \"som-nero-phi-jonc101\"\n",
    "\n",
    "Sys.setenv(GOOGLE_APPLICATION_CREDENTIALS = credential)\n",
    "Sys.setenv(GCLOUD_PROJECT = project_id)\n",
    "gargle::credentials_app_default()"
   ]
  },
  {
   "cell_type": "code",
   "execution_count": 3,
   "metadata": {},
   "outputs": [
    {
     "data": {
      "text/plain": [
       "<BigQueryConnection>\n",
       "  Dataset: som-nero-phi-jonc101.shc_core\n",
       "  Billing: som-nero-phi-jonc101"
      ]
     },
     "metadata": {},
     "output_type": "display_data"
    },
    {
     "data": {
      "text/html": [
       "<style>\n",
       ".list-inline {list-style: none; margin:0; padding: 0}\n",
       ".list-inline>li {display: inline-block}\n",
       ".list-inline>li:not(:last-child)::after {content: \"\\00b7\"; padding: 0 .5ex}\n",
       "</style>\n",
       "<ol class=list-inline><li>'adt'</li><li>'allergy'</li><li>'culture_sensitivity'</li><li>'demographic'</li><li>'dep_map'</li><li>'diagnosis_code'</li><li>'drg_code'</li><li>'encounter'</li><li>'family_hx'</li><li>'flowsheet'</li><li>'lab_result'</li><li>'lda'</li><li>'mapped_meds'</li><li>'mar'</li><li>'med_orderset'</li><li>'ndc_code'</li><li>'order_med'</li><li>'order_proc'</li><li>'order_quest'</li><li>'proc_note'</li><li>'proc_orderset'</li><li>'procedure_code'</li><li>'prov_map'</li><li>'social_hx'</li><li>'treatment_team'</li></ol>\n"
      ],
      "text/latex": [
       "\\begin{enumerate*}\n",
       "\\item 'adt'\n",
       "\\item 'allergy'\n",
       "\\item 'culture\\_sensitivity'\n",
       "\\item 'demographic'\n",
       "\\item 'dep\\_map'\n",
       "\\item 'diagnosis\\_code'\n",
       "\\item 'drg\\_code'\n",
       "\\item 'encounter'\n",
       "\\item 'family\\_hx'\n",
       "\\item 'flowsheet'\n",
       "\\item 'lab\\_result'\n",
       "\\item 'lda'\n",
       "\\item 'mapped\\_meds'\n",
       "\\item 'mar'\n",
       "\\item 'med\\_orderset'\n",
       "\\item 'ndc\\_code'\n",
       "\\item 'order\\_med'\n",
       "\\item 'order\\_proc'\n",
       "\\item 'order\\_quest'\n",
       "\\item 'proc\\_note'\n",
       "\\item 'proc\\_orderset'\n",
       "\\item 'procedure\\_code'\n",
       "\\item 'prov\\_map'\n",
       "\\item 'social\\_hx'\n",
       "\\item 'treatment\\_team'\n",
       "\\end{enumerate*}\n"
      ],
      "text/markdown": [
       "1. 'adt'\n",
       "2. 'allergy'\n",
       "3. 'culture_sensitivity'\n",
       "4. 'demographic'\n",
       "5. 'dep_map'\n",
       "6. 'diagnosis_code'\n",
       "7. 'drg_code'\n",
       "8. 'encounter'\n",
       "9. 'family_hx'\n",
       "10. 'flowsheet'\n",
       "11. 'lab_result'\n",
       "12. 'lda'\n",
       "13. 'mapped_meds'\n",
       "14. 'mar'\n",
       "15. 'med_orderset'\n",
       "16. 'ndc_code'\n",
       "17. 'order_med'\n",
       "18. 'order_proc'\n",
       "19. 'order_quest'\n",
       "20. 'proc_note'\n",
       "21. 'proc_orderset'\n",
       "22. 'procedure_code'\n",
       "23. 'prov_map'\n",
       "24. 'social_hx'\n",
       "25. 'treatment_team'\n",
       "\n",
       "\n"
      ],
      "text/plain": [
       " [1] \"adt\"                 \"allergy\"             \"culture_sensitivity\"\n",
       " [4] \"demographic\"         \"dep_map\"             \"diagnosis_code\"     \n",
       " [7] \"drg_code\"            \"encounter\"           \"family_hx\"          \n",
       "[10] \"flowsheet\"           \"lab_result\"          \"lda\"                \n",
       "[13] \"mapped_meds\"         \"mar\"                 \"med_orderset\"       \n",
       "[16] \"ndc_code\"            \"order_med\"           \"order_proc\"         \n",
       "[19] \"order_quest\"         \"proc_note\"           \"proc_orderset\"      \n",
       "[22] \"procedure_code\"      \"prov_map\"            \"social_hx\"          \n",
       "[25] \"treatment_team\"     "
      ]
     },
     "metadata": {},
     "output_type": "display_data"
    }
   ],
   "source": [
    "library(DBI)\n",
    "con <- dbConnect(\n",
    "  bigrquery::bigquery(),\n",
    "  project = project_id,\n",
    "  dataset = \"shc_core\" #, billing = project_id\n",
    ")\n",
    "con \n",
    "dbListTables(con)"
   ]
  },
  {
   "cell_type": "code",
   "execution_count": 4,
   "metadata": {},
   "outputs": [],
   "source": [
    "# directories\n",
    "datadir = \"../../DataTD\"\n",
    "cohortdir = \"../../OutputTD/1_cohort\"\n",
    "featuredir = \"../../OutputTD/2_features\"\n",
    "modeldir4 = \"../../OutputTD/3_models/1_4_cohort\"\n",
    "modeldir4preadmit = \"../../OutputTD/3_models/1_4_cohort_24hrpreadmit\"\n",
    "\n",
    "options(repr.matrix.max.rows=200, repr.matrix.max.cols=30)"
   ]
  },
  {
   "cell_type": "code",
   "execution_count": 5,
   "metadata": {},
   "outputs": [
    {
     "data": {
      "text/html": [
       "1120"
      ],
      "text/latex": [
       "1120"
      ],
      "text/markdown": [
       "1120"
      ],
      "text/plain": [
       "[1] 1120"
      ]
     },
     "metadata": {},
     "output_type": "display_data"
    },
    {
     "data": {
      "text/html": [
       "1085"
      ],
      "text/latex": [
       "1085"
      ],
      "text/markdown": [
       "1085"
      ],
      "text/plain": [
       "[1] 1085"
      ]
     },
     "metadata": {},
     "output_type": "display_data"
    },
    {
     "data": {
      "text/html": [
       "1120"
      ],
      "text/latex": [
       "1120"
      ],
      "text/markdown": [
       "1120"
      ],
      "text/plain": [
       "[1] 1120"
      ]
     },
     "metadata": {},
     "output_type": "display_data"
    }
   ],
   "source": [
    "cohort <- read.csv(file.path(cohortdir, \"1_4_cohort.csv\")) %>% filter(first_label != death_24hr_max_label)\n",
    "\n",
    "nrow(cohort) # 1120\n",
    "nrow(cohort %>% select(anon_id) %>% distinct()) # 1085\n",
    "nrow(cohort %>% select(pat_enc_csn_id_coded) %>% distinct()) # 1123"
   ]
  },
  {
   "cell_type": "code",
   "execution_count": 6,
   "metadata": {},
   "outputs": [
    {
     "data": {
      "text/html": [
       "<table class=\"dataframe\">\n",
       "<caption>A data.frame: 1 × 17</caption>\n",
       "<thead>\n",
       "\t<tr><th></th><th scope=col>anon_id</th><th scope=col>pat_enc_csn_id_coded</th><th scope=col>inpatient_data_id_coded</th><th scope=col>admit_time</th><th scope=col>label_max24</th><th scope=col>label_24hr_recent</th><th scope=col>admit_label</th><th scope=col>has_admit_label</th><th scope=col>died_within_24hrs</th><th scope=col>death_24hr_max_label</th><th scope=col>death_24hr_recent_label</th><th scope=col>first_label</th><th scope=col>first_label_minutes_since_admit</th><th scope=col>acute_to_critical_label_recent</th><th scope=col>critical_to_acute_label_recent</th><th scope=col>acute_to_critical_label_max</th><th scope=col>critical_to_acute_label_max</th></tr>\n",
       "\t<tr><th></th><th scope=col>&lt;chr&gt;</th><th scope=col>&lt;dbl&gt;</th><th scope=col>&lt;int&gt;</th><th scope=col>&lt;chr&gt;</th><th scope=col>&lt;int&gt;</th><th scope=col>&lt;int&gt;</th><th scope=col>&lt;int&gt;</th><th scope=col>&lt;int&gt;</th><th scope=col>&lt;int&gt;</th><th scope=col>&lt;int&gt;</th><th scope=col>&lt;int&gt;</th><th scope=col>&lt;int&gt;</th><th scope=col>&lt;dbl&gt;</th><th scope=col>&lt;int&gt;</th><th scope=col>&lt;int&gt;</th><th scope=col>&lt;int&gt;</th><th scope=col>&lt;int&gt;</th></tr>\n",
       "</thead>\n",
       "<tbody>\n",
       "\t<tr><th scope=row>1</th><td>JCdf010a</td><td>131282861801</td><td>45762025</td><td>2020-03-04 03:38:00+00:00</td><td>1</td><td>1</td><td>0</td><td>1</td><td>0</td><td>1</td><td>1</td><td>0</td><td>0</td><td>1</td><td>0</td><td>1</td><td>0</td></tr>\n",
       "</tbody>\n",
       "</table>\n"
      ],
      "text/latex": [
       "A data.frame: 1 × 17\n",
       "\\begin{tabular}{r|lllllllllllllllll}\n",
       "  & anon\\_id & pat\\_enc\\_csn\\_id\\_coded & inpatient\\_data\\_id\\_coded & admit\\_time & label\\_max24 & label\\_24hr\\_recent & admit\\_label & has\\_admit\\_label & died\\_within\\_24hrs & death\\_24hr\\_max\\_label & death\\_24hr\\_recent\\_label & first\\_label & first\\_label\\_minutes\\_since\\_admit & acute\\_to\\_critical\\_label\\_recent & critical\\_to\\_acute\\_label\\_recent & acute\\_to\\_critical\\_label\\_max & critical\\_to\\_acute\\_label\\_max\\\\\n",
       "  & <chr> & <dbl> & <int> & <chr> & <int> & <int> & <int> & <int> & <int> & <int> & <int> & <int> & <dbl> & <int> & <int> & <int> & <int>\\\\\n",
       "\\hline\n",
       "\t1 & JCdf010a & 131282861801 & 45762025 & 2020-03-04 03:38:00+00:00 & 1 & 1 & 0 & 1 & 0 & 1 & 1 & 0 & 0 & 1 & 0 & 1 & 0\\\\\n",
       "\\end{tabular}\n"
      ],
      "text/markdown": [
       "\n",
       "A data.frame: 1 × 17\n",
       "\n",
       "| <!--/--> | anon_id &lt;chr&gt; | pat_enc_csn_id_coded &lt;dbl&gt; | inpatient_data_id_coded &lt;int&gt; | admit_time &lt;chr&gt; | label_max24 &lt;int&gt; | label_24hr_recent &lt;int&gt; | admit_label &lt;int&gt; | has_admit_label &lt;int&gt; | died_within_24hrs &lt;int&gt; | death_24hr_max_label &lt;int&gt; | death_24hr_recent_label &lt;int&gt; | first_label &lt;int&gt; | first_label_minutes_since_admit &lt;dbl&gt; | acute_to_critical_label_recent &lt;int&gt; | critical_to_acute_label_recent &lt;int&gt; | acute_to_critical_label_max &lt;int&gt; | critical_to_acute_label_max &lt;int&gt; |\n",
       "|---|---|---|---|---|---|---|---|---|---|---|---|---|---|---|---|---|---|\n",
       "| 1 | JCdf010a | 131282861801 | 45762025 | 2020-03-04 03:38:00+00:00 | 1 | 1 | 0 | 1 | 0 | 1 | 1 | 0 | 0 | 1 | 0 | 1 | 0 |\n",
       "\n"
      ],
      "text/plain": [
       "  anon_id  pat_enc_csn_id_coded inpatient_data_id_coded\n",
       "1 JCdf010a 131282861801         45762025               \n",
       "  admit_time                label_max24 label_24hr_recent admit_label\n",
       "1 2020-03-04 03:38:00+00:00 1           1                 0          \n",
       "  has_admit_label died_within_24hrs death_24hr_max_label\n",
       "1 1               0                 1                   \n",
       "  death_24hr_recent_label first_label first_label_minutes_since_admit\n",
       "1 1                       0           0                              \n",
       "  acute_to_critical_label_recent critical_to_acute_label_recent\n",
       "1 1                              0                             \n",
       "  acute_to_critical_label_max critical_to_acute_label_max\n",
       "1 1                           0                          "
      ]
     },
     "metadata": {},
     "output_type": "display_data"
    },
    {
     "data": {
      "text/html": [
       "<style>\n",
       ".list-inline {list-style: none; margin:0; padding: 0}\n",
       ".list-inline>li {display: inline-block}\n",
       ".list-inline>li:not(:last-child)::after {content: \"\\00b7\"; padding: 0 .5ex}\n",
       "</style>\n",
       "<ol class=list-inline><li>'anon_id'</li><li>'pat_enc_csn_id_coded'</li><li>'inpatient_data_id_coded'</li><li>'admit_time'</li><li>'label_max24'</li><li>'label_24hr_recent'</li><li>'admit_label'</li><li>'has_admit_label'</li><li>'died_within_24hrs'</li><li>'death_24hr_max_label'</li><li>'death_24hr_recent_label'</li><li>'first_label'</li><li>'first_label_minutes_since_admit'</li><li>'acute_to_critical_label_recent'</li><li>'critical_to_acute_label_recent'</li><li>'acute_to_critical_label_max'</li><li>'critical_to_acute_label_max'</li></ol>\n"
      ],
      "text/latex": [
       "\\begin{enumerate*}\n",
       "\\item 'anon\\_id'\n",
       "\\item 'pat\\_enc\\_csn\\_id\\_coded'\n",
       "\\item 'inpatient\\_data\\_id\\_coded'\n",
       "\\item 'admit\\_time'\n",
       "\\item 'label\\_max24'\n",
       "\\item 'label\\_24hr\\_recent'\n",
       "\\item 'admit\\_label'\n",
       "\\item 'has\\_admit\\_label'\n",
       "\\item 'died\\_within\\_24hrs'\n",
       "\\item 'death\\_24hr\\_max\\_label'\n",
       "\\item 'death\\_24hr\\_recent\\_label'\n",
       "\\item 'first\\_label'\n",
       "\\item 'first\\_label\\_minutes\\_since\\_admit'\n",
       "\\item 'acute\\_to\\_critical\\_label\\_recent'\n",
       "\\item 'critical\\_to\\_acute\\_label\\_recent'\n",
       "\\item 'acute\\_to\\_critical\\_label\\_max'\n",
       "\\item 'critical\\_to\\_acute\\_label\\_max'\n",
       "\\end{enumerate*}\n"
      ],
      "text/markdown": [
       "1. 'anon_id'\n",
       "2. 'pat_enc_csn_id_coded'\n",
       "3. 'inpatient_data_id_coded'\n",
       "4. 'admit_time'\n",
       "5. 'label_max24'\n",
       "6. 'label_24hr_recent'\n",
       "7. 'admit_label'\n",
       "8. 'has_admit_label'\n",
       "9. 'died_within_24hrs'\n",
       "10. 'death_24hr_max_label'\n",
       "11. 'death_24hr_recent_label'\n",
       "12. 'first_label'\n",
       "13. 'first_label_minutes_since_admit'\n",
       "14. 'acute_to_critical_label_recent'\n",
       "15. 'critical_to_acute_label_recent'\n",
       "16. 'acute_to_critical_label_max'\n",
       "17. 'critical_to_acute_label_max'\n",
       "\n",
       "\n"
      ],
      "text/plain": [
       " [1] \"anon_id\"                         \"pat_enc_csn_id_coded\"           \n",
       " [3] \"inpatient_data_id_coded\"         \"admit_time\"                     \n",
       " [5] \"label_max24\"                     \"label_24hr_recent\"              \n",
       " [7] \"admit_label\"                     \"has_admit_label\"                \n",
       " [9] \"died_within_24hrs\"               \"death_24hr_max_label\"           \n",
       "[11] \"death_24hr_recent_label\"         \"first_label\"                    \n",
       "[13] \"first_label_minutes_since_admit\" \"acute_to_critical_label_recent\" \n",
       "[15] \"critical_to_acute_label_recent\"  \"acute_to_critical_label_max\"    \n",
       "[17] \"critical_to_acute_label_max\"    "
      ]
     },
     "metadata": {},
     "output_type": "display_data"
    }
   ],
   "source": [
    "head(cohort, 1)\n",
    "colnames(cohort)"
   ]
  },
  {
   "cell_type": "markdown",
   "metadata": {},
   "source": [
    "### ADT table"
   ]
  },
  {
   "cell_type": "raw",
   "metadata": {},
   "source": [
    "q = \"\n",
    "SELECT c.anon_id, c.pat_enc_csn_id_coded, c.admit_time, c.first_label, c.death_24hr_recent_label, c.death_24hr_max_label,\n",
    "    adt.event_type_c, adt.event_type, adt.pat_class_c, adt.pat_class, adt.base_pat_class_c, adt.base_pat_class,\n",
    "    adt.pat_service_c, adt.pat_service, adt.pat_lvl_of_care_c, adt.pat_lv_of_care, adt.accommodation_c, adt.accomodation, \n",
    "    adt.in_event_type_c, adt.in_event_type, adt.out_event_type_c, adt.out_event_type, adt.from_base_class_c, adt.from_base_class,\n",
    "    adt.to_base_class_c, adt.to_base_class, adt.seq_num_in_enc, adt.seq_num_in_bed_min\n",
    "FROM \n",
    "    `som-nero-phi-jonc101.triageTD.1_4_cohort` as c\n",
    "JOIN \n",
    "    `som-nero-phi-jonc101.shc_core.adt` as adt\n",
    "ON \n",
    "    (c.anon_id = adt.anon_id and c.pat_enc_csn_id_coded = adt.pat_enc_csn_id_coded)\n",
    "WHERE\n",
    "    c.first_label != c.death_24hr_recent_label\n",
    "\"\n",
    "# submit the query:\n",
    "update.packages('Rcpp')\n",
    "df <- dbGetQuery(con, q)\n",
    "dim(df)\n",
    "colnames(df)"
   ]
  },
  {
   "cell_type": "raw",
   "metadata": {},
   "source": [
    "write.csv(df, file.path(datadir, \"4_1_tx_adt.csv\"), row.names=FALSE)"
   ]
  },
  {
   "cell_type": "code",
   "execution_count": 25,
   "metadata": {},
   "outputs": [
    {
     "name": "stderr",
     "output_type": "stream",
     "text": [
      "Warning message in as.integer.integer64(x):\n",
      "“NAs produced by integer overflow”\n"
     ]
    },
    {
     "data": {
      "text/html": [
       "<style>\n",
       ".list-inline {list-style: none; margin:0; padding: 0}\n",
       ".list-inline>li {display: inline-block}\n",
       ".list-inline>li:not(:last-child)::after {content: \"\\00b7\"; padding: 0 .5ex}\n",
       "</style>\n",
       "<ol class=list-inline><li>43980</li><li>6</li></ol>\n"
      ],
      "text/latex": [
       "\\begin{enumerate*}\n",
       "\\item 43980\n",
       "\\item 6\n",
       "\\end{enumerate*}\n"
      ],
      "text/markdown": [
       "1. 43980\n",
       "2. 6\n",
       "\n",
       "\n"
      ],
      "text/plain": [
       "[1] 43980     6"
      ]
     },
     "metadata": {},
     "output_type": "display_data"
    },
    {
     "data": {
      "text/html": [
       "<style>\n",
       ".list-inline {list-style: none; margin:0; padding: 0}\n",
       ".list-inline>li {display: inline-block}\n",
       ".list-inline>li:not(:last-child)::after {content: \"\\00b7\"; padding: 0 .5ex}\n",
       "</style>\n",
       "<ol class=list-inline><li>'anon_id'</li><li>'pat_enc_csn_id_coded'</li><li>'INTRPTR_NEEDED_YN'</li><li>'CHARLSON_SCORE'</li><li>'N_HOSPITALIZATIONS'</li><li>'DAYS_IN_HOSPITAL'</li></ol>\n"
      ],
      "text/latex": [
       "\\begin{enumerate*}\n",
       "\\item 'anon\\_id'\n",
       "\\item 'pat\\_enc\\_csn\\_id\\_coded'\n",
       "\\item 'INTRPTR\\_NEEDED\\_YN'\n",
       "\\item 'CHARLSON\\_SCORE'\n",
       "\\item 'N\\_HOSPITALIZATIONS'\n",
       "\\item 'DAYS\\_IN\\_HOSPITAL'\n",
       "\\end{enumerate*}\n"
      ],
      "text/markdown": [
       "1. 'anon_id'\n",
       "2. 'pat_enc_csn_id_coded'\n",
       "3. 'INTRPTR_NEEDED_YN'\n",
       "4. 'CHARLSON_SCORE'\n",
       "5. 'N_HOSPITALIZATIONS'\n",
       "6. 'DAYS_IN_HOSPITAL'\n",
       "\n",
       "\n"
      ],
      "text/plain": [
       "[1] \"anon_id\"              \"pat_enc_csn_id_coded\" \"INTRPTR_NEEDED_YN\"   \n",
       "[4] \"CHARLSON_SCORE\"       \"N_HOSPITALIZATIONS\"   \"DAYS_IN_HOSPITAL\"    "
      ]
     },
     "metadata": {},
     "output_type": "display_data"
    }
   ],
   "source": [
    "# full cohort\n",
    "q = \"\n",
    "SELECT distinct c.anon_id, c.pat_enc_csn_id_coded, \n",
    "    x.INTRPTR_NEEDED_YN, x.CHARLSON_SCORE, x.N_HOSPITALIZATIONS, x.DAYS_IN_HOSPITAL\n",
    "FROM \n",
    "    `som-nero-phi-jonc101.triageTD.1_4_cohort` as c\n",
    "JOIN \n",
    "    `som-nero-phi-jonc101.shc_core.demographic` as x\n",
    "ON \n",
    "    (c.anon_id = x.anon_id)\n",
    "\"\n",
    "# submit the query:\n",
    "update.packages('Rcpp')\n",
    "x1 <- dbGetQuery(con, q)\n",
    "dim(x1)\n",
    "colnames(x1)"
   ]
  },
  {
   "cell_type": "code",
   "execution_count": 26,
   "metadata": {},
   "outputs": [
    {
     "data": {
      "text/html": [
       "<table class=\"dataframe\">\n",
       "<caption>A tibble: 3 × 3</caption>\n",
       "<thead>\n",
       "\t<tr><th scope=col>INTRPTR_NEEDED_YN</th><th scope=col>n</th><th scope=col>perc</th></tr>\n",
       "\t<tr><th scope=col>&lt;lgl&gt;</th><th scope=col>&lt;int&gt;</th><th scope=col>&lt;dbl&gt;</th></tr>\n",
       "</thead>\n",
       "<tbody>\n",
       "\t<tr><td>FALSE</td><td>37817</td><td>85.98681219</td></tr>\n",
       "\t<tr><td> TRUE</td><td> 6121</td><td>13.91768986</td></tr>\n",
       "\t<tr><td>   NA</td><td>   42</td><td> 0.09549795</td></tr>\n",
       "</tbody>\n",
       "</table>\n"
      ],
      "text/latex": [
       "A tibble: 3 × 3\n",
       "\\begin{tabular}{lll}\n",
       " INTRPTR\\_NEEDED\\_YN & n & perc\\\\\n",
       " <lgl> & <int> & <dbl>\\\\\n",
       "\\hline\n",
       "\t FALSE & 37817 & 85.98681219\\\\\n",
       "\t  TRUE &  6121 & 13.91768986\\\\\n",
       "\t    NA &    42 &  0.09549795\\\\\n",
       "\\end{tabular}\n"
      ],
      "text/markdown": [
       "\n",
       "A tibble: 3 × 3\n",
       "\n",
       "| INTRPTR_NEEDED_YN &lt;lgl&gt; | n &lt;int&gt; | perc &lt;dbl&gt; |\n",
       "|---|---|---|\n",
       "| FALSE | 37817 | 85.98681219 |\n",
       "|  TRUE |  6121 | 13.91768986 |\n",
       "|    NA |    42 |  0.09549795 |\n",
       "\n"
      ],
      "text/plain": [
       "  INTRPTR_NEEDED_YN n     perc       \n",
       "1 FALSE             37817 85.98681219\n",
       "2  TRUE              6121 13.91768986\n",
       "3    NA                42  0.09549795"
      ]
     },
     "metadata": {},
     "output_type": "display_data"
    }
   ],
   "source": [
    "x1 %>% count(INTRPTR_NEEDED_YN) %>% mutate(perc = 100* n/nrow(x1))"
   ]
  },
  {
   "cell_type": "code",
   "execution_count": 27,
   "metadata": {},
   "outputs": [
    {
     "name": "stderr",
     "output_type": "stream",
     "text": [
      "Warning message in as.integer.integer64(x):\n",
      "“NAs produced by integer overflow”\n"
     ]
    },
    {
     "data": {
      "text/html": [
       "<style>\n",
       ".list-inline {list-style: none; margin:0; padding: 0}\n",
       ".list-inline>li {display: inline-block}\n",
       ".list-inline>li:not(:last-child)::after {content: \"\\00b7\"; padding: 0 .5ex}\n",
       "</style>\n",
       "<ol class=list-inline><li>2499</li><li>6</li></ol>\n"
      ],
      "text/latex": [
       "\\begin{enumerate*}\n",
       "\\item 2499\n",
       "\\item 6\n",
       "\\end{enumerate*}\n"
      ],
      "text/markdown": [
       "1. 2499\n",
       "2. 6\n",
       "\n",
       "\n"
      ],
      "text/plain": [
       "[1] 2499    6"
      ]
     },
     "metadata": {},
     "output_type": "display_data"
    },
    {
     "data": {
      "text/html": [
       "<style>\n",
       ".list-inline {list-style: none; margin:0; padding: 0}\n",
       ".list-inline>li {display: inline-block}\n",
       ".list-inline>li:not(:last-child)::after {content: \"\\00b7\"; padding: 0 .5ex}\n",
       "</style>\n",
       "<ol class=list-inline><li>'anon_id'</li><li>'pat_enc_csn_id_coded'</li><li>'INTRPTR_NEEDED_YN'</li><li>'CHARLSON_SCORE'</li><li>'N_HOSPITALIZATIONS'</li><li>'DAYS_IN_HOSPITAL'</li></ol>\n"
      ],
      "text/latex": [
       "\\begin{enumerate*}\n",
       "\\item 'anon\\_id'\n",
       "\\item 'pat\\_enc\\_csn\\_id\\_coded'\n",
       "\\item 'INTRPTR\\_NEEDED\\_YN'\n",
       "\\item 'CHARLSON\\_SCORE'\n",
       "\\item 'N\\_HOSPITALIZATIONS'\n",
       "\\item 'DAYS\\_IN\\_HOSPITAL'\n",
       "\\end{enumerate*}\n"
      ],
      "text/markdown": [
       "1. 'anon_id'\n",
       "2. 'pat_enc_csn_id_coded'\n",
       "3. 'INTRPTR_NEEDED_YN'\n",
       "4. 'CHARLSON_SCORE'\n",
       "5. 'N_HOSPITALIZATIONS'\n",
       "6. 'DAYS_IN_HOSPITAL'\n",
       "\n",
       "\n"
      ],
      "text/plain": [
       "[1] \"anon_id\"              \"pat_enc_csn_id_coded\" \"INTRPTR_NEEDED_YN\"   \n",
       "[4] \"CHARLSON_SCORE\"       \"N_HOSPITALIZATIONS\"   \"DAYS_IN_HOSPITAL\"    "
      ]
     },
     "metadata": {},
     "output_type": "display_data"
    }
   ],
   "source": [
    "q = \"\n",
    "SELECT distinct c.anon_id, c.pat_enc_csn_id_coded, \n",
    "    x.INTRPTR_NEEDED_YN, x.CHARLSON_SCORE, x.N_HOSPITALIZATIONS, x.DAYS_IN_HOSPITAL\n",
    "FROM \n",
    "    `som-nero-phi-jonc101.triageTD.1_4_cohort` as c\n",
    "JOIN \n",
    "    `som-nero-phi-jonc101.shc_core.demographic` as x\n",
    "ON \n",
    "    (c.anon_id = x.anon_id)\n",
    "WHERE\n",
    "    c.first_label != c.death_24hr_recent_label\n",
    "\"\n",
    "# submit the query:\n",
    "update.packages('Rcpp')\n",
    "x1 <- dbGetQuery(con, q)\n",
    "dim(x1)\n",
    "colnames(x1)"
   ]
  },
  {
   "cell_type": "code",
   "execution_count": 28,
   "metadata": {},
   "outputs": [
    {
     "data": {
      "text/html": [
       "<table class=\"dataframe\">\n",
       "<caption>A tibble: 3 × 3</caption>\n",
       "<thead>\n",
       "\t<tr><th scope=col>INTRPTR_NEEDED_YN</th><th scope=col>n</th><th scope=col>perc</th></tr>\n",
       "\t<tr><th scope=col>&lt;lgl&gt;</th><th scope=col>&lt;int&gt;</th><th scope=col>&lt;dbl&gt;</th></tr>\n",
       "</thead>\n",
       "<tbody>\n",
       "\t<tr><td>FALSE</td><td>2166</td><td>86.67466987</td></tr>\n",
       "\t<tr><td> TRUE</td><td> 332</td><td>13.28531413</td></tr>\n",
       "\t<tr><td>   NA</td><td>   1</td><td> 0.04001601</td></tr>\n",
       "</tbody>\n",
       "</table>\n"
      ],
      "text/latex": [
       "A tibble: 3 × 3\n",
       "\\begin{tabular}{lll}\n",
       " INTRPTR\\_NEEDED\\_YN & n & perc\\\\\n",
       " <lgl> & <int> & <dbl>\\\\\n",
       "\\hline\n",
       "\t FALSE & 2166 & 86.67466987\\\\\n",
       "\t  TRUE &  332 & 13.28531413\\\\\n",
       "\t    NA &    1 &  0.04001601\\\\\n",
       "\\end{tabular}\n"
      ],
      "text/markdown": [
       "\n",
       "A tibble: 3 × 3\n",
       "\n",
       "| INTRPTR_NEEDED_YN &lt;lgl&gt; | n &lt;int&gt; | perc &lt;dbl&gt; |\n",
       "|---|---|---|\n",
       "| FALSE | 2166 | 86.67466987 |\n",
       "|  TRUE |  332 | 13.28531413 |\n",
       "|    NA |    1 |  0.04001601 |\n",
       "\n"
      ],
      "text/plain": [
       "  INTRPTR_NEEDED_YN n    perc       \n",
       "1 FALSE             2166 86.67466987\n",
       "2  TRUE              332 13.28531413\n",
       "3    NA                1  0.04001601"
      ]
     },
     "metadata": {},
     "output_type": "display_data"
    }
   ],
   "source": [
    "x1 %>% count(INTRPTR_NEEDED_YN) %>% mutate(perc = 100* n/nrow(x1))"
   ]
  },
  {
   "cell_type": "raw",
   "metadata": {},
   "source": [
    "write.csv(x1, file.path(datadir, \"4_1_tx_demographic.csv\"), row.names=FALSE)"
   ]
  },
  {
   "cell_type": "code",
   "execution_count": 39,
   "metadata": {},
   "outputs": [
    {
     "data": {
      "text/html": [
       "<style>\n",
       ".list-inline {list-style: none; margin:0; padding: 0}\n",
       ".list-inline>li {display: inline-block}\n",
       ".list-inline>li:not(:last-child)::after {content: \"\\00b7\"; padding: 0 .5ex}\n",
       "</style>\n",
       "<ol class=list-inline><li>47246</li><li>2</li></ol>\n"
      ],
      "text/latex": [
       "\\begin{enumerate*}\n",
       "\\item 47246\n",
       "\\item 2\n",
       "\\end{enumerate*}\n"
      ],
      "text/markdown": [
       "1. 47246\n",
       "2. 2\n",
       "\n",
       "\n"
      ],
      "text/plain": [
       "[1] 47246     2"
      ]
     },
     "metadata": {},
     "output_type": "display_data"
    },
    {
     "data": {
      "text/html": [
       "<style>\n",
       ".list-inline {list-style: none; margin:0; padding: 0}\n",
       ".list-inline>li {display: inline-block}\n",
       ".list-inline>li:not(:last-child)::after {content: \"\\00b7\"; padding: 0 .5ex}\n",
       "</style>\n",
       "<ol class=list-inline><li>'dx_name'</li><li>'n'</li></ol>\n"
      ],
      "text/latex": [
       "\\begin{enumerate*}\n",
       "\\item 'dx\\_name'\n",
       "\\item 'n'\n",
       "\\end{enumerate*}\n"
      ],
      "text/markdown": [
       "1. 'dx_name'\n",
       "2. 'n'\n",
       "\n",
       "\n"
      ],
      "text/plain": [
       "[1] \"dx_name\" \"n\"      "
      ]
     },
     "metadata": {},
     "output_type": "display_data"
    }
   ],
   "source": [
    "# full cohort\n",
    "q = \"\n",
    "SELECT x.dx_name, count(x.dx_name) AS n\n",
    "FROM \n",
    "    `som-nero-phi-jonc101.triageTD.1_4_cohort` as c\n",
    "JOIN \n",
    "    `som-nero-phi-jonc101.shc_core.diagnosis_code` as x\n",
    "ON \n",
    "    (c.anon_id = x.anon_id and c.pat_enc_csn_id_coded = x.pat_enc_csn_id_jittered)\n",
    "\n",
    "GROUP by x.dx_name\n",
    "\"\n",
    "\n",
    "# submit the query:\n",
    "update.packages('Rcpp')\n",
    "x2 <- dbGetQuery(con, q)\n",
    "dim(x2)\n",
    "colnames(x2)"
   ]
  },
  {
   "cell_type": "code",
   "execution_count": 40,
   "metadata": {},
   "outputs": [
    {
     "data": {
      "text/html": [
       "<table class=\"dataframe\">\n",
       "<caption>A tibble: 20 × 3</caption>\n",
       "<thead>\n",
       "\t<tr><th scope=col>dx_name</th><th scope=col>n</th><th scope=col>perc</th></tr>\n",
       "\t<tr><th scope=col>&lt;chr&gt;</th><th scope=col>&lt;int&gt;</th><th scope=col>&lt;dbl&gt;</th></tr>\n",
       "</thead>\n",
       "<tbody>\n",
       "\t<tr><td>Other long term (current) drug therapy                                         </td><td>12410</td><td>26.27</td></tr>\n",
       "\t<tr><td>Hyperlipidemia, unspecified                                                    </td><td>11553</td><td>24.45</td></tr>\n",
       "\t<tr><td>Essential (primary) hypertension                                               </td><td>10717</td><td>22.68</td></tr>\n",
       "\t<tr><td>Personal history of nicotine dependence                                        </td><td> 9969</td><td>21.10</td></tr>\n",
       "\t<tr><td>Shortness of breath                                                            </td><td> 8009</td><td>16.95</td></tr>\n",
       "\t<tr><td>Long term (current) use of aspirin                                             </td><td> 7188</td><td>15.21</td></tr>\n",
       "\t<tr><td>Acute kidney failure, unspecified                                              </td><td> 6823</td><td>14.44</td></tr>\n",
       "\t<tr><td>Gastro-esophageal reflux disease without esophagitis                           </td><td> 6733</td><td>14.25</td></tr>\n",
       "\t<tr><td>Major depressive disorder, single episode, unspecified                         </td><td> 6174</td><td>13.07</td></tr>\n",
       "\t<tr><td>Long term (current) use of anticoagulants                                      </td><td> 5641</td><td>11.94</td></tr>\n",
       "\t<tr><td>Nonspecific abnormal electrocardiogram (ECG) (EKG)                             </td><td> 5588</td><td>11.83</td></tr>\n",
       "\t<tr><td>Atherosclerotic heart disease of native coronary artery without angina pectoris</td><td> 5445</td><td>11.52</td></tr>\n",
       "\t<tr><td>Hypo-osmolality and hyponatremia                                               </td><td> 5293</td><td>11.20</td></tr>\n",
       "\t<tr><td>Other chronic pain                                                             </td><td> 5168</td><td>10.94</td></tr>\n",
       "\t<tr><td>Other nonspecific abnormal finding of lung field                               </td><td> 4964</td><td>10.51</td></tr>\n",
       "\t<tr><td>Fever, unspecified                                                             </td><td> 4645</td><td> 9.83</td></tr>\n",
       "\t<tr><td>Hypokalemia                                                                    </td><td> 4618</td><td> 9.77</td></tr>\n",
       "\t<tr><td>Obstructive sleep apnea (adult) (pediatric)                                    </td><td> 4591</td><td> 9.72</td></tr>\n",
       "\t<tr><td>Hypothyroidism, unspecified                                                    </td><td> 4557</td><td> 9.65</td></tr>\n",
       "\t<tr><td>Sepsis, unspecified organism                                                   </td><td> 4522</td><td> 9.57</td></tr>\n",
       "</tbody>\n",
       "</table>\n"
      ],
      "text/latex": [
       "A tibble: 20 × 3\n",
       "\\begin{tabular}{lll}\n",
       " dx\\_name & n & perc\\\\\n",
       " <chr> & <int> & <dbl>\\\\\n",
       "\\hline\n",
       "\t Other long term (current) drug therapy                                          & 12410 & 26.27\\\\\n",
       "\t Hyperlipidemia, unspecified                                                     & 11553 & 24.45\\\\\n",
       "\t Essential (primary) hypertension                                                & 10717 & 22.68\\\\\n",
       "\t Personal history of nicotine dependence                                         &  9969 & 21.10\\\\\n",
       "\t Shortness of breath                                                             &  8009 & 16.95\\\\\n",
       "\t Long term (current) use of aspirin                                              &  7188 & 15.21\\\\\n",
       "\t Acute kidney failure, unspecified                                               &  6823 & 14.44\\\\\n",
       "\t Gastro-esophageal reflux disease without esophagitis                            &  6733 & 14.25\\\\\n",
       "\t Major depressive disorder, single episode, unspecified                          &  6174 & 13.07\\\\\n",
       "\t Long term (current) use of anticoagulants                                       &  5641 & 11.94\\\\\n",
       "\t Nonspecific abnormal electrocardiogram (ECG) (EKG)                              &  5588 & 11.83\\\\\n",
       "\t Atherosclerotic heart disease of native coronary artery without angina pectoris &  5445 & 11.52\\\\\n",
       "\t Hypo-osmolality and hyponatremia                                                &  5293 & 11.20\\\\\n",
       "\t Other chronic pain                                                              &  5168 & 10.94\\\\\n",
       "\t Other nonspecific abnormal finding of lung field                                &  4964 & 10.51\\\\\n",
       "\t Fever, unspecified                                                              &  4645 &  9.83\\\\\n",
       "\t Hypokalemia                                                                     &  4618 &  9.77\\\\\n",
       "\t Obstructive sleep apnea (adult) (pediatric)                                     &  4591 &  9.72\\\\\n",
       "\t Hypothyroidism, unspecified                                                     &  4557 &  9.65\\\\\n",
       "\t Sepsis, unspecified organism                                                    &  4522 &  9.57\\\\\n",
       "\\end{tabular}\n"
      ],
      "text/markdown": [
       "\n",
       "A tibble: 20 × 3\n",
       "\n",
       "| dx_name &lt;chr&gt; | n &lt;int&gt; | perc &lt;dbl&gt; |\n",
       "|---|---|---|\n",
       "| Other long term (current) drug therapy                                          | 12410 | 26.27 |\n",
       "| Hyperlipidemia, unspecified                                                     | 11553 | 24.45 |\n",
       "| Essential (primary) hypertension                                                | 10717 | 22.68 |\n",
       "| Personal history of nicotine dependence                                         |  9969 | 21.10 |\n",
       "| Shortness of breath                                                             |  8009 | 16.95 |\n",
       "| Long term (current) use of aspirin                                              |  7188 | 15.21 |\n",
       "| Acute kidney failure, unspecified                                               |  6823 | 14.44 |\n",
       "| Gastro-esophageal reflux disease without esophagitis                            |  6733 | 14.25 |\n",
       "| Major depressive disorder, single episode, unspecified                          |  6174 | 13.07 |\n",
       "| Long term (current) use of anticoagulants                                       |  5641 | 11.94 |\n",
       "| Nonspecific abnormal electrocardiogram (ECG) (EKG)                              |  5588 | 11.83 |\n",
       "| Atherosclerotic heart disease of native coronary artery without angina pectoris |  5445 | 11.52 |\n",
       "| Hypo-osmolality and hyponatremia                                                |  5293 | 11.20 |\n",
       "| Other chronic pain                                                              |  5168 | 10.94 |\n",
       "| Other nonspecific abnormal finding of lung field                                |  4964 | 10.51 |\n",
       "| Fever, unspecified                                                              |  4645 |  9.83 |\n",
       "| Hypokalemia                                                                     |  4618 |  9.77 |\n",
       "| Obstructive sleep apnea (adult) (pediatric)                                     |  4591 |  9.72 |\n",
       "| Hypothyroidism, unspecified                                                     |  4557 |  9.65 |\n",
       "| Sepsis, unspecified organism                                                    |  4522 |  9.57 |\n",
       "\n"
      ],
      "text/plain": [
       "   dx_name                                                                        \n",
       "1  Other long term (current) drug therapy                                         \n",
       "2  Hyperlipidemia, unspecified                                                    \n",
       "3  Essential (primary) hypertension                                               \n",
       "4  Personal history of nicotine dependence                                        \n",
       "5  Shortness of breath                                                            \n",
       "6  Long term (current) use of aspirin                                             \n",
       "7  Acute kidney failure, unspecified                                              \n",
       "8  Gastro-esophageal reflux disease without esophagitis                           \n",
       "9  Major depressive disorder, single episode, unspecified                         \n",
       "10 Long term (current) use of anticoagulants                                      \n",
       "11 Nonspecific abnormal electrocardiogram (ECG) (EKG)                             \n",
       "12 Atherosclerotic heart disease of native coronary artery without angina pectoris\n",
       "13 Hypo-osmolality and hyponatremia                                               \n",
       "14 Other chronic pain                                                             \n",
       "15 Other nonspecific abnormal finding of lung field                               \n",
       "16 Fever, unspecified                                                             \n",
       "17 Hypokalemia                                                                    \n",
       "18 Obstructive sleep apnea (adult) (pediatric)                                    \n",
       "19 Hypothyroidism, unspecified                                                    \n",
       "20 Sepsis, unspecified organism                                                   \n",
       "   n     perc \n",
       "1  12410 26.27\n",
       "2  11553 24.45\n",
       "3  10717 22.68\n",
       "4   9969 21.10\n",
       "5   8009 16.95\n",
       "6   7188 15.21\n",
       "7   6823 14.44\n",
       "8   6733 14.25\n",
       "9   6174 13.07\n",
       "10  5641 11.94\n",
       "11  5588 11.83\n",
       "12  5445 11.52\n",
       "13  5293 11.20\n",
       "14  5168 10.94\n",
       "15  4964 10.51\n",
       "16  4645  9.83\n",
       "17  4618  9.77\n",
       "18  4591  9.72\n",
       "19  4557  9.65\n",
       "20  4522  9.57"
      ]
     },
     "metadata": {},
     "output_type": "display_data"
    }
   ],
   "source": [
    "x2 %>% mutate(perc = round(100*n/nrow(x2), 2)) %>% arrange(-n) %>% head(20)"
   ]
  },
  {
   "cell_type": "code",
   "execution_count": 41,
   "metadata": {},
   "outputs": [
    {
     "data": {
      "text/html": [
       "<style>\n",
       ".list-inline {list-style: none; margin:0; padding: 0}\n",
       ".list-inline>li {display: inline-block}\n",
       ".list-inline>li:not(:last-child)::after {content: \"\\00b7\"; padding: 0 .5ex}\n",
       "</style>\n",
       "<ol class=list-inline><li>11691</li><li>2</li></ol>\n"
      ],
      "text/latex": [
       "\\begin{enumerate*}\n",
       "\\item 11691\n",
       "\\item 2\n",
       "\\end{enumerate*}\n"
      ],
      "text/markdown": [
       "1. 11691\n",
       "2. 2\n",
       "\n",
       "\n"
      ],
      "text/plain": [
       "[1] 11691     2"
      ]
     },
     "metadata": {},
     "output_type": "display_data"
    },
    {
     "data": {
      "text/html": [
       "<style>\n",
       ".list-inline {list-style: none; margin:0; padding: 0}\n",
       ".list-inline>li {display: inline-block}\n",
       ".list-inline>li:not(:last-child)::after {content: \"\\00b7\"; padding: 0 .5ex}\n",
       "</style>\n",
       "<ol class=list-inline><li>'dx_name'</li><li>'n'</li></ol>\n"
      ],
      "text/latex": [
       "\\begin{enumerate*}\n",
       "\\item 'dx\\_name'\n",
       "\\item 'n'\n",
       "\\end{enumerate*}\n"
      ],
      "text/markdown": [
       "1. 'dx_name'\n",
       "2. 'n'\n",
       "\n",
       "\n"
      ],
      "text/plain": [
       "[1] \"dx_name\" \"n\"      "
      ]
     },
     "metadata": {},
     "output_type": "display_data"
    }
   ],
   "source": [
    "# transfer cohort\n",
    "q = \"\n",
    "SELECT x.dx_name, count(x.dx_name) AS n\n",
    "FROM \n",
    "    `som-nero-phi-jonc101.triageTD.1_4_cohort` as c\n",
    "JOIN \n",
    "    `som-nero-phi-jonc101.shc_core.diagnosis_code` as x\n",
    "ON \n",
    "    (c.anon_id = x.anon_id and c.pat_enc_csn_id_coded = x.pat_enc_csn_id_jittered)\n",
    "\n",
    "WHERE\n",
    "    c.first_label != c.death_24hr_recent_label\n",
    "\n",
    "GROUP by x.dx_name\n",
    "\"\n",
    "\n",
    "# submit the query:\n",
    "update.packages('Rcpp')\n",
    "x2 <- dbGetQuery(con, q)\n",
    "dim(x2)\n",
    "colnames(x2)"
   ]
  },
  {
   "cell_type": "code",
   "execution_count": 42,
   "metadata": {},
   "outputs": [
    {
     "data": {
      "text/html": [
       "<table class=\"dataframe\">\n",
       "<caption>A tibble: 20 × 3</caption>\n",
       "<thead>\n",
       "\t<tr><th scope=col>dx_name</th><th scope=col>n</th><th scope=col>perc</th></tr>\n",
       "\t<tr><th scope=col>&lt;chr&gt;</th><th scope=col>&lt;int&gt;</th><th scope=col>&lt;dbl&gt;</th></tr>\n",
       "</thead>\n",
       "<tbody>\n",
       "\t<tr><td>Hyperlipidemia, unspecified                                                    </td><td>795</td><td>6.80</td></tr>\n",
       "\t<tr><td>Other long term (current) drug therapy                                         </td><td>723</td><td>6.18</td></tr>\n",
       "\t<tr><td>Essential (primary) hypertension                                               </td><td>690</td><td>5.90</td></tr>\n",
       "\t<tr><td>Personal history of nicotine dependence                                        </td><td>598</td><td>5.12</td></tr>\n",
       "\t<tr><td>Acidosis                                                                       </td><td>549</td><td>4.70</td></tr>\n",
       "\t<tr><td>Long term (current) use of aspirin                                             </td><td>528</td><td>4.52</td></tr>\n",
       "\t<tr><td>Shortness of breath                                                            </td><td>522</td><td>4.46</td></tr>\n",
       "\t<tr><td>Other nonspecific abnormal finding of lung field                               </td><td>512</td><td>4.38</td></tr>\n",
       "\t<tr><td>Acute kidney failure, unspecified                                              </td><td>501</td><td>4.29</td></tr>\n",
       "\t<tr><td>Atherosclerotic heart disease of native coronary artery without angina pectoris</td><td>431</td><td>3.69</td></tr>\n",
       "\t<tr><td>Sepsis, unspecified organism                                                   </td><td>423</td><td>3.62</td></tr>\n",
       "\t<tr><td>Nonspecific abnormal electrocardiogram (ECG) (EKG)                             </td><td>402</td><td>3.44</td></tr>\n",
       "\t<tr><td>Long term (current) use of anticoagulants                                      </td><td>390</td><td>3.34</td></tr>\n",
       "\t<tr><td>Gastro-esophageal reflux disease without esophagitis                           </td><td>382</td><td>3.27</td></tr>\n",
       "\t<tr><td>Hypo-osmolality and hyponatremia                                               </td><td>373</td><td>3.19</td></tr>\n",
       "\t<tr><td>Hypotension, unspecified                                                       </td><td>358</td><td>3.06</td></tr>\n",
       "\t<tr><td>Hypokalemia                                                                    </td><td>353</td><td>3.02</td></tr>\n",
       "\t<tr><td>Acute respiratory failure (CMS-HCC)                                            </td><td>352</td><td>3.01</td></tr>\n",
       "\t<tr><td>Acute kidney failure, unspecified (CMS-HCC)                                    </td><td>345</td><td>2.95</td></tr>\n",
       "\t<tr><td>Acute posthemorrhagic anemia                                                   </td><td>333</td><td>2.85</td></tr>\n",
       "</tbody>\n",
       "</table>\n"
      ],
      "text/latex": [
       "A tibble: 20 × 3\n",
       "\\begin{tabular}{lll}\n",
       " dx\\_name & n & perc\\\\\n",
       " <chr> & <int> & <dbl>\\\\\n",
       "\\hline\n",
       "\t Hyperlipidemia, unspecified                                                     & 795 & 6.80\\\\\n",
       "\t Other long term (current) drug therapy                                          & 723 & 6.18\\\\\n",
       "\t Essential (primary) hypertension                                                & 690 & 5.90\\\\\n",
       "\t Personal history of nicotine dependence                                         & 598 & 5.12\\\\\n",
       "\t Acidosis                                                                        & 549 & 4.70\\\\\n",
       "\t Long term (current) use of aspirin                                              & 528 & 4.52\\\\\n",
       "\t Shortness of breath                                                             & 522 & 4.46\\\\\n",
       "\t Other nonspecific abnormal finding of lung field                                & 512 & 4.38\\\\\n",
       "\t Acute kidney failure, unspecified                                               & 501 & 4.29\\\\\n",
       "\t Atherosclerotic heart disease of native coronary artery without angina pectoris & 431 & 3.69\\\\\n",
       "\t Sepsis, unspecified organism                                                    & 423 & 3.62\\\\\n",
       "\t Nonspecific abnormal electrocardiogram (ECG) (EKG)                              & 402 & 3.44\\\\\n",
       "\t Long term (current) use of anticoagulants                                       & 390 & 3.34\\\\\n",
       "\t Gastro-esophageal reflux disease without esophagitis                            & 382 & 3.27\\\\\n",
       "\t Hypo-osmolality and hyponatremia                                                & 373 & 3.19\\\\\n",
       "\t Hypotension, unspecified                                                        & 358 & 3.06\\\\\n",
       "\t Hypokalemia                                                                     & 353 & 3.02\\\\\n",
       "\t Acute respiratory failure (CMS-HCC)                                             & 352 & 3.01\\\\\n",
       "\t Acute kidney failure, unspecified (CMS-HCC)                                     & 345 & 2.95\\\\\n",
       "\t Acute posthemorrhagic anemia                                                    & 333 & 2.85\\\\\n",
       "\\end{tabular}\n"
      ],
      "text/markdown": [
       "\n",
       "A tibble: 20 × 3\n",
       "\n",
       "| dx_name &lt;chr&gt; | n &lt;int&gt; | perc &lt;dbl&gt; |\n",
       "|---|---|---|\n",
       "| Hyperlipidemia, unspecified                                                     | 795 | 6.80 |\n",
       "| Other long term (current) drug therapy                                          | 723 | 6.18 |\n",
       "| Essential (primary) hypertension                                                | 690 | 5.90 |\n",
       "| Personal history of nicotine dependence                                         | 598 | 5.12 |\n",
       "| Acidosis                                                                        | 549 | 4.70 |\n",
       "| Long term (current) use of aspirin                                              | 528 | 4.52 |\n",
       "| Shortness of breath                                                             | 522 | 4.46 |\n",
       "| Other nonspecific abnormal finding of lung field                                | 512 | 4.38 |\n",
       "| Acute kidney failure, unspecified                                               | 501 | 4.29 |\n",
       "| Atherosclerotic heart disease of native coronary artery without angina pectoris | 431 | 3.69 |\n",
       "| Sepsis, unspecified organism                                                    | 423 | 3.62 |\n",
       "| Nonspecific abnormal electrocardiogram (ECG) (EKG)                              | 402 | 3.44 |\n",
       "| Long term (current) use of anticoagulants                                       | 390 | 3.34 |\n",
       "| Gastro-esophageal reflux disease without esophagitis                            | 382 | 3.27 |\n",
       "| Hypo-osmolality and hyponatremia                                                | 373 | 3.19 |\n",
       "| Hypotension, unspecified                                                        | 358 | 3.06 |\n",
       "| Hypokalemia                                                                     | 353 | 3.02 |\n",
       "| Acute respiratory failure (CMS-HCC)                                             | 352 | 3.01 |\n",
       "| Acute kidney failure, unspecified (CMS-HCC)                                     | 345 | 2.95 |\n",
       "| Acute posthemorrhagic anemia                                                    | 333 | 2.85 |\n",
       "\n"
      ],
      "text/plain": [
       "   dx_name                                                                        \n",
       "1  Hyperlipidemia, unspecified                                                    \n",
       "2  Other long term (current) drug therapy                                         \n",
       "3  Essential (primary) hypertension                                               \n",
       "4  Personal history of nicotine dependence                                        \n",
       "5  Acidosis                                                                       \n",
       "6  Long term (current) use of aspirin                                             \n",
       "7  Shortness of breath                                                            \n",
       "8  Other nonspecific abnormal finding of lung field                               \n",
       "9  Acute kidney failure, unspecified                                              \n",
       "10 Atherosclerotic heart disease of native coronary artery without angina pectoris\n",
       "11 Sepsis, unspecified organism                                                   \n",
       "12 Nonspecific abnormal electrocardiogram (ECG) (EKG)                             \n",
       "13 Long term (current) use of anticoagulants                                      \n",
       "14 Gastro-esophageal reflux disease without esophagitis                           \n",
       "15 Hypo-osmolality and hyponatremia                                               \n",
       "16 Hypotension, unspecified                                                       \n",
       "17 Hypokalemia                                                                    \n",
       "18 Acute respiratory failure (CMS-HCC)                                            \n",
       "19 Acute kidney failure, unspecified (CMS-HCC)                                    \n",
       "20 Acute posthemorrhagic anemia                                                   \n",
       "   n   perc\n",
       "1  795 6.80\n",
       "2  723 6.18\n",
       "3  690 5.90\n",
       "4  598 5.12\n",
       "5  549 4.70\n",
       "6  528 4.52\n",
       "7  522 4.46\n",
       "8  512 4.38\n",
       "9  501 4.29\n",
       "10 431 3.69\n",
       "11 423 3.62\n",
       "12 402 3.44\n",
       "13 390 3.34\n",
       "14 382 3.27\n",
       "15 373 3.19\n",
       "16 358 3.06\n",
       "17 353 3.02\n",
       "18 352 3.01\n",
       "19 345 2.95\n",
       "20 333 2.85"
      ]
     },
     "metadata": {},
     "output_type": "display_data"
    }
   ],
   "source": [
    "x2 %>% mutate(perc = round(100*n/nrow(x2), 2)) %>% arrange(-n) %>% head(20)"
   ]
  },
  {
   "cell_type": "code",
   "execution_count": 43,
   "metadata": {},
   "outputs": [],
   "source": [
    "write.csv(x2, file.path(datadir, \"4_1_tx_alldx.csv\"), row.names=FALSE)"
   ]
  },
  {
   "cell_type": "code",
   "execution_count": 45,
   "metadata": {},
   "outputs": [
    {
     "data": {
      "text/html": [
       "<style>\n",
       ".list-inline {list-style: none; margin:0; padding: 0}\n",
       ".list-inline>li {display: inline-block}\n",
       ".list-inline>li:not(:last-child)::after {content: \"\\00b7\"; padding: 0 .5ex}\n",
       "</style>\n",
       "<ol class=list-inline><li>8410</li><li>2</li></ol>\n"
      ],
      "text/latex": [
       "\\begin{enumerate*}\n",
       "\\item 8410\n",
       "\\item 2\n",
       "\\end{enumerate*}\n"
      ],
      "text/markdown": [
       "1. 8410\n",
       "2. 2\n",
       "\n",
       "\n"
      ],
      "text/plain": [
       "[1] 8410    2"
      ]
     },
     "metadata": {},
     "output_type": "display_data"
    },
    {
     "data": {
      "text/html": [
       "<style>\n",
       ".list-inline {list-style: none; margin:0; padding: 0}\n",
       ".list-inline>li {display: inline-block}\n",
       ".list-inline>li:not(:last-child)::after {content: \"\\00b7\"; padding: 0 .5ex}\n",
       "</style>\n",
       "<ol class=list-inline><li>'dx_name'</li><li>'n'</li></ol>\n"
      ],
      "text/latex": [
       "\\begin{enumerate*}\n",
       "\\item 'dx\\_name'\n",
       "\\item 'n'\n",
       "\\end{enumerate*}\n"
      ],
      "text/markdown": [
       "1. 'dx_name'\n",
       "2. 'n'\n",
       "\n",
       "\n"
      ],
      "text/plain": [
       "[1] \"dx_name\" \"n\"      "
      ]
     },
     "metadata": {},
     "output_type": "display_data"
    }
   ],
   "source": [
    "# full cohort\n",
    "q = \"\n",
    "SELECT x.dx_name, count(x.dx_name) AS n\n",
    "FROM \n",
    "    `som-nero-phi-jonc101.triageTD.1_4_cohort` as c\n",
    "JOIN \n",
    "    `som-nero-phi-jonc101.shc_core.diagnosis_code` as x\n",
    "ON \n",
    "    (c.anon_id = x.anon_id and c.pat_enc_csn_id_coded = x.pat_enc_csn_id_jittered)\n",
    "\n",
    "WHERE (x.ed = 'Y')\n",
    "\n",
    "GROUP by x.dx_name\n",
    "\"\n",
    "\n",
    "# submit the query:\n",
    "update.packages('Rcpp')\n",
    "x3 <- dbGetQuery(con, q)\n",
    "dim(x3)\n",
    "colnames(x3)"
   ]
  },
  {
   "cell_type": "code",
   "execution_count": 46,
   "metadata": {},
   "outputs": [
    {
     "data": {
      "text/html": [
       "<table class=\"dataframe\">\n",
       "<caption>A tibble: 20 × 3</caption>\n",
       "<thead>\n",
       "\t<tr><th scope=col>dx_name</th><th scope=col>n</th><th scope=col>perc</th></tr>\n",
       "\t<tr><th scope=col>&lt;chr&gt;</th><th scope=col>&lt;int&gt;</th><th scope=col>&lt;dbl&gt;</th></tr>\n",
       "</thead>\n",
       "<tbody>\n",
       "\t<tr><td>Hyponatremia                                                       </td><td>697</td><td>8.29</td></tr>\n",
       "\t<tr><td>Suicidal ideation                                                  </td><td>640</td><td>7.61</td></tr>\n",
       "\t<tr><td>Pneumonia due to organism                                          </td><td>611</td><td>7.27</td></tr>\n",
       "\t<tr><td>Sepsis, due to unspecified organism                                </td><td>579</td><td>6.88</td></tr>\n",
       "\t<tr><td>Acute kidney injury (nontraumatic) (CMS-HCC)                       </td><td>565</td><td>6.72</td></tr>\n",
       "\t<tr><td>Shortness of breath                                                </td><td>549</td><td>6.53</td></tr>\n",
       "\t<tr><td>Hypoxia                                                            </td><td>473</td><td>5.62</td></tr>\n",
       "\t<tr><td>Acute chest pain                                                   </td><td>438</td><td>5.21</td></tr>\n",
       "\t<tr><td>Altered mental status, unspecified altered mental status type      </td><td>416</td><td>4.95</td></tr>\n",
       "\t<tr><td>Elevated troponin                                                  </td><td>390</td><td>4.64</td></tr>\n",
       "\t<tr><td>Non-ST elevation myocardial infarction (NSTEMI) (CMS-HCC)          </td><td>374</td><td>4.45</td></tr>\n",
       "\t<tr><td>Dehydration                                                        </td><td>343</td><td>4.08</td></tr>\n",
       "\t<tr><td>Acute renal failure, unspecified acute renal failure type (CMS-HCC)</td><td>339</td><td>4.03</td></tr>\n",
       "\t<tr><td>Fever, unspecified fever cause                                     </td><td>336</td><td>4.00</td></tr>\n",
       "\t<tr><td>Hypokalemia                                                        </td><td>316</td><td>3.76</td></tr>\n",
       "\t<tr><td>COPD with acute exacerbation (CMS-HCC)                             </td><td>291</td><td>3.46</td></tr>\n",
       "\t<tr><td>Hyperkalemia                                                       </td><td>283</td><td>3.37</td></tr>\n",
       "\t<tr><td>SBO (small bowel obstruction) (CMS-HCC)                            </td><td>281</td><td>3.34</td></tr>\n",
       "\t<tr><td>Generalized abdominal pain                                         </td><td>276</td><td>3.28</td></tr>\n",
       "\t<tr><td>Severe sepsis (CMS-HCC)                                            </td><td>269</td><td>3.20</td></tr>\n",
       "</tbody>\n",
       "</table>\n"
      ],
      "text/latex": [
       "A tibble: 20 × 3\n",
       "\\begin{tabular}{lll}\n",
       " dx\\_name & n & perc\\\\\n",
       " <chr> & <int> & <dbl>\\\\\n",
       "\\hline\n",
       "\t Hyponatremia                                                        & 697 & 8.29\\\\\n",
       "\t Suicidal ideation                                                   & 640 & 7.61\\\\\n",
       "\t Pneumonia due to organism                                           & 611 & 7.27\\\\\n",
       "\t Sepsis, due to unspecified organism                                 & 579 & 6.88\\\\\n",
       "\t Acute kidney injury (nontraumatic) (CMS-HCC)                        & 565 & 6.72\\\\\n",
       "\t Shortness of breath                                                 & 549 & 6.53\\\\\n",
       "\t Hypoxia                                                             & 473 & 5.62\\\\\n",
       "\t Acute chest pain                                                    & 438 & 5.21\\\\\n",
       "\t Altered mental status, unspecified altered mental status type       & 416 & 4.95\\\\\n",
       "\t Elevated troponin                                                   & 390 & 4.64\\\\\n",
       "\t Non-ST elevation myocardial infarction (NSTEMI) (CMS-HCC)           & 374 & 4.45\\\\\n",
       "\t Dehydration                                                         & 343 & 4.08\\\\\n",
       "\t Acute renal failure, unspecified acute renal failure type (CMS-HCC) & 339 & 4.03\\\\\n",
       "\t Fever, unspecified fever cause                                      & 336 & 4.00\\\\\n",
       "\t Hypokalemia                                                         & 316 & 3.76\\\\\n",
       "\t COPD with acute exacerbation (CMS-HCC)                              & 291 & 3.46\\\\\n",
       "\t Hyperkalemia                                                        & 283 & 3.37\\\\\n",
       "\t SBO (small bowel obstruction) (CMS-HCC)                             & 281 & 3.34\\\\\n",
       "\t Generalized abdominal pain                                          & 276 & 3.28\\\\\n",
       "\t Severe sepsis (CMS-HCC)                                             & 269 & 3.20\\\\\n",
       "\\end{tabular}\n"
      ],
      "text/markdown": [
       "\n",
       "A tibble: 20 × 3\n",
       "\n",
       "| dx_name &lt;chr&gt; | n &lt;int&gt; | perc &lt;dbl&gt; |\n",
       "|---|---|---|\n",
       "| Hyponatremia                                                        | 697 | 8.29 |\n",
       "| Suicidal ideation                                                   | 640 | 7.61 |\n",
       "| Pneumonia due to organism                                           | 611 | 7.27 |\n",
       "| Sepsis, due to unspecified organism                                 | 579 | 6.88 |\n",
       "| Acute kidney injury (nontraumatic) (CMS-HCC)                        | 565 | 6.72 |\n",
       "| Shortness of breath                                                 | 549 | 6.53 |\n",
       "| Hypoxia                                                             | 473 | 5.62 |\n",
       "| Acute chest pain                                                    | 438 | 5.21 |\n",
       "| Altered mental status, unspecified altered mental status type       | 416 | 4.95 |\n",
       "| Elevated troponin                                                   | 390 | 4.64 |\n",
       "| Non-ST elevation myocardial infarction (NSTEMI) (CMS-HCC)           | 374 | 4.45 |\n",
       "| Dehydration                                                         | 343 | 4.08 |\n",
       "| Acute renal failure, unspecified acute renal failure type (CMS-HCC) | 339 | 4.03 |\n",
       "| Fever, unspecified fever cause                                      | 336 | 4.00 |\n",
       "| Hypokalemia                                                         | 316 | 3.76 |\n",
       "| COPD with acute exacerbation (CMS-HCC)                              | 291 | 3.46 |\n",
       "| Hyperkalemia                                                        | 283 | 3.37 |\n",
       "| SBO (small bowel obstruction) (CMS-HCC)                             | 281 | 3.34 |\n",
       "| Generalized abdominal pain                                          | 276 | 3.28 |\n",
       "| Severe sepsis (CMS-HCC)                                             | 269 | 3.20 |\n",
       "\n"
      ],
      "text/plain": [
       "   dx_name                                                             n   perc\n",
       "1  Hyponatremia                                                        697 8.29\n",
       "2  Suicidal ideation                                                   640 7.61\n",
       "3  Pneumonia due to organism                                           611 7.27\n",
       "4  Sepsis, due to unspecified organism                                 579 6.88\n",
       "5  Acute kidney injury (nontraumatic) (CMS-HCC)                        565 6.72\n",
       "6  Shortness of breath                                                 549 6.53\n",
       "7  Hypoxia                                                             473 5.62\n",
       "8  Acute chest pain                                                    438 5.21\n",
       "9  Altered mental status, unspecified altered mental status type       416 4.95\n",
       "10 Elevated troponin                                                   390 4.64\n",
       "11 Non-ST elevation myocardial infarction (NSTEMI) (CMS-HCC)           374 4.45\n",
       "12 Dehydration                                                         343 4.08\n",
       "13 Acute renal failure, unspecified acute renal failure type (CMS-HCC) 339 4.03\n",
       "14 Fever, unspecified fever cause                                      336 4.00\n",
       "15 Hypokalemia                                                         316 3.76\n",
       "16 COPD with acute exacerbation (CMS-HCC)                              291 3.46\n",
       "17 Hyperkalemia                                                        283 3.37\n",
       "18 SBO (small bowel obstruction) (CMS-HCC)                             281 3.34\n",
       "19 Generalized abdominal pain                                          276 3.28\n",
       "20 Severe sepsis (CMS-HCC)                                             269 3.20"
      ]
     },
     "metadata": {},
     "output_type": "display_data"
    }
   ],
   "source": [
    "x3 %>% mutate(perc = round(100*n/nrow(x3), 2)) %>% arrange(-n) %>% head(20)"
   ]
  },
  {
   "cell_type": "code",
   "execution_count": null,
   "metadata": {},
   "outputs": [],
   "source": [
    "# transfers cohort testing\n",
    "q = \"\n",
    "SELECT distinct c.pat_enc_csn_id_coded, x.dx_name, x.primary, x.ed\n",
    "FROM `som-nero-phi-jonc101.triageTD.1_4_cohort` as c\n",
    "JOIN `som-nero-phi-jonc101.shc_core.diagnosis_code` as x\n",
    "ON (c.anon_id = x.anon_id and c.pat_enc_csn_id_coded = x.pat_enc_csn_id_jittered)\n",
    "WHERE (c.first_label != c.death_24hr_recent_label and x.ed = 'Y')\n",
    "\"\n",
    "\n",
    "# submit the query:\n",
    "update.packages('Rcpp')\n",
    "x3 <- dbGetQuery(con, q)\n",
    "dim(x3)\n",
    "colnames(x3)"
   ]
  },
  {
   "cell_type": "code",
   "execution_count": null,
   "metadata": {},
   "outputs": [],
   "source": []
  },
  {
   "cell_type": "code",
   "execution_count": null,
   "metadata": {},
   "outputs": [],
   "source": [
    "# transfer cohort\n",
    "q = \"\n",
    "SELECT x.dx_name, count(x.dx_name) AS n\n",
    "FROM \n",
    "    `som-nero-phi-jonc101.triageTD.1_4_cohort` as c\n",
    "JOIN \n",
    "    `som-nero-phi-jonc101.shc_core.diagnosis_code` as x\n",
    "ON \n",
    "    (c.anon_id = x.anon_id and c.pat_enc_csn_id_coded = x.pat_enc_csn_id_jittered)\n",
    "\n",
    "WHERE (c.first_label != c.death_24hr_recent_label and x.ed = 'Y')\n",
    "\n",
    "GROUP by x.dx_name\n",
    "\"\n",
    "\n",
    "# submit the query:\n",
    "update.packages('Rcpp')\n",
    "x3 <- dbGetQuery(con, q)\n",
    "dim(x3)\n",
    "colnames(x3)"
   ]
  },
  {
   "cell_type": "code",
   "execution_count": 6,
   "metadata": {},
   "outputs": [],
   "source": [
    "update.packages('Rcpp')\n"
   ]
  },
  {
   "cell_type": "code",
   "execution_count": 48,
   "metadata": {},
   "outputs": [
    {
     "data": {
      "text/html": [
       "<table class=\"dataframe\">\n",
       "<caption>A tibble: 20 × 3</caption>\n",
       "<thead>\n",
       "\t<tr><th scope=col>dx_name</th><th scope=col>n</th><th scope=col>perc</th></tr>\n",
       "\t<tr><th scope=col>&lt;chr&gt;</th><th scope=col>&lt;int&gt;</th><th scope=col>&lt;dbl&gt;</th></tr>\n",
       "</thead>\n",
       "<tbody>\n",
       "\t<tr><td>Sepsis, due to unspecified organism                                                  </td><td>55</td><td>4.50</td></tr>\n",
       "\t<tr><td>Severe sepsis (CMS-HCC)                                                              </td><td>50</td><td>4.09</td></tr>\n",
       "\t<tr><td>Hyperkalemia                                                                         </td><td>48</td><td>3.93</td></tr>\n",
       "\t<tr><td>Hyponatremia                                                                         </td><td>48</td><td>3.93</td></tr>\n",
       "\t<tr><td>Pneumonia due to organism                                                            </td><td>47</td><td>3.85</td></tr>\n",
       "\t<tr><td>Diabetic ketoacidosis without coma associated with type 1 diabetes mellitus (CMS-HCC)</td><td>43</td><td>3.52</td></tr>\n",
       "\t<tr><td>Septic shock (CMS-HCC)                                                               </td><td>42</td><td>3.44</td></tr>\n",
       "\t<tr><td>Hypoxia                                                                              </td><td>39</td><td>3.19</td></tr>\n",
       "\t<tr><td>Subdural hematoma (CMS-HCC)                                                          </td><td>38</td><td>3.11</td></tr>\n",
       "\t<tr><td>Acute kidney injury (nontraumatic) (CMS-HCC)                                         </td><td>38</td><td>3.11</td></tr>\n",
       "\t<tr><td>Hypotension, unspecified hypotension type                                            </td><td>37</td><td>3.03</td></tr>\n",
       "\t<tr><td>Altered mental status, unspecified altered mental status type                        </td><td>36</td><td>2.95</td></tr>\n",
       "\t<tr><td>Shortness of breath                                                                  </td><td>32</td><td>2.62</td></tr>\n",
       "\t<tr><td>Acute chest pain                                                                     </td><td>32</td><td>2.62</td></tr>\n",
       "\t<tr><td>ST elevation myocardial infarction (STEMI), unspecified artery (CMS-HCC)             </td><td>31</td><td>2.54</td></tr>\n",
       "\t<tr><td>Non-ST elevation myocardial infarction (NSTEMI) (CMS-HCC)                            </td><td>29</td><td>2.37</td></tr>\n",
       "\t<tr><td>COPD with acute exacerbation (CMS-HCC)                                               </td><td>28</td><td>2.29</td></tr>\n",
       "\t<tr><td>Acute renal failure, unspecified acute renal failure type (CMS-HCC)                  </td><td>27</td><td>2.21</td></tr>\n",
       "\t<tr><td>Acute respiratory failure with hypoxia (CMS-HCC)                                     </td><td>26</td><td>2.13</td></tr>\n",
       "\t<tr><td>Acute GI bleeding                                                                    </td><td>24</td><td>1.96</td></tr>\n",
       "</tbody>\n",
       "</table>\n"
      ],
      "text/latex": [
       "A tibble: 20 × 3\n",
       "\\begin{tabular}{lll}\n",
       " dx\\_name & n & perc\\\\\n",
       " <chr> & <int> & <dbl>\\\\\n",
       "\\hline\n",
       "\t Sepsis, due to unspecified organism                                                   & 55 & 4.50\\\\\n",
       "\t Severe sepsis (CMS-HCC)                                                               & 50 & 4.09\\\\\n",
       "\t Hyperkalemia                                                                          & 48 & 3.93\\\\\n",
       "\t Hyponatremia                                                                          & 48 & 3.93\\\\\n",
       "\t Pneumonia due to organism                                                             & 47 & 3.85\\\\\n",
       "\t Diabetic ketoacidosis without coma associated with type 1 diabetes mellitus (CMS-HCC) & 43 & 3.52\\\\\n",
       "\t Septic shock (CMS-HCC)                                                                & 42 & 3.44\\\\\n",
       "\t Hypoxia                                                                               & 39 & 3.19\\\\\n",
       "\t Subdural hematoma (CMS-HCC)                                                           & 38 & 3.11\\\\\n",
       "\t Acute kidney injury (nontraumatic) (CMS-HCC)                                          & 38 & 3.11\\\\\n",
       "\t Hypotension, unspecified hypotension type                                             & 37 & 3.03\\\\\n",
       "\t Altered mental status, unspecified altered mental status type                         & 36 & 2.95\\\\\n",
       "\t Shortness of breath                                                                   & 32 & 2.62\\\\\n",
       "\t Acute chest pain                                                                      & 32 & 2.62\\\\\n",
       "\t ST elevation myocardial infarction (STEMI), unspecified artery (CMS-HCC)              & 31 & 2.54\\\\\n",
       "\t Non-ST elevation myocardial infarction (NSTEMI) (CMS-HCC)                             & 29 & 2.37\\\\\n",
       "\t COPD with acute exacerbation (CMS-HCC)                                                & 28 & 2.29\\\\\n",
       "\t Acute renal failure, unspecified acute renal failure type (CMS-HCC)                   & 27 & 2.21\\\\\n",
       "\t Acute respiratory failure with hypoxia (CMS-HCC)                                      & 26 & 2.13\\\\\n",
       "\t Acute GI bleeding                                                                     & 24 & 1.96\\\\\n",
       "\\end{tabular}\n"
      ],
      "text/markdown": [
       "\n",
       "A tibble: 20 × 3\n",
       "\n",
       "| dx_name &lt;chr&gt; | n &lt;int&gt; | perc &lt;dbl&gt; |\n",
       "|---|---|---|\n",
       "| Sepsis, due to unspecified organism                                                   | 55 | 4.50 |\n",
       "| Severe sepsis (CMS-HCC)                                                               | 50 | 4.09 |\n",
       "| Hyperkalemia                                                                          | 48 | 3.93 |\n",
       "| Hyponatremia                                                                          | 48 | 3.93 |\n",
       "| Pneumonia due to organism                                                             | 47 | 3.85 |\n",
       "| Diabetic ketoacidosis without coma associated with type 1 diabetes mellitus (CMS-HCC) | 43 | 3.52 |\n",
       "| Septic shock (CMS-HCC)                                                                | 42 | 3.44 |\n",
       "| Hypoxia                                                                               | 39 | 3.19 |\n",
       "| Subdural hematoma (CMS-HCC)                                                           | 38 | 3.11 |\n",
       "| Acute kidney injury (nontraumatic) (CMS-HCC)                                          | 38 | 3.11 |\n",
       "| Hypotension, unspecified hypotension type                                             | 37 | 3.03 |\n",
       "| Altered mental status, unspecified altered mental status type                         | 36 | 2.95 |\n",
       "| Shortness of breath                                                                   | 32 | 2.62 |\n",
       "| Acute chest pain                                                                      | 32 | 2.62 |\n",
       "| ST elevation myocardial infarction (STEMI), unspecified artery (CMS-HCC)              | 31 | 2.54 |\n",
       "| Non-ST elevation myocardial infarction (NSTEMI) (CMS-HCC)                             | 29 | 2.37 |\n",
       "| COPD with acute exacerbation (CMS-HCC)                                                | 28 | 2.29 |\n",
       "| Acute renal failure, unspecified acute renal failure type (CMS-HCC)                   | 27 | 2.21 |\n",
       "| Acute respiratory failure with hypoxia (CMS-HCC)                                      | 26 | 2.13 |\n",
       "| Acute GI bleeding                                                                     | 24 | 1.96 |\n",
       "\n"
      ],
      "text/plain": [
       "   dx_name                                                                              \n",
       "1  Sepsis, due to unspecified organism                                                  \n",
       "2  Severe sepsis (CMS-HCC)                                                              \n",
       "3  Hyperkalemia                                                                         \n",
       "4  Hyponatremia                                                                         \n",
       "5  Pneumonia due to organism                                                            \n",
       "6  Diabetic ketoacidosis without coma associated with type 1 diabetes mellitus (CMS-HCC)\n",
       "7  Septic shock (CMS-HCC)                                                               \n",
       "8  Hypoxia                                                                              \n",
       "9  Subdural hematoma (CMS-HCC)                                                          \n",
       "10 Acute kidney injury (nontraumatic) (CMS-HCC)                                         \n",
       "11 Hypotension, unspecified hypotension type                                            \n",
       "12 Altered mental status, unspecified altered mental status type                        \n",
       "13 Shortness of breath                                                                  \n",
       "14 Acute chest pain                                                                     \n",
       "15 ST elevation myocardial infarction (STEMI), unspecified artery (CMS-HCC)             \n",
       "16 Non-ST elevation myocardial infarction (NSTEMI) (CMS-HCC)                            \n",
       "17 COPD with acute exacerbation (CMS-HCC)                                               \n",
       "18 Acute renal failure, unspecified acute renal failure type (CMS-HCC)                  \n",
       "19 Acute respiratory failure with hypoxia (CMS-HCC)                                     \n",
       "20 Acute GI bleeding                                                                    \n",
       "   n  perc\n",
       "1  55 4.50\n",
       "2  50 4.09\n",
       "3  48 3.93\n",
       "4  48 3.93\n",
       "5  47 3.85\n",
       "6  43 3.52\n",
       "7  42 3.44\n",
       "8  39 3.19\n",
       "9  38 3.11\n",
       "10 38 3.11\n",
       "11 37 3.03\n",
       "12 36 2.95\n",
       "13 32 2.62\n",
       "14 32 2.62\n",
       "15 31 2.54\n",
       "16 29 2.37\n",
       "17 28 2.29\n",
       "18 27 2.21\n",
       "19 26 2.13\n",
       "20 24 1.96"
      ]
     },
     "metadata": {},
     "output_type": "display_data"
    }
   ],
   "source": [
    "x3 %>% mutate(perc = round(100*n/nrow(x3), 2)) %>% arrange(-n) %>% head(20)"
   ]
  },
  {
   "cell_type": "code",
   "execution_count": 49,
   "metadata": {},
   "outputs": [
    {
     "data": {
      "text/html": [
       "<style>\n",
       ".list-inline {list-style: none; margin:0; padding: 0}\n",
       ".list-inline>li {display: inline-block}\n",
       ".list-inline>li:not(:last-child)::after {content: \"\\00b7\"; padding: 0 .5ex}\n",
       "</style>\n",
       "<ol class=list-inline><li>4632</li><li>2</li></ol>\n"
      ],
      "text/latex": [
       "\\begin{enumerate*}\n",
       "\\item 4632\n",
       "\\item 2\n",
       "\\end{enumerate*}\n"
      ],
      "text/markdown": [
       "1. 4632\n",
       "2. 2\n",
       "\n",
       "\n"
      ],
      "text/plain": [
       "[1] 4632    2"
      ]
     },
     "metadata": {},
     "output_type": "display_data"
    },
    {
     "data": {
      "text/html": [
       "<style>\n",
       ".list-inline {list-style: none; margin:0; padding: 0}\n",
       ".list-inline>li {display: inline-block}\n",
       ".list-inline>li:not(:last-child)::after {content: \"\\00b7\"; padding: 0 .5ex}\n",
       "</style>\n",
       "<ol class=list-inline><li>'dx_name'</li><li>'n'</li></ol>\n"
      ],
      "text/latex": [
       "\\begin{enumerate*}\n",
       "\\item 'dx\\_name'\n",
       "\\item 'n'\n",
       "\\end{enumerate*}\n"
      ],
      "text/markdown": [
       "1. 'dx_name'\n",
       "2. 'n'\n",
       "\n",
       "\n"
      ],
      "text/plain": [
       "[1] \"dx_name\" \"n\"      "
      ]
     },
     "metadata": {},
     "output_type": "display_data"
    }
   ],
   "source": [
    "# full cohort\n",
    "q = \"\n",
    "SELECT x.dx_name, count(x.dx_name) AS n\n",
    "FROM \n",
    "    `som-nero-phi-jonc101.triageTD.1_4_cohort` as c\n",
    "JOIN \n",
    "    `som-nero-phi-jonc101.shc_core.diagnosis_code` as x\n",
    "ON \n",
    "    (c.anon_id = x.anon_id and c.pat_enc_csn_id_coded = x.pat_enc_csn_id_jittered)\n",
    "\n",
    "WHERE (x.ed = 'Y' and primary='Y')\n",
    "\n",
    "GROUP by x.dx_name\n",
    "\"\n",
    "\n",
    "# submit the query:\n",
    "update.packages('Rcpp')\n",
    "x4 <- dbGetQuery(con, q)\n",
    "dim(x4)\n",
    "colnames(x4)"
   ]
  },
  {
   "cell_type": "code",
   "execution_count": 50,
   "metadata": {},
   "outputs": [
    {
     "data": {
      "text/html": [
       "<table class=\"dataframe\">\n",
       "<caption>A tibble: 20 × 3</caption>\n",
       "<thead>\n",
       "\t<tr><th scope=col>dx_name</th><th scope=col>n</th><th scope=col>perc</th></tr>\n",
       "\t<tr><th scope=col>&lt;chr&gt;</th><th scope=col>&lt;int&gt;</th><th scope=col>&lt;dbl&gt;</th></tr>\n",
       "</thead>\n",
       "<tbody>\n",
       "\t<tr><td>Suicidal ideation                                                  </td><td>407</td><td>8.79</td></tr>\n",
       "\t<tr><td>Pneumonia due to organism                                          </td><td>302</td><td>6.52</td></tr>\n",
       "\t<tr><td>Sepsis, due to unspecified organism                                </td><td>277</td><td>5.98</td></tr>\n",
       "\t<tr><td>Hyponatremia                                                       </td><td>274</td><td>5.92</td></tr>\n",
       "\t<tr><td>Non-ST elevation myocardial infarction (NSTEMI) (CMS-HCC)          </td><td>227</td><td>4.90</td></tr>\n",
       "\t<tr><td>SBO (small bowel obstruction) (CMS-HCC)                            </td><td>222</td><td>4.79</td></tr>\n",
       "\t<tr><td>Acute chest pain                                                   </td><td>211</td><td>4.56</td></tr>\n",
       "\t<tr><td>Small bowel obstruction (CMS-HCC)                                  </td><td>205</td><td>4.43</td></tr>\n",
       "\t<tr><td>Neutropenic fever (CMS-HCC)                                        </td><td>194</td><td>4.19</td></tr>\n",
       "\t<tr><td>Acute GI bleeding                                                  </td><td>190</td><td>4.10</td></tr>\n",
       "\t<tr><td>Shortness of breath                                                </td><td>186</td><td>4.02</td></tr>\n",
       "\t<tr><td>Altered mental status, unspecified altered mental status type      </td><td>172</td><td>3.71</td></tr>\n",
       "\t<tr><td>Acute kidney injury (nontraumatic) (CMS-HCC)                       </td><td>156</td><td>3.37</td></tr>\n",
       "\t<tr><td>COPD with acute exacerbation (CMS-HCC)                             </td><td>143</td><td>3.09</td></tr>\n",
       "\t<tr><td>Fever, unspecified fever cause                                     </td><td>139</td><td>3.00</td></tr>\n",
       "\t<tr><td>Acute renal failure, unspecified acute renal failure type (CMS-HCC)</td><td>134</td><td>2.89</td></tr>\n",
       "\t<tr><td>Fever and other physiologic disturbances of temperature regulation </td><td>125</td><td>2.70</td></tr>\n",
       "\t<tr><td>Psychosis, unspecified psychosis type (CMS-HCC)                    </td><td>123</td><td>2.66</td></tr>\n",
       "\t<tr><td>Generalized abdominal pain                                         </td><td>119</td><td>2.57</td></tr>\n",
       "\t<tr><td>Acute pyelonephritis                                               </td><td>114</td><td>2.46</td></tr>\n",
       "</tbody>\n",
       "</table>\n"
      ],
      "text/latex": [
       "A tibble: 20 × 3\n",
       "\\begin{tabular}{lll}\n",
       " dx\\_name & n & perc\\\\\n",
       " <chr> & <int> & <dbl>\\\\\n",
       "\\hline\n",
       "\t Suicidal ideation                                                   & 407 & 8.79\\\\\n",
       "\t Pneumonia due to organism                                           & 302 & 6.52\\\\\n",
       "\t Sepsis, due to unspecified organism                                 & 277 & 5.98\\\\\n",
       "\t Hyponatremia                                                        & 274 & 5.92\\\\\n",
       "\t Non-ST elevation myocardial infarction (NSTEMI) (CMS-HCC)           & 227 & 4.90\\\\\n",
       "\t SBO (small bowel obstruction) (CMS-HCC)                             & 222 & 4.79\\\\\n",
       "\t Acute chest pain                                                    & 211 & 4.56\\\\\n",
       "\t Small bowel obstruction (CMS-HCC)                                   & 205 & 4.43\\\\\n",
       "\t Neutropenic fever (CMS-HCC)                                         & 194 & 4.19\\\\\n",
       "\t Acute GI bleeding                                                   & 190 & 4.10\\\\\n",
       "\t Shortness of breath                                                 & 186 & 4.02\\\\\n",
       "\t Altered mental status, unspecified altered mental status type       & 172 & 3.71\\\\\n",
       "\t Acute kidney injury (nontraumatic) (CMS-HCC)                        & 156 & 3.37\\\\\n",
       "\t COPD with acute exacerbation (CMS-HCC)                              & 143 & 3.09\\\\\n",
       "\t Fever, unspecified fever cause                                      & 139 & 3.00\\\\\n",
       "\t Acute renal failure, unspecified acute renal failure type (CMS-HCC) & 134 & 2.89\\\\\n",
       "\t Fever and other physiologic disturbances of temperature regulation  & 125 & 2.70\\\\\n",
       "\t Psychosis, unspecified psychosis type (CMS-HCC)                     & 123 & 2.66\\\\\n",
       "\t Generalized abdominal pain                                          & 119 & 2.57\\\\\n",
       "\t Acute pyelonephritis                                                & 114 & 2.46\\\\\n",
       "\\end{tabular}\n"
      ],
      "text/markdown": [
       "\n",
       "A tibble: 20 × 3\n",
       "\n",
       "| dx_name &lt;chr&gt; | n &lt;int&gt; | perc &lt;dbl&gt; |\n",
       "|---|---|---|\n",
       "| Suicidal ideation                                                   | 407 | 8.79 |\n",
       "| Pneumonia due to organism                                           | 302 | 6.52 |\n",
       "| Sepsis, due to unspecified organism                                 | 277 | 5.98 |\n",
       "| Hyponatremia                                                        | 274 | 5.92 |\n",
       "| Non-ST elevation myocardial infarction (NSTEMI) (CMS-HCC)           | 227 | 4.90 |\n",
       "| SBO (small bowel obstruction) (CMS-HCC)                             | 222 | 4.79 |\n",
       "| Acute chest pain                                                    | 211 | 4.56 |\n",
       "| Small bowel obstruction (CMS-HCC)                                   | 205 | 4.43 |\n",
       "| Neutropenic fever (CMS-HCC)                                         | 194 | 4.19 |\n",
       "| Acute GI bleeding                                                   | 190 | 4.10 |\n",
       "| Shortness of breath                                                 | 186 | 4.02 |\n",
       "| Altered mental status, unspecified altered mental status type       | 172 | 3.71 |\n",
       "| Acute kidney injury (nontraumatic) (CMS-HCC)                        | 156 | 3.37 |\n",
       "| COPD with acute exacerbation (CMS-HCC)                              | 143 | 3.09 |\n",
       "| Fever, unspecified fever cause                                      | 139 | 3.00 |\n",
       "| Acute renal failure, unspecified acute renal failure type (CMS-HCC) | 134 | 2.89 |\n",
       "| Fever and other physiologic disturbances of temperature regulation  | 125 | 2.70 |\n",
       "| Psychosis, unspecified psychosis type (CMS-HCC)                     | 123 | 2.66 |\n",
       "| Generalized abdominal pain                                          | 119 | 2.57 |\n",
       "| Acute pyelonephritis                                                | 114 | 2.46 |\n",
       "\n"
      ],
      "text/plain": [
       "   dx_name                                                             n   perc\n",
       "1  Suicidal ideation                                                   407 8.79\n",
       "2  Pneumonia due to organism                                           302 6.52\n",
       "3  Sepsis, due to unspecified organism                                 277 5.98\n",
       "4  Hyponatremia                                                        274 5.92\n",
       "5  Non-ST elevation myocardial infarction (NSTEMI) (CMS-HCC)           227 4.90\n",
       "6  SBO (small bowel obstruction) (CMS-HCC)                             222 4.79\n",
       "7  Acute chest pain                                                    211 4.56\n",
       "8  Small bowel obstruction (CMS-HCC)                                   205 4.43\n",
       "9  Neutropenic fever (CMS-HCC)                                         194 4.19\n",
       "10 Acute GI bleeding                                                   190 4.10\n",
       "11 Shortness of breath                                                 186 4.02\n",
       "12 Altered mental status, unspecified altered mental status type       172 3.71\n",
       "13 Acute kidney injury (nontraumatic) (CMS-HCC)                        156 3.37\n",
       "14 COPD with acute exacerbation (CMS-HCC)                              143 3.09\n",
       "15 Fever, unspecified fever cause                                      139 3.00\n",
       "16 Acute renal failure, unspecified acute renal failure type (CMS-HCC) 134 2.89\n",
       "17 Fever and other physiologic disturbances of temperature regulation  125 2.70\n",
       "18 Psychosis, unspecified psychosis type (CMS-HCC)                     123 2.66\n",
       "19 Generalized abdominal pain                                          119 2.57\n",
       "20 Acute pyelonephritis                                                114 2.46"
      ]
     },
     "metadata": {},
     "output_type": "display_data"
    }
   ],
   "source": [
    "x4 %>% mutate(perc = round(100*n/nrow(x4), 2)) %>% arrange(-n) %>% head(20)"
   ]
  },
  {
   "cell_type": "code",
   "execution_count": 51,
   "metadata": {},
   "outputs": [
    {
     "data": {
      "text/html": [
       "<style>\n",
       ".list-inline {list-style: none; margin:0; padding: 0}\n",
       ".list-inline>li {display: inline-block}\n",
       ".list-inline>li:not(:last-child)::after {content: \"\\00b7\"; padding: 0 .5ex}\n",
       "</style>\n",
       "<ol class=list-inline><li>529</li><li>2</li></ol>\n"
      ],
      "text/latex": [
       "\\begin{enumerate*}\n",
       "\\item 529\n",
       "\\item 2\n",
       "\\end{enumerate*}\n"
      ],
      "text/markdown": [
       "1. 529\n",
       "2. 2\n",
       "\n",
       "\n"
      ],
      "text/plain": [
       "[1] 529   2"
      ]
     },
     "metadata": {},
     "output_type": "display_data"
    },
    {
     "data": {
      "text/html": [
       "<style>\n",
       ".list-inline {list-style: none; margin:0; padding: 0}\n",
       ".list-inline>li {display: inline-block}\n",
       ".list-inline>li:not(:last-child)::after {content: \"\\00b7\"; padding: 0 .5ex}\n",
       "</style>\n",
       "<ol class=list-inline><li>'dx_name'</li><li>'n'</li></ol>\n"
      ],
      "text/latex": [
       "\\begin{enumerate*}\n",
       "\\item 'dx\\_name'\n",
       "\\item 'n'\n",
       "\\end{enumerate*}\n"
      ],
      "text/markdown": [
       "1. 'dx_name'\n",
       "2. 'n'\n",
       "\n",
       "\n"
      ],
      "text/plain": [
       "[1] \"dx_name\" \"n\"      "
      ]
     },
     "metadata": {},
     "output_type": "display_data"
    }
   ],
   "source": [
    "# transfer cohort\n",
    "q = \"\n",
    "SELECT x.dx_name, count(x.dx_name) AS n\n",
    "FROM \n",
    "    `som-nero-phi-jonc101.triageTD.1_4_cohort` as c\n",
    "JOIN \n",
    "    `som-nero-phi-jonc101.shc_core.diagnosis_code` as x\n",
    "ON \n",
    "    (c.anon_id = x.anon_id and c.pat_enc_csn_id_coded = x.pat_enc_csn_id_jittered)\n",
    "\n",
    "WHERE (c.first_label != c.death_24hr_recent_label and x.ed = 'Y' and primary='Y')\n",
    "\n",
    "GROUP by x.dx_name\n",
    "\"\n",
    "\n",
    "# submit the query:\n",
    "update.packages('Rcpp')\n",
    "x4 <- dbGetQuery(con, q)\n",
    "dim(x4)\n",
    "colnames(x4)"
   ]
  },
  {
   "cell_type": "code",
   "execution_count": 52,
   "metadata": {},
   "outputs": [
    {
     "data": {
      "text/html": [
       "<table class=\"dataframe\">\n",
       "<caption>A tibble: 20 × 3</caption>\n",
       "<thead>\n",
       "\t<tr><th scope=col>dx_name</th><th scope=col>n</th><th scope=col>perc</th></tr>\n",
       "\t<tr><th scope=col>&lt;chr&gt;</th><th scope=col>&lt;int&gt;</th><th scope=col>&lt;dbl&gt;</th></tr>\n",
       "</thead>\n",
       "<tbody>\n",
       "\t<tr><td>Diabetic ketoacidosis without coma associated with type 1 diabetes mellitus (CMS-HCC)                     </td><td>37</td><td>6.99</td></tr>\n",
       "\t<tr><td>Septic shock (CMS-HCC)                                                                                    </td><td>27</td><td>5.10</td></tr>\n",
       "\t<tr><td>ST elevation myocardial infarction (STEMI), unspecified artery (CMS-HCC)                                  </td><td>27</td><td>5.10</td></tr>\n",
       "\t<tr><td>Sepsis, due to unspecified organism                                                                       </td><td>26</td><td>4.91</td></tr>\n",
       "\t<tr><td>Hyperkalemia                                                                                              </td><td>25</td><td>4.73</td></tr>\n",
       "\t<tr><td>Severe sepsis (CMS-HCC)                                                                                   </td><td>25</td><td>4.73</td></tr>\n",
       "\t<tr><td>Subdural hematoma (CMS-HCC)                                                                               </td><td>24</td><td>4.54</td></tr>\n",
       "\t<tr><td>Pneumonia due to organism                                                                                 </td><td>24</td><td>4.54</td></tr>\n",
       "\t<tr><td>Hyponatremia                                                                                              </td><td>20</td><td>3.78</td></tr>\n",
       "\t<tr><td>Acute GI bleeding                                                                                         </td><td>19</td><td>3.59</td></tr>\n",
       "\t<tr><td>SAH (subarachnoid hemorrhage) (CMS-HCC)                                                                   </td><td>16</td><td>3.02</td></tr>\n",
       "\t<tr><td>Non-ST elevation myocardial infarction (NSTEMI) (CMS-HCC)                                                 </td><td>16</td><td>3.02</td></tr>\n",
       "\t<tr><td>Closed fracture of multiple ribs of left side, initial encounter                                          </td><td>14</td><td>2.65</td></tr>\n",
       "\t<tr><td>Altered mental status, unspecified altered mental status type                                             </td><td>14</td><td>2.65</td></tr>\n",
       "\t<tr><td>Diabetic ketoacidosis without coma associated with type 2 diabetes mellitus (CMS-HCC)                     </td><td>14</td><td>2.65</td></tr>\n",
       "\t<tr><td>Closed fracture of multiple ribs of right side, initial encounter                                         </td><td>14</td><td>2.65</td></tr>\n",
       "\t<tr><td>Hypoxia                                                                                                   </td><td>14</td><td>2.65</td></tr>\n",
       "\t<tr><td>Acute chest pain                                                                                          </td><td>13</td><td>2.46</td></tr>\n",
       "\t<tr><td>COPD with acute exacerbation (CMS-HCC)                                                                    </td><td>13</td><td>2.46</td></tr>\n",
       "\t<tr><td>Diabetic ketoacidosis without coma associated with diabetes mellitus due to underlying condition (CMS-HCC)</td><td>12</td><td>2.27</td></tr>\n",
       "</tbody>\n",
       "</table>\n"
      ],
      "text/latex": [
       "A tibble: 20 × 3\n",
       "\\begin{tabular}{lll}\n",
       " dx\\_name & n & perc\\\\\n",
       " <chr> & <int> & <dbl>\\\\\n",
       "\\hline\n",
       "\t Diabetic ketoacidosis without coma associated with type 1 diabetes mellitus (CMS-HCC)                      & 37 & 6.99\\\\\n",
       "\t Septic shock (CMS-HCC)                                                                                     & 27 & 5.10\\\\\n",
       "\t ST elevation myocardial infarction (STEMI), unspecified artery (CMS-HCC)                                   & 27 & 5.10\\\\\n",
       "\t Sepsis, due to unspecified organism                                                                        & 26 & 4.91\\\\\n",
       "\t Hyperkalemia                                                                                               & 25 & 4.73\\\\\n",
       "\t Severe sepsis (CMS-HCC)                                                                                    & 25 & 4.73\\\\\n",
       "\t Subdural hematoma (CMS-HCC)                                                                                & 24 & 4.54\\\\\n",
       "\t Pneumonia due to organism                                                                                  & 24 & 4.54\\\\\n",
       "\t Hyponatremia                                                                                               & 20 & 3.78\\\\\n",
       "\t Acute GI bleeding                                                                                          & 19 & 3.59\\\\\n",
       "\t SAH (subarachnoid hemorrhage) (CMS-HCC)                                                                    & 16 & 3.02\\\\\n",
       "\t Non-ST elevation myocardial infarction (NSTEMI) (CMS-HCC)                                                  & 16 & 3.02\\\\\n",
       "\t Closed fracture of multiple ribs of left side, initial encounter                                           & 14 & 2.65\\\\\n",
       "\t Altered mental status, unspecified altered mental status type                                              & 14 & 2.65\\\\\n",
       "\t Diabetic ketoacidosis without coma associated with type 2 diabetes mellitus (CMS-HCC)                      & 14 & 2.65\\\\\n",
       "\t Closed fracture of multiple ribs of right side, initial encounter                                          & 14 & 2.65\\\\\n",
       "\t Hypoxia                                                                                                    & 14 & 2.65\\\\\n",
       "\t Acute chest pain                                                                                           & 13 & 2.46\\\\\n",
       "\t COPD with acute exacerbation (CMS-HCC)                                                                     & 13 & 2.46\\\\\n",
       "\t Diabetic ketoacidosis without coma associated with diabetes mellitus due to underlying condition (CMS-HCC) & 12 & 2.27\\\\\n",
       "\\end{tabular}\n"
      ],
      "text/markdown": [
       "\n",
       "A tibble: 20 × 3\n",
       "\n",
       "| dx_name &lt;chr&gt; | n &lt;int&gt; | perc &lt;dbl&gt; |\n",
       "|---|---|---|\n",
       "| Diabetic ketoacidosis without coma associated with type 1 diabetes mellitus (CMS-HCC)                      | 37 | 6.99 |\n",
       "| Septic shock (CMS-HCC)                                                                                     | 27 | 5.10 |\n",
       "| ST elevation myocardial infarction (STEMI), unspecified artery (CMS-HCC)                                   | 27 | 5.10 |\n",
       "| Sepsis, due to unspecified organism                                                                        | 26 | 4.91 |\n",
       "| Hyperkalemia                                                                                               | 25 | 4.73 |\n",
       "| Severe sepsis (CMS-HCC)                                                                                    | 25 | 4.73 |\n",
       "| Subdural hematoma (CMS-HCC)                                                                                | 24 | 4.54 |\n",
       "| Pneumonia due to organism                                                                                  | 24 | 4.54 |\n",
       "| Hyponatremia                                                                                               | 20 | 3.78 |\n",
       "| Acute GI bleeding                                                                                          | 19 | 3.59 |\n",
       "| SAH (subarachnoid hemorrhage) (CMS-HCC)                                                                    | 16 | 3.02 |\n",
       "| Non-ST elevation myocardial infarction (NSTEMI) (CMS-HCC)                                                  | 16 | 3.02 |\n",
       "| Closed fracture of multiple ribs of left side, initial encounter                                           | 14 | 2.65 |\n",
       "| Altered mental status, unspecified altered mental status type                                              | 14 | 2.65 |\n",
       "| Diabetic ketoacidosis without coma associated with type 2 diabetes mellitus (CMS-HCC)                      | 14 | 2.65 |\n",
       "| Closed fracture of multiple ribs of right side, initial encounter                                          | 14 | 2.65 |\n",
       "| Hypoxia                                                                                                    | 14 | 2.65 |\n",
       "| Acute chest pain                                                                                           | 13 | 2.46 |\n",
       "| COPD with acute exacerbation (CMS-HCC)                                                                     | 13 | 2.46 |\n",
       "| Diabetic ketoacidosis without coma associated with diabetes mellitus due to underlying condition (CMS-HCC) | 12 | 2.27 |\n",
       "\n"
      ],
      "text/plain": [
       "   dx_name                                                                                                   \n",
       "1  Diabetic ketoacidosis without coma associated with type 1 diabetes mellitus (CMS-HCC)                     \n",
       "2  Septic shock (CMS-HCC)                                                                                    \n",
       "3  ST elevation myocardial infarction (STEMI), unspecified artery (CMS-HCC)                                  \n",
       "4  Sepsis, due to unspecified organism                                                                       \n",
       "5  Hyperkalemia                                                                                              \n",
       "6  Severe sepsis (CMS-HCC)                                                                                   \n",
       "7  Subdural hematoma (CMS-HCC)                                                                               \n",
       "8  Pneumonia due to organism                                                                                 \n",
       "9  Hyponatremia                                                                                              \n",
       "10 Acute GI bleeding                                                                                         \n",
       "11 SAH (subarachnoid hemorrhage) (CMS-HCC)                                                                   \n",
       "12 Non-ST elevation myocardial infarction (NSTEMI) (CMS-HCC)                                                 \n",
       "13 Closed fracture of multiple ribs of left side, initial encounter                                          \n",
       "14 Altered mental status, unspecified altered mental status type                                             \n",
       "15 Diabetic ketoacidosis without coma associated with type 2 diabetes mellitus (CMS-HCC)                     \n",
       "16 Closed fracture of multiple ribs of right side, initial encounter                                         \n",
       "17 Hypoxia                                                                                                   \n",
       "18 Acute chest pain                                                                                          \n",
       "19 COPD with acute exacerbation (CMS-HCC)                                                                    \n",
       "20 Diabetic ketoacidosis without coma associated with diabetes mellitus due to underlying condition (CMS-HCC)\n",
       "   n  perc\n",
       "1  37 6.99\n",
       "2  27 5.10\n",
       "3  27 5.10\n",
       "4  26 4.91\n",
       "5  25 4.73\n",
       "6  25 4.73\n",
       "7  24 4.54\n",
       "8  24 4.54\n",
       "9  20 3.78\n",
       "10 19 3.59\n",
       "11 16 3.02\n",
       "12 16 3.02\n",
       "13 14 2.65\n",
       "14 14 2.65\n",
       "15 14 2.65\n",
       "16 14 2.65\n",
       "17 14 2.65\n",
       "18 13 2.46\n",
       "19 13 2.46\n",
       "20 12 2.27"
      ]
     },
     "metadata": {},
     "output_type": "display_data"
    }
   ],
   "source": [
    "x4 %>% mutate(perc = round(100*n/nrow(x4), 2)) %>% arrange(-n) %>% head(20)"
   ]
  }
 ],
 "metadata": {
  "environment": {
   "name": "r-cpu.4-0.m71",
   "type": "gcloud",
   "uri": "gcr.io/deeplearning-platform-release/r-cpu.4-0:m71"
  },
  "kernelspec": {
   "display_name": "R",
   "language": "R",
   "name": "ir"
  },
  "language_info": {
   "codemirror_mode": "r",
   "file_extension": ".r",
   "mimetype": "text/x-r-source",
   "name": "R",
   "pygments_lexer": "r",
   "version": "4.0.3"
  },
  "toc": {
   "base_numbering": 1,
   "nav_menu": {},
   "number_sections": true,
   "sideBar": true,
   "skip_h1_title": false,
   "title_cell": "Table of Contents",
   "title_sidebar": "Contents",
   "toc_cell": false,
   "toc_position": {},
   "toc_section_display": true,
   "toc_window_display": false
  },
  "varInspector": {
   "cols": {
    "lenName": 16,
    "lenType": 16,
    "lenVar": 40
   },
   "kernels_config": {
    "python": {
     "delete_cmd_postfix": "",
     "delete_cmd_prefix": "del ",
     "library": "var_list.py",
     "varRefreshCmd": "print(var_dic_list())"
    },
    "r": {
     "delete_cmd_postfix": ") ",
     "delete_cmd_prefix": "rm(",
     "library": "var_list.r",
     "varRefreshCmd": "cat(var_dic_list()) "
    }
   },
   "types_to_exclude": [
    "module",
    "function",
    "builtin_function_or_method",
    "instance",
    "_Feature"
   ],
   "window_display": false
  }
 },
 "nbformat": 4,
 "nbformat_minor": 4
}
