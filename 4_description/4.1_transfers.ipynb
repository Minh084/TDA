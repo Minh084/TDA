{
 "cells": [
  {
   "cell_type": "markdown",
   "metadata": {},
   "source": [
    "## Descriptions:\n",
    "- Query other tables on shc\n",
    "- Some bigger queries cannot be done in this notebook. use separate SQL file in python instead\n",
    "- Check the characteristics of the transfer cohort, compared to the full cohort\n",
    "\n",
    "**Inputs**:  1120 total transfers\n",
    "    \n",
    "**Outputs**: \n"
   ]
  },
  {
   "cell_type": "raw",
   "metadata": {},
   "source": [
    "install.packages('bigrquery')\n",
    "# Installing package into 'C:/Users/User/Documents/R/win-library/4.0'\n",
    "# (as 'lib' is unspecified)\n",
    "# The downloaded binary packages are in\n",
    "# \tC:\\Users\\User\\AppData\\Local\\Temp\\RtmpaumGcc\\downloaded_packages"
   ]
  },
  {
   "cell_type": "markdown",
   "metadata": {},
   "source": [
    "### Importing R libraries"
   ]
  },
  {
   "cell_type": "code",
   "execution_count": 3,
   "metadata": {
    "ExecuteTime": {
     "end_time": "2020-05-21T00:38:06.078240Z",
     "start_time": "2020-05-21T00:38:02.778Z"
    }
   },
   "outputs": [],
   "source": [
    "library(bigrquery)  # to query STARR-OMOP (stored in BigQuery) using SQL\n",
    "library(tidyverse)\n",
    "library(lubridate)\n",
    "\n",
    "# options(repr.matrix.max.rows=250, repr.matrix.max.cols=30)"
   ]
  },
  {
   "cell_type": "markdown",
   "metadata": {},
   "source": [
    "### Set up and run queries"
   ]
  },
  {
   "cell_type": "code",
   "execution_count": 2,
   "metadata": {},
   "outputs": [
    {
     "data": {
      "text/plain": [
       "NULL"
      ]
     },
     "metadata": {},
     "output_type": "display_data"
    }
   ],
   "source": [
    "# CREDENTIALS depending on LOCATIONS:\n",
    "# credential <- paste0(\"/home/\", \"minh084\", \"/.config/gcloud/application_default_credentials.json\")\n",
    "\n",
    "# local computer\n",
    "# credential <- \"C:/Users/User/AppData/Roaming/gcloud/application_default_credentials.json\"\n",
    "\n",
    "# Nero onprem\n",
    "# credential <- \"/home/minh084/.config/gcloud/application_default_credentials.json\"\n",
    "\n",
    "# Nero gcp notebook\n",
    "credential <- \"/home/jupyter/.config/gcloud/application_default_credentials.json\"\n",
    "\n",
    "project_id <- \"som-nero-phi-jonc101\"\n",
    "\n",
    "Sys.setenv(GOOGLE_APPLICATION_CREDENTIALS = credential)\n",
    "Sys.setenv(GCLOUD_PROJECT = project_id)\n",
    "gargle::credentials_app_default()"
   ]
  },
  {
   "cell_type": "code",
   "execution_count": 3,
   "metadata": {},
   "outputs": [
    {
     "data": {
      "text/plain": [
       "<BigQueryConnection>\n",
       "  Dataset: som-nero-phi-jonc101.shc_core\n",
       "  Billing: som-nero-phi-jonc101"
      ]
     },
     "metadata": {},
     "output_type": "display_data"
    },
    {
     "data": {
      "text/html": [
       "<style>\n",
       ".list-inline {list-style: none; margin:0; padding: 0}\n",
       ".list-inline>li {display: inline-block}\n",
       ".list-inline>li:not(:last-child)::after {content: \"\\00b7\"; padding: 0 .5ex}\n",
       "</style>\n",
       "<ol class=list-inline><li>'adt'</li><li>'allergy'</li><li>'culture_sensitivity'</li><li>'demographic'</li><li>'dep_map'</li><li>'diagnosis_code'</li><li>'drg_code'</li><li>'encounter'</li><li>'family_hx'</li><li>'flowsheet'</li><li>'lab_result'</li><li>'lda'</li><li>'mapped_meds'</li><li>'mar'</li><li>'med_orderset'</li><li>'ndc_code'</li><li>'order_med'</li><li>'order_proc'</li><li>'order_quest'</li><li>'proc_note'</li><li>'proc_orderset'</li><li>'procedure_code'</li><li>'prov_map'</li><li>'social_hx'</li><li>'treatment_team'</li></ol>\n"
      ],
      "text/latex": [
       "\\begin{enumerate*}\n",
       "\\item 'adt'\n",
       "\\item 'allergy'\n",
       "\\item 'culture\\_sensitivity'\n",
       "\\item 'demographic'\n",
       "\\item 'dep\\_map'\n",
       "\\item 'diagnosis\\_code'\n",
       "\\item 'drg\\_code'\n",
       "\\item 'encounter'\n",
       "\\item 'family\\_hx'\n",
       "\\item 'flowsheet'\n",
       "\\item 'lab\\_result'\n",
       "\\item 'lda'\n",
       "\\item 'mapped\\_meds'\n",
       "\\item 'mar'\n",
       "\\item 'med\\_orderset'\n",
       "\\item 'ndc\\_code'\n",
       "\\item 'order\\_med'\n",
       "\\item 'order\\_proc'\n",
       "\\item 'order\\_quest'\n",
       "\\item 'proc\\_note'\n",
       "\\item 'proc\\_orderset'\n",
       "\\item 'procedure\\_code'\n",
       "\\item 'prov\\_map'\n",
       "\\item 'social\\_hx'\n",
       "\\item 'treatment\\_team'\n",
       "\\end{enumerate*}\n"
      ],
      "text/markdown": [
       "1. 'adt'\n",
       "2. 'allergy'\n",
       "3. 'culture_sensitivity'\n",
       "4. 'demographic'\n",
       "5. 'dep_map'\n",
       "6. 'diagnosis_code'\n",
       "7. 'drg_code'\n",
       "8. 'encounter'\n",
       "9. 'family_hx'\n",
       "10. 'flowsheet'\n",
       "11. 'lab_result'\n",
       "12. 'lda'\n",
       "13. 'mapped_meds'\n",
       "14. 'mar'\n",
       "15. 'med_orderset'\n",
       "16. 'ndc_code'\n",
       "17. 'order_med'\n",
       "18. 'order_proc'\n",
       "19. 'order_quest'\n",
       "20. 'proc_note'\n",
       "21. 'proc_orderset'\n",
       "22. 'procedure_code'\n",
       "23. 'prov_map'\n",
       "24. 'social_hx'\n",
       "25. 'treatment_team'\n",
       "\n",
       "\n"
      ],
      "text/plain": [
       " [1] \"adt\"                 \"allergy\"             \"culture_sensitivity\"\n",
       " [4] \"demographic\"         \"dep_map\"             \"diagnosis_code\"     \n",
       " [7] \"drg_code\"            \"encounter\"           \"family_hx\"          \n",
       "[10] \"flowsheet\"           \"lab_result\"          \"lda\"                \n",
       "[13] \"mapped_meds\"         \"mar\"                 \"med_orderset\"       \n",
       "[16] \"ndc_code\"            \"order_med\"           \"order_proc\"         \n",
       "[19] \"order_quest\"         \"proc_note\"           \"proc_orderset\"      \n",
       "[22] \"procedure_code\"      \"prov_map\"            \"social_hx\"          \n",
       "[25] \"treatment_team\"     "
      ]
     },
     "metadata": {},
     "output_type": "display_data"
    }
   ],
   "source": [
    "library(DBI)\n",
    "con <- dbConnect(\n",
    "  bigrquery::bigquery(),\n",
    "  project = project_id,\n",
    "  dataset = \"shc_core\" #, billing = project_id\n",
    ")\n",
    "con \n",
    "dbListTables(con)"
   ]
  },
  {
   "cell_type": "code",
   "execution_count": 4,
   "metadata": {},
   "outputs": [],
   "source": [
    "# directories\n",
    "datadir = \"../../DataTD\"\n",
    "cohortdir = \"../../OutputTD/1_cohort\"\n",
    "featuredir = \"../../OutputTD/2_features\"\n",
    "modeldir4 = \"../../OutputTD/3_models/1_4_cohort\"\n",
    "# modeldir4preadmit = \"../../OutputTD/3_models/1_4_cohort_24hrpreadmit\"\n",
    "\n",
    "options(repr.matrix.max.rows=200, repr.matrix.max.cols=30)"
   ]
  },
  {
   "cell_type": "code",
   "execution_count": 5,
   "metadata": {},
   "outputs": [
    {
     "data": {
      "text/html": [
       "1120"
      ],
      "text/latex": [
       "1120"
      ],
      "text/markdown": [
       "1120"
      ],
      "text/plain": [
       "[1] 1120"
      ]
     },
     "metadata": {},
     "output_type": "display_data"
    },
    {
     "data": {
      "text/html": [
       "1085"
      ],
      "text/latex": [
       "1085"
      ],
      "text/markdown": [
       "1085"
      ],
      "text/plain": [
       "[1] 1085"
      ]
     },
     "metadata": {},
     "output_type": "display_data"
    },
    {
     "data": {
      "text/html": [
       "1120"
      ],
      "text/latex": [
       "1120"
      ],
      "text/markdown": [
       "1120"
      ],
      "text/plain": [
       "[1] 1120"
      ]
     },
     "metadata": {},
     "output_type": "display_data"
    }
   ],
   "source": [
    "# cohort transfers\n",
    "cohort <- read.csv(file.path(cohortdir, \"1_4_cohort.csv\")) %>% filter(first_label != death_24hr_max_label)\n",
    "\n",
    "nrow(cohort) # 1120\n",
    "nrow(cohort %>% select(anon_id) %>% distinct()) # 1085\n",
    "nrow(cohort %>% select(pat_enc_csn_id_coded) %>% distinct()) # 1123"
   ]
  },
  {
   "cell_type": "code",
   "execution_count": 6,
   "metadata": {},
   "outputs": [
    {
     "data": {
      "text/html": [
       "<table class=\"dataframe\">\n",
       "<caption>A data.frame: 1 × 17</caption>\n",
       "<thead>\n",
       "\t<tr><th></th><th scope=col>anon_id</th><th scope=col>pat_enc_csn_id_coded</th><th scope=col>inpatient_data_id_coded</th><th scope=col>admit_time</th><th scope=col>label_max24</th><th scope=col>label_24hr_recent</th><th scope=col>admit_label</th><th scope=col>has_admit_label</th><th scope=col>died_within_24hrs</th><th scope=col>death_24hr_max_label</th><th scope=col>death_24hr_recent_label</th><th scope=col>first_label</th><th scope=col>first_label_minutes_since_admit</th><th scope=col>acute_to_critical_label_recent</th><th scope=col>critical_to_acute_label_recent</th><th scope=col>acute_to_critical_label_max</th><th scope=col>critical_to_acute_label_max</th></tr>\n",
       "\t<tr><th></th><th scope=col>&lt;chr&gt;</th><th scope=col>&lt;dbl&gt;</th><th scope=col>&lt;int&gt;</th><th scope=col>&lt;chr&gt;</th><th scope=col>&lt;int&gt;</th><th scope=col>&lt;int&gt;</th><th scope=col>&lt;int&gt;</th><th scope=col>&lt;int&gt;</th><th scope=col>&lt;int&gt;</th><th scope=col>&lt;int&gt;</th><th scope=col>&lt;int&gt;</th><th scope=col>&lt;int&gt;</th><th scope=col>&lt;dbl&gt;</th><th scope=col>&lt;int&gt;</th><th scope=col>&lt;int&gt;</th><th scope=col>&lt;int&gt;</th><th scope=col>&lt;int&gt;</th></tr>\n",
       "</thead>\n",
       "<tbody>\n",
       "\t<tr><th scope=row>1</th><td>JCdf010a</td><td>131282861801</td><td>45762025</td><td>2020-03-04 03:38:00+00:00</td><td>1</td><td>1</td><td>0</td><td>1</td><td>0</td><td>1</td><td>1</td><td>0</td><td>0</td><td>1</td><td>0</td><td>1</td><td>0</td></tr>\n",
       "</tbody>\n",
       "</table>\n"
      ],
      "text/latex": [
       "A data.frame: 1 × 17\n",
       "\\begin{tabular}{r|lllllllllllllllll}\n",
       "  & anon\\_id & pat\\_enc\\_csn\\_id\\_coded & inpatient\\_data\\_id\\_coded & admit\\_time & label\\_max24 & label\\_24hr\\_recent & admit\\_label & has\\_admit\\_label & died\\_within\\_24hrs & death\\_24hr\\_max\\_label & death\\_24hr\\_recent\\_label & first\\_label & first\\_label\\_minutes\\_since\\_admit & acute\\_to\\_critical\\_label\\_recent & critical\\_to\\_acute\\_label\\_recent & acute\\_to\\_critical\\_label\\_max & critical\\_to\\_acute\\_label\\_max\\\\\n",
       "  & <chr> & <dbl> & <int> & <chr> & <int> & <int> & <int> & <int> & <int> & <int> & <int> & <int> & <dbl> & <int> & <int> & <int> & <int>\\\\\n",
       "\\hline\n",
       "\t1 & JCdf010a & 131282861801 & 45762025 & 2020-03-04 03:38:00+00:00 & 1 & 1 & 0 & 1 & 0 & 1 & 1 & 0 & 0 & 1 & 0 & 1 & 0\\\\\n",
       "\\end{tabular}\n"
      ],
      "text/markdown": [
       "\n",
       "A data.frame: 1 × 17\n",
       "\n",
       "| <!--/--> | anon_id &lt;chr&gt; | pat_enc_csn_id_coded &lt;dbl&gt; | inpatient_data_id_coded &lt;int&gt; | admit_time &lt;chr&gt; | label_max24 &lt;int&gt; | label_24hr_recent &lt;int&gt; | admit_label &lt;int&gt; | has_admit_label &lt;int&gt; | died_within_24hrs &lt;int&gt; | death_24hr_max_label &lt;int&gt; | death_24hr_recent_label &lt;int&gt; | first_label &lt;int&gt; | first_label_minutes_since_admit &lt;dbl&gt; | acute_to_critical_label_recent &lt;int&gt; | critical_to_acute_label_recent &lt;int&gt; | acute_to_critical_label_max &lt;int&gt; | critical_to_acute_label_max &lt;int&gt; |\n",
       "|---|---|---|---|---|---|---|---|---|---|---|---|---|---|---|---|---|---|\n",
       "| 1 | JCdf010a | 131282861801 | 45762025 | 2020-03-04 03:38:00+00:00 | 1 | 1 | 0 | 1 | 0 | 1 | 1 | 0 | 0 | 1 | 0 | 1 | 0 |\n",
       "\n"
      ],
      "text/plain": [
       "  anon_id  pat_enc_csn_id_coded inpatient_data_id_coded\n",
       "1 JCdf010a 131282861801         45762025               \n",
       "  admit_time                label_max24 label_24hr_recent admit_label\n",
       "1 2020-03-04 03:38:00+00:00 1           1                 0          \n",
       "  has_admit_label died_within_24hrs death_24hr_max_label\n",
       "1 1               0                 1                   \n",
       "  death_24hr_recent_label first_label first_label_minutes_since_admit\n",
       "1 1                       0           0                              \n",
       "  acute_to_critical_label_recent critical_to_acute_label_recent\n",
       "1 1                              0                             \n",
       "  acute_to_critical_label_max critical_to_acute_label_max\n",
       "1 1                           0                          "
      ]
     },
     "metadata": {},
     "output_type": "display_data"
    },
    {
     "data": {
      "text/html": [
       "<style>\n",
       ".list-inline {list-style: none; margin:0; padding: 0}\n",
       ".list-inline>li {display: inline-block}\n",
       ".list-inline>li:not(:last-child)::after {content: \"\\00b7\"; padding: 0 .5ex}\n",
       "</style>\n",
       "<ol class=list-inline><li>'anon_id'</li><li>'pat_enc_csn_id_coded'</li><li>'inpatient_data_id_coded'</li><li>'admit_time'</li><li>'label_max24'</li><li>'label_24hr_recent'</li><li>'admit_label'</li><li>'has_admit_label'</li><li>'died_within_24hrs'</li><li>'death_24hr_max_label'</li><li>'death_24hr_recent_label'</li><li>'first_label'</li><li>'first_label_minutes_since_admit'</li><li>'acute_to_critical_label_recent'</li><li>'critical_to_acute_label_recent'</li><li>'acute_to_critical_label_max'</li><li>'critical_to_acute_label_max'</li></ol>\n"
      ],
      "text/latex": [
       "\\begin{enumerate*}\n",
       "\\item 'anon\\_id'\n",
       "\\item 'pat\\_enc\\_csn\\_id\\_coded'\n",
       "\\item 'inpatient\\_data\\_id\\_coded'\n",
       "\\item 'admit\\_time'\n",
       "\\item 'label\\_max24'\n",
       "\\item 'label\\_24hr\\_recent'\n",
       "\\item 'admit\\_label'\n",
       "\\item 'has\\_admit\\_label'\n",
       "\\item 'died\\_within\\_24hrs'\n",
       "\\item 'death\\_24hr\\_max\\_label'\n",
       "\\item 'death\\_24hr\\_recent\\_label'\n",
       "\\item 'first\\_label'\n",
       "\\item 'first\\_label\\_minutes\\_since\\_admit'\n",
       "\\item 'acute\\_to\\_critical\\_label\\_recent'\n",
       "\\item 'critical\\_to\\_acute\\_label\\_recent'\n",
       "\\item 'acute\\_to\\_critical\\_label\\_max'\n",
       "\\item 'critical\\_to\\_acute\\_label\\_max'\n",
       "\\end{enumerate*}\n"
      ],
      "text/markdown": [
       "1. 'anon_id'\n",
       "2. 'pat_enc_csn_id_coded'\n",
       "3. 'inpatient_data_id_coded'\n",
       "4. 'admit_time'\n",
       "5. 'label_max24'\n",
       "6. 'label_24hr_recent'\n",
       "7. 'admit_label'\n",
       "8. 'has_admit_label'\n",
       "9. 'died_within_24hrs'\n",
       "10. 'death_24hr_max_label'\n",
       "11. 'death_24hr_recent_label'\n",
       "12. 'first_label'\n",
       "13. 'first_label_minutes_since_admit'\n",
       "14. 'acute_to_critical_label_recent'\n",
       "15. 'critical_to_acute_label_recent'\n",
       "16. 'acute_to_critical_label_max'\n",
       "17. 'critical_to_acute_label_max'\n",
       "\n",
       "\n"
      ],
      "text/plain": [
       " [1] \"anon_id\"                         \"pat_enc_csn_id_coded\"           \n",
       " [3] \"inpatient_data_id_coded\"         \"admit_time\"                     \n",
       " [5] \"label_max24\"                     \"label_24hr_recent\"              \n",
       " [7] \"admit_label\"                     \"has_admit_label\"                \n",
       " [9] \"died_within_24hrs\"               \"death_24hr_max_label\"           \n",
       "[11] \"death_24hr_recent_label\"         \"first_label\"                    \n",
       "[13] \"first_label_minutes_since_admit\" \"acute_to_critical_label_recent\" \n",
       "[15] \"critical_to_acute_label_recent\"  \"acute_to_critical_label_max\"    \n",
       "[17] \"critical_to_acute_label_max\"    "
      ]
     },
     "metadata": {},
     "output_type": "display_data"
    }
   ],
   "source": [
    "head(cohort, 1)\n",
    "colnames(cohort)"
   ]
  },
  {
   "cell_type": "markdown",
   "metadata": {},
   "source": [
    "### ADT table"
   ]
  },
  {
   "cell_type": "raw",
   "metadata": {},
   "source": [
    "q = \"\n",
    "SELECT c.anon_id, c.pat_enc_csn_id_coded, c.admit_time, c.first_label, c.death_24hr_recent_label, c.death_24hr_max_label,\n",
    "    adt.event_type_c, adt.event_type, adt.pat_class_c, adt.pat_class, adt.base_pat_class_c, adt.base_pat_class,\n",
    "    adt.pat_service_c, adt.pat_service, adt.pat_lvl_of_care_c, adt.pat_lv_of_care, adt.accommodation_c, adt.accomodation, \n",
    "    adt.in_event_type_c, adt.in_event_type, adt.out_event_type_c, adt.out_event_type, adt.from_base_class_c, adt.from_base_class,\n",
    "    adt.to_base_class_c, adt.to_base_class, adt.seq_num_in_enc, adt.seq_num_in_bed_min\n",
    "FROM \n",
    "    `som-nero-phi-jonc101.triageTD.1_4_cohort` as c\n",
    "JOIN \n",
    "    `som-nero-phi-jonc101.shc_core.adt` as adt\n",
    "ON \n",
    "    (c.anon_id = adt.anon_id and c.pat_enc_csn_id_coded = adt.pat_enc_csn_id_coded)\n",
    "WHERE\n",
    "    c.first_label != c.death_24hr_recent_label\n",
    "\"\n",
    "# submit the query:\n",
    "update.packages('Rcpp')\n",
    "df <- dbGetQuery(con, q)\n",
    "dim(df)\n",
    "colnames(df)"
   ]
  },
  {
   "cell_type": "raw",
   "metadata": {},
   "source": [
    "write.csv(df, file.path(datadir, \"4_1_tx_adt.csv\"), row.names=FALSE)"
   ]
  },
  {
   "cell_type": "code",
   "execution_count": 25,
   "metadata": {},
   "outputs": [
    {
     "name": "stderr",
     "output_type": "stream",
     "text": [
      "Warning message in as.integer.integer64(x):\n",
      "“NAs produced by integer overflow”\n"
     ]
    },
    {
     "data": {
      "text/html": [
       "<style>\n",
       ".list-inline {list-style: none; margin:0; padding: 0}\n",
       ".list-inline>li {display: inline-block}\n",
       ".list-inline>li:not(:last-child)::after {content: \"\\00b7\"; padding: 0 .5ex}\n",
       "</style>\n",
       "<ol class=list-inline><li>43980</li><li>6</li></ol>\n"
      ],
      "text/latex": [
       "\\begin{enumerate*}\n",
       "\\item 43980\n",
       "\\item 6\n",
       "\\end{enumerate*}\n"
      ],
      "text/markdown": [
       "1. 43980\n",
       "2. 6\n",
       "\n",
       "\n"
      ],
      "text/plain": [
       "[1] 43980     6"
      ]
     },
     "metadata": {},
     "output_type": "display_data"
    },
    {
     "data": {
      "text/html": [
       "<style>\n",
       ".list-inline {list-style: none; margin:0; padding: 0}\n",
       ".list-inline>li {display: inline-block}\n",
       ".list-inline>li:not(:last-child)::after {content: \"\\00b7\"; padding: 0 .5ex}\n",
       "</style>\n",
       "<ol class=list-inline><li>'anon_id'</li><li>'pat_enc_csn_id_coded'</li><li>'INTRPTR_NEEDED_YN'</li><li>'CHARLSON_SCORE'</li><li>'N_HOSPITALIZATIONS'</li><li>'DAYS_IN_HOSPITAL'</li></ol>\n"
      ],
      "text/latex": [
       "\\begin{enumerate*}\n",
       "\\item 'anon\\_id'\n",
       "\\item 'pat\\_enc\\_csn\\_id\\_coded'\n",
       "\\item 'INTRPTR\\_NEEDED\\_YN'\n",
       "\\item 'CHARLSON\\_SCORE'\n",
       "\\item 'N\\_HOSPITALIZATIONS'\n",
       "\\item 'DAYS\\_IN\\_HOSPITAL'\n",
       "\\end{enumerate*}\n"
      ],
      "text/markdown": [
       "1. 'anon_id'\n",
       "2. 'pat_enc_csn_id_coded'\n",
       "3. 'INTRPTR_NEEDED_YN'\n",
       "4. 'CHARLSON_SCORE'\n",
       "5. 'N_HOSPITALIZATIONS'\n",
       "6. 'DAYS_IN_HOSPITAL'\n",
       "\n",
       "\n"
      ],
      "text/plain": [
       "[1] \"anon_id\"              \"pat_enc_csn_id_coded\" \"INTRPTR_NEEDED_YN\"   \n",
       "[4] \"CHARLSON_SCORE\"       \"N_HOSPITALIZATIONS\"   \"DAYS_IN_HOSPITAL\"    "
      ]
     },
     "metadata": {},
     "output_type": "display_data"
    }
   ],
   "source": [
    "# full cohort\n",
    "q = \"\n",
    "SELECT distinct c.anon_id, c.pat_enc_csn_id_coded, \n",
    "    x.INTRPTR_NEEDED_YN, x.CHARLSON_SCORE, x.N_HOSPITALIZATIONS, x.DAYS_IN_HOSPITAL\n",
    "FROM \n",
    "    `som-nero-phi-jonc101.triageTD.1_4_cohort` as c\n",
    "JOIN \n",
    "    `som-nero-phi-jonc101.shc_core.demographic` as x\n",
    "ON \n",
    "    (c.anon_id = x.anon_id)\n",
    "\"\n",
    "# submit the query:\n",
    "update.packages('Rcpp')\n",
    "x1 <- dbGetQuery(con, q)\n",
    "dim(x1)\n",
    "colnames(x1)"
   ]
  },
  {
   "cell_type": "code",
   "execution_count": 26,
   "metadata": {},
   "outputs": [
    {
     "data": {
      "text/html": [
       "<table class=\"dataframe\">\n",
       "<caption>A tibble: 3 × 3</caption>\n",
       "<thead>\n",
       "\t<tr><th scope=col>INTRPTR_NEEDED_YN</th><th scope=col>n</th><th scope=col>perc</th></tr>\n",
       "\t<tr><th scope=col>&lt;lgl&gt;</th><th scope=col>&lt;int&gt;</th><th scope=col>&lt;dbl&gt;</th></tr>\n",
       "</thead>\n",
       "<tbody>\n",
       "\t<tr><td>FALSE</td><td>37817</td><td>85.98681219</td></tr>\n",
       "\t<tr><td> TRUE</td><td> 6121</td><td>13.91768986</td></tr>\n",
       "\t<tr><td>   NA</td><td>   42</td><td> 0.09549795</td></tr>\n",
       "</tbody>\n",
       "</table>\n"
      ],
      "text/latex": [
       "A tibble: 3 × 3\n",
       "\\begin{tabular}{lll}\n",
       " INTRPTR\\_NEEDED\\_YN & n & perc\\\\\n",
       " <lgl> & <int> & <dbl>\\\\\n",
       "\\hline\n",
       "\t FALSE & 37817 & 85.98681219\\\\\n",
       "\t  TRUE &  6121 & 13.91768986\\\\\n",
       "\t    NA &    42 &  0.09549795\\\\\n",
       "\\end{tabular}\n"
      ],
      "text/markdown": [
       "\n",
       "A tibble: 3 × 3\n",
       "\n",
       "| INTRPTR_NEEDED_YN &lt;lgl&gt; | n &lt;int&gt; | perc &lt;dbl&gt; |\n",
       "|---|---|---|\n",
       "| FALSE | 37817 | 85.98681219 |\n",
       "|  TRUE |  6121 | 13.91768986 |\n",
       "|    NA |    42 |  0.09549795 |\n",
       "\n"
      ],
      "text/plain": [
       "  INTRPTR_NEEDED_YN n     perc       \n",
       "1 FALSE             37817 85.98681219\n",
       "2  TRUE              6121 13.91768986\n",
       "3    NA                42  0.09549795"
      ]
     },
     "metadata": {},
     "output_type": "display_data"
    }
   ],
   "source": [
    "x1 %>% count(INTRPTR_NEEDED_YN) %>% mutate(perc = 100* n/nrow(x1))"
   ]
  },
  {
   "cell_type": "code",
   "execution_count": 26,
   "metadata": {},
   "outputs": [
    {
     "name": "stderr",
     "output_type": "stream",
     "text": [
      "Warning message in as.integer.integer64(x):\n",
      "“NAs produced by integer overflow”\n"
     ]
    },
    {
     "data": {
      "text/html": [
       "<style>\n",
       ".list-inline {list-style: none; margin:0; padding: 0}\n",
       ".list-inline>li {display: inline-block}\n",
       ".list-inline>li:not(:last-child)::after {content: \"\\00b7\"; padding: 0 .5ex}\n",
       "</style>\n",
       "<ol class=list-inline><li>2499</li><li>6</li></ol>\n"
      ],
      "text/latex": [
       "\\begin{enumerate*}\n",
       "\\item 2499\n",
       "\\item 6\n",
       "\\end{enumerate*}\n"
      ],
      "text/markdown": [
       "1. 2499\n",
       "2. 6\n",
       "\n",
       "\n"
      ],
      "text/plain": [
       "[1] 2499    6"
      ]
     },
     "metadata": {},
     "output_type": "display_data"
    },
    {
     "data": {
      "text/html": [
       "<style>\n",
       ".list-inline {list-style: none; margin:0; padding: 0}\n",
       ".list-inline>li {display: inline-block}\n",
       ".list-inline>li:not(:last-child)::after {content: \"\\00b7\"; padding: 0 .5ex}\n",
       "</style>\n",
       "<ol class=list-inline><li>'anon_id'</li><li>'pat_enc_csn_id_coded'</li><li>'INTRPTR_NEEDED_YN'</li><li>'CHARLSON_SCORE'</li><li>'N_HOSPITALIZATIONS'</li><li>'DAYS_IN_HOSPITAL'</li></ol>\n"
      ],
      "text/latex": [
       "\\begin{enumerate*}\n",
       "\\item 'anon\\_id'\n",
       "\\item 'pat\\_enc\\_csn\\_id\\_coded'\n",
       "\\item 'INTRPTR\\_NEEDED\\_YN'\n",
       "\\item 'CHARLSON\\_SCORE'\n",
       "\\item 'N\\_HOSPITALIZATIONS'\n",
       "\\item 'DAYS\\_IN\\_HOSPITAL'\n",
       "\\end{enumerate*}\n"
      ],
      "text/markdown": [
       "1. 'anon_id'\n",
       "2. 'pat_enc_csn_id_coded'\n",
       "3. 'INTRPTR_NEEDED_YN'\n",
       "4. 'CHARLSON_SCORE'\n",
       "5. 'N_HOSPITALIZATIONS'\n",
       "6. 'DAYS_IN_HOSPITAL'\n",
       "\n",
       "\n"
      ],
      "text/plain": [
       "[1] \"anon_id\"              \"pat_enc_csn_id_coded\" \"INTRPTR_NEEDED_YN\"   \n",
       "[4] \"CHARLSON_SCORE\"       \"N_HOSPITALIZATIONS\"   \"DAYS_IN_HOSPITAL\"    "
      ]
     },
     "metadata": {},
     "output_type": "display_data"
    }
   ],
   "source": [
    "q = \"\n",
    "SELECT distinct c.anon_id, c.pat_enc_csn_id_coded, \n",
    "    x.INTRPTR_NEEDED_YN, x.CHARLSON_SCORE, x.N_HOSPITALIZATIONS, x.DAYS_IN_HOSPITAL\n",
    "FROM \n",
    "    `som-nero-phi-jonc101.triageTD.1_4_cohort` as c\n",
    "JOIN \n",
    "    `som-nero-phi-jonc101.shc_core.demographic` as x\n",
    "ON \n",
    "    (c.anon_id = x.anon_id)\n",
    "WHERE\n",
    "    c.first_label != c.death_24hr_recent_label\n",
    "\"\n",
    "# submit the query:\n",
    "update.packages('Rcpp')\n",
    "x1 <- dbGetQuery(con, q)\n",
    "dim(x1)\n",
    "colnames(x1)"
   ]
  },
  {
   "cell_type": "code",
   "execution_count": 28,
   "metadata": {},
   "outputs": [
    {
     "data": {
      "text/html": [
       "<table class=\"dataframe\">\n",
       "<caption>A tibble: 3 × 3</caption>\n",
       "<thead>\n",
       "\t<tr><th scope=col>INTRPTR_NEEDED_YN</th><th scope=col>n</th><th scope=col>perc</th></tr>\n",
       "\t<tr><th scope=col>&lt;lgl&gt;</th><th scope=col>&lt;int&gt;</th><th scope=col>&lt;dbl&gt;</th></tr>\n",
       "</thead>\n",
       "<tbody>\n",
       "\t<tr><td>FALSE</td><td>2166</td><td>86.67466987</td></tr>\n",
       "\t<tr><td> TRUE</td><td> 332</td><td>13.28531413</td></tr>\n",
       "\t<tr><td>   NA</td><td>   1</td><td> 0.04001601</td></tr>\n",
       "</tbody>\n",
       "</table>\n"
      ],
      "text/latex": [
       "A tibble: 3 × 3\n",
       "\\begin{tabular}{lll}\n",
       " INTRPTR\\_NEEDED\\_YN & n & perc\\\\\n",
       " <lgl> & <int> & <dbl>\\\\\n",
       "\\hline\n",
       "\t FALSE & 2166 & 86.67466987\\\\\n",
       "\t  TRUE &  332 & 13.28531413\\\\\n",
       "\t    NA &    1 &  0.04001601\\\\\n",
       "\\end{tabular}\n"
      ],
      "text/markdown": [
       "\n",
       "A tibble: 3 × 3\n",
       "\n",
       "| INTRPTR_NEEDED_YN &lt;lgl&gt; | n &lt;int&gt; | perc &lt;dbl&gt; |\n",
       "|---|---|---|\n",
       "| FALSE | 2166 | 86.67466987 |\n",
       "|  TRUE |  332 | 13.28531413 |\n",
       "|    NA |    1 |  0.04001601 |\n",
       "\n"
      ],
      "text/plain": [
       "  INTRPTR_NEEDED_YN n    perc       \n",
       "1 FALSE             2166 86.67466987\n",
       "2  TRUE              332 13.28531413\n",
       "3    NA                1  0.04001601"
      ]
     },
     "metadata": {},
     "output_type": "display_data"
    }
   ],
   "source": [
    "x1 %>% count(INTRPTR_NEEDED_YN) %>% mutate(perc = 100* n/nrow(x1))"
   ]
  },
  {
   "cell_type": "raw",
   "metadata": {},
   "source": [
    "write.csv(x1, file.path(datadir, \"4_1_tx_demographic.csv\"), row.names=FALSE)"
   ]
  },
  {
   "cell_type": "code",
   "execution_count": 6,
   "metadata": {},
   "outputs": [
    {
     "data": {
      "text/html": [
       "1239918"
      ],
      "text/latex": [
       "1239918"
      ],
      "text/markdown": [
       "1239918"
      ],
      "text/plain": [
       "[1] 1239918"
      ]
     },
     "metadata": {},
     "output_type": "display_data"
    },
    {
     "data": {
      "text/html": [
       "43932"
      ],
      "text/latex": [
       "43932"
      ],
      "text/markdown": [
       "43932"
      ],
      "text/plain": [
       "[1] 43932"
      ]
     },
     "metadata": {},
     "output_type": "display_data"
    }
   ],
   "source": [
    "# all dx from 1_4_cohort, SQL query\n",
    "dx <- read.csv(file.path(datadir, \"4_1_dx_all.csv\"))\n",
    "nrow(dx)\n",
    "length(unique(dx$pat_enc_csn_id_coded)) # full cohort is 43980"
   ]
  },
  {
   "cell_type": "code",
   "execution_count": 7,
   "metadata": {},
   "outputs": [
    {
     "data": {
      "text/html": [
       "<table>\n",
       "<caption>A data.frame: 6 × 10</caption>\n",
       "<thead>\n",
       "\t<tr><th></th><th scope=col>anon_id</th><th scope=col>pat_enc_csn_id_coded</th><th scope=col>line</th><th scope=col>dx_name</th><th scope=col>primary</th><th scope=col>chronic</th><th scope=col>principal</th><th scope=col>hospital_pl</th><th scope=col>ed</th><th scope=col>present_on_adm</th></tr>\n",
       "\t<tr><th></th><th scope=col>&lt;chr&gt;</th><th scope=col>&lt;dbl&gt;</th><th scope=col>&lt;dbl&gt;</th><th scope=col>&lt;chr&gt;</th><th scope=col>&lt;chr&gt;</th><th scope=col>&lt;chr&gt;</th><th scope=col>&lt;chr&gt;</th><th scope=col>&lt;chr&gt;</th><th scope=col>&lt;chr&gt;</th><th scope=col>&lt;chr&gt;</th></tr>\n",
       "</thead>\n",
       "<tbody>\n",
       "\t<tr><th scope=row>1</th><td>JCd61259</td><td>131279859716</td><td>35</td><td>Presence of prosthetic heart valve                                </td><td> </td><td> </td><td></td><td></td><td> </td><td>Exempt from POA reporting</td></tr>\n",
       "\t<tr><th scope=row>2</th><td>JCd679d9</td><td>131064901435</td><td>34</td><td>Postsurgical percutaneous transluminal coronary angioplasty status</td><td> </td><td> </td><td></td><td></td><td> </td><td>Exempt from POA reporting</td></tr>\n",
       "\t<tr><th scope=row>3</th><td>JCd58338</td><td>131243342034</td><td>30</td><td>Failed kidney transplant                                          </td><td>N</td><td>N</td><td></td><td></td><td>N</td><td>                         </td></tr>\n",
       "\t<tr><th scope=row>4</th><td>JCd39c23</td><td>131240769940</td><td>40</td><td>Other disorders of bilirubin metabolism                           </td><td> </td><td> </td><td></td><td></td><td> </td><td>No                       </td></tr>\n",
       "\t<tr><th scope=row>5</th><td>JCde0d0a</td><td>131190623142</td><td>36</td><td>Other artificial openings of urinary tract status                 </td><td> </td><td> </td><td></td><td></td><td> </td><td>Exempt from POA reporting</td></tr>\n",
       "\t<tr><th scope=row>6</th><td>JCdda759</td><td>131219479387</td><td>30</td><td>Long term (current) use of oral hypoglycemic drugs                </td><td> </td><td> </td><td></td><td></td><td> </td><td>Exempt from POA reporting</td></tr>\n",
       "</tbody>\n",
       "</table>\n"
      ],
      "text/latex": [
       "A data.frame: 6 × 10\n",
       "\\begin{tabular}{r|llllllllll}\n",
       "  & anon\\_id & pat\\_enc\\_csn\\_id\\_coded & line & dx\\_name & primary & chronic & principal & hospital\\_pl & ed & present\\_on\\_adm\\\\\n",
       "  & <chr> & <dbl> & <dbl> & <chr> & <chr> & <chr> & <chr> & <chr> & <chr> & <chr>\\\\\n",
       "\\hline\n",
       "\t1 & JCd61259 & 131279859716 & 35 & Presence of prosthetic heart valve                                 &   &   &  &  &   & Exempt from POA reporting\\\\\n",
       "\t2 & JCd679d9 & 131064901435 & 34 & Postsurgical percutaneous transluminal coronary angioplasty status &   &   &  &  &   & Exempt from POA reporting\\\\\n",
       "\t3 & JCd58338 & 131243342034 & 30 & Failed kidney transplant                                           & N & N &  &  & N &                          \\\\\n",
       "\t4 & JCd39c23 & 131240769940 & 40 & Other disorders of bilirubin metabolism                            &   &   &  &  &   & No                       \\\\\n",
       "\t5 & JCde0d0a & 131190623142 & 36 & Other artificial openings of urinary tract status                  &   &   &  &  &   & Exempt from POA reporting\\\\\n",
       "\t6 & JCdda759 & 131219479387 & 30 & Long term (current) use of oral hypoglycemic drugs                 &   &   &  &  &   & Exempt from POA reporting\\\\\n",
       "\\end{tabular}\n"
      ],
      "text/markdown": [
       "\n",
       "A data.frame: 6 × 10\n",
       "\n",
       "| <!--/--> | anon_id &lt;chr&gt; | pat_enc_csn_id_coded &lt;dbl&gt; | line &lt;dbl&gt; | dx_name &lt;chr&gt; | primary &lt;chr&gt; | chronic &lt;chr&gt; | principal &lt;chr&gt; | hospital_pl &lt;chr&gt; | ed &lt;chr&gt; | present_on_adm &lt;chr&gt; |\n",
       "|---|---|---|---|---|---|---|---|---|---|---|\n",
       "| 1 | JCd61259 | 131279859716 | 35 | Presence of prosthetic heart valve                                 | <!----> | <!----> | <!----> | <!----> | <!----> | Exempt from POA reporting |\n",
       "| 2 | JCd679d9 | 131064901435 | 34 | Postsurgical percutaneous transluminal coronary angioplasty status | <!----> | <!----> | <!----> | <!----> | <!----> | Exempt from POA reporting |\n",
       "| 3 | JCd58338 | 131243342034 | 30 | Failed kidney transplant                                           | N | N | <!----> | <!----> | N | <!----> |\n",
       "| 4 | JCd39c23 | 131240769940 | 40 | Other disorders of bilirubin metabolism                            | <!----> | <!----> | <!----> | <!----> | <!----> | No                        |\n",
       "| 5 | JCde0d0a | 131190623142 | 36 | Other artificial openings of urinary tract status                  | <!----> | <!----> | <!----> | <!----> | <!----> | Exempt from POA reporting |\n",
       "| 6 | JCdda759 | 131219479387 | 30 | Long term (current) use of oral hypoglycemic drugs                 | <!----> | <!----> | <!----> | <!----> | <!----> | Exempt from POA reporting |\n",
       "\n"
      ],
      "text/plain": [
       "  anon_id  pat_enc_csn_id_coded line\n",
       "1 JCd61259 131279859716         35  \n",
       "2 JCd679d9 131064901435         34  \n",
       "3 JCd58338 131243342034         30  \n",
       "4 JCd39c23 131240769940         40  \n",
       "5 JCde0d0a 131190623142         36  \n",
       "6 JCdda759 131219479387         30  \n",
       "  dx_name                                                            primary\n",
       "1 Presence of prosthetic heart valve                                        \n",
       "2 Postsurgical percutaneous transluminal coronary angioplasty status        \n",
       "3 Failed kidney transplant                                           N      \n",
       "4 Other disorders of bilirubin metabolism                                   \n",
       "5 Other artificial openings of urinary tract status                         \n",
       "6 Long term (current) use of oral hypoglycemic drugs                        \n",
       "  chronic principal hospital_pl ed present_on_adm           \n",
       "1                                  Exempt from POA reporting\n",
       "2                                  Exempt from POA reporting\n",
       "3 N                             N                           \n",
       "4                                  No                       \n",
       "5                                  Exempt from POA reporting\n",
       "6                                  Exempt from POA reporting"
      ]
     },
     "metadata": {},
     "output_type": "display_data"
    }
   ],
   "source": [
    "head(dx)"
   ]
  },
  {
   "cell_type": "code",
   "execution_count": 8,
   "metadata": {},
   "outputs": [
    {
     "data": {
      "text/html": [
       "<table>\n",
       "<caption>A data.frame: 20 × 3</caption>\n",
       "<thead>\n",
       "\t<tr><th></th><th scope=col>dx_name</th><th scope=col>n</th><th scope=col>perc</th></tr>\n",
       "\t<tr><th></th><th scope=col>&lt;chr&gt;</th><th scope=col>&lt;int&gt;</th><th scope=col>&lt;dbl&gt;</th></tr>\n",
       "</thead>\n",
       "<tbody>\n",
       "\t<tr><th scope=row>1</th><td>Other long term (current) drug therapy                                         </td><td>12409</td><td>28.25</td></tr>\n",
       "\t<tr><th scope=row>2</th><td>Hyperlipidemia, unspecified                                                    </td><td>11532</td><td>26.25</td></tr>\n",
       "\t<tr><th scope=row>3</th><td>Essential (primary) hypertension                                               </td><td>10691</td><td>24.34</td></tr>\n",
       "\t<tr><th scope=row>4</th><td>Personal history of nicotine dependence                                        </td><td> 9969</td><td>22.69</td></tr>\n",
       "\t<tr><th scope=row>5</th><td>Long term (current) use of aspirin                                             </td><td> 7188</td><td>16.36</td></tr>\n",
       "\t<tr><th scope=row>6</th><td>Gastro-esophageal reflux disease without esophagitis                           </td><td> 6725</td><td>15.31</td></tr>\n",
       "\t<tr><th scope=row>7</th><td>Acute kidney failure, unspecified                                              </td><td> 6538</td><td>14.88</td></tr>\n",
       "\t<tr><th scope=row>8</th><td>Major depressive disorder, single episode, unspecified                         </td><td> 5719</td><td>13.02</td></tr>\n",
       "\t<tr><th scope=row>9</th><td>Long term (current) use of anticoagulants                                      </td><td> 5456</td><td>12.42</td></tr>\n",
       "\t<tr><th scope=row>10</th><td>Atherosclerotic heart disease of native coronary artery without angina pectoris</td><td> 5429</td><td>12.36</td></tr>\n",
       "\t<tr><th scope=row>11</th><td>Shortness of breath                                                            </td><td> 5389</td><td>12.27</td></tr>\n",
       "\t<tr><th scope=row>12</th><td>Hypo-osmolality and hyponatremia                                               </td><td> 5119</td><td>11.65</td></tr>\n",
       "\t<tr><th scope=row>13</th><td>Other chronic pain                                                             </td><td> 4606</td><td>10.48</td></tr>\n",
       "\t<tr><th scope=row>14</th><td>Hypothyroidism, unspecified                                                    </td><td> 4556</td><td>10.37</td></tr>\n",
       "\t<tr><th scope=row>15</th><td>Obstructive sleep apnea (adult) (pediatric)                                    </td><td> 4416</td><td>10.05</td></tr>\n",
       "\t<tr><th scope=row>16</th><td>Long term (current) use of insulin                                             </td><td> 4385</td><td> 9.98</td></tr>\n",
       "\t<tr><th scope=row>17</th><td>Anxiety disorder, unspecified                                                  </td><td> 4262</td><td> 9.70</td></tr>\n",
       "\t<tr><th scope=row>18</th><td>Allergy status to other drugs, medicaments and biological substances status    </td><td> 3925</td><td> 8.93</td></tr>\n",
       "\t<tr><th scope=row>19</th><td>Sepsis, unspecified organism                                                   </td><td> 3850</td><td> 8.76</td></tr>\n",
       "\t<tr><th scope=row>20</th><td>Hypokalemia                                                                    </td><td> 3792</td><td> 8.63</td></tr>\n",
       "</tbody>\n",
       "</table>\n"
      ],
      "text/latex": [
       "A data.frame: 20 × 3\n",
       "\\begin{tabular}{r|lll}\n",
       "  & dx\\_name & n & perc\\\\\n",
       "  & <chr> & <int> & <dbl>\\\\\n",
       "\\hline\n",
       "\t1 & Other long term (current) drug therapy                                          & 12409 & 28.25\\\\\n",
       "\t2 & Hyperlipidemia, unspecified                                                     & 11532 & 26.25\\\\\n",
       "\t3 & Essential (primary) hypertension                                                & 10691 & 24.34\\\\\n",
       "\t4 & Personal history of nicotine dependence                                         &  9969 & 22.69\\\\\n",
       "\t5 & Long term (current) use of aspirin                                              &  7188 & 16.36\\\\\n",
       "\t6 & Gastro-esophageal reflux disease without esophagitis                            &  6725 & 15.31\\\\\n",
       "\t7 & Acute kidney failure, unspecified                                               &  6538 & 14.88\\\\\n",
       "\t8 & Major depressive disorder, single episode, unspecified                          &  5719 & 13.02\\\\\n",
       "\t9 & Long term (current) use of anticoagulants                                       &  5456 & 12.42\\\\\n",
       "\t10 & Atherosclerotic heart disease of native coronary artery without angina pectoris &  5429 & 12.36\\\\\n",
       "\t11 & Shortness of breath                                                             &  5389 & 12.27\\\\\n",
       "\t12 & Hypo-osmolality and hyponatremia                                                &  5119 & 11.65\\\\\n",
       "\t13 & Other chronic pain                                                              &  4606 & 10.48\\\\\n",
       "\t14 & Hypothyroidism, unspecified                                                     &  4556 & 10.37\\\\\n",
       "\t15 & Obstructive sleep apnea (adult) (pediatric)                                     &  4416 & 10.05\\\\\n",
       "\t16 & Long term (current) use of insulin                                              &  4385 &  9.98\\\\\n",
       "\t17 & Anxiety disorder, unspecified                                                   &  4262 &  9.70\\\\\n",
       "\t18 & Allergy status to other drugs, medicaments and biological substances status     &  3925 &  8.93\\\\\n",
       "\t19 & Sepsis, unspecified organism                                                    &  3850 &  8.76\\\\\n",
       "\t20 & Hypokalemia                                                                     &  3792 &  8.63\\\\\n",
       "\\end{tabular}\n"
      ],
      "text/markdown": [
       "\n",
       "A data.frame: 20 × 3\n",
       "\n",
       "| <!--/--> | dx_name &lt;chr&gt; | n &lt;int&gt; | perc &lt;dbl&gt; |\n",
       "|---|---|---|---|\n",
       "| 1 | Other long term (current) drug therapy                                          | 12409 | 28.25 |\n",
       "| 2 | Hyperlipidemia, unspecified                                                     | 11532 | 26.25 |\n",
       "| 3 | Essential (primary) hypertension                                                | 10691 | 24.34 |\n",
       "| 4 | Personal history of nicotine dependence                                         |  9969 | 22.69 |\n",
       "| 5 | Long term (current) use of aspirin                                              |  7188 | 16.36 |\n",
       "| 6 | Gastro-esophageal reflux disease without esophagitis                            |  6725 | 15.31 |\n",
       "| 7 | Acute kidney failure, unspecified                                               |  6538 | 14.88 |\n",
       "| 8 | Major depressive disorder, single episode, unspecified                          |  5719 | 13.02 |\n",
       "| 9 | Long term (current) use of anticoagulants                                       |  5456 | 12.42 |\n",
       "| 10 | Atherosclerotic heart disease of native coronary artery without angina pectoris |  5429 | 12.36 |\n",
       "| 11 | Shortness of breath                                                             |  5389 | 12.27 |\n",
       "| 12 | Hypo-osmolality and hyponatremia                                                |  5119 | 11.65 |\n",
       "| 13 | Other chronic pain                                                              |  4606 | 10.48 |\n",
       "| 14 | Hypothyroidism, unspecified                                                     |  4556 | 10.37 |\n",
       "| 15 | Obstructive sleep apnea (adult) (pediatric)                                     |  4416 | 10.05 |\n",
       "| 16 | Long term (current) use of insulin                                              |  4385 |  9.98 |\n",
       "| 17 | Anxiety disorder, unspecified                                                   |  4262 |  9.70 |\n",
       "| 18 | Allergy status to other drugs, medicaments and biological substances status     |  3925 |  8.93 |\n",
       "| 19 | Sepsis, unspecified organism                                                    |  3850 |  8.76 |\n",
       "| 20 | Hypokalemia                                                                     |  3792 |  8.63 |\n",
       "\n"
      ],
      "text/plain": [
       "   dx_name                                                                        \n",
       "1  Other long term (current) drug therapy                                         \n",
       "2  Hyperlipidemia, unspecified                                                    \n",
       "3  Essential (primary) hypertension                                               \n",
       "4  Personal history of nicotine dependence                                        \n",
       "5  Long term (current) use of aspirin                                             \n",
       "6  Gastro-esophageal reflux disease without esophagitis                           \n",
       "7  Acute kidney failure, unspecified                                              \n",
       "8  Major depressive disorder, single episode, unspecified                         \n",
       "9  Long term (current) use of anticoagulants                                      \n",
       "10 Atherosclerotic heart disease of native coronary artery without angina pectoris\n",
       "11 Shortness of breath                                                            \n",
       "12 Hypo-osmolality and hyponatremia                                               \n",
       "13 Other chronic pain                                                             \n",
       "14 Hypothyroidism, unspecified                                                    \n",
       "15 Obstructive sleep apnea (adult) (pediatric)                                    \n",
       "16 Long term (current) use of insulin                                             \n",
       "17 Anxiety disorder, unspecified                                                  \n",
       "18 Allergy status to other drugs, medicaments and biological substances status    \n",
       "19 Sepsis, unspecified organism                                                   \n",
       "20 Hypokalemia                                                                    \n",
       "   n     perc \n",
       "1  12409 28.25\n",
       "2  11532 26.25\n",
       "3  10691 24.34\n",
       "4   9969 22.69\n",
       "5   7188 16.36\n",
       "6   6725 15.31\n",
       "7   6538 14.88\n",
       "8   5719 13.02\n",
       "9   5456 12.42\n",
       "10  5429 12.36\n",
       "11  5389 12.27\n",
       "12  5119 11.65\n",
       "13  4606 10.48\n",
       "14  4556 10.37\n",
       "15  4416 10.05\n",
       "16  4385  9.98\n",
       "17  4262  9.70\n",
       "18  3925  8.93\n",
       "19  3850  8.76\n",
       "20  3792  8.63"
      ]
     },
     "metadata": {},
     "output_type": "display_data"
    }
   ],
   "source": [
    "dx %>% distinct(pat_enc_csn_id_coded, dx_name) %>% count(dx_name) %>% \n",
    "    mutate(perc = round(100*n/43932, 2)) %>% arrange(-n) %>% head(20)"
   ]
  },
  {
   "cell_type": "code",
   "execution_count": 9,
   "metadata": {},
   "outputs": [
    {
     "data": {
      "text/html": [
       "<table>\n",
       "<caption>A data.frame: 20 × 3</caption>\n",
       "<thead>\n",
       "\t<tr><th></th><th scope=col>dx_name</th><th scope=col>n</th><th scope=col>perc</th></tr>\n",
       "\t<tr><th></th><th scope=col>&lt;chr&gt;</th><th scope=col>&lt;int&gt;</th><th scope=col>&lt;dbl&gt;</th></tr>\n",
       "</thead>\n",
       "<tbody>\n",
       "\t<tr><th scope=row>1</th><td>Suicidal ideation                                                  </td><td>407</td><td>0.93</td></tr>\n",
       "\t<tr><th scope=row>2</th><td>Pneumonia due to organism                                          </td><td>302</td><td>0.69</td></tr>\n",
       "\t<tr><th scope=row>3</th><td>Sepsis, due to unspecified organism                                </td><td>277</td><td>0.63</td></tr>\n",
       "\t<tr><th scope=row>4</th><td>Hyponatremia                                                       </td><td>274</td><td>0.62</td></tr>\n",
       "\t<tr><th scope=row>5</th><td>Non-ST elevation myocardial infarction (NSTEMI) (CMS-HCC)          </td><td>227</td><td>0.52</td></tr>\n",
       "\t<tr><th scope=row>6</th><td>SBO (small bowel obstruction) (CMS-HCC)                            </td><td>222</td><td>0.51</td></tr>\n",
       "\t<tr><th scope=row>7</th><td>Acute chest pain                                                   </td><td>211</td><td>0.48</td></tr>\n",
       "\t<tr><th scope=row>8</th><td>Small bowel obstruction (CMS-HCC)                                  </td><td>205</td><td>0.47</td></tr>\n",
       "\t<tr><th scope=row>9</th><td>Neutropenic fever (CMS-HCC)                                        </td><td>194</td><td>0.44</td></tr>\n",
       "\t<tr><th scope=row>10</th><td>Acute GI bleeding                                                  </td><td>190</td><td>0.43</td></tr>\n",
       "\t<tr><th scope=row>11</th><td>Shortness of breath                                                </td><td>186</td><td>0.42</td></tr>\n",
       "\t<tr><th scope=row>12</th><td>Altered mental status, unspecified altered mental status type      </td><td>172</td><td>0.39</td></tr>\n",
       "\t<tr><th scope=row>13</th><td>Acute kidney injury (nontraumatic) (CMS-HCC)                       </td><td>156</td><td>0.36</td></tr>\n",
       "\t<tr><th scope=row>14</th><td>COPD with acute exacerbation (CMS-HCC)                             </td><td>143</td><td>0.33</td></tr>\n",
       "\t<tr><th scope=row>15</th><td>Fever, unspecified fever cause                                     </td><td>139</td><td>0.32</td></tr>\n",
       "\t<tr><th scope=row>16</th><td>Acute renal failure, unspecified acute renal failure type (CMS-HCC)</td><td>134</td><td>0.31</td></tr>\n",
       "\t<tr><th scope=row>17</th><td>Fever and other physiologic disturbances of temperature regulation </td><td>125</td><td>0.28</td></tr>\n",
       "\t<tr><th scope=row>18</th><td>Psychosis, unspecified psychosis type (CMS-HCC)                    </td><td>123</td><td>0.28</td></tr>\n",
       "\t<tr><th scope=row>19</th><td>Generalized abdominal pain                                         </td><td>119</td><td>0.27</td></tr>\n",
       "\t<tr><th scope=row>20</th><td>Acute pyelonephritis                                               </td><td>114</td><td>0.26</td></tr>\n",
       "</tbody>\n",
       "</table>\n"
      ],
      "text/latex": [
       "A data.frame: 20 × 3\n",
       "\\begin{tabular}{r|lll}\n",
       "  & dx\\_name & n & perc\\\\\n",
       "  & <chr> & <int> & <dbl>\\\\\n",
       "\\hline\n",
       "\t1 & Suicidal ideation                                                   & 407 & 0.93\\\\\n",
       "\t2 & Pneumonia due to organism                                           & 302 & 0.69\\\\\n",
       "\t3 & Sepsis, due to unspecified organism                                 & 277 & 0.63\\\\\n",
       "\t4 & Hyponatremia                                                        & 274 & 0.62\\\\\n",
       "\t5 & Non-ST elevation myocardial infarction (NSTEMI) (CMS-HCC)           & 227 & 0.52\\\\\n",
       "\t6 & SBO (small bowel obstruction) (CMS-HCC)                             & 222 & 0.51\\\\\n",
       "\t7 & Acute chest pain                                                    & 211 & 0.48\\\\\n",
       "\t8 & Small bowel obstruction (CMS-HCC)                                   & 205 & 0.47\\\\\n",
       "\t9 & Neutropenic fever (CMS-HCC)                                         & 194 & 0.44\\\\\n",
       "\t10 & Acute GI bleeding                                                   & 190 & 0.43\\\\\n",
       "\t11 & Shortness of breath                                                 & 186 & 0.42\\\\\n",
       "\t12 & Altered mental status, unspecified altered mental status type       & 172 & 0.39\\\\\n",
       "\t13 & Acute kidney injury (nontraumatic) (CMS-HCC)                        & 156 & 0.36\\\\\n",
       "\t14 & COPD with acute exacerbation (CMS-HCC)                              & 143 & 0.33\\\\\n",
       "\t15 & Fever, unspecified fever cause                                      & 139 & 0.32\\\\\n",
       "\t16 & Acute renal failure, unspecified acute renal failure type (CMS-HCC) & 134 & 0.31\\\\\n",
       "\t17 & Fever and other physiologic disturbances of temperature regulation  & 125 & 0.28\\\\\n",
       "\t18 & Psychosis, unspecified psychosis type (CMS-HCC)                     & 123 & 0.28\\\\\n",
       "\t19 & Generalized abdominal pain                                          & 119 & 0.27\\\\\n",
       "\t20 & Acute pyelonephritis                                                & 114 & 0.26\\\\\n",
       "\\end{tabular}\n"
      ],
      "text/markdown": [
       "\n",
       "A data.frame: 20 × 3\n",
       "\n",
       "| <!--/--> | dx_name &lt;chr&gt; | n &lt;int&gt; | perc &lt;dbl&gt; |\n",
       "|---|---|---|---|\n",
       "| 1 | Suicidal ideation                                                   | 407 | 0.93 |\n",
       "| 2 | Pneumonia due to organism                                           | 302 | 0.69 |\n",
       "| 3 | Sepsis, due to unspecified organism                                 | 277 | 0.63 |\n",
       "| 4 | Hyponatremia                                                        | 274 | 0.62 |\n",
       "| 5 | Non-ST elevation myocardial infarction (NSTEMI) (CMS-HCC)           | 227 | 0.52 |\n",
       "| 6 | SBO (small bowel obstruction) (CMS-HCC)                             | 222 | 0.51 |\n",
       "| 7 | Acute chest pain                                                    | 211 | 0.48 |\n",
       "| 8 | Small bowel obstruction (CMS-HCC)                                   | 205 | 0.47 |\n",
       "| 9 | Neutropenic fever (CMS-HCC)                                         | 194 | 0.44 |\n",
       "| 10 | Acute GI bleeding                                                   | 190 | 0.43 |\n",
       "| 11 | Shortness of breath                                                 | 186 | 0.42 |\n",
       "| 12 | Altered mental status, unspecified altered mental status type       | 172 | 0.39 |\n",
       "| 13 | Acute kidney injury (nontraumatic) (CMS-HCC)                        | 156 | 0.36 |\n",
       "| 14 | COPD with acute exacerbation (CMS-HCC)                              | 143 | 0.33 |\n",
       "| 15 | Fever, unspecified fever cause                                      | 139 | 0.32 |\n",
       "| 16 | Acute renal failure, unspecified acute renal failure type (CMS-HCC) | 134 | 0.31 |\n",
       "| 17 | Fever and other physiologic disturbances of temperature regulation  | 125 | 0.28 |\n",
       "| 18 | Psychosis, unspecified psychosis type (CMS-HCC)                     | 123 | 0.28 |\n",
       "| 19 | Generalized abdominal pain                                          | 119 | 0.27 |\n",
       "| 20 | Acute pyelonephritis                                                | 114 | 0.26 |\n",
       "\n"
      ],
      "text/plain": [
       "   dx_name                                                             n   perc\n",
       "1  Suicidal ideation                                                   407 0.93\n",
       "2  Pneumonia due to organism                                           302 0.69\n",
       "3  Sepsis, due to unspecified organism                                 277 0.63\n",
       "4  Hyponatremia                                                        274 0.62\n",
       "5  Non-ST elevation myocardial infarction (NSTEMI) (CMS-HCC)           227 0.52\n",
       "6  SBO (small bowel obstruction) (CMS-HCC)                             222 0.51\n",
       "7  Acute chest pain                                                    211 0.48\n",
       "8  Small bowel obstruction (CMS-HCC)                                   205 0.47\n",
       "9  Neutropenic fever (CMS-HCC)                                         194 0.44\n",
       "10 Acute GI bleeding                                                   190 0.43\n",
       "11 Shortness of breath                                                 186 0.42\n",
       "12 Altered mental status, unspecified altered mental status type       172 0.39\n",
       "13 Acute kidney injury (nontraumatic) (CMS-HCC)                        156 0.36\n",
       "14 COPD with acute exacerbation (CMS-HCC)                              143 0.33\n",
       "15 Fever, unspecified fever cause                                      139 0.32\n",
       "16 Acute renal failure, unspecified acute renal failure type (CMS-HCC) 134 0.31\n",
       "17 Fever and other physiologic disturbances of temperature regulation  125 0.28\n",
       "18 Psychosis, unspecified psychosis type (CMS-HCC)                     123 0.28\n",
       "19 Generalized abdominal pain                                          119 0.27\n",
       "20 Acute pyelonephritis                                                114 0.26"
      ]
     },
     "metadata": {},
     "output_type": "display_data"
    }
   ],
   "source": [
    "# dx present in the ED and identified as the primary problems\n",
    "dx %>% filter(ed==\"Y\", primary==\"Y\") %>% distinct(pat_enc_csn_id_coded, dx_name) %>% count(dx_name) %>% \n",
    "    mutate(perc = round(100*n/43932, 2)) %>% arrange(-n) %>% head(20)"
   ]
  },
  {
   "cell_type": "code",
   "execution_count": 14,
   "metadata": {},
   "outputs": [
    {
     "data": {
      "text/html": [
       "0.96875"
      ],
      "text/latex": [
       "0.96875"
      ],
      "text/markdown": [
       "0.96875"
      ],
      "text/plain": [
       "[1] 0.96875"
      ]
     },
     "metadata": {},
     "output_type": "display_data"
    }
   ],
   "source": [
    "1085/1120"
   ]
  },
  {
   "cell_type": "code",
   "execution_count": 12,
   "metadata": {},
   "outputs": [
    {
     "name": "stderr",
     "output_type": "stream",
     "text": [
      "Joining, by = c(\"anon_id\", \"pat_enc_csn_id_coded\")\n",
      "\n"
     ]
    },
    {
     "data": {
      "text/html": [
       "45780"
      ],
      "text/latex": [
       "45780"
      ],
      "text/markdown": [
       "45780"
      ],
      "text/plain": [
       "[1] 45780"
      ]
     },
     "metadata": {},
     "output_type": "display_data"
    },
    {
     "data": {
      "text/html": [
       "1120"
      ],
      "text/latex": [
       "1120"
      ],
      "text/markdown": [
       "1120"
      ],
      "text/plain": [
       "[1] 1120"
      ]
     },
     "metadata": {},
     "output_type": "display_data"
    },
    {
     "data": {
      "text/html": [
       "1085"
      ],
      "text/latex": [
       "1085"
      ],
      "text/markdown": [
       "1085"
      ],
      "text/plain": [
       "[1] 1085"
      ]
     },
     "metadata": {},
     "output_type": "display_data"
    },
    {
     "data": {
      "text/html": [
       "<table>\n",
       "<caption>A data.frame: 20 × 3</caption>\n",
       "<thead>\n",
       "\t<tr><th></th><th scope=col>dx_name</th><th scope=col>n</th><th scope=col>perc</th></tr>\n",
       "\t<tr><th></th><th scope=col>&lt;chr&gt;</th><th scope=col>&lt;int&gt;</th><th scope=col>&lt;dbl&gt;</th></tr>\n",
       "</thead>\n",
       "<tbody>\n",
       "\t<tr><th scope=row>1</th><td>Hyperlipidemia, unspecified                                                    </td><td>348</td><td>31.07</td></tr>\n",
       "\t<tr><th scope=row>2</th><td>Other long term (current) drug therapy                                         </td><td>335</td><td>29.91</td></tr>\n",
       "\t<tr><th scope=row>3</th><td>Personal history of nicotine dependence                                        </td><td>306</td><td>27.32</td></tr>\n",
       "\t<tr><th scope=row>4</th><td>Acidosis                                                                       </td><td>291</td><td>25.98</td></tr>\n",
       "\t<tr><th scope=row>5</th><td>Acute kidney failure, unspecified                                              </td><td>288</td><td>25.71</td></tr>\n",
       "\t<tr><th scope=row>6</th><td>Essential (primary) hypertension                                               </td><td>284</td><td>25.36</td></tr>\n",
       "\t<tr><th scope=row>7</th><td>Severe sepsis with septic shock                                                </td><td>253</td><td>22.59</td></tr>\n",
       "\t<tr><th scope=row>8</th><td>Long term (current) use of aspirin                                             </td><td>249</td><td>22.23</td></tr>\n",
       "\t<tr><th scope=row>9</th><td>Sepsis, unspecified organism                                                   </td><td>233</td><td>20.80</td></tr>\n",
       "\t<tr><th scope=row>10</th><td>Atherosclerotic heart disease of native coronary artery without angina pectoris</td><td>217</td><td>19.38</td></tr>\n",
       "\t<tr><th scope=row>11</th><td>Shortness of breath                                                            </td><td>202</td><td>18.04</td></tr>\n",
       "\t<tr><th scope=row>12</th><td>Hypo-osmolality and hyponatremia                                               </td><td>196</td><td>17.50</td></tr>\n",
       "\t<tr><th scope=row>13</th><td>Acute respiratory failure with hypoxia                                         </td><td>188</td><td>16.79</td></tr>\n",
       "\t<tr><th scope=row>14</th><td>Long term (current) use of anticoagulants                                      </td><td>186</td><td>16.61</td></tr>\n",
       "\t<tr><th scope=row>15</th><td>Gastro-esophageal reflux disease without esophagitis                           </td><td>185</td><td>16.52</td></tr>\n",
       "\t<tr><th scope=row>16</th><td>Hypokalemia                                                                    </td><td>183</td><td>16.34</td></tr>\n",
       "\t<tr><th scope=row>17</th><td>Hypotension, unspecified                                                       </td><td>175</td><td>15.62</td></tr>\n",
       "\t<tr><th scope=row>18</th><td>Acute posthemorrhagic anemia                                                   </td><td>174</td><td>15.54</td></tr>\n",
       "\t<tr><th scope=row>19</th><td>Obstructive sleep apnea (adult) (pediatric)                                    </td><td>158</td><td>14.11</td></tr>\n",
       "\t<tr><th scope=row>20</th><td>Chronic kidney disease, stage 3 (moderate)                                     </td><td>145</td><td>12.95</td></tr>\n",
       "</tbody>\n",
       "</table>\n"
      ],
      "text/latex": [
       "A data.frame: 20 × 3\n",
       "\\begin{tabular}{r|lll}\n",
       "  & dx\\_name & n & perc\\\\\n",
       "  & <chr> & <int> & <dbl>\\\\\n",
       "\\hline\n",
       "\t1 & Hyperlipidemia, unspecified                                                     & 348 & 31.07\\\\\n",
       "\t2 & Other long term (current) drug therapy                                          & 335 & 29.91\\\\\n",
       "\t3 & Personal history of nicotine dependence                                         & 306 & 27.32\\\\\n",
       "\t4 & Acidosis                                                                        & 291 & 25.98\\\\\n",
       "\t5 & Acute kidney failure, unspecified                                               & 288 & 25.71\\\\\n",
       "\t6 & Essential (primary) hypertension                                                & 284 & 25.36\\\\\n",
       "\t7 & Severe sepsis with septic shock                                                 & 253 & 22.59\\\\\n",
       "\t8 & Long term (current) use of aspirin                                              & 249 & 22.23\\\\\n",
       "\t9 & Sepsis, unspecified organism                                                    & 233 & 20.80\\\\\n",
       "\t10 & Atherosclerotic heart disease of native coronary artery without angina pectoris & 217 & 19.38\\\\\n",
       "\t11 & Shortness of breath                                                             & 202 & 18.04\\\\\n",
       "\t12 & Hypo-osmolality and hyponatremia                                                & 196 & 17.50\\\\\n",
       "\t13 & Acute respiratory failure with hypoxia                                          & 188 & 16.79\\\\\n",
       "\t14 & Long term (current) use of anticoagulants                                       & 186 & 16.61\\\\\n",
       "\t15 & Gastro-esophageal reflux disease without esophagitis                            & 185 & 16.52\\\\\n",
       "\t16 & Hypokalemia                                                                     & 183 & 16.34\\\\\n",
       "\t17 & Hypotension, unspecified                                                        & 175 & 15.62\\\\\n",
       "\t18 & Acute posthemorrhagic anemia                                                    & 174 & 15.54\\\\\n",
       "\t19 & Obstructive sleep apnea (adult) (pediatric)                                     & 158 & 14.11\\\\\n",
       "\t20 & Chronic kidney disease, stage 3 (moderate)                                      & 145 & 12.95\\\\\n",
       "\\end{tabular}\n"
      ],
      "text/markdown": [
       "\n",
       "A data.frame: 20 × 3\n",
       "\n",
       "| <!--/--> | dx_name &lt;chr&gt; | n &lt;int&gt; | perc &lt;dbl&gt; |\n",
       "|---|---|---|---|\n",
       "| 1 | Hyperlipidemia, unspecified                                                     | 348 | 31.07 |\n",
       "| 2 | Other long term (current) drug therapy                                          | 335 | 29.91 |\n",
       "| 3 | Personal history of nicotine dependence                                         | 306 | 27.32 |\n",
       "| 4 | Acidosis                                                                        | 291 | 25.98 |\n",
       "| 5 | Acute kidney failure, unspecified                                               | 288 | 25.71 |\n",
       "| 6 | Essential (primary) hypertension                                                | 284 | 25.36 |\n",
       "| 7 | Severe sepsis with septic shock                                                 | 253 | 22.59 |\n",
       "| 8 | Long term (current) use of aspirin                                              | 249 | 22.23 |\n",
       "| 9 | Sepsis, unspecified organism                                                    | 233 | 20.80 |\n",
       "| 10 | Atherosclerotic heart disease of native coronary artery without angina pectoris | 217 | 19.38 |\n",
       "| 11 | Shortness of breath                                                             | 202 | 18.04 |\n",
       "| 12 | Hypo-osmolality and hyponatremia                                                | 196 | 17.50 |\n",
       "| 13 | Acute respiratory failure with hypoxia                                          | 188 | 16.79 |\n",
       "| 14 | Long term (current) use of anticoagulants                                       | 186 | 16.61 |\n",
       "| 15 | Gastro-esophageal reflux disease without esophagitis                            | 185 | 16.52 |\n",
       "| 16 | Hypokalemia                                                                     | 183 | 16.34 |\n",
       "| 17 | Hypotension, unspecified                                                        | 175 | 15.62 |\n",
       "| 18 | Acute posthemorrhagic anemia                                                    | 174 | 15.54 |\n",
       "| 19 | Obstructive sleep apnea (adult) (pediatric)                                     | 158 | 14.11 |\n",
       "| 20 | Chronic kidney disease, stage 3 (moderate)                                      | 145 | 12.95 |\n",
       "\n"
      ],
      "text/plain": [
       "   dx_name                                                                        \n",
       "1  Hyperlipidemia, unspecified                                                    \n",
       "2  Other long term (current) drug therapy                                         \n",
       "3  Personal history of nicotine dependence                                        \n",
       "4  Acidosis                                                                       \n",
       "5  Acute kidney failure, unspecified                                              \n",
       "6  Essential (primary) hypertension                                               \n",
       "7  Severe sepsis with septic shock                                                \n",
       "8  Long term (current) use of aspirin                                             \n",
       "9  Sepsis, unspecified organism                                                   \n",
       "10 Atherosclerotic heart disease of native coronary artery without angina pectoris\n",
       "11 Shortness of breath                                                            \n",
       "12 Hypo-osmolality and hyponatremia                                               \n",
       "13 Acute respiratory failure with hypoxia                                         \n",
       "14 Long term (current) use of anticoagulants                                      \n",
       "15 Gastro-esophageal reflux disease without esophagitis                           \n",
       "16 Hypokalemia                                                                    \n",
       "17 Hypotension, unspecified                                                       \n",
       "18 Acute posthemorrhagic anemia                                                   \n",
       "19 Obstructive sleep apnea (adult) (pediatric)                                    \n",
       "20 Chronic kidney disease, stage 3 (moderate)                                     \n",
       "   n   perc \n",
       "1  348 31.07\n",
       "2  335 29.91\n",
       "3  306 27.32\n",
       "4  291 25.98\n",
       "5  288 25.71\n",
       "6  284 25.36\n",
       "7  253 22.59\n",
       "8  249 22.23\n",
       "9  233 20.80\n",
       "10 217 19.38\n",
       "11 202 18.04\n",
       "12 196 17.50\n",
       "13 188 16.79\n",
       "14 186 16.61\n",
       "15 185 16.52\n",
       "16 183 16.34\n",
       "17 175 15.62\n",
       "18 174 15.54\n",
       "19 158 14.11\n",
       "20 145 12.95"
      ]
     },
     "metadata": {},
     "output_type": "display_data"
    }
   ],
   "source": [
    "# cohort transfers with diagnoses\n",
    "dx_tx <- left_join(cohort, dx)\n",
    "nrow(dx_tx)\n",
    "length(unique(dx_tx$pat_enc_csn_id_coded)) #1120\n",
    "length(unique(dx_tx$anon_id)) # 1085\n",
    "dx_tx %>% distinct(pat_enc_csn_id_coded, dx_name) %>% count(dx_name) %>% \n",
    "    mutate(perc = round(100*n/1120, 2)) %>% arrange(-n) %>% head(20)"
   ]
  },
  {
   "cell_type": "code",
   "execution_count": 11,
   "metadata": {},
   "outputs": [
    {
     "data": {
      "text/html": [
       "<table>\n",
       "<caption>A data.frame: 20 × 3</caption>\n",
       "<thead>\n",
       "\t<tr><th></th><th scope=col>dx_name</th><th scope=col>n</th><th scope=col>perc</th></tr>\n",
       "\t<tr><th></th><th scope=col>&lt;chr&gt;</th><th scope=col>&lt;int&gt;</th><th scope=col>&lt;dbl&gt;</th></tr>\n",
       "</thead>\n",
       "<tbody>\n",
       "\t<tr><th scope=row>1</th><td>Sepsis, due to unspecified organism                                     </td><td>22</td><td>1.96</td></tr>\n",
       "\t<tr><th scope=row>2</th><td>Pneumonia due to organism                                               </td><td>16</td><td>1.43</td></tr>\n",
       "\t<tr><th scope=row>3</th><td>Hypoxia                                                                 </td><td>12</td><td>1.07</td></tr>\n",
       "\t<tr><th scope=row>4</th><td>Non-ST elevation myocardial infarction (NSTEMI) (CMS-HCC)               </td><td>12</td><td>1.07</td></tr>\n",
       "\t<tr><th scope=row>5</th><td>ST elevation myocardial infarction (STEMI), unspecified artery (CMS-HCC)</td><td>12</td><td>1.07</td></tr>\n",
       "\t<tr><th scope=row>6</th><td>Severe sepsis (CMS-HCC)                                                 </td><td>11</td><td>0.98</td></tr>\n",
       "\t<tr><th scope=row>7</th><td>Acute chest pain                                                        </td><td> 7</td><td>0.62</td></tr>\n",
       "\t<tr><th scope=row>8</th><td>Acute pyelonephritis                                                    </td><td> 7</td><td>0.62</td></tr>\n",
       "\t<tr><th scope=row>9</th><td>Hyponatremia                                                            </td><td> 7</td><td>0.62</td></tr>\n",
       "\t<tr><th scope=row>10</th><td>Acute coronary syndrome (CMS-HCC)                                       </td><td> 6</td><td>0.54</td></tr>\n",
       "\t<tr><th scope=row>11</th><td>Neutropenic fever (CMS-HCC)                                             </td><td> 6</td><td>0.54</td></tr>\n",
       "\t<tr><th scope=row>12</th><td>Acute on chronic heart failure, unspecified heart failure type (CMS-HCC)</td><td> 5</td><td>0.45</td></tr>\n",
       "\t<tr><th scope=row>13</th><td>Acute on chronic systolic congestive heart failure (CMS-HCC)            </td><td> 5</td><td>0.45</td></tr>\n",
       "\t<tr><th scope=row>14</th><td>Altered mental status, unspecified altered mental status type           </td><td> 5</td><td>0.45</td></tr>\n",
       "\t<tr><th scope=row>15</th><td>COPD with acute exacerbation (CMS-HCC)                                  </td><td> 5</td><td>0.45</td></tr>\n",
       "\t<tr><th scope=row>16</th><td>HCAP (healthcare-associated pneumonia)                                  </td><td> 5</td><td>0.45</td></tr>\n",
       "\t<tr><th scope=row>17</th><td>Pneumonia, organism unspecified(486)                                    </td><td> 5</td><td>0.45</td></tr>\n",
       "\t<tr><th scope=row>18</th><td>Shortness of breath                                                     </td><td> 5</td><td>0.45</td></tr>\n",
       "\t<tr><th scope=row>19</th><td>Small bowel obstruction (CMS-HCC)                                       </td><td> 5</td><td>0.45</td></tr>\n",
       "\t<tr><th scope=row>20</th><td>Acute blood loss anemia                                                 </td><td> 4</td><td>0.36</td></tr>\n",
       "</tbody>\n",
       "</table>\n"
      ],
      "text/latex": [
       "A data.frame: 20 × 3\n",
       "\\begin{tabular}{r|lll}\n",
       "  & dx\\_name & n & perc\\\\\n",
       "  & <chr> & <int> & <dbl>\\\\\n",
       "\\hline\n",
       "\t1 & Sepsis, due to unspecified organism                                      & 22 & 1.96\\\\\n",
       "\t2 & Pneumonia due to organism                                                & 16 & 1.43\\\\\n",
       "\t3 & Hypoxia                                                                  & 12 & 1.07\\\\\n",
       "\t4 & Non-ST elevation myocardial infarction (NSTEMI) (CMS-HCC)                & 12 & 1.07\\\\\n",
       "\t5 & ST elevation myocardial infarction (STEMI), unspecified artery (CMS-HCC) & 12 & 1.07\\\\\n",
       "\t6 & Severe sepsis (CMS-HCC)                                                  & 11 & 0.98\\\\\n",
       "\t7 & Acute chest pain                                                         &  7 & 0.62\\\\\n",
       "\t8 & Acute pyelonephritis                                                     &  7 & 0.62\\\\\n",
       "\t9 & Hyponatremia                                                             &  7 & 0.62\\\\\n",
       "\t10 & Acute coronary syndrome (CMS-HCC)                                        &  6 & 0.54\\\\\n",
       "\t11 & Neutropenic fever (CMS-HCC)                                              &  6 & 0.54\\\\\n",
       "\t12 & Acute on chronic heart failure, unspecified heart failure type (CMS-HCC) &  5 & 0.45\\\\\n",
       "\t13 & Acute on chronic systolic congestive heart failure (CMS-HCC)             &  5 & 0.45\\\\\n",
       "\t14 & Altered mental status, unspecified altered mental status type            &  5 & 0.45\\\\\n",
       "\t15 & COPD with acute exacerbation (CMS-HCC)                                   &  5 & 0.45\\\\\n",
       "\t16 & HCAP (healthcare-associated pneumonia)                                   &  5 & 0.45\\\\\n",
       "\t17 & Pneumonia, organism unspecified(486)                                     &  5 & 0.45\\\\\n",
       "\t18 & Shortness of breath                                                      &  5 & 0.45\\\\\n",
       "\t19 & Small bowel obstruction (CMS-HCC)                                        &  5 & 0.45\\\\\n",
       "\t20 & Acute blood loss anemia                                                  &  4 & 0.36\\\\\n",
       "\\end{tabular}\n"
      ],
      "text/markdown": [
       "\n",
       "A data.frame: 20 × 3\n",
       "\n",
       "| <!--/--> | dx_name &lt;chr&gt; | n &lt;int&gt; | perc &lt;dbl&gt; |\n",
       "|---|---|---|---|\n",
       "| 1 | Sepsis, due to unspecified organism                                      | 22 | 1.96 |\n",
       "| 2 | Pneumonia due to organism                                                | 16 | 1.43 |\n",
       "| 3 | Hypoxia                                                                  | 12 | 1.07 |\n",
       "| 4 | Non-ST elevation myocardial infarction (NSTEMI) (CMS-HCC)                | 12 | 1.07 |\n",
       "| 5 | ST elevation myocardial infarction (STEMI), unspecified artery (CMS-HCC) | 12 | 1.07 |\n",
       "| 6 | Severe sepsis (CMS-HCC)                                                  | 11 | 0.98 |\n",
       "| 7 | Acute chest pain                                                         |  7 | 0.62 |\n",
       "| 8 | Acute pyelonephritis                                                     |  7 | 0.62 |\n",
       "| 9 | Hyponatremia                                                             |  7 | 0.62 |\n",
       "| 10 | Acute coronary syndrome (CMS-HCC)                                        |  6 | 0.54 |\n",
       "| 11 | Neutropenic fever (CMS-HCC)                                              |  6 | 0.54 |\n",
       "| 12 | Acute on chronic heart failure, unspecified heart failure type (CMS-HCC) |  5 | 0.45 |\n",
       "| 13 | Acute on chronic systolic congestive heart failure (CMS-HCC)             |  5 | 0.45 |\n",
       "| 14 | Altered mental status, unspecified altered mental status type            |  5 | 0.45 |\n",
       "| 15 | COPD with acute exacerbation (CMS-HCC)                                   |  5 | 0.45 |\n",
       "| 16 | HCAP (healthcare-associated pneumonia)                                   |  5 | 0.45 |\n",
       "| 17 | Pneumonia, organism unspecified(486)                                     |  5 | 0.45 |\n",
       "| 18 | Shortness of breath                                                      |  5 | 0.45 |\n",
       "| 19 | Small bowel obstruction (CMS-HCC)                                        |  5 | 0.45 |\n",
       "| 20 | Acute blood loss anemia                                                  |  4 | 0.36 |\n",
       "\n"
      ],
      "text/plain": [
       "   dx_name                                                                  n \n",
       "1  Sepsis, due to unspecified organism                                      22\n",
       "2  Pneumonia due to organism                                                16\n",
       "3  Hypoxia                                                                  12\n",
       "4  Non-ST elevation myocardial infarction (NSTEMI) (CMS-HCC)                12\n",
       "5  ST elevation myocardial infarction (STEMI), unspecified artery (CMS-HCC) 12\n",
       "6  Severe sepsis (CMS-HCC)                                                  11\n",
       "7  Acute chest pain                                                          7\n",
       "8  Acute pyelonephritis                                                      7\n",
       "9  Hyponatremia                                                              7\n",
       "10 Acute coronary syndrome (CMS-HCC)                                         6\n",
       "11 Neutropenic fever (CMS-HCC)                                               6\n",
       "12 Acute on chronic heart failure, unspecified heart failure type (CMS-HCC)  5\n",
       "13 Acute on chronic systolic congestive heart failure (CMS-HCC)              5\n",
       "14 Altered mental status, unspecified altered mental status type             5\n",
       "15 COPD with acute exacerbation (CMS-HCC)                                    5\n",
       "16 HCAP (healthcare-associated pneumonia)                                    5\n",
       "17 Pneumonia, organism unspecified(486)                                      5\n",
       "18 Shortness of breath                                                       5\n",
       "19 Small bowel obstruction (CMS-HCC)                                         5\n",
       "20 Acute blood loss anemia                                                   4\n",
       "   perc\n",
       "1  1.96\n",
       "2  1.43\n",
       "3  1.07\n",
       "4  1.07\n",
       "5  1.07\n",
       "6  0.98\n",
       "7  0.62\n",
       "8  0.62\n",
       "9  0.62\n",
       "10 0.54\n",
       "11 0.54\n",
       "12 0.45\n",
       "13 0.45\n",
       "14 0.45\n",
       "15 0.45\n",
       "16 0.45\n",
       "17 0.45\n",
       "18 0.45\n",
       "19 0.45\n",
       "20 0.36"
      ]
     },
     "metadata": {},
     "output_type": "display_data"
    }
   ],
   "source": [
    "dx_tx %>% filter(ed==\"Y\", primary==\"Y\") %>% distinct(pat_enc_csn_id_coded, dx_name) %>% count(dx_name) %>% \n",
    "    mutate(perc = round(100*n/1120, 2)) %>% arrange(-n) %>% head(20)"
   ]
  },
  {
   "cell_type": "code",
   "execution_count": null,
   "metadata": {},
   "outputs": [],
   "source": []
  },
  {
   "cell_type": "raw",
   "metadata": {},
   "source": [
    "# full cohort, patcsn all NA\n",
    "q = \"\n",
    "SELECT x.dx_name, count(x.dx_name) AS n\n",
    "FROM \n",
    "    `som-nero-phi-jonc101.triageTD.1_4_cohort` as c\n",
    "JOIN \n",
    "    `som-nero-phi-jonc101.shc_core.diagnosis_code` as x\n",
    "ON \n",
    "    (c.anon_id = x.anon_id and c.pat_enc_csn_id_coded = x.pat_enc_csn_id_jittered)\n",
    "\n",
    "GROUP by x.dx_name\n",
    "\"\n",
    "\n",
    "# submit the query:\n",
    "update.packages('Rcpp')\n",
    "x2 <- dbGetQuery(con, q)\n",
    "dim(x2)\n",
    "colnames(x2)"
   ]
  },
  {
   "cell_type": "raw",
   "metadata": {},
   "source": [
    "# transfer cohort\n",
    "q = \"\n",
    "SELECT x.dx_name, count(x.dx_name) AS n\n",
    "FROM \n",
    "    `som-nero-phi-jonc101.triageTD.1_4_cohort` as c\n",
    "JOIN \n",
    "    `som-nero-phi-jonc101.shc_core.diagnosis_code` as x\n",
    "ON \n",
    "    (c.anon_id = x.anon_id and c.pat_enc_csn_id_coded = x.pat_enc_csn_id_jittered)\n",
    "\n",
    "WHERE\n",
    "    c.first_label != c.death_24hr_recent_label\n",
    "\n",
    "GROUP by x.dx_name\n",
    "\"\n",
    "\n",
    "# submit the query:\n",
    "update.packages('Rcpp')\n",
    "x2 <- dbGetQuery(con, q)\n",
    "dim(x2)\n",
    "colnames(x2)"
   ]
  },
  {
   "cell_type": "raw",
   "metadata": {},
   "source": [
    "# full cohort\n",
    "q = \"\n",
    "SELECT x.dx_name, count(x.dx_name) AS n\n",
    "FROM \n",
    "    `som-nero-phi-jonc101.triageTD.1_4_cohort` as c\n",
    "JOIN \n",
    "    `som-nero-phi-jonc101.shc_core.diagnosis_code` as x\n",
    "ON \n",
    "    (c.anon_id = x.anon_id and c.pat_enc_csn_id_coded = x.pat_enc_csn_id_jittered)\n",
    "\n",
    "WHERE (x.ed = 'Y')\n",
    "\n",
    "GROUP by x.dx_name\n",
    "\"\n",
    "\n",
    "# submit the query:\n",
    "update.packages('Rcpp')\n",
    "x3 <- dbGetQuery(con, q)\n",
    "dim(x3)\n",
    "colnames(x3)"
   ]
  },
  {
   "cell_type": "raw",
   "metadata": {},
   "source": [
    "# transfers cohort testing\n",
    "q = \"\n",
    "SELECT distinct c.anon_id, c.pat_enc_csn_id_coded, x.dx_name, x.primary, x.ed\n",
    "FROM \n",
    "    `som-nero-phi-jonc101.triageTD.1_4N_cohort` as c\n",
    "JOIN \n",
    "    `som-nero-phi-jonc101.shc_core.diagnosis_code` as x\n",
    "ON \n",
    "    (c.anon_id = x.anon_id and c.pat_enc_csn_id_coded = x.pat_enc_csn_id_jittered)\n",
    "WHERE (x.ed = 'Y')\n",
    "\"\n",
    "\n",
    "# submit the query:\n",
    "update.packages('Rcpp')\n",
    "x3 <- dbGetQuery(con, q)\n",
    "dim(x3)\n",
    "colnames(x3)"
   ]
  },
  {
   "cell_type": "raw",
   "metadata": {},
   "source": [
    "# transfer cohort\n",
    "q = \"\n",
    "SELECT x.dx_name, count(x.dx_name) AS n\n",
    "FROM \n",
    "    `som-nero-phi-jonc101.triageTD.1_4_cohort` as c\n",
    "JOIN \n",
    "    `som-nero-phi-jonc101.shc_core.diagnosis_code` as x\n",
    "ON \n",
    "    (c.anon_id = x.anon_id and c.pat_enc_csn_id_coded = x.pat_enc_csn_id_jittered)\n",
    "\n",
    "WHERE (c.first_label != c.death_24hr_recent_label and x.ed = 'Y')\n",
    "\n",
    "GROUP by x.dx_name\n",
    "\"\n",
    "\n",
    "# submit the query:\n",
    "update.packages('Rcpp')\n",
    "x3 <- dbGetQuery(con, q)\n",
    "dim(x3)\n",
    "colnames(x3)"
   ]
  },
  {
   "cell_type": "raw",
   "metadata": {},
   "source": [
    "# full cohort\n",
    "q = \"\n",
    "SELECT x.dx_name, count(x.dx_name) AS n\n",
    "FROM \n",
    "    `som-nero-phi-jonc101.triageTD.1_4_cohort` as c\n",
    "JOIN \n",
    "    `som-nero-phi-jonc101.shc_core.diagnosis_code` as x\n",
    "ON \n",
    "    (c.anon_id = x.anon_id and c.pat_enc_csn_id_coded = x.pat_enc_csn_id_jittered)\n",
    "\n",
    "WHERE (x.ed = 'Y' and primary='Y')\n",
    "\n",
    "GROUP by x.dx_name\n",
    "\"\n",
    "\n",
    "# submit the query:\n",
    "update.packages('Rcpp')\n",
    "x4 <- dbGetQuery(con, q)\n",
    "dim(x4)\n",
    "colnames(x4)"
   ]
  },
  {
   "cell_type": "raw",
   "metadata": {},
   "source": [
    "# transfer cohort\n",
    "q = \"\n",
    "SELECT x.dx_name, count(x.dx_name) AS n\n",
    "FROM \n",
    "    `som-nero-phi-jonc101.triageTD.1_4_cohort` as c\n",
    "JOIN \n",
    "    `som-nero-phi-jonc101.shc_core.diagnosis_code` as x\n",
    "ON \n",
    "    (c.anon_id = x.anon_id and c.pat_enc_csn_id_coded = x.pat_enc_csn_id_jittered)\n",
    "\n",
    "WHERE (c.first_label != c.death_24hr_recent_label and x.ed = 'Y' and primary='Y')\n",
    "\n",
    "GROUP by x.dx_name\n",
    "\"\n",
    "\n",
    "# submit the query:\n",
    "update.packages('Rcpp')\n",
    "x4 <- dbGetQuery(con, q)\n",
    "dim(x4)\n",
    "colnames(x4)"
   ]
  }
 ],
 "metadata": {
  "environment": {
   "name": "r-cpu.4-0.m71",
   "type": "gcloud",
   "uri": "gcr.io/deeplearning-platform-release/r-cpu.4-0:m71"
  },
  "kernelspec": {
   "display_name": "R",
   "language": "R",
   "name": "ir"
  },
  "language_info": {
   "codemirror_mode": "r",
   "file_extension": ".r",
   "mimetype": "text/x-r-source",
   "name": "R",
   "pygments_lexer": "r",
   "version": "4.0.3"
  },
  "toc": {
   "base_numbering": 1,
   "nav_menu": {},
   "number_sections": true,
   "sideBar": true,
   "skip_h1_title": false,
   "title_cell": "Table of Contents",
   "title_sidebar": "Contents",
   "toc_cell": false,
   "toc_position": {},
   "toc_section_display": true,
   "toc_window_display": false
  },
  "varInspector": {
   "cols": {
    "lenName": 16,
    "lenType": 16,
    "lenVar": 40
   },
   "kernels_config": {
    "python": {
     "delete_cmd_postfix": "",
     "delete_cmd_prefix": "del ",
     "library": "var_list.py",
     "varRefreshCmd": "print(var_dic_list())"
    },
    "r": {
     "delete_cmd_postfix": ") ",
     "delete_cmd_prefix": "rm(",
     "library": "var_list.r",
     "varRefreshCmd": "cat(var_dic_list()) "
    }
   },
   "types_to_exclude": [
    "module",
    "function",
    "builtin_function_or_method",
    "instance",
    "_Feature"
   ],
   "window_display": false
  }
 },
 "nbformat": 4,
 "nbformat_minor": 4
}
