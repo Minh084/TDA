{
 "cells": [
  {
   "cell_type": "markdown",
   "metadata": {},
   "source": [
    "## Descriptions:\n",
    "- Query other tables on shc\n",
    "- Some bigger queries cannot be done in this notebook. use separate SQL file in python instead\n",
    "\n",
    "**Inputs**:  \n",
    "- `1_4_cohort_diff_full_features`: contains cohort with most difference pdiff >= 0.3\n",
    "  \n",
    "**Outputs**: \n"
   ]
  },
  {
   "cell_type": "raw",
   "metadata": {},
   "source": [
    "install.packages('bigrquery')\n",
    "# Installing package into 'C:/Users/User/Documents/R/win-library/4.0'\n",
    "# (as 'lib' is unspecified)\n",
    "# The downloaded binary packages are in\n",
    "# \tC:\\Users\\User\\AppData\\Local\\Temp\\RtmpaumGcc\\downloaded_packages"
   ]
  },
  {
   "cell_type": "markdown",
   "metadata": {},
   "source": [
    "### Importing R libraries"
   ]
  },
  {
   "cell_type": "code",
   "execution_count": 1,
   "metadata": {
    "ExecuteTime": {
     "end_time": "2020-05-21T00:38:06.078240Z",
     "start_time": "2020-05-21T00:38:02.778Z"
    }
   },
   "outputs": [
    {
     "name": "stderr",
     "output_type": "stream",
     "text": [
      "Warning message:\n",
      "\"package 'bigrquery' was built under R version 4.0.5\"\n",
      "-- \u001b[1mAttaching packages\u001b[22m --------------------------------------- tidyverse 1.3.0 --\n",
      "\n",
      "\u001b[32mv\u001b[39m \u001b[34mggplot2\u001b[39m 3.3.2     \u001b[32mv\u001b[39m \u001b[34mpurrr  \u001b[39m 0.3.4\n",
      "\u001b[32mv\u001b[39m \u001b[34mtibble \u001b[39m 3.0.4     \u001b[32mv\u001b[39m \u001b[34mdplyr  \u001b[39m 1.0.2\n",
      "\u001b[32mv\u001b[39m \u001b[34mtidyr  \u001b[39m 1.1.2     \u001b[32mv\u001b[39m \u001b[34mstringr\u001b[39m 1.4.0\n",
      "\u001b[32mv\u001b[39m \u001b[34mreadr  \u001b[39m 1.4.0     \u001b[32mv\u001b[39m \u001b[34mforcats\u001b[39m 0.5.0\n",
      "\n",
      "-- \u001b[1mConflicts\u001b[22m ------------------------------------------ tidyverse_conflicts() --\n",
      "\u001b[31mx\u001b[39m \u001b[34mdplyr\u001b[39m::\u001b[32mfilter()\u001b[39m masks \u001b[34mstats\u001b[39m::filter()\n",
      "\u001b[31mx\u001b[39m \u001b[34mdplyr\u001b[39m::\u001b[32mlag()\u001b[39m    masks \u001b[34mstats\u001b[39m::lag()\n",
      "\n",
      "\n",
      "Attaching package: 'lubridate'\n",
      "\n",
      "\n",
      "The following objects are masked from 'package:base':\n",
      "\n",
      "    date, intersect, setdiff, union\n",
      "\n",
      "\n"
     ]
    }
   ],
   "source": [
    "library(bigrquery)  # to query STARR-OMOP (stored in BigQuery) using SQL\n",
    "library(tidyverse)\n",
    "library(lubridate)\n",
    "\n",
    "# options(repr.matrix.max.rows=250, repr.matrix.max.cols=30)"
   ]
  },
  {
   "cell_type": "markdown",
   "metadata": {},
   "source": [
    "### Set up and run queries"
   ]
  },
  {
   "cell_type": "code",
   "execution_count": 14,
   "metadata": {},
   "outputs": [
    {
     "data": {
      "text/plain": [
       "NULL"
      ]
     },
     "metadata": {},
     "output_type": "display_data"
    }
   ],
   "source": [
    "# CREDENTIALS depending on LOCATIONS:\n",
    "# credential <- paste0(\"/home/\", \"minh084\", \"/.config/gcloud/application_default_credentials.json\")\n",
    "\n",
    "# local computer\n",
    "# credential <- \"C:/Users/User/AppData/Roaming/gcloud/application_default_credentials.json\"\n",
    "\n",
    "# Nero onprem\n",
    "# credential <- \"/home/minh084/.config/gcloud/application_default_credentials.json\"\n",
    "\n",
    "# Nero gcp notebook\n",
    "credential <- \"/home/jupyter/.config/gcloud/application_default_credentials.json\"\n",
    "\n",
    "project_id <- \"som-nero-phi-jonc101\"\n",
    "\n",
    "Sys.setenv(GOOGLE_APPLICATION_CREDENTIALS = credential)\n",
    "Sys.setenv(GCLOUD_PROJECT = project_id)\n",
    "gargle::credentials_app_default()"
   ]
  },
  {
   "cell_type": "code",
   "execution_count": 15,
   "metadata": {},
   "outputs": [
    {
     "data": {
      "text/plain": [
       "<BigQueryConnection>\n",
       "  Dataset: som-nero-phi-jonc101.shc_core\n",
       "  Billing: som-nero-phi-jonc101"
      ]
     },
     "metadata": {},
     "output_type": "display_data"
    },
    {
     "data": {
      "text/html": [
       "<style>\n",
       ".list-inline {list-style: none; margin:0; padding: 0}\n",
       ".list-inline>li {display: inline-block}\n",
       ".list-inline>li:not(:last-child)::after {content: \"\\00b7\"; padding: 0 .5ex}\n",
       "</style>\n",
       "<ol class=list-inline><li>'adt'</li><li>'allergy'</li><li>'culture_sensitivity'</li><li>'demographic'</li><li>'dep_map'</li><li>'diagnosis_code'</li><li>'drg_code'</li><li>'encounter'</li><li>'family_hx'</li><li>'flowsheet'</li><li>'lab_result'</li><li>'lda'</li><li>'mapped_meds'</li><li>'mar'</li><li>'med_orderset'</li><li>'ndc_code'</li><li>'order_med'</li><li>'order_proc'</li><li>'order_quest'</li><li>'proc_note'</li><li>'proc_orderset'</li><li>'procedure_code'</li><li>'prov_map'</li><li>'social_hx'</li><li>'treatment_team'</li></ol>\n"
      ],
      "text/latex": [
       "\\begin{enumerate*}\n",
       "\\item 'adt'\n",
       "\\item 'allergy'\n",
       "\\item 'culture\\_sensitivity'\n",
       "\\item 'demographic'\n",
       "\\item 'dep\\_map'\n",
       "\\item 'diagnosis\\_code'\n",
       "\\item 'drg\\_code'\n",
       "\\item 'encounter'\n",
       "\\item 'family\\_hx'\n",
       "\\item 'flowsheet'\n",
       "\\item 'lab\\_result'\n",
       "\\item 'lda'\n",
       "\\item 'mapped\\_meds'\n",
       "\\item 'mar'\n",
       "\\item 'med\\_orderset'\n",
       "\\item 'ndc\\_code'\n",
       "\\item 'order\\_med'\n",
       "\\item 'order\\_proc'\n",
       "\\item 'order\\_quest'\n",
       "\\item 'proc\\_note'\n",
       "\\item 'proc\\_orderset'\n",
       "\\item 'procedure\\_code'\n",
       "\\item 'prov\\_map'\n",
       "\\item 'social\\_hx'\n",
       "\\item 'treatment\\_team'\n",
       "\\end{enumerate*}\n"
      ],
      "text/markdown": [
       "1. 'adt'\n",
       "2. 'allergy'\n",
       "3. 'culture_sensitivity'\n",
       "4. 'demographic'\n",
       "5. 'dep_map'\n",
       "6. 'diagnosis_code'\n",
       "7. 'drg_code'\n",
       "8. 'encounter'\n",
       "9. 'family_hx'\n",
       "10. 'flowsheet'\n",
       "11. 'lab_result'\n",
       "12. 'lda'\n",
       "13. 'mapped_meds'\n",
       "14. 'mar'\n",
       "15. 'med_orderset'\n",
       "16. 'ndc_code'\n",
       "17. 'order_med'\n",
       "18. 'order_proc'\n",
       "19. 'order_quest'\n",
       "20. 'proc_note'\n",
       "21. 'proc_orderset'\n",
       "22. 'procedure_code'\n",
       "23. 'prov_map'\n",
       "24. 'social_hx'\n",
       "25. 'treatment_team'\n",
       "\n",
       "\n"
      ],
      "text/plain": [
       " [1] \"adt\"                 \"allergy\"             \"culture_sensitivity\"\n",
       " [4] \"demographic\"         \"dep_map\"             \"diagnosis_code\"     \n",
       " [7] \"drg_code\"            \"encounter\"           \"family_hx\"          \n",
       "[10] \"flowsheet\"           \"lab_result\"          \"lda\"                \n",
       "[13] \"mapped_meds\"         \"mar\"                 \"med_orderset\"       \n",
       "[16] \"ndc_code\"            \"order_med\"           \"order_proc\"         \n",
       "[19] \"order_quest\"         \"proc_note\"           \"proc_orderset\"      \n",
       "[22] \"procedure_code\"      \"prov_map\"            \"social_hx\"          \n",
       "[25] \"treatment_team\"     "
      ]
     },
     "metadata": {},
     "output_type": "display_data"
    }
   ],
   "source": [
    "library(DBI)\n",
    "con <- dbConnect(\n",
    "  bigrquery::bigquery(),\n",
    "  project = project_id,\n",
    "  dataset = \"shc_core\" #, billing = project_id\n",
    ")\n",
    "con \n",
    "dbListTables(con)"
   ]
  },
  {
   "cell_type": "code",
   "execution_count": 2,
   "metadata": {},
   "outputs": [],
   "source": [
    "# directories\n",
    "datadir = \"../../DataTD\"\n",
    "cohortdir = \"../../OutputTD/1_cohort\"\n",
    "featuredir = \"../../OutputTD/2_features\"\n",
    "modeldir4 = \"../../OutputTD/3_models/1_4_cohort\"\n",
    "# modeldir4preadmit = \"../../OutputTD/3_models/1_4_cohort_24hrpreadmit\"\n",
    "\n",
    "options(repr.matrix.max.rows=200, repr.matrix.max.cols=30)"
   ]
  },
  {
   "cell_type": "code",
   "execution_count": 5,
   "metadata": {},
   "outputs": [
    {
     "data": {
      "text/html": [
       "71586"
      ],
      "text/latex": [
       "71586"
      ],
      "text/markdown": [
       "71586"
      ],
      "text/plain": [
       "[1] 71586"
      ]
     },
     "metadata": {},
     "output_type": "display_data"
    },
    {
     "data": {
      "text/html": [
       "71586"
      ],
      "text/latex": [
       "71586"
      ],
      "text/markdown": [
       "71586"
      ],
      "text/plain": [
       "[1] 71586"
      ]
     },
     "metadata": {},
     "output_type": "display_data"
    },
    {
     "data": {
      "text/html": [
       "301"
      ],
      "text/latex": [
       "301"
      ],
      "text/markdown": [
       "301"
      ],
      "text/plain": [
       "[1] 301"
      ]
     },
     "metadata": {},
     "output_type": "display_data"
    },
    {
     "data": {
      "text/html": [
       "323"
      ],
      "text/latex": [
       "323"
      ],
      "text/markdown": [
       "323"
      ],
      "text/plain": [
       "[1] 323"
      ]
     },
     "metadata": {},
     "output_type": "display_data"
    },
    {
     "name": "stderr",
     "output_type": "stream",
     "text": [
      "`summarise()` ungrouping output (override with `.groups` argument)\n",
      "\n"
     ]
    },
    {
     "data": {
      "text/html": [
       "<table>\n",
       "<caption>A tibble: 5 × 6</caption>\n",
       "<thead>\n",
       "\t<tr><th scope=col>abs_diff0_24</th><th scope=col>nrows</th><th scope=col>count_csn</th><th scope=col>count_mrn</th><th scope=col>cum_csn</th><th scope=col>cum_mrn</th></tr>\n",
       "\t<tr><th scope=col>&lt;dbl&gt;</th><th scope=col>&lt;int&gt;</th><th scope=col>&lt;int&gt;</th><th scope=col>&lt;int&gt;</th><th scope=col>&lt;int&gt;</th><th scope=col>&lt;int&gt;</th></tr>\n",
       "</thead>\n",
       "<tbody>\n",
       "\t<tr><td>0.7</td><td>  560</td><td>  3</td><td>  3</td><td>  3</td><td>  3</td></tr>\n",
       "\t<tr><td>0.6</td><td> 1042</td><td>  7</td><td>  7</td><td> 10</td><td> 10</td></tr>\n",
       "\t<tr><td>0.5</td><td> 6559</td><td> 27</td><td> 24</td><td> 37</td><td> 34</td></tr>\n",
       "\t<tr><td>0.4</td><td>19690</td><td> 80</td><td> 77</td><td>117</td><td>111</td></tr>\n",
       "\t<tr><td>0.3</td><td>43735</td><td>206</td><td>204</td><td>323</td><td>315</td></tr>\n",
       "</tbody>\n",
       "</table>\n"
      ],
      "text/latex": [
       "A tibble: 5 × 6\n",
       "\\begin{tabular}{llllll}\n",
       " abs\\_diff0\\_24 & nrows & count\\_csn & count\\_mrn & cum\\_csn & cum\\_mrn\\\\\n",
       " <dbl> & <int> & <int> & <int> & <int> & <int>\\\\\n",
       "\\hline\n",
       "\t 0.7 &   560 &   3 &   3 &   3 &   3\\\\\n",
       "\t 0.6 &  1042 &   7 &   7 &  10 &  10\\\\\n",
       "\t 0.5 &  6559 &  27 &  24 &  37 &  34\\\\\n",
       "\t 0.4 & 19690 &  80 &  77 & 117 & 111\\\\\n",
       "\t 0.3 & 43735 & 206 & 204 & 323 & 315\\\\\n",
       "\\end{tabular}\n"
      ],
      "text/markdown": [
       "\n",
       "A tibble: 5 × 6\n",
       "\n",
       "| abs_diff0_24 &lt;dbl&gt; | nrows &lt;int&gt; | count_csn &lt;int&gt; | count_mrn &lt;int&gt; | cum_csn &lt;int&gt; | cum_mrn &lt;int&gt; |\n",
       "|---|---|---|---|---|---|\n",
       "| 0.7 |   560 |   3 |   3 |   3 |   3 |\n",
       "| 0.6 |  1042 |   7 |   7 |  10 |  10 |\n",
       "| 0.5 |  6559 |  27 |  24 |  37 |  34 |\n",
       "| 0.4 | 19690 |  80 |  77 | 117 | 111 |\n",
       "| 0.3 | 43735 | 206 | 204 | 323 | 315 |\n",
       "\n"
      ],
      "text/plain": [
       "  abs_diff0_24 nrows count_csn count_mrn cum_csn cum_mrn\n",
       "1 0.7            560   3         3         3       3    \n",
       "2 0.6           1042   7         7        10      10    \n",
       "3 0.5           6559  27        24        37      34    \n",
       "4 0.4          19690  80        77       117     111    \n",
       "5 0.3          43735 206       204       323     315    "
      ]
     },
     "metadata": {},
     "output_type": "display_data"
    }
   ],
   "source": [
    "cohort <- read.csv(file.path(modeldir4, \"1_4_cohort_diff_full_features.csv\")) %>% distinct()\n",
    "\n",
    "nrow(cohort) # 71589 vs 69334\n",
    "nrow(cohort %>% distinct())\n",
    "nrow(cohort %>% select(anon_id) %>% distinct()) # 304\n",
    "nrow(cohort %>% select(pat_enc_csn_id_coded) %>% distinct()) # 324\n",
    "\n",
    "# count anon_id and csn, count unique in each group, but possible to have same ids in different groups\n",
    "cohort %>%  distinct() %>% group_by(abs_diff0_24) %>% \n",
    "            summarise(nrows = n(), count_csn = n_distinct(pat_enc_csn_id_coded), count_mrn = n_distinct(anon_id)) %>% \n",
    "            arrange(-abs_diff0_24) %>% mutate(cum_csn = cumsum(count_csn), cum_mrn = cumsum(count_mrn))"
   ]
  },
  {
   "cell_type": "raw",
   "metadata": {},
   "source": [
    "# get the top IDs difference more than 0.4 and save them\n",
    "diff4pre <- read.csv(file.path(modeldir4preadmit, \"1_4_cohort_diff_full_features.csv\")) \n",
    "diff4pre <- diff4 %>% filter(abs_diff0_24 >=0.4) %>% distinct(anon_id)\n",
    "nrow(diff4pre) #107\n",
    "\n",
    "diff4 <- cohort %>% filter(abs_diff0_24 >=0.4) %>% distinct(anon_id)\n",
    "nrow(diff4) #100\n",
    "\n",
    "both04 <- full_join(diff4, diff4pre)\n",
    "nrow(both04) # 135\n",
    " \n",
    "inter04 <- inner_join(diff4, diff4pre)\n",
    "nrow(inter04) #72\n",
    "\n",
    "write.csv(both04, file.path(datadir, \"topIDs.csv\"), row.names=FALSE)\n",
    "write.csv(inter04, file.path(datadir, \"topIDsintersection.csv\"), row.names=FALSE)"
   ]
  },
  {
   "cell_type": "code",
   "execution_count": 7,
   "metadata": {},
   "outputs": [
    {
     "data": {
      "text/html": [
       "<table>\n",
       "<caption>A data.frame: 1 × 16</caption>\n",
       "<thead>\n",
       "\t<tr><th></th><th scope=col>anon_id</th><th scope=col>pat_enc_csn_id_coded</th><th scope=col>admit_time</th><th scope=col>first_label</th><th scope=col>death_24hr_recent_label</th><th scope=col>death_24hr_max_label</th><th scope=col>pred_first</th><th scope=col>pred_death_24hr_recent</th><th scope=col>abs_diff0_24</th><th scope=col>diff0_True</th><th scope=col>diff24_True</th><th scope=col>feature_type</th><th scope=col>features</th><th scope=col>values</th><th scope=col>time</th><th scope=col>hr_before_admit</th></tr>\n",
       "\t<tr><th></th><th scope=col>&lt;chr&gt;</th><th scope=col>&lt;dbl&gt;</th><th scope=col>&lt;chr&gt;</th><th scope=col>&lt;int&gt;</th><th scope=col>&lt;int&gt;</th><th scope=col>&lt;int&gt;</th><th scope=col>&lt;dbl&gt;</th><th scope=col>&lt;dbl&gt;</th><th scope=col>&lt;dbl&gt;</th><th scope=col>&lt;dbl&gt;</th><th scope=col>&lt;dbl&gt;</th><th scope=col>&lt;chr&gt;</th><th scope=col>&lt;chr&gt;</th><th scope=col>&lt;dbl&gt;</th><th scope=col>&lt;chr&gt;</th><th scope=col>&lt;dbl&gt;</th></tr>\n",
       "</thead>\n",
       "<tbody>\n",
       "\t<tr><th scope=row>1</th><td>JCcd3b9d</td><td>131267453587</td><td>2019-04-06 23:15:00</td><td>1</td><td>1</td><td>1</td><td>0.5339708</td><td>0.2470261</td><td>0.3</td><td>-0.47</td><td>-0.75</td><td>Procedures</td><td>LIMITED ULTRASOUND- CARDIAC TRANSTHORACIC ECHO</td><td>1</td><td>NA</td><td>NA</td></tr>\n",
       "</tbody>\n",
       "</table>\n"
      ],
      "text/latex": [
       "A data.frame: 1 × 16\n",
       "\\begin{tabular}{r|llllllllllllllll}\n",
       "  & anon\\_id & pat\\_enc\\_csn\\_id\\_coded & admit\\_time & first\\_label & death\\_24hr\\_recent\\_label & death\\_24hr\\_max\\_label & pred\\_first & pred\\_death\\_24hr\\_recent & abs\\_diff0\\_24 & diff0\\_True & diff24\\_True & feature\\_type & features & values & time & hr\\_before\\_admit\\\\\n",
       "  & <chr> & <dbl> & <chr> & <int> & <int> & <int> & <dbl> & <dbl> & <dbl> & <dbl> & <dbl> & <chr> & <chr> & <dbl> & <chr> & <dbl>\\\\\n",
       "\\hline\n",
       "\t1 & JCcd3b9d & 131267453587 & 2019-04-06 23:15:00 & 1 & 1 & 1 & 0.5339708 & 0.2470261 & 0.3 & -0.47 & -0.75 & Procedures & LIMITED ULTRASOUND- CARDIAC TRANSTHORACIC ECHO & 1 & NA & NA\\\\\n",
       "\\end{tabular}\n"
      ],
      "text/markdown": [
       "\n",
       "A data.frame: 1 × 16\n",
       "\n",
       "| <!--/--> | anon_id &lt;chr&gt; | pat_enc_csn_id_coded &lt;dbl&gt; | admit_time &lt;chr&gt; | first_label &lt;int&gt; | death_24hr_recent_label &lt;int&gt; | death_24hr_max_label &lt;int&gt; | pred_first &lt;dbl&gt; | pred_death_24hr_recent &lt;dbl&gt; | abs_diff0_24 &lt;dbl&gt; | diff0_True &lt;dbl&gt; | diff24_True &lt;dbl&gt; | feature_type &lt;chr&gt; | features &lt;chr&gt; | values &lt;dbl&gt; | time &lt;chr&gt; | hr_before_admit &lt;dbl&gt; |\n",
       "|---|---|---|---|---|---|---|---|---|---|---|---|---|---|---|---|---|\n",
       "| 1 | JCcd3b9d | 131267453587 | 2019-04-06 23:15:00 | 1 | 1 | 1 | 0.5339708 | 0.2470261 | 0.3 | -0.47 | -0.75 | Procedures | LIMITED ULTRASOUND- CARDIAC TRANSTHORACIC ECHO | 1 | NA | NA |\n",
       "\n"
      ],
      "text/plain": [
       "  anon_id  pat_enc_csn_id_coded admit_time          first_label\n",
       "1 JCcd3b9d 131267453587         2019-04-06 23:15:00 1          \n",
       "  death_24hr_recent_label death_24hr_max_label pred_first\n",
       "1 1                       1                    0.5339708 \n",
       "  pred_death_24hr_recent abs_diff0_24 diff0_True diff24_True feature_type\n",
       "1 0.2470261              0.3          -0.47      -0.75       Procedures  \n",
       "  features                                       values time hr_before_admit\n",
       "1 LIMITED ULTRASOUND- CARDIAC TRANSTHORACIC ECHO 1      NA   NA             "
      ]
     },
     "metadata": {},
     "output_type": "display_data"
    },
    {
     "data": {
      "text/html": [
       "<style>\n",
       ".list-inline {list-style: none; margin:0; padding: 0}\n",
       ".list-inline>li {display: inline-block}\n",
       ".list-inline>li:not(:last-child)::after {content: \"\\00b7\"; padding: 0 .5ex}\n",
       "</style>\n",
       "<ol class=list-inline><li>'anon_id'</li><li>'pat_enc_csn_id_coded'</li><li>'admit_time'</li><li>'first_label'</li><li>'death_24hr_recent_label'</li><li>'death_24hr_max_label'</li><li>'pred_first'</li><li>'pred_death_24hr_recent'</li><li>'abs_diff0_24'</li><li>'diff0_True'</li><li>'diff24_True'</li><li>'feature_type'</li><li>'features'</li><li>'values'</li><li>'time'</li><li>'hr_before_admit'</li></ol>\n"
      ],
      "text/latex": [
       "\\begin{enumerate*}\n",
       "\\item 'anon\\_id'\n",
       "\\item 'pat\\_enc\\_csn\\_id\\_coded'\n",
       "\\item 'admit\\_time'\n",
       "\\item 'first\\_label'\n",
       "\\item 'death\\_24hr\\_recent\\_label'\n",
       "\\item 'death\\_24hr\\_max\\_label'\n",
       "\\item 'pred\\_first'\n",
       "\\item 'pred\\_death\\_24hr\\_recent'\n",
       "\\item 'abs\\_diff0\\_24'\n",
       "\\item 'diff0\\_True'\n",
       "\\item 'diff24\\_True'\n",
       "\\item 'feature\\_type'\n",
       "\\item 'features'\n",
       "\\item 'values'\n",
       "\\item 'time'\n",
       "\\item 'hr\\_before\\_admit'\n",
       "\\end{enumerate*}\n"
      ],
      "text/markdown": [
       "1. 'anon_id'\n",
       "2. 'pat_enc_csn_id_coded'\n",
       "3. 'admit_time'\n",
       "4. 'first_label'\n",
       "5. 'death_24hr_recent_label'\n",
       "6. 'death_24hr_max_label'\n",
       "7. 'pred_first'\n",
       "8. 'pred_death_24hr_recent'\n",
       "9. 'abs_diff0_24'\n",
       "10. 'diff0_True'\n",
       "11. 'diff24_True'\n",
       "12. 'feature_type'\n",
       "13. 'features'\n",
       "14. 'values'\n",
       "15. 'time'\n",
       "16. 'hr_before_admit'\n",
       "\n",
       "\n"
      ],
      "text/plain": [
       " [1] \"anon_id\"                 \"pat_enc_csn_id_coded\"   \n",
       " [3] \"admit_time\"              \"first_label\"            \n",
       " [5] \"death_24hr_recent_label\" \"death_24hr_max_label\"   \n",
       " [7] \"pred_first\"              \"pred_death_24hr_recent\" \n",
       " [9] \"abs_diff0_24\"            \"diff0_True\"             \n",
       "[11] \"diff24_True\"             \"feature_type\"           \n",
       "[13] \"features\"                \"values\"                 \n",
       "[15] \"time\"                    \"hr_before_admit\"        "
      ]
     },
     "metadata": {},
     "output_type": "display_data"
    }
   ],
   "source": [
    "head(cohort, 1)\n",
    "colnames(cohort)"
   ]
  },
  {
   "cell_type": "raw",
   "metadata": {},
   "source": [
    "cohort %>% filter(abs_diff0_24 >= 0.4, first_label == first_label) %>% distinct(anon_id, pat_enc_csn_id_coded)\n",
    "cohort %>% filter(abs_diff0_24 >= 0.4, first_label == first_label) %>% distinct(anon_id)"
   ]
  },
  {
   "cell_type": "code",
   "execution_count": 8,
   "metadata": {},
   "outputs": [
    {
     "data": {
      "text/html": [
       "135"
      ],
      "text/latex": [
       "135"
      ],
      "text/markdown": [
       "135"
      ],
      "text/plain": [
       "[1] 135"
      ]
     },
     "metadata": {},
     "output_type": "display_data"
    },
    {
     "data": {
      "text/html": [
       "<table>\n",
       "<caption>A data.frame: 6 × 5</caption>\n",
       "<thead>\n",
       "\t<tr><th></th><th scope=col>X</th><th scope=col>MRN</th><th scope=col>ANON_ID</th><th scope=col>JITTER</th><th scope=col>anon_id</th></tr>\n",
       "\t<tr><th></th><th scope=col>&lt;int&gt;</th><th scope=col>&lt;int&gt;</th><th scope=col>&lt;chr&gt;</th><th scope=col>&lt;chr&gt;</th><th scope=col>&lt;chr&gt;</th></tr>\n",
       "</thead>\n",
       "<tbody>\n",
       "\t<tr><th scope=row>1</th><td>0</td><td>30344139</td><td>JCe9b234 </td><td>-24 days +00:00:00.000000000</td><td>JCe9b234 </td></tr>\n",
       "\t<tr><th scope=row>2</th><td>1</td><td>76189257</td><td>JC2a12b37</td><td>27 days 00:00:00.000000000  </td><td>JC2a12b37</td></tr>\n",
       "\t<tr><th scope=row>3</th><td>2</td><td>35588730</td><td>JCe03bac </td><td>-12 days +00:00:00.000000000</td><td>JCe03bac </td></tr>\n",
       "\t<tr><th scope=row>4</th><td>3</td><td>19039593</td><td>JCe6f82d </td><td>11 days 00:00:00.000000000  </td><td>JCe6f82d </td></tr>\n",
       "\t<tr><th scope=row>5</th><td>4</td><td>19998962</td><td>JCe3b5e6 </td><td>11 days 00:00:00.000000000  </td><td>JCe3b5e6 </td></tr>\n",
       "\t<tr><th scope=row>6</th><td>5</td><td>34007724</td><td>JCd5f913 </td><td>-11 days +00:00:00.000000000</td><td>JCd5f913 </td></tr>\n",
       "</tbody>\n",
       "</table>\n"
      ],
      "text/latex": [
       "A data.frame: 6 × 5\n",
       "\\begin{tabular}{r|lllll}\n",
       "  & X & MRN & ANON\\_ID & JITTER & anon\\_id\\\\\n",
       "  & <int> & <int> & <chr> & <chr> & <chr>\\\\\n",
       "\\hline\n",
       "\t1 & 0 & 30344139 & JCe9b234  & -24 days +00:00:00.000000000 & JCe9b234 \\\\\n",
       "\t2 & 1 & 76189257 & JC2a12b37 & 27 days 00:00:00.000000000   & JC2a12b37\\\\\n",
       "\t3 & 2 & 35588730 & JCe03bac  & -12 days +00:00:00.000000000 & JCe03bac \\\\\n",
       "\t4 & 3 & 19039593 & JCe6f82d  & 11 days 00:00:00.000000000   & JCe6f82d \\\\\n",
       "\t5 & 4 & 19998962 & JCe3b5e6  & 11 days 00:00:00.000000000   & JCe3b5e6 \\\\\n",
       "\t6 & 5 & 34007724 & JCd5f913  & -11 days +00:00:00.000000000 & JCd5f913 \\\\\n",
       "\\end{tabular}\n"
      ],
      "text/markdown": [
       "\n",
       "A data.frame: 6 × 5\n",
       "\n",
       "| <!--/--> | X &lt;int&gt; | MRN &lt;int&gt; | ANON_ID &lt;chr&gt; | JITTER &lt;chr&gt; | anon_id &lt;chr&gt; |\n",
       "|---|---|---|---|---|---|\n",
       "| 1 | 0 | 30344139 | JCe9b234  | -24 days +00:00:00.000000000 | JCe9b234  |\n",
       "| 2 | 1 | 76189257 | JC2a12b37 | 27 days 00:00:00.000000000   | JC2a12b37 |\n",
       "| 3 | 2 | 35588730 | JCe03bac  | -12 days +00:00:00.000000000 | JCe03bac  |\n",
       "| 4 | 3 | 19039593 | JCe6f82d  | 11 days 00:00:00.000000000   | JCe6f82d  |\n",
       "| 5 | 4 | 19998962 | JCe3b5e6  | 11 days 00:00:00.000000000   | JCe3b5e6  |\n",
       "| 6 | 5 | 34007724 | JCd5f913  | -11 days +00:00:00.000000000 | JCd5f913  |\n",
       "\n"
      ],
      "text/plain": [
       "  X MRN      ANON_ID   JITTER                       anon_id  \n",
       "1 0 30344139 JCe9b234  -24 days +00:00:00.000000000 JCe9b234 \n",
       "2 1 76189257 JC2a12b37 27 days 00:00:00.000000000   JC2a12b37\n",
       "3 2 35588730 JCe03bac  -12 days +00:00:00.000000000 JCe03bac \n",
       "4 3 19039593 JCe6f82d  11 days 00:00:00.000000000   JCe6f82d \n",
       "5 4 19998962 JCe3b5e6  11 days 00:00:00.000000000   JCe3b5e6 \n",
       "6 5 34007724 JCd5f913  -11 days +00:00:00.000000000 JCd5f913 "
      ]
     },
     "metadata": {},
     "output_type": "display_data"
    }
   ],
   "source": [
    "# check with previous set sent to Morteza\n",
    "reid <- read.csv(file.path(datadir, \"topIDre.csv\"))\n",
    "nrow(reid)\n",
    "head(reid)"
   ]
  },
  {
   "cell_type": "code",
   "execution_count": 13,
   "metadata": {},
   "outputs": [
    {
     "data": {
      "text/html": [
       "105"
      ],
      "text/latex": [
       "105"
      ],
      "text/markdown": [
       "105"
      ],
      "text/plain": [
       "[1] 105"
      ]
     },
     "metadata": {},
     "output_type": "display_data"
    },
    {
     "data": {
      "text/html": [
       "100"
      ],
      "text/latex": [
       "100"
      ],
      "text/markdown": [
       "100"
      ],
      "text/plain": [
       "[1] 100"
      ]
     },
     "metadata": {},
     "output_type": "display_data"
    },
    {
     "data": {
      "text/html": [
       "<table>\n",
       "<caption>A data.frame: 5 × 1</caption>\n",
       "<thead>\n",
       "\t<tr><th scope=col>anon_id</th></tr>\n",
       "\t<tr><th scope=col>&lt;chr&gt;</th></tr>\n",
       "</thead>\n",
       "<tbody>\n",
       "\t<tr><td>JC2a1185a</td></tr>\n",
       "\t<tr><td>JC2a04c24</td></tr>\n",
       "\t<tr><td>JCd25b42 </td></tr>\n",
       "\t<tr><td>JCcf91c6 </td></tr>\n",
       "\t<tr><td>JCe4a797 </td></tr>\n",
       "</tbody>\n",
       "</table>\n"
      ],
      "text/latex": [
       "A data.frame: 5 × 1\n",
       "\\begin{tabular}{l}\n",
       " anon\\_id\\\\\n",
       " <chr>\\\\\n",
       "\\hline\n",
       "\t JC2a1185a\\\\\n",
       "\t JC2a04c24\\\\\n",
       "\t JCd25b42 \\\\\n",
       "\t JCcf91c6 \\\\\n",
       "\t JCe4a797 \\\\\n",
       "\\end{tabular}\n"
      ],
      "text/markdown": [
       "\n",
       "A data.frame: 5 × 1\n",
       "\n",
       "| anon_id &lt;chr&gt; |\n",
       "|---|\n",
       "| JC2a1185a |\n",
       "| JC2a04c24 |\n",
       "| JCd25b42  |\n",
       "| JCcf91c6  |\n",
       "| JCe4a797  |\n",
       "\n"
      ],
      "text/plain": [
       "  anon_id  \n",
       "1 JC2a1185a\n",
       "2 JC2a04c24\n",
       "3 JCd25b42 \n",
       "4 JCcf91c6 \n",
       "5 JCe4a797 "
      ]
     },
     "metadata": {},
     "output_type": "display_data"
    },
    {
     "data": {
      "text/html": [
       "<style>\n",
       ".list-inline {list-style: none; margin:0; padding: 0}\n",
       ".list-inline>li {display: inline-block}\n",
       ".list-inline>li:not(:last-child)::after {content: \"\\00b7\"; padding: 0 .5ex}\n",
       "</style>\n",
       "<ol class=list-inline><li>'JC2a1185a'</li><li>'JC2a04c24'</li><li>'JCd25b42'</li><li>'JCcf91c6'</li><li>'JCe4a797'</li></ol>\n"
      ],
      "text/latex": [
       "\\begin{enumerate*}\n",
       "\\item 'JC2a1185a'\n",
       "\\item 'JC2a04c24'\n",
       "\\item 'JCd25b42'\n",
       "\\item 'JCcf91c6'\n",
       "\\item 'JCe4a797'\n",
       "\\end{enumerate*}\n"
      ],
      "text/markdown": [
       "1. 'JC2a1185a'\n",
       "2. 'JC2a04c24'\n",
       "3. 'JCd25b42'\n",
       "4. 'JCcf91c6'\n",
       "5. 'JCe4a797'\n",
       "\n",
       "\n"
      ],
      "text/plain": [
       "[1] \"JC2a1185a\" \"JC2a04c24\" \"JCd25b42\"  \"JCcf91c6\"  \"JCe4a797\" "
      ]
     },
     "metadata": {},
     "output_type": "display_data"
    }
   ],
   "source": [
    "# filter those with diff >= 0.4\n",
    "diff4 <- cohort %>% filter(abs_diff0_24 >=0.4) %>% distinct(anon_id)\n",
    "nrow(diff4)\n",
    "sum(diff4$anon_id %in% reid$anon_id) # missing 5\n",
    "\n",
    "diff4 %>% filter(!anon_id %in% reid$anon_id) %>% select(anon_id)\n",
    "setdiff(diff4$anon_id, reid$anon_id)\n",
    "# setdiff(reid$anon_id, diff4$anon_id)"
   ]
  },
  {
   "cell_type": "markdown",
   "metadata": {},
   "source": [
    "### Checking diagnosis to compare with total cohort"
   ]
  },
  {
   "cell_type": "code",
   "execution_count": 14,
   "metadata": {},
   "outputs": [
    {
     "data": {
      "text/html": [
       "1239918"
      ],
      "text/latex": [
       "1239918"
      ],
      "text/markdown": [
       "1239918"
      ],
      "text/plain": [
       "[1] 1239918"
      ]
     },
     "metadata": {},
     "output_type": "display_data"
    },
    {
     "data": {
      "text/html": [
       "43932"
      ],
      "text/latex": [
       "43932"
      ],
      "text/markdown": [
       "43932"
      ],
      "text/plain": [
       "[1] 43932"
      ]
     },
     "metadata": {},
     "output_type": "display_data"
    }
   ],
   "source": [
    "# all dx from 1_4_cohort, SQL query\n",
    "dx <- read.csv(file.path(datadir, \"4_1_dx_all.csv\"))\n",
    "nrow(dx)\n",
    "length(unique(dx$pat_enc_csn_id_coded)) # full cohort is 43980"
   ]
  },
  {
   "cell_type": "code",
   "execution_count": 15,
   "metadata": {},
   "outputs": [
    {
     "data": {
      "text/html": [
       "<table>\n",
       "<caption>A data.frame: 20 × 3</caption>\n",
       "<thead>\n",
       "\t<tr><th></th><th scope=col>dx_name</th><th scope=col>n</th><th scope=col>perc</th></tr>\n",
       "\t<tr><th></th><th scope=col>&lt;chr&gt;</th><th scope=col>&lt;int&gt;</th><th scope=col>&lt;dbl&gt;</th></tr>\n",
       "</thead>\n",
       "<tbody>\n",
       "\t<tr><th scope=row>1</th><td>Other long term (current) drug therapy                                         </td><td>12409</td><td>28.25</td></tr>\n",
       "\t<tr><th scope=row>2</th><td>Hyperlipidemia, unspecified                                                    </td><td>11532</td><td>26.25</td></tr>\n",
       "\t<tr><th scope=row>3</th><td>Essential (primary) hypertension                                               </td><td>10691</td><td>24.34</td></tr>\n",
       "\t<tr><th scope=row>4</th><td>Personal history of nicotine dependence                                        </td><td> 9969</td><td>22.69</td></tr>\n",
       "\t<tr><th scope=row>5</th><td>Long term (current) use of aspirin                                             </td><td> 7188</td><td>16.36</td></tr>\n",
       "\t<tr><th scope=row>6</th><td>Gastro-esophageal reflux disease without esophagitis                           </td><td> 6725</td><td>15.31</td></tr>\n",
       "\t<tr><th scope=row>7</th><td>Acute kidney failure, unspecified                                              </td><td> 6538</td><td>14.88</td></tr>\n",
       "\t<tr><th scope=row>8</th><td>Major depressive disorder, single episode, unspecified                         </td><td> 5719</td><td>13.02</td></tr>\n",
       "\t<tr><th scope=row>9</th><td>Long term (current) use of anticoagulants                                      </td><td> 5456</td><td>12.42</td></tr>\n",
       "\t<tr><th scope=row>10</th><td>Atherosclerotic heart disease of native coronary artery without angina pectoris</td><td> 5429</td><td>12.36</td></tr>\n",
       "\t<tr><th scope=row>11</th><td>Shortness of breath                                                            </td><td> 5389</td><td>12.27</td></tr>\n",
       "\t<tr><th scope=row>12</th><td>Hypo-osmolality and hyponatremia                                               </td><td> 5119</td><td>11.65</td></tr>\n",
       "\t<tr><th scope=row>13</th><td>Other chronic pain                                                             </td><td> 4606</td><td>10.48</td></tr>\n",
       "\t<tr><th scope=row>14</th><td>Hypothyroidism, unspecified                                                    </td><td> 4556</td><td>10.37</td></tr>\n",
       "\t<tr><th scope=row>15</th><td>Obstructive sleep apnea (adult) (pediatric)                                    </td><td> 4416</td><td>10.05</td></tr>\n",
       "\t<tr><th scope=row>16</th><td>Long term (current) use of insulin                                             </td><td> 4385</td><td> 9.98</td></tr>\n",
       "\t<tr><th scope=row>17</th><td>Anxiety disorder, unspecified                                                  </td><td> 4262</td><td> 9.70</td></tr>\n",
       "\t<tr><th scope=row>18</th><td>Allergy status to other drugs, medicaments and biological substances status    </td><td> 3925</td><td> 8.93</td></tr>\n",
       "\t<tr><th scope=row>19</th><td>Sepsis, unspecified organism                                                   </td><td> 3850</td><td> 8.76</td></tr>\n",
       "\t<tr><th scope=row>20</th><td>Hypokalemia                                                                    </td><td> 3792</td><td> 8.63</td></tr>\n",
       "</tbody>\n",
       "</table>\n"
      ],
      "text/latex": [
       "A data.frame: 20 × 3\n",
       "\\begin{tabular}{r|lll}\n",
       "  & dx\\_name & n & perc\\\\\n",
       "  & <chr> & <int> & <dbl>\\\\\n",
       "\\hline\n",
       "\t1 & Other long term (current) drug therapy                                          & 12409 & 28.25\\\\\n",
       "\t2 & Hyperlipidemia, unspecified                                                     & 11532 & 26.25\\\\\n",
       "\t3 & Essential (primary) hypertension                                                & 10691 & 24.34\\\\\n",
       "\t4 & Personal history of nicotine dependence                                         &  9969 & 22.69\\\\\n",
       "\t5 & Long term (current) use of aspirin                                              &  7188 & 16.36\\\\\n",
       "\t6 & Gastro-esophageal reflux disease without esophagitis                            &  6725 & 15.31\\\\\n",
       "\t7 & Acute kidney failure, unspecified                                               &  6538 & 14.88\\\\\n",
       "\t8 & Major depressive disorder, single episode, unspecified                          &  5719 & 13.02\\\\\n",
       "\t9 & Long term (current) use of anticoagulants                                       &  5456 & 12.42\\\\\n",
       "\t10 & Atherosclerotic heart disease of native coronary artery without angina pectoris &  5429 & 12.36\\\\\n",
       "\t11 & Shortness of breath                                                             &  5389 & 12.27\\\\\n",
       "\t12 & Hypo-osmolality and hyponatremia                                                &  5119 & 11.65\\\\\n",
       "\t13 & Other chronic pain                                                              &  4606 & 10.48\\\\\n",
       "\t14 & Hypothyroidism, unspecified                                                     &  4556 & 10.37\\\\\n",
       "\t15 & Obstructive sleep apnea (adult) (pediatric)                                     &  4416 & 10.05\\\\\n",
       "\t16 & Long term (current) use of insulin                                              &  4385 &  9.98\\\\\n",
       "\t17 & Anxiety disorder, unspecified                                                   &  4262 &  9.70\\\\\n",
       "\t18 & Allergy status to other drugs, medicaments and biological substances status     &  3925 &  8.93\\\\\n",
       "\t19 & Sepsis, unspecified organism                                                    &  3850 &  8.76\\\\\n",
       "\t20 & Hypokalemia                                                                     &  3792 &  8.63\\\\\n",
       "\\end{tabular}\n"
      ],
      "text/markdown": [
       "\n",
       "A data.frame: 20 × 3\n",
       "\n",
       "| <!--/--> | dx_name &lt;chr&gt; | n &lt;int&gt; | perc &lt;dbl&gt; |\n",
       "|---|---|---|---|\n",
       "| 1 | Other long term (current) drug therapy                                          | 12409 | 28.25 |\n",
       "| 2 | Hyperlipidemia, unspecified                                                     | 11532 | 26.25 |\n",
       "| 3 | Essential (primary) hypertension                                                | 10691 | 24.34 |\n",
       "| 4 | Personal history of nicotine dependence                                         |  9969 | 22.69 |\n",
       "| 5 | Long term (current) use of aspirin                                              |  7188 | 16.36 |\n",
       "| 6 | Gastro-esophageal reflux disease without esophagitis                            |  6725 | 15.31 |\n",
       "| 7 | Acute kidney failure, unspecified                                               |  6538 | 14.88 |\n",
       "| 8 | Major depressive disorder, single episode, unspecified                          |  5719 | 13.02 |\n",
       "| 9 | Long term (current) use of anticoagulants                                       |  5456 | 12.42 |\n",
       "| 10 | Atherosclerotic heart disease of native coronary artery without angina pectoris |  5429 | 12.36 |\n",
       "| 11 | Shortness of breath                                                             |  5389 | 12.27 |\n",
       "| 12 | Hypo-osmolality and hyponatremia                                                |  5119 | 11.65 |\n",
       "| 13 | Other chronic pain                                                              |  4606 | 10.48 |\n",
       "| 14 | Hypothyroidism, unspecified                                                     |  4556 | 10.37 |\n",
       "| 15 | Obstructive sleep apnea (adult) (pediatric)                                     |  4416 | 10.05 |\n",
       "| 16 | Long term (current) use of insulin                                              |  4385 |  9.98 |\n",
       "| 17 | Anxiety disorder, unspecified                                                   |  4262 |  9.70 |\n",
       "| 18 | Allergy status to other drugs, medicaments and biological substances status     |  3925 |  8.93 |\n",
       "| 19 | Sepsis, unspecified organism                                                    |  3850 |  8.76 |\n",
       "| 20 | Hypokalemia                                                                     |  3792 |  8.63 |\n",
       "\n"
      ],
      "text/plain": [
       "   dx_name                                                                        \n",
       "1  Other long term (current) drug therapy                                         \n",
       "2  Hyperlipidemia, unspecified                                                    \n",
       "3  Essential (primary) hypertension                                               \n",
       "4  Personal history of nicotine dependence                                        \n",
       "5  Long term (current) use of aspirin                                             \n",
       "6  Gastro-esophageal reflux disease without esophagitis                           \n",
       "7  Acute kidney failure, unspecified                                              \n",
       "8  Major depressive disorder, single episode, unspecified                         \n",
       "9  Long term (current) use of anticoagulants                                      \n",
       "10 Atherosclerotic heart disease of native coronary artery without angina pectoris\n",
       "11 Shortness of breath                                                            \n",
       "12 Hypo-osmolality and hyponatremia                                               \n",
       "13 Other chronic pain                                                             \n",
       "14 Hypothyroidism, unspecified                                                    \n",
       "15 Obstructive sleep apnea (adult) (pediatric)                                    \n",
       "16 Long term (current) use of insulin                                             \n",
       "17 Anxiety disorder, unspecified                                                  \n",
       "18 Allergy status to other drugs, medicaments and biological substances status    \n",
       "19 Sepsis, unspecified organism                                                   \n",
       "20 Hypokalemia                                                                    \n",
       "   n     perc \n",
       "1  12409 28.25\n",
       "2  11532 26.25\n",
       "3  10691 24.34\n",
       "4   9969 22.69\n",
       "5   7188 16.36\n",
       "6   6725 15.31\n",
       "7   6538 14.88\n",
       "8   5719 13.02\n",
       "9   5456 12.42\n",
       "10  5429 12.36\n",
       "11  5389 12.27\n",
       "12  5119 11.65\n",
       "13  4606 10.48\n",
       "14  4556 10.37\n",
       "15  4416 10.05\n",
       "16  4385  9.98\n",
       "17  4262  9.70\n",
       "18  3925  8.93\n",
       "19  3850  8.76\n",
       "20  3792  8.63"
      ]
     },
     "metadata": {},
     "output_type": "display_data"
    }
   ],
   "source": [
    "dx %>% distinct(pat_enc_csn_id_coded, dx_name) %>% count(dx_name) %>% \n",
    "    mutate(perc = round(100*n/43932, 2)) %>% arrange(-n) %>% head(20)"
   ]
  },
  {
   "cell_type": "code",
   "execution_count": 16,
   "metadata": {},
   "outputs": [
    {
     "data": {
      "text/html": [
       "<table>\n",
       "<caption>A data.frame: 20 × 3</caption>\n",
       "<thead>\n",
       "\t<tr><th></th><th scope=col>dx_name</th><th scope=col>n</th><th scope=col>perc</th></tr>\n",
       "\t<tr><th></th><th scope=col>&lt;chr&gt;</th><th scope=col>&lt;int&gt;</th><th scope=col>&lt;dbl&gt;</th></tr>\n",
       "</thead>\n",
       "<tbody>\n",
       "\t<tr><th scope=row>1</th><td>Suicidal ideation                                                  </td><td>407</td><td>0.93</td></tr>\n",
       "\t<tr><th scope=row>2</th><td>Pneumonia due to organism                                          </td><td>302</td><td>0.69</td></tr>\n",
       "\t<tr><th scope=row>3</th><td>Sepsis, due to unspecified organism                                </td><td>277</td><td>0.63</td></tr>\n",
       "\t<tr><th scope=row>4</th><td>Hyponatremia                                                       </td><td>274</td><td>0.62</td></tr>\n",
       "\t<tr><th scope=row>5</th><td>Non-ST elevation myocardial infarction (NSTEMI) (CMS-HCC)          </td><td>227</td><td>0.52</td></tr>\n",
       "\t<tr><th scope=row>6</th><td>SBO (small bowel obstruction) (CMS-HCC)                            </td><td>222</td><td>0.51</td></tr>\n",
       "\t<tr><th scope=row>7</th><td>Acute chest pain                                                   </td><td>211</td><td>0.48</td></tr>\n",
       "\t<tr><th scope=row>8</th><td>Small bowel obstruction (CMS-HCC)                                  </td><td>205</td><td>0.47</td></tr>\n",
       "\t<tr><th scope=row>9</th><td>Neutropenic fever (CMS-HCC)                                        </td><td>194</td><td>0.44</td></tr>\n",
       "\t<tr><th scope=row>10</th><td>Acute GI bleeding                                                  </td><td>190</td><td>0.43</td></tr>\n",
       "\t<tr><th scope=row>11</th><td>Shortness of breath                                                </td><td>186</td><td>0.42</td></tr>\n",
       "\t<tr><th scope=row>12</th><td>Altered mental status, unspecified altered mental status type      </td><td>172</td><td>0.39</td></tr>\n",
       "\t<tr><th scope=row>13</th><td>Acute kidney injury (nontraumatic) (CMS-HCC)                       </td><td>156</td><td>0.36</td></tr>\n",
       "\t<tr><th scope=row>14</th><td>COPD with acute exacerbation (CMS-HCC)                             </td><td>143</td><td>0.33</td></tr>\n",
       "\t<tr><th scope=row>15</th><td>Fever, unspecified fever cause                                     </td><td>139</td><td>0.32</td></tr>\n",
       "\t<tr><th scope=row>16</th><td>Acute renal failure, unspecified acute renal failure type (CMS-HCC)</td><td>134</td><td>0.31</td></tr>\n",
       "\t<tr><th scope=row>17</th><td>Fever and other physiologic disturbances of temperature regulation </td><td>125</td><td>0.28</td></tr>\n",
       "\t<tr><th scope=row>18</th><td>Psychosis, unspecified psychosis type (CMS-HCC)                    </td><td>123</td><td>0.28</td></tr>\n",
       "\t<tr><th scope=row>19</th><td>Generalized abdominal pain                                         </td><td>119</td><td>0.27</td></tr>\n",
       "\t<tr><th scope=row>20</th><td>Acute pyelonephritis                                               </td><td>114</td><td>0.26</td></tr>\n",
       "</tbody>\n",
       "</table>\n"
      ],
      "text/latex": [
       "A data.frame: 20 × 3\n",
       "\\begin{tabular}{r|lll}\n",
       "  & dx\\_name & n & perc\\\\\n",
       "  & <chr> & <int> & <dbl>\\\\\n",
       "\\hline\n",
       "\t1 & Suicidal ideation                                                   & 407 & 0.93\\\\\n",
       "\t2 & Pneumonia due to organism                                           & 302 & 0.69\\\\\n",
       "\t3 & Sepsis, due to unspecified organism                                 & 277 & 0.63\\\\\n",
       "\t4 & Hyponatremia                                                        & 274 & 0.62\\\\\n",
       "\t5 & Non-ST elevation myocardial infarction (NSTEMI) (CMS-HCC)           & 227 & 0.52\\\\\n",
       "\t6 & SBO (small bowel obstruction) (CMS-HCC)                             & 222 & 0.51\\\\\n",
       "\t7 & Acute chest pain                                                    & 211 & 0.48\\\\\n",
       "\t8 & Small bowel obstruction (CMS-HCC)                                   & 205 & 0.47\\\\\n",
       "\t9 & Neutropenic fever (CMS-HCC)                                         & 194 & 0.44\\\\\n",
       "\t10 & Acute GI bleeding                                                   & 190 & 0.43\\\\\n",
       "\t11 & Shortness of breath                                                 & 186 & 0.42\\\\\n",
       "\t12 & Altered mental status, unspecified altered mental status type       & 172 & 0.39\\\\\n",
       "\t13 & Acute kidney injury (nontraumatic) (CMS-HCC)                        & 156 & 0.36\\\\\n",
       "\t14 & COPD with acute exacerbation (CMS-HCC)                              & 143 & 0.33\\\\\n",
       "\t15 & Fever, unspecified fever cause                                      & 139 & 0.32\\\\\n",
       "\t16 & Acute renal failure, unspecified acute renal failure type (CMS-HCC) & 134 & 0.31\\\\\n",
       "\t17 & Fever and other physiologic disturbances of temperature regulation  & 125 & 0.28\\\\\n",
       "\t18 & Psychosis, unspecified psychosis type (CMS-HCC)                     & 123 & 0.28\\\\\n",
       "\t19 & Generalized abdominal pain                                          & 119 & 0.27\\\\\n",
       "\t20 & Acute pyelonephritis                                                & 114 & 0.26\\\\\n",
       "\\end{tabular}\n"
      ],
      "text/markdown": [
       "\n",
       "A data.frame: 20 × 3\n",
       "\n",
       "| <!--/--> | dx_name &lt;chr&gt; | n &lt;int&gt; | perc &lt;dbl&gt; |\n",
       "|---|---|---|---|\n",
       "| 1 | Suicidal ideation                                                   | 407 | 0.93 |\n",
       "| 2 | Pneumonia due to organism                                           | 302 | 0.69 |\n",
       "| 3 | Sepsis, due to unspecified organism                                 | 277 | 0.63 |\n",
       "| 4 | Hyponatremia                                                        | 274 | 0.62 |\n",
       "| 5 | Non-ST elevation myocardial infarction (NSTEMI) (CMS-HCC)           | 227 | 0.52 |\n",
       "| 6 | SBO (small bowel obstruction) (CMS-HCC)                             | 222 | 0.51 |\n",
       "| 7 | Acute chest pain                                                    | 211 | 0.48 |\n",
       "| 8 | Small bowel obstruction (CMS-HCC)                                   | 205 | 0.47 |\n",
       "| 9 | Neutropenic fever (CMS-HCC)                                         | 194 | 0.44 |\n",
       "| 10 | Acute GI bleeding                                                   | 190 | 0.43 |\n",
       "| 11 | Shortness of breath                                                 | 186 | 0.42 |\n",
       "| 12 | Altered mental status, unspecified altered mental status type       | 172 | 0.39 |\n",
       "| 13 | Acute kidney injury (nontraumatic) (CMS-HCC)                        | 156 | 0.36 |\n",
       "| 14 | COPD with acute exacerbation (CMS-HCC)                              | 143 | 0.33 |\n",
       "| 15 | Fever, unspecified fever cause                                      | 139 | 0.32 |\n",
       "| 16 | Acute renal failure, unspecified acute renal failure type (CMS-HCC) | 134 | 0.31 |\n",
       "| 17 | Fever and other physiologic disturbances of temperature regulation  | 125 | 0.28 |\n",
       "| 18 | Psychosis, unspecified psychosis type (CMS-HCC)                     | 123 | 0.28 |\n",
       "| 19 | Generalized abdominal pain                                          | 119 | 0.27 |\n",
       "| 20 | Acute pyelonephritis                                                | 114 | 0.26 |\n",
       "\n"
      ],
      "text/plain": [
       "   dx_name                                                             n   perc\n",
       "1  Suicidal ideation                                                   407 0.93\n",
       "2  Pneumonia due to organism                                           302 0.69\n",
       "3  Sepsis, due to unspecified organism                                 277 0.63\n",
       "4  Hyponatremia                                                        274 0.62\n",
       "5  Non-ST elevation myocardial infarction (NSTEMI) (CMS-HCC)           227 0.52\n",
       "6  SBO (small bowel obstruction) (CMS-HCC)                             222 0.51\n",
       "7  Acute chest pain                                                    211 0.48\n",
       "8  Small bowel obstruction (CMS-HCC)                                   205 0.47\n",
       "9  Neutropenic fever (CMS-HCC)                                         194 0.44\n",
       "10 Acute GI bleeding                                                   190 0.43\n",
       "11 Shortness of breath                                                 186 0.42\n",
       "12 Altered mental status, unspecified altered mental status type       172 0.39\n",
       "13 Acute kidney injury (nontraumatic) (CMS-HCC)                        156 0.36\n",
       "14 COPD with acute exacerbation (CMS-HCC)                              143 0.33\n",
       "15 Fever, unspecified fever cause                                      139 0.32\n",
       "16 Acute renal failure, unspecified acute renal failure type (CMS-HCC) 134 0.31\n",
       "17 Fever and other physiologic disturbances of temperature regulation  125 0.28\n",
       "18 Psychosis, unspecified psychosis type (CMS-HCC)                     123 0.28\n",
       "19 Generalized abdominal pain                                          119 0.27\n",
       "20 Acute pyelonephritis                                                114 0.26"
      ]
     },
     "metadata": {},
     "output_type": "display_data"
    }
   ],
   "source": [
    "# dx present in the ED and identified as the primary problems\n",
    "dx %>% filter(ed==\"Y\", primary==\"Y\") %>% distinct(pat_enc_csn_id_coded, dx_name) %>% count(dx_name) %>% \n",
    "    mutate(perc = round(100*n/43932, 2)) %>% arrange(-n) %>% head(20)"
   ]
  },
  {
   "cell_type": "code",
   "execution_count": 18,
   "metadata": {},
   "outputs": [
    {
     "data": {
      "text/html": [
       "0.416666666666667"
      ],
      "text/latex": [
       "0.416666666666667"
      ],
      "text/markdown": [
       "0.416666666666667"
      ],
      "text/plain": [
       "[1] 0.4166667"
      ]
     },
     "metadata": {},
     "output_type": "display_data"
    }
   ],
   "source": [
    "105/252"
   ]
  },
  {
   "cell_type": "code",
   "execution_count": 17,
   "metadata": {},
   "outputs": [
    {
     "name": "stderr",
     "output_type": "stream",
     "text": [
      "Joining, by = \"anon_id\"\n",
      "\n"
     ]
    },
    {
     "data": {
      "text/html": [
       "6746"
      ],
      "text/latex": [
       "6746"
      ],
      "text/markdown": [
       "6746"
      ],
      "text/plain": [
       "[1] 6746"
      ]
     },
     "metadata": {},
     "output_type": "display_data"
    },
    {
     "data": {
      "text/html": [
       "252"
      ],
      "text/latex": [
       "252"
      ],
      "text/markdown": [
       "252"
      ],
      "text/plain": [
       "[1] 252"
      ]
     },
     "metadata": {},
     "output_type": "display_data"
    },
    {
     "data": {
      "text/html": [
       "105"
      ],
      "text/latex": [
       "105"
      ],
      "text/markdown": [
       "105"
      ],
      "text/plain": [
       "[1] 105"
      ]
     },
     "metadata": {},
     "output_type": "display_data"
    },
    {
     "data": {
      "text/html": [
       "<table>\n",
       "<caption>A data.frame: 20 × 3</caption>\n",
       "<thead>\n",
       "\t<tr><th></th><th scope=col>dx_name</th><th scope=col>n</th><th scope=col>perc</th></tr>\n",
       "\t<tr><th></th><th scope=col>&lt;chr&gt;</th><th scope=col>&lt;int&gt;</th><th scope=col>&lt;dbl&gt;</th></tr>\n",
       "</thead>\n",
       "<tbody>\n",
       "\t<tr><th scope=row>1</th><td>Long term (current) use of insulin                                                   </td><td>114</td><td>10.18</td></tr>\n",
       "\t<tr><th scope=row>2</th><td>Other long term (current) drug therapy                                               </td><td>100</td><td> 8.93</td></tr>\n",
       "\t<tr><th scope=row>3</th><td>Hyperlipidemia, unspecified                                                          </td><td> 95</td><td> 8.48</td></tr>\n",
       "\t<tr><th scope=row>4</th><td>Long term (current) use of aspirin                                                   </td><td> 66</td><td> 5.89</td></tr>\n",
       "\t<tr><th scope=row>5</th><td>Essential (primary) hypertension                                                     </td><td> 65</td><td> 5.80</td></tr>\n",
       "\t<tr><th scope=row>6</th><td>Major depressive disorder, single episode, unspecified                               </td><td> 56</td><td> 5.00</td></tr>\n",
       "\t<tr><th scope=row>7</th><td>Personal history of nicotine dependence                                              </td><td> 56</td><td> 5.00</td></tr>\n",
       "\t<tr><th scope=row>8</th><td>Atherosclerotic heart disease of native coronary artery without angina pectoris      </td><td> 55</td><td> 4.91</td></tr>\n",
       "\t<tr><th scope=row>9</th><td>Type 1 diabetes mellitus with ketoacidosis without coma                              </td><td> 54</td><td> 4.82</td></tr>\n",
       "\t<tr><th scope=row>10</th><td>Acidosis                                                                             </td><td> 47</td><td> 4.20</td></tr>\n",
       "\t<tr><th scope=row>11</th><td>Patient's other noncompliance with medication regimen                                </td><td> 47</td><td> 4.20</td></tr>\n",
       "\t<tr><th scope=row>12</th><td>Allergy status to penicillin                                                         </td><td> 46</td><td> 4.11</td></tr>\n",
       "\t<tr><th scope=row>13</th><td>Diabetic ketoacidosis without coma associated with type 1 diabetes mellitus (CMS-HCC)</td><td> 44</td><td> 3.93</td></tr>\n",
       "\t<tr><th scope=row>14</th><td>Weakness                                                                             </td><td> 44</td><td> 3.93</td></tr>\n",
       "\t<tr><th scope=row>15</th><td>Acute kidney failure, unspecified                                                    </td><td> 43</td><td> 3.84</td></tr>\n",
       "\t<tr><th scope=row>16</th><td>Dehydration                                                                          </td><td> 43</td><td> 3.84</td></tr>\n",
       "\t<tr><th scope=row>17</th><td>Long term (current) use of anticoagulants                                            </td><td> 39</td><td> 3.48</td></tr>\n",
       "\t<tr><th scope=row>18</th><td>Family history of diabetes mellitus                                                  </td><td> 38</td><td> 3.39</td></tr>\n",
       "\t<tr><th scope=row>19</th><td>Shortness of breath                                                                  </td><td> 35</td><td> 3.12</td></tr>\n",
       "\t<tr><th scope=row>20</th><td>Family history of ischemic heart disease and other diseases of the circulatory system</td><td> 34</td><td> 3.04</td></tr>\n",
       "</tbody>\n",
       "</table>\n"
      ],
      "text/latex": [
       "A data.frame: 20 × 3\n",
       "\\begin{tabular}{r|lll}\n",
       "  & dx\\_name & n & perc\\\\\n",
       "  & <chr> & <int> & <dbl>\\\\\n",
       "\\hline\n",
       "\t1 & Long term (current) use of insulin                                                    & 114 & 10.18\\\\\n",
       "\t2 & Other long term (current) drug therapy                                                & 100 &  8.93\\\\\n",
       "\t3 & Hyperlipidemia, unspecified                                                           &  95 &  8.48\\\\\n",
       "\t4 & Long term (current) use of aspirin                                                    &  66 &  5.89\\\\\n",
       "\t5 & Essential (primary) hypertension                                                      &  65 &  5.80\\\\\n",
       "\t6 & Major depressive disorder, single episode, unspecified                                &  56 &  5.00\\\\\n",
       "\t7 & Personal history of nicotine dependence                                               &  56 &  5.00\\\\\n",
       "\t8 & Atherosclerotic heart disease of native coronary artery without angina pectoris       &  55 &  4.91\\\\\n",
       "\t9 & Type 1 diabetes mellitus with ketoacidosis without coma                               &  54 &  4.82\\\\\n",
       "\t10 & Acidosis                                                                              &  47 &  4.20\\\\\n",
       "\t11 & Patient's other noncompliance with medication regimen                                 &  47 &  4.20\\\\\n",
       "\t12 & Allergy status to penicillin                                                          &  46 &  4.11\\\\\n",
       "\t13 & Diabetic ketoacidosis without coma associated with type 1 diabetes mellitus (CMS-HCC) &  44 &  3.93\\\\\n",
       "\t14 & Weakness                                                                              &  44 &  3.93\\\\\n",
       "\t15 & Acute kidney failure, unspecified                                                     &  43 &  3.84\\\\\n",
       "\t16 & Dehydration                                                                           &  43 &  3.84\\\\\n",
       "\t17 & Long term (current) use of anticoagulants                                             &  39 &  3.48\\\\\n",
       "\t18 & Family history of diabetes mellitus                                                   &  38 &  3.39\\\\\n",
       "\t19 & Shortness of breath                                                                   &  35 &  3.12\\\\\n",
       "\t20 & Family history of ischemic heart disease and other diseases of the circulatory system &  34 &  3.04\\\\\n",
       "\\end{tabular}\n"
      ],
      "text/markdown": [
       "\n",
       "A data.frame: 20 × 3\n",
       "\n",
       "| <!--/--> | dx_name &lt;chr&gt; | n &lt;int&gt; | perc &lt;dbl&gt; |\n",
       "|---|---|---|---|\n",
       "| 1 | Long term (current) use of insulin                                                    | 114 | 10.18 |\n",
       "| 2 | Other long term (current) drug therapy                                                | 100 |  8.93 |\n",
       "| 3 | Hyperlipidemia, unspecified                                                           |  95 |  8.48 |\n",
       "| 4 | Long term (current) use of aspirin                                                    |  66 |  5.89 |\n",
       "| 5 | Essential (primary) hypertension                                                      |  65 |  5.80 |\n",
       "| 6 | Major depressive disorder, single episode, unspecified                                |  56 |  5.00 |\n",
       "| 7 | Personal history of nicotine dependence                                               |  56 |  5.00 |\n",
       "| 8 | Atherosclerotic heart disease of native coronary artery without angina pectoris       |  55 |  4.91 |\n",
       "| 9 | Type 1 diabetes mellitus with ketoacidosis without coma                               |  54 |  4.82 |\n",
       "| 10 | Acidosis                                                                              |  47 |  4.20 |\n",
       "| 11 | Patient's other noncompliance with medication regimen                                 |  47 |  4.20 |\n",
       "| 12 | Allergy status to penicillin                                                          |  46 |  4.11 |\n",
       "| 13 | Diabetic ketoacidosis without coma associated with type 1 diabetes mellitus (CMS-HCC) |  44 |  3.93 |\n",
       "| 14 | Weakness                                                                              |  44 |  3.93 |\n",
       "| 15 | Acute kidney failure, unspecified                                                     |  43 |  3.84 |\n",
       "| 16 | Dehydration                                                                           |  43 |  3.84 |\n",
       "| 17 | Long term (current) use of anticoagulants                                             |  39 |  3.48 |\n",
       "| 18 | Family history of diabetes mellitus                                                   |  38 |  3.39 |\n",
       "| 19 | Shortness of breath                                                                   |  35 |  3.12 |\n",
       "| 20 | Family history of ischemic heart disease and other diseases of the circulatory system |  34 |  3.04 |\n",
       "\n"
      ],
      "text/plain": [
       "   dx_name                                                                              \n",
       "1  Long term (current) use of insulin                                                   \n",
       "2  Other long term (current) drug therapy                                               \n",
       "3  Hyperlipidemia, unspecified                                                          \n",
       "4  Long term (current) use of aspirin                                                   \n",
       "5  Essential (primary) hypertension                                                     \n",
       "6  Major depressive disorder, single episode, unspecified                               \n",
       "7  Personal history of nicotine dependence                                              \n",
       "8  Atherosclerotic heart disease of native coronary artery without angina pectoris      \n",
       "9  Type 1 diabetes mellitus with ketoacidosis without coma                              \n",
       "10 Acidosis                                                                             \n",
       "11 Patient's other noncompliance with medication regimen                                \n",
       "12 Allergy status to penicillin                                                         \n",
       "13 Diabetic ketoacidosis without coma associated with type 1 diabetes mellitus (CMS-HCC)\n",
       "14 Weakness                                                                             \n",
       "15 Acute kidney failure, unspecified                                                    \n",
       "16 Dehydration                                                                          \n",
       "17 Long term (current) use of anticoagulants                                            \n",
       "18 Family history of diabetes mellitus                                                  \n",
       "19 Shortness of breath                                                                  \n",
       "20 Family history of ischemic heart disease and other diseases of the circulatory system\n",
       "   n   perc \n",
       "1  114 10.18\n",
       "2  100  8.93\n",
       "3   95  8.48\n",
       "4   66  5.89\n",
       "5   65  5.80\n",
       "6   56  5.00\n",
       "7   56  5.00\n",
       "8   55  4.91\n",
       "9   54  4.82\n",
       "10  47  4.20\n",
       "11  47  4.20\n",
       "12  46  4.11\n",
       "13  44  3.93\n",
       "14  44  3.93\n",
       "15  43  3.84\n",
       "16  43  3.84\n",
       "17  39  3.48\n",
       "18  38  3.39\n",
       "19  35  3.12\n",
       "20  34  3.04"
      ]
     },
     "metadata": {},
     "output_type": "display_data"
    }
   ],
   "source": [
    "# cohort transfers with diagnoses\n",
    "dx_diff4 <- left_join(diff4, dx)\n",
    "nrow(dx_diff4)\n",
    "length(unique(dx_diff4$pat_enc_csn_id_coded))\n",
    "length(unique(dx_diff4$anon_id))\n",
    "dx_diff4 %>% distinct(pat_enc_csn_id_coded, dx_name) %>% count(dx_name) %>% \n",
    "    mutate(perc = round(100*n/1120, 2)) %>% arrange(-n) %>% head(20)"
   ]
  },
  {
   "cell_type": "markdown",
   "metadata": {},
   "source": [
    "### ADT table"
   ]
  },
  {
   "cell_type": "code",
   "execution_count": 20,
   "metadata": {},
   "outputs": [
    {
     "name": "stderr",
     "output_type": "stream",
     "text": [
      "Warning message in as.integer.integer64(x):\n",
      "“NAs produced by integer overflow”\n"
     ]
    },
    {
     "data": {
      "text/html": [
       "<style>\n",
       ".list-inline {list-style: none; margin:0; padding: 0}\n",
       ".list-inline>li {display: inline-block}\n",
       ".list-inline>li:not(:last-child)::after {content: \"\\00b7\"; padding: 0 .5ex}\n",
       "</style>\n",
       "<ol class=list-inline><li>1385721</li><li>30</li></ol>\n"
      ],
      "text/latex": [
       "\\begin{enumerate*}\n",
       "\\item 1385721\n",
       "\\item 30\n",
       "\\end{enumerate*}\n"
      ],
      "text/markdown": [
       "1. 1385721\n",
       "2. 30\n",
       "\n",
       "\n"
      ],
      "text/plain": [
       "[1] 1385721      30"
      ]
     },
     "metadata": {},
     "output_type": "display_data"
    },
    {
     "data": {
      "text/html": [
       "<style>\n",
       ".list-inline {list-style: none; margin:0; padding: 0}\n",
       ".list-inline>li {display: inline-block}\n",
       ".list-inline>li:not(:last-child)::after {content: \"\\00b7\"; padding: 0 .5ex}\n",
       "</style>\n",
       "<ol class=list-inline><li>'anon_id'</li><li>'pat_enc_csn_id_coded'</li><li>'admit_time'</li><li>'first_label'</li><li>'death_24hr_recent_label'</li><li>'death_24hr_max_label'</li><li>'pred_first'</li><li>'pred_death_24hr_recent'</li><li>'event_type_c'</li><li>'event_type'</li><li>'pat_class_c'</li><li>'pat_class'</li><li>'base_pat_class_c'</li><li>'base_pat_class'</li><li>'pat_service_c'</li><li>'pat_service'</li><li>'pat_lvl_of_care_c'</li><li>'pat_lv_of_care'</li><li>'accommodation_c'</li><li>'accomodation'</li><li>'in_event_type_c'</li><li>'in_event_type'</li><li>'out_event_type_c'</li><li>'out_event_type'</li><li>'from_base_class_c'</li><li>'from_base_class'</li><li>'to_base_class_c'</li><li>'to_base_class'</li><li>'seq_num_in_enc'</li><li>'seq_num_in_bed_min'</li></ol>\n"
      ],
      "text/latex": [
       "\\begin{enumerate*}\n",
       "\\item 'anon\\_id'\n",
       "\\item 'pat\\_enc\\_csn\\_id\\_coded'\n",
       "\\item 'admit\\_time'\n",
       "\\item 'first\\_label'\n",
       "\\item 'death\\_24hr\\_recent\\_label'\n",
       "\\item 'death\\_24hr\\_max\\_label'\n",
       "\\item 'pred\\_first'\n",
       "\\item 'pred\\_death\\_24hr\\_recent'\n",
       "\\item 'event\\_type\\_c'\n",
       "\\item 'event\\_type'\n",
       "\\item 'pat\\_class\\_c'\n",
       "\\item 'pat\\_class'\n",
       "\\item 'base\\_pat\\_class\\_c'\n",
       "\\item 'base\\_pat\\_class'\n",
       "\\item 'pat\\_service\\_c'\n",
       "\\item 'pat\\_service'\n",
       "\\item 'pat\\_lvl\\_of\\_care\\_c'\n",
       "\\item 'pat\\_lv\\_of\\_care'\n",
       "\\item 'accommodation\\_c'\n",
       "\\item 'accomodation'\n",
       "\\item 'in\\_event\\_type\\_c'\n",
       "\\item 'in\\_event\\_type'\n",
       "\\item 'out\\_event\\_type\\_c'\n",
       "\\item 'out\\_event\\_type'\n",
       "\\item 'from\\_base\\_class\\_c'\n",
       "\\item 'from\\_base\\_class'\n",
       "\\item 'to\\_base\\_class\\_c'\n",
       "\\item 'to\\_base\\_class'\n",
       "\\item 'seq\\_num\\_in\\_enc'\n",
       "\\item 'seq\\_num\\_in\\_bed\\_min'\n",
       "\\end{enumerate*}\n"
      ],
      "text/markdown": [
       "1. 'anon_id'\n",
       "2. 'pat_enc_csn_id_coded'\n",
       "3. 'admit_time'\n",
       "4. 'first_label'\n",
       "5. 'death_24hr_recent_label'\n",
       "6. 'death_24hr_max_label'\n",
       "7. 'pred_first'\n",
       "8. 'pred_death_24hr_recent'\n",
       "9. 'event_type_c'\n",
       "10. 'event_type'\n",
       "11. 'pat_class_c'\n",
       "12. 'pat_class'\n",
       "13. 'base_pat_class_c'\n",
       "14. 'base_pat_class'\n",
       "15. 'pat_service_c'\n",
       "16. 'pat_service'\n",
       "17. 'pat_lvl_of_care_c'\n",
       "18. 'pat_lv_of_care'\n",
       "19. 'accommodation_c'\n",
       "20. 'accomodation'\n",
       "21. 'in_event_type_c'\n",
       "22. 'in_event_type'\n",
       "23. 'out_event_type_c'\n",
       "24. 'out_event_type'\n",
       "25. 'from_base_class_c'\n",
       "26. 'from_base_class'\n",
       "27. 'to_base_class_c'\n",
       "28. 'to_base_class'\n",
       "29. 'seq_num_in_enc'\n",
       "30. 'seq_num_in_bed_min'\n",
       "\n",
       "\n"
      ],
      "text/plain": [
       " [1] \"anon_id\"                 \"pat_enc_csn_id_coded\"   \n",
       " [3] \"admit_time\"              \"first_label\"            \n",
       " [5] \"death_24hr_recent_label\" \"death_24hr_max_label\"   \n",
       " [7] \"pred_first\"              \"pred_death_24hr_recent\" \n",
       " [9] \"event_type_c\"            \"event_type\"             \n",
       "[11] \"pat_class_c\"             \"pat_class\"              \n",
       "[13] \"base_pat_class_c\"        \"base_pat_class\"         \n",
       "[15] \"pat_service_c\"           \"pat_service\"            \n",
       "[17] \"pat_lvl_of_care_c\"       \"pat_lv_of_care\"         \n",
       "[19] \"accommodation_c\"         \"accomodation\"           \n",
       "[21] \"in_event_type_c\"         \"in_event_type\"          \n",
       "[23] \"out_event_type_c\"        \"out_event_type\"         \n",
       "[25] \"from_base_class_c\"       \"from_base_class\"        \n",
       "[27] \"to_base_class_c\"         \"to_base_class\"          \n",
       "[29] \"seq_num_in_enc\"          \"seq_num_in_bed_min\"     "
      ]
     },
     "metadata": {},
     "output_type": "display_data"
    }
   ],
   "source": [
    "q = \"\n",
    "SELECT c.anon_id, c.pat_enc_csn_id_coded, c.admit_time, c.first_label, c.death_24hr_recent_label,\n",
    "        c.death_24hr_max_label, c.pred_first, c.pred_death_24hr_recent,\n",
    "    adt.event_type_c, adt.event_type, adt.pat_class_c, adt.pat_class, adt.base_pat_class_c, adt.base_pat_class,\n",
    "    adt.pat_service_c, adt.pat_service, adt.pat_lvl_of_care_c, adt.pat_lv_of_care, adt.accommodation_c, adt.accomodation, \n",
    "    adt.in_event_type_c, adt.in_event_type, adt.out_event_type_c, adt.out_event_type, adt.from_base_class_c, adt.from_base_class,\n",
    "    adt.to_base_class_c, adt.to_base_class, adt.seq_num_in_enc, adt.seq_num_in_bed_min\n",
    "FROM \n",
    "    `som-nero-phi-jonc101.triageTD.1_4_cohort_24hrpreadmit_diff_full_features` as c\n",
    "JOIN \n",
    "    `som-nero-phi-jonc101.shc_core.adt` as adt\n",
    "ON \n",
    "    (c.anon_id = adt.anon_id and c.pat_enc_csn_id_coded = adt.pat_enc_csn_id_coded)\n",
    "\"\n",
    "# submit the query:\n",
    "update.packages('Rcpp')\n",
    "df <- dbGetQuery(con, q)\n",
    "dim(df)\n",
    "colnames(df)"
   ]
  },
  {
   "cell_type": "code",
   "execution_count": 21,
   "metadata": {},
   "outputs": [],
   "source": [
    "write.csv(df, file.path(datadir, \"4_1_diff_adt.csv\"), row.names=FALSE)"
   ]
  },
  {
   "cell_type": "code",
   "execution_count": 23,
   "metadata": {},
   "outputs": [
    {
     "name": "stderr",
     "output_type": "stream",
     "text": [
      "Warning message in as.integer.integer64(x):\n",
      "“NAs produced by integer overflow”\n"
     ]
    },
    {
     "data": {
      "text/html": [
       "<style>\n",
       ".list-inline {list-style: none; margin:0; padding: 0}\n",
       ".list-inline>li {display: inline-block}\n",
       ".list-inline>li:not(:last-child)::after {content: \"\\00b7\"; padding: 0 .5ex}\n",
       "</style>\n",
       "<ol class=list-inline><li>69334</li><li>6</li></ol>\n"
      ],
      "text/latex": [
       "\\begin{enumerate*}\n",
       "\\item 69334\n",
       "\\item 6\n",
       "\\end{enumerate*}\n"
      ],
      "text/markdown": [
       "1. 69334\n",
       "2. 6\n",
       "\n",
       "\n"
      ],
      "text/plain": [
       "[1] 69334     6"
      ]
     },
     "metadata": {},
     "output_type": "display_data"
    },
    {
     "data": {
      "text/html": [
       "<style>\n",
       ".list-inline {list-style: none; margin:0; padding: 0}\n",
       ".list-inline>li {display: inline-block}\n",
       ".list-inline>li:not(:last-child)::after {content: \"\\00b7\"; padding: 0 .5ex}\n",
       "</style>\n",
       "<ol class=list-inline><li>'anon_id'</li><li>'pat_enc_csn_id_coded'</li><li>'INTRPTR_NEEDED_YN'</li><li>'CHARLSON_SCORE'</li><li>'N_HOSPITALIZATIONS'</li><li>'DAYS_IN_HOSPITAL'</li></ol>\n"
      ],
      "text/latex": [
       "\\begin{enumerate*}\n",
       "\\item 'anon\\_id'\n",
       "\\item 'pat\\_enc\\_csn\\_id\\_coded'\n",
       "\\item 'INTRPTR\\_NEEDED\\_YN'\n",
       "\\item 'CHARLSON\\_SCORE'\n",
       "\\item 'N\\_HOSPITALIZATIONS'\n",
       "\\item 'DAYS\\_IN\\_HOSPITAL'\n",
       "\\end{enumerate*}\n"
      ],
      "text/markdown": [
       "1. 'anon_id'\n",
       "2. 'pat_enc_csn_id_coded'\n",
       "3. 'INTRPTR_NEEDED_YN'\n",
       "4. 'CHARLSON_SCORE'\n",
       "5. 'N_HOSPITALIZATIONS'\n",
       "6. 'DAYS_IN_HOSPITAL'\n",
       "\n",
       "\n"
      ],
      "text/plain": [
       "[1] \"anon_id\"              \"pat_enc_csn_id_coded\" \"INTRPTR_NEEDED_YN\"   \n",
       "[4] \"CHARLSON_SCORE\"       \"N_HOSPITALIZATIONS\"   \"DAYS_IN_HOSPITAL\"    "
      ]
     },
     "metadata": {},
     "output_type": "display_data"
    }
   ],
   "source": [
    "q = \"\n",
    "SELECT c.anon_id, c.pat_enc_csn_id_coded, \n",
    "    x.INTRPTR_NEEDED_YN, x.CHARLSON_SCORE, x.N_HOSPITALIZATIONS, x.DAYS_IN_HOSPITAL\n",
    "FROM \n",
    "    `som-nero-phi-jonc101.triageTD.1_4_cohort_24hrpreadmit_diff_full_features` as c\n",
    "JOIN \n",
    "    `som-nero-phi-jonc101.shc_core.demographic` as x\n",
    "ON \n",
    "    (c.anon_id = x.anon_id)\n",
    "\"\n",
    "# submit the query:\n",
    "update.packages('Rcpp')\n",
    "x1 <- dbGetQuery(con, q)\n",
    "dim(x1)\n",
    "colnames(x1)"
   ]
  },
  {
   "cell_type": "code",
   "execution_count": 24,
   "metadata": {},
   "outputs": [],
   "source": [
    "write.csv(x1, file.path(datadir, \"4_2_diff_demographic.csv\"), row.names=FALSE)"
   ]
  },
  {
   "cell_type": "code",
   "execution_count": 11,
   "metadata": {},
   "outputs": [
    {
     "name": "stderr",
     "output_type": "stream",
     "text": [
      "Warning message in as.integer.integer64(x):\n",
      "“NAs produced by integer overflow”\n"
     ]
    },
    {
     "data": {
      "text/html": [
       "<style>\n",
       ".list-inline {list-style: none; margin:0; padding: 0}\n",
       ".list-inline>li {display: inline-block}\n",
       ".list-inline>li:not(:last-child)::after {content: \"\\00b7\"; padding: 0 .5ex}\n",
       "</style>\n",
       "<ol class=list-inline><li>8922</li><li>10</li></ol>\n"
      ],
      "text/latex": [
       "\\begin{enumerate*}\n",
       "\\item 8922\n",
       "\\item 10\n",
       "\\end{enumerate*}\n"
      ],
      "text/markdown": [
       "1. 8922\n",
       "2. 10\n",
       "\n",
       "\n"
      ],
      "text/plain": [
       "[1] 8922   10"
      ]
     },
     "metadata": {},
     "output_type": "display_data"
    },
    {
     "data": {
      "text/html": [
       "<style>\n",
       ".list-inline {list-style: none; margin:0; padding: 0}\n",
       ".list-inline>li {display: inline-block}\n",
       ".list-inline>li:not(:last-child)::after {content: \"\\00b7\"; padding: 0 .5ex}\n",
       "</style>\n",
       "<ol class=list-inline><li>'anon_id'</li><li>'pat_enc_csn_id_coded'</li><li>'line'</li><li>'dx_name'</li><li>'primary'</li><li>'chronic'</li><li>'principal'</li><li>'hospital_pl'</li><li>'ed'</li><li>'present_on_adm'</li></ol>\n"
      ],
      "text/latex": [
       "\\begin{enumerate*}\n",
       "\\item 'anon\\_id'\n",
       "\\item 'pat\\_enc\\_csn\\_id\\_coded'\n",
       "\\item 'line'\n",
       "\\item 'dx\\_name'\n",
       "\\item 'primary'\n",
       "\\item 'chronic'\n",
       "\\item 'principal'\n",
       "\\item 'hospital\\_pl'\n",
       "\\item 'ed'\n",
       "\\item 'present\\_on\\_adm'\n",
       "\\end{enumerate*}\n"
      ],
      "text/markdown": [
       "1. 'anon_id'\n",
       "2. 'pat_enc_csn_id_coded'\n",
       "3. 'line'\n",
       "4. 'dx_name'\n",
       "5. 'primary'\n",
       "6. 'chronic'\n",
       "7. 'principal'\n",
       "8. 'hospital_pl'\n",
       "9. 'ed'\n",
       "10. 'present_on_adm'\n",
       "\n",
       "\n"
      ],
      "text/plain": [
       " [1] \"anon_id\"              \"pat_enc_csn_id_coded\" \"line\"                \n",
       " [4] \"dx_name\"              \"primary\"              \"chronic\"             \n",
       " [7] \"principal\"            \"hospital_pl\"          \"ed\"                  \n",
       "[10] \"present_on_adm\"      "
      ]
     },
     "metadata": {},
     "output_type": "display_data"
    }
   ],
   "source": [
    "# this doesn't seem right, redo with a separate SQL file as it is too large to be in R notebook\n",
    "q = \"\n",
    "SELECT distinct c.anon_id, c.pat_enc_csn_id_coded, \n",
    "    x.line, x.dx_name, x.primary, x.chronic, x.principal, x.hospital_pl, x.ed, x.present_on_adm\n",
    "FROM \n",
    "    `som-nero-phi-jonc101.triageTD.1_4_cohort_24hrpreadmit_diff_full_features` as c\n",
    "JOIN \n",
    "    `som-nero-phi-jonc101.shc_core.diagnosis_code` as x\n",
    "ON \n",
    "    (c.anon_id = x.anon_id and c.pat_enc_csn_id_coded = x.pat_enc_csn_id_jittered)\n",
    "\"\n",
    "# submit the query:\n",
    "update.packages('Rcpp')\n",
    "x2 <- dbGetQuery(con, q)\n",
    "dim(x2)\n",
    "colnames(x2)"
   ]
  },
  {
   "cell_type": "code",
   "execution_count": 12,
   "metadata": {},
   "outputs": [
    {
     "data": {
      "text/html": [
       "<table class=\"dataframe\">\n",
       "<caption>A tibble: 6 × 10</caption>\n",
       "<thead>\n",
       "\t<tr><th scope=col>anon_id</th><th scope=col>pat_enc_csn_id_coded</th><th scope=col>line</th><th scope=col>dx_name</th><th scope=col>primary</th><th scope=col>chronic</th><th scope=col>principal</th><th scope=col>hospital_pl</th><th scope=col>ed</th><th scope=col>present_on_adm</th></tr>\n",
       "\t<tr><th scope=col>&lt;chr&gt;</th><th scope=col>&lt;int&gt;</th><th scope=col>&lt;int&gt;</th><th scope=col>&lt;chr&gt;</th><th scope=col>&lt;chr&gt;</th><th scope=col>&lt;chr&gt;</th><th scope=col>&lt;chr&gt;</th><th scope=col>&lt;chr&gt;</th><th scope=col>&lt;chr&gt;</th><th scope=col>&lt;chr&gt;</th></tr>\n",
       "</thead>\n",
       "<tbody>\n",
       "\t<tr><td>JCe5f7b6</td><td>NA</td><td> 1</td><td>Hyponatremia                                                                         </td><td>Y </td><td>N </td><td>NA</td><td>NA</td><td>Y </td><td>NA</td></tr>\n",
       "\t<tr><td>JCdc571d</td><td>NA</td><td> 6</td><td>Cough                                                                                </td><td>N </td><td>N </td><td>NA</td><td>NA</td><td>N </td><td>NA</td></tr>\n",
       "\t<tr><td>JCe35ee6</td><td>NA</td><td>11</td><td>Dementia without behavioral disturbance, unspecified dementia type (CMS-HCC)         </td><td>N </td><td>Y </td><td>NA</td><td>NA</td><td>N </td><td>NA</td></tr>\n",
       "\t<tr><td>JCd1f333</td><td>NA</td><td> 3</td><td>Diabetic ketoacidosis without coma associated with type 1 diabetes mellitus (CMS-HCC)</td><td>N </td><td>N </td><td>NA</td><td>NA</td><td>N </td><td>NA</td></tr>\n",
       "\t<tr><td>JCe09f7a</td><td>NA</td><td> 1</td><td>Vomiting, unspecified                                                                </td><td>NA</td><td>NA</td><td>NA</td><td>NA</td><td>NA</td><td>NA</td></tr>\n",
       "\t<tr><td>JCe439dd</td><td>NA</td><td> 7</td><td>Bipolar 1 disorder (CMS-HCC)                                                         </td><td>N </td><td>N </td><td>NA</td><td>NA</td><td>N </td><td>NA</td></tr>\n",
       "</tbody>\n",
       "</table>\n"
      ],
      "text/latex": [
       "A tibble: 6 × 10\n",
       "\\begin{tabular}{llllllllll}\n",
       " anon\\_id & pat\\_enc\\_csn\\_id\\_coded & line & dx\\_name & primary & chronic & principal & hospital\\_pl & ed & present\\_on\\_adm\\\\\n",
       " <chr> & <int> & <int> & <chr> & <chr> & <chr> & <chr> & <chr> & <chr> & <chr>\\\\\n",
       "\\hline\n",
       "\t JCe5f7b6 & NA &  1 & Hyponatremia                                                                          & Y  & N  & NA & NA & Y  & NA\\\\\n",
       "\t JCdc571d & NA &  6 & Cough                                                                                 & N  & N  & NA & NA & N  & NA\\\\\n",
       "\t JCe35ee6 & NA & 11 & Dementia without behavioral disturbance, unspecified dementia type (CMS-HCC)          & N  & Y  & NA & NA & N  & NA\\\\\n",
       "\t JCd1f333 & NA &  3 & Diabetic ketoacidosis without coma associated with type 1 diabetes mellitus (CMS-HCC) & N  & N  & NA & NA & N  & NA\\\\\n",
       "\t JCe09f7a & NA &  1 & Vomiting, unspecified                                                                 & NA & NA & NA & NA & NA & NA\\\\\n",
       "\t JCe439dd & NA &  7 & Bipolar 1 disorder (CMS-HCC)                                                          & N  & N  & NA & NA & N  & NA\\\\\n",
       "\\end{tabular}\n"
      ],
      "text/markdown": [
       "\n",
       "A tibble: 6 × 10\n",
       "\n",
       "| anon_id &lt;chr&gt; | pat_enc_csn_id_coded &lt;int&gt; | line &lt;int&gt; | dx_name &lt;chr&gt; | primary &lt;chr&gt; | chronic &lt;chr&gt; | principal &lt;chr&gt; | hospital_pl &lt;chr&gt; | ed &lt;chr&gt; | present_on_adm &lt;chr&gt; |\n",
       "|---|---|---|---|---|---|---|---|---|---|\n",
       "| JCe5f7b6 | NA |  1 | Hyponatremia                                                                          | Y  | N  | NA | NA | Y  | NA |\n",
       "| JCdc571d | NA |  6 | Cough                                                                                 | N  | N  | NA | NA | N  | NA |\n",
       "| JCe35ee6 | NA | 11 | Dementia without behavioral disturbance, unspecified dementia type (CMS-HCC)          | N  | Y  | NA | NA | N  | NA |\n",
       "| JCd1f333 | NA |  3 | Diabetic ketoacidosis without coma associated with type 1 diabetes mellitus (CMS-HCC) | N  | N  | NA | NA | N  | NA |\n",
       "| JCe09f7a | NA |  1 | Vomiting, unspecified                                                                 | NA | NA | NA | NA | NA | NA |\n",
       "| JCe439dd | NA |  7 | Bipolar 1 disorder (CMS-HCC)                                                          | N  | N  | NA | NA | N  | NA |\n",
       "\n"
      ],
      "text/plain": [
       "  anon_id  pat_enc_csn_id_coded line\n",
       "1 JCe5f7b6 NA                    1  \n",
       "2 JCdc571d NA                    6  \n",
       "3 JCe35ee6 NA                   11  \n",
       "4 JCd1f333 NA                    3  \n",
       "5 JCe09f7a NA                    1  \n",
       "6 JCe439dd NA                    7  \n",
       "  dx_name                                                                              \n",
       "1 Hyponatremia                                                                         \n",
       "2 Cough                                                                                \n",
       "3 Dementia without behavioral disturbance, unspecified dementia type (CMS-HCC)         \n",
       "4 Diabetic ketoacidosis without coma associated with type 1 diabetes mellitus (CMS-HCC)\n",
       "5 Vomiting, unspecified                                                                \n",
       "6 Bipolar 1 disorder (CMS-HCC)                                                         \n",
       "  primary chronic principal hospital_pl ed present_on_adm\n",
       "1 Y       N       NA        NA          Y  NA            \n",
       "2 N       N       NA        NA          N  NA            \n",
       "3 N       Y       NA        NA          N  NA            \n",
       "4 N       N       NA        NA          N  NA            \n",
       "5 NA      NA      NA        NA          NA NA            \n",
       "6 N       N       NA        NA          N  NA            "
      ]
     },
     "metadata": {},
     "output_type": "display_data"
    }
   ],
   "source": [
    "head(x2)"
   ]
  },
  {
   "cell_type": "code",
   "execution_count": 9,
   "metadata": {},
   "outputs": [
    {
     "name": "stderr",
     "output_type": "stream",
     "text": [
      "Warning message in as.integer.integer64(x):\n",
      "“NAs produced by integer overflow”\n"
     ]
    },
    {
     "data": {
      "text/html": [
       "<style>\n",
       ".list-inline {list-style: none; margin:0; padding: 0}\n",
       ".list-inline>li {display: inline-block}\n",
       ".list-inline>li:not(:last-child)::after {content: \"\\00b7\"; padding: 0 .5ex}\n",
       "</style>\n",
       "<ol class=list-inline><li>315</li><li>10</li></ol>\n"
      ],
      "text/latex": [
       "\\begin{enumerate*}\n",
       "\\item 315\n",
       "\\item 10\n",
       "\\end{enumerate*}\n"
      ],
      "text/markdown": [
       "1. 315\n",
       "2. 10\n",
       "\n",
       "\n"
      ],
      "text/plain": [
       "[1] 315  10"
      ]
     },
     "metadata": {},
     "output_type": "display_data"
    },
    {
     "data": {
      "text/html": [
       "<style>\n",
       ".list-inline {list-style: none; margin:0; padding: 0}\n",
       ".list-inline>li {display: inline-block}\n",
       ".list-inline>li:not(:last-child)::after {content: \"\\00b7\"; padding: 0 .5ex}\n",
       "</style>\n",
       "<ol class=list-inline><li>'anon_id'</li><li>'pat_enc_csn_id_coded'</li><li>'line'</li><li>'dx_name'</li><li>'primary'</li><li>'chronic'</li><li>'principal'</li><li>'hospital_pl'</li><li>'ed'</li><li>'present_on_adm'</li></ol>\n"
      ],
      "text/latex": [
       "\\begin{enumerate*}\n",
       "\\item 'anon\\_id'\n",
       "\\item 'pat\\_enc\\_csn\\_id\\_coded'\n",
       "\\item 'line'\n",
       "\\item 'dx\\_name'\n",
       "\\item 'primary'\n",
       "\\item 'chronic'\n",
       "\\item 'principal'\n",
       "\\item 'hospital\\_pl'\n",
       "\\item 'ed'\n",
       "\\item 'present\\_on\\_adm'\n",
       "\\end{enumerate*}\n"
      ],
      "text/markdown": [
       "1. 'anon_id'\n",
       "2. 'pat_enc_csn_id_coded'\n",
       "3. 'line'\n",
       "4. 'dx_name'\n",
       "5. 'primary'\n",
       "6. 'chronic'\n",
       "7. 'principal'\n",
       "8. 'hospital_pl'\n",
       "9. 'ed'\n",
       "10. 'present_on_adm'\n",
       "\n",
       "\n"
      ],
      "text/plain": [
       " [1] \"anon_id\"              \"pat_enc_csn_id_coded\" \"line\"                \n",
       " [4] \"dx_name\"              \"primary\"              \"chronic\"             \n",
       " [7] \"principal\"            \"hospital_pl\"          \"ed\"                  \n",
       "[10] \"present_on_adm\"      "
      ]
     },
     "metadata": {},
     "output_type": "display_data"
    }
   ],
   "source": [
    "# this doesn't seem right, redo with a separate SQL file as it is too large to be in R notebook\n",
    "q = \"\n",
    "SELECT distinct c.anon_id, c.pat_enc_csn_id_coded, \n",
    "    x.line, x.dx_name, x.primary, x.chronic, x.principal, x.hospital_pl, x.ed, x.present_on_adm\n",
    "FROM \n",
    "    `som-nero-phi-jonc101.triageTD.1_4_cohort_24hrpreadmit_diff_full_features` as c\n",
    "JOIN \n",
    "    `som-nero-phi-jonc101.shc_core.diagnosis_code` as x\n",
    "ON \n",
    "    (c.anon_id = x.anon_id and c.pat_enc_csn_id_coded = x.pat_enc_csn_id_jittered)\n",
    "\n",
    "WHERE (x.primary = 'Y')\n",
    "\"\n",
    "# submit the query:\n",
    "update.packages('Rcpp')\n",
    "x2 <- dbGetQuery(con, q)\n",
    "dim(x2)\n",
    "colnames(x2)"
   ]
  },
  {
   "cell_type": "code",
   "execution_count": 10,
   "metadata": {},
   "outputs": [
    {
     "data": {
      "text/html": [
       "<table class=\"dataframe\">\n",
       "<caption>A tibble: 6 × 10</caption>\n",
       "<thead>\n",
       "\t<tr><th scope=col>anon_id</th><th scope=col>pat_enc_csn_id_coded</th><th scope=col>line</th><th scope=col>dx_name</th><th scope=col>primary</th><th scope=col>chronic</th><th scope=col>principal</th><th scope=col>hospital_pl</th><th scope=col>ed</th><th scope=col>present_on_adm</th></tr>\n",
       "\t<tr><th scope=col>&lt;chr&gt;</th><th scope=col>&lt;int&gt;</th><th scope=col>&lt;int&gt;</th><th scope=col>&lt;chr&gt;</th><th scope=col>&lt;chr&gt;</th><th scope=col>&lt;chr&gt;</th><th scope=col>&lt;chr&gt;</th><th scope=col>&lt;chr&gt;</th><th scope=col>&lt;chr&gt;</th><th scope=col>&lt;chr&gt;</th></tr>\n",
       "</thead>\n",
       "<tbody>\n",
       "\t<tr><td>JCe5f7b6</td><td>NA</td><td>1</td><td>Hyponatremia                                                                          </td><td>Y</td><td>N</td><td>NA</td><td>NA</td><td>Y</td><td>NA</td></tr>\n",
       "\t<tr><td>JCda6b3f</td><td>NA</td><td>1</td><td>MVC (motor vehicle collision), initial encounter                                      </td><td>Y</td><td>N</td><td>NA</td><td>NA</td><td>Y</td><td>NA</td></tr>\n",
       "\t<tr><td>JCd1ef38</td><td>NA</td><td>1</td><td>Atherosclerosis of native coronary artery of native heart, angina presence unspecified</td><td>Y</td><td>N</td><td>NA</td><td>NA</td><td>N</td><td>NA</td></tr>\n",
       "\t<tr><td>JCeb2df6</td><td>NA</td><td>3</td><td>Malignant neoplasm of ovary, unspecified laterality (CMS-HCC)                         </td><td>Y</td><td>N</td><td>NA</td><td>NA</td><td>N</td><td>NA</td></tr>\n",
       "\t<tr><td>JCd5f913</td><td>NA</td><td>1</td><td>Acute respiratory failure with hypoxia and hypercarbia (CMS-HCC)                      </td><td>Y</td><td>N</td><td>NA</td><td>NA</td><td>Y</td><td>NA</td></tr>\n",
       "\t<tr><td>JCd69bf6</td><td>NA</td><td>2</td><td>ALS (amyotrophic lateral sclerosis) (CMS-HCC)                                         </td><td>Y</td><td>N</td><td>NA</td><td>NA</td><td>N</td><td>NA</td></tr>\n",
       "</tbody>\n",
       "</table>\n"
      ],
      "text/latex": [
       "A tibble: 6 × 10\n",
       "\\begin{tabular}{llllllllll}\n",
       " anon\\_id & pat\\_enc\\_csn\\_id\\_coded & line & dx\\_name & primary & chronic & principal & hospital\\_pl & ed & present\\_on\\_adm\\\\\n",
       " <chr> & <int> & <int> & <chr> & <chr> & <chr> & <chr> & <chr> & <chr> & <chr>\\\\\n",
       "\\hline\n",
       "\t JCe5f7b6 & NA & 1 & Hyponatremia                                                                           & Y & N & NA & NA & Y & NA\\\\\n",
       "\t JCda6b3f & NA & 1 & MVC (motor vehicle collision), initial encounter                                       & Y & N & NA & NA & Y & NA\\\\\n",
       "\t JCd1ef38 & NA & 1 & Atherosclerosis of native coronary artery of native heart, angina presence unspecified & Y & N & NA & NA & N & NA\\\\\n",
       "\t JCeb2df6 & NA & 3 & Malignant neoplasm of ovary, unspecified laterality (CMS-HCC)                          & Y & N & NA & NA & N & NA\\\\\n",
       "\t JCd5f913 & NA & 1 & Acute respiratory failure with hypoxia and hypercarbia (CMS-HCC)                       & Y & N & NA & NA & Y & NA\\\\\n",
       "\t JCd69bf6 & NA & 2 & ALS (amyotrophic lateral sclerosis) (CMS-HCC)                                          & Y & N & NA & NA & N & NA\\\\\n",
       "\\end{tabular}\n"
      ],
      "text/markdown": [
       "\n",
       "A tibble: 6 × 10\n",
       "\n",
       "| anon_id &lt;chr&gt; | pat_enc_csn_id_coded &lt;int&gt; | line &lt;int&gt; | dx_name &lt;chr&gt; | primary &lt;chr&gt; | chronic &lt;chr&gt; | principal &lt;chr&gt; | hospital_pl &lt;chr&gt; | ed &lt;chr&gt; | present_on_adm &lt;chr&gt; |\n",
       "|---|---|---|---|---|---|---|---|---|---|\n",
       "| JCe5f7b6 | NA | 1 | Hyponatremia                                                                           | Y | N | NA | NA | Y | NA |\n",
       "| JCda6b3f | NA | 1 | MVC (motor vehicle collision), initial encounter                                       | Y | N | NA | NA | Y | NA |\n",
       "| JCd1ef38 | NA | 1 | Atherosclerosis of native coronary artery of native heart, angina presence unspecified | Y | N | NA | NA | N | NA |\n",
       "| JCeb2df6 | NA | 3 | Malignant neoplasm of ovary, unspecified laterality (CMS-HCC)                          | Y | N | NA | NA | N | NA |\n",
       "| JCd5f913 | NA | 1 | Acute respiratory failure with hypoxia and hypercarbia (CMS-HCC)                       | Y | N | NA | NA | Y | NA |\n",
       "| JCd69bf6 | NA | 2 | ALS (amyotrophic lateral sclerosis) (CMS-HCC)                                          | Y | N | NA | NA | N | NA |\n",
       "\n"
      ],
      "text/plain": [
       "  anon_id  pat_enc_csn_id_coded line\n",
       "1 JCe5f7b6 NA                   1   \n",
       "2 JCda6b3f NA                   1   \n",
       "3 JCd1ef38 NA                   1   \n",
       "4 JCeb2df6 NA                   3   \n",
       "5 JCd5f913 NA                   1   \n",
       "6 JCd69bf6 NA                   2   \n",
       "  dx_name                                                                               \n",
       "1 Hyponatremia                                                                          \n",
       "2 MVC (motor vehicle collision), initial encounter                                      \n",
       "3 Atherosclerosis of native coronary artery of native heart, angina presence unspecified\n",
       "4 Malignant neoplasm of ovary, unspecified laterality (CMS-HCC)                         \n",
       "5 Acute respiratory failure with hypoxia and hypercarbia (CMS-HCC)                      \n",
       "6 ALS (amyotrophic lateral sclerosis) (CMS-HCC)                                         \n",
       "  primary chronic principal hospital_pl ed present_on_adm\n",
       "1 Y       N       NA        NA          Y  NA            \n",
       "2 Y       N       NA        NA          Y  NA            \n",
       "3 Y       N       NA        NA          N  NA            \n",
       "4 Y       N       NA        NA          N  NA            \n",
       "5 Y       N       NA        NA          Y  NA            \n",
       "6 Y       N       NA        NA          N  NA            "
      ]
     },
     "metadata": {},
     "output_type": "display_data"
    }
   ],
   "source": [
    "head(x2)"
   ]
  },
  {
   "cell_type": "code",
   "execution_count": 42,
   "metadata": {},
   "outputs": [],
   "source": [
    "write.csv(x2, file.path(datadir, \"4_2_diff_dx_primary.csv\"), row.names=FALSE)"
   ]
  },
  {
   "cell_type": "markdown",
   "metadata": {},
   "source": [
    "### Read the queried file back"
   ]
  },
  {
   "cell_type": "code",
   "execution_count": 10,
   "metadata": {},
   "outputs": [
    {
     "data": {
      "text/html": [
       "<style>\n",
       ".list-inline {list-style: none; margin:0; padding: 0}\n",
       ".list-inline>li {display: inline-block}\n",
       ".list-inline>li:not(:last-child)::after {content: \"\\00b7\"; padding: 0 .5ex}\n",
       "</style>\n",
       "<ol class=list-inline><li>1385721</li><li>30</li></ol>\n"
      ],
      "text/latex": [
       "\\begin{enumerate*}\n",
       "\\item 1385721\n",
       "\\item 30\n",
       "\\end{enumerate*}\n"
      ],
      "text/markdown": [
       "1. 1385721\n",
       "2. 30\n",
       "\n",
       "\n"
      ],
      "text/plain": [
       "[1] 1385721      30"
      ]
     },
     "metadata": {},
     "output_type": "display_data"
    },
    {
     "data": {
      "text/html": [
       "<style>\n",
       ".list-inline {list-style: none; margin:0; padding: 0}\n",
       ".list-inline>li {display: inline-block}\n",
       ".list-inline>li:not(:last-child)::after {content: \"\\00b7\"; padding: 0 .5ex}\n",
       "</style>\n",
       "<ol class=list-inline><li>'anon_id'</li><li>'pat_enc_csn_id_coded'</li><li>'admit_time'</li><li>'first_label'</li><li>'death_24hr_recent_label'</li><li>'death_24hr_max_label'</li><li>'pred_first'</li><li>'pred_death_24hr_recent'</li><li>'event_type_c'</li><li>'event_type'</li><li>'pat_class_c'</li><li>'pat_class'</li><li>'base_pat_class_c'</li><li>'base_pat_class'</li><li>'pat_service_c'</li><li>'pat_service'</li><li>'pat_lvl_of_care_c'</li><li>'pat_lv_of_care'</li><li>'accommodation_c'</li><li>'accomodation'</li><li>'in_event_type_c'</li><li>'in_event_type'</li><li>'out_event_type_c'</li><li>'out_event_type'</li><li>'from_base_class_c'</li><li>'from_base_class'</li><li>'to_base_class_c'</li><li>'to_base_class'</li><li>'seq_num_in_enc'</li><li>'seq_num_in_bed_min'</li></ol>\n"
      ],
      "text/latex": [
       "\\begin{enumerate*}\n",
       "\\item 'anon\\_id'\n",
       "\\item 'pat\\_enc\\_csn\\_id\\_coded'\n",
       "\\item 'admit\\_time'\n",
       "\\item 'first\\_label'\n",
       "\\item 'death\\_24hr\\_recent\\_label'\n",
       "\\item 'death\\_24hr\\_max\\_label'\n",
       "\\item 'pred\\_first'\n",
       "\\item 'pred\\_death\\_24hr\\_recent'\n",
       "\\item 'event\\_type\\_c'\n",
       "\\item 'event\\_type'\n",
       "\\item 'pat\\_class\\_c'\n",
       "\\item 'pat\\_class'\n",
       "\\item 'base\\_pat\\_class\\_c'\n",
       "\\item 'base\\_pat\\_class'\n",
       "\\item 'pat\\_service\\_c'\n",
       "\\item 'pat\\_service'\n",
       "\\item 'pat\\_lvl\\_of\\_care\\_c'\n",
       "\\item 'pat\\_lv\\_of\\_care'\n",
       "\\item 'accommodation\\_c'\n",
       "\\item 'accomodation'\n",
       "\\item 'in\\_event\\_type\\_c'\n",
       "\\item 'in\\_event\\_type'\n",
       "\\item 'out\\_event\\_type\\_c'\n",
       "\\item 'out\\_event\\_type'\n",
       "\\item 'from\\_base\\_class\\_c'\n",
       "\\item 'from\\_base\\_class'\n",
       "\\item 'to\\_base\\_class\\_c'\n",
       "\\item 'to\\_base\\_class'\n",
       "\\item 'seq\\_num\\_in\\_enc'\n",
       "\\item 'seq\\_num\\_in\\_bed\\_min'\n",
       "\\end{enumerate*}\n"
      ],
      "text/markdown": [
       "1. 'anon_id'\n",
       "2. 'pat_enc_csn_id_coded'\n",
       "3. 'admit_time'\n",
       "4. 'first_label'\n",
       "5. 'death_24hr_recent_label'\n",
       "6. 'death_24hr_max_label'\n",
       "7. 'pred_first'\n",
       "8. 'pred_death_24hr_recent'\n",
       "9. 'event_type_c'\n",
       "10. 'event_type'\n",
       "11. 'pat_class_c'\n",
       "12. 'pat_class'\n",
       "13. 'base_pat_class_c'\n",
       "14. 'base_pat_class'\n",
       "15. 'pat_service_c'\n",
       "16. 'pat_service'\n",
       "17. 'pat_lvl_of_care_c'\n",
       "18. 'pat_lv_of_care'\n",
       "19. 'accommodation_c'\n",
       "20. 'accomodation'\n",
       "21. 'in_event_type_c'\n",
       "22. 'in_event_type'\n",
       "23. 'out_event_type_c'\n",
       "24. 'out_event_type'\n",
       "25. 'from_base_class_c'\n",
       "26. 'from_base_class'\n",
       "27. 'to_base_class_c'\n",
       "28. 'to_base_class'\n",
       "29. 'seq_num_in_enc'\n",
       "30. 'seq_num_in_bed_min'\n",
       "\n",
       "\n"
      ],
      "text/plain": [
       " [1] \"anon_id\"                 \"pat_enc_csn_id_coded\"   \n",
       " [3] \"admit_time\"              \"first_label\"            \n",
       " [5] \"death_24hr_recent_label\" \"death_24hr_max_label\"   \n",
       " [7] \"pred_first\"              \"pred_death_24hr_recent\" \n",
       " [9] \"event_type_c\"            \"event_type\"             \n",
       "[11] \"pat_class_c\"             \"pat_class\"              \n",
       "[13] \"base_pat_class_c\"        \"base_pat_class\"         \n",
       "[15] \"pat_service_c\"           \"pat_service\"            \n",
       "[17] \"pat_lvl_of_care_c\"       \"pat_lv_of_care\"         \n",
       "[19] \"accommodation_c\"         \"accomodation\"           \n",
       "[21] \"in_event_type_c\"         \"in_event_type\"          \n",
       "[23] \"out_event_type_c\"        \"out_event_type\"         \n",
       "[25] \"from_base_class_c\"       \"from_base_class\"        \n",
       "[27] \"to_base_class_c\"         \"to_base_class\"          \n",
       "[29] \"seq_num_in_enc\"          \"seq_num_in_bed_min\"     "
      ]
     },
     "metadata": {},
     "output_type": "display_data"
    }
   ],
   "source": [
    "adt <- read.csv(file.path(datadir, \"4_2_diff_adt.csv\"))\n",
    "dim(adt) # should have 1385721\n",
    "colnames(adt)"
   ]
  },
  {
   "cell_type": "raw",
   "metadata": {},
   "source": [
    "# disable quotes\n",
    "adt <- read.csv(file.path(datadir, \"4_1_diff_adt.csv\"), quote = \"\" )\n",
    "dim(adt) # should have 1385721\n",
    "colnames(adt)"
   ]
  },
  {
   "cell_type": "code",
   "execution_count": 12,
   "metadata": {},
   "outputs": [
    {
     "data": {
      "text/html": [
       "<table class=\"dataframe\">\n",
       "<caption>A data.frame: 1 × 30</caption>\n",
       "<thead>\n",
       "\t<tr><th></th><th scope=col>anon_id</th><th scope=col>pat_enc_csn_id_coded</th><th scope=col>admit_time</th><th scope=col>first_label</th><th scope=col>death_24hr_recent_label</th><th scope=col>death_24hr_max_label</th><th scope=col>pred_first</th><th scope=col>pred_death_24hr_recent</th><th scope=col>event_type_c</th><th scope=col>event_type</th><th scope=col>pat_class_c</th><th scope=col>pat_class</th><th scope=col>base_pat_class_c</th><th scope=col>base_pat_class</th><th scope=col>pat_service_c</th><th scope=col>pat_service</th><th scope=col>pat_lvl_of_care_c</th><th scope=col>pat_lv_of_care</th><th scope=col>accommodation_c</th><th scope=col>accomodation</th><th scope=col>in_event_type_c</th><th scope=col>in_event_type</th><th scope=col>out_event_type_c</th><th scope=col>out_event_type</th><th scope=col>from_base_class_c</th><th scope=col>from_base_class</th><th scope=col>to_base_class_c</th><th scope=col>to_base_class</th><th scope=col>seq_num_in_enc</th><th scope=col>seq_num_in_bed_min</th></tr>\n",
       "\t<tr><th></th><th scope=col>&lt;chr&gt;</th><th scope=col>&lt;lgl&gt;</th><th scope=col>&lt;chr&gt;</th><th scope=col>&lt;int&gt;</th><th scope=col>&lt;int&gt;</th><th scope=col>&lt;int&gt;</th><th scope=col>&lt;dbl&gt;</th><th scope=col>&lt;dbl&gt;</th><th scope=col>&lt;int&gt;</th><th scope=col>&lt;chr&gt;</th><th scope=col>&lt;int&gt;</th><th scope=col>&lt;chr&gt;</th><th scope=col>&lt;int&gt;</th><th scope=col>&lt;chr&gt;</th><th scope=col>&lt;int&gt;</th><th scope=col>&lt;chr&gt;</th><th scope=col>&lt;int&gt;</th><th scope=col>&lt;chr&gt;</th><th scope=col>&lt;int&gt;</th><th scope=col>&lt;chr&gt;</th><th scope=col>&lt;int&gt;</th><th scope=col>&lt;chr&gt;</th><th scope=col>&lt;int&gt;</th><th scope=col>&lt;chr&gt;</th><th scope=col>&lt;int&gt;</th><th scope=col>&lt;chr&gt;</th><th scope=col>&lt;int&gt;</th><th scope=col>&lt;chr&gt;</th><th scope=col>&lt;int&gt;</th><th scope=col>&lt;int&gt;</th></tr>\n",
       "</thead>\n",
       "<tbody>\n",
       "\t<tr><th scope=row>1</th><td>JC2a1bd68</td><td>NA</td><td>2019-12-24 23:20:00</td><td>1</td><td>1</td><td>1</td><td>0.5241561</td><td>0.2500841</td><td>1</td><td>Admission</td><td>112</td><td>Emergency Services</td><td>3</td><td>Emergency</td><td>100</td><td>Emergency</td><td>NA</td><td>NA</td><td>10001</td><td>Ward </td><td>1</td><td>Admission</td><td>NA</td><td>NA</td><td>0</td><td>NA</td><td>3</td><td>Emergency</td><td>1</td><td>1</td></tr>\n",
       "</tbody>\n",
       "</table>\n"
      ],
      "text/latex": [
       "A data.frame: 1 × 30\n",
       "\\begin{tabular}{r|llllllllllllllllllllllllllllll}\n",
       "  & anon\\_id & pat\\_enc\\_csn\\_id\\_coded & admit\\_time & first\\_label & death\\_24hr\\_recent\\_label & death\\_24hr\\_max\\_label & pred\\_first & pred\\_death\\_24hr\\_recent & event\\_type\\_c & event\\_type & pat\\_class\\_c & pat\\_class & base\\_pat\\_class\\_c & base\\_pat\\_class & pat\\_service\\_c & pat\\_service & pat\\_lvl\\_of\\_care\\_c & pat\\_lv\\_of\\_care & accommodation\\_c & accomodation & in\\_event\\_type\\_c & in\\_event\\_type & out\\_event\\_type\\_c & out\\_event\\_type & from\\_base\\_class\\_c & from\\_base\\_class & to\\_base\\_class\\_c & to\\_base\\_class & seq\\_num\\_in\\_enc & seq\\_num\\_in\\_bed\\_min\\\\\n",
       "  & <chr> & <lgl> & <chr> & <int> & <int> & <int> & <dbl> & <dbl> & <int> & <chr> & <int> & <chr> & <int> & <chr> & <int> & <chr> & <int> & <chr> & <int> & <chr> & <int> & <chr> & <int> & <chr> & <int> & <chr> & <int> & <chr> & <int> & <int>\\\\\n",
       "\\hline\n",
       "\t1 & JC2a1bd68 & NA & 2019-12-24 23:20:00 & 1 & 1 & 1 & 0.5241561 & 0.2500841 & 1 & Admission & 112 & Emergency Services & 3 & Emergency & 100 & Emergency & NA & NA & 10001 & Ward  & 1 & Admission & NA & NA & 0 & NA & 3 & Emergency & 1 & 1\\\\\n",
       "\\end{tabular}\n"
      ],
      "text/markdown": [
       "\n",
       "A data.frame: 1 × 30\n",
       "\n",
       "| <!--/--> | anon_id &lt;chr&gt; | pat_enc_csn_id_coded &lt;lgl&gt; | admit_time &lt;chr&gt; | first_label &lt;int&gt; | death_24hr_recent_label &lt;int&gt; | death_24hr_max_label &lt;int&gt; | pred_first &lt;dbl&gt; | pred_death_24hr_recent &lt;dbl&gt; | event_type_c &lt;int&gt; | event_type &lt;chr&gt; | pat_class_c &lt;int&gt; | pat_class &lt;chr&gt; | base_pat_class_c &lt;int&gt; | base_pat_class &lt;chr&gt; | pat_service_c &lt;int&gt; | pat_service &lt;chr&gt; | pat_lvl_of_care_c &lt;int&gt; | pat_lv_of_care &lt;chr&gt; | accommodation_c &lt;int&gt; | accomodation &lt;chr&gt; | in_event_type_c &lt;int&gt; | in_event_type &lt;chr&gt; | out_event_type_c &lt;int&gt; | out_event_type &lt;chr&gt; | from_base_class_c &lt;int&gt; | from_base_class &lt;chr&gt; | to_base_class_c &lt;int&gt; | to_base_class &lt;chr&gt; | seq_num_in_enc &lt;int&gt; | seq_num_in_bed_min &lt;int&gt; |\n",
       "|---|---|---|---|---|---|---|---|---|---|---|---|---|---|---|---|---|---|---|---|---|---|---|---|---|---|---|---|---|---|---|\n",
       "| 1 | JC2a1bd68 | NA | 2019-12-24 23:20:00 | 1 | 1 | 1 | 0.5241561 | 0.2500841 | 1 | Admission | 112 | Emergency Services | 3 | Emergency | 100 | Emergency | NA | NA | 10001 | Ward  | 1 | Admission | NA | NA | 0 | NA | 3 | Emergency | 1 | 1 |\n",
       "\n"
      ],
      "text/plain": [
       "  anon_id   pat_enc_csn_id_coded admit_time          first_label\n",
       "1 JC2a1bd68 NA                   2019-12-24 23:20:00 1          \n",
       "  death_24hr_recent_label death_24hr_max_label pred_first\n",
       "1 1                       1                    0.5241561 \n",
       "  pred_death_24hr_recent event_type_c event_type pat_class_c pat_class         \n",
       "1 0.2500841              1            Admission  112         Emergency Services\n",
       "  base_pat_class_c base_pat_class pat_service_c pat_service pat_lvl_of_care_c\n",
       "1 3                Emergency      100           Emergency   NA               \n",
       "  pat_lv_of_care accommodation_c accomodation in_event_type_c in_event_type\n",
       "1 NA             10001           Ward         1               Admission    \n",
       "  out_event_type_c out_event_type from_base_class_c from_base_class\n",
       "1 NA               NA             0                 NA             \n",
       "  to_base_class_c to_base_class seq_num_in_enc seq_num_in_bed_min\n",
       "1 3               Emergency     1              1                 "
      ]
     },
     "metadata": {},
     "output_type": "display_data"
    }
   ],
   "source": [
    "head(adt, 1)"
   ]
  },
  {
   "cell_type": "code",
   "execution_count": null,
   "metadata": {},
   "outputs": [
    {
     "data": {
      "text/html": [
       "<table class=\"dataframe\">\n",
       "<caption>A data.frame: 4 × 3</caption>\n",
       "<thead>\n",
       "\t<tr><th scope=col>first_label</th><th scope=col>death_24hr_recent_label</th><th scope=col>n</th></tr>\n",
       "\t<tr><th scope=col>&lt;int&gt;</th><th scope=col>&lt;int&gt;</th><th scope=col>&lt;int&gt;</th></tr>\n",
       "</thead>\n",
       "<tbody>\n",
       "\t<tr><td>1</td><td>1</td><td>119</td></tr>\n",
       "\t<tr><td>1</td><td>0</td><td> 98</td></tr>\n",
       "\t<tr><td>0</td><td>0</td><td> 90</td></tr>\n",
       "\t<tr><td>0</td><td>1</td><td> 17</td></tr>\n",
       "</tbody>\n",
       "</table>\n"
      ],
      "text/latex": [
       "A data.frame: 4 × 3\n",
       "\\begin{tabular}{lll}\n",
       " first\\_label & death\\_24hr\\_recent\\_label & n\\\\\n",
       " <int> & <int> & <int>\\\\\n",
       "\\hline\n",
       "\t 1 & 1 & 119\\\\\n",
       "\t 1 & 0 &  98\\\\\n",
       "\t 0 & 0 &  90\\\\\n",
       "\t 0 & 1 &  17\\\\\n",
       "\\end{tabular}\n"
      ],
      "text/markdown": [
       "\n",
       "A data.frame: 4 × 3\n",
       "\n",
       "| first_label &lt;int&gt; | death_24hr_recent_label &lt;int&gt; | n &lt;int&gt; |\n",
       "|---|---|---|\n",
       "| 1 | 1 | 119 |\n",
       "| 1 | 0 |  98 |\n",
       "| 0 | 0 |  90 |\n",
       "| 0 | 1 |  17 |\n",
       "\n"
      ],
      "text/plain": [
       "  first_label death_24hr_recent_label n  \n",
       "1 1           1                       119\n",
       "2 1           0                        98\n",
       "3 0           0                        90\n",
       "4 0           1                        17"
      ]
     },
     "metadata": {},
     "output_type": "display_data"
    },
    {
     "data": {
      "text/html": [
       "<table class=\"dataframe\">\n",
       "<caption>A data.frame: 6 × 3</caption>\n",
       "<thead>\n",
       "\t<tr><th scope=col>event_type</th><th scope=col>event_type_c</th><th scope=col>n</th></tr>\n",
       "\t<tr><th scope=col>&lt;chr&gt;</th><th scope=col>&lt;int&gt;</th><th scope=col>&lt;int&gt;</th></tr>\n",
       "</thead>\n",
       "<tbody>\n",
       "\t<tr><td>Census        </td><td>6</td><td>419221</td></tr>\n",
       "\t<tr><td>Transfer In   </td><td>3</td><td>305337</td></tr>\n",
       "\t<tr><td>Transfer Out  </td><td>4</td><td>305337</td></tr>\n",
       "\t<tr><td>Patient Update</td><td>5</td><td>218436</td></tr>\n",
       "\t<tr><td>Admission     </td><td>1</td><td> 69334</td></tr>\n",
       "\t<tr><td>Discharge     </td><td>2</td><td> 68056</td></tr>\n",
       "</tbody>\n",
       "</table>\n"
      ],
      "text/latex": [
       "A data.frame: 6 × 3\n",
       "\\begin{tabular}{lll}\n",
       " event\\_type & event\\_type\\_c & n\\\\\n",
       " <chr> & <int> & <int>\\\\\n",
       "\\hline\n",
       "\t Census         & 6 & 419221\\\\\n",
       "\t Transfer In    & 3 & 305337\\\\\n",
       "\t Transfer Out   & 4 & 305337\\\\\n",
       "\t Patient Update & 5 & 218436\\\\\n",
       "\t Admission      & 1 &  69334\\\\\n",
       "\t Discharge      & 2 &  68056\\\\\n",
       "\\end{tabular}\n"
      ],
      "text/markdown": [
       "\n",
       "A data.frame: 6 × 3\n",
       "\n",
       "| event_type &lt;chr&gt; | event_type_c &lt;int&gt; | n &lt;int&gt; |\n",
       "|---|---|---|\n",
       "| Census         | 6 | 419221 |\n",
       "| Transfer In    | 3 | 305337 |\n",
       "| Transfer Out   | 4 | 305337 |\n",
       "| Patient Update | 5 | 218436 |\n",
       "| Admission      | 1 |  69334 |\n",
       "| Discharge      | 2 |  68056 |\n",
       "\n"
      ],
      "text/plain": [
       "  event_type     event_type_c n     \n",
       "1 Census         6            419221\n",
       "2 Transfer In    3            305337\n",
       "3 Transfer Out   4            305337\n",
       "4 Patient Update 5            218436\n",
       "5 Admission      1             69334\n",
       "6 Discharge      2             68056"
      ]
     },
     "metadata": {},
     "output_type": "display_data"
    },
    {
     "data": {
      "text/html": [
       "<table class=\"dataframe\">\n",
       "<caption>A data.frame: 4 × 3</caption>\n",
       "<thead>\n",
       "\t<tr><th scope=col>pat_class</th><th scope=col>pat_class_c</th><th scope=col>n</th></tr>\n",
       "\t<tr><th scope=col>&lt;chr&gt;</th><th scope=col>&lt;int&gt;</th><th scope=col>&lt;int&gt;</th></tr>\n",
       "</thead>\n",
       "<tbody>\n",
       "\t<tr><td>Inpatient           </td><td>126</td><td>1182999</td></tr>\n",
       "\t<tr><td>Emergency Services  </td><td>112</td><td> 200344</td></tr>\n",
       "\t<tr><td>Observation         </td><td>128</td><td>   1727</td></tr>\n",
       "\t<tr><td>OP Surgery/Procedure</td><td>122</td><td>    651</td></tr>\n",
       "</tbody>\n",
       "</table>\n"
      ],
      "text/latex": [
       "A data.frame: 4 × 3\n",
       "\\begin{tabular}{lll}\n",
       " pat\\_class & pat\\_class\\_c & n\\\\\n",
       " <chr> & <int> & <int>\\\\\n",
       "\\hline\n",
       "\t Inpatient            & 126 & 1182999\\\\\n",
       "\t Emergency Services   & 112 &  200344\\\\\n",
       "\t Observation          & 128 &    1727\\\\\n",
       "\t OP Surgery/Procedure & 122 &     651\\\\\n",
       "\\end{tabular}\n"
      ],
      "text/markdown": [
       "\n",
       "A data.frame: 4 × 3\n",
       "\n",
       "| pat_class &lt;chr&gt; | pat_class_c &lt;int&gt; | n &lt;int&gt; |\n",
       "|---|---|---|\n",
       "| Inpatient            | 126 | 1182999 |\n",
       "| Emergency Services   | 112 |  200344 |\n",
       "| Observation          | 128 |    1727 |\n",
       "| OP Surgery/Procedure | 122 |     651 |\n",
       "\n"
      ],
      "text/plain": [
       "  pat_class            pat_class_c n      \n",
       "1 Inpatient            126         1182999\n",
       "2 Emergency Services   112          200344\n",
       "3 Observation          128            1727\n",
       "4 OP Surgery/Procedure 122             651"
      ]
     },
     "metadata": {},
     "output_type": "display_data"
    },
    {
     "data": {
      "text/html": [
       "<table class=\"dataframe\">\n",
       "<caption>A data.frame: 4 × 3</caption>\n",
       "<thead>\n",
       "\t<tr><th scope=col>base_pat_class</th><th scope=col>base_pat_class_c</th><th scope=col>n</th></tr>\n",
       "\t<tr><th scope=col>&lt;chr&gt;</th><th scope=col>&lt;int&gt;</th><th scope=col>&lt;int&gt;</th></tr>\n",
       "</thead>\n",
       "<tbody>\n",
       "\t<tr><td>NA        </td><td>NA</td><td>1246039</td></tr>\n",
       "\t<tr><td>Emergency </td><td> 3</td><td>  69334</td></tr>\n",
       "\t<tr><td>Inpatient </td><td> 1</td><td>  69334</td></tr>\n",
       "\t<tr><td>Outpatient</td><td> 2</td><td>   1014</td></tr>\n",
       "</tbody>\n",
       "</table>\n"
      ],
      "text/latex": [
       "A data.frame: 4 × 3\n",
       "\\begin{tabular}{lll}\n",
       " base\\_pat\\_class & base\\_pat\\_class\\_c & n\\\\\n",
       " <chr> & <int> & <int>\\\\\n",
       "\\hline\n",
       "\t NA         & NA & 1246039\\\\\n",
       "\t Emergency  &  3 &   69334\\\\\n",
       "\t Inpatient  &  1 &   69334\\\\\n",
       "\t Outpatient &  2 &    1014\\\\\n",
       "\\end{tabular}\n"
      ],
      "text/markdown": [
       "\n",
       "A data.frame: 4 × 3\n",
       "\n",
       "| base_pat_class &lt;chr&gt; | base_pat_class_c &lt;int&gt; | n &lt;int&gt; |\n",
       "|---|---|---|\n",
       "| NA         | NA | 1246039 |\n",
       "| Emergency  |  3 |   69334 |\n",
       "| Inpatient  |  1 |   69334 |\n",
       "| Outpatient |  2 |    1014 |\n",
       "\n"
      ],
      "text/plain": [
       "  base_pat_class base_pat_class_c n      \n",
       "1 NA             NA               1246039\n",
       "2 Emergency       3                 69334\n",
       "3 Inpatient       1                 69334\n",
       "4 Outpatient      2                  1014"
      ]
     },
     "metadata": {},
     "output_type": "display_data"
    },
    {
     "data": {
      "text/html": [
       "<table class=\"dataframe\">\n",
       "<caption>A data.frame: 38 × 3</caption>\n",
       "<thead>\n",
       "\t<tr><th scope=col>pat_service</th><th scope=col>pat_service_c</th><th scope=col>n</th></tr>\n",
       "\t<tr><th scope=col>&lt;chr&gt;</th><th scope=col>&lt;int&gt;</th><th scope=col>&lt;int&gt;</th></tr>\n",
       "</thead>\n",
       "<tbody>\n",
       "\t<tr><td>Critical Care                </td><td> 151</td><td>283991</td></tr>\n",
       "\t<tr><td>Medicine                     </td><td>  39</td><td>191213</td></tr>\n",
       "\t<tr><td>Emergency                    </td><td> 100</td><td>141033</td></tr>\n",
       "\t<tr><td>Emergency Medicine           </td><td> 187</td><td>120906</td></tr>\n",
       "\t<tr><td>General Medicine (University)</td><td> 153</td><td> 87235</td></tr>\n",
       "\t<tr><td>Trauma                       </td><td>  72</td><td> 86612</td></tr>\n",
       "\t<tr><td>General Surgery              </td><td>  59</td><td> 81189</td></tr>\n",
       "\t<tr><td>Cardiology                   </td><td> 155</td><td> 61527</td></tr>\n",
       "\t<tr><td>General Medicine (PAMF)      </td><td> 154</td><td> 30827</td></tr>\n",
       "\t<tr><td>Neurosurgery                 </td><td>  62</td><td> 30067</td></tr>\n",
       "\t<tr><td>ICU Trauma/GenSurg           </td><td> 152</td><td> 24580</td></tr>\n",
       "\t<tr><td>Cardiac Surgery              </td><td>  58</td><td> 23868</td></tr>\n",
       "\t<tr><td>Plastic Surgery              </td><td>  67</td><td> 20756</td></tr>\n",
       "\t<tr><td>Orthopaedic Surgery          </td><td>  64</td><td> 20236</td></tr>\n",
       "\t<tr><td>Oncology                     </td><td>  47</td><td> 19354</td></tr>\n",
       "\t<tr><td>Neurology/Stroke Svc         </td><td>  53</td><td> 18877</td></tr>\n",
       "\t<tr><td>Neurocritical Care           </td><td>1567</td><td> 16382</td></tr>\n",
       "\t<tr><td>Hematology/Oncology          </td><td> 207</td><td> 14543</td></tr>\n",
       "\t<tr><td>GI/Liver                     </td><td> 220</td><td> 13832</td></tr>\n",
       "\t<tr><td>Liver Transplant             </td><td>  61</td><td> 13650</td></tr>\n",
       "\t<tr><td>Emergency Critical Care      </td><td>1554</td><td> 12621</td></tr>\n",
       "\t<tr><td>Neurology                    </td><td>  52</td><td> 10603</td></tr>\n",
       "\t<tr><td>Hematology                   </td><td>  44</td><td>  8736</td></tr>\n",
       "\t<tr><td>Cardiovascular Medicine      </td><td>  31</td><td>  8501</td></tr>\n",
       "\t<tr><td>Vascular Surgery             </td><td> 189</td><td>  8286</td></tr>\n",
       "\t<tr><td>Cardiology Arrhythmia        </td><td>  27</td><td>  6600</td></tr>\n",
       "\t<tr><td>Gyn-Oncology                 </td><td>  36</td><td>  5928</td></tr>\n",
       "\t<tr><td>Cardiology Interventional    </td><td> 191</td><td>  4012</td></tr>\n",
       "\t<tr><td>Hepatology                   </td><td> 193</td><td>  3822</td></tr>\n",
       "\t<tr><td>Cardiovascular ICU           </td><td> 219</td><td>  3758</td></tr>\n",
       "\t<tr><td>NA                           </td><td>  NA</td><td>  2704</td></tr>\n",
       "\t<tr><td>Pulmonary Transplant         </td><td> 198</td><td>  2676</td></tr>\n",
       "\t<tr><td>Urology                      </td><td>  69</td><td>  2016</td></tr>\n",
       "\t<tr><td>Pulmonary                    </td><td> 167</td><td>  1696</td></tr>\n",
       "\t<tr><td>ENT                          </td><td>  65</td><td>   952</td></tr>\n",
       "\t<tr><td>General Medicine (T)         </td><td>  46</td><td>   920</td></tr>\n",
       "\t<tr><td>Gynecology                   </td><td>  35</td><td>   756</td></tr>\n",
       "\t<tr><td>Sleep Medicine               </td><td> 185</td><td>   456</td></tr>\n",
       "</tbody>\n",
       "</table>\n"
      ],
      "text/latex": [
       "A data.frame: 38 × 3\n",
       "\\begin{tabular}{lll}\n",
       " pat\\_service & pat\\_service\\_c & n\\\\\n",
       " <chr> & <int> & <int>\\\\\n",
       "\\hline\n",
       "\t Critical Care                 &  151 & 283991\\\\\n",
       "\t Medicine                      &   39 & 191213\\\\\n",
       "\t Emergency                     &  100 & 141033\\\\\n",
       "\t Emergency Medicine            &  187 & 120906\\\\\n",
       "\t General Medicine (University) &  153 &  87235\\\\\n",
       "\t Trauma                        &   72 &  86612\\\\\n",
       "\t General Surgery               &   59 &  81189\\\\\n",
       "\t Cardiology                    &  155 &  61527\\\\\n",
       "\t General Medicine (PAMF)       &  154 &  30827\\\\\n",
       "\t Neurosurgery                  &   62 &  30067\\\\\n",
       "\t ICU Trauma/GenSurg            &  152 &  24580\\\\\n",
       "\t Cardiac Surgery               &   58 &  23868\\\\\n",
       "\t Plastic Surgery               &   67 &  20756\\\\\n",
       "\t Orthopaedic Surgery           &   64 &  20236\\\\\n",
       "\t Oncology                      &   47 &  19354\\\\\n",
       "\t Neurology/Stroke Svc          &   53 &  18877\\\\\n",
       "\t Neurocritical Care            & 1567 &  16382\\\\\n",
       "\t Hematology/Oncology           &  207 &  14543\\\\\n",
       "\t GI/Liver                      &  220 &  13832\\\\\n",
       "\t Liver Transplant              &   61 &  13650\\\\\n",
       "\t Emergency Critical Care       & 1554 &  12621\\\\\n",
       "\t Neurology                     &   52 &  10603\\\\\n",
       "\t Hematology                    &   44 &   8736\\\\\n",
       "\t Cardiovascular Medicine       &   31 &   8501\\\\\n",
       "\t Vascular Surgery              &  189 &   8286\\\\\n",
       "\t Cardiology Arrhythmia         &   27 &   6600\\\\\n",
       "\t Gyn-Oncology                  &   36 &   5928\\\\\n",
       "\t Cardiology Interventional     &  191 &   4012\\\\\n",
       "\t Hepatology                    &  193 &   3822\\\\\n",
       "\t Cardiovascular ICU            &  219 &   3758\\\\\n",
       "\t NA                            &   NA &   2704\\\\\n",
       "\t Pulmonary Transplant          &  198 &   2676\\\\\n",
       "\t Urology                       &   69 &   2016\\\\\n",
       "\t Pulmonary                     &  167 &   1696\\\\\n",
       "\t ENT                           &   65 &    952\\\\\n",
       "\t General Medicine (T)          &   46 &    920\\\\\n",
       "\t Gynecology                    &   35 &    756\\\\\n",
       "\t Sleep Medicine                &  185 &    456\\\\\n",
       "\\end{tabular}\n"
      ],
      "text/markdown": [
       "\n",
       "A data.frame: 38 × 3\n",
       "\n",
       "| pat_service &lt;chr&gt; | pat_service_c &lt;int&gt; | n &lt;int&gt; |\n",
       "|---|---|---|\n",
       "| Critical Care                 |  151 | 283991 |\n",
       "| Medicine                      |   39 | 191213 |\n",
       "| Emergency                     |  100 | 141033 |\n",
       "| Emergency Medicine            |  187 | 120906 |\n",
       "| General Medicine (University) |  153 |  87235 |\n",
       "| Trauma                        |   72 |  86612 |\n",
       "| General Surgery               |   59 |  81189 |\n",
       "| Cardiology                    |  155 |  61527 |\n",
       "| General Medicine (PAMF)       |  154 |  30827 |\n",
       "| Neurosurgery                  |   62 |  30067 |\n",
       "| ICU Trauma/GenSurg            |  152 |  24580 |\n",
       "| Cardiac Surgery               |   58 |  23868 |\n",
       "| Plastic Surgery               |   67 |  20756 |\n",
       "| Orthopaedic Surgery           |   64 |  20236 |\n",
       "| Oncology                      |   47 |  19354 |\n",
       "| Neurology/Stroke Svc          |   53 |  18877 |\n",
       "| Neurocritical Care            | 1567 |  16382 |\n",
       "| Hematology/Oncology           |  207 |  14543 |\n",
       "| GI/Liver                      |  220 |  13832 |\n",
       "| Liver Transplant              |   61 |  13650 |\n",
       "| Emergency Critical Care       | 1554 |  12621 |\n",
       "| Neurology                     |   52 |  10603 |\n",
       "| Hematology                    |   44 |   8736 |\n",
       "| Cardiovascular Medicine       |   31 |   8501 |\n",
       "| Vascular Surgery              |  189 |   8286 |\n",
       "| Cardiology Arrhythmia         |   27 |   6600 |\n",
       "| Gyn-Oncology                  |   36 |   5928 |\n",
       "| Cardiology Interventional     |  191 |   4012 |\n",
       "| Hepatology                    |  193 |   3822 |\n",
       "| Cardiovascular ICU            |  219 |   3758 |\n",
       "| NA                            |   NA |   2704 |\n",
       "| Pulmonary Transplant          |  198 |   2676 |\n",
       "| Urology                       |   69 |   2016 |\n",
       "| Pulmonary                     |  167 |   1696 |\n",
       "| ENT                           |   65 |    952 |\n",
       "| General Medicine (T)          |   46 |    920 |\n",
       "| Gynecology                    |   35 |    756 |\n",
       "| Sleep Medicine                |  185 |    456 |\n",
       "\n"
      ],
      "text/plain": [
       "   pat_service                   pat_service_c n     \n",
       "1  Critical Care                  151          283991\n",
       "2  Medicine                        39          191213\n",
       "3  Emergency                      100          141033\n",
       "4  Emergency Medicine             187          120906\n",
       "5  General Medicine (University)  153           87235\n",
       "6  Trauma                          72           86612\n",
       "7  General Surgery                 59           81189\n",
       "8  Cardiology                     155           61527\n",
       "9  General Medicine (PAMF)        154           30827\n",
       "10 Neurosurgery                    62           30067\n",
       "11 ICU Trauma/GenSurg             152           24580\n",
       "12 Cardiac Surgery                 58           23868\n",
       "13 Plastic Surgery                 67           20756\n",
       "14 Orthopaedic Surgery             64           20236\n",
       "15 Oncology                        47           19354\n",
       "16 Neurology/Stroke Svc            53           18877\n",
       "17 Neurocritical Care            1567           16382\n",
       "18 Hematology/Oncology            207           14543\n",
       "19 GI/Liver                       220           13832\n",
       "20 Liver Transplant                61           13650\n",
       "21 Emergency Critical Care       1554           12621\n",
       "22 Neurology                       52           10603\n",
       "23 Hematology                      44            8736\n",
       "24 Cardiovascular Medicine         31            8501\n",
       "25 Vascular Surgery               189            8286\n",
       "26 Cardiology Arrhythmia           27            6600\n",
       "27 Gyn-Oncology                    36            5928\n",
       "28 Cardiology Interventional      191            4012\n",
       "29 Hepatology                     193            3822\n",
       "30 Cardiovascular ICU             219            3758\n",
       "31 NA                              NA            2704\n",
       "32 Pulmonary Transplant           198            2676\n",
       "33 Urology                         69            2016\n",
       "34 Pulmonary                      167            1696\n",
       "35 ENT                             65             952\n",
       "36 General Medicine (T)            46             920\n",
       "37 Gynecology                      35             756\n",
       "38 Sleep Medicine                 185             456"
      ]
     },
     "metadata": {},
     "output_type": "display_data"
    },
    {
     "data": {
      "text/html": [
       "<table class=\"dataframe\">\n",
       "<caption>A data.frame: 5 × 3</caption>\n",
       "<thead>\n",
       "\t<tr><th scope=col>pat_lv_of_care</th><th scope=col>pat_lvl_of_care_c</th><th scope=col>n</th></tr>\n",
       "\t<tr><th scope=col>&lt;chr&gt;</th><th scope=col>&lt;int&gt;</th><th scope=col>&lt;int&gt;</th></tr>\n",
       "</thead>\n",
       "<tbody>\n",
       "\t<tr><td>Acute Care (Assessment or intervention q4-8)            </td><td> 5</td><td>561858</td></tr>\n",
       "\t<tr><td>Critical Care                                           </td><td> 8</td><td>404635</td></tr>\n",
       "\t<tr><td>IICU/Intermediate Care (Assessment or intervention q2-4)</td><td> 9</td><td>218827</td></tr>\n",
       "\t<tr><td>NA                                                      </td><td>NA</td><td>200282</td></tr>\n",
       "\t<tr><td>Newborn Nursery - VC Only                               </td><td>68</td><td>   119</td></tr>\n",
       "</tbody>\n",
       "</table>\n"
      ],
      "text/latex": [
       "A data.frame: 5 × 3\n",
       "\\begin{tabular}{lll}\n",
       " pat\\_lv\\_of\\_care & pat\\_lvl\\_of\\_care\\_c & n\\\\\n",
       " <chr> & <int> & <int>\\\\\n",
       "\\hline\n",
       "\t Acute Care (Assessment or intervention q4-8)             &  5 & 561858\\\\\n",
       "\t Critical Care                                            &  8 & 404635\\\\\n",
       "\t IICU/Intermediate Care (Assessment or intervention q2-4) &  9 & 218827\\\\\n",
       "\t NA                                                       & NA & 200282\\\\\n",
       "\t Newborn Nursery - VC Only                                & 68 &    119\\\\\n",
       "\\end{tabular}\n"
      ],
      "text/markdown": [
       "\n",
       "A data.frame: 5 × 3\n",
       "\n",
       "| pat_lv_of_care &lt;chr&gt; | pat_lvl_of_care_c &lt;int&gt; | n &lt;int&gt; |\n",
       "|---|---|---|\n",
       "| Acute Care (Assessment or intervention q4-8)             |  5 | 561858 |\n",
       "| Critical Care                                            |  8 | 404635 |\n",
       "| IICU/Intermediate Care (Assessment or intervention q2-4) |  9 | 218827 |\n",
       "| NA                                                       | NA | 200282 |\n",
       "| Newborn Nursery - VC Only                                | 68 |    119 |\n",
       "\n"
      ],
      "text/plain": [
       "  pat_lv_of_care                                           pat_lvl_of_care_c\n",
       "1 Acute Care (Assessment or intervention q4-8)              5               \n",
       "2 Critical Care                                             8               \n",
       "3 IICU/Intermediate Care (Assessment or intervention q2-4)  9               \n",
       "4 NA                                                       NA               \n",
       "5 Newborn Nursery - VC Only                                68               \n",
       "  n     \n",
       "1 561858\n",
       "2 404635\n",
       "3 218827\n",
       "4 200282\n",
       "5    119"
      ]
     },
     "metadata": {},
     "output_type": "display_data"
    },
    {
     "data": {
      "text/html": [
       "<table class=\"dataframe\">\n",
       "<caption>A data.frame: 3 × 3</caption>\n",
       "<thead>\n",
       "\t<tr><th scope=col>accomodation</th><th scope=col>accommodation_c</th><th scope=col>n</th></tr>\n",
       "\t<tr><th scope=col>&lt;chr&gt;</th><th scope=col>&lt;int&gt;</th><th scope=col>&lt;int&gt;</th></tr>\n",
       "</thead>\n",
       "<tbody>\n",
       "\t<tr><td>Ward         </td><td>10001</td><td>563973</td></tr>\n",
       "\t<tr><td>Private      </td><td>    1</td><td>556328</td></tr>\n",
       "\t<tr><td>Semi-Private </td><td>    2</td><td>265420</td></tr>\n",
       "</tbody>\n",
       "</table>\n"
      ],
      "text/latex": [
       "A data.frame: 3 × 3\n",
       "\\begin{tabular}{lll}\n",
       " accomodation & accommodation\\_c & n\\\\\n",
       " <chr> & <int> & <int>\\\\\n",
       "\\hline\n",
       "\t Ward          & 10001 & 563973\\\\\n",
       "\t Private       &     1 & 556328\\\\\n",
       "\t Semi-Private  &     2 & 265420\\\\\n",
       "\\end{tabular}\n"
      ],
      "text/markdown": [
       "\n",
       "A data.frame: 3 × 3\n",
       "\n",
       "| accomodation &lt;chr&gt; | accommodation_c &lt;int&gt; | n &lt;int&gt; |\n",
       "|---|---|---|\n",
       "| Ward          | 10001 | 563973 |\n",
       "| Private       |     1 | 556328 |\n",
       "| Semi-Private  |     2 | 265420 |\n",
       "\n"
      ],
      "text/plain": [
       "  accomodation  accommodation_c n     \n",
       "1 Ward          10001           563973\n",
       "2 Private           1           556328\n",
       "3 Semi-Private      2           265420"
      ]
     },
     "metadata": {},
     "output_type": "display_data"
    },
    {
     "data": {
      "text/html": [
       "<table class=\"dataframe\">\n",
       "<caption>A data.frame: 5 × 3</caption>\n",
       "<thead>\n",
       "\t<tr><th scope=col>in_event_type</th><th scope=col>in_event_type_c</th><th scope=col>n</th></tr>\n",
       "\t<tr><th scope=col>&lt;chr&gt;</th><th scope=col>&lt;int&gt;</th><th scope=col>&lt;int&gt;</th></tr>\n",
       "</thead>\n",
       "<tbody>\n",
       "\t<tr><td>Census        </td><td> 6</td><td>419221</td></tr>\n",
       "\t<tr><td>NA            </td><td>NA</td><td>373393</td></tr>\n",
       "\t<tr><td>Transfer In   </td><td> 3</td><td>305085</td></tr>\n",
       "\t<tr><td>Patient Update</td><td> 5</td><td>148340</td></tr>\n",
       "\t<tr><td>Admission     </td><td> 1</td><td>139682</td></tr>\n",
       "</tbody>\n",
       "</table>\n"
      ],
      "text/latex": [
       "A data.frame: 5 × 3\n",
       "\\begin{tabular}{lll}\n",
       " in\\_event\\_type & in\\_event\\_type\\_c & n\\\\\n",
       " <chr> & <int> & <int>\\\\\n",
       "\\hline\n",
       "\t Census         &  6 & 419221\\\\\n",
       "\t NA             & NA & 373393\\\\\n",
       "\t Transfer In    &  3 & 305085\\\\\n",
       "\t Patient Update &  5 & 148340\\\\\n",
       "\t Admission      &  1 & 139682\\\\\n",
       "\\end{tabular}\n"
      ],
      "text/markdown": [
       "\n",
       "A data.frame: 5 × 3\n",
       "\n",
       "| in_event_type &lt;chr&gt; | in_event_type_c &lt;int&gt; | n &lt;int&gt; |\n",
       "|---|---|---|\n",
       "| Census         |  6 | 419221 |\n",
       "| NA             | NA | 373393 |\n",
       "| Transfer In    |  3 | 305085 |\n",
       "| Patient Update |  5 | 148340 |\n",
       "| Admission      |  1 | 139682 |\n",
       "\n"
      ],
      "text/plain": [
       "  in_event_type  in_event_type_c n     \n",
       "1 Census          6              419221\n",
       "2 NA             NA              373393\n",
       "3 Transfer In     3              305085\n",
       "4 Patient Update  5              148340\n",
       "5 Admission       1              139682"
      ]
     },
     "metadata": {},
     "output_type": "display_data"
    },
    {
     "data": {
      "text/html": [
       "<table class=\"dataframe\">\n",
       "<caption>A data.frame: 5 × 3</caption>\n",
       "<thead>\n",
       "\t<tr><th scope=col>out_event_type</th><th scope=col>out_event_type_c</th><th scope=col>n</th></tr>\n",
       "\t<tr><th scope=col>&lt;chr&gt;</th><th scope=col>&lt;int&gt;</th><th scope=col>&lt;int&gt;</th></tr>\n",
       "</thead>\n",
       "<tbody>\n",
       "\t<tr><td>Census        </td><td> 6</td><td>419221</td></tr>\n",
       "\t<tr><td>NA            </td><td>NA</td><td>374671</td></tr>\n",
       "\t<tr><td>Transfer Out  </td><td> 4</td><td>305085</td></tr>\n",
       "\t<tr><td>Patient Update</td><td> 5</td><td>148340</td></tr>\n",
       "\t<tr><td>Discharge     </td><td> 2</td><td>138404</td></tr>\n",
       "</tbody>\n",
       "</table>\n"
      ],
      "text/latex": [
       "A data.frame: 5 × 3\n",
       "\\begin{tabular}{lll}\n",
       " out\\_event\\_type & out\\_event\\_type\\_c & n\\\\\n",
       " <chr> & <int> & <int>\\\\\n",
       "\\hline\n",
       "\t Census         &  6 & 419221\\\\\n",
       "\t NA             & NA & 374671\\\\\n",
       "\t Transfer Out   &  4 & 305085\\\\\n",
       "\t Patient Update &  5 & 148340\\\\\n",
       "\t Discharge      &  2 & 138404\\\\\n",
       "\\end{tabular}\n"
      ],
      "text/markdown": [
       "\n",
       "A data.frame: 5 × 3\n",
       "\n",
       "| out_event_type &lt;chr&gt; | out_event_type_c &lt;int&gt; | n &lt;int&gt; |\n",
       "|---|---|---|\n",
       "| Census         |  6 | 419221 |\n",
       "| NA             | NA | 374671 |\n",
       "| Transfer Out   |  4 | 305085 |\n",
       "| Patient Update |  5 | 148340 |\n",
       "| Discharge      |  2 | 138404 |\n",
       "\n"
      ],
      "text/plain": [
       "  out_event_type out_event_type_c n     \n",
       "1 Census          6               419221\n",
       "2 NA             NA               374671\n",
       "3 Transfer Out    4               305085\n",
       "4 Patient Update  5               148340\n",
       "5 Discharge       2               138404"
      ]
     },
     "metadata": {},
     "output_type": "display_data"
    },
    {
     "data": {
      "text/html": [
       "<table class=\"dataframe\">\n",
       "<caption>A data.frame: 5 × 3</caption>\n",
       "<thead>\n",
       "\t<tr><th scope=col>from_base_class</th><th scope=col>from_base_class_c</th><th scope=col>n</th></tr>\n",
       "\t<tr><th scope=col>&lt;chr&gt;</th><th scope=col>&lt;int&gt;</th><th scope=col>&lt;int&gt;</th></tr>\n",
       "</thead>\n",
       "<tbody>\n",
       "\t<tr><td>Inpatient </td><td>1</td><td>1114462</td></tr>\n",
       "\t<tr><td>Emergency </td><td>3</td><td> 200344</td></tr>\n",
       "\t<tr><td>NA        </td><td>0</td><td>  69334</td></tr>\n",
       "\t<tr><td>NA        </td><td>4</td><td>    930</td></tr>\n",
       "\t<tr><td>Outpatient</td><td>2</td><td>    651</td></tr>\n",
       "</tbody>\n",
       "</table>\n"
      ],
      "text/latex": [
       "A data.frame: 5 × 3\n",
       "\\begin{tabular}{lll}\n",
       " from\\_base\\_class & from\\_base\\_class\\_c & n\\\\\n",
       " <chr> & <int> & <int>\\\\\n",
       "\\hline\n",
       "\t Inpatient  & 1 & 1114462\\\\\n",
       "\t Emergency  & 3 &  200344\\\\\n",
       "\t NA         & 0 &   69334\\\\\n",
       "\t NA         & 4 &     930\\\\\n",
       "\t Outpatient & 2 &     651\\\\\n",
       "\\end{tabular}\n"
      ],
      "text/markdown": [
       "\n",
       "A data.frame: 5 × 3\n",
       "\n",
       "| from_base_class &lt;chr&gt; | from_base_class_c &lt;int&gt; | n &lt;int&gt; |\n",
       "|---|---|---|\n",
       "| Inpatient  | 1 | 1114462 |\n",
       "| Emergency  | 3 |  200344 |\n",
       "| NA         | 0 |   69334 |\n",
       "| NA         | 4 |     930 |\n",
       "| Outpatient | 2 |     651 |\n",
       "\n"
      ],
      "text/plain": [
       "  from_base_class from_base_class_c n      \n",
       "1 Inpatient       1                 1114462\n",
       "2 Emergency       3                  200344\n",
       "3 NA              0                   69334\n",
       "4 NA              4                     930\n",
       "5 Outpatient      2                     651"
      ]
     },
     "metadata": {},
     "output_type": "display_data"
    },
    {
     "data": {
      "text/html": [
       "<table class=\"dataframe\">\n",
       "<caption>A data.frame: 5 × 3</caption>\n",
       "<thead>\n",
       "\t<tr><th scope=col>to_base_class</th><th scope=col>to_base_class_c</th><th scope=col>n</th></tr>\n",
       "\t<tr><th scope=col>&lt;chr&gt;</th><th scope=col>&lt;int&gt;</th><th scope=col>&lt;int&gt;</th></tr>\n",
       "</thead>\n",
       "<tbody>\n",
       "\t<tr><td>Inpatient </td><td>1</td><td>1115775</td></tr>\n",
       "\t<tr><td>Emergency </td><td>3</td><td> 200092</td></tr>\n",
       "\t<tr><td>NA        </td><td>0</td><td>  68056</td></tr>\n",
       "\t<tr><td>NA        </td><td>4</td><td>    930</td></tr>\n",
       "\t<tr><td>Outpatient</td><td>2</td><td>    868</td></tr>\n",
       "</tbody>\n",
       "</table>\n"
      ],
      "text/latex": [
       "A data.frame: 5 × 3\n",
       "\\begin{tabular}{lll}\n",
       " to\\_base\\_class & to\\_base\\_class\\_c & n\\\\\n",
       " <chr> & <int> & <int>\\\\\n",
       "\\hline\n",
       "\t Inpatient  & 1 & 1115775\\\\\n",
       "\t Emergency  & 3 &  200092\\\\\n",
       "\t NA         & 0 &   68056\\\\\n",
       "\t NA         & 4 &     930\\\\\n",
       "\t Outpatient & 2 &     868\\\\\n",
       "\\end{tabular}\n"
      ],
      "text/markdown": [
       "\n",
       "A data.frame: 5 × 3\n",
       "\n",
       "| to_base_class &lt;chr&gt; | to_base_class_c &lt;int&gt; | n &lt;int&gt; |\n",
       "|---|---|---|\n",
       "| Inpatient  | 1 | 1115775 |\n",
       "| Emergency  | 3 |  200092 |\n",
       "| NA         | 0 |   68056 |\n",
       "| NA         | 4 |     930 |\n",
       "| Outpatient | 2 |     868 |\n",
       "\n"
      ],
      "text/plain": [
       "  to_base_class to_base_class_c n      \n",
       "1 Inpatient     1               1115775\n",
       "2 Emergency     3                200092\n",
       "3 NA            0                 68056\n",
       "4 NA            4                   930\n",
       "5 Outpatient    2                   868"
      ]
     },
     "metadata": {},
     "output_type": "display_data"
    },
    {
     "data": {
      "text/html": [
       "<table class=\"dataframe\">\n",
       "<caption>A data.frame: 180 × 2</caption>\n",
       "<thead>\n",
       "\t<tr><th scope=col>seq_num_in_enc</th><th scope=col>n</th></tr>\n",
       "\t<tr><th scope=col>&lt;int&gt;</th><th scope=col>&lt;int&gt;</th></tr>\n",
       "</thead>\n",
       "<tbody>\n",
       "\t<tr><td>  1</td><td>69334</td></tr>\n",
       "\t<tr><td>  2</td><td>69334</td></tr>\n",
       "\t<tr><td>  3</td><td>69334</td></tr>\n",
       "\t<tr><td>  4</td><td>69334</td></tr>\n",
       "\t<tr><td>  5</td><td>69334</td></tr>\n",
       "\t<tr><td>  6</td><td>68365</td></tr>\n",
       "\t<tr><td>  7</td><td>67843</td></tr>\n",
       "\t<tr><td>  8</td><td>67487</td></tr>\n",
       "\t<tr><td>  9</td><td>66696</td></tr>\n",
       "\t<tr><td> 10</td><td>64255</td></tr>\n",
       "\t<tr><td> 11</td><td>61056</td></tr>\n",
       "\t<tr><td> 12</td><td>57298</td></tr>\n",
       "\t<tr><td> 13</td><td>54890</td></tr>\n",
       "\t<tr><td> 14</td><td>49879</td></tr>\n",
       "\t<tr><td> 15</td><td>44282</td></tr>\n",
       "\t<tr><td> 16</td><td>38121</td></tr>\n",
       "\t<tr><td> 17</td><td>34263</td></tr>\n",
       "\t<tr><td> 18</td><td>30843</td></tr>\n",
       "\t<tr><td> 19</td><td>28412</td></tr>\n",
       "\t<tr><td> 20</td><td>25815</td></tr>\n",
       "\t<tr><td> 21</td><td>22736</td></tr>\n",
       "\t<tr><td> 22</td><td>20103</td></tr>\n",
       "\t<tr><td> 23</td><td>17815</td></tr>\n",
       "\t<tr><td> 24</td><td>16148</td></tr>\n",
       "\t<tr><td> 25</td><td>14703</td></tr>\n",
       "\t<tr><td> 26</td><td>12480</td></tr>\n",
       "\t<tr><td> 27</td><td>11036</td></tr>\n",
       "\t<tr><td> 28</td><td> 9501</td></tr>\n",
       "\t<tr><td> 29</td><td> 8935</td></tr>\n",
       "\t<tr><td> 30</td><td> 8108</td></tr>\n",
       "\t<tr><td> 31</td><td> 7598</td></tr>\n",
       "\t<tr><td> 32</td><td> 7340</td></tr>\n",
       "\t<tr><td> 33</td><td> 6549</td></tr>\n",
       "\t<tr><td> 34</td><td> 5467</td></tr>\n",
       "\t<tr><td> 35</td><td> 5467</td></tr>\n",
       "\t<tr><td> 36</td><td> 4983</td></tr>\n",
       "\t<tr><td> 37</td><td> 4355</td></tr>\n",
       "\t<tr><td> 38</td><td> 3658</td></tr>\n",
       "\t<tr><td> 39</td><td> 3386</td></tr>\n",
       "\t<tr><td> 40</td><td> 2300</td></tr>\n",
       "\t<tr><td> 41</td><td> 2113</td></tr>\n",
       "\t<tr><td> 42</td><td> 2113</td></tr>\n",
       "\t<tr><td> 43</td><td> 2113</td></tr>\n",
       "\t<tr><td> 44</td><td> 1976</td></tr>\n",
       "\t<tr><td> 45</td><td> 1976</td></tr>\n",
       "\t<tr><td> 46</td><td> 1976</td></tr>\n",
       "\t<tr><td> 47</td><td> 1976</td></tr>\n",
       "\t<tr><td> 48</td><td> 1976</td></tr>\n",
       "\t<tr><td> 49</td><td> 1976</td></tr>\n",
       "\t<tr><td> 50</td><td> 1976</td></tr>\n",
       "\t<tr><td> 51</td><td> 1976</td></tr>\n",
       "\t<tr><td> 52</td><td> 1976</td></tr>\n",
       "\t<tr><td> 53</td><td> 1976</td></tr>\n",
       "\t<tr><td> 54</td><td> 1976</td></tr>\n",
       "\t<tr><td> 55</td><td> 1658</td></tr>\n",
       "\t<tr><td> 56</td><td> 1658</td></tr>\n",
       "\t<tr><td> 57</td><td> 1658</td></tr>\n",
       "\t<tr><td> 58</td><td> 1658</td></tr>\n",
       "\t<tr><td> 59</td><td> 1658</td></tr>\n",
       "\t<tr><td> 60</td><td> 1555</td></tr>\n",
       "\t<tr><td> 61</td><td> 1555</td></tr>\n",
       "\t<tr><td> 62</td><td> 1555</td></tr>\n",
       "\t<tr><td> 63</td><td> 1555</td></tr>\n",
       "\t<tr><td> 64</td><td> 1555</td></tr>\n",
       "\t<tr><td> 65</td><td> 1555</td></tr>\n",
       "\t<tr><td> 66</td><td> 1217</td></tr>\n",
       "\t<tr><td> 67</td><td> 1217</td></tr>\n",
       "\t<tr><td> 68</td><td> 1217</td></tr>\n",
       "\t<tr><td> 69</td><td> 1217</td></tr>\n",
       "\t<tr><td> 70</td><td> 1074</td></tr>\n",
       "\t<tr><td> 71</td><td> 1074</td></tr>\n",
       "\t<tr><td> 72</td><td> 1074</td></tr>\n",
       "\t<tr><td> 73</td><td> 1074</td></tr>\n",
       "\t<tr><td> 74</td><td> 1074</td></tr>\n",
       "\t<tr><td> 75</td><td> 1074</td></tr>\n",
       "\t<tr><td> 76</td><td> 1074</td></tr>\n",
       "\t<tr><td> 77</td><td>  583</td></tr>\n",
       "\t<tr><td> 78</td><td>  583</td></tr>\n",
       "\t<tr><td> 79</td><td>  583</td></tr>\n",
       "\t<tr><td> 80</td><td>  583</td></tr>\n",
       "\t<tr><td> 81</td><td>  583</td></tr>\n",
       "\t<tr><td> 82</td><td>  583</td></tr>\n",
       "\t<tr><td> 83</td><td>  583</td></tr>\n",
       "\t<tr><td> 84</td><td>  583</td></tr>\n",
       "\t<tr><td> 85</td><td>  583</td></tr>\n",
       "\t<tr><td> 86</td><td>  583</td></tr>\n",
       "\t<tr><td> 87</td><td>  583</td></tr>\n",
       "\t<tr><td> 88</td><td>  583</td></tr>\n",
       "\t<tr><td> 89</td><td>  583</td></tr>\n",
       "\t<tr><td> 90</td><td>  376</td></tr>\n",
       "\t<tr><td> 91</td><td>  376</td></tr>\n",
       "\t<tr><td> 92</td><td>  376</td></tr>\n",
       "\t<tr><td> 93</td><td>  376</td></tr>\n",
       "\t<tr><td> 94</td><td>  376</td></tr>\n",
       "\t<tr><td> 95</td><td>  376</td></tr>\n",
       "\t<tr><td> 96</td><td>  376</td></tr>\n",
       "\t<tr><td> 97</td><td>  376</td></tr>\n",
       "\t<tr><td> 98</td><td>  376</td></tr>\n",
       "\t<tr><td> 99</td><td>  376</td></tr>\n",
       "\t<tr><td>100</td><td>  376</td></tr>\n",
       "\t<tr><td>101</td><td>  376</td></tr>\n",
       "\t<tr><td>102</td><td>  376</td></tr>\n",
       "\t<tr><td>103</td><td>  376</td></tr>\n",
       "\t<tr><td>104</td><td>  376</td></tr>\n",
       "\t<tr><td>105</td><td>  376</td></tr>\n",
       "\t<tr><td>106</td><td>  376</td></tr>\n",
       "\t<tr><td>107</td><td>  376</td></tr>\n",
       "\t<tr><td>108</td><td>  376</td></tr>\n",
       "\t<tr><td>109</td><td>  376</td></tr>\n",
       "\t<tr><td>110</td><td>  376</td></tr>\n",
       "\t<tr><td>111</td><td>  376</td></tr>\n",
       "\t<tr><td>112</td><td>  376</td></tr>\n",
       "\t<tr><td>113</td><td>  376</td></tr>\n",
       "\t<tr><td>114</td><td>  182</td></tr>\n",
       "\t<tr><td>115</td><td>  182</td></tr>\n",
       "\t<tr><td>116</td><td>  182</td></tr>\n",
       "\t<tr><td>117</td><td>  182</td></tr>\n",
       "\t<tr><td>118</td><td>  182</td></tr>\n",
       "\t<tr><td>119</td><td>  182</td></tr>\n",
       "\t<tr><td>120</td><td>  182</td></tr>\n",
       "\t<tr><td>121</td><td>  182</td></tr>\n",
       "\t<tr><td>122</td><td>  182</td></tr>\n",
       "\t<tr><td>123</td><td>  182</td></tr>\n",
       "\t<tr><td>124</td><td>  182</td></tr>\n",
       "\t<tr><td>125</td><td>  182</td></tr>\n",
       "\t<tr><td>126</td><td>  182</td></tr>\n",
       "\t<tr><td>127</td><td>  182</td></tr>\n",
       "\t<tr><td>128</td><td>  182</td></tr>\n",
       "\t<tr><td>129</td><td>  182</td></tr>\n",
       "\t<tr><td>130</td><td>  182</td></tr>\n",
       "\t<tr><td>131</td><td>  182</td></tr>\n",
       "\t<tr><td>132</td><td>  182</td></tr>\n",
       "\t<tr><td>133</td><td>  182</td></tr>\n",
       "\t<tr><td>134</td><td>  182</td></tr>\n",
       "\t<tr><td>135</td><td>  182</td></tr>\n",
       "\t<tr><td>136</td><td>  182</td></tr>\n",
       "\t<tr><td>137</td><td>  182</td></tr>\n",
       "\t<tr><td>138</td><td>  182</td></tr>\n",
       "\t<tr><td>139</td><td>  182</td></tr>\n",
       "\t<tr><td>140</td><td>  182</td></tr>\n",
       "\t<tr><td>141</td><td>  182</td></tr>\n",
       "\t<tr><td>142</td><td>  182</td></tr>\n",
       "\t<tr><td>143</td><td>  182</td></tr>\n",
       "\t<tr><td>144</td><td>  182</td></tr>\n",
       "\t<tr><td>145</td><td>  182</td></tr>\n",
       "\t<tr><td>146</td><td>  182</td></tr>\n",
       "\t<tr><td>147</td><td>  182</td></tr>\n",
       "\t<tr><td>148</td><td>  182</td></tr>\n",
       "\t<tr><td>149</td><td>  182</td></tr>\n",
       "\t<tr><td>150</td><td>  182</td></tr>\n",
       "\t<tr><td>151</td><td>  182</td></tr>\n",
       "\t<tr><td>152</td><td>  182</td></tr>\n",
       "\t<tr><td>153</td><td>  182</td></tr>\n",
       "\t<tr><td>154</td><td>  182</td></tr>\n",
       "\t<tr><td>155</td><td>  182</td></tr>\n",
       "\t<tr><td>156</td><td>  182</td></tr>\n",
       "\t<tr><td>157</td><td>  182</td></tr>\n",
       "\t<tr><td>158</td><td>  182</td></tr>\n",
       "\t<tr><td>159</td><td>  182</td></tr>\n",
       "\t<tr><td>160</td><td>  182</td></tr>\n",
       "\t<tr><td>161</td><td>  182</td></tr>\n",
       "\t<tr><td>162</td><td>  182</td></tr>\n",
       "\t<tr><td>163</td><td>  182</td></tr>\n",
       "\t<tr><td>164</td><td>  182</td></tr>\n",
       "\t<tr><td>165</td><td>  182</td></tr>\n",
       "\t<tr><td>166</td><td>  182</td></tr>\n",
       "\t<tr><td>167</td><td>  182</td></tr>\n",
       "\t<tr><td>168</td><td>  182</td></tr>\n",
       "\t<tr><td>169</td><td>  182</td></tr>\n",
       "\t<tr><td>170</td><td>  182</td></tr>\n",
       "\t<tr><td>171</td><td>  182</td></tr>\n",
       "\t<tr><td>172</td><td>  182</td></tr>\n",
       "\t<tr><td>173</td><td>  182</td></tr>\n",
       "\t<tr><td>174</td><td>  182</td></tr>\n",
       "\t<tr><td>175</td><td>  182</td></tr>\n",
       "\t<tr><td>176</td><td>  182</td></tr>\n",
       "\t<tr><td>177</td><td>  182</td></tr>\n",
       "\t<tr><td>178</td><td>  182</td></tr>\n",
       "\t<tr><td>179</td><td>  182</td></tr>\n",
       "\t<tr><td>180</td><td>  182</td></tr>\n",
       "</tbody>\n",
       "</table>\n"
      ],
      "text/latex": [
       "A data.frame: 180 × 2\n",
       "\\begin{tabular}{ll}\n",
       " seq\\_num\\_in\\_enc & n\\\\\n",
       " <int> & <int>\\\\\n",
       "\\hline\n",
       "\t   1 & 69334\\\\\n",
       "\t   2 & 69334\\\\\n",
       "\t   3 & 69334\\\\\n",
       "\t   4 & 69334\\\\\n",
       "\t   5 & 69334\\\\\n",
       "\t   6 & 68365\\\\\n",
       "\t   7 & 67843\\\\\n",
       "\t   8 & 67487\\\\\n",
       "\t   9 & 66696\\\\\n",
       "\t  10 & 64255\\\\\n",
       "\t  11 & 61056\\\\\n",
       "\t  12 & 57298\\\\\n",
       "\t  13 & 54890\\\\\n",
       "\t  14 & 49879\\\\\n",
       "\t  15 & 44282\\\\\n",
       "\t  16 & 38121\\\\\n",
       "\t  17 & 34263\\\\\n",
       "\t  18 & 30843\\\\\n",
       "\t  19 & 28412\\\\\n",
       "\t  20 & 25815\\\\\n",
       "\t  21 & 22736\\\\\n",
       "\t  22 & 20103\\\\\n",
       "\t  23 & 17815\\\\\n",
       "\t  24 & 16148\\\\\n",
       "\t  25 & 14703\\\\\n",
       "\t  26 & 12480\\\\\n",
       "\t  27 & 11036\\\\\n",
       "\t  28 &  9501\\\\\n",
       "\t  29 &  8935\\\\\n",
       "\t  30 &  8108\\\\\n",
       "\t  31 &  7598\\\\\n",
       "\t  32 &  7340\\\\\n",
       "\t  33 &  6549\\\\\n",
       "\t  34 &  5467\\\\\n",
       "\t  35 &  5467\\\\\n",
       "\t  36 &  4983\\\\\n",
       "\t  37 &  4355\\\\\n",
       "\t  38 &  3658\\\\\n",
       "\t  39 &  3386\\\\\n",
       "\t  40 &  2300\\\\\n",
       "\t  41 &  2113\\\\\n",
       "\t  42 &  2113\\\\\n",
       "\t  43 &  2113\\\\\n",
       "\t  44 &  1976\\\\\n",
       "\t  45 &  1976\\\\\n",
       "\t  46 &  1976\\\\\n",
       "\t  47 &  1976\\\\\n",
       "\t  48 &  1976\\\\\n",
       "\t  49 &  1976\\\\\n",
       "\t  50 &  1976\\\\\n",
       "\t  51 &  1976\\\\\n",
       "\t  52 &  1976\\\\\n",
       "\t  53 &  1976\\\\\n",
       "\t  54 &  1976\\\\\n",
       "\t  55 &  1658\\\\\n",
       "\t  56 &  1658\\\\\n",
       "\t  57 &  1658\\\\\n",
       "\t  58 &  1658\\\\\n",
       "\t  59 &  1658\\\\\n",
       "\t  60 &  1555\\\\\n",
       "\t  61 &  1555\\\\\n",
       "\t  62 &  1555\\\\\n",
       "\t  63 &  1555\\\\\n",
       "\t  64 &  1555\\\\\n",
       "\t  65 &  1555\\\\\n",
       "\t  66 &  1217\\\\\n",
       "\t  67 &  1217\\\\\n",
       "\t  68 &  1217\\\\\n",
       "\t  69 &  1217\\\\\n",
       "\t  70 &  1074\\\\\n",
       "\t  71 &  1074\\\\\n",
       "\t  72 &  1074\\\\\n",
       "\t  73 &  1074\\\\\n",
       "\t  74 &  1074\\\\\n",
       "\t  75 &  1074\\\\\n",
       "\t  76 &  1074\\\\\n",
       "\t  77 &   583\\\\\n",
       "\t  78 &   583\\\\\n",
       "\t  79 &   583\\\\\n",
       "\t  80 &   583\\\\\n",
       "\t  81 &   583\\\\\n",
       "\t  82 &   583\\\\\n",
       "\t  83 &   583\\\\\n",
       "\t  84 &   583\\\\\n",
       "\t  85 &   583\\\\\n",
       "\t  86 &   583\\\\\n",
       "\t  87 &   583\\\\\n",
       "\t  88 &   583\\\\\n",
       "\t  89 &   583\\\\\n",
       "\t  90 &   376\\\\\n",
       "\t  91 &   376\\\\\n",
       "\t  92 &   376\\\\\n",
       "\t  93 &   376\\\\\n",
       "\t  94 &   376\\\\\n",
       "\t  95 &   376\\\\\n",
       "\t  96 &   376\\\\\n",
       "\t  97 &   376\\\\\n",
       "\t  98 &   376\\\\\n",
       "\t  99 &   376\\\\\n",
       "\t 100 &   376\\\\\n",
       "\t 101 &   376\\\\\n",
       "\t 102 &   376\\\\\n",
       "\t 103 &   376\\\\\n",
       "\t 104 &   376\\\\\n",
       "\t 105 &   376\\\\\n",
       "\t 106 &   376\\\\\n",
       "\t 107 &   376\\\\\n",
       "\t 108 &   376\\\\\n",
       "\t 109 &   376\\\\\n",
       "\t 110 &   376\\\\\n",
       "\t 111 &   376\\\\\n",
       "\t 112 &   376\\\\\n",
       "\t 113 &   376\\\\\n",
       "\t 114 &   182\\\\\n",
       "\t 115 &   182\\\\\n",
       "\t 116 &   182\\\\\n",
       "\t 117 &   182\\\\\n",
       "\t 118 &   182\\\\\n",
       "\t 119 &   182\\\\\n",
       "\t 120 &   182\\\\\n",
       "\t 121 &   182\\\\\n",
       "\t 122 &   182\\\\\n",
       "\t 123 &   182\\\\\n",
       "\t 124 &   182\\\\\n",
       "\t 125 &   182\\\\\n",
       "\t 126 &   182\\\\\n",
       "\t 127 &   182\\\\\n",
       "\t 128 &   182\\\\\n",
       "\t 129 &   182\\\\\n",
       "\t 130 &   182\\\\\n",
       "\t 131 &   182\\\\\n",
       "\t 132 &   182\\\\\n",
       "\t 133 &   182\\\\\n",
       "\t 134 &   182\\\\\n",
       "\t 135 &   182\\\\\n",
       "\t 136 &   182\\\\\n",
       "\t 137 &   182\\\\\n",
       "\t 138 &   182\\\\\n",
       "\t 139 &   182\\\\\n",
       "\t 140 &   182\\\\\n",
       "\t 141 &   182\\\\\n",
       "\t 142 &   182\\\\\n",
       "\t 143 &   182\\\\\n",
       "\t 144 &   182\\\\\n",
       "\t 145 &   182\\\\\n",
       "\t 146 &   182\\\\\n",
       "\t 147 &   182\\\\\n",
       "\t 148 &   182\\\\\n",
       "\t 149 &   182\\\\\n",
       "\t 150 &   182\\\\\n",
       "\t 151 &   182\\\\\n",
       "\t 152 &   182\\\\\n",
       "\t 153 &   182\\\\\n",
       "\t 154 &   182\\\\\n",
       "\t 155 &   182\\\\\n",
       "\t 156 &   182\\\\\n",
       "\t 157 &   182\\\\\n",
       "\t 158 &   182\\\\\n",
       "\t 159 &   182\\\\\n",
       "\t 160 &   182\\\\\n",
       "\t 161 &   182\\\\\n",
       "\t 162 &   182\\\\\n",
       "\t 163 &   182\\\\\n",
       "\t 164 &   182\\\\\n",
       "\t 165 &   182\\\\\n",
       "\t 166 &   182\\\\\n",
       "\t 167 &   182\\\\\n",
       "\t 168 &   182\\\\\n",
       "\t 169 &   182\\\\\n",
       "\t 170 &   182\\\\\n",
       "\t 171 &   182\\\\\n",
       "\t 172 &   182\\\\\n",
       "\t 173 &   182\\\\\n",
       "\t 174 &   182\\\\\n",
       "\t 175 &   182\\\\\n",
       "\t 176 &   182\\\\\n",
       "\t 177 &   182\\\\\n",
       "\t 178 &   182\\\\\n",
       "\t 179 &   182\\\\\n",
       "\t 180 &   182\\\\\n",
       "\\end{tabular}\n"
      ],
      "text/markdown": [
       "\n",
       "A data.frame: 180 × 2\n",
       "\n",
       "| seq_num_in_enc &lt;int&gt; | n &lt;int&gt; |\n",
       "|---|---|\n",
       "|   1 | 69334 |\n",
       "|   2 | 69334 |\n",
       "|   3 | 69334 |\n",
       "|   4 | 69334 |\n",
       "|   5 | 69334 |\n",
       "|   6 | 68365 |\n",
       "|   7 | 67843 |\n",
       "|   8 | 67487 |\n",
       "|   9 | 66696 |\n",
       "|  10 | 64255 |\n",
       "|  11 | 61056 |\n",
       "|  12 | 57298 |\n",
       "|  13 | 54890 |\n",
       "|  14 | 49879 |\n",
       "|  15 | 44282 |\n",
       "|  16 | 38121 |\n",
       "|  17 | 34263 |\n",
       "|  18 | 30843 |\n",
       "|  19 | 28412 |\n",
       "|  20 | 25815 |\n",
       "|  21 | 22736 |\n",
       "|  22 | 20103 |\n",
       "|  23 | 17815 |\n",
       "|  24 | 16148 |\n",
       "|  25 | 14703 |\n",
       "|  26 | 12480 |\n",
       "|  27 | 11036 |\n",
       "|  28 |  9501 |\n",
       "|  29 |  8935 |\n",
       "|  30 |  8108 |\n",
       "|  31 |  7598 |\n",
       "|  32 |  7340 |\n",
       "|  33 |  6549 |\n",
       "|  34 |  5467 |\n",
       "|  35 |  5467 |\n",
       "|  36 |  4983 |\n",
       "|  37 |  4355 |\n",
       "|  38 |  3658 |\n",
       "|  39 |  3386 |\n",
       "|  40 |  2300 |\n",
       "|  41 |  2113 |\n",
       "|  42 |  2113 |\n",
       "|  43 |  2113 |\n",
       "|  44 |  1976 |\n",
       "|  45 |  1976 |\n",
       "|  46 |  1976 |\n",
       "|  47 |  1976 |\n",
       "|  48 |  1976 |\n",
       "|  49 |  1976 |\n",
       "|  50 |  1976 |\n",
       "|  51 |  1976 |\n",
       "|  52 |  1976 |\n",
       "|  53 |  1976 |\n",
       "|  54 |  1976 |\n",
       "|  55 |  1658 |\n",
       "|  56 |  1658 |\n",
       "|  57 |  1658 |\n",
       "|  58 |  1658 |\n",
       "|  59 |  1658 |\n",
       "|  60 |  1555 |\n",
       "|  61 |  1555 |\n",
       "|  62 |  1555 |\n",
       "|  63 |  1555 |\n",
       "|  64 |  1555 |\n",
       "|  65 |  1555 |\n",
       "|  66 |  1217 |\n",
       "|  67 |  1217 |\n",
       "|  68 |  1217 |\n",
       "|  69 |  1217 |\n",
       "|  70 |  1074 |\n",
       "|  71 |  1074 |\n",
       "|  72 |  1074 |\n",
       "|  73 |  1074 |\n",
       "|  74 |  1074 |\n",
       "|  75 |  1074 |\n",
       "|  76 |  1074 |\n",
       "|  77 |   583 |\n",
       "|  78 |   583 |\n",
       "|  79 |   583 |\n",
       "|  80 |   583 |\n",
       "|  81 |   583 |\n",
       "|  82 |   583 |\n",
       "|  83 |   583 |\n",
       "|  84 |   583 |\n",
       "|  85 |   583 |\n",
       "|  86 |   583 |\n",
       "|  87 |   583 |\n",
       "|  88 |   583 |\n",
       "|  89 |   583 |\n",
       "|  90 |   376 |\n",
       "|  91 |   376 |\n",
       "|  92 |   376 |\n",
       "|  93 |   376 |\n",
       "|  94 |   376 |\n",
       "|  95 |   376 |\n",
       "|  96 |   376 |\n",
       "|  97 |   376 |\n",
       "|  98 |   376 |\n",
       "|  99 |   376 |\n",
       "| 100 |   376 |\n",
       "| 101 |   376 |\n",
       "| 102 |   376 |\n",
       "| 103 |   376 |\n",
       "| 104 |   376 |\n",
       "| 105 |   376 |\n",
       "| 106 |   376 |\n",
       "| 107 |   376 |\n",
       "| 108 |   376 |\n",
       "| 109 |   376 |\n",
       "| 110 |   376 |\n",
       "| 111 |   376 |\n",
       "| 112 |   376 |\n",
       "| 113 |   376 |\n",
       "| 114 |   182 |\n",
       "| 115 |   182 |\n",
       "| 116 |   182 |\n",
       "| 117 |   182 |\n",
       "| 118 |   182 |\n",
       "| 119 |   182 |\n",
       "| 120 |   182 |\n",
       "| 121 |   182 |\n",
       "| 122 |   182 |\n",
       "| 123 |   182 |\n",
       "| 124 |   182 |\n",
       "| 125 |   182 |\n",
       "| 126 |   182 |\n",
       "| 127 |   182 |\n",
       "| 128 |   182 |\n",
       "| 129 |   182 |\n",
       "| 130 |   182 |\n",
       "| 131 |   182 |\n",
       "| 132 |   182 |\n",
       "| 133 |   182 |\n",
       "| 134 |   182 |\n",
       "| 135 |   182 |\n",
       "| 136 |   182 |\n",
       "| 137 |   182 |\n",
       "| 138 |   182 |\n",
       "| 139 |   182 |\n",
       "| 140 |   182 |\n",
       "| 141 |   182 |\n",
       "| 142 |   182 |\n",
       "| 143 |   182 |\n",
       "| 144 |   182 |\n",
       "| 145 |   182 |\n",
       "| 146 |   182 |\n",
       "| 147 |   182 |\n",
       "| 148 |   182 |\n",
       "| 149 |   182 |\n",
       "| 150 |   182 |\n",
       "| 151 |   182 |\n",
       "| 152 |   182 |\n",
       "| 153 |   182 |\n",
       "| 154 |   182 |\n",
       "| 155 |   182 |\n",
       "| 156 |   182 |\n",
       "| 157 |   182 |\n",
       "| 158 |   182 |\n",
       "| 159 |   182 |\n",
       "| 160 |   182 |\n",
       "| 161 |   182 |\n",
       "| 162 |   182 |\n",
       "| 163 |   182 |\n",
       "| 164 |   182 |\n",
       "| 165 |   182 |\n",
       "| 166 |   182 |\n",
       "| 167 |   182 |\n",
       "| 168 |   182 |\n",
       "| 169 |   182 |\n",
       "| 170 |   182 |\n",
       "| 171 |   182 |\n",
       "| 172 |   182 |\n",
       "| 173 |   182 |\n",
       "| 174 |   182 |\n",
       "| 175 |   182 |\n",
       "| 176 |   182 |\n",
       "| 177 |   182 |\n",
       "| 178 |   182 |\n",
       "| 179 |   182 |\n",
       "| 180 |   182 |\n",
       "\n"
      ],
      "text/plain": [
       "    seq_num_in_enc n    \n",
       "1     1            69334\n",
       "2     2            69334\n",
       "3     3            69334\n",
       "4     4            69334\n",
       "5     5            69334\n",
       "6     6            68365\n",
       "7     7            67843\n",
       "8     8            67487\n",
       "9     9            66696\n",
       "10   10            64255\n",
       "11   11            61056\n",
       "12   12            57298\n",
       "13   13            54890\n",
       "14   14            49879\n",
       "15   15            44282\n",
       "16   16            38121\n",
       "17   17            34263\n",
       "18   18            30843\n",
       "19   19            28412\n",
       "20   20            25815\n",
       "21   21            22736\n",
       "22   22            20103\n",
       "23   23            17815\n",
       "24   24            16148\n",
       "25   25            14703\n",
       "26   26            12480\n",
       "27   27            11036\n",
       "28   28             9501\n",
       "29   29             8935\n",
       "30   30             8108\n",
       "31   31             7598\n",
       "32   32             7340\n",
       "33   33             6549\n",
       "34   34             5467\n",
       "35   35             5467\n",
       "36   36             4983\n",
       "37   37             4355\n",
       "38   38             3658\n",
       "39   39             3386\n",
       "40   40             2300\n",
       "41   41             2113\n",
       "42   42             2113\n",
       "43   43             2113\n",
       "44   44             1976\n",
       "45   45             1976\n",
       "46   46             1976\n",
       "47   47             1976\n",
       "48   48             1976\n",
       "49   49             1976\n",
       "50   50             1976\n",
       "51   51             1976\n",
       "52   52             1976\n",
       "53   53             1976\n",
       "54   54             1976\n",
       "55   55             1658\n",
       "56   56             1658\n",
       "57   57             1658\n",
       "58   58             1658\n",
       "59   59             1658\n",
       "60   60             1555\n",
       "61   61             1555\n",
       "62   62             1555\n",
       "63   63             1555\n",
       "64   64             1555\n",
       "65   65             1555\n",
       "66   66             1217\n",
       "67   67             1217\n",
       "68   68             1217\n",
       "69   69             1217\n",
       "70   70             1074\n",
       "71   71             1074\n",
       "72   72             1074\n",
       "73   73             1074\n",
       "74   74             1074\n",
       "75   75             1074\n",
       "76   76             1074\n",
       "77   77              583\n",
       "78   78              583\n",
       "79   79              583\n",
       "80   80              583\n",
       "81   81              583\n",
       "82   82              583\n",
       "83   83              583\n",
       "84   84              583\n",
       "85   85              583\n",
       "86   86              583\n",
       "87   87              583\n",
       "88   88              583\n",
       "89   89              583\n",
       "90   90              376\n",
       "91   91              376\n",
       "92   92              376\n",
       "93   93              376\n",
       "94   94              376\n",
       "95   95              376\n",
       "96   96              376\n",
       "97   97              376\n",
       "98   98              376\n",
       "99   99              376\n",
       "100 100              376\n",
       "101 101              376\n",
       "102 102              376\n",
       "103 103              376\n",
       "104 104              376\n",
       "105 105              376\n",
       "106 106              376\n",
       "107 107              376\n",
       "108 108              376\n",
       "109 109              376\n",
       "110 110              376\n",
       "111 111              376\n",
       "112 112              376\n",
       "113 113              376\n",
       "114 114              182\n",
       "115 115              182\n",
       "116 116              182\n",
       "117 117              182\n",
       "118 118              182\n",
       "119 119              182\n",
       "120 120              182\n",
       "121 121              182\n",
       "122 122              182\n",
       "123 123              182\n",
       "124 124              182\n",
       "125 125              182\n",
       "126 126              182\n",
       "127 127              182\n",
       "128 128              182\n",
       "129 129              182\n",
       "130 130              182\n",
       "131 131              182\n",
       "132 132              182\n",
       "133 133              182\n",
       "134 134              182\n",
       "135 135              182\n",
       "136 136              182\n",
       "137 137              182\n",
       "138 138              182\n",
       "139 139              182\n",
       "140 140              182\n",
       "141 141              182\n",
       "142 142              182\n",
       "143 143              182\n",
       "144 144              182\n",
       "145 145              182\n",
       "146 146              182\n",
       "147 147              182\n",
       "148 148              182\n",
       "149 149              182\n",
       "150 150              182\n",
       "151 151              182\n",
       "152 152              182\n",
       "153 153              182\n",
       "154 154              182\n",
       "155 155              182\n",
       "156 156              182\n",
       "157 157              182\n",
       "158 158              182\n",
       "159 159              182\n",
       "160 160              182\n",
       "161 161              182\n",
       "162 162              182\n",
       "163 163              182\n",
       "164 164              182\n",
       "165 165              182\n",
       "166 166              182\n",
       "167 167              182\n",
       "168 168              182\n",
       "169 169              182\n",
       "170 170              182\n",
       "171 171              182\n",
       "172 172              182\n",
       "173 173              182\n",
       "174 174              182\n",
       "175 175              182\n",
       "176 176              182\n",
       "177 177              182\n",
       "178 178              182\n",
       "179 179              182\n",
       "180 180              182"
      ]
     },
     "metadata": {},
     "output_type": "display_data"
    },
    {
     "data": {
      "text/html": [
       "<table class=\"dataframe\">\n",
       "<caption>A data.frame: 3 × 2</caption>\n",
       "<thead>\n",
       "\t<tr><th scope=col>seq_num_in_bed_min</th><th scope=col>n</th></tr>\n",
       "\t<tr><th scope=col>&lt;int&gt;</th><th scope=col>&lt;int&gt;</th></tr>\n",
       "</thead>\n",
       "<tbody>\n",
       "\t<tr><td>1</td><td>1369116</td></tr>\n",
       "\t<tr><td>2</td><td>  16292</td></tr>\n",
       "\t<tr><td>3</td><td>    313</td></tr>\n",
       "</tbody>\n",
       "</table>\n"
      ],
      "text/latex": [
       "A data.frame: 3 × 2\n",
       "\\begin{tabular}{ll}\n",
       " seq\\_num\\_in\\_bed\\_min & n\\\\\n",
       " <int> & <int>\\\\\n",
       "\\hline\n",
       "\t 1 & 1369116\\\\\n",
       "\t 2 &   16292\\\\\n",
       "\t 3 &     313\\\\\n",
       "\\end{tabular}\n"
      ],
      "text/markdown": [
       "\n",
       "A data.frame: 3 × 2\n",
       "\n",
       "| seq_num_in_bed_min &lt;int&gt; | n &lt;int&gt; |\n",
       "|---|---|\n",
       "| 1 | 1369116 |\n",
       "| 2 |   16292 |\n",
       "| 3 |     313 |\n",
       "\n"
      ],
      "text/plain": [
       "  seq_num_in_bed_min n      \n",
       "1 1                  1369116\n",
       "2 2                    16292\n",
       "3 3                      313"
      ]
     },
     "metadata": {},
     "output_type": "display_data"
    }
   ],
   "source": [
    "cohort %>% distinct(pat_enc_csn_id_coded, first_label, death_24hr_recent_label) %>% count(first_label, death_24hr_recent_label, sort=T)\n",
    "adt %>% count(event_type, event_type_c, sort=TRUE)\n",
    "adt %>% count(pat_class, pat_class_c, sort=TRUE)\n",
    "adt %>% count(base_pat_class, base_pat_class_c, sort=TRUE)\n",
    "adt %>% count(pat_service, pat_service_c, sort=TRUE)\n",
    "adt %>% count(pat_lv_of_care, pat_lvl_of_care_c, sort=TRUE)\n",
    "adt %>% count(accomodation, accommodation_c, sort=TRUE)\n",
    "adt %>% count(in_event_type, in_event_type_c, sort=TRUE)\n",
    "adt %>% count(out_event_type, out_event_type_c, sort=TRUE)\n",
    "adt %>% count(from_base_class, from_base_class_c, sort=TRUE)\n",
    "adt %>% count(to_base_class, to_base_class_c, sort=TRUE)\n",
    "adt %>% count(seq_num_in_enc, sort=TRUE)\n",
    "adt %>% count(seq_num_in_bed_min, sort=TRUE)"
   ]
  },
  {
   "cell_type": "code",
   "execution_count": 23,
   "metadata": {},
   "outputs": [
    {
     "data": {
      "text/html": [
       "<style>\n",
       ".list-inline {list-style: none; margin:0; padding: 0}\n",
       ".list-inline>li {display: inline-block}\n",
       ".list-inline>li:not(:last-child)::after {content: \"\\00b7\"; padding: 0 .5ex}\n",
       "</style>\n",
       "<ol class=list-inline><li>69334</li><li>6</li></ol>\n"
      ],
      "text/latex": [
       "\\begin{enumerate*}\n",
       "\\item 69334\n",
       "\\item 6\n",
       "\\end{enumerate*}\n"
      ],
      "text/markdown": [
       "1. 69334\n",
       "2. 6\n",
       "\n",
       "\n"
      ],
      "text/plain": [
       "[1] 69334     6"
      ]
     },
     "metadata": {},
     "output_type": "display_data"
    },
    {
     "data": {
      "text/html": [
       "<style>\n",
       ".list-inline {list-style: none; margin:0; padding: 0}\n",
       ".list-inline>li {display: inline-block}\n",
       ".list-inline>li:not(:last-child)::after {content: \"\\00b7\"; padding: 0 .5ex}\n",
       "</style>\n",
       "<ol class=list-inline><li>'anon_id'</li><li>'pat_enc_csn_id_coded'</li><li>'INTRPTR_NEEDED_YN'</li><li>'CHARLSON_SCORE'</li><li>'N_HOSPITALIZATIONS'</li><li>'DAYS_IN_HOSPITAL'</li></ol>\n"
      ],
      "text/latex": [
       "\\begin{enumerate*}\n",
       "\\item 'anon\\_id'\n",
       "\\item 'pat\\_enc\\_csn\\_id\\_coded'\n",
       "\\item 'INTRPTR\\_NEEDED\\_YN'\n",
       "\\item 'CHARLSON\\_SCORE'\n",
       "\\item 'N\\_HOSPITALIZATIONS'\n",
       "\\item 'DAYS\\_IN\\_HOSPITAL'\n",
       "\\end{enumerate*}\n"
      ],
      "text/markdown": [
       "1. 'anon_id'\n",
       "2. 'pat_enc_csn_id_coded'\n",
       "3. 'INTRPTR_NEEDED_YN'\n",
       "4. 'CHARLSON_SCORE'\n",
       "5. 'N_HOSPITALIZATIONS'\n",
       "6. 'DAYS_IN_HOSPITAL'\n",
       "\n",
       "\n"
      ],
      "text/plain": [
       "[1] \"anon_id\"              \"pat_enc_csn_id_coded\" \"INTRPTR_NEEDED_YN\"   \n",
       "[4] \"CHARLSON_SCORE\"       \"N_HOSPITALIZATIONS\"   \"DAYS_IN_HOSPITAL\"    "
      ]
     },
     "metadata": {},
     "output_type": "display_data"
    }
   ],
   "source": [
    "demo <- read.csv(file.path(datadir, \"4_1_diff_demographic.csv\"))\n",
    "dim(demo) # should have 69334\n",
    "colnames(demo)"
   ]
  },
  {
   "cell_type": "code",
   "execution_count": 24,
   "metadata": {},
   "outputs": [
    {
     "data": {
      "text/html": [
       "<table class=\"dataframe\">\n",
       "<caption>A data.frame: 1 × 6</caption>\n",
       "<thead>\n",
       "\t<tr><th></th><th scope=col>anon_id</th><th scope=col>pat_enc_csn_id_coded</th><th scope=col>INTRPTR_NEEDED_YN</th><th scope=col>CHARLSON_SCORE</th><th scope=col>N_HOSPITALIZATIONS</th><th scope=col>DAYS_IN_HOSPITAL</th></tr>\n",
       "\t<tr><th></th><th scope=col>&lt;chr&gt;</th><th scope=col>&lt;lgl&gt;</th><th scope=col>&lt;lgl&gt;</th><th scope=col>&lt;int&gt;</th><th scope=col>&lt;int&gt;</th><th scope=col>&lt;int&gt;</th></tr>\n",
       "</thead>\n",
       "<tbody>\n",
       "\t<tr><th scope=row>1</th><td>JCd5f913</td><td>NA</td><td>FALSE</td><td>11</td><td>14</td><td>96</td></tr>\n",
       "</tbody>\n",
       "</table>\n"
      ],
      "text/latex": [
       "A data.frame: 1 × 6\n",
       "\\begin{tabular}{r|llllll}\n",
       "  & anon\\_id & pat\\_enc\\_csn\\_id\\_coded & INTRPTR\\_NEEDED\\_YN & CHARLSON\\_SCORE & N\\_HOSPITALIZATIONS & DAYS\\_IN\\_HOSPITAL\\\\\n",
       "  & <chr> & <lgl> & <lgl> & <int> & <int> & <int>\\\\\n",
       "\\hline\n",
       "\t1 & JCd5f913 & NA & FALSE & 11 & 14 & 96\\\\\n",
       "\\end{tabular}\n"
      ],
      "text/markdown": [
       "\n",
       "A data.frame: 1 × 6\n",
       "\n",
       "| <!--/--> | anon_id &lt;chr&gt; | pat_enc_csn_id_coded &lt;lgl&gt; | INTRPTR_NEEDED_YN &lt;lgl&gt; | CHARLSON_SCORE &lt;int&gt; | N_HOSPITALIZATIONS &lt;int&gt; | DAYS_IN_HOSPITAL &lt;int&gt; |\n",
       "|---|---|---|---|---|---|---|\n",
       "| 1 | JCd5f913 | NA | FALSE | 11 | 14 | 96 |\n",
       "\n"
      ],
      "text/plain": [
       "  anon_id  pat_enc_csn_id_coded INTRPTR_NEEDED_YN CHARLSON_SCORE\n",
       "1 JCd5f913 NA                   FALSE             11            \n",
       "  N_HOSPITALIZATIONS DAYS_IN_HOSPITAL\n",
       "1 14                 96              "
      ]
     },
     "metadata": {},
     "output_type": "display_data"
    }
   ],
   "source": [
    "head(demo,1)"
   ]
  },
  {
   "cell_type": "code",
   "execution_count": 20,
   "metadata": {},
   "outputs": [
    {
     "data": {
      "text/html": [
       "<style>\n",
       ".list-inline {list-style: none; margin:0; padding: 0}\n",
       ".list-inline>li {display: inline-block}\n",
       ".list-inline>li:not(:last-child)::after {content: \"\\00b7\"; padding: 0 .5ex}\n",
       "</style>\n",
       "<ol class=list-inline><li>8922</li><li>10</li></ol>\n"
      ],
      "text/latex": [
       "\\begin{enumerate*}\n",
       "\\item 8922\n",
       "\\item 10\n",
       "\\end{enumerate*}\n"
      ],
      "text/markdown": [
       "1. 8922\n",
       "2. 10\n",
       "\n",
       "\n"
      ],
      "text/plain": [
       "[1] 8922   10"
      ]
     },
     "metadata": {},
     "output_type": "display_data"
    },
    {
     "data": {
      "text/html": [
       "<style>\n",
       ".list-inline {list-style: none; margin:0; padding: 0}\n",
       ".list-inline>li {display: inline-block}\n",
       ".list-inline>li:not(:last-child)::after {content: \"\\00b7\"; padding: 0 .5ex}\n",
       "</style>\n",
       "<ol class=list-inline><li>'anon_id'</li><li>'pat_enc_csn_id_coded'</li><li>'line'</li><li>'dx_name'</li><li>'primary'</li><li>'chronic'</li><li>'principal'</li><li>'hospital_pl'</li><li>'ed'</li><li>'present_on_adm'</li></ol>\n"
      ],
      "text/latex": [
       "\\begin{enumerate*}\n",
       "\\item 'anon\\_id'\n",
       "\\item 'pat\\_enc\\_csn\\_id\\_coded'\n",
       "\\item 'line'\n",
       "\\item 'dx\\_name'\n",
       "\\item 'primary'\n",
       "\\item 'chronic'\n",
       "\\item 'principal'\n",
       "\\item 'hospital\\_pl'\n",
       "\\item 'ed'\n",
       "\\item 'present\\_on\\_adm'\n",
       "\\end{enumerate*}\n"
      ],
      "text/markdown": [
       "1. 'anon_id'\n",
       "2. 'pat_enc_csn_id_coded'\n",
       "3. 'line'\n",
       "4. 'dx_name'\n",
       "5. 'primary'\n",
       "6. 'chronic'\n",
       "7. 'principal'\n",
       "8. 'hospital_pl'\n",
       "9. 'ed'\n",
       "10. 'present_on_adm'\n",
       "\n",
       "\n"
      ],
      "text/plain": [
       " [1] \"anon_id\"              \"pat_enc_csn_id_coded\" \"line\"                \n",
       " [4] \"dx_name\"              \"primary\"              \"chronic\"             \n",
       " [7] \"principal\"            \"hospital_pl\"          \"ed\"                  \n",
       "[10] \"present_on_adm\"      "
      ]
     },
     "metadata": {},
     "output_type": "display_data"
    }
   ],
   "source": [
    "# current diagnosis only, which we did not use for prediction\n",
    "dx <- read.csv(file.path(datadir, \"4_2_diff_dx_all.csv\"))\n",
    "dim(dx) # 8922\n",
    "colnames(dx)"
   ]
  },
  {
   "cell_type": "code",
   "execution_count": 21,
   "metadata": {},
   "outputs": [
    {
     "data": {
      "text/html": [
       "<table class=\"dataframe\">\n",
       "<caption>A data.frame: 6 × 10</caption>\n",
       "<thead>\n",
       "\t<tr><th></th><th scope=col>anon_id</th><th scope=col>pat_enc_csn_id_coded</th><th scope=col>line</th><th scope=col>dx_name</th><th scope=col>primary</th><th scope=col>chronic</th><th scope=col>principal</th><th scope=col>hospital_pl</th><th scope=col>ed</th><th scope=col>present_on_adm</th></tr>\n",
       "\t<tr><th></th><th scope=col>&lt;chr&gt;</th><th scope=col>&lt;dbl&gt;</th><th scope=col>&lt;dbl&gt;</th><th scope=col>&lt;chr&gt;</th><th scope=col>&lt;chr&gt;</th><th scope=col>&lt;chr&gt;</th><th scope=col>&lt;chr&gt;</th><th scope=col>&lt;chr&gt;</th><th scope=col>&lt;chr&gt;</th><th scope=col>&lt;chr&gt;</th></tr>\n",
       "</thead>\n",
       "<tbody>\n",
       "\t<tr><th scope=row>1</th><td>JCe340e5 </td><td>131265564938</td><td>4</td><td>Closed fracture of multiple ribs of right side, initial encounter                                                                       </td><td>N</td><td>N</td><td></td><td></td><td>N</td><td></td></tr>\n",
       "\t<tr><th scope=row>2</th><td>JC2a28037</td><td>131272375066</td><td>2</td><td>Seizure disorder (CMS-HCC)                                                                                                              </td><td>N</td><td>N</td><td></td><td></td><td>Y</td><td></td></tr>\n",
       "\t<tr><th scope=row>3</th><td>JCd4a563 </td><td>131281681345</td><td>6</td><td>Chronic atrial fibrillation                                                                                                             </td><td>N</td><td>N</td><td></td><td></td><td>N</td><td></td></tr>\n",
       "\t<tr><th scope=row>4</th><td>JC2a2f2d2</td><td>131277062634</td><td>5</td><td>Acute pain                                                                                                                              </td><td>N</td><td>N</td><td></td><td></td><td>N</td><td></td></tr>\n",
       "\t<tr><th scope=row>5</th><td>JCd530d7 </td><td>131284122975</td><td>1</td><td>Chest pain, unspecified                                                                                                                 </td><td> </td><td> </td><td></td><td></td><td> </td><td></td></tr>\n",
       "\t<tr><th scope=row>6</th><td>JCcf7ee2 </td><td>131277092263</td><td>5</td><td>Intraparenchymal hematoma of brain with loss of consciousness of 30 minutes or less, unspecified laterality, initial encounter (CMS-HCC)</td><td>N</td><td>N</td><td></td><td></td><td>Y</td><td></td></tr>\n",
       "</tbody>\n",
       "</table>\n"
      ],
      "text/latex": [
       "A data.frame: 6 × 10\n",
       "\\begin{tabular}{r|llllllllll}\n",
       "  & anon\\_id & pat\\_enc\\_csn\\_id\\_coded & line & dx\\_name & primary & chronic & principal & hospital\\_pl & ed & present\\_on\\_adm\\\\\n",
       "  & <chr> & <dbl> & <dbl> & <chr> & <chr> & <chr> & <chr> & <chr> & <chr> & <chr>\\\\\n",
       "\\hline\n",
       "\t1 & JCe340e5  & 131265564938 & 4 & Closed fracture of multiple ribs of right side, initial encounter                                                                        & N & N &  &  & N & \\\\\n",
       "\t2 & JC2a28037 & 131272375066 & 2 & Seizure disorder (CMS-HCC)                                                                                                               & N & N &  &  & Y & \\\\\n",
       "\t3 & JCd4a563  & 131281681345 & 6 & Chronic atrial fibrillation                                                                                                              & N & N &  &  & N & \\\\\n",
       "\t4 & JC2a2f2d2 & 131277062634 & 5 & Acute pain                                                                                                                               & N & N &  &  & N & \\\\\n",
       "\t5 & JCd530d7  & 131284122975 & 1 & Chest pain, unspecified                                                                                                                  &   &   &  &  &   & \\\\\n",
       "\t6 & JCcf7ee2  & 131277092263 & 5 & Intraparenchymal hematoma of brain with loss of consciousness of 30 minutes or less, unspecified laterality, initial encounter (CMS-HCC) & N & N &  &  & Y & \\\\\n",
       "\\end{tabular}\n"
      ],
      "text/markdown": [
       "\n",
       "A data.frame: 6 × 10\n",
       "\n",
       "| <!--/--> | anon_id &lt;chr&gt; | pat_enc_csn_id_coded &lt;dbl&gt; | line &lt;dbl&gt; | dx_name &lt;chr&gt; | primary &lt;chr&gt; | chronic &lt;chr&gt; | principal &lt;chr&gt; | hospital_pl &lt;chr&gt; | ed &lt;chr&gt; | present_on_adm &lt;chr&gt; |\n",
       "|---|---|---|---|---|---|---|---|---|---|---|\n",
       "| 1 | JCe340e5  | 131265564938 | 4 | Closed fracture of multiple ribs of right side, initial encounter                                                                        | N | N | <!----> | <!----> | N | <!----> |\n",
       "| 2 | JC2a28037 | 131272375066 | 2 | Seizure disorder (CMS-HCC)                                                                                                               | N | N | <!----> | <!----> | Y | <!----> |\n",
       "| 3 | JCd4a563  | 131281681345 | 6 | Chronic atrial fibrillation                                                                                                              | N | N | <!----> | <!----> | N | <!----> |\n",
       "| 4 | JC2a2f2d2 | 131277062634 | 5 | Acute pain                                                                                                                               | N | N | <!----> | <!----> | N | <!----> |\n",
       "| 5 | JCd530d7  | 131284122975 | 1 | Chest pain, unspecified                                                                                                                  | <!----> | <!----> | <!----> | <!----> | <!----> | <!----> |\n",
       "| 6 | JCcf7ee2  | 131277092263 | 5 | Intraparenchymal hematoma of brain with loss of consciousness of 30 minutes or less, unspecified laterality, initial encounter (CMS-HCC) | N | N | <!----> | <!----> | Y | <!----> |\n",
       "\n"
      ],
      "text/plain": [
       "  anon_id   pat_enc_csn_id_coded line\n",
       "1 JCe340e5  131265564938         4   \n",
       "2 JC2a28037 131272375066         2   \n",
       "3 JCd4a563  131281681345         6   \n",
       "4 JC2a2f2d2 131277062634         5   \n",
       "5 JCd530d7  131284122975         1   \n",
       "6 JCcf7ee2  131277092263         5   \n",
       "  dx_name                                                                                                                                 \n",
       "1 Closed fracture of multiple ribs of right side, initial encounter                                                                       \n",
       "2 Seizure disorder (CMS-HCC)                                                                                                              \n",
       "3 Chronic atrial fibrillation                                                                                                             \n",
       "4 Acute pain                                                                                                                              \n",
       "5 Chest pain, unspecified                                                                                                                 \n",
       "6 Intraparenchymal hematoma of brain with loss of consciousness of 30 minutes or less, unspecified laterality, initial encounter (CMS-HCC)\n",
       "  primary chronic principal hospital_pl ed present_on_adm\n",
       "1 N       N                             N                \n",
       "2 N       N                             Y                \n",
       "3 N       N                             N                \n",
       "4 N       N                             N                \n",
       "5                                                        \n",
       "6 N       N                             Y                "
      ]
     },
     "metadata": {},
     "output_type": "display_data"
    }
   ],
   "source": [
    "head(dx)"
   ]
  },
  {
   "cell_type": "code",
   "execution_count": 22,
   "metadata": {},
   "outputs": [
    {
     "name": "stderr",
     "output_type": "stream",
     "text": [
      "Joining, by = c(\"anon_id\", \"pat_enc_csn_id_coded\")\n",
      "\n"
     ]
    },
    {
     "data": {
      "text/html": [
       "845097"
      ],
      "text/latex": [
       "845097"
      ],
      "text/markdown": [
       "845097"
      ],
      "text/plain": [
       "[1] 845097"
      ]
     },
     "metadata": {},
     "output_type": "display_data"
    },
    {
     "data": {
      "text/html": [
       "120"
      ],
      "text/latex": [
       "120"
      ],
      "text/markdown": [
       "120"
      ],
      "text/plain": [
       "[1] 120"
      ]
     },
     "metadata": {},
     "output_type": "display_data"
    },
    {
     "data": {
      "text/html": [
       "324"
      ],
      "text/latex": [
       "324"
      ],
      "text/markdown": [
       "324"
      ],
      "text/plain": [
       "[1] 324"
      ]
     },
     "metadata": {},
     "output_type": "display_data"
    },
    {
     "data": {
      "text/html": [
       "0"
      ],
      "text/latex": [
       "0"
      ],
      "text/markdown": [
       "0"
      ],
      "text/plain": [
       "[1] 0"
      ]
     },
     "metadata": {},
     "output_type": "display_data"
    },
    {
     "data": {
      "text/html": [
       "204"
      ],
      "text/latex": [
       "204"
      ],
      "text/markdown": [
       "204"
      ],
      "text/plain": [
       "[1] 204"
      ]
     },
     "metadata": {},
     "output_type": "display_data"
    }
   ],
   "source": [
    "# only 120 of obs above 0.4\n",
    "\n",
    "coh_dx <- cohort %>% distinct() %>% filter(abs_diff0_24 >= 0.4) %>% inner_join(dx) # %>% distinct()\n",
    "nrow(coh_dx) #2152159 same as inner_join for threshold at 0.3 --> distinct 2148938, duplicates comes from cohort\n",
    "length(unique(coh_dx$pat_enc_csn_id_coded))\n",
    "length(unique(dx$pat_enc_csn_id_coded))\n",
    "length(setdiff(coh_dx$pat_enc_csn_id_coded, dx$pat_enc_csn_id_coded))\n",
    "length(setdiff(dx$pat_enc_csn_id_coded, coh_dx$pat_enc_csn_id_coded))"
   ]
  },
  {
   "cell_type": "code",
   "execution_count": 23,
   "metadata": {},
   "outputs": [
    {
     "data": {
      "text/plain": [
       "   Min. 1st Qu.  Median    Mean 3rd Qu.    Max.    NA's \n",
       "   1.00    4.00   10.00   13.01   19.00   68.00    7961 "
      ]
     },
     "metadata": {},
     "output_type": "display_data"
    },
    {
     "data": {
      "text/html": [
       "<table class=\"dataframe\">\n",
       "<caption>A data.frame: 3 × 2</caption>\n",
       "<thead>\n",
       "\t<tr><th scope=col>primary</th><th scope=col>n</th></tr>\n",
       "\t<tr><th scope=col>&lt;chr&gt;</th><th scope=col>&lt;int&gt;</th></tr>\n",
       "</thead>\n",
       "<tbody>\n",
       "\t<tr><td> </td><td>704027</td></tr>\n",
       "\t<tr><td>N</td><td>114155</td></tr>\n",
       "\t<tr><td>Y</td><td> 26915</td></tr>\n",
       "</tbody>\n",
       "</table>\n"
      ],
      "text/latex": [
       "A data.frame: 3 × 2\n",
       "\\begin{tabular}{ll}\n",
       " primary & n\\\\\n",
       " <chr> & <int>\\\\\n",
       "\\hline\n",
       "\t   & 704027\\\\\n",
       "\t N & 114155\\\\\n",
       "\t Y &  26915\\\\\n",
       "\\end{tabular}\n"
      ],
      "text/markdown": [
       "\n",
       "A data.frame: 3 × 2\n",
       "\n",
       "| primary &lt;chr&gt; | n &lt;int&gt; |\n",
       "|---|---|\n",
       "| <!----> | 704027 |\n",
       "| N | 114155 |\n",
       "| Y |  26915 |\n",
       "\n"
      ],
      "text/plain": [
       "  primary n     \n",
       "1         704027\n",
       "2 N       114155\n",
       "3 Y        26915"
      ]
     },
     "metadata": {},
     "output_type": "display_data"
    },
    {
     "data": {
      "text/html": [
       "<table class=\"dataframe\">\n",
       "<caption>A data.frame: 3 × 2</caption>\n",
       "<thead>\n",
       "\t<tr><th scope=col>chronic</th><th scope=col>n</th></tr>\n",
       "\t<tr><th scope=col>&lt;chr&gt;</th><th scope=col>&lt;int&gt;</th></tr>\n",
       "</thead>\n",
       "<tbody>\n",
       "\t<tr><td> </td><td>696946</td></tr>\n",
       "\t<tr><td>N</td><td>145296</td></tr>\n",
       "\t<tr><td>Y</td><td>  2855</td></tr>\n",
       "</tbody>\n",
       "</table>\n"
      ],
      "text/latex": [
       "A data.frame: 3 × 2\n",
       "\\begin{tabular}{ll}\n",
       " chronic & n\\\\\n",
       " <chr> & <int>\\\\\n",
       "\\hline\n",
       "\t   & 696946\\\\\n",
       "\t N & 145296\\\\\n",
       "\t Y &   2855\\\\\n",
       "\\end{tabular}\n"
      ],
      "text/markdown": [
       "\n",
       "A data.frame: 3 × 2\n",
       "\n",
       "| chronic &lt;chr&gt; | n &lt;int&gt; |\n",
       "|---|---|\n",
       "| <!----> | 696946 |\n",
       "| N | 145296 |\n",
       "| Y |   2855 |\n",
       "\n"
      ],
      "text/plain": [
       "  chronic n     \n",
       "1         696946\n",
       "2 N       145296\n",
       "3 Y         2855"
      ]
     },
     "metadata": {},
     "output_type": "display_data"
    },
    {
     "data": {
      "text/html": [
       "<table class=\"dataframe\">\n",
       "<caption>A data.frame: 3 × 2</caption>\n",
       "<thead>\n",
       "\t<tr><th scope=col>hospital_pl</th><th scope=col>n</th></tr>\n",
       "\t<tr><th scope=col>&lt;chr&gt;</th><th scope=col>&lt;int&gt;</th></tr>\n",
       "</thead>\n",
       "<tbody>\n",
       "\t<tr><td> </td><td>837136</td></tr>\n",
       "\t<tr><td>Y</td><td>  6830</td></tr>\n",
       "\t<tr><td>N</td><td>  1131</td></tr>\n",
       "</tbody>\n",
       "</table>\n"
      ],
      "text/latex": [
       "A data.frame: 3 × 2\n",
       "\\begin{tabular}{ll}\n",
       " hospital\\_pl & n\\\\\n",
       " <chr> & <int>\\\\\n",
       "\\hline\n",
       "\t   & 837136\\\\\n",
       "\t Y &   6830\\\\\n",
       "\t N &   1131\\\\\n",
       "\\end{tabular}\n"
      ],
      "text/markdown": [
       "\n",
       "A data.frame: 3 × 2\n",
       "\n",
       "| hospital_pl &lt;chr&gt; | n &lt;int&gt; |\n",
       "|---|---|\n",
       "| <!----> | 837136 |\n",
       "| Y |   6830 |\n",
       "| N |   1131 |\n",
       "\n"
      ],
      "text/plain": [
       "  hospital_pl n     \n",
       "1             837136\n",
       "2 Y             6830\n",
       "3 N             1131"
      ]
     },
     "metadata": {},
     "output_type": "display_data"
    },
    {
     "data": {
      "text/html": [
       "<table class=\"dataframe\">\n",
       "<caption>A data.frame: 3 × 2</caption>\n",
       "<thead>\n",
       "\t<tr><th scope=col>principal</th><th scope=col>n</th></tr>\n",
       "\t<tr><th scope=col>&lt;chr&gt;</th><th scope=col>&lt;int&gt;</th></tr>\n",
       "</thead>\n",
       "<tbody>\n",
       "\t<tr><td> </td><td>837136</td></tr>\n",
       "\t<tr><td>N</td><td>  6940</td></tr>\n",
       "\t<tr><td>Y</td><td>  1021</td></tr>\n",
       "</tbody>\n",
       "</table>\n"
      ],
      "text/latex": [
       "A data.frame: 3 × 2\n",
       "\\begin{tabular}{ll}\n",
       " principal & n\\\\\n",
       " <chr> & <int>\\\\\n",
       "\\hline\n",
       "\t   & 837136\\\\\n",
       "\t N &   6940\\\\\n",
       "\t Y &   1021\\\\\n",
       "\\end{tabular}\n"
      ],
      "text/markdown": [
       "\n",
       "A data.frame: 3 × 2\n",
       "\n",
       "| principal &lt;chr&gt; | n &lt;int&gt; |\n",
       "|---|---|\n",
       "| <!----> | 837136 |\n",
       "| N |   6940 |\n",
       "| Y |   1021 |\n",
       "\n"
      ],
      "text/plain": [
       "  principal n     \n",
       "1           837136\n",
       "2 N           6940\n",
       "3 Y           1021"
      ]
     },
     "metadata": {},
     "output_type": "display_data"
    },
    {
     "data": {
      "text/html": [
       "<table class=\"dataframe\">\n",
       "<caption>A data.frame: 3 × 2</caption>\n",
       "<thead>\n",
       "\t<tr><th scope=col>ed</th><th scope=col>n</th></tr>\n",
       "\t<tr><th scope=col>&lt;chr&gt;</th><th scope=col>&lt;int&gt;</th></tr>\n",
       "</thead>\n",
       "<tbody>\n",
       "\t<tr><td> </td><td>704027</td></tr>\n",
       "\t<tr><td>N</td><td> 93512</td></tr>\n",
       "\t<tr><td>Y</td><td> 47558</td></tr>\n",
       "</tbody>\n",
       "</table>\n"
      ],
      "text/latex": [
       "A data.frame: 3 × 2\n",
       "\\begin{tabular}{ll}\n",
       " ed & n\\\\\n",
       " <chr> & <int>\\\\\n",
       "\\hline\n",
       "\t   & 704027\\\\\n",
       "\t N &  93512\\\\\n",
       "\t Y &  47558\\\\\n",
       "\\end{tabular}\n"
      ],
      "text/markdown": [
       "\n",
       "A data.frame: 3 × 2\n",
       "\n",
       "| ed &lt;chr&gt; | n &lt;int&gt; |\n",
       "|---|---|\n",
       "| <!----> | 704027 |\n",
       "| N |  93512 |\n",
       "| Y |  47558 |\n",
       "\n"
      ],
      "text/plain": [
       "  ed n     \n",
       "1    704027\n",
       "2 N   93512\n",
       "3 Y   47558"
      ]
     },
     "metadata": {},
     "output_type": "display_data"
    },
    {
     "data": {
      "text/html": [
       "<table class=\"dataframe\">\n",
       "<caption>A data.frame: 5 × 2</caption>\n",
       "<thead>\n",
       "\t<tr><th scope=col>present_on_adm</th><th scope=col>n</th></tr>\n",
       "\t<tr><th scope=col>&lt;chr&gt;</th><th scope=col>&lt;int&gt;</th></tr>\n",
       "</thead>\n",
       "<tbody>\n",
       "\t<tr><td>Yes                      </td><td>443982</td></tr>\n",
       "\t<tr><td>Exempt from POA reporting</td><td>172122</td></tr>\n",
       "\t<tr><td>                         </td><td>169246</td></tr>\n",
       "\t<tr><td>No                       </td><td> 57782</td></tr>\n",
       "\t<tr><td>Unknown                  </td><td>  1965</td></tr>\n",
       "</tbody>\n",
       "</table>\n"
      ],
      "text/latex": [
       "A data.frame: 5 × 2\n",
       "\\begin{tabular}{ll}\n",
       " present\\_on\\_adm & n\\\\\n",
       " <chr> & <int>\\\\\n",
       "\\hline\n",
       "\t Yes                       & 443982\\\\\n",
       "\t Exempt from POA reporting & 172122\\\\\n",
       "\t                           & 169246\\\\\n",
       "\t No                        &  57782\\\\\n",
       "\t Unknown                   &   1965\\\\\n",
       "\\end{tabular}\n"
      ],
      "text/markdown": [
       "\n",
       "A data.frame: 5 × 2\n",
       "\n",
       "| present_on_adm &lt;chr&gt; | n &lt;int&gt; |\n",
       "|---|---|\n",
       "| Yes                       | 443982 |\n",
       "| Exempt from POA reporting | 172122 |\n",
       "| <!----> | 169246 |\n",
       "| No                        |  57782 |\n",
       "| Unknown                   |   1965 |\n",
       "\n"
      ],
      "text/plain": [
       "  present_on_adm            n     \n",
       "1 Yes                       443982\n",
       "2 Exempt from POA reporting 172122\n",
       "3                           169246\n",
       "4 No                         57782\n",
       "5 Unknown                     1965"
      ]
     },
     "metadata": {},
     "output_type": "display_data"
    },
    {
     "data": {
      "text/html": [
       "<table class=\"dataframe\">\n",
       "<caption>A data.frame: 20 × 2</caption>\n",
       "<thead>\n",
       "\t<tr><th></th><th scope=col>dx_name</th><th scope=col>n</th></tr>\n",
       "\t<tr><th></th><th scope=col>&lt;chr&gt;</th><th scope=col>&lt;int&gt;</th></tr>\n",
       "</thead>\n",
       "<tbody>\n",
       "\t<tr><th scope=row>1</th><td>Hyperlipidemia, unspecified                                                    </td><td>12290</td></tr>\n",
       "\t<tr><th scope=row>2</th><td>Other long term (current) drug therapy                                         </td><td>11556</td></tr>\n",
       "\t<tr><th scope=row>3</th><td>Long term (current) use of insulin                                             </td><td>10728</td></tr>\n",
       "\t<tr><th scope=row>4</th><td>Atherosclerotic heart disease of native coronary artery without angina pectoris</td><td> 9241</td></tr>\n",
       "\t<tr><th scope=row>5</th><td>Type 1 diabetes mellitus with ketoacidosis without coma                        </td><td> 9107</td></tr>\n",
       "\t<tr><th scope=row>6</th><td>Major depressive disorder, single episode, unspecified                         </td><td> 7726</td></tr>\n",
       "\t<tr><th scope=row>7</th><td>Essential (primary) hypertension                                               </td><td> 7445</td></tr>\n",
       "\t<tr><th scope=row>8</th><td>Weakness                                                                       </td><td> 7238</td></tr>\n",
       "\t<tr><th scope=row>9</th><td>Acidosis                                                                       </td><td> 7057</td></tr>\n",
       "\t<tr><th scope=row>10</th><td>Hypertensive emergency                                                         </td><td> 7055</td></tr>\n",
       "\t<tr><th scope=row>11</th><td>Old myocardial infarction                                                      </td><td> 6486</td></tr>\n",
       "\t<tr><th scope=row>12</th><td>Personal history of nicotine dependence                                        </td><td> 6430</td></tr>\n",
       "\t<tr><th scope=row>13</th><td>Long term (current) use of aspirin                                             </td><td> 6371</td></tr>\n",
       "\t<tr><th scope=row>14</th><td>Other chest pain                                                               </td><td> 6065</td></tr>\n",
       "\t<tr><th scope=row>15</th><td>Dehydration                                                                    </td><td> 5907</td></tr>\n",
       "\t<tr><th scope=row>16</th><td>Family history of diabetes mellitus                                            </td><td> 5369</td></tr>\n",
       "\t<tr><th scope=row>17</th><td>Acquired absence of other specified parts of digestive tract                   </td><td> 5274</td></tr>\n",
       "\t<tr><th scope=row>18</th><td>Acute kidney failure, unspecified                                              </td><td> 5155</td></tr>\n",
       "\t<tr><th scope=row>19</th><td>Allergy status to other drugs, medicaments and biological substances status    </td><td> 4976</td></tr>\n",
       "\t<tr><th scope=row>20</th><td>Shortness of breath                                                            </td><td> 4718</td></tr>\n",
       "</tbody>\n",
       "</table>\n"
      ],
      "text/latex": [
       "A data.frame: 20 × 2\n",
       "\\begin{tabular}{r|ll}\n",
       "  & dx\\_name & n\\\\\n",
       "  & <chr> & <int>\\\\\n",
       "\\hline\n",
       "\t1 & Hyperlipidemia, unspecified                                                     & 12290\\\\\n",
       "\t2 & Other long term (current) drug therapy                                          & 11556\\\\\n",
       "\t3 & Long term (current) use of insulin                                              & 10728\\\\\n",
       "\t4 & Atherosclerotic heart disease of native coronary artery without angina pectoris &  9241\\\\\n",
       "\t5 & Type 1 diabetes mellitus with ketoacidosis without coma                         &  9107\\\\\n",
       "\t6 & Major depressive disorder, single episode, unspecified                          &  7726\\\\\n",
       "\t7 & Essential (primary) hypertension                                                &  7445\\\\\n",
       "\t8 & Weakness                                                                        &  7238\\\\\n",
       "\t9 & Acidosis                                                                        &  7057\\\\\n",
       "\t10 & Hypertensive emergency                                                          &  7055\\\\\n",
       "\t11 & Old myocardial infarction                                                       &  6486\\\\\n",
       "\t12 & Personal history of nicotine dependence                                         &  6430\\\\\n",
       "\t13 & Long term (current) use of aspirin                                              &  6371\\\\\n",
       "\t14 & Other chest pain                                                                &  6065\\\\\n",
       "\t15 & Dehydration                                                                     &  5907\\\\\n",
       "\t16 & Family history of diabetes mellitus                                             &  5369\\\\\n",
       "\t17 & Acquired absence of other specified parts of digestive tract                    &  5274\\\\\n",
       "\t18 & Acute kidney failure, unspecified                                               &  5155\\\\\n",
       "\t19 & Allergy status to other drugs, medicaments and biological substances status     &  4976\\\\\n",
       "\t20 & Shortness of breath                                                             &  4718\\\\\n",
       "\\end{tabular}\n"
      ],
      "text/markdown": [
       "\n",
       "A data.frame: 20 × 2\n",
       "\n",
       "| <!--/--> | dx_name &lt;chr&gt; | n &lt;int&gt; |\n",
       "|---|---|---|\n",
       "| 1 | Hyperlipidemia, unspecified                                                     | 12290 |\n",
       "| 2 | Other long term (current) drug therapy                                          | 11556 |\n",
       "| 3 | Long term (current) use of insulin                                              | 10728 |\n",
       "| 4 | Atherosclerotic heart disease of native coronary artery without angina pectoris |  9241 |\n",
       "| 5 | Type 1 diabetes mellitus with ketoacidosis without coma                         |  9107 |\n",
       "| 6 | Major depressive disorder, single episode, unspecified                          |  7726 |\n",
       "| 7 | Essential (primary) hypertension                                                |  7445 |\n",
       "| 8 | Weakness                                                                        |  7238 |\n",
       "| 9 | Acidosis                                                                        |  7057 |\n",
       "| 10 | Hypertensive emergency                                                          |  7055 |\n",
       "| 11 | Old myocardial infarction                                                       |  6486 |\n",
       "| 12 | Personal history of nicotine dependence                                         |  6430 |\n",
       "| 13 | Long term (current) use of aspirin                                              |  6371 |\n",
       "| 14 | Other chest pain                                                                |  6065 |\n",
       "| 15 | Dehydration                                                                     |  5907 |\n",
       "| 16 | Family history of diabetes mellitus                                             |  5369 |\n",
       "| 17 | Acquired absence of other specified parts of digestive tract                    |  5274 |\n",
       "| 18 | Acute kidney failure, unspecified                                               |  5155 |\n",
       "| 19 | Allergy status to other drugs, medicaments and biological substances status     |  4976 |\n",
       "| 20 | Shortness of breath                                                             |  4718 |\n",
       "\n"
      ],
      "text/plain": [
       "   dx_name                                                                        \n",
       "1  Hyperlipidemia, unspecified                                                    \n",
       "2  Other long term (current) drug therapy                                         \n",
       "3  Long term (current) use of insulin                                             \n",
       "4  Atherosclerotic heart disease of native coronary artery without angina pectoris\n",
       "5  Type 1 diabetes mellitus with ketoacidosis without coma                        \n",
       "6  Major depressive disorder, single episode, unspecified                         \n",
       "7  Essential (primary) hypertension                                               \n",
       "8  Weakness                                                                       \n",
       "9  Acidosis                                                                       \n",
       "10 Hypertensive emergency                                                         \n",
       "11 Old myocardial infarction                                                      \n",
       "12 Personal history of nicotine dependence                                        \n",
       "13 Long term (current) use of aspirin                                             \n",
       "14 Other chest pain                                                               \n",
       "15 Dehydration                                                                    \n",
       "16 Family history of diabetes mellitus                                            \n",
       "17 Acquired absence of other specified parts of digestive tract                   \n",
       "18 Acute kidney failure, unspecified                                              \n",
       "19 Allergy status to other drugs, medicaments and biological substances status    \n",
       "20 Shortness of breath                                                            \n",
       "   n    \n",
       "1  12290\n",
       "2  11556\n",
       "3  10728\n",
       "4   9241\n",
       "5   9107\n",
       "6   7726\n",
       "7   7445\n",
       "8   7238\n",
       "9   7057\n",
       "10  7055\n",
       "11  6486\n",
       "12  6430\n",
       "13  6371\n",
       "14  6065\n",
       "15  5907\n",
       "16  5369\n",
       "17  5274\n",
       "18  5155\n",
       "19  4976\n",
       "20  4718"
      ]
     },
     "metadata": {},
     "output_type": "display_data"
    }
   ],
   "source": [
    "summary(coh_dx$line)\n",
    "\n",
    "coh_dx %>% count(primary, sort=TRUE)\n",
    "coh_dx %>% count(chronic, sort=TRUE)\n",
    "coh_dx %>% count(hospital_pl,  sort=TRUE)\n",
    "coh_dx %>% count(principal, sort=TRUE)\n",
    "coh_dx %>% count(ed, sort=TRUE)\n",
    "coh_dx %>% count(present_on_adm, sort=TRUE)\n",
    "coh_dx %>% count(dx_name, sort=TRUE) %>% head(20)"
   ]
  },
  {
   "cell_type": "code",
   "execution_count": 24,
   "metadata": {},
   "outputs": [
    {
     "data": {
      "text/html": [
       "<table class=\"dataframe\">\n",
       "<caption>A data.frame: 20 × 3</caption>\n",
       "<thead>\n",
       "\t<tr><th></th><th scope=col>dx_name</th><th scope=col>n</th><th scope=col>perc</th></tr>\n",
       "\t<tr><th></th><th scope=col>&lt;chr&gt;</th><th scope=col>&lt;int&gt;</th><th scope=col>&lt;dbl&gt;</th></tr>\n",
       "</thead>\n",
       "<tbody>\n",
       "\t<tr><th scope=row>1</th><td>Hyperlipidemia, unspecified                                                          </td><td>48</td><td>40.00</td></tr>\n",
       "\t<tr><th scope=row>2</th><td>Essential (primary) hypertension                                                     </td><td>44</td><td>36.67</td></tr>\n",
       "\t<tr><th scope=row>3</th><td>Other long term (current) drug therapy                                               </td><td>43</td><td>35.83</td></tr>\n",
       "\t<tr><th scope=row>4</th><td>Long term (current) use of insulin                                                   </td><td>40</td><td>33.33</td></tr>\n",
       "\t<tr><th scope=row>5</th><td>Weakness                                                                             </td><td>28</td><td>23.33</td></tr>\n",
       "\t<tr><th scope=row>6</th><td>Atherosclerotic heart disease of native coronary artery without angina pectoris      </td><td>26</td><td>21.67</td></tr>\n",
       "\t<tr><th scope=row>7</th><td>Personal history of nicotine dependence                                              </td><td>26</td><td>21.67</td></tr>\n",
       "\t<tr><th scope=row>8</th><td>Long term (current) use of aspirin                                                   </td><td>25</td><td>20.83</td></tr>\n",
       "\t<tr><th scope=row>9</th><td>Acidosis                                                                             </td><td>24</td><td>20.00</td></tr>\n",
       "\t<tr><th scope=row>10</th><td>Dehydration                                                                          </td><td>24</td><td>20.00</td></tr>\n",
       "\t<tr><th scope=row>11</th><td>Major depressive disorder, single episode, unspecified                               </td><td>23</td><td>19.17</td></tr>\n",
       "\t<tr><th scope=row>12</th><td>Type 1 diabetes mellitus with ketoacidosis without coma                              </td><td>23</td><td>19.17</td></tr>\n",
       "\t<tr><th scope=row>13</th><td>Acute kidney failure, unspecified                                                    </td><td>22</td><td>18.33</td></tr>\n",
       "\t<tr><th scope=row>14</th><td>Diabetic ketoacidosis without coma associated with type 1 diabetes mellitus (CMS-HCC)</td><td>19</td><td>15.83</td></tr>\n",
       "\t<tr><th scope=row>15</th><td>Allergy status to penicillin                                                         </td><td>18</td><td>15.00</td></tr>\n",
       "\t<tr><th scope=row>16</th><td>Gastro-esophageal reflux disease without esophagitis                                 </td><td>17</td><td>14.17</td></tr>\n",
       "\t<tr><th scope=row>17</th><td>Family history of diabetes mellitus                                                  </td><td>16</td><td>13.33</td></tr>\n",
       "\t<tr><th scope=row>18</th><td>Hypokalemia                                                                          </td><td>16</td><td>13.33</td></tr>\n",
       "\t<tr><th scope=row>19</th><td>Hypothyroidism, unspecified                                                          </td><td>16</td><td>13.33</td></tr>\n",
       "\t<tr><th scope=row>20</th><td>Obstructive sleep apnea (adult) (pediatric)                                          </td><td>16</td><td>13.33</td></tr>\n",
       "</tbody>\n",
       "</table>\n"
      ],
      "text/latex": [
       "A data.frame: 20 × 3\n",
       "\\begin{tabular}{r|lll}\n",
       "  & dx\\_name & n & perc\\\\\n",
       "  & <chr> & <int> & <dbl>\\\\\n",
       "\\hline\n",
       "\t1 & Hyperlipidemia, unspecified                                                           & 48 & 40.00\\\\\n",
       "\t2 & Essential (primary) hypertension                                                      & 44 & 36.67\\\\\n",
       "\t3 & Other long term (current) drug therapy                                                & 43 & 35.83\\\\\n",
       "\t4 & Long term (current) use of insulin                                                    & 40 & 33.33\\\\\n",
       "\t5 & Weakness                                                                              & 28 & 23.33\\\\\n",
       "\t6 & Atherosclerotic heart disease of native coronary artery without angina pectoris       & 26 & 21.67\\\\\n",
       "\t7 & Personal history of nicotine dependence                                               & 26 & 21.67\\\\\n",
       "\t8 & Long term (current) use of aspirin                                                    & 25 & 20.83\\\\\n",
       "\t9 & Acidosis                                                                              & 24 & 20.00\\\\\n",
       "\t10 & Dehydration                                                                           & 24 & 20.00\\\\\n",
       "\t11 & Major depressive disorder, single episode, unspecified                                & 23 & 19.17\\\\\n",
       "\t12 & Type 1 diabetes mellitus with ketoacidosis without coma                               & 23 & 19.17\\\\\n",
       "\t13 & Acute kidney failure, unspecified                                                     & 22 & 18.33\\\\\n",
       "\t14 & Diabetic ketoacidosis without coma associated with type 1 diabetes mellitus (CMS-HCC) & 19 & 15.83\\\\\n",
       "\t15 & Allergy status to penicillin                                                          & 18 & 15.00\\\\\n",
       "\t16 & Gastro-esophageal reflux disease without esophagitis                                  & 17 & 14.17\\\\\n",
       "\t17 & Family history of diabetes mellitus                                                   & 16 & 13.33\\\\\n",
       "\t18 & Hypokalemia                                                                           & 16 & 13.33\\\\\n",
       "\t19 & Hypothyroidism, unspecified                                                           & 16 & 13.33\\\\\n",
       "\t20 & Obstructive sleep apnea (adult) (pediatric)                                           & 16 & 13.33\\\\\n",
       "\\end{tabular}\n"
      ],
      "text/markdown": [
       "\n",
       "A data.frame: 20 × 3\n",
       "\n",
       "| <!--/--> | dx_name &lt;chr&gt; | n &lt;int&gt; | perc &lt;dbl&gt; |\n",
       "|---|---|---|---|\n",
       "| 1 | Hyperlipidemia, unspecified                                                           | 48 | 40.00 |\n",
       "| 2 | Essential (primary) hypertension                                                      | 44 | 36.67 |\n",
       "| 3 | Other long term (current) drug therapy                                                | 43 | 35.83 |\n",
       "| 4 | Long term (current) use of insulin                                                    | 40 | 33.33 |\n",
       "| 5 | Weakness                                                                              | 28 | 23.33 |\n",
       "| 6 | Atherosclerotic heart disease of native coronary artery without angina pectoris       | 26 | 21.67 |\n",
       "| 7 | Personal history of nicotine dependence                                               | 26 | 21.67 |\n",
       "| 8 | Long term (current) use of aspirin                                                    | 25 | 20.83 |\n",
       "| 9 | Acidosis                                                                              | 24 | 20.00 |\n",
       "| 10 | Dehydration                                                                           | 24 | 20.00 |\n",
       "| 11 | Major depressive disorder, single episode, unspecified                                | 23 | 19.17 |\n",
       "| 12 | Type 1 diabetes mellitus with ketoacidosis without coma                               | 23 | 19.17 |\n",
       "| 13 | Acute kidney failure, unspecified                                                     | 22 | 18.33 |\n",
       "| 14 | Diabetic ketoacidosis without coma associated with type 1 diabetes mellitus (CMS-HCC) | 19 | 15.83 |\n",
       "| 15 | Allergy status to penicillin                                                          | 18 | 15.00 |\n",
       "| 16 | Gastro-esophageal reflux disease without esophagitis                                  | 17 | 14.17 |\n",
       "| 17 | Family history of diabetes mellitus                                                   | 16 | 13.33 |\n",
       "| 18 | Hypokalemia                                                                           | 16 | 13.33 |\n",
       "| 19 | Hypothyroidism, unspecified                                                           | 16 | 13.33 |\n",
       "| 20 | Obstructive sleep apnea (adult) (pediatric)                                           | 16 | 13.33 |\n",
       "\n"
      ],
      "text/plain": [
       "   dx_name                                                                              \n",
       "1  Hyperlipidemia, unspecified                                                          \n",
       "2  Essential (primary) hypertension                                                     \n",
       "3  Other long term (current) drug therapy                                               \n",
       "4  Long term (current) use of insulin                                                   \n",
       "5  Weakness                                                                             \n",
       "6  Atherosclerotic heart disease of native coronary artery without angina pectoris      \n",
       "7  Personal history of nicotine dependence                                              \n",
       "8  Long term (current) use of aspirin                                                   \n",
       "9  Acidosis                                                                             \n",
       "10 Dehydration                                                                          \n",
       "11 Major depressive disorder, single episode, unspecified                               \n",
       "12 Type 1 diabetes mellitus with ketoacidosis without coma                              \n",
       "13 Acute kidney failure, unspecified                                                    \n",
       "14 Diabetic ketoacidosis without coma associated with type 1 diabetes mellitus (CMS-HCC)\n",
       "15 Allergy status to penicillin                                                         \n",
       "16 Gastro-esophageal reflux disease without esophagitis                                 \n",
       "17 Family history of diabetes mellitus                                                  \n",
       "18 Hypokalemia                                                                          \n",
       "19 Hypothyroidism, unspecified                                                          \n",
       "20 Obstructive sleep apnea (adult) (pediatric)                                          \n",
       "   n  perc \n",
       "1  48 40.00\n",
       "2  44 36.67\n",
       "3  43 35.83\n",
       "4  40 33.33\n",
       "5  28 23.33\n",
       "6  26 21.67\n",
       "7  26 21.67\n",
       "8  25 20.83\n",
       "9  24 20.00\n",
       "10 24 20.00\n",
       "11 23 19.17\n",
       "12 23 19.17\n",
       "13 22 18.33\n",
       "14 19 15.83\n",
       "15 18 15.00\n",
       "16 17 14.17\n",
       "17 16 13.33\n",
       "18 16 13.33\n",
       "19 16 13.33\n",
       "20 16 13.33"
      ]
     },
     "metadata": {},
     "output_type": "display_data"
    }
   ],
   "source": [
    "coh_dx %>% distinct(pat_enc_csn_id_coded, dx_name) %>% count(dx_name) %>% \n",
    "    mutate(perc = round(100*n/120, 2)) %>% arrange(-n) %>% head(20)"
   ]
  },
  {
   "cell_type": "code",
   "execution_count": 25,
   "metadata": {},
   "outputs": [
    {
     "data": {
      "text/html": [
       "<table class=\"dataframe\">\n",
       "<caption>A data.frame: 20 × 3</caption>\n",
       "<thead>\n",
       "\t<tr><th></th><th scope=col>dx_name</th><th scope=col>n</th><th scope=col>perc</th></tr>\n",
       "\t<tr><th></th><th scope=col>&lt;chr&gt;</th><th scope=col>&lt;int&gt;</th><th scope=col>&lt;dbl&gt;</th></tr>\n",
       "</thead>\n",
       "<tbody>\n",
       "\t<tr><th scope=row>1</th><td>Diabetic ketoacidosis without coma associated with type 1 diabetes mellitus (CMS-HCC)                     </td><td>6</td><td>5.00</td></tr>\n",
       "\t<tr><th scope=row>2</th><td>Diabetic ketoacidosis without coma associated with diabetes mellitus due to underlying condition (CMS-HCC)</td><td>5</td><td>4.17</td></tr>\n",
       "\t<tr><th scope=row>3</th><td>Diabetic ketoacidosis without coma associated with other specified diabetes mellitus (CMS-HCC)            </td><td>5</td><td>4.17</td></tr>\n",
       "\t<tr><th scope=row>4</th><td>Diabetic ketoacidosis without coma associated with type 2 diabetes mellitus (CMS-HCC)                     </td><td>5</td><td>4.17</td></tr>\n",
       "\t<tr><th scope=row>5</th><td>Hypertensive emergency                                                                                    </td><td>3</td><td>2.50</td></tr>\n",
       "\t<tr><th scope=row>6</th><td>Hyponatremia                                                                                              </td><td>3</td><td>2.50</td></tr>\n",
       "\t<tr><th scope=row>7</th><td>ST elevation myocardial infarction (STEMI), unspecified artery (CMS-HCC)                                  </td><td>3</td><td>2.50</td></tr>\n",
       "\t<tr><th scope=row>8</th><td>Acute upper GI bleeding                                                                                   </td><td>2</td><td>1.67</td></tr>\n",
       "\t<tr><th scope=row>9</th><td>Cerebrovascular accident (CVA), unspecified mechanism (CMS-HCC)                                           </td><td>2</td><td>1.67</td></tr>\n",
       "\t<tr><th scope=row>10</th><td>Diabetic ketoacidosis with coma associated with type 1 diabetes mellitus (CMS-HCC)                        </td><td>2</td><td>1.67</td></tr>\n",
       "\t<tr><th scope=row>11</th><td>Hyperglycemic hyperosmolar nonketotic coma (CMS-HCC)                                                      </td><td>2</td><td>1.67</td></tr>\n",
       "\t<tr><th scope=row>12</th><td>Intracranial hemorrhage (CMS-HCC)                                                                         </td><td>2</td><td>1.67</td></tr>\n",
       "\t<tr><th scope=row>13</th><td>Septic shock (CMS-HCC)                                                                                    </td><td>2</td><td>1.67</td></tr>\n",
       "\t<tr><th scope=row>14</th><td>Subarachnoid hemorrhage (CMS-HCC)                                                                         </td><td>2</td><td>1.67</td></tr>\n",
       "\t<tr><th scope=row>15</th><td>Acidemia                                                                                                  </td><td>1</td><td>0.83</td></tr>\n",
       "\t<tr><th scope=row>16</th><td>Acute respiratory failure with hypercapnia (CMS-HCC)                                                      </td><td>1</td><td>0.83</td></tr>\n",
       "\t<tr><th scope=row>17</th><td>Acute respiratory failure with hypoxia (CMS-HCC)                                                          </td><td>1</td><td>0.83</td></tr>\n",
       "\t<tr><th scope=row>18</th><td>Acute respiratory failure with hypoxia and hypercapnia (CMS-HCC)                                          </td><td>1</td><td>0.83</td></tr>\n",
       "\t<tr><th scope=row>19</th><td>Acute respiratory failure, unspecified whether with hypoxia or hypercapnia (CMS-HCC)                      </td><td>1</td><td>0.83</td></tr>\n",
       "\t<tr><th scope=row>20</th><td>Adrenal crisis syndrome (CMS-HCC)                                                                         </td><td>1</td><td>0.83</td></tr>\n",
       "</tbody>\n",
       "</table>\n"
      ],
      "text/latex": [
       "A data.frame: 20 × 3\n",
       "\\begin{tabular}{r|lll}\n",
       "  & dx\\_name & n & perc\\\\\n",
       "  & <chr> & <int> & <dbl>\\\\\n",
       "\\hline\n",
       "\t1 & Diabetic ketoacidosis without coma associated with type 1 diabetes mellitus (CMS-HCC)                      & 6 & 5.00\\\\\n",
       "\t2 & Diabetic ketoacidosis without coma associated with diabetes mellitus due to underlying condition (CMS-HCC) & 5 & 4.17\\\\\n",
       "\t3 & Diabetic ketoacidosis without coma associated with other specified diabetes mellitus (CMS-HCC)             & 5 & 4.17\\\\\n",
       "\t4 & Diabetic ketoacidosis without coma associated with type 2 diabetes mellitus (CMS-HCC)                      & 5 & 4.17\\\\\n",
       "\t5 & Hypertensive emergency                                                                                     & 3 & 2.50\\\\\n",
       "\t6 & Hyponatremia                                                                                               & 3 & 2.50\\\\\n",
       "\t7 & ST elevation myocardial infarction (STEMI), unspecified artery (CMS-HCC)                                   & 3 & 2.50\\\\\n",
       "\t8 & Acute upper GI bleeding                                                                                    & 2 & 1.67\\\\\n",
       "\t9 & Cerebrovascular accident (CVA), unspecified mechanism (CMS-HCC)                                            & 2 & 1.67\\\\\n",
       "\t10 & Diabetic ketoacidosis with coma associated with type 1 diabetes mellitus (CMS-HCC)                         & 2 & 1.67\\\\\n",
       "\t11 & Hyperglycemic hyperosmolar nonketotic coma (CMS-HCC)                                                       & 2 & 1.67\\\\\n",
       "\t12 & Intracranial hemorrhage (CMS-HCC)                                                                          & 2 & 1.67\\\\\n",
       "\t13 & Septic shock (CMS-HCC)                                                                                     & 2 & 1.67\\\\\n",
       "\t14 & Subarachnoid hemorrhage (CMS-HCC)                                                                          & 2 & 1.67\\\\\n",
       "\t15 & Acidemia                                                                                                   & 1 & 0.83\\\\\n",
       "\t16 & Acute respiratory failure with hypercapnia (CMS-HCC)                                                       & 1 & 0.83\\\\\n",
       "\t17 & Acute respiratory failure with hypoxia (CMS-HCC)                                                           & 1 & 0.83\\\\\n",
       "\t18 & Acute respiratory failure with hypoxia and hypercapnia (CMS-HCC)                                           & 1 & 0.83\\\\\n",
       "\t19 & Acute respiratory failure, unspecified whether with hypoxia or hypercapnia (CMS-HCC)                       & 1 & 0.83\\\\\n",
       "\t20 & Adrenal crisis syndrome (CMS-HCC)                                                                          & 1 & 0.83\\\\\n",
       "\\end{tabular}\n"
      ],
      "text/markdown": [
       "\n",
       "A data.frame: 20 × 3\n",
       "\n",
       "| <!--/--> | dx_name &lt;chr&gt; | n &lt;int&gt; | perc &lt;dbl&gt; |\n",
       "|---|---|---|---|\n",
       "| 1 | Diabetic ketoacidosis without coma associated with type 1 diabetes mellitus (CMS-HCC)                      | 6 | 5.00 |\n",
       "| 2 | Diabetic ketoacidosis without coma associated with diabetes mellitus due to underlying condition (CMS-HCC) | 5 | 4.17 |\n",
       "| 3 | Diabetic ketoacidosis without coma associated with other specified diabetes mellitus (CMS-HCC)             | 5 | 4.17 |\n",
       "| 4 | Diabetic ketoacidosis without coma associated with type 2 diabetes mellitus (CMS-HCC)                      | 5 | 4.17 |\n",
       "| 5 | Hypertensive emergency                                                                                     | 3 | 2.50 |\n",
       "| 6 | Hyponatremia                                                                                               | 3 | 2.50 |\n",
       "| 7 | ST elevation myocardial infarction (STEMI), unspecified artery (CMS-HCC)                                   | 3 | 2.50 |\n",
       "| 8 | Acute upper GI bleeding                                                                                    | 2 | 1.67 |\n",
       "| 9 | Cerebrovascular accident (CVA), unspecified mechanism (CMS-HCC)                                            | 2 | 1.67 |\n",
       "| 10 | Diabetic ketoacidosis with coma associated with type 1 diabetes mellitus (CMS-HCC)                         | 2 | 1.67 |\n",
       "| 11 | Hyperglycemic hyperosmolar nonketotic coma (CMS-HCC)                                                       | 2 | 1.67 |\n",
       "| 12 | Intracranial hemorrhage (CMS-HCC)                                                                          | 2 | 1.67 |\n",
       "| 13 | Septic shock (CMS-HCC)                                                                                     | 2 | 1.67 |\n",
       "| 14 | Subarachnoid hemorrhage (CMS-HCC)                                                                          | 2 | 1.67 |\n",
       "| 15 | Acidemia                                                                                                   | 1 | 0.83 |\n",
       "| 16 | Acute respiratory failure with hypercapnia (CMS-HCC)                                                       | 1 | 0.83 |\n",
       "| 17 | Acute respiratory failure with hypoxia (CMS-HCC)                                                           | 1 | 0.83 |\n",
       "| 18 | Acute respiratory failure with hypoxia and hypercapnia (CMS-HCC)                                           | 1 | 0.83 |\n",
       "| 19 | Acute respiratory failure, unspecified whether with hypoxia or hypercapnia (CMS-HCC)                       | 1 | 0.83 |\n",
       "| 20 | Adrenal crisis syndrome (CMS-HCC)                                                                          | 1 | 0.83 |\n",
       "\n"
      ],
      "text/plain": [
       "   dx_name                                                                                                   \n",
       "1  Diabetic ketoacidosis without coma associated with type 1 diabetes mellitus (CMS-HCC)                     \n",
       "2  Diabetic ketoacidosis without coma associated with diabetes mellitus due to underlying condition (CMS-HCC)\n",
       "3  Diabetic ketoacidosis without coma associated with other specified diabetes mellitus (CMS-HCC)            \n",
       "4  Diabetic ketoacidosis without coma associated with type 2 diabetes mellitus (CMS-HCC)                     \n",
       "5  Hypertensive emergency                                                                                    \n",
       "6  Hyponatremia                                                                                              \n",
       "7  ST elevation myocardial infarction (STEMI), unspecified artery (CMS-HCC)                                  \n",
       "8  Acute upper GI bleeding                                                                                   \n",
       "9  Cerebrovascular accident (CVA), unspecified mechanism (CMS-HCC)                                           \n",
       "10 Diabetic ketoacidosis with coma associated with type 1 diabetes mellitus (CMS-HCC)                        \n",
       "11 Hyperglycemic hyperosmolar nonketotic coma (CMS-HCC)                                                      \n",
       "12 Intracranial hemorrhage (CMS-HCC)                                                                         \n",
       "13 Septic shock (CMS-HCC)                                                                                    \n",
       "14 Subarachnoid hemorrhage (CMS-HCC)                                                                         \n",
       "15 Acidemia                                                                                                  \n",
       "16 Acute respiratory failure with hypercapnia (CMS-HCC)                                                      \n",
       "17 Acute respiratory failure with hypoxia (CMS-HCC)                                                          \n",
       "18 Acute respiratory failure with hypoxia and hypercapnia (CMS-HCC)                                          \n",
       "19 Acute respiratory failure, unspecified whether with hypoxia or hypercapnia (CMS-HCC)                      \n",
       "20 Adrenal crisis syndrome (CMS-HCC)                                                                         \n",
       "   n perc\n",
       "1  6 5.00\n",
       "2  5 4.17\n",
       "3  5 4.17\n",
       "4  5 4.17\n",
       "5  3 2.50\n",
       "6  3 2.50\n",
       "7  3 2.50\n",
       "8  2 1.67\n",
       "9  2 1.67\n",
       "10 2 1.67\n",
       "11 2 1.67\n",
       "12 2 1.67\n",
       "13 2 1.67\n",
       "14 2 1.67\n",
       "15 1 0.83\n",
       "16 1 0.83\n",
       "17 1 0.83\n",
       "18 1 0.83\n",
       "19 1 0.83\n",
       "20 1 0.83"
      ]
     },
     "metadata": {},
     "output_type": "display_data"
    }
   ],
   "source": [
    "coh_dx %>% filter(ed==\"Y\", primary==\"Y\") %>% distinct(pat_enc_csn_id_coded, dx_name) %>% count(dx_name) %>% \n",
    "    mutate(perc = round(100*n/120, 2)) %>% arrange(-n) %>% head(20)"
   ]
  },
  {
   "cell_type": "code",
   "execution_count": 69,
   "metadata": {},
   "outputs": [
    {
     "data": {
      "text/html": [
       "<table>\n",
       "<caption>A data.frame: 20 × 2</caption>\n",
       "<thead>\n",
       "\t<tr><th></th><th scope=col>dx_name</th><th scope=col>n</th></tr>\n",
       "\t<tr><th></th><th scope=col>&lt;chr&gt;</th><th scope=col>&lt;int&gt;</th></tr>\n",
       "</thead>\n",
       "<tbody>\n",
       "\t<tr><th scope=row>1</th><td>Septic shock (CMS-HCC)                                                                                    </td><td>2358</td></tr>\n",
       "\t<tr><th scope=row>2</th><td>Diabetic ketoacidosis without coma associated with type 1 diabetes mellitus (CMS-HCC)                     </td><td>1985</td></tr>\n",
       "\t<tr><th scope=row>3</th><td>Diabetic ketoacidosis without coma associated with diabetes mellitus due to underlying condition (CMS-HCC)</td><td>1697</td></tr>\n",
       "\t<tr><th scope=row>4</th><td>Hypertensive emergency                                                                                    </td><td>1320</td></tr>\n",
       "\t<tr><th scope=row>5</th><td>Flash pulmonary edema (CMS-HCC)                                                                           </td><td>1243</td></tr>\n",
       "\t<tr><th scope=row>6</th><td>Diabetic ketoacidosis without coma associated with other specified diabetes mellitus (CMS-HCC)            </td><td>1129</td></tr>\n",
       "\t<tr><th scope=row>7</th><td>Diabetic ketoacidosis without coma associated with type 2 diabetes mellitus (CMS-HCC)                     </td><td> 930</td></tr>\n",
       "\t<tr><th scope=row>8</th><td>Subdural hematoma (CMS-HCC)                                                                               </td><td> 892</td></tr>\n",
       "\t<tr><th scope=row>9</th><td>Acute respiratory failure with hypoxia and hypercapnia (CMS-HCC)                                          </td><td> 802</td></tr>\n",
       "\t<tr><th scope=row>10</th><td>ST elevation myocardial infarction (STEMI), unspecified artery (CMS-HCC)                                  </td><td> 730</td></tr>\n",
       "\t<tr><th scope=row>11</th><td>Chest pain, unspecified type                                                                              </td><td> 717</td></tr>\n",
       "\t<tr><th scope=row>12</th><td>Acute respiratory failure with hypoxia and hypercarbia (CMS-HCC)                                          </td><td> 666</td></tr>\n",
       "\t<tr><th scope=row>13</th><td>Sepsis, due to unspecified organism                                                                       </td><td> 642</td></tr>\n",
       "\t<tr><th scope=row>14</th><td>Hypoxia                                                                                                   </td><td> 634</td></tr>\n",
       "\t<tr><th scope=row>15</th><td>Hyponatremia                                                                                              </td><td> 623</td></tr>\n",
       "\t<tr><th scope=row>16</th><td>Sepsis without acute organ dysfunction, due to unspecified organism (CMS-HCC)                             </td><td> 616</td></tr>\n",
       "\t<tr><th scope=row>17</th><td>Hypertension, unspecified type                                                                            </td><td> 602</td></tr>\n",
       "\t<tr><th scope=row>18</th><td>Diabetic ketoacidosis with coma associated with type 1 diabetes mellitus (CMS-HCC)                        </td><td> 598</td></tr>\n",
       "\t<tr><th scope=row>19</th><td>Gastrointestinal hemorrhage, unspecified gastrointestinal hemorrhage type                                 </td><td> 598</td></tr>\n",
       "\t<tr><th scope=row>20</th><td>Acute respiratory failure with hypercapnia (CMS-HCC)                                                      </td><td> 573</td></tr>\n",
       "</tbody>\n",
       "</table>\n"
      ],
      "text/latex": [
       "A data.frame: 20 × 2\n",
       "\\begin{tabular}{r|ll}\n",
       "  & dx\\_name & n\\\\\n",
       "  & <chr> & <int>\\\\\n",
       "\\hline\n",
       "\t1 & Septic shock (CMS-HCC)                                                                                     & 2358\\\\\n",
       "\t2 & Diabetic ketoacidosis without coma associated with type 1 diabetes mellitus (CMS-HCC)                      & 1985\\\\\n",
       "\t3 & Diabetic ketoacidosis without coma associated with diabetes mellitus due to underlying condition (CMS-HCC) & 1697\\\\\n",
       "\t4 & Hypertensive emergency                                                                                     & 1320\\\\\n",
       "\t5 & Flash pulmonary edema (CMS-HCC)                                                                            & 1243\\\\\n",
       "\t6 & Diabetic ketoacidosis without coma associated with other specified diabetes mellitus (CMS-HCC)             & 1129\\\\\n",
       "\t7 & Diabetic ketoacidosis without coma associated with type 2 diabetes mellitus (CMS-HCC)                      &  930\\\\\n",
       "\t8 & Subdural hematoma (CMS-HCC)                                                                                &  892\\\\\n",
       "\t9 & Acute respiratory failure with hypoxia and hypercapnia (CMS-HCC)                                           &  802\\\\\n",
       "\t10 & ST elevation myocardial infarction (STEMI), unspecified artery (CMS-HCC)                                   &  730\\\\\n",
       "\t11 & Chest pain, unspecified type                                                                               &  717\\\\\n",
       "\t12 & Acute respiratory failure with hypoxia and hypercarbia (CMS-HCC)                                           &  666\\\\\n",
       "\t13 & Sepsis, due to unspecified organism                                                                        &  642\\\\\n",
       "\t14 & Hypoxia                                                                                                    &  634\\\\\n",
       "\t15 & Hyponatremia                                                                                               &  623\\\\\n",
       "\t16 & Sepsis without acute organ dysfunction, due to unspecified organism (CMS-HCC)                              &  616\\\\\n",
       "\t17 & Hypertension, unspecified type                                                                             &  602\\\\\n",
       "\t18 & Diabetic ketoacidosis with coma associated with type 1 diabetes mellitus (CMS-HCC)                         &  598\\\\\n",
       "\t19 & Gastrointestinal hemorrhage, unspecified gastrointestinal hemorrhage type                                  &  598\\\\\n",
       "\t20 & Acute respiratory failure with hypercapnia (CMS-HCC)                                                       &  573\\\\\n",
       "\\end{tabular}\n"
      ],
      "text/markdown": [
       "\n",
       "A data.frame: 20 × 2\n",
       "\n",
       "| <!--/--> | dx_name &lt;chr&gt; | n &lt;int&gt; |\n",
       "|---|---|---|\n",
       "| 1 | Septic shock (CMS-HCC)                                                                                     | 2358 |\n",
       "| 2 | Diabetic ketoacidosis without coma associated with type 1 diabetes mellitus (CMS-HCC)                      | 1985 |\n",
       "| 3 | Diabetic ketoacidosis without coma associated with diabetes mellitus due to underlying condition (CMS-HCC) | 1697 |\n",
       "| 4 | Hypertensive emergency                                                                                     | 1320 |\n",
       "| 5 | Flash pulmonary edema (CMS-HCC)                                                                            | 1243 |\n",
       "| 6 | Diabetic ketoacidosis without coma associated with other specified diabetes mellitus (CMS-HCC)             | 1129 |\n",
       "| 7 | Diabetic ketoacidosis without coma associated with type 2 diabetes mellitus (CMS-HCC)                      |  930 |\n",
       "| 8 | Subdural hematoma (CMS-HCC)                                                                                |  892 |\n",
       "| 9 | Acute respiratory failure with hypoxia and hypercapnia (CMS-HCC)                                           |  802 |\n",
       "| 10 | ST elevation myocardial infarction (STEMI), unspecified artery (CMS-HCC)                                   |  730 |\n",
       "| 11 | Chest pain, unspecified type                                                                               |  717 |\n",
       "| 12 | Acute respiratory failure with hypoxia and hypercarbia (CMS-HCC)                                           |  666 |\n",
       "| 13 | Sepsis, due to unspecified organism                                                                        |  642 |\n",
       "| 14 | Hypoxia                                                                                                    |  634 |\n",
       "| 15 | Hyponatremia                                                                                               |  623 |\n",
       "| 16 | Sepsis without acute organ dysfunction, due to unspecified organism (CMS-HCC)                              |  616 |\n",
       "| 17 | Hypertension, unspecified type                                                                             |  602 |\n",
       "| 18 | Diabetic ketoacidosis with coma associated with type 1 diabetes mellitus (CMS-HCC)                         |  598 |\n",
       "| 19 | Gastrointestinal hemorrhage, unspecified gastrointestinal hemorrhage type                                  |  598 |\n",
       "| 20 | Acute respiratory failure with hypercapnia (CMS-HCC)                                                       |  573 |\n",
       "\n"
      ],
      "text/plain": [
       "   dx_name                                                                                                   \n",
       "1  Septic shock (CMS-HCC)                                                                                    \n",
       "2  Diabetic ketoacidosis without coma associated with type 1 diabetes mellitus (CMS-HCC)                     \n",
       "3  Diabetic ketoacidosis without coma associated with diabetes mellitus due to underlying condition (CMS-HCC)\n",
       "4  Hypertensive emergency                                                                                    \n",
       "5  Flash pulmonary edema (CMS-HCC)                                                                           \n",
       "6  Diabetic ketoacidosis without coma associated with other specified diabetes mellitus (CMS-HCC)            \n",
       "7  Diabetic ketoacidosis without coma associated with type 2 diabetes mellitus (CMS-HCC)                     \n",
       "8  Subdural hematoma (CMS-HCC)                                                                               \n",
       "9  Acute respiratory failure with hypoxia and hypercapnia (CMS-HCC)                                          \n",
       "10 ST elevation myocardial infarction (STEMI), unspecified artery (CMS-HCC)                                  \n",
       "11 Chest pain, unspecified type                                                                              \n",
       "12 Acute respiratory failure with hypoxia and hypercarbia (CMS-HCC)                                          \n",
       "13 Sepsis, due to unspecified organism                                                                       \n",
       "14 Hypoxia                                                                                                   \n",
       "15 Hyponatremia                                                                                              \n",
       "16 Sepsis without acute organ dysfunction, due to unspecified organism (CMS-HCC)                             \n",
       "17 Hypertension, unspecified type                                                                            \n",
       "18 Diabetic ketoacidosis with coma associated with type 1 diabetes mellitus (CMS-HCC)                        \n",
       "19 Gastrointestinal hemorrhage, unspecified gastrointestinal hemorrhage type                                 \n",
       "20 Acute respiratory failure with hypercapnia (CMS-HCC)                                                      \n",
       "   n   \n",
       "1  2358\n",
       "2  1985\n",
       "3  1697\n",
       "4  1320\n",
       "5  1243\n",
       "6  1129\n",
       "7   930\n",
       "8   892\n",
       "9   802\n",
       "10  730\n",
       "11  717\n",
       "12  666\n",
       "13  642\n",
       "14  634\n",
       "15  623\n",
       "16  616\n",
       "17  602\n",
       "18  598\n",
       "19  598\n",
       "20  573"
      ]
     },
     "metadata": {},
     "output_type": "display_data"
    }
   ],
   "source": [
    "cohed %>% filter(ed == \"Y\", primary==\"Y\") %>% count(dx_name, sort=TRUE) %>% head(20)"
   ]
  }
 ],
 "metadata": {
  "environment": {
   "name": "r-cpu.4-0.m71",
   "type": "gcloud",
   "uri": "gcr.io/deeplearning-platform-release/r-cpu.4-0:m71"
  },
  "kernelspec": {
   "display_name": "R",
   "language": "R",
   "name": "ir"
  },
  "language_info": {
   "codemirror_mode": "r",
   "file_extension": ".r",
   "mimetype": "text/x-r-source",
   "name": "R",
   "pygments_lexer": "r",
   "version": "4.1.0"
  },
  "toc": {
   "base_numbering": 1,
   "nav_menu": {},
   "number_sections": true,
   "sideBar": true,
   "skip_h1_title": false,
   "title_cell": "Table of Contents",
   "title_sidebar": "Contents",
   "toc_cell": false,
   "toc_position": {},
   "toc_section_display": true,
   "toc_window_display": false
  },
  "varInspector": {
   "cols": {
    "lenName": 16,
    "lenType": 16,
    "lenVar": 40
   },
   "kernels_config": {
    "python": {
     "delete_cmd_postfix": "",
     "delete_cmd_prefix": "del ",
     "library": "var_list.py",
     "varRefreshCmd": "print(var_dic_list())"
    },
    "r": {
     "delete_cmd_postfix": ") ",
     "delete_cmd_prefix": "rm(",
     "library": "var_list.r",
     "varRefreshCmd": "cat(var_dic_list()) "
    }
   },
   "types_to_exclude": [
    "module",
    "function",
    "builtin_function_or_method",
    "instance",
    "_Feature"
   ],
   "window_display": false
  }
 },
 "nbformat": 4,
 "nbformat_minor": 4
}
