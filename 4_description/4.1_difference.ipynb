{
 "cells": [
  {
   "cell_type": "markdown",
   "metadata": {},
   "source": [
    "## Descriptions:\n",
    "- Query other tables on shc\n",
    "\n",
    "**Inputs**:  \n",
    "- `1_4_cohort_diff_full_features`: contains cohort with most difference pdiff >= 0.3\n",
    "    - 24hrpreadmit: 324 total\n",
    "    - all: 318 total\n",
    "**Outputs**: \n"
   ]
  },
  {
   "cell_type": "raw",
   "metadata": {},
   "source": [
    "install.packages('bigrquery')\n",
    "# Installing package into 'C:/Users/User/Documents/R/win-library/4.0'\n",
    "# (as 'lib' is unspecified)\n",
    "# The downloaded binary packages are in\n",
    "# \tC:\\Users\\User\\AppData\\Local\\Temp\\RtmpaumGcc\\downloaded_packages"
   ]
  },
  {
   "cell_type": "markdown",
   "metadata": {},
   "source": [
    "### Importing R libraries"
   ]
  },
  {
   "cell_type": "code",
   "execution_count": 1,
   "metadata": {
    "ExecuteTime": {
     "end_time": "2020-05-21T00:38:06.078240Z",
     "start_time": "2020-05-21T00:38:02.778Z"
    }
   },
   "outputs": [
    {
     "name": "stderr",
     "output_type": "stream",
     "text": [
      "── \u001b[1mAttaching packages\u001b[22m ─────────────────────────────────────── tidyverse 1.3.1 ──\n",
      "\n",
      "\u001b[32m✔\u001b[39m \u001b[34mggplot2\u001b[39m 3.3.3     \u001b[32m✔\u001b[39m \u001b[34mpurrr  \u001b[39m 0.3.4\n",
      "\u001b[32m✔\u001b[39m \u001b[34mtibble \u001b[39m 3.1.2     \u001b[32m✔\u001b[39m \u001b[34mdplyr  \u001b[39m 1.0.6\n",
      "\u001b[32m✔\u001b[39m \u001b[34mtidyr  \u001b[39m 1.1.3     \u001b[32m✔\u001b[39m \u001b[34mstringr\u001b[39m 1.4.0\n",
      "\u001b[32m✔\u001b[39m \u001b[34mreadr  \u001b[39m 1.4.0     \u001b[32m✔\u001b[39m \u001b[34mforcats\u001b[39m 0.5.1\n",
      "\n",
      "── \u001b[1mConflicts\u001b[22m ────────────────────────────────────────── tidyverse_conflicts() ──\n",
      "\u001b[31m✖\u001b[39m \u001b[34mdplyr\u001b[39m::\u001b[32mfilter()\u001b[39m masks \u001b[34mstats\u001b[39m::filter()\n",
      "\u001b[31m✖\u001b[39m \u001b[34mdplyr\u001b[39m::\u001b[32mlag()\u001b[39m    masks \u001b[34mstats\u001b[39m::lag()\n",
      "\n",
      "\n",
      "Attaching package: ‘lubridate’\n",
      "\n",
      "\n",
      "The following objects are masked from ‘package:base’:\n",
      "\n",
      "    date, intersect, setdiff, union\n",
      "\n",
      "\n"
     ]
    }
   ],
   "source": [
    "library(bigrquery)  # to query STARR-OMOP (stored in BigQuery) using SQL\n",
    "library(tidyverse)\n",
    "library(lubridate)\n",
    "\n",
    "# options(repr.matrix.max.rows=250, repr.matrix.max.cols=30)"
   ]
  },
  {
   "cell_type": "markdown",
   "metadata": {},
   "source": [
    "### Set up and run queries"
   ]
  },
  {
   "cell_type": "code",
   "execution_count": 2,
   "metadata": {},
   "outputs": [
    {
     "data": {
      "text/plain": [
       "NULL"
      ]
     },
     "metadata": {},
     "output_type": "display_data"
    }
   ],
   "source": [
    "# CREDENTIALS depending on LOCATIONS:\n",
    "# credential <- paste0(\"/home/\", \"minh084\", \"/.config/gcloud/application_default_credentials.json\")\n",
    "\n",
    "# local computer\n",
    "# credential <- \"C:/Users/User/AppData/Roaming/gcloud/application_default_credentials.json\"\n",
    "\n",
    "# Nero onprem\n",
    "# credential <- \"/home/minh084/.config/gcloud/application_default_credentials.json\"\n",
    "\n",
    "# Nero gcp notebook\n",
    "credential <- \"/home/jupyter/.config/gcloud/application_default_credentials.json\"\n",
    "\n",
    "project_id <- \"som-nero-phi-jonc101\"\n",
    "\n",
    "Sys.setenv(GOOGLE_APPLICATION_CREDENTIALS = credential)\n",
    "Sys.setenv(GCLOUD_PROJECT = project_id)\n",
    "gargle::credentials_app_default()"
   ]
  },
  {
   "cell_type": "code",
   "execution_count": 15,
   "metadata": {},
   "outputs": [
    {
     "data": {
      "text/plain": [
       "<BigQueryConnection>\n",
       "  Dataset: som-nero-phi-jonc101.shc_core\n",
       "  Billing: som-nero-phi-jonc101"
      ]
     },
     "metadata": {},
     "output_type": "display_data"
    },
    {
     "data": {
      "text/html": [
       "<style>\n",
       ".list-inline {list-style: none; margin:0; padding: 0}\n",
       ".list-inline>li {display: inline-block}\n",
       ".list-inline>li:not(:last-child)::after {content: \"\\00b7\"; padding: 0 .5ex}\n",
       "</style>\n",
       "<ol class=list-inline><li>'adt'</li><li>'allergy'</li><li>'culture_sensitivity'</li><li>'demographic'</li><li>'dep_map'</li><li>'diagnosis_code'</li><li>'drg_code'</li><li>'encounter'</li><li>'family_hx'</li><li>'flowsheet'</li><li>'lab_result'</li><li>'lda'</li><li>'mapped_meds'</li><li>'mar'</li><li>'med_orderset'</li><li>'ndc_code'</li><li>'order_med'</li><li>'order_proc'</li><li>'order_quest'</li><li>'proc_note'</li><li>'proc_orderset'</li><li>'procedure_code'</li><li>'prov_map'</li><li>'social_hx'</li><li>'treatment_team'</li></ol>\n"
      ],
      "text/latex": [
       "\\begin{enumerate*}\n",
       "\\item 'adt'\n",
       "\\item 'allergy'\n",
       "\\item 'culture\\_sensitivity'\n",
       "\\item 'demographic'\n",
       "\\item 'dep\\_map'\n",
       "\\item 'diagnosis\\_code'\n",
       "\\item 'drg\\_code'\n",
       "\\item 'encounter'\n",
       "\\item 'family\\_hx'\n",
       "\\item 'flowsheet'\n",
       "\\item 'lab\\_result'\n",
       "\\item 'lda'\n",
       "\\item 'mapped\\_meds'\n",
       "\\item 'mar'\n",
       "\\item 'med\\_orderset'\n",
       "\\item 'ndc\\_code'\n",
       "\\item 'order\\_med'\n",
       "\\item 'order\\_proc'\n",
       "\\item 'order\\_quest'\n",
       "\\item 'proc\\_note'\n",
       "\\item 'proc\\_orderset'\n",
       "\\item 'procedure\\_code'\n",
       "\\item 'prov\\_map'\n",
       "\\item 'social\\_hx'\n",
       "\\item 'treatment\\_team'\n",
       "\\end{enumerate*}\n"
      ],
      "text/markdown": [
       "1. 'adt'\n",
       "2. 'allergy'\n",
       "3. 'culture_sensitivity'\n",
       "4. 'demographic'\n",
       "5. 'dep_map'\n",
       "6. 'diagnosis_code'\n",
       "7. 'drg_code'\n",
       "8. 'encounter'\n",
       "9. 'family_hx'\n",
       "10. 'flowsheet'\n",
       "11. 'lab_result'\n",
       "12. 'lda'\n",
       "13. 'mapped_meds'\n",
       "14. 'mar'\n",
       "15. 'med_orderset'\n",
       "16. 'ndc_code'\n",
       "17. 'order_med'\n",
       "18. 'order_proc'\n",
       "19. 'order_quest'\n",
       "20. 'proc_note'\n",
       "21. 'proc_orderset'\n",
       "22. 'procedure_code'\n",
       "23. 'prov_map'\n",
       "24. 'social_hx'\n",
       "25. 'treatment_team'\n",
       "\n",
       "\n"
      ],
      "text/plain": [
       " [1] \"adt\"                 \"allergy\"             \"culture_sensitivity\"\n",
       " [4] \"demographic\"         \"dep_map\"             \"diagnosis_code\"     \n",
       " [7] \"drg_code\"            \"encounter\"           \"family_hx\"          \n",
       "[10] \"flowsheet\"           \"lab_result\"          \"lda\"                \n",
       "[13] \"mapped_meds\"         \"mar\"                 \"med_orderset\"       \n",
       "[16] \"ndc_code\"            \"order_med\"           \"order_proc\"         \n",
       "[19] \"order_quest\"         \"proc_note\"           \"proc_orderset\"      \n",
       "[22] \"procedure_code\"      \"prov_map\"            \"social_hx\"          \n",
       "[25] \"treatment_team\"     "
      ]
     },
     "metadata": {},
     "output_type": "display_data"
    }
   ],
   "source": [
    "library(DBI)\n",
    "con <- dbConnect(\n",
    "  bigrquery::bigquery(),\n",
    "  project = project_id,\n",
    "  dataset = \"shc_core\" #, billing = project_id\n",
    ")\n",
    "con \n",
    "dbListTables(con)"
   ]
  },
  {
   "cell_type": "code",
   "execution_count": 4,
   "metadata": {},
   "outputs": [],
   "source": [
    "# directories\n",
    "datadir = \"../../DataTD\"\n",
    "cohortdir = \"../../OutputTD/1_cohort\"\n",
    "featuredir = \"../../OutputTD/2_features\"\n",
    "# modeldir4 = \"../../OutputTD/3_models/1_4_cohort\"\n",
    "modeldir4preadmit = \"../../OutputTD/3_models/1_4_cohort_24hrpreadmit\"\n",
    "\n",
    "options(repr.matrix.max.rows=200, repr.matrix.max.cols=30)"
   ]
  },
  {
   "cell_type": "code",
   "execution_count": 11,
   "metadata": {},
   "outputs": [
    {
     "data": {
      "text/html": [
       "69334"
      ],
      "text/latex": [
       "69334"
      ],
      "text/markdown": [
       "69334"
      ],
      "text/plain": [
       "[1] 69334"
      ]
     },
     "metadata": {},
     "output_type": "display_data"
    },
    {
     "data": {
      "text/html": [
       "304"
      ],
      "text/latex": [
       "304"
      ],
      "text/markdown": [
       "304"
      ],
      "text/plain": [
       "[1] 304"
      ]
     },
     "metadata": {},
     "output_type": "display_data"
    },
    {
     "data": {
      "text/html": [
       "324"
      ],
      "text/latex": [
       "324"
      ],
      "text/markdown": [
       "324"
      ],
      "text/plain": [
       "[1] 324"
      ]
     },
     "metadata": {},
     "output_type": "display_data"
    },
    {
     "data": {
      "text/html": [
       "<table class=\"dataframe\">\n",
       "<caption>A tibble: 5 × 5</caption>\n",
       "<thead>\n",
       "\t<tr><th scope=col>abs_diff0_24</th><th scope=col>nrows</th><th scope=col>count_csn</th><th scope=col>count_mrn</th><th scope=col>cum_csn</th></tr>\n",
       "\t<tr><th scope=col>&lt;dbl&gt;</th><th scope=col>&lt;int&gt;</th><th scope=col>&lt;int&gt;</th><th scope=col>&lt;int&gt;</th><th scope=col>&lt;int&gt;</th></tr>\n",
       "</thead>\n",
       "<tbody>\n",
       "\t<tr><td>0.7</td><td>  631</td><td>  4</td><td>  4</td><td>  4</td></tr>\n",
       "\t<tr><td>0.6</td><td> 2218</td><td> 10</td><td> 10</td><td> 14</td></tr>\n",
       "\t<tr><td>0.5</td><td> 6379</td><td> 23</td><td> 21</td><td> 37</td></tr>\n",
       "\t<tr><td>0.4</td><td>17906</td><td> 83</td><td> 82</td><td>120</td></tr>\n",
       "\t<tr><td>0.3</td><td>42200</td><td>204</td><td>203</td><td>324</td></tr>\n",
       "</tbody>\n",
       "</table>\n"
      ],
      "text/latex": [
       "A tibble: 5 × 5\n",
       "\\begin{tabular}{lllll}\n",
       " abs\\_diff0\\_24 & nrows & count\\_csn & count\\_mrn & cum\\_csn\\\\\n",
       " <dbl> & <int> & <int> & <int> & <int>\\\\\n",
       "\\hline\n",
       "\t 0.7 &   631 &   4 &   4 &   4\\\\\n",
       "\t 0.6 &  2218 &  10 &  10 &  14\\\\\n",
       "\t 0.5 &  6379 &  23 &  21 &  37\\\\\n",
       "\t 0.4 & 17906 &  83 &  82 & 120\\\\\n",
       "\t 0.3 & 42200 & 204 & 203 & 324\\\\\n",
       "\\end{tabular}\n"
      ],
      "text/markdown": [
       "\n",
       "A tibble: 5 × 5\n",
       "\n",
       "| abs_diff0_24 &lt;dbl&gt; | nrows &lt;int&gt; | count_csn &lt;int&gt; | count_mrn &lt;int&gt; | cum_csn &lt;int&gt; |\n",
       "|---|---|---|---|---|\n",
       "| 0.7 |   631 |   4 |   4 |   4 |\n",
       "| 0.6 |  2218 |  10 |  10 |  14 |\n",
       "| 0.5 |  6379 |  23 |  21 |  37 |\n",
       "| 0.4 | 17906 |  83 |  82 | 120 |\n",
       "| 0.3 | 42200 | 204 | 203 | 324 |\n",
       "\n"
      ],
      "text/plain": [
       "  abs_diff0_24 nrows count_csn count_mrn cum_csn\n",
       "1 0.7            631   4         4         4    \n",
       "2 0.6           2218  10        10        14    \n",
       "3 0.5           6379  23        21        37    \n",
       "4 0.4          17906  83        82       120    \n",
       "5 0.3          42200 204       203       324    "
      ]
     },
     "metadata": {},
     "output_type": "display_data"
    }
   ],
   "source": [
    "cohort <- read.csv(file.path(modeldir4preadmit, \"1_4_cohort_diff_full_features.csv\"))\n",
    "\n",
    "nrow(cohort) # 69334\n",
    "nrow(cohort %>% select(anon_id) %>% distinct()) # 304\n",
    "nrow(cohort %>% select(pat_enc_csn_id_coded) %>% distinct()) # 324\n",
    "\n",
    "# count anon_id and csn\n",
    "cohort %>% group_by(abs_diff0_24) %>% \n",
    "            summarise(nrows = n(), count_csn = n_distinct(pat_enc_csn_id_coded), count_mrn = n_distinct(anon_id)) %>% \n",
    "            arrange(-abs_diff0_24) %>% mutate(cum_csn = cumsum(count_csn))"
   ]
  },
  {
   "cell_type": "code",
   "execution_count": 13,
   "metadata": {},
   "outputs": [
    {
     "data": {
      "text/html": [
       "<table class=\"dataframe\">\n",
       "<caption>A data.frame: 1 × 16</caption>\n",
       "<thead>\n",
       "\t<tr><th></th><th scope=col>anon_id</th><th scope=col>pat_enc_csn_id_coded</th><th scope=col>admit_time</th><th scope=col>first_label</th><th scope=col>death_24hr_recent_label</th><th scope=col>death_24hr_max_label</th><th scope=col>pred_first</th><th scope=col>pred_death_24hr_recent</th><th scope=col>abs_diff0_24</th><th scope=col>diff0_True</th><th scope=col>diff24_True</th><th scope=col>feature_type</th><th scope=col>features</th><th scope=col>values</th><th scope=col>time</th><th scope=col>hr_before_admit</th></tr>\n",
       "\t<tr><th></th><th scope=col>&lt;chr&gt;</th><th scope=col>&lt;dbl&gt;</th><th scope=col>&lt;chr&gt;</th><th scope=col>&lt;int&gt;</th><th scope=col>&lt;int&gt;</th><th scope=col>&lt;int&gt;</th><th scope=col>&lt;dbl&gt;</th><th scope=col>&lt;dbl&gt;</th><th scope=col>&lt;dbl&gt;</th><th scope=col>&lt;dbl&gt;</th><th scope=col>&lt;dbl&gt;</th><th scope=col>&lt;chr&gt;</th><th scope=col>&lt;chr&gt;</th><th scope=col>&lt;dbl&gt;</th><th scope=col>&lt;chr&gt;</th><th scope=col>&lt;dbl&gt;</th></tr>\n",
       "</thead>\n",
       "<tbody>\n",
       "\t<tr><th scope=row>1</th><td>JCcd3b9d</td><td>131267453587</td><td>2019-04-06 23:15:00</td><td>1</td><td>1</td><td>1</td><td>0.5606636</td><td>0.2180124</td><td>0.3</td><td>-0.44</td><td>-0.78</td><td>Procedures</td><td>LIMITED ULTRASOUND- CARDIAC TRANSTHORACIC ECHO</td><td>1</td><td>NA</td><td>NA</td></tr>\n",
       "</tbody>\n",
       "</table>\n"
      ],
      "text/latex": [
       "A data.frame: 1 × 16\n",
       "\\begin{tabular}{r|llllllllllllllll}\n",
       "  & anon\\_id & pat\\_enc\\_csn\\_id\\_coded & admit\\_time & first\\_label & death\\_24hr\\_recent\\_label & death\\_24hr\\_max\\_label & pred\\_first & pred\\_death\\_24hr\\_recent & abs\\_diff0\\_24 & diff0\\_True & diff24\\_True & feature\\_type & features & values & time & hr\\_before\\_admit\\\\\n",
       "  & <chr> & <dbl> & <chr> & <int> & <int> & <int> & <dbl> & <dbl> & <dbl> & <dbl> & <dbl> & <chr> & <chr> & <dbl> & <chr> & <dbl>\\\\\n",
       "\\hline\n",
       "\t1 & JCcd3b9d & 131267453587 & 2019-04-06 23:15:00 & 1 & 1 & 1 & 0.5606636 & 0.2180124 & 0.3 & -0.44 & -0.78 & Procedures & LIMITED ULTRASOUND- CARDIAC TRANSTHORACIC ECHO & 1 & NA & NA\\\\\n",
       "\\end{tabular}\n"
      ],
      "text/markdown": [
       "\n",
       "A data.frame: 1 × 16\n",
       "\n",
       "| <!--/--> | anon_id &lt;chr&gt; | pat_enc_csn_id_coded &lt;dbl&gt; | admit_time &lt;chr&gt; | first_label &lt;int&gt; | death_24hr_recent_label &lt;int&gt; | death_24hr_max_label &lt;int&gt; | pred_first &lt;dbl&gt; | pred_death_24hr_recent &lt;dbl&gt; | abs_diff0_24 &lt;dbl&gt; | diff0_True &lt;dbl&gt; | diff24_True &lt;dbl&gt; | feature_type &lt;chr&gt; | features &lt;chr&gt; | values &lt;dbl&gt; | time &lt;chr&gt; | hr_before_admit &lt;dbl&gt; |\n",
       "|---|---|---|---|---|---|---|---|---|---|---|---|---|---|---|---|---|\n",
       "| 1 | JCcd3b9d | 131267453587 | 2019-04-06 23:15:00 | 1 | 1 | 1 | 0.5606636 | 0.2180124 | 0.3 | -0.44 | -0.78 | Procedures | LIMITED ULTRASOUND- CARDIAC TRANSTHORACIC ECHO | 1 | NA | NA |\n",
       "\n"
      ],
      "text/plain": [
       "  anon_id  pat_enc_csn_id_coded admit_time          first_label\n",
       "1 JCcd3b9d 131267453587         2019-04-06 23:15:00 1          \n",
       "  death_24hr_recent_label death_24hr_max_label pred_first\n",
       "1 1                       1                    0.5606636 \n",
       "  pred_death_24hr_recent abs_diff0_24 diff0_True diff24_True feature_type\n",
       "1 0.2180124              0.3          -0.44      -0.78       Procedures  \n",
       "  features                                       values time hr_before_admit\n",
       "1 LIMITED ULTRASOUND- CARDIAC TRANSTHORACIC ECHO 1      NA   NA             "
      ]
     },
     "metadata": {},
     "output_type": "display_data"
    },
    {
     "data": {
      "text/html": [
       "<style>\n",
       ".list-inline {list-style: none; margin:0; padding: 0}\n",
       ".list-inline>li {display: inline-block}\n",
       ".list-inline>li:not(:last-child)::after {content: \"\\00b7\"; padding: 0 .5ex}\n",
       "</style>\n",
       "<ol class=list-inline><li>'anon_id'</li><li>'pat_enc_csn_id_coded'</li><li>'admit_time'</li><li>'first_label'</li><li>'death_24hr_recent_label'</li><li>'death_24hr_max_label'</li><li>'pred_first'</li><li>'pred_death_24hr_recent'</li><li>'abs_diff0_24'</li><li>'diff0_True'</li><li>'diff24_True'</li><li>'feature_type'</li><li>'features'</li><li>'values'</li><li>'time'</li><li>'hr_before_admit'</li></ol>\n"
      ],
      "text/latex": [
       "\\begin{enumerate*}\n",
       "\\item 'anon\\_id'\n",
       "\\item 'pat\\_enc\\_csn\\_id\\_coded'\n",
       "\\item 'admit\\_time'\n",
       "\\item 'first\\_label'\n",
       "\\item 'death\\_24hr\\_recent\\_label'\n",
       "\\item 'death\\_24hr\\_max\\_label'\n",
       "\\item 'pred\\_first'\n",
       "\\item 'pred\\_death\\_24hr\\_recent'\n",
       "\\item 'abs\\_diff0\\_24'\n",
       "\\item 'diff0\\_True'\n",
       "\\item 'diff24\\_True'\n",
       "\\item 'feature\\_type'\n",
       "\\item 'features'\n",
       "\\item 'values'\n",
       "\\item 'time'\n",
       "\\item 'hr\\_before\\_admit'\n",
       "\\end{enumerate*}\n"
      ],
      "text/markdown": [
       "1. 'anon_id'\n",
       "2. 'pat_enc_csn_id_coded'\n",
       "3. 'admit_time'\n",
       "4. 'first_label'\n",
       "5. 'death_24hr_recent_label'\n",
       "6. 'death_24hr_max_label'\n",
       "7. 'pred_first'\n",
       "8. 'pred_death_24hr_recent'\n",
       "9. 'abs_diff0_24'\n",
       "10. 'diff0_True'\n",
       "11. 'diff24_True'\n",
       "12. 'feature_type'\n",
       "13. 'features'\n",
       "14. 'values'\n",
       "15. 'time'\n",
       "16. 'hr_before_admit'\n",
       "\n",
       "\n"
      ],
      "text/plain": [
       " [1] \"anon_id\"                 \"pat_enc_csn_id_coded\"   \n",
       " [3] \"admit_time\"              \"first_label\"            \n",
       " [5] \"death_24hr_recent_label\" \"death_24hr_max_label\"   \n",
       " [7] \"pred_first\"              \"pred_death_24hr_recent\" \n",
       " [9] \"abs_diff0_24\"            \"diff0_True\"             \n",
       "[11] \"diff24_True\"             \"feature_type\"           \n",
       "[13] \"features\"                \"values\"                 \n",
       "[15] \"time\"                    \"hr_before_admit\"        "
      ]
     },
     "metadata": {},
     "output_type": "display_data"
    }
   ],
   "source": [
    "head(cohort, 1)\n",
    "colnames(cohort)"
   ]
  },
  {
   "cell_type": "markdown",
   "metadata": {},
   "source": [
    "### ADT table"
   ]
  },
  {
   "cell_type": "code",
   "execution_count": 20,
   "metadata": {},
   "outputs": [
    {
     "name": "stderr",
     "output_type": "stream",
     "text": [
      "Warning message in as.integer.integer64(x):\n",
      "“NAs produced by integer overflow”\n"
     ]
    },
    {
     "data": {
      "text/html": [
       "<style>\n",
       ".list-inline {list-style: none; margin:0; padding: 0}\n",
       ".list-inline>li {display: inline-block}\n",
       ".list-inline>li:not(:last-child)::after {content: \"\\00b7\"; padding: 0 .5ex}\n",
       "</style>\n",
       "<ol class=list-inline><li>1385721</li><li>30</li></ol>\n"
      ],
      "text/latex": [
       "\\begin{enumerate*}\n",
       "\\item 1385721\n",
       "\\item 30\n",
       "\\end{enumerate*}\n"
      ],
      "text/markdown": [
       "1. 1385721\n",
       "2. 30\n",
       "\n",
       "\n"
      ],
      "text/plain": [
       "[1] 1385721      30"
      ]
     },
     "metadata": {},
     "output_type": "display_data"
    },
    {
     "data": {
      "text/html": [
       "<style>\n",
       ".list-inline {list-style: none; margin:0; padding: 0}\n",
       ".list-inline>li {display: inline-block}\n",
       ".list-inline>li:not(:last-child)::after {content: \"\\00b7\"; padding: 0 .5ex}\n",
       "</style>\n",
       "<ol class=list-inline><li>'anon_id'</li><li>'pat_enc_csn_id_coded'</li><li>'admit_time'</li><li>'first_label'</li><li>'death_24hr_recent_label'</li><li>'death_24hr_max_label'</li><li>'pred_first'</li><li>'pred_death_24hr_recent'</li><li>'event_type_c'</li><li>'event_type'</li><li>'pat_class_c'</li><li>'pat_class'</li><li>'base_pat_class_c'</li><li>'base_pat_class'</li><li>'pat_service_c'</li><li>'pat_service'</li><li>'pat_lvl_of_care_c'</li><li>'pat_lv_of_care'</li><li>'accommodation_c'</li><li>'accomodation'</li><li>'in_event_type_c'</li><li>'in_event_type'</li><li>'out_event_type_c'</li><li>'out_event_type'</li><li>'from_base_class_c'</li><li>'from_base_class'</li><li>'to_base_class_c'</li><li>'to_base_class'</li><li>'seq_num_in_enc'</li><li>'seq_num_in_bed_min'</li></ol>\n"
      ],
      "text/latex": [
       "\\begin{enumerate*}\n",
       "\\item 'anon\\_id'\n",
       "\\item 'pat\\_enc\\_csn\\_id\\_coded'\n",
       "\\item 'admit\\_time'\n",
       "\\item 'first\\_label'\n",
       "\\item 'death\\_24hr\\_recent\\_label'\n",
       "\\item 'death\\_24hr\\_max\\_label'\n",
       "\\item 'pred\\_first'\n",
       "\\item 'pred\\_death\\_24hr\\_recent'\n",
       "\\item 'event\\_type\\_c'\n",
       "\\item 'event\\_type'\n",
       "\\item 'pat\\_class\\_c'\n",
       "\\item 'pat\\_class'\n",
       "\\item 'base\\_pat\\_class\\_c'\n",
       "\\item 'base\\_pat\\_class'\n",
       "\\item 'pat\\_service\\_c'\n",
       "\\item 'pat\\_service'\n",
       "\\item 'pat\\_lvl\\_of\\_care\\_c'\n",
       "\\item 'pat\\_lv\\_of\\_care'\n",
       "\\item 'accommodation\\_c'\n",
       "\\item 'accomodation'\n",
       "\\item 'in\\_event\\_type\\_c'\n",
       "\\item 'in\\_event\\_type'\n",
       "\\item 'out\\_event\\_type\\_c'\n",
       "\\item 'out\\_event\\_type'\n",
       "\\item 'from\\_base\\_class\\_c'\n",
       "\\item 'from\\_base\\_class'\n",
       "\\item 'to\\_base\\_class\\_c'\n",
       "\\item 'to\\_base\\_class'\n",
       "\\item 'seq\\_num\\_in\\_enc'\n",
       "\\item 'seq\\_num\\_in\\_bed\\_min'\n",
       "\\end{enumerate*}\n"
      ],
      "text/markdown": [
       "1. 'anon_id'\n",
       "2. 'pat_enc_csn_id_coded'\n",
       "3. 'admit_time'\n",
       "4. 'first_label'\n",
       "5. 'death_24hr_recent_label'\n",
       "6. 'death_24hr_max_label'\n",
       "7. 'pred_first'\n",
       "8. 'pred_death_24hr_recent'\n",
       "9. 'event_type_c'\n",
       "10. 'event_type'\n",
       "11. 'pat_class_c'\n",
       "12. 'pat_class'\n",
       "13. 'base_pat_class_c'\n",
       "14. 'base_pat_class'\n",
       "15. 'pat_service_c'\n",
       "16. 'pat_service'\n",
       "17. 'pat_lvl_of_care_c'\n",
       "18. 'pat_lv_of_care'\n",
       "19. 'accommodation_c'\n",
       "20. 'accomodation'\n",
       "21. 'in_event_type_c'\n",
       "22. 'in_event_type'\n",
       "23. 'out_event_type_c'\n",
       "24. 'out_event_type'\n",
       "25. 'from_base_class_c'\n",
       "26. 'from_base_class'\n",
       "27. 'to_base_class_c'\n",
       "28. 'to_base_class'\n",
       "29. 'seq_num_in_enc'\n",
       "30. 'seq_num_in_bed_min'\n",
       "\n",
       "\n"
      ],
      "text/plain": [
       " [1] \"anon_id\"                 \"pat_enc_csn_id_coded\"   \n",
       " [3] \"admit_time\"              \"first_label\"            \n",
       " [5] \"death_24hr_recent_label\" \"death_24hr_max_label\"   \n",
       " [7] \"pred_first\"              \"pred_death_24hr_recent\" \n",
       " [9] \"event_type_c\"            \"event_type\"             \n",
       "[11] \"pat_class_c\"             \"pat_class\"              \n",
       "[13] \"base_pat_class_c\"        \"base_pat_class\"         \n",
       "[15] \"pat_service_c\"           \"pat_service\"            \n",
       "[17] \"pat_lvl_of_care_c\"       \"pat_lv_of_care\"         \n",
       "[19] \"accommodation_c\"         \"accomodation\"           \n",
       "[21] \"in_event_type_c\"         \"in_event_type\"          \n",
       "[23] \"out_event_type_c\"        \"out_event_type\"         \n",
       "[25] \"from_base_class_c\"       \"from_base_class\"        \n",
       "[27] \"to_base_class_c\"         \"to_base_class\"          \n",
       "[29] \"seq_num_in_enc\"          \"seq_num_in_bed_min\"     "
      ]
     },
     "metadata": {},
     "output_type": "display_data"
    }
   ],
   "source": [
    "q = \"\n",
    "SELECT c.anon_id, c.pat_enc_csn_id_coded, c.admit_time, c.first_label, c.death_24hr_recent_label,\n",
    "        c.death_24hr_max_label, c.pred_first, c.pred_death_24hr_recent,\n",
    "    adt.event_type_c, adt.event_type, adt.pat_class_c, adt.pat_class, adt.base_pat_class_c, adt.base_pat_class,\n",
    "    adt.pat_service_c, adt.pat_service, adt.pat_lvl_of_care_c, adt.pat_lv_of_care, adt.accommodation_c, adt.accomodation, \n",
    "    adt.in_event_type_c, adt.in_event_type, adt.out_event_type_c, adt.out_event_type, adt.from_base_class_c, adt.from_base_class,\n",
    "    adt.to_base_class_c, adt.to_base_class, adt.seq_num_in_enc, adt.seq_num_in_bed_min\n",
    "FROM \n",
    "    `som-nero-phi-jonc101.triageTD.1_4_cohort_24hrpreadmit_diff_full_features` as c\n",
    "JOIN \n",
    "    `som-nero-phi-jonc101.shc_core.adt` as adt\n",
    "ON \n",
    "    (c.anon_id = adt.anon_id and c.pat_enc_csn_id_coded = adt.pat_enc_csn_id_coded)\n",
    "\"\n",
    "# submit the query:\n",
    "update.packages('Rcpp')\n",
    "df <- dbGetQuery(con, q)\n",
    "dim(df)\n",
    "colnames(df)"
   ]
  },
  {
   "cell_type": "code",
   "execution_count": 21,
   "metadata": {},
   "outputs": [],
   "source": [
    "write.csv(df, file.path(datadir, \"4_1_diff_adt.csv\"), row.names=FALSE)"
   ]
  },
  {
   "cell_type": "code",
   "execution_count": 23,
   "metadata": {},
   "outputs": [
    {
     "name": "stderr",
     "output_type": "stream",
     "text": [
      "Warning message in as.integer.integer64(x):\n",
      "“NAs produced by integer overflow”\n"
     ]
    },
    {
     "data": {
      "text/html": [
       "<style>\n",
       ".list-inline {list-style: none; margin:0; padding: 0}\n",
       ".list-inline>li {display: inline-block}\n",
       ".list-inline>li:not(:last-child)::after {content: \"\\00b7\"; padding: 0 .5ex}\n",
       "</style>\n",
       "<ol class=list-inline><li>69334</li><li>6</li></ol>\n"
      ],
      "text/latex": [
       "\\begin{enumerate*}\n",
       "\\item 69334\n",
       "\\item 6\n",
       "\\end{enumerate*}\n"
      ],
      "text/markdown": [
       "1. 69334\n",
       "2. 6\n",
       "\n",
       "\n"
      ],
      "text/plain": [
       "[1] 69334     6"
      ]
     },
     "metadata": {},
     "output_type": "display_data"
    },
    {
     "data": {
      "text/html": [
       "<style>\n",
       ".list-inline {list-style: none; margin:0; padding: 0}\n",
       ".list-inline>li {display: inline-block}\n",
       ".list-inline>li:not(:last-child)::after {content: \"\\00b7\"; padding: 0 .5ex}\n",
       "</style>\n",
       "<ol class=list-inline><li>'anon_id'</li><li>'pat_enc_csn_id_coded'</li><li>'INTRPTR_NEEDED_YN'</li><li>'CHARLSON_SCORE'</li><li>'N_HOSPITALIZATIONS'</li><li>'DAYS_IN_HOSPITAL'</li></ol>\n"
      ],
      "text/latex": [
       "\\begin{enumerate*}\n",
       "\\item 'anon\\_id'\n",
       "\\item 'pat\\_enc\\_csn\\_id\\_coded'\n",
       "\\item 'INTRPTR\\_NEEDED\\_YN'\n",
       "\\item 'CHARLSON\\_SCORE'\n",
       "\\item 'N\\_HOSPITALIZATIONS'\n",
       "\\item 'DAYS\\_IN\\_HOSPITAL'\n",
       "\\end{enumerate*}\n"
      ],
      "text/markdown": [
       "1. 'anon_id'\n",
       "2. 'pat_enc_csn_id_coded'\n",
       "3. 'INTRPTR_NEEDED_YN'\n",
       "4. 'CHARLSON_SCORE'\n",
       "5. 'N_HOSPITALIZATIONS'\n",
       "6. 'DAYS_IN_HOSPITAL'\n",
       "\n",
       "\n"
      ],
      "text/plain": [
       "[1] \"anon_id\"              \"pat_enc_csn_id_coded\" \"INTRPTR_NEEDED_YN\"   \n",
       "[4] \"CHARLSON_SCORE\"       \"N_HOSPITALIZATIONS\"   \"DAYS_IN_HOSPITAL\"    "
      ]
     },
     "metadata": {},
     "output_type": "display_data"
    }
   ],
   "source": [
    "q = \"\n",
    "SELECT c.anon_id, c.pat_enc_csn_id_coded, \n",
    "    x.INTRPTR_NEEDED_YN, x.CHARLSON_SCORE, x.N_HOSPITALIZATIONS, x.DAYS_IN_HOSPITAL\n",
    "FROM \n",
    "    `som-nero-phi-jonc101.triageTD.1_4_cohort_24hrpreadmit_diff_full_features` as c\n",
    "JOIN \n",
    "    `som-nero-phi-jonc101.shc_core.demographic` as x\n",
    "ON \n",
    "    (c.anon_id = x.anon_id)\n",
    "\"\n",
    "# submit the query:\n",
    "update.packages('Rcpp')\n",
    "x1 <- dbGetQuery(con, q)\n",
    "dim(x1)\n",
    "colnames(x1)"
   ]
  },
  {
   "cell_type": "code",
   "execution_count": 24,
   "metadata": {},
   "outputs": [],
   "source": [
    "write.csv(x1, file.path(datadir, \"4_1_diff_demographic.csv\"), row.names=FALSE)"
   ]
  },
  {
   "cell_type": "code",
   "execution_count": 28,
   "metadata": {},
   "outputs": [
    {
     "name": "stderr",
     "output_type": "stream",
     "text": [
      "Warning message in as.integer.integer64(x):\n",
      "“NAs produced by integer overflow”\n"
     ]
    },
    {
     "data": {
      "text/html": [
       "<style>\n",
       ".list-inline {list-style: none; margin:0; padding: 0}\n",
       ".list-inline>li {display: inline-block}\n",
       ".list-inline>li:not(:last-child)::after {content: \"\\00b7\"; padding: 0 .5ex}\n",
       "</style>\n",
       "<ol class=list-inline><li>67800</li><li>9</li></ol>\n"
      ],
      "text/latex": [
       "\\begin{enumerate*}\n",
       "\\item 67800\n",
       "\\item 9\n",
       "\\end{enumerate*}\n"
      ],
      "text/markdown": [
       "1. 67800\n",
       "2. 9\n",
       "\n",
       "\n"
      ],
      "text/plain": [
       "[1] 67800     9"
      ]
     },
     "metadata": {},
     "output_type": "display_data"
    },
    {
     "data": {
      "text/html": [
       "<style>\n",
       ".list-inline {list-style: none; margin:0; padding: 0}\n",
       ".list-inline>li {display: inline-block}\n",
       ".list-inline>li:not(:last-child)::after {content: \"\\00b7\"; padding: 0 .5ex}\n",
       "</style>\n",
       "<ol class=list-inline><li>'anon_id'</li><li>'pat_enc_csn_id_coded'</li><li>'line'</li><li>'dx_name'</li><li>'chronic'</li><li>'principal'</li><li>'hospital_pl'</li><li>'ed'</li><li>'present_on_adm'</li></ol>\n"
      ],
      "text/latex": [
       "\\begin{enumerate*}\n",
       "\\item 'anon\\_id'\n",
       "\\item 'pat\\_enc\\_csn\\_id\\_coded'\n",
       "\\item 'line'\n",
       "\\item 'dx\\_name'\n",
       "\\item 'chronic'\n",
       "\\item 'principal'\n",
       "\\item 'hospital\\_pl'\n",
       "\\item 'ed'\n",
       "\\item 'present\\_on\\_adm'\n",
       "\\end{enumerate*}\n"
      ],
      "text/markdown": [
       "1. 'anon_id'\n",
       "2. 'pat_enc_csn_id_coded'\n",
       "3. 'line'\n",
       "4. 'dx_name'\n",
       "5. 'chronic'\n",
       "6. 'principal'\n",
       "7. 'hospital_pl'\n",
       "8. 'ed'\n",
       "9. 'present_on_adm'\n",
       "\n",
       "\n"
      ],
      "text/plain": [
       "[1] \"anon_id\"              \"pat_enc_csn_id_coded\" \"line\"                \n",
       "[4] \"dx_name\"              \"chronic\"              \"principal\"           \n",
       "[7] \"hospital_pl\"          \"ed\"                   \"present_on_adm\"      "
      ]
     },
     "metadata": {},
     "output_type": "display_data"
    }
   ],
   "source": [
    "q = \"\n",
    "SELECT c.anon_id, c.pat_enc_csn_id_coded, \n",
    "    x.line, x.dx_name, x.chronic, x.principal, x.hospital_pl, x.ed, x.present_on_adm\n",
    "FROM \n",
    "    `som-nero-phi-jonc101.triageTD.1_4_cohort_24hrpreadmit_diff_full_features` as c\n",
    "JOIN \n",
    "    `som-nero-phi-jonc101.shc_core.diagnosis_code` as x\n",
    "ON \n",
    "    (c.anon_id = x.anon_id and c.pat_enc_csn_id_coded = x.pat_enc_csn_id_jittered)\n",
    "\n",
    "WHERE (x.primary = 'Y')\n",
    "\"\n",
    "# submit the query:\n",
    "update.packages('Rcpp')\n",
    "x2 <- dbGetQuery(con, q)\n",
    "dim(x2)\n",
    "colnames(x2)"
   ]
  },
  {
   "cell_type": "code",
   "execution_count": 30,
   "metadata": {},
   "outputs": [],
   "source": [
    "write.csv(x2, file.path(datadir, \"4_1_diff_dx_primary.csv\"), row.names=FALSE)"
   ]
  },
  {
   "cell_type": "code",
   "execution_count": null,
   "metadata": {},
   "outputs": [],
   "source": []
  }
 ],
 "metadata": {
  "environment": {
   "name": "r-cpu.4-0.m71",
   "type": "gcloud",
   "uri": "gcr.io/deeplearning-platform-release/r-cpu.4-0:m71"
  },
  "kernelspec": {
   "display_name": "R",
   "language": "R",
   "name": "ir"
  },
  "language_info": {
   "codemirror_mode": "r",
   "file_extension": ".r",
   "mimetype": "text/x-r-source",
   "name": "R",
   "pygments_lexer": "r",
   "version": "4.1.0"
  },
  "toc": {
   "base_numbering": 1,
   "nav_menu": {},
   "number_sections": true,
   "sideBar": true,
   "skip_h1_title": false,
   "title_cell": "Table of Contents",
   "title_sidebar": "Contents",
   "toc_cell": false,
   "toc_position": {},
   "toc_section_display": true,
   "toc_window_display": false
  },
  "varInspector": {
   "cols": {
    "lenName": 16,
    "lenType": 16,
    "lenVar": 40
   },
   "kernels_config": {
    "python": {
     "delete_cmd_postfix": "",
     "delete_cmd_prefix": "del ",
     "library": "var_list.py",
     "varRefreshCmd": "print(var_dic_list())"
    },
    "r": {
     "delete_cmd_postfix": ") ",
     "delete_cmd_prefix": "rm(",
     "library": "var_list.r",
     "varRefreshCmd": "cat(var_dic_list()) "
    }
   },
   "types_to_exclude": [
    "module",
    "function",
    "builtin_function_or_method",
    "instance",
    "_Feature"
   ],
   "window_display": false
  }
 },
 "nbformat": 4,
 "nbformat_minor": 4
}
