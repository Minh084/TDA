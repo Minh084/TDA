{
 "cells": [
  {
   "cell_type": "markdown",
   "metadata": {},
   "source": [
    "## Descriptions:\n",
    "- Query other tables on shc\n",
    "- Some bigger queries cannot be done in this notebook. use separate SQL file in python instead\n",
    "\n",
    "**Inputs**:  \n",
    "- `1_4_cohort_diff_full_features`: contains cohort with most difference pdiff >= 0.3\n",
    "  \n",
    "**Outputs**: \n"
   ]
  },
  {
   "cell_type": "raw",
   "metadata": {},
   "source": [
    "install.packages('bigrquery')\n",
    "# Installing package into 'C:/Users/User/Documents/R/win-library/4.0'\n",
    "# (as 'lib' is unspecified)\n",
    "# The downloaded binary packages are in\n",
    "# \tC:\\Users\\User\\AppData\\Local\\Temp\\RtmpaumGcc\\downloaded_packages"
   ]
  },
  {
   "cell_type": "markdown",
   "metadata": {},
   "source": [
    "### Importing R libraries"
   ]
  },
  {
   "cell_type": "code",
   "execution_count": 1,
   "metadata": {
    "ExecuteTime": {
     "end_time": "2020-05-21T00:38:06.078240Z",
     "start_time": "2020-05-21T00:38:02.778Z"
    }
   },
   "outputs": [
    {
     "name": "stderr",
     "output_type": "stream",
     "text": [
      "Warning message:\n",
      "\"package 'bigrquery' was built under R version 4.0.5\"\n",
      "-- \u001b[1mAttaching packages\u001b[22m --------------------------------------- tidyverse 1.3.0 --\n",
      "\n",
      "\u001b[32mv\u001b[39m \u001b[34mggplot2\u001b[39m 3.3.2     \u001b[32mv\u001b[39m \u001b[34mpurrr  \u001b[39m 0.3.4\n",
      "\u001b[32mv\u001b[39m \u001b[34mtibble \u001b[39m 3.0.4     \u001b[32mv\u001b[39m \u001b[34mdplyr  \u001b[39m 1.0.2\n",
      "\u001b[32mv\u001b[39m \u001b[34mtidyr  \u001b[39m 1.1.2     \u001b[32mv\u001b[39m \u001b[34mstringr\u001b[39m 1.4.0\n",
      "\u001b[32mv\u001b[39m \u001b[34mreadr  \u001b[39m 1.4.0     \u001b[32mv\u001b[39m \u001b[34mforcats\u001b[39m 0.5.0\n",
      "\n",
      "-- \u001b[1mConflicts\u001b[22m ------------------------------------------ tidyverse_conflicts() --\n",
      "\u001b[31mx\u001b[39m \u001b[34mdplyr\u001b[39m::\u001b[32mfilter()\u001b[39m masks \u001b[34mstats\u001b[39m::filter()\n",
      "\u001b[31mx\u001b[39m \u001b[34mdplyr\u001b[39m::\u001b[32mlag()\u001b[39m    masks \u001b[34mstats\u001b[39m::lag()\n",
      "\n",
      "\n",
      "Attaching package: 'lubridate'\n",
      "\n",
      "\n",
      "The following objects are masked from 'package:base':\n",
      "\n",
      "    date, intersect, setdiff, union\n",
      "\n",
      "\n"
     ]
    }
   ],
   "source": [
    "library(bigrquery)  # to query STARR-OMOP (stored in BigQuery) using SQL\n",
    "library(tidyverse)\n",
    "library(lubridate)\n",
    "\n",
    "# options(repr.matrix.max.rows=250, repr.matrix.max.cols=30)"
   ]
  },
  {
   "cell_type": "markdown",
   "metadata": {},
   "source": [
    "### Set up and run queries"
   ]
  },
  {
   "cell_type": "code",
   "execution_count": 14,
   "metadata": {},
   "outputs": [
    {
     "data": {
      "text/plain": [
       "NULL"
      ]
     },
     "metadata": {},
     "output_type": "display_data"
    }
   ],
   "source": [
    "# CREDENTIALS depending on LOCATIONS:\n",
    "# credential <- paste0(\"/home/\", \"minh084\", \"/.config/gcloud/application_default_credentials.json\")\n",
    "\n",
    "# local computer\n",
    "# credential <- \"C:/Users/User/AppData/Roaming/gcloud/application_default_credentials.json\"\n",
    "\n",
    "# Nero onprem\n",
    "# credential <- \"/home/minh084/.config/gcloud/application_default_credentials.json\"\n",
    "\n",
    "# Nero gcp notebook\n",
    "credential <- \"/home/jupyter/.config/gcloud/application_default_credentials.json\"\n",
    "\n",
    "project_id <- \"som-nero-phi-jonc101\"\n",
    "\n",
    "Sys.setenv(GOOGLE_APPLICATION_CREDENTIALS = credential)\n",
    "Sys.setenv(GCLOUD_PROJECT = project_id)\n",
    "gargle::credentials_app_default()"
   ]
  },
  {
   "cell_type": "code",
   "execution_count": 15,
   "metadata": {},
   "outputs": [
    {
     "data": {
      "text/plain": [
       "<BigQueryConnection>\n",
       "  Dataset: som-nero-phi-jonc101.shc_core\n",
       "  Billing: som-nero-phi-jonc101"
      ]
     },
     "metadata": {},
     "output_type": "display_data"
    },
    {
     "data": {
      "text/html": [
       "<style>\n",
       ".list-inline {list-style: none; margin:0; padding: 0}\n",
       ".list-inline>li {display: inline-block}\n",
       ".list-inline>li:not(:last-child)::after {content: \"\\00b7\"; padding: 0 .5ex}\n",
       "</style>\n",
       "<ol class=list-inline><li>'adt'</li><li>'allergy'</li><li>'culture_sensitivity'</li><li>'demographic'</li><li>'dep_map'</li><li>'diagnosis_code'</li><li>'drg_code'</li><li>'encounter'</li><li>'family_hx'</li><li>'flowsheet'</li><li>'lab_result'</li><li>'lda'</li><li>'mapped_meds'</li><li>'mar'</li><li>'med_orderset'</li><li>'ndc_code'</li><li>'order_med'</li><li>'order_proc'</li><li>'order_quest'</li><li>'proc_note'</li><li>'proc_orderset'</li><li>'procedure_code'</li><li>'prov_map'</li><li>'social_hx'</li><li>'treatment_team'</li></ol>\n"
      ],
      "text/latex": [
       "\\begin{enumerate*}\n",
       "\\item 'adt'\n",
       "\\item 'allergy'\n",
       "\\item 'culture\\_sensitivity'\n",
       "\\item 'demographic'\n",
       "\\item 'dep\\_map'\n",
       "\\item 'diagnosis\\_code'\n",
       "\\item 'drg\\_code'\n",
       "\\item 'encounter'\n",
       "\\item 'family\\_hx'\n",
       "\\item 'flowsheet'\n",
       "\\item 'lab\\_result'\n",
       "\\item 'lda'\n",
       "\\item 'mapped\\_meds'\n",
       "\\item 'mar'\n",
       "\\item 'med\\_orderset'\n",
       "\\item 'ndc\\_code'\n",
       "\\item 'order\\_med'\n",
       "\\item 'order\\_proc'\n",
       "\\item 'order\\_quest'\n",
       "\\item 'proc\\_note'\n",
       "\\item 'proc\\_orderset'\n",
       "\\item 'procedure\\_code'\n",
       "\\item 'prov\\_map'\n",
       "\\item 'social\\_hx'\n",
       "\\item 'treatment\\_team'\n",
       "\\end{enumerate*}\n"
      ],
      "text/markdown": [
       "1. 'adt'\n",
       "2. 'allergy'\n",
       "3. 'culture_sensitivity'\n",
       "4. 'demographic'\n",
       "5. 'dep_map'\n",
       "6. 'diagnosis_code'\n",
       "7. 'drg_code'\n",
       "8. 'encounter'\n",
       "9. 'family_hx'\n",
       "10. 'flowsheet'\n",
       "11. 'lab_result'\n",
       "12. 'lda'\n",
       "13. 'mapped_meds'\n",
       "14. 'mar'\n",
       "15. 'med_orderset'\n",
       "16. 'ndc_code'\n",
       "17. 'order_med'\n",
       "18. 'order_proc'\n",
       "19. 'order_quest'\n",
       "20. 'proc_note'\n",
       "21. 'proc_orderset'\n",
       "22. 'procedure_code'\n",
       "23. 'prov_map'\n",
       "24. 'social_hx'\n",
       "25. 'treatment_team'\n",
       "\n",
       "\n"
      ],
      "text/plain": [
       " [1] \"adt\"                 \"allergy\"             \"culture_sensitivity\"\n",
       " [4] \"demographic\"         \"dep_map\"             \"diagnosis_code\"     \n",
       " [7] \"drg_code\"            \"encounter\"           \"family_hx\"          \n",
       "[10] \"flowsheet\"           \"lab_result\"          \"lda\"                \n",
       "[13] \"mapped_meds\"         \"mar\"                 \"med_orderset\"       \n",
       "[16] \"ndc_code\"            \"order_med\"           \"order_proc\"         \n",
       "[19] \"order_quest\"         \"proc_note\"           \"proc_orderset\"      \n",
       "[22] \"procedure_code\"      \"prov_map\"            \"social_hx\"          \n",
       "[25] \"treatment_team\"     "
      ]
     },
     "metadata": {},
     "output_type": "display_data"
    }
   ],
   "source": [
    "library(DBI)\n",
    "con <- dbConnect(\n",
    "  bigrquery::bigquery(),\n",
    "  project = project_id,\n",
    "  dataset = \"shc_core\" #, billing = project_id\n",
    ")\n",
    "con \n",
    "dbListTables(con)"
   ]
  },
  {
   "cell_type": "code",
   "execution_count": 2,
   "metadata": {},
   "outputs": [],
   "source": [
    "# directories\n",
    "datadir = \"../../DataTD\"\n",
    "cohortdir = \"../../OutputTD/1_cohort\"\n",
    "featuredir = \"../../OutputTD/2_features\"\n",
    "modeldir4 = \"../../OutputTD/3_models/1_4_cohort\"\n",
    "# modeldir4preadmit = \"../../OutputTD/3_models/1_4_cohort_24hrpreadmit\"\n",
    "\n",
    "options(repr.matrix.max.rows=200, repr.matrix.max.cols=30)"
   ]
  },
  {
   "cell_type": "code",
   "execution_count": 3,
   "metadata": {},
   "outputs": [
    {
     "data": {
      "text/html": [
       "71586"
      ],
      "text/latex": [
       "71586"
      ],
      "text/markdown": [
       "71586"
      ],
      "text/plain": [
       "[1] 71586"
      ]
     },
     "metadata": {},
     "output_type": "display_data"
    },
    {
     "data": {
      "text/html": [
       "71586"
      ],
      "text/latex": [
       "71586"
      ],
      "text/markdown": [
       "71586"
      ],
      "text/plain": [
       "[1] 71586"
      ]
     },
     "metadata": {},
     "output_type": "display_data"
    },
    {
     "data": {
      "text/html": [
       "301"
      ],
      "text/latex": [
       "301"
      ],
      "text/markdown": [
       "301"
      ],
      "text/plain": [
       "[1] 301"
      ]
     },
     "metadata": {},
     "output_type": "display_data"
    },
    {
     "data": {
      "text/html": [
       "323"
      ],
      "text/latex": [
       "323"
      ],
      "text/markdown": [
       "323"
      ],
      "text/plain": [
       "[1] 323"
      ]
     },
     "metadata": {},
     "output_type": "display_data"
    },
    {
     "name": "stderr",
     "output_type": "stream",
     "text": [
      "`summarise()` ungrouping output (override with `.groups` argument)\n",
      "\n"
     ]
    },
    {
     "data": {
      "text/html": [
       "<table>\n",
       "<caption>A tibble: 5 × 6</caption>\n",
       "<thead>\n",
       "\t<tr><th scope=col>abs_diff0_24</th><th scope=col>nrows</th><th scope=col>count_csn</th><th scope=col>count_mrn</th><th scope=col>cum_csn</th><th scope=col>cum_mrn</th></tr>\n",
       "\t<tr><th scope=col>&lt;dbl&gt;</th><th scope=col>&lt;int&gt;</th><th scope=col>&lt;int&gt;</th><th scope=col>&lt;int&gt;</th><th scope=col>&lt;int&gt;</th><th scope=col>&lt;int&gt;</th></tr>\n",
       "</thead>\n",
       "<tbody>\n",
       "\t<tr><td>0.7</td><td>  560</td><td>  3</td><td>  3</td><td>  3</td><td>  3</td></tr>\n",
       "\t<tr><td>0.6</td><td> 1042</td><td>  7</td><td>  7</td><td> 10</td><td> 10</td></tr>\n",
       "\t<tr><td>0.5</td><td> 6559</td><td> 27</td><td> 24</td><td> 37</td><td> 34</td></tr>\n",
       "\t<tr><td>0.4</td><td>19690</td><td> 80</td><td> 77</td><td>117</td><td>111</td></tr>\n",
       "\t<tr><td>0.3</td><td>43735</td><td>206</td><td>204</td><td>323</td><td>315</td></tr>\n",
       "</tbody>\n",
       "</table>\n"
      ],
      "text/latex": [
       "A tibble: 5 × 6\n",
       "\\begin{tabular}{llllll}\n",
       " abs\\_diff0\\_24 & nrows & count\\_csn & count\\_mrn & cum\\_csn & cum\\_mrn\\\\\n",
       " <dbl> & <int> & <int> & <int> & <int> & <int>\\\\\n",
       "\\hline\n",
       "\t 0.7 &   560 &   3 &   3 &   3 &   3\\\\\n",
       "\t 0.6 &  1042 &   7 &   7 &  10 &  10\\\\\n",
       "\t 0.5 &  6559 &  27 &  24 &  37 &  34\\\\\n",
       "\t 0.4 & 19690 &  80 &  77 & 117 & 111\\\\\n",
       "\t 0.3 & 43735 & 206 & 204 & 323 & 315\\\\\n",
       "\\end{tabular}\n"
      ],
      "text/markdown": [
       "\n",
       "A tibble: 5 × 6\n",
       "\n",
       "| abs_diff0_24 &lt;dbl&gt; | nrows &lt;int&gt; | count_csn &lt;int&gt; | count_mrn &lt;int&gt; | cum_csn &lt;int&gt; | cum_mrn &lt;int&gt; |\n",
       "|---|---|---|---|---|---|\n",
       "| 0.7 |   560 |   3 |   3 |   3 |   3 |\n",
       "| 0.6 |  1042 |   7 |   7 |  10 |  10 |\n",
       "| 0.5 |  6559 |  27 |  24 |  37 |  34 |\n",
       "| 0.4 | 19690 |  80 |  77 | 117 | 111 |\n",
       "| 0.3 | 43735 | 206 | 204 | 323 | 315 |\n",
       "\n"
      ],
      "text/plain": [
       "  abs_diff0_24 nrows count_csn count_mrn cum_csn cum_mrn\n",
       "1 0.7            560   3         3         3       3    \n",
       "2 0.6           1042   7         7        10      10    \n",
       "3 0.5           6559  27        24        37      34    \n",
       "4 0.4          19690  80        77       117     111    \n",
       "5 0.3          43735 206       204       323     315    "
      ]
     },
     "metadata": {},
     "output_type": "display_data"
    }
   ],
   "source": [
    "cohort <- read.csv(file.path(modeldir4, \"1_4_cohort_diff_full_features.csv\")) %>% distinct()\n",
    "\n",
    "nrow(cohort) # 71589 vs 69334\n",
    "nrow(cohort %>% distinct())\n",
    "nrow(cohort %>% select(anon_id) %>% distinct()) # 304\n",
    "nrow(cohort %>% select(pat_enc_csn_id_coded) %>% distinct()) # 324\n",
    "\n",
    "# count anon_id and csn, count unique in each group, but possible to have same ids in different groups\n",
    "cohort %>%  distinct() %>% group_by(abs_diff0_24) %>% \n",
    "            summarise(nrows = n(), count_csn = n_distinct(pat_enc_csn_id_coded), count_mrn = n_distinct(anon_id)) %>% \n",
    "            arrange(-abs_diff0_24) %>% mutate(cum_csn = cumsum(count_csn), cum_mrn = cumsum(count_mrn))"
   ]
  },
  {
   "cell_type": "raw",
   "metadata": {},
   "source": [
    "# get the top IDs difference more than 0.4 and save them\n",
    "diff4pre <- read.csv(file.path(modeldir4preadmit, \"1_4_cohort_diff_full_features.csv\")) \n",
    "diff4pre <- diff4 %>% filter(abs_diff0_24 >=0.4) %>% distinct(anon_id)\n",
    "nrow(diff4pre) #107\n",
    "\n",
    "diff4 <- cohort %>% filter(abs_diff0_24 >=0.4) %>% distinct(anon_id)\n",
    "nrow(diff4) #100\n",
    "\n",
    "both04 <- full_join(diff4, diff4pre)\n",
    "nrow(both04) # 135\n",
    " \n",
    "inter04 <- inner_join(diff4, diff4pre)\n",
    "nrow(inter04) #72\n",
    "\n",
    "write.csv(both04, file.path(datadir, \"topIDs.csv\"), row.names=FALSE)\n",
    "write.csv(inter04, file.path(datadir, \"topIDsintersection.csv\"), row.names=FALSE)"
   ]
  },
  {
   "cell_type": "code",
   "execution_count": 4,
   "metadata": {},
   "outputs": [
    {
     "data": {
      "text/html": [
       "<table>\n",
       "<caption>A data.frame: 1 × 16</caption>\n",
       "<thead>\n",
       "\t<tr><th></th><th scope=col>anon_id</th><th scope=col>pat_enc_csn_id_coded</th><th scope=col>admit_time</th><th scope=col>first_label</th><th scope=col>death_24hr_recent_label</th><th scope=col>death_24hr_max_label</th><th scope=col>pred_first</th><th scope=col>pred_death_24hr_recent</th><th scope=col>abs_diff0_24</th><th scope=col>diff0_True</th><th scope=col>diff24_True</th><th scope=col>feature_type</th><th scope=col>features</th><th scope=col>values</th><th scope=col>time</th><th scope=col>hr_before_admit</th></tr>\n",
       "\t<tr><th></th><th scope=col>&lt;chr&gt;</th><th scope=col>&lt;dbl&gt;</th><th scope=col>&lt;chr&gt;</th><th scope=col>&lt;int&gt;</th><th scope=col>&lt;int&gt;</th><th scope=col>&lt;int&gt;</th><th scope=col>&lt;dbl&gt;</th><th scope=col>&lt;dbl&gt;</th><th scope=col>&lt;dbl&gt;</th><th scope=col>&lt;dbl&gt;</th><th scope=col>&lt;dbl&gt;</th><th scope=col>&lt;chr&gt;</th><th scope=col>&lt;chr&gt;</th><th scope=col>&lt;dbl&gt;</th><th scope=col>&lt;chr&gt;</th><th scope=col>&lt;dbl&gt;</th></tr>\n",
       "</thead>\n",
       "<tbody>\n",
       "\t<tr><th scope=row>1</th><td>JCcd3b9d</td><td>131267453587</td><td>2019-04-06 23:15:00</td><td>1</td><td>1</td><td>1</td><td>0.5339708</td><td>0.2470261</td><td>0.3</td><td>-0.47</td><td>-0.75</td><td>Procedures</td><td>LIMITED ULTRASOUND- CARDIAC TRANSTHORACIC ECHO</td><td>1</td><td>NA</td><td>NA</td></tr>\n",
       "</tbody>\n",
       "</table>\n"
      ],
      "text/latex": [
       "A data.frame: 1 × 16\n",
       "\\begin{tabular}{r|llllllllllllllll}\n",
       "  & anon\\_id & pat\\_enc\\_csn\\_id\\_coded & admit\\_time & first\\_label & death\\_24hr\\_recent\\_label & death\\_24hr\\_max\\_label & pred\\_first & pred\\_death\\_24hr\\_recent & abs\\_diff0\\_24 & diff0\\_True & diff24\\_True & feature\\_type & features & values & time & hr\\_before\\_admit\\\\\n",
       "  & <chr> & <dbl> & <chr> & <int> & <int> & <int> & <dbl> & <dbl> & <dbl> & <dbl> & <dbl> & <chr> & <chr> & <dbl> & <chr> & <dbl>\\\\\n",
       "\\hline\n",
       "\t1 & JCcd3b9d & 131267453587 & 2019-04-06 23:15:00 & 1 & 1 & 1 & 0.5339708 & 0.2470261 & 0.3 & -0.47 & -0.75 & Procedures & LIMITED ULTRASOUND- CARDIAC TRANSTHORACIC ECHO & 1 & NA & NA\\\\\n",
       "\\end{tabular}\n"
      ],
      "text/markdown": [
       "\n",
       "A data.frame: 1 × 16\n",
       "\n",
       "| <!--/--> | anon_id &lt;chr&gt; | pat_enc_csn_id_coded &lt;dbl&gt; | admit_time &lt;chr&gt; | first_label &lt;int&gt; | death_24hr_recent_label &lt;int&gt; | death_24hr_max_label &lt;int&gt; | pred_first &lt;dbl&gt; | pred_death_24hr_recent &lt;dbl&gt; | abs_diff0_24 &lt;dbl&gt; | diff0_True &lt;dbl&gt; | diff24_True &lt;dbl&gt; | feature_type &lt;chr&gt; | features &lt;chr&gt; | values &lt;dbl&gt; | time &lt;chr&gt; | hr_before_admit &lt;dbl&gt; |\n",
       "|---|---|---|---|---|---|---|---|---|---|---|---|---|---|---|---|---|\n",
       "| 1 | JCcd3b9d | 131267453587 | 2019-04-06 23:15:00 | 1 | 1 | 1 | 0.5339708 | 0.2470261 | 0.3 | -0.47 | -0.75 | Procedures | LIMITED ULTRASOUND- CARDIAC TRANSTHORACIC ECHO | 1 | NA | NA |\n",
       "\n"
      ],
      "text/plain": [
       "  anon_id  pat_enc_csn_id_coded admit_time          first_label\n",
       "1 JCcd3b9d 131267453587         2019-04-06 23:15:00 1          \n",
       "  death_24hr_recent_label death_24hr_max_label pred_first\n",
       "1 1                       1                    0.5339708 \n",
       "  pred_death_24hr_recent abs_diff0_24 diff0_True diff24_True feature_type\n",
       "1 0.2470261              0.3          -0.47      -0.75       Procedures  \n",
       "  features                                       values time hr_before_admit\n",
       "1 LIMITED ULTRASOUND- CARDIAC TRANSTHORACIC ECHO 1      NA   NA             "
      ]
     },
     "metadata": {},
     "output_type": "display_data"
    },
    {
     "data": {
      "text/html": [
       "<style>\n",
       ".list-inline {list-style: none; margin:0; padding: 0}\n",
       ".list-inline>li {display: inline-block}\n",
       ".list-inline>li:not(:last-child)::after {content: \"\\00b7\"; padding: 0 .5ex}\n",
       "</style>\n",
       "<ol class=list-inline><li>'anon_id'</li><li>'pat_enc_csn_id_coded'</li><li>'admit_time'</li><li>'first_label'</li><li>'death_24hr_recent_label'</li><li>'death_24hr_max_label'</li><li>'pred_first'</li><li>'pred_death_24hr_recent'</li><li>'abs_diff0_24'</li><li>'diff0_True'</li><li>'diff24_True'</li><li>'feature_type'</li><li>'features'</li><li>'values'</li><li>'time'</li><li>'hr_before_admit'</li></ol>\n"
      ],
      "text/latex": [
       "\\begin{enumerate*}\n",
       "\\item 'anon\\_id'\n",
       "\\item 'pat\\_enc\\_csn\\_id\\_coded'\n",
       "\\item 'admit\\_time'\n",
       "\\item 'first\\_label'\n",
       "\\item 'death\\_24hr\\_recent\\_label'\n",
       "\\item 'death\\_24hr\\_max\\_label'\n",
       "\\item 'pred\\_first'\n",
       "\\item 'pred\\_death\\_24hr\\_recent'\n",
       "\\item 'abs\\_diff0\\_24'\n",
       "\\item 'diff0\\_True'\n",
       "\\item 'diff24\\_True'\n",
       "\\item 'feature\\_type'\n",
       "\\item 'features'\n",
       "\\item 'values'\n",
       "\\item 'time'\n",
       "\\item 'hr\\_before\\_admit'\n",
       "\\end{enumerate*}\n"
      ],
      "text/markdown": [
       "1. 'anon_id'\n",
       "2. 'pat_enc_csn_id_coded'\n",
       "3. 'admit_time'\n",
       "4. 'first_label'\n",
       "5. 'death_24hr_recent_label'\n",
       "6. 'death_24hr_max_label'\n",
       "7. 'pred_first'\n",
       "8. 'pred_death_24hr_recent'\n",
       "9. 'abs_diff0_24'\n",
       "10. 'diff0_True'\n",
       "11. 'diff24_True'\n",
       "12. 'feature_type'\n",
       "13. 'features'\n",
       "14. 'values'\n",
       "15. 'time'\n",
       "16. 'hr_before_admit'\n",
       "\n",
       "\n"
      ],
      "text/plain": [
       " [1] \"anon_id\"                 \"pat_enc_csn_id_coded\"   \n",
       " [3] \"admit_time\"              \"first_label\"            \n",
       " [5] \"death_24hr_recent_label\" \"death_24hr_max_label\"   \n",
       " [7] \"pred_first\"              \"pred_death_24hr_recent\" \n",
       " [9] \"abs_diff0_24\"            \"diff0_True\"             \n",
       "[11] \"diff24_True\"             \"feature_type\"           \n",
       "[13] \"features\"                \"values\"                 \n",
       "[15] \"time\"                    \"hr_before_admit\"        "
      ]
     },
     "metadata": {},
     "output_type": "display_data"
    }
   ],
   "source": [
    "head(cohort, 1)\n",
    "colnames(cohort)"
   ]
  },
  {
   "cell_type": "raw",
   "metadata": {},
   "source": [
    "cohort %>% filter(abs_diff0_24 >= 0.4, first_label == first_label) %>% distinct(anon_id, pat_enc_csn_id_coded)\n",
    "cohort %>% filter(abs_diff0_24 >= 0.4, first_label == first_label) %>% distinct(anon_id)"
   ]
  },
  {
   "cell_type": "raw",
   "metadata": {},
   "source": [
    "# r1 is from previously combined all and 24hrprior from topIDs\n",
    "# r2 is 2 additional IDs after changing the rounding the absdiff\n",
    "r1 <- read.csv(file.path(datadir, \"topIDre.csv\"))\n",
    "r2 <- read.csv(file.path(datadir, \"topIDre5.csv\"))\n",
    "rs <- bind_rows(r1, r2) %>% select(-X, -anon_id)\n",
    "colnames(rs) <- c('mrn', 'anon_id', 'jitter')\n",
    "\n",
    "write.csv(rs, file.path(datadir, \"top_reIDs.csv\"), row.names=FALSE)"
   ]
  },
  {
   "cell_type": "raw",
   "metadata": {},
   "source": [
    "# reid was from the old file previously combined all and 24hrprior from topIDs\n",
    "# after fixing the rounding of absdiff, identified 5 more IDs need to be re-identify\n",
    "\n",
    "# filter those with diff >= 0.4\n",
    "diff4 <- cohort %>% filter(abs_diff0_24 >=0.4) %>% distinct(anon_id)\n",
    "nrow(diff4)\n",
    "sum(diff4$anon_id %in% reid$anon_id) # missing 5\n",
    "\n",
    "diff4 %>% filter(!anon_id %in% reid$anon_id) %>% select(anon_id)\n",
    "setdiff(diff4$anon_id, reid$anon_id)\n",
    "# setdiff(reid$anon_id, diff4$anon_id)"
   ]
  },
  {
   "cell_type": "markdown",
   "metadata": {},
   "source": [
    "### Checking diagnosis to compare with total cohort"
   ]
  },
  {
   "cell_type": "code",
   "execution_count": 5,
   "metadata": {},
   "outputs": [
    {
     "data": {
      "text/html": [
       "1239918"
      ],
      "text/latex": [
       "1239918"
      ],
      "text/markdown": [
       "1239918"
      ],
      "text/plain": [
       "[1] 1239918"
      ]
     },
     "metadata": {},
     "output_type": "display_data"
    },
    {
     "data": {
      "text/html": [
       "43932"
      ],
      "text/latex": [
       "43932"
      ],
      "text/markdown": [
       "43932"
      ],
      "text/plain": [
       "[1] 43932"
      ]
     },
     "metadata": {},
     "output_type": "display_data"
    }
   ],
   "source": [
    "# all dx from 1_4_cohort, SQL query\n",
    "dx <- read.csv(file.path(datadir, \"4_1_dx_all.csv\"))\n",
    "nrow(dx)\n",
    "length(unique(dx$pat_enc_csn_id_coded)) # full cohort is 43980"
   ]
  },
  {
   "cell_type": "code",
   "execution_count": 6,
   "metadata": {},
   "outputs": [
    {
     "data": {
      "text/html": [
       "<table>\n",
       "<caption>A data.frame: 20 × 3</caption>\n",
       "<thead>\n",
       "\t<tr><th></th><th scope=col>dx_name</th><th scope=col>n</th><th scope=col>perc</th></tr>\n",
       "\t<tr><th></th><th scope=col>&lt;chr&gt;</th><th scope=col>&lt;int&gt;</th><th scope=col>&lt;dbl&gt;</th></tr>\n",
       "</thead>\n",
       "<tbody>\n",
       "\t<tr><th scope=row>1</th><td>Other long term (current) drug therapy                                         </td><td>12409</td><td>28.25</td></tr>\n",
       "\t<tr><th scope=row>2</th><td>Hyperlipidemia, unspecified                                                    </td><td>11532</td><td>26.25</td></tr>\n",
       "\t<tr><th scope=row>3</th><td>Essential (primary) hypertension                                               </td><td>10691</td><td>24.34</td></tr>\n",
       "\t<tr><th scope=row>4</th><td>Personal history of nicotine dependence                                        </td><td> 9969</td><td>22.69</td></tr>\n",
       "\t<tr><th scope=row>5</th><td>Long term (current) use of aspirin                                             </td><td> 7188</td><td>16.36</td></tr>\n",
       "\t<tr><th scope=row>6</th><td>Gastro-esophageal reflux disease without esophagitis                           </td><td> 6725</td><td>15.31</td></tr>\n",
       "\t<tr><th scope=row>7</th><td>Acute kidney failure, unspecified                                              </td><td> 6538</td><td>14.88</td></tr>\n",
       "\t<tr><th scope=row>8</th><td>Major depressive disorder, single episode, unspecified                         </td><td> 5719</td><td>13.02</td></tr>\n",
       "\t<tr><th scope=row>9</th><td>Long term (current) use of anticoagulants                                      </td><td> 5456</td><td>12.42</td></tr>\n",
       "\t<tr><th scope=row>10</th><td>Atherosclerotic heart disease of native coronary artery without angina pectoris</td><td> 5429</td><td>12.36</td></tr>\n",
       "\t<tr><th scope=row>11</th><td>Shortness of breath                                                            </td><td> 5389</td><td>12.27</td></tr>\n",
       "\t<tr><th scope=row>12</th><td>Hypo-osmolality and hyponatremia                                               </td><td> 5119</td><td>11.65</td></tr>\n",
       "\t<tr><th scope=row>13</th><td>Other chronic pain                                                             </td><td> 4606</td><td>10.48</td></tr>\n",
       "\t<tr><th scope=row>14</th><td>Hypothyroidism, unspecified                                                    </td><td> 4556</td><td>10.37</td></tr>\n",
       "\t<tr><th scope=row>15</th><td>Obstructive sleep apnea (adult) (pediatric)                                    </td><td> 4416</td><td>10.05</td></tr>\n",
       "\t<tr><th scope=row>16</th><td>Long term (current) use of insulin                                             </td><td> 4385</td><td> 9.98</td></tr>\n",
       "\t<tr><th scope=row>17</th><td>Anxiety disorder, unspecified                                                  </td><td> 4262</td><td> 9.70</td></tr>\n",
       "\t<tr><th scope=row>18</th><td>Allergy status to other drugs, medicaments and biological substances status    </td><td> 3925</td><td> 8.93</td></tr>\n",
       "\t<tr><th scope=row>19</th><td>Sepsis, unspecified organism                                                   </td><td> 3850</td><td> 8.76</td></tr>\n",
       "\t<tr><th scope=row>20</th><td>Hypokalemia                                                                    </td><td> 3792</td><td> 8.63</td></tr>\n",
       "</tbody>\n",
       "</table>\n"
      ],
      "text/latex": [
       "A data.frame: 20 × 3\n",
       "\\begin{tabular}{r|lll}\n",
       "  & dx\\_name & n & perc\\\\\n",
       "  & <chr> & <int> & <dbl>\\\\\n",
       "\\hline\n",
       "\t1 & Other long term (current) drug therapy                                          & 12409 & 28.25\\\\\n",
       "\t2 & Hyperlipidemia, unspecified                                                     & 11532 & 26.25\\\\\n",
       "\t3 & Essential (primary) hypertension                                                & 10691 & 24.34\\\\\n",
       "\t4 & Personal history of nicotine dependence                                         &  9969 & 22.69\\\\\n",
       "\t5 & Long term (current) use of aspirin                                              &  7188 & 16.36\\\\\n",
       "\t6 & Gastro-esophageal reflux disease without esophagitis                            &  6725 & 15.31\\\\\n",
       "\t7 & Acute kidney failure, unspecified                                               &  6538 & 14.88\\\\\n",
       "\t8 & Major depressive disorder, single episode, unspecified                          &  5719 & 13.02\\\\\n",
       "\t9 & Long term (current) use of anticoagulants                                       &  5456 & 12.42\\\\\n",
       "\t10 & Atherosclerotic heart disease of native coronary artery without angina pectoris &  5429 & 12.36\\\\\n",
       "\t11 & Shortness of breath                                                             &  5389 & 12.27\\\\\n",
       "\t12 & Hypo-osmolality and hyponatremia                                                &  5119 & 11.65\\\\\n",
       "\t13 & Other chronic pain                                                              &  4606 & 10.48\\\\\n",
       "\t14 & Hypothyroidism, unspecified                                                     &  4556 & 10.37\\\\\n",
       "\t15 & Obstructive sleep apnea (adult) (pediatric)                                     &  4416 & 10.05\\\\\n",
       "\t16 & Long term (current) use of insulin                                              &  4385 &  9.98\\\\\n",
       "\t17 & Anxiety disorder, unspecified                                                   &  4262 &  9.70\\\\\n",
       "\t18 & Allergy status to other drugs, medicaments and biological substances status     &  3925 &  8.93\\\\\n",
       "\t19 & Sepsis, unspecified organism                                                    &  3850 &  8.76\\\\\n",
       "\t20 & Hypokalemia                                                                     &  3792 &  8.63\\\\\n",
       "\\end{tabular}\n"
      ],
      "text/markdown": [
       "\n",
       "A data.frame: 20 × 3\n",
       "\n",
       "| <!--/--> | dx_name &lt;chr&gt; | n &lt;int&gt; | perc &lt;dbl&gt; |\n",
       "|---|---|---|---|\n",
       "| 1 | Other long term (current) drug therapy                                          | 12409 | 28.25 |\n",
       "| 2 | Hyperlipidemia, unspecified                                                     | 11532 | 26.25 |\n",
       "| 3 | Essential (primary) hypertension                                                | 10691 | 24.34 |\n",
       "| 4 | Personal history of nicotine dependence                                         |  9969 | 22.69 |\n",
       "| 5 | Long term (current) use of aspirin                                              |  7188 | 16.36 |\n",
       "| 6 | Gastro-esophageal reflux disease without esophagitis                            |  6725 | 15.31 |\n",
       "| 7 | Acute kidney failure, unspecified                                               |  6538 | 14.88 |\n",
       "| 8 | Major depressive disorder, single episode, unspecified                          |  5719 | 13.02 |\n",
       "| 9 | Long term (current) use of anticoagulants                                       |  5456 | 12.42 |\n",
       "| 10 | Atherosclerotic heart disease of native coronary artery without angina pectoris |  5429 | 12.36 |\n",
       "| 11 | Shortness of breath                                                             |  5389 | 12.27 |\n",
       "| 12 | Hypo-osmolality and hyponatremia                                                |  5119 | 11.65 |\n",
       "| 13 | Other chronic pain                                                              |  4606 | 10.48 |\n",
       "| 14 | Hypothyroidism, unspecified                                                     |  4556 | 10.37 |\n",
       "| 15 | Obstructive sleep apnea (adult) (pediatric)                                     |  4416 | 10.05 |\n",
       "| 16 | Long term (current) use of insulin                                              |  4385 |  9.98 |\n",
       "| 17 | Anxiety disorder, unspecified                                                   |  4262 |  9.70 |\n",
       "| 18 | Allergy status to other drugs, medicaments and biological substances status     |  3925 |  8.93 |\n",
       "| 19 | Sepsis, unspecified organism                                                    |  3850 |  8.76 |\n",
       "| 20 | Hypokalemia                                                                     |  3792 |  8.63 |\n",
       "\n"
      ],
      "text/plain": [
       "   dx_name                                                                        \n",
       "1  Other long term (current) drug therapy                                         \n",
       "2  Hyperlipidemia, unspecified                                                    \n",
       "3  Essential (primary) hypertension                                               \n",
       "4  Personal history of nicotine dependence                                        \n",
       "5  Long term (current) use of aspirin                                             \n",
       "6  Gastro-esophageal reflux disease without esophagitis                           \n",
       "7  Acute kidney failure, unspecified                                              \n",
       "8  Major depressive disorder, single episode, unspecified                         \n",
       "9  Long term (current) use of anticoagulants                                      \n",
       "10 Atherosclerotic heart disease of native coronary artery without angina pectoris\n",
       "11 Shortness of breath                                                            \n",
       "12 Hypo-osmolality and hyponatremia                                               \n",
       "13 Other chronic pain                                                             \n",
       "14 Hypothyroidism, unspecified                                                    \n",
       "15 Obstructive sleep apnea (adult) (pediatric)                                    \n",
       "16 Long term (current) use of insulin                                             \n",
       "17 Anxiety disorder, unspecified                                                  \n",
       "18 Allergy status to other drugs, medicaments and biological substances status    \n",
       "19 Sepsis, unspecified organism                                                   \n",
       "20 Hypokalemia                                                                    \n",
       "   n     perc \n",
       "1  12409 28.25\n",
       "2  11532 26.25\n",
       "3  10691 24.34\n",
       "4   9969 22.69\n",
       "5   7188 16.36\n",
       "6   6725 15.31\n",
       "7   6538 14.88\n",
       "8   5719 13.02\n",
       "9   5456 12.42\n",
       "10  5429 12.36\n",
       "11  5389 12.27\n",
       "12  5119 11.65\n",
       "13  4606 10.48\n",
       "14  4556 10.37\n",
       "15  4416 10.05\n",
       "16  4385  9.98\n",
       "17  4262  9.70\n",
       "18  3925  8.93\n",
       "19  3850  8.76\n",
       "20  3792  8.63"
      ]
     },
     "metadata": {},
     "output_type": "display_data"
    }
   ],
   "source": [
    "dx %>% distinct(pat_enc_csn_id_coded, dx_name) %>% count(dx_name) %>% \n",
    "    mutate(perc = round(100*n/43932, 2)) %>% arrange(-n) %>% head(20)"
   ]
  },
  {
   "cell_type": "code",
   "execution_count": 7,
   "metadata": {},
   "outputs": [
    {
     "data": {
      "text/html": [
       "<table>\n",
       "<caption>A data.frame: 20 × 3</caption>\n",
       "<thead>\n",
       "\t<tr><th></th><th scope=col>dx_name</th><th scope=col>n</th><th scope=col>perc</th></tr>\n",
       "\t<tr><th></th><th scope=col>&lt;chr&gt;</th><th scope=col>&lt;int&gt;</th><th scope=col>&lt;dbl&gt;</th></tr>\n",
       "</thead>\n",
       "<tbody>\n",
       "\t<tr><th scope=row>1</th><td>Suicidal ideation                                                  </td><td>407</td><td>0.93</td></tr>\n",
       "\t<tr><th scope=row>2</th><td>Pneumonia due to organism                                          </td><td>302</td><td>0.69</td></tr>\n",
       "\t<tr><th scope=row>3</th><td>Sepsis, due to unspecified organism                                </td><td>277</td><td>0.63</td></tr>\n",
       "\t<tr><th scope=row>4</th><td>Hyponatremia                                                       </td><td>274</td><td>0.62</td></tr>\n",
       "\t<tr><th scope=row>5</th><td>Non-ST elevation myocardial infarction (NSTEMI) (CMS-HCC)          </td><td>227</td><td>0.52</td></tr>\n",
       "\t<tr><th scope=row>6</th><td>SBO (small bowel obstruction) (CMS-HCC)                            </td><td>222</td><td>0.51</td></tr>\n",
       "\t<tr><th scope=row>7</th><td>Acute chest pain                                                   </td><td>211</td><td>0.48</td></tr>\n",
       "\t<tr><th scope=row>8</th><td>Small bowel obstruction (CMS-HCC)                                  </td><td>205</td><td>0.47</td></tr>\n",
       "\t<tr><th scope=row>9</th><td>Neutropenic fever (CMS-HCC)                                        </td><td>194</td><td>0.44</td></tr>\n",
       "\t<tr><th scope=row>10</th><td>Acute GI bleeding                                                  </td><td>190</td><td>0.43</td></tr>\n",
       "\t<tr><th scope=row>11</th><td>Shortness of breath                                                </td><td>186</td><td>0.42</td></tr>\n",
       "\t<tr><th scope=row>12</th><td>Altered mental status, unspecified altered mental status type      </td><td>172</td><td>0.39</td></tr>\n",
       "\t<tr><th scope=row>13</th><td>Acute kidney injury (nontraumatic) (CMS-HCC)                       </td><td>156</td><td>0.36</td></tr>\n",
       "\t<tr><th scope=row>14</th><td>COPD with acute exacerbation (CMS-HCC)                             </td><td>143</td><td>0.33</td></tr>\n",
       "\t<tr><th scope=row>15</th><td>Fever, unspecified fever cause                                     </td><td>139</td><td>0.32</td></tr>\n",
       "\t<tr><th scope=row>16</th><td>Acute renal failure, unspecified acute renal failure type (CMS-HCC)</td><td>134</td><td>0.31</td></tr>\n",
       "\t<tr><th scope=row>17</th><td>Fever and other physiologic disturbances of temperature regulation </td><td>125</td><td>0.28</td></tr>\n",
       "\t<tr><th scope=row>18</th><td>Psychosis, unspecified psychosis type (CMS-HCC)                    </td><td>123</td><td>0.28</td></tr>\n",
       "\t<tr><th scope=row>19</th><td>Generalized abdominal pain                                         </td><td>119</td><td>0.27</td></tr>\n",
       "\t<tr><th scope=row>20</th><td>Acute pyelonephritis                                               </td><td>114</td><td>0.26</td></tr>\n",
       "</tbody>\n",
       "</table>\n"
      ],
      "text/latex": [
       "A data.frame: 20 × 3\n",
       "\\begin{tabular}{r|lll}\n",
       "  & dx\\_name & n & perc\\\\\n",
       "  & <chr> & <int> & <dbl>\\\\\n",
       "\\hline\n",
       "\t1 & Suicidal ideation                                                   & 407 & 0.93\\\\\n",
       "\t2 & Pneumonia due to organism                                           & 302 & 0.69\\\\\n",
       "\t3 & Sepsis, due to unspecified organism                                 & 277 & 0.63\\\\\n",
       "\t4 & Hyponatremia                                                        & 274 & 0.62\\\\\n",
       "\t5 & Non-ST elevation myocardial infarction (NSTEMI) (CMS-HCC)           & 227 & 0.52\\\\\n",
       "\t6 & SBO (small bowel obstruction) (CMS-HCC)                             & 222 & 0.51\\\\\n",
       "\t7 & Acute chest pain                                                    & 211 & 0.48\\\\\n",
       "\t8 & Small bowel obstruction (CMS-HCC)                                   & 205 & 0.47\\\\\n",
       "\t9 & Neutropenic fever (CMS-HCC)                                         & 194 & 0.44\\\\\n",
       "\t10 & Acute GI bleeding                                                   & 190 & 0.43\\\\\n",
       "\t11 & Shortness of breath                                                 & 186 & 0.42\\\\\n",
       "\t12 & Altered mental status, unspecified altered mental status type       & 172 & 0.39\\\\\n",
       "\t13 & Acute kidney injury (nontraumatic) (CMS-HCC)                        & 156 & 0.36\\\\\n",
       "\t14 & COPD with acute exacerbation (CMS-HCC)                              & 143 & 0.33\\\\\n",
       "\t15 & Fever, unspecified fever cause                                      & 139 & 0.32\\\\\n",
       "\t16 & Acute renal failure, unspecified acute renal failure type (CMS-HCC) & 134 & 0.31\\\\\n",
       "\t17 & Fever and other physiologic disturbances of temperature regulation  & 125 & 0.28\\\\\n",
       "\t18 & Psychosis, unspecified psychosis type (CMS-HCC)                     & 123 & 0.28\\\\\n",
       "\t19 & Generalized abdominal pain                                          & 119 & 0.27\\\\\n",
       "\t20 & Acute pyelonephritis                                                & 114 & 0.26\\\\\n",
       "\\end{tabular}\n"
      ],
      "text/markdown": [
       "\n",
       "A data.frame: 20 × 3\n",
       "\n",
       "| <!--/--> | dx_name &lt;chr&gt; | n &lt;int&gt; | perc &lt;dbl&gt; |\n",
       "|---|---|---|---|\n",
       "| 1 | Suicidal ideation                                                   | 407 | 0.93 |\n",
       "| 2 | Pneumonia due to organism                                           | 302 | 0.69 |\n",
       "| 3 | Sepsis, due to unspecified organism                                 | 277 | 0.63 |\n",
       "| 4 | Hyponatremia                                                        | 274 | 0.62 |\n",
       "| 5 | Non-ST elevation myocardial infarction (NSTEMI) (CMS-HCC)           | 227 | 0.52 |\n",
       "| 6 | SBO (small bowel obstruction) (CMS-HCC)                             | 222 | 0.51 |\n",
       "| 7 | Acute chest pain                                                    | 211 | 0.48 |\n",
       "| 8 | Small bowel obstruction (CMS-HCC)                                   | 205 | 0.47 |\n",
       "| 9 | Neutropenic fever (CMS-HCC)                                         | 194 | 0.44 |\n",
       "| 10 | Acute GI bleeding                                                   | 190 | 0.43 |\n",
       "| 11 | Shortness of breath                                                 | 186 | 0.42 |\n",
       "| 12 | Altered mental status, unspecified altered mental status type       | 172 | 0.39 |\n",
       "| 13 | Acute kidney injury (nontraumatic) (CMS-HCC)                        | 156 | 0.36 |\n",
       "| 14 | COPD with acute exacerbation (CMS-HCC)                              | 143 | 0.33 |\n",
       "| 15 | Fever, unspecified fever cause                                      | 139 | 0.32 |\n",
       "| 16 | Acute renal failure, unspecified acute renal failure type (CMS-HCC) | 134 | 0.31 |\n",
       "| 17 | Fever and other physiologic disturbances of temperature regulation  | 125 | 0.28 |\n",
       "| 18 | Psychosis, unspecified psychosis type (CMS-HCC)                     | 123 | 0.28 |\n",
       "| 19 | Generalized abdominal pain                                          | 119 | 0.27 |\n",
       "| 20 | Acute pyelonephritis                                                | 114 | 0.26 |\n",
       "\n"
      ],
      "text/plain": [
       "   dx_name                                                             n   perc\n",
       "1  Suicidal ideation                                                   407 0.93\n",
       "2  Pneumonia due to organism                                           302 0.69\n",
       "3  Sepsis, due to unspecified organism                                 277 0.63\n",
       "4  Hyponatremia                                                        274 0.62\n",
       "5  Non-ST elevation myocardial infarction (NSTEMI) (CMS-HCC)           227 0.52\n",
       "6  SBO (small bowel obstruction) (CMS-HCC)                             222 0.51\n",
       "7  Acute chest pain                                                    211 0.48\n",
       "8  Small bowel obstruction (CMS-HCC)                                   205 0.47\n",
       "9  Neutropenic fever (CMS-HCC)                                         194 0.44\n",
       "10 Acute GI bleeding                                                   190 0.43\n",
       "11 Shortness of breath                                                 186 0.42\n",
       "12 Altered mental status, unspecified altered mental status type       172 0.39\n",
       "13 Acute kidney injury (nontraumatic) (CMS-HCC)                        156 0.36\n",
       "14 COPD with acute exacerbation (CMS-HCC)                              143 0.33\n",
       "15 Fever, unspecified fever cause                                      139 0.32\n",
       "16 Acute renal failure, unspecified acute renal failure type (CMS-HCC) 134 0.31\n",
       "17 Fever and other physiologic disturbances of temperature regulation  125 0.28\n",
       "18 Psychosis, unspecified psychosis type (CMS-HCC)                     123 0.28\n",
       "19 Generalized abdominal pain                                          119 0.27\n",
       "20 Acute pyelonephritis                                                114 0.26"
      ]
     },
     "metadata": {},
     "output_type": "display_data"
    }
   ],
   "source": [
    "# dx present in the ED and identified as the primary problems\n",
    "dx %>% filter(ed==\"Y\", primary==\"Y\") %>% distinct(pat_enc_csn_id_coded, dx_name) %>% count(dx_name) %>% \n",
    "    mutate(perc = round(100*n/43932, 2)) %>% arrange(-n) %>% head(20)"
   ]
  },
  {
   "cell_type": "code",
   "execution_count": 8,
   "metadata": {},
   "outputs": [
    {
     "data": {
      "text/html": [
       "0.416666666666667"
      ],
      "text/latex": [
       "0.416666666666667"
      ],
      "text/markdown": [
       "0.416666666666667"
      ],
      "text/plain": [
       "[1] 0.4166667"
      ]
     },
     "metadata": {},
     "output_type": "display_data"
    }
   ],
   "source": [
    "105/252"
   ]
  },
  {
   "cell_type": "code",
   "execution_count": 9,
   "metadata": {},
   "outputs": [
    {
     "ename": "ERROR",
     "evalue": "Error in left_join(diff4, dx): object 'diff4' not found\n",
     "output_type": "error",
     "traceback": [
      "Error in left_join(diff4, dx): object 'diff4' not found\nTraceback:\n",
      "1. left_join(diff4, dx)"
     ]
    }
   ],
   "source": [
    "# cohort transfers with diagnoses\n",
    "dx_diff4 <- left_join(diff4, dx)\n",
    "nrow(dx_diff4)\n",
    "length(unique(dx_diff4$pat_enc_csn_id_coded))\n",
    "length(unique(dx_diff4$anon_id))\n",
    "dx_diff4 %>% distinct(pat_enc_csn_id_coded, dx_name) %>% count(dx_name) %>% \n",
    "    mutate(perc = round(100*n/1120, 2)) %>% arrange(-n) %>% head(20)"
   ]
  },
  {
   "cell_type": "markdown",
   "metadata": {},
   "source": [
    "### ADT table"
   ]
  },
  {
   "cell_type": "code",
   "execution_count": 20,
   "metadata": {},
   "outputs": [
    {
     "name": "stderr",
     "output_type": "stream",
     "text": [
      "Warning message in as.integer.integer64(x):\n",
      "“NAs produced by integer overflow”\n"
     ]
    },
    {
     "data": {
      "text/html": [
       "<style>\n",
       ".list-inline {list-style: none; margin:0; padding: 0}\n",
       ".list-inline>li {display: inline-block}\n",
       ".list-inline>li:not(:last-child)::after {content: \"\\00b7\"; padding: 0 .5ex}\n",
       "</style>\n",
       "<ol class=list-inline><li>1385721</li><li>30</li></ol>\n"
      ],
      "text/latex": [
       "\\begin{enumerate*}\n",
       "\\item 1385721\n",
       "\\item 30\n",
       "\\end{enumerate*}\n"
      ],
      "text/markdown": [
       "1. 1385721\n",
       "2. 30\n",
       "\n",
       "\n"
      ],
      "text/plain": [
       "[1] 1385721      30"
      ]
     },
     "metadata": {},
     "output_type": "display_data"
    },
    {
     "data": {
      "text/html": [
       "<style>\n",
       ".list-inline {list-style: none; margin:0; padding: 0}\n",
       ".list-inline>li {display: inline-block}\n",
       ".list-inline>li:not(:last-child)::after {content: \"\\00b7\"; padding: 0 .5ex}\n",
       "</style>\n",
       "<ol class=list-inline><li>'anon_id'</li><li>'pat_enc_csn_id_coded'</li><li>'admit_time'</li><li>'first_label'</li><li>'death_24hr_recent_label'</li><li>'death_24hr_max_label'</li><li>'pred_first'</li><li>'pred_death_24hr_recent'</li><li>'event_type_c'</li><li>'event_type'</li><li>'pat_class_c'</li><li>'pat_class'</li><li>'base_pat_class_c'</li><li>'base_pat_class'</li><li>'pat_service_c'</li><li>'pat_service'</li><li>'pat_lvl_of_care_c'</li><li>'pat_lv_of_care'</li><li>'accommodation_c'</li><li>'accomodation'</li><li>'in_event_type_c'</li><li>'in_event_type'</li><li>'out_event_type_c'</li><li>'out_event_type'</li><li>'from_base_class_c'</li><li>'from_base_class'</li><li>'to_base_class_c'</li><li>'to_base_class'</li><li>'seq_num_in_enc'</li><li>'seq_num_in_bed_min'</li></ol>\n"
      ],
      "text/latex": [
       "\\begin{enumerate*}\n",
       "\\item 'anon\\_id'\n",
       "\\item 'pat\\_enc\\_csn\\_id\\_coded'\n",
       "\\item 'admit\\_time'\n",
       "\\item 'first\\_label'\n",
       "\\item 'death\\_24hr\\_recent\\_label'\n",
       "\\item 'death\\_24hr\\_max\\_label'\n",
       "\\item 'pred\\_first'\n",
       "\\item 'pred\\_death\\_24hr\\_recent'\n",
       "\\item 'event\\_type\\_c'\n",
       "\\item 'event\\_type'\n",
       "\\item 'pat\\_class\\_c'\n",
       "\\item 'pat\\_class'\n",
       "\\item 'base\\_pat\\_class\\_c'\n",
       "\\item 'base\\_pat\\_class'\n",
       "\\item 'pat\\_service\\_c'\n",
       "\\item 'pat\\_service'\n",
       "\\item 'pat\\_lvl\\_of\\_care\\_c'\n",
       "\\item 'pat\\_lv\\_of\\_care'\n",
       "\\item 'accommodation\\_c'\n",
       "\\item 'accomodation'\n",
       "\\item 'in\\_event\\_type\\_c'\n",
       "\\item 'in\\_event\\_type'\n",
       "\\item 'out\\_event\\_type\\_c'\n",
       "\\item 'out\\_event\\_type'\n",
       "\\item 'from\\_base\\_class\\_c'\n",
       "\\item 'from\\_base\\_class'\n",
       "\\item 'to\\_base\\_class\\_c'\n",
       "\\item 'to\\_base\\_class'\n",
       "\\item 'seq\\_num\\_in\\_enc'\n",
       "\\item 'seq\\_num\\_in\\_bed\\_min'\n",
       "\\end{enumerate*}\n"
      ],
      "text/markdown": [
       "1. 'anon_id'\n",
       "2. 'pat_enc_csn_id_coded'\n",
       "3. 'admit_time'\n",
       "4. 'first_label'\n",
       "5. 'death_24hr_recent_label'\n",
       "6. 'death_24hr_max_label'\n",
       "7. 'pred_first'\n",
       "8. 'pred_death_24hr_recent'\n",
       "9. 'event_type_c'\n",
       "10. 'event_type'\n",
       "11. 'pat_class_c'\n",
       "12. 'pat_class'\n",
       "13. 'base_pat_class_c'\n",
       "14. 'base_pat_class'\n",
       "15. 'pat_service_c'\n",
       "16. 'pat_service'\n",
       "17. 'pat_lvl_of_care_c'\n",
       "18. 'pat_lv_of_care'\n",
       "19. 'accommodation_c'\n",
       "20. 'accomodation'\n",
       "21. 'in_event_type_c'\n",
       "22. 'in_event_type'\n",
       "23. 'out_event_type_c'\n",
       "24. 'out_event_type'\n",
       "25. 'from_base_class_c'\n",
       "26. 'from_base_class'\n",
       "27. 'to_base_class_c'\n",
       "28. 'to_base_class'\n",
       "29. 'seq_num_in_enc'\n",
       "30. 'seq_num_in_bed_min'\n",
       "\n",
       "\n"
      ],
      "text/plain": [
       " [1] \"anon_id\"                 \"pat_enc_csn_id_coded\"   \n",
       " [3] \"admit_time\"              \"first_label\"            \n",
       " [5] \"death_24hr_recent_label\" \"death_24hr_max_label\"   \n",
       " [7] \"pred_first\"              \"pred_death_24hr_recent\" \n",
       " [9] \"event_type_c\"            \"event_type\"             \n",
       "[11] \"pat_class_c\"             \"pat_class\"              \n",
       "[13] \"base_pat_class_c\"        \"base_pat_class\"         \n",
       "[15] \"pat_service_c\"           \"pat_service\"            \n",
       "[17] \"pat_lvl_of_care_c\"       \"pat_lv_of_care\"         \n",
       "[19] \"accommodation_c\"         \"accomodation\"           \n",
       "[21] \"in_event_type_c\"         \"in_event_type\"          \n",
       "[23] \"out_event_type_c\"        \"out_event_type\"         \n",
       "[25] \"from_base_class_c\"       \"from_base_class\"        \n",
       "[27] \"to_base_class_c\"         \"to_base_class\"          \n",
       "[29] \"seq_num_in_enc\"          \"seq_num_in_bed_min\"     "
      ]
     },
     "metadata": {},
     "output_type": "display_data"
    }
   ],
   "source": [
    "q = \"\n",
    "SELECT c.anon_id, c.pat_enc_csn_id_coded, c.admit_time, c.first_label, c.death_24hr_recent_label,\n",
    "        c.death_24hr_max_label, c.pred_first, c.pred_death_24hr_recent,\n",
    "    adt.event_type_c, adt.event_type, adt.pat_class_c, adt.pat_class, adt.base_pat_class_c, adt.base_pat_class,\n",
    "    adt.pat_service_c, adt.pat_service, adt.pat_lvl_of_care_c, adt.pat_lv_of_care, adt.accommodation_c, adt.accomodation, \n",
    "    adt.in_event_type_c, adt.in_event_type, adt.out_event_type_c, adt.out_event_type, adt.from_base_class_c, adt.from_base_class,\n",
    "    adt.to_base_class_c, adt.to_base_class, adt.seq_num_in_enc, adt.seq_num_in_bed_min\n",
    "FROM \n",
    "    `som-nero-phi-jonc101.triageTD.1_4_cohort_24hrpreadmit_diff_full_features` as c\n",
    "JOIN \n",
    "    `som-nero-phi-jonc101.shc_core.adt` as adt\n",
    "ON \n",
    "    (c.anon_id = adt.anon_id and c.pat_enc_csn_id_coded = adt.pat_enc_csn_id_coded)\n",
    "\"\n",
    "# submit the query:\n",
    "update.packages('Rcpp')\n",
    "df <- dbGetQuery(con, q)\n",
    "dim(df)\n",
    "colnames(df)"
   ]
  },
  {
   "cell_type": "code",
   "execution_count": 21,
   "metadata": {},
   "outputs": [],
   "source": [
    "write.csv(df, file.path(datadir, \"4_1_diff_adt.csv\"), row.names=FALSE)"
   ]
  },
  {
   "cell_type": "code",
   "execution_count": 23,
   "metadata": {},
   "outputs": [
    {
     "name": "stderr",
     "output_type": "stream",
     "text": [
      "Warning message in as.integer.integer64(x):\n",
      "“NAs produced by integer overflow”\n"
     ]
    },
    {
     "data": {
      "text/html": [
       "<style>\n",
       ".list-inline {list-style: none; margin:0; padding: 0}\n",
       ".list-inline>li {display: inline-block}\n",
       ".list-inline>li:not(:last-child)::after {content: \"\\00b7\"; padding: 0 .5ex}\n",
       "</style>\n",
       "<ol class=list-inline><li>69334</li><li>6</li></ol>\n"
      ],
      "text/latex": [
       "\\begin{enumerate*}\n",
       "\\item 69334\n",
       "\\item 6\n",
       "\\end{enumerate*}\n"
      ],
      "text/markdown": [
       "1. 69334\n",
       "2. 6\n",
       "\n",
       "\n"
      ],
      "text/plain": [
       "[1] 69334     6"
      ]
     },
     "metadata": {},
     "output_type": "display_data"
    },
    {
     "data": {
      "text/html": [
       "<style>\n",
       ".list-inline {list-style: none; margin:0; padding: 0}\n",
       ".list-inline>li {display: inline-block}\n",
       ".list-inline>li:not(:last-child)::after {content: \"\\00b7\"; padding: 0 .5ex}\n",
       "</style>\n",
       "<ol class=list-inline><li>'anon_id'</li><li>'pat_enc_csn_id_coded'</li><li>'INTRPTR_NEEDED_YN'</li><li>'CHARLSON_SCORE'</li><li>'N_HOSPITALIZATIONS'</li><li>'DAYS_IN_HOSPITAL'</li></ol>\n"
      ],
      "text/latex": [
       "\\begin{enumerate*}\n",
       "\\item 'anon\\_id'\n",
       "\\item 'pat\\_enc\\_csn\\_id\\_coded'\n",
       "\\item 'INTRPTR\\_NEEDED\\_YN'\n",
       "\\item 'CHARLSON\\_SCORE'\n",
       "\\item 'N\\_HOSPITALIZATIONS'\n",
       "\\item 'DAYS\\_IN\\_HOSPITAL'\n",
       "\\end{enumerate*}\n"
      ],
      "text/markdown": [
       "1. 'anon_id'\n",
       "2. 'pat_enc_csn_id_coded'\n",
       "3. 'INTRPTR_NEEDED_YN'\n",
       "4. 'CHARLSON_SCORE'\n",
       "5. 'N_HOSPITALIZATIONS'\n",
       "6. 'DAYS_IN_HOSPITAL'\n",
       "\n",
       "\n"
      ],
      "text/plain": [
       "[1] \"anon_id\"              \"pat_enc_csn_id_coded\" \"INTRPTR_NEEDED_YN\"   \n",
       "[4] \"CHARLSON_SCORE\"       \"N_HOSPITALIZATIONS\"   \"DAYS_IN_HOSPITAL\"    "
      ]
     },
     "metadata": {},
     "output_type": "display_data"
    }
   ],
   "source": [
    "q = \"\n",
    "SELECT c.anon_id, c.pat_enc_csn_id_coded, \n",
    "    x.INTRPTR_NEEDED_YN, x.CHARLSON_SCORE, x.N_HOSPITALIZATIONS, x.DAYS_IN_HOSPITAL\n",
    "FROM \n",
    "    `som-nero-phi-jonc101.triageTD.1_4_cohort_24hrpreadmit_diff_full_features` as c\n",
    "JOIN \n",
    "    `som-nero-phi-jonc101.shc_core.demographic` as x\n",
    "ON \n",
    "    (c.anon_id = x.anon_id)\n",
    "\"\n",
    "# submit the query:\n",
    "update.packages('Rcpp')\n",
    "x1 <- dbGetQuery(con, q)\n",
    "dim(x1)\n",
    "colnames(x1)"
   ]
  },
  {
   "cell_type": "code",
   "execution_count": 24,
   "metadata": {},
   "outputs": [],
   "source": [
    "write.csv(x1, file.path(datadir, \"4_2_diff_demographic.csv\"), row.names=FALSE)"
   ]
  },
  {
   "cell_type": "code",
   "execution_count": 11,
   "metadata": {},
   "outputs": [
    {
     "name": "stderr",
     "output_type": "stream",
     "text": [
      "Warning message in as.integer.integer64(x):\n",
      "“NAs produced by integer overflow”\n"
     ]
    },
    {
     "data": {
      "text/html": [
       "<style>\n",
       ".list-inline {list-style: none; margin:0; padding: 0}\n",
       ".list-inline>li {display: inline-block}\n",
       ".list-inline>li:not(:last-child)::after {content: \"\\00b7\"; padding: 0 .5ex}\n",
       "</style>\n",
       "<ol class=list-inline><li>8922</li><li>10</li></ol>\n"
      ],
      "text/latex": [
       "\\begin{enumerate*}\n",
       "\\item 8922\n",
       "\\item 10\n",
       "\\end{enumerate*}\n"
      ],
      "text/markdown": [
       "1. 8922\n",
       "2. 10\n",
       "\n",
       "\n"
      ],
      "text/plain": [
       "[1] 8922   10"
      ]
     },
     "metadata": {},
     "output_type": "display_data"
    },
    {
     "data": {
      "text/html": [
       "<style>\n",
       ".list-inline {list-style: none; margin:0; padding: 0}\n",
       ".list-inline>li {display: inline-block}\n",
       ".list-inline>li:not(:last-child)::after {content: \"\\00b7\"; padding: 0 .5ex}\n",
       "</style>\n",
       "<ol class=list-inline><li>'anon_id'</li><li>'pat_enc_csn_id_coded'</li><li>'line'</li><li>'dx_name'</li><li>'primary'</li><li>'chronic'</li><li>'principal'</li><li>'hospital_pl'</li><li>'ed'</li><li>'present_on_adm'</li></ol>\n"
      ],
      "text/latex": [
       "\\begin{enumerate*}\n",
       "\\item 'anon\\_id'\n",
       "\\item 'pat\\_enc\\_csn\\_id\\_coded'\n",
       "\\item 'line'\n",
       "\\item 'dx\\_name'\n",
       "\\item 'primary'\n",
       "\\item 'chronic'\n",
       "\\item 'principal'\n",
       "\\item 'hospital\\_pl'\n",
       "\\item 'ed'\n",
       "\\item 'present\\_on\\_adm'\n",
       "\\end{enumerate*}\n"
      ],
      "text/markdown": [
       "1. 'anon_id'\n",
       "2. 'pat_enc_csn_id_coded'\n",
       "3. 'line'\n",
       "4. 'dx_name'\n",
       "5. 'primary'\n",
       "6. 'chronic'\n",
       "7. 'principal'\n",
       "8. 'hospital_pl'\n",
       "9. 'ed'\n",
       "10. 'present_on_adm'\n",
       "\n",
       "\n"
      ],
      "text/plain": [
       " [1] \"anon_id\"              \"pat_enc_csn_id_coded\" \"line\"                \n",
       " [4] \"dx_name\"              \"primary\"              \"chronic\"             \n",
       " [7] \"principal\"            \"hospital_pl\"          \"ed\"                  \n",
       "[10] \"present_on_adm\"      "
      ]
     },
     "metadata": {},
     "output_type": "display_data"
    }
   ],
   "source": [
    "# this doesn't seem right, redo with a separate SQL file as it is too large to be in R notebook\n",
    "q = \"\n",
    "SELECT distinct c.anon_id, c.pat_enc_csn_id_coded, \n",
    "    x.line, x.dx_name, x.primary, x.chronic, x.principal, x.hospital_pl, x.ed, x.present_on_adm\n",
    "FROM \n",
    "    `som-nero-phi-jonc101.triageTD.1_4_cohort_24hrpreadmit_diff_full_features` as c\n",
    "JOIN \n",
    "    `som-nero-phi-jonc101.shc_core.diagnosis_code` as x\n",
    "ON \n",
    "    (c.anon_id = x.anon_id and c.pat_enc_csn_id_coded = x.pat_enc_csn_id_jittered)\n",
    "\"\n",
    "# submit the query:\n",
    "update.packages('Rcpp')\n",
    "x2 <- dbGetQuery(con, q)\n",
    "dim(x2)\n",
    "colnames(x2)"
   ]
  },
  {
   "cell_type": "code",
   "execution_count": 12,
   "metadata": {},
   "outputs": [
    {
     "data": {
      "text/html": [
       "<table class=\"dataframe\">\n",
       "<caption>A tibble: 6 × 10</caption>\n",
       "<thead>\n",
       "\t<tr><th scope=col>anon_id</th><th scope=col>pat_enc_csn_id_coded</th><th scope=col>line</th><th scope=col>dx_name</th><th scope=col>primary</th><th scope=col>chronic</th><th scope=col>principal</th><th scope=col>hospital_pl</th><th scope=col>ed</th><th scope=col>present_on_adm</th></tr>\n",
       "\t<tr><th scope=col>&lt;chr&gt;</th><th scope=col>&lt;int&gt;</th><th scope=col>&lt;int&gt;</th><th scope=col>&lt;chr&gt;</th><th scope=col>&lt;chr&gt;</th><th scope=col>&lt;chr&gt;</th><th scope=col>&lt;chr&gt;</th><th scope=col>&lt;chr&gt;</th><th scope=col>&lt;chr&gt;</th><th scope=col>&lt;chr&gt;</th></tr>\n",
       "</thead>\n",
       "<tbody>\n",
       "\t<tr><td>JCe5f7b6</td><td>NA</td><td> 1</td><td>Hyponatremia                                                                         </td><td>Y </td><td>N </td><td>NA</td><td>NA</td><td>Y </td><td>NA</td></tr>\n",
       "\t<tr><td>JCdc571d</td><td>NA</td><td> 6</td><td>Cough                                                                                </td><td>N </td><td>N </td><td>NA</td><td>NA</td><td>N </td><td>NA</td></tr>\n",
       "\t<tr><td>JCe35ee6</td><td>NA</td><td>11</td><td>Dementia without behavioral disturbance, unspecified dementia type (CMS-HCC)         </td><td>N </td><td>Y </td><td>NA</td><td>NA</td><td>N </td><td>NA</td></tr>\n",
       "\t<tr><td>JCd1f333</td><td>NA</td><td> 3</td><td>Diabetic ketoacidosis without coma associated with type 1 diabetes mellitus (CMS-HCC)</td><td>N </td><td>N </td><td>NA</td><td>NA</td><td>N </td><td>NA</td></tr>\n",
       "\t<tr><td>JCe09f7a</td><td>NA</td><td> 1</td><td>Vomiting, unspecified                                                                </td><td>NA</td><td>NA</td><td>NA</td><td>NA</td><td>NA</td><td>NA</td></tr>\n",
       "\t<tr><td>JCe439dd</td><td>NA</td><td> 7</td><td>Bipolar 1 disorder (CMS-HCC)                                                         </td><td>N </td><td>N </td><td>NA</td><td>NA</td><td>N </td><td>NA</td></tr>\n",
       "</tbody>\n",
       "</table>\n"
      ],
      "text/latex": [
       "A tibble: 6 × 10\n",
       "\\begin{tabular}{llllllllll}\n",
       " anon\\_id & pat\\_enc\\_csn\\_id\\_coded & line & dx\\_name & primary & chronic & principal & hospital\\_pl & ed & present\\_on\\_adm\\\\\n",
       " <chr> & <int> & <int> & <chr> & <chr> & <chr> & <chr> & <chr> & <chr> & <chr>\\\\\n",
       "\\hline\n",
       "\t JCe5f7b6 & NA &  1 & Hyponatremia                                                                          & Y  & N  & NA & NA & Y  & NA\\\\\n",
       "\t JCdc571d & NA &  6 & Cough                                                                                 & N  & N  & NA & NA & N  & NA\\\\\n",
       "\t JCe35ee6 & NA & 11 & Dementia without behavioral disturbance, unspecified dementia type (CMS-HCC)          & N  & Y  & NA & NA & N  & NA\\\\\n",
       "\t JCd1f333 & NA &  3 & Diabetic ketoacidosis without coma associated with type 1 diabetes mellitus (CMS-HCC) & N  & N  & NA & NA & N  & NA\\\\\n",
       "\t JCe09f7a & NA &  1 & Vomiting, unspecified                                                                 & NA & NA & NA & NA & NA & NA\\\\\n",
       "\t JCe439dd & NA &  7 & Bipolar 1 disorder (CMS-HCC)                                                          & N  & N  & NA & NA & N  & NA\\\\\n",
       "\\end{tabular}\n"
      ],
      "text/markdown": [
       "\n",
       "A tibble: 6 × 10\n",
       "\n",
       "| anon_id &lt;chr&gt; | pat_enc_csn_id_coded &lt;int&gt; | line &lt;int&gt; | dx_name &lt;chr&gt; | primary &lt;chr&gt; | chronic &lt;chr&gt; | principal &lt;chr&gt; | hospital_pl &lt;chr&gt; | ed &lt;chr&gt; | present_on_adm &lt;chr&gt; |\n",
       "|---|---|---|---|---|---|---|---|---|---|\n",
       "| JCe5f7b6 | NA |  1 | Hyponatremia                                                                          | Y  | N  | NA | NA | Y  | NA |\n",
       "| JCdc571d | NA |  6 | Cough                                                                                 | N  | N  | NA | NA | N  | NA |\n",
       "| JCe35ee6 | NA | 11 | Dementia without behavioral disturbance, unspecified dementia type (CMS-HCC)          | N  | Y  | NA | NA | N  | NA |\n",
       "| JCd1f333 | NA |  3 | Diabetic ketoacidosis without coma associated with type 1 diabetes mellitus (CMS-HCC) | N  | N  | NA | NA | N  | NA |\n",
       "| JCe09f7a | NA |  1 | Vomiting, unspecified                                                                 | NA | NA | NA | NA | NA | NA |\n",
       "| JCe439dd | NA |  7 | Bipolar 1 disorder (CMS-HCC)                                                          | N  | N  | NA | NA | N  | NA |\n",
       "\n"
      ],
      "text/plain": [
       "  anon_id  pat_enc_csn_id_coded line\n",
       "1 JCe5f7b6 NA                    1  \n",
       "2 JCdc571d NA                    6  \n",
       "3 JCe35ee6 NA                   11  \n",
       "4 JCd1f333 NA                    3  \n",
       "5 JCe09f7a NA                    1  \n",
       "6 JCe439dd NA                    7  \n",
       "  dx_name                                                                              \n",
       "1 Hyponatremia                                                                         \n",
       "2 Cough                                                                                \n",
       "3 Dementia without behavioral disturbance, unspecified dementia type (CMS-HCC)         \n",
       "4 Diabetic ketoacidosis without coma associated with type 1 diabetes mellitus (CMS-HCC)\n",
       "5 Vomiting, unspecified                                                                \n",
       "6 Bipolar 1 disorder (CMS-HCC)                                                         \n",
       "  primary chronic principal hospital_pl ed present_on_adm\n",
       "1 Y       N       NA        NA          Y  NA            \n",
       "2 N       N       NA        NA          N  NA            \n",
       "3 N       Y       NA        NA          N  NA            \n",
       "4 N       N       NA        NA          N  NA            \n",
       "5 NA      NA      NA        NA          NA NA            \n",
       "6 N       N       NA        NA          N  NA            "
      ]
     },
     "metadata": {},
     "output_type": "display_data"
    }
   ],
   "source": [
    "head(x2)"
   ]
  },
  {
   "cell_type": "code",
   "execution_count": 9,
   "metadata": {},
   "outputs": [
    {
     "name": "stderr",
     "output_type": "stream",
     "text": [
      "Warning message in as.integer.integer64(x):\n",
      "“NAs produced by integer overflow”\n"
     ]
    },
    {
     "data": {
      "text/html": [
       "<style>\n",
       ".list-inline {list-style: none; margin:0; padding: 0}\n",
       ".list-inline>li {display: inline-block}\n",
       ".list-inline>li:not(:last-child)::after {content: \"\\00b7\"; padding: 0 .5ex}\n",
       "</style>\n",
       "<ol class=list-inline><li>315</li><li>10</li></ol>\n"
      ],
      "text/latex": [
       "\\begin{enumerate*}\n",
       "\\item 315\n",
       "\\item 10\n",
       "\\end{enumerate*}\n"
      ],
      "text/markdown": [
       "1. 315\n",
       "2. 10\n",
       "\n",
       "\n"
      ],
      "text/plain": [
       "[1] 315  10"
      ]
     },
     "metadata": {},
     "output_type": "display_data"
    },
    {
     "data": {
      "text/html": [
       "<style>\n",
       ".list-inline {list-style: none; margin:0; padding: 0}\n",
       ".list-inline>li {display: inline-block}\n",
       ".list-inline>li:not(:last-child)::after {content: \"\\00b7\"; padding: 0 .5ex}\n",
       "</style>\n",
       "<ol class=list-inline><li>'anon_id'</li><li>'pat_enc_csn_id_coded'</li><li>'line'</li><li>'dx_name'</li><li>'primary'</li><li>'chronic'</li><li>'principal'</li><li>'hospital_pl'</li><li>'ed'</li><li>'present_on_adm'</li></ol>\n"
      ],
      "text/latex": [
       "\\begin{enumerate*}\n",
       "\\item 'anon\\_id'\n",
       "\\item 'pat\\_enc\\_csn\\_id\\_coded'\n",
       "\\item 'line'\n",
       "\\item 'dx\\_name'\n",
       "\\item 'primary'\n",
       "\\item 'chronic'\n",
       "\\item 'principal'\n",
       "\\item 'hospital\\_pl'\n",
       "\\item 'ed'\n",
       "\\item 'present\\_on\\_adm'\n",
       "\\end{enumerate*}\n"
      ],
      "text/markdown": [
       "1. 'anon_id'\n",
       "2. 'pat_enc_csn_id_coded'\n",
       "3. 'line'\n",
       "4. 'dx_name'\n",
       "5. 'primary'\n",
       "6. 'chronic'\n",
       "7. 'principal'\n",
       "8. 'hospital_pl'\n",
       "9. 'ed'\n",
       "10. 'present_on_adm'\n",
       "\n",
       "\n"
      ],
      "text/plain": [
       " [1] \"anon_id\"              \"pat_enc_csn_id_coded\" \"line\"                \n",
       " [4] \"dx_name\"              \"primary\"              \"chronic\"             \n",
       " [7] \"principal\"            \"hospital_pl\"          \"ed\"                  \n",
       "[10] \"present_on_adm\"      "
      ]
     },
     "metadata": {},
     "output_type": "display_data"
    }
   ],
   "source": [
    "# this doesn't seem right, redo with a separate SQL file as it is too large to be in R notebook\n",
    "q = \"\n",
    "SELECT distinct c.anon_id, c.pat_enc_csn_id_coded, \n",
    "    x.line, x.dx_name, x.primary, x.chronic, x.principal, x.hospital_pl, x.ed, x.present_on_adm\n",
    "FROM \n",
    "    `som-nero-phi-jonc101.triageTD.1_4_cohort_24hrpreadmit_diff_full_features` as c\n",
    "JOIN \n",
    "    `som-nero-phi-jonc101.shc_core.diagnosis_code` as x\n",
    "ON \n",
    "    (c.anon_id = x.anon_id and c.pat_enc_csn_id_coded = x.pat_enc_csn_id_jittered)\n",
    "\n",
    "WHERE (x.primary = 'Y')\n",
    "\"\n",
    "# submit the query:\n",
    "update.packages('Rcpp')\n",
    "x2 <- dbGetQuery(con, q)\n",
    "dim(x2)\n",
    "colnames(x2)"
   ]
  },
  {
   "cell_type": "code",
   "execution_count": 10,
   "metadata": {},
   "outputs": [
    {
     "data": {
      "text/html": [
       "<table class=\"dataframe\">\n",
       "<caption>A tibble: 6 × 10</caption>\n",
       "<thead>\n",
       "\t<tr><th scope=col>anon_id</th><th scope=col>pat_enc_csn_id_coded</th><th scope=col>line</th><th scope=col>dx_name</th><th scope=col>primary</th><th scope=col>chronic</th><th scope=col>principal</th><th scope=col>hospital_pl</th><th scope=col>ed</th><th scope=col>present_on_adm</th></tr>\n",
       "\t<tr><th scope=col>&lt;chr&gt;</th><th scope=col>&lt;int&gt;</th><th scope=col>&lt;int&gt;</th><th scope=col>&lt;chr&gt;</th><th scope=col>&lt;chr&gt;</th><th scope=col>&lt;chr&gt;</th><th scope=col>&lt;chr&gt;</th><th scope=col>&lt;chr&gt;</th><th scope=col>&lt;chr&gt;</th><th scope=col>&lt;chr&gt;</th></tr>\n",
       "</thead>\n",
       "<tbody>\n",
       "\t<tr><td>JCe5f7b6</td><td>NA</td><td>1</td><td>Hyponatremia                                                                          </td><td>Y</td><td>N</td><td>NA</td><td>NA</td><td>Y</td><td>NA</td></tr>\n",
       "\t<tr><td>JCda6b3f</td><td>NA</td><td>1</td><td>MVC (motor vehicle collision), initial encounter                                      </td><td>Y</td><td>N</td><td>NA</td><td>NA</td><td>Y</td><td>NA</td></tr>\n",
       "\t<tr><td>JCd1ef38</td><td>NA</td><td>1</td><td>Atherosclerosis of native coronary artery of native heart, angina presence unspecified</td><td>Y</td><td>N</td><td>NA</td><td>NA</td><td>N</td><td>NA</td></tr>\n",
       "\t<tr><td>JCeb2df6</td><td>NA</td><td>3</td><td>Malignant neoplasm of ovary, unspecified laterality (CMS-HCC)                         </td><td>Y</td><td>N</td><td>NA</td><td>NA</td><td>N</td><td>NA</td></tr>\n",
       "\t<tr><td>JCd5f913</td><td>NA</td><td>1</td><td>Acute respiratory failure with hypoxia and hypercarbia (CMS-HCC)                      </td><td>Y</td><td>N</td><td>NA</td><td>NA</td><td>Y</td><td>NA</td></tr>\n",
       "\t<tr><td>JCd69bf6</td><td>NA</td><td>2</td><td>ALS (amyotrophic lateral sclerosis) (CMS-HCC)                                         </td><td>Y</td><td>N</td><td>NA</td><td>NA</td><td>N</td><td>NA</td></tr>\n",
       "</tbody>\n",
       "</table>\n"
      ],
      "text/latex": [
       "A tibble: 6 × 10\n",
       "\\begin{tabular}{llllllllll}\n",
       " anon\\_id & pat\\_enc\\_csn\\_id\\_coded & line & dx\\_name & primary & chronic & principal & hospital\\_pl & ed & present\\_on\\_adm\\\\\n",
       " <chr> & <int> & <int> & <chr> & <chr> & <chr> & <chr> & <chr> & <chr> & <chr>\\\\\n",
       "\\hline\n",
       "\t JCe5f7b6 & NA & 1 & Hyponatremia                                                                           & Y & N & NA & NA & Y & NA\\\\\n",
       "\t JCda6b3f & NA & 1 & MVC (motor vehicle collision), initial encounter                                       & Y & N & NA & NA & Y & NA\\\\\n",
       "\t JCd1ef38 & NA & 1 & Atherosclerosis of native coronary artery of native heart, angina presence unspecified & Y & N & NA & NA & N & NA\\\\\n",
       "\t JCeb2df6 & NA & 3 & Malignant neoplasm of ovary, unspecified laterality (CMS-HCC)                          & Y & N & NA & NA & N & NA\\\\\n",
       "\t JCd5f913 & NA & 1 & Acute respiratory failure with hypoxia and hypercarbia (CMS-HCC)                       & Y & N & NA & NA & Y & NA\\\\\n",
       "\t JCd69bf6 & NA & 2 & ALS (amyotrophic lateral sclerosis) (CMS-HCC)                                          & Y & N & NA & NA & N & NA\\\\\n",
       "\\end{tabular}\n"
      ],
      "text/markdown": [
       "\n",
       "A tibble: 6 × 10\n",
       "\n",
       "| anon_id &lt;chr&gt; | pat_enc_csn_id_coded &lt;int&gt; | line &lt;int&gt; | dx_name &lt;chr&gt; | primary &lt;chr&gt; | chronic &lt;chr&gt; | principal &lt;chr&gt; | hospital_pl &lt;chr&gt; | ed &lt;chr&gt; | present_on_adm &lt;chr&gt; |\n",
       "|---|---|---|---|---|---|---|---|---|---|\n",
       "| JCe5f7b6 | NA | 1 | Hyponatremia                                                                           | Y | N | NA | NA | Y | NA |\n",
       "| JCda6b3f | NA | 1 | MVC (motor vehicle collision), initial encounter                                       | Y | N | NA | NA | Y | NA |\n",
       "| JCd1ef38 | NA | 1 | Atherosclerosis of native coronary artery of native heart, angina presence unspecified | Y | N | NA | NA | N | NA |\n",
       "| JCeb2df6 | NA | 3 | Malignant neoplasm of ovary, unspecified laterality (CMS-HCC)                          | Y | N | NA | NA | N | NA |\n",
       "| JCd5f913 | NA | 1 | Acute respiratory failure with hypoxia and hypercarbia (CMS-HCC)                       | Y | N | NA | NA | Y | NA |\n",
       "| JCd69bf6 | NA | 2 | ALS (amyotrophic lateral sclerosis) (CMS-HCC)                                          | Y | N | NA | NA | N | NA |\n",
       "\n"
      ],
      "text/plain": [
       "  anon_id  pat_enc_csn_id_coded line\n",
       "1 JCe5f7b6 NA                   1   \n",
       "2 JCda6b3f NA                   1   \n",
       "3 JCd1ef38 NA                   1   \n",
       "4 JCeb2df6 NA                   3   \n",
       "5 JCd5f913 NA                   1   \n",
       "6 JCd69bf6 NA                   2   \n",
       "  dx_name                                                                               \n",
       "1 Hyponatremia                                                                          \n",
       "2 MVC (motor vehicle collision), initial encounter                                      \n",
       "3 Atherosclerosis of native coronary artery of native heart, angina presence unspecified\n",
       "4 Malignant neoplasm of ovary, unspecified laterality (CMS-HCC)                         \n",
       "5 Acute respiratory failure with hypoxia and hypercarbia (CMS-HCC)                      \n",
       "6 ALS (amyotrophic lateral sclerosis) (CMS-HCC)                                         \n",
       "  primary chronic principal hospital_pl ed present_on_adm\n",
       "1 Y       N       NA        NA          Y  NA            \n",
       "2 Y       N       NA        NA          Y  NA            \n",
       "3 Y       N       NA        NA          N  NA            \n",
       "4 Y       N       NA        NA          N  NA            \n",
       "5 Y       N       NA        NA          Y  NA            \n",
       "6 Y       N       NA        NA          N  NA            "
      ]
     },
     "metadata": {},
     "output_type": "display_data"
    }
   ],
   "source": [
    "head(x2)"
   ]
  },
  {
   "cell_type": "code",
   "execution_count": 42,
   "metadata": {},
   "outputs": [],
   "source": [
    "write.csv(x2, file.path(datadir, \"4_2_diff_dx_primary.csv\"), row.names=FALSE)"
   ]
  },
  {
   "cell_type": "markdown",
   "metadata": {},
   "source": [
    "### Read the queried file back"
   ]
  },
  {
   "cell_type": "code",
   "execution_count": 10,
   "metadata": {},
   "outputs": [
    {
     "data": {
      "text/html": [
       "<style>\n",
       ".list-inline {list-style: none; margin:0; padding: 0}\n",
       ".list-inline>li {display: inline-block}\n",
       ".list-inline>li:not(:last-child)::after {content: \"\\00b7\"; padding: 0 .5ex}\n",
       "</style>\n",
       "<ol class=list-inline><li>1385721</li><li>30</li></ol>\n"
      ],
      "text/latex": [
       "\\begin{enumerate*}\n",
       "\\item 1385721\n",
       "\\item 30\n",
       "\\end{enumerate*}\n"
      ],
      "text/markdown": [
       "1. 1385721\n",
       "2. 30\n",
       "\n",
       "\n"
      ],
      "text/plain": [
       "[1] 1385721      30"
      ]
     },
     "metadata": {},
     "output_type": "display_data"
    },
    {
     "data": {
      "text/html": [
       "<style>\n",
       ".list-inline {list-style: none; margin:0; padding: 0}\n",
       ".list-inline>li {display: inline-block}\n",
       ".list-inline>li:not(:last-child)::after {content: \"\\00b7\"; padding: 0 .5ex}\n",
       "</style>\n",
       "<ol class=list-inline><li>'anon_id'</li><li>'pat_enc_csn_id_coded'</li><li>'admit_time'</li><li>'first_label'</li><li>'death_24hr_recent_label'</li><li>'death_24hr_max_label'</li><li>'pred_first'</li><li>'pred_death_24hr_recent'</li><li>'event_type_c'</li><li>'event_type'</li><li>'pat_class_c'</li><li>'pat_class'</li><li>'base_pat_class_c'</li><li>'base_pat_class'</li><li>'pat_service_c'</li><li>'pat_service'</li><li>'pat_lvl_of_care_c'</li><li>'pat_lv_of_care'</li><li>'accommodation_c'</li><li>'accomodation'</li><li>'in_event_type_c'</li><li>'in_event_type'</li><li>'out_event_type_c'</li><li>'out_event_type'</li><li>'from_base_class_c'</li><li>'from_base_class'</li><li>'to_base_class_c'</li><li>'to_base_class'</li><li>'seq_num_in_enc'</li><li>'seq_num_in_bed_min'</li></ol>\n"
      ],
      "text/latex": [
       "\\begin{enumerate*}\n",
       "\\item 'anon\\_id'\n",
       "\\item 'pat\\_enc\\_csn\\_id\\_coded'\n",
       "\\item 'admit\\_time'\n",
       "\\item 'first\\_label'\n",
       "\\item 'death\\_24hr\\_recent\\_label'\n",
       "\\item 'death\\_24hr\\_max\\_label'\n",
       "\\item 'pred\\_first'\n",
       "\\item 'pred\\_death\\_24hr\\_recent'\n",
       "\\item 'event\\_type\\_c'\n",
       "\\item 'event\\_type'\n",
       "\\item 'pat\\_class\\_c'\n",
       "\\item 'pat\\_class'\n",
       "\\item 'base\\_pat\\_class\\_c'\n",
       "\\item 'base\\_pat\\_class'\n",
       "\\item 'pat\\_service\\_c'\n",
       "\\item 'pat\\_service'\n",
       "\\item 'pat\\_lvl\\_of\\_care\\_c'\n",
       "\\item 'pat\\_lv\\_of\\_care'\n",
       "\\item 'accommodation\\_c'\n",
       "\\item 'accomodation'\n",
       "\\item 'in\\_event\\_type\\_c'\n",
       "\\item 'in\\_event\\_type'\n",
       "\\item 'out\\_event\\_type\\_c'\n",
       "\\item 'out\\_event\\_type'\n",
       "\\item 'from\\_base\\_class\\_c'\n",
       "\\item 'from\\_base\\_class'\n",
       "\\item 'to\\_base\\_class\\_c'\n",
       "\\item 'to\\_base\\_class'\n",
       "\\item 'seq\\_num\\_in\\_enc'\n",
       "\\item 'seq\\_num\\_in\\_bed\\_min'\n",
       "\\end{enumerate*}\n"
      ],
      "text/markdown": [
       "1. 'anon_id'\n",
       "2. 'pat_enc_csn_id_coded'\n",
       "3. 'admit_time'\n",
       "4. 'first_label'\n",
       "5. 'death_24hr_recent_label'\n",
       "6. 'death_24hr_max_label'\n",
       "7. 'pred_first'\n",
       "8. 'pred_death_24hr_recent'\n",
       "9. 'event_type_c'\n",
       "10. 'event_type'\n",
       "11. 'pat_class_c'\n",
       "12. 'pat_class'\n",
       "13. 'base_pat_class_c'\n",
       "14. 'base_pat_class'\n",
       "15. 'pat_service_c'\n",
       "16. 'pat_service'\n",
       "17. 'pat_lvl_of_care_c'\n",
       "18. 'pat_lv_of_care'\n",
       "19. 'accommodation_c'\n",
       "20. 'accomodation'\n",
       "21. 'in_event_type_c'\n",
       "22. 'in_event_type'\n",
       "23. 'out_event_type_c'\n",
       "24. 'out_event_type'\n",
       "25. 'from_base_class_c'\n",
       "26. 'from_base_class'\n",
       "27. 'to_base_class_c'\n",
       "28. 'to_base_class'\n",
       "29. 'seq_num_in_enc'\n",
       "30. 'seq_num_in_bed_min'\n",
       "\n",
       "\n"
      ],
      "text/plain": [
       " [1] \"anon_id\"                 \"pat_enc_csn_id_coded\"   \n",
       " [3] \"admit_time\"              \"first_label\"            \n",
       " [5] \"death_24hr_recent_label\" \"death_24hr_max_label\"   \n",
       " [7] \"pred_first\"              \"pred_death_24hr_recent\" \n",
       " [9] \"event_type_c\"            \"event_type\"             \n",
       "[11] \"pat_class_c\"             \"pat_class\"              \n",
       "[13] \"base_pat_class_c\"        \"base_pat_class\"         \n",
       "[15] \"pat_service_c\"           \"pat_service\"            \n",
       "[17] \"pat_lvl_of_care_c\"       \"pat_lv_of_care\"         \n",
       "[19] \"accommodation_c\"         \"accomodation\"           \n",
       "[21] \"in_event_type_c\"         \"in_event_type\"          \n",
       "[23] \"out_event_type_c\"        \"out_event_type\"         \n",
       "[25] \"from_base_class_c\"       \"from_base_class\"        \n",
       "[27] \"to_base_class_c\"         \"to_base_class\"          \n",
       "[29] \"seq_num_in_enc\"          \"seq_num_in_bed_min\"     "
      ]
     },
     "metadata": {},
     "output_type": "display_data"
    }
   ],
   "source": [
    "adt <- read.csv(file.path(datadir, \"4_2_diff_adt.csv\"))\n",
    "dim(adt) # should have 1385721\n",
    "colnames(adt)"
   ]
  },
  {
   "cell_type": "raw",
   "metadata": {},
   "source": [
    "# disable quotes\n",
    "adt <- read.csv(file.path(datadir, \"4_1_diff_adt.csv\"), quote = \"\" )\n",
    "dim(adt) # should have 1385721\n",
    "colnames(adt)"
   ]
  },
  {
   "cell_type": "code",
   "execution_count": 11,
   "metadata": {},
   "outputs": [
    {
     "data": {
      "text/html": [
       "<table>\n",
       "<caption>A data.frame: 1 × 30</caption>\n",
       "<thead>\n",
       "\t<tr><th></th><th scope=col>anon_id</th><th scope=col>pat_enc_csn_id_coded</th><th scope=col>admit_time</th><th scope=col>first_label</th><th scope=col>death_24hr_recent_label</th><th scope=col>death_24hr_max_label</th><th scope=col>pred_first</th><th scope=col>pred_death_24hr_recent</th><th scope=col>event_type_c</th><th scope=col>event_type</th><th scope=col>pat_class_c</th><th scope=col>pat_class</th><th scope=col>base_pat_class_c</th><th scope=col>base_pat_class</th><th scope=col>pat_service_c</th><th scope=col>pat_service</th><th scope=col>pat_lvl_of_care_c</th><th scope=col>pat_lv_of_care</th><th scope=col>accommodation_c</th><th scope=col>accomodation</th><th scope=col>in_event_type_c</th><th scope=col>in_event_type</th><th scope=col>out_event_type_c</th><th scope=col>out_event_type</th><th scope=col>from_base_class_c</th><th scope=col>from_base_class</th><th scope=col>to_base_class_c</th><th scope=col>to_base_class</th><th scope=col>seq_num_in_enc</th><th scope=col>seq_num_in_bed_min</th></tr>\n",
       "\t<tr><th></th><th scope=col>&lt;chr&gt;</th><th scope=col>&lt;lgl&gt;</th><th scope=col>&lt;chr&gt;</th><th scope=col>&lt;int&gt;</th><th scope=col>&lt;int&gt;</th><th scope=col>&lt;int&gt;</th><th scope=col>&lt;dbl&gt;</th><th scope=col>&lt;dbl&gt;</th><th scope=col>&lt;int&gt;</th><th scope=col>&lt;chr&gt;</th><th scope=col>&lt;int&gt;</th><th scope=col>&lt;chr&gt;</th><th scope=col>&lt;int&gt;</th><th scope=col>&lt;chr&gt;</th><th scope=col>&lt;int&gt;</th><th scope=col>&lt;chr&gt;</th><th scope=col>&lt;int&gt;</th><th scope=col>&lt;chr&gt;</th><th scope=col>&lt;int&gt;</th><th scope=col>&lt;chr&gt;</th><th scope=col>&lt;int&gt;</th><th scope=col>&lt;chr&gt;</th><th scope=col>&lt;int&gt;</th><th scope=col>&lt;chr&gt;</th><th scope=col>&lt;int&gt;</th><th scope=col>&lt;chr&gt;</th><th scope=col>&lt;int&gt;</th><th scope=col>&lt;chr&gt;</th><th scope=col>&lt;int&gt;</th><th scope=col>&lt;int&gt;</th></tr>\n",
       "</thead>\n",
       "<tbody>\n",
       "\t<tr><th scope=row>1</th><td>JC2a1bd68</td><td>NA</td><td>2019-12-24 23:20:00</td><td>1</td><td>1</td><td>1</td><td>0.5241561</td><td>0.2500841</td><td>1</td><td>Admission</td><td>112</td><td>Emergency Services</td><td>3</td><td>Emergency</td><td>100</td><td>Emergency</td><td>NA</td><td>NA</td><td>10001</td><td>Ward </td><td>1</td><td>Admission</td><td>NA</td><td>NA</td><td>0</td><td>NA</td><td>3</td><td>Emergency</td><td>1</td><td>1</td></tr>\n",
       "</tbody>\n",
       "</table>\n"
      ],
      "text/latex": [
       "A data.frame: 1 × 30\n",
       "\\begin{tabular}{r|llllllllllllllllllllllllllllll}\n",
       "  & anon\\_id & pat\\_enc\\_csn\\_id\\_coded & admit\\_time & first\\_label & death\\_24hr\\_recent\\_label & death\\_24hr\\_max\\_label & pred\\_first & pred\\_death\\_24hr\\_recent & event\\_type\\_c & event\\_type & pat\\_class\\_c & pat\\_class & base\\_pat\\_class\\_c & base\\_pat\\_class & pat\\_service\\_c & pat\\_service & pat\\_lvl\\_of\\_care\\_c & pat\\_lv\\_of\\_care & accommodation\\_c & accomodation & in\\_event\\_type\\_c & in\\_event\\_type & out\\_event\\_type\\_c & out\\_event\\_type & from\\_base\\_class\\_c & from\\_base\\_class & to\\_base\\_class\\_c & to\\_base\\_class & seq\\_num\\_in\\_enc & seq\\_num\\_in\\_bed\\_min\\\\\n",
       "  & <chr> & <lgl> & <chr> & <int> & <int> & <int> & <dbl> & <dbl> & <int> & <chr> & <int> & <chr> & <int> & <chr> & <int> & <chr> & <int> & <chr> & <int> & <chr> & <int> & <chr> & <int> & <chr> & <int> & <chr> & <int> & <chr> & <int> & <int>\\\\\n",
       "\\hline\n",
       "\t1 & JC2a1bd68 & NA & 2019-12-24 23:20:00 & 1 & 1 & 1 & 0.5241561 & 0.2500841 & 1 & Admission & 112 & Emergency Services & 3 & Emergency & 100 & Emergency & NA & NA & 10001 & Ward  & 1 & Admission & NA & NA & 0 & NA & 3 & Emergency & 1 & 1\\\\\n",
       "\\end{tabular}\n"
      ],
      "text/markdown": [
       "\n",
       "A data.frame: 1 × 30\n",
       "\n",
       "| <!--/--> | anon_id &lt;chr&gt; | pat_enc_csn_id_coded &lt;lgl&gt; | admit_time &lt;chr&gt; | first_label &lt;int&gt; | death_24hr_recent_label &lt;int&gt; | death_24hr_max_label &lt;int&gt; | pred_first &lt;dbl&gt; | pred_death_24hr_recent &lt;dbl&gt; | event_type_c &lt;int&gt; | event_type &lt;chr&gt; | pat_class_c &lt;int&gt; | pat_class &lt;chr&gt; | base_pat_class_c &lt;int&gt; | base_pat_class &lt;chr&gt; | pat_service_c &lt;int&gt; | pat_service &lt;chr&gt; | pat_lvl_of_care_c &lt;int&gt; | pat_lv_of_care &lt;chr&gt; | accommodation_c &lt;int&gt; | accomodation &lt;chr&gt; | in_event_type_c &lt;int&gt; | in_event_type &lt;chr&gt; | out_event_type_c &lt;int&gt; | out_event_type &lt;chr&gt; | from_base_class_c &lt;int&gt; | from_base_class &lt;chr&gt; | to_base_class_c &lt;int&gt; | to_base_class &lt;chr&gt; | seq_num_in_enc &lt;int&gt; | seq_num_in_bed_min &lt;int&gt; |\n",
       "|---|---|---|---|---|---|---|---|---|---|---|---|---|---|---|---|---|---|---|---|---|---|---|---|---|---|---|---|---|---|---|\n",
       "| 1 | JC2a1bd68 | NA | 2019-12-24 23:20:00 | 1 | 1 | 1 | 0.5241561 | 0.2500841 | 1 | Admission | 112 | Emergency Services | 3 | Emergency | 100 | Emergency | NA | NA | 10001 | Ward  | 1 | Admission | NA | NA | 0 | NA | 3 | Emergency | 1 | 1 |\n",
       "\n"
      ],
      "text/plain": [
       "  anon_id   pat_enc_csn_id_coded admit_time          first_label\n",
       "1 JC2a1bd68 NA                   2019-12-24 23:20:00 1          \n",
       "  death_24hr_recent_label death_24hr_max_label pred_first\n",
       "1 1                       1                    0.5241561 \n",
       "  pred_death_24hr_recent event_type_c event_type pat_class_c pat_class         \n",
       "1 0.2500841              1            Admission  112         Emergency Services\n",
       "  base_pat_class_c base_pat_class pat_service_c pat_service pat_lvl_of_care_c\n",
       "1 3                Emergency      100           Emergency   NA               \n",
       "  pat_lv_of_care accommodation_c accomodation in_event_type_c in_event_type\n",
       "1 NA             10001           Ward         1               Admission    \n",
       "  out_event_type_c out_event_type from_base_class_c from_base_class\n",
       "1 NA               NA             0                 NA             \n",
       "  to_base_class_c to_base_class seq_num_in_enc seq_num_in_bed_min\n",
       "1 3               Emergency     1              1                 "
      ]
     },
     "metadata": {},
     "output_type": "display_data"
    }
   ],
   "source": [
    "head(adt, 1)"
   ]
  },
  {
   "cell_type": "code",
   "execution_count": 12,
   "metadata": {},
   "outputs": [
    {
     "data": {
      "text/html": [
       "<table>\n",
       "<caption>A data.frame: 4 × 3</caption>\n",
       "<thead>\n",
       "\t<tr><th scope=col>first_label</th><th scope=col>death_24hr_recent_label</th><th scope=col>n</th></tr>\n",
       "\t<tr><th scope=col>&lt;int&gt;</th><th scope=col>&lt;int&gt;</th><th scope=col>&lt;int&gt;</th></tr>\n",
       "</thead>\n",
       "<tbody>\n",
       "\t<tr><td>1</td><td>1</td><td>113</td></tr>\n",
       "\t<tr><td>0</td><td>0</td><td>102</td></tr>\n",
       "\t<tr><td>1</td><td>0</td><td> 90</td></tr>\n",
       "\t<tr><td>0</td><td>1</td><td> 18</td></tr>\n",
       "</tbody>\n",
       "</table>\n"
      ],
      "text/latex": [
       "A data.frame: 4 × 3\n",
       "\\begin{tabular}{lll}\n",
       " first\\_label & death\\_24hr\\_recent\\_label & n\\\\\n",
       " <int> & <int> & <int>\\\\\n",
       "\\hline\n",
       "\t 1 & 1 & 113\\\\\n",
       "\t 0 & 0 & 102\\\\\n",
       "\t 1 & 0 &  90\\\\\n",
       "\t 0 & 1 &  18\\\\\n",
       "\\end{tabular}\n"
      ],
      "text/markdown": [
       "\n",
       "A data.frame: 4 × 3\n",
       "\n",
       "| first_label &lt;int&gt; | death_24hr_recent_label &lt;int&gt; | n &lt;int&gt; |\n",
       "|---|---|---|\n",
       "| 1 | 1 | 113 |\n",
       "| 0 | 0 | 102 |\n",
       "| 1 | 0 |  90 |\n",
       "| 0 | 1 |  18 |\n",
       "\n"
      ],
      "text/plain": [
       "  first_label death_24hr_recent_label n  \n",
       "1 1           1                       113\n",
       "2 0           0                       102\n",
       "3 1           0                        90\n",
       "4 0           1                        18"
      ]
     },
     "metadata": {},
     "output_type": "display_data"
    },
    {
     "data": {
      "text/html": [
       "<table>\n",
       "<caption>A data.frame: 6 × 3</caption>\n",
       "<thead>\n",
       "\t<tr><th scope=col>event_type</th><th scope=col>event_type_c</th><th scope=col>n</th></tr>\n",
       "\t<tr><th scope=col>&lt;chr&gt;</th><th scope=col>&lt;int&gt;</th><th scope=col>&lt;int&gt;</th></tr>\n",
       "</thead>\n",
       "<tbody>\n",
       "\t<tr><td>Census        </td><td>6</td><td>419221</td></tr>\n",
       "\t<tr><td>Transfer In   </td><td>3</td><td>305337</td></tr>\n",
       "\t<tr><td>Transfer Out  </td><td>4</td><td>305337</td></tr>\n",
       "\t<tr><td>Patient Update</td><td>5</td><td>218436</td></tr>\n",
       "\t<tr><td>Admission     </td><td>1</td><td> 69334</td></tr>\n",
       "\t<tr><td>Discharge     </td><td>2</td><td> 68056</td></tr>\n",
       "</tbody>\n",
       "</table>\n"
      ],
      "text/latex": [
       "A data.frame: 6 × 3\n",
       "\\begin{tabular}{lll}\n",
       " event\\_type & event\\_type\\_c & n\\\\\n",
       " <chr> & <int> & <int>\\\\\n",
       "\\hline\n",
       "\t Census         & 6 & 419221\\\\\n",
       "\t Transfer In    & 3 & 305337\\\\\n",
       "\t Transfer Out   & 4 & 305337\\\\\n",
       "\t Patient Update & 5 & 218436\\\\\n",
       "\t Admission      & 1 &  69334\\\\\n",
       "\t Discharge      & 2 &  68056\\\\\n",
       "\\end{tabular}\n"
      ],
      "text/markdown": [
       "\n",
       "A data.frame: 6 × 3\n",
       "\n",
       "| event_type &lt;chr&gt; | event_type_c &lt;int&gt; | n &lt;int&gt; |\n",
       "|---|---|---|\n",
       "| Census         | 6 | 419221 |\n",
       "| Transfer In    | 3 | 305337 |\n",
       "| Transfer Out   | 4 | 305337 |\n",
       "| Patient Update | 5 | 218436 |\n",
       "| Admission      | 1 |  69334 |\n",
       "| Discharge      | 2 |  68056 |\n",
       "\n"
      ],
      "text/plain": [
       "  event_type     event_type_c n     \n",
       "1 Census         6            419221\n",
       "2 Transfer In    3            305337\n",
       "3 Transfer Out   4            305337\n",
       "4 Patient Update 5            218436\n",
       "5 Admission      1             69334\n",
       "6 Discharge      2             68056"
      ]
     },
     "metadata": {},
     "output_type": "display_data"
    },
    {
     "data": {
      "text/html": [
       "<table>\n",
       "<caption>A data.frame: 4 × 3</caption>\n",
       "<thead>\n",
       "\t<tr><th scope=col>pat_class</th><th scope=col>pat_class_c</th><th scope=col>n</th></tr>\n",
       "\t<tr><th scope=col>&lt;chr&gt;</th><th scope=col>&lt;int&gt;</th><th scope=col>&lt;int&gt;</th></tr>\n",
       "</thead>\n",
       "<tbody>\n",
       "\t<tr><td>Inpatient           </td><td>126</td><td>1182999</td></tr>\n",
       "\t<tr><td>Emergency Services  </td><td>112</td><td> 200344</td></tr>\n",
       "\t<tr><td>Observation         </td><td>128</td><td>   1727</td></tr>\n",
       "\t<tr><td>OP Surgery/Procedure</td><td>122</td><td>    651</td></tr>\n",
       "</tbody>\n",
       "</table>\n"
      ],
      "text/latex": [
       "A data.frame: 4 × 3\n",
       "\\begin{tabular}{lll}\n",
       " pat\\_class & pat\\_class\\_c & n\\\\\n",
       " <chr> & <int> & <int>\\\\\n",
       "\\hline\n",
       "\t Inpatient            & 126 & 1182999\\\\\n",
       "\t Emergency Services   & 112 &  200344\\\\\n",
       "\t Observation          & 128 &    1727\\\\\n",
       "\t OP Surgery/Procedure & 122 &     651\\\\\n",
       "\\end{tabular}\n"
      ],
      "text/markdown": [
       "\n",
       "A data.frame: 4 × 3\n",
       "\n",
       "| pat_class &lt;chr&gt; | pat_class_c &lt;int&gt; | n &lt;int&gt; |\n",
       "|---|---|---|\n",
       "| Inpatient            | 126 | 1182999 |\n",
       "| Emergency Services   | 112 |  200344 |\n",
       "| Observation          | 128 |    1727 |\n",
       "| OP Surgery/Procedure | 122 |     651 |\n",
       "\n"
      ],
      "text/plain": [
       "  pat_class            pat_class_c n      \n",
       "1 Inpatient            126         1182999\n",
       "2 Emergency Services   112          200344\n",
       "3 Observation          128            1727\n",
       "4 OP Surgery/Procedure 122             651"
      ]
     },
     "metadata": {},
     "output_type": "display_data"
    },
    {
     "data": {
      "text/html": [
       "<table>\n",
       "<caption>A data.frame: 4 × 3</caption>\n",
       "<thead>\n",
       "\t<tr><th scope=col>base_pat_class</th><th scope=col>base_pat_class_c</th><th scope=col>n</th></tr>\n",
       "\t<tr><th scope=col>&lt;chr&gt;</th><th scope=col>&lt;int&gt;</th><th scope=col>&lt;int&gt;</th></tr>\n",
       "</thead>\n",
       "<tbody>\n",
       "\t<tr><td>NA        </td><td>NA</td><td>1246039</td></tr>\n",
       "\t<tr><td>Emergency </td><td> 3</td><td>  69334</td></tr>\n",
       "\t<tr><td>Inpatient </td><td> 1</td><td>  69334</td></tr>\n",
       "\t<tr><td>Outpatient</td><td> 2</td><td>   1014</td></tr>\n",
       "</tbody>\n",
       "</table>\n"
      ],
      "text/latex": [
       "A data.frame: 4 × 3\n",
       "\\begin{tabular}{lll}\n",
       " base\\_pat\\_class & base\\_pat\\_class\\_c & n\\\\\n",
       " <chr> & <int> & <int>\\\\\n",
       "\\hline\n",
       "\t NA         & NA & 1246039\\\\\n",
       "\t Emergency  &  3 &   69334\\\\\n",
       "\t Inpatient  &  1 &   69334\\\\\n",
       "\t Outpatient &  2 &    1014\\\\\n",
       "\\end{tabular}\n"
      ],
      "text/markdown": [
       "\n",
       "A data.frame: 4 × 3\n",
       "\n",
       "| base_pat_class &lt;chr&gt; | base_pat_class_c &lt;int&gt; | n &lt;int&gt; |\n",
       "|---|---|---|\n",
       "| NA         | NA | 1246039 |\n",
       "| Emergency  |  3 |   69334 |\n",
       "| Inpatient  |  1 |   69334 |\n",
       "| Outpatient |  2 |    1014 |\n",
       "\n"
      ],
      "text/plain": [
       "  base_pat_class base_pat_class_c n      \n",
       "1 NA             NA               1246039\n",
       "2 Emergency       3                 69334\n",
       "3 Inpatient       1                 69334\n",
       "4 Outpatient      2                  1014"
      ]
     },
     "metadata": {},
     "output_type": "display_data"
    },
    {
     "data": {
      "text/html": [
       "<table>\n",
       "<caption>A data.frame: 38 × 3</caption>\n",
       "<thead>\n",
       "\t<tr><th scope=col>pat_service</th><th scope=col>pat_service_c</th><th scope=col>n</th></tr>\n",
       "\t<tr><th scope=col>&lt;chr&gt;</th><th scope=col>&lt;int&gt;</th><th scope=col>&lt;int&gt;</th></tr>\n",
       "</thead>\n",
       "<tbody>\n",
       "\t<tr><td>Critical Care                </td><td> 151</td><td>283991</td></tr>\n",
       "\t<tr><td>Medicine                     </td><td>  39</td><td>191213</td></tr>\n",
       "\t<tr><td>Emergency                    </td><td> 100</td><td>141033</td></tr>\n",
       "\t<tr><td>Emergency Medicine           </td><td> 187</td><td>120906</td></tr>\n",
       "\t<tr><td>General Medicine (University)</td><td> 153</td><td> 87235</td></tr>\n",
       "\t<tr><td>Trauma                       </td><td>  72</td><td> 86612</td></tr>\n",
       "\t<tr><td>General Surgery              </td><td>  59</td><td> 81189</td></tr>\n",
       "\t<tr><td>Cardiology                   </td><td> 155</td><td> 61527</td></tr>\n",
       "\t<tr><td>General Medicine (PAMF)      </td><td> 154</td><td> 30827</td></tr>\n",
       "\t<tr><td>Neurosurgery                 </td><td>  62</td><td> 30067</td></tr>\n",
       "\t<tr><td>ICU Trauma/GenSurg           </td><td> 152</td><td> 24580</td></tr>\n",
       "\t<tr><td>Cardiac Surgery              </td><td>  58</td><td> 23868</td></tr>\n",
       "\t<tr><td>Plastic Surgery              </td><td>  67</td><td> 20756</td></tr>\n",
       "\t<tr><td>Orthopaedic Surgery          </td><td>  64</td><td> 20236</td></tr>\n",
       "\t<tr><td>Oncology                     </td><td>  47</td><td> 19354</td></tr>\n",
       "\t<tr><td>Neurology/Stroke Svc         </td><td>  53</td><td> 18877</td></tr>\n",
       "\t<tr><td>Neurocritical Care           </td><td>1567</td><td> 16382</td></tr>\n",
       "\t<tr><td>Hematology/Oncology          </td><td> 207</td><td> 14543</td></tr>\n",
       "\t<tr><td>GI/Liver                     </td><td> 220</td><td> 13832</td></tr>\n",
       "\t<tr><td>Liver Transplant             </td><td>  61</td><td> 13650</td></tr>\n",
       "\t<tr><td>Emergency Critical Care      </td><td>1554</td><td> 12621</td></tr>\n",
       "\t<tr><td>Neurology                    </td><td>  52</td><td> 10603</td></tr>\n",
       "\t<tr><td>Hematology                   </td><td>  44</td><td>  8736</td></tr>\n",
       "\t<tr><td>Cardiovascular Medicine      </td><td>  31</td><td>  8501</td></tr>\n",
       "\t<tr><td>Vascular Surgery             </td><td> 189</td><td>  8286</td></tr>\n",
       "\t<tr><td>Cardiology Arrhythmia        </td><td>  27</td><td>  6600</td></tr>\n",
       "\t<tr><td>Gyn-Oncology                 </td><td>  36</td><td>  5928</td></tr>\n",
       "\t<tr><td>Cardiology Interventional    </td><td> 191</td><td>  4012</td></tr>\n",
       "\t<tr><td>Hepatology                   </td><td> 193</td><td>  3822</td></tr>\n",
       "\t<tr><td>Cardiovascular ICU           </td><td> 219</td><td>  3758</td></tr>\n",
       "\t<tr><td>NA                           </td><td>  NA</td><td>  2704</td></tr>\n",
       "\t<tr><td>Pulmonary Transplant         </td><td> 198</td><td>  2676</td></tr>\n",
       "\t<tr><td>Urology                      </td><td>  69</td><td>  2016</td></tr>\n",
       "\t<tr><td>Pulmonary                    </td><td> 167</td><td>  1696</td></tr>\n",
       "\t<tr><td>ENT                          </td><td>  65</td><td>   952</td></tr>\n",
       "\t<tr><td>General Medicine (T)         </td><td>  46</td><td>   920</td></tr>\n",
       "\t<tr><td>Gynecology                   </td><td>  35</td><td>   756</td></tr>\n",
       "\t<tr><td>Sleep Medicine               </td><td> 185</td><td>   456</td></tr>\n",
       "</tbody>\n",
       "</table>\n"
      ],
      "text/latex": [
       "A data.frame: 38 × 3\n",
       "\\begin{tabular}{lll}\n",
       " pat\\_service & pat\\_service\\_c & n\\\\\n",
       " <chr> & <int> & <int>\\\\\n",
       "\\hline\n",
       "\t Critical Care                 &  151 & 283991\\\\\n",
       "\t Medicine                      &   39 & 191213\\\\\n",
       "\t Emergency                     &  100 & 141033\\\\\n",
       "\t Emergency Medicine            &  187 & 120906\\\\\n",
       "\t General Medicine (University) &  153 &  87235\\\\\n",
       "\t Trauma                        &   72 &  86612\\\\\n",
       "\t General Surgery               &   59 &  81189\\\\\n",
       "\t Cardiology                    &  155 &  61527\\\\\n",
       "\t General Medicine (PAMF)       &  154 &  30827\\\\\n",
       "\t Neurosurgery                  &   62 &  30067\\\\\n",
       "\t ICU Trauma/GenSurg            &  152 &  24580\\\\\n",
       "\t Cardiac Surgery               &   58 &  23868\\\\\n",
       "\t Plastic Surgery               &   67 &  20756\\\\\n",
       "\t Orthopaedic Surgery           &   64 &  20236\\\\\n",
       "\t Oncology                      &   47 &  19354\\\\\n",
       "\t Neurology/Stroke Svc          &   53 &  18877\\\\\n",
       "\t Neurocritical Care            & 1567 &  16382\\\\\n",
       "\t Hematology/Oncology           &  207 &  14543\\\\\n",
       "\t GI/Liver                      &  220 &  13832\\\\\n",
       "\t Liver Transplant              &   61 &  13650\\\\\n",
       "\t Emergency Critical Care       & 1554 &  12621\\\\\n",
       "\t Neurology                     &   52 &  10603\\\\\n",
       "\t Hematology                    &   44 &   8736\\\\\n",
       "\t Cardiovascular Medicine       &   31 &   8501\\\\\n",
       "\t Vascular Surgery              &  189 &   8286\\\\\n",
       "\t Cardiology Arrhythmia         &   27 &   6600\\\\\n",
       "\t Gyn-Oncology                  &   36 &   5928\\\\\n",
       "\t Cardiology Interventional     &  191 &   4012\\\\\n",
       "\t Hepatology                    &  193 &   3822\\\\\n",
       "\t Cardiovascular ICU            &  219 &   3758\\\\\n",
       "\t NA                            &   NA &   2704\\\\\n",
       "\t Pulmonary Transplant          &  198 &   2676\\\\\n",
       "\t Urology                       &   69 &   2016\\\\\n",
       "\t Pulmonary                     &  167 &   1696\\\\\n",
       "\t ENT                           &   65 &    952\\\\\n",
       "\t General Medicine (T)          &   46 &    920\\\\\n",
       "\t Gynecology                    &   35 &    756\\\\\n",
       "\t Sleep Medicine                &  185 &    456\\\\\n",
       "\\end{tabular}\n"
      ],
      "text/markdown": [
       "\n",
       "A data.frame: 38 × 3\n",
       "\n",
       "| pat_service &lt;chr&gt; | pat_service_c &lt;int&gt; | n &lt;int&gt; |\n",
       "|---|---|---|\n",
       "| Critical Care                 |  151 | 283991 |\n",
       "| Medicine                      |   39 | 191213 |\n",
       "| Emergency                     |  100 | 141033 |\n",
       "| Emergency Medicine            |  187 | 120906 |\n",
       "| General Medicine (University) |  153 |  87235 |\n",
       "| Trauma                        |   72 |  86612 |\n",
       "| General Surgery               |   59 |  81189 |\n",
       "| Cardiology                    |  155 |  61527 |\n",
       "| General Medicine (PAMF)       |  154 |  30827 |\n",
       "| Neurosurgery                  |   62 |  30067 |\n",
       "| ICU Trauma/GenSurg            |  152 |  24580 |\n",
       "| Cardiac Surgery               |   58 |  23868 |\n",
       "| Plastic Surgery               |   67 |  20756 |\n",
       "| Orthopaedic Surgery           |   64 |  20236 |\n",
       "| Oncology                      |   47 |  19354 |\n",
       "| Neurology/Stroke Svc          |   53 |  18877 |\n",
       "| Neurocritical Care            | 1567 |  16382 |\n",
       "| Hematology/Oncology           |  207 |  14543 |\n",
       "| GI/Liver                      |  220 |  13832 |\n",
       "| Liver Transplant              |   61 |  13650 |\n",
       "| Emergency Critical Care       | 1554 |  12621 |\n",
       "| Neurology                     |   52 |  10603 |\n",
       "| Hematology                    |   44 |   8736 |\n",
       "| Cardiovascular Medicine       |   31 |   8501 |\n",
       "| Vascular Surgery              |  189 |   8286 |\n",
       "| Cardiology Arrhythmia         |   27 |   6600 |\n",
       "| Gyn-Oncology                  |   36 |   5928 |\n",
       "| Cardiology Interventional     |  191 |   4012 |\n",
       "| Hepatology                    |  193 |   3822 |\n",
       "| Cardiovascular ICU            |  219 |   3758 |\n",
       "| NA                            |   NA |   2704 |\n",
       "| Pulmonary Transplant          |  198 |   2676 |\n",
       "| Urology                       |   69 |   2016 |\n",
       "| Pulmonary                     |  167 |   1696 |\n",
       "| ENT                           |   65 |    952 |\n",
       "| General Medicine (T)          |   46 |    920 |\n",
       "| Gynecology                    |   35 |    756 |\n",
       "| Sleep Medicine                |  185 |    456 |\n",
       "\n"
      ],
      "text/plain": [
       "   pat_service                   pat_service_c n     \n",
       "1  Critical Care                  151          283991\n",
       "2  Medicine                        39          191213\n",
       "3  Emergency                      100          141033\n",
       "4  Emergency Medicine             187          120906\n",
       "5  General Medicine (University)  153           87235\n",
       "6  Trauma                          72           86612\n",
       "7  General Surgery                 59           81189\n",
       "8  Cardiology                     155           61527\n",
       "9  General Medicine (PAMF)        154           30827\n",
       "10 Neurosurgery                    62           30067\n",
       "11 ICU Trauma/GenSurg             152           24580\n",
       "12 Cardiac Surgery                 58           23868\n",
       "13 Plastic Surgery                 67           20756\n",
       "14 Orthopaedic Surgery             64           20236\n",
       "15 Oncology                        47           19354\n",
       "16 Neurology/Stroke Svc            53           18877\n",
       "17 Neurocritical Care            1567           16382\n",
       "18 Hematology/Oncology            207           14543\n",
       "19 GI/Liver                       220           13832\n",
       "20 Liver Transplant                61           13650\n",
       "21 Emergency Critical Care       1554           12621\n",
       "22 Neurology                       52           10603\n",
       "23 Hematology                      44            8736\n",
       "24 Cardiovascular Medicine         31            8501\n",
       "25 Vascular Surgery               189            8286\n",
       "26 Cardiology Arrhythmia           27            6600\n",
       "27 Gyn-Oncology                    36            5928\n",
       "28 Cardiology Interventional      191            4012\n",
       "29 Hepatology                     193            3822\n",
       "30 Cardiovascular ICU             219            3758\n",
       "31 NA                              NA            2704\n",
       "32 Pulmonary Transplant           198            2676\n",
       "33 Urology                         69            2016\n",
       "34 Pulmonary                      167            1696\n",
       "35 ENT                             65             952\n",
       "36 General Medicine (T)            46             920\n",
       "37 Gynecology                      35             756\n",
       "38 Sleep Medicine                 185             456"
      ]
     },
     "metadata": {},
     "output_type": "display_data"
    },
    {
     "data": {
      "text/html": [
       "<table>\n",
       "<caption>A data.frame: 5 × 3</caption>\n",
       "<thead>\n",
       "\t<tr><th scope=col>pat_lv_of_care</th><th scope=col>pat_lvl_of_care_c</th><th scope=col>n</th></tr>\n",
       "\t<tr><th scope=col>&lt;chr&gt;</th><th scope=col>&lt;int&gt;</th><th scope=col>&lt;int&gt;</th></tr>\n",
       "</thead>\n",
       "<tbody>\n",
       "\t<tr><td>Acute Care (Assessment or intervention q4-8)            </td><td> 5</td><td>561858</td></tr>\n",
       "\t<tr><td>Critical Care                                           </td><td> 8</td><td>404635</td></tr>\n",
       "\t<tr><td>IICU/Intermediate Care (Assessment or intervention q2-4)</td><td> 9</td><td>218827</td></tr>\n",
       "\t<tr><td>NA                                                      </td><td>NA</td><td>200282</td></tr>\n",
       "\t<tr><td>Newborn Nursery - VC Only                               </td><td>68</td><td>   119</td></tr>\n",
       "</tbody>\n",
       "</table>\n"
      ],
      "text/latex": [
       "A data.frame: 5 × 3\n",
       "\\begin{tabular}{lll}\n",
       " pat\\_lv\\_of\\_care & pat\\_lvl\\_of\\_care\\_c & n\\\\\n",
       " <chr> & <int> & <int>\\\\\n",
       "\\hline\n",
       "\t Acute Care (Assessment or intervention q4-8)             &  5 & 561858\\\\\n",
       "\t Critical Care                                            &  8 & 404635\\\\\n",
       "\t IICU/Intermediate Care (Assessment or intervention q2-4) &  9 & 218827\\\\\n",
       "\t NA                                                       & NA & 200282\\\\\n",
       "\t Newborn Nursery - VC Only                                & 68 &    119\\\\\n",
       "\\end{tabular}\n"
      ],
      "text/markdown": [
       "\n",
       "A data.frame: 5 × 3\n",
       "\n",
       "| pat_lv_of_care &lt;chr&gt; | pat_lvl_of_care_c &lt;int&gt; | n &lt;int&gt; |\n",
       "|---|---|---|\n",
       "| Acute Care (Assessment or intervention q4-8)             |  5 | 561858 |\n",
       "| Critical Care                                            |  8 | 404635 |\n",
       "| IICU/Intermediate Care (Assessment or intervention q2-4) |  9 | 218827 |\n",
       "| NA                                                       | NA | 200282 |\n",
       "| Newborn Nursery - VC Only                                | 68 |    119 |\n",
       "\n"
      ],
      "text/plain": [
       "  pat_lv_of_care                                           pat_lvl_of_care_c\n",
       "1 Acute Care (Assessment or intervention q4-8)              5               \n",
       "2 Critical Care                                             8               \n",
       "3 IICU/Intermediate Care (Assessment or intervention q2-4)  9               \n",
       "4 NA                                                       NA               \n",
       "5 Newborn Nursery - VC Only                                68               \n",
       "  n     \n",
       "1 561858\n",
       "2 404635\n",
       "3 218827\n",
       "4 200282\n",
       "5    119"
      ]
     },
     "metadata": {},
     "output_type": "display_data"
    },
    {
     "data": {
      "text/html": [
       "<table>\n",
       "<caption>A data.frame: 3 × 3</caption>\n",
       "<thead>\n",
       "\t<tr><th scope=col>accomodation</th><th scope=col>accommodation_c</th><th scope=col>n</th></tr>\n",
       "\t<tr><th scope=col>&lt;chr&gt;</th><th scope=col>&lt;int&gt;</th><th scope=col>&lt;int&gt;</th></tr>\n",
       "</thead>\n",
       "<tbody>\n",
       "\t<tr><td>Ward         </td><td>10001</td><td>563973</td></tr>\n",
       "\t<tr><td>Private      </td><td>    1</td><td>556328</td></tr>\n",
       "\t<tr><td>Semi-Private </td><td>    2</td><td>265420</td></tr>\n",
       "</tbody>\n",
       "</table>\n"
      ],
      "text/latex": [
       "A data.frame: 3 × 3\n",
       "\\begin{tabular}{lll}\n",
       " accomodation & accommodation\\_c & n\\\\\n",
       " <chr> & <int> & <int>\\\\\n",
       "\\hline\n",
       "\t Ward          & 10001 & 563973\\\\\n",
       "\t Private       &     1 & 556328\\\\\n",
       "\t Semi-Private  &     2 & 265420\\\\\n",
       "\\end{tabular}\n"
      ],
      "text/markdown": [
       "\n",
       "A data.frame: 3 × 3\n",
       "\n",
       "| accomodation &lt;chr&gt; | accommodation_c &lt;int&gt; | n &lt;int&gt; |\n",
       "|---|---|---|\n",
       "| Ward          | 10001 | 563973 |\n",
       "| Private       |     1 | 556328 |\n",
       "| Semi-Private  |     2 | 265420 |\n",
       "\n"
      ],
      "text/plain": [
       "  accomodation  accommodation_c n     \n",
       "1 Ward          10001           563973\n",
       "2 Private           1           556328\n",
       "3 Semi-Private      2           265420"
      ]
     },
     "metadata": {},
     "output_type": "display_data"
    },
    {
     "data": {
      "text/html": [
       "<table>\n",
       "<caption>A data.frame: 5 × 3</caption>\n",
       "<thead>\n",
       "\t<tr><th scope=col>in_event_type</th><th scope=col>in_event_type_c</th><th scope=col>n</th></tr>\n",
       "\t<tr><th scope=col>&lt;chr&gt;</th><th scope=col>&lt;int&gt;</th><th scope=col>&lt;int&gt;</th></tr>\n",
       "</thead>\n",
       "<tbody>\n",
       "\t<tr><td>Census        </td><td> 6</td><td>419221</td></tr>\n",
       "\t<tr><td>NA            </td><td>NA</td><td>373393</td></tr>\n",
       "\t<tr><td>Transfer In   </td><td> 3</td><td>305085</td></tr>\n",
       "\t<tr><td>Patient Update</td><td> 5</td><td>148340</td></tr>\n",
       "\t<tr><td>Admission     </td><td> 1</td><td>139682</td></tr>\n",
       "</tbody>\n",
       "</table>\n"
      ],
      "text/latex": [
       "A data.frame: 5 × 3\n",
       "\\begin{tabular}{lll}\n",
       " in\\_event\\_type & in\\_event\\_type\\_c & n\\\\\n",
       " <chr> & <int> & <int>\\\\\n",
       "\\hline\n",
       "\t Census         &  6 & 419221\\\\\n",
       "\t NA             & NA & 373393\\\\\n",
       "\t Transfer In    &  3 & 305085\\\\\n",
       "\t Patient Update &  5 & 148340\\\\\n",
       "\t Admission      &  1 & 139682\\\\\n",
       "\\end{tabular}\n"
      ],
      "text/markdown": [
       "\n",
       "A data.frame: 5 × 3\n",
       "\n",
       "| in_event_type &lt;chr&gt; | in_event_type_c &lt;int&gt; | n &lt;int&gt; |\n",
       "|---|---|---|\n",
       "| Census         |  6 | 419221 |\n",
       "| NA             | NA | 373393 |\n",
       "| Transfer In    |  3 | 305085 |\n",
       "| Patient Update |  5 | 148340 |\n",
       "| Admission      |  1 | 139682 |\n",
       "\n"
      ],
      "text/plain": [
       "  in_event_type  in_event_type_c n     \n",
       "1 Census          6              419221\n",
       "2 NA             NA              373393\n",
       "3 Transfer In     3              305085\n",
       "4 Patient Update  5              148340\n",
       "5 Admission       1              139682"
      ]
     },
     "metadata": {},
     "output_type": "display_data"
    },
    {
     "data": {
      "text/html": [
       "<table>\n",
       "<caption>A data.frame: 5 × 3</caption>\n",
       "<thead>\n",
       "\t<tr><th scope=col>out_event_type</th><th scope=col>out_event_type_c</th><th scope=col>n</th></tr>\n",
       "\t<tr><th scope=col>&lt;chr&gt;</th><th scope=col>&lt;int&gt;</th><th scope=col>&lt;int&gt;</th></tr>\n",
       "</thead>\n",
       "<tbody>\n",
       "\t<tr><td>Census        </td><td> 6</td><td>419221</td></tr>\n",
       "\t<tr><td>NA            </td><td>NA</td><td>374671</td></tr>\n",
       "\t<tr><td>Transfer Out  </td><td> 4</td><td>305085</td></tr>\n",
       "\t<tr><td>Patient Update</td><td> 5</td><td>148340</td></tr>\n",
       "\t<tr><td>Discharge     </td><td> 2</td><td>138404</td></tr>\n",
       "</tbody>\n",
       "</table>\n"
      ],
      "text/latex": [
       "A data.frame: 5 × 3\n",
       "\\begin{tabular}{lll}\n",
       " out\\_event\\_type & out\\_event\\_type\\_c & n\\\\\n",
       " <chr> & <int> & <int>\\\\\n",
       "\\hline\n",
       "\t Census         &  6 & 419221\\\\\n",
       "\t NA             & NA & 374671\\\\\n",
       "\t Transfer Out   &  4 & 305085\\\\\n",
       "\t Patient Update &  5 & 148340\\\\\n",
       "\t Discharge      &  2 & 138404\\\\\n",
       "\\end{tabular}\n"
      ],
      "text/markdown": [
       "\n",
       "A data.frame: 5 × 3\n",
       "\n",
       "| out_event_type &lt;chr&gt; | out_event_type_c &lt;int&gt; | n &lt;int&gt; |\n",
       "|---|---|---|\n",
       "| Census         |  6 | 419221 |\n",
       "| NA             | NA | 374671 |\n",
       "| Transfer Out   |  4 | 305085 |\n",
       "| Patient Update |  5 | 148340 |\n",
       "| Discharge      |  2 | 138404 |\n",
       "\n"
      ],
      "text/plain": [
       "  out_event_type out_event_type_c n     \n",
       "1 Census          6               419221\n",
       "2 NA             NA               374671\n",
       "3 Transfer Out    4               305085\n",
       "4 Patient Update  5               148340\n",
       "5 Discharge       2               138404"
      ]
     },
     "metadata": {},
     "output_type": "display_data"
    },
    {
     "data": {
      "text/html": [
       "<table>\n",
       "<caption>A data.frame: 5 × 3</caption>\n",
       "<thead>\n",
       "\t<tr><th scope=col>from_base_class</th><th scope=col>from_base_class_c</th><th scope=col>n</th></tr>\n",
       "\t<tr><th scope=col>&lt;chr&gt;</th><th scope=col>&lt;int&gt;</th><th scope=col>&lt;int&gt;</th></tr>\n",
       "</thead>\n",
       "<tbody>\n",
       "\t<tr><td>Inpatient </td><td>1</td><td>1114462</td></tr>\n",
       "\t<tr><td>Emergency </td><td>3</td><td> 200344</td></tr>\n",
       "\t<tr><td>NA        </td><td>0</td><td>  69334</td></tr>\n",
       "\t<tr><td>NA        </td><td>4</td><td>    930</td></tr>\n",
       "\t<tr><td>Outpatient</td><td>2</td><td>    651</td></tr>\n",
       "</tbody>\n",
       "</table>\n"
      ],
      "text/latex": [
       "A data.frame: 5 × 3\n",
       "\\begin{tabular}{lll}\n",
       " from\\_base\\_class & from\\_base\\_class\\_c & n\\\\\n",
       " <chr> & <int> & <int>\\\\\n",
       "\\hline\n",
       "\t Inpatient  & 1 & 1114462\\\\\n",
       "\t Emergency  & 3 &  200344\\\\\n",
       "\t NA         & 0 &   69334\\\\\n",
       "\t NA         & 4 &     930\\\\\n",
       "\t Outpatient & 2 &     651\\\\\n",
       "\\end{tabular}\n"
      ],
      "text/markdown": [
       "\n",
       "A data.frame: 5 × 3\n",
       "\n",
       "| from_base_class &lt;chr&gt; | from_base_class_c &lt;int&gt; | n &lt;int&gt; |\n",
       "|---|---|---|\n",
       "| Inpatient  | 1 | 1114462 |\n",
       "| Emergency  | 3 |  200344 |\n",
       "| NA         | 0 |   69334 |\n",
       "| NA         | 4 |     930 |\n",
       "| Outpatient | 2 |     651 |\n",
       "\n"
      ],
      "text/plain": [
       "  from_base_class from_base_class_c n      \n",
       "1 Inpatient       1                 1114462\n",
       "2 Emergency       3                  200344\n",
       "3 NA              0                   69334\n",
       "4 NA              4                     930\n",
       "5 Outpatient      2                     651"
      ]
     },
     "metadata": {},
     "output_type": "display_data"
    },
    {
     "data": {
      "text/html": [
       "<table>\n",
       "<caption>A data.frame: 5 × 3</caption>\n",
       "<thead>\n",
       "\t<tr><th scope=col>to_base_class</th><th scope=col>to_base_class_c</th><th scope=col>n</th></tr>\n",
       "\t<tr><th scope=col>&lt;chr&gt;</th><th scope=col>&lt;int&gt;</th><th scope=col>&lt;int&gt;</th></tr>\n",
       "</thead>\n",
       "<tbody>\n",
       "\t<tr><td>Inpatient </td><td>1</td><td>1115775</td></tr>\n",
       "\t<tr><td>Emergency </td><td>3</td><td> 200092</td></tr>\n",
       "\t<tr><td>NA        </td><td>0</td><td>  68056</td></tr>\n",
       "\t<tr><td>NA        </td><td>4</td><td>    930</td></tr>\n",
       "\t<tr><td>Outpatient</td><td>2</td><td>    868</td></tr>\n",
       "</tbody>\n",
       "</table>\n"
      ],
      "text/latex": [
       "A data.frame: 5 × 3\n",
       "\\begin{tabular}{lll}\n",
       " to\\_base\\_class & to\\_base\\_class\\_c & n\\\\\n",
       " <chr> & <int> & <int>\\\\\n",
       "\\hline\n",
       "\t Inpatient  & 1 & 1115775\\\\\n",
       "\t Emergency  & 3 &  200092\\\\\n",
       "\t NA         & 0 &   68056\\\\\n",
       "\t NA         & 4 &     930\\\\\n",
       "\t Outpatient & 2 &     868\\\\\n",
       "\\end{tabular}\n"
      ],
      "text/markdown": [
       "\n",
       "A data.frame: 5 × 3\n",
       "\n",
       "| to_base_class &lt;chr&gt; | to_base_class_c &lt;int&gt; | n &lt;int&gt; |\n",
       "|---|---|---|\n",
       "| Inpatient  | 1 | 1115775 |\n",
       "| Emergency  | 3 |  200092 |\n",
       "| NA         | 0 |   68056 |\n",
       "| NA         | 4 |     930 |\n",
       "| Outpatient | 2 |     868 |\n",
       "\n"
      ],
      "text/plain": [
       "  to_base_class to_base_class_c n      \n",
       "1 Inpatient     1               1115775\n",
       "2 Emergency     3                200092\n",
       "3 NA            0                 68056\n",
       "4 NA            4                   930\n",
       "5 Outpatient    2                   868"
      ]
     },
     "metadata": {},
     "output_type": "display_data"
    },
    {
     "data": {
      "text/html": [
       "<table>\n",
       "<caption>A data.frame: 180 × 2</caption>\n",
       "<thead>\n",
       "\t<tr><th scope=col>seq_num_in_enc</th><th scope=col>n</th></tr>\n",
       "\t<tr><th scope=col>&lt;int&gt;</th><th scope=col>&lt;int&gt;</th></tr>\n",
       "</thead>\n",
       "<tbody>\n",
       "\t<tr><td>  1</td><td>69334</td></tr>\n",
       "\t<tr><td>  2</td><td>69334</td></tr>\n",
       "\t<tr><td>  3</td><td>69334</td></tr>\n",
       "\t<tr><td>  4</td><td>69334</td></tr>\n",
       "\t<tr><td>  5</td><td>69334</td></tr>\n",
       "\t<tr><td>  6</td><td>68365</td></tr>\n",
       "\t<tr><td>  7</td><td>67843</td></tr>\n",
       "\t<tr><td>  8</td><td>67487</td></tr>\n",
       "\t<tr><td>  9</td><td>66696</td></tr>\n",
       "\t<tr><td> 10</td><td>64255</td></tr>\n",
       "\t<tr><td> 11</td><td>61056</td></tr>\n",
       "\t<tr><td> 12</td><td>57298</td></tr>\n",
       "\t<tr><td> 13</td><td>54890</td></tr>\n",
       "\t<tr><td> 14</td><td>49879</td></tr>\n",
       "\t<tr><td> 15</td><td>44282</td></tr>\n",
       "\t<tr><td> 16</td><td>38121</td></tr>\n",
       "\t<tr><td> 17</td><td>34263</td></tr>\n",
       "\t<tr><td> 18</td><td>30843</td></tr>\n",
       "\t<tr><td> 19</td><td>28412</td></tr>\n",
       "\t<tr><td> 20</td><td>25815</td></tr>\n",
       "\t<tr><td> 21</td><td>22736</td></tr>\n",
       "\t<tr><td> 22</td><td>20103</td></tr>\n",
       "\t<tr><td> 23</td><td>17815</td></tr>\n",
       "\t<tr><td> 24</td><td>16148</td></tr>\n",
       "\t<tr><td> 25</td><td>14703</td></tr>\n",
       "\t<tr><td> 26</td><td>12480</td></tr>\n",
       "\t<tr><td> 27</td><td>11036</td></tr>\n",
       "\t<tr><td> 28</td><td> 9501</td></tr>\n",
       "\t<tr><td> 29</td><td> 8935</td></tr>\n",
       "\t<tr><td> 30</td><td> 8108</td></tr>\n",
       "\t<tr><td> 31</td><td> 7598</td></tr>\n",
       "\t<tr><td> 32</td><td> 7340</td></tr>\n",
       "\t<tr><td> 33</td><td> 6549</td></tr>\n",
       "\t<tr><td> 34</td><td> 5467</td></tr>\n",
       "\t<tr><td> 35</td><td> 5467</td></tr>\n",
       "\t<tr><td> 36</td><td> 4983</td></tr>\n",
       "\t<tr><td> 37</td><td> 4355</td></tr>\n",
       "\t<tr><td> 38</td><td> 3658</td></tr>\n",
       "\t<tr><td> 39</td><td> 3386</td></tr>\n",
       "\t<tr><td> 40</td><td> 2300</td></tr>\n",
       "\t<tr><td> 41</td><td> 2113</td></tr>\n",
       "\t<tr><td> 42</td><td> 2113</td></tr>\n",
       "\t<tr><td> 43</td><td> 2113</td></tr>\n",
       "\t<tr><td> 44</td><td> 1976</td></tr>\n",
       "\t<tr><td> 45</td><td> 1976</td></tr>\n",
       "\t<tr><td> 46</td><td> 1976</td></tr>\n",
       "\t<tr><td> 47</td><td> 1976</td></tr>\n",
       "\t<tr><td> 48</td><td> 1976</td></tr>\n",
       "\t<tr><td> 49</td><td> 1976</td></tr>\n",
       "\t<tr><td> 50</td><td> 1976</td></tr>\n",
       "\t<tr><td> 51</td><td> 1976</td></tr>\n",
       "\t<tr><td> 52</td><td> 1976</td></tr>\n",
       "\t<tr><td> 53</td><td> 1976</td></tr>\n",
       "\t<tr><td> 54</td><td> 1976</td></tr>\n",
       "\t<tr><td> 55</td><td> 1658</td></tr>\n",
       "\t<tr><td> 56</td><td> 1658</td></tr>\n",
       "\t<tr><td> 57</td><td> 1658</td></tr>\n",
       "\t<tr><td> 58</td><td> 1658</td></tr>\n",
       "\t<tr><td> 59</td><td> 1658</td></tr>\n",
       "\t<tr><td> 60</td><td> 1555</td></tr>\n",
       "\t<tr><td> 61</td><td> 1555</td></tr>\n",
       "\t<tr><td> 62</td><td> 1555</td></tr>\n",
       "\t<tr><td> 63</td><td> 1555</td></tr>\n",
       "\t<tr><td> 64</td><td> 1555</td></tr>\n",
       "\t<tr><td> 65</td><td> 1555</td></tr>\n",
       "\t<tr><td> 66</td><td> 1217</td></tr>\n",
       "\t<tr><td> 67</td><td> 1217</td></tr>\n",
       "\t<tr><td> 68</td><td> 1217</td></tr>\n",
       "\t<tr><td> 69</td><td> 1217</td></tr>\n",
       "\t<tr><td> 70</td><td> 1074</td></tr>\n",
       "\t<tr><td> 71</td><td> 1074</td></tr>\n",
       "\t<tr><td> 72</td><td> 1074</td></tr>\n",
       "\t<tr><td> 73</td><td> 1074</td></tr>\n",
       "\t<tr><td> 74</td><td> 1074</td></tr>\n",
       "\t<tr><td> 75</td><td> 1074</td></tr>\n",
       "\t<tr><td> 76</td><td> 1074</td></tr>\n",
       "\t<tr><td> 77</td><td>  583</td></tr>\n",
       "\t<tr><td> 78</td><td>  583</td></tr>\n",
       "\t<tr><td> 79</td><td>  583</td></tr>\n",
       "\t<tr><td> 80</td><td>  583</td></tr>\n",
       "\t<tr><td> 81</td><td>  583</td></tr>\n",
       "\t<tr><td> 82</td><td>  583</td></tr>\n",
       "\t<tr><td> 83</td><td>  583</td></tr>\n",
       "\t<tr><td> 84</td><td>  583</td></tr>\n",
       "\t<tr><td> 85</td><td>  583</td></tr>\n",
       "\t<tr><td> 86</td><td>  583</td></tr>\n",
       "\t<tr><td> 87</td><td>  583</td></tr>\n",
       "\t<tr><td> 88</td><td>  583</td></tr>\n",
       "\t<tr><td> 89</td><td>  583</td></tr>\n",
       "\t<tr><td> 90</td><td>  376</td></tr>\n",
       "\t<tr><td> 91</td><td>  376</td></tr>\n",
       "\t<tr><td> 92</td><td>  376</td></tr>\n",
       "\t<tr><td> 93</td><td>  376</td></tr>\n",
       "\t<tr><td> 94</td><td>  376</td></tr>\n",
       "\t<tr><td> 95</td><td>  376</td></tr>\n",
       "\t<tr><td> 96</td><td>  376</td></tr>\n",
       "\t<tr><td> 97</td><td>  376</td></tr>\n",
       "\t<tr><td> 98</td><td>  376</td></tr>\n",
       "\t<tr><td> 99</td><td>  376</td></tr>\n",
       "\t<tr><td>100</td><td>  376</td></tr>\n",
       "\t<tr><td>101</td><td>  376</td></tr>\n",
       "\t<tr><td>102</td><td>  376</td></tr>\n",
       "\t<tr><td>103</td><td>  376</td></tr>\n",
       "\t<tr><td>104</td><td>  376</td></tr>\n",
       "\t<tr><td>105</td><td>  376</td></tr>\n",
       "\t<tr><td>106</td><td>  376</td></tr>\n",
       "\t<tr><td>107</td><td>  376</td></tr>\n",
       "\t<tr><td>108</td><td>  376</td></tr>\n",
       "\t<tr><td>109</td><td>  376</td></tr>\n",
       "\t<tr><td>110</td><td>  376</td></tr>\n",
       "\t<tr><td>111</td><td>  376</td></tr>\n",
       "\t<tr><td>112</td><td>  376</td></tr>\n",
       "\t<tr><td>113</td><td>  376</td></tr>\n",
       "\t<tr><td>114</td><td>  182</td></tr>\n",
       "\t<tr><td>115</td><td>  182</td></tr>\n",
       "\t<tr><td>116</td><td>  182</td></tr>\n",
       "\t<tr><td>117</td><td>  182</td></tr>\n",
       "\t<tr><td>118</td><td>  182</td></tr>\n",
       "\t<tr><td>119</td><td>  182</td></tr>\n",
       "\t<tr><td>120</td><td>  182</td></tr>\n",
       "\t<tr><td>121</td><td>  182</td></tr>\n",
       "\t<tr><td>122</td><td>  182</td></tr>\n",
       "\t<tr><td>123</td><td>  182</td></tr>\n",
       "\t<tr><td>124</td><td>  182</td></tr>\n",
       "\t<tr><td>125</td><td>  182</td></tr>\n",
       "\t<tr><td>126</td><td>  182</td></tr>\n",
       "\t<tr><td>127</td><td>  182</td></tr>\n",
       "\t<tr><td>128</td><td>  182</td></tr>\n",
       "\t<tr><td>129</td><td>  182</td></tr>\n",
       "\t<tr><td>130</td><td>  182</td></tr>\n",
       "\t<tr><td>131</td><td>  182</td></tr>\n",
       "\t<tr><td>132</td><td>  182</td></tr>\n",
       "\t<tr><td>133</td><td>  182</td></tr>\n",
       "\t<tr><td>134</td><td>  182</td></tr>\n",
       "\t<tr><td>135</td><td>  182</td></tr>\n",
       "\t<tr><td>136</td><td>  182</td></tr>\n",
       "\t<tr><td>137</td><td>  182</td></tr>\n",
       "\t<tr><td>138</td><td>  182</td></tr>\n",
       "\t<tr><td>139</td><td>  182</td></tr>\n",
       "\t<tr><td>140</td><td>  182</td></tr>\n",
       "\t<tr><td>141</td><td>  182</td></tr>\n",
       "\t<tr><td>142</td><td>  182</td></tr>\n",
       "\t<tr><td>143</td><td>  182</td></tr>\n",
       "\t<tr><td>144</td><td>  182</td></tr>\n",
       "\t<tr><td>145</td><td>  182</td></tr>\n",
       "\t<tr><td>146</td><td>  182</td></tr>\n",
       "\t<tr><td>147</td><td>  182</td></tr>\n",
       "\t<tr><td>148</td><td>  182</td></tr>\n",
       "\t<tr><td>149</td><td>  182</td></tr>\n",
       "\t<tr><td>150</td><td>  182</td></tr>\n",
       "\t<tr><td>151</td><td>  182</td></tr>\n",
       "\t<tr><td>152</td><td>  182</td></tr>\n",
       "\t<tr><td>153</td><td>  182</td></tr>\n",
       "\t<tr><td>154</td><td>  182</td></tr>\n",
       "\t<tr><td>155</td><td>  182</td></tr>\n",
       "\t<tr><td>156</td><td>  182</td></tr>\n",
       "\t<tr><td>157</td><td>  182</td></tr>\n",
       "\t<tr><td>158</td><td>  182</td></tr>\n",
       "\t<tr><td>159</td><td>  182</td></tr>\n",
       "\t<tr><td>160</td><td>  182</td></tr>\n",
       "\t<tr><td>161</td><td>  182</td></tr>\n",
       "\t<tr><td>162</td><td>  182</td></tr>\n",
       "\t<tr><td>163</td><td>  182</td></tr>\n",
       "\t<tr><td>164</td><td>  182</td></tr>\n",
       "\t<tr><td>165</td><td>  182</td></tr>\n",
       "\t<tr><td>166</td><td>  182</td></tr>\n",
       "\t<tr><td>167</td><td>  182</td></tr>\n",
       "\t<tr><td>168</td><td>  182</td></tr>\n",
       "\t<tr><td>169</td><td>  182</td></tr>\n",
       "\t<tr><td>170</td><td>  182</td></tr>\n",
       "\t<tr><td>171</td><td>  182</td></tr>\n",
       "\t<tr><td>172</td><td>  182</td></tr>\n",
       "\t<tr><td>173</td><td>  182</td></tr>\n",
       "\t<tr><td>174</td><td>  182</td></tr>\n",
       "\t<tr><td>175</td><td>  182</td></tr>\n",
       "\t<tr><td>176</td><td>  182</td></tr>\n",
       "\t<tr><td>177</td><td>  182</td></tr>\n",
       "\t<tr><td>178</td><td>  182</td></tr>\n",
       "\t<tr><td>179</td><td>  182</td></tr>\n",
       "\t<tr><td>180</td><td>  182</td></tr>\n",
       "</tbody>\n",
       "</table>\n"
      ],
      "text/latex": [
       "A data.frame: 180 × 2\n",
       "\\begin{tabular}{ll}\n",
       " seq\\_num\\_in\\_enc & n\\\\\n",
       " <int> & <int>\\\\\n",
       "\\hline\n",
       "\t   1 & 69334\\\\\n",
       "\t   2 & 69334\\\\\n",
       "\t   3 & 69334\\\\\n",
       "\t   4 & 69334\\\\\n",
       "\t   5 & 69334\\\\\n",
       "\t   6 & 68365\\\\\n",
       "\t   7 & 67843\\\\\n",
       "\t   8 & 67487\\\\\n",
       "\t   9 & 66696\\\\\n",
       "\t  10 & 64255\\\\\n",
       "\t  11 & 61056\\\\\n",
       "\t  12 & 57298\\\\\n",
       "\t  13 & 54890\\\\\n",
       "\t  14 & 49879\\\\\n",
       "\t  15 & 44282\\\\\n",
       "\t  16 & 38121\\\\\n",
       "\t  17 & 34263\\\\\n",
       "\t  18 & 30843\\\\\n",
       "\t  19 & 28412\\\\\n",
       "\t  20 & 25815\\\\\n",
       "\t  21 & 22736\\\\\n",
       "\t  22 & 20103\\\\\n",
       "\t  23 & 17815\\\\\n",
       "\t  24 & 16148\\\\\n",
       "\t  25 & 14703\\\\\n",
       "\t  26 & 12480\\\\\n",
       "\t  27 & 11036\\\\\n",
       "\t  28 &  9501\\\\\n",
       "\t  29 &  8935\\\\\n",
       "\t  30 &  8108\\\\\n",
       "\t  31 &  7598\\\\\n",
       "\t  32 &  7340\\\\\n",
       "\t  33 &  6549\\\\\n",
       "\t  34 &  5467\\\\\n",
       "\t  35 &  5467\\\\\n",
       "\t  36 &  4983\\\\\n",
       "\t  37 &  4355\\\\\n",
       "\t  38 &  3658\\\\\n",
       "\t  39 &  3386\\\\\n",
       "\t  40 &  2300\\\\\n",
       "\t  41 &  2113\\\\\n",
       "\t  42 &  2113\\\\\n",
       "\t  43 &  2113\\\\\n",
       "\t  44 &  1976\\\\\n",
       "\t  45 &  1976\\\\\n",
       "\t  46 &  1976\\\\\n",
       "\t  47 &  1976\\\\\n",
       "\t  48 &  1976\\\\\n",
       "\t  49 &  1976\\\\\n",
       "\t  50 &  1976\\\\\n",
       "\t  51 &  1976\\\\\n",
       "\t  52 &  1976\\\\\n",
       "\t  53 &  1976\\\\\n",
       "\t  54 &  1976\\\\\n",
       "\t  55 &  1658\\\\\n",
       "\t  56 &  1658\\\\\n",
       "\t  57 &  1658\\\\\n",
       "\t  58 &  1658\\\\\n",
       "\t  59 &  1658\\\\\n",
       "\t  60 &  1555\\\\\n",
       "\t  61 &  1555\\\\\n",
       "\t  62 &  1555\\\\\n",
       "\t  63 &  1555\\\\\n",
       "\t  64 &  1555\\\\\n",
       "\t  65 &  1555\\\\\n",
       "\t  66 &  1217\\\\\n",
       "\t  67 &  1217\\\\\n",
       "\t  68 &  1217\\\\\n",
       "\t  69 &  1217\\\\\n",
       "\t  70 &  1074\\\\\n",
       "\t  71 &  1074\\\\\n",
       "\t  72 &  1074\\\\\n",
       "\t  73 &  1074\\\\\n",
       "\t  74 &  1074\\\\\n",
       "\t  75 &  1074\\\\\n",
       "\t  76 &  1074\\\\\n",
       "\t  77 &   583\\\\\n",
       "\t  78 &   583\\\\\n",
       "\t  79 &   583\\\\\n",
       "\t  80 &   583\\\\\n",
       "\t  81 &   583\\\\\n",
       "\t  82 &   583\\\\\n",
       "\t  83 &   583\\\\\n",
       "\t  84 &   583\\\\\n",
       "\t  85 &   583\\\\\n",
       "\t  86 &   583\\\\\n",
       "\t  87 &   583\\\\\n",
       "\t  88 &   583\\\\\n",
       "\t  89 &   583\\\\\n",
       "\t  90 &   376\\\\\n",
       "\t  91 &   376\\\\\n",
       "\t  92 &   376\\\\\n",
       "\t  93 &   376\\\\\n",
       "\t  94 &   376\\\\\n",
       "\t  95 &   376\\\\\n",
       "\t  96 &   376\\\\\n",
       "\t  97 &   376\\\\\n",
       "\t  98 &   376\\\\\n",
       "\t  99 &   376\\\\\n",
       "\t 100 &   376\\\\\n",
       "\t 101 &   376\\\\\n",
       "\t 102 &   376\\\\\n",
       "\t 103 &   376\\\\\n",
       "\t 104 &   376\\\\\n",
       "\t 105 &   376\\\\\n",
       "\t 106 &   376\\\\\n",
       "\t 107 &   376\\\\\n",
       "\t 108 &   376\\\\\n",
       "\t 109 &   376\\\\\n",
       "\t 110 &   376\\\\\n",
       "\t 111 &   376\\\\\n",
       "\t 112 &   376\\\\\n",
       "\t 113 &   376\\\\\n",
       "\t 114 &   182\\\\\n",
       "\t 115 &   182\\\\\n",
       "\t 116 &   182\\\\\n",
       "\t 117 &   182\\\\\n",
       "\t 118 &   182\\\\\n",
       "\t 119 &   182\\\\\n",
       "\t 120 &   182\\\\\n",
       "\t 121 &   182\\\\\n",
       "\t 122 &   182\\\\\n",
       "\t 123 &   182\\\\\n",
       "\t 124 &   182\\\\\n",
       "\t 125 &   182\\\\\n",
       "\t 126 &   182\\\\\n",
       "\t 127 &   182\\\\\n",
       "\t 128 &   182\\\\\n",
       "\t 129 &   182\\\\\n",
       "\t 130 &   182\\\\\n",
       "\t 131 &   182\\\\\n",
       "\t 132 &   182\\\\\n",
       "\t 133 &   182\\\\\n",
       "\t 134 &   182\\\\\n",
       "\t 135 &   182\\\\\n",
       "\t 136 &   182\\\\\n",
       "\t 137 &   182\\\\\n",
       "\t 138 &   182\\\\\n",
       "\t 139 &   182\\\\\n",
       "\t 140 &   182\\\\\n",
       "\t 141 &   182\\\\\n",
       "\t 142 &   182\\\\\n",
       "\t 143 &   182\\\\\n",
       "\t 144 &   182\\\\\n",
       "\t 145 &   182\\\\\n",
       "\t 146 &   182\\\\\n",
       "\t 147 &   182\\\\\n",
       "\t 148 &   182\\\\\n",
       "\t 149 &   182\\\\\n",
       "\t 150 &   182\\\\\n",
       "\t 151 &   182\\\\\n",
       "\t 152 &   182\\\\\n",
       "\t 153 &   182\\\\\n",
       "\t 154 &   182\\\\\n",
       "\t 155 &   182\\\\\n",
       "\t 156 &   182\\\\\n",
       "\t 157 &   182\\\\\n",
       "\t 158 &   182\\\\\n",
       "\t 159 &   182\\\\\n",
       "\t 160 &   182\\\\\n",
       "\t 161 &   182\\\\\n",
       "\t 162 &   182\\\\\n",
       "\t 163 &   182\\\\\n",
       "\t 164 &   182\\\\\n",
       "\t 165 &   182\\\\\n",
       "\t 166 &   182\\\\\n",
       "\t 167 &   182\\\\\n",
       "\t 168 &   182\\\\\n",
       "\t 169 &   182\\\\\n",
       "\t 170 &   182\\\\\n",
       "\t 171 &   182\\\\\n",
       "\t 172 &   182\\\\\n",
       "\t 173 &   182\\\\\n",
       "\t 174 &   182\\\\\n",
       "\t 175 &   182\\\\\n",
       "\t 176 &   182\\\\\n",
       "\t 177 &   182\\\\\n",
       "\t 178 &   182\\\\\n",
       "\t 179 &   182\\\\\n",
       "\t 180 &   182\\\\\n",
       "\\end{tabular}\n"
      ],
      "text/markdown": [
       "\n",
       "A data.frame: 180 × 2\n",
       "\n",
       "| seq_num_in_enc &lt;int&gt; | n &lt;int&gt; |\n",
       "|---|---|\n",
       "|   1 | 69334 |\n",
       "|   2 | 69334 |\n",
       "|   3 | 69334 |\n",
       "|   4 | 69334 |\n",
       "|   5 | 69334 |\n",
       "|   6 | 68365 |\n",
       "|   7 | 67843 |\n",
       "|   8 | 67487 |\n",
       "|   9 | 66696 |\n",
       "|  10 | 64255 |\n",
       "|  11 | 61056 |\n",
       "|  12 | 57298 |\n",
       "|  13 | 54890 |\n",
       "|  14 | 49879 |\n",
       "|  15 | 44282 |\n",
       "|  16 | 38121 |\n",
       "|  17 | 34263 |\n",
       "|  18 | 30843 |\n",
       "|  19 | 28412 |\n",
       "|  20 | 25815 |\n",
       "|  21 | 22736 |\n",
       "|  22 | 20103 |\n",
       "|  23 | 17815 |\n",
       "|  24 | 16148 |\n",
       "|  25 | 14703 |\n",
       "|  26 | 12480 |\n",
       "|  27 | 11036 |\n",
       "|  28 |  9501 |\n",
       "|  29 |  8935 |\n",
       "|  30 |  8108 |\n",
       "|  31 |  7598 |\n",
       "|  32 |  7340 |\n",
       "|  33 |  6549 |\n",
       "|  34 |  5467 |\n",
       "|  35 |  5467 |\n",
       "|  36 |  4983 |\n",
       "|  37 |  4355 |\n",
       "|  38 |  3658 |\n",
       "|  39 |  3386 |\n",
       "|  40 |  2300 |\n",
       "|  41 |  2113 |\n",
       "|  42 |  2113 |\n",
       "|  43 |  2113 |\n",
       "|  44 |  1976 |\n",
       "|  45 |  1976 |\n",
       "|  46 |  1976 |\n",
       "|  47 |  1976 |\n",
       "|  48 |  1976 |\n",
       "|  49 |  1976 |\n",
       "|  50 |  1976 |\n",
       "|  51 |  1976 |\n",
       "|  52 |  1976 |\n",
       "|  53 |  1976 |\n",
       "|  54 |  1976 |\n",
       "|  55 |  1658 |\n",
       "|  56 |  1658 |\n",
       "|  57 |  1658 |\n",
       "|  58 |  1658 |\n",
       "|  59 |  1658 |\n",
       "|  60 |  1555 |\n",
       "|  61 |  1555 |\n",
       "|  62 |  1555 |\n",
       "|  63 |  1555 |\n",
       "|  64 |  1555 |\n",
       "|  65 |  1555 |\n",
       "|  66 |  1217 |\n",
       "|  67 |  1217 |\n",
       "|  68 |  1217 |\n",
       "|  69 |  1217 |\n",
       "|  70 |  1074 |\n",
       "|  71 |  1074 |\n",
       "|  72 |  1074 |\n",
       "|  73 |  1074 |\n",
       "|  74 |  1074 |\n",
       "|  75 |  1074 |\n",
       "|  76 |  1074 |\n",
       "|  77 |   583 |\n",
       "|  78 |   583 |\n",
       "|  79 |   583 |\n",
       "|  80 |   583 |\n",
       "|  81 |   583 |\n",
       "|  82 |   583 |\n",
       "|  83 |   583 |\n",
       "|  84 |   583 |\n",
       "|  85 |   583 |\n",
       "|  86 |   583 |\n",
       "|  87 |   583 |\n",
       "|  88 |   583 |\n",
       "|  89 |   583 |\n",
       "|  90 |   376 |\n",
       "|  91 |   376 |\n",
       "|  92 |   376 |\n",
       "|  93 |   376 |\n",
       "|  94 |   376 |\n",
       "|  95 |   376 |\n",
       "|  96 |   376 |\n",
       "|  97 |   376 |\n",
       "|  98 |   376 |\n",
       "|  99 |   376 |\n",
       "| 100 |   376 |\n",
       "| 101 |   376 |\n",
       "| 102 |   376 |\n",
       "| 103 |   376 |\n",
       "| 104 |   376 |\n",
       "| 105 |   376 |\n",
       "| 106 |   376 |\n",
       "| 107 |   376 |\n",
       "| 108 |   376 |\n",
       "| 109 |   376 |\n",
       "| 110 |   376 |\n",
       "| 111 |   376 |\n",
       "| 112 |   376 |\n",
       "| 113 |   376 |\n",
       "| 114 |   182 |\n",
       "| 115 |   182 |\n",
       "| 116 |   182 |\n",
       "| 117 |   182 |\n",
       "| 118 |   182 |\n",
       "| 119 |   182 |\n",
       "| 120 |   182 |\n",
       "| 121 |   182 |\n",
       "| 122 |   182 |\n",
       "| 123 |   182 |\n",
       "| 124 |   182 |\n",
       "| 125 |   182 |\n",
       "| 126 |   182 |\n",
       "| 127 |   182 |\n",
       "| 128 |   182 |\n",
       "| 129 |   182 |\n",
       "| 130 |   182 |\n",
       "| 131 |   182 |\n",
       "| 132 |   182 |\n",
       "| 133 |   182 |\n",
       "| 134 |   182 |\n",
       "| 135 |   182 |\n",
       "| 136 |   182 |\n",
       "| 137 |   182 |\n",
       "| 138 |   182 |\n",
       "| 139 |   182 |\n",
       "| 140 |   182 |\n",
       "| 141 |   182 |\n",
       "| 142 |   182 |\n",
       "| 143 |   182 |\n",
       "| 144 |   182 |\n",
       "| 145 |   182 |\n",
       "| 146 |   182 |\n",
       "| 147 |   182 |\n",
       "| 148 |   182 |\n",
       "| 149 |   182 |\n",
       "| 150 |   182 |\n",
       "| 151 |   182 |\n",
       "| 152 |   182 |\n",
       "| 153 |   182 |\n",
       "| 154 |   182 |\n",
       "| 155 |   182 |\n",
       "| 156 |   182 |\n",
       "| 157 |   182 |\n",
       "| 158 |   182 |\n",
       "| 159 |   182 |\n",
       "| 160 |   182 |\n",
       "| 161 |   182 |\n",
       "| 162 |   182 |\n",
       "| 163 |   182 |\n",
       "| 164 |   182 |\n",
       "| 165 |   182 |\n",
       "| 166 |   182 |\n",
       "| 167 |   182 |\n",
       "| 168 |   182 |\n",
       "| 169 |   182 |\n",
       "| 170 |   182 |\n",
       "| 171 |   182 |\n",
       "| 172 |   182 |\n",
       "| 173 |   182 |\n",
       "| 174 |   182 |\n",
       "| 175 |   182 |\n",
       "| 176 |   182 |\n",
       "| 177 |   182 |\n",
       "| 178 |   182 |\n",
       "| 179 |   182 |\n",
       "| 180 |   182 |\n",
       "\n"
      ],
      "text/plain": [
       "    seq_num_in_enc n    \n",
       "1     1            69334\n",
       "2     2            69334\n",
       "3     3            69334\n",
       "4     4            69334\n",
       "5     5            69334\n",
       "6     6            68365\n",
       "7     7            67843\n",
       "8     8            67487\n",
       "9     9            66696\n",
       "10   10            64255\n",
       "11   11            61056\n",
       "12   12            57298\n",
       "13   13            54890\n",
       "14   14            49879\n",
       "15   15            44282\n",
       "16   16            38121\n",
       "17   17            34263\n",
       "18   18            30843\n",
       "19   19            28412\n",
       "20   20            25815\n",
       "21   21            22736\n",
       "22   22            20103\n",
       "23   23            17815\n",
       "24   24            16148\n",
       "25   25            14703\n",
       "26   26            12480\n",
       "27   27            11036\n",
       "28   28             9501\n",
       "29   29             8935\n",
       "30   30             8108\n",
       "31   31             7598\n",
       "32   32             7340\n",
       "33   33             6549\n",
       "34   34             5467\n",
       "35   35             5467\n",
       "36   36             4983\n",
       "37   37             4355\n",
       "38   38             3658\n",
       "39   39             3386\n",
       "40   40             2300\n",
       "41   41             2113\n",
       "42   42             2113\n",
       "43   43             2113\n",
       "44   44             1976\n",
       "45   45             1976\n",
       "46   46             1976\n",
       "47   47             1976\n",
       "48   48             1976\n",
       "49   49             1976\n",
       "50   50             1976\n",
       "51   51             1976\n",
       "52   52             1976\n",
       "53   53             1976\n",
       "54   54             1976\n",
       "55   55             1658\n",
       "56   56             1658\n",
       "57   57             1658\n",
       "58   58             1658\n",
       "59   59             1658\n",
       "60   60             1555\n",
       "61   61             1555\n",
       "62   62             1555\n",
       "63   63             1555\n",
       "64   64             1555\n",
       "65   65             1555\n",
       "66   66             1217\n",
       "67   67             1217\n",
       "68   68             1217\n",
       "69   69             1217\n",
       "70   70             1074\n",
       "71   71             1074\n",
       "72   72             1074\n",
       "73   73             1074\n",
       "74   74             1074\n",
       "75   75             1074\n",
       "76   76             1074\n",
       "77   77              583\n",
       "78   78              583\n",
       "79   79              583\n",
       "80   80              583\n",
       "81   81              583\n",
       "82   82              583\n",
       "83   83              583\n",
       "84   84              583\n",
       "85   85              583\n",
       "86   86              583\n",
       "87   87              583\n",
       "88   88              583\n",
       "89   89              583\n",
       "90   90              376\n",
       "91   91              376\n",
       "92   92              376\n",
       "93   93              376\n",
       "94   94              376\n",
       "95   95              376\n",
       "96   96              376\n",
       "97   97              376\n",
       "98   98              376\n",
       "99   99              376\n",
       "100 100              376\n",
       "101 101              376\n",
       "102 102              376\n",
       "103 103              376\n",
       "104 104              376\n",
       "105 105              376\n",
       "106 106              376\n",
       "107 107              376\n",
       "108 108              376\n",
       "109 109              376\n",
       "110 110              376\n",
       "111 111              376\n",
       "112 112              376\n",
       "113 113              376\n",
       "114 114              182\n",
       "115 115              182\n",
       "116 116              182\n",
       "117 117              182\n",
       "118 118              182\n",
       "119 119              182\n",
       "120 120              182\n",
       "121 121              182\n",
       "122 122              182\n",
       "123 123              182\n",
       "124 124              182\n",
       "125 125              182\n",
       "126 126              182\n",
       "127 127              182\n",
       "128 128              182\n",
       "129 129              182\n",
       "130 130              182\n",
       "131 131              182\n",
       "132 132              182\n",
       "133 133              182\n",
       "134 134              182\n",
       "135 135              182\n",
       "136 136              182\n",
       "137 137              182\n",
       "138 138              182\n",
       "139 139              182\n",
       "140 140              182\n",
       "141 141              182\n",
       "142 142              182\n",
       "143 143              182\n",
       "144 144              182\n",
       "145 145              182\n",
       "146 146              182\n",
       "147 147              182\n",
       "148 148              182\n",
       "149 149              182\n",
       "150 150              182\n",
       "151 151              182\n",
       "152 152              182\n",
       "153 153              182\n",
       "154 154              182\n",
       "155 155              182\n",
       "156 156              182\n",
       "157 157              182\n",
       "158 158              182\n",
       "159 159              182\n",
       "160 160              182\n",
       "161 161              182\n",
       "162 162              182\n",
       "163 163              182\n",
       "164 164              182\n",
       "165 165              182\n",
       "166 166              182\n",
       "167 167              182\n",
       "168 168              182\n",
       "169 169              182\n",
       "170 170              182\n",
       "171 171              182\n",
       "172 172              182\n",
       "173 173              182\n",
       "174 174              182\n",
       "175 175              182\n",
       "176 176              182\n",
       "177 177              182\n",
       "178 178              182\n",
       "179 179              182\n",
       "180 180              182"
      ]
     },
     "metadata": {},
     "output_type": "display_data"
    },
    {
     "data": {
      "text/html": [
       "<table>\n",
       "<caption>A data.frame: 3 × 2</caption>\n",
       "<thead>\n",
       "\t<tr><th scope=col>seq_num_in_bed_min</th><th scope=col>n</th></tr>\n",
       "\t<tr><th scope=col>&lt;int&gt;</th><th scope=col>&lt;int&gt;</th></tr>\n",
       "</thead>\n",
       "<tbody>\n",
       "\t<tr><td>1</td><td>1369116</td></tr>\n",
       "\t<tr><td>2</td><td>  16292</td></tr>\n",
       "\t<tr><td>3</td><td>    313</td></tr>\n",
       "</tbody>\n",
       "</table>\n"
      ],
      "text/latex": [
       "A data.frame: 3 × 2\n",
       "\\begin{tabular}{ll}\n",
       " seq\\_num\\_in\\_bed\\_min & n\\\\\n",
       " <int> & <int>\\\\\n",
       "\\hline\n",
       "\t 1 & 1369116\\\\\n",
       "\t 2 &   16292\\\\\n",
       "\t 3 &     313\\\\\n",
       "\\end{tabular}\n"
      ],
      "text/markdown": [
       "\n",
       "A data.frame: 3 × 2\n",
       "\n",
       "| seq_num_in_bed_min &lt;int&gt; | n &lt;int&gt; |\n",
       "|---|---|\n",
       "| 1 | 1369116 |\n",
       "| 2 |   16292 |\n",
       "| 3 |     313 |\n",
       "\n"
      ],
      "text/plain": [
       "  seq_num_in_bed_min n      \n",
       "1 1                  1369116\n",
       "2 2                    16292\n",
       "3 3                      313"
      ]
     },
     "metadata": {},
     "output_type": "display_data"
    }
   ],
   "source": [
    "cohort %>% distinct(pat_enc_csn_id_coded, first_label, death_24hr_recent_label) %>% count(first_label, death_24hr_recent_label, sort=T)\n",
    "adt %>% count(event_type, event_type_c, sort=TRUE)\n",
    "adt %>% count(pat_class, pat_class_c, sort=TRUE)\n",
    "adt %>% count(base_pat_class, base_pat_class_c, sort=TRUE)\n",
    "adt %>% count(pat_service, pat_service_c, sort=TRUE)\n",
    "adt %>% count(pat_lv_of_care, pat_lvl_of_care_c, sort=TRUE)\n",
    "adt %>% count(accomodation, accommodation_c, sort=TRUE)\n",
    "adt %>% count(in_event_type, in_event_type_c, sort=TRUE)\n",
    "adt %>% count(out_event_type, out_event_type_c, sort=TRUE)\n",
    "adt %>% count(from_base_class, from_base_class_c, sort=TRUE)\n",
    "adt %>% count(to_base_class, to_base_class_c, sort=TRUE)\n",
    "adt %>% count(seq_num_in_enc, sort=TRUE)\n",
    "adt %>% count(seq_num_in_bed_min, sort=TRUE)"
   ]
  },
  {
   "cell_type": "code",
   "execution_count": 14,
   "metadata": {},
   "outputs": [
    {
     "data": {
      "text/html": [
       "<style>\n",
       ".list-inline {list-style: none; margin:0; padding: 0}\n",
       ".list-inline>li {display: inline-block}\n",
       ".list-inline>li:not(:last-child)::after {content: \"\\00b7\"; padding: 0 .5ex}\n",
       "</style>\n",
       "<ol class=list-inline><li>69334</li><li>6</li></ol>\n"
      ],
      "text/latex": [
       "\\begin{enumerate*}\n",
       "\\item 69334\n",
       "\\item 6\n",
       "\\end{enumerate*}\n"
      ],
      "text/markdown": [
       "1. 69334\n",
       "2. 6\n",
       "\n",
       "\n"
      ],
      "text/plain": [
       "[1] 69334     6"
      ]
     },
     "metadata": {},
     "output_type": "display_data"
    },
    {
     "data": {
      "text/html": [
       "<style>\n",
       ".list-inline {list-style: none; margin:0; padding: 0}\n",
       ".list-inline>li {display: inline-block}\n",
       ".list-inline>li:not(:last-child)::after {content: \"\\00b7\"; padding: 0 .5ex}\n",
       "</style>\n",
       "<ol class=list-inline><li>'anon_id'</li><li>'pat_enc_csn_id_coded'</li><li>'INTRPTR_NEEDED_YN'</li><li>'CHARLSON_SCORE'</li><li>'N_HOSPITALIZATIONS'</li><li>'DAYS_IN_HOSPITAL'</li></ol>\n"
      ],
      "text/latex": [
       "\\begin{enumerate*}\n",
       "\\item 'anon\\_id'\n",
       "\\item 'pat\\_enc\\_csn\\_id\\_coded'\n",
       "\\item 'INTRPTR\\_NEEDED\\_YN'\n",
       "\\item 'CHARLSON\\_SCORE'\n",
       "\\item 'N\\_HOSPITALIZATIONS'\n",
       "\\item 'DAYS\\_IN\\_HOSPITAL'\n",
       "\\end{enumerate*}\n"
      ],
      "text/markdown": [
       "1. 'anon_id'\n",
       "2. 'pat_enc_csn_id_coded'\n",
       "3. 'INTRPTR_NEEDED_YN'\n",
       "4. 'CHARLSON_SCORE'\n",
       "5. 'N_HOSPITALIZATIONS'\n",
       "6. 'DAYS_IN_HOSPITAL'\n",
       "\n",
       "\n"
      ],
      "text/plain": [
       "[1] \"anon_id\"              \"pat_enc_csn_id_coded\" \"INTRPTR_NEEDED_YN\"   \n",
       "[4] \"CHARLSON_SCORE\"       \"N_HOSPITALIZATIONS\"   \"DAYS_IN_HOSPITAL\"    "
      ]
     },
     "metadata": {},
     "output_type": "display_data"
    }
   ],
   "source": [
    "demo <- read.csv(file.path(datadir, \"4_2_diff_demographic.csv\"))\n",
    "dim(demo) # should have 69334\n",
    "colnames(demo)"
   ]
  },
  {
   "cell_type": "code",
   "execution_count": 15,
   "metadata": {},
   "outputs": [
    {
     "data": {
      "text/html": [
       "<table>\n",
       "<caption>A data.frame: 1 × 6</caption>\n",
       "<thead>\n",
       "\t<tr><th></th><th scope=col>anon_id</th><th scope=col>pat_enc_csn_id_coded</th><th scope=col>INTRPTR_NEEDED_YN</th><th scope=col>CHARLSON_SCORE</th><th scope=col>N_HOSPITALIZATIONS</th><th scope=col>DAYS_IN_HOSPITAL</th></tr>\n",
       "\t<tr><th></th><th scope=col>&lt;chr&gt;</th><th scope=col>&lt;lgl&gt;</th><th scope=col>&lt;lgl&gt;</th><th scope=col>&lt;int&gt;</th><th scope=col>&lt;int&gt;</th><th scope=col>&lt;int&gt;</th></tr>\n",
       "</thead>\n",
       "<tbody>\n",
       "\t<tr><th scope=row>1</th><td>JCd5f913</td><td>NA</td><td>FALSE</td><td>11</td><td>14</td><td>96</td></tr>\n",
       "</tbody>\n",
       "</table>\n"
      ],
      "text/latex": [
       "A data.frame: 1 × 6\n",
       "\\begin{tabular}{r|llllll}\n",
       "  & anon\\_id & pat\\_enc\\_csn\\_id\\_coded & INTRPTR\\_NEEDED\\_YN & CHARLSON\\_SCORE & N\\_HOSPITALIZATIONS & DAYS\\_IN\\_HOSPITAL\\\\\n",
       "  & <chr> & <lgl> & <lgl> & <int> & <int> & <int>\\\\\n",
       "\\hline\n",
       "\t1 & JCd5f913 & NA & FALSE & 11 & 14 & 96\\\\\n",
       "\\end{tabular}\n"
      ],
      "text/markdown": [
       "\n",
       "A data.frame: 1 × 6\n",
       "\n",
       "| <!--/--> | anon_id &lt;chr&gt; | pat_enc_csn_id_coded &lt;lgl&gt; | INTRPTR_NEEDED_YN &lt;lgl&gt; | CHARLSON_SCORE &lt;int&gt; | N_HOSPITALIZATIONS &lt;int&gt; | DAYS_IN_HOSPITAL &lt;int&gt; |\n",
       "|---|---|---|---|---|---|---|\n",
       "| 1 | JCd5f913 | NA | FALSE | 11 | 14 | 96 |\n",
       "\n"
      ],
      "text/plain": [
       "  anon_id  pat_enc_csn_id_coded INTRPTR_NEEDED_YN CHARLSON_SCORE\n",
       "1 JCd5f913 NA                   FALSE             11            \n",
       "  N_HOSPITALIZATIONS DAYS_IN_HOSPITAL\n",
       "1 14                 96              "
      ]
     },
     "metadata": {},
     "output_type": "display_data"
    }
   ],
   "source": [
    "head(demo,1)"
   ]
  },
  {
   "cell_type": "code",
   "execution_count": 26,
   "metadata": {},
   "outputs": [
    {
     "data": {
      "text/html": [
       "<table>\n",
       "<caption>A data.frame: 1 × 24</caption>\n",
       "<thead>\n",
       "\t<tr><th></th><th scope=col>anon_id</th><th scope=col>pat_enc_csn_id_coded</th><th scope=col>admit_time</th><th scope=col>first_label</th><th scope=col>death_24hr_recent_label</th><th scope=col>death_24hr_max_label</th><th scope=col>pred_first</th><th scope=col>pred_death_24hr_recent</th><th scope=col>abs_diff0_24</th><th scope=col>diff0_True</th><th scope=col>diff24_True</th><th scope=col>feature_type</th><th scope=col>features</th><th scope=col>values</th><th scope=col>time</th><th scope=col>hr_before_admit</th><th scope=col>line</th><th scope=col>dx_name</th><th scope=col>primary</th><th scope=col>chronic</th><th scope=col>principal</th><th scope=col>hospital_pl</th><th scope=col>ed</th><th scope=col>present_on_adm</th></tr>\n",
       "\t<tr><th></th><th scope=col>&lt;chr&gt;</th><th scope=col>&lt;dbl&gt;</th><th scope=col>&lt;chr&gt;</th><th scope=col>&lt;int&gt;</th><th scope=col>&lt;int&gt;</th><th scope=col>&lt;int&gt;</th><th scope=col>&lt;dbl&gt;</th><th scope=col>&lt;dbl&gt;</th><th scope=col>&lt;dbl&gt;</th><th scope=col>&lt;dbl&gt;</th><th scope=col>&lt;dbl&gt;</th><th scope=col>&lt;chr&gt;</th><th scope=col>&lt;chr&gt;</th><th scope=col>&lt;dbl&gt;</th><th scope=col>&lt;chr&gt;</th><th scope=col>&lt;dbl&gt;</th><th scope=col>&lt;dbl&gt;</th><th scope=col>&lt;chr&gt;</th><th scope=col>&lt;chr&gt;</th><th scope=col>&lt;chr&gt;</th><th scope=col>&lt;chr&gt;</th><th scope=col>&lt;chr&gt;</th><th scope=col>&lt;chr&gt;</th><th scope=col>&lt;chr&gt;</th></tr>\n",
       "</thead>\n",
       "<tbody>\n",
       "\t<tr><th scope=row>1</th><td>JCda4f94</td><td>131274348480</td><td>2019-08-07 20:38:00</td><td>0</td><td>0</td><td>0</td><td>0.8106468</td><td>0.4368035</td><td>0.4</td><td>0.81</td><td>0.44</td><td>Diagnosis</td><td>E11.22</td><td>1</td><td>NA</td><td>NA</td><td>1</td><td>Type 1 diabetes mellitus with ketoacidosis without coma</td><td></td><td></td><td></td><td></td><td></td><td>Yes</td></tr>\n",
       "</tbody>\n",
       "</table>\n"
      ],
      "text/latex": [
       "A data.frame: 1 × 24\n",
       "\\begin{tabular}{r|llllllllllllllllllllllll}\n",
       "  & anon\\_id & pat\\_enc\\_csn\\_id\\_coded & admit\\_time & first\\_label & death\\_24hr\\_recent\\_label & death\\_24hr\\_max\\_label & pred\\_first & pred\\_death\\_24hr\\_recent & abs\\_diff0\\_24 & diff0\\_True & diff24\\_True & feature\\_type & features & values & time & hr\\_before\\_admit & line & dx\\_name & primary & chronic & principal & hospital\\_pl & ed & present\\_on\\_adm\\\\\n",
       "  & <chr> & <dbl> & <chr> & <int> & <int> & <int> & <dbl> & <dbl> & <dbl> & <dbl> & <dbl> & <chr> & <chr> & <dbl> & <chr> & <dbl> & <dbl> & <chr> & <chr> & <chr> & <chr> & <chr> & <chr> & <chr>\\\\\n",
       "\\hline\n",
       "\t1 & JCda4f94 & 131274348480 & 2019-08-07 20:38:00 & 0 & 0 & 0 & 0.8106468 & 0.4368035 & 0.4 & 0.81 & 0.44 & Diagnosis & E11.22 & 1 & NA & NA & 1 & Type 1 diabetes mellitus with ketoacidosis without coma &  &  &  &  &  & Yes\\\\\n",
       "\\end{tabular}\n"
      ],
      "text/markdown": [
       "\n",
       "A data.frame: 1 × 24\n",
       "\n",
       "| <!--/--> | anon_id &lt;chr&gt; | pat_enc_csn_id_coded &lt;dbl&gt; | admit_time &lt;chr&gt; | first_label &lt;int&gt; | death_24hr_recent_label &lt;int&gt; | death_24hr_max_label &lt;int&gt; | pred_first &lt;dbl&gt; | pred_death_24hr_recent &lt;dbl&gt; | abs_diff0_24 &lt;dbl&gt; | diff0_True &lt;dbl&gt; | diff24_True &lt;dbl&gt; | feature_type &lt;chr&gt; | features &lt;chr&gt; | values &lt;dbl&gt; | time &lt;chr&gt; | hr_before_admit &lt;dbl&gt; | line &lt;dbl&gt; | dx_name &lt;chr&gt; | primary &lt;chr&gt; | chronic &lt;chr&gt; | principal &lt;chr&gt; | hospital_pl &lt;chr&gt; | ed &lt;chr&gt; | present_on_adm &lt;chr&gt; |\n",
       "|---|---|---|---|---|---|---|---|---|---|---|---|---|---|---|---|---|---|---|---|---|---|---|---|---|\n",
       "| 1 | JCda4f94 | 131274348480 | 2019-08-07 20:38:00 | 0 | 0 | 0 | 0.8106468 | 0.4368035 | 0.4 | 0.81 | 0.44 | Diagnosis | E11.22 | 1 | NA | NA | 1 | Type 1 diabetes mellitus with ketoacidosis without coma | <!----> | <!----> | <!----> | <!----> | <!----> | Yes |\n",
       "\n"
      ],
      "text/plain": [
       "  anon_id  pat_enc_csn_id_coded admit_time          first_label\n",
       "1 JCda4f94 131274348480         2019-08-07 20:38:00 0          \n",
       "  death_24hr_recent_label death_24hr_max_label pred_first\n",
       "1 0                       0                    0.8106468 \n",
       "  pred_death_24hr_recent abs_diff0_24 diff0_True diff24_True feature_type\n",
       "1 0.4368035              0.4          0.81       0.44        Diagnosis   \n",
       "  features values time hr_before_admit line\n",
       "1 E11.22   1      NA   NA              1   \n",
       "  dx_name                                                 primary chronic\n",
       "1 Type 1 diabetes mellitus with ketoacidosis without coma                \n",
       "  principal hospital_pl ed present_on_adm\n",
       "1                          Yes           "
      ]
     },
     "metadata": {},
     "output_type": "display_data"
    },
    {
     "data": {
      "text/html": [
       "<style>\n",
       ".list-inline {list-style: none; margin:0; padding: 0}\n",
       ".list-inline>li {display: inline-block}\n",
       ".list-inline>li:not(:last-child)::after {content: \"\\00b7\"; padding: 0 .5ex}\n",
       "</style>\n",
       "<ol class=list-inline><li>'anon_id'</li><li>'pat_enc_csn_id_coded'</li><li>'admit_time'</li><li>'first_label'</li><li>'death_24hr_recent_label'</li><li>'death_24hr_max_label'</li><li>'pred_first'</li><li>'pred_death_24hr_recent'</li><li>'abs_diff0_24'</li><li>'diff0_True'</li><li>'diff24_True'</li><li>'feature_type'</li><li>'features'</li><li>'values'</li><li>'time'</li><li>'hr_before_admit'</li><li>'line'</li><li>'dx_name'</li><li>'primary'</li><li>'chronic'</li><li>'principal'</li><li>'hospital_pl'</li><li>'ed'</li><li>'present_on_adm'</li></ol>\n"
      ],
      "text/latex": [
       "\\begin{enumerate*}\n",
       "\\item 'anon\\_id'\n",
       "\\item 'pat\\_enc\\_csn\\_id\\_coded'\n",
       "\\item 'admit\\_time'\n",
       "\\item 'first\\_label'\n",
       "\\item 'death\\_24hr\\_recent\\_label'\n",
       "\\item 'death\\_24hr\\_max\\_label'\n",
       "\\item 'pred\\_first'\n",
       "\\item 'pred\\_death\\_24hr\\_recent'\n",
       "\\item 'abs\\_diff0\\_24'\n",
       "\\item 'diff0\\_True'\n",
       "\\item 'diff24\\_True'\n",
       "\\item 'feature\\_type'\n",
       "\\item 'features'\n",
       "\\item 'values'\n",
       "\\item 'time'\n",
       "\\item 'hr\\_before\\_admit'\n",
       "\\item 'line'\n",
       "\\item 'dx\\_name'\n",
       "\\item 'primary'\n",
       "\\item 'chronic'\n",
       "\\item 'principal'\n",
       "\\item 'hospital\\_pl'\n",
       "\\item 'ed'\n",
       "\\item 'present\\_on\\_adm'\n",
       "\\end{enumerate*}\n"
      ],
      "text/markdown": [
       "1. 'anon_id'\n",
       "2. 'pat_enc_csn_id_coded'\n",
       "3. 'admit_time'\n",
       "4. 'first_label'\n",
       "5. 'death_24hr_recent_label'\n",
       "6. 'death_24hr_max_label'\n",
       "7. 'pred_first'\n",
       "8. 'pred_death_24hr_recent'\n",
       "9. 'abs_diff0_24'\n",
       "10. 'diff0_True'\n",
       "11. 'diff24_True'\n",
       "12. 'feature_type'\n",
       "13. 'features'\n",
       "14. 'values'\n",
       "15. 'time'\n",
       "16. 'hr_before_admit'\n",
       "17. 'line'\n",
       "18. 'dx_name'\n",
       "19. 'primary'\n",
       "20. 'chronic'\n",
       "21. 'principal'\n",
       "22. 'hospital_pl'\n",
       "23. 'ed'\n",
       "24. 'present_on_adm'\n",
       "\n",
       "\n"
      ],
      "text/plain": [
       " [1] \"anon_id\"                 \"pat_enc_csn_id_coded\"   \n",
       " [3] \"admit_time\"              \"first_label\"            \n",
       " [5] \"death_24hr_recent_label\" \"death_24hr_max_label\"   \n",
       " [7] \"pred_first\"              \"pred_death_24hr_recent\" \n",
       " [9] \"abs_diff0_24\"            \"diff0_True\"             \n",
       "[11] \"diff24_True\"             \"feature_type\"           \n",
       "[13] \"features\"                \"values\"                 \n",
       "[15] \"time\"                    \"hr_before_admit\"        \n",
       "[17] \"line\"                    \"dx_name\"                \n",
       "[19] \"primary\"                 \"chronic\"                \n",
       "[21] \"principal\"               \"hospital_pl\"            \n",
       "[23] \"ed\"                      \"present_on_adm\"         "
      ]
     },
     "metadata": {},
     "output_type": "display_data"
    }
   ],
   "source": [
    "head(coh_dx, 1)\n",
    "colnames(coh_dx)"
   ]
  },
  {
   "cell_type": "code",
   "execution_count": 17,
   "metadata": {},
   "outputs": [
    {
     "name": "stderr",
     "output_type": "stream",
     "text": [
      "Joining, by = c(\"anon_id\", \"pat_enc_csn_id_coded\")\n",
      "\n"
     ]
    },
    {
     "data": {
      "text/html": [
       "849920"
      ],
      "text/latex": [
       "849920"
      ],
      "text/markdown": [
       "849920"
      ],
      "text/plain": [
       "[1] 849920"
      ]
     },
     "metadata": {},
     "output_type": "display_data"
    },
    {
     "data": {
      "text/html": [
       "117"
      ],
      "text/latex": [
       "117"
      ],
      "text/markdown": [
       "117"
      ],
      "text/plain": [
       "[1] 117"
      ]
     },
     "metadata": {},
     "output_type": "display_data"
    },
    {
     "data": {
      "text/html": [
       "43932"
      ],
      "text/latex": [
       "43932"
      ],
      "text/markdown": [
       "43932"
      ],
      "text/plain": [
       "[1] 43932"
      ]
     },
     "metadata": {},
     "output_type": "display_data"
    },
    {
     "data": {
      "text/html": [
       "0"
      ],
      "text/latex": [
       "0"
      ],
      "text/markdown": [
       "0"
      ],
      "text/plain": [
       "[1] 0"
      ]
     },
     "metadata": {},
     "output_type": "display_data"
    },
    {
     "data": {
      "text/html": [
       "43815"
      ],
      "text/latex": [
       "43815"
      ],
      "text/markdown": [
       "43815"
      ],
      "text/plain": [
       "[1] 43815"
      ]
     },
     "metadata": {},
     "output_type": "display_data"
    }
   ],
   "source": [
    "# only 120 of obs above 0.4\n",
    "\n",
    "coh_dx <- cohort %>% distinct() %>% filter(abs_diff0_24 >= 0.4) %>% inner_join(dx) # %>% distinct()\n",
    "nrow(coh_dx) #2152159 same as inner_join for threshold at 0.3 --> distinct 2148938, duplicates comes from cohort\n",
    "length(unique(coh_dx$pat_enc_csn_id_coded))\n",
    "length(unique(dx$pat_enc_csn_id_coded))\n",
    "length(setdiff(coh_dx$pat_enc_csn_id_coded, dx$pat_enc_csn_id_coded))\n",
    "length(setdiff(dx$pat_enc_csn_id_coded, coh_dx$pat_enc_csn_id_coded))"
   ]
  },
  {
   "cell_type": "code",
   "execution_count": 18,
   "metadata": {},
   "outputs": [
    {
     "data": {
      "text/plain": [
       "   Min. 1st Qu.  Median    Mean 3rd Qu.    Max.    NA's \n",
       "   1.00    4.00    9.00   12.36   19.00   53.00    5718 "
      ]
     },
     "metadata": {},
     "output_type": "display_data"
    },
    {
     "data": {
      "text/html": [
       "<table>\n",
       "<caption>A data.frame: 3 × 2</caption>\n",
       "<thead>\n",
       "\t<tr><th scope=col>primary</th><th scope=col>n</th></tr>\n",
       "\t<tr><th scope=col>&lt;chr&gt;</th><th scope=col>&lt;int&gt;</th></tr>\n",
       "</thead>\n",
       "<tbody>\n",
       "\t<tr><td> </td><td>709610</td></tr>\n",
       "\t<tr><td>N</td><td>112884</td></tr>\n",
       "\t<tr><td>Y</td><td> 27426</td></tr>\n",
       "</tbody>\n",
       "</table>\n"
      ],
      "text/latex": [
       "A data.frame: 3 × 2\n",
       "\\begin{tabular}{ll}\n",
       " primary & n\\\\\n",
       " <chr> & <int>\\\\\n",
       "\\hline\n",
       "\t   & 709610\\\\\n",
       "\t N & 112884\\\\\n",
       "\t Y &  27426\\\\\n",
       "\\end{tabular}\n"
      ],
      "text/markdown": [
       "\n",
       "A data.frame: 3 × 2\n",
       "\n",
       "| primary &lt;chr&gt; | n &lt;int&gt; |\n",
       "|---|---|\n",
       "| <!----> | 709610 |\n",
       "| N | 112884 |\n",
       "| Y |  27426 |\n",
       "\n"
      ],
      "text/plain": [
       "  primary n     \n",
       "1         709610\n",
       "2 N       112884\n",
       "3 Y        27426"
      ]
     },
     "metadata": {},
     "output_type": "display_data"
    },
    {
     "data": {
      "text/html": [
       "<table>\n",
       "<caption>A data.frame: 3 × 2</caption>\n",
       "<thead>\n",
       "\t<tr><th scope=col>chronic</th><th scope=col>n</th></tr>\n",
       "\t<tr><th scope=col>&lt;chr&gt;</th><th scope=col>&lt;int&gt;</th></tr>\n",
       "</thead>\n",
       "<tbody>\n",
       "\t<tr><td> </td><td>704997</td></tr>\n",
       "\t<tr><td>N</td><td>140310</td></tr>\n",
       "\t<tr><td>Y</td><td>  4613</td></tr>\n",
       "</tbody>\n",
       "</table>\n"
      ],
      "text/latex": [
       "A data.frame: 3 × 2\n",
       "\\begin{tabular}{ll}\n",
       " chronic & n\\\\\n",
       " <chr> & <int>\\\\\n",
       "\\hline\n",
       "\t   & 704997\\\\\n",
       "\t N & 140310\\\\\n",
       "\t Y &   4613\\\\\n",
       "\\end{tabular}\n"
      ],
      "text/markdown": [
       "\n",
       "A data.frame: 3 × 2\n",
       "\n",
       "| chronic &lt;chr&gt; | n &lt;int&gt; |\n",
       "|---|---|\n",
       "| <!----> | 704997 |\n",
       "| N | 140310 |\n",
       "| Y |   4613 |\n",
       "\n"
      ],
      "text/plain": [
       "  chronic n     \n",
       "1         704997\n",
       "2 N       140310\n",
       "3 Y         4613"
      ]
     },
     "metadata": {},
     "output_type": "display_data"
    },
    {
     "data": {
      "text/html": [
       "<table>\n",
       "<caption>A data.frame: 3 × 2</caption>\n",
       "<thead>\n",
       "\t<tr><th scope=col>hospital_pl</th><th scope=col>n</th></tr>\n",
       "\t<tr><th scope=col>&lt;chr&gt;</th><th scope=col>&lt;int&gt;</th></tr>\n",
       "</thead>\n",
       "<tbody>\n",
       "\t<tr><td> </td><td>844202</td></tr>\n",
       "\t<tr><td>Y</td><td>  5493</td></tr>\n",
       "\t<tr><td>N</td><td>   225</td></tr>\n",
       "</tbody>\n",
       "</table>\n"
      ],
      "text/latex": [
       "A data.frame: 3 × 2\n",
       "\\begin{tabular}{ll}\n",
       " hospital\\_pl & n\\\\\n",
       " <chr> & <int>\\\\\n",
       "\\hline\n",
       "\t   & 844202\\\\\n",
       "\t Y &   5493\\\\\n",
       "\t N &    225\\\\\n",
       "\\end{tabular}\n"
      ],
      "text/markdown": [
       "\n",
       "A data.frame: 3 × 2\n",
       "\n",
       "| hospital_pl &lt;chr&gt; | n &lt;int&gt; |\n",
       "|---|---|\n",
       "| <!----> | 844202 |\n",
       "| Y |   5493 |\n",
       "| N |    225 |\n",
       "\n"
      ],
      "text/plain": [
       "  hospital_pl n     \n",
       "1             844202\n",
       "2 Y             5493\n",
       "3 N              225"
      ]
     },
     "metadata": {},
     "output_type": "display_data"
    },
    {
     "data": {
      "text/html": [
       "<table>\n",
       "<caption>A data.frame: 3 × 2</caption>\n",
       "<thead>\n",
       "\t<tr><th scope=col>principal</th><th scope=col>n</th></tr>\n",
       "\t<tr><th scope=col>&lt;chr&gt;</th><th scope=col>&lt;int&gt;</th></tr>\n",
       "</thead>\n",
       "<tbody>\n",
       "\t<tr><td> </td><td>844202</td></tr>\n",
       "\t<tr><td>N</td><td>  4675</td></tr>\n",
       "\t<tr><td>Y</td><td>  1043</td></tr>\n",
       "</tbody>\n",
       "</table>\n"
      ],
      "text/latex": [
       "A data.frame: 3 × 2\n",
       "\\begin{tabular}{ll}\n",
       " principal & n\\\\\n",
       " <chr> & <int>\\\\\n",
       "\\hline\n",
       "\t   & 844202\\\\\n",
       "\t N &   4675\\\\\n",
       "\t Y &   1043\\\\\n",
       "\\end{tabular}\n"
      ],
      "text/markdown": [
       "\n",
       "A data.frame: 3 × 2\n",
       "\n",
       "| principal &lt;chr&gt; | n &lt;int&gt; |\n",
       "|---|---|\n",
       "| <!----> | 844202 |\n",
       "| N |   4675 |\n",
       "| Y |   1043 |\n",
       "\n"
      ],
      "text/plain": [
       "  principal n     \n",
       "1           844202\n",
       "2 N           4675\n",
       "3 Y           1043"
      ]
     },
     "metadata": {},
     "output_type": "display_data"
    },
    {
     "data": {
      "text/html": [
       "<table>\n",
       "<caption>A data.frame: 3 × 2</caption>\n",
       "<thead>\n",
       "\t<tr><th scope=col>ed</th><th scope=col>n</th></tr>\n",
       "\t<tr><th scope=col>&lt;chr&gt;</th><th scope=col>&lt;int&gt;</th></tr>\n",
       "</thead>\n",
       "<tbody>\n",
       "\t<tr><td> </td><td>709610</td></tr>\n",
       "\t<tr><td>N</td><td> 90503</td></tr>\n",
       "\t<tr><td>Y</td><td> 49807</td></tr>\n",
       "</tbody>\n",
       "</table>\n"
      ],
      "text/latex": [
       "A data.frame: 3 × 2\n",
       "\\begin{tabular}{ll}\n",
       " ed & n\\\\\n",
       " <chr> & <int>\\\\\n",
       "\\hline\n",
       "\t   & 709610\\\\\n",
       "\t N &  90503\\\\\n",
       "\t Y &  49807\\\\\n",
       "\\end{tabular}\n"
      ],
      "text/markdown": [
       "\n",
       "A data.frame: 3 × 2\n",
       "\n",
       "| ed &lt;chr&gt; | n &lt;int&gt; |\n",
       "|---|---|\n",
       "| <!----> | 709610 |\n",
       "| N |  90503 |\n",
       "| Y |  49807 |\n",
       "\n"
      ],
      "text/plain": [
       "  ed n     \n",
       "1    709610\n",
       "2 N   90503\n",
       "3 Y   49807"
      ]
     },
     "metadata": {},
     "output_type": "display_data"
    },
    {
     "data": {
      "text/html": [
       "<table>\n",
       "<caption>A data.frame: 5 × 2</caption>\n",
       "<thead>\n",
       "\t<tr><th scope=col>present_on_adm</th><th scope=col>n</th></tr>\n",
       "\t<tr><th scope=col>&lt;chr&gt;</th><th scope=col>&lt;int&gt;</th></tr>\n",
       "</thead>\n",
       "<tbody>\n",
       "\t<tr><td>Yes                      </td><td>457212</td></tr>\n",
       "\t<tr><td>Exempt from POA reporting</td><td>181645</td></tr>\n",
       "\t<tr><td>                         </td><td>174002</td></tr>\n",
       "\t<tr><td>No                       </td><td> 34797</td></tr>\n",
       "\t<tr><td>Unknown                  </td><td>  2264</td></tr>\n",
       "</tbody>\n",
       "</table>\n"
      ],
      "text/latex": [
       "A data.frame: 5 × 2\n",
       "\\begin{tabular}{ll}\n",
       " present\\_on\\_adm & n\\\\\n",
       " <chr> & <int>\\\\\n",
       "\\hline\n",
       "\t Yes                       & 457212\\\\\n",
       "\t Exempt from POA reporting & 181645\\\\\n",
       "\t                           & 174002\\\\\n",
       "\t No                        &  34797\\\\\n",
       "\t Unknown                   &   2264\\\\\n",
       "\\end{tabular}\n"
      ],
      "text/markdown": [
       "\n",
       "A data.frame: 5 × 2\n",
       "\n",
       "| present_on_adm &lt;chr&gt; | n &lt;int&gt; |\n",
       "|---|---|\n",
       "| Yes                       | 457212 |\n",
       "| Exempt from POA reporting | 181645 |\n",
       "| <!----> | 174002 |\n",
       "| No                        |  34797 |\n",
       "| Unknown                   |   2264 |\n",
       "\n"
      ],
      "text/plain": [
       "  present_on_adm            n     \n",
       "1 Yes                       457212\n",
       "2 Exempt from POA reporting 181645\n",
       "3                           174002\n",
       "4 No                         34797\n",
       "5 Unknown                     2264"
      ]
     },
     "metadata": {},
     "output_type": "display_data"
    },
    {
     "data": {
      "text/html": [
       "<table>\n",
       "<caption>A data.frame: 20 × 2</caption>\n",
       "<thead>\n",
       "\t<tr><th></th><th scope=col>dx_name</th><th scope=col>n</th></tr>\n",
       "\t<tr><th></th><th scope=col>&lt;chr&gt;</th><th scope=col>&lt;int&gt;</th></tr>\n",
       "</thead>\n",
       "<tbody>\n",
       "\t<tr><th scope=row>1</th><td>Other long term (current) drug therapy                                               </td><td>13427</td></tr>\n",
       "\t<tr><th scope=row>2</th><td>Hyperlipidemia, unspecified                                                          </td><td>13211</td></tr>\n",
       "\t<tr><th scope=row>3</th><td>Long term (current) use of insulin                                                   </td><td>11874</td></tr>\n",
       "\t<tr><th scope=row>4</th><td>Major depressive disorder, single episode, unspecified                               </td><td> 8850</td></tr>\n",
       "\t<tr><th scope=row>5</th><td>Atherosclerotic heart disease of native coronary artery without angina pectoris      </td><td> 8822</td></tr>\n",
       "\t<tr><th scope=row>6</th><td>Type 1 diabetes mellitus with ketoacidosis without coma                              </td><td> 8158</td></tr>\n",
       "\t<tr><th scope=row>7</th><td>Long term (current) use of aspirin                                                   </td><td> 7740</td></tr>\n",
       "\t<tr><th scope=row>8</th><td>Essential (primary) hypertension                                                     </td><td> 7581</td></tr>\n",
       "\t<tr><th scope=row>9</th><td>Dehydration                                                                          </td><td> 6834</td></tr>\n",
       "\t<tr><th scope=row>10</th><td>Old myocardial infarction                                                            </td><td> 6502</td></tr>\n",
       "\t<tr><th scope=row>11</th><td>Hypertensive emergency                                                               </td><td> 6361</td></tr>\n",
       "\t<tr><th scope=row>12</th><td>Acidosis                                                                             </td><td> 6330</td></tr>\n",
       "\t<tr><th scope=row>13</th><td>Personal history of nicotine dependence                                              </td><td> 6113</td></tr>\n",
       "\t<tr><th scope=row>14</th><td>Family history of diabetes mellitus                                                  </td><td> 6061</td></tr>\n",
       "\t<tr><th scope=row>15</th><td>Acquired absence of other specified parts of digestive tract                         </td><td> 6004</td></tr>\n",
       "\t<tr><th scope=row>16</th><td>Long term (current) use of anticoagulants                                            </td><td> 5921</td></tr>\n",
       "\t<tr><th scope=row>17</th><td>Other chest pain                                                                     </td><td> 5574</td></tr>\n",
       "\t<tr><th scope=row>18</th><td>Weakness                                                                             </td><td> 5377</td></tr>\n",
       "\t<tr><th scope=row>19</th><td>Family history of ischemic heart disease and other diseases of the circulatory system</td><td> 5340</td></tr>\n",
       "\t<tr><th scope=row>20</th><td>Patient's other noncompliance with medication regimen                                </td><td> 5221</td></tr>\n",
       "</tbody>\n",
       "</table>\n"
      ],
      "text/latex": [
       "A data.frame: 20 × 2\n",
       "\\begin{tabular}{r|ll}\n",
       "  & dx\\_name & n\\\\\n",
       "  & <chr> & <int>\\\\\n",
       "\\hline\n",
       "\t1 & Other long term (current) drug therapy                                                & 13427\\\\\n",
       "\t2 & Hyperlipidemia, unspecified                                                           & 13211\\\\\n",
       "\t3 & Long term (current) use of insulin                                                    & 11874\\\\\n",
       "\t4 & Major depressive disorder, single episode, unspecified                                &  8850\\\\\n",
       "\t5 & Atherosclerotic heart disease of native coronary artery without angina pectoris       &  8822\\\\\n",
       "\t6 & Type 1 diabetes mellitus with ketoacidosis without coma                               &  8158\\\\\n",
       "\t7 & Long term (current) use of aspirin                                                    &  7740\\\\\n",
       "\t8 & Essential (primary) hypertension                                                      &  7581\\\\\n",
       "\t9 & Dehydration                                                                           &  6834\\\\\n",
       "\t10 & Old myocardial infarction                                                             &  6502\\\\\n",
       "\t11 & Hypertensive emergency                                                                &  6361\\\\\n",
       "\t12 & Acidosis                                                                              &  6330\\\\\n",
       "\t13 & Personal history of nicotine dependence                                               &  6113\\\\\n",
       "\t14 & Family history of diabetes mellitus                                                   &  6061\\\\\n",
       "\t15 & Acquired absence of other specified parts of digestive tract                          &  6004\\\\\n",
       "\t16 & Long term (current) use of anticoagulants                                             &  5921\\\\\n",
       "\t17 & Other chest pain                                                                      &  5574\\\\\n",
       "\t18 & Weakness                                                                              &  5377\\\\\n",
       "\t19 & Family history of ischemic heart disease and other diseases of the circulatory system &  5340\\\\\n",
       "\t20 & Patient's other noncompliance with medication regimen                                 &  5221\\\\\n",
       "\\end{tabular}\n"
      ],
      "text/markdown": [
       "\n",
       "A data.frame: 20 × 2\n",
       "\n",
       "| <!--/--> | dx_name &lt;chr&gt; | n &lt;int&gt; |\n",
       "|---|---|---|\n",
       "| 1 | Other long term (current) drug therapy                                                | 13427 |\n",
       "| 2 | Hyperlipidemia, unspecified                                                           | 13211 |\n",
       "| 3 | Long term (current) use of insulin                                                    | 11874 |\n",
       "| 4 | Major depressive disorder, single episode, unspecified                                |  8850 |\n",
       "| 5 | Atherosclerotic heart disease of native coronary artery without angina pectoris       |  8822 |\n",
       "| 6 | Type 1 diabetes mellitus with ketoacidosis without coma                               |  8158 |\n",
       "| 7 | Long term (current) use of aspirin                                                    |  7740 |\n",
       "| 8 | Essential (primary) hypertension                                                      |  7581 |\n",
       "| 9 | Dehydration                                                                           |  6834 |\n",
       "| 10 | Old myocardial infarction                                                             |  6502 |\n",
       "| 11 | Hypertensive emergency                                                                |  6361 |\n",
       "| 12 | Acidosis                                                                              |  6330 |\n",
       "| 13 | Personal history of nicotine dependence                                               |  6113 |\n",
       "| 14 | Family history of diabetes mellitus                                                   |  6061 |\n",
       "| 15 | Acquired absence of other specified parts of digestive tract                          |  6004 |\n",
       "| 16 | Long term (current) use of anticoagulants                                             |  5921 |\n",
       "| 17 | Other chest pain                                                                      |  5574 |\n",
       "| 18 | Weakness                                                                              |  5377 |\n",
       "| 19 | Family history of ischemic heart disease and other diseases of the circulatory system |  5340 |\n",
       "| 20 | Patient's other noncompliance with medication regimen                                 |  5221 |\n",
       "\n"
      ],
      "text/plain": [
       "   dx_name                                                                              \n",
       "1  Other long term (current) drug therapy                                               \n",
       "2  Hyperlipidemia, unspecified                                                          \n",
       "3  Long term (current) use of insulin                                                   \n",
       "4  Major depressive disorder, single episode, unspecified                               \n",
       "5  Atherosclerotic heart disease of native coronary artery without angina pectoris      \n",
       "6  Type 1 diabetes mellitus with ketoacidosis without coma                              \n",
       "7  Long term (current) use of aspirin                                                   \n",
       "8  Essential (primary) hypertension                                                     \n",
       "9  Dehydration                                                                          \n",
       "10 Old myocardial infarction                                                            \n",
       "11 Hypertensive emergency                                                               \n",
       "12 Acidosis                                                                             \n",
       "13 Personal history of nicotine dependence                                              \n",
       "14 Family history of diabetes mellitus                                                  \n",
       "15 Acquired absence of other specified parts of digestive tract                         \n",
       "16 Long term (current) use of anticoagulants                                            \n",
       "17 Other chest pain                                                                     \n",
       "18 Weakness                                                                             \n",
       "19 Family history of ischemic heart disease and other diseases of the circulatory system\n",
       "20 Patient's other noncompliance with medication regimen                                \n",
       "   n    \n",
       "1  13427\n",
       "2  13211\n",
       "3  11874\n",
       "4   8850\n",
       "5   8822\n",
       "6   8158\n",
       "7   7740\n",
       "8   7581\n",
       "9   6834\n",
       "10  6502\n",
       "11  6361\n",
       "12  6330\n",
       "13  6113\n",
       "14  6061\n",
       "15  6004\n",
       "16  5921\n",
       "17  5574\n",
       "18  5377\n",
       "19  5340\n",
       "20  5221"
      ]
     },
     "metadata": {},
     "output_type": "display_data"
    }
   ],
   "source": [
    "summary(coh_dx$line)\n",
    "\n",
    "coh_dx %>% count(primary, sort=TRUE)\n",
    "coh_dx %>% count(chronic, sort=TRUE)\n",
    "coh_dx %>% count(hospital_pl,  sort=TRUE)\n",
    "coh_dx %>% count(principal, sort=TRUE)\n",
    "coh_dx %>% count(ed, sort=TRUE)\n",
    "coh_dx %>% count(present_on_adm, sort=TRUE)\n",
    "coh_dx %>% count(dx_name, sort=TRUE) %>% head(20)"
   ]
  },
  {
   "cell_type": "code",
   "execution_count": 19,
   "metadata": {},
   "outputs": [
    {
     "data": {
      "text/html": [
       "<table>\n",
       "<caption>A data.frame: 20 × 3</caption>\n",
       "<thead>\n",
       "\t<tr><th></th><th scope=col>dx_name</th><th scope=col>n</th><th scope=col>perc</th></tr>\n",
       "\t<tr><th></th><th scope=col>&lt;chr&gt;</th><th scope=col>&lt;int&gt;</th><th scope=col>&lt;dbl&gt;</th></tr>\n",
       "</thead>\n",
       "<tbody>\n",
       "\t<tr><th scope=row>1</th><td>Other long term (current) drug therapy                                               </td><td>50</td><td>41.67</td></tr>\n",
       "\t<tr><th scope=row>2</th><td>Hyperlipidemia, unspecified                                                          </td><td>49</td><td>40.83</td></tr>\n",
       "\t<tr><th scope=row>3</th><td>Long term (current) use of insulin                                                   </td><td>42</td><td>35.00</td></tr>\n",
       "\t<tr><th scope=row>4</th><td>Essential (primary) hypertension                                                     </td><td>40</td><td>33.33</td></tr>\n",
       "\t<tr><th scope=row>5</th><td>Long term (current) use of aspirin                                                   </td><td>32</td><td>26.67</td></tr>\n",
       "\t<tr><th scope=row>6</th><td>Major depressive disorder, single episode, unspecified                               </td><td>27</td><td>22.50</td></tr>\n",
       "\t<tr><th scope=row>7</th><td>Atherosclerotic heart disease of native coronary artery without angina pectoris      </td><td>26</td><td>21.67</td></tr>\n",
       "\t<tr><th scope=row>8</th><td>Dehydration                                                                          </td><td>25</td><td>20.83</td></tr>\n",
       "\t<tr><th scope=row>9</th><td>Personal history of nicotine dependence                                              </td><td>25</td><td>20.83</td></tr>\n",
       "\t<tr><th scope=row>10</th><td>Gastro-esophageal reflux disease without esophagitis                                 </td><td>20</td><td>16.67</td></tr>\n",
       "\t<tr><th scope=row>11</th><td>Type 1 diabetes mellitus with ketoacidosis without coma                              </td><td>20</td><td>16.67</td></tr>\n",
       "\t<tr><th scope=row>12</th><td>Weakness                                                                             </td><td>20</td><td>16.67</td></tr>\n",
       "\t<tr><th scope=row>13</th><td>Acidosis                                                                             </td><td>19</td><td>15.83</td></tr>\n",
       "\t<tr><th scope=row>14</th><td>Acute kidney failure, unspecified                                                    </td><td>19</td><td>15.83</td></tr>\n",
       "\t<tr><th scope=row>15</th><td>Family history of diabetes mellitus                                                  </td><td>19</td><td>15.83</td></tr>\n",
       "\t<tr><th scope=row>16</th><td>Hypothyroidism, unspecified                                                          </td><td>19</td><td>15.83</td></tr>\n",
       "\t<tr><th scope=row>17</th><td>Diabetic ketoacidosis without coma associated with type 1 diabetes mellitus (CMS-HCC)</td><td>18</td><td>15.00</td></tr>\n",
       "\t<tr><th scope=row>18</th><td>Family history of ischemic heart disease and other diseases of the circulatory system</td><td>18</td><td>15.00</td></tr>\n",
       "\t<tr><th scope=row>19</th><td>Long term (current) use of anticoagulants                                            </td><td>18</td><td>15.00</td></tr>\n",
       "\t<tr><th scope=row>20</th><td>Hypo-osmolality and hyponatremia                                                     </td><td>17</td><td>14.17</td></tr>\n",
       "</tbody>\n",
       "</table>\n"
      ],
      "text/latex": [
       "A data.frame: 20 × 3\n",
       "\\begin{tabular}{r|lll}\n",
       "  & dx\\_name & n & perc\\\\\n",
       "  & <chr> & <int> & <dbl>\\\\\n",
       "\\hline\n",
       "\t1 & Other long term (current) drug therapy                                                & 50 & 41.67\\\\\n",
       "\t2 & Hyperlipidemia, unspecified                                                           & 49 & 40.83\\\\\n",
       "\t3 & Long term (current) use of insulin                                                    & 42 & 35.00\\\\\n",
       "\t4 & Essential (primary) hypertension                                                      & 40 & 33.33\\\\\n",
       "\t5 & Long term (current) use of aspirin                                                    & 32 & 26.67\\\\\n",
       "\t6 & Major depressive disorder, single episode, unspecified                                & 27 & 22.50\\\\\n",
       "\t7 & Atherosclerotic heart disease of native coronary artery without angina pectoris       & 26 & 21.67\\\\\n",
       "\t8 & Dehydration                                                                           & 25 & 20.83\\\\\n",
       "\t9 & Personal history of nicotine dependence                                               & 25 & 20.83\\\\\n",
       "\t10 & Gastro-esophageal reflux disease without esophagitis                                  & 20 & 16.67\\\\\n",
       "\t11 & Type 1 diabetes mellitus with ketoacidosis without coma                               & 20 & 16.67\\\\\n",
       "\t12 & Weakness                                                                              & 20 & 16.67\\\\\n",
       "\t13 & Acidosis                                                                              & 19 & 15.83\\\\\n",
       "\t14 & Acute kidney failure, unspecified                                                     & 19 & 15.83\\\\\n",
       "\t15 & Family history of diabetes mellitus                                                   & 19 & 15.83\\\\\n",
       "\t16 & Hypothyroidism, unspecified                                                           & 19 & 15.83\\\\\n",
       "\t17 & Diabetic ketoacidosis without coma associated with type 1 diabetes mellitus (CMS-HCC) & 18 & 15.00\\\\\n",
       "\t18 & Family history of ischemic heart disease and other diseases of the circulatory system & 18 & 15.00\\\\\n",
       "\t19 & Long term (current) use of anticoagulants                                             & 18 & 15.00\\\\\n",
       "\t20 & Hypo-osmolality and hyponatremia                                                      & 17 & 14.17\\\\\n",
       "\\end{tabular}\n"
      ],
      "text/markdown": [
       "\n",
       "A data.frame: 20 × 3\n",
       "\n",
       "| <!--/--> | dx_name &lt;chr&gt; | n &lt;int&gt; | perc &lt;dbl&gt; |\n",
       "|---|---|---|---|\n",
       "| 1 | Other long term (current) drug therapy                                                | 50 | 41.67 |\n",
       "| 2 | Hyperlipidemia, unspecified                                                           | 49 | 40.83 |\n",
       "| 3 | Long term (current) use of insulin                                                    | 42 | 35.00 |\n",
       "| 4 | Essential (primary) hypertension                                                      | 40 | 33.33 |\n",
       "| 5 | Long term (current) use of aspirin                                                    | 32 | 26.67 |\n",
       "| 6 | Major depressive disorder, single episode, unspecified                                | 27 | 22.50 |\n",
       "| 7 | Atherosclerotic heart disease of native coronary artery without angina pectoris       | 26 | 21.67 |\n",
       "| 8 | Dehydration                                                                           | 25 | 20.83 |\n",
       "| 9 | Personal history of nicotine dependence                                               | 25 | 20.83 |\n",
       "| 10 | Gastro-esophageal reflux disease without esophagitis                                  | 20 | 16.67 |\n",
       "| 11 | Type 1 diabetes mellitus with ketoacidosis without coma                               | 20 | 16.67 |\n",
       "| 12 | Weakness                                                                              | 20 | 16.67 |\n",
       "| 13 | Acidosis                                                                              | 19 | 15.83 |\n",
       "| 14 | Acute kidney failure, unspecified                                                     | 19 | 15.83 |\n",
       "| 15 | Family history of diabetes mellitus                                                   | 19 | 15.83 |\n",
       "| 16 | Hypothyroidism, unspecified                                                           | 19 | 15.83 |\n",
       "| 17 | Diabetic ketoacidosis without coma associated with type 1 diabetes mellitus (CMS-HCC) | 18 | 15.00 |\n",
       "| 18 | Family history of ischemic heart disease and other diseases of the circulatory system | 18 | 15.00 |\n",
       "| 19 | Long term (current) use of anticoagulants                                             | 18 | 15.00 |\n",
       "| 20 | Hypo-osmolality and hyponatremia                                                      | 17 | 14.17 |\n",
       "\n"
      ],
      "text/plain": [
       "   dx_name                                                                              \n",
       "1  Other long term (current) drug therapy                                               \n",
       "2  Hyperlipidemia, unspecified                                                          \n",
       "3  Long term (current) use of insulin                                                   \n",
       "4  Essential (primary) hypertension                                                     \n",
       "5  Long term (current) use of aspirin                                                   \n",
       "6  Major depressive disorder, single episode, unspecified                               \n",
       "7  Atherosclerotic heart disease of native coronary artery without angina pectoris      \n",
       "8  Dehydration                                                                          \n",
       "9  Personal history of nicotine dependence                                              \n",
       "10 Gastro-esophageal reflux disease without esophagitis                                 \n",
       "11 Type 1 diabetes mellitus with ketoacidosis without coma                              \n",
       "12 Weakness                                                                             \n",
       "13 Acidosis                                                                             \n",
       "14 Acute kidney failure, unspecified                                                    \n",
       "15 Family history of diabetes mellitus                                                  \n",
       "16 Hypothyroidism, unspecified                                                          \n",
       "17 Diabetic ketoacidosis without coma associated with type 1 diabetes mellitus (CMS-HCC)\n",
       "18 Family history of ischemic heart disease and other diseases of the circulatory system\n",
       "19 Long term (current) use of anticoagulants                                            \n",
       "20 Hypo-osmolality and hyponatremia                                                     \n",
       "   n  perc \n",
       "1  50 41.67\n",
       "2  49 40.83\n",
       "3  42 35.00\n",
       "4  40 33.33\n",
       "5  32 26.67\n",
       "6  27 22.50\n",
       "7  26 21.67\n",
       "8  25 20.83\n",
       "9  25 20.83\n",
       "10 20 16.67\n",
       "11 20 16.67\n",
       "12 20 16.67\n",
       "13 19 15.83\n",
       "14 19 15.83\n",
       "15 19 15.83\n",
       "16 19 15.83\n",
       "17 18 15.00\n",
       "18 18 15.00\n",
       "19 18 15.00\n",
       "20 17 14.17"
      ]
     },
     "metadata": {},
     "output_type": "display_data"
    }
   ],
   "source": [
    "coh_dx %>% distinct(pat_enc_csn_id_coded, dx_name) %>% count(dx_name) %>% \n",
    "    mutate(perc = round(100*n/120, 2)) %>% arrange(-n) %>% head(20)"
   ]
  },
  {
   "cell_type": "code",
   "execution_count": 20,
   "metadata": {},
   "outputs": [
    {
     "data": {
      "text/html": [
       "<table>\n",
       "<caption>A data.frame: 20 × 3</caption>\n",
       "<thead>\n",
       "\t<tr><th></th><th scope=col>dx_name</th><th scope=col>n</th><th scope=col>perc</th></tr>\n",
       "\t<tr><th></th><th scope=col>&lt;chr&gt;</th><th scope=col>&lt;int&gt;</th><th scope=col>&lt;dbl&gt;</th></tr>\n",
       "</thead>\n",
       "<tbody>\n",
       "\t<tr><th scope=row>1</th><td>Diabetic ketoacidosis without coma associated with type 1 diabetes mellitus (CMS-HCC)                      </td><td>7</td><td>5.83</td></tr>\n",
       "\t<tr><th scope=row>2</th><td>Diabetic ketoacidosis without coma associated with other specified diabetes mellitus (CMS-HCC)             </td><td>6</td><td>5.00</td></tr>\n",
       "\t<tr><th scope=row>3</th><td>Diabetic ketoacidosis without coma associated with diabetes mellitus due to underlying condition (CMS-HCC) </td><td>5</td><td>4.17</td></tr>\n",
       "\t<tr><th scope=row>4</th><td>Diabetic ketoacidosis without coma associated with type 2 diabetes mellitus (CMS-HCC)                      </td><td>5</td><td>4.17</td></tr>\n",
       "\t<tr><th scope=row>5</th><td>ST elevation myocardial infarction (STEMI), unspecified artery (CMS-HCC)                                   </td><td>3</td><td>2.50</td></tr>\n",
       "\t<tr><th scope=row>6</th><td>Diabetic ketoacidosis with coma associated with type 1 diabetes mellitus (CMS-HCC)                         </td><td>2</td><td>1.67</td></tr>\n",
       "\t<tr><th scope=row>7</th><td>Hyperglycemic hyperosmolar nonketotic coma (CMS-HCC)                                                       </td><td>2</td><td>1.67</td></tr>\n",
       "\t<tr><th scope=row>8</th><td>Hypertensive emergency                                                                                     </td><td>2</td><td>1.67</td></tr>\n",
       "\t<tr><th scope=row>9</th><td>Intracranial hemorrhage (CMS-HCC)                                                                          </td><td>2</td><td>1.67</td></tr>\n",
       "\t<tr><th scope=row>10</th><td>Subarachnoid hemorrhage (CMS-HCC)                                                                          </td><td>2</td><td>1.67</td></tr>\n",
       "\t<tr><th scope=row>11</th><td>Subdural hematoma (CMS-HCC)                                                                                </td><td>2</td><td>1.67</td></tr>\n",
       "\t<tr><th scope=row>12</th><td>Acute CVA (cerebrovascular accident) (CMS-HCC)                                                             </td><td>1</td><td>0.83</td></tr>\n",
       "\t<tr><th scope=row>13</th><td>Acute respiratory failure with hypercapnia (CMS-HCC)                                                       </td><td>1</td><td>0.83</td></tr>\n",
       "\t<tr><th scope=row>14</th><td>Acute respiratory failure with hypoxia (CMS-HCC)                                                           </td><td>1</td><td>0.83</td></tr>\n",
       "\t<tr><th scope=row>15</th><td>Acute respiratory failure with hypoxia and hypercapnia (CMS-HCC)                                           </td><td>1</td><td>0.83</td></tr>\n",
       "\t<tr><th scope=row>16</th><td>Acute respiratory failure with hypoxia and hypercarbia (CMS-HCC)                                           </td><td>1</td><td>0.83</td></tr>\n",
       "\t<tr><th scope=row>17</th><td>Acute ST elevation myocardial infarction (STEMI) involving other coronary artery of inferior wall (CMS-HCC)</td><td>1</td><td>0.83</td></tr>\n",
       "\t<tr><th scope=row>18</th><td>Acute upper respiratory infection                                                                          </td><td>1</td><td>0.83</td></tr>\n",
       "\t<tr><th scope=row>19</th><td>Adrenal crisis syndrome (CMS-HCC)                                                                          </td><td>1</td><td>0.83</td></tr>\n",
       "\t<tr><th scope=row>20</th><td>Alcohol withdrawal syndrome without complication (CMS-HCC)                                                 </td><td>1</td><td>0.83</td></tr>\n",
       "</tbody>\n",
       "</table>\n"
      ],
      "text/latex": [
       "A data.frame: 20 × 3\n",
       "\\begin{tabular}{r|lll}\n",
       "  & dx\\_name & n & perc\\\\\n",
       "  & <chr> & <int> & <dbl>\\\\\n",
       "\\hline\n",
       "\t1 & Diabetic ketoacidosis without coma associated with type 1 diabetes mellitus (CMS-HCC)                       & 7 & 5.83\\\\\n",
       "\t2 & Diabetic ketoacidosis without coma associated with other specified diabetes mellitus (CMS-HCC)              & 6 & 5.00\\\\\n",
       "\t3 & Diabetic ketoacidosis without coma associated with diabetes mellitus due to underlying condition (CMS-HCC)  & 5 & 4.17\\\\\n",
       "\t4 & Diabetic ketoacidosis without coma associated with type 2 diabetes mellitus (CMS-HCC)                       & 5 & 4.17\\\\\n",
       "\t5 & ST elevation myocardial infarction (STEMI), unspecified artery (CMS-HCC)                                    & 3 & 2.50\\\\\n",
       "\t6 & Diabetic ketoacidosis with coma associated with type 1 diabetes mellitus (CMS-HCC)                          & 2 & 1.67\\\\\n",
       "\t7 & Hyperglycemic hyperosmolar nonketotic coma (CMS-HCC)                                                        & 2 & 1.67\\\\\n",
       "\t8 & Hypertensive emergency                                                                                      & 2 & 1.67\\\\\n",
       "\t9 & Intracranial hemorrhage (CMS-HCC)                                                                           & 2 & 1.67\\\\\n",
       "\t10 & Subarachnoid hemorrhage (CMS-HCC)                                                                           & 2 & 1.67\\\\\n",
       "\t11 & Subdural hematoma (CMS-HCC)                                                                                 & 2 & 1.67\\\\\n",
       "\t12 & Acute CVA (cerebrovascular accident) (CMS-HCC)                                                              & 1 & 0.83\\\\\n",
       "\t13 & Acute respiratory failure with hypercapnia (CMS-HCC)                                                        & 1 & 0.83\\\\\n",
       "\t14 & Acute respiratory failure with hypoxia (CMS-HCC)                                                            & 1 & 0.83\\\\\n",
       "\t15 & Acute respiratory failure with hypoxia and hypercapnia (CMS-HCC)                                            & 1 & 0.83\\\\\n",
       "\t16 & Acute respiratory failure with hypoxia and hypercarbia (CMS-HCC)                                            & 1 & 0.83\\\\\n",
       "\t17 & Acute ST elevation myocardial infarction (STEMI) involving other coronary artery of inferior wall (CMS-HCC) & 1 & 0.83\\\\\n",
       "\t18 & Acute upper respiratory infection                                                                           & 1 & 0.83\\\\\n",
       "\t19 & Adrenal crisis syndrome (CMS-HCC)                                                                           & 1 & 0.83\\\\\n",
       "\t20 & Alcohol withdrawal syndrome without complication (CMS-HCC)                                                  & 1 & 0.83\\\\\n",
       "\\end{tabular}\n"
      ],
      "text/markdown": [
       "\n",
       "A data.frame: 20 × 3\n",
       "\n",
       "| <!--/--> | dx_name &lt;chr&gt; | n &lt;int&gt; | perc &lt;dbl&gt; |\n",
       "|---|---|---|---|\n",
       "| 1 | Diabetic ketoacidosis without coma associated with type 1 diabetes mellitus (CMS-HCC)                       | 7 | 5.83 |\n",
       "| 2 | Diabetic ketoacidosis without coma associated with other specified diabetes mellitus (CMS-HCC)              | 6 | 5.00 |\n",
       "| 3 | Diabetic ketoacidosis without coma associated with diabetes mellitus due to underlying condition (CMS-HCC)  | 5 | 4.17 |\n",
       "| 4 | Diabetic ketoacidosis without coma associated with type 2 diabetes mellitus (CMS-HCC)                       | 5 | 4.17 |\n",
       "| 5 | ST elevation myocardial infarction (STEMI), unspecified artery (CMS-HCC)                                    | 3 | 2.50 |\n",
       "| 6 | Diabetic ketoacidosis with coma associated with type 1 diabetes mellitus (CMS-HCC)                          | 2 | 1.67 |\n",
       "| 7 | Hyperglycemic hyperosmolar nonketotic coma (CMS-HCC)                                                        | 2 | 1.67 |\n",
       "| 8 | Hypertensive emergency                                                                                      | 2 | 1.67 |\n",
       "| 9 | Intracranial hemorrhage (CMS-HCC)                                                                           | 2 | 1.67 |\n",
       "| 10 | Subarachnoid hemorrhage (CMS-HCC)                                                                           | 2 | 1.67 |\n",
       "| 11 | Subdural hematoma (CMS-HCC)                                                                                 | 2 | 1.67 |\n",
       "| 12 | Acute CVA (cerebrovascular accident) (CMS-HCC)                                                              | 1 | 0.83 |\n",
       "| 13 | Acute respiratory failure with hypercapnia (CMS-HCC)                                                        | 1 | 0.83 |\n",
       "| 14 | Acute respiratory failure with hypoxia (CMS-HCC)                                                            | 1 | 0.83 |\n",
       "| 15 | Acute respiratory failure with hypoxia and hypercapnia (CMS-HCC)                                            | 1 | 0.83 |\n",
       "| 16 | Acute respiratory failure with hypoxia and hypercarbia (CMS-HCC)                                            | 1 | 0.83 |\n",
       "| 17 | Acute ST elevation myocardial infarction (STEMI) involving other coronary artery of inferior wall (CMS-HCC) | 1 | 0.83 |\n",
       "| 18 | Acute upper respiratory infection                                                                           | 1 | 0.83 |\n",
       "| 19 | Adrenal crisis syndrome (CMS-HCC)                                                                           | 1 | 0.83 |\n",
       "| 20 | Alcohol withdrawal syndrome without complication (CMS-HCC)                                                  | 1 | 0.83 |\n",
       "\n"
      ],
      "text/plain": [
       "   dx_name                                                                                                    \n",
       "1  Diabetic ketoacidosis without coma associated with type 1 diabetes mellitus (CMS-HCC)                      \n",
       "2  Diabetic ketoacidosis without coma associated with other specified diabetes mellitus (CMS-HCC)             \n",
       "3  Diabetic ketoacidosis without coma associated with diabetes mellitus due to underlying condition (CMS-HCC) \n",
       "4  Diabetic ketoacidosis without coma associated with type 2 diabetes mellitus (CMS-HCC)                      \n",
       "5  ST elevation myocardial infarction (STEMI), unspecified artery (CMS-HCC)                                   \n",
       "6  Diabetic ketoacidosis with coma associated with type 1 diabetes mellitus (CMS-HCC)                         \n",
       "7  Hyperglycemic hyperosmolar nonketotic coma (CMS-HCC)                                                       \n",
       "8  Hypertensive emergency                                                                                     \n",
       "9  Intracranial hemorrhage (CMS-HCC)                                                                          \n",
       "10 Subarachnoid hemorrhage (CMS-HCC)                                                                          \n",
       "11 Subdural hematoma (CMS-HCC)                                                                                \n",
       "12 Acute CVA (cerebrovascular accident) (CMS-HCC)                                                             \n",
       "13 Acute respiratory failure with hypercapnia (CMS-HCC)                                                       \n",
       "14 Acute respiratory failure with hypoxia (CMS-HCC)                                                           \n",
       "15 Acute respiratory failure with hypoxia and hypercapnia (CMS-HCC)                                           \n",
       "16 Acute respiratory failure with hypoxia and hypercarbia (CMS-HCC)                                           \n",
       "17 Acute ST elevation myocardial infarction (STEMI) involving other coronary artery of inferior wall (CMS-HCC)\n",
       "18 Acute upper respiratory infection                                                                          \n",
       "19 Adrenal crisis syndrome (CMS-HCC)                                                                          \n",
       "20 Alcohol withdrawal syndrome without complication (CMS-HCC)                                                 \n",
       "   n perc\n",
       "1  7 5.83\n",
       "2  6 5.00\n",
       "3  5 4.17\n",
       "4  5 4.17\n",
       "5  3 2.50\n",
       "6  2 1.67\n",
       "7  2 1.67\n",
       "8  2 1.67\n",
       "9  2 1.67\n",
       "10 2 1.67\n",
       "11 2 1.67\n",
       "12 1 0.83\n",
       "13 1 0.83\n",
       "14 1 0.83\n",
       "15 1 0.83\n",
       "16 1 0.83\n",
       "17 1 0.83\n",
       "18 1 0.83\n",
       "19 1 0.83\n",
       "20 1 0.83"
      ]
     },
     "metadata": {},
     "output_type": "display_data"
    }
   ],
   "source": [
    "coh_dx %>% filter(ed==\"Y\", primary==\"Y\") %>% distinct(pat_enc_csn_id_coded, dx_name) %>% count(dx_name) %>% \n",
    "    mutate(perc = round(100*n/120, 2)) %>% arrange(-n) %>% head(20)"
   ]
  },
  {
   "cell_type": "code",
   "execution_count": 22,
   "metadata": {},
   "outputs": [
    {
     "data": {
      "text/html": [
       "<table>\n",
       "<caption>A data.frame: 20 × 2</caption>\n",
       "<thead>\n",
       "\t<tr><th></th><th scope=col>dx_name</th><th scope=col>n</th></tr>\n",
       "\t<tr><th></th><th scope=col>&lt;chr&gt;</th><th scope=col>&lt;int&gt;</th></tr>\n",
       "</thead>\n",
       "<tbody>\n",
       "\t<tr><th scope=row>1</th><td>Diabetic ketoacidosis without coma associated with diabetes mellitus due to underlying condition (CMS-HCC)</td><td>1566</td></tr>\n",
       "\t<tr><th scope=row>2</th><td>Diabetic ketoacidosis without coma associated with type 1 diabetes mellitus (CMS-HCC)                     </td><td>1165</td></tr>\n",
       "\t<tr><th scope=row>3</th><td>Diabetic ketoacidosis without coma associated with other specified diabetes mellitus (CMS-HCC)            </td><td>1129</td></tr>\n",
       "\t<tr><th scope=row>4</th><td>Hypertensive emergency                                                                                    </td><td> 916</td></tr>\n",
       "\t<tr><th scope=row>5</th><td>Chest pain, unspecified type                                                                              </td><td> 717</td></tr>\n",
       "\t<tr><th scope=row>6</th><td>Diabetic ketoacidosis without coma associated with type 2 diabetes mellitus (CMS-HCC)                     </td><td> 713</td></tr>\n",
       "\t<tr><th scope=row>7</th><td>Flash pulmonary edema (CMS-HCC)                                                                           </td><td> 674</td></tr>\n",
       "\t<tr><th scope=row>8</th><td>Acute respiratory failure with hypoxia and hypercarbia (CMS-HCC)                                          </td><td> 666</td></tr>\n",
       "\t<tr><th scope=row>9</th><td>Hypertension, unspecified type                                                                            </td><td> 602</td></tr>\n",
       "\t<tr><th scope=row>10</th><td>Subarachnoid hemorrhage (CMS-HCC)                                                                         </td><td> 478</td></tr>\n",
       "\t<tr><th scope=row>11</th><td>Acute upper respiratory infection                                                                         </td><td> 475</td></tr>\n",
       "\t<tr><th scope=row>12</th><td>ST elevation myocardial infarction (STEMI), unspecified artery (CMS-HCC)                                  </td><td> 446</td></tr>\n",
       "\t<tr><th scope=row>13</th><td>Bradycardia                                                                                               </td><td> 440</td></tr>\n",
       "\t<tr><th scope=row>14</th><td>Encephalopathy acute                                                                                      </td><td> 424</td></tr>\n",
       "\t<tr><th scope=row>15</th><td>Traumatic subdural hemorrhage with loss of consciousness, initial encounter (CMS-HCC)                     </td><td> 406</td></tr>\n",
       "\t<tr><th scope=row>16</th><td>Type 1 diabetes mellitus with ketoacidosis without coma (CMS-HCC)                                         </td><td> 377</td></tr>\n",
       "\t<tr><th scope=row>17</th><td>Septic shock (CMS-HCC)                                                                                    </td><td> 370</td></tr>\n",
       "\t<tr><th scope=row>18</th><td>Subdural hematoma (CMS-HCC)                                                                               </td><td> 347</td></tr>\n",
       "\t<tr><th scope=row>19</th><td>COPD with acute exacerbation (CMS-HCC)                                                                    </td><td> 341</td></tr>\n",
       "\t<tr><th scope=row>20</th><td>Intracranial hemorrhage (CMS-HCC)                                                                         </td><td> 339</td></tr>\n",
       "</tbody>\n",
       "</table>\n"
      ],
      "text/latex": [
       "A data.frame: 20 × 2\n",
       "\\begin{tabular}{r|ll}\n",
       "  & dx\\_name & n\\\\\n",
       "  & <chr> & <int>\\\\\n",
       "\\hline\n",
       "\t1 & Diabetic ketoacidosis without coma associated with diabetes mellitus due to underlying condition (CMS-HCC) & 1566\\\\\n",
       "\t2 & Diabetic ketoacidosis without coma associated with type 1 diabetes mellitus (CMS-HCC)                      & 1165\\\\\n",
       "\t3 & Diabetic ketoacidosis without coma associated with other specified diabetes mellitus (CMS-HCC)             & 1129\\\\\n",
       "\t4 & Hypertensive emergency                                                                                     &  916\\\\\n",
       "\t5 & Chest pain, unspecified type                                                                               &  717\\\\\n",
       "\t6 & Diabetic ketoacidosis without coma associated with type 2 diabetes mellitus (CMS-HCC)                      &  713\\\\\n",
       "\t7 & Flash pulmonary edema (CMS-HCC)                                                                            &  674\\\\\n",
       "\t8 & Acute respiratory failure with hypoxia and hypercarbia (CMS-HCC)                                           &  666\\\\\n",
       "\t9 & Hypertension, unspecified type                                                                             &  602\\\\\n",
       "\t10 & Subarachnoid hemorrhage (CMS-HCC)                                                                          &  478\\\\\n",
       "\t11 & Acute upper respiratory infection                                                                          &  475\\\\\n",
       "\t12 & ST elevation myocardial infarction (STEMI), unspecified artery (CMS-HCC)                                   &  446\\\\\n",
       "\t13 & Bradycardia                                                                                                &  440\\\\\n",
       "\t14 & Encephalopathy acute                                                                                       &  424\\\\\n",
       "\t15 & Traumatic subdural hemorrhage with loss of consciousness, initial encounter (CMS-HCC)                      &  406\\\\\n",
       "\t16 & Type 1 diabetes mellitus with ketoacidosis without coma (CMS-HCC)                                          &  377\\\\\n",
       "\t17 & Septic shock (CMS-HCC)                                                                                     &  370\\\\\n",
       "\t18 & Subdural hematoma (CMS-HCC)                                                                                &  347\\\\\n",
       "\t19 & COPD with acute exacerbation (CMS-HCC)                                                                     &  341\\\\\n",
       "\t20 & Intracranial hemorrhage (CMS-HCC)                                                                          &  339\\\\\n",
       "\\end{tabular}\n"
      ],
      "text/markdown": [
       "\n",
       "A data.frame: 20 × 2\n",
       "\n",
       "| <!--/--> | dx_name &lt;chr&gt; | n &lt;int&gt; |\n",
       "|---|---|---|\n",
       "| 1 | Diabetic ketoacidosis without coma associated with diabetes mellitus due to underlying condition (CMS-HCC) | 1566 |\n",
       "| 2 | Diabetic ketoacidosis without coma associated with type 1 diabetes mellitus (CMS-HCC)                      | 1165 |\n",
       "| 3 | Diabetic ketoacidosis without coma associated with other specified diabetes mellitus (CMS-HCC)             | 1129 |\n",
       "| 4 | Hypertensive emergency                                                                                     |  916 |\n",
       "| 5 | Chest pain, unspecified type                                                                               |  717 |\n",
       "| 6 | Diabetic ketoacidosis without coma associated with type 2 diabetes mellitus (CMS-HCC)                      |  713 |\n",
       "| 7 | Flash pulmonary edema (CMS-HCC)                                                                            |  674 |\n",
       "| 8 | Acute respiratory failure with hypoxia and hypercarbia (CMS-HCC)                                           |  666 |\n",
       "| 9 | Hypertension, unspecified type                                                                             |  602 |\n",
       "| 10 | Subarachnoid hemorrhage (CMS-HCC)                                                                          |  478 |\n",
       "| 11 | Acute upper respiratory infection                                                                          |  475 |\n",
       "| 12 | ST elevation myocardial infarction (STEMI), unspecified artery (CMS-HCC)                                   |  446 |\n",
       "| 13 | Bradycardia                                                                                                |  440 |\n",
       "| 14 | Encephalopathy acute                                                                                       |  424 |\n",
       "| 15 | Traumatic subdural hemorrhage with loss of consciousness, initial encounter (CMS-HCC)                      |  406 |\n",
       "| 16 | Type 1 diabetes mellitus with ketoacidosis without coma (CMS-HCC)                                          |  377 |\n",
       "| 17 | Septic shock (CMS-HCC)                                                                                     |  370 |\n",
       "| 18 | Subdural hematoma (CMS-HCC)                                                                                |  347 |\n",
       "| 19 | COPD with acute exacerbation (CMS-HCC)                                                                     |  341 |\n",
       "| 20 | Intracranial hemorrhage (CMS-HCC)                                                                          |  339 |\n",
       "\n"
      ],
      "text/plain": [
       "   dx_name                                                                                                   \n",
       "1  Diabetic ketoacidosis without coma associated with diabetes mellitus due to underlying condition (CMS-HCC)\n",
       "2  Diabetic ketoacidosis without coma associated with type 1 diabetes mellitus (CMS-HCC)                     \n",
       "3  Diabetic ketoacidosis without coma associated with other specified diabetes mellitus (CMS-HCC)            \n",
       "4  Hypertensive emergency                                                                                    \n",
       "5  Chest pain, unspecified type                                                                              \n",
       "6  Diabetic ketoacidosis without coma associated with type 2 diabetes mellitus (CMS-HCC)                     \n",
       "7  Flash pulmonary edema (CMS-HCC)                                                                           \n",
       "8  Acute respiratory failure with hypoxia and hypercarbia (CMS-HCC)                                          \n",
       "9  Hypertension, unspecified type                                                                            \n",
       "10 Subarachnoid hemorrhage (CMS-HCC)                                                                         \n",
       "11 Acute upper respiratory infection                                                                         \n",
       "12 ST elevation myocardial infarction (STEMI), unspecified artery (CMS-HCC)                                  \n",
       "13 Bradycardia                                                                                               \n",
       "14 Encephalopathy acute                                                                                      \n",
       "15 Traumatic subdural hemorrhage with loss of consciousness, initial encounter (CMS-HCC)                     \n",
       "16 Type 1 diabetes mellitus with ketoacidosis without coma (CMS-HCC)                                         \n",
       "17 Septic shock (CMS-HCC)                                                                                    \n",
       "18 Subdural hematoma (CMS-HCC)                                                                               \n",
       "19 COPD with acute exacerbation (CMS-HCC)                                                                    \n",
       "20 Intracranial hemorrhage (CMS-HCC)                                                                         \n",
       "   n   \n",
       "1  1566\n",
       "2  1165\n",
       "3  1129\n",
       "4   916\n",
       "5   717\n",
       "6   713\n",
       "7   674\n",
       "8   666\n",
       "9   602\n",
       "10  478\n",
       "11  475\n",
       "12  446\n",
       "13  440\n",
       "14  424\n",
       "15  406\n",
       "16  377\n",
       "17  370\n",
       "18  347\n",
       "19  341\n",
       "20  339"
      ]
     },
     "metadata": {},
     "output_type": "display_data"
    }
   ],
   "source": [
    "coh_dx %>% filter(ed == \"Y\", primary==\"Y\") %>% count(dx_name, sort=TRUE) %>% head(20)"
   ]
  },
  {
   "cell_type": "markdown",
   "metadata": {},
   "source": [
    "### MERGE MRN"
   ]
  },
  {
   "cell_type": "code",
   "execution_count": 35,
   "metadata": {},
   "outputs": [
    {
     "data": {
      "text/html": [
       "105"
      ],
      "text/latex": [
       "105"
      ],
      "text/markdown": [
       "105"
      ],
      "text/plain": [
       "[1] 105"
      ]
     },
     "metadata": {},
     "output_type": "display_data"
    },
    {
     "data": {
      "text/html": [
       "105"
      ],
      "text/latex": [
       "105"
      ],
      "text/markdown": [
       "105"
      ],
      "text/plain": [
       "[1] 105"
      ]
     },
     "metadata": {},
     "output_type": "display_data"
    },
    {
     "name": "stderr",
     "output_type": "stream",
     "text": [
      "Joining, by = \"anon_id\"\n",
      "\n"
     ]
    },
    {
     "data": {
      "text/html": [
       "<table>\n",
       "<caption>A data.frame: 1 × 1</caption>\n",
       "<thead>\n",
       "\t<tr><th scope=col>count_mrn</th></tr>\n",
       "\t<tr><th scope=col>&lt;int&gt;</th></tr>\n",
       "</thead>\n",
       "<tbody>\n",
       "\t<tr><td>105</td></tr>\n",
       "</tbody>\n",
       "</table>\n"
      ],
      "text/latex": [
       "A data.frame: 1 × 1\n",
       "\\begin{tabular}{l}\n",
       " count\\_mrn\\\\\n",
       " <int>\\\\\n",
       "\\hline\n",
       "\t 105\\\\\n",
       "\\end{tabular}\n"
      ],
      "text/markdown": [
       "\n",
       "A data.frame: 1 × 1\n",
       "\n",
       "| count_mrn &lt;int&gt; |\n",
       "|---|\n",
       "| 105 |\n",
       "\n"
      ],
      "text/plain": [
       "  count_mrn\n",
       "1 105      "
      ]
     },
     "metadata": {},
     "output_type": "display_data"
    },
    {
     "data": {
      "text/html": [
       "117"
      ],
      "text/latex": [
       "117"
      ],
      "text/markdown": [
       "117"
      ],
      "text/plain": [
       "[1] 117"
      ]
     },
     "metadata": {},
     "output_type": "display_data"
    }
   ],
   "source": [
    "reids <- read.csv(file.path(datadir, \"top_reIDs.csv\"))\n",
    "\n",
    "diff4 <- cohort %>% filter(abs_diff0_24 >=0.4) %>% distinct(anon_id)\n",
    "nrow(diff4)\n",
    "sum(diff4$anon_id %in% reids$anon_id)\n",
    "\n",
    "reids <- left_join(reids, cohort) %>% filter(abs_diff0_24 >=0.4) %>% \n",
    "            distinct(mrn, anon_id, pat_enc_csn_id_coded, admit_time, jitter,\n",
    "                     first_label, death_24hr_recent_label, pred_first, pred_death_24hr_recent, abs_diff0_24) %>%\n",
    "            mutate(transfer = ifelse(first_label != death_24hr_recent_label, 1, 0)) %>%\n",
    "            arrange(-abs_diff0_24)\n",
    "\n",
    "reids %>% summarise(count_mrn = n_distinct(anon_id))\n",
    "nrow(reids) #117"
   ]
  },
  {
   "cell_type": "code",
   "execution_count": 36,
   "metadata": {},
   "outputs": [],
   "source": [
    "write.csv(reids, file.path(datadir, \"top105_reIDs_sorted.csv\"), row.names=FALSE)"
   ]
  },
  {
   "cell_type": "code",
   "execution_count": 41,
   "metadata": {},
   "outputs": [
    {
     "data": {
      "text/html": [
       "43980"
      ],
      "text/latex": [
       "43980"
      ],
      "text/markdown": [
       "43980"
      ],
      "text/plain": [
       "[1] 43980"
      ]
     },
     "metadata": {},
     "output_type": "display_data"
    }
   ],
   "source": [
    "traj <- read.csv(file.path(datadir, \"02_combined_ip_emerg_traj.csv\")) %>% select(-X)\n",
    "nrow(traj)"
   ]
  },
  {
   "cell_type": "code",
   "execution_count": 47,
   "metadata": {},
   "outputs": [
    {
     "data": {
      "text/html": [
       "<table>\n",
       "<caption>A data.frame: 1 × 10</caption>\n",
       "<thead>\n",
       "\t<tr><th></th><th scope=col>anon_id</th><th scope=col>pat_enc_csn_id_coded</th><th scope=col>first_ip_lv_of_care</th><th scope=col>first_ip_event_type</th><th scope=col>first_ip_pat_service</th><th scope=col>last_emerg_lv_of_care</th><th scope=col>last_emerg_event_type</th><th scope=col>last_emerg_pat_service</th><th scope=col>trajectory</th><th scope=col>trajectory_length</th></tr>\n",
       "\t<tr><th></th><th scope=col>&lt;chr&gt;</th><th scope=col>&lt;dbl&gt;</th><th scope=col>&lt;chr&gt;</th><th scope=col>&lt;chr&gt;</th><th scope=col>&lt;chr&gt;</th><th scope=col>&lt;chr&gt;</th><th scope=col>&lt;chr&gt;</th><th scope=col>&lt;chr&gt;</th><th scope=col>&lt;chr&gt;</th><th scope=col>&lt;int&gt;</th></tr>\n",
       "</thead>\n",
       "<tbody>\n",
       "\t<tr><th scope=row>1</th><td>JCe78a06</td><td>131062667066</td><td>Intermediate Care - With Cardiac Monitor</td><td>Transfer In</td><td>General Medicine (PAMF)</td><td></td><td>Transfer Out</td><td>Emergency</td><td>Intermediate Care - With Cardiac Monitor</td><td>1</td></tr>\n",
       "</tbody>\n",
       "</table>\n"
      ],
      "text/latex": [
       "A data.frame: 1 × 10\n",
       "\\begin{tabular}{r|llllllllll}\n",
       "  & anon\\_id & pat\\_enc\\_csn\\_id\\_coded & first\\_ip\\_lv\\_of\\_care & first\\_ip\\_event\\_type & first\\_ip\\_pat\\_service & last\\_emerg\\_lv\\_of\\_care & last\\_emerg\\_event\\_type & last\\_emerg\\_pat\\_service & trajectory & trajectory\\_length\\\\\n",
       "  & <chr> & <dbl> & <chr> & <chr> & <chr> & <chr> & <chr> & <chr> & <chr> & <int>\\\\\n",
       "\\hline\n",
       "\t1 & JCe78a06 & 131062667066 & Intermediate Care - With Cardiac Monitor & Transfer In & General Medicine (PAMF) &  & Transfer Out & Emergency & Intermediate Care - With Cardiac Monitor & 1\\\\\n",
       "\\end{tabular}\n"
      ],
      "text/markdown": [
       "\n",
       "A data.frame: 1 × 10\n",
       "\n",
       "| <!--/--> | anon_id &lt;chr&gt; | pat_enc_csn_id_coded &lt;dbl&gt; | first_ip_lv_of_care &lt;chr&gt; | first_ip_event_type &lt;chr&gt; | first_ip_pat_service &lt;chr&gt; | last_emerg_lv_of_care &lt;chr&gt; | last_emerg_event_type &lt;chr&gt; | last_emerg_pat_service &lt;chr&gt; | trajectory &lt;chr&gt; | trajectory_length &lt;int&gt; |\n",
       "|---|---|---|---|---|---|---|---|---|---|---|\n",
       "| 1 | JCe78a06 | 131062667066 | Intermediate Care - With Cardiac Monitor | Transfer In | General Medicine (PAMF) | <!----> | Transfer Out | Emergency | Intermediate Care - With Cardiac Monitor | 1 |\n",
       "\n"
      ],
      "text/plain": [
       "  anon_id  pat_enc_csn_id_coded first_ip_lv_of_care                     \n",
       "1 JCe78a06 131062667066         Intermediate Care - With Cardiac Monitor\n",
       "  first_ip_event_type first_ip_pat_service    last_emerg_lv_of_care\n",
       "1 Transfer In         General Medicine (PAMF)                      \n",
       "  last_emerg_event_type last_emerg_pat_service\n",
       "1 Transfer Out          Emergency             \n",
       "  trajectory                               trajectory_length\n",
       "1 Intermediate Care - With Cardiac Monitor 1                "
      ]
     },
     "metadata": {},
     "output_type": "display_data"
    }
   ],
   "source": [
    "head(traj,1)"
   ]
  },
  {
   "cell_type": "code",
   "execution_count": 37,
   "metadata": {},
   "outputs": [
    {
     "data": {
      "text/html": [
       "<table>\n",
       "<caption>A data.frame: 6 × 11</caption>\n",
       "<thead>\n",
       "\t<tr><th></th><th scope=col>mrn</th><th scope=col>anon_id</th><th scope=col>jitter</th><th scope=col>pat_enc_csn_id_coded</th><th scope=col>admit_time</th><th scope=col>first_label</th><th scope=col>death_24hr_recent_label</th><th scope=col>pred_first</th><th scope=col>pred_death_24hr_recent</th><th scope=col>abs_diff0_24</th><th scope=col>transfer</th></tr>\n",
       "\t<tr><th></th><th scope=col>&lt;int&gt;</th><th scope=col>&lt;chr&gt;</th><th scope=col>&lt;chr&gt;</th><th scope=col>&lt;dbl&gt;</th><th scope=col>&lt;chr&gt;</th><th scope=col>&lt;int&gt;</th><th scope=col>&lt;int&gt;</th><th scope=col>&lt;dbl&gt;</th><th scope=col>&lt;dbl&gt;</th><th scope=col>&lt;dbl&gt;</th><th scope=col>&lt;dbl&gt;</th></tr>\n",
       "</thead>\n",
       "<tbody>\n",
       "\t<tr><th scope=row>1</th><td>13638739</td><td>JCd91ab7 </td><td>9 days 00:00:00.000000000   </td><td>131271804263</td><td>2019-07-11 21:43:00</td><td>1</td><td>0</td><td>0.8406619</td><td>0.16503982</td><td>0.7</td><td>1</td></tr>\n",
       "\t<tr><th scope=row>2</th><td>60827953</td><td>JCe6286a </td><td>18 days 00:00:00.000000000  </td><td>131276655148</td><td>2019-10-19 02:44:00</td><td>1</td><td>0</td><td>0.7492048</td><td>0.08195348</td><td>0.7</td><td>1</td></tr>\n",
       "\t<tr><th scope=row>3</th><td>43204973</td><td>JCd1a421 </td><td>-3 days +00:00:00.000000000 </td><td>131265379414</td><td>2019-03-21 13:11:00</td><td>1</td><td>1</td><td>0.7969050</td><td>0.06790455</td><td>0.7</td><td>0</td></tr>\n",
       "\t<tr><th scope=row>4</th><td>76629740</td><td>JC29fe5a7</td><td>-17 days +00:00:00.000000000</td><td>131273666433</td><td>2019-07-17 11:48:00</td><td>1</td><td>1</td><td>0.7369563</td><td>0.10290046</td><td>0.6</td><td>0</td></tr>\n",
       "\t<tr><th scope=row>5</th><td>12964771</td><td>JCd3262e </td><td>-19 days +00:00:00.000000000</td><td>131275001383</td><td>2019-08-15 16:54:00</td><td>1</td><td>0</td><td>0.8597781</td><td>0.27967762</td><td>0.6</td><td>1</td></tr>\n",
       "\t<tr><th scope=row>6</th><td>76557537</td><td>JC2a31a2b</td><td>-19 days +00:00:00.000000000</td><td>131273021618</td><td>2019-07-01 07:21:00</td><td>1</td><td>0</td><td>0.8841977</td><td>0.29646083</td><td>0.6</td><td>1</td></tr>\n",
       "</tbody>\n",
       "</table>\n"
      ],
      "text/latex": [
       "A data.frame: 6 × 11\n",
       "\\begin{tabular}{r|lllllllllll}\n",
       "  & mrn & anon\\_id & jitter & pat\\_enc\\_csn\\_id\\_coded & admit\\_time & first\\_label & death\\_24hr\\_recent\\_label & pred\\_first & pred\\_death\\_24hr\\_recent & abs\\_diff0\\_24 & transfer\\\\\n",
       "  & <int> & <chr> & <chr> & <dbl> & <chr> & <int> & <int> & <dbl> & <dbl> & <dbl> & <dbl>\\\\\n",
       "\\hline\n",
       "\t1 & 13638739 & JCd91ab7  & 9 days 00:00:00.000000000    & 131271804263 & 2019-07-11 21:43:00 & 1 & 0 & 0.8406619 & 0.16503982 & 0.7 & 1\\\\\n",
       "\t2 & 60827953 & JCe6286a  & 18 days 00:00:00.000000000   & 131276655148 & 2019-10-19 02:44:00 & 1 & 0 & 0.7492048 & 0.08195348 & 0.7 & 1\\\\\n",
       "\t3 & 43204973 & JCd1a421  & -3 days +00:00:00.000000000  & 131265379414 & 2019-03-21 13:11:00 & 1 & 1 & 0.7969050 & 0.06790455 & 0.7 & 0\\\\\n",
       "\t4 & 76629740 & JC29fe5a7 & -17 days +00:00:00.000000000 & 131273666433 & 2019-07-17 11:48:00 & 1 & 1 & 0.7369563 & 0.10290046 & 0.6 & 0\\\\\n",
       "\t5 & 12964771 & JCd3262e  & -19 days +00:00:00.000000000 & 131275001383 & 2019-08-15 16:54:00 & 1 & 0 & 0.8597781 & 0.27967762 & 0.6 & 1\\\\\n",
       "\t6 & 76557537 & JC2a31a2b & -19 days +00:00:00.000000000 & 131273021618 & 2019-07-01 07:21:00 & 1 & 0 & 0.8841977 & 0.29646083 & 0.6 & 1\\\\\n",
       "\\end{tabular}\n"
      ],
      "text/markdown": [
       "\n",
       "A data.frame: 6 × 11\n",
       "\n",
       "| <!--/--> | mrn &lt;int&gt; | anon_id &lt;chr&gt; | jitter &lt;chr&gt; | pat_enc_csn_id_coded &lt;dbl&gt; | admit_time &lt;chr&gt; | first_label &lt;int&gt; | death_24hr_recent_label &lt;int&gt; | pred_first &lt;dbl&gt; | pred_death_24hr_recent &lt;dbl&gt; | abs_diff0_24 &lt;dbl&gt; | transfer &lt;dbl&gt; |\n",
       "|---|---|---|---|---|---|---|---|---|---|---|---|\n",
       "| 1 | 13638739 | JCd91ab7  | 9 days 00:00:00.000000000    | 131271804263 | 2019-07-11 21:43:00 | 1 | 0 | 0.8406619 | 0.16503982 | 0.7 | 1 |\n",
       "| 2 | 60827953 | JCe6286a  | 18 days 00:00:00.000000000   | 131276655148 | 2019-10-19 02:44:00 | 1 | 0 | 0.7492048 | 0.08195348 | 0.7 | 1 |\n",
       "| 3 | 43204973 | JCd1a421  | -3 days +00:00:00.000000000  | 131265379414 | 2019-03-21 13:11:00 | 1 | 1 | 0.7969050 | 0.06790455 | 0.7 | 0 |\n",
       "| 4 | 76629740 | JC29fe5a7 | -17 days +00:00:00.000000000 | 131273666433 | 2019-07-17 11:48:00 | 1 | 1 | 0.7369563 | 0.10290046 | 0.6 | 0 |\n",
       "| 5 | 12964771 | JCd3262e  | -19 days +00:00:00.000000000 | 131275001383 | 2019-08-15 16:54:00 | 1 | 0 | 0.8597781 | 0.27967762 | 0.6 | 1 |\n",
       "| 6 | 76557537 | JC2a31a2b | -19 days +00:00:00.000000000 | 131273021618 | 2019-07-01 07:21:00 | 1 | 0 | 0.8841977 | 0.29646083 | 0.6 | 1 |\n",
       "\n"
      ],
      "text/plain": [
       "  mrn      anon_id   jitter                       pat_enc_csn_id_coded\n",
       "1 13638739 JCd91ab7  9 days 00:00:00.000000000    131271804263        \n",
       "2 60827953 JCe6286a  18 days 00:00:00.000000000   131276655148        \n",
       "3 43204973 JCd1a421  -3 days +00:00:00.000000000  131265379414        \n",
       "4 76629740 JC29fe5a7 -17 days +00:00:00.000000000 131273666433        \n",
       "5 12964771 JCd3262e  -19 days +00:00:00.000000000 131275001383        \n",
       "6 76557537 JC2a31a2b -19 days +00:00:00.000000000 131273021618        \n",
       "  admit_time          first_label death_24hr_recent_label pred_first\n",
       "1 2019-07-11 21:43:00 1           0                       0.8406619 \n",
       "2 2019-10-19 02:44:00 1           0                       0.7492048 \n",
       "3 2019-03-21 13:11:00 1           1                       0.7969050 \n",
       "4 2019-07-17 11:48:00 1           1                       0.7369563 \n",
       "5 2019-08-15 16:54:00 1           0                       0.8597781 \n",
       "6 2019-07-01 07:21:00 1           0                       0.8841977 \n",
       "  pred_death_24hr_recent abs_diff0_24 transfer\n",
       "1 0.16503982             0.7          1       \n",
       "2 0.08195348             0.7          1       \n",
       "3 0.06790455             0.7          0       \n",
       "4 0.10290046             0.6          0       \n",
       "5 0.27967762             0.6          1       \n",
       "6 0.29646083             0.6          1       "
      ]
     },
     "metadata": {},
     "output_type": "display_data"
    }
   ],
   "source": [
    "head(reids)"
   ]
  },
  {
   "cell_type": "code",
   "execution_count": 45,
   "metadata": {},
   "outputs": [
    {
     "name": "stderr",
     "output_type": "stream",
     "text": [
      "Joining, by = c(\"anon_id\", \"pat_enc_csn_id_coded\")\n",
      "\n"
     ]
    },
    {
     "data": {
      "text/html": [
       "117"
      ],
      "text/latex": [
       "117"
      ],
      "text/markdown": [
       "117"
      ],
      "text/plain": [
       "[1] 117"
      ]
     },
     "metadata": {},
     "output_type": "display_data"
    }
   ],
   "source": [
    "comb_diff <- left_join(reids, traj)\n",
    "nrow(comb_diff)"
   ]
  },
  {
   "cell_type": "code",
   "execution_count": 49,
   "metadata": {},
   "outputs": [
    {
     "data": {
      "text/html": [
       "<table>\n",
       "<caption>A data.frame: 10 × 19</caption>\n",
       "<thead>\n",
       "\t<tr><th></th><th scope=col>mrn</th><th scope=col>anon_id</th><th scope=col>jitter</th><th scope=col>pat_enc_csn_id_coded</th><th scope=col>admit_time</th><th scope=col>first_label</th><th scope=col>death_24hr_recent_label</th><th scope=col>pred_first</th><th scope=col>pred_death_24hr_recent</th><th scope=col>abs_diff0_24</th><th scope=col>transfer</th><th scope=col>first_ip_lv_of_care</th><th scope=col>first_ip_event_type</th><th scope=col>first_ip_pat_service</th><th scope=col>last_emerg_lv_of_care</th><th scope=col>last_emerg_event_type</th><th scope=col>last_emerg_pat_service</th><th scope=col>trajectory</th><th scope=col>trajectory_length</th></tr>\n",
       "\t<tr><th></th><th scope=col>&lt;int&gt;</th><th scope=col>&lt;chr&gt;</th><th scope=col>&lt;chr&gt;</th><th scope=col>&lt;dbl&gt;</th><th scope=col>&lt;chr&gt;</th><th scope=col>&lt;int&gt;</th><th scope=col>&lt;int&gt;</th><th scope=col>&lt;dbl&gt;</th><th scope=col>&lt;dbl&gt;</th><th scope=col>&lt;dbl&gt;</th><th scope=col>&lt;dbl&gt;</th><th scope=col>&lt;chr&gt;</th><th scope=col>&lt;chr&gt;</th><th scope=col>&lt;chr&gt;</th><th scope=col>&lt;chr&gt;</th><th scope=col>&lt;chr&gt;</th><th scope=col>&lt;chr&gt;</th><th scope=col>&lt;chr&gt;</th><th scope=col>&lt;int&gt;</th></tr>\n",
       "</thead>\n",
       "<tbody>\n",
       "\t<tr><th scope=row>1</th><td>13638739</td><td>JCd91ab7 </td><td><span style=white-space:pre-wrap>9 days 00:00:00.000000000   </span></td><td>131271804263</td><td>2019-07-11 21:43:00</td><td>1</td><td>0</td><td>0.8406619</td><td>0.16503982</td><td>0.7</td><td>1</td><td><span style=white-space:pre-wrap>Critical Care                               </span></td><td>Patient Update</td><td>Emergency Critical Care</td><td></td><td><span style=white-space:pre-wrap>Transfer In   </span></td><td><span style=white-space:pre-wrap>Emergency         </span></td><td>Critical Care -&gt; IICU/Intermediate Care (Assessment or intervention q2-4)</td><td>2</td></tr>\n",
       "\t<tr><th scope=row>2</th><td>60827953</td><td>JCe6286a </td><td><span style=white-space:pre-wrap>18 days 00:00:00.000000000  </span></td><td>131276655148</td><td>2019-10-19 02:44:00</td><td>1</td><td>0</td><td>0.7492048</td><td>0.08195348</td><td>0.7</td><td>1</td><td><span style=white-space:pre-wrap>Critical Care                               </span></td><td>Patient Update</td><td>Emergency Critical Care</td><td></td><td><span style=white-space:pre-wrap>Transfer In   </span></td><td>Emergency Medicine</td><td>Critical Care -&gt; IICU/Intermediate Care (Assessment or intervention q2-4)</td><td>2</td></tr>\n",
       "\t<tr><th scope=row>3</th><td>43204973</td><td>JCd1a421 </td><td>-3 days +00:00:00.000000000 </td><td>131265379414</td><td>2019-03-21 13:11:00</td><td>1</td><td>1</td><td>0.7969050</td><td>0.06790455</td><td>0.7</td><td>0</td><td>Critical Care                               </td><td>Patient Update</td><td>Emergency              </td><td></td><td>Admission     </td><td>Emergency         </td><td>Critical Care                                                            </td><td>1</td></tr>\n",
       "\t<tr><th scope=row>4</th><td>76629740</td><td>JC29fe5a7</td><td>-17 days +00:00:00.000000000</td><td>131273666433</td><td>2019-07-17 11:48:00</td><td>1</td><td>1</td><td>0.7369563</td><td>0.10290046</td><td>0.6</td><td>0</td><td>Critical Care                               </td><td>Patient Update</td><td>Emergency Medicine     </td><td></td><td>Patient Update</td><td>Emergency Medicine</td><td>Critical Care                                                            </td><td>1</td></tr>\n",
       "\t<tr><th scope=row>5</th><td>12964771</td><td>JCd3262e </td><td>-19 days +00:00:00.000000000</td><td>131275001383</td><td>2019-08-15 16:54:00</td><td>1</td><td>0</td><td>0.8597781</td><td>0.27967762</td><td>0.6</td><td>1</td><td><span style=white-space:pre-wrap>Critical Care                               </span></td><td>Patient Update</td><td><span style=white-space:pre-wrap>Emergency Medicine     </span></td><td></td><td>Patient Update</td><td>Emergency Medicine</td><td><span style=white-space:pre-wrap>Critical Care -&gt; Acute Care (Assessment or intervention q4-8)            </span></td><td>2</td></tr>\n",
       "\t<tr><th scope=row>6</th><td>76557537</td><td>JC2a31a2b</td><td>-19 days +00:00:00.000000000</td><td>131273021618</td><td>2019-07-01 07:21:00</td><td>1</td><td>0</td><td>0.8841977</td><td>0.29646083</td><td>0.6</td><td>1</td><td><span style=white-space:pre-wrap>Critical Care                               </span></td><td>Patient Update</td><td><span style=white-space:pre-wrap>Neurocritical Care     </span></td><td></td><td><span style=white-space:pre-wrap>Census        </span></td><td><span style=white-space:pre-wrap>Emergency         </span></td><td><span style=white-space:pre-wrap>Critical Care -&gt; Acute Care (Assessment or intervention q4-8)            </span></td><td>2</td></tr>\n",
       "\t<tr><th scope=row>7</th><td>76912245</td><td>JC2a126ab</td><td>-16 days +00:00:00.000000000</td><td>131275893768</td><td>2019-09-04 05:58:00</td><td>0</td><td>0</td><td>0.8152507</td><td>0.25902901</td><td>0.6</td><td>0</td><td>Acute Care (Assessment or intervention q4-8)</td><td>Patient Update</td><td>Medicine               </td><td></td><td>Transfer In   </td><td>Emergency Medicine</td><td>Acute Care (Assessment or intervention q4-8)                             </td><td>1</td></tr>\n",
       "\t<tr><th scope=row>8</th><td>70249800</td><td>JCe0e0be </td><td><span style=white-space:pre-wrap>31 days 00:00:00.000000000  </span></td><td>131283367768</td><td>2020-03-15 15:18:00</td><td>1</td><td>0</td><td>0.7303019</td><td>0.17409155</td><td>0.6</td><td>1</td><td><span style=white-space:pre-wrap>Critical Care                               </span></td><td>Patient Update</td><td><span style=white-space:pre-wrap>Emergency              </span></td><td></td><td><span style=white-space:pre-wrap>Admission     </span></td><td><span style=white-space:pre-wrap>Emergency         </span></td><td><span style=white-space:pre-wrap>Critical Care -&gt; Acute Care (Assessment or intervention q4-8)            </span></td><td>2</td></tr>\n",
       "\t<tr><th scope=row>9</th><td>60269636</td><td>JCe09f7a </td><td>-22 days +00:00:00.000000000</td><td>131283156969</td><td>2020-01-19 11:56:00</td><td>1</td><td>0</td><td>0.8493499</td><td>0.26897129</td><td>0.6</td><td>1</td><td><span style=white-space:pre-wrap>Critical Care                               </span></td><td>Patient Update</td><td><span style=white-space:pre-wrap>Critical Care          </span></td><td></td><td><span style=white-space:pre-wrap>Transfer In   </span></td><td>Emergency Medicine</td><td>Critical Care -&gt; IICU/Intermediate Care (Assessment or intervention q2-4)</td><td>2</td></tr>\n",
       "\t<tr><th scope=row>10</th><td>27196021</td><td>JCceb298 </td><td>-10 days +00:00:00.000000000</td><td>131285560953</td><td>2020-03-06 04:21:00</td><td>1</td><td>0</td><td>0.7893417</td><td>0.21697571</td><td>0.6</td><td>1</td><td><span style=white-space:pre-wrap>Critical Care                               </span></td><td>Patient Update</td><td><span style=white-space:pre-wrap>Neurocritical Care     </span></td><td></td><td><span style=white-space:pre-wrap>Transfer In   </span></td><td>Emergency Medicine</td><td><span style=white-space:pre-wrap>Critical Care -&gt; Acute Care (Assessment or intervention q4-8)            </span></td><td>2</td></tr>\n",
       "</tbody>\n",
       "</table>\n"
      ],
      "text/latex": [
       "A data.frame: 10 × 19\n",
       "\\begin{tabular}{r|lllllllllllllllllll}\n",
       "  & mrn & anon\\_id & jitter & pat\\_enc\\_csn\\_id\\_coded & admit\\_time & first\\_label & death\\_24hr\\_recent\\_label & pred\\_first & pred\\_death\\_24hr\\_recent & abs\\_diff0\\_24 & transfer & first\\_ip\\_lv\\_of\\_care & first\\_ip\\_event\\_type & first\\_ip\\_pat\\_service & last\\_emerg\\_lv\\_of\\_care & last\\_emerg\\_event\\_type & last\\_emerg\\_pat\\_service & trajectory & trajectory\\_length\\\\\n",
       "  & <int> & <chr> & <chr> & <dbl> & <chr> & <int> & <int> & <dbl> & <dbl> & <dbl> & <dbl> & <chr> & <chr> & <chr> & <chr> & <chr> & <chr> & <chr> & <int>\\\\\n",
       "\\hline\n",
       "\t1 & 13638739 & JCd91ab7  & 9 days 00:00:00.000000000    & 131271804263 & 2019-07-11 21:43:00 & 1 & 0 & 0.8406619 & 0.16503982 & 0.7 & 1 & Critical Care                                & Patient Update & Emergency Critical Care &  & Transfer In    & Emergency          & Critical Care -> IICU/Intermediate Care (Assessment or intervention q2-4) & 2\\\\\n",
       "\t2 & 60827953 & JCe6286a  & 18 days 00:00:00.000000000   & 131276655148 & 2019-10-19 02:44:00 & 1 & 0 & 0.7492048 & 0.08195348 & 0.7 & 1 & Critical Care                                & Patient Update & Emergency Critical Care &  & Transfer In    & Emergency Medicine & Critical Care -> IICU/Intermediate Care (Assessment or intervention q2-4) & 2\\\\\n",
       "\t3 & 43204973 & JCd1a421  & -3 days +00:00:00.000000000  & 131265379414 & 2019-03-21 13:11:00 & 1 & 1 & 0.7969050 & 0.06790455 & 0.7 & 0 & Critical Care                                & Patient Update & Emergency               &  & Admission      & Emergency          & Critical Care                                                             & 1\\\\\n",
       "\t4 & 76629740 & JC29fe5a7 & -17 days +00:00:00.000000000 & 131273666433 & 2019-07-17 11:48:00 & 1 & 1 & 0.7369563 & 0.10290046 & 0.6 & 0 & Critical Care                                & Patient Update & Emergency Medicine      &  & Patient Update & Emergency Medicine & Critical Care                                                             & 1\\\\\n",
       "\t5 & 12964771 & JCd3262e  & -19 days +00:00:00.000000000 & 131275001383 & 2019-08-15 16:54:00 & 1 & 0 & 0.8597781 & 0.27967762 & 0.6 & 1 & Critical Care                                & Patient Update & Emergency Medicine      &  & Patient Update & Emergency Medicine & Critical Care -> Acute Care (Assessment or intervention q4-8)             & 2\\\\\n",
       "\t6 & 76557537 & JC2a31a2b & -19 days +00:00:00.000000000 & 131273021618 & 2019-07-01 07:21:00 & 1 & 0 & 0.8841977 & 0.29646083 & 0.6 & 1 & Critical Care                                & Patient Update & Neurocritical Care      &  & Census         & Emergency          & Critical Care -> Acute Care (Assessment or intervention q4-8)             & 2\\\\\n",
       "\t7 & 76912245 & JC2a126ab & -16 days +00:00:00.000000000 & 131275893768 & 2019-09-04 05:58:00 & 0 & 0 & 0.8152507 & 0.25902901 & 0.6 & 0 & Acute Care (Assessment or intervention q4-8) & Patient Update & Medicine                &  & Transfer In    & Emergency Medicine & Acute Care (Assessment or intervention q4-8)                              & 1\\\\\n",
       "\t8 & 70249800 & JCe0e0be  & 31 days 00:00:00.000000000   & 131283367768 & 2020-03-15 15:18:00 & 1 & 0 & 0.7303019 & 0.17409155 & 0.6 & 1 & Critical Care                                & Patient Update & Emergency               &  & Admission      & Emergency          & Critical Care -> Acute Care (Assessment or intervention q4-8)             & 2\\\\\n",
       "\t9 & 60269636 & JCe09f7a  & -22 days +00:00:00.000000000 & 131283156969 & 2020-01-19 11:56:00 & 1 & 0 & 0.8493499 & 0.26897129 & 0.6 & 1 & Critical Care                                & Patient Update & Critical Care           &  & Transfer In    & Emergency Medicine & Critical Care -> IICU/Intermediate Care (Assessment or intervention q2-4) & 2\\\\\n",
       "\t10 & 27196021 & JCceb298  & -10 days +00:00:00.000000000 & 131285560953 & 2020-03-06 04:21:00 & 1 & 0 & 0.7893417 & 0.21697571 & 0.6 & 1 & Critical Care                                & Patient Update & Neurocritical Care      &  & Transfer In    & Emergency Medicine & Critical Care -> Acute Care (Assessment or intervention q4-8)             & 2\\\\\n",
       "\\end{tabular}\n"
      ],
      "text/markdown": [
       "\n",
       "A data.frame: 10 × 19\n",
       "\n",
       "| <!--/--> | mrn &lt;int&gt; | anon_id &lt;chr&gt; | jitter &lt;chr&gt; | pat_enc_csn_id_coded &lt;dbl&gt; | admit_time &lt;chr&gt; | first_label &lt;int&gt; | death_24hr_recent_label &lt;int&gt; | pred_first &lt;dbl&gt; | pred_death_24hr_recent &lt;dbl&gt; | abs_diff0_24 &lt;dbl&gt; | transfer &lt;dbl&gt; | first_ip_lv_of_care &lt;chr&gt; | first_ip_event_type &lt;chr&gt; | first_ip_pat_service &lt;chr&gt; | last_emerg_lv_of_care &lt;chr&gt; | last_emerg_event_type &lt;chr&gt; | last_emerg_pat_service &lt;chr&gt; | trajectory &lt;chr&gt; | trajectory_length &lt;int&gt; |\n",
       "|---|---|---|---|---|---|---|---|---|---|---|---|---|---|---|---|---|---|---|---|\n",
       "| 1 | 13638739 | JCd91ab7  | 9 days 00:00:00.000000000    | 131271804263 | 2019-07-11 21:43:00 | 1 | 0 | 0.8406619 | 0.16503982 | 0.7 | 1 | Critical Care                                | Patient Update | Emergency Critical Care | <!----> | Transfer In    | Emergency          | Critical Care -&gt; IICU/Intermediate Care (Assessment or intervention q2-4) | 2 |\n",
       "| 2 | 60827953 | JCe6286a  | 18 days 00:00:00.000000000   | 131276655148 | 2019-10-19 02:44:00 | 1 | 0 | 0.7492048 | 0.08195348 | 0.7 | 1 | Critical Care                                | Patient Update | Emergency Critical Care | <!----> | Transfer In    | Emergency Medicine | Critical Care -&gt; IICU/Intermediate Care (Assessment or intervention q2-4) | 2 |\n",
       "| 3 | 43204973 | JCd1a421  | -3 days +00:00:00.000000000  | 131265379414 | 2019-03-21 13:11:00 | 1 | 1 | 0.7969050 | 0.06790455 | 0.7 | 0 | Critical Care                                | Patient Update | Emergency               | <!----> | Admission      | Emergency          | Critical Care                                                             | 1 |\n",
       "| 4 | 76629740 | JC29fe5a7 | -17 days +00:00:00.000000000 | 131273666433 | 2019-07-17 11:48:00 | 1 | 1 | 0.7369563 | 0.10290046 | 0.6 | 0 | Critical Care                                | Patient Update | Emergency Medicine      | <!----> | Patient Update | Emergency Medicine | Critical Care                                                             | 1 |\n",
       "| 5 | 12964771 | JCd3262e  | -19 days +00:00:00.000000000 | 131275001383 | 2019-08-15 16:54:00 | 1 | 0 | 0.8597781 | 0.27967762 | 0.6 | 1 | Critical Care                                | Patient Update | Emergency Medicine      | <!----> | Patient Update | Emergency Medicine | Critical Care -&gt; Acute Care (Assessment or intervention q4-8)             | 2 |\n",
       "| 6 | 76557537 | JC2a31a2b | -19 days +00:00:00.000000000 | 131273021618 | 2019-07-01 07:21:00 | 1 | 0 | 0.8841977 | 0.29646083 | 0.6 | 1 | Critical Care                                | Patient Update | Neurocritical Care      | <!----> | Census         | Emergency          | Critical Care -&gt; Acute Care (Assessment or intervention q4-8)             | 2 |\n",
       "| 7 | 76912245 | JC2a126ab | -16 days +00:00:00.000000000 | 131275893768 | 2019-09-04 05:58:00 | 0 | 0 | 0.8152507 | 0.25902901 | 0.6 | 0 | Acute Care (Assessment or intervention q4-8) | Patient Update | Medicine                | <!----> | Transfer In    | Emergency Medicine | Acute Care (Assessment or intervention q4-8)                              | 1 |\n",
       "| 8 | 70249800 | JCe0e0be  | 31 days 00:00:00.000000000   | 131283367768 | 2020-03-15 15:18:00 | 1 | 0 | 0.7303019 | 0.17409155 | 0.6 | 1 | Critical Care                                | Patient Update | Emergency               | <!----> | Admission      | Emergency          | Critical Care -&gt; Acute Care (Assessment or intervention q4-8)             | 2 |\n",
       "| 9 | 60269636 | JCe09f7a  | -22 days +00:00:00.000000000 | 131283156969 | 2020-01-19 11:56:00 | 1 | 0 | 0.8493499 | 0.26897129 | 0.6 | 1 | Critical Care                                | Patient Update | Critical Care           | <!----> | Transfer In    | Emergency Medicine | Critical Care -&gt; IICU/Intermediate Care (Assessment or intervention q2-4) | 2 |\n",
       "| 10 | 27196021 | JCceb298  | -10 days +00:00:00.000000000 | 131285560953 | 2020-03-06 04:21:00 | 1 | 0 | 0.7893417 | 0.21697571 | 0.6 | 1 | Critical Care                                | Patient Update | Neurocritical Care      | <!----> | Transfer In    | Emergency Medicine | Critical Care -&gt; Acute Care (Assessment or intervention q4-8)             | 2 |\n",
       "\n"
      ],
      "text/plain": [
       "   mrn      anon_id   jitter                       pat_enc_csn_id_coded\n",
       "1  13638739 JCd91ab7  9 days 00:00:00.000000000    131271804263        \n",
       "2  60827953 JCe6286a  18 days 00:00:00.000000000   131276655148        \n",
       "3  43204973 JCd1a421  -3 days +00:00:00.000000000  131265379414        \n",
       "4  76629740 JC29fe5a7 -17 days +00:00:00.000000000 131273666433        \n",
       "5  12964771 JCd3262e  -19 days +00:00:00.000000000 131275001383        \n",
       "6  76557537 JC2a31a2b -19 days +00:00:00.000000000 131273021618        \n",
       "7  76912245 JC2a126ab -16 days +00:00:00.000000000 131275893768        \n",
       "8  70249800 JCe0e0be  31 days 00:00:00.000000000   131283367768        \n",
       "9  60269636 JCe09f7a  -22 days +00:00:00.000000000 131283156969        \n",
       "10 27196021 JCceb298  -10 days +00:00:00.000000000 131285560953        \n",
       "   admit_time          first_label death_24hr_recent_label pred_first\n",
       "1  2019-07-11 21:43:00 1           0                       0.8406619 \n",
       "2  2019-10-19 02:44:00 1           0                       0.7492048 \n",
       "3  2019-03-21 13:11:00 1           1                       0.7969050 \n",
       "4  2019-07-17 11:48:00 1           1                       0.7369563 \n",
       "5  2019-08-15 16:54:00 1           0                       0.8597781 \n",
       "6  2019-07-01 07:21:00 1           0                       0.8841977 \n",
       "7  2019-09-04 05:58:00 0           0                       0.8152507 \n",
       "8  2020-03-15 15:18:00 1           0                       0.7303019 \n",
       "9  2020-01-19 11:56:00 1           0                       0.8493499 \n",
       "10 2020-03-06 04:21:00 1           0                       0.7893417 \n",
       "   pred_death_24hr_recent abs_diff0_24 transfer\n",
       "1  0.16503982             0.7          1       \n",
       "2  0.08195348             0.7          1       \n",
       "3  0.06790455             0.7          0       \n",
       "4  0.10290046             0.6          0       \n",
       "5  0.27967762             0.6          1       \n",
       "6  0.29646083             0.6          1       \n",
       "7  0.25902901             0.6          0       \n",
       "8  0.17409155             0.6          1       \n",
       "9  0.26897129             0.6          1       \n",
       "10 0.21697571             0.6          1       \n",
       "   first_ip_lv_of_care                          first_ip_event_type\n",
       "1  Critical Care                                Patient Update     \n",
       "2  Critical Care                                Patient Update     \n",
       "3  Critical Care                                Patient Update     \n",
       "4  Critical Care                                Patient Update     \n",
       "5  Critical Care                                Patient Update     \n",
       "6  Critical Care                                Patient Update     \n",
       "7  Acute Care (Assessment or intervention q4-8) Patient Update     \n",
       "8  Critical Care                                Patient Update     \n",
       "9  Critical Care                                Patient Update     \n",
       "10 Critical Care                                Patient Update     \n",
       "   first_ip_pat_service    last_emerg_lv_of_care last_emerg_event_type\n",
       "1  Emergency Critical Care                       Transfer In          \n",
       "2  Emergency Critical Care                       Transfer In          \n",
       "3  Emergency                                     Admission            \n",
       "4  Emergency Medicine                            Patient Update       \n",
       "5  Emergency Medicine                            Patient Update       \n",
       "6  Neurocritical Care                            Census               \n",
       "7  Medicine                                      Transfer In          \n",
       "8  Emergency                                     Admission            \n",
       "9  Critical Care                                 Transfer In          \n",
       "10 Neurocritical Care                            Transfer In          \n",
       "   last_emerg_pat_service\n",
       "1  Emergency             \n",
       "2  Emergency Medicine    \n",
       "3  Emergency             \n",
       "4  Emergency Medicine    \n",
       "5  Emergency Medicine    \n",
       "6  Emergency             \n",
       "7  Emergency Medicine    \n",
       "8  Emergency             \n",
       "9  Emergency Medicine    \n",
       "10 Emergency Medicine    \n",
       "   trajectory                                                               \n",
       "1  Critical Care -> IICU/Intermediate Care (Assessment or intervention q2-4)\n",
       "2  Critical Care -> IICU/Intermediate Care (Assessment or intervention q2-4)\n",
       "3  Critical Care                                                            \n",
       "4  Critical Care                                                            \n",
       "5  Critical Care -> Acute Care (Assessment or intervention q4-8)            \n",
       "6  Critical Care -> Acute Care (Assessment or intervention q4-8)            \n",
       "7  Acute Care (Assessment or intervention q4-8)                             \n",
       "8  Critical Care -> Acute Care (Assessment or intervention q4-8)            \n",
       "9  Critical Care -> IICU/Intermediate Care (Assessment or intervention q2-4)\n",
       "10 Critical Care -> Acute Care (Assessment or intervention q4-8)            \n",
       "   trajectory_length\n",
       "1  2                \n",
       "2  2                \n",
       "3  1                \n",
       "4  1                \n",
       "5  2                \n",
       "6  2                \n",
       "7  1                \n",
       "8  2                \n",
       "9  2                \n",
       "10 2                "
      ]
     },
     "metadata": {},
     "output_type": "display_data"
    }
   ],
   "source": [
    "head(comb_diff, n=10) # 0.6 and 0.7"
   ]
  },
  {
   "cell_type": "code",
   "execution_count": 52,
   "metadata": {},
   "outputs": [
    {
     "data": {
      "text/html": [
       "<table>\n",
       "<caption>A data.frame: 27 × 19</caption>\n",
       "<thead>\n",
       "\t<tr><th scope=col>mrn</th><th scope=col>anon_id</th><th scope=col>jitter</th><th scope=col>pat_enc_csn_id_coded</th><th scope=col>admit_time</th><th scope=col>first_label</th><th scope=col>death_24hr_recent_label</th><th scope=col>pred_first</th><th scope=col>pred_death_24hr_recent</th><th scope=col>abs_diff0_24</th><th scope=col>transfer</th><th scope=col>first_ip_lv_of_care</th><th scope=col>first_ip_event_type</th><th scope=col>first_ip_pat_service</th><th scope=col>last_emerg_lv_of_care</th><th scope=col>last_emerg_event_type</th><th scope=col>last_emerg_pat_service</th><th scope=col>trajectory</th><th scope=col>trajectory_length</th></tr>\n",
       "\t<tr><th scope=col>&lt;int&gt;</th><th scope=col>&lt;chr&gt;</th><th scope=col>&lt;chr&gt;</th><th scope=col>&lt;dbl&gt;</th><th scope=col>&lt;chr&gt;</th><th scope=col>&lt;int&gt;</th><th scope=col>&lt;int&gt;</th><th scope=col>&lt;dbl&gt;</th><th scope=col>&lt;dbl&gt;</th><th scope=col>&lt;dbl&gt;</th><th scope=col>&lt;dbl&gt;</th><th scope=col>&lt;chr&gt;</th><th scope=col>&lt;chr&gt;</th><th scope=col>&lt;chr&gt;</th><th scope=col>&lt;chr&gt;</th><th scope=col>&lt;chr&gt;</th><th scope=col>&lt;chr&gt;</th><th scope=col>&lt;chr&gt;</th><th scope=col>&lt;int&gt;</th></tr>\n",
       "</thead>\n",
       "<tbody>\n",
       "\t<tr><td> 2622280</td><td>JCd2b078 </td><td><span style=white-space:pre-wrap>22 days 00:00:00.000000000  </span></td><td>131281836013</td><td>2020-02-05 06:40:00</td><td>1</td><td>0</td><td>0.6533526</td><td>0.18836503</td><td>0.5</td><td>1</td><td><span style=white-space:pre-wrap>Critical Care                                           </span></td><td>Patient Update</td><td><span style=white-space:pre-wrap>ICU Trauma/GenSurg           </span></td><td></td><td>Patient Update</td><td>Emergency Medicine</td><td><span style=white-space:pre-wrap>Critical Care -&gt; Acute Care (Assessment or intervention q4-8)                                                                                                                        </span></td><td>2</td></tr>\n",
       "\t<tr><td> 3404373</td><td>JC2a1b3e1</td><td>-25 days +00:00:00.000000000</td><td>131266865289</td><td>2019-03-30 17:11:00</td><td>0</td><td>0</td><td>0.8686259</td><td>0.32946409</td><td>0.5</td><td>0</td><td>IICU/Intermediate Care (Assessment or intervention q2-4)</td><td>Patient Update</td><td><span style=white-space:pre-wrap>Cardiology                   </span></td><td></td><td>Patient Update</td><td>Emergency Medicine</td><td><span style=white-space:pre-wrap>IICU/Intermediate Care (Assessment or intervention q2-4) -&gt; Acute Care (Assessment or intervention q4-8)                                                                             </span></td><td>2</td></tr>\n",
       "\t<tr><td> 3404373</td><td>JC2a1b3e1</td><td>-25 days +00:00:00.000000000</td><td>131271401201</td><td>2019-06-03 17:42:00</td><td>0</td><td>0</td><td>0.8650639</td><td>0.34595124</td><td>0.5</td><td>0</td><td>IICU/Intermediate Care (Assessment or intervention q2-4)</td><td>Patient Update</td><td>Cardiology                   </td><td></td><td>Admission     </td><td>Emergency         </td><td>IICU/Intermediate Care (Assessment or intervention q2-4)                                                                                                                             </td><td>1</td></tr>\n",
       "\t<tr><td> 5197512</td><td>JCdc5d49 </td><td>-15 days +00:00:00.000000000</td><td>131262480872</td><td>2019-01-05 17:04:00</td><td>1</td><td>1</td><td>0.6639243</td><td>0.20044141</td><td>0.5</td><td>0</td><td>Critical Care                                           </td><td>Patient Update</td><td>Critical Care                </td><td></td><td>Admission     </td><td>Emergency         </td><td>Critical Care                                                                                                                                                                        </td><td>1</td></tr>\n",
       "\t<tr><td> 6386387</td><td>JCe358e6 </td><td>-25 days +00:00:00.000000000</td><td>131282031674</td><td>2019-12-23 02:39:00</td><td>1</td><td>0</td><td>0.7744861</td><td>0.27566563</td><td>0.5</td><td>1</td><td><span style=white-space:pre-wrap>Critical Care                                           </span></td><td>Patient Update</td><td><span style=white-space:pre-wrap>Critical Care                </span></td><td></td><td>Patient Update</td><td>Emergency Medicine</td><td><span style=white-space:pre-wrap>Critical Care -&gt; Acute Care (Assessment or intervention q4-8)                                                                                                                        </span></td><td>2</td></tr>\n",
       "\t<tr><td> 8332611</td><td>JCcf7ee2 </td><td><span style=white-space:pre-wrap>18 days 00:00:00.000000000  </span></td><td>131261541119</td><td>2019-01-15 06:59:00</td><td>1</td><td>0</td><td>0.8834838</td><td>0.39151948</td><td>0.5</td><td>1</td><td><span style=white-space:pre-wrap>Critical Care                                           </span></td><td>Patient Update</td><td><span style=white-space:pre-wrap>ICU Trauma/GenSurg           </span></td><td></td><td><span style=white-space:pre-wrap>Transfer In   </span></td><td><span style=white-space:pre-wrap>Emergency         </span></td><td><span style=white-space:pre-wrap>Critical Care -&gt; Acute Care (Assessment or intervention q4-8)                                                                                                                        </span></td><td>2</td></tr>\n",
       "\t<tr><td> 8560666</td><td>JCe1e504 </td><td>-31 days +00:00:00.000000000</td><td>131268059258</td><td>2019-04-18 11:45:00</td><td>0</td><td>0</td><td>0.7209007</td><td>0.21101473</td><td>0.5</td><td>0</td><td>IICU/Intermediate Care (Assessment or intervention q2-4)</td><td>Patient Update</td><td>General Medicine (PAMF)      </td><td></td><td>Admission     </td><td>Emergency         </td><td>IICU/Intermediate Care (Assessment or intervention q2-4)                                                                                                                             </td><td>1</td></tr>\n",
       "\t<tr><td>13554613</td><td>JCdb215e </td><td>-28 days +00:00:00.000000000</td><td>131285117411</td><td>2020-02-12 17:35:00</td><td>1</td><td>0</td><td>0.7373989</td><td>0.23933698</td><td>0.5</td><td>1</td><td><span style=white-space:pre-wrap>Critical Care                                           </span></td><td>Patient Update</td><td><span style=white-space:pre-wrap>Critical Care                </span></td><td></td><td>Patient Update</td><td>Emergency Medicine</td><td><span style=white-space:pre-wrap>Critical Care -&gt; IICU/Intermediate Care (Assessment or intervention q2-4) -&gt; Acute Care (Assessment or intervention q4-8)                                                            </span></td><td>3</td></tr>\n",
       "\t<tr><td>13638739</td><td>JCd91ab7 </td><td><span style=white-space:pre-wrap>9 days 00:00:00.000000000   </span></td><td>131276678530</td><td>2019-10-10 03:52:00</td><td>1</td><td>0</td><td>0.7376401</td><td>0.21183136</td><td>0.5</td><td>1</td><td><span style=white-space:pre-wrap>Critical Care                                           </span></td><td>Patient Update</td><td><span style=white-space:pre-wrap>Critical Care                </span></td><td></td><td>Patient Update</td><td>Emergency Medicine</td><td><span style=white-space:pre-wrap>Critical Care -&gt; Acute Care (Assessment or intervention q4-8)                                                                                                                        </span></td><td>2</td></tr>\n",
       "\t<tr><td>13638739</td><td>JCd91ab7 </td><td><span style=white-space:pre-wrap>9 days 00:00:00.000000000   </span></td><td>131281472394</td><td>2020-01-16 18:22:00</td><td>1</td><td>0</td><td>0.7327157</td><td>0.24238043</td><td>0.5</td><td>1</td><td><span style=white-space:pre-wrap>Critical Care                                           </span></td><td>Patient Update</td><td><span style=white-space:pre-wrap>Critical Care                </span></td><td></td><td><span style=white-space:pre-wrap>Transfer In   </span></td><td>Emergency Medicine</td><td><span style=white-space:pre-wrap>Critical Care -&gt; Acute Care (Assessment or intervention q4-8)                                                                                                                        </span></td><td>2</td></tr>\n",
       "\t<tr><td>14907927</td><td>JCdc9538 </td><td><span style=white-space:pre-wrap>25 days 00:00:00.000000000  </span></td><td>131284409583</td><td>2020-03-30 14:37:00</td><td>0</td><td>1</td><td>0.6393337</td><td>0.18878564</td><td>0.5</td><td>1</td><td>IICU/Intermediate Care (Assessment or intervention q2-4)</td><td>Patient Update</td><td><span style=white-space:pre-wrap>Medicine                     </span></td><td></td><td><span style=white-space:pre-wrap>Census        </span></td><td>Emergency Medicine</td><td><span style=white-space:pre-wrap>IICU/Intermediate Care (Assessment or intervention q2-4) -&gt; Acute Care (Assessment or intervention q4-8)                                                                             </span></td><td>2</td></tr>\n",
       "\t<tr><td>15751076</td><td>JCd1ef38 </td><td>-12 days +00:00:00.000000000</td><td>131279807307</td><td>2019-11-19 03:56:00</td><td>0</td><td>0</td><td>0.8066095</td><td>0.31641917</td><td>0.5</td><td>0</td><td>Acute Care (Assessment or intervention q4-8)            </td><td>Patient Update</td><td>Cardiology                   </td><td></td><td>Transfer In   </td><td>Emergency Medicine</td><td>Acute Care (Assessment or intervention q4-8)                                                                                                                                         </td><td>1</td></tr>\n",
       "\t<tr><td>18008466</td><td>JC29fd236</td><td>-26 days +00:00:00.000000000</td><td>131264662955</td><td>2019-02-11 11:54:00</td><td>0</td><td>0</td><td>0.6906416</td><td>0.20826471</td><td>0.5</td><td>0</td><td>Acute Care (Assessment or intervention q4-8)            </td><td>Patient Update</td><td>Neurology                    </td><td></td><td>Census        </td><td>Emergency         </td><td>Acute Care (Assessment or intervention q4-8)                                                                                                                                         </td><td>1</td></tr>\n",
       "\t<tr><td>19282094</td><td>JCde6b69 </td><td>-18 days +00:00:00.000000000</td><td>131268471668</td><td>2019-05-11 11:06:00</td><td>1</td><td>0</td><td>0.7345093</td><td>0.25061122</td><td>0.5</td><td>1</td><td><span style=white-space:pre-wrap>Critical Care                                           </span></td><td>Patient Update</td><td><span style=white-space:pre-wrap>Critical Care                </span></td><td></td><td><span style=white-space:pre-wrap>Transfer In   </span></td><td><span style=white-space:pre-wrap>Emergency         </span></td><td><span style=white-space:pre-wrap>Critical Care -&gt; Acute Care (Assessment or intervention q4-8)                                                                                                                        </span></td><td>2</td></tr>\n",
       "\t<tr><td>31037849</td><td>JCe9e4e1 </td><td>-14 days +00:00:00.000000000</td><td>131267990870</td><td>2019-05-03 03:38:00</td><td>1</td><td>0</td><td>0.5496709</td><td>0.04465135</td><td>0.5</td><td>1</td><td><span style=white-space:pre-wrap>Critical Care                                           </span></td><td>Patient Update</td><td><span style=white-space:pre-wrap>Emergency Critical Care      </span></td><td></td><td><span style=white-space:pre-wrap>Transfer In   </span></td><td><span style=white-space:pre-wrap>Emergency         </span></td><td><span style=white-space:pre-wrap>Critical Care -&gt; Acute Care (Assessment or intervention q4-8)                                                                                                                        </span></td><td>2</td></tr>\n",
       "\t<tr><td>33715970</td><td>JCd21aa2 </td><td>-19 days +00:00:00.000000000</td><td>131271881424</td><td>2019-06-14 09:53:00</td><td>0</td><td>0</td><td>0.5984433</td><td>0.12750511</td><td>0.5</td><td>0</td><td>Acute Care (Assessment or intervention q4-8)            </td><td>Patient Update</td><td>General Medicine (University)</td><td></td><td>Transfer In   </td><td>Emergency         </td><td>Acute Care (Assessment or intervention q4-8)                                                                                                                                         </td><td>1</td></tr>\n",
       "\t<tr><td>37267101</td><td>JC2a1b145</td><td>-22 days +00:00:00.000000000</td><td>131267727359</td><td>2019-04-20 13:19:00</td><td>1</td><td>0</td><td>0.8925185</td><td>0.41847357</td><td>0.5</td><td>1</td><td><span style=white-space:pre-wrap>Critical Care                                           </span></td><td>Patient Update</td><td><span style=white-space:pre-wrap>Critical Care                </span></td><td></td><td><span style=white-space:pre-wrap>Admission     </span></td><td><span style=white-space:pre-wrap>Emergency         </span></td><td><span style=white-space:pre-wrap>Critical Care -&gt; Acute Care (Assessment or intervention q4-8)                                                                                                                        </span></td><td>2</td></tr>\n",
       "\t<tr><td>38224416</td><td>JCd984f6 </td><td>-9 days +00:00:00.000000000 </td><td>131283509115</td><td>2020-02-08 06:17:00</td><td>1</td><td>0</td><td>0.6554213</td><td>0.17758573</td><td>0.5</td><td>1</td><td><span style=white-space:pre-wrap>Critical Care                                           </span></td><td>Patient Update</td><td><span style=white-space:pre-wrap>Emergency Medicine           </span></td><td></td><td>Patient Update</td><td>Emergency Medicine</td><td><span style=white-space:pre-wrap>Critical Care -&gt; Acute Care (Assessment or intervention q4-8)                                                                                                                        </span></td><td>2</td></tr>\n",
       "\t<tr><td>41187907</td><td>JCcc6f5a </td><td><span style=white-space:pre-wrap>25 days 00:00:00.000000000  </span></td><td>131261651290</td><td>2019-01-27 21:31:00</td><td>1</td><td>0</td><td>0.7241807</td><td>0.24340748</td><td>0.5</td><td>1</td><td><span style=white-space:pre-wrap>Critical Care                                           </span></td><td>Patient Update</td><td><span style=white-space:pre-wrap>Emergency Critical Care      </span></td><td></td><td><span style=white-space:pre-wrap>Transfer In   </span></td><td><span style=white-space:pre-wrap>Emergency         </span></td><td><span style=white-space:pre-wrap>Critical Care -&gt; IICU/Intermediate Care (Assessment or intervention q2-4)                                                                                                            </span></td><td>2</td></tr>\n",
       "\t<tr><td>41818063</td><td>JCe3e27d </td><td>9 days 00:00:00.000000000   </td><td>131263978966</td><td>2019-03-04 23:17:00</td><td>0</td><td>0</td><td>0.5330029</td><td>0.03365377</td><td>0.5</td><td>0</td><td>Acute Care (Assessment or intervention q4-8)            </td><td>Patient Update</td><td>General Medicine (University)</td><td></td><td>Admission     </td><td>Emergency         </td><td>Acute Care (Assessment or intervention q4-8)                                                                                                                                         </td><td>1</td></tr>\n",
       "\t<tr><td>60556784</td><td>JCe67809 </td><td>-27 days +00:00:00.000000000</td><td>131265527017</td><td>2019-02-28 09:49:00</td><td>1</td><td>0</td><td>0.5442423</td><td>0.02793682</td><td>0.5</td><td>1</td><td><span style=white-space:pre-wrap>                                                        </span></td><td>Patient Update</td><td><span style=white-space:pre-wrap>Critical Care                </span></td><td></td><td><span style=white-space:pre-wrap>Census        </span></td><td><span style=white-space:pre-wrap>Emergency         </span></td><td><span style=white-space:pre-wrap>nan -&gt; Critical Care -&gt; IICU/Intermediate Care (Assessment or intervention q2-4)                                                                                                     </span></td><td>3</td></tr>\n",
       "\t<tr><td>60556784</td><td>JCe67809 </td><td>-27 days +00:00:00.000000000</td><td>131268470191</td><td>2019-05-02 05:02:00</td><td>1</td><td>0</td><td>0.5610873</td><td>0.05252901</td><td>0.5</td><td>1</td><td><span style=white-space:pre-wrap>Critical Care                                           </span></td><td>Patient Update</td><td><span style=white-space:pre-wrap>Emergency Critical Care      </span></td><td></td><td><span style=white-space:pre-wrap>Transfer In   </span></td><td><span style=white-space:pre-wrap>Emergency         </span></td><td><span style=white-space:pre-wrap>Critical Care -&gt; IICU/Intermediate Care (Assessment or intervention q2-4) -&gt; Acute Care (Assessment or intervention q4-8)                                                            </span></td><td>3</td></tr>\n",
       "\t<tr><td>62061049</td><td>JCe8eecd </td><td>-23 days +00:00:00.000000000</td><td>131287638900</td><td>2020-03-29 06:00:00</td><td>0</td><td>0</td><td>0.7590947</td><td>0.21166600</td><td>0.5</td><td>0</td><td>IICU/Intermediate Care (Assessment or intervention q2-4)</td><td>Patient Update</td><td><span style=white-space:pre-wrap>Critical Care                </span></td><td></td><td>Patient Update</td><td>Emergency Medicine</td><td>IICU/Intermediate Care (Assessment or intervention q2-4) -&gt; Critical Care -&gt; Acute Care (Assessment or intervention q4-8) -&gt; IICU/Intermediate Care (Assessment or intervention q2-4)</td><td>4</td></tr>\n",
       "\t<tr><td>70639208</td><td>JC2a1306e</td><td>-7 days +00:00:00.000000000 </td><td>131271469230</td><td>2019-06-24 06:46:00</td><td>1</td><td>1</td><td>0.7394413</td><td>0.28618598</td><td>0.5</td><td>0</td><td>Critical Care                                           </td><td>Patient Update</td><td>Emergency                    </td><td></td><td>Admission     </td><td>Emergency         </td><td>Critical Care                                                                                                                                                                        </td><td>1</td></tr>\n",
       "\t<tr><td>74728189</td><td>JCd7753a </td><td>30 days 00:00:00.000000000  </td><td>131263239473</td><td>2019-03-08 23:28:00</td><td>1</td><td>1</td><td>0.6325749</td><td>0.18249292</td><td>0.5</td><td>0</td><td>Critical Care                                           </td><td>Patient Update</td><td>Cardiology                   </td><td></td><td>Patient Update</td><td>Emergency Medicine</td><td>Critical Care                                                                                                                                                                        </td><td>1</td></tr>\n",
       "\t<tr><td>76011394</td><td>JC29f8e61</td><td>17 days 00:00:00.000000000  </td><td>131265730309</td><td>2019-04-17 22:32:00</td><td>1</td><td>1</td><td>0.6918880</td><td>0.18118481</td><td>0.5</td><td>0</td><td>Critical Care                                           </td><td>Patient Update</td><td>Critical Care                </td><td></td><td>Transfer In   </td><td>Emergency         </td><td>Critical Care                                                                                                                                                                        </td><td>1</td></tr>\n",
       "\t<tr><td>77311421</td><td>JC2a0f29b</td><td><span style=white-space:pre-wrap>29 days 00:00:00.000000000  </span></td><td>131280435236</td><td>2020-01-11 11:08:00</td><td>1</td><td>0</td><td>0.7324723</td><td>0.27897978</td><td>0.5</td><td>1</td><td><span style=white-space:pre-wrap>Critical Care                                           </span></td><td>Patient Update</td><td><span style=white-space:pre-wrap>Trauma                       </span></td><td></td><td>Patient Update</td><td>Emergency Medicine</td><td><span style=white-space:pre-wrap>Critical Care -&gt; IICU/Intermediate Care (Assessment or intervention q2-4)                                                                                                            </span></td><td>2</td></tr>\n",
       "</tbody>\n",
       "</table>\n"
      ],
      "text/latex": [
       "A data.frame: 27 × 19\n",
       "\\begin{tabular}{lllllllllllllllllll}\n",
       " mrn & anon\\_id & jitter & pat\\_enc\\_csn\\_id\\_coded & admit\\_time & first\\_label & death\\_24hr\\_recent\\_label & pred\\_first & pred\\_death\\_24hr\\_recent & abs\\_diff0\\_24 & transfer & first\\_ip\\_lv\\_of\\_care & first\\_ip\\_event\\_type & first\\_ip\\_pat\\_service & last\\_emerg\\_lv\\_of\\_care & last\\_emerg\\_event\\_type & last\\_emerg\\_pat\\_service & trajectory & trajectory\\_length\\\\\n",
       " <int> & <chr> & <chr> & <dbl> & <chr> & <int> & <int> & <dbl> & <dbl> & <dbl> & <dbl> & <chr> & <chr> & <chr> & <chr> & <chr> & <chr> & <chr> & <int>\\\\\n",
       "\\hline\n",
       "\t  2622280 & JCd2b078  & 22 days 00:00:00.000000000   & 131281836013 & 2020-02-05 06:40:00 & 1 & 0 & 0.6533526 & 0.18836503 & 0.5 & 1 & Critical Care                                            & Patient Update & ICU Trauma/GenSurg            &  & Patient Update & Emergency Medicine & Critical Care -> Acute Care (Assessment or intervention q4-8)                                                                                                                         & 2\\\\\n",
       "\t  3404373 & JC2a1b3e1 & -25 days +00:00:00.000000000 & 131266865289 & 2019-03-30 17:11:00 & 0 & 0 & 0.8686259 & 0.32946409 & 0.5 & 0 & IICU/Intermediate Care (Assessment or intervention q2-4) & Patient Update & Cardiology                    &  & Patient Update & Emergency Medicine & IICU/Intermediate Care (Assessment or intervention q2-4) -> Acute Care (Assessment or intervention q4-8)                                                                              & 2\\\\\n",
       "\t  3404373 & JC2a1b3e1 & -25 days +00:00:00.000000000 & 131271401201 & 2019-06-03 17:42:00 & 0 & 0 & 0.8650639 & 0.34595124 & 0.5 & 0 & IICU/Intermediate Care (Assessment or intervention q2-4) & Patient Update & Cardiology                    &  & Admission      & Emergency          & IICU/Intermediate Care (Assessment or intervention q2-4)                                                                                                                              & 1\\\\\n",
       "\t  5197512 & JCdc5d49  & -15 days +00:00:00.000000000 & 131262480872 & 2019-01-05 17:04:00 & 1 & 1 & 0.6639243 & 0.20044141 & 0.5 & 0 & Critical Care                                            & Patient Update & Critical Care                 &  & Admission      & Emergency          & Critical Care                                                                                                                                                                         & 1\\\\\n",
       "\t  6386387 & JCe358e6  & -25 days +00:00:00.000000000 & 131282031674 & 2019-12-23 02:39:00 & 1 & 0 & 0.7744861 & 0.27566563 & 0.5 & 1 & Critical Care                                            & Patient Update & Critical Care                 &  & Patient Update & Emergency Medicine & Critical Care -> Acute Care (Assessment or intervention q4-8)                                                                                                                         & 2\\\\\n",
       "\t  8332611 & JCcf7ee2  & 18 days 00:00:00.000000000   & 131261541119 & 2019-01-15 06:59:00 & 1 & 0 & 0.8834838 & 0.39151948 & 0.5 & 1 & Critical Care                                            & Patient Update & ICU Trauma/GenSurg            &  & Transfer In    & Emergency          & Critical Care -> Acute Care (Assessment or intervention q4-8)                                                                                                                         & 2\\\\\n",
       "\t  8560666 & JCe1e504  & -31 days +00:00:00.000000000 & 131268059258 & 2019-04-18 11:45:00 & 0 & 0 & 0.7209007 & 0.21101473 & 0.5 & 0 & IICU/Intermediate Care (Assessment or intervention q2-4) & Patient Update & General Medicine (PAMF)       &  & Admission      & Emergency          & IICU/Intermediate Care (Assessment or intervention q2-4)                                                                                                                              & 1\\\\\n",
       "\t 13554613 & JCdb215e  & -28 days +00:00:00.000000000 & 131285117411 & 2020-02-12 17:35:00 & 1 & 0 & 0.7373989 & 0.23933698 & 0.5 & 1 & Critical Care                                            & Patient Update & Critical Care                 &  & Patient Update & Emergency Medicine & Critical Care -> IICU/Intermediate Care (Assessment or intervention q2-4) -> Acute Care (Assessment or intervention q4-8)                                                             & 3\\\\\n",
       "\t 13638739 & JCd91ab7  & 9 days 00:00:00.000000000    & 131276678530 & 2019-10-10 03:52:00 & 1 & 0 & 0.7376401 & 0.21183136 & 0.5 & 1 & Critical Care                                            & Patient Update & Critical Care                 &  & Patient Update & Emergency Medicine & Critical Care -> Acute Care (Assessment or intervention q4-8)                                                                                                                         & 2\\\\\n",
       "\t 13638739 & JCd91ab7  & 9 days 00:00:00.000000000    & 131281472394 & 2020-01-16 18:22:00 & 1 & 0 & 0.7327157 & 0.24238043 & 0.5 & 1 & Critical Care                                            & Patient Update & Critical Care                 &  & Transfer In    & Emergency Medicine & Critical Care -> Acute Care (Assessment or intervention q4-8)                                                                                                                         & 2\\\\\n",
       "\t 14907927 & JCdc9538  & 25 days 00:00:00.000000000   & 131284409583 & 2020-03-30 14:37:00 & 0 & 1 & 0.6393337 & 0.18878564 & 0.5 & 1 & IICU/Intermediate Care (Assessment or intervention q2-4) & Patient Update & Medicine                      &  & Census         & Emergency Medicine & IICU/Intermediate Care (Assessment or intervention q2-4) -> Acute Care (Assessment or intervention q4-8)                                                                              & 2\\\\\n",
       "\t 15751076 & JCd1ef38  & -12 days +00:00:00.000000000 & 131279807307 & 2019-11-19 03:56:00 & 0 & 0 & 0.8066095 & 0.31641917 & 0.5 & 0 & Acute Care (Assessment or intervention q4-8)             & Patient Update & Cardiology                    &  & Transfer In    & Emergency Medicine & Acute Care (Assessment or intervention q4-8)                                                                                                                                          & 1\\\\\n",
       "\t 18008466 & JC29fd236 & -26 days +00:00:00.000000000 & 131264662955 & 2019-02-11 11:54:00 & 0 & 0 & 0.6906416 & 0.20826471 & 0.5 & 0 & Acute Care (Assessment or intervention q4-8)             & Patient Update & Neurology                     &  & Census         & Emergency          & Acute Care (Assessment or intervention q4-8)                                                                                                                                          & 1\\\\\n",
       "\t 19282094 & JCde6b69  & -18 days +00:00:00.000000000 & 131268471668 & 2019-05-11 11:06:00 & 1 & 0 & 0.7345093 & 0.25061122 & 0.5 & 1 & Critical Care                                            & Patient Update & Critical Care                 &  & Transfer In    & Emergency          & Critical Care -> Acute Care (Assessment or intervention q4-8)                                                                                                                         & 2\\\\\n",
       "\t 31037849 & JCe9e4e1  & -14 days +00:00:00.000000000 & 131267990870 & 2019-05-03 03:38:00 & 1 & 0 & 0.5496709 & 0.04465135 & 0.5 & 1 & Critical Care                                            & Patient Update & Emergency Critical Care       &  & Transfer In    & Emergency          & Critical Care -> Acute Care (Assessment or intervention q4-8)                                                                                                                         & 2\\\\\n",
       "\t 33715970 & JCd21aa2  & -19 days +00:00:00.000000000 & 131271881424 & 2019-06-14 09:53:00 & 0 & 0 & 0.5984433 & 0.12750511 & 0.5 & 0 & Acute Care (Assessment or intervention q4-8)             & Patient Update & General Medicine (University) &  & Transfer In    & Emergency          & Acute Care (Assessment or intervention q4-8)                                                                                                                                          & 1\\\\\n",
       "\t 37267101 & JC2a1b145 & -22 days +00:00:00.000000000 & 131267727359 & 2019-04-20 13:19:00 & 1 & 0 & 0.8925185 & 0.41847357 & 0.5 & 1 & Critical Care                                            & Patient Update & Critical Care                 &  & Admission      & Emergency          & Critical Care -> Acute Care (Assessment or intervention q4-8)                                                                                                                         & 2\\\\\n",
       "\t 38224416 & JCd984f6  & -9 days +00:00:00.000000000  & 131283509115 & 2020-02-08 06:17:00 & 1 & 0 & 0.6554213 & 0.17758573 & 0.5 & 1 & Critical Care                                            & Patient Update & Emergency Medicine            &  & Patient Update & Emergency Medicine & Critical Care -> Acute Care (Assessment or intervention q4-8)                                                                                                                         & 2\\\\\n",
       "\t 41187907 & JCcc6f5a  & 25 days 00:00:00.000000000   & 131261651290 & 2019-01-27 21:31:00 & 1 & 0 & 0.7241807 & 0.24340748 & 0.5 & 1 & Critical Care                                            & Patient Update & Emergency Critical Care       &  & Transfer In    & Emergency          & Critical Care -> IICU/Intermediate Care (Assessment or intervention q2-4)                                                                                                             & 2\\\\\n",
       "\t 41818063 & JCe3e27d  & 9 days 00:00:00.000000000    & 131263978966 & 2019-03-04 23:17:00 & 0 & 0 & 0.5330029 & 0.03365377 & 0.5 & 0 & Acute Care (Assessment or intervention q4-8)             & Patient Update & General Medicine (University) &  & Admission      & Emergency          & Acute Care (Assessment or intervention q4-8)                                                                                                                                          & 1\\\\\n",
       "\t 60556784 & JCe67809  & -27 days +00:00:00.000000000 & 131265527017 & 2019-02-28 09:49:00 & 1 & 0 & 0.5442423 & 0.02793682 & 0.5 & 1 &                                                          & Patient Update & Critical Care                 &  & Census         & Emergency          & nan -> Critical Care -> IICU/Intermediate Care (Assessment or intervention q2-4)                                                                                                      & 3\\\\\n",
       "\t 60556784 & JCe67809  & -27 days +00:00:00.000000000 & 131268470191 & 2019-05-02 05:02:00 & 1 & 0 & 0.5610873 & 0.05252901 & 0.5 & 1 & Critical Care                                            & Patient Update & Emergency Critical Care       &  & Transfer In    & Emergency          & Critical Care -> IICU/Intermediate Care (Assessment or intervention q2-4) -> Acute Care (Assessment or intervention q4-8)                                                             & 3\\\\\n",
       "\t 62061049 & JCe8eecd  & -23 days +00:00:00.000000000 & 131287638900 & 2020-03-29 06:00:00 & 0 & 0 & 0.7590947 & 0.21166600 & 0.5 & 0 & IICU/Intermediate Care (Assessment or intervention q2-4) & Patient Update & Critical Care                 &  & Patient Update & Emergency Medicine & IICU/Intermediate Care (Assessment or intervention q2-4) -> Critical Care -> Acute Care (Assessment or intervention q4-8) -> IICU/Intermediate Care (Assessment or intervention q2-4) & 4\\\\\n",
       "\t 70639208 & JC2a1306e & -7 days +00:00:00.000000000  & 131271469230 & 2019-06-24 06:46:00 & 1 & 1 & 0.7394413 & 0.28618598 & 0.5 & 0 & Critical Care                                            & Patient Update & Emergency                     &  & Admission      & Emergency          & Critical Care                                                                                                                                                                         & 1\\\\\n",
       "\t 74728189 & JCd7753a  & 30 days 00:00:00.000000000   & 131263239473 & 2019-03-08 23:28:00 & 1 & 1 & 0.6325749 & 0.18249292 & 0.5 & 0 & Critical Care                                            & Patient Update & Cardiology                    &  & Patient Update & Emergency Medicine & Critical Care                                                                                                                                                                         & 1\\\\\n",
       "\t 76011394 & JC29f8e61 & 17 days 00:00:00.000000000   & 131265730309 & 2019-04-17 22:32:00 & 1 & 1 & 0.6918880 & 0.18118481 & 0.5 & 0 & Critical Care                                            & Patient Update & Critical Care                 &  & Transfer In    & Emergency          & Critical Care                                                                                                                                                                         & 1\\\\\n",
       "\t 77311421 & JC2a0f29b & 29 days 00:00:00.000000000   & 131280435236 & 2020-01-11 11:08:00 & 1 & 0 & 0.7324723 & 0.27897978 & 0.5 & 1 & Critical Care                                            & Patient Update & Trauma                        &  & Patient Update & Emergency Medicine & Critical Care -> IICU/Intermediate Care (Assessment or intervention q2-4)                                                                                                             & 2\\\\\n",
       "\\end{tabular}\n"
      ],
      "text/markdown": [
       "\n",
       "A data.frame: 27 × 19\n",
       "\n",
       "| mrn &lt;int&gt; | anon_id &lt;chr&gt; | jitter &lt;chr&gt; | pat_enc_csn_id_coded &lt;dbl&gt; | admit_time &lt;chr&gt; | first_label &lt;int&gt; | death_24hr_recent_label &lt;int&gt; | pred_first &lt;dbl&gt; | pred_death_24hr_recent &lt;dbl&gt; | abs_diff0_24 &lt;dbl&gt; | transfer &lt;dbl&gt; | first_ip_lv_of_care &lt;chr&gt; | first_ip_event_type &lt;chr&gt; | first_ip_pat_service &lt;chr&gt; | last_emerg_lv_of_care &lt;chr&gt; | last_emerg_event_type &lt;chr&gt; | last_emerg_pat_service &lt;chr&gt; | trajectory &lt;chr&gt; | trajectory_length &lt;int&gt; |\n",
       "|---|---|---|---|---|---|---|---|---|---|---|---|---|---|---|---|---|---|---|\n",
       "|  2622280 | JCd2b078  | 22 days 00:00:00.000000000   | 131281836013 | 2020-02-05 06:40:00 | 1 | 0 | 0.6533526 | 0.18836503 | 0.5 | 1 | Critical Care                                            | Patient Update | ICU Trauma/GenSurg            | <!----> | Patient Update | Emergency Medicine | Critical Care -&gt; Acute Care (Assessment or intervention q4-8)                                                                                                                         | 2 |\n",
       "|  3404373 | JC2a1b3e1 | -25 days +00:00:00.000000000 | 131266865289 | 2019-03-30 17:11:00 | 0 | 0 | 0.8686259 | 0.32946409 | 0.5 | 0 | IICU/Intermediate Care (Assessment or intervention q2-4) | Patient Update | Cardiology                    | <!----> | Patient Update | Emergency Medicine | IICU/Intermediate Care (Assessment or intervention q2-4) -&gt; Acute Care (Assessment or intervention q4-8)                                                                              | 2 |\n",
       "|  3404373 | JC2a1b3e1 | -25 days +00:00:00.000000000 | 131271401201 | 2019-06-03 17:42:00 | 0 | 0 | 0.8650639 | 0.34595124 | 0.5 | 0 | IICU/Intermediate Care (Assessment or intervention q2-4) | Patient Update | Cardiology                    | <!----> | Admission      | Emergency          | IICU/Intermediate Care (Assessment or intervention q2-4)                                                                                                                              | 1 |\n",
       "|  5197512 | JCdc5d49  | -15 days +00:00:00.000000000 | 131262480872 | 2019-01-05 17:04:00 | 1 | 1 | 0.6639243 | 0.20044141 | 0.5 | 0 | Critical Care                                            | Patient Update | Critical Care                 | <!----> | Admission      | Emergency          | Critical Care                                                                                                                                                                         | 1 |\n",
       "|  6386387 | JCe358e6  | -25 days +00:00:00.000000000 | 131282031674 | 2019-12-23 02:39:00 | 1 | 0 | 0.7744861 | 0.27566563 | 0.5 | 1 | Critical Care                                            | Patient Update | Critical Care                 | <!----> | Patient Update | Emergency Medicine | Critical Care -&gt; Acute Care (Assessment or intervention q4-8)                                                                                                                         | 2 |\n",
       "|  8332611 | JCcf7ee2  | 18 days 00:00:00.000000000   | 131261541119 | 2019-01-15 06:59:00 | 1 | 0 | 0.8834838 | 0.39151948 | 0.5 | 1 | Critical Care                                            | Patient Update | ICU Trauma/GenSurg            | <!----> | Transfer In    | Emergency          | Critical Care -&gt; Acute Care (Assessment or intervention q4-8)                                                                                                                         | 2 |\n",
       "|  8560666 | JCe1e504  | -31 days +00:00:00.000000000 | 131268059258 | 2019-04-18 11:45:00 | 0 | 0 | 0.7209007 | 0.21101473 | 0.5 | 0 | IICU/Intermediate Care (Assessment or intervention q2-4) | Patient Update | General Medicine (PAMF)       | <!----> | Admission      | Emergency          | IICU/Intermediate Care (Assessment or intervention q2-4)                                                                                                                              | 1 |\n",
       "| 13554613 | JCdb215e  | -28 days +00:00:00.000000000 | 131285117411 | 2020-02-12 17:35:00 | 1 | 0 | 0.7373989 | 0.23933698 | 0.5 | 1 | Critical Care                                            | Patient Update | Critical Care                 | <!----> | Patient Update | Emergency Medicine | Critical Care -&gt; IICU/Intermediate Care (Assessment or intervention q2-4) -&gt; Acute Care (Assessment or intervention q4-8)                                                             | 3 |\n",
       "| 13638739 | JCd91ab7  | 9 days 00:00:00.000000000    | 131276678530 | 2019-10-10 03:52:00 | 1 | 0 | 0.7376401 | 0.21183136 | 0.5 | 1 | Critical Care                                            | Patient Update | Critical Care                 | <!----> | Patient Update | Emergency Medicine | Critical Care -&gt; Acute Care (Assessment or intervention q4-8)                                                                                                                         | 2 |\n",
       "| 13638739 | JCd91ab7  | 9 days 00:00:00.000000000    | 131281472394 | 2020-01-16 18:22:00 | 1 | 0 | 0.7327157 | 0.24238043 | 0.5 | 1 | Critical Care                                            | Patient Update | Critical Care                 | <!----> | Transfer In    | Emergency Medicine | Critical Care -&gt; Acute Care (Assessment or intervention q4-8)                                                                                                                         | 2 |\n",
       "| 14907927 | JCdc9538  | 25 days 00:00:00.000000000   | 131284409583 | 2020-03-30 14:37:00 | 0 | 1 | 0.6393337 | 0.18878564 | 0.5 | 1 | IICU/Intermediate Care (Assessment or intervention q2-4) | Patient Update | Medicine                      | <!----> | Census         | Emergency Medicine | IICU/Intermediate Care (Assessment or intervention q2-4) -&gt; Acute Care (Assessment or intervention q4-8)                                                                              | 2 |\n",
       "| 15751076 | JCd1ef38  | -12 days +00:00:00.000000000 | 131279807307 | 2019-11-19 03:56:00 | 0 | 0 | 0.8066095 | 0.31641917 | 0.5 | 0 | Acute Care (Assessment or intervention q4-8)             | Patient Update | Cardiology                    | <!----> | Transfer In    | Emergency Medicine | Acute Care (Assessment or intervention q4-8)                                                                                                                                          | 1 |\n",
       "| 18008466 | JC29fd236 | -26 days +00:00:00.000000000 | 131264662955 | 2019-02-11 11:54:00 | 0 | 0 | 0.6906416 | 0.20826471 | 0.5 | 0 | Acute Care (Assessment or intervention q4-8)             | Patient Update | Neurology                     | <!----> | Census         | Emergency          | Acute Care (Assessment or intervention q4-8)                                                                                                                                          | 1 |\n",
       "| 19282094 | JCde6b69  | -18 days +00:00:00.000000000 | 131268471668 | 2019-05-11 11:06:00 | 1 | 0 | 0.7345093 | 0.25061122 | 0.5 | 1 | Critical Care                                            | Patient Update | Critical Care                 | <!----> | Transfer In    | Emergency          | Critical Care -&gt; Acute Care (Assessment or intervention q4-8)                                                                                                                         | 2 |\n",
       "| 31037849 | JCe9e4e1  | -14 days +00:00:00.000000000 | 131267990870 | 2019-05-03 03:38:00 | 1 | 0 | 0.5496709 | 0.04465135 | 0.5 | 1 | Critical Care                                            | Patient Update | Emergency Critical Care       | <!----> | Transfer In    | Emergency          | Critical Care -&gt; Acute Care (Assessment or intervention q4-8)                                                                                                                         | 2 |\n",
       "| 33715970 | JCd21aa2  | -19 days +00:00:00.000000000 | 131271881424 | 2019-06-14 09:53:00 | 0 | 0 | 0.5984433 | 0.12750511 | 0.5 | 0 | Acute Care (Assessment or intervention q4-8)             | Patient Update | General Medicine (University) | <!----> | Transfer In    | Emergency          | Acute Care (Assessment or intervention q4-8)                                                                                                                                          | 1 |\n",
       "| 37267101 | JC2a1b145 | -22 days +00:00:00.000000000 | 131267727359 | 2019-04-20 13:19:00 | 1 | 0 | 0.8925185 | 0.41847357 | 0.5 | 1 | Critical Care                                            | Patient Update | Critical Care                 | <!----> | Admission      | Emergency          | Critical Care -&gt; Acute Care (Assessment or intervention q4-8)                                                                                                                         | 2 |\n",
       "| 38224416 | JCd984f6  | -9 days +00:00:00.000000000  | 131283509115 | 2020-02-08 06:17:00 | 1 | 0 | 0.6554213 | 0.17758573 | 0.5 | 1 | Critical Care                                            | Patient Update | Emergency Medicine            | <!----> | Patient Update | Emergency Medicine | Critical Care -&gt; Acute Care (Assessment or intervention q4-8)                                                                                                                         | 2 |\n",
       "| 41187907 | JCcc6f5a  | 25 days 00:00:00.000000000   | 131261651290 | 2019-01-27 21:31:00 | 1 | 0 | 0.7241807 | 0.24340748 | 0.5 | 1 | Critical Care                                            | Patient Update | Emergency Critical Care       | <!----> | Transfer In    | Emergency          | Critical Care -&gt; IICU/Intermediate Care (Assessment or intervention q2-4)                                                                                                             | 2 |\n",
       "| 41818063 | JCe3e27d  | 9 days 00:00:00.000000000    | 131263978966 | 2019-03-04 23:17:00 | 0 | 0 | 0.5330029 | 0.03365377 | 0.5 | 0 | Acute Care (Assessment or intervention q4-8)             | Patient Update | General Medicine (University) | <!----> | Admission      | Emergency          | Acute Care (Assessment or intervention q4-8)                                                                                                                                          | 1 |\n",
       "| 60556784 | JCe67809  | -27 days +00:00:00.000000000 | 131265527017 | 2019-02-28 09:49:00 | 1 | 0 | 0.5442423 | 0.02793682 | 0.5 | 1 | <!----> | Patient Update | Critical Care                 | <!----> | Census         | Emergency          | nan -&gt; Critical Care -&gt; IICU/Intermediate Care (Assessment or intervention q2-4)                                                                                                      | 3 |\n",
       "| 60556784 | JCe67809  | -27 days +00:00:00.000000000 | 131268470191 | 2019-05-02 05:02:00 | 1 | 0 | 0.5610873 | 0.05252901 | 0.5 | 1 | Critical Care                                            | Patient Update | Emergency Critical Care       | <!----> | Transfer In    | Emergency          | Critical Care -&gt; IICU/Intermediate Care (Assessment or intervention q2-4) -&gt; Acute Care (Assessment or intervention q4-8)                                                             | 3 |\n",
       "| 62061049 | JCe8eecd  | -23 days +00:00:00.000000000 | 131287638900 | 2020-03-29 06:00:00 | 0 | 0 | 0.7590947 | 0.21166600 | 0.5 | 0 | IICU/Intermediate Care (Assessment or intervention q2-4) | Patient Update | Critical Care                 | <!----> | Patient Update | Emergency Medicine | IICU/Intermediate Care (Assessment or intervention q2-4) -&gt; Critical Care -&gt; Acute Care (Assessment or intervention q4-8) -&gt; IICU/Intermediate Care (Assessment or intervention q2-4) | 4 |\n",
       "| 70639208 | JC2a1306e | -7 days +00:00:00.000000000  | 131271469230 | 2019-06-24 06:46:00 | 1 | 1 | 0.7394413 | 0.28618598 | 0.5 | 0 | Critical Care                                            | Patient Update | Emergency                     | <!----> | Admission      | Emergency          | Critical Care                                                                                                                                                                         | 1 |\n",
       "| 74728189 | JCd7753a  | 30 days 00:00:00.000000000   | 131263239473 | 2019-03-08 23:28:00 | 1 | 1 | 0.6325749 | 0.18249292 | 0.5 | 0 | Critical Care                                            | Patient Update | Cardiology                    | <!----> | Patient Update | Emergency Medicine | Critical Care                                                                                                                                                                         | 1 |\n",
       "| 76011394 | JC29f8e61 | 17 days 00:00:00.000000000   | 131265730309 | 2019-04-17 22:32:00 | 1 | 1 | 0.6918880 | 0.18118481 | 0.5 | 0 | Critical Care                                            | Patient Update | Critical Care                 | <!----> | Transfer In    | Emergency          | Critical Care                                                                                                                                                                         | 1 |\n",
       "| 77311421 | JC2a0f29b | 29 days 00:00:00.000000000   | 131280435236 | 2020-01-11 11:08:00 | 1 | 0 | 0.7324723 | 0.27897978 | 0.5 | 1 | Critical Care                                            | Patient Update | Trauma                        | <!----> | Patient Update | Emergency Medicine | Critical Care -&gt; IICU/Intermediate Care (Assessment or intervention q2-4)                                                                                                             | 2 |\n",
       "\n"
      ],
      "text/plain": [
       "   mrn      anon_id   jitter                       pat_enc_csn_id_coded\n",
       "1   2622280 JCd2b078  22 days 00:00:00.000000000   131281836013        \n",
       "2   3404373 JC2a1b3e1 -25 days +00:00:00.000000000 131266865289        \n",
       "3   3404373 JC2a1b3e1 -25 days +00:00:00.000000000 131271401201        \n",
       "4   5197512 JCdc5d49  -15 days +00:00:00.000000000 131262480872        \n",
       "5   6386387 JCe358e6  -25 days +00:00:00.000000000 131282031674        \n",
       "6   8332611 JCcf7ee2  18 days 00:00:00.000000000   131261541119        \n",
       "7   8560666 JCe1e504  -31 days +00:00:00.000000000 131268059258        \n",
       "8  13554613 JCdb215e  -28 days +00:00:00.000000000 131285117411        \n",
       "9  13638739 JCd91ab7  9 days 00:00:00.000000000    131276678530        \n",
       "10 13638739 JCd91ab7  9 days 00:00:00.000000000    131281472394        \n",
       "11 14907927 JCdc9538  25 days 00:00:00.000000000   131284409583        \n",
       "12 15751076 JCd1ef38  -12 days +00:00:00.000000000 131279807307        \n",
       "13 18008466 JC29fd236 -26 days +00:00:00.000000000 131264662955        \n",
       "14 19282094 JCde6b69  -18 days +00:00:00.000000000 131268471668        \n",
       "15 31037849 JCe9e4e1  -14 days +00:00:00.000000000 131267990870        \n",
       "16 33715970 JCd21aa2  -19 days +00:00:00.000000000 131271881424        \n",
       "17 37267101 JC2a1b145 -22 days +00:00:00.000000000 131267727359        \n",
       "18 38224416 JCd984f6  -9 days +00:00:00.000000000  131283509115        \n",
       "19 41187907 JCcc6f5a  25 days 00:00:00.000000000   131261651290        \n",
       "20 41818063 JCe3e27d  9 days 00:00:00.000000000    131263978966        \n",
       "21 60556784 JCe67809  -27 days +00:00:00.000000000 131265527017        \n",
       "22 60556784 JCe67809  -27 days +00:00:00.000000000 131268470191        \n",
       "23 62061049 JCe8eecd  -23 days +00:00:00.000000000 131287638900        \n",
       "24 70639208 JC2a1306e -7 days +00:00:00.000000000  131271469230        \n",
       "25 74728189 JCd7753a  30 days 00:00:00.000000000   131263239473        \n",
       "26 76011394 JC29f8e61 17 days 00:00:00.000000000   131265730309        \n",
       "27 77311421 JC2a0f29b 29 days 00:00:00.000000000   131280435236        \n",
       "   admit_time          first_label death_24hr_recent_label pred_first\n",
       "1  2020-02-05 06:40:00 1           0                       0.6533526 \n",
       "2  2019-03-30 17:11:00 0           0                       0.8686259 \n",
       "3  2019-06-03 17:42:00 0           0                       0.8650639 \n",
       "4  2019-01-05 17:04:00 1           1                       0.6639243 \n",
       "5  2019-12-23 02:39:00 1           0                       0.7744861 \n",
       "6  2019-01-15 06:59:00 1           0                       0.8834838 \n",
       "7  2019-04-18 11:45:00 0           0                       0.7209007 \n",
       "8  2020-02-12 17:35:00 1           0                       0.7373989 \n",
       "9  2019-10-10 03:52:00 1           0                       0.7376401 \n",
       "10 2020-01-16 18:22:00 1           0                       0.7327157 \n",
       "11 2020-03-30 14:37:00 0           1                       0.6393337 \n",
       "12 2019-11-19 03:56:00 0           0                       0.8066095 \n",
       "13 2019-02-11 11:54:00 0           0                       0.6906416 \n",
       "14 2019-05-11 11:06:00 1           0                       0.7345093 \n",
       "15 2019-05-03 03:38:00 1           0                       0.5496709 \n",
       "16 2019-06-14 09:53:00 0           0                       0.5984433 \n",
       "17 2019-04-20 13:19:00 1           0                       0.8925185 \n",
       "18 2020-02-08 06:17:00 1           0                       0.6554213 \n",
       "19 2019-01-27 21:31:00 1           0                       0.7241807 \n",
       "20 2019-03-04 23:17:00 0           0                       0.5330029 \n",
       "21 2019-02-28 09:49:00 1           0                       0.5442423 \n",
       "22 2019-05-02 05:02:00 1           0                       0.5610873 \n",
       "23 2020-03-29 06:00:00 0           0                       0.7590947 \n",
       "24 2019-06-24 06:46:00 1           1                       0.7394413 \n",
       "25 2019-03-08 23:28:00 1           1                       0.6325749 \n",
       "26 2019-04-17 22:32:00 1           1                       0.6918880 \n",
       "27 2020-01-11 11:08:00 1           0                       0.7324723 \n",
       "   pred_death_24hr_recent abs_diff0_24 transfer\n",
       "1  0.18836503             0.5          1       \n",
       "2  0.32946409             0.5          0       \n",
       "3  0.34595124             0.5          0       \n",
       "4  0.20044141             0.5          0       \n",
       "5  0.27566563             0.5          1       \n",
       "6  0.39151948             0.5          1       \n",
       "7  0.21101473             0.5          0       \n",
       "8  0.23933698             0.5          1       \n",
       "9  0.21183136             0.5          1       \n",
       "10 0.24238043             0.5          1       \n",
       "11 0.18878564             0.5          1       \n",
       "12 0.31641917             0.5          0       \n",
       "13 0.20826471             0.5          0       \n",
       "14 0.25061122             0.5          1       \n",
       "15 0.04465135             0.5          1       \n",
       "16 0.12750511             0.5          0       \n",
       "17 0.41847357             0.5          1       \n",
       "18 0.17758573             0.5          1       \n",
       "19 0.24340748             0.5          1       \n",
       "20 0.03365377             0.5          0       \n",
       "21 0.02793682             0.5          1       \n",
       "22 0.05252901             0.5          1       \n",
       "23 0.21166600             0.5          0       \n",
       "24 0.28618598             0.5          0       \n",
       "25 0.18249292             0.5          0       \n",
       "26 0.18118481             0.5          0       \n",
       "27 0.27897978             0.5          1       \n",
       "   first_ip_lv_of_care                                      first_ip_event_type\n",
       "1  Critical Care                                            Patient Update     \n",
       "2  IICU/Intermediate Care (Assessment or intervention q2-4) Patient Update     \n",
       "3  IICU/Intermediate Care (Assessment or intervention q2-4) Patient Update     \n",
       "4  Critical Care                                            Patient Update     \n",
       "5  Critical Care                                            Patient Update     \n",
       "6  Critical Care                                            Patient Update     \n",
       "7  IICU/Intermediate Care (Assessment or intervention q2-4) Patient Update     \n",
       "8  Critical Care                                            Patient Update     \n",
       "9  Critical Care                                            Patient Update     \n",
       "10 Critical Care                                            Patient Update     \n",
       "11 IICU/Intermediate Care (Assessment or intervention q2-4) Patient Update     \n",
       "12 Acute Care (Assessment or intervention q4-8)             Patient Update     \n",
       "13 Acute Care (Assessment or intervention q4-8)             Patient Update     \n",
       "14 Critical Care                                            Patient Update     \n",
       "15 Critical Care                                            Patient Update     \n",
       "16 Acute Care (Assessment or intervention q4-8)             Patient Update     \n",
       "17 Critical Care                                            Patient Update     \n",
       "18 Critical Care                                            Patient Update     \n",
       "19 Critical Care                                            Patient Update     \n",
       "20 Acute Care (Assessment or intervention q4-8)             Patient Update     \n",
       "21                                                          Patient Update     \n",
       "22 Critical Care                                            Patient Update     \n",
       "23 IICU/Intermediate Care (Assessment or intervention q2-4) Patient Update     \n",
       "24 Critical Care                                            Patient Update     \n",
       "25 Critical Care                                            Patient Update     \n",
       "26 Critical Care                                            Patient Update     \n",
       "27 Critical Care                                            Patient Update     \n",
       "   first_ip_pat_service          last_emerg_lv_of_care last_emerg_event_type\n",
       "1  ICU Trauma/GenSurg                                  Patient Update       \n",
       "2  Cardiology                                          Patient Update       \n",
       "3  Cardiology                                          Admission            \n",
       "4  Critical Care                                       Admission            \n",
       "5  Critical Care                                       Patient Update       \n",
       "6  ICU Trauma/GenSurg                                  Transfer In          \n",
       "7  General Medicine (PAMF)                             Admission            \n",
       "8  Critical Care                                       Patient Update       \n",
       "9  Critical Care                                       Patient Update       \n",
       "10 Critical Care                                       Transfer In          \n",
       "11 Medicine                                            Census               \n",
       "12 Cardiology                                          Transfer In          \n",
       "13 Neurology                                           Census               \n",
       "14 Critical Care                                       Transfer In          \n",
       "15 Emergency Critical Care                             Transfer In          \n",
       "16 General Medicine (University)                       Transfer In          \n",
       "17 Critical Care                                       Admission            \n",
       "18 Emergency Medicine                                  Patient Update       \n",
       "19 Emergency Critical Care                             Transfer In          \n",
       "20 General Medicine (University)                       Admission            \n",
       "21 Critical Care                                       Census               \n",
       "22 Emergency Critical Care                             Transfer In          \n",
       "23 Critical Care                                       Patient Update       \n",
       "24 Emergency                                           Admission            \n",
       "25 Cardiology                                          Patient Update       \n",
       "26 Critical Care                                       Transfer In          \n",
       "27 Trauma                                              Patient Update       \n",
       "   last_emerg_pat_service\n",
       "1  Emergency Medicine    \n",
       "2  Emergency Medicine    \n",
       "3  Emergency             \n",
       "4  Emergency             \n",
       "5  Emergency Medicine    \n",
       "6  Emergency             \n",
       "7  Emergency             \n",
       "8  Emergency Medicine    \n",
       "9  Emergency Medicine    \n",
       "10 Emergency Medicine    \n",
       "11 Emergency Medicine    \n",
       "12 Emergency Medicine    \n",
       "13 Emergency             \n",
       "14 Emergency             \n",
       "15 Emergency             \n",
       "16 Emergency             \n",
       "17 Emergency             \n",
       "18 Emergency Medicine    \n",
       "19 Emergency             \n",
       "20 Emergency             \n",
       "21 Emergency             \n",
       "22 Emergency             \n",
       "23 Emergency Medicine    \n",
       "24 Emergency             \n",
       "25 Emergency Medicine    \n",
       "26 Emergency             \n",
       "27 Emergency Medicine    \n",
       "   trajectory                                                                                                                                                                           \n",
       "1  Critical Care -> Acute Care (Assessment or intervention q4-8)                                                                                                                        \n",
       "2  IICU/Intermediate Care (Assessment or intervention q2-4) -> Acute Care (Assessment or intervention q4-8)                                                                             \n",
       "3  IICU/Intermediate Care (Assessment or intervention q2-4)                                                                                                                             \n",
       "4  Critical Care                                                                                                                                                                        \n",
       "5  Critical Care -> Acute Care (Assessment or intervention q4-8)                                                                                                                        \n",
       "6  Critical Care -> Acute Care (Assessment or intervention q4-8)                                                                                                                        \n",
       "7  IICU/Intermediate Care (Assessment or intervention q2-4)                                                                                                                             \n",
       "8  Critical Care -> IICU/Intermediate Care (Assessment or intervention q2-4) -> Acute Care (Assessment or intervention q4-8)                                                            \n",
       "9  Critical Care -> Acute Care (Assessment or intervention q4-8)                                                                                                                        \n",
       "10 Critical Care -> Acute Care (Assessment or intervention q4-8)                                                                                                                        \n",
       "11 IICU/Intermediate Care (Assessment or intervention q2-4) -> Acute Care (Assessment or intervention q4-8)                                                                             \n",
       "12 Acute Care (Assessment or intervention q4-8)                                                                                                                                         \n",
       "13 Acute Care (Assessment or intervention q4-8)                                                                                                                                         \n",
       "14 Critical Care -> Acute Care (Assessment or intervention q4-8)                                                                                                                        \n",
       "15 Critical Care -> Acute Care (Assessment or intervention q4-8)                                                                                                                        \n",
       "16 Acute Care (Assessment or intervention q4-8)                                                                                                                                         \n",
       "17 Critical Care -> Acute Care (Assessment or intervention q4-8)                                                                                                                        \n",
       "18 Critical Care -> Acute Care (Assessment or intervention q4-8)                                                                                                                        \n",
       "19 Critical Care -> IICU/Intermediate Care (Assessment or intervention q2-4)                                                                                                            \n",
       "20 Acute Care (Assessment or intervention q4-8)                                                                                                                                         \n",
       "21 nan -> Critical Care -> IICU/Intermediate Care (Assessment or intervention q2-4)                                                                                                     \n",
       "22 Critical Care -> IICU/Intermediate Care (Assessment or intervention q2-4) -> Acute Care (Assessment or intervention q4-8)                                                            \n",
       "23 IICU/Intermediate Care (Assessment or intervention q2-4) -> Critical Care -> Acute Care (Assessment or intervention q4-8) -> IICU/Intermediate Care (Assessment or intervention q2-4)\n",
       "24 Critical Care                                                                                                                                                                        \n",
       "25 Critical Care                                                                                                                                                                        \n",
       "26 Critical Care                                                                                                                                                                        \n",
       "27 Critical Care -> IICU/Intermediate Care (Assessment or intervention q2-4)                                                                                                            \n",
       "   trajectory_length\n",
       "1  2                \n",
       "2  2                \n",
       "3  1                \n",
       "4  1                \n",
       "5  2                \n",
       "6  2                \n",
       "7  1                \n",
       "8  3                \n",
       "9  2                \n",
       "10 2                \n",
       "11 2                \n",
       "12 1                \n",
       "13 1                \n",
       "14 2                \n",
       "15 2                \n",
       "16 1                \n",
       "17 2                \n",
       "18 2                \n",
       "19 2                \n",
       "20 1                \n",
       "21 3                \n",
       "22 3                \n",
       "23 4                \n",
       "24 1                \n",
       "25 1                \n",
       "26 1                \n",
       "27 2                "
      ]
     },
     "metadata": {},
     "output_type": "display_data"
    }
   ],
   "source": [
    "comb_diff %>% filter(abs_diff0_24 == 0.5) %>% arrange(mrn, admit_time)"
   ]
  },
  {
   "cell_type": "code",
   "execution_count": 55,
   "metadata": {},
   "outputs": [
    {
     "data": {
      "text/html": [
       "<table>\n",
       "<caption>A data.frame: 80 × 4</caption>\n",
       "<thead>\n",
       "\t<tr><th scope=col>mrn</th><th scope=col>anon_id</th><th scope=col>admit_time</th><th scope=col>jitter</th></tr>\n",
       "\t<tr><th scope=col>&lt;int&gt;</th><th scope=col>&lt;chr&gt;</th><th scope=col>&lt;chr&gt;</th><th scope=col>&lt;chr&gt;</th></tr>\n",
       "</thead>\n",
       "<tbody>\n",
       "\t<tr><td>  320721</td><td>JCd79e21 </td><td>2019-01-07 05:12:00</td><td>-24 days +00:00:00.000000000</td></tr>\n",
       "\t<tr><td>  426379</td><td>JCccaf40 </td><td>2019-10-31 04:28:00</td><td>-9 days +00:00:00.000000000 </td></tr>\n",
       "\t<tr><td> 1233022</td><td>JCd71da6 </td><td>2019-02-08 06:55:00</td><td>-23 days +00:00:00.000000000</td></tr>\n",
       "\t<tr><td> 1550631</td><td>JCd54f0a </td><td>2019-11-01 23:35:00</td><td>4 days 00:00:00.000000000   </td></tr>\n",
       "\t<tr><td> 2010247</td><td>JCe45f13 </td><td>2019-08-23 21:04:00</td><td>31 days 00:00:00.000000000  </td></tr>\n",
       "\t<tr><td> 2591014</td><td>JCe4cc9a </td><td>2020-03-06 03:42:00</td><td>22 days 00:00:00.000000000  </td></tr>\n",
       "\t<tr><td> 3404373</td><td>JC2a1b3e1</td><td>2019-03-08 15:21:00</td><td>-25 days +00:00:00.000000000</td></tr>\n",
       "\t<tr><td> 3404373</td><td>JC2a1b3e1</td><td>2019-06-10 15:37:00</td><td>-25 days +00:00:00.000000000</td></tr>\n",
       "\t<tr><td> 3726924</td><td>JCda4f94 </td><td>2019-08-07 20:38:00</td><td>-12 days +00:00:00.000000000</td></tr>\n",
       "\t<tr><td> 3795143</td><td>JCe01b09 </td><td>2019-09-20 06:04:00</td><td>-17 days +00:00:00.000000000</td></tr>\n",
       "\t<tr><td> 4322491</td><td>JCea024c </td><td>2019-05-12 18:06:00</td><td>20 days 00:00:00.000000000  </td></tr>\n",
       "\t<tr><td> 5197512</td><td>JCdc5d49 </td><td>2019-04-08 03:31:00</td><td>-15 days +00:00:00.000000000</td></tr>\n",
       "\t<tr><td> 5197512</td><td>JCdc5d49 </td><td>2020-01-06 05:29:00</td><td>-15 days +00:00:00.000000000</td></tr>\n",
       "\t<tr><td> 5197520</td><td>JCd30547 </td><td>2020-02-26 21:33:00</td><td>-22 days +00:00:00.000000000</td></tr>\n",
       "\t<tr><td> 6238224</td><td>JCcdbe93 </td><td>2019-04-14 01:08:00</td><td>30 days 00:00:00.000000000  </td></tr>\n",
       "\t<tr><td> 7449598</td><td>JCd649cc </td><td>2019-12-09 23:21:00</td><td>-26 days +00:00:00.000000000</td></tr>\n",
       "\t<tr><td> 8304909</td><td>JCe2435b </td><td>2020-02-20 20:45:00</td><td>-30 days +00:00:00.000000000</td></tr>\n",
       "\t<tr><td> 9918129</td><td>JCd652cf </td><td>2019-06-16 13:06:00</td><td>-32 days +00:00:00.000000000</td></tr>\n",
       "\t<tr><td> 9996489</td><td>JCcf91c6 </td><td>2020-02-16 05:45:00</td><td>6 days 00:00:00.000000000   </td></tr>\n",
       "\t<tr><td>10403228</td><td>JCd31741 </td><td>2020-02-11 12:10:00</td><td>11 days 00:00:00.000000000  </td></tr>\n",
       "\t<tr><td>10703015</td><td>JCe8a036 </td><td>2019-07-23 21:17:00</td><td>24 days 00:00:00.000000000  </td></tr>\n",
       "\t<tr><td>12058939</td><td>JCcd1fc8 </td><td>2019-05-29 03:02:00</td><td>-27 days +00:00:00.000000000</td></tr>\n",
       "\t<tr><td>12459715</td><td>JCdcfeca </td><td>2019-08-23 02:40:00</td><td>-25 days +00:00:00.000000000</td></tr>\n",
       "\t<tr><td>12525846</td><td>JCdcce3e </td><td>2019-09-20 02:43:00</td><td>-4 days +00:00:00.000000000 </td></tr>\n",
       "\t<tr><td>12965349</td><td>JCdb60b9 </td><td>2019-01-30 07:48:00</td><td>-12 days +00:00:00.000000000</td></tr>\n",
       "\t<tr><td>13033154</td><td>JCdceb26 </td><td>2019-05-04 03:25:00</td><td>29 days 00:00:00.000000000  </td></tr>\n",
       "\t<tr><td>13554613</td><td>JCdb215e </td><td>2020-01-14 02:26:00</td><td>-28 days +00:00:00.000000000</td></tr>\n",
       "\t<tr><td>13554613</td><td>JCdb215e </td><td>2020-02-07 04:03:00</td><td>-28 days +00:00:00.000000000</td></tr>\n",
       "\t<tr><td>13638739</td><td>JCd91ab7 </td><td>2020-03-10 23:32:00</td><td>9 days 00:00:00.000000000   </td></tr>\n",
       "\t<tr><td>13781901</td><td>JCd25b42 </td><td>2019-06-22 08:56:00</td><td>-7 days +00:00:00.000000000 </td></tr>\n",
       "\t<tr><td>16706707</td><td>JCcc4d1b </td><td>2020-01-10 00:56:00</td><td>-17 days +00:00:00.000000000</td></tr>\n",
       "\t<tr><td>16745622</td><td>JCcb76f7 </td><td>2020-01-22 23:02:00</td><td>-4 days +00:00:00.000000000 </td></tr>\n",
       "\t<tr><td>17742172</td><td>JCe4a797 </td><td>2019-10-23 08:10:00</td><td>7 days 00:00:00.000000000   </td></tr>\n",
       "\t<tr><td>18321935</td><td>JCd9c6d3 </td><td>2019-08-25 04:55:00</td><td>-18 days +00:00:00.000000000</td></tr>\n",
       "\t<tr><td>18487991</td><td>JCdd9a79 </td><td>2020-01-01 03:38:00</td><td>8 days 00:00:00.000000000   </td></tr>\n",
       "\t<tr><td>19022623</td><td>JCce300b </td><td>2019-12-14 01:04:00</td><td>30 days 00:00:00.000000000  </td></tr>\n",
       "\t<tr><td>19039593</td><td>JCe6f82d </td><td>2019-03-02 04:24:00</td><td>11 days 00:00:00.000000000  </td></tr>\n",
       "\t<tr><td>19680768</td><td>JCdd065d </td><td>2019-05-09 11:10:00</td><td>-24 days +00:00:00.000000000</td></tr>\n",
       "\t<tr><td>20034005</td><td>JCe8fd34 </td><td>2019-08-18 20:59:00</td><td>-26 days +00:00:00.000000000</td></tr>\n",
       "\t<tr><td>20539466</td><td>JCde3b70 </td><td>2019-12-25 09:08:00</td><td>-22 days +00:00:00.000000000</td></tr>\n",
       "\t<tr><td>21685326</td><td>JCe13ee2 </td><td>2019-04-27 09:28:00</td><td>-18 days +00:00:00.000000000</td></tr>\n",
       "\t<tr><td>23726524</td><td>JCe46765 </td><td>2020-02-15 07:17:00</td><td>21 days 00:00:00.000000000  </td></tr>\n",
       "\t<tr><td>30344139</td><td>JCe9b234 </td><td>2019-04-25 20:35:00</td><td>-24 days +00:00:00.000000000</td></tr>\n",
       "\t<tr><td>30408553</td><td>JCe92d7a </td><td>2019-12-02 02:47:00</td><td>-21 days +00:00:00.000000000</td></tr>\n",
       "\t<tr><td>31037849</td><td>JCe9e4e1 </td><td>2019-08-30 11:24:00</td><td>-14 days +00:00:00.000000000</td></tr>\n",
       "\t<tr><td>31049778</td><td>JCdddf7c </td><td>2019-11-15 22:45:00</td><td>10 days 00:00:00.000000000  </td></tr>\n",
       "\t<tr><td>31298060</td><td>JCe35ee6 </td><td>2019-07-02 05:42:00</td><td>-6 days +00:00:00.000000000 </td></tr>\n",
       "\t<tr><td>31633456</td><td>JCd69bf6 </td><td>2019-04-04 13:05:00</td><td>-29 days +00:00:00.000000000</td></tr>\n",
       "\t<tr><td>32585101</td><td>JCe707f8 </td><td>2019-02-22 12:04:00</td><td>9 days 00:00:00.000000000   </td></tr>\n",
       "\t<tr><td>33808544</td><td>JCd268e5 </td><td>2019-02-14 03:58:00</td><td>-12 days +00:00:00.000000000</td></tr>\n",
       "\t<tr><td>34007724</td><td>JCd5f913 </td><td>2020-02-17 03:06:00</td><td>-11 days +00:00:00.000000000</td></tr>\n",
       "\t<tr><td>35588730</td><td>JCe03bac </td><td>2019-01-13 07:44:00</td><td>-12 days +00:00:00.000000000</td></tr>\n",
       "\t<tr><td>36366433</td><td>JCdd7007 </td><td>2019-02-08 03:16:00</td><td>19 days 00:00:00.000000000  </td></tr>\n",
       "\t<tr><td>36632446</td><td>JCd30cd1 </td><td>2019-07-11 01:26:00</td><td>11 days 00:00:00.000000000  </td></tr>\n",
       "\t<tr><td>38440350</td><td>JCeb010d </td><td>2019-02-14 21:24:00</td><td>8 days 00:00:00.000000000   </td></tr>\n",
       "\t<tr><td>40528754</td><td>JCe302e6 </td><td>2020-01-07 12:59:00</td><td>-18 days +00:00:00.000000000</td></tr>\n",
       "\t<tr><td>40839342</td><td>JCd043c5 </td><td>2020-01-11 19:37:00</td><td>23 days 00:00:00.000000000  </td></tr>\n",
       "\t<tr><td>42655324</td><td>JCd9ad09 </td><td>2020-01-22 17:36:00</td><td>-17 days +00:00:00.000000000</td></tr>\n",
       "\t<tr><td>43394980</td><td>JCce916f </td><td>2019-08-15 16:51:00</td><td>-15 days +00:00:00.000000000</td></tr>\n",
       "\t<tr><td>60237518</td><td>JCde7c64 </td><td>2019-01-16 00:57:00</td><td>10 days 00:00:00.000000000  </td></tr>\n",
       "\t<tr><td>60523495</td><td>JCd9202c </td><td>2019-03-13 12:04:00</td><td>22 days 00:00:00.000000000  </td></tr>\n",
       "\t<tr><td>61705877</td><td>JCdbfd7f </td><td>2019-03-30 10:28:00</td><td>-31 days +00:00:00.000000000</td></tr>\n",
       "\t<tr><td>70431994</td><td>JCd1d133 </td><td>2019-04-19 02:38:00</td><td>31 days 00:00:00.000000000  </td></tr>\n",
       "\t<tr><td>72211055</td><td>JCdb4231 </td><td>2019-09-18 19:21:00</td><td>-28 days +00:00:00.000000000</td></tr>\n",
       "\t<tr><td>73111528</td><td>JCd95469 </td><td>2019-08-27 21:07:00</td><td>-12 days +00:00:00.000000000</td></tr>\n",
       "\t<tr><td>73632978</td><td>JCe4610c </td><td>2020-01-09 15:00:00</td><td>-31 days +00:00:00.000000000</td></tr>\n",
       "\t<tr><td>74923913</td><td>JCe42c6c </td><td>2019-09-19 21:42:00</td><td>-4 days +00:00:00.000000000 </td></tr>\n",
       "\t<tr><td>75287904</td><td>JC29f91d9</td><td>2019-06-02 04:25:00</td><td>25 days 00:00:00.000000000  </td></tr>\n",
       "\t<tr><td>75709337</td><td>JC2a18ac2</td><td>2019-06-11 09:57:00</td><td>-3 days +00:00:00.000000000 </td></tr>\n",
       "\t<tr><td>75789826</td><td>JC2a2ebcb</td><td>2019-04-27 09:28:00</td><td>4 days 00:00:00.000000000   </td></tr>\n",
       "\t<tr><td>76099480</td><td>JC2a08124</td><td>2019-04-12 21:12:00</td><td>-5 days +00:00:00.000000000 </td></tr>\n",
       "\t<tr><td>76119031</td><td>JC2a2ac04</td><td>2019-04-08 03:40:00</td><td>-14 days +00:00:00.000000000</td></tr>\n",
       "\t<tr><td>76185131</td><td>JC2a17a59</td><td>2019-04-22 22:06:00</td><td>-12 days +00:00:00.000000000</td></tr>\n",
       "\t<tr><td>76189257</td><td>JC2a12b37</td><td>2019-06-02 19:31:00</td><td>27 days 00:00:00.000000000  </td></tr>\n",
       "\t<tr><td>76286491</td><td>JC2a0350b</td><td>2019-05-01 05:17:00</td><td>-27 days +00:00:00.000000000</td></tr>\n",
       "\t<tr><td>76414937</td><td>JC2a0c5e8</td><td>2019-06-28 01:28:00</td><td>5 days 00:00:00.000000000   </td></tr>\n",
       "\t<tr><td>77140606</td><td>JC2a0a94b</td><td>2019-11-15 10:57:00</td><td>9 days 00:00:00.000000000   </td></tr>\n",
       "\t<tr><td>77286615</td><td>JC29fb1aa</td><td>2020-01-04 00:32:00</td><td>26 days 00:00:00.000000000  </td></tr>\n",
       "\t<tr><td>77431609</td><td>JC2a1185a</td><td>2020-01-21 21:57:00</td><td>11 days 00:00:00.000000000  </td></tr>\n",
       "\t<tr><td>77451557</td><td>JC2a04c24</td><td>2020-01-10 08:52:00</td><td>-5 days +00:00:00.000000000 </td></tr>\n",
       "</tbody>\n",
       "</table>\n"
      ],
      "text/latex": [
       "A data.frame: 80 × 4\n",
       "\\begin{tabular}{llll}\n",
       " mrn & anon\\_id & admit\\_time & jitter\\\\\n",
       " <int> & <chr> & <chr> & <chr>\\\\\n",
       "\\hline\n",
       "\t   320721 & JCd79e21  & 2019-01-07 05:12:00 & -24 days +00:00:00.000000000\\\\\n",
       "\t   426379 & JCccaf40  & 2019-10-31 04:28:00 & -9 days +00:00:00.000000000 \\\\\n",
       "\t  1233022 & JCd71da6  & 2019-02-08 06:55:00 & -23 days +00:00:00.000000000\\\\\n",
       "\t  1550631 & JCd54f0a  & 2019-11-01 23:35:00 & 4 days 00:00:00.000000000   \\\\\n",
       "\t  2010247 & JCe45f13  & 2019-08-23 21:04:00 & 31 days 00:00:00.000000000  \\\\\n",
       "\t  2591014 & JCe4cc9a  & 2020-03-06 03:42:00 & 22 days 00:00:00.000000000  \\\\\n",
       "\t  3404373 & JC2a1b3e1 & 2019-03-08 15:21:00 & -25 days +00:00:00.000000000\\\\\n",
       "\t  3404373 & JC2a1b3e1 & 2019-06-10 15:37:00 & -25 days +00:00:00.000000000\\\\\n",
       "\t  3726924 & JCda4f94  & 2019-08-07 20:38:00 & -12 days +00:00:00.000000000\\\\\n",
       "\t  3795143 & JCe01b09  & 2019-09-20 06:04:00 & -17 days +00:00:00.000000000\\\\\n",
       "\t  4322491 & JCea024c  & 2019-05-12 18:06:00 & 20 days 00:00:00.000000000  \\\\\n",
       "\t  5197512 & JCdc5d49  & 2019-04-08 03:31:00 & -15 days +00:00:00.000000000\\\\\n",
       "\t  5197512 & JCdc5d49  & 2020-01-06 05:29:00 & -15 days +00:00:00.000000000\\\\\n",
       "\t  5197520 & JCd30547  & 2020-02-26 21:33:00 & -22 days +00:00:00.000000000\\\\\n",
       "\t  6238224 & JCcdbe93  & 2019-04-14 01:08:00 & 30 days 00:00:00.000000000  \\\\\n",
       "\t  7449598 & JCd649cc  & 2019-12-09 23:21:00 & -26 days +00:00:00.000000000\\\\\n",
       "\t  8304909 & JCe2435b  & 2020-02-20 20:45:00 & -30 days +00:00:00.000000000\\\\\n",
       "\t  9918129 & JCd652cf  & 2019-06-16 13:06:00 & -32 days +00:00:00.000000000\\\\\n",
       "\t  9996489 & JCcf91c6  & 2020-02-16 05:45:00 & 6 days 00:00:00.000000000   \\\\\n",
       "\t 10403228 & JCd31741  & 2020-02-11 12:10:00 & 11 days 00:00:00.000000000  \\\\\n",
       "\t 10703015 & JCe8a036  & 2019-07-23 21:17:00 & 24 days 00:00:00.000000000  \\\\\n",
       "\t 12058939 & JCcd1fc8  & 2019-05-29 03:02:00 & -27 days +00:00:00.000000000\\\\\n",
       "\t 12459715 & JCdcfeca  & 2019-08-23 02:40:00 & -25 days +00:00:00.000000000\\\\\n",
       "\t 12525846 & JCdcce3e  & 2019-09-20 02:43:00 & -4 days +00:00:00.000000000 \\\\\n",
       "\t 12965349 & JCdb60b9  & 2019-01-30 07:48:00 & -12 days +00:00:00.000000000\\\\\n",
       "\t 13033154 & JCdceb26  & 2019-05-04 03:25:00 & 29 days 00:00:00.000000000  \\\\\n",
       "\t 13554613 & JCdb215e  & 2020-01-14 02:26:00 & -28 days +00:00:00.000000000\\\\\n",
       "\t 13554613 & JCdb215e  & 2020-02-07 04:03:00 & -28 days +00:00:00.000000000\\\\\n",
       "\t 13638739 & JCd91ab7  & 2020-03-10 23:32:00 & 9 days 00:00:00.000000000   \\\\\n",
       "\t 13781901 & JCd25b42  & 2019-06-22 08:56:00 & -7 days +00:00:00.000000000 \\\\\n",
       "\t 16706707 & JCcc4d1b  & 2020-01-10 00:56:00 & -17 days +00:00:00.000000000\\\\\n",
       "\t 16745622 & JCcb76f7  & 2020-01-22 23:02:00 & -4 days +00:00:00.000000000 \\\\\n",
       "\t 17742172 & JCe4a797  & 2019-10-23 08:10:00 & 7 days 00:00:00.000000000   \\\\\n",
       "\t 18321935 & JCd9c6d3  & 2019-08-25 04:55:00 & -18 days +00:00:00.000000000\\\\\n",
       "\t 18487991 & JCdd9a79  & 2020-01-01 03:38:00 & 8 days 00:00:00.000000000   \\\\\n",
       "\t 19022623 & JCce300b  & 2019-12-14 01:04:00 & 30 days 00:00:00.000000000  \\\\\n",
       "\t 19039593 & JCe6f82d  & 2019-03-02 04:24:00 & 11 days 00:00:00.000000000  \\\\\n",
       "\t 19680768 & JCdd065d  & 2019-05-09 11:10:00 & -24 days +00:00:00.000000000\\\\\n",
       "\t 20034005 & JCe8fd34  & 2019-08-18 20:59:00 & -26 days +00:00:00.000000000\\\\\n",
       "\t 20539466 & JCde3b70  & 2019-12-25 09:08:00 & -22 days +00:00:00.000000000\\\\\n",
       "\t 21685326 & JCe13ee2  & 2019-04-27 09:28:00 & -18 days +00:00:00.000000000\\\\\n",
       "\t 23726524 & JCe46765  & 2020-02-15 07:17:00 & 21 days 00:00:00.000000000  \\\\\n",
       "\t 30344139 & JCe9b234  & 2019-04-25 20:35:00 & -24 days +00:00:00.000000000\\\\\n",
       "\t 30408553 & JCe92d7a  & 2019-12-02 02:47:00 & -21 days +00:00:00.000000000\\\\\n",
       "\t 31037849 & JCe9e4e1  & 2019-08-30 11:24:00 & -14 days +00:00:00.000000000\\\\\n",
       "\t 31049778 & JCdddf7c  & 2019-11-15 22:45:00 & 10 days 00:00:00.000000000  \\\\\n",
       "\t 31298060 & JCe35ee6  & 2019-07-02 05:42:00 & -6 days +00:00:00.000000000 \\\\\n",
       "\t 31633456 & JCd69bf6  & 2019-04-04 13:05:00 & -29 days +00:00:00.000000000\\\\\n",
       "\t 32585101 & JCe707f8  & 2019-02-22 12:04:00 & 9 days 00:00:00.000000000   \\\\\n",
       "\t 33808544 & JCd268e5  & 2019-02-14 03:58:00 & -12 days +00:00:00.000000000\\\\\n",
       "\t 34007724 & JCd5f913  & 2020-02-17 03:06:00 & -11 days +00:00:00.000000000\\\\\n",
       "\t 35588730 & JCe03bac  & 2019-01-13 07:44:00 & -12 days +00:00:00.000000000\\\\\n",
       "\t 36366433 & JCdd7007  & 2019-02-08 03:16:00 & 19 days 00:00:00.000000000  \\\\\n",
       "\t 36632446 & JCd30cd1  & 2019-07-11 01:26:00 & 11 days 00:00:00.000000000  \\\\\n",
       "\t 38440350 & JCeb010d  & 2019-02-14 21:24:00 & 8 days 00:00:00.000000000   \\\\\n",
       "\t 40528754 & JCe302e6  & 2020-01-07 12:59:00 & -18 days +00:00:00.000000000\\\\\n",
       "\t 40839342 & JCd043c5  & 2020-01-11 19:37:00 & 23 days 00:00:00.000000000  \\\\\n",
       "\t 42655324 & JCd9ad09  & 2020-01-22 17:36:00 & -17 days +00:00:00.000000000\\\\\n",
       "\t 43394980 & JCce916f  & 2019-08-15 16:51:00 & -15 days +00:00:00.000000000\\\\\n",
       "\t 60237518 & JCde7c64  & 2019-01-16 00:57:00 & 10 days 00:00:00.000000000  \\\\\n",
       "\t 60523495 & JCd9202c  & 2019-03-13 12:04:00 & 22 days 00:00:00.000000000  \\\\\n",
       "\t 61705877 & JCdbfd7f  & 2019-03-30 10:28:00 & -31 days +00:00:00.000000000\\\\\n",
       "\t 70431994 & JCd1d133  & 2019-04-19 02:38:00 & 31 days 00:00:00.000000000  \\\\\n",
       "\t 72211055 & JCdb4231  & 2019-09-18 19:21:00 & -28 days +00:00:00.000000000\\\\\n",
       "\t 73111528 & JCd95469  & 2019-08-27 21:07:00 & -12 days +00:00:00.000000000\\\\\n",
       "\t 73632978 & JCe4610c  & 2020-01-09 15:00:00 & -31 days +00:00:00.000000000\\\\\n",
       "\t 74923913 & JCe42c6c  & 2019-09-19 21:42:00 & -4 days +00:00:00.000000000 \\\\\n",
       "\t 75287904 & JC29f91d9 & 2019-06-02 04:25:00 & 25 days 00:00:00.000000000  \\\\\n",
       "\t 75709337 & JC2a18ac2 & 2019-06-11 09:57:00 & -3 days +00:00:00.000000000 \\\\\n",
       "\t 75789826 & JC2a2ebcb & 2019-04-27 09:28:00 & 4 days 00:00:00.000000000   \\\\\n",
       "\t 76099480 & JC2a08124 & 2019-04-12 21:12:00 & -5 days +00:00:00.000000000 \\\\\n",
       "\t 76119031 & JC2a2ac04 & 2019-04-08 03:40:00 & -14 days +00:00:00.000000000\\\\\n",
       "\t 76185131 & JC2a17a59 & 2019-04-22 22:06:00 & -12 days +00:00:00.000000000\\\\\n",
       "\t 76189257 & JC2a12b37 & 2019-06-02 19:31:00 & 27 days 00:00:00.000000000  \\\\\n",
       "\t 76286491 & JC2a0350b & 2019-05-01 05:17:00 & -27 days +00:00:00.000000000\\\\\n",
       "\t 76414937 & JC2a0c5e8 & 2019-06-28 01:28:00 & 5 days 00:00:00.000000000   \\\\\n",
       "\t 77140606 & JC2a0a94b & 2019-11-15 10:57:00 & 9 days 00:00:00.000000000   \\\\\n",
       "\t 77286615 & JC29fb1aa & 2020-01-04 00:32:00 & 26 days 00:00:00.000000000  \\\\\n",
       "\t 77431609 & JC2a1185a & 2020-01-21 21:57:00 & 11 days 00:00:00.000000000  \\\\\n",
       "\t 77451557 & JC2a04c24 & 2020-01-10 08:52:00 & -5 days +00:00:00.000000000 \\\\\n",
       "\\end{tabular}\n"
      ],
      "text/markdown": [
       "\n",
       "A data.frame: 80 × 4\n",
       "\n",
       "| mrn &lt;int&gt; | anon_id &lt;chr&gt; | admit_time &lt;chr&gt; | jitter &lt;chr&gt; |\n",
       "|---|---|---|---|\n",
       "|   320721 | JCd79e21  | 2019-01-07 05:12:00 | -24 days +00:00:00.000000000 |\n",
       "|   426379 | JCccaf40  | 2019-10-31 04:28:00 | -9 days +00:00:00.000000000  |\n",
       "|  1233022 | JCd71da6  | 2019-02-08 06:55:00 | -23 days +00:00:00.000000000 |\n",
       "|  1550631 | JCd54f0a  | 2019-11-01 23:35:00 | 4 days 00:00:00.000000000    |\n",
       "|  2010247 | JCe45f13  | 2019-08-23 21:04:00 | 31 days 00:00:00.000000000   |\n",
       "|  2591014 | JCe4cc9a  | 2020-03-06 03:42:00 | 22 days 00:00:00.000000000   |\n",
       "|  3404373 | JC2a1b3e1 | 2019-03-08 15:21:00 | -25 days +00:00:00.000000000 |\n",
       "|  3404373 | JC2a1b3e1 | 2019-06-10 15:37:00 | -25 days +00:00:00.000000000 |\n",
       "|  3726924 | JCda4f94  | 2019-08-07 20:38:00 | -12 days +00:00:00.000000000 |\n",
       "|  3795143 | JCe01b09  | 2019-09-20 06:04:00 | -17 days +00:00:00.000000000 |\n",
       "|  4322491 | JCea024c  | 2019-05-12 18:06:00 | 20 days 00:00:00.000000000   |\n",
       "|  5197512 | JCdc5d49  | 2019-04-08 03:31:00 | -15 days +00:00:00.000000000 |\n",
       "|  5197512 | JCdc5d49  | 2020-01-06 05:29:00 | -15 days +00:00:00.000000000 |\n",
       "|  5197520 | JCd30547  | 2020-02-26 21:33:00 | -22 days +00:00:00.000000000 |\n",
       "|  6238224 | JCcdbe93  | 2019-04-14 01:08:00 | 30 days 00:00:00.000000000   |\n",
       "|  7449598 | JCd649cc  | 2019-12-09 23:21:00 | -26 days +00:00:00.000000000 |\n",
       "|  8304909 | JCe2435b  | 2020-02-20 20:45:00 | -30 days +00:00:00.000000000 |\n",
       "|  9918129 | JCd652cf  | 2019-06-16 13:06:00 | -32 days +00:00:00.000000000 |\n",
       "|  9996489 | JCcf91c6  | 2020-02-16 05:45:00 | 6 days 00:00:00.000000000    |\n",
       "| 10403228 | JCd31741  | 2020-02-11 12:10:00 | 11 days 00:00:00.000000000   |\n",
       "| 10703015 | JCe8a036  | 2019-07-23 21:17:00 | 24 days 00:00:00.000000000   |\n",
       "| 12058939 | JCcd1fc8  | 2019-05-29 03:02:00 | -27 days +00:00:00.000000000 |\n",
       "| 12459715 | JCdcfeca  | 2019-08-23 02:40:00 | -25 days +00:00:00.000000000 |\n",
       "| 12525846 | JCdcce3e  | 2019-09-20 02:43:00 | -4 days +00:00:00.000000000  |\n",
       "| 12965349 | JCdb60b9  | 2019-01-30 07:48:00 | -12 days +00:00:00.000000000 |\n",
       "| 13033154 | JCdceb26  | 2019-05-04 03:25:00 | 29 days 00:00:00.000000000   |\n",
       "| 13554613 | JCdb215e  | 2020-01-14 02:26:00 | -28 days +00:00:00.000000000 |\n",
       "| 13554613 | JCdb215e  | 2020-02-07 04:03:00 | -28 days +00:00:00.000000000 |\n",
       "| 13638739 | JCd91ab7  | 2020-03-10 23:32:00 | 9 days 00:00:00.000000000    |\n",
       "| 13781901 | JCd25b42  | 2019-06-22 08:56:00 | -7 days +00:00:00.000000000  |\n",
       "| 16706707 | JCcc4d1b  | 2020-01-10 00:56:00 | -17 days +00:00:00.000000000 |\n",
       "| 16745622 | JCcb76f7  | 2020-01-22 23:02:00 | -4 days +00:00:00.000000000  |\n",
       "| 17742172 | JCe4a797  | 2019-10-23 08:10:00 | 7 days 00:00:00.000000000    |\n",
       "| 18321935 | JCd9c6d3  | 2019-08-25 04:55:00 | -18 days +00:00:00.000000000 |\n",
       "| 18487991 | JCdd9a79  | 2020-01-01 03:38:00 | 8 days 00:00:00.000000000    |\n",
       "| 19022623 | JCce300b  | 2019-12-14 01:04:00 | 30 days 00:00:00.000000000   |\n",
       "| 19039593 | JCe6f82d  | 2019-03-02 04:24:00 | 11 days 00:00:00.000000000   |\n",
       "| 19680768 | JCdd065d  | 2019-05-09 11:10:00 | -24 days +00:00:00.000000000 |\n",
       "| 20034005 | JCe8fd34  | 2019-08-18 20:59:00 | -26 days +00:00:00.000000000 |\n",
       "| 20539466 | JCde3b70  | 2019-12-25 09:08:00 | -22 days +00:00:00.000000000 |\n",
       "| 21685326 | JCe13ee2  | 2019-04-27 09:28:00 | -18 days +00:00:00.000000000 |\n",
       "| 23726524 | JCe46765  | 2020-02-15 07:17:00 | 21 days 00:00:00.000000000   |\n",
       "| 30344139 | JCe9b234  | 2019-04-25 20:35:00 | -24 days +00:00:00.000000000 |\n",
       "| 30408553 | JCe92d7a  | 2019-12-02 02:47:00 | -21 days +00:00:00.000000000 |\n",
       "| 31037849 | JCe9e4e1  | 2019-08-30 11:24:00 | -14 days +00:00:00.000000000 |\n",
       "| 31049778 | JCdddf7c  | 2019-11-15 22:45:00 | 10 days 00:00:00.000000000   |\n",
       "| 31298060 | JCe35ee6  | 2019-07-02 05:42:00 | -6 days +00:00:00.000000000  |\n",
       "| 31633456 | JCd69bf6  | 2019-04-04 13:05:00 | -29 days +00:00:00.000000000 |\n",
       "| 32585101 | JCe707f8  | 2019-02-22 12:04:00 | 9 days 00:00:00.000000000    |\n",
       "| 33808544 | JCd268e5  | 2019-02-14 03:58:00 | -12 days +00:00:00.000000000 |\n",
       "| 34007724 | JCd5f913  | 2020-02-17 03:06:00 | -11 days +00:00:00.000000000 |\n",
       "| 35588730 | JCe03bac  | 2019-01-13 07:44:00 | -12 days +00:00:00.000000000 |\n",
       "| 36366433 | JCdd7007  | 2019-02-08 03:16:00 | 19 days 00:00:00.000000000   |\n",
       "| 36632446 | JCd30cd1  | 2019-07-11 01:26:00 | 11 days 00:00:00.000000000   |\n",
       "| 38440350 | JCeb010d  | 2019-02-14 21:24:00 | 8 days 00:00:00.000000000    |\n",
       "| 40528754 | JCe302e6  | 2020-01-07 12:59:00 | -18 days +00:00:00.000000000 |\n",
       "| 40839342 | JCd043c5  | 2020-01-11 19:37:00 | 23 days 00:00:00.000000000   |\n",
       "| 42655324 | JCd9ad09  | 2020-01-22 17:36:00 | -17 days +00:00:00.000000000 |\n",
       "| 43394980 | JCce916f  | 2019-08-15 16:51:00 | -15 days +00:00:00.000000000 |\n",
       "| 60237518 | JCde7c64  | 2019-01-16 00:57:00 | 10 days 00:00:00.000000000   |\n",
       "| 60523495 | JCd9202c  | 2019-03-13 12:04:00 | 22 days 00:00:00.000000000   |\n",
       "| 61705877 | JCdbfd7f  | 2019-03-30 10:28:00 | -31 days +00:00:00.000000000 |\n",
       "| 70431994 | JCd1d133  | 2019-04-19 02:38:00 | 31 days 00:00:00.000000000   |\n",
       "| 72211055 | JCdb4231  | 2019-09-18 19:21:00 | -28 days +00:00:00.000000000 |\n",
       "| 73111528 | JCd95469  | 2019-08-27 21:07:00 | -12 days +00:00:00.000000000 |\n",
       "| 73632978 | JCe4610c  | 2020-01-09 15:00:00 | -31 days +00:00:00.000000000 |\n",
       "| 74923913 | JCe42c6c  | 2019-09-19 21:42:00 | -4 days +00:00:00.000000000  |\n",
       "| 75287904 | JC29f91d9 | 2019-06-02 04:25:00 | 25 days 00:00:00.000000000   |\n",
       "| 75709337 | JC2a18ac2 | 2019-06-11 09:57:00 | -3 days +00:00:00.000000000  |\n",
       "| 75789826 | JC2a2ebcb | 2019-04-27 09:28:00 | 4 days 00:00:00.000000000    |\n",
       "| 76099480 | JC2a08124 | 2019-04-12 21:12:00 | -5 days +00:00:00.000000000  |\n",
       "| 76119031 | JC2a2ac04 | 2019-04-08 03:40:00 | -14 days +00:00:00.000000000 |\n",
       "| 76185131 | JC2a17a59 | 2019-04-22 22:06:00 | -12 days +00:00:00.000000000 |\n",
       "| 76189257 | JC2a12b37 | 2019-06-02 19:31:00 | 27 days 00:00:00.000000000   |\n",
       "| 76286491 | JC2a0350b | 2019-05-01 05:17:00 | -27 days +00:00:00.000000000 |\n",
       "| 76414937 | JC2a0c5e8 | 2019-06-28 01:28:00 | 5 days 00:00:00.000000000    |\n",
       "| 77140606 | JC2a0a94b | 2019-11-15 10:57:00 | 9 days 00:00:00.000000000    |\n",
       "| 77286615 | JC29fb1aa | 2020-01-04 00:32:00 | 26 days 00:00:00.000000000   |\n",
       "| 77431609 | JC2a1185a | 2020-01-21 21:57:00 | 11 days 00:00:00.000000000   |\n",
       "| 77451557 | JC2a04c24 | 2020-01-10 08:52:00 | -5 days +00:00:00.000000000  |\n",
       "\n"
      ],
      "text/plain": [
       "   mrn      anon_id   admit_time          jitter                      \n",
       "1    320721 JCd79e21  2019-01-07 05:12:00 -24 days +00:00:00.000000000\n",
       "2    426379 JCccaf40  2019-10-31 04:28:00 -9 days +00:00:00.000000000 \n",
       "3   1233022 JCd71da6  2019-02-08 06:55:00 -23 days +00:00:00.000000000\n",
       "4   1550631 JCd54f0a  2019-11-01 23:35:00 4 days 00:00:00.000000000   \n",
       "5   2010247 JCe45f13  2019-08-23 21:04:00 31 days 00:00:00.000000000  \n",
       "6   2591014 JCe4cc9a  2020-03-06 03:42:00 22 days 00:00:00.000000000  \n",
       "7   3404373 JC2a1b3e1 2019-03-08 15:21:00 -25 days +00:00:00.000000000\n",
       "8   3404373 JC2a1b3e1 2019-06-10 15:37:00 -25 days +00:00:00.000000000\n",
       "9   3726924 JCda4f94  2019-08-07 20:38:00 -12 days +00:00:00.000000000\n",
       "10  3795143 JCe01b09  2019-09-20 06:04:00 -17 days +00:00:00.000000000\n",
       "11  4322491 JCea024c  2019-05-12 18:06:00 20 days 00:00:00.000000000  \n",
       "12  5197512 JCdc5d49  2019-04-08 03:31:00 -15 days +00:00:00.000000000\n",
       "13  5197512 JCdc5d49  2020-01-06 05:29:00 -15 days +00:00:00.000000000\n",
       "14  5197520 JCd30547  2020-02-26 21:33:00 -22 days +00:00:00.000000000\n",
       "15  6238224 JCcdbe93  2019-04-14 01:08:00 30 days 00:00:00.000000000  \n",
       "16  7449598 JCd649cc  2019-12-09 23:21:00 -26 days +00:00:00.000000000\n",
       "17  8304909 JCe2435b  2020-02-20 20:45:00 -30 days +00:00:00.000000000\n",
       "18  9918129 JCd652cf  2019-06-16 13:06:00 -32 days +00:00:00.000000000\n",
       "19  9996489 JCcf91c6  2020-02-16 05:45:00 6 days 00:00:00.000000000   \n",
       "20 10403228 JCd31741  2020-02-11 12:10:00 11 days 00:00:00.000000000  \n",
       "21 10703015 JCe8a036  2019-07-23 21:17:00 24 days 00:00:00.000000000  \n",
       "22 12058939 JCcd1fc8  2019-05-29 03:02:00 -27 days +00:00:00.000000000\n",
       "23 12459715 JCdcfeca  2019-08-23 02:40:00 -25 days +00:00:00.000000000\n",
       "24 12525846 JCdcce3e  2019-09-20 02:43:00 -4 days +00:00:00.000000000 \n",
       "25 12965349 JCdb60b9  2019-01-30 07:48:00 -12 days +00:00:00.000000000\n",
       "26 13033154 JCdceb26  2019-05-04 03:25:00 29 days 00:00:00.000000000  \n",
       "27 13554613 JCdb215e  2020-01-14 02:26:00 -28 days +00:00:00.000000000\n",
       "28 13554613 JCdb215e  2020-02-07 04:03:00 -28 days +00:00:00.000000000\n",
       "29 13638739 JCd91ab7  2020-03-10 23:32:00 9 days 00:00:00.000000000   \n",
       "30 13781901 JCd25b42  2019-06-22 08:56:00 -7 days +00:00:00.000000000 \n",
       "31 16706707 JCcc4d1b  2020-01-10 00:56:00 -17 days +00:00:00.000000000\n",
       "32 16745622 JCcb76f7  2020-01-22 23:02:00 -4 days +00:00:00.000000000 \n",
       "33 17742172 JCe4a797  2019-10-23 08:10:00 7 days 00:00:00.000000000   \n",
       "34 18321935 JCd9c6d3  2019-08-25 04:55:00 -18 days +00:00:00.000000000\n",
       "35 18487991 JCdd9a79  2020-01-01 03:38:00 8 days 00:00:00.000000000   \n",
       "36 19022623 JCce300b  2019-12-14 01:04:00 30 days 00:00:00.000000000  \n",
       "37 19039593 JCe6f82d  2019-03-02 04:24:00 11 days 00:00:00.000000000  \n",
       "38 19680768 JCdd065d  2019-05-09 11:10:00 -24 days +00:00:00.000000000\n",
       "39 20034005 JCe8fd34  2019-08-18 20:59:00 -26 days +00:00:00.000000000\n",
       "40 20539466 JCde3b70  2019-12-25 09:08:00 -22 days +00:00:00.000000000\n",
       "41 21685326 JCe13ee2  2019-04-27 09:28:00 -18 days +00:00:00.000000000\n",
       "42 23726524 JCe46765  2020-02-15 07:17:00 21 days 00:00:00.000000000  \n",
       "43 30344139 JCe9b234  2019-04-25 20:35:00 -24 days +00:00:00.000000000\n",
       "44 30408553 JCe92d7a  2019-12-02 02:47:00 -21 days +00:00:00.000000000\n",
       "45 31037849 JCe9e4e1  2019-08-30 11:24:00 -14 days +00:00:00.000000000\n",
       "46 31049778 JCdddf7c  2019-11-15 22:45:00 10 days 00:00:00.000000000  \n",
       "47 31298060 JCe35ee6  2019-07-02 05:42:00 -6 days +00:00:00.000000000 \n",
       "48 31633456 JCd69bf6  2019-04-04 13:05:00 -29 days +00:00:00.000000000\n",
       "49 32585101 JCe707f8  2019-02-22 12:04:00 9 days 00:00:00.000000000   \n",
       "50 33808544 JCd268e5  2019-02-14 03:58:00 -12 days +00:00:00.000000000\n",
       "51 34007724 JCd5f913  2020-02-17 03:06:00 -11 days +00:00:00.000000000\n",
       "52 35588730 JCe03bac  2019-01-13 07:44:00 -12 days +00:00:00.000000000\n",
       "53 36366433 JCdd7007  2019-02-08 03:16:00 19 days 00:00:00.000000000  \n",
       "54 36632446 JCd30cd1  2019-07-11 01:26:00 11 days 00:00:00.000000000  \n",
       "55 38440350 JCeb010d  2019-02-14 21:24:00 8 days 00:00:00.000000000   \n",
       "56 40528754 JCe302e6  2020-01-07 12:59:00 -18 days +00:00:00.000000000\n",
       "57 40839342 JCd043c5  2020-01-11 19:37:00 23 days 00:00:00.000000000  \n",
       "58 42655324 JCd9ad09  2020-01-22 17:36:00 -17 days +00:00:00.000000000\n",
       "59 43394980 JCce916f  2019-08-15 16:51:00 -15 days +00:00:00.000000000\n",
       "60 60237518 JCde7c64  2019-01-16 00:57:00 10 days 00:00:00.000000000  \n",
       "61 60523495 JCd9202c  2019-03-13 12:04:00 22 days 00:00:00.000000000  \n",
       "62 61705877 JCdbfd7f  2019-03-30 10:28:00 -31 days +00:00:00.000000000\n",
       "63 70431994 JCd1d133  2019-04-19 02:38:00 31 days 00:00:00.000000000  \n",
       "64 72211055 JCdb4231  2019-09-18 19:21:00 -28 days +00:00:00.000000000\n",
       "65 73111528 JCd95469  2019-08-27 21:07:00 -12 days +00:00:00.000000000\n",
       "66 73632978 JCe4610c  2020-01-09 15:00:00 -31 days +00:00:00.000000000\n",
       "67 74923913 JCe42c6c  2019-09-19 21:42:00 -4 days +00:00:00.000000000 \n",
       "68 75287904 JC29f91d9 2019-06-02 04:25:00 25 days 00:00:00.000000000  \n",
       "69 75709337 JC2a18ac2 2019-06-11 09:57:00 -3 days +00:00:00.000000000 \n",
       "70 75789826 JC2a2ebcb 2019-04-27 09:28:00 4 days 00:00:00.000000000   \n",
       "71 76099480 JC2a08124 2019-04-12 21:12:00 -5 days +00:00:00.000000000 \n",
       "72 76119031 JC2a2ac04 2019-04-08 03:40:00 -14 days +00:00:00.000000000\n",
       "73 76185131 JC2a17a59 2019-04-22 22:06:00 -12 days +00:00:00.000000000\n",
       "74 76189257 JC2a12b37 2019-06-02 19:31:00 27 days 00:00:00.000000000  \n",
       "75 76286491 JC2a0350b 2019-05-01 05:17:00 -27 days +00:00:00.000000000\n",
       "76 76414937 JC2a0c5e8 2019-06-28 01:28:00 5 days 00:00:00.000000000   \n",
       "77 77140606 JC2a0a94b 2019-11-15 10:57:00 9 days 00:00:00.000000000   \n",
       "78 77286615 JC29fb1aa 2020-01-04 00:32:00 26 days 00:00:00.000000000  \n",
       "79 77431609 JC2a1185a 2020-01-21 21:57:00 11 days 00:00:00.000000000  \n",
       "80 77451557 JC2a04c24 2020-01-10 08:52:00 -5 days +00:00:00.000000000 "
      ]
     },
     "metadata": {},
     "output_type": "display_data"
    }
   ],
   "source": [
    "comb_diff %>% filter(abs_diff0_24 == 0.4) %>% arrange(mrn, admit_time) %>% select(mrn, anon_id, admit_time, jitter)"
   ]
  },
  {
   "cell_type": "code",
   "execution_count": 57,
   "metadata": {},
   "outputs": [
    {
     "data": {
      "text/html": [
       "10"
      ],
      "text/latex": [
       "10"
      ],
      "text/markdown": [
       "10"
      ],
      "text/plain": [
       "[1] 10"
      ]
     },
     "metadata": {},
     "output_type": "display_data"
    },
    {
     "data": {
      "text/html": [
       "10"
      ],
      "text/latex": [
       "10"
      ],
      "text/markdown": [
       "10"
      ],
      "text/plain": [
       "[1] 10"
      ]
     },
     "metadata": {},
     "output_type": "display_data"
    }
   ],
   "source": [
    "mrns <- c(320721, 426379,5197512, 5197520, 8304909, 9996489, 5197512, 6386387, 8332611, 8560666)\n",
    "anons <- c('JCd79e21', 'JCccaf40', 'JCdc5d49', 'JCd30547', 'JCe2435b', 'JCcf91c6', 'JCdc5d49', 'JCe358e6', 'JCcf7ee2', 'JCe1e504')\n",
    "length(mrns)\n",
    "length(anons)"
   ]
  }
 ],
 "metadata": {
  "environment": {
   "name": "r-cpu.4-0.m71",
   "type": "gcloud",
   "uri": "gcr.io/deeplearning-platform-release/r-cpu.4-0:m71"
  },
  "kernelspec": {
   "display_name": "R",
   "language": "R",
   "name": "ir"
  },
  "language_info": {
   "codemirror_mode": "r",
   "file_extension": ".r",
   "mimetype": "text/x-r-source",
   "name": "R",
   "pygments_lexer": "r",
   "version": "4.0.3"
  },
  "toc": {
   "base_numbering": 1,
   "nav_menu": {},
   "number_sections": true,
   "sideBar": true,
   "skip_h1_title": false,
   "title_cell": "Table of Contents",
   "title_sidebar": "Contents",
   "toc_cell": false,
   "toc_position": {},
   "toc_section_display": true,
   "toc_window_display": false
  },
  "varInspector": {
   "cols": {
    "lenName": 16,
    "lenType": 16,
    "lenVar": 40
   },
   "kernels_config": {
    "python": {
     "delete_cmd_postfix": "",
     "delete_cmd_prefix": "del ",
     "library": "var_list.py",
     "varRefreshCmd": "print(var_dic_list())"
    },
    "r": {
     "delete_cmd_postfix": ") ",
     "delete_cmd_prefix": "rm(",
     "library": "var_list.r",
     "varRefreshCmd": "cat(var_dic_list()) "
    }
   },
   "types_to_exclude": [
    "module",
    "function",
    "builtin_function_or_method",
    "instance",
    "_Feature"
   ],
   "window_display": false
  }
 },
 "nbformat": 4,
 "nbformat_minor": 4
}
