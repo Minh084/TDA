{
 "cells": [
  {
   "cell_type": "markdown",
   "metadata": {},
   "source": [
    "## Descriptions:\n",
    "- Query other tables on shc to see if we can get any worthy information not included in prediction\n",
    "- Some bigger queries cannot be done in this notebook. use separate SQL file in python instead\n",
    "- Check the characteristics of the `diff4` cohort (predicted probability difference >= 0.4), compared to the full cohort\n",
    "\n",
    "**Inputs**:  \n",
    "- `1_4_cohort_diff_...`\n",
    "- `1_4_cohort_all_current_dx`\n",
    "    \n",
    "**Outputs**: (did not save anything here)"
   ]
  },
  {
   "cell_type": "raw",
   "metadata": {},
   "source": [
    "install.packages('bigrquery')\n",
    "# Installing package into 'C:/Users/User/Documents/R/win-library/4.0'\n",
    "# (as 'lib' is unspecified)\n",
    "# The downloaded binary packages are in\n",
    "# \tC:\\Users\\User\\AppData\\Local\\Temp\\RtmpaumGcc\\downloaded_packages"
   ]
  },
  {
   "cell_type": "markdown",
   "metadata": {},
   "source": [
    "### Importing R libraries"
   ]
  },
  {
   "cell_type": "code",
   "execution_count": 1,
   "metadata": {
    "ExecuteTime": {
     "end_time": "2020-05-21T00:38:06.078240Z",
     "start_time": "2020-05-21T00:38:02.778Z"
    }
   },
   "outputs": [
    {
     "name": "stderr",
     "output_type": "stream",
     "text": [
      "Warning message:\n",
      "\"package 'bigrquery' was built under R version 4.0.5\"\n",
      "-- \u001b[1mAttaching packages\u001b[22m --------------------------------------- tidyverse 1.3.0 --\n",
      "\n",
      "\u001b[32mv\u001b[39m \u001b[34mggplot2\u001b[39m 3.3.5     \u001b[32mv\u001b[39m \u001b[34mpurrr  \u001b[39m 0.3.4\n",
      "\u001b[32mv\u001b[39m \u001b[34mtibble \u001b[39m 3.0.4     \u001b[32mv\u001b[39m \u001b[34mdplyr  \u001b[39m 1.0.2\n",
      "\u001b[32mv\u001b[39m \u001b[34mtidyr  \u001b[39m 1.1.2     \u001b[32mv\u001b[39m \u001b[34mstringr\u001b[39m 1.4.0\n",
      "\u001b[32mv\u001b[39m \u001b[34mreadr  \u001b[39m 1.4.0     \u001b[32mv\u001b[39m \u001b[34mforcats\u001b[39m 0.5.0\n",
      "\n",
      "Warning message:\n",
      "\"package 'ggplot2' was built under R version 4.0.5\"\n",
      "-- \u001b[1mConflicts\u001b[22m ------------------------------------------ tidyverse_conflicts() --\n",
      "\u001b[31mx\u001b[39m \u001b[34mdplyr\u001b[39m::\u001b[32mfilter()\u001b[39m masks \u001b[34mstats\u001b[39m::filter()\n",
      "\u001b[31mx\u001b[39m \u001b[34mdplyr\u001b[39m::\u001b[32mlag()\u001b[39m    masks \u001b[34mstats\u001b[39m::lag()\n",
      "\n",
      "\n",
      "Attaching package: 'lubridate'\n",
      "\n",
      "\n",
      "The following objects are masked from 'package:base':\n",
      "\n",
      "    date, intersect, setdiff, union\n",
      "\n",
      "\n"
     ]
    }
   ],
   "source": [
    "library(bigrquery)  # to query STARR-OMOP (stored in BigQuery) using SQL\n",
    "library(tidyverse)\n",
    "library(lubridate)\n",
    "\n",
    "# options(repr.matrix.max.rows=250, repr.matrix.max.cols=30)"
   ]
  },
  {
   "cell_type": "markdown",
   "metadata": {},
   "source": [
    "### Set up and run queries"
   ]
  },
  {
   "cell_type": "code",
   "execution_count": 17,
   "metadata": {},
   "outputs": [
    {
     "data": {
      "text/plain": [
       "NULL"
      ]
     },
     "metadata": {},
     "output_type": "display_data"
    }
   ],
   "source": [
    "# CREDENTIALS depending on LOCATIONS:\n",
    "# credential <- paste0(\"/home/\", \"minh084\", \"/.config/gcloud/application_default_credentials.json\")\n",
    "\n",
    "# local computer\n",
    "# credential <- \"C:/Users/User/AppData/Roaming/gcloud/application_default_credentials.json\"\n",
    "\n",
    "# Nero onprem\n",
    "# credential <- \"/home/minh084/.config/gcloud/application_default_credentials.json\"\n",
    "\n",
    "# Nero gcp notebook\n",
    "credential <- \"/home/jupyter/.config/gcloud/application_default_credentials.json\"\n",
    "\n",
    "project_id <- \"som-nero-phi-jonc101\"\n",
    "\n",
    "Sys.setenv(GOOGLE_APPLICATION_CREDENTIALS = credential)\n",
    "Sys.setenv(GCLOUD_PROJECT = project_id)\n",
    "gargle::credentials_app_default()"
   ]
  },
  {
   "cell_type": "code",
   "execution_count": 18,
   "metadata": {},
   "outputs": [
    {
     "data": {
      "text/plain": [
       "<BigQueryConnection>\n",
       "  Dataset: som-nero-phi-jonc101.shc_core\n",
       "  Billing: som-nero-phi-jonc101"
      ]
     },
     "metadata": {},
     "output_type": "display_data"
    },
    {
     "data": {
      "text/html": [
       "<style>\n",
       ".list-inline {list-style: none; margin:0; padding: 0}\n",
       ".list-inline>li {display: inline-block}\n",
       ".list-inline>li:not(:last-child)::after {content: \"\\00b7\"; padding: 0 .5ex}\n",
       "</style>\n",
       "<ol class=list-inline><li>'adt'</li><li>'allergy'</li><li>'culture_sensitivity'</li><li>'demographic'</li><li>'dep_map'</li><li>'diagnosis_code'</li><li>'drg_code'</li><li>'encounter'</li><li>'family_hx'</li><li>'flowsheet'</li><li>'lab_result'</li><li>'lda'</li><li>'mapped_meds'</li><li>'mar'</li><li>'med_orderset'</li><li>'ndc_code'</li><li>'order_med'</li><li>'order_proc'</li><li>'order_quest'</li><li>'proc_note'</li><li>'proc_orderset'</li><li>'procedure_code'</li><li>'prov_map'</li><li>'social_hx'</li><li>'treatment_team'</li></ol>\n"
      ],
      "text/latex": [
       "\\begin{enumerate*}\n",
       "\\item 'adt'\n",
       "\\item 'allergy'\n",
       "\\item 'culture\\_sensitivity'\n",
       "\\item 'demographic'\n",
       "\\item 'dep\\_map'\n",
       "\\item 'diagnosis\\_code'\n",
       "\\item 'drg\\_code'\n",
       "\\item 'encounter'\n",
       "\\item 'family\\_hx'\n",
       "\\item 'flowsheet'\n",
       "\\item 'lab\\_result'\n",
       "\\item 'lda'\n",
       "\\item 'mapped\\_meds'\n",
       "\\item 'mar'\n",
       "\\item 'med\\_orderset'\n",
       "\\item 'ndc\\_code'\n",
       "\\item 'order\\_med'\n",
       "\\item 'order\\_proc'\n",
       "\\item 'order\\_quest'\n",
       "\\item 'proc\\_note'\n",
       "\\item 'proc\\_orderset'\n",
       "\\item 'procedure\\_code'\n",
       "\\item 'prov\\_map'\n",
       "\\item 'social\\_hx'\n",
       "\\item 'treatment\\_team'\n",
       "\\end{enumerate*}\n"
      ],
      "text/markdown": [
       "1. 'adt'\n",
       "2. 'allergy'\n",
       "3. 'culture_sensitivity'\n",
       "4. 'demographic'\n",
       "5. 'dep_map'\n",
       "6. 'diagnosis_code'\n",
       "7. 'drg_code'\n",
       "8. 'encounter'\n",
       "9. 'family_hx'\n",
       "10. 'flowsheet'\n",
       "11. 'lab_result'\n",
       "12. 'lda'\n",
       "13. 'mapped_meds'\n",
       "14. 'mar'\n",
       "15. 'med_orderset'\n",
       "16. 'ndc_code'\n",
       "17. 'order_med'\n",
       "18. 'order_proc'\n",
       "19. 'order_quest'\n",
       "20. 'proc_note'\n",
       "21. 'proc_orderset'\n",
       "22. 'procedure_code'\n",
       "23. 'prov_map'\n",
       "24. 'social_hx'\n",
       "25. 'treatment_team'\n",
       "\n",
       "\n"
      ],
      "text/plain": [
       " [1] \"adt\"                 \"allergy\"             \"culture_sensitivity\"\n",
       " [4] \"demographic\"         \"dep_map\"             \"diagnosis_code\"     \n",
       " [7] \"drg_code\"            \"encounter\"           \"family_hx\"          \n",
       "[10] \"flowsheet\"           \"lab_result\"          \"lda\"                \n",
       "[13] \"mapped_meds\"         \"mar\"                 \"med_orderset\"       \n",
       "[16] \"ndc_code\"            \"order_med\"           \"order_proc\"         \n",
       "[19] \"order_quest\"         \"proc_note\"           \"proc_orderset\"      \n",
       "[22] \"procedure_code\"      \"prov_map\"            \"social_hx\"          \n",
       "[25] \"treatment_team\"     "
      ]
     },
     "metadata": {},
     "output_type": "display_data"
    }
   ],
   "source": [
    "library(DBI)\n",
    "con <- dbConnect(\n",
    "  bigrquery::bigquery(),\n",
    "  project = project_id,\n",
    "  dataset = \"shc_core\" #, billing = project_id\n",
    ")\n",
    "con \n",
    "dbListTables(con)"
   ]
  },
  {
   "cell_type": "markdown",
   "metadata": {},
   "source": [
    "### ADT, Demographic, and Diagnosis tables"
   ]
  },
  {
   "cell_type": "code",
   "execution_count": 19,
   "metadata": {},
   "outputs": [
    {
     "name": "stderr",
     "output_type": "stream",
     "text": [
      "Warning message in as.integer.integer64(x):\n",
      "“NAs produced by integer overflow”\n"
     ]
    },
    {
     "data": {
      "text/html": [
       "<style>\n",
       ".list-inline {list-style: none; margin:0; padding: 0}\n",
       ".list-inline>li {display: inline-block}\n",
       ".list-inline>li:not(:last-child)::after {content: \"\\00b7\"; padding: 0 .5ex}\n",
       "</style>\n",
       "<ol class=list-inline><li>1437248</li><li>30</li></ol>\n"
      ],
      "text/latex": [
       "\\begin{enumerate*}\n",
       "\\item 1437248\n",
       "\\item 30\n",
       "\\end{enumerate*}\n"
      ],
      "text/markdown": [
       "1. 1437248\n",
       "2. 30\n",
       "\n",
       "\n"
      ],
      "text/plain": [
       "[1] 1437248      30"
      ]
     },
     "metadata": {},
     "output_type": "display_data"
    },
    {
     "data": {
      "text/html": [
       "<style>\n",
       ".list-inline {list-style: none; margin:0; padding: 0}\n",
       ".list-inline>li {display: inline-block}\n",
       ".list-inline>li:not(:last-child)::after {content: \"\\00b7\"; padding: 0 .5ex}\n",
       "</style>\n",
       "<ol class=list-inline><li>'anon_id'</li><li>'pat_enc_csn_id_coded'</li><li>'admit_time'</li><li>'first_label'</li><li>'death_24hr_recent_label'</li><li>'death_24hr_max_label'</li><li>'pred_first'</li><li>'pred_death_24hr_recent'</li><li>'event_type_c'</li><li>'event_type'</li><li>'pat_class_c'</li><li>'pat_class'</li><li>'base_pat_class_c'</li><li>'base_pat_class'</li><li>'pat_service_c'</li><li>'pat_service'</li><li>'pat_lvl_of_care_c'</li><li>'pat_lv_of_care'</li><li>'accommodation_c'</li><li>'accomodation'</li><li>'in_event_type_c'</li><li>'in_event_type'</li><li>'out_event_type_c'</li><li>'out_event_type'</li><li>'from_base_class_c'</li><li>'from_base_class'</li><li>'to_base_class_c'</li><li>'to_base_class'</li><li>'seq_num_in_enc'</li><li>'seq_num_in_bed_min'</li></ol>\n"
      ],
      "text/latex": [
       "\\begin{enumerate*}\n",
       "\\item 'anon\\_id'\n",
       "\\item 'pat\\_enc\\_csn\\_id\\_coded'\n",
       "\\item 'admit\\_time'\n",
       "\\item 'first\\_label'\n",
       "\\item 'death\\_24hr\\_recent\\_label'\n",
       "\\item 'death\\_24hr\\_max\\_label'\n",
       "\\item 'pred\\_first'\n",
       "\\item 'pred\\_death\\_24hr\\_recent'\n",
       "\\item 'event\\_type\\_c'\n",
       "\\item 'event\\_type'\n",
       "\\item 'pat\\_class\\_c'\n",
       "\\item 'pat\\_class'\n",
       "\\item 'base\\_pat\\_class\\_c'\n",
       "\\item 'base\\_pat\\_class'\n",
       "\\item 'pat\\_service\\_c'\n",
       "\\item 'pat\\_service'\n",
       "\\item 'pat\\_lvl\\_of\\_care\\_c'\n",
       "\\item 'pat\\_lv\\_of\\_care'\n",
       "\\item 'accommodation\\_c'\n",
       "\\item 'accomodation'\n",
       "\\item 'in\\_event\\_type\\_c'\n",
       "\\item 'in\\_event\\_type'\n",
       "\\item 'out\\_event\\_type\\_c'\n",
       "\\item 'out\\_event\\_type'\n",
       "\\item 'from\\_base\\_class\\_c'\n",
       "\\item 'from\\_base\\_class'\n",
       "\\item 'to\\_base\\_class\\_c'\n",
       "\\item 'to\\_base\\_class'\n",
       "\\item 'seq\\_num\\_in\\_enc'\n",
       "\\item 'seq\\_num\\_in\\_bed\\_min'\n",
       "\\end{enumerate*}\n"
      ],
      "text/markdown": [
       "1. 'anon_id'\n",
       "2. 'pat_enc_csn_id_coded'\n",
       "3. 'admit_time'\n",
       "4. 'first_label'\n",
       "5. 'death_24hr_recent_label'\n",
       "6. 'death_24hr_max_label'\n",
       "7. 'pred_first'\n",
       "8. 'pred_death_24hr_recent'\n",
       "9. 'event_type_c'\n",
       "10. 'event_type'\n",
       "11. 'pat_class_c'\n",
       "12. 'pat_class'\n",
       "13. 'base_pat_class_c'\n",
       "14. 'base_pat_class'\n",
       "15. 'pat_service_c'\n",
       "16. 'pat_service'\n",
       "17. 'pat_lvl_of_care_c'\n",
       "18. 'pat_lv_of_care'\n",
       "19. 'accommodation_c'\n",
       "20. 'accomodation'\n",
       "21. 'in_event_type_c'\n",
       "22. 'in_event_type'\n",
       "23. 'out_event_type_c'\n",
       "24. 'out_event_type'\n",
       "25. 'from_base_class_c'\n",
       "26. 'from_base_class'\n",
       "27. 'to_base_class_c'\n",
       "28. 'to_base_class'\n",
       "29. 'seq_num_in_enc'\n",
       "30. 'seq_num_in_bed_min'\n",
       "\n",
       "\n"
      ],
      "text/plain": [
       " [1] \"anon_id\"                 \"pat_enc_csn_id_coded\"   \n",
       " [3] \"admit_time\"              \"first_label\"            \n",
       " [5] \"death_24hr_recent_label\" \"death_24hr_max_label\"   \n",
       " [7] \"pred_first\"              \"pred_death_24hr_recent\" \n",
       " [9] \"event_type_c\"            \"event_type\"             \n",
       "[11] \"pat_class_c\"             \"pat_class\"              \n",
       "[13] \"base_pat_class_c\"        \"base_pat_class\"         \n",
       "[15] \"pat_service_c\"           \"pat_service\"            \n",
       "[17] \"pat_lvl_of_care_c\"       \"pat_lv_of_care\"         \n",
       "[19] \"accommodation_c\"         \"accomodation\"           \n",
       "[21] \"in_event_type_c\"         \"in_event_type\"          \n",
       "[23] \"out_event_type_c\"        \"out_event_type\"         \n",
       "[25] \"from_base_class_c\"       \"from_base_class\"        \n",
       "[27] \"to_base_class_c\"         \"to_base_class\"          \n",
       "[29] \"seq_num_in_enc\"          \"seq_num_in_bed_min\"     "
      ]
     },
     "metadata": {},
     "output_type": "display_data"
    }
   ],
   "source": [
    "q = \"\n",
    "SELECT c.anon_id, c.pat_enc_csn_id_coded, c.admit_time, c.first_label, c.death_24hr_recent_label,\n",
    "        c.death_24hr_max_label, c.pred_first, c.pred_death_24hr_recent,\n",
    "    adt.event_type_c, adt.event_type, adt.pat_class_c, adt.pat_class, adt.base_pat_class_c, adt.base_pat_class,\n",
    "    adt.pat_service_c, adt.pat_service, adt.pat_lvl_of_care_c, adt.pat_lv_of_care, adt.accommodation_c, adt.accomodation, \n",
    "    adt.in_event_type_c, adt.in_event_type, adt.out_event_type_c, adt.out_event_type, adt.from_base_class_c, adt.from_base_class,\n",
    "    adt.to_base_class_c, adt.to_base_class, adt.seq_num_in_enc, adt.seq_num_in_bed_min\n",
    "FROM \n",
    "    `som-nero-phi-jonc101.triageTD.1_4_cohort_diff_full_features` as c\n",
    "JOIN \n",
    "    `som-nero-phi-jonc101.shc_core.adt` as adt\n",
    "ON \n",
    "    (c.anon_id = adt.anon_id and c.pat_enc_csn_id_coded = adt.pat_enc_csn_id_coded)\n",
    "\"\n",
    "# submit the query:\n",
    "update.packages('Rcpp')\n",
    "df <- dbGetQuery(con, q)\n",
    "dim(df)\n",
    "colnames(df)"
   ]
  },
  {
   "cell_type": "raw",
   "metadata": {},
   "source": [
    "write.csv(df, file.path(tabledir, \"4_2_diff_adt.csv\"), row.names=FALSE)"
   ]
  },
  {
   "cell_type": "code",
   "execution_count": 21,
   "metadata": {},
   "outputs": [
    {
     "name": "stderr",
     "output_type": "stream",
     "text": [
      "Warning message in as.integer.integer64(x):\n",
      "“NAs produced by integer overflow”\n"
     ]
    },
    {
     "data": {
      "text/html": [
       "<style>\n",
       ".list-inline {list-style: none; margin:0; padding: 0}\n",
       ".list-inline>li {display: inline-block}\n",
       ".list-inline>li:not(:last-child)::after {content: \"\\00b7\"; padding: 0 .5ex}\n",
       "</style>\n",
       "<ol class=list-inline><li>71107</li><li>6</li></ol>\n"
      ],
      "text/latex": [
       "\\begin{enumerate*}\n",
       "\\item 71107\n",
       "\\item 6\n",
       "\\end{enumerate*}\n"
      ],
      "text/markdown": [
       "1. 71107\n",
       "2. 6\n",
       "\n",
       "\n"
      ],
      "text/plain": [
       "[1] 71107     6"
      ]
     },
     "metadata": {},
     "output_type": "display_data"
    },
    {
     "data": {
      "text/html": [
       "<style>\n",
       ".list-inline {list-style: none; margin:0; padding: 0}\n",
       ".list-inline>li {display: inline-block}\n",
       ".list-inline>li:not(:last-child)::after {content: \"\\00b7\"; padding: 0 .5ex}\n",
       "</style>\n",
       "<ol class=list-inline><li>'anon_id'</li><li>'pat_enc_csn_id_coded'</li><li>'INTRPTR_NEEDED_YN'</li><li>'CHARLSON_SCORE'</li><li>'N_HOSPITALIZATIONS'</li><li>'DAYS_IN_HOSPITAL'</li></ol>\n"
      ],
      "text/latex": [
       "\\begin{enumerate*}\n",
       "\\item 'anon\\_id'\n",
       "\\item 'pat\\_enc\\_csn\\_id\\_coded'\n",
       "\\item 'INTRPTR\\_NEEDED\\_YN'\n",
       "\\item 'CHARLSON\\_SCORE'\n",
       "\\item 'N\\_HOSPITALIZATIONS'\n",
       "\\item 'DAYS\\_IN\\_HOSPITAL'\n",
       "\\end{enumerate*}\n"
      ],
      "text/markdown": [
       "1. 'anon_id'\n",
       "2. 'pat_enc_csn_id_coded'\n",
       "3. 'INTRPTR_NEEDED_YN'\n",
       "4. 'CHARLSON_SCORE'\n",
       "5. 'N_HOSPITALIZATIONS'\n",
       "6. 'DAYS_IN_HOSPITAL'\n",
       "\n",
       "\n"
      ],
      "text/plain": [
       "[1] \"anon_id\"              \"pat_enc_csn_id_coded\" \"INTRPTR_NEEDED_YN\"   \n",
       "[4] \"CHARLSON_SCORE\"       \"N_HOSPITALIZATIONS\"   \"DAYS_IN_HOSPITAL\"    "
      ]
     },
     "metadata": {},
     "output_type": "display_data"
    }
   ],
   "source": [
    "q = \"\n",
    "SELECT c.anon_id, c.pat_enc_csn_id_coded, \n",
    "    x.INTRPTR_NEEDED_YN, x.CHARLSON_SCORE, x.N_HOSPITALIZATIONS, x.DAYS_IN_HOSPITAL\n",
    "FROM \n",
    "    `som-nero-phi-jonc101.triageTD.1_4_cohort_diff_full_features` as c\n",
    "JOIN \n",
    "    `som-nero-phi-jonc101.shc_core.demographic` as x\n",
    "ON \n",
    "    (c.anon_id = x.anon_id)\n",
    "\"\n",
    "# submit the query:\n",
    "update.packages('Rcpp')\n",
    "x1 <- dbGetQuery(con, q)\n",
    "dim(x1)\n",
    "colnames(x1)"
   ]
  },
  {
   "cell_type": "raw",
   "metadata": {},
   "source": [
    "write.csv(x1, file.path(tabledir, \"4_2_diff_demographic.csv\"), row.names=FALSE)"
   ]
  },
  {
   "cell_type": "code",
   "execution_count": 11,
   "metadata": {},
   "outputs": [
    {
     "name": "stderr",
     "output_type": "stream",
     "text": [
      "Warning message in as.integer.integer64(x):\n",
      "“NAs produced by integer overflow”\n"
     ]
    },
    {
     "data": {
      "text/html": [
       "<style>\n",
       ".list-inline {list-style: none; margin:0; padding: 0}\n",
       ".list-inline>li {display: inline-block}\n",
       ".list-inline>li:not(:last-child)::after {content: \"\\00b7\"; padding: 0 .5ex}\n",
       "</style>\n",
       "<ol class=list-inline><li>8922</li><li>10</li></ol>\n"
      ],
      "text/latex": [
       "\\begin{enumerate*}\n",
       "\\item 8922\n",
       "\\item 10\n",
       "\\end{enumerate*}\n"
      ],
      "text/markdown": [
       "1. 8922\n",
       "2. 10\n",
       "\n",
       "\n"
      ],
      "text/plain": [
       "[1] 8922   10"
      ]
     },
     "metadata": {},
     "output_type": "display_data"
    },
    {
     "data": {
      "text/html": [
       "<style>\n",
       ".list-inline {list-style: none; margin:0; padding: 0}\n",
       ".list-inline>li {display: inline-block}\n",
       ".list-inline>li:not(:last-child)::after {content: \"\\00b7\"; padding: 0 .5ex}\n",
       "</style>\n",
       "<ol class=list-inline><li>'anon_id'</li><li>'pat_enc_csn_id_coded'</li><li>'line'</li><li>'dx_name'</li><li>'primary'</li><li>'chronic'</li><li>'principal'</li><li>'hospital_pl'</li><li>'ed'</li><li>'present_on_adm'</li></ol>\n"
      ],
      "text/latex": [
       "\\begin{enumerate*}\n",
       "\\item 'anon\\_id'\n",
       "\\item 'pat\\_enc\\_csn\\_id\\_coded'\n",
       "\\item 'line'\n",
       "\\item 'dx\\_name'\n",
       "\\item 'primary'\n",
       "\\item 'chronic'\n",
       "\\item 'principal'\n",
       "\\item 'hospital\\_pl'\n",
       "\\item 'ed'\n",
       "\\item 'present\\_on\\_adm'\n",
       "\\end{enumerate*}\n"
      ],
      "text/markdown": [
       "1. 'anon_id'\n",
       "2. 'pat_enc_csn_id_coded'\n",
       "3. 'line'\n",
       "4. 'dx_name'\n",
       "5. 'primary'\n",
       "6. 'chronic'\n",
       "7. 'principal'\n",
       "8. 'hospital_pl'\n",
       "9. 'ed'\n",
       "10. 'present_on_adm'\n",
       "\n",
       "\n"
      ],
      "text/plain": [
       " [1] \"anon_id\"              \"pat_enc_csn_id_coded\" \"line\"                \n",
       " [4] \"dx_name\"              \"primary\"              \"chronic\"             \n",
       " [7] \"principal\"            \"hospital_pl\"          \"ed\"                  \n",
       "[10] \"present_on_adm\"      "
      ]
     },
     "metadata": {},
     "output_type": "display_data"
    }
   ],
   "source": [
    "# this doesn't seem right, redo with a separate SQL file as it is too large to be in R notebook\n",
    "q = \"\n",
    "SELECT distinct c.anon_id, c.pat_enc_csn_id_coded, \n",
    "    x.line, x.dx_name, x.primary, x.chronic, x.principal, x.hospital_pl, x.ed, x.present_on_adm\n",
    "FROM \n",
    "    `som-nero-phi-jonc101.triageTD.1_4_cohort_24hrpreadmit_diff_full_features` as c\n",
    "JOIN \n",
    "    `som-nero-phi-jonc101.shc_core.diagnosis_code` as x\n",
    "ON \n",
    "    (c.anon_id = x.anon_id and c.pat_enc_csn_id_coded = x.pat_enc_csn_id_jittered)\n",
    "\"\n",
    "# submit the query:\n",
    "update.packages('Rcpp')\n",
    "x2 <- dbGetQuery(con, q)\n",
    "dim(x2)\n",
    "colnames(x2)"
   ]
  },
  {
   "cell_type": "code",
   "execution_count": 12,
   "metadata": {},
   "outputs": [
    {
     "data": {
      "text/html": [
       "<table class=\"dataframe\">\n",
       "<caption>A tibble: 6 × 10</caption>\n",
       "<thead>\n",
       "\t<tr><th scope=col>anon_id</th><th scope=col>pat_enc_csn_id_coded</th><th scope=col>line</th><th scope=col>dx_name</th><th scope=col>primary</th><th scope=col>chronic</th><th scope=col>principal</th><th scope=col>hospital_pl</th><th scope=col>ed</th><th scope=col>present_on_adm</th></tr>\n",
       "\t<tr><th scope=col>&lt;chr&gt;</th><th scope=col>&lt;int&gt;</th><th scope=col>&lt;int&gt;</th><th scope=col>&lt;chr&gt;</th><th scope=col>&lt;chr&gt;</th><th scope=col>&lt;chr&gt;</th><th scope=col>&lt;chr&gt;</th><th scope=col>&lt;chr&gt;</th><th scope=col>&lt;chr&gt;</th><th scope=col>&lt;chr&gt;</th></tr>\n",
       "</thead>\n",
       "<tbody>\n",
       "\t<tr><td>JCe5f7b6</td><td>NA</td><td> 1</td><td>Hyponatremia                                                                         </td><td>Y </td><td>N </td><td>NA</td><td>NA</td><td>Y </td><td>NA</td></tr>\n",
       "\t<tr><td>JCdc571d</td><td>NA</td><td> 6</td><td>Cough                                                                                </td><td>N </td><td>N </td><td>NA</td><td>NA</td><td>N </td><td>NA</td></tr>\n",
       "\t<tr><td>JCe35ee6</td><td>NA</td><td>11</td><td>Dementia without behavioral disturbance, unspecified dementia type (CMS-HCC)         </td><td>N </td><td>Y </td><td>NA</td><td>NA</td><td>N </td><td>NA</td></tr>\n",
       "\t<tr><td>JCd1f333</td><td>NA</td><td> 3</td><td>Diabetic ketoacidosis without coma associated with type 1 diabetes mellitus (CMS-HCC)</td><td>N </td><td>N </td><td>NA</td><td>NA</td><td>N </td><td>NA</td></tr>\n",
       "\t<tr><td>JCe09f7a</td><td>NA</td><td> 1</td><td>Vomiting, unspecified                                                                </td><td>NA</td><td>NA</td><td>NA</td><td>NA</td><td>NA</td><td>NA</td></tr>\n",
       "\t<tr><td>JCe439dd</td><td>NA</td><td> 7</td><td>Bipolar 1 disorder (CMS-HCC)                                                         </td><td>N </td><td>N </td><td>NA</td><td>NA</td><td>N </td><td>NA</td></tr>\n",
       "</tbody>\n",
       "</table>\n"
      ],
      "text/latex": [
       "A tibble: 6 × 10\n",
       "\\begin{tabular}{llllllllll}\n",
       " anon\\_id & pat\\_enc\\_csn\\_id\\_coded & line & dx\\_name & primary & chronic & principal & hospital\\_pl & ed & present\\_on\\_adm\\\\\n",
       " <chr> & <int> & <int> & <chr> & <chr> & <chr> & <chr> & <chr> & <chr> & <chr>\\\\\n",
       "\\hline\n",
       "\t JCe5f7b6 & NA &  1 & Hyponatremia                                                                          & Y  & N  & NA & NA & Y  & NA\\\\\n",
       "\t JCdc571d & NA &  6 & Cough                                                                                 & N  & N  & NA & NA & N  & NA\\\\\n",
       "\t JCe35ee6 & NA & 11 & Dementia without behavioral disturbance, unspecified dementia type (CMS-HCC)          & N  & Y  & NA & NA & N  & NA\\\\\n",
       "\t JCd1f333 & NA &  3 & Diabetic ketoacidosis without coma associated with type 1 diabetes mellitus (CMS-HCC) & N  & N  & NA & NA & N  & NA\\\\\n",
       "\t JCe09f7a & NA &  1 & Vomiting, unspecified                                                                 & NA & NA & NA & NA & NA & NA\\\\\n",
       "\t JCe439dd & NA &  7 & Bipolar 1 disorder (CMS-HCC)                                                          & N  & N  & NA & NA & N  & NA\\\\\n",
       "\\end{tabular}\n"
      ],
      "text/markdown": [
       "\n",
       "A tibble: 6 × 10\n",
       "\n",
       "| anon_id &lt;chr&gt; | pat_enc_csn_id_coded &lt;int&gt; | line &lt;int&gt; | dx_name &lt;chr&gt; | primary &lt;chr&gt; | chronic &lt;chr&gt; | principal &lt;chr&gt; | hospital_pl &lt;chr&gt; | ed &lt;chr&gt; | present_on_adm &lt;chr&gt; |\n",
       "|---|---|---|---|---|---|---|---|---|---|\n",
       "| JCe5f7b6 | NA |  1 | Hyponatremia                                                                          | Y  | N  | NA | NA | Y  | NA |\n",
       "| JCdc571d | NA |  6 | Cough                                                                                 | N  | N  | NA | NA | N  | NA |\n",
       "| JCe35ee6 | NA | 11 | Dementia without behavioral disturbance, unspecified dementia type (CMS-HCC)          | N  | Y  | NA | NA | N  | NA |\n",
       "| JCd1f333 | NA |  3 | Diabetic ketoacidosis without coma associated with type 1 diabetes mellitus (CMS-HCC) | N  | N  | NA | NA | N  | NA |\n",
       "| JCe09f7a | NA |  1 | Vomiting, unspecified                                                                 | NA | NA | NA | NA | NA | NA |\n",
       "| JCe439dd | NA |  7 | Bipolar 1 disorder (CMS-HCC)                                                          | N  | N  | NA | NA | N  | NA |\n",
       "\n"
      ],
      "text/plain": [
       "  anon_id  pat_enc_csn_id_coded line\n",
       "1 JCe5f7b6 NA                    1  \n",
       "2 JCdc571d NA                    6  \n",
       "3 JCe35ee6 NA                   11  \n",
       "4 JCd1f333 NA                    3  \n",
       "5 JCe09f7a NA                    1  \n",
       "6 JCe439dd NA                    7  \n",
       "  dx_name                                                                              \n",
       "1 Hyponatremia                                                                         \n",
       "2 Cough                                                                                \n",
       "3 Dementia without behavioral disturbance, unspecified dementia type (CMS-HCC)         \n",
       "4 Diabetic ketoacidosis without coma associated with type 1 diabetes mellitus (CMS-HCC)\n",
       "5 Vomiting, unspecified                                                                \n",
       "6 Bipolar 1 disorder (CMS-HCC)                                                         \n",
       "  primary chronic principal hospital_pl ed present_on_adm\n",
       "1 Y       N       NA        NA          Y  NA            \n",
       "2 N       N       NA        NA          N  NA            \n",
       "3 N       Y       NA        NA          N  NA            \n",
       "4 N       N       NA        NA          N  NA            \n",
       "5 NA      NA      NA        NA          NA NA            \n",
       "6 N       N       NA        NA          N  NA            "
      ]
     },
     "metadata": {},
     "output_type": "display_data"
    }
   ],
   "source": [
    "head(x2)"
   ]
  },
  {
   "cell_type": "raw",
   "metadata": {},
   "source": [
    "# this doesn't seem right, redo with a separate SQL file as it is too large to be in R notebook\n",
    "q = \"\n",
    "SELECT distinct c.anon_id, c.pat_enc_csn_id_coded, \n",
    "    x.line, x.dx_name, x.primary, x.chronic, x.principal, x.hospital_pl, x.ed, x.present_on_adm\n",
    "FROM \n",
    "    `som-nero-phi-jonc101.triageTD.1_4_cohort_diff_full_features` as c\n",
    "JOIN \n",
    "    `som-nero-phi-jonc101.shc_core.diagnosis_code` as x\n",
    "ON \n",
    "    (c.anon_id = x.anon_id and c.pat_enc_csn_id_coded = x.pat_enc_csn_id_jittered)\n",
    "\n",
    "WHERE (x.primary = 'Y')\n",
    "\"\n",
    "# submit the query:\n",
    "update.packages('Rcpp')\n",
    "x2 <- dbGetQuery(con, q)\n",
    "dim(x2)\n",
    "colnames(x2)"
   ]
  },
  {
   "cell_type": "code",
   "execution_count": 2,
   "metadata": {},
   "outputs": [],
   "source": [
    "# directories\n",
    "datadir = \"../../DataTD\"\n",
    "cohortdir = \"../../OutputTD/1_cohort\"\n",
    "featuredir = \"../../OutputTD/2_features\"\n",
    "modeldir4 = \"../../OutputTD/3_models/1_4_cohort\"\n",
    "# modeldir4preadmit = \"../../OutputTD/3_models/1_4_cohort_24hrpreadmit\"\n",
    "tabledir = \"../../OutputTD/4_tables\"\n",
    "\n",
    "options(repr.matrix.max.rows=200, repr.matrix.max.cols=30)"
   ]
  },
  {
   "cell_type": "code",
   "execution_count": 3,
   "metadata": {},
   "outputs": [
    {
     "data": {
      "text/html": [
       "71586"
      ],
      "text/latex": [
       "71586"
      ],
      "text/markdown": [
       "71586"
      ],
      "text/plain": [
       "[1] 71586"
      ]
     },
     "metadata": {},
     "output_type": "display_data"
    },
    {
     "data": {
      "text/html": [
       "71586"
      ],
      "text/latex": [
       "71586"
      ],
      "text/markdown": [
       "71586"
      ],
      "text/plain": [
       "[1] 71586"
      ]
     },
     "metadata": {},
     "output_type": "display_data"
    },
    {
     "data": {
      "text/html": [
       "301"
      ],
      "text/latex": [
       "301"
      ],
      "text/markdown": [
       "301"
      ],
      "text/plain": [
       "[1] 301"
      ]
     },
     "metadata": {},
     "output_type": "display_data"
    },
    {
     "data": {
      "text/html": [
       "323"
      ],
      "text/latex": [
       "323"
      ],
      "text/markdown": [
       "323"
      ],
      "text/plain": [
       "[1] 323"
      ]
     },
     "metadata": {},
     "output_type": "display_data"
    },
    {
     "name": "stderr",
     "output_type": "stream",
     "text": [
      "`summarise()` ungrouping output (override with `.groups` argument)\n",
      "\n"
     ]
    },
    {
     "data": {
      "text/html": [
       "<table>\n",
       "<caption>A tibble: 5 × 6</caption>\n",
       "<thead>\n",
       "\t<tr><th scope=col>abs_diff0_24</th><th scope=col>nrows</th><th scope=col>count_csn</th><th scope=col>count_mrn</th><th scope=col>cum_csn</th><th scope=col>cum_mrn</th></tr>\n",
       "\t<tr><th scope=col>&lt;dbl&gt;</th><th scope=col>&lt;int&gt;</th><th scope=col>&lt;int&gt;</th><th scope=col>&lt;int&gt;</th><th scope=col>&lt;int&gt;</th><th scope=col>&lt;int&gt;</th></tr>\n",
       "</thead>\n",
       "<tbody>\n",
       "\t<tr><td>0.7</td><td>  560</td><td>  3</td><td>  3</td><td>  3</td><td>  3</td></tr>\n",
       "\t<tr><td>0.6</td><td> 1042</td><td>  7</td><td>  7</td><td> 10</td><td> 10</td></tr>\n",
       "\t<tr><td>0.5</td><td> 6559</td><td> 27</td><td> 24</td><td> 37</td><td> 34</td></tr>\n",
       "\t<tr><td>0.4</td><td>19690</td><td> 80</td><td> 77</td><td>117</td><td>111</td></tr>\n",
       "\t<tr><td>0.3</td><td>43735</td><td>206</td><td>204</td><td>323</td><td>315</td></tr>\n",
       "</tbody>\n",
       "</table>\n"
      ],
      "text/latex": [
       "A tibble: 5 × 6\n",
       "\\begin{tabular}{llllll}\n",
       " abs\\_diff0\\_24 & nrows & count\\_csn & count\\_mrn & cum\\_csn & cum\\_mrn\\\\\n",
       " <dbl> & <int> & <int> & <int> & <int> & <int>\\\\\n",
       "\\hline\n",
       "\t 0.7 &   560 &   3 &   3 &   3 &   3\\\\\n",
       "\t 0.6 &  1042 &   7 &   7 &  10 &  10\\\\\n",
       "\t 0.5 &  6559 &  27 &  24 &  37 &  34\\\\\n",
       "\t 0.4 & 19690 &  80 &  77 & 117 & 111\\\\\n",
       "\t 0.3 & 43735 & 206 & 204 & 323 & 315\\\\\n",
       "\\end{tabular}\n"
      ],
      "text/markdown": [
       "\n",
       "A tibble: 5 × 6\n",
       "\n",
       "| abs_diff0_24 &lt;dbl&gt; | nrows &lt;int&gt; | count_csn &lt;int&gt; | count_mrn &lt;int&gt; | cum_csn &lt;int&gt; | cum_mrn &lt;int&gt; |\n",
       "|---|---|---|---|---|---|\n",
       "| 0.7 |   560 |   3 |   3 |   3 |   3 |\n",
       "| 0.6 |  1042 |   7 |   7 |  10 |  10 |\n",
       "| 0.5 |  6559 |  27 |  24 |  37 |  34 |\n",
       "| 0.4 | 19690 |  80 |  77 | 117 | 111 |\n",
       "| 0.3 | 43735 | 206 | 204 | 323 | 315 |\n",
       "\n"
      ],
      "text/plain": [
       "  abs_diff0_24 nrows count_csn count_mrn cum_csn cum_mrn\n",
       "1 0.7            560   3         3         3       3    \n",
       "2 0.6           1042   7         7        10      10    \n",
       "3 0.5           6559  27        24        37      34    \n",
       "4 0.4          19690  80        77       117     111    \n",
       "5 0.3          43735 206       204       323     315    "
      ]
     },
     "metadata": {},
     "output_type": "display_data"
    }
   ],
   "source": [
    "cohort <- read.csv(file.path(modeldir4, \"1_4_cohort_diff_full_features.csv\")) %>% distinct()\n",
    "\n",
    "nrow(cohort) # 71589 vs 69334\n",
    "nrow(cohort %>% distinct())\n",
    "nrow(cohort %>% select(anon_id) %>% distinct()) # 301\n",
    "nrow(cohort %>% select(pat_enc_csn_id_coded) %>% distinct()) # 323\n",
    "\n",
    "# count anon_id and csn, count unique in each group, but possible to have same ids in different groups\n",
    "cohort %>%  distinct() %>% group_by(abs_diff0_24) %>% \n",
    "            summarise(nrows = n(), count_csn = n_distinct(pat_enc_csn_id_coded), count_mrn = n_distinct(anon_id)) %>% \n",
    "            arrange(-abs_diff0_24) %>% mutate(cum_csn = cumsum(count_csn), cum_mrn = cumsum(count_mrn))"
   ]
  },
  {
   "cell_type": "raw",
   "metadata": {},
   "source": [
    "# get the top IDs difference more than 0.4 and save them, file given to Morteza, later on added a few more\n",
    "diff4pre <- read.csv(file.path(modeldir4preadmit, \"1_4_cohort_diff_full_features.csv\")) \n",
    "diff4pre <- diff4 %>% filter(abs_diff0_24 >=0.4) %>% distinct(anon_id)\n",
    "nrow(diff4pre) #107\n",
    "\n",
    "diff4 <- cohort %>% filter(abs_diff0_24 >=0.4) %>% distinct(anon_id)\n",
    "nrow(diff4) #100\n",
    "\n",
    "both04 <- full_join(diff4, diff4pre)\n",
    "nrow(both04) # 135\n",
    " \n",
    "inter04 <- inner_join(diff4, diff4pre)\n",
    "nrow(inter04) #72\n",
    "\n",
    "write.csv(both04, file.path(datadir, \"4_2_diffIDs.csv\"), row.names=FALSE)\n",
    "\n",
    "# when redo using 1_4_cohort from modeldir4\n",
    "write.csv(both04, file.path(datadir, \"4_2_diffIDs_117.csv\"), row.names=FALSE) "
   ]
  },
  {
   "cell_type": "code",
   "execution_count": 4,
   "metadata": {},
   "outputs": [
    {
     "data": {
      "text/html": [
       "<table>\n",
       "<caption>A data.frame: 1 × 16</caption>\n",
       "<thead>\n",
       "\t<tr><th></th><th scope=col>anon_id</th><th scope=col>pat_enc_csn_id_coded</th><th scope=col>admit_time</th><th scope=col>first_label</th><th scope=col>death_24hr_recent_label</th><th scope=col>death_24hr_max_label</th><th scope=col>pred_first</th><th scope=col>pred_death_24hr_recent</th><th scope=col>abs_diff0_24</th><th scope=col>diff0_True</th><th scope=col>diff24_True</th><th scope=col>feature_type</th><th scope=col>features</th><th scope=col>values</th><th scope=col>time</th><th scope=col>hr_before_admit</th></tr>\n",
       "\t<tr><th></th><th scope=col>&lt;chr&gt;</th><th scope=col>&lt;dbl&gt;</th><th scope=col>&lt;chr&gt;</th><th scope=col>&lt;int&gt;</th><th scope=col>&lt;int&gt;</th><th scope=col>&lt;int&gt;</th><th scope=col>&lt;dbl&gt;</th><th scope=col>&lt;dbl&gt;</th><th scope=col>&lt;dbl&gt;</th><th scope=col>&lt;dbl&gt;</th><th scope=col>&lt;dbl&gt;</th><th scope=col>&lt;chr&gt;</th><th scope=col>&lt;chr&gt;</th><th scope=col>&lt;dbl&gt;</th><th scope=col>&lt;chr&gt;</th><th scope=col>&lt;dbl&gt;</th></tr>\n",
       "</thead>\n",
       "<tbody>\n",
       "\t<tr><th scope=row>1</th><td>JCcd3b9d</td><td>131267453587</td><td>2019-04-06 23:15:00</td><td>1</td><td>1</td><td>1</td><td>0.5339708</td><td>0.2470261</td><td>0.3</td><td>-0.47</td><td>-0.75</td><td>Procedures</td><td>LIMITED ULTRASOUND- CARDIAC TRANSTHORACIC ECHO</td><td>1</td><td>NA</td><td>NA</td></tr>\n",
       "</tbody>\n",
       "</table>\n"
      ],
      "text/latex": [
       "A data.frame: 1 × 16\n",
       "\\begin{tabular}{r|llllllllllllllll}\n",
       "  & anon\\_id & pat\\_enc\\_csn\\_id\\_coded & admit\\_time & first\\_label & death\\_24hr\\_recent\\_label & death\\_24hr\\_max\\_label & pred\\_first & pred\\_death\\_24hr\\_recent & abs\\_diff0\\_24 & diff0\\_True & diff24\\_True & feature\\_type & features & values & time & hr\\_before\\_admit\\\\\n",
       "  & <chr> & <dbl> & <chr> & <int> & <int> & <int> & <dbl> & <dbl> & <dbl> & <dbl> & <dbl> & <chr> & <chr> & <dbl> & <chr> & <dbl>\\\\\n",
       "\\hline\n",
       "\t1 & JCcd3b9d & 131267453587 & 2019-04-06 23:15:00 & 1 & 1 & 1 & 0.5339708 & 0.2470261 & 0.3 & -0.47 & -0.75 & Procedures & LIMITED ULTRASOUND- CARDIAC TRANSTHORACIC ECHO & 1 & NA & NA\\\\\n",
       "\\end{tabular}\n"
      ],
      "text/markdown": [
       "\n",
       "A data.frame: 1 × 16\n",
       "\n",
       "| <!--/--> | anon_id &lt;chr&gt; | pat_enc_csn_id_coded &lt;dbl&gt; | admit_time &lt;chr&gt; | first_label &lt;int&gt; | death_24hr_recent_label &lt;int&gt; | death_24hr_max_label &lt;int&gt; | pred_first &lt;dbl&gt; | pred_death_24hr_recent &lt;dbl&gt; | abs_diff0_24 &lt;dbl&gt; | diff0_True &lt;dbl&gt; | diff24_True &lt;dbl&gt; | feature_type &lt;chr&gt; | features &lt;chr&gt; | values &lt;dbl&gt; | time &lt;chr&gt; | hr_before_admit &lt;dbl&gt; |\n",
       "|---|---|---|---|---|---|---|---|---|---|---|---|---|---|---|---|---|\n",
       "| 1 | JCcd3b9d | 131267453587 | 2019-04-06 23:15:00 | 1 | 1 | 1 | 0.5339708 | 0.2470261 | 0.3 | -0.47 | -0.75 | Procedures | LIMITED ULTRASOUND- CARDIAC TRANSTHORACIC ECHO | 1 | NA | NA |\n",
       "\n"
      ],
      "text/plain": [
       "  anon_id  pat_enc_csn_id_coded admit_time          first_label\n",
       "1 JCcd3b9d 131267453587         2019-04-06 23:15:00 1          \n",
       "  death_24hr_recent_label death_24hr_max_label pred_first\n",
       "1 1                       1                    0.5339708 \n",
       "  pred_death_24hr_recent abs_diff0_24 diff0_True diff24_True feature_type\n",
       "1 0.2470261              0.3          -0.47      -0.75       Procedures  \n",
       "  features                                       values time hr_before_admit\n",
       "1 LIMITED ULTRASOUND- CARDIAC TRANSTHORACIC ECHO 1      NA   NA             "
      ]
     },
     "metadata": {},
     "output_type": "display_data"
    },
    {
     "data": {
      "text/html": [
       "<style>\n",
       ".list-inline {list-style: none; margin:0; padding: 0}\n",
       ".list-inline>li {display: inline-block}\n",
       ".list-inline>li:not(:last-child)::after {content: \"\\00b7\"; padding: 0 .5ex}\n",
       "</style>\n",
       "<ol class=list-inline><li>'anon_id'</li><li>'pat_enc_csn_id_coded'</li><li>'admit_time'</li><li>'first_label'</li><li>'death_24hr_recent_label'</li><li>'death_24hr_max_label'</li><li>'pred_first'</li><li>'pred_death_24hr_recent'</li><li>'abs_diff0_24'</li><li>'diff0_True'</li><li>'diff24_True'</li><li>'feature_type'</li><li>'features'</li><li>'values'</li><li>'time'</li><li>'hr_before_admit'</li></ol>\n"
      ],
      "text/latex": [
       "\\begin{enumerate*}\n",
       "\\item 'anon\\_id'\n",
       "\\item 'pat\\_enc\\_csn\\_id\\_coded'\n",
       "\\item 'admit\\_time'\n",
       "\\item 'first\\_label'\n",
       "\\item 'death\\_24hr\\_recent\\_label'\n",
       "\\item 'death\\_24hr\\_max\\_label'\n",
       "\\item 'pred\\_first'\n",
       "\\item 'pred\\_death\\_24hr\\_recent'\n",
       "\\item 'abs\\_diff0\\_24'\n",
       "\\item 'diff0\\_True'\n",
       "\\item 'diff24\\_True'\n",
       "\\item 'feature\\_type'\n",
       "\\item 'features'\n",
       "\\item 'values'\n",
       "\\item 'time'\n",
       "\\item 'hr\\_before\\_admit'\n",
       "\\end{enumerate*}\n"
      ],
      "text/markdown": [
       "1. 'anon_id'\n",
       "2. 'pat_enc_csn_id_coded'\n",
       "3. 'admit_time'\n",
       "4. 'first_label'\n",
       "5. 'death_24hr_recent_label'\n",
       "6. 'death_24hr_max_label'\n",
       "7. 'pred_first'\n",
       "8. 'pred_death_24hr_recent'\n",
       "9. 'abs_diff0_24'\n",
       "10. 'diff0_True'\n",
       "11. 'diff24_True'\n",
       "12. 'feature_type'\n",
       "13. 'features'\n",
       "14. 'values'\n",
       "15. 'time'\n",
       "16. 'hr_before_admit'\n",
       "\n",
       "\n"
      ],
      "text/plain": [
       " [1] \"anon_id\"                 \"pat_enc_csn_id_coded\"   \n",
       " [3] \"admit_time\"              \"first_label\"            \n",
       " [5] \"death_24hr_recent_label\" \"death_24hr_max_label\"   \n",
       " [7] \"pred_first\"              \"pred_death_24hr_recent\" \n",
       " [9] \"abs_diff0_24\"            \"diff0_True\"             \n",
       "[11] \"diff24_True\"             \"feature_type\"           \n",
       "[13] \"features\"                \"values\"                 \n",
       "[15] \"time\"                    \"hr_before_admit\"        "
      ]
     },
     "metadata": {},
     "output_type": "display_data"
    }
   ],
   "source": [
    "head(cohort, 1)\n",
    "colnames(cohort)"
   ]
  },
  {
   "cell_type": "code",
   "execution_count": 9,
   "metadata": {},
   "outputs": [
    {
     "data": {
      "text/html": [
       "<table>\n",
       "<caption>A data.frame: 17 × 16</caption>\n",
       "<thead>\n",
       "\t<tr><th scope=col>anon_id</th><th scope=col>pat_enc_csn_id_coded</th><th scope=col>admit_time</th><th scope=col>first_label</th><th scope=col>death_24hr_recent_label</th><th scope=col>death_24hr_max_label</th><th scope=col>pred_first</th><th scope=col>pred_death_24hr_recent</th><th scope=col>abs_diff0_24</th><th scope=col>diff0_True</th><th scope=col>diff24_True</th><th scope=col>feature_type</th><th scope=col>features</th><th scope=col>values</th><th scope=col>time</th><th scope=col>hr_before_admit</th></tr>\n",
       "\t<tr><th scope=col>&lt;chr&gt;</th><th scope=col>&lt;dbl&gt;</th><th scope=col>&lt;chr&gt;</th><th scope=col>&lt;int&gt;</th><th scope=col>&lt;int&gt;</th><th scope=col>&lt;int&gt;</th><th scope=col>&lt;dbl&gt;</th><th scope=col>&lt;dbl&gt;</th><th scope=col>&lt;dbl&gt;</th><th scope=col>&lt;dbl&gt;</th><th scope=col>&lt;dbl&gt;</th><th scope=col>&lt;chr&gt;</th><th scope=col>&lt;chr&gt;</th><th scope=col>&lt;dbl&gt;</th><th scope=col>&lt;chr&gt;</th><th scope=col>&lt;dbl&gt;</th></tr>\n",
       "</thead>\n",
       "<tbody>\n",
       "\t<tr><td>JCda4f94</td><td>131274348480</td><td>2019-08-07 20:38:00</td><td>0</td><td>0</td><td>0</td><td>0.8106468</td><td>0.4368035</td><td>0.4</td><td>0.81</td><td>0.44</td><td>demo</td><td>ESI_i                </td><td>  3</td><td>NA</td><td>NA</td></tr>\n",
       "\t<tr><td>JCda4f94</td><td>131274348480</td><td>2019-08-07 20:38:00</td><td>0</td><td>0</td><td>0</td><td>0.8106468</td><td>0.4368035</td><td>0.4</td><td>0.81</td><td>0.44</td><td>demo</td><td>delta_ESI            </td><td>  0</td><td>NA</td><td>NA</td></tr>\n",
       "\t<tr><td>JCda4f94</td><td>131274348480</td><td>2019-08-07 20:38:00</td><td>0</td><td>0</td><td>0</td><td>0.8106468</td><td>0.4368035</td><td>0.4</td><td>0.81</td><td>0.44</td><td>demo</td><td>gender               </td><td>  1</td><td>NA</td><td>NA</td></tr>\n",
       "\t<tr><td>JCda4f94</td><td>131274348480</td><td>2019-08-07 20:38:00</td><td>0</td><td>0</td><td>0</td><td>0.8106468</td><td>0.4368035</td><td>0.4</td><td>0.81</td><td>0.44</td><td>demo</td><td>age                  </td><td> 89</td><td>NA</td><td>NA</td></tr>\n",
       "\t<tr><td>JCda4f94</td><td>131274348480</td><td>2019-08-07 20:38:00</td><td>0</td><td>0</td><td>0</td><td>0.8106468</td><td>0.4368035</td><td>0.4</td><td>0.81</td><td>0.44</td><td>demo</td><td>insurance            </td><td>  1</td><td>NA</td><td>NA</td></tr>\n",
       "\t<tr><td>JCda4f94</td><td>131274348480</td><td>2019-08-07 20:38:00</td><td>0</td><td>0</td><td>0</td><td>0.8106468</td><td>0.4368035</td><td>0.4</td><td>0.81</td><td>0.44</td><td>demo</td><td>English              </td><td>  1</td><td>NA</td><td>NA</td></tr>\n",
       "\t<tr><td>JCda4f94</td><td>131274348480</td><td>2019-08-07 20:38:00</td><td>0</td><td>0</td><td>0</td><td>0.8106468</td><td>0.4368035</td><td>0.4</td><td>0.81</td><td>0.44</td><td>demo</td><td>Height_i             </td><td>173</td><td>NA</td><td>NA</td></tr>\n",
       "\t<tr><td>JCda4f94</td><td>131274348480</td><td>2019-08-07 20:38:00</td><td>0</td><td>0</td><td>0</td><td>0.8106468</td><td>0.4368035</td><td>0.4</td><td>0.81</td><td>0.44</td><td>demo</td><td>delta_H              </td><td>  0</td><td>NA</td><td>NA</td></tr>\n",
       "\t<tr><td>JCda4f94</td><td>131274348480</td><td>2019-08-07 20:38:00</td><td>0</td><td>0</td><td>0</td><td>0.8106468</td><td>0.4368035</td><td>0.4</td><td>0.81</td><td>0.44</td><td>demo</td><td>Weight_i             </td><td> 62</td><td>NA</td><td>NA</td></tr>\n",
       "\t<tr><td>JCda4f94</td><td>131274348480</td><td>2019-08-07 20:38:00</td><td>0</td><td>0</td><td>0</td><td>0.8106468</td><td>0.4368035</td><td>0.4</td><td>0.81</td><td>0.44</td><td>demo</td><td>delta_W              </td><td>  0</td><td>NA</td><td>NA</td></tr>\n",
       "\t<tr><td>JCda4f94</td><td>131274348480</td><td>2019-08-07 20:38:00</td><td>0</td><td>0</td><td>0</td><td>0.8106468</td><td>0.4368035</td><td>0.4</td><td>0.81</td><td>0.44</td><td>demo</td><td>race.Asian           </td><td>  0</td><td>NA</td><td>NA</td></tr>\n",
       "\t<tr><td>JCda4f94</td><td>131274348480</td><td>2019-08-07 20:38:00</td><td>0</td><td>0</td><td>0</td><td>0.8106468</td><td>0.4368035</td><td>0.4</td><td>0.81</td><td>0.44</td><td>demo</td><td>race.Black           </td><td>  0</td><td>NA</td><td>NA</td></tr>\n",
       "\t<tr><td>JCda4f94</td><td>131274348480</td><td>2019-08-07 20:38:00</td><td>0</td><td>0</td><td>0</td><td>0.8106468</td><td>0.4368035</td><td>0.4</td><td>0.81</td><td>0.44</td><td>demo</td><td>race.Native.American </td><td>  0</td><td>NA</td><td>NA</td></tr>\n",
       "\t<tr><td>JCda4f94</td><td>131274348480</td><td>2019-08-07 20:38:00</td><td>0</td><td>0</td><td>0</td><td>0.8106468</td><td>0.4368035</td><td>0.4</td><td>0.81</td><td>0.44</td><td>demo</td><td>race.Other           </td><td>  0</td><td>NA</td><td>NA</td></tr>\n",
       "\t<tr><td>JCda4f94</td><td>131274348480</td><td>2019-08-07 20:38:00</td><td>0</td><td>0</td><td>0</td><td>0.8106468</td><td>0.4368035</td><td>0.4</td><td>0.81</td><td>0.44</td><td>demo</td><td>race.Pacific.Islander</td><td>  0</td><td>NA</td><td>NA</td></tr>\n",
       "\t<tr><td>JCda4f94</td><td>131274348480</td><td>2019-08-07 20:38:00</td><td>0</td><td>0</td><td>0</td><td>0.8106468</td><td>0.4368035</td><td>0.4</td><td>0.81</td><td>0.44</td><td>demo</td><td>race.Unknown         </td><td>  0</td><td>NA</td><td>NA</td></tr>\n",
       "\t<tr><td>JCda4f94</td><td>131274348480</td><td>2019-08-07 20:38:00</td><td>0</td><td>0</td><td>0</td><td>0.8106468</td><td>0.4368035</td><td>0.4</td><td>0.81</td><td>0.44</td><td>demo</td><td>race.White           </td><td>  1</td><td>NA</td><td>NA</td></tr>\n",
       "</tbody>\n",
       "</table>\n"
      ],
      "text/latex": [
       "A data.frame: 17 × 16\n",
       "\\begin{tabular}{llllllllllllllll}\n",
       " anon\\_id & pat\\_enc\\_csn\\_id\\_coded & admit\\_time & first\\_label & death\\_24hr\\_recent\\_label & death\\_24hr\\_max\\_label & pred\\_first & pred\\_death\\_24hr\\_recent & abs\\_diff0\\_24 & diff0\\_True & diff24\\_True & feature\\_type & features & values & time & hr\\_before\\_admit\\\\\n",
       " <chr> & <dbl> & <chr> & <int> & <int> & <int> & <dbl> & <dbl> & <dbl> & <dbl> & <dbl> & <chr> & <chr> & <dbl> & <chr> & <dbl>\\\\\n",
       "\\hline\n",
       "\t JCda4f94 & 131274348480 & 2019-08-07 20:38:00 & 0 & 0 & 0 & 0.8106468 & 0.4368035 & 0.4 & 0.81 & 0.44 & demo & ESI\\_i                 &   3 & NA & NA\\\\\n",
       "\t JCda4f94 & 131274348480 & 2019-08-07 20:38:00 & 0 & 0 & 0 & 0.8106468 & 0.4368035 & 0.4 & 0.81 & 0.44 & demo & delta\\_ESI             &   0 & NA & NA\\\\\n",
       "\t JCda4f94 & 131274348480 & 2019-08-07 20:38:00 & 0 & 0 & 0 & 0.8106468 & 0.4368035 & 0.4 & 0.81 & 0.44 & demo & gender                &   1 & NA & NA\\\\\n",
       "\t JCda4f94 & 131274348480 & 2019-08-07 20:38:00 & 0 & 0 & 0 & 0.8106468 & 0.4368035 & 0.4 & 0.81 & 0.44 & demo & age                   &  89 & NA & NA\\\\\n",
       "\t JCda4f94 & 131274348480 & 2019-08-07 20:38:00 & 0 & 0 & 0 & 0.8106468 & 0.4368035 & 0.4 & 0.81 & 0.44 & demo & insurance             &   1 & NA & NA\\\\\n",
       "\t JCda4f94 & 131274348480 & 2019-08-07 20:38:00 & 0 & 0 & 0 & 0.8106468 & 0.4368035 & 0.4 & 0.81 & 0.44 & demo & English               &   1 & NA & NA\\\\\n",
       "\t JCda4f94 & 131274348480 & 2019-08-07 20:38:00 & 0 & 0 & 0 & 0.8106468 & 0.4368035 & 0.4 & 0.81 & 0.44 & demo & Height\\_i              & 173 & NA & NA\\\\\n",
       "\t JCda4f94 & 131274348480 & 2019-08-07 20:38:00 & 0 & 0 & 0 & 0.8106468 & 0.4368035 & 0.4 & 0.81 & 0.44 & demo & delta\\_H               &   0 & NA & NA\\\\\n",
       "\t JCda4f94 & 131274348480 & 2019-08-07 20:38:00 & 0 & 0 & 0 & 0.8106468 & 0.4368035 & 0.4 & 0.81 & 0.44 & demo & Weight\\_i              &  62 & NA & NA\\\\\n",
       "\t JCda4f94 & 131274348480 & 2019-08-07 20:38:00 & 0 & 0 & 0 & 0.8106468 & 0.4368035 & 0.4 & 0.81 & 0.44 & demo & delta\\_W               &   0 & NA & NA\\\\\n",
       "\t JCda4f94 & 131274348480 & 2019-08-07 20:38:00 & 0 & 0 & 0 & 0.8106468 & 0.4368035 & 0.4 & 0.81 & 0.44 & demo & race.Asian            &   0 & NA & NA\\\\\n",
       "\t JCda4f94 & 131274348480 & 2019-08-07 20:38:00 & 0 & 0 & 0 & 0.8106468 & 0.4368035 & 0.4 & 0.81 & 0.44 & demo & race.Black            &   0 & NA & NA\\\\\n",
       "\t JCda4f94 & 131274348480 & 2019-08-07 20:38:00 & 0 & 0 & 0 & 0.8106468 & 0.4368035 & 0.4 & 0.81 & 0.44 & demo & race.Native.American  &   0 & NA & NA\\\\\n",
       "\t JCda4f94 & 131274348480 & 2019-08-07 20:38:00 & 0 & 0 & 0 & 0.8106468 & 0.4368035 & 0.4 & 0.81 & 0.44 & demo & race.Other            &   0 & NA & NA\\\\\n",
       "\t JCda4f94 & 131274348480 & 2019-08-07 20:38:00 & 0 & 0 & 0 & 0.8106468 & 0.4368035 & 0.4 & 0.81 & 0.44 & demo & race.Pacific.Islander &   0 & NA & NA\\\\\n",
       "\t JCda4f94 & 131274348480 & 2019-08-07 20:38:00 & 0 & 0 & 0 & 0.8106468 & 0.4368035 & 0.4 & 0.81 & 0.44 & demo & race.Unknown          &   0 & NA & NA\\\\\n",
       "\t JCda4f94 & 131274348480 & 2019-08-07 20:38:00 & 0 & 0 & 0 & 0.8106468 & 0.4368035 & 0.4 & 0.81 & 0.44 & demo & race.White            &   1 & NA & NA\\\\\n",
       "\\end{tabular}\n"
      ],
      "text/markdown": [
       "\n",
       "A data.frame: 17 × 16\n",
       "\n",
       "| anon_id &lt;chr&gt; | pat_enc_csn_id_coded &lt;dbl&gt; | admit_time &lt;chr&gt; | first_label &lt;int&gt; | death_24hr_recent_label &lt;int&gt; | death_24hr_max_label &lt;int&gt; | pred_first &lt;dbl&gt; | pred_death_24hr_recent &lt;dbl&gt; | abs_diff0_24 &lt;dbl&gt; | diff0_True &lt;dbl&gt; | diff24_True &lt;dbl&gt; | feature_type &lt;chr&gt; | features &lt;chr&gt; | values &lt;dbl&gt; | time &lt;chr&gt; | hr_before_admit &lt;dbl&gt; |\n",
       "|---|---|---|---|---|---|---|---|---|---|---|---|---|---|---|---|\n",
       "| JCda4f94 | 131274348480 | 2019-08-07 20:38:00 | 0 | 0 | 0 | 0.8106468 | 0.4368035 | 0.4 | 0.81 | 0.44 | demo | ESI_i                 |   3 | NA | NA |\n",
       "| JCda4f94 | 131274348480 | 2019-08-07 20:38:00 | 0 | 0 | 0 | 0.8106468 | 0.4368035 | 0.4 | 0.81 | 0.44 | demo | delta_ESI             |   0 | NA | NA |\n",
       "| JCda4f94 | 131274348480 | 2019-08-07 20:38:00 | 0 | 0 | 0 | 0.8106468 | 0.4368035 | 0.4 | 0.81 | 0.44 | demo | gender                |   1 | NA | NA |\n",
       "| JCda4f94 | 131274348480 | 2019-08-07 20:38:00 | 0 | 0 | 0 | 0.8106468 | 0.4368035 | 0.4 | 0.81 | 0.44 | demo | age                   |  89 | NA | NA |\n",
       "| JCda4f94 | 131274348480 | 2019-08-07 20:38:00 | 0 | 0 | 0 | 0.8106468 | 0.4368035 | 0.4 | 0.81 | 0.44 | demo | insurance             |   1 | NA | NA |\n",
       "| JCda4f94 | 131274348480 | 2019-08-07 20:38:00 | 0 | 0 | 0 | 0.8106468 | 0.4368035 | 0.4 | 0.81 | 0.44 | demo | English               |   1 | NA | NA |\n",
       "| JCda4f94 | 131274348480 | 2019-08-07 20:38:00 | 0 | 0 | 0 | 0.8106468 | 0.4368035 | 0.4 | 0.81 | 0.44 | demo | Height_i              | 173 | NA | NA |\n",
       "| JCda4f94 | 131274348480 | 2019-08-07 20:38:00 | 0 | 0 | 0 | 0.8106468 | 0.4368035 | 0.4 | 0.81 | 0.44 | demo | delta_H               |   0 | NA | NA |\n",
       "| JCda4f94 | 131274348480 | 2019-08-07 20:38:00 | 0 | 0 | 0 | 0.8106468 | 0.4368035 | 0.4 | 0.81 | 0.44 | demo | Weight_i              |  62 | NA | NA |\n",
       "| JCda4f94 | 131274348480 | 2019-08-07 20:38:00 | 0 | 0 | 0 | 0.8106468 | 0.4368035 | 0.4 | 0.81 | 0.44 | demo | delta_W               |   0 | NA | NA |\n",
       "| JCda4f94 | 131274348480 | 2019-08-07 20:38:00 | 0 | 0 | 0 | 0.8106468 | 0.4368035 | 0.4 | 0.81 | 0.44 | demo | race.Asian            |   0 | NA | NA |\n",
       "| JCda4f94 | 131274348480 | 2019-08-07 20:38:00 | 0 | 0 | 0 | 0.8106468 | 0.4368035 | 0.4 | 0.81 | 0.44 | demo | race.Black            |   0 | NA | NA |\n",
       "| JCda4f94 | 131274348480 | 2019-08-07 20:38:00 | 0 | 0 | 0 | 0.8106468 | 0.4368035 | 0.4 | 0.81 | 0.44 | demo | race.Native.American  |   0 | NA | NA |\n",
       "| JCda4f94 | 131274348480 | 2019-08-07 20:38:00 | 0 | 0 | 0 | 0.8106468 | 0.4368035 | 0.4 | 0.81 | 0.44 | demo | race.Other            |   0 | NA | NA |\n",
       "| JCda4f94 | 131274348480 | 2019-08-07 20:38:00 | 0 | 0 | 0 | 0.8106468 | 0.4368035 | 0.4 | 0.81 | 0.44 | demo | race.Pacific.Islander |   0 | NA | NA |\n",
       "| JCda4f94 | 131274348480 | 2019-08-07 20:38:00 | 0 | 0 | 0 | 0.8106468 | 0.4368035 | 0.4 | 0.81 | 0.44 | demo | race.Unknown          |   0 | NA | NA |\n",
       "| JCda4f94 | 131274348480 | 2019-08-07 20:38:00 | 0 | 0 | 0 | 0.8106468 | 0.4368035 | 0.4 | 0.81 | 0.44 | demo | race.White            |   1 | NA | NA |\n",
       "\n"
      ],
      "text/plain": [
       "   anon_id  pat_enc_csn_id_coded admit_time          first_label\n",
       "1  JCda4f94 131274348480         2019-08-07 20:38:00 0          \n",
       "2  JCda4f94 131274348480         2019-08-07 20:38:00 0          \n",
       "3  JCda4f94 131274348480         2019-08-07 20:38:00 0          \n",
       "4  JCda4f94 131274348480         2019-08-07 20:38:00 0          \n",
       "5  JCda4f94 131274348480         2019-08-07 20:38:00 0          \n",
       "6  JCda4f94 131274348480         2019-08-07 20:38:00 0          \n",
       "7  JCda4f94 131274348480         2019-08-07 20:38:00 0          \n",
       "8  JCda4f94 131274348480         2019-08-07 20:38:00 0          \n",
       "9  JCda4f94 131274348480         2019-08-07 20:38:00 0          \n",
       "10 JCda4f94 131274348480         2019-08-07 20:38:00 0          \n",
       "11 JCda4f94 131274348480         2019-08-07 20:38:00 0          \n",
       "12 JCda4f94 131274348480         2019-08-07 20:38:00 0          \n",
       "13 JCda4f94 131274348480         2019-08-07 20:38:00 0          \n",
       "14 JCda4f94 131274348480         2019-08-07 20:38:00 0          \n",
       "15 JCda4f94 131274348480         2019-08-07 20:38:00 0          \n",
       "16 JCda4f94 131274348480         2019-08-07 20:38:00 0          \n",
       "17 JCda4f94 131274348480         2019-08-07 20:38:00 0          \n",
       "   death_24hr_recent_label death_24hr_max_label pred_first\n",
       "1  0                       0                    0.8106468 \n",
       "2  0                       0                    0.8106468 \n",
       "3  0                       0                    0.8106468 \n",
       "4  0                       0                    0.8106468 \n",
       "5  0                       0                    0.8106468 \n",
       "6  0                       0                    0.8106468 \n",
       "7  0                       0                    0.8106468 \n",
       "8  0                       0                    0.8106468 \n",
       "9  0                       0                    0.8106468 \n",
       "10 0                       0                    0.8106468 \n",
       "11 0                       0                    0.8106468 \n",
       "12 0                       0                    0.8106468 \n",
       "13 0                       0                    0.8106468 \n",
       "14 0                       0                    0.8106468 \n",
       "15 0                       0                    0.8106468 \n",
       "16 0                       0                    0.8106468 \n",
       "17 0                       0                    0.8106468 \n",
       "   pred_death_24hr_recent abs_diff0_24 diff0_True diff24_True feature_type\n",
       "1  0.4368035              0.4          0.81       0.44        demo        \n",
       "2  0.4368035              0.4          0.81       0.44        demo        \n",
       "3  0.4368035              0.4          0.81       0.44        demo        \n",
       "4  0.4368035              0.4          0.81       0.44        demo        \n",
       "5  0.4368035              0.4          0.81       0.44        demo        \n",
       "6  0.4368035              0.4          0.81       0.44        demo        \n",
       "7  0.4368035              0.4          0.81       0.44        demo        \n",
       "8  0.4368035              0.4          0.81       0.44        demo        \n",
       "9  0.4368035              0.4          0.81       0.44        demo        \n",
       "10 0.4368035              0.4          0.81       0.44        demo        \n",
       "11 0.4368035              0.4          0.81       0.44        demo        \n",
       "12 0.4368035              0.4          0.81       0.44        demo        \n",
       "13 0.4368035              0.4          0.81       0.44        demo        \n",
       "14 0.4368035              0.4          0.81       0.44        demo        \n",
       "15 0.4368035              0.4          0.81       0.44        demo        \n",
       "16 0.4368035              0.4          0.81       0.44        demo        \n",
       "17 0.4368035              0.4          0.81       0.44        demo        \n",
       "   features              values time hr_before_admit\n",
       "1  ESI_i                   3    NA   NA             \n",
       "2  delta_ESI               0    NA   NA             \n",
       "3  gender                  1    NA   NA             \n",
       "4  age                    89    NA   NA             \n",
       "5  insurance               1    NA   NA             \n",
       "6  English                 1    NA   NA             \n",
       "7  Height_i              173    NA   NA             \n",
       "8  delta_H                 0    NA   NA             \n",
       "9  Weight_i               62    NA   NA             \n",
       "10 delta_W                 0    NA   NA             \n",
       "11 race.Asian              0    NA   NA             \n",
       "12 race.Black              0    NA   NA             \n",
       "13 race.Native.American    0    NA   NA             \n",
       "14 race.Other              0    NA   NA             \n",
       "15 race.Pacific.Islander   0    NA   NA             \n",
       "16 race.Unknown            0    NA   NA             \n",
       "17 race.White              1    NA   NA             "
      ]
     },
     "metadata": {},
     "output_type": "display_data"
    }
   ],
   "source": [
    "## check csn=131274348480\n",
    "cohort %>% filter(pat_enc_csn_id_coded == 131274348480, feature_type==\"demo\")"
   ]
  },
  {
   "cell_type": "code",
   "execution_count": 13,
   "metadata": {},
   "outputs": [
    {
     "data": {
      "text/html": [
       "<table>\n",
       "<caption>A data.frame: 1 × 17</caption>\n",
       "<thead>\n",
       "\t<tr><th scope=col>anon_id</th><th scope=col>pat_enc_csn_id_coded</th><th scope=col>inpatient_data_id_coded</th><th scope=col>admit_time</th><th scope=col>label_max24</th><th scope=col>label_24hr_recent</th><th scope=col>admit_label</th><th scope=col>has_admit_label</th><th scope=col>died_within_24hrs</th><th scope=col>death_24hr_max_label</th><th scope=col>death_24hr_recent_label</th><th scope=col>first_label</th><th scope=col>first_label_minutes_since_admit</th><th scope=col>acute_to_critical_label_recent</th><th scope=col>critical_to_acute_label_recent</th><th scope=col>acute_to_critical_label_max</th><th scope=col>critical_to_acute_label_max</th></tr>\n",
       "\t<tr><th scope=col>&lt;chr&gt;</th><th scope=col>&lt;dbl&gt;</th><th scope=col>&lt;int&gt;</th><th scope=col>&lt;chr&gt;</th><th scope=col>&lt;int&gt;</th><th scope=col>&lt;int&gt;</th><th scope=col>&lt;int&gt;</th><th scope=col>&lt;int&gt;</th><th scope=col>&lt;int&gt;</th><th scope=col>&lt;int&gt;</th><th scope=col>&lt;int&gt;</th><th scope=col>&lt;int&gt;</th><th scope=col>&lt;dbl&gt;</th><th scope=col>&lt;int&gt;</th><th scope=col>&lt;int&gt;</th><th scope=col>&lt;int&gt;</th><th scope=col>&lt;int&gt;</th></tr>\n",
       "</thead>\n",
       "<tbody>\n",
       "\t<tr><td>JCda4f94</td><td>131274348480</td><td>40433348</td><td>2019-08-07 20:38:00+00:00</td><td>0</td><td>0</td><td>0</td><td>1</td><td>0</td><td>0</td><td>0</td><td>0</td><td>0</td><td>0</td><td>0</td><td>0</td><td>0</td></tr>\n",
       "</tbody>\n",
       "</table>\n"
      ],
      "text/latex": [
       "A data.frame: 1 × 17\n",
       "\\begin{tabular}{lllllllllllllllll}\n",
       " anon\\_id & pat\\_enc\\_csn\\_id\\_coded & inpatient\\_data\\_id\\_coded & admit\\_time & label\\_max24 & label\\_24hr\\_recent & admit\\_label & has\\_admit\\_label & died\\_within\\_24hrs & death\\_24hr\\_max\\_label & death\\_24hr\\_recent\\_label & first\\_label & first\\_label\\_minutes\\_since\\_admit & acute\\_to\\_critical\\_label\\_recent & critical\\_to\\_acute\\_label\\_recent & acute\\_to\\_critical\\_label\\_max & critical\\_to\\_acute\\_label\\_max\\\\\n",
       " <chr> & <dbl> & <int> & <chr> & <int> & <int> & <int> & <int> & <int> & <int> & <int> & <int> & <dbl> & <int> & <int> & <int> & <int>\\\\\n",
       "\\hline\n",
       "\t JCda4f94 & 131274348480 & 40433348 & 2019-08-07 20:38:00+00:00 & 0 & 0 & 0 & 1 & 0 & 0 & 0 & 0 & 0 & 0 & 0 & 0 & 0\\\\\n",
       "\\end{tabular}\n"
      ],
      "text/markdown": [
       "\n",
       "A data.frame: 1 × 17\n",
       "\n",
       "| anon_id &lt;chr&gt; | pat_enc_csn_id_coded &lt;dbl&gt; | inpatient_data_id_coded &lt;int&gt; | admit_time &lt;chr&gt; | label_max24 &lt;int&gt; | label_24hr_recent &lt;int&gt; | admit_label &lt;int&gt; | has_admit_label &lt;int&gt; | died_within_24hrs &lt;int&gt; | death_24hr_max_label &lt;int&gt; | death_24hr_recent_label &lt;int&gt; | first_label &lt;int&gt; | first_label_minutes_since_admit &lt;dbl&gt; | acute_to_critical_label_recent &lt;int&gt; | critical_to_acute_label_recent &lt;int&gt; | acute_to_critical_label_max &lt;int&gt; | critical_to_acute_label_max &lt;int&gt; |\n",
       "|---|---|---|---|---|---|---|---|---|---|---|---|---|---|---|---|---|\n",
       "| JCda4f94 | 131274348480 | 40433348 | 2019-08-07 20:38:00+00:00 | 0 | 0 | 0 | 1 | 0 | 0 | 0 | 0 | 0 | 0 | 0 | 0 | 0 |\n",
       "\n"
      ],
      "text/plain": [
       "  anon_id  pat_enc_csn_id_coded inpatient_data_id_coded\n",
       "1 JCda4f94 131274348480         40433348               \n",
       "  admit_time                label_max24 label_24hr_recent admit_label\n",
       "1 2019-08-07 20:38:00+00:00 0           0                 0          \n",
       "  has_admit_label died_within_24hrs death_24hr_max_label\n",
       "1 1               0                 0                   \n",
       "  death_24hr_recent_label first_label first_label_minutes_since_admit\n",
       "1 0                       0           0                              \n",
       "  acute_to_critical_label_recent critical_to_acute_label_recent\n",
       "1 0                              0                             \n",
       "  acute_to_critical_label_max critical_to_acute_label_max\n",
       "1 0                           0                          "
      ]
     },
     "metadata": {},
     "output_type": "display_data"
    }
   ],
   "source": [
    "# check different visits\n",
    "cohort0 <- read.csv(file.path(cohortdir, \"1_4_cohort.csv\")) %>% distinct()\n",
    "\n",
    "# there's on in 2018 but was \"Place in Observation\" under Other orders/ Description\n",
    "cohort0 %>% filter(anon_id == 'JCda4f94') %>% distinct(pat_enc_csn_id_coded, .keep_all = TRUE)"
   ]
  },
  {
   "cell_type": "raw",
   "metadata": {},
   "source": [
    "cohort %>% filter(abs_diff0_24 >= 0.4, first_label == first_label) %>% distinct(anon_id, pat_enc_csn_id_coded)\n",
    "cohort %>% filter(abs_diff0_24 >= 0.4, first_label == first_label) %>% distinct(anon_id)"
   ]
  },
  {
   "cell_type": "raw",
   "metadata": {},
   "source": [
    "# r1 is from previously combined all and 24hrprior from topIDs\n",
    "# r2 is 2 additional IDs after changing the rounding the absdiff\n",
    "r1 <- read.csv(file.path(datadir, \"topIDre.csv\"))\n",
    "r2 <- read.csv(file.path(datadir, \"topIDre5.csv\"))\n",
    "rs <- bind_rows(r1, r2) %>% select(-X, -anon_id)\n",
    "colnames(rs) <- c('mrn', 'anon_id', 'jitter')\n",
    "\n",
    "write.csv(rs, file.path(datadir, \"top_reIDs.csv\"), row.names=FALSE)"
   ]
  },
  {
   "cell_type": "raw",
   "metadata": {},
   "source": [
    "# reid was from the old file previously combined all and 24hrprior from topIDs\n",
    "# after fixing the rounding of absdiff, identified 5 more IDs need to be re-identify\n",
    "\n",
    "# filter those with diff >= 0.4\n",
    "diff4 <- cohort %>% filter(abs_diff0_24 >=0.4) %>% distinct(anon_id)\n",
    "nrow(diff4)\n",
    "sum(diff4$anon_id %in% reid$anon_id) # missing 5\n",
    "\n",
    "diff4 %>% filter(!anon_id %in% reid$anon_id) %>% select(anon_id)\n",
    "setdiff(diff4$anon_id, reid$anon_id)\n",
    "# setdiff(reid$anon_id, diff4$anon_id)"
   ]
  },
  {
   "cell_type": "markdown",
   "metadata": {},
   "source": [
    "### Checking diagnosis to compare with total cohort"
   ]
  },
  {
   "cell_type": "code",
   "execution_count": 5,
   "metadata": {},
   "outputs": [
    {
     "data": {
      "text/html": [
       "1239918"
      ],
      "text/latex": [
       "1239918"
      ],
      "text/markdown": [
       "1239918"
      ],
      "text/plain": [
       "[1] 1239918"
      ]
     },
     "metadata": {},
     "output_type": "display_data"
    },
    {
     "data": {
      "text/html": [
       "43932"
      ],
      "text/latex": [
       "43932"
      ],
      "text/markdown": [
       "43932"
      ],
      "text/plain": [
       "[1] 43932"
      ]
     },
     "metadata": {},
     "output_type": "display_data"
    }
   ],
   "source": [
    "# all dx from 1_4_cohort, SQL query\n",
    "dx <- read.csv(file.path(datadir, \"1_4_cohort_all_current_dx.csv\"))\n",
    "nrow(dx) #1239918\n",
    "\n",
    "ndx = length(unique(dx$pat_enc_csn_id_coded)) # full cohort is 43980\n",
    "ndx"
   ]
  },
  {
   "cell_type": "code",
   "execution_count": 32,
   "metadata": {},
   "outputs": [
    {
     "data": {
      "text/html": [
       "<table class=\"dataframe\">\n",
       "<caption>A data.frame: 20 × 3</caption>\n",
       "<thead>\n",
       "\t<tr><th></th><th scope=col>dx_name</th><th scope=col>n</th><th scope=col>perc</th></tr>\n",
       "\t<tr><th></th><th scope=col>&lt;chr&gt;</th><th scope=col>&lt;int&gt;</th><th scope=col>&lt;dbl&gt;</th></tr>\n",
       "</thead>\n",
       "<tbody>\n",
       "\t<tr><th scope=row>1</th><td>Other long term (current) drug therapy                                         </td><td>12409</td><td>26.26</td></tr>\n",
       "\t<tr><th scope=row>2</th><td>Hyperlipidemia, unspecified                                                    </td><td>11532</td><td>24.41</td></tr>\n",
       "\t<tr><th scope=row>3</th><td>Essential (primary) hypertension                                               </td><td>10691</td><td>22.63</td></tr>\n",
       "\t<tr><th scope=row>4</th><td>Personal history of nicotine dependence                                        </td><td> 9969</td><td>21.10</td></tr>\n",
       "\t<tr><th scope=row>5</th><td>Long term (current) use of aspirin                                             </td><td> 7188</td><td>15.21</td></tr>\n",
       "\t<tr><th scope=row>6</th><td>Gastro-esophageal reflux disease without esophagitis                           </td><td> 6725</td><td>14.23</td></tr>\n",
       "\t<tr><th scope=row>7</th><td>Acute kidney failure, unspecified                                              </td><td> 6538</td><td>13.84</td></tr>\n",
       "\t<tr><th scope=row>8</th><td>Major depressive disorder, single episode, unspecified                         </td><td> 5719</td><td>12.10</td></tr>\n",
       "\t<tr><th scope=row>9</th><td>Long term (current) use of anticoagulants                                      </td><td> 5456</td><td>11.55</td></tr>\n",
       "\t<tr><th scope=row>10</th><td>Atherosclerotic heart disease of native coronary artery without angina pectoris</td><td> 5429</td><td>11.49</td></tr>\n",
       "\t<tr><th scope=row>11</th><td>Shortness of breath                                                            </td><td> 5389</td><td>11.41</td></tr>\n",
       "\t<tr><th scope=row>12</th><td>Hypo-osmolality and hyponatremia                                               </td><td> 5119</td><td>10.83</td></tr>\n",
       "\t<tr><th scope=row>13</th><td>Other chronic pain                                                             </td><td> 4606</td><td> 9.75</td></tr>\n",
       "\t<tr><th scope=row>14</th><td>Hypothyroidism, unspecified                                                    </td><td> 4556</td><td> 9.64</td></tr>\n",
       "\t<tr><th scope=row>15</th><td>Obstructive sleep apnea (adult) (pediatric)                                    </td><td> 4416</td><td> 9.35</td></tr>\n",
       "\t<tr><th scope=row>16</th><td>Long term (current) use of insulin                                             </td><td> 4385</td><td> 9.28</td></tr>\n",
       "\t<tr><th scope=row>17</th><td>Anxiety disorder, unspecified                                                  </td><td> 4262</td><td> 9.02</td></tr>\n",
       "\t<tr><th scope=row>18</th><td>Allergy status to other drugs, medicaments and biological substances status    </td><td> 3925</td><td> 8.31</td></tr>\n",
       "\t<tr><th scope=row>19</th><td>Sepsis, unspecified organism                                                   </td><td> 3850</td><td> 8.15</td></tr>\n",
       "\t<tr><th scope=row>20</th><td>Hypokalemia                                                                    </td><td> 3792</td><td> 8.03</td></tr>\n",
       "</tbody>\n",
       "</table>\n"
      ],
      "text/latex": [
       "A data.frame: 20 × 3\n",
       "\\begin{tabular}{r|lll}\n",
       "  & dx\\_name & n & perc\\\\\n",
       "  & <chr> & <int> & <dbl>\\\\\n",
       "\\hline\n",
       "\t1 & Other long term (current) drug therapy                                          & 12409 & 26.26\\\\\n",
       "\t2 & Hyperlipidemia, unspecified                                                     & 11532 & 24.41\\\\\n",
       "\t3 & Essential (primary) hypertension                                                & 10691 & 22.63\\\\\n",
       "\t4 & Personal history of nicotine dependence                                         &  9969 & 21.10\\\\\n",
       "\t5 & Long term (current) use of aspirin                                              &  7188 & 15.21\\\\\n",
       "\t6 & Gastro-esophageal reflux disease without esophagitis                            &  6725 & 14.23\\\\\n",
       "\t7 & Acute kidney failure, unspecified                                               &  6538 & 13.84\\\\\n",
       "\t8 & Major depressive disorder, single episode, unspecified                          &  5719 & 12.10\\\\\n",
       "\t9 & Long term (current) use of anticoagulants                                       &  5456 & 11.55\\\\\n",
       "\t10 & Atherosclerotic heart disease of native coronary artery without angina pectoris &  5429 & 11.49\\\\\n",
       "\t11 & Shortness of breath                                                             &  5389 & 11.41\\\\\n",
       "\t12 & Hypo-osmolality and hyponatremia                                                &  5119 & 10.83\\\\\n",
       "\t13 & Other chronic pain                                                              &  4606 &  9.75\\\\\n",
       "\t14 & Hypothyroidism, unspecified                                                     &  4556 &  9.64\\\\\n",
       "\t15 & Obstructive sleep apnea (adult) (pediatric)                                     &  4416 &  9.35\\\\\n",
       "\t16 & Long term (current) use of insulin                                              &  4385 &  9.28\\\\\n",
       "\t17 & Anxiety disorder, unspecified                                                   &  4262 &  9.02\\\\\n",
       "\t18 & Allergy status to other drugs, medicaments and biological substances status     &  3925 &  8.31\\\\\n",
       "\t19 & Sepsis, unspecified organism                                                    &  3850 &  8.15\\\\\n",
       "\t20 & Hypokalemia                                                                     &  3792 &  8.03\\\\\n",
       "\\end{tabular}\n"
      ],
      "text/markdown": [
       "\n",
       "A data.frame: 20 × 3\n",
       "\n",
       "| <!--/--> | dx_name &lt;chr&gt; | n &lt;int&gt; | perc &lt;dbl&gt; |\n",
       "|---|---|---|---|\n",
       "| 1 | Other long term (current) drug therapy                                          | 12409 | 26.26 |\n",
       "| 2 | Hyperlipidemia, unspecified                                                     | 11532 | 24.41 |\n",
       "| 3 | Essential (primary) hypertension                                                | 10691 | 22.63 |\n",
       "| 4 | Personal history of nicotine dependence                                         |  9969 | 21.10 |\n",
       "| 5 | Long term (current) use of aspirin                                              |  7188 | 15.21 |\n",
       "| 6 | Gastro-esophageal reflux disease without esophagitis                            |  6725 | 14.23 |\n",
       "| 7 | Acute kidney failure, unspecified                                               |  6538 | 13.84 |\n",
       "| 8 | Major depressive disorder, single episode, unspecified                          |  5719 | 12.10 |\n",
       "| 9 | Long term (current) use of anticoagulants                                       |  5456 | 11.55 |\n",
       "| 10 | Atherosclerotic heart disease of native coronary artery without angina pectoris |  5429 | 11.49 |\n",
       "| 11 | Shortness of breath                                                             |  5389 | 11.41 |\n",
       "| 12 | Hypo-osmolality and hyponatremia                                                |  5119 | 10.83 |\n",
       "| 13 | Other chronic pain                                                              |  4606 |  9.75 |\n",
       "| 14 | Hypothyroidism, unspecified                                                     |  4556 |  9.64 |\n",
       "| 15 | Obstructive sleep apnea (adult) (pediatric)                                     |  4416 |  9.35 |\n",
       "| 16 | Long term (current) use of insulin                                              |  4385 |  9.28 |\n",
       "| 17 | Anxiety disorder, unspecified                                                   |  4262 |  9.02 |\n",
       "| 18 | Allergy status to other drugs, medicaments and biological substances status     |  3925 |  8.31 |\n",
       "| 19 | Sepsis, unspecified organism                                                    |  3850 |  8.15 |\n",
       "| 20 | Hypokalemia                                                                     |  3792 |  8.03 |\n",
       "\n"
      ],
      "text/plain": [
       "   dx_name                                                                        \n",
       "1  Other long term (current) drug therapy                                         \n",
       "2  Hyperlipidemia, unspecified                                                    \n",
       "3  Essential (primary) hypertension                                               \n",
       "4  Personal history of nicotine dependence                                        \n",
       "5  Long term (current) use of aspirin                                             \n",
       "6  Gastro-esophageal reflux disease without esophagitis                           \n",
       "7  Acute kidney failure, unspecified                                              \n",
       "8  Major depressive disorder, single episode, unspecified                         \n",
       "9  Long term (current) use of anticoagulants                                      \n",
       "10 Atherosclerotic heart disease of native coronary artery without angina pectoris\n",
       "11 Shortness of breath                                                            \n",
       "12 Hypo-osmolality and hyponatremia                                               \n",
       "13 Other chronic pain                                                             \n",
       "14 Hypothyroidism, unspecified                                                    \n",
       "15 Obstructive sleep apnea (adult) (pediatric)                                    \n",
       "16 Long term (current) use of insulin                                             \n",
       "17 Anxiety disorder, unspecified                                                  \n",
       "18 Allergy status to other drugs, medicaments and biological substances status    \n",
       "19 Sepsis, unspecified organism                                                   \n",
       "20 Hypokalemia                                                                    \n",
       "   n     perc \n",
       "1  12409 26.26\n",
       "2  11532 24.41\n",
       "3  10691 22.63\n",
       "4   9969 21.10\n",
       "5   7188 15.21\n",
       "6   6725 14.23\n",
       "7   6538 13.84\n",
       "8   5719 12.10\n",
       "9   5456 11.55\n",
       "10  5429 11.49\n",
       "11  5389 11.41\n",
       "12  5119 10.83\n",
       "13  4606  9.75\n",
       "14  4556  9.64\n",
       "15  4416  9.35\n",
       "16  4385  9.28\n",
       "17  4262  9.02\n",
       "18  3925  8.31\n",
       "19  3850  8.15\n",
       "20  3792  8.03"
      ]
     },
     "metadata": {},
     "output_type": "display_data"
    }
   ],
   "source": [
    "# 47246\n",
    "dx %>% distinct(pat_enc_csn_id_coded, dx_name) %>% count(dx_name, sort=TRUE) %>% \n",
    "    mutate(perc = round(100*n/47246, 2)) %>% head(20)"
   ]
  },
  {
   "cell_type": "code",
   "execution_count": 34,
   "metadata": {},
   "outputs": [
    {
     "data": {
      "text/html": [
       "<table class=\"dataframe\">\n",
       "<caption>A data.frame: 20 × 3</caption>\n",
       "<thead>\n",
       "\t<tr><th></th><th scope=col>dx_name</th><th scope=col>n</th><th scope=col>perc</th></tr>\n",
       "\t<tr><th></th><th scope=col>&lt;chr&gt;</th><th scope=col>&lt;int&gt;</th><th scope=col>&lt;dbl&gt;</th></tr>\n",
       "</thead>\n",
       "<tbody>\n",
       "\t<tr><th scope=row>1</th><td>Suicidal ideation                                                  </td><td>407</td><td>8.79</td></tr>\n",
       "\t<tr><th scope=row>2</th><td>Pneumonia due to organism                                          </td><td>302</td><td>6.52</td></tr>\n",
       "\t<tr><th scope=row>3</th><td>Sepsis, due to unspecified organism                                </td><td>277</td><td>5.98</td></tr>\n",
       "\t<tr><th scope=row>4</th><td>Hyponatremia                                                       </td><td>274</td><td>5.92</td></tr>\n",
       "\t<tr><th scope=row>5</th><td>Non-ST elevation myocardial infarction (NSTEMI) (CMS-HCC)          </td><td>227</td><td>4.90</td></tr>\n",
       "\t<tr><th scope=row>6</th><td>SBO (small bowel obstruction) (CMS-HCC)                            </td><td>222</td><td>4.79</td></tr>\n",
       "\t<tr><th scope=row>7</th><td>Acute chest pain                                                   </td><td>211</td><td>4.56</td></tr>\n",
       "\t<tr><th scope=row>8</th><td>Small bowel obstruction (CMS-HCC)                                  </td><td>205</td><td>4.43</td></tr>\n",
       "\t<tr><th scope=row>9</th><td>Neutropenic fever (CMS-HCC)                                        </td><td>194</td><td>4.19</td></tr>\n",
       "\t<tr><th scope=row>10</th><td>Acute GI bleeding                                                  </td><td>190</td><td>4.10</td></tr>\n",
       "\t<tr><th scope=row>11</th><td>Shortness of breath                                                </td><td>186</td><td>4.02</td></tr>\n",
       "\t<tr><th scope=row>12</th><td>Altered mental status, unspecified altered mental status type      </td><td>172</td><td>3.71</td></tr>\n",
       "\t<tr><th scope=row>13</th><td>Acute kidney injury (nontraumatic) (CMS-HCC)                       </td><td>156</td><td>3.37</td></tr>\n",
       "\t<tr><th scope=row>14</th><td>COPD with acute exacerbation (CMS-HCC)                             </td><td>143</td><td>3.09</td></tr>\n",
       "\t<tr><th scope=row>15</th><td>Fever, unspecified fever cause                                     </td><td>139</td><td>3.00</td></tr>\n",
       "\t<tr><th scope=row>16</th><td>Acute renal failure, unspecified acute renal failure type (CMS-HCC)</td><td>134</td><td>2.89</td></tr>\n",
       "\t<tr><th scope=row>17</th><td>Fever and other physiologic disturbances of temperature regulation </td><td>125</td><td>2.70</td></tr>\n",
       "\t<tr><th scope=row>18</th><td>Psychosis, unspecified psychosis type (CMS-HCC)                    </td><td>123</td><td>2.66</td></tr>\n",
       "\t<tr><th scope=row>19</th><td>Generalized abdominal pain                                         </td><td>119</td><td>2.57</td></tr>\n",
       "\t<tr><th scope=row>20</th><td>Acute pyelonephritis                                               </td><td>114</td><td>2.46</td></tr>\n",
       "</tbody>\n",
       "</table>\n"
      ],
      "text/latex": [
       "A data.frame: 20 × 3\n",
       "\\begin{tabular}{r|lll}\n",
       "  & dx\\_name & n & perc\\\\\n",
       "  & <chr> & <int> & <dbl>\\\\\n",
       "\\hline\n",
       "\t1 & Suicidal ideation                                                   & 407 & 8.79\\\\\n",
       "\t2 & Pneumonia due to organism                                           & 302 & 6.52\\\\\n",
       "\t3 & Sepsis, due to unspecified organism                                 & 277 & 5.98\\\\\n",
       "\t4 & Hyponatremia                                                        & 274 & 5.92\\\\\n",
       "\t5 & Non-ST elevation myocardial infarction (NSTEMI) (CMS-HCC)           & 227 & 4.90\\\\\n",
       "\t6 & SBO (small bowel obstruction) (CMS-HCC)                             & 222 & 4.79\\\\\n",
       "\t7 & Acute chest pain                                                    & 211 & 4.56\\\\\n",
       "\t8 & Small bowel obstruction (CMS-HCC)                                   & 205 & 4.43\\\\\n",
       "\t9 & Neutropenic fever (CMS-HCC)                                         & 194 & 4.19\\\\\n",
       "\t10 & Acute GI bleeding                                                   & 190 & 4.10\\\\\n",
       "\t11 & Shortness of breath                                                 & 186 & 4.02\\\\\n",
       "\t12 & Altered mental status, unspecified altered mental status type       & 172 & 3.71\\\\\n",
       "\t13 & Acute kidney injury (nontraumatic) (CMS-HCC)                        & 156 & 3.37\\\\\n",
       "\t14 & COPD with acute exacerbation (CMS-HCC)                              & 143 & 3.09\\\\\n",
       "\t15 & Fever, unspecified fever cause                                      & 139 & 3.00\\\\\n",
       "\t16 & Acute renal failure, unspecified acute renal failure type (CMS-HCC) & 134 & 2.89\\\\\n",
       "\t17 & Fever and other physiologic disturbances of temperature regulation  & 125 & 2.70\\\\\n",
       "\t18 & Psychosis, unspecified psychosis type (CMS-HCC)                     & 123 & 2.66\\\\\n",
       "\t19 & Generalized abdominal pain                                          & 119 & 2.57\\\\\n",
       "\t20 & Acute pyelonephritis                                                & 114 & 2.46\\\\\n",
       "\\end{tabular}\n"
      ],
      "text/markdown": [
       "\n",
       "A data.frame: 20 × 3\n",
       "\n",
       "| <!--/--> | dx_name &lt;chr&gt; | n &lt;int&gt; | perc &lt;dbl&gt; |\n",
       "|---|---|---|---|\n",
       "| 1 | Suicidal ideation                                                   | 407 | 8.79 |\n",
       "| 2 | Pneumonia due to organism                                           | 302 | 6.52 |\n",
       "| 3 | Sepsis, due to unspecified organism                                 | 277 | 5.98 |\n",
       "| 4 | Hyponatremia                                                        | 274 | 5.92 |\n",
       "| 5 | Non-ST elevation myocardial infarction (NSTEMI) (CMS-HCC)           | 227 | 4.90 |\n",
       "| 6 | SBO (small bowel obstruction) (CMS-HCC)                             | 222 | 4.79 |\n",
       "| 7 | Acute chest pain                                                    | 211 | 4.56 |\n",
       "| 8 | Small bowel obstruction (CMS-HCC)                                   | 205 | 4.43 |\n",
       "| 9 | Neutropenic fever (CMS-HCC)                                         | 194 | 4.19 |\n",
       "| 10 | Acute GI bleeding                                                   | 190 | 4.10 |\n",
       "| 11 | Shortness of breath                                                 | 186 | 4.02 |\n",
       "| 12 | Altered mental status, unspecified altered mental status type       | 172 | 3.71 |\n",
       "| 13 | Acute kidney injury (nontraumatic) (CMS-HCC)                        | 156 | 3.37 |\n",
       "| 14 | COPD with acute exacerbation (CMS-HCC)                              | 143 | 3.09 |\n",
       "| 15 | Fever, unspecified fever cause                                      | 139 | 3.00 |\n",
       "| 16 | Acute renal failure, unspecified acute renal failure type (CMS-HCC) | 134 | 2.89 |\n",
       "| 17 | Fever and other physiologic disturbances of temperature regulation  | 125 | 2.70 |\n",
       "| 18 | Psychosis, unspecified psychosis type (CMS-HCC)                     | 123 | 2.66 |\n",
       "| 19 | Generalized abdominal pain                                          | 119 | 2.57 |\n",
       "| 20 | Acute pyelonephritis                                                | 114 | 2.46 |\n",
       "\n"
      ],
      "text/plain": [
       "   dx_name                                                             n   perc\n",
       "1  Suicidal ideation                                                   407 8.79\n",
       "2  Pneumonia due to organism                                           302 6.52\n",
       "3  Sepsis, due to unspecified organism                                 277 5.98\n",
       "4  Hyponatremia                                                        274 5.92\n",
       "5  Non-ST elevation myocardial infarction (NSTEMI) (CMS-HCC)           227 4.90\n",
       "6  SBO (small bowel obstruction) (CMS-HCC)                             222 4.79\n",
       "7  Acute chest pain                                                    211 4.56\n",
       "8  Small bowel obstruction (CMS-HCC)                                   205 4.43\n",
       "9  Neutropenic fever (CMS-HCC)                                         194 4.19\n",
       "10 Acute GI bleeding                                                   190 4.10\n",
       "11 Shortness of breath                                                 186 4.02\n",
       "12 Altered mental status, unspecified altered mental status type       172 3.71\n",
       "13 Acute kidney injury (nontraumatic) (CMS-HCC)                        156 3.37\n",
       "14 COPD with acute exacerbation (CMS-HCC)                              143 3.09\n",
       "15 Fever, unspecified fever cause                                      139 3.00\n",
       "16 Acute renal failure, unspecified acute renal failure type (CMS-HCC) 134 2.89\n",
       "17 Fever and other physiologic disturbances of temperature regulation  125 2.70\n",
       "18 Psychosis, unspecified psychosis type (CMS-HCC)                     123 2.66\n",
       "19 Generalized abdominal pain                                          119 2.57\n",
       "20 Acute pyelonephritis                                                114 2.46"
      ]
     },
     "metadata": {},
     "output_type": "display_data"
    }
   ],
   "source": [
    "# dx present in the ED and identified as the primary problems, 4632\n",
    "dx %>% filter(ed==\"Y\", primary==\"Y\") %>% distinct(pat_enc_csn_id_coded, dx_name) %>% \n",
    "        count(dx_name, sort=TRUE) %>% \n",
    "        mutate(perc = round(100*n/4632, 2)) %>% head(20)"
   ]
  },
  {
   "cell_type": "code",
   "execution_count": 8,
   "metadata": {},
   "outputs": [],
   "source": [
    "diff4 <- cohort %>% filter(abs_diff0_24 >=0.4) "
   ]
  },
  {
   "cell_type": "code",
   "execution_count": 9,
   "metadata": {},
   "outputs": [
    {
     "data": {
      "text/html": [
       "<table class=\"dataframe\">\n",
       "<caption>A tibble: 4 × 6</caption>\n",
       "<thead>\n",
       "\t<tr><th scope=col>abs_diff0_24</th><th scope=col>nrows</th><th scope=col>count_csn</th><th scope=col>count_mrn</th><th scope=col>cum_csn</th><th scope=col>cum_mrn</th></tr>\n",
       "\t<tr><th scope=col>&lt;dbl&gt;</th><th scope=col>&lt;int&gt;</th><th scope=col>&lt;int&gt;</th><th scope=col>&lt;int&gt;</th><th scope=col>&lt;int&gt;</th><th scope=col>&lt;int&gt;</th></tr>\n",
       "</thead>\n",
       "<tbody>\n",
       "\t<tr><td>0.7</td><td>  560</td><td> 3</td><td> 3</td><td>  3</td><td>  3</td></tr>\n",
       "\t<tr><td>0.6</td><td> 1042</td><td> 7</td><td> 7</td><td> 10</td><td> 10</td></tr>\n",
       "\t<tr><td>0.5</td><td> 6559</td><td>27</td><td>24</td><td> 37</td><td> 34</td></tr>\n",
       "\t<tr><td>0.4</td><td>19690</td><td>80</td><td>77</td><td>117</td><td>111</td></tr>\n",
       "</tbody>\n",
       "</table>\n"
      ],
      "text/latex": [
       "A tibble: 4 × 6\n",
       "\\begin{tabular}{llllll}\n",
       " abs\\_diff0\\_24 & nrows & count\\_csn & count\\_mrn & cum\\_csn & cum\\_mrn\\\\\n",
       " <dbl> & <int> & <int> & <int> & <int> & <int>\\\\\n",
       "\\hline\n",
       "\t 0.7 &   560 &  3 &  3 &   3 &   3\\\\\n",
       "\t 0.6 &  1042 &  7 &  7 &  10 &  10\\\\\n",
       "\t 0.5 &  6559 & 27 & 24 &  37 &  34\\\\\n",
       "\t 0.4 & 19690 & 80 & 77 & 117 & 111\\\\\n",
       "\\end{tabular}\n"
      ],
      "text/markdown": [
       "\n",
       "A tibble: 4 × 6\n",
       "\n",
       "| abs_diff0_24 &lt;dbl&gt; | nrows &lt;int&gt; | count_csn &lt;int&gt; | count_mrn &lt;int&gt; | cum_csn &lt;int&gt; | cum_mrn &lt;int&gt; |\n",
       "|---|---|---|---|---|---|\n",
       "| 0.7 |   560 |  3 |  3 |   3 |   3 |\n",
       "| 0.6 |  1042 |  7 |  7 |  10 |  10 |\n",
       "| 0.5 |  6559 | 27 | 24 |  37 |  34 |\n",
       "| 0.4 | 19690 | 80 | 77 | 117 | 111 |\n",
       "\n"
      ],
      "text/plain": [
       "  abs_diff0_24 nrows count_csn count_mrn cum_csn cum_mrn\n",
       "1 0.7            560  3         3          3       3    \n",
       "2 0.6           1042  7         7         10      10    \n",
       "3 0.5           6559 27        24         37      34    \n",
       "4 0.4          19690 80        77        117     111    "
      ]
     },
     "metadata": {},
     "output_type": "display_data"
    }
   ],
   "source": [
    "diff4 %>% group_by(abs_diff0_24) %>% \n",
    "            summarise(nrows = n(), count_csn = n_distinct(pat_enc_csn_id_coded), count_mrn = n_distinct(anon_id)) %>% \n",
    "            arrange(-abs_diff0_24) %>% mutate(cum_csn = cumsum(count_csn), cum_mrn = cumsum(count_mrn))"
   ]
  },
  {
   "cell_type": "code",
   "execution_count": 36,
   "metadata": {},
   "outputs": [
    {
     "name": "stderr",
     "output_type": "stream",
     "text": [
      "Joining, by = c(\"anon_id\", \"pat_enc_csn_id_coded\")\n",
      "\n"
     ]
    },
    {
     "data": {
      "text/html": [
       "849920"
      ],
      "text/latex": [
       "849920"
      ],
      "text/markdown": [
       "849920"
      ],
      "text/plain": [
       "[1] 849920"
      ]
     },
     "metadata": {},
     "output_type": "display_data"
    },
    {
     "data": {
      "text/html": [
       "117"
      ],
      "text/latex": [
       "117"
      ],
      "text/markdown": [
       "117"
      ],
      "text/plain": [
       "[1] 117"
      ]
     },
     "metadata": {},
     "output_type": "display_data"
    },
    {
     "data": {
      "text/html": [
       "105"
      ],
      "text/latex": [
       "105"
      ],
      "text/markdown": [
       "105"
      ],
      "text/plain": [
       "[1] 105"
      ]
     },
     "metadata": {},
     "output_type": "display_data"
    },
    {
     "data": {
      "text/html": [
       "<table class=\"dataframe\">\n",
       "<caption>A data.frame: 20 × 3</caption>\n",
       "<thead>\n",
       "\t<tr><th></th><th scope=col>dx_name</th><th scope=col>n</th><th scope=col>perc</th></tr>\n",
       "\t<tr><th></th><th scope=col>&lt;chr&gt;</th><th scope=col>&lt;int&gt;</th><th scope=col>&lt;dbl&gt;</th></tr>\n",
       "</thead>\n",
       "<tbody>\n",
       "\t<tr><th scope=row>1</th><td>Other long term (current) drug therapy                                               </td><td>50</td><td>4.09</td></tr>\n",
       "\t<tr><th scope=row>2</th><td>Hyperlipidemia, unspecified                                                          </td><td>49</td><td>4.01</td></tr>\n",
       "\t<tr><th scope=row>3</th><td>Long term (current) use of insulin                                                   </td><td>42</td><td>3.44</td></tr>\n",
       "\t<tr><th scope=row>4</th><td>Essential (primary) hypertension                                                     </td><td>40</td><td>3.27</td></tr>\n",
       "\t<tr><th scope=row>5</th><td>Long term (current) use of aspirin                                                   </td><td>32</td><td>2.62</td></tr>\n",
       "\t<tr><th scope=row>6</th><td>Major depressive disorder, single episode, unspecified                               </td><td>27</td><td>2.21</td></tr>\n",
       "\t<tr><th scope=row>7</th><td>Atherosclerotic heart disease of native coronary artery without angina pectoris      </td><td>26</td><td>2.13</td></tr>\n",
       "\t<tr><th scope=row>8</th><td>Dehydration                                                                          </td><td>25</td><td>2.05</td></tr>\n",
       "\t<tr><th scope=row>9</th><td>Personal history of nicotine dependence                                              </td><td>25</td><td>2.05</td></tr>\n",
       "\t<tr><th scope=row>10</th><td>Gastro-esophageal reflux disease without esophagitis                                 </td><td>20</td><td>1.64</td></tr>\n",
       "\t<tr><th scope=row>11</th><td>Type 1 diabetes mellitus with ketoacidosis without coma                              </td><td>20</td><td>1.64</td></tr>\n",
       "\t<tr><th scope=row>12</th><td>Weakness                                                                             </td><td>20</td><td>1.64</td></tr>\n",
       "\t<tr><th scope=row>13</th><td>Acidosis                                                                             </td><td>19</td><td>1.55</td></tr>\n",
       "\t<tr><th scope=row>14</th><td>Acute kidney failure, unspecified                                                    </td><td>19</td><td>1.55</td></tr>\n",
       "\t<tr><th scope=row>15</th><td>Family history of diabetes mellitus                                                  </td><td>19</td><td>1.55</td></tr>\n",
       "\t<tr><th scope=row>16</th><td>Hypothyroidism, unspecified                                                          </td><td>19</td><td>1.55</td></tr>\n",
       "\t<tr><th scope=row>17</th><td>Diabetic ketoacidosis without coma associated with type 1 diabetes mellitus (CMS-HCC)</td><td>18</td><td>1.47</td></tr>\n",
       "\t<tr><th scope=row>18</th><td>Family history of ischemic heart disease and other diseases of the circulatory system</td><td>18</td><td>1.47</td></tr>\n",
       "\t<tr><th scope=row>19</th><td>Long term (current) use of anticoagulants                                            </td><td>18</td><td>1.47</td></tr>\n",
       "\t<tr><th scope=row>20</th><td>Hypo-osmolality and hyponatremia                                                     </td><td>17</td><td>1.39</td></tr>\n",
       "</tbody>\n",
       "</table>\n"
      ],
      "text/latex": [
       "A data.frame: 20 × 3\n",
       "\\begin{tabular}{r|lll}\n",
       "  & dx\\_name & n & perc\\\\\n",
       "  & <chr> & <int> & <dbl>\\\\\n",
       "\\hline\n",
       "\t1 & Other long term (current) drug therapy                                                & 50 & 4.09\\\\\n",
       "\t2 & Hyperlipidemia, unspecified                                                           & 49 & 4.01\\\\\n",
       "\t3 & Long term (current) use of insulin                                                    & 42 & 3.44\\\\\n",
       "\t4 & Essential (primary) hypertension                                                      & 40 & 3.27\\\\\n",
       "\t5 & Long term (current) use of aspirin                                                    & 32 & 2.62\\\\\n",
       "\t6 & Major depressive disorder, single episode, unspecified                                & 27 & 2.21\\\\\n",
       "\t7 & Atherosclerotic heart disease of native coronary artery without angina pectoris       & 26 & 2.13\\\\\n",
       "\t8 & Dehydration                                                                           & 25 & 2.05\\\\\n",
       "\t9 & Personal history of nicotine dependence                                               & 25 & 2.05\\\\\n",
       "\t10 & Gastro-esophageal reflux disease without esophagitis                                  & 20 & 1.64\\\\\n",
       "\t11 & Type 1 diabetes mellitus with ketoacidosis without coma                               & 20 & 1.64\\\\\n",
       "\t12 & Weakness                                                                              & 20 & 1.64\\\\\n",
       "\t13 & Acidosis                                                                              & 19 & 1.55\\\\\n",
       "\t14 & Acute kidney failure, unspecified                                                     & 19 & 1.55\\\\\n",
       "\t15 & Family history of diabetes mellitus                                                   & 19 & 1.55\\\\\n",
       "\t16 & Hypothyroidism, unspecified                                                           & 19 & 1.55\\\\\n",
       "\t17 & Diabetic ketoacidosis without coma associated with type 1 diabetes mellitus (CMS-HCC) & 18 & 1.47\\\\\n",
       "\t18 & Family history of ischemic heart disease and other diseases of the circulatory system & 18 & 1.47\\\\\n",
       "\t19 & Long term (current) use of anticoagulants                                             & 18 & 1.47\\\\\n",
       "\t20 & Hypo-osmolality and hyponatremia                                                      & 17 & 1.39\\\\\n",
       "\\end{tabular}\n"
      ],
      "text/markdown": [
       "\n",
       "A data.frame: 20 × 3\n",
       "\n",
       "| <!--/--> | dx_name &lt;chr&gt; | n &lt;int&gt; | perc &lt;dbl&gt; |\n",
       "|---|---|---|---|\n",
       "| 1 | Other long term (current) drug therapy                                                | 50 | 4.09 |\n",
       "| 2 | Hyperlipidemia, unspecified                                                           | 49 | 4.01 |\n",
       "| 3 | Long term (current) use of insulin                                                    | 42 | 3.44 |\n",
       "| 4 | Essential (primary) hypertension                                                      | 40 | 3.27 |\n",
       "| 5 | Long term (current) use of aspirin                                                    | 32 | 2.62 |\n",
       "| 6 | Major depressive disorder, single episode, unspecified                                | 27 | 2.21 |\n",
       "| 7 | Atherosclerotic heart disease of native coronary artery without angina pectoris       | 26 | 2.13 |\n",
       "| 8 | Dehydration                                                                           | 25 | 2.05 |\n",
       "| 9 | Personal history of nicotine dependence                                               | 25 | 2.05 |\n",
       "| 10 | Gastro-esophageal reflux disease without esophagitis                                  | 20 | 1.64 |\n",
       "| 11 | Type 1 diabetes mellitus with ketoacidosis without coma                               | 20 | 1.64 |\n",
       "| 12 | Weakness                                                                              | 20 | 1.64 |\n",
       "| 13 | Acidosis                                                                              | 19 | 1.55 |\n",
       "| 14 | Acute kidney failure, unspecified                                                     | 19 | 1.55 |\n",
       "| 15 | Family history of diabetes mellitus                                                   | 19 | 1.55 |\n",
       "| 16 | Hypothyroidism, unspecified                                                           | 19 | 1.55 |\n",
       "| 17 | Diabetic ketoacidosis without coma associated with type 1 diabetes mellitus (CMS-HCC) | 18 | 1.47 |\n",
       "| 18 | Family history of ischemic heart disease and other diseases of the circulatory system | 18 | 1.47 |\n",
       "| 19 | Long term (current) use of anticoagulants                                             | 18 | 1.47 |\n",
       "| 20 | Hypo-osmolality and hyponatremia                                                      | 17 | 1.39 |\n",
       "\n"
      ],
      "text/plain": [
       "   dx_name                                                                              \n",
       "1  Other long term (current) drug therapy                                               \n",
       "2  Hyperlipidemia, unspecified                                                          \n",
       "3  Long term (current) use of insulin                                                   \n",
       "4  Essential (primary) hypertension                                                     \n",
       "5  Long term (current) use of aspirin                                                   \n",
       "6  Major depressive disorder, single episode, unspecified                               \n",
       "7  Atherosclerotic heart disease of native coronary artery without angina pectoris      \n",
       "8  Dehydration                                                                          \n",
       "9  Personal history of nicotine dependence                                              \n",
       "10 Gastro-esophageal reflux disease without esophagitis                                 \n",
       "11 Type 1 diabetes mellitus with ketoacidosis without coma                              \n",
       "12 Weakness                                                                             \n",
       "13 Acidosis                                                                             \n",
       "14 Acute kidney failure, unspecified                                                    \n",
       "15 Family history of diabetes mellitus                                                  \n",
       "16 Hypothyroidism, unspecified                                                          \n",
       "17 Diabetic ketoacidosis without coma associated with type 1 diabetes mellitus (CMS-HCC)\n",
       "18 Family history of ischemic heart disease and other diseases of the circulatory system\n",
       "19 Long term (current) use of anticoagulants                                            \n",
       "20 Hypo-osmolality and hyponatremia                                                     \n",
       "   n  perc\n",
       "1  50 4.09\n",
       "2  49 4.01\n",
       "3  42 3.44\n",
       "4  40 3.27\n",
       "5  32 2.62\n",
       "6  27 2.21\n",
       "7  26 2.13\n",
       "8  25 2.05\n",
       "9  25 2.05\n",
       "10 20 1.64\n",
       "11 20 1.64\n",
       "12 20 1.64\n",
       "13 19 1.55\n",
       "14 19 1.55\n",
       "15 19 1.55\n",
       "16 19 1.55\n",
       "17 18 1.47\n",
       "18 18 1.47\n",
       "19 18 1.47\n",
       "20 17 1.39"
      ]
     },
     "metadata": {},
     "output_type": "display_data"
    }
   ],
   "source": [
    "# cohort transfers with diagnoses\n",
    "dx_diff <- left_join(diff4, dx)\n",
    "nrow(dx_diff)\n",
    "ndf = length(unique(dx_diff$pat_enc_csn_id_coded))\n",
    "ndf\n",
    "length(unique(dx_diff$anon_id))\n",
    "\n",
    "# 1222\n",
    "dx_diff %>% distinct(pat_enc_csn_id_coded, dx_name) %>% count(dx_name, sort=TRUE) %>% \n",
    "    mutate(perc = round(100*n/1222, 2)) %>% head(20)"
   ]
  },
  {
   "cell_type": "code",
   "execution_count": 12,
   "metadata": {},
   "outputs": [
    {
     "data": {
      "text/html": [
       "2926"
      ],
      "text/latex": [
       "2926"
      ],
      "text/markdown": [
       "2926"
      ],
      "text/plain": [
       "[1] 2926"
      ]
     },
     "metadata": {},
     "output_type": "display_data"
    },
    {
     "data": {
      "text/html": [
       "0"
      ],
      "text/latex": [
       "0"
      ],
      "text/markdown": [
       "0"
      ],
      "text/plain": [
       "[1] 0"
      ]
     },
     "metadata": {},
     "output_type": "display_data"
    },
    {
     "data": {
      "text/html": [
       "43815"
      ],
      "text/latex": [
       "43815"
      ],
      "text/markdown": [
       "43815"
      ],
      "text/plain": [
       "[1] 43815"
      ]
     },
     "metadata": {},
     "output_type": "display_data"
    },
    {
     "data": {
      "text/html": [
       "<style>\n",
       ".list-inline {list-style: none; margin:0; padding: 0}\n",
       ".list-inline>li {display: inline-block}\n",
       ".list-inline>li:not(:last-child)::after {content: \"\\00b7\"; padding: 0 .5ex}\n",
       "</style>\n",
       "<ol class=list-inline><li>'anon_id'</li><li>'pat_enc_csn_id_coded'</li><li>'admit_time'</li><li>'first_label'</li><li>'death_24hr_recent_label'</li><li>'death_24hr_max_label'</li><li>'pred_first'</li><li>'pred_death_24hr_recent'</li><li>'transfer'</li><li>'abs_diff0_24'</li><li>'diff0_True'</li><li>'diff24_True'</li><li>'feature_type'</li><li>'features'</li><li>'values'</li><li>'time'</li><li>'hr_before_admit'</li><li>'line'</li><li>'dx_name'</li><li>'primary'</li><li>'chronic'</li><li>'principal'</li><li>'hospital_pl'</li><li>'ed'</li><li>'present_on_adm'</li></ol>\n"
      ],
      "text/latex": [
       "\\begin{enumerate*}\n",
       "\\item 'anon\\_id'\n",
       "\\item 'pat\\_enc\\_csn\\_id\\_coded'\n",
       "\\item 'admit\\_time'\n",
       "\\item 'first\\_label'\n",
       "\\item 'death\\_24hr\\_recent\\_label'\n",
       "\\item 'death\\_24hr\\_max\\_label'\n",
       "\\item 'pred\\_first'\n",
       "\\item 'pred\\_death\\_24hr\\_recent'\n",
       "\\item 'transfer'\n",
       "\\item 'abs\\_diff0\\_24'\n",
       "\\item 'diff0\\_True'\n",
       "\\item 'diff24\\_True'\n",
       "\\item 'feature\\_type'\n",
       "\\item 'features'\n",
       "\\item 'values'\n",
       "\\item 'time'\n",
       "\\item 'hr\\_before\\_admit'\n",
       "\\item 'line'\n",
       "\\item 'dx\\_name'\n",
       "\\item 'primary'\n",
       "\\item 'chronic'\n",
       "\\item 'principal'\n",
       "\\item 'hospital\\_pl'\n",
       "\\item 'ed'\n",
       "\\item 'present\\_on\\_adm'\n",
       "\\end{enumerate*}\n"
      ],
      "text/markdown": [
       "1. 'anon_id'\n",
       "2. 'pat_enc_csn_id_coded'\n",
       "3. 'admit_time'\n",
       "4. 'first_label'\n",
       "5. 'death_24hr_recent_label'\n",
       "6. 'death_24hr_max_label'\n",
       "7. 'pred_first'\n",
       "8. 'pred_death_24hr_recent'\n",
       "9. 'transfer'\n",
       "10. 'abs_diff0_24'\n",
       "11. 'diff0_True'\n",
       "12. 'diff24_True'\n",
       "13. 'feature_type'\n",
       "14. 'features'\n",
       "15. 'values'\n",
       "16. 'time'\n",
       "17. 'hr_before_admit'\n",
       "18. 'line'\n",
       "19. 'dx_name'\n",
       "20. 'primary'\n",
       "21. 'chronic'\n",
       "22. 'principal'\n",
       "23. 'hospital_pl'\n",
       "24. 'ed'\n",
       "25. 'present_on_adm'\n",
       "\n",
       "\n"
      ],
      "text/plain": [
       " [1] \"anon_id\"                 \"pat_enc_csn_id_coded\"   \n",
       " [3] \"admit_time\"              \"first_label\"            \n",
       " [5] \"death_24hr_recent_label\" \"death_24hr_max_label\"   \n",
       " [7] \"pred_first\"              \"pred_death_24hr_recent\" \n",
       " [9] \"transfer\"                \"abs_diff0_24\"           \n",
       "[11] \"diff0_True\"              \"diff24_True\"            \n",
       "[13] \"feature_type\"            \"features\"               \n",
       "[15] \"values\"                  \"time\"                   \n",
       "[17] \"hr_before_admit\"         \"line\"                   \n",
       "[19] \"dx_name\"                 \"primary\"                \n",
       "[21] \"chronic\"                 \"principal\"              \n",
       "[23] \"hospital_pl\"             \"ed\"                     \n",
       "[25] \"present_on_adm\"         "
      ]
     },
     "metadata": {},
     "output_type": "display_data"
    }
   ],
   "source": [
    "# only 117 of obs above 0.4\n",
    "# all visits in diff4 have diagnoses\n",
    "\n",
    "ndfn = nrow(dx_diff %>% distinct(pat_enc_csn_id_coded, dx_name))\n",
    "ndfn\n",
    "\n",
    "length(setdiff(dx_diff$pat_enc_csn_id_coded, dx$pat_enc_csn_id_coded))\n",
    "length(setdiff(dx$pat_enc_csn_id_coded, dx_diff$pat_enc_csn_id_coded))\n",
    "\n",
    "colnames(dx_diff)"
   ]
  },
  {
   "cell_type": "code",
   "execution_count": 13,
   "metadata": {},
   "outputs": [
    {
     "data": {
      "text/plain": [
       "   Min. 1st Qu.  Median    Mean 3rd Qu.    Max.    NA's \n",
       "   1.00    4.00    9.00   12.36   19.00   53.00    5718 "
      ]
     },
     "metadata": {},
     "output_type": "display_data"
    },
    {
     "data": {
      "text/html": [
       "<table class=\"dataframe\">\n",
       "<caption>A data.frame: 3 × 2</caption>\n",
       "<thead>\n",
       "\t<tr><th scope=col>primary</th><th scope=col>n</th></tr>\n",
       "\t<tr><th scope=col>&lt;chr&gt;</th><th scope=col>&lt;int&gt;</th></tr>\n",
       "</thead>\n",
       "<tbody>\n",
       "\t<tr><td> </td><td>709610</td></tr>\n",
       "\t<tr><td>N</td><td>112884</td></tr>\n",
       "\t<tr><td>Y</td><td> 27426</td></tr>\n",
       "</tbody>\n",
       "</table>\n"
      ],
      "text/latex": [
       "A data.frame: 3 × 2\n",
       "\\begin{tabular}{ll}\n",
       " primary & n\\\\\n",
       " <chr> & <int>\\\\\n",
       "\\hline\n",
       "\t   & 709610\\\\\n",
       "\t N & 112884\\\\\n",
       "\t Y &  27426\\\\\n",
       "\\end{tabular}\n"
      ],
      "text/markdown": [
       "\n",
       "A data.frame: 3 × 2\n",
       "\n",
       "| primary &lt;chr&gt; | n &lt;int&gt; |\n",
       "|---|---|\n",
       "| <!----> | 709610 |\n",
       "| N | 112884 |\n",
       "| Y |  27426 |\n",
       "\n"
      ],
      "text/plain": [
       "  primary n     \n",
       "1         709610\n",
       "2 N       112884\n",
       "3 Y        27426"
      ]
     },
     "metadata": {},
     "output_type": "display_data"
    },
    {
     "data": {
      "text/html": [
       "<table class=\"dataframe\">\n",
       "<caption>A data.frame: 3 × 2</caption>\n",
       "<thead>\n",
       "\t<tr><th scope=col>chronic</th><th scope=col>n</th></tr>\n",
       "\t<tr><th scope=col>&lt;chr&gt;</th><th scope=col>&lt;int&gt;</th></tr>\n",
       "</thead>\n",
       "<tbody>\n",
       "\t<tr><td> </td><td>704997</td></tr>\n",
       "\t<tr><td>N</td><td>140310</td></tr>\n",
       "\t<tr><td>Y</td><td>  4613</td></tr>\n",
       "</tbody>\n",
       "</table>\n"
      ],
      "text/latex": [
       "A data.frame: 3 × 2\n",
       "\\begin{tabular}{ll}\n",
       " chronic & n\\\\\n",
       " <chr> & <int>\\\\\n",
       "\\hline\n",
       "\t   & 704997\\\\\n",
       "\t N & 140310\\\\\n",
       "\t Y &   4613\\\\\n",
       "\\end{tabular}\n"
      ],
      "text/markdown": [
       "\n",
       "A data.frame: 3 × 2\n",
       "\n",
       "| chronic &lt;chr&gt; | n &lt;int&gt; |\n",
       "|---|---|\n",
       "| <!----> | 704997 |\n",
       "| N | 140310 |\n",
       "| Y |   4613 |\n",
       "\n"
      ],
      "text/plain": [
       "  chronic n     \n",
       "1         704997\n",
       "2 N       140310\n",
       "3 Y         4613"
      ]
     },
     "metadata": {},
     "output_type": "display_data"
    },
    {
     "data": {
      "text/html": [
       "<table class=\"dataframe\">\n",
       "<caption>A data.frame: 3 × 2</caption>\n",
       "<thead>\n",
       "\t<tr><th scope=col>hospital_pl</th><th scope=col>n</th></tr>\n",
       "\t<tr><th scope=col>&lt;chr&gt;</th><th scope=col>&lt;int&gt;</th></tr>\n",
       "</thead>\n",
       "<tbody>\n",
       "\t<tr><td> </td><td>844202</td></tr>\n",
       "\t<tr><td>Y</td><td>  5493</td></tr>\n",
       "\t<tr><td>N</td><td>   225</td></tr>\n",
       "</tbody>\n",
       "</table>\n"
      ],
      "text/latex": [
       "A data.frame: 3 × 2\n",
       "\\begin{tabular}{ll}\n",
       " hospital\\_pl & n\\\\\n",
       " <chr> & <int>\\\\\n",
       "\\hline\n",
       "\t   & 844202\\\\\n",
       "\t Y &   5493\\\\\n",
       "\t N &    225\\\\\n",
       "\\end{tabular}\n"
      ],
      "text/markdown": [
       "\n",
       "A data.frame: 3 × 2\n",
       "\n",
       "| hospital_pl &lt;chr&gt; | n &lt;int&gt; |\n",
       "|---|---|\n",
       "| <!----> | 844202 |\n",
       "| Y |   5493 |\n",
       "| N |    225 |\n",
       "\n"
      ],
      "text/plain": [
       "  hospital_pl n     \n",
       "1             844202\n",
       "2 Y             5493\n",
       "3 N              225"
      ]
     },
     "metadata": {},
     "output_type": "display_data"
    },
    {
     "data": {
      "text/html": [
       "<table class=\"dataframe\">\n",
       "<caption>A data.frame: 3 × 2</caption>\n",
       "<thead>\n",
       "\t<tr><th scope=col>principal</th><th scope=col>n</th></tr>\n",
       "\t<tr><th scope=col>&lt;chr&gt;</th><th scope=col>&lt;int&gt;</th></tr>\n",
       "</thead>\n",
       "<tbody>\n",
       "\t<tr><td> </td><td>844202</td></tr>\n",
       "\t<tr><td>N</td><td>  4675</td></tr>\n",
       "\t<tr><td>Y</td><td>  1043</td></tr>\n",
       "</tbody>\n",
       "</table>\n"
      ],
      "text/latex": [
       "A data.frame: 3 × 2\n",
       "\\begin{tabular}{ll}\n",
       " principal & n\\\\\n",
       " <chr> & <int>\\\\\n",
       "\\hline\n",
       "\t   & 844202\\\\\n",
       "\t N &   4675\\\\\n",
       "\t Y &   1043\\\\\n",
       "\\end{tabular}\n"
      ],
      "text/markdown": [
       "\n",
       "A data.frame: 3 × 2\n",
       "\n",
       "| principal &lt;chr&gt; | n &lt;int&gt; |\n",
       "|---|---|\n",
       "| <!----> | 844202 |\n",
       "| N |   4675 |\n",
       "| Y |   1043 |\n",
       "\n"
      ],
      "text/plain": [
       "  principal n     \n",
       "1           844202\n",
       "2 N           4675\n",
       "3 Y           1043"
      ]
     },
     "metadata": {},
     "output_type": "display_data"
    },
    {
     "data": {
      "text/html": [
       "<table class=\"dataframe\">\n",
       "<caption>A data.frame: 3 × 2</caption>\n",
       "<thead>\n",
       "\t<tr><th scope=col>ed</th><th scope=col>n</th></tr>\n",
       "\t<tr><th scope=col>&lt;chr&gt;</th><th scope=col>&lt;int&gt;</th></tr>\n",
       "</thead>\n",
       "<tbody>\n",
       "\t<tr><td> </td><td>709610</td></tr>\n",
       "\t<tr><td>N</td><td> 90503</td></tr>\n",
       "\t<tr><td>Y</td><td> 49807</td></tr>\n",
       "</tbody>\n",
       "</table>\n"
      ],
      "text/latex": [
       "A data.frame: 3 × 2\n",
       "\\begin{tabular}{ll}\n",
       " ed & n\\\\\n",
       " <chr> & <int>\\\\\n",
       "\\hline\n",
       "\t   & 709610\\\\\n",
       "\t N &  90503\\\\\n",
       "\t Y &  49807\\\\\n",
       "\\end{tabular}\n"
      ],
      "text/markdown": [
       "\n",
       "A data.frame: 3 × 2\n",
       "\n",
       "| ed &lt;chr&gt; | n &lt;int&gt; |\n",
       "|---|---|\n",
       "| <!----> | 709610 |\n",
       "| N |  90503 |\n",
       "| Y |  49807 |\n",
       "\n"
      ],
      "text/plain": [
       "  ed n     \n",
       "1    709610\n",
       "2 N   90503\n",
       "3 Y   49807"
      ]
     },
     "metadata": {},
     "output_type": "display_data"
    },
    {
     "data": {
      "text/html": [
       "<table class=\"dataframe\">\n",
       "<caption>A data.frame: 5 × 2</caption>\n",
       "<thead>\n",
       "\t<tr><th scope=col>present_on_adm</th><th scope=col>n</th></tr>\n",
       "\t<tr><th scope=col>&lt;chr&gt;</th><th scope=col>&lt;int&gt;</th></tr>\n",
       "</thead>\n",
       "<tbody>\n",
       "\t<tr><td>Yes                      </td><td>457212</td></tr>\n",
       "\t<tr><td>Exempt from POA reporting</td><td>181645</td></tr>\n",
       "\t<tr><td>                         </td><td>174002</td></tr>\n",
       "\t<tr><td>No                       </td><td> 34797</td></tr>\n",
       "\t<tr><td>Unknown                  </td><td>  2264</td></tr>\n",
       "</tbody>\n",
       "</table>\n"
      ],
      "text/latex": [
       "A data.frame: 5 × 2\n",
       "\\begin{tabular}{ll}\n",
       " present\\_on\\_adm & n\\\\\n",
       " <chr> & <int>\\\\\n",
       "\\hline\n",
       "\t Yes                       & 457212\\\\\n",
       "\t Exempt from POA reporting & 181645\\\\\n",
       "\t                           & 174002\\\\\n",
       "\t No                        &  34797\\\\\n",
       "\t Unknown                   &   2264\\\\\n",
       "\\end{tabular}\n"
      ],
      "text/markdown": [
       "\n",
       "A data.frame: 5 × 2\n",
       "\n",
       "| present_on_adm &lt;chr&gt; | n &lt;int&gt; |\n",
       "|---|---|\n",
       "| Yes                       | 457212 |\n",
       "| Exempt from POA reporting | 181645 |\n",
       "| <!----> | 174002 |\n",
       "| No                        |  34797 |\n",
       "| Unknown                   |   2264 |\n",
       "\n"
      ],
      "text/plain": [
       "  present_on_adm            n     \n",
       "1 Yes                       457212\n",
       "2 Exempt from POA reporting 181645\n",
       "3                           174002\n",
       "4 No                         34797\n",
       "5 Unknown                     2264"
      ]
     },
     "metadata": {},
     "output_type": "display_data"
    }
   ],
   "source": [
    "summary(dx_diff$line)\n",
    "\n",
    "dx_diff %>% count(primary, sort=TRUE)\n",
    "dx_diff %>% count(chronic, sort=TRUE)\n",
    "dx_diff %>% count(hospital_pl,  sort=TRUE)\n",
    "dx_diff %>% count(principal, sort=TRUE)\n",
    "dx_diff %>% count(ed, sort=TRUE)\n",
    "dx_diff %>% count(present_on_adm, sort=TRUE)\n",
    "# dx_diff %>% count(dx_name, sort=TRUE) %>% head(20)"
   ]
  },
  {
   "cell_type": "raw",
   "metadata": {},
   "source": [
    "#1222\n",
    "dx_diff %>% distinct(pat_enc_csn_id_coded, dx_name) %>% count(dx_name) %>% \n",
    "    mutate(perc = round(100*n/1222, 2)) %>% head(20)"
   ]
  },
  {
   "cell_type": "code",
   "execution_count": 51,
   "metadata": {},
   "outputs": [],
   "source": [
    "# dx_diff %>% filter(ed == \"Y\", primary==\"Y\") %>% count(dx_name, sort=TRUE) %>% head(20)"
   ]
  },
  {
   "cell_type": "code",
   "execution_count": 40,
   "metadata": {},
   "outputs": [
    {
     "data": {
      "text/html": [
       "<table class=\"dataframe\">\n",
       "<caption>A data.frame: 11 × 2</caption>\n",
       "<thead>\n",
       "\t<tr><th scope=col>dx_name</th><th scope=col>n</th></tr>\n",
       "\t<tr><th scope=col>&lt;chr&gt;</th><th scope=col>&lt;int&gt;</th></tr>\n",
       "</thead>\n",
       "<tbody>\n",
       "\t<tr><td>Diabetic ketoacidosis without coma associated with type 1 diabetes mellitus (CMS-HCC)                     </td><td>7</td></tr>\n",
       "\t<tr><td>Diabetic ketoacidosis without coma associated with other specified diabetes mellitus (CMS-HCC)            </td><td>6</td></tr>\n",
       "\t<tr><td>Diabetic ketoacidosis without coma associated with diabetes mellitus due to underlying condition (CMS-HCC)</td><td>5</td></tr>\n",
       "\t<tr><td>Diabetic ketoacidosis without coma associated with type 2 diabetes mellitus (CMS-HCC)                     </td><td>5</td></tr>\n",
       "\t<tr><td>ST elevation myocardial infarction (STEMI), unspecified artery (CMS-HCC)                                  </td><td>3</td></tr>\n",
       "\t<tr><td>Diabetic ketoacidosis with coma associated with type 1 diabetes mellitus (CMS-HCC)                        </td><td>2</td></tr>\n",
       "\t<tr><td>Hyperglycemic hyperosmolar nonketotic coma (CMS-HCC)                                                      </td><td>2</td></tr>\n",
       "\t<tr><td>Hypertensive emergency                                                                                    </td><td>2</td></tr>\n",
       "\t<tr><td>Intracranial hemorrhage (CMS-HCC)                                                                         </td><td>2</td></tr>\n",
       "\t<tr><td>Subarachnoid hemorrhage (CMS-HCC)                                                                         </td><td>2</td></tr>\n",
       "\t<tr><td>Subdural hematoma (CMS-HCC)                                                                               </td><td>2</td></tr>\n",
       "</tbody>\n",
       "</table>\n"
      ],
      "text/latex": [
       "A data.frame: 11 × 2\n",
       "\\begin{tabular}{ll}\n",
       " dx\\_name & n\\\\\n",
       " <chr> & <int>\\\\\n",
       "\\hline\n",
       "\t Diabetic ketoacidosis without coma associated with type 1 diabetes mellitus (CMS-HCC)                      & 7\\\\\n",
       "\t Diabetic ketoacidosis without coma associated with other specified diabetes mellitus (CMS-HCC)             & 6\\\\\n",
       "\t Diabetic ketoacidosis without coma associated with diabetes mellitus due to underlying condition (CMS-HCC) & 5\\\\\n",
       "\t Diabetic ketoacidosis without coma associated with type 2 diabetes mellitus (CMS-HCC)                      & 5\\\\\n",
       "\t ST elevation myocardial infarction (STEMI), unspecified artery (CMS-HCC)                                   & 3\\\\\n",
       "\t Diabetic ketoacidosis with coma associated with type 1 diabetes mellitus (CMS-HCC)                         & 2\\\\\n",
       "\t Hyperglycemic hyperosmolar nonketotic coma (CMS-HCC)                                                       & 2\\\\\n",
       "\t Hypertensive emergency                                                                                     & 2\\\\\n",
       "\t Intracranial hemorrhage (CMS-HCC)                                                                          & 2\\\\\n",
       "\t Subarachnoid hemorrhage (CMS-HCC)                                                                          & 2\\\\\n",
       "\t Subdural hematoma (CMS-HCC)                                                                                & 2\\\\\n",
       "\\end{tabular}\n"
      ],
      "text/markdown": [
       "\n",
       "A data.frame: 11 × 2\n",
       "\n",
       "| dx_name &lt;chr&gt; | n &lt;int&gt; |\n",
       "|---|---|\n",
       "| Diabetic ketoacidosis without coma associated with type 1 diabetes mellitus (CMS-HCC)                      | 7 |\n",
       "| Diabetic ketoacidosis without coma associated with other specified diabetes mellitus (CMS-HCC)             | 6 |\n",
       "| Diabetic ketoacidosis without coma associated with diabetes mellitus due to underlying condition (CMS-HCC) | 5 |\n",
       "| Diabetic ketoacidosis without coma associated with type 2 diabetes mellitus (CMS-HCC)                      | 5 |\n",
       "| ST elevation myocardial infarction (STEMI), unspecified artery (CMS-HCC)                                   | 3 |\n",
       "| Diabetic ketoacidosis with coma associated with type 1 diabetes mellitus (CMS-HCC)                         | 2 |\n",
       "| Hyperglycemic hyperosmolar nonketotic coma (CMS-HCC)                                                       | 2 |\n",
       "| Hypertensive emergency                                                                                     | 2 |\n",
       "| Intracranial hemorrhage (CMS-HCC)                                                                          | 2 |\n",
       "| Subarachnoid hemorrhage (CMS-HCC)                                                                          | 2 |\n",
       "| Subdural hematoma (CMS-HCC)                                                                                | 2 |\n",
       "\n"
      ],
      "text/plain": [
       "   dx_name                                                                                                   \n",
       "1  Diabetic ketoacidosis without coma associated with type 1 diabetes mellitus (CMS-HCC)                     \n",
       "2  Diabetic ketoacidosis without coma associated with other specified diabetes mellitus (CMS-HCC)            \n",
       "3  Diabetic ketoacidosis without coma associated with diabetes mellitus due to underlying condition (CMS-HCC)\n",
       "4  Diabetic ketoacidosis without coma associated with type 2 diabetes mellitus (CMS-HCC)                     \n",
       "5  ST elevation myocardial infarction (STEMI), unspecified artery (CMS-HCC)                                  \n",
       "6  Diabetic ketoacidosis with coma associated with type 1 diabetes mellitus (CMS-HCC)                        \n",
       "7  Hyperglycemic hyperosmolar nonketotic coma (CMS-HCC)                                                      \n",
       "8  Hypertensive emergency                                                                                    \n",
       "9  Intracranial hemorrhage (CMS-HCC)                                                                         \n",
       "10 Subarachnoid hemorrhage (CMS-HCC)                                                                         \n",
       "11 Subdural hematoma (CMS-HCC)                                                                               \n",
       "   n\n",
       "1  7\n",
       "2  6\n",
       "3  5\n",
       "4  5\n",
       "5  3\n",
       "6  2\n",
       "7  2\n",
       "8  2\n",
       "9  2\n",
       "10 2\n",
       "11 2"
      ]
     },
     "metadata": {},
     "output_type": "display_data"
    }
   ],
   "source": [
    "dx_diff %>% filter(ed==\"Y\", primary==\"Y\") %>% distinct(pat_enc_csn_id_coded, dx_name) %>% \n",
    "            count(dx_name, sort=TRUE) %>% filter(n>1)"
   ]
  },
  {
   "cell_type": "code",
   "execution_count": 45,
   "metadata": {},
   "outputs": [
    {
     "data": {
      "text/html": [
       "<table class=\"dataframe\">\n",
       "<caption>A data.frame: 10 × 3</caption>\n",
       "<thead>\n",
       "\t<tr><th></th><th scope=col>dx_name</th><th scope=col>n</th><th scope=col>perc</th></tr>\n",
       "\t<tr><th></th><th scope=col>&lt;chr&gt;</th><th scope=col>&lt;int&gt;</th><th scope=col>&lt;dbl&gt;</th></tr>\n",
       "</thead>\n",
       "<tbody>\n",
       "\t<tr><th scope=row>1</th><td>Hyperlipidemia, unspecified                                                          </td><td>20</td><td>3.75</td></tr>\n",
       "\t<tr><th scope=row>2</th><td>Long term (current) use of insulin                                                   </td><td>20</td><td>3.75</td></tr>\n",
       "\t<tr><th scope=row>3</th><td>Essential (primary) hypertension                                                     </td><td>18</td><td>3.38</td></tr>\n",
       "\t<tr><th scope=row>4</th><td>Long term (current) use of aspirin                                                   </td><td>17</td><td>3.19</td></tr>\n",
       "\t<tr><th scope=row>5</th><td>Other long term (current) drug therapy                                               </td><td>17</td><td>3.19</td></tr>\n",
       "\t<tr><th scope=row>6</th><td>Dehydration                                                                          </td><td>15</td><td>2.81</td></tr>\n",
       "\t<tr><th scope=row>7</th><td>Type 1 diabetes mellitus with ketoacidosis without coma                              </td><td>13</td><td>2.44</td></tr>\n",
       "\t<tr><th scope=row>8</th><td>Diabetic ketoacidosis without coma associated with type 1 diabetes mellitus (CMS-HCC)</td><td>12</td><td>2.25</td></tr>\n",
       "\t<tr><th scope=row>9</th><td>Major depressive disorder, single episode, unspecified                               </td><td>11</td><td>2.06</td></tr>\n",
       "\t<tr><th scope=row>10</th><td>Atherosclerotic heart disease of native coronary artery without angina pectoris      </td><td> 9</td><td>1.69</td></tr>\n",
       "</tbody>\n",
       "</table>\n"
      ],
      "text/latex": [
       "A data.frame: 10 × 3\n",
       "\\begin{tabular}{r|lll}\n",
       "  & dx\\_name & n & perc\\\\\n",
       "  & <chr> & <int> & <dbl>\\\\\n",
       "\\hline\n",
       "\t1 & Hyperlipidemia, unspecified                                                           & 20 & 3.75\\\\\n",
       "\t2 & Long term (current) use of insulin                                                    & 20 & 3.75\\\\\n",
       "\t3 & Essential (primary) hypertension                                                      & 18 & 3.38\\\\\n",
       "\t4 & Long term (current) use of aspirin                                                    & 17 & 3.19\\\\\n",
       "\t5 & Other long term (current) drug therapy                                                & 17 & 3.19\\\\\n",
       "\t6 & Dehydration                                                                           & 15 & 2.81\\\\\n",
       "\t7 & Type 1 diabetes mellitus with ketoacidosis without coma                               & 13 & 2.44\\\\\n",
       "\t8 & Diabetic ketoacidosis without coma associated with type 1 diabetes mellitus (CMS-HCC) & 12 & 2.25\\\\\n",
       "\t9 & Major depressive disorder, single episode, unspecified                                & 11 & 2.06\\\\\n",
       "\t10 & Atherosclerotic heart disease of native coronary artery without angina pectoris       &  9 & 1.69\\\\\n",
       "\\end{tabular}\n"
      ],
      "text/markdown": [
       "\n",
       "A data.frame: 10 × 3\n",
       "\n",
       "| <!--/--> | dx_name &lt;chr&gt; | n &lt;int&gt; | perc &lt;dbl&gt; |\n",
       "|---|---|---|---|\n",
       "| 1 | Hyperlipidemia, unspecified                                                           | 20 | 3.75 |\n",
       "| 2 | Long term (current) use of insulin                                                    | 20 | 3.75 |\n",
       "| 3 | Essential (primary) hypertension                                                      | 18 | 3.38 |\n",
       "| 4 | Long term (current) use of aspirin                                                    | 17 | 3.19 |\n",
       "| 5 | Other long term (current) drug therapy                                                | 17 | 3.19 |\n",
       "| 6 | Dehydration                                                                           | 15 | 2.81 |\n",
       "| 7 | Type 1 diabetes mellitus with ketoacidosis without coma                               | 13 | 2.44 |\n",
       "| 8 | Diabetic ketoacidosis without coma associated with type 1 diabetes mellitus (CMS-HCC) | 12 | 2.25 |\n",
       "| 9 | Major depressive disorder, single episode, unspecified                                | 11 | 2.06 |\n",
       "| 10 | Atherosclerotic heart disease of native coronary artery without angina pectoris       |  9 | 1.69 |\n",
       "\n"
      ],
      "text/plain": [
       "   dx_name                                                                              \n",
       "1  Hyperlipidemia, unspecified                                                          \n",
       "2  Long term (current) use of insulin                                                   \n",
       "3  Essential (primary) hypertension                                                     \n",
       "4  Long term (current) use of aspirin                                                   \n",
       "5  Other long term (current) drug therapy                                               \n",
       "6  Dehydration                                                                          \n",
       "7  Type 1 diabetes mellitus with ketoacidosis without coma                              \n",
       "8  Diabetic ketoacidosis without coma associated with type 1 diabetes mellitus (CMS-HCC)\n",
       "9  Major depressive disorder, single episode, unspecified                               \n",
       "10 Atherosclerotic heart disease of native coronary artery without angina pectoris      \n",
       "   n  perc\n",
       "1  20 3.75\n",
       "2  20 3.75\n",
       "3  18 3.38\n",
       "4  17 3.19\n",
       "5  17 3.19\n",
       "6  15 2.81\n",
       "7  13 2.44\n",
       "8  12 2.25\n",
       "9  11 2.06\n",
       "10  9 1.69"
      ]
     },
     "metadata": {},
     "output_type": "display_data"
    }
   ],
   "source": [
    "# from 1 to 0, 533\n",
    "dx_diff %>% filter(first_label==1, death_24hr_recent_label==0) %>%\n",
    "            distinct(pat_enc_csn_id_coded, dx_name) %>% count(dx_name, sort=TRUE) %>% \n",
    "            mutate(perc = round(100*n/533, 2)) %>% head(10)"
   ]
  },
  {
   "cell_type": "code",
   "execution_count": 42,
   "metadata": {},
   "outputs": [
    {
     "data": {
      "text/html": [
       "<table class=\"dataframe\">\n",
       "<caption>A data.frame: 16 × 2</caption>\n",
       "<thead>\n",
       "\t<tr><th scope=col>dx_name</th><th scope=col>n</th></tr>\n",
       "\t<tr><th scope=col>&lt;chr&gt;</th><th scope=col>&lt;int&gt;</th></tr>\n",
       "</thead>\n",
       "<tbody>\n",
       "\t<tr><td>Diabetic ketoacidosis without coma associated with type 1 diabetes mellitus (CMS-HCC)                     </td><td>5</td></tr>\n",
       "\t<tr><td>Diabetic ketoacidosis without coma associated with diabetes mellitus due to underlying condition (CMS-HCC)</td><td>4</td></tr>\n",
       "\t<tr><td>Diabetic ketoacidosis without coma associated with other specified diabetes mellitus (CMS-HCC)            </td><td>4</td></tr>\n",
       "\t<tr><td>Diabetic ketoacidosis without coma associated with type 2 diabetes mellitus (CMS-HCC)                     </td><td>3</td></tr>\n",
       "\t<tr><td>Intracranial hemorrhage (CMS-HCC)                                                                         </td><td>2</td></tr>\n",
       "\t<tr><td>Subdural hematoma (CMS-HCC)                                                                               </td><td>2</td></tr>\n",
       "\t<tr><td>Dehydration                                                                                               </td><td>1</td></tr>\n",
       "\t<tr><td>Diabetic ketoacidosis with coma associated with type 1 diabetes mellitus (CMS-HCC)                        </td><td>1</td></tr>\n",
       "\t<tr><td>Hypertension, unspecified type                                                                            </td><td>1</td></tr>\n",
       "\t<tr><td>Mild persistent asthma with acute exacerbation                                                            </td><td>1</td></tr>\n",
       "\t<tr><td>Myocardial infarction, posterior wall, initial episode (CMS-HCC)                                          </td><td>1</td></tr>\n",
       "\t<tr><td>New onset type 2 diabetes mellitus (CMS-HCC)                                                              </td><td>1</td></tr>\n",
       "\t<tr><td>Opiate overdose, undetermined intent, initial encounter (CMS-HCC)                                         </td><td>1</td></tr>\n",
       "\t<tr><td>Severe sepsis (CMS-HCC)                                                                                   </td><td>1</td></tr>\n",
       "\t<tr><td>Subarachnoid hemorrhage (CMS-HCC)                                                                         </td><td>1</td></tr>\n",
       "\t<tr><td>Traumatic subdural hemorrhage with loss of consciousness, initial encounter (CMS-HCC)                     </td><td>1</td></tr>\n",
       "</tbody>\n",
       "</table>\n"
      ],
      "text/latex": [
       "A data.frame: 16 × 2\n",
       "\\begin{tabular}{ll}\n",
       " dx\\_name & n\\\\\n",
       " <chr> & <int>\\\\\n",
       "\\hline\n",
       "\t Diabetic ketoacidosis without coma associated with type 1 diabetes mellitus (CMS-HCC)                      & 5\\\\\n",
       "\t Diabetic ketoacidosis without coma associated with diabetes mellitus due to underlying condition (CMS-HCC) & 4\\\\\n",
       "\t Diabetic ketoacidosis without coma associated with other specified diabetes mellitus (CMS-HCC)             & 4\\\\\n",
       "\t Diabetic ketoacidosis without coma associated with type 2 diabetes mellitus (CMS-HCC)                      & 3\\\\\n",
       "\t Intracranial hemorrhage (CMS-HCC)                                                                          & 2\\\\\n",
       "\t Subdural hematoma (CMS-HCC)                                                                                & 2\\\\\n",
       "\t Dehydration                                                                                                & 1\\\\\n",
       "\t Diabetic ketoacidosis with coma associated with type 1 diabetes mellitus (CMS-HCC)                         & 1\\\\\n",
       "\t Hypertension, unspecified type                                                                             & 1\\\\\n",
       "\t Mild persistent asthma with acute exacerbation                                                             & 1\\\\\n",
       "\t Myocardial infarction, posterior wall, initial episode (CMS-HCC)                                           & 1\\\\\n",
       "\t New onset type 2 diabetes mellitus (CMS-HCC)                                                               & 1\\\\\n",
       "\t Opiate overdose, undetermined intent, initial encounter (CMS-HCC)                                          & 1\\\\\n",
       "\t Severe sepsis (CMS-HCC)                                                                                    & 1\\\\\n",
       "\t Subarachnoid hemorrhage (CMS-HCC)                                                                          & 1\\\\\n",
       "\t Traumatic subdural hemorrhage with loss of consciousness, initial encounter (CMS-HCC)                      & 1\\\\\n",
       "\\end{tabular}\n"
      ],
      "text/markdown": [
       "\n",
       "A data.frame: 16 × 2\n",
       "\n",
       "| dx_name &lt;chr&gt; | n &lt;int&gt; |\n",
       "|---|---|\n",
       "| Diabetic ketoacidosis without coma associated with type 1 diabetes mellitus (CMS-HCC)                      | 5 |\n",
       "| Diabetic ketoacidosis without coma associated with diabetes mellitus due to underlying condition (CMS-HCC) | 4 |\n",
       "| Diabetic ketoacidosis without coma associated with other specified diabetes mellitus (CMS-HCC)             | 4 |\n",
       "| Diabetic ketoacidosis without coma associated with type 2 diabetes mellitus (CMS-HCC)                      | 3 |\n",
       "| Intracranial hemorrhage (CMS-HCC)                                                                          | 2 |\n",
       "| Subdural hematoma (CMS-HCC)                                                                                | 2 |\n",
       "| Dehydration                                                                                                | 1 |\n",
       "| Diabetic ketoacidosis with coma associated with type 1 diabetes mellitus (CMS-HCC)                         | 1 |\n",
       "| Hypertension, unspecified type                                                                             | 1 |\n",
       "| Mild persistent asthma with acute exacerbation                                                             | 1 |\n",
       "| Myocardial infarction, posterior wall, initial episode (CMS-HCC)                                           | 1 |\n",
       "| New onset type 2 diabetes mellitus (CMS-HCC)                                                               | 1 |\n",
       "| Opiate overdose, undetermined intent, initial encounter (CMS-HCC)                                          | 1 |\n",
       "| Severe sepsis (CMS-HCC)                                                                                    | 1 |\n",
       "| Subarachnoid hemorrhage (CMS-HCC)                                                                          | 1 |\n",
       "| Traumatic subdural hemorrhage with loss of consciousness, initial encounter (CMS-HCC)                      | 1 |\n",
       "\n"
      ],
      "text/plain": [
       "   dx_name                                                                                                   \n",
       "1  Diabetic ketoacidosis without coma associated with type 1 diabetes mellitus (CMS-HCC)                     \n",
       "2  Diabetic ketoacidosis without coma associated with diabetes mellitus due to underlying condition (CMS-HCC)\n",
       "3  Diabetic ketoacidosis without coma associated with other specified diabetes mellitus (CMS-HCC)            \n",
       "4  Diabetic ketoacidosis without coma associated with type 2 diabetes mellitus (CMS-HCC)                     \n",
       "5  Intracranial hemorrhage (CMS-HCC)                                                                         \n",
       "6  Subdural hematoma (CMS-HCC)                                                                               \n",
       "7  Dehydration                                                                                               \n",
       "8  Diabetic ketoacidosis with coma associated with type 1 diabetes mellitus (CMS-HCC)                        \n",
       "9  Hypertension, unspecified type                                                                            \n",
       "10 Mild persistent asthma with acute exacerbation                                                            \n",
       "11 Myocardial infarction, posterior wall, initial episode (CMS-HCC)                                          \n",
       "12 New onset type 2 diabetes mellitus (CMS-HCC)                                                              \n",
       "13 Opiate overdose, undetermined intent, initial encounter (CMS-HCC)                                         \n",
       "14 Severe sepsis (CMS-HCC)                                                                                   \n",
       "15 Subarachnoid hemorrhage (CMS-HCC)                                                                         \n",
       "16 Traumatic subdural hemorrhage with loss of consciousness, initial encounter (CMS-HCC)                     \n",
       "   n\n",
       "1  5\n",
       "2  4\n",
       "3  4\n",
       "4  3\n",
       "5  2\n",
       "6  2\n",
       "7  1\n",
       "8  1\n",
       "9  1\n",
       "10 1\n",
       "11 1\n",
       "12 1\n",
       "13 1\n",
       "14 1\n",
       "15 1\n",
       "16 1"
      ]
     },
     "metadata": {},
     "output_type": "display_data"
    }
   ],
   "source": [
    "# from 1 to 0 \n",
    "dx_diff %>% filter(first_label==1, death_24hr_recent_label==0, ed==\"Y\", primary==\"Y\") %>%\n",
    "            distinct(pat_enc_csn_id_coded, dx_name) %>% count(dx_name, sort=TRUE) #%>%"
   ]
  },
  {
   "cell_type": "code",
   "execution_count": 49,
   "metadata": {},
   "outputs": [
    {
     "data": {
      "text/html": [
       "<table class=\"dataframe\">\n",
       "<caption>A data.frame: 8 × 3</caption>\n",
       "<thead>\n",
       "\t<tr><th scope=col>dx_name</th><th scope=col>n</th><th scope=col>perc</th></tr>\n",
       "\t<tr><th scope=col>&lt;chr&gt;</th><th scope=col>&lt;int&gt;</th><th scope=col>&lt;dbl&gt;</th></tr>\n",
       "</thead>\n",
       "<tbody>\n",
       "\t<tr><td>Acute respiratory failure with hypoxia                                                  </td><td>3</td><td>2.7</td></tr>\n",
       "\t<tr><td>Acidosis                                                                                </td><td>2</td><td>1.8</td></tr>\n",
       "\t<tr><td>Acute on chronic combined systolic (congestive) and diastolic (congestive) heart failure</td><td>2</td><td>1.8</td></tr>\n",
       "\t<tr><td>Anemia in neoplastic disease                                                            </td><td>2</td><td>1.8</td></tr>\n",
       "\t<tr><td>Gastro-esophageal reflux disease without esophagitis                                    </td><td>2</td><td>1.8</td></tr>\n",
       "\t<tr><td>Hypo-osmolality and hyponatremia                                                        </td><td>2</td><td>1.8</td></tr>\n",
       "\t<tr><td>Long term (current) use of anticoagulants                                               </td><td>2</td><td>1.8</td></tr>\n",
       "\t<tr><td>Other cirrhosis of liver                                                                </td><td>2</td><td>1.8</td></tr>\n",
       "</tbody>\n",
       "</table>\n"
      ],
      "text/latex": [
       "A data.frame: 8 × 3\n",
       "\\begin{tabular}{lll}\n",
       " dx\\_name & n & perc\\\\\n",
       " <chr> & <int> & <dbl>\\\\\n",
       "\\hline\n",
       "\t Acute respiratory failure with hypoxia                                                   & 3 & 2.7\\\\\n",
       "\t Acidosis                                                                                 & 2 & 1.8\\\\\n",
       "\t Acute on chronic combined systolic (congestive) and diastolic (congestive) heart failure & 2 & 1.8\\\\\n",
       "\t Anemia in neoplastic disease                                                             & 2 & 1.8\\\\\n",
       "\t Gastro-esophageal reflux disease without esophagitis                                     & 2 & 1.8\\\\\n",
       "\t Hypo-osmolality and hyponatremia                                                         & 2 & 1.8\\\\\n",
       "\t Long term (current) use of anticoagulants                                                & 2 & 1.8\\\\\n",
       "\t Other cirrhosis of liver                                                                 & 2 & 1.8\\\\\n",
       "\\end{tabular}\n"
      ],
      "text/markdown": [
       "\n",
       "A data.frame: 8 × 3\n",
       "\n",
       "| dx_name &lt;chr&gt; | n &lt;int&gt; | perc &lt;dbl&gt; |\n",
       "|---|---|---|\n",
       "| Acute respiratory failure with hypoxia                                                   | 3 | 2.7 |\n",
       "| Acidosis                                                                                 | 2 | 1.8 |\n",
       "| Acute on chronic combined systolic (congestive) and diastolic (congestive) heart failure | 2 | 1.8 |\n",
       "| Anemia in neoplastic disease                                                             | 2 | 1.8 |\n",
       "| Gastro-esophageal reflux disease without esophagitis                                     | 2 | 1.8 |\n",
       "| Hypo-osmolality and hyponatremia                                                         | 2 | 1.8 |\n",
       "| Long term (current) use of anticoagulants                                                | 2 | 1.8 |\n",
       "| Other cirrhosis of liver                                                                 | 2 | 1.8 |\n",
       "\n"
      ],
      "text/plain": [
       "  dx_name                                                                                 \n",
       "1 Acute respiratory failure with hypoxia                                                  \n",
       "2 Acidosis                                                                                \n",
       "3 Acute on chronic combined systolic (congestive) and diastolic (congestive) heart failure\n",
       "4 Anemia in neoplastic disease                                                            \n",
       "5 Gastro-esophageal reflux disease without esophagitis                                    \n",
       "6 Hypo-osmolality and hyponatremia                                                        \n",
       "7 Long term (current) use of anticoagulants                                               \n",
       "8 Other cirrhosis of liver                                                                \n",
       "  n perc\n",
       "1 3 2.7 \n",
       "2 2 1.8 \n",
       "3 2 1.8 \n",
       "4 2 1.8 \n",
       "5 2 1.8 \n",
       "6 2 1.8 \n",
       "7 2 1.8 \n",
       "8 2 1.8 "
      ]
     },
     "metadata": {},
     "output_type": "display_data"
    }
   ],
   "source": [
    "# from 0 to 1 (non-ICUs to ICUs), 111\n",
    "dx_diff %>% filter(first_label==0, death_24hr_recent_label==1) %>%\n",
    "            distinct(pat_enc_csn_id_coded, dx_name) %>% count(dx_name, sort=TRUE) %>% \n",
    "            mutate(perc = round(100*n/111, 2)) %>% filter(n>1)"
   ]
  },
  {
   "cell_type": "code",
   "execution_count": 50,
   "metadata": {},
   "outputs": [
    {
     "data": {
      "text/html": [
       "<table class=\"dataframe\">\n",
       "<caption>A data.frame: 3 × 2</caption>\n",
       "<thead>\n",
       "\t<tr><th scope=col>dx_name</th><th scope=col>n</th></tr>\n",
       "\t<tr><th scope=col>&lt;chr&gt;</th><th scope=col>&lt;int&gt;</th></tr>\n",
       "</thead>\n",
       "<tbody>\n",
       "\t<tr><td>Acute upper respiratory infection                                       </td><td>1</td></tr>\n",
       "\t<tr><td>Cardiopulmonary arrest with successful resuscitation (CMS-HCC)          </td><td>1</td></tr>\n",
       "\t<tr><td>ST elevation myocardial infarction (STEMI), unspecified artery (CMS-HCC)</td><td>1</td></tr>\n",
       "</tbody>\n",
       "</table>\n"
      ],
      "text/latex": [
       "A data.frame: 3 × 2\n",
       "\\begin{tabular}{ll}\n",
       " dx\\_name & n\\\\\n",
       " <chr> & <int>\\\\\n",
       "\\hline\n",
       "\t Acute upper respiratory infection                                        & 1\\\\\n",
       "\t Cardiopulmonary arrest with successful resuscitation (CMS-HCC)           & 1\\\\\n",
       "\t ST elevation myocardial infarction (STEMI), unspecified artery (CMS-HCC) & 1\\\\\n",
       "\\end{tabular}\n"
      ],
      "text/markdown": [
       "\n",
       "A data.frame: 3 × 2\n",
       "\n",
       "| dx_name &lt;chr&gt; | n &lt;int&gt; |\n",
       "|---|---|\n",
       "| Acute upper respiratory infection                                        | 1 |\n",
       "| Cardiopulmonary arrest with successful resuscitation (CMS-HCC)           | 1 |\n",
       "| ST elevation myocardial infarction (STEMI), unspecified artery (CMS-HCC) | 1 |\n",
       "\n"
      ],
      "text/plain": [
       "  dx_name                                                                  n\n",
       "1 Acute upper respiratory infection                                        1\n",
       "2 Cardiopulmonary arrest with successful resuscitation (CMS-HCC)           1\n",
       "3 ST elevation myocardial infarction (STEMI), unspecified artery (CMS-HCC) 1"
      ]
     },
     "metadata": {},
     "output_type": "display_data"
    }
   ],
   "source": [
    "# from 0 to 1 (non-ICUs to ICUs)\n",
    "dx_diff %>% filter(first_label==0, death_24hr_recent_label==1, ed==\"Y\", primary==\"Y\") %>%\n",
    "            distinct(pat_enc_csn_id_coded, dx_name) %>% count(dx_name)"
   ]
  },
  {
   "cell_type": "markdown",
   "metadata": {},
   "source": [
    "### ADT"
   ]
  },
  {
   "cell_type": "code",
   "execution_count": 51,
   "metadata": {},
   "outputs": [
    {
     "data": {
      "text/html": [
       "<style>\n",
       ".list-inline {list-style: none; margin:0; padding: 0}\n",
       ".list-inline>li {display: inline-block}\n",
       ".list-inline>li:not(:last-child)::after {content: \"\\00b7\"; padding: 0 .5ex}\n",
       "</style>\n",
       "<ol class=list-inline><li>1437248</li><li>30</li></ol>\n"
      ],
      "text/latex": [
       "\\begin{enumerate*}\n",
       "\\item 1437248\n",
       "\\item 30\n",
       "\\end{enumerate*}\n"
      ],
      "text/markdown": [
       "1. 1437248\n",
       "2. 30\n",
       "\n",
       "\n"
      ],
      "text/plain": [
       "[1] 1437248      30"
      ]
     },
     "metadata": {},
     "output_type": "display_data"
    },
    {
     "data": {
      "text/html": [
       "<style>\n",
       ".list-inline {list-style: none; margin:0; padding: 0}\n",
       ".list-inline>li {display: inline-block}\n",
       ".list-inline>li:not(:last-child)::after {content: \"\\00b7\"; padding: 0 .5ex}\n",
       "</style>\n",
       "<ol class=list-inline><li>'anon_id'</li><li>'pat_enc_csn_id_coded'</li><li>'admit_time'</li><li>'first_label'</li><li>'death_24hr_recent_label'</li><li>'death_24hr_max_label'</li><li>'pred_first'</li><li>'pred_death_24hr_recent'</li><li>'event_type_c'</li><li>'event_type'</li><li>'pat_class_c'</li><li>'pat_class'</li><li>'base_pat_class_c'</li><li>'base_pat_class'</li><li>'pat_service_c'</li><li>'pat_service'</li><li>'pat_lvl_of_care_c'</li><li>'pat_lv_of_care'</li><li>'accommodation_c'</li><li>'accomodation'</li><li>'in_event_type_c'</li><li>'in_event_type'</li><li>'out_event_type_c'</li><li>'out_event_type'</li><li>'from_base_class_c'</li><li>'from_base_class'</li><li>'to_base_class_c'</li><li>'to_base_class'</li><li>'seq_num_in_enc'</li><li>'seq_num_in_bed_min'</li></ol>\n"
      ],
      "text/latex": [
       "\\begin{enumerate*}\n",
       "\\item 'anon\\_id'\n",
       "\\item 'pat\\_enc\\_csn\\_id\\_coded'\n",
       "\\item 'admit\\_time'\n",
       "\\item 'first\\_label'\n",
       "\\item 'death\\_24hr\\_recent\\_label'\n",
       "\\item 'death\\_24hr\\_max\\_label'\n",
       "\\item 'pred\\_first'\n",
       "\\item 'pred\\_death\\_24hr\\_recent'\n",
       "\\item 'event\\_type\\_c'\n",
       "\\item 'event\\_type'\n",
       "\\item 'pat\\_class\\_c'\n",
       "\\item 'pat\\_class'\n",
       "\\item 'base\\_pat\\_class\\_c'\n",
       "\\item 'base\\_pat\\_class'\n",
       "\\item 'pat\\_service\\_c'\n",
       "\\item 'pat\\_service'\n",
       "\\item 'pat\\_lvl\\_of\\_care\\_c'\n",
       "\\item 'pat\\_lv\\_of\\_care'\n",
       "\\item 'accommodation\\_c'\n",
       "\\item 'accomodation'\n",
       "\\item 'in\\_event\\_type\\_c'\n",
       "\\item 'in\\_event\\_type'\n",
       "\\item 'out\\_event\\_type\\_c'\n",
       "\\item 'out\\_event\\_type'\n",
       "\\item 'from\\_base\\_class\\_c'\n",
       "\\item 'from\\_base\\_class'\n",
       "\\item 'to\\_base\\_class\\_c'\n",
       "\\item 'to\\_base\\_class'\n",
       "\\item 'seq\\_num\\_in\\_enc'\n",
       "\\item 'seq\\_num\\_in\\_bed\\_min'\n",
       "\\end{enumerate*}\n"
      ],
      "text/markdown": [
       "1. 'anon_id'\n",
       "2. 'pat_enc_csn_id_coded'\n",
       "3. 'admit_time'\n",
       "4. 'first_label'\n",
       "5. 'death_24hr_recent_label'\n",
       "6. 'death_24hr_max_label'\n",
       "7. 'pred_first'\n",
       "8. 'pred_death_24hr_recent'\n",
       "9. 'event_type_c'\n",
       "10. 'event_type'\n",
       "11. 'pat_class_c'\n",
       "12. 'pat_class'\n",
       "13. 'base_pat_class_c'\n",
       "14. 'base_pat_class'\n",
       "15. 'pat_service_c'\n",
       "16. 'pat_service'\n",
       "17. 'pat_lvl_of_care_c'\n",
       "18. 'pat_lv_of_care'\n",
       "19. 'accommodation_c'\n",
       "20. 'accomodation'\n",
       "21. 'in_event_type_c'\n",
       "22. 'in_event_type'\n",
       "23. 'out_event_type_c'\n",
       "24. 'out_event_type'\n",
       "25. 'from_base_class_c'\n",
       "26. 'from_base_class'\n",
       "27. 'to_base_class_c'\n",
       "28. 'to_base_class'\n",
       "29. 'seq_num_in_enc'\n",
       "30. 'seq_num_in_bed_min'\n",
       "\n",
       "\n"
      ],
      "text/plain": [
       " [1] \"anon_id\"                 \"pat_enc_csn_id_coded\"   \n",
       " [3] \"admit_time\"              \"first_label\"            \n",
       " [5] \"death_24hr_recent_label\" \"death_24hr_max_label\"   \n",
       " [7] \"pred_first\"              \"pred_death_24hr_recent\" \n",
       " [9] \"event_type_c\"            \"event_type\"             \n",
       "[11] \"pat_class_c\"             \"pat_class\"              \n",
       "[13] \"base_pat_class_c\"        \"base_pat_class\"         \n",
       "[15] \"pat_service_c\"           \"pat_service\"            \n",
       "[17] \"pat_lvl_of_care_c\"       \"pat_lv_of_care\"         \n",
       "[19] \"accommodation_c\"         \"accomodation\"           \n",
       "[21] \"in_event_type_c\"         \"in_event_type\"          \n",
       "[23] \"out_event_type_c\"        \"out_event_type\"         \n",
       "[25] \"from_base_class_c\"       \"from_base_class\"        \n",
       "[27] \"to_base_class_c\"         \"to_base_class\"          \n",
       "[29] \"seq_num_in_enc\"          \"seq_num_in_bed_min\"     "
      ]
     },
     "metadata": {},
     "output_type": "display_data"
    }
   ],
   "source": [
    "adt <- read.csv(file.path(tabledir, \"4_2_diff_adt.csv\"))\n",
    "dim(adt) # 1437248\n",
    "colnames(adt)"
   ]
  },
  {
   "cell_type": "raw",
   "metadata": {},
   "source": [
    "# disable quotes\n",
    "adt <- read.csv(file.path(datadir, \"4_1_diff_adt.csv\"), quote = \"\" )\n",
    "dim(adt) # should have 1385721\n",
    "colnames(adt)"
   ]
  },
  {
   "cell_type": "code",
   "execution_count": 52,
   "metadata": {},
   "outputs": [
    {
     "data": {
      "text/html": [
       "<table class=\"dataframe\">\n",
       "<caption>A data.frame: 4 × 3</caption>\n",
       "<thead>\n",
       "\t<tr><th scope=col>first_label</th><th scope=col>death_24hr_recent_label</th><th scope=col>n</th></tr>\n",
       "\t<tr><th scope=col>&lt;int&gt;</th><th scope=col>&lt;int&gt;</th><th scope=col>&lt;int&gt;</th></tr>\n",
       "</thead>\n",
       "<tbody>\n",
       "\t<tr><td>1</td><td>1</td><td>113</td></tr>\n",
       "\t<tr><td>0</td><td>0</td><td>102</td></tr>\n",
       "\t<tr><td>1</td><td>0</td><td> 90</td></tr>\n",
       "\t<tr><td>0</td><td>1</td><td> 18</td></tr>\n",
       "</tbody>\n",
       "</table>\n"
      ],
      "text/latex": [
       "A data.frame: 4 × 3\n",
       "\\begin{tabular}{lll}\n",
       " first\\_label & death\\_24hr\\_recent\\_label & n\\\\\n",
       " <int> & <int> & <int>\\\\\n",
       "\\hline\n",
       "\t 1 & 1 & 113\\\\\n",
       "\t 0 & 0 & 102\\\\\n",
       "\t 1 & 0 &  90\\\\\n",
       "\t 0 & 1 &  18\\\\\n",
       "\\end{tabular}\n"
      ],
      "text/markdown": [
       "\n",
       "A data.frame: 4 × 3\n",
       "\n",
       "| first_label &lt;int&gt; | death_24hr_recent_label &lt;int&gt; | n &lt;int&gt; |\n",
       "|---|---|---|\n",
       "| 1 | 1 | 113 |\n",
       "| 0 | 0 | 102 |\n",
       "| 1 | 0 |  90 |\n",
       "| 0 | 1 |  18 |\n",
       "\n"
      ],
      "text/plain": [
       "  first_label death_24hr_recent_label n  \n",
       "1 1           1                       113\n",
       "2 0           0                       102\n",
       "3 1           0                        90\n",
       "4 0           1                        18"
      ]
     },
     "metadata": {},
     "output_type": "display_data"
    },
    {
     "data": {
      "text/html": [
       "<table class=\"dataframe\">\n",
       "<caption>A data.frame: 6 × 3</caption>\n",
       "<thead>\n",
       "\t<tr><th scope=col>event_type</th><th scope=col>event_type_c</th><th scope=col>n</th></tr>\n",
       "\t<tr><th scope=col>&lt;chr&gt;</th><th scope=col>&lt;int&gt;</th><th scope=col>&lt;int&gt;</th></tr>\n",
       "</thead>\n",
       "<tbody>\n",
       "\t<tr><td>Census        </td><td>6</td><td>450404</td></tr>\n",
       "\t<tr><td>Transfer In   </td><td>3</td><td>308795</td></tr>\n",
       "\t<tr><td>Transfer Out  </td><td>4</td><td>308795</td></tr>\n",
       "\t<tr><td>Patient Update</td><td>5</td><td>228035</td></tr>\n",
       "\t<tr><td>Admission     </td><td>1</td><td> 71107</td></tr>\n",
       "\t<tr><td>Discharge     </td><td>2</td><td> 70112</td></tr>\n",
       "</tbody>\n",
       "</table>\n"
      ],
      "text/latex": [
       "A data.frame: 6 × 3\n",
       "\\begin{tabular}{lll}\n",
       " event\\_type & event\\_type\\_c & n\\\\\n",
       " <chr> & <int> & <int>\\\\\n",
       "\\hline\n",
       "\t Census         & 6 & 450404\\\\\n",
       "\t Transfer In    & 3 & 308795\\\\\n",
       "\t Transfer Out   & 4 & 308795\\\\\n",
       "\t Patient Update & 5 & 228035\\\\\n",
       "\t Admission      & 1 &  71107\\\\\n",
       "\t Discharge      & 2 &  70112\\\\\n",
       "\\end{tabular}\n"
      ],
      "text/markdown": [
       "\n",
       "A data.frame: 6 × 3\n",
       "\n",
       "| event_type &lt;chr&gt; | event_type_c &lt;int&gt; | n &lt;int&gt; |\n",
       "|---|---|---|\n",
       "| Census         | 6 | 450404 |\n",
       "| Transfer In    | 3 | 308795 |\n",
       "| Transfer Out   | 4 | 308795 |\n",
       "| Patient Update | 5 | 228035 |\n",
       "| Admission      | 1 |  71107 |\n",
       "| Discharge      | 2 |  70112 |\n",
       "\n"
      ],
      "text/plain": [
       "  event_type     event_type_c n     \n",
       "1 Census         6            450404\n",
       "2 Transfer In    3            308795\n",
       "3 Transfer Out   4            308795\n",
       "4 Patient Update 5            228035\n",
       "5 Admission      1             71107\n",
       "6 Discharge      2             70112"
      ]
     },
     "metadata": {},
     "output_type": "display_data"
    },
    {
     "data": {
      "text/html": [
       "<table class=\"dataframe\">\n",
       "<caption>A data.frame: 4 × 3</caption>\n",
       "<thead>\n",
       "\t<tr><th scope=col>pat_class</th><th scope=col>pat_class_c</th><th scope=col>n</th></tr>\n",
       "\t<tr><th scope=col>&lt;chr&gt;</th><th scope=col>&lt;int&gt;</th><th scope=col>&lt;int&gt;</th></tr>\n",
       "</thead>\n",
       "<tbody>\n",
       "\t<tr><td>Inpatient           </td><td>126</td><td>1232940</td></tr>\n",
       "\t<tr><td>Emergency Services  </td><td>112</td><td> 202329</td></tr>\n",
       "\t<tr><td>Observation         </td><td>128</td><td>   1328</td></tr>\n",
       "\t<tr><td>OP Surgery/Procedure</td><td>122</td><td>    651</td></tr>\n",
       "</tbody>\n",
       "</table>\n"
      ],
      "text/latex": [
       "A data.frame: 4 × 3\n",
       "\\begin{tabular}{lll}\n",
       " pat\\_class & pat\\_class\\_c & n\\\\\n",
       " <chr> & <int> & <int>\\\\\n",
       "\\hline\n",
       "\t Inpatient            & 126 & 1232940\\\\\n",
       "\t Emergency Services   & 112 &  202329\\\\\n",
       "\t Observation          & 128 &    1328\\\\\n",
       "\t OP Surgery/Procedure & 122 &     651\\\\\n",
       "\\end{tabular}\n"
      ],
      "text/markdown": [
       "\n",
       "A data.frame: 4 × 3\n",
       "\n",
       "| pat_class &lt;chr&gt; | pat_class_c &lt;int&gt; | n &lt;int&gt; |\n",
       "|---|---|---|\n",
       "| Inpatient            | 126 | 1232940 |\n",
       "| Emergency Services   | 112 |  202329 |\n",
       "| Observation          | 128 |    1328 |\n",
       "| OP Surgery/Procedure | 122 |     651 |\n",
       "\n"
      ],
      "text/plain": [
       "  pat_class            pat_class_c n      \n",
       "1 Inpatient            126         1232940\n",
       "2 Emergency Services   112          202329\n",
       "3 Observation          128            1328\n",
       "4 OP Surgery/Procedure 122             651"
      ]
     },
     "metadata": {},
     "output_type": "display_data"
    },
    {
     "data": {
      "text/html": [
       "<table class=\"dataframe\">\n",
       "<caption>A data.frame: 4 × 3</caption>\n",
       "<thead>\n",
       "\t<tr><th scope=col>base_pat_class</th><th scope=col>base_pat_class_c</th><th scope=col>n</th></tr>\n",
       "\t<tr><th scope=col>&lt;chr&gt;</th><th scope=col>&lt;int&gt;</th><th scope=col>&lt;int&gt;</th></tr>\n",
       "</thead>\n",
       "<tbody>\n",
       "\t<tr><td>NA        </td><td>NA</td><td>1294153</td></tr>\n",
       "\t<tr><td>Emergency </td><td> 3</td><td>  71107</td></tr>\n",
       "\t<tr><td>Inpatient </td><td> 1</td><td>  71107</td></tr>\n",
       "\t<tr><td>Outpatient</td><td> 2</td><td>    881</td></tr>\n",
       "</tbody>\n",
       "</table>\n"
      ],
      "text/latex": [
       "A data.frame: 4 × 3\n",
       "\\begin{tabular}{lll}\n",
       " base\\_pat\\_class & base\\_pat\\_class\\_c & n\\\\\n",
       " <chr> & <int> & <int>\\\\\n",
       "\\hline\n",
       "\t NA         & NA & 1294153\\\\\n",
       "\t Emergency  &  3 &   71107\\\\\n",
       "\t Inpatient  &  1 &   71107\\\\\n",
       "\t Outpatient &  2 &     881\\\\\n",
       "\\end{tabular}\n"
      ],
      "text/markdown": [
       "\n",
       "A data.frame: 4 × 3\n",
       "\n",
       "| base_pat_class &lt;chr&gt; | base_pat_class_c &lt;int&gt; | n &lt;int&gt; |\n",
       "|---|---|---|\n",
       "| NA         | NA | 1294153 |\n",
       "| Emergency  |  3 |   71107 |\n",
       "| Inpatient  |  1 |   71107 |\n",
       "| Outpatient |  2 |     881 |\n",
       "\n"
      ],
      "text/plain": [
       "  base_pat_class base_pat_class_c n      \n",
       "1 NA             NA               1294153\n",
       "2 Emergency       3                 71107\n",
       "3 Inpatient       1                 71107\n",
       "4 Outpatient      2                   881"
      ]
     },
     "metadata": {},
     "output_type": "display_data"
    },
    {
     "data": {
      "text/html": [
       "<table class=\"dataframe\">\n",
       "<caption>A data.frame: 39 × 3</caption>\n",
       "<thead>\n",
       "\t<tr><th scope=col>pat_service</th><th scope=col>pat_service_c</th><th scope=col>n</th></tr>\n",
       "\t<tr><th scope=col>&lt;chr&gt;</th><th scope=col>&lt;int&gt;</th><th scope=col>&lt;int&gt;</th></tr>\n",
       "</thead>\n",
       "<tbody>\n",
       "\t<tr><td>Critical Care                </td><td> 151</td><td>241846</td></tr>\n",
       "\t<tr><td>Medicine                     </td><td>  39</td><td>171188</td></tr>\n",
       "\t<tr><td>Emergency                    </td><td> 100</td><td>151907</td></tr>\n",
       "\t<tr><td>Cardiology                   </td><td> 155</td><td>129561</td></tr>\n",
       "\t<tr><td>Emergency Medicine           </td><td> 187</td><td>111861</td></tr>\n",
       "\t<tr><td>General Medicine (University)</td><td> 153</td><td> 96646</td></tr>\n",
       "\t<tr><td>Trauma                       </td><td>  72</td><td> 76396</td></tr>\n",
       "\t<tr><td>General Surgery              </td><td>  59</td><td> 72896</td></tr>\n",
       "\t<tr><td>Cardiac Surgery              </td><td>  58</td><td> 54242</td></tr>\n",
       "\t<tr><td>General Medicine (PAMF)      </td><td> 154</td><td> 41106</td></tr>\n",
       "\t<tr><td>Oncology                     </td><td>  47</td><td> 35751</td></tr>\n",
       "\t<tr><td>Neurosurgery                 </td><td>  62</td><td> 32862</td></tr>\n",
       "\t<tr><td>Neurocritical Care           </td><td>1567</td><td> 23729</td></tr>\n",
       "\t<tr><td>ICU Trauma/GenSurg           </td><td> 152</td><td> 23033</td></tr>\n",
       "\t<tr><td>Neurology/Stroke Svc         </td><td>  53</td><td> 21683</td></tr>\n",
       "\t<tr><td>Cardiology Transplant        </td><td> 192</td><td> 15876</td></tr>\n",
       "\t<tr><td>GI/Liver                     </td><td> 220</td><td> 13832</td></tr>\n",
       "\t<tr><td>Liver Transplant             </td><td>  61</td><td> 13650</td></tr>\n",
       "\t<tr><td>Neurology                    </td><td>  52</td><td> 13648</td></tr>\n",
       "\t<tr><td>Emergency Critical Care      </td><td>1554</td><td> 12569</td></tr>\n",
       "\t<tr><td>Orthopaedic Surgery          </td><td>  64</td><td> 11274</td></tr>\n",
       "\t<tr><td>Gyn-Oncology                 </td><td>  36</td><td>  8600</td></tr>\n",
       "\t<tr><td>Hematology/Oncology          </td><td> 207</td><td>  8326</td></tr>\n",
       "\t<tr><td>Cardiovascular ICU           </td><td> 219</td><td>  8168</td></tr>\n",
       "\t<tr><td>Cardiovascular Medicine      </td><td>  31</td><td>  7401</td></tr>\n",
       "\t<tr><td>Cardiology Arrhythmia        </td><td>  27</td><td>  6600</td></tr>\n",
       "\t<tr><td>Vascular Surgery             </td><td> 189</td><td>  5316</td></tr>\n",
       "\t<tr><td>Hematology                   </td><td>  44</td><td>  4639</td></tr>\n",
       "\t<tr><td>Plastic Surgery              </td><td>  67</td><td>  3942</td></tr>\n",
       "\t<tr><td>Hepatology                   </td><td> 193</td><td>  3822</td></tr>\n",
       "\t<tr><td>Cardiology Interventional    </td><td> 191</td><td>  3721</td></tr>\n",
       "\t<tr><td>Pulmonary Transplant         </td><td> 198</td><td>  2676</td></tr>\n",
       "\t<tr><td>Urology                      </td><td>  69</td><td>  2016</td></tr>\n",
       "\t<tr><td>Pulmonary                    </td><td> 167</td><td>  1696</td></tr>\n",
       "\t<tr><td>NA                           </td><td>  NA</td><td>  1591</td></tr>\n",
       "\t<tr><td>ENT                          </td><td>  65</td><td>  1468</td></tr>\n",
       "\t<tr><td>General Medicine (T)         </td><td>  46</td><td>   920</td></tr>\n",
       "\t<tr><td>Sleep Medicine               </td><td> 185</td><td>   456</td></tr>\n",
       "\t<tr><td>Gynecology                   </td><td>  35</td><td>   334</td></tr>\n",
       "</tbody>\n",
       "</table>\n"
      ],
      "text/latex": [
       "A data.frame: 39 × 3\n",
       "\\begin{tabular}{lll}\n",
       " pat\\_service & pat\\_service\\_c & n\\\\\n",
       " <chr> & <int> & <int>\\\\\n",
       "\\hline\n",
       "\t Critical Care                 &  151 & 241846\\\\\n",
       "\t Medicine                      &   39 & 171188\\\\\n",
       "\t Emergency                     &  100 & 151907\\\\\n",
       "\t Cardiology                    &  155 & 129561\\\\\n",
       "\t Emergency Medicine            &  187 & 111861\\\\\n",
       "\t General Medicine (University) &  153 &  96646\\\\\n",
       "\t Trauma                        &   72 &  76396\\\\\n",
       "\t General Surgery               &   59 &  72896\\\\\n",
       "\t Cardiac Surgery               &   58 &  54242\\\\\n",
       "\t General Medicine (PAMF)       &  154 &  41106\\\\\n",
       "\t Oncology                      &   47 &  35751\\\\\n",
       "\t Neurosurgery                  &   62 &  32862\\\\\n",
       "\t Neurocritical Care            & 1567 &  23729\\\\\n",
       "\t ICU Trauma/GenSurg            &  152 &  23033\\\\\n",
       "\t Neurology/Stroke Svc          &   53 &  21683\\\\\n",
       "\t Cardiology Transplant         &  192 &  15876\\\\\n",
       "\t GI/Liver                      &  220 &  13832\\\\\n",
       "\t Liver Transplant              &   61 &  13650\\\\\n",
       "\t Neurology                     &   52 &  13648\\\\\n",
       "\t Emergency Critical Care       & 1554 &  12569\\\\\n",
       "\t Orthopaedic Surgery           &   64 &  11274\\\\\n",
       "\t Gyn-Oncology                  &   36 &   8600\\\\\n",
       "\t Hematology/Oncology           &  207 &   8326\\\\\n",
       "\t Cardiovascular ICU            &  219 &   8168\\\\\n",
       "\t Cardiovascular Medicine       &   31 &   7401\\\\\n",
       "\t Cardiology Arrhythmia         &   27 &   6600\\\\\n",
       "\t Vascular Surgery              &  189 &   5316\\\\\n",
       "\t Hematology                    &   44 &   4639\\\\\n",
       "\t Plastic Surgery               &   67 &   3942\\\\\n",
       "\t Hepatology                    &  193 &   3822\\\\\n",
       "\t Cardiology Interventional     &  191 &   3721\\\\\n",
       "\t Pulmonary Transplant          &  198 &   2676\\\\\n",
       "\t Urology                       &   69 &   2016\\\\\n",
       "\t Pulmonary                     &  167 &   1696\\\\\n",
       "\t NA                            &   NA &   1591\\\\\n",
       "\t ENT                           &   65 &   1468\\\\\n",
       "\t General Medicine (T)          &   46 &    920\\\\\n",
       "\t Sleep Medicine                &  185 &    456\\\\\n",
       "\t Gynecology                    &   35 &    334\\\\\n",
       "\\end{tabular}\n"
      ],
      "text/markdown": [
       "\n",
       "A data.frame: 39 × 3\n",
       "\n",
       "| pat_service &lt;chr&gt; | pat_service_c &lt;int&gt; | n &lt;int&gt; |\n",
       "|---|---|---|\n",
       "| Critical Care                 |  151 | 241846 |\n",
       "| Medicine                      |   39 | 171188 |\n",
       "| Emergency                     |  100 | 151907 |\n",
       "| Cardiology                    |  155 | 129561 |\n",
       "| Emergency Medicine            |  187 | 111861 |\n",
       "| General Medicine (University) |  153 |  96646 |\n",
       "| Trauma                        |   72 |  76396 |\n",
       "| General Surgery               |   59 |  72896 |\n",
       "| Cardiac Surgery               |   58 |  54242 |\n",
       "| General Medicine (PAMF)       |  154 |  41106 |\n",
       "| Oncology                      |   47 |  35751 |\n",
       "| Neurosurgery                  |   62 |  32862 |\n",
       "| Neurocritical Care            | 1567 |  23729 |\n",
       "| ICU Trauma/GenSurg            |  152 |  23033 |\n",
       "| Neurology/Stroke Svc          |   53 |  21683 |\n",
       "| Cardiology Transplant         |  192 |  15876 |\n",
       "| GI/Liver                      |  220 |  13832 |\n",
       "| Liver Transplant              |   61 |  13650 |\n",
       "| Neurology                     |   52 |  13648 |\n",
       "| Emergency Critical Care       | 1554 |  12569 |\n",
       "| Orthopaedic Surgery           |   64 |  11274 |\n",
       "| Gyn-Oncology                  |   36 |   8600 |\n",
       "| Hematology/Oncology           |  207 |   8326 |\n",
       "| Cardiovascular ICU            |  219 |   8168 |\n",
       "| Cardiovascular Medicine       |   31 |   7401 |\n",
       "| Cardiology Arrhythmia         |   27 |   6600 |\n",
       "| Vascular Surgery              |  189 |   5316 |\n",
       "| Hematology                    |   44 |   4639 |\n",
       "| Plastic Surgery               |   67 |   3942 |\n",
       "| Hepatology                    |  193 |   3822 |\n",
       "| Cardiology Interventional     |  191 |   3721 |\n",
       "| Pulmonary Transplant          |  198 |   2676 |\n",
       "| Urology                       |   69 |   2016 |\n",
       "| Pulmonary                     |  167 |   1696 |\n",
       "| NA                            |   NA |   1591 |\n",
       "| ENT                           |   65 |   1468 |\n",
       "| General Medicine (T)          |   46 |    920 |\n",
       "| Sleep Medicine                |  185 |    456 |\n",
       "| Gynecology                    |   35 |    334 |\n",
       "\n"
      ],
      "text/plain": [
       "   pat_service                   pat_service_c n     \n",
       "1  Critical Care                  151          241846\n",
       "2  Medicine                        39          171188\n",
       "3  Emergency                      100          151907\n",
       "4  Cardiology                     155          129561\n",
       "5  Emergency Medicine             187          111861\n",
       "6  General Medicine (University)  153           96646\n",
       "7  Trauma                          72           76396\n",
       "8  General Surgery                 59           72896\n",
       "9  Cardiac Surgery                 58           54242\n",
       "10 General Medicine (PAMF)        154           41106\n",
       "11 Oncology                        47           35751\n",
       "12 Neurosurgery                    62           32862\n",
       "13 Neurocritical Care            1567           23729\n",
       "14 ICU Trauma/GenSurg             152           23033\n",
       "15 Neurology/Stroke Svc            53           21683\n",
       "16 Cardiology Transplant          192           15876\n",
       "17 GI/Liver                       220           13832\n",
       "18 Liver Transplant                61           13650\n",
       "19 Neurology                       52           13648\n",
       "20 Emergency Critical Care       1554           12569\n",
       "21 Orthopaedic Surgery             64           11274\n",
       "22 Gyn-Oncology                    36            8600\n",
       "23 Hematology/Oncology            207            8326\n",
       "24 Cardiovascular ICU             219            8168\n",
       "25 Cardiovascular Medicine         31            7401\n",
       "26 Cardiology Arrhythmia           27            6600\n",
       "27 Vascular Surgery               189            5316\n",
       "28 Hematology                      44            4639\n",
       "29 Plastic Surgery                 67            3942\n",
       "30 Hepatology                     193            3822\n",
       "31 Cardiology Interventional      191            3721\n",
       "32 Pulmonary Transplant           198            2676\n",
       "33 Urology                         69            2016\n",
       "34 Pulmonary                      167            1696\n",
       "35 NA                              NA            1591\n",
       "36 ENT                             65            1468\n",
       "37 General Medicine (T)            46             920\n",
       "38 Sleep Medicine                 185             456\n",
       "39 Gynecology                      35             334"
      ]
     },
     "metadata": {},
     "output_type": "display_data"
    },
    {
     "data": {
      "text/html": [
       "<table class=\"dataframe\">\n",
       "<caption>A data.frame: 4 × 3</caption>\n",
       "<thead>\n",
       "\t<tr><th scope=col>pat_lv_of_care</th><th scope=col>pat_lvl_of_care_c</th><th scope=col>n</th></tr>\n",
       "\t<tr><th scope=col>&lt;chr&gt;</th><th scope=col>&lt;int&gt;</th><th scope=col>&lt;int&gt;</th></tr>\n",
       "</thead>\n",
       "<tbody>\n",
       "\t<tr><td>Acute Care (Assessment or intervention q4-8)            </td><td> 5</td><td>533155</td></tr>\n",
       "\t<tr><td>Critical Care                                           </td><td> 8</td><td>395367</td></tr>\n",
       "\t<tr><td>IICU/Intermediate Care (Assessment or intervention q2-4)</td><td> 9</td><td>306459</td></tr>\n",
       "\t<tr><td>NA                                                      </td><td>NA</td><td>202267</td></tr>\n",
       "</tbody>\n",
       "</table>\n"
      ],
      "text/latex": [
       "A data.frame: 4 × 3\n",
       "\\begin{tabular}{lll}\n",
       " pat\\_lv\\_of\\_care & pat\\_lvl\\_of\\_care\\_c & n\\\\\n",
       " <chr> & <int> & <int>\\\\\n",
       "\\hline\n",
       "\t Acute Care (Assessment or intervention q4-8)             &  5 & 533155\\\\\n",
       "\t Critical Care                                            &  8 & 395367\\\\\n",
       "\t IICU/Intermediate Care (Assessment or intervention q2-4) &  9 & 306459\\\\\n",
       "\t NA                                                       & NA & 202267\\\\\n",
       "\\end{tabular}\n"
      ],
      "text/markdown": [
       "\n",
       "A data.frame: 4 × 3\n",
       "\n",
       "| pat_lv_of_care &lt;chr&gt; | pat_lvl_of_care_c &lt;int&gt; | n &lt;int&gt; |\n",
       "|---|---|---|\n",
       "| Acute Care (Assessment or intervention q4-8)             |  5 | 533155 |\n",
       "| Critical Care                                            |  8 | 395367 |\n",
       "| IICU/Intermediate Care (Assessment or intervention q2-4) |  9 | 306459 |\n",
       "| NA                                                       | NA | 202267 |\n",
       "\n"
      ],
      "text/plain": [
       "  pat_lv_of_care                                           pat_lvl_of_care_c\n",
       "1 Acute Care (Assessment or intervention q4-8)              5               \n",
       "2 Critical Care                                             8               \n",
       "3 IICU/Intermediate Care (Assessment or intervention q2-4)  9               \n",
       "4 NA                                                       NA               \n",
       "  n     \n",
       "1 533155\n",
       "2 395367\n",
       "3 306459\n",
       "4 202267"
      ]
     },
     "metadata": {},
     "output_type": "display_data"
    },
    {
     "data": {
      "text/html": [
       "<table class=\"dataframe\">\n",
       "<caption>A data.frame: 4 × 3</caption>\n",
       "<thead>\n",
       "\t<tr><th scope=col>accomodation</th><th scope=col>accommodation_c</th><th scope=col>n</th></tr>\n",
       "\t<tr><th scope=col>&lt;chr&gt;</th><th scope=col>&lt;int&gt;</th><th scope=col>&lt;int&gt;</th></tr>\n",
       "</thead>\n",
       "<tbody>\n",
       "\t<tr><td>Ward         </td><td>10001</td><td>573802</td></tr>\n",
       "\t<tr><td>Private      </td><td>    1</td><td>553868</td></tr>\n",
       "\t<tr><td>Semi-Private </td><td>    2</td><td>307324</td></tr>\n",
       "\t<tr><td>NA           </td><td>   NA</td><td>  2254</td></tr>\n",
       "</tbody>\n",
       "</table>\n"
      ],
      "text/latex": [
       "A data.frame: 4 × 3\n",
       "\\begin{tabular}{lll}\n",
       " accomodation & accommodation\\_c & n\\\\\n",
       " <chr> & <int> & <int>\\\\\n",
       "\\hline\n",
       "\t Ward          & 10001 & 573802\\\\\n",
       "\t Private       &     1 & 553868\\\\\n",
       "\t Semi-Private  &     2 & 307324\\\\\n",
       "\t NA            &    NA &   2254\\\\\n",
       "\\end{tabular}\n"
      ],
      "text/markdown": [
       "\n",
       "A data.frame: 4 × 3\n",
       "\n",
       "| accomodation &lt;chr&gt; | accommodation_c &lt;int&gt; | n &lt;int&gt; |\n",
       "|---|---|---|\n",
       "| Ward          | 10001 | 573802 |\n",
       "| Private       |     1 | 553868 |\n",
       "| Semi-Private  |     2 | 307324 |\n",
       "| NA            |    NA |   2254 |\n",
       "\n"
      ],
      "text/plain": [
       "  accomodation  accommodation_c n     \n",
       "1 Ward          10001           573802\n",
       "2 Private           1           553868\n",
       "3 Semi-Private      2           307324\n",
       "4 NA               NA             2254"
      ]
     },
     "metadata": {},
     "output_type": "display_data"
    },
    {
     "data": {
      "text/html": [
       "<table class=\"dataframe\">\n",
       "<caption>A data.frame: 5 × 3</caption>\n",
       "<thead>\n",
       "\t<tr><th scope=col>in_event_type</th><th scope=col>in_event_type_c</th><th scope=col>n</th></tr>\n",
       "\t<tr><th scope=col>&lt;chr&gt;</th><th scope=col>&lt;int&gt;</th><th scope=col>&lt;int&gt;</th></tr>\n",
       "</thead>\n",
       "<tbody>\n",
       "\t<tr><td>Census        </td><td> 6</td><td>450404</td></tr>\n",
       "\t<tr><td>NA            </td><td>NA</td><td>378907</td></tr>\n",
       "\t<tr><td>Transfer In   </td><td> 3</td><td>308634</td></tr>\n",
       "\t<tr><td>Patient Update</td><td> 5</td><td>156208</td></tr>\n",
       "\t<tr><td>Admission     </td><td> 1</td><td>143095</td></tr>\n",
       "</tbody>\n",
       "</table>\n"
      ],
      "text/latex": [
       "A data.frame: 5 × 3\n",
       "\\begin{tabular}{lll}\n",
       " in\\_event\\_type & in\\_event\\_type\\_c & n\\\\\n",
       " <chr> & <int> & <int>\\\\\n",
       "\\hline\n",
       "\t Census         &  6 & 450404\\\\\n",
       "\t NA             & NA & 378907\\\\\n",
       "\t Transfer In    &  3 & 308634\\\\\n",
       "\t Patient Update &  5 & 156208\\\\\n",
       "\t Admission      &  1 & 143095\\\\\n",
       "\\end{tabular}\n"
      ],
      "text/markdown": [
       "\n",
       "A data.frame: 5 × 3\n",
       "\n",
       "| in_event_type &lt;chr&gt; | in_event_type_c &lt;int&gt; | n &lt;int&gt; |\n",
       "|---|---|---|\n",
       "| Census         |  6 | 450404 |\n",
       "| NA             | NA | 378907 |\n",
       "| Transfer In    |  3 | 308634 |\n",
       "| Patient Update |  5 | 156208 |\n",
       "| Admission      |  1 | 143095 |\n",
       "\n"
      ],
      "text/plain": [
       "  in_event_type  in_event_type_c n     \n",
       "1 Census          6              450404\n",
       "2 NA             NA              378907\n",
       "3 Transfer In     3              308634\n",
       "4 Patient Update  5              156208\n",
       "5 Admission       1              143095"
      ]
     },
     "metadata": {},
     "output_type": "display_data"
    },
    {
     "data": {
      "text/html": [
       "<table class=\"dataframe\">\n",
       "<caption>A data.frame: 5 × 3</caption>\n",
       "<thead>\n",
       "\t<tr><th scope=col>out_event_type</th><th scope=col>out_event_type_c</th><th scope=col>n</th></tr>\n",
       "\t<tr><th scope=col>&lt;chr&gt;</th><th scope=col>&lt;int&gt;</th><th scope=col>&lt;int&gt;</th></tr>\n",
       "</thead>\n",
       "<tbody>\n",
       "\t<tr><td>Census        </td><td> 6</td><td>450404</td></tr>\n",
       "\t<tr><td>NA            </td><td>NA</td><td>379902</td></tr>\n",
       "\t<tr><td>Transfer Out  </td><td> 4</td><td>308634</td></tr>\n",
       "\t<tr><td>Patient Update</td><td> 5</td><td>156208</td></tr>\n",
       "\t<tr><td>Discharge     </td><td> 2</td><td>142100</td></tr>\n",
       "</tbody>\n",
       "</table>\n"
      ],
      "text/latex": [
       "A data.frame: 5 × 3\n",
       "\\begin{tabular}{lll}\n",
       " out\\_event\\_type & out\\_event\\_type\\_c & n\\\\\n",
       " <chr> & <int> & <int>\\\\\n",
       "\\hline\n",
       "\t Census         &  6 & 450404\\\\\n",
       "\t NA             & NA & 379902\\\\\n",
       "\t Transfer Out   &  4 & 308634\\\\\n",
       "\t Patient Update &  5 & 156208\\\\\n",
       "\t Discharge      &  2 & 142100\\\\\n",
       "\\end{tabular}\n"
      ],
      "text/markdown": [
       "\n",
       "A data.frame: 5 × 3\n",
       "\n",
       "| out_event_type &lt;chr&gt; | out_event_type_c &lt;int&gt; | n &lt;int&gt; |\n",
       "|---|---|---|\n",
       "| Census         |  6 | 450404 |\n",
       "| NA             | NA | 379902 |\n",
       "| Transfer Out   |  4 | 308634 |\n",
       "| Patient Update |  5 | 156208 |\n",
       "| Discharge      |  2 | 142100 |\n",
       "\n"
      ],
      "text/plain": [
       "  out_event_type out_event_type_c n     \n",
       "1 Census          6               450404\n",
       "2 NA             NA               379902\n",
       "3 Transfer Out    4               308634\n",
       "4 Patient Update  5               156208\n",
       "5 Discharge       2               142100"
      ]
     },
     "metadata": {},
     "output_type": "display_data"
    },
    {
     "data": {
      "text/html": [
       "<table class=\"dataframe\">\n",
       "<caption>A data.frame: 5 × 3</caption>\n",
       "<thead>\n",
       "\t<tr><th scope=col>from_base_class</th><th scope=col>from_base_class_c</th><th scope=col>n</th></tr>\n",
       "\t<tr><th scope=col>&lt;chr&gt;</th><th scope=col>&lt;int&gt;</th><th scope=col>&lt;int&gt;</th></tr>\n",
       "</thead>\n",
       "<tbody>\n",
       "\t<tr><td>Inpatient </td><td>1</td><td>1162497</td></tr>\n",
       "\t<tr><td>Emergency </td><td>3</td><td> 202329</td></tr>\n",
       "\t<tr><td>NA        </td><td>0</td><td>  71107</td></tr>\n",
       "\t<tr><td>NA        </td><td>4</td><td>    664</td></tr>\n",
       "\t<tr><td>Outpatient</td><td>2</td><td>    651</td></tr>\n",
       "</tbody>\n",
       "</table>\n"
      ],
      "text/latex": [
       "A data.frame: 5 × 3\n",
       "\\begin{tabular}{lll}\n",
       " from\\_base\\_class & from\\_base\\_class\\_c & n\\\\\n",
       " <chr> & <int> & <int>\\\\\n",
       "\\hline\n",
       "\t Inpatient  & 1 & 1162497\\\\\n",
       "\t Emergency  & 3 &  202329\\\\\n",
       "\t NA         & 0 &   71107\\\\\n",
       "\t NA         & 4 &     664\\\\\n",
       "\t Outpatient & 2 &     651\\\\\n",
       "\\end{tabular}\n"
      ],
      "text/markdown": [
       "\n",
       "A data.frame: 5 × 3\n",
       "\n",
       "| from_base_class &lt;chr&gt; | from_base_class_c &lt;int&gt; | n &lt;int&gt; |\n",
       "|---|---|---|\n",
       "| Inpatient  | 1 | 1162497 |\n",
       "| Emergency  | 3 |  202329 |\n",
       "| NA         | 0 |   71107 |\n",
       "| NA         | 4 |     664 |\n",
       "| Outpatient | 2 |     651 |\n",
       "\n"
      ],
      "text/plain": [
       "  from_base_class from_base_class_c n      \n",
       "1 Inpatient       1                 1162497\n",
       "2 Emergency       3                  202329\n",
       "3 NA              0                   71107\n",
       "4 NA              4                     664\n",
       "5 Outpatient      2                     651"
      ]
     },
     "metadata": {},
     "output_type": "display_data"
    },
    {
     "data": {
      "text/html": [
       "<table class=\"dataframe\">\n",
       "<caption>A data.frame: 5 × 3</caption>\n",
       "<thead>\n",
       "\t<tr><th scope=col>to_base_class</th><th scope=col>to_base_class_c</th><th scope=col>n</th></tr>\n",
       "\t<tr><th scope=col>&lt;chr&gt;</th><th scope=col>&lt;int&gt;</th><th scope=col>&lt;int&gt;</th></tr>\n",
       "</thead>\n",
       "<tbody>\n",
       "\t<tr><td>Inpatient </td><td>1</td><td>1163436</td></tr>\n",
       "\t<tr><td>Emergency </td><td>3</td><td> 202168</td></tr>\n",
       "\t<tr><td>NA        </td><td>0</td><td>  70112</td></tr>\n",
       "\t<tr><td>Outpatient</td><td>2</td><td>    868</td></tr>\n",
       "\t<tr><td>NA        </td><td>4</td><td>    664</td></tr>\n",
       "</tbody>\n",
       "</table>\n"
      ],
      "text/latex": [
       "A data.frame: 5 × 3\n",
       "\\begin{tabular}{lll}\n",
       " to\\_base\\_class & to\\_base\\_class\\_c & n\\\\\n",
       " <chr> & <int> & <int>\\\\\n",
       "\\hline\n",
       "\t Inpatient  & 1 & 1163436\\\\\n",
       "\t Emergency  & 3 &  202168\\\\\n",
       "\t NA         & 0 &   70112\\\\\n",
       "\t Outpatient & 2 &     868\\\\\n",
       "\t NA         & 4 &     664\\\\\n",
       "\\end{tabular}\n"
      ],
      "text/markdown": [
       "\n",
       "A data.frame: 5 × 3\n",
       "\n",
       "| to_base_class &lt;chr&gt; | to_base_class_c &lt;int&gt; | n &lt;int&gt; |\n",
       "|---|---|---|\n",
       "| Inpatient  | 1 | 1163436 |\n",
       "| Emergency  | 3 |  202168 |\n",
       "| NA         | 0 |   70112 |\n",
       "| Outpatient | 2 |     868 |\n",
       "| NA         | 4 |     664 |\n",
       "\n"
      ],
      "text/plain": [
       "  to_base_class to_base_class_c n      \n",
       "1 Inpatient     1               1163436\n",
       "2 Emergency     3                202168\n",
       "3 NA            0                 70112\n",
       "4 Outpatient    2                   868\n",
       "5 NA            4                   664"
      ]
     },
     "metadata": {},
     "output_type": "display_data"
    },
    {
     "data": {
      "text/html": [
       "<table class=\"dataframe\">\n",
       "<caption>A data.frame: 180 × 2</caption>\n",
       "<thead>\n",
       "\t<tr><th scope=col>seq_num_in_enc</th><th scope=col>n</th></tr>\n",
       "\t<tr><th scope=col>&lt;int&gt;</th><th scope=col>&lt;int&gt;</th></tr>\n",
       "</thead>\n",
       "<tbody>\n",
       "\t<tr><td>  1</td><td>71107</td></tr>\n",
       "\t<tr><td>  2</td><td>71107</td></tr>\n",
       "\t<tr><td>  3</td><td>71107</td></tr>\n",
       "\t<tr><td>  4</td><td>71107</td></tr>\n",
       "\t<tr><td>  5</td><td>71107</td></tr>\n",
       "\t<tr><td>  6</td><td>70390</td></tr>\n",
       "\t<tr><td>  7</td><td>69868</td></tr>\n",
       "\t<tr><td>  8</td><td>69512</td></tr>\n",
       "\t<tr><td>  9</td><td>68276</td></tr>\n",
       "\t<tr><td> 10</td><td>66616</td></tr>\n",
       "\t<tr><td> 11</td><td>62282</td></tr>\n",
       "\t<tr><td> 12</td><td>57299</td></tr>\n",
       "\t<tr><td> 13</td><td>55283</td></tr>\n",
       "\t<tr><td> 14</td><td>50760</td></tr>\n",
       "\t<tr><td> 15</td><td>44778</td></tr>\n",
       "\t<tr><td> 16</td><td>38670</td></tr>\n",
       "\t<tr><td> 17</td><td>33543</td></tr>\n",
       "\t<tr><td> 18</td><td>29982</td></tr>\n",
       "\t<tr><td> 19</td><td>27261</td></tr>\n",
       "\t<tr><td> 20</td><td>25194</td></tr>\n",
       "\t<tr><td> 21</td><td>22504</td></tr>\n",
       "\t<tr><td> 22</td><td>19851</td></tr>\n",
       "\t<tr><td> 23</td><td>18029</td></tr>\n",
       "\t<tr><td> 24</td><td>16339</td></tr>\n",
       "\t<tr><td> 25</td><td>14873</td></tr>\n",
       "\t<tr><td> 26</td><td>13743</td></tr>\n",
       "\t<tr><td> 27</td><td>12474</td></tr>\n",
       "\t<tr><td> 28</td><td>11438</td></tr>\n",
       "\t<tr><td> 29</td><td>10872</td></tr>\n",
       "\t<tr><td> 30</td><td> 9448</td></tr>\n",
       "\t<tr><td> 31</td><td> 8938</td></tr>\n",
       "\t<tr><td> 32</td><td> 8651</td></tr>\n",
       "\t<tr><td> 33</td><td> 7957</td></tr>\n",
       "\t<tr><td> 34</td><td> 6069</td></tr>\n",
       "\t<tr><td> 35</td><td> 5723</td></tr>\n",
       "\t<tr><td> 36</td><td> 5459</td></tr>\n",
       "\t<tr><td> 37</td><td> 5365</td></tr>\n",
       "\t<tr><td> 38</td><td> 5016</td></tr>\n",
       "\t<tr><td> 39</td><td> 4303</td></tr>\n",
       "\t<tr><td> 40</td><td> 3153</td></tr>\n",
       "\t<tr><td> 41</td><td> 2966</td></tr>\n",
       "\t<tr><td> 42</td><td> 2966</td></tr>\n",
       "\t<tr><td> 43</td><td> 2966</td></tr>\n",
       "\t<tr><td> 44</td><td> 2486</td></tr>\n",
       "\t<tr><td> 45</td><td> 2486</td></tr>\n",
       "\t<tr><td> 46</td><td> 2486</td></tr>\n",
       "\t<tr><td> 47</td><td> 2486</td></tr>\n",
       "\t<tr><td> 48</td><td> 2299</td></tr>\n",
       "\t<tr><td> 49</td><td> 2299</td></tr>\n",
       "\t<tr><td> 50</td><td> 2299</td></tr>\n",
       "\t<tr><td> 51</td><td> 2155</td></tr>\n",
       "\t<tr><td> 52</td><td> 2155</td></tr>\n",
       "\t<tr><td> 53</td><td> 2155</td></tr>\n",
       "\t<tr><td> 54</td><td> 1714</td></tr>\n",
       "\t<tr><td> 55</td><td> 1396</td></tr>\n",
       "\t<tr><td> 56</td><td> 1396</td></tr>\n",
       "\t<tr><td> 57</td><td> 1396</td></tr>\n",
       "\t<tr><td> 58</td><td> 1396</td></tr>\n",
       "\t<tr><td> 59</td><td> 1396</td></tr>\n",
       "\t<tr><td> 60</td><td> 1293</td></tr>\n",
       "\t<tr><td> 61</td><td> 1293</td></tr>\n",
       "\t<tr><td> 62</td><td> 1293</td></tr>\n",
       "\t<tr><td> 63</td><td> 1293</td></tr>\n",
       "\t<tr><td> 64</td><td> 1293</td></tr>\n",
       "\t<tr><td> 65</td><td> 1293</td></tr>\n",
       "\t<tr><td> 66</td><td> 1293</td></tr>\n",
       "\t<tr><td> 67</td><td> 1293</td></tr>\n",
       "\t<tr><td> 68</td><td> 1293</td></tr>\n",
       "\t<tr><td> 69</td><td> 1293</td></tr>\n",
       "\t<tr><td> 70</td><td> 1150</td></tr>\n",
       "\t<tr><td> 71</td><td> 1150</td></tr>\n",
       "\t<tr><td> 72</td><td> 1150</td></tr>\n",
       "\t<tr><td> 73</td><td> 1150</td></tr>\n",
       "\t<tr><td> 74</td><td> 1150</td></tr>\n",
       "\t<tr><td> 75</td><td> 1150</td></tr>\n",
       "\t<tr><td> 76</td><td> 1150</td></tr>\n",
       "\t<tr><td> 77</td><td>  659</td></tr>\n",
       "\t<tr><td> 78</td><td>  659</td></tr>\n",
       "\t<tr><td> 79</td><td>  659</td></tr>\n",
       "\t<tr><td> 80</td><td>  659</td></tr>\n",
       "\t<tr><td> 81</td><td>  659</td></tr>\n",
       "\t<tr><td> 82</td><td>  659</td></tr>\n",
       "\t<tr><td> 83</td><td>  659</td></tr>\n",
       "\t<tr><td> 84</td><td>  659</td></tr>\n",
       "\t<tr><td> 85</td><td>  659</td></tr>\n",
       "\t<tr><td> 86</td><td>  659</td></tr>\n",
       "\t<tr><td> 87</td><td>  659</td></tr>\n",
       "\t<tr><td> 88</td><td>  659</td></tr>\n",
       "\t<tr><td> 89</td><td>  659</td></tr>\n",
       "\t<tr><td> 90</td><td>  659</td></tr>\n",
       "\t<tr><td> 91</td><td>  659</td></tr>\n",
       "\t<tr><td> 92</td><td>  659</td></tr>\n",
       "\t<tr><td> 93</td><td>  659</td></tr>\n",
       "\t<tr><td> 94</td><td>  659</td></tr>\n",
       "\t<tr><td> 95</td><td>  659</td></tr>\n",
       "\t<tr><td> 96</td><td>  659</td></tr>\n",
       "\t<tr><td> 97</td><td>  659</td></tr>\n",
       "\t<tr><td> 98</td><td>  659</td></tr>\n",
       "\t<tr><td> 99</td><td>  659</td></tr>\n",
       "\t<tr><td>100</td><td>  659</td></tr>\n",
       "\t<tr><td>101</td><td>  659</td></tr>\n",
       "\t<tr><td>102</td><td>  659</td></tr>\n",
       "\t<tr><td>103</td><td>  659</td></tr>\n",
       "\t<tr><td>104</td><td>  659</td></tr>\n",
       "\t<tr><td>105</td><td>  659</td></tr>\n",
       "\t<tr><td>106</td><td>  659</td></tr>\n",
       "\t<tr><td>107</td><td>  659</td></tr>\n",
       "\t<tr><td>108</td><td>  659</td></tr>\n",
       "\t<tr><td>109</td><td>  659</td></tr>\n",
       "\t<tr><td>110</td><td>  659</td></tr>\n",
       "\t<tr><td>111</td><td>  659</td></tr>\n",
       "\t<tr><td>112</td><td>  659</td></tr>\n",
       "\t<tr><td>113</td><td>  659</td></tr>\n",
       "\t<tr><td>114</td><td>  659</td></tr>\n",
       "\t<tr><td>115</td><td>  659</td></tr>\n",
       "\t<tr><td>116</td><td>  659</td></tr>\n",
       "\t<tr><td>117</td><td>  659</td></tr>\n",
       "\t<tr><td>118</td><td>  659</td></tr>\n",
       "\t<tr><td>119</td><td>  659</td></tr>\n",
       "\t<tr><td>120</td><td>  659</td></tr>\n",
       "\t<tr><td>121</td><td>  182</td></tr>\n",
       "\t<tr><td>122</td><td>  182</td></tr>\n",
       "\t<tr><td>123</td><td>  182</td></tr>\n",
       "\t<tr><td>124</td><td>  182</td></tr>\n",
       "\t<tr><td>125</td><td>  182</td></tr>\n",
       "\t<tr><td>126</td><td>  182</td></tr>\n",
       "\t<tr><td>127</td><td>  182</td></tr>\n",
       "\t<tr><td>128</td><td>  182</td></tr>\n",
       "\t<tr><td>129</td><td>  182</td></tr>\n",
       "\t<tr><td>130</td><td>  182</td></tr>\n",
       "\t<tr><td>131</td><td>  182</td></tr>\n",
       "\t<tr><td>132</td><td>  182</td></tr>\n",
       "\t<tr><td>133</td><td>  182</td></tr>\n",
       "\t<tr><td>134</td><td>  182</td></tr>\n",
       "\t<tr><td>135</td><td>  182</td></tr>\n",
       "\t<tr><td>136</td><td>  182</td></tr>\n",
       "\t<tr><td>137</td><td>  182</td></tr>\n",
       "\t<tr><td>138</td><td>  182</td></tr>\n",
       "\t<tr><td>139</td><td>  182</td></tr>\n",
       "\t<tr><td>140</td><td>  182</td></tr>\n",
       "\t<tr><td>141</td><td>  182</td></tr>\n",
       "\t<tr><td>142</td><td>  182</td></tr>\n",
       "\t<tr><td>143</td><td>  182</td></tr>\n",
       "\t<tr><td>144</td><td>  182</td></tr>\n",
       "\t<tr><td>145</td><td>  182</td></tr>\n",
       "\t<tr><td>146</td><td>  182</td></tr>\n",
       "\t<tr><td>147</td><td>  182</td></tr>\n",
       "\t<tr><td>148</td><td>  182</td></tr>\n",
       "\t<tr><td>149</td><td>  182</td></tr>\n",
       "\t<tr><td>150</td><td>  182</td></tr>\n",
       "\t<tr><td>151</td><td>  182</td></tr>\n",
       "\t<tr><td>152</td><td>  182</td></tr>\n",
       "\t<tr><td>153</td><td>  182</td></tr>\n",
       "\t<tr><td>154</td><td>  182</td></tr>\n",
       "\t<tr><td>155</td><td>  182</td></tr>\n",
       "\t<tr><td>156</td><td>  182</td></tr>\n",
       "\t<tr><td>157</td><td>  182</td></tr>\n",
       "\t<tr><td>158</td><td>  182</td></tr>\n",
       "\t<tr><td>159</td><td>  182</td></tr>\n",
       "\t<tr><td>160</td><td>  182</td></tr>\n",
       "\t<tr><td>161</td><td>  182</td></tr>\n",
       "\t<tr><td>162</td><td>  182</td></tr>\n",
       "\t<tr><td>163</td><td>  182</td></tr>\n",
       "\t<tr><td>164</td><td>  182</td></tr>\n",
       "\t<tr><td>165</td><td>  182</td></tr>\n",
       "\t<tr><td>166</td><td>  182</td></tr>\n",
       "\t<tr><td>167</td><td>  182</td></tr>\n",
       "\t<tr><td>168</td><td>  182</td></tr>\n",
       "\t<tr><td>169</td><td>  182</td></tr>\n",
       "\t<tr><td>170</td><td>  182</td></tr>\n",
       "\t<tr><td>171</td><td>  182</td></tr>\n",
       "\t<tr><td>172</td><td>  182</td></tr>\n",
       "\t<tr><td>173</td><td>  182</td></tr>\n",
       "\t<tr><td>174</td><td>  182</td></tr>\n",
       "\t<tr><td>175</td><td>  182</td></tr>\n",
       "\t<tr><td>176</td><td>  182</td></tr>\n",
       "\t<tr><td>177</td><td>  182</td></tr>\n",
       "\t<tr><td>178</td><td>  182</td></tr>\n",
       "\t<tr><td>179</td><td>  182</td></tr>\n",
       "\t<tr><td>180</td><td>  182</td></tr>\n",
       "</tbody>\n",
       "</table>\n"
      ],
      "text/latex": [
       "A data.frame: 180 × 2\n",
       "\\begin{tabular}{ll}\n",
       " seq\\_num\\_in\\_enc & n\\\\\n",
       " <int> & <int>\\\\\n",
       "\\hline\n",
       "\t   1 & 71107\\\\\n",
       "\t   2 & 71107\\\\\n",
       "\t   3 & 71107\\\\\n",
       "\t   4 & 71107\\\\\n",
       "\t   5 & 71107\\\\\n",
       "\t   6 & 70390\\\\\n",
       "\t   7 & 69868\\\\\n",
       "\t   8 & 69512\\\\\n",
       "\t   9 & 68276\\\\\n",
       "\t  10 & 66616\\\\\n",
       "\t  11 & 62282\\\\\n",
       "\t  12 & 57299\\\\\n",
       "\t  13 & 55283\\\\\n",
       "\t  14 & 50760\\\\\n",
       "\t  15 & 44778\\\\\n",
       "\t  16 & 38670\\\\\n",
       "\t  17 & 33543\\\\\n",
       "\t  18 & 29982\\\\\n",
       "\t  19 & 27261\\\\\n",
       "\t  20 & 25194\\\\\n",
       "\t  21 & 22504\\\\\n",
       "\t  22 & 19851\\\\\n",
       "\t  23 & 18029\\\\\n",
       "\t  24 & 16339\\\\\n",
       "\t  25 & 14873\\\\\n",
       "\t  26 & 13743\\\\\n",
       "\t  27 & 12474\\\\\n",
       "\t  28 & 11438\\\\\n",
       "\t  29 & 10872\\\\\n",
       "\t  30 &  9448\\\\\n",
       "\t  31 &  8938\\\\\n",
       "\t  32 &  8651\\\\\n",
       "\t  33 &  7957\\\\\n",
       "\t  34 &  6069\\\\\n",
       "\t  35 &  5723\\\\\n",
       "\t  36 &  5459\\\\\n",
       "\t  37 &  5365\\\\\n",
       "\t  38 &  5016\\\\\n",
       "\t  39 &  4303\\\\\n",
       "\t  40 &  3153\\\\\n",
       "\t  41 &  2966\\\\\n",
       "\t  42 &  2966\\\\\n",
       "\t  43 &  2966\\\\\n",
       "\t  44 &  2486\\\\\n",
       "\t  45 &  2486\\\\\n",
       "\t  46 &  2486\\\\\n",
       "\t  47 &  2486\\\\\n",
       "\t  48 &  2299\\\\\n",
       "\t  49 &  2299\\\\\n",
       "\t  50 &  2299\\\\\n",
       "\t  51 &  2155\\\\\n",
       "\t  52 &  2155\\\\\n",
       "\t  53 &  2155\\\\\n",
       "\t  54 &  1714\\\\\n",
       "\t  55 &  1396\\\\\n",
       "\t  56 &  1396\\\\\n",
       "\t  57 &  1396\\\\\n",
       "\t  58 &  1396\\\\\n",
       "\t  59 &  1396\\\\\n",
       "\t  60 &  1293\\\\\n",
       "\t  61 &  1293\\\\\n",
       "\t  62 &  1293\\\\\n",
       "\t  63 &  1293\\\\\n",
       "\t  64 &  1293\\\\\n",
       "\t  65 &  1293\\\\\n",
       "\t  66 &  1293\\\\\n",
       "\t  67 &  1293\\\\\n",
       "\t  68 &  1293\\\\\n",
       "\t  69 &  1293\\\\\n",
       "\t  70 &  1150\\\\\n",
       "\t  71 &  1150\\\\\n",
       "\t  72 &  1150\\\\\n",
       "\t  73 &  1150\\\\\n",
       "\t  74 &  1150\\\\\n",
       "\t  75 &  1150\\\\\n",
       "\t  76 &  1150\\\\\n",
       "\t  77 &   659\\\\\n",
       "\t  78 &   659\\\\\n",
       "\t  79 &   659\\\\\n",
       "\t  80 &   659\\\\\n",
       "\t  81 &   659\\\\\n",
       "\t  82 &   659\\\\\n",
       "\t  83 &   659\\\\\n",
       "\t  84 &   659\\\\\n",
       "\t  85 &   659\\\\\n",
       "\t  86 &   659\\\\\n",
       "\t  87 &   659\\\\\n",
       "\t  88 &   659\\\\\n",
       "\t  89 &   659\\\\\n",
       "\t  90 &   659\\\\\n",
       "\t  91 &   659\\\\\n",
       "\t  92 &   659\\\\\n",
       "\t  93 &   659\\\\\n",
       "\t  94 &   659\\\\\n",
       "\t  95 &   659\\\\\n",
       "\t  96 &   659\\\\\n",
       "\t  97 &   659\\\\\n",
       "\t  98 &   659\\\\\n",
       "\t  99 &   659\\\\\n",
       "\t 100 &   659\\\\\n",
       "\t 101 &   659\\\\\n",
       "\t 102 &   659\\\\\n",
       "\t 103 &   659\\\\\n",
       "\t 104 &   659\\\\\n",
       "\t 105 &   659\\\\\n",
       "\t 106 &   659\\\\\n",
       "\t 107 &   659\\\\\n",
       "\t 108 &   659\\\\\n",
       "\t 109 &   659\\\\\n",
       "\t 110 &   659\\\\\n",
       "\t 111 &   659\\\\\n",
       "\t 112 &   659\\\\\n",
       "\t 113 &   659\\\\\n",
       "\t 114 &   659\\\\\n",
       "\t 115 &   659\\\\\n",
       "\t 116 &   659\\\\\n",
       "\t 117 &   659\\\\\n",
       "\t 118 &   659\\\\\n",
       "\t 119 &   659\\\\\n",
       "\t 120 &   659\\\\\n",
       "\t 121 &   182\\\\\n",
       "\t 122 &   182\\\\\n",
       "\t 123 &   182\\\\\n",
       "\t 124 &   182\\\\\n",
       "\t 125 &   182\\\\\n",
       "\t 126 &   182\\\\\n",
       "\t 127 &   182\\\\\n",
       "\t 128 &   182\\\\\n",
       "\t 129 &   182\\\\\n",
       "\t 130 &   182\\\\\n",
       "\t 131 &   182\\\\\n",
       "\t 132 &   182\\\\\n",
       "\t 133 &   182\\\\\n",
       "\t 134 &   182\\\\\n",
       "\t 135 &   182\\\\\n",
       "\t 136 &   182\\\\\n",
       "\t 137 &   182\\\\\n",
       "\t 138 &   182\\\\\n",
       "\t 139 &   182\\\\\n",
       "\t 140 &   182\\\\\n",
       "\t 141 &   182\\\\\n",
       "\t 142 &   182\\\\\n",
       "\t 143 &   182\\\\\n",
       "\t 144 &   182\\\\\n",
       "\t 145 &   182\\\\\n",
       "\t 146 &   182\\\\\n",
       "\t 147 &   182\\\\\n",
       "\t 148 &   182\\\\\n",
       "\t 149 &   182\\\\\n",
       "\t 150 &   182\\\\\n",
       "\t 151 &   182\\\\\n",
       "\t 152 &   182\\\\\n",
       "\t 153 &   182\\\\\n",
       "\t 154 &   182\\\\\n",
       "\t 155 &   182\\\\\n",
       "\t 156 &   182\\\\\n",
       "\t 157 &   182\\\\\n",
       "\t 158 &   182\\\\\n",
       "\t 159 &   182\\\\\n",
       "\t 160 &   182\\\\\n",
       "\t 161 &   182\\\\\n",
       "\t 162 &   182\\\\\n",
       "\t 163 &   182\\\\\n",
       "\t 164 &   182\\\\\n",
       "\t 165 &   182\\\\\n",
       "\t 166 &   182\\\\\n",
       "\t 167 &   182\\\\\n",
       "\t 168 &   182\\\\\n",
       "\t 169 &   182\\\\\n",
       "\t 170 &   182\\\\\n",
       "\t 171 &   182\\\\\n",
       "\t 172 &   182\\\\\n",
       "\t 173 &   182\\\\\n",
       "\t 174 &   182\\\\\n",
       "\t 175 &   182\\\\\n",
       "\t 176 &   182\\\\\n",
       "\t 177 &   182\\\\\n",
       "\t 178 &   182\\\\\n",
       "\t 179 &   182\\\\\n",
       "\t 180 &   182\\\\\n",
       "\\end{tabular}\n"
      ],
      "text/markdown": [
       "\n",
       "A data.frame: 180 × 2\n",
       "\n",
       "| seq_num_in_enc &lt;int&gt; | n &lt;int&gt; |\n",
       "|---|---|\n",
       "|   1 | 71107 |\n",
       "|   2 | 71107 |\n",
       "|   3 | 71107 |\n",
       "|   4 | 71107 |\n",
       "|   5 | 71107 |\n",
       "|   6 | 70390 |\n",
       "|   7 | 69868 |\n",
       "|   8 | 69512 |\n",
       "|   9 | 68276 |\n",
       "|  10 | 66616 |\n",
       "|  11 | 62282 |\n",
       "|  12 | 57299 |\n",
       "|  13 | 55283 |\n",
       "|  14 | 50760 |\n",
       "|  15 | 44778 |\n",
       "|  16 | 38670 |\n",
       "|  17 | 33543 |\n",
       "|  18 | 29982 |\n",
       "|  19 | 27261 |\n",
       "|  20 | 25194 |\n",
       "|  21 | 22504 |\n",
       "|  22 | 19851 |\n",
       "|  23 | 18029 |\n",
       "|  24 | 16339 |\n",
       "|  25 | 14873 |\n",
       "|  26 | 13743 |\n",
       "|  27 | 12474 |\n",
       "|  28 | 11438 |\n",
       "|  29 | 10872 |\n",
       "|  30 |  9448 |\n",
       "|  31 |  8938 |\n",
       "|  32 |  8651 |\n",
       "|  33 |  7957 |\n",
       "|  34 |  6069 |\n",
       "|  35 |  5723 |\n",
       "|  36 |  5459 |\n",
       "|  37 |  5365 |\n",
       "|  38 |  5016 |\n",
       "|  39 |  4303 |\n",
       "|  40 |  3153 |\n",
       "|  41 |  2966 |\n",
       "|  42 |  2966 |\n",
       "|  43 |  2966 |\n",
       "|  44 |  2486 |\n",
       "|  45 |  2486 |\n",
       "|  46 |  2486 |\n",
       "|  47 |  2486 |\n",
       "|  48 |  2299 |\n",
       "|  49 |  2299 |\n",
       "|  50 |  2299 |\n",
       "|  51 |  2155 |\n",
       "|  52 |  2155 |\n",
       "|  53 |  2155 |\n",
       "|  54 |  1714 |\n",
       "|  55 |  1396 |\n",
       "|  56 |  1396 |\n",
       "|  57 |  1396 |\n",
       "|  58 |  1396 |\n",
       "|  59 |  1396 |\n",
       "|  60 |  1293 |\n",
       "|  61 |  1293 |\n",
       "|  62 |  1293 |\n",
       "|  63 |  1293 |\n",
       "|  64 |  1293 |\n",
       "|  65 |  1293 |\n",
       "|  66 |  1293 |\n",
       "|  67 |  1293 |\n",
       "|  68 |  1293 |\n",
       "|  69 |  1293 |\n",
       "|  70 |  1150 |\n",
       "|  71 |  1150 |\n",
       "|  72 |  1150 |\n",
       "|  73 |  1150 |\n",
       "|  74 |  1150 |\n",
       "|  75 |  1150 |\n",
       "|  76 |  1150 |\n",
       "|  77 |   659 |\n",
       "|  78 |   659 |\n",
       "|  79 |   659 |\n",
       "|  80 |   659 |\n",
       "|  81 |   659 |\n",
       "|  82 |   659 |\n",
       "|  83 |   659 |\n",
       "|  84 |   659 |\n",
       "|  85 |   659 |\n",
       "|  86 |   659 |\n",
       "|  87 |   659 |\n",
       "|  88 |   659 |\n",
       "|  89 |   659 |\n",
       "|  90 |   659 |\n",
       "|  91 |   659 |\n",
       "|  92 |   659 |\n",
       "|  93 |   659 |\n",
       "|  94 |   659 |\n",
       "|  95 |   659 |\n",
       "|  96 |   659 |\n",
       "|  97 |   659 |\n",
       "|  98 |   659 |\n",
       "|  99 |   659 |\n",
       "| 100 |   659 |\n",
       "| 101 |   659 |\n",
       "| 102 |   659 |\n",
       "| 103 |   659 |\n",
       "| 104 |   659 |\n",
       "| 105 |   659 |\n",
       "| 106 |   659 |\n",
       "| 107 |   659 |\n",
       "| 108 |   659 |\n",
       "| 109 |   659 |\n",
       "| 110 |   659 |\n",
       "| 111 |   659 |\n",
       "| 112 |   659 |\n",
       "| 113 |   659 |\n",
       "| 114 |   659 |\n",
       "| 115 |   659 |\n",
       "| 116 |   659 |\n",
       "| 117 |   659 |\n",
       "| 118 |   659 |\n",
       "| 119 |   659 |\n",
       "| 120 |   659 |\n",
       "| 121 |   182 |\n",
       "| 122 |   182 |\n",
       "| 123 |   182 |\n",
       "| 124 |   182 |\n",
       "| 125 |   182 |\n",
       "| 126 |   182 |\n",
       "| 127 |   182 |\n",
       "| 128 |   182 |\n",
       "| 129 |   182 |\n",
       "| 130 |   182 |\n",
       "| 131 |   182 |\n",
       "| 132 |   182 |\n",
       "| 133 |   182 |\n",
       "| 134 |   182 |\n",
       "| 135 |   182 |\n",
       "| 136 |   182 |\n",
       "| 137 |   182 |\n",
       "| 138 |   182 |\n",
       "| 139 |   182 |\n",
       "| 140 |   182 |\n",
       "| 141 |   182 |\n",
       "| 142 |   182 |\n",
       "| 143 |   182 |\n",
       "| 144 |   182 |\n",
       "| 145 |   182 |\n",
       "| 146 |   182 |\n",
       "| 147 |   182 |\n",
       "| 148 |   182 |\n",
       "| 149 |   182 |\n",
       "| 150 |   182 |\n",
       "| 151 |   182 |\n",
       "| 152 |   182 |\n",
       "| 153 |   182 |\n",
       "| 154 |   182 |\n",
       "| 155 |   182 |\n",
       "| 156 |   182 |\n",
       "| 157 |   182 |\n",
       "| 158 |   182 |\n",
       "| 159 |   182 |\n",
       "| 160 |   182 |\n",
       "| 161 |   182 |\n",
       "| 162 |   182 |\n",
       "| 163 |   182 |\n",
       "| 164 |   182 |\n",
       "| 165 |   182 |\n",
       "| 166 |   182 |\n",
       "| 167 |   182 |\n",
       "| 168 |   182 |\n",
       "| 169 |   182 |\n",
       "| 170 |   182 |\n",
       "| 171 |   182 |\n",
       "| 172 |   182 |\n",
       "| 173 |   182 |\n",
       "| 174 |   182 |\n",
       "| 175 |   182 |\n",
       "| 176 |   182 |\n",
       "| 177 |   182 |\n",
       "| 178 |   182 |\n",
       "| 179 |   182 |\n",
       "| 180 |   182 |\n",
       "\n"
      ],
      "text/plain": [
       "    seq_num_in_enc n    \n",
       "1     1            71107\n",
       "2     2            71107\n",
       "3     3            71107\n",
       "4     4            71107\n",
       "5     5            71107\n",
       "6     6            70390\n",
       "7     7            69868\n",
       "8     8            69512\n",
       "9     9            68276\n",
       "10   10            66616\n",
       "11   11            62282\n",
       "12   12            57299\n",
       "13   13            55283\n",
       "14   14            50760\n",
       "15   15            44778\n",
       "16   16            38670\n",
       "17   17            33543\n",
       "18   18            29982\n",
       "19   19            27261\n",
       "20   20            25194\n",
       "21   21            22504\n",
       "22   22            19851\n",
       "23   23            18029\n",
       "24   24            16339\n",
       "25   25            14873\n",
       "26   26            13743\n",
       "27   27            12474\n",
       "28   28            11438\n",
       "29   29            10872\n",
       "30   30             9448\n",
       "31   31             8938\n",
       "32   32             8651\n",
       "33   33             7957\n",
       "34   34             6069\n",
       "35   35             5723\n",
       "36   36             5459\n",
       "37   37             5365\n",
       "38   38             5016\n",
       "39   39             4303\n",
       "40   40             3153\n",
       "41   41             2966\n",
       "42   42             2966\n",
       "43   43             2966\n",
       "44   44             2486\n",
       "45   45             2486\n",
       "46   46             2486\n",
       "47   47             2486\n",
       "48   48             2299\n",
       "49   49             2299\n",
       "50   50             2299\n",
       "51   51             2155\n",
       "52   52             2155\n",
       "53   53             2155\n",
       "54   54             1714\n",
       "55   55             1396\n",
       "56   56             1396\n",
       "57   57             1396\n",
       "58   58             1396\n",
       "59   59             1396\n",
       "60   60             1293\n",
       "61   61             1293\n",
       "62   62             1293\n",
       "63   63             1293\n",
       "64   64             1293\n",
       "65   65             1293\n",
       "66   66             1293\n",
       "67   67             1293\n",
       "68   68             1293\n",
       "69   69             1293\n",
       "70   70             1150\n",
       "71   71             1150\n",
       "72   72             1150\n",
       "73   73             1150\n",
       "74   74             1150\n",
       "75   75             1150\n",
       "76   76             1150\n",
       "77   77              659\n",
       "78   78              659\n",
       "79   79              659\n",
       "80   80              659\n",
       "81   81              659\n",
       "82   82              659\n",
       "83   83              659\n",
       "84   84              659\n",
       "85   85              659\n",
       "86   86              659\n",
       "87   87              659\n",
       "88   88              659\n",
       "89   89              659\n",
       "90   90              659\n",
       "91   91              659\n",
       "92   92              659\n",
       "93   93              659\n",
       "94   94              659\n",
       "95   95              659\n",
       "96   96              659\n",
       "97   97              659\n",
       "98   98              659\n",
       "99   99              659\n",
       "100 100              659\n",
       "101 101              659\n",
       "102 102              659\n",
       "103 103              659\n",
       "104 104              659\n",
       "105 105              659\n",
       "106 106              659\n",
       "107 107              659\n",
       "108 108              659\n",
       "109 109              659\n",
       "110 110              659\n",
       "111 111              659\n",
       "112 112              659\n",
       "113 113              659\n",
       "114 114              659\n",
       "115 115              659\n",
       "116 116              659\n",
       "117 117              659\n",
       "118 118              659\n",
       "119 119              659\n",
       "120 120              659\n",
       "121 121              182\n",
       "122 122              182\n",
       "123 123              182\n",
       "124 124              182\n",
       "125 125              182\n",
       "126 126              182\n",
       "127 127              182\n",
       "128 128              182\n",
       "129 129              182\n",
       "130 130              182\n",
       "131 131              182\n",
       "132 132              182\n",
       "133 133              182\n",
       "134 134              182\n",
       "135 135              182\n",
       "136 136              182\n",
       "137 137              182\n",
       "138 138              182\n",
       "139 139              182\n",
       "140 140              182\n",
       "141 141              182\n",
       "142 142              182\n",
       "143 143              182\n",
       "144 144              182\n",
       "145 145              182\n",
       "146 146              182\n",
       "147 147              182\n",
       "148 148              182\n",
       "149 149              182\n",
       "150 150              182\n",
       "151 151              182\n",
       "152 152              182\n",
       "153 153              182\n",
       "154 154              182\n",
       "155 155              182\n",
       "156 156              182\n",
       "157 157              182\n",
       "158 158              182\n",
       "159 159              182\n",
       "160 160              182\n",
       "161 161              182\n",
       "162 162              182\n",
       "163 163              182\n",
       "164 164              182\n",
       "165 165              182\n",
       "166 166              182\n",
       "167 167              182\n",
       "168 168              182\n",
       "169 169              182\n",
       "170 170              182\n",
       "171 171              182\n",
       "172 172              182\n",
       "173 173              182\n",
       "174 174              182\n",
       "175 175              182\n",
       "176 176              182\n",
       "177 177              182\n",
       "178 178              182\n",
       "179 179              182\n",
       "180 180              182"
      ]
     },
     "metadata": {},
     "output_type": "display_data"
    },
    {
     "data": {
      "text/html": [
       "<table class=\"dataframe\">\n",
       "<caption>A data.frame: 3 × 2</caption>\n",
       "<thead>\n",
       "\t<tr><th scope=col>seq_num_in_bed_min</th><th scope=col>n</th></tr>\n",
       "\t<tr><th scope=col>&lt;int&gt;</th><th scope=col>&lt;int&gt;</th></tr>\n",
       "</thead>\n",
       "<tbody>\n",
       "\t<tr><td>1</td><td>1421316</td></tr>\n",
       "\t<tr><td>2</td><td>  15538</td></tr>\n",
       "\t<tr><td>3</td><td>    394</td></tr>\n",
       "</tbody>\n",
       "</table>\n"
      ],
      "text/latex": [
       "A data.frame: 3 × 2\n",
       "\\begin{tabular}{ll}\n",
       " seq\\_num\\_in\\_bed\\_min & n\\\\\n",
       " <int> & <int>\\\\\n",
       "\\hline\n",
       "\t 1 & 1421316\\\\\n",
       "\t 2 &   15538\\\\\n",
       "\t 3 &     394\\\\\n",
       "\\end{tabular}\n"
      ],
      "text/markdown": [
       "\n",
       "A data.frame: 3 × 2\n",
       "\n",
       "| seq_num_in_bed_min &lt;int&gt; | n &lt;int&gt; |\n",
       "|---|---|\n",
       "| 1 | 1421316 |\n",
       "| 2 |   15538 |\n",
       "| 3 |     394 |\n",
       "\n"
      ],
      "text/plain": [
       "  seq_num_in_bed_min n      \n",
       "1 1                  1421316\n",
       "2 2                    15538\n",
       "3 3                      394"
      ]
     },
     "metadata": {},
     "output_type": "display_data"
    }
   ],
   "source": [
    "cohort %>% distinct(pat_enc_csn_id_coded, first_label, death_24hr_recent_label) %>% count(first_label, death_24hr_recent_label, sort=T)\n",
    "adt %>% count(event_type, event_type_c, sort=TRUE)\n",
    "adt %>% count(pat_class, pat_class_c, sort=TRUE)\n",
    "adt %>% count(base_pat_class, base_pat_class_c, sort=TRUE)\n",
    "adt %>% count(pat_service, pat_service_c, sort=TRUE)\n",
    "adt %>% count(pat_lv_of_care, pat_lvl_of_care_c, sort=TRUE)\n",
    "adt %>% count(accomodation, accommodation_c, sort=TRUE)\n",
    "adt %>% count(in_event_type, in_event_type_c, sort=TRUE)\n",
    "adt %>% count(out_event_type, out_event_type_c, sort=TRUE)\n",
    "adt %>% count(from_base_class, from_base_class_c, sort=TRUE)\n",
    "adt %>% count(to_base_class, to_base_class_c, sort=TRUE)\n",
    "adt %>% count(seq_num_in_enc, sort=TRUE)\n",
    "adt %>% count(seq_num_in_bed_min, sort=TRUE)"
   ]
  },
  {
   "cell_type": "code",
   "execution_count": null,
   "metadata": {},
   "outputs": [],
   "source": []
  }
 ],
 "metadata": {
  "environment": {
   "name": "r-cpu.4-0.m71",
   "type": "gcloud",
   "uri": "gcr.io/deeplearning-platform-release/r-cpu.4-0:m71"
  },
  "kernelspec": {
   "display_name": "R",
   "language": "R",
   "name": "ir"
  },
  "language_info": {
   "codemirror_mode": "r",
   "file_extension": ".r",
   "mimetype": "text/x-r-source",
   "name": "R",
   "pygments_lexer": "r",
   "version": "4.0.3"
  },
  "toc": {
   "base_numbering": 1,
   "nav_menu": {},
   "number_sections": true,
   "sideBar": true,
   "skip_h1_title": false,
   "title_cell": "Table of Contents",
   "title_sidebar": "Contents",
   "toc_cell": false,
   "toc_position": {},
   "toc_section_display": true,
   "toc_window_display": false
  },
  "varInspector": {
   "cols": {
    "lenName": 16,
    "lenType": 16,
    "lenVar": 40
   },
   "kernels_config": {
    "python": {
     "delete_cmd_postfix": "",
     "delete_cmd_prefix": "del ",
     "library": "var_list.py",
     "varRefreshCmd": "print(var_dic_list())"
    },
    "r": {
     "delete_cmd_postfix": ") ",
     "delete_cmd_prefix": "rm(",
     "library": "var_list.r",
     "varRefreshCmd": "cat(var_dic_list()) "
    }
   },
   "types_to_exclude": [
    "module",
    "function",
    "builtin_function_or_method",
    "instance",
    "_Feature"
   ],
   "window_display": false
  }
 },
 "nbformat": 4,
 "nbformat_minor": 4
}
