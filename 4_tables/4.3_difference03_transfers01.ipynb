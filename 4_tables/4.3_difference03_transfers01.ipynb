{
 "cells": [
  {
   "cell_type": "markdown",
   "metadata": {},
   "source": [
    "## Descriptions:\n",
    "- Check the characteristics of the cohort with predicted probability difference = 0.3) and transfer from 0 to 1\n",
    "\n",
    "**Inputs**:  \n",
    "- `1_4_cohort_test_results`\n",
    "- `1_4_cohort_all_current_dx`\n",
    "    \n",
    "**Outputs**: (did not save anything here)\n",
    "- `4_3_diff23tx01IDs` cohort test of abs_diff from 0.2 to 0.3 and transferred from 0 to 1 --> to re-id"
   ]
  },
  {
   "cell_type": "raw",
   "metadata": {},
   "source": [
    "install.packages('bigrquery')\n",
    "# Installing package into 'C:/Users/User/Documents/R/win-library/4.0'\n",
    "# (as 'lib' is unspecified)\n",
    "# The downloaded binary packages are in\n",
    "# \tC:\\Users\\User\\AppData\\Local\\Temp\\RtmpaumGcc\\downloaded_packages"
   ]
  },
  {
   "cell_type": "markdown",
   "metadata": {},
   "source": [
    "### Importing R libraries"
   ]
  },
  {
   "cell_type": "code",
   "execution_count": 1,
   "metadata": {
    "ExecuteTime": {
     "end_time": "2020-05-21T00:38:06.078240Z",
     "start_time": "2020-05-21T00:38:02.778Z"
    }
   },
   "outputs": [
    {
     "name": "stderr",
     "output_type": "stream",
     "text": [
      "── \u001b[1mAttaching packages\u001b[22m ─────────────────────────────────────── tidyverse 1.3.1 ──\n",
      "\n",
      "\u001b[32m✔\u001b[39m \u001b[34mggplot2\u001b[39m 3.3.5     \u001b[32m✔\u001b[39m \u001b[34mpurrr  \u001b[39m 0.3.4\n",
      "\u001b[32m✔\u001b[39m \u001b[34mtibble \u001b[39m 3.1.6     \u001b[32m✔\u001b[39m \u001b[34mdplyr  \u001b[39m 1.0.7\n",
      "\u001b[32m✔\u001b[39m \u001b[34mtidyr  \u001b[39m 1.1.4     \u001b[32m✔\u001b[39m \u001b[34mstringr\u001b[39m 1.4.0\n",
      "\u001b[32m✔\u001b[39m \u001b[34mreadr  \u001b[39m 2.1.0     \u001b[32m✔\u001b[39m \u001b[34mforcats\u001b[39m 0.5.1\n",
      "\n",
      "── \u001b[1mConflicts\u001b[22m ────────────────────────────────────────── tidyverse_conflicts() ──\n",
      "\u001b[31m✖\u001b[39m \u001b[34mdplyr\u001b[39m::\u001b[32mfilter()\u001b[39m masks \u001b[34mstats\u001b[39m::filter()\n",
      "\u001b[31m✖\u001b[39m \u001b[34mdplyr\u001b[39m::\u001b[32mlag()\u001b[39m    masks \u001b[34mstats\u001b[39m::lag()\n",
      "\n",
      "\n",
      "Attaching package: ‘lubridate’\n",
      "\n",
      "\n",
      "The following objects are masked from ‘package:base’:\n",
      "\n",
      "    date, intersect, setdiff, union\n",
      "\n",
      "\n"
     ]
    }
   ],
   "source": [
    "library(bigrquery)  # to query STARR-OMOP (stored in BigQuery) using SQL\n",
    "library(tidyverse)\n",
    "library(lubridate)\n",
    "\n",
    "# options(repr.matrix.max.rows=250, repr.matrix.max.cols=30)"
   ]
  },
  {
   "cell_type": "code",
   "execution_count": 2,
   "metadata": {},
   "outputs": [],
   "source": [
    "# directories\n",
    "datadir = \"../../DataTD\"\n",
    "cohortdir = \"../../OutputTD/1_cohort\"\n",
    "featuredir = \"../../OutputTD/2_features\"\n",
    "modeldir4 = \"../../OutputTD/3_models/1_4_cohort\"\n",
    "# modeldir4preadmit = \"../../OutputTD/3_models/1_4_cohort_24hrpreadmit\"\n",
    "tabledir = \"../../OutputTD/4_tables\"\n",
    "\n",
    "options(repr.matrix.max.rows=200, repr.matrix.max.cols=30)"
   ]
  },
  {
   "cell_type": "code",
   "execution_count": 3,
   "metadata": {},
   "outputs": [
    {
     "data": {
      "text/html": [
       "12418"
      ],
      "text/latex": [
       "12418"
      ],
      "text/markdown": [
       "12418"
      ],
      "text/plain": [
       "[1] 12418"
      ]
     },
     "metadata": {},
     "output_type": "display_data"
    },
    {
     "data": {
      "text/html": [
       "12418"
      ],
      "text/latex": [
       "12418"
      ],
      "text/markdown": [
       "12418"
      ],
      "text/plain": [
       "[1] 12418"
      ]
     },
     "metadata": {},
     "output_type": "display_data"
    },
    {
     "data": {
      "text/html": [
       "9780"
      ],
      "text/latex": [
       "9780"
      ],
      "text/markdown": [
       "9780"
      ],
      "text/plain": [
       "[1] 9780"
      ]
     },
     "metadata": {},
     "output_type": "display_data"
    },
    {
     "data": {
      "text/html": [
       "12418"
      ],
      "text/latex": [
       "12418"
      ],
      "text/markdown": [
       "12418"
      ],
      "text/plain": [
       "[1] 12418"
      ]
     },
     "metadata": {},
     "output_type": "display_data"
    },
    {
     "data": {
      "text/html": [
       "<table class=\"dataframe\">\n",
       "<caption>A tibble: 8 × 6</caption>\n",
       "<thead>\n",
       "\t<tr><th scope=col>abs_diff0_24</th><th scope=col>nrows</th><th scope=col>count_csn</th><th scope=col>count_mrn</th><th scope=col>cum_csn</th><th scope=col>cum_mrn</th></tr>\n",
       "\t<tr><th scope=col>&lt;dbl&gt;</th><th scope=col>&lt;int&gt;</th><th scope=col>&lt;int&gt;</th><th scope=col>&lt;int&gt;</th><th scope=col>&lt;int&gt;</th><th scope=col>&lt;int&gt;</th></tr>\n",
       "</thead>\n",
       "<tbody>\n",
       "\t<tr><td>0.7</td><td>   3</td><td>   3</td><td>   3</td><td>    3</td><td>    3</td></tr>\n",
       "\t<tr><td>0.6</td><td>   7</td><td>   7</td><td>   7</td><td>   10</td><td>   10</td></tr>\n",
       "\t<tr><td>0.5</td><td>  27</td><td>  27</td><td>  24</td><td>   37</td><td>   34</td></tr>\n",
       "\t<tr><td>0.4</td><td>  80</td><td>  80</td><td>  77</td><td>  117</td><td>  111</td></tr>\n",
       "\t<tr><td>0.3</td><td> 206</td><td> 206</td><td> 204</td><td>  323</td><td>  315</td></tr>\n",
       "\t<tr><td>0.2</td><td> 545</td><td> 545</td><td> 525</td><td>  868</td><td>  840</td></tr>\n",
       "\t<tr><td>0.1</td><td>1736</td><td>1736</td><td>1620</td><td> 2604</td><td> 2460</td></tr>\n",
       "\t<tr><td>0.0</td><td>9814</td><td>9814</td><td>7979</td><td>12418</td><td>10439</td></tr>\n",
       "</tbody>\n",
       "</table>\n"
      ],
      "text/latex": [
       "A tibble: 8 × 6\n",
       "\\begin{tabular}{llllll}\n",
       " abs\\_diff0\\_24 & nrows & count\\_csn & count\\_mrn & cum\\_csn & cum\\_mrn\\\\\n",
       " <dbl> & <int> & <int> & <int> & <int> & <int>\\\\\n",
       "\\hline\n",
       "\t 0.7 &    3 &    3 &    3 &     3 &     3\\\\\n",
       "\t 0.6 &    7 &    7 &    7 &    10 &    10\\\\\n",
       "\t 0.5 &   27 &   27 &   24 &    37 &    34\\\\\n",
       "\t 0.4 &   80 &   80 &   77 &   117 &   111\\\\\n",
       "\t 0.3 &  206 &  206 &  204 &   323 &   315\\\\\n",
       "\t 0.2 &  545 &  545 &  525 &   868 &   840\\\\\n",
       "\t 0.1 & 1736 & 1736 & 1620 &  2604 &  2460\\\\\n",
       "\t 0.0 & 9814 & 9814 & 7979 & 12418 & 10439\\\\\n",
       "\\end{tabular}\n"
      ],
      "text/markdown": [
       "\n",
       "A tibble: 8 × 6\n",
       "\n",
       "| abs_diff0_24 &lt;dbl&gt; | nrows &lt;int&gt; | count_csn &lt;int&gt; | count_mrn &lt;int&gt; | cum_csn &lt;int&gt; | cum_mrn &lt;int&gt; |\n",
       "|---|---|---|---|---|---|\n",
       "| 0.7 |    3 |    3 |    3 |     3 |     3 |\n",
       "| 0.6 |    7 |    7 |    7 |    10 |    10 |\n",
       "| 0.5 |   27 |   27 |   24 |    37 |    34 |\n",
       "| 0.4 |   80 |   80 |   77 |   117 |   111 |\n",
       "| 0.3 |  206 |  206 |  204 |   323 |   315 |\n",
       "| 0.2 |  545 |  545 |  525 |   868 |   840 |\n",
       "| 0.1 | 1736 | 1736 | 1620 |  2604 |  2460 |\n",
       "| 0.0 | 9814 | 9814 | 7979 | 12418 | 10439 |\n",
       "\n"
      ],
      "text/plain": [
       "  abs_diff0_24 nrows count_csn count_mrn cum_csn cum_mrn\n",
       "1 0.7             3     3         3          3       3  \n",
       "2 0.6             7     7         7         10      10  \n",
       "3 0.5            27    27        24         37      34  \n",
       "4 0.4            80    80        77        117     111  \n",
       "5 0.3           206   206       204        323     315  \n",
       "6 0.2           545   545       525        868     840  \n",
       "7 0.1          1736  1736      1620       2604    2460  \n",
       "8 0.0          9814  9814      7979      12418   10439  "
      ]
     },
     "metadata": {},
     "output_type": "display_data"
    }
   ],
   "source": [
    "cohort <- read.csv(file.path(modeldir4, \"1_4_cohort_test_results.csv\")) %>% distinct() %>% \n",
    "            select(anon_id, pat_enc_csn_id_coded, admit_time, \n",
    "                   first_label, death_24hr_recent_label, death_24hr_max_label,\n",
    "                   pred_first, pred_death_24hr_recent, transfer, \n",
    "                   abs_diff0_24, diff0_True, diff24_True) \n",
    "nrow(cohort) # 2604\n",
    "nrow(cohort %>% distinct())\n",
    "nrow(cohort %>% select(anon_id) %>% distinct()) # 2328\n",
    "nrow(cohort %>% select(pat_enc_csn_id_coded) %>% distinct()) # 2604\n",
    "\n",
    "# count anon_id and csn, count unique in each group, but possible to have same ids in different groups\n",
    "cohort %>%  distinct() %>% group_by(abs_diff0_24) %>% \n",
    "            summarise(nrows = n(), count_csn = n_distinct(pat_enc_csn_id_coded), count_mrn = n_distinct(anon_id)) %>% \n",
    "            arrange(-abs_diff0_24) %>% mutate(cum_csn = cumsum(count_csn), cum_mrn = cumsum(count_mrn))"
   ]
  },
  {
   "cell_type": "code",
   "execution_count": 7,
   "metadata": {},
   "outputs": [
    {
     "data": {
      "text/html": [
       "805"
      ],
      "text/latex": [
       "805"
      ],
      "text/markdown": [
       "805"
      ],
      "text/plain": [
       "[1] 805"
      ]
     },
     "metadata": {},
     "output_type": "display_data"
    },
    {
     "data": {
      "text/html": [
       "175"
      ],
      "text/latex": [
       "175"
      ],
      "text/markdown": [
       "175"
      ],
      "text/plain": [
       "[1] 175"
      ]
     },
     "metadata": {},
     "output_type": "display_data"
    },
    {
     "data": {
      "text/html": [
       "139"
      ],
      "text/latex": [
       "139"
      ],
      "text/markdown": [
       "139"
      ],
      "text/plain": [
       "[1] 139"
      ]
     },
     "metadata": {},
     "output_type": "display_data"
    },
    {
     "data": {
      "text/html": [
       "36"
      ],
      "text/latex": [
       "36"
      ],
      "text/markdown": [
       "36"
      ],
      "text/plain": [
       "[1] 36"
      ]
     },
     "metadata": {},
     "output_type": "display_data"
    },
    {
     "data": {
      "text/html": [
       "35"
      ],
      "text/latex": [
       "35"
      ],
      "text/markdown": [
       "35"
      ],
      "text/plain": [
       "[1] 35"
      ]
     },
     "metadata": {},
     "output_type": "display_data"
    }
   ],
   "source": [
    "# get cohort with abs_diff from 0.2 to 0.3 and with transfer\n",
    "sum(cohort$transfer)\n",
    "\n",
    "nrow(cohort %>% filter(abs_diff0_24 >=0.2, abs_diff0_24 <=0.3, transfer==1) %>% distinct(pat_enc_csn_id_coded))\n",
    "\n",
    "\n",
    "nrow(cohort %>% filter(abs_diff0_24 >=0.2, abs_diff0_24 <=0.3, first_label == 1, death_24hr_recent_label ==0) %>% \n",
    "                distinct(pat_enc_csn_id_coded)) # 139\n",
    "\n",
    "nrow(cohort %>% filter(abs_diff0_24 >=0.2, abs_diff0_24 <=0.3, first_label == 0, death_24hr_recent_label ==1) %>% \n",
    "                distinct(pat_enc_csn_id_coded)) #36\n",
    "\n",
    "diff23tx01 <- cohort %>% filter(abs_diff0_24 >=0.2, abs_diff0_24 <=0.3, first_label == 0, death_24hr_recent_label ==1) %>% \n",
    "                distinct(anon_id) # 89 csn for absdiff from 0.1 to 0.3 and 36 csn for 0.2 to 0.3\n",
    "\n",
    "nrow(diff23tx01)\n",
    "# write.csv(diff23tx01, file.path(tabledir, \"4_3_diff23tx01IDs_35.csv\"), row.names=FALSE)"
   ]
  },
  {
   "cell_type": "markdown",
   "metadata": {},
   "source": [
    "### Checking diagnosis to compare with total cohort"
   ]
  },
  {
   "cell_type": "code",
   "execution_count": 5,
   "metadata": {},
   "outputs": [
    {
     "data": {
      "text/html": [
       "1239918"
      ],
      "text/latex": [
       "1239918"
      ],
      "text/markdown": [
       "1239918"
      ],
      "text/plain": [
       "[1] 1239918"
      ]
     },
     "metadata": {},
     "output_type": "display_data"
    },
    {
     "data": {
      "text/html": [
       "43932"
      ],
      "text/latex": [
       "43932"
      ],
      "text/markdown": [
       "43932"
      ],
      "text/plain": [
       "[1] 43932"
      ]
     },
     "metadata": {},
     "output_type": "display_data"
    }
   ],
   "source": [
    "# all dx from 1_4_cohort, SQL query\n",
    "dx <- read.csv(file.path(datadir, \"1_4_cohort_all_current_dx.csv\"))\n",
    "nrow(dx) #1239918\n",
    "\n",
    "ndx = length(unique(dx$pat_enc_csn_id_coded)) # full cohort is 43980\n",
    "ndx"
   ]
  },
  {
   "cell_type": "code",
   "execution_count": 6,
   "metadata": {},
   "outputs": [
    {
     "name": "stderr",
     "output_type": "stream",
     "text": [
      "Joining, by = \"anon_id\"\n",
      "\n"
     ]
    },
    {
     "data": {
      "text/html": [
       "3088"
      ],
      "text/latex": [
       "3088"
      ],
      "text/markdown": [
       "3088"
      ],
      "text/plain": [
       "[1] 3088"
      ]
     },
     "metadata": {},
     "output_type": "display_data"
    },
    {
     "data": {
      "text/html": [
       "89"
      ],
      "text/latex": [
       "89"
      ],
      "text/markdown": [
       "89"
      ],
      "text/plain": [
       "[1] 89"
      ]
     },
     "metadata": {},
     "output_type": "display_data"
    },
    {
     "data": {
      "text/html": [
       "35"
      ],
      "text/latex": [
       "35"
      ],
      "text/markdown": [
       "35"
      ],
      "text/plain": [
       "[1] 35"
      ]
     },
     "metadata": {},
     "output_type": "display_data"
    },
    {
     "data": {
      "text/html": [
       "<table class=\"dataframe\">\n",
       "<caption>A data.frame: 20 × 2</caption>\n",
       "<thead>\n",
       "\t<tr><th></th><th scope=col>dx_name</th><th scope=col>n</th></tr>\n",
       "\t<tr><th></th><th scope=col>&lt;chr&gt;</th><th scope=col>&lt;int&gt;</th></tr>\n",
       "</thead>\n",
       "<tbody>\n",
       "\t<tr><th scope=row>1</th><td>Other long term (current) drug therapy                                                                                                                    </td><td>37</td></tr>\n",
       "\t<tr><th scope=row>2</th><td>Type 2 diabetes mellitus with diabetic chronic kidney disease                                                                                             </td><td>28</td></tr>\n",
       "\t<tr><th scope=row>3</th><td>Acute kidney failure, unspecified                                                                                                                         </td><td>26</td></tr>\n",
       "\t<tr><th scope=row>4</th><td>Hyperlipidemia, unspecified                                                                                                                               </td><td>25</td></tr>\n",
       "\t<tr><th scope=row>5</th><td>Acidosis                                                                                                                                                  </td><td>24</td></tr>\n",
       "\t<tr><th scope=row>6</th><td>Personal history of nicotine dependence                                                                                                                   </td><td>24</td></tr>\n",
       "\t<tr><th scope=row>7</th><td>Long term (current) use of insulin                                                                                                                        </td><td>23</td></tr>\n",
       "\t<tr><th scope=row>8</th><td>Weakness                                                                                                                                                  </td><td>22</td></tr>\n",
       "\t<tr><th scope=row>9</th><td>Atherosclerotic heart disease of native coronary artery without angina pectoris                                                                           </td><td>21</td></tr>\n",
       "\t<tr><th scope=row>10</th><td>Hypertensive heart and chronic kidney disease with heart failure and stage 1 through stage 4 chronic kidney disease, or unspecified chronic kidney disease</td><td>21</td></tr>\n",
       "\t<tr><th scope=row>11</th><td>Hypo-osmolality and hyponatremia                                                                                                                          </td><td>20</td></tr>\n",
       "\t<tr><th scope=row>12</th><td>Long term (current) use of aspirin                                                                                                                        </td><td>20</td></tr>\n",
       "\t<tr><th scope=row>13</th><td>Acute posthemorrhagic anemia                                                                                                                              </td><td>19</td></tr>\n",
       "\t<tr><th scope=row>14</th><td>Type 2 diabetes mellitus with hyperglycemia                                                                                                               </td><td>19</td></tr>\n",
       "\t<tr><th scope=row>15</th><td>Major depressive disorder, single episode, unspecified                                                                                                    </td><td>18</td></tr>\n",
       "\t<tr><th scope=row>16</th><td>Sepsis, unspecified organism                                                                                                                              </td><td>18</td></tr>\n",
       "\t<tr><th scope=row>17</th><td>Pneumonitis due to inhalation of food and vomit                                                                                                           </td><td>15</td></tr>\n",
       "\t<tr><th scope=row>18</th><td>Unspecified severe protein-calorie malnutrition                                                                                                           </td><td>15</td></tr>\n",
       "\t<tr><th scope=row>19</th><td>Constipation, unspecified                                                                                                                                 </td><td>14</td></tr>\n",
       "\t<tr><th scope=row>20</th><td>Long term (current) use of anticoagulants                                                                                                                 </td><td>14</td></tr>\n",
       "</tbody>\n",
       "</table>\n"
      ],
      "text/latex": [
       "A data.frame: 20 × 2\n",
       "\\begin{tabular}{r|ll}\n",
       "  & dx\\_name & n\\\\\n",
       "  & <chr> & <int>\\\\\n",
       "\\hline\n",
       "\t1 & Other long term (current) drug therapy                                                                                                                     & 37\\\\\n",
       "\t2 & Type 2 diabetes mellitus with diabetic chronic kidney disease                                                                                              & 28\\\\\n",
       "\t3 & Acute kidney failure, unspecified                                                                                                                          & 26\\\\\n",
       "\t4 & Hyperlipidemia, unspecified                                                                                                                                & 25\\\\\n",
       "\t5 & Acidosis                                                                                                                                                   & 24\\\\\n",
       "\t6 & Personal history of nicotine dependence                                                                                                                    & 24\\\\\n",
       "\t7 & Long term (current) use of insulin                                                                                                                         & 23\\\\\n",
       "\t8 & Weakness                                                                                                                                                   & 22\\\\\n",
       "\t9 & Atherosclerotic heart disease of native coronary artery without angina pectoris                                                                            & 21\\\\\n",
       "\t10 & Hypertensive heart and chronic kidney disease with heart failure and stage 1 through stage 4 chronic kidney disease, or unspecified chronic kidney disease & 21\\\\\n",
       "\t11 & Hypo-osmolality and hyponatremia                                                                                                                           & 20\\\\\n",
       "\t12 & Long term (current) use of aspirin                                                                                                                         & 20\\\\\n",
       "\t13 & Acute posthemorrhagic anemia                                                                                                                               & 19\\\\\n",
       "\t14 & Type 2 diabetes mellitus with hyperglycemia                                                                                                                & 19\\\\\n",
       "\t15 & Major depressive disorder, single episode, unspecified                                                                                                     & 18\\\\\n",
       "\t16 & Sepsis, unspecified organism                                                                                                                               & 18\\\\\n",
       "\t17 & Pneumonitis due to inhalation of food and vomit                                                                                                            & 15\\\\\n",
       "\t18 & Unspecified severe protein-calorie malnutrition                                                                                                            & 15\\\\\n",
       "\t19 & Constipation, unspecified                                                                                                                                  & 14\\\\\n",
       "\t20 & Long term (current) use of anticoagulants                                                                                                                  & 14\\\\\n",
       "\\end{tabular}\n"
      ],
      "text/markdown": [
       "\n",
       "A data.frame: 20 × 2\n",
       "\n",
       "| <!--/--> | dx_name &lt;chr&gt; | n &lt;int&gt; |\n",
       "|---|---|---|\n",
       "| 1 | Other long term (current) drug therapy                                                                                                                     | 37 |\n",
       "| 2 | Type 2 diabetes mellitus with diabetic chronic kidney disease                                                                                              | 28 |\n",
       "| 3 | Acute kidney failure, unspecified                                                                                                                          | 26 |\n",
       "| 4 | Hyperlipidemia, unspecified                                                                                                                                | 25 |\n",
       "| 5 | Acidosis                                                                                                                                                   | 24 |\n",
       "| 6 | Personal history of nicotine dependence                                                                                                                    | 24 |\n",
       "| 7 | Long term (current) use of insulin                                                                                                                         | 23 |\n",
       "| 8 | Weakness                                                                                                                                                   | 22 |\n",
       "| 9 | Atherosclerotic heart disease of native coronary artery without angina pectoris                                                                            | 21 |\n",
       "| 10 | Hypertensive heart and chronic kidney disease with heart failure and stage 1 through stage 4 chronic kidney disease, or unspecified chronic kidney disease | 21 |\n",
       "| 11 | Hypo-osmolality and hyponatremia                                                                                                                           | 20 |\n",
       "| 12 | Long term (current) use of aspirin                                                                                                                         | 20 |\n",
       "| 13 | Acute posthemorrhagic anemia                                                                                                                               | 19 |\n",
       "| 14 | Type 2 diabetes mellitus with hyperglycemia                                                                                                                | 19 |\n",
       "| 15 | Major depressive disorder, single episode, unspecified                                                                                                     | 18 |\n",
       "| 16 | Sepsis, unspecified organism                                                                                                                               | 18 |\n",
       "| 17 | Pneumonitis due to inhalation of food and vomit                                                                                                            | 15 |\n",
       "| 18 | Unspecified severe protein-calorie malnutrition                                                                                                            | 15 |\n",
       "| 19 | Constipation, unspecified                                                                                                                                  | 14 |\n",
       "| 20 | Long term (current) use of anticoagulants                                                                                                                  | 14 |\n",
       "\n"
      ],
      "text/plain": [
       "   dx_name                                                                                                                                                   \n",
       "1  Other long term (current) drug therapy                                                                                                                    \n",
       "2  Type 2 diabetes mellitus with diabetic chronic kidney disease                                                                                             \n",
       "3  Acute kidney failure, unspecified                                                                                                                         \n",
       "4  Hyperlipidemia, unspecified                                                                                                                               \n",
       "5  Acidosis                                                                                                                                                  \n",
       "6  Personal history of nicotine dependence                                                                                                                   \n",
       "7  Long term (current) use of insulin                                                                                                                        \n",
       "8  Weakness                                                                                                                                                  \n",
       "9  Atherosclerotic heart disease of native coronary artery without angina pectoris                                                                           \n",
       "10 Hypertensive heart and chronic kidney disease with heart failure and stage 1 through stage 4 chronic kidney disease, or unspecified chronic kidney disease\n",
       "11 Hypo-osmolality and hyponatremia                                                                                                                          \n",
       "12 Long term (current) use of aspirin                                                                                                                        \n",
       "13 Acute posthemorrhagic anemia                                                                                                                              \n",
       "14 Type 2 diabetes mellitus with hyperglycemia                                                                                                               \n",
       "15 Major depressive disorder, single episode, unspecified                                                                                                    \n",
       "16 Sepsis, unspecified organism                                                                                                                              \n",
       "17 Pneumonitis due to inhalation of food and vomit                                                                                                           \n",
       "18 Unspecified severe protein-calorie malnutrition                                                                                                           \n",
       "19 Constipation, unspecified                                                                                                                                 \n",
       "20 Long term (current) use of anticoagulants                                                                                                                 \n",
       "   n \n",
       "1  37\n",
       "2  28\n",
       "3  26\n",
       "4  25\n",
       "5  24\n",
       "6  24\n",
       "7  23\n",
       "8  22\n",
       "9  21\n",
       "10 21\n",
       "11 20\n",
       "12 20\n",
       "13 19\n",
       "14 19\n",
       "15 18\n",
       "16 18\n",
       "17 15\n",
       "18 15\n",
       "19 14\n",
       "20 14"
      ]
     },
     "metadata": {},
     "output_type": "display_data"
    }
   ],
   "source": [
    "# cohort transfers with diagnoses\n",
    "dx_diff <- left_join(diff23tx01, dx)\n",
    "nrow(dx_diff)\n",
    "ndf = length(unique(dx_diff$pat_enc_csn_id_coded))\n",
    "ndf\n",
    "length(unique(dx_diff$anon_id))\n",
    "\n",
    "dx_diff %>% distinct(pat_enc_csn_id_coded, dx_name) %>% count(dx_name, sort=TRUE) %>% head(20)"
   ]
  },
  {
   "cell_type": "code",
   "execution_count": 41,
   "metadata": {},
   "outputs": [
    {
     "data": {
      "text/html": [
       "2987"
      ],
      "text/latex": [
       "2987"
      ],
      "text/markdown": [
       "2987"
      ],
      "text/plain": [
       "[1] 2987"
      ]
     },
     "metadata": {},
     "output_type": "display_data"
    },
    {
     "data": {
      "text/html": [
       "0"
      ],
      "text/latex": [
       "0"
      ],
      "text/markdown": [
       "0"
      ],
      "text/plain": [
       "[1] 0"
      ]
     },
     "metadata": {},
     "output_type": "display_data"
    },
    {
     "data": {
      "text/html": [
       "43843"
      ],
      "text/latex": [
       "43843"
      ],
      "text/markdown": [
       "43843"
      ],
      "text/plain": [
       "[1] 43843"
      ]
     },
     "metadata": {},
     "output_type": "display_data"
    },
    {
     "data": {
      "text/html": [
       "<style>\n",
       ".list-inline {list-style: none; margin:0; padding: 0}\n",
       ".list-inline>li {display: inline-block}\n",
       ".list-inline>li:not(:last-child)::after {content: \"\\00b7\"; padding: 0 .5ex}\n",
       "</style>\n",
       "<ol class=list-inline><li>'anon_id'</li><li>'pat_enc_csn_id_coded'</li><li>'line'</li><li>'dx_name'</li><li>'primary'</li><li>'chronic'</li><li>'principal'</li><li>'hospital_pl'</li><li>'ed'</li><li>'present_on_adm'</li></ol>\n"
      ],
      "text/latex": [
       "\\begin{enumerate*}\n",
       "\\item 'anon\\_id'\n",
       "\\item 'pat\\_enc\\_csn\\_id\\_coded'\n",
       "\\item 'line'\n",
       "\\item 'dx\\_name'\n",
       "\\item 'primary'\n",
       "\\item 'chronic'\n",
       "\\item 'principal'\n",
       "\\item 'hospital\\_pl'\n",
       "\\item 'ed'\n",
       "\\item 'present\\_on\\_adm'\n",
       "\\end{enumerate*}\n"
      ],
      "text/markdown": [
       "1. 'anon_id'\n",
       "2. 'pat_enc_csn_id_coded'\n",
       "3. 'line'\n",
       "4. 'dx_name'\n",
       "5. 'primary'\n",
       "6. 'chronic'\n",
       "7. 'principal'\n",
       "8. 'hospital_pl'\n",
       "9. 'ed'\n",
       "10. 'present_on_adm'\n",
       "\n",
       "\n"
      ],
      "text/plain": [
       " [1] \"anon_id\"              \"pat_enc_csn_id_coded\" \"line\"                \n",
       " [4] \"dx_name\"              \"primary\"              \"chronic\"             \n",
       " [7] \"principal\"            \"hospital_pl\"          \"ed\"                  \n",
       "[10] \"present_on_adm\"      "
      ]
     },
     "metadata": {},
     "output_type": "display_data"
    }
   ],
   "source": [
    "# only 117 of obs above 0.4\n",
    "# all visits in diff4 have diagnoses\n",
    "\n",
    "ndfn = nrow(dx_diff %>% distinct(pat_enc_csn_id_coded, dx_name))\n",
    "ndfn\n",
    "\n",
    "length(setdiff(dx_diff$pat_enc_csn_id_coded, dx$pat_enc_csn_id_coded))\n",
    "length(setdiff(dx$pat_enc_csn_id_coded, dx_diff$pat_enc_csn_id_coded))\n",
    "\n",
    "colnames(dx_diff)"
   ]
  },
  {
   "cell_type": "code",
   "execution_count": 8,
   "metadata": {},
   "outputs": [
    {
     "data": {
      "text/plain": [
       "   Min. 1st Qu.  Median    Mean 3rd Qu.    Max.    NA's \n",
       "    1.0     4.0    10.0    13.1    20.0    70.0      67 "
      ]
     },
     "metadata": {},
     "output_type": "display_data"
    },
    {
     "data": {
      "text/html": [
       "<table class=\"dataframe\">\n",
       "<caption>A data.frame: 3 × 2</caption>\n",
       "<thead>\n",
       "\t<tr><th scope=col>primary</th><th scope=col>n</th></tr>\n",
       "\t<tr><th scope=col>&lt;chr&gt;</th><th scope=col>&lt;int&gt;</th></tr>\n",
       "</thead>\n",
       "<tbody>\n",
       "\t<tr><td> </td><td>2472</td></tr>\n",
       "\t<tr><td>N</td><td> 514</td></tr>\n",
       "\t<tr><td>Y</td><td> 102</td></tr>\n",
       "</tbody>\n",
       "</table>\n"
      ],
      "text/latex": [
       "A data.frame: 3 × 2\n",
       "\\begin{tabular}{ll}\n",
       " primary & n\\\\\n",
       " <chr> & <int>\\\\\n",
       "\\hline\n",
       "\t   & 2472\\\\\n",
       "\t N &  514\\\\\n",
       "\t Y &  102\\\\\n",
       "\\end{tabular}\n"
      ],
      "text/markdown": [
       "\n",
       "A data.frame: 3 × 2\n",
       "\n",
       "| primary &lt;chr&gt; | n &lt;int&gt; |\n",
       "|---|---|\n",
       "| <!----> | 2472 |\n",
       "| N |  514 |\n",
       "| Y |  102 |\n",
       "\n"
      ],
      "text/plain": [
       "  primary n   \n",
       "1         2472\n",
       "2 N        514\n",
       "3 Y        102"
      ]
     },
     "metadata": {},
     "output_type": "display_data"
    },
    {
     "data": {
      "text/html": [
       "<table class=\"dataframe\">\n",
       "<caption>A data.frame: 3 × 2</caption>\n",
       "<thead>\n",
       "\t<tr><th scope=col>chronic</th><th scope=col>n</th></tr>\n",
       "\t<tr><th scope=col>&lt;chr&gt;</th><th scope=col>&lt;int&gt;</th></tr>\n",
       "</thead>\n",
       "<tbody>\n",
       "\t<tr><td> </td><td>2436</td></tr>\n",
       "\t<tr><td>N</td><td> 641</td></tr>\n",
       "\t<tr><td>Y</td><td>  11</td></tr>\n",
       "</tbody>\n",
       "</table>\n"
      ],
      "text/latex": [
       "A data.frame: 3 × 2\n",
       "\\begin{tabular}{ll}\n",
       " chronic & n\\\\\n",
       " <chr> & <int>\\\\\n",
       "\\hline\n",
       "\t   & 2436\\\\\n",
       "\t N &  641\\\\\n",
       "\t Y &   11\\\\\n",
       "\\end{tabular}\n"
      ],
      "text/markdown": [
       "\n",
       "A data.frame: 3 × 2\n",
       "\n",
       "| chronic &lt;chr&gt; | n &lt;int&gt; |\n",
       "|---|---|\n",
       "| <!----> | 2436 |\n",
       "| N |  641 |\n",
       "| Y |   11 |\n",
       "\n"
      ],
      "text/plain": [
       "  chronic n   \n",
       "1         2436\n",
       "2 N        641\n",
       "3 Y         11"
      ]
     },
     "metadata": {},
     "output_type": "display_data"
    },
    {
     "data": {
      "text/html": [
       "<table class=\"dataframe\">\n",
       "<caption>A data.frame: 3 × 2</caption>\n",
       "<thead>\n",
       "\t<tr><th scope=col>hospital_pl</th><th scope=col>n</th></tr>\n",
       "\t<tr><th scope=col>&lt;chr&gt;</th><th scope=col>&lt;int&gt;</th></tr>\n",
       "</thead>\n",
       "<tbody>\n",
       "\t<tr><td> </td><td>3021</td></tr>\n",
       "\t<tr><td>Y</td><td>  50</td></tr>\n",
       "\t<tr><td>N</td><td>  17</td></tr>\n",
       "</tbody>\n",
       "</table>\n"
      ],
      "text/latex": [
       "A data.frame: 3 × 2\n",
       "\\begin{tabular}{ll}\n",
       " hospital\\_pl & n\\\\\n",
       " <chr> & <int>\\\\\n",
       "\\hline\n",
       "\t   & 3021\\\\\n",
       "\t Y &   50\\\\\n",
       "\t N &   17\\\\\n",
       "\\end{tabular}\n"
      ],
      "text/markdown": [
       "\n",
       "A data.frame: 3 × 2\n",
       "\n",
       "| hospital_pl &lt;chr&gt; | n &lt;int&gt; |\n",
       "|---|---|\n",
       "| <!----> | 3021 |\n",
       "| Y |   50 |\n",
       "| N |   17 |\n",
       "\n"
      ],
      "text/plain": [
       "  hospital_pl n   \n",
       "1             3021\n",
       "2 Y             50\n",
       "3 N             17"
      ]
     },
     "metadata": {},
     "output_type": "display_data"
    },
    {
     "data": {
      "text/html": [
       "<table class=\"dataframe\">\n",
       "<caption>A data.frame: 3 × 2</caption>\n",
       "<thead>\n",
       "\t<tr><th scope=col>principal</th><th scope=col>n</th></tr>\n",
       "\t<tr><th scope=col>&lt;chr&gt;</th><th scope=col>&lt;int&gt;</th></tr>\n",
       "</thead>\n",
       "<tbody>\n",
       "\t<tr><td> </td><td>3021</td></tr>\n",
       "\t<tr><td>N</td><td>  60</td></tr>\n",
       "\t<tr><td>Y</td><td>   7</td></tr>\n",
       "</tbody>\n",
       "</table>\n"
      ],
      "text/latex": [
       "A data.frame: 3 × 2\n",
       "\\begin{tabular}{ll}\n",
       " principal & n\\\\\n",
       " <chr> & <int>\\\\\n",
       "\\hline\n",
       "\t   & 3021\\\\\n",
       "\t N &   60\\\\\n",
       "\t Y &    7\\\\\n",
       "\\end{tabular}\n"
      ],
      "text/markdown": [
       "\n",
       "A data.frame: 3 × 2\n",
       "\n",
       "| principal &lt;chr&gt; | n &lt;int&gt; |\n",
       "|---|---|\n",
       "| <!----> | 3021 |\n",
       "| N |   60 |\n",
       "| Y |    7 |\n",
       "\n"
      ],
      "text/plain": [
       "  principal n   \n",
       "1           3021\n",
       "2 N           60\n",
       "3 Y            7"
      ]
     },
     "metadata": {},
     "output_type": "display_data"
    },
    {
     "data": {
      "text/html": [
       "<table class=\"dataframe\">\n",
       "<caption>A data.frame: 3 × 2</caption>\n",
       "<thead>\n",
       "\t<tr><th scope=col>ed</th><th scope=col>n</th></tr>\n",
       "\t<tr><th scope=col>&lt;chr&gt;</th><th scope=col>&lt;int&gt;</th></tr>\n",
       "</thead>\n",
       "<tbody>\n",
       "\t<tr><td> </td><td>2503</td></tr>\n",
       "\t<tr><td>N</td><td> 434</td></tr>\n",
       "\t<tr><td>Y</td><td> 151</td></tr>\n",
       "</tbody>\n",
       "</table>\n"
      ],
      "text/latex": [
       "A data.frame: 3 × 2\n",
       "\\begin{tabular}{ll}\n",
       " ed & n\\\\\n",
       " <chr> & <int>\\\\\n",
       "\\hline\n",
       "\t   & 2503\\\\\n",
       "\t N &  434\\\\\n",
       "\t Y &  151\\\\\n",
       "\\end{tabular}\n"
      ],
      "text/markdown": [
       "\n",
       "A data.frame: 3 × 2\n",
       "\n",
       "| ed &lt;chr&gt; | n &lt;int&gt; |\n",
       "|---|---|\n",
       "| <!----> | 2503 |\n",
       "| N |  434 |\n",
       "| Y |  151 |\n",
       "\n"
      ],
      "text/plain": [
       "  ed n   \n",
       "1    2503\n",
       "2 N   434\n",
       "3 Y   151"
      ]
     },
     "metadata": {},
     "output_type": "display_data"
    },
    {
     "data": {
      "text/html": [
       "<table class=\"dataframe\">\n",
       "<caption>A data.frame: 5 × 2</caption>\n",
       "<thead>\n",
       "\t<tr><th scope=col>present_on_adm</th><th scope=col>n</th></tr>\n",
       "\t<tr><th scope=col>&lt;chr&gt;</th><th scope=col>&lt;int&gt;</th></tr>\n",
       "</thead>\n",
       "<tbody>\n",
       "\t<tr><td>Yes                      </td><td>1544</td></tr>\n",
       "\t<tr><td>                         </td><td> 745</td></tr>\n",
       "\t<tr><td>Exempt from POA reporting</td><td> 505</td></tr>\n",
       "\t<tr><td>No                       </td><td> 276</td></tr>\n",
       "\t<tr><td>Unknown                  </td><td>  18</td></tr>\n",
       "</tbody>\n",
       "</table>\n"
      ],
      "text/latex": [
       "A data.frame: 5 × 2\n",
       "\\begin{tabular}{ll}\n",
       " present\\_on\\_adm & n\\\\\n",
       " <chr> & <int>\\\\\n",
       "\\hline\n",
       "\t Yes                       & 1544\\\\\n",
       "\t                           &  745\\\\\n",
       "\t Exempt from POA reporting &  505\\\\\n",
       "\t No                        &  276\\\\\n",
       "\t Unknown                   &   18\\\\\n",
       "\\end{tabular}\n"
      ],
      "text/markdown": [
       "\n",
       "A data.frame: 5 × 2\n",
       "\n",
       "| present_on_adm &lt;chr&gt; | n &lt;int&gt; |\n",
       "|---|---|\n",
       "| Yes                       | 1544 |\n",
       "| <!----> |  745 |\n",
       "| Exempt from POA reporting |  505 |\n",
       "| No                        |  276 |\n",
       "| Unknown                   |   18 |\n",
       "\n"
      ],
      "text/plain": [
       "  present_on_adm            n   \n",
       "1 Yes                       1544\n",
       "2                            745\n",
       "3 Exempt from POA reporting  505\n",
       "4 No                         276\n",
       "5 Unknown                     18"
      ]
     },
     "metadata": {},
     "output_type": "display_data"
    }
   ],
   "source": [
    "summary(dx_diff$line)\n",
    "\n",
    "dx_diff %>% count(primary, sort=TRUE)\n",
    "dx_diff %>% count(chronic, sort=TRUE)\n",
    "dx_diff %>% count(hospital_pl,  sort=TRUE)\n",
    "dx_diff %>% count(principal, sort=TRUE)\n",
    "dx_diff %>% count(ed, sort=TRUE)\n",
    "dx_diff %>% count(present_on_adm, sort=TRUE)\n",
    "# dx_diff %>% count(dx_name, sort=TRUE) %>% head(20)"
   ]
  },
  {
   "cell_type": "code",
   "execution_count": 9,
   "metadata": {},
   "outputs": [
    {
     "data": {
      "text/html": [
       "<table class=\"dataframe\">\n",
       "<caption>A data.frame: 6 × 2</caption>\n",
       "<thead>\n",
       "\t<tr><th scope=col>dx_name</th><th scope=col>n</th></tr>\n",
       "\t<tr><th scope=col>&lt;chr&gt;</th><th scope=col>&lt;int&gt;</th></tr>\n",
       "</thead>\n",
       "<tbody>\n",
       "\t<tr><td>Hypoxia                                                                 </td><td>3</td></tr>\n",
       "\t<tr><td>Acute on chronic heart failure, unspecified heart failure type (CMS-HCC)</td><td>2</td></tr>\n",
       "\t<tr><td>Cholangiocarcinoma (CMS-HCC)                                            </td><td>2</td></tr>\n",
       "\t<tr><td>HCAP (healthcare-associated pneumonia)                                  </td><td>2</td></tr>\n",
       "\t<tr><td>Motor vehicle collision, initial encounter                              </td><td>2</td></tr>\n",
       "\t<tr><td>Syncope and collapse                                                    </td><td>2</td></tr>\n",
       "</tbody>\n",
       "</table>\n"
      ],
      "text/latex": [
       "A data.frame: 6 × 2\n",
       "\\begin{tabular}{ll}\n",
       " dx\\_name & n\\\\\n",
       " <chr> & <int>\\\\\n",
       "\\hline\n",
       "\t Hypoxia                                                                  & 3\\\\\n",
       "\t Acute on chronic heart failure, unspecified heart failure type (CMS-HCC) & 2\\\\\n",
       "\t Cholangiocarcinoma (CMS-HCC)                                             & 2\\\\\n",
       "\t HCAP (healthcare-associated pneumonia)                                   & 2\\\\\n",
       "\t Motor vehicle collision, initial encounter                               & 2\\\\\n",
       "\t Syncope and collapse                                                     & 2\\\\\n",
       "\\end{tabular}\n"
      ],
      "text/markdown": [
       "\n",
       "A data.frame: 6 × 2\n",
       "\n",
       "| dx_name &lt;chr&gt; | n &lt;int&gt; |\n",
       "|---|---|\n",
       "| Hypoxia                                                                  | 3 |\n",
       "| Acute on chronic heart failure, unspecified heart failure type (CMS-HCC) | 2 |\n",
       "| Cholangiocarcinoma (CMS-HCC)                                             | 2 |\n",
       "| HCAP (healthcare-associated pneumonia)                                   | 2 |\n",
       "| Motor vehicle collision, initial encounter                               | 2 |\n",
       "| Syncope and collapse                                                     | 2 |\n",
       "\n"
      ],
      "text/plain": [
       "  dx_name                                                                  n\n",
       "1 Hypoxia                                                                  3\n",
       "2 Acute on chronic heart failure, unspecified heart failure type (CMS-HCC) 2\n",
       "3 Cholangiocarcinoma (CMS-HCC)                                             2\n",
       "4 HCAP (healthcare-associated pneumonia)                                   2\n",
       "5 Motor vehicle collision, initial encounter                               2\n",
       "6 Syncope and collapse                                                     2"
      ]
     },
     "metadata": {},
     "output_type": "display_data"
    }
   ],
   "source": [
    "dx_diff %>% filter(ed==\"Y\", primary==\"Y\") %>% distinct(pat_enc_csn_id_coded, dx_name) %>% \n",
    "            count(dx_name, sort=TRUE) %>% filter(n>1)"
   ]
  },
  {
   "cell_type": "code",
   "execution_count": null,
   "metadata": {},
   "outputs": [],
   "source": []
  }
 ],
 "metadata": {
  "environment": {
   "name": "r-cpu.4-0.m71",
   "type": "gcloud",
   "uri": "gcr.io/deeplearning-platform-release/r-cpu.4-0:m71"
  },
  "kernelspec": {
   "display_name": "R",
   "language": "R",
   "name": "ir"
  },
  "language_info": {
   "codemirror_mode": "r",
   "file_extension": ".r",
   "mimetype": "text/x-r-source",
   "name": "R",
   "pygments_lexer": "r",
   "version": "4.1.2"
  },
  "toc": {
   "base_numbering": 1,
   "nav_menu": {},
   "number_sections": true,
   "sideBar": true,
   "skip_h1_title": false,
   "title_cell": "Table of Contents",
   "title_sidebar": "Contents",
   "toc_cell": false,
   "toc_position": {},
   "toc_section_display": true,
   "toc_window_display": false
  },
  "varInspector": {
   "cols": {
    "lenName": 16,
    "lenType": 16,
    "lenVar": 40
   },
   "kernels_config": {
    "python": {
     "delete_cmd_postfix": "",
     "delete_cmd_prefix": "del ",
     "library": "var_list.py",
     "varRefreshCmd": "print(var_dic_list())"
    },
    "r": {
     "delete_cmd_postfix": ") ",
     "delete_cmd_prefix": "rm(",
     "library": "var_list.r",
     "varRefreshCmd": "cat(var_dic_list()) "
    }
   },
   "types_to_exclude": [
    "module",
    "function",
    "builtin_function_or_method",
    "instance",
    "_Feature"
   ],
   "window_display": false
  }
 },
 "nbformat": 4,
 "nbformat_minor": 4
}
