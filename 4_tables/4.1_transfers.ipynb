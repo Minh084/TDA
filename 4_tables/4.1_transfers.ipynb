{
 "cells": [
  {
   "cell_type": "markdown",
   "metadata": {},
   "source": [
    "## Descriptions:\n",
    "- Query other tables on shc to see if we can get any worthy information not included in prediction\n",
    "- Some bigger queries cannot be done in this notebook. use separate SQL file in python instead\n",
    "- Check the characteristics of the `transfer` cohort, compared to the full cohort\n",
    "\n",
    "**Inputs**:\n",
    "- `1_4_cohort`\n",
    "- `1_4_cohort_all_current_dx`\n",
    "\n",
    "**Outputs**: \n",
    "- from in-notebook sql: `4_1_tx_demographic`\n",
    "\n",
    "**Note**:  \n",
    "- transfers time_0 != time_24: 2499\n",
    "- max!=first: 1120 total transfers; 347 from the test set"
   ]
  },
  {
   "cell_type": "raw",
   "metadata": {},
   "source": [
    "install.packages('bigrquery')\n",
    "# Installing package into 'C:/Users/User/Documents/R/win-library/4.0'\n",
    "# (as 'lib' is unspecified)\n",
    "# The downloaded binary packages are in\n",
    "# \tC:\\Users\\User\\AppData\\Local\\Temp\\RtmpaumGcc\\downloaded_packages"
   ]
  },
  {
   "cell_type": "markdown",
   "metadata": {},
   "source": [
    "### Importing R libraries"
   ]
  },
  {
   "cell_type": "code",
   "execution_count": 1,
   "metadata": {
    "ExecuteTime": {
     "end_time": "2020-05-21T00:38:06.078240Z",
     "start_time": "2020-05-21T00:38:02.778Z"
    }
   },
   "outputs": [
    {
     "name": "stderr",
     "output_type": "stream",
     "text": [
      "Warning message:\n",
      "\"package 'bigrquery' was built under R version 4.0.5\"\n",
      "-- \u001b[1mAttaching packages\u001b[22m --------------------------------------- tidyverse 1.3.0 --\n",
      "\n",
      "\u001b[32mv\u001b[39m \u001b[34mggplot2\u001b[39m 3.3.5     \u001b[32mv\u001b[39m \u001b[34mpurrr  \u001b[39m 0.3.4\n",
      "\u001b[32mv\u001b[39m \u001b[34mtibble \u001b[39m 3.0.4     \u001b[32mv\u001b[39m \u001b[34mdplyr  \u001b[39m 1.0.2\n",
      "\u001b[32mv\u001b[39m \u001b[34mtidyr  \u001b[39m 1.1.2     \u001b[32mv\u001b[39m \u001b[34mstringr\u001b[39m 1.4.0\n",
      "\u001b[32mv\u001b[39m \u001b[34mreadr  \u001b[39m 1.4.0     \u001b[32mv\u001b[39m \u001b[34mforcats\u001b[39m 0.5.0\n",
      "\n",
      "Warning message:\n",
      "\"package 'ggplot2' was built under R version 4.0.5\"\n",
      "-- \u001b[1mConflicts\u001b[22m ------------------------------------------ tidyverse_conflicts() --\n",
      "\u001b[31mx\u001b[39m \u001b[34mdplyr\u001b[39m::\u001b[32mfilter()\u001b[39m masks \u001b[34mstats\u001b[39m::filter()\n",
      "\u001b[31mx\u001b[39m \u001b[34mdplyr\u001b[39m::\u001b[32mlag()\u001b[39m    masks \u001b[34mstats\u001b[39m::lag()\n",
      "\n",
      "\n",
      "Attaching package: 'lubridate'\n",
      "\n",
      "\n",
      "The following objects are masked from 'package:base':\n",
      "\n",
      "    date, intersect, setdiff, union\n",
      "\n",
      "\n"
     ]
    }
   ],
   "source": [
    "library(bigrquery)  # to query STARR-OMOP (stored in BigQuery) using SQL\n",
    "library(tidyverse)\n",
    "library(lubridate)\n",
    "\n",
    "# options(repr.matrix.max.rows=250, repr.matrix.max.cols=30)"
   ]
  },
  {
   "cell_type": "markdown",
   "metadata": {},
   "source": [
    "### Set up and run queries"
   ]
  },
  {
   "cell_type": "code",
   "execution_count": 52,
   "metadata": {},
   "outputs": [
    {
     "data": {
      "text/plain": [
       "NULL"
      ]
     },
     "metadata": {},
     "output_type": "display_data"
    }
   ],
   "source": [
    "# CREDENTIALS depending on LOCATIONS:\n",
    "# credential <- paste0(\"/home/\", \"minh084\", \"/.config/gcloud/application_default_credentials.json\")\n",
    "\n",
    "# local computer\n",
    "# credential <- \"C:/Users/User/AppData/Roaming/gcloud/application_default_credentials.json\"\n",
    "\n",
    "# Nero onprem\n",
    "# credential <- \"/home/minh084/.config/gcloud/application_default_credentials.json\"\n",
    "\n",
    "# Nero gcp notebook\n",
    "credential <- \"/home/jupyter/.config/gcloud/application_default_credentials.json\"\n",
    "\n",
    "project_id <- \"som-nero-phi-jonc101\"\n",
    "\n",
    "Sys.setenv(GOOGLE_APPLICATION_CREDENTIALS = credential)\n",
    "Sys.setenv(GCLOUD_PROJECT = project_id)\n",
    "gargle::credentials_app_default()"
   ]
  },
  {
   "cell_type": "code",
   "execution_count": 53,
   "metadata": {},
   "outputs": [
    {
     "data": {
      "text/plain": [
       "<BigQueryConnection>\n",
       "  Dataset: som-nero-phi-jonc101.shc_core\n",
       "  Billing: som-nero-phi-jonc101"
      ]
     },
     "metadata": {},
     "output_type": "display_data"
    },
    {
     "data": {
      "text/html": [
       "<style>\n",
       ".list-inline {list-style: none; margin:0; padding: 0}\n",
       ".list-inline>li {display: inline-block}\n",
       ".list-inline>li:not(:last-child)::after {content: \"\\00b7\"; padding: 0 .5ex}\n",
       "</style>\n",
       "<ol class=list-inline><li>'adt'</li><li>'allergy'</li><li>'culture_sensitivity'</li><li>'demographic'</li><li>'dep_map'</li><li>'diagnosis_code'</li><li>'drg_code'</li><li>'encounter'</li><li>'family_hx'</li><li>'flowsheet'</li><li>'lab_result'</li><li>'lda'</li><li>'mapped_meds'</li><li>'mar'</li><li>'med_orderset'</li><li>'ndc_code'</li><li>'order_med'</li><li>'order_proc'</li><li>'order_quest'</li><li>'proc_note'</li><li>'proc_orderset'</li><li>'procedure_code'</li><li>'prov_map'</li><li>'social_hx'</li><li>'treatment_team'</li></ol>\n"
      ],
      "text/latex": [
       "\\begin{enumerate*}\n",
       "\\item 'adt'\n",
       "\\item 'allergy'\n",
       "\\item 'culture\\_sensitivity'\n",
       "\\item 'demographic'\n",
       "\\item 'dep\\_map'\n",
       "\\item 'diagnosis\\_code'\n",
       "\\item 'drg\\_code'\n",
       "\\item 'encounter'\n",
       "\\item 'family\\_hx'\n",
       "\\item 'flowsheet'\n",
       "\\item 'lab\\_result'\n",
       "\\item 'lda'\n",
       "\\item 'mapped\\_meds'\n",
       "\\item 'mar'\n",
       "\\item 'med\\_orderset'\n",
       "\\item 'ndc\\_code'\n",
       "\\item 'order\\_med'\n",
       "\\item 'order\\_proc'\n",
       "\\item 'order\\_quest'\n",
       "\\item 'proc\\_note'\n",
       "\\item 'proc\\_orderset'\n",
       "\\item 'procedure\\_code'\n",
       "\\item 'prov\\_map'\n",
       "\\item 'social\\_hx'\n",
       "\\item 'treatment\\_team'\n",
       "\\end{enumerate*}\n"
      ],
      "text/markdown": [
       "1. 'adt'\n",
       "2. 'allergy'\n",
       "3. 'culture_sensitivity'\n",
       "4. 'demographic'\n",
       "5. 'dep_map'\n",
       "6. 'diagnosis_code'\n",
       "7. 'drg_code'\n",
       "8. 'encounter'\n",
       "9. 'family_hx'\n",
       "10. 'flowsheet'\n",
       "11. 'lab_result'\n",
       "12. 'lda'\n",
       "13. 'mapped_meds'\n",
       "14. 'mar'\n",
       "15. 'med_orderset'\n",
       "16. 'ndc_code'\n",
       "17. 'order_med'\n",
       "18. 'order_proc'\n",
       "19. 'order_quest'\n",
       "20. 'proc_note'\n",
       "21. 'proc_orderset'\n",
       "22. 'procedure_code'\n",
       "23. 'prov_map'\n",
       "24. 'social_hx'\n",
       "25. 'treatment_team'\n",
       "\n",
       "\n"
      ],
      "text/plain": [
       " [1] \"adt\"                 \"allergy\"             \"culture_sensitivity\"\n",
       " [4] \"demographic\"         \"dep_map\"             \"diagnosis_code\"     \n",
       " [7] \"drg_code\"            \"encounter\"           \"family_hx\"          \n",
       "[10] \"flowsheet\"           \"lab_result\"          \"lda\"                \n",
       "[13] \"mapped_meds\"         \"mar\"                 \"med_orderset\"       \n",
       "[16] \"ndc_code\"            \"order_med\"           \"order_proc\"         \n",
       "[19] \"order_quest\"         \"proc_note\"           \"proc_orderset\"      \n",
       "[22] \"procedure_code\"      \"prov_map\"            \"social_hx\"          \n",
       "[25] \"treatment_team\"     "
      ]
     },
     "metadata": {},
     "output_type": "display_data"
    }
   ],
   "source": [
    "library(DBI)\n",
    "con <- dbConnect(\n",
    "  bigrquery::bigquery(),\n",
    "  project = project_id,\n",
    "  dataset = \"shc_core\" #, billing = project_id\n",
    ")\n",
    "con \n",
    "dbListTables(con)"
   ]
  },
  {
   "cell_type": "code",
   "execution_count": 2,
   "metadata": {},
   "outputs": [],
   "source": [
    "# directories\n",
    "datadir = \"../../DataTD\"\n",
    "cohortdir = \"../../OutputTD/1_cohort\"\n",
    "featuredir = \"../../OutputTD/2_features\"\n",
    "modeldir4 = \"../../OutputTD/3_models/1_4_cohort\"\n",
    "# modeldir4preadmit = \"../../OutputTD/3_models/1_4_cohort_24hrpreadmit\"\n",
    "tabledir = \"../../OutputTD/4_tables\"\n",
    "\n",
    "options(repr.matrix.max.rows=200, repr.matrix.max.cols=30)"
   ]
  },
  {
   "cell_type": "code",
   "execution_count": 3,
   "metadata": {},
   "outputs": [
    {
     "data": {
      "text/html": [
       "43980"
      ],
      "text/latex": [
       "43980"
      ],
      "text/markdown": [
       "43980"
      ],
      "text/plain": [
       "[1] 43980"
      ]
     },
     "metadata": {},
     "output_type": "display_data"
    }
   ],
   "source": [
    "cohort4 <- read.csv(file.path(cohortdir, \"1_4_cohort.csv\")) \n",
    "nrow(cohort4)"
   ]
  },
  {
   "cell_type": "code",
   "execution_count": 4,
   "metadata": {},
   "outputs": [
    {
     "data": {
      "text/html": [
       "2499"
      ],
      "text/latex": [
       "2499"
      ],
      "text/markdown": [
       "2499"
      ],
      "text/plain": [
       "[1] 2499"
      ]
     },
     "metadata": {},
     "output_type": "display_data"
    },
    {
     "data": {
      "text/html": [
       "2324"
      ],
      "text/latex": [
       "2324"
      ],
      "text/markdown": [
       "2324"
      ],
      "text/plain": [
       "[1] 2324"
      ]
     },
     "metadata": {},
     "output_type": "display_data"
    },
    {
     "data": {
      "text/html": [
       "2499"
      ],
      "text/latex": [
       "2499"
      ],
      "text/markdown": [
       "2499"
      ],
      "text/plain": [
       "[1] 2499"
      ]
     },
     "metadata": {},
     "output_type": "display_data"
    },
    {
     "data": {
      "text/html": [
       "805"
      ],
      "text/latex": [
       "805"
      ],
      "text/markdown": [
       "805"
      ],
      "text/plain": [
       "[1] 805"
      ]
     },
     "metadata": {},
     "output_type": "display_data"
    }
   ],
   "source": [
    "# full cohort transfers\n",
    "cohort <- read.csv(file.path(cohortdir, \"1_4_cohort.csv\")) %>% filter(first_label != death_24hr_recent_label)\n",
    "\n",
    "nrow(cohort) # 1120max vs 2499\n",
    "nrow(cohort %>% select(anon_id) %>% distinct()) # 1085max vs  2324 \n",
    "nrow(cohort %>% select(pat_enc_csn_id_coded) %>% distinct()) # 1123max vs 2499\n",
    "nrow(cohort %>% filter(year(ymd_hms(admit_time)) > 2018) %>% select(pat_enc_csn_id_coded) %>% distinct()) # 347max  vs 805"
   ]
  },
  {
   "cell_type": "code",
   "execution_count": 5,
   "metadata": {},
   "outputs": [
    {
     "data": {
      "text/html": [
       "805"
      ],
      "text/latex": [
       "805"
      ],
      "text/markdown": [
       "805"
      ],
      "text/plain": [
       "[1] 805"
      ]
     },
     "metadata": {},
     "output_type": "display_data"
    },
    {
     "data": {
      "text/html": [
       "1587"
      ],
      "text/latex": [
       "1587"
      ],
      "text/markdown": [
       "1587"
      ],
      "text/plain": [
       "[1] 1587"
      ]
     },
     "metadata": {},
     "output_type": "display_data"
    },
    {
     "data": {
      "text/html": [
       "526"
      ],
      "text/latex": [
       "526"
      ],
      "text/markdown": [
       "526"
      ],
      "text/plain": [
       "[1] 526"
      ]
     },
     "metadata": {},
     "output_type": "display_data"
    },
    {
     "data": {
      "text/html": [
       "912"
      ],
      "text/latex": [
       "912"
      ],
      "text/markdown": [
       "912"
      ],
      "text/plain": [
       "[1] 912"
      ]
     },
     "metadata": {},
     "output_type": "display_data"
    },
    {
     "data": {
      "text/html": [
       "279"
      ],
      "text/latex": [
       "279"
      ],
      "text/markdown": [
       "279"
      ],
      "text/plain": [
       "[1] 279"
      ]
     },
     "metadata": {},
     "output_type": "display_data"
    }
   ],
   "source": [
    "# test cohort\n",
    "nrow(cohort %>% filter(year(ymd_hms(admit_time)) > 2018))\n",
    "\n",
    "# cohort and test cohort go from 1 -> 0\n",
    "nrow(cohort %>% filter(first_label == 1))\n",
    "nrow(cohort %>% filter(first_label == 1, year(ymd_hms(admit_time)) > 2018))\n",
    "\n",
    "# cohort and test cohort go from 0 --> 1\n",
    "nrow(cohort %>% filter(first_label == 0))\n",
    "nrow(cohort %>% filter(first_label == 0, year(ymd_hms(admit_time)) > 2018))"
   ]
  },
  {
   "cell_type": "code",
   "execution_count": 6,
   "metadata": {},
   "outputs": [
    {
     "data": {
      "text/html": [
       "63.5054021608643"
      ],
      "text/latex": [
       "63.5054021608643"
      ],
      "text/markdown": [
       "63.5054021608643"
      ],
      "text/plain": [
       "[1] 63.5054"
      ]
     },
     "metadata": {},
     "output_type": "display_data"
    },
    {
     "data": {
      "text/html": [
       "65.3416149068323"
      ],
      "text/latex": [
       "65.3416149068323"
      ],
      "text/markdown": [
       "65.3416149068323"
      ],
      "text/plain": [
       "[1] 65.34161"
      ]
     },
     "metadata": {},
     "output_type": "display_data"
    },
    {
     "data": {
      "text/html": [
       "36.4945978391357"
      ],
      "text/latex": [
       "36.4945978391357"
      ],
      "text/markdown": [
       "36.4945978391357"
      ],
      "text/plain": [
       "[1] 36.4946"
      ]
     },
     "metadata": {},
     "output_type": "display_data"
    },
    {
     "data": {
      "text/html": [
       "34.6583850931677"
      ],
      "text/latex": [
       "34.6583850931677"
      ],
      "text/markdown": [
       "34.6583850931677"
      ],
      "text/plain": [
       "[1] 34.65839"
      ]
     },
     "metadata": {},
     "output_type": "display_data"
    },
    {
     "data": {
      "text/html": [
       "1.88517022504328"
      ],
      "text/latex": [
       "1.88517022504328"
      ],
      "text/markdown": [
       "1.88517022504328"
      ],
      "text/plain": [
       "[1] 1.88517"
      ]
     },
     "metadata": {},
     "output_type": "display_data"
    }
   ],
   "source": [
    "100 * 1587/2499\n",
    "100 * 526/805\n",
    "\n",
    "100 * 912/2499\n",
    "100 * 279/805\n",
    "\n",
    "65.34 / 34.66"
   ]
  },
  {
   "cell_type": "code",
   "execution_count": 12,
   "metadata": {},
   "outputs": [
    {
     "data": {
      "text/html": [
       "1587"
      ],
      "text/latex": [
       "1587"
      ],
      "text/markdown": [
       "1587"
      ],
      "text/plain": [
       "[1] 1587"
      ]
     },
     "metadata": {},
     "output_type": "display_data"
    }
   ],
   "source": [
    "### cohort that transfer from 0 --> 1\n",
    "tx01 <- cohort %>% filter(first_label == 1, death_24hr_recent_label ==0)\n",
    "nrow(tx01) # 1587 "
   ]
  },
  {
   "cell_type": "code",
   "execution_count": 7,
   "metadata": {},
   "outputs": [
    {
     "data": {
      "text/html": [
       "<table>\n",
       "<caption>A data.frame: 1 × 17</caption>\n",
       "<thead>\n",
       "\t<tr><th></th><th scope=col>anon_id</th><th scope=col>pat_enc_csn_id_coded</th><th scope=col>inpatient_data_id_coded</th><th scope=col>admit_time</th><th scope=col>label_max24</th><th scope=col>label_24hr_recent</th><th scope=col>admit_label</th><th scope=col>has_admit_label</th><th scope=col>died_within_24hrs</th><th scope=col>death_24hr_max_label</th><th scope=col>death_24hr_recent_label</th><th scope=col>first_label</th><th scope=col>first_label_minutes_since_admit</th><th scope=col>acute_to_critical_label_recent</th><th scope=col>critical_to_acute_label_recent</th><th scope=col>acute_to_critical_label_max</th><th scope=col>critical_to_acute_label_max</th></tr>\n",
       "\t<tr><th></th><th scope=col>&lt;chr&gt;</th><th scope=col>&lt;dbl&gt;</th><th scope=col>&lt;int&gt;</th><th scope=col>&lt;chr&gt;</th><th scope=col>&lt;int&gt;</th><th scope=col>&lt;int&gt;</th><th scope=col>&lt;int&gt;</th><th scope=col>&lt;int&gt;</th><th scope=col>&lt;int&gt;</th><th scope=col>&lt;int&gt;</th><th scope=col>&lt;int&gt;</th><th scope=col>&lt;int&gt;</th><th scope=col>&lt;dbl&gt;</th><th scope=col>&lt;int&gt;</th><th scope=col>&lt;int&gt;</th><th scope=col>&lt;int&gt;</th><th scope=col>&lt;int&gt;</th></tr>\n",
       "</thead>\n",
       "<tbody>\n",
       "\t<tr><th scope=row>1</th><td>JCdf010a</td><td>131282861801</td><td>45762025</td><td>2020-03-04 03:38:00+00:00</td><td>1</td><td>1</td><td>0</td><td>1</td><td>0</td><td>1</td><td>1</td><td>0</td><td>0</td><td>1</td><td>0</td><td>1</td><td>0</td></tr>\n",
       "</tbody>\n",
       "</table>\n"
      ],
      "text/latex": [
       "A data.frame: 1 × 17\n",
       "\\begin{tabular}{r|lllllllllllllllll}\n",
       "  & anon\\_id & pat\\_enc\\_csn\\_id\\_coded & inpatient\\_data\\_id\\_coded & admit\\_time & label\\_max24 & label\\_24hr\\_recent & admit\\_label & has\\_admit\\_label & died\\_within\\_24hrs & death\\_24hr\\_max\\_label & death\\_24hr\\_recent\\_label & first\\_label & first\\_label\\_minutes\\_since\\_admit & acute\\_to\\_critical\\_label\\_recent & critical\\_to\\_acute\\_label\\_recent & acute\\_to\\_critical\\_label\\_max & critical\\_to\\_acute\\_label\\_max\\\\\n",
       "  & <chr> & <dbl> & <int> & <chr> & <int> & <int> & <int> & <int> & <int> & <int> & <int> & <int> & <dbl> & <int> & <int> & <int> & <int>\\\\\n",
       "\\hline\n",
       "\t1 & JCdf010a & 131282861801 & 45762025 & 2020-03-04 03:38:00+00:00 & 1 & 1 & 0 & 1 & 0 & 1 & 1 & 0 & 0 & 1 & 0 & 1 & 0\\\\\n",
       "\\end{tabular}\n"
      ],
      "text/markdown": [
       "\n",
       "A data.frame: 1 × 17\n",
       "\n",
       "| <!--/--> | anon_id &lt;chr&gt; | pat_enc_csn_id_coded &lt;dbl&gt; | inpatient_data_id_coded &lt;int&gt; | admit_time &lt;chr&gt; | label_max24 &lt;int&gt; | label_24hr_recent &lt;int&gt; | admit_label &lt;int&gt; | has_admit_label &lt;int&gt; | died_within_24hrs &lt;int&gt; | death_24hr_max_label &lt;int&gt; | death_24hr_recent_label &lt;int&gt; | first_label &lt;int&gt; | first_label_minutes_since_admit &lt;dbl&gt; | acute_to_critical_label_recent &lt;int&gt; | critical_to_acute_label_recent &lt;int&gt; | acute_to_critical_label_max &lt;int&gt; | critical_to_acute_label_max &lt;int&gt; |\n",
       "|---|---|---|---|---|---|---|---|---|---|---|---|---|---|---|---|---|---|\n",
       "| 1 | JCdf010a | 131282861801 | 45762025 | 2020-03-04 03:38:00+00:00 | 1 | 1 | 0 | 1 | 0 | 1 | 1 | 0 | 0 | 1 | 0 | 1 | 0 |\n",
       "\n"
      ],
      "text/plain": [
       "  anon_id  pat_enc_csn_id_coded inpatient_data_id_coded\n",
       "1 JCdf010a 131282861801         45762025               \n",
       "  admit_time                label_max24 label_24hr_recent admit_label\n",
       "1 2020-03-04 03:38:00+00:00 1           1                 0          \n",
       "  has_admit_label died_within_24hrs death_24hr_max_label\n",
       "1 1               0                 1                   \n",
       "  death_24hr_recent_label first_label first_label_minutes_since_admit\n",
       "1 1                       0           0                              \n",
       "  acute_to_critical_label_recent critical_to_acute_label_recent\n",
       "1 1                              0                             \n",
       "  acute_to_critical_label_max critical_to_acute_label_max\n",
       "1 1                           0                          "
      ]
     },
     "metadata": {},
     "output_type": "display_data"
    },
    {
     "data": {
      "text/html": [
       "<style>\n",
       ".list-inline {list-style: none; margin:0; padding: 0}\n",
       ".list-inline>li {display: inline-block}\n",
       ".list-inline>li:not(:last-child)::after {content: \"\\00b7\"; padding: 0 .5ex}\n",
       "</style>\n",
       "<ol class=list-inline><li>'anon_id'</li><li>'pat_enc_csn_id_coded'</li><li>'inpatient_data_id_coded'</li><li>'admit_time'</li><li>'label_max24'</li><li>'label_24hr_recent'</li><li>'admit_label'</li><li>'has_admit_label'</li><li>'died_within_24hrs'</li><li>'death_24hr_max_label'</li><li>'death_24hr_recent_label'</li><li>'first_label'</li><li>'first_label_minutes_since_admit'</li><li>'acute_to_critical_label_recent'</li><li>'critical_to_acute_label_recent'</li><li>'acute_to_critical_label_max'</li><li>'critical_to_acute_label_max'</li></ol>\n"
      ],
      "text/latex": [
       "\\begin{enumerate*}\n",
       "\\item 'anon\\_id'\n",
       "\\item 'pat\\_enc\\_csn\\_id\\_coded'\n",
       "\\item 'inpatient\\_data\\_id\\_coded'\n",
       "\\item 'admit\\_time'\n",
       "\\item 'label\\_max24'\n",
       "\\item 'label\\_24hr\\_recent'\n",
       "\\item 'admit\\_label'\n",
       "\\item 'has\\_admit\\_label'\n",
       "\\item 'died\\_within\\_24hrs'\n",
       "\\item 'death\\_24hr\\_max\\_label'\n",
       "\\item 'death\\_24hr\\_recent\\_label'\n",
       "\\item 'first\\_label'\n",
       "\\item 'first\\_label\\_minutes\\_since\\_admit'\n",
       "\\item 'acute\\_to\\_critical\\_label\\_recent'\n",
       "\\item 'critical\\_to\\_acute\\_label\\_recent'\n",
       "\\item 'acute\\_to\\_critical\\_label\\_max'\n",
       "\\item 'critical\\_to\\_acute\\_label\\_max'\n",
       "\\end{enumerate*}\n"
      ],
      "text/markdown": [
       "1. 'anon_id'\n",
       "2. 'pat_enc_csn_id_coded'\n",
       "3. 'inpatient_data_id_coded'\n",
       "4. 'admit_time'\n",
       "5. 'label_max24'\n",
       "6. 'label_24hr_recent'\n",
       "7. 'admit_label'\n",
       "8. 'has_admit_label'\n",
       "9. 'died_within_24hrs'\n",
       "10. 'death_24hr_max_label'\n",
       "11. 'death_24hr_recent_label'\n",
       "12. 'first_label'\n",
       "13. 'first_label_minutes_since_admit'\n",
       "14. 'acute_to_critical_label_recent'\n",
       "15. 'critical_to_acute_label_recent'\n",
       "16. 'acute_to_critical_label_max'\n",
       "17. 'critical_to_acute_label_max'\n",
       "\n",
       "\n"
      ],
      "text/plain": [
       " [1] \"anon_id\"                         \"pat_enc_csn_id_coded\"           \n",
       " [3] \"inpatient_data_id_coded\"         \"admit_time\"                     \n",
       " [5] \"label_max24\"                     \"label_24hr_recent\"              \n",
       " [7] \"admit_label\"                     \"has_admit_label\"                \n",
       " [9] \"died_within_24hrs\"               \"death_24hr_max_label\"           \n",
       "[11] \"death_24hr_recent_label\"         \"first_label\"                    \n",
       "[13] \"first_label_minutes_since_admit\" \"acute_to_critical_label_recent\" \n",
       "[15] \"critical_to_acute_label_recent\"  \"acute_to_critical_label_max\"    \n",
       "[17] \"critical_to_acute_label_max\"    "
      ]
     },
     "metadata": {},
     "output_type": "display_data"
    }
   ],
   "source": [
    "head(cohort, 1)\n",
    "colnames(cohort)"
   ]
  },
  {
   "cell_type": "markdown",
   "metadata": {},
   "source": [
    "### ADT and Demographic tables"
   ]
  },
  {
   "cell_type": "code",
   "execution_count": 18,
   "metadata": {},
   "outputs": [
    {
     "data": {
      "text/html": [
       "2711384"
      ],
      "text/latex": [
       "2711384"
      ],
      "text/markdown": [
       "2711384"
      ],
      "text/plain": [
       "[1] 2711384"
      ]
     },
     "metadata": {},
     "output_type": "display_data"
    }
   ],
   "source": [
    "# previously queried ADT table\n",
    "adt <- read.csv(file.path(datadir, 'adt_class_serv_loc.csv'))\n",
    "nrow(adt) # 2711384"
   ]
  },
  {
   "cell_type": "code",
   "execution_count": 17,
   "metadata": {},
   "outputs": [
    {
     "data": {
      "text/html": [
       "<table class=\"dataframe\">\n",
       "<caption>A data.frame: 6 × 5</caption>\n",
       "<thead>\n",
       "\t<tr><th></th><th scope=col>pat_class_c</th><th scope=col>pat_class</th><th scope=col>base_pat_class</th><th scope=col>pat_service</th><th scope=col>pat_lv_of_care</th></tr>\n",
       "\t<tr><th></th><th scope=col>&lt;int&gt;</th><th scope=col>&lt;chr&gt;</th><th scope=col>&lt;chr&gt;</th><th scope=col>&lt;chr&gt;</th><th scope=col>&lt;chr&gt;</th></tr>\n",
       "</thead>\n",
       "<tbody>\n",
       "\t<tr><th scope=row>1</th><td>120</td><td>LPCH PATIENT                        </td><td>          </td><td>Emergency Medicine</td><td>                                            </td></tr>\n",
       "\t<tr><th scope=row>2</th><td>166</td><td>Bedded Outpatient (corrections only)</td><td>          </td><td>Emergency         </td><td>                                            </td></tr>\n",
       "\t<tr><th scope=row>3</th><td>166</td><td>Bedded Outpatient (corrections only)</td><td>Outpatient</td><td>Emergency         </td><td>Acute Care (Assessment or intervention q4-8)</td></tr>\n",
       "\t<tr><th scope=row>4</th><td>166</td><td>Bedded Outpatient (corrections only)</td><td>          </td><td>Emergency         </td><td>Acute Care (Assessment or intervention q4-8)</td></tr>\n",
       "\t<tr><th scope=row>5</th><td>132</td><td>To Be Admitted                      </td><td>Inpatient </td><td>Emergency         </td><td>                                            </td></tr>\n",
       "\t<tr><th scope=row>6</th><td>166</td><td>Bedded Outpatient (corrections only)</td><td>          </td><td>Emergency         </td><td>Acute Care (Assessment or intervention q4-8)</td></tr>\n",
       "</tbody>\n",
       "</table>\n"
      ],
      "text/latex": [
       "A data.frame: 6 × 5\n",
       "\\begin{tabular}{r|lllll}\n",
       "  & pat\\_class\\_c & pat\\_class & base\\_pat\\_class & pat\\_service & pat\\_lv\\_of\\_care\\\\\n",
       "  & <int> & <chr> & <chr> & <chr> & <chr>\\\\\n",
       "\\hline\n",
       "\t1 & 120 & LPCH PATIENT                         &            & Emergency Medicine &                                             \\\\\n",
       "\t2 & 166 & Bedded Outpatient (corrections only) &            & Emergency          &                                             \\\\\n",
       "\t3 & 166 & Bedded Outpatient (corrections only) & Outpatient & Emergency          & Acute Care (Assessment or intervention q4-8)\\\\\n",
       "\t4 & 166 & Bedded Outpatient (corrections only) &            & Emergency          & Acute Care (Assessment or intervention q4-8)\\\\\n",
       "\t5 & 132 & To Be Admitted                       & Inpatient  & Emergency          &                                             \\\\\n",
       "\t6 & 166 & Bedded Outpatient (corrections only) &            & Emergency          & Acute Care (Assessment or intervention q4-8)\\\\\n",
       "\\end{tabular}\n"
      ],
      "text/markdown": [
       "\n",
       "A data.frame: 6 × 5\n",
       "\n",
       "| <!--/--> | pat_class_c &lt;int&gt; | pat_class &lt;chr&gt; | base_pat_class &lt;chr&gt; | pat_service &lt;chr&gt; | pat_lv_of_care &lt;chr&gt; |\n",
       "|---|---|---|---|---|---|\n",
       "| 1 | 120 | LPCH PATIENT                         | <!----> | Emergency Medicine | <!----> |\n",
       "| 2 | 166 | Bedded Outpatient (corrections only) | <!----> | Emergency          | <!----> |\n",
       "| 3 | 166 | Bedded Outpatient (corrections only) | Outpatient | Emergency          | Acute Care (Assessment or intervention q4-8) |\n",
       "| 4 | 166 | Bedded Outpatient (corrections only) | <!----> | Emergency          | Acute Care (Assessment or intervention q4-8) |\n",
       "| 5 | 132 | To Be Admitted                       | Inpatient  | Emergency          | <!----> |\n",
       "| 6 | 166 | Bedded Outpatient (corrections only) | <!----> | Emergency          | Acute Care (Assessment or intervention q4-8) |\n",
       "\n"
      ],
      "text/plain": [
       "  pat_class_c pat_class                            base_pat_class\n",
       "1 120         LPCH PATIENT                                       \n",
       "2 166         Bedded Outpatient (corrections only)               \n",
       "3 166         Bedded Outpatient (corrections only) Outpatient    \n",
       "4 166         Bedded Outpatient (corrections only)               \n",
       "5 132         To Be Admitted                       Inpatient     \n",
       "6 166         Bedded Outpatient (corrections only)               \n",
       "  pat_service        pat_lv_of_care                              \n",
       "1 Emergency Medicine                                             \n",
       "2 Emergency                                                      \n",
       "3 Emergency          Acute Care (Assessment or intervention q4-8)\n",
       "4 Emergency          Acute Care (Assessment or intervention q4-8)\n",
       "5 Emergency                                                      \n",
       "6 Emergency          Acute Care (Assessment or intervention q4-8)"
      ]
     },
     "metadata": {},
     "output_type": "display_data"
    }
   ],
   "source": [
    "head(adt)"
   ]
  },
  {
   "cell_type": "code",
   "execution_count": 58,
   "metadata": {},
   "outputs": [
    {
     "name": "stderr",
     "output_type": "stream",
     "text": [
      "Warning message in as.integer.integer64(x):\n",
      "“NAs produced by integer overflow”\n"
     ]
    },
    {
     "data": {
      "text/html": [
       "<style>\n",
       ".list-inline {list-style: none; margin:0; padding: 0}\n",
       ".list-inline>li {display: inline-block}\n",
       ".list-inline>li:not(:last-child)::after {content: \"\\00b7\"; padding: 0 .5ex}\n",
       "</style>\n",
       "<ol class=list-inline><li>55685</li><li>28</li></ol>\n"
      ],
      "text/latex": [
       "\\begin{enumerate*}\n",
       "\\item 55685\n",
       "\\item 28\n",
       "\\end{enumerate*}\n"
      ],
      "text/markdown": [
       "1. 55685\n",
       "2. 28\n",
       "\n",
       "\n"
      ],
      "text/plain": [
       "[1] 55685    28"
      ]
     },
     "metadata": {},
     "output_type": "display_data"
    },
    {
     "data": {
      "text/html": [
       "<style>\n",
       ".list-inline {list-style: none; margin:0; padding: 0}\n",
       ".list-inline>li {display: inline-block}\n",
       ".list-inline>li:not(:last-child)::after {content: \"\\00b7\"; padding: 0 .5ex}\n",
       "</style>\n",
       "<ol class=list-inline><li>'anon_id'</li><li>'pat_enc_csn_id_coded'</li><li>'admit_time'</li><li>'first_label'</li><li>'death_24hr_recent_label'</li><li>'death_24hr_max_label'</li><li>'event_type_c'</li><li>'event_type'</li><li>'pat_class_c'</li><li>'pat_class'</li><li>'base_pat_class_c'</li><li>'base_pat_class'</li><li>'pat_service_c'</li><li>'pat_service'</li><li>'pat_lvl_of_care_c'</li><li>'pat_lv_of_care'</li><li>'accommodation_c'</li><li>'accomodation'</li><li>'in_event_type_c'</li><li>'in_event_type'</li><li>'out_event_type_c'</li><li>'out_event_type'</li><li>'from_base_class_c'</li><li>'from_base_class'</li><li>'to_base_class_c'</li><li>'to_base_class'</li><li>'seq_num_in_enc'</li><li>'seq_num_in_bed_min'</li></ol>\n"
      ],
      "text/latex": [
       "\\begin{enumerate*}\n",
       "\\item 'anon\\_id'\n",
       "\\item 'pat\\_enc\\_csn\\_id\\_coded'\n",
       "\\item 'admit\\_time'\n",
       "\\item 'first\\_label'\n",
       "\\item 'death\\_24hr\\_recent\\_label'\n",
       "\\item 'death\\_24hr\\_max\\_label'\n",
       "\\item 'event\\_type\\_c'\n",
       "\\item 'event\\_type'\n",
       "\\item 'pat\\_class\\_c'\n",
       "\\item 'pat\\_class'\n",
       "\\item 'base\\_pat\\_class\\_c'\n",
       "\\item 'base\\_pat\\_class'\n",
       "\\item 'pat\\_service\\_c'\n",
       "\\item 'pat\\_service'\n",
       "\\item 'pat\\_lvl\\_of\\_care\\_c'\n",
       "\\item 'pat\\_lv\\_of\\_care'\n",
       "\\item 'accommodation\\_c'\n",
       "\\item 'accomodation'\n",
       "\\item 'in\\_event\\_type\\_c'\n",
       "\\item 'in\\_event\\_type'\n",
       "\\item 'out\\_event\\_type\\_c'\n",
       "\\item 'out\\_event\\_type'\n",
       "\\item 'from\\_base\\_class\\_c'\n",
       "\\item 'from\\_base\\_class'\n",
       "\\item 'to\\_base\\_class\\_c'\n",
       "\\item 'to\\_base\\_class'\n",
       "\\item 'seq\\_num\\_in\\_enc'\n",
       "\\item 'seq\\_num\\_in\\_bed\\_min'\n",
       "\\end{enumerate*}\n"
      ],
      "text/markdown": [
       "1. 'anon_id'\n",
       "2. 'pat_enc_csn_id_coded'\n",
       "3. 'admit_time'\n",
       "4. 'first_label'\n",
       "5. 'death_24hr_recent_label'\n",
       "6. 'death_24hr_max_label'\n",
       "7. 'event_type_c'\n",
       "8. 'event_type'\n",
       "9. 'pat_class_c'\n",
       "10. 'pat_class'\n",
       "11. 'base_pat_class_c'\n",
       "12. 'base_pat_class'\n",
       "13. 'pat_service_c'\n",
       "14. 'pat_service'\n",
       "15. 'pat_lvl_of_care_c'\n",
       "16. 'pat_lv_of_care'\n",
       "17. 'accommodation_c'\n",
       "18. 'accomodation'\n",
       "19. 'in_event_type_c'\n",
       "20. 'in_event_type'\n",
       "21. 'out_event_type_c'\n",
       "22. 'out_event_type'\n",
       "23. 'from_base_class_c'\n",
       "24. 'from_base_class'\n",
       "25. 'to_base_class_c'\n",
       "26. 'to_base_class'\n",
       "27. 'seq_num_in_enc'\n",
       "28. 'seq_num_in_bed_min'\n",
       "\n",
       "\n"
      ],
      "text/plain": [
       " [1] \"anon_id\"                 \"pat_enc_csn_id_coded\"   \n",
       " [3] \"admit_time\"              \"first_label\"            \n",
       " [5] \"death_24hr_recent_label\" \"death_24hr_max_label\"   \n",
       " [7] \"event_type_c\"            \"event_type\"             \n",
       " [9] \"pat_class_c\"             \"pat_class\"              \n",
       "[11] \"base_pat_class_c\"        \"base_pat_class\"         \n",
       "[13] \"pat_service_c\"           \"pat_service\"            \n",
       "[15] \"pat_lvl_of_care_c\"       \"pat_lv_of_care\"         \n",
       "[17] \"accommodation_c\"         \"accomodation\"           \n",
       "[19] \"in_event_type_c\"         \"in_event_type\"          \n",
       "[21] \"out_event_type_c\"        \"out_event_type\"         \n",
       "[23] \"from_base_class_c\"       \"from_base_class\"        \n",
       "[25] \"to_base_class_c\"         \"to_base_class\"          \n",
       "[27] \"seq_num_in_enc\"          \"seq_num_in_bed_min\"     "
      ]
     },
     "metadata": {},
     "output_type": "display_data"
    }
   ],
   "source": [
    "q = \"\n",
    "SELECT c.anon_id, c.pat_enc_csn_id_coded, c.admit_time, c.first_label, c.death_24hr_recent_label, c.death_24hr_max_label,\n",
    "    adt.event_type_c, adt.event_type, adt.pat_class_c, adt.pat_class, adt.base_pat_class_c, adt.base_pat_class,\n",
    "    adt.pat_service_c, adt.pat_service, adt.pat_lvl_of_care_c, adt.pat_lv_of_care, adt.accommodation_c, adt.accomodation, \n",
    "    adt.in_event_type_c, adt.in_event_type, adt.out_event_type_c, adt.out_event_type, adt.from_base_class_c, adt.from_base_class,\n",
    "    adt.to_base_class_c, adt.to_base_class, adt.seq_num_in_enc, adt.seq_num_in_bed_min\n",
    "FROM \n",
    "    `som-nero-phi-jonc101.triageTD.1_4_cohort` as c\n",
    "JOIN \n",
    "    `som-nero-phi-jonc101.shc_core.adt` as adt\n",
    "ON \n",
    "    (c.anon_id = adt.anon_id and c.pat_enc_csn_id_coded = adt.pat_enc_csn_id_coded)\n",
    "WHERE\n",
    "    c.first_label != c.death_24hr_recent_label\n",
    "\"\n",
    "# submit the query:\n",
    "update.packages('Rcpp')\n",
    "df <- dbGetQuery(con, q)\n",
    "dim(df)\n",
    "colnames(df)"
   ]
  },
  {
   "cell_type": "raw",
   "metadata": {},
   "source": [
    "write.csv(df, file.path(tabledir, \"4_1_tx_adt.csv\"), row.names=FALSE)"
   ]
  },
  {
   "cell_type": "code",
   "execution_count": 54,
   "metadata": {},
   "outputs": [
    {
     "name": "stderr",
     "output_type": "stream",
     "text": [
      "Warning message in as.integer.integer64(x):\n",
      "“NAs produced by integer overflow”\n"
     ]
    },
    {
     "data": {
      "text/html": [
       "<style>\n",
       ".list-inline {list-style: none; margin:0; padding: 0}\n",
       ".list-inline>li {display: inline-block}\n",
       ".list-inline>li:not(:last-child)::after {content: \"\\00b7\"; padding: 0 .5ex}\n",
       "</style>\n",
       "<ol class=list-inline><li>43980</li><li>6</li></ol>\n"
      ],
      "text/latex": [
       "\\begin{enumerate*}\n",
       "\\item 43980\n",
       "\\item 6\n",
       "\\end{enumerate*}\n"
      ],
      "text/markdown": [
       "1. 43980\n",
       "2. 6\n",
       "\n",
       "\n"
      ],
      "text/plain": [
       "[1] 43980     6"
      ]
     },
     "metadata": {},
     "output_type": "display_data"
    },
    {
     "data": {
      "text/html": [
       "<style>\n",
       ".list-inline {list-style: none; margin:0; padding: 0}\n",
       ".list-inline>li {display: inline-block}\n",
       ".list-inline>li:not(:last-child)::after {content: \"\\00b7\"; padding: 0 .5ex}\n",
       "</style>\n",
       "<ol class=list-inline><li>'anon_id'</li><li>'pat_enc_csn_id_coded'</li><li>'INTRPTR_NEEDED_YN'</li><li>'CHARLSON_SCORE'</li><li>'N_HOSPITALIZATIONS'</li><li>'DAYS_IN_HOSPITAL'</li></ol>\n"
      ],
      "text/latex": [
       "\\begin{enumerate*}\n",
       "\\item 'anon\\_id'\n",
       "\\item 'pat\\_enc\\_csn\\_id\\_coded'\n",
       "\\item 'INTRPTR\\_NEEDED\\_YN'\n",
       "\\item 'CHARLSON\\_SCORE'\n",
       "\\item 'N\\_HOSPITALIZATIONS'\n",
       "\\item 'DAYS\\_IN\\_HOSPITAL'\n",
       "\\end{enumerate*}\n"
      ],
      "text/markdown": [
       "1. 'anon_id'\n",
       "2. 'pat_enc_csn_id_coded'\n",
       "3. 'INTRPTR_NEEDED_YN'\n",
       "4. 'CHARLSON_SCORE'\n",
       "5. 'N_HOSPITALIZATIONS'\n",
       "6. 'DAYS_IN_HOSPITAL'\n",
       "\n",
       "\n"
      ],
      "text/plain": [
       "[1] \"anon_id\"              \"pat_enc_csn_id_coded\" \"INTRPTR_NEEDED_YN\"   \n",
       "[4] \"CHARLSON_SCORE\"       \"N_HOSPITALIZATIONS\"   \"DAYS_IN_HOSPITAL\"    "
      ]
     },
     "metadata": {},
     "output_type": "display_data"
    }
   ],
   "source": [
    "# full cohort\n",
    "q = \"\n",
    "SELECT distinct c.anon_id, c.pat_enc_csn_id_coded, \n",
    "    x.INTRPTR_NEEDED_YN, x.CHARLSON_SCORE, x.N_HOSPITALIZATIONS, x.DAYS_IN_HOSPITAL\n",
    "FROM \n",
    "    `som-nero-phi-jonc101.triageTD.1_4_cohort` as c\n",
    "JOIN \n",
    "    `som-nero-phi-jonc101.shc_core.demographic` as x\n",
    "ON \n",
    "    (c.anon_id = x.anon_id)\n",
    "\"\n",
    "# WHERE\n",
    "#     c.first_label != c.death_24hr_recent_label\n",
    "\n",
    "# submit the query:\n",
    "update.packages('Rcpp')\n",
    "x1 <- dbGetQuery(con, q)\n",
    "dim(x1)\n",
    "colnames(x1)"
   ]
  },
  {
   "cell_type": "code",
   "execution_count": 55,
   "metadata": {},
   "outputs": [
    {
     "data": {
      "text/html": [
       "<table class=\"dataframe\">\n",
       "<caption>A tibble: 3 × 3</caption>\n",
       "<thead>\n",
       "\t<tr><th scope=col>INTRPTR_NEEDED_YN</th><th scope=col>n</th><th scope=col>perc</th></tr>\n",
       "\t<tr><th scope=col>&lt;lgl&gt;</th><th scope=col>&lt;int&gt;</th><th scope=col>&lt;dbl&gt;</th></tr>\n",
       "</thead>\n",
       "<tbody>\n",
       "\t<tr><td>FALSE</td><td>37817</td><td>85.98681219</td></tr>\n",
       "\t<tr><td> TRUE</td><td> 6121</td><td>13.91768986</td></tr>\n",
       "\t<tr><td>   NA</td><td>   42</td><td> 0.09549795</td></tr>\n",
       "</tbody>\n",
       "</table>\n"
      ],
      "text/latex": [
       "A tibble: 3 × 3\n",
       "\\begin{tabular}{lll}\n",
       " INTRPTR\\_NEEDED\\_YN & n & perc\\\\\n",
       " <lgl> & <int> & <dbl>\\\\\n",
       "\\hline\n",
       "\t FALSE & 37817 & 85.98681219\\\\\n",
       "\t  TRUE &  6121 & 13.91768986\\\\\n",
       "\t    NA &    42 &  0.09549795\\\\\n",
       "\\end{tabular}\n"
      ],
      "text/markdown": [
       "\n",
       "A tibble: 3 × 3\n",
       "\n",
       "| INTRPTR_NEEDED_YN &lt;lgl&gt; | n &lt;int&gt; | perc &lt;dbl&gt; |\n",
       "|---|---|---|\n",
       "| FALSE | 37817 | 85.98681219 |\n",
       "|  TRUE |  6121 | 13.91768986 |\n",
       "|    NA |    42 |  0.09549795 |\n",
       "\n"
      ],
      "text/plain": [
       "  INTRPTR_NEEDED_YN n     perc       \n",
       "1 FALSE             37817 85.98681219\n",
       "2  TRUE              6121 13.91768986\n",
       "3    NA                42  0.09549795"
      ]
     },
     "metadata": {},
     "output_type": "display_data"
    }
   ],
   "source": [
    "x1 %>% count(INTRPTR_NEEDED_YN) %>% mutate(perc = 100* n/nrow(x1))"
   ]
  },
  {
   "cell_type": "code",
   "execution_count": 56,
   "metadata": {},
   "outputs": [
    {
     "name": "stderr",
     "output_type": "stream",
     "text": [
      "Warning message in as.integer.integer64(x):\n",
      "“NAs produced by integer overflow”\n"
     ]
    },
    {
     "data": {
      "text/html": [
       "<style>\n",
       ".list-inline {list-style: none; margin:0; padding: 0}\n",
       ".list-inline>li {display: inline-block}\n",
       ".list-inline>li:not(:last-child)::after {content: \"\\00b7\"; padding: 0 .5ex}\n",
       "</style>\n",
       "<ol class=list-inline><li>2499</li><li>6</li></ol>\n"
      ],
      "text/latex": [
       "\\begin{enumerate*}\n",
       "\\item 2499\n",
       "\\item 6\n",
       "\\end{enumerate*}\n"
      ],
      "text/markdown": [
       "1. 2499\n",
       "2. 6\n",
       "\n",
       "\n"
      ],
      "text/plain": [
       "[1] 2499    6"
      ]
     },
     "metadata": {},
     "output_type": "display_data"
    },
    {
     "data": {
      "text/html": [
       "<style>\n",
       ".list-inline {list-style: none; margin:0; padding: 0}\n",
       ".list-inline>li {display: inline-block}\n",
       ".list-inline>li:not(:last-child)::after {content: \"\\00b7\"; padding: 0 .5ex}\n",
       "</style>\n",
       "<ol class=list-inline><li>'anon_id'</li><li>'pat_enc_csn_id_coded'</li><li>'INTRPTR_NEEDED_YN'</li><li>'CHARLSON_SCORE'</li><li>'N_HOSPITALIZATIONS'</li><li>'DAYS_IN_HOSPITAL'</li></ol>\n"
      ],
      "text/latex": [
       "\\begin{enumerate*}\n",
       "\\item 'anon\\_id'\n",
       "\\item 'pat\\_enc\\_csn\\_id\\_coded'\n",
       "\\item 'INTRPTR\\_NEEDED\\_YN'\n",
       "\\item 'CHARLSON\\_SCORE'\n",
       "\\item 'N\\_HOSPITALIZATIONS'\n",
       "\\item 'DAYS\\_IN\\_HOSPITAL'\n",
       "\\end{enumerate*}\n"
      ],
      "text/markdown": [
       "1. 'anon_id'\n",
       "2. 'pat_enc_csn_id_coded'\n",
       "3. 'INTRPTR_NEEDED_YN'\n",
       "4. 'CHARLSON_SCORE'\n",
       "5. 'N_HOSPITALIZATIONS'\n",
       "6. 'DAYS_IN_HOSPITAL'\n",
       "\n",
       "\n"
      ],
      "text/plain": [
       "[1] \"anon_id\"              \"pat_enc_csn_id_coded\" \"INTRPTR_NEEDED_YN\"   \n",
       "[4] \"CHARLSON_SCORE\"       \"N_HOSPITALIZATIONS\"   \"DAYS_IN_HOSPITAL\"    "
      ]
     },
     "metadata": {},
     "output_type": "display_data"
    }
   ],
   "source": [
    "q = \"\n",
    "SELECT distinct c.anon_id, c.pat_enc_csn_id_coded, \n",
    "    x.INTRPTR_NEEDED_YN, x.CHARLSON_SCORE, x.N_HOSPITALIZATIONS, x.DAYS_IN_HOSPITAL\n",
    "FROM \n",
    "    `som-nero-phi-jonc101.triageTD.1_4_cohort` as c\n",
    "JOIN \n",
    "    `som-nero-phi-jonc101.shc_core.demographic` as x\n",
    "ON \n",
    "    (c.anon_id = x.anon_id)\n",
    "WHERE\n",
    "    c.first_label != c.death_24hr_recent_label\n",
    "\"\n",
    "# submit the query:\n",
    "update.packages('Rcpp')\n",
    "x1 <- dbGetQuery(con, q)\n",
    "dim(x1)\n",
    "colnames(x1)"
   ]
  },
  {
   "cell_type": "code",
   "execution_count": 57,
   "metadata": {},
   "outputs": [
    {
     "data": {
      "text/html": [
       "<table class=\"dataframe\">\n",
       "<caption>A tibble: 3 × 3</caption>\n",
       "<thead>\n",
       "\t<tr><th scope=col>INTRPTR_NEEDED_YN</th><th scope=col>n</th><th scope=col>perc</th></tr>\n",
       "\t<tr><th scope=col>&lt;lgl&gt;</th><th scope=col>&lt;int&gt;</th><th scope=col>&lt;dbl&gt;</th></tr>\n",
       "</thead>\n",
       "<tbody>\n",
       "\t<tr><td>FALSE</td><td>2166</td><td>86.67466987</td></tr>\n",
       "\t<tr><td> TRUE</td><td> 332</td><td>13.28531413</td></tr>\n",
       "\t<tr><td>   NA</td><td>   1</td><td> 0.04001601</td></tr>\n",
       "</tbody>\n",
       "</table>\n"
      ],
      "text/latex": [
       "A tibble: 3 × 3\n",
       "\\begin{tabular}{lll}\n",
       " INTRPTR\\_NEEDED\\_YN & n & perc\\\\\n",
       " <lgl> & <int> & <dbl>\\\\\n",
       "\\hline\n",
       "\t FALSE & 2166 & 86.67466987\\\\\n",
       "\t  TRUE &  332 & 13.28531413\\\\\n",
       "\t    NA &    1 &  0.04001601\\\\\n",
       "\\end{tabular}\n"
      ],
      "text/markdown": [
       "\n",
       "A tibble: 3 × 3\n",
       "\n",
       "| INTRPTR_NEEDED_YN &lt;lgl&gt; | n &lt;int&gt; | perc &lt;dbl&gt; |\n",
       "|---|---|---|\n",
       "| FALSE | 2166 | 86.67466987 |\n",
       "|  TRUE |  332 | 13.28531413 |\n",
       "|    NA |    1 |  0.04001601 |\n",
       "\n"
      ],
      "text/plain": [
       "  INTRPTR_NEEDED_YN n    perc       \n",
       "1 FALSE             2166 86.67466987\n",
       "2  TRUE              332 13.28531413\n",
       "3    NA                1  0.04001601"
      ]
     },
     "metadata": {},
     "output_type": "display_data"
    }
   ],
   "source": [
    "x1 %>% count(INTRPTR_NEEDED_YN) %>% mutate(perc = 100* n/nrow(x1))"
   ]
  },
  {
   "cell_type": "raw",
   "metadata": {},
   "source": [
    "write.csv(x1, file.path(datadir, \"4_1_tx_demographic.csv\"), row.names=FALSE)"
   ]
  },
  {
   "cell_type": "markdown",
   "metadata": {},
   "source": [
    "### FULL COHORT\n",
    "current visit diagnosis"
   ]
  },
  {
   "cell_type": "code",
   "execution_count": 76,
   "metadata": {},
   "outputs": [
    {
     "data": {
      "text/html": [
       "1239918"
      ],
      "text/latex": [
       "1239918"
      ],
      "text/markdown": [
       "1239918"
      ],
      "text/plain": [
       "[1] 1239918"
      ]
     },
     "metadata": {},
     "output_type": "display_data"
    },
    {
     "data": {
      "text/html": [
       "43932"
      ],
      "text/latex": [
       "43932"
      ],
      "text/markdown": [
       "43932"
      ],
      "text/plain": [
       "[1] 43932"
      ]
     },
     "metadata": {},
     "output_type": "display_data"
    }
   ],
   "source": [
    "# all dx from 1_4_cohort, SQL query\n",
    "dx <- read.csv(file.path(datadir, \"1_4_cohort_all_current_dx.csv\"))\n",
    "nrow(dx) # 1239918\n",
    "ndx=length(unique(dx$pat_enc_csn_id_coded)) # full cohort is 43980\n",
    "ndx"
   ]
  },
  {
   "cell_type": "code",
   "execution_count": 31,
   "metadata": {},
   "outputs": [
    {
     "data": {
      "text/html": [
       "<table class=\"dataframe\">\n",
       "<caption>A data.frame: 6 × 10</caption>\n",
       "<thead>\n",
       "\t<tr><th></th><th scope=col>anon_id</th><th scope=col>pat_enc_csn_id_coded</th><th scope=col>line</th><th scope=col>dx_name</th><th scope=col>primary</th><th scope=col>chronic</th><th scope=col>principal</th><th scope=col>hospital_pl</th><th scope=col>ed</th><th scope=col>present_on_adm</th></tr>\n",
       "\t<tr><th></th><th scope=col>&lt;chr&gt;</th><th scope=col>&lt;dbl&gt;</th><th scope=col>&lt;dbl&gt;</th><th scope=col>&lt;chr&gt;</th><th scope=col>&lt;chr&gt;</th><th scope=col>&lt;chr&gt;</th><th scope=col>&lt;chr&gt;</th><th scope=col>&lt;chr&gt;</th><th scope=col>&lt;chr&gt;</th><th scope=col>&lt;chr&gt;</th></tr>\n",
       "</thead>\n",
       "<tbody>\n",
       "\t<tr><th scope=row>1</th><td>JCd61259</td><td>131279859716</td><td>35</td><td>Presence of prosthetic heart valve                                </td><td> </td><td> </td><td></td><td></td><td> </td><td>Exempt from POA reporting</td></tr>\n",
       "\t<tr><th scope=row>2</th><td>JCd679d9</td><td>131064901435</td><td>34</td><td>Postsurgical percutaneous transluminal coronary angioplasty status</td><td> </td><td> </td><td></td><td></td><td> </td><td>Exempt from POA reporting</td></tr>\n",
       "\t<tr><th scope=row>3</th><td>JCd58338</td><td>131243342034</td><td>30</td><td>Failed kidney transplant                                          </td><td>N</td><td>N</td><td></td><td></td><td>N</td><td>                         </td></tr>\n",
       "\t<tr><th scope=row>4</th><td>JCd39c23</td><td>131240769940</td><td>40</td><td>Other disorders of bilirubin metabolism                           </td><td> </td><td> </td><td></td><td></td><td> </td><td>No                       </td></tr>\n",
       "\t<tr><th scope=row>5</th><td>JCde0d0a</td><td>131190623142</td><td>36</td><td>Other artificial openings of urinary tract status                 </td><td> </td><td> </td><td></td><td></td><td> </td><td>Exempt from POA reporting</td></tr>\n",
       "\t<tr><th scope=row>6</th><td>JCdda759</td><td>131219479387</td><td>30</td><td>Long term (current) use of oral hypoglycemic drugs                </td><td> </td><td> </td><td></td><td></td><td> </td><td>Exempt from POA reporting</td></tr>\n",
       "</tbody>\n",
       "</table>\n"
      ],
      "text/latex": [
       "A data.frame: 6 × 10\n",
       "\\begin{tabular}{r|llllllllll}\n",
       "  & anon\\_id & pat\\_enc\\_csn\\_id\\_coded & line & dx\\_name & primary & chronic & principal & hospital\\_pl & ed & present\\_on\\_adm\\\\\n",
       "  & <chr> & <dbl> & <dbl> & <chr> & <chr> & <chr> & <chr> & <chr> & <chr> & <chr>\\\\\n",
       "\\hline\n",
       "\t1 & JCd61259 & 131279859716 & 35 & Presence of prosthetic heart valve                                 &   &   &  &  &   & Exempt from POA reporting\\\\\n",
       "\t2 & JCd679d9 & 131064901435 & 34 & Postsurgical percutaneous transluminal coronary angioplasty status &   &   &  &  &   & Exempt from POA reporting\\\\\n",
       "\t3 & JCd58338 & 131243342034 & 30 & Failed kidney transplant                                           & N & N &  &  & N &                          \\\\\n",
       "\t4 & JCd39c23 & 131240769940 & 40 & Other disorders of bilirubin metabolism                            &   &   &  &  &   & No                       \\\\\n",
       "\t5 & JCde0d0a & 131190623142 & 36 & Other artificial openings of urinary tract status                  &   &   &  &  &   & Exempt from POA reporting\\\\\n",
       "\t6 & JCdda759 & 131219479387 & 30 & Long term (current) use of oral hypoglycemic drugs                 &   &   &  &  &   & Exempt from POA reporting\\\\\n",
       "\\end{tabular}\n"
      ],
      "text/markdown": [
       "\n",
       "A data.frame: 6 × 10\n",
       "\n",
       "| <!--/--> | anon_id &lt;chr&gt; | pat_enc_csn_id_coded &lt;dbl&gt; | line &lt;dbl&gt; | dx_name &lt;chr&gt; | primary &lt;chr&gt; | chronic &lt;chr&gt; | principal &lt;chr&gt; | hospital_pl &lt;chr&gt; | ed &lt;chr&gt; | present_on_adm &lt;chr&gt; |\n",
       "|---|---|---|---|---|---|---|---|---|---|---|\n",
       "| 1 | JCd61259 | 131279859716 | 35 | Presence of prosthetic heart valve                                 | <!----> | <!----> | <!----> | <!----> | <!----> | Exempt from POA reporting |\n",
       "| 2 | JCd679d9 | 131064901435 | 34 | Postsurgical percutaneous transluminal coronary angioplasty status | <!----> | <!----> | <!----> | <!----> | <!----> | Exempt from POA reporting |\n",
       "| 3 | JCd58338 | 131243342034 | 30 | Failed kidney transplant                                           | N | N | <!----> | <!----> | N | <!----> |\n",
       "| 4 | JCd39c23 | 131240769940 | 40 | Other disorders of bilirubin metabolism                            | <!----> | <!----> | <!----> | <!----> | <!----> | No                        |\n",
       "| 5 | JCde0d0a | 131190623142 | 36 | Other artificial openings of urinary tract status                  | <!----> | <!----> | <!----> | <!----> | <!----> | Exempt from POA reporting |\n",
       "| 6 | JCdda759 | 131219479387 | 30 | Long term (current) use of oral hypoglycemic drugs                 | <!----> | <!----> | <!----> | <!----> | <!----> | Exempt from POA reporting |\n",
       "\n"
      ],
      "text/plain": [
       "  anon_id  pat_enc_csn_id_coded line\n",
       "1 JCd61259 131279859716         35  \n",
       "2 JCd679d9 131064901435         34  \n",
       "3 JCd58338 131243342034         30  \n",
       "4 JCd39c23 131240769940         40  \n",
       "5 JCde0d0a 131190623142         36  \n",
       "6 JCdda759 131219479387         30  \n",
       "  dx_name                                                            primary\n",
       "1 Presence of prosthetic heart valve                                        \n",
       "2 Postsurgical percutaneous transluminal coronary angioplasty status        \n",
       "3 Failed kidney transplant                                           N      \n",
       "4 Other disorders of bilirubin metabolism                                   \n",
       "5 Other artificial openings of urinary tract status                         \n",
       "6 Long term (current) use of oral hypoglycemic drugs                        \n",
       "  chronic principal hospital_pl ed present_on_adm           \n",
       "1                                  Exempt from POA reporting\n",
       "2                                  Exempt from POA reporting\n",
       "3 N                             N                           \n",
       "4                                  No                       \n",
       "5                                  Exempt from POA reporting\n",
       "6                                  Exempt from POA reporting"
      ]
     },
     "metadata": {},
     "output_type": "display_data"
    }
   ],
   "source": [
    "head(dx)"
   ]
  },
  {
   "cell_type": "code",
   "execution_count": 77,
   "metadata": {},
   "outputs": [
    {
     "data": {
      "text/html": [
       "<table class=\"dataframe\">\n",
       "<caption>A data.frame: 20 × 3</caption>\n",
       "<thead>\n",
       "\t<tr><th></th><th scope=col>dx_name</th><th scope=col>n</th><th scope=col>perc</th></tr>\n",
       "\t<tr><th></th><th scope=col>&lt;chr&gt;</th><th scope=col>&lt;int&gt;</th><th scope=col>&lt;dbl&gt;</th></tr>\n",
       "</thead>\n",
       "<tbody>\n",
       "\t<tr><th scope=row>1</th><td>Other long term (current) drug therapy                                         </td><td>12409</td><td>28.25</td></tr>\n",
       "\t<tr><th scope=row>2</th><td>Hyperlipidemia, unspecified                                                    </td><td>11532</td><td>26.25</td></tr>\n",
       "\t<tr><th scope=row>3</th><td>Essential (primary) hypertension                                               </td><td>10691</td><td>24.34</td></tr>\n",
       "\t<tr><th scope=row>4</th><td>Personal history of nicotine dependence                                        </td><td> 9969</td><td>22.69</td></tr>\n",
       "\t<tr><th scope=row>5</th><td>Long term (current) use of aspirin                                             </td><td> 7188</td><td>16.36</td></tr>\n",
       "\t<tr><th scope=row>6</th><td>Gastro-esophageal reflux disease without esophagitis                           </td><td> 6725</td><td>15.31</td></tr>\n",
       "\t<tr><th scope=row>7</th><td>Acute kidney failure, unspecified                                              </td><td> 6538</td><td>14.88</td></tr>\n",
       "\t<tr><th scope=row>8</th><td>Major depressive disorder, single episode, unspecified                         </td><td> 5719</td><td>13.02</td></tr>\n",
       "\t<tr><th scope=row>9</th><td>Long term (current) use of anticoagulants                                      </td><td> 5456</td><td>12.42</td></tr>\n",
       "\t<tr><th scope=row>10</th><td>Atherosclerotic heart disease of native coronary artery without angina pectoris</td><td> 5429</td><td>12.36</td></tr>\n",
       "\t<tr><th scope=row>11</th><td>Shortness of breath                                                            </td><td> 5389</td><td>12.27</td></tr>\n",
       "\t<tr><th scope=row>12</th><td>Hypo-osmolality and hyponatremia                                               </td><td> 5119</td><td>11.65</td></tr>\n",
       "\t<tr><th scope=row>13</th><td>Other chronic pain                                                             </td><td> 4606</td><td>10.48</td></tr>\n",
       "\t<tr><th scope=row>14</th><td>Hypothyroidism, unspecified                                                    </td><td> 4556</td><td>10.37</td></tr>\n",
       "\t<tr><th scope=row>15</th><td>Obstructive sleep apnea (adult) (pediatric)                                    </td><td> 4416</td><td>10.05</td></tr>\n",
       "\t<tr><th scope=row>16</th><td>Long term (current) use of insulin                                             </td><td> 4385</td><td> 9.98</td></tr>\n",
       "\t<tr><th scope=row>17</th><td>Anxiety disorder, unspecified                                                  </td><td> 4262</td><td> 9.70</td></tr>\n",
       "\t<tr><th scope=row>18</th><td>Allergy status to other drugs, medicaments and biological substances status    </td><td> 3925</td><td> 8.93</td></tr>\n",
       "\t<tr><th scope=row>19</th><td>Sepsis, unspecified organism                                                   </td><td> 3850</td><td> 8.76</td></tr>\n",
       "\t<tr><th scope=row>20</th><td>Hypokalemia                                                                    </td><td> 3792</td><td> 8.63</td></tr>\n",
       "</tbody>\n",
       "</table>\n"
      ],
      "text/latex": [
       "A data.frame: 20 × 3\n",
       "\\begin{tabular}{r|lll}\n",
       "  & dx\\_name & n & perc\\\\\n",
       "  & <chr> & <int> & <dbl>\\\\\n",
       "\\hline\n",
       "\t1 & Other long term (current) drug therapy                                          & 12409 & 28.25\\\\\n",
       "\t2 & Hyperlipidemia, unspecified                                                     & 11532 & 26.25\\\\\n",
       "\t3 & Essential (primary) hypertension                                                & 10691 & 24.34\\\\\n",
       "\t4 & Personal history of nicotine dependence                                         &  9969 & 22.69\\\\\n",
       "\t5 & Long term (current) use of aspirin                                              &  7188 & 16.36\\\\\n",
       "\t6 & Gastro-esophageal reflux disease without esophagitis                            &  6725 & 15.31\\\\\n",
       "\t7 & Acute kidney failure, unspecified                                               &  6538 & 14.88\\\\\n",
       "\t8 & Major depressive disorder, single episode, unspecified                          &  5719 & 13.02\\\\\n",
       "\t9 & Long term (current) use of anticoagulants                                       &  5456 & 12.42\\\\\n",
       "\t10 & Atherosclerotic heart disease of native coronary artery without angina pectoris &  5429 & 12.36\\\\\n",
       "\t11 & Shortness of breath                                                             &  5389 & 12.27\\\\\n",
       "\t12 & Hypo-osmolality and hyponatremia                                                &  5119 & 11.65\\\\\n",
       "\t13 & Other chronic pain                                                              &  4606 & 10.48\\\\\n",
       "\t14 & Hypothyroidism, unspecified                                                     &  4556 & 10.37\\\\\n",
       "\t15 & Obstructive sleep apnea (adult) (pediatric)                                     &  4416 & 10.05\\\\\n",
       "\t16 & Long term (current) use of insulin                                              &  4385 &  9.98\\\\\n",
       "\t17 & Anxiety disorder, unspecified                                                   &  4262 &  9.70\\\\\n",
       "\t18 & Allergy status to other drugs, medicaments and biological substances status     &  3925 &  8.93\\\\\n",
       "\t19 & Sepsis, unspecified organism                                                    &  3850 &  8.76\\\\\n",
       "\t20 & Hypokalemia                                                                     &  3792 &  8.63\\\\\n",
       "\\end{tabular}\n"
      ],
      "text/markdown": [
       "\n",
       "A data.frame: 20 × 3\n",
       "\n",
       "| <!--/--> | dx_name &lt;chr&gt; | n &lt;int&gt; | perc &lt;dbl&gt; |\n",
       "|---|---|---|---|\n",
       "| 1 | Other long term (current) drug therapy                                          | 12409 | 28.25 |\n",
       "| 2 | Hyperlipidemia, unspecified                                                     | 11532 | 26.25 |\n",
       "| 3 | Essential (primary) hypertension                                                | 10691 | 24.34 |\n",
       "| 4 | Personal history of nicotine dependence                                         |  9969 | 22.69 |\n",
       "| 5 | Long term (current) use of aspirin                                              |  7188 | 16.36 |\n",
       "| 6 | Gastro-esophageal reflux disease without esophagitis                            |  6725 | 15.31 |\n",
       "| 7 | Acute kidney failure, unspecified                                               |  6538 | 14.88 |\n",
       "| 8 | Major depressive disorder, single episode, unspecified                          |  5719 | 13.02 |\n",
       "| 9 | Long term (current) use of anticoagulants                                       |  5456 | 12.42 |\n",
       "| 10 | Atherosclerotic heart disease of native coronary artery without angina pectoris |  5429 | 12.36 |\n",
       "| 11 | Shortness of breath                                                             |  5389 | 12.27 |\n",
       "| 12 | Hypo-osmolality and hyponatremia                                                |  5119 | 11.65 |\n",
       "| 13 | Other chronic pain                                                              |  4606 | 10.48 |\n",
       "| 14 | Hypothyroidism, unspecified                                                     |  4556 | 10.37 |\n",
       "| 15 | Obstructive sleep apnea (adult) (pediatric)                                     |  4416 | 10.05 |\n",
       "| 16 | Long term (current) use of insulin                                              |  4385 |  9.98 |\n",
       "| 17 | Anxiety disorder, unspecified                                                   |  4262 |  9.70 |\n",
       "| 18 | Allergy status to other drugs, medicaments and biological substances status     |  3925 |  8.93 |\n",
       "| 19 | Sepsis, unspecified organism                                                    |  3850 |  8.76 |\n",
       "| 20 | Hypokalemia                                                                     |  3792 |  8.63 |\n",
       "\n"
      ],
      "text/plain": [
       "   dx_name                                                                        \n",
       "1  Other long term (current) drug therapy                                         \n",
       "2  Hyperlipidemia, unspecified                                                    \n",
       "3  Essential (primary) hypertension                                               \n",
       "4  Personal history of nicotine dependence                                        \n",
       "5  Long term (current) use of aspirin                                             \n",
       "6  Gastro-esophageal reflux disease without esophagitis                           \n",
       "7  Acute kidney failure, unspecified                                              \n",
       "8  Major depressive disorder, single episode, unspecified                         \n",
       "9  Long term (current) use of anticoagulants                                      \n",
       "10 Atherosclerotic heart disease of native coronary artery without angina pectoris\n",
       "11 Shortness of breath                                                            \n",
       "12 Hypo-osmolality and hyponatremia                                               \n",
       "13 Other chronic pain                                                             \n",
       "14 Hypothyroidism, unspecified                                                    \n",
       "15 Obstructive sleep apnea (adult) (pediatric)                                    \n",
       "16 Long term (current) use of insulin                                             \n",
       "17 Anxiety disorder, unspecified                                                  \n",
       "18 Allergy status to other drugs, medicaments and biological substances status    \n",
       "19 Sepsis, unspecified organism                                                   \n",
       "20 Hypokalemia                                                                    \n",
       "   n     perc \n",
       "1  12409 28.25\n",
       "2  11532 26.25\n",
       "3  10691 24.34\n",
       "4   9969 22.69\n",
       "5   7188 16.36\n",
       "6   6725 15.31\n",
       "7   6538 14.88\n",
       "8   5719 13.02\n",
       "9   5456 12.42\n",
       "10  5429 12.36\n",
       "11  5389 12.27\n",
       "12  5119 11.65\n",
       "13  4606 10.48\n",
       "14  4556 10.37\n",
       "15  4416 10.05\n",
       "16  4385  9.98\n",
       "17  4262  9.70\n",
       "18  3925  8.93\n",
       "19  3850  8.76\n",
       "20  3792  8.63"
      ]
     },
     "metadata": {},
     "output_type": "display_data"
    }
   ],
   "source": [
    "dx %>% distinct(pat_enc_csn_id_coded, dx_name) %>% count(dx_name) %>% \n",
    "    mutate(perc = round(100*n/ndx, 2)) %>% arrange(-n) %>% head(20)"
   ]
  },
  {
   "cell_type": "code",
   "execution_count": 78,
   "metadata": {},
   "outputs": [
    {
     "data": {
      "text/html": [
       "<table class=\"dataframe\">\n",
       "<caption>A data.frame: 20 × 3</caption>\n",
       "<thead>\n",
       "\t<tr><th></th><th scope=col>dx_name</th><th scope=col>n</th><th scope=col>perc</th></tr>\n",
       "\t<tr><th></th><th scope=col>&lt;chr&gt;</th><th scope=col>&lt;int&gt;</th><th scope=col>&lt;dbl&gt;</th></tr>\n",
       "</thead>\n",
       "<tbody>\n",
       "\t<tr><th scope=row>1</th><td>Suicidal ideation                                                  </td><td>407</td><td>0.93</td></tr>\n",
       "\t<tr><th scope=row>2</th><td>Pneumonia due to organism                                          </td><td>302</td><td>0.69</td></tr>\n",
       "\t<tr><th scope=row>3</th><td>Sepsis, due to unspecified organism                                </td><td>277</td><td>0.63</td></tr>\n",
       "\t<tr><th scope=row>4</th><td>Hyponatremia                                                       </td><td>274</td><td>0.62</td></tr>\n",
       "\t<tr><th scope=row>5</th><td>Non-ST elevation myocardial infarction (NSTEMI) (CMS-HCC)          </td><td>227</td><td>0.52</td></tr>\n",
       "\t<tr><th scope=row>6</th><td>SBO (small bowel obstruction) (CMS-HCC)                            </td><td>222</td><td>0.51</td></tr>\n",
       "\t<tr><th scope=row>7</th><td>Acute chest pain                                                   </td><td>211</td><td>0.48</td></tr>\n",
       "\t<tr><th scope=row>8</th><td>Small bowel obstruction (CMS-HCC)                                  </td><td>205</td><td>0.47</td></tr>\n",
       "\t<tr><th scope=row>9</th><td>Neutropenic fever (CMS-HCC)                                        </td><td>194</td><td>0.44</td></tr>\n",
       "\t<tr><th scope=row>10</th><td>Acute GI bleeding                                                  </td><td>190</td><td>0.43</td></tr>\n",
       "\t<tr><th scope=row>11</th><td>Shortness of breath                                                </td><td>186</td><td>0.42</td></tr>\n",
       "\t<tr><th scope=row>12</th><td>Altered mental status, unspecified altered mental status type      </td><td>172</td><td>0.39</td></tr>\n",
       "\t<tr><th scope=row>13</th><td>Acute kidney injury (nontraumatic) (CMS-HCC)                       </td><td>156</td><td>0.36</td></tr>\n",
       "\t<tr><th scope=row>14</th><td>COPD with acute exacerbation (CMS-HCC)                             </td><td>143</td><td>0.33</td></tr>\n",
       "\t<tr><th scope=row>15</th><td>Fever, unspecified fever cause                                     </td><td>139</td><td>0.32</td></tr>\n",
       "\t<tr><th scope=row>16</th><td>Acute renal failure, unspecified acute renal failure type (CMS-HCC)</td><td>134</td><td>0.31</td></tr>\n",
       "\t<tr><th scope=row>17</th><td>Fever and other physiologic disturbances of temperature regulation </td><td>125</td><td>0.28</td></tr>\n",
       "\t<tr><th scope=row>18</th><td>Psychosis, unspecified psychosis type (CMS-HCC)                    </td><td>123</td><td>0.28</td></tr>\n",
       "\t<tr><th scope=row>19</th><td>Generalized abdominal pain                                         </td><td>119</td><td>0.27</td></tr>\n",
       "\t<tr><th scope=row>20</th><td>Acute pyelonephritis                                               </td><td>114</td><td>0.26</td></tr>\n",
       "</tbody>\n",
       "</table>\n"
      ],
      "text/latex": [
       "A data.frame: 20 × 3\n",
       "\\begin{tabular}{r|lll}\n",
       "  & dx\\_name & n & perc\\\\\n",
       "  & <chr> & <int> & <dbl>\\\\\n",
       "\\hline\n",
       "\t1 & Suicidal ideation                                                   & 407 & 0.93\\\\\n",
       "\t2 & Pneumonia due to organism                                           & 302 & 0.69\\\\\n",
       "\t3 & Sepsis, due to unspecified organism                                 & 277 & 0.63\\\\\n",
       "\t4 & Hyponatremia                                                        & 274 & 0.62\\\\\n",
       "\t5 & Non-ST elevation myocardial infarction (NSTEMI) (CMS-HCC)           & 227 & 0.52\\\\\n",
       "\t6 & SBO (small bowel obstruction) (CMS-HCC)                             & 222 & 0.51\\\\\n",
       "\t7 & Acute chest pain                                                    & 211 & 0.48\\\\\n",
       "\t8 & Small bowel obstruction (CMS-HCC)                                   & 205 & 0.47\\\\\n",
       "\t9 & Neutropenic fever (CMS-HCC)                                         & 194 & 0.44\\\\\n",
       "\t10 & Acute GI bleeding                                                   & 190 & 0.43\\\\\n",
       "\t11 & Shortness of breath                                                 & 186 & 0.42\\\\\n",
       "\t12 & Altered mental status, unspecified altered mental status type       & 172 & 0.39\\\\\n",
       "\t13 & Acute kidney injury (nontraumatic) (CMS-HCC)                        & 156 & 0.36\\\\\n",
       "\t14 & COPD with acute exacerbation (CMS-HCC)                              & 143 & 0.33\\\\\n",
       "\t15 & Fever, unspecified fever cause                                      & 139 & 0.32\\\\\n",
       "\t16 & Acute renal failure, unspecified acute renal failure type (CMS-HCC) & 134 & 0.31\\\\\n",
       "\t17 & Fever and other physiologic disturbances of temperature regulation  & 125 & 0.28\\\\\n",
       "\t18 & Psychosis, unspecified psychosis type (CMS-HCC)                     & 123 & 0.28\\\\\n",
       "\t19 & Generalized abdominal pain                                          & 119 & 0.27\\\\\n",
       "\t20 & Acute pyelonephritis                                                & 114 & 0.26\\\\\n",
       "\\end{tabular}\n"
      ],
      "text/markdown": [
       "\n",
       "A data.frame: 20 × 3\n",
       "\n",
       "| <!--/--> | dx_name &lt;chr&gt; | n &lt;int&gt; | perc &lt;dbl&gt; |\n",
       "|---|---|---|---|\n",
       "| 1 | Suicidal ideation                                                   | 407 | 0.93 |\n",
       "| 2 | Pneumonia due to organism                                           | 302 | 0.69 |\n",
       "| 3 | Sepsis, due to unspecified organism                                 | 277 | 0.63 |\n",
       "| 4 | Hyponatremia                                                        | 274 | 0.62 |\n",
       "| 5 | Non-ST elevation myocardial infarction (NSTEMI) (CMS-HCC)           | 227 | 0.52 |\n",
       "| 6 | SBO (small bowel obstruction) (CMS-HCC)                             | 222 | 0.51 |\n",
       "| 7 | Acute chest pain                                                    | 211 | 0.48 |\n",
       "| 8 | Small bowel obstruction (CMS-HCC)                                   | 205 | 0.47 |\n",
       "| 9 | Neutropenic fever (CMS-HCC)                                         | 194 | 0.44 |\n",
       "| 10 | Acute GI bleeding                                                   | 190 | 0.43 |\n",
       "| 11 | Shortness of breath                                                 | 186 | 0.42 |\n",
       "| 12 | Altered mental status, unspecified altered mental status type       | 172 | 0.39 |\n",
       "| 13 | Acute kidney injury (nontraumatic) (CMS-HCC)                        | 156 | 0.36 |\n",
       "| 14 | COPD with acute exacerbation (CMS-HCC)                              | 143 | 0.33 |\n",
       "| 15 | Fever, unspecified fever cause                                      | 139 | 0.32 |\n",
       "| 16 | Acute renal failure, unspecified acute renal failure type (CMS-HCC) | 134 | 0.31 |\n",
       "| 17 | Fever and other physiologic disturbances of temperature regulation  | 125 | 0.28 |\n",
       "| 18 | Psychosis, unspecified psychosis type (CMS-HCC)                     | 123 | 0.28 |\n",
       "| 19 | Generalized abdominal pain                                          | 119 | 0.27 |\n",
       "| 20 | Acute pyelonephritis                                                | 114 | 0.26 |\n",
       "\n"
      ],
      "text/plain": [
       "   dx_name                                                             n   perc\n",
       "1  Suicidal ideation                                                   407 0.93\n",
       "2  Pneumonia due to organism                                           302 0.69\n",
       "3  Sepsis, due to unspecified organism                                 277 0.63\n",
       "4  Hyponatremia                                                        274 0.62\n",
       "5  Non-ST elevation myocardial infarction (NSTEMI) (CMS-HCC)           227 0.52\n",
       "6  SBO (small bowel obstruction) (CMS-HCC)                             222 0.51\n",
       "7  Acute chest pain                                                    211 0.48\n",
       "8  Small bowel obstruction (CMS-HCC)                                   205 0.47\n",
       "9  Neutropenic fever (CMS-HCC)                                         194 0.44\n",
       "10 Acute GI bleeding                                                   190 0.43\n",
       "11 Shortness of breath                                                 186 0.42\n",
       "12 Altered mental status, unspecified altered mental status type       172 0.39\n",
       "13 Acute kidney injury (nontraumatic) (CMS-HCC)                        156 0.36\n",
       "14 COPD with acute exacerbation (CMS-HCC)                              143 0.33\n",
       "15 Fever, unspecified fever cause                                      139 0.32\n",
       "16 Acute renal failure, unspecified acute renal failure type (CMS-HCC) 134 0.31\n",
       "17 Fever and other physiologic disturbances of temperature regulation  125 0.28\n",
       "18 Psychosis, unspecified psychosis type (CMS-HCC)                     123 0.28\n",
       "19 Generalized abdominal pain                                          119 0.27\n",
       "20 Acute pyelonephritis                                                114 0.26"
      ]
     },
     "metadata": {},
     "output_type": "display_data"
    }
   ],
   "source": [
    "# dx present in the ED and identified as the primary problems\n",
    "dx %>% filter(ed==\"Y\", primary==\"Y\") %>% distinct(pat_enc_csn_id_coded, dx_name) %>% count(dx_name) %>% \n",
    "    mutate(perc = round(100*n/ndx, 2)) %>% arrange(-n) %>% head(20)"
   ]
  },
  {
   "cell_type": "code",
   "execution_count": 47,
   "metadata": {},
   "outputs": [
    {
     "data": {
      "text/html": [
       "0.929971988795518"
      ],
      "text/latex": [
       "0.929971988795518"
      ],
      "text/markdown": [
       "0.929971988795518"
      ],
      "text/plain": [
       "[1] 0.929972"
      ]
     },
     "metadata": {},
     "output_type": "display_data"
    }
   ],
   "source": [
    "# percentage of unique patients among all transfers\n",
    "2324/2499"
   ]
  },
  {
   "cell_type": "code",
   "execution_count": 112,
   "metadata": {},
   "outputs": [
    {
     "name": "stderr",
     "output_type": "stream",
     "text": [
      "Joining, by = c(\"anon_id\", \"pat_enc_csn_id_coded\")\n",
      "\n"
     ]
    },
    {
     "data": {
      "text/html": [
       "83447"
      ],
      "text/latex": [
       "83447"
      ],
      "text/markdown": [
       "83447"
      ],
      "text/plain": [
       "[1] 83447"
      ]
     },
     "metadata": {},
     "output_type": "display_data"
    },
    {
     "data": {
      "text/html": [
       "<style>\n",
       ".list-inline {list-style: none; margin:0; padding: 0}\n",
       ".list-inline>li {display: inline-block}\n",
       ".list-inline>li:not(:last-child)::after {content: \"\\00b7\"; padding: 0 .5ex}\n",
       "</style>\n",
       "<ol class=list-inline><li>'anon_id'</li><li>'pat_enc_csn_id_coded'</li><li>'inpatient_data_id_coded'</li><li>'admit_time'</li><li>'label_max24'</li><li>'label_24hr_recent'</li><li>'admit_label'</li><li>'has_admit_label'</li><li>'died_within_24hrs'</li><li>'death_24hr_max_label'</li><li>'death_24hr_recent_label'</li><li>'first_label'</li><li>'first_label_minutes_since_admit'</li><li>'acute_to_critical_label_recent'</li><li>'critical_to_acute_label_recent'</li><li>'acute_to_critical_label_max'</li><li>'critical_to_acute_label_max'</li><li>'line'</li><li>'dx_name'</li><li>'primary'</li><li>'chronic'</li><li>'principal'</li><li>'hospital_pl'</li><li>'ed'</li><li>'present_on_adm'</li></ol>\n"
      ],
      "text/latex": [
       "\\begin{enumerate*}\n",
       "\\item 'anon\\_id'\n",
       "\\item 'pat\\_enc\\_csn\\_id\\_coded'\n",
       "\\item 'inpatient\\_data\\_id\\_coded'\n",
       "\\item 'admit\\_time'\n",
       "\\item 'label\\_max24'\n",
       "\\item 'label\\_24hr\\_recent'\n",
       "\\item 'admit\\_label'\n",
       "\\item 'has\\_admit\\_label'\n",
       "\\item 'died\\_within\\_24hrs'\n",
       "\\item 'death\\_24hr\\_max\\_label'\n",
       "\\item 'death\\_24hr\\_recent\\_label'\n",
       "\\item 'first\\_label'\n",
       "\\item 'first\\_label\\_minutes\\_since\\_admit'\n",
       "\\item 'acute\\_to\\_critical\\_label\\_recent'\n",
       "\\item 'critical\\_to\\_acute\\_label\\_recent'\n",
       "\\item 'acute\\_to\\_critical\\_label\\_max'\n",
       "\\item 'critical\\_to\\_acute\\_label\\_max'\n",
       "\\item 'line'\n",
       "\\item 'dx\\_name'\n",
       "\\item 'primary'\n",
       "\\item 'chronic'\n",
       "\\item 'principal'\n",
       "\\item 'hospital\\_pl'\n",
       "\\item 'ed'\n",
       "\\item 'present\\_on\\_adm'\n",
       "\\end{enumerate*}\n"
      ],
      "text/markdown": [
       "1. 'anon_id'\n",
       "2. 'pat_enc_csn_id_coded'\n",
       "3. 'inpatient_data_id_coded'\n",
       "4. 'admit_time'\n",
       "5. 'label_max24'\n",
       "6. 'label_24hr_recent'\n",
       "7. 'admit_label'\n",
       "8. 'has_admit_label'\n",
       "9. 'died_within_24hrs'\n",
       "10. 'death_24hr_max_label'\n",
       "11. 'death_24hr_recent_label'\n",
       "12. 'first_label'\n",
       "13. 'first_label_minutes_since_admit'\n",
       "14. 'acute_to_critical_label_recent'\n",
       "15. 'critical_to_acute_label_recent'\n",
       "16. 'acute_to_critical_label_max'\n",
       "17. 'critical_to_acute_label_max'\n",
       "18. 'line'\n",
       "19. 'dx_name'\n",
       "20. 'primary'\n",
       "21. 'chronic'\n",
       "22. 'principal'\n",
       "23. 'hospital_pl'\n",
       "24. 'ed'\n",
       "25. 'present_on_adm'\n",
       "\n",
       "\n"
      ],
      "text/plain": [
       " [1] \"anon_id\"                         \"pat_enc_csn_id_coded\"           \n",
       " [3] \"inpatient_data_id_coded\"         \"admit_time\"                     \n",
       " [5] \"label_max24\"                     \"label_24hr_recent\"              \n",
       " [7] \"admit_label\"                     \"has_admit_label\"                \n",
       " [9] \"died_within_24hrs\"               \"death_24hr_max_label\"           \n",
       "[11] \"death_24hr_recent_label\"         \"first_label\"                    \n",
       "[13] \"first_label_minutes_since_admit\" \"acute_to_critical_label_recent\" \n",
       "[15] \"critical_to_acute_label_recent\"  \"acute_to_critical_label_max\"    \n",
       "[17] \"critical_to_acute_label_max\"     \"line\"                           \n",
       "[19] \"dx_name\"                         \"primary\"                        \n",
       "[21] \"chronic\"                         \"principal\"                      \n",
       "[23] \"hospital_pl\"                     \"ed\"                             \n",
       "[25] \"present_on_adm\"                 "
      ]
     },
     "metadata": {},
     "output_type": "display_data"
    },
    {
     "data": {
      "text/html": [
       "2499"
      ],
      "text/latex": [
       "2499"
      ],
      "text/markdown": [
       "2499"
      ],
      "text/plain": [
       "[1] 2499"
      ]
     },
     "metadata": {},
     "output_type": "display_data"
    },
    {
     "data": {
      "text/html": [
       "2324"
      ],
      "text/latex": [
       "2324"
      ],
      "text/markdown": [
       "2324"
      ],
      "text/plain": [
       "[1] 2324"
      ]
     },
     "metadata": {},
     "output_type": "display_data"
    },
    {
     "data": {
      "text/html": [
       "76015"
      ],
      "text/latex": [
       "76015"
      ],
      "text/markdown": [
       "76015"
      ],
      "text/plain": [
       "[1] 76015"
      ]
     },
     "metadata": {},
     "output_type": "display_data"
    },
    {
     "data": {
      "text/html": [
       "<table class=\"dataframe\">\n",
       "<caption>A data.frame: 20 × 3</caption>\n",
       "<thead>\n",
       "\t<tr><th></th><th scope=col>dx_name</th><th scope=col>n</th><th scope=col>perc</th></tr>\n",
       "\t<tr><th></th><th scope=col>&lt;chr&gt;</th><th scope=col>&lt;int&gt;</th><th scope=col>&lt;dbl&gt;</th></tr>\n",
       "</thead>\n",
       "<tbody>\n",
       "\t<tr><th scope=row>1</th><td>Hyperlipidemia, unspecified                                                    </td><td>795</td><td>6.80</td></tr>\n",
       "\t<tr><th scope=row>2</th><td>Other long term (current) drug therapy                                         </td><td>723</td><td>6.18</td></tr>\n",
       "\t<tr><th scope=row>3</th><td>Essential (primary) hypertension                                               </td><td>687</td><td>5.88</td></tr>\n",
       "\t<tr><th scope=row>4</th><td>Personal history of nicotine dependence                                        </td><td>598</td><td>5.11</td></tr>\n",
       "\t<tr><th scope=row>5</th><td>Long term (current) use of aspirin                                             </td><td>528</td><td>4.52</td></tr>\n",
       "\t<tr><th scope=row>6</th><td>Acute kidney failure, unspecified                                              </td><td>492</td><td>4.21</td></tr>\n",
       "\t<tr><th scope=row>7</th><td>Acidosis                                                                       </td><td>472</td><td>4.04</td></tr>\n",
       "\t<tr><th scope=row>8</th><td>Atherosclerotic heart disease of native coronary artery without angina pectoris</td><td>428</td><td>3.66</td></tr>\n",
       "\t<tr><th scope=row>9</th><td>Gastro-esophageal reflux disease without esophagitis                           </td><td>382</td><td>3.27</td></tr>\n",
       "\t<tr><th scope=row>10</th><td>Long term (current) use of anticoagulants                                      </td><td>368</td><td>3.15</td></tr>\n",
       "\t<tr><th scope=row>11</th><td>Hypo-osmolality and hyponatremia                                               </td><td>356</td><td>3.04</td></tr>\n",
       "\t<tr><th scope=row>12</th><td>Shortness of breath                                                            </td><td>356</td><td>3.04</td></tr>\n",
       "\t<tr><th scope=row>13</th><td>Sepsis, unspecified organism                                                   </td><td>354</td><td>3.03</td></tr>\n",
       "\t<tr><th scope=row>14</th><td>Long term (current) use of insulin                                             </td><td>328</td><td>2.81</td></tr>\n",
       "\t<tr><th scope=row>15</th><td>Major depressive disorder, single episode, unspecified                         </td><td>323</td><td>2.76</td></tr>\n",
       "\t<tr><th scope=row>16</th><td>Severe sepsis with septic shock                                                </td><td>305</td><td>2.61</td></tr>\n",
       "\t<tr><th scope=row>17</th><td>Hypokalemia                                                                    </td><td>297</td><td>2.54</td></tr>\n",
       "\t<tr><th scope=row>18</th><td>Encounter for immunization                                                     </td><td>288</td><td>2.46</td></tr>\n",
       "\t<tr><th scope=row>19</th><td>Obstructive sleep apnea (adult) (pediatric)                                    </td><td>286</td><td>2.45</td></tr>\n",
       "\t<tr><th scope=row>20</th><td>Paroxysmal atrial fibrillation                                                 </td><td>280</td><td>2.39</td></tr>\n",
       "</tbody>\n",
       "</table>\n"
      ],
      "text/latex": [
       "A data.frame: 20 × 3\n",
       "\\begin{tabular}{r|lll}\n",
       "  & dx\\_name & n & perc\\\\\n",
       "  & <chr> & <int> & <dbl>\\\\\n",
       "\\hline\n",
       "\t1 & Hyperlipidemia, unspecified                                                     & 795 & 6.80\\\\\n",
       "\t2 & Other long term (current) drug therapy                                          & 723 & 6.18\\\\\n",
       "\t3 & Essential (primary) hypertension                                                & 687 & 5.88\\\\\n",
       "\t4 & Personal history of nicotine dependence                                         & 598 & 5.11\\\\\n",
       "\t5 & Long term (current) use of aspirin                                              & 528 & 4.52\\\\\n",
       "\t6 & Acute kidney failure, unspecified                                               & 492 & 4.21\\\\\n",
       "\t7 & Acidosis                                                                        & 472 & 4.04\\\\\n",
       "\t8 & Atherosclerotic heart disease of native coronary artery without angina pectoris & 428 & 3.66\\\\\n",
       "\t9 & Gastro-esophageal reflux disease without esophagitis                            & 382 & 3.27\\\\\n",
       "\t10 & Long term (current) use of anticoagulants                                       & 368 & 3.15\\\\\n",
       "\t11 & Hypo-osmolality and hyponatremia                                                & 356 & 3.04\\\\\n",
       "\t12 & Shortness of breath                                                             & 356 & 3.04\\\\\n",
       "\t13 & Sepsis, unspecified organism                                                    & 354 & 3.03\\\\\n",
       "\t14 & Long term (current) use of insulin                                              & 328 & 2.81\\\\\n",
       "\t15 & Major depressive disorder, single episode, unspecified                          & 323 & 2.76\\\\\n",
       "\t16 & Severe sepsis with septic shock                                                 & 305 & 2.61\\\\\n",
       "\t17 & Hypokalemia                                                                     & 297 & 2.54\\\\\n",
       "\t18 & Encounter for immunization                                                      & 288 & 2.46\\\\\n",
       "\t19 & Obstructive sleep apnea (adult) (pediatric)                                     & 286 & 2.45\\\\\n",
       "\t20 & Paroxysmal atrial fibrillation                                                  & 280 & 2.39\\\\\n",
       "\\end{tabular}\n"
      ],
      "text/markdown": [
       "\n",
       "A data.frame: 20 × 3\n",
       "\n",
       "| <!--/--> | dx_name &lt;chr&gt; | n &lt;int&gt; | perc &lt;dbl&gt; |\n",
       "|---|---|---|---|\n",
       "| 1 | Hyperlipidemia, unspecified                                                     | 795 | 6.80 |\n",
       "| 2 | Other long term (current) drug therapy                                          | 723 | 6.18 |\n",
       "| 3 | Essential (primary) hypertension                                                | 687 | 5.88 |\n",
       "| 4 | Personal history of nicotine dependence                                         | 598 | 5.11 |\n",
       "| 5 | Long term (current) use of aspirin                                              | 528 | 4.52 |\n",
       "| 6 | Acute kidney failure, unspecified                                               | 492 | 4.21 |\n",
       "| 7 | Acidosis                                                                        | 472 | 4.04 |\n",
       "| 8 | Atherosclerotic heart disease of native coronary artery without angina pectoris | 428 | 3.66 |\n",
       "| 9 | Gastro-esophageal reflux disease without esophagitis                            | 382 | 3.27 |\n",
       "| 10 | Long term (current) use of anticoagulants                                       | 368 | 3.15 |\n",
       "| 11 | Hypo-osmolality and hyponatremia                                                | 356 | 3.04 |\n",
       "| 12 | Shortness of breath                                                             | 356 | 3.04 |\n",
       "| 13 | Sepsis, unspecified organism                                                    | 354 | 3.03 |\n",
       "| 14 | Long term (current) use of insulin                                              | 328 | 2.81 |\n",
       "| 15 | Major depressive disorder, single episode, unspecified                          | 323 | 2.76 |\n",
       "| 16 | Severe sepsis with septic shock                                                 | 305 | 2.61 |\n",
       "| 17 | Hypokalemia                                                                     | 297 | 2.54 |\n",
       "| 18 | Encounter for immunization                                                      | 288 | 2.46 |\n",
       "| 19 | Obstructive sleep apnea (adult) (pediatric)                                     | 286 | 2.45 |\n",
       "| 20 | Paroxysmal atrial fibrillation                                                  | 280 | 2.39 |\n",
       "\n"
      ],
      "text/plain": [
       "   dx_name                                                                        \n",
       "1  Hyperlipidemia, unspecified                                                    \n",
       "2  Other long term (current) drug therapy                                         \n",
       "3  Essential (primary) hypertension                                               \n",
       "4  Personal history of nicotine dependence                                        \n",
       "5  Long term (current) use of aspirin                                             \n",
       "6  Acute kidney failure, unspecified                                              \n",
       "7  Acidosis                                                                       \n",
       "8  Atherosclerotic heart disease of native coronary artery without angina pectoris\n",
       "9  Gastro-esophageal reflux disease without esophagitis                           \n",
       "10 Long term (current) use of anticoagulants                                      \n",
       "11 Hypo-osmolality and hyponatremia                                               \n",
       "12 Shortness of breath                                                            \n",
       "13 Sepsis, unspecified organism                                                   \n",
       "14 Long term (current) use of insulin                                             \n",
       "15 Major depressive disorder, single episode, unspecified                         \n",
       "16 Severe sepsis with septic shock                                                \n",
       "17 Hypokalemia                                                                    \n",
       "18 Encounter for immunization                                                     \n",
       "19 Obstructive sleep apnea (adult) (pediatric)                                    \n",
       "20 Paroxysmal atrial fibrillation                                                 \n",
       "   n   perc\n",
       "1  795 6.80\n",
       "2  723 6.18\n",
       "3  687 5.88\n",
       "4  598 5.11\n",
       "5  528 4.52\n",
       "6  492 4.21\n",
       "7  472 4.04\n",
       "8  428 3.66\n",
       "9  382 3.27\n",
       "10 368 3.15\n",
       "11 356 3.04\n",
       "12 356 3.04\n",
       "13 354 3.03\n",
       "14 328 2.81\n",
       "15 323 2.76\n",
       "16 305 2.61\n",
       "17 297 2.54\n",
       "18 288 2.46\n",
       "19 286 2.45\n",
       "20 280 2.39"
      ]
     },
     "metadata": {},
     "output_type": "display_data"
    }
   ],
   "source": [
    "# cohort transfers with diagnoses\n",
    "dx_tx <- left_join(cohort, dx)\n",
    "nrow(dx_tx)\n",
    "colnames(dx_tx)\n",
    "\n",
    "ntx = length(unique(dx_tx$pat_enc_csn_id_coded)) #2499\n",
    "ntx\n",
    "length(unique(dx_tx$anon_id)) # 2324\n",
    "\n",
    "ntxn = nrow(dx_tx %>% distinct(pat_enc_csn_id_coded, dx_name))\n",
    "ntxn\n",
    "\n",
    "# 11692\n",
    "dx_tx %>% distinct(pat_enc_csn_id_coded, dx_name) %>% count(dx_name, sort=TRUE) %>% \n",
    "    mutate(perc = round(100*n/11692, 2)) %>% head(20)"
   ]
  },
  {
   "cell_type": "code",
   "execution_count": 111,
   "metadata": {},
   "outputs": [
    {
     "data": {
      "text/html": [
       "<table class=\"dataframe\">\n",
       "<caption>A data.frame: 20 × 3</caption>\n",
       "<thead>\n",
       "\t<tr><th></th><th scope=col>dx_name</th><th scope=col>n</th><th scope=col>perc</th></tr>\n",
       "\t<tr><th></th><th scope=col>&lt;chr&gt;</th><th scope=col>&lt;int&gt;</th><th scope=col>&lt;dbl&gt;</th></tr>\n",
       "</thead>\n",
       "<tbody>\n",
       "\t<tr><th scope=row>1</th><td>Diabetic ketoacidosis without coma associated with type 1 diabetes mellitus (CMS-HCC)</td><td>37</td><td>6.99</td></tr>\n",
       "\t<tr><th scope=row>2</th><td>Septic shock (CMS-HCC)                                                               </td><td>27</td><td>5.10</td></tr>\n",
       "\t<tr><th scope=row>3</th><td>ST elevation myocardial infarction (STEMI), unspecified artery (CMS-HCC)             </td><td>27</td><td>5.10</td></tr>\n",
       "\t<tr><th scope=row>4</th><td>Sepsis, due to unspecified organism                                                  </td><td>26</td><td>4.91</td></tr>\n",
       "\t<tr><th scope=row>5</th><td>Hyperkalemia                                                                         </td><td>25</td><td>4.73</td></tr>\n",
       "\t<tr><th scope=row>6</th><td>Severe sepsis (CMS-HCC)                                                              </td><td>25</td><td>4.73</td></tr>\n",
       "\t<tr><th scope=row>7</th><td>Pneumonia due to organism                                                            </td><td>24</td><td>4.54</td></tr>\n",
       "\t<tr><th scope=row>8</th><td>Subdural hematoma (CMS-HCC)                                                          </td><td>24</td><td>4.54</td></tr>\n",
       "\t<tr><th scope=row>9</th><td>Hyponatremia                                                                         </td><td>20</td><td>3.78</td></tr>\n",
       "\t<tr><th scope=row>10</th><td>Acute GI bleeding                                                                    </td><td>19</td><td>3.59</td></tr>\n",
       "\t<tr><th scope=row>11</th><td>Non-ST elevation myocardial infarction (NSTEMI) (CMS-HCC)                            </td><td>16</td><td>3.02</td></tr>\n",
       "\t<tr><th scope=row>12</th><td>SAH (subarachnoid hemorrhage) (CMS-HCC)                                              </td><td>16</td><td>3.02</td></tr>\n",
       "\t<tr><th scope=row>13</th><td>Altered mental status, unspecified altered mental status type                        </td><td>14</td><td>2.65</td></tr>\n",
       "\t<tr><th scope=row>14</th><td>Closed fracture of multiple ribs of left side, initial encounter                     </td><td>14</td><td>2.65</td></tr>\n",
       "\t<tr><th scope=row>15</th><td>Closed fracture of multiple ribs of right side, initial encounter                    </td><td>14</td><td>2.65</td></tr>\n",
       "\t<tr><th scope=row>16</th><td>Diabetic ketoacidosis without coma associated with type 2 diabetes mellitus (CMS-HCC)</td><td>14</td><td>2.65</td></tr>\n",
       "\t<tr><th scope=row>17</th><td>Hypoxia                                                                              </td><td>14</td><td>2.65</td></tr>\n",
       "\t<tr><th scope=row>18</th><td>Acute chest pain                                                                     </td><td>13</td><td>2.46</td></tr>\n",
       "\t<tr><th scope=row>19</th><td>COPD with acute exacerbation (CMS-HCC)                                               </td><td>13</td><td>2.46</td></tr>\n",
       "\t<tr><th scope=row>20</th><td>Acute upper GI bleeding                                                              </td><td>12</td><td>2.27</td></tr>\n",
       "</tbody>\n",
       "</table>\n"
      ],
      "text/latex": [
       "A data.frame: 20 × 3\n",
       "\\begin{tabular}{r|lll}\n",
       "  & dx\\_name & n & perc\\\\\n",
       "  & <chr> & <int> & <dbl>\\\\\n",
       "\\hline\n",
       "\t1 & Diabetic ketoacidosis without coma associated with type 1 diabetes mellitus (CMS-HCC) & 37 & 6.99\\\\\n",
       "\t2 & Septic shock (CMS-HCC)                                                                & 27 & 5.10\\\\\n",
       "\t3 & ST elevation myocardial infarction (STEMI), unspecified artery (CMS-HCC)              & 27 & 5.10\\\\\n",
       "\t4 & Sepsis, due to unspecified organism                                                   & 26 & 4.91\\\\\n",
       "\t5 & Hyperkalemia                                                                          & 25 & 4.73\\\\\n",
       "\t6 & Severe sepsis (CMS-HCC)                                                               & 25 & 4.73\\\\\n",
       "\t7 & Pneumonia due to organism                                                             & 24 & 4.54\\\\\n",
       "\t8 & Subdural hematoma (CMS-HCC)                                                           & 24 & 4.54\\\\\n",
       "\t9 & Hyponatremia                                                                          & 20 & 3.78\\\\\n",
       "\t10 & Acute GI bleeding                                                                     & 19 & 3.59\\\\\n",
       "\t11 & Non-ST elevation myocardial infarction (NSTEMI) (CMS-HCC)                             & 16 & 3.02\\\\\n",
       "\t12 & SAH (subarachnoid hemorrhage) (CMS-HCC)                                               & 16 & 3.02\\\\\n",
       "\t13 & Altered mental status, unspecified altered mental status type                         & 14 & 2.65\\\\\n",
       "\t14 & Closed fracture of multiple ribs of left side, initial encounter                      & 14 & 2.65\\\\\n",
       "\t15 & Closed fracture of multiple ribs of right side, initial encounter                     & 14 & 2.65\\\\\n",
       "\t16 & Diabetic ketoacidosis without coma associated with type 2 diabetes mellitus (CMS-HCC) & 14 & 2.65\\\\\n",
       "\t17 & Hypoxia                                                                               & 14 & 2.65\\\\\n",
       "\t18 & Acute chest pain                                                                      & 13 & 2.46\\\\\n",
       "\t19 & COPD with acute exacerbation (CMS-HCC)                                                & 13 & 2.46\\\\\n",
       "\t20 & Acute upper GI bleeding                                                               & 12 & 2.27\\\\\n",
       "\\end{tabular}\n"
      ],
      "text/markdown": [
       "\n",
       "A data.frame: 20 × 3\n",
       "\n",
       "| <!--/--> | dx_name &lt;chr&gt; | n &lt;int&gt; | perc &lt;dbl&gt; |\n",
       "|---|---|---|---|\n",
       "| 1 | Diabetic ketoacidosis without coma associated with type 1 diabetes mellitus (CMS-HCC) | 37 | 6.99 |\n",
       "| 2 | Septic shock (CMS-HCC)                                                                | 27 | 5.10 |\n",
       "| 3 | ST elevation myocardial infarction (STEMI), unspecified artery (CMS-HCC)              | 27 | 5.10 |\n",
       "| 4 | Sepsis, due to unspecified organism                                                   | 26 | 4.91 |\n",
       "| 5 | Hyperkalemia                                                                          | 25 | 4.73 |\n",
       "| 6 | Severe sepsis (CMS-HCC)                                                               | 25 | 4.73 |\n",
       "| 7 | Pneumonia due to organism                                                             | 24 | 4.54 |\n",
       "| 8 | Subdural hematoma (CMS-HCC)                                                           | 24 | 4.54 |\n",
       "| 9 | Hyponatremia                                                                          | 20 | 3.78 |\n",
       "| 10 | Acute GI bleeding                                                                     | 19 | 3.59 |\n",
       "| 11 | Non-ST elevation myocardial infarction (NSTEMI) (CMS-HCC)                             | 16 | 3.02 |\n",
       "| 12 | SAH (subarachnoid hemorrhage) (CMS-HCC)                                               | 16 | 3.02 |\n",
       "| 13 | Altered mental status, unspecified altered mental status type                         | 14 | 2.65 |\n",
       "| 14 | Closed fracture of multiple ribs of left side, initial encounter                      | 14 | 2.65 |\n",
       "| 15 | Closed fracture of multiple ribs of right side, initial encounter                     | 14 | 2.65 |\n",
       "| 16 | Diabetic ketoacidosis without coma associated with type 2 diabetes mellitus (CMS-HCC) | 14 | 2.65 |\n",
       "| 17 | Hypoxia                                                                               | 14 | 2.65 |\n",
       "| 18 | Acute chest pain                                                                      | 13 | 2.46 |\n",
       "| 19 | COPD with acute exacerbation (CMS-HCC)                                                | 13 | 2.46 |\n",
       "| 20 | Acute upper GI bleeding                                                               | 12 | 2.27 |\n",
       "\n"
      ],
      "text/plain": [
       "   dx_name                                                                              \n",
       "1  Diabetic ketoacidosis without coma associated with type 1 diabetes mellitus (CMS-HCC)\n",
       "2  Septic shock (CMS-HCC)                                                               \n",
       "3  ST elevation myocardial infarction (STEMI), unspecified artery (CMS-HCC)             \n",
       "4  Sepsis, due to unspecified organism                                                  \n",
       "5  Hyperkalemia                                                                         \n",
       "6  Severe sepsis (CMS-HCC)                                                              \n",
       "7  Pneumonia due to organism                                                            \n",
       "8  Subdural hematoma (CMS-HCC)                                                          \n",
       "9  Hyponatremia                                                                         \n",
       "10 Acute GI bleeding                                                                    \n",
       "11 Non-ST elevation myocardial infarction (NSTEMI) (CMS-HCC)                            \n",
       "12 SAH (subarachnoid hemorrhage) (CMS-HCC)                                              \n",
       "13 Altered mental status, unspecified altered mental status type                        \n",
       "14 Closed fracture of multiple ribs of left side, initial encounter                     \n",
       "15 Closed fracture of multiple ribs of right side, initial encounter                    \n",
       "16 Diabetic ketoacidosis without coma associated with type 2 diabetes mellitus (CMS-HCC)\n",
       "17 Hypoxia                                                                              \n",
       "18 Acute chest pain                                                                     \n",
       "19 COPD with acute exacerbation (CMS-HCC)                                               \n",
       "20 Acute upper GI bleeding                                                              \n",
       "   n  perc\n",
       "1  37 6.99\n",
       "2  27 5.10\n",
       "3  27 5.10\n",
       "4  26 4.91\n",
       "5  25 4.73\n",
       "6  25 4.73\n",
       "7  24 4.54\n",
       "8  24 4.54\n",
       "9  20 3.78\n",
       "10 19 3.59\n",
       "11 16 3.02\n",
       "12 16 3.02\n",
       "13 14 2.65\n",
       "14 14 2.65\n",
       "15 14 2.65\n",
       "16 14 2.65\n",
       "17 14 2.65\n",
       "18 13 2.46\n",
       "19 13 2.46\n",
       "20 12 2.27"
      ]
     },
     "metadata": {},
     "output_type": "display_data"
    }
   ],
   "source": [
    "#529\n",
    "dx_tx %>% filter(ed==\"Y\", primary==\"Y\") %>% distinct(pat_enc_csn_id_coded, dx_name) %>% \n",
    "            count(dx_name, sort=TRUE) %>% \n",
    "            mutate(perc = round(100*n/529, 2)) %>% head(20)"
   ]
  },
  {
   "cell_type": "code",
   "execution_count": 109,
   "metadata": {},
   "outputs": [
    {
     "data": {
      "text/html": [
       "<table class=\"dataframe\">\n",
       "<caption>A data.frame: 20 × 3</caption>\n",
       "<thead>\n",
       "\t<tr><th></th><th scope=col>dx_name</th><th scope=col>n</th><th scope=col>perc</th></tr>\n",
       "\t<tr><th></th><th scope=col>&lt;chr&gt;</th><th scope=col>&lt;int&gt;</th><th scope=col>&lt;dbl&gt;</th></tr>\n",
       "</thead>\n",
       "<tbody>\n",
       "\t<tr><th scope=row>1</th><td>Hyperlipidemia, unspecified                                                    </td><td>510</td><td>6.39</td></tr>\n",
       "\t<tr><th scope=row>2</th><td>Essential (primary) hypertension                                               </td><td>469</td><td>5.88</td></tr>\n",
       "\t<tr><th scope=row>3</th><td>Other long term (current) drug therapy                                         </td><td>442</td><td>5.54</td></tr>\n",
       "\t<tr><th scope=row>4</th><td>Personal history of nicotine dependence                                        </td><td>345</td><td>4.32</td></tr>\n",
       "\t<tr><th scope=row>5</th><td>Long term (current) use of aspirin                                             </td><td>322</td><td>4.04</td></tr>\n",
       "\t<tr><th scope=row>6</th><td>Acute kidney failure, unspecified                                              </td><td>249</td><td>3.12</td></tr>\n",
       "\t<tr><th scope=row>7</th><td>Atherosclerotic heart disease of native coronary artery without angina pectoris</td><td>242</td><td>3.03</td></tr>\n",
       "\t<tr><th scope=row>8</th><td>Gastro-esophageal reflux disease without esophagitis                           </td><td>226</td><td>2.83</td></tr>\n",
       "\t<tr><th scope=row>9</th><td>Long term (current) use of insulin                                             </td><td>221</td><td>2.77</td></tr>\n",
       "\t<tr><th scope=row>10</th><td>Acidosis                                                                       </td><td>216</td><td>2.71</td></tr>\n",
       "\t<tr><th scope=row>11</th><td>Major depressive disorder, single episode, unspecified                         </td><td>209</td><td>2.62</td></tr>\n",
       "\t<tr><th scope=row>12</th><td>Encounter for immunization                                                     </td><td>202</td><td>2.53</td></tr>\n",
       "\t<tr><th scope=row>13</th><td>Long term (current) use of anticoagulants                                      </td><td>201</td><td>2.52</td></tr>\n",
       "\t<tr><th scope=row>14</th><td>Shortness of breath                                                            </td><td>185</td><td>2.32</td></tr>\n",
       "\t<tr><th scope=row>15</th><td>Hypo-osmolality and hyponatremia                                               </td><td>184</td><td>2.31</td></tr>\n",
       "\t<tr><th scope=row>16</th><td>Allergy status to penicillin                                                   </td><td>154</td><td>1.93</td></tr>\n",
       "\t<tr><th scope=row>17</th><td>Hypothyroidism, unspecified                                                    </td><td>152</td><td>1.91</td></tr>\n",
       "\t<tr><th scope=row>18</th><td>Obstructive sleep apnea (adult) (pediatric)                                    </td><td>151</td><td>1.89</td></tr>\n",
       "\t<tr><th scope=row>19</th><td>Paroxysmal atrial fibrillation                                                 </td><td>151</td><td>1.89</td></tr>\n",
       "\t<tr><th scope=row>20</th><td>Sepsis, unspecified organism                                                   </td><td>151</td><td>1.89</td></tr>\n",
       "</tbody>\n",
       "</table>\n"
      ],
      "text/latex": [
       "A data.frame: 20 × 3\n",
       "\\begin{tabular}{r|lll}\n",
       "  & dx\\_name & n & perc\\\\\n",
       "  & <chr> & <int> & <dbl>\\\\\n",
       "\\hline\n",
       "\t1 & Hyperlipidemia, unspecified                                                     & 510 & 6.39\\\\\n",
       "\t2 & Essential (primary) hypertension                                                & 469 & 5.88\\\\\n",
       "\t3 & Other long term (current) drug therapy                                          & 442 & 5.54\\\\\n",
       "\t4 & Personal history of nicotine dependence                                         & 345 & 4.32\\\\\n",
       "\t5 & Long term (current) use of aspirin                                              & 322 & 4.04\\\\\n",
       "\t6 & Acute kidney failure, unspecified                                               & 249 & 3.12\\\\\n",
       "\t7 & Atherosclerotic heart disease of native coronary artery without angina pectoris & 242 & 3.03\\\\\n",
       "\t8 & Gastro-esophageal reflux disease without esophagitis                            & 226 & 2.83\\\\\n",
       "\t9 & Long term (current) use of insulin                                              & 221 & 2.77\\\\\n",
       "\t10 & Acidosis                                                                        & 216 & 2.71\\\\\n",
       "\t11 & Major depressive disorder, single episode, unspecified                          & 209 & 2.62\\\\\n",
       "\t12 & Encounter for immunization                                                      & 202 & 2.53\\\\\n",
       "\t13 & Long term (current) use of anticoagulants                                       & 201 & 2.52\\\\\n",
       "\t14 & Shortness of breath                                                             & 185 & 2.32\\\\\n",
       "\t15 & Hypo-osmolality and hyponatremia                                                & 184 & 2.31\\\\\n",
       "\t16 & Allergy status to penicillin                                                    & 154 & 1.93\\\\\n",
       "\t17 & Hypothyroidism, unspecified                                                     & 152 & 1.91\\\\\n",
       "\t18 & Obstructive sleep apnea (adult) (pediatric)                                     & 151 & 1.89\\\\\n",
       "\t19 & Paroxysmal atrial fibrillation                                                  & 151 & 1.89\\\\\n",
       "\t20 & Sepsis, unspecified organism                                                    & 151 & 1.89\\\\\n",
       "\\end{tabular}\n"
      ],
      "text/markdown": [
       "\n",
       "A data.frame: 20 × 3\n",
       "\n",
       "| <!--/--> | dx_name &lt;chr&gt; | n &lt;int&gt; | perc &lt;dbl&gt; |\n",
       "|---|---|---|---|\n",
       "| 1 | Hyperlipidemia, unspecified                                                     | 510 | 6.39 |\n",
       "| 2 | Essential (primary) hypertension                                                | 469 | 5.88 |\n",
       "| 3 | Other long term (current) drug therapy                                          | 442 | 5.54 |\n",
       "| 4 | Personal history of nicotine dependence                                         | 345 | 4.32 |\n",
       "| 5 | Long term (current) use of aspirin                                              | 322 | 4.04 |\n",
       "| 6 | Acute kidney failure, unspecified                                               | 249 | 3.12 |\n",
       "| 7 | Atherosclerotic heart disease of native coronary artery without angina pectoris | 242 | 3.03 |\n",
       "| 8 | Gastro-esophageal reflux disease without esophagitis                            | 226 | 2.83 |\n",
       "| 9 | Long term (current) use of insulin                                              | 221 | 2.77 |\n",
       "| 10 | Acidosis                                                                        | 216 | 2.71 |\n",
       "| 11 | Major depressive disorder, single episode, unspecified                          | 209 | 2.62 |\n",
       "| 12 | Encounter for immunization                                                      | 202 | 2.53 |\n",
       "| 13 | Long term (current) use of anticoagulants                                       | 201 | 2.52 |\n",
       "| 14 | Shortness of breath                                                             | 185 | 2.32 |\n",
       "| 15 | Hypo-osmolality and hyponatremia                                                | 184 | 2.31 |\n",
       "| 16 | Allergy status to penicillin                                                    | 154 | 1.93 |\n",
       "| 17 | Hypothyroidism, unspecified                                                     | 152 | 1.91 |\n",
       "| 18 | Obstructive sleep apnea (adult) (pediatric)                                     | 151 | 1.89 |\n",
       "| 19 | Paroxysmal atrial fibrillation                                                  | 151 | 1.89 |\n",
       "| 20 | Sepsis, unspecified organism                                                    | 151 | 1.89 |\n",
       "\n"
      ],
      "text/plain": [
       "   dx_name                                                                        \n",
       "1  Hyperlipidemia, unspecified                                                    \n",
       "2  Essential (primary) hypertension                                               \n",
       "3  Other long term (current) drug therapy                                         \n",
       "4  Personal history of nicotine dependence                                        \n",
       "5  Long term (current) use of aspirin                                             \n",
       "6  Acute kidney failure, unspecified                                              \n",
       "7  Atherosclerotic heart disease of native coronary artery without angina pectoris\n",
       "8  Gastro-esophageal reflux disease without esophagitis                           \n",
       "9  Long term (current) use of insulin                                             \n",
       "10 Acidosis                                                                       \n",
       "11 Major depressive disorder, single episode, unspecified                         \n",
       "12 Encounter for immunization                                                     \n",
       "13 Long term (current) use of anticoagulants                                      \n",
       "14 Shortness of breath                                                            \n",
       "15 Hypo-osmolality and hyponatremia                                               \n",
       "16 Allergy status to penicillin                                                   \n",
       "17 Hypothyroidism, unspecified                                                    \n",
       "18 Obstructive sleep apnea (adult) (pediatric)                                    \n",
       "19 Paroxysmal atrial fibrillation                                                 \n",
       "20 Sepsis, unspecified organism                                                   \n",
       "   n   perc\n",
       "1  510 6.39\n",
       "2  469 5.88\n",
       "3  442 5.54\n",
       "4  345 4.32\n",
       "5  322 4.04\n",
       "6  249 3.12\n",
       "7  242 3.03\n",
       "8  226 2.83\n",
       "9  221 2.77\n",
       "10 216 2.71\n",
       "11 209 2.62\n",
       "12 202 2.53\n",
       "13 201 2.52\n",
       "14 185 2.32\n",
       "15 184 2.31\n",
       "16 154 1.93\n",
       "17 152 1.91\n",
       "18 151 1.89\n",
       "19 151 1.89\n",
       "20 151 1.89"
      ]
     },
     "metadata": {},
     "output_type": "display_data"
    }
   ],
   "source": [
    "# from 1 to 0 (ICUs to non-ICUs), 7979\n",
    "dx_tx %>% filter(first_label==1, death_24hr_recent_label==0) %>%\n",
    "            distinct(pat_enc_csn_id_coded, dx_name) %>% count(dx_name, sort=TRUE) %>% #head(20)\n",
    "            mutate(perc = round(100*n/7979, 2)) %>% head(20)"
   ]
  },
  {
   "cell_type": "code",
   "execution_count": 108,
   "metadata": {},
   "outputs": [
    {
     "data": {
      "text/html": [
       "<table class=\"dataframe\">\n",
       "<caption>A data.frame: 20 × 3</caption>\n",
       "<thead>\n",
       "\t<tr><th></th><th scope=col>dx_name</th><th scope=col>n</th><th scope=col>perc</th></tr>\n",
       "\t<tr><th></th><th scope=col>&lt;chr&gt;</th><th scope=col>&lt;int&gt;</th><th scope=col>&lt;dbl&gt;</th></tr>\n",
       "</thead>\n",
       "<tbody>\n",
       "\t<tr><th scope=row>1</th><td>Hyperlipidemia, unspecified                                                    </td><td>285</td><td>3.82</td></tr>\n",
       "\t<tr><th scope=row>2</th><td>Other long term (current) drug therapy                                         </td><td>281</td><td>3.77</td></tr>\n",
       "\t<tr><th scope=row>3</th><td>Acidosis                                                                       </td><td>256</td><td>3.43</td></tr>\n",
       "\t<tr><th scope=row>4</th><td>Personal history of nicotine dependence                                        </td><td>253</td><td>3.39</td></tr>\n",
       "\t<tr><th scope=row>5</th><td>Acute kidney failure, unspecified                                              </td><td>243</td><td>3.26</td></tr>\n",
       "\t<tr><th scope=row>6</th><td>Severe sepsis with septic shock                                                </td><td>220</td><td>2.95</td></tr>\n",
       "\t<tr><th scope=row>7</th><td>Essential (primary) hypertension                                               </td><td>218</td><td>2.92</td></tr>\n",
       "\t<tr><th scope=row>8</th><td>Long term (current) use of aspirin                                             </td><td>206</td><td>2.76</td></tr>\n",
       "\t<tr><th scope=row>9</th><td>Sepsis, unspecified organism                                                   </td><td>203</td><td>2.72</td></tr>\n",
       "\t<tr><th scope=row>10</th><td>Atherosclerotic heart disease of native coronary artery without angina pectoris</td><td>186</td><td>2.49</td></tr>\n",
       "\t<tr><th scope=row>11</th><td>Hypo-osmolality and hyponatremia                                               </td><td>172</td><td>2.31</td></tr>\n",
       "\t<tr><th scope=row>12</th><td>Shortness of breath                                                            </td><td>171</td><td>2.29</td></tr>\n",
       "\t<tr><th scope=row>13</th><td>Long term (current) use of anticoagulants                                      </td><td>167</td><td>2.24</td></tr>\n",
       "\t<tr><th scope=row>14</th><td>Acute respiratory failure with hypoxia                                         </td><td>163</td><td>2.19</td></tr>\n",
       "\t<tr><th scope=row>15</th><td>Hypokalemia                                                                    </td><td>158</td><td>2.12</td></tr>\n",
       "\t<tr><th scope=row>16</th><td>Gastro-esophageal reflux disease without esophagitis                           </td><td>156</td><td>2.09</td></tr>\n",
       "\t<tr><th scope=row>17</th><td>Acute posthemorrhagic anemia                                                   </td><td>153</td><td>2.05</td></tr>\n",
       "\t<tr><th scope=row>18</th><td>Hypotension, unspecified                                                       </td><td>150</td><td>2.01</td></tr>\n",
       "\t<tr><th scope=row>19</th><td>Obstructive sleep apnea (adult) (pediatric)                                    </td><td>135</td><td>1.81</td></tr>\n",
       "\t<tr><th scope=row>20</th><td>Paroxysmal atrial fibrillation                                                 </td><td>129</td><td>1.73</td></tr>\n",
       "</tbody>\n",
       "</table>\n"
      ],
      "text/latex": [
       "A data.frame: 20 × 3\n",
       "\\begin{tabular}{r|lll}\n",
       "  & dx\\_name & n & perc\\\\\n",
       "  & <chr> & <int> & <dbl>\\\\\n",
       "\\hline\n",
       "\t1 & Hyperlipidemia, unspecified                                                     & 285 & 3.82\\\\\n",
       "\t2 & Other long term (current) drug therapy                                          & 281 & 3.77\\\\\n",
       "\t3 & Acidosis                                                                        & 256 & 3.43\\\\\n",
       "\t4 & Personal history of nicotine dependence                                         & 253 & 3.39\\\\\n",
       "\t5 & Acute kidney failure, unspecified                                               & 243 & 3.26\\\\\n",
       "\t6 & Severe sepsis with septic shock                                                 & 220 & 2.95\\\\\n",
       "\t7 & Essential (primary) hypertension                                                & 218 & 2.92\\\\\n",
       "\t8 & Long term (current) use of aspirin                                              & 206 & 2.76\\\\\n",
       "\t9 & Sepsis, unspecified organism                                                    & 203 & 2.72\\\\\n",
       "\t10 & Atherosclerotic heart disease of native coronary artery without angina pectoris & 186 & 2.49\\\\\n",
       "\t11 & Hypo-osmolality and hyponatremia                                                & 172 & 2.31\\\\\n",
       "\t12 & Shortness of breath                                                             & 171 & 2.29\\\\\n",
       "\t13 & Long term (current) use of anticoagulants                                       & 167 & 2.24\\\\\n",
       "\t14 & Acute respiratory failure with hypoxia                                          & 163 & 2.19\\\\\n",
       "\t15 & Hypokalemia                                                                     & 158 & 2.12\\\\\n",
       "\t16 & Gastro-esophageal reflux disease without esophagitis                            & 156 & 2.09\\\\\n",
       "\t17 & Acute posthemorrhagic anemia                                                    & 153 & 2.05\\\\\n",
       "\t18 & Hypotension, unspecified                                                        & 150 & 2.01\\\\\n",
       "\t19 & Obstructive sleep apnea (adult) (pediatric)                                     & 135 & 1.81\\\\\n",
       "\t20 & Paroxysmal atrial fibrillation                                                  & 129 & 1.73\\\\\n",
       "\\end{tabular}\n"
      ],
      "text/markdown": [
       "\n",
       "A data.frame: 20 × 3\n",
       "\n",
       "| <!--/--> | dx_name &lt;chr&gt; | n &lt;int&gt; | perc &lt;dbl&gt; |\n",
       "|---|---|---|---|\n",
       "| 1 | Hyperlipidemia, unspecified                                                     | 285 | 3.82 |\n",
       "| 2 | Other long term (current) drug therapy                                          | 281 | 3.77 |\n",
       "| 3 | Acidosis                                                                        | 256 | 3.43 |\n",
       "| 4 | Personal history of nicotine dependence                                         | 253 | 3.39 |\n",
       "| 5 | Acute kidney failure, unspecified                                               | 243 | 3.26 |\n",
       "| 6 | Severe sepsis with septic shock                                                 | 220 | 2.95 |\n",
       "| 7 | Essential (primary) hypertension                                                | 218 | 2.92 |\n",
       "| 8 | Long term (current) use of aspirin                                              | 206 | 2.76 |\n",
       "| 9 | Sepsis, unspecified organism                                                    | 203 | 2.72 |\n",
       "| 10 | Atherosclerotic heart disease of native coronary artery without angina pectoris | 186 | 2.49 |\n",
       "| 11 | Hypo-osmolality and hyponatremia                                                | 172 | 2.31 |\n",
       "| 12 | Shortness of breath                                                             | 171 | 2.29 |\n",
       "| 13 | Long term (current) use of anticoagulants                                       | 167 | 2.24 |\n",
       "| 14 | Acute respiratory failure with hypoxia                                          | 163 | 2.19 |\n",
       "| 15 | Hypokalemia                                                                     | 158 | 2.12 |\n",
       "| 16 | Gastro-esophageal reflux disease without esophagitis                            | 156 | 2.09 |\n",
       "| 17 | Acute posthemorrhagic anemia                                                    | 153 | 2.05 |\n",
       "| 18 | Hypotension, unspecified                                                        | 150 | 2.01 |\n",
       "| 19 | Obstructive sleep apnea (adult) (pediatric)                                     | 135 | 1.81 |\n",
       "| 20 | Paroxysmal atrial fibrillation                                                  | 129 | 1.73 |\n",
       "\n"
      ],
      "text/plain": [
       "   dx_name                                                                        \n",
       "1  Hyperlipidemia, unspecified                                                    \n",
       "2  Other long term (current) drug therapy                                         \n",
       "3  Acidosis                                                                       \n",
       "4  Personal history of nicotine dependence                                        \n",
       "5  Acute kidney failure, unspecified                                              \n",
       "6  Severe sepsis with septic shock                                                \n",
       "7  Essential (primary) hypertension                                               \n",
       "8  Long term (current) use of aspirin                                             \n",
       "9  Sepsis, unspecified organism                                                   \n",
       "10 Atherosclerotic heart disease of native coronary artery without angina pectoris\n",
       "11 Hypo-osmolality and hyponatremia                                               \n",
       "12 Shortness of breath                                                            \n",
       "13 Long term (current) use of anticoagulants                                      \n",
       "14 Acute respiratory failure with hypoxia                                         \n",
       "15 Hypokalemia                                                                    \n",
       "16 Gastro-esophageal reflux disease without esophagitis                           \n",
       "17 Acute posthemorrhagic anemia                                                   \n",
       "18 Hypotension, unspecified                                                       \n",
       "19 Obstructive sleep apnea (adult) (pediatric)                                    \n",
       "20 Paroxysmal atrial fibrillation                                                 \n",
       "   n   perc\n",
       "1  285 3.82\n",
       "2  281 3.77\n",
       "3  256 3.43\n",
       "4  253 3.39\n",
       "5  243 3.26\n",
       "6  220 2.95\n",
       "7  218 2.92\n",
       "8  206 2.76\n",
       "9  203 2.72\n",
       "10 186 2.49\n",
       "11 172 2.31\n",
       "12 171 2.29\n",
       "13 167 2.24\n",
       "14 163 2.19\n",
       "15 158 2.12\n",
       "16 156 2.09\n",
       "17 153 2.05\n",
       "18 150 2.01\n",
       "19 135 1.81\n",
       "20 129 1.73"
      ]
     },
     "metadata": {},
     "output_type": "display_data"
    }
   ],
   "source": [
    "# from 0 to 1, 7457\n",
    "dx_tx %>% filter(first_label==0, death_24hr_recent_label==1) %>%\n",
    "            distinct(pat_enc_csn_id_coded, dx_name) %>% count(dx_name, sort=TRUE) %>% #head(20)\n",
    "            mutate(perc = round(100*n/7457, 2)) %>% head(20)"
   ]
  },
  {
   "cell_type": "code",
   "execution_count": 115,
   "metadata": {},
   "outputs": [
    {
     "data": {
      "text/html": [
       "<table class=\"dataframe\">\n",
       "<caption>A data.frame: 20 × 3</caption>\n",
       "<thead>\n",
       "\t<tr><th></th><th scope=col>dx_name</th><th scope=col>n</th><th scope=col>perc</th></tr>\n",
       "\t<tr><th></th><th scope=col>&lt;chr&gt;</th><th scope=col>&lt;int&gt;</th><th scope=col>&lt;dbl&gt;</th></tr>\n",
       "</thead>\n",
       "<tbody>\n",
       "\t<tr><th scope=row>1</th><td>Diabetic ketoacidosis without coma associated with type 1 diabetes mellitus (CMS-HCC)                     </td><td>36</td><td>10.17</td></tr>\n",
       "\t<tr><th scope=row>2</th><td>Septic shock (CMS-HCC)                                                                                    </td><td>24</td><td> 6.78</td></tr>\n",
       "\t<tr><th scope=row>3</th><td>Subdural hematoma (CMS-HCC)                                                                               </td><td>23</td><td> 6.50</td></tr>\n",
       "\t<tr><th scope=row>4</th><td>Hyperkalemia                                                                                              </td><td>22</td><td> 6.21</td></tr>\n",
       "\t<tr><th scope=row>5</th><td>ST elevation myocardial infarction (STEMI), unspecified artery (CMS-HCC)                                  </td><td>20</td><td> 5.65</td></tr>\n",
       "\t<tr><th scope=row>6</th><td>Acute GI bleeding                                                                                         </td><td>17</td><td> 4.80</td></tr>\n",
       "\t<tr><th scope=row>7</th><td>Hyponatremia                                                                                              </td><td>16</td><td> 4.52</td></tr>\n",
       "\t<tr><th scope=row>8</th><td>SAH (subarachnoid hemorrhage) (CMS-HCC)                                                                   </td><td>15</td><td> 4.24</td></tr>\n",
       "\t<tr><th scope=row>9</th><td>Severe sepsis (CMS-HCC)                                                                                   </td><td>15</td><td> 4.24</td></tr>\n",
       "\t<tr><th scope=row>10</th><td>Closed fracture of multiple ribs of right side, initial encounter                                         </td><td>14</td><td> 3.95</td></tr>\n",
       "\t<tr><th scope=row>11</th><td>Diabetic ketoacidosis without coma associated with type 2 diabetes mellitus (CMS-HCC)                     </td><td>14</td><td> 3.95</td></tr>\n",
       "\t<tr><th scope=row>12</th><td>Closed fracture of multiple ribs of left side, initial encounter                                          </td><td>12</td><td> 3.39</td></tr>\n",
       "\t<tr><th scope=row>13</th><td>Diabetic ketoacidosis without coma associated with diabetes mellitus due to underlying condition (CMS-HCC)</td><td>11</td><td> 3.11</td></tr>\n",
       "\t<tr><th scope=row>14</th><td>Acute upper GI bleeding                                                                                   </td><td>10</td><td> 2.82</td></tr>\n",
       "\t<tr><th scope=row>15</th><td>Pneumonia due to organism                                                                                 </td><td>10</td><td> 2.82</td></tr>\n",
       "\t<tr><th scope=row>16</th><td>Sepsis, due to unspecified organism                                                                       </td><td>10</td><td> 2.82</td></tr>\n",
       "\t<tr><th scope=row>17</th><td>Subarachnoid hemorrhage (CMS-HCC)                                                                         </td><td>10</td><td> 2.82</td></tr>\n",
       "\t<tr><th scope=row>18</th><td>Altered mental status, unspecified altered mental status type                                             </td><td> 9</td><td> 2.54</td></tr>\n",
       "\t<tr><th scope=row>19</th><td>Hypotension, unspecified hypotension type                                                                 </td><td> 9</td><td> 2.54</td></tr>\n",
       "\t<tr><th scope=row>20</th><td>SDH (subdural hematoma) (CMS-HCC)                                                                         </td><td> 9</td><td> 2.54</td></tr>\n",
       "</tbody>\n",
       "</table>\n"
      ],
      "text/latex": [
       "A data.frame: 20 × 3\n",
       "\\begin{tabular}{r|lll}\n",
       "  & dx\\_name & n & perc\\\\\n",
       "  & <chr> & <int> & <dbl>\\\\\n",
       "\\hline\n",
       "\t1 & Diabetic ketoacidosis without coma associated with type 1 diabetes mellitus (CMS-HCC)                      & 36 & 10.17\\\\\n",
       "\t2 & Septic shock (CMS-HCC)                                                                                     & 24 &  6.78\\\\\n",
       "\t3 & Subdural hematoma (CMS-HCC)                                                                                & 23 &  6.50\\\\\n",
       "\t4 & Hyperkalemia                                                                                               & 22 &  6.21\\\\\n",
       "\t5 & ST elevation myocardial infarction (STEMI), unspecified artery (CMS-HCC)                                   & 20 &  5.65\\\\\n",
       "\t6 & Acute GI bleeding                                                                                          & 17 &  4.80\\\\\n",
       "\t7 & Hyponatremia                                                                                               & 16 &  4.52\\\\\n",
       "\t8 & SAH (subarachnoid hemorrhage) (CMS-HCC)                                                                    & 15 &  4.24\\\\\n",
       "\t9 & Severe sepsis (CMS-HCC)                                                                                    & 15 &  4.24\\\\\n",
       "\t10 & Closed fracture of multiple ribs of right side, initial encounter                                          & 14 &  3.95\\\\\n",
       "\t11 & Diabetic ketoacidosis without coma associated with type 2 diabetes mellitus (CMS-HCC)                      & 14 &  3.95\\\\\n",
       "\t12 & Closed fracture of multiple ribs of left side, initial encounter                                           & 12 &  3.39\\\\\n",
       "\t13 & Diabetic ketoacidosis without coma associated with diabetes mellitus due to underlying condition (CMS-HCC) & 11 &  3.11\\\\\n",
       "\t14 & Acute upper GI bleeding                                                                                    & 10 &  2.82\\\\\n",
       "\t15 & Pneumonia due to organism                                                                                  & 10 &  2.82\\\\\n",
       "\t16 & Sepsis, due to unspecified organism                                                                        & 10 &  2.82\\\\\n",
       "\t17 & Subarachnoid hemorrhage (CMS-HCC)                                                                          & 10 &  2.82\\\\\n",
       "\t18 & Altered mental status, unspecified altered mental status type                                              &  9 &  2.54\\\\\n",
       "\t19 & Hypotension, unspecified hypotension type                                                                  &  9 &  2.54\\\\\n",
       "\t20 & SDH (subdural hematoma) (CMS-HCC)                                                                          &  9 &  2.54\\\\\n",
       "\\end{tabular}\n"
      ],
      "text/markdown": [
       "\n",
       "A data.frame: 20 × 3\n",
       "\n",
       "| <!--/--> | dx_name &lt;chr&gt; | n &lt;int&gt; | perc &lt;dbl&gt; |\n",
       "|---|---|---|---|\n",
       "| 1 | Diabetic ketoacidosis without coma associated with type 1 diabetes mellitus (CMS-HCC)                      | 36 | 10.17 |\n",
       "| 2 | Septic shock (CMS-HCC)                                                                                     | 24 |  6.78 |\n",
       "| 3 | Subdural hematoma (CMS-HCC)                                                                                | 23 |  6.50 |\n",
       "| 4 | Hyperkalemia                                                                                               | 22 |  6.21 |\n",
       "| 5 | ST elevation myocardial infarction (STEMI), unspecified artery (CMS-HCC)                                   | 20 |  5.65 |\n",
       "| 6 | Acute GI bleeding                                                                                          | 17 |  4.80 |\n",
       "| 7 | Hyponatremia                                                                                               | 16 |  4.52 |\n",
       "| 8 | SAH (subarachnoid hemorrhage) (CMS-HCC)                                                                    | 15 |  4.24 |\n",
       "| 9 | Severe sepsis (CMS-HCC)                                                                                    | 15 |  4.24 |\n",
       "| 10 | Closed fracture of multiple ribs of right side, initial encounter                                          | 14 |  3.95 |\n",
       "| 11 | Diabetic ketoacidosis without coma associated with type 2 diabetes mellitus (CMS-HCC)                      | 14 |  3.95 |\n",
       "| 12 | Closed fracture of multiple ribs of left side, initial encounter                                           | 12 |  3.39 |\n",
       "| 13 | Diabetic ketoacidosis without coma associated with diabetes mellitus due to underlying condition (CMS-HCC) | 11 |  3.11 |\n",
       "| 14 | Acute upper GI bleeding                                                                                    | 10 |  2.82 |\n",
       "| 15 | Pneumonia due to organism                                                                                  | 10 |  2.82 |\n",
       "| 16 | Sepsis, due to unspecified organism                                                                        | 10 |  2.82 |\n",
       "| 17 | Subarachnoid hemorrhage (CMS-HCC)                                                                          | 10 |  2.82 |\n",
       "| 18 | Altered mental status, unspecified altered mental status type                                              |  9 |  2.54 |\n",
       "| 19 | Hypotension, unspecified hypotension type                                                                  |  9 |  2.54 |\n",
       "| 20 | SDH (subdural hematoma) (CMS-HCC)                                                                          |  9 |  2.54 |\n",
       "\n"
      ],
      "text/plain": [
       "   dx_name                                                                                                   \n",
       "1  Diabetic ketoacidosis without coma associated with type 1 diabetes mellitus (CMS-HCC)                     \n",
       "2  Septic shock (CMS-HCC)                                                                                    \n",
       "3  Subdural hematoma (CMS-HCC)                                                                               \n",
       "4  Hyperkalemia                                                                                              \n",
       "5  ST elevation myocardial infarction (STEMI), unspecified artery (CMS-HCC)                                  \n",
       "6  Acute GI bleeding                                                                                         \n",
       "7  Hyponatremia                                                                                              \n",
       "8  SAH (subarachnoid hemorrhage) (CMS-HCC)                                                                   \n",
       "9  Severe sepsis (CMS-HCC)                                                                                   \n",
       "10 Closed fracture of multiple ribs of right side, initial encounter                                         \n",
       "11 Diabetic ketoacidosis without coma associated with type 2 diabetes mellitus (CMS-HCC)                     \n",
       "12 Closed fracture of multiple ribs of left side, initial encounter                                          \n",
       "13 Diabetic ketoacidosis without coma associated with diabetes mellitus due to underlying condition (CMS-HCC)\n",
       "14 Acute upper GI bleeding                                                                                   \n",
       "15 Pneumonia due to organism                                                                                 \n",
       "16 Sepsis, due to unspecified organism                                                                       \n",
       "17 Subarachnoid hemorrhage (CMS-HCC)                                                                         \n",
       "18 Altered mental status, unspecified altered mental status type                                             \n",
       "19 Hypotension, unspecified hypotension type                                                                 \n",
       "20 SDH (subdural hematoma) (CMS-HCC)                                                                         \n",
       "   n  perc \n",
       "1  36 10.17\n",
       "2  24  6.78\n",
       "3  23  6.50\n",
       "4  22  6.21\n",
       "5  20  5.65\n",
       "6  17  4.80\n",
       "7  16  4.52\n",
       "8  15  4.24\n",
       "9  15  4.24\n",
       "10 14  3.95\n",
       "11 14  3.95\n",
       "12 12  3.39\n",
       "13 11  3.11\n",
       "14 10  2.82\n",
       "15 10  2.82\n",
       "16 10  2.82\n",
       "17 10  2.82\n",
       "18  9  2.54\n",
       "19  9  2.54\n",
       "20  9  2.54"
      ]
     },
     "metadata": {},
     "output_type": "display_data"
    }
   ],
   "source": [
    "# from 1 to 0, primary ED, 354\n",
    "dx_tx %>% filter(first_label==1, death_24hr_recent_label==0, ed==\"Y\", primary==\"Y\") %>%\n",
    "            distinct(pat_enc_csn_id_coded, dx_name) %>% count(dx_name, sort=TRUE) %>% #head(20)\n",
    "            mutate(perc = round(100*n/354, 2)) %>% head(20)"
   ]
  },
  {
   "cell_type": "code",
   "execution_count": 116,
   "metadata": {},
   "outputs": [
    {
     "data": {
      "text/html": [
       "<table class=\"dataframe\">\n",
       "<caption>A data.frame: 20 × 3</caption>\n",
       "<thead>\n",
       "\t<tr><th></th><th scope=col>dx_name</th><th scope=col>n</th><th scope=col>perc</th></tr>\n",
       "\t<tr><th></th><th scope=col>&lt;chr&gt;</th><th scope=col>&lt;int&gt;</th><th scope=col>&lt;dbl&gt;</th></tr>\n",
       "</thead>\n",
       "<tbody>\n",
       "\t<tr><th scope=row>1</th><td>Sepsis, due to unspecified organism                                     </td><td>16</td><td>6.27</td></tr>\n",
       "\t<tr><th scope=row>2</th><td>Pneumonia due to organism                                               </td><td>14</td><td>5.49</td></tr>\n",
       "\t<tr><th scope=row>3</th><td>Non-ST elevation myocardial infarction (NSTEMI) (CMS-HCC)               </td><td>11</td><td>4.31</td></tr>\n",
       "\t<tr><th scope=row>4</th><td>Hypoxia                                                                 </td><td>10</td><td>3.92</td></tr>\n",
       "\t<tr><th scope=row>5</th><td>Severe sepsis (CMS-HCC)                                                 </td><td>10</td><td>3.92</td></tr>\n",
       "\t<tr><th scope=row>6</th><td>Acute pyelonephritis                                                    </td><td> 7</td><td>2.75</td></tr>\n",
       "\t<tr><th scope=row>7</th><td>ST elevation myocardial infarction (STEMI), unspecified artery (CMS-HCC)</td><td> 7</td><td>2.75</td></tr>\n",
       "\t<tr><th scope=row>8</th><td>Acute chest pain                                                        </td><td> 6</td><td>2.35</td></tr>\n",
       "\t<tr><th scope=row>9</th><td>Acute coronary syndrome (CMS-HCC)                                       </td><td> 5</td><td>1.96</td></tr>\n",
       "\t<tr><th scope=row>10</th><td>Acute on chronic systolic congestive heart failure (CMS-HCC)            </td><td> 5</td><td>1.96</td></tr>\n",
       "\t<tr><th scope=row>11</th><td>Altered mental status, unspecified altered mental status type           </td><td> 5</td><td>1.96</td></tr>\n",
       "\t<tr><th scope=row>12</th><td>COPD with acute exacerbation (CMS-HCC)                                  </td><td> 5</td><td>1.96</td></tr>\n",
       "\t<tr><th scope=row>13</th><td>HCAP (healthcare-associated pneumonia)                                  </td><td> 5</td><td>1.96</td></tr>\n",
       "\t<tr><th scope=row>14</th><td>Neutropenic fever (CMS-HCC)                                             </td><td> 5</td><td>1.96</td></tr>\n",
       "\t<tr><th scope=row>15</th><td>Pneumonia, organism unspecified(486)                                    </td><td> 5</td><td>1.96</td></tr>\n",
       "\t<tr><th scope=row>16</th><td>Small bowel obstruction (CMS-HCC)                                       </td><td> 5</td><td>1.96</td></tr>\n",
       "\t<tr><th scope=row>17</th><td>Acute blood loss anemia                                                 </td><td> 4</td><td>1.57</td></tr>\n",
       "\t<tr><th scope=row>18</th><td>Acute kidney injury (nontraumatic) (CMS-HCC)                            </td><td> 4</td><td>1.57</td></tr>\n",
       "\t<tr><th scope=row>19</th><td>Acute on chronic heart failure, unspecified heart failure type (CMS-HCC)</td><td> 4</td><td>1.57</td></tr>\n",
       "\t<tr><th scope=row>20</th><td>Acute on chronic systolic heart failure (CMS-HCC)                       </td><td> 4</td><td>1.57</td></tr>\n",
       "</tbody>\n",
       "</table>\n"
      ],
      "text/latex": [
       "A data.frame: 20 × 3\n",
       "\\begin{tabular}{r|lll}\n",
       "  & dx\\_name & n & perc\\\\\n",
       "  & <chr> & <int> & <dbl>\\\\\n",
       "\\hline\n",
       "\t1 & Sepsis, due to unspecified organism                                      & 16 & 6.27\\\\\n",
       "\t2 & Pneumonia due to organism                                                & 14 & 5.49\\\\\n",
       "\t3 & Non-ST elevation myocardial infarction (NSTEMI) (CMS-HCC)                & 11 & 4.31\\\\\n",
       "\t4 & Hypoxia                                                                  & 10 & 3.92\\\\\n",
       "\t5 & Severe sepsis (CMS-HCC)                                                  & 10 & 3.92\\\\\n",
       "\t6 & Acute pyelonephritis                                                     &  7 & 2.75\\\\\n",
       "\t7 & ST elevation myocardial infarction (STEMI), unspecified artery (CMS-HCC) &  7 & 2.75\\\\\n",
       "\t8 & Acute chest pain                                                         &  6 & 2.35\\\\\n",
       "\t9 & Acute coronary syndrome (CMS-HCC)                                        &  5 & 1.96\\\\\n",
       "\t10 & Acute on chronic systolic congestive heart failure (CMS-HCC)             &  5 & 1.96\\\\\n",
       "\t11 & Altered mental status, unspecified altered mental status type            &  5 & 1.96\\\\\n",
       "\t12 & COPD with acute exacerbation (CMS-HCC)                                   &  5 & 1.96\\\\\n",
       "\t13 & HCAP (healthcare-associated pneumonia)                                   &  5 & 1.96\\\\\n",
       "\t14 & Neutropenic fever (CMS-HCC)                                              &  5 & 1.96\\\\\n",
       "\t15 & Pneumonia, organism unspecified(486)                                     &  5 & 1.96\\\\\n",
       "\t16 & Small bowel obstruction (CMS-HCC)                                        &  5 & 1.96\\\\\n",
       "\t17 & Acute blood loss anemia                                                  &  4 & 1.57\\\\\n",
       "\t18 & Acute kidney injury (nontraumatic) (CMS-HCC)                             &  4 & 1.57\\\\\n",
       "\t19 & Acute on chronic heart failure, unspecified heart failure type (CMS-HCC) &  4 & 1.57\\\\\n",
       "\t20 & Acute on chronic systolic heart failure (CMS-HCC)                        &  4 & 1.57\\\\\n",
       "\\end{tabular}\n"
      ],
      "text/markdown": [
       "\n",
       "A data.frame: 20 × 3\n",
       "\n",
       "| <!--/--> | dx_name &lt;chr&gt; | n &lt;int&gt; | perc &lt;dbl&gt; |\n",
       "|---|---|---|---|\n",
       "| 1 | Sepsis, due to unspecified organism                                      | 16 | 6.27 |\n",
       "| 2 | Pneumonia due to organism                                                | 14 | 5.49 |\n",
       "| 3 | Non-ST elevation myocardial infarction (NSTEMI) (CMS-HCC)                | 11 | 4.31 |\n",
       "| 4 | Hypoxia                                                                  | 10 | 3.92 |\n",
       "| 5 | Severe sepsis (CMS-HCC)                                                  | 10 | 3.92 |\n",
       "| 6 | Acute pyelonephritis                                                     |  7 | 2.75 |\n",
       "| 7 | ST elevation myocardial infarction (STEMI), unspecified artery (CMS-HCC) |  7 | 2.75 |\n",
       "| 8 | Acute chest pain                                                         |  6 | 2.35 |\n",
       "| 9 | Acute coronary syndrome (CMS-HCC)                                        |  5 | 1.96 |\n",
       "| 10 | Acute on chronic systolic congestive heart failure (CMS-HCC)             |  5 | 1.96 |\n",
       "| 11 | Altered mental status, unspecified altered mental status type            |  5 | 1.96 |\n",
       "| 12 | COPD with acute exacerbation (CMS-HCC)                                   |  5 | 1.96 |\n",
       "| 13 | HCAP (healthcare-associated pneumonia)                                   |  5 | 1.96 |\n",
       "| 14 | Neutropenic fever (CMS-HCC)                                              |  5 | 1.96 |\n",
       "| 15 | Pneumonia, organism unspecified(486)                                     |  5 | 1.96 |\n",
       "| 16 | Small bowel obstruction (CMS-HCC)                                        |  5 | 1.96 |\n",
       "| 17 | Acute blood loss anemia                                                  |  4 | 1.57 |\n",
       "| 18 | Acute kidney injury (nontraumatic) (CMS-HCC)                             |  4 | 1.57 |\n",
       "| 19 | Acute on chronic heart failure, unspecified heart failure type (CMS-HCC) |  4 | 1.57 |\n",
       "| 20 | Acute on chronic systolic heart failure (CMS-HCC)                        |  4 | 1.57 |\n",
       "\n"
      ],
      "text/plain": [
       "   dx_name                                                                  n \n",
       "1  Sepsis, due to unspecified organism                                      16\n",
       "2  Pneumonia due to organism                                                14\n",
       "3  Non-ST elevation myocardial infarction (NSTEMI) (CMS-HCC)                11\n",
       "4  Hypoxia                                                                  10\n",
       "5  Severe sepsis (CMS-HCC)                                                  10\n",
       "6  Acute pyelonephritis                                                      7\n",
       "7  ST elevation myocardial infarction (STEMI), unspecified artery (CMS-HCC)  7\n",
       "8  Acute chest pain                                                          6\n",
       "9  Acute coronary syndrome (CMS-HCC)                                         5\n",
       "10 Acute on chronic systolic congestive heart failure (CMS-HCC)              5\n",
       "11 Altered mental status, unspecified altered mental status type             5\n",
       "12 COPD with acute exacerbation (CMS-HCC)                                    5\n",
       "13 HCAP (healthcare-associated pneumonia)                                    5\n",
       "14 Neutropenic fever (CMS-HCC)                                               5\n",
       "15 Pneumonia, organism unspecified(486)                                      5\n",
       "16 Small bowel obstruction (CMS-HCC)                                         5\n",
       "17 Acute blood loss anemia                                                   4\n",
       "18 Acute kidney injury (nontraumatic) (CMS-HCC)                              4\n",
       "19 Acute on chronic heart failure, unspecified heart failure type (CMS-HCC)  4\n",
       "20 Acute on chronic systolic heart failure (CMS-HCC)                         4\n",
       "   perc\n",
       "1  6.27\n",
       "2  5.49\n",
       "3  4.31\n",
       "4  3.92\n",
       "5  3.92\n",
       "6  2.75\n",
       "7  2.75\n",
       "8  2.35\n",
       "9  1.96\n",
       "10 1.96\n",
       "11 1.96\n",
       "12 1.96\n",
       "13 1.96\n",
       "14 1.96\n",
       "15 1.96\n",
       "16 1.96\n",
       "17 1.57\n",
       "18 1.57\n",
       "19 1.57\n",
       "20 1.57"
      ]
     },
     "metadata": {},
     "output_type": "display_data"
    }
   ],
   "source": [
    "# from 0 to 1 (non-ICUs to ICUs), primary ED, 255\n",
    "dx_tx %>% filter(first_label==0, death_24hr_recent_label==1, ed==\"Y\", primary==\"Y\") %>%\n",
    "            distinct(pat_enc_csn_id_coded, dx_name) %>% count(dx_name, sort=TRUE) %>% #head(20)\n",
    "            mutate(perc = round(100*n/255, 2)) %>% head(20)"
   ]
  },
  {
   "cell_type": "raw",
   "metadata": {},
   "source": [
    "# full cohort, patcsn all NA\n",
    "q = \"\n",
    "SELECT x.dx_name, count(x.dx_name) AS n\n",
    "FROM \n",
    "    `som-nero-phi-jonc101.triageTD.1_4_cohort` as c\n",
    "JOIN \n",
    "    `som-nero-phi-jonc101.shc_core.diagnosis_code` as x\n",
    "ON \n",
    "    (c.anon_id = x.anon_id and c.pat_enc_csn_id_coded = x.pat_enc_csn_id_jittered)\n",
    "\n",
    "GROUP by x.dx_name\n",
    "\"\n",
    "\n",
    "# submit the query:\n",
    "update.packages('Rcpp')\n",
    "x2 <- dbGetQuery(con, q)\n",
    "dim(x2)\n",
    "colnames(x2)"
   ]
  },
  {
   "cell_type": "raw",
   "metadata": {},
   "source": [
    "# transfer cohort\n",
    "q = \"\n",
    "SELECT x.dx_name, count(x.dx_name) AS n\n",
    "FROM \n",
    "    `som-nero-phi-jonc101.triageTD.1_4_cohort` as c\n",
    "JOIN \n",
    "    `som-nero-phi-jonc101.shc_core.diagnosis_code` as x\n",
    "ON \n",
    "    (c.anon_id = x.anon_id and c.pat_enc_csn_id_coded = x.pat_enc_csn_id_jittered)\n",
    "\n",
    "WHERE\n",
    "    c.first_label != c.death_24hr_recent_label\n",
    "\n",
    "GROUP by x.dx_name\n",
    "\"\n",
    "\n",
    "# submit the query:\n",
    "update.packages('Rcpp')\n",
    "x2 <- dbGetQuery(con, q)\n",
    "dim(x2)\n",
    "colnames(x2)"
   ]
  },
  {
   "cell_type": "raw",
   "metadata": {},
   "source": [
    "# full cohort\n",
    "q = \"\n",
    "SELECT x.dx_name, count(x.dx_name) AS n\n",
    "FROM \n",
    "    `som-nero-phi-jonc101.triageTD.1_4_cohort` as c\n",
    "JOIN \n",
    "    `som-nero-phi-jonc101.shc_core.diagnosis_code` as x\n",
    "ON \n",
    "    (c.anon_id = x.anon_id and c.pat_enc_csn_id_coded = x.pat_enc_csn_id_jittered)\n",
    "\n",
    "WHERE (x.ed = 'Y')\n",
    "\n",
    "GROUP by x.dx_name\n",
    "\"\n",
    "\n",
    "# submit the query:\n",
    "update.packages('Rcpp')\n",
    "x3 <- dbGetQuery(con, q)\n",
    "dim(x3)\n",
    "colnames(x3)"
   ]
  },
  {
   "cell_type": "raw",
   "metadata": {},
   "source": [
    "# transfers cohort testing\n",
    "q = \"\n",
    "SELECT distinct c.anon_id, c.pat_enc_csn_id_coded, x.dx_name, x.primary, x.ed\n",
    "FROM \n",
    "    `som-nero-phi-jonc101.triageTD.1_4N_cohort` as c\n",
    "JOIN \n",
    "    `som-nero-phi-jonc101.shc_core.diagnosis_code` as x\n",
    "ON \n",
    "    (c.anon_id = x.anon_id and c.pat_enc_csn_id_coded = x.pat_enc_csn_id_jittered)\n",
    "WHERE (x.ed = 'Y')\n",
    "\"\n",
    "\n",
    "# submit the query:\n",
    "update.packages('Rcpp')\n",
    "x3 <- dbGetQuery(con, q)\n",
    "dim(x3)\n",
    "colnames(x3)"
   ]
  },
  {
   "cell_type": "raw",
   "metadata": {},
   "source": [
    "# transfer cohort\n",
    "q = \"\n",
    "SELECT x.dx_name, count(x.dx_name) AS n\n",
    "FROM \n",
    "    `som-nero-phi-jonc101.triageTD.1_4_cohort` as c\n",
    "JOIN \n",
    "    `som-nero-phi-jonc101.shc_core.diagnosis_code` as x\n",
    "ON \n",
    "    (c.anon_id = x.anon_id and c.pat_enc_csn_id_coded = x.pat_enc_csn_id_jittered)\n",
    "\n",
    "WHERE (c.first_label != c.death_24hr_recent_label and x.ed = 'Y')\n",
    "\n",
    "GROUP by x.dx_name\n",
    "\"\n",
    "\n",
    "# submit the query:\n",
    "update.packages('Rcpp')\n",
    "x3 <- dbGetQuery(con, q)\n",
    "dim(x3)\n",
    "colnames(x3)"
   ]
  },
  {
   "cell_type": "raw",
   "metadata": {},
   "source": [
    "# full cohort\n",
    "q = \"\n",
    "SELECT x.dx_name, count(x.dx_name) AS n\n",
    "FROM \n",
    "    `som-nero-phi-jonc101.triageTD.1_4_cohort` as c\n",
    "JOIN \n",
    "    `som-nero-phi-jonc101.shc_core.diagnosis_code` as x\n",
    "ON \n",
    "    (c.anon_id = x.anon_id and c.pat_enc_csn_id_coded = x.pat_enc_csn_id_jittered)\n",
    "\n",
    "WHERE (x.ed = 'Y' and primary='Y')\n",
    "\n",
    "GROUP by x.dx_name\n",
    "\"\n",
    "\n",
    "# submit the query:\n",
    "update.packages('Rcpp')\n",
    "x4 <- dbGetQuery(con, q)\n",
    "dim(x4)\n",
    "colnames(x4)"
   ]
  },
  {
   "cell_type": "raw",
   "metadata": {},
   "source": [
    "# transfer cohort\n",
    "q = \"\n",
    "SELECT x.dx_name, count(x.dx_name) AS n\n",
    "FROM \n",
    "    `som-nero-phi-jonc101.triageTD.1_4_cohort` as c\n",
    "JOIN \n",
    "    `som-nero-phi-jonc101.shc_core.diagnosis_code` as x\n",
    "ON \n",
    "    (c.anon_id = x.anon_id and c.pat_enc_csn_id_coded = x.pat_enc_csn_id_jittered)\n",
    "\n",
    "WHERE (c.first_label != c.death_24hr_recent_label and x.ed = 'Y' and primary='Y')\n",
    "\n",
    "GROUP by x.dx_name\n",
    "\"\n",
    "\n",
    "# submit the query:\n",
    "update.packages('Rcpp')\n",
    "x4 <- dbGetQuery(con, q)\n",
    "dim(x4)\n",
    "colnames(x4)"
   ]
  }
 ],
 "metadata": {
  "environment": {
   "name": "r-cpu.4-0.m71",
   "type": "gcloud",
   "uri": "gcr.io/deeplearning-platform-release/r-cpu.4-0:m71"
  },
  "kernelspec": {
   "display_name": "R",
   "language": "R",
   "name": "ir"
  },
  "language_info": {
   "codemirror_mode": "r",
   "file_extension": ".r",
   "mimetype": "text/x-r-source",
   "name": "R",
   "pygments_lexer": "r",
   "version": "4.0.3"
  },
  "toc": {
   "base_numbering": 1,
   "nav_menu": {},
   "number_sections": true,
   "sideBar": true,
   "skip_h1_title": false,
   "title_cell": "Table of Contents",
   "title_sidebar": "Contents",
   "toc_cell": false,
   "toc_position": {},
   "toc_section_display": true,
   "toc_window_display": false
  },
  "varInspector": {
   "cols": {
    "lenName": 16,
    "lenType": 16,
    "lenVar": 40
   },
   "kernels_config": {
    "python": {
     "delete_cmd_postfix": "",
     "delete_cmd_prefix": "del ",
     "library": "var_list.py",
     "varRefreshCmd": "print(var_dic_list())"
    },
    "r": {
     "delete_cmd_postfix": ") ",
     "delete_cmd_prefix": "rm(",
     "library": "var_list.r",
     "varRefreshCmd": "cat(var_dic_list()) "
    }
   },
   "types_to_exclude": [
    "module",
    "function",
    "builtin_function_or_method",
    "instance",
    "_Feature"
   ],
   "window_display": false
  }
 },
 "nbformat": 4,
 "nbformat_minor": 4
}
