{
 "cells": [
  {
   "cell_type": "markdown",
   "metadata": {},
   "source": [
    "### Description:\n",
    "\n",
    "- Part 1: Clean variables from flowsheet, finalized with vital signs: BP, HR, RR, and Temp\n",
    "    - GCS and some other variables are ultimately not used due to inaccuracy and too many (or ALL) missing values.\n",
    "    - This part was investigated in the Triage project, and again during this project\n",
    "- Part 2: **Update cohort** reduced size to only include observations\n",
    "    - Get the 1st complete set of VS, remove obs without a complete set. \n",
    "    - Use this `6_5_cohort3` for imputing ESI. Done in (6. lab) notebook\n",
    "- Part 3: Get other vs-related variables: last set, diff max/min, first/last, summary statistics of all available vs.\n",
    "    - This together with demographics, and HW, form the simple dataset. Done in 6. lab notebook\n",
    "\n",
    "Inputs: \n",
    "- `flowsheet_2021.csv` (from SQL)\n",
    "- `6_4_coh2_demoHW.csv` -- cohort which has demographics, ESI, and imputed HW processed\n",
    "\n",
    "Output files: \n",
    "\n",
    "- `6_5_coh2_vitals` -- all vitals processed, used for the complex data\n",
    "- `6_5_coh2_vs1st` -- first values of each vital signs, takes 8 min to get the first values, saved to save running time\n",
    "- `6_5_cohort3` -- UPDATED cohort with a COMPLETE set of first vital signs, used for ESI imputation\n",
    "- `6_5_coh3_vital_stats` -- summary stats of vital signs, updated 1_3_cohort, used for simple data\n"
   ]
  },
  {
   "cell_type": "markdown",
   "metadata": {},
   "source": [
    "### Importing R libraries"
   ]
  },
  {
   "cell_type": "code",
   "execution_count": 1,
   "metadata": {
    "ExecuteTime": {
     "end_time": "2020-05-21T00:38:06.078240Z",
     "start_time": "2020-05-21T00:38:02.778Z"
    }
   },
   "outputs": [
    {
     "name": "stderr",
     "output_type": "stream",
     "text": [
      "── \u001b[1mAttaching packages\u001b[22m ─────────────────────────────────────── tidyverse 1.3.1 ──\n",
      "\n",
      "\u001b[32m✔\u001b[39m \u001b[34mggplot2\u001b[39m 3.3.3     \u001b[32m✔\u001b[39m \u001b[34mpurrr  \u001b[39m 0.3.4\n",
      "\u001b[32m✔\u001b[39m \u001b[34mtibble \u001b[39m 3.1.2     \u001b[32m✔\u001b[39m \u001b[34mdplyr  \u001b[39m 1.0.6\n",
      "\u001b[32m✔\u001b[39m \u001b[34mtidyr  \u001b[39m 1.1.3     \u001b[32m✔\u001b[39m \u001b[34mstringr\u001b[39m 1.4.0\n",
      "\u001b[32m✔\u001b[39m \u001b[34mreadr  \u001b[39m 1.4.0     \u001b[32m✔\u001b[39m \u001b[34mforcats\u001b[39m 0.5.1\n",
      "\n",
      "── \u001b[1mConflicts\u001b[22m ────────────────────────────────────────── tidyverse_conflicts() ──\n",
      "\u001b[31m✖\u001b[39m \u001b[34mdplyr\u001b[39m::\u001b[32mfilter()\u001b[39m masks \u001b[34mstats\u001b[39m::filter()\n",
      "\u001b[31m✖\u001b[39m \u001b[34mdplyr\u001b[39m::\u001b[32mlag()\u001b[39m    masks \u001b[34mstats\u001b[39m::lag()\n",
      "\n",
      "\n",
      "Attaching package: ‘lubridate’\n",
      "\n",
      "\n",
      "The following objects are masked from ‘package:base’:\n",
      "\n",
      "    date, intersect, setdiff, union\n",
      "\n",
      "\n"
     ]
    }
   ],
   "source": [
    "library(bigrquery)  # to query STARR-OMOP (stored in BigQuery) using SQL\n",
    "library(tidyverse)\n",
    "library(lubridate)\n",
    "\n",
    "# library(data.table)\n",
    "# library(Matrix)\n",
    "# library(caret) # import this before glmnet to avoid rlang version problem\n",
    "# library(glmnet)\n",
    "# library(bit64)\n",
    "\n",
    "# library(slam)\n",
    "# library(mtools) for one hot coder, not available on Nero or use caret or tidyr\n",
    "# library(mice)\n",
    "\n",
    "options(repr.matrix.max.rows=250, repr.matrix.max.cols=30)"
   ]
  },
  {
   "cell_type": "markdown",
   "metadata": {},
   "source": [
    "### Set up and run queries\n",
    "Do this on Nero GCP as querying from a local computer takes much longer time"
   ]
  },
  {
   "cell_type": "code",
   "execution_count": 2,
   "metadata": {},
   "outputs": [
    {
     "data": {
      "text/plain": [
       "NULL"
      ]
     },
     "metadata": {},
     "output_type": "display_data"
    }
   ],
   "source": [
    "# CREDENTIALS depending on LOCATIONS:\n",
    "# credential <- paste0(\"/home/\", \"minh084\", \"/.config/gcloud/application_default_credentials.json\")\n",
    "\n",
    "# local computer\n",
    "# credential <- \"C:/Users/User/AppData/Roaming/gcloud/application_default_credentials.json\"\n",
    "\n",
    "# Nero onprem\n",
    "# credential <- \"/home/minh084/.config/gcloud/application_default_credentials.json\"\n",
    "\n",
    "# Nero gcp notebook\n",
    "credential <- \"/home/jupyter/.config/gcloud/application_default_credentials.json\"\n",
    "\n",
    "project_id <- \"som-nero-phi-jonc101\"\n",
    "\n",
    "Sys.setenv(GOOGLE_APPLICATION_CREDENTIALS = credential)\n",
    "Sys.setenv(GCLOUD_PROJECT = project_id)\n",
    "gargle::credentials_app_default()"
   ]
  },
  {
   "cell_type": "code",
   "execution_count": 3,
   "metadata": {},
   "outputs": [
    {
     "data": {
      "text/plain": [
       "<BigQueryConnection>\n",
       "  Dataset: som-nero-phi-jonc101.shc_core_2021\n",
       "  Billing: som-nero-phi-jonc101"
      ]
     },
     "metadata": {},
     "output_type": "display_data"
    },
    {
     "data": {
      "text/html": [
       "<style>\n",
       ".list-inline {list-style: none; margin:0; padding: 0}\n",
       ".list-inline>li {display: inline-block}\n",
       ".list-inline>li:not(:last-child)::after {content: \"\\00b7\"; padding: 0 .5ex}\n",
       "</style>\n",
       "<ol class=list-inline><li>'adt'</li><li>'alert'</li><li>'alert_history'</li><li>'alerts_orders'</li><li>'allergy'</li><li>'alt_com_action'</li><li>'clinical_doc_meta'</li><li>'culture_sensitivity'</li><li>'demographic'</li><li>'dep_map'</li><li>'diagnosis'</li><li>'drg_code'</li><li>'encounter'</li><li>'f_ip_hsp_admission'</li><li>'family_hx'</li><li>'flowsheet'</li><li>'lab_result'</li><li>'lda'</li><li>'med_orderset'</li><li>'myc_mesg'</li><li>'ndc_code'</li><li>'order_comment'</li><li>'order_med'</li><li>'order_proc'</li><li>'order_quest'</li><li>'pharmacy_mar'</li><li>'proc_note'</li><li>'proc_orderset'</li><li>'procedure'</li><li>'prov_map'</li><li>'social_hx'</li><li>'temp_table'</li><li>'treatment_team'</li><li>'yn_jon_chen_lpch'</li></ol>\n"
      ],
      "text/latex": [
       "\\begin{enumerate*}\n",
       "\\item 'adt'\n",
       "\\item 'alert'\n",
       "\\item 'alert\\_history'\n",
       "\\item 'alerts\\_orders'\n",
       "\\item 'allergy'\n",
       "\\item 'alt\\_com\\_action'\n",
       "\\item 'clinical\\_doc\\_meta'\n",
       "\\item 'culture\\_sensitivity'\n",
       "\\item 'demographic'\n",
       "\\item 'dep\\_map'\n",
       "\\item 'diagnosis'\n",
       "\\item 'drg\\_code'\n",
       "\\item 'encounter'\n",
       "\\item 'f\\_ip\\_hsp\\_admission'\n",
       "\\item 'family\\_hx'\n",
       "\\item 'flowsheet'\n",
       "\\item 'lab\\_result'\n",
       "\\item 'lda'\n",
       "\\item 'med\\_orderset'\n",
       "\\item 'myc\\_mesg'\n",
       "\\item 'ndc\\_code'\n",
       "\\item 'order\\_comment'\n",
       "\\item 'order\\_med'\n",
       "\\item 'order\\_proc'\n",
       "\\item 'order\\_quest'\n",
       "\\item 'pharmacy\\_mar'\n",
       "\\item 'proc\\_note'\n",
       "\\item 'proc\\_orderset'\n",
       "\\item 'procedure'\n",
       "\\item 'prov\\_map'\n",
       "\\item 'social\\_hx'\n",
       "\\item 'temp\\_table'\n",
       "\\item 'treatment\\_team'\n",
       "\\item 'yn\\_jon\\_chen\\_lpch'\n",
       "\\end{enumerate*}\n"
      ],
      "text/markdown": [
       "1. 'adt'\n",
       "2. 'alert'\n",
       "3. 'alert_history'\n",
       "4. 'alerts_orders'\n",
       "5. 'allergy'\n",
       "6. 'alt_com_action'\n",
       "7. 'clinical_doc_meta'\n",
       "8. 'culture_sensitivity'\n",
       "9. 'demographic'\n",
       "10. 'dep_map'\n",
       "11. 'diagnosis'\n",
       "12. 'drg_code'\n",
       "13. 'encounter'\n",
       "14. 'f_ip_hsp_admission'\n",
       "15. 'family_hx'\n",
       "16. 'flowsheet'\n",
       "17. 'lab_result'\n",
       "18. 'lda'\n",
       "19. 'med_orderset'\n",
       "20. 'myc_mesg'\n",
       "21. 'ndc_code'\n",
       "22. 'order_comment'\n",
       "23. 'order_med'\n",
       "24. 'order_proc'\n",
       "25. 'order_quest'\n",
       "26. 'pharmacy_mar'\n",
       "27. 'proc_note'\n",
       "28. 'proc_orderset'\n",
       "29. 'procedure'\n",
       "30. 'prov_map'\n",
       "31. 'social_hx'\n",
       "32. 'temp_table'\n",
       "33. 'treatment_team'\n",
       "34. 'yn_jon_chen_lpch'\n",
       "\n",
       "\n"
      ],
      "text/plain": [
       " [1] \"adt\"                 \"alert\"               \"alert_history\"      \n",
       " [4] \"alerts_orders\"       \"allergy\"             \"alt_com_action\"     \n",
       " [7] \"clinical_doc_meta\"   \"culture_sensitivity\" \"demographic\"        \n",
       "[10] \"dep_map\"             \"diagnosis\"           \"drg_code\"           \n",
       "[13] \"encounter\"           \"f_ip_hsp_admission\"  \"family_hx\"          \n",
       "[16] \"flowsheet\"           \"lab_result\"          \"lda\"                \n",
       "[19] \"med_orderset\"        \"myc_mesg\"            \"ndc_code\"           \n",
       "[22] \"order_comment\"       \"order_med\"           \"order_proc\"         \n",
       "[25] \"order_quest\"         \"pharmacy_mar\"        \"proc_note\"          \n",
       "[28] \"proc_orderset\"       \"procedure\"           \"prov_map\"           \n",
       "[31] \"social_hx\"           \"temp_table\"          \"treatment_team\"     \n",
       "[34] \"yn_jon_chen_lpch\"   "
      ]
     },
     "metadata": {},
     "output_type": "display_data"
    }
   ],
   "source": [
    "library(DBI)\n",
    "con <- dbConnect(\n",
    "  bigrquery::bigquery(),\n",
    "  project = project_id,\n",
    "  dataset = \"shc_core_2021\" #, billing = project_id\n",
    ")\n",
    "con \n",
    "dbListTables(con)"
   ]
  },
  {
   "cell_type": "raw",
   "metadata": {},
   "source": [
    "# m5_flowsheet.sql\n",
    "\n",
    "SELECT c.*,\n",
    "    f.template, f.row_disp_name, f.units, f.recorded_time_utc, f.numerical_val_1 as num_value1, f.numerical_val_2 as num_value2\n",
    "FROM \n",
    "    `som-nero-phi-jonc101.triageTD.6_2_cohort2` as c \n",
    "JOIN \n",
    "    `som-nero-phi-jonc101.shc_core_2021.flowsheet` as f\n",
    "ON \n",
    "    (c.anon_id=f.anon_id and c.inpatient_data_id_coded=f.inpatient_data_id_coded)\n",
    "WHERE\n",
    "    recorded_time_utc < admit_time --, 'yyyy-mm-dd hh24:mi:ss'\n",
    "AND row_disp_name in \n",
    "('Heart Rate', 'Pulse', \"Resting HR\", 'Resting Heart Rate (bpm)', 'Resting Pulse Rate: (Record BPM)', \n",
    " 'O2', 'O2 (LPM)', 'O2 Flow (L/min)', 'O2 Delivery Method', \n",
    " 'Resp Rate', 'Resp', 'Respiratory Rate',\n",
    " 'BP', 'NIBP', 'Arterial Systolic BP' , 'Arterial Diastolic BP' , 'Blood Pressure', \"Resting BP\", --'Resting Systolic Blood Pressure',\n",
    " 'Temp', 'Temp (in Celsius)', 'Temperature (Blood - PA line)', 'Temp 2', 'Temperature', \n",
    " 'Activity', 'Mobility', \n",
    " 'acuity score', 'Acuity as Level of Care',\n",
    " 'LOC', 'LOC Score')\n",
    "\n",
    "# submit the query:\n",
    "update.packages('Rcpp')\n",
    "df <- dbGetQuery(con, q)\n",
    "dim(df)\n",
    "colnames(df)\n",
    "head(df, 3)"
   ]
  },
  {
   "cell_type": "markdown",
   "metadata": {},
   "source": [
    "## Part 1. Process vitals\n",
    "### First, check other flowsheet variables (f/u from Triage Project):\n",
    "   * Combine/collapse similar names into standard names for the below features\n",
    "   * Look at how common these are, look at the distributions, check extreme values on either sides\n",
    "   * Investigate some of these to see how far they are off from normal range to be considered errorneous.\n",
    "   * Note: num_value1 vs. num_value2, see details below\n",
    "   * Replace erroneous values as \"NA\".\n",
    "   \n",
    "**1. Blood pressure**: \n",
    "* DBP: num_value2 --> return NA if SBP > 10*DBP \n",
    "* There's no DBP without an SBP\n",
    "* Return NA for BP if both DBP and SBP are 0\n",
    "* SBP: return NA if < 30 or 33, same effect\n",
    "\n",
    "**2. Pulse**: return NA if < 21\n",
    "\n",
    "**3. Temp**: exist in both num_value1 and num_value2\n",
    "* num_value2 is not NA only when there's num_value1. if num_value1 is NA then num_value2 is also NA\n",
    "* For num_value1 <= 60, take it as Celcius degree\n",
    "* For num_value1 > 60, convert this temp in F to C\n",
    "* Return NA for num_value1 < 20 --> only 2: 0.1 and 9.4 (lowest 26C)\n",
    "\n",
    "**4. Respiratory Rate (RR)**: return NA for < 4 or > 60"
   ]
  },
  {
   "cell_type": "code",
   "execution_count": 4,
   "metadata": {},
   "outputs": [
    {
     "data": {
      "text/html": [
       "17128"
      ],
      "text/latex": [
       "17128"
      ],
      "text/markdown": [
       "17128"
      ],
      "text/plain": [
       "[1] 17128"
      ]
     },
     "metadata": {},
     "output_type": "display_data"
    },
    {
     "data": {
      "text/html": [
       "376599"
      ],
      "text/latex": [
       "376599"
      ],
      "text/markdown": [
       "376599"
      ],
      "text/plain": [
       "[1] 376599"
      ]
     },
     "metadata": {},
     "output_type": "display_data"
    },
    {
     "data": {
      "text/html": [
       "<style>\n",
       ".list-inline {list-style: none; margin:0; padding: 0}\n",
       ".list-inline>li {display: inline-block}\n",
       ".list-inline>li:not(:last-child)::after {content: \"\\00b7\"; padding: 0 .5ex}\n",
       "</style>\n",
       "<ol class=list-inline><li>'anon_id'</li><li>'pat_enc_csn_id_coded'</li><li>'inpatient_data_id_coded'</li><li>'admit_time'</li><li>'label'</li><li>'template'</li><li>'row_disp_name'</li><li>'units'</li><li>'recorded_time_utc'</li><li>'num_value1'</li><li>'num_value2'</li></ol>\n"
      ],
      "text/latex": [
       "\\begin{enumerate*}\n",
       "\\item 'anon\\_id'\n",
       "\\item 'pat\\_enc\\_csn\\_id\\_coded'\n",
       "\\item 'inpatient\\_data\\_id\\_coded'\n",
       "\\item 'admit\\_time'\n",
       "\\item 'label'\n",
       "\\item 'template'\n",
       "\\item 'row\\_disp\\_name'\n",
       "\\item 'units'\n",
       "\\item 'recorded\\_time\\_utc'\n",
       "\\item 'num\\_value1'\n",
       "\\item 'num\\_value2'\n",
       "\\end{enumerate*}\n"
      ],
      "text/markdown": [
       "1. 'anon_id'\n",
       "2. 'pat_enc_csn_id_coded'\n",
       "3. 'inpatient_data_id_coded'\n",
       "4. 'admit_time'\n",
       "5. 'label'\n",
       "6. 'template'\n",
       "7. 'row_disp_name'\n",
       "8. 'units'\n",
       "9. 'recorded_time_utc'\n",
       "10. 'num_value1'\n",
       "11. 'num_value2'\n",
       "\n",
       "\n"
      ],
      "text/plain": [
       " [1] \"anon_id\"                 \"pat_enc_csn_id_coded\"   \n",
       " [3] \"inpatient_data_id_coded\" \"admit_time\"             \n",
       " [5] \"label\"                   \"template\"               \n",
       " [7] \"row_disp_name\"           \"units\"                  \n",
       " [9] \"recorded_time_utc\"       \"num_value1\"             \n",
       "[11] \"num_value2\"             "
      ]
     },
     "metadata": {},
     "output_type": "display_data"
    }
   ],
   "source": [
    "# read inputs\n",
    "datadir6 = \"../../DataTD/validation\"\n",
    "valdir = \"../../OutputTD/6_validation\"\n",
    "\n",
    "cohort <- read.csv(file.path(valdir, \"6_4_coh2_demoHW.csv\"))\n",
    "vitals0 <- read.csv(file.path(datadir6, \"flowsheet_2021.csv\")) \n",
    "\n",
    "# check for unique CSNs and MRNs\n",
    "nrow(cohort) # 17131\n",
    "nrow(vitals0) #depending on which cohort_demo used to query flowsheet 218930\n",
    "colnames(vitals0) #"
   ]
  },
  {
   "cell_type": "code",
   "execution_count": 5,
   "metadata": {},
   "outputs": [
    {
     "data": {
      "text/html": [
       "<table class=\"dataframe\">\n",
       "<caption>A data.frame: 1 × 16</caption>\n",
       "<thead>\n",
       "\t<tr><th></th><th scope=col>anon_id</th><th scope=col>pat_enc_csn_id_coded</th><th scope=col>admit_time_jittered</th><th scope=col>label</th><th scope=col>admit_time</th><th scope=col>adm_year</th><th scope=col>adm_month</th><th scope=col>inpatient_data_id_coded</th><th scope=col>ESI</th><th scope=col>gender</th><th scope=col>race</th><th scope=col>insurance</th><th scope=col>age</th><th scope=col>English</th><th scope=col>Height</th><th scope=col>Weight</th></tr>\n",
       "\t<tr><th></th><th scope=col>&lt;chr&gt;</th><th scope=col>&lt;dbl&gt;</th><th scope=col>&lt;chr&gt;</th><th scope=col>&lt;int&gt;</th><th scope=col>&lt;chr&gt;</th><th scope=col>&lt;int&gt;</th><th scope=col>&lt;int&gt;</th><th scope=col>&lt;int&gt;</th><th scope=col>&lt;int&gt;</th><th scope=col>&lt;chr&gt;</th><th scope=col>&lt;chr&gt;</th><th scope=col>&lt;int&gt;</th><th scope=col>&lt;int&gt;</th><th scope=col>&lt;int&gt;</th><th scope=col>&lt;dbl&gt;</th><th scope=col>&lt;dbl&gt;</th></tr>\n",
       "</thead>\n",
       "<tbody>\n",
       "\t<tr><th scope=row>1</th><td>JC1000116</td><td>131295313275</td><td>2020-09-29 22:45:00+00:00</td><td>0</td><td>2020-09-29 22:45:00</td><td>2020</td><td>9</td><td>57868578</td><td>3</td><td>Female</td><td>Other</td><td>1</td><td>44</td><td>0</td><td>154</td><td>73.05</td></tr>\n",
       "</tbody>\n",
       "</table>\n"
      ],
      "text/latex": [
       "A data.frame: 1 × 16\n",
       "\\begin{tabular}{r|llllllllllllllll}\n",
       "  & anon\\_id & pat\\_enc\\_csn\\_id\\_coded & admit\\_time\\_jittered & label & admit\\_time & adm\\_year & adm\\_month & inpatient\\_data\\_id\\_coded & ESI & gender & race & insurance & age & English & Height & Weight\\\\\n",
       "  & <chr> & <dbl> & <chr> & <int> & <chr> & <int> & <int> & <int> & <int> & <chr> & <chr> & <int> & <int> & <int> & <dbl> & <dbl>\\\\\n",
       "\\hline\n",
       "\t1 & JC1000116 & 131295313275 & 2020-09-29 22:45:00+00:00 & 0 & 2020-09-29 22:45:00 & 2020 & 9 & 57868578 & 3 & Female & Other & 1 & 44 & 0 & 154 & 73.05\\\\\n",
       "\\end{tabular}\n"
      ],
      "text/markdown": [
       "\n",
       "A data.frame: 1 × 16\n",
       "\n",
       "| <!--/--> | anon_id &lt;chr&gt; | pat_enc_csn_id_coded &lt;dbl&gt; | admit_time_jittered &lt;chr&gt; | label &lt;int&gt; | admit_time &lt;chr&gt; | adm_year &lt;int&gt; | adm_month &lt;int&gt; | inpatient_data_id_coded &lt;int&gt; | ESI &lt;int&gt; | gender &lt;chr&gt; | race &lt;chr&gt; | insurance &lt;int&gt; | age &lt;int&gt; | English &lt;int&gt; | Height &lt;dbl&gt; | Weight &lt;dbl&gt; |\n",
       "|---|---|---|---|---|---|---|---|---|---|---|---|---|---|---|---|---|\n",
       "| 1 | JC1000116 | 131295313275 | 2020-09-29 22:45:00+00:00 | 0 | 2020-09-29 22:45:00 | 2020 | 9 | 57868578 | 3 | Female | Other | 1 | 44 | 0 | 154 | 73.05 |\n",
       "\n"
      ],
      "text/plain": [
       "  anon_id   pat_enc_csn_id_coded admit_time_jittered       label\n",
       "1 JC1000116 131295313275         2020-09-29 22:45:00+00:00 0    \n",
       "  admit_time          adm_year adm_month inpatient_data_id_coded ESI gender\n",
       "1 2020-09-29 22:45:00 2020     9         57868578                3   Female\n",
       "  race  insurance age English Height Weight\n",
       "1 Other 1         44  0       154    73.05 "
      ]
     },
     "metadata": {},
     "output_type": "display_data"
    },
    {
     "data": {
      "text/html": [
       "<table class=\"dataframe\">\n",
       "<caption>A data.frame: 1 × 11</caption>\n",
       "<thead>\n",
       "\t<tr><th></th><th scope=col>anon_id</th><th scope=col>pat_enc_csn_id_coded</th><th scope=col>inpatient_data_id_coded</th><th scope=col>admit_time</th><th scope=col>label</th><th scope=col>template</th><th scope=col>row_disp_name</th><th scope=col>units</th><th scope=col>recorded_time_utc</th><th scope=col>num_value1</th><th scope=col>num_value2</th></tr>\n",
       "\t<tr><th></th><th scope=col>&lt;chr&gt;</th><th scope=col>&lt;dbl&gt;</th><th scope=col>&lt;int&gt;</th><th scope=col>&lt;chr&gt;</th><th scope=col>&lt;int&gt;</th><th scope=col>&lt;chr&gt;</th><th scope=col>&lt;chr&gt;</th><th scope=col>&lt;chr&gt;</th><th scope=col>&lt;chr&gt;</th><th scope=col>&lt;dbl&gt;</th><th scope=col>&lt;dbl&gt;</th></tr>\n",
       "</thead>\n",
       "<tbody>\n",
       "\t<tr><th scope=row>1</th><td>JC559420</td><td>131299341174</td><td>60305489</td><td>2020-11-25 22:43:00+00:00</td><td>1</td><td>Mod Sedation</td><td>LOC Score</td><td></td><td>2020-11-25 22:15:00+00:00</td><td>1</td><td>NA</td></tr>\n",
       "</tbody>\n",
       "</table>\n"
      ],
      "text/latex": [
       "A data.frame: 1 × 11\n",
       "\\begin{tabular}{r|lllllllllll}\n",
       "  & anon\\_id & pat\\_enc\\_csn\\_id\\_coded & inpatient\\_data\\_id\\_coded & admit\\_time & label & template & row\\_disp\\_name & units & recorded\\_time\\_utc & num\\_value1 & num\\_value2\\\\\n",
       "  & <chr> & <dbl> & <int> & <chr> & <int> & <chr> & <chr> & <chr> & <chr> & <dbl> & <dbl>\\\\\n",
       "\\hline\n",
       "\t1 & JC559420 & 131299341174 & 60305489 & 2020-11-25 22:43:00+00:00 & 1 & Mod Sedation & LOC Score &  & 2020-11-25 22:15:00+00:00 & 1 & NA\\\\\n",
       "\\end{tabular}\n"
      ],
      "text/markdown": [
       "\n",
       "A data.frame: 1 × 11\n",
       "\n",
       "| <!--/--> | anon_id &lt;chr&gt; | pat_enc_csn_id_coded &lt;dbl&gt; | inpatient_data_id_coded &lt;int&gt; | admit_time &lt;chr&gt; | label &lt;int&gt; | template &lt;chr&gt; | row_disp_name &lt;chr&gt; | units &lt;chr&gt; | recorded_time_utc &lt;chr&gt; | num_value1 &lt;dbl&gt; | num_value2 &lt;dbl&gt; |\n",
       "|---|---|---|---|---|---|---|---|---|---|---|---|\n",
       "| 1 | JC559420 | 131299341174 | 60305489 | 2020-11-25 22:43:00+00:00 | 1 | Mod Sedation | LOC Score | <!----> | 2020-11-25 22:15:00+00:00 | 1 | NA |\n",
       "\n"
      ],
      "text/plain": [
       "  anon_id  pat_enc_csn_id_coded inpatient_data_id_coded\n",
       "1 JC559420 131299341174         60305489               \n",
       "  admit_time                label template     row_disp_name units\n",
       "1 2020-11-25 22:43:00+00:00 1     Mod Sedation LOC Score          \n",
       "  recorded_time_utc         num_value1 num_value2\n",
       "1 2020-11-25 22:15:00+00:00 1          NA        "
      ]
     },
     "metadata": {},
     "output_type": "display_data"
    }
   ],
   "source": [
    "head(cohort, n=1)\n",
    "head(vitals0, n=1)"
   ]
  },
  {
   "cell_type": "code",
   "execution_count": 6,
   "metadata": {},
   "outputs": [
    {
     "data": {
      "text/html": [
       "<table class=\"dataframe\">\n",
       "<caption>A grouped_df: 3 × 2</caption>\n",
       "<thead>\n",
       "\t<tr><th scope=col>units</th><th scope=col>n</th></tr>\n",
       "\t<tr><th scope=col>&lt;chr&gt;</th><th scope=col>&lt;int&gt;</th></tr>\n",
       "</thead>\n",
       "<tbody>\n",
       "\t<tr><td>   </td><td>364449</td></tr>\n",
       "\t<tr><td>bpm</td><td>    12</td></tr>\n",
       "\t<tr><td>LPM</td><td> 12138</td></tr>\n",
       "</tbody>\n",
       "</table>\n"
      ],
      "text/latex": [
       "A grouped\\_df: 3 × 2\n",
       "\\begin{tabular}{ll}\n",
       " units & n\\\\\n",
       " <chr> & <int>\\\\\n",
       "\\hline\n",
       "\t     & 364449\\\\\n",
       "\t bpm &     12\\\\\n",
       "\t LPM &  12138\\\\\n",
       "\\end{tabular}\n"
      ],
      "text/markdown": [
       "\n",
       "A grouped_df: 3 × 2\n",
       "\n",
       "| units &lt;chr&gt; | n &lt;int&gt; |\n",
       "|---|---|\n",
       "| <!----> | 364449 |\n",
       "| bpm |     12 |\n",
       "| LPM |  12138 |\n",
       "\n"
      ],
      "text/plain": [
       "  units n     \n",
       "1       364449\n",
       "2 bpm       12\n",
       "3 LPM    12138"
      ]
     },
     "metadata": {},
     "output_type": "display_data"
    },
    {
     "data": {
      "text/html": [
       "<table class=\"dataframe\">\n",
       "<caption>A grouped_df: 18 × 2</caption>\n",
       "<thead>\n",
       "\t<tr><th scope=col>row_disp_name</th><th scope=col>n</th></tr>\n",
       "\t<tr><th scope=col>&lt;chr&gt;</th><th scope=col>&lt;int&gt;</th></tr>\n",
       "</thead>\n",
       "<tbody>\n",
       "\t<tr><td>Pulse                           </td><td>94831</td></tr>\n",
       "\t<tr><td>Resp                            </td><td>89749</td></tr>\n",
       "\t<tr><td>BP                              </td><td>85309</td></tr>\n",
       "\t<tr><td>Heart Rate                      </td><td>26698</td></tr>\n",
       "\t<tr><td>Temp                            </td><td>25826</td></tr>\n",
       "\t<tr><td>Temp (in Celsius)               </td><td>23183</td></tr>\n",
       "\t<tr><td>O2 (LPM)                        </td><td>12138</td></tr>\n",
       "\t<tr><td>Mobility                        </td><td>10601</td></tr>\n",
       "\t<tr><td>Activity                        </td><td> 5573</td></tr>\n",
       "\t<tr><td>LOC                             </td><td> 1787</td></tr>\n",
       "\t<tr><td>Respiratory Rate                </td><td>  485</td></tr>\n",
       "\t<tr><td>LOC Score                       </td><td>  341</td></tr>\n",
       "\t<tr><td>O2 Delivery Method              </td><td>   29</td></tr>\n",
       "\t<tr><td>Arterial Systolic BP            </td><td>   28</td></tr>\n",
       "\t<tr><td>Resp Rate                       </td><td>   12</td></tr>\n",
       "\t<tr><td>Blood Pressure                  </td><td>    5</td></tr>\n",
       "\t<tr><td>Resting Pulse Rate: (Record BPM)</td><td>    3</td></tr>\n",
       "\t<tr><td>Arterial Diastolic BP           </td><td>    1</td></tr>\n",
       "</tbody>\n",
       "</table>\n"
      ],
      "text/latex": [
       "A grouped\\_df: 18 × 2\n",
       "\\begin{tabular}{ll}\n",
       " row\\_disp\\_name & n\\\\\n",
       " <chr> & <int>\\\\\n",
       "\\hline\n",
       "\t Pulse                            & 94831\\\\\n",
       "\t Resp                             & 89749\\\\\n",
       "\t BP                               & 85309\\\\\n",
       "\t Heart Rate                       & 26698\\\\\n",
       "\t Temp                             & 25826\\\\\n",
       "\t Temp (in Celsius)                & 23183\\\\\n",
       "\t O2 (LPM)                         & 12138\\\\\n",
       "\t Mobility                         & 10601\\\\\n",
       "\t Activity                         &  5573\\\\\n",
       "\t LOC                              &  1787\\\\\n",
       "\t Respiratory Rate                 &   485\\\\\n",
       "\t LOC Score                        &   341\\\\\n",
       "\t O2 Delivery Method               &    29\\\\\n",
       "\t Arterial Systolic BP             &    28\\\\\n",
       "\t Resp Rate                        &    12\\\\\n",
       "\t Blood Pressure                   &     5\\\\\n",
       "\t Resting Pulse Rate: (Record BPM) &     3\\\\\n",
       "\t Arterial Diastolic BP            &     1\\\\\n",
       "\\end{tabular}\n"
      ],
      "text/markdown": [
       "\n",
       "A grouped_df: 18 × 2\n",
       "\n",
       "| row_disp_name &lt;chr&gt; | n &lt;int&gt; |\n",
       "|---|---|\n",
       "| Pulse                            | 94831 |\n",
       "| Resp                             | 89749 |\n",
       "| BP                               | 85309 |\n",
       "| Heart Rate                       | 26698 |\n",
       "| Temp                             | 25826 |\n",
       "| Temp (in Celsius)                | 23183 |\n",
       "| O2 (LPM)                         | 12138 |\n",
       "| Mobility                         | 10601 |\n",
       "| Activity                         |  5573 |\n",
       "| LOC                              |  1787 |\n",
       "| Respiratory Rate                 |   485 |\n",
       "| LOC Score                        |   341 |\n",
       "| O2 Delivery Method               |    29 |\n",
       "| Arterial Systolic BP             |    28 |\n",
       "| Resp Rate                        |    12 |\n",
       "| Blood Pressure                   |     5 |\n",
       "| Resting Pulse Rate: (Record BPM) |     3 |\n",
       "| Arterial Diastolic BP            |     1 |\n",
       "\n"
      ],
      "text/plain": [
       "   row_disp_name                    n    \n",
       "1  Pulse                            94831\n",
       "2  Resp                             89749\n",
       "3  BP                               85309\n",
       "4  Heart Rate                       26698\n",
       "5  Temp                             25826\n",
       "6  Temp (in Celsius)                23183\n",
       "7  O2 (LPM)                         12138\n",
       "8  Mobility                         10601\n",
       "9  Activity                          5573\n",
       "10 LOC                               1787\n",
       "11 Respiratory Rate                   485\n",
       "12 LOC Score                          341\n",
       "13 O2 Delivery Method                  29\n",
       "14 Arterial Systolic BP                28\n",
       "15 Resp Rate                           12\n",
       "16 Blood Pressure                       5\n",
       "17 Resting Pulse Rate: (Record BPM)     3\n",
       "18 Arterial Diastolic BP                1"
      ]
     },
     "metadata": {},
     "output_type": "display_data"
    }
   ],
   "source": [
    "vitals0 %>% group_by(units) %>% count()\n",
    "vitals0 %>% group_by(row_disp_name) %>% count() %>% arrange(-n)"
   ]
  },
  {
   "cell_type": "code",
   "execution_count": 7,
   "metadata": {},
   "outputs": [
    {
     "data": {
      "text/html": [
       "<table class=\"dataframe\">\n",
       "<caption>A data.frame: 15 × 4</caption>\n",
       "<thead>\n",
       "\t<tr><th scope=col>template</th><th scope=col>row_disp_name</th><th scope=col>num_value1</th><th scope=col>num_value2</th></tr>\n",
       "\t<tr><th scope=col>&lt;chr&gt;</th><th scope=col>&lt;chr&gt;</th><th scope=col>&lt;dbl&gt;</th><th scope=col>&lt;dbl&gt;</th></tr>\n",
       "</thead>\n",
       "<tbody>\n",
       "\t<tr><td>DATA VALIDATE                   </td><td>Resp Rate                       </td><td>18</td><td>NA</td></tr>\n",
       "\t<tr><td>DATA VALIDATE                   </td><td>Resp Rate                       </td><td>12</td><td>NA</td></tr>\n",
       "\t<tr><td>DATA VALIDATE                   </td><td>Resp Rate                       </td><td>10</td><td>NA</td></tr>\n",
       "\t<tr><td>DATA VALIDATE                   </td><td>Resp Rate                       </td><td>17</td><td>NA</td></tr>\n",
       "\t<tr><td>DATA VALIDATE                   </td><td>Resp Rate                       </td><td>19</td><td>NA</td></tr>\n",
       "\t<tr><td>DATA VALIDATE                   </td><td>Resp Rate                       </td><td>20</td><td>NA</td></tr>\n",
       "\t<tr><td>DATA VALIDATE                   </td><td>Resp Rate                       </td><td>17</td><td>NA</td></tr>\n",
       "\t<tr><td>DATA VALIDATE                   </td><td>Resp Rate                       </td><td>16</td><td>NA</td></tr>\n",
       "\t<tr><td>DATA VALIDATE                   </td><td>Resp Rate                       </td><td>15</td><td>NA</td></tr>\n",
       "\t<tr><td>DATA VALIDATE                   </td><td>Resp Rate                       </td><td>23</td><td>NA</td></tr>\n",
       "\t<tr><td>DATA VALIDATE                   </td><td>Resp Rate                       </td><td>26</td><td>NA</td></tr>\n",
       "\t<tr><td>DATA VALIDATE                   </td><td>Resp Rate                       </td><td>17</td><td>NA</td></tr>\n",
       "\t<tr><td>Clinical Opiate Withdrawal Scale</td><td>Resting Pulse Rate: (Record BPM)</td><td> 1</td><td>NA</td></tr>\n",
       "\t<tr><td>Clinical Opiate Withdrawal Scale</td><td>Resting Pulse Rate: (Record BPM)</td><td> 4</td><td>NA</td></tr>\n",
       "\t<tr><td>Clinical Opiate Withdrawal Scale</td><td>Resting Pulse Rate: (Record BPM)</td><td> 1</td><td>NA</td></tr>\n",
       "</tbody>\n",
       "</table>\n"
      ],
      "text/latex": [
       "A data.frame: 15 × 4\n",
       "\\begin{tabular}{llll}\n",
       " template & row\\_disp\\_name & num\\_value1 & num\\_value2\\\\\n",
       " <chr> & <chr> & <dbl> & <dbl>\\\\\n",
       "\\hline\n",
       "\t DATA VALIDATE                    & Resp Rate                        & 18 & NA\\\\\n",
       "\t DATA VALIDATE                    & Resp Rate                        & 12 & NA\\\\\n",
       "\t DATA VALIDATE                    & Resp Rate                        & 10 & NA\\\\\n",
       "\t DATA VALIDATE                    & Resp Rate                        & 17 & NA\\\\\n",
       "\t DATA VALIDATE                    & Resp Rate                        & 19 & NA\\\\\n",
       "\t DATA VALIDATE                    & Resp Rate                        & 20 & NA\\\\\n",
       "\t DATA VALIDATE                    & Resp Rate                        & 17 & NA\\\\\n",
       "\t DATA VALIDATE                    & Resp Rate                        & 16 & NA\\\\\n",
       "\t DATA VALIDATE                    & Resp Rate                        & 15 & NA\\\\\n",
       "\t DATA VALIDATE                    & Resp Rate                        & 23 & NA\\\\\n",
       "\t DATA VALIDATE                    & Resp Rate                        & 26 & NA\\\\\n",
       "\t DATA VALIDATE                    & Resp Rate                        & 17 & NA\\\\\n",
       "\t Clinical Opiate Withdrawal Scale & Resting Pulse Rate: (Record BPM) &  1 & NA\\\\\n",
       "\t Clinical Opiate Withdrawal Scale & Resting Pulse Rate: (Record BPM) &  4 & NA\\\\\n",
       "\t Clinical Opiate Withdrawal Scale & Resting Pulse Rate: (Record BPM) &  1 & NA\\\\\n",
       "\\end{tabular}\n"
      ],
      "text/markdown": [
       "\n",
       "A data.frame: 15 × 4\n",
       "\n",
       "| template &lt;chr&gt; | row_disp_name &lt;chr&gt; | num_value1 &lt;dbl&gt; | num_value2 &lt;dbl&gt; |\n",
       "|---|---|---|---|\n",
       "| DATA VALIDATE                    | Resp Rate                        | 18 | NA |\n",
       "| DATA VALIDATE                    | Resp Rate                        | 12 | NA |\n",
       "| DATA VALIDATE                    | Resp Rate                        | 10 | NA |\n",
       "| DATA VALIDATE                    | Resp Rate                        | 17 | NA |\n",
       "| DATA VALIDATE                    | Resp Rate                        | 19 | NA |\n",
       "| DATA VALIDATE                    | Resp Rate                        | 20 | NA |\n",
       "| DATA VALIDATE                    | Resp Rate                        | 17 | NA |\n",
       "| DATA VALIDATE                    | Resp Rate                        | 16 | NA |\n",
       "| DATA VALIDATE                    | Resp Rate                        | 15 | NA |\n",
       "| DATA VALIDATE                    | Resp Rate                        | 23 | NA |\n",
       "| DATA VALIDATE                    | Resp Rate                        | 26 | NA |\n",
       "| DATA VALIDATE                    | Resp Rate                        | 17 | NA |\n",
       "| Clinical Opiate Withdrawal Scale | Resting Pulse Rate: (Record BPM) |  1 | NA |\n",
       "| Clinical Opiate Withdrawal Scale | Resting Pulse Rate: (Record BPM) |  4 | NA |\n",
       "| Clinical Opiate Withdrawal Scale | Resting Pulse Rate: (Record BPM) |  1 | NA |\n",
       "\n"
      ],
      "text/plain": [
       "   template                         row_disp_name                    num_value1\n",
       "1  DATA VALIDATE                    Resp Rate                        18        \n",
       "2  DATA VALIDATE                    Resp Rate                        12        \n",
       "3  DATA VALIDATE                    Resp Rate                        10        \n",
       "4  DATA VALIDATE                    Resp Rate                        17        \n",
       "5  DATA VALIDATE                    Resp Rate                        19        \n",
       "6  DATA VALIDATE                    Resp Rate                        20        \n",
       "7  DATA VALIDATE                    Resp Rate                        17        \n",
       "8  DATA VALIDATE                    Resp Rate                        16        \n",
       "9  DATA VALIDATE                    Resp Rate                        15        \n",
       "10 DATA VALIDATE                    Resp Rate                        23        \n",
       "11 DATA VALIDATE                    Resp Rate                        26        \n",
       "12 DATA VALIDATE                    Resp Rate                        17        \n",
       "13 Clinical Opiate Withdrawal Scale Resting Pulse Rate: (Record BPM)  1        \n",
       "14 Clinical Opiate Withdrawal Scale Resting Pulse Rate: (Record BPM)  4        \n",
       "15 Clinical Opiate Withdrawal Scale Resting Pulse Rate: (Record BPM)  1        \n",
       "   num_value2\n",
       "1  NA        \n",
       "2  NA        \n",
       "3  NA        \n",
       "4  NA        \n",
       "5  NA        \n",
       "6  NA        \n",
       "7  NA        \n",
       "8  NA        \n",
       "9  NA        \n",
       "10 NA        \n",
       "11 NA        \n",
       "12 NA        \n",
       "13 NA        \n",
       "14 NA        \n",
       "15 NA        "
      ]
     },
     "metadata": {},
     "output_type": "display_data"
    }
   ],
   "source": [
    "# should only keep \"Resp Rate\"\n",
    "vitals0 %>% filter(row_disp_name %in% c(\"Resp Rate\", \"Resting Pulse Rate: (Record BPM)\", \"Temperature\")) %>%\n",
    "            arrange(row_disp_name) %>% select(template, row_disp_name, num_value1, num_value2)\n",
    "# vitals0 %>% filter(row_disp_name %in% c(\"Blood Pressure\", \"Arterial Systolic BP\" , \"NIBP\")) %>%\n",
    "#             arrange(row_disp_name) %>% select(template, row_disp_name, units, num_value1, num_value2)"
   ]
  },
  {
   "cell_type": "markdown",
   "metadata": {},
   "source": [
    "#### First, check the original vitals data to see which variables can be kept\n",
    "Meaningful values:\n",
    "\n",
    "Pulse, Resp, BP, Temp, Temp (in Celsius), Heart Rate, Resp Rate, NIBP\n",
    "\n",
    "Already eliminated GCS from previous work in Triage project due to large missing data"
   ]
  },
  {
   "cell_type": "code",
   "execution_count": 8,
   "metadata": {},
   "outputs": [],
   "source": [
    "# check summary to see num_value1 vs num_value\n",
    "display_summary_num1and2 <- function(df, var1, var2){\n",
    "    suppressWarnings(\n",
    "        df %>% summarise(n=n(), \n",
    "                        mean1 = mean({{var1}}, na.rm=T), mean2 = mean({{var2}}, na.rm=T),\n",
    "                        median1 = median({{var1}}, na.rm=T), median2 = median({{var2}}, na.rm=T),\n",
    "                        min1 = min({{var1}}, na.rm=T), min2 = min({{var2}}, na.rm=T), \n",
    "                        max1 = max({{var1}}, na.rm=T), max2 = max({{var2}}, na.rm=T)) %>%\n",
    "                arrange(desc(n))\n",
    "    )\n",
    "}"
   ]
  },
  {
   "cell_type": "code",
   "execution_count": 9,
   "metadata": {},
   "outputs": [
    {
     "data": {
      "text/html": [
       "<table class=\"dataframe\">\n",
       "<caption>A tibble: 18 × 10</caption>\n",
       "<thead>\n",
       "\t<tr><th scope=col>row_disp_name</th><th scope=col>n</th><th scope=col>mean1</th><th scope=col>mean2</th><th scope=col>median1</th><th scope=col>median2</th><th scope=col>min1</th><th scope=col>min2</th><th scope=col>max1</th><th scope=col>max2</th></tr>\n",
       "\t<tr><th scope=col>&lt;chr&gt;</th><th scope=col>&lt;int&gt;</th><th scope=col>&lt;dbl&gt;</th><th scope=col>&lt;dbl&gt;</th><th scope=col>&lt;dbl&gt;</th><th scope=col>&lt;dbl&gt;</th><th scope=col>&lt;dbl&gt;</th><th scope=col>&lt;dbl&gt;</th><th scope=col>&lt;dbl&gt;</th><th scope=col>&lt;dbl&gt;</th></tr>\n",
       "</thead>\n",
       "<tbody>\n",
       "\t<tr><td>Pulse                           </td><td>94831</td><td> 88.778816</td><td>     NaN</td><td> 87.0</td><td>  NA</td><td> 0.0</td><td>Inf</td><td>262.0</td><td> -Inf</td></tr>\n",
       "\t<tr><td>Resp                            </td><td>89749</td><td> 19.725899</td><td>     NaN</td><td> 18.0</td><td>  NA</td><td> 0.0</td><td>Inf</td><td>120.0</td><td> -Inf</td></tr>\n",
       "\t<tr><td>BP                              </td><td>85309</td><td>128.614799</td><td>76.62916</td><td>127.0</td><td>76.0</td><td>30.0</td><td>  4</td><td>270.0</td><td>219.0</td></tr>\n",
       "\t<tr><td>Heart Rate                      </td><td>26698</td><td> 90.553921</td><td>     NaN</td><td> 88.0</td><td>  NA</td><td> 0.0</td><td>Inf</td><td>295.0</td><td> -Inf</td></tr>\n",
       "\t<tr><td>Temp                            </td><td>25826</td><td> 97.348069</td><td>98.31800</td><td> 98.2</td><td>98.2</td><td>35.0</td><td> 95</td><td>106.0</td><td>103.1</td></tr>\n",
       "\t<tr><td>Temp (in Celsius)               </td><td>23183</td><td> 36.942824</td><td>     NaN</td><td> 36.8</td><td>  NA</td><td> 2.5</td><td>Inf</td><td> 41.1</td><td> -Inf</td></tr>\n",
       "\t<tr><td>O2 (LPM)                        </td><td>12138</td><td>  6.042786</td><td>     NaN</td><td>  2.5</td><td>  NA</td><td> 0.0</td><td>Inf</td><td>730.0</td><td> -Inf</td></tr>\n",
       "\t<tr><td>Mobility                        </td><td>10601</td><td>  3.607754</td><td>     NaN</td><td>  4.0</td><td>  NA</td><td> 1.0</td><td>Inf</td><td>  4.0</td><td> -Inf</td></tr>\n",
       "\t<tr><td>Activity                        </td><td> 5573</td><td>  3.573621</td><td>     NaN</td><td>  4.0</td><td>  NA</td><td> 0.0</td><td>Inf</td><td>  4.0</td><td> -Inf</td></tr>\n",
       "\t<tr><td>LOC                             </td><td> 1787</td><td>  1.425600</td><td>     NaN</td><td>  2.0</td><td>  NA</td><td> 0.0</td><td>Inf</td><td>  2.0</td><td> -Inf</td></tr>\n",
       "\t<tr><td>Respiratory Rate                </td><td>  485</td><td>  3.979381</td><td>     NaN</td><td>  4.0</td><td>  NA</td><td> 0.0</td><td>Inf</td><td>  4.0</td><td> -Inf</td></tr>\n",
       "\t<tr><td>LOC Score                       </td><td>  341</td><td>  1.497059</td><td>     NaN</td><td>  2.0</td><td>  NA</td><td> 0.0</td><td>Inf</td><td>  2.0</td><td> -Inf</td></tr>\n",
       "\t<tr><td>O2 Delivery Method              </td><td>   29</td><td>       NaN</td><td>     NaN</td><td>   NA</td><td>  NA</td><td> Inf</td><td>Inf</td><td> -Inf</td><td> -Inf</td></tr>\n",
       "\t<tr><td>Arterial Systolic BP            </td><td>   28</td><td>       NaN</td><td>     NaN</td><td>   NA</td><td>  NA</td><td> Inf</td><td>Inf</td><td> -Inf</td><td> -Inf</td></tr>\n",
       "\t<tr><td>Resp Rate                       </td><td>   12</td><td> 17.500000</td><td>     NaN</td><td> 17.0</td><td>  NA</td><td>10.0</td><td>Inf</td><td> 26.0</td><td> -Inf</td></tr>\n",
       "\t<tr><td>Blood Pressure                  </td><td>    5</td><td>  2.000000</td><td>     NaN</td><td>  2.0</td><td>  NA</td><td> 2.0</td><td>Inf</td><td>  2.0</td><td> -Inf</td></tr>\n",
       "\t<tr><td>Resting Pulse Rate: (Record BPM)</td><td>    3</td><td>  2.000000</td><td>     NaN</td><td>  1.0</td><td>  NA</td><td> 1.0</td><td>Inf</td><td>  4.0</td><td> -Inf</td></tr>\n",
       "\t<tr><td>Arterial Diastolic BP           </td><td>    1</td><td> 44.000000</td><td>     NaN</td><td> 44.0</td><td>  NA</td><td>44.0</td><td>Inf</td><td> 44.0</td><td> -Inf</td></tr>\n",
       "</tbody>\n",
       "</table>\n"
      ],
      "text/latex": [
       "A tibble: 18 × 10\n",
       "\\begin{tabular}{llllllllll}\n",
       " row\\_disp\\_name & n & mean1 & mean2 & median1 & median2 & min1 & min2 & max1 & max2\\\\\n",
       " <chr> & <int> & <dbl> & <dbl> & <dbl> & <dbl> & <dbl> & <dbl> & <dbl> & <dbl>\\\\\n",
       "\\hline\n",
       "\t Pulse                            & 94831 &  88.778816 &      NaN &  87.0 &   NA &  0.0 & Inf & 262.0 &  -Inf\\\\\n",
       "\t Resp                             & 89749 &  19.725899 &      NaN &  18.0 &   NA &  0.0 & Inf & 120.0 &  -Inf\\\\\n",
       "\t BP                               & 85309 & 128.614799 & 76.62916 & 127.0 & 76.0 & 30.0 &   4 & 270.0 & 219.0\\\\\n",
       "\t Heart Rate                       & 26698 &  90.553921 &      NaN &  88.0 &   NA &  0.0 & Inf & 295.0 &  -Inf\\\\\n",
       "\t Temp                             & 25826 &  97.348069 & 98.31800 &  98.2 & 98.2 & 35.0 &  95 & 106.0 & 103.1\\\\\n",
       "\t Temp (in Celsius)                & 23183 &  36.942824 &      NaN &  36.8 &   NA &  2.5 & Inf &  41.1 &  -Inf\\\\\n",
       "\t O2 (LPM)                         & 12138 &   6.042786 &      NaN &   2.5 &   NA &  0.0 & Inf & 730.0 &  -Inf\\\\\n",
       "\t Mobility                         & 10601 &   3.607754 &      NaN &   4.0 &   NA &  1.0 & Inf &   4.0 &  -Inf\\\\\n",
       "\t Activity                         &  5573 &   3.573621 &      NaN &   4.0 &   NA &  0.0 & Inf &   4.0 &  -Inf\\\\\n",
       "\t LOC                              &  1787 &   1.425600 &      NaN &   2.0 &   NA &  0.0 & Inf &   2.0 &  -Inf\\\\\n",
       "\t Respiratory Rate                 &   485 &   3.979381 &      NaN &   4.0 &   NA &  0.0 & Inf &   4.0 &  -Inf\\\\\n",
       "\t LOC Score                        &   341 &   1.497059 &      NaN &   2.0 &   NA &  0.0 & Inf &   2.0 &  -Inf\\\\\n",
       "\t O2 Delivery Method               &    29 &        NaN &      NaN &    NA &   NA &  Inf & Inf &  -Inf &  -Inf\\\\\n",
       "\t Arterial Systolic BP             &    28 &        NaN &      NaN &    NA &   NA &  Inf & Inf &  -Inf &  -Inf\\\\\n",
       "\t Resp Rate                        &    12 &  17.500000 &      NaN &  17.0 &   NA & 10.0 & Inf &  26.0 &  -Inf\\\\\n",
       "\t Blood Pressure                   &     5 &   2.000000 &      NaN &   2.0 &   NA &  2.0 & Inf &   2.0 &  -Inf\\\\\n",
       "\t Resting Pulse Rate: (Record BPM) &     3 &   2.000000 &      NaN &   1.0 &   NA &  1.0 & Inf &   4.0 &  -Inf\\\\\n",
       "\t Arterial Diastolic BP            &     1 &  44.000000 &      NaN &  44.0 &   NA & 44.0 & Inf &  44.0 &  -Inf\\\\\n",
       "\\end{tabular}\n"
      ],
      "text/markdown": [
       "\n",
       "A tibble: 18 × 10\n",
       "\n",
       "| row_disp_name &lt;chr&gt; | n &lt;int&gt; | mean1 &lt;dbl&gt; | mean2 &lt;dbl&gt; | median1 &lt;dbl&gt; | median2 &lt;dbl&gt; | min1 &lt;dbl&gt; | min2 &lt;dbl&gt; | max1 &lt;dbl&gt; | max2 &lt;dbl&gt; |\n",
       "|---|---|---|---|---|---|---|---|---|---|\n",
       "| Pulse                            | 94831 |  88.778816 |      NaN |  87.0 |   NA |  0.0 | Inf | 262.0 |  -Inf |\n",
       "| Resp                             | 89749 |  19.725899 |      NaN |  18.0 |   NA |  0.0 | Inf | 120.0 |  -Inf |\n",
       "| BP                               | 85309 | 128.614799 | 76.62916 | 127.0 | 76.0 | 30.0 |   4 | 270.0 | 219.0 |\n",
       "| Heart Rate                       | 26698 |  90.553921 |      NaN |  88.0 |   NA |  0.0 | Inf | 295.0 |  -Inf |\n",
       "| Temp                             | 25826 |  97.348069 | 98.31800 |  98.2 | 98.2 | 35.0 |  95 | 106.0 | 103.1 |\n",
       "| Temp (in Celsius)                | 23183 |  36.942824 |      NaN |  36.8 |   NA |  2.5 | Inf |  41.1 |  -Inf |\n",
       "| O2 (LPM)                         | 12138 |   6.042786 |      NaN |   2.5 |   NA |  0.0 | Inf | 730.0 |  -Inf |\n",
       "| Mobility                         | 10601 |   3.607754 |      NaN |   4.0 |   NA |  1.0 | Inf |   4.0 |  -Inf |\n",
       "| Activity                         |  5573 |   3.573621 |      NaN |   4.0 |   NA |  0.0 | Inf |   4.0 |  -Inf |\n",
       "| LOC                              |  1787 |   1.425600 |      NaN |   2.0 |   NA |  0.0 | Inf |   2.0 |  -Inf |\n",
       "| Respiratory Rate                 |   485 |   3.979381 |      NaN |   4.0 |   NA |  0.0 | Inf |   4.0 |  -Inf |\n",
       "| LOC Score                        |   341 |   1.497059 |      NaN |   2.0 |   NA |  0.0 | Inf |   2.0 |  -Inf |\n",
       "| O2 Delivery Method               |    29 |        NaN |      NaN |    NA |   NA |  Inf | Inf |  -Inf |  -Inf |\n",
       "| Arterial Systolic BP             |    28 |        NaN |      NaN |    NA |   NA |  Inf | Inf |  -Inf |  -Inf |\n",
       "| Resp Rate                        |    12 |  17.500000 |      NaN |  17.0 |   NA | 10.0 | Inf |  26.0 |  -Inf |\n",
       "| Blood Pressure                   |     5 |   2.000000 |      NaN |   2.0 |   NA |  2.0 | Inf |   2.0 |  -Inf |\n",
       "| Resting Pulse Rate: (Record BPM) |     3 |   2.000000 |      NaN |   1.0 |   NA |  1.0 | Inf |   4.0 |  -Inf |\n",
       "| Arterial Diastolic BP            |     1 |  44.000000 |      NaN |  44.0 |   NA | 44.0 | Inf |  44.0 |  -Inf |\n",
       "\n"
      ],
      "text/plain": [
       "   row_disp_name                    n     mean1      mean2    median1 median2\n",
       "1  Pulse                            94831  88.778816      NaN  87.0     NA   \n",
       "2  Resp                             89749  19.725899      NaN  18.0     NA   \n",
       "3  BP                               85309 128.614799 76.62916 127.0   76.0   \n",
       "4  Heart Rate                       26698  90.553921      NaN  88.0     NA   \n",
       "5  Temp                             25826  97.348069 98.31800  98.2   98.2   \n",
       "6  Temp (in Celsius)                23183  36.942824      NaN  36.8     NA   \n",
       "7  O2 (LPM)                         12138   6.042786      NaN   2.5     NA   \n",
       "8  Mobility                         10601   3.607754      NaN   4.0     NA   \n",
       "9  Activity                          5573   3.573621      NaN   4.0     NA   \n",
       "10 LOC                               1787   1.425600      NaN   2.0     NA   \n",
       "11 Respiratory Rate                   485   3.979381      NaN   4.0     NA   \n",
       "12 LOC Score                          341   1.497059      NaN   2.0     NA   \n",
       "13 O2 Delivery Method                  29        NaN      NaN    NA     NA   \n",
       "14 Arterial Systolic BP                28        NaN      NaN    NA     NA   \n",
       "15 Resp Rate                           12  17.500000      NaN  17.0     NA   \n",
       "16 Blood Pressure                       5   2.000000      NaN   2.0     NA   \n",
       "17 Resting Pulse Rate: (Record BPM)     3   2.000000      NaN   1.0     NA   \n",
       "18 Arterial Diastolic BP                1  44.000000      NaN  44.0     NA   \n",
       "   min1 min2 max1  max2 \n",
       "1   0.0 Inf  262.0  -Inf\n",
       "2   0.0 Inf  120.0  -Inf\n",
       "3  30.0   4  270.0 219.0\n",
       "4   0.0 Inf  295.0  -Inf\n",
       "5  35.0  95  106.0 103.1\n",
       "6   2.5 Inf   41.1  -Inf\n",
       "7   0.0 Inf  730.0  -Inf\n",
       "8   1.0 Inf    4.0  -Inf\n",
       "9   0.0 Inf    4.0  -Inf\n",
       "10  0.0 Inf    2.0  -Inf\n",
       "11  0.0 Inf    4.0  -Inf\n",
       "12  0.0 Inf    2.0  -Inf\n",
       "13  Inf Inf   -Inf  -Inf\n",
       "14  Inf Inf   -Inf  -Inf\n",
       "15 10.0 Inf   26.0  -Inf\n",
       "16  2.0 Inf    2.0  -Inf\n",
       "17  1.0 Inf    4.0  -Inf\n",
       "18 44.0 Inf   44.0  -Inf"
      ]
     },
     "metadata": {},
     "output_type": "display_data"
    }
   ],
   "source": [
    "vitals0 %>% group_by(row_disp_name) %>% display_summary_num1and2(num_value1, num_value2)# %>% arrange(desc(n))"
   ]
  },
  {
   "cell_type": "code",
   "execution_count": 10,
   "metadata": {},
   "outputs": [
    {
     "data": {
      "text/html": [
       "<table class=\"dataframe\">\n",
       "<caption>A tibble: 6 × 10</caption>\n",
       "<thead>\n",
       "\t<tr><th scope=col>row_disp_name</th><th scope=col>n</th><th scope=col>mean1</th><th scope=col>mean2</th><th scope=col>median1</th><th scope=col>median2</th><th scope=col>min1</th><th scope=col>min2</th><th scope=col>max1</th><th scope=col>max2</th></tr>\n",
       "\t<tr><th scope=col>&lt;chr&gt;</th><th scope=col>&lt;int&gt;</th><th scope=col>&lt;dbl&gt;</th><th scope=col>&lt;dbl&gt;</th><th scope=col>&lt;dbl&gt;</th><th scope=col>&lt;dbl&gt;</th><th scope=col>&lt;dbl&gt;</th><th scope=col>&lt;dbl&gt;</th><th scope=col>&lt;dbl&gt;</th><th scope=col>&lt;dbl&gt;</th></tr>\n",
       "</thead>\n",
       "<tbody>\n",
       "\t<tr><td>Pulse            </td><td>94831</td><td> 88.77882</td><td>     NaN</td><td> 87.0</td><td>  NA</td><td> 0.0</td><td>Inf</td><td>262.0</td><td> -Inf</td></tr>\n",
       "\t<tr><td>Resp             </td><td>89749</td><td> 19.72590</td><td>     NaN</td><td> 18.0</td><td>  NA</td><td> 0.0</td><td>Inf</td><td>120.0</td><td> -Inf</td></tr>\n",
       "\t<tr><td>BP               </td><td>85309</td><td>128.61480</td><td>76.62916</td><td>127.0</td><td>76.0</td><td>30.0</td><td>  4</td><td>270.0</td><td>219.0</td></tr>\n",
       "\t<tr><td>Temp             </td><td>25826</td><td> 97.34807</td><td>98.31800</td><td> 98.2</td><td>98.2</td><td>35.0</td><td> 95</td><td>106.0</td><td>103.1</td></tr>\n",
       "\t<tr><td>Temp (in Celsius)</td><td>23183</td><td> 36.94282</td><td>     NaN</td><td> 36.8</td><td>  NA</td><td> 2.5</td><td>Inf</td><td> 41.1</td><td> -Inf</td></tr>\n",
       "\t<tr><td>Resp Rate        </td><td>   12</td><td> 17.50000</td><td>     NaN</td><td> 17.0</td><td>  NA</td><td>10.0</td><td>Inf</td><td> 26.0</td><td> -Inf</td></tr>\n",
       "</tbody>\n",
       "</table>\n"
      ],
      "text/latex": [
       "A tibble: 6 × 10\n",
       "\\begin{tabular}{llllllllll}\n",
       " row\\_disp\\_name & n & mean1 & mean2 & median1 & median2 & min1 & min2 & max1 & max2\\\\\n",
       " <chr> & <int> & <dbl> & <dbl> & <dbl> & <dbl> & <dbl> & <dbl> & <dbl> & <dbl>\\\\\n",
       "\\hline\n",
       "\t Pulse             & 94831 &  88.77882 &      NaN &  87.0 &   NA &  0.0 & Inf & 262.0 &  -Inf\\\\\n",
       "\t Resp              & 89749 &  19.72590 &      NaN &  18.0 &   NA &  0.0 & Inf & 120.0 &  -Inf\\\\\n",
       "\t BP                & 85309 & 128.61480 & 76.62916 & 127.0 & 76.0 & 30.0 &   4 & 270.0 & 219.0\\\\\n",
       "\t Temp              & 25826 &  97.34807 & 98.31800 &  98.2 & 98.2 & 35.0 &  95 & 106.0 & 103.1\\\\\n",
       "\t Temp (in Celsius) & 23183 &  36.94282 &      NaN &  36.8 &   NA &  2.5 & Inf &  41.1 &  -Inf\\\\\n",
       "\t Resp Rate         &    12 &  17.50000 &      NaN &  17.0 &   NA & 10.0 & Inf &  26.0 &  -Inf\\\\\n",
       "\\end{tabular}\n"
      ],
      "text/markdown": [
       "\n",
       "A tibble: 6 × 10\n",
       "\n",
       "| row_disp_name &lt;chr&gt; | n &lt;int&gt; | mean1 &lt;dbl&gt; | mean2 &lt;dbl&gt; | median1 &lt;dbl&gt; | median2 &lt;dbl&gt; | min1 &lt;dbl&gt; | min2 &lt;dbl&gt; | max1 &lt;dbl&gt; | max2 &lt;dbl&gt; |\n",
       "|---|---|---|---|---|---|---|---|---|---|\n",
       "| Pulse             | 94831 |  88.77882 |      NaN |  87.0 |   NA |  0.0 | Inf | 262.0 |  -Inf |\n",
       "| Resp              | 89749 |  19.72590 |      NaN |  18.0 |   NA |  0.0 | Inf | 120.0 |  -Inf |\n",
       "| BP                | 85309 | 128.61480 | 76.62916 | 127.0 | 76.0 | 30.0 |   4 | 270.0 | 219.0 |\n",
       "| Temp              | 25826 |  97.34807 | 98.31800 |  98.2 | 98.2 | 35.0 |  95 | 106.0 | 103.1 |\n",
       "| Temp (in Celsius) | 23183 |  36.94282 |      NaN |  36.8 |   NA |  2.5 | Inf |  41.1 |  -Inf |\n",
       "| Resp Rate         |    12 |  17.50000 |      NaN |  17.0 |   NA | 10.0 | Inf |  26.0 |  -Inf |\n",
       "\n"
      ],
      "text/plain": [
       "  row_disp_name     n     mean1     mean2    median1 median2 min1 min2 max1 \n",
       "1 Pulse             94831  88.77882      NaN  87.0     NA     0.0 Inf  262.0\n",
       "2 Resp              89749  19.72590      NaN  18.0     NA     0.0 Inf  120.0\n",
       "3 BP                85309 128.61480 76.62916 127.0   76.0    30.0   4  270.0\n",
       "4 Temp              25826  97.34807 98.31800  98.2   98.2    35.0  95  106.0\n",
       "5 Temp (in Celsius) 23183  36.94282      NaN  36.8     NA     2.5 Inf   41.1\n",
       "6 Resp Rate            12  17.50000      NaN  17.0     NA    10.0 Inf   26.0\n",
       "  max2 \n",
       "1  -Inf\n",
       "2  -Inf\n",
       "3 219.0\n",
       "4 103.1\n",
       "5  -Inf\n",
       "6  -Inf"
      ]
     },
     "metadata": {},
     "output_type": "display_data"
    }
   ],
   "source": [
    "# keep only some variables\n",
    "vitals0 <- vitals0 %>% filter(row_disp_name %in% c('Pulse', 'Resp', 'BP', 'Temp', 'Temp (in Celsius)', \n",
    "                                                  ' Heart Rate', 'Resp Rate', 'NIBP'))\n",
    "vitals0 %>% group_by(row_disp_name) %>% display_summary_num1and2(num_value1, num_value2)# %>% arrange(desc(n))"
   ]
  },
  {
   "cell_type": "code",
   "execution_count": 11,
   "metadata": {},
   "outputs": [
    {
     "data": {
      "text/html": [
       "<style>\n",
       ".list-inline {list-style: none; margin:0; padding: 0}\n",
       ".list-inline>li {display: inline-block}\n",
       ".list-inline>li:not(:last-child)::after {content: \"\\00b7\"; padding: 0 .5ex}\n",
       "</style>\n",
       "<ol class=list-inline><li>'anon_id'</li><li>'pat_enc_csn_id_coded'</li><li>'inpatient_data_id_coded'</li><li>'admit_time'</li><li>'label'</li><li>'template'</li><li>'row_disp_name'</li><li>'units'</li><li>'recorded_time_utc'</li><li>'num_value1'</li><li>'num_value2'</li></ol>\n"
      ],
      "text/latex": [
       "\\begin{enumerate*}\n",
       "\\item 'anon\\_id'\n",
       "\\item 'pat\\_enc\\_csn\\_id\\_coded'\n",
       "\\item 'inpatient\\_data\\_id\\_coded'\n",
       "\\item 'admit\\_time'\n",
       "\\item 'label'\n",
       "\\item 'template'\n",
       "\\item 'row\\_disp\\_name'\n",
       "\\item 'units'\n",
       "\\item 'recorded\\_time\\_utc'\n",
       "\\item 'num\\_value1'\n",
       "\\item 'num\\_value2'\n",
       "\\end{enumerate*}\n"
      ],
      "text/markdown": [
       "1. 'anon_id'\n",
       "2. 'pat_enc_csn_id_coded'\n",
       "3. 'inpatient_data_id_coded'\n",
       "4. 'admit_time'\n",
       "5. 'label'\n",
       "6. 'template'\n",
       "7. 'row_disp_name'\n",
       "8. 'units'\n",
       "9. 'recorded_time_utc'\n",
       "10. 'num_value1'\n",
       "11. 'num_value2'\n",
       "\n",
       "\n"
      ],
      "text/plain": [
       " [1] \"anon_id\"                 \"pat_enc_csn_id_coded\"   \n",
       " [3] \"inpatient_data_id_coded\" \"admit_time\"             \n",
       " [5] \"label\"                   \"template\"               \n",
       " [7] \"row_disp_name\"           \"units\"                  \n",
       " [9] \"recorded_time_utc\"       \"num_value1\"             \n",
       "[11] \"num_value2\"             "
      ]
     },
     "metadata": {},
     "output_type": "display_data"
    }
   ],
   "source": [
    "colnames(vitals0)"
   ]
  },
  {
   "cell_type": "code",
   "execution_count": 12,
   "metadata": {},
   "outputs": [],
   "source": [
    "# combine cohort with vitals sign\n",
    "vitals <- vitals0 %>% \n",
    "                select(anon_id, pat_enc_csn_id_coded, inpatient_data_id_coded, admit_time, label,\n",
    "                       template, row_disp_name, units, recorded_time_utc, num_value1, num_value2) %>%\n",
    "                rename(recorded_time = recorded_time_utc) %>%\n",
    "                filter(row_disp_name %in% c('Pulse', 'Resp', 'BP', 'Temp', 'Temp (in Celsius)', \n",
    "                                            'Heart Rate', 'Resp Rate', 'NIBP'))\n",
    "\n",
    "# calculate difftime takes a while\n",
    "# cohort_vitals <- left_join(cohort, vitals0) %>% \n",
    "#             mutate(timediff = as.numeric(difftime(admit_time, recorded_time, units = \"mins\"))) %>%\n",
    "#             distinct()\n",
    "# #             filter(ymd_hms(recorded_time) < ymd_hms(admit_time)) %>% # no need this one, SQL took care of this\n",
    "\n",
    "# nrow(cohort_vitals) \n",
    "# summary(cohort_vitals$timediff) # all positive --> recorded time is before admit time"
   ]
  },
  {
   "cell_type": "code",
   "execution_count": 13,
   "metadata": {},
   "outputs": [
    {
     "data": {
      "text/html": [
       "<table class=\"dataframe\">\n",
       "<caption>A data.frame: 1 × 11</caption>\n",
       "<thead>\n",
       "\t<tr><th></th><th scope=col>anon_id</th><th scope=col>pat_enc_csn_id_coded</th><th scope=col>inpatient_data_id_coded</th><th scope=col>admit_time</th><th scope=col>label</th><th scope=col>template</th><th scope=col>row_disp_name</th><th scope=col>units</th><th scope=col>recorded_time</th><th scope=col>num_value1</th><th scope=col>num_value2</th></tr>\n",
       "\t<tr><th></th><th scope=col>&lt;chr&gt;</th><th scope=col>&lt;dbl&gt;</th><th scope=col>&lt;int&gt;</th><th scope=col>&lt;chr&gt;</th><th scope=col>&lt;int&gt;</th><th scope=col>&lt;chr&gt;</th><th scope=col>&lt;chr&gt;</th><th scope=col>&lt;chr&gt;</th><th scope=col>&lt;chr&gt;</th><th scope=col>&lt;dbl&gt;</th><th scope=col>&lt;dbl&gt;</th></tr>\n",
       "</thead>\n",
       "<tbody>\n",
       "\t<tr><th scope=row>1</th><td>JC1805086</td><td>1.31312e+11</td><td>67623416</td><td>2021-06-12 17:54:00+00:00</td><td>0</td><td>DATA VALIDATE</td><td>Resp Rate</td><td>bpm</td><td>2021-06-12 05:18:00+00:00</td><td>18</td><td>NA</td></tr>\n",
       "</tbody>\n",
       "</table>\n"
      ],
      "text/latex": [
       "A data.frame: 1 × 11\n",
       "\\begin{tabular}{r|lllllllllll}\n",
       "  & anon\\_id & pat\\_enc\\_csn\\_id\\_coded & inpatient\\_data\\_id\\_coded & admit\\_time & label & template & row\\_disp\\_name & units & recorded\\_time & num\\_value1 & num\\_value2\\\\\n",
       "  & <chr> & <dbl> & <int> & <chr> & <int> & <chr> & <chr> & <chr> & <chr> & <dbl> & <dbl>\\\\\n",
       "\\hline\n",
       "\t1 & JC1805086 & 1.31312e+11 & 67623416 & 2021-06-12 17:54:00+00:00 & 0 & DATA VALIDATE & Resp Rate & bpm & 2021-06-12 05:18:00+00:00 & 18 & NA\\\\\n",
       "\\end{tabular}\n"
      ],
      "text/markdown": [
       "\n",
       "A data.frame: 1 × 11\n",
       "\n",
       "| <!--/--> | anon_id &lt;chr&gt; | pat_enc_csn_id_coded &lt;dbl&gt; | inpatient_data_id_coded &lt;int&gt; | admit_time &lt;chr&gt; | label &lt;int&gt; | template &lt;chr&gt; | row_disp_name &lt;chr&gt; | units &lt;chr&gt; | recorded_time &lt;chr&gt; | num_value1 &lt;dbl&gt; | num_value2 &lt;dbl&gt; |\n",
       "|---|---|---|---|---|---|---|---|---|---|---|---|\n",
       "| 1 | JC1805086 | 1.31312e+11 | 67623416 | 2021-06-12 17:54:00+00:00 | 0 | DATA VALIDATE | Resp Rate | bpm | 2021-06-12 05:18:00+00:00 | 18 | NA |\n",
       "\n"
      ],
      "text/plain": [
       "  anon_id   pat_enc_csn_id_coded inpatient_data_id_coded\n",
       "1 JC1805086 1.31312e+11          67623416               \n",
       "  admit_time                label template      row_disp_name units\n",
       "1 2021-06-12 17:54:00+00:00 0     DATA VALIDATE Resp Rate     bpm  \n",
       "  recorded_time             num_value1 num_value2\n",
       "1 2021-06-12 05:18:00+00:00 18         NA        "
      ]
     },
     "metadata": {},
     "output_type": "display_data"
    }
   ],
   "source": [
    "head(vitals, n=1)"
   ]
  },
  {
   "cell_type": "markdown",
   "metadata": {},
   "source": [
    "### First observations:\n",
    "- BP: num_value1 is SBP and num_value2 is DBP\n",
    "- Temp: nothing between 45 - 75\n",
    "    - for num_value1 > 75, it is in F\n",
    "    - for num_value1 < 45, it is in C\n",
    "        - there is one erroneous value < 10\n",
    "        - these num_value1 tend to have a num_value 2 that is in F or NA in num_value2\n",
    "- Temp in Celsius: cut off at < 26 as errors"
   ]
  },
  {
   "cell_type": "code",
   "execution_count": 14,
   "metadata": {},
   "outputs": [
    {
     "data": {
      "image/png": "[encoded data removed]",
      "text/plain": [
       "Plot with title “Histogram of temp1$num_value1”"
      ]
     },
     "metadata": {
      "image/png": {
       "height": 420,
       "width": 420
      }
     },
     "output_type": "display_data"
    },
    {
     "data": {
      "text/plain": [
       "   Min. 1st Qu.  Median    Mean 3rd Qu.    Max.    NA's \n",
       "  95.00   97.90   98.20   98.32   98.60  103.10   25376 "
      ]
     },
     "metadata": {},
     "output_type": "display_data"
    },
    {
     "data": {
      "image/png": "[encoded data removed]",
      "text/plain": [
       "Plot with title “Histogram of temp1$num_value2”"
      ]
     },
     "metadata": {
      "image/png": {
       "height": 420,
       "width": 420
      }
     },
     "output_type": "display_data"
    },
    {
     "data": {
      "image/png": "[encoded data removed]",
      "text/plain": [
       "Plot with title “Histogram of temp1$num_value1”"
      ]
     },
     "metadata": {
      "image/png": {
       "height": 420,
       "width": 420
      }
     },
     "output_type": "display_data"
    },
    {
     "data": {
      "text/plain": [
       "   Min. 1st Qu.  Median    Mean 3rd Qu.    Max. \n",
       "  35.00   36.60   36.80   36.87   37.00   48.20 "
      ]
     },
     "metadata": {},
     "output_type": "display_data"
    },
    {
     "data": {
      "text/html": [
       "<table class=\"dataframe\">\n",
       "<caption>A data.frame: 6 × 2</caption>\n",
       "<thead>\n",
       "\t<tr><th></th><th scope=col>num_value1</th><th scope=col>num_value2</th></tr>\n",
       "\t<tr><th></th><th scope=col>&lt;dbl&gt;</th><th scope=col>&lt;dbl&gt;</th></tr>\n",
       "</thead>\n",
       "<tbody>\n",
       "\t<tr><th scope=row>1</th><td>35.0</td><td>95.0</td></tr>\n",
       "\t<tr><th scope=row>2</th><td>35.1</td><td>95.2</td></tr>\n",
       "\t<tr><th scope=row>3</th><td>35.2</td><td>95.4</td></tr>\n",
       "\t<tr><th scope=row>4</th><td>35.5</td><td>95.9</td></tr>\n",
       "\t<tr><th scope=row>5</th><td>35.5</td><td>95.9</td></tr>\n",
       "\t<tr><th scope=row>6</th><td>35.5</td><td>95.9</td></tr>\n",
       "</tbody>\n",
       "</table>\n"
      ],
      "text/latex": [
       "A data.frame: 6 × 2\n",
       "\\begin{tabular}{r|ll}\n",
       "  & num\\_value1 & num\\_value2\\\\\n",
       "  & <dbl> & <dbl>\\\\\n",
       "\\hline\n",
       "\t1 & 35.0 & 95.0\\\\\n",
       "\t2 & 35.1 & 95.2\\\\\n",
       "\t3 & 35.2 & 95.4\\\\\n",
       "\t4 & 35.5 & 95.9\\\\\n",
       "\t5 & 35.5 & 95.9\\\\\n",
       "\t6 & 35.5 & 95.9\\\\\n",
       "\\end{tabular}\n"
      ],
      "text/markdown": [
       "\n",
       "A data.frame: 6 × 2\n",
       "\n",
       "| <!--/--> | num_value1 &lt;dbl&gt; | num_value2 &lt;dbl&gt; |\n",
       "|---|---|---|\n",
       "| 1 | 35.0 | 95.0 |\n",
       "| 2 | 35.1 | 95.2 |\n",
       "| 3 | 35.2 | 95.4 |\n",
       "| 4 | 35.5 | 95.9 |\n",
       "| 5 | 35.5 | 95.9 |\n",
       "| 6 | 35.5 | 95.9 |\n",
       "\n"
      ],
      "text/plain": [
       "  num_value1 num_value2\n",
       "1 35.0       95.0      \n",
       "2 35.1       95.2      \n",
       "3 35.2       95.4      \n",
       "4 35.5       95.9      \n",
       "5 35.5       95.9      \n",
       "6 35.5       95.9      "
      ]
     },
     "metadata": {},
     "output_type": "display_data"
    },
    {
     "data": {
      "text/html": [
       "1"
      ],
      "text/latex": [
       "1"
      ],
      "text/markdown": [
       "1"
      ],
      "text/plain": [
       "[1] 1"
      ]
     },
     "metadata": {},
     "output_type": "display_data"
    },
    {
     "data": {
      "image/png": "[encoded data removed]",
      "text/plain": [
       "Plot with title “Histogram of temp1$num_value1”"
      ]
     },
     "metadata": {
      "image/png": {
       "height": 420,
       "width": 420
      }
     },
     "output_type": "display_data"
    }
   ],
   "source": [
    "temp1 <- vitals %>% filter(row_disp_name == \"Temp\") %>% select(num_value1, num_value2)\n",
    "hist(temp1$num_value1)\n",
    "hist(temp1$num_value2)\n",
    "summary(temp1$num_value2)\n",
    "\n",
    "temp1 <- vitals %>% filter(row_disp_name == \"Temp\") %>% select(num_value1, num_value2) %>% filter(num_value1 < 90, num_value1 > 45)\n",
    "hist(temp1$num_value1)\n",
    "\n",
    "temp1 <- vitals %>% filter(row_disp_name == \"Temp\") %>% select(num_value1, num_value2) %>% filter(num_value1 < 70) %>%\n",
    "            arrange(num_value1)\n",
    "hist(temp1$num_value1)\n",
    "summary(temp1$num_value1)\n",
    "\n",
    "head(temp1)\n",
    "\n",
    "nrow(vitals %>% filter(row_disp_name == \"Temp\") %>% select(num_value1, num_value2) %>% filter(num_value1 < 75, num_value1 > 45))"
   ]
  },
  {
   "cell_type": "code",
   "execution_count": 15,
   "metadata": {},
   "outputs": [
    {
     "data": {
      "text/plain": [
       "   Min. 1st Qu.  Median    Mean 3rd Qu.    Max.    NA's \n",
       "   2.50   36.60   36.80   36.94   37.20   41.10      98 "
      ]
     },
     "metadata": {},
     "output_type": "display_data"
    },
    {
     "data": {
      "text/html": [
       "<table class=\"dataframe\">\n",
       "<caption>A data.frame: 12 × 11</caption>\n",
       "<thead>\n",
       "\t<tr><th scope=col>anon_id</th><th scope=col>pat_enc_csn_id_coded</th><th scope=col>inpatient_data_id_coded</th><th scope=col>admit_time</th><th scope=col>label</th><th scope=col>template</th><th scope=col>row_disp_name</th><th scope=col>units</th><th scope=col>recorded_time</th><th scope=col>num_value1</th><th scope=col>num_value2</th></tr>\n",
       "\t<tr><th scope=col>&lt;chr&gt;</th><th scope=col>&lt;dbl&gt;</th><th scope=col>&lt;int&gt;</th><th scope=col>&lt;chr&gt;</th><th scope=col>&lt;int&gt;</th><th scope=col>&lt;chr&gt;</th><th scope=col>&lt;chr&gt;</th><th scope=col>&lt;chr&gt;</th><th scope=col>&lt;chr&gt;</th><th scope=col>&lt;dbl&gt;</th><th scope=col>&lt;dbl&gt;</th></tr>\n",
       "</thead>\n",
       "<tbody>\n",
       "\t<tr><td>JC516616 </td><td>131305920541</td><td>64352093</td><td>2021-02-28 05:24:00+00:00</td><td>0</td><td>Custom Formula Data</td><td>Temp (in Celsius)</td><td></td><td>2021-02-27 22:54:00+00:00</td><td> 2.5</td><td>NA</td></tr>\n",
       "\t<tr><td>JC1761939</td><td>131311718774</td><td>67459037</td><td>2021-05-12 02:19:00+00:00</td><td>0</td><td>Custom Formula Data</td><td>Temp (in Celsius)</td><td></td><td>2021-05-11 19:02:00+00:00</td><td> 2.6</td><td>NA</td></tr>\n",
       "\t<tr><td>JC1055491</td><td>131294394068</td><td>57315257</td><td>2020-09-05 21:13:00+00:00</td><td>0</td><td>Custom Formula Data</td><td>Temp (in Celsius)</td><td></td><td>2020-09-05 17:56:00+00:00</td><td> 2.6</td><td>NA</td></tr>\n",
       "\t<tr><td>JC3080335</td><td>131314372176</td><td>69123547</td><td>2021-08-08 02:47:00+00:00</td><td>1</td><td>Custom Formula Data</td><td>Temp (in Celsius)</td><td></td><td>2021-08-07 23:17:00+00:00</td><td> 2.6</td><td>NA</td></tr>\n",
       "\t<tr><td>JC2364527</td><td>131307904180</td><td>65051848</td><td>2021-03-14 00:31:00+00:00</td><td>0</td><td>Custom Formula Data</td><td>Temp (in Celsius)</td><td></td><td>2021-03-13 22:13:00+00:00</td><td> 2.7</td><td>NA</td></tr>\n",
       "\t<tr><td>JC2885750</td><td>131291072434</td><td>55254015</td><td>2020-07-29 14:48:00+00:00</td><td>0</td><td>Custom Formula Data</td><td>Temp (in Celsius)</td><td></td><td>2020-07-29 08:54:00+00:00</td><td> 2.7</td><td>NA</td></tr>\n",
       "\t<tr><td>JC1688377</td><td>131288730863</td><td>53781867</td><td>2020-04-23 21:17:00+00:00</td><td>0</td><td>Custom Formula Data</td><td>Temp (in Celsius)</td><td></td><td>2020-04-23 19:08:00+00:00</td><td> 2.9</td><td>NA</td></tr>\n",
       "\t<tr><td>JC2199558</td><td>131299150531</td><td>60189239</td><td>2020-12-22 09:18:00+00:00</td><td>0</td><td>Custom Formula Data</td><td>Temp (in Celsius)</td><td></td><td>2020-12-22 05:00:00+00:00</td><td> 3.1</td><td>NA</td></tr>\n",
       "\t<tr><td>JC1842438</td><td>131289728115</td><td>54409744</td><td>2020-07-12 01:45:00+00:00</td><td>0</td><td>Custom Formula Data</td><td>Temp (in Celsius)</td><td></td><td>2020-07-11 20:23:00+00:00</td><td> 3.3</td><td>NA</td></tr>\n",
       "\t<tr><td>JC2307779</td><td>131296972589</td><td>58872634</td><td>2020-11-14 05:28:00+00:00</td><td>0</td><td>Custom Formula Data</td><td>Temp (in Celsius)</td><td></td><td>2020-11-14 00:46:00+00:00</td><td> 3.7</td><td>NA</td></tr>\n",
       "\t<tr><td>JC2638412</td><td>131285653664</td><td>52330475</td><td>2020-04-07 21:05:00+00:00</td><td>1</td><td>Custom Formula Data</td><td>Temp (in Celsius)</td><td></td><td>2020-04-07 18:30:00+00:00</td><td>29.2</td><td>NA</td></tr>\n",
       "\t<tr><td>JC544126 </td><td>131301383890</td><td>61548500</td><td>2021-02-02 17:44:00+00:00</td><td>1</td><td>Custom Formula Data</td><td>Temp (in Celsius)</td><td></td><td>2021-02-02 16:09:00+00:00</td><td>29.9</td><td>NA</td></tr>\n",
       "</tbody>\n",
       "</table>\n"
      ],
      "text/latex": [
       "A data.frame: 12 × 11\n",
       "\\begin{tabular}{lllllllllll}\n",
       " anon\\_id & pat\\_enc\\_csn\\_id\\_coded & inpatient\\_data\\_id\\_coded & admit\\_time & label & template & row\\_disp\\_name & units & recorded\\_time & num\\_value1 & num\\_value2\\\\\n",
       " <chr> & <dbl> & <int> & <chr> & <int> & <chr> & <chr> & <chr> & <chr> & <dbl> & <dbl>\\\\\n",
       "\\hline\n",
       "\t JC516616  & 131305920541 & 64352093 & 2021-02-28 05:24:00+00:00 & 0 & Custom Formula Data & Temp (in Celsius) &  & 2021-02-27 22:54:00+00:00 &  2.5 & NA\\\\\n",
       "\t JC1761939 & 131311718774 & 67459037 & 2021-05-12 02:19:00+00:00 & 0 & Custom Formula Data & Temp (in Celsius) &  & 2021-05-11 19:02:00+00:00 &  2.6 & NA\\\\\n",
       "\t JC1055491 & 131294394068 & 57315257 & 2020-09-05 21:13:00+00:00 & 0 & Custom Formula Data & Temp (in Celsius) &  & 2020-09-05 17:56:00+00:00 &  2.6 & NA\\\\\n",
       "\t JC3080335 & 131314372176 & 69123547 & 2021-08-08 02:47:00+00:00 & 1 & Custom Formula Data & Temp (in Celsius) &  & 2021-08-07 23:17:00+00:00 &  2.6 & NA\\\\\n",
       "\t JC2364527 & 131307904180 & 65051848 & 2021-03-14 00:31:00+00:00 & 0 & Custom Formula Data & Temp (in Celsius) &  & 2021-03-13 22:13:00+00:00 &  2.7 & NA\\\\\n",
       "\t JC2885750 & 131291072434 & 55254015 & 2020-07-29 14:48:00+00:00 & 0 & Custom Formula Data & Temp (in Celsius) &  & 2020-07-29 08:54:00+00:00 &  2.7 & NA\\\\\n",
       "\t JC1688377 & 131288730863 & 53781867 & 2020-04-23 21:17:00+00:00 & 0 & Custom Formula Data & Temp (in Celsius) &  & 2020-04-23 19:08:00+00:00 &  2.9 & NA\\\\\n",
       "\t JC2199558 & 131299150531 & 60189239 & 2020-12-22 09:18:00+00:00 & 0 & Custom Formula Data & Temp (in Celsius) &  & 2020-12-22 05:00:00+00:00 &  3.1 & NA\\\\\n",
       "\t JC1842438 & 131289728115 & 54409744 & 2020-07-12 01:45:00+00:00 & 0 & Custom Formula Data & Temp (in Celsius) &  & 2020-07-11 20:23:00+00:00 &  3.3 & NA\\\\\n",
       "\t JC2307779 & 131296972589 & 58872634 & 2020-11-14 05:28:00+00:00 & 0 & Custom Formula Data & Temp (in Celsius) &  & 2020-11-14 00:46:00+00:00 &  3.7 & NA\\\\\n",
       "\t JC2638412 & 131285653664 & 52330475 & 2020-04-07 21:05:00+00:00 & 1 & Custom Formula Data & Temp (in Celsius) &  & 2020-04-07 18:30:00+00:00 & 29.2 & NA\\\\\n",
       "\t JC544126  & 131301383890 & 61548500 & 2021-02-02 17:44:00+00:00 & 1 & Custom Formula Data & Temp (in Celsius) &  & 2021-02-02 16:09:00+00:00 & 29.9 & NA\\\\\n",
       "\\end{tabular}\n"
      ],
      "text/markdown": [
       "\n",
       "A data.frame: 12 × 11\n",
       "\n",
       "| anon_id &lt;chr&gt; | pat_enc_csn_id_coded &lt;dbl&gt; | inpatient_data_id_coded &lt;int&gt; | admit_time &lt;chr&gt; | label &lt;int&gt; | template &lt;chr&gt; | row_disp_name &lt;chr&gt; | units &lt;chr&gt; | recorded_time &lt;chr&gt; | num_value1 &lt;dbl&gt; | num_value2 &lt;dbl&gt; |\n",
       "|---|---|---|---|---|---|---|---|---|---|---|\n",
       "| JC516616  | 131305920541 | 64352093 | 2021-02-28 05:24:00+00:00 | 0 | Custom Formula Data | Temp (in Celsius) | <!----> | 2021-02-27 22:54:00+00:00 |  2.5 | NA |\n",
       "| JC1761939 | 131311718774 | 67459037 | 2021-05-12 02:19:00+00:00 | 0 | Custom Formula Data | Temp (in Celsius) | <!----> | 2021-05-11 19:02:00+00:00 |  2.6 | NA |\n",
       "| JC1055491 | 131294394068 | 57315257 | 2020-09-05 21:13:00+00:00 | 0 | Custom Formula Data | Temp (in Celsius) | <!----> | 2020-09-05 17:56:00+00:00 |  2.6 | NA |\n",
       "| JC3080335 | 131314372176 | 69123547 | 2021-08-08 02:47:00+00:00 | 1 | Custom Formula Data | Temp (in Celsius) | <!----> | 2021-08-07 23:17:00+00:00 |  2.6 | NA |\n",
       "| JC2364527 | 131307904180 | 65051848 | 2021-03-14 00:31:00+00:00 | 0 | Custom Formula Data | Temp (in Celsius) | <!----> | 2021-03-13 22:13:00+00:00 |  2.7 | NA |\n",
       "| JC2885750 | 131291072434 | 55254015 | 2020-07-29 14:48:00+00:00 | 0 | Custom Formula Data | Temp (in Celsius) | <!----> | 2020-07-29 08:54:00+00:00 |  2.7 | NA |\n",
       "| JC1688377 | 131288730863 | 53781867 | 2020-04-23 21:17:00+00:00 | 0 | Custom Formula Data | Temp (in Celsius) | <!----> | 2020-04-23 19:08:00+00:00 |  2.9 | NA |\n",
       "| JC2199558 | 131299150531 | 60189239 | 2020-12-22 09:18:00+00:00 | 0 | Custom Formula Data | Temp (in Celsius) | <!----> | 2020-12-22 05:00:00+00:00 |  3.1 | NA |\n",
       "| JC1842438 | 131289728115 | 54409744 | 2020-07-12 01:45:00+00:00 | 0 | Custom Formula Data | Temp (in Celsius) | <!----> | 2020-07-11 20:23:00+00:00 |  3.3 | NA |\n",
       "| JC2307779 | 131296972589 | 58872634 | 2020-11-14 05:28:00+00:00 | 0 | Custom Formula Data | Temp (in Celsius) | <!----> | 2020-11-14 00:46:00+00:00 |  3.7 | NA |\n",
       "| JC2638412 | 131285653664 | 52330475 | 2020-04-07 21:05:00+00:00 | 1 | Custom Formula Data | Temp (in Celsius) | <!----> | 2020-04-07 18:30:00+00:00 | 29.2 | NA |\n",
       "| JC544126  | 131301383890 | 61548500 | 2021-02-02 17:44:00+00:00 | 1 | Custom Formula Data | Temp (in Celsius) | <!----> | 2021-02-02 16:09:00+00:00 | 29.9 | NA |\n",
       "\n"
      ],
      "text/plain": [
       "   anon_id   pat_enc_csn_id_coded inpatient_data_id_coded\n",
       "1  JC516616  131305920541         64352093               \n",
       "2  JC1761939 131311718774         67459037               \n",
       "3  JC1055491 131294394068         57315257               \n",
       "4  JC3080335 131314372176         69123547               \n",
       "5  JC2364527 131307904180         65051848               \n",
       "6  JC2885750 131291072434         55254015               \n",
       "7  JC1688377 131288730863         53781867               \n",
       "8  JC2199558 131299150531         60189239               \n",
       "9  JC1842438 131289728115         54409744               \n",
       "10 JC2307779 131296972589         58872634               \n",
       "11 JC2638412 131285653664         52330475               \n",
       "12 JC544126  131301383890         61548500               \n",
       "   admit_time                label template            row_disp_name     units\n",
       "1  2021-02-28 05:24:00+00:00 0     Custom Formula Data Temp (in Celsius)      \n",
       "2  2021-05-12 02:19:00+00:00 0     Custom Formula Data Temp (in Celsius)      \n",
       "3  2020-09-05 21:13:00+00:00 0     Custom Formula Data Temp (in Celsius)      \n",
       "4  2021-08-08 02:47:00+00:00 1     Custom Formula Data Temp (in Celsius)      \n",
       "5  2021-03-14 00:31:00+00:00 0     Custom Formula Data Temp (in Celsius)      \n",
       "6  2020-07-29 14:48:00+00:00 0     Custom Formula Data Temp (in Celsius)      \n",
       "7  2020-04-23 21:17:00+00:00 0     Custom Formula Data Temp (in Celsius)      \n",
       "8  2020-12-22 09:18:00+00:00 0     Custom Formula Data Temp (in Celsius)      \n",
       "9  2020-07-12 01:45:00+00:00 0     Custom Formula Data Temp (in Celsius)      \n",
       "10 2020-11-14 05:28:00+00:00 0     Custom Formula Data Temp (in Celsius)      \n",
       "11 2020-04-07 21:05:00+00:00 1     Custom Formula Data Temp (in Celsius)      \n",
       "12 2021-02-02 17:44:00+00:00 1     Custom Formula Data Temp (in Celsius)      \n",
       "   recorded_time             num_value1 num_value2\n",
       "1  2021-02-27 22:54:00+00:00  2.5       NA        \n",
       "2  2021-05-11 19:02:00+00:00  2.6       NA        \n",
       "3  2020-09-05 17:56:00+00:00  2.6       NA        \n",
       "4  2021-08-07 23:17:00+00:00  2.6       NA        \n",
       "5  2021-03-13 22:13:00+00:00  2.7       NA        \n",
       "6  2020-07-29 08:54:00+00:00  2.7       NA        \n",
       "7  2020-04-23 19:08:00+00:00  2.9       NA        \n",
       "8  2020-12-22 05:00:00+00:00  3.1       NA        \n",
       "9  2020-07-11 20:23:00+00:00  3.3       NA        \n",
       "10 2020-11-14 00:46:00+00:00  3.7       NA        \n",
       "11 2020-04-07 18:30:00+00:00 29.2       NA        \n",
       "12 2021-02-02 16:09:00+00:00 29.9       NA        "
      ]
     },
     "metadata": {},
     "output_type": "display_data"
    },
    {
     "data": {
      "image/png": "[encoded data removed]",
      "text/plain": [
       "Plot with title “Histogram of temp2$num_value1”"
      ]
     },
     "metadata": {
      "image/png": {
       "height": 420,
       "width": 420
      }
     },
     "output_type": "display_data"
    },
    {
     "data": {
      "image/png": "[encoded data removed]",
      "text/plain": [
       "Plot with title “Histogram of temp2$num_value1”"
      ]
     },
     "metadata": {
      "image/png": {
       "height": 420,
       "width": 420
      }
     },
     "output_type": "display_data"
    }
   ],
   "source": [
    "temp2 <- vitals %>% filter(row_disp_name == \"Temp (in Celsius)\")\n",
    "hist(temp2$num_value1)\n",
    "summary(temp2$num_value1)\n",
    "\n",
    "temp2 <- vitals %>% filter(row_disp_name == \"Temp (in Celsius)\", num_value1 < 30)\n",
    "temp2 %>% arrange(num_value1)\n",
    "\n",
    "temp2 <- vitals %>% filter(row_disp_name == \"Temp (in Celsius)\", num_value1 < 35, num_value1 >=30)\n",
    "hist(temp2$num_value1)"
   ]
  },
  {
   "cell_type": "code",
   "execution_count": 16,
   "metadata": {},
   "outputs": [
    {
     "data": {
      "text/html": [
       "318908"
      ],
      "text/latex": [
       "318908"
      ],
      "text/markdown": [
       "318908"
      ],
      "text/plain": [
       "[1] 318908"
      ]
     },
     "metadata": {},
     "output_type": "display_data"
    },
    {
     "data": {
      "text/html": [
       "<style>\n",
       ".list-inline {list-style: none; margin:0; padding: 0}\n",
       ".list-inline>li {display: inline-block}\n",
       ".list-inline>li:not(:last-child)::after {content: \"\\00b7\"; padding: 0 .5ex}\n",
       "</style>\n",
       "<ol class=list-inline><li>'RR'</li><li>'SBP'</li><li>'Temp'</li><li>'Pulse'</li></ol>\n"
      ],
      "text/latex": [
       "\\begin{enumerate*}\n",
       "\\item 'RR'\n",
       "\\item 'SBP'\n",
       "\\item 'Temp'\n",
       "\\item 'Pulse'\n",
       "\\end{enumerate*}\n"
      ],
      "text/markdown": [
       "1. 'RR'\n",
       "2. 'SBP'\n",
       "3. 'Temp'\n",
       "4. 'Pulse'\n",
       "\n",
       "\n"
      ],
      "text/plain": [
       "[1] \"RR\"    \"SBP\"   \"Temp\"  \"Pulse\""
      ]
     },
     "metadata": {},
     "output_type": "display_data"
    },
    {
     "data": {
      "text/html": [
       "<table class=\"dataframe\">\n",
       "<caption>A tibble: 4 × 10</caption>\n",
       "<thead>\n",
       "\t<tr><th scope=col>features</th><th scope=col>n</th><th scope=col>mean1</th><th scope=col>mean2</th><th scope=col>median1</th><th scope=col>median2</th><th scope=col>min1</th><th scope=col>min2</th><th scope=col>max1</th><th scope=col>max2</th></tr>\n",
       "\t<tr><th scope=col>&lt;chr&gt;</th><th scope=col>&lt;int&gt;</th><th scope=col>&lt;dbl&gt;</th><th scope=col>&lt;dbl&gt;</th><th scope=col>&lt;dbl&gt;</th><th scope=col>&lt;dbl&gt;</th><th scope=col>&lt;dbl&gt;</th><th scope=col>&lt;dbl&gt;</th><th scope=col>&lt;dbl&gt;</th><th scope=col>&lt;dbl&gt;</th></tr>\n",
       "</thead>\n",
       "<tbody>\n",
       "\t<tr><td>Pulse</td><td>94831</td><td> 88.77882</td><td>     NaN</td><td> 87.0</td><td>  NA</td><td> 0.0</td><td>Inf</td><td>262</td><td> -Inf</td></tr>\n",
       "\t<tr><td>RR   </td><td>89761</td><td> 19.72560</td><td>     NaN</td><td> 18.0</td><td>  NA</td><td> 0.0</td><td>Inf</td><td>120</td><td> -Inf</td></tr>\n",
       "\t<tr><td>SBP  </td><td>85309</td><td>128.61480</td><td>76.62916</td><td>127.0</td><td>76.0</td><td>30.0</td><td>  4</td><td>270</td><td>219.0</td></tr>\n",
       "\t<tr><td>Temp </td><td>49007</td><td> 68.72214</td><td>98.31800</td><td> 96.8</td><td>98.2</td><td> 2.5</td><td> 95</td><td>106</td><td>103.1</td></tr>\n",
       "</tbody>\n",
       "</table>\n"
      ],
      "text/latex": [
       "A tibble: 4 × 10\n",
       "\\begin{tabular}{llllllllll}\n",
       " features & n & mean1 & mean2 & median1 & median2 & min1 & min2 & max1 & max2\\\\\n",
       " <chr> & <int> & <dbl> & <dbl> & <dbl> & <dbl> & <dbl> & <dbl> & <dbl> & <dbl>\\\\\n",
       "\\hline\n",
       "\t Pulse & 94831 &  88.77882 &      NaN &  87.0 &   NA &  0.0 & Inf & 262 &  -Inf\\\\\n",
       "\t RR    & 89761 &  19.72560 &      NaN &  18.0 &   NA &  0.0 & Inf & 120 &  -Inf\\\\\n",
       "\t SBP   & 85309 & 128.61480 & 76.62916 & 127.0 & 76.0 & 30.0 &   4 & 270 & 219.0\\\\\n",
       "\t Temp  & 49007 &  68.72214 & 98.31800 &  96.8 & 98.2 &  2.5 &  95 & 106 & 103.1\\\\\n",
       "\\end{tabular}\n"
      ],
      "text/markdown": [
       "\n",
       "A tibble: 4 × 10\n",
       "\n",
       "| features &lt;chr&gt; | n &lt;int&gt; | mean1 &lt;dbl&gt; | mean2 &lt;dbl&gt; | median1 &lt;dbl&gt; | median2 &lt;dbl&gt; | min1 &lt;dbl&gt; | min2 &lt;dbl&gt; | max1 &lt;dbl&gt; | max2 &lt;dbl&gt; |\n",
       "|---|---|---|---|---|---|---|---|---|---|\n",
       "| Pulse | 94831 |  88.77882 |      NaN |  87.0 |   NA |  0.0 | Inf | 262 |  -Inf |\n",
       "| RR    | 89761 |  19.72560 |      NaN |  18.0 |   NA |  0.0 | Inf | 120 |  -Inf |\n",
       "| SBP   | 85309 | 128.61480 | 76.62916 | 127.0 | 76.0 | 30.0 |   4 | 270 | 219.0 |\n",
       "| Temp  | 49007 |  68.72214 | 98.31800 |  96.8 | 98.2 |  2.5 |  95 | 106 | 103.1 |\n",
       "\n"
      ],
      "text/plain": [
       "  features n     mean1     mean2    median1 median2 min1 min2 max1 max2 \n",
       "1 Pulse    94831  88.77882      NaN  87.0     NA     0.0 Inf  262   -Inf\n",
       "2 RR       89761  19.72560      NaN  18.0     NA     0.0 Inf  120   -Inf\n",
       "3 SBP      85309 128.61480 76.62916 127.0   76.0    30.0   4  270  219.0\n",
       "4 Temp     49007  68.72214 98.31800  96.8   98.2     2.5  95  106  103.1"
      ]
     },
     "metadata": {},
     "output_type": "display_data"
    }
   ],
   "source": [
    "# rename the variables, combine similar ones\n",
    "# only 1 name: SpO2 and BP # ifelse(str_detect(features, paste(GCS, collapse=\"|\")), \"GCS\",\n",
    "Pulse = c(\"Pulse\", \"Heart Rate\") \n",
    "RR = c(\"Resp\", \"Resp Rate\") # not using Respiratory Rate, different scale\n",
    "\n",
    "# will name BP as SBP and take num_value1 only, DBP will be processed separately\n",
    "# distinct will reduce many rows, that have values with same recorded time\n",
    "vitals <- vitals %>% rename(features = row_disp_name) %>% \n",
    "                mutate(features = ifelse(features == \"BP\", \"SBP\",\n",
    "                                         ifelse(features %in% Pulse, \"Pulse\", \n",
    "                                                ifelse(str_detect(features, \"Temp\"), \"Temp\", \n",
    "                                                       ifelse(features %in% RR, \"RR\", as.character(features)))))) %>% # last ... in ifelse(cond, iftrue, ...)\n",
    "                distinct()\n",
    "nrow(vitals)       \n",
    "unique(vitals$features)\n",
    "fs_feats <- c(\"Pulse\", \"RR\", \"SBP\", \"Temp\")\n",
    "vitals %>% filter(features %in% fs_feats) %>% group_by(features) %>% display_summary_num1and2(num_value1, num_value2)"
   ]
  },
  {
   "cell_type": "markdown",
   "metadata": {},
   "source": [
    "### Clean Temp:\n",
    "- temp in Celsius is above 25 and below 45\n",
    "- anything < 25 is even less than 10 and considered to be erroneous\n",
    "- anything > 75 is considered in F \n",
    "- num_value2 is only F while num_value1 can be either F or C\n",
    "- HOWEVER, if num_value1 is NA or num_value1 < 26, there is no num_value2! **So we can just use num_value1 for temp!**"
   ]
  },
  {
   "cell_type": "code",
   "execution_count": 17,
   "metadata": {},
   "outputs": [
    {
     "data": {
      "text/plain": [
       "   num_value1       num_value2    \n",
       " Min.   :  2.50   Min.   : 95.00  \n",
       " 1st Qu.: 36.80   1st Qu.: 97.90  \n",
       " Median : 96.80   Median : 98.20  \n",
       " Mean   : 68.72   Mean   : 98.32  \n",
       " 3rd Qu.: 98.20   3rd Qu.: 98.60  \n",
       " Max.   :106.00   Max.   :103.10  \n",
       " NA's   :294      NA's   :48557   "
      ]
     },
     "metadata": {},
     "output_type": "display_data"
    },
    {
     "data": {
      "text/html": [
       "0"
      ],
      "text/latex": [
       "0"
      ],
      "text/markdown": [
       "0"
      ],
      "text/plain": [
       "[1] 0"
      ]
     },
     "metadata": {},
     "output_type": "display_data"
    },
    {
     "data": {
      "text/html": [
       "10"
      ],
      "text/latex": [
       "10"
      ],
      "text/markdown": [
       "10"
      ],
      "text/plain": [
       "[1] 10"
      ]
     },
     "metadata": {},
     "output_type": "display_data"
    }
   ],
   "source": [
    "summary(vitals %>% filter(features==\"Temp\") %>% select(num_value1, num_value2))\n",
    "nrow(vitals %>% filter(features==\"Temp\", is.na(num_value1), !is.na(num_value2)))\n",
    "nrow(vitals %>% filter(features==\"Temp\", num_value1 <= 25))"
   ]
  },
  {
   "cell_type": "markdown",
   "metadata": {},
   "source": [
    "### Check DBP and process this separately, to bind rows afterward"
   ]
  },
  {
   "cell_type": "code",
   "execution_count": 18,
   "metadata": {},
   "outputs": [
    {
     "data": {
      "text/html": [
       "0"
      ],
      "text/latex": [
       "0"
      ],
      "text/markdown": [
       "0"
      ],
      "text/plain": [
       "[1] 0"
      ]
     },
     "metadata": {},
     "output_type": "display_data"
    },
    {
     "data": {
      "text/html": [
       "0"
      ],
      "text/latex": [
       "0"
      ],
      "text/markdown": [
       "0"
      ],
      "text/plain": [
       "[1] 0"
      ]
     },
     "metadata": {},
     "output_type": "display_data"
    },
    {
     "data": {
      "text/html": [
       "<table class=\"dataframe\">\n",
       "<caption>A data.frame: 52 × 11</caption>\n",
       "<thead>\n",
       "\t<tr><th scope=col>anon_id</th><th scope=col>pat_enc_csn_id_coded</th><th scope=col>inpatient_data_id_coded</th><th scope=col>admit_time</th><th scope=col>label</th><th scope=col>template</th><th scope=col>features</th><th scope=col>units</th><th scope=col>recorded_time</th><th scope=col>num_value1</th><th scope=col>num_value2</th></tr>\n",
       "\t<tr><th scope=col>&lt;chr&gt;</th><th scope=col>&lt;dbl&gt;</th><th scope=col>&lt;int&gt;</th><th scope=col>&lt;chr&gt;</th><th scope=col>&lt;int&gt;</th><th scope=col>&lt;chr&gt;</th><th scope=col>&lt;chr&gt;</th><th scope=col>&lt;chr&gt;</th><th scope=col>&lt;chr&gt;</th><th scope=col>&lt;dbl&gt;</th><th scope=col>&lt;dbl&gt;</th></tr>\n",
       "</thead>\n",
       "<tbody>\n",
       "\t<tr><td>JC792464 </td><td>131288108145</td><td>53423753</td><td>2020-05-08 02:43:00+00:00</td><td>1</td><td>Vitals                  </td><td>SBP</td><td></td><td>2020-05-07 23:44:14+00:00</td><td>124</td><td>  4</td></tr>\n",
       "\t<tr><td>JC902851 </td><td>131288908250</td><td>53892935</td><td>2020-05-31 02:28:00+00:00</td><td>0</td><td>Vitals                  </td><td>SBP</td><td></td><td>2020-05-31 01:08:00+00:00</td><td>151</td><td>  4</td></tr>\n",
       "\t<tr><td>JC3065257</td><td>131306195600</td><td>64517773</td><td>2021-04-05 01:18:00+00:00</td><td>0</td><td>Vitals                  </td><td>SBP</td><td></td><td>2021-04-04 22:06:00+00:00</td><td>135</td><td>  6</td></tr>\n",
       "\t<tr><td>JC580867 </td><td>131298050106</td><td>59534723</td><td>2020-10-23 07:00:00+00:00</td><td>0</td><td>Vitals From Sheet       </td><td>SBP</td><td></td><td>2020-10-23 02:09:00+00:00</td><td>130</td><td>  7</td></tr>\n",
       "\t<tr><td>JC589511 </td><td>131314440717</td><td>69168292</td><td>2021-08-09 23:45:00+00:00</td><td>0</td><td>Vitals                  </td><td>SBP</td><td></td><td>2021-08-09 21:00:00+00:00</td><td>125</td><td>  7</td></tr>\n",
       "\t<tr><td>JC1636009</td><td>131315774179</td><td>69995647</td><td>2021-09-12 06:56:00+00:00</td><td>0</td><td>Vitals                  </td><td>SBP</td><td></td><td>2021-09-12 06:08:00+00:00</td><td>173</td><td>  8</td></tr>\n",
       "\t<tr><td>JC1182263</td><td>131296289673</td><td>58456217</td><td>2020-10-27 19:34:00+00:00</td><td>0</td><td>ICU VS                  </td><td>SBP</td><td></td><td>2020-10-27 16:45:00+00:00</td><td>178</td><td> 11</td></tr>\n",
       "\t<tr><td>JC2975264</td><td>131291139699</td><td>55294983</td><td>2020-06-19 12:20:00+00:00</td><td>0</td><td>Vitals                  </td><td>SBP</td><td></td><td>2020-06-19 04:45:00+00:00</td><td>132</td><td> 11</td></tr>\n",
       "\t<tr><td>JC2972956</td><td>131301643291</td><td>61707780</td><td>2021-02-09 07:03:00+00:00</td><td>1</td><td>Vitals                  </td><td>SBP</td><td></td><td>2021-02-09 01:16:00+00:00</td><td> 46</td><td> 12</td></tr>\n",
       "\t<tr><td>JC3235566</td><td>131318623436</td><td>71828390</td><td>2021-09-14 01:59:00+00:00</td><td>0</td><td>Vitals                  </td><td>SBP</td><td></td><td>2021-09-13 21:35:00+00:00</td><td>146</td><td> 12</td></tr>\n",
       "\t<tr><td>JC1751933</td><td>131288449551</td><td>53604762</td><td>2020-05-28 13:23:00+00:00</td><td>1</td><td>Vitals                  </td><td>SBP</td><td></td><td>2020-05-28 10:30:00+00:00</td><td>147</td><td> 13</td></tr>\n",
       "\t<tr><td>JC2708254</td><td>131298598985</td><td>59868714</td><td>2020-11-07 03:49:00+00:00</td><td>1</td><td>Blood Administration    </td><td>SBP</td><td></td><td>2020-11-07 00:08:00+00:00</td><td> 73</td><td> 14</td></tr>\n",
       "\t<tr><td>JC2744196</td><td>131290893139</td><td>55141122</td><td>2020-06-30 03:58:00+00:00</td><td>0</td><td>Vitals                  </td><td>SBP</td><td></td><td>2020-06-30 01:25:00+00:00</td><td> 95</td><td> 14</td></tr>\n",
       "\t<tr><td>JC2754213</td><td>131287908406</td><td>53300696</td><td>2020-05-04 03:53:00+00:00</td><td>1</td><td>ICU VS                  </td><td>SBP</td><td></td><td>2020-05-04 02:40:00+00:00</td><td> 62</td><td> 15</td></tr>\n",
       "\t<tr><td>JC2754213</td><td>131287908406</td><td>53300696</td><td>2020-05-04 03:53:00+00:00</td><td>1</td><td>Vitals                  </td><td>SBP</td><td></td><td>2020-05-04 02:41:49+00:00</td><td> 62</td><td> 15</td></tr>\n",
       "\t<tr><td>JC3013899</td><td>131295633821</td><td>58054477</td><td>2020-09-04 19:47:00+00:00</td><td>1</td><td>Vitals                  </td><td>SBP</td><td></td><td>2020-09-04 18:10:00+00:00</td><td> 42</td><td> 16</td></tr>\n",
       "\t<tr><td>JC3213765</td><td>131314394445</td><td>69136238</td><td>2021-06-20 12:50:00+00:00</td><td>1</td><td>ICU VS                  </td><td>SBP</td><td></td><td>2021-06-20 11:40:00+00:00</td><td> 57</td><td> 17</td></tr>\n",
       "\t<tr><td>JC2578588</td><td>131304383960</td><td>63377928</td><td>2021-02-13 03:20:00+00:00</td><td>1</td><td>Hemodynamic Measurements</td><td>SBP</td><td></td><td>2021-02-13 02:56:55+00:00</td><td> 73</td><td> 17</td></tr>\n",
       "\t<tr><td>JC861398 </td><td>131299607206</td><td>60466449</td><td>2020-11-16 07:56:00+00:00</td><td>1</td><td>Vitals                  </td><td>SBP</td><td></td><td>2020-11-16 06:17:00+00:00</td><td> 49</td><td> 17</td></tr>\n",
       "\t<tr><td>JC1810070</td><td>131319602419</td><td>72441688</td><td>2021-09-27 02:56:00+00:00</td><td>1</td><td>Vitals                  </td><td>SBP</td><td></td><td>2021-09-27 00:55:00+00:00</td><td> 81</td><td> 18</td></tr>\n",
       "\t<tr><td>JC1297039</td><td>131313837219</td><td>68787304</td><td>2021-06-30 02:50:00+00:00</td><td>1</td><td>IIC VS                  </td><td>SBP</td><td></td><td>2021-06-30 02:35:00+00:00</td><td> 95</td><td> 19</td></tr>\n",
       "\t<tr><td>JC3225015</td><td>131318667630</td><td>71855524</td><td>2021-09-04 19:50:00+00:00</td><td>1</td><td>DATA VALIDATE           </td><td>SBP</td><td></td><td>2021-09-04 17:45:00+00:00</td><td> 91</td><td> 20</td></tr>\n",
       "\t<tr><td>JC528767 </td><td>131301350964</td><td>61527033</td><td>2020-12-22 00:18:00+00:00</td><td>1</td><td>ICU VS                  </td><td>SBP</td><td></td><td>2020-12-21 22:15:00+00:00</td><td> 61</td><td> 20</td></tr>\n",
       "\t<tr><td>JC1576314</td><td>131290025678</td><td>54597342</td><td>2020-07-14 08:14:00+00:00</td><td>1</td><td>DATA VALIDATE           </td><td>SBP</td><td></td><td>2020-07-14 07:45:00+00:00</td><td> 79</td><td> 20</td></tr>\n",
       "\t<tr><td>JC2578588</td><td>131304383960</td><td>63377928</td><td>2021-02-13 03:20:00+00:00</td><td>1</td><td>Hemodynamic Measurements</td><td>SBP</td><td></td><td>2021-02-13 02:53:22+00:00</td><td> 69</td><td> 20</td></tr>\n",
       "\t<tr><td>JC1272090</td><td>131311723977</td><td>67461706</td><td>2021-05-26 08:19:00+00:00</td><td>0</td><td>DATA VALIDATE           </td><td>SBP</td><td></td><td>2021-05-26 07:45:00+00:00</td><td> 89</td><td> 20</td></tr>\n",
       "\t<tr><td>JC2554541</td><td>131303936999</td><td>63085778</td><td>2021-02-25 00:57:00+00:00</td><td>0</td><td>Vitals                  </td><td>SBP</td><td></td><td>2021-02-24 23:27:00+00:00</td><td>106</td><td> 21</td></tr>\n",
       "\t<tr><td>JC3255453</td><td>131310578506</td><td>66797027</td><td>2021-05-23 04:06:00+00:00</td><td>1</td><td>Vitals                  </td><td>SBP</td><td></td><td>2021-05-23 02:20:00+00:00</td><td>169</td><td> 21</td></tr>\n",
       "\t<tr><td>JC1177996</td><td>131298908076</td><td>60039720</td><td>2020-11-12 04:31:00+00:00</td><td>0</td><td>Vitals                  </td><td>SBP</td><td></td><td>2020-11-12 00:03:00+00:00</td><td> 92</td><td> 21</td></tr>\n",
       "\t<tr><td>JC3219873</td><td>131318218358</td><td>71574134</td><td>2021-09-14 17:02:00+00:00</td><td>1</td><td>Vitals                  </td><td>SBP</td><td></td><td>2021-09-14 14:30:00+00:00</td><td> 84</td><td> 21</td></tr>\n",
       "\t<tr><td>JC2048106</td><td>131290668018</td><td>55000120</td><td>2020-06-26 23:19:00+00:00</td><td>1</td><td>Vitals                  </td><td>SBP</td><td></td><td>2020-06-26 19:26:00+00:00</td><td>140</td><td> 22</td></tr>\n",
       "\t<tr><td>JC1402143</td><td>131312791639</td><td>68127567</td><td>2021-05-18 06:39:00+00:00</td><td>1</td><td>Vitals                  </td><td>SBP</td><td></td><td>2021-05-18 04:34:00+00:00</td><td> 61</td><td> 22</td></tr>\n",
       "\t<tr><td>JC1107379</td><td>131318747118</td><td>71903739</td><td>2021-09-13 04:48:00+00:00</td><td>1</td><td>Blood Administration    </td><td>SBP</td><td></td><td>2021-09-13 03:41:00+00:00</td><td> 92</td><td> 23</td></tr>\n",
       "\t<tr><td>JC2690491</td><td>131304901114</td><td>63711374</td><td>2021-02-16 16:14:00+00:00</td><td>1</td><td>Vitals                  </td><td>SBP</td><td></td><td>2021-02-16 15:10:00+00:00</td><td> 30</td><td> 23</td></tr>\n",
       "\t<tr><td>JC1411002</td><td>131313744359</td><td>68728360</td><td>2021-07-17 02:16:00+00:00</td><td>0</td><td>Vitals                  </td><td>SBP</td><td></td><td>2021-07-17 00:40:00+00:00</td><td> 57</td><td> 23</td></tr>\n",
       "\t<tr><td>JC575634 </td><td>131291647049</td><td>55608074</td><td>2020-08-02 19:07:00+00:00</td><td>1</td><td>Vitals                  </td><td>SBP</td><td></td><td>2020-08-02 17:13:00+00:00</td><td> 69</td><td> 23</td></tr>\n",
       "\t<tr><td>JC1489573</td><td>131300035275</td><td>60724377</td><td>2020-12-08 00:38:00+00:00</td><td>1</td><td>DATA VALIDATE           </td><td>SBP</td><td></td><td>2020-12-07 18:20:00+00:00</td><td> 74</td><td> 23</td></tr>\n",
       "\t<tr><td>JC1576314</td><td>131290025678</td><td>54597342</td><td>2020-07-14 08:14:00+00:00</td><td>1</td><td>DATA VALIDATE           </td><td>SBP</td><td></td><td>2020-07-14 07:37:00+00:00</td><td> 90</td><td> 23</td></tr>\n",
       "\t<tr><td>JC528767 </td><td>131301350964</td><td>61527033</td><td>2020-12-22 00:18:00+00:00</td><td>1</td><td>ICU VS                  </td><td>SBP</td><td></td><td>2020-12-21 23:55:00+00:00</td><td> 82</td><td> 23</td></tr>\n",
       "\t<tr><td>JC1410701</td><td>131291427619</td><td>55474669</td><td>2020-07-31 02:28:00+00:00</td><td>1</td><td>ICU VS                  </td><td>SBP</td><td></td><td>2020-07-30 22:55:00+00:00</td><td> 81</td><td> 24</td></tr>\n",
       "\t<tr><td>JC1297039</td><td>131313837219</td><td>68787304</td><td>2021-06-30 02:50:00+00:00</td><td>1</td><td>IIC VS                  </td><td>SBP</td><td></td><td>2021-06-30 02:31:00+00:00</td><td> 51</td><td> 24</td></tr>\n",
       "\t<tr><td>JC1576314</td><td>131290025678</td><td>54597342</td><td>2020-07-14 08:14:00+00:00</td><td>1</td><td>Vitals                  </td><td>SBP</td><td></td><td>2020-07-14 07:50:00+00:00</td><td> 77</td><td> 24</td></tr>\n",
       "\t<tr><td>JC2578588</td><td>131304383960</td><td>63377928</td><td>2021-02-13 03:20:00+00:00</td><td>1</td><td>Vitals                  </td><td>SBP</td><td></td><td>2021-02-13 01:48:00+00:00</td><td> 69</td><td> 24</td></tr>\n",
       "\t<tr><td>JC3090612</td><td>131304020844</td><td>63139826</td><td>2021-02-02 02:41:00+00:00</td><td>1</td><td>M/S VS                  </td><td>SBP</td><td></td><td>2021-02-02 00:05:00+00:00</td><td> 51</td><td> 24</td></tr>\n",
       "\t<tr><td>JC2017860</td><td>131312821040</td><td>68145557</td><td>2021-06-06 23:44:00+00:00</td><td>1</td><td>Vitals                  </td><td>SBP</td><td></td><td>2021-06-06 23:42:00+00:00</td><td> 91</td><td> 24</td></tr>\n",
       "\t<tr><td>JC1410701</td><td>131291427619</td><td>55474669</td><td>2020-07-31 02:28:00+00:00</td><td>1</td><td>Vitals                  </td><td>SBP</td><td></td><td>2020-07-30 22:56:30+00:00</td><td> 81</td><td> 24</td></tr>\n",
       "\t<tr><td>JC583000 </td><td>131292157107</td><td>55929285</td><td>2020-06-30 03:31:00+00:00</td><td>1</td><td>Vitals                  </td><td>SBP</td><td></td><td>2020-06-30 03:00:00+00:00</td><td> 60</td><td> 24</td></tr>\n",
       "\t<tr><td>JC1232318</td><td>131303620333</td><td>62927199</td><td>2021-01-18 08:28:00+00:00</td><td>1</td><td>Vitals                  </td><td>SBP</td><td></td><td>2021-01-18 06:30:00+00:00</td><td>234</td><td>202</td></tr>\n",
       "\t<tr><td>JC3061530</td><td>131300905726</td><td>61251780</td><td>2020-12-13 06:08:00+00:00</td><td>1</td><td>ICU VS                  </td><td>SBP</td><td></td><td>2020-12-13 04:58:00+00:00</td><td>228</td><td>203</td></tr>\n",
       "\t<tr><td>JC3061530</td><td>131300905726</td><td>61251780</td><td>2020-12-13 06:08:00+00:00</td><td>1</td><td>Vitals                  </td><td>SBP</td><td></td><td>2020-12-13 04:59:07+00:00</td><td>228</td><td>203</td></tr>\n",
       "\t<tr><td>JC1740030</td><td>131303621472</td><td>62927606</td><td>2021-02-16 06:55:00+00:00</td><td>1</td><td>Vitals                  </td><td>SBP</td><td></td><td>2021-02-16 06:25:00+00:00</td><td>221</td><td>204</td></tr>\n",
       "\t<tr><td>JC600598 </td><td>131311157085</td><td>67155613</td><td>2021-06-07 16:15:00+00:00</td><td>1</td><td>DATA VALIDATE           </td><td>SBP</td><td></td><td>2021-06-07 14:15:00+00:00</td><td>264</td><td>219</td></tr>\n",
       "</tbody>\n",
       "</table>\n"
      ],
      "text/latex": [
       "A data.frame: 52 × 11\n",
       "\\begin{tabular}{lllllllllll}\n",
       " anon\\_id & pat\\_enc\\_csn\\_id\\_coded & inpatient\\_data\\_id\\_coded & admit\\_time & label & template & features & units & recorded\\_time & num\\_value1 & num\\_value2\\\\\n",
       " <chr> & <dbl> & <int> & <chr> & <int> & <chr> & <chr> & <chr> & <chr> & <dbl> & <dbl>\\\\\n",
       "\\hline\n",
       "\t JC792464  & 131288108145 & 53423753 & 2020-05-08 02:43:00+00:00 & 1 & Vitals                   & SBP &  & 2020-05-07 23:44:14+00:00 & 124 &   4\\\\\n",
       "\t JC902851  & 131288908250 & 53892935 & 2020-05-31 02:28:00+00:00 & 0 & Vitals                   & SBP &  & 2020-05-31 01:08:00+00:00 & 151 &   4\\\\\n",
       "\t JC3065257 & 131306195600 & 64517773 & 2021-04-05 01:18:00+00:00 & 0 & Vitals                   & SBP &  & 2021-04-04 22:06:00+00:00 & 135 &   6\\\\\n",
       "\t JC580867  & 131298050106 & 59534723 & 2020-10-23 07:00:00+00:00 & 0 & Vitals From Sheet        & SBP &  & 2020-10-23 02:09:00+00:00 & 130 &   7\\\\\n",
       "\t JC589511  & 131314440717 & 69168292 & 2021-08-09 23:45:00+00:00 & 0 & Vitals                   & SBP &  & 2021-08-09 21:00:00+00:00 & 125 &   7\\\\\n",
       "\t JC1636009 & 131315774179 & 69995647 & 2021-09-12 06:56:00+00:00 & 0 & Vitals                   & SBP &  & 2021-09-12 06:08:00+00:00 & 173 &   8\\\\\n",
       "\t JC1182263 & 131296289673 & 58456217 & 2020-10-27 19:34:00+00:00 & 0 & ICU VS                   & SBP &  & 2020-10-27 16:45:00+00:00 & 178 &  11\\\\\n",
       "\t JC2975264 & 131291139699 & 55294983 & 2020-06-19 12:20:00+00:00 & 0 & Vitals                   & SBP &  & 2020-06-19 04:45:00+00:00 & 132 &  11\\\\\n",
       "\t JC2972956 & 131301643291 & 61707780 & 2021-02-09 07:03:00+00:00 & 1 & Vitals                   & SBP &  & 2021-02-09 01:16:00+00:00 &  46 &  12\\\\\n",
       "\t JC3235566 & 131318623436 & 71828390 & 2021-09-14 01:59:00+00:00 & 0 & Vitals                   & SBP &  & 2021-09-13 21:35:00+00:00 & 146 &  12\\\\\n",
       "\t JC1751933 & 131288449551 & 53604762 & 2020-05-28 13:23:00+00:00 & 1 & Vitals                   & SBP &  & 2020-05-28 10:30:00+00:00 & 147 &  13\\\\\n",
       "\t JC2708254 & 131298598985 & 59868714 & 2020-11-07 03:49:00+00:00 & 1 & Blood Administration     & SBP &  & 2020-11-07 00:08:00+00:00 &  73 &  14\\\\\n",
       "\t JC2744196 & 131290893139 & 55141122 & 2020-06-30 03:58:00+00:00 & 0 & Vitals                   & SBP &  & 2020-06-30 01:25:00+00:00 &  95 &  14\\\\\n",
       "\t JC2754213 & 131287908406 & 53300696 & 2020-05-04 03:53:00+00:00 & 1 & ICU VS                   & SBP &  & 2020-05-04 02:40:00+00:00 &  62 &  15\\\\\n",
       "\t JC2754213 & 131287908406 & 53300696 & 2020-05-04 03:53:00+00:00 & 1 & Vitals                   & SBP &  & 2020-05-04 02:41:49+00:00 &  62 &  15\\\\\n",
       "\t JC3013899 & 131295633821 & 58054477 & 2020-09-04 19:47:00+00:00 & 1 & Vitals                   & SBP &  & 2020-09-04 18:10:00+00:00 &  42 &  16\\\\\n",
       "\t JC3213765 & 131314394445 & 69136238 & 2021-06-20 12:50:00+00:00 & 1 & ICU VS                   & SBP &  & 2021-06-20 11:40:00+00:00 &  57 &  17\\\\\n",
       "\t JC2578588 & 131304383960 & 63377928 & 2021-02-13 03:20:00+00:00 & 1 & Hemodynamic Measurements & SBP &  & 2021-02-13 02:56:55+00:00 &  73 &  17\\\\\n",
       "\t JC861398  & 131299607206 & 60466449 & 2020-11-16 07:56:00+00:00 & 1 & Vitals                   & SBP &  & 2020-11-16 06:17:00+00:00 &  49 &  17\\\\\n",
       "\t JC1810070 & 131319602419 & 72441688 & 2021-09-27 02:56:00+00:00 & 1 & Vitals                   & SBP &  & 2021-09-27 00:55:00+00:00 &  81 &  18\\\\\n",
       "\t JC1297039 & 131313837219 & 68787304 & 2021-06-30 02:50:00+00:00 & 1 & IIC VS                   & SBP &  & 2021-06-30 02:35:00+00:00 &  95 &  19\\\\\n",
       "\t JC3225015 & 131318667630 & 71855524 & 2021-09-04 19:50:00+00:00 & 1 & DATA VALIDATE            & SBP &  & 2021-09-04 17:45:00+00:00 &  91 &  20\\\\\n",
       "\t JC528767  & 131301350964 & 61527033 & 2020-12-22 00:18:00+00:00 & 1 & ICU VS                   & SBP &  & 2020-12-21 22:15:00+00:00 &  61 &  20\\\\\n",
       "\t JC1576314 & 131290025678 & 54597342 & 2020-07-14 08:14:00+00:00 & 1 & DATA VALIDATE            & SBP &  & 2020-07-14 07:45:00+00:00 &  79 &  20\\\\\n",
       "\t JC2578588 & 131304383960 & 63377928 & 2021-02-13 03:20:00+00:00 & 1 & Hemodynamic Measurements & SBP &  & 2021-02-13 02:53:22+00:00 &  69 &  20\\\\\n",
       "\t JC1272090 & 131311723977 & 67461706 & 2021-05-26 08:19:00+00:00 & 0 & DATA VALIDATE            & SBP &  & 2021-05-26 07:45:00+00:00 &  89 &  20\\\\\n",
       "\t JC2554541 & 131303936999 & 63085778 & 2021-02-25 00:57:00+00:00 & 0 & Vitals                   & SBP &  & 2021-02-24 23:27:00+00:00 & 106 &  21\\\\\n",
       "\t JC3255453 & 131310578506 & 66797027 & 2021-05-23 04:06:00+00:00 & 1 & Vitals                   & SBP &  & 2021-05-23 02:20:00+00:00 & 169 &  21\\\\\n",
       "\t JC1177996 & 131298908076 & 60039720 & 2020-11-12 04:31:00+00:00 & 0 & Vitals                   & SBP &  & 2020-11-12 00:03:00+00:00 &  92 &  21\\\\\n",
       "\t JC3219873 & 131318218358 & 71574134 & 2021-09-14 17:02:00+00:00 & 1 & Vitals                   & SBP &  & 2021-09-14 14:30:00+00:00 &  84 &  21\\\\\n",
       "\t JC2048106 & 131290668018 & 55000120 & 2020-06-26 23:19:00+00:00 & 1 & Vitals                   & SBP &  & 2020-06-26 19:26:00+00:00 & 140 &  22\\\\\n",
       "\t JC1402143 & 131312791639 & 68127567 & 2021-05-18 06:39:00+00:00 & 1 & Vitals                   & SBP &  & 2021-05-18 04:34:00+00:00 &  61 &  22\\\\\n",
       "\t JC1107379 & 131318747118 & 71903739 & 2021-09-13 04:48:00+00:00 & 1 & Blood Administration     & SBP &  & 2021-09-13 03:41:00+00:00 &  92 &  23\\\\\n",
       "\t JC2690491 & 131304901114 & 63711374 & 2021-02-16 16:14:00+00:00 & 1 & Vitals                   & SBP &  & 2021-02-16 15:10:00+00:00 &  30 &  23\\\\\n",
       "\t JC1411002 & 131313744359 & 68728360 & 2021-07-17 02:16:00+00:00 & 0 & Vitals                   & SBP &  & 2021-07-17 00:40:00+00:00 &  57 &  23\\\\\n",
       "\t JC575634  & 131291647049 & 55608074 & 2020-08-02 19:07:00+00:00 & 1 & Vitals                   & SBP &  & 2020-08-02 17:13:00+00:00 &  69 &  23\\\\\n",
       "\t JC1489573 & 131300035275 & 60724377 & 2020-12-08 00:38:00+00:00 & 1 & DATA VALIDATE            & SBP &  & 2020-12-07 18:20:00+00:00 &  74 &  23\\\\\n",
       "\t JC1576314 & 131290025678 & 54597342 & 2020-07-14 08:14:00+00:00 & 1 & DATA VALIDATE            & SBP &  & 2020-07-14 07:37:00+00:00 &  90 &  23\\\\\n",
       "\t JC528767  & 131301350964 & 61527033 & 2020-12-22 00:18:00+00:00 & 1 & ICU VS                   & SBP &  & 2020-12-21 23:55:00+00:00 &  82 &  23\\\\\n",
       "\t JC1410701 & 131291427619 & 55474669 & 2020-07-31 02:28:00+00:00 & 1 & ICU VS                   & SBP &  & 2020-07-30 22:55:00+00:00 &  81 &  24\\\\\n",
       "\t JC1297039 & 131313837219 & 68787304 & 2021-06-30 02:50:00+00:00 & 1 & IIC VS                   & SBP &  & 2021-06-30 02:31:00+00:00 &  51 &  24\\\\\n",
       "\t JC1576314 & 131290025678 & 54597342 & 2020-07-14 08:14:00+00:00 & 1 & Vitals                   & SBP &  & 2020-07-14 07:50:00+00:00 &  77 &  24\\\\\n",
       "\t JC2578588 & 131304383960 & 63377928 & 2021-02-13 03:20:00+00:00 & 1 & Vitals                   & SBP &  & 2021-02-13 01:48:00+00:00 &  69 &  24\\\\\n",
       "\t JC3090612 & 131304020844 & 63139826 & 2021-02-02 02:41:00+00:00 & 1 & M/S VS                   & SBP &  & 2021-02-02 00:05:00+00:00 &  51 &  24\\\\\n",
       "\t JC2017860 & 131312821040 & 68145557 & 2021-06-06 23:44:00+00:00 & 1 & Vitals                   & SBP &  & 2021-06-06 23:42:00+00:00 &  91 &  24\\\\\n",
       "\t JC1410701 & 131291427619 & 55474669 & 2020-07-31 02:28:00+00:00 & 1 & Vitals                   & SBP &  & 2020-07-30 22:56:30+00:00 &  81 &  24\\\\\n",
       "\t JC583000  & 131292157107 & 55929285 & 2020-06-30 03:31:00+00:00 & 1 & Vitals                   & SBP &  & 2020-06-30 03:00:00+00:00 &  60 &  24\\\\\n",
       "\t JC1232318 & 131303620333 & 62927199 & 2021-01-18 08:28:00+00:00 & 1 & Vitals                   & SBP &  & 2021-01-18 06:30:00+00:00 & 234 & 202\\\\\n",
       "\t JC3061530 & 131300905726 & 61251780 & 2020-12-13 06:08:00+00:00 & 1 & ICU VS                   & SBP &  & 2020-12-13 04:58:00+00:00 & 228 & 203\\\\\n",
       "\t JC3061530 & 131300905726 & 61251780 & 2020-12-13 06:08:00+00:00 & 1 & Vitals                   & SBP &  & 2020-12-13 04:59:07+00:00 & 228 & 203\\\\\n",
       "\t JC1740030 & 131303621472 & 62927606 & 2021-02-16 06:55:00+00:00 & 1 & Vitals                   & SBP &  & 2021-02-16 06:25:00+00:00 & 221 & 204\\\\\n",
       "\t JC600598  & 131311157085 & 67155613 & 2021-06-07 16:15:00+00:00 & 1 & DATA VALIDATE            & SBP &  & 2021-06-07 14:15:00+00:00 & 264 & 219\\\\\n",
       "\\end{tabular}\n"
      ],
      "text/markdown": [
       "\n",
       "A data.frame: 52 × 11\n",
       "\n",
       "| anon_id &lt;chr&gt; | pat_enc_csn_id_coded &lt;dbl&gt; | inpatient_data_id_coded &lt;int&gt; | admit_time &lt;chr&gt; | label &lt;int&gt; | template &lt;chr&gt; | features &lt;chr&gt; | units &lt;chr&gt; | recorded_time &lt;chr&gt; | num_value1 &lt;dbl&gt; | num_value2 &lt;dbl&gt; |\n",
       "|---|---|---|---|---|---|---|---|---|---|---|\n",
       "| JC792464  | 131288108145 | 53423753 | 2020-05-08 02:43:00+00:00 | 1 | Vitals                   | SBP | <!----> | 2020-05-07 23:44:14+00:00 | 124 |   4 |\n",
       "| JC902851  | 131288908250 | 53892935 | 2020-05-31 02:28:00+00:00 | 0 | Vitals                   | SBP | <!----> | 2020-05-31 01:08:00+00:00 | 151 |   4 |\n",
       "| JC3065257 | 131306195600 | 64517773 | 2021-04-05 01:18:00+00:00 | 0 | Vitals                   | SBP | <!----> | 2021-04-04 22:06:00+00:00 | 135 |   6 |\n",
       "| JC580867  | 131298050106 | 59534723 | 2020-10-23 07:00:00+00:00 | 0 | Vitals From Sheet        | SBP | <!----> | 2020-10-23 02:09:00+00:00 | 130 |   7 |\n",
       "| JC589511  | 131314440717 | 69168292 | 2021-08-09 23:45:00+00:00 | 0 | Vitals                   | SBP | <!----> | 2021-08-09 21:00:00+00:00 | 125 |   7 |\n",
       "| JC1636009 | 131315774179 | 69995647 | 2021-09-12 06:56:00+00:00 | 0 | Vitals                   | SBP | <!----> | 2021-09-12 06:08:00+00:00 | 173 |   8 |\n",
       "| JC1182263 | 131296289673 | 58456217 | 2020-10-27 19:34:00+00:00 | 0 | ICU VS                   | SBP | <!----> | 2020-10-27 16:45:00+00:00 | 178 |  11 |\n",
       "| JC2975264 | 131291139699 | 55294983 | 2020-06-19 12:20:00+00:00 | 0 | Vitals                   | SBP | <!----> | 2020-06-19 04:45:00+00:00 | 132 |  11 |\n",
       "| JC2972956 | 131301643291 | 61707780 | 2021-02-09 07:03:00+00:00 | 1 | Vitals                   | SBP | <!----> | 2021-02-09 01:16:00+00:00 |  46 |  12 |\n",
       "| JC3235566 | 131318623436 | 71828390 | 2021-09-14 01:59:00+00:00 | 0 | Vitals                   | SBP | <!----> | 2021-09-13 21:35:00+00:00 | 146 |  12 |\n",
       "| JC1751933 | 131288449551 | 53604762 | 2020-05-28 13:23:00+00:00 | 1 | Vitals                   | SBP | <!----> | 2020-05-28 10:30:00+00:00 | 147 |  13 |\n",
       "| JC2708254 | 131298598985 | 59868714 | 2020-11-07 03:49:00+00:00 | 1 | Blood Administration     | SBP | <!----> | 2020-11-07 00:08:00+00:00 |  73 |  14 |\n",
       "| JC2744196 | 131290893139 | 55141122 | 2020-06-30 03:58:00+00:00 | 0 | Vitals                   | SBP | <!----> | 2020-06-30 01:25:00+00:00 |  95 |  14 |\n",
       "| JC2754213 | 131287908406 | 53300696 | 2020-05-04 03:53:00+00:00 | 1 | ICU VS                   | SBP | <!----> | 2020-05-04 02:40:00+00:00 |  62 |  15 |\n",
       "| JC2754213 | 131287908406 | 53300696 | 2020-05-04 03:53:00+00:00 | 1 | Vitals                   | SBP | <!----> | 2020-05-04 02:41:49+00:00 |  62 |  15 |\n",
       "| JC3013899 | 131295633821 | 58054477 | 2020-09-04 19:47:00+00:00 | 1 | Vitals                   | SBP | <!----> | 2020-09-04 18:10:00+00:00 |  42 |  16 |\n",
       "| JC3213765 | 131314394445 | 69136238 | 2021-06-20 12:50:00+00:00 | 1 | ICU VS                   | SBP | <!----> | 2021-06-20 11:40:00+00:00 |  57 |  17 |\n",
       "| JC2578588 | 131304383960 | 63377928 | 2021-02-13 03:20:00+00:00 | 1 | Hemodynamic Measurements | SBP | <!----> | 2021-02-13 02:56:55+00:00 |  73 |  17 |\n",
       "| JC861398  | 131299607206 | 60466449 | 2020-11-16 07:56:00+00:00 | 1 | Vitals                   | SBP | <!----> | 2020-11-16 06:17:00+00:00 |  49 |  17 |\n",
       "| JC1810070 | 131319602419 | 72441688 | 2021-09-27 02:56:00+00:00 | 1 | Vitals                   | SBP | <!----> | 2021-09-27 00:55:00+00:00 |  81 |  18 |\n",
       "| JC1297039 | 131313837219 | 68787304 | 2021-06-30 02:50:00+00:00 | 1 | IIC VS                   | SBP | <!----> | 2021-06-30 02:35:00+00:00 |  95 |  19 |\n",
       "| JC3225015 | 131318667630 | 71855524 | 2021-09-04 19:50:00+00:00 | 1 | DATA VALIDATE            | SBP | <!----> | 2021-09-04 17:45:00+00:00 |  91 |  20 |\n",
       "| JC528767  | 131301350964 | 61527033 | 2020-12-22 00:18:00+00:00 | 1 | ICU VS                   | SBP | <!----> | 2020-12-21 22:15:00+00:00 |  61 |  20 |\n",
       "| JC1576314 | 131290025678 | 54597342 | 2020-07-14 08:14:00+00:00 | 1 | DATA VALIDATE            | SBP | <!----> | 2020-07-14 07:45:00+00:00 |  79 |  20 |\n",
       "| JC2578588 | 131304383960 | 63377928 | 2021-02-13 03:20:00+00:00 | 1 | Hemodynamic Measurements | SBP | <!----> | 2021-02-13 02:53:22+00:00 |  69 |  20 |\n",
       "| JC1272090 | 131311723977 | 67461706 | 2021-05-26 08:19:00+00:00 | 0 | DATA VALIDATE            | SBP | <!----> | 2021-05-26 07:45:00+00:00 |  89 |  20 |\n",
       "| JC2554541 | 131303936999 | 63085778 | 2021-02-25 00:57:00+00:00 | 0 | Vitals                   | SBP | <!----> | 2021-02-24 23:27:00+00:00 | 106 |  21 |\n",
       "| JC3255453 | 131310578506 | 66797027 | 2021-05-23 04:06:00+00:00 | 1 | Vitals                   | SBP | <!----> | 2021-05-23 02:20:00+00:00 | 169 |  21 |\n",
       "| JC1177996 | 131298908076 | 60039720 | 2020-11-12 04:31:00+00:00 | 0 | Vitals                   | SBP | <!----> | 2020-11-12 00:03:00+00:00 |  92 |  21 |\n",
       "| JC3219873 | 131318218358 | 71574134 | 2021-09-14 17:02:00+00:00 | 1 | Vitals                   | SBP | <!----> | 2021-09-14 14:30:00+00:00 |  84 |  21 |\n",
       "| JC2048106 | 131290668018 | 55000120 | 2020-06-26 23:19:00+00:00 | 1 | Vitals                   | SBP | <!----> | 2020-06-26 19:26:00+00:00 | 140 |  22 |\n",
       "| JC1402143 | 131312791639 | 68127567 | 2021-05-18 06:39:00+00:00 | 1 | Vitals                   | SBP | <!----> | 2021-05-18 04:34:00+00:00 |  61 |  22 |\n",
       "| JC1107379 | 131318747118 | 71903739 | 2021-09-13 04:48:00+00:00 | 1 | Blood Administration     | SBP | <!----> | 2021-09-13 03:41:00+00:00 |  92 |  23 |\n",
       "| JC2690491 | 131304901114 | 63711374 | 2021-02-16 16:14:00+00:00 | 1 | Vitals                   | SBP | <!----> | 2021-02-16 15:10:00+00:00 |  30 |  23 |\n",
       "| JC1411002 | 131313744359 | 68728360 | 2021-07-17 02:16:00+00:00 | 0 | Vitals                   | SBP | <!----> | 2021-07-17 00:40:00+00:00 |  57 |  23 |\n",
       "| JC575634  | 131291647049 | 55608074 | 2020-08-02 19:07:00+00:00 | 1 | Vitals                   | SBP | <!----> | 2020-08-02 17:13:00+00:00 |  69 |  23 |\n",
       "| JC1489573 | 131300035275 | 60724377 | 2020-12-08 00:38:00+00:00 | 1 | DATA VALIDATE            | SBP | <!----> | 2020-12-07 18:20:00+00:00 |  74 |  23 |\n",
       "| JC1576314 | 131290025678 | 54597342 | 2020-07-14 08:14:00+00:00 | 1 | DATA VALIDATE            | SBP | <!----> | 2020-07-14 07:37:00+00:00 |  90 |  23 |\n",
       "| JC528767  | 131301350964 | 61527033 | 2020-12-22 00:18:00+00:00 | 1 | ICU VS                   | SBP | <!----> | 2020-12-21 23:55:00+00:00 |  82 |  23 |\n",
       "| JC1410701 | 131291427619 | 55474669 | 2020-07-31 02:28:00+00:00 | 1 | ICU VS                   | SBP | <!----> | 2020-07-30 22:55:00+00:00 |  81 |  24 |\n",
       "| JC1297039 | 131313837219 | 68787304 | 2021-06-30 02:50:00+00:00 | 1 | IIC VS                   | SBP | <!----> | 2021-06-30 02:31:00+00:00 |  51 |  24 |\n",
       "| JC1576314 | 131290025678 | 54597342 | 2020-07-14 08:14:00+00:00 | 1 | Vitals                   | SBP | <!----> | 2020-07-14 07:50:00+00:00 |  77 |  24 |\n",
       "| JC2578588 | 131304383960 | 63377928 | 2021-02-13 03:20:00+00:00 | 1 | Vitals                   | SBP | <!----> | 2021-02-13 01:48:00+00:00 |  69 |  24 |\n",
       "| JC3090612 | 131304020844 | 63139826 | 2021-02-02 02:41:00+00:00 | 1 | M/S VS                   | SBP | <!----> | 2021-02-02 00:05:00+00:00 |  51 |  24 |\n",
       "| JC2017860 | 131312821040 | 68145557 | 2021-06-06 23:44:00+00:00 | 1 | Vitals                   | SBP | <!----> | 2021-06-06 23:42:00+00:00 |  91 |  24 |\n",
       "| JC1410701 | 131291427619 | 55474669 | 2020-07-31 02:28:00+00:00 | 1 | Vitals                   | SBP | <!----> | 2020-07-30 22:56:30+00:00 |  81 |  24 |\n",
       "| JC583000  | 131292157107 | 55929285 | 2020-06-30 03:31:00+00:00 | 1 | Vitals                   | SBP | <!----> | 2020-06-30 03:00:00+00:00 |  60 |  24 |\n",
       "| JC1232318 | 131303620333 | 62927199 | 2021-01-18 08:28:00+00:00 | 1 | Vitals                   | SBP | <!----> | 2021-01-18 06:30:00+00:00 | 234 | 202 |\n",
       "| JC3061530 | 131300905726 | 61251780 | 2020-12-13 06:08:00+00:00 | 1 | ICU VS                   | SBP | <!----> | 2020-12-13 04:58:00+00:00 | 228 | 203 |\n",
       "| JC3061530 | 131300905726 | 61251780 | 2020-12-13 06:08:00+00:00 | 1 | Vitals                   | SBP | <!----> | 2020-12-13 04:59:07+00:00 | 228 | 203 |\n",
       "| JC1740030 | 131303621472 | 62927606 | 2021-02-16 06:55:00+00:00 | 1 | Vitals                   | SBP | <!----> | 2021-02-16 06:25:00+00:00 | 221 | 204 |\n",
       "| JC600598  | 131311157085 | 67155613 | 2021-06-07 16:15:00+00:00 | 1 | DATA VALIDATE            | SBP | <!----> | 2021-06-07 14:15:00+00:00 | 264 | 219 |\n",
       "\n"
      ],
      "text/plain": [
       "   anon_id   pat_enc_csn_id_coded inpatient_data_id_coded\n",
       "1  JC792464  131288108145         53423753               \n",
       "2  JC902851  131288908250         53892935               \n",
       "3  JC3065257 131306195600         64517773               \n",
       "4  JC580867  131298050106         59534723               \n",
       "5  JC589511  131314440717         69168292               \n",
       "6  JC1636009 131315774179         69995647               \n",
       "7  JC1182263 131296289673         58456217               \n",
       "8  JC2975264 131291139699         55294983               \n",
       "9  JC2972956 131301643291         61707780               \n",
       "10 JC3235566 131318623436         71828390               \n",
       "11 JC1751933 131288449551         53604762               \n",
       "12 JC2708254 131298598985         59868714               \n",
       "13 JC2744196 131290893139         55141122               \n",
       "14 JC2754213 131287908406         53300696               \n",
       "15 JC2754213 131287908406         53300696               \n",
       "16 JC3013899 131295633821         58054477               \n",
       "17 JC3213765 131314394445         69136238               \n",
       "18 JC2578588 131304383960         63377928               \n",
       "19 JC861398  131299607206         60466449               \n",
       "20 JC1810070 131319602419         72441688               \n",
       "21 JC1297039 131313837219         68787304               \n",
       "22 JC3225015 131318667630         71855524               \n",
       "23 JC528767  131301350964         61527033               \n",
       "24 JC1576314 131290025678         54597342               \n",
       "25 JC2578588 131304383960         63377928               \n",
       "26 JC1272090 131311723977         67461706               \n",
       "27 JC2554541 131303936999         63085778               \n",
       "28 JC3255453 131310578506         66797027               \n",
       "29 JC1177996 131298908076         60039720               \n",
       "30 JC3219873 131318218358         71574134               \n",
       "31 JC2048106 131290668018         55000120               \n",
       "32 JC1402143 131312791639         68127567               \n",
       "33 JC1107379 131318747118         71903739               \n",
       "34 JC2690491 131304901114         63711374               \n",
       "35 JC1411002 131313744359         68728360               \n",
       "36 JC575634  131291647049         55608074               \n",
       "37 JC1489573 131300035275         60724377               \n",
       "38 JC1576314 131290025678         54597342               \n",
       "39 JC528767  131301350964         61527033               \n",
       "40 JC1410701 131291427619         55474669               \n",
       "41 JC1297039 131313837219         68787304               \n",
       "42 JC1576314 131290025678         54597342               \n",
       "43 JC2578588 131304383960         63377928               \n",
       "44 JC3090612 131304020844         63139826               \n",
       "45 JC2017860 131312821040         68145557               \n",
       "46 JC1410701 131291427619         55474669               \n",
       "47 JC583000  131292157107         55929285               \n",
       "48 JC1232318 131303620333         62927199               \n",
       "49 JC3061530 131300905726         61251780               \n",
       "50 JC3061530 131300905726         61251780               \n",
       "51 JC1740030 131303621472         62927606               \n",
       "52 JC600598  131311157085         67155613               \n",
       "   admit_time                label template                 features units\n",
       "1  2020-05-08 02:43:00+00:00 1     Vitals                   SBP           \n",
       "2  2020-05-31 02:28:00+00:00 0     Vitals                   SBP           \n",
       "3  2021-04-05 01:18:00+00:00 0     Vitals                   SBP           \n",
       "4  2020-10-23 07:00:00+00:00 0     Vitals From Sheet        SBP           \n",
       "5  2021-08-09 23:45:00+00:00 0     Vitals                   SBP           \n",
       "6  2021-09-12 06:56:00+00:00 0     Vitals                   SBP           \n",
       "7  2020-10-27 19:34:00+00:00 0     ICU VS                   SBP           \n",
       "8  2020-06-19 12:20:00+00:00 0     Vitals                   SBP           \n",
       "9  2021-02-09 07:03:00+00:00 1     Vitals                   SBP           \n",
       "10 2021-09-14 01:59:00+00:00 0     Vitals                   SBP           \n",
       "11 2020-05-28 13:23:00+00:00 1     Vitals                   SBP           \n",
       "12 2020-11-07 03:49:00+00:00 1     Blood Administration     SBP           \n",
       "13 2020-06-30 03:58:00+00:00 0     Vitals                   SBP           \n",
       "14 2020-05-04 03:53:00+00:00 1     ICU VS                   SBP           \n",
       "15 2020-05-04 03:53:00+00:00 1     Vitals                   SBP           \n",
       "16 2020-09-04 19:47:00+00:00 1     Vitals                   SBP           \n",
       "17 2021-06-20 12:50:00+00:00 1     ICU VS                   SBP           \n",
       "18 2021-02-13 03:20:00+00:00 1     Hemodynamic Measurements SBP           \n",
       "19 2020-11-16 07:56:00+00:00 1     Vitals                   SBP           \n",
       "20 2021-09-27 02:56:00+00:00 1     Vitals                   SBP           \n",
       "21 2021-06-30 02:50:00+00:00 1     IIC VS                   SBP           \n",
       "22 2021-09-04 19:50:00+00:00 1     DATA VALIDATE            SBP           \n",
       "23 2020-12-22 00:18:00+00:00 1     ICU VS                   SBP           \n",
       "24 2020-07-14 08:14:00+00:00 1     DATA VALIDATE            SBP           \n",
       "25 2021-02-13 03:20:00+00:00 1     Hemodynamic Measurements SBP           \n",
       "26 2021-05-26 08:19:00+00:00 0     DATA VALIDATE            SBP           \n",
       "27 2021-02-25 00:57:00+00:00 0     Vitals                   SBP           \n",
       "28 2021-05-23 04:06:00+00:00 1     Vitals                   SBP           \n",
       "29 2020-11-12 04:31:00+00:00 0     Vitals                   SBP           \n",
       "30 2021-09-14 17:02:00+00:00 1     Vitals                   SBP           \n",
       "31 2020-06-26 23:19:00+00:00 1     Vitals                   SBP           \n",
       "32 2021-05-18 06:39:00+00:00 1     Vitals                   SBP           \n",
       "33 2021-09-13 04:48:00+00:00 1     Blood Administration     SBP           \n",
       "34 2021-02-16 16:14:00+00:00 1     Vitals                   SBP           \n",
       "35 2021-07-17 02:16:00+00:00 0     Vitals                   SBP           \n",
       "36 2020-08-02 19:07:00+00:00 1     Vitals                   SBP           \n",
       "37 2020-12-08 00:38:00+00:00 1     DATA VALIDATE            SBP           \n",
       "38 2020-07-14 08:14:00+00:00 1     DATA VALIDATE            SBP           \n",
       "39 2020-12-22 00:18:00+00:00 1     ICU VS                   SBP           \n",
       "40 2020-07-31 02:28:00+00:00 1     ICU VS                   SBP           \n",
       "41 2021-06-30 02:50:00+00:00 1     IIC VS                   SBP           \n",
       "42 2020-07-14 08:14:00+00:00 1     Vitals                   SBP           \n",
       "43 2021-02-13 03:20:00+00:00 1     Vitals                   SBP           \n",
       "44 2021-02-02 02:41:00+00:00 1     M/S VS                   SBP           \n",
       "45 2021-06-06 23:44:00+00:00 1     Vitals                   SBP           \n",
       "46 2020-07-31 02:28:00+00:00 1     Vitals                   SBP           \n",
       "47 2020-06-30 03:31:00+00:00 1     Vitals                   SBP           \n",
       "48 2021-01-18 08:28:00+00:00 1     Vitals                   SBP           \n",
       "49 2020-12-13 06:08:00+00:00 1     ICU VS                   SBP           \n",
       "50 2020-12-13 06:08:00+00:00 1     Vitals                   SBP           \n",
       "51 2021-02-16 06:55:00+00:00 1     Vitals                   SBP           \n",
       "52 2021-06-07 16:15:00+00:00 1     DATA VALIDATE            SBP           \n",
       "   recorded_time             num_value1 num_value2\n",
       "1  2020-05-07 23:44:14+00:00 124          4       \n",
       "2  2020-05-31 01:08:00+00:00 151          4       \n",
       "3  2021-04-04 22:06:00+00:00 135          6       \n",
       "4  2020-10-23 02:09:00+00:00 130          7       \n",
       "5  2021-08-09 21:00:00+00:00 125          7       \n",
       "6  2021-09-12 06:08:00+00:00 173          8       \n",
       "7  2020-10-27 16:45:00+00:00 178         11       \n",
       "8  2020-06-19 04:45:00+00:00 132         11       \n",
       "9  2021-02-09 01:16:00+00:00  46         12       \n",
       "10 2021-09-13 21:35:00+00:00 146         12       \n",
       "11 2020-05-28 10:30:00+00:00 147         13       \n",
       "12 2020-11-07 00:08:00+00:00  73         14       \n",
       "13 2020-06-30 01:25:00+00:00  95         14       \n",
       "14 2020-05-04 02:40:00+00:00  62         15       \n",
       "15 2020-05-04 02:41:49+00:00  62         15       \n",
       "16 2020-09-04 18:10:00+00:00  42         16       \n",
       "17 2021-06-20 11:40:00+00:00  57         17       \n",
       "18 2021-02-13 02:56:55+00:00  73         17       \n",
       "19 2020-11-16 06:17:00+00:00  49         17       \n",
       "20 2021-09-27 00:55:00+00:00  81         18       \n",
       "21 2021-06-30 02:35:00+00:00  95         19       \n",
       "22 2021-09-04 17:45:00+00:00  91         20       \n",
       "23 2020-12-21 22:15:00+00:00  61         20       \n",
       "24 2020-07-14 07:45:00+00:00  79         20       \n",
       "25 2021-02-13 02:53:22+00:00  69         20       \n",
       "26 2021-05-26 07:45:00+00:00  89         20       \n",
       "27 2021-02-24 23:27:00+00:00 106         21       \n",
       "28 2021-05-23 02:20:00+00:00 169         21       \n",
       "29 2020-11-12 00:03:00+00:00  92         21       \n",
       "30 2021-09-14 14:30:00+00:00  84         21       \n",
       "31 2020-06-26 19:26:00+00:00 140         22       \n",
       "32 2021-05-18 04:34:00+00:00  61         22       \n",
       "33 2021-09-13 03:41:00+00:00  92         23       \n",
       "34 2021-02-16 15:10:00+00:00  30         23       \n",
       "35 2021-07-17 00:40:00+00:00  57         23       \n",
       "36 2020-08-02 17:13:00+00:00  69         23       \n",
       "37 2020-12-07 18:20:00+00:00  74         23       \n",
       "38 2020-07-14 07:37:00+00:00  90         23       \n",
       "39 2020-12-21 23:55:00+00:00  82         23       \n",
       "40 2020-07-30 22:55:00+00:00  81         24       \n",
       "41 2021-06-30 02:31:00+00:00  51         24       \n",
       "42 2020-07-14 07:50:00+00:00  77         24       \n",
       "43 2021-02-13 01:48:00+00:00  69         24       \n",
       "44 2021-02-02 00:05:00+00:00  51         24       \n",
       "45 2021-06-06 23:42:00+00:00  91         24       \n",
       "46 2020-07-30 22:56:30+00:00  81         24       \n",
       "47 2020-06-30 03:00:00+00:00  60         24       \n",
       "48 2021-01-18 06:30:00+00:00 234        202       \n",
       "49 2020-12-13 04:58:00+00:00 228        203       \n",
       "50 2020-12-13 04:59:07+00:00 228        203       \n",
       "51 2021-02-16 06:25:00+00:00 221        204       \n",
       "52 2021-06-07 14:15:00+00:00 264        219       "
      ]
     },
     "metadata": {},
     "output_type": "display_data"
    }
   ],
   "source": [
    "# check DBP (num_value2). Note: BP always have 2 values\n",
    "nrow(vitals %>% filter(features == \"SBP\" & is.na(num_value1) & !is.na(num_value2)))\n",
    "nrow(vitals %>% filter(features == \"SBP\" & is.na(num_value2) & !is.na(num_value1)))\n",
    "\n",
    "# display some extrem values of DBP\n",
    "options(repr.matrix.max.rows=150, repr.matrix.max.cols=20)\n",
    "vitals %>% filter(features == 'SBP' & (num_value2 > 200 | num_value2 < 25)) %>% arrange(num_value2)"
   ]
  },
  {
   "cell_type": "code",
   "execution_count": 19,
   "metadata": {},
   "outputs": [
    {
     "data": {
      "text/plain": [
       "   Min. 1st Qu.  Median    Mean 3rd Qu.    Max.    NA's \n",
       "   4.00   65.00   76.00   76.74   87.00  219.00  233414 "
      ]
     },
     "metadata": {},
     "output_type": "display_data"
    },
    {
     "data": {
      "text/html": [
       "5"
      ],
      "text/latex": [
       "5"
      ],
      "text/markdown": [
       "5"
      ],
      "text/plain": [
       "[1] 5"
      ]
     },
     "metadata": {},
     "output_type": "display_data"
    },
    {
     "data": {
      "text/html": [
       "13"
      ],
      "text/latex": [
       "13"
      ],
      "text/markdown": [
       "13"
      ],
      "text/plain": [
       "[1] 13"
      ]
     },
     "metadata": {},
     "output_type": "display_data"
    },
    {
     "data": {
      "image/png": "[encoded data removed]",
      "text/plain": [
       "Plot with title “Histogram of vitals[vitals$num_value2 > 150 & vitals$num_value2 < 200, ]$num_value2”"
      ]
     },
     "metadata": {
      "image/png": {
       "height": 420,
       "width": 420
      }
     },
     "output_type": "display_data"
    },
    {
     "data": {
      "image/png": "[encoded data removed]",
      "text/plain": [
       "Plot with title “Histogram of vitals[vitals$num_value2 < 30, ]$num_value2”"
      ]
     },
     "metadata": {
      "image/png": {
       "height": 420,
       "width": 420
      }
     },
     "output_type": "display_data"
    }
   ],
   "source": [
    "# again, DBP value is num_value2\n",
    "summary(vitals$num_value2)\n",
    "nrow(vitals %>% filter(num_value2 > 200))\n",
    "nrow(vitals %>% filter(num_value2 < 15))\n",
    "\n",
    "hist(vitals[vitals$num_value2 > 150 & vitals$num_value2 < 200,]$num_value2, breaks =50)\n",
    "hist(vitals[vitals$num_value2 < 30,]$num_value2, breaks = 30)"
   ]
  },
  {
   "cell_type": "markdown",
   "metadata": {},
   "source": [
    "### Clean DBP \n",
    "- note: rows that are the same except for values: to be taken once --> will do together with other features, take averages!\n",
    "- consider erroneous values for DBP if SBP > 10*DBP, and if either SBP or DBP = 0\n",
    "- there's one patient who has duplicated recorded time"
   ]
  },
  {
   "cell_type": "code",
   "execution_count": 20,
   "metadata": {},
   "outputs": [
    {
     "data": {
      "text/html": [
       "85034"
      ],
      "text/latex": [
       "85034"
      ],
      "text/markdown": [
       "85034"
      ],
      "text/plain": [
       "[1] 85034"
      ]
     },
     "metadata": {},
     "output_type": "display_data"
    },
    {
     "data": {
      "text/plain": [
       "   Min. 1st Qu.  Median    Mean 3rd Qu.    Max. \n",
       "  12.00   65.00   76.00   76.64   87.00  219.00 "
      ]
     },
     "metadata": {},
     "output_type": "display_data"
    },
    {
     "data": {
      "image/png": "[encoded data removed]",
      "text/plain": [
       "Plot with title “Histogram of DBP$num_value2”"
      ]
     },
     "metadata": {
      "image/png": {
       "height": 420,
       "width": 420
      }
     },
     "output_type": "display_data"
    }
   ],
   "source": [
    "# remove erroneous values for DBP if SBP > 10*DBP, and either SBP or DBP = 0\n",
    "# will bind rows later --> so ok to filter instead of replacing by NA\n",
    "DBP <- vitals %>% filter(features == \"SBP\" & num_value1*num_value2 !=0) %>% \n",
    "                    mutate(num_value2 = ifelse(num_value1 > 10*num_value2, NA, num_value2)) %>%\n",
    "                    drop_na(num_value2) \n",
    "nrow(DBP)\n",
    "summary(DBP$num_value2)\n",
    "hist(DBP$num_value2, col = \"dodgerblue\", breaks = 125)"
   ]
  },
  {
   "cell_type": "code",
   "execution_count": 21,
   "metadata": {},
   "outputs": [
    {
     "data": {
      "text/html": [
       "<table class=\"dataframe\">\n",
       "<caption>A data.frame: 11 × 11</caption>\n",
       "<thead>\n",
       "\t<tr><th scope=col>anon_id</th><th scope=col>pat_enc_csn_id_coded</th><th scope=col>inpatient_data_id_coded</th><th scope=col>admit_time</th><th scope=col>label</th><th scope=col>template</th><th scope=col>features</th><th scope=col>units</th><th scope=col>recorded_time</th><th scope=col>num_value1</th><th scope=col>num_value2</th></tr>\n",
       "\t<tr><th scope=col>&lt;chr&gt;</th><th scope=col>&lt;dbl&gt;</th><th scope=col>&lt;int&gt;</th><th scope=col>&lt;chr&gt;</th><th scope=col>&lt;int&gt;</th><th scope=col>&lt;chr&gt;</th><th scope=col>&lt;chr&gt;</th><th scope=col>&lt;chr&gt;</th><th scope=col>&lt;chr&gt;</th><th scope=col>&lt;dbl&gt;</th><th scope=col>&lt;dbl&gt;</th></tr>\n",
       "</thead>\n",
       "<tbody>\n",
       "\t<tr><td>JC2972956</td><td>131301643291</td><td>61707780</td><td>2021-02-09 07:03:00+00:00</td><td>1</td><td>Vitals                  </td><td>SBP</td><td></td><td>2021-02-09 01:16:00+00:00</td><td>46</td><td>12</td></tr>\n",
       "\t<tr><td>JC2708254</td><td>131298598985</td><td>59868714</td><td>2020-11-07 03:49:00+00:00</td><td>1</td><td>Blood Administration    </td><td>SBP</td><td></td><td>2020-11-07 00:08:00+00:00</td><td>73</td><td>14</td></tr>\n",
       "\t<tr><td>JC2744196</td><td>131290893139</td><td>55141122</td><td>2020-06-30 03:58:00+00:00</td><td>0</td><td>Vitals                  </td><td>SBP</td><td></td><td>2020-06-30 01:25:00+00:00</td><td>95</td><td>14</td></tr>\n",
       "\t<tr><td>JC2754213</td><td>131287908406</td><td>53300696</td><td>2020-05-04 03:53:00+00:00</td><td>1</td><td>ICU VS                  </td><td>SBP</td><td></td><td>2020-05-04 02:40:00+00:00</td><td>62</td><td>15</td></tr>\n",
       "\t<tr><td>JC2754213</td><td>131287908406</td><td>53300696</td><td>2020-05-04 03:53:00+00:00</td><td>1</td><td>Vitals                  </td><td>SBP</td><td></td><td>2020-05-04 02:41:49+00:00</td><td>62</td><td>15</td></tr>\n",
       "\t<tr><td>JC3013899</td><td>131295633821</td><td>58054477</td><td>2020-09-04 19:47:00+00:00</td><td>1</td><td>Vitals                  </td><td>SBP</td><td></td><td>2020-09-04 18:10:00+00:00</td><td>42</td><td>16</td></tr>\n",
       "\t<tr><td>JC3213765</td><td>131314394445</td><td>69136238</td><td>2021-06-20 12:50:00+00:00</td><td>1</td><td>ICU VS                  </td><td>SBP</td><td></td><td>2021-06-20 11:40:00+00:00</td><td>57</td><td>17</td></tr>\n",
       "\t<tr><td>JC2578588</td><td>131304383960</td><td>63377928</td><td>2021-02-13 03:20:00+00:00</td><td>1</td><td>Hemodynamic Measurements</td><td>SBP</td><td></td><td>2021-02-13 02:56:55+00:00</td><td>73</td><td>17</td></tr>\n",
       "\t<tr><td>JC861398 </td><td>131299607206</td><td>60466449</td><td>2020-11-16 07:56:00+00:00</td><td>1</td><td>Vitals                  </td><td>SBP</td><td></td><td>2020-11-16 06:17:00+00:00</td><td>49</td><td>17</td></tr>\n",
       "\t<tr><td>JC1810070</td><td>131319602419</td><td>72441688</td><td>2021-09-27 02:56:00+00:00</td><td>1</td><td>Vitals                  </td><td>SBP</td><td></td><td>2021-09-27 00:55:00+00:00</td><td>81</td><td>18</td></tr>\n",
       "\t<tr><td>JC1297039</td><td>131313837219</td><td>68787304</td><td>2021-06-30 02:50:00+00:00</td><td>1</td><td>IIC VS                  </td><td>SBP</td><td></td><td>2021-06-30 02:35:00+00:00</td><td>95</td><td>19</td></tr>\n",
       "</tbody>\n",
       "</table>\n"
      ],
      "text/latex": [
       "A data.frame: 11 × 11\n",
       "\\begin{tabular}{lllllllllll}\n",
       " anon\\_id & pat\\_enc\\_csn\\_id\\_coded & inpatient\\_data\\_id\\_coded & admit\\_time & label & template & features & units & recorded\\_time & num\\_value1 & num\\_value2\\\\\n",
       " <chr> & <dbl> & <int> & <chr> & <int> & <chr> & <chr> & <chr> & <chr> & <dbl> & <dbl>\\\\\n",
       "\\hline\n",
       "\t JC2972956 & 131301643291 & 61707780 & 2021-02-09 07:03:00+00:00 & 1 & Vitals                   & SBP &  & 2021-02-09 01:16:00+00:00 & 46 & 12\\\\\n",
       "\t JC2708254 & 131298598985 & 59868714 & 2020-11-07 03:49:00+00:00 & 1 & Blood Administration     & SBP &  & 2020-11-07 00:08:00+00:00 & 73 & 14\\\\\n",
       "\t JC2744196 & 131290893139 & 55141122 & 2020-06-30 03:58:00+00:00 & 0 & Vitals                   & SBP &  & 2020-06-30 01:25:00+00:00 & 95 & 14\\\\\n",
       "\t JC2754213 & 131287908406 & 53300696 & 2020-05-04 03:53:00+00:00 & 1 & ICU VS                   & SBP &  & 2020-05-04 02:40:00+00:00 & 62 & 15\\\\\n",
       "\t JC2754213 & 131287908406 & 53300696 & 2020-05-04 03:53:00+00:00 & 1 & Vitals                   & SBP &  & 2020-05-04 02:41:49+00:00 & 62 & 15\\\\\n",
       "\t JC3013899 & 131295633821 & 58054477 & 2020-09-04 19:47:00+00:00 & 1 & Vitals                   & SBP &  & 2020-09-04 18:10:00+00:00 & 42 & 16\\\\\n",
       "\t JC3213765 & 131314394445 & 69136238 & 2021-06-20 12:50:00+00:00 & 1 & ICU VS                   & SBP &  & 2021-06-20 11:40:00+00:00 & 57 & 17\\\\\n",
       "\t JC2578588 & 131304383960 & 63377928 & 2021-02-13 03:20:00+00:00 & 1 & Hemodynamic Measurements & SBP &  & 2021-02-13 02:56:55+00:00 & 73 & 17\\\\\n",
       "\t JC861398  & 131299607206 & 60466449 & 2020-11-16 07:56:00+00:00 & 1 & Vitals                   & SBP &  & 2020-11-16 06:17:00+00:00 & 49 & 17\\\\\n",
       "\t JC1810070 & 131319602419 & 72441688 & 2021-09-27 02:56:00+00:00 & 1 & Vitals                   & SBP &  & 2021-09-27 00:55:00+00:00 & 81 & 18\\\\\n",
       "\t JC1297039 & 131313837219 & 68787304 & 2021-06-30 02:50:00+00:00 & 1 & IIC VS                   & SBP &  & 2021-06-30 02:35:00+00:00 & 95 & 19\\\\\n",
       "\\end{tabular}\n"
      ],
      "text/markdown": [
       "\n",
       "A data.frame: 11 × 11\n",
       "\n",
       "| anon_id &lt;chr&gt; | pat_enc_csn_id_coded &lt;dbl&gt; | inpatient_data_id_coded &lt;int&gt; | admit_time &lt;chr&gt; | label &lt;int&gt; | template &lt;chr&gt; | features &lt;chr&gt; | units &lt;chr&gt; | recorded_time &lt;chr&gt; | num_value1 &lt;dbl&gt; | num_value2 &lt;dbl&gt; |\n",
       "|---|---|---|---|---|---|---|---|---|---|---|\n",
       "| JC2972956 | 131301643291 | 61707780 | 2021-02-09 07:03:00+00:00 | 1 | Vitals                   | SBP | <!----> | 2021-02-09 01:16:00+00:00 | 46 | 12 |\n",
       "| JC2708254 | 131298598985 | 59868714 | 2020-11-07 03:49:00+00:00 | 1 | Blood Administration     | SBP | <!----> | 2020-11-07 00:08:00+00:00 | 73 | 14 |\n",
       "| JC2744196 | 131290893139 | 55141122 | 2020-06-30 03:58:00+00:00 | 0 | Vitals                   | SBP | <!----> | 2020-06-30 01:25:00+00:00 | 95 | 14 |\n",
       "| JC2754213 | 131287908406 | 53300696 | 2020-05-04 03:53:00+00:00 | 1 | ICU VS                   | SBP | <!----> | 2020-05-04 02:40:00+00:00 | 62 | 15 |\n",
       "| JC2754213 | 131287908406 | 53300696 | 2020-05-04 03:53:00+00:00 | 1 | Vitals                   | SBP | <!----> | 2020-05-04 02:41:49+00:00 | 62 | 15 |\n",
       "| JC3013899 | 131295633821 | 58054477 | 2020-09-04 19:47:00+00:00 | 1 | Vitals                   | SBP | <!----> | 2020-09-04 18:10:00+00:00 | 42 | 16 |\n",
       "| JC3213765 | 131314394445 | 69136238 | 2021-06-20 12:50:00+00:00 | 1 | ICU VS                   | SBP | <!----> | 2021-06-20 11:40:00+00:00 | 57 | 17 |\n",
       "| JC2578588 | 131304383960 | 63377928 | 2021-02-13 03:20:00+00:00 | 1 | Hemodynamic Measurements | SBP | <!----> | 2021-02-13 02:56:55+00:00 | 73 | 17 |\n",
       "| JC861398  | 131299607206 | 60466449 | 2020-11-16 07:56:00+00:00 | 1 | Vitals                   | SBP | <!----> | 2020-11-16 06:17:00+00:00 | 49 | 17 |\n",
       "| JC1810070 | 131319602419 | 72441688 | 2021-09-27 02:56:00+00:00 | 1 | Vitals                   | SBP | <!----> | 2021-09-27 00:55:00+00:00 | 81 | 18 |\n",
       "| JC1297039 | 131313837219 | 68787304 | 2021-06-30 02:50:00+00:00 | 1 | IIC VS                   | SBP | <!----> | 2021-06-30 02:35:00+00:00 | 95 | 19 |\n",
       "\n"
      ],
      "text/plain": [
       "   anon_id   pat_enc_csn_id_coded inpatient_data_id_coded\n",
       "1  JC2972956 131301643291         61707780               \n",
       "2  JC2708254 131298598985         59868714               \n",
       "3  JC2744196 131290893139         55141122               \n",
       "4  JC2754213 131287908406         53300696               \n",
       "5  JC2754213 131287908406         53300696               \n",
       "6  JC3013899 131295633821         58054477               \n",
       "7  JC3213765 131314394445         69136238               \n",
       "8  JC2578588 131304383960         63377928               \n",
       "9  JC861398  131299607206         60466449               \n",
       "10 JC1810070 131319602419         72441688               \n",
       "11 JC1297039 131313837219         68787304               \n",
       "   admit_time                label template                 features units\n",
       "1  2021-02-09 07:03:00+00:00 1     Vitals                   SBP           \n",
       "2  2020-11-07 03:49:00+00:00 1     Blood Administration     SBP           \n",
       "3  2020-06-30 03:58:00+00:00 0     Vitals                   SBP           \n",
       "4  2020-05-04 03:53:00+00:00 1     ICU VS                   SBP           \n",
       "5  2020-05-04 03:53:00+00:00 1     Vitals                   SBP           \n",
       "6  2020-09-04 19:47:00+00:00 1     Vitals                   SBP           \n",
       "7  2021-06-20 12:50:00+00:00 1     ICU VS                   SBP           \n",
       "8  2021-02-13 03:20:00+00:00 1     Hemodynamic Measurements SBP           \n",
       "9  2020-11-16 07:56:00+00:00 1     Vitals                   SBP           \n",
       "10 2021-09-27 02:56:00+00:00 1     Vitals                   SBP           \n",
       "11 2021-06-30 02:50:00+00:00 1     IIC VS                   SBP           \n",
       "   recorded_time             num_value1 num_value2\n",
       "1  2021-02-09 01:16:00+00:00 46         12        \n",
       "2  2020-11-07 00:08:00+00:00 73         14        \n",
       "3  2020-06-30 01:25:00+00:00 95         14        \n",
       "4  2020-05-04 02:40:00+00:00 62         15        \n",
       "5  2020-05-04 02:41:49+00:00 62         15        \n",
       "6  2020-09-04 18:10:00+00:00 42         16        \n",
       "7  2021-06-20 11:40:00+00:00 57         17        \n",
       "8  2021-02-13 02:56:55+00:00 73         17        \n",
       "9  2020-11-16 06:17:00+00:00 49         17        \n",
       "10 2021-09-27 00:55:00+00:00 81         18        \n",
       "11 2021-06-30 02:35:00+00:00 95         19        "
      ]
     },
     "metadata": {},
     "output_type": "display_data"
    }
   ],
   "source": [
    "# check DBP and SBP\n",
    "DBP %>% filter(num_value2 <20) %>% arrange(num_value2)"
   ]
  },
  {
   "cell_type": "code",
   "execution_count": 22,
   "metadata": {},
   "outputs": [
    {
     "data": {
      "text/html": [
       "85034"
      ],
      "text/latex": [
       "85034"
      ],
      "text/markdown": [
       "85034"
      ],
      "text/plain": [
       "[1] 85034"
      ]
     },
     "metadata": {},
     "output_type": "display_data"
    },
    {
     "data": {
      "text/html": [
       "<table class=\"dataframe\">\n",
       "<caption>A data.frame: 0 × 10</caption>\n",
       "<thead>\n",
       "\t<tr><th scope=col>anon_id</th><th scope=col>pat_enc_csn_id_coded</th><th scope=col>inpatient_data_id_coded</th><th scope=col>admit_time</th><th scope=col>label</th><th scope=col>template</th><th scope=col>features</th><th scope=col>units</th><th scope=col>recorded_time</th><th scope=col>values</th></tr>\n",
       "\t<tr><th scope=col>&lt;chr&gt;</th><th scope=col>&lt;dbl&gt;</th><th scope=col>&lt;int&gt;</th><th scope=col>&lt;chr&gt;</th><th scope=col>&lt;int&gt;</th><th scope=col>&lt;chr&gt;</th><th scope=col>&lt;chr&gt;</th><th scope=col>&lt;chr&gt;</th><th scope=col>&lt;chr&gt;</th><th scope=col>&lt;dbl&gt;</th></tr>\n",
       "</thead>\n",
       "<tbody>\n",
       "</tbody>\n",
       "</table>\n"
      ],
      "text/latex": [
       "A data.frame: 0 × 10\n",
       "\\begin{tabular}{llllllllll}\n",
       " anon\\_id & pat\\_enc\\_csn\\_id\\_coded & inpatient\\_data\\_id\\_coded & admit\\_time & label & template & features & units & recorded\\_time & values\\\\\n",
       " <chr> & <dbl> & <int> & <chr> & <int> & <chr> & <chr> & <chr> & <chr> & <dbl>\\\\\n",
       "\\hline\n",
       "\\end{tabular}\n"
      ],
      "text/markdown": [
       "\n",
       "A data.frame: 0 × 10\n",
       "\n",
       "| anon_id &lt;chr&gt; | pat_enc_csn_id_coded &lt;dbl&gt; | inpatient_data_id_coded &lt;int&gt; | admit_time &lt;chr&gt; | label &lt;int&gt; | template &lt;chr&gt; | features &lt;chr&gt; | units &lt;chr&gt; | recorded_time &lt;chr&gt; | values &lt;dbl&gt; |\n",
       "|---|---|---|---|---|---|---|---|---|---|\n",
       "\n"
      ],
      "text/plain": [
       "     anon_id pat_enc_csn_id_coded inpatient_data_id_coded admit_time label\n",
       "     template features units recorded_time values"
      ]
     },
     "metadata": {},
     "output_type": "display_data"
    },
    {
     "data": {
      "text/html": [
       "<table class=\"dataframe\">\n",
       "<caption>A grouped_df: 0 × 10</caption>\n",
       "<thead>\n",
       "\t<tr><th scope=col>anon_id</th><th scope=col>pat_enc_csn_id_coded</th><th scope=col>inpatient_data_id_coded</th><th scope=col>admit_time</th><th scope=col>label</th><th scope=col>template</th><th scope=col>features</th><th scope=col>units</th><th scope=col>recorded_time</th><th scope=col>values</th></tr>\n",
       "\t<tr><th scope=col>&lt;chr&gt;</th><th scope=col>&lt;dbl&gt;</th><th scope=col>&lt;int&gt;</th><th scope=col>&lt;chr&gt;</th><th scope=col>&lt;int&gt;</th><th scope=col>&lt;chr&gt;</th><th scope=col>&lt;chr&gt;</th><th scope=col>&lt;chr&gt;</th><th scope=col>&lt;chr&gt;</th><th scope=col>&lt;dbl&gt;</th></tr>\n",
       "</thead>\n",
       "<tbody>\n",
       "</tbody>\n",
       "</table>\n"
      ],
      "text/latex": [
       "A grouped\\_df: 0 × 10\n",
       "\\begin{tabular}{llllllllll}\n",
       " anon\\_id & pat\\_enc\\_csn\\_id\\_coded & inpatient\\_data\\_id\\_coded & admit\\_time & label & template & features & units & recorded\\_time & values\\\\\n",
       " <chr> & <dbl> & <int> & <chr> & <int> & <chr> & <chr> & <chr> & <chr> & <dbl>\\\\\n",
       "\\hline\n",
       "\\end{tabular}\n"
      ],
      "text/markdown": [
       "\n",
       "A grouped_df: 0 × 10\n",
       "\n",
       "| anon_id &lt;chr&gt; | pat_enc_csn_id_coded &lt;dbl&gt; | inpatient_data_id_coded &lt;int&gt; | admit_time &lt;chr&gt; | label &lt;int&gt; | template &lt;chr&gt; | features &lt;chr&gt; | units &lt;chr&gt; | recorded_time &lt;chr&gt; | values &lt;dbl&gt; |\n",
       "|---|---|---|---|---|---|---|---|---|---|\n",
       "\n"
      ],
      "text/plain": [
       "     anon_id pat_enc_csn_id_coded inpatient_data_id_coded admit_time label\n",
       "     template features units recorded_time values"
      ]
     },
     "metadata": {},
     "output_type": "display_data"
    }
   ],
   "source": [
    "# change variable name and drop SBP\n",
    "DBP <- DBP %>% mutate(features = \"DBP\") %>% select(-c(num_value1)) %>%\n",
    "                rename(values = num_value2) %>% distinct()\n",
    "\n",
    "# duplicated row for all columns\n",
    "nrow(DBP %>% distinct())\n",
    "DBP[duplicated(DBP), ]\n",
    "\n",
    "# rows that are the same except for values: to be taken once --> will do together with other features, take average!\n",
    "DBP %>% group_by_at(vars(-values)) %>% filter(n() > 1) "
   ]
  },
  {
   "cell_type": "code",
   "execution_count": 23,
   "metadata": {},
   "outputs": [
    {
     "data": {
      "text/html": [
       "<table class=\"dataframe\">\n",
       "<caption>A data.frame: 0 × 11</caption>\n",
       "<thead>\n",
       "\t<tr><th scope=col>anon_id</th><th scope=col>pat_enc_csn_id_coded</th><th scope=col>inpatient_data_id_coded</th><th scope=col>admit_time</th><th scope=col>label</th><th scope=col>template</th><th scope=col>features</th><th scope=col>units</th><th scope=col>recorded_time</th><th scope=col>num_value1</th><th scope=col>num_value2</th></tr>\n",
       "\t<tr><th scope=col>&lt;chr&gt;</th><th scope=col>&lt;dbl&gt;</th><th scope=col>&lt;int&gt;</th><th scope=col>&lt;chr&gt;</th><th scope=col>&lt;int&gt;</th><th scope=col>&lt;chr&gt;</th><th scope=col>&lt;chr&gt;</th><th scope=col>&lt;chr&gt;</th><th scope=col>&lt;chr&gt;</th><th scope=col>&lt;dbl&gt;</th><th scope=col>&lt;dbl&gt;</th></tr>\n",
       "</thead>\n",
       "<tbody>\n",
       "</tbody>\n",
       "</table>\n"
      ],
      "text/latex": [
       "A data.frame: 0 × 11\n",
       "\\begin{tabular}{lllllllllll}\n",
       " anon\\_id & pat\\_enc\\_csn\\_id\\_coded & inpatient\\_data\\_id\\_coded & admit\\_time & label & template & features & units & recorded\\_time & num\\_value1 & num\\_value2\\\\\n",
       " <chr> & <dbl> & <int> & <chr> & <int> & <chr> & <chr> & <chr> & <chr> & <dbl> & <dbl>\\\\\n",
       "\\hline\n",
       "\\end{tabular}\n"
      ],
      "text/markdown": [
       "\n",
       "A data.frame: 0 × 11\n",
       "\n",
       "| anon_id &lt;chr&gt; | pat_enc_csn_id_coded &lt;dbl&gt; | inpatient_data_id_coded &lt;int&gt; | admit_time &lt;chr&gt; | label &lt;int&gt; | template &lt;chr&gt; | features &lt;chr&gt; | units &lt;chr&gt; | recorded_time &lt;chr&gt; | num_value1 &lt;dbl&gt; | num_value2 &lt;dbl&gt; |\n",
       "|---|---|---|---|---|---|---|---|---|---|---|\n",
       "\n"
      ],
      "text/plain": [
       "     anon_id pat_enc_csn_id_coded inpatient_data_id_coded admit_time label\n",
       "     template features units recorded_time num_value1 num_value2"
      ]
     },
     "metadata": {},
     "output_type": "display_data"
    }
   ],
   "source": [
    "# check BP and other features, note that RR seems to be quite different, maybe take average is better\n",
    "vitals %>% filter(pat_enc_csn_id_coded == 131265716149, recorded_time == '2019-03-10 10:00:00+00:00') %>%\n",
    "        arrange(features)"
   ]
  },
  {
   "cell_type": "code",
   "execution_count": 24,
   "metadata": {},
   "outputs": [
    {
     "data": {
      "text/html": [
       "318503"
      ],
      "text/latex": [
       "318503"
      ],
      "text/markdown": [
       "318503"
      ],
      "text/plain": [
       "[1] 318503"
      ]
     },
     "metadata": {},
     "output_type": "display_data"
    },
    {
     "name": "stdout",
     "output_type": "stream",
     "text": [
      "[1] \"Pulse\"\n",
      "   Min. 1st Qu.  Median    Mean 3rd Qu.    Max.    NA's \n",
      "   0.00   73.00   87.00   88.78  102.00  262.00     186 \n",
      "[1] \"RR\"\n",
      "   Min. 1st Qu.  Median    Mean 3rd Qu.    Max.    NA's \n",
      "   0.00   16.00   18.00   19.73   22.00  120.00     198 \n"
     ]
    },
    {
     "data": {
      "image/png": "[encoded data removed]",
      "text/plain": [
       "Plot with title “Pulse”"
      ]
     },
     "metadata": {
      "image/png": {
       "height": 420,
       "width": 420
      }
     },
     "output_type": "display_data"
    },
    {
     "name": "stdout",
     "output_type": "stream",
     "text": [
      "[1] \"SBP\"\n",
      "   Min. 1st Qu.  Median    Mean 3rd Qu.    Max.    NA's \n",
      "   30.0   111.0   127.0   128.6   144.0   270.0     265 \n"
     ]
    },
    {
     "data": {
      "image/png": "[encoded data removed]",
      "text/plain": [
       "Plot with title “RR”"
      ]
     },
     "metadata": {
      "image/png": {
       "height": 420,
       "width": 420
      }
     },
     "output_type": "display_data"
    },
    {
     "name": "stdout",
     "output_type": "stream",
     "text": [
      "[1] \"Temp\"\n",
      "   Min. 1st Qu.  Median    Mean 3rd Qu.    Max.    NA's \n",
      "   2.50   36.80   96.80   68.99   98.20  106.00     294 \n"
     ]
    },
    {
     "data": {
      "image/png": "[encoded data removed]",
      "text/plain": [
       "Plot with title “SBP”"
      ]
     },
     "metadata": {
      "image/png": {
       "height": 420,
       "width": 420
      }
     },
     "output_type": "display_data"
    },
    {
     "data": {
      "image/png": "[encoded data removed]",
      "text/plain": [
       "Plot with title “Temp”"
      ]
     },
     "metadata": {
      "image/png": {
       "height": 420,
       "width": 420
      }
     },
     "output_type": "display_data"
    }
   ],
   "source": [
    "# this set, we look at num_value1 only, no DBP\n",
    "# keep only variable in the list of VS, all use num_value1\n",
    "vitals <- vitals %>% filter(features %in% fs_feats) %>%\n",
    "                        select(-c(num_value2)) %>% rename(values=num_value1) %>% distinct()\n",
    "\n",
    "# check for distributions of these\n",
    "nrow(vitals) # 801954 vs 801948\n",
    "for (f in fs_feats){\n",
    "    print(f)\n",
    "    df = vitals %>% select(features, values) %>%  filter(features==f)\n",
    "    val = df$values\n",
    "    print(summary(val))\n",
    "    hist(val, main = f, breaks = 100)\n",
    "}"
   ]
  },
  {
   "cell_type": "markdown",
   "metadata": {},
   "source": [
    "### Explore SBP, Pulse, RR"
   ]
  },
  {
   "cell_type": "code",
   "execution_count": 25,
   "metadata": {},
   "outputs": [
    {
     "data": {
      "text/html": [
       "1"
      ],
      "text/latex": [
       "1"
      ],
      "text/markdown": [
       "1"
      ],
      "text/plain": [
       "[1] 1"
      ]
     },
     "metadata": {},
     "output_type": "display_data"
    },
    {
     "data": {
      "text/html": [
       "<table class=\"dataframe\">\n",
       "<caption>A data.frame: 13 × 10</caption>\n",
       "<thead>\n",
       "\t<tr><th scope=col>anon_id</th><th scope=col>pat_enc_csn_id_coded</th><th scope=col>inpatient_data_id_coded</th><th scope=col>admit_time</th><th scope=col>label</th><th scope=col>template</th><th scope=col>features</th><th scope=col>units</th><th scope=col>recorded_time</th><th scope=col>values</th></tr>\n",
       "\t<tr><th scope=col>&lt;chr&gt;</th><th scope=col>&lt;dbl&gt;</th><th scope=col>&lt;int&gt;</th><th scope=col>&lt;chr&gt;</th><th scope=col>&lt;int&gt;</th><th scope=col>&lt;chr&gt;</th><th scope=col>&lt;chr&gt;</th><th scope=col>&lt;chr&gt;</th><th scope=col>&lt;chr&gt;</th><th scope=col>&lt;dbl&gt;</th></tr>\n",
       "</thead>\n",
       "<tbody>\n",
       "\t<tr><td>JC2690491</td><td>131304901114</td><td>63711374</td><td>2021-02-16 16:14:00+00:00</td><td>1</td><td>Vitals       </td><td>SBP</td><td></td><td>2021-02-16 15:10:00+00:00</td><td>30</td></tr>\n",
       "\t<tr><td>JC1663999</td><td>131291296700</td><td>55393578</td><td>2020-06-17 15:47:00+00:00</td><td>1</td><td>Vitals       </td><td>SBP</td><td></td><td>2020-06-17 14:39:19+00:00</td><td>37</td></tr>\n",
       "\t<tr><td>JC1410701</td><td>131291427619</td><td>55474669</td><td>2020-07-31 02:28:00+00:00</td><td>1</td><td>Vitals       </td><td>SBP</td><td></td><td>2020-07-30 23:01:01+00:00</td><td>39</td></tr>\n",
       "\t<tr><td>JC1807917</td><td>131299160281</td><td>60196143</td><td>2020-11-15 08:43:00+00:00</td><td>1</td><td>M/S VS       </td><td>SBP</td><td></td><td>2020-11-15 06:02:00+00:00</td><td>40</td></tr>\n",
       "\t<tr><td>JC783230 </td><td>131318004163</td><td>71439906</td><td>2021-09-02 19:16:00+00:00</td><td>1</td><td>ICU VS       </td><td>SBP</td><td></td><td>2021-09-02 18:15:00+00:00</td><td>41</td></tr>\n",
       "\t<tr><td>JC3013899</td><td>131295633821</td><td>58054477</td><td>2020-09-04 19:47:00+00:00</td><td>1</td><td>Vitals       </td><td>SBP</td><td></td><td>2020-09-04 18:10:00+00:00</td><td>42</td></tr>\n",
       "\t<tr><td>JC3038236</td><td>131298434781</td><td>59769878</td><td>2020-11-28 23:45:00+00:00</td><td>1</td><td>ICU VS       </td><td>SBP</td><td></td><td>2020-11-28 23:05:00+00:00</td><td>43</td></tr>\n",
       "\t<tr><td>JC1480810</td><td>131309041239</td><td>65794433</td><td>2021-03-16 20:14:00+00:00</td><td>1</td><td>Vitals       </td><td>SBP</td><td></td><td>2021-03-16 19:26:02+00:00</td><td>45</td></tr>\n",
       "\t<tr><td>JC2972956</td><td>131301643291</td><td>61707780</td><td>2021-02-09 07:03:00+00:00</td><td>1</td><td>Vitals       </td><td>SBP</td><td></td><td>2021-02-09 01:16:00+00:00</td><td>46</td></tr>\n",
       "\t<tr><td>JC1651882</td><td>131300713502</td><td>61139883</td><td>2020-11-23 09:28:00+00:00</td><td>0</td><td>Vitals       </td><td>SBP</td><td></td><td>2020-11-22 23:05:00+00:00</td><td>46</td></tr>\n",
       "\t<tr><td>JC1663999</td><td>131291296700</td><td>55393578</td><td>2020-06-17 15:47:00+00:00</td><td>1</td><td>Vitals       </td><td>SBP</td><td></td><td>2020-06-17 14:37:57+00:00</td><td>48</td></tr>\n",
       "\t<tr><td>JC631599 </td><td>131289551953</td><td>54299454</td><td>2020-05-16 14:11:00+00:00</td><td>1</td><td>DATA VALIDATE</td><td>SBP</td><td></td><td>2020-05-16 11:00:00+00:00</td><td>49</td></tr>\n",
       "\t<tr><td>JC861398 </td><td>131299607206</td><td>60466449</td><td>2020-11-16 07:56:00+00:00</td><td>1</td><td>Vitals       </td><td>SBP</td><td></td><td>2020-11-16 06:17:00+00:00</td><td>49</td></tr>\n",
       "</tbody>\n",
       "</table>\n"
      ],
      "text/latex": [
       "A data.frame: 13 × 10\n",
       "\\begin{tabular}{llllllllll}\n",
       " anon\\_id & pat\\_enc\\_csn\\_id\\_coded & inpatient\\_data\\_id\\_coded & admit\\_time & label & template & features & units & recorded\\_time & values\\\\\n",
       " <chr> & <dbl> & <int> & <chr> & <int> & <chr> & <chr> & <chr> & <chr> & <dbl>\\\\\n",
       "\\hline\n",
       "\t JC2690491 & 131304901114 & 63711374 & 2021-02-16 16:14:00+00:00 & 1 & Vitals        & SBP &  & 2021-02-16 15:10:00+00:00 & 30\\\\\n",
       "\t JC1663999 & 131291296700 & 55393578 & 2020-06-17 15:47:00+00:00 & 1 & Vitals        & SBP &  & 2020-06-17 14:39:19+00:00 & 37\\\\\n",
       "\t JC1410701 & 131291427619 & 55474669 & 2020-07-31 02:28:00+00:00 & 1 & Vitals        & SBP &  & 2020-07-30 23:01:01+00:00 & 39\\\\\n",
       "\t JC1807917 & 131299160281 & 60196143 & 2020-11-15 08:43:00+00:00 & 1 & M/S VS        & SBP &  & 2020-11-15 06:02:00+00:00 & 40\\\\\n",
       "\t JC783230  & 131318004163 & 71439906 & 2021-09-02 19:16:00+00:00 & 1 & ICU VS        & SBP &  & 2021-09-02 18:15:00+00:00 & 41\\\\\n",
       "\t JC3013899 & 131295633821 & 58054477 & 2020-09-04 19:47:00+00:00 & 1 & Vitals        & SBP &  & 2020-09-04 18:10:00+00:00 & 42\\\\\n",
       "\t JC3038236 & 131298434781 & 59769878 & 2020-11-28 23:45:00+00:00 & 1 & ICU VS        & SBP &  & 2020-11-28 23:05:00+00:00 & 43\\\\\n",
       "\t JC1480810 & 131309041239 & 65794433 & 2021-03-16 20:14:00+00:00 & 1 & Vitals        & SBP &  & 2021-03-16 19:26:02+00:00 & 45\\\\\n",
       "\t JC2972956 & 131301643291 & 61707780 & 2021-02-09 07:03:00+00:00 & 1 & Vitals        & SBP &  & 2021-02-09 01:16:00+00:00 & 46\\\\\n",
       "\t JC1651882 & 131300713502 & 61139883 & 2020-11-23 09:28:00+00:00 & 0 & Vitals        & SBP &  & 2020-11-22 23:05:00+00:00 & 46\\\\\n",
       "\t JC1663999 & 131291296700 & 55393578 & 2020-06-17 15:47:00+00:00 & 1 & Vitals        & SBP &  & 2020-06-17 14:37:57+00:00 & 48\\\\\n",
       "\t JC631599  & 131289551953 & 54299454 & 2020-05-16 14:11:00+00:00 & 1 & DATA VALIDATE & SBP &  & 2020-05-16 11:00:00+00:00 & 49\\\\\n",
       "\t JC861398  & 131299607206 & 60466449 & 2020-11-16 07:56:00+00:00 & 1 & Vitals        & SBP &  & 2020-11-16 06:17:00+00:00 & 49\\\\\n",
       "\\end{tabular}\n"
      ],
      "text/markdown": [
       "\n",
       "A data.frame: 13 × 10\n",
       "\n",
       "| anon_id &lt;chr&gt; | pat_enc_csn_id_coded &lt;dbl&gt; | inpatient_data_id_coded &lt;int&gt; | admit_time &lt;chr&gt; | label &lt;int&gt; | template &lt;chr&gt; | features &lt;chr&gt; | units &lt;chr&gt; | recorded_time &lt;chr&gt; | values &lt;dbl&gt; |\n",
       "|---|---|---|---|---|---|---|---|---|---|\n",
       "| JC2690491 | 131304901114 | 63711374 | 2021-02-16 16:14:00+00:00 | 1 | Vitals        | SBP | <!----> | 2021-02-16 15:10:00+00:00 | 30 |\n",
       "| JC1663999 | 131291296700 | 55393578 | 2020-06-17 15:47:00+00:00 | 1 | Vitals        | SBP | <!----> | 2020-06-17 14:39:19+00:00 | 37 |\n",
       "| JC1410701 | 131291427619 | 55474669 | 2020-07-31 02:28:00+00:00 | 1 | Vitals        | SBP | <!----> | 2020-07-30 23:01:01+00:00 | 39 |\n",
       "| JC1807917 | 131299160281 | 60196143 | 2020-11-15 08:43:00+00:00 | 1 | M/S VS        | SBP | <!----> | 2020-11-15 06:02:00+00:00 | 40 |\n",
       "| JC783230  | 131318004163 | 71439906 | 2021-09-02 19:16:00+00:00 | 1 | ICU VS        | SBP | <!----> | 2021-09-02 18:15:00+00:00 | 41 |\n",
       "| JC3013899 | 131295633821 | 58054477 | 2020-09-04 19:47:00+00:00 | 1 | Vitals        | SBP | <!----> | 2020-09-04 18:10:00+00:00 | 42 |\n",
       "| JC3038236 | 131298434781 | 59769878 | 2020-11-28 23:45:00+00:00 | 1 | ICU VS        | SBP | <!----> | 2020-11-28 23:05:00+00:00 | 43 |\n",
       "| JC1480810 | 131309041239 | 65794433 | 2021-03-16 20:14:00+00:00 | 1 | Vitals        | SBP | <!----> | 2021-03-16 19:26:02+00:00 | 45 |\n",
       "| JC2972956 | 131301643291 | 61707780 | 2021-02-09 07:03:00+00:00 | 1 | Vitals        | SBP | <!----> | 2021-02-09 01:16:00+00:00 | 46 |\n",
       "| JC1651882 | 131300713502 | 61139883 | 2020-11-23 09:28:00+00:00 | 0 | Vitals        | SBP | <!----> | 2020-11-22 23:05:00+00:00 | 46 |\n",
       "| JC1663999 | 131291296700 | 55393578 | 2020-06-17 15:47:00+00:00 | 1 | Vitals        | SBP | <!----> | 2020-06-17 14:37:57+00:00 | 48 |\n",
       "| JC631599  | 131289551953 | 54299454 | 2020-05-16 14:11:00+00:00 | 1 | DATA VALIDATE | SBP | <!----> | 2020-05-16 11:00:00+00:00 | 49 |\n",
       "| JC861398  | 131299607206 | 60466449 | 2020-11-16 07:56:00+00:00 | 1 | Vitals        | SBP | <!----> | 2020-11-16 06:17:00+00:00 | 49 |\n",
       "\n"
      ],
      "text/plain": [
       "   anon_id   pat_enc_csn_id_coded inpatient_data_id_coded\n",
       "1  JC2690491 131304901114         63711374               \n",
       "2  JC1663999 131291296700         55393578               \n",
       "3  JC1410701 131291427619         55474669               \n",
       "4  JC1807917 131299160281         60196143               \n",
       "5  JC783230  131318004163         71439906               \n",
       "6  JC3013899 131295633821         58054477               \n",
       "7  JC3038236 131298434781         59769878               \n",
       "8  JC1480810 131309041239         65794433               \n",
       "9  JC2972956 131301643291         61707780               \n",
       "10 JC1651882 131300713502         61139883               \n",
       "11 JC1663999 131291296700         55393578               \n",
       "12 JC631599  131289551953         54299454               \n",
       "13 JC861398  131299607206         60466449               \n",
       "   admit_time                label template      features units\n",
       "1  2021-02-16 16:14:00+00:00 1     Vitals        SBP           \n",
       "2  2020-06-17 15:47:00+00:00 1     Vitals        SBP           \n",
       "3  2020-07-31 02:28:00+00:00 1     Vitals        SBP           \n",
       "4  2020-11-15 08:43:00+00:00 1     M/S VS        SBP           \n",
       "5  2021-09-02 19:16:00+00:00 1     ICU VS        SBP           \n",
       "6  2020-09-04 19:47:00+00:00 1     Vitals        SBP           \n",
       "7  2020-11-28 23:45:00+00:00 1     ICU VS        SBP           \n",
       "8  2021-03-16 20:14:00+00:00 1     Vitals        SBP           \n",
       "9  2021-02-09 07:03:00+00:00 1     Vitals        SBP           \n",
       "10 2020-11-23 09:28:00+00:00 0     Vitals        SBP           \n",
       "11 2020-06-17 15:47:00+00:00 1     Vitals        SBP           \n",
       "12 2020-05-16 14:11:00+00:00 1     DATA VALIDATE SBP           \n",
       "13 2020-11-16 07:56:00+00:00 1     Vitals        SBP           \n",
       "   recorded_time             values\n",
       "1  2021-02-16 15:10:00+00:00 30    \n",
       "2  2020-06-17 14:39:19+00:00 37    \n",
       "3  2020-07-30 23:01:01+00:00 39    \n",
       "4  2020-11-15 06:02:00+00:00 40    \n",
       "5  2021-09-02 18:15:00+00:00 41    \n",
       "6  2020-09-04 18:10:00+00:00 42    \n",
       "7  2020-11-28 23:05:00+00:00 43    \n",
       "8  2021-03-16 19:26:02+00:00 45    \n",
       "9  2021-02-09 01:16:00+00:00 46    \n",
       "10 2020-11-22 23:05:00+00:00 46    \n",
       "11 2020-06-17 14:37:57+00:00 48    \n",
       "12 2020-05-16 11:00:00+00:00 49    \n",
       "13 2020-11-16 06:17:00+00:00 49    "
      ]
     },
     "metadata": {},
     "output_type": "display_data"
    },
    {
     "data": {
      "image/png": "[encoded data removed]",
      "text/plain": [
       "Plot with title “Histogram of df[df$values > 250, ]$values”"
      ]
     },
     "metadata": {
      "image/png": {
       "height": 420,
       "width": 420
      }
     },
     "output_type": "display_data"
    },
    {
     "data": {
      "image/png": "[encoded data removed]",
      "text/plain": [
       "Plot with title “Histogram of df[df$values < 50, ]$values”"
      ]
     },
     "metadata": {
      "image/png": {
       "height": 420,
       "width": 420
      }
     },
     "output_type": "display_data"
    }
   ],
   "source": [
    "df <- vitals %>% filter(features == \"SBP\")\n",
    "nrow(filter(df, values > 310 | values <33))\n",
    "\n",
    "vitals %>% filter(features == 'SBP' & (values > 300 | values < 50)) %>% arrange(values)\n",
    "\n",
    "hist(df[df$values > 250,]$values, breaks=100)\n",
    "hist(df[df$values < 50,]$values, breaks = 50)"
   ]
  },
  {
   "cell_type": "code",
   "execution_count": 26,
   "metadata": {},
   "outputs": [
    {
     "data": {
      "text/html": [
       "17"
      ],
      "text/latex": [
       "17"
      ],
      "text/markdown": [
       "17"
      ],
      "text/plain": [
       "[1] 17"
      ]
     },
     "metadata": {},
     "output_type": "display_data"
    },
    {
     "data": {
      "text/html": [
       "<table class=\"dataframe\">\n",
       "<caption>A data.frame: 17 × 10</caption>\n",
       "<thead>\n",
       "\t<tr><th scope=col>anon_id</th><th scope=col>pat_enc_csn_id_coded</th><th scope=col>inpatient_data_id_coded</th><th scope=col>admit_time</th><th scope=col>label</th><th scope=col>template</th><th scope=col>features</th><th scope=col>units</th><th scope=col>recorded_time</th><th scope=col>values</th></tr>\n",
       "\t<tr><th scope=col>&lt;chr&gt;</th><th scope=col>&lt;dbl&gt;</th><th scope=col>&lt;int&gt;</th><th scope=col>&lt;chr&gt;</th><th scope=col>&lt;int&gt;</th><th scope=col>&lt;chr&gt;</th><th scope=col>&lt;chr&gt;</th><th scope=col>&lt;chr&gt;</th><th scope=col>&lt;chr&gt;</th><th scope=col>&lt;dbl&gt;</th></tr>\n",
       "</thead>\n",
       "<tbody>\n",
       "\t<tr><td>JC1811547</td><td>131309382731</td><td>66026543</td><td>2021-05-08 19:15:00+00:00</td><td>1</td><td>Vitals              </td><td>Pulse</td><td></td><td>2021-05-08 17:01:44+00:00</td><td>  0</td></tr>\n",
       "\t<tr><td>JC3014740</td><td>131302033796</td><td>61941428</td><td>2021-02-01 19:02:00+00:00</td><td>1</td><td>Vitals              </td><td>Pulse</td><td></td><td>2021-02-01 17:04:00+00:00</td><td>  0</td></tr>\n",
       "\t<tr><td>JC1249538</td><td>131308513794</td><td>65441901</td><td>2021-05-05 01:29:00+00:00</td><td>0</td><td>Hemodial VS         </td><td>Pulse</td><td></td><td>2021-05-04 22:15:00+00:00</td><td>  3</td></tr>\n",
       "\t<tr><td>JC2744937</td><td>131289190665</td><td>54070502</td><td>2020-05-01 23:29:00+00:00</td><td>0</td><td>Vitals              </td><td>Pulse</td><td></td><td>2020-05-01 17:31:00+00:00</td><td>  7</td></tr>\n",
       "\t<tr><td>JC1571250</td><td>131316040069</td><td>70125222</td><td>2021-07-27 05:41:00+00:00</td><td>0</td><td>Vitals              </td><td>Pulse</td><td></td><td>2021-07-27 01:05:00+00:00</td><td> 18</td></tr>\n",
       "\t<tr><td>JC2708254</td><td>131298598985</td><td>59868714</td><td>2020-11-07 03:49:00+00:00</td><td>1</td><td>Blood Administration</td><td>Pulse</td><td></td><td>2020-11-07 00:05:00+00:00</td><td> 20</td></tr>\n",
       "\t<tr><td>JC2909862</td><td>131298613507</td><td>59876626</td><td>2020-12-02 22:35:00+00:00</td><td>0</td><td>Vitals              </td><td>Pulse</td><td></td><td>2020-11-27 11:21:00+00:00</td><td> 22</td></tr>\n",
       "\t<tr><td>JC3196177</td><td>131311701956</td><td>67450440</td><td>2021-06-02 05:16:00+00:00</td><td>1</td><td>Vitals              </td><td>Pulse</td><td></td><td>2021-06-02 05:00:00+00:00</td><td> 22</td></tr>\n",
       "\t<tr><td>JC3255453</td><td>131292729212</td><td>56288006</td><td>2020-08-19 13:14:00+00:00</td><td>1</td><td>Vitals              </td><td>Pulse</td><td></td><td>2020-08-19 12:00:00+00:00</td><td> 24</td></tr>\n",
       "\t<tr><td>JC2259939</td><td>131288566863</td><td>53679457</td><td>2020-05-21 03:09:00+00:00</td><td>1</td><td>Vitals              </td><td>Pulse</td><td></td><td>2020-05-21 01:15:00+00:00</td><td>253</td></tr>\n",
       "\t<tr><td>JC1800608</td><td>131312058114</td><td>67676213</td><td>2021-05-10 04:42:00+00:00</td><td>0</td><td>Vitals              </td><td>Pulse</td><td></td><td>2021-05-10 03:19:00+00:00</td><td>254</td></tr>\n",
       "\t<tr><td>JC2947954</td><td>131287578990</td><td>53101268</td><td>2020-04-22 08:42:00+00:00</td><td>0</td><td>Vitals              </td><td>Pulse</td><td></td><td>2020-04-22 06:49:00+00:00</td><td>255</td></tr>\n",
       "\t<tr><td>JC2259939</td><td>131288566863</td><td>53679457</td><td>2020-05-21 03:09:00+00:00</td><td>1</td><td>Vitals              </td><td>Pulse</td><td></td><td>2020-05-21 01:23:00+00:00</td><td>256</td></tr>\n",
       "\t<tr><td>JC2947954</td><td>131287578990</td><td>53101268</td><td>2020-04-22 08:42:00+00:00</td><td>0</td><td>Vitals              </td><td>Pulse</td><td></td><td>2020-04-22 06:53:42+00:00</td><td>258</td></tr>\n",
       "\t<tr><td>JC2947954</td><td>131287578990</td><td>53101268</td><td>2020-04-22 08:42:00+00:00</td><td>0</td><td>Vitals              </td><td>Pulse</td><td></td><td>2020-04-22 06:55:36+00:00</td><td>258</td></tr>\n",
       "\t<tr><td>JC2947954</td><td>131300978044</td><td>61295830</td><td>2021-01-02 09:44:00+00:00</td><td>0</td><td>Vitals              </td><td>Pulse</td><td></td><td>2021-01-02 07:12:00+00:00</td><td>262</td></tr>\n",
       "\t<tr><td>JC2947954</td><td>131287578990</td><td>53101268</td><td>2020-04-22 08:42:00+00:00</td><td>0</td><td>Vitals              </td><td>Pulse</td><td></td><td>2020-04-22 06:51:00+00:00</td><td>262</td></tr>\n",
       "</tbody>\n",
       "</table>\n"
      ],
      "text/latex": [
       "A data.frame: 17 × 10\n",
       "\\begin{tabular}{llllllllll}\n",
       " anon\\_id & pat\\_enc\\_csn\\_id\\_coded & inpatient\\_data\\_id\\_coded & admit\\_time & label & template & features & units & recorded\\_time & values\\\\\n",
       " <chr> & <dbl> & <int> & <chr> & <int> & <chr> & <chr> & <chr> & <chr> & <dbl>\\\\\n",
       "\\hline\n",
       "\t JC1811547 & 131309382731 & 66026543 & 2021-05-08 19:15:00+00:00 & 1 & Vitals               & Pulse &  & 2021-05-08 17:01:44+00:00 &   0\\\\\n",
       "\t JC3014740 & 131302033796 & 61941428 & 2021-02-01 19:02:00+00:00 & 1 & Vitals               & Pulse &  & 2021-02-01 17:04:00+00:00 &   0\\\\\n",
       "\t JC1249538 & 131308513794 & 65441901 & 2021-05-05 01:29:00+00:00 & 0 & Hemodial VS          & Pulse &  & 2021-05-04 22:15:00+00:00 &   3\\\\\n",
       "\t JC2744937 & 131289190665 & 54070502 & 2020-05-01 23:29:00+00:00 & 0 & Vitals               & Pulse &  & 2020-05-01 17:31:00+00:00 &   7\\\\\n",
       "\t JC1571250 & 131316040069 & 70125222 & 2021-07-27 05:41:00+00:00 & 0 & Vitals               & Pulse &  & 2021-07-27 01:05:00+00:00 &  18\\\\\n",
       "\t JC2708254 & 131298598985 & 59868714 & 2020-11-07 03:49:00+00:00 & 1 & Blood Administration & Pulse &  & 2020-11-07 00:05:00+00:00 &  20\\\\\n",
       "\t JC2909862 & 131298613507 & 59876626 & 2020-12-02 22:35:00+00:00 & 0 & Vitals               & Pulse &  & 2020-11-27 11:21:00+00:00 &  22\\\\\n",
       "\t JC3196177 & 131311701956 & 67450440 & 2021-06-02 05:16:00+00:00 & 1 & Vitals               & Pulse &  & 2021-06-02 05:00:00+00:00 &  22\\\\\n",
       "\t JC3255453 & 131292729212 & 56288006 & 2020-08-19 13:14:00+00:00 & 1 & Vitals               & Pulse &  & 2020-08-19 12:00:00+00:00 &  24\\\\\n",
       "\t JC2259939 & 131288566863 & 53679457 & 2020-05-21 03:09:00+00:00 & 1 & Vitals               & Pulse &  & 2020-05-21 01:15:00+00:00 & 253\\\\\n",
       "\t JC1800608 & 131312058114 & 67676213 & 2021-05-10 04:42:00+00:00 & 0 & Vitals               & Pulse &  & 2021-05-10 03:19:00+00:00 & 254\\\\\n",
       "\t JC2947954 & 131287578990 & 53101268 & 2020-04-22 08:42:00+00:00 & 0 & Vitals               & Pulse &  & 2020-04-22 06:49:00+00:00 & 255\\\\\n",
       "\t JC2259939 & 131288566863 & 53679457 & 2020-05-21 03:09:00+00:00 & 1 & Vitals               & Pulse &  & 2020-05-21 01:23:00+00:00 & 256\\\\\n",
       "\t JC2947954 & 131287578990 & 53101268 & 2020-04-22 08:42:00+00:00 & 0 & Vitals               & Pulse &  & 2020-04-22 06:53:42+00:00 & 258\\\\\n",
       "\t JC2947954 & 131287578990 & 53101268 & 2020-04-22 08:42:00+00:00 & 0 & Vitals               & Pulse &  & 2020-04-22 06:55:36+00:00 & 258\\\\\n",
       "\t JC2947954 & 131300978044 & 61295830 & 2021-01-02 09:44:00+00:00 & 0 & Vitals               & Pulse &  & 2021-01-02 07:12:00+00:00 & 262\\\\\n",
       "\t JC2947954 & 131287578990 & 53101268 & 2020-04-22 08:42:00+00:00 & 0 & Vitals               & Pulse &  & 2020-04-22 06:51:00+00:00 & 262\\\\\n",
       "\\end{tabular}\n"
      ],
      "text/markdown": [
       "\n",
       "A data.frame: 17 × 10\n",
       "\n",
       "| anon_id &lt;chr&gt; | pat_enc_csn_id_coded &lt;dbl&gt; | inpatient_data_id_coded &lt;int&gt; | admit_time &lt;chr&gt; | label &lt;int&gt; | template &lt;chr&gt; | features &lt;chr&gt; | units &lt;chr&gt; | recorded_time &lt;chr&gt; | values &lt;dbl&gt; |\n",
       "|---|---|---|---|---|---|---|---|---|---|\n",
       "| JC1811547 | 131309382731 | 66026543 | 2021-05-08 19:15:00+00:00 | 1 | Vitals               | Pulse | <!----> | 2021-05-08 17:01:44+00:00 |   0 |\n",
       "| JC3014740 | 131302033796 | 61941428 | 2021-02-01 19:02:00+00:00 | 1 | Vitals               | Pulse | <!----> | 2021-02-01 17:04:00+00:00 |   0 |\n",
       "| JC1249538 | 131308513794 | 65441901 | 2021-05-05 01:29:00+00:00 | 0 | Hemodial VS          | Pulse | <!----> | 2021-05-04 22:15:00+00:00 |   3 |\n",
       "| JC2744937 | 131289190665 | 54070502 | 2020-05-01 23:29:00+00:00 | 0 | Vitals               | Pulse | <!----> | 2020-05-01 17:31:00+00:00 |   7 |\n",
       "| JC1571250 | 131316040069 | 70125222 | 2021-07-27 05:41:00+00:00 | 0 | Vitals               | Pulse | <!----> | 2021-07-27 01:05:00+00:00 |  18 |\n",
       "| JC2708254 | 131298598985 | 59868714 | 2020-11-07 03:49:00+00:00 | 1 | Blood Administration | Pulse | <!----> | 2020-11-07 00:05:00+00:00 |  20 |\n",
       "| JC2909862 | 131298613507 | 59876626 | 2020-12-02 22:35:00+00:00 | 0 | Vitals               | Pulse | <!----> | 2020-11-27 11:21:00+00:00 |  22 |\n",
       "| JC3196177 | 131311701956 | 67450440 | 2021-06-02 05:16:00+00:00 | 1 | Vitals               | Pulse | <!----> | 2021-06-02 05:00:00+00:00 |  22 |\n",
       "| JC3255453 | 131292729212 | 56288006 | 2020-08-19 13:14:00+00:00 | 1 | Vitals               | Pulse | <!----> | 2020-08-19 12:00:00+00:00 |  24 |\n",
       "| JC2259939 | 131288566863 | 53679457 | 2020-05-21 03:09:00+00:00 | 1 | Vitals               | Pulse | <!----> | 2020-05-21 01:15:00+00:00 | 253 |\n",
       "| JC1800608 | 131312058114 | 67676213 | 2021-05-10 04:42:00+00:00 | 0 | Vitals               | Pulse | <!----> | 2021-05-10 03:19:00+00:00 | 254 |\n",
       "| JC2947954 | 131287578990 | 53101268 | 2020-04-22 08:42:00+00:00 | 0 | Vitals               | Pulse | <!----> | 2020-04-22 06:49:00+00:00 | 255 |\n",
       "| JC2259939 | 131288566863 | 53679457 | 2020-05-21 03:09:00+00:00 | 1 | Vitals               | Pulse | <!----> | 2020-05-21 01:23:00+00:00 | 256 |\n",
       "| JC2947954 | 131287578990 | 53101268 | 2020-04-22 08:42:00+00:00 | 0 | Vitals               | Pulse | <!----> | 2020-04-22 06:53:42+00:00 | 258 |\n",
       "| JC2947954 | 131287578990 | 53101268 | 2020-04-22 08:42:00+00:00 | 0 | Vitals               | Pulse | <!----> | 2020-04-22 06:55:36+00:00 | 258 |\n",
       "| JC2947954 | 131300978044 | 61295830 | 2021-01-02 09:44:00+00:00 | 0 | Vitals               | Pulse | <!----> | 2021-01-02 07:12:00+00:00 | 262 |\n",
       "| JC2947954 | 131287578990 | 53101268 | 2020-04-22 08:42:00+00:00 | 0 | Vitals               | Pulse | <!----> | 2020-04-22 06:51:00+00:00 | 262 |\n",
       "\n"
      ],
      "text/plain": [
       "   anon_id   pat_enc_csn_id_coded inpatient_data_id_coded\n",
       "1  JC1811547 131309382731         66026543               \n",
       "2  JC3014740 131302033796         61941428               \n",
       "3  JC1249538 131308513794         65441901               \n",
       "4  JC2744937 131289190665         54070502               \n",
       "5  JC1571250 131316040069         70125222               \n",
       "6  JC2708254 131298598985         59868714               \n",
       "7  JC2909862 131298613507         59876626               \n",
       "8  JC3196177 131311701956         67450440               \n",
       "9  JC3255453 131292729212         56288006               \n",
       "10 JC2259939 131288566863         53679457               \n",
       "11 JC1800608 131312058114         67676213               \n",
       "12 JC2947954 131287578990         53101268               \n",
       "13 JC2259939 131288566863         53679457               \n",
       "14 JC2947954 131287578990         53101268               \n",
       "15 JC2947954 131287578990         53101268               \n",
       "16 JC2947954 131300978044         61295830               \n",
       "17 JC2947954 131287578990         53101268               \n",
       "   admit_time                label template             features units\n",
       "1  2021-05-08 19:15:00+00:00 1     Vitals               Pulse         \n",
       "2  2021-02-01 19:02:00+00:00 1     Vitals               Pulse         \n",
       "3  2021-05-05 01:29:00+00:00 0     Hemodial VS          Pulse         \n",
       "4  2020-05-01 23:29:00+00:00 0     Vitals               Pulse         \n",
       "5  2021-07-27 05:41:00+00:00 0     Vitals               Pulse         \n",
       "6  2020-11-07 03:49:00+00:00 1     Blood Administration Pulse         \n",
       "7  2020-12-02 22:35:00+00:00 0     Vitals               Pulse         \n",
       "8  2021-06-02 05:16:00+00:00 1     Vitals               Pulse         \n",
       "9  2020-08-19 13:14:00+00:00 1     Vitals               Pulse         \n",
       "10 2020-05-21 03:09:00+00:00 1     Vitals               Pulse         \n",
       "11 2021-05-10 04:42:00+00:00 0     Vitals               Pulse         \n",
       "12 2020-04-22 08:42:00+00:00 0     Vitals               Pulse         \n",
       "13 2020-05-21 03:09:00+00:00 1     Vitals               Pulse         \n",
       "14 2020-04-22 08:42:00+00:00 0     Vitals               Pulse         \n",
       "15 2020-04-22 08:42:00+00:00 0     Vitals               Pulse         \n",
       "16 2021-01-02 09:44:00+00:00 0     Vitals               Pulse         \n",
       "17 2020-04-22 08:42:00+00:00 0     Vitals               Pulse         \n",
       "   recorded_time             values\n",
       "1  2021-05-08 17:01:44+00:00   0   \n",
       "2  2021-02-01 17:04:00+00:00   0   \n",
       "3  2021-05-04 22:15:00+00:00   3   \n",
       "4  2020-05-01 17:31:00+00:00   7   \n",
       "5  2021-07-27 01:05:00+00:00  18   \n",
       "6  2020-11-07 00:05:00+00:00  20   \n",
       "7  2020-11-27 11:21:00+00:00  22   \n",
       "8  2021-06-02 05:00:00+00:00  22   \n",
       "9  2020-08-19 12:00:00+00:00  24   \n",
       "10 2020-05-21 01:15:00+00:00 253   \n",
       "11 2021-05-10 03:19:00+00:00 254   \n",
       "12 2020-04-22 06:49:00+00:00 255   \n",
       "13 2020-05-21 01:23:00+00:00 256   \n",
       "14 2020-04-22 06:53:42+00:00 258   \n",
       "15 2020-04-22 06:55:36+00:00 258   \n",
       "16 2021-01-02 07:12:00+00:00 262   \n",
       "17 2020-04-22 06:51:00+00:00 262   "
      ]
     },
     "metadata": {},
     "output_type": "display_data"
    },
    {
     "data": {
      "image/png": "[encoded data removed]",
      "text/plain": [
       "Plot with title “Histogram of df[df$values > 250, ]$values”"
      ]
     },
     "metadata": {
      "image/png": {
       "height": 420,
       "width": 420
      }
     },
     "output_type": "display_data"
    },
    {
     "data": {
      "image/png": "[encoded data removed]",
      "text/plain": [
       "Plot with title “Histogram of df[df$values < 30, ]$values”"
      ]
     },
     "metadata": {
      "image/png": {
       "height": 420,
       "width": 420
      }
     },
     "output_type": "display_data"
    }
   ],
   "source": [
    "df <- vitals %>% filter(features == \"Pulse\")\n",
    "nrow(filter(df, values > 250 | values < 25)) # remove <10 only\n",
    "filter(df, values > 250 | values < 25) %>% arrange(values)\n",
    "\n",
    "hist(df[df$values > 250,]$values, breaks=100)\n",
    "hist(df[df$values < 30,]$values, breaks=25)"
   ]
  },
  {
   "cell_type": "code",
   "execution_count": 27,
   "metadata": {},
   "outputs": [
    {
     "data": {
      "text/html": [
       "83"
      ],
      "text/latex": [
       "83"
      ],
      "text/markdown": [
       "83"
      ],
      "text/plain": [
       "[1] 83"
      ]
     },
     "metadata": {},
     "output_type": "display_data"
    },
    {
     "data": {
      "text/html": [
       "<table class=\"dataframe\">\n",
       "<caption>A data.frame: 55 × 10</caption>\n",
       "<thead>\n",
       "\t<tr><th scope=col>anon_id</th><th scope=col>pat_enc_csn_id_coded</th><th scope=col>inpatient_data_id_coded</th><th scope=col>admit_time</th><th scope=col>label</th><th scope=col>template</th><th scope=col>features</th><th scope=col>units</th><th scope=col>recorded_time</th><th scope=col>values</th></tr>\n",
       "\t<tr><th scope=col>&lt;chr&gt;</th><th scope=col>&lt;dbl&gt;</th><th scope=col>&lt;int&gt;</th><th scope=col>&lt;chr&gt;</th><th scope=col>&lt;int&gt;</th><th scope=col>&lt;chr&gt;</th><th scope=col>&lt;chr&gt;</th><th scope=col>&lt;chr&gt;</th><th scope=col>&lt;chr&gt;</th><th scope=col>&lt;dbl&gt;</th></tr>\n",
       "</thead>\n",
       "<tbody>\n",
       "\t<tr><td>JC1763735</td><td>131316213538</td><td>70233733</td><td>2021-08-13 23:32:00+00:00</td><td>1</td><td>Hemodynamic Measurements</td><td>RR</td><td></td><td>2021-08-13 23:21:16+00:00</td><td>  1</td></tr>\n",
       "\t<tr><td>JC1994408</td><td>131314327304</td><td>69095702</td><td>2021-07-10 19:09:00+00:00</td><td>0</td><td>Stroke                  </td><td>RR</td><td></td><td>2021-07-10 16:50:00+00:00</td><td>  2</td></tr>\n",
       "\t<tr><td>JC1677603</td><td>131300839159</td><td>61209571</td><td>2020-12-14 23:00:00+00:00</td><td>0</td><td>ICU VS                  </td><td>RR</td><td></td><td>2020-12-14 19:00:00+00:00</td><td>  2</td></tr>\n",
       "\t<tr><td>JC2604443</td><td>131288121928</td><td>53430400</td><td>2020-05-23 14:41:00+00:00</td><td>1</td><td>Vitals                  </td><td>RR</td><td></td><td>2020-05-23 13:00:00+00:00</td><td>  2</td></tr>\n",
       "\t<tr><td>JC2604443</td><td>131288121928</td><td>53430400</td><td>2020-05-23 14:41:00+00:00</td><td>1</td><td>DATA VALIDATE           </td><td>RR</td><td></td><td>2020-05-23 12:00:00+00:00</td><td>  2</td></tr>\n",
       "\t<tr><td>JC2026433</td><td>131288771979</td><td>53808226</td><td>2020-06-08 02:29:00+00:00</td><td>0</td><td>Vitals                  </td><td>RR</td><td></td><td>2020-06-07 23:00:00+00:00</td><td>  4</td></tr>\n",
       "\t<tr><td>JC634415 </td><td>131299298128</td><td>60279581</td><td>2020-12-21 17:03:00+00:00</td><td>1</td><td>Vitals                  </td><td>RR</td><td></td><td>2020-12-21 15:08:00+00:00</td><td>  4</td></tr>\n",
       "\t<tr><td>JC1751933</td><td>131288449551</td><td>53604762</td><td>2020-05-28 13:23:00+00:00</td><td>1</td><td>RT Assess/ Treatment    </td><td>RR</td><td></td><td>2020-05-28 11:24:00+00:00</td><td>  4</td></tr>\n",
       "\t<tr><td>JC560336 </td><td>131319175707</td><td>72178981</td><td>2021-09-02 01:26:00+00:00</td><td>1</td><td>DATA VALIDATE           </td><td>RR</td><td></td><td>2021-09-02 01:15:00+00:00</td><td>  5</td></tr>\n",
       "\t<tr><td>JC3199805</td><td>131312173866</td><td>67752218</td><td>2021-06-20 20:19:00+00:00</td><td>0</td><td>DATA VALIDATE           </td><td>RR</td><td></td><td>2021-06-20 18:05:00+00:00</td><td>  5</td></tr>\n",
       "\t<tr><td>JC3035467</td><td>131298094163</td><td>59561476</td><td>2020-12-08 02:12:00+00:00</td><td>0</td><td>DATA VALIDATE           </td><td>RR</td><td></td><td>2020-12-07 23:30:00+00:00</td><td>  6</td></tr>\n",
       "\t<tr><td>JC515835 </td><td>131287842740</td><td>53260079</td><td>2020-05-12 21:50:00+00:00</td><td>1</td><td>DATA VALIDATE           </td><td>RR</td><td></td><td>2020-05-12 19:45:00+00:00</td><td>  6</td></tr>\n",
       "\t<tr><td>JC2980140</td><td>131294493222</td><td>57376360</td><td>2020-10-05 01:59:00+00:00</td><td>1</td><td>Vitals                  </td><td>RR</td><td></td><td>2020-10-05 00:50:00+00:00</td><td>  6</td></tr>\n",
       "\t<tr><td>JC779332 </td><td>131294291061</td><td>57249862</td><td>2020-08-15 07:02:00+00:00</td><td>1</td><td>Vitals                  </td><td>RR</td><td></td><td>2020-08-14 22:58:28+00:00</td><td>  6</td></tr>\n",
       "\t<tr><td>JC3039140</td><td>131298525549</td><td>59825011</td><td>2020-11-08 06:38:00+00:00</td><td>0</td><td>IIC VS                  </td><td>RR</td><td></td><td>2020-11-07 21:00:00+00:00</td><td>  6</td></tr>\n",
       "\t<tr><td>JC2587428</td><td>131299050562</td><td>60128047</td><td>2020-12-16 03:50:00+00:00</td><td>1</td><td>Hemodynamic Measurements</td><td>RR</td><td></td><td>2020-12-16 02:27:02+00:00</td><td>  6</td></tr>\n",
       "\t<tr><td>JC544126 </td><td>131301383890</td><td>61548500</td><td>2021-02-02 17:44:00+00:00</td><td>1</td><td>Vitals                  </td><td>RR</td><td></td><td>2021-02-02 16:30:00+00:00</td><td>  6</td></tr>\n",
       "\t<tr><td>JC650403 </td><td>131298919924</td><td>60046100</td><td>2020-12-01 00:15:00+00:00</td><td>1</td><td>Hemodynamic Measurements</td><td>RR</td><td></td><td>2020-12-01 00:03:25+00:00</td><td>  6</td></tr>\n",
       "\t<tr><td>JC1366790</td><td>131293477612</td><td>56743837</td><td>2020-08-03 04:50:00+00:00</td><td>1</td><td>Hemodynamic Measurements</td><td>RR</td><td></td><td>2020-08-03 04:45:00+00:00</td><td>  6</td></tr>\n",
       "\t<tr><td>JC1233276</td><td>131286808835</td><td>52627755</td><td>2020-04-27 00:37:00+00:00</td><td>1</td><td>ICU VS                  </td><td>RR</td><td></td><td>2020-04-26 22:00:00+00:00</td><td>  6</td></tr>\n",
       "\t<tr><td>JC2555543</td><td>131287686331</td><td>53166814</td><td>2020-05-23 04:35:00+00:00</td><td>1</td><td>Vitals                  </td><td>RR</td><td></td><td>2020-05-23 01:25:00+00:00</td><td>  6</td></tr>\n",
       "\t<tr><td>JC2306334</td><td>131308066708</td><td>65155609</td><td>2021-03-29 20:59:00+00:00</td><td>1</td><td>RT Assess/ Treatment    </td><td>RR</td><td></td><td>2021-03-29 16:02:00+00:00</td><td>  6</td></tr>\n",
       "\t<tr><td>JC1521027</td><td>131291139063</td><td>55294703</td><td>2020-07-12 05:58:00+00:00</td><td>1</td><td>Hemodynamic Measurements</td><td>RR</td><td></td><td>2020-07-12 05:52:18+00:00</td><td>  6</td></tr>\n",
       "\t<tr><td>JC3115789</td><td>131305732950</td><td>64232192</td><td>2021-04-05 05:51:00+00:00</td><td>1</td><td>Hemodynamic Measurements</td><td>RR</td><td></td><td>2021-04-05 05:05:51+00:00</td><td>  6</td></tr>\n",
       "\t<tr><td>JC1865344</td><td>131290922192</td><td>55156615</td><td>2020-07-20 22:56:00+00:00</td><td>1</td><td>Vitals                  </td><td>RR</td><td></td><td>2020-07-20 22:05:00+00:00</td><td>  6</td></tr>\n",
       "\t<tr><td>JC975436 </td><td>131310392703</td><td>66677455</td><td>2021-04-18 21:08:00+00:00</td><td>0</td><td>Vitals                  </td><td>RR</td><td></td><td>2021-04-18 15:00:00+00:00</td><td>  6</td></tr>\n",
       "\t<tr><td>JC3062776</td><td>131301045967</td><td>61339118</td><td>2020-11-29 08:55:00+00:00</td><td>1</td><td>DATA VALIDATE           </td><td>RR</td><td></td><td>2020-11-29 08:20:00+00:00</td><td>  7</td></tr>\n",
       "\t<tr><td>JC2060083</td><td>131311729535</td><td>67468221</td><td>2021-06-27 20:31:00+00:00</td><td>1</td><td>DATA VALIDATE           </td><td>RR</td><td></td><td>2021-06-27 20:00:00+00:00</td><td>  7</td></tr>\n",
       "\t<tr><td>JC776563 </td><td>131293834568</td><td>56963438</td><td>2020-09-13 05:02:00+00:00</td><td>0</td><td>DATA VALIDATE           </td><td>RR</td><td></td><td>2020-09-13 01:50:00+00:00</td><td>  7</td></tr>\n",
       "\t<tr><td>JC1260910</td><td>131295212270</td><td>57812643</td><td>2020-09-09 21:46:00+00:00</td><td>1</td><td>Vitals                  </td><td>RR</td><td></td><td>2020-09-09 20:50:00+00:00</td><td>  7</td></tr>\n",
       "\t<tr><td>JC1233276</td><td>131286808835</td><td>52627755</td><td>2020-04-27 00:37:00+00:00</td><td>1</td><td>Vitals                  </td><td>RR</td><td></td><td>2020-04-26 22:30:00+00:00</td><td>  7</td></tr>\n",
       "\t<tr><td>JC3083033</td><td>131303207399</td><td>62669115</td><td>2021-02-23 05:52:00+00:00</td><td>1</td><td>DATA VALIDATE           </td><td>RR</td><td></td><td>2021-02-23 05:30:00+00:00</td><td>  7</td></tr>\n",
       "\t<tr><td>JC620071 </td><td>131307103477</td><td>64703956</td><td>2021-04-07 21:40:00+00:00</td><td>1</td><td>Vitals                  </td><td>RR</td><td></td><td>2021-04-07 20:05:00+00:00</td><td>  7</td></tr>\n",
       "\t<tr><td>JC3083033</td><td>131303207399</td><td>62669115</td><td>2021-02-23 05:52:00+00:00</td><td>1</td><td>Vitals                  </td><td>RR</td><td></td><td>2021-02-23 03:30:00+00:00</td><td>  7</td></tr>\n",
       "\t<tr><td>JC650403 </td><td>131298919924</td><td>60046100</td><td>2020-12-01 00:15:00+00:00</td><td>1</td><td>Hemodynamic Measurements</td><td>RR</td><td></td><td>2020-11-30 23:19:19+00:00</td><td>  7</td></tr>\n",
       "\t<tr><td>JC2550271</td><td>131289045125</td><td>53978435</td><td>2020-05-18 23:16:00+00:00</td><td>1</td><td>Hemodynamic Measurements</td><td>RR</td><td></td><td>2020-05-18 23:12:20+00:00</td><td>  7</td></tr>\n",
       "\t<tr><td>JC622645 </td><td>131308444872</td><td>65397929</td><td>2021-03-30 22:27:00+00:00</td><td>1</td><td>Vitals                  </td><td>RR</td><td></td><td>2021-03-30 19:00:00+00:00</td><td>  7</td></tr>\n",
       "\t<tr><td>JC650403 </td><td>131298919924</td><td>60046100</td><td>2020-12-01 00:15:00+00:00</td><td>1</td><td>Hemodynamic Measurements</td><td>RR</td><td></td><td>2020-11-30 23:43:49+00:00</td><td>  7</td></tr>\n",
       "\t<tr><td>JC2717058</td><td>131288947864</td><td>53917828</td><td>2020-05-10 00:27:00+00:00</td><td>1</td><td>Vitals                  </td><td>RR</td><td></td><td>2020-05-09 22:00:00+00:00</td><td>  7</td></tr>\n",
       "\t<tr><td>JC3083033</td><td>131303207399</td><td>62669115</td><td>2021-02-23 05:52:00+00:00</td><td>1</td><td>DATA VALIDATE           </td><td>RR</td><td></td><td>2021-02-23 02:03:00+00:00</td><td>  7</td></tr>\n",
       "\t<tr><td>JC3083033</td><td>131303207399</td><td>62669115</td><td>2021-02-23 05:52:00+00:00</td><td>1</td><td>Violent Restraints      </td><td>RR</td><td></td><td>2021-02-23 04:02:00+00:00</td><td>  7</td></tr>\n",
       "\t<tr><td>JC2717058</td><td>131288947864</td><td>53917828</td><td>2020-05-10 00:27:00+00:00</td><td>1</td><td>DATA VALIDATE           </td><td>RR</td><td></td><td>2020-05-09 22:15:00+00:00</td><td>  7</td></tr>\n",
       "\t<tr><td>JC2925405</td><td>131300055804</td><td>60735570</td><td>2020-11-28 02:36:00+00:00</td><td>0</td><td>Vitals                  </td><td>RR</td><td></td><td>2020-11-27 22:49:00+00:00</td><td> 71</td></tr>\n",
       "\t<tr><td>JC2880425</td><td>131292597949</td><td>56207931</td><td>2020-08-17 09:26:00+00:00</td><td>1</td><td>Vitals                  </td><td>RR</td><td></td><td>2020-08-17 09:05:00+00:00</td><td> 81</td></tr>\n",
       "\t<tr><td>JC528767 </td><td>131301350964</td><td>61527033</td><td>2020-12-22 00:18:00+00:00</td><td>1</td><td>Vitals                  </td><td>RR</td><td></td><td>2020-12-22 00:10:00+00:00</td><td> 87</td></tr>\n",
       "\t<tr><td>JC2946544</td><td>131287355492</td><td>52963395</td><td>2020-05-07 23:39:00+00:00</td><td>1</td><td>RT Assess/ Treatment    </td><td>RR</td><td></td><td>2020-05-07 23:30:00+00:00</td><td> 87</td></tr>\n",
       "\t<tr><td>JC2880425</td><td>131292597949</td><td>56207931</td><td>2020-08-17 09:26:00+00:00</td><td>1</td><td>Vitals                  </td><td>RR</td><td></td><td>2020-08-17 09:15:00+00:00</td><td> 89</td></tr>\n",
       "\t<tr><td>JC650403 </td><td>131298919924</td><td>60046100</td><td>2020-12-01 00:15:00+00:00</td><td>1</td><td>Hemodynamic Measurements</td><td>RR</td><td></td><td>2020-11-30 23:39:08+00:00</td><td> 91</td></tr>\n",
       "\t<tr><td>JC2052019</td><td>131287526013</td><td>53071647</td><td>2020-05-15 11:05:00+00:00</td><td>1</td><td>Vitals                  </td><td>RR</td><td></td><td>2020-05-15 07:45:00+00:00</td><td> 93</td></tr>\n",
       "\t<tr><td>JC1480810</td><td>131309041239</td><td>65794433</td><td>2021-03-16 20:14:00+00:00</td><td>1</td><td>Vitals                  </td><td>RR</td><td></td><td>2021-03-16 19:18:00+00:00</td><td> 97</td></tr>\n",
       "\t<tr><td>JC2116319</td><td>131288603914</td><td>53703347</td><td>2020-04-22 00:23:00+00:00</td><td>0</td><td>Vitals                  </td><td>RR</td><td></td><td>2020-04-21 21:10:00+00:00</td><td> 99</td></tr>\n",
       "\t<tr><td>JC2708254</td><td>131298598985</td><td>59868714</td><td>2020-11-07 03:49:00+00:00</td><td>1</td><td>Blood Administration    </td><td>RR</td><td></td><td>2020-11-07 00:05:00+00:00</td><td> 99</td></tr>\n",
       "\t<tr><td>JC1649667</td><td>131292818358</td><td>56342763</td><td>2020-09-12 04:35:00+00:00</td><td>0</td><td>Vitals                  </td><td>RR</td><td></td><td>2020-09-11 23:46:06+00:00</td><td>100</td></tr>\n",
       "\t<tr><td>JC650403 </td><td>131298919924</td><td>60046100</td><td>2020-12-01 00:15:00+00:00</td><td>1</td><td>Hemodynamic Measurements</td><td>RR</td><td></td><td>2020-11-30 23:48:43+00:00</td><td>100</td></tr>\n",
       "\t<tr><td>JC3055087</td><td>131300173178</td><td>60808356</td><td>2020-12-18 21:13:00+00:00</td><td>1</td><td>Hemodynamic Measurements</td><td>RR</td><td></td><td>2020-12-18 20:51:54+00:00</td><td>120</td></tr>\n",
       "</tbody>\n",
       "</table>\n"
      ],
      "text/latex": [
       "A data.frame: 55 × 10\n",
       "\\begin{tabular}{llllllllll}\n",
       " anon\\_id & pat\\_enc\\_csn\\_id\\_coded & inpatient\\_data\\_id\\_coded & admit\\_time & label & template & features & units & recorded\\_time & values\\\\\n",
       " <chr> & <dbl> & <int> & <chr> & <int> & <chr> & <chr> & <chr> & <chr> & <dbl>\\\\\n",
       "\\hline\n",
       "\t JC1763735 & 131316213538 & 70233733 & 2021-08-13 23:32:00+00:00 & 1 & Hemodynamic Measurements & RR &  & 2021-08-13 23:21:16+00:00 &   1\\\\\n",
       "\t JC1994408 & 131314327304 & 69095702 & 2021-07-10 19:09:00+00:00 & 0 & Stroke                   & RR &  & 2021-07-10 16:50:00+00:00 &   2\\\\\n",
       "\t JC1677603 & 131300839159 & 61209571 & 2020-12-14 23:00:00+00:00 & 0 & ICU VS                   & RR &  & 2020-12-14 19:00:00+00:00 &   2\\\\\n",
       "\t JC2604443 & 131288121928 & 53430400 & 2020-05-23 14:41:00+00:00 & 1 & Vitals                   & RR &  & 2020-05-23 13:00:00+00:00 &   2\\\\\n",
       "\t JC2604443 & 131288121928 & 53430400 & 2020-05-23 14:41:00+00:00 & 1 & DATA VALIDATE            & RR &  & 2020-05-23 12:00:00+00:00 &   2\\\\\n",
       "\t JC2026433 & 131288771979 & 53808226 & 2020-06-08 02:29:00+00:00 & 0 & Vitals                   & RR &  & 2020-06-07 23:00:00+00:00 &   4\\\\\n",
       "\t JC634415  & 131299298128 & 60279581 & 2020-12-21 17:03:00+00:00 & 1 & Vitals                   & RR &  & 2020-12-21 15:08:00+00:00 &   4\\\\\n",
       "\t JC1751933 & 131288449551 & 53604762 & 2020-05-28 13:23:00+00:00 & 1 & RT Assess/ Treatment     & RR &  & 2020-05-28 11:24:00+00:00 &   4\\\\\n",
       "\t JC560336  & 131319175707 & 72178981 & 2021-09-02 01:26:00+00:00 & 1 & DATA VALIDATE            & RR &  & 2021-09-02 01:15:00+00:00 &   5\\\\\n",
       "\t JC3199805 & 131312173866 & 67752218 & 2021-06-20 20:19:00+00:00 & 0 & DATA VALIDATE            & RR &  & 2021-06-20 18:05:00+00:00 &   5\\\\\n",
       "\t JC3035467 & 131298094163 & 59561476 & 2020-12-08 02:12:00+00:00 & 0 & DATA VALIDATE            & RR &  & 2020-12-07 23:30:00+00:00 &   6\\\\\n",
       "\t JC515835  & 131287842740 & 53260079 & 2020-05-12 21:50:00+00:00 & 1 & DATA VALIDATE            & RR &  & 2020-05-12 19:45:00+00:00 &   6\\\\\n",
       "\t JC2980140 & 131294493222 & 57376360 & 2020-10-05 01:59:00+00:00 & 1 & Vitals                   & RR &  & 2020-10-05 00:50:00+00:00 &   6\\\\\n",
       "\t JC779332  & 131294291061 & 57249862 & 2020-08-15 07:02:00+00:00 & 1 & Vitals                   & RR &  & 2020-08-14 22:58:28+00:00 &   6\\\\\n",
       "\t JC3039140 & 131298525549 & 59825011 & 2020-11-08 06:38:00+00:00 & 0 & IIC VS                   & RR &  & 2020-11-07 21:00:00+00:00 &   6\\\\\n",
       "\t JC2587428 & 131299050562 & 60128047 & 2020-12-16 03:50:00+00:00 & 1 & Hemodynamic Measurements & RR &  & 2020-12-16 02:27:02+00:00 &   6\\\\\n",
       "\t JC544126  & 131301383890 & 61548500 & 2021-02-02 17:44:00+00:00 & 1 & Vitals                   & RR &  & 2021-02-02 16:30:00+00:00 &   6\\\\\n",
       "\t JC650403  & 131298919924 & 60046100 & 2020-12-01 00:15:00+00:00 & 1 & Hemodynamic Measurements & RR &  & 2020-12-01 00:03:25+00:00 &   6\\\\\n",
       "\t JC1366790 & 131293477612 & 56743837 & 2020-08-03 04:50:00+00:00 & 1 & Hemodynamic Measurements & RR &  & 2020-08-03 04:45:00+00:00 &   6\\\\\n",
       "\t JC1233276 & 131286808835 & 52627755 & 2020-04-27 00:37:00+00:00 & 1 & ICU VS                   & RR &  & 2020-04-26 22:00:00+00:00 &   6\\\\\n",
       "\t JC2555543 & 131287686331 & 53166814 & 2020-05-23 04:35:00+00:00 & 1 & Vitals                   & RR &  & 2020-05-23 01:25:00+00:00 &   6\\\\\n",
       "\t JC2306334 & 131308066708 & 65155609 & 2021-03-29 20:59:00+00:00 & 1 & RT Assess/ Treatment     & RR &  & 2021-03-29 16:02:00+00:00 &   6\\\\\n",
       "\t JC1521027 & 131291139063 & 55294703 & 2020-07-12 05:58:00+00:00 & 1 & Hemodynamic Measurements & RR &  & 2020-07-12 05:52:18+00:00 &   6\\\\\n",
       "\t JC3115789 & 131305732950 & 64232192 & 2021-04-05 05:51:00+00:00 & 1 & Hemodynamic Measurements & RR &  & 2021-04-05 05:05:51+00:00 &   6\\\\\n",
       "\t JC1865344 & 131290922192 & 55156615 & 2020-07-20 22:56:00+00:00 & 1 & Vitals                   & RR &  & 2020-07-20 22:05:00+00:00 &   6\\\\\n",
       "\t JC975436  & 131310392703 & 66677455 & 2021-04-18 21:08:00+00:00 & 0 & Vitals                   & RR &  & 2021-04-18 15:00:00+00:00 &   6\\\\\n",
       "\t JC3062776 & 131301045967 & 61339118 & 2020-11-29 08:55:00+00:00 & 1 & DATA VALIDATE            & RR &  & 2020-11-29 08:20:00+00:00 &   7\\\\\n",
       "\t JC2060083 & 131311729535 & 67468221 & 2021-06-27 20:31:00+00:00 & 1 & DATA VALIDATE            & RR &  & 2021-06-27 20:00:00+00:00 &   7\\\\\n",
       "\t JC776563  & 131293834568 & 56963438 & 2020-09-13 05:02:00+00:00 & 0 & DATA VALIDATE            & RR &  & 2020-09-13 01:50:00+00:00 &   7\\\\\n",
       "\t JC1260910 & 131295212270 & 57812643 & 2020-09-09 21:46:00+00:00 & 1 & Vitals                   & RR &  & 2020-09-09 20:50:00+00:00 &   7\\\\\n",
       "\t JC1233276 & 131286808835 & 52627755 & 2020-04-27 00:37:00+00:00 & 1 & Vitals                   & RR &  & 2020-04-26 22:30:00+00:00 &   7\\\\\n",
       "\t JC3083033 & 131303207399 & 62669115 & 2021-02-23 05:52:00+00:00 & 1 & DATA VALIDATE            & RR &  & 2021-02-23 05:30:00+00:00 &   7\\\\\n",
       "\t JC620071  & 131307103477 & 64703956 & 2021-04-07 21:40:00+00:00 & 1 & Vitals                   & RR &  & 2021-04-07 20:05:00+00:00 &   7\\\\\n",
       "\t JC3083033 & 131303207399 & 62669115 & 2021-02-23 05:52:00+00:00 & 1 & Vitals                   & RR &  & 2021-02-23 03:30:00+00:00 &   7\\\\\n",
       "\t JC650403  & 131298919924 & 60046100 & 2020-12-01 00:15:00+00:00 & 1 & Hemodynamic Measurements & RR &  & 2020-11-30 23:19:19+00:00 &   7\\\\\n",
       "\t JC2550271 & 131289045125 & 53978435 & 2020-05-18 23:16:00+00:00 & 1 & Hemodynamic Measurements & RR &  & 2020-05-18 23:12:20+00:00 &   7\\\\\n",
       "\t JC622645  & 131308444872 & 65397929 & 2021-03-30 22:27:00+00:00 & 1 & Vitals                   & RR &  & 2021-03-30 19:00:00+00:00 &   7\\\\\n",
       "\t JC650403  & 131298919924 & 60046100 & 2020-12-01 00:15:00+00:00 & 1 & Hemodynamic Measurements & RR &  & 2020-11-30 23:43:49+00:00 &   7\\\\\n",
       "\t JC2717058 & 131288947864 & 53917828 & 2020-05-10 00:27:00+00:00 & 1 & Vitals                   & RR &  & 2020-05-09 22:00:00+00:00 &   7\\\\\n",
       "\t JC3083033 & 131303207399 & 62669115 & 2021-02-23 05:52:00+00:00 & 1 & DATA VALIDATE            & RR &  & 2021-02-23 02:03:00+00:00 &   7\\\\\n",
       "\t JC3083033 & 131303207399 & 62669115 & 2021-02-23 05:52:00+00:00 & 1 & Violent Restraints       & RR &  & 2021-02-23 04:02:00+00:00 &   7\\\\\n",
       "\t JC2717058 & 131288947864 & 53917828 & 2020-05-10 00:27:00+00:00 & 1 & DATA VALIDATE            & RR &  & 2020-05-09 22:15:00+00:00 &   7\\\\\n",
       "\t JC2925405 & 131300055804 & 60735570 & 2020-11-28 02:36:00+00:00 & 0 & Vitals                   & RR &  & 2020-11-27 22:49:00+00:00 &  71\\\\\n",
       "\t JC2880425 & 131292597949 & 56207931 & 2020-08-17 09:26:00+00:00 & 1 & Vitals                   & RR &  & 2020-08-17 09:05:00+00:00 &  81\\\\\n",
       "\t JC528767  & 131301350964 & 61527033 & 2020-12-22 00:18:00+00:00 & 1 & Vitals                   & RR &  & 2020-12-22 00:10:00+00:00 &  87\\\\\n",
       "\t JC2946544 & 131287355492 & 52963395 & 2020-05-07 23:39:00+00:00 & 1 & RT Assess/ Treatment     & RR &  & 2020-05-07 23:30:00+00:00 &  87\\\\\n",
       "\t JC2880425 & 131292597949 & 56207931 & 2020-08-17 09:26:00+00:00 & 1 & Vitals                   & RR &  & 2020-08-17 09:15:00+00:00 &  89\\\\\n",
       "\t JC650403  & 131298919924 & 60046100 & 2020-12-01 00:15:00+00:00 & 1 & Hemodynamic Measurements & RR &  & 2020-11-30 23:39:08+00:00 &  91\\\\\n",
       "\t JC2052019 & 131287526013 & 53071647 & 2020-05-15 11:05:00+00:00 & 1 & Vitals                   & RR &  & 2020-05-15 07:45:00+00:00 &  93\\\\\n",
       "\t JC1480810 & 131309041239 & 65794433 & 2021-03-16 20:14:00+00:00 & 1 & Vitals                   & RR &  & 2021-03-16 19:18:00+00:00 &  97\\\\\n",
       "\t JC2116319 & 131288603914 & 53703347 & 2020-04-22 00:23:00+00:00 & 0 & Vitals                   & RR &  & 2020-04-21 21:10:00+00:00 &  99\\\\\n",
       "\t JC2708254 & 131298598985 & 59868714 & 2020-11-07 03:49:00+00:00 & 1 & Blood Administration     & RR &  & 2020-11-07 00:05:00+00:00 &  99\\\\\n",
       "\t JC1649667 & 131292818358 & 56342763 & 2020-09-12 04:35:00+00:00 & 0 & Vitals                   & RR &  & 2020-09-11 23:46:06+00:00 & 100\\\\\n",
       "\t JC650403  & 131298919924 & 60046100 & 2020-12-01 00:15:00+00:00 & 1 & Hemodynamic Measurements & RR &  & 2020-11-30 23:48:43+00:00 & 100\\\\\n",
       "\t JC3055087 & 131300173178 & 60808356 & 2020-12-18 21:13:00+00:00 & 1 & Hemodynamic Measurements & RR &  & 2020-12-18 20:51:54+00:00 & 120\\\\\n",
       "\\end{tabular}\n"
      ],
      "text/markdown": [
       "\n",
       "A data.frame: 55 × 10\n",
       "\n",
       "| anon_id &lt;chr&gt; | pat_enc_csn_id_coded &lt;dbl&gt; | inpatient_data_id_coded &lt;int&gt; | admit_time &lt;chr&gt; | label &lt;int&gt; | template &lt;chr&gt; | features &lt;chr&gt; | units &lt;chr&gt; | recorded_time &lt;chr&gt; | values &lt;dbl&gt; |\n",
       "|---|---|---|---|---|---|---|---|---|---|\n",
       "| JC1763735 | 131316213538 | 70233733 | 2021-08-13 23:32:00+00:00 | 1 | Hemodynamic Measurements | RR | <!----> | 2021-08-13 23:21:16+00:00 |   1 |\n",
       "| JC1994408 | 131314327304 | 69095702 | 2021-07-10 19:09:00+00:00 | 0 | Stroke                   | RR | <!----> | 2021-07-10 16:50:00+00:00 |   2 |\n",
       "| JC1677603 | 131300839159 | 61209571 | 2020-12-14 23:00:00+00:00 | 0 | ICU VS                   | RR | <!----> | 2020-12-14 19:00:00+00:00 |   2 |\n",
       "| JC2604443 | 131288121928 | 53430400 | 2020-05-23 14:41:00+00:00 | 1 | Vitals                   | RR | <!----> | 2020-05-23 13:00:00+00:00 |   2 |\n",
       "| JC2604443 | 131288121928 | 53430400 | 2020-05-23 14:41:00+00:00 | 1 | DATA VALIDATE            | RR | <!----> | 2020-05-23 12:00:00+00:00 |   2 |\n",
       "| JC2026433 | 131288771979 | 53808226 | 2020-06-08 02:29:00+00:00 | 0 | Vitals                   | RR | <!----> | 2020-06-07 23:00:00+00:00 |   4 |\n",
       "| JC634415  | 131299298128 | 60279581 | 2020-12-21 17:03:00+00:00 | 1 | Vitals                   | RR | <!----> | 2020-12-21 15:08:00+00:00 |   4 |\n",
       "| JC1751933 | 131288449551 | 53604762 | 2020-05-28 13:23:00+00:00 | 1 | RT Assess/ Treatment     | RR | <!----> | 2020-05-28 11:24:00+00:00 |   4 |\n",
       "| JC560336  | 131319175707 | 72178981 | 2021-09-02 01:26:00+00:00 | 1 | DATA VALIDATE            | RR | <!----> | 2021-09-02 01:15:00+00:00 |   5 |\n",
       "| JC3199805 | 131312173866 | 67752218 | 2021-06-20 20:19:00+00:00 | 0 | DATA VALIDATE            | RR | <!----> | 2021-06-20 18:05:00+00:00 |   5 |\n",
       "| JC3035467 | 131298094163 | 59561476 | 2020-12-08 02:12:00+00:00 | 0 | DATA VALIDATE            | RR | <!----> | 2020-12-07 23:30:00+00:00 |   6 |\n",
       "| JC515835  | 131287842740 | 53260079 | 2020-05-12 21:50:00+00:00 | 1 | DATA VALIDATE            | RR | <!----> | 2020-05-12 19:45:00+00:00 |   6 |\n",
       "| JC2980140 | 131294493222 | 57376360 | 2020-10-05 01:59:00+00:00 | 1 | Vitals                   | RR | <!----> | 2020-10-05 00:50:00+00:00 |   6 |\n",
       "| JC779332  | 131294291061 | 57249862 | 2020-08-15 07:02:00+00:00 | 1 | Vitals                   | RR | <!----> | 2020-08-14 22:58:28+00:00 |   6 |\n",
       "| JC3039140 | 131298525549 | 59825011 | 2020-11-08 06:38:00+00:00 | 0 | IIC VS                   | RR | <!----> | 2020-11-07 21:00:00+00:00 |   6 |\n",
       "| JC2587428 | 131299050562 | 60128047 | 2020-12-16 03:50:00+00:00 | 1 | Hemodynamic Measurements | RR | <!----> | 2020-12-16 02:27:02+00:00 |   6 |\n",
       "| JC544126  | 131301383890 | 61548500 | 2021-02-02 17:44:00+00:00 | 1 | Vitals                   | RR | <!----> | 2021-02-02 16:30:00+00:00 |   6 |\n",
       "| JC650403  | 131298919924 | 60046100 | 2020-12-01 00:15:00+00:00 | 1 | Hemodynamic Measurements | RR | <!----> | 2020-12-01 00:03:25+00:00 |   6 |\n",
       "| JC1366790 | 131293477612 | 56743837 | 2020-08-03 04:50:00+00:00 | 1 | Hemodynamic Measurements | RR | <!----> | 2020-08-03 04:45:00+00:00 |   6 |\n",
       "| JC1233276 | 131286808835 | 52627755 | 2020-04-27 00:37:00+00:00 | 1 | ICU VS                   | RR | <!----> | 2020-04-26 22:00:00+00:00 |   6 |\n",
       "| JC2555543 | 131287686331 | 53166814 | 2020-05-23 04:35:00+00:00 | 1 | Vitals                   | RR | <!----> | 2020-05-23 01:25:00+00:00 |   6 |\n",
       "| JC2306334 | 131308066708 | 65155609 | 2021-03-29 20:59:00+00:00 | 1 | RT Assess/ Treatment     | RR | <!----> | 2021-03-29 16:02:00+00:00 |   6 |\n",
       "| JC1521027 | 131291139063 | 55294703 | 2020-07-12 05:58:00+00:00 | 1 | Hemodynamic Measurements | RR | <!----> | 2020-07-12 05:52:18+00:00 |   6 |\n",
       "| JC3115789 | 131305732950 | 64232192 | 2021-04-05 05:51:00+00:00 | 1 | Hemodynamic Measurements | RR | <!----> | 2021-04-05 05:05:51+00:00 |   6 |\n",
       "| JC1865344 | 131290922192 | 55156615 | 2020-07-20 22:56:00+00:00 | 1 | Vitals                   | RR | <!----> | 2020-07-20 22:05:00+00:00 |   6 |\n",
       "| JC975436  | 131310392703 | 66677455 | 2021-04-18 21:08:00+00:00 | 0 | Vitals                   | RR | <!----> | 2021-04-18 15:00:00+00:00 |   6 |\n",
       "| JC3062776 | 131301045967 | 61339118 | 2020-11-29 08:55:00+00:00 | 1 | DATA VALIDATE            | RR | <!----> | 2020-11-29 08:20:00+00:00 |   7 |\n",
       "| JC2060083 | 131311729535 | 67468221 | 2021-06-27 20:31:00+00:00 | 1 | DATA VALIDATE            | RR | <!----> | 2021-06-27 20:00:00+00:00 |   7 |\n",
       "| JC776563  | 131293834568 | 56963438 | 2020-09-13 05:02:00+00:00 | 0 | DATA VALIDATE            | RR | <!----> | 2020-09-13 01:50:00+00:00 |   7 |\n",
       "| JC1260910 | 131295212270 | 57812643 | 2020-09-09 21:46:00+00:00 | 1 | Vitals                   | RR | <!----> | 2020-09-09 20:50:00+00:00 |   7 |\n",
       "| JC1233276 | 131286808835 | 52627755 | 2020-04-27 00:37:00+00:00 | 1 | Vitals                   | RR | <!----> | 2020-04-26 22:30:00+00:00 |   7 |\n",
       "| JC3083033 | 131303207399 | 62669115 | 2021-02-23 05:52:00+00:00 | 1 | DATA VALIDATE            | RR | <!----> | 2021-02-23 05:30:00+00:00 |   7 |\n",
       "| JC620071  | 131307103477 | 64703956 | 2021-04-07 21:40:00+00:00 | 1 | Vitals                   | RR | <!----> | 2021-04-07 20:05:00+00:00 |   7 |\n",
       "| JC3083033 | 131303207399 | 62669115 | 2021-02-23 05:52:00+00:00 | 1 | Vitals                   | RR | <!----> | 2021-02-23 03:30:00+00:00 |   7 |\n",
       "| JC650403  | 131298919924 | 60046100 | 2020-12-01 00:15:00+00:00 | 1 | Hemodynamic Measurements | RR | <!----> | 2020-11-30 23:19:19+00:00 |   7 |\n",
       "| JC2550271 | 131289045125 | 53978435 | 2020-05-18 23:16:00+00:00 | 1 | Hemodynamic Measurements | RR | <!----> | 2020-05-18 23:12:20+00:00 |   7 |\n",
       "| JC622645  | 131308444872 | 65397929 | 2021-03-30 22:27:00+00:00 | 1 | Vitals                   | RR | <!----> | 2021-03-30 19:00:00+00:00 |   7 |\n",
       "| JC650403  | 131298919924 | 60046100 | 2020-12-01 00:15:00+00:00 | 1 | Hemodynamic Measurements | RR | <!----> | 2020-11-30 23:43:49+00:00 |   7 |\n",
       "| JC2717058 | 131288947864 | 53917828 | 2020-05-10 00:27:00+00:00 | 1 | Vitals                   | RR | <!----> | 2020-05-09 22:00:00+00:00 |   7 |\n",
       "| JC3083033 | 131303207399 | 62669115 | 2021-02-23 05:52:00+00:00 | 1 | DATA VALIDATE            | RR | <!----> | 2021-02-23 02:03:00+00:00 |   7 |\n",
       "| JC3083033 | 131303207399 | 62669115 | 2021-02-23 05:52:00+00:00 | 1 | Violent Restraints       | RR | <!----> | 2021-02-23 04:02:00+00:00 |   7 |\n",
       "| JC2717058 | 131288947864 | 53917828 | 2020-05-10 00:27:00+00:00 | 1 | DATA VALIDATE            | RR | <!----> | 2020-05-09 22:15:00+00:00 |   7 |\n",
       "| JC2925405 | 131300055804 | 60735570 | 2020-11-28 02:36:00+00:00 | 0 | Vitals                   | RR | <!----> | 2020-11-27 22:49:00+00:00 |  71 |\n",
       "| JC2880425 | 131292597949 | 56207931 | 2020-08-17 09:26:00+00:00 | 1 | Vitals                   | RR | <!----> | 2020-08-17 09:05:00+00:00 |  81 |\n",
       "| JC528767  | 131301350964 | 61527033 | 2020-12-22 00:18:00+00:00 | 1 | Vitals                   | RR | <!----> | 2020-12-22 00:10:00+00:00 |  87 |\n",
       "| JC2946544 | 131287355492 | 52963395 | 2020-05-07 23:39:00+00:00 | 1 | RT Assess/ Treatment     | RR | <!----> | 2020-05-07 23:30:00+00:00 |  87 |\n",
       "| JC2880425 | 131292597949 | 56207931 | 2020-08-17 09:26:00+00:00 | 1 | Vitals                   | RR | <!----> | 2020-08-17 09:15:00+00:00 |  89 |\n",
       "| JC650403  | 131298919924 | 60046100 | 2020-12-01 00:15:00+00:00 | 1 | Hemodynamic Measurements | RR | <!----> | 2020-11-30 23:39:08+00:00 |  91 |\n",
       "| JC2052019 | 131287526013 | 53071647 | 2020-05-15 11:05:00+00:00 | 1 | Vitals                   | RR | <!----> | 2020-05-15 07:45:00+00:00 |  93 |\n",
       "| JC1480810 | 131309041239 | 65794433 | 2021-03-16 20:14:00+00:00 | 1 | Vitals                   | RR | <!----> | 2021-03-16 19:18:00+00:00 |  97 |\n",
       "| JC2116319 | 131288603914 | 53703347 | 2020-04-22 00:23:00+00:00 | 0 | Vitals                   | RR | <!----> | 2020-04-21 21:10:00+00:00 |  99 |\n",
       "| JC2708254 | 131298598985 | 59868714 | 2020-11-07 03:49:00+00:00 | 1 | Blood Administration     | RR | <!----> | 2020-11-07 00:05:00+00:00 |  99 |\n",
       "| JC1649667 | 131292818358 | 56342763 | 2020-09-12 04:35:00+00:00 | 0 | Vitals                   | RR | <!----> | 2020-09-11 23:46:06+00:00 | 100 |\n",
       "| JC650403  | 131298919924 | 60046100 | 2020-12-01 00:15:00+00:00 | 1 | Hemodynamic Measurements | RR | <!----> | 2020-11-30 23:48:43+00:00 | 100 |\n",
       "| JC3055087 | 131300173178 | 60808356 | 2020-12-18 21:13:00+00:00 | 1 | Hemodynamic Measurements | RR | <!----> | 2020-12-18 20:51:54+00:00 | 120 |\n",
       "\n"
      ],
      "text/plain": [
       "   anon_id   pat_enc_csn_id_coded inpatient_data_id_coded\n",
       "1  JC1763735 131316213538         70233733               \n",
       "2  JC1994408 131314327304         69095702               \n",
       "3  JC1677603 131300839159         61209571               \n",
       "4  JC2604443 131288121928         53430400               \n",
       "5  JC2604443 131288121928         53430400               \n",
       "6  JC2026433 131288771979         53808226               \n",
       "7  JC634415  131299298128         60279581               \n",
       "8  JC1751933 131288449551         53604762               \n",
       "9  JC560336  131319175707         72178981               \n",
       "10 JC3199805 131312173866         67752218               \n",
       "11 JC3035467 131298094163         59561476               \n",
       "12 JC515835  131287842740         53260079               \n",
       "13 JC2980140 131294493222         57376360               \n",
       "14 JC779332  131294291061         57249862               \n",
       "15 JC3039140 131298525549         59825011               \n",
       "16 JC2587428 131299050562         60128047               \n",
       "17 JC544126  131301383890         61548500               \n",
       "18 JC650403  131298919924         60046100               \n",
       "19 JC1366790 131293477612         56743837               \n",
       "20 JC1233276 131286808835         52627755               \n",
       "21 JC2555543 131287686331         53166814               \n",
       "22 JC2306334 131308066708         65155609               \n",
       "23 JC1521027 131291139063         55294703               \n",
       "24 JC3115789 131305732950         64232192               \n",
       "25 JC1865344 131290922192         55156615               \n",
       "26 JC975436  131310392703         66677455               \n",
       "27 JC3062776 131301045967         61339118               \n",
       "28 JC2060083 131311729535         67468221               \n",
       "29 JC776563  131293834568         56963438               \n",
       "30 JC1260910 131295212270         57812643               \n",
       "31 JC1233276 131286808835         52627755               \n",
       "32 JC3083033 131303207399         62669115               \n",
       "33 JC620071  131307103477         64703956               \n",
       "34 JC3083033 131303207399         62669115               \n",
       "35 JC650403  131298919924         60046100               \n",
       "36 JC2550271 131289045125         53978435               \n",
       "37 JC622645  131308444872         65397929               \n",
       "38 JC650403  131298919924         60046100               \n",
       "39 JC2717058 131288947864         53917828               \n",
       "40 JC3083033 131303207399         62669115               \n",
       "41 JC3083033 131303207399         62669115               \n",
       "42 JC2717058 131288947864         53917828               \n",
       "43 JC2925405 131300055804         60735570               \n",
       "44 JC2880425 131292597949         56207931               \n",
       "45 JC528767  131301350964         61527033               \n",
       "46 JC2946544 131287355492         52963395               \n",
       "47 JC2880425 131292597949         56207931               \n",
       "48 JC650403  131298919924         60046100               \n",
       "49 JC2052019 131287526013         53071647               \n",
       "50 JC1480810 131309041239         65794433               \n",
       "51 JC2116319 131288603914         53703347               \n",
       "52 JC2708254 131298598985         59868714               \n",
       "53 JC1649667 131292818358         56342763               \n",
       "54 JC650403  131298919924         60046100               \n",
       "55 JC3055087 131300173178         60808356               \n",
       "   admit_time                label template                 features units\n",
       "1  2021-08-13 23:32:00+00:00 1     Hemodynamic Measurements RR            \n",
       "2  2021-07-10 19:09:00+00:00 0     Stroke                   RR            \n",
       "3  2020-12-14 23:00:00+00:00 0     ICU VS                   RR            \n",
       "4  2020-05-23 14:41:00+00:00 1     Vitals                   RR            \n",
       "5  2020-05-23 14:41:00+00:00 1     DATA VALIDATE            RR            \n",
       "6  2020-06-08 02:29:00+00:00 0     Vitals                   RR            \n",
       "7  2020-12-21 17:03:00+00:00 1     Vitals                   RR            \n",
       "8  2020-05-28 13:23:00+00:00 1     RT Assess/ Treatment     RR            \n",
       "9  2021-09-02 01:26:00+00:00 1     DATA VALIDATE            RR            \n",
       "10 2021-06-20 20:19:00+00:00 0     DATA VALIDATE            RR            \n",
       "11 2020-12-08 02:12:00+00:00 0     DATA VALIDATE            RR            \n",
       "12 2020-05-12 21:50:00+00:00 1     DATA VALIDATE            RR            \n",
       "13 2020-10-05 01:59:00+00:00 1     Vitals                   RR            \n",
       "14 2020-08-15 07:02:00+00:00 1     Vitals                   RR            \n",
       "15 2020-11-08 06:38:00+00:00 0     IIC VS                   RR            \n",
       "16 2020-12-16 03:50:00+00:00 1     Hemodynamic Measurements RR            \n",
       "17 2021-02-02 17:44:00+00:00 1     Vitals                   RR            \n",
       "18 2020-12-01 00:15:00+00:00 1     Hemodynamic Measurements RR            \n",
       "19 2020-08-03 04:50:00+00:00 1     Hemodynamic Measurements RR            \n",
       "20 2020-04-27 00:37:00+00:00 1     ICU VS                   RR            \n",
       "21 2020-05-23 04:35:00+00:00 1     Vitals                   RR            \n",
       "22 2021-03-29 20:59:00+00:00 1     RT Assess/ Treatment     RR            \n",
       "23 2020-07-12 05:58:00+00:00 1     Hemodynamic Measurements RR            \n",
       "24 2021-04-05 05:51:00+00:00 1     Hemodynamic Measurements RR            \n",
       "25 2020-07-20 22:56:00+00:00 1     Vitals                   RR            \n",
       "26 2021-04-18 21:08:00+00:00 0     Vitals                   RR            \n",
       "27 2020-11-29 08:55:00+00:00 1     DATA VALIDATE            RR            \n",
       "28 2021-06-27 20:31:00+00:00 1     DATA VALIDATE            RR            \n",
       "29 2020-09-13 05:02:00+00:00 0     DATA VALIDATE            RR            \n",
       "30 2020-09-09 21:46:00+00:00 1     Vitals                   RR            \n",
       "31 2020-04-27 00:37:00+00:00 1     Vitals                   RR            \n",
       "32 2021-02-23 05:52:00+00:00 1     DATA VALIDATE            RR            \n",
       "33 2021-04-07 21:40:00+00:00 1     Vitals                   RR            \n",
       "34 2021-02-23 05:52:00+00:00 1     Vitals                   RR            \n",
       "35 2020-12-01 00:15:00+00:00 1     Hemodynamic Measurements RR            \n",
       "36 2020-05-18 23:16:00+00:00 1     Hemodynamic Measurements RR            \n",
       "37 2021-03-30 22:27:00+00:00 1     Vitals                   RR            \n",
       "38 2020-12-01 00:15:00+00:00 1     Hemodynamic Measurements RR            \n",
       "39 2020-05-10 00:27:00+00:00 1     Vitals                   RR            \n",
       "40 2021-02-23 05:52:00+00:00 1     DATA VALIDATE            RR            \n",
       "41 2021-02-23 05:52:00+00:00 1     Violent Restraints       RR            \n",
       "42 2020-05-10 00:27:00+00:00 1     DATA VALIDATE            RR            \n",
       "43 2020-11-28 02:36:00+00:00 0     Vitals                   RR            \n",
       "44 2020-08-17 09:26:00+00:00 1     Vitals                   RR            \n",
       "45 2020-12-22 00:18:00+00:00 1     Vitals                   RR            \n",
       "46 2020-05-07 23:39:00+00:00 1     RT Assess/ Treatment     RR            \n",
       "47 2020-08-17 09:26:00+00:00 1     Vitals                   RR            \n",
       "48 2020-12-01 00:15:00+00:00 1     Hemodynamic Measurements RR            \n",
       "49 2020-05-15 11:05:00+00:00 1     Vitals                   RR            \n",
       "50 2021-03-16 20:14:00+00:00 1     Vitals                   RR            \n",
       "51 2020-04-22 00:23:00+00:00 0     Vitals                   RR            \n",
       "52 2020-11-07 03:49:00+00:00 1     Blood Administration     RR            \n",
       "53 2020-09-12 04:35:00+00:00 0     Vitals                   RR            \n",
       "54 2020-12-01 00:15:00+00:00 1     Hemodynamic Measurements RR            \n",
       "55 2020-12-18 21:13:00+00:00 1     Hemodynamic Measurements RR            \n",
       "   recorded_time             values\n",
       "1  2021-08-13 23:21:16+00:00   1   \n",
       "2  2021-07-10 16:50:00+00:00   2   \n",
       "3  2020-12-14 19:00:00+00:00   2   \n",
       "4  2020-05-23 13:00:00+00:00   2   \n",
       "5  2020-05-23 12:00:00+00:00   2   \n",
       "6  2020-06-07 23:00:00+00:00   4   \n",
       "7  2020-12-21 15:08:00+00:00   4   \n",
       "8  2020-05-28 11:24:00+00:00   4   \n",
       "9  2021-09-02 01:15:00+00:00   5   \n",
       "10 2021-06-20 18:05:00+00:00   5   \n",
       "11 2020-12-07 23:30:00+00:00   6   \n",
       "12 2020-05-12 19:45:00+00:00   6   \n",
       "13 2020-10-05 00:50:00+00:00   6   \n",
       "14 2020-08-14 22:58:28+00:00   6   \n",
       "15 2020-11-07 21:00:00+00:00   6   \n",
       "16 2020-12-16 02:27:02+00:00   6   \n",
       "17 2021-02-02 16:30:00+00:00   6   \n",
       "18 2020-12-01 00:03:25+00:00   6   \n",
       "19 2020-08-03 04:45:00+00:00   6   \n",
       "20 2020-04-26 22:00:00+00:00   6   \n",
       "21 2020-05-23 01:25:00+00:00   6   \n",
       "22 2021-03-29 16:02:00+00:00   6   \n",
       "23 2020-07-12 05:52:18+00:00   6   \n",
       "24 2021-04-05 05:05:51+00:00   6   \n",
       "25 2020-07-20 22:05:00+00:00   6   \n",
       "26 2021-04-18 15:00:00+00:00   6   \n",
       "27 2020-11-29 08:20:00+00:00   7   \n",
       "28 2021-06-27 20:00:00+00:00   7   \n",
       "29 2020-09-13 01:50:00+00:00   7   \n",
       "30 2020-09-09 20:50:00+00:00   7   \n",
       "31 2020-04-26 22:30:00+00:00   7   \n",
       "32 2021-02-23 05:30:00+00:00   7   \n",
       "33 2021-04-07 20:05:00+00:00   7   \n",
       "34 2021-02-23 03:30:00+00:00   7   \n",
       "35 2020-11-30 23:19:19+00:00   7   \n",
       "36 2020-05-18 23:12:20+00:00   7   \n",
       "37 2021-03-30 19:00:00+00:00   7   \n",
       "38 2020-11-30 23:43:49+00:00   7   \n",
       "39 2020-05-09 22:00:00+00:00   7   \n",
       "40 2021-02-23 02:03:00+00:00   7   \n",
       "41 2021-02-23 04:02:00+00:00   7   \n",
       "42 2020-05-09 22:15:00+00:00   7   \n",
       "43 2020-11-27 22:49:00+00:00  71   \n",
       "44 2020-08-17 09:05:00+00:00  81   \n",
       "45 2020-12-22 00:10:00+00:00  87   \n",
       "46 2020-05-07 23:30:00+00:00  87   \n",
       "47 2020-08-17 09:15:00+00:00  89   \n",
       "48 2020-11-30 23:39:08+00:00  91   \n",
       "49 2020-05-15 07:45:00+00:00  93   \n",
       "50 2021-03-16 19:18:00+00:00  97   \n",
       "51 2020-04-21 21:10:00+00:00  99   \n",
       "52 2020-11-07 00:05:00+00:00  99   \n",
       "53 2020-09-11 23:46:06+00:00 100   \n",
       "54 2020-11-30 23:48:43+00:00 100   \n",
       "55 2020-12-18 20:51:54+00:00 120   "
      ]
     },
     "metadata": {},
     "output_type": "display_data"
    },
    {
     "data": {
      "image/png": "[encoded data removed]",
      "text/plain": [
       "Plot with title “Histogram of df[df$values > 50, ]$values”"
      ]
     },
     "metadata": {
      "image/png": {
       "height": 420,
       "width": 420
      }
     },
     "output_type": "display_data"
    },
    {
     "data": {
      "image/png": "[encoded data removed]",
      "text/plain": [
       "Plot with title “Histogram of df[df$values < 10, ]$values”"
      ]
     },
     "metadata": {
      "image/png": {
       "height": 420,
       "width": 420
      }
     },
     "output_type": "display_data"
    }
   ],
   "source": [
    "df <- vitals %>% filter(features == \"RR\")\n",
    "nrow(filter(df, values > 70 | values < 8))\n",
    "\n",
    "# there are some 0\n",
    "filter(df, values > 70 | values < 8 & values > 0) %>% arrange(values)\n",
    "\n",
    "hist(df[df$values > 50,]$values, breaks=100)\n",
    "hist(df[df$values < 10,]$values, breaks=10)"
   ]
  },
  {
   "cell_type": "code",
   "execution_count": 28,
   "metadata": {},
   "outputs": [
    {
     "data": {
      "text/html": [
       "<style>\n",
       ".list-inline {list-style: none; margin:0; padding: 0}\n",
       ".list-inline>li {display: inline-block}\n",
       ".list-inline>li:not(:last-child)::after {content: \"\\00b7\"; padding: 0 .5ex}\n",
       "</style>\n",
       "<ol class=list-inline><li>'RR'</li><li>'SBP'</li><li>'Temp'</li><li>'Pulse'</li></ol>\n"
      ],
      "text/latex": [
       "\\begin{enumerate*}\n",
       "\\item 'RR'\n",
       "\\item 'SBP'\n",
       "\\item 'Temp'\n",
       "\\item 'Pulse'\n",
       "\\end{enumerate*}\n"
      ],
      "text/markdown": [
       "1. 'RR'\n",
       "2. 'SBP'\n",
       "3. 'Temp'\n",
       "4. 'Pulse'\n",
       "\n",
       "\n"
      ],
      "text/plain": [
       "[1] \"RR\"    \"SBP\"   \"Temp\"  \"Pulse\""
      ]
     },
     "metadata": {},
     "output_type": "display_data"
    },
    {
     "data": {
      "text/plain": [
       "   Min. 1st Qu.  Median    Mean 3rd Qu.    Max.    NA's \n",
       "   0.00   26.00   85.00   76.96  110.00  270.00     943 "
      ]
     },
     "metadata": {},
     "output_type": "display_data"
    },
    {
     "data": {
      "text/html": [
       "<table class=\"dataframe\">\n",
       "<caption>A data.frame: 6 × 10</caption>\n",
       "<thead>\n",
       "\t<tr><th></th><th scope=col>anon_id</th><th scope=col>pat_enc_csn_id_coded</th><th scope=col>inpatient_data_id_coded</th><th scope=col>admit_time</th><th scope=col>label</th><th scope=col>template</th><th scope=col>features</th><th scope=col>units</th><th scope=col>recorded_time</th><th scope=col>values</th></tr>\n",
       "\t<tr><th></th><th scope=col>&lt;chr&gt;</th><th scope=col>&lt;dbl&gt;</th><th scope=col>&lt;int&gt;</th><th scope=col>&lt;chr&gt;</th><th scope=col>&lt;int&gt;</th><th scope=col>&lt;chr&gt;</th><th scope=col>&lt;chr&gt;</th><th scope=col>&lt;chr&gt;</th><th scope=col>&lt;chr&gt;</th><th scope=col>&lt;dbl&gt;</th></tr>\n",
       "</thead>\n",
       "<tbody>\n",
       "\t<tr><th scope=row>1</th><td>JC1805086</td><td>1.31312e+11</td><td>67623416</td><td>2021-06-12 17:54:00+00:00</td><td>0</td><td>DATA VALIDATE</td><td>RR</td><td>bpm</td><td>2021-06-12 05:18:00+00:00</td><td>18</td></tr>\n",
       "\t<tr><th scope=row>2</th><td>JC1805086</td><td>1.31312e+11</td><td>67623416</td><td>2021-06-12 17:54:00+00:00</td><td>0</td><td>DATA VALIDATE</td><td>RR</td><td>bpm</td><td>2021-06-12 05:12:00+00:00</td><td>12</td></tr>\n",
       "\t<tr><th scope=row>3</th><td>JC1805086</td><td>1.31312e+11</td><td>67623416</td><td>2021-06-12 17:54:00+00:00</td><td>0</td><td>DATA VALIDATE</td><td>RR</td><td>bpm</td><td>2021-06-12 05:09:00+00:00</td><td>10</td></tr>\n",
       "\t<tr><th scope=row>4</th><td>JC1805086</td><td>1.31312e+11</td><td>67623416</td><td>2021-06-12 17:54:00+00:00</td><td>0</td><td>DATA VALIDATE</td><td>RR</td><td>bpm</td><td>2021-06-12 04:57:00+00:00</td><td>17</td></tr>\n",
       "\t<tr><th scope=row>5</th><td>JC1805086</td><td>1.31312e+11</td><td>67623416</td><td>2021-06-12 17:54:00+00:00</td><td>0</td><td>DATA VALIDATE</td><td>RR</td><td>bpm</td><td>2021-06-12 05:24:00+00:00</td><td>19</td></tr>\n",
       "\t<tr><th scope=row>6</th><td>JC1805086</td><td>1.31312e+11</td><td>67623416</td><td>2021-06-12 17:54:00+00:00</td><td>0</td><td>DATA VALIDATE</td><td>RR</td><td>bpm</td><td>2021-06-12 05:00:00+00:00</td><td>20</td></tr>\n",
       "</tbody>\n",
       "</table>\n"
      ],
      "text/latex": [
       "A data.frame: 6 × 10\n",
       "\\begin{tabular}{r|llllllllll}\n",
       "  & anon\\_id & pat\\_enc\\_csn\\_id\\_coded & inpatient\\_data\\_id\\_coded & admit\\_time & label & template & features & units & recorded\\_time & values\\\\\n",
       "  & <chr> & <dbl> & <int> & <chr> & <int> & <chr> & <chr> & <chr> & <chr> & <dbl>\\\\\n",
       "\\hline\n",
       "\t1 & JC1805086 & 1.31312e+11 & 67623416 & 2021-06-12 17:54:00+00:00 & 0 & DATA VALIDATE & RR & bpm & 2021-06-12 05:18:00+00:00 & 18\\\\\n",
       "\t2 & JC1805086 & 1.31312e+11 & 67623416 & 2021-06-12 17:54:00+00:00 & 0 & DATA VALIDATE & RR & bpm & 2021-06-12 05:12:00+00:00 & 12\\\\\n",
       "\t3 & JC1805086 & 1.31312e+11 & 67623416 & 2021-06-12 17:54:00+00:00 & 0 & DATA VALIDATE & RR & bpm & 2021-06-12 05:09:00+00:00 & 10\\\\\n",
       "\t4 & JC1805086 & 1.31312e+11 & 67623416 & 2021-06-12 17:54:00+00:00 & 0 & DATA VALIDATE & RR & bpm & 2021-06-12 04:57:00+00:00 & 17\\\\\n",
       "\t5 & JC1805086 & 1.31312e+11 & 67623416 & 2021-06-12 17:54:00+00:00 & 0 & DATA VALIDATE & RR & bpm & 2021-06-12 05:24:00+00:00 & 19\\\\\n",
       "\t6 & JC1805086 & 1.31312e+11 & 67623416 & 2021-06-12 17:54:00+00:00 & 0 & DATA VALIDATE & RR & bpm & 2021-06-12 05:00:00+00:00 & 20\\\\\n",
       "\\end{tabular}\n"
      ],
      "text/markdown": [
       "\n",
       "A data.frame: 6 × 10\n",
       "\n",
       "| <!--/--> | anon_id &lt;chr&gt; | pat_enc_csn_id_coded &lt;dbl&gt; | inpatient_data_id_coded &lt;int&gt; | admit_time &lt;chr&gt; | label &lt;int&gt; | template &lt;chr&gt; | features &lt;chr&gt; | units &lt;chr&gt; | recorded_time &lt;chr&gt; | values &lt;dbl&gt; |\n",
       "|---|---|---|---|---|---|---|---|---|---|---|\n",
       "| 1 | JC1805086 | 1.31312e+11 | 67623416 | 2021-06-12 17:54:00+00:00 | 0 | DATA VALIDATE | RR | bpm | 2021-06-12 05:18:00+00:00 | 18 |\n",
       "| 2 | JC1805086 | 1.31312e+11 | 67623416 | 2021-06-12 17:54:00+00:00 | 0 | DATA VALIDATE | RR | bpm | 2021-06-12 05:12:00+00:00 | 12 |\n",
       "| 3 | JC1805086 | 1.31312e+11 | 67623416 | 2021-06-12 17:54:00+00:00 | 0 | DATA VALIDATE | RR | bpm | 2021-06-12 05:09:00+00:00 | 10 |\n",
       "| 4 | JC1805086 | 1.31312e+11 | 67623416 | 2021-06-12 17:54:00+00:00 | 0 | DATA VALIDATE | RR | bpm | 2021-06-12 04:57:00+00:00 | 17 |\n",
       "| 5 | JC1805086 | 1.31312e+11 | 67623416 | 2021-06-12 17:54:00+00:00 | 0 | DATA VALIDATE | RR | bpm | 2021-06-12 05:24:00+00:00 | 19 |\n",
       "| 6 | JC1805086 | 1.31312e+11 | 67623416 | 2021-06-12 17:54:00+00:00 | 0 | DATA VALIDATE | RR | bpm | 2021-06-12 05:00:00+00:00 | 20 |\n",
       "\n"
      ],
      "text/plain": [
       "  anon_id   pat_enc_csn_id_coded inpatient_data_id_coded\n",
       "1 JC1805086 1.31312e+11          67623416               \n",
       "2 JC1805086 1.31312e+11          67623416               \n",
       "3 JC1805086 1.31312e+11          67623416               \n",
       "4 JC1805086 1.31312e+11          67623416               \n",
       "5 JC1805086 1.31312e+11          67623416               \n",
       "6 JC1805086 1.31312e+11          67623416               \n",
       "  admit_time                label template      features units\n",
       "1 2021-06-12 17:54:00+00:00 0     DATA VALIDATE RR       bpm  \n",
       "2 2021-06-12 17:54:00+00:00 0     DATA VALIDATE RR       bpm  \n",
       "3 2021-06-12 17:54:00+00:00 0     DATA VALIDATE RR       bpm  \n",
       "4 2021-06-12 17:54:00+00:00 0     DATA VALIDATE RR       bpm  \n",
       "5 2021-06-12 17:54:00+00:00 0     DATA VALIDATE RR       bpm  \n",
       "6 2021-06-12 17:54:00+00:00 0     DATA VALIDATE RR       bpm  \n",
       "  recorded_time             values\n",
       "1 2021-06-12 05:18:00+00:00 18    \n",
       "2 2021-06-12 05:12:00+00:00 12    \n",
       "3 2021-06-12 05:09:00+00:00 10    \n",
       "4 2021-06-12 04:57:00+00:00 17    \n",
       "5 2021-06-12 05:24:00+00:00 19    \n",
       "6 2021-06-12 05:00:00+00:00 20    "
      ]
     },
     "metadata": {},
     "output_type": "display_data"
    }
   ],
   "source": [
    "unique(vitals$features)\n",
    "summary(vitals$values)\n",
    "\n",
    "head(vitals)"
   ]
  },
  {
   "cell_type": "markdown",
   "metadata": {},
   "source": [
    "### Clean the variables: Temp, SBP, Pulse, and RR"
   ]
  },
  {
   "cell_type": "code",
   "execution_count": 29,
   "metadata": {},
   "outputs": [
    {
     "data": {
      "text/plain": [
       "     values     \n",
       " Min.   : 9.00  \n",
       " 1st Qu.:36.60  \n",
       " Median :37.00  \n",
       " Mean   :36.95  \n",
       " 3rd Qu.:37.00  \n",
       " Max.   :41.10  \n",
       " NA's   :304    "
      ]
     },
     "metadata": {},
     "output_type": "display_data"
    }
   ],
   "source": [
    "# nothing btwn 45-47, so if > 45 (or actually num_value1 >= 75), convert to C\n",
    "# replace num_value1 < 20 --> only 2: 0.1 and 9.4 for Temp, and a bunch for Temp(in C)\n",
    "vitals <- vitals %>% \n",
    "            mutate(values=ifelse(features==\"Temp\",                                  \n",
    "                                 ifelse(values < 26, NA,\n",
    "                                         ifelse(values <= 45, values, round((values - 32)*5.0/9.0))), values))\n",
    "\n",
    "summary(vitals %>% filter(features == \"Temp\") %>% select(values))"
   ]
  },
  {
   "cell_type": "code",
   "execution_count": 30,
   "metadata": {},
   "outputs": [
    {
     "data": {
      "text/html": [
       "317473"
      ],
      "text/latex": [
       "317473"
      ],
      "text/markdown": [
       "317473"
      ],
      "text/plain": [
       "[1] 317473"
      ]
     },
     "metadata": {},
     "output_type": "display_data"
    },
    {
     "data": {
      "text/html": [
       "<table class=\"dataframe\">\n",
       "<caption>A data.frame: 4 × 2</caption>\n",
       "<thead>\n",
       "\t<tr><th scope=col>features</th><th scope=col>n</th></tr>\n",
       "\t<tr><th scope=col>&lt;chr&gt;</th><th scope=col>&lt;int&gt;</th></tr>\n",
       "</thead>\n",
       "<tbody>\n",
       "\t<tr><td>Pulse</td><td>94641</td></tr>\n",
       "\t<tr><td>RR   </td><td>89497</td></tr>\n",
       "\t<tr><td>SBP  </td><td>85044</td></tr>\n",
       "\t<tr><td>Temp </td><td>48291</td></tr>\n",
       "</tbody>\n",
       "</table>\n"
      ],
      "text/latex": [
       "A data.frame: 4 × 2\n",
       "\\begin{tabular}{ll}\n",
       " features & n\\\\\n",
       " <chr> & <int>\\\\\n",
       "\\hline\n",
       "\t Pulse & 94641\\\\\n",
       "\t RR    & 89497\\\\\n",
       "\t SBP   & 85044\\\\\n",
       "\t Temp  & 48291\\\\\n",
       "\\end{tabular}\n"
      ],
      "text/markdown": [
       "\n",
       "A data.frame: 4 × 2\n",
       "\n",
       "| features &lt;chr&gt; | n &lt;int&gt; |\n",
       "|---|---|\n",
       "| Pulse | 94641 |\n",
       "| RR    | 89497 |\n",
       "| SBP   | 85044 |\n",
       "| Temp  | 48291 |\n",
       "\n"
      ],
      "text/plain": [
       "  features n    \n",
       "1 Pulse    94641\n",
       "2 RR       89497\n",
       "3 SBP      85044\n",
       "4 Temp     48291"
      ]
     },
     "metadata": {},
     "output_type": "display_data"
    },
    {
     "data": {
      "text/html": [
       "17111"
      ],
      "text/latex": [
       "17111"
      ],
      "text/markdown": [
       "17111"
      ],
      "text/plain": [
       "[1] 17111"
      ]
     },
     "metadata": {},
     "output_type": "display_data"
    }
   ],
   "source": [
    "# remove  all NA's, by each feature, as the data is in the long format,\n",
    "# keep only distinct rows, ok with recorded_time same but different values\n",
    "vitals <- vitals %>% \n",
    "            mutate(values = ifelse(features == \"SBP\" & values < 30, NA, # < 33 or 30 same effect & > 310 old\n",
    "                             ifelse(features == \"Pulse\" & values < 11, NA, # 21 before\n",
    "                                 ifelse(features == \"RR\" & (values < 5 | values > 60), NA, # 60 before (tried 70)\n",
    "                                         ifelse(features == \"Temp\" & values < 26, NA, values))))) %>%  # 29 before, 26 min here\n",
    "            drop_na(values) %>% distinct()\n",
    "\n",
    "nrow(vitals) # 45613\n",
    "vitals %>% count(features) %>% arrange(-n)\n",
    "nrow(vitals %>% select(anon_id, pat_enc_csn_id_coded) %>% distinct())"
   ]
  },
  {
   "cell_type": "code",
   "execution_count": 31,
   "metadata": {},
   "outputs": [
    {
     "name": "stdout",
     "output_type": "stream",
     "text": [
      "[1] \"Pulse\"\n",
      "   Min. 1st Qu.  Median    Mean 3rd Qu.    Max. \n",
      "  18.00   73.00   87.00   88.78  102.00  262.00 \n",
      "[1] \"RR\"\n",
      "   Min. 1st Qu.  Median    Mean 3rd Qu.    Max. \n",
      "   5.00   16.00   18.00   19.71   22.00   60.00 \n"
     ]
    },
    {
     "data": {
      "image/png": "[encoded data removed]",
      "text/plain": [
       "Plot with title “Pulse”"
      ]
     },
     "metadata": {
      "image/png": {
       "height": 420,
       "width": 420
      }
     },
     "output_type": "display_data"
    },
    {
     "name": "stdout",
     "output_type": "stream",
     "text": [
      "[1] \"SBP\"\n",
      "   Min. 1st Qu.  Median    Mean 3rd Qu.    Max. \n",
      "   30.0   111.0   127.0   128.6   144.0   270.0 \n"
     ]
    },
    {
     "data": {
      "image/png": "[encoded data removed]",
      "text/plain": [
       "Plot with title “RR”"
      ]
     },
     "metadata": {
      "image/png": {
       "height": 420,
       "width": 420
      }
     },
     "output_type": "display_data"
    },
    {
     "name": "stdout",
     "output_type": "stream",
     "text": [
      "[1] \"Temp\"\n",
      "   Min. 1st Qu.  Median    Mean 3rd Qu.    Max. \n",
      "  28.00   36.60   37.00   36.95   37.00   41.10 \n"
     ]
    },
    {
     "data": {
      "image/png": "[encoded data removed]",
      "text/plain": [
       "Plot with title “SBP”"
      ]
     },
     "metadata": {
      "image/png": {
       "height": 420,
       "width": 420
      }
     },
     "output_type": "display_data"
    },
    {
     "data": {
      "image/png": "[encoded data removed]",
      "text/plain": [
       "Plot with title “Temp”"
      ]
     },
     "metadata": {
      "image/png": {
       "height": 420,
       "width": 420
      }
     },
     "output_type": "display_data"
    }
   ],
   "source": [
    "for (f in fs_feats){\n",
    "    print(f)\n",
    "    df = vitals %>% select(features, values) %>%  filter(features==f)\n",
    "    val = df$values\n",
    "    print(summary(val))\n",
    "    hist(val, main = f, col=\"dodgerblue\", xlim=c(min(val), max(val)), breaks= 120)\n",
    "}"
   ]
  },
  {
   "cell_type": "code",
   "execution_count": 32,
   "metadata": {},
   "outputs": [
    {
     "name": "stdout",
     "output_type": "stream",
     "text": [
      "[1] \"Pulse\"\n",
      "[1] 0\n",
      "[1] \"RR\"\n",
      "[1] 0\n",
      "[1] \"SBP\"\n",
      "[1] 0\n",
      "[1] \"Temp\"\n",
      "[1] 108\n"
     ]
    }
   ],
   "source": [
    "# look at duplicates rows with same recorded time, but different values. \n",
    "for (f in fs_feats){\n",
    "    print(f)\n",
    "    df <- vitals %>% filter(features == f) %>% group_by_at(vars(-values)) %>% filter(n() > 1)\n",
    "    print(nrow(df))\n",
    "}"
   ]
  },
  {
   "cell_type": "code",
   "execution_count": 33,
   "metadata": {},
   "outputs": [
    {
     "data": {
      "text/html": [
       "<table class=\"dataframe\">\n",
       "<caption>A grouped_df: 0 × 10</caption>\n",
       "<thead>\n",
       "\t<tr><th scope=col>anon_id</th><th scope=col>pat_enc_csn_id_coded</th><th scope=col>inpatient_data_id_coded</th><th scope=col>admit_time</th><th scope=col>label</th><th scope=col>template</th><th scope=col>features</th><th scope=col>units</th><th scope=col>recorded_time</th><th scope=col>values</th></tr>\n",
       "\t<tr><th scope=col>&lt;chr&gt;</th><th scope=col>&lt;dbl&gt;</th><th scope=col>&lt;int&gt;</th><th scope=col>&lt;chr&gt;</th><th scope=col>&lt;int&gt;</th><th scope=col>&lt;chr&gt;</th><th scope=col>&lt;chr&gt;</th><th scope=col>&lt;chr&gt;</th><th scope=col>&lt;chr&gt;</th><th scope=col>&lt;dbl&gt;</th></tr>\n",
       "</thead>\n",
       "<tbody>\n",
       "</tbody>\n",
       "</table>\n"
      ],
      "text/latex": [
       "A grouped\\_df: 0 × 10\n",
       "\\begin{tabular}{llllllllll}\n",
       " anon\\_id & pat\\_enc\\_csn\\_id\\_coded & inpatient\\_data\\_id\\_coded & admit\\_time & label & template & features & units & recorded\\_time & values\\\\\n",
       " <chr> & <dbl> & <int> & <chr> & <int> & <chr> & <chr> & <chr> & <chr> & <dbl>\\\\\n",
       "\\hline\n",
       "\\end{tabular}\n"
      ],
      "text/markdown": [
       "\n",
       "A grouped_df: 0 × 10\n",
       "\n",
       "| anon_id &lt;chr&gt; | pat_enc_csn_id_coded &lt;dbl&gt; | inpatient_data_id_coded &lt;int&gt; | admit_time &lt;chr&gt; | label &lt;int&gt; | template &lt;chr&gt; | features &lt;chr&gt; | units &lt;chr&gt; | recorded_time &lt;chr&gt; | values &lt;dbl&gt; |\n",
       "|---|---|---|---|---|---|---|---|---|---|\n",
       "\n"
      ],
      "text/plain": [
       "     anon_id pat_enc_csn_id_coded inpatient_data_id_coded admit_time label\n",
       "     template features units recorded_time values"
      ]
     },
     "metadata": {},
     "output_type": "display_data"
    },
    {
     "data": {
      "text/html": [
       "<table class=\"dataframe\">\n",
       "<caption>A grouped_df: 0 × 10</caption>\n",
       "<thead>\n",
       "\t<tr><th scope=col>anon_id</th><th scope=col>pat_enc_csn_id_coded</th><th scope=col>inpatient_data_id_coded</th><th scope=col>admit_time</th><th scope=col>label</th><th scope=col>template</th><th scope=col>features</th><th scope=col>units</th><th scope=col>recorded_time</th><th scope=col>values</th></tr>\n",
       "\t<tr><th scope=col>&lt;chr&gt;</th><th scope=col>&lt;dbl&gt;</th><th scope=col>&lt;int&gt;</th><th scope=col>&lt;chr&gt;</th><th scope=col>&lt;int&gt;</th><th scope=col>&lt;chr&gt;</th><th scope=col>&lt;chr&gt;</th><th scope=col>&lt;chr&gt;</th><th scope=col>&lt;chr&gt;</th><th scope=col>&lt;dbl&gt;</th></tr>\n",
       "</thead>\n",
       "<tbody>\n",
       "</tbody>\n",
       "</table>\n"
      ],
      "text/latex": [
       "A grouped\\_df: 0 × 10\n",
       "\\begin{tabular}{llllllllll}\n",
       " anon\\_id & pat\\_enc\\_csn\\_id\\_coded & inpatient\\_data\\_id\\_coded & admit\\_time & label & template & features & units & recorded\\_time & values\\\\\n",
       " <chr> & <dbl> & <int> & <chr> & <int> & <chr> & <chr> & <chr> & <chr> & <dbl>\\\\\n",
       "\\hline\n",
       "\\end{tabular}\n"
      ],
      "text/markdown": [
       "\n",
       "A grouped_df: 0 × 10\n",
       "\n",
       "| anon_id &lt;chr&gt; | pat_enc_csn_id_coded &lt;dbl&gt; | inpatient_data_id_coded &lt;int&gt; | admit_time &lt;chr&gt; | label &lt;int&gt; | template &lt;chr&gt; | features &lt;chr&gt; | units &lt;chr&gt; | recorded_time &lt;chr&gt; | values &lt;dbl&gt; |\n",
       "|---|---|---|---|---|---|---|---|---|---|\n",
       "\n"
      ],
      "text/plain": [
       "     anon_id pat_enc_csn_id_coded inpatient_data_id_coded admit_time label\n",
       "     template features units recorded_time values"
      ]
     },
     "metadata": {},
     "output_type": "display_data"
    },
    {
     "data": {
      "text/html": [
       "<table class=\"dataframe\">\n",
       "<caption>A grouped_df: 0 × 10</caption>\n",
       "<thead>\n",
       "\t<tr><th scope=col>anon_id</th><th scope=col>pat_enc_csn_id_coded</th><th scope=col>inpatient_data_id_coded</th><th scope=col>admit_time</th><th scope=col>label</th><th scope=col>template</th><th scope=col>features</th><th scope=col>units</th><th scope=col>recorded_time</th><th scope=col>values</th></tr>\n",
       "\t<tr><th scope=col>&lt;chr&gt;</th><th scope=col>&lt;dbl&gt;</th><th scope=col>&lt;int&gt;</th><th scope=col>&lt;chr&gt;</th><th scope=col>&lt;int&gt;</th><th scope=col>&lt;chr&gt;</th><th scope=col>&lt;chr&gt;</th><th scope=col>&lt;chr&gt;</th><th scope=col>&lt;chr&gt;</th><th scope=col>&lt;dbl&gt;</th></tr>\n",
       "</thead>\n",
       "<tbody>\n",
       "</tbody>\n",
       "</table>\n"
      ],
      "text/latex": [
       "A grouped\\_df: 0 × 10\n",
       "\\begin{tabular}{llllllllll}\n",
       " anon\\_id & pat\\_enc\\_csn\\_id\\_coded & inpatient\\_data\\_id\\_coded & admit\\_time & label & template & features & units & recorded\\_time & values\\\\\n",
       " <chr> & <dbl> & <int> & <chr> & <int> & <chr> & <chr> & <chr> & <chr> & <dbl>\\\\\n",
       "\\hline\n",
       "\\end{tabular}\n"
      ],
      "text/markdown": [
       "\n",
       "A grouped_df: 0 × 10\n",
       "\n",
       "| anon_id &lt;chr&gt; | pat_enc_csn_id_coded &lt;dbl&gt; | inpatient_data_id_coded &lt;int&gt; | admit_time &lt;chr&gt; | label &lt;int&gt; | template &lt;chr&gt; | features &lt;chr&gt; | units &lt;chr&gt; | recorded_time &lt;chr&gt; | values &lt;dbl&gt; |\n",
       "|---|---|---|---|---|---|---|---|---|---|\n",
       "\n"
      ],
      "text/plain": [
       "     anon_id pat_enc_csn_id_coded inpatient_data_id_coded admit_time label\n",
       "     template features units recorded_time values"
      ]
     },
     "metadata": {},
     "output_type": "display_data"
    },
    {
     "data": {
      "text/html": [
       "<table class=\"dataframe\">\n",
       "<caption>A grouped_df: 0 × 10</caption>\n",
       "<thead>\n",
       "\t<tr><th scope=col>anon_id</th><th scope=col>pat_enc_csn_id_coded</th><th scope=col>inpatient_data_id_coded</th><th scope=col>admit_time</th><th scope=col>label</th><th scope=col>template</th><th scope=col>features</th><th scope=col>units</th><th scope=col>recorded_time</th><th scope=col>values</th></tr>\n",
       "\t<tr><th scope=col>&lt;chr&gt;</th><th scope=col>&lt;dbl&gt;</th><th scope=col>&lt;int&gt;</th><th scope=col>&lt;chr&gt;</th><th scope=col>&lt;int&gt;</th><th scope=col>&lt;chr&gt;</th><th scope=col>&lt;chr&gt;</th><th scope=col>&lt;chr&gt;</th><th scope=col>&lt;chr&gt;</th><th scope=col>&lt;dbl&gt;</th></tr>\n",
       "</thead>\n",
       "<tbody>\n",
       "</tbody>\n",
       "</table>\n"
      ],
      "text/latex": [
       "A grouped\\_df: 0 × 10\n",
       "\\begin{tabular}{llllllllll}\n",
       " anon\\_id & pat\\_enc\\_csn\\_id\\_coded & inpatient\\_data\\_id\\_coded & admit\\_time & label & template & features & units & recorded\\_time & values\\\\\n",
       " <chr> & <dbl> & <int> & <chr> & <int> & <chr> & <chr> & <chr> & <chr> & <dbl>\\\\\n",
       "\\hline\n",
       "\\end{tabular}\n"
      ],
      "text/markdown": [
       "\n",
       "A grouped_df: 0 × 10\n",
       "\n",
       "| anon_id &lt;chr&gt; | pat_enc_csn_id_coded &lt;dbl&gt; | inpatient_data_id_coded &lt;int&gt; | admit_time &lt;chr&gt; | label &lt;int&gt; | template &lt;chr&gt; | features &lt;chr&gt; | units &lt;chr&gt; | recorded_time &lt;chr&gt; | values &lt;dbl&gt; |\n",
       "|---|---|---|---|---|---|---|---|---|---|\n",
       "\n"
      ],
      "text/plain": [
       "     anon_id pat_enc_csn_id_coded inpatient_data_id_coded admit_time label\n",
       "     template features units recorded_time values"
      ]
     },
     "metadata": {},
     "output_type": "display_data"
    },
    {
     "data": {
      "text/html": [
       "<table class=\"dataframe\">\n",
       "<caption>A grouped_df: 108 × 10</caption>\n",
       "<thead>\n",
       "\t<tr><th scope=col>anon_id</th><th scope=col>pat_enc_csn_id_coded</th><th scope=col>inpatient_data_id_coded</th><th scope=col>admit_time</th><th scope=col>label</th><th scope=col>template</th><th scope=col>features</th><th scope=col>units</th><th scope=col>recorded_time</th><th scope=col>values</th></tr>\n",
       "\t<tr><th scope=col>&lt;chr&gt;</th><th scope=col>&lt;dbl&gt;</th><th scope=col>&lt;int&gt;</th><th scope=col>&lt;chr&gt;</th><th scope=col>&lt;int&gt;</th><th scope=col>&lt;chr&gt;</th><th scope=col>&lt;chr&gt;</th><th scope=col>&lt;chr&gt;</th><th scope=col>&lt;chr&gt;</th><th scope=col>&lt;dbl&gt;</th></tr>\n",
       "</thead>\n",
       "<tbody>\n",
       "\t<tr><td>JC569855 </td><td>131287072640</td><td>52787463</td><td>2020-04-01 01:31:00+00:00</td><td>1</td><td>Custom Formula Data</td><td>Temp</td><td></td><td>2020-03-31 21:50:00+00:00</td><td>36.4</td></tr>\n",
       "\t<tr><td>JC569855 </td><td>131287072640</td><td>52787463</td><td>2020-04-01 01:31:00+00:00</td><td>1</td><td>Custom Formula Data</td><td>Temp</td><td></td><td>2020-03-31 22:20:00+00:00</td><td>36.4</td></tr>\n",
       "\t<tr><td>JC569855 </td><td>131287072640</td><td>52787463</td><td>2020-04-01 01:31:00+00:00</td><td>1</td><td>Custom Formula Data</td><td>Temp</td><td></td><td>2020-04-01 01:25:00+00:00</td><td>36.6</td></tr>\n",
       "\t<tr><td>JC569855 </td><td>131287072640</td><td>52787463</td><td>2020-04-01 01:31:00+00:00</td><td>1</td><td>Custom Formula Data</td><td>Temp</td><td></td><td>2020-04-01 00:20:00+00:00</td><td>37.0</td></tr>\n",
       "\t<tr><td>JC569855 </td><td>131287072640</td><td>52787463</td><td>2020-04-01 01:31:00+00:00</td><td>1</td><td>Custom Formula Data</td><td>Temp</td><td></td><td>2020-04-01 00:20:00+00:00</td><td>37.8</td></tr>\n",
       "\t<tr><td>JC569855 </td><td>131287072640</td><td>52787463</td><td>2020-04-01 01:31:00+00:00</td><td>1</td><td>Custom Formula Data</td><td>Temp</td><td></td><td>2020-03-31 22:20:00+00:00</td><td>37.4</td></tr>\n",
       "\t<tr><td>JC569855 </td><td>131287072640</td><td>52787463</td><td>2020-04-01 01:31:00+00:00</td><td>1</td><td>Custom Formula Data</td><td>Temp</td><td></td><td>2020-04-01 01:25:00+00:00</td><td>37.6</td></tr>\n",
       "\t<tr><td>JC569855 </td><td>131287072640</td><td>52787463</td><td>2020-04-01 01:31:00+00:00</td><td>1</td><td>Custom Formula Data</td><td>Temp</td><td></td><td>2020-03-31 21:50:00+00:00</td><td>37.4</td></tr>\n",
       "\t<tr><td>JC2172285</td><td>131288354019</td><td>53546645</td><td>2020-04-12 02:43:00+00:00</td><td>0</td><td>Custom Formula Data</td><td>Temp</td><td></td><td>2020-04-12 00:19:00+00:00</td><td>37.0</td></tr>\n",
       "\t<tr><td>JC2172285</td><td>131288354019</td><td>53546645</td><td>2020-04-12 02:43:00+00:00</td><td>0</td><td>Custom Formula Data</td><td>Temp</td><td></td><td>2020-04-12 02:37:00+00:00</td><td>37.0</td></tr>\n",
       "\t<tr><td>JC2172285</td><td>131288354019</td><td>53546645</td><td>2020-04-12 02:43:00+00:00</td><td>0</td><td>Custom Formula Data</td><td>Temp</td><td></td><td>2020-04-12 00:19:00+00:00</td><td>37.3</td></tr>\n",
       "\t<tr><td>JC2172285</td><td>131288354019</td><td>53546645</td><td>2020-04-12 02:43:00+00:00</td><td>0</td><td>Custom Formula Data</td><td>Temp</td><td></td><td>2020-04-12 02:37:00+00:00</td><td>36.9</td></tr>\n",
       "\t<tr><td>JC2667450</td><td>131290184231</td><td>54694802</td><td>2020-06-22 00:53:00+00:00</td><td>0</td><td>Custom Formula Data</td><td>Temp</td><td></td><td>2020-06-22 00:30:00+00:00</td><td>37.0</td></tr>\n",
       "\t<tr><td>JC2667450</td><td>131290184231</td><td>54694802</td><td>2020-06-22 00:53:00+00:00</td><td>0</td><td>Custom Formula Data</td><td>Temp</td><td></td><td>2020-06-22 00:30:00+00:00</td><td>36.8</td></tr>\n",
       "\t<tr><td>JC2970183</td><td>131290529383</td><td>54912958</td><td>2020-05-31 23:05:00+00:00</td><td>1</td><td>Custom Formula Data</td><td>Temp</td><td></td><td>2020-05-31 22:37:00+00:00</td><td>36.2</td></tr>\n",
       "\t<tr><td>JC2970183</td><td>131290529383</td><td>54912958</td><td>2020-05-31 23:05:00+00:00</td><td>1</td><td>Custom Formula Data</td><td>Temp</td><td></td><td>2020-05-31 22:37:00+00:00</td><td>37.2</td></tr>\n",
       "\t<tr><td>JC1586701</td><td>131294121248</td><td>57144170</td><td>2020-08-10 04:27:00+00:00</td><td>1</td><td>Custom Formula Data</td><td>Temp</td><td></td><td>2020-08-10 03:15:00+00:00</td><td>37.0</td></tr>\n",
       "\t<tr><td>JC1586701</td><td>131294121248</td><td>57144170</td><td>2020-08-10 04:27:00+00:00</td><td>1</td><td>Custom Formula Data</td><td>Temp</td><td></td><td>2020-08-10 03:15:00+00:00</td><td>36.6</td></tr>\n",
       "\t<tr><td>JC1399951</td><td>131294220552</td><td>57206756</td><td>2020-09-28 23:04:00+00:00</td><td>1</td><td>Custom Formula Data</td><td>Temp</td><td></td><td>2020-09-28 20:30:00+00:00</td><td>35.5</td></tr>\n",
       "\t<tr><td>JC1399951</td><td>131294220552</td><td>57206756</td><td>2020-09-28 23:04:00+00:00</td><td>1</td><td>Custom Formula Data</td><td>Temp</td><td></td><td>2020-09-28 23:00:00+00:00</td><td>36.0</td></tr>\n",
       "\t<tr><td>JC1399951</td><td>131294220552</td><td>57206756</td><td>2020-09-28 23:04:00+00:00</td><td>1</td><td>Custom Formula Data</td><td>Temp</td><td></td><td>2020-09-28 20:44:00+00:00</td><td>35.6</td></tr>\n",
       "\t<tr><td>JC1399951</td><td>131294220552</td><td>57206756</td><td>2020-09-28 23:04:00+00:00</td><td>1</td><td>Custom Formula Data</td><td>Temp</td><td></td><td>2020-09-28 20:29:00+00:00</td><td>35.5</td></tr>\n",
       "\t<tr><td>JC1399951</td><td>131294220552</td><td>57206756</td><td>2020-09-28 23:04:00+00:00</td><td>1</td><td>Custom Formula Data</td><td>Temp</td><td></td><td>2020-09-28 23:00:00+00:00</td><td>36.6</td></tr>\n",
       "\t<tr><td>JC1399951</td><td>131294220552</td><td>57206756</td><td>2020-09-28 23:04:00+00:00</td><td>1</td><td>Custom Formula Data</td><td>Temp</td><td></td><td>2020-09-28 20:44:00+00:00</td><td>36.6</td></tr>\n",
       "\t<tr><td>JC1399951</td><td>131294220552</td><td>57206756</td><td>2020-09-28 23:04:00+00:00</td><td>1</td><td>Custom Formula Data</td><td>Temp</td><td></td><td>2020-09-28 20:30:00+00:00</td><td>36.5</td></tr>\n",
       "\t<tr><td>JC1399951</td><td>131294220552</td><td>57206756</td><td>2020-09-28 23:04:00+00:00</td><td>1</td><td>Custom Formula Data</td><td>Temp</td><td></td><td>2020-09-28 20:29:00+00:00</td><td>36.5</td></tr>\n",
       "\t<tr><td>JC3252278</td><td>131295029485</td><td>57704361</td><td>2020-10-04 15:02:00+00:00</td><td>1</td><td>Custom Formula Data</td><td>Temp</td><td></td><td>2020-10-04 14:40:00+00:00</td><td>36.4</td></tr>\n",
       "\t<tr><td>JC3252278</td><td>131295029485</td><td>57704361</td><td>2020-10-04 15:02:00+00:00</td><td>1</td><td>Custom Formula Data</td><td>Temp</td><td></td><td>2020-10-04 14:24:00+00:00</td><td>36.4</td></tr>\n",
       "\t<tr><td>JC3252278</td><td>131295029485</td><td>57704361</td><td>2020-10-04 15:02:00+00:00</td><td>1</td><td>Custom Formula Data</td><td>Temp</td><td></td><td>2020-10-04 14:24:00+00:00</td><td>37.4</td></tr>\n",
       "\t<tr><td>JC3252278</td><td>131295029485</td><td>57704361</td><td>2020-10-04 15:02:00+00:00</td><td>1</td><td>Custom Formula Data</td><td>Temp</td><td></td><td>2020-10-04 14:40:00+00:00</td><td>37.4</td></tr>\n",
       "\t<tr><td>JC2884543</td><td>131295582119</td><td>58023759</td><td>2020-10-09 23:04:00+00:00</td><td>0</td><td>Custom Formula Data</td><td>Temp</td><td></td><td>2020-10-09 20:58:00+00:00</td><td>36.0</td></tr>\n",
       "\t<tr><td>JC2884543</td><td>131295582119</td><td>58023759</td><td>2020-10-09 23:04:00+00:00</td><td>0</td><td>Custom Formula Data</td><td>Temp</td><td></td><td>2020-10-09 21:40:00+00:00</td><td>36.0</td></tr>\n",
       "\t<tr><td>JC2884543</td><td>131295582119</td><td>58023759</td><td>2020-10-09 23:04:00+00:00</td><td>0</td><td>Custom Formula Data</td><td>Temp</td><td></td><td>2020-10-09 20:58:00+00:00</td><td>36.2</td></tr>\n",
       "\t<tr><td>JC2884543</td><td>131295582119</td><td>58023759</td><td>2020-10-09 23:04:00+00:00</td><td>0</td><td>Custom Formula Data</td><td>Temp</td><td></td><td>2020-10-09 21:40:00+00:00</td><td>36.4</td></tr>\n",
       "\t<tr><td>JC1775929</td><td>131297026005</td><td>58906220</td><td>2020-10-11 02:24:00+00:00</td><td>0</td><td>Custom Formula Data</td><td>Temp</td><td></td><td>2020-10-11 00:10:00+00:00</td><td>36.8</td></tr>\n",
       "\t<tr><td>JC1775929</td><td>131297026005</td><td>58906220</td><td>2020-10-11 02:24:00+00:00</td><td>0</td><td>Custom Formula Data</td><td>Temp</td><td></td><td>2020-10-11 00:10:00+00:00</td><td>37.8</td></tr>\n",
       "\t<tr><td>JC2965596</td><td>131298071021</td><td>59545440</td><td>2020-11-14 13:21:00+00:00</td><td>1</td><td>Custom Formula Data</td><td>Temp</td><td></td><td>2020-11-14 13:18:00+00:00</td><td>36.0</td></tr>\n",
       "\t<tr><td>JC2965596</td><td>131298071021</td><td>59545440</td><td>2020-11-14 13:21:00+00:00</td><td>1</td><td>Custom Formula Data</td><td>Temp</td><td></td><td>2020-11-14 13:18:00+00:00</td><td>36.4</td></tr>\n",
       "\t<tr><td>JC2891997</td><td>131298128042</td><td>59582183</td><td>2020-11-17 04:31:00+00:00</td><td>0</td><td>Custom Formula Data</td><td>Temp</td><td></td><td>2020-11-17 03:49:00+00:00</td><td>36.0</td></tr>\n",
       "\t<tr><td>JC2891997</td><td>131298128042</td><td>59582183</td><td>2020-11-17 04:31:00+00:00</td><td>0</td><td>Custom Formula Data</td><td>Temp</td><td></td><td>2020-11-17 03:49:00+00:00</td><td>36.3</td></tr>\n",
       "\t<tr><td>JC2708254</td><td>131298598985</td><td>59868714</td><td>2020-11-07 03:49:00+00:00</td><td>1</td><td>Custom Formula Data</td><td>Temp</td><td></td><td>2020-11-06 23:42:00+00:00</td><td>35.9</td></tr>\n",
       "\t<tr><td>JC2708254</td><td>131298598985</td><td>59868714</td><td>2020-11-07 03:49:00+00:00</td><td>1</td><td>Custom Formula Data</td><td>Temp</td><td></td><td>2020-11-06 23:42:00+00:00</td><td>36.9</td></tr>\n",
       "\t<tr><td>JC569619 </td><td>131300312684</td><td>60892691</td><td>2020-12-31 22:00:00+00:00</td><td>1</td><td>Custom Formula Data</td><td>Temp</td><td></td><td>2020-12-31 20:56:00+00:00</td><td>36.4</td></tr>\n",
       "\t<tr><td>JC569619 </td><td>131300312684</td><td>60892691</td><td>2020-12-31 22:00:00+00:00</td><td>1</td><td>Custom Formula Data</td><td>Temp</td><td></td><td>2020-12-31 21:18:00+00:00</td><td>36.4</td></tr>\n",
       "\t<tr><td>JC569619 </td><td>131300312684</td><td>60892691</td><td>2020-12-31 22:00:00+00:00</td><td>1</td><td>Custom Formula Data</td><td>Temp</td><td></td><td>2020-12-31 20:56:00+00:00</td><td>37.4</td></tr>\n",
       "\t<tr><td>JC569619 </td><td>131300312684</td><td>60892691</td><td>2020-12-31 22:00:00+00:00</td><td>1</td><td>Custom Formula Data</td><td>Temp</td><td></td><td>2020-12-31 21:18:00+00:00</td><td>37.4</td></tr>\n",
       "\t<tr><td>JC607469 </td><td>131301568614</td><td>61661519</td><td>2020-12-10 16:22:00+00:00</td><td>0</td><td>Custom Formula Data</td><td>Temp</td><td></td><td>2020-12-10 15:30:00+00:00</td><td>37.0</td></tr>\n",
       "\t<tr><td>JC607469 </td><td>131301568614</td><td>61661519</td><td>2020-12-10 16:22:00+00:00</td><td>0</td><td>Custom Formula Data</td><td>Temp</td><td></td><td>2020-12-10 15:30:00+00:00</td><td>36.9</td></tr>\n",
       "\t<tr><td>JC2959469</td><td>131301904846</td><td>61862216</td><td>2021-01-09 16:35:00+00:00</td><td>1</td><td>Custom Formula Data</td><td>Temp</td><td></td><td>2021-01-09 14:10:00+00:00</td><td>37.3</td></tr>\n",
       "\t<tr><td>JC2959469</td><td>131301904846</td><td>61862216</td><td>2021-01-09 16:35:00+00:00</td><td>1</td><td>Custom Formula Data</td><td>Temp</td><td></td><td>2021-01-09 14:10:00+00:00</td><td>38.3</td></tr>\n",
       "\t<tr><td>JC2676026</td><td>131302034328</td><td>61941682</td><td>2021-01-30 16:57:00+00:00</td><td>1</td><td>Custom Formula Data</td><td>Temp</td><td></td><td>2021-01-30 16:15:00+00:00</td><td>36.7</td></tr>\n",
       "\t<tr><td>JC2676026</td><td>131302034328</td><td>61941682</td><td>2021-01-30 16:57:00+00:00</td><td>1</td><td>Custom Formula Data</td><td>Temp</td><td></td><td>2021-01-30 16:15:00+00:00</td><td>37.7</td></tr>\n",
       "\t<tr><td>JC529916 </td><td>131302413147</td><td>62178428</td><td>2021-02-16 02:04:00+00:00</td><td>1</td><td>Custom Formula Data</td><td>Temp</td><td></td><td>2021-02-16 00:00:00+00:00</td><td>36.2</td></tr>\n",
       "\t<tr><td>JC529916 </td><td>131302413147</td><td>62178428</td><td>2021-02-16 02:04:00+00:00</td><td>1</td><td>Custom Formula Data</td><td>Temp</td><td></td><td>2021-02-16 00:00:00+00:00</td><td>37.2</td></tr>\n",
       "\t<tr><td>JC2822169</td><td>131302895668</td><td>62475853</td><td>2021-01-26 13:52:00+00:00</td><td>0</td><td>Custom Formula Data</td><td>Temp</td><td></td><td>2021-01-26 08:43:00+00:00</td><td>37.0</td></tr>\n",
       "\t<tr><td>JC2822169</td><td>131302895668</td><td>62475853</td><td>2021-01-26 13:52:00+00:00</td><td>0</td><td>Custom Formula Data</td><td>Temp</td><td></td><td>2021-01-26 08:43:00+00:00</td><td>36.8</td></tr>\n",
       "\t<tr><td>JC1974994</td><td>131304125180</td><td>63207576</td><td>2021-02-02 12:14:00+00:00</td><td>1</td><td>Custom Formula Data</td><td>Temp</td><td></td><td>2021-02-02 10:40:00+00:00</td><td>37.0</td></tr>\n",
       "\t<tr><td>JC1974994</td><td>131304125180</td><td>63207576</td><td>2021-02-02 12:14:00+00:00</td><td>1</td><td>Custom Formula Data</td><td>Temp</td><td></td><td>2021-02-02 10:40:00+00:00</td><td>36.7</td></tr>\n",
       "\t<tr><td>JC726988 </td><td>131306196254</td><td>64517904</td><td>2021-02-25 05:30:00+00:00</td><td>1</td><td>Custom Formula Data</td><td>Temp</td><td></td><td>2021-02-25 04:00:00+00:00</td><td>37.0</td></tr>\n",
       "\t<tr><td>JC726988 </td><td>131306196254</td><td>64517904</td><td>2021-02-25 05:30:00+00:00</td><td>1</td><td>Custom Formula Data</td><td>Temp</td><td></td><td>2021-02-25 04:00:00+00:00</td><td>37.1</td></tr>\n",
       "\t<tr><td>JC532918 </td><td>131307188814</td><td>64727979</td><td>2021-03-09 09:55:00+00:00</td><td>1</td><td>Custom Formula Data</td><td>Temp</td><td></td><td>2021-03-09 08:40:00+00:00</td><td>36.0</td></tr>\n",
       "\t<tr><td>JC532918 </td><td>131307188814</td><td>64727979</td><td>2021-03-09 09:55:00+00:00</td><td>1</td><td>Custom Formula Data</td><td>Temp</td><td></td><td>2021-03-09 08:25:00+00:00</td><td>35.7</td></tr>\n",
       "\t<tr><td>JC532918 </td><td>131307188814</td><td>64727979</td><td>2021-03-09 09:55:00+00:00</td><td>1</td><td>Custom Formula Data</td><td>Temp</td><td></td><td>2021-03-09 08:22:00+00:00</td><td>36.0</td></tr>\n",
       "\t<tr><td>JC532918 </td><td>131307188814</td><td>64727979</td><td>2021-03-09 09:55:00+00:00</td><td>1</td><td>Custom Formula Data</td><td>Temp</td><td></td><td>2021-03-09 08:40:00+00:00</td><td>36.5</td></tr>\n",
       "\t<tr><td>JC532918 </td><td>131307188814</td><td>64727979</td><td>2021-03-09 09:55:00+00:00</td><td>1</td><td>Custom Formula Data</td><td>Temp</td><td></td><td>2021-03-09 08:22:00+00:00</td><td>36.7</td></tr>\n",
       "\t<tr><td>JC532918 </td><td>131307188814</td><td>64727979</td><td>2021-03-09 09:55:00+00:00</td><td>1</td><td>Custom Formula Data</td><td>Temp</td><td></td><td>2021-03-09 08:25:00+00:00</td><td>36.7</td></tr>\n",
       "\t<tr><td>JC2950131</td><td>131308190716</td><td>65235510</td><td>2021-04-13 03:11:00+00:00</td><td>0</td><td>Custom Formula Data</td><td>Temp</td><td></td><td>2021-04-13 02:57:00+00:00</td><td>37.0</td></tr>\n",
       "\t<tr><td>JC2950131</td><td>131308190716</td><td>65235510</td><td>2021-04-13 03:11:00+00:00</td><td>0</td><td>Custom Formula Data</td><td>Temp</td><td></td><td>2021-04-13 02:57:00+00:00</td><td>36.8</td></tr>\n",
       "\t<tr><td>JC1667644</td><td>131309566419</td><td>66145848</td><td>2021-05-11 04:54:00+00:00</td><td>1</td><td>Custom Formula Data</td><td>Temp</td><td></td><td>2021-05-11 04:50:00+00:00</td><td>37.0</td></tr>\n",
       "\t<tr><td>JC1667644</td><td>131309566419</td><td>66145848</td><td>2021-05-11 04:54:00+00:00</td><td>1</td><td>Custom Formula Data</td><td>Temp</td><td></td><td>2021-05-11 04:50:00+00:00</td><td>36.7</td></tr>\n",
       "\t<tr><td>JC3191229</td><td>131311002636</td><td>67058617</td><td>2021-04-26 07:33:00+00:00</td><td>0</td><td>Custom Formula Data</td><td>Temp</td><td></td><td>2021-04-26 07:00:00+00:00</td><td>37.0</td></tr>\n",
       "\t<tr><td>JC3191229</td><td>131311002636</td><td>67058617</td><td>2021-04-26 07:33:00+00:00</td><td>0</td><td>Custom Formula Data</td><td>Temp</td><td></td><td>2021-04-26 07:00:00+00:00</td><td>36.8</td></tr>\n",
       "\t<tr><td>JC2016939</td><td>131311676355</td><td>67434314</td><td>2021-06-25 04:11:00+00:00</td><td>1</td><td>Custom Formula Data</td><td>Temp</td><td></td><td>2021-06-24 23:45:00+00:00</td><td>37.0</td></tr>\n",
       "\t<tr><td>JC2016939</td><td>131311676355</td><td>67434314</td><td>2021-06-25 04:11:00+00:00</td><td>1</td><td>Custom Formula Data</td><td>Temp</td><td></td><td>2021-06-24 22:46:00+00:00</td><td>37.1</td></tr>\n",
       "\t<tr><td>JC2016939</td><td>131311676355</td><td>67434314</td><td>2021-06-25 04:11:00+00:00</td><td>1</td><td>Custom Formula Data</td><td>Temp</td><td></td><td>2021-06-25 01:00:00+00:00</td><td>37.0</td></tr>\n",
       "\t<tr><td>JC2016939</td><td>131311676355</td><td>67434314</td><td>2021-06-25 04:11:00+00:00</td><td>1</td><td>Custom Formula Data</td><td>Temp</td><td></td><td>2021-06-24 22:46:00+00:00</td><td>38.1</td></tr>\n",
       "\t<tr><td>JC2016939</td><td>131311676355</td><td>67434314</td><td>2021-06-25 04:11:00+00:00</td><td>1</td><td>Custom Formula Data</td><td>Temp</td><td></td><td>2021-06-24 23:45:00+00:00</td><td>37.8</td></tr>\n",
       "\t<tr><td>JC2016939</td><td>131311676355</td><td>67434314</td><td>2021-06-25 04:11:00+00:00</td><td>1</td><td>Custom Formula Data</td><td>Temp</td><td></td><td>2021-06-25 01:00:00+00:00</td><td>37.6</td></tr>\n",
       "\t<tr><td>JC1999825</td><td>131311814184</td><td>67523487</td><td>2021-05-19 04:51:00+00:00</td><td>1</td><td>Custom Formula Data</td><td>Temp</td><td></td><td>2021-05-19 04:13:00+00:00</td><td>37.0</td></tr>\n",
       "\t<tr><td>JC1999825</td><td>131311814184</td><td>67523487</td><td>2021-05-19 04:51:00+00:00</td><td>1</td><td>Custom Formula Data</td><td>Temp</td><td></td><td>2021-05-19 04:01:00+00:00</td><td>37.0</td></tr>\n",
       "\t<tr><td>JC1999825</td><td>131311814184</td><td>67523487</td><td>2021-05-19 04:51:00+00:00</td><td>1</td><td>Custom Formula Data</td><td>Temp</td><td></td><td>2021-05-19 04:13:00+00:00</td><td>37.1</td></tr>\n",
       "\t<tr><td>JC1999825</td><td>131311814184</td><td>67523487</td><td>2021-05-19 04:51:00+00:00</td><td>1</td><td>Custom Formula Data</td><td>Temp</td><td></td><td>2021-05-19 04:01:00+00:00</td><td>37.1</td></tr>\n",
       "\t<tr><td>JC1805086</td><td>131311970165</td><td>67623416</td><td>2021-06-12 17:54:00+00:00</td><td>0</td><td>Custom Formula Data</td><td>Temp</td><td></td><td>2021-06-12 11:45:00+00:00</td><td>37.0</td></tr>\n",
       "\t<tr><td>JC1805086</td><td>131311970165</td><td>67623416</td><td>2021-06-12 17:54:00+00:00</td><td>0</td><td>Custom Formula Data</td><td>Temp</td><td></td><td>2021-06-12 11:45:00+00:00</td><td>37.1</td></tr>\n",
       "\t<tr><td>JC3198827</td><td>131312055424</td><td>67674809</td><td>2021-05-15 04:21:00+00:00</td><td>1</td><td>Custom Formula Data</td><td>Temp</td><td></td><td>2021-05-15 01:52:00+00:00</td><td>36.0</td></tr>\n",
       "\t<tr><td>JC3198827</td><td>131312055424</td><td>67674809</td><td>2021-05-15 04:21:00+00:00</td><td>1</td><td>Custom Formula Data</td><td>Temp</td><td></td><td>2021-05-15 01:52:00+00:00</td><td>36.5</td></tr>\n",
       "\t<tr><td>JC691395 </td><td>131312284888</td><td>67817006</td><td>2021-05-30 05:56:00+00:00</td><td>1</td><td>Custom Formula Data</td><td>Temp</td><td></td><td>2021-05-30 04:55:00+00:00</td><td>37.5</td></tr>\n",
       "\t<tr><td>JC691395 </td><td>131312284888</td><td>67817006</td><td>2021-05-30 05:56:00+00:00</td><td>1</td><td>Custom Formula Data</td><td>Temp</td><td></td><td>2021-05-30 04:55:00+00:00</td><td>38.5</td></tr>\n",
       "\t<tr><td>JC1226459</td><td>131312464294</td><td>67919542</td><td>2021-07-09 07:46:00+00:00</td><td>1</td><td>Custom Formula Data</td><td>Temp</td><td></td><td>2021-07-09 06:01:00+00:00</td><td>37.0</td></tr>\n",
       "\t<tr><td>JC1226459</td><td>131312464294</td><td>67919542</td><td>2021-07-09 07:46:00+00:00</td><td>1</td><td>Custom Formula Data</td><td>Temp</td><td></td><td>2021-07-09 06:01:00+00:00</td><td>36.8</td></tr>\n",
       "\t<tr><td>JC2972808</td><td>131312474039</td><td>67925035</td><td>2021-05-27 01:49:00+00:00</td><td>1</td><td>Custom Formula Data</td><td>Temp</td><td></td><td>2021-05-27 01:36:00+00:00</td><td>38.0</td></tr>\n",
       "\t<tr><td>JC2972808</td><td>131312474039</td><td>67925035</td><td>2021-05-27 01:49:00+00:00</td><td>1</td><td>Custom Formula Data</td><td>Temp</td><td></td><td>2021-05-27 01:36:00+00:00</td><td>37.5</td></tr>\n",
       "\t<tr><td>JC2934156</td><td>131312829836</td><td>68150975</td><td>2021-07-07 23:08:00+00:00</td><td>0</td><td>Custom Formula Data</td><td>Temp</td><td></td><td>2021-07-07 22:00:00+00:00</td><td>37.0</td></tr>\n",
       "\t<tr><td>JC2934156</td><td>131312829836</td><td>68150975</td><td>2021-07-07 23:08:00+00:00</td><td>0</td><td>Custom Formula Data</td><td>Temp</td><td></td><td>2021-07-07 22:00:00+00:00</td><td>38.0</td></tr>\n",
       "\t<tr><td>JC1492500</td><td>131315185171</td><td>69632030</td><td>2021-08-19 19:15:00+00:00</td><td>1</td><td>Custom Formula Data</td><td>Temp</td><td></td><td>2021-08-19 17:25:00+00:00</td><td>37.0</td></tr>\n",
       "\t<tr><td>JC1492500</td><td>131315185171</td><td>69632030</td><td>2021-08-19 19:15:00+00:00</td><td>1</td><td>Custom Formula Data</td><td>Temp</td><td></td><td>2021-08-19 17:25:00+00:00</td><td>36.8</td></tr>\n",
       "\t<tr><td>JC1240770</td><td>131315358873</td><td>69742001</td><td>2021-07-18 08:19:00+00:00</td><td>1</td><td>Custom Formula Data</td><td>Temp</td><td></td><td>2021-07-18 07:30:00+00:00</td><td>37.0</td></tr>\n",
       "\t<tr><td>JC1240770</td><td>131315358873</td><td>69742001</td><td>2021-07-18 08:19:00+00:00</td><td>1</td><td>Custom Formula Data</td><td>Temp</td><td></td><td>2021-07-18 07:30:00+00:00</td><td>36.9</td></tr>\n",
       "\t<tr><td>JC711420 </td><td>131315939576</td><td>70074560</td><td>2021-08-09 04:26:00+00:00</td><td>0</td><td>Custom Formula Data</td><td>Temp</td><td></td><td>2021-08-09 02:56:00+00:00</td><td>37.0</td></tr>\n",
       "\t<tr><td>JC711420 </td><td>131315939576</td><td>70074560</td><td>2021-08-09 04:26:00+00:00</td><td>0</td><td>Custom Formula Data</td><td>Temp</td><td></td><td>2021-08-09 02:56:00+00:00</td><td>37.4</td></tr>\n",
       "\t<tr><td>JC1353351</td><td>131316328035</td><td>70306789</td><td>2021-07-23 23:57:00+00:00</td><td>0</td><td>Custom Formula Data</td><td>Temp</td><td></td><td>2021-07-23 22:32:00+00:00</td><td>37.0</td></tr>\n",
       "\t<tr><td>JC1353351</td><td>131316328035</td><td>70306789</td><td>2021-07-23 23:57:00+00:00</td><td>0</td><td>Custom Formula Data</td><td>Temp</td><td></td><td>2021-07-23 20:39:00+00:00</td><td>37.0</td></tr>\n",
       "\t<tr><td>JC1353351</td><td>131316328035</td><td>70306789</td><td>2021-07-23 23:57:00+00:00</td><td>0</td><td>Custom Formula Data</td><td>Temp</td><td></td><td>2021-07-23 22:32:00+00:00</td><td>37.1</td></tr>\n",
       "\t<tr><td>JC1353351</td><td>131316328035</td><td>70306789</td><td>2021-07-23 23:57:00+00:00</td><td>0</td><td>Custom Formula Data</td><td>Temp</td><td></td><td>2021-07-23 20:39:00+00:00</td><td>37.2</td></tr>\n",
       "\t<tr><td>JC783230 </td><td>131318004163</td><td>71439906</td><td>2021-09-02 19:16:00+00:00</td><td>1</td><td>Custom Formula Data</td><td>Temp</td><td></td><td>2021-09-02 18:01:04+00:00</td><td>36.3</td></tr>\n",
       "\t<tr><td>JC783230 </td><td>131318004163</td><td>71439906</td><td>2021-09-02 19:16:00+00:00</td><td>1</td><td>Custom Formula Data</td><td>Temp</td><td></td><td>2021-09-02 18:01:04+00:00</td><td>37.3</td></tr>\n",
       "\t<tr><td>JC2748255</td><td>131318533743</td><td>71772688</td><td>2021-08-23 03:12:00+00:00</td><td>0</td><td>Custom Formula Data</td><td>Temp</td><td></td><td>2021-08-23 02:15:00+00:00</td><td>37.0</td></tr>\n",
       "\t<tr><td>JC2748255</td><td>131318533743</td><td>71772688</td><td>2021-08-23 03:12:00+00:00</td><td>0</td><td>Custom Formula Data</td><td>Temp</td><td></td><td>2021-08-23 02:15:00+00:00</td><td>36.8</td></tr>\n",
       "</tbody>\n",
       "</table>\n"
      ],
      "text/latex": [
       "A grouped\\_df: 108 × 10\n",
       "\\begin{tabular}{llllllllll}\n",
       " anon\\_id & pat\\_enc\\_csn\\_id\\_coded & inpatient\\_data\\_id\\_coded & admit\\_time & label & template & features & units & recorded\\_time & values\\\\\n",
       " <chr> & <dbl> & <int> & <chr> & <int> & <chr> & <chr> & <chr> & <chr> & <dbl>\\\\\n",
       "\\hline\n",
       "\t JC569855  & 131287072640 & 52787463 & 2020-04-01 01:31:00+00:00 & 1 & Custom Formula Data & Temp &  & 2020-03-31 21:50:00+00:00 & 36.4\\\\\n",
       "\t JC569855  & 131287072640 & 52787463 & 2020-04-01 01:31:00+00:00 & 1 & Custom Formula Data & Temp &  & 2020-03-31 22:20:00+00:00 & 36.4\\\\\n",
       "\t JC569855  & 131287072640 & 52787463 & 2020-04-01 01:31:00+00:00 & 1 & Custom Formula Data & Temp &  & 2020-04-01 01:25:00+00:00 & 36.6\\\\\n",
       "\t JC569855  & 131287072640 & 52787463 & 2020-04-01 01:31:00+00:00 & 1 & Custom Formula Data & Temp &  & 2020-04-01 00:20:00+00:00 & 37.0\\\\\n",
       "\t JC569855  & 131287072640 & 52787463 & 2020-04-01 01:31:00+00:00 & 1 & Custom Formula Data & Temp &  & 2020-04-01 00:20:00+00:00 & 37.8\\\\\n",
       "\t JC569855  & 131287072640 & 52787463 & 2020-04-01 01:31:00+00:00 & 1 & Custom Formula Data & Temp &  & 2020-03-31 22:20:00+00:00 & 37.4\\\\\n",
       "\t JC569855  & 131287072640 & 52787463 & 2020-04-01 01:31:00+00:00 & 1 & Custom Formula Data & Temp &  & 2020-04-01 01:25:00+00:00 & 37.6\\\\\n",
       "\t JC569855  & 131287072640 & 52787463 & 2020-04-01 01:31:00+00:00 & 1 & Custom Formula Data & Temp &  & 2020-03-31 21:50:00+00:00 & 37.4\\\\\n",
       "\t JC2172285 & 131288354019 & 53546645 & 2020-04-12 02:43:00+00:00 & 0 & Custom Formula Data & Temp &  & 2020-04-12 00:19:00+00:00 & 37.0\\\\\n",
       "\t JC2172285 & 131288354019 & 53546645 & 2020-04-12 02:43:00+00:00 & 0 & Custom Formula Data & Temp &  & 2020-04-12 02:37:00+00:00 & 37.0\\\\\n",
       "\t JC2172285 & 131288354019 & 53546645 & 2020-04-12 02:43:00+00:00 & 0 & Custom Formula Data & Temp &  & 2020-04-12 00:19:00+00:00 & 37.3\\\\\n",
       "\t JC2172285 & 131288354019 & 53546645 & 2020-04-12 02:43:00+00:00 & 0 & Custom Formula Data & Temp &  & 2020-04-12 02:37:00+00:00 & 36.9\\\\\n",
       "\t JC2667450 & 131290184231 & 54694802 & 2020-06-22 00:53:00+00:00 & 0 & Custom Formula Data & Temp &  & 2020-06-22 00:30:00+00:00 & 37.0\\\\\n",
       "\t JC2667450 & 131290184231 & 54694802 & 2020-06-22 00:53:00+00:00 & 0 & Custom Formula Data & Temp &  & 2020-06-22 00:30:00+00:00 & 36.8\\\\\n",
       "\t JC2970183 & 131290529383 & 54912958 & 2020-05-31 23:05:00+00:00 & 1 & Custom Formula Data & Temp &  & 2020-05-31 22:37:00+00:00 & 36.2\\\\\n",
       "\t JC2970183 & 131290529383 & 54912958 & 2020-05-31 23:05:00+00:00 & 1 & Custom Formula Data & Temp &  & 2020-05-31 22:37:00+00:00 & 37.2\\\\\n",
       "\t JC1586701 & 131294121248 & 57144170 & 2020-08-10 04:27:00+00:00 & 1 & Custom Formula Data & Temp &  & 2020-08-10 03:15:00+00:00 & 37.0\\\\\n",
       "\t JC1586701 & 131294121248 & 57144170 & 2020-08-10 04:27:00+00:00 & 1 & Custom Formula Data & Temp &  & 2020-08-10 03:15:00+00:00 & 36.6\\\\\n",
       "\t JC1399951 & 131294220552 & 57206756 & 2020-09-28 23:04:00+00:00 & 1 & Custom Formula Data & Temp &  & 2020-09-28 20:30:00+00:00 & 35.5\\\\\n",
       "\t JC1399951 & 131294220552 & 57206756 & 2020-09-28 23:04:00+00:00 & 1 & Custom Formula Data & Temp &  & 2020-09-28 23:00:00+00:00 & 36.0\\\\\n",
       "\t JC1399951 & 131294220552 & 57206756 & 2020-09-28 23:04:00+00:00 & 1 & Custom Formula Data & Temp &  & 2020-09-28 20:44:00+00:00 & 35.6\\\\\n",
       "\t JC1399951 & 131294220552 & 57206756 & 2020-09-28 23:04:00+00:00 & 1 & Custom Formula Data & Temp &  & 2020-09-28 20:29:00+00:00 & 35.5\\\\\n",
       "\t JC1399951 & 131294220552 & 57206756 & 2020-09-28 23:04:00+00:00 & 1 & Custom Formula Data & Temp &  & 2020-09-28 23:00:00+00:00 & 36.6\\\\\n",
       "\t JC1399951 & 131294220552 & 57206756 & 2020-09-28 23:04:00+00:00 & 1 & Custom Formula Data & Temp &  & 2020-09-28 20:44:00+00:00 & 36.6\\\\\n",
       "\t JC1399951 & 131294220552 & 57206756 & 2020-09-28 23:04:00+00:00 & 1 & Custom Formula Data & Temp &  & 2020-09-28 20:30:00+00:00 & 36.5\\\\\n",
       "\t JC1399951 & 131294220552 & 57206756 & 2020-09-28 23:04:00+00:00 & 1 & Custom Formula Data & Temp &  & 2020-09-28 20:29:00+00:00 & 36.5\\\\\n",
       "\t JC3252278 & 131295029485 & 57704361 & 2020-10-04 15:02:00+00:00 & 1 & Custom Formula Data & Temp &  & 2020-10-04 14:40:00+00:00 & 36.4\\\\\n",
       "\t JC3252278 & 131295029485 & 57704361 & 2020-10-04 15:02:00+00:00 & 1 & Custom Formula Data & Temp &  & 2020-10-04 14:24:00+00:00 & 36.4\\\\\n",
       "\t JC3252278 & 131295029485 & 57704361 & 2020-10-04 15:02:00+00:00 & 1 & Custom Formula Data & Temp &  & 2020-10-04 14:24:00+00:00 & 37.4\\\\\n",
       "\t JC3252278 & 131295029485 & 57704361 & 2020-10-04 15:02:00+00:00 & 1 & Custom Formula Data & Temp &  & 2020-10-04 14:40:00+00:00 & 37.4\\\\\n",
       "\t JC2884543 & 131295582119 & 58023759 & 2020-10-09 23:04:00+00:00 & 0 & Custom Formula Data & Temp &  & 2020-10-09 20:58:00+00:00 & 36.0\\\\\n",
       "\t JC2884543 & 131295582119 & 58023759 & 2020-10-09 23:04:00+00:00 & 0 & Custom Formula Data & Temp &  & 2020-10-09 21:40:00+00:00 & 36.0\\\\\n",
       "\t JC2884543 & 131295582119 & 58023759 & 2020-10-09 23:04:00+00:00 & 0 & Custom Formula Data & Temp &  & 2020-10-09 20:58:00+00:00 & 36.2\\\\\n",
       "\t JC2884543 & 131295582119 & 58023759 & 2020-10-09 23:04:00+00:00 & 0 & Custom Formula Data & Temp &  & 2020-10-09 21:40:00+00:00 & 36.4\\\\\n",
       "\t JC1775929 & 131297026005 & 58906220 & 2020-10-11 02:24:00+00:00 & 0 & Custom Formula Data & Temp &  & 2020-10-11 00:10:00+00:00 & 36.8\\\\\n",
       "\t JC1775929 & 131297026005 & 58906220 & 2020-10-11 02:24:00+00:00 & 0 & Custom Formula Data & Temp &  & 2020-10-11 00:10:00+00:00 & 37.8\\\\\n",
       "\t JC2965596 & 131298071021 & 59545440 & 2020-11-14 13:21:00+00:00 & 1 & Custom Formula Data & Temp &  & 2020-11-14 13:18:00+00:00 & 36.0\\\\\n",
       "\t JC2965596 & 131298071021 & 59545440 & 2020-11-14 13:21:00+00:00 & 1 & Custom Formula Data & Temp &  & 2020-11-14 13:18:00+00:00 & 36.4\\\\\n",
       "\t JC2891997 & 131298128042 & 59582183 & 2020-11-17 04:31:00+00:00 & 0 & Custom Formula Data & Temp &  & 2020-11-17 03:49:00+00:00 & 36.0\\\\\n",
       "\t JC2891997 & 131298128042 & 59582183 & 2020-11-17 04:31:00+00:00 & 0 & Custom Formula Data & Temp &  & 2020-11-17 03:49:00+00:00 & 36.3\\\\\n",
       "\t JC2708254 & 131298598985 & 59868714 & 2020-11-07 03:49:00+00:00 & 1 & Custom Formula Data & Temp &  & 2020-11-06 23:42:00+00:00 & 35.9\\\\\n",
       "\t JC2708254 & 131298598985 & 59868714 & 2020-11-07 03:49:00+00:00 & 1 & Custom Formula Data & Temp &  & 2020-11-06 23:42:00+00:00 & 36.9\\\\\n",
       "\t JC569619  & 131300312684 & 60892691 & 2020-12-31 22:00:00+00:00 & 1 & Custom Formula Data & Temp &  & 2020-12-31 20:56:00+00:00 & 36.4\\\\\n",
       "\t JC569619  & 131300312684 & 60892691 & 2020-12-31 22:00:00+00:00 & 1 & Custom Formula Data & Temp &  & 2020-12-31 21:18:00+00:00 & 36.4\\\\\n",
       "\t JC569619  & 131300312684 & 60892691 & 2020-12-31 22:00:00+00:00 & 1 & Custom Formula Data & Temp &  & 2020-12-31 20:56:00+00:00 & 37.4\\\\\n",
       "\t JC569619  & 131300312684 & 60892691 & 2020-12-31 22:00:00+00:00 & 1 & Custom Formula Data & Temp &  & 2020-12-31 21:18:00+00:00 & 37.4\\\\\n",
       "\t JC607469  & 131301568614 & 61661519 & 2020-12-10 16:22:00+00:00 & 0 & Custom Formula Data & Temp &  & 2020-12-10 15:30:00+00:00 & 37.0\\\\\n",
       "\t JC607469  & 131301568614 & 61661519 & 2020-12-10 16:22:00+00:00 & 0 & Custom Formula Data & Temp &  & 2020-12-10 15:30:00+00:00 & 36.9\\\\\n",
       "\t JC2959469 & 131301904846 & 61862216 & 2021-01-09 16:35:00+00:00 & 1 & Custom Formula Data & Temp &  & 2021-01-09 14:10:00+00:00 & 37.3\\\\\n",
       "\t JC2959469 & 131301904846 & 61862216 & 2021-01-09 16:35:00+00:00 & 1 & Custom Formula Data & Temp &  & 2021-01-09 14:10:00+00:00 & 38.3\\\\\n",
       "\t JC2676026 & 131302034328 & 61941682 & 2021-01-30 16:57:00+00:00 & 1 & Custom Formula Data & Temp &  & 2021-01-30 16:15:00+00:00 & 36.7\\\\\n",
       "\t JC2676026 & 131302034328 & 61941682 & 2021-01-30 16:57:00+00:00 & 1 & Custom Formula Data & Temp &  & 2021-01-30 16:15:00+00:00 & 37.7\\\\\n",
       "\t JC529916  & 131302413147 & 62178428 & 2021-02-16 02:04:00+00:00 & 1 & Custom Formula Data & Temp &  & 2021-02-16 00:00:00+00:00 & 36.2\\\\\n",
       "\t JC529916  & 131302413147 & 62178428 & 2021-02-16 02:04:00+00:00 & 1 & Custom Formula Data & Temp &  & 2021-02-16 00:00:00+00:00 & 37.2\\\\\n",
       "\t JC2822169 & 131302895668 & 62475853 & 2021-01-26 13:52:00+00:00 & 0 & Custom Formula Data & Temp &  & 2021-01-26 08:43:00+00:00 & 37.0\\\\\n",
       "\t JC2822169 & 131302895668 & 62475853 & 2021-01-26 13:52:00+00:00 & 0 & Custom Formula Data & Temp &  & 2021-01-26 08:43:00+00:00 & 36.8\\\\\n",
       "\t JC1974994 & 131304125180 & 63207576 & 2021-02-02 12:14:00+00:00 & 1 & Custom Formula Data & Temp &  & 2021-02-02 10:40:00+00:00 & 37.0\\\\\n",
       "\t JC1974994 & 131304125180 & 63207576 & 2021-02-02 12:14:00+00:00 & 1 & Custom Formula Data & Temp &  & 2021-02-02 10:40:00+00:00 & 36.7\\\\\n",
       "\t JC726988  & 131306196254 & 64517904 & 2021-02-25 05:30:00+00:00 & 1 & Custom Formula Data & Temp &  & 2021-02-25 04:00:00+00:00 & 37.0\\\\\n",
       "\t JC726988  & 131306196254 & 64517904 & 2021-02-25 05:30:00+00:00 & 1 & Custom Formula Data & Temp &  & 2021-02-25 04:00:00+00:00 & 37.1\\\\\n",
       "\t JC532918  & 131307188814 & 64727979 & 2021-03-09 09:55:00+00:00 & 1 & Custom Formula Data & Temp &  & 2021-03-09 08:40:00+00:00 & 36.0\\\\\n",
       "\t JC532918  & 131307188814 & 64727979 & 2021-03-09 09:55:00+00:00 & 1 & Custom Formula Data & Temp &  & 2021-03-09 08:25:00+00:00 & 35.7\\\\\n",
       "\t JC532918  & 131307188814 & 64727979 & 2021-03-09 09:55:00+00:00 & 1 & Custom Formula Data & Temp &  & 2021-03-09 08:22:00+00:00 & 36.0\\\\\n",
       "\t JC532918  & 131307188814 & 64727979 & 2021-03-09 09:55:00+00:00 & 1 & Custom Formula Data & Temp &  & 2021-03-09 08:40:00+00:00 & 36.5\\\\\n",
       "\t JC532918  & 131307188814 & 64727979 & 2021-03-09 09:55:00+00:00 & 1 & Custom Formula Data & Temp &  & 2021-03-09 08:22:00+00:00 & 36.7\\\\\n",
       "\t JC532918  & 131307188814 & 64727979 & 2021-03-09 09:55:00+00:00 & 1 & Custom Formula Data & Temp &  & 2021-03-09 08:25:00+00:00 & 36.7\\\\\n",
       "\t JC2950131 & 131308190716 & 65235510 & 2021-04-13 03:11:00+00:00 & 0 & Custom Formula Data & Temp &  & 2021-04-13 02:57:00+00:00 & 37.0\\\\\n",
       "\t JC2950131 & 131308190716 & 65235510 & 2021-04-13 03:11:00+00:00 & 0 & Custom Formula Data & Temp &  & 2021-04-13 02:57:00+00:00 & 36.8\\\\\n",
       "\t JC1667644 & 131309566419 & 66145848 & 2021-05-11 04:54:00+00:00 & 1 & Custom Formula Data & Temp &  & 2021-05-11 04:50:00+00:00 & 37.0\\\\\n",
       "\t JC1667644 & 131309566419 & 66145848 & 2021-05-11 04:54:00+00:00 & 1 & Custom Formula Data & Temp &  & 2021-05-11 04:50:00+00:00 & 36.7\\\\\n",
       "\t JC3191229 & 131311002636 & 67058617 & 2021-04-26 07:33:00+00:00 & 0 & Custom Formula Data & Temp &  & 2021-04-26 07:00:00+00:00 & 37.0\\\\\n",
       "\t JC3191229 & 131311002636 & 67058617 & 2021-04-26 07:33:00+00:00 & 0 & Custom Formula Data & Temp &  & 2021-04-26 07:00:00+00:00 & 36.8\\\\\n",
       "\t JC2016939 & 131311676355 & 67434314 & 2021-06-25 04:11:00+00:00 & 1 & Custom Formula Data & Temp &  & 2021-06-24 23:45:00+00:00 & 37.0\\\\\n",
       "\t JC2016939 & 131311676355 & 67434314 & 2021-06-25 04:11:00+00:00 & 1 & Custom Formula Data & Temp &  & 2021-06-24 22:46:00+00:00 & 37.1\\\\\n",
       "\t JC2016939 & 131311676355 & 67434314 & 2021-06-25 04:11:00+00:00 & 1 & Custom Formula Data & Temp &  & 2021-06-25 01:00:00+00:00 & 37.0\\\\\n",
       "\t JC2016939 & 131311676355 & 67434314 & 2021-06-25 04:11:00+00:00 & 1 & Custom Formula Data & Temp &  & 2021-06-24 22:46:00+00:00 & 38.1\\\\\n",
       "\t JC2016939 & 131311676355 & 67434314 & 2021-06-25 04:11:00+00:00 & 1 & Custom Formula Data & Temp &  & 2021-06-24 23:45:00+00:00 & 37.8\\\\\n",
       "\t JC2016939 & 131311676355 & 67434314 & 2021-06-25 04:11:00+00:00 & 1 & Custom Formula Data & Temp &  & 2021-06-25 01:00:00+00:00 & 37.6\\\\\n",
       "\t JC1999825 & 131311814184 & 67523487 & 2021-05-19 04:51:00+00:00 & 1 & Custom Formula Data & Temp &  & 2021-05-19 04:13:00+00:00 & 37.0\\\\\n",
       "\t JC1999825 & 131311814184 & 67523487 & 2021-05-19 04:51:00+00:00 & 1 & Custom Formula Data & Temp &  & 2021-05-19 04:01:00+00:00 & 37.0\\\\\n",
       "\t JC1999825 & 131311814184 & 67523487 & 2021-05-19 04:51:00+00:00 & 1 & Custom Formula Data & Temp &  & 2021-05-19 04:13:00+00:00 & 37.1\\\\\n",
       "\t JC1999825 & 131311814184 & 67523487 & 2021-05-19 04:51:00+00:00 & 1 & Custom Formula Data & Temp &  & 2021-05-19 04:01:00+00:00 & 37.1\\\\\n",
       "\t JC1805086 & 131311970165 & 67623416 & 2021-06-12 17:54:00+00:00 & 0 & Custom Formula Data & Temp &  & 2021-06-12 11:45:00+00:00 & 37.0\\\\\n",
       "\t JC1805086 & 131311970165 & 67623416 & 2021-06-12 17:54:00+00:00 & 0 & Custom Formula Data & Temp &  & 2021-06-12 11:45:00+00:00 & 37.1\\\\\n",
       "\t JC3198827 & 131312055424 & 67674809 & 2021-05-15 04:21:00+00:00 & 1 & Custom Formula Data & Temp &  & 2021-05-15 01:52:00+00:00 & 36.0\\\\\n",
       "\t JC3198827 & 131312055424 & 67674809 & 2021-05-15 04:21:00+00:00 & 1 & Custom Formula Data & Temp &  & 2021-05-15 01:52:00+00:00 & 36.5\\\\\n",
       "\t JC691395  & 131312284888 & 67817006 & 2021-05-30 05:56:00+00:00 & 1 & Custom Formula Data & Temp &  & 2021-05-30 04:55:00+00:00 & 37.5\\\\\n",
       "\t JC691395  & 131312284888 & 67817006 & 2021-05-30 05:56:00+00:00 & 1 & Custom Formula Data & Temp &  & 2021-05-30 04:55:00+00:00 & 38.5\\\\\n",
       "\t JC1226459 & 131312464294 & 67919542 & 2021-07-09 07:46:00+00:00 & 1 & Custom Formula Data & Temp &  & 2021-07-09 06:01:00+00:00 & 37.0\\\\\n",
       "\t JC1226459 & 131312464294 & 67919542 & 2021-07-09 07:46:00+00:00 & 1 & Custom Formula Data & Temp &  & 2021-07-09 06:01:00+00:00 & 36.8\\\\\n",
       "\t JC2972808 & 131312474039 & 67925035 & 2021-05-27 01:49:00+00:00 & 1 & Custom Formula Data & Temp &  & 2021-05-27 01:36:00+00:00 & 38.0\\\\\n",
       "\t JC2972808 & 131312474039 & 67925035 & 2021-05-27 01:49:00+00:00 & 1 & Custom Formula Data & Temp &  & 2021-05-27 01:36:00+00:00 & 37.5\\\\\n",
       "\t JC2934156 & 131312829836 & 68150975 & 2021-07-07 23:08:00+00:00 & 0 & Custom Formula Data & Temp &  & 2021-07-07 22:00:00+00:00 & 37.0\\\\\n",
       "\t JC2934156 & 131312829836 & 68150975 & 2021-07-07 23:08:00+00:00 & 0 & Custom Formula Data & Temp &  & 2021-07-07 22:00:00+00:00 & 38.0\\\\\n",
       "\t JC1492500 & 131315185171 & 69632030 & 2021-08-19 19:15:00+00:00 & 1 & Custom Formula Data & Temp &  & 2021-08-19 17:25:00+00:00 & 37.0\\\\\n",
       "\t JC1492500 & 131315185171 & 69632030 & 2021-08-19 19:15:00+00:00 & 1 & Custom Formula Data & Temp &  & 2021-08-19 17:25:00+00:00 & 36.8\\\\\n",
       "\t JC1240770 & 131315358873 & 69742001 & 2021-07-18 08:19:00+00:00 & 1 & Custom Formula Data & Temp &  & 2021-07-18 07:30:00+00:00 & 37.0\\\\\n",
       "\t JC1240770 & 131315358873 & 69742001 & 2021-07-18 08:19:00+00:00 & 1 & Custom Formula Data & Temp &  & 2021-07-18 07:30:00+00:00 & 36.9\\\\\n",
       "\t JC711420  & 131315939576 & 70074560 & 2021-08-09 04:26:00+00:00 & 0 & Custom Formula Data & Temp &  & 2021-08-09 02:56:00+00:00 & 37.0\\\\\n",
       "\t JC711420  & 131315939576 & 70074560 & 2021-08-09 04:26:00+00:00 & 0 & Custom Formula Data & Temp &  & 2021-08-09 02:56:00+00:00 & 37.4\\\\\n",
       "\t JC1353351 & 131316328035 & 70306789 & 2021-07-23 23:57:00+00:00 & 0 & Custom Formula Data & Temp &  & 2021-07-23 22:32:00+00:00 & 37.0\\\\\n",
       "\t JC1353351 & 131316328035 & 70306789 & 2021-07-23 23:57:00+00:00 & 0 & Custom Formula Data & Temp &  & 2021-07-23 20:39:00+00:00 & 37.0\\\\\n",
       "\t JC1353351 & 131316328035 & 70306789 & 2021-07-23 23:57:00+00:00 & 0 & Custom Formula Data & Temp &  & 2021-07-23 22:32:00+00:00 & 37.1\\\\\n",
       "\t JC1353351 & 131316328035 & 70306789 & 2021-07-23 23:57:00+00:00 & 0 & Custom Formula Data & Temp &  & 2021-07-23 20:39:00+00:00 & 37.2\\\\\n",
       "\t JC783230  & 131318004163 & 71439906 & 2021-09-02 19:16:00+00:00 & 1 & Custom Formula Data & Temp &  & 2021-09-02 18:01:04+00:00 & 36.3\\\\\n",
       "\t JC783230  & 131318004163 & 71439906 & 2021-09-02 19:16:00+00:00 & 1 & Custom Formula Data & Temp &  & 2021-09-02 18:01:04+00:00 & 37.3\\\\\n",
       "\t JC2748255 & 131318533743 & 71772688 & 2021-08-23 03:12:00+00:00 & 0 & Custom Formula Data & Temp &  & 2021-08-23 02:15:00+00:00 & 37.0\\\\\n",
       "\t JC2748255 & 131318533743 & 71772688 & 2021-08-23 03:12:00+00:00 & 0 & Custom Formula Data & Temp &  & 2021-08-23 02:15:00+00:00 & 36.8\\\\\n",
       "\\end{tabular}\n"
      ],
      "text/markdown": [
       "\n",
       "A grouped_df: 108 × 10\n",
       "\n",
       "| anon_id &lt;chr&gt; | pat_enc_csn_id_coded &lt;dbl&gt; | inpatient_data_id_coded &lt;int&gt; | admit_time &lt;chr&gt; | label &lt;int&gt; | template &lt;chr&gt; | features &lt;chr&gt; | units &lt;chr&gt; | recorded_time &lt;chr&gt; | values &lt;dbl&gt; |\n",
       "|---|---|---|---|---|---|---|---|---|---|\n",
       "| JC569855  | 131287072640 | 52787463 | 2020-04-01 01:31:00+00:00 | 1 | Custom Formula Data | Temp | <!----> | 2020-03-31 21:50:00+00:00 | 36.4 |\n",
       "| JC569855  | 131287072640 | 52787463 | 2020-04-01 01:31:00+00:00 | 1 | Custom Formula Data | Temp | <!----> | 2020-03-31 22:20:00+00:00 | 36.4 |\n",
       "| JC569855  | 131287072640 | 52787463 | 2020-04-01 01:31:00+00:00 | 1 | Custom Formula Data | Temp | <!----> | 2020-04-01 01:25:00+00:00 | 36.6 |\n",
       "| JC569855  | 131287072640 | 52787463 | 2020-04-01 01:31:00+00:00 | 1 | Custom Formula Data | Temp | <!----> | 2020-04-01 00:20:00+00:00 | 37.0 |\n",
       "| JC569855  | 131287072640 | 52787463 | 2020-04-01 01:31:00+00:00 | 1 | Custom Formula Data | Temp | <!----> | 2020-04-01 00:20:00+00:00 | 37.8 |\n",
       "| JC569855  | 131287072640 | 52787463 | 2020-04-01 01:31:00+00:00 | 1 | Custom Formula Data | Temp | <!----> | 2020-03-31 22:20:00+00:00 | 37.4 |\n",
       "| JC569855  | 131287072640 | 52787463 | 2020-04-01 01:31:00+00:00 | 1 | Custom Formula Data | Temp | <!----> | 2020-04-01 01:25:00+00:00 | 37.6 |\n",
       "| JC569855  | 131287072640 | 52787463 | 2020-04-01 01:31:00+00:00 | 1 | Custom Formula Data | Temp | <!----> | 2020-03-31 21:50:00+00:00 | 37.4 |\n",
       "| JC2172285 | 131288354019 | 53546645 | 2020-04-12 02:43:00+00:00 | 0 | Custom Formula Data | Temp | <!----> | 2020-04-12 00:19:00+00:00 | 37.0 |\n",
       "| JC2172285 | 131288354019 | 53546645 | 2020-04-12 02:43:00+00:00 | 0 | Custom Formula Data | Temp | <!----> | 2020-04-12 02:37:00+00:00 | 37.0 |\n",
       "| JC2172285 | 131288354019 | 53546645 | 2020-04-12 02:43:00+00:00 | 0 | Custom Formula Data | Temp | <!----> | 2020-04-12 00:19:00+00:00 | 37.3 |\n",
       "| JC2172285 | 131288354019 | 53546645 | 2020-04-12 02:43:00+00:00 | 0 | Custom Formula Data | Temp | <!----> | 2020-04-12 02:37:00+00:00 | 36.9 |\n",
       "| JC2667450 | 131290184231 | 54694802 | 2020-06-22 00:53:00+00:00 | 0 | Custom Formula Data | Temp | <!----> | 2020-06-22 00:30:00+00:00 | 37.0 |\n",
       "| JC2667450 | 131290184231 | 54694802 | 2020-06-22 00:53:00+00:00 | 0 | Custom Formula Data | Temp | <!----> | 2020-06-22 00:30:00+00:00 | 36.8 |\n",
       "| JC2970183 | 131290529383 | 54912958 | 2020-05-31 23:05:00+00:00 | 1 | Custom Formula Data | Temp | <!----> | 2020-05-31 22:37:00+00:00 | 36.2 |\n",
       "| JC2970183 | 131290529383 | 54912958 | 2020-05-31 23:05:00+00:00 | 1 | Custom Formula Data | Temp | <!----> | 2020-05-31 22:37:00+00:00 | 37.2 |\n",
       "| JC1586701 | 131294121248 | 57144170 | 2020-08-10 04:27:00+00:00 | 1 | Custom Formula Data | Temp | <!----> | 2020-08-10 03:15:00+00:00 | 37.0 |\n",
       "| JC1586701 | 131294121248 | 57144170 | 2020-08-10 04:27:00+00:00 | 1 | Custom Formula Data | Temp | <!----> | 2020-08-10 03:15:00+00:00 | 36.6 |\n",
       "| JC1399951 | 131294220552 | 57206756 | 2020-09-28 23:04:00+00:00 | 1 | Custom Formula Data | Temp | <!----> | 2020-09-28 20:30:00+00:00 | 35.5 |\n",
       "| JC1399951 | 131294220552 | 57206756 | 2020-09-28 23:04:00+00:00 | 1 | Custom Formula Data | Temp | <!----> | 2020-09-28 23:00:00+00:00 | 36.0 |\n",
       "| JC1399951 | 131294220552 | 57206756 | 2020-09-28 23:04:00+00:00 | 1 | Custom Formula Data | Temp | <!----> | 2020-09-28 20:44:00+00:00 | 35.6 |\n",
       "| JC1399951 | 131294220552 | 57206756 | 2020-09-28 23:04:00+00:00 | 1 | Custom Formula Data | Temp | <!----> | 2020-09-28 20:29:00+00:00 | 35.5 |\n",
       "| JC1399951 | 131294220552 | 57206756 | 2020-09-28 23:04:00+00:00 | 1 | Custom Formula Data | Temp | <!----> | 2020-09-28 23:00:00+00:00 | 36.6 |\n",
       "| JC1399951 | 131294220552 | 57206756 | 2020-09-28 23:04:00+00:00 | 1 | Custom Formula Data | Temp | <!----> | 2020-09-28 20:44:00+00:00 | 36.6 |\n",
       "| JC1399951 | 131294220552 | 57206756 | 2020-09-28 23:04:00+00:00 | 1 | Custom Formula Data | Temp | <!----> | 2020-09-28 20:30:00+00:00 | 36.5 |\n",
       "| JC1399951 | 131294220552 | 57206756 | 2020-09-28 23:04:00+00:00 | 1 | Custom Formula Data | Temp | <!----> | 2020-09-28 20:29:00+00:00 | 36.5 |\n",
       "| JC3252278 | 131295029485 | 57704361 | 2020-10-04 15:02:00+00:00 | 1 | Custom Formula Data | Temp | <!----> | 2020-10-04 14:40:00+00:00 | 36.4 |\n",
       "| JC3252278 | 131295029485 | 57704361 | 2020-10-04 15:02:00+00:00 | 1 | Custom Formula Data | Temp | <!----> | 2020-10-04 14:24:00+00:00 | 36.4 |\n",
       "| JC3252278 | 131295029485 | 57704361 | 2020-10-04 15:02:00+00:00 | 1 | Custom Formula Data | Temp | <!----> | 2020-10-04 14:24:00+00:00 | 37.4 |\n",
       "| JC3252278 | 131295029485 | 57704361 | 2020-10-04 15:02:00+00:00 | 1 | Custom Formula Data | Temp | <!----> | 2020-10-04 14:40:00+00:00 | 37.4 |\n",
       "| JC2884543 | 131295582119 | 58023759 | 2020-10-09 23:04:00+00:00 | 0 | Custom Formula Data | Temp | <!----> | 2020-10-09 20:58:00+00:00 | 36.0 |\n",
       "| JC2884543 | 131295582119 | 58023759 | 2020-10-09 23:04:00+00:00 | 0 | Custom Formula Data | Temp | <!----> | 2020-10-09 21:40:00+00:00 | 36.0 |\n",
       "| JC2884543 | 131295582119 | 58023759 | 2020-10-09 23:04:00+00:00 | 0 | Custom Formula Data | Temp | <!----> | 2020-10-09 20:58:00+00:00 | 36.2 |\n",
       "| JC2884543 | 131295582119 | 58023759 | 2020-10-09 23:04:00+00:00 | 0 | Custom Formula Data | Temp | <!----> | 2020-10-09 21:40:00+00:00 | 36.4 |\n",
       "| JC1775929 | 131297026005 | 58906220 | 2020-10-11 02:24:00+00:00 | 0 | Custom Formula Data | Temp | <!----> | 2020-10-11 00:10:00+00:00 | 36.8 |\n",
       "| JC1775929 | 131297026005 | 58906220 | 2020-10-11 02:24:00+00:00 | 0 | Custom Formula Data | Temp | <!----> | 2020-10-11 00:10:00+00:00 | 37.8 |\n",
       "| JC2965596 | 131298071021 | 59545440 | 2020-11-14 13:21:00+00:00 | 1 | Custom Formula Data | Temp | <!----> | 2020-11-14 13:18:00+00:00 | 36.0 |\n",
       "| JC2965596 | 131298071021 | 59545440 | 2020-11-14 13:21:00+00:00 | 1 | Custom Formula Data | Temp | <!----> | 2020-11-14 13:18:00+00:00 | 36.4 |\n",
       "| JC2891997 | 131298128042 | 59582183 | 2020-11-17 04:31:00+00:00 | 0 | Custom Formula Data | Temp | <!----> | 2020-11-17 03:49:00+00:00 | 36.0 |\n",
       "| JC2891997 | 131298128042 | 59582183 | 2020-11-17 04:31:00+00:00 | 0 | Custom Formula Data | Temp | <!----> | 2020-11-17 03:49:00+00:00 | 36.3 |\n",
       "| JC2708254 | 131298598985 | 59868714 | 2020-11-07 03:49:00+00:00 | 1 | Custom Formula Data | Temp | <!----> | 2020-11-06 23:42:00+00:00 | 35.9 |\n",
       "| JC2708254 | 131298598985 | 59868714 | 2020-11-07 03:49:00+00:00 | 1 | Custom Formula Data | Temp | <!----> | 2020-11-06 23:42:00+00:00 | 36.9 |\n",
       "| JC569619  | 131300312684 | 60892691 | 2020-12-31 22:00:00+00:00 | 1 | Custom Formula Data | Temp | <!----> | 2020-12-31 20:56:00+00:00 | 36.4 |\n",
       "| JC569619  | 131300312684 | 60892691 | 2020-12-31 22:00:00+00:00 | 1 | Custom Formula Data | Temp | <!----> | 2020-12-31 21:18:00+00:00 | 36.4 |\n",
       "| JC569619  | 131300312684 | 60892691 | 2020-12-31 22:00:00+00:00 | 1 | Custom Formula Data | Temp | <!----> | 2020-12-31 20:56:00+00:00 | 37.4 |\n",
       "| JC569619  | 131300312684 | 60892691 | 2020-12-31 22:00:00+00:00 | 1 | Custom Formula Data | Temp | <!----> | 2020-12-31 21:18:00+00:00 | 37.4 |\n",
       "| JC607469  | 131301568614 | 61661519 | 2020-12-10 16:22:00+00:00 | 0 | Custom Formula Data | Temp | <!----> | 2020-12-10 15:30:00+00:00 | 37.0 |\n",
       "| JC607469  | 131301568614 | 61661519 | 2020-12-10 16:22:00+00:00 | 0 | Custom Formula Data | Temp | <!----> | 2020-12-10 15:30:00+00:00 | 36.9 |\n",
       "| JC2959469 | 131301904846 | 61862216 | 2021-01-09 16:35:00+00:00 | 1 | Custom Formula Data | Temp | <!----> | 2021-01-09 14:10:00+00:00 | 37.3 |\n",
       "| JC2959469 | 131301904846 | 61862216 | 2021-01-09 16:35:00+00:00 | 1 | Custom Formula Data | Temp | <!----> | 2021-01-09 14:10:00+00:00 | 38.3 |\n",
       "| JC2676026 | 131302034328 | 61941682 | 2021-01-30 16:57:00+00:00 | 1 | Custom Formula Data | Temp | <!----> | 2021-01-30 16:15:00+00:00 | 36.7 |\n",
       "| JC2676026 | 131302034328 | 61941682 | 2021-01-30 16:57:00+00:00 | 1 | Custom Formula Data | Temp | <!----> | 2021-01-30 16:15:00+00:00 | 37.7 |\n",
       "| JC529916  | 131302413147 | 62178428 | 2021-02-16 02:04:00+00:00 | 1 | Custom Formula Data | Temp | <!----> | 2021-02-16 00:00:00+00:00 | 36.2 |\n",
       "| JC529916  | 131302413147 | 62178428 | 2021-02-16 02:04:00+00:00 | 1 | Custom Formula Data | Temp | <!----> | 2021-02-16 00:00:00+00:00 | 37.2 |\n",
       "| JC2822169 | 131302895668 | 62475853 | 2021-01-26 13:52:00+00:00 | 0 | Custom Formula Data | Temp | <!----> | 2021-01-26 08:43:00+00:00 | 37.0 |\n",
       "| JC2822169 | 131302895668 | 62475853 | 2021-01-26 13:52:00+00:00 | 0 | Custom Formula Data | Temp | <!----> | 2021-01-26 08:43:00+00:00 | 36.8 |\n",
       "| JC1974994 | 131304125180 | 63207576 | 2021-02-02 12:14:00+00:00 | 1 | Custom Formula Data | Temp | <!----> | 2021-02-02 10:40:00+00:00 | 37.0 |\n",
       "| JC1974994 | 131304125180 | 63207576 | 2021-02-02 12:14:00+00:00 | 1 | Custom Formula Data | Temp | <!----> | 2021-02-02 10:40:00+00:00 | 36.7 |\n",
       "| JC726988  | 131306196254 | 64517904 | 2021-02-25 05:30:00+00:00 | 1 | Custom Formula Data | Temp | <!----> | 2021-02-25 04:00:00+00:00 | 37.0 |\n",
       "| JC726988  | 131306196254 | 64517904 | 2021-02-25 05:30:00+00:00 | 1 | Custom Formula Data | Temp | <!----> | 2021-02-25 04:00:00+00:00 | 37.1 |\n",
       "| JC532918  | 131307188814 | 64727979 | 2021-03-09 09:55:00+00:00 | 1 | Custom Formula Data | Temp | <!----> | 2021-03-09 08:40:00+00:00 | 36.0 |\n",
       "| JC532918  | 131307188814 | 64727979 | 2021-03-09 09:55:00+00:00 | 1 | Custom Formula Data | Temp | <!----> | 2021-03-09 08:25:00+00:00 | 35.7 |\n",
       "| JC532918  | 131307188814 | 64727979 | 2021-03-09 09:55:00+00:00 | 1 | Custom Formula Data | Temp | <!----> | 2021-03-09 08:22:00+00:00 | 36.0 |\n",
       "| JC532918  | 131307188814 | 64727979 | 2021-03-09 09:55:00+00:00 | 1 | Custom Formula Data | Temp | <!----> | 2021-03-09 08:40:00+00:00 | 36.5 |\n",
       "| JC532918  | 131307188814 | 64727979 | 2021-03-09 09:55:00+00:00 | 1 | Custom Formula Data | Temp | <!----> | 2021-03-09 08:22:00+00:00 | 36.7 |\n",
       "| JC532918  | 131307188814 | 64727979 | 2021-03-09 09:55:00+00:00 | 1 | Custom Formula Data | Temp | <!----> | 2021-03-09 08:25:00+00:00 | 36.7 |\n",
       "| JC2950131 | 131308190716 | 65235510 | 2021-04-13 03:11:00+00:00 | 0 | Custom Formula Data | Temp | <!----> | 2021-04-13 02:57:00+00:00 | 37.0 |\n",
       "| JC2950131 | 131308190716 | 65235510 | 2021-04-13 03:11:00+00:00 | 0 | Custom Formula Data | Temp | <!----> | 2021-04-13 02:57:00+00:00 | 36.8 |\n",
       "| JC1667644 | 131309566419 | 66145848 | 2021-05-11 04:54:00+00:00 | 1 | Custom Formula Data | Temp | <!----> | 2021-05-11 04:50:00+00:00 | 37.0 |\n",
       "| JC1667644 | 131309566419 | 66145848 | 2021-05-11 04:54:00+00:00 | 1 | Custom Formula Data | Temp | <!----> | 2021-05-11 04:50:00+00:00 | 36.7 |\n",
       "| JC3191229 | 131311002636 | 67058617 | 2021-04-26 07:33:00+00:00 | 0 | Custom Formula Data | Temp | <!----> | 2021-04-26 07:00:00+00:00 | 37.0 |\n",
       "| JC3191229 | 131311002636 | 67058617 | 2021-04-26 07:33:00+00:00 | 0 | Custom Formula Data | Temp | <!----> | 2021-04-26 07:00:00+00:00 | 36.8 |\n",
       "| JC2016939 | 131311676355 | 67434314 | 2021-06-25 04:11:00+00:00 | 1 | Custom Formula Data | Temp | <!----> | 2021-06-24 23:45:00+00:00 | 37.0 |\n",
       "| JC2016939 | 131311676355 | 67434314 | 2021-06-25 04:11:00+00:00 | 1 | Custom Formula Data | Temp | <!----> | 2021-06-24 22:46:00+00:00 | 37.1 |\n",
       "| JC2016939 | 131311676355 | 67434314 | 2021-06-25 04:11:00+00:00 | 1 | Custom Formula Data | Temp | <!----> | 2021-06-25 01:00:00+00:00 | 37.0 |\n",
       "| JC2016939 | 131311676355 | 67434314 | 2021-06-25 04:11:00+00:00 | 1 | Custom Formula Data | Temp | <!----> | 2021-06-24 22:46:00+00:00 | 38.1 |\n",
       "| JC2016939 | 131311676355 | 67434314 | 2021-06-25 04:11:00+00:00 | 1 | Custom Formula Data | Temp | <!----> | 2021-06-24 23:45:00+00:00 | 37.8 |\n",
       "| JC2016939 | 131311676355 | 67434314 | 2021-06-25 04:11:00+00:00 | 1 | Custom Formula Data | Temp | <!----> | 2021-06-25 01:00:00+00:00 | 37.6 |\n",
       "| JC1999825 | 131311814184 | 67523487 | 2021-05-19 04:51:00+00:00 | 1 | Custom Formula Data | Temp | <!----> | 2021-05-19 04:13:00+00:00 | 37.0 |\n",
       "| JC1999825 | 131311814184 | 67523487 | 2021-05-19 04:51:00+00:00 | 1 | Custom Formula Data | Temp | <!----> | 2021-05-19 04:01:00+00:00 | 37.0 |\n",
       "| JC1999825 | 131311814184 | 67523487 | 2021-05-19 04:51:00+00:00 | 1 | Custom Formula Data | Temp | <!----> | 2021-05-19 04:13:00+00:00 | 37.1 |\n",
       "| JC1999825 | 131311814184 | 67523487 | 2021-05-19 04:51:00+00:00 | 1 | Custom Formula Data | Temp | <!----> | 2021-05-19 04:01:00+00:00 | 37.1 |\n",
       "| JC1805086 | 131311970165 | 67623416 | 2021-06-12 17:54:00+00:00 | 0 | Custom Formula Data | Temp | <!----> | 2021-06-12 11:45:00+00:00 | 37.0 |\n",
       "| JC1805086 | 131311970165 | 67623416 | 2021-06-12 17:54:00+00:00 | 0 | Custom Formula Data | Temp | <!----> | 2021-06-12 11:45:00+00:00 | 37.1 |\n",
       "| JC3198827 | 131312055424 | 67674809 | 2021-05-15 04:21:00+00:00 | 1 | Custom Formula Data | Temp | <!----> | 2021-05-15 01:52:00+00:00 | 36.0 |\n",
       "| JC3198827 | 131312055424 | 67674809 | 2021-05-15 04:21:00+00:00 | 1 | Custom Formula Data | Temp | <!----> | 2021-05-15 01:52:00+00:00 | 36.5 |\n",
       "| JC691395  | 131312284888 | 67817006 | 2021-05-30 05:56:00+00:00 | 1 | Custom Formula Data | Temp | <!----> | 2021-05-30 04:55:00+00:00 | 37.5 |\n",
       "| JC691395  | 131312284888 | 67817006 | 2021-05-30 05:56:00+00:00 | 1 | Custom Formula Data | Temp | <!----> | 2021-05-30 04:55:00+00:00 | 38.5 |\n",
       "| JC1226459 | 131312464294 | 67919542 | 2021-07-09 07:46:00+00:00 | 1 | Custom Formula Data | Temp | <!----> | 2021-07-09 06:01:00+00:00 | 37.0 |\n",
       "| JC1226459 | 131312464294 | 67919542 | 2021-07-09 07:46:00+00:00 | 1 | Custom Formula Data | Temp | <!----> | 2021-07-09 06:01:00+00:00 | 36.8 |\n",
       "| JC2972808 | 131312474039 | 67925035 | 2021-05-27 01:49:00+00:00 | 1 | Custom Formula Data | Temp | <!----> | 2021-05-27 01:36:00+00:00 | 38.0 |\n",
       "| JC2972808 | 131312474039 | 67925035 | 2021-05-27 01:49:00+00:00 | 1 | Custom Formula Data | Temp | <!----> | 2021-05-27 01:36:00+00:00 | 37.5 |\n",
       "| JC2934156 | 131312829836 | 68150975 | 2021-07-07 23:08:00+00:00 | 0 | Custom Formula Data | Temp | <!----> | 2021-07-07 22:00:00+00:00 | 37.0 |\n",
       "| JC2934156 | 131312829836 | 68150975 | 2021-07-07 23:08:00+00:00 | 0 | Custom Formula Data | Temp | <!----> | 2021-07-07 22:00:00+00:00 | 38.0 |\n",
       "| JC1492500 | 131315185171 | 69632030 | 2021-08-19 19:15:00+00:00 | 1 | Custom Formula Data | Temp | <!----> | 2021-08-19 17:25:00+00:00 | 37.0 |\n",
       "| JC1492500 | 131315185171 | 69632030 | 2021-08-19 19:15:00+00:00 | 1 | Custom Formula Data | Temp | <!----> | 2021-08-19 17:25:00+00:00 | 36.8 |\n",
       "| JC1240770 | 131315358873 | 69742001 | 2021-07-18 08:19:00+00:00 | 1 | Custom Formula Data | Temp | <!----> | 2021-07-18 07:30:00+00:00 | 37.0 |\n",
       "| JC1240770 | 131315358873 | 69742001 | 2021-07-18 08:19:00+00:00 | 1 | Custom Formula Data | Temp | <!----> | 2021-07-18 07:30:00+00:00 | 36.9 |\n",
       "| JC711420  | 131315939576 | 70074560 | 2021-08-09 04:26:00+00:00 | 0 | Custom Formula Data | Temp | <!----> | 2021-08-09 02:56:00+00:00 | 37.0 |\n",
       "| JC711420  | 131315939576 | 70074560 | 2021-08-09 04:26:00+00:00 | 0 | Custom Formula Data | Temp | <!----> | 2021-08-09 02:56:00+00:00 | 37.4 |\n",
       "| JC1353351 | 131316328035 | 70306789 | 2021-07-23 23:57:00+00:00 | 0 | Custom Formula Data | Temp | <!----> | 2021-07-23 22:32:00+00:00 | 37.0 |\n",
       "| JC1353351 | 131316328035 | 70306789 | 2021-07-23 23:57:00+00:00 | 0 | Custom Formula Data | Temp | <!----> | 2021-07-23 20:39:00+00:00 | 37.0 |\n",
       "| JC1353351 | 131316328035 | 70306789 | 2021-07-23 23:57:00+00:00 | 0 | Custom Formula Data | Temp | <!----> | 2021-07-23 22:32:00+00:00 | 37.1 |\n",
       "| JC1353351 | 131316328035 | 70306789 | 2021-07-23 23:57:00+00:00 | 0 | Custom Formula Data | Temp | <!----> | 2021-07-23 20:39:00+00:00 | 37.2 |\n",
       "| JC783230  | 131318004163 | 71439906 | 2021-09-02 19:16:00+00:00 | 1 | Custom Formula Data | Temp | <!----> | 2021-09-02 18:01:04+00:00 | 36.3 |\n",
       "| JC783230  | 131318004163 | 71439906 | 2021-09-02 19:16:00+00:00 | 1 | Custom Formula Data | Temp | <!----> | 2021-09-02 18:01:04+00:00 | 37.3 |\n",
       "| JC2748255 | 131318533743 | 71772688 | 2021-08-23 03:12:00+00:00 | 0 | Custom Formula Data | Temp | <!----> | 2021-08-23 02:15:00+00:00 | 37.0 |\n",
       "| JC2748255 | 131318533743 | 71772688 | 2021-08-23 03:12:00+00:00 | 0 | Custom Formula Data | Temp | <!----> | 2021-08-23 02:15:00+00:00 | 36.8 |\n",
       "\n"
      ],
      "text/plain": [
       "    anon_id   pat_enc_csn_id_coded inpatient_data_id_coded\n",
       "1   JC569855  131287072640         52787463               \n",
       "2   JC569855  131287072640         52787463               \n",
       "3   JC569855  131287072640         52787463               \n",
       "4   JC569855  131287072640         52787463               \n",
       "5   JC569855  131287072640         52787463               \n",
       "6   JC569855  131287072640         52787463               \n",
       "7   JC569855  131287072640         52787463               \n",
       "8   JC569855  131287072640         52787463               \n",
       "9   JC2172285 131288354019         53546645               \n",
       "10  JC2172285 131288354019         53546645               \n",
       "11  JC2172285 131288354019         53546645               \n",
       "12  JC2172285 131288354019         53546645               \n",
       "13  JC2667450 131290184231         54694802               \n",
       "14  JC2667450 131290184231         54694802               \n",
       "15  JC2970183 131290529383         54912958               \n",
       "16  JC2970183 131290529383         54912958               \n",
       "17  JC1586701 131294121248         57144170               \n",
       "18  JC1586701 131294121248         57144170               \n",
       "19  JC1399951 131294220552         57206756               \n",
       "20  JC1399951 131294220552         57206756               \n",
       "21  JC1399951 131294220552         57206756               \n",
       "22  JC1399951 131294220552         57206756               \n",
       "23  JC1399951 131294220552         57206756               \n",
       "24  JC1399951 131294220552         57206756               \n",
       "25  JC1399951 131294220552         57206756               \n",
       "26  JC1399951 131294220552         57206756               \n",
       "27  JC3252278 131295029485         57704361               \n",
       "28  JC3252278 131295029485         57704361               \n",
       "29  JC3252278 131295029485         57704361               \n",
       "30  JC3252278 131295029485         57704361               \n",
       "31  JC2884543 131295582119         58023759               \n",
       "32  JC2884543 131295582119         58023759               \n",
       "33  JC2884543 131295582119         58023759               \n",
       "34  JC2884543 131295582119         58023759               \n",
       "35  JC1775929 131297026005         58906220               \n",
       "36  JC1775929 131297026005         58906220               \n",
       "37  JC2965596 131298071021         59545440               \n",
       "38  JC2965596 131298071021         59545440               \n",
       "39  JC2891997 131298128042         59582183               \n",
       "40  JC2891997 131298128042         59582183               \n",
       "41  JC2708254 131298598985         59868714               \n",
       "42  JC2708254 131298598985         59868714               \n",
       "43  JC569619  131300312684         60892691               \n",
       "44  JC569619  131300312684         60892691               \n",
       "45  JC569619  131300312684         60892691               \n",
       "46  JC569619  131300312684         60892691               \n",
       "47  JC607469  131301568614         61661519               \n",
       "48  JC607469  131301568614         61661519               \n",
       "49  JC2959469 131301904846         61862216               \n",
       "50  JC2959469 131301904846         61862216               \n",
       "51  JC2676026 131302034328         61941682               \n",
       "52  JC2676026 131302034328         61941682               \n",
       "53  JC529916  131302413147         62178428               \n",
       "54  JC529916  131302413147         62178428               \n",
       "55  JC2822169 131302895668         62475853               \n",
       "56  JC2822169 131302895668         62475853               \n",
       "57  JC1974994 131304125180         63207576               \n",
       "58  JC1974994 131304125180         63207576               \n",
       "59  JC726988  131306196254         64517904               \n",
       "60  JC726988  131306196254         64517904               \n",
       "61  JC532918  131307188814         64727979               \n",
       "62  JC532918  131307188814         64727979               \n",
       "63  JC532918  131307188814         64727979               \n",
       "64  JC532918  131307188814         64727979               \n",
       "65  JC532918  131307188814         64727979               \n",
       "66  JC532918  131307188814         64727979               \n",
       "67  JC2950131 131308190716         65235510               \n",
       "68  JC2950131 131308190716         65235510               \n",
       "69  JC1667644 131309566419         66145848               \n",
       "70  JC1667644 131309566419         66145848               \n",
       "71  JC3191229 131311002636         67058617               \n",
       "72  JC3191229 131311002636         67058617               \n",
       "73  JC2016939 131311676355         67434314               \n",
       "74  JC2016939 131311676355         67434314               \n",
       "75  JC2016939 131311676355         67434314               \n",
       "76  JC2016939 131311676355         67434314               \n",
       "77  JC2016939 131311676355         67434314               \n",
       "78  JC2016939 131311676355         67434314               \n",
       "79  JC1999825 131311814184         67523487               \n",
       "80  JC1999825 131311814184         67523487               \n",
       "81  JC1999825 131311814184         67523487               \n",
       "82  JC1999825 131311814184         67523487               \n",
       "83  JC1805086 131311970165         67623416               \n",
       "84  JC1805086 131311970165         67623416               \n",
       "85  JC3198827 131312055424         67674809               \n",
       "86  JC3198827 131312055424         67674809               \n",
       "87  JC691395  131312284888         67817006               \n",
       "88  JC691395  131312284888         67817006               \n",
       "89  JC1226459 131312464294         67919542               \n",
       "90  JC1226459 131312464294         67919542               \n",
       "91  JC2972808 131312474039         67925035               \n",
       "92  JC2972808 131312474039         67925035               \n",
       "93  JC2934156 131312829836         68150975               \n",
       "94  JC2934156 131312829836         68150975               \n",
       "95  JC1492500 131315185171         69632030               \n",
       "96  JC1492500 131315185171         69632030               \n",
       "97  JC1240770 131315358873         69742001               \n",
       "98  JC1240770 131315358873         69742001               \n",
       "99  JC711420  131315939576         70074560               \n",
       "100 JC711420  131315939576         70074560               \n",
       "101 JC1353351 131316328035         70306789               \n",
       "102 JC1353351 131316328035         70306789               \n",
       "103 JC1353351 131316328035         70306789               \n",
       "104 JC1353351 131316328035         70306789               \n",
       "105 JC783230  131318004163         71439906               \n",
       "106 JC783230  131318004163         71439906               \n",
       "107 JC2748255 131318533743         71772688               \n",
       "108 JC2748255 131318533743         71772688               \n",
       "    admit_time                label template            features units\n",
       "1   2020-04-01 01:31:00+00:00 1     Custom Formula Data Temp          \n",
       "2   2020-04-01 01:31:00+00:00 1     Custom Formula Data Temp          \n",
       "3   2020-04-01 01:31:00+00:00 1     Custom Formula Data Temp          \n",
       "4   2020-04-01 01:31:00+00:00 1     Custom Formula Data Temp          \n",
       "5   2020-04-01 01:31:00+00:00 1     Custom Formula Data Temp          \n",
       "6   2020-04-01 01:31:00+00:00 1     Custom Formula Data Temp          \n",
       "7   2020-04-01 01:31:00+00:00 1     Custom Formula Data Temp          \n",
       "8   2020-04-01 01:31:00+00:00 1     Custom Formula Data Temp          \n",
       "9   2020-04-12 02:43:00+00:00 0     Custom Formula Data Temp          \n",
       "10  2020-04-12 02:43:00+00:00 0     Custom Formula Data Temp          \n",
       "11  2020-04-12 02:43:00+00:00 0     Custom Formula Data Temp          \n",
       "12  2020-04-12 02:43:00+00:00 0     Custom Formula Data Temp          \n",
       "13  2020-06-22 00:53:00+00:00 0     Custom Formula Data Temp          \n",
       "14  2020-06-22 00:53:00+00:00 0     Custom Formula Data Temp          \n",
       "15  2020-05-31 23:05:00+00:00 1     Custom Formula Data Temp          \n",
       "16  2020-05-31 23:05:00+00:00 1     Custom Formula Data Temp          \n",
       "17  2020-08-10 04:27:00+00:00 1     Custom Formula Data Temp          \n",
       "18  2020-08-10 04:27:00+00:00 1     Custom Formula Data Temp          \n",
       "19  2020-09-28 23:04:00+00:00 1     Custom Formula Data Temp          \n",
       "20  2020-09-28 23:04:00+00:00 1     Custom Formula Data Temp          \n",
       "21  2020-09-28 23:04:00+00:00 1     Custom Formula Data Temp          \n",
       "22  2020-09-28 23:04:00+00:00 1     Custom Formula Data Temp          \n",
       "23  2020-09-28 23:04:00+00:00 1     Custom Formula Data Temp          \n",
       "24  2020-09-28 23:04:00+00:00 1     Custom Formula Data Temp          \n",
       "25  2020-09-28 23:04:00+00:00 1     Custom Formula Data Temp          \n",
       "26  2020-09-28 23:04:00+00:00 1     Custom Formula Data Temp          \n",
       "27  2020-10-04 15:02:00+00:00 1     Custom Formula Data Temp          \n",
       "28  2020-10-04 15:02:00+00:00 1     Custom Formula Data Temp          \n",
       "29  2020-10-04 15:02:00+00:00 1     Custom Formula Data Temp          \n",
       "30  2020-10-04 15:02:00+00:00 1     Custom Formula Data Temp          \n",
       "31  2020-10-09 23:04:00+00:00 0     Custom Formula Data Temp          \n",
       "32  2020-10-09 23:04:00+00:00 0     Custom Formula Data Temp          \n",
       "33  2020-10-09 23:04:00+00:00 0     Custom Formula Data Temp          \n",
       "34  2020-10-09 23:04:00+00:00 0     Custom Formula Data Temp          \n",
       "35  2020-10-11 02:24:00+00:00 0     Custom Formula Data Temp          \n",
       "36  2020-10-11 02:24:00+00:00 0     Custom Formula Data Temp          \n",
       "37  2020-11-14 13:21:00+00:00 1     Custom Formula Data Temp          \n",
       "38  2020-11-14 13:21:00+00:00 1     Custom Formula Data Temp          \n",
       "39  2020-11-17 04:31:00+00:00 0     Custom Formula Data Temp          \n",
       "40  2020-11-17 04:31:00+00:00 0     Custom Formula Data Temp          \n",
       "41  2020-11-07 03:49:00+00:00 1     Custom Formula Data Temp          \n",
       "42  2020-11-07 03:49:00+00:00 1     Custom Formula Data Temp          \n",
       "43  2020-12-31 22:00:00+00:00 1     Custom Formula Data Temp          \n",
       "44  2020-12-31 22:00:00+00:00 1     Custom Formula Data Temp          \n",
       "45  2020-12-31 22:00:00+00:00 1     Custom Formula Data Temp          \n",
       "46  2020-12-31 22:00:00+00:00 1     Custom Formula Data Temp          \n",
       "47  2020-12-10 16:22:00+00:00 0     Custom Formula Data Temp          \n",
       "48  2020-12-10 16:22:00+00:00 0     Custom Formula Data Temp          \n",
       "49  2021-01-09 16:35:00+00:00 1     Custom Formula Data Temp          \n",
       "50  2021-01-09 16:35:00+00:00 1     Custom Formula Data Temp          \n",
       "51  2021-01-30 16:57:00+00:00 1     Custom Formula Data Temp          \n",
       "52  2021-01-30 16:57:00+00:00 1     Custom Formula Data Temp          \n",
       "53  2021-02-16 02:04:00+00:00 1     Custom Formula Data Temp          \n",
       "54  2021-02-16 02:04:00+00:00 1     Custom Formula Data Temp          \n",
       "55  2021-01-26 13:52:00+00:00 0     Custom Formula Data Temp          \n",
       "56  2021-01-26 13:52:00+00:00 0     Custom Formula Data Temp          \n",
       "57  2021-02-02 12:14:00+00:00 1     Custom Formula Data Temp          \n",
       "58  2021-02-02 12:14:00+00:00 1     Custom Formula Data Temp          \n",
       "59  2021-02-25 05:30:00+00:00 1     Custom Formula Data Temp          \n",
       "60  2021-02-25 05:30:00+00:00 1     Custom Formula Data Temp          \n",
       "61  2021-03-09 09:55:00+00:00 1     Custom Formula Data Temp          \n",
       "62  2021-03-09 09:55:00+00:00 1     Custom Formula Data Temp          \n",
       "63  2021-03-09 09:55:00+00:00 1     Custom Formula Data Temp          \n",
       "64  2021-03-09 09:55:00+00:00 1     Custom Formula Data Temp          \n",
       "65  2021-03-09 09:55:00+00:00 1     Custom Formula Data Temp          \n",
       "66  2021-03-09 09:55:00+00:00 1     Custom Formula Data Temp          \n",
       "67  2021-04-13 03:11:00+00:00 0     Custom Formula Data Temp          \n",
       "68  2021-04-13 03:11:00+00:00 0     Custom Formula Data Temp          \n",
       "69  2021-05-11 04:54:00+00:00 1     Custom Formula Data Temp          \n",
       "70  2021-05-11 04:54:00+00:00 1     Custom Formula Data Temp          \n",
       "71  2021-04-26 07:33:00+00:00 0     Custom Formula Data Temp          \n",
       "72  2021-04-26 07:33:00+00:00 0     Custom Formula Data Temp          \n",
       "73  2021-06-25 04:11:00+00:00 1     Custom Formula Data Temp          \n",
       "74  2021-06-25 04:11:00+00:00 1     Custom Formula Data Temp          \n",
       "75  2021-06-25 04:11:00+00:00 1     Custom Formula Data Temp          \n",
       "76  2021-06-25 04:11:00+00:00 1     Custom Formula Data Temp          \n",
       "77  2021-06-25 04:11:00+00:00 1     Custom Formula Data Temp          \n",
       "78  2021-06-25 04:11:00+00:00 1     Custom Formula Data Temp          \n",
       "79  2021-05-19 04:51:00+00:00 1     Custom Formula Data Temp          \n",
       "80  2021-05-19 04:51:00+00:00 1     Custom Formula Data Temp          \n",
       "81  2021-05-19 04:51:00+00:00 1     Custom Formula Data Temp          \n",
       "82  2021-05-19 04:51:00+00:00 1     Custom Formula Data Temp          \n",
       "83  2021-06-12 17:54:00+00:00 0     Custom Formula Data Temp          \n",
       "84  2021-06-12 17:54:00+00:00 0     Custom Formula Data Temp          \n",
       "85  2021-05-15 04:21:00+00:00 1     Custom Formula Data Temp          \n",
       "86  2021-05-15 04:21:00+00:00 1     Custom Formula Data Temp          \n",
       "87  2021-05-30 05:56:00+00:00 1     Custom Formula Data Temp          \n",
       "88  2021-05-30 05:56:00+00:00 1     Custom Formula Data Temp          \n",
       "89  2021-07-09 07:46:00+00:00 1     Custom Formula Data Temp          \n",
       "90  2021-07-09 07:46:00+00:00 1     Custom Formula Data Temp          \n",
       "91  2021-05-27 01:49:00+00:00 1     Custom Formula Data Temp          \n",
       "92  2021-05-27 01:49:00+00:00 1     Custom Formula Data Temp          \n",
       "93  2021-07-07 23:08:00+00:00 0     Custom Formula Data Temp          \n",
       "94  2021-07-07 23:08:00+00:00 0     Custom Formula Data Temp          \n",
       "95  2021-08-19 19:15:00+00:00 1     Custom Formula Data Temp          \n",
       "96  2021-08-19 19:15:00+00:00 1     Custom Formula Data Temp          \n",
       "97  2021-07-18 08:19:00+00:00 1     Custom Formula Data Temp          \n",
       "98  2021-07-18 08:19:00+00:00 1     Custom Formula Data Temp          \n",
       "99  2021-08-09 04:26:00+00:00 0     Custom Formula Data Temp          \n",
       "100 2021-08-09 04:26:00+00:00 0     Custom Formula Data Temp          \n",
       "101 2021-07-23 23:57:00+00:00 0     Custom Formula Data Temp          \n",
       "102 2021-07-23 23:57:00+00:00 0     Custom Formula Data Temp          \n",
       "103 2021-07-23 23:57:00+00:00 0     Custom Formula Data Temp          \n",
       "104 2021-07-23 23:57:00+00:00 0     Custom Formula Data Temp          \n",
       "105 2021-09-02 19:16:00+00:00 1     Custom Formula Data Temp          \n",
       "106 2021-09-02 19:16:00+00:00 1     Custom Formula Data Temp          \n",
       "107 2021-08-23 03:12:00+00:00 0     Custom Formula Data Temp          \n",
       "108 2021-08-23 03:12:00+00:00 0     Custom Formula Data Temp          \n",
       "    recorded_time             values\n",
       "1   2020-03-31 21:50:00+00:00 36.4  \n",
       "2   2020-03-31 22:20:00+00:00 36.4  \n",
       "3   2020-04-01 01:25:00+00:00 36.6  \n",
       "4   2020-04-01 00:20:00+00:00 37.0  \n",
       "5   2020-04-01 00:20:00+00:00 37.8  \n",
       "6   2020-03-31 22:20:00+00:00 37.4  \n",
       "7   2020-04-01 01:25:00+00:00 37.6  \n",
       "8   2020-03-31 21:50:00+00:00 37.4  \n",
       "9   2020-04-12 00:19:00+00:00 37.0  \n",
       "10  2020-04-12 02:37:00+00:00 37.0  \n",
       "11  2020-04-12 00:19:00+00:00 37.3  \n",
       "12  2020-04-12 02:37:00+00:00 36.9  \n",
       "13  2020-06-22 00:30:00+00:00 37.0  \n",
       "14  2020-06-22 00:30:00+00:00 36.8  \n",
       "15  2020-05-31 22:37:00+00:00 36.2  \n",
       "16  2020-05-31 22:37:00+00:00 37.2  \n",
       "17  2020-08-10 03:15:00+00:00 37.0  \n",
       "18  2020-08-10 03:15:00+00:00 36.6  \n",
       "19  2020-09-28 20:30:00+00:00 35.5  \n",
       "20  2020-09-28 23:00:00+00:00 36.0  \n",
       "21  2020-09-28 20:44:00+00:00 35.6  \n",
       "22  2020-09-28 20:29:00+00:00 35.5  \n",
       "23  2020-09-28 23:00:00+00:00 36.6  \n",
       "24  2020-09-28 20:44:00+00:00 36.6  \n",
       "25  2020-09-28 20:30:00+00:00 36.5  \n",
       "26  2020-09-28 20:29:00+00:00 36.5  \n",
       "27  2020-10-04 14:40:00+00:00 36.4  \n",
       "28  2020-10-04 14:24:00+00:00 36.4  \n",
       "29  2020-10-04 14:24:00+00:00 37.4  \n",
       "30  2020-10-04 14:40:00+00:00 37.4  \n",
       "31  2020-10-09 20:58:00+00:00 36.0  \n",
       "32  2020-10-09 21:40:00+00:00 36.0  \n",
       "33  2020-10-09 20:58:00+00:00 36.2  \n",
       "34  2020-10-09 21:40:00+00:00 36.4  \n",
       "35  2020-10-11 00:10:00+00:00 36.8  \n",
       "36  2020-10-11 00:10:00+00:00 37.8  \n",
       "37  2020-11-14 13:18:00+00:00 36.0  \n",
       "38  2020-11-14 13:18:00+00:00 36.4  \n",
       "39  2020-11-17 03:49:00+00:00 36.0  \n",
       "40  2020-11-17 03:49:00+00:00 36.3  \n",
       "41  2020-11-06 23:42:00+00:00 35.9  \n",
       "42  2020-11-06 23:42:00+00:00 36.9  \n",
       "43  2020-12-31 20:56:00+00:00 36.4  \n",
       "44  2020-12-31 21:18:00+00:00 36.4  \n",
       "45  2020-12-31 20:56:00+00:00 37.4  \n",
       "46  2020-12-31 21:18:00+00:00 37.4  \n",
       "47  2020-12-10 15:30:00+00:00 37.0  \n",
       "48  2020-12-10 15:30:00+00:00 36.9  \n",
       "49  2021-01-09 14:10:00+00:00 37.3  \n",
       "50  2021-01-09 14:10:00+00:00 38.3  \n",
       "51  2021-01-30 16:15:00+00:00 36.7  \n",
       "52  2021-01-30 16:15:00+00:00 37.7  \n",
       "53  2021-02-16 00:00:00+00:00 36.2  \n",
       "54  2021-02-16 00:00:00+00:00 37.2  \n",
       "55  2021-01-26 08:43:00+00:00 37.0  \n",
       "56  2021-01-26 08:43:00+00:00 36.8  \n",
       "57  2021-02-02 10:40:00+00:00 37.0  \n",
       "58  2021-02-02 10:40:00+00:00 36.7  \n",
       "59  2021-02-25 04:00:00+00:00 37.0  \n",
       "60  2021-02-25 04:00:00+00:00 37.1  \n",
       "61  2021-03-09 08:40:00+00:00 36.0  \n",
       "62  2021-03-09 08:25:00+00:00 35.7  \n",
       "63  2021-03-09 08:22:00+00:00 36.0  \n",
       "64  2021-03-09 08:40:00+00:00 36.5  \n",
       "65  2021-03-09 08:22:00+00:00 36.7  \n",
       "66  2021-03-09 08:25:00+00:00 36.7  \n",
       "67  2021-04-13 02:57:00+00:00 37.0  \n",
       "68  2021-04-13 02:57:00+00:00 36.8  \n",
       "69  2021-05-11 04:50:00+00:00 37.0  \n",
       "70  2021-05-11 04:50:00+00:00 36.7  \n",
       "71  2021-04-26 07:00:00+00:00 37.0  \n",
       "72  2021-04-26 07:00:00+00:00 36.8  \n",
       "73  2021-06-24 23:45:00+00:00 37.0  \n",
       "74  2021-06-24 22:46:00+00:00 37.1  \n",
       "75  2021-06-25 01:00:00+00:00 37.0  \n",
       "76  2021-06-24 22:46:00+00:00 38.1  \n",
       "77  2021-06-24 23:45:00+00:00 37.8  \n",
       "78  2021-06-25 01:00:00+00:00 37.6  \n",
       "79  2021-05-19 04:13:00+00:00 37.0  \n",
       "80  2021-05-19 04:01:00+00:00 37.0  \n",
       "81  2021-05-19 04:13:00+00:00 37.1  \n",
       "82  2021-05-19 04:01:00+00:00 37.1  \n",
       "83  2021-06-12 11:45:00+00:00 37.0  \n",
       "84  2021-06-12 11:45:00+00:00 37.1  \n",
       "85  2021-05-15 01:52:00+00:00 36.0  \n",
       "86  2021-05-15 01:52:00+00:00 36.5  \n",
       "87  2021-05-30 04:55:00+00:00 37.5  \n",
       "88  2021-05-30 04:55:00+00:00 38.5  \n",
       "89  2021-07-09 06:01:00+00:00 37.0  \n",
       "90  2021-07-09 06:01:00+00:00 36.8  \n",
       "91  2021-05-27 01:36:00+00:00 38.0  \n",
       "92  2021-05-27 01:36:00+00:00 37.5  \n",
       "93  2021-07-07 22:00:00+00:00 37.0  \n",
       "94  2021-07-07 22:00:00+00:00 38.0  \n",
       "95  2021-08-19 17:25:00+00:00 37.0  \n",
       "96  2021-08-19 17:25:00+00:00 36.8  \n",
       "97  2021-07-18 07:30:00+00:00 37.0  \n",
       "98  2021-07-18 07:30:00+00:00 36.9  \n",
       "99  2021-08-09 02:56:00+00:00 37.0  \n",
       "100 2021-08-09 02:56:00+00:00 37.4  \n",
       "101 2021-07-23 22:32:00+00:00 37.0  \n",
       "102 2021-07-23 20:39:00+00:00 37.0  \n",
       "103 2021-07-23 22:32:00+00:00 37.1  \n",
       "104 2021-07-23 20:39:00+00:00 37.2  \n",
       "105 2021-09-02 18:01:04+00:00 36.3  \n",
       "106 2021-09-02 18:01:04+00:00 37.3  \n",
       "107 2021-08-23 02:15:00+00:00 37.0  \n",
       "108 2021-08-23 02:15:00+00:00 36.8  "
      ]
     },
     "metadata": {},
     "output_type": "display_data"
    }
   ],
   "source": [
    "# check for duplicates all but values\n",
    "DBP %>% group_by_at(vars(-values)) %>% filter(n() > 1) \n",
    "vitals %>% filter(features == \"SBP\") %>% group_by_at(vars(-values)) %>% filter(n() > 1) %>% arrange(pat_enc_csn_id_coded)\n",
    "vitals %>% filter(features == \"RR\") %>% group_by_at(vars(-values)) %>% filter(n() > 1) %>% arrange(pat_enc_csn_id_coded)\n",
    "vitals %>% filter(features == \"Pulse\") %>% group_by_at(vars(-values)) %>% filter(n() > 1) %>% arrange(pat_enc_csn_id_coded)\n",
    "vitals %>% filter(features == \"Temp\") %>% group_by_at(vars(-values)) %>% filter(n() > 1) %>% arrange(pat_enc_csn_id_coded)"
   ]
  },
  {
   "cell_type": "markdown",
   "metadata": {},
   "source": [
    "### Combined DBP back to VS!"
   ]
  },
  {
   "cell_type": "code",
   "execution_count": 34,
   "metadata": {},
   "outputs": [
    {
     "data": {
      "text/html": [
       "<table class=\"dataframe\">\n",
       "<caption>A data.frame: 1 × 10</caption>\n",
       "<thead>\n",
       "\t<tr><th></th><th scope=col>anon_id</th><th scope=col>pat_enc_csn_id_coded</th><th scope=col>inpatient_data_id_coded</th><th scope=col>admit_time</th><th scope=col>label</th><th scope=col>template</th><th scope=col>features</th><th scope=col>units</th><th scope=col>recorded_time</th><th scope=col>values</th></tr>\n",
       "\t<tr><th></th><th scope=col>&lt;chr&gt;</th><th scope=col>&lt;dbl&gt;</th><th scope=col>&lt;int&gt;</th><th scope=col>&lt;chr&gt;</th><th scope=col>&lt;int&gt;</th><th scope=col>&lt;chr&gt;</th><th scope=col>&lt;chr&gt;</th><th scope=col>&lt;chr&gt;</th><th scope=col>&lt;chr&gt;</th><th scope=col>&lt;dbl&gt;</th></tr>\n",
       "</thead>\n",
       "<tbody>\n",
       "\t<tr><th scope=row>1</th><td>JC2490884</td><td>131319271975</td><td>72243239</td><td>2021-09-23 20:59:00+00:00</td><td>0</td><td>Vitals</td><td>DBP</td><td></td><td>2021-09-23 03:12:00+00:00</td><td>76</td></tr>\n",
       "</tbody>\n",
       "</table>\n"
      ],
      "text/latex": [
       "A data.frame: 1 × 10\n",
       "\\begin{tabular}{r|llllllllll}\n",
       "  & anon\\_id & pat\\_enc\\_csn\\_id\\_coded & inpatient\\_data\\_id\\_coded & admit\\_time & label & template & features & units & recorded\\_time & values\\\\\n",
       "  & <chr> & <dbl> & <int> & <chr> & <int> & <chr> & <chr> & <chr> & <chr> & <dbl>\\\\\n",
       "\\hline\n",
       "\t1 & JC2490884 & 131319271975 & 72243239 & 2021-09-23 20:59:00+00:00 & 0 & Vitals & DBP &  & 2021-09-23 03:12:00+00:00 & 76\\\\\n",
       "\\end{tabular}\n"
      ],
      "text/markdown": [
       "\n",
       "A data.frame: 1 × 10\n",
       "\n",
       "| <!--/--> | anon_id &lt;chr&gt; | pat_enc_csn_id_coded &lt;dbl&gt; | inpatient_data_id_coded &lt;int&gt; | admit_time &lt;chr&gt; | label &lt;int&gt; | template &lt;chr&gt; | features &lt;chr&gt; | units &lt;chr&gt; | recorded_time &lt;chr&gt; | values &lt;dbl&gt; |\n",
       "|---|---|---|---|---|---|---|---|---|---|---|\n",
       "| 1 | JC2490884 | 131319271975 | 72243239 | 2021-09-23 20:59:00+00:00 | 0 | Vitals | DBP | <!----> | 2021-09-23 03:12:00+00:00 | 76 |\n",
       "\n"
      ],
      "text/plain": [
       "  anon_id   pat_enc_csn_id_coded inpatient_data_id_coded\n",
       "1 JC2490884 131319271975         72243239               \n",
       "  admit_time                label template features units\n",
       "1 2021-09-23 20:59:00+00:00 0     Vitals   DBP           \n",
       "  recorded_time             values\n",
       "1 2021-09-23 03:12:00+00:00 76    "
      ]
     },
     "metadata": {},
     "output_type": "display_data"
    },
    {
     "data": {
      "text/html": [
       "<table class=\"dataframe\">\n",
       "<caption>A data.frame: 1 × 10</caption>\n",
       "<thead>\n",
       "\t<tr><th></th><th scope=col>anon_id</th><th scope=col>pat_enc_csn_id_coded</th><th scope=col>inpatient_data_id_coded</th><th scope=col>admit_time</th><th scope=col>label</th><th scope=col>template</th><th scope=col>features</th><th scope=col>units</th><th scope=col>recorded_time</th><th scope=col>values</th></tr>\n",
       "\t<tr><th></th><th scope=col>&lt;chr&gt;</th><th scope=col>&lt;dbl&gt;</th><th scope=col>&lt;int&gt;</th><th scope=col>&lt;chr&gt;</th><th scope=col>&lt;int&gt;</th><th scope=col>&lt;chr&gt;</th><th scope=col>&lt;chr&gt;</th><th scope=col>&lt;chr&gt;</th><th scope=col>&lt;chr&gt;</th><th scope=col>&lt;dbl&gt;</th></tr>\n",
       "</thead>\n",
       "<tbody>\n",
       "\t<tr><th scope=row>1</th><td>JC1805086</td><td>1.31312e+11</td><td>67623416</td><td>2021-06-12 17:54:00+00:00</td><td>0</td><td>DATA VALIDATE</td><td>RR</td><td>bpm</td><td>2021-06-12 05:18:00+00:00</td><td>18</td></tr>\n",
       "</tbody>\n",
       "</table>\n"
      ],
      "text/latex": [
       "A data.frame: 1 × 10\n",
       "\\begin{tabular}{r|llllllllll}\n",
       "  & anon\\_id & pat\\_enc\\_csn\\_id\\_coded & inpatient\\_data\\_id\\_coded & admit\\_time & label & template & features & units & recorded\\_time & values\\\\\n",
       "  & <chr> & <dbl> & <int> & <chr> & <int> & <chr> & <chr> & <chr> & <chr> & <dbl>\\\\\n",
       "\\hline\n",
       "\t1 & JC1805086 & 1.31312e+11 & 67623416 & 2021-06-12 17:54:00+00:00 & 0 & DATA VALIDATE & RR & bpm & 2021-06-12 05:18:00+00:00 & 18\\\\\n",
       "\\end{tabular}\n"
      ],
      "text/markdown": [
       "\n",
       "A data.frame: 1 × 10\n",
       "\n",
       "| <!--/--> | anon_id &lt;chr&gt; | pat_enc_csn_id_coded &lt;dbl&gt; | inpatient_data_id_coded &lt;int&gt; | admit_time &lt;chr&gt; | label &lt;int&gt; | template &lt;chr&gt; | features &lt;chr&gt; | units &lt;chr&gt; | recorded_time &lt;chr&gt; | values &lt;dbl&gt; |\n",
       "|---|---|---|---|---|---|---|---|---|---|---|\n",
       "| 1 | JC1805086 | 1.31312e+11 | 67623416 | 2021-06-12 17:54:00+00:00 | 0 | DATA VALIDATE | RR | bpm | 2021-06-12 05:18:00+00:00 | 18 |\n",
       "\n"
      ],
      "text/plain": [
       "  anon_id   pat_enc_csn_id_coded inpatient_data_id_coded\n",
       "1 JC1805086 1.31312e+11          67623416               \n",
       "  admit_time                label template      features units\n",
       "1 2021-06-12 17:54:00+00:00 0     DATA VALIDATE RR       bpm  \n",
       "  recorded_time             values\n",
       "1 2021-06-12 05:18:00+00:00 18    "
      ]
     },
     "metadata": {},
     "output_type": "display_data"
    }
   ],
   "source": [
    "head(DBP, n=1)\n",
    "head(vitals, n=1)"
   ]
  },
  {
   "cell_type": "code",
   "execution_count": 35,
   "metadata": {},
   "outputs": [
    {
     "data": {
      "text/html": [
       "85034"
      ],
      "text/latex": [
       "85034"
      ],
      "text/markdown": [
       "85034"
      ],
      "text/plain": [
       "[1] 85034"
      ]
     },
     "metadata": {},
     "output_type": "display_data"
    },
    {
     "data": {
      "text/html": [
       "317473"
      ],
      "text/latex": [
       "317473"
      ],
      "text/markdown": [
       "317473"
      ],
      "text/plain": [
       "[1] 317473"
      ]
     },
     "metadata": {},
     "output_type": "display_data"
    },
    {
     "data": {
      "text/html": [
       "17128"
      ],
      "text/latex": [
       "17128"
      ],
      "text/markdown": [
       "17128"
      ],
      "text/plain": [
       "[1] 17128"
      ]
     },
     "metadata": {},
     "output_type": "display_data"
    },
    {
     "data": {
      "text/plain": [
       "   Min. 1st Qu.  Median    Mean 3rd Qu.    Max. \n",
       "   5.00   36.60   74.00   73.06  102.00  270.00 "
      ]
     },
     "metadata": {},
     "output_type": "display_data"
    },
    {
     "data": {
      "text/html": [
       "402507"
      ],
      "text/latex": [
       "402507"
      ],
      "text/markdown": [
       "402507"
      ],
      "text/plain": [
       "[1] 402507"
      ]
     },
     "metadata": {},
     "output_type": "display_data"
    },
    {
     "data": {
      "text/html": [
       "17111"
      ],
      "text/latex": [
       "17111"
      ],
      "text/markdown": [
       "17111"
      ],
      "text/plain": [
       "[1] 17111"
      ]
     },
     "metadata": {},
     "output_type": "display_data"
    }
   ],
   "source": [
    "nrow(DBP)\n",
    "nrow(vitals)\n",
    "nrow(cohort) #45794\n",
    "\n",
    "vitals <- bind_rows(vitals, DBP) %>% mutate(feature_type = \"vitals\") \n",
    "summary(vitals$values)\n",
    "nrow(vitals) \n",
    "nrow(vitals %>% select(anon_id, pat_enc_csn_id_coded) %>% distinct()) #45613"
   ]
  },
  {
   "cell_type": "code",
   "execution_count": 36,
   "metadata": {},
   "outputs": [],
   "source": [
    "# list the duplicated rows (except values) again\n",
    "dup <- vitals %>% group_by_at(vars(-values)) %>% filter(n() > 1) %>% arrange(pat_enc_csn_id_coded, features)"
   ]
  },
  {
   "cell_type": "code",
   "execution_count": 37,
   "metadata": {},
   "outputs": [
    {
     "data": {
      "text/html": [
       "108"
      ],
      "text/latex": [
       "108"
      ],
      "text/markdown": [
       "108"
      ],
      "text/plain": [
       "[1] 108"
      ]
     },
     "metadata": {},
     "output_type": "display_data"
    },
    {
     "name": "stderr",
     "output_type": "stream",
     "text": [
      "`summarise()` has grouped output by 'anon_id', 'pat_enc_csn_id_coded', 'inpatient_data_id_coded', 'admit_time', 'label', 'template', 'features', 'units', 'recorded_time'. You can override using the `.groups` argument.\n",
      "\n"
     ]
    },
    {
     "data": {
      "text/html": [
       "54"
      ],
      "text/latex": [
       "54"
      ],
      "text/markdown": [
       "54"
      ],
      "text/plain": [
       "[1] 54"
      ]
     },
     "metadata": {},
     "output_type": "display_data"
    }
   ],
   "source": [
    "nrow(dup)\n",
    "dup_avg <- dup %>% group_by_at(vars(-values)) %>% summarise(values = mean(values))\n",
    "nrow(dup_avg)"
   ]
  },
  {
   "cell_type": "code",
   "execution_count": 38,
   "metadata": {},
   "outputs": [
    {
     "name": "stderr",
     "output_type": "stream",
     "text": [
      "`summarise()` has grouped output by 'anon_id', 'pat_enc_csn_id_coded', 'inpatient_data_id_coded', 'admit_time', 'label', 'template', 'features', 'units', 'recorded_time'. You can override using the `.groups` argument.\n",
      "\n"
     ]
    },
    {
     "data": {
      "text/html": [
       "402507"
      ],
      "text/latex": [
       "402507"
      ],
      "text/markdown": [
       "402507"
      ],
      "text/plain": [
       "[1] 402507"
      ]
     },
     "metadata": {},
     "output_type": "display_data"
    },
    {
     "data": {
      "text/html": [
       "402453"
      ],
      "text/latex": [
       "402453"
      ],
      "text/markdown": [
       "402453"
      ],
      "text/plain": [
       "[1] 402453"
      ]
     },
     "metadata": {},
     "output_type": "display_data"
    }
   ],
   "source": [
    "# for those duplicated rows, take averages of values\n",
    "cohort_vitals <- vitals %>% group_by_at(vars(-values)) %>% summarise(values = mean(values))\n",
    "nrow(vitals)\n",
    "nrow(cohort_vitals)"
   ]
  },
  {
   "cell_type": "code",
   "execution_count": 39,
   "metadata": {},
   "outputs": [
    {
     "data": {
      "text/html": [
       "<table class=\"dataframe\">\n",
       "<caption>A grouped_df: 1 × 11</caption>\n",
       "<thead>\n",
       "\t<tr><th scope=col>anon_id</th><th scope=col>pat_enc_csn_id_coded</th><th scope=col>inpatient_data_id_coded</th><th scope=col>admit_time</th><th scope=col>label</th><th scope=col>template</th><th scope=col>features</th><th scope=col>units</th><th scope=col>recorded_time</th><th scope=col>feature_type</th><th scope=col>values</th></tr>\n",
       "\t<tr><th scope=col>&lt;chr&gt;</th><th scope=col>&lt;dbl&gt;</th><th scope=col>&lt;int&gt;</th><th scope=col>&lt;chr&gt;</th><th scope=col>&lt;int&gt;</th><th scope=col>&lt;chr&gt;</th><th scope=col>&lt;chr&gt;</th><th scope=col>&lt;chr&gt;</th><th scope=col>&lt;chr&gt;</th><th scope=col>&lt;chr&gt;</th><th scope=col>&lt;dbl&gt;</th></tr>\n",
       "</thead>\n",
       "<tbody>\n",
       "\t<tr><td>JC1000116</td><td>131295313275</td><td>57868578</td><td>2020-09-29 22:45:00+00:00</td><td>0</td><td>Custom Formula Data</td><td>Temp</td><td></td><td>2020-09-29 15:55:00+00:00</td><td>vitals</td><td>36.6</td></tr>\n",
       "</tbody>\n",
       "</table>\n"
      ],
      "text/latex": [
       "A grouped\\_df: 1 × 11\n",
       "\\begin{tabular}{lllllllllll}\n",
       " anon\\_id & pat\\_enc\\_csn\\_id\\_coded & inpatient\\_data\\_id\\_coded & admit\\_time & label & template & features & units & recorded\\_time & feature\\_type & values\\\\\n",
       " <chr> & <dbl> & <int> & <chr> & <int> & <chr> & <chr> & <chr> & <chr> & <chr> & <dbl>\\\\\n",
       "\\hline\n",
       "\t JC1000116 & 131295313275 & 57868578 & 2020-09-29 22:45:00+00:00 & 0 & Custom Formula Data & Temp &  & 2020-09-29 15:55:00+00:00 & vitals & 36.6\\\\\n",
       "\\end{tabular}\n"
      ],
      "text/markdown": [
       "\n",
       "A grouped_df: 1 × 11\n",
       "\n",
       "| anon_id &lt;chr&gt; | pat_enc_csn_id_coded &lt;dbl&gt; | inpatient_data_id_coded &lt;int&gt; | admit_time &lt;chr&gt; | label &lt;int&gt; | template &lt;chr&gt; | features &lt;chr&gt; | units &lt;chr&gt; | recorded_time &lt;chr&gt; | feature_type &lt;chr&gt; | values &lt;dbl&gt; |\n",
       "|---|---|---|---|---|---|---|---|---|---|---|\n",
       "| JC1000116 | 131295313275 | 57868578 | 2020-09-29 22:45:00+00:00 | 0 | Custom Formula Data | Temp | <!----> | 2020-09-29 15:55:00+00:00 | vitals | 36.6 |\n",
       "\n"
      ],
      "text/plain": [
       "  anon_id   pat_enc_csn_id_coded inpatient_data_id_coded\n",
       "1 JC1000116 131295313275         57868578               \n",
       "  admit_time                label template            features units\n",
       "1 2020-09-29 22:45:00+00:00 0     Custom Formula Data Temp          \n",
       "  recorded_time             feature_type values\n",
       "1 2020-09-29 15:55:00+00:00 vitals       36.6  "
      ]
     },
     "metadata": {},
     "output_type": "display_data"
    },
    {
     "data": {
      "text/plain": [
       "   Min. 1st Qu.  Median    Mean 3rd Qu.    Max. \n",
       "   5.00   36.60   74.00   73.06  102.00  270.00 "
      ]
     },
     "metadata": {},
     "output_type": "display_data"
    }
   ],
   "source": [
    "head(cohort_vitals, n=1)\n",
    "summary(cohort_vitals$values)"
   ]
  },
  {
   "cell_type": "code",
   "execution_count": 40,
   "metadata": {},
   "outputs": [],
   "source": [
    "# save cohort vital signs after cleaning, no NA's here, has recorded time, used for binning\n",
    "write.csv(cohort_vitals, file.path(valdir, \"6_5_coh2_vitals.csv\"), row.names=FALSE)"
   ]
  },
  {
   "cell_type": "markdown",
   "metadata": {},
   "source": [
    "## Part 2. Get the first set of vital signs - UPDATE COHORT \n",
    "This will result in an updated (smaller) cohort, `1_3_cohort`, only with observations whose have at least a complet set of vital signs.\n",
    "\n",
    "These blocks of code in this section are the same in:\n",
    "- `1_cohort/1.5_cohort_complete1vitals_R.ipynb`\n",
    "- second part of the `2.3_vitalsigns_R.ipynb`"
   ]
  },
  {
   "cell_type": "code",
   "execution_count": 41,
   "metadata": {},
   "outputs": [
    {
     "data": {
      "text/html": [
       "402453"
      ],
      "text/latex": [
       "402453"
      ],
      "text/markdown": [
       "402453"
      ],
      "text/plain": [
       "[1] 402453"
      ]
     },
     "metadata": {},
     "output_type": "display_data"
    },
    {
     "data": {
      "text/html": [
       "17111"
      ],
      "text/latex": [
       "17111"
      ],
      "text/markdown": [
       "17111"
      ],
      "text/plain": [
       "[1] 17111"
      ]
     },
     "metadata": {},
     "output_type": "display_data"
    }
   ],
   "source": [
    "# read inputs\n",
    "datadir6 = \"../../DataTD/validation\"\n",
    "valdir = \"../../OutputTD/6_validation\"\n",
    "\n",
    "cohort_vitals <- read.csv(file.path(valdir, \"6_5_coh2_vitals.csv\"))\n",
    "nrow(cohort_vitals)\n",
    "length(unique(cohort_vitals$pat_enc_csn_id_coded))"
   ]
  },
  {
   "cell_type": "code",
   "execution_count": 42,
   "metadata": {},
   "outputs": [
    {
     "data": {
      "text/html": [
       "<table class=\"dataframe\">\n",
       "<caption>A data.frame: 6 × 11</caption>\n",
       "<thead>\n",
       "\t<tr><th></th><th scope=col>anon_id</th><th scope=col>pat_enc_csn_id_coded</th><th scope=col>inpatient_data_id_coded</th><th scope=col>admit_time</th><th scope=col>label</th><th scope=col>template</th><th scope=col>features</th><th scope=col>units</th><th scope=col>recorded_time</th><th scope=col>feature_type</th><th scope=col>values</th></tr>\n",
       "\t<tr><th></th><th scope=col>&lt;chr&gt;</th><th scope=col>&lt;dbl&gt;</th><th scope=col>&lt;int&gt;</th><th scope=col>&lt;chr&gt;</th><th scope=col>&lt;int&gt;</th><th scope=col>&lt;chr&gt;</th><th scope=col>&lt;chr&gt;</th><th scope=col>&lt;chr&gt;</th><th scope=col>&lt;chr&gt;</th><th scope=col>&lt;chr&gt;</th><th scope=col>&lt;dbl&gt;</th></tr>\n",
       "</thead>\n",
       "<tbody>\n",
       "\t<tr><th scope=row>1</th><td>JC1000116</td><td>131295313275</td><td>57868578</td><td>2020-09-29 22:45:00+00:00</td><td>0</td><td>Custom Formula Data</td><td>Temp</td><td></td><td>2020-09-29 15:55:00+00:00</td><td>vitals</td><td>36.6</td></tr>\n",
       "\t<tr><th scope=row>2</th><td>JC1000116</td><td>131295313275</td><td>57868578</td><td>2020-09-29 22:45:00+00:00</td><td>0</td><td>Vitals             </td><td>DBP </td><td></td><td>2020-09-29 15:55:00+00:00</td><td>vitals</td><td>77.0</td></tr>\n",
       "\t<tr><th scope=row>3</th><td>JC1000116</td><td>131295313275</td><td>57868578</td><td>2020-09-29 22:45:00+00:00</td><td>0</td><td>Vitals             </td><td>DBP </td><td></td><td>2020-09-29 17:19:00+00:00</td><td>vitals</td><td>77.0</td></tr>\n",
       "\t<tr><th scope=row>4</th><td>JC1000116</td><td>131295313275</td><td>57868578</td><td>2020-09-29 22:45:00+00:00</td><td>0</td><td>Vitals             </td><td>DBP </td><td></td><td>2020-09-29 17:20:00+00:00</td><td>vitals</td><td>80.0</td></tr>\n",
       "\t<tr><th scope=row>5</th><td>JC1000116</td><td>131295313275</td><td>57868578</td><td>2020-09-29 22:45:00+00:00</td><td>0</td><td>Vitals             </td><td>DBP </td><td></td><td>2020-09-29 17:22:00+00:00</td><td>vitals</td><td>73.0</td></tr>\n",
       "\t<tr><th scope=row>6</th><td>JC1000116</td><td>131295313275</td><td>57868578</td><td>2020-09-29 22:45:00+00:00</td><td>0</td><td>Vitals             </td><td>DBP </td><td></td><td>2020-09-29 22:00:00+00:00</td><td>vitals</td><td>78.0</td></tr>\n",
       "</tbody>\n",
       "</table>\n"
      ],
      "text/latex": [
       "A data.frame: 6 × 11\n",
       "\\begin{tabular}{r|lllllllllll}\n",
       "  & anon\\_id & pat\\_enc\\_csn\\_id\\_coded & inpatient\\_data\\_id\\_coded & admit\\_time & label & template & features & units & recorded\\_time & feature\\_type & values\\\\\n",
       "  & <chr> & <dbl> & <int> & <chr> & <int> & <chr> & <chr> & <chr> & <chr> & <chr> & <dbl>\\\\\n",
       "\\hline\n",
       "\t1 & JC1000116 & 131295313275 & 57868578 & 2020-09-29 22:45:00+00:00 & 0 & Custom Formula Data & Temp &  & 2020-09-29 15:55:00+00:00 & vitals & 36.6\\\\\n",
       "\t2 & JC1000116 & 131295313275 & 57868578 & 2020-09-29 22:45:00+00:00 & 0 & Vitals              & DBP  &  & 2020-09-29 15:55:00+00:00 & vitals & 77.0\\\\\n",
       "\t3 & JC1000116 & 131295313275 & 57868578 & 2020-09-29 22:45:00+00:00 & 0 & Vitals              & DBP  &  & 2020-09-29 17:19:00+00:00 & vitals & 77.0\\\\\n",
       "\t4 & JC1000116 & 131295313275 & 57868578 & 2020-09-29 22:45:00+00:00 & 0 & Vitals              & DBP  &  & 2020-09-29 17:20:00+00:00 & vitals & 80.0\\\\\n",
       "\t5 & JC1000116 & 131295313275 & 57868578 & 2020-09-29 22:45:00+00:00 & 0 & Vitals              & DBP  &  & 2020-09-29 17:22:00+00:00 & vitals & 73.0\\\\\n",
       "\t6 & JC1000116 & 131295313275 & 57868578 & 2020-09-29 22:45:00+00:00 & 0 & Vitals              & DBP  &  & 2020-09-29 22:00:00+00:00 & vitals & 78.0\\\\\n",
       "\\end{tabular}\n"
      ],
      "text/markdown": [
       "\n",
       "A data.frame: 6 × 11\n",
       "\n",
       "| <!--/--> | anon_id &lt;chr&gt; | pat_enc_csn_id_coded &lt;dbl&gt; | inpatient_data_id_coded &lt;int&gt; | admit_time &lt;chr&gt; | label &lt;int&gt; | template &lt;chr&gt; | features &lt;chr&gt; | units &lt;chr&gt; | recorded_time &lt;chr&gt; | feature_type &lt;chr&gt; | values &lt;dbl&gt; |\n",
       "|---|---|---|---|---|---|---|---|---|---|---|---|\n",
       "| 1 | JC1000116 | 131295313275 | 57868578 | 2020-09-29 22:45:00+00:00 | 0 | Custom Formula Data | Temp | <!----> | 2020-09-29 15:55:00+00:00 | vitals | 36.6 |\n",
       "| 2 | JC1000116 | 131295313275 | 57868578 | 2020-09-29 22:45:00+00:00 | 0 | Vitals              | DBP  | <!----> | 2020-09-29 15:55:00+00:00 | vitals | 77.0 |\n",
       "| 3 | JC1000116 | 131295313275 | 57868578 | 2020-09-29 22:45:00+00:00 | 0 | Vitals              | DBP  | <!----> | 2020-09-29 17:19:00+00:00 | vitals | 77.0 |\n",
       "| 4 | JC1000116 | 131295313275 | 57868578 | 2020-09-29 22:45:00+00:00 | 0 | Vitals              | DBP  | <!----> | 2020-09-29 17:20:00+00:00 | vitals | 80.0 |\n",
       "| 5 | JC1000116 | 131295313275 | 57868578 | 2020-09-29 22:45:00+00:00 | 0 | Vitals              | DBP  | <!----> | 2020-09-29 17:22:00+00:00 | vitals | 73.0 |\n",
       "| 6 | JC1000116 | 131295313275 | 57868578 | 2020-09-29 22:45:00+00:00 | 0 | Vitals              | DBP  | <!----> | 2020-09-29 22:00:00+00:00 | vitals | 78.0 |\n",
       "\n"
      ],
      "text/plain": [
       "  anon_id   pat_enc_csn_id_coded inpatient_data_id_coded\n",
       "1 JC1000116 131295313275         57868578               \n",
       "2 JC1000116 131295313275         57868578               \n",
       "3 JC1000116 131295313275         57868578               \n",
       "4 JC1000116 131295313275         57868578               \n",
       "5 JC1000116 131295313275         57868578               \n",
       "6 JC1000116 131295313275         57868578               \n",
       "  admit_time                label template            features units\n",
       "1 2020-09-29 22:45:00+00:00 0     Custom Formula Data Temp          \n",
       "2 2020-09-29 22:45:00+00:00 0     Vitals              DBP           \n",
       "3 2020-09-29 22:45:00+00:00 0     Vitals              DBP           \n",
       "4 2020-09-29 22:45:00+00:00 0     Vitals              DBP           \n",
       "5 2020-09-29 22:45:00+00:00 0     Vitals              DBP           \n",
       "6 2020-09-29 22:45:00+00:00 0     Vitals              DBP           \n",
       "  recorded_time             feature_type values\n",
       "1 2020-09-29 15:55:00+00:00 vitals       36.6  \n",
       "2 2020-09-29 15:55:00+00:00 vitals       77.0  \n",
       "3 2020-09-29 17:19:00+00:00 vitals       77.0  \n",
       "4 2020-09-29 17:20:00+00:00 vitals       80.0  \n",
       "5 2020-09-29 17:22:00+00:00 vitals       73.0  \n",
       "6 2020-09-29 22:00:00+00:00 vitals       78.0  "
      ]
     },
     "metadata": {},
     "output_type": "display_data"
    }
   ],
   "source": [
    "head(cohort_vitals)"
   ]
  },
  {
   "cell_type": "code",
   "execution_count": 43,
   "metadata": {},
   "outputs": [
    {
     "name": "stderr",
     "output_type": "stream",
     "text": [
      "`summarise()` has grouped output by 'anon_id', 'pat_enc_csn_id_coded', 'inpatient_data_id_coded', 'admit_time', 'label'. You can override using the `.groups` argument.\n",
      "\n"
     ]
    }
   ],
   "source": [
    "# same as above, but takes ~8min to run\n",
    "vs1st <- cohort_vitals %>% select(anon_id, pat_enc_csn_id_coded, inpatient_data_id_coded, \n",
    "                                  admit_time, label, recorded_time, features, values, feature_type) %>% \n",
    "            mutate(recorded_time = ymd_hms(recorded_time)) %>% \n",
    "            group_by(anon_id, pat_enc_csn_id_coded, inpatient_data_id_coded, \n",
    "                     admit_time, label, features) %>%\n",
    "            top_n(n=-1, recorded_time) %>% # slice_min(n=1, recorded_time, with_ties = FALSE) \n",
    "            summarise(first_val = mean(values, na.rm=TRUE)) %>% distinct()"
   ]
  },
  {
   "cell_type": "code",
   "execution_count": 44,
   "metadata": {},
   "outputs": [
    {
     "data": {
      "text/html": [
       "85107"
      ],
      "text/latex": [
       "85107"
      ],
      "text/markdown": [
       "85107"
      ],
      "text/plain": [
       "[1] 85107"
      ]
     },
     "metadata": {},
     "output_type": "display_data"
    },
    {
     "data": {
      "text/html": [
       "85107"
      ],
      "text/latex": [
       "85107"
      ],
      "text/markdown": [
       "85107"
      ],
      "text/plain": [
       "[1] 85107"
      ]
     },
     "metadata": {},
     "output_type": "display_data"
    },
    {
     "data": {
      "text/html": [
       "17111"
      ],
      "text/latex": [
       "17111"
      ],
      "text/markdown": [
       "17111"
      ],
      "text/plain": [
       "[1] 17111"
      ]
     },
     "metadata": {},
     "output_type": "display_data"
    },
    {
     "data": {
      "text/html": [
       "17111"
      ],
      "text/latex": [
       "17111"
      ],
      "text/markdown": [
       "17111"
      ],
      "text/plain": [
       "[1] 17111"
      ]
     },
     "metadata": {},
     "output_type": "display_data"
    }
   ],
   "source": [
    "# only have 1 unique time because we already took care of this \n",
    "nrow(vs1st) #\n",
    "nrow(vs1st %>% distinct(anon_id, pat_enc_csn_id_coded, features))\n",
    "nrow(vs1st %>% distinct(anon_id, pat_enc_csn_id_coded, inpatient_data_id_coded)) # \n",
    "nrow(vs1st %>% distinct(anon_id, pat_enc_csn_id_coded))"
   ]
  },
  {
   "cell_type": "code",
   "execution_count": 45,
   "metadata": {},
   "outputs": [],
   "source": [
    "write.csv(vs1st, file.path(valdir, \"6_5_coh2_vs1st.csv\"), row.names=FALSE)"
   ]
  },
  {
   "cell_type": "code",
   "execution_count": 46,
   "metadata": {},
   "outputs": [
    {
     "data": {
      "text/html": [
       "<style>\n",
       ".list-inline {list-style: none; margin:0; padding: 0}\n",
       ".list-inline>li {display: inline-block}\n",
       ".list-inline>li:not(:last-child)::after {content: \"\\00b7\"; padding: 0 .5ex}\n",
       "</style>\n",
       "<ol class=list-inline><li>'anon_id'</li><li>'pat_enc_csn_id_coded'</li><li>'inpatient_data_id_coded'</li><li>'admit_time'</li><li>'label'</li><li>'DBP'</li><li>'Pulse'</li><li>'RR'</li><li>'SBP'</li><li>'Temp'</li></ol>\n"
      ],
      "text/latex": [
       "\\begin{enumerate*}\n",
       "\\item 'anon\\_id'\n",
       "\\item 'pat\\_enc\\_csn\\_id\\_coded'\n",
       "\\item 'inpatient\\_data\\_id\\_coded'\n",
       "\\item 'admit\\_time'\n",
       "\\item 'label'\n",
       "\\item 'DBP'\n",
       "\\item 'Pulse'\n",
       "\\item 'RR'\n",
       "\\item 'SBP'\n",
       "\\item 'Temp'\n",
       "\\end{enumerate*}\n"
      ],
      "text/markdown": [
       "1. 'anon_id'\n",
       "2. 'pat_enc_csn_id_coded'\n",
       "3. 'inpatient_data_id_coded'\n",
       "4. 'admit_time'\n",
       "5. 'label'\n",
       "6. 'DBP'\n",
       "7. 'Pulse'\n",
       "8. 'RR'\n",
       "9. 'SBP'\n",
       "10. 'Temp'\n",
       "\n",
       "\n"
      ],
      "text/plain": [
       " [1] \"anon_id\"                 \"pat_enc_csn_id_coded\"   \n",
       " [3] \"inpatient_data_id_coded\" \"admit_time\"             \n",
       " [5] \"label\"                   \"DBP\"                    \n",
       " [7] \"Pulse\"                   \"RR\"                     \n",
       " [9] \"SBP\"                     \"Temp\"                   "
      ]
     },
     "metadata": {},
     "output_type": "display_data"
    },
    {
     "data": {
      "text/html": [
       "16704"
      ],
      "text/latex": [
       "16704"
      ],
      "text/markdown": [
       "16704"
      ],
      "text/plain": [
       "[1] 16704"
      ]
     },
     "metadata": {},
     "output_type": "display_data"
    }
   ],
   "source": [
    "# note: cohort size dropped further, new size 44258!\n",
    "# get the the cohort with 1st complete set of VS for ESI imputation\n",
    "cohort1vs <- vs1st %>% drop_na() %>% spread(features, first_val) %>% drop_na() \n",
    "colnames(cohort1vs)\n",
    "nrow(cohort1vs %>% distinct(pat_enc_csn_id_coded))"
   ]
  },
  {
   "cell_type": "raw",
   "metadata": {},
   "source": [
    "# note: cohort size dropped further\n",
    "# get cohort information, cohort with 1st (at least 1) complete set of VS \n",
    "cohort1vs <- vs1st %>% drop_na() %>% spread(features, first_val) %>% drop_na() %>% \n",
    "                select(anon_id, pat_enc_csn_id_coded, inpatient_data_id_coded, admit_time, label)\n",
    "colnames(cohort1vs)\n",
    "nrow(cohort1vs %>% distinct(pat_enc_csn_id_coded)) #44258"
   ]
  },
  {
   "cell_type": "code",
   "execution_count": 47,
   "metadata": {},
   "outputs": [],
   "source": [
    "# updated/reduced size of 44258\n",
    "write.csv(cohort1vs, file.path(valdir, \"6_5_cohort3.csv\"), row.names=FALSE)"
   ]
  },
  {
   "cell_type": "markdown",
   "metadata": {},
   "source": [
    "## Part 3. Get other VS related features for the simple data/model: \n",
    "\n",
    "- Vital signs: first and last values, summary statistics, difference from last - first and max - min\n",
    "- Updated cohort only contains those with at least a complete set of vital signs\n",
    "\n",
    "Note that first and last values at the same time might have more than 1. However, this was taken care of during the processing of vital signs, when we took the averages if there are multiple values at the same recorded_time"
   ]
  },
  {
   "cell_type": "code",
   "execution_count": 48,
   "metadata": {},
   "outputs": [],
   "source": [
    "# read inputs\n",
    "valdir = \"../../OutputTD/6_validation\"\n",
    "\n",
    "cohort1vs <- read.csv(file.path(valdir, \"6_5_cohort3.csv\"))\n",
    "cohort_vitals <- read.csv(file.path(valdir, \"6_5_coh2_vitals.csv\"))"
   ]
  },
  {
   "cell_type": "code",
   "execution_count": 49,
   "metadata": {},
   "outputs": [
    {
     "data": {
      "text/html": [
       "16704"
      ],
      "text/latex": [
       "16704"
      ],
      "text/markdown": [
       "16704"
      ],
      "text/plain": [
       "[1] 16704"
      ]
     },
     "metadata": {},
     "output_type": "display_data"
    },
    {
     "data": {
      "text/html": [
       "16704"
      ],
      "text/latex": [
       "16704"
      ],
      "text/markdown": [
       "16704"
      ],
      "text/plain": [
       "[1] 16704"
      ]
     },
     "metadata": {},
     "output_type": "display_data"
    },
    {
     "data": {
      "text/html": [
       "16704"
      ],
      "text/latex": [
       "16704"
      ],
      "text/markdown": [
       "16704"
      ],
      "text/plain": [
       "[1] 16704"
      ]
     },
     "metadata": {},
     "output_type": "display_data"
    },
    {
     "data": {
      "text/html": [
       "402453"
      ],
      "text/latex": [
       "402453"
      ],
      "text/markdown": [
       "402453"
      ],
      "text/plain": [
       "[1] 402453"
      ]
     },
     "metadata": {},
     "output_type": "display_data"
    },
    {
     "data": {
      "text/html": [
       "402453"
      ],
      "text/latex": [
       "402453"
      ],
      "text/markdown": [
       "402453"
      ],
      "text/plain": [
       "[1] 402453"
      ]
     },
     "metadata": {},
     "output_type": "display_data"
    },
    {
     "data": {
      "text/html": [
       "17111"
      ],
      "text/latex": [
       "17111"
      ],
      "text/markdown": [
       "17111"
      ],
      "text/plain": [
       "[1] 17111"
      ]
     },
     "metadata": {},
     "output_type": "display_data"
    }
   ],
   "source": [
    "nrow(cohort1vs)\n",
    "nrow(cohort1vs %>% drop_na() %>% distinct())\n",
    "nrow(cohort1vs %>% distinct(pat_enc_csn_id_coded)) #44258\n",
    "\n",
    "nrow(cohort_vitals)\n",
    "nrow(cohort_vitals %>% drop_na() %>% distinct()) #1011224\n",
    "nrow(cohort_vitals %>% distinct(pat_enc_csn_id_coded)) #45613"
   ]
  },
  {
   "cell_type": "code",
   "execution_count": 50,
   "metadata": {},
   "outputs": [
    {
     "data": {
      "text/html": [
       "<table class=\"dataframe\">\n",
       "<caption>A data.frame: 1 × 10</caption>\n",
       "<thead>\n",
       "\t<tr><th></th><th scope=col>anon_id</th><th scope=col>pat_enc_csn_id_coded</th><th scope=col>inpatient_data_id_coded</th><th scope=col>admit_time</th><th scope=col>label</th><th scope=col>DBP</th><th scope=col>Pulse</th><th scope=col>RR</th><th scope=col>SBP</th><th scope=col>Temp</th></tr>\n",
       "\t<tr><th></th><th scope=col>&lt;chr&gt;</th><th scope=col>&lt;dbl&gt;</th><th scope=col>&lt;int&gt;</th><th scope=col>&lt;chr&gt;</th><th scope=col>&lt;int&gt;</th><th scope=col>&lt;int&gt;</th><th scope=col>&lt;int&gt;</th><th scope=col>&lt;int&gt;</th><th scope=col>&lt;int&gt;</th><th scope=col>&lt;dbl&gt;</th></tr>\n",
       "</thead>\n",
       "<tbody>\n",
       "\t<tr><th scope=row>1</th><td>JC1000116</td><td>131295313275</td><td>57868578</td><td>2020-09-29 22:45:00+00:00</td><td>0</td><td>77</td><td>81</td><td>18</td><td>120</td><td>36.8</td></tr>\n",
       "</tbody>\n",
       "</table>\n"
      ],
      "text/latex": [
       "A data.frame: 1 × 10\n",
       "\\begin{tabular}{r|llllllllll}\n",
       "  & anon\\_id & pat\\_enc\\_csn\\_id\\_coded & inpatient\\_data\\_id\\_coded & admit\\_time & label & DBP & Pulse & RR & SBP & Temp\\\\\n",
       "  & <chr> & <dbl> & <int> & <chr> & <int> & <int> & <int> & <int> & <int> & <dbl>\\\\\n",
       "\\hline\n",
       "\t1 & JC1000116 & 131295313275 & 57868578 & 2020-09-29 22:45:00+00:00 & 0 & 77 & 81 & 18 & 120 & 36.8\\\\\n",
       "\\end{tabular}\n"
      ],
      "text/markdown": [
       "\n",
       "A data.frame: 1 × 10\n",
       "\n",
       "| <!--/--> | anon_id &lt;chr&gt; | pat_enc_csn_id_coded &lt;dbl&gt; | inpatient_data_id_coded &lt;int&gt; | admit_time &lt;chr&gt; | label &lt;int&gt; | DBP &lt;int&gt; | Pulse &lt;int&gt; | RR &lt;int&gt; | SBP &lt;int&gt; | Temp &lt;dbl&gt; |\n",
       "|---|---|---|---|---|---|---|---|---|---|---|\n",
       "| 1 | JC1000116 | 131295313275 | 57868578 | 2020-09-29 22:45:00+00:00 | 0 | 77 | 81 | 18 | 120 | 36.8 |\n",
       "\n"
      ],
      "text/plain": [
       "  anon_id   pat_enc_csn_id_coded inpatient_data_id_coded\n",
       "1 JC1000116 131295313275         57868578               \n",
       "  admit_time                label DBP Pulse RR SBP Temp\n",
       "1 2020-09-29 22:45:00+00:00 0     77  81    18 120 36.8"
      ]
     },
     "metadata": {},
     "output_type": "display_data"
    }
   ],
   "source": [
    "head(cohort1vs, n=1)"
   ]
  },
  {
   "cell_type": "code",
   "execution_count": 51,
   "metadata": {},
   "outputs": [
    {
     "name": "stderr",
     "output_type": "stream",
     "text": [
      "`summarise()` has grouped output by 'anon_id', 'pat_enc_csn_id_coded', 'inpatient_data_id_coded', 'admit_time', 'label'. You can override using the `.groups` argument.\n",
      "\n"
     ]
    }
   ],
   "source": [
    "# get the most recent value of each feature, top_n(n=1, recorded_time) or slice_max\n",
    "vs_last <- cohort_vitals %>% select(anon_id, pat_enc_csn_id_coded, inpatient_data_id_coded, \n",
    "                                    admit_time, label, recorded_time, features, values, feature_type) %>% \n",
    "            group_by(anon_id, pat_enc_csn_id_coded, inpatient_data_id_coded, admit_time, label, features) %>%\n",
    "            top_n(n=1, recorded_time) %>%\n",
    "            summarise(last_val = mean(values, na.rm=TRUE)) %>% distinct() # %>% \n",
    "#             drop_na() %>% spread(features, last_val) %>% drop_na() "
   ]
  },
  {
   "cell_type": "code",
   "execution_count": 52,
   "metadata": {},
   "outputs": [
    {
     "data": {
      "text/html": [
       "85107"
      ],
      "text/latex": [
       "85107"
      ],
      "text/markdown": [
       "85107"
      ],
      "text/plain": [
       "[1] 85107"
      ]
     },
     "metadata": {},
     "output_type": "display_data"
    },
    {
     "data": {
      "text/html": [
       "17111"
      ],
      "text/latex": [
       "17111"
      ],
      "text/markdown": [
       "17111"
      ],
      "text/plain": [
       "[1] 17111"
      ]
     },
     "metadata": {},
     "output_type": "display_data"
    },
    {
     "data": {
      "text/html": [
       "17111"
      ],
      "text/latex": [
       "17111"
      ],
      "text/markdown": [
       "17111"
      ],
      "text/plain": [
       "[1] 17111"
      ]
     },
     "metadata": {},
     "output_type": "display_data"
    }
   ],
   "source": [
    "# only have 1 unique time because we already took care of this \n",
    "nrow(vs_last) #\n",
    "nrow(vs_last %>% distinct(anon_id, pat_enc_csn_id_coded))\n",
    "nrow(vs_last %>% distinct(pat_enc_csn_id_coded)) #"
   ]
  },
  {
   "cell_type": "code",
   "execution_count": 53,
   "metadata": {},
   "outputs": [],
   "source": [
    "# check cohortID not in vitals as cohortIDs were derived before getting vitals\n",
    "# nrow(cohort %>% filter(!anon_id %in% vs1st$anon_id))"
   ]
  },
  {
   "cell_type": "code",
   "execution_count": 54,
   "metadata": {},
   "outputs": [
    {
     "data": {
      "text/html": [
       "16704"
      ],
      "text/latex": [
       "16704"
      ],
      "text/markdown": [
       "16704"
      ],
      "text/plain": [
       "[1] 16704"
      ]
     },
     "metadata": {},
     "output_type": "display_data"
    },
    {
     "data": {
      "text/html": [
       "17111"
      ],
      "text/latex": [
       "17111"
      ],
      "text/markdown": [
       "17111"
      ],
      "text/plain": [
       "[1] 17111"
      ]
     },
     "metadata": {},
     "output_type": "display_data"
    },
    {
     "data": {
      "text/html": [
       "85107"
      ],
      "text/latex": [
       "85107"
      ],
      "text/markdown": [
       "85107"
      ],
      "text/plain": [
       "[1] 85107"
      ]
     },
     "metadata": {},
     "output_type": "display_data"
    },
    {
     "data": {
      "text/html": [
       "17111"
      ],
      "text/latex": [
       "17111"
      ],
      "text/markdown": [
       "17111"
      ],
      "text/plain": [
       "[1] 17111"
      ]
     },
     "metadata": {},
     "output_type": "display_data"
    },
    {
     "data": {
      "text/html": [
       "<style>\n",
       ".list-inline {list-style: none; margin:0; padding: 0}\n",
       ".list-inline>li {display: inline-block}\n",
       ".list-inline>li:not(:last-child)::after {content: \"\\00b7\"; padding: 0 .5ex}\n",
       "</style>\n",
       "<ol class=list-inline><li>'anon_id'</li><li>'pat_enc_csn_id_coded'</li><li>'inpatient_data_id_coded'</li><li>'admit_time'</li><li>'label'</li><li>'DBP'</li><li>'Pulse'</li><li>'RR'</li><li>'SBP'</li><li>'Temp'</li></ol>\n"
      ],
      "text/latex": [
       "\\begin{enumerate*}\n",
       "\\item 'anon\\_id'\n",
       "\\item 'pat\\_enc\\_csn\\_id\\_coded'\n",
       "\\item 'inpatient\\_data\\_id\\_coded'\n",
       "\\item 'admit\\_time'\n",
       "\\item 'label'\n",
       "\\item 'DBP'\n",
       "\\item 'Pulse'\n",
       "\\item 'RR'\n",
       "\\item 'SBP'\n",
       "\\item 'Temp'\n",
       "\\end{enumerate*}\n"
      ],
      "text/markdown": [
       "1. 'anon_id'\n",
       "2. 'pat_enc_csn_id_coded'\n",
       "3. 'inpatient_data_id_coded'\n",
       "4. 'admit_time'\n",
       "5. 'label'\n",
       "6. 'DBP'\n",
       "7. 'Pulse'\n",
       "8. 'RR'\n",
       "9. 'SBP'\n",
       "10. 'Temp'\n",
       "\n",
       "\n"
      ],
      "text/plain": [
       " [1] \"anon_id\"                 \"pat_enc_csn_id_coded\"   \n",
       " [3] \"inpatient_data_id_coded\" \"admit_time\"             \n",
       " [5] \"label\"                   \"DBP\"                    \n",
       " [7] \"Pulse\"                   \"RR\"                     \n",
       " [9] \"SBP\"                     \"Temp\"                   "
      ]
     },
     "metadata": {},
     "output_type": "display_data"
    },
    {
     "data": {
      "text/html": [
       "<style>\n",
       ".list-inline {list-style: none; margin:0; padding: 0}\n",
       ".list-inline>li {display: inline-block}\n",
       ".list-inline>li:not(:last-child)::after {content: \"\\00b7\"; padding: 0 .5ex}\n",
       "</style>\n",
       "<ol class=list-inline><li>'anon_id'</li><li>'pat_enc_csn_id_coded'</li><li>'inpatient_data_id_coded'</li><li>'admit_time'</li><li>'label'</li><li>'features'</li><li>'first_val'</li></ol>\n"
      ],
      "text/latex": [
       "\\begin{enumerate*}\n",
       "\\item 'anon\\_id'\n",
       "\\item 'pat\\_enc\\_csn\\_id\\_coded'\n",
       "\\item 'inpatient\\_data\\_id\\_coded'\n",
       "\\item 'admit\\_time'\n",
       "\\item 'label'\n",
       "\\item 'features'\n",
       "\\item 'first\\_val'\n",
       "\\end{enumerate*}\n"
      ],
      "text/markdown": [
       "1. 'anon_id'\n",
       "2. 'pat_enc_csn_id_coded'\n",
       "3. 'inpatient_data_id_coded'\n",
       "4. 'admit_time'\n",
       "5. 'label'\n",
       "6. 'features'\n",
       "7. 'first_val'\n",
       "\n",
       "\n"
      ],
      "text/plain": [
       "[1] \"anon_id\"                 \"pat_enc_csn_id_coded\"   \n",
       "[3] \"inpatient_data_id_coded\" \"admit_time\"             \n",
       "[5] \"label\"                   \"features\"               \n",
       "[7] \"first_val\"              "
      ]
     },
     "metadata": {},
     "output_type": "display_data"
    },
    {
     "data": {
      "text/html": [
       "<style>\n",
       ".list-inline {list-style: none; margin:0; padding: 0}\n",
       ".list-inline>li {display: inline-block}\n",
       ".list-inline>li:not(:last-child)::after {content: \"\\00b7\"; padding: 0 .5ex}\n",
       "</style>\n",
       "<ol class=list-inline><li>'anon_id'</li><li>'pat_enc_csn_id_coded'</li><li>'inpatient_data_id_coded'</li><li>'admit_time'</li><li>'label'</li><li>'features'</li><li>'last_val'</li></ol>\n"
      ],
      "text/latex": [
       "\\begin{enumerate*}\n",
       "\\item 'anon\\_id'\n",
       "\\item 'pat\\_enc\\_csn\\_id\\_coded'\n",
       "\\item 'inpatient\\_data\\_id\\_coded'\n",
       "\\item 'admit\\_time'\n",
       "\\item 'label'\n",
       "\\item 'features'\n",
       "\\item 'last\\_val'\n",
       "\\end{enumerate*}\n"
      ],
      "text/markdown": [
       "1. 'anon_id'\n",
       "2. 'pat_enc_csn_id_coded'\n",
       "3. 'inpatient_data_id_coded'\n",
       "4. 'admit_time'\n",
       "5. 'label'\n",
       "6. 'features'\n",
       "7. 'last_val'\n",
       "\n",
       "\n"
      ],
      "text/plain": [
       "[1] \"anon_id\"                 \"pat_enc_csn_id_coded\"   \n",
       "[3] \"inpatient_data_id_coded\" \"admit_time\"             \n",
       "[5] \"label\"                   \"features\"               \n",
       "[7] \"last_val\"               "
      ]
     },
     "metadata": {},
     "output_type": "display_data"
    },
    {
     "data": {
      "text/html": [
       "<style>\n",
       ".list-inline {list-style: none; margin:0; padding: 0}\n",
       ".list-inline>li {display: inline-block}\n",
       ".list-inline>li:not(:last-child)::after {content: \"\\00b7\"; padding: 0 .5ex}\n",
       "</style>\n",
       "<ol class=list-inline><li>'anon_id'</li><li>'pat_enc_csn_id_coded'</li><li>'inpatient_data_id_coded'</li><li>'admit_time'</li><li>'label'</li><li>'template'</li><li>'features'</li><li>'units'</li><li>'recorded_time'</li><li>'feature_type'</li><li>'values'</li></ol>\n"
      ],
      "text/latex": [
       "\\begin{enumerate*}\n",
       "\\item 'anon\\_id'\n",
       "\\item 'pat\\_enc\\_csn\\_id\\_coded'\n",
       "\\item 'inpatient\\_data\\_id\\_coded'\n",
       "\\item 'admit\\_time'\n",
       "\\item 'label'\n",
       "\\item 'template'\n",
       "\\item 'features'\n",
       "\\item 'units'\n",
       "\\item 'recorded\\_time'\n",
       "\\item 'feature\\_type'\n",
       "\\item 'values'\n",
       "\\end{enumerate*}\n"
      ],
      "text/markdown": [
       "1. 'anon_id'\n",
       "2. 'pat_enc_csn_id_coded'\n",
       "3. 'inpatient_data_id_coded'\n",
       "4. 'admit_time'\n",
       "5. 'label'\n",
       "6. 'template'\n",
       "7. 'features'\n",
       "8. 'units'\n",
       "9. 'recorded_time'\n",
       "10. 'feature_type'\n",
       "11. 'values'\n",
       "\n",
       "\n"
      ],
      "text/plain": [
       " [1] \"anon_id\"                 \"pat_enc_csn_id_coded\"   \n",
       " [3] \"inpatient_data_id_coded\" \"admit_time\"             \n",
       " [5] \"label\"                   \"template\"               \n",
       " [7] \"features\"                \"units\"                  \n",
       " [9] \"recorded_time\"           \"feature_type\"           \n",
       "[11] \"values\"                 "
      ]
     },
     "metadata": {},
     "output_type": "display_data"
    }
   ],
   "source": [
    "nrow(cohort1vs) # UPDATED cohort, this is after dropping those w/o a complete VS set\n",
    "nrow(vs1st %>% distinct(pat_enc_csn_id_coded)) # prior to dropping those w/o ..\n",
    "nrow(vs_last) # prior to dropping those w/o ..\n",
    "\n",
    "nrow(cohort_vitals %>% distinct(pat_enc_csn_id_coded)) # all vitals\n",
    "colnames(cohort1vs); colnames(vs1st); colnames(vs_last); colnames(cohort_vitals)"
   ]
  },
  {
   "cell_type": "code",
   "execution_count": 55,
   "metadata": {},
   "outputs": [
    {
     "name": "stderr",
     "output_type": "stream",
     "text": [
      "Joining, by = c(\"anon_id\", \"pat_enc_csn_id_coded\", \"inpatient_data_id_coded\", \"admit_time\", \"label\")\n",
      "\n",
      "Joining, by = c(\"anon_id\", \"pat_enc_csn_id_coded\", \"inpatient_data_id_coded\", \"admit_time\", \"label\", \"features\")\n",
      "\n",
      "Joining, by = c(\"anon_id\", \"pat_enc_csn_id_coded\", \"inpatient_data_id_coded\", \"admit_time\", \"label\", \"features\")\n",
      "\n"
     ]
    },
    {
     "data": {
      "text/html": [
       "393682"
      ],
      "text/latex": [
       "393682"
      ],
      "text/markdown": [
       "393682"
      ],
      "text/plain": [
       "[1] 393682"
      ]
     },
     "metadata": {},
     "output_type": "display_data"
    },
    {
     "data": {
      "text/html": [
       "<table class=\"dataframe\">\n",
       "<caption>A grouped_df: 5 × 2</caption>\n",
       "<thead>\n",
       "\t<tr><th scope=col>features</th><th scope=col>n</th></tr>\n",
       "\t<tr><th scope=col>&lt;chr&gt;</th><th scope=col>&lt;int&gt;</th></tr>\n",
       "</thead>\n",
       "<tbody>\n",
       "\t<tr><td>DBP  </td><td>82993</td></tr>\n",
       "\t<tr><td>Pulse</td><td>92379</td></tr>\n",
       "\t<tr><td>RR   </td><td>87186</td></tr>\n",
       "\t<tr><td>SBP  </td><td>83003</td></tr>\n",
       "\t<tr><td>Temp </td><td>48121</td></tr>\n",
       "</tbody>\n",
       "</table>\n"
      ],
      "text/latex": [
       "A grouped\\_df: 5 × 2\n",
       "\\begin{tabular}{ll}\n",
       " features & n\\\\\n",
       " <chr> & <int>\\\\\n",
       "\\hline\n",
       "\t DBP   & 82993\\\\\n",
       "\t Pulse & 92379\\\\\n",
       "\t RR    & 87186\\\\\n",
       "\t SBP   & 83003\\\\\n",
       "\t Temp  & 48121\\\\\n",
       "\\end{tabular}\n"
      ],
      "text/markdown": [
       "\n",
       "A grouped_df: 5 × 2\n",
       "\n",
       "| features &lt;chr&gt; | n &lt;int&gt; |\n",
       "|---|---|\n",
       "| DBP   | 82993 |\n",
       "| Pulse | 92379 |\n",
       "| RR    | 87186 |\n",
       "| SBP   | 83003 |\n",
       "| Temp  | 48121 |\n",
       "\n"
      ],
      "text/plain": [
       "  features n    \n",
       "1 DBP      82993\n",
       "2 Pulse    92379\n",
       "3 RR       87186\n",
       "4 SBP      83003\n",
       "5 Temp     48121"
      ]
     },
     "metadata": {},
     "output_type": "display_data"
    }
   ],
   "source": [
    "# join the updated cohort - cohort1vs (with a complete set of VS), first, last, and the rest of values for vitals\n",
    "coh3_vitals <- cohort1vs %>% select(anon_id, pat_enc_csn_id_coded, inpatient_data_id_coded, admit_time, label) %>%\n",
    "                left_join(vs1st) %>% left_join(vs_last) %>% left_join(cohort_vitals) %>%\n",
    "                select(anon_id, pat_enc_csn_id_coded, inpatient_data_id_coded, admit_time, label,\n",
    "                       features, first_val, last_val, values, feature_type)\n",
    "nrow(coh3_vitals)# 987224\n",
    "coh3_vitals %>% group_by(features) %>% count()"
   ]
  },
  {
   "cell_type": "code",
   "execution_count": 56,
   "metadata": {},
   "outputs": [
    {
     "data": {
      "text/html": [
       "393682"
      ],
      "text/latex": [
       "393682"
      ],
      "text/markdown": [
       "393682"
      ],
      "text/plain": [
       "[1] 393682"
      ]
     },
     "metadata": {},
     "output_type": "display_data"
    },
    {
     "data": {
      "text/html": [
       "16704"
      ],
      "text/latex": [
       "16704"
      ],
      "text/markdown": [
       "16704"
      ],
      "text/plain": [
       "[1] 16704"
      ]
     },
     "metadata": {},
     "output_type": "display_data"
    },
    {
     "data": {
      "text/html": [
       "0"
      ],
      "text/latex": [
       "0"
      ],
      "text/markdown": [
       "0"
      ],
      "text/plain": [
       "[1] 0"
      ]
     },
     "metadata": {},
     "output_type": "display_data"
    },
    {
     "data": {
      "text/plain": [
       "\n",
       "vitals \n",
       "393682 "
      ]
     },
     "metadata": {},
     "output_type": "display_data"
    },
    {
     "data": {
      "text/html": [
       "<table class=\"dataframe\">\n",
       "<caption>A data.frame: 1 × 10</caption>\n",
       "<thead>\n",
       "\t<tr><th></th><th scope=col>anon_id</th><th scope=col>pat_enc_csn_id_coded</th><th scope=col>inpatient_data_id_coded</th><th scope=col>admit_time</th><th scope=col>label</th><th scope=col>features</th><th scope=col>first_val</th><th scope=col>last_val</th><th scope=col>values</th><th scope=col>feature_type</th></tr>\n",
       "\t<tr><th></th><th scope=col>&lt;chr&gt;</th><th scope=col>&lt;dbl&gt;</th><th scope=col>&lt;int&gt;</th><th scope=col>&lt;chr&gt;</th><th scope=col>&lt;int&gt;</th><th scope=col>&lt;chr&gt;</th><th scope=col>&lt;dbl&gt;</th><th scope=col>&lt;dbl&gt;</th><th scope=col>&lt;dbl&gt;</th><th scope=col>&lt;chr&gt;</th></tr>\n",
       "</thead>\n",
       "<tbody>\n",
       "\t<tr><th scope=row>1</th><td>JC1000116</td><td>131295313275</td><td>57868578</td><td>2020-09-29 22:45:00+00:00</td><td>0</td><td>DBP</td><td>77</td><td>78</td><td>77</td><td>vitals</td></tr>\n",
       "</tbody>\n",
       "</table>\n"
      ],
      "text/latex": [
       "A data.frame: 1 × 10\n",
       "\\begin{tabular}{r|llllllllll}\n",
       "  & anon\\_id & pat\\_enc\\_csn\\_id\\_coded & inpatient\\_data\\_id\\_coded & admit\\_time & label & features & first\\_val & last\\_val & values & feature\\_type\\\\\n",
       "  & <chr> & <dbl> & <int> & <chr> & <int> & <chr> & <dbl> & <dbl> & <dbl> & <chr>\\\\\n",
       "\\hline\n",
       "\t1 & JC1000116 & 131295313275 & 57868578 & 2020-09-29 22:45:00+00:00 & 0 & DBP & 77 & 78 & 77 & vitals\\\\\n",
       "\\end{tabular}\n"
      ],
      "text/markdown": [
       "\n",
       "A data.frame: 1 × 10\n",
       "\n",
       "| <!--/--> | anon_id &lt;chr&gt; | pat_enc_csn_id_coded &lt;dbl&gt; | inpatient_data_id_coded &lt;int&gt; | admit_time &lt;chr&gt; | label &lt;int&gt; | features &lt;chr&gt; | first_val &lt;dbl&gt; | last_val &lt;dbl&gt; | values &lt;dbl&gt; | feature_type &lt;chr&gt; |\n",
       "|---|---|---|---|---|---|---|---|---|---|---|\n",
       "| 1 | JC1000116 | 131295313275 | 57868578 | 2020-09-29 22:45:00+00:00 | 0 | DBP | 77 | 78 | 77 | vitals |\n",
       "\n"
      ],
      "text/plain": [
       "  anon_id   pat_enc_csn_id_coded inpatient_data_id_coded\n",
       "1 JC1000116 131295313275         57868578               \n",
       "  admit_time                label features first_val last_val values\n",
       "1 2020-09-29 22:45:00+00:00 0     DBP      77        78       77    \n",
       "  feature_type\n",
       "1 vitals      "
      ]
     },
     "metadata": {},
     "output_type": "display_data"
    }
   ],
   "source": [
    "nrow(coh3_vitals) # 987260 vs now 987224\n",
    "nrow(coh3_vitals %>% distinct(pat_enc_csn_id_coded)) #44258\n",
    "sum(!coh3_vitals$pat_enc_csn_id_coded %in% cohort1vs$pat_enc_csn_id_coded)\n",
    "table(coh3_vitals$feature_type)\n",
    "head(coh3_vitals, n=1)"
   ]
  },
  {
   "cell_type": "code",
   "execution_count": 57,
   "metadata": {},
   "outputs": [
    {
     "name": "stderr",
     "output_type": "stream",
     "text": [
      "`summarise()` has grouped output by 'anon_id', 'pat_enc_csn_id_coded', 'inpatient_data_id_coded', 'admit_time', 'label', 'features', 'first_val'. You can override using the `.groups` argument.\n",
      "\n"
     ]
    }
   ],
   "source": [
    "# get summary stats, including differences for first and last (0 if 1 value), min and max\n",
    "# all the NA were actually already dropped, so na.rm here is redundant\n",
    "vsum <- coh3_vitals %>% \n",
    "            group_by(anon_id, pat_enc_csn_id_coded, inpatient_data_id_coded, \n",
    "                     admit_time, label, features, first_val, last_val) %>%\n",
    "            summarise(count = n(), meanx = mean(values, na.rm=TRUE), medianx = median(values, na.rm=TRUE), \n",
    "                      minx = min(values, na.rm=TRUE), maxx = max(values, na.rm=TRUE), sdx = sd(values, na.rm=TRUE),\n",
    "                      madx = mad(values, na.rm=TRUE), IQRx = IQR(values, na.rm=TRUE)) %>%\n",
    "            mutate(mmdiff = round(maxx - minx, 1), fldiff = round(last_val - first_val, 1)) #"
   ]
  },
  {
   "cell_type": "code",
   "execution_count": 58,
   "metadata": {},
   "outputs": [
    {
     "data": {
      "text/html": [
       "<table class=\"dataframe\">\n",
       "<caption>A grouped_df: 1 × 18</caption>\n",
       "<thead>\n",
       "\t<tr><th scope=col>anon_id</th><th scope=col>pat_enc_csn_id_coded</th><th scope=col>inpatient_data_id_coded</th><th scope=col>admit_time</th><th scope=col>label</th><th scope=col>features</th><th scope=col>first_val</th><th scope=col>last_val</th><th scope=col>count</th><th scope=col>meanx</th><th scope=col>medianx</th><th scope=col>minx</th><th scope=col>maxx</th><th scope=col>sdx</th><th scope=col>madx</th><th scope=col>IQRx</th><th scope=col>mmdiff</th><th scope=col>fldiff</th></tr>\n",
       "\t<tr><th scope=col>&lt;chr&gt;</th><th scope=col>&lt;dbl&gt;</th><th scope=col>&lt;int&gt;</th><th scope=col>&lt;chr&gt;</th><th scope=col>&lt;int&gt;</th><th scope=col>&lt;chr&gt;</th><th scope=col>&lt;dbl&gt;</th><th scope=col>&lt;dbl&gt;</th><th scope=col>&lt;int&gt;</th><th scope=col>&lt;dbl&gt;</th><th scope=col>&lt;dbl&gt;</th><th scope=col>&lt;dbl&gt;</th><th scope=col>&lt;dbl&gt;</th><th scope=col>&lt;dbl&gt;</th><th scope=col>&lt;dbl&gt;</th><th scope=col>&lt;dbl&gt;</th><th scope=col>&lt;dbl&gt;</th><th scope=col>&lt;dbl&gt;</th></tr>\n",
       "</thead>\n",
       "<tbody>\n",
       "\t<tr><td>JC1000116</td><td>131295313275</td><td>57868578</td><td>2020-09-29 22:45:00+00:00</td><td>0</td><td>DBP</td><td>77</td><td>78</td><td>5</td><td>77</td><td>77</td><td>73</td><td>80</td><td>2.54951</td><td>1.4826</td><td>1</td><td>7</td><td>1</td></tr>\n",
       "</tbody>\n",
       "</table>\n"
      ],
      "text/latex": [
       "A grouped\\_df: 1 × 18\n",
       "\\begin{tabular}{llllllllllllllllll}\n",
       " anon\\_id & pat\\_enc\\_csn\\_id\\_coded & inpatient\\_data\\_id\\_coded & admit\\_time & label & features & first\\_val & last\\_val & count & meanx & medianx & minx & maxx & sdx & madx & IQRx & mmdiff & fldiff\\\\\n",
       " <chr> & <dbl> & <int> & <chr> & <int> & <chr> & <dbl> & <dbl> & <int> & <dbl> & <dbl> & <dbl> & <dbl> & <dbl> & <dbl> & <dbl> & <dbl> & <dbl>\\\\\n",
       "\\hline\n",
       "\t JC1000116 & 131295313275 & 57868578 & 2020-09-29 22:45:00+00:00 & 0 & DBP & 77 & 78 & 5 & 77 & 77 & 73 & 80 & 2.54951 & 1.4826 & 1 & 7 & 1\\\\\n",
       "\\end{tabular}\n"
      ],
      "text/markdown": [
       "\n",
       "A grouped_df: 1 × 18\n",
       "\n",
       "| anon_id &lt;chr&gt; | pat_enc_csn_id_coded &lt;dbl&gt; | inpatient_data_id_coded &lt;int&gt; | admit_time &lt;chr&gt; | label &lt;int&gt; | features &lt;chr&gt; | first_val &lt;dbl&gt; | last_val &lt;dbl&gt; | count &lt;int&gt; | meanx &lt;dbl&gt; | medianx &lt;dbl&gt; | minx &lt;dbl&gt; | maxx &lt;dbl&gt; | sdx &lt;dbl&gt; | madx &lt;dbl&gt; | IQRx &lt;dbl&gt; | mmdiff &lt;dbl&gt; | fldiff &lt;dbl&gt; |\n",
       "|---|---|---|---|---|---|---|---|---|---|---|---|---|---|---|---|---|---|\n",
       "| JC1000116 | 131295313275 | 57868578 | 2020-09-29 22:45:00+00:00 | 0 | DBP | 77 | 78 | 5 | 77 | 77 | 73 | 80 | 2.54951 | 1.4826 | 1 | 7 | 1 |\n",
       "\n"
      ],
      "text/plain": [
       "  anon_id   pat_enc_csn_id_coded inpatient_data_id_coded\n",
       "1 JC1000116 131295313275         57868578               \n",
       "  admit_time                label features first_val last_val count meanx\n",
       "1 2020-09-29 22:45:00+00:00 0     DBP      77        78       5     77   \n",
       "  medianx minx maxx sdx     madx   IQRx mmdiff fldiff\n",
       "1 77      73   80   2.54951 1.4826 1    7      1     "
      ]
     },
     "metadata": {},
     "output_type": "display_data"
    }
   ],
   "source": [
    "head(vsum, n=1)"
   ]
  },
  {
   "cell_type": "code",
   "execution_count": 59,
   "metadata": {},
   "outputs": [
    {
     "data": {
      "text/html": [
       "83520"
      ],
      "text/latex": [
       "83520"
      ],
      "text/markdown": [
       "83520"
      ],
      "text/plain": [
       "[1] 83520"
      ]
     },
     "metadata": {},
     "output_type": "display_data"
    },
    {
     "data": {
      "text/html": [
       "<style>\n",
       ".list-inline {list-style: none; margin:0; padding: 0}\n",
       ".list-inline>li {display: inline-block}\n",
       ".list-inline>li:not(:last-child)::after {content: \"\\00b7\"; padding: 0 .5ex}\n",
       "</style>\n",
       "<ol class=list-inline><li>'anon_id'</li><li>'pat_enc_csn_id_coded'</li><li>'inpatient_data_id_coded'</li><li>'admit_time'</li><li>'label'</li><li>'features'</li><li>'first_val'</li><li>'last_val'</li><li>'count'</li><li>'meanx'</li><li>'medianx'</li><li>'minx'</li><li>'maxx'</li><li>'sdx'</li><li>'madx'</li><li>'IQRx'</li><li>'mmdiff'</li><li>'fldiff'</li></ol>\n"
      ],
      "text/latex": [
       "\\begin{enumerate*}\n",
       "\\item 'anon\\_id'\n",
       "\\item 'pat\\_enc\\_csn\\_id\\_coded'\n",
       "\\item 'inpatient\\_data\\_id\\_coded'\n",
       "\\item 'admit\\_time'\n",
       "\\item 'label'\n",
       "\\item 'features'\n",
       "\\item 'first\\_val'\n",
       "\\item 'last\\_val'\n",
       "\\item 'count'\n",
       "\\item 'meanx'\n",
       "\\item 'medianx'\n",
       "\\item 'minx'\n",
       "\\item 'maxx'\n",
       "\\item 'sdx'\n",
       "\\item 'madx'\n",
       "\\item 'IQRx'\n",
       "\\item 'mmdiff'\n",
       "\\item 'fldiff'\n",
       "\\end{enumerate*}\n"
      ],
      "text/markdown": [
       "1. 'anon_id'\n",
       "2. 'pat_enc_csn_id_coded'\n",
       "3. 'inpatient_data_id_coded'\n",
       "4. 'admit_time'\n",
       "5. 'label'\n",
       "6. 'features'\n",
       "7. 'first_val'\n",
       "8. 'last_val'\n",
       "9. 'count'\n",
       "10. 'meanx'\n",
       "11. 'medianx'\n",
       "12. 'minx'\n",
       "13. 'maxx'\n",
       "14. 'sdx'\n",
       "15. 'madx'\n",
       "16. 'IQRx'\n",
       "17. 'mmdiff'\n",
       "18. 'fldiff'\n",
       "\n",
       "\n"
      ],
      "text/plain": [
       " [1] \"anon_id\"                 \"pat_enc_csn_id_coded\"   \n",
       " [3] \"inpatient_data_id_coded\" \"admit_time\"             \n",
       " [5] \"label\"                   \"features\"               \n",
       " [7] \"first_val\"               \"last_val\"               \n",
       " [9] \"count\"                   \"meanx\"                  \n",
       "[11] \"medianx\"                 \"minx\"                   \n",
       "[13] \"maxx\"                    \"sdx\"                    \n",
       "[15] \"madx\"                    \"IQRx\"                   \n",
       "[17] \"mmdiff\"                  \"fldiff\"                 "
      ]
     },
     "metadata": {},
     "output_type": "display_data"
    },
    {
     "data": {
      "text/html": [
       "<style>\n",
       ".list-inline {list-style: none; margin:0; padding: 0}\n",
       ".list-inline>li {display: inline-block}\n",
       ".list-inline>li:not(:last-child)::after {content: \"\\00b7\"; padding: 0 .5ex}\n",
       "</style>\n",
       "<ol class=list-inline><li>'DBP'</li><li>'Pulse'</li><li>'RR'</li><li>'SBP'</li><li>'Temp'</li></ol>\n"
      ],
      "text/latex": [
       "\\begin{enumerate*}\n",
       "\\item 'DBP'\n",
       "\\item 'Pulse'\n",
       "\\item 'RR'\n",
       "\\item 'SBP'\n",
       "\\item 'Temp'\n",
       "\\end{enumerate*}\n"
      ],
      "text/markdown": [
       "1. 'DBP'\n",
       "2. 'Pulse'\n",
       "3. 'RR'\n",
       "4. 'SBP'\n",
       "5. 'Temp'\n",
       "\n",
       "\n"
      ],
      "text/plain": [
       "[1] \"DBP\"   \"Pulse\" \"RR\"    \"SBP\"   \"Temp\" "
      ]
     },
     "metadata": {},
     "output_type": "display_data"
    },
    {
     "data": {
      "text/plain": [
       "   anon_id          pat_enc_csn_id_coded inpatient_data_id_coded\n",
       " Length:83520       Min.   :1.313e+11    Min.   :51823319       \n",
       " Class :character   1st Qu.:1.313e+11    1st Qu.:57109708       \n",
       " Mode  :character   Median :1.313e+11    Median :62153522       \n",
       "                    Mean   :1.313e+11    Mean   :62405711       \n",
       "                    3rd Qu.:1.313e+11    3rd Qu.:67737730       \n",
       "                    Max.   :1.313e+11    Max.   :73231043       \n",
       "                                                                \n",
       "  admit_time            label          features           first_val     \n",
       " Length:83520       Min.   :0.0000   Length:83520       Min.   :  6.00  \n",
       " Class :character   1st Qu.:0.0000   Class :character   1st Qu.: 36.25  \n",
       " Mode  :character   Median :0.0000   Mode  :character   Median : 71.00  \n",
       "                    Mean   :0.1351                      Mean   : 71.90  \n",
       "                    3rd Qu.:0.0000                      3rd Qu.:103.00  \n",
       "                    Max.   :1.0000                      Max.   :267.00  \n",
       "                                                                        \n",
       "    last_val          count             meanx           medianx      \n",
       " Min.   :  6.00   Min.   :  1.000   Min.   :  8.00   Min.   :  8.00  \n",
       " 1st Qu.: 36.80   1st Qu.:  2.000   1st Qu.: 36.60   1st Qu.: 36.65  \n",
       " Median : 69.00   Median :  3.000   Median : 70.50   Median : 70.00  \n",
       " Mean   : 69.22   Mean   :  4.714   Mean   : 70.28   Mean   : 70.05  \n",
       " 3rd Qu.: 98.00   3rd Qu.:  6.000   3rd Qu.: 99.62   3rd Qu.: 99.00  \n",
       " Max.   :244.00   Max.   :227.000   Max.   :246.43   Max.   :245.00  \n",
       "                                                                     \n",
       "      minx             maxx             sdx              madx        \n",
       " Min.   :  5.00   Min.   :  8.00   Min.   : 0.000   Min.   : 0.0000  \n",
       " 1st Qu.: 36.00   1st Qu.: 37.00   1st Qu.: 1.000   1st Qu.: 0.2224  \n",
       " Median : 62.00   Median : 78.00   Median : 4.243   Median : 2.9652  \n",
       " Mean   : 64.13   Mean   : 77.12   Mean   : 6.008   Mean   : 4.4669  \n",
       " 3rd Qu.: 91.00   3rd Qu.:111.00   3rd Qu.: 8.827   3rd Qu.: 6.6717  \n",
       " Max.   :234.00   Max.   :270.00   Max.   :85.067   Max.   :84.5082  \n",
       "                                   NA's   :8112                      \n",
       "      IQRx           mmdiff           fldiff        \n",
       " Min.   :  0.0   Min.   :  0.00   Min.   :-170.000  \n",
       " 1st Qu.:  0.2   1st Qu.:  0.40   1st Qu.:  -6.000  \n",
       " Median :  3.0   Median :  8.00   Median :   0.000  \n",
       " Mean   :  5.4   Mean   : 12.99   Mean   :  -2.679  \n",
       " 3rd Qu.:  8.0   3rd Qu.: 19.00   3rd Qu.:   1.000  \n",
       " Max.   :170.0   Max.   :196.00   Max.   : 129.000  \n",
       "                                                    "
      ]
     },
     "metadata": {},
     "output_type": "display_data"
    }
   ],
   "source": [
    "nrow(vsum) #\n",
    "colnames(vsum)\n",
    "unique(vsum$features)\n",
    "summary(vsum)"
   ]
  },
  {
   "cell_type": "code",
   "execution_count": 60,
   "metadata": {},
   "outputs": [],
   "source": [
    "# replace na of sdx (due to denominator of n-1) as 0\n",
    "# wide to long on multiple cols to wide\n",
    "# remove rows with any na --> only complete cases of 1 set of vital signs\n",
    "vsum_wide <- vsum %>% mutate(sdx = ifelse(is.na(sdx), 0, sdx)) %>%\n",
    "                gather(variable, value, first_val:fldiff) %>%\n",
    "                unite(temp, features, variable) %>%\n",
    "                spread(temp, value) %>% drop_na()"
   ]
  },
  {
   "cell_type": "code",
   "execution_count": 61,
   "metadata": {},
   "outputs": [
    {
     "data": {
      "text/html": [
       "16704"
      ],
      "text/latex": [
       "16704"
      ],
      "text/markdown": [
       "16704"
      ],
      "text/plain": [
       "[1] 16704"
      ]
     },
     "metadata": {},
     "output_type": "display_data"
    },
    {
     "name": "stderr",
     "output_type": "stream",
     "text": [
      "Adding missing grouping variables: `anon_id`, `inpatient_data_id_coded`, `admit_time`, `label`\n",
      "\n"
     ]
    },
    {
     "data": {
      "text/html": [
       "16704"
      ],
      "text/latex": [
       "16704"
      ],
      "text/markdown": [
       "16704"
      ],
      "text/plain": [
       "[1] 16704"
      ]
     },
     "metadata": {},
     "output_type": "display_data"
    },
    {
     "data": {
      "text/html": [
       "<style>\n",
       ".list-inline {list-style: none; margin:0; padding: 0}\n",
       ".list-inline>li {display: inline-block}\n",
       ".list-inline>li:not(:last-child)::after {content: \"\\00b7\"; padding: 0 .5ex}\n",
       "</style>\n",
       "<ol class=list-inline><li>'anon_id'</li><li>'pat_enc_csn_id_coded'</li><li>'inpatient_data_id_coded'</li><li>'admit_time'</li><li>'label'</li><li>'DBP_count'</li><li>'DBP_first_val'</li><li>'DBP_fldiff'</li><li>'DBP_IQRx'</li><li>'DBP_last_val'</li><li>'DBP_madx'</li><li>'DBP_maxx'</li><li>'DBP_meanx'</li><li>'DBP_medianx'</li><li>'DBP_minx'</li><li>'DBP_mmdiff'</li><li>'DBP_sdx'</li><li>'Pulse_count'</li><li>'Pulse_first_val'</li><li>'Pulse_fldiff'</li><li>'Pulse_IQRx'</li><li>'Pulse_last_val'</li><li>'Pulse_madx'</li><li>'Pulse_maxx'</li><li>'Pulse_meanx'</li><li>'Pulse_medianx'</li><li>'Pulse_minx'</li><li>'Pulse_mmdiff'</li><li>'Pulse_sdx'</li><li>'RR_count'</li><li>'RR_first_val'</li><li>'RR_fldiff'</li><li>'RR_IQRx'</li><li>'RR_last_val'</li><li>'RR_madx'</li><li>'RR_maxx'</li><li>'RR_meanx'</li><li>'RR_medianx'</li><li>'RR_minx'</li><li>'RR_mmdiff'</li><li>'RR_sdx'</li><li>'SBP_count'</li><li>'SBP_first_val'</li><li>'SBP_fldiff'</li><li>'SBP_IQRx'</li><li>'SBP_last_val'</li><li>'SBP_madx'</li><li>'SBP_maxx'</li><li>'SBP_meanx'</li><li>'SBP_medianx'</li><li>'SBP_minx'</li><li>'SBP_mmdiff'</li><li>'SBP_sdx'</li><li>'Temp_count'</li><li>'Temp_first_val'</li><li>'Temp_fldiff'</li><li>'Temp_IQRx'</li><li>'Temp_last_val'</li><li>'Temp_madx'</li><li>'Temp_maxx'</li><li>'Temp_meanx'</li><li>'Temp_medianx'</li><li>'Temp_minx'</li><li>'Temp_mmdiff'</li><li>'Temp_sdx'</li></ol>\n"
      ],
      "text/latex": [
       "\\begin{enumerate*}\n",
       "\\item 'anon\\_id'\n",
       "\\item 'pat\\_enc\\_csn\\_id\\_coded'\n",
       "\\item 'inpatient\\_data\\_id\\_coded'\n",
       "\\item 'admit\\_time'\n",
       "\\item 'label'\n",
       "\\item 'DBP\\_count'\n",
       "\\item 'DBP\\_first\\_val'\n",
       "\\item 'DBP\\_fldiff'\n",
       "\\item 'DBP\\_IQRx'\n",
       "\\item 'DBP\\_last\\_val'\n",
       "\\item 'DBP\\_madx'\n",
       "\\item 'DBP\\_maxx'\n",
       "\\item 'DBP\\_meanx'\n",
       "\\item 'DBP\\_medianx'\n",
       "\\item 'DBP\\_minx'\n",
       "\\item 'DBP\\_mmdiff'\n",
       "\\item 'DBP\\_sdx'\n",
       "\\item 'Pulse\\_count'\n",
       "\\item 'Pulse\\_first\\_val'\n",
       "\\item 'Pulse\\_fldiff'\n",
       "\\item 'Pulse\\_IQRx'\n",
       "\\item 'Pulse\\_last\\_val'\n",
       "\\item 'Pulse\\_madx'\n",
       "\\item 'Pulse\\_maxx'\n",
       "\\item 'Pulse\\_meanx'\n",
       "\\item 'Pulse\\_medianx'\n",
       "\\item 'Pulse\\_minx'\n",
       "\\item 'Pulse\\_mmdiff'\n",
       "\\item 'Pulse\\_sdx'\n",
       "\\item 'RR\\_count'\n",
       "\\item 'RR\\_first\\_val'\n",
       "\\item 'RR\\_fldiff'\n",
       "\\item 'RR\\_IQRx'\n",
       "\\item 'RR\\_last\\_val'\n",
       "\\item 'RR\\_madx'\n",
       "\\item 'RR\\_maxx'\n",
       "\\item 'RR\\_meanx'\n",
       "\\item 'RR\\_medianx'\n",
       "\\item 'RR\\_minx'\n",
       "\\item 'RR\\_mmdiff'\n",
       "\\item 'RR\\_sdx'\n",
       "\\item 'SBP\\_count'\n",
       "\\item 'SBP\\_first\\_val'\n",
       "\\item 'SBP\\_fldiff'\n",
       "\\item 'SBP\\_IQRx'\n",
       "\\item 'SBP\\_last\\_val'\n",
       "\\item 'SBP\\_madx'\n",
       "\\item 'SBP\\_maxx'\n",
       "\\item 'SBP\\_meanx'\n",
       "\\item 'SBP\\_medianx'\n",
       "\\item 'SBP\\_minx'\n",
       "\\item 'SBP\\_mmdiff'\n",
       "\\item 'SBP\\_sdx'\n",
       "\\item 'Temp\\_count'\n",
       "\\item 'Temp\\_first\\_val'\n",
       "\\item 'Temp\\_fldiff'\n",
       "\\item 'Temp\\_IQRx'\n",
       "\\item 'Temp\\_last\\_val'\n",
       "\\item 'Temp\\_madx'\n",
       "\\item 'Temp\\_maxx'\n",
       "\\item 'Temp\\_meanx'\n",
       "\\item 'Temp\\_medianx'\n",
       "\\item 'Temp\\_minx'\n",
       "\\item 'Temp\\_mmdiff'\n",
       "\\item 'Temp\\_sdx'\n",
       "\\end{enumerate*}\n"
      ],
      "text/markdown": [
       "1. 'anon_id'\n",
       "2. 'pat_enc_csn_id_coded'\n",
       "3. 'inpatient_data_id_coded'\n",
       "4. 'admit_time'\n",
       "5. 'label'\n",
       "6. 'DBP_count'\n",
       "7. 'DBP_first_val'\n",
       "8. 'DBP_fldiff'\n",
       "9. 'DBP_IQRx'\n",
       "10. 'DBP_last_val'\n",
       "11. 'DBP_madx'\n",
       "12. 'DBP_maxx'\n",
       "13. 'DBP_meanx'\n",
       "14. 'DBP_medianx'\n",
       "15. 'DBP_minx'\n",
       "16. 'DBP_mmdiff'\n",
       "17. 'DBP_sdx'\n",
       "18. 'Pulse_count'\n",
       "19. 'Pulse_first_val'\n",
       "20. 'Pulse_fldiff'\n",
       "21. 'Pulse_IQRx'\n",
       "22. 'Pulse_last_val'\n",
       "23. 'Pulse_madx'\n",
       "24. 'Pulse_maxx'\n",
       "25. 'Pulse_meanx'\n",
       "26. 'Pulse_medianx'\n",
       "27. 'Pulse_minx'\n",
       "28. 'Pulse_mmdiff'\n",
       "29. 'Pulse_sdx'\n",
       "30. 'RR_count'\n",
       "31. 'RR_first_val'\n",
       "32. 'RR_fldiff'\n",
       "33. 'RR_IQRx'\n",
       "34. 'RR_last_val'\n",
       "35. 'RR_madx'\n",
       "36. 'RR_maxx'\n",
       "37. 'RR_meanx'\n",
       "38. 'RR_medianx'\n",
       "39. 'RR_minx'\n",
       "40. 'RR_mmdiff'\n",
       "41. 'RR_sdx'\n",
       "42. 'SBP_count'\n",
       "43. 'SBP_first_val'\n",
       "44. 'SBP_fldiff'\n",
       "45. 'SBP_IQRx'\n",
       "46. 'SBP_last_val'\n",
       "47. 'SBP_madx'\n",
       "48. 'SBP_maxx'\n",
       "49. 'SBP_meanx'\n",
       "50. 'SBP_medianx'\n",
       "51. 'SBP_minx'\n",
       "52. 'SBP_mmdiff'\n",
       "53. 'SBP_sdx'\n",
       "54. 'Temp_count'\n",
       "55. 'Temp_first_val'\n",
       "56. 'Temp_fldiff'\n",
       "57. 'Temp_IQRx'\n",
       "58. 'Temp_last_val'\n",
       "59. 'Temp_madx'\n",
       "60. 'Temp_maxx'\n",
       "61. 'Temp_meanx'\n",
       "62. 'Temp_medianx'\n",
       "63. 'Temp_minx'\n",
       "64. 'Temp_mmdiff'\n",
       "65. 'Temp_sdx'\n",
       "\n",
       "\n"
      ],
      "text/plain": [
       " [1] \"anon_id\"                 \"pat_enc_csn_id_coded\"   \n",
       " [3] \"inpatient_data_id_coded\" \"admit_time\"             \n",
       " [5] \"label\"                   \"DBP_count\"              \n",
       " [7] \"DBP_first_val\"           \"DBP_fldiff\"             \n",
       " [9] \"DBP_IQRx\"                \"DBP_last_val\"           \n",
       "[11] \"DBP_madx\"                \"DBP_maxx\"               \n",
       "[13] \"DBP_meanx\"               \"DBP_medianx\"            \n",
       "[15] \"DBP_minx\"                \"DBP_mmdiff\"             \n",
       "[17] \"DBP_sdx\"                 \"Pulse_count\"            \n",
       "[19] \"Pulse_first_val\"         \"Pulse_fldiff\"           \n",
       "[21] \"Pulse_IQRx\"              \"Pulse_last_val\"         \n",
       "[23] \"Pulse_madx\"              \"Pulse_maxx\"             \n",
       "[25] \"Pulse_meanx\"             \"Pulse_medianx\"          \n",
       "[27] \"Pulse_minx\"              \"Pulse_mmdiff\"           \n",
       "[29] \"Pulse_sdx\"               \"RR_count\"               \n",
       "[31] \"RR_first_val\"            \"RR_fldiff\"              \n",
       "[33] \"RR_IQRx\"                 \"RR_last_val\"            \n",
       "[35] \"RR_madx\"                 \"RR_maxx\"                \n",
       "[37] \"RR_meanx\"                \"RR_medianx\"             \n",
       "[39] \"RR_minx\"                 \"RR_mmdiff\"              \n",
       "[41] \"RR_sdx\"                  \"SBP_count\"              \n",
       "[43] \"SBP_first_val\"           \"SBP_fldiff\"             \n",
       "[45] \"SBP_IQRx\"                \"SBP_last_val\"           \n",
       "[47] \"SBP_madx\"                \"SBP_maxx\"               \n",
       "[49] \"SBP_meanx\"               \"SBP_medianx\"            \n",
       "[51] \"SBP_minx\"                \"SBP_mmdiff\"             \n",
       "[53] \"SBP_sdx\"                 \"Temp_count\"             \n",
       "[55] \"Temp_first_val\"          \"Temp_fldiff\"            \n",
       "[57] \"Temp_IQRx\"               \"Temp_last_val\"          \n",
       "[59] \"Temp_madx\"               \"Temp_maxx\"              \n",
       "[61] \"Temp_meanx\"              \"Temp_medianx\"           \n",
       "[63] \"Temp_minx\"               \"Temp_mmdiff\"            \n",
       "[65] \"Temp_sdx\"               "
      ]
     },
     "metadata": {},
     "output_type": "display_data"
    },
    {
     "data": {
      "text/plain": [
       "   anon_id          pat_enc_csn_id_coded inpatient_data_id_coded\n",
       " Length:16704       Min.   :1.313e+11    Min.   :51823319       \n",
       " Class :character   1st Qu.:1.313e+11    1st Qu.:57109708       \n",
       " Mode  :character   Median :1.313e+11    Median :62153522       \n",
       "                    Mean   :1.313e+11    Mean   :62405711       \n",
       "                    3rd Qu.:1.313e+11    3rd Qu.:67737730       \n",
       "                    Max.   :1.313e+11    Max.   :73231043       \n",
       "  admit_time            label          DBP_count      DBP_first_val   \n",
       " Length:16704       Min.   :0.0000   Min.   : 1.000   Min.   : 12.00  \n",
       " Class :character   1st Qu.:0.0000   1st Qu.: 2.000   1st Qu.: 66.00  \n",
       " Mode  :character   Median :0.0000   Median : 4.000   Median : 77.00  \n",
       "                    Mean   :0.1351   Mean   : 4.968   Mean   : 77.59  \n",
       "                    3rd Qu.:0.0000   3rd Qu.: 6.000   3rd Qu.: 88.00  \n",
       "                    Max.   :1.0000   Max.   :67.000   Max.   :190.00  \n",
       "   DBP_fldiff          DBP_IQRx        DBP_last_val       DBP_madx     \n",
       " Min.   :-137.000   Min.   :  0.000   Min.   : 21.00   Min.   : 0.000  \n",
       " 1st Qu.:  -8.000   1st Qu.:  3.000   1st Qu.: 66.00   1st Qu.: 2.224  \n",
       " Median :   0.000   Median :  6.000   Median : 75.00   Median : 4.448  \n",
       " Mean   :  -1.257   Mean   :  7.319   Mean   : 76.33   Mean   : 6.127  \n",
       " 3rd Qu.:   7.000   3rd Qu.: 10.000   3rd Qu.: 86.00   3rd Qu.: 8.896  \n",
       " Max.   : 129.000   Max.   :108.000   Max.   :165.00   Max.   :82.284  \n",
       "    DBP_maxx        DBP_meanx       DBP_medianx        DBP_minx     \n",
       " Min.   : 21.00   Min.   : 21.00   Min.   : 21.00   Min.   : 12.00  \n",
       " 1st Qu.: 75.00   1st Qu.: 67.75   1st Qu.: 67.00   1st Qu.: 59.00  \n",
       " Median : 85.00   Median : 76.45   Median : 76.00   Median : 68.00  \n",
       " Mean   : 86.76   Mean   : 77.00   Mean   : 76.63   Mean   : 68.53  \n",
       " 3rd Qu.: 96.00   3rd Qu.: 85.50   3rd Qu.: 85.50   3rd Qu.: 78.00  \n",
       " Max.   :219.00   Max.   :148.60   Max.   :150.00   Max.   :139.00  \n",
       "   DBP_mmdiff        DBP_sdx        Pulse_count     Pulse_first_val \n",
       " Min.   :  0.00   Min.   : 0.000   Min.   :  1.00   Min.   : 18.00  \n",
       " 1st Qu.:  7.00   1st Qu.: 3.536   1st Qu.:  3.00   1st Qu.: 77.00  \n",
       " Median : 15.00   Median : 6.557   Median :  4.00   Median : 91.00  \n",
       " Mean   : 18.23   Mean   : 7.595   Mean   :  5.53   Mean   : 92.65  \n",
       " 3rd Qu.: 25.00   3rd Qu.:10.353   3rd Qu.:  7.00   3rd Qu.:106.00  \n",
       " Max.   :160.00   Max.   :69.296   Max.   :227.00   Max.   :255.00  \n",
       "  Pulse_fldiff        Pulse_IQRx      Pulse_last_val     Pulse_madx    \n",
       " Min.   :-170.000   Min.   :  0.000   Min.   : 25.00   Min.   : 0.000  \n",
       " 1st Qu.: -14.000   1st Qu.:  2.500   1st Qu.: 72.00   1st Qu.: 1.483  \n",
       " Median :  -5.000   Median :  5.500   Median : 84.00   Median : 4.448  \n",
       " Mean   :  -7.321   Mean   :  7.182   Mean   : 85.33   Mean   : 5.777  \n",
       " 3rd Qu.:   0.000   3rd Qu.:  9.500   3rd Qu.: 97.00   3rd Qu.: 7.413  \n",
       " Max.   :  94.000   Max.   :170.000   Max.   :180.00   Max.   :84.508  \n",
       "   Pulse_maxx     Pulse_meanx     Pulse_medianx      Pulse_minx   \n",
       " Min.   : 32.0   Min.   : 30.20   Min.   : 30.00   Min.   : 18.0  \n",
       " 1st Qu.: 82.0   1st Qu.: 74.86   1st Qu.: 74.00   1st Qu.: 67.0  \n",
       " Median : 95.0   Median : 86.67   Median : 86.00   Median : 78.0  \n",
       " Mean   : 97.2   Mean   : 87.89   Mean   : 87.41   Mean   : 79.8  \n",
       " 3rd Qu.:110.0   3rd Qu.: 99.57   3rd Qu.: 99.00   3rd Qu.: 92.0  \n",
       " Max.   :262.0   Max.   :184.12   Max.   :211.00   Max.   :160.0  \n",
       "  Pulse_mmdiff     Pulse_sdx         RR_count        RR_first_val  \n",
       " Min.   :  0.0   Min.   : 0.000   Min.   :  1.000   Min.   : 6.00  \n",
       " 1st Qu.:  6.0   1st Qu.: 3.024   1st Qu.:  2.000   1st Qu.:18.00  \n",
       " Median : 13.0   Median : 5.788   Median :  4.000   Median :18.00  \n",
       " Mean   : 17.4   Mean   : 7.184   Mean   :  5.219   Mean   :19.38  \n",
       " 3rd Qu.: 24.0   3rd Qu.: 9.685   3rd Qu.:  6.000   3rd Qu.:20.00  \n",
       " Max.   :196.0   Max.   :85.067   Max.   :192.000   Max.   :60.00  \n",
       "   RR_fldiff           RR_IQRx        RR_last_val       RR_madx      \n",
       " Min.   :-37.0000   Min.   : 0.000   Min.   : 6.00   Min.   : 0.000  \n",
       " 1st Qu.: -3.0000   1st Qu.: 0.500   1st Qu.:16.00   1st Qu.: 0.000  \n",
       " Median :  0.0000   Median : 2.000   Median :18.00   Median : 1.483  \n",
       " Mean   : -0.5134   Mean   : 2.444   Mean   :18.87   Mean   : 1.996  \n",
       " 3rd Qu.:  2.0000   3rd Qu.: 3.500   3rd Qu.:20.00   3rd Qu.: 2.965  \n",
       " Max.   : 36.0000   Max.   :29.000   Max.   :54.00   Max.   :21.498  \n",
       "    RR_maxx         RR_meanx       RR_medianx       RR_minx     \n",
       " Min.   : 8.00   Min.   : 8.00   Min.   : 8.00   Min.   : 5.00  \n",
       " 1st Qu.:18.00   1st Qu.:17.00   1st Qu.:17.00   1st Qu.:15.00  \n",
       " Median :20.00   Median :18.17   Median :18.00   Median :16.00  \n",
       " Mean   :22.34   Mean   :19.20   Mean   :19.09   Mean   :16.42  \n",
       " 3rd Qu.:25.00   3rd Qu.:20.50   3rd Qu.:20.00   3rd Qu.:18.00  \n",
       " Max.   :60.00   Max.   :47.60   Max.   :48.00   Max.   :40.00  \n",
       "   RR_mmdiff          RR_sdx         SBP_count      SBP_first_val\n",
       " Min.   : 0.000   Min.   : 0.000   Min.   : 1.000   Min.   : 46  \n",
       " 1st Qu.: 2.000   1st Qu.: 1.000   1st Qu.: 2.000   1st Qu.:116  \n",
       " Median : 5.000   Median : 2.121   Median : 4.000   Median :132  \n",
       " Mean   : 5.917   Mean   : 2.420   Mean   : 4.969   Mean   :133  \n",
       " 3rd Qu.: 9.000   3rd Qu.: 3.536   3rd Qu.: 6.000   3rd Qu.:148  \n",
       " Max.   :42.000   Max.   :20.506   Max.   :67.000   Max.   :267  \n",
       "   SBP_fldiff        SBP_IQRx        SBP_last_val      SBP_madx     \n",
       " Min.   :-128.0   Min.   :  0.000   Min.   : 50.0   Min.   : 0.000  \n",
       " 1st Qu.: -15.0   1st Qu.:  4.000   1st Qu.:113.0   1st Qu.: 2.965  \n",
       " Median :  -2.0   Median :  8.000   Median :127.0   Median : 6.672  \n",
       " Mean   :  -4.3   Mean   :  9.811   Mean   :128.7   Mean   : 8.194  \n",
       " 3rd Qu.:   5.0   3rd Qu.: 13.750   3rd Qu.:142.0   3rd Qu.:11.861  \n",
       " Max.   : 100.0   Max.   :122.000   Max.   :244.0   Max.   :68.200  \n",
       "    SBP_maxx       SBP_meanx       SBP_medianx       SBP_minx    \n",
       " Min.   : 65.0   Min.   : 63.14   Min.   : 62.5   Min.   : 37.0  \n",
       " 1st Qu.:125.0   1st Qu.:115.50   1st Qu.:115.0   1st Qu.:105.0  \n",
       " Median :140.0   Median :128.75   Median :128.5   Median :118.0  \n",
       " Mean   :142.2   Mean   :130.42   Mean   :130.2   Mean   :119.2  \n",
       " 3rd Qu.:156.0   3rd Qu.:143.33   3rd Qu.:143.5   3rd Qu.:133.0  \n",
       " Max.   :270.0   Max.   :246.43   Max.   :245.0   Max.   :234.0  \n",
       "   SBP_mmdiff        SBP_sdx         Temp_count     Temp_first_val \n",
       " Min.   :  0.00   Min.   : 0.000   Min.   : 1.000   Min.   :28.00  \n",
       " 1st Qu.:  9.00   1st Qu.: 4.657   1st Qu.: 2.000   1st Qu.:36.25  \n",
       " Median : 19.00   Median : 8.660   Median : 2.000   Median :36.90  \n",
       " Mean   : 22.93   Mean   : 9.673   Mean   : 2.881   Mean   :36.88  \n",
       " 3rd Qu.: 32.00   3rd Qu.:13.490   3rd Qu.: 4.000   3rd Qu.:37.00  \n",
       " Max.   :164.00   Max.   :59.262   Max.   :35.000   Max.   :40.85  \n",
       "  Temp_fldiff          Temp_IQRx      Temp_last_val     Temp_madx      \n",
       " Min.   :-5.000000   Min.   :0.0000   Min.   :28.00   Min.   :0.00000  \n",
       " 1st Qu.: 0.000000   1st Qu.:0.1000   1st Qu.:36.80   1st Qu.:0.07413  \n",
       " Median : 0.000000   Median :0.1500   Median :36.90   Median :0.22239  \n",
       " Mean   :-0.001299   Mean   :0.2421   Mean   :36.88   Mean   :0.23936  \n",
       " 3rd Qu.: 0.000000   3rd Qu.:0.2500   3rd Qu.:37.05   3rd Qu.:0.29652  \n",
       " Max.   : 4.100000   Max.   :3.3250   Max.   :40.40   Max.   :2.74281  \n",
       "   Temp_maxx       Temp_meanx     Temp_medianx     Temp_minx    \n",
       " Min.   :28.00   Min.   :28.00   Min.   :28.00   Min.   :28.00  \n",
       " 1st Qu.:37.00   1st Qu.:36.58   1st Qu.:36.65   1st Qu.:36.00  \n",
       " Median :37.00   Median :36.90   Median :36.90   Median :36.70  \n",
       " Mean   :37.11   Mean   :36.88   Mean   :36.89   Mean   :36.65  \n",
       " 3rd Qu.:37.10   3rd Qu.:37.05   3rd Qu.:37.00   3rd Qu.:37.00  \n",
       " Max.   :41.10   Max.   :40.20   Max.   :40.20   Max.   :40.00  \n",
       "  Temp_mmdiff        Temp_sdx     \n",
       " Min.   :0.0000   Min.   :0.0000  \n",
       " 1st Qu.:0.2000   1st Qu.:0.1225  \n",
       " Median :0.3000   Median :0.2121  \n",
       " Mean   :0.4541   Mean   :0.2490  \n",
       " 3rd Qu.:0.5000   3rd Qu.:0.2828  \n",
       " Max.   :5.0000   Max.   :2.0662  "
      ]
     },
     "metadata": {},
     "output_type": "display_data"
    }
   ],
   "source": [
    "nrow(vsum_wide) #\n",
    "nrow(vsum_wide %>% select(pat_enc_csn_id_coded) %>% distinct()) \n",
    "colnames(vsum_wide)\n",
    "summary(vsum_wide)"
   ]
  },
  {
   "cell_type": "code",
   "execution_count": 62,
   "metadata": {},
   "outputs": [],
   "source": [
    "# 44258\n",
    "write.csv(vsum_wide, file.path(valdir, \"6_5_coh3_vital_stats.csv\"), row.names=FALSE)"
   ]
  },
  {
   "cell_type": "code",
   "execution_count": null,
   "metadata": {},
   "outputs": [],
   "source": []
  }
 ],
 "metadata": {
  "environment": {
   "name": "r-cpu.4-0.m71",
   "type": "gcloud",
   "uri": "gcr.io/deeplearning-platform-release/r-cpu.4-0:m71"
  },
  "kernelspec": {
   "display_name": "R",
   "language": "R",
   "name": "ir"
  },
  "language_info": {
   "codemirror_mode": "r",
   "file_extension": ".r",
   "mimetype": "text/x-r-source",
   "name": "R",
   "pygments_lexer": "r",
   "version": "4.1.0"
  },
  "toc": {
   "base_numbering": 1,
   "nav_menu": {},
   "number_sections": true,
   "sideBar": true,
   "skip_h1_title": false,
   "title_cell": "Table of Contents",
   "title_sidebar": "Contents",
   "toc_cell": false,
   "toc_position": {},
   "toc_section_display": true,
   "toc_window_display": false
  },
  "varInspector": {
   "cols": {
    "lenName": 16,
    "lenType": 16,
    "lenVar": 40
   },
   "kernels_config": {
    "python": {
     "delete_cmd_postfix": "",
     "delete_cmd_prefix": "del ",
     "library": "var_list.py",
     "varRefreshCmd": "print(var_dic_list())"
    },
    "r": {
     "delete_cmd_postfix": ") ",
     "delete_cmd_prefix": "rm(",
     "library": "var_list.r",
     "varRefreshCmd": "cat(var_dic_list()) "
    }
   },
   "types_to_exclude": [
    "module",
    "function",
    "builtin_function_or_method",
    "instance",
    "_Feature"
   ],
   "window_display": false
  }
 },
 "nbformat": 4,
 "nbformat_minor": 4
}
