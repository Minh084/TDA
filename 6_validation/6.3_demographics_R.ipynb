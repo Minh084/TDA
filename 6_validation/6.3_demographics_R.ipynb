{
 "cells": [
  {
   "cell_type": "markdown",
   "metadata": {},
   "source": [
    "## Descriptions:\n",
    "Process 2 variables from demograhics table\n",
    "- Process language --> English: yes/no\n",
    "- Process insurance (medicare/caid/cal/mcal/mcare/na) --> yes/no\n",
    "\n",
    "**Inputs**: \n",
    "- `6_2_cohort`: updated 6_1_cohort_validation with inc/exc criteria, which also has demographics information\n",
    "\n",
    "**Outputs**: \n",
    "- `6_4_coh2_demo`"
   ]
  },
  {
   "cell_type": "markdown",
   "metadata": {},
   "source": [
    "### Importing R libraries"
   ]
  },
  {
   "cell_type": "code",
   "execution_count": 1,
   "metadata": {
    "ExecuteTime": {
     "end_time": "2020-05-21T00:38:06.078240Z",
     "start_time": "2020-05-21T00:38:02.778Z"
    }
   },
   "outputs": [
    {
     "name": "stderr",
     "output_type": "stream",
     "text": [
      "── \u001b[1mAttaching packages\u001b[22m ─────────────────────────────────────── tidyverse 1.3.1 ──\n",
      "\n",
      "\u001b[32m✔\u001b[39m \u001b[34mggplot2\u001b[39m 3.3.3     \u001b[32m✔\u001b[39m \u001b[34mpurrr  \u001b[39m 0.3.4\n",
      "\u001b[32m✔\u001b[39m \u001b[34mtibble \u001b[39m 3.1.2     \u001b[32m✔\u001b[39m \u001b[34mdplyr  \u001b[39m 1.0.6\n",
      "\u001b[32m✔\u001b[39m \u001b[34mtidyr  \u001b[39m 1.1.3     \u001b[32m✔\u001b[39m \u001b[34mstringr\u001b[39m 1.4.0\n",
      "\u001b[32m✔\u001b[39m \u001b[34mreadr  \u001b[39m 1.4.0     \u001b[32m✔\u001b[39m \u001b[34mforcats\u001b[39m 0.5.1\n",
      "\n",
      "── \u001b[1mConflicts\u001b[22m ────────────────────────────────────────── tidyverse_conflicts() ──\n",
      "\u001b[31m✖\u001b[39m \u001b[34mdplyr\u001b[39m::\u001b[32mfilter()\u001b[39m masks \u001b[34mstats\u001b[39m::filter()\n",
      "\u001b[31m✖\u001b[39m \u001b[34mdplyr\u001b[39m::\u001b[32mlag()\u001b[39m    masks \u001b[34mstats\u001b[39m::lag()\n",
      "\n",
      "\n",
      "Attaching package: ‘lubridate’\n",
      "\n",
      "\n",
      "The following objects are masked from ‘package:base’:\n",
      "\n",
      "    date, intersect, setdiff, union\n",
      "\n",
      "\n"
     ]
    }
   ],
   "source": [
    "library(bigrquery)  # to query STARR-OMOP (stored in BigQuery) using SQL\n",
    "library(tidyverse)\n",
    "library(lubridate)\n",
    "# library(mice)\n",
    "# library(VIM) # for missing data plot\n",
    "\n",
    "# library(data.table)\n",
    "# library(Matrix)\n",
    "# library(caret) # import this before glmnet to avoid rlang version problem\n",
    "# library(glmnet)\n",
    "# library(bit64)\n",
    "\n",
    "# library(slam)\n",
    "# library(mtools) for one hot coder, not available on Nero or use caret or tidyr\n",
    "options(repr.matrix.max.rows=250, repr.matrix.max.cols=30)"
   ]
  },
  {
   "cell_type": "markdown",
   "metadata": {},
   "source": [
    "### Demographic variables\n",
    "- Age (only >=18): done in in/ex criteria\n",
    "- insurance = Medical/care/caid and n/a insurance --> medis =1 otherwise 0\n",
    "- language --> Engl = 1 for English, otherwise 0\n",
    "- leave height and weight to be processed with flowsheet age (>=18 only)"
   ]
  },
  {
   "cell_type": "code",
   "execution_count": 3,
   "metadata": {},
   "outputs": [
    {
     "data": {
      "text/html": [
       "17131"
      ],
      "text/latex": [
       "17131"
      ],
      "text/markdown": [
       "17131"
      ],
      "text/plain": [
       "[1] 17131"
      ]
     },
     "metadata": {},
     "output_type": "display_data"
    },
    {
     "data": {
      "text/plain": [
       "   anon_id          pat_enc_csn_id_coded admit_time_jittered     label       \n",
       " Length:17131       Min.   :1.313e+11    Length:17131        Min.   :0.0000  \n",
       " Class :character   1st Qu.:1.313e+11    Class :character    1st Qu.:0.0000  \n",
       " Mode  :character   Median :1.313e+11    Mode  :character    Median :0.0000  \n",
       "                    Mean   :1.313e+11                        Mean   :0.1388  \n",
       "                    3rd Qu.:1.313e+11                        3rd Qu.:0.0000  \n",
       "                    Max.   :1.313e+11                        Max.   :1.0000  \n",
       "                                                                             \n",
       "  admit_time           adm_year      adm_month      inpatient_data_id_coded\n",
       " Length:17131       Min.   :2020   Min.   : 1.000   Min.   :51823319       \n",
       " Class :character   1st Qu.:2020   1st Qu.: 4.000   1st Qu.:57106984       \n",
       " Mode  :character   Median :2021   Median : 7.000   Median :62110309       \n",
       "                    Mean   :2021   Mean   : 6.612   Mean   :62392235       \n",
       "                    3rd Qu.:2021   3rd Qu.: 9.000   3rd Qu.:67737331       \n",
       "                    Max.   :2021   Max.   :12.000   Max.   :73231043       \n",
       "                                                                           \n",
       "      ESI       hosp_admsn_time      ed_time_hr         gender         \n",
       " Min.   :1.00   Length:17131       Min.   :  0.000   Length:17131      \n",
       " 1st Qu.:2.00   Class :character   1st Qu.:  2.317   Class :character  \n",
       " Median :3.00   Mode  :character   Median :  3.417   Mode  :character  \n",
       " Mean   :2.55                      Mean   :  4.188                     \n",
       " 3rd Qu.:3.00                      3rd Qu.:  4.917                     \n",
       " Max.   :5.00                      Max.   :145.067                     \n",
       " NA's   :98                                                            \n",
       "     race             language         recent_height_cm recent_weight_kg\n",
       " Length:17131       Length:17131       Min.   :113.0    Min.   : 26.76  \n",
       " Class :character   Class :character   1st Qu.:160.0    1st Qu.: 61.23  \n",
       " Mode  :character   Mode  :character   Median :167.6    Median : 74.00  \n",
       "                                       Mean   :168.0    Mean   : 77.21  \n",
       "                                       3rd Qu.:175.3    3rd Qu.: 88.50  \n",
       "                                       Max.   :213.4    Max.   :342.46  \n",
       "                                       NA's   :387      NA's   :30      \n",
       "  insurance              age        \n",
       " Length:17131       Min.   : 18.00  \n",
       " Class :character   1st Qu.: 46.00  \n",
       " Mode  :character   Median : 62.00  \n",
       "                    Mean   : 59.72  \n",
       "                    3rd Qu.: 74.00  \n",
       "                    Max.   :107.00  \n",
       "                                    "
      ]
     },
     "metadata": {},
     "output_type": "display_data"
    }
   ],
   "source": [
    "# datadir = \"../../DataTD\"\n",
    "valdir = \"../../OutputTD/6_validation\"\n",
    "# featuredir = \"../../OutputTD/2_features\"\n",
    "\n",
    "cohort <- read.csv(file.path(valdir, \"6_2_cohort.csv\"))\n",
    "nrow(cohort) #45794\n",
    "summary(cohort) "
   ]
  },
  {
   "cell_type": "code",
   "execution_count": 4,
   "metadata": {},
   "outputs": [
    {
     "data": {
      "text/html": [
       "<table class=\"dataframe\">\n",
       "<caption>A data.frame: 1 × 18</caption>\n",
       "<thead>\n",
       "\t<tr><th></th><th scope=col>anon_id</th><th scope=col>pat_enc_csn_id_coded</th><th scope=col>admit_time_jittered</th><th scope=col>label</th><th scope=col>admit_time</th><th scope=col>adm_year</th><th scope=col>adm_month</th><th scope=col>inpatient_data_id_coded</th><th scope=col>ESI</th><th scope=col>hosp_admsn_time</th><th scope=col>ed_time_hr</th><th scope=col>gender</th><th scope=col>race</th><th scope=col>language</th><th scope=col>recent_height_cm</th><th scope=col>recent_weight_kg</th><th scope=col>insurance</th><th scope=col>age</th></tr>\n",
       "\t<tr><th></th><th scope=col>&lt;chr&gt;</th><th scope=col>&lt;dbl&gt;</th><th scope=col>&lt;chr&gt;</th><th scope=col>&lt;int&gt;</th><th scope=col>&lt;chr&gt;</th><th scope=col>&lt;int&gt;</th><th scope=col>&lt;int&gt;</th><th scope=col>&lt;int&gt;</th><th scope=col>&lt;int&gt;</th><th scope=col>&lt;chr&gt;</th><th scope=col>&lt;dbl&gt;</th><th scope=col>&lt;chr&gt;</th><th scope=col>&lt;chr&gt;</th><th scope=col>&lt;chr&gt;</th><th scope=col>&lt;dbl&gt;</th><th scope=col>&lt;dbl&gt;</th><th scope=col>&lt;chr&gt;</th><th scope=col>&lt;int&gt;</th></tr>\n",
       "</thead>\n",
       "<tbody>\n",
       "\t<tr><th scope=row>1</th><td>JC1000116</td><td>131295313275</td><td>2020-09-29 22:45:00+00:00</td><td>0</td><td>2020-09-29 22:45:00</td><td>2020</td><td>9</td><td>57868578</td><td>3</td><td>2020-09-29 16:02:00</td><td>6.716667</td><td>Female</td><td>Other</td><td>Spanish</td><td>154</td><td>73.05</td><td>HPSM</td><td>44</td></tr>\n",
       "</tbody>\n",
       "</table>\n"
      ],
      "text/latex": [
       "A data.frame: 1 × 18\n",
       "\\begin{tabular}{r|llllllllllllllllll}\n",
       "  & anon\\_id & pat\\_enc\\_csn\\_id\\_coded & admit\\_time\\_jittered & label & admit\\_time & adm\\_year & adm\\_month & inpatient\\_data\\_id\\_coded & ESI & hosp\\_admsn\\_time & ed\\_time\\_hr & gender & race & language & recent\\_height\\_cm & recent\\_weight\\_kg & insurance & age\\\\\n",
       "  & <chr> & <dbl> & <chr> & <int> & <chr> & <int> & <int> & <int> & <int> & <chr> & <dbl> & <chr> & <chr> & <chr> & <dbl> & <dbl> & <chr> & <int>\\\\\n",
       "\\hline\n",
       "\t1 & JC1000116 & 131295313275 & 2020-09-29 22:45:00+00:00 & 0 & 2020-09-29 22:45:00 & 2020 & 9 & 57868578 & 3 & 2020-09-29 16:02:00 & 6.716667 & Female & Other & Spanish & 154 & 73.05 & HPSM & 44\\\\\n",
       "\\end{tabular}\n"
      ],
      "text/markdown": [
       "\n",
       "A data.frame: 1 × 18\n",
       "\n",
       "| <!--/--> | anon_id &lt;chr&gt; | pat_enc_csn_id_coded &lt;dbl&gt; | admit_time_jittered &lt;chr&gt; | label &lt;int&gt; | admit_time &lt;chr&gt; | adm_year &lt;int&gt; | adm_month &lt;int&gt; | inpatient_data_id_coded &lt;int&gt; | ESI &lt;int&gt; | hosp_admsn_time &lt;chr&gt; | ed_time_hr &lt;dbl&gt; | gender &lt;chr&gt; | race &lt;chr&gt; | language &lt;chr&gt; | recent_height_cm &lt;dbl&gt; | recent_weight_kg &lt;dbl&gt; | insurance &lt;chr&gt; | age &lt;int&gt; |\n",
       "|---|---|---|---|---|---|---|---|---|---|---|---|---|---|---|---|---|---|---|\n",
       "| 1 | JC1000116 | 131295313275 | 2020-09-29 22:45:00+00:00 | 0 | 2020-09-29 22:45:00 | 2020 | 9 | 57868578 | 3 | 2020-09-29 16:02:00 | 6.716667 | Female | Other | Spanish | 154 | 73.05 | HPSM | 44 |\n",
       "\n"
      ],
      "text/plain": [
       "  anon_id   pat_enc_csn_id_coded admit_time_jittered       label\n",
       "1 JC1000116 131295313275         2020-09-29 22:45:00+00:00 0    \n",
       "  admit_time          adm_year adm_month inpatient_data_id_coded ESI\n",
       "1 2020-09-29 22:45:00 2020     9         57868578                3  \n",
       "  hosp_admsn_time     ed_time_hr gender race  language recent_height_cm\n",
       "1 2020-09-29 16:02:00 6.716667   Female Other Spanish  154             \n",
       "  recent_weight_kg insurance age\n",
       "1 73.05            HPSM      44 "
      ]
     },
     "metadata": {},
     "output_type": "display_data"
    }
   ],
   "source": [
    "head(cohort, n=1)"
   ]
  },
  {
   "cell_type": "code",
   "execution_count": 5,
   "metadata": {},
   "outputs": [
    {
     "data": {
      "text/html": [
       "17131"
      ],
      "text/latex": [
       "17131"
      ],
      "text/markdown": [
       "17131"
      ],
      "text/plain": [
       "[1] 17131"
      ]
     },
     "metadata": {},
     "output_type": "display_data"
    },
    {
     "data": {
      "text/plain": [
       "   anon_id          pat_enc_csn_id_coded admit_time_jittered     label       \n",
       " Length:17131       Min.   :1.313e+11    Length:17131        Min.   :0.0000  \n",
       " Class :character   1st Qu.:1.313e+11    Class :character    1st Qu.:0.0000  \n",
       " Mode  :character   Median :1.313e+11    Mode  :character    Median :0.0000  \n",
       "                    Mean   :1.313e+11                        Mean   :0.1388  \n",
       "                    3rd Qu.:1.313e+11                        3rd Qu.:0.0000  \n",
       "                    Max.   :1.313e+11                        Max.   :1.0000  \n",
       "                                                                             \n",
       "   admit_time                     adm_year      adm_month     \n",
       " Min.   :2020-04-01 00:45:00   Min.   :2020   Min.   : 1.000  \n",
       " 1st Qu.:2020-09-04 19:37:00   1st Qu.:2020   1st Qu.: 4.000  \n",
       " Median :2021-01-22 21:46:00   Median :2021   Median : 7.000  \n",
       " Mean   :2021-01-17 13:46:14   Mean   :2021   Mean   : 6.612  \n",
       " 3rd Qu.:2021-06-07 08:53:30   3rd Qu.:2021   3rd Qu.: 9.000  \n",
       " Max.   :2021-09-30 07:00:00   Max.   :2021   Max.   :12.000  \n",
       "                                                              \n",
       " inpatient_data_id_coded      ESI          gender                   race     \n",
       " Min.   :51823319        Min.   :1.00   Female:8058   Asian           :2788  \n",
       " 1st Qu.:57106984        1st Qu.:2.00   Male  :9073   Black           :1109  \n",
       " Median :62110309        Median :3.00                 Native American :  64  \n",
       " Mean   :62392235        Mean   :2.55                 Other           :4522  \n",
       " 3rd Qu.:67737331        3rd Qu.:3.00                 Pacific Islander: 366  \n",
       " Max.   :73231043        Max.   :5.00                 Unknown         :  87  \n",
       "                         NA's   :98                   White           :8195  \n",
       "       language     recent_height_cm recent_weight_kg       insurance   \n",
       " English   :13964   Min.   :113.0    Min.   : 26.76   MEDICARE   :6059  \n",
       " Spanish   : 1712   1st Qu.:160.0    1st Qu.: 61.23   HPSM       :1280  \n",
       " Mandarin  :  264   Median :167.6    Median : 74.00   BLUE CROSS :1239  \n",
       " Vietnamese:  250   Mean   :168.0    Mean   : 77.21              : 986  \n",
       " Cantonese :  120   3rd Qu.:175.3    3rd Qu.: 88.50   MEDI-CAL   : 737  \n",
       " Russian   :   98   Max.   :213.4    Max.   :342.46   BLUE SHIELD: 690  \n",
       " (Other)   :  723   NA's   :387      NA's   :30       (Other)    :6140  \n",
       "      age        \n",
       " Min.   : 18.00  \n",
       " 1st Qu.: 46.00  \n",
       " Median : 62.00  \n",
       " Mean   : 59.72  \n",
       " 3rd Qu.: 74.00  \n",
       " Max.   :107.00  \n",
       "                 "
      ]
     },
     "metadata": {},
     "output_type": "display_data"
    }
   ],
   "source": [
    "cohort <- cohort %>% select(-hosp_admsn_time, -ed_time_hr) %>% # hosp_admsn_time = ymd_hms(hosp_admsn_time)\n",
    "                mutate(admit_time = ymd_hms(admit_time), # recent_date = ymd(recent_date), \n",
    "                       gender = factor(gender), race = factor(race), language = factor(language), insurance = factor(insurance)) \n",
    "                \n",
    "nrow(cohort)\n",
    "summary(cohort)"
   ]
  },
  {
   "cell_type": "code",
   "execution_count": 6,
   "metadata": {},
   "outputs": [
    {
     "data": {
      "text/html": [
       "12993"
      ],
      "text/latex": [
       "12993"
      ],
      "text/markdown": [
       "12993"
      ],
      "text/plain": [
       "[1] 12993"
      ]
     },
     "metadata": {},
     "output_type": "display_data"
    },
    {
     "data": {
      "text/html": [
       "17131"
      ],
      "text/latex": [
       "17131"
      ],
      "text/markdown": [
       "17131"
      ],
      "text/plain": [
       "[1] 17131"
      ]
     },
     "metadata": {},
     "output_type": "display_data"
    },
    {
     "data": {
      "text/html": [
       "<table class=\"dataframe\">\n",
       "<caption>A data.frame: 0 × 16</caption>\n",
       "<thead>\n",
       "\t<tr><th scope=col>anon_id</th><th scope=col>pat_enc_csn_id_coded</th><th scope=col>admit_time_jittered</th><th scope=col>label</th><th scope=col>admit_time</th><th scope=col>adm_year</th><th scope=col>adm_month</th><th scope=col>inpatient_data_id_coded</th><th scope=col>ESI</th><th scope=col>gender</th><th scope=col>race</th><th scope=col>language</th><th scope=col>recent_height_cm</th><th scope=col>recent_weight_kg</th><th scope=col>insurance</th><th scope=col>age</th></tr>\n",
       "\t<tr><th scope=col>&lt;chr&gt;</th><th scope=col>&lt;dbl&gt;</th><th scope=col>&lt;chr&gt;</th><th scope=col>&lt;int&gt;</th><th scope=col>&lt;dttm&gt;</th><th scope=col>&lt;int&gt;</th><th scope=col>&lt;int&gt;</th><th scope=col>&lt;int&gt;</th><th scope=col>&lt;int&gt;</th><th scope=col>&lt;fct&gt;</th><th scope=col>&lt;fct&gt;</th><th scope=col>&lt;fct&gt;</th><th scope=col>&lt;dbl&gt;</th><th scope=col>&lt;dbl&gt;</th><th scope=col>&lt;fct&gt;</th><th scope=col>&lt;int&gt;</th></tr>\n",
       "</thead>\n",
       "<tbody>\n",
       "</tbody>\n",
       "</table>\n"
      ],
      "text/latex": [
       "A data.frame: 0 × 16\n",
       "\\begin{tabular}{llllllllllllllll}\n",
       " anon\\_id & pat\\_enc\\_csn\\_id\\_coded & admit\\_time\\_jittered & label & admit\\_time & adm\\_year & adm\\_month & inpatient\\_data\\_id\\_coded & ESI & gender & race & language & recent\\_height\\_cm & recent\\_weight\\_kg & insurance & age\\\\\n",
       " <chr> & <dbl> & <chr> & <int> & <dttm> & <int> & <int> & <int> & <int> & <fct> & <fct> & <fct> & <dbl> & <dbl> & <fct> & <int>\\\\\n",
       "\\hline\n",
       "\\end{tabular}\n"
      ],
      "text/markdown": [
       "\n",
       "A data.frame: 0 × 16\n",
       "\n",
       "| anon_id &lt;chr&gt; | pat_enc_csn_id_coded &lt;dbl&gt; | admit_time_jittered &lt;chr&gt; | label &lt;int&gt; | admit_time &lt;dttm&gt; | adm_year &lt;int&gt; | adm_month &lt;int&gt; | inpatient_data_id_coded &lt;int&gt; | ESI &lt;int&gt; | gender &lt;fct&gt; | race &lt;fct&gt; | language &lt;fct&gt; | recent_height_cm &lt;dbl&gt; | recent_weight_kg &lt;dbl&gt; | insurance &lt;fct&gt; | age &lt;int&gt; |\n",
       "|---|---|---|---|---|---|---|---|---|---|---|---|---|---|---|---|\n",
       "\n"
      ],
      "text/plain": [
       "     anon_id pat_enc_csn_id_coded admit_time_jittered label admit_time adm_year\n",
       "     adm_month inpatient_data_id_coded ESI gender race language\n",
       "     recent_height_cm recent_weight_kg insurance age"
      ]
     },
     "metadata": {},
     "output_type": "display_data"
    }
   ],
   "source": [
    "# checking duplicates\n",
    "nrow(cohort %>% select(anon_id) %>% distinct()) # 31511\n",
    "nrow(cohort %>% select(anon_id, pat_enc_csn_id_coded) %>% distinct()) # 45794\n",
    "cohort[duplicated(cohort[, c('anon_id','pat_enc_csn_id_coded')]),]\n",
    "\n",
    "# cohort %>% filter(anon_id == \"JCd49287\") # pat_enc_csn_id_coded = 131195706986, \n",
    "# cohort <- cohort %>% filter (!(anon_id == \"JCd49287\" & race == \"Unknown\"))"
   ]
  },
  {
   "cell_type": "code",
   "execution_count": 7,
   "metadata": {},
   "outputs": [
    {
     "data": {
      "text/plain": [
       "      ESI          gender                   race      recent_height_cm\n",
       " Min.   :1.00   Female:8058   Asian           :2788   Min.   :113.0   \n",
       " 1st Qu.:2.00   Male  :9073   Black           :1109   1st Qu.:160.0   \n",
       " Median :3.00                 Native American :  64   Median :167.6   \n",
       " Mean   :2.55                 Other           :4522   Mean   :168.0   \n",
       " 3rd Qu.:3.00                 Pacific Islander: 366   3rd Qu.:175.3   \n",
       " Max.   :5.00                 Unknown         :  87   Max.   :213.4   \n",
       " NA's   :98                   White           :8195   NA's   :387     \n",
       " recent_weight_kg      age        \n",
       " Min.   : 26.76   Min.   : 18.00  \n",
       " 1st Qu.: 61.23   1st Qu.: 46.00  \n",
       " Median : 74.00   Median : 62.00  \n",
       " Mean   : 77.21   Mean   : 59.72  \n",
       " 3rd Qu.: 88.50   3rd Qu.: 74.00  \n",
       " Max.   :342.46   Max.   :107.00  \n",
       " NA's   :30                       "
      ]
     },
     "metadata": {},
     "output_type": "display_data"
    },
    {
     "name": "stderr",
     "output_type": "stream",
     "text": [
      "Warning message:\n",
      "“attributes are not identical across measure variables;\n",
      "they will be dropped”\n"
     ]
    },
    {
     "data": {
      "text/html": [
       "<table class=\"dataframe\">\n",
       "<caption>A data.frame: 16 × 2</caption>\n",
       "<thead>\n",
       "\t<tr><th scope=col>var</th><th scope=col>n</th></tr>\n",
       "\t<tr><th scope=col>&lt;chr&gt;</th><th scope=col>&lt;int&gt;</th></tr>\n",
       "</thead>\n",
       "<tbody>\n",
       "\t<tr><td>adm_year               </td><td>    2</td></tr>\n",
       "\t<tr><td>gender                 </td><td>    2</td></tr>\n",
       "\t<tr><td>label                  </td><td>    2</td></tr>\n",
       "\t<tr><td>ESI                    </td><td>    6</td></tr>\n",
       "\t<tr><td>race                   </td><td>    7</td></tr>\n",
       "\t<tr><td>adm_month              </td><td>   12</td></tr>\n",
       "\t<tr><td>language               </td><td>   47</td></tr>\n",
       "\t<tr><td>age                    </td><td>   87</td></tr>\n",
       "\t<tr><td>insurance              </td><td>   91</td></tr>\n",
       "\t<tr><td>recent_height_cm       </td><td>  573</td></tr>\n",
       "\t<tr><td>recent_weight_kg       </td><td> 2483</td></tr>\n",
       "\t<tr><td>anon_id                </td><td>12993</td></tr>\n",
       "\t<tr><td>admit_time             </td><td>16867</td></tr>\n",
       "\t<tr><td>admit_time_jittered    </td><td>16867</td></tr>\n",
       "\t<tr><td>inpatient_data_id_coded</td><td>17131</td></tr>\n",
       "\t<tr><td>pat_enc_csn_id_coded   </td><td>17131</td></tr>\n",
       "</tbody>\n",
       "</table>\n"
      ],
      "text/latex": [
       "A data.frame: 16 × 2\n",
       "\\begin{tabular}{ll}\n",
       " var & n\\\\\n",
       " <chr> & <int>\\\\\n",
       "\\hline\n",
       "\t adm\\_year                &     2\\\\\n",
       "\t gender                  &     2\\\\\n",
       "\t label                   &     2\\\\\n",
       "\t ESI                     &     6\\\\\n",
       "\t race                    &     7\\\\\n",
       "\t adm\\_month               &    12\\\\\n",
       "\t language                &    47\\\\\n",
       "\t age                     &    87\\\\\n",
       "\t insurance               &    91\\\\\n",
       "\t recent\\_height\\_cm        &   573\\\\\n",
       "\t recent\\_weight\\_kg        &  2483\\\\\n",
       "\t anon\\_id                 & 12993\\\\\n",
       "\t admit\\_time              & 16867\\\\\n",
       "\t admit\\_time\\_jittered     & 16867\\\\\n",
       "\t inpatient\\_data\\_id\\_coded & 17131\\\\\n",
       "\t pat\\_enc\\_csn\\_id\\_coded    & 17131\\\\\n",
       "\\end{tabular}\n"
      ],
      "text/markdown": [
       "\n",
       "A data.frame: 16 × 2\n",
       "\n",
       "| var &lt;chr&gt; | n &lt;int&gt; |\n",
       "|---|---|\n",
       "| adm_year                |     2 |\n",
       "| gender                  |     2 |\n",
       "| label                   |     2 |\n",
       "| ESI                     |     6 |\n",
       "| race                    |     7 |\n",
       "| adm_month               |    12 |\n",
       "| language                |    47 |\n",
       "| age                     |    87 |\n",
       "| insurance               |    91 |\n",
       "| recent_height_cm        |   573 |\n",
       "| recent_weight_kg        |  2483 |\n",
       "| anon_id                 | 12993 |\n",
       "| admit_time              | 16867 |\n",
       "| admit_time_jittered     | 16867 |\n",
       "| inpatient_data_id_coded | 17131 |\n",
       "| pat_enc_csn_id_coded    | 17131 |\n",
       "\n"
      ],
      "text/plain": [
       "   var                     n    \n",
       "1  adm_year                    2\n",
       "2  gender                      2\n",
       "3  label                       2\n",
       "4  ESI                         6\n",
       "5  race                        7\n",
       "6  adm_month                  12\n",
       "7  language                   47\n",
       "8  age                        87\n",
       "9  insurance                  91\n",
       "10 recent_height_cm          573\n",
       "11 recent_weight_kg         2483\n",
       "12 anon_id                 12993\n",
       "13 admit_time              16867\n",
       "14 admit_time_jittered     16867\n",
       "15 inpatient_data_id_coded 17131\n",
       "16 pat_enc_csn_id_coded    17131"
      ]
     },
     "metadata": {},
     "output_type": "display_data"
    },
    {
     "name": "stderr",
     "output_type": "stream",
     "text": [
      "Warning message:\n",
      "“`summarise_each_()` was deprecated in dplyr 0.7.0.\n",
      "Please use `across()` instead.\n",
      "\u001b[90mThis warning is displayed once every 8 hours.\u001b[39m\n",
      "\u001b[90mCall `lifecycle::last_warnings()` to see where this warning was generated.\u001b[39m”\n",
      "Warning message:\n",
      "“`funs()` was deprecated in dplyr 0.8.0.\n",
      "Please use a list of either functions or lambdas: \n",
      "\n",
      "  # Simple named list: \n",
      "  list(mean = mean, median = median)\n",
      "\n",
      "  # Auto named with `tibble::lst()`: \n",
      "  tibble::lst(mean, median)\n",
      "\n",
      "  # Using lambdas\n",
      "  list(~ mean(., trim = .2), ~ median(., na.rm = TRUE))\n",
      "\u001b[90mThis warning is displayed once every 8 hours.\u001b[39m\n",
      "\u001b[90mCall `lifecycle::last_warnings()` to see where this warning was generated.\u001b[39m”\n"
     ]
    },
    {
     "data": {
      "text/html": [
       "<table class=\"dataframe\">\n",
       "<caption>A data.frame: 1 × 16</caption>\n",
       "<thead>\n",
       "\t<tr><th scope=col>anon_id</th><th scope=col>pat_enc_csn_id_coded</th><th scope=col>admit_time_jittered</th><th scope=col>label</th><th scope=col>admit_time</th><th scope=col>adm_year</th><th scope=col>adm_month</th><th scope=col>inpatient_data_id_coded</th><th scope=col>ESI</th><th scope=col>gender</th><th scope=col>race</th><th scope=col>language</th><th scope=col>recent_height_cm</th><th scope=col>recent_weight_kg</th><th scope=col>insurance</th><th scope=col>age</th></tr>\n",
       "\t<tr><th scope=col>&lt;int&gt;</th><th scope=col>&lt;int&gt;</th><th scope=col>&lt;int&gt;</th><th scope=col>&lt;int&gt;</th><th scope=col>&lt;int&gt;</th><th scope=col>&lt;int&gt;</th><th scope=col>&lt;int&gt;</th><th scope=col>&lt;int&gt;</th><th scope=col>&lt;int&gt;</th><th scope=col>&lt;int&gt;</th><th scope=col>&lt;int&gt;</th><th scope=col>&lt;int&gt;</th><th scope=col>&lt;int&gt;</th><th scope=col>&lt;int&gt;</th><th scope=col>&lt;int&gt;</th><th scope=col>&lt;int&gt;</th></tr>\n",
       "</thead>\n",
       "<tbody>\n",
       "\t<tr><td>12993</td><td>17131</td><td>16867</td><td>2</td><td>16867</td><td>2</td><td>12</td><td>17131</td><td>6</td><td>2</td><td>7</td><td>47</td><td>573</td><td>2483</td><td>91</td><td>87</td></tr>\n",
       "</tbody>\n",
       "</table>\n"
      ],
      "text/latex": [
       "A data.frame: 1 × 16\n",
       "\\begin{tabular}{llllllllllllllll}\n",
       " anon\\_id & pat\\_enc\\_csn\\_id\\_coded & admit\\_time\\_jittered & label & admit\\_time & adm\\_year & adm\\_month & inpatient\\_data\\_id\\_coded & ESI & gender & race & language & recent\\_height\\_cm & recent\\_weight\\_kg & insurance & age\\\\\n",
       " <int> & <int> & <int> & <int> & <int> & <int> & <int> & <int> & <int> & <int> & <int> & <int> & <int> & <int> & <int> & <int>\\\\\n",
       "\\hline\n",
       "\t 12993 & 17131 & 16867 & 2 & 16867 & 2 & 12 & 17131 & 6 & 2 & 7 & 47 & 573 & 2483 & 91 & 87\\\\\n",
       "\\end{tabular}\n"
      ],
      "text/markdown": [
       "\n",
       "A data.frame: 1 × 16\n",
       "\n",
       "| anon_id &lt;int&gt; | pat_enc_csn_id_coded &lt;int&gt; | admit_time_jittered &lt;int&gt; | label &lt;int&gt; | admit_time &lt;int&gt; | adm_year &lt;int&gt; | adm_month &lt;int&gt; | inpatient_data_id_coded &lt;int&gt; | ESI &lt;int&gt; | gender &lt;int&gt; | race &lt;int&gt; | language &lt;int&gt; | recent_height_cm &lt;int&gt; | recent_weight_kg &lt;int&gt; | insurance &lt;int&gt; | age &lt;int&gt; |\n",
       "|---|---|---|---|---|---|---|---|---|---|---|---|---|---|---|---|\n",
       "| 12993 | 17131 | 16867 | 2 | 16867 | 2 | 12 | 17131 | 6 | 2 | 7 | 47 | 573 | 2483 | 91 | 87 |\n",
       "\n"
      ],
      "text/plain": [
       "  anon_id pat_enc_csn_id_coded admit_time_jittered label admit_time adm_year\n",
       "1 12993   17131                16867               2     16867      2       \n",
       "  adm_month inpatient_data_id_coded ESI gender race language recent_height_cm\n",
       "1 12        17131                   6   2      7    47       573             \n",
       "  recent_weight_kg insurance age\n",
       "1 2483             91        87 "
      ]
     },
     "metadata": {},
     "output_type": "display_data"
    }
   ],
   "source": [
    "summary(cohort %>% select(ESI, gender, race, recent_height_cm, recent_weight_kg, age))\n",
    "cohort %>% gather(var, value) %>% distinct() %>% count(var) %>% arrange(n)\n",
    "cohort %>% summarise_each(funs(n_distinct))"
   ]
  },
  {
   "cell_type": "markdown",
   "metadata": {},
   "source": [
    "### Insurance:"
   ]
  },
  {
   "cell_type": "code",
   "execution_count": 8,
   "metadata": {},
   "outputs": [
    {
     "data": {
      "text/html": [
       "<table class=\"dataframe\">\n",
       "<caption>A grouped_df: 91 × 2</caption>\n",
       "<thead>\n",
       "\t<tr><th scope=col>insurance</th><th scope=col>n</th></tr>\n",
       "\t<tr><th scope=col>&lt;fct&gt;</th><th scope=col>&lt;int&gt;</th></tr>\n",
       "</thead>\n",
       "<tbody>\n",
       "\t<tr><td>MEDICARE                                         </td><td>6059</td></tr>\n",
       "\t<tr><td>HPSM                                             </td><td>1280</td></tr>\n",
       "\t<tr><td>BLUE CROSS                                       </td><td>1239</td></tr>\n",
       "\t<tr><td>                                                 </td><td> 986</td></tr>\n",
       "\t<tr><td>MEDI-CAL                                         </td><td> 737</td></tr>\n",
       "\t<tr><td>BLUE SHIELD                                      </td><td> 690</td></tr>\n",
       "\t<tr><td>SANTA CLARA FAMILY HP                            </td><td> 666</td></tr>\n",
       "\t<tr><td>UNITED HEALTHCARE                                </td><td> 585</td></tr>\n",
       "\t<tr><td>AETNA                                            </td><td> 493</td></tr>\n",
       "\t<tr><td>CIGNA                                            </td><td> 402</td></tr>\n",
       "\t<tr><td>BLUE CARD (OUT OF STATE)                         </td><td> 363</td></tr>\n",
       "\t<tr><td>HPSM - MCARE ADV                                 </td><td> 362</td></tr>\n",
       "\t<tr><td>ALAMEDA ALLIANCE MCAL MGD CARE                   </td><td> 354</td></tr>\n",
       "\t<tr><td>MCAL HMO - CENTRAL CALIFORNIA ALLIANCE FOR HEALTH</td><td> 340</td></tr>\n",
       "\t<tr><td>UHC MEDICARE AARP COMPLETE                       </td><td> 186</td></tr>\n",
       "\t<tr><td>BLUE CROSS MEDI-CAL                              </td><td> 178</td></tr>\n",
       "\t<tr><td>UNITED HEALTHCARE SR ADV                         </td><td> 172</td></tr>\n",
       "\t<tr><td>HEALTHNET                                        </td><td> 165</td></tr>\n",
       "\t<tr><td>SCFHP - MCARE ADV                                </td><td> 146</td></tr>\n",
       "\t<tr><td>BLUE CARD (OUT OF STATE) - BS                    </td><td> 121</td></tr>\n",
       "\t<tr><td>AETNA CHOICE POS II SHC                          </td><td> 101</td></tr>\n",
       "\t<tr><td>UMR                                              </td><td>  92</td></tr>\n",
       "\t<tr><td>MEDICARE SENIOR ADVANTAGE - OTHER                </td><td>  90</td></tr>\n",
       "\t<tr><td>BLUE CROSS SENIOR                                </td><td>  88</td></tr>\n",
       "\t<tr><td>MEDI-CAL MANAGED CARE                            </td><td>  83</td></tr>\n",
       "\t<tr><td>TRICARE HEALTH NET                               </td><td>  66</td></tr>\n",
       "\t<tr><td>AETNA SENIOR                                     </td><td>  65</td></tr>\n",
       "\t<tr><td>MCAL HP OF SAN JOAQUIN                           </td><td>  65</td></tr>\n",
       "\t<tr><td>HEALTHNET SENIOR ADVANTAGE                       </td><td>  64</td></tr>\n",
       "\t<tr><td>ALIGNMENT HEALTH PLAN                            </td><td>  61</td></tr>\n",
       "\t<tr><td>TRIWEST                                          </td><td>  59</td></tr>\n",
       "\t<tr><td>SNF HOSPICE MEDICARE (HOSP ONLY)                 </td><td>  56</td></tr>\n",
       "\t<tr><td>VETERANS ADMINISTRATION                          </td><td>  54</td></tr>\n",
       "\t<tr><td>MCAL HMO-HEALTHNET                               </td><td>  44</td></tr>\n",
       "\t<tr><td>PHP OF CA                                        </td><td>  44</td></tr>\n",
       "\t<tr><td>COMMERCIAL OTHER                                 </td><td>  42</td></tr>\n",
       "\t<tr><td>MANAGED CARE OTHER                               </td><td>  42</td></tr>\n",
       "\t<tr><td>VALLEY HEALTH PLAN                               </td><td>  41</td></tr>\n",
       "\t<tr><td>AARP                                             </td><td>  36</td></tr>\n",
       "\t<tr><td>CAREMORE ANTHEM SR ADV                           </td><td>  36</td></tr>\n",
       "\t<tr><td>MCAL HMO-SAN FRANCISCO HEALTH PLN                </td><td>  35</td></tr>\n",
       "\t<tr><td>UNITEDHEALTHCARE WEST                            </td><td>  32</td></tr>\n",
       "\t<tr><td>HUMANA GOLD CHOICE                               </td><td>  29</td></tr>\n",
       "\t<tr><td>MEDICAID                                         </td><td>  29</td></tr>\n",
       "\t<tr><td>MCAL CONTRA COSTA HEALTH PLAN                    </td><td>  25</td></tr>\n",
       "\t<tr><td>SHC ADVANTAGE SUTTER                             </td><td>  24</td></tr>\n",
       "\t<tr><td>SUTTER HEALTH PLUS                               </td><td>  24</td></tr>\n",
       "\t<tr><td>KAISER NORTHERN CA                               </td><td>  20</td></tr>\n",
       "\t<tr><td>MCAL CENCAL                                      </td><td>  17</td></tr>\n",
       "\t<tr><td>BRAND NEW DAY SR ADV                             </td><td>  16</td></tr>\n",
       "\t<tr><td>KAISER SENIOR                                    </td><td>  13</td></tr>\n",
       "\t<tr><td>MEDI-CAL CCS                                     </td><td>  11</td></tr>\n",
       "\t<tr><td>FIRST HEALTH                                     </td><td>   9</td></tr>\n",
       "\t<tr><td>BLUE CARD SR ADV (OUT OF STATE) - BX             </td><td>   8</td></tr>\n",
       "\t<tr><td>HUMANA CHOICE CARE                               </td><td>   8</td></tr>\n",
       "\t<tr><td>COVID19 HRSA UNINSURED FUND                      </td><td>   7</td></tr>\n",
       "\t<tr><td>VISION SERVICES PLAN                             </td><td>   6</td></tr>\n",
       "\t<tr><td>GOLDEN STATE MHP                                 </td><td>   5</td></tr>\n",
       "\t<tr><td>PRIVATE HEALTHCARE SYS (PHCS)                    </td><td>   5</td></tr>\n",
       "\t<tr><td>ASPIRE HEALTH PLAN SR ADV                        </td><td>   4</td></tr>\n",
       "\t<tr><td>TRICARE FOR LIFE                                 </td><td>   4</td></tr>\n",
       "\t<tr><td>COM-OTHER                                        </td><td>   3</td></tr>\n",
       "\t<tr><td>MEDI-CAL MGD CARE COUNTY                         </td><td>   3</td></tr>\n",
       "\t<tr><td>UNITED HEALTH CARE                               </td><td>   3</td></tr>\n",
       "\t<tr><td>VITALITY HEALTH PLAN SR ADV                      </td><td>   3</td></tr>\n",
       "\t<tr><td>ALAMEDA ALLIANCE GROUP CARE                      </td><td>   2</td></tr>\n",
       "\t<tr><td>BLUE CARD SR ADV (OUT OF STATE) - BS             </td><td>   2</td></tr>\n",
       "\t<tr><td>HOMETOWN HEALTH PLAN                             </td><td>   2</td></tr>\n",
       "\t<tr><td>MCAL HMO-MOLINA                                  </td><td>   2</td></tr>\n",
       "\t<tr><td>MULTIPLAN                                        </td><td>   2</td></tr>\n",
       "\t<tr><td>MUTUAL OF OMAHA                                  </td><td>   2</td></tr>\n",
       "\t<tr><td>NETWORKS BY DESIGN                               </td><td>   2</td></tr>\n",
       "\t<tr><td>SCAN HEALTH PLAN                                 </td><td>   2</td></tr>\n",
       "\t<tr><td>SUTTER HEALTH SYSTEM                             </td><td>   2</td></tr>\n",
       "\t<tr><td>BLUE SHIELD SENIOR                               </td><td>   1</td></tr>\n",
       "\t<tr><td>BSCA PROMISE HEALTH SR ADV                       </td><td>   1</td></tr>\n",
       "\t<tr><td>CCS MEDI-CAL                                     </td><td>   1</td></tr>\n",
       "\t<tr><td>CHAMPVA                                          </td><td>   1</td></tr>\n",
       "\t<tr><td>DONOR NETWORK WEST                               </td><td>   1</td></tr>\n",
       "\t<tr><td>GEHA                                             </td><td>   1</td></tr>\n",
       "\t<tr><td>HPSM - CCS                                       </td><td>   1</td></tr>\n",
       "\t<tr><td>INTERNATIONAL                                    </td><td>   1</td></tr>\n",
       "\t<tr><td>INTERPLAN                                        </td><td>   1</td></tr>\n",
       "\t<tr><td>MCAL KAISER                                      </td><td>   1</td></tr>\n",
       "\t<tr><td>MCAL KAISER SANTA CLARA                          </td><td>   1</td></tr>\n",
       "\t<tr><td>MEDICAID HMO                                     </td><td>   1</td></tr>\n",
       "\t<tr><td>OPTUM HEALTH/URN                                 </td><td>   1</td></tr>\n",
       "\t<tr><td>PARTNERSHIP HEALTH CCS                           </td><td>   1</td></tr>\n",
       "\t<tr><td>PHYSICIANS FOUNDATION                            </td><td>   1</td></tr>\n",
       "\t<tr><td>UHC WEST                                         </td><td>   1</td></tr>\n",
       "\t<tr><td>WELLCARE SENIOR                                  </td><td>   1</td></tr>\n",
       "</tbody>\n",
       "</table>\n"
      ],
      "text/latex": [
       "A grouped\\_df: 91 × 2\n",
       "\\begin{tabular}{ll}\n",
       " insurance & n\\\\\n",
       " <fct> & <int>\\\\\n",
       "\\hline\n",
       "\t MEDICARE                                          & 6059\\\\\n",
       "\t HPSM                                              & 1280\\\\\n",
       "\t BLUE CROSS                                        & 1239\\\\\n",
       "\t                                                   &  986\\\\\n",
       "\t MEDI-CAL                                          &  737\\\\\n",
       "\t BLUE SHIELD                                       &  690\\\\\n",
       "\t SANTA CLARA FAMILY HP                             &  666\\\\\n",
       "\t UNITED HEALTHCARE                                 &  585\\\\\n",
       "\t AETNA                                             &  493\\\\\n",
       "\t CIGNA                                             &  402\\\\\n",
       "\t BLUE CARD (OUT OF STATE)                          &  363\\\\\n",
       "\t HPSM - MCARE ADV                                  &  362\\\\\n",
       "\t ALAMEDA ALLIANCE MCAL MGD CARE                    &  354\\\\\n",
       "\t MCAL HMO - CENTRAL CALIFORNIA ALLIANCE FOR HEALTH &  340\\\\\n",
       "\t UHC MEDICARE AARP COMPLETE                        &  186\\\\\n",
       "\t BLUE CROSS MEDI-CAL                               &  178\\\\\n",
       "\t UNITED HEALTHCARE SR ADV                          &  172\\\\\n",
       "\t HEALTHNET                                         &  165\\\\\n",
       "\t SCFHP - MCARE ADV                                 &  146\\\\\n",
       "\t BLUE CARD (OUT OF STATE) - BS                     &  121\\\\\n",
       "\t AETNA CHOICE POS II SHC                           &  101\\\\\n",
       "\t UMR                                               &   92\\\\\n",
       "\t MEDICARE SENIOR ADVANTAGE - OTHER                 &   90\\\\\n",
       "\t BLUE CROSS SENIOR                                 &   88\\\\\n",
       "\t MEDI-CAL MANAGED CARE                             &   83\\\\\n",
       "\t TRICARE HEALTH NET                                &   66\\\\\n",
       "\t AETNA SENIOR                                      &   65\\\\\n",
       "\t MCAL HP OF SAN JOAQUIN                            &   65\\\\\n",
       "\t HEALTHNET SENIOR ADVANTAGE                        &   64\\\\\n",
       "\t ALIGNMENT HEALTH PLAN                             &   61\\\\\n",
       "\t TRIWEST                                           &   59\\\\\n",
       "\t SNF HOSPICE MEDICARE (HOSP ONLY)                  &   56\\\\\n",
       "\t VETERANS ADMINISTRATION                           &   54\\\\\n",
       "\t MCAL HMO-HEALTHNET                                &   44\\\\\n",
       "\t PHP OF CA                                         &   44\\\\\n",
       "\t COMMERCIAL OTHER                                  &   42\\\\\n",
       "\t MANAGED CARE OTHER                                &   42\\\\\n",
       "\t VALLEY HEALTH PLAN                                &   41\\\\\n",
       "\t AARP                                              &   36\\\\\n",
       "\t CAREMORE ANTHEM SR ADV                            &   36\\\\\n",
       "\t MCAL HMO-SAN FRANCISCO HEALTH PLN                 &   35\\\\\n",
       "\t UNITEDHEALTHCARE WEST                             &   32\\\\\n",
       "\t HUMANA GOLD CHOICE                                &   29\\\\\n",
       "\t MEDICAID                                          &   29\\\\\n",
       "\t MCAL CONTRA COSTA HEALTH PLAN                     &   25\\\\\n",
       "\t SHC ADVANTAGE SUTTER                              &   24\\\\\n",
       "\t SUTTER HEALTH PLUS                                &   24\\\\\n",
       "\t KAISER NORTHERN CA                                &   20\\\\\n",
       "\t MCAL CENCAL                                       &   17\\\\\n",
       "\t BRAND NEW DAY SR ADV                              &   16\\\\\n",
       "\t KAISER SENIOR                                     &   13\\\\\n",
       "\t MEDI-CAL CCS                                      &   11\\\\\n",
       "\t FIRST HEALTH                                      &    9\\\\\n",
       "\t BLUE CARD SR ADV (OUT OF STATE) - BX              &    8\\\\\n",
       "\t HUMANA CHOICE CARE                                &    8\\\\\n",
       "\t COVID19 HRSA UNINSURED FUND                       &    7\\\\\n",
       "\t VISION SERVICES PLAN                              &    6\\\\\n",
       "\t GOLDEN STATE MHP                                  &    5\\\\\n",
       "\t PRIVATE HEALTHCARE SYS (PHCS)                     &    5\\\\\n",
       "\t ASPIRE HEALTH PLAN SR ADV                         &    4\\\\\n",
       "\t TRICARE FOR LIFE                                  &    4\\\\\n",
       "\t COM-OTHER                                         &    3\\\\\n",
       "\t MEDI-CAL MGD CARE COUNTY                          &    3\\\\\n",
       "\t UNITED HEALTH CARE                                &    3\\\\\n",
       "\t VITALITY HEALTH PLAN SR ADV                       &    3\\\\\n",
       "\t ALAMEDA ALLIANCE GROUP CARE                       &    2\\\\\n",
       "\t BLUE CARD SR ADV (OUT OF STATE) - BS              &    2\\\\\n",
       "\t HOMETOWN HEALTH PLAN                              &    2\\\\\n",
       "\t MCAL HMO-MOLINA                                   &    2\\\\\n",
       "\t MULTIPLAN                                         &    2\\\\\n",
       "\t MUTUAL OF OMAHA                                   &    2\\\\\n",
       "\t NETWORKS BY DESIGN                                &    2\\\\\n",
       "\t SCAN HEALTH PLAN                                  &    2\\\\\n",
       "\t SUTTER HEALTH SYSTEM                              &    2\\\\\n",
       "\t BLUE SHIELD SENIOR                                &    1\\\\\n",
       "\t BSCA PROMISE HEALTH SR ADV                        &    1\\\\\n",
       "\t CCS MEDI-CAL                                      &    1\\\\\n",
       "\t CHAMPVA                                           &    1\\\\\n",
       "\t DONOR NETWORK WEST                                &    1\\\\\n",
       "\t GEHA                                              &    1\\\\\n",
       "\t HPSM - CCS                                        &    1\\\\\n",
       "\t INTERNATIONAL                                     &    1\\\\\n",
       "\t INTERPLAN                                         &    1\\\\\n",
       "\t MCAL KAISER                                       &    1\\\\\n",
       "\t MCAL KAISER SANTA CLARA                           &    1\\\\\n",
       "\t MEDICAID HMO                                      &    1\\\\\n",
       "\t OPTUM HEALTH/URN                                  &    1\\\\\n",
       "\t PARTNERSHIP HEALTH CCS                            &    1\\\\\n",
       "\t PHYSICIANS FOUNDATION                             &    1\\\\\n",
       "\t UHC WEST                                          &    1\\\\\n",
       "\t WELLCARE SENIOR                                   &    1\\\\\n",
       "\\end{tabular}\n"
      ],
      "text/markdown": [
       "\n",
       "A grouped_df: 91 × 2\n",
       "\n",
       "| insurance &lt;fct&gt; | n &lt;int&gt; |\n",
       "|---|---|\n",
       "| MEDICARE                                          | 6059 |\n",
       "| HPSM                                              | 1280 |\n",
       "| BLUE CROSS                                        | 1239 |\n",
       "| <!----> |  986 |\n",
       "| MEDI-CAL                                          |  737 |\n",
       "| BLUE SHIELD                                       |  690 |\n",
       "| SANTA CLARA FAMILY HP                             |  666 |\n",
       "| UNITED HEALTHCARE                                 |  585 |\n",
       "| AETNA                                             |  493 |\n",
       "| CIGNA                                             |  402 |\n",
       "| BLUE CARD (OUT OF STATE)                          |  363 |\n",
       "| HPSM - MCARE ADV                                  |  362 |\n",
       "| ALAMEDA ALLIANCE MCAL MGD CARE                    |  354 |\n",
       "| MCAL HMO - CENTRAL CALIFORNIA ALLIANCE FOR HEALTH |  340 |\n",
       "| UHC MEDICARE AARP COMPLETE                        |  186 |\n",
       "| BLUE CROSS MEDI-CAL                               |  178 |\n",
       "| UNITED HEALTHCARE SR ADV                          |  172 |\n",
       "| HEALTHNET                                         |  165 |\n",
       "| SCFHP - MCARE ADV                                 |  146 |\n",
       "| BLUE CARD (OUT OF STATE) - BS                     |  121 |\n",
       "| AETNA CHOICE POS II SHC                           |  101 |\n",
       "| UMR                                               |   92 |\n",
       "| MEDICARE SENIOR ADVANTAGE - OTHER                 |   90 |\n",
       "| BLUE CROSS SENIOR                                 |   88 |\n",
       "| MEDI-CAL MANAGED CARE                             |   83 |\n",
       "| TRICARE HEALTH NET                                |   66 |\n",
       "| AETNA SENIOR                                      |   65 |\n",
       "| MCAL HP OF SAN JOAQUIN                            |   65 |\n",
       "| HEALTHNET SENIOR ADVANTAGE                        |   64 |\n",
       "| ALIGNMENT HEALTH PLAN                             |   61 |\n",
       "| TRIWEST                                           |   59 |\n",
       "| SNF HOSPICE MEDICARE (HOSP ONLY)                  |   56 |\n",
       "| VETERANS ADMINISTRATION                           |   54 |\n",
       "| MCAL HMO-HEALTHNET                                |   44 |\n",
       "| PHP OF CA                                         |   44 |\n",
       "| COMMERCIAL OTHER                                  |   42 |\n",
       "| MANAGED CARE OTHER                                |   42 |\n",
       "| VALLEY HEALTH PLAN                                |   41 |\n",
       "| AARP                                              |   36 |\n",
       "| CAREMORE ANTHEM SR ADV                            |   36 |\n",
       "| MCAL HMO-SAN FRANCISCO HEALTH PLN                 |   35 |\n",
       "| UNITEDHEALTHCARE WEST                             |   32 |\n",
       "| HUMANA GOLD CHOICE                                |   29 |\n",
       "| MEDICAID                                          |   29 |\n",
       "| MCAL CONTRA COSTA HEALTH PLAN                     |   25 |\n",
       "| SHC ADVANTAGE SUTTER                              |   24 |\n",
       "| SUTTER HEALTH PLUS                                |   24 |\n",
       "| KAISER NORTHERN CA                                |   20 |\n",
       "| MCAL CENCAL                                       |   17 |\n",
       "| BRAND NEW DAY SR ADV                              |   16 |\n",
       "| KAISER SENIOR                                     |   13 |\n",
       "| MEDI-CAL CCS                                      |   11 |\n",
       "| FIRST HEALTH                                      |    9 |\n",
       "| BLUE CARD SR ADV (OUT OF STATE) - BX              |    8 |\n",
       "| HUMANA CHOICE CARE                                |    8 |\n",
       "| COVID19 HRSA UNINSURED FUND                       |    7 |\n",
       "| VISION SERVICES PLAN                              |    6 |\n",
       "| GOLDEN STATE MHP                                  |    5 |\n",
       "| PRIVATE HEALTHCARE SYS (PHCS)                     |    5 |\n",
       "| ASPIRE HEALTH PLAN SR ADV                         |    4 |\n",
       "| TRICARE FOR LIFE                                  |    4 |\n",
       "| COM-OTHER                                         |    3 |\n",
       "| MEDI-CAL MGD CARE COUNTY                          |    3 |\n",
       "| UNITED HEALTH CARE                                |    3 |\n",
       "| VITALITY HEALTH PLAN SR ADV                       |    3 |\n",
       "| ALAMEDA ALLIANCE GROUP CARE                       |    2 |\n",
       "| BLUE CARD SR ADV (OUT OF STATE) - BS              |    2 |\n",
       "| HOMETOWN HEALTH PLAN                              |    2 |\n",
       "| MCAL HMO-MOLINA                                   |    2 |\n",
       "| MULTIPLAN                                         |    2 |\n",
       "| MUTUAL OF OMAHA                                   |    2 |\n",
       "| NETWORKS BY DESIGN                                |    2 |\n",
       "| SCAN HEALTH PLAN                                  |    2 |\n",
       "| SUTTER HEALTH SYSTEM                              |    2 |\n",
       "| BLUE SHIELD SENIOR                                |    1 |\n",
       "| BSCA PROMISE HEALTH SR ADV                        |    1 |\n",
       "| CCS MEDI-CAL                                      |    1 |\n",
       "| CHAMPVA                                           |    1 |\n",
       "| DONOR NETWORK WEST                                |    1 |\n",
       "| GEHA                                              |    1 |\n",
       "| HPSM - CCS                                        |    1 |\n",
       "| INTERNATIONAL                                     |    1 |\n",
       "| INTERPLAN                                         |    1 |\n",
       "| MCAL KAISER                                       |    1 |\n",
       "| MCAL KAISER SANTA CLARA                           |    1 |\n",
       "| MEDICAID HMO                                      |    1 |\n",
       "| OPTUM HEALTH/URN                                  |    1 |\n",
       "| PARTNERSHIP HEALTH CCS                            |    1 |\n",
       "| PHYSICIANS FOUNDATION                             |    1 |\n",
       "| UHC WEST                                          |    1 |\n",
       "| WELLCARE SENIOR                                   |    1 |\n",
       "\n"
      ],
      "text/plain": [
       "   insurance                                         n   \n",
       "1  MEDICARE                                          6059\n",
       "2  HPSM                                              1280\n",
       "3  BLUE CROSS                                        1239\n",
       "4                                                     986\n",
       "5  MEDI-CAL                                           737\n",
       "6  BLUE SHIELD                                        690\n",
       "7  SANTA CLARA FAMILY HP                              666\n",
       "8  UNITED HEALTHCARE                                  585\n",
       "9  AETNA                                              493\n",
       "10 CIGNA                                              402\n",
       "11 BLUE CARD (OUT OF STATE)                           363\n",
       "12 HPSM - MCARE ADV                                   362\n",
       "13 ALAMEDA ALLIANCE MCAL MGD CARE                     354\n",
       "14 MCAL HMO - CENTRAL CALIFORNIA ALLIANCE FOR HEALTH  340\n",
       "15 UHC MEDICARE AARP COMPLETE                         186\n",
       "16 BLUE CROSS MEDI-CAL                                178\n",
       "17 UNITED HEALTHCARE SR ADV                           172\n",
       "18 HEALTHNET                                          165\n",
       "19 SCFHP - MCARE ADV                                  146\n",
       "20 BLUE CARD (OUT OF STATE) - BS                      121\n",
       "21 AETNA CHOICE POS II SHC                            101\n",
       "22 UMR                                                 92\n",
       "23 MEDICARE SENIOR ADVANTAGE - OTHER                   90\n",
       "24 BLUE CROSS SENIOR                                   88\n",
       "25 MEDI-CAL MANAGED CARE                               83\n",
       "26 TRICARE HEALTH NET                                  66\n",
       "27 AETNA SENIOR                                        65\n",
       "28 MCAL HP OF SAN JOAQUIN                              65\n",
       "29 HEALTHNET SENIOR ADVANTAGE                          64\n",
       "30 ALIGNMENT HEALTH PLAN                               61\n",
       "31 TRIWEST                                             59\n",
       "32 SNF HOSPICE MEDICARE (HOSP ONLY)                    56\n",
       "33 VETERANS ADMINISTRATION                             54\n",
       "34 MCAL HMO-HEALTHNET                                  44\n",
       "35 PHP OF CA                                           44\n",
       "36 COMMERCIAL OTHER                                    42\n",
       "37 MANAGED CARE OTHER                                  42\n",
       "38 VALLEY HEALTH PLAN                                  41\n",
       "39 AARP                                                36\n",
       "40 CAREMORE ANTHEM SR ADV                              36\n",
       "41 MCAL HMO-SAN FRANCISCO HEALTH PLN                   35\n",
       "42 UNITEDHEALTHCARE WEST                               32\n",
       "43 HUMANA GOLD CHOICE                                  29\n",
       "44 MEDICAID                                            29\n",
       "45 MCAL CONTRA COSTA HEALTH PLAN                       25\n",
       "46 SHC ADVANTAGE SUTTER                                24\n",
       "47 SUTTER HEALTH PLUS                                  24\n",
       "48 KAISER NORTHERN CA                                  20\n",
       "49 MCAL CENCAL                                         17\n",
       "50 BRAND NEW DAY SR ADV                                16\n",
       "51 KAISER SENIOR                                       13\n",
       "52 MEDI-CAL CCS                                        11\n",
       "53 FIRST HEALTH                                         9\n",
       "54 BLUE CARD SR ADV (OUT OF STATE) - BX                 8\n",
       "55 HUMANA CHOICE CARE                                   8\n",
       "56 COVID19 HRSA UNINSURED FUND                          7\n",
       "57 VISION SERVICES PLAN                                 6\n",
       "58 GOLDEN STATE MHP                                     5\n",
       "59 PRIVATE HEALTHCARE SYS (PHCS)                        5\n",
       "60 ASPIRE HEALTH PLAN SR ADV                            4\n",
       "61 TRICARE FOR LIFE                                     4\n",
       "62 COM-OTHER                                            3\n",
       "63 MEDI-CAL MGD CARE COUNTY                             3\n",
       "64 UNITED HEALTH CARE                                   3\n",
       "65 VITALITY HEALTH PLAN SR ADV                          3\n",
       "66 ALAMEDA ALLIANCE GROUP CARE                          2\n",
       "67 BLUE CARD SR ADV (OUT OF STATE) - BS                 2\n",
       "68 HOMETOWN HEALTH PLAN                                 2\n",
       "69 MCAL HMO-MOLINA                                      2\n",
       "70 MULTIPLAN                                            2\n",
       "71 MUTUAL OF OMAHA                                      2\n",
       "72 NETWORKS BY DESIGN                                   2\n",
       "73 SCAN HEALTH PLAN                                     2\n",
       "74 SUTTER HEALTH SYSTEM                                 2\n",
       "75 BLUE SHIELD SENIOR                                   1\n",
       "76 BSCA PROMISE HEALTH SR ADV                           1\n",
       "77 CCS MEDI-CAL                                         1\n",
       "78 CHAMPVA                                              1\n",
       "79 DONOR NETWORK WEST                                   1\n",
       "80 GEHA                                                 1\n",
       "81 HPSM - CCS                                           1\n",
       "82 INTERNATIONAL                                        1\n",
       "83 INTERPLAN                                            1\n",
       "84 MCAL KAISER                                          1\n",
       "85 MCAL KAISER SANTA CLARA                              1\n",
       "86 MEDICAID HMO                                         1\n",
       "87 OPTUM HEALTH/URN                                     1\n",
       "88 PARTNERSHIP HEALTH CCS                               1\n",
       "89 PHYSICIANS FOUNDATION                                1\n",
       "90 UHC WEST                                             1\n",
       "91 WELLCARE SENIOR                                      1"
      ]
     },
     "metadata": {},
     "output_type": "display_data"
    }
   ],
   "source": [
    "options(repr.matrix.max.rows=135, repr.matrix.max.cols=20)\n",
    "cohort %>%                 # filter(!is.na(col)) %>% filter out all rows with NAs in col \n",
    "                group_by(insurance) %>% count() %>% arrange(desc(n))"
   ]
  },
  {
   "cell_type": "code",
   "execution_count": 9,
   "metadata": {},
   "outputs": [
    {
     "data": {
      "text/html": [
       "<table class=\"dataframe\">\n",
       "<caption>A grouped_df: 25 × 2</caption>\n",
       "<thead>\n",
       "\t<tr><th scope=col>insurance</th><th scope=col>n</th></tr>\n",
       "\t<tr><th scope=col>&lt;fct&gt;</th><th scope=col>&lt;int&gt;</th></tr>\n",
       "</thead>\n",
       "<tbody>\n",
       "\t<tr><td>MEDICARE                                         </td><td>6059</td></tr>\n",
       "\t<tr><td>                                                 </td><td> 986</td></tr>\n",
       "\t<tr><td>MEDI-CAL                                         </td><td> 737</td></tr>\n",
       "\t<tr><td>HPSM - MCARE ADV                                 </td><td> 362</td></tr>\n",
       "\t<tr><td>ALAMEDA ALLIANCE MCAL MGD CARE                   </td><td> 354</td></tr>\n",
       "\t<tr><td>MCAL HMO - CENTRAL CALIFORNIA ALLIANCE FOR HEALTH</td><td> 340</td></tr>\n",
       "\t<tr><td>UHC MEDICARE AARP COMPLETE                       </td><td> 186</td></tr>\n",
       "\t<tr><td>BLUE CROSS MEDI-CAL                              </td><td> 178</td></tr>\n",
       "\t<tr><td>SCFHP - MCARE ADV                                </td><td> 146</td></tr>\n",
       "\t<tr><td>MEDICARE SENIOR ADVANTAGE - OTHER                </td><td>  90</td></tr>\n",
       "\t<tr><td>MEDI-CAL MANAGED CARE                            </td><td>  83</td></tr>\n",
       "\t<tr><td>MCAL HP OF SAN JOAQUIN                           </td><td>  65</td></tr>\n",
       "\t<tr><td>SNF HOSPICE MEDICARE (HOSP ONLY)                 </td><td>  56</td></tr>\n",
       "\t<tr><td>MCAL HMO-HEALTHNET                               </td><td>  44</td></tr>\n",
       "\t<tr><td>MCAL HMO-SAN FRANCISCO HEALTH PLN                </td><td>  35</td></tr>\n",
       "\t<tr><td>MEDICAID                                         </td><td>  29</td></tr>\n",
       "\t<tr><td>MCAL CONTRA COSTA HEALTH PLAN                    </td><td>  25</td></tr>\n",
       "\t<tr><td>MCAL CENCAL                                      </td><td>  17</td></tr>\n",
       "\t<tr><td>MEDI-CAL CCS                                     </td><td>  11</td></tr>\n",
       "\t<tr><td>MEDI-CAL MGD CARE COUNTY                         </td><td>   3</td></tr>\n",
       "\t<tr><td>MCAL HMO-MOLINA                                  </td><td>   2</td></tr>\n",
       "\t<tr><td>CCS MEDI-CAL                                     </td><td>   1</td></tr>\n",
       "\t<tr><td>MCAL KAISER                                      </td><td>   1</td></tr>\n",
       "\t<tr><td>MCAL KAISER SANTA CLARA                          </td><td>   1</td></tr>\n",
       "\t<tr><td>MEDICAID HMO                                     </td><td>   1</td></tr>\n",
       "</tbody>\n",
       "</table>\n"
      ],
      "text/latex": [
       "A grouped\\_df: 25 × 2\n",
       "\\begin{tabular}{ll}\n",
       " insurance & n\\\\\n",
       " <fct> & <int>\\\\\n",
       "\\hline\n",
       "\t MEDICARE                                          & 6059\\\\\n",
       "\t                                                   &  986\\\\\n",
       "\t MEDI-CAL                                          &  737\\\\\n",
       "\t HPSM - MCARE ADV                                  &  362\\\\\n",
       "\t ALAMEDA ALLIANCE MCAL MGD CARE                    &  354\\\\\n",
       "\t MCAL HMO - CENTRAL CALIFORNIA ALLIANCE FOR HEALTH &  340\\\\\n",
       "\t UHC MEDICARE AARP COMPLETE                        &  186\\\\\n",
       "\t BLUE CROSS MEDI-CAL                               &  178\\\\\n",
       "\t SCFHP - MCARE ADV                                 &  146\\\\\n",
       "\t MEDICARE SENIOR ADVANTAGE - OTHER                 &   90\\\\\n",
       "\t MEDI-CAL MANAGED CARE                             &   83\\\\\n",
       "\t MCAL HP OF SAN JOAQUIN                            &   65\\\\\n",
       "\t SNF HOSPICE MEDICARE (HOSP ONLY)                  &   56\\\\\n",
       "\t MCAL HMO-HEALTHNET                                &   44\\\\\n",
       "\t MCAL HMO-SAN FRANCISCO HEALTH PLN                 &   35\\\\\n",
       "\t MEDICAID                                          &   29\\\\\n",
       "\t MCAL CONTRA COSTA HEALTH PLAN                     &   25\\\\\n",
       "\t MCAL CENCAL                                       &   17\\\\\n",
       "\t MEDI-CAL CCS                                      &   11\\\\\n",
       "\t MEDI-CAL MGD CARE COUNTY                          &    3\\\\\n",
       "\t MCAL HMO-MOLINA                                   &    2\\\\\n",
       "\t CCS MEDI-CAL                                      &    1\\\\\n",
       "\t MCAL KAISER                                       &    1\\\\\n",
       "\t MCAL KAISER SANTA CLARA                           &    1\\\\\n",
       "\t MEDICAID HMO                                      &    1\\\\\n",
       "\\end{tabular}\n"
      ],
      "text/markdown": [
       "\n",
       "A grouped_df: 25 × 2\n",
       "\n",
       "| insurance &lt;fct&gt; | n &lt;int&gt; |\n",
       "|---|---|\n",
       "| MEDICARE                                          | 6059 |\n",
       "| <!----> |  986 |\n",
       "| MEDI-CAL                                          |  737 |\n",
       "| HPSM - MCARE ADV                                  |  362 |\n",
       "| ALAMEDA ALLIANCE MCAL MGD CARE                    |  354 |\n",
       "| MCAL HMO - CENTRAL CALIFORNIA ALLIANCE FOR HEALTH |  340 |\n",
       "| UHC MEDICARE AARP COMPLETE                        |  186 |\n",
       "| BLUE CROSS MEDI-CAL                               |  178 |\n",
       "| SCFHP - MCARE ADV                                 |  146 |\n",
       "| MEDICARE SENIOR ADVANTAGE - OTHER                 |   90 |\n",
       "| MEDI-CAL MANAGED CARE                             |   83 |\n",
       "| MCAL HP OF SAN JOAQUIN                            |   65 |\n",
       "| SNF HOSPICE MEDICARE (HOSP ONLY)                  |   56 |\n",
       "| MCAL HMO-HEALTHNET                                |   44 |\n",
       "| MCAL HMO-SAN FRANCISCO HEALTH PLN                 |   35 |\n",
       "| MEDICAID                                          |   29 |\n",
       "| MCAL CONTRA COSTA HEALTH PLAN                     |   25 |\n",
       "| MCAL CENCAL                                       |   17 |\n",
       "| MEDI-CAL CCS                                      |   11 |\n",
       "| MEDI-CAL MGD CARE COUNTY                          |    3 |\n",
       "| MCAL HMO-MOLINA                                   |    2 |\n",
       "| CCS MEDI-CAL                                      |    1 |\n",
       "| MCAL KAISER                                       |    1 |\n",
       "| MCAL KAISER SANTA CLARA                           |    1 |\n",
       "| MEDICAID HMO                                      |    1 |\n",
       "\n"
      ],
      "text/plain": [
       "   insurance                                         n   \n",
       "1  MEDICARE                                          6059\n",
       "2                                                     986\n",
       "3  MEDI-CAL                                           737\n",
       "4  HPSM - MCARE ADV                                   362\n",
       "5  ALAMEDA ALLIANCE MCAL MGD CARE                     354\n",
       "6  MCAL HMO - CENTRAL CALIFORNIA ALLIANCE FOR HEALTH  340\n",
       "7  UHC MEDICARE AARP COMPLETE                         186\n",
       "8  BLUE CROSS MEDI-CAL                                178\n",
       "9  SCFHP - MCARE ADV                                  146\n",
       "10 MEDICARE SENIOR ADVANTAGE - OTHER                   90\n",
       "11 MEDI-CAL MANAGED CARE                               83\n",
       "12 MCAL HP OF SAN JOAQUIN                              65\n",
       "13 SNF HOSPICE MEDICARE (HOSP ONLY)                    56\n",
       "14 MCAL HMO-HEALTHNET                                  44\n",
       "15 MCAL HMO-SAN FRANCISCO HEALTH PLN                   35\n",
       "16 MEDICAID                                            29\n",
       "17 MCAL CONTRA COSTA HEALTH PLAN                       25\n",
       "18 MCAL CENCAL                                         17\n",
       "19 MEDI-CAL CCS                                        11\n",
       "20 MEDI-CAL MGD CARE COUNTY                             3\n",
       "21 MCAL HMO-MOLINA                                      2\n",
       "22 CCS MEDI-CAL                                         1\n",
       "23 MCAL KAISER                                          1\n",
       "24 MCAL KAISER SANTA CLARA                              1\n",
       "25 MEDICAID HMO                                         1"
      ]
     },
     "metadata": {},
     "output_type": "display_data"
    }
   ],
   "source": [
    "# check for medicare/ medical/ no insurance\n",
    "# cohort %>% filter(str_detect(insurance, \"MEDI\") | insurance == \"\") %>% \n",
    "#                 group_by(insurance) %>% count() %>% arrange(-n)\n",
    "\n",
    "# mcal = medical, mcare = medicare\n",
    "medis <- c(\"MEDI\", \"MCAL\", \"MCARE\")\n",
    "cohort %>% filter(str_detect(insurance, paste(medis, collapse = \"|\")) | insurance == \"\") %>% \n",
    "                group_by(insurance) %>% count() %>% arrange(-n)"
   ]
  },
  {
   "cell_type": "code",
   "execution_count": 10,
   "metadata": {},
   "outputs": [
    {
     "data": {
      "text/html": [
       "986"
      ],
      "text/latex": [
       "986"
      ],
      "text/markdown": [
       "986"
      ],
      "text/plain": [
       "[1] 986"
      ]
     },
     "metadata": {},
     "output_type": "display_data"
    },
    {
     "data": {
      "text/html": [
       "7434"
      ],
      "text/latex": [
       "7434"
      ],
      "text/markdown": [
       "7434"
      ],
      "text/plain": [
       "[1] 7434"
      ]
     },
     "metadata": {},
     "output_type": "display_data"
    },
    {
     "data": {
      "text/html": [
       "8826"
      ],
      "text/latex": [
       "8826"
      ],
      "text/markdown": [
       "8826"
      ],
      "text/plain": [
       "[1] 8826"
      ]
     },
     "metadata": {},
     "output_type": "display_data"
    },
    {
     "data": {
      "text/html": [
       "<table class=\"dataframe\">\n",
       "<caption>A tibble: 2 × 2</caption>\n",
       "<thead>\n",
       "\t<tr><th scope=col>insurance</th><th scope=col>n</th></tr>\n",
       "\t<tr><th scope=col>&lt;dbl&gt;</th><th scope=col>&lt;int&gt;</th></tr>\n",
       "</thead>\n",
       "<tbody>\n",
       "\t<tr><td>0</td><td>9812</td></tr>\n",
       "\t<tr><td>1</td><td>7319</td></tr>\n",
       "</tbody>\n",
       "</table>\n"
      ],
      "text/latex": [
       "A tibble: 2 × 2\n",
       "\\begin{tabular}{ll}\n",
       " insurance & n\\\\\n",
       " <dbl> & <int>\\\\\n",
       "\\hline\n",
       "\t 0 & 9812\\\\\n",
       "\t 1 & 7319\\\\\n",
       "\\end{tabular}\n"
      ],
      "text/markdown": [
       "\n",
       "A tibble: 2 × 2\n",
       "\n",
       "| insurance &lt;dbl&gt; | n &lt;int&gt; |\n",
       "|---|---|\n",
       "| 0 | 9812 |\n",
       "| 1 | 7319 |\n",
       "\n"
      ],
      "text/plain": [
       "  insurance n   \n",
       "1 0         9812\n",
       "2 1         7319"
      ]
     },
     "metadata": {},
     "output_type": "display_data"
    }
   ],
   "source": [
    "# turn insurance into medis which has \"MEDI\" under insurance\n",
    "# insurance = 0 if patient has medis or no insurance, 1 for other insurance\n",
    "medis <- c(\"MEDI\", \"MCAL\", \"MCARE\")\n",
    "\n",
    "nrow(cohort %>% filter(insurance == \"\")) # 2737\n",
    "nrow(cohort %>% filter(str_detect(insurance, \"MEDI\"))) # 20766\n",
    "nrow(cohort %>% filter(str_detect(insurance, paste(medis, collapse = \"|\")))) # 23987\n",
    "\n",
    "cohort_demo <- cohort %>%\n",
    "                    mutate(insurance = ifelse(str_detect(insurance, paste(medis, collapse = \"|\")) | insurance == \"\", 0, 1)) %>%\n",
    "                    group_by(anon_id, pat_enc_csn_id_coded) %>%\n",
    "                    mutate(insurance = sum(insurance)) %>% ungroup() %>% # just to make sure if anyone else has more than 1\n",
    "                    mutate(insurance = ifelse(insurance>0, 1, insurance)) \n",
    "\n",
    "cohort_demo %>% count(insurance)"
   ]
  },
  {
   "cell_type": "markdown",
   "metadata": {},
   "source": [
    "### Language:"
   ]
  },
  {
   "cell_type": "code",
   "execution_count": 11,
   "metadata": {},
   "outputs": [
    {
     "data": {
      "text/html": [
       "<table class=\"dataframe\">\n",
       "<caption>A grouped_df: 47 × 2</caption>\n",
       "<thead>\n",
       "\t<tr><th scope=col>language</th><th scope=col>n</th></tr>\n",
       "\t<tr><th scope=col>&lt;fct&gt;</th><th scope=col>&lt;int&gt;</th></tr>\n",
       "</thead>\n",
       "<tbody>\n",
       "\t<tr><td>English               </td><td>13964</td></tr>\n",
       "\t<tr><td>Spanish               </td><td> 1712</td></tr>\n",
       "\t<tr><td>Mandarin              </td><td>  264</td></tr>\n",
       "\t<tr><td>Vietnamese            </td><td>  250</td></tr>\n",
       "\t<tr><td>Cantonese             </td><td>  120</td></tr>\n",
       "\t<tr><td>Russian               </td><td>   98</td></tr>\n",
       "\t<tr><td>Tongan                </td><td>   89</td></tr>\n",
       "\t<tr><td>Farsi                 </td><td>   85</td></tr>\n",
       "\t<tr><td>Tagalog               </td><td>   83</td></tr>\n",
       "\t<tr><td>Dari                  </td><td>   63</td></tr>\n",
       "\t<tr><td>Hindi                 </td><td>   57</td></tr>\n",
       "\t<tr><td>Punjabi (Panjabi)     </td><td>   52</td></tr>\n",
       "\t<tr><td>Korean                </td><td>   51</td></tr>\n",
       "\t<tr><td>Other                 </td><td>   36</td></tr>\n",
       "\t<tr><td>Arabic                </td><td>   31</td></tr>\n",
       "\t<tr><td>Gujarati              </td><td>   17</td></tr>\n",
       "\t<tr><td>Portuguese            </td><td>   15</td></tr>\n",
       "\t<tr><td>Urdu                  </td><td>   14</td></tr>\n",
       "\t<tr><td>Burmese               </td><td>   13</td></tr>\n",
       "\t<tr><td>Deaf/Non-Sign Language</td><td>   13</td></tr>\n",
       "\t<tr><td>Japanese              </td><td>   11</td></tr>\n",
       "\t<tr><td>Cambodian, Mon-Khmer  </td><td>    8</td></tr>\n",
       "\t<tr><td>French                </td><td>    8</td></tr>\n",
       "\t<tr><td>American Sign Language</td><td>    7</td></tr>\n",
       "\t<tr><td>Amharic               </td><td>    6</td></tr>\n",
       "\t<tr><td>Telugu                </td><td>    6</td></tr>\n",
       "\t<tr><td>                      </td><td>    5</td></tr>\n",
       "\t<tr><td>Indonesian            </td><td>    5</td></tr>\n",
       "\t<tr><td>Italian               </td><td>    5</td></tr>\n",
       "\t<tr><td>Unknown               </td><td>    5</td></tr>\n",
       "\t<tr><td>Albanian              </td><td>    4</td></tr>\n",
       "\t<tr><td>Polish                </td><td>    4</td></tr>\n",
       "\t<tr><td>Armenian              </td><td>    3</td></tr>\n",
       "\t<tr><td>Hmong                 </td><td>    3</td></tr>\n",
       "\t<tr><td>Ilocano               </td><td>    3</td></tr>\n",
       "\t<tr><td>Laotian               </td><td>    3</td></tr>\n",
       "\t<tr><td>Persian               </td><td>    3</td></tr>\n",
       "\t<tr><td>Romanian              </td><td>    3</td></tr>\n",
       "\t<tr><td>Nepali                </td><td>    2</td></tr>\n",
       "\t<tr><td>Serbian               </td><td>    2</td></tr>\n",
       "\t<tr><td>Taiwanese             </td><td>    2</td></tr>\n",
       "\t<tr><td>Fijian                </td><td>    1</td></tr>\n",
       "\t<tr><td>German                </td><td>    1</td></tr>\n",
       "\t<tr><td>Hungarian             </td><td>    1</td></tr>\n",
       "\t<tr><td>Samoan                </td><td>    1</td></tr>\n",
       "\t<tr><td>Thai                  </td><td>    1</td></tr>\n",
       "\t<tr><td>Yoruba                </td><td>    1</td></tr>\n",
       "</tbody>\n",
       "</table>\n"
      ],
      "text/latex": [
       "A grouped\\_df: 47 × 2\n",
       "\\begin{tabular}{ll}\n",
       " language & n\\\\\n",
       " <fct> & <int>\\\\\n",
       "\\hline\n",
       "\t English                & 13964\\\\\n",
       "\t Spanish                &  1712\\\\\n",
       "\t Mandarin               &   264\\\\\n",
       "\t Vietnamese             &   250\\\\\n",
       "\t Cantonese              &   120\\\\\n",
       "\t Russian                &    98\\\\\n",
       "\t Tongan                 &    89\\\\\n",
       "\t Farsi                  &    85\\\\\n",
       "\t Tagalog                &    83\\\\\n",
       "\t Dari                   &    63\\\\\n",
       "\t Hindi                  &    57\\\\\n",
       "\t Punjabi (Panjabi)      &    52\\\\\n",
       "\t Korean                 &    51\\\\\n",
       "\t Other                  &    36\\\\\n",
       "\t Arabic                 &    31\\\\\n",
       "\t Gujarati               &    17\\\\\n",
       "\t Portuguese             &    15\\\\\n",
       "\t Urdu                   &    14\\\\\n",
       "\t Burmese                &    13\\\\\n",
       "\t Deaf/Non-Sign Language &    13\\\\\n",
       "\t Japanese               &    11\\\\\n",
       "\t Cambodian, Mon-Khmer   &     8\\\\\n",
       "\t French                 &     8\\\\\n",
       "\t American Sign Language &     7\\\\\n",
       "\t Amharic                &     6\\\\\n",
       "\t Telugu                 &     6\\\\\n",
       "\t                        &     5\\\\\n",
       "\t Indonesian             &     5\\\\\n",
       "\t Italian                &     5\\\\\n",
       "\t Unknown                &     5\\\\\n",
       "\t Albanian               &     4\\\\\n",
       "\t Polish                 &     4\\\\\n",
       "\t Armenian               &     3\\\\\n",
       "\t Hmong                  &     3\\\\\n",
       "\t Ilocano                &     3\\\\\n",
       "\t Laotian                &     3\\\\\n",
       "\t Persian                &     3\\\\\n",
       "\t Romanian               &     3\\\\\n",
       "\t Nepali                 &     2\\\\\n",
       "\t Serbian                &     2\\\\\n",
       "\t Taiwanese              &     2\\\\\n",
       "\t Fijian                 &     1\\\\\n",
       "\t German                 &     1\\\\\n",
       "\t Hungarian              &     1\\\\\n",
       "\t Samoan                 &     1\\\\\n",
       "\t Thai                   &     1\\\\\n",
       "\t Yoruba                 &     1\\\\\n",
       "\\end{tabular}\n"
      ],
      "text/markdown": [
       "\n",
       "A grouped_df: 47 × 2\n",
       "\n",
       "| language &lt;fct&gt; | n &lt;int&gt; |\n",
       "|---|---|\n",
       "| English                | 13964 |\n",
       "| Spanish                |  1712 |\n",
       "| Mandarin               |   264 |\n",
       "| Vietnamese             |   250 |\n",
       "| Cantonese              |   120 |\n",
       "| Russian                |    98 |\n",
       "| Tongan                 |    89 |\n",
       "| Farsi                  |    85 |\n",
       "| Tagalog                |    83 |\n",
       "| Dari                   |    63 |\n",
       "| Hindi                  |    57 |\n",
       "| Punjabi (Panjabi)      |    52 |\n",
       "| Korean                 |    51 |\n",
       "| Other                  |    36 |\n",
       "| Arabic                 |    31 |\n",
       "| Gujarati               |    17 |\n",
       "| Portuguese             |    15 |\n",
       "| Urdu                   |    14 |\n",
       "| Burmese                |    13 |\n",
       "| Deaf/Non-Sign Language |    13 |\n",
       "| Japanese               |    11 |\n",
       "| Cambodian, Mon-Khmer   |     8 |\n",
       "| French                 |     8 |\n",
       "| American Sign Language |     7 |\n",
       "| Amharic                |     6 |\n",
       "| Telugu                 |     6 |\n",
       "| <!----> |     5 |\n",
       "| Indonesian             |     5 |\n",
       "| Italian                |     5 |\n",
       "| Unknown                |     5 |\n",
       "| Albanian               |     4 |\n",
       "| Polish                 |     4 |\n",
       "| Armenian               |     3 |\n",
       "| Hmong                  |     3 |\n",
       "| Ilocano                |     3 |\n",
       "| Laotian                |     3 |\n",
       "| Persian                |     3 |\n",
       "| Romanian               |     3 |\n",
       "| Nepali                 |     2 |\n",
       "| Serbian                |     2 |\n",
       "| Taiwanese              |     2 |\n",
       "| Fijian                 |     1 |\n",
       "| German                 |     1 |\n",
       "| Hungarian              |     1 |\n",
       "| Samoan                 |     1 |\n",
       "| Thai                   |     1 |\n",
       "| Yoruba                 |     1 |\n",
       "\n"
      ],
      "text/plain": [
       "   language               n    \n",
       "1  English                13964\n",
       "2  Spanish                 1712\n",
       "3  Mandarin                 264\n",
       "4  Vietnamese               250\n",
       "5  Cantonese                120\n",
       "6  Russian                   98\n",
       "7  Tongan                    89\n",
       "8  Farsi                     85\n",
       "9  Tagalog                   83\n",
       "10 Dari                      63\n",
       "11 Hindi                     57\n",
       "12 Punjabi (Panjabi)         52\n",
       "13 Korean                    51\n",
       "14 Other                     36\n",
       "15 Arabic                    31\n",
       "16 Gujarati                  17\n",
       "17 Portuguese                15\n",
       "18 Urdu                      14\n",
       "19 Burmese                   13\n",
       "20 Deaf/Non-Sign Language    13\n",
       "21 Japanese                  11\n",
       "22 Cambodian, Mon-Khmer       8\n",
       "23 French                     8\n",
       "24 American Sign Language     7\n",
       "25 Amharic                    6\n",
       "26 Telugu                     6\n",
       "27                            5\n",
       "28 Indonesian                 5\n",
       "29 Italian                    5\n",
       "30 Unknown                    5\n",
       "31 Albanian                   4\n",
       "32 Polish                     4\n",
       "33 Armenian                   3\n",
       "34 Hmong                      3\n",
       "35 Ilocano                    3\n",
       "36 Laotian                    3\n",
       "37 Persian                    3\n",
       "38 Romanian                   3\n",
       "39 Nepali                     2\n",
       "40 Serbian                    2\n",
       "41 Taiwanese                  2\n",
       "42 Fijian                     1\n",
       "43 German                     1\n",
       "44 Hungarian                  1\n",
       "45 Samoan                     1\n",
       "46 Thai                       1\n",
       "47 Yoruba                     1"
      ]
     },
     "metadata": {},
     "output_type": "display_data"
    }
   ],
   "source": [
    "cohort_demo %>% group_by(language) %>% count() %>% arrange(desc(n))"
   ]
  },
  {
   "cell_type": "code",
   "execution_count": 12,
   "metadata": {},
   "outputs": [
    {
     "data": {
      "text/html": [
       "<table class=\"dataframe\">\n",
       "<caption>A tibble: 2 × 2</caption>\n",
       "<thead>\n",
       "\t<tr><th scope=col>English</th><th scope=col>n</th></tr>\n",
       "\t<tr><th scope=col>&lt;dbl&gt;</th><th scope=col>&lt;int&gt;</th></tr>\n",
       "</thead>\n",
       "<tbody>\n",
       "\t<tr><td>0</td><td> 3167</td></tr>\n",
       "\t<tr><td>1</td><td>13964</td></tr>\n",
       "</tbody>\n",
       "</table>\n"
      ],
      "text/latex": [
       "A tibble: 2 × 2\n",
       "\\begin{tabular}{ll}\n",
       " English & n\\\\\n",
       " <dbl> & <int>\\\\\n",
       "\\hline\n",
       "\t 0 &  3167\\\\\n",
       "\t 1 & 13964\\\\\n",
       "\\end{tabular}\n"
      ],
      "text/markdown": [
       "\n",
       "A tibble: 2 × 2\n",
       "\n",
       "| English &lt;dbl&gt; | n &lt;int&gt; |\n",
       "|---|---|\n",
       "| 0 |  3167 |\n",
       "| 1 | 13964 |\n",
       "\n"
      ],
      "text/plain": [
       "  English n    \n",
       "1 0        3167\n",
       "2 1       13964"
      ]
     },
     "metadata": {},
     "output_type": "display_data"
    },
    {
     "data": {
      "text/html": [
       "17131"
      ],
      "text/latex": [
       "17131"
      ],
      "text/markdown": [
       "17131"
      ],
      "text/plain": [
       "[1] 17131"
      ]
     },
     "metadata": {},
     "output_type": "display_data"
    },
    {
     "data": {
      "text/html": [
       "12993"
      ],
      "text/latex": [
       "12993"
      ],
      "text/markdown": [
       "12993"
      ],
      "text/plain": [
       "[1] 12993"
      ]
     },
     "metadata": {},
     "output_type": "display_data"
    },
    {
     "data": {
      "text/plain": [
       "      ESI          gender                   race      recent_height_cm\n",
       " Min.   :1.00   Female:8058   Asian           :2788   Min.   :113.0   \n",
       " 1st Qu.:2.00   Male  :9073   Black           :1109   1st Qu.:160.0   \n",
       " Median :3.00                 Native American :  64   Median :167.6   \n",
       " Mean   :2.55                 Other           :4522   Mean   :168.0   \n",
       " 3rd Qu.:3.00                 Pacific Islander: 366   3rd Qu.:175.3   \n",
       " Max.   :5.00                 Unknown         :  87   Max.   :213.4   \n",
       " NA's   :98                   White           :8195   NA's   :387     \n",
       " recent_weight_kg      age           insurance         English      \n",
       " Min.   : 26.76   Min.   : 18.00   Min.   :0.0000   Min.   :0.0000  \n",
       " 1st Qu.: 61.23   1st Qu.: 46.00   1st Qu.:0.0000   1st Qu.:1.0000  \n",
       " Median : 74.00   Median : 62.00   Median :0.0000   Median :1.0000  \n",
       " Mean   : 77.21   Mean   : 59.72   Mean   :0.4272   Mean   :0.8151  \n",
       " 3rd Qu.: 88.50   3rd Qu.: 74.00   3rd Qu.:1.0000   3rd Qu.:1.0000  \n",
       " Max.   :342.46   Max.   :107.00   Max.   :1.0000   Max.   :1.0000  \n",
       " NA's   :30                                                         "
      ]
     },
     "metadata": {},
     "output_type": "display_data"
    }
   ],
   "source": [
    "cohort_demo <- cohort_demo %>%\n",
    "                    mutate(English = ifelse(language == \"English\", 1, 0)) %>% \n",
    "                    select(-c(language))\n",
    "\n",
    "cohort_demo %>% count(English)\n",
    "nrow(cohort_demo)\n",
    "length(unique(cohort_demo$anon_id))\n",
    "summary(cohort_demo %>% select(ESI, gender, race, recent_height_cm, recent_weight_kg, age, insurance, English))"
   ]
  },
  {
   "cell_type": "code",
   "execution_count": 13,
   "metadata": {},
   "outputs": [
    {
     "data": {
      "text/html": [
       "<table class=\"dataframe\">\n",
       "<caption>A tibble: 1 × 16</caption>\n",
       "<thead>\n",
       "\t<tr><th scope=col>anon_id</th><th scope=col>pat_enc_csn_id_coded</th><th scope=col>admit_time_jittered</th><th scope=col>label</th><th scope=col>admit_time</th><th scope=col>adm_year</th><th scope=col>adm_month</th><th scope=col>inpatient_data_id_coded</th><th scope=col>ESI</th><th scope=col>gender</th><th scope=col>race</th><th scope=col>recent_height_cm</th><th scope=col>recent_weight_kg</th><th scope=col>insurance</th><th scope=col>age</th><th scope=col>English</th></tr>\n",
       "\t<tr><th scope=col>&lt;chr&gt;</th><th scope=col>&lt;dbl&gt;</th><th scope=col>&lt;chr&gt;</th><th scope=col>&lt;int&gt;</th><th scope=col>&lt;dttm&gt;</th><th scope=col>&lt;int&gt;</th><th scope=col>&lt;int&gt;</th><th scope=col>&lt;int&gt;</th><th scope=col>&lt;int&gt;</th><th scope=col>&lt;fct&gt;</th><th scope=col>&lt;fct&gt;</th><th scope=col>&lt;dbl&gt;</th><th scope=col>&lt;dbl&gt;</th><th scope=col>&lt;dbl&gt;</th><th scope=col>&lt;int&gt;</th><th scope=col>&lt;dbl&gt;</th></tr>\n",
       "</thead>\n",
       "<tbody>\n",
       "\t<tr><td>JC1000116</td><td>131295313275</td><td>2020-09-29 22:45:00+00:00</td><td>0</td><td>2020-09-29 22:45:00</td><td>2020</td><td>9</td><td>57868578</td><td>3</td><td>Female</td><td>Other</td><td>154</td><td>73.05</td><td>1</td><td>44</td><td>0</td></tr>\n",
       "</tbody>\n",
       "</table>\n"
      ],
      "text/latex": [
       "A tibble: 1 × 16\n",
       "\\begin{tabular}{llllllllllllllll}\n",
       " anon\\_id & pat\\_enc\\_csn\\_id\\_coded & admit\\_time\\_jittered & label & admit\\_time & adm\\_year & adm\\_month & inpatient\\_data\\_id\\_coded & ESI & gender & race & recent\\_height\\_cm & recent\\_weight\\_kg & insurance & age & English\\\\\n",
       " <chr> & <dbl> & <chr> & <int> & <dttm> & <int> & <int> & <int> & <int> & <fct> & <fct> & <dbl> & <dbl> & <dbl> & <int> & <dbl>\\\\\n",
       "\\hline\n",
       "\t JC1000116 & 131295313275 & 2020-09-29 22:45:00+00:00 & 0 & 2020-09-29 22:45:00 & 2020 & 9 & 57868578 & 3 & Female & Other & 154 & 73.05 & 1 & 44 & 0\\\\\n",
       "\\end{tabular}\n"
      ],
      "text/markdown": [
       "\n",
       "A tibble: 1 × 16\n",
       "\n",
       "| anon_id &lt;chr&gt; | pat_enc_csn_id_coded &lt;dbl&gt; | admit_time_jittered &lt;chr&gt; | label &lt;int&gt; | admit_time &lt;dttm&gt; | adm_year &lt;int&gt; | adm_month &lt;int&gt; | inpatient_data_id_coded &lt;int&gt; | ESI &lt;int&gt; | gender &lt;fct&gt; | race &lt;fct&gt; | recent_height_cm &lt;dbl&gt; | recent_weight_kg &lt;dbl&gt; | insurance &lt;dbl&gt; | age &lt;int&gt; | English &lt;dbl&gt; |\n",
       "|---|---|---|---|---|---|---|---|---|---|---|---|---|---|---|---|\n",
       "| JC1000116 | 131295313275 | 2020-09-29 22:45:00+00:00 | 0 | 2020-09-29 22:45:00 | 2020 | 9 | 57868578 | 3 | Female | Other | 154 | 73.05 | 1 | 44 | 0 |\n",
       "\n"
      ],
      "text/plain": [
       "  anon_id   pat_enc_csn_id_coded admit_time_jittered       label\n",
       "1 JC1000116 131295313275         2020-09-29 22:45:00+00:00 0    \n",
       "  admit_time          adm_year adm_month inpatient_data_id_coded ESI gender\n",
       "1 2020-09-29 22:45:00 2020     9         57868578                3   Female\n",
       "  race  recent_height_cm recent_weight_kg insurance age English\n",
       "1 Other 154              73.05            1         44  0      "
      ]
     },
     "metadata": {},
     "output_type": "display_data"
    },
    {
     "data": {
      "text/html": [
       "<style>\n",
       ".list-inline {list-style: none; margin:0; padding: 0}\n",
       ".list-inline>li {display: inline-block}\n",
       ".list-inline>li:not(:last-child)::after {content: \"\\00b7\"; padding: 0 .5ex}\n",
       "</style>\n",
       "<ol class=list-inline><li>'anon_id'</li><li>'pat_enc_csn_id_coded'</li><li>'admit_time_jittered'</li><li>'label'</li><li>'admit_time'</li><li>'adm_year'</li><li>'adm_month'</li><li>'inpatient_data_id_coded'</li><li>'ESI'</li><li>'gender'</li><li>'race'</li><li>'recent_height_cm'</li><li>'recent_weight_kg'</li><li>'insurance'</li><li>'age'</li><li>'English'</li></ol>\n"
      ],
      "text/latex": [
       "\\begin{enumerate*}\n",
       "\\item 'anon\\_id'\n",
       "\\item 'pat\\_enc\\_csn\\_id\\_coded'\n",
       "\\item 'admit\\_time\\_jittered'\n",
       "\\item 'label'\n",
       "\\item 'admit\\_time'\n",
       "\\item 'adm\\_year'\n",
       "\\item 'adm\\_month'\n",
       "\\item 'inpatient\\_data\\_id\\_coded'\n",
       "\\item 'ESI'\n",
       "\\item 'gender'\n",
       "\\item 'race'\n",
       "\\item 'recent\\_height\\_cm'\n",
       "\\item 'recent\\_weight\\_kg'\n",
       "\\item 'insurance'\n",
       "\\item 'age'\n",
       "\\item 'English'\n",
       "\\end{enumerate*}\n"
      ],
      "text/markdown": [
       "1. 'anon_id'\n",
       "2. 'pat_enc_csn_id_coded'\n",
       "3. 'admit_time_jittered'\n",
       "4. 'label'\n",
       "5. 'admit_time'\n",
       "6. 'adm_year'\n",
       "7. 'adm_month'\n",
       "8. 'inpatient_data_id_coded'\n",
       "9. 'ESI'\n",
       "10. 'gender'\n",
       "11. 'race'\n",
       "12. 'recent_height_cm'\n",
       "13. 'recent_weight_kg'\n",
       "14. 'insurance'\n",
       "15. 'age'\n",
       "16. 'English'\n",
       "\n",
       "\n"
      ],
      "text/plain": [
       " [1] \"anon_id\"                 \"pat_enc_csn_id_coded\"   \n",
       " [3] \"admit_time_jittered\"     \"label\"                  \n",
       " [5] \"admit_time\"              \"adm_year\"               \n",
       " [7] \"adm_month\"               \"inpatient_data_id_coded\"\n",
       " [9] \"ESI\"                     \"gender\"                 \n",
       "[11] \"race\"                    \"recent_height_cm\"       \n",
       "[13] \"recent_weight_kg\"        \"insurance\"              \n",
       "[15] \"age\"                     \"English\"                "
      ]
     },
     "metadata": {},
     "output_type": "display_data"
    }
   ],
   "source": [
    "head(cohort_demo, n=1)\n",
    "colnames(cohort_demo)"
   ]
  },
  {
   "cell_type": "code",
   "execution_count": 16,
   "metadata": {},
   "outputs": [],
   "source": [
    "# save file cohort_demo\n",
    "write.csv(cohort_demo, file = file.path(valdir, \"6_3_coh2_demo.csv\"), row.names=FALSE) "
   ]
  },
  {
   "cell_type": "code",
   "execution_count": null,
   "metadata": {},
   "outputs": [],
   "source": []
  }
 ],
 "metadata": {
  "environment": {
   "name": "r-cpu.4-0.m71",
   "type": "gcloud",
   "uri": "gcr.io/deeplearning-platform-release/r-cpu.4-0:m71"
  },
  "kernelspec": {
   "display_name": "R",
   "language": "R",
   "name": "ir"
  },
  "language_info": {
   "codemirror_mode": "r",
   "file_extension": ".r",
   "mimetype": "text/x-r-source",
   "name": "R",
   "pygments_lexer": "r",
   "version": "4.1.0"
  },
  "toc": {
   "base_numbering": 1,
   "nav_menu": {},
   "number_sections": true,
   "sideBar": true,
   "skip_h1_title": false,
   "title_cell": "Table of Contents",
   "title_sidebar": "Contents",
   "toc_cell": false,
   "toc_position": {},
   "toc_section_display": true,
   "toc_window_display": false
  },
  "varInspector": {
   "cols": {
    "lenName": 16,
    "lenType": 16,
    "lenVar": 40
   },
   "kernels_config": {
    "python": {
     "delete_cmd_postfix": "",
     "delete_cmd_prefix": "del ",
     "library": "var_list.py",
     "varRefreshCmd": "print(var_dic_list())"
    },
    "r": {
     "delete_cmd_postfix": ") ",
     "delete_cmd_prefix": "rm(",
     "library": "var_list.r",
     "varRefreshCmd": "cat(var_dic_list()) "
    }
   },
   "types_to_exclude": [
    "module",
    "function",
    "builtin_function_or_method",
    "instance",
    "_Feature"
   ],
   "window_display": false
  }
 },
 "nbformat": 4,
 "nbformat_minor": 4
}
