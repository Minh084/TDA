{
 "cells": [
  {
   "cell_type": "markdown",
   "metadata": {},
   "source": [
    "### Descriptions:\n",
    "\n",
    "Some initial inclusion/(exclusion) criteria\n",
    "- have inpatient ID, Hospital encounters only (remove those with NA)\n",
    "- full code status only (no other code prior to or within 24 hr since admission)\n",
    "- 18 years and older\n",
    "- when processing other features, will exclude a few more, mainly those without a complete set of vitals\n",
    "- add other unprocessed variables from demographics table\n",
    "- NOTE: there is no recent_date from demographics anymore\n",
    "\n",
    "**Inputs**: \n",
    "- `6_1_cohort_validation`: check years of admission 04/2020 - 2021\n",
    "- `encounter` (from SQL) : join with  table to get ESI and inpatient ID information\n",
    "- `code_status` (from SQL): exclude patients who have any order for EXISTING code status that is not full prior to and within 24hrs after inpatient admission (even if code was cancelled later)\n",
    "- `demographic`: exclude patients who are < 18 year old\n",
    "\n",
    "**Outputs**: \n",
    "- `6_2_cohort`"
   ]
  },
  {
   "cell_type": "markdown",
   "metadata": {},
   "source": [
    "### Importing R libraries"
   ]
  },
  {
   "cell_type": "code",
   "execution_count": 1,
   "metadata": {
    "ExecuteTime": {
     "end_time": "2020-05-21T00:38:06.078240Z",
     "start_time": "2020-05-21T00:38:02.778Z"
    }
   },
   "outputs": [
    {
     "name": "stderr",
     "output_type": "stream",
     "text": [
      "── \u001b[1mAttaching packages\u001b[22m ─────────────────────────────────────── tidyverse 1.3.1 ──\n",
      "\n",
      "\u001b[32m✔\u001b[39m \u001b[34mggplot2\u001b[39m 3.3.3     \u001b[32m✔\u001b[39m \u001b[34mpurrr  \u001b[39m 0.3.4\n",
      "\u001b[32m✔\u001b[39m \u001b[34mtibble \u001b[39m 3.1.2     \u001b[32m✔\u001b[39m \u001b[34mdplyr  \u001b[39m 1.0.6\n",
      "\u001b[32m✔\u001b[39m \u001b[34mtidyr  \u001b[39m 1.1.3     \u001b[32m✔\u001b[39m \u001b[34mstringr\u001b[39m 1.4.0\n",
      "\u001b[32m✔\u001b[39m \u001b[34mreadr  \u001b[39m 1.4.0     \u001b[32m✔\u001b[39m \u001b[34mforcats\u001b[39m 0.5.1\n",
      "\n",
      "── \u001b[1mConflicts\u001b[22m ────────────────────────────────────────── tidyverse_conflicts() ──\n",
      "\u001b[31m✖\u001b[39m \u001b[34mdplyr\u001b[39m::\u001b[32mfilter()\u001b[39m masks \u001b[34mstats\u001b[39m::filter()\n",
      "\u001b[31m✖\u001b[39m \u001b[34mdplyr\u001b[39m::\u001b[32mlag()\u001b[39m    masks \u001b[34mstats\u001b[39m::lag()\n",
      "\n",
      "\n",
      "Attaching package: ‘lubridate’\n",
      "\n",
      "\n",
      "The following objects are masked from ‘package:base’:\n",
      "\n",
      "    date, intersect, setdiff, union\n",
      "\n",
      "\n"
     ]
    }
   ],
   "source": [
    "library(bigrquery)  # to query STARR-OMOP (stored in BigQuery) using SQL\n",
    "library(tidyverse)\n",
    "library(lubridate)\n",
    "\n",
    "# library(data.table)\n",
    "# library(Matrix)\n",
    "# library(caret) # import this before glmnet to avoid rlang version problem\n",
    "# library(glmnet)\n",
    "# library(bit64)\n",
    "\n",
    "# library(slam)\n",
    "# library(mtools) for one hot coder, not available on Nero or use caret or tidyr\n",
    "# library(mice)\n",
    "\n",
    "options(repr.matrix.max.rows=250, repr.matrix.max.cols=30)"
   ]
  },
  {
   "cell_type": "markdown",
   "metadata": {},
   "source": [
    "### Set up BigQuery\n",
    "\n",
    "https://bigrquery.r-dbi.org/\n",
    "\n",
    "The bigrquery package makes it easy to work with data stored in Google BigQuery by allowing you to query BigQuery tables and retrieve metadata about your projects, datasets, tables, and jobs. The bigrquery package provides three levels of abstraction on top of BigQuery:\n",
    "\n",
    "- The low-level API provides thin wrappers over the underlying REST API. All the low-level functions start with `bq_`, and mostly have the form bq_noun_verb(). This level of abstraction is most appropriate if you’re familiar with the REST API and you want do something not supported in the higher-level APIs.\n",
    "\n",
    "- The `DBI` interface wraps the low-level API and makes working with BigQuery like working with any other database system. This is most convenient layer if you want to execute SQL queries in BigQuery or upload smaller amounts (i.e. <100 MB) of data.\n",
    "\n",
    "- The `dplyr` interface lets you treat BigQuery tables as if they are in-memory data frames. This is the most convenient layer if you don’t want to write SQL, but instead want dbplyr to write it for you.\n"
   ]
  },
  {
   "cell_type": "code",
   "execution_count": 2,
   "metadata": {},
   "outputs": [
    {
     "data": {
      "text/plain": [
       "NULL"
      ]
     },
     "metadata": {},
     "output_type": "display_data"
    }
   ],
   "source": [
    "# CREDENTIALS depending on LOCATIONS:\n",
    "# credential <- paste0(\"/home/\", \"minh084\", \"/.config/gcloud/application_default_credentials.json\")\n",
    "\n",
    "# local computer\n",
    "# credential <- \"C:/Users/User/AppData/Roaming/gcloud/application_default_credentials.json\"\n",
    "\n",
    "# Nero onprem\n",
    "# credential <- \"/home/minh084/.config/gcloud/application_default_credentials.json\"\n",
    "\n",
    "# Nero gcp notebook\n",
    "credential <- \"/home/jupyter/.config/gcloud/application_default_credentials.json\"\n",
    "\n",
    "project_id <- \"som-nero-phi-jonc101\"\n",
    "\n",
    "Sys.setenv(GOOGLE_APPLICATION_CREDENTIALS = credential)\n",
    "Sys.setenv(GCLOUD_PROJECT = project_id)\n",
    "gargle::credentials_app_default()"
   ]
  },
  {
   "cell_type": "code",
   "execution_count": 3,
   "metadata": {},
   "outputs": [
    {
     "data": {
      "text/plain": [
       "<BigQueryConnection>\n",
       "  Dataset: som-nero-phi-jonc101.shc_core_2021\n",
       "  Billing: som-nero-phi-jonc101"
      ]
     },
     "metadata": {},
     "output_type": "display_data"
    },
    {
     "data": {
      "text/html": [
       "<style>\n",
       ".list-inline {list-style: none; margin:0; padding: 0}\n",
       ".list-inline>li {display: inline-block}\n",
       ".list-inline>li:not(:last-child)::after {content: \"\\00b7\"; padding: 0 .5ex}\n",
       "</style>\n",
       "<ol class=list-inline><li>'adt'</li><li>'alert'</li><li>'alert_history'</li><li>'alerts_orders'</li><li>'allergy'</li><li>'alt_com_action'</li><li>'clinical_doc_meta'</li><li>'culture_sensitivity'</li><li>'demographic'</li><li>'dep_map'</li><li>'diagnosis'</li><li>'drg_code'</li><li>'encounter'</li><li>'f_ip_hsp_admission'</li><li>'family_hx'</li><li>'flowsheet'</li><li>'lab_result'</li><li>'lda'</li><li>'med_orderset'</li><li>'myc_mesg'</li><li>'ndc_code'</li><li>'order_comment'</li><li>'order_med'</li><li>'order_proc'</li><li>'order_quest'</li><li>'pharmacy_mar'</li><li>'proc_note'</li><li>'proc_orderset'</li><li>'procedure'</li><li>'prov_map'</li><li>'social_hx'</li><li>'temp_table'</li><li>'treatment_team'</li><li>'yn_jon_chen_lpch'</li></ol>\n"
      ],
      "text/latex": [
       "\\begin{enumerate*}\n",
       "\\item 'adt'\n",
       "\\item 'alert'\n",
       "\\item 'alert\\_history'\n",
       "\\item 'alerts\\_orders'\n",
       "\\item 'allergy'\n",
       "\\item 'alt\\_com\\_action'\n",
       "\\item 'clinical\\_doc\\_meta'\n",
       "\\item 'culture\\_sensitivity'\n",
       "\\item 'demographic'\n",
       "\\item 'dep\\_map'\n",
       "\\item 'diagnosis'\n",
       "\\item 'drg\\_code'\n",
       "\\item 'encounter'\n",
       "\\item 'f\\_ip\\_hsp\\_admission'\n",
       "\\item 'family\\_hx'\n",
       "\\item 'flowsheet'\n",
       "\\item 'lab\\_result'\n",
       "\\item 'lda'\n",
       "\\item 'med\\_orderset'\n",
       "\\item 'myc\\_mesg'\n",
       "\\item 'ndc\\_code'\n",
       "\\item 'order\\_comment'\n",
       "\\item 'order\\_med'\n",
       "\\item 'order\\_proc'\n",
       "\\item 'order\\_quest'\n",
       "\\item 'pharmacy\\_mar'\n",
       "\\item 'proc\\_note'\n",
       "\\item 'proc\\_orderset'\n",
       "\\item 'procedure'\n",
       "\\item 'prov\\_map'\n",
       "\\item 'social\\_hx'\n",
       "\\item 'temp\\_table'\n",
       "\\item 'treatment\\_team'\n",
       "\\item 'yn\\_jon\\_chen\\_lpch'\n",
       "\\end{enumerate*}\n"
      ],
      "text/markdown": [
       "1. 'adt'\n",
       "2. 'alert'\n",
       "3. 'alert_history'\n",
       "4. 'alerts_orders'\n",
       "5. 'allergy'\n",
       "6. 'alt_com_action'\n",
       "7. 'clinical_doc_meta'\n",
       "8. 'culture_sensitivity'\n",
       "9. 'demographic'\n",
       "10. 'dep_map'\n",
       "11. 'diagnosis'\n",
       "12. 'drg_code'\n",
       "13. 'encounter'\n",
       "14. 'f_ip_hsp_admission'\n",
       "15. 'family_hx'\n",
       "16. 'flowsheet'\n",
       "17. 'lab_result'\n",
       "18. 'lda'\n",
       "19. 'med_orderset'\n",
       "20. 'myc_mesg'\n",
       "21. 'ndc_code'\n",
       "22. 'order_comment'\n",
       "23. 'order_med'\n",
       "24. 'order_proc'\n",
       "25. 'order_quest'\n",
       "26. 'pharmacy_mar'\n",
       "27. 'proc_note'\n",
       "28. 'proc_orderset'\n",
       "29. 'procedure'\n",
       "30. 'prov_map'\n",
       "31. 'social_hx'\n",
       "32. 'temp_table'\n",
       "33. 'treatment_team'\n",
       "34. 'yn_jon_chen_lpch'\n",
       "\n",
       "\n"
      ],
      "text/plain": [
       " [1] \"adt\"                 \"alert\"               \"alert_history\"      \n",
       " [4] \"alerts_orders\"       \"allergy\"             \"alt_com_action\"     \n",
       " [7] \"clinical_doc_meta\"   \"culture_sensitivity\" \"demographic\"        \n",
       "[10] \"dep_map\"             \"diagnosis\"           \"drg_code\"           \n",
       "[13] \"encounter\"           \"f_ip_hsp_admission\"  \"family_hx\"          \n",
       "[16] \"flowsheet\"           \"lab_result\"          \"lda\"                \n",
       "[19] \"med_orderset\"        \"myc_mesg\"            \"ndc_code\"           \n",
       "[22] \"order_comment\"       \"order_med\"           \"order_proc\"         \n",
       "[25] \"order_quest\"         \"pharmacy_mar\"        \"proc_note\"          \n",
       "[28] \"proc_orderset\"       \"procedure\"           \"prov_map\"           \n",
       "[31] \"social_hx\"           \"temp_table\"          \"treatment_team\"     \n",
       "[34] \"yn_jon_chen_lpch\"   "
      ]
     },
     "metadata": {},
     "output_type": "display_data"
    }
   ],
   "source": [
    "library(DBI)\n",
    "con <- dbConnect(\n",
    "  bigrquery::bigquery(),\n",
    "  project = project_id,\n",
    "  dataset = \"shc_core_2021\" #, billing = project_id\n",
    ")\n",
    "con \n",
    "dbListTables(con)"
   ]
  },
  {
   "cell_type": "markdown",
   "metadata": {},
   "source": [
    "### shc_core_2021\n",
    "* Use init cohort, with admit_time (this is the effective time < event time for admission) from adt table\n",
    "* No longer checking for admission order from order_proc because these orders don't have the level of care\n",
    "* Get inpatient id and acuity_level = ESI from encounter table\n",
    "* Keep patients with FULL CODE status and >=18 year old\n",
    "* Keep aptients with admit years from 2020 - 2021"
   ]
  },
  {
   "cell_type": "code",
   "execution_count": 4,
   "metadata": {},
   "outputs": [
    {
     "data": {
      "text/html": [
       "55170"
      ],
      "text/latex": [
       "55170"
      ],
      "text/markdown": [
       "55170"
      ],
      "text/plain": [
       "[1] 55170"
      ]
     },
     "metadata": {},
     "output_type": "display_data"
    },
    {
     "data": {
      "text/html": [
       "<style>\n",
       ".list-inline {list-style: none; margin:0; padding: 0}\n",
       ".list-inline>li {display: inline-block}\n",
       ".list-inline>li:not(:last-child)::after {content: \"\\00b7\"; padding: 0 .5ex}\n",
       "</style>\n",
       "<ol class=list-inline><li>'anon_id'</li><li>'pat_enc_csn_id_coded'</li><li>'admit_time_jittered'</li><li>'label'</li></ol>\n"
      ],
      "text/latex": [
       "\\begin{enumerate*}\n",
       "\\item 'anon\\_id'\n",
       "\\item 'pat\\_enc\\_csn\\_id\\_coded'\n",
       "\\item 'admit\\_time\\_jittered'\n",
       "\\item 'label'\n",
       "\\end{enumerate*}\n"
      ],
      "text/markdown": [
       "1. 'anon_id'\n",
       "2. 'pat_enc_csn_id_coded'\n",
       "3. 'admit_time_jittered'\n",
       "4. 'label'\n",
       "\n",
       "\n"
      ],
      "text/plain": [
       "[1] \"anon_id\"              \"pat_enc_csn_id_coded\" \"admit_time_jittered\" \n",
       "[4] \"label\"               "
      ]
     },
     "metadata": {},
     "output_type": "display_data"
    },
    {
     "data": {
      "text/plain": [
       "\n",
       "   1    2    3 \n",
       "1119 1049  908 "
      ]
     },
     "metadata": {},
     "output_type": "display_data"
    }
   ],
   "source": [
    "# original cohort only have up to March 2020\n",
    "cohortdir = \"../../OutputTD/1_cohort\"\n",
    "\n",
    "cohort0 <- read.csv(file.path(cohortdir, \"1_1_cohort.csv\"))\n",
    "nrow(cohort0) \n",
    "colnames(cohort0)\n",
    "\n",
    "cohort0 <- cohort0 %>% mutate(admit_time = ymd_hms(admit_time_jittered), \n",
    "                              adm_year = year(admit_time),\n",
    "                              adm_month = month(admit_time)) %>%\n",
    "                        filter(adm_year == 2020)\n",
    "table(cohort0$adm_month)"
   ]
  },
  {
   "cell_type": "code",
   "execution_count": 6,
   "metadata": {},
   "outputs": [
    {
     "data": {
      "text/html": [
       "23357"
      ],
      "text/latex": [
       "23357"
      ],
      "text/markdown": [
       "23357"
      ],
      "text/plain": [
       "[1] 23357"
      ]
     },
     "metadata": {},
     "output_type": "display_data"
    },
    {
     "data": {
      "text/html": [
       "<style>\n",
       ".list-inline {list-style: none; margin:0; padding: 0}\n",
       ".list-inline>li {display: inline-block}\n",
       ".list-inline>li:not(:last-child)::after {content: \"\\00b7\"; padding: 0 .5ex}\n",
       "</style>\n",
       "<ol class=list-inline><li>'anon_id'</li><li>'pat_enc_csn_id_coded'</li><li>'admit_time_jittered'</li><li>'label'</li></ol>\n"
      ],
      "text/latex": [
       "\\begin{enumerate*}\n",
       "\\item 'anon\\_id'\n",
       "\\item 'pat\\_enc\\_csn\\_id\\_coded'\n",
       "\\item 'admit\\_time\\_jittered'\n",
       "\\item 'label'\n",
       "\\end{enumerate*}\n"
      ],
      "text/markdown": [
       "1. 'anon_id'\n",
       "2. 'pat_enc_csn_id_coded'\n",
       "3. 'admit_time_jittered'\n",
       "4. 'label'\n",
       "\n",
       "\n"
      ],
      "text/plain": [
       "[1] \"anon_id\"              \"pat_enc_csn_id_coded\" \"admit_time_jittered\" \n",
       "[4] \"label\"               "
      ]
     },
     "metadata": {},
     "output_type": "display_data"
    }
   ],
   "source": [
    "valdir = \"../../OutputTD/6_validation\"\n",
    "\n",
    "cohort1 <- read.csv(file.path(valdir, \"6_1_cohort_validation.csv\"))\n",
    "nrow(cohort1) \n",
    "colnames(cohort1)"
   ]
  },
  {
   "cell_type": "code",
   "execution_count": 7,
   "metadata": {},
   "outputs": [
    {
     "data": {
      "text/html": [
       "<style>\n",
       ".list-inline {list-style: none; margin:0; padding: 0}\n",
       ".list-inline>li {display: inline-block}\n",
       ".list-inline>li:not(:last-child)::after {content: \"\\00b7\"; padding: 0 .5ex}\n",
       "</style>\n",
       "<ol class=list-inline><li>2020</li><li>2021</li><li>2019</li><li>2018</li></ol>\n"
      ],
      "text/latex": [
       "\\begin{enumerate*}\n",
       "\\item 2020\n",
       "\\item 2021\n",
       "\\item 2019\n",
       "\\item 2018\n",
       "\\end{enumerate*}\n"
      ],
      "text/markdown": [
       "1. 2020\n",
       "2. 2021\n",
       "3. 2019\n",
       "4. 2018\n",
       "\n",
       "\n"
      ],
      "text/plain": [
       "[1] 2020 2021 2019 2018"
      ]
     },
     "metadata": {},
     "output_type": "display_data"
    },
    {
     "data": {
      "text/plain": [
       "\n",
       " 2018  2019  2020  2021 \n",
       "    1     2 12436 10918 "
      ]
     },
     "metadata": {},
     "output_type": "display_data"
    }
   ],
   "source": [
    "# Check admit years\n",
    "cohort1 <- cohort1 %>% mutate(admit_time = ymd_hms(admit_time_jittered), \n",
    "                              adm_year = year(admit_time),\n",
    "                              adm_month = month(admit_time))\n",
    "unique(cohort1$adm_year)\n",
    "table(cohort1$adm_year)\n",
    "# nrow(cohort1 %>% filter(adm_year==2021))"
   ]
  },
  {
   "cell_type": "code",
   "execution_count": 8,
   "metadata": {},
   "outputs": [
    {
     "data": {
      "text/html": [
       "20342"
      ],
      "text/latex": [
       "20342"
      ],
      "text/markdown": [
       "20342"
      ],
      "text/plain": [
       "[1] 20342"
      ]
     },
     "metadata": {},
     "output_type": "display_data"
    },
    {
     "data": {
      "text/plain": [
       "\n",
       " 2020  2021 \n",
       " 9424 10918 "
      ]
     },
     "metadata": {},
     "output_type": "display_data"
    },
    {
     "data": {
      "text/html": [
       "9424"
      ],
      "text/latex": [
       "9424"
      ],
      "text/markdown": [
       "9424"
      ],
      "text/plain": [
       "[1] 9424"
      ]
     },
     "metadata": {},
     "output_type": "display_data"
    }
   ],
   "source": [
    "# only keep April 2020 - 2021\n",
    "cohort1 <- cohort1 %>% filter(adm_year == 2020 & adm_month > 3 | adm_year == 2021)\n",
    "nrow(cohort1)\n",
    "table(cohort1$adm_year)\n",
    "\n",
    "nrow(cohort1 %>% filter(adm_year == 2020  & adm_month > 3))\n",
    "# cohort1 %>% filter(adm_year == 2020) %>% distinct(adm_month)"
   ]
  },
  {
   "cell_type": "code",
   "execution_count": 9,
   "metadata": {},
   "outputs": [
    {
     "data": {
      "text/html": [
       "14978"
      ],
      "text/latex": [
       "14978"
      ],
      "text/markdown": [
       "14978"
      ],
      "text/plain": [
       "[1] 14978"
      ]
     },
     "metadata": {},
     "output_type": "display_data"
    },
    {
     "data": {
      "text/html": [
       "20342"
      ],
      "text/latex": [
       "20342"
      ],
      "text/markdown": [
       "20342"
      ],
      "text/plain": [
       "[1] 20342"
      ]
     },
     "metadata": {},
     "output_type": "display_data"
    },
    {
     "data": {
      "text/html": [
       "20342"
      ],
      "text/latex": [
       "20342"
      ],
      "text/markdown": [
       "20342"
      ],
      "text/plain": [
       "[1] 20342"
      ]
     },
     "metadata": {},
     "output_type": "display_data"
    }
   ],
   "source": [
    "# 1 MRN (patient) can have multiple CSN (visits/encounters)\n",
    "# but 1 CSN is associated with 1 MRN, for this cohort\n",
    "\n",
    "nrow(cohort1 %>% distinct(anon_id)) # \n",
    "nrow(cohort1 %>% distinct(pat_enc_csn_id_coded))\n",
    "nrow(cohort1 %>% distinct(anon_id, pat_enc_csn_id_coded))\n",
    "# nrow(cohort1 %>% group_by(anon_id, pat_enc_csn_id_coded, inpatient_data_id_coded) %>% unique()) # unique rows"
   ]
  },
  {
   "cell_type": "code",
   "execution_count": 10,
   "metadata": {},
   "outputs": [
    {
     "data": {
      "text/html": [
       "14978"
      ],
      "text/latex": [
       "14978"
      ],
      "text/markdown": [
       "14978"
      ],
      "text/plain": [
       "[1] 14978"
      ]
     },
     "metadata": {},
     "output_type": "display_data"
    },
    {
     "data": {
      "text/plain": [
       "   Min. 1st Qu.  Median    Mean 3rd Qu.    Max. \n",
       "  1.000   1.000   1.000   1.358   1.000  15.000 "
      ]
     },
     "metadata": {},
     "output_type": "display_data"
    },
    {
     "data": {
      "image/png": "[encoded data removed]",
      "text/plain": [
       "Plot with title “Histogram of cohort1_count[cohort1_count$csn > 1, ]$csn”"
      ]
     },
     "metadata": {
      "image/png": {
       "height": 420,
       "width": 420
      }
     },
     "output_type": "display_data"
    }
   ],
   "source": [
    "# count how many visits/csn each MRN (anon_id) has\n",
    "cohort1_count <- cohort1 %>% count(anon_id, sort = TRUE, name = 'csn')\n",
    "nrow(cohort1_count)\n",
    "summary(cohort1_count$csn)\n",
    "\n",
    "# display histogram of freq of patients who have more than 1 visit\n",
    "hist(cohort1_count[cohort1_count$csn >1, ]$csn, breaks=38, col=\"powderblue\")"
   ]
  },
  {
   "cell_type": "code",
   "execution_count": 11,
   "metadata": {},
   "outputs": [
    {
     "data": {
      "text/html": [
       "<table class=\"dataframe\">\n",
       "<caption>A data.frame: 6 × 2</caption>\n",
       "<thead>\n",
       "\t<tr><th></th><th scope=col>anon_id</th><th scope=col>csn</th></tr>\n",
       "\t<tr><th></th><th scope=col>&lt;chr&gt;</th><th scope=col>&lt;int&gt;</th></tr>\n",
       "</thead>\n",
       "<tbody>\n",
       "\t<tr><th scope=row>1</th><td>JC1571693</td><td>15</td></tr>\n",
       "\t<tr><th scope=row>2</th><td>JC1620363</td><td>14</td></tr>\n",
       "\t<tr><th scope=row>3</th><td>JC2172285</td><td>14</td></tr>\n",
       "\t<tr><th scope=row>4</th><td>JC1777634</td><td>13</td></tr>\n",
       "\t<tr><th scope=row>5</th><td>JC2782774</td><td>12</td></tr>\n",
       "\t<tr><th scope=row>6</th><td>JC518294 </td><td>12</td></tr>\n",
       "</tbody>\n",
       "</table>\n"
      ],
      "text/latex": [
       "A data.frame: 6 × 2\n",
       "\\begin{tabular}{r|ll}\n",
       "  & anon\\_id & csn\\\\\n",
       "  & <chr> & <int>\\\\\n",
       "\\hline\n",
       "\t1 & JC1571693 & 15\\\\\n",
       "\t2 & JC1620363 & 14\\\\\n",
       "\t3 & JC2172285 & 14\\\\\n",
       "\t4 & JC1777634 & 13\\\\\n",
       "\t5 & JC2782774 & 12\\\\\n",
       "\t6 & JC518294  & 12\\\\\n",
       "\\end{tabular}\n"
      ],
      "text/markdown": [
       "\n",
       "A data.frame: 6 × 2\n",
       "\n",
       "| <!--/--> | anon_id &lt;chr&gt; | csn &lt;int&gt; |\n",
       "|---|---|---|\n",
       "| 1 | JC1571693 | 15 |\n",
       "| 2 | JC1620363 | 14 |\n",
       "| 3 | JC2172285 | 14 |\n",
       "| 4 | JC1777634 | 13 |\n",
       "| 5 | JC2782774 | 12 |\n",
       "| 6 | JC518294  | 12 |\n",
       "\n"
      ],
      "text/plain": [
       "  anon_id   csn\n",
       "1 JC1571693 15 \n",
       "2 JC1620363 14 \n",
       "3 JC2172285 14 \n",
       "4 JC1777634 13 \n",
       "5 JC2782774 12 \n",
       "6 JC518294  12 "
      ]
     },
     "metadata": {},
     "output_type": "display_data"
    }
   ],
   "source": [
    "head(cohort1_count)"
   ]
  },
  {
   "cell_type": "markdown",
   "metadata": {},
   "source": [
    "### Encounter, hospital, inpatient IDs\n",
    "\n",
    "Errors on pat_csn (all NA if SQL is run here in R)\n",
    "\n",
    "Run `data_BQ/m1_encounter.sql`, output is `encounters.csv`\n",
    "\n",
    "* This table gives us the inpatient id and ESI level\n",
    "* Either Hospital encounter or empty (NA) type: only keep Hospital Encounter\n",
    "* All Visit type are NA, as this might be more applicable to outpatient encounters\n",
    "* Acuity levels are ESI with some missing (~2200)\n",
    "\n",
    "==> we can remove enc_type and visit_type\n",
    "* Hospital Admission time (such as ED arrival) is probably before the admit time (to inpatient) from order proc\n",
    "* Admit time from init cohort is effective_time_jittered_utc, same as Hospital admission time, all times are UTC"
   ]
  },
  {
   "cell_type": "raw",
   "metadata": {},
   "source": [
    "# this is done in 6_data_BQ.sql\n",
    "\n",
    "# m1_encounter.sql # problems running this in R: the pat_enc_csn turn to NA\n",
    "# Warning message in as.integer.integer64(x): “NAs produced by integer overflow” --> all csn become NA\n",
    "# query the encounter table from shc_core on BQ, takes too long on local computers\n",
    "\n",
    "q = \"\n",
    "SELECT c.*,\n",
    "    e.inpatient_data_id_coded, \n",
    "    e.enc_type, e.visit_type, e.acuity_level, e.ACUITY_LEVEL_C,\n",
    "    e.hosp_admsn_time_jittered_utc\n",
    "FROM \n",
    "    `som-nero-phi-jonc101.shc_core_2021.encounter` as e\n",
    "RIGHT JOIN \n",
    "    `som-nero-phi-jonc101.triageTD.6_1_cohort_validation` as c\n",
    "ON (c.anon_id=e.anon_id and c.pat_enc_csn_id_coded=e.pat_enc_csn_id_coded)\n",
    "ORDER BY\n",
    "  c.anon_id\n",
    "\"\n",
    "\n",
    "# submit the query:\n",
    "update.packages('Rcpp')\n",
    "\n",
    "df <- dbGetQuery(con, q)\n",
    "dim(df) # \n",
    "colnames(df)\n",
    "head(df, 3)"
   ]
  },
  {
   "cell_type": "raw",
   "metadata": {},
   "source": [
    "write.csv(df, file.path(datadir, \"encounters_2021_test.csv\"), row.names=FALSE)"
   ]
  },
  {
   "cell_type": "code",
   "execution_count": 13,
   "metadata": {},
   "outputs": [
    {
     "data": {
      "text/html": [
       "23357"
      ],
      "text/latex": [
       "23357"
      ],
      "text/markdown": [
       "23357"
      ],
      "text/plain": [
       "[1] 23357"
      ]
     },
     "metadata": {},
     "output_type": "display_data"
    }
   ],
   "source": [
    "datadir = \"../../DataTD\"\n",
    "enc <- read.csv(file.path(datadir, \"encounters_2021.csv\"))\n",
    "nrow(enc)"
   ]
  },
  {
   "cell_type": "code",
   "execution_count": 14,
   "metadata": {},
   "outputs": [
    {
     "data": {
      "text/html": [
       "<table class=\"dataframe\">\n",
       "<caption>A data.frame: 0 × 10</caption>\n",
       "<thead>\n",
       "\t<tr><th scope=col>anon_id</th><th scope=col>pat_enc_csn_id_coded</th><th scope=col>admit_time_jittered</th><th scope=col>label</th><th scope=col>inpatient_data_id_coded</th><th scope=col>enc_type</th><th scope=col>visit_type</th><th scope=col>acuity_level</th><th scope=col>ACUITY_LEVEL_C</th><th scope=col>hosp_admsn_time_jittered_utc</th></tr>\n",
       "\t<tr><th scope=col>&lt;chr&gt;</th><th scope=col>&lt;dbl&gt;</th><th scope=col>&lt;chr&gt;</th><th scope=col>&lt;int&gt;</th><th scope=col>&lt;dbl&gt;</th><th scope=col>&lt;chr&gt;</th><th scope=col>&lt;lgl&gt;</th><th scope=col>&lt;chr&gt;</th><th scope=col>&lt;dbl&gt;</th><th scope=col>&lt;chr&gt;</th></tr>\n",
       "</thead>\n",
       "<tbody>\n",
       "</tbody>\n",
       "</table>\n"
      ],
      "text/latex": [
       "A data.frame: 0 × 10\n",
       "\\begin{tabular}{llllllllll}\n",
       " anon\\_id & pat\\_enc\\_csn\\_id\\_coded & admit\\_time\\_jittered & label & inpatient\\_data\\_id\\_coded & enc\\_type & visit\\_type & acuity\\_level & ACUITY\\_LEVEL\\_C & hosp\\_admsn\\_time\\_jittered\\_utc\\\\\n",
       " <chr> & <dbl> & <chr> & <int> & <dbl> & <chr> & <lgl> & <chr> & <dbl> & <chr>\\\\\n",
       "\\hline\n",
       "\\end{tabular}\n"
      ],
      "text/markdown": [
       "\n",
       "A data.frame: 0 × 10\n",
       "\n",
       "| anon_id &lt;chr&gt; | pat_enc_csn_id_coded &lt;dbl&gt; | admit_time_jittered &lt;chr&gt; | label &lt;int&gt; | inpatient_data_id_coded &lt;dbl&gt; | enc_type &lt;chr&gt; | visit_type &lt;lgl&gt; | acuity_level &lt;chr&gt; | ACUITY_LEVEL_C &lt;dbl&gt; | hosp_admsn_time_jittered_utc &lt;chr&gt; |\n",
       "|---|---|---|---|---|---|---|---|---|---|\n",
       "\n"
      ],
      "text/plain": [
       "     anon_id pat_enc_csn_id_coded admit_time_jittered label\n",
       "     inpatient_data_id_coded enc_type visit_type acuity_level ACUITY_LEVEL_C\n",
       "     hosp_admsn_time_jittered_utc"
      ]
     },
     "metadata": {},
     "output_type": "display_data"
    }
   ],
   "source": [
    "enc %>% filter(is.na(inpatient_data_id_coded))"
   ]
  },
  {
   "cell_type": "code",
   "execution_count": 15,
   "metadata": {},
   "outputs": [
    {
     "data": {
      "text/html": [
       "<table class=\"dataframe\">\n",
       "<caption>A data.frame: 10 × 2</caption>\n",
       "<thead>\n",
       "\t<tr><th scope=col>var</th><th scope=col>n</th></tr>\n",
       "\t<tr><th scope=col>&lt;chr&gt;</th><th scope=col>&lt;int&gt;</th></tr>\n",
       "</thead>\n",
       "<tbody>\n",
       "\t<tr><td>enc_type                    </td><td>    1</td></tr>\n",
       "\t<tr><td>visit_type                  </td><td>    1</td></tr>\n",
       "\t<tr><td>label                       </td><td>    2</td></tr>\n",
       "\t<tr><td>acuity_level                </td><td>    6</td></tr>\n",
       "\t<tr><td>ACUITY_LEVEL_C              </td><td>    6</td></tr>\n",
       "\t<tr><td>anon_id                     </td><td>16908</td></tr>\n",
       "\t<tr><td>admit_time_jittered         </td><td>22953</td></tr>\n",
       "\t<tr><td>hosp_admsn_time_jittered_utc</td><td>22973</td></tr>\n",
       "\t<tr><td>inpatient_data_id_coded     </td><td>23357</td></tr>\n",
       "\t<tr><td>pat_enc_csn_id_coded        </td><td>23357</td></tr>\n",
       "</tbody>\n",
       "</table>\n"
      ],
      "text/latex": [
       "A data.frame: 10 × 2\n",
       "\\begin{tabular}{ll}\n",
       " var & n\\\\\n",
       " <chr> & <int>\\\\\n",
       "\\hline\n",
       "\t enc\\_type                     &     1\\\\\n",
       "\t visit\\_type                   &     1\\\\\n",
       "\t label                        &     2\\\\\n",
       "\t acuity\\_level                 &     6\\\\\n",
       "\t ACUITY\\_LEVEL\\_C               &     6\\\\\n",
       "\t anon\\_id                      & 16908\\\\\n",
       "\t admit\\_time\\_jittered          & 22953\\\\\n",
       "\t hosp\\_admsn\\_time\\_jittered\\_utc & 22973\\\\\n",
       "\t inpatient\\_data\\_id\\_coded      & 23357\\\\\n",
       "\t pat\\_enc\\_csn\\_id\\_coded         & 23357\\\\\n",
       "\\end{tabular}\n"
      ],
      "text/markdown": [
       "\n",
       "A data.frame: 10 × 2\n",
       "\n",
       "| var &lt;chr&gt; | n &lt;int&gt; |\n",
       "|---|---|\n",
       "| enc_type                     |     1 |\n",
       "| visit_type                   |     1 |\n",
       "| label                        |     2 |\n",
       "| acuity_level                 |     6 |\n",
       "| ACUITY_LEVEL_C               |     6 |\n",
       "| anon_id                      | 16908 |\n",
       "| admit_time_jittered          | 22953 |\n",
       "| hosp_admsn_time_jittered_utc | 22973 |\n",
       "| inpatient_data_id_coded      | 23357 |\n",
       "| pat_enc_csn_id_coded         | 23357 |\n",
       "\n"
      ],
      "text/plain": [
       "   var                          n    \n",
       "1  enc_type                         1\n",
       "2  visit_type                       1\n",
       "3  label                            2\n",
       "4  acuity_level                     6\n",
       "5  ACUITY_LEVEL_C                   6\n",
       "6  anon_id                      16908\n",
       "7  admit_time_jittered          22953\n",
       "8  hosp_admsn_time_jittered_utc 22973\n",
       "9  inpatient_data_id_coded      23357\n",
       "10 pat_enc_csn_id_coded         23357"
      ]
     },
     "metadata": {},
     "output_type": "display_data"
    }
   ],
   "source": [
    "enc %>% gather(var, value) %>% distinct() %>% count(var) %>% arrange(n)"
   ]
  },
  {
   "cell_type": "code",
   "execution_count": 16,
   "metadata": {},
   "outputs": [
    {
     "data": {
      "text/plain": [
       " acuity_level         enc_type         visit_type    \n",
       " Length:23357       Length:23357       Mode:logical  \n",
       " Class :character   Class :character   NA's:23357    \n",
       " Mode  :character   Mode  :character                 "
      ]
     },
     "metadata": {},
     "output_type": "display_data"
    },
    {
     "data": {
      "text/plain": [
       "   Min. 1st Qu.  Median    Mean 3rd Qu.    Max.    NA's \n",
       "   1.00    2.00    3.00    2.54    3.00    5.00     159 "
      ]
     },
     "metadata": {},
     "output_type": "display_data"
    },
    {
     "data": {
      "text/plain": [
       "$acuity_level\n",
       "\n",
       "                1-Resuscitation      2-Emergent        3-Urgent   4-Semi-Urgent \n",
       "            159             725            9461           12793             208 \n",
       "   5-Non-Urgent \n",
       "             11 \n",
       "\n",
       "$enc_type\n",
       "\n",
       "Hospital Encounter \n",
       "             23357 \n",
       "\n",
       "$visit_type\n",
       "< table of extent 0 >\n"
      ]
     },
     "metadata": {},
     "output_type": "display_data"
    }
   ],
   "source": [
    "summary(enc %>% select(acuity_level, enc_type, visit_type))\n",
    "summary(enc$ACUITY_LEVEL_C)\n",
    "\n",
    "# if summary doesn't display (not factor), use table\n",
    "apply(enc[c(\"acuity_level\", \"enc_type\", \"visit_type\")], 2, table)"
   ]
  },
  {
   "cell_type": "code",
   "execution_count": 17,
   "metadata": {},
   "outputs": [
    {
     "data": {
      "text/html": [
       "<table class=\"dataframe\">\n",
       "<caption>A grouped_df: 1 × 2</caption>\n",
       "<thead>\n",
       "\t<tr><th scope=col>enc_type</th><th scope=col>n</th></tr>\n",
       "\t<tr><th scope=col>&lt;chr&gt;</th><th scope=col>&lt;int&gt;</th></tr>\n",
       "</thead>\n",
       "<tbody>\n",
       "\t<tr><td>Hospital Encounter</td><td>23357</td></tr>\n",
       "</tbody>\n",
       "</table>\n"
      ],
      "text/latex": [
       "A grouped\\_df: 1 × 2\n",
       "\\begin{tabular}{ll}\n",
       " enc\\_type & n\\\\\n",
       " <chr> & <int>\\\\\n",
       "\\hline\n",
       "\t Hospital Encounter & 23357\\\\\n",
       "\\end{tabular}\n"
      ],
      "text/markdown": [
       "\n",
       "A grouped_df: 1 × 2\n",
       "\n",
       "| enc_type &lt;chr&gt; | n &lt;int&gt; |\n",
       "|---|---|\n",
       "| Hospital Encounter | 23357 |\n",
       "\n"
      ],
      "text/plain": [
       "  enc_type           n    \n",
       "1 Hospital Encounter 23357"
      ]
     },
     "metadata": {},
     "output_type": "display_data"
    },
    {
     "data": {
      "text/html": [
       "<table class=\"dataframe\">\n",
       "<caption>A grouped_df: 6 × 2</caption>\n",
       "<thead>\n",
       "\t<tr><th scope=col>acuity_level</th><th scope=col>n</th></tr>\n",
       "\t<tr><th scope=col>&lt;chr&gt;</th><th scope=col>&lt;int&gt;</th></tr>\n",
       "</thead>\n",
       "<tbody>\n",
       "\t<tr><td>               </td><td>  159</td></tr>\n",
       "\t<tr><td>1-Resuscitation</td><td>  725</td></tr>\n",
       "\t<tr><td>2-Emergent     </td><td> 9461</td></tr>\n",
       "\t<tr><td>3-Urgent       </td><td>12793</td></tr>\n",
       "\t<tr><td>4-Semi-Urgent  </td><td>  208</td></tr>\n",
       "\t<tr><td>5-Non-Urgent   </td><td>   11</td></tr>\n",
       "</tbody>\n",
       "</table>\n"
      ],
      "text/latex": [
       "A grouped\\_df: 6 × 2\n",
       "\\begin{tabular}{ll}\n",
       " acuity\\_level & n\\\\\n",
       " <chr> & <int>\\\\\n",
       "\\hline\n",
       "\t                 &   159\\\\\n",
       "\t 1-Resuscitation &   725\\\\\n",
       "\t 2-Emergent      &  9461\\\\\n",
       "\t 3-Urgent        & 12793\\\\\n",
       "\t 4-Semi-Urgent   &   208\\\\\n",
       "\t 5-Non-Urgent    &    11\\\\\n",
       "\\end{tabular}\n"
      ],
      "text/markdown": [
       "\n",
       "A grouped_df: 6 × 2\n",
       "\n",
       "| acuity_level &lt;chr&gt; | n &lt;int&gt; |\n",
       "|---|---|\n",
       "| <!----> |   159 |\n",
       "| 1-Resuscitation |   725 |\n",
       "| 2-Emergent      |  9461 |\n",
       "| 3-Urgent        | 12793 |\n",
       "| 4-Semi-Urgent   |   208 |\n",
       "| 5-Non-Urgent    |    11 |\n",
       "\n"
      ],
      "text/plain": [
       "  acuity_level    n    \n",
       "1                   159\n",
       "2 1-Resuscitation   725\n",
       "3 2-Emergent       9461\n",
       "4 3-Urgent        12793\n",
       "5 4-Semi-Urgent     208\n",
       "6 5-Non-Urgent       11"
      ]
     },
     "metadata": {},
     "output_type": "display_data"
    },
    {
     "data": {
      "text/html": [
       "<table class=\"dataframe\">\n",
       "<caption>A grouped_df: 6 × 3</caption>\n",
       "<thead>\n",
       "\t<tr><th scope=col>ACUITY_LEVEL_C</th><th scope=col>acuity_level</th><th scope=col>n</th></tr>\n",
       "\t<tr><th scope=col>&lt;dbl&gt;</th><th scope=col>&lt;chr&gt;</th><th scope=col>&lt;int&gt;</th></tr>\n",
       "</thead>\n",
       "<tbody>\n",
       "\t<tr><td> 1</td><td>1-Resuscitation</td><td>  725</td></tr>\n",
       "\t<tr><td> 2</td><td>2-Emergent     </td><td> 9461</td></tr>\n",
       "\t<tr><td> 3</td><td>3-Urgent       </td><td>12793</td></tr>\n",
       "\t<tr><td> 4</td><td>4-Semi-Urgent  </td><td>  208</td></tr>\n",
       "\t<tr><td> 5</td><td>5-Non-Urgent   </td><td>   11</td></tr>\n",
       "\t<tr><td>NA</td><td>               </td><td>  159</td></tr>\n",
       "</tbody>\n",
       "</table>\n"
      ],
      "text/latex": [
       "A grouped\\_df: 6 × 3\n",
       "\\begin{tabular}{lll}\n",
       " ACUITY\\_LEVEL\\_C & acuity\\_level & n\\\\\n",
       " <dbl> & <chr> & <int>\\\\\n",
       "\\hline\n",
       "\t  1 & 1-Resuscitation &   725\\\\\n",
       "\t  2 & 2-Emergent      &  9461\\\\\n",
       "\t  3 & 3-Urgent        & 12793\\\\\n",
       "\t  4 & 4-Semi-Urgent   &   208\\\\\n",
       "\t  5 & 5-Non-Urgent    &    11\\\\\n",
       "\t NA &                 &   159\\\\\n",
       "\\end{tabular}\n"
      ],
      "text/markdown": [
       "\n",
       "A grouped_df: 6 × 3\n",
       "\n",
       "| ACUITY_LEVEL_C &lt;dbl&gt; | acuity_level &lt;chr&gt; | n &lt;int&gt; |\n",
       "|---|---|---|\n",
       "|  1 | 1-Resuscitation |   725 |\n",
       "|  2 | 2-Emergent      |  9461 |\n",
       "|  3 | 3-Urgent        | 12793 |\n",
       "|  4 | 4-Semi-Urgent   |   208 |\n",
       "|  5 | 5-Non-Urgent    |    11 |\n",
       "| NA | <!----> |   159 |\n",
       "\n"
      ],
      "text/plain": [
       "  ACUITY_LEVEL_C acuity_level    n    \n",
       "1  1             1-Resuscitation   725\n",
       "2  2             2-Emergent       9461\n",
       "3  3             3-Urgent        12793\n",
       "4  4             4-Semi-Urgent     208\n",
       "5  5             5-Non-Urgent       11\n",
       "6 NA                               159"
      ]
     },
     "metadata": {},
     "output_type": "display_data"
    }
   ],
   "source": [
    "# tables\n",
    "enc %>% group_by(enc_type) %>% count()\n",
    "enc %>% group_by(acuity_level) %>% count()\n",
    "enc %>% group_by(ACUITY_LEVEL_C, acuity_level) %>% count()"
   ]
  },
  {
   "cell_type": "code",
   "execution_count": 18,
   "metadata": {},
   "outputs": [
    {
     "data": {
      "text/html": [
       "<table class=\"dataframe\">\n",
       "<caption>A data.frame: 1 × 10</caption>\n",
       "<thead>\n",
       "\t<tr><th></th><th scope=col>anon_id</th><th scope=col>pat_enc_csn_id_coded</th><th scope=col>admit_time_jittered</th><th scope=col>label</th><th scope=col>inpatient_data_id_coded</th><th scope=col>enc_type</th><th scope=col>visit_type</th><th scope=col>acuity_level</th><th scope=col>ACUITY_LEVEL_C</th><th scope=col>hosp_admsn_time_jittered_utc</th></tr>\n",
       "\t<tr><th></th><th scope=col>&lt;chr&gt;</th><th scope=col>&lt;dbl&gt;</th><th scope=col>&lt;chr&gt;</th><th scope=col>&lt;int&gt;</th><th scope=col>&lt;dbl&gt;</th><th scope=col>&lt;chr&gt;</th><th scope=col>&lt;lgl&gt;</th><th scope=col>&lt;chr&gt;</th><th scope=col>&lt;dbl&gt;</th><th scope=col>&lt;chr&gt;</th></tr>\n",
       "</thead>\n",
       "<tbody>\n",
       "\t<tr><th scope=row>1</th><td>JC1000116</td><td>131295313275</td><td>2020-09-29 22:45:00+00:00</td><td>0</td><td>57868578</td><td>Hospital Encounter</td><td>NA</td><td>3-Urgent</td><td>3</td><td>2020-09-29 16:02:00+00:00</td></tr>\n",
       "</tbody>\n",
       "</table>\n"
      ],
      "text/latex": [
       "A data.frame: 1 × 10\n",
       "\\begin{tabular}{r|llllllllll}\n",
       "  & anon\\_id & pat\\_enc\\_csn\\_id\\_coded & admit\\_time\\_jittered & label & inpatient\\_data\\_id\\_coded & enc\\_type & visit\\_type & acuity\\_level & ACUITY\\_LEVEL\\_C & hosp\\_admsn\\_time\\_jittered\\_utc\\\\\n",
       "  & <chr> & <dbl> & <chr> & <int> & <dbl> & <chr> & <lgl> & <chr> & <dbl> & <chr>\\\\\n",
       "\\hline\n",
       "\t1 & JC1000116 & 131295313275 & 2020-09-29 22:45:00+00:00 & 0 & 57868578 & Hospital Encounter & NA & 3-Urgent & 3 & 2020-09-29 16:02:00+00:00\\\\\n",
       "\\end{tabular}\n"
      ],
      "text/markdown": [
       "\n",
       "A data.frame: 1 × 10\n",
       "\n",
       "| <!--/--> | anon_id &lt;chr&gt; | pat_enc_csn_id_coded &lt;dbl&gt; | admit_time_jittered &lt;chr&gt; | label &lt;int&gt; | inpatient_data_id_coded &lt;dbl&gt; | enc_type &lt;chr&gt; | visit_type &lt;lgl&gt; | acuity_level &lt;chr&gt; | ACUITY_LEVEL_C &lt;dbl&gt; | hosp_admsn_time_jittered_utc &lt;chr&gt; |\n",
       "|---|---|---|---|---|---|---|---|---|---|---|\n",
       "| 1 | JC1000116 | 131295313275 | 2020-09-29 22:45:00+00:00 | 0 | 57868578 | Hospital Encounter | NA | 3-Urgent | 3 | 2020-09-29 16:02:00+00:00 |\n",
       "\n"
      ],
      "text/plain": [
       "  anon_id   pat_enc_csn_id_coded admit_time_jittered       label\n",
       "1 JC1000116 131295313275         2020-09-29 22:45:00+00:00 0    \n",
       "  inpatient_data_id_coded enc_type           visit_type acuity_level\n",
       "1 57868578                Hospital Encounter NA         3-Urgent    \n",
       "  ACUITY_LEVEL_C hosp_admsn_time_jittered_utc\n",
       "1 3              2020-09-29 16:02:00+00:00   "
      ]
     },
     "metadata": {},
     "output_type": "display_data"
    },
    {
     "data": {
      "text/html": [
       "<table class=\"dataframe\">\n",
       "<caption>A data.frame: 1 × 7</caption>\n",
       "<thead>\n",
       "\t<tr><th></th><th scope=col>anon_id</th><th scope=col>pat_enc_csn_id_coded</th><th scope=col>admit_time_jittered</th><th scope=col>label</th><th scope=col>admit_time</th><th scope=col>adm_year</th><th scope=col>adm_month</th></tr>\n",
       "\t<tr><th></th><th scope=col>&lt;chr&gt;</th><th scope=col>&lt;dbl&gt;</th><th scope=col>&lt;chr&gt;</th><th scope=col>&lt;int&gt;</th><th scope=col>&lt;dttm&gt;</th><th scope=col>&lt;dbl&gt;</th><th scope=col>&lt;dbl&gt;</th></tr>\n",
       "</thead>\n",
       "<tbody>\n",
       "\t<tr><th scope=row>1</th><td>JC1000116</td><td>131295313275</td><td>2020-09-29 22:45:00+00:00</td><td>0</td><td>2020-09-29 22:45:00</td><td>2020</td><td>9</td></tr>\n",
       "</tbody>\n",
       "</table>\n"
      ],
      "text/latex": [
       "A data.frame: 1 × 7\n",
       "\\begin{tabular}{r|lllllll}\n",
       "  & anon\\_id & pat\\_enc\\_csn\\_id\\_coded & admit\\_time\\_jittered & label & admit\\_time & adm\\_year & adm\\_month\\\\\n",
       "  & <chr> & <dbl> & <chr> & <int> & <dttm> & <dbl> & <dbl>\\\\\n",
       "\\hline\n",
       "\t1 & JC1000116 & 131295313275 & 2020-09-29 22:45:00+00:00 & 0 & 2020-09-29 22:45:00 & 2020 & 9\\\\\n",
       "\\end{tabular}\n"
      ],
      "text/markdown": [
       "\n",
       "A data.frame: 1 × 7\n",
       "\n",
       "| <!--/--> | anon_id &lt;chr&gt; | pat_enc_csn_id_coded &lt;dbl&gt; | admit_time_jittered &lt;chr&gt; | label &lt;int&gt; | admit_time &lt;dttm&gt; | adm_year &lt;dbl&gt; | adm_month &lt;dbl&gt; |\n",
       "|---|---|---|---|---|---|---|---|\n",
       "| 1 | JC1000116 | 131295313275 | 2020-09-29 22:45:00+00:00 | 0 | 2020-09-29 22:45:00 | 2020 | 9 |\n",
       "\n"
      ],
      "text/plain": [
       "  anon_id   pat_enc_csn_id_coded admit_time_jittered       label\n",
       "1 JC1000116 131295313275         2020-09-29 22:45:00+00:00 0    \n",
       "  admit_time          adm_year adm_month\n",
       "1 2020-09-29 22:45:00 2020     9        "
      ]
     },
     "metadata": {},
     "output_type": "display_data"
    }
   ],
   "source": [
    "head(enc, 1)\n",
    "head(cohort1, 1)"
   ]
  },
  {
   "cell_type": "code",
   "execution_count": 19,
   "metadata": {},
   "outputs": [
    {
     "name": "stderr",
     "output_type": "stream",
     "text": [
      "Joining, by = c(\"anon_id\", \"pat_enc_csn_id_coded\")\n",
      "\n"
     ]
    },
    {
     "data": {
      "text/html": [
       "20342"
      ],
      "text/latex": [
       "20342"
      ],
      "text/markdown": [
       "20342"
      ],
      "text/plain": [
       "[1] 20342"
      ]
     },
     "metadata": {},
     "output_type": "display_data"
    },
    {
     "data": {
      "text/plain": [
       "   Min. 1st Qu.  Median    Mean 3rd Qu.    Max. \n",
       "  0.000   2.350   3.433   4.150   4.917 145.067 "
      ]
     },
     "metadata": {},
     "output_type": "display_data"
    },
    {
     "data": {
      "image/png": "[encoded data removed]",
      "text/plain": [
       "Plot with title “Histogram of cohort_enc$ed_time_hr”"
      ]
     },
     "metadata": {
      "image/png": {
       "height": 420,
       "width": 420
      }
     },
     "output_type": "display_data"
    }
   ],
   "source": [
    "# join the encounter table with cohort table to get the inpatient data id coded\n",
    "# removed those empty encounter type (18), only Hospital Encounter left\n",
    "enc <- enc %>% filter(enc_type == \"Hospital Encounter\") %>%\n",
    "                select(anon_id, pat_enc_csn_id_coded, inpatient_data_id_coded, \n",
    "                       ESI = ACUITY_LEVEL_C, hosp_admsn_time = hosp_admsn_time_jittered_utc) %>% \n",
    "                mutate(hosp_admsn_time = ymd_hms(hosp_admsn_time))\n",
    "\n",
    "cohort_enc <- inner_join(cohort1, enc) %>% \n",
    "            mutate(ed_time_hr = as.numeric(difftime(admit_time, hosp_admsn_time, units =\"hours\")))\n",
    "\n",
    "nrow(cohort_enc)\n",
    "summary(cohort_enc$ed_time_hr)\n",
    "hist(cohort_enc$ed_time_hr, xlim=c(0, 20), breaks=300, col=\"blue\")"
   ]
  },
  {
   "cell_type": "markdown",
   "metadata": {},
   "source": [
    "### Code status\n",
    "\n",
    "* Process code status: keep patients whose code status is Full prior to admission or within 24 hour after admission. Otherwise interventions might not match with presentations.\n",
    "* In other words: remove patients whose have a code status not FULL, anytime before admission or within 24 hour after admission \n",
    "* Note that in the display_name, some codes are blank but they are converted to something in description --> use description"
   ]
  },
  {
   "cell_type": "raw",
   "metadata": {},
   "source": [
    "# m2_codestatus.sql\n",
    "\n",
    "q = \"\n",
    "SELECT c.*,\n",
    "    o.order_type, o.order_status, o.display_name, o.description, \n",
    "    o.order_time_jittered_utc\n",
    "FROM \n",
    "    `som-nero-phi-jonc101.shc_core_2021.order_proc` as o\n",
    "JOIN \n",
    "    `som-nero-phi-jonc101.triageTD.6_1_cohort_validation` as c\n",
    "ON (c.anon_id=o.anon_id and c.pat_enc_csn_id_coded=o.pat_enc_csn_id_coded)\n",
    "WHERE o.order_type = \"Code Status\"\n",
    "ORDER BY\n",
    "  c.anon_id\n",
    "\"\n",
    "\n",
    "# submit the query:\n",
    "update.packages('Rcpp')\n",
    "df <- dbGetQuery(con, q)\n",
    "dim(df)\n",
    "colnames(df)\n",
    "head(df, 3)"
   ]
  },
  {
   "cell_type": "code",
   "execution_count": 20,
   "metadata": {},
   "outputs": [
    {
     "data": {
      "text/html": [
       "71667"
      ],
      "text/latex": [
       "71667"
      ],
      "text/markdown": [
       "71667"
      ],
      "text/plain": [
       "[1] 71667"
      ]
     },
     "metadata": {},
     "output_type": "display_data"
    },
    {
     "data": {
      "text/plain": [
       " order_status       display_name       description       \n",
       " Length:71667       Length:71667       Length:71667      \n",
       " Class :character   Class :character   Class :character  \n",
       " Mode  :character   Mode  :character   Mode  :character  "
      ]
     },
     "metadata": {},
     "output_type": "display_data"
    },
    {
     "data": {
      "text/plain": [
       "$order_status\n",
       "\n",
       "         Canceled     Sent \n",
       "      19    71640        8 \n",
       "\n",
       "$display_name\n",
       "\n",
       "DNR/Comfort Care          DNR/DNE          DNR/DNI        Full Code \n",
       "            3121             2017            10511            53295 \n",
       "    Partial Code \n",
       "            2723 \n",
       "\n",
       "$description\n",
       "\n",
       "DNR/COMFORT CARE          DNR/DNE          DNR/DNI        FULL CODE \n",
       "            3121             2017            10511            53295 \n",
       "    PARTIAL CODE \n",
       "            2723 \n"
      ]
     },
     "metadata": {},
     "output_type": "display_data"
    }
   ],
   "source": [
    "# codestatus.csv is from querying code status order from order_proc\n",
    "code <- read.csv(file.path(datadir, \"code_status_2021.csv\")) \n",
    "nrow(code) #\n",
    "summary(code %>% select(order_status, display_name, description))\n",
    "\n",
    "# if summary doesn't display (not factor), use table\n",
    "apply(code[c(\"order_status\", \"display_name\", \"description\")], 2, table)"
   ]
  },
  {
   "cell_type": "code",
   "execution_count": 21,
   "metadata": {},
   "outputs": [
    {
     "data": {
      "text/html": [
       "<table class=\"dataframe\">\n",
       "<caption>A grouped_df: 3 × 2</caption>\n",
       "<thead>\n",
       "\t<tr><th scope=col>order_status</th><th scope=col>n</th></tr>\n",
       "\t<tr><th scope=col>&lt;chr&gt;</th><th scope=col>&lt;int&gt;</th></tr>\n",
       "</thead>\n",
       "<tbody>\n",
       "\t<tr><td>        </td><td>   19</td></tr>\n",
       "\t<tr><td>Canceled</td><td>71640</td></tr>\n",
       "\t<tr><td>Sent    </td><td>    8</td></tr>\n",
       "</tbody>\n",
       "</table>\n"
      ],
      "text/latex": [
       "A grouped\\_df: 3 × 2\n",
       "\\begin{tabular}{ll}\n",
       " order\\_status & n\\\\\n",
       " <chr> & <int>\\\\\n",
       "\\hline\n",
       "\t          &    19\\\\\n",
       "\t Canceled & 71640\\\\\n",
       "\t Sent     &     8\\\\\n",
       "\\end{tabular}\n"
      ],
      "text/markdown": [
       "\n",
       "A grouped_df: 3 × 2\n",
       "\n",
       "| order_status &lt;chr&gt; | n &lt;int&gt; |\n",
       "|---|---|\n",
       "| <!----> |    19 |\n",
       "| Canceled | 71640 |\n",
       "| Sent     |     8 |\n",
       "\n"
      ],
      "text/plain": [
       "  order_status n    \n",
       "1                 19\n",
       "2 Canceled     71640\n",
       "3 Sent             8"
      ]
     },
     "metadata": {},
     "output_type": "display_data"
    },
    {
     "data": {
      "text/html": [
       "<table class=\"dataframe\">\n",
       "<caption>A grouped_df: 5 × 2</caption>\n",
       "<thead>\n",
       "\t<tr><th scope=col>display_name</th><th scope=col>n</th></tr>\n",
       "\t<tr><th scope=col>&lt;chr&gt;</th><th scope=col>&lt;int&gt;</th></tr>\n",
       "</thead>\n",
       "<tbody>\n",
       "\t<tr><td>DNR/Comfort Care</td><td> 3121</td></tr>\n",
       "\t<tr><td>DNR/DNE         </td><td> 2017</td></tr>\n",
       "\t<tr><td>DNR/DNI         </td><td>10511</td></tr>\n",
       "\t<tr><td>Full Code       </td><td>53295</td></tr>\n",
       "\t<tr><td>Partial Code    </td><td> 2723</td></tr>\n",
       "</tbody>\n",
       "</table>\n"
      ],
      "text/latex": [
       "A grouped\\_df: 5 × 2\n",
       "\\begin{tabular}{ll}\n",
       " display\\_name & n\\\\\n",
       " <chr> & <int>\\\\\n",
       "\\hline\n",
       "\t DNR/Comfort Care &  3121\\\\\n",
       "\t DNR/DNE          &  2017\\\\\n",
       "\t DNR/DNI          & 10511\\\\\n",
       "\t Full Code        & 53295\\\\\n",
       "\t Partial Code     &  2723\\\\\n",
       "\\end{tabular}\n"
      ],
      "text/markdown": [
       "\n",
       "A grouped_df: 5 × 2\n",
       "\n",
       "| display_name &lt;chr&gt; | n &lt;int&gt; |\n",
       "|---|---|\n",
       "| DNR/Comfort Care |  3121 |\n",
       "| DNR/DNE          |  2017 |\n",
       "| DNR/DNI          | 10511 |\n",
       "| Full Code        | 53295 |\n",
       "| Partial Code     |  2723 |\n",
       "\n"
      ],
      "text/plain": [
       "  display_name     n    \n",
       "1 DNR/Comfort Care  3121\n",
       "2 DNR/DNE           2017\n",
       "3 DNR/DNI          10511\n",
       "4 Full Code        53295\n",
       "5 Partial Code      2723"
      ]
     },
     "metadata": {},
     "output_type": "display_data"
    },
    {
     "data": {
      "text/html": [
       "<table class=\"dataframe\">\n",
       "<caption>A grouped_df: 5 × 2</caption>\n",
       "<thead>\n",
       "\t<tr><th scope=col>description</th><th scope=col>n</th></tr>\n",
       "\t<tr><th scope=col>&lt;chr&gt;</th><th scope=col>&lt;int&gt;</th></tr>\n",
       "</thead>\n",
       "<tbody>\n",
       "\t<tr><td>DNR/COMFORT CARE</td><td> 3121</td></tr>\n",
       "\t<tr><td>DNR/DNE         </td><td> 2017</td></tr>\n",
       "\t<tr><td>DNR/DNI         </td><td>10511</td></tr>\n",
       "\t<tr><td>FULL CODE       </td><td>53295</td></tr>\n",
       "\t<tr><td>PARTIAL CODE    </td><td> 2723</td></tr>\n",
       "</tbody>\n",
       "</table>\n"
      ],
      "text/latex": [
       "A grouped\\_df: 5 × 2\n",
       "\\begin{tabular}{ll}\n",
       " description & n\\\\\n",
       " <chr> & <int>\\\\\n",
       "\\hline\n",
       "\t DNR/COMFORT CARE &  3121\\\\\n",
       "\t DNR/DNE          &  2017\\\\\n",
       "\t DNR/DNI          & 10511\\\\\n",
       "\t FULL CODE        & 53295\\\\\n",
       "\t PARTIAL CODE     &  2723\\\\\n",
       "\\end{tabular}\n"
      ],
      "text/markdown": [
       "\n",
       "A grouped_df: 5 × 2\n",
       "\n",
       "| description &lt;chr&gt; | n &lt;int&gt; |\n",
       "|---|---|\n",
       "| DNR/COMFORT CARE |  3121 |\n",
       "| DNR/DNE          |  2017 |\n",
       "| DNR/DNI          | 10511 |\n",
       "| FULL CODE        | 53295 |\n",
       "| PARTIAL CODE     |  2723 |\n",
       "\n"
      ],
      "text/plain": [
       "  description      n    \n",
       "1 DNR/COMFORT CARE  3121\n",
       "2 DNR/DNE           2017\n",
       "3 DNR/DNI          10511\n",
       "4 FULL CODE        53295\n",
       "5 PARTIAL CODE      2723"
      ]
     },
     "metadata": {},
     "output_type": "display_data"
    }
   ],
   "source": [
    "# tables\n",
    "code %>% group_by(order_status) %>% count()\n",
    "code %>% group_by(display_name) %>% count()\n",
    "code %>% group_by(description) %>% count()"
   ]
  },
  {
   "cell_type": "code",
   "execution_count": 22,
   "metadata": {},
   "outputs": [
    {
     "data": {
      "text/html": [
       "<table class=\"dataframe\">\n",
       "<caption>A data.frame: 1 × 9</caption>\n",
       "<thead>\n",
       "\t<tr><th></th><th scope=col>anon_id</th><th scope=col>pat_enc_csn_id_coded</th><th scope=col>admit_time_jittered</th><th scope=col>label</th><th scope=col>order_type</th><th scope=col>order_status</th><th scope=col>display_name</th><th scope=col>description</th><th scope=col>order_time_jittered_utc</th></tr>\n",
       "\t<tr><th></th><th scope=col>&lt;chr&gt;</th><th scope=col>&lt;dbl&gt;</th><th scope=col>&lt;chr&gt;</th><th scope=col>&lt;int&gt;</th><th scope=col>&lt;chr&gt;</th><th scope=col>&lt;chr&gt;</th><th scope=col>&lt;chr&gt;</th><th scope=col>&lt;chr&gt;</th><th scope=col>&lt;chr&gt;</th></tr>\n",
       "</thead>\n",
       "<tbody>\n",
       "\t<tr><th scope=row>1</th><td>JC1000116</td><td>131295313275</td><td>2020-09-29 22:45:00+00:00</td><td>0</td><td>Code Status</td><td>Canceled</td><td>Full Code</td><td>FULL CODE</td><td>2020-09-30 01:24:00+00:00</td></tr>\n",
       "</tbody>\n",
       "</table>\n"
      ],
      "text/latex": [
       "A data.frame: 1 × 9\n",
       "\\begin{tabular}{r|lllllllll}\n",
       "  & anon\\_id & pat\\_enc\\_csn\\_id\\_coded & admit\\_time\\_jittered & label & order\\_type & order\\_status & display\\_name & description & order\\_time\\_jittered\\_utc\\\\\n",
       "  & <chr> & <dbl> & <chr> & <int> & <chr> & <chr> & <chr> & <chr> & <chr>\\\\\n",
       "\\hline\n",
       "\t1 & JC1000116 & 131295313275 & 2020-09-29 22:45:00+00:00 & 0 & Code Status & Canceled & Full Code & FULL CODE & 2020-09-30 01:24:00+00:00\\\\\n",
       "\\end{tabular}\n"
      ],
      "text/markdown": [
       "\n",
       "A data.frame: 1 × 9\n",
       "\n",
       "| <!--/--> | anon_id &lt;chr&gt; | pat_enc_csn_id_coded &lt;dbl&gt; | admit_time_jittered &lt;chr&gt; | label &lt;int&gt; | order_type &lt;chr&gt; | order_status &lt;chr&gt; | display_name &lt;chr&gt; | description &lt;chr&gt; | order_time_jittered_utc &lt;chr&gt; |\n",
       "|---|---|---|---|---|---|---|---|---|---|\n",
       "| 1 | JC1000116 | 131295313275 | 2020-09-29 22:45:00+00:00 | 0 | Code Status | Canceled | Full Code | FULL CODE | 2020-09-30 01:24:00+00:00 |\n",
       "\n"
      ],
      "text/plain": [
       "  anon_id   pat_enc_csn_id_coded admit_time_jittered       label order_type \n",
       "1 JC1000116 131295313275         2020-09-29 22:45:00+00:00 0     Code Status\n",
       "  order_status display_name description order_time_jittered_utc  \n",
       "1 Canceled     Full Code    FULL CODE   2020-09-30 01:24:00+00:00"
      ]
     },
     "metadata": {},
     "output_type": "display_data"
    }
   ],
   "source": [
    "head(code, n=1) "
   ]
  },
  {
   "cell_type": "code",
   "execution_count": 23,
   "metadata": {},
   "outputs": [
    {
     "data": {
      "text/html": [
       "34796"
      ],
      "text/latex": [
       "34796"
      ],
      "text/markdown": [
       "34796"
      ],
      "text/plain": [
       "[1] 34796"
      ]
     },
     "metadata": {},
     "output_type": "display_data"
    },
    {
     "data": {
      "text/plain": [
       "   anon_id          pat_enc_csn_id_coded           description   \n",
       " Length:34796       Min.   :1.313e+11    DNR/COMFORT CARE: 1625  \n",
       " Class :character   1st Qu.:1.313e+11    DNR/DNE         : 1017  \n",
       " Mode  :character   Median :1.313e+11    DNR/DNI         : 5218  \n",
       "                    Mean   :1.313e+11    FULL CODE       :25642  \n",
       "                    3rd Qu.:1.313e+11    PARTIAL CODE    : 1294  \n",
       "                    Max.   :1.313e+11                            \n",
       "   order_time                 \n",
       " Min.   :2018-04-22 22:27:00  \n",
       " 1st Qu.:2020-07-01 18:13:30  \n",
       " Median :2020-12-11 03:00:00  \n",
       " Mean   :2020-12-02 12:41:17  \n",
       " 3rd Qu.:2021-05-15 07:44:15  \n",
       " Max.   :2021-09-30 07:00:00  "
      ]
     },
     "metadata": {},
     "output_type": "display_data"
    }
   ],
   "source": [
    "code <- code %>% select(anon_id, pat_enc_csn_id_coded, description, order_time = order_time_jittered_utc) %>% \n",
    "                    mutate(order_time = ymd_hms(order_time),\n",
    "                           description = factor(description)) %>% distinct() \n",
    "nrow(code) \n",
    "summary(code) "
   ]
  },
  {
   "cell_type": "code",
   "execution_count": 24,
   "metadata": {},
   "outputs": [
    {
     "name": "stderr",
     "output_type": "stream",
     "text": [
      "Joining, by = c(\"anon_id\", \"pat_enc_csn_id_coded\")\n",
      "\n"
     ]
    },
    {
     "data": {
      "text/html": [
       "31817"
      ],
      "text/latex": [
       "31817"
      ],
      "text/markdown": [
       "31817"
      ],
      "text/plain": [
       "[1] 31817"
      ]
     },
     "metadata": {},
     "output_type": "display_data"
    },
    {
     "data": {
      "text/html": [
       "20342"
      ],
      "text/latex": [
       "20342"
      ],
      "text/markdown": [
       "20342"
      ],
      "text/plain": [
       "[1] 20342"
      ]
     },
     "metadata": {},
     "output_type": "display_data"
    }
   ],
   "source": [
    "# calculate the difference btwn admit time and code status order time\n",
    "code <- left_join(cohort_enc, code) %>% \n",
    "            mutate(code_diff_hr = as.numeric(difftime(order_time, admit_time, units = 'hours')))\n",
    "\n",
    "nrow(code %>% group_by(anon_id, pat_enc_csn_id_coded) %>% unique()) # \n",
    "nrow(code %>% select(anon_id, pat_enc_csn_id_coded) %>% group_by(anon_id, pat_enc_csn_id_coded) %>% unique()) #"
   ]
  },
  {
   "cell_type": "code",
   "execution_count": 25,
   "metadata": {},
   "outputs": [
    {
     "data": {
      "text/plain": [
       "    Min.  1st Qu.   Median     Mean  3rd Qu.     Max.     NA's \n",
       " -29.983    1.617    2.967   47.397   21.958 3038.267     1574 "
      ]
     },
     "metadata": {},
     "output_type": "display_data"
    },
    {
     "data": {
      "image/png": "[encoded data removed]",
      "text/plain": [
       "Plot with title “Histogram of code$code_diff_hr”"
      ]
     },
     "metadata": {
      "image/png": {
       "height": 420,
       "width": 420
      }
     },
     "output_type": "display_data"
    }
   ],
   "source": [
    "# code order time is prior to or within 24 hours after admission, time diff in hours (code time - admit time)\n",
    "summary(code$code_diff_hr)\n",
    "hist(code$code_diff_hr,  xlim=c(-80, 48), breaks=720, col=\"steelblue\")"
   ]
  },
  {
   "cell_type": "code",
   "execution_count": 26,
   "metadata": {},
   "outputs": [
    {
     "data": {
      "text/html": [
       "7892"
      ],
      "text/latex": [
       "7892"
      ],
      "text/markdown": [
       "7892"
      ],
      "text/plain": [
       "[1] 7892"
      ]
     },
     "metadata": {},
     "output_type": "display_data"
    },
    {
     "data": {
      "text/html": [
       "3179"
      ],
      "text/latex": [
       "3179"
      ],
      "text/markdown": [
       "3179"
      ],
      "text/plain": [
       "[1] 3179"
      ]
     },
     "metadata": {},
     "output_type": "display_data"
    },
    {
     "data": {
      "text/html": [
       "3179"
      ],
      "text/latex": [
       "3179"
      ],
      "text/markdown": [
       "3179"
      ],
      "text/plain": [
       "[1] 3179"
      ]
     },
     "metadata": {},
     "output_type": "display_data"
    }
   ],
   "source": [
    "# number of patients whose code status are either full or na (if exists, consider na = FULL) \n",
    "nrow(filter(code, description != \"FULL CODE\" & !is.na(description))) # to be removed\n",
    "\n",
    "# cohort of patients whose code status before admission or 24 hour after admission is not FULL CODE\n",
    "code_notfull <- code %>% \n",
    "                filter(code_diff_hr <=24 & description != \"FULL CODE\" & !is.na(description)) %>% \n",
    "                select(anon_id, pat_enc_csn_id_coded, inpatient_data_id_coded, admit_time) %>%\n",
    "                distinct()\n",
    "\n",
    "# number of patients whose code status is not full 24\n",
    "nrow(code_notfull) # \n",
    "nrow(code_notfull %>% select(anon_id, pat_enc_csn_id_coded) %>% distinct()) # 9022"
   ]
  },
  {
   "cell_type": "code",
   "execution_count": 27,
   "metadata": {},
   "outputs": [
    {
     "name": "stderr",
     "output_type": "stream",
     "text": [
      "Joining, by = c(\"anon_id\", \"pat_enc_csn_id_coded\", \"admit_time\", \"inpatient_data_id_coded\")\n",
      "\n"
     ]
    },
    {
     "data": {
      "text/html": [
       "17163"
      ],
      "text/latex": [
       "17163"
      ],
      "text/markdown": [
       "17163"
      ],
      "text/plain": [
       "[1] 17163"
      ]
     },
     "metadata": {},
     "output_type": "display_data"
    },
    {
     "data": {
      "text/html": [
       "17163"
      ],
      "text/latex": [
       "17163"
      ],
      "text/markdown": [
       "17163"
      ],
      "text/plain": [
       "[1] 17163"
      ]
     },
     "metadata": {},
     "output_type": "display_data"
    },
    {
     "data": {
      "text/html": [
       "0"
      ],
      "text/latex": [
       "0"
      ],
      "text/markdown": [
       "0"
      ],
      "text/plain": [
       "[1] 0"
      ]
     },
     "metadata": {},
     "output_type": "display_data"
    }
   ],
   "source": [
    "# remove 3179 non-fullcode, non-na code patients from the cohort\n",
    "cohort_code <- anti_join(cohort_enc, code_notfull) \n",
    "nrow(cohort_code) #\n",
    "nrow(unique(cohort_code %>% select(anon_id, pat_enc_csn_id_coded))) \n",
    "nrow(filter(cohort_code, is.na(admit_time)))"
   ]
  },
  {
   "cell_type": "code",
   "execution_count": 28,
   "metadata": {},
   "outputs": [
    {
     "data": {
      "text/html": [
       "<table class=\"dataframe\">\n",
       "<caption>A data.frame: 1 × 11</caption>\n",
       "<thead>\n",
       "\t<tr><th></th><th scope=col>anon_id</th><th scope=col>pat_enc_csn_id_coded</th><th scope=col>admit_time_jittered</th><th scope=col>label</th><th scope=col>admit_time</th><th scope=col>adm_year</th><th scope=col>adm_month</th><th scope=col>inpatient_data_id_coded</th><th scope=col>ESI</th><th scope=col>hosp_admsn_time</th><th scope=col>ed_time_hr</th></tr>\n",
       "\t<tr><th></th><th scope=col>&lt;chr&gt;</th><th scope=col>&lt;dbl&gt;</th><th scope=col>&lt;chr&gt;</th><th scope=col>&lt;int&gt;</th><th scope=col>&lt;dttm&gt;</th><th scope=col>&lt;dbl&gt;</th><th scope=col>&lt;dbl&gt;</th><th scope=col>&lt;dbl&gt;</th><th scope=col>&lt;dbl&gt;</th><th scope=col>&lt;dttm&gt;</th><th scope=col>&lt;dbl&gt;</th></tr>\n",
       "</thead>\n",
       "<tbody>\n",
       "\t<tr><th scope=row>1</th><td>JC1000116</td><td>131295313275</td><td>2020-09-29 22:45:00+00:00</td><td>0</td><td>2020-09-29 22:45:00</td><td>2020</td><td>9</td><td>57868578</td><td>3</td><td>2020-09-29 16:02:00</td><td>6.716667</td></tr>\n",
       "</tbody>\n",
       "</table>\n"
      ],
      "text/latex": [
       "A data.frame: 1 × 11\n",
       "\\begin{tabular}{r|lllllllllll}\n",
       "  & anon\\_id & pat\\_enc\\_csn\\_id\\_coded & admit\\_time\\_jittered & label & admit\\_time & adm\\_year & adm\\_month & inpatient\\_data\\_id\\_coded & ESI & hosp\\_admsn\\_time & ed\\_time\\_hr\\\\\n",
       "  & <chr> & <dbl> & <chr> & <int> & <dttm> & <dbl> & <dbl> & <dbl> & <dbl> & <dttm> & <dbl>\\\\\n",
       "\\hline\n",
       "\t1 & JC1000116 & 131295313275 & 2020-09-29 22:45:00+00:00 & 0 & 2020-09-29 22:45:00 & 2020 & 9 & 57868578 & 3 & 2020-09-29 16:02:00 & 6.716667\\\\\n",
       "\\end{tabular}\n"
      ],
      "text/markdown": [
       "\n",
       "A data.frame: 1 × 11\n",
       "\n",
       "| <!--/--> | anon_id &lt;chr&gt; | pat_enc_csn_id_coded &lt;dbl&gt; | admit_time_jittered &lt;chr&gt; | label &lt;int&gt; | admit_time &lt;dttm&gt; | adm_year &lt;dbl&gt; | adm_month &lt;dbl&gt; | inpatient_data_id_coded &lt;dbl&gt; | ESI &lt;dbl&gt; | hosp_admsn_time &lt;dttm&gt; | ed_time_hr &lt;dbl&gt; |\n",
       "|---|---|---|---|---|---|---|---|---|---|---|---|\n",
       "| 1 | JC1000116 | 131295313275 | 2020-09-29 22:45:00+00:00 | 0 | 2020-09-29 22:45:00 | 2020 | 9 | 57868578 | 3 | 2020-09-29 16:02:00 | 6.716667 |\n",
       "\n"
      ],
      "text/plain": [
       "  anon_id   pat_enc_csn_id_coded admit_time_jittered       label\n",
       "1 JC1000116 131295313275         2020-09-29 22:45:00+00:00 0    \n",
       "  admit_time          adm_year adm_month inpatient_data_id_coded ESI\n",
       "1 2020-09-29 22:45:00 2020     9         57868578                3  \n",
       "  hosp_admsn_time     ed_time_hr\n",
       "1 2020-09-29 16:02:00 6.716667  "
      ]
     },
     "metadata": {},
     "output_type": "display_data"
    }
   ],
   "source": [
    "head(cohort_code, n=1)"
   ]
  },
  {
   "cell_type": "markdown",
   "metadata": {},
   "source": [
    "### Age from demographic variables\n",
    "1. Age (only >=18)\n",
    "2. insurance = Medical/care/caid and n/a insurance --> medis =1 otherwise 0\n",
    "3. language --> Engl = 1 for English, otherwise 0\n",
    "4. leave height and weight to be processed with flowsheet age (>=18 only)"
   ]
  },
  {
   "cell_type": "raw",
   "metadata": {},
   "source": [
    "q = \"\n",
    "SELECT c.anon_id,\n",
    "    d.gender, d.canonical_race as race, d.language, \n",
    "    d.recent_ht_in_cms as recent_height_cm, d.recent_wt_in_kgs as recent_weight_kg,\n",
    "    d.insurance_payor_name as insurance \n",
    "    DATE(CAST(d.birth_date_jittered as TIMESTAMP)) as dob\n",
    "FROM \n",
    "    `som-nero-phi-jonc101.shc_core_2021.demographic` as d\n",
    "JOIN \n",
    "    `som-nero-phi-jonc101.triageTD.6_1_cohort_validation` as c\n",
    "ON c.anon_id=d.anon_id\n",
    "ORDER BY\n",
    "  c.anon_id\n",
    "\"\n",
    "# submit the query:\n",
    "update.packages('Rcpp')\n",
    "df <- dbGetQuery(con, q)\n",
    "dim(df)\n",
    "colnames(df)\n",
    "head(df, 3)"
   ]
  },
  {
   "cell_type": "code",
   "execution_count": 29,
   "metadata": {},
   "outputs": [
    {
     "data": {
      "text/html": [
       "16907"
      ],
      "text/latex": [
       "16907"
      ],
      "text/markdown": [
       "16907"
      ],
      "text/plain": [
       "[1] 16907"
      ]
     },
     "metadata": {},
     "output_type": "display_data"
    },
    {
     "data": {
      "text/plain": [
       "   anon_id             gender              race             language        \n",
       " Length:16907       Length:16907       Length:16907       Length:16907      \n",
       " Class :character   Class :character   Class :character   Class :character  \n",
       " Mode  :character   Mode  :character   Mode  :character   Mode  :character  \n",
       "                                                                            \n",
       "                                                                            \n",
       "                                                                            \n",
       "                                                                            \n",
       " recent_height_cm recent_weight_kg  insurance             dob           \n",
       " Min.   : 39.0    Min.   :  1.00   Length:16907       Length:16907      \n",
       " 1st Qu.:160.0    1st Qu.: 60.30   Class :character   Class :character  \n",
       " Median :167.6    Median : 72.80   Mode  :character   Mode  :character  \n",
       " Mean   :167.4    Mean   : 76.04                                        \n",
       " 3rd Qu.:175.3    3rd Qu.: 87.10                                        \n",
       " Max.   :213.4    Max.   :504.85                                        \n",
       " NA's   :536      NA's   :39                                            "
      ]
     },
     "metadata": {},
     "output_type": "display_data"
    }
   ],
   "source": [
    "demo <- read.csv(file.path(datadir, \"demographics_2021.csv\")) %>% distinct()\n",
    "nrow(demo) #\n",
    "summary(demo)"
   ]
  },
  {
   "cell_type": "code",
   "execution_count": 30,
   "metadata": {},
   "outputs": [
    {
     "data": {
      "text/html": [
       "<table class=\"dataframe\">\n",
       "<caption>A data.frame: 6 × 8</caption>\n",
       "<thead>\n",
       "\t<tr><th></th><th scope=col>anon_id</th><th scope=col>gender</th><th scope=col>race</th><th scope=col>language</th><th scope=col>recent_height_cm</th><th scope=col>recent_weight_kg</th><th scope=col>insurance</th><th scope=col>dob</th></tr>\n",
       "\t<tr><th></th><th scope=col>&lt;chr&gt;</th><th scope=col>&lt;chr&gt;</th><th scope=col>&lt;chr&gt;</th><th scope=col>&lt;chr&gt;</th><th scope=col>&lt;dbl&gt;</th><th scope=col>&lt;dbl&gt;</th><th scope=col>&lt;chr&gt;</th><th scope=col>&lt;chr&gt;</th></tr>\n",
       "</thead>\n",
       "<tbody>\n",
       "\t<tr><th scope=row>1</th><td>JC1000116</td><td>Female</td><td>Other</td><td>Spanish</td><td>154.00</td><td> 73.05</td><td>HPSM                          </td><td>1977-01-23</td></tr>\n",
       "\t<tr><th scope=row>2</th><td>JC1000939</td><td>Female</td><td>Other</td><td>Spanish</td><td>154.94</td><td>136.80</td><td>HPSM                          </td><td>1971-08-26</td></tr>\n",
       "\t<tr><th scope=row>3</th><td>JC1001115</td><td>Female</td><td>White</td><td>English</td><td>157.48</td><td> 60.60</td><td>MEDICARE                      </td><td>1928-11-12</td></tr>\n",
       "\t<tr><th scope=row>4</th><td>JC1001580</td><td>Male  </td><td>White</td><td>English</td><td>187.96</td><td> 89.12</td><td>UNITED HEALTHCARE             </td><td>1967-03-27</td></tr>\n",
       "\t<tr><th scope=row>5</th><td>JC1001688</td><td>Male  </td><td>Asian</td><td>English</td><td>205.74</td><td>163.29</td><td>ALAMEDA ALLIANCE MCAL MGD CARE</td><td>1983-11-02</td></tr>\n",
       "\t<tr><th scope=row>6</th><td>JC1001762</td><td>Male  </td><td>White</td><td>English</td><td>174.00</td><td> 83.90</td><td>MEDICARE                      </td><td>1931-03-28</td></tr>\n",
       "</tbody>\n",
       "</table>\n"
      ],
      "text/latex": [
       "A data.frame: 6 × 8\n",
       "\\begin{tabular}{r|llllllll}\n",
       "  & anon\\_id & gender & race & language & recent\\_height\\_cm & recent\\_weight\\_kg & insurance & dob\\\\\n",
       "  & <chr> & <chr> & <chr> & <chr> & <dbl> & <dbl> & <chr> & <chr>\\\\\n",
       "\\hline\n",
       "\t1 & JC1000116 & Female & Other & Spanish & 154.00 &  73.05 & HPSM                           & 1977-01-23\\\\\n",
       "\t2 & JC1000939 & Female & Other & Spanish & 154.94 & 136.80 & HPSM                           & 1971-08-26\\\\\n",
       "\t3 & JC1001115 & Female & White & English & 157.48 &  60.60 & MEDICARE                       & 1928-11-12\\\\\n",
       "\t4 & JC1001580 & Male   & White & English & 187.96 &  89.12 & UNITED HEALTHCARE              & 1967-03-27\\\\\n",
       "\t5 & JC1001688 & Male   & Asian & English & 205.74 & 163.29 & ALAMEDA ALLIANCE MCAL MGD CARE & 1983-11-02\\\\\n",
       "\t6 & JC1001762 & Male   & White & English & 174.00 &  83.90 & MEDICARE                       & 1931-03-28\\\\\n",
       "\\end{tabular}\n"
      ],
      "text/markdown": [
       "\n",
       "A data.frame: 6 × 8\n",
       "\n",
       "| <!--/--> | anon_id &lt;chr&gt; | gender &lt;chr&gt; | race &lt;chr&gt; | language &lt;chr&gt; | recent_height_cm &lt;dbl&gt; | recent_weight_kg &lt;dbl&gt; | insurance &lt;chr&gt; | dob &lt;chr&gt; |\n",
       "|---|---|---|---|---|---|---|---|---|\n",
       "| 1 | JC1000116 | Female | Other | Spanish | 154.00 |  73.05 | HPSM                           | 1977-01-23 |\n",
       "| 2 | JC1000939 | Female | Other | Spanish | 154.94 | 136.80 | HPSM                           | 1971-08-26 |\n",
       "| 3 | JC1001115 | Female | White | English | 157.48 |  60.60 | MEDICARE                       | 1928-11-12 |\n",
       "| 4 | JC1001580 | Male   | White | English | 187.96 |  89.12 | UNITED HEALTHCARE              | 1967-03-27 |\n",
       "| 5 | JC1001688 | Male   | Asian | English | 205.74 | 163.29 | ALAMEDA ALLIANCE MCAL MGD CARE | 1983-11-02 |\n",
       "| 6 | JC1001762 | Male   | White | English | 174.00 |  83.90 | MEDICARE                       | 1931-03-28 |\n",
       "\n"
      ],
      "text/plain": [
       "  anon_id   gender race  language recent_height_cm recent_weight_kg\n",
       "1 JC1000116 Female Other Spanish  154.00            73.05          \n",
       "2 JC1000939 Female Other Spanish  154.94           136.80          \n",
       "3 JC1001115 Female White English  157.48            60.60          \n",
       "4 JC1001580 Male   White English  187.96            89.12          \n",
       "5 JC1001688 Male   Asian English  205.74           163.29          \n",
       "6 JC1001762 Male   White English  174.00            83.90          \n",
       "  insurance                      dob       \n",
       "1 HPSM                           1977-01-23\n",
       "2 HPSM                           1971-08-26\n",
       "3 MEDICARE                       1928-11-12\n",
       "4 UNITED HEALTHCARE              1967-03-27\n",
       "5 ALAMEDA ALLIANCE MCAL MGD CARE 1983-11-02\n",
       "6 MEDICARE                       1931-03-28"
      ]
     },
     "metadata": {},
     "output_type": "display_data"
    }
   ],
   "source": [
    "head(demo)"
   ]
  },
  {
   "cell_type": "code",
   "execution_count": 32,
   "metadata": {},
   "outputs": [
    {
     "name": "stderr",
     "output_type": "stream",
     "text": [
      "Joining, by = \"anon_id\"\n",
      "\n"
     ]
    },
    {
     "data": {
      "text/html": [
       "17131"
      ],
      "text/latex": [
       "17131"
      ],
      "text/markdown": [
       "17131"
      ],
      "text/plain": [
       "[1] 17131"
      ]
     },
     "metadata": {},
     "output_type": "display_data"
    },
    {
     "data": {
      "text/plain": [
       "   anon_id          pat_enc_csn_id_coded admit_time_jittered     label       \n",
       " Length:17131       Min.   :1.313e+11    Length:17131        Min.   :0.0000  \n",
       " Class :character   1st Qu.:1.313e+11    Class :character    1st Qu.:0.0000  \n",
       " Mode  :character   Median :1.313e+11    Mode  :character    Median :0.0000  \n",
       "                    Mean   :1.313e+11                        Mean   :0.1388  \n",
       "                    3rd Qu.:1.313e+11                        3rd Qu.:0.0000  \n",
       "                    Max.   :1.313e+11                        Max.   :1.0000  \n",
       "                                                                             \n",
       "   admit_time                     adm_year      adm_month     \n",
       " Min.   :2020-04-01 00:45:00   Min.   :2020   Min.   : 1.000  \n",
       " 1st Qu.:2020-09-04 19:37:00   1st Qu.:2020   1st Qu.: 4.000  \n",
       " Median :2021-01-22 21:46:00   Median :2021   Median : 7.000  \n",
       " Mean   :2021-01-17 13:46:14   Mean   :2021   Mean   : 6.612  \n",
       " 3rd Qu.:2021-06-07 08:53:30   3rd Qu.:2021   3rd Qu.: 9.000  \n",
       " Max.   :2021-09-30 07:00:00   Max.   :2021   Max.   :12.000  \n",
       "                                                              \n",
       " inpatient_data_id_coded      ESI       hosp_admsn_time              \n",
       " Min.   :51823319        Min.   :1.00   Min.   :2020-03-31 16:26:00  \n",
       " 1st Qu.:57106984        1st Qu.:2.00   1st Qu.:2020-09-04 15:18:00  \n",
       " Median :62110309        Median :3.00   Median :2021-01-22 16:05:00  \n",
       " Mean   :62392235        Mean   :2.55   Mean   :2021-01-17 09:34:59  \n",
       " 3rd Qu.:67737331        3rd Qu.:3.00   3rd Qu.:2021-06-07 04:25:30  \n",
       " Max.   :73231043        Max.   :5.00   Max.   :2021-09-30 07:00:00  \n",
       "                         NA's   :98                                  \n",
       "   ed_time_hr         gender                   race            language    \n",
       " Min.   :  0.000   Female:8058   Asian           :2788   English   :13964  \n",
       " 1st Qu.:  2.317   Male  :9073   Black           :1109   Spanish   : 1712  \n",
       " Median :  3.417                 Native American :  64   Mandarin  :  264  \n",
       " Mean   :  4.188                 Other           :4522   Vietnamese:  250  \n",
       " 3rd Qu.:  4.917                 Pacific Islander: 366   Cantonese :  120  \n",
       " Max.   :145.067                 Unknown         :  87   Russian   :   98  \n",
       "                                 White           :8195   (Other)   :  723  \n",
       " recent_height_cm recent_weight_kg       insurance         age        \n",
       " Min.   :113.0    Min.   : 26.76   MEDICARE   :6059   Min.   : 18.00  \n",
       " 1st Qu.:160.0    1st Qu.: 61.23   HPSM       :1280   1st Qu.: 46.00  \n",
       " Median :167.6    Median : 74.00   BLUE CROSS :1239   Median : 62.00  \n",
       " Mean   :168.0    Mean   : 77.21              : 986   Mean   : 59.72  \n",
       " 3rd Qu.:175.3    3rd Qu.: 88.50   MEDI-CAL   : 737   3rd Qu.: 74.00  \n",
       " Max.   :213.4    Max.   :342.46   BLUE SHIELD: 690   Max.   :107.00  \n",
       " NA's   :387      NA's   :30       (Other)    :6140                   "
      ]
     },
     "metadata": {},
     "output_type": "display_data"
    }
   ],
   "source": [
    "# calculate age, only keep patients age >=18, (304 < 18)\n",
    "cohort_age <- left_join(cohort_code, demo) %>%\n",
    "                    mutate(dob = ymd(dob), gender = factor(gender), \n",
    "                           race = factor(race), language = factor(language), insurance = factor(insurance),\n",
    "                           age = round(as.numeric(difftime(ymd_hms(admit_time), dob, units=\"days\")/365),0)) %>%\n",
    "                    filter(age >= 18) %>% select(-dob)\n",
    "nrow(cohort_age) #45796 vs 45794\n",
    "summary(cohort_age)"
   ]
  },
  {
   "cell_type": "code",
   "execution_count": 33,
   "metadata": {},
   "outputs": [
    {
     "data": {
      "text/html": [
       "12993"
      ],
      "text/latex": [
       "12993"
      ],
      "text/markdown": [
       "12993"
      ],
      "text/plain": [
       "[1] 12993"
      ]
     },
     "metadata": {},
     "output_type": "display_data"
    },
    {
     "data": {
      "text/html": [
       "17131"
      ],
      "text/latex": [
       "17131"
      ],
      "text/markdown": [
       "17131"
      ],
      "text/plain": [
       "[1] 17131"
      ]
     },
     "metadata": {},
     "output_type": "display_data"
    },
    {
     "data": {
      "text/html": [
       "<table class=\"dataframe\">\n",
       "<caption>A data.frame: 0 × 18</caption>\n",
       "<thead>\n",
       "\t<tr><th scope=col>anon_id</th><th scope=col>pat_enc_csn_id_coded</th><th scope=col>admit_time_jittered</th><th scope=col>label</th><th scope=col>admit_time</th><th scope=col>adm_year</th><th scope=col>adm_month</th><th scope=col>inpatient_data_id_coded</th><th scope=col>ESI</th><th scope=col>hosp_admsn_time</th><th scope=col>ed_time_hr</th><th scope=col>gender</th><th scope=col>race</th><th scope=col>language</th><th scope=col>recent_height_cm</th><th scope=col>recent_weight_kg</th><th scope=col>insurance</th><th scope=col>age</th></tr>\n",
       "\t<tr><th scope=col>&lt;chr&gt;</th><th scope=col>&lt;dbl&gt;</th><th scope=col>&lt;chr&gt;</th><th scope=col>&lt;int&gt;</th><th scope=col>&lt;dttm&gt;</th><th scope=col>&lt;dbl&gt;</th><th scope=col>&lt;dbl&gt;</th><th scope=col>&lt;dbl&gt;</th><th scope=col>&lt;dbl&gt;</th><th scope=col>&lt;dttm&gt;</th><th scope=col>&lt;dbl&gt;</th><th scope=col>&lt;fct&gt;</th><th scope=col>&lt;fct&gt;</th><th scope=col>&lt;fct&gt;</th><th scope=col>&lt;dbl&gt;</th><th scope=col>&lt;dbl&gt;</th><th scope=col>&lt;fct&gt;</th><th scope=col>&lt;dbl&gt;</th></tr>\n",
       "</thead>\n",
       "<tbody>\n",
       "</tbody>\n",
       "</table>\n"
      ],
      "text/latex": [
       "A data.frame: 0 × 18\n",
       "\\begin{tabular}{llllllllllllllllll}\n",
       " anon\\_id & pat\\_enc\\_csn\\_id\\_coded & admit\\_time\\_jittered & label & admit\\_time & adm\\_year & adm\\_month & inpatient\\_data\\_id\\_coded & ESI & hosp\\_admsn\\_time & ed\\_time\\_hr & gender & race & language & recent\\_height\\_cm & recent\\_weight\\_kg & insurance & age\\\\\n",
       " <chr> & <dbl> & <chr> & <int> & <dttm> & <dbl> & <dbl> & <dbl> & <dbl> & <dttm> & <dbl> & <fct> & <fct> & <fct> & <dbl> & <dbl> & <fct> & <dbl>\\\\\n",
       "\\hline\n",
       "\\end{tabular}\n"
      ],
      "text/markdown": [
       "\n",
       "A data.frame: 0 × 18\n",
       "\n",
       "| anon_id &lt;chr&gt; | pat_enc_csn_id_coded &lt;dbl&gt; | admit_time_jittered &lt;chr&gt; | label &lt;int&gt; | admit_time &lt;dttm&gt; | adm_year &lt;dbl&gt; | adm_month &lt;dbl&gt; | inpatient_data_id_coded &lt;dbl&gt; | ESI &lt;dbl&gt; | hosp_admsn_time &lt;dttm&gt; | ed_time_hr &lt;dbl&gt; | gender &lt;fct&gt; | race &lt;fct&gt; | language &lt;fct&gt; | recent_height_cm &lt;dbl&gt; | recent_weight_kg &lt;dbl&gt; | insurance &lt;fct&gt; | age &lt;dbl&gt; |\n",
       "|---|---|---|---|---|---|---|---|---|---|---|---|---|---|---|---|---|---|\n",
       "\n"
      ],
      "text/plain": [
       "     anon_id pat_enc_csn_id_coded admit_time_jittered label admit_time adm_year\n",
       "     adm_month inpatient_data_id_coded ESI hosp_admsn_time ed_time_hr gender\n",
       "     race language recent_height_cm recent_weight_kg insurance age"
      ]
     },
     "metadata": {},
     "output_type": "display_data"
    }
   ],
   "source": [
    "# checking duplicates\n",
    "nrow(cohort_age %>% select(anon_id) %>% distinct()) # 31513 vs 31511\n",
    "nrow(cohort_age %>% select(anon_id, pat_enc_csn_id_coded) %>% distinct()) # 45796 vs 45794\n",
    "cohort_age[duplicated(cohort_age[, c('anon_id','pat_enc_csn_id_coded')]),]\n",
    "\n",
    "# cohort_demo %>% filter(anon_id == \"JCd49287\") # pat_enc_csn_id_coded = 131195706986, \n",
    "# cohort_demo <- cohort_demo %>% filter (!(anon_id == \"JCd49287\" & race == \"Unknown\"))"
   ]
  },
  {
   "cell_type": "code",
   "execution_count": 34,
   "metadata": {},
   "outputs": [
    {
     "data": {
      "text/plain": [
       "      ESI          gender                   race      recent_height_cm\n",
       " Min.   :1.00   Female:8058   Asian           :2788   Min.   :113.0   \n",
       " 1st Qu.:2.00   Male  :9073   Black           :1109   1st Qu.:160.0   \n",
       " Median :3.00                 Native American :  64   Median :167.6   \n",
       " Mean   :2.55                 Other           :4522   Mean   :168.0   \n",
       " 3rd Qu.:3.00                 Pacific Islander: 366   3rd Qu.:175.3   \n",
       " Max.   :5.00                 Unknown         :  87   Max.   :213.4   \n",
       " NA's   :98                   White           :8195   NA's   :387     \n",
       " recent_weight_kg      age        \n",
       " Min.   : 26.76   Min.   : 18.00  \n",
       " 1st Qu.: 61.23   1st Qu.: 46.00  \n",
       " Median : 74.00   Median : 62.00  \n",
       " Mean   : 77.21   Mean   : 59.72  \n",
       " 3rd Qu.: 88.50   3rd Qu.: 74.00  \n",
       " Max.   :342.46   Max.   :107.00  \n",
       " NA's   :30                       "
      ]
     },
     "metadata": {},
     "output_type": "display_data"
    },
    {
     "name": "stderr",
     "output_type": "stream",
     "text": [
      "Warning message:\n",
      "“attributes are not identical across measure variables;\n",
      "they will be dropped”\n"
     ]
    },
    {
     "data": {
      "text/html": [
       "<table class=\"dataframe\">\n",
       "<caption>A data.frame: 18 × 2</caption>\n",
       "<thead>\n",
       "\t<tr><th scope=col>var</th><th scope=col>n</th></tr>\n",
       "\t<tr><th scope=col>&lt;chr&gt;</th><th scope=col>&lt;int&gt;</th></tr>\n",
       "</thead>\n",
       "<tbody>\n",
       "\t<tr><td>adm_year               </td><td>    2</td></tr>\n",
       "\t<tr><td>gender                 </td><td>    2</td></tr>\n",
       "\t<tr><td>label                  </td><td>    2</td></tr>\n",
       "\t<tr><td>ESI                    </td><td>    6</td></tr>\n",
       "\t<tr><td>race                   </td><td>    7</td></tr>\n",
       "\t<tr><td>adm_month              </td><td>   12</td></tr>\n",
       "\t<tr><td>language               </td><td>   47</td></tr>\n",
       "\t<tr><td>age                    </td><td>   87</td></tr>\n",
       "\t<tr><td>insurance              </td><td>   91</td></tr>\n",
       "\t<tr><td>recent_height_cm       </td><td>  573</td></tr>\n",
       "\t<tr><td>ed_time_hr             </td><td>  962</td></tr>\n",
       "\t<tr><td>recent_weight_kg       </td><td> 2483</td></tr>\n",
       "\t<tr><td>anon_id                </td><td>12993</td></tr>\n",
       "\t<tr><td>admit_time             </td><td>16867</td></tr>\n",
       "\t<tr><td>admit_time_jittered    </td><td>16867</td></tr>\n",
       "\t<tr><td>hosp_admsn_time        </td><td>16891</td></tr>\n",
       "\t<tr><td>inpatient_data_id_coded</td><td>17131</td></tr>\n",
       "\t<tr><td>pat_enc_csn_id_coded   </td><td>17131</td></tr>\n",
       "</tbody>\n",
       "</table>\n"
      ],
      "text/latex": [
       "A data.frame: 18 × 2\n",
       "\\begin{tabular}{ll}\n",
       " var & n\\\\\n",
       " <chr> & <int>\\\\\n",
       "\\hline\n",
       "\t adm\\_year                &     2\\\\\n",
       "\t gender                  &     2\\\\\n",
       "\t label                   &     2\\\\\n",
       "\t ESI                     &     6\\\\\n",
       "\t race                    &     7\\\\\n",
       "\t adm\\_month               &    12\\\\\n",
       "\t language                &    47\\\\\n",
       "\t age                     &    87\\\\\n",
       "\t insurance               &    91\\\\\n",
       "\t recent\\_height\\_cm        &   573\\\\\n",
       "\t ed\\_time\\_hr              &   962\\\\\n",
       "\t recent\\_weight\\_kg        &  2483\\\\\n",
       "\t anon\\_id                 & 12993\\\\\n",
       "\t admit\\_time              & 16867\\\\\n",
       "\t admit\\_time\\_jittered     & 16867\\\\\n",
       "\t hosp\\_admsn\\_time         & 16891\\\\\n",
       "\t inpatient\\_data\\_id\\_coded & 17131\\\\\n",
       "\t pat\\_enc\\_csn\\_id\\_coded    & 17131\\\\\n",
       "\\end{tabular}\n"
      ],
      "text/markdown": [
       "\n",
       "A data.frame: 18 × 2\n",
       "\n",
       "| var &lt;chr&gt; | n &lt;int&gt; |\n",
       "|---|---|\n",
       "| adm_year                |     2 |\n",
       "| gender                  |     2 |\n",
       "| label                   |     2 |\n",
       "| ESI                     |     6 |\n",
       "| race                    |     7 |\n",
       "| adm_month               |    12 |\n",
       "| language                |    47 |\n",
       "| age                     |    87 |\n",
       "| insurance               |    91 |\n",
       "| recent_height_cm        |   573 |\n",
       "| ed_time_hr              |   962 |\n",
       "| recent_weight_kg        |  2483 |\n",
       "| anon_id                 | 12993 |\n",
       "| admit_time              | 16867 |\n",
       "| admit_time_jittered     | 16867 |\n",
       "| hosp_admsn_time         | 16891 |\n",
       "| inpatient_data_id_coded | 17131 |\n",
       "| pat_enc_csn_id_coded    | 17131 |\n",
       "\n"
      ],
      "text/plain": [
       "   var                     n    \n",
       "1  adm_year                    2\n",
       "2  gender                      2\n",
       "3  label                       2\n",
       "4  ESI                         6\n",
       "5  race                        7\n",
       "6  adm_month                  12\n",
       "7  language                   47\n",
       "8  age                        87\n",
       "9  insurance                  91\n",
       "10 recent_height_cm          573\n",
       "11 ed_time_hr                962\n",
       "12 recent_weight_kg         2483\n",
       "13 anon_id                 12993\n",
       "14 admit_time              16867\n",
       "15 admit_time_jittered     16867\n",
       "16 hosp_admsn_time         16891\n",
       "17 inpatient_data_id_coded 17131\n",
       "18 pat_enc_csn_id_coded    17131"
      ]
     },
     "metadata": {},
     "output_type": "display_data"
    },
    {
     "name": "stderr",
     "output_type": "stream",
     "text": [
      "Warning message:\n",
      "“`summarise_each_()` was deprecated in dplyr 0.7.0.\n",
      "Please use `across()` instead.\n",
      "\u001b[90mThis warning is displayed once every 8 hours.\u001b[39m\n",
      "\u001b[90mCall `lifecycle::last_warnings()` to see where this warning was generated.\u001b[39m”\n",
      "Warning message:\n",
      "“`funs()` was deprecated in dplyr 0.8.0.\n",
      "Please use a list of either functions or lambdas: \n",
      "\n",
      "  # Simple named list: \n",
      "  list(mean = mean, median = median)\n",
      "\n",
      "  # Auto named with `tibble::lst()`: \n",
      "  tibble::lst(mean, median)\n",
      "\n",
      "  # Using lambdas\n",
      "  list(~ mean(., trim = .2), ~ median(., na.rm = TRUE))\n",
      "\u001b[90mThis warning is displayed once every 8 hours.\u001b[39m\n",
      "\u001b[90mCall `lifecycle::last_warnings()` to see where this warning was generated.\u001b[39m”\n"
     ]
    },
    {
     "data": {
      "text/html": [
       "<table class=\"dataframe\">\n",
       "<caption>A data.frame: 1 × 18</caption>\n",
       "<thead>\n",
       "\t<tr><th scope=col>anon_id</th><th scope=col>pat_enc_csn_id_coded</th><th scope=col>admit_time_jittered</th><th scope=col>label</th><th scope=col>admit_time</th><th scope=col>adm_year</th><th scope=col>adm_month</th><th scope=col>inpatient_data_id_coded</th><th scope=col>ESI</th><th scope=col>hosp_admsn_time</th><th scope=col>ed_time_hr</th><th scope=col>gender</th><th scope=col>race</th><th scope=col>language</th><th scope=col>recent_height_cm</th><th scope=col>recent_weight_kg</th><th scope=col>insurance</th><th scope=col>age</th></tr>\n",
       "\t<tr><th scope=col>&lt;int&gt;</th><th scope=col>&lt;int&gt;</th><th scope=col>&lt;int&gt;</th><th scope=col>&lt;int&gt;</th><th scope=col>&lt;int&gt;</th><th scope=col>&lt;int&gt;</th><th scope=col>&lt;int&gt;</th><th scope=col>&lt;int&gt;</th><th scope=col>&lt;int&gt;</th><th scope=col>&lt;int&gt;</th><th scope=col>&lt;int&gt;</th><th scope=col>&lt;int&gt;</th><th scope=col>&lt;int&gt;</th><th scope=col>&lt;int&gt;</th><th scope=col>&lt;int&gt;</th><th scope=col>&lt;int&gt;</th><th scope=col>&lt;int&gt;</th><th scope=col>&lt;int&gt;</th></tr>\n",
       "</thead>\n",
       "<tbody>\n",
       "\t<tr><td>12993</td><td>17131</td><td>16867</td><td>2</td><td>16867</td><td>2</td><td>12</td><td>17131</td><td>6</td><td>16891</td><td>962</td><td>2</td><td>7</td><td>47</td><td>573</td><td>2483</td><td>91</td><td>87</td></tr>\n",
       "</tbody>\n",
       "</table>\n"
      ],
      "text/latex": [
       "A data.frame: 1 × 18\n",
       "\\begin{tabular}{llllllllllllllllll}\n",
       " anon\\_id & pat\\_enc\\_csn\\_id\\_coded & admit\\_time\\_jittered & label & admit\\_time & adm\\_year & adm\\_month & inpatient\\_data\\_id\\_coded & ESI & hosp\\_admsn\\_time & ed\\_time\\_hr & gender & race & language & recent\\_height\\_cm & recent\\_weight\\_kg & insurance & age\\\\\n",
       " <int> & <int> & <int> & <int> & <int> & <int> & <int> & <int> & <int> & <int> & <int> & <int> & <int> & <int> & <int> & <int> & <int> & <int>\\\\\n",
       "\\hline\n",
       "\t 12993 & 17131 & 16867 & 2 & 16867 & 2 & 12 & 17131 & 6 & 16891 & 962 & 2 & 7 & 47 & 573 & 2483 & 91 & 87\\\\\n",
       "\\end{tabular}\n"
      ],
      "text/markdown": [
       "\n",
       "A data.frame: 1 × 18\n",
       "\n",
       "| anon_id &lt;int&gt; | pat_enc_csn_id_coded &lt;int&gt; | admit_time_jittered &lt;int&gt; | label &lt;int&gt; | admit_time &lt;int&gt; | adm_year &lt;int&gt; | adm_month &lt;int&gt; | inpatient_data_id_coded &lt;int&gt; | ESI &lt;int&gt; | hosp_admsn_time &lt;int&gt; | ed_time_hr &lt;int&gt; | gender &lt;int&gt; | race &lt;int&gt; | language &lt;int&gt; | recent_height_cm &lt;int&gt; | recent_weight_kg &lt;int&gt; | insurance &lt;int&gt; | age &lt;int&gt; |\n",
       "|---|---|---|---|---|---|---|---|---|---|---|---|---|---|---|---|---|---|\n",
       "| 12993 | 17131 | 16867 | 2 | 16867 | 2 | 12 | 17131 | 6 | 16891 | 962 | 2 | 7 | 47 | 573 | 2483 | 91 | 87 |\n",
       "\n"
      ],
      "text/plain": [
       "  anon_id pat_enc_csn_id_coded admit_time_jittered label admit_time adm_year\n",
       "1 12993   17131                16867               2     16867      2       \n",
       "  adm_month inpatient_data_id_coded ESI hosp_admsn_time ed_time_hr gender race\n",
       "1 12        17131                   6   16891           962        2      7   \n",
       "  language recent_height_cm recent_weight_kg insurance age\n",
       "1 47       573              2483             91        87 "
      ]
     },
     "metadata": {},
     "output_type": "display_data"
    }
   ],
   "source": [
    "summary(cohort_age %>% select(ESI, gender, race, recent_height_cm, recent_weight_kg, age))\n",
    "cohort_age %>% gather(var, value) %>% distinct() %>% count(var) %>% arrange(n)\n",
    "cohort_age %>% summarise_each(funs(n_distinct))\n",
    "# cohort_demo %>% summarise(across(all_of(.), count))"
   ]
  },
  {
   "cell_type": "code",
   "execution_count": 35,
   "metadata": {},
   "outputs": [
    {
     "data": {
      "text/plain": [
       "   Min. 1st Qu.  Median    Mean 3rd Qu.    Max. \n",
       "  18.00   46.00   62.00   59.72   74.00  107.00 "
      ]
     },
     "metadata": {},
     "output_type": "display_data"
    },
    {
     "data": {
      "image/png": "[encoded data removed]",
      "text/plain": [
       "Plot with title “Histogram of cohort_age$age”"
      ]
     },
     "metadata": {
      "image/png": {
       "height": 420,
       "width": 420
      }
     },
     "output_type": "display_data"
    }
   ],
   "source": [
    "summary(cohort_age$age)\n",
    "hist(cohort_age$age, breaks=100, col=\"dodgerblue\")"
   ]
  },
  {
   "cell_type": "code",
   "execution_count": 39,
   "metadata": {},
   "outputs": [],
   "source": [
    "# this is the updated cohort meeting encounter/codestatus/age criteria\n",
    "# save to 6_validation folder\n",
    "write.csv(cohort_age, file = file.path(valdir, \"6_2_cohort.csv\"), row.names=FALSE)"
   ]
  },
  {
   "cell_type": "code",
   "execution_count": 38,
   "metadata": {},
   "outputs": [
    {
     "data": {
      "text/html": [
       "<table class=\"dataframe\">\n",
       "<caption>A data.frame: 6 × 18</caption>\n",
       "<thead>\n",
       "\t<tr><th></th><th scope=col>anon_id</th><th scope=col>pat_enc_csn_id_coded</th><th scope=col>admit_time_jittered</th><th scope=col>label</th><th scope=col>admit_time</th><th scope=col>adm_year</th><th scope=col>adm_month</th><th scope=col>inpatient_data_id_coded</th><th scope=col>ESI</th><th scope=col>hosp_admsn_time</th><th scope=col>ed_time_hr</th><th scope=col>gender</th><th scope=col>race</th><th scope=col>language</th><th scope=col>recent_height_cm</th><th scope=col>recent_weight_kg</th><th scope=col>insurance</th><th scope=col>age</th></tr>\n",
       "\t<tr><th></th><th scope=col>&lt;chr&gt;</th><th scope=col>&lt;dbl&gt;</th><th scope=col>&lt;chr&gt;</th><th scope=col>&lt;int&gt;</th><th scope=col>&lt;dttm&gt;</th><th scope=col>&lt;dbl&gt;</th><th scope=col>&lt;dbl&gt;</th><th scope=col>&lt;dbl&gt;</th><th scope=col>&lt;dbl&gt;</th><th scope=col>&lt;dttm&gt;</th><th scope=col>&lt;dbl&gt;</th><th scope=col>&lt;fct&gt;</th><th scope=col>&lt;fct&gt;</th><th scope=col>&lt;fct&gt;</th><th scope=col>&lt;dbl&gt;</th><th scope=col>&lt;dbl&gt;</th><th scope=col>&lt;fct&gt;</th><th scope=col>&lt;dbl&gt;</th></tr>\n",
       "</thead>\n",
       "<tbody>\n",
       "\t<tr><th scope=row>1</th><td>JC1000116</td><td>131295313275</td><td>2020-09-29 22:45:00+00:00</td><td>0</td><td>2020-09-29 22:45:00</td><td>2020</td><td> 9</td><td>57868578</td><td>3</td><td>2020-09-29 16:02:00</td><td>6.716667</td><td>Female</td><td>Other</td><td>Spanish</td><td>154.00</td><td> 73.05</td><td>HPSM                          </td><td>44</td></tr>\n",
       "\t<tr><th scope=row>2</th><td>JC1000939</td><td>131295018112</td><td>2020-08-22 11:41:00+00:00</td><td>1</td><td>2020-08-22 11:41:00</td><td>2020</td><td> 8</td><td>57698292</td><td>2</td><td>2020-08-22 07:47:00</td><td>3.900000</td><td>Female</td><td>Other</td><td>Spanish</td><td>154.94</td><td>136.80</td><td>HPSM                          </td><td>49</td></tr>\n",
       "\t<tr><th scope=row>3</th><td>JC1001580</td><td>131300665918</td><td>2020-12-29 04:15:00+00:00</td><td>0</td><td>2020-12-29 04:15:00</td><td>2020</td><td>12</td><td>61108864</td><td>3</td><td>2020-12-29 02:58:00</td><td>1.283333</td><td>Male  </td><td>White</td><td>English</td><td>187.96</td><td> 89.12</td><td>UNITED HEALTHCARE             </td><td>54</td></tr>\n",
       "\t<tr><th scope=row>4</th><td>JC1001688</td><td>131288774622</td><td>2020-06-19 21:36:00+00:00</td><td>0</td><td>2020-06-19 21:36:00</td><td>2020</td><td> 6</td><td>53810016</td><td>3</td><td>2020-06-19 19:45:00</td><td>1.850000</td><td>Male  </td><td>Asian</td><td>English</td><td>205.74</td><td>163.29</td><td>ALAMEDA ALLIANCE MCAL MGD CARE</td><td>37</td></tr>\n",
       "\t<tr><th scope=row>5</th><td>JC1001688</td><td>131302440087</td><td>2021-02-26 11:46:00+00:00</td><td>0</td><td>2021-02-26 11:46:00</td><td>2021</td><td> 2</td><td>62198093</td><td>3</td><td>2021-02-26 09:12:00</td><td>2.566667</td><td>Male  </td><td>Asian</td><td>English</td><td>205.74</td><td>163.29</td><td>ALAMEDA ALLIANCE MCAL MGD CARE</td><td>37</td></tr>\n",
       "\t<tr><th scope=row>6</th><td>JC1001842</td><td>131305861173</td><td>2021-02-23 08:08:00+00:00</td><td>0</td><td>2021-02-23 08:08:00</td><td>2021</td><td> 2</td><td>64314745</td><td>3</td><td>2021-02-23 05:08:00</td><td>3.000000</td><td>Male  </td><td>Other</td><td>English</td><td>170.18</td><td> 63.50</td><td>HPSM                          </td><td>20</td></tr>\n",
       "</tbody>\n",
       "</table>\n"
      ],
      "text/latex": [
       "A data.frame: 6 × 18\n",
       "\\begin{tabular}{r|llllllllllllllllll}\n",
       "  & anon\\_id & pat\\_enc\\_csn\\_id\\_coded & admit\\_time\\_jittered & label & admit\\_time & adm\\_year & adm\\_month & inpatient\\_data\\_id\\_coded & ESI & hosp\\_admsn\\_time & ed\\_time\\_hr & gender & race & language & recent\\_height\\_cm & recent\\_weight\\_kg & insurance & age\\\\\n",
       "  & <chr> & <dbl> & <chr> & <int> & <dttm> & <dbl> & <dbl> & <dbl> & <dbl> & <dttm> & <dbl> & <fct> & <fct> & <fct> & <dbl> & <dbl> & <fct> & <dbl>\\\\\n",
       "\\hline\n",
       "\t1 & JC1000116 & 131295313275 & 2020-09-29 22:45:00+00:00 & 0 & 2020-09-29 22:45:00 & 2020 &  9 & 57868578 & 3 & 2020-09-29 16:02:00 & 6.716667 & Female & Other & Spanish & 154.00 &  73.05 & HPSM                           & 44\\\\\n",
       "\t2 & JC1000939 & 131295018112 & 2020-08-22 11:41:00+00:00 & 1 & 2020-08-22 11:41:00 & 2020 &  8 & 57698292 & 2 & 2020-08-22 07:47:00 & 3.900000 & Female & Other & Spanish & 154.94 & 136.80 & HPSM                           & 49\\\\\n",
       "\t3 & JC1001580 & 131300665918 & 2020-12-29 04:15:00+00:00 & 0 & 2020-12-29 04:15:00 & 2020 & 12 & 61108864 & 3 & 2020-12-29 02:58:00 & 1.283333 & Male   & White & English & 187.96 &  89.12 & UNITED HEALTHCARE              & 54\\\\\n",
       "\t4 & JC1001688 & 131288774622 & 2020-06-19 21:36:00+00:00 & 0 & 2020-06-19 21:36:00 & 2020 &  6 & 53810016 & 3 & 2020-06-19 19:45:00 & 1.850000 & Male   & Asian & English & 205.74 & 163.29 & ALAMEDA ALLIANCE MCAL MGD CARE & 37\\\\\n",
       "\t5 & JC1001688 & 131302440087 & 2021-02-26 11:46:00+00:00 & 0 & 2021-02-26 11:46:00 & 2021 &  2 & 62198093 & 3 & 2021-02-26 09:12:00 & 2.566667 & Male   & Asian & English & 205.74 & 163.29 & ALAMEDA ALLIANCE MCAL MGD CARE & 37\\\\\n",
       "\t6 & JC1001842 & 131305861173 & 2021-02-23 08:08:00+00:00 & 0 & 2021-02-23 08:08:00 & 2021 &  2 & 64314745 & 3 & 2021-02-23 05:08:00 & 3.000000 & Male   & Other & English & 170.18 &  63.50 & HPSM                           & 20\\\\\n",
       "\\end{tabular}\n"
      ],
      "text/markdown": [
       "\n",
       "A data.frame: 6 × 18\n",
       "\n",
       "| <!--/--> | anon_id &lt;chr&gt; | pat_enc_csn_id_coded &lt;dbl&gt; | admit_time_jittered &lt;chr&gt; | label &lt;int&gt; | admit_time &lt;dttm&gt; | adm_year &lt;dbl&gt; | adm_month &lt;dbl&gt; | inpatient_data_id_coded &lt;dbl&gt; | ESI &lt;dbl&gt; | hosp_admsn_time &lt;dttm&gt; | ed_time_hr &lt;dbl&gt; | gender &lt;fct&gt; | race &lt;fct&gt; | language &lt;fct&gt; | recent_height_cm &lt;dbl&gt; | recent_weight_kg &lt;dbl&gt; | insurance &lt;fct&gt; | age &lt;dbl&gt; |\n",
       "|---|---|---|---|---|---|---|---|---|---|---|---|---|---|---|---|---|---|---|\n",
       "| 1 | JC1000116 | 131295313275 | 2020-09-29 22:45:00+00:00 | 0 | 2020-09-29 22:45:00 | 2020 |  9 | 57868578 | 3 | 2020-09-29 16:02:00 | 6.716667 | Female | Other | Spanish | 154.00 |  73.05 | HPSM                           | 44 |\n",
       "| 2 | JC1000939 | 131295018112 | 2020-08-22 11:41:00+00:00 | 1 | 2020-08-22 11:41:00 | 2020 |  8 | 57698292 | 2 | 2020-08-22 07:47:00 | 3.900000 | Female | Other | Spanish | 154.94 | 136.80 | HPSM                           | 49 |\n",
       "| 3 | JC1001580 | 131300665918 | 2020-12-29 04:15:00+00:00 | 0 | 2020-12-29 04:15:00 | 2020 | 12 | 61108864 | 3 | 2020-12-29 02:58:00 | 1.283333 | Male   | White | English | 187.96 |  89.12 | UNITED HEALTHCARE              | 54 |\n",
       "| 4 | JC1001688 | 131288774622 | 2020-06-19 21:36:00+00:00 | 0 | 2020-06-19 21:36:00 | 2020 |  6 | 53810016 | 3 | 2020-06-19 19:45:00 | 1.850000 | Male   | Asian | English | 205.74 | 163.29 | ALAMEDA ALLIANCE MCAL MGD CARE | 37 |\n",
       "| 5 | JC1001688 | 131302440087 | 2021-02-26 11:46:00+00:00 | 0 | 2021-02-26 11:46:00 | 2021 |  2 | 62198093 | 3 | 2021-02-26 09:12:00 | 2.566667 | Male   | Asian | English | 205.74 | 163.29 | ALAMEDA ALLIANCE MCAL MGD CARE | 37 |\n",
       "| 6 | JC1001842 | 131305861173 | 2021-02-23 08:08:00+00:00 | 0 | 2021-02-23 08:08:00 | 2021 |  2 | 64314745 | 3 | 2021-02-23 05:08:00 | 3.000000 | Male   | Other | English | 170.18 |  63.50 | HPSM                           | 20 |\n",
       "\n"
      ],
      "text/plain": [
       "  anon_id   pat_enc_csn_id_coded admit_time_jittered       label\n",
       "1 JC1000116 131295313275         2020-09-29 22:45:00+00:00 0    \n",
       "2 JC1000939 131295018112         2020-08-22 11:41:00+00:00 1    \n",
       "3 JC1001580 131300665918         2020-12-29 04:15:00+00:00 0    \n",
       "4 JC1001688 131288774622         2020-06-19 21:36:00+00:00 0    \n",
       "5 JC1001688 131302440087         2021-02-26 11:46:00+00:00 0    \n",
       "6 JC1001842 131305861173         2021-02-23 08:08:00+00:00 0    \n",
       "  admit_time          adm_year adm_month inpatient_data_id_coded ESI\n",
       "1 2020-09-29 22:45:00 2020      9        57868578                3  \n",
       "2 2020-08-22 11:41:00 2020      8        57698292                2  \n",
       "3 2020-12-29 04:15:00 2020     12        61108864                3  \n",
       "4 2020-06-19 21:36:00 2020      6        53810016                3  \n",
       "5 2021-02-26 11:46:00 2021      2        62198093                3  \n",
       "6 2021-02-23 08:08:00 2021      2        64314745                3  \n",
       "  hosp_admsn_time     ed_time_hr gender race  language recent_height_cm\n",
       "1 2020-09-29 16:02:00 6.716667   Female Other Spanish  154.00          \n",
       "2 2020-08-22 07:47:00 3.900000   Female Other Spanish  154.94          \n",
       "3 2020-12-29 02:58:00 1.283333   Male   White English  187.96          \n",
       "4 2020-06-19 19:45:00 1.850000   Male   Asian English  205.74          \n",
       "5 2021-02-26 09:12:00 2.566667   Male   Asian English  205.74          \n",
       "6 2021-02-23 05:08:00 3.000000   Male   Other English  170.18          \n",
       "  recent_weight_kg insurance                      age\n",
       "1  73.05           HPSM                           44 \n",
       "2 136.80           HPSM                           49 \n",
       "3  89.12           UNITED HEALTHCARE              54 \n",
       "4 163.29           ALAMEDA ALLIANCE MCAL MGD CARE 37 \n",
       "5 163.29           ALAMEDA ALLIANCE MCAL MGD CARE 37 \n",
       "6  63.50           HPSM                           20 "
      ]
     },
     "metadata": {},
     "output_type": "display_data"
    }
   ],
   "source": [
    "head(cohort_age)"
   ]
  },
  {
   "cell_type": "code",
   "execution_count": null,
   "metadata": {},
   "outputs": [],
   "source": []
  }
 ],
 "metadata": {
  "environment": {
   "name": "r-cpu.4-0.m71",
   "type": "gcloud",
   "uri": "gcr.io/deeplearning-platform-release/r-cpu.4-0:m71"
  },
  "kernelspec": {
   "display_name": "R",
   "language": "R",
   "name": "ir"
  },
  "language_info": {
   "codemirror_mode": "r",
   "file_extension": ".r",
   "mimetype": "text/x-r-source",
   "name": "R",
   "pygments_lexer": "r",
   "version": "4.1.0"
  },
  "toc": {
   "base_numbering": 1,
   "nav_menu": {},
   "number_sections": true,
   "sideBar": true,
   "skip_h1_title": false,
   "title_cell": "Table of Contents",
   "title_sidebar": "Contents",
   "toc_cell": false,
   "toc_position": {},
   "toc_section_display": true,
   "toc_window_display": false
  },
  "varInspector": {
   "cols": {
    "lenName": 16,
    "lenType": 16,
    "lenVar": 40
   },
   "kernels_config": {
    "python": {
     "delete_cmd_postfix": "",
     "delete_cmd_prefix": "del ",
     "library": "var_list.py",
     "varRefreshCmd": "print(var_dic_list())"
    },
    "r": {
     "delete_cmd_postfix": ") ",
     "delete_cmd_prefix": "rm(",
     "library": "var_list.r",
     "varRefreshCmd": "cat(var_dic_list()) "
    }
   },
   "types_to_exclude": [
    "module",
    "function",
    "builtin_function_or_method",
    "instance",
    "_Feature"
   ],
   "window_display": false
  }
 },
 "nbformat": 4,
 "nbformat_minor": 4
}
