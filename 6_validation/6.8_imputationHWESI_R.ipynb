{
 "cells": [
  {
   "cell_type": "markdown",
   "metadata": {},
   "source": [
    "## Descriptions:\n",
    "Imputation of missing ESI and HW - should use a fuller cohort (see changes)\n",
    "- Impute HW using some demographics variables (use *cohort2*, old - more data for HW)\n",
    "- Impute ESI, use cohort3 to get the 1st set of VS \n",
    "- One-hot encoding for race and gender\n",
    "- To be combined with all other vital related information to form the simple dataset\n",
    "\n",
    "**Changes:**\n",
    "- Move this after getting the full complete cohort of old and new data to have more data points for imputation.\n",
    "- Since we added more new data, the imputation is done with cohort3 (has vitals) and finalized with `cohort4_all` \n",
    "- Overlapped CSNs were already removed from cohort3. Cohort4 is still good. However,\n",
    "- Demographics/HW data still contain a few overlapped CSNs. This is due to cohort2 was used to get demo/HW data. \n",
    "- Remove the overlapped CSNs from new cohort4 in cohort2 demo/HW when merging with the old demo/HW data to prevent further issues. This is better done by filter the CSNs when reading in the files\n",
    "\n",
    "**Inputs**:  \n",
    "- `2_2_coh2_demoHW` from cohort2, old data; contains all processed variables in demographics (including ESI) and height and weight\n",
    "- `6_4_coh2_demoHW` new data, contains all processed variables in demographics (including ESI) and height and weight\n",
    "- `1_3_cohort` cohort3, old data; contains the first complete set of vital signs -- needs this for vs values for ESI imputation\n",
    "- `6_5_cohort3` new data, contains the first complete set of vital signs -- needs this for vs values for ESI imputation\n",
    "- `6_7_0_cohort4` csns from new data only without overlapping\n",
    "- `6_7_cohort4_all` csns from both old and new data\n",
    "\n",
    "**Outputs**: \n",
    "- `6_8_coh4_all_imputedHWESI` - name change for cohort used"
   ]
  },
  {
   "cell_type": "markdown",
   "metadata": {},
   "source": [
    "### Importing R libraries"
   ]
  },
  {
   "cell_type": "code",
   "execution_count": 8,
   "metadata": {},
   "outputs": [
    {
     "name": "stderr",
     "output_type": "stream",
     "text": [
      "Installing package into 'C:/Users/User/Documents/R/win-library/4.0'\n",
      "(as 'lib' is unspecified)\n",
      "\n",
      "also installing the dependencies 'DEoptimR', 'lmtest', 'robustbase', 'vcd', 'laeken', 'ranger'\n",
      "\n",
      "\n"
     ]
    },
    {
     "name": "stdout",
     "output_type": "stream",
     "text": [
      "package 'DEoptimR' successfully unpacked and MD5 sums checked\n",
      "package 'lmtest' successfully unpacked and MD5 sums checked\n",
      "package 'robustbase' successfully unpacked and MD5 sums checked\n",
      "package 'vcd' successfully unpacked and MD5 sums checked\n",
      "package 'laeken' successfully unpacked and MD5 sums checked\n",
      "package 'ranger' successfully unpacked and MD5 sums checked\n",
      "package 'VIM' successfully unpacked and MD5 sums checked\n",
      "\n",
      "The downloaded binary packages are in\n",
      "\tC:\\Users\\User\\AppData\\Local\\Temp\\RtmpsbrDsE\\downloaded_packages\n"
     ]
    }
   ],
   "source": [
    "# install.packages('VIM')"
   ]
  },
  {
   "cell_type": "code",
   "execution_count": 1,
   "metadata": {
    "ExecuteTime": {
     "end_time": "2020-05-21T00:38:06.078240Z",
     "start_time": "2020-05-21T00:38:02.778Z"
    }
   },
   "outputs": [
    {
     "name": "stderr",
     "output_type": "stream",
     "text": [
      "── \u001b[1mAttaching packages\u001b[22m ─────────────────────────────────────── tidyverse 1.3.1 ──\n",
      "\n",
      "\u001b[32m✔\u001b[39m \u001b[34mggplot2\u001b[39m 3.3.3     \u001b[32m✔\u001b[39m \u001b[34mpurrr  \u001b[39m 0.3.4\n",
      "\u001b[32m✔\u001b[39m \u001b[34mtibble \u001b[39m 3.1.2     \u001b[32m✔\u001b[39m \u001b[34mdplyr  \u001b[39m 1.0.6\n",
      "\u001b[32m✔\u001b[39m \u001b[34mtidyr  \u001b[39m 1.1.3     \u001b[32m✔\u001b[39m \u001b[34mstringr\u001b[39m 1.4.0\n",
      "\u001b[32m✔\u001b[39m \u001b[34mreadr  \u001b[39m 1.4.0     \u001b[32m✔\u001b[39m \u001b[34mforcats\u001b[39m 0.5.1\n",
      "\n",
      "── \u001b[1mConflicts\u001b[22m ────────────────────────────────────────── tidyverse_conflicts() ──\n",
      "\u001b[31m✖\u001b[39m \u001b[34mdplyr\u001b[39m::\u001b[32mfilter()\u001b[39m masks \u001b[34mstats\u001b[39m::filter()\n",
      "\u001b[31m✖\u001b[39m \u001b[34mdplyr\u001b[39m::\u001b[32mlag()\u001b[39m    masks \u001b[34mstats\u001b[39m::lag()\n",
      "\n",
      "\n",
      "Attaching package: ‘lubridate’\n",
      "\n",
      "\n",
      "The following objects are masked from ‘package:base’:\n",
      "\n",
      "    date, intersect, setdiff, union\n",
      "\n",
      "\n",
      "\n",
      "Attaching package: ‘mice’\n",
      "\n",
      "\n",
      "The following object is masked from ‘package:stats’:\n",
      "\n",
      "    filter\n",
      "\n",
      "\n",
      "The following objects are masked from ‘package:base’:\n",
      "\n",
      "    cbind, rbind\n",
      "\n",
      "\n",
      "Loading required package: colorspace\n",
      "\n",
      "Loading required package: grid\n",
      "\n",
      "VIM is ready to use.\n",
      "\n",
      "\n",
      "Suggestions and bug-reports can be submitted at: https://github.com/statistikat/VIM/issues\n",
      "\n",
      "\n",
      "Attaching package: ‘VIM’\n",
      "\n",
      "\n",
      "The following object is masked from ‘package:datasets’:\n",
      "\n",
      "    sleep\n",
      "\n",
      "\n",
      "Loading required package: lattice\n",
      "\n",
      "\n",
      "Attaching package: ‘caret’\n",
      "\n",
      "\n",
      "The following object is masked from ‘package:purrr’:\n",
      "\n",
      "    lift\n",
      "\n",
      "\n"
     ]
    }
   ],
   "source": [
    "library(bigrquery)  # to query STARR-OMOP (stored in BigQuery) using SQL\n",
    "library(tidyverse)\n",
    "library(lubridate)\n",
    "library(mice)\n",
    "library(VIM) # for missing data plot\n",
    "\n",
    "# library(data.table)\n",
    "# library(Matrix)\n",
    "library(caret) # import this before glmnet to avoid rlang version problem\n",
    "# library(glmnet)\n",
    "# library(bit64)\n",
    "\n",
    "# library(slam)\n",
    "# library(mtools) for one hot coder, not available on Nero or use caret or tidyr\n",
    "options(repr.matrix.max.rows=250, repr.matrix.max.cols=30)"
   ]
  },
  {
   "cell_type": "code",
   "execution_count": 2,
   "metadata": {},
   "outputs": [],
   "source": [
    "# read inputs\n",
    "datadir6 = \"../../DataTD/validation\"\n",
    "featuredir = \"../../OutputTD/2_features\"\n",
    "valdir = \"../../OutputTD/6_validation\"\n",
    "cohortdir = \"../../OutputTD/1_cohort\""
   ]
  },
  {
   "cell_type": "code",
   "execution_count": 3,
   "metadata": {},
   "outputs": [
    {
     "data": {
      "text/html": [
       "16484"
      ],
      "text/latex": [
       "16484"
      ],
      "text/markdown": [
       "16484"
      ],
      "text/plain": [
       "[1] 16484"
      ]
     },
     "metadata": {},
     "output_type": "display_data"
    },
    {
     "data": {
      "text/html": [
       "60464"
      ],
      "text/latex": [
       "60464"
      ],
      "text/markdown": [
       "60464"
      ],
      "text/plain": [
       "[1] 60464"
      ]
     },
     "metadata": {},
     "output_type": "display_data"
    },
    {
     "data": {
      "text/html": [
       "44258"
      ],
      "text/latex": [
       "44258"
      ],
      "text/markdown": [
       "44258"
      ],
      "text/plain": [
       "[1] 44258"
      ]
     },
     "metadata": {},
     "output_type": "display_data"
    },
    {
     "data": {
      "text/html": [
       "16484"
      ],
      "text/latex": [
       "16484"
      ],
      "text/markdown": [
       "16484"
      ],
      "text/plain": [
       "[1] 16484"
      ]
     },
     "metadata": {},
     "output_type": "display_data"
    },
    {
     "data": {
      "text/html": [
       "44258"
      ],
      "text/latex": [
       "44258"
      ],
      "text/markdown": [
       "44258"
      ],
      "text/plain": [
       "[1] 44258"
      ]
     },
     "metadata": {},
     "output_type": "display_data"
    },
    {
     "data": {
      "text/html": [
       "16484"
      ],
      "text/latex": [
       "16484"
      ],
      "text/markdown": [
       "16484"
      ],
      "text/plain": [
       "[1] 16484"
      ]
     },
     "metadata": {},
     "output_type": "display_data"
    }
   ],
   "source": [
    "# read inputs\n",
    "\n",
    "# these have no VS, just the cohort\n",
    "cohort4_6 <- read.csv(file.path(valdir, \"6_7_cohort4.csv\")) # new cohort\n",
    "cohort4 <- read.csv(file.path(valdir, \"6_7_cohort4_all.csv\")) # both old and new cohort, distinct csn\n",
    "\n",
    "# these have VS\n",
    "cohort3_0 <- read.csv(file.path(cohortdir, \"1_3_cohort.csv\"))\n",
    "cohort3_6 <- read.csv(file.path(valdir, \"6_5_cohort3.csv\")) %>% \n",
    "            filter(pat_enc_csn_id_coded %in% cohort4_6$pat_enc_csn_id_coded) %>% select(colnames(cohort3_0))\n",
    "\n",
    "# demo_hw0 has 2 patients that have same csn in new cohort but were removed from cohort3_0, remove here to avoid problems\n",
    "# filter to make sure we have no overlapped CSNs and same columns for both data\n",
    "demo_hw0 <- read.csv(file.path(featuredir, \"2_2_coh2_demoHW.csv\")) %>% \n",
    "                filter(pat_enc_csn_id_coded %in% cohort3_0$pat_enc_csn_id_coded)\n",
    "demo_hw6 <- read.csv(file.path(valdir, \"6_4_coh2_demoHW.csv\")) %>% \n",
    "                filter(pat_enc_csn_id_coded %in% cohort4_6$pat_enc_csn_id_coded) %>% select(colnames(demo_hw0))\n",
    "\n",
    "# check for unique CSNs and MRNs\n",
    "nrow(cohort4_6) # 16484\n",
    "nrow(cohort4) # 60464\n",
    "nrow(cohort3_0) # 44258\n",
    "nrow(cohort3_6) # 16484 \n",
    "nrow(demo_hw0) # 44258\n",
    "nrow(demo_hw6) # 16484"
   ]
  },
  {
   "cell_type": "code",
   "execution_count": 4,
   "metadata": {},
   "outputs": [
    {
     "data": {
      "text/html": [
       "<table class=\"dataframe\">\n",
       "<caption>A data.frame: 1 × 13</caption>\n",
       "<thead>\n",
       "\t<tr><th></th><th scope=col>anon_id</th><th scope=col>pat_enc_csn_id_coded</th><th scope=col>label</th><th scope=col>admit_time</th><th scope=col>inpatient_data_id_coded</th><th scope=col>ESI</th><th scope=col>gender</th><th scope=col>race</th><th scope=col>insurance</th><th scope=col>age</th><th scope=col>English</th><th scope=col>Height</th><th scope=col>Weight</th></tr>\n",
       "\t<tr><th></th><th scope=col>&lt;chr&gt;</th><th scope=col>&lt;dbl&gt;</th><th scope=col>&lt;int&gt;</th><th scope=col>&lt;chr&gt;</th><th scope=col>&lt;int&gt;</th><th scope=col>&lt;int&gt;</th><th scope=col>&lt;chr&gt;</th><th scope=col>&lt;chr&gt;</th><th scope=col>&lt;int&gt;</th><th scope=col>&lt;int&gt;</th><th scope=col>&lt;int&gt;</th><th scope=col>&lt;dbl&gt;</th><th scope=col>&lt;dbl&gt;</th></tr>\n",
       "</thead>\n",
       "<tbody>\n",
       "\t<tr><th scope=row>1</th><td>JC29f8ad2</td><td>131274729058</td><td>0</td><td>2019-08-31 12:52:00</td><td>40679773</td><td>3</td><td>Female</td><td>White</td><td>1</td><td>52</td><td>1</td><td>165</td><td>81</td></tr>\n",
       "</tbody>\n",
       "</table>\n"
      ],
      "text/latex": [
       "A data.frame: 1 × 13\n",
       "\\begin{tabular}{r|lllllllllllll}\n",
       "  & anon\\_id & pat\\_enc\\_csn\\_id\\_coded & label & admit\\_time & inpatient\\_data\\_id\\_coded & ESI & gender & race & insurance & age & English & Height & Weight\\\\\n",
       "  & <chr> & <dbl> & <int> & <chr> & <int> & <int> & <chr> & <chr> & <int> & <int> & <int> & <dbl> & <dbl>\\\\\n",
       "\\hline\n",
       "\t1 & JC29f8ad2 & 131274729058 & 0 & 2019-08-31 12:52:00 & 40679773 & 3 & Female & White & 1 & 52 & 1 & 165 & 81\\\\\n",
       "\\end{tabular}\n"
      ],
      "text/markdown": [
       "\n",
       "A data.frame: 1 × 13\n",
       "\n",
       "| <!--/--> | anon_id &lt;chr&gt; | pat_enc_csn_id_coded &lt;dbl&gt; | label &lt;int&gt; | admit_time &lt;chr&gt; | inpatient_data_id_coded &lt;int&gt; | ESI &lt;int&gt; | gender &lt;chr&gt; | race &lt;chr&gt; | insurance &lt;int&gt; | age &lt;int&gt; | English &lt;int&gt; | Height &lt;dbl&gt; | Weight &lt;dbl&gt; |\n",
       "|---|---|---|---|---|---|---|---|---|---|---|---|---|---|\n",
       "| 1 | JC29f8ad2 | 131274729058 | 0 | 2019-08-31 12:52:00 | 40679773 | 3 | Female | White | 1 | 52 | 1 | 165 | 81 |\n",
       "\n"
      ],
      "text/plain": [
       "  anon_id   pat_enc_csn_id_coded label admit_time         \n",
       "1 JC29f8ad2 131274729058         0     2019-08-31 12:52:00\n",
       "  inpatient_data_id_coded ESI gender race  insurance age English Height Weight\n",
       "1 40679773                3   Female White 1         52  1       165    81    "
      ]
     },
     "metadata": {},
     "output_type": "display_data"
    },
    {
     "data": {
      "text/html": [
       "<table class=\"dataframe\">\n",
       "<caption>A data.frame: 1 × 13</caption>\n",
       "<thead>\n",
       "\t<tr><th></th><th scope=col>anon_id</th><th scope=col>pat_enc_csn_id_coded</th><th scope=col>label</th><th scope=col>admit_time</th><th scope=col>inpatient_data_id_coded</th><th scope=col>ESI</th><th scope=col>gender</th><th scope=col>race</th><th scope=col>insurance</th><th scope=col>age</th><th scope=col>English</th><th scope=col>Height</th><th scope=col>Weight</th></tr>\n",
       "\t<tr><th></th><th scope=col>&lt;chr&gt;</th><th scope=col>&lt;dbl&gt;</th><th scope=col>&lt;int&gt;</th><th scope=col>&lt;chr&gt;</th><th scope=col>&lt;int&gt;</th><th scope=col>&lt;int&gt;</th><th scope=col>&lt;chr&gt;</th><th scope=col>&lt;chr&gt;</th><th scope=col>&lt;int&gt;</th><th scope=col>&lt;int&gt;</th><th scope=col>&lt;int&gt;</th><th scope=col>&lt;dbl&gt;</th><th scope=col>&lt;dbl&gt;</th></tr>\n",
       "</thead>\n",
       "<tbody>\n",
       "\t<tr><th scope=row>1</th><td>JC1000116</td><td>131295313275</td><td>0</td><td>2020-09-29 22:45:00</td><td>57868578</td><td>3</td><td>Female</td><td>Other</td><td>1</td><td>44</td><td>0</td><td>154</td><td>73.05</td></tr>\n",
       "</tbody>\n",
       "</table>\n"
      ],
      "text/latex": [
       "A data.frame: 1 × 13\n",
       "\\begin{tabular}{r|lllllllllllll}\n",
       "  & anon\\_id & pat\\_enc\\_csn\\_id\\_coded & label & admit\\_time & inpatient\\_data\\_id\\_coded & ESI & gender & race & insurance & age & English & Height & Weight\\\\\n",
       "  & <chr> & <dbl> & <int> & <chr> & <int> & <int> & <chr> & <chr> & <int> & <int> & <int> & <dbl> & <dbl>\\\\\n",
       "\\hline\n",
       "\t1 & JC1000116 & 131295313275 & 0 & 2020-09-29 22:45:00 & 57868578 & 3 & Female & Other & 1 & 44 & 0 & 154 & 73.05\\\\\n",
       "\\end{tabular}\n"
      ],
      "text/markdown": [
       "\n",
       "A data.frame: 1 × 13\n",
       "\n",
       "| <!--/--> | anon_id &lt;chr&gt; | pat_enc_csn_id_coded &lt;dbl&gt; | label &lt;int&gt; | admit_time &lt;chr&gt; | inpatient_data_id_coded &lt;int&gt; | ESI &lt;int&gt; | gender &lt;chr&gt; | race &lt;chr&gt; | insurance &lt;int&gt; | age &lt;int&gt; | English &lt;int&gt; | Height &lt;dbl&gt; | Weight &lt;dbl&gt; |\n",
       "|---|---|---|---|---|---|---|---|---|---|---|---|---|---|\n",
       "| 1 | JC1000116 | 131295313275 | 0 | 2020-09-29 22:45:00 | 57868578 | 3 | Female | Other | 1 | 44 | 0 | 154 | 73.05 |\n",
       "\n"
      ],
      "text/plain": [
       "  anon_id   pat_enc_csn_id_coded label admit_time         \n",
       "1 JC1000116 131295313275         0     2020-09-29 22:45:00\n",
       "  inpatient_data_id_coded ESI gender race  insurance age English Height Weight\n",
       "1 57868578                3   Female Other 1         44  0       154    73.05 "
      ]
     },
     "metadata": {},
     "output_type": "display_data"
    },
    {
     "data": {
      "text/html": [
       "<table class=\"dataframe\">\n",
       "<caption>A data.frame: 1 × 10</caption>\n",
       "<thead>\n",
       "\t<tr><th></th><th scope=col>anon_id</th><th scope=col>pat_enc_csn_id_coded</th><th scope=col>inpatient_data_id_coded</th><th scope=col>admit_time</th><th scope=col>label</th><th scope=col>DBP</th><th scope=col>Pulse</th><th scope=col>RR</th><th scope=col>SBP</th><th scope=col>Temp</th></tr>\n",
       "\t<tr><th></th><th scope=col>&lt;chr&gt;</th><th scope=col>&lt;dbl&gt;</th><th scope=col>&lt;int&gt;</th><th scope=col>&lt;chr&gt;</th><th scope=col>&lt;int&gt;</th><th scope=col>&lt;int&gt;</th><th scope=col>&lt;int&gt;</th><th scope=col>&lt;int&gt;</th><th scope=col>&lt;int&gt;</th><th scope=col>&lt;dbl&gt;</th></tr>\n",
       "</thead>\n",
       "<tbody>\n",
       "\t<tr><th scope=row>1</th><td>JC29f8ad2</td><td>131274729058</td><td>40679773</td><td>2019-08-31 12:52:00+00:00</td><td>0</td><td>74</td><td>95</td><td>20</td><td>118</td><td>36.95</td></tr>\n",
       "</tbody>\n",
       "</table>\n"
      ],
      "text/latex": [
       "A data.frame: 1 × 10\n",
       "\\begin{tabular}{r|llllllllll}\n",
       "  & anon\\_id & pat\\_enc\\_csn\\_id\\_coded & inpatient\\_data\\_id\\_coded & admit\\_time & label & DBP & Pulse & RR & SBP & Temp\\\\\n",
       "  & <chr> & <dbl> & <int> & <chr> & <int> & <int> & <int> & <int> & <int> & <dbl>\\\\\n",
       "\\hline\n",
       "\t1 & JC29f8ad2 & 131274729058 & 40679773 & 2019-08-31 12:52:00+00:00 & 0 & 74 & 95 & 20 & 118 & 36.95\\\\\n",
       "\\end{tabular}\n"
      ],
      "text/markdown": [
       "\n",
       "A data.frame: 1 × 10\n",
       "\n",
       "| <!--/--> | anon_id &lt;chr&gt; | pat_enc_csn_id_coded &lt;dbl&gt; | inpatient_data_id_coded &lt;int&gt; | admit_time &lt;chr&gt; | label &lt;int&gt; | DBP &lt;int&gt; | Pulse &lt;int&gt; | RR &lt;int&gt; | SBP &lt;int&gt; | Temp &lt;dbl&gt; |\n",
       "|---|---|---|---|---|---|---|---|---|---|---|\n",
       "| 1 | JC29f8ad2 | 131274729058 | 40679773 | 2019-08-31 12:52:00+00:00 | 0 | 74 | 95 | 20 | 118 | 36.95 |\n",
       "\n"
      ],
      "text/plain": [
       "  anon_id   pat_enc_csn_id_coded inpatient_data_id_coded\n",
       "1 JC29f8ad2 131274729058         40679773               \n",
       "  admit_time                label DBP Pulse RR SBP Temp \n",
       "1 2019-08-31 12:52:00+00:00 0     74  95    20 118 36.95"
      ]
     },
     "metadata": {},
     "output_type": "display_data"
    },
    {
     "data": {
      "text/html": [
       "<table class=\"dataframe\">\n",
       "<caption>A data.frame: 1 × 10</caption>\n",
       "<thead>\n",
       "\t<tr><th></th><th scope=col>anon_id</th><th scope=col>pat_enc_csn_id_coded</th><th scope=col>inpatient_data_id_coded</th><th scope=col>admit_time</th><th scope=col>label</th><th scope=col>DBP</th><th scope=col>Pulse</th><th scope=col>RR</th><th scope=col>SBP</th><th scope=col>Temp</th></tr>\n",
       "\t<tr><th></th><th scope=col>&lt;chr&gt;</th><th scope=col>&lt;dbl&gt;</th><th scope=col>&lt;int&gt;</th><th scope=col>&lt;chr&gt;</th><th scope=col>&lt;int&gt;</th><th scope=col>&lt;int&gt;</th><th scope=col>&lt;int&gt;</th><th scope=col>&lt;int&gt;</th><th scope=col>&lt;int&gt;</th><th scope=col>&lt;dbl&gt;</th></tr>\n",
       "</thead>\n",
       "<tbody>\n",
       "\t<tr><th scope=row>1</th><td>JC1000116</td><td>131295313275</td><td>57868578</td><td>2020-09-29 22:45:00+00:00</td><td>0</td><td>77</td><td>81</td><td>18</td><td>120</td><td>36.8</td></tr>\n",
       "</tbody>\n",
       "</table>\n"
      ],
      "text/latex": [
       "A data.frame: 1 × 10\n",
       "\\begin{tabular}{r|llllllllll}\n",
       "  & anon\\_id & pat\\_enc\\_csn\\_id\\_coded & inpatient\\_data\\_id\\_coded & admit\\_time & label & DBP & Pulse & RR & SBP & Temp\\\\\n",
       "  & <chr> & <dbl> & <int> & <chr> & <int> & <int> & <int> & <int> & <int> & <dbl>\\\\\n",
       "\\hline\n",
       "\t1 & JC1000116 & 131295313275 & 57868578 & 2020-09-29 22:45:00+00:00 & 0 & 77 & 81 & 18 & 120 & 36.8\\\\\n",
       "\\end{tabular}\n"
      ],
      "text/markdown": [
       "\n",
       "A data.frame: 1 × 10\n",
       "\n",
       "| <!--/--> | anon_id &lt;chr&gt; | pat_enc_csn_id_coded &lt;dbl&gt; | inpatient_data_id_coded &lt;int&gt; | admit_time &lt;chr&gt; | label &lt;int&gt; | DBP &lt;int&gt; | Pulse &lt;int&gt; | RR &lt;int&gt; | SBP &lt;int&gt; | Temp &lt;dbl&gt; |\n",
       "|---|---|---|---|---|---|---|---|---|---|---|\n",
       "| 1 | JC1000116 | 131295313275 | 57868578 | 2020-09-29 22:45:00+00:00 | 0 | 77 | 81 | 18 | 120 | 36.8 |\n",
       "\n"
      ],
      "text/plain": [
       "  anon_id   pat_enc_csn_id_coded inpatient_data_id_coded\n",
       "1 JC1000116 131295313275         57868578               \n",
       "  admit_time                label DBP Pulse RR SBP Temp\n",
       "1 2020-09-29 22:45:00+00:00 0     77  81    18 120 36.8"
      ]
     },
     "metadata": {},
     "output_type": "display_data"
    }
   ],
   "source": [
    "head(demo_hw0, n=1)\n",
    "head(demo_hw6, n=1)\n",
    "head(cohort3_0, 1)\n",
    "head(cohort3_6, 1)"
   ]
  },
  {
   "cell_type": "code",
   "execution_count": 5,
   "metadata": {},
   "outputs": [
    {
     "data": {
      "text/html": [
       "60742"
      ],
      "text/latex": [
       "60742"
      ],
      "text/markdown": [
       "60742"
      ],
      "text/plain": [
       "[1] 60742"
      ]
     },
     "metadata": {},
     "output_type": "display_data"
    },
    {
     "data": {
      "text/html": [
       "60742"
      ],
      "text/latex": [
       "60742"
      ],
      "text/markdown": [
       "60742"
      ],
      "text/plain": [
       "[1] 60742"
      ]
     },
     "metadata": {},
     "output_type": "display_data"
    },
    {
     "data": {
      "text/html": [
       "<table class=\"dataframe\">\n",
       "<caption>A data.frame: 1 × 10</caption>\n",
       "<thead>\n",
       "\t<tr><th></th><th scope=col>anon_id</th><th scope=col>pat_enc_csn_id_coded</th><th scope=col>inpatient_data_id_coded</th><th scope=col>admit_time</th><th scope=col>label</th><th scope=col>DBP</th><th scope=col>Pulse</th><th scope=col>RR</th><th scope=col>SBP</th><th scope=col>Temp</th></tr>\n",
       "\t<tr><th></th><th scope=col>&lt;chr&gt;</th><th scope=col>&lt;dbl&gt;</th><th scope=col>&lt;int&gt;</th><th scope=col>&lt;chr&gt;</th><th scope=col>&lt;int&gt;</th><th scope=col>&lt;int&gt;</th><th scope=col>&lt;int&gt;</th><th scope=col>&lt;int&gt;</th><th scope=col>&lt;int&gt;</th><th scope=col>&lt;dbl&gt;</th></tr>\n",
       "</thead>\n",
       "<tbody>\n",
       "\t<tr><th scope=row>1</th><td>JC29f8ad2</td><td>131274729058</td><td>40679773</td><td>2019-08-31 12:52:00+00:00</td><td>0</td><td>74</td><td>95</td><td>20</td><td>118</td><td>36.95</td></tr>\n",
       "</tbody>\n",
       "</table>\n"
      ],
      "text/latex": [
       "A data.frame: 1 × 10\n",
       "\\begin{tabular}{r|llllllllll}\n",
       "  & anon\\_id & pat\\_enc\\_csn\\_id\\_coded & inpatient\\_data\\_id\\_coded & admit\\_time & label & DBP & Pulse & RR & SBP & Temp\\\\\n",
       "  & <chr> & <dbl> & <int> & <chr> & <int> & <int> & <int> & <int> & <int> & <dbl>\\\\\n",
       "\\hline\n",
       "\t1 & JC29f8ad2 & 131274729058 & 40679773 & 2019-08-31 12:52:00+00:00 & 0 & 74 & 95 & 20 & 118 & 36.95\\\\\n",
       "\\end{tabular}\n"
      ],
      "text/markdown": [
       "\n",
       "A data.frame: 1 × 10\n",
       "\n",
       "| <!--/--> | anon_id &lt;chr&gt; | pat_enc_csn_id_coded &lt;dbl&gt; | inpatient_data_id_coded &lt;int&gt; | admit_time &lt;chr&gt; | label &lt;int&gt; | DBP &lt;int&gt; | Pulse &lt;int&gt; | RR &lt;int&gt; | SBP &lt;int&gt; | Temp &lt;dbl&gt; |\n",
       "|---|---|---|---|---|---|---|---|---|---|---|\n",
       "| 1 | JC29f8ad2 | 131274729058 | 40679773 | 2019-08-31 12:52:00+00:00 | 0 | 74 | 95 | 20 | 118 | 36.95 |\n",
       "\n"
      ],
      "text/plain": [
       "  anon_id   pat_enc_csn_id_coded inpatient_data_id_coded\n",
       "1 JC29f8ad2 131274729058         40679773               \n",
       "  admit_time                label DBP Pulse RR SBP Temp \n",
       "1 2019-08-31 12:52:00+00:00 0     74  95    20 118 36.95"
      ]
     },
     "metadata": {},
     "output_type": "display_data"
    },
    {
     "data": {
      "text/html": [
       "278"
      ],
      "text/latex": [
       "278"
      ],
      "text/markdown": [
       "278"
      ],
      "text/plain": [
       "[1] 278"
      ]
     },
     "metadata": {},
     "output_type": "display_data"
    }
   ],
   "source": [
    "# combine \n",
    "cohort3 <- bind_rows(cohort3_0, cohort3_6)\n",
    "nrow(cohort3)\n",
    "length(unique(cohort3$pat_enc_csn_id_coded))\n",
    "head(cohort3, 1)\n",
    "\n",
    "# this is due to the difference btwn cohort3 and cohort4\n",
    "length(setdiff(cohort3$pat_enc_csn_id_coded, cohort4$pat_enc_csn_id_coded))"
   ]
  },
  {
   "cell_type": "code",
   "execution_count": 6,
   "metadata": {},
   "outputs": [
    {
     "data": {
      "text/html": [
       "60742"
      ],
      "text/latex": [
       "60742"
      ],
      "text/markdown": [
       "60742"
      ],
      "text/plain": [
       "[1] 60742"
      ]
     },
     "metadata": {},
     "output_type": "display_data"
    },
    {
     "data": {
      "text/html": [
       "60742"
      ],
      "text/latex": [
       "60742"
      ],
      "text/markdown": [
       "60742"
      ],
      "text/plain": [
       "[1] 60742"
      ]
     },
     "metadata": {},
     "output_type": "display_data"
    },
    {
     "data": {
      "text/html": [
       "<table class=\"dataframe\">\n",
       "<caption>A data.frame: 1 × 13</caption>\n",
       "<thead>\n",
       "\t<tr><th></th><th scope=col>anon_id</th><th scope=col>pat_enc_csn_id_coded</th><th scope=col>label</th><th scope=col>admit_time</th><th scope=col>inpatient_data_id_coded</th><th scope=col>ESI</th><th scope=col>gender</th><th scope=col>race</th><th scope=col>insurance</th><th scope=col>age</th><th scope=col>English</th><th scope=col>Height</th><th scope=col>Weight</th></tr>\n",
       "\t<tr><th></th><th scope=col>&lt;chr&gt;</th><th scope=col>&lt;dbl&gt;</th><th scope=col>&lt;int&gt;</th><th scope=col>&lt;chr&gt;</th><th scope=col>&lt;int&gt;</th><th scope=col>&lt;int&gt;</th><th scope=col>&lt;chr&gt;</th><th scope=col>&lt;chr&gt;</th><th scope=col>&lt;int&gt;</th><th scope=col>&lt;int&gt;</th><th scope=col>&lt;int&gt;</th><th scope=col>&lt;dbl&gt;</th><th scope=col>&lt;dbl&gt;</th></tr>\n",
       "</thead>\n",
       "<tbody>\n",
       "\t<tr><th scope=row>1</th><td>JC29f8ad2</td><td>131274729058</td><td>0</td><td>2019-08-31 12:52:00</td><td>40679773</td><td>3</td><td>Female</td><td>White</td><td>1</td><td>52</td><td>1</td><td>165</td><td>81</td></tr>\n",
       "</tbody>\n",
       "</table>\n"
      ],
      "text/latex": [
       "A data.frame: 1 × 13\n",
       "\\begin{tabular}{r|lllllllllllll}\n",
       "  & anon\\_id & pat\\_enc\\_csn\\_id\\_coded & label & admit\\_time & inpatient\\_data\\_id\\_coded & ESI & gender & race & insurance & age & English & Height & Weight\\\\\n",
       "  & <chr> & <dbl> & <int> & <chr> & <int> & <int> & <chr> & <chr> & <int> & <int> & <int> & <dbl> & <dbl>\\\\\n",
       "\\hline\n",
       "\t1 & JC29f8ad2 & 131274729058 & 0 & 2019-08-31 12:52:00 & 40679773 & 3 & Female & White & 1 & 52 & 1 & 165 & 81\\\\\n",
       "\\end{tabular}\n"
      ],
      "text/markdown": [
       "\n",
       "A data.frame: 1 × 13\n",
       "\n",
       "| <!--/--> | anon_id &lt;chr&gt; | pat_enc_csn_id_coded &lt;dbl&gt; | label &lt;int&gt; | admit_time &lt;chr&gt; | inpatient_data_id_coded &lt;int&gt; | ESI &lt;int&gt; | gender &lt;chr&gt; | race &lt;chr&gt; | insurance &lt;int&gt; | age &lt;int&gt; | English &lt;int&gt; | Height &lt;dbl&gt; | Weight &lt;dbl&gt; |\n",
       "|---|---|---|---|---|---|---|---|---|---|---|---|---|---|\n",
       "| 1 | JC29f8ad2 | 131274729058 | 0 | 2019-08-31 12:52:00 | 40679773 | 3 | Female | White | 1 | 52 | 1 | 165 | 81 |\n",
       "\n"
      ],
      "text/plain": [
       "  anon_id   pat_enc_csn_id_coded label admit_time         \n",
       "1 JC29f8ad2 131274729058         0     2019-08-31 12:52:00\n",
       "  inpatient_data_id_coded ESI gender race  insurance age English Height Weight\n",
       "1 40679773                3   Female White 1         52  1       165    81    "
      ]
     },
     "metadata": {},
     "output_type": "display_data"
    },
    {
     "data": {
      "text/html": [
       "278"
      ],
      "text/latex": [
       "278"
      ],
      "text/markdown": [
       "278"
      ],
      "text/plain": [
       "[1] 278"
      ]
     },
     "metadata": {},
     "output_type": "display_data"
    }
   ],
   "source": [
    "# combine \n",
    "demo_hw <- bind_rows(demo_hw0, demo_hw6)\n",
    "nrow(demo_hw)\n",
    "length(unique(demo_hw$pat_enc_csn_id_coded))\n",
    "head(demo_hw, 1)\n",
    "\n",
    "# this is due to demo used cohort2 and now cohort is cohort4\n",
    "length(setdiff(demo_hw$pat_enc_csn_id_coded, cohort4$pat_enc_csn_id_coded))"
   ]
  },
  {
   "cell_type": "markdown",
   "metadata": {},
   "source": [
    "### DO NOTE RUN THE BELOW CELLS"
   ]
  },
  {
   "cell_type": "code",
   "execution_count": 99,
   "metadata": {},
   "outputs": [
    {
     "data": {
      "text/html": [
       "<table class=\"dataframe\">\n",
       "<caption>A data.frame: 2 × 13</caption>\n",
       "<thead>\n",
       "\t<tr><th></th><th scope=col>anon_id</th><th scope=col>pat_enc_csn_id_coded</th><th scope=col>label</th><th scope=col>admit_time</th><th scope=col>inpatient_data_id_coded</th><th scope=col>ESI</th><th scope=col>gender</th><th scope=col>race</th><th scope=col>insurance</th><th scope=col>age</th><th scope=col>English</th><th scope=col>Height</th><th scope=col>Weight</th></tr>\n",
       "\t<tr><th></th><th scope=col>&lt;chr&gt;</th><th scope=col>&lt;dbl&gt;</th><th scope=col>&lt;int&gt;</th><th scope=col>&lt;chr&gt;</th><th scope=col>&lt;int&gt;</th><th scope=col>&lt;int&gt;</th><th scope=col>&lt;chr&gt;</th><th scope=col>&lt;chr&gt;</th><th scope=col>&lt;int&gt;</th><th scope=col>&lt;int&gt;</th><th scope=col>&lt;int&gt;</th><th scope=col>&lt;dbl&gt;</th><th scope=col>&lt;dbl&gt;</th></tr>\n",
       "</thead>\n",
       "<tbody>\n",
       "\t<tr><th scope=row>47825</th><td>JC1466188</td><td>131287327918</td><td>0</td><td>2020-04-19 05:50:00</td><td>52945099</td><td>3</td><td>Female</td><td>White</td><td>1</td><td>55</td><td>1</td><td>173</td><td>92</td></tr>\n",
       "\t<tr><th scope=row>58150</th><td>JC512962 </td><td>131285654660</td><td>1</td><td>2020-04-02 19:34:00</td><td>52331108</td><td>3</td><td>Female</td><td>White</td><td>0</td><td>78</td><td>1</td><td>163</td><td>53</td></tr>\n",
       "</tbody>\n",
       "</table>\n"
      ],
      "text/latex": [
       "A data.frame: 2 × 13\n",
       "\\begin{tabular}{r|lllllllllllll}\n",
       "  & anon\\_id & pat\\_enc\\_csn\\_id\\_coded & label & admit\\_time & inpatient\\_data\\_id\\_coded & ESI & gender & race & insurance & age & English & Height & Weight\\\\\n",
       "  & <chr> & <dbl> & <int> & <chr> & <int> & <int> & <chr> & <chr> & <int> & <int> & <int> & <dbl> & <dbl>\\\\\n",
       "\\hline\n",
       "\t47825 & JC1466188 & 131287327918 & 0 & 2020-04-19 05:50:00 & 52945099 & 3 & Female & White & 1 & 55 & 1 & 173 & 92\\\\\n",
       "\t58150 & JC512962  & 131285654660 & 1 & 2020-04-02 19:34:00 & 52331108 & 3 & Female & White & 0 & 78 & 1 & 163 & 53\\\\\n",
       "\\end{tabular}\n"
      ],
      "text/markdown": [
       "\n",
       "A data.frame: 2 × 13\n",
       "\n",
       "| <!--/--> | anon_id &lt;chr&gt; | pat_enc_csn_id_coded &lt;dbl&gt; | label &lt;int&gt; | admit_time &lt;chr&gt; | inpatient_data_id_coded &lt;int&gt; | ESI &lt;int&gt; | gender &lt;chr&gt; | race &lt;chr&gt; | insurance &lt;int&gt; | age &lt;int&gt; | English &lt;int&gt; | Height &lt;dbl&gt; | Weight &lt;dbl&gt; |\n",
       "|---|---|---|---|---|---|---|---|---|---|---|---|---|---|\n",
       "| 47825 | JC1466188 | 131287327918 | 0 | 2020-04-19 05:50:00 | 52945099 | 3 | Female | White | 1 | 55 | 1 | 173 | 92 |\n",
       "| 58150 | JC512962  | 131285654660 | 1 | 2020-04-02 19:34:00 | 52331108 | 3 | Female | White | 0 | 78 | 1 | 163 | 53 |\n",
       "\n"
      ],
      "text/plain": [
       "      anon_id   pat_enc_csn_id_coded label admit_time         \n",
       "47825 JC1466188 131287327918         0     2020-04-19 05:50:00\n",
       "58150 JC512962  131285654660         1     2020-04-02 19:34:00\n",
       "      inpatient_data_id_coded ESI gender race  insurance age English Height\n",
       "47825 52945099                3   Female White 1         55  1       173   \n",
       "58150 52331108                3   Female White 0         78  1       163   \n",
       "      Weight\n",
       "47825 92    \n",
       "58150 53    "
      ]
     },
     "metadata": {},
     "output_type": "display_data"
    }
   ],
   "source": [
    "demo_hw[duplicated(demo_hw$pat_enc_csn_id_coded), ] # 2 from new cohort, but were removed from cohort 3 "
   ]
  },
  {
   "cell_type": "code",
   "execution_count": 100,
   "metadata": {},
   "outputs": [
    {
     "data": {
      "text/html": [
       "<table class=\"dataframe\">\n",
       "<caption>A data.frame: 4 × 13</caption>\n",
       "<thead>\n",
       "\t<tr><th scope=col>anon_id</th><th scope=col>pat_enc_csn_id_coded</th><th scope=col>label</th><th scope=col>admit_time</th><th scope=col>inpatient_data_id_coded</th><th scope=col>ESI</th><th scope=col>gender</th><th scope=col>race</th><th scope=col>insurance</th><th scope=col>age</th><th scope=col>English</th><th scope=col>Height</th><th scope=col>Weight</th></tr>\n",
       "\t<tr><th scope=col>&lt;chr&gt;</th><th scope=col>&lt;dbl&gt;</th><th scope=col>&lt;int&gt;</th><th scope=col>&lt;chr&gt;</th><th scope=col>&lt;int&gt;</th><th scope=col>&lt;int&gt;</th><th scope=col>&lt;chr&gt;</th><th scope=col>&lt;chr&gt;</th><th scope=col>&lt;int&gt;</th><th scope=col>&lt;int&gt;</th><th scope=col>&lt;int&gt;</th><th scope=col>&lt;dbl&gt;</th><th scope=col>&lt;dbl&gt;</th></tr>\n",
       "</thead>\n",
       "<tbody>\n",
       "\t<tr><td>JCcb944f </td><td>131285654660</td><td>0</td><td>2020-03-31 07:00:00</td><td>47095189</td><td>3</td><td>Female</td><td>White</td><td>0</td><td>78</td><td>1</td><td>163.00</td><td>54.00</td></tr>\n",
       "\t<tr><td>JC512962 </td><td>131285654660</td><td>1</td><td>2020-04-02 19:34:00</td><td>52331108</td><td>3</td><td>Female</td><td>White</td><td>0</td><td>78</td><td>1</td><td>163.00</td><td>53.00</td></tr>\n",
       "\t<tr><td>JCd4ce6c </td><td>131287327918</td><td>0</td><td>2020-03-30 05:50:00</td><td>47709180</td><td>3</td><td>Female</td><td>White</td><td>0</td><td>57</td><td>1</td><td>172.72</td><td>99.79</td></tr>\n",
       "\t<tr><td>JC1466188</td><td>131287327918</td><td>0</td><td>2020-04-19 05:50:00</td><td>52945099</td><td>3</td><td>Female</td><td>White</td><td>1</td><td>55</td><td>1</td><td>173.00</td><td>92.00</td></tr>\n",
       "</tbody>\n",
       "</table>\n"
      ],
      "text/latex": [
       "A data.frame: 4 × 13\n",
       "\\begin{tabular}{lllllllllllll}\n",
       " anon\\_id & pat\\_enc\\_csn\\_id\\_coded & label & admit\\_time & inpatient\\_data\\_id\\_coded & ESI & gender & race & insurance & age & English & Height & Weight\\\\\n",
       " <chr> & <dbl> & <int> & <chr> & <int> & <int> & <chr> & <chr> & <int> & <int> & <int> & <dbl> & <dbl>\\\\\n",
       "\\hline\n",
       "\t JCcb944f  & 131285654660 & 0 & 2020-03-31 07:00:00 & 47095189 & 3 & Female & White & 0 & 78 & 1 & 163.00 & 54.00\\\\\n",
       "\t JC512962  & 131285654660 & 1 & 2020-04-02 19:34:00 & 52331108 & 3 & Female & White & 0 & 78 & 1 & 163.00 & 53.00\\\\\n",
       "\t JCd4ce6c  & 131287327918 & 0 & 2020-03-30 05:50:00 & 47709180 & 3 & Female & White & 0 & 57 & 1 & 172.72 & 99.79\\\\\n",
       "\t JC1466188 & 131287327918 & 0 & 2020-04-19 05:50:00 & 52945099 & 3 & Female & White & 1 & 55 & 1 & 173.00 & 92.00\\\\\n",
       "\\end{tabular}\n"
      ],
      "text/markdown": [
       "\n",
       "A data.frame: 4 × 13\n",
       "\n",
       "| anon_id &lt;chr&gt; | pat_enc_csn_id_coded &lt;dbl&gt; | label &lt;int&gt; | admit_time &lt;chr&gt; | inpatient_data_id_coded &lt;int&gt; | ESI &lt;int&gt; | gender &lt;chr&gt; | race &lt;chr&gt; | insurance &lt;int&gt; | age &lt;int&gt; | English &lt;int&gt; | Height &lt;dbl&gt; | Weight &lt;dbl&gt; |\n",
       "|---|---|---|---|---|---|---|---|---|---|---|---|---|\n",
       "| JCcb944f  | 131285654660 | 0 | 2020-03-31 07:00:00 | 47095189 | 3 | Female | White | 0 | 78 | 1 | 163.00 | 54.00 |\n",
       "| JC512962  | 131285654660 | 1 | 2020-04-02 19:34:00 | 52331108 | 3 | Female | White | 0 | 78 | 1 | 163.00 | 53.00 |\n",
       "| JCd4ce6c  | 131287327918 | 0 | 2020-03-30 05:50:00 | 47709180 | 3 | Female | White | 0 | 57 | 1 | 172.72 | 99.79 |\n",
       "| JC1466188 | 131287327918 | 0 | 2020-04-19 05:50:00 | 52945099 | 3 | Female | White | 1 | 55 | 1 | 173.00 | 92.00 |\n",
       "\n"
      ],
      "text/plain": [
       "  anon_id   pat_enc_csn_id_coded label admit_time         \n",
       "1 JCcb944f  131285654660         0     2020-03-31 07:00:00\n",
       "2 JC512962  131285654660         1     2020-04-02 19:34:00\n",
       "3 JCd4ce6c  131287327918         0     2020-03-30 05:50:00\n",
       "4 JC1466188 131287327918         0     2020-04-19 05:50:00\n",
       "  inpatient_data_id_coded ESI gender race  insurance age English Height Weight\n",
       "1 47095189                3   Female White 0         78  1       163.00 54.00 \n",
       "2 52331108                3   Female White 0         78  1       163.00 53.00 \n",
       "3 47709180                3   Female White 0         57  1       172.72 99.79 \n",
       "4 52945099                3   Female White 1         55  1       173.00 92.00 "
      ]
     },
     "metadata": {},
     "output_type": "display_data"
    }
   ],
   "source": [
    "demo_hw %>% filter(pat_enc_csn_id_coded %in% c(131287327918, 131285654660)) %>% arrange(pat_enc_csn_id_coded)"
   ]
  },
  {
   "cell_type": "code",
   "execution_count": 101,
   "metadata": {},
   "outputs": [
    {
     "data": {
      "text/html": [
       "<table class=\"dataframe\">\n",
       "<caption>A data.frame: 2 × 13</caption>\n",
       "<thead>\n",
       "\t<tr><th scope=col>anon_id</th><th scope=col>pat_enc_csn_id_coded</th><th scope=col>label</th><th scope=col>admit_time</th><th scope=col>inpatient_data_id_coded</th><th scope=col>ESI</th><th scope=col>gender</th><th scope=col>race</th><th scope=col>insurance</th><th scope=col>age</th><th scope=col>English</th><th scope=col>Height</th><th scope=col>Weight</th></tr>\n",
       "\t<tr><th scope=col>&lt;chr&gt;</th><th scope=col>&lt;dbl&gt;</th><th scope=col>&lt;int&gt;</th><th scope=col>&lt;chr&gt;</th><th scope=col>&lt;int&gt;</th><th scope=col>&lt;int&gt;</th><th scope=col>&lt;chr&gt;</th><th scope=col>&lt;chr&gt;</th><th scope=col>&lt;int&gt;</th><th scope=col>&lt;int&gt;</th><th scope=col>&lt;int&gt;</th><th scope=col>&lt;dbl&gt;</th><th scope=col>&lt;dbl&gt;</th></tr>\n",
       "</thead>\n",
       "<tbody>\n",
       "\t<tr><td>JCcb944f</td><td>131285654660</td><td>0</td><td>2020-03-31 07:00:00</td><td>47095189</td><td>3</td><td>Female</td><td>White</td><td>0</td><td>78</td><td>1</td><td>163.00</td><td>54.00</td></tr>\n",
       "\t<tr><td>JCd4ce6c</td><td>131287327918</td><td>0</td><td>2020-03-30 05:50:00</td><td>47709180</td><td>3</td><td>Female</td><td>White</td><td>0</td><td>57</td><td>1</td><td>172.72</td><td>99.79</td></tr>\n",
       "</tbody>\n",
       "</table>\n"
      ],
      "text/latex": [
       "A data.frame: 2 × 13\n",
       "\\begin{tabular}{lllllllllllll}\n",
       " anon\\_id & pat\\_enc\\_csn\\_id\\_coded & label & admit\\_time & inpatient\\_data\\_id\\_coded & ESI & gender & race & insurance & age & English & Height & Weight\\\\\n",
       " <chr> & <dbl> & <int> & <chr> & <int> & <int> & <chr> & <chr> & <int> & <int> & <int> & <dbl> & <dbl>\\\\\n",
       "\\hline\n",
       "\t JCcb944f & 131285654660 & 0 & 2020-03-31 07:00:00 & 47095189 & 3 & Female & White & 0 & 78 & 1 & 163.00 & 54.00\\\\\n",
       "\t JCd4ce6c & 131287327918 & 0 & 2020-03-30 05:50:00 & 47709180 & 3 & Female & White & 0 & 57 & 1 & 172.72 & 99.79\\\\\n",
       "\\end{tabular}\n"
      ],
      "text/markdown": [
       "\n",
       "A data.frame: 2 × 13\n",
       "\n",
       "| anon_id &lt;chr&gt; | pat_enc_csn_id_coded &lt;dbl&gt; | label &lt;int&gt; | admit_time &lt;chr&gt; | inpatient_data_id_coded &lt;int&gt; | ESI &lt;int&gt; | gender &lt;chr&gt; | race &lt;chr&gt; | insurance &lt;int&gt; | age &lt;int&gt; | English &lt;int&gt; | Height &lt;dbl&gt; | Weight &lt;dbl&gt; |\n",
       "|---|---|---|---|---|---|---|---|---|---|---|---|---|\n",
       "| JCcb944f | 131285654660 | 0 | 2020-03-31 07:00:00 | 47095189 | 3 | Female | White | 0 | 78 | 1 | 163.00 | 54.00 |\n",
       "| JCd4ce6c | 131287327918 | 0 | 2020-03-30 05:50:00 | 47709180 | 3 | Female | White | 0 | 57 | 1 | 172.72 | 99.79 |\n",
       "\n"
      ],
      "text/plain": [
       "  anon_id  pat_enc_csn_id_coded label admit_time         \n",
       "1 JCcb944f 131285654660         0     2020-03-31 07:00:00\n",
       "2 JCd4ce6c 131287327918         0     2020-03-30 05:50:00\n",
       "  inpatient_data_id_coded ESI gender race  insurance age English Height Weight\n",
       "1 47095189                3   Female White 0         78  1       163.00 54.00 \n",
       "2 47709180                3   Female White 0         57  1       172.72 99.79 "
      ]
     },
     "metadata": {},
     "output_type": "display_data"
    },
    {
     "data": {
      "text/html": [
       "<table class=\"dataframe\">\n",
       "<caption>A data.frame: 2 × 13</caption>\n",
       "<thead>\n",
       "\t<tr><th scope=col>anon_id</th><th scope=col>pat_enc_csn_id_coded</th><th scope=col>label</th><th scope=col>admit_time</th><th scope=col>inpatient_data_id_coded</th><th scope=col>ESI</th><th scope=col>gender</th><th scope=col>race</th><th scope=col>insurance</th><th scope=col>age</th><th scope=col>English</th><th scope=col>Height</th><th scope=col>Weight</th></tr>\n",
       "\t<tr><th scope=col>&lt;chr&gt;</th><th scope=col>&lt;dbl&gt;</th><th scope=col>&lt;int&gt;</th><th scope=col>&lt;chr&gt;</th><th scope=col>&lt;int&gt;</th><th scope=col>&lt;int&gt;</th><th scope=col>&lt;chr&gt;</th><th scope=col>&lt;chr&gt;</th><th scope=col>&lt;int&gt;</th><th scope=col>&lt;int&gt;</th><th scope=col>&lt;int&gt;</th><th scope=col>&lt;dbl&gt;</th><th scope=col>&lt;dbl&gt;</th></tr>\n",
       "</thead>\n",
       "<tbody>\n",
       "\t<tr><td>JC512962 </td><td>131285654660</td><td>1</td><td>2020-04-02 19:34:00</td><td>52331108</td><td>3</td><td>Female</td><td>White</td><td>0</td><td>78</td><td>1</td><td>163</td><td>53</td></tr>\n",
       "\t<tr><td>JC1466188</td><td>131287327918</td><td>0</td><td>2020-04-19 05:50:00</td><td>52945099</td><td>3</td><td>Female</td><td>White</td><td>1</td><td>55</td><td>1</td><td>173</td><td>92</td></tr>\n",
       "</tbody>\n",
       "</table>\n"
      ],
      "text/latex": [
       "A data.frame: 2 × 13\n",
       "\\begin{tabular}{lllllllllllll}\n",
       " anon\\_id & pat\\_enc\\_csn\\_id\\_coded & label & admit\\_time & inpatient\\_data\\_id\\_coded & ESI & gender & race & insurance & age & English & Height & Weight\\\\\n",
       " <chr> & <dbl> & <int> & <chr> & <int> & <int> & <chr> & <chr> & <int> & <int> & <int> & <dbl> & <dbl>\\\\\n",
       "\\hline\n",
       "\t JC512962  & 131285654660 & 1 & 2020-04-02 19:34:00 & 52331108 & 3 & Female & White & 0 & 78 & 1 & 163 & 53\\\\\n",
       "\t JC1466188 & 131287327918 & 0 & 2020-04-19 05:50:00 & 52945099 & 3 & Female & White & 1 & 55 & 1 & 173 & 92\\\\\n",
       "\\end{tabular}\n"
      ],
      "text/markdown": [
       "\n",
       "A data.frame: 2 × 13\n",
       "\n",
       "| anon_id &lt;chr&gt; | pat_enc_csn_id_coded &lt;dbl&gt; | label &lt;int&gt; | admit_time &lt;chr&gt; | inpatient_data_id_coded &lt;int&gt; | ESI &lt;int&gt; | gender &lt;chr&gt; | race &lt;chr&gt; | insurance &lt;int&gt; | age &lt;int&gt; | English &lt;int&gt; | Height &lt;dbl&gt; | Weight &lt;dbl&gt; |\n",
       "|---|---|---|---|---|---|---|---|---|---|---|---|---|\n",
       "| JC512962  | 131285654660 | 1 | 2020-04-02 19:34:00 | 52331108 | 3 | Female | White | 0 | 78 | 1 | 163 | 53 |\n",
       "| JC1466188 | 131287327918 | 0 | 2020-04-19 05:50:00 | 52945099 | 3 | Female | White | 1 | 55 | 1 | 173 | 92 |\n",
       "\n"
      ],
      "text/plain": [
       "  anon_id   pat_enc_csn_id_coded label admit_time         \n",
       "1 JC512962  131285654660         1     2020-04-02 19:34:00\n",
       "2 JC1466188 131287327918         0     2020-04-19 05:50:00\n",
       "  inpatient_data_id_coded ESI gender race  insurance age English Height Weight\n",
       "1 52331108                3   Female White 0         78  1       163    53    \n",
       "2 52945099                3   Female White 1         55  1       173    92    "
      ]
     },
     "metadata": {},
     "output_type": "display_data"
    },
    {
     "data": {
      "text/html": [
       "<table class=\"dataframe\">\n",
       "<caption>A data.frame: 2 × 18</caption>\n",
       "<thead>\n",
       "\t<tr><th scope=col>anon_id</th><th scope=col>pat_enc_csn_id_coded</th><th scope=col>inpatient_data_id_coded</th><th scope=col>admit_time</th><th scope=col>label_max24</th><th scope=col>label_24hr_recent</th><th scope=col>admit_label</th><th scope=col>has_admit_label</th><th scope=col>died_within_24hrs</th><th scope=col>death_24hr_max_label</th><th scope=col>death_24hr_recent_label</th><th scope=col>first_label</th><th scope=col>first_label_minutes_since_admit</th><th scope=col>acute_to_critical_label_recent</th><th scope=col>critical_to_acute_label_recent</th><th scope=col>acute_to_critical_label_max</th><th scope=col>critical_to_acute_label_max</th><th scope=col>previous_icu_visit</th></tr>\n",
       "\t<tr><th scope=col>&lt;chr&gt;</th><th scope=col>&lt;dbl&gt;</th><th scope=col>&lt;int&gt;</th><th scope=col>&lt;chr&gt;</th><th scope=col>&lt;int&gt;</th><th scope=col>&lt;int&gt;</th><th scope=col>&lt;int&gt;</th><th scope=col>&lt;int&gt;</th><th scope=col>&lt;int&gt;</th><th scope=col>&lt;int&gt;</th><th scope=col>&lt;int&gt;</th><th scope=col>&lt;int&gt;</th><th scope=col>&lt;int&gt;</th><th scope=col>&lt;int&gt;</th><th scope=col>&lt;int&gt;</th><th scope=col>&lt;int&gt;</th><th scope=col>&lt;int&gt;</th><th scope=col>&lt;chr&gt;</th></tr>\n",
       "</thead>\n",
       "<tbody>\n",
       "\t<tr><td>JC512962 </td><td>131285654660</td><td>52331108</td><td>2020-04-02 19:34:00+00:00</td><td>1</td><td>1</td><td>0</td><td>1</td><td>0</td><td>1</td><td>1</td><td>0</td><td>0</td><td>1</td><td>0</td><td>1</td><td>0</td><td>False</td></tr>\n",
       "\t<tr><td>JC1466188</td><td>131287327918</td><td>52945099</td><td>2020-04-19 05:50:00+00:00</td><td>0</td><td>0</td><td>0</td><td>1</td><td>0</td><td>0</td><td>0</td><td>0</td><td>0</td><td>0</td><td>0</td><td>0</td><td>0</td><td>False</td></tr>\n",
       "</tbody>\n",
       "</table>\n"
      ],
      "text/latex": [
       "A data.frame: 2 × 18\n",
       "\\begin{tabular}{llllllllllllllllll}\n",
       " anon\\_id & pat\\_enc\\_csn\\_id\\_coded & inpatient\\_data\\_id\\_coded & admit\\_time & label\\_max24 & label\\_24hr\\_recent & admit\\_label & has\\_admit\\_label & died\\_within\\_24hrs & death\\_24hr\\_max\\_label & death\\_24hr\\_recent\\_label & first\\_label & first\\_label\\_minutes\\_since\\_admit & acute\\_to\\_critical\\_label\\_recent & critical\\_to\\_acute\\_label\\_recent & acute\\_to\\_critical\\_label\\_max & critical\\_to\\_acute\\_label\\_max & previous\\_icu\\_visit\\\\\n",
       " <chr> & <dbl> & <int> & <chr> & <int> & <int> & <int> & <int> & <int> & <int> & <int> & <int> & <int> & <int> & <int> & <int> & <int> & <chr>\\\\\n",
       "\\hline\n",
       "\t JC512962  & 131285654660 & 52331108 & 2020-04-02 19:34:00+00:00 & 1 & 1 & 0 & 1 & 0 & 1 & 1 & 0 & 0 & 1 & 0 & 1 & 0 & False\\\\\n",
       "\t JC1466188 & 131287327918 & 52945099 & 2020-04-19 05:50:00+00:00 & 0 & 0 & 0 & 1 & 0 & 0 & 0 & 0 & 0 & 0 & 0 & 0 & 0 & False\\\\\n",
       "\\end{tabular}\n"
      ],
      "text/markdown": [
       "\n",
       "A data.frame: 2 × 18\n",
       "\n",
       "| anon_id &lt;chr&gt; | pat_enc_csn_id_coded &lt;dbl&gt; | inpatient_data_id_coded &lt;int&gt; | admit_time &lt;chr&gt; | label_max24 &lt;int&gt; | label_24hr_recent &lt;int&gt; | admit_label &lt;int&gt; | has_admit_label &lt;int&gt; | died_within_24hrs &lt;int&gt; | death_24hr_max_label &lt;int&gt; | death_24hr_recent_label &lt;int&gt; | first_label &lt;int&gt; | first_label_minutes_since_admit &lt;int&gt; | acute_to_critical_label_recent &lt;int&gt; | critical_to_acute_label_recent &lt;int&gt; | acute_to_critical_label_max &lt;int&gt; | critical_to_acute_label_max &lt;int&gt; | previous_icu_visit &lt;chr&gt; |\n",
       "|---|---|---|---|---|---|---|---|---|---|---|---|---|---|---|---|---|---|\n",
       "| JC512962  | 131285654660 | 52331108 | 2020-04-02 19:34:00+00:00 | 1 | 1 | 0 | 1 | 0 | 1 | 1 | 0 | 0 | 1 | 0 | 1 | 0 | False |\n",
       "| JC1466188 | 131287327918 | 52945099 | 2020-04-19 05:50:00+00:00 | 0 | 0 | 0 | 1 | 0 | 0 | 0 | 0 | 0 | 0 | 0 | 0 | 0 | False |\n",
       "\n"
      ],
      "text/plain": [
       "  anon_id   pat_enc_csn_id_coded inpatient_data_id_coded\n",
       "1 JC512962  131285654660         52331108               \n",
       "2 JC1466188 131287327918         52945099               \n",
       "  admit_time                label_max24 label_24hr_recent admit_label\n",
       "1 2020-04-02 19:34:00+00:00 1           1                 0          \n",
       "2 2020-04-19 05:50:00+00:00 0           0                 0          \n",
       "  has_admit_label died_within_24hrs death_24hr_max_label\n",
       "1 1               0                 1                   \n",
       "2 1               0                 0                   \n",
       "  death_24hr_recent_label first_label first_label_minutes_since_admit\n",
       "1 1                       0           0                              \n",
       "2 0                       0           0                              \n",
       "  acute_to_critical_label_recent critical_to_acute_label_recent\n",
       "1 1                              0                             \n",
       "2 0                              0                             \n",
       "  acute_to_critical_label_max critical_to_acute_label_max previous_icu_visit\n",
       "1 1                           0                           False             \n",
       "2 0                           0                           False             "
      ]
     },
     "metadata": {},
     "output_type": "display_data"
    },
    {
     "data": {
      "text/html": [
       "<table class=\"dataframe\">\n",
       "<caption>A data.frame: 2 × 18</caption>\n",
       "<thead>\n",
       "\t<tr><th scope=col>anon_id</th><th scope=col>pat_enc_csn_id_coded</th><th scope=col>inpatient_data_id_coded</th><th scope=col>admit_time</th><th scope=col>label_max24</th><th scope=col>label_24hr_recent</th><th scope=col>admit_label</th><th scope=col>has_admit_label</th><th scope=col>died_within_24hrs</th><th scope=col>death_24hr_max_label</th><th scope=col>death_24hr_recent_label</th><th scope=col>first_label</th><th scope=col>first_label_minutes_since_admit</th><th scope=col>acute_to_critical_label_recent</th><th scope=col>critical_to_acute_label_recent</th><th scope=col>acute_to_critical_label_max</th><th scope=col>critical_to_acute_label_max</th><th scope=col>previous_icu_visit</th></tr>\n",
       "\t<tr><th scope=col>&lt;chr&gt;</th><th scope=col>&lt;dbl&gt;</th><th scope=col>&lt;int&gt;</th><th scope=col>&lt;chr&gt;</th><th scope=col>&lt;int&gt;</th><th scope=col>&lt;int&gt;</th><th scope=col>&lt;int&gt;</th><th scope=col>&lt;int&gt;</th><th scope=col>&lt;int&gt;</th><th scope=col>&lt;int&gt;</th><th scope=col>&lt;int&gt;</th><th scope=col>&lt;int&gt;</th><th scope=col>&lt;int&gt;</th><th scope=col>&lt;int&gt;</th><th scope=col>&lt;int&gt;</th><th scope=col>&lt;int&gt;</th><th scope=col>&lt;int&gt;</th><th scope=col>&lt;chr&gt;</th></tr>\n",
       "</thead>\n",
       "<tbody>\n",
       "\t<tr><td>JC512962 </td><td>131285654660</td><td>52331108</td><td>2020-04-02 19:34:00+00:00</td><td>1</td><td>1</td><td>0</td><td>1</td><td>0</td><td>1</td><td>1</td><td>0</td><td>0</td><td>1</td><td>0</td><td>1</td><td>0</td><td>False</td></tr>\n",
       "\t<tr><td>JC1466188</td><td>131287327918</td><td>52945099</td><td>2020-04-19 05:50:00+00:00</td><td>0</td><td>0</td><td>0</td><td>1</td><td>0</td><td>0</td><td>0</td><td>0</td><td>0</td><td>0</td><td>0</td><td>0</td><td>0</td><td>False</td></tr>\n",
       "</tbody>\n",
       "</table>\n"
      ],
      "text/latex": [
       "A data.frame: 2 × 18\n",
       "\\begin{tabular}{llllllllllllllllll}\n",
       " anon\\_id & pat\\_enc\\_csn\\_id\\_coded & inpatient\\_data\\_id\\_coded & admit\\_time & label\\_max24 & label\\_24hr\\_recent & admit\\_label & has\\_admit\\_label & died\\_within\\_24hrs & death\\_24hr\\_max\\_label & death\\_24hr\\_recent\\_label & first\\_label & first\\_label\\_minutes\\_since\\_admit & acute\\_to\\_critical\\_label\\_recent & critical\\_to\\_acute\\_label\\_recent & acute\\_to\\_critical\\_label\\_max & critical\\_to\\_acute\\_label\\_max & previous\\_icu\\_visit\\\\\n",
       " <chr> & <dbl> & <int> & <chr> & <int> & <int> & <int> & <int> & <int> & <int> & <int> & <int> & <int> & <int> & <int> & <int> & <int> & <chr>\\\\\n",
       "\\hline\n",
       "\t JC512962  & 131285654660 & 52331108 & 2020-04-02 19:34:00+00:00 & 1 & 1 & 0 & 1 & 0 & 1 & 1 & 0 & 0 & 1 & 0 & 1 & 0 & False\\\\\n",
       "\t JC1466188 & 131287327918 & 52945099 & 2020-04-19 05:50:00+00:00 & 0 & 0 & 0 & 1 & 0 & 0 & 0 & 0 & 0 & 0 & 0 & 0 & 0 & False\\\\\n",
       "\\end{tabular}\n"
      ],
      "text/markdown": [
       "\n",
       "A data.frame: 2 × 18\n",
       "\n",
       "| anon_id &lt;chr&gt; | pat_enc_csn_id_coded &lt;dbl&gt; | inpatient_data_id_coded &lt;int&gt; | admit_time &lt;chr&gt; | label_max24 &lt;int&gt; | label_24hr_recent &lt;int&gt; | admit_label &lt;int&gt; | has_admit_label &lt;int&gt; | died_within_24hrs &lt;int&gt; | death_24hr_max_label &lt;int&gt; | death_24hr_recent_label &lt;int&gt; | first_label &lt;int&gt; | first_label_minutes_since_admit &lt;int&gt; | acute_to_critical_label_recent &lt;int&gt; | critical_to_acute_label_recent &lt;int&gt; | acute_to_critical_label_max &lt;int&gt; | critical_to_acute_label_max &lt;int&gt; | previous_icu_visit &lt;chr&gt; |\n",
       "|---|---|---|---|---|---|---|---|---|---|---|---|---|---|---|---|---|---|\n",
       "| JC512962  | 131285654660 | 52331108 | 2020-04-02 19:34:00+00:00 | 1 | 1 | 0 | 1 | 0 | 1 | 1 | 0 | 0 | 1 | 0 | 1 | 0 | False |\n",
       "| JC1466188 | 131287327918 | 52945099 | 2020-04-19 05:50:00+00:00 | 0 | 0 | 0 | 1 | 0 | 0 | 0 | 0 | 0 | 0 | 0 | 0 | 0 | False |\n",
       "\n"
      ],
      "text/plain": [
       "  anon_id   pat_enc_csn_id_coded inpatient_data_id_coded\n",
       "1 JC512962  131285654660         52331108               \n",
       "2 JC1466188 131287327918         52945099               \n",
       "  admit_time                label_max24 label_24hr_recent admit_label\n",
       "1 2020-04-02 19:34:00+00:00 1           1                 0          \n",
       "2 2020-04-19 05:50:00+00:00 0           0                 0          \n",
       "  has_admit_label died_within_24hrs death_24hr_max_label\n",
       "1 1               0                 1                   \n",
       "2 1               0                 0                   \n",
       "  death_24hr_recent_label first_label first_label_minutes_since_admit\n",
       "1 1                       0           0                              \n",
       "2 0                       0           0                              \n",
       "  acute_to_critical_label_recent critical_to_acute_label_recent\n",
       "1 1                              0                             \n",
       "2 0                              0                             \n",
       "  acute_to_critical_label_max critical_to_acute_label_max previous_icu_visit\n",
       "1 1                           0                           False             \n",
       "2 0                           0                           False             "
      ]
     },
     "metadata": {},
     "output_type": "display_data"
    },
    {
     "data": {
      "text/html": [
       "<table class=\"dataframe\">\n",
       "<caption>A data.frame: 0 × 10</caption>\n",
       "<thead>\n",
       "\t<tr><th scope=col>anon_id</th><th scope=col>pat_enc_csn_id_coded</th><th scope=col>inpatient_data_id_coded</th><th scope=col>admit_time</th><th scope=col>label</th><th scope=col>DBP</th><th scope=col>Pulse</th><th scope=col>RR</th><th scope=col>SBP</th><th scope=col>Temp</th></tr>\n",
       "\t<tr><th scope=col>&lt;chr&gt;</th><th scope=col>&lt;dbl&gt;</th><th scope=col>&lt;int&gt;</th><th scope=col>&lt;chr&gt;</th><th scope=col>&lt;int&gt;</th><th scope=col>&lt;int&gt;</th><th scope=col>&lt;int&gt;</th><th scope=col>&lt;int&gt;</th><th scope=col>&lt;int&gt;</th><th scope=col>&lt;dbl&gt;</th></tr>\n",
       "</thead>\n",
       "<tbody>\n",
       "</tbody>\n",
       "</table>\n"
      ],
      "text/latex": [
       "A data.frame: 0 × 10\n",
       "\\begin{tabular}{llllllllll}\n",
       " anon\\_id & pat\\_enc\\_csn\\_id\\_coded & inpatient\\_data\\_id\\_coded & admit\\_time & label & DBP & Pulse & RR & SBP & Temp\\\\\n",
       " <chr> & <dbl> & <int> & <chr> & <int> & <int> & <int> & <int> & <int> & <dbl>\\\\\n",
       "\\hline\n",
       "\\end{tabular}\n"
      ],
      "text/markdown": [
       "\n",
       "A data.frame: 0 × 10\n",
       "\n",
       "| anon_id &lt;chr&gt; | pat_enc_csn_id_coded &lt;dbl&gt; | inpatient_data_id_coded &lt;int&gt; | admit_time &lt;chr&gt; | label &lt;int&gt; | DBP &lt;int&gt; | Pulse &lt;int&gt; | RR &lt;int&gt; | SBP &lt;int&gt; | Temp &lt;dbl&gt; |\n",
       "|---|---|---|---|---|---|---|---|---|---|\n",
       "\n"
      ],
      "text/plain": [
       "     anon_id pat_enc_csn_id_coded inpatient_data_id_coded admit_time label DBP\n",
       "     Pulse RR SBP Temp"
      ]
     },
     "metadata": {},
     "output_type": "display_data"
    },
    {
     "data": {
      "text/html": [
       "<table class=\"dataframe\">\n",
       "<caption>A data.frame: 2 × 10</caption>\n",
       "<thead>\n",
       "\t<tr><th scope=col>anon_id</th><th scope=col>pat_enc_csn_id_coded</th><th scope=col>inpatient_data_id_coded</th><th scope=col>admit_time</th><th scope=col>label</th><th scope=col>DBP</th><th scope=col>Pulse</th><th scope=col>RR</th><th scope=col>SBP</th><th scope=col>Temp</th></tr>\n",
       "\t<tr><th scope=col>&lt;chr&gt;</th><th scope=col>&lt;dbl&gt;</th><th scope=col>&lt;int&gt;</th><th scope=col>&lt;chr&gt;</th><th scope=col>&lt;int&gt;</th><th scope=col>&lt;int&gt;</th><th scope=col>&lt;int&gt;</th><th scope=col>&lt;int&gt;</th><th scope=col>&lt;int&gt;</th><th scope=col>&lt;dbl&gt;</th></tr>\n",
       "</thead>\n",
       "<tbody>\n",
       "\t<tr><td>JC512962 </td><td>131285654660</td><td>52331108</td><td>2020-04-02 19:34:00+00:00</td><td>1</td><td>58</td><td> 87</td><td>16</td><td>186</td><td>37</td></tr>\n",
       "\t<tr><td>JC1466188</td><td>131287327918</td><td>52945099</td><td>2020-04-19 05:50:00+00:00</td><td>0</td><td>86</td><td>104</td><td>20</td><td>130</td><td>37</td></tr>\n",
       "</tbody>\n",
       "</table>\n"
      ],
      "text/latex": [
       "A data.frame: 2 × 10\n",
       "\\begin{tabular}{llllllllll}\n",
       " anon\\_id & pat\\_enc\\_csn\\_id\\_coded & inpatient\\_data\\_id\\_coded & admit\\_time & label & DBP & Pulse & RR & SBP & Temp\\\\\n",
       " <chr> & <dbl> & <int> & <chr> & <int> & <int> & <int> & <int> & <int> & <dbl>\\\\\n",
       "\\hline\n",
       "\t JC512962  & 131285654660 & 52331108 & 2020-04-02 19:34:00+00:00 & 1 & 58 &  87 & 16 & 186 & 37\\\\\n",
       "\t JC1466188 & 131287327918 & 52945099 & 2020-04-19 05:50:00+00:00 & 0 & 86 & 104 & 20 & 130 & 37\\\\\n",
       "\\end{tabular}\n"
      ],
      "text/markdown": [
       "\n",
       "A data.frame: 2 × 10\n",
       "\n",
       "| anon_id &lt;chr&gt; | pat_enc_csn_id_coded &lt;dbl&gt; | inpatient_data_id_coded &lt;int&gt; | admit_time &lt;chr&gt; | label &lt;int&gt; | DBP &lt;int&gt; | Pulse &lt;int&gt; | RR &lt;int&gt; | SBP &lt;int&gt; | Temp &lt;dbl&gt; |\n",
       "|---|---|---|---|---|---|---|---|---|---|\n",
       "| JC512962  | 131285654660 | 52331108 | 2020-04-02 19:34:00+00:00 | 1 | 58 |  87 | 16 | 186 | 37 |\n",
       "| JC1466188 | 131287327918 | 52945099 | 2020-04-19 05:50:00+00:00 | 0 | 86 | 104 | 20 | 130 | 37 |\n",
       "\n"
      ],
      "text/plain": [
       "  anon_id   pat_enc_csn_id_coded inpatient_data_id_coded\n",
       "1 JC512962  131285654660         52331108               \n",
       "2 JC1466188 131287327918         52945099               \n",
       "  admit_time                label DBP Pulse RR SBP Temp\n",
       "1 2020-04-02 19:34:00+00:00 1     58   87   16 186 37  \n",
       "2 2020-04-19 05:50:00+00:00 0     86  104   20 130 37  "
      ]
     },
     "metadata": {},
     "output_type": "display_data"
    }
   ],
   "source": [
    "# we found 2 patients, same csn but different anon_id. need to remove them from the new cohort\n",
    "\n",
    "demo_hw0 %>% filter(pat_enc_csn_id_coded %in% c(131287327918, 131285654660)) %>% arrange(pat_enc_csn_id_coded)\n",
    "demo_hw6 %>% filter(pat_enc_csn_id_coded %in% c(131287327918, 131285654660)) %>% arrange(pat_enc_csn_id_coded)\n",
    "\n",
    "cohort4 %>% filter(pat_enc_csn_id_coded %in% c(131287327918, 131285654660)) %>% arrange(pat_enc_csn_id_coded)\n",
    "cohort4_6 %>% filter(pat_enc_csn_id_coded %in% c(131287327918, 131285654660)) %>% arrange(pat_enc_csn_id_coded)\n",
    "\n",
    "cohort3_0 %>% filter(pat_enc_csn_id_coded %in% c(131287327918, 131285654660)) %>% arrange(pat_enc_csn_id_coded)\n",
    "cohort3_6%>% filter(pat_enc_csn_id_coded %in% c(131287327918, 131285654660)) %>% arrange(pat_enc_csn_id_coded)"
   ]
  },
  {
   "cell_type": "markdown",
   "metadata": {},
   "source": [
    "### CONTINUE HERE"
   ]
  },
  {
   "cell_type": "code",
   "execution_count": 7,
   "metadata": {},
   "outputs": [
    {
     "name": "stderr",
     "output_type": "stream",
     "text": [
      "Joining, by = c(\"anon_id\", \"pat_enc_csn_id_coded\", \"inpatient_data_id_coded\", \"admit_time\", \"label\")\n",
      "\n"
     ]
    },
    {
     "data": {
      "text/html": [
       "60742"
      ],
      "text/latex": [
       "60742"
      ],
      "text/markdown": [
       "60742"
      ],
      "text/plain": [
       "[1] 60742"
      ]
     },
     "metadata": {},
     "output_type": "display_data"
    },
    {
     "data": {
      "text/html": [
       "60742"
      ],
      "text/latex": [
       "60742"
      ],
      "text/markdown": [
       "60742"
      ],
      "text/plain": [
       "[1] 60742"
      ]
     },
     "metadata": {},
     "output_type": "display_data"
    },
    {
     "data": {
      "text/html": [
       "<style>\n",
       ".list-inline {list-style: none; margin:0; padding: 0}\n",
       ".list-inline>li {display: inline-block}\n",
       ".list-inline>li:not(:last-child)::after {content: \"\\00b7\"; padding: 0 .5ex}\n",
       "</style>\n",
       "<ol class=list-inline><li>'anon_id'</li><li>'pat_enc_csn_id_coded'</li><li>'inpatient_data_id_coded'</li><li>'admit_time'</li><li>'label'</li><li>'DBP'</li><li>'Pulse'</li><li>'RR'</li><li>'SBP'</li><li>'Temp'</li><li>'ESI'</li><li>'gender'</li><li>'race'</li><li>'insurance'</li><li>'age'</li><li>'English'</li><li>'Height'</li><li>'Weight'</li></ol>\n"
      ],
      "text/latex": [
       "\\begin{enumerate*}\n",
       "\\item 'anon\\_id'\n",
       "\\item 'pat\\_enc\\_csn\\_id\\_coded'\n",
       "\\item 'inpatient\\_data\\_id\\_coded'\n",
       "\\item 'admit\\_time'\n",
       "\\item 'label'\n",
       "\\item 'DBP'\n",
       "\\item 'Pulse'\n",
       "\\item 'RR'\n",
       "\\item 'SBP'\n",
       "\\item 'Temp'\n",
       "\\item 'ESI'\n",
       "\\item 'gender'\n",
       "\\item 'race'\n",
       "\\item 'insurance'\n",
       "\\item 'age'\n",
       "\\item 'English'\n",
       "\\item 'Height'\n",
       "\\item 'Weight'\n",
       "\\end{enumerate*}\n"
      ],
      "text/markdown": [
       "1. 'anon_id'\n",
       "2. 'pat_enc_csn_id_coded'\n",
       "3. 'inpatient_data_id_coded'\n",
       "4. 'admit_time'\n",
       "5. 'label'\n",
       "6. 'DBP'\n",
       "7. 'Pulse'\n",
       "8. 'RR'\n",
       "9. 'SBP'\n",
       "10. 'Temp'\n",
       "11. 'ESI'\n",
       "12. 'gender'\n",
       "13. 'race'\n",
       "14. 'insurance'\n",
       "15. 'age'\n",
       "16. 'English'\n",
       "17. 'Height'\n",
       "18. 'Weight'\n",
       "\n",
       "\n"
      ],
      "text/plain": [
       " [1] \"anon_id\"                 \"pat_enc_csn_id_coded\"   \n",
       " [3] \"inpatient_data_id_coded\" \"admit_time\"             \n",
       " [5] \"label\"                   \"DBP\"                    \n",
       " [7] \"Pulse\"                   \"RR\"                     \n",
       " [9] \"SBP\"                     \"Temp\"                   \n",
       "[11] \"ESI\"                     \"gender\"                 \n",
       "[13] \"race\"                    \"insurance\"              \n",
       "[15] \"age\"                     \"English\"                \n",
       "[17] \"Height\"                  \"Weight\"                 "
      ]
     },
     "metadata": {},
     "output_type": "display_data"
    }
   ],
   "source": [
    "# combined demo_HW with first set of vitals\n",
    "cohort3 <- cohort3 %>% mutate(admit_time = ymd_hms(admit_time))\n",
    "demo_hw <- demo_hw %>% mutate(admit_time = ymd_hms(admit_time))\n",
    "\n",
    "cohort3_demoHW <- left_join(cohort3, demo_hw) # by=c('anon_id', 'pat_enc_csn_id_coded', 'inpatient_data_id_coded'))\n",
    "nrow(cohort3_demoHW) # 60464\n",
    "nrow(cohort3_demoHW %>% select(pat_enc_csn_id_coded) %>% distinct()) #44258\n",
    "colnames(cohort3_demoHW)"
   ]
  },
  {
   "cell_type": "code",
   "execution_count": 8,
   "metadata": {},
   "outputs": [
    {
     "data": {
      "text/plain": [
       "      age             Height          Weight      \n",
       " Min.   : 18.00   Min.   :115.0   Min.   : 20.50  \n",
       " 1st Qu.: 45.00   1st Qu.:160.0   1st Qu.: 61.10  \n",
       " Median : 61.00   Median :168.0   Median : 73.71  \n",
       " Mean   : 58.62   Mean   :168.1   Mean   : 77.06  \n",
       " 3rd Qu.: 73.00   3rd Qu.:175.3   3rd Qu.: 88.30  \n",
       " Max.   :107.00   Max.   :213.0   Max.   :322.00  \n",
       "                  NA's   :1730    NA's   :325     "
      ]
     },
     "metadata": {},
     "output_type": "display_data"
    },
    {
     "data": {
      "text/plain": [
       "      age             Height          Weight      \n",
       " Min.   : 18.00   Min.   :115.0   Min.   : 20.50  \n",
       " 1st Qu.: 45.00   1st Qu.:160.0   1st Qu.: 61.10  \n",
       " Median : 61.00   Median :168.0   Median : 73.71  \n",
       " Mean   : 58.62   Mean   :168.1   Mean   : 77.06  \n",
       " 3rd Qu.: 73.00   3rd Qu.:175.3   3rd Qu.: 88.30  \n",
       " Max.   :107.00   Max.   :213.0   Max.   :322.00  \n",
       "                  NA's   :1730    NA's   :325     "
      ]
     },
     "metadata": {},
     "output_type": "display_data"
    }
   ],
   "source": [
    "summary(demo_hw %>% select(age, Height, Weight)) \n",
    "summary(cohort3_demoHW %>% select(age, Height, Weight)) # 1730/60742 = 2.85% missing; and 325/60742 = 0.54% missing"
   ]
  },
  {
   "cell_type": "markdown",
   "metadata": {},
   "source": [
    "### Imputation for Height and Weight \n",
    "- Using just the demographics' variables: gender, race, age, insurance, Height, Weight\n",
    "- Output: keep imputed height and weight, and add indicators for missingness\n",
    "- Could use mice, however, simpler approach just use pmm method for 1 single imputation\n",
    "- Use m=10 (m=5 is ok) as dataset is large and we end up only get 1 imputed dataset\n",
    "- https://statisticalhorizons.com/predictive-mean-matching, how many cases (k) should be in each match set. Morris et al. (2014) recommended k=10 for most situations. But a lot depends on sample size. With large samples, k=10 is probably the better choice."
   ]
  },
  {
   "cell_type": "code",
   "execution_count": 9,
   "metadata": {
    "ExecuteTime": {
     "end_time": "2020-05-21T00:41:21.906051Z",
     "start_time": "2020-05-21T00:38:56.152Z"
    }
   },
   "outputs": [
    {
     "data": {
      "text/html": [
       "<table class=\"dataframe\">\n",
       "<caption>A matrix: 5 × 7 of type dbl</caption>\n",
       "<thead>\n",
       "\t<tr><th></th><th scope=col>gender</th><th scope=col>race</th><th scope=col>age</th><th scope=col>insurance</th><th scope=col>Weight</th><th scope=col>Height</th><th scope=col></th></tr>\n",
       "</thead>\n",
       "<tbody>\n",
       "\t<tr><th scope=row>58972</th><td>1</td><td>1</td><td>1</td><td>1</td><td>  1</td><td>   1</td><td>   0</td></tr>\n",
       "\t<tr><th scope=row>1445</th><td>1</td><td>1</td><td>1</td><td>1</td><td>  1</td><td>   0</td><td>   1</td></tr>\n",
       "\t<tr><th scope=row>40</th><td>1</td><td>1</td><td>1</td><td>1</td><td>  0</td><td>   1</td><td>   1</td></tr>\n",
       "\t<tr><th scope=row>285</th><td>1</td><td>1</td><td>1</td><td>1</td><td>  0</td><td>   0</td><td>   2</td></tr>\n",
       "\t<tr><th scope=row></th><td>0</td><td>0</td><td>0</td><td>0</td><td>325</td><td>1730</td><td>2055</td></tr>\n",
       "</tbody>\n",
       "</table>\n"
      ],
      "text/latex": [
       "A matrix: 5 × 7 of type dbl\n",
       "\\begin{tabular}{r|lllllll}\n",
       "  & gender & race & age & insurance & Weight & Height & \\\\\n",
       "\\hline\n",
       "\t58972 & 1 & 1 & 1 & 1 &   1 &    1 &    0\\\\\n",
       "\t1445 & 1 & 1 & 1 & 1 &   1 &    0 &    1\\\\\n",
       "\t40 & 1 & 1 & 1 & 1 &   0 &    1 &    1\\\\\n",
       "\t285 & 1 & 1 & 1 & 1 &   0 &    0 &    2\\\\\n",
       "\t & 0 & 0 & 0 & 0 & 325 & 1730 & 2055\\\\\n",
       "\\end{tabular}\n"
      ],
      "text/markdown": [
       "\n",
       "A matrix: 5 × 7 of type dbl\n",
       "\n",
       "| <!--/--> | gender | race | age | insurance | Weight | Height | <!----> |\n",
       "|---|---|---|---|---|---|---|---|\n",
       "| 58972 | 1 | 1 | 1 | 1 |   1 |    1 |    0 |\n",
       "| 1445 | 1 | 1 | 1 | 1 |   1 |    0 |    1 |\n",
       "| 40 | 1 | 1 | 1 | 1 |   0 |    1 |    1 |\n",
       "| 285 | 1 | 1 | 1 | 1 |   0 |    0 |    2 |\n",
       "| <!----> | 0 | 0 | 0 | 0 | 325 | 1730 | 2055 |\n",
       "\n"
      ],
      "text/plain": [
       "      gender race age insurance Weight Height     \n",
       "58972 1      1    1   1           1       1      0\n",
       "1445  1      1    1   1           1       0      1\n",
       "40    1      1    1   1           0       1      1\n",
       "285   1      1    1   1           0       0      2\n",
       "      0      0    0   0         325    1730   2055"
      ]
     },
     "metadata": {},
     "output_type": "display_data"
    },
    {
     "name": "stdout",
     "output_type": "stream",
     "text": [
      "\n",
      " iter imp variable\n",
      "  1   1  Height  Weight\n",
      "  1   2  Height  Weight\n",
      "  1   3  Height  Weight\n",
      "  2   1  Height  Weight\n",
      "  2   2  Height  Weight\n",
      "  2   3  Height  Weight\n",
      "  3   1  Height  Weight\n",
      "  3   2  Height  Weight\n",
      "  3   3  Height  Weight\n",
      "  4   1  Height  Weight\n",
      "  4   2  Height  Weight\n",
      "  4   3  Height  Weight\n",
      "  5   1  Height  Weight\n",
      "  5   2  Height  Weight\n",
      "  5   3  Height  Weight\n",
      "  6   1  Height  Weight\n",
      "  6   2  Height  Weight\n",
      "  6   3  Height  Weight\n",
      "  7   1  Height  Weight\n",
      "  7   2  Height  Weight\n",
      "  7   3  Height  Weight\n",
      "  8   1  Height  Weight\n",
      "  8   2  Height  Weight\n",
      "  8   3  Height  Weight\n",
      "  9   1  Height  Weight\n",
      "  9   2  Height  Weight\n",
      "  9   3  Height  Weight\n",
      "  10   1  Height  Weight\n",
      "  10   2  Height  Weight\n",
      "  10   3  Height  Weight\n",
      "  11   1  Height  Weight\n",
      "  11   2  Height  Weight\n",
      "  11   3  Height  Weight\n",
      "  12   1  Height  Weight\n",
      "  12   2  Height  Weight\n",
      "  12   3  Height  Weight\n",
      "  13   1  Height  Weight\n",
      "  13   2  Height  Weight\n",
      "  13   3  Height  Weight\n",
      "  14   1  Height  Weight\n",
      "  14   2  Height  Weight\n",
      "  14   3  Height  Weight\n",
      "  15   1  Height  Weight\n",
      "  15   2  Height  Weight\n",
      "  15   3  Height  Weight\n",
      "  16   1  Height  Weight\n",
      "  16   2  Height  Weight\n",
      "  16   3  Height  Weight\n",
      "  17   1  Height  Weight\n",
      "  17   2  Height  Weight\n",
      "  17   3  Height  Weight\n",
      "  18   1  Height  Weight\n",
      "  18   2  Height  Weight\n",
      "  18   3  Height  Weight\n",
      "  19   1  Height  Weight\n",
      "  19   2  Height  Weight\n",
      "  19   3  Height  Weight\n",
      "  20   1  Height  Weight\n",
      "  20   2  Height  Weight\n",
      "  20   3  Height  Weight\n",
      "  21   1  Height  Weight\n",
      "  21   2  Height  Weight\n",
      "  21   3  Height  Weight\n",
      "  22   1  Height  Weight\n",
      "  22   2  Height  Weight\n",
      "  22   3  Height  Weight\n",
      "  23   1  Height  Weight\n",
      "  23   2  Height  Weight\n",
      "  23   3  Height  Weight\n",
      "  24   1  Height  Weight\n",
      "  24   2  Height  Weight\n",
      "  24   3  Height  Weight\n",
      "  25   1  Height  Weight\n",
      "  25   2  Height  Weight\n",
      "  25   3  Height  Weight\n",
      "  26   1  Height  Weight\n",
      "  26   2  Height  Weight\n",
      "  26   3  Height  Weight\n",
      "  27   1  Height  Weight\n",
      "  27   2  Height  Weight\n",
      "  27   3  Height  Weight\n",
      "  28   1  Height  Weight\n",
      "  28   2  Height  Weight\n",
      "  28   3  Height  Weight\n",
      "  29   1  Height  Weight\n",
      "  29   2  Height  Weight\n",
      "  29   3  Height  Weight\n",
      "  30   1  Height  Weight\n",
      "  30   2  Height  Weight\n",
      "  30   3  Height  Weight\n",
      "  31   1  Height  Weight\n",
      "  31   2  Height  Weight\n",
      "  31   3  Height  Weight\n",
      "  32   1  Height  Weight\n",
      "  32   2  Height  Weight\n",
      "  32   3  Height  Weight\n",
      "  33   1  Height  Weight\n",
      "  33   2  Height  Weight\n",
      "  33   3  Height  Weight\n",
      "  34   1  Height  Weight\n",
      "  34   2  Height  Weight\n",
      "  34   3  Height  Weight\n",
      "  35   1  Height  Weight\n",
      "  35   2  Height  Weight\n",
      "  35   3  Height  Weight\n",
      "  36   1  Height  Weight\n",
      "  36   2  Height  Weight\n",
      "  36   3  Height  Weight\n",
      "  37   1  Height  Weight\n",
      "  37   2  Height  Weight\n",
      "  37   3  Height  Weight\n",
      "  38   1  Height  Weight\n",
      "  38   2  Height  Weight\n",
      "  38   3  Height  Weight\n",
      "  39   1  Height  Weight\n",
      "  39   2  Height  Weight\n",
      "  39   3  Height  Weight\n",
      "  40   1  Height  Weight\n",
      "  40   2  Height  Weight\n",
      "  40   3  Height  Weight\n",
      "  41   1  Height  Weight\n",
      "  41   2  Height  Weight\n",
      "  41   3  Height  Weight\n",
      "  42   1  Height  Weight\n",
      "  42   2  Height  Weight\n",
      "  42   3  Height  Weight\n",
      "  43   1  Height  Weight\n",
      "  43   2  Height  Weight\n",
      "  43   3  Height  Weight\n",
      "  44   1  Height  Weight\n",
      "  44   2  Height  Weight\n",
      "  44   3  Height  Weight\n",
      "  45   1  Height  Weight\n",
      "  45   2  Height  Weight\n",
      "  45   3  Height  Weight\n",
      "  46   1  Height  Weight\n",
      "  46   2  Height  Weight\n",
      "  46   3  Height  Weight\n",
      "  47   1  Height  Weight\n",
      "  47   2  Height  Weight\n",
      "  47   3  Height  Weight\n",
      "  48   1  Height  Weight\n",
      "  48   2  Height  Weight\n",
      "  48   3  Height  Weight\n",
      "  49   1  Height  Weight\n",
      "  49   2  Height  Weight\n",
      "  49   3  Height  Weight\n",
      "  50   1  Height  Weight\n",
      "  50   2  Height  Weight\n",
      "  50   3  Height  Weight\n"
     ]
    },
    {
     "name": "stderr",
     "output_type": "stream",
     "text": [
      "Warning message:\n",
      "“Number of logged events: 2”\n"
     ]
    },
    {
     "data": {
      "image/png": "[encoded data removed]",
      "text/plain": [
       "plot without title"
      ]
     },
     "metadata": {
      "image/png": {
       "height": 420,
       "width": 420
      }
     },
     "output_type": "display_data"
    }
   ],
   "source": [
    "# this takes awhile(~2min), set seed = 123\n",
    "# only impute 3 time, predictive mean matching with k=10\n",
    "\n",
    "hw <- demo_hw %>% select(gender, race, age, insurance, Height, Weight)\n",
    "\n",
    "md.pattern(hw)\n",
    "hw_mice <- mice(hw, m=3, donors=10, maxit=50, meth='pmm', seed=123)"
   ]
  },
  {
   "cell_type": "code",
   "execution_count": 10,
   "metadata": {},
   "outputs": [
    {
     "name": "stderr",
     "output_type": "stream",
     "text": [
      "Warning message in plot.aggr(res, ...):\n",
      "“not enough horizontal space to display frequencies”\n"
     ]
    },
    {
     "name": "stdout",
     "output_type": "stream",
     "text": [
      "\n",
      " Variables sorted by number of missings: \n",
      "                Variable       Count\n",
      "                     ESI 0.029633532\n",
      "                  Height 0.028481117\n",
      "                  Weight 0.005350499\n",
      "                 anon_id 0.000000000\n",
      "    pat_enc_csn_id_coded 0.000000000\n",
      "                   label 0.000000000\n",
      "              admit_time 0.000000000\n",
      " inpatient_data_id_coded 0.000000000\n",
      "                  gender 0.000000000\n",
      "                    race 0.000000000\n",
      "               insurance 0.000000000\n",
      "                     age 0.000000000\n",
      "                 English 0.000000000\n"
     ]
    },
    {
     "data": {
      "image/png": "[encoded data removed]",
      "text/plain": [
       "plot without title"
      ]
     },
     "metadata": {
      "image/png": {
       "height": 300,
       "width": 540
      }
     },
     "output_type": "display_data"
    }
   ],
   "source": [
    "options(repr.plot.width=9, repr.plot.height=5)\n",
    "aggr_plot <- aggr(demo_hw, col=c('navyblue','red'), numbers=TRUE, sortVars=TRUE, \n",
    "                  labels=names(demo_hw), cex.axis=.7, gap=3, ylab=c(\"Histogram of missing data\",\"Pattern\"))"
   ]
  },
  {
   "cell_type": "code",
   "execution_count": 11,
   "metadata": {
    "ExecuteTime": {
     "end_time": "2020-05-21T00:43:18.194040Z",
     "start_time": "2020-05-21T00:43:18.149Z"
    }
   },
   "outputs": [
    {
     "data": {
      "text/plain": [
       "    gender              race                age           insurance     \n",
       " Length:60742       Length:60742       Min.   : 18.00   Min.   :0.0000  \n",
       " Class :character   Class :character   1st Qu.: 45.00   1st Qu.:0.0000  \n",
       " Mode  :character   Mode  :character   Median : 61.00   Median :0.0000  \n",
       "                                       Mean   : 58.62   Mean   :0.4221  \n",
       "                                       3rd Qu.: 73.00   3rd Qu.:1.0000  \n",
       "                                       Max.   :107.00   Max.   :1.0000  \n",
       "     Height          Weight      \n",
       " Min.   :115.0   Min.   : 20.50  \n",
       " 1st Qu.:160.0   1st Qu.: 61.10  \n",
       " Median :168.0   Median : 73.71  \n",
       " Mean   :168.1   Mean   : 77.06  \n",
       " 3rd Qu.:175.3   3rd Qu.: 88.30  \n",
       " Max.   :213.0   Max.   :322.00  "
      ]
     },
     "metadata": {},
     "output_type": "display_data"
    },
    {
     "data": {
      "text/html": [
       "<style>\n",
       ".list-inline {list-style: none; margin:0; padding: 0}\n",
       ".list-inline>li {display: inline-block}\n",
       ".list-inline>li:not(:last-child)::after {content: \"\\00b7\"; padding: 0 .5ex}\n",
       "</style>\n",
       "<ol class=list-inline><li>'gender'</li><li>'race'</li><li>'age'</li><li>'insurance'</li><li>'Height'</li><li>'Weight'</li></ol>\n"
      ],
      "text/latex": [
       "\\begin{enumerate*}\n",
       "\\item 'gender'\n",
       "\\item 'race'\n",
       "\\item 'age'\n",
       "\\item 'insurance'\n",
       "\\item 'Height'\n",
       "\\item 'Weight'\n",
       "\\end{enumerate*}\n"
      ],
      "text/markdown": [
       "1. 'gender'\n",
       "2. 'race'\n",
       "3. 'age'\n",
       "4. 'insurance'\n",
       "5. 'Height'\n",
       "6. 'Weight'\n",
       "\n",
       "\n"
      ],
      "text/plain": [
       "[1] \"gender\"    \"race\"      \"age\"       \"insurance\" \"Height\"    \"Weight\"   "
      ]
     },
     "metadata": {},
     "output_type": "display_data"
    }
   ],
   "source": [
    "# note: no pooling of results from analysis of multiply imputed dataset\n",
    "# chose the 2nd set. can also do a random number each time\n",
    "\n",
    "hw_mice2 <- complete(hw_mice, 2)\n",
    "summary(hw_mice2)\n",
    "colnames(hw_mice2)"
   ]
  },
  {
   "cell_type": "code",
   "execution_count": 12,
   "metadata": {},
   "outputs": [
    {
     "data": {
      "text/html": [
       "60742"
      ],
      "text/latex": [
       "60742"
      ],
      "text/markdown": [
       "60742"
      ],
      "text/plain": [
       "[1] 60742"
      ]
     },
     "metadata": {},
     "output_type": "display_data"
    },
    {
     "data": {
      "text/html": [
       "<style>\n",
       ".list-inline {list-style: none; margin:0; padding: 0}\n",
       ".list-inline>li {display: inline-block}\n",
       ".list-inline>li:not(:last-child)::after {content: \"\\00b7\"; padding: 0 .5ex}\n",
       "</style>\n",
       "<ol class=list-inline><li>'anon_id'</li><li>'pat_enc_csn_id_coded'</li><li>'label'</li><li>'admit_time'</li><li>'inpatient_data_id_coded'</li><li>'ESI'</li><li>'gender'</li><li>'race'</li><li>'insurance'</li><li>'age'</li><li>'English'</li><li>'Height'</li><li>'Weight'</li><li>'Height_i'</li><li>'Weight_i'</li></ol>\n"
      ],
      "text/latex": [
       "\\begin{enumerate*}\n",
       "\\item 'anon\\_id'\n",
       "\\item 'pat\\_enc\\_csn\\_id\\_coded'\n",
       "\\item 'label'\n",
       "\\item 'admit\\_time'\n",
       "\\item 'inpatient\\_data\\_id\\_coded'\n",
       "\\item 'ESI'\n",
       "\\item 'gender'\n",
       "\\item 'race'\n",
       "\\item 'insurance'\n",
       "\\item 'age'\n",
       "\\item 'English'\n",
       "\\item 'Height'\n",
       "\\item 'Weight'\n",
       "\\item 'Height\\_i'\n",
       "\\item 'Weight\\_i'\n",
       "\\end{enumerate*}\n"
      ],
      "text/markdown": [
       "1. 'anon_id'\n",
       "2. 'pat_enc_csn_id_coded'\n",
       "3. 'label'\n",
       "4. 'admit_time'\n",
       "5. 'inpatient_data_id_coded'\n",
       "6. 'ESI'\n",
       "7. 'gender'\n",
       "8. 'race'\n",
       "9. 'insurance'\n",
       "10. 'age'\n",
       "11. 'English'\n",
       "12. 'Height'\n",
       "13. 'Weight'\n",
       "14. 'Height_i'\n",
       "15. 'Weight_i'\n",
       "\n",
       "\n"
      ],
      "text/plain": [
       " [1] \"anon_id\"                 \"pat_enc_csn_id_coded\"   \n",
       " [3] \"label\"                   \"admit_time\"             \n",
       " [5] \"inpatient_data_id_coded\" \"ESI\"                    \n",
       " [7] \"gender\"                  \"race\"                   \n",
       " [9] \"insurance\"               \"age\"                    \n",
       "[11] \"English\"                 \"Height\"                 \n",
       "[13] \"Weight\"                  \"Height_i\"               \n",
       "[15] \"Weight_i\"               "
      ]
     },
     "metadata": {},
     "output_type": "display_data"
    }
   ],
   "source": [
    "nrow(hw_mice2) #45796\n",
    "\n",
    "# here: keep bind the old set with the imputed set, just to compare\n",
    "hw_mice2 <- hw_mice2 %>% select(Height, Weight) %>% \n",
    "                    rename(Height_i = Height, Weight_i = Weight)\n",
    "\n",
    "hw_imputed <- bind_cols(demo_hw, hw_mice2) \n",
    "colnames(hw_imputed)"
   ]
  },
  {
   "cell_type": "code",
   "execution_count": 13,
   "metadata": {},
   "outputs": [
    {
     "data": {
      "text/html": [
       "<table class=\"dataframe\">\n",
       "<caption>A data.frame: 1 × 15</caption>\n",
       "<thead>\n",
       "\t<tr><th></th><th scope=col>anon_id</th><th scope=col>pat_enc_csn_id_coded</th><th scope=col>label</th><th scope=col>admit_time</th><th scope=col>inpatient_data_id_coded</th><th scope=col>ESI</th><th scope=col>gender</th><th scope=col>race</th><th scope=col>insurance</th><th scope=col>age</th><th scope=col>English</th><th scope=col>Height</th><th scope=col>Weight</th><th scope=col>Height_i</th><th scope=col>Weight_i</th></tr>\n",
       "\t<tr><th></th><th scope=col>&lt;chr&gt;</th><th scope=col>&lt;dbl&gt;</th><th scope=col>&lt;int&gt;</th><th scope=col>&lt;dttm&gt;</th><th scope=col>&lt;int&gt;</th><th scope=col>&lt;int&gt;</th><th scope=col>&lt;chr&gt;</th><th scope=col>&lt;chr&gt;</th><th scope=col>&lt;int&gt;</th><th scope=col>&lt;int&gt;</th><th scope=col>&lt;int&gt;</th><th scope=col>&lt;dbl&gt;</th><th scope=col>&lt;dbl&gt;</th><th scope=col>&lt;dbl&gt;</th><th scope=col>&lt;dbl&gt;</th></tr>\n",
       "</thead>\n",
       "<tbody>\n",
       "\t<tr><th scope=row>1</th><td>JC29f8ad2</td><td>131274729058</td><td>0</td><td>2019-08-31 12:52:00</td><td>40679773</td><td>3</td><td>Female</td><td>White</td><td>1</td><td>52</td><td>1</td><td>165</td><td>81</td><td>165</td><td>81</td></tr>\n",
       "</tbody>\n",
       "</table>\n"
      ],
      "text/latex": [
       "A data.frame: 1 × 15\n",
       "\\begin{tabular}{r|lllllllllllllll}\n",
       "  & anon\\_id & pat\\_enc\\_csn\\_id\\_coded & label & admit\\_time & inpatient\\_data\\_id\\_coded & ESI & gender & race & insurance & age & English & Height & Weight & Height\\_i & Weight\\_i\\\\\n",
       "  & <chr> & <dbl> & <int> & <dttm> & <int> & <int> & <chr> & <chr> & <int> & <int> & <int> & <dbl> & <dbl> & <dbl> & <dbl>\\\\\n",
       "\\hline\n",
       "\t1 & JC29f8ad2 & 131274729058 & 0 & 2019-08-31 12:52:00 & 40679773 & 3 & Female & White & 1 & 52 & 1 & 165 & 81 & 165 & 81\\\\\n",
       "\\end{tabular}\n"
      ],
      "text/markdown": [
       "\n",
       "A data.frame: 1 × 15\n",
       "\n",
       "| <!--/--> | anon_id &lt;chr&gt; | pat_enc_csn_id_coded &lt;dbl&gt; | label &lt;int&gt; | admit_time &lt;dttm&gt; | inpatient_data_id_coded &lt;int&gt; | ESI &lt;int&gt; | gender &lt;chr&gt; | race &lt;chr&gt; | insurance &lt;int&gt; | age &lt;int&gt; | English &lt;int&gt; | Height &lt;dbl&gt; | Weight &lt;dbl&gt; | Height_i &lt;dbl&gt; | Weight_i &lt;dbl&gt; |\n",
       "|---|---|---|---|---|---|---|---|---|---|---|---|---|---|---|---|\n",
       "| 1 | JC29f8ad2 | 131274729058 | 0 | 2019-08-31 12:52:00 | 40679773 | 3 | Female | White | 1 | 52 | 1 | 165 | 81 | 165 | 81 |\n",
       "\n"
      ],
      "text/plain": [
       "  anon_id   pat_enc_csn_id_coded label admit_time         \n",
       "1 JC29f8ad2 131274729058         0     2019-08-31 12:52:00\n",
       "  inpatient_data_id_coded ESI gender race  insurance age English Height Weight\n",
       "1 40679773                3   Female White 1         52  1       165    81    \n",
       "  Height_i Weight_i\n",
       "1 165      81      "
      ]
     },
     "metadata": {},
     "output_type": "display_data"
    }
   ],
   "source": [
    "head(hw_imputed, n=1)"
   ]
  },
  {
   "cell_type": "code",
   "execution_count": 14,
   "metadata": {},
   "outputs": [
    {
     "data": {
      "text/plain": [
       "    delta_H           delta_W        \n",
       " Min.   :0.00000   Min.   :0.000000  \n",
       " 1st Qu.:0.00000   1st Qu.:0.000000  \n",
       " Median :0.00000   Median :0.000000  \n",
       " Mean   :0.02848   Mean   :0.005351  \n",
       " 3rd Qu.:0.00000   3rd Qu.:0.000000  \n",
       " Max.   :1.00000   Max.   :1.000000  "
      ]
     },
     "metadata": {},
     "output_type": "display_data"
    },
    {
     "data": {
      "text/html": [
       "<style>\n",
       ".list-inline {list-style: none; margin:0; padding: 0}\n",
       ".list-inline>li {display: inline-block}\n",
       ".list-inline>li:not(:last-child)::after {content: \"\\00b7\"; padding: 0 .5ex}\n",
       "</style>\n",
       "<ol class=list-inline><li>'anon_id'</li><li>'pat_enc_csn_id_coded'</li><li>'inpatient_data_id_coded'</li><li>'label'</li><li>'admit_time'</li><li>'ESI'</li><li>'gender'</li><li>'race'</li><li>'age'</li><li>'insurance'</li><li>'English'</li><li>'Height_i'</li><li>'Weight_i'</li><li>'delta_H'</li><li>'delta_W'</li></ol>\n"
      ],
      "text/latex": [
       "\\begin{enumerate*}\n",
       "\\item 'anon\\_id'\n",
       "\\item 'pat\\_enc\\_csn\\_id\\_coded'\n",
       "\\item 'inpatient\\_data\\_id\\_coded'\n",
       "\\item 'label'\n",
       "\\item 'admit\\_time'\n",
       "\\item 'ESI'\n",
       "\\item 'gender'\n",
       "\\item 'race'\n",
       "\\item 'age'\n",
       "\\item 'insurance'\n",
       "\\item 'English'\n",
       "\\item 'Height\\_i'\n",
       "\\item 'Weight\\_i'\n",
       "\\item 'delta\\_H'\n",
       "\\item 'delta\\_W'\n",
       "\\end{enumerate*}\n"
      ],
      "text/markdown": [
       "1. 'anon_id'\n",
       "2. 'pat_enc_csn_id_coded'\n",
       "3. 'inpatient_data_id_coded'\n",
       "4. 'label'\n",
       "5. 'admit_time'\n",
       "6. 'ESI'\n",
       "7. 'gender'\n",
       "8. 'race'\n",
       "9. 'age'\n",
       "10. 'insurance'\n",
       "11. 'English'\n",
       "12. 'Height_i'\n",
       "13. 'Weight_i'\n",
       "14. 'delta_H'\n",
       "15. 'delta_W'\n",
       "\n",
       "\n"
      ],
      "text/plain": [
       " [1] \"anon_id\"                 \"pat_enc_csn_id_coded\"   \n",
       " [3] \"inpatient_data_id_coded\" \"label\"                  \n",
       " [5] \"admit_time\"              \"ESI\"                    \n",
       " [7] \"gender\"                  \"race\"                   \n",
       " [9] \"age\"                     \"insurance\"              \n",
       "[11] \"English\"                 \"Height_i\"               \n",
       "[13] \"Weight_i\"                \"delta_H\"                \n",
       "[15] \"delta_W\"                "
      ]
     },
     "metadata": {},
     "output_type": "display_data"
    }
   ],
   "source": [
    "# 2 = we have both the original values and the imputed values in this same dataset, \n",
    "# but it doesn't have the indicators of missingness\n",
    "hw_imputed <- hw_imputed %>% \n",
    "                select(c(anon_id, pat_enc_csn_id_coded, inpatient_data_id_coded, label, admit_time, ESI, \n",
    "                         gender, race, age, insurance, English, Height, Height_i, Weight, Weight_i)) %>% \n",
    "                mutate(delta_H = ifelse(is.na(Height), 1, 0),\n",
    "                       delta_W = ifelse(is.na(Weight), 1, 0)) %>%\n",
    "                select(-c(Height, Weight))\n",
    "summary(hw_imputed %>% select(delta_H, delta_W))\n",
    "colnames(hw_imputed)"
   ]
  },
  {
   "cell_type": "code",
   "execution_count": 15,
   "metadata": {},
   "outputs": [
    {
     "name": "stderr",
     "output_type": "stream",
     "text": [
      "Joining, by = c(\"anon_id\", \"pat_enc_csn_id_coded\", \"inpatient_data_id_coded\", \"admit_time\", \"label\")\n",
      "\n"
     ]
    },
    {
     "data": {
      "text/html": [
       "60742"
      ],
      "text/latex": [
       "60742"
      ],
      "text/markdown": [
       "60742"
      ],
      "text/plain": [
       "[1] 60742"
      ]
     },
     "metadata": {},
     "output_type": "display_data"
    },
    {
     "data": {
      "text/html": [
       "60742"
      ],
      "text/latex": [
       "60742"
      ],
      "text/markdown": [
       "60742"
      ],
      "text/plain": [
       "[1] 60742"
      ]
     },
     "metadata": {},
     "output_type": "display_data"
    },
    {
     "data": {
      "text/html": [
       "<style>\n",
       ".list-inline {list-style: none; margin:0; padding: 0}\n",
       ".list-inline>li {display: inline-block}\n",
       ".list-inline>li:not(:last-child)::after {content: \"\\00b7\"; padding: 0 .5ex}\n",
       "</style>\n",
       "<ol class=list-inline><li>'anon_id'</li><li>'pat_enc_csn_id_coded'</li><li>'inpatient_data_id_coded'</li><li>'admit_time'</li><li>'label'</li><li>'DBP'</li><li>'Pulse'</li><li>'RR'</li><li>'SBP'</li><li>'Temp'</li><li>'ESI'</li><li>'gender'</li><li>'race'</li><li>'age'</li><li>'insurance'</li><li>'English'</li><li>'Height_i'</li><li>'Weight_i'</li><li>'delta_H'</li><li>'delta_W'</li></ol>\n"
      ],
      "text/latex": [
       "\\begin{enumerate*}\n",
       "\\item 'anon\\_id'\n",
       "\\item 'pat\\_enc\\_csn\\_id\\_coded'\n",
       "\\item 'inpatient\\_data\\_id\\_coded'\n",
       "\\item 'admit\\_time'\n",
       "\\item 'label'\n",
       "\\item 'DBP'\n",
       "\\item 'Pulse'\n",
       "\\item 'RR'\n",
       "\\item 'SBP'\n",
       "\\item 'Temp'\n",
       "\\item 'ESI'\n",
       "\\item 'gender'\n",
       "\\item 'race'\n",
       "\\item 'age'\n",
       "\\item 'insurance'\n",
       "\\item 'English'\n",
       "\\item 'Height\\_i'\n",
       "\\item 'Weight\\_i'\n",
       "\\item 'delta\\_H'\n",
       "\\item 'delta\\_W'\n",
       "\\end{enumerate*}\n"
      ],
      "text/markdown": [
       "1. 'anon_id'\n",
       "2. 'pat_enc_csn_id_coded'\n",
       "3. 'inpatient_data_id_coded'\n",
       "4. 'admit_time'\n",
       "5. 'label'\n",
       "6. 'DBP'\n",
       "7. 'Pulse'\n",
       "8. 'RR'\n",
       "9. 'SBP'\n",
       "10. 'Temp'\n",
       "11. 'ESI'\n",
       "12. 'gender'\n",
       "13. 'race'\n",
       "14. 'age'\n",
       "15. 'insurance'\n",
       "16. 'English'\n",
       "17. 'Height_i'\n",
       "18. 'Weight_i'\n",
       "19. 'delta_H'\n",
       "20. 'delta_W'\n",
       "\n",
       "\n"
      ],
      "text/plain": [
       " [1] \"anon_id\"                 \"pat_enc_csn_id_coded\"   \n",
       " [3] \"inpatient_data_id_coded\" \"admit_time\"             \n",
       " [5] \"label\"                   \"DBP\"                    \n",
       " [7] \"Pulse\"                   \"RR\"                     \n",
       " [9] \"SBP\"                     \"Temp\"                   \n",
       "[11] \"ESI\"                     \"gender\"                 \n",
       "[13] \"race\"                    \"age\"                    \n",
       "[15] \"insurance\"               \"English\"                \n",
       "[17] \"Height_i\"                \"Weight_i\"               \n",
       "[19] \"delta_H\"                 \"delta_W\"                "
      ]
     },
     "metadata": {},
     "output_type": "display_data"
    }
   ],
   "source": [
    "cohort3_demoHW <- left_join(cohort3, hw_imputed) # by=c('anon_id', 'pat_enc_csn_id_coded', 'inpatient_data_id_coded'))\n",
    "nrow(cohort3_demoHW) # 60742\n",
    "nrow(cohort3_demoHW %>% select(pat_enc_csn_id_coded) %>% distinct()) #44258\n",
    "colnames(cohort3_demoHW)"
   ]
  },
  {
   "cell_type": "markdown",
   "metadata": {},
   "source": [
    "### Imputation for ESI\n",
    "ESI -- from acuity_level encounter table\n",
    "- use first vital values from vitals_clean to impute ESI\n",
    "- this require the vitals_clean dataset to be done\n",
    "- cohort with a complete set of vs: 1_3_cohort has the 1st completed vs set"
   ]
  },
  {
   "cell_type": "code",
   "execution_count": 16,
   "metadata": {},
   "outputs": [
    {
     "data": {
      "text/html": [
       "60742"
      ],
      "text/latex": [
       "60742"
      ],
      "text/markdown": [
       "60742"
      ],
      "text/plain": [
       "[1] 60742"
      ]
     },
     "metadata": {},
     "output_type": "display_data"
    },
    {
     "data": {
      "text/plain": [
       "   Min. 1st Qu.  Median    Mean 3rd Qu.    Max.    NA's \n",
       "  1.000   2.000   3.000   2.631   3.000   5.000    1800 "
      ]
     },
     "metadata": {},
     "output_type": "display_data"
    },
    {
     "data": {
      "image/png": "[encoded data removed]",
      "text/plain": [
       "Plot with title “Histogram of cohort3_demoHW$ESI”"
      ]
     },
     "metadata": {
      "image/png": {
       "height": 300,
       "width": 300
      }
     },
     "output_type": "display_data"
    }
   ],
   "source": [
    "# missing ESI: 1718 (3.88%)\n",
    "options(repr.plot.width=5, repr.plot.height=5)\n",
    "\n",
    "nrow(cohort3_demoHW) #44258\n",
    "summary(cohort3_demoHW$ESI)\n",
    "hist(cohort3_demoHW$ESI)"
   ]
  },
  {
   "cell_type": "code",
   "execution_count": 17,
   "metadata": {},
   "outputs": [
    {
     "data": {
      "text/html": [
       "<table class=\"dataframe\">\n",
       "<caption>A grouped_df: 12 × 4</caption>\n",
       "<thead>\n",
       "\t<tr><th scope=col>ESI</th><th scope=col>label</th><th scope=col>n</th><th scope=col>p</th></tr>\n",
       "\t<tr><th scope=col>&lt;int&gt;</th><th scope=col>&lt;int&gt;</th><th scope=col>&lt;int&gt;</th><th scope=col>&lt;dbl&gt;</th></tr>\n",
       "</thead>\n",
       "<tbody>\n",
       "\t<tr><td> 1</td><td>0</td><td>  221</td><td>25.11</td></tr>\n",
       "\t<tr><td> 1</td><td>1</td><td>  659</td><td>74.89</td></tr>\n",
       "\t<tr><td> 2</td><td>0</td><td>16337</td><td>79.56</td></tr>\n",
       "\t<tr><td> 2</td><td>1</td><td> 4198</td><td>20.44</td></tr>\n",
       "\t<tr><td> 3</td><td>0</td><td>34487</td><td>93.27</td></tr>\n",
       "\t<tr><td> 3</td><td>1</td><td> 2487</td><td> 6.73</td></tr>\n",
       "\t<tr><td> 4</td><td>0</td><td>  486</td><td>91.35</td></tr>\n",
       "\t<tr><td> 4</td><td>1</td><td>   46</td><td> 8.65</td></tr>\n",
       "\t<tr><td> 5</td><td>0</td><td>   19</td><td>90.48</td></tr>\n",
       "\t<tr><td> 5</td><td>1</td><td>    2</td><td> 9.52</td></tr>\n",
       "\t<tr><td>NA</td><td>0</td><td> 1017</td><td>56.50</td></tr>\n",
       "\t<tr><td>NA</td><td>1</td><td>  783</td><td>43.50</td></tr>\n",
       "</tbody>\n",
       "</table>\n"
      ],
      "text/latex": [
       "A grouped\\_df: 12 × 4\n",
       "\\begin{tabular}{llll}\n",
       " ESI & label & n & p\\\\\n",
       " <int> & <int> & <int> & <dbl>\\\\\n",
       "\\hline\n",
       "\t  1 & 0 &   221 & 25.11\\\\\n",
       "\t  1 & 1 &   659 & 74.89\\\\\n",
       "\t  2 & 0 & 16337 & 79.56\\\\\n",
       "\t  2 & 1 &  4198 & 20.44\\\\\n",
       "\t  3 & 0 & 34487 & 93.27\\\\\n",
       "\t  3 & 1 &  2487 &  6.73\\\\\n",
       "\t  4 & 0 &   486 & 91.35\\\\\n",
       "\t  4 & 1 &    46 &  8.65\\\\\n",
       "\t  5 & 0 &    19 & 90.48\\\\\n",
       "\t  5 & 1 &     2 &  9.52\\\\\n",
       "\t NA & 0 &  1017 & 56.50\\\\\n",
       "\t NA & 1 &   783 & 43.50\\\\\n",
       "\\end{tabular}\n"
      ],
      "text/markdown": [
       "\n",
       "A grouped_df: 12 × 4\n",
       "\n",
       "| ESI &lt;int&gt; | label &lt;int&gt; | n &lt;int&gt; | p &lt;dbl&gt; |\n",
       "|---|---|---|---|\n",
       "|  1 | 0 |   221 | 25.11 |\n",
       "|  1 | 1 |   659 | 74.89 |\n",
       "|  2 | 0 | 16337 | 79.56 |\n",
       "|  2 | 1 |  4198 | 20.44 |\n",
       "|  3 | 0 | 34487 | 93.27 |\n",
       "|  3 | 1 |  2487 |  6.73 |\n",
       "|  4 | 0 |   486 | 91.35 |\n",
       "|  4 | 1 |    46 |  8.65 |\n",
       "|  5 | 0 |    19 | 90.48 |\n",
       "|  5 | 1 |     2 |  9.52 |\n",
       "| NA | 0 |  1017 | 56.50 |\n",
       "| NA | 1 |   783 | 43.50 |\n",
       "\n"
      ],
      "text/plain": [
       "   ESI label n     p    \n",
       "1   1  0       221 25.11\n",
       "2   1  1       659 74.89\n",
       "3   2  0     16337 79.56\n",
       "4   2  1      4198 20.44\n",
       "5   3  0     34487 93.27\n",
       "6   3  1      2487  6.73\n",
       "7   4  0       486 91.35\n",
       "8   4  1        46  8.65\n",
       "9   5  0        19 90.48\n",
       "10  5  1         2  9.52\n",
       "11 NA  0      1017 56.50\n",
       "12 NA  1       783 43.50"
      ]
     },
     "metadata": {},
     "output_type": "display_data"
    }
   ],
   "source": [
    "# missing ESI per label\n",
    "cohort3_demoHW %>% group_by(ESI, label) %>% count() %>% group_by(ESI) %>% mutate(p = round(100* n/sum(n), 2))"
   ]
  },
  {
   "cell_type": "code",
   "execution_count": 18,
   "metadata": {},
   "outputs": [
    {
     "data": {
      "text/html": [
       "2.96335319877515"
      ],
      "text/latex": [
       "2.96335319877515"
      ],
      "text/markdown": [
       "2.96335319877515"
      ],
      "text/plain": [
       "[1] 2.963353"
      ]
     },
     "metadata": {},
     "output_type": "display_data"
    }
   ],
   "source": [
    "(1017 + 783)/60742 * 100 # missing ESI 2.96%"
   ]
  },
  {
   "cell_type": "code",
   "execution_count": 19,
   "metadata": {},
   "outputs": [
    {
     "data": {
      "text/html": [
       "<table class=\"dataframe\">\n",
       "<caption>A matrix: 3 × 13 of type dbl</caption>\n",
       "<thead>\n",
       "\t<tr><th></th><th scope=col>gender</th><th scope=col>race</th><th scope=col>age</th><th scope=col>insurance</th><th scope=col>Height_i</th><th scope=col>Weight_i</th><th scope=col>SBP</th><th scope=col>DBP</th><th scope=col>Pulse</th><th scope=col>RR</th><th scope=col>Temp</th><th scope=col>ESI</th><th scope=col></th></tr>\n",
       "</thead>\n",
       "<tbody>\n",
       "\t<tr><th scope=row>58942</th><td>1</td><td>1</td><td>1</td><td>1</td><td>1</td><td>1</td><td>1</td><td>1</td><td>1</td><td>1</td><td>1</td><td>   1</td><td>   0</td></tr>\n",
       "\t<tr><th scope=row>1800</th><td>1</td><td>1</td><td>1</td><td>1</td><td>1</td><td>1</td><td>1</td><td>1</td><td>1</td><td>1</td><td>1</td><td>   0</td><td>   1</td></tr>\n",
       "\t<tr><th scope=row></th><td>0</td><td>0</td><td>0</td><td>0</td><td>0</td><td>0</td><td>0</td><td>0</td><td>0</td><td>0</td><td>0</td><td>1800</td><td>1800</td></tr>\n",
       "</tbody>\n",
       "</table>\n"
      ],
      "text/latex": [
       "A matrix: 3 × 13 of type dbl\n",
       "\\begin{tabular}{r|lllllllllllll}\n",
       "  & gender & race & age & insurance & Height\\_i & Weight\\_i & SBP & DBP & Pulse & RR & Temp & ESI & \\\\\n",
       "\\hline\n",
       "\t58942 & 1 & 1 & 1 & 1 & 1 & 1 & 1 & 1 & 1 & 1 & 1 &    1 &    0\\\\\n",
       "\t1800 & 1 & 1 & 1 & 1 & 1 & 1 & 1 & 1 & 1 & 1 & 1 &    0 &    1\\\\\n",
       "\t & 0 & 0 & 0 & 0 & 0 & 0 & 0 & 0 & 0 & 0 & 0 & 1800 & 1800\\\\\n",
       "\\end{tabular}\n"
      ],
      "text/markdown": [
       "\n",
       "A matrix: 3 × 13 of type dbl\n",
       "\n",
       "| <!--/--> | gender | race | age | insurance | Height_i | Weight_i | SBP | DBP | Pulse | RR | Temp | ESI | <!----> |\n",
       "|---|---|---|---|---|---|---|---|---|---|---|---|---|---|\n",
       "| 58942 | 1 | 1 | 1 | 1 | 1 | 1 | 1 | 1 | 1 | 1 | 1 |    1 |    0 |\n",
       "| 1800 | 1 | 1 | 1 | 1 | 1 | 1 | 1 | 1 | 1 | 1 | 1 |    0 |    1 |\n",
       "| <!----> | 0 | 0 | 0 | 0 | 0 | 0 | 0 | 0 | 0 | 0 | 0 | 1800 | 1800 |\n",
       "\n"
      ],
      "text/plain": [
       "      gender race age insurance Height_i Weight_i SBP DBP Pulse RR Temp ESI \n",
       "58942 1      1    1   1         1        1        1   1   1     1  1       1\n",
       "1800  1      1    1   1         1        1        1   1   1     1  1       0\n",
       "      0      0    0   0         0        0        0   0   0     0  0    1800\n",
       "          \n",
       "58942    0\n",
       "1800     1\n",
       "      1800"
      ]
     },
     "metadata": {},
     "output_type": "display_data"
    },
    {
     "name": "stdout",
     "output_type": "stream",
     "text": [
      "\n",
      " iter imp variable\n",
      "  1   1  ESI\n",
      "  1   2  ESI\n",
      "  1   3  ESI\n",
      "  2   1  ESI\n",
      "  2   2  ESI\n",
      "  2   3  ESI\n",
      "  3   1  ESI\n",
      "  3   2  ESI\n",
      "  3   3  ESI\n",
      "  4   1  ESI\n",
      "  4   2  ESI\n",
      "  4   3  ESI\n",
      "  5   1  ESI\n",
      "  5   2  ESI\n",
      "  5   3  ESI\n",
      "  6   1  ESI\n",
      "  6   2  ESI\n",
      "  6   3  ESI\n",
      "  7   1  ESI\n",
      "  7   2  ESI\n",
      "  7   3  ESI\n",
      "  8   1  ESI\n",
      "  8   2  ESI\n",
      "  8   3  ESI\n",
      "  9   1  ESI\n",
      "  9   2  ESI\n",
      "  9   3  ESI\n",
      "  10   1  ESI\n",
      "  10   2  ESI\n",
      "  10   3  ESI\n",
      "  11   1  ESI\n",
      "  11   2  ESI\n",
      "  11   3  ESI\n",
      "  12   1  ESI\n",
      "  12   2  ESI\n",
      "  12   3  ESI\n",
      "  13   1  ESI\n",
      "  13   2  ESI\n",
      "  13   3  ESI\n",
      "  14   1  ESI\n",
      "  14   2  ESI\n",
      "  14   3  ESI\n",
      "  15   1  ESI\n",
      "  15   2  ESI\n",
      "  15   3  ESI\n",
      "  16   1  ESI\n",
      "  16   2  ESI\n",
      "  16   3  ESI\n",
      "  17   1  ESI\n",
      "  17   2  ESI\n",
      "  17   3  ESI\n",
      "  18   1  ESI\n",
      "  18   2  ESI\n",
      "  18   3  ESI\n",
      "  19   1  ESI\n",
      "  19   2  ESI\n",
      "  19   3  ESI\n",
      "  20   1  ESI\n",
      "  20   2  ESI\n",
      "  20   3  ESI\n",
      "  21   1  ESI\n",
      "  21   2  ESI\n",
      "  21   3  ESI\n",
      "  22   1  ESI\n",
      "  22   2  ESI\n",
      "  22   3  ESI\n",
      "  23   1  ESI\n",
      "  23   2  ESI\n",
      "  23   3  ESI\n",
      "  24   1  ESI\n",
      "  24   2  ESI\n",
      "  24   3  ESI\n",
      "  25   1  ESI\n",
      "  25   2  ESI\n",
      "  25   3  ESI\n",
      "  26   1  ESI\n",
      "  26   2  ESI\n",
      "  26   3  ESI\n",
      "  27   1  ESI\n",
      "  27   2  ESI\n",
      "  27   3  ESI\n",
      "  28   1  ESI\n",
      "  28   2  ESI\n",
      "  28   3  ESI\n",
      "  29   1  ESI\n",
      "  29   2  ESI\n",
      "  29   3  ESI\n",
      "  30   1  ESI\n",
      "  30   2  ESI\n",
      "  30   3  ESI\n",
      "  31   1  ESI\n",
      "  31   2  ESI\n",
      "  31   3  ESI\n",
      "  32   1  ESI\n",
      "  32   2  ESI\n",
      "  32   3  ESI\n",
      "  33   1  ESI\n",
      "  33   2  ESI\n",
      "  33   3  ESI\n",
      "  34   1  ESI\n",
      "  34   2  ESI\n",
      "  34   3  ESI\n",
      "  35   1  ESI\n",
      "  35   2  ESI\n",
      "  35   3  ESI\n",
      "  36   1  ESI\n",
      "  36   2  ESI\n",
      "  36   3  ESI\n",
      "  37   1  ESI\n",
      "  37   2  ESI\n",
      "  37   3  ESI\n",
      "  38   1  ESI\n",
      "  38   2  ESI\n",
      "  38   3  ESI\n",
      "  39   1  ESI\n",
      "  39   2  ESI\n",
      "  39   3  ESI\n",
      "  40   1  ESI\n",
      "  40   2  ESI\n",
      "  40   3  ESI\n",
      "  41   1  ESI\n",
      "  41   2  ESI\n",
      "  41   3  ESI\n",
      "  42   1  ESI\n",
      "  42   2  ESI\n",
      "  42   3  ESI\n",
      "  43   1  ESI\n",
      "  43   2  ESI\n",
      "  43   3  ESI\n",
      "  44   1  ESI\n",
      "  44   2  ESI\n",
      "  44   3  ESI\n",
      "  45   1  ESI\n",
      "  45   2  ESI\n",
      "  45   3  ESI\n",
      "  46   1  ESI\n",
      "  46   2  ESI\n",
      "  46   3  ESI\n",
      "  47   1  ESI\n",
      "  47   2  ESI\n",
      "  47   3  ESI\n",
      "  48   1  ESI\n",
      "  48   2  ESI\n",
      "  48   3  ESI\n",
      "  49   1  ESI\n",
      "  49   2  ESI\n",
      "  49   3  ESI\n",
      "  50   1  ESI\n",
      "  50   2  ESI\n",
      "  50   3  ESI\n"
     ]
    },
    {
     "name": "stderr",
     "output_type": "stream",
     "text": [
      "Warning message:\n",
      "“Number of logged events: 2”\n"
     ]
    },
    {
     "data": {
      "image/png": "[encoded data removed]",
      "text/plain": [
       "plot without title"
      ]
     },
     "metadata": {
      "image/png": {
       "height": 300,
       "width": 300
      }
     },
     "output_type": "display_data"
    }
   ],
   "source": [
    "# m = 5 is the default --> takes too long\n",
    "# meth='pmm' refers to the imputation method, predictive mean matching\n",
    "# complete(, returns the 2nd completed data set)\n",
    "\n",
    "esi <- cohort3_demoHW %>% select(ESI, gender, race, age, insurance, Height_i, Weight_i, SBP, DBP, Pulse, RR, Temp)\n",
    "md.pattern(esi)\n",
    "esi_mice <- mice(esi, m=3, donors=10, maxit=50, meth='pmm', seed=123)"
   ]
  },
  {
   "cell_type": "code",
   "execution_count": 20,
   "metadata": {},
   "outputs": [
    {
     "data": {
      "text/plain": [
       "      ESI           gender              race                age        \n",
       " Min.   :1.000   Length:60742       Length:60742       Min.   : 18.00  \n",
       " 1st Qu.:2.000   Class :character   Class :character   1st Qu.: 45.00  \n",
       " Median :3.000   Mode  :character   Mode  :character   Median : 61.00  \n",
       " Mean   :2.631                                         Mean   : 58.62  \n",
       " 3rd Qu.:3.000                                         3rd Qu.: 73.00  \n",
       " Max.   :5.000                                         Max.   :107.00  \n",
       "   insurance         Height_i        Weight_i           SBP       \n",
       " Min.   :0.0000   Min.   :115.0   Min.   : 20.50   Min.   : 37.0  \n",
       " 1st Qu.:0.0000   1st Qu.:160.0   1st Qu.: 61.10   1st Qu.:116.0  \n",
       " Median :0.0000   Median :168.0   Median : 73.71   Median :131.0  \n",
       " Mean   :0.4221   Mean   :168.1   Mean   : 77.06   Mean   :132.9  \n",
       " 3rd Qu.:1.0000   3rd Qu.:175.3   3rd Qu.: 88.30   3rd Qu.:148.0  \n",
       " Max.   :1.0000   Max.   :213.0   Max.   :322.00   Max.   :419.0  \n",
       "      DBP             Pulse              RR             Temp      \n",
       " Min.   : 12.00   Min.   : 13.00   Min.   : 6.00   Min.   :26.15  \n",
       " 1st Qu.: 67.00   1st Qu.: 77.00   1st Qu.:17.00   1st Qu.:36.80  \n",
       " Median : 78.00   Median : 90.00   Median :18.00   Median :36.90  \n",
       " Mean   : 78.32   Mean   : 92.35   Mean   :19.23   Mean   :36.92  \n",
       " 3rd Qu.: 89.00   3rd Qu.:106.00   3rd Qu.:20.00   3rd Qu.:37.05  \n",
       " Max.   :219.00   Max.   :273.00   Max.   :60.00   Max.   :42.05  "
      ]
     },
     "metadata": {},
     "output_type": "display_data"
    },
    {
     "data": {
      "text/html": [
       "<style>\n",
       ".list-inline {list-style: none; margin:0; padding: 0}\n",
       ".list-inline>li {display: inline-block}\n",
       ".list-inline>li:not(:last-child)::after {content: \"\\00b7\"; padding: 0 .5ex}\n",
       "</style>\n",
       "<ol class=list-inline><li>'ESI'</li><li>'gender'</li><li>'race'</li><li>'age'</li><li>'insurance'</li><li>'Height_i'</li><li>'Weight_i'</li><li>'SBP'</li><li>'DBP'</li><li>'Pulse'</li><li>'RR'</li><li>'Temp'</li></ol>\n"
      ],
      "text/latex": [
       "\\begin{enumerate*}\n",
       "\\item 'ESI'\n",
       "\\item 'gender'\n",
       "\\item 'race'\n",
       "\\item 'age'\n",
       "\\item 'insurance'\n",
       "\\item 'Height\\_i'\n",
       "\\item 'Weight\\_i'\n",
       "\\item 'SBP'\n",
       "\\item 'DBP'\n",
       "\\item 'Pulse'\n",
       "\\item 'RR'\n",
       "\\item 'Temp'\n",
       "\\end{enumerate*}\n"
      ],
      "text/markdown": [
       "1. 'ESI'\n",
       "2. 'gender'\n",
       "3. 'race'\n",
       "4. 'age'\n",
       "5. 'insurance'\n",
       "6. 'Height_i'\n",
       "7. 'Weight_i'\n",
       "8. 'SBP'\n",
       "9. 'DBP'\n",
       "10. 'Pulse'\n",
       "11. 'RR'\n",
       "12. 'Temp'\n",
       "\n",
       "\n"
      ],
      "text/plain": [
       " [1] \"ESI\"       \"gender\"    \"race\"      \"age\"       \"insurance\" \"Height_i\" \n",
       " [7] \"Weight_i\"  \"SBP\"       \"DBP\"       \"Pulse\"     \"RR\"        \"Temp\"     "
      ]
     },
     "metadata": {},
     "output_type": "display_data"
    }
   ],
   "source": [
    "esi_mice2 <- complete(esi_mice, 2)\n",
    "summary(esi_mice2)\n",
    "colnames(esi_mice2)"
   ]
  },
  {
   "cell_type": "code",
   "execution_count": 21,
   "metadata": {},
   "outputs": [
    {
     "data": {
      "text/html": [
       "<style>\n",
       ".list-inline {list-style: none; margin:0; padding: 0}\n",
       ".list-inline>li {display: inline-block}\n",
       ".list-inline>li:not(:last-child)::after {content: \"\\00b7\"; padding: 0 .5ex}\n",
       "</style>\n",
       "<ol class=list-inline><li>'anon_id'</li><li>'pat_enc_csn_id_coded'</li><li>'inpatient_data_id_coded'</li><li>'admit_time'</li><li>'label'</li><li>'DBP'</li><li>'Pulse'</li><li>'RR'</li><li>'SBP'</li><li>'Temp'</li><li>'ESI'</li><li>'gender'</li><li>'race'</li><li>'age'</li><li>'insurance'</li><li>'English'</li><li>'Height_i'</li><li>'Weight_i'</li><li>'delta_H'</li><li>'delta_W'</li></ol>\n"
      ],
      "text/latex": [
       "\\begin{enumerate*}\n",
       "\\item 'anon\\_id'\n",
       "\\item 'pat\\_enc\\_csn\\_id\\_coded'\n",
       "\\item 'inpatient\\_data\\_id\\_coded'\n",
       "\\item 'admit\\_time'\n",
       "\\item 'label'\n",
       "\\item 'DBP'\n",
       "\\item 'Pulse'\n",
       "\\item 'RR'\n",
       "\\item 'SBP'\n",
       "\\item 'Temp'\n",
       "\\item 'ESI'\n",
       "\\item 'gender'\n",
       "\\item 'race'\n",
       "\\item 'age'\n",
       "\\item 'insurance'\n",
       "\\item 'English'\n",
       "\\item 'Height\\_i'\n",
       "\\item 'Weight\\_i'\n",
       "\\item 'delta\\_H'\n",
       "\\item 'delta\\_W'\n",
       "\\end{enumerate*}\n"
      ],
      "text/markdown": [
       "1. 'anon_id'\n",
       "2. 'pat_enc_csn_id_coded'\n",
       "3. 'inpatient_data_id_coded'\n",
       "4. 'admit_time'\n",
       "5. 'label'\n",
       "6. 'DBP'\n",
       "7. 'Pulse'\n",
       "8. 'RR'\n",
       "9. 'SBP'\n",
       "10. 'Temp'\n",
       "11. 'ESI'\n",
       "12. 'gender'\n",
       "13. 'race'\n",
       "14. 'age'\n",
       "15. 'insurance'\n",
       "16. 'English'\n",
       "17. 'Height_i'\n",
       "18. 'Weight_i'\n",
       "19. 'delta_H'\n",
       "20. 'delta_W'\n",
       "\n",
       "\n"
      ],
      "text/plain": [
       " [1] \"anon_id\"                 \"pat_enc_csn_id_coded\"   \n",
       " [3] \"inpatient_data_id_coded\" \"admit_time\"             \n",
       " [5] \"label\"                   \"DBP\"                    \n",
       " [7] \"Pulse\"                   \"RR\"                     \n",
       " [9] \"SBP\"                     \"Temp\"                   \n",
       "[11] \"ESI\"                     \"gender\"                 \n",
       "[13] \"race\"                    \"age\"                    \n",
       "[15] \"insurance\"               \"English\"                \n",
       "[17] \"Height_i\"                \"Weight_i\"               \n",
       "[19] \"delta_H\"                 \"delta_W\"                "
      ]
     },
     "metadata": {},
     "output_type": "display_data"
    }
   ],
   "source": [
    "colnames(cohort3_demoHW)"
   ]
  },
  {
   "cell_type": "code",
   "execution_count": 22,
   "metadata": {},
   "outputs": [
    {
     "data": {
      "text/html": [
       "60742"
      ],
      "text/latex": [
       "60742"
      ],
      "text/markdown": [
       "60742"
      ],
      "text/plain": [
       "[1] 60742"
      ]
     },
     "metadata": {},
     "output_type": "display_data"
    },
    {
     "data": {
      "text/html": [
       "<style>\n",
       ".list-inline {list-style: none; margin:0; padding: 0}\n",
       ".list-inline>li {display: inline-block}\n",
       ".list-inline>li:not(:last-child)::after {content: \"\\00b7\"; padding: 0 .5ex}\n",
       "</style>\n",
       "<ol class=list-inline><li>'anon_id'</li><li>'pat_enc_csn_id_coded'</li><li>'inpatient_data_id_coded'</li><li>'admit_time'</li><li>'label'</li><li>'DBP'</li><li>'Pulse'</li><li>'RR'</li><li>'SBP'</li><li>'Temp'</li><li>'ESI'</li><li>'gender'</li><li>'race'</li><li>'age'</li><li>'insurance'</li><li>'English'</li><li>'Height_i'</li><li>'Weight_i'</li><li>'delta_H'</li><li>'delta_W'</li><li>'ESI_i'</li><li>'delta_ESI'</li></ol>\n"
      ],
      "text/latex": [
       "\\begin{enumerate*}\n",
       "\\item 'anon\\_id'\n",
       "\\item 'pat\\_enc\\_csn\\_id\\_coded'\n",
       "\\item 'inpatient\\_data\\_id\\_coded'\n",
       "\\item 'admit\\_time'\n",
       "\\item 'label'\n",
       "\\item 'DBP'\n",
       "\\item 'Pulse'\n",
       "\\item 'RR'\n",
       "\\item 'SBP'\n",
       "\\item 'Temp'\n",
       "\\item 'ESI'\n",
       "\\item 'gender'\n",
       "\\item 'race'\n",
       "\\item 'age'\n",
       "\\item 'insurance'\n",
       "\\item 'English'\n",
       "\\item 'Height\\_i'\n",
       "\\item 'Weight\\_i'\n",
       "\\item 'delta\\_H'\n",
       "\\item 'delta\\_W'\n",
       "\\item 'ESI\\_i'\n",
       "\\item 'delta\\_ESI'\n",
       "\\end{enumerate*}\n"
      ],
      "text/markdown": [
       "1. 'anon_id'\n",
       "2. 'pat_enc_csn_id_coded'\n",
       "3. 'inpatient_data_id_coded'\n",
       "4. 'admit_time'\n",
       "5. 'label'\n",
       "6. 'DBP'\n",
       "7. 'Pulse'\n",
       "8. 'RR'\n",
       "9. 'SBP'\n",
       "10. 'Temp'\n",
       "11. 'ESI'\n",
       "12. 'gender'\n",
       "13. 'race'\n",
       "14. 'age'\n",
       "15. 'insurance'\n",
       "16. 'English'\n",
       "17. 'Height_i'\n",
       "18. 'Weight_i'\n",
       "19. 'delta_H'\n",
       "20. 'delta_W'\n",
       "21. 'ESI_i'\n",
       "22. 'delta_ESI'\n",
       "\n",
       "\n"
      ],
      "text/plain": [
       " [1] \"anon_id\"                 \"pat_enc_csn_id_coded\"   \n",
       " [3] \"inpatient_data_id_coded\" \"admit_time\"             \n",
       " [5] \"label\"                   \"DBP\"                    \n",
       " [7] \"Pulse\"                   \"RR\"                     \n",
       " [9] \"SBP\"                     \"Temp\"                   \n",
       "[11] \"ESI\"                     \"gender\"                 \n",
       "[13] \"race\"                    \"age\"                    \n",
       "[15] \"insurance\"               \"English\"                \n",
       "[17] \"Height_i\"                \"Weight_i\"               \n",
       "[19] \"delta_H\"                 \"delta_W\"                \n",
       "[21] \"ESI_i\"                   \"delta_ESI\"              "
      ]
     },
     "metadata": {},
     "output_type": "display_data"
    }
   ],
   "source": [
    "nrow(esi_mice2) #45796\n",
    "\n",
    "# here: keep bind the old set with the imputed set, just to compare\n",
    "esi_mice2 <- esi_mice2 %>% select(ESI_i=ESI)\n",
    "\n",
    "esi_imputed <- bind_cols(cohort3_demoHW, esi_mice2) %>% mutate(delta_ESI = ifelse(is.na(ESI), 1, 0))\n",
    "colnames(esi_imputed)"
   ]
  },
  {
   "cell_type": "code",
   "execution_count": 23,
   "metadata": {},
   "outputs": [
    {
     "data": {
      "text/html": [
       "<style>\n",
       ".list-inline {list-style: none; margin:0; padding: 0}\n",
       ".list-inline>li {display: inline-block}\n",
       ".list-inline>li:not(:last-child)::after {content: \"\\00b7\"; padding: 0 .5ex}\n",
       "</style>\n",
       "<ol class=list-inline><li>60742</li><li>16</li></ol>\n"
      ],
      "text/latex": [
       "\\begin{enumerate*}\n",
       "\\item 60742\n",
       "\\item 16\n",
       "\\end{enumerate*}\n"
      ],
      "text/markdown": [
       "1. 60742\n",
       "2. 16\n",
       "\n",
       "\n"
      ],
      "text/plain": [
       "[1] 60742    16"
      ]
     },
     "metadata": {},
     "output_type": "display_data"
    },
    {
     "data": {
      "text/plain": [
       "     ESI_i         delta_ESI          Height_i        delta_H       \n",
       " Min.   :1.000   Min.   :0.00000   Min.   :115.0   Min.   :0.00000  \n",
       " 1st Qu.:2.000   1st Qu.:0.00000   1st Qu.:160.0   1st Qu.:0.00000  \n",
       " Median :3.000   Median :0.00000   Median :168.0   Median :0.00000  \n",
       " Mean   :2.631   Mean   :0.02963   Mean   :168.1   Mean   :0.02848  \n",
       " 3rd Qu.:3.000   3rd Qu.:0.00000   3rd Qu.:175.3   3rd Qu.:0.00000  \n",
       " Max.   :5.000   Max.   :1.00000   Max.   :213.0   Max.   :1.00000  \n",
       "    Weight_i         delta_W        \n",
       " Min.   : 20.50   Min.   :0.000000  \n",
       " 1st Qu.: 61.10   1st Qu.:0.000000  \n",
       " Median : 73.71   Median :0.000000  \n",
       " Mean   : 77.06   Mean   :0.005351  \n",
       " 3rd Qu.: 88.30   3rd Qu.:0.000000  \n",
       " Max.   :322.00   Max.   :1.000000  "
      ]
     },
     "metadata": {},
     "output_type": "display_data"
    }
   ],
   "source": [
    "# rearrange all the columns \n",
    "cohort3_imp <-  esi_imputed %>% select(anon_id, pat_enc_csn_id_coded, inpatient_data_id_coded, admit_time, label,\n",
    "                                      ESI_i, delta_ESI, gender, race, age, insurance, English,  \n",
    "                                      Height_i, delta_H, Weight_i, delta_W)\n",
    "dim(cohort3_imp)\n",
    "summary(cohort3_imp %>% select(ESI_i, delta_ESI, Height_i, delta_H, Weight_i, delta_W))"
   ]
  },
  {
   "cell_type": "markdown",
   "metadata": {},
   "source": [
    "### One hot coding for gender and race\n",
    "* Gender: simply 1 for female and 0 for male\n",
    "* Race: one-hot coding as usual"
   ]
  },
  {
   "cell_type": "code",
   "execution_count": 24,
   "metadata": {},
   "outputs": [],
   "source": [
    "# 1 for female and 0 for male:\n",
    "cohort3_imp <- cohort3_imp %>% mutate(gender = ifelse(gender == \"Male\", 0, 1),\n",
    "                                      race =  as.factor(race))"
   ]
  },
  {
   "cell_type": "code",
   "execution_count": 25,
   "metadata": {},
   "outputs": [
    {
     "data": {
      "text/html": [
       "<style>\n",
       ".list-inline {list-style: none; margin:0; padding: 0}\n",
       ".list-inline>li {display: inline-block}\n",
       ".list-inline>li:not(:last-child)::after {content: \"\\00b7\"; padding: 0 .5ex}\n",
       "</style>\n",
       "<ol class=list-inline><li>'anon_id'</li><li>'pat_enc_csn_id_coded'</li><li>'inpatient_data_id_coded'</li><li>'admit_time'</li><li>'label'</li><li>'ESI_i'</li><li>'delta_ESI'</li><li>'gender'</li><li>'race'</li><li>'age'</li><li>'insurance'</li><li>'English'</li><li>'Height_i'</li><li>'delta_H'</li><li>'Weight_i'</li><li>'delta_W'</li></ol>\n"
      ],
      "text/latex": [
       "\\begin{enumerate*}\n",
       "\\item 'anon\\_id'\n",
       "\\item 'pat\\_enc\\_csn\\_id\\_coded'\n",
       "\\item 'inpatient\\_data\\_id\\_coded'\n",
       "\\item 'admit\\_time'\n",
       "\\item 'label'\n",
       "\\item 'ESI\\_i'\n",
       "\\item 'delta\\_ESI'\n",
       "\\item 'gender'\n",
       "\\item 'race'\n",
       "\\item 'age'\n",
       "\\item 'insurance'\n",
       "\\item 'English'\n",
       "\\item 'Height\\_i'\n",
       "\\item 'delta\\_H'\n",
       "\\item 'Weight\\_i'\n",
       "\\item 'delta\\_W'\n",
       "\\end{enumerate*}\n"
      ],
      "text/markdown": [
       "1. 'anon_id'\n",
       "2. 'pat_enc_csn_id_coded'\n",
       "3. 'inpatient_data_id_coded'\n",
       "4. 'admit_time'\n",
       "5. 'label'\n",
       "6. 'ESI_i'\n",
       "7. 'delta_ESI'\n",
       "8. 'gender'\n",
       "9. 'race'\n",
       "10. 'age'\n",
       "11. 'insurance'\n",
       "12. 'English'\n",
       "13. 'Height_i'\n",
       "14. 'delta_H'\n",
       "15. 'Weight_i'\n",
       "16. 'delta_W'\n",
       "\n",
       "\n"
      ],
      "text/plain": [
       " [1] \"anon_id\"                 \"pat_enc_csn_id_coded\"   \n",
       " [3] \"inpatient_data_id_coded\" \"admit_time\"             \n",
       " [5] \"label\"                   \"ESI_i\"                  \n",
       " [7] \"delta_ESI\"               \"gender\"                 \n",
       " [9] \"race\"                    \"age\"                    \n",
       "[11] \"insurance\"               \"English\"                \n",
       "[13] \"Height_i\"                \"delta_H\"                \n",
       "[15] \"Weight_i\"                \"delta_W\"                "
      ]
     },
     "metadata": {},
     "output_type": "display_data"
    }
   ],
   "source": [
    "colnames(cohort3_imp)"
   ]
  },
  {
   "cell_type": "code",
   "execution_count": 26,
   "metadata": {},
   "outputs": [
    {
     "data": {
      "text/html": [
       "<style>\n",
       ".list-inline {list-style: none; margin:0; padding: 0}\n",
       ".list-inline>li {display: inline-block}\n",
       ".list-inline>li:not(:last-child)::after {content: \"\\00b7\"; padding: 0 .5ex}\n",
       "</style>\n",
       "<ol class=list-inline><li>60742</li><li>22</li></ol>\n"
      ],
      "text/latex": [
       "\\begin{enumerate*}\n",
       "\\item 60742\n",
       "\\item 22\n",
       "\\end{enumerate*}\n"
      ],
      "text/markdown": [
       "1. 60742\n",
       "2. 22\n",
       "\n",
       "\n"
      ],
      "text/plain": [
       "[1] 60742    22"
      ]
     },
     "metadata": {},
     "output_type": "display_data"
    },
    {
     "data": {
      "text/plain": [
       "   anon_id          pat_enc_csn_id_coded inpatient_data_id_coded\n",
       " Length:60742       Min.   :1.311e+11    Min.   :13616753       \n",
       " Class :character   1st Qu.:1.312e+11    1st Qu.:22649907       \n",
       " Mode  :character   Median :1.313e+11    Median :32875482       \n",
       "                    Mean   :1.312e+11    Mean   :37411645       \n",
       "                    3rd Qu.:1.313e+11    3rd Qu.:54248675       \n",
       "                    Max.   :1.313e+11    Max.   :73231043       \n",
       "   admit_time                      label            ESI_i      \n",
       " Min.   :2015-01-01 08:24:00   Min.   :0.0000   Min.   :1.000  \n",
       " 1st Qu.:2016-12-17 03:34:15   1st Qu.:0.0000   1st Qu.:2.000  \n",
       " Median :2018-11-07 01:46:30   Median :0.0000   Median :3.000  \n",
       " Mean   :2018-08-29 13:12:23   Mean   :0.1346   Mean   :2.631  \n",
       " 3rd Qu.:2020-06-02 23:38:15   3rd Qu.:0.0000   3rd Qu.:3.000  \n",
       " Max.   :2021-09-30 07:00:00   Max.   :1.0000   Max.   :5.000  \n",
       "   delta_ESI           gender            age           insurance     \n",
       " Min.   :0.00000   Min.   :0.0000   Min.   : 18.00   Min.   :0.0000  \n",
       " 1st Qu.:0.00000   1st Qu.:0.0000   1st Qu.: 45.00   1st Qu.:0.0000  \n",
       " Median :0.00000   Median :0.0000   Median : 61.00   Median :0.0000  \n",
       " Mean   :0.02963   Mean   :0.4768   Mean   : 58.62   Mean   :0.4221  \n",
       " 3rd Qu.:0.00000   3rd Qu.:1.0000   3rd Qu.: 73.00   3rd Qu.:1.0000  \n",
       " Max.   :1.00000   Max.   :1.0000   Max.   :107.00   Max.   :1.0000  \n",
       "    English          Height_i        delta_H           Weight_i     \n",
       " Min.   :0.0000   Min.   :115.0   Min.   :0.00000   Min.   : 20.50  \n",
       " 1st Qu.:1.0000   1st Qu.:160.0   1st Qu.:0.00000   1st Qu.: 61.10  \n",
       " Median :1.0000   Median :168.0   Median :0.00000   Median : 73.71  \n",
       " Mean   :0.8346   Mean   :168.1   Mean   :0.02848   Mean   : 77.06  \n",
       " 3rd Qu.:1.0000   3rd Qu.:175.3   3rd Qu.:0.00000   3rd Qu.: 88.30  \n",
       " Max.   :1.0000   Max.   :213.0   Max.   :1.00000   Max.   :322.00  \n",
       "    delta_W           race.Asian       race.Black      race.Native.American\n",
       " Min.   :0.000000   Min.   :0.0000   Min.   :0.00000   Min.   :0.000000    \n",
       " 1st Qu.:0.000000   1st Qu.:0.0000   1st Qu.:0.00000   1st Qu.:0.000000    \n",
       " Median :0.000000   Median :0.0000   Median :0.00000   Median :0.000000    \n",
       " Mean   :0.005351   Mean   :0.1545   Mean   :0.06886   Mean   :0.004149    \n",
       " 3rd Qu.:0.000000   3rd Qu.:0.0000   3rd Qu.:0.00000   3rd Qu.:0.000000    \n",
       " Max.   :1.000000   Max.   :1.0000   Max.   :1.00000   Max.   :1.000000    \n",
       "   race.Other     race.Pacific.Islander  race.Unknown        race.White    \n",
       " Min.   :0.0000   Min.   :0.00000       Min.   :0.000000   Min.   :0.0000  \n",
       " 1st Qu.:0.0000   1st Qu.:0.00000       1st Qu.:0.000000   1st Qu.:0.0000  \n",
       " Median :0.0000   Median :0.00000       Median :0.000000   Median :1.0000  \n",
       " Mean   :0.2408   Mean   :0.02061       Mean   :0.007655   Mean   :0.5034  \n",
       " 3rd Qu.:0.0000   3rd Qu.:0.00000       3rd Qu.:0.000000   3rd Qu.:1.0000  \n",
       " Max.   :1.0000   Max.   :1.00000       Max.   :1.000000   Max.   :1.0000  "
      ]
     },
     "metadata": {},
     "output_type": "display_data"
    }
   ],
   "source": [
    "# onehot coding for race: (caret package for dummyVars)\n",
    "dummy <- dummyVars(~ race, data = cohort3_imp) # if more ! gender + race\n",
    "race_1hot <- data.frame(predict(dummy, newdata = cohort3_imp))\n",
    "cohort3_imp <-  cohort3_imp %>% select(-race) %>% bind_cols(race_1hot)\n",
    "dim(cohort3_imp)\n",
    "summary(cohort3_imp)"
   ]
  },
  {
   "cell_type": "code",
   "execution_count": 27,
   "metadata": {},
   "outputs": [
    {
     "data": {
      "text/html": [
       "<table class=\"dataframe\">\n",
       "<caption>A data.frame: 3 × 22</caption>\n",
       "<thead>\n",
       "\t<tr><th></th><th scope=col>anon_id</th><th scope=col>pat_enc_csn_id_coded</th><th scope=col>inpatient_data_id_coded</th><th scope=col>admit_time</th><th scope=col>label</th><th scope=col>ESI_i</th><th scope=col>delta_ESI</th><th scope=col>gender</th><th scope=col>age</th><th scope=col>insurance</th><th scope=col>English</th><th scope=col>Height_i</th><th scope=col>delta_H</th><th scope=col>Weight_i</th><th scope=col>delta_W</th><th scope=col>race.Asian</th><th scope=col>race.Black</th><th scope=col>race.Native.American</th><th scope=col>race.Other</th><th scope=col>race.Pacific.Islander</th><th scope=col>race.Unknown</th><th scope=col>race.White</th></tr>\n",
       "\t<tr><th></th><th scope=col>&lt;chr&gt;</th><th scope=col>&lt;dbl&gt;</th><th scope=col>&lt;int&gt;</th><th scope=col>&lt;dttm&gt;</th><th scope=col>&lt;int&gt;</th><th scope=col>&lt;int&gt;</th><th scope=col>&lt;dbl&gt;</th><th scope=col>&lt;dbl&gt;</th><th scope=col>&lt;int&gt;</th><th scope=col>&lt;int&gt;</th><th scope=col>&lt;int&gt;</th><th scope=col>&lt;dbl&gt;</th><th scope=col>&lt;dbl&gt;</th><th scope=col>&lt;dbl&gt;</th><th scope=col>&lt;dbl&gt;</th><th scope=col>&lt;dbl&gt;</th><th scope=col>&lt;dbl&gt;</th><th scope=col>&lt;dbl&gt;</th><th scope=col>&lt;dbl&gt;</th><th scope=col>&lt;dbl&gt;</th><th scope=col>&lt;dbl&gt;</th><th scope=col>&lt;dbl&gt;</th></tr>\n",
       "</thead>\n",
       "<tbody>\n",
       "\t<tr><th scope=row>1</th><td>JC29f8ad2</td><td>131274729058</td><td>40679773</td><td>2019-08-31 12:52:00</td><td>0</td><td>3</td><td>0</td><td>1</td><td>52</td><td>1</td><td>1</td><td>165.0</td><td>0</td><td>81.0</td><td>0</td><td>0</td><td>0</td><td>0</td><td>0</td><td>0</td><td>0</td><td>1</td></tr>\n",
       "\t<tr><th scope=row>2</th><td>JC29f8ad3</td><td>131278291027</td><td>42992239</td><td>2019-10-05 23:48:00</td><td>0</td><td>3</td><td>0</td><td>1</td><td>35</td><td>1</td><td>1</td><td>163.0</td><td>1</td><td>83.0</td><td>1</td><td>1</td><td>0</td><td>0</td><td>0</td><td>0</td><td>0</td><td>0</td></tr>\n",
       "\t<tr><th scope=row>3</th><td>JC29f8b9c</td><td>131266787806</td><td>36261582</td><td>2019-05-05 01:07:00</td><td>0</td><td>2</td><td>0</td><td>0</td><td>59</td><td>0</td><td>0</td><td>152.4</td><td>1</td><td>61.4</td><td>1</td><td>0</td><td>0</td><td>0</td><td>0</td><td>0</td><td>1</td><td>0</td></tr>\n",
       "</tbody>\n",
       "</table>\n"
      ],
      "text/latex": [
       "A data.frame: 3 × 22\n",
       "\\begin{tabular}{r|llllllllllllllllllllll}\n",
       "  & anon\\_id & pat\\_enc\\_csn\\_id\\_coded & inpatient\\_data\\_id\\_coded & admit\\_time & label & ESI\\_i & delta\\_ESI & gender & age & insurance & English & Height\\_i & delta\\_H & Weight\\_i & delta\\_W & race.Asian & race.Black & race.Native.American & race.Other & race.Pacific.Islander & race.Unknown & race.White\\\\\n",
       "  & <chr> & <dbl> & <int> & <dttm> & <int> & <int> & <dbl> & <dbl> & <int> & <int> & <int> & <dbl> & <dbl> & <dbl> & <dbl> & <dbl> & <dbl> & <dbl> & <dbl> & <dbl> & <dbl> & <dbl>\\\\\n",
       "\\hline\n",
       "\t1 & JC29f8ad2 & 131274729058 & 40679773 & 2019-08-31 12:52:00 & 0 & 3 & 0 & 1 & 52 & 1 & 1 & 165.0 & 0 & 81.0 & 0 & 0 & 0 & 0 & 0 & 0 & 0 & 1\\\\\n",
       "\t2 & JC29f8ad3 & 131278291027 & 42992239 & 2019-10-05 23:48:00 & 0 & 3 & 0 & 1 & 35 & 1 & 1 & 163.0 & 1 & 83.0 & 1 & 1 & 0 & 0 & 0 & 0 & 0 & 0\\\\\n",
       "\t3 & JC29f8b9c & 131266787806 & 36261582 & 2019-05-05 01:07:00 & 0 & 2 & 0 & 0 & 59 & 0 & 0 & 152.4 & 1 & 61.4 & 1 & 0 & 0 & 0 & 0 & 0 & 1 & 0\\\\\n",
       "\\end{tabular}\n"
      ],
      "text/markdown": [
       "\n",
       "A data.frame: 3 × 22\n",
       "\n",
       "| <!--/--> | anon_id &lt;chr&gt; | pat_enc_csn_id_coded &lt;dbl&gt; | inpatient_data_id_coded &lt;int&gt; | admit_time &lt;dttm&gt; | label &lt;int&gt; | ESI_i &lt;int&gt; | delta_ESI &lt;dbl&gt; | gender &lt;dbl&gt; | age &lt;int&gt; | insurance &lt;int&gt; | English &lt;int&gt; | Height_i &lt;dbl&gt; | delta_H &lt;dbl&gt; | Weight_i &lt;dbl&gt; | delta_W &lt;dbl&gt; | race.Asian &lt;dbl&gt; | race.Black &lt;dbl&gt; | race.Native.American &lt;dbl&gt; | race.Other &lt;dbl&gt; | race.Pacific.Islander &lt;dbl&gt; | race.Unknown &lt;dbl&gt; | race.White &lt;dbl&gt; |\n",
       "|---|---|---|---|---|---|---|---|---|---|---|---|---|---|---|---|---|---|---|---|---|---|---|\n",
       "| 1 | JC29f8ad2 | 131274729058 | 40679773 | 2019-08-31 12:52:00 | 0 | 3 | 0 | 1 | 52 | 1 | 1 | 165.0 | 0 | 81.0 | 0 | 0 | 0 | 0 | 0 | 0 | 0 | 1 |\n",
       "| 2 | JC29f8ad3 | 131278291027 | 42992239 | 2019-10-05 23:48:00 | 0 | 3 | 0 | 1 | 35 | 1 | 1 | 163.0 | 1 | 83.0 | 1 | 1 | 0 | 0 | 0 | 0 | 0 | 0 |\n",
       "| 3 | JC29f8b9c | 131266787806 | 36261582 | 2019-05-05 01:07:00 | 0 | 2 | 0 | 0 | 59 | 0 | 0 | 152.4 | 1 | 61.4 | 1 | 0 | 0 | 0 | 0 | 0 | 1 | 0 |\n",
       "\n"
      ],
      "text/plain": [
       "  anon_id   pat_enc_csn_id_coded inpatient_data_id_coded admit_time         \n",
       "1 JC29f8ad2 131274729058         40679773                2019-08-31 12:52:00\n",
       "2 JC29f8ad3 131278291027         42992239                2019-10-05 23:48:00\n",
       "3 JC29f8b9c 131266787806         36261582                2019-05-05 01:07:00\n",
       "  label ESI_i delta_ESI gender age insurance English Height_i delta_H Weight_i\n",
       "1 0     3     0         1      52  1         1       165.0    0       81.0    \n",
       "2 0     3     0         1      35  1         1       163.0    1       83.0    \n",
       "3 0     2     0         0      59  0         0       152.4    1       61.4    \n",
       "  delta_W race.Asian race.Black race.Native.American race.Other\n",
       "1 0       0          0          0                    0         \n",
       "2 1       1          0          0                    0         \n",
       "3 1       0          0          0                    0         \n",
       "  race.Pacific.Islander race.Unknown race.White\n",
       "1 0                     0            1         \n",
       "2 0                     0            0         \n",
       "3 0                     1            0         "
      ]
     },
     "metadata": {},
     "output_type": "display_data"
    }
   ],
   "source": [
    "head(cohort3_imp, n=3)"
   ]
  },
  {
   "cell_type": "code",
   "execution_count": 28,
   "metadata": {},
   "outputs": [
    {
     "data": {
      "text/html": [
       "60464"
      ],
      "text/latex": [
       "60464"
      ],
      "text/markdown": [
       "60464"
      ],
      "text/plain": [
       "[1] 60464"
      ]
     },
     "metadata": {},
     "output_type": "display_data"
    },
    {
     "data": {
      "text/html": [
       "60464"
      ],
      "text/latex": [
       "60464"
      ],
      "text/markdown": [
       "60464"
      ],
      "text/plain": [
       "[1] 60464"
      ]
     },
     "metadata": {},
     "output_type": "display_data"
    }
   ],
   "source": [
    "### complete final cohort from cohort4\n",
    "cohort_imp <- cohort3_imp %>% filter(pat_enc_csn_id_coded %in% cohort4$pat_enc_csn_id_coded)\n",
    "nrow(cohort_imp) # 60464\n",
    "nrow(cohort_imp %>% select(pat_enc_csn_id_coded) %>% distinct()) # 60464"
   ]
  },
  {
   "cell_type": "code",
   "execution_count": 31,
   "metadata": {},
   "outputs": [
    {
     "data": {
      "text/html": [
       "<style>\n",
       ".list-inline {list-style: none; margin:0; padding: 0}\n",
       ".list-inline>li {display: inline-block}\n",
       ".list-inline>li:not(:last-child)::after {content: \"\\00b7\"; padding: 0 .5ex}\n",
       "</style>\n",
       "<ol class=list-inline><li>'anon_id'</li><li>'pat_enc_csn_id_coded'</li><li>'inpatient_data_id_coded'</li><li>'admit_time'</li><li>'label'</li><li>'ESI_i'</li><li>'delta_ESI'</li><li>'gender'</li><li>'age'</li><li>'insurance'</li><li>'English'</li><li>'Height_i'</li><li>'delta_H'</li><li>'Weight_i'</li><li>'delta_W'</li><li>'race.Asian'</li><li>'race.Black'</li><li>'race.Native.American'</li><li>'race.Other'</li><li>'race.Pacific.Islander'</li><li>'race.Unknown'</li><li>'race.White'</li></ol>\n"
      ],
      "text/latex": [
       "\\begin{enumerate*}\n",
       "\\item 'anon\\_id'\n",
       "\\item 'pat\\_enc\\_csn\\_id\\_coded'\n",
       "\\item 'inpatient\\_data\\_id\\_coded'\n",
       "\\item 'admit\\_time'\n",
       "\\item 'label'\n",
       "\\item 'ESI\\_i'\n",
       "\\item 'delta\\_ESI'\n",
       "\\item 'gender'\n",
       "\\item 'age'\n",
       "\\item 'insurance'\n",
       "\\item 'English'\n",
       "\\item 'Height\\_i'\n",
       "\\item 'delta\\_H'\n",
       "\\item 'Weight\\_i'\n",
       "\\item 'delta\\_W'\n",
       "\\item 'race.Asian'\n",
       "\\item 'race.Black'\n",
       "\\item 'race.Native.American'\n",
       "\\item 'race.Other'\n",
       "\\item 'race.Pacific.Islander'\n",
       "\\item 'race.Unknown'\n",
       "\\item 'race.White'\n",
       "\\end{enumerate*}\n"
      ],
      "text/markdown": [
       "1. 'anon_id'\n",
       "2. 'pat_enc_csn_id_coded'\n",
       "3. 'inpatient_data_id_coded'\n",
       "4. 'admit_time'\n",
       "5. 'label'\n",
       "6. 'ESI_i'\n",
       "7. 'delta_ESI'\n",
       "8. 'gender'\n",
       "9. 'age'\n",
       "10. 'insurance'\n",
       "11. 'English'\n",
       "12. 'Height_i'\n",
       "13. 'delta_H'\n",
       "14. 'Weight_i'\n",
       "15. 'delta_W'\n",
       "16. 'race.Asian'\n",
       "17. 'race.Black'\n",
       "18. 'race.Native.American'\n",
       "19. 'race.Other'\n",
       "20. 'race.Pacific.Islander'\n",
       "21. 'race.Unknown'\n",
       "22. 'race.White'\n",
       "\n",
       "\n"
      ],
      "text/plain": [
       " [1] \"anon_id\"                 \"pat_enc_csn_id_coded\"   \n",
       " [3] \"inpatient_data_id_coded\" \"admit_time\"             \n",
       " [5] \"label\"                   \"ESI_i\"                  \n",
       " [7] \"delta_ESI\"               \"gender\"                 \n",
       " [9] \"age\"                     \"insurance\"              \n",
       "[11] \"English\"                 \"Height_i\"               \n",
       "[13] \"delta_H\"                 \"Weight_i\"               \n",
       "[15] \"delta_W\"                 \"race.Asian\"             \n",
       "[17] \"race.Black\"              \"race.Native.American\"   \n",
       "[19] \"race.Other\"              \"race.Pacific.Islander\"  \n",
       "[21] \"race.Unknown\"            \"race.White\"             "
      ]
     },
     "metadata": {},
     "output_type": "display_data"
    }
   ],
   "source": [
    "colnames(cohort_imp)"
   ]
  },
  {
   "cell_type": "code",
   "execution_count": 32,
   "metadata": {},
   "outputs": [],
   "source": [
    "# save file\n",
    "write.csv(cohort_imp, file.path(valdir, \"6_8_coh4_all_imputedHWESI.csv\"), row.names=FALSE)"
   ]
  },
  {
   "cell_type": "code",
   "execution_count": null,
   "metadata": {},
   "outputs": [],
   "source": []
  }
 ],
 "metadata": {
  "environment": {
   "name": "r-cpu.4-0.m71",
   "type": "gcloud",
   "uri": "gcr.io/deeplearning-platform-release/r-cpu.4-0:m71"
  },
  "kernelspec": {
   "display_name": "R",
   "language": "R",
   "name": "ir"
  },
  "language_info": {
   "codemirror_mode": "r",
   "file_extension": ".r",
   "mimetype": "text/x-r-source",
   "name": "R",
   "pygments_lexer": "r",
   "version": "4.1.0"
  },
  "toc": {
   "base_numbering": 1,
   "nav_menu": {},
   "number_sections": true,
   "sideBar": true,
   "skip_h1_title": false,
   "title_cell": "Table of Contents",
   "title_sidebar": "Contents",
   "toc_cell": false,
   "toc_position": {},
   "toc_section_display": true,
   "toc_window_display": false
  },
  "varInspector": {
   "cols": {
    "lenName": 16,
    "lenType": 16,
    "lenVar": 40
   },
   "kernels_config": {
    "python": {
     "delete_cmd_postfix": "",
     "delete_cmd_prefix": "del ",
     "library": "var_list.py",
     "varRefreshCmd": "print(var_dic_list())"
    },
    "r": {
     "delete_cmd_postfix": ") ",
     "delete_cmd_prefix": "rm(",
     "library": "var_list.r",
     "varRefreshCmd": "cat(var_dic_list()) "
    }
   },
   "types_to_exclude": [
    "module",
    "function",
    "builtin_function_or_method",
    "instance",
    "_Feature"
   ],
   "window_display": false
  }
 },
 "nbformat": 4,
 "nbformat_minor": 4
}
