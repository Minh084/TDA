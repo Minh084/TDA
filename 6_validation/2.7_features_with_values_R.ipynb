{
 "cells": [
  {
   "cell_type": "markdown",
   "metadata": {},
   "source": [
    "### Descriptions:\n",
    "\n",
    "JOIN all features with values together first, in the *long* format, to be merged with feature counts\n",
    "\n",
    "Inputs: \n",
    "- `2_3_coh2_vitals`: has all processed vital signs (not the summary stats)\n",
    "- `2_4_coh3_labs`: has all processed labs\n",
    "- `2_5_coh3_imputedHWESI`: has both demographics, imputed HW (with 1_2_cohort) and imputed ESI (with the latest cohort)\n",
    "- `1_5_cohort_final`: 1_3_cohort with labels processed and have labs\n",
    "- `1_4_cohort`: 1_3_cohort with labels, a superset of 1_5_cohort_final\n",
    "\n",
    "Outputs:\n",
    "- `2_7_coh5_feature_values`: used 1_5_cohort_final\n",
    "- `2_7_coh4_feature_values`: used 1_4_cohort, a superset of `2_7_coh5_feature_values`"
   ]
  },
  {
   "cell_type": "markdown",
   "metadata": {},
   "source": [
    "### Importing R libraries"
   ]
  },
  {
   "cell_type": "code",
   "execution_count": 25,
   "metadata": {
    "ExecuteTime": {
     "end_time": "2020-05-21T00:38:06.078240Z",
     "start_time": "2020-05-21T00:38:02.778Z"
    }
   },
   "outputs": [],
   "source": [
    "library(bigrquery)  # to query STARR-OMOP (stored in BigQuery) using SQL\n",
    "library(tidyverse)\n",
    "library(lubridate)\n",
    "# library(mice)\n",
    "# library(VIM) # for missing data plot\n",
    "\n",
    "# library(data.table)\n",
    "# library(Matrix)\n",
    "# library(caret) # import this before glmnet to avoid rlang version problem\n",
    "# library(glmnet)\n",
    "# library(bit64)\n",
    "\n",
    "# library(slam)\n",
    "# library(mtools) for one hot coder, not available on Nero or use caret or tidyr\n",
    "options(repr.matrix.max.rows=250, repr.matrix.max.cols=30)"
   ]
  },
  {
   "cell_type": "markdown",
   "metadata": {},
   "source": [
    "### Call back all datasets: \n",
    "* demographic with imputed HW and ESI\n",
    "* vitals, cohort with at least a complete set of vs only\n",
    "* labs, cohort with at least a lab result\n",
    "* cohort_final"
   ]
  },
  {
   "cell_type": "code",
   "execution_count": 26,
   "metadata": {},
   "outputs": [
    {
     "data": {
      "text/html": [
       "1011224"
      ],
      "text/latex": [
       "1011224"
      ],
      "text/markdown": [
       "1011224"
      ],
      "text/plain": [
       "[1] 1011224"
      ]
     },
     "metadata": {},
     "output_type": "display_data"
    },
    {
     "data": {
      "text/html": [
       "1367422"
      ],
      "text/latex": [
       "1367422"
      ],
      "text/markdown": [
       "1367422"
      ],
      "text/plain": [
       "[1] 1367422"
      ]
     },
     "metadata": {},
     "output_type": "display_data"
    },
    {
     "data": {
      "text/html": [
       "44258"
      ],
      "text/latex": [
       "44258"
      ],
      "text/markdown": [
       "44258"
      ],
      "text/plain": [
       "[1] 44258"
      ]
     },
     "metadata": {},
     "output_type": "display_data"
    },
    {
     "data": {
      "text/html": [
       "43980"
      ],
      "text/latex": [
       "43980"
      ],
      "text/markdown": [
       "43980"
      ],
      "text/plain": [
       "[1] 43980"
      ]
     },
     "metadata": {},
     "output_type": "display_data"
    },
    {
     "data": {
      "text/html": [
       "41366"
      ],
      "text/latex": [
       "41366"
      ],
      "text/markdown": [
       "41366"
      ],
      "text/plain": [
       "[1] 41366"
      ]
     },
     "metadata": {},
     "output_type": "display_data"
    }
   ],
   "source": [
    "# read inputs\n",
    "datadir = \"../../DataTD\"\n",
    "cohortdir = \"../../OutputTD/1_cohort\"\n",
    "featuredir = \"../../OutputTD/2_features\"\n",
    "\n",
    "\n",
    "vitals0 <- read.csv(file.path(featuredir, '2_3_coh2_vitals.csv'))\n",
    "nrow(vitals0)\n",
    "\n",
    "labs0 <- read.csv(file.path(featuredir, '2_4_coh3_labs.csv'))\n",
    "nrow(labs0)\n",
    "\n",
    "demos <- read.csv(file.path(featuredir, '2_5_coh3_imputedHWESI.csv'))\n",
    "nrow(demos)\n",
    "\n",
    "cohort4 <- read.csv(file.path(cohortdir, '1_4_cohort.csv'))\n",
    "nrow(cohort4)\n",
    "\n",
    "cohort5 <- read.csv(file.path(cohortdir, '1_5_cohort_final.csv'))\n",
    "nrow(cohort5)"
   ]
  },
  {
   "cell_type": "code",
   "execution_count": 3,
   "metadata": {},
   "outputs": [
    {
     "data": {
      "text/html": [
       "1633"
      ],
      "text/latex": [
       "1633"
      ],
      "text/markdown": [
       "1633"
      ],
      "text/plain": [
       "[1] 1633"
      ]
     },
     "metadata": {},
     "output_type": "display_data"
    },
    {
     "data": {
      "text/html": [
       "0"
      ],
      "text/latex": [
       "0"
      ],
      "text/markdown": [
       "0"
      ],
      "text/plain": [
       "[1] 0"
      ]
     },
     "metadata": {},
     "output_type": "display_data"
    },
    {
     "data": {
      "text/html": [
       "3986"
      ],
      "text/latex": [
       "3986"
      ],
      "text/markdown": [
       "3986"
      ],
      "text/plain": [
       "[1] 3986"
      ]
     },
     "metadata": {},
     "output_type": "display_data"
    },
    {
     "data": {
      "text/html": [
       "2614"
      ],
      "text/latex": [
       "2614"
      ],
      "text/markdown": [
       "2614"
      ],
      "text/plain": [
       "[1] 2614"
      ]
     },
     "metadata": {},
     "output_type": "display_data"
    },
    {
     "data": {
      "text/html": [
       "2614"
      ],
      "text/latex": [
       "2614"
      ],
      "text/markdown": [
       "2614"
      ],
      "text/plain": [
       "[1] 2614"
      ]
     },
     "metadata": {},
     "output_type": "display_data"
    },
    {
     "data": {
      "text/html": [
       "0"
      ],
      "text/latex": [
       "0"
      ],
      "text/markdown": [
       "0"
      ],
      "text/plain": [
       "[1] 0"
      ]
     },
     "metadata": {},
     "output_type": "display_data"
    }
   ],
   "source": [
    "length(setdiff(vitals0$pat_enc_csn_id_coded, cohort4$pat_enc_csn_id_coded)) # 1633\n",
    "length(setdiff(cohort4$pat_enc_csn_id_coded, vitals0$pat_enc_csn_id_coded)) # 0\n",
    "\n",
    "length(setdiff(vitals0$pat_enc_csn_id_coded, labs0$pat_enc_csn_id_coded)) # 3986\n",
    "length(setdiff(cohort4$pat_enc_csn_id_coded, labs0$pat_enc_csn_id_coded)) # 2614\n",
    "length(setdiff(cohort4$pat_enc_csn_id_coded, cohort5$pat_enc_csn_id_coded)) # 2614\n",
    "length(setdiff(cohort5$pat_enc_csn_id_coded, cohort4$pat_enc_csn_id_coded)) # 2614"
   ]
  },
  {
   "cell_type": "code",
   "execution_count": 4,
   "metadata": {},
   "outputs": [
    {
     "data": {
      "text/html": [
       "45613"
      ],
      "text/latex": [
       "45613"
      ],
      "text/markdown": [
       "45613"
      ],
      "text/plain": [
       "[1] 45613"
      ]
     },
     "metadata": {},
     "output_type": "display_data"
    },
    {
     "data": {
      "text/html": [
       "45613"
      ],
      "text/latex": [
       "45613"
      ],
      "text/markdown": [
       "45613"
      ],
      "text/plain": [
       "[1] 45613"
      ]
     },
     "metadata": {},
     "output_type": "display_data"
    },
    {
     "data": {
      "text/html": [
       "44258"
      ],
      "text/latex": [
       "44258"
      ],
      "text/markdown": [
       "44258"
      ],
      "text/plain": [
       "[1] 44258"
      ]
     },
     "metadata": {},
     "output_type": "display_data"
    },
    {
     "data": {
      "text/html": [
       "44258"
      ],
      "text/latex": [
       "44258"
      ],
      "text/markdown": [
       "44258"
      ],
      "text/plain": [
       "[1] 44258"
      ]
     },
     "metadata": {},
     "output_type": "display_data"
    },
    {
     "data": {
      "text/html": [
       "41627"
      ],
      "text/latex": [
       "41627"
      ],
      "text/markdown": [
       "41627"
      ],
      "text/plain": [
       "[1] 41627"
      ]
     },
     "metadata": {},
     "output_type": "display_data"
    },
    {
     "data": {
      "text/html": [
       "41627"
      ],
      "text/latex": [
       "41627"
      ],
      "text/markdown": [
       "41627"
      ],
      "text/plain": [
       "[1] 41627"
      ]
     },
     "metadata": {},
     "output_type": "display_data"
    },
    {
     "data": {
      "text/html": [
       "43980"
      ],
      "text/latex": [
       "43980"
      ],
      "text/markdown": [
       "43980"
      ],
      "text/plain": [
       "[1] 43980"
      ]
     },
     "metadata": {},
     "output_type": "display_data"
    },
    {
     "data": {
      "text/html": [
       "43980"
      ],
      "text/latex": [
       "43980"
      ],
      "text/markdown": [
       "43980"
      ],
      "text/plain": [
       "[1] 43980"
      ]
     },
     "metadata": {},
     "output_type": "display_data"
    },
    {
     "data": {
      "text/html": [
       "41366"
      ],
      "text/latex": [
       "41366"
      ],
      "text/markdown": [
       "41366"
      ],
      "text/plain": [
       "[1] 41366"
      ]
     },
     "metadata": {},
     "output_type": "display_data"
    },
    {
     "data": {
      "text/html": [
       "41366"
      ],
      "text/latex": [
       "41366"
      ],
      "text/markdown": [
       "41366"
      ],
      "text/plain": [
       "[1] 41366"
      ]
     },
     "metadata": {},
     "output_type": "display_data"
    },
    {
     "data": {
      "text/html": [
       "278"
      ],
      "text/latex": [
       "278"
      ],
      "text/markdown": [
       "278"
      ],
      "text/plain": [
       "[1] 278"
      ]
     },
     "metadata": {},
     "output_type": "display_data"
    },
    {
     "data": {
      "text/html": [
       "1633"
      ],
      "text/latex": [
       "1633"
      ],
      "text/markdown": [
       "1633"
      ],
      "text/plain": [
       "[1] 1633"
      ]
     },
     "metadata": {},
     "output_type": "display_data"
    },
    {
     "data": {
      "text/html": [
       "261"
      ],
      "text/latex": [
       "261"
      ],
      "text/markdown": [
       "261"
      ],
      "text/plain": [
       "[1] 261"
      ]
     },
     "metadata": {},
     "output_type": "display_data"
    },
    {
     "data": {
      "text/html": [
       "2892"
      ],
      "text/latex": [
       "2892"
      ],
      "text/markdown": [
       "2892"
      ],
      "text/plain": [
       "[1] 2892"
      ]
     },
     "metadata": {},
     "output_type": "display_data"
    },
    {
     "data": {
      "text/html": [
       "4247"
      ],
      "text/latex": [
       "4247"
      ],
      "text/markdown": [
       "4247"
      ],
      "text/plain": [
       "[1] 4247"
      ]
     },
     "metadata": {},
     "output_type": "display_data"
    },
    {
     "data": {
      "text/html": [
       "261"
      ],
      "text/latex": [
       "261"
      ],
      "text/markdown": [
       "261"
      ],
      "text/plain": [
       "[1] 261"
      ]
     },
     "metadata": {},
     "output_type": "display_data"
    }
   ],
   "source": [
    "nrow(vitals0 %>% select(anon_id, pat_enc_csn_id_coded) %>% distinct())\n",
    "length(unique(vitals0$pat_enc_csn_id_coded)) # 2nd cohort, larger 45613\n",
    "\n",
    "nrow(demos %>% select(anon_id, pat_enc_csn_id_coded) %>% distinct())\n",
    "length(unique(demos$pat_enc_csn_id_coded)) # 3nd cohort, 44258, using only those with a complete set of VS for ESI imputation\n",
    "\n",
    "nrow(labs0 %>% select(anon_id, pat_enc_csn_id_coded) %>% distinct()) # 41627\n",
    "length(unique(labs0$pat_enc_csn_id_coded)) # 41627 (similar before, labs have less than cohort)\n",
    "\n",
    "nrow(cohort4 %>% select(anon_id, pat_enc_csn_id_coded) %>% distinct()) # 43980\n",
    "length(unique(cohort4$pat_enc_csn_id_coded)) # 41627 (similar before, labs have less than cohort)\n",
    "\n",
    "nrow(cohort5 %>% select(anon_id, pat_enc_csn_id_coded) %>% distinct()) # 41366\n",
    "length(unique(cohort5$pat_enc_csn_id_coded)) # 43980\n",
    "\n",
    "length(setdiff(demos$pat_enc_csn_id_coded, cohort4$pat_enc_csn_id_coded)) # 278\n",
    "length(setdiff(vitals0$pat_enc_csn_id_coded, cohort4$pat_enc_csn_id_coded)) # 1633\n",
    "length(setdiff(labs0$pat_enc_csn_id_coded, cohort4$pat_enc_csn_id_coded)) # 261\n",
    "\n",
    "length(setdiff(demos$pat_enc_csn_id_coded, cohort5$pat_enc_csn_id_coded)) # 2892\n",
    "length(setdiff(vitals0$pat_enc_csn_id_coded, cohort5$pat_enc_csn_id_coded)) # 4247\n",
    "length(setdiff(labs0$pat_enc_csn_id_coded, cohort5$pat_enc_csn_id_coded)) # 261"
   ]
  },
  {
   "cell_type": "code",
   "execution_count": 5,
   "metadata": {},
   "outputs": [
    {
     "data": {
      "text/html": [
       "<table class=\"dataframe\">\n",
       "<caption>A data.frame: 1 × 17</caption>\n",
       "<thead>\n",
       "\t<tr><th></th><th scope=col>anon_id</th><th scope=col>pat_enc_csn_id_coded</th><th scope=col>inpatient_data_id_coded</th><th scope=col>admit_time</th><th scope=col>label_max24</th><th scope=col>label_24hr_recent</th><th scope=col>admit_label</th><th scope=col>has_admit_label</th><th scope=col>died_within_24hrs</th><th scope=col>death_24hr_max_label</th><th scope=col>death_24hr_recent_label</th><th scope=col>first_label</th><th scope=col>first_label_minutes_since_admit</th><th scope=col>acute_to_critical_label_recent</th><th scope=col>critical_to_acute_label_recent</th><th scope=col>acute_to_critical_label_max</th><th scope=col>critical_to_acute_label_max</th></tr>\n",
       "\t<tr><th></th><th scope=col>&lt;chr&gt;</th><th scope=col>&lt;dbl&gt;</th><th scope=col>&lt;int&gt;</th><th scope=col>&lt;chr&gt;</th><th scope=col>&lt;int&gt;</th><th scope=col>&lt;int&gt;</th><th scope=col>&lt;int&gt;</th><th scope=col>&lt;int&gt;</th><th scope=col>&lt;int&gt;</th><th scope=col>&lt;int&gt;</th><th scope=col>&lt;int&gt;</th><th scope=col>&lt;int&gt;</th><th scope=col>&lt;dbl&gt;</th><th scope=col>&lt;int&gt;</th><th scope=col>&lt;int&gt;</th><th scope=col>&lt;int&gt;</th><th scope=col>&lt;int&gt;</th></tr>\n",
       "</thead>\n",
       "<tbody>\n",
       "\t<tr><th scope=row>1</th><td>JCd97296</td><td>1.31176e+11</td><td>18290644</td><td>2016-02-06 22:31:00+00:00</td><td>0</td><td>0</td><td>NA</td><td>0</td><td>0</td><td>0</td><td>0</td><td>0</td><td>1325</td><td>0</td><td>0</td><td>0</td><td>0</td></tr>\n",
       "</tbody>\n",
       "</table>\n"
      ],
      "text/latex": [
       "A data.frame: 1 × 17\n",
       "\\begin{tabular}{r|lllllllllllllllll}\n",
       "  & anon\\_id & pat\\_enc\\_csn\\_id\\_coded & inpatient\\_data\\_id\\_coded & admit\\_time & label\\_max24 & label\\_24hr\\_recent & admit\\_label & has\\_admit\\_label & died\\_within\\_24hrs & death\\_24hr\\_max\\_label & death\\_24hr\\_recent\\_label & first\\_label & first\\_label\\_minutes\\_since\\_admit & acute\\_to\\_critical\\_label\\_recent & critical\\_to\\_acute\\_label\\_recent & acute\\_to\\_critical\\_label\\_max & critical\\_to\\_acute\\_label\\_max\\\\\n",
       "  & <chr> & <dbl> & <int> & <chr> & <int> & <int> & <int> & <int> & <int> & <int> & <int> & <int> & <dbl> & <int> & <int> & <int> & <int>\\\\\n",
       "\\hline\n",
       "\t1 & JCd97296 & 1.31176e+11 & 18290644 & 2016-02-06 22:31:00+00:00 & 0 & 0 & NA & 0 & 0 & 0 & 0 & 0 & 1325 & 0 & 0 & 0 & 0\\\\\n",
       "\\end{tabular}\n"
      ],
      "text/markdown": [
       "\n",
       "A data.frame: 1 × 17\n",
       "\n",
       "| <!--/--> | anon_id &lt;chr&gt; | pat_enc_csn_id_coded &lt;dbl&gt; | inpatient_data_id_coded &lt;int&gt; | admit_time &lt;chr&gt; | label_max24 &lt;int&gt; | label_24hr_recent &lt;int&gt; | admit_label &lt;int&gt; | has_admit_label &lt;int&gt; | died_within_24hrs &lt;int&gt; | death_24hr_max_label &lt;int&gt; | death_24hr_recent_label &lt;int&gt; | first_label &lt;int&gt; | first_label_minutes_since_admit &lt;dbl&gt; | acute_to_critical_label_recent &lt;int&gt; | critical_to_acute_label_recent &lt;int&gt; | acute_to_critical_label_max &lt;int&gt; | critical_to_acute_label_max &lt;int&gt; |\n",
       "|---|---|---|---|---|---|---|---|---|---|---|---|---|---|---|---|---|---|\n",
       "| 1 | JCd97296 | 1.31176e+11 | 18290644 | 2016-02-06 22:31:00+00:00 | 0 | 0 | NA | 0 | 0 | 0 | 0 | 0 | 1325 | 0 | 0 | 0 | 0 |\n",
       "\n"
      ],
      "text/plain": [
       "  anon_id  pat_enc_csn_id_coded inpatient_data_id_coded\n",
       "1 JCd97296 1.31176e+11          18290644               \n",
       "  admit_time                label_max24 label_24hr_recent admit_label\n",
       "1 2016-02-06 22:31:00+00:00 0           0                 NA         \n",
       "  has_admit_label died_within_24hrs death_24hr_max_label\n",
       "1 0               0                 0                   \n",
       "  death_24hr_recent_label first_label first_label_minutes_since_admit\n",
       "1 0                       0           1325                           \n",
       "  acute_to_critical_label_recent critical_to_acute_label_recent\n",
       "1 0                              0                             \n",
       "  acute_to_critical_label_max critical_to_acute_label_max\n",
       "1 0                           0                          "
      ]
     },
     "metadata": {},
     "output_type": "display_data"
    },
    {
     "data": {
      "text/html": [
       "<table class=\"dataframe\">\n",
       "<caption>A data.frame: 1 × 17</caption>\n",
       "<thead>\n",
       "\t<tr><th></th><th scope=col>anon_id</th><th scope=col>pat_enc_csn_id_coded</th><th scope=col>inpatient_data_id_coded</th><th scope=col>admit_time</th><th scope=col>label_max24</th><th scope=col>label_24hr_recent</th><th scope=col>admit_label</th><th scope=col>has_admit_label</th><th scope=col>died_within_24hrs</th><th scope=col>death_24hr_max_label</th><th scope=col>death_24hr_recent_label</th><th scope=col>first_label</th><th scope=col>first_label_minutes_since_admit</th><th scope=col>acute_to_critical_label_recent</th><th scope=col>critical_to_acute_label_recent</th><th scope=col>acute_to_critical_label_max</th><th scope=col>critical_to_acute_label_max</th></tr>\n",
       "\t<tr><th></th><th scope=col>&lt;chr&gt;</th><th scope=col>&lt;dbl&gt;</th><th scope=col>&lt;int&gt;</th><th scope=col>&lt;chr&gt;</th><th scope=col>&lt;int&gt;</th><th scope=col>&lt;int&gt;</th><th scope=col>&lt;int&gt;</th><th scope=col>&lt;int&gt;</th><th scope=col>&lt;int&gt;</th><th scope=col>&lt;int&gt;</th><th scope=col>&lt;int&gt;</th><th scope=col>&lt;int&gt;</th><th scope=col>&lt;int&gt;</th><th scope=col>&lt;int&gt;</th><th scope=col>&lt;int&gt;</th><th scope=col>&lt;int&gt;</th><th scope=col>&lt;int&gt;</th></tr>\n",
       "</thead>\n",
       "<tbody>\n",
       "\t<tr><th scope=row>1</th><td>JCe33305</td><td>131063880385</td><td>13777312</td><td>2015-01-04 08:11:00+00:00</td><td>0</td><td>0</td><td>0</td><td>1</td><td>0</td><td>0</td><td>0</td><td>0</td><td>0</td><td>0</td><td>0</td><td>0</td><td>0</td></tr>\n",
       "</tbody>\n",
       "</table>\n"
      ],
      "text/latex": [
       "A data.frame: 1 × 17\n",
       "\\begin{tabular}{r|lllllllllllllllll}\n",
       "  & anon\\_id & pat\\_enc\\_csn\\_id\\_coded & inpatient\\_data\\_id\\_coded & admit\\_time & label\\_max24 & label\\_24hr\\_recent & admit\\_label & has\\_admit\\_label & died\\_within\\_24hrs & death\\_24hr\\_max\\_label & death\\_24hr\\_recent\\_label & first\\_label & first\\_label\\_minutes\\_since\\_admit & acute\\_to\\_critical\\_label\\_recent & critical\\_to\\_acute\\_label\\_recent & acute\\_to\\_critical\\_label\\_max & critical\\_to\\_acute\\_label\\_max\\\\\n",
       "  & <chr> & <dbl> & <int> & <chr> & <int> & <int> & <int> & <int> & <int> & <int> & <int> & <int> & <int> & <int> & <int> & <int> & <int>\\\\\n",
       "\\hline\n",
       "\t1 & JCe33305 & 131063880385 & 13777312 & 2015-01-04 08:11:00+00:00 & 0 & 0 & 0 & 1 & 0 & 0 & 0 & 0 & 0 & 0 & 0 & 0 & 0\\\\\n",
       "\\end{tabular}\n"
      ],
      "text/markdown": [
       "\n",
       "A data.frame: 1 × 17\n",
       "\n",
       "| <!--/--> | anon_id &lt;chr&gt; | pat_enc_csn_id_coded &lt;dbl&gt; | inpatient_data_id_coded &lt;int&gt; | admit_time &lt;chr&gt; | label_max24 &lt;int&gt; | label_24hr_recent &lt;int&gt; | admit_label &lt;int&gt; | has_admit_label &lt;int&gt; | died_within_24hrs &lt;int&gt; | death_24hr_max_label &lt;int&gt; | death_24hr_recent_label &lt;int&gt; | first_label &lt;int&gt; | first_label_minutes_since_admit &lt;int&gt; | acute_to_critical_label_recent &lt;int&gt; | critical_to_acute_label_recent &lt;int&gt; | acute_to_critical_label_max &lt;int&gt; | critical_to_acute_label_max &lt;int&gt; |\n",
       "|---|---|---|---|---|---|---|---|---|---|---|---|---|---|---|---|---|---|\n",
       "| 1 | JCe33305 | 131063880385 | 13777312 | 2015-01-04 08:11:00+00:00 | 0 | 0 | 0 | 1 | 0 | 0 | 0 | 0 | 0 | 0 | 0 | 0 | 0 |\n",
       "\n"
      ],
      "text/plain": [
       "  anon_id  pat_enc_csn_id_coded inpatient_data_id_coded\n",
       "1 JCe33305 131063880385         13777312               \n",
       "  admit_time                label_max24 label_24hr_recent admit_label\n",
       "1 2015-01-04 08:11:00+00:00 0           0                 0          \n",
       "  has_admit_label died_within_24hrs death_24hr_max_label\n",
       "1 1               0                 0                   \n",
       "  death_24hr_recent_label first_label first_label_minutes_since_admit\n",
       "1 0                       0           0                              \n",
       "  acute_to_critical_label_recent critical_to_acute_label_recent\n",
       "1 0                              0                             \n",
       "  acute_to_critical_label_max critical_to_acute_label_max\n",
       "1 0                           0                          "
      ]
     },
     "metadata": {},
     "output_type": "display_data"
    },
    {
     "data": {
      "text/html": [
       "<table class=\"dataframe\">\n",
       "<caption>A data.frame: 1 × 22</caption>\n",
       "<thead>\n",
       "\t<tr><th></th><th scope=col>anon_id</th><th scope=col>pat_enc_csn_id_coded</th><th scope=col>inpatient_data_id_coded</th><th scope=col>admit_time</th><th scope=col>label</th><th scope=col>ESI_i</th><th scope=col>delta_ESI</th><th scope=col>gender</th><th scope=col>age</th><th scope=col>insurance</th><th scope=col>English</th><th scope=col>Height_i</th><th scope=col>delta_H</th><th scope=col>Weight_i</th><th scope=col>delta_W</th><th scope=col>race.Asian</th><th scope=col>race.Black</th><th scope=col>race.Native.American</th><th scope=col>race.Other</th><th scope=col>race.Pacific.Islander</th><th scope=col>race.Unknown</th><th scope=col>race.White</th></tr>\n",
       "\t<tr><th></th><th scope=col>&lt;chr&gt;</th><th scope=col>&lt;dbl&gt;</th><th scope=col>&lt;int&gt;</th><th scope=col>&lt;chr&gt;</th><th scope=col>&lt;int&gt;</th><th scope=col>&lt;int&gt;</th><th scope=col>&lt;int&gt;</th><th scope=col>&lt;int&gt;</th><th scope=col>&lt;int&gt;</th><th scope=col>&lt;int&gt;</th><th scope=col>&lt;int&gt;</th><th scope=col>&lt;dbl&gt;</th><th scope=col>&lt;int&gt;</th><th scope=col>&lt;dbl&gt;</th><th scope=col>&lt;int&gt;</th><th scope=col>&lt;int&gt;</th><th scope=col>&lt;int&gt;</th><th scope=col>&lt;int&gt;</th><th scope=col>&lt;int&gt;</th><th scope=col>&lt;int&gt;</th><th scope=col>&lt;int&gt;</th><th scope=col>&lt;int&gt;</th></tr>\n",
       "</thead>\n",
       "<tbody>\n",
       "\t<tr><th scope=row>1</th><td>JC29f8ad2</td><td>131274729058</td><td>40679773</td><td>2019-08-31 12:52:00</td><td>0</td><td>3</td><td>0</td><td>1</td><td>52</td><td>1</td><td>1</td><td>165</td><td>0</td><td>81</td><td>0</td><td>0</td><td>0</td><td>0</td><td>0</td><td>0</td><td>0</td><td>1</td></tr>\n",
       "</tbody>\n",
       "</table>\n"
      ],
      "text/latex": [
       "A data.frame: 1 × 22\n",
       "\\begin{tabular}{r|llllllllllllllllllllll}\n",
       "  & anon\\_id & pat\\_enc\\_csn\\_id\\_coded & inpatient\\_data\\_id\\_coded & admit\\_time & label & ESI\\_i & delta\\_ESI & gender & age & insurance & English & Height\\_i & delta\\_H & Weight\\_i & delta\\_W & race.Asian & race.Black & race.Native.American & race.Other & race.Pacific.Islander & race.Unknown & race.White\\\\\n",
       "  & <chr> & <dbl> & <int> & <chr> & <int> & <int> & <int> & <int> & <int> & <int> & <int> & <dbl> & <int> & <dbl> & <int> & <int> & <int> & <int> & <int> & <int> & <int> & <int>\\\\\n",
       "\\hline\n",
       "\t1 & JC29f8ad2 & 131274729058 & 40679773 & 2019-08-31 12:52:00 & 0 & 3 & 0 & 1 & 52 & 1 & 1 & 165 & 0 & 81 & 0 & 0 & 0 & 0 & 0 & 0 & 0 & 1\\\\\n",
       "\\end{tabular}\n"
      ],
      "text/markdown": [
       "\n",
       "A data.frame: 1 × 22\n",
       "\n",
       "| <!--/--> | anon_id &lt;chr&gt; | pat_enc_csn_id_coded &lt;dbl&gt; | inpatient_data_id_coded &lt;int&gt; | admit_time &lt;chr&gt; | label &lt;int&gt; | ESI_i &lt;int&gt; | delta_ESI &lt;int&gt; | gender &lt;int&gt; | age &lt;int&gt; | insurance &lt;int&gt; | English &lt;int&gt; | Height_i &lt;dbl&gt; | delta_H &lt;int&gt; | Weight_i &lt;dbl&gt; | delta_W &lt;int&gt; | race.Asian &lt;int&gt; | race.Black &lt;int&gt; | race.Native.American &lt;int&gt; | race.Other &lt;int&gt; | race.Pacific.Islander &lt;int&gt; | race.Unknown &lt;int&gt; | race.White &lt;int&gt; |\n",
       "|---|---|---|---|---|---|---|---|---|---|---|---|---|---|---|---|---|---|---|---|---|---|---|\n",
       "| 1 | JC29f8ad2 | 131274729058 | 40679773 | 2019-08-31 12:52:00 | 0 | 3 | 0 | 1 | 52 | 1 | 1 | 165 | 0 | 81 | 0 | 0 | 0 | 0 | 0 | 0 | 0 | 1 |\n",
       "\n"
      ],
      "text/plain": [
       "  anon_id   pat_enc_csn_id_coded inpatient_data_id_coded admit_time         \n",
       "1 JC29f8ad2 131274729058         40679773                2019-08-31 12:52:00\n",
       "  label ESI_i delta_ESI gender age insurance English Height_i delta_H Weight_i\n",
       "1 0     3     0         1      52  1         1       165      0       81      \n",
       "  delta_W race.Asian race.Black race.Native.American race.Other\n",
       "1 0       0          0          0                    0         \n",
       "  race.Pacific.Islander race.Unknown race.White\n",
       "1 0                     0            1         "
      ]
     },
     "metadata": {},
     "output_type": "display_data"
    },
    {
     "data": {
      "text/html": [
       "<table class=\"dataframe\">\n",
       "<caption>A data.frame: 1 × 11</caption>\n",
       "<thead>\n",
       "\t<tr><th></th><th scope=col>anon_id</th><th scope=col>pat_enc_csn_id_coded</th><th scope=col>inpatient_data_id_coded</th><th scope=col>admit_time</th><th scope=col>label</th><th scope=col>template</th><th scope=col>features</th><th scope=col>units</th><th scope=col>recorded_time</th><th scope=col>feature_type</th><th scope=col>values</th></tr>\n",
       "\t<tr><th></th><th scope=col>&lt;chr&gt;</th><th scope=col>&lt;dbl&gt;</th><th scope=col>&lt;int&gt;</th><th scope=col>&lt;chr&gt;</th><th scope=col>&lt;int&gt;</th><th scope=col>&lt;chr&gt;</th><th scope=col>&lt;chr&gt;</th><th scope=col>&lt;chr&gt;</th><th scope=col>&lt;chr&gt;</th><th scope=col>&lt;chr&gt;</th><th scope=col>&lt;dbl&gt;</th></tr>\n",
       "</thead>\n",
       "<tbody>\n",
       "\t<tr><th scope=row>1</th><td>JC29f8ad2</td><td>131274729058</td><td>40679773</td><td>2019-08-31 12:52:00+00:00</td><td>0</td><td>Custom Formula Data</td><td>Temp</td><td></td><td>2019-08-31 10:14:00+00:00</td><td>vitals</td><td>36.9</td></tr>\n",
       "</tbody>\n",
       "</table>\n"
      ],
      "text/latex": [
       "A data.frame: 1 × 11\n",
       "\\begin{tabular}{r|lllllllllll}\n",
       "  & anon\\_id & pat\\_enc\\_csn\\_id\\_coded & inpatient\\_data\\_id\\_coded & admit\\_time & label & template & features & units & recorded\\_time & feature\\_type & values\\\\\n",
       "  & <chr> & <dbl> & <int> & <chr> & <int> & <chr> & <chr> & <chr> & <chr> & <chr> & <dbl>\\\\\n",
       "\\hline\n",
       "\t1 & JC29f8ad2 & 131274729058 & 40679773 & 2019-08-31 12:52:00+00:00 & 0 & Custom Formula Data & Temp &  & 2019-08-31 10:14:00+00:00 & vitals & 36.9\\\\\n",
       "\\end{tabular}\n"
      ],
      "text/markdown": [
       "\n",
       "A data.frame: 1 × 11\n",
       "\n",
       "| <!--/--> | anon_id &lt;chr&gt; | pat_enc_csn_id_coded &lt;dbl&gt; | inpatient_data_id_coded &lt;int&gt; | admit_time &lt;chr&gt; | label &lt;int&gt; | template &lt;chr&gt; | features &lt;chr&gt; | units &lt;chr&gt; | recorded_time &lt;chr&gt; | feature_type &lt;chr&gt; | values &lt;dbl&gt; |\n",
       "|---|---|---|---|---|---|---|---|---|---|---|---|\n",
       "| 1 | JC29f8ad2 | 131274729058 | 40679773 | 2019-08-31 12:52:00+00:00 | 0 | Custom Formula Data | Temp | <!----> | 2019-08-31 10:14:00+00:00 | vitals | 36.9 |\n",
       "\n"
      ],
      "text/plain": [
       "  anon_id   pat_enc_csn_id_coded inpatient_data_id_coded\n",
       "1 JC29f8ad2 131274729058         40679773               \n",
       "  admit_time                label template            features units\n",
       "1 2019-08-31 12:52:00+00:00 0     Custom Formula Data Temp          \n",
       "  recorded_time             feature_type values\n",
       "1 2019-08-31 10:14:00+00:00 vitals       36.9  "
      ]
     },
     "metadata": {},
     "output_type": "display_data"
    },
    {
     "data": {
      "text/html": [
       "<table class=\"dataframe\">\n",
       "<caption>A data.frame: 1 × 16</caption>\n",
       "<thead>\n",
       "\t<tr><th></th><th scope=col>anon_id</th><th scope=col>pat_enc_csn_id_coded</th><th scope=col>inpatient_data_id_coded</th><th scope=col>admit_time</th><th scope=col>label</th><th scope=col>features</th><th scope=col>base_name</th><th scope=col>ord_value</th><th scope=col>values</th><th scope=col>reference_low</th><th scope=col>reference_high</th><th scope=col>reference_unit</th><th scope=col>result_in_range_yn</th><th scope=col>result_flag</th><th scope=col>result_time</th><th scope=col>feature_type</th></tr>\n",
       "\t<tr><th></th><th scope=col>&lt;chr&gt;</th><th scope=col>&lt;dbl&gt;</th><th scope=col>&lt;int&gt;</th><th scope=col>&lt;chr&gt;</th><th scope=col>&lt;int&gt;</th><th scope=col>&lt;chr&gt;</th><th scope=col>&lt;chr&gt;</th><th scope=col>&lt;chr&gt;</th><th scope=col>&lt;dbl&gt;</th><th scope=col>&lt;chr&gt;</th><th scope=col>&lt;chr&gt;</th><th scope=col>&lt;chr&gt;</th><th scope=col>&lt;chr&gt;</th><th scope=col>&lt;chr&gt;</th><th scope=col>&lt;chr&gt;</th><th scope=col>&lt;chr&gt;</th></tr>\n",
       "</thead>\n",
       "<tbody>\n",
       "\t<tr><th scope=row>1</th><td>JCe33305</td><td>131063880385</td><td>13777312</td><td>2015-01-04 08:11:00+00:00</td><td>0</td><td>Lactate</td><td>LACWBL</td><td>2.2</td><td>2.2</td><td></td><td></td><td>mmol/L</td><td></td><td></td><td>2015-01-04 03:18:00+00:00</td><td>labs</td></tr>\n",
       "</tbody>\n",
       "</table>\n"
      ],
      "text/latex": [
       "A data.frame: 1 × 16\n",
       "\\begin{tabular}{r|llllllllllllllll}\n",
       "  & anon\\_id & pat\\_enc\\_csn\\_id\\_coded & inpatient\\_data\\_id\\_coded & admit\\_time & label & features & base\\_name & ord\\_value & values & reference\\_low & reference\\_high & reference\\_unit & result\\_in\\_range\\_yn & result\\_flag & result\\_time & feature\\_type\\\\\n",
       "  & <chr> & <dbl> & <int> & <chr> & <int> & <chr> & <chr> & <chr> & <dbl> & <chr> & <chr> & <chr> & <chr> & <chr> & <chr> & <chr>\\\\\n",
       "\\hline\n",
       "\t1 & JCe33305 & 131063880385 & 13777312 & 2015-01-04 08:11:00+00:00 & 0 & Lactate & LACWBL & 2.2 & 2.2 &  &  & mmol/L &  &  & 2015-01-04 03:18:00+00:00 & labs\\\\\n",
       "\\end{tabular}\n"
      ],
      "text/markdown": [
       "\n",
       "A data.frame: 1 × 16\n",
       "\n",
       "| <!--/--> | anon_id &lt;chr&gt; | pat_enc_csn_id_coded &lt;dbl&gt; | inpatient_data_id_coded &lt;int&gt; | admit_time &lt;chr&gt; | label &lt;int&gt; | features &lt;chr&gt; | base_name &lt;chr&gt; | ord_value &lt;chr&gt; | values &lt;dbl&gt; | reference_low &lt;chr&gt; | reference_high &lt;chr&gt; | reference_unit &lt;chr&gt; | result_in_range_yn &lt;chr&gt; | result_flag &lt;chr&gt; | result_time &lt;chr&gt; | feature_type &lt;chr&gt; |\n",
       "|---|---|---|---|---|---|---|---|---|---|---|---|---|---|---|---|---|\n",
       "| 1 | JCe33305 | 131063880385 | 13777312 | 2015-01-04 08:11:00+00:00 | 0 | Lactate | LACWBL | 2.2 | 2.2 | <!----> | <!----> | mmol/L | <!----> | <!----> | 2015-01-04 03:18:00+00:00 | labs |\n",
       "\n"
      ],
      "text/plain": [
       "  anon_id  pat_enc_csn_id_coded inpatient_data_id_coded\n",
       "1 JCe33305 131063880385         13777312               \n",
       "  admit_time                label features base_name ord_value values\n",
       "1 2015-01-04 08:11:00+00:00 0     Lactate  LACWBL    2.2       2.2   \n",
       "  reference_low reference_high reference_unit result_in_range_yn result_flag\n",
       "1                              mmol/L                                       \n",
       "  result_time               feature_type\n",
       "1 2015-01-04 03:18:00+00:00 labs        "
      ]
     },
     "metadata": {},
     "output_type": "display_data"
    }
   ],
   "source": [
    "head(cohort4, 1)\n",
    "head(cohort5, 1)\n",
    "head(demos, 1)\n",
    "head(vitals0, 1)\n",
    "head(labs0, 1)"
   ]
  },
  {
   "cell_type": "code",
   "execution_count": 6,
   "metadata": {},
   "outputs": [
    {
     "data": {
      "text/html": [
       "<style>\n",
       ".list-inline {list-style: none; margin:0; padding: 0}\n",
       ".list-inline>li {display: inline-block}\n",
       ".list-inline>li:not(:last-child)::after {content: \"\\00b7\"; padding: 0 .5ex}\n",
       "</style>\n",
       "<ol class=list-inline><li>'anon_id'</li><li>'pat_enc_csn_id_coded'</li><li>'inpatient_data_id_coded'</li><li>'admit_time'</li><li>'label_max24'</li><li>'label_24hr_recent'</li><li>'admit_label'</li><li>'has_admit_label'</li><li>'died_within_24hrs'</li><li>'death_24hr_max_label'</li><li>'death_24hr_recent_label'</li><li>'first_label'</li><li>'first_label_minutes_since_admit'</li><li>'acute_to_critical_label_recent'</li><li>'critical_to_acute_label_recent'</li><li>'acute_to_critical_label_max'</li><li>'critical_to_acute_label_max'</li></ol>\n"
      ],
      "text/latex": [
       "\\begin{enumerate*}\n",
       "\\item 'anon\\_id'\n",
       "\\item 'pat\\_enc\\_csn\\_id\\_coded'\n",
       "\\item 'inpatient\\_data\\_id\\_coded'\n",
       "\\item 'admit\\_time'\n",
       "\\item 'label\\_max24'\n",
       "\\item 'label\\_24hr\\_recent'\n",
       "\\item 'admit\\_label'\n",
       "\\item 'has\\_admit\\_label'\n",
       "\\item 'died\\_within\\_24hrs'\n",
       "\\item 'death\\_24hr\\_max\\_label'\n",
       "\\item 'death\\_24hr\\_recent\\_label'\n",
       "\\item 'first\\_label'\n",
       "\\item 'first\\_label\\_minutes\\_since\\_admit'\n",
       "\\item 'acute\\_to\\_critical\\_label\\_recent'\n",
       "\\item 'critical\\_to\\_acute\\_label\\_recent'\n",
       "\\item 'acute\\_to\\_critical\\_label\\_max'\n",
       "\\item 'critical\\_to\\_acute\\_label\\_max'\n",
       "\\end{enumerate*}\n"
      ],
      "text/markdown": [
       "1. 'anon_id'\n",
       "2. 'pat_enc_csn_id_coded'\n",
       "3. 'inpatient_data_id_coded'\n",
       "4. 'admit_time'\n",
       "5. 'label_max24'\n",
       "6. 'label_24hr_recent'\n",
       "7. 'admit_label'\n",
       "8. 'has_admit_label'\n",
       "9. 'died_within_24hrs'\n",
       "10. 'death_24hr_max_label'\n",
       "11. 'death_24hr_recent_label'\n",
       "12. 'first_label'\n",
       "13. 'first_label_minutes_since_admit'\n",
       "14. 'acute_to_critical_label_recent'\n",
       "15. 'critical_to_acute_label_recent'\n",
       "16. 'acute_to_critical_label_max'\n",
       "17. 'critical_to_acute_label_max'\n",
       "\n",
       "\n"
      ],
      "text/plain": [
       " [1] \"anon_id\"                         \"pat_enc_csn_id_coded\"           \n",
       " [3] \"inpatient_data_id_coded\"         \"admit_time\"                     \n",
       " [5] \"label_max24\"                     \"label_24hr_recent\"              \n",
       " [7] \"admit_label\"                     \"has_admit_label\"                \n",
       " [9] \"died_within_24hrs\"               \"death_24hr_max_label\"           \n",
       "[11] \"death_24hr_recent_label\"         \"first_label\"                    \n",
       "[13] \"first_label_minutes_since_admit\" \"acute_to_critical_label_recent\" \n",
       "[15] \"critical_to_acute_label_recent\"  \"acute_to_critical_label_max\"    \n",
       "[17] \"critical_to_acute_label_max\"    "
      ]
     },
     "metadata": {},
     "output_type": "display_data"
    },
    {
     "data": {
      "text/html": [
       "<style>\n",
       ".list-inline {list-style: none; margin:0; padding: 0}\n",
       ".list-inline>li {display: inline-block}\n",
       ".list-inline>li:not(:last-child)::after {content: \"\\00b7\"; padding: 0 .5ex}\n",
       "</style>\n",
       "<ol class=list-inline><li>'anon_id'</li><li>'pat_enc_csn_id_coded'</li><li>'inpatient_data_id_coded'</li><li>'admit_time'</li><li>'label_max24'</li><li>'label_24hr_recent'</li><li>'admit_label'</li><li>'has_admit_label'</li><li>'died_within_24hrs'</li><li>'death_24hr_max_label'</li><li>'death_24hr_recent_label'</li><li>'first_label'</li><li>'first_label_minutes_since_admit'</li><li>'acute_to_critical_label_recent'</li><li>'critical_to_acute_label_recent'</li><li>'acute_to_critical_label_max'</li><li>'critical_to_acute_label_max'</li></ol>\n"
      ],
      "text/latex": [
       "\\begin{enumerate*}\n",
       "\\item 'anon\\_id'\n",
       "\\item 'pat\\_enc\\_csn\\_id\\_coded'\n",
       "\\item 'inpatient\\_data\\_id\\_coded'\n",
       "\\item 'admit\\_time'\n",
       "\\item 'label\\_max24'\n",
       "\\item 'label\\_24hr\\_recent'\n",
       "\\item 'admit\\_label'\n",
       "\\item 'has\\_admit\\_label'\n",
       "\\item 'died\\_within\\_24hrs'\n",
       "\\item 'death\\_24hr\\_max\\_label'\n",
       "\\item 'death\\_24hr\\_recent\\_label'\n",
       "\\item 'first\\_label'\n",
       "\\item 'first\\_label\\_minutes\\_since\\_admit'\n",
       "\\item 'acute\\_to\\_critical\\_label\\_recent'\n",
       "\\item 'critical\\_to\\_acute\\_label\\_recent'\n",
       "\\item 'acute\\_to\\_critical\\_label\\_max'\n",
       "\\item 'critical\\_to\\_acute\\_label\\_max'\n",
       "\\end{enumerate*}\n"
      ],
      "text/markdown": [
       "1. 'anon_id'\n",
       "2. 'pat_enc_csn_id_coded'\n",
       "3. 'inpatient_data_id_coded'\n",
       "4. 'admit_time'\n",
       "5. 'label_max24'\n",
       "6. 'label_24hr_recent'\n",
       "7. 'admit_label'\n",
       "8. 'has_admit_label'\n",
       "9. 'died_within_24hrs'\n",
       "10. 'death_24hr_max_label'\n",
       "11. 'death_24hr_recent_label'\n",
       "12. 'first_label'\n",
       "13. 'first_label_minutes_since_admit'\n",
       "14. 'acute_to_critical_label_recent'\n",
       "15. 'critical_to_acute_label_recent'\n",
       "16. 'acute_to_critical_label_max'\n",
       "17. 'critical_to_acute_label_max'\n",
       "\n",
       "\n"
      ],
      "text/plain": [
       " [1] \"anon_id\"                         \"pat_enc_csn_id_coded\"           \n",
       " [3] \"inpatient_data_id_coded\"         \"admit_time\"                     \n",
       " [5] \"label_max24\"                     \"label_24hr_recent\"              \n",
       " [7] \"admit_label\"                     \"has_admit_label\"                \n",
       " [9] \"died_within_24hrs\"               \"death_24hr_max_label\"           \n",
       "[11] \"death_24hr_recent_label\"         \"first_label\"                    \n",
       "[13] \"first_label_minutes_since_admit\" \"acute_to_critical_label_recent\" \n",
       "[15] \"critical_to_acute_label_recent\"  \"acute_to_critical_label_max\"    \n",
       "[17] \"critical_to_acute_label_max\"    "
      ]
     },
     "metadata": {},
     "output_type": "display_data"
    },
    {
     "data": {
      "text/html": [
       "<style>\n",
       ".list-inline {list-style: none; margin:0; padding: 0}\n",
       ".list-inline>li {display: inline-block}\n",
       ".list-inline>li:not(:last-child)::after {content: \"\\00b7\"; padding: 0 .5ex}\n",
       "</style>\n",
       "<ol class=list-inline><li>'anon_id'</li><li>'pat_enc_csn_id_coded'</li><li>'inpatient_data_id_coded'</li><li>'admit_time'</li><li>'label'</li><li>'ESI_i'</li><li>'delta_ESI'</li><li>'gender'</li><li>'age'</li><li>'insurance'</li><li>'English'</li><li>'Height_i'</li><li>'delta_H'</li><li>'Weight_i'</li><li>'delta_W'</li><li>'race.Asian'</li><li>'race.Black'</li><li>'race.Native.American'</li><li>'race.Other'</li><li>'race.Pacific.Islander'</li><li>'race.Unknown'</li><li>'race.White'</li></ol>\n"
      ],
      "text/latex": [
       "\\begin{enumerate*}\n",
       "\\item 'anon\\_id'\n",
       "\\item 'pat\\_enc\\_csn\\_id\\_coded'\n",
       "\\item 'inpatient\\_data\\_id\\_coded'\n",
       "\\item 'admit\\_time'\n",
       "\\item 'label'\n",
       "\\item 'ESI\\_i'\n",
       "\\item 'delta\\_ESI'\n",
       "\\item 'gender'\n",
       "\\item 'age'\n",
       "\\item 'insurance'\n",
       "\\item 'English'\n",
       "\\item 'Height\\_i'\n",
       "\\item 'delta\\_H'\n",
       "\\item 'Weight\\_i'\n",
       "\\item 'delta\\_W'\n",
       "\\item 'race.Asian'\n",
       "\\item 'race.Black'\n",
       "\\item 'race.Native.American'\n",
       "\\item 'race.Other'\n",
       "\\item 'race.Pacific.Islander'\n",
       "\\item 'race.Unknown'\n",
       "\\item 'race.White'\n",
       "\\end{enumerate*}\n"
      ],
      "text/markdown": [
       "1. 'anon_id'\n",
       "2. 'pat_enc_csn_id_coded'\n",
       "3. 'inpatient_data_id_coded'\n",
       "4. 'admit_time'\n",
       "5. 'label'\n",
       "6. 'ESI_i'\n",
       "7. 'delta_ESI'\n",
       "8. 'gender'\n",
       "9. 'age'\n",
       "10. 'insurance'\n",
       "11. 'English'\n",
       "12. 'Height_i'\n",
       "13. 'delta_H'\n",
       "14. 'Weight_i'\n",
       "15. 'delta_W'\n",
       "16. 'race.Asian'\n",
       "17. 'race.Black'\n",
       "18. 'race.Native.American'\n",
       "19. 'race.Other'\n",
       "20. 'race.Pacific.Islander'\n",
       "21. 'race.Unknown'\n",
       "22. 'race.White'\n",
       "\n",
       "\n"
      ],
      "text/plain": [
       " [1] \"anon_id\"                 \"pat_enc_csn_id_coded\"   \n",
       " [3] \"inpatient_data_id_coded\" \"admit_time\"             \n",
       " [5] \"label\"                   \"ESI_i\"                  \n",
       " [7] \"delta_ESI\"               \"gender\"                 \n",
       " [9] \"age\"                     \"insurance\"              \n",
       "[11] \"English\"                 \"Height_i\"               \n",
       "[13] \"delta_H\"                 \"Weight_i\"               \n",
       "[15] \"delta_W\"                 \"race.Asian\"             \n",
       "[17] \"race.Black\"              \"race.Native.American\"   \n",
       "[19] \"race.Other\"              \"race.Pacific.Islander\"  \n",
       "[21] \"race.Unknown\"            \"race.White\"             "
      ]
     },
     "metadata": {},
     "output_type": "display_data"
    },
    {
     "data": {
      "text/html": [
       "<style>\n",
       ".list-inline {list-style: none; margin:0; padding: 0}\n",
       ".list-inline>li {display: inline-block}\n",
       ".list-inline>li:not(:last-child)::after {content: \"\\00b7\"; padding: 0 .5ex}\n",
       "</style>\n",
       "<ol class=list-inline><li>'anon_id'</li><li>'pat_enc_csn_id_coded'</li><li>'inpatient_data_id_coded'</li><li>'admit_time'</li><li>'label'</li><li>'template'</li><li>'features'</li><li>'units'</li><li>'recorded_time'</li><li>'feature_type'</li><li>'values'</li></ol>\n"
      ],
      "text/latex": [
       "\\begin{enumerate*}\n",
       "\\item 'anon\\_id'\n",
       "\\item 'pat\\_enc\\_csn\\_id\\_coded'\n",
       "\\item 'inpatient\\_data\\_id\\_coded'\n",
       "\\item 'admit\\_time'\n",
       "\\item 'label'\n",
       "\\item 'template'\n",
       "\\item 'features'\n",
       "\\item 'units'\n",
       "\\item 'recorded\\_time'\n",
       "\\item 'feature\\_type'\n",
       "\\item 'values'\n",
       "\\end{enumerate*}\n"
      ],
      "text/markdown": [
       "1. 'anon_id'\n",
       "2. 'pat_enc_csn_id_coded'\n",
       "3. 'inpatient_data_id_coded'\n",
       "4. 'admit_time'\n",
       "5. 'label'\n",
       "6. 'template'\n",
       "7. 'features'\n",
       "8. 'units'\n",
       "9. 'recorded_time'\n",
       "10. 'feature_type'\n",
       "11. 'values'\n",
       "\n",
       "\n"
      ],
      "text/plain": [
       " [1] \"anon_id\"                 \"pat_enc_csn_id_coded\"   \n",
       " [3] \"inpatient_data_id_coded\" \"admit_time\"             \n",
       " [5] \"label\"                   \"template\"               \n",
       " [7] \"features\"                \"units\"                  \n",
       " [9] \"recorded_time\"           \"feature_type\"           \n",
       "[11] \"values\"                 "
      ]
     },
     "metadata": {},
     "output_type": "display_data"
    },
    {
     "data": {
      "text/html": [
       "<style>\n",
       ".list-inline {list-style: none; margin:0; padding: 0}\n",
       ".list-inline>li {display: inline-block}\n",
       ".list-inline>li:not(:last-child)::after {content: \"\\00b7\"; padding: 0 .5ex}\n",
       "</style>\n",
       "<ol class=list-inline><li>'anon_id'</li><li>'pat_enc_csn_id_coded'</li><li>'inpatient_data_id_coded'</li><li>'admit_time'</li><li>'label'</li><li>'features'</li><li>'base_name'</li><li>'ord_value'</li><li>'values'</li><li>'reference_low'</li><li>'reference_high'</li><li>'reference_unit'</li><li>'result_in_range_yn'</li><li>'result_flag'</li><li>'result_time'</li><li>'feature_type'</li></ol>\n"
      ],
      "text/latex": [
       "\\begin{enumerate*}\n",
       "\\item 'anon\\_id'\n",
       "\\item 'pat\\_enc\\_csn\\_id\\_coded'\n",
       "\\item 'inpatient\\_data\\_id\\_coded'\n",
       "\\item 'admit\\_time'\n",
       "\\item 'label'\n",
       "\\item 'features'\n",
       "\\item 'base\\_name'\n",
       "\\item 'ord\\_value'\n",
       "\\item 'values'\n",
       "\\item 'reference\\_low'\n",
       "\\item 'reference\\_high'\n",
       "\\item 'reference\\_unit'\n",
       "\\item 'result\\_in\\_range\\_yn'\n",
       "\\item 'result\\_flag'\n",
       "\\item 'result\\_time'\n",
       "\\item 'feature\\_type'\n",
       "\\end{enumerate*}\n"
      ],
      "text/markdown": [
       "1. 'anon_id'\n",
       "2. 'pat_enc_csn_id_coded'\n",
       "3. 'inpatient_data_id_coded'\n",
       "4. 'admit_time'\n",
       "5. 'label'\n",
       "6. 'features'\n",
       "7. 'base_name'\n",
       "8. 'ord_value'\n",
       "9. 'values'\n",
       "10. 'reference_low'\n",
       "11. 'reference_high'\n",
       "12. 'reference_unit'\n",
       "13. 'result_in_range_yn'\n",
       "14. 'result_flag'\n",
       "15. 'result_time'\n",
       "16. 'feature_type'\n",
       "\n",
       "\n"
      ],
      "text/plain": [
       " [1] \"anon_id\"                 \"pat_enc_csn_id_coded\"   \n",
       " [3] \"inpatient_data_id_coded\" \"admit_time\"             \n",
       " [5] \"label\"                   \"features\"               \n",
       " [7] \"base_name\"               \"ord_value\"              \n",
       " [9] \"values\"                  \"reference_low\"          \n",
       "[11] \"reference_high\"          \"reference_unit\"         \n",
       "[13] \"result_in_range_yn\"      \"result_flag\"            \n",
       "[15] \"result_time\"             \"feature_type\"           "
      ]
     },
     "metadata": {},
     "output_type": "display_data"
    }
   ],
   "source": [
    "colnames(cohort4)\n",
    "colnames(cohort5)\n",
    "colnames(demos)\n",
    "colnames(vitals0)\n",
    "colnames(labs0)\n",
    "\n",
    "# cohort <- cohort %>% mutate(admit_time = ymd_hms(admit_time)) "
   ]
  },
  {
   "cell_type": "code",
   "execution_count": 7,
   "metadata": {},
   "outputs": [],
   "source": [
    "cohort <- cohort4 %>% select(anon_id, pat_enc_csn_id_coded, admit_time, first_label, death_24hr_recent_label, death_24hr_max_label)"
   ]
  },
  {
   "cell_type": "code",
   "execution_count": 8,
   "metadata": {},
   "outputs": [
    {
     "name": "stderr",
     "output_type": "stream",
     "text": [
      "Joining, by = c(\"anon_id\", \"pat_enc_csn_id_coded\")\n",
      "\n"
     ]
    },
    {
     "data": {
      "text/html": [
       "747660"
      ],
      "text/latex": [
       "747660"
      ],
      "text/markdown": [
       "747660"
      ],
      "text/plain": [
       "[1] 747660"
      ]
     },
     "metadata": {},
     "output_type": "display_data"
    }
   ],
   "source": [
    "# turn the wide format to long for demographics\n",
    "demo_long <- gather(demos, features, values, ESI_i:race.White, factor_key=TRUE) %>%\n",
    "                mutate(feature_type = \"demo\") %>% select(-admit_time) %>% #mutate(admit_time = ymd_hms(admit_time)) %>% \n",
    "             right_join(cohort)\n",
    "                \n",
    "nrow(demo_long) # --> 43980 * 17 = 747660"
   ]
  },
  {
   "cell_type": "code",
   "execution_count": 15,
   "metadata": {},
   "outputs": [
    {
     "name": "stderr",
     "output_type": "stream",
     "text": [
      "Joining, by = c(\"anon_id\", \"pat_enc_csn_id_coded\", \"admit_time\")\n",
      "\n",
      "Joining, by = c(\"anon_id\", \"pat_enc_csn_id_coded\", \"admit_time\")\n",
      "\n"
     ]
    }
   ],
   "source": [
    "vitals <- vitals0 %>% select(anon_id, pat_enc_csn_id_coded, inpatient_data_id_coded, admit_time, label, \n",
    "                            features, values, feature_type, time = recorded_time) %>% #mutate(admit_time = ymd_hms(admit_time)) %>%\n",
    "                         right_join(cohort) #%>% drop_na()\n",
    "labs <- labs0 %>% select(anon_id, pat_enc_csn_id_coded, inpatient_data_id_coded, admit_time, label, \n",
    "                        features, values, feature_type, time = result_time) %>% #mutate(admit_time = ymd_hms(admit_time)) %>% \n",
    "                    right_join(cohort) %>% drop_na() # due to csn without labs in cohort4"
   ]
  },
  {
   "cell_type": "raw",
   "metadata": {},
   "source": [
    "# JCdcafca and 131187786922, 20015518, 0, 2016-05-15 20:57:00+00:00 \n",
    "# in the no_labels cohort (and Conor's cohort) but not in the updated cohort\n",
    "noinco <- cohort[cohort$pat_enc_csn_id_coded %in% no_labels$pat_enc_csn_id_coded,]\n",
    "head(no_labels[!no_labels$pat_enc_csn_id_coded %in% noinco$pat_enc_csn_id_coded, ])"
   ]
  },
  {
   "cell_type": "code",
   "execution_count": 17,
   "metadata": {},
   "outputs": [
    {
     "data": {
      "text/html": [
       "43980"
      ],
      "text/latex": [
       "43980"
      ],
      "text/markdown": [
       "43980"
      ],
      "text/plain": [
       "[1] 43980"
      ]
     },
     "metadata": {},
     "output_type": "display_data"
    },
    {
     "data": {
      "text/html": [
       "43980"
      ],
      "text/latex": [
       "43980"
      ],
      "text/markdown": [
       "43980"
      ],
      "text/plain": [
       "[1] 43980"
      ]
     },
     "metadata": {},
     "output_type": "display_data"
    },
    {
     "data": {
      "text/html": [
       "41366"
      ],
      "text/latex": [
       "41366"
      ],
      "text/markdown": [
       "41366"
      ],
      "text/plain": [
       "[1] 41366"
      ]
     },
     "metadata": {},
     "output_type": "display_data"
    },
    {
     "data": {
      "text/html": [
       "<table class=\"dataframe\">\n",
       "<caption>A data.frame: 1 × 11</caption>\n",
       "<thead>\n",
       "\t<tr><th></th><th scope=col>anon_id</th><th scope=col>pat_enc_csn_id_coded</th><th scope=col>inpatient_data_id_coded</th><th scope=col>label</th><th scope=col>features</th><th scope=col>values</th><th scope=col>feature_type</th><th scope=col>admit_time</th><th scope=col>first_label</th><th scope=col>death_24hr_recent_label</th><th scope=col>death_24hr_max_label</th></tr>\n",
       "\t<tr><th></th><th scope=col>&lt;chr&gt;</th><th scope=col>&lt;dbl&gt;</th><th scope=col>&lt;int&gt;</th><th scope=col>&lt;int&gt;</th><th scope=col>&lt;fct&gt;</th><th scope=col>&lt;dbl&gt;</th><th scope=col>&lt;chr&gt;</th><th scope=col>&lt;chr&gt;</th><th scope=col>&lt;int&gt;</th><th scope=col>&lt;int&gt;</th><th scope=col>&lt;int&gt;</th></tr>\n",
       "</thead>\n",
       "<tbody>\n",
       "\t<tr><th scope=row>1</th><td>JC29f8ad2</td><td>131274729058</td><td>40679773</td><td>0</td><td>ESI_i</td><td>3</td><td>demo</td><td>2019-08-31 12:52:00+00:00</td><td>0</td><td>0</td><td>0</td></tr>\n",
       "</tbody>\n",
       "</table>\n"
      ],
      "text/latex": [
       "A data.frame: 1 × 11\n",
       "\\begin{tabular}{r|lllllllllll}\n",
       "  & anon\\_id & pat\\_enc\\_csn\\_id\\_coded & inpatient\\_data\\_id\\_coded & label & features & values & feature\\_type & admit\\_time & first\\_label & death\\_24hr\\_recent\\_label & death\\_24hr\\_max\\_label\\\\\n",
       "  & <chr> & <dbl> & <int> & <int> & <fct> & <dbl> & <chr> & <chr> & <int> & <int> & <int>\\\\\n",
       "\\hline\n",
       "\t1 & JC29f8ad2 & 131274729058 & 40679773 & 0 & ESI\\_i & 3 & demo & 2019-08-31 12:52:00+00:00 & 0 & 0 & 0\\\\\n",
       "\\end{tabular}\n"
      ],
      "text/markdown": [
       "\n",
       "A data.frame: 1 × 11\n",
       "\n",
       "| <!--/--> | anon_id &lt;chr&gt; | pat_enc_csn_id_coded &lt;dbl&gt; | inpatient_data_id_coded &lt;int&gt; | label &lt;int&gt; | features &lt;fct&gt; | values &lt;dbl&gt; | feature_type &lt;chr&gt; | admit_time &lt;chr&gt; | first_label &lt;int&gt; | death_24hr_recent_label &lt;int&gt; | death_24hr_max_label &lt;int&gt; |\n",
       "|---|---|---|---|---|---|---|---|---|---|---|---|\n",
       "| 1 | JC29f8ad2 | 131274729058 | 40679773 | 0 | ESI_i | 3 | demo | 2019-08-31 12:52:00+00:00 | 0 | 0 | 0 |\n",
       "\n"
      ],
      "text/plain": [
       "  anon_id   pat_enc_csn_id_coded inpatient_data_id_coded label features values\n",
       "1 JC29f8ad2 131274729058         40679773                0     ESI_i    3     \n",
       "  feature_type admit_time                first_label death_24hr_recent_label\n",
       "1 demo         2019-08-31 12:52:00+00:00 0           0                      \n",
       "  death_24hr_max_label\n",
       "1 0                   "
      ]
     },
     "metadata": {},
     "output_type": "display_data"
    },
    {
     "data": {
      "text/html": [
       "<table class=\"dataframe\">\n",
       "<caption>A data.frame: 1 × 12</caption>\n",
       "<thead>\n",
       "\t<tr><th></th><th scope=col>anon_id</th><th scope=col>pat_enc_csn_id_coded</th><th scope=col>inpatient_data_id_coded</th><th scope=col>admit_time</th><th scope=col>label</th><th scope=col>features</th><th scope=col>values</th><th scope=col>feature_type</th><th scope=col>time</th><th scope=col>first_label</th><th scope=col>death_24hr_recent_label</th><th scope=col>death_24hr_max_label</th></tr>\n",
       "\t<tr><th></th><th scope=col>&lt;chr&gt;</th><th scope=col>&lt;dbl&gt;</th><th scope=col>&lt;int&gt;</th><th scope=col>&lt;chr&gt;</th><th scope=col>&lt;int&gt;</th><th scope=col>&lt;chr&gt;</th><th scope=col>&lt;dbl&gt;</th><th scope=col>&lt;chr&gt;</th><th scope=col>&lt;chr&gt;</th><th scope=col>&lt;int&gt;</th><th scope=col>&lt;int&gt;</th><th scope=col>&lt;int&gt;</th></tr>\n",
       "</thead>\n",
       "<tbody>\n",
       "\t<tr><th scope=row>1</th><td>JC29f8ad2</td><td>131274729058</td><td>40679773</td><td>2019-08-31 12:52:00+00:00</td><td>0</td><td>Temp</td><td>36.9</td><td>vitals</td><td>2019-08-31 10:14:00+00:00</td><td>0</td><td>0</td><td>0</td></tr>\n",
       "</tbody>\n",
       "</table>\n"
      ],
      "text/latex": [
       "A data.frame: 1 × 12\n",
       "\\begin{tabular}{r|llllllllllll}\n",
       "  & anon\\_id & pat\\_enc\\_csn\\_id\\_coded & inpatient\\_data\\_id\\_coded & admit\\_time & label & features & values & feature\\_type & time & first\\_label & death\\_24hr\\_recent\\_label & death\\_24hr\\_max\\_label\\\\\n",
       "  & <chr> & <dbl> & <int> & <chr> & <int> & <chr> & <dbl> & <chr> & <chr> & <int> & <int> & <int>\\\\\n",
       "\\hline\n",
       "\t1 & JC29f8ad2 & 131274729058 & 40679773 & 2019-08-31 12:52:00+00:00 & 0 & Temp & 36.9 & vitals & 2019-08-31 10:14:00+00:00 & 0 & 0 & 0\\\\\n",
       "\\end{tabular}\n"
      ],
      "text/markdown": [
       "\n",
       "A data.frame: 1 × 12\n",
       "\n",
       "| <!--/--> | anon_id &lt;chr&gt; | pat_enc_csn_id_coded &lt;dbl&gt; | inpatient_data_id_coded &lt;int&gt; | admit_time &lt;chr&gt; | label &lt;int&gt; | features &lt;chr&gt; | values &lt;dbl&gt; | feature_type &lt;chr&gt; | time &lt;chr&gt; | first_label &lt;int&gt; | death_24hr_recent_label &lt;int&gt; | death_24hr_max_label &lt;int&gt; |\n",
       "|---|---|---|---|---|---|---|---|---|---|---|---|---|\n",
       "| 1 | JC29f8ad2 | 131274729058 | 40679773 | 2019-08-31 12:52:00+00:00 | 0 | Temp | 36.9 | vitals | 2019-08-31 10:14:00+00:00 | 0 | 0 | 0 |\n",
       "\n"
      ],
      "text/plain": [
       "  anon_id   pat_enc_csn_id_coded inpatient_data_id_coded\n",
       "1 JC29f8ad2 131274729058         40679773               \n",
       "  admit_time                label features values feature_type\n",
       "1 2019-08-31 12:52:00+00:00 0     Temp     36.9   vitals      \n",
       "  time                      first_label death_24hr_recent_label\n",
       "1 2019-08-31 10:14:00+00:00 0           0                      \n",
       "  death_24hr_max_label\n",
       "1 0                   "
      ]
     },
     "metadata": {},
     "output_type": "display_data"
    },
    {
     "data": {
      "text/html": [
       "<table class=\"dataframe\">\n",
       "<caption>A data.frame: 1 × 12</caption>\n",
       "<thead>\n",
       "\t<tr><th></th><th scope=col>anon_id</th><th scope=col>pat_enc_csn_id_coded</th><th scope=col>inpatient_data_id_coded</th><th scope=col>admit_time</th><th scope=col>label</th><th scope=col>features</th><th scope=col>values</th><th scope=col>feature_type</th><th scope=col>time</th><th scope=col>first_label</th><th scope=col>death_24hr_recent_label</th><th scope=col>death_24hr_max_label</th></tr>\n",
       "\t<tr><th></th><th scope=col>&lt;chr&gt;</th><th scope=col>&lt;dbl&gt;</th><th scope=col>&lt;int&gt;</th><th scope=col>&lt;chr&gt;</th><th scope=col>&lt;int&gt;</th><th scope=col>&lt;chr&gt;</th><th scope=col>&lt;dbl&gt;</th><th scope=col>&lt;chr&gt;</th><th scope=col>&lt;chr&gt;</th><th scope=col>&lt;int&gt;</th><th scope=col>&lt;int&gt;</th><th scope=col>&lt;int&gt;</th></tr>\n",
       "</thead>\n",
       "<tbody>\n",
       "\t<tr><th scope=row>1</th><td>JCe33305</td><td>131063880385</td><td>13777312</td><td>2015-01-04 08:11:00+00:00</td><td>0</td><td>Lactate</td><td>2.2</td><td>labs</td><td>2015-01-04 03:18:00+00:00</td><td>0</td><td>0</td><td>0</td></tr>\n",
       "</tbody>\n",
       "</table>\n"
      ],
      "text/latex": [
       "A data.frame: 1 × 12\n",
       "\\begin{tabular}{r|llllllllllll}\n",
       "  & anon\\_id & pat\\_enc\\_csn\\_id\\_coded & inpatient\\_data\\_id\\_coded & admit\\_time & label & features & values & feature\\_type & time & first\\_label & death\\_24hr\\_recent\\_label & death\\_24hr\\_max\\_label\\\\\n",
       "  & <chr> & <dbl> & <int> & <chr> & <int> & <chr> & <dbl> & <chr> & <chr> & <int> & <int> & <int>\\\\\n",
       "\\hline\n",
       "\t1 & JCe33305 & 131063880385 & 13777312 & 2015-01-04 08:11:00+00:00 & 0 & Lactate & 2.2 & labs & 2015-01-04 03:18:00+00:00 & 0 & 0 & 0\\\\\n",
       "\\end{tabular}\n"
      ],
      "text/markdown": [
       "\n",
       "A data.frame: 1 × 12\n",
       "\n",
       "| <!--/--> | anon_id &lt;chr&gt; | pat_enc_csn_id_coded &lt;dbl&gt; | inpatient_data_id_coded &lt;int&gt; | admit_time &lt;chr&gt; | label &lt;int&gt; | features &lt;chr&gt; | values &lt;dbl&gt; | feature_type &lt;chr&gt; | time &lt;chr&gt; | first_label &lt;int&gt; | death_24hr_recent_label &lt;int&gt; | death_24hr_max_label &lt;int&gt; |\n",
       "|---|---|---|---|---|---|---|---|---|---|---|---|---|\n",
       "| 1 | JCe33305 | 131063880385 | 13777312 | 2015-01-04 08:11:00+00:00 | 0 | Lactate | 2.2 | labs | 2015-01-04 03:18:00+00:00 | 0 | 0 | 0 |\n",
       "\n"
      ],
      "text/plain": [
       "  anon_id  pat_enc_csn_id_coded inpatient_data_id_coded\n",
       "1 JCe33305 131063880385         13777312               \n",
       "  admit_time                label features values feature_type\n",
       "1 2015-01-04 08:11:00+00:00 0     Lactate  2.2    labs        \n",
       "  time                      first_label death_24hr_recent_label\n",
       "1 2015-01-04 03:18:00+00:00 0           0                      \n",
       "  death_24hr_max_label\n",
       "1 0                   "
      ]
     },
     "metadata": {},
     "output_type": "display_data"
    }
   ],
   "source": [
    "length(unique(demo_long$pat_enc_csn_id_coded))\n",
    "length(unique(vitals$pat_enc_csn_id_coded))\n",
    "length(unique(labs$pat_enc_csn_id_coded)) # 41366 due to drop NA\n",
    "\n",
    "head(demo_long, n=1)\n",
    "head(vitals, n=1)\n",
    "head(labs, n=1)"
   ]
  },
  {
   "cell_type": "code",
   "execution_count": 18,
   "metadata": {},
   "outputs": [
    {
     "data": {
      "text/html": [
       "3085046"
      ],
      "text/latex": [
       "3085046"
      ],
      "text/markdown": [
       "3085046"
      ],
      "text/plain": [
       "[1] 3085046"
      ]
     },
     "metadata": {},
     "output_type": "display_data"
    },
    {
     "data": {
      "text/html": [
       "43980"
      ],
      "text/latex": [
       "43980"
      ],
      "text/markdown": [
       "43980"
      ],
      "text/plain": [
       "[1] 43980"
      ]
     },
     "metadata": {},
     "output_type": "display_data"
    },
    {
     "data": {
      "text/html": [
       "43980"
      ],
      "text/latex": [
       "43980"
      ],
      "text/markdown": [
       "43980"
      ],
      "text/plain": [
       "[1] 43980"
      ]
     },
     "metadata": {},
     "output_type": "display_data"
    },
    {
     "data": {
      "text/html": [
       "<table class=\"dataframe\">\n",
       "<caption>A data.frame: 3 × 2</caption>\n",
       "<thead>\n",
       "\t<tr><th scope=col>feature_type</th><th scope=col>n</th></tr>\n",
       "\t<tr><th scope=col>&lt;chr&gt;</th><th scope=col>&lt;int&gt;</th></tr>\n",
       "</thead>\n",
       "<tbody>\n",
       "\t<tr><td>demo  </td><td> 747660</td></tr>\n",
       "\t<tr><td>labs  </td><td>1358669</td></tr>\n",
       "\t<tr><td>vitals</td><td> 978717</td></tr>\n",
       "</tbody>\n",
       "</table>\n"
      ],
      "text/latex": [
       "A data.frame: 3 × 2\n",
       "\\begin{tabular}{ll}\n",
       " feature\\_type & n\\\\\n",
       " <chr> & <int>\\\\\n",
       "\\hline\n",
       "\t demo   &  747660\\\\\n",
       "\t labs   & 1358669\\\\\n",
       "\t vitals &  978717\\\\\n",
       "\\end{tabular}\n"
      ],
      "text/markdown": [
       "\n",
       "A data.frame: 3 × 2\n",
       "\n",
       "| feature_type &lt;chr&gt; | n &lt;int&gt; |\n",
       "|---|---|\n",
       "| demo   |  747660 |\n",
       "| labs   | 1358669 |\n",
       "| vitals |  978717 |\n",
       "\n"
      ],
      "text/plain": [
       "  feature_type n      \n",
       "1 demo          747660\n",
       "2 labs         1358669\n",
       "3 vitals        978717"
      ]
     },
     "metadata": {},
     "output_type": "display_data"
    },
    {
     "data": {
      "text/plain": [
       "    Min.  1st Qu.   Median     Mean  3rd Qu.     Max. \n",
       "  -30.00     1.00    19.00    44.57    75.00 11900.00 "
      ]
     },
     "metadata": {},
     "output_type": "display_data"
    }
   ],
   "source": [
    "# combine demos, vitals and labs, long format, with \"time\"\n",
    "feats <- bind_rows(demo_long, vitals, labs)\n",
    "feats <- as.data.frame(unclass(feats))\n",
    "\n",
    "nrow(feats) #3034259\n",
    "nrow(feats %>% select(anon_id, pat_enc_csn_id_coded) %>% distinct())\n",
    "nrow(feats %>% select(pat_enc_csn_id_coded) %>% distinct()) # 41627\n",
    "\n",
    "feats %>% count(feature_type) # shouldn't have NA\n",
    "summary(feats$values) "
   ]
  },
  {
   "cell_type": "code",
   "execution_count": 19,
   "metadata": {},
   "outputs": [
    {
     "data": {
      "text/html": [
       "<table class=\"dataframe\">\n",
       "<caption>A grouped_df: 66 × 3</caption>\n",
       "<thead>\n",
       "\t<tr><th scope=col>feature_type</th><th scope=col>features</th><th scope=col>n</th></tr>\n",
       "\t<tr><th scope=col>&lt;chr&gt;</th><th scope=col>&lt;chr&gt;</th><th scope=col>&lt;int&gt;</th></tr>\n",
       "</thead>\n",
       "<tbody>\n",
       "\t<tr><td>demo  </td><td>age                  </td><td> 43980</td></tr>\n",
       "\t<tr><td>demo  </td><td>delta_ESI            </td><td> 43980</td></tr>\n",
       "\t<tr><td>demo  </td><td>delta_H              </td><td> 43980</td></tr>\n",
       "\t<tr><td>demo  </td><td>delta_W              </td><td> 43980</td></tr>\n",
       "\t<tr><td>demo  </td><td>English              </td><td> 43980</td></tr>\n",
       "\t<tr><td>demo  </td><td>ESI_i                </td><td> 43980</td></tr>\n",
       "\t<tr><td>demo  </td><td>gender               </td><td> 43980</td></tr>\n",
       "\t<tr><td>demo  </td><td>Height_i             </td><td> 43980</td></tr>\n",
       "\t<tr><td>demo  </td><td>insurance            </td><td> 43980</td></tr>\n",
       "\t<tr><td>demo  </td><td>race.Asian           </td><td> 43980</td></tr>\n",
       "\t<tr><td>demo  </td><td>race.Black           </td><td> 43980</td></tr>\n",
       "\t<tr><td>demo  </td><td>race.Native.American </td><td> 43980</td></tr>\n",
       "\t<tr><td>demo  </td><td>race.Other           </td><td> 43980</td></tr>\n",
       "\t<tr><td>demo  </td><td>race.Pacific.Islander</td><td> 43980</td></tr>\n",
       "\t<tr><td>demo  </td><td>race.Unknown         </td><td> 43980</td></tr>\n",
       "\t<tr><td>demo  </td><td>race.White           </td><td> 43980</td></tr>\n",
       "\t<tr><td>demo  </td><td>Weight_i             </td><td> 43980</td></tr>\n",
       "\t<tr><td>labs  </td><td>ALB                  </td><td> 38070</td></tr>\n",
       "\t<tr><td>labs  </td><td>ALK                  </td><td> 37883</td></tr>\n",
       "\t<tr><td>labs  </td><td>ALT                  </td><td> 37789</td></tr>\n",
       "\t<tr><td>labs  </td><td>AnionGap             </td><td> 44273</td></tr>\n",
       "\t<tr><td>labs  </td><td>AST                  </td><td> 37747</td></tr>\n",
       "\t<tr><td>labs  </td><td>Base                 </td><td> 20375</td></tr>\n",
       "\t<tr><td>labs  </td><td>Basos                </td><td> 35945</td></tr>\n",
       "\t<tr><td>labs  </td><td>BUN                  </td><td> 44407</td></tr>\n",
       "\t<tr><td>labs  </td><td>Ca                   </td><td> 41838</td></tr>\n",
       "\t<tr><td>labs  </td><td>Cl                   </td><td> 44742</td></tr>\n",
       "\t<tr><td>labs  </td><td>CO2                  </td><td> 41701</td></tr>\n",
       "\t<tr><td>labs  </td><td>Cr                   </td><td> 44679</td></tr>\n",
       "\t<tr><td>labs  </td><td>eGFR                 </td><td> 39224</td></tr>\n",
       "\t<tr><td>labs  </td><td>Eos                  </td><td> 36441</td></tr>\n",
       "\t<tr><td>labs  </td><td>Glob                 </td><td> 37483</td></tr>\n",
       "\t<tr><td>labs  </td><td>Glucose              </td><td> 51651</td></tr>\n",
       "\t<tr><td>labs  </td><td>HCO3_a               </td><td>  1979</td></tr>\n",
       "\t<tr><td>labs  </td><td>HCO3_v               </td><td> 18679</td></tr>\n",
       "\t<tr><td>labs  </td><td>Hct                  </td><td> 45377</td></tr>\n",
       "\t<tr><td>labs  </td><td>Hgb                  </td><td> 45329</td></tr>\n",
       "\t<tr><td>labs  </td><td>INR                  </td><td> 19245</td></tr>\n",
       "\t<tr><td>labs  </td><td>K                    </td><td> 45404</td></tr>\n",
       "\t<tr><td>labs  </td><td>Lactate              </td><td> 22244</td></tr>\n",
       "\t<tr><td>labs  </td><td>Lymp                 </td><td> 38205</td></tr>\n",
       "\t<tr><td>labs  </td><td>MCH                  </td><td> 41709</td></tr>\n",
       "\t<tr><td>labs  </td><td>Mono                 </td><td> 38081</td></tr>\n",
       "\t<tr><td>labs  </td><td>Na                   </td><td> 45339</td></tr>\n",
       "\t<tr><td>labs  </td><td>Neut                 </td><td> 38263</td></tr>\n",
       "\t<tr><td>labs  </td><td>O2sat_a              </td><td>  1611</td></tr>\n",
       "\t<tr><td>labs  </td><td>O2sat_v              </td><td> 18879</td></tr>\n",
       "\t<tr><td>labs  </td><td>pCO2_a               </td><td>  1732</td></tr>\n",
       "\t<tr><td>labs  </td><td>pCO2_v               </td><td> 18940</td></tr>\n",
       "\t<tr><td>labs  </td><td>pH_a                 </td><td>  1760</td></tr>\n",
       "\t<tr><td>labs  </td><td>pH_v                 </td><td> 18938</td></tr>\n",
       "\t<tr><td>labs  </td><td>Platelet             </td><td> 41895</td></tr>\n",
       "\t<tr><td>labs  </td><td>PO2_a                </td><td>  1733</td></tr>\n",
       "\t<tr><td>labs  </td><td>PO2_v                </td><td> 18958</td></tr>\n",
       "\t<tr><td>labs  </td><td>PT                   </td><td> 19222</td></tr>\n",
       "\t<tr><td>labs  </td><td>RDW                  </td><td> 41715</td></tr>\n",
       "\t<tr><td>labs  </td><td>TBili                </td><td> 38158</td></tr>\n",
       "\t<tr><td>labs  </td><td>TCO2_a               </td><td>  4782</td></tr>\n",
       "\t<tr><td>labs  </td><td>TProtein             </td><td> 37960</td></tr>\n",
       "\t<tr><td>labs  </td><td>Trop                 </td><td> 16486</td></tr>\n",
       "\t<tr><td>labs  </td><td>WBC                  </td><td> 41798</td></tr>\n",
       "\t<tr><td>vitals</td><td>DBP                  </td><td>204786</td></tr>\n",
       "\t<tr><td>vitals</td><td>Pulse                </td><td>219052</td></tr>\n",
       "\t<tr><td>vitals</td><td>RR                   </td><td>207612</td></tr>\n",
       "\t<tr><td>vitals</td><td>SBP                  </td><td>204822</td></tr>\n",
       "\t<tr><td>vitals</td><td>Temp                 </td><td>142445</td></tr>\n",
       "</tbody>\n",
       "</table>\n"
      ],
      "text/latex": [
       "A grouped\\_df: 66 × 3\n",
       "\\begin{tabular}{lll}\n",
       " feature\\_type & features & n\\\\\n",
       " <chr> & <chr> & <int>\\\\\n",
       "\\hline\n",
       "\t demo   & age                   &  43980\\\\\n",
       "\t demo   & delta\\_ESI             &  43980\\\\\n",
       "\t demo   & delta\\_H               &  43980\\\\\n",
       "\t demo   & delta\\_W               &  43980\\\\\n",
       "\t demo   & English               &  43980\\\\\n",
       "\t demo   & ESI\\_i                 &  43980\\\\\n",
       "\t demo   & gender                &  43980\\\\\n",
       "\t demo   & Height\\_i              &  43980\\\\\n",
       "\t demo   & insurance             &  43980\\\\\n",
       "\t demo   & race.Asian            &  43980\\\\\n",
       "\t demo   & race.Black            &  43980\\\\\n",
       "\t demo   & race.Native.American  &  43980\\\\\n",
       "\t demo   & race.Other            &  43980\\\\\n",
       "\t demo   & race.Pacific.Islander &  43980\\\\\n",
       "\t demo   & race.Unknown          &  43980\\\\\n",
       "\t demo   & race.White            &  43980\\\\\n",
       "\t demo   & Weight\\_i              &  43980\\\\\n",
       "\t labs   & ALB                   &  38070\\\\\n",
       "\t labs   & ALK                   &  37883\\\\\n",
       "\t labs   & ALT                   &  37789\\\\\n",
       "\t labs   & AnionGap              &  44273\\\\\n",
       "\t labs   & AST                   &  37747\\\\\n",
       "\t labs   & Base                  &  20375\\\\\n",
       "\t labs   & Basos                 &  35945\\\\\n",
       "\t labs   & BUN                   &  44407\\\\\n",
       "\t labs   & Ca                    &  41838\\\\\n",
       "\t labs   & Cl                    &  44742\\\\\n",
       "\t labs   & CO2                   &  41701\\\\\n",
       "\t labs   & Cr                    &  44679\\\\\n",
       "\t labs   & eGFR                  &  39224\\\\\n",
       "\t labs   & Eos                   &  36441\\\\\n",
       "\t labs   & Glob                  &  37483\\\\\n",
       "\t labs   & Glucose               &  51651\\\\\n",
       "\t labs   & HCO3\\_a                &   1979\\\\\n",
       "\t labs   & HCO3\\_v                &  18679\\\\\n",
       "\t labs   & Hct                   &  45377\\\\\n",
       "\t labs   & Hgb                   &  45329\\\\\n",
       "\t labs   & INR                   &  19245\\\\\n",
       "\t labs   & K                     &  45404\\\\\n",
       "\t labs   & Lactate               &  22244\\\\\n",
       "\t labs   & Lymp                  &  38205\\\\\n",
       "\t labs   & MCH                   &  41709\\\\\n",
       "\t labs   & Mono                  &  38081\\\\\n",
       "\t labs   & Na                    &  45339\\\\\n",
       "\t labs   & Neut                  &  38263\\\\\n",
       "\t labs   & O2sat\\_a               &   1611\\\\\n",
       "\t labs   & O2sat\\_v               &  18879\\\\\n",
       "\t labs   & pCO2\\_a                &   1732\\\\\n",
       "\t labs   & pCO2\\_v                &  18940\\\\\n",
       "\t labs   & pH\\_a                  &   1760\\\\\n",
       "\t labs   & pH\\_v                  &  18938\\\\\n",
       "\t labs   & Platelet              &  41895\\\\\n",
       "\t labs   & PO2\\_a                 &   1733\\\\\n",
       "\t labs   & PO2\\_v                 &  18958\\\\\n",
       "\t labs   & PT                    &  19222\\\\\n",
       "\t labs   & RDW                   &  41715\\\\\n",
       "\t labs   & TBili                 &  38158\\\\\n",
       "\t labs   & TCO2\\_a                &   4782\\\\\n",
       "\t labs   & TProtein              &  37960\\\\\n",
       "\t labs   & Trop                  &  16486\\\\\n",
       "\t labs   & WBC                   &  41798\\\\\n",
       "\t vitals & DBP                   & 204786\\\\\n",
       "\t vitals & Pulse                 & 219052\\\\\n",
       "\t vitals & RR                    & 207612\\\\\n",
       "\t vitals & SBP                   & 204822\\\\\n",
       "\t vitals & Temp                  & 142445\\\\\n",
       "\\end{tabular}\n"
      ],
      "text/markdown": [
       "\n",
       "A grouped_df: 66 × 3\n",
       "\n",
       "| feature_type &lt;chr&gt; | features &lt;chr&gt; | n &lt;int&gt; |\n",
       "|---|---|---|\n",
       "| demo   | age                   |  43980 |\n",
       "| demo   | delta_ESI             |  43980 |\n",
       "| demo   | delta_H               |  43980 |\n",
       "| demo   | delta_W               |  43980 |\n",
       "| demo   | English               |  43980 |\n",
       "| demo   | ESI_i                 |  43980 |\n",
       "| demo   | gender                |  43980 |\n",
       "| demo   | Height_i              |  43980 |\n",
       "| demo   | insurance             |  43980 |\n",
       "| demo   | race.Asian            |  43980 |\n",
       "| demo   | race.Black            |  43980 |\n",
       "| demo   | race.Native.American  |  43980 |\n",
       "| demo   | race.Other            |  43980 |\n",
       "| demo   | race.Pacific.Islander |  43980 |\n",
       "| demo   | race.Unknown          |  43980 |\n",
       "| demo   | race.White            |  43980 |\n",
       "| demo   | Weight_i              |  43980 |\n",
       "| labs   | ALB                   |  38070 |\n",
       "| labs   | ALK                   |  37883 |\n",
       "| labs   | ALT                   |  37789 |\n",
       "| labs   | AnionGap              |  44273 |\n",
       "| labs   | AST                   |  37747 |\n",
       "| labs   | Base                  |  20375 |\n",
       "| labs   | Basos                 |  35945 |\n",
       "| labs   | BUN                   |  44407 |\n",
       "| labs   | Ca                    |  41838 |\n",
       "| labs   | Cl                    |  44742 |\n",
       "| labs   | CO2                   |  41701 |\n",
       "| labs   | Cr                    |  44679 |\n",
       "| labs   | eGFR                  |  39224 |\n",
       "| labs   | Eos                   |  36441 |\n",
       "| labs   | Glob                  |  37483 |\n",
       "| labs   | Glucose               |  51651 |\n",
       "| labs   | HCO3_a                |   1979 |\n",
       "| labs   | HCO3_v                |  18679 |\n",
       "| labs   | Hct                   |  45377 |\n",
       "| labs   | Hgb                   |  45329 |\n",
       "| labs   | INR                   |  19245 |\n",
       "| labs   | K                     |  45404 |\n",
       "| labs   | Lactate               |  22244 |\n",
       "| labs   | Lymp                  |  38205 |\n",
       "| labs   | MCH                   |  41709 |\n",
       "| labs   | Mono                  |  38081 |\n",
       "| labs   | Na                    |  45339 |\n",
       "| labs   | Neut                  |  38263 |\n",
       "| labs   | O2sat_a               |   1611 |\n",
       "| labs   | O2sat_v               |  18879 |\n",
       "| labs   | pCO2_a                |   1732 |\n",
       "| labs   | pCO2_v                |  18940 |\n",
       "| labs   | pH_a                  |   1760 |\n",
       "| labs   | pH_v                  |  18938 |\n",
       "| labs   | Platelet              |  41895 |\n",
       "| labs   | PO2_a                 |   1733 |\n",
       "| labs   | PO2_v                 |  18958 |\n",
       "| labs   | PT                    |  19222 |\n",
       "| labs   | RDW                   |  41715 |\n",
       "| labs   | TBili                 |  38158 |\n",
       "| labs   | TCO2_a                |   4782 |\n",
       "| labs   | TProtein              |  37960 |\n",
       "| labs   | Trop                  |  16486 |\n",
       "| labs   | WBC                   |  41798 |\n",
       "| vitals | DBP                   | 204786 |\n",
       "| vitals | Pulse                 | 219052 |\n",
       "| vitals | RR                    | 207612 |\n",
       "| vitals | SBP                   | 204822 |\n",
       "| vitals | Temp                  | 142445 |\n",
       "\n"
      ],
      "text/plain": [
       "   feature_type features              n     \n",
       "1  demo         age                    43980\n",
       "2  demo         delta_ESI              43980\n",
       "3  demo         delta_H                43980\n",
       "4  demo         delta_W                43980\n",
       "5  demo         English                43980\n",
       "6  demo         ESI_i                  43980\n",
       "7  demo         gender                 43980\n",
       "8  demo         Height_i               43980\n",
       "9  demo         insurance              43980\n",
       "10 demo         race.Asian             43980\n",
       "11 demo         race.Black             43980\n",
       "12 demo         race.Native.American   43980\n",
       "13 demo         race.Other             43980\n",
       "14 demo         race.Pacific.Islander  43980\n",
       "15 demo         race.Unknown           43980\n",
       "16 demo         race.White             43980\n",
       "17 demo         Weight_i               43980\n",
       "18 labs         ALB                    38070\n",
       "19 labs         ALK                    37883\n",
       "20 labs         ALT                    37789\n",
       "21 labs         AnionGap               44273\n",
       "22 labs         AST                    37747\n",
       "23 labs         Base                   20375\n",
       "24 labs         Basos                  35945\n",
       "25 labs         BUN                    44407\n",
       "26 labs         Ca                     41838\n",
       "27 labs         Cl                     44742\n",
       "28 labs         CO2                    41701\n",
       "29 labs         Cr                     44679\n",
       "30 labs         eGFR                   39224\n",
       "31 labs         Eos                    36441\n",
       "32 labs         Glob                   37483\n",
       "33 labs         Glucose                51651\n",
       "34 labs         HCO3_a                  1979\n",
       "35 labs         HCO3_v                 18679\n",
       "36 labs         Hct                    45377\n",
       "37 labs         Hgb                    45329\n",
       "38 labs         INR                    19245\n",
       "39 labs         K                      45404\n",
       "40 labs         Lactate                22244\n",
       "41 labs         Lymp                   38205\n",
       "42 labs         MCH                    41709\n",
       "43 labs         Mono                   38081\n",
       "44 labs         Na                     45339\n",
       "45 labs         Neut                   38263\n",
       "46 labs         O2sat_a                 1611\n",
       "47 labs         O2sat_v                18879\n",
       "48 labs         pCO2_a                  1732\n",
       "49 labs         pCO2_v                 18940\n",
       "50 labs         pH_a                    1760\n",
       "51 labs         pH_v                   18938\n",
       "52 labs         Platelet               41895\n",
       "53 labs         PO2_a                   1733\n",
       "54 labs         PO2_v                  18958\n",
       "55 labs         PT                     19222\n",
       "56 labs         RDW                    41715\n",
       "57 labs         TBili                  38158\n",
       "58 labs         TCO2_a                  4782\n",
       "59 labs         TProtein               37960\n",
       "60 labs         Trop                   16486\n",
       "61 labs         WBC                    41798\n",
       "62 vitals       DBP                   204786\n",
       "63 vitals       Pulse                 219052\n",
       "64 vitals       RR                    207612\n",
       "65 vitals       SBP                   204822\n",
       "66 vitals       Temp                  142445"
      ]
     },
     "metadata": {},
     "output_type": "display_data"
    }
   ],
   "source": [
    "feats %>% group_by(feature_type, features) %>% count()"
   ]
  },
  {
   "cell_type": "code",
   "execution_count": 20,
   "metadata": {},
   "outputs": [
    {
     "data": {
      "text/html": [
       "3085046"
      ],
      "text/latex": [
       "3085046"
      ],
      "text/markdown": [
       "3085046"
      ],
      "text/plain": [
       "[1] 3085046"
      ]
     },
     "metadata": {},
     "output_type": "display_data"
    },
    {
     "data": {
      "text/html": [
       "43980"
      ],
      "text/latex": [
       "43980"
      ],
      "text/markdown": [
       "43980"
      ],
      "text/plain": [
       "[1] 43980"
      ]
     },
     "metadata": {},
     "output_type": "display_data"
    }
   ],
   "source": [
    "# rearrange columns\n",
    "cohort4_feats <- feats %>% select(anon_id, pat_enc_csn_id_coded, admit_time, \n",
    "                                 first_label, death_24hr_recent_label, death_24hr_max_label,\n",
    "                                 feature_type, features, values, time)\n",
    "nrow(cohort4_feats) #3085046 \n",
    "length(unique(cohort4_feats$pat_enc_csn_id_coded)) # 43980"
   ]
  },
  {
   "cell_type": "code",
   "execution_count": 21,
   "metadata": {},
   "outputs": [
    {
     "data": {
      "text/html": [
       "<table class=\"dataframe\">\n",
       "<caption>A data.frame: 3 × 10</caption>\n",
       "<thead>\n",
       "\t<tr><th></th><th scope=col>anon_id</th><th scope=col>pat_enc_csn_id_coded</th><th scope=col>admit_time</th><th scope=col>first_label</th><th scope=col>death_24hr_recent_label</th><th scope=col>death_24hr_max_label</th><th scope=col>feature_type</th><th scope=col>features</th><th scope=col>values</th><th scope=col>time</th></tr>\n",
       "\t<tr><th></th><th scope=col>&lt;chr&gt;</th><th scope=col>&lt;dbl&gt;</th><th scope=col>&lt;chr&gt;</th><th scope=col>&lt;int&gt;</th><th scope=col>&lt;int&gt;</th><th scope=col>&lt;int&gt;</th><th scope=col>&lt;chr&gt;</th><th scope=col>&lt;chr&gt;</th><th scope=col>&lt;dbl&gt;</th><th scope=col>&lt;chr&gt;</th></tr>\n",
       "</thead>\n",
       "<tbody>\n",
       "\t<tr><th scope=row>1</th><td>JC29f8ad2</td><td>131274729058</td><td>2019-08-31 12:52:00+00:00</td><td>0</td><td>0</td><td>0</td><td>demo</td><td>ESI_i</td><td>3</td><td>NA</td></tr>\n",
       "\t<tr><th scope=row>2</th><td>JC29f8ad3</td><td>131278291027</td><td>2019-10-05 23:48:00+00:00</td><td>0</td><td>0</td><td>0</td><td>demo</td><td>ESI_i</td><td>3</td><td>NA</td></tr>\n",
       "\t<tr><th scope=row>3</th><td>JC29f8b9c</td><td>131266787806</td><td>2019-05-05 01:07:00+00:00</td><td>0</td><td>0</td><td>0</td><td>demo</td><td>ESI_i</td><td>2</td><td>NA</td></tr>\n",
       "</tbody>\n",
       "</table>\n"
      ],
      "text/latex": [
       "A data.frame: 3 × 10\n",
       "\\begin{tabular}{r|llllllllll}\n",
       "  & anon\\_id & pat\\_enc\\_csn\\_id\\_coded & admit\\_time & first\\_label & death\\_24hr\\_recent\\_label & death\\_24hr\\_max\\_label & feature\\_type & features & values & time\\\\\n",
       "  & <chr> & <dbl> & <chr> & <int> & <int> & <int> & <chr> & <chr> & <dbl> & <chr>\\\\\n",
       "\\hline\n",
       "\t1 & JC29f8ad2 & 131274729058 & 2019-08-31 12:52:00+00:00 & 0 & 0 & 0 & demo & ESI\\_i & 3 & NA\\\\\n",
       "\t2 & JC29f8ad3 & 131278291027 & 2019-10-05 23:48:00+00:00 & 0 & 0 & 0 & demo & ESI\\_i & 3 & NA\\\\\n",
       "\t3 & JC29f8b9c & 131266787806 & 2019-05-05 01:07:00+00:00 & 0 & 0 & 0 & demo & ESI\\_i & 2 & NA\\\\\n",
       "\\end{tabular}\n"
      ],
      "text/markdown": [
       "\n",
       "A data.frame: 3 × 10\n",
       "\n",
       "| <!--/--> | anon_id &lt;chr&gt; | pat_enc_csn_id_coded &lt;dbl&gt; | admit_time &lt;chr&gt; | first_label &lt;int&gt; | death_24hr_recent_label &lt;int&gt; | death_24hr_max_label &lt;int&gt; | feature_type &lt;chr&gt; | features &lt;chr&gt; | values &lt;dbl&gt; | time &lt;chr&gt; |\n",
       "|---|---|---|---|---|---|---|---|---|---|---|\n",
       "| 1 | JC29f8ad2 | 131274729058 | 2019-08-31 12:52:00+00:00 | 0 | 0 | 0 | demo | ESI_i | 3 | NA |\n",
       "| 2 | JC29f8ad3 | 131278291027 | 2019-10-05 23:48:00+00:00 | 0 | 0 | 0 | demo | ESI_i | 3 | NA |\n",
       "| 3 | JC29f8b9c | 131266787806 | 2019-05-05 01:07:00+00:00 | 0 | 0 | 0 | demo | ESI_i | 2 | NA |\n",
       "\n"
      ],
      "text/plain": [
       "  anon_id   pat_enc_csn_id_coded admit_time                first_label\n",
       "1 JC29f8ad2 131274729058         2019-08-31 12:52:00+00:00 0          \n",
       "2 JC29f8ad3 131278291027         2019-10-05 23:48:00+00:00 0          \n",
       "3 JC29f8b9c 131266787806         2019-05-05 01:07:00+00:00 0          \n",
       "  death_24hr_recent_label death_24hr_max_label feature_type features values\n",
       "1 0                       0                    demo         ESI_i    3     \n",
       "2 0                       0                    demo         ESI_i    3     \n",
       "3 0                       0                    demo         ESI_i    2     \n",
       "  time\n",
       "1 NA  \n",
       "2 NA  \n",
       "3 NA  "
      ]
     },
     "metadata": {},
     "output_type": "display_data"
    },
    {
     "data": {
      "text/html": [
       "<table class=\"dataframe\">\n",
       "<caption>A data.frame: 3 × 10</caption>\n",
       "<thead>\n",
       "\t<tr><th></th><th scope=col>anon_id</th><th scope=col>pat_enc_csn_id_coded</th><th scope=col>admit_time</th><th scope=col>first_label</th><th scope=col>death_24hr_recent_label</th><th scope=col>death_24hr_max_label</th><th scope=col>feature_type</th><th scope=col>features</th><th scope=col>values</th><th scope=col>time</th></tr>\n",
       "\t<tr><th></th><th scope=col>&lt;chr&gt;</th><th scope=col>&lt;dbl&gt;</th><th scope=col>&lt;chr&gt;</th><th scope=col>&lt;int&gt;</th><th scope=col>&lt;int&gt;</th><th scope=col>&lt;int&gt;</th><th scope=col>&lt;chr&gt;</th><th scope=col>&lt;chr&gt;</th><th scope=col>&lt;dbl&gt;</th><th scope=col>&lt;chr&gt;</th></tr>\n",
       "</thead>\n",
       "<tbody>\n",
       "\t<tr><th scope=row>3085044</th><td>JCd473c6</td><td>131281585175</td><td>2019-12-10 23:52:00+00:00</td><td>1</td><td>0</td><td>1</td><td>labs</td><td>O2sat_v</td><td>89.6</td><td>2019-12-10 22:38:00+00:00</td></tr>\n",
       "\t<tr><th scope=row>3085045</th><td>JCd3262e</td><td>131275001383</td><td>2019-08-15 16:54:00+00:00</td><td>1</td><td>0</td><td>1</td><td>labs</td><td>O2sat_v</td><td>89.0</td><td>2019-08-15 14:56:00+00:00</td></tr>\n",
       "\t<tr><th scope=row>3085046</th><td>JCeb2276</td><td>131282270628</td><td>2020-02-14 04:58:00+00:00</td><td>0</td><td>0</td><td>0</td><td>labs</td><td>O2sat_v</td><td>36.3</td><td>2020-02-14 00:51:00+00:00</td></tr>\n",
       "</tbody>\n",
       "</table>\n"
      ],
      "text/latex": [
       "A data.frame: 3 × 10\n",
       "\\begin{tabular}{r|llllllllll}\n",
       "  & anon\\_id & pat\\_enc\\_csn\\_id\\_coded & admit\\_time & first\\_label & death\\_24hr\\_recent\\_label & death\\_24hr\\_max\\_label & feature\\_type & features & values & time\\\\\n",
       "  & <chr> & <dbl> & <chr> & <int> & <int> & <int> & <chr> & <chr> & <dbl> & <chr>\\\\\n",
       "\\hline\n",
       "\t3085044 & JCd473c6 & 131281585175 & 2019-12-10 23:52:00+00:00 & 1 & 0 & 1 & labs & O2sat\\_v & 89.6 & 2019-12-10 22:38:00+00:00\\\\\n",
       "\t3085045 & JCd3262e & 131275001383 & 2019-08-15 16:54:00+00:00 & 1 & 0 & 1 & labs & O2sat\\_v & 89.0 & 2019-08-15 14:56:00+00:00\\\\\n",
       "\t3085046 & JCeb2276 & 131282270628 & 2020-02-14 04:58:00+00:00 & 0 & 0 & 0 & labs & O2sat\\_v & 36.3 & 2020-02-14 00:51:00+00:00\\\\\n",
       "\\end{tabular}\n"
      ],
      "text/markdown": [
       "\n",
       "A data.frame: 3 × 10\n",
       "\n",
       "| <!--/--> | anon_id &lt;chr&gt; | pat_enc_csn_id_coded &lt;dbl&gt; | admit_time &lt;chr&gt; | first_label &lt;int&gt; | death_24hr_recent_label &lt;int&gt; | death_24hr_max_label &lt;int&gt; | feature_type &lt;chr&gt; | features &lt;chr&gt; | values &lt;dbl&gt; | time &lt;chr&gt; |\n",
       "|---|---|---|---|---|---|---|---|---|---|---|\n",
       "| 3085044 | JCd473c6 | 131281585175 | 2019-12-10 23:52:00+00:00 | 1 | 0 | 1 | labs | O2sat_v | 89.6 | 2019-12-10 22:38:00+00:00 |\n",
       "| 3085045 | JCd3262e | 131275001383 | 2019-08-15 16:54:00+00:00 | 1 | 0 | 1 | labs | O2sat_v | 89.0 | 2019-08-15 14:56:00+00:00 |\n",
       "| 3085046 | JCeb2276 | 131282270628 | 2020-02-14 04:58:00+00:00 | 0 | 0 | 0 | labs | O2sat_v | 36.3 | 2020-02-14 00:51:00+00:00 |\n",
       "\n"
      ],
      "text/plain": [
       "        anon_id  pat_enc_csn_id_coded admit_time                first_label\n",
       "3085044 JCd473c6 131281585175         2019-12-10 23:52:00+00:00 1          \n",
       "3085045 JCd3262e 131275001383         2019-08-15 16:54:00+00:00 1          \n",
       "3085046 JCeb2276 131282270628         2020-02-14 04:58:00+00:00 0          \n",
       "        death_24hr_recent_label death_24hr_max_label feature_type features\n",
       "3085044 0                       1                    labs         O2sat_v \n",
       "3085045 0                       1                    labs         O2sat_v \n",
       "3085046 0                       0                    labs         O2sat_v \n",
       "        values time                     \n",
       "3085044 89.6   2019-12-10 22:38:00+00:00\n",
       "3085045 89.0   2019-08-15 14:56:00+00:00\n",
       "3085046 36.3   2020-02-14 00:51:00+00:00"
      ]
     },
     "metadata": {},
     "output_type": "display_data"
    }
   ],
   "source": [
    "head(cohort4_feats, 3)\n",
    "tail(cohort4_feats, 3)"
   ]
  },
  {
   "cell_type": "code",
   "execution_count": 22,
   "metadata": {},
   "outputs": [],
   "source": [
    "write.csv(cohort4_feats, file.path(featuredir, \"2_7_coh4_feature_values.csv\"), row.names=FALSE)"
   ]
  },
  {
   "cell_type": "code",
   "execution_count": 23,
   "metadata": {},
   "outputs": [
    {
     "data": {
      "text/html": [
       "3012942"
      ],
      "text/latex": [
       "3012942"
      ],
      "text/markdown": [
       "3012942"
      ],
      "text/plain": [
       "[1] 3012942"
      ]
     },
     "metadata": {},
     "output_type": "display_data"
    },
    {
     "data": {
      "text/html": [
       "41366"
      ],
      "text/latex": [
       "41366"
      ],
      "text/markdown": [
       "41366"
      ],
      "text/plain": [
       "[1] 41366"
      ]
     },
     "metadata": {},
     "output_type": "display_data"
    }
   ],
   "source": [
    "# cohort5 is a subset of cohort4 excluding observations with no labs\n",
    "cohort5_feats <- cohort4_feats %>% filter(pat_enc_csn_id_coded %in% cohort5$pat_enc_csn_id_coded)\n",
    "nrow(cohort5_feats) #3012942\n",
    "length(unique(cohort5_feats$pat_enc_csn_id_coded)) #41366"
   ]
  },
  {
   "cell_type": "code",
   "execution_count": 24,
   "metadata": {},
   "outputs": [],
   "source": [
    "write.csv(cohort5_feats, file.path(featuredir, \"2_7_coh5_feature_values.csv\"), row.names=FALSE)"
   ]
  },
  {
   "cell_type": "code",
   "execution_count": 27,
   "metadata": {},
   "outputs": [
    {
     "data": {
      "text/html": [
       "41366"
      ],
      "text/latex": [
       "41366"
      ],
      "text/markdown": [
       "41366"
      ],
      "text/plain": [
       "[1] 41366"
      ]
     },
     "metadata": {},
     "output_type": "display_data"
    }
   ],
   "source": [
    "df <- read.csv(file.path(featuredir, \"2_7_coh5_feature_values.csv\"))\n",
    "length(unique(df$pat_enc_csn_id_coded))"
   ]
  }
 ],
 "metadata": {
  "environment": {
   "name": "r-cpu.4-0.m71",
   "type": "gcloud",
   "uri": "gcr.io/deeplearning-platform-release/r-cpu.4-0:m71"
  },
  "kernelspec": {
   "display_name": "R",
   "language": "R",
   "name": "ir"
  },
  "language_info": {
   "codemirror_mode": "r",
   "file_extension": ".r",
   "mimetype": "text/x-r-source",
   "name": "R",
   "pygments_lexer": "r",
   "version": "4.0.3"
  },
  "toc": {
   "base_numbering": 1,
   "nav_menu": {},
   "number_sections": true,
   "sideBar": true,
   "skip_h1_title": false,
   "title_cell": "Table of Contents",
   "title_sidebar": "Contents",
   "toc_cell": false,
   "toc_position": {},
   "toc_section_display": true,
   "toc_window_display": false
  },
  "varInspector": {
   "cols": {
    "lenName": 16,
    "lenType": 16,
    "lenVar": 40
   },
   "kernels_config": {
    "python": {
     "delete_cmd_postfix": "",
     "delete_cmd_prefix": "del ",
     "library": "var_list.py",
     "varRefreshCmd": "print(var_dic_list())"
    },
    "r": {
     "delete_cmd_postfix": ") ",
     "delete_cmd_prefix": "rm(",
     "library": "var_list.r",
     "varRefreshCmd": "cat(var_dic_list()) "
    }
   },
   "types_to_exclude": [
    "module",
    "function",
    "builtin_function_or_method",
    "instance",
    "_Feature"
   ],
   "window_display": false
  }
 },
 "nbformat": 4,
 "nbformat_minor": 4
}
