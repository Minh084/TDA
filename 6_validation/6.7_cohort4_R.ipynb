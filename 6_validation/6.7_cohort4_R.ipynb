{
 "cells": [
  {
   "cell_type": "markdown",
   "id": "6d3a7956",
   "metadata": {},
   "source": [
    "### Description: NEW\n",
    "Refine new cohort4 to only include CSNs that are not already in the original cohort\n",
    "- New cohort: shc_core_2021, from 04/2020 - 2021\n",
    "- Original old cohort: shc_core, 2015 - 03/2020\n",
    "\n",
    "However, some CSNs in the new cohort are also in the old cohort, but with different anon_id and admit time\n",
    "- Remove these overlapping CSNs. This is clean if use both cohort4 from old and new data\n",
    "- When using Demographics/HW data later in 6.8 notebook, be aware that there are a few overlapped CSNs. This is due to cohort2 was used to get demo/HW data. These overlapped CSNs were actually removed from cohort3 already. They are removed from new cohort4 again when merging with the old demo/HW data to prevent further issues. But this `cohort4` remain intact.\n",
    "\n",
    "**Input:**\n",
    "- `1_4_cohort.csv` (original cohort4)\n",
    "- `6_7_0_cohort4` (new cohort4 with labels)\n",
    "\n",
    "\n",
    "**Output:**\n",
    "- `6_7_cohort4` size 60,464. This is the *final cohort* combing 2015 - 03/2020 (43,980) and 04/2020 - 2021 (16,484) data\n"
   ]
  },
  {
   "cell_type": "code",
   "execution_count": 1,
   "id": "68693700",
   "metadata": {},
   "outputs": [
    {
     "name": "stderr",
     "output_type": "stream",
     "text": [
      "── \u001b[1mAttaching packages\u001b[22m ─────────────────────────────────────── tidyverse 1.3.1 ──\n",
      "\n",
      "\u001b[32m✔\u001b[39m \u001b[34mggplot2\u001b[39m 3.3.3     \u001b[32m✔\u001b[39m \u001b[34mpurrr  \u001b[39m 0.3.4\n",
      "\u001b[32m✔\u001b[39m \u001b[34mtibble \u001b[39m 3.1.2     \u001b[32m✔\u001b[39m \u001b[34mdplyr  \u001b[39m 1.0.6\n",
      "\u001b[32m✔\u001b[39m \u001b[34mtidyr  \u001b[39m 1.1.3     \u001b[32m✔\u001b[39m \u001b[34mstringr\u001b[39m 1.4.0\n",
      "\u001b[32m✔\u001b[39m \u001b[34mreadr  \u001b[39m 1.4.0     \u001b[32m✔\u001b[39m \u001b[34mforcats\u001b[39m 0.5.1\n",
      "\n",
      "── \u001b[1mConflicts\u001b[22m ────────────────────────────────────────── tidyverse_conflicts() ──\n",
      "\u001b[31m✖\u001b[39m \u001b[34mdplyr\u001b[39m::\u001b[32mbetween()\u001b[39m   masks \u001b[34mdata.table\u001b[39m::between()\n",
      "\u001b[31m✖\u001b[39m \u001b[34mdplyr\u001b[39m::\u001b[32mfilter()\u001b[39m    masks \u001b[34mstats\u001b[39m::filter()\n",
      "\u001b[31m✖\u001b[39m \u001b[34mdplyr\u001b[39m::\u001b[32mfirst()\u001b[39m     masks \u001b[34mdata.table\u001b[39m::first()\n",
      "\u001b[31m✖\u001b[39m \u001b[34mdplyr\u001b[39m::\u001b[32mlag()\u001b[39m       masks \u001b[34mstats\u001b[39m::lag()\n",
      "\u001b[31m✖\u001b[39m \u001b[34mdplyr\u001b[39m::\u001b[32mlast()\u001b[39m      masks \u001b[34mdata.table\u001b[39m::last()\n",
      "\u001b[31m✖\u001b[39m \u001b[34mpurrr\u001b[39m::\u001b[32mtranspose()\u001b[39m masks \u001b[34mdata.table\u001b[39m::transpose()\n",
      "\n",
      "\n",
      "Attaching package: ‘lubridate’\n",
      "\n",
      "\n",
      "The following objects are masked from ‘package:data.table’:\n",
      "\n",
      "    hour, isoweek, mday, minute, month, quarter, second, wday, week,\n",
      "    yday, year\n",
      "\n",
      "\n",
      "The following objects are masked from ‘package:base’:\n",
      "\n",
      "    date, intersect, setdiff, union\n",
      "\n",
      "\n"
     ]
    }
   ],
   "source": [
    "library(data.table)\n",
    "library(tidyverse)\n",
    "library(lubridate)\n",
    "# library(Matrix)\n",
    "# library(slam)\n",
    "# library(bit64)\n",
    "# library(mtools) for one hot coder, not available on Nero or use caret or tidyr\n",
    "options(repr.matrix.max.rows=200, repr.matrix.max.cols=30)"
   ]
  },
  {
   "cell_type": "code",
   "execution_count": 2,
   "id": "c1931c87",
   "metadata": {},
   "outputs": [],
   "source": [
    "datadir = \"../../DataTD\"\n",
    "datadir6 = \"../../DataTD/validation\"\n",
    "valdir = \"../../OutputTD/6_validation\"\n",
    "cohortdir = \"../../OutputTD/1_cohort\"\n",
    "featuredir = \"../../OutputTD/2_features\""
   ]
  },
  {
   "cell_type": "code",
   "execution_count": 3,
   "id": "722cfb15",
   "metadata": {},
   "outputs": [
    {
     "data": {
      "text/html": [
       "43980"
      ],
      "text/latex": [
       "43980"
      ],
      "text/markdown": [
       "43980"
      ],
      "text/plain": [
       "[1] 43980"
      ]
     },
     "metadata": {},
     "output_type": "display_data"
    },
    {
     "data": {
      "text/html": [
       "16700"
      ],
      "text/latex": [
       "16700"
      ],
      "text/markdown": [
       "16700"
      ],
      "text/plain": [
       "[1] 16700"
      ]
     },
     "metadata": {},
     "output_type": "display_data"
    }
   ],
   "source": [
    "# old cohort up to 03/2020\n",
    "cohort0 <- read.csv(file.path(cohortdir,  '1_4_cohort.csv'))\n",
    "nrow(cohort0) #43980\n",
    "\n",
    "# new cohort from 04/2020 - 2021\n",
    "cohort6 <- read.csv(file.path(valdir,  '6_7_0_cohort4.csv'))\n",
    "nrow(cohort6) #16700"
   ]
  },
  {
   "cell_type": "code",
   "execution_count": 4,
   "id": "d9f010b1",
   "metadata": {},
   "outputs": [
    {
     "data": {
      "text/html": [
       "43764"
      ],
      "text/latex": [
       "43764"
      ],
      "text/markdown": [
       "43764"
      ],
      "text/plain": [
       "[1] 43764"
      ]
     },
     "metadata": {},
     "output_type": "display_data"
    },
    {
     "data": {
      "text/html": [
       "16484"
      ],
      "text/latex": [
       "16484"
      ],
      "text/markdown": [
       "16484"
      ],
      "text/plain": [
       "[1] 16484"
      ]
     },
     "metadata": {},
     "output_type": "display_data"
    }
   ],
   "source": [
    "# check overlapping cohort\n",
    "length(setdiff(cohort0$pat_enc_csn_id_coded, cohort6$pat_enc_csn_id_coded))\n",
    "length(setdiff(cohort6$pat_enc_csn_id_coded, cohort0$pat_enc_csn_id_coded)) "
   ]
  },
  {
   "cell_type": "code",
   "execution_count": 5,
   "id": "df9bba9a",
   "metadata": {},
   "outputs": [
    {
     "data": {
      "text/html": [
       "<style>\n",
       ".list-inline {list-style: none; margin:0; padding: 0}\n",
       ".list-inline>li {display: inline-block}\n",
       ".list-inline>li:not(:last-child)::after {content: \"\\00b7\"; padding: 0 .5ex}\n",
       "</style>\n",
       "<ol class=list-inline><li>131295313275</li><li>131295018112</li><li>131288774622</li><li>131302440087</li><li>131305861173</li><li>131308681280</li></ol>\n"
      ],
      "text/latex": [
       "\\begin{enumerate*}\n",
       "\\item 131295313275\n",
       "\\item 131295018112\n",
       "\\item 131288774622\n",
       "\\item 131302440087\n",
       "\\item 131305861173\n",
       "\\item 131308681280\n",
       "\\end{enumerate*}\n"
      ],
      "text/markdown": [
       "1. 131295313275\n",
       "2. 131295018112\n",
       "3. 131288774622\n",
       "4. 131302440087\n",
       "5. 131305861173\n",
       "6. 131308681280\n",
       "\n",
       "\n"
      ],
      "text/plain": [
       "[1] 131295313275 131295018112 131288774622 131302440087 131305861173\n",
       "[6] 131308681280"
      ]
     },
     "metadata": {},
     "output_type": "display_data"
    }
   ],
   "source": [
    "# csn in cohort4 but not in 0\n",
    "csn_new <- setdiff(cohort6$pat_enc_csn_id_coded, cohort0$pat_enc_csn_id_coded)\n",
    "head(csn_new)"
   ]
  },
  {
   "cell_type": "code",
   "execution_count": 6,
   "id": "c6241a75",
   "metadata": {},
   "outputs": [
    {
     "data": {
      "text/html": [
       "16484"
      ],
      "text/latex": [
       "16484"
      ],
      "text/markdown": [
       "16484"
      ],
      "text/plain": [
       "[1] 16484"
      ]
     },
     "metadata": {},
     "output_type": "display_data"
    },
    {
     "data": {
      "text/html": [
       "16484"
      ],
      "text/latex": [
       "16484"
      ],
      "text/markdown": [
       "16484"
      ],
      "text/plain": [
       "[1] 16484"
      ]
     },
     "metadata": {},
     "output_type": "display_data"
    }
   ],
   "source": [
    "# merge with unique csn\n",
    "cohort6 <- cohort6 %>% filter(pat_enc_csn_id_coded %in% csn_new)\n",
    "nrow(cohort6)\n",
    "length(unique(cohort6$pat_enc_csn_id_coded))"
   ]
  },
  {
   "cell_type": "code",
   "execution_count": 7,
   "id": "9dbaece9",
   "metadata": {},
   "outputs": [
    {
     "data": {
      "text/html": [
       "60464"
      ],
      "text/latex": [
       "60464"
      ],
      "text/markdown": [
       "60464"
      ],
      "text/plain": [
       "[1] 60464"
      ]
     },
     "metadata": {},
     "output_type": "display_data"
    },
    {
     "data": {
      "text/html": [
       "43026"
      ],
      "text/latex": [
       "43026"
      ],
      "text/markdown": [
       "43026"
      ],
      "text/plain": [
       "[1] 43026"
      ]
     },
     "metadata": {},
     "output_type": "display_data"
    },
    {
     "data": {
      "text/html": [
       "60464"
      ],
      "text/latex": [
       "60464"
      ],
      "text/markdown": [
       "60464"
      ],
      "text/plain": [
       "[1] 60464"
      ]
     },
     "metadata": {},
     "output_type": "display_data"
    },
    {
     "data": {
      "text/html": [
       "60464"
      ],
      "text/latex": [
       "60464"
      ],
      "text/markdown": [
       "60464"
      ],
      "text/plain": [
       "[1] 60464"
      ]
     },
     "metadata": {},
     "output_type": "display_data"
    },
    {
     "data": {
      "text/html": [
       "<table class=\"dataframe\">\n",
       "<caption>A data.frame: 6 × 17</caption>\n",
       "<thead>\n",
       "\t<tr><th></th><th scope=col>anon_id</th><th scope=col>pat_enc_csn_id_coded</th><th scope=col>inpatient_data_id_coded</th><th scope=col>admit_time</th><th scope=col>label_max24</th><th scope=col>label_24hr_recent</th><th scope=col>admit_label</th><th scope=col>has_admit_label</th><th scope=col>died_within_24hrs</th><th scope=col>death_24hr_max_label</th><th scope=col>death_24hr_recent_label</th><th scope=col>first_label</th><th scope=col>first_label_minutes_since_admit</th><th scope=col>acute_to_critical_label_recent</th><th scope=col>critical_to_acute_label_recent</th><th scope=col>acute_to_critical_label_max</th><th scope=col>critical_to_acute_label_max</th></tr>\n",
       "\t<tr><th></th><th scope=col>&lt;chr&gt;</th><th scope=col>&lt;dbl&gt;</th><th scope=col>&lt;int&gt;</th><th scope=col>&lt;chr&gt;</th><th scope=col>&lt;int&gt;</th><th scope=col>&lt;int&gt;</th><th scope=col>&lt;int&gt;</th><th scope=col>&lt;int&gt;</th><th scope=col>&lt;int&gt;</th><th scope=col>&lt;int&gt;</th><th scope=col>&lt;int&gt;</th><th scope=col>&lt;int&gt;</th><th scope=col>&lt;dbl&gt;</th><th scope=col>&lt;int&gt;</th><th scope=col>&lt;int&gt;</th><th scope=col>&lt;int&gt;</th><th scope=col>&lt;int&gt;</th></tr>\n",
       "</thead>\n",
       "<tbody>\n",
       "\t<tr><th scope=row>1</th><td>JCd97296</td><td>131176042095</td><td>18290644</td><td>2016-02-06 22:31:00+00:00</td><td>0</td><td>0</td><td>NA</td><td>0</td><td>0</td><td>0</td><td>0</td><td>0</td><td>1325</td><td>0</td><td>0</td><td>0</td><td>0</td></tr>\n",
       "\t<tr><th scope=row>2</th><td>JCcdc7e1</td><td>131064611420</td><td>13865299</td><td>2015-01-15 21:16:00+00:00</td><td>1</td><td>1</td><td> 1</td><td>1</td><td>0</td><td>1</td><td>1</td><td>1</td><td>   0</td><td>0</td><td>0</td><td>0</td><td>0</td></tr>\n",
       "\t<tr><th scope=row>3</th><td>JCe3e5f4</td><td>131072326078</td><td>14296997</td><td>2015-01-28 11:12:00+00:00</td><td>1</td><td>1</td><td> 1</td><td>1</td><td>0</td><td>1</td><td>1</td><td>1</td><td>   0</td><td>0</td><td>0</td><td>0</td><td>0</td></tr>\n",
       "\t<tr><th scope=row>4</th><td>JCdcfce9</td><td>131178712824</td><td>18633398</td><td>2016-03-04 17:01:00+00:00</td><td>1</td><td>1</td><td> 1</td><td>1</td><td>0</td><td>1</td><td>1</td><td>1</td><td>   0</td><td>0</td><td>0</td><td>0</td><td>0</td></tr>\n",
       "\t<tr><th scope=row>5</th><td>JCdaaaa6</td><td>131211945620</td><td>22773101</td><td>2016-12-07 22:17:00+00:00</td><td>0</td><td>0</td><td> 0</td><td>1</td><td>0</td><td>0</td><td>0</td><td>0</td><td>   0</td><td>0</td><td>0</td><td>0</td><td>0</td></tr>\n",
       "\t<tr><th scope=row>6</th><td>JCe8840f</td><td>131264906504</td><td>34995073</td><td>2019-02-14 22:22:00+00:00</td><td>0</td><td>0</td><td> 0</td><td>1</td><td>0</td><td>0</td><td>0</td><td>0</td><td>   0</td><td>0</td><td>0</td><td>0</td><td>0</td></tr>\n",
       "</tbody>\n",
       "</table>\n"
      ],
      "text/latex": [
       "A data.frame: 6 × 17\n",
       "\\begin{tabular}{r|lllllllllllllllll}\n",
       "  & anon\\_id & pat\\_enc\\_csn\\_id\\_coded & inpatient\\_data\\_id\\_coded & admit\\_time & label\\_max24 & label\\_24hr\\_recent & admit\\_label & has\\_admit\\_label & died\\_within\\_24hrs & death\\_24hr\\_max\\_label & death\\_24hr\\_recent\\_label & first\\_label & first\\_label\\_minutes\\_since\\_admit & acute\\_to\\_critical\\_label\\_recent & critical\\_to\\_acute\\_label\\_recent & acute\\_to\\_critical\\_label\\_max & critical\\_to\\_acute\\_label\\_max\\\\\n",
       "  & <chr> & <dbl> & <int> & <chr> & <int> & <int> & <int> & <int> & <int> & <int> & <int> & <int> & <dbl> & <int> & <int> & <int> & <int>\\\\\n",
       "\\hline\n",
       "\t1 & JCd97296 & 131176042095 & 18290644 & 2016-02-06 22:31:00+00:00 & 0 & 0 & NA & 0 & 0 & 0 & 0 & 0 & 1325 & 0 & 0 & 0 & 0\\\\\n",
       "\t2 & JCcdc7e1 & 131064611420 & 13865299 & 2015-01-15 21:16:00+00:00 & 1 & 1 &  1 & 1 & 0 & 1 & 1 & 1 &    0 & 0 & 0 & 0 & 0\\\\\n",
       "\t3 & JCe3e5f4 & 131072326078 & 14296997 & 2015-01-28 11:12:00+00:00 & 1 & 1 &  1 & 1 & 0 & 1 & 1 & 1 &    0 & 0 & 0 & 0 & 0\\\\\n",
       "\t4 & JCdcfce9 & 131178712824 & 18633398 & 2016-03-04 17:01:00+00:00 & 1 & 1 &  1 & 1 & 0 & 1 & 1 & 1 &    0 & 0 & 0 & 0 & 0\\\\\n",
       "\t5 & JCdaaaa6 & 131211945620 & 22773101 & 2016-12-07 22:17:00+00:00 & 0 & 0 &  0 & 1 & 0 & 0 & 0 & 0 &    0 & 0 & 0 & 0 & 0\\\\\n",
       "\t6 & JCe8840f & 131264906504 & 34995073 & 2019-02-14 22:22:00+00:00 & 0 & 0 &  0 & 1 & 0 & 0 & 0 & 0 &    0 & 0 & 0 & 0 & 0\\\\\n",
       "\\end{tabular}\n"
      ],
      "text/markdown": [
       "\n",
       "A data.frame: 6 × 17\n",
       "\n",
       "| <!--/--> | anon_id &lt;chr&gt; | pat_enc_csn_id_coded &lt;dbl&gt; | inpatient_data_id_coded &lt;int&gt; | admit_time &lt;chr&gt; | label_max24 &lt;int&gt; | label_24hr_recent &lt;int&gt; | admit_label &lt;int&gt; | has_admit_label &lt;int&gt; | died_within_24hrs &lt;int&gt; | death_24hr_max_label &lt;int&gt; | death_24hr_recent_label &lt;int&gt; | first_label &lt;int&gt; | first_label_minutes_since_admit &lt;dbl&gt; | acute_to_critical_label_recent &lt;int&gt; | critical_to_acute_label_recent &lt;int&gt; | acute_to_critical_label_max &lt;int&gt; | critical_to_acute_label_max &lt;int&gt; |\n",
       "|---|---|---|---|---|---|---|---|---|---|---|---|---|---|---|---|---|---|\n",
       "| 1 | JCd97296 | 131176042095 | 18290644 | 2016-02-06 22:31:00+00:00 | 0 | 0 | NA | 0 | 0 | 0 | 0 | 0 | 1325 | 0 | 0 | 0 | 0 |\n",
       "| 2 | JCcdc7e1 | 131064611420 | 13865299 | 2015-01-15 21:16:00+00:00 | 1 | 1 |  1 | 1 | 0 | 1 | 1 | 1 |    0 | 0 | 0 | 0 | 0 |\n",
       "| 3 | JCe3e5f4 | 131072326078 | 14296997 | 2015-01-28 11:12:00+00:00 | 1 | 1 |  1 | 1 | 0 | 1 | 1 | 1 |    0 | 0 | 0 | 0 | 0 |\n",
       "| 4 | JCdcfce9 | 131178712824 | 18633398 | 2016-03-04 17:01:00+00:00 | 1 | 1 |  1 | 1 | 0 | 1 | 1 | 1 |    0 | 0 | 0 | 0 | 0 |\n",
       "| 5 | JCdaaaa6 | 131211945620 | 22773101 | 2016-12-07 22:17:00+00:00 | 0 | 0 |  0 | 1 | 0 | 0 | 0 | 0 |    0 | 0 | 0 | 0 | 0 |\n",
       "| 6 | JCe8840f | 131264906504 | 34995073 | 2019-02-14 22:22:00+00:00 | 0 | 0 |  0 | 1 | 0 | 0 | 0 | 0 |    0 | 0 | 0 | 0 | 0 |\n",
       "\n"
      ],
      "text/plain": [
       "  anon_id  pat_enc_csn_id_coded inpatient_data_id_coded\n",
       "1 JCd97296 131176042095         18290644               \n",
       "2 JCcdc7e1 131064611420         13865299               \n",
       "3 JCe3e5f4 131072326078         14296997               \n",
       "4 JCdcfce9 131178712824         18633398               \n",
       "5 JCdaaaa6 131211945620         22773101               \n",
       "6 JCe8840f 131264906504         34995073               \n",
       "  admit_time                label_max24 label_24hr_recent admit_label\n",
       "1 2016-02-06 22:31:00+00:00 0           0                 NA         \n",
       "2 2015-01-15 21:16:00+00:00 1           1                  1         \n",
       "3 2015-01-28 11:12:00+00:00 1           1                  1         \n",
       "4 2016-03-04 17:01:00+00:00 1           1                  1         \n",
       "5 2016-12-07 22:17:00+00:00 0           0                  0         \n",
       "6 2019-02-14 22:22:00+00:00 0           0                  0         \n",
       "  has_admit_label died_within_24hrs death_24hr_max_label\n",
       "1 0               0                 0                   \n",
       "2 1               0                 1                   \n",
       "3 1               0                 1                   \n",
       "4 1               0                 1                   \n",
       "5 1               0                 0                   \n",
       "6 1               0                 0                   \n",
       "  death_24hr_recent_label first_label first_label_minutes_since_admit\n",
       "1 0                       0           1325                           \n",
       "2 1                       1              0                           \n",
       "3 1                       1              0                           \n",
       "4 1                       1              0                           \n",
       "5 0                       0              0                           \n",
       "6 0                       0              0                           \n",
       "  acute_to_critical_label_recent critical_to_acute_label_recent\n",
       "1 0                              0                             \n",
       "2 0                              0                             \n",
       "3 0                              0                             \n",
       "4 0                              0                             \n",
       "5 0                              0                             \n",
       "6 0                              0                             \n",
       "  acute_to_critical_label_max critical_to_acute_label_max\n",
       "1 0                           0                          \n",
       "2 0                           0                          \n",
       "3 0                           0                          \n",
       "4 0                           0                          \n",
       "5 0                           0                          \n",
       "6 0                           0                          "
      ]
     },
     "metadata": {},
     "output_type": "display_data"
    }
   ],
   "source": [
    "cohort <- bind_rows(cohort0, cohort6)\n",
    "nrow(cohort)\n",
    "nrow(cohort %>% select(anon_id) %>% distinct()) # 60464\n",
    "nrow(cohort %>% select(pat_enc_csn_id_coded) %>% distinct()) # 60464\n",
    "nrow(cohort %>% select(anon_id, pat_enc_csn_id_coded) %>% distinct()) # 60464\n",
    "head(cohort)"
   ]
  },
  {
   "cell_type": "code",
   "execution_count": 8,
   "id": "f4c21701",
   "metadata": {},
   "outputs": [
    {
     "data": {
      "text/plain": [
       "   anon_id          pat_enc_csn_id_coded inpatient_data_id_coded\n",
       " Length:60464       Min.   :1.311e+11    Min.   :13616753       \n",
       " Class :character   1st Qu.:1.312e+11    1st Qu.:22754408       \n",
       " Mode  :character   Median :1.313e+11    Median :32943195       \n",
       "                    Mean   :1.312e+11    Mean   :37505576       \n",
       "                    3rd Qu.:1.313e+11    3rd Qu.:54331357       \n",
       "                    Max.   :1.313e+11    Max.   :73231043       \n",
       "                                                                \n",
       "  admit_time         label_max24     label_24hr_recent  admit_label    \n",
       " Length:60464       Min.   :0.0000   Min.   :0.0000    Min.   :0.0000  \n",
       " Class :character   1st Qu.:0.0000   1st Qu.:0.0000    1st Qu.:0.0000  \n",
       " Mode  :character   Median :0.0000   Median :0.0000    Median :0.0000  \n",
       "                    Mean   :0.1352   Mean   :0.0949    Mean   :0.1086  \n",
       "                    3rd Qu.:0.0000   3rd Qu.:0.0000    3rd Qu.:0.0000  \n",
       "                    Max.   :1.0000   Max.   :1.0000    Max.   :1.0000  \n",
       "                                                       NA's   :765     \n",
       " has_admit_label  died_within_24hrs   death_24hr_max_label\n",
       " Min.   :0.0000   Min.   :0.0000000   Min.   :0.0000      \n",
       " 1st Qu.:1.0000   1st Qu.:0.0000000   1st Qu.:0.0000      \n",
       " Median :1.0000   Median :0.0000000   Median :0.0000      \n",
       " Mean   :0.9873   Mean   :0.0008766   Mean   :0.1355      \n",
       " 3rd Qu.:1.0000   3rd Qu.:0.0000000   3rd Qu.:0.0000      \n",
       " Max.   :1.0000   Max.   :1.0000000   Max.   :1.0000      \n",
       "                                                          \n",
       " death_24hr_recent_label  first_label    first_label_minutes_since_admit\n",
       " Min.   :0.00000         Min.   :0.000   Min.   :   0.000               \n",
       " 1st Qu.:0.00000         1st Qu.:0.000   1st Qu.:   0.000               \n",
       " Median :0.00000         Median :0.000   Median :   0.000               \n",
       " Mean   :0.09521         Mean   :0.109   Mean   :   2.499               \n",
       " 3rd Qu.:0.00000         3rd Qu.:0.000   3rd Qu.:   0.000               \n",
       " Max.   :1.00000         Max.   :1.000   Max.   :1411.000               \n",
       "                                                                        \n",
       " acute_to_critical_label_recent critical_to_acute_label_recent\n",
       " Min.   :0.00000                Min.   :0.00000               \n",
       " 1st Qu.:0.00000                1st Qu.:0.00000               \n",
       " Median :0.00000                Median :0.00000               \n",
       " Mean   :0.02157                Mean   :0.03533               \n",
       " 3rd Qu.:0.00000                3rd Qu.:0.00000               \n",
       " Max.   :1.00000                Max.   :1.00000               \n",
       "                                                              \n",
       " acute_to_critical_label_max critical_to_acute_label_max\n",
       " Min.   :0.00000             Min.   :0                  \n",
       " 1st Qu.:0.00000             1st Qu.:0                  \n",
       " Median :0.00000             Median :0                  \n",
       " Mean   :0.02651             Mean   :0                  \n",
       " 3rd Qu.:0.00000             3rd Qu.:0                  \n",
       " Max.   :1.00000             Max.   :0                  \n",
       "                                                        "
      ]
     },
     "metadata": {},
     "output_type": "display_data"
    }
   ],
   "source": [
    "summary(cohort)"
   ]
  },
  {
   "cell_type": "code",
   "execution_count": 9,
   "id": "d3aef171",
   "metadata": {},
   "outputs": [
    {
     "data": {
      "text/plain": [
       "   anon_id          pat_enc_csn_id_coded inpatient_data_id_coded\n",
       " Length:16484       Min.   :1.313e+11    Min.   :51964995       \n",
       " Class :character   1st Qu.:1.313e+11    1st Qu.:57273662       \n",
       " Mode  :character   Median :1.313e+11    Median :62306884       \n",
       "                    Mean   :1.313e+11    Mean   :62534719       \n",
       "                    3rd Qu.:1.313e+11    3rd Qu.:67813306       \n",
       "                    Max.   :1.313e+11    Max.   :73231043       \n",
       "                                                                \n",
       "  admit_time         label_max24     label_24hr_recent  admit_label   \n",
       " Length:16484       Min.   :0.0000   Min.   :0.00000   Min.   :0.000  \n",
       " Class :character   1st Qu.:0.0000   1st Qu.:0.00000   1st Qu.:0.000  \n",
       " Mode  :character   Median :0.0000   Median :0.00000   Median :0.000  \n",
       "                    Mean   :0.1349   Mean   :0.09597   Mean   :0.105  \n",
       "                    3rd Qu.:0.0000   3rd Qu.:0.00000   3rd Qu.:0.000  \n",
       "                    Max.   :1.0000   Max.   :1.00000   Max.   :1.000  \n",
       "                                                       NA's   :57     \n",
       " has_admit_label  died_within_24hrs  death_24hr_max_label\n",
       " Min.   :0.0000   Min.   :0.000000   Min.   :0.0000      \n",
       " 1st Qu.:1.0000   1st Qu.:0.000000   1st Qu.:0.0000      \n",
       " Median :1.0000   Median :0.000000   Median :0.0000      \n",
       " Mean   :0.9965   Mean   :0.002002   Mean   :0.1355      \n",
       " 3rd Qu.:1.0000   3rd Qu.:0.000000   3rd Qu.:0.0000      \n",
       " Max.   :1.0000   Max.   :1.000000   Max.   :1.0000      \n",
       "                                                         \n",
       " death_24hr_recent_label  first_label     first_label_minutes_since_admit\n",
       " Min.   :0.00000         Min.   :0.0000   Min.   :  0.0000               \n",
       " 1st Qu.:0.00000         1st Qu.:0.0000   1st Qu.:  0.0000               \n",
       " Median :0.00000         Median :0.0000   Median :  0.0000               \n",
       " Mean   :0.09664         Mean   :0.1062   Mean   :  0.1512               \n",
       " 3rd Qu.:0.00000         3rd Qu.:0.0000   3rd Qu.:  0.0000               \n",
       " Max.   :1.00000         Max.   :1.0000   Max.   :370.0000               \n",
       "                                                                         \n",
       " acute_to_critical_label_recent critical_to_acute_label_recent\n",
       " Min.   :0.00000                Min.   :0.00000               \n",
       " 1st Qu.:0.00000                1st Qu.:0.00000               \n",
       " Median :0.00000                Median :0.00000               \n",
       " Mean   :0.02378                Mean   :0.03331               \n",
       " 3rd Qu.:0.00000                3rd Qu.:0.00000               \n",
       " Max.   :1.00000                Max.   :1.00000               \n",
       "                                                              \n",
       " acute_to_critical_label_max critical_to_acute_label_max\n",
       " Min.   :0.0000              Min.   :0                  \n",
       " 1st Qu.:0.0000              1st Qu.:0                  \n",
       " Median :0.0000              Median :0                  \n",
       " Mean   :0.0293              Mean   :0                  \n",
       " 3rd Qu.:0.0000              3rd Qu.:0                  \n",
       " Max.   :1.0000              Max.   :0                  \n",
       "                                                        "
      ]
     },
     "metadata": {},
     "output_type": "display_data"
    }
   ],
   "source": [
    "summary(cohort6)"
   ]
  },
  {
   "cell_type": "code",
   "execution_count": 12,
   "id": "ef1d485b",
   "metadata": {},
   "outputs": [
    {
     "data": {
      "text/html": [
       "60464"
      ],
      "text/latex": [
       "60464"
      ],
      "text/markdown": [
       "60464"
      ],
      "text/plain": [
       "[1] 60464"
      ]
     },
     "metadata": {},
     "output_type": "display_data"
    },
    {
     "data": {
      "text/html": [
       "16484"
      ],
      "text/latex": [
       "16484"
      ],
      "text/markdown": [
       "16484"
      ],
      "text/plain": [
       "[1] 16484"
      ]
     },
     "metadata": {},
     "output_type": "display_data"
    }
   ],
   "source": [
    "nrow(cohort)\n",
    "nrow(cohort6)"
   ]
  },
  {
   "cell_type": "code",
   "execution_count": 14,
   "id": "9eee6f9a",
   "metadata": {},
   "outputs": [],
   "source": [
    "write.csv(cohort6, file = file.path(valdir, \"6_7_cohort4.csv\"), row.names=FALSE) \n",
    "write.csv(cohort, file = file.path(valdir, \"6_7_cohort4_all.csv\"), row.names=FALSE) "
   ]
  }
 ],
 "metadata": {
  "environment": {
   "name": "r-cpu.4-0.m71",
   "type": "gcloud",
   "uri": "gcr.io/deeplearning-platform-release/r-cpu.4-0:m71"
  },
  "kernelspec": {
   "display_name": "R",
   "language": "R",
   "name": "ir"
  },
  "language_info": {
   "codemirror_mode": "r",
   "file_extension": ".r",
   "mimetype": "text/x-r-source",
   "name": "R",
   "pygments_lexer": "r",
   "version": "4.1.0"
  }
 },
 "nbformat": 4,
 "nbformat_minor": 5
}
