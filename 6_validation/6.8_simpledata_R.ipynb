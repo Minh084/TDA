{
 "cells": [
  {
   "cell_type": "markdown",
   "metadata": {},
   "source": [
    "## Descriptions:\n",
    "WE DON'T USE SIMPLE DATA IN THIS PROJECT -- can disregard this notebook\n",
    "\n",
    "Combine all features with vital summary and labels to create the simple dataset if needed\n",
    "\n",
    "**Inputs**:  \n",
    "- `6_5_coh3_vital_stats` contains all vital related features\n",
    "- `6_8_coh3_imputedHWESI` contains all demo, imputed HW and ESI\n",
    "- merge with `6_7_cohort4` -- cohort with labels (and labs) to be consistent with the complex data\n",
    "\n",
    "**Outputs**: \n",
    "- `6_8_coh4_simpledata`: in *wide* format"
   ]
  },
  {
   "cell_type": "markdown",
   "metadata": {},
   "source": [
    "### Importing R libraries"
   ]
  },
  {
   "cell_type": "code",
   "execution_count": 1,
   "metadata": {
    "ExecuteTime": {
     "end_time": "2020-05-21T00:38:06.078240Z",
     "start_time": "2020-05-21T00:38:02.778Z"
    }
   },
   "outputs": [
    {
     "name": "stderr",
     "output_type": "stream",
     "text": [
      "── \u001b[1mAttaching packages\u001b[22m ─────────────────────────────────────── tidyverse 1.3.1 ──\n",
      "\n",
      "\u001b[32m✔\u001b[39m \u001b[34mggplot2\u001b[39m 3.3.3     \u001b[32m✔\u001b[39m \u001b[34mpurrr  \u001b[39m 0.3.4\n",
      "\u001b[32m✔\u001b[39m \u001b[34mtibble \u001b[39m 3.1.2     \u001b[32m✔\u001b[39m \u001b[34mdplyr  \u001b[39m 1.0.6\n",
      "\u001b[32m✔\u001b[39m \u001b[34mtidyr  \u001b[39m 1.1.3     \u001b[32m✔\u001b[39m \u001b[34mstringr\u001b[39m 1.4.0\n",
      "\u001b[32m✔\u001b[39m \u001b[34mreadr  \u001b[39m 1.4.0     \u001b[32m✔\u001b[39m \u001b[34mforcats\u001b[39m 0.5.1\n",
      "\n",
      "── \u001b[1mConflicts\u001b[22m ────────────────────────────────────────── tidyverse_conflicts() ──\n",
      "\u001b[31m✖\u001b[39m \u001b[34mdplyr\u001b[39m::\u001b[32mfilter()\u001b[39m masks \u001b[34mstats\u001b[39m::filter()\n",
      "\u001b[31m✖\u001b[39m \u001b[34mdplyr\u001b[39m::\u001b[32mlag()\u001b[39m    masks \u001b[34mstats\u001b[39m::lag()\n",
      "\n",
      "\n",
      "Attaching package: ‘lubridate’\n",
      "\n",
      "\n",
      "The following objects are masked from ‘package:base’:\n",
      "\n",
      "    date, intersect, setdiff, union\n",
      "\n",
      "\n"
     ]
    }
   ],
   "source": [
    "library(bigrquery)  # to query STARR-OMOP (stored in BigQuery) using SQL\n",
    "library(tidyverse)\n",
    "library(lubridate)\n",
    "# library(mice)\n",
    "# library(VIM) # for missing data plot\n",
    "\n",
    "# library(data.table)\n",
    "# library(Matrix)\n",
    "# library(caret) # import this before glmnet to avoid rlang version problem\n",
    "# library(glmnet)\n",
    "# library(bit64)\n",
    "\n",
    "# library(slam)\n",
    "# library(mtools) for one hot coder, not available on Nero or use caret or tidyr\n",
    "options(repr.matrix.max.rows=250, repr.matrix.max.cols=30)"
   ]
  },
  {
   "cell_type": "markdown",
   "metadata": {},
   "source": [
    "### Get the dataset for simple models:"
   ]
  },
  {
   "cell_type": "code",
   "execution_count": 4,
   "metadata": {},
   "outputs": [
    {
     "data": {
      "text/html": [
       "16704"
      ],
      "text/latex": [
       "16704"
      ],
      "text/markdown": [
       "16704"
      ],
      "text/plain": [
       "[1] 16704"
      ]
     },
     "metadata": {},
     "output_type": "display_data"
    },
    {
     "data": {
      "text/html": [
       "60464"
      ],
      "text/latex": [
       "60464"
      ],
      "text/markdown": [
       "60464"
      ],
      "text/plain": [
       "[1] 60464"
      ]
     },
     "metadata": {},
     "output_type": "display_data"
    },
    {
     "data": {
      "text/html": [
       "16484"
      ],
      "text/latex": [
       "16484"
      ],
      "text/markdown": [
       "16484"
      ],
      "text/plain": [
       "[1] 16484"
      ]
     },
     "metadata": {},
     "output_type": "display_data"
    }
   ],
   "source": [
    "# read inputs\n",
    "datadir6 = \"../../DataTD/validation\"\n",
    "valdir = \"../../OutputTD/6_validation\"\n",
    "\n",
    "vital_stats <- read.csv(file.path(valdir, '6_5_coh3_vital_stats.csv'))\n",
    "nrow(vital_stats) #44258\n",
    "\n",
    "cohort_imp <- read.csv(file.path(valdir, '6_8_coh4_all_imputedHWESI.csv'))\n",
    "nrow(cohort_imp) #44258\n",
    "\n",
    "cohort <- read.csv(file.path(valdir, '6_7_cohort4.csv')) #41366\n",
    "nrow(cohort)"
   ]
  },
  {
   "cell_type": "code",
   "execution_count": null,
   "metadata": {},
   "outputs": [],
   "source": [
    "sum(!vital_stats$pat_enc_csn_id_coded %in% cohort_imp$pat_enc_csn_id_coded)\n",
    "length(setdiff(cohort$pat_enc_csn_id_coded, cohort_imp$pat_enc_csn_id_coded))\n",
    "length(setdiff(cohort$pat_enc_csn_id_coded, vital_stats$pat_enc_csn_id_coded))\n",
    "\n",
    "head(vital_stats, n=1)\n",
    "head(cohort_imp, n=1)\n",
    "head(cohort, n=1)"
   ]
  },
  {
   "cell_type": "code",
   "execution_count": null,
   "metadata": {},
   "outputs": [],
   "source": [
    "vital_stats <- vital_stats %>% #mutate(admit_time = ymd_hms(admit_time), label_max24 = label) %>%\n",
    "                select(-inpatient_data_id_coded, -admit_time, -label)\n",
    "cohort_imp <- cohort_imp %>% #mutate(admit_time = ymd_hms(admit_time), label_max24 = label) %>%\n",
    "                 select(-inpatient_data_id_coded, -admit_time, -label)\n",
    "# cohort <- cohort %>% mutate(admit_time = ymd_hms(admit_time))"
   ]
  },
  {
   "cell_type": "code",
   "execution_count": null,
   "metadata": {},
   "outputs": [],
   "source": [
    "data_simple <- cohort %>% select(anon_id, pat_enc_csn_id_coded, first_label, death_24hr_recent_label) %>%\n",
    "                left_join(cohort_imp) %>% left_join(vital_stats) # left_join both, otherwise if full_join, it will retain all rows in vitals\n",
    "dim(data_simple)\n",
    "nrow(data_simple %>% select(pat_enc_csn_id_coded) %>% distinct())\n",
    "colnames(data_simple) #41366"
   ]
  },
  {
   "cell_type": "code",
   "execution_count": null,
   "metadata": {},
   "outputs": [],
   "source": [
    "summary(data_simple)"
   ]
  },
  {
   "cell_type": "code",
   "execution_count": null,
   "metadata": {},
   "outputs": [],
   "source": [
    "# write.csv(cohort_final, file.path(datadir, 'cohort_final.csv'), row.names = FALSE)\n",
    "write.csv(data_simple, file.path(valdir, \"6_8_coh4_simpledata.csv\"), row.names=FALSE)"
   ]
  },
  {
   "cell_type": "code",
   "execution_count": null,
   "metadata": {},
   "outputs": [],
   "source": []
  }
 ],
 "metadata": {
  "environment": {
   "name": "r-cpu.4-0.m71",
   "type": "gcloud",
   "uri": "gcr.io/deeplearning-platform-release/r-cpu.4-0:m71"
  },
  "kernelspec": {
   "display_name": "R",
   "language": "R",
   "name": "ir"
  },
  "language_info": {
   "codemirror_mode": "r",
   "file_extension": ".r",
   "mimetype": "text/x-r-source",
   "name": "R",
   "pygments_lexer": "r",
   "version": "4.1.0"
  },
  "toc": {
   "base_numbering": 1,
   "nav_menu": {},
   "number_sections": true,
   "sideBar": true,
   "skip_h1_title": false,
   "title_cell": "Table of Contents",
   "title_sidebar": "Contents",
   "toc_cell": false,
   "toc_position": {},
   "toc_section_display": true,
   "toc_window_display": false
  },
  "varInspector": {
   "cols": {
    "lenName": 16,
    "lenType": 16,
    "lenVar": 40
   },
   "kernels_config": {
    "python": {
     "delete_cmd_postfix": "",
     "delete_cmd_prefix": "del ",
     "library": "var_list.py",
     "varRefreshCmd": "print(var_dic_list())"
    },
    "r": {
     "delete_cmd_postfix": ") ",
     "delete_cmd_prefix": "rm(",
     "library": "var_list.r",
     "varRefreshCmd": "cat(var_dic_list()) "
    }
   },
   "types_to_exclude": [
    "module",
    "function",
    "builtin_function_or_method",
    "instance",
    "_Feature"
   ],
   "window_display": false
  }
 },
 "nbformat": 4,
 "nbformat_minor": 4
}
