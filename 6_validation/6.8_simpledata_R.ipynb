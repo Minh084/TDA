{
 "cells": [
  {
   "cell_type": "markdown",
   "metadata": {},
   "source": [
    "## Descriptions:\n",
    "WE DON'T USE SIMPLE DATA IN THIS PROJECT -- can disregard this notebook\n",
    "\n",
    "Combine all features with vital summary and labels to create the simple dataset if needed\n",
    "\n",
    "**Inputs**:  \n",
    "- `6_5_coh3_vital_stats` contains all vital related features\n",
    "- `6_7_coh3_imputedHWESI` contains all demo, imputed HW and ESI\n",
    "- merge with `6_8_0_cohort4` -- cohort with labels (and labs) to be consistent with the complex data\n",
    "\n",
    "**Outputs**: \n",
    "- `6_8_coh4_simpledata`: in *wide* format"
   ]
  },
  {
   "cell_type": "markdown",
   "metadata": {},
   "source": [
    "### Importing R libraries"
   ]
  },
  {
   "cell_type": "code",
   "execution_count": 1,
   "metadata": {
    "ExecuteTime": {
     "end_time": "2020-05-21T00:38:06.078240Z",
     "start_time": "2020-05-21T00:38:02.778Z"
    }
   },
   "outputs": [
    {
     "name": "stderr",
     "output_type": "stream",
     "text": [
      "── \u001b[1mAttaching packages\u001b[22m ─────────────────────────────────────── tidyverse 1.3.1 ──\n",
      "\n",
      "\u001b[32m✔\u001b[39m \u001b[34mggplot2\u001b[39m 3.3.3     \u001b[32m✔\u001b[39m \u001b[34mpurrr  \u001b[39m 0.3.4\n",
      "\u001b[32m✔\u001b[39m \u001b[34mtibble \u001b[39m 3.1.2     \u001b[32m✔\u001b[39m \u001b[34mdplyr  \u001b[39m 1.0.6\n",
      "\u001b[32m✔\u001b[39m \u001b[34mtidyr  \u001b[39m 1.1.3     \u001b[32m✔\u001b[39m \u001b[34mstringr\u001b[39m 1.4.0\n",
      "\u001b[32m✔\u001b[39m \u001b[34mreadr  \u001b[39m 1.4.0     \u001b[32m✔\u001b[39m \u001b[34mforcats\u001b[39m 0.5.1\n",
      "\n",
      "── \u001b[1mConflicts\u001b[22m ────────────────────────────────────────── tidyverse_conflicts() ──\n",
      "\u001b[31m✖\u001b[39m \u001b[34mdplyr\u001b[39m::\u001b[32mfilter()\u001b[39m masks \u001b[34mstats\u001b[39m::filter()\n",
      "\u001b[31m✖\u001b[39m \u001b[34mdplyr\u001b[39m::\u001b[32mlag()\u001b[39m    masks \u001b[34mstats\u001b[39m::lag()\n",
      "\n",
      "\n",
      "Attaching package: ‘lubridate’\n",
      "\n",
      "\n",
      "The following objects are masked from ‘package:base’:\n",
      "\n",
      "    date, intersect, setdiff, union\n",
      "\n",
      "\n"
     ]
    }
   ],
   "source": [
    "library(bigrquery)  # to query STARR-OMOP (stored in BigQuery) using SQL\n",
    "library(tidyverse)\n",
    "library(lubridate)\n",
    "# library(mice)\n",
    "# library(VIM) # for missing data plot\n",
    "\n",
    "# library(data.table)\n",
    "# library(Matrix)\n",
    "# library(caret) # import this before glmnet to avoid rlang version problem\n",
    "# library(glmnet)\n",
    "# library(bit64)\n",
    "\n",
    "# library(slam)\n",
    "# library(mtools) for one hot coder, not available on Nero or use caret or tidyr\n",
    "options(repr.matrix.max.rows=250, repr.matrix.max.cols=30)"
   ]
  },
  {
   "cell_type": "markdown",
   "metadata": {},
   "source": [
    "### Get the dataset for simple models:"
   ]
  },
  {
   "cell_type": "code",
   "execution_count": 2,
   "metadata": {},
   "outputs": [
    {
     "data": {
      "text/html": [
       "16704"
      ],
      "text/latex": [
       "16704"
      ],
      "text/markdown": [
       "16704"
      ],
      "text/plain": [
       "[1] 16704"
      ]
     },
     "metadata": {},
     "output_type": "display_data"
    },
    {
     "data": {
      "text/html": [
       "16704"
      ],
      "text/latex": [
       "16704"
      ],
      "text/markdown": [
       "16704"
      ],
      "text/plain": [
       "[1] 16704"
      ]
     },
     "metadata": {},
     "output_type": "display_data"
    },
    {
     "data": {
      "text/html": [
       "16700"
      ],
      "text/latex": [
       "16700"
      ],
      "text/markdown": [
       "16700"
      ],
      "text/plain": [
       "[1] 16700"
      ]
     },
     "metadata": {},
     "output_type": "display_data"
    }
   ],
   "source": [
    "# read inputs\n",
    "datadir6 = \"../../DataTD/validation\"\n",
    "valdir = \"../../OutputTD/6_validation\"\n",
    "\n",
    "vital_stats <- read.csv(file.path(valdir, '6_5_coh3_vital_stats.csv'))\n",
    "nrow(vital_stats) #44258\n",
    "\n",
    "cohort_imp <- read.csv(file.path(valdir, '6_7_coh3_imputedHWESI.csv'))\n",
    "nrow(cohort_imp) #44258\n",
    "\n",
    "cohort <- read.csv(file.path(valdir, '6_8_0_cohort4.csv')) #41366\n",
    "nrow(cohort)"
   ]
  },
  {
   "cell_type": "code",
   "execution_count": 3,
   "metadata": {},
   "outputs": [
    {
     "data": {
      "text/html": [
       "0"
      ],
      "text/latex": [
       "0"
      ],
      "text/markdown": [
       "0"
      ],
      "text/plain": [
       "[1] 0"
      ]
     },
     "metadata": {},
     "output_type": "display_data"
    },
    {
     "data": {
      "text/html": [
       "0"
      ],
      "text/latex": [
       "0"
      ],
      "text/markdown": [
       "0"
      ],
      "text/plain": [
       "[1] 0"
      ]
     },
     "metadata": {},
     "output_type": "display_data"
    },
    {
     "data": {
      "text/html": [
       "0"
      ],
      "text/latex": [
       "0"
      ],
      "text/markdown": [
       "0"
      ],
      "text/plain": [
       "[1] 0"
      ]
     },
     "metadata": {},
     "output_type": "display_data"
    },
    {
     "data": {
      "text/html": [
       "<table class=\"dataframe\">\n",
       "<caption>A data.frame: 1 × 65</caption>\n",
       "<thead>\n",
       "\t<tr><th></th><th scope=col>anon_id</th><th scope=col>pat_enc_csn_id_coded</th><th scope=col>inpatient_data_id_coded</th><th scope=col>admit_time</th><th scope=col>label</th><th scope=col>DBP_count</th><th scope=col>DBP_first_val</th><th scope=col>DBP_fldiff</th><th scope=col>DBP_IQRx</th><th scope=col>DBP_last_val</th><th scope=col>DBP_madx</th><th scope=col>DBP_maxx</th><th scope=col>DBP_meanx</th><th scope=col>DBP_medianx</th><th scope=col>DBP_minx</th><th scope=col>⋯</th><th scope=col>SBP_minx</th><th scope=col>SBP_mmdiff</th><th scope=col>SBP_sdx</th><th scope=col>Temp_count</th><th scope=col>Temp_first_val</th><th scope=col>Temp_fldiff</th><th scope=col>Temp_IQRx</th><th scope=col>Temp_last_val</th><th scope=col>Temp_madx</th><th scope=col>Temp_maxx</th><th scope=col>Temp_meanx</th><th scope=col>Temp_medianx</th><th scope=col>Temp_minx</th><th scope=col>Temp_mmdiff</th><th scope=col>Temp_sdx</th></tr>\n",
       "\t<tr><th></th><th scope=col>&lt;chr&gt;</th><th scope=col>&lt;dbl&gt;</th><th scope=col>&lt;int&gt;</th><th scope=col>&lt;chr&gt;</th><th scope=col>&lt;int&gt;</th><th scope=col>&lt;int&gt;</th><th scope=col>&lt;int&gt;</th><th scope=col>&lt;int&gt;</th><th scope=col>&lt;dbl&gt;</th><th scope=col>&lt;int&gt;</th><th scope=col>&lt;dbl&gt;</th><th scope=col>&lt;int&gt;</th><th scope=col>&lt;dbl&gt;</th><th scope=col>&lt;dbl&gt;</th><th scope=col>&lt;int&gt;</th><th scope=col>⋯</th><th scope=col>&lt;int&gt;</th><th scope=col>&lt;int&gt;</th><th scope=col>&lt;dbl&gt;</th><th scope=col>&lt;int&gt;</th><th scope=col>&lt;dbl&gt;</th><th scope=col>&lt;dbl&gt;</th><th scope=col>&lt;dbl&gt;</th><th scope=col>&lt;dbl&gt;</th><th scope=col>&lt;dbl&gt;</th><th scope=col>&lt;dbl&gt;</th><th scope=col>&lt;dbl&gt;</th><th scope=col>&lt;dbl&gt;</th><th scope=col>&lt;dbl&gt;</th><th scope=col>&lt;dbl&gt;</th><th scope=col>&lt;dbl&gt;</th></tr>\n",
       "</thead>\n",
       "<tbody>\n",
       "\t<tr><th scope=row>1</th><td>JC1000116</td><td>131295313275</td><td>57868578</td><td>2020-09-29 22:45:00+00:00</td><td>0</td><td>5</td><td>77</td><td>1</td><td>1</td><td>78</td><td>1.4826</td><td>80</td><td>77</td><td>77</td><td>73</td><td>⋯</td><td>97</td><td>23</td><td>9.418068</td><td>2</td><td>36.8</td><td>0</td><td>0.2</td><td>36.8</td><td>0.29652</td><td>37</td><td>36.8</td><td>36.8</td><td>36.6</td><td>0.4</td><td>0.2828427</td></tr>\n",
       "</tbody>\n",
       "</table>\n"
      ],
      "text/latex": [
       "A data.frame: 1 × 65\n",
       "\\begin{tabular}{r|lllllllllllllllllllllllllllllll}\n",
       "  & anon\\_id & pat\\_enc\\_csn\\_id\\_coded & inpatient\\_data\\_id\\_coded & admit\\_time & label & DBP\\_count & DBP\\_first\\_val & DBP\\_fldiff & DBP\\_IQRx & DBP\\_last\\_val & DBP\\_madx & DBP\\_maxx & DBP\\_meanx & DBP\\_medianx & DBP\\_minx & ⋯ & SBP\\_minx & SBP\\_mmdiff & SBP\\_sdx & Temp\\_count & Temp\\_first\\_val & Temp\\_fldiff & Temp\\_IQRx & Temp\\_last\\_val & Temp\\_madx & Temp\\_maxx & Temp\\_meanx & Temp\\_medianx & Temp\\_minx & Temp\\_mmdiff & Temp\\_sdx\\\\\n",
       "  & <chr> & <dbl> & <int> & <chr> & <int> & <int> & <int> & <int> & <dbl> & <int> & <dbl> & <int> & <dbl> & <dbl> & <int> & ⋯ & <int> & <int> & <dbl> & <int> & <dbl> & <dbl> & <dbl> & <dbl> & <dbl> & <dbl> & <dbl> & <dbl> & <dbl> & <dbl> & <dbl>\\\\\n",
       "\\hline\n",
       "\t1 & JC1000116 & 131295313275 & 57868578 & 2020-09-29 22:45:00+00:00 & 0 & 5 & 77 & 1 & 1 & 78 & 1.4826 & 80 & 77 & 77 & 73 & ⋯ & 97 & 23 & 9.418068 & 2 & 36.8 & 0 & 0.2 & 36.8 & 0.29652 & 37 & 36.8 & 36.8 & 36.6 & 0.4 & 0.2828427\\\\\n",
       "\\end{tabular}\n"
      ],
      "text/markdown": [
       "\n",
       "A data.frame: 1 × 65\n",
       "\n",
       "| <!--/--> | anon_id &lt;chr&gt; | pat_enc_csn_id_coded &lt;dbl&gt; | inpatient_data_id_coded &lt;int&gt; | admit_time &lt;chr&gt; | label &lt;int&gt; | DBP_count &lt;int&gt; | DBP_first_val &lt;int&gt; | DBP_fldiff &lt;int&gt; | DBP_IQRx &lt;dbl&gt; | DBP_last_val &lt;int&gt; | DBP_madx &lt;dbl&gt; | DBP_maxx &lt;int&gt; | DBP_meanx &lt;dbl&gt; | DBP_medianx &lt;dbl&gt; | DBP_minx &lt;int&gt; | ⋯ ⋯ | SBP_minx &lt;int&gt; | SBP_mmdiff &lt;int&gt; | SBP_sdx &lt;dbl&gt; | Temp_count &lt;int&gt; | Temp_first_val &lt;dbl&gt; | Temp_fldiff &lt;dbl&gt; | Temp_IQRx &lt;dbl&gt; | Temp_last_val &lt;dbl&gt; | Temp_madx &lt;dbl&gt; | Temp_maxx &lt;dbl&gt; | Temp_meanx &lt;dbl&gt; | Temp_medianx &lt;dbl&gt; | Temp_minx &lt;dbl&gt; | Temp_mmdiff &lt;dbl&gt; | Temp_sdx &lt;dbl&gt; |\n",
       "|---|---|---|---|---|---|---|---|---|---|---|---|---|---|---|---|---|---|---|---|---|---|---|---|---|---|---|---|---|---|---|---|\n",
       "| 1 | JC1000116 | 131295313275 | 57868578 | 2020-09-29 22:45:00+00:00 | 0 | 5 | 77 | 1 | 1 | 78 | 1.4826 | 80 | 77 | 77 | 73 | ⋯ | 97 | 23 | 9.418068 | 2 | 36.8 | 0 | 0.2 | 36.8 | 0.29652 | 37 | 36.8 | 36.8 | 36.6 | 0.4 | 0.2828427 |\n",
       "\n"
      ],
      "text/plain": [
       "  anon_id   pat_enc_csn_id_coded inpatient_data_id_coded\n",
       "1 JC1000116 131295313275         57868578               \n",
       "  admit_time                label DBP_count DBP_first_val DBP_fldiff DBP_IQRx\n",
       "1 2020-09-29 22:45:00+00:00 0     5         77            1          1       \n",
       "  DBP_last_val DBP_madx DBP_maxx DBP_meanx DBP_medianx DBP_minx ⋯ SBP_minx\n",
       "1 78           1.4826   80       77        77          73       ⋯ 97      \n",
       "  SBP_mmdiff SBP_sdx  Temp_count Temp_first_val Temp_fldiff Temp_IQRx\n",
       "1 23         9.418068 2          36.8           0           0.2      \n",
       "  Temp_last_val Temp_madx Temp_maxx Temp_meanx Temp_medianx Temp_minx\n",
       "1 36.8          0.29652   37        36.8       36.8         36.6     \n",
       "  Temp_mmdiff Temp_sdx \n",
       "1 0.4         0.2828427"
      ]
     },
     "metadata": {},
     "output_type": "display_data"
    },
    {
     "data": {
      "text/html": [
       "<table class=\"dataframe\">\n",
       "<caption>A data.frame: 1 × 22</caption>\n",
       "<thead>\n",
       "\t<tr><th></th><th scope=col>anon_id</th><th scope=col>pat_enc_csn_id_coded</th><th scope=col>inpatient_data_id_coded</th><th scope=col>admit_time</th><th scope=col>label</th><th scope=col>ESI_i</th><th scope=col>delta_ESI</th><th scope=col>gender</th><th scope=col>age</th><th scope=col>insurance</th><th scope=col>English</th><th scope=col>Height_i</th><th scope=col>delta_H</th><th scope=col>Weight_i</th><th scope=col>delta_W</th><th scope=col>race.Asian</th><th scope=col>race.Black</th><th scope=col>race.Native.American</th><th scope=col>race.Other</th><th scope=col>race.Pacific.Islander</th><th scope=col>race.Unknown</th><th scope=col>race.White</th></tr>\n",
       "\t<tr><th></th><th scope=col>&lt;chr&gt;</th><th scope=col>&lt;dbl&gt;</th><th scope=col>&lt;int&gt;</th><th scope=col>&lt;chr&gt;</th><th scope=col>&lt;int&gt;</th><th scope=col>&lt;int&gt;</th><th scope=col>&lt;int&gt;</th><th scope=col>&lt;int&gt;</th><th scope=col>&lt;int&gt;</th><th scope=col>&lt;int&gt;</th><th scope=col>&lt;int&gt;</th><th scope=col>&lt;dbl&gt;</th><th scope=col>&lt;int&gt;</th><th scope=col>&lt;dbl&gt;</th><th scope=col>&lt;int&gt;</th><th scope=col>&lt;int&gt;</th><th scope=col>&lt;int&gt;</th><th scope=col>&lt;int&gt;</th><th scope=col>&lt;int&gt;</th><th scope=col>&lt;int&gt;</th><th scope=col>&lt;int&gt;</th><th scope=col>&lt;int&gt;</th></tr>\n",
       "</thead>\n",
       "<tbody>\n",
       "\t<tr><th scope=row>1</th><td>JC1000116</td><td>131295313275</td><td>57868578</td><td>2020-09-29 22:45:00</td><td>0</td><td>3</td><td>0</td><td>1</td><td>44</td><td>1</td><td>0</td><td>154</td><td>0</td><td>73.05</td><td>0</td><td>0</td><td>0</td><td>0</td><td>1</td><td>0</td><td>0</td><td>0</td></tr>\n",
       "</tbody>\n",
       "</table>\n"
      ],
      "text/latex": [
       "A data.frame: 1 × 22\n",
       "\\begin{tabular}{r|llllllllllllllllllllll}\n",
       "  & anon\\_id & pat\\_enc\\_csn\\_id\\_coded & inpatient\\_data\\_id\\_coded & admit\\_time & label & ESI\\_i & delta\\_ESI & gender & age & insurance & English & Height\\_i & delta\\_H & Weight\\_i & delta\\_W & race.Asian & race.Black & race.Native.American & race.Other & race.Pacific.Islander & race.Unknown & race.White\\\\\n",
       "  & <chr> & <dbl> & <int> & <chr> & <int> & <int> & <int> & <int> & <int> & <int> & <int> & <dbl> & <int> & <dbl> & <int> & <int> & <int> & <int> & <int> & <int> & <int> & <int>\\\\\n",
       "\\hline\n",
       "\t1 & JC1000116 & 131295313275 & 57868578 & 2020-09-29 22:45:00 & 0 & 3 & 0 & 1 & 44 & 1 & 0 & 154 & 0 & 73.05 & 0 & 0 & 0 & 0 & 1 & 0 & 0 & 0\\\\\n",
       "\\end{tabular}\n"
      ],
      "text/markdown": [
       "\n",
       "A data.frame: 1 × 22\n",
       "\n",
       "| <!--/--> | anon_id &lt;chr&gt; | pat_enc_csn_id_coded &lt;dbl&gt; | inpatient_data_id_coded &lt;int&gt; | admit_time &lt;chr&gt; | label &lt;int&gt; | ESI_i &lt;int&gt; | delta_ESI &lt;int&gt; | gender &lt;int&gt; | age &lt;int&gt; | insurance &lt;int&gt; | English &lt;int&gt; | Height_i &lt;dbl&gt; | delta_H &lt;int&gt; | Weight_i &lt;dbl&gt; | delta_W &lt;int&gt; | race.Asian &lt;int&gt; | race.Black &lt;int&gt; | race.Native.American &lt;int&gt; | race.Other &lt;int&gt; | race.Pacific.Islander &lt;int&gt; | race.Unknown &lt;int&gt; | race.White &lt;int&gt; |\n",
       "|---|---|---|---|---|---|---|---|---|---|---|---|---|---|---|---|---|---|---|---|---|---|---|\n",
       "| 1 | JC1000116 | 131295313275 | 57868578 | 2020-09-29 22:45:00 | 0 | 3 | 0 | 1 | 44 | 1 | 0 | 154 | 0 | 73.05 | 0 | 0 | 0 | 0 | 1 | 0 | 0 | 0 |\n",
       "\n"
      ],
      "text/plain": [
       "  anon_id   pat_enc_csn_id_coded inpatient_data_id_coded admit_time         \n",
       "1 JC1000116 131295313275         57868578                2020-09-29 22:45:00\n",
       "  label ESI_i delta_ESI gender age insurance English Height_i delta_H Weight_i\n",
       "1 0     3     0         1      44  1         0       154      0       73.05   \n",
       "  delta_W race.Asian race.Black race.Native.American race.Other\n",
       "1 0       0          0          0                    1         \n",
       "  race.Pacific.Islander race.Unknown race.White\n",
       "1 0                     0            0         "
      ]
     },
     "metadata": {},
     "output_type": "display_data"
    },
    {
     "data": {
      "text/html": [
       "<table class=\"dataframe\">\n",
       "<caption>A data.frame: 1 × 18</caption>\n",
       "<thead>\n",
       "\t<tr><th></th><th scope=col>anon_id</th><th scope=col>pat_enc_csn_id_coded</th><th scope=col>inpatient_data_id_coded</th><th scope=col>admit_time</th><th scope=col>label_max24</th><th scope=col>label_24hr_recent</th><th scope=col>admit_label</th><th scope=col>has_admit_label</th><th scope=col>died_within_24hrs</th><th scope=col>death_24hr_max_label</th><th scope=col>death_24hr_recent_label</th><th scope=col>first_label</th><th scope=col>first_label_minutes_since_admit</th><th scope=col>acute_to_critical_label_recent</th><th scope=col>critical_to_acute_label_recent</th><th scope=col>acute_to_critical_label_max</th><th scope=col>critical_to_acute_label_max</th><th scope=col>previous_icu_visit</th></tr>\n",
       "\t<tr><th></th><th scope=col>&lt;chr&gt;</th><th scope=col>&lt;dbl&gt;</th><th scope=col>&lt;int&gt;</th><th scope=col>&lt;chr&gt;</th><th scope=col>&lt;int&gt;</th><th scope=col>&lt;int&gt;</th><th scope=col>&lt;dbl&gt;</th><th scope=col>&lt;int&gt;</th><th scope=col>&lt;int&gt;</th><th scope=col>&lt;int&gt;</th><th scope=col>&lt;int&gt;</th><th scope=col>&lt;dbl&gt;</th><th scope=col>&lt;dbl&gt;</th><th scope=col>&lt;int&gt;</th><th scope=col>&lt;int&gt;</th><th scope=col>&lt;int&gt;</th><th scope=col>&lt;int&gt;</th><th scope=col>&lt;chr&gt;</th></tr>\n",
       "</thead>\n",
       "<tbody>\n",
       "\t<tr><th scope=row>1</th><td>JC1000116</td><td>131295313275</td><td>57868578</td><td>2020-09-29 22:45:00+00:00</td><td>0</td><td>0</td><td>0</td><td>1</td><td>0</td><td>0</td><td>0</td><td>0</td><td>0</td><td>0</td><td>0</td><td>0</td><td>0</td><td>False</td></tr>\n",
       "</tbody>\n",
       "</table>\n"
      ],
      "text/latex": [
       "A data.frame: 1 × 18\n",
       "\\begin{tabular}{r|llllllllllllllllll}\n",
       "  & anon\\_id & pat\\_enc\\_csn\\_id\\_coded & inpatient\\_data\\_id\\_coded & admit\\_time & label\\_max24 & label\\_24hr\\_recent & admit\\_label & has\\_admit\\_label & died\\_within\\_24hrs & death\\_24hr\\_max\\_label & death\\_24hr\\_recent\\_label & first\\_label & first\\_label\\_minutes\\_since\\_admit & acute\\_to\\_critical\\_label\\_recent & critical\\_to\\_acute\\_label\\_recent & acute\\_to\\_critical\\_label\\_max & critical\\_to\\_acute\\_label\\_max & previous\\_icu\\_visit\\\\\n",
       "  & <chr> & <dbl> & <int> & <chr> & <int> & <int> & <dbl> & <int> & <int> & <int> & <int> & <dbl> & <dbl> & <int> & <int> & <int> & <int> & <chr>\\\\\n",
       "\\hline\n",
       "\t1 & JC1000116 & 131295313275 & 57868578 & 2020-09-29 22:45:00+00:00 & 0 & 0 & 0 & 1 & 0 & 0 & 0 & 0 & 0 & 0 & 0 & 0 & 0 & False\\\\\n",
       "\\end{tabular}\n"
      ],
      "text/markdown": [
       "\n",
       "A data.frame: 1 × 18\n",
       "\n",
       "| <!--/--> | anon_id &lt;chr&gt; | pat_enc_csn_id_coded &lt;dbl&gt; | inpatient_data_id_coded &lt;int&gt; | admit_time &lt;chr&gt; | label_max24 &lt;int&gt; | label_24hr_recent &lt;int&gt; | admit_label &lt;dbl&gt; | has_admit_label &lt;int&gt; | died_within_24hrs &lt;int&gt; | death_24hr_max_label &lt;int&gt; | death_24hr_recent_label &lt;int&gt; | first_label &lt;dbl&gt; | first_label_minutes_since_admit &lt;dbl&gt; | acute_to_critical_label_recent &lt;int&gt; | critical_to_acute_label_recent &lt;int&gt; | acute_to_critical_label_max &lt;int&gt; | critical_to_acute_label_max &lt;int&gt; | previous_icu_visit &lt;chr&gt; |\n",
       "|---|---|---|---|---|---|---|---|---|---|---|---|---|---|---|---|---|---|---|\n",
       "| 1 | JC1000116 | 131295313275 | 57868578 | 2020-09-29 22:45:00+00:00 | 0 | 0 | 0 | 1 | 0 | 0 | 0 | 0 | 0 | 0 | 0 | 0 | 0 | False |\n",
       "\n"
      ],
      "text/plain": [
       "  anon_id   pat_enc_csn_id_coded inpatient_data_id_coded\n",
       "1 JC1000116 131295313275         57868578               \n",
       "  admit_time                label_max24 label_24hr_recent admit_label\n",
       "1 2020-09-29 22:45:00+00:00 0           0                 0          \n",
       "  has_admit_label died_within_24hrs death_24hr_max_label\n",
       "1 1               0                 0                   \n",
       "  death_24hr_recent_label first_label first_label_minutes_since_admit\n",
       "1 0                       0           0                              \n",
       "  acute_to_critical_label_recent critical_to_acute_label_recent\n",
       "1 0                              0                             \n",
       "  acute_to_critical_label_max critical_to_acute_label_max previous_icu_visit\n",
       "1 0                           0                           False             "
      ]
     },
     "metadata": {},
     "output_type": "display_data"
    }
   ],
   "source": [
    "sum(!vital_stats$pat_enc_csn_id_coded %in% cohort_imp$pat_enc_csn_id_coded)\n",
    "length(setdiff(cohort$pat_enc_csn_id_coded, cohort_imp$pat_enc_csn_id_coded))\n",
    "length(setdiff(cohort$pat_enc_csn_id_coded, vital_stats$pat_enc_csn_id_coded))\n",
    "\n",
    "head(vital_stats, n=1)\n",
    "head(cohort_imp, n=1)\n",
    "head(cohort, n=1)"
   ]
  },
  {
   "cell_type": "code",
   "execution_count": 4,
   "metadata": {},
   "outputs": [],
   "source": [
    "vital_stats <- vital_stats %>% #mutate(admit_time = ymd_hms(admit_time), label_max24 = label) %>%\n",
    "                select(-inpatient_data_id_coded, -admit_time, -label)\n",
    "cohort_imp <- cohort_imp %>% #mutate(admit_time = ymd_hms(admit_time), label_max24 = label) %>%\n",
    "                 select(-inpatient_data_id_coded, -admit_time, -label)\n",
    "# cohort <- cohort %>% mutate(admit_time = ymd_hms(admit_time))"
   ]
  },
  {
   "cell_type": "code",
   "execution_count": 5,
   "metadata": {},
   "outputs": [
    {
     "name": "stderr",
     "output_type": "stream",
     "text": [
      "Joining, by = c(\"anon_id\", \"pat_enc_csn_id_coded\")\n",
      "\n",
      "Joining, by = c(\"anon_id\", \"pat_enc_csn_id_coded\")\n",
      "\n"
     ]
    },
    {
     "data": {
      "text/html": [
       "<style>\n",
       ".list-inline {list-style: none; margin:0; padding: 0}\n",
       ".list-inline>li {display: inline-block}\n",
       ".list-inline>li:not(:last-child)::after {content: \"\\00b7\"; padding: 0 .5ex}\n",
       "</style>\n",
       "<ol class=list-inline><li>16700</li><li>81</li></ol>\n"
      ],
      "text/latex": [
       "\\begin{enumerate*}\n",
       "\\item 16700\n",
       "\\item 81\n",
       "\\end{enumerate*}\n"
      ],
      "text/markdown": [
       "1. 16700\n",
       "2. 81\n",
       "\n",
       "\n"
      ],
      "text/plain": [
       "[1] 16700    81"
      ]
     },
     "metadata": {},
     "output_type": "display_data"
    },
    {
     "data": {
      "text/html": [
       "16700"
      ],
      "text/latex": [
       "16700"
      ],
      "text/markdown": [
       "16700"
      ],
      "text/plain": [
       "[1] 16700"
      ]
     },
     "metadata": {},
     "output_type": "display_data"
    },
    {
     "data": {
      "text/html": [
       "<style>\n",
       ".list-inline {list-style: none; margin:0; padding: 0}\n",
       ".list-inline>li {display: inline-block}\n",
       ".list-inline>li:not(:last-child)::after {content: \"\\00b7\"; padding: 0 .5ex}\n",
       "</style>\n",
       "<ol class=list-inline><li>'anon_id'</li><li>'pat_enc_csn_id_coded'</li><li>'first_label'</li><li>'death_24hr_recent_label'</li><li>'ESI_i'</li><li>'delta_ESI'</li><li>'gender'</li><li>'age'</li><li>'insurance'</li><li>'English'</li><li>'Height_i'</li><li>'delta_H'</li><li>'Weight_i'</li><li>'delta_W'</li><li>'race.Asian'</li><li>'race.Black'</li><li>'race.Native.American'</li><li>'race.Other'</li><li>'race.Pacific.Islander'</li><li>'race.Unknown'</li><li>'race.White'</li><li>'DBP_count'</li><li>'DBP_first_val'</li><li>'DBP_fldiff'</li><li>'DBP_IQRx'</li><li>'DBP_last_val'</li><li>'DBP_madx'</li><li>'DBP_maxx'</li><li>'DBP_meanx'</li><li>'DBP_medianx'</li><li>'DBP_minx'</li><li>'DBP_mmdiff'</li><li>'DBP_sdx'</li><li>'Pulse_count'</li><li>'Pulse_first_val'</li><li>'Pulse_fldiff'</li><li>'Pulse_IQRx'</li><li>'Pulse_last_val'</li><li>'Pulse_madx'</li><li>'Pulse_maxx'</li><li>'Pulse_meanx'</li><li>'Pulse_medianx'</li><li>'Pulse_minx'</li><li>'Pulse_mmdiff'</li><li>'Pulse_sdx'</li><li>'RR_count'</li><li>'RR_first_val'</li><li>'RR_fldiff'</li><li>'RR_IQRx'</li><li>'RR_last_val'</li><li>'RR_madx'</li><li>'RR_maxx'</li><li>'RR_meanx'</li><li>'RR_medianx'</li><li>'RR_minx'</li><li>'RR_mmdiff'</li><li>'RR_sdx'</li><li>'SBP_count'</li><li>'SBP_first_val'</li><li>'SBP_fldiff'</li><li>'SBP_IQRx'</li><li>'SBP_last_val'</li><li>'SBP_madx'</li><li>'SBP_maxx'</li><li>'SBP_meanx'</li><li>'SBP_medianx'</li><li>'SBP_minx'</li><li>'SBP_mmdiff'</li><li>'SBP_sdx'</li><li>'Temp_count'</li><li>'Temp_first_val'</li><li>'Temp_fldiff'</li><li>'Temp_IQRx'</li><li>'Temp_last_val'</li><li>'Temp_madx'</li><li>'Temp_maxx'</li><li>'Temp_meanx'</li><li>'Temp_medianx'</li><li>'Temp_minx'</li><li>'Temp_mmdiff'</li><li>'Temp_sdx'</li></ol>\n"
      ],
      "text/latex": [
       "\\begin{enumerate*}\n",
       "\\item 'anon\\_id'\n",
       "\\item 'pat\\_enc\\_csn\\_id\\_coded'\n",
       "\\item 'first\\_label'\n",
       "\\item 'death\\_24hr\\_recent\\_label'\n",
       "\\item 'ESI\\_i'\n",
       "\\item 'delta\\_ESI'\n",
       "\\item 'gender'\n",
       "\\item 'age'\n",
       "\\item 'insurance'\n",
       "\\item 'English'\n",
       "\\item 'Height\\_i'\n",
       "\\item 'delta\\_H'\n",
       "\\item 'Weight\\_i'\n",
       "\\item 'delta\\_W'\n",
       "\\item 'race.Asian'\n",
       "\\item 'race.Black'\n",
       "\\item 'race.Native.American'\n",
       "\\item 'race.Other'\n",
       "\\item 'race.Pacific.Islander'\n",
       "\\item 'race.Unknown'\n",
       "\\item 'race.White'\n",
       "\\item 'DBP\\_count'\n",
       "\\item 'DBP\\_first\\_val'\n",
       "\\item 'DBP\\_fldiff'\n",
       "\\item 'DBP\\_IQRx'\n",
       "\\item 'DBP\\_last\\_val'\n",
       "\\item 'DBP\\_madx'\n",
       "\\item 'DBP\\_maxx'\n",
       "\\item 'DBP\\_meanx'\n",
       "\\item 'DBP\\_medianx'\n",
       "\\item 'DBP\\_minx'\n",
       "\\item 'DBP\\_mmdiff'\n",
       "\\item 'DBP\\_sdx'\n",
       "\\item 'Pulse\\_count'\n",
       "\\item 'Pulse\\_first\\_val'\n",
       "\\item 'Pulse\\_fldiff'\n",
       "\\item 'Pulse\\_IQRx'\n",
       "\\item 'Pulse\\_last\\_val'\n",
       "\\item 'Pulse\\_madx'\n",
       "\\item 'Pulse\\_maxx'\n",
       "\\item 'Pulse\\_meanx'\n",
       "\\item 'Pulse\\_medianx'\n",
       "\\item 'Pulse\\_minx'\n",
       "\\item 'Pulse\\_mmdiff'\n",
       "\\item 'Pulse\\_sdx'\n",
       "\\item 'RR\\_count'\n",
       "\\item 'RR\\_first\\_val'\n",
       "\\item 'RR\\_fldiff'\n",
       "\\item 'RR\\_IQRx'\n",
       "\\item 'RR\\_last\\_val'\n",
       "\\item 'RR\\_madx'\n",
       "\\item 'RR\\_maxx'\n",
       "\\item 'RR\\_meanx'\n",
       "\\item 'RR\\_medianx'\n",
       "\\item 'RR\\_minx'\n",
       "\\item 'RR\\_mmdiff'\n",
       "\\item 'RR\\_sdx'\n",
       "\\item 'SBP\\_count'\n",
       "\\item 'SBP\\_first\\_val'\n",
       "\\item 'SBP\\_fldiff'\n",
       "\\item 'SBP\\_IQRx'\n",
       "\\item 'SBP\\_last\\_val'\n",
       "\\item 'SBP\\_madx'\n",
       "\\item 'SBP\\_maxx'\n",
       "\\item 'SBP\\_meanx'\n",
       "\\item 'SBP\\_medianx'\n",
       "\\item 'SBP\\_minx'\n",
       "\\item 'SBP\\_mmdiff'\n",
       "\\item 'SBP\\_sdx'\n",
       "\\item 'Temp\\_count'\n",
       "\\item 'Temp\\_first\\_val'\n",
       "\\item 'Temp\\_fldiff'\n",
       "\\item 'Temp\\_IQRx'\n",
       "\\item 'Temp\\_last\\_val'\n",
       "\\item 'Temp\\_madx'\n",
       "\\item 'Temp\\_maxx'\n",
       "\\item 'Temp\\_meanx'\n",
       "\\item 'Temp\\_medianx'\n",
       "\\item 'Temp\\_minx'\n",
       "\\item 'Temp\\_mmdiff'\n",
       "\\item 'Temp\\_sdx'\n",
       "\\end{enumerate*}\n"
      ],
      "text/markdown": [
       "1. 'anon_id'\n",
       "2. 'pat_enc_csn_id_coded'\n",
       "3. 'first_label'\n",
       "4. 'death_24hr_recent_label'\n",
       "5. 'ESI_i'\n",
       "6. 'delta_ESI'\n",
       "7. 'gender'\n",
       "8. 'age'\n",
       "9. 'insurance'\n",
       "10. 'English'\n",
       "11. 'Height_i'\n",
       "12. 'delta_H'\n",
       "13. 'Weight_i'\n",
       "14. 'delta_W'\n",
       "15. 'race.Asian'\n",
       "16. 'race.Black'\n",
       "17. 'race.Native.American'\n",
       "18. 'race.Other'\n",
       "19. 'race.Pacific.Islander'\n",
       "20. 'race.Unknown'\n",
       "21. 'race.White'\n",
       "22. 'DBP_count'\n",
       "23. 'DBP_first_val'\n",
       "24. 'DBP_fldiff'\n",
       "25. 'DBP_IQRx'\n",
       "26. 'DBP_last_val'\n",
       "27. 'DBP_madx'\n",
       "28. 'DBP_maxx'\n",
       "29. 'DBP_meanx'\n",
       "30. 'DBP_medianx'\n",
       "31. 'DBP_minx'\n",
       "32. 'DBP_mmdiff'\n",
       "33. 'DBP_sdx'\n",
       "34. 'Pulse_count'\n",
       "35. 'Pulse_first_val'\n",
       "36. 'Pulse_fldiff'\n",
       "37. 'Pulse_IQRx'\n",
       "38. 'Pulse_last_val'\n",
       "39. 'Pulse_madx'\n",
       "40. 'Pulse_maxx'\n",
       "41. 'Pulse_meanx'\n",
       "42. 'Pulse_medianx'\n",
       "43. 'Pulse_minx'\n",
       "44. 'Pulse_mmdiff'\n",
       "45. 'Pulse_sdx'\n",
       "46. 'RR_count'\n",
       "47. 'RR_first_val'\n",
       "48. 'RR_fldiff'\n",
       "49. 'RR_IQRx'\n",
       "50. 'RR_last_val'\n",
       "51. 'RR_madx'\n",
       "52. 'RR_maxx'\n",
       "53. 'RR_meanx'\n",
       "54. 'RR_medianx'\n",
       "55. 'RR_minx'\n",
       "56. 'RR_mmdiff'\n",
       "57. 'RR_sdx'\n",
       "58. 'SBP_count'\n",
       "59. 'SBP_first_val'\n",
       "60. 'SBP_fldiff'\n",
       "61. 'SBP_IQRx'\n",
       "62. 'SBP_last_val'\n",
       "63. 'SBP_madx'\n",
       "64. 'SBP_maxx'\n",
       "65. 'SBP_meanx'\n",
       "66. 'SBP_medianx'\n",
       "67. 'SBP_minx'\n",
       "68. 'SBP_mmdiff'\n",
       "69. 'SBP_sdx'\n",
       "70. 'Temp_count'\n",
       "71. 'Temp_first_val'\n",
       "72. 'Temp_fldiff'\n",
       "73. 'Temp_IQRx'\n",
       "74. 'Temp_last_val'\n",
       "75. 'Temp_madx'\n",
       "76. 'Temp_maxx'\n",
       "77. 'Temp_meanx'\n",
       "78. 'Temp_medianx'\n",
       "79. 'Temp_minx'\n",
       "80. 'Temp_mmdiff'\n",
       "81. 'Temp_sdx'\n",
       "\n",
       "\n"
      ],
      "text/plain": [
       " [1] \"anon_id\"                 \"pat_enc_csn_id_coded\"   \n",
       " [3] \"first_label\"             \"death_24hr_recent_label\"\n",
       " [5] \"ESI_i\"                   \"delta_ESI\"              \n",
       " [7] \"gender\"                  \"age\"                    \n",
       " [9] \"insurance\"               \"English\"                \n",
       "[11] \"Height_i\"                \"delta_H\"                \n",
       "[13] \"Weight_i\"                \"delta_W\"                \n",
       "[15] \"race.Asian\"              \"race.Black\"             \n",
       "[17] \"race.Native.American\"    \"race.Other\"             \n",
       "[19] \"race.Pacific.Islander\"   \"race.Unknown\"           \n",
       "[21] \"race.White\"              \"DBP_count\"              \n",
       "[23] \"DBP_first_val\"           \"DBP_fldiff\"             \n",
       "[25] \"DBP_IQRx\"                \"DBP_last_val\"           \n",
       "[27] \"DBP_madx\"                \"DBP_maxx\"               \n",
       "[29] \"DBP_meanx\"               \"DBP_medianx\"            \n",
       "[31] \"DBP_minx\"                \"DBP_mmdiff\"             \n",
       "[33] \"DBP_sdx\"                 \"Pulse_count\"            \n",
       "[35] \"Pulse_first_val\"         \"Pulse_fldiff\"           \n",
       "[37] \"Pulse_IQRx\"              \"Pulse_last_val\"         \n",
       "[39] \"Pulse_madx\"              \"Pulse_maxx\"             \n",
       "[41] \"Pulse_meanx\"             \"Pulse_medianx\"          \n",
       "[43] \"Pulse_minx\"              \"Pulse_mmdiff\"           \n",
       "[45] \"Pulse_sdx\"               \"RR_count\"               \n",
       "[47] \"RR_first_val\"            \"RR_fldiff\"              \n",
       "[49] \"RR_IQRx\"                 \"RR_last_val\"            \n",
       "[51] \"RR_madx\"                 \"RR_maxx\"                \n",
       "[53] \"RR_meanx\"                \"RR_medianx\"             \n",
       "[55] \"RR_minx\"                 \"RR_mmdiff\"              \n",
       "[57] \"RR_sdx\"                  \"SBP_count\"              \n",
       "[59] \"SBP_first_val\"           \"SBP_fldiff\"             \n",
       "[61] \"SBP_IQRx\"                \"SBP_last_val\"           \n",
       "[63] \"SBP_madx\"                \"SBP_maxx\"               \n",
       "[65] \"SBP_meanx\"               \"SBP_medianx\"            \n",
       "[67] \"SBP_minx\"                \"SBP_mmdiff\"             \n",
       "[69] \"SBP_sdx\"                 \"Temp_count\"             \n",
       "[71] \"Temp_first_val\"          \"Temp_fldiff\"            \n",
       "[73] \"Temp_IQRx\"               \"Temp_last_val\"          \n",
       "[75] \"Temp_madx\"               \"Temp_maxx\"              \n",
       "[77] \"Temp_meanx\"              \"Temp_medianx\"           \n",
       "[79] \"Temp_minx\"               \"Temp_mmdiff\"            \n",
       "[81] \"Temp_sdx\"               "
      ]
     },
     "metadata": {},
     "output_type": "display_data"
    }
   ],
   "source": [
    "data_simple <- cohort %>% select(anon_id, pat_enc_csn_id_coded, first_label, death_24hr_recent_label) %>%\n",
    "                left_join(cohort_imp) %>% left_join(vital_stats) # left_join both, otherwise if full_join, it will retain all rows in vitals\n",
    "dim(data_simple)\n",
    "nrow(data_simple %>% select(pat_enc_csn_id_coded) %>% distinct())\n",
    "colnames(data_simple) #41366"
   ]
  },
  {
   "cell_type": "code",
   "execution_count": 6,
   "metadata": {},
   "outputs": [
    {
     "data": {
      "text/plain": [
       "   anon_id          pat_enc_csn_id_coded  first_label    \n",
       " Length:16700       Min.   :1.313e+11    Min.   :0.0000  \n",
       " Class :character   1st Qu.:1.313e+11    1st Qu.:0.0000  \n",
       " Mode  :character   Median :1.313e+11    Median :0.0000  \n",
       "                    Mean   :1.313e+11    Mean   :0.1064  \n",
       "                    3rd Qu.:1.313e+11    3rd Qu.:0.0000  \n",
       "                    Max.   :1.313e+11    Max.   :1.0000  \n",
       "                                         NA's   :1       \n",
       " death_24hr_recent_label     ESI_i         delta_ESI            gender      \n",
       " Min.   :0.00000         Min.   :1.000   Min.   :0.000000   Min.   :0.0000  \n",
       " 1st Qu.:0.00000         1st Qu.:2.000   1st Qu.:0.000000   1st Qu.:0.0000  \n",
       " Median :0.00000         Median :3.000   Median :0.000000   Median :0.0000  \n",
       " Mean   :0.09677         Mean   :2.558   Mean   :0.005389   Mean   :0.4722  \n",
       " 3rd Qu.:0.00000         3rd Qu.:3.000   3rd Qu.:0.000000   3rd Qu.:1.0000  \n",
       " Max.   :1.00000         Max.   :5.000   Max.   :1.000000   Max.   :1.0000  \n",
       "                                                                            \n",
       "      age           insurance        English          Height_i    \n",
       " Min.   : 18.00   Min.   :0.000   Min.   :0.0000   Min.   :115.0  \n",
       " 1st Qu.: 46.00   1st Qu.:0.000   1st Qu.:1.0000   1st Qu.:160.0  \n",
       " Median : 62.00   Median :0.000   Median :1.0000   Median :168.0  \n",
       " Mean   : 59.67   Mean   :0.428   Mean   :0.8143   Mean   :168.1  \n",
       " 3rd Qu.: 74.00   3rd Qu.:1.000   3rd Qu.:1.0000   3rd Qu.:175.3  \n",
       " Max.   :107.00   Max.   :1.000   Max.   :1.0000   Max.   :213.0  \n",
       "                                                                  \n",
       "    delta_H           Weight_i        delta_W           race.Asian    \n",
       " Min.   :0.00000   Min.   : 25.0   Min.   :0.000000   Min.   :0.0000  \n",
       " 1st Qu.:0.00000   1st Qu.: 61.7   1st Qu.:0.000000   1st Qu.:0.0000  \n",
       " Median :0.00000   Median : 74.0   Median :0.000000   Median :0.0000  \n",
       " Mean   :0.02234   Mean   : 77.6   Mean   :0.001677   Mean   :0.1637  \n",
       " 3rd Qu.:0.00000   3rd Qu.: 89.0   3rd Qu.:0.000000   3rd Qu.:0.0000  \n",
       " Max.   :1.00000   Max.   :322.0   Max.   :1.000000   Max.   :1.0000  \n",
       "                                                                      \n",
       "   race.Black      race.Native.American   race.Other     race.Pacific.Islander\n",
       " Min.   :0.00000   Min.   :0.000000     Min.   :0.0000   Min.   :0.00000      \n",
       " 1st Qu.:0.00000   1st Qu.:0.000000     1st Qu.:0.0000   1st Qu.:0.00000      \n",
       " Median :0.00000   Median :0.000000     Median :0.0000   Median :0.00000      \n",
       " Mean   :0.06413   Mean   :0.003772     Mean   :0.2654   Mean   :0.02114      \n",
       " 3rd Qu.:0.00000   3rd Qu.:0.000000     3rd Qu.:1.0000   3rd Qu.:0.00000      \n",
       " Max.   :1.00000   Max.   :1.000000     Max.   :1.0000   Max.   :1.00000      \n",
       "                                                                              \n",
       "  race.Unknown       race.White       DBP_count      DBP_first_val   \n",
       " Min.   :0.00000   Min.   :0.0000   Min.   : 1.000   Min.   : 12.00  \n",
       " 1st Qu.:0.00000   1st Qu.:0.0000   1st Qu.: 2.000   1st Qu.: 66.00  \n",
       " Median :0.00000   Median :0.0000   Median : 4.000   Median : 77.00  \n",
       " Mean   :0.00497   Mean   :0.4769   Mean   : 4.968   Mean   : 77.59  \n",
       " 3rd Qu.:0.00000   3rd Qu.:1.0000   3rd Qu.: 6.000   3rd Qu.: 88.00  \n",
       " Max.   :1.00000   Max.   :1.0000   Max.   :67.000   Max.   :190.00  \n",
       "                                                                     \n",
       "   DBP_fldiff          DBP_IQRx        DBP_last_val       DBP_madx     \n",
       " Min.   :-137.000   Min.   :  0.000   Min.   : 21.00   Min.   : 0.000  \n",
       " 1st Qu.:  -8.000   1st Qu.:  3.000   1st Qu.: 66.00   1st Qu.: 2.224  \n",
       " Median :   0.000   Median :  6.000   Median : 75.00   Median : 4.448  \n",
       " Mean   :  -1.258   Mean   :  7.319   Mean   : 76.33   Mean   : 6.127  \n",
       " 3rd Qu.:   7.000   3rd Qu.: 10.000   3rd Qu.: 86.00   3rd Qu.: 8.896  \n",
       " Max.   : 129.000   Max.   :108.000   Max.   :165.00   Max.   :82.284  \n",
       "                                                                       \n",
       "    DBP_maxx        DBP_meanx       DBP_medianx        DBP_minx     \n",
       " Min.   : 21.00   Min.   : 21.00   Min.   : 21.00   Min.   : 12.00  \n",
       " 1st Qu.: 75.00   1st Qu.: 67.75   1st Qu.: 67.00   1st Qu.: 59.00  \n",
       " Median : 85.00   Median : 76.45   Median : 76.00   Median : 68.00  \n",
       " Mean   : 86.76   Mean   : 77.00   Mean   : 76.63   Mean   : 68.53  \n",
       " 3rd Qu.: 96.00   3rd Qu.: 85.50   3rd Qu.: 85.50   3rd Qu.: 78.00  \n",
       " Max.   :219.00   Max.   :148.60   Max.   :150.00   Max.   :139.00  \n",
       "                                                                    \n",
       "   DBP_mmdiff        DBP_sdx        Pulse_count     Pulse_first_val \n",
       " Min.   :  0.00   Min.   : 0.000   Min.   :  1.00   Min.   : 18.00  \n",
       " 1st Qu.:  7.00   1st Qu.: 3.536   1st Qu.:  3.00   1st Qu.: 77.00  \n",
       " Median : 15.00   Median : 6.557   Median :  4.00   Median : 91.00  \n",
       " Mean   : 18.23   Mean   : 7.595   Mean   :  5.53   Mean   : 92.66  \n",
       " 3rd Qu.: 25.00   3rd Qu.:10.354   3rd Qu.:  7.00   3rd Qu.:106.00  \n",
       " Max.   :160.00   Max.   :69.296   Max.   :227.00   Max.   :255.00  \n",
       "                                                                    \n",
       "  Pulse_fldiff        Pulse_IQRx      Pulse_last_val     Pulse_madx    \n",
       " Min.   :-170.000   Min.   :  0.000   Min.   : 25.00   Min.   : 0.000  \n",
       " 1st Qu.: -14.000   1st Qu.:  2.500   1st Qu.: 72.00   1st Qu.: 1.483  \n",
       " Median :  -5.000   Median :  5.500   Median : 84.00   Median : 4.448  \n",
       " Mean   :  -7.324   Mean   :  7.182   Mean   : 85.33   Mean   : 5.778  \n",
       " 3rd Qu.:   0.000   3rd Qu.:  9.500   3rd Qu.: 97.00   3rd Qu.: 7.413  \n",
       " Max.   :  94.000   Max.   :170.000   Max.   :180.00   Max.   :84.508  \n",
       "                                                                       \n",
       "   Pulse_maxx     Pulse_meanx     Pulse_medianx      Pulse_minx   \n",
       " Min.   : 32.0   Min.   : 30.20   Min.   : 30.00   Min.   : 18.0  \n",
       " 1st Qu.: 82.0   1st Qu.: 74.86   1st Qu.: 74.00   1st Qu.: 67.0  \n",
       " Median : 95.0   Median : 86.67   Median : 86.00   Median : 78.0  \n",
       " Mean   : 97.2   Mean   : 87.89   Mean   : 87.42   Mean   : 79.8  \n",
       " 3rd Qu.:110.0   3rd Qu.: 99.57   3rd Qu.: 99.00   3rd Qu.: 92.0  \n",
       " Max.   :262.0   Max.   :184.12   Max.   :211.00   Max.   :160.0  \n",
       "                                                                  \n",
       "  Pulse_mmdiff     Pulse_sdx         RR_count        RR_first_val  \n",
       " Min.   :  0.0   Min.   : 0.000   Min.   :  1.000   Min.   : 6.00  \n",
       " 1st Qu.:  6.0   1st Qu.: 3.024   1st Qu.:  2.000   1st Qu.:18.00  \n",
       " Median : 13.0   Median : 5.788   Median :  4.000   Median :18.00  \n",
       " Mean   : 17.4   Mean   : 7.185   Mean   :  5.219   Mean   :19.38  \n",
       " 3rd Qu.: 24.0   3rd Qu.: 9.685   3rd Qu.:  6.000   3rd Qu.:20.00  \n",
       " Max.   :196.0   Max.   :85.067   Max.   :192.000   Max.   :60.00  \n",
       "                                                                   \n",
       "   RR_fldiff           RR_IQRx        RR_last_val       RR_madx      \n",
       " Min.   :-37.0000   Min.   : 0.000   Min.   : 6.00   Min.   : 0.000  \n",
       " 1st Qu.: -3.0000   1st Qu.: 0.500   1st Qu.:16.00   1st Qu.: 0.000  \n",
       " Median :  0.0000   Median : 2.000   Median :18.00   Median : 1.483  \n",
       " Mean   : -0.5131   Mean   : 2.444   Mean   :18.87   Mean   : 1.996  \n",
       " 3rd Qu.:  2.0000   3rd Qu.: 3.500   3rd Qu.:20.00   3rd Qu.: 2.965  \n",
       " Max.   : 36.0000   Max.   :29.000   Max.   :54.00   Max.   :21.498  \n",
       "                                                                     \n",
       "    RR_maxx         RR_meanx       RR_medianx       RR_minx     \n",
       " Min.   : 8.00   Min.   : 8.00   Min.   : 8.00   Min.   : 5.00  \n",
       " 1st Qu.:18.00   1st Qu.:17.00   1st Qu.:17.00   1st Qu.:15.00  \n",
       " Median :20.00   Median :18.17   Median :18.00   Median :16.00  \n",
       " Mean   :22.34   Mean   :19.20   Mean   :19.09   Mean   :16.42  \n",
       " 3rd Qu.:25.00   3rd Qu.:20.50   3rd Qu.:20.00   3rd Qu.:18.00  \n",
       " Max.   :60.00   Max.   :47.60   Max.   :48.00   Max.   :40.00  \n",
       "                                                                \n",
       "   RR_mmdiff          RR_sdx         SBP_count      SBP_first_val\n",
       " Min.   : 0.000   Min.   : 0.000   Min.   : 1.000   Min.   : 46  \n",
       " 1st Qu.: 2.000   1st Qu.: 1.000   1st Qu.: 2.000   1st Qu.:116  \n",
       " Median : 5.000   Median : 2.121   Median : 4.000   Median :132  \n",
       " Mean   : 5.916   Mean   : 2.420   Mean   : 4.968   Mean   :133  \n",
       " 3rd Qu.: 9.000   3rd Qu.: 3.536   3rd Qu.: 6.000   3rd Qu.:148  \n",
       " Max.   :42.000   Max.   :20.506   Max.   :67.000   Max.   :267  \n",
       "                                                                 \n",
       "   SBP_fldiff          SBP_IQRx        SBP_last_val      SBP_madx     \n",
       " Min.   :-128.000   Min.   :  0.000   Min.   : 50.0   Min.   : 0.000  \n",
       " 1st Qu.: -15.000   1st Qu.:  4.000   1st Qu.:113.0   1st Qu.: 2.965  \n",
       " Median :  -2.000   Median :  8.000   Median :127.0   Median : 6.672  \n",
       " Mean   :  -4.302   Mean   :  9.811   Mean   :128.7   Mean   : 8.194  \n",
       " 3rd Qu.:   5.000   3rd Qu.: 13.750   3rd Qu.:142.0   3rd Qu.:11.861  \n",
       " Max.   : 100.000   Max.   :122.000   Max.   :244.0   Max.   :68.200  \n",
       "                                                                      \n",
       "    SBP_maxx       SBP_meanx       SBP_medianx       SBP_minx    \n",
       " Min.   : 65.0   Min.   : 63.14   Min.   : 62.5   Min.   : 37.0  \n",
       " 1st Qu.:125.0   1st Qu.:115.50   1st Qu.:115.0   1st Qu.:105.0  \n",
       " Median :140.0   Median :128.75   Median :128.5   Median :118.0  \n",
       " Mean   :142.2   Mean   :130.42   Mean   :130.2   Mean   :119.2  \n",
       " 3rd Qu.:156.0   3rd Qu.:143.33   3rd Qu.:143.5   3rd Qu.:133.0  \n",
       " Max.   :270.0   Max.   :246.43   Max.   :245.0   Max.   :234.0  \n",
       "                                                                 \n",
       "   SBP_mmdiff        SBP_sdx         Temp_count     Temp_first_val \n",
       " Min.   :  0.00   Min.   : 0.000   Min.   : 1.000   Min.   :28.00  \n",
       " 1st Qu.:  9.00   1st Qu.: 4.655   1st Qu.: 2.000   1st Qu.:36.25  \n",
       " Median : 19.00   Median : 8.660   Median : 2.000   Median :36.90  \n",
       " Mean   : 22.92   Mean   : 9.674   Mean   : 2.881   Mean   :36.88  \n",
       " 3rd Qu.: 32.00   3rd Qu.:13.492   3rd Qu.: 4.000   3rd Qu.:37.00  \n",
       " Max.   :164.00   Max.   :59.262   Max.   :35.000   Max.   :40.85  \n",
       "                                                                   \n",
       "  Temp_fldiff          Temp_IQRx      Temp_last_val     Temp_madx      \n",
       " Min.   :-5.000000   Min.   :0.0000   Min.   :28.00   Min.   :0.00000  \n",
       " 1st Qu.: 0.000000   1st Qu.:0.1000   1st Qu.:36.80   1st Qu.:0.07413  \n",
       " Median : 0.000000   Median :0.1500   Median :36.90   Median :0.22239  \n",
       " Mean   :-0.001257   Mean   :0.2421   Mean   :36.88   Mean   :0.23937  \n",
       " 3rd Qu.: 0.000000   3rd Qu.:0.2500   3rd Qu.:37.05   3rd Qu.:0.29652  \n",
       " Max.   : 4.100000   Max.   :3.3250   Max.   :40.40   Max.   :2.74281  \n",
       "                                                                       \n",
       "   Temp_maxx       Temp_meanx     Temp_medianx     Temp_minx    \n",
       " Min.   :28.00   Min.   :28.00   Min.   :28.00   Min.   :28.00  \n",
       " 1st Qu.:37.00   1st Qu.:36.58   1st Qu.:36.65   1st Qu.:36.00  \n",
       " Median :37.00   Median :36.90   Median :36.90   Median :36.70  \n",
       " Mean   :37.11   Mean   :36.88   Mean   :36.89   Mean   :36.65  \n",
       " 3rd Qu.:37.10   3rd Qu.:37.05   3rd Qu.:37.00   3rd Qu.:37.00  \n",
       " Max.   :41.10   Max.   :40.20   Max.   :40.20   Max.   :40.00  \n",
       "                                                                \n",
       "  Temp_mmdiff       Temp_sdx     \n",
       " Min.   :0.000   Min.   :0.0000  \n",
       " 1st Qu.:0.200   1st Qu.:0.1225  \n",
       " Median :0.300   Median :0.2121  \n",
       " Mean   :0.454   Mean   :0.2490  \n",
       " 3rd Qu.:0.500   3rd Qu.:0.2828  \n",
       " Max.   :5.000   Max.   :2.0662  \n",
       "                                 "
      ]
     },
     "metadata": {},
     "output_type": "display_data"
    }
   ],
   "source": [
    "summary(data_simple)"
   ]
  },
  {
   "cell_type": "code",
   "execution_count": 7,
   "metadata": {},
   "outputs": [],
   "source": [
    "# write.csv(cohort_final, file.path(datadir, 'cohort_final.csv'), row.names = FALSE)\n",
    "write.csv(data_simple, file.path(valdir, \"6_8_coh4_simpledata.csv\"), row.names=FALSE)"
   ]
  },
  {
   "cell_type": "code",
   "execution_count": null,
   "metadata": {},
   "outputs": [],
   "source": []
  }
 ],
 "metadata": {
  "environment": {
   "name": "r-cpu.4-0.m71",
   "type": "gcloud",
   "uri": "gcr.io/deeplearning-platform-release/r-cpu.4-0:m71"
  },
  "kernelspec": {
   "display_name": "R",
   "language": "R",
   "name": "ir"
  },
  "language_info": {
   "codemirror_mode": "r",
   "file_extension": ".r",
   "mimetype": "text/x-r-source",
   "name": "R",
   "pygments_lexer": "r",
   "version": "4.1.0"
  },
  "toc": {
   "base_numbering": 1,
   "nav_menu": {},
   "number_sections": true,
   "sideBar": true,
   "skip_h1_title": false,
   "title_cell": "Table of Contents",
   "title_sidebar": "Contents",
   "toc_cell": false,
   "toc_position": {},
   "toc_section_display": true,
   "toc_window_display": false
  },
  "varInspector": {
   "cols": {
    "lenName": 16,
    "lenType": 16,
    "lenVar": 40
   },
   "kernels_config": {
    "python": {
     "delete_cmd_postfix": "",
     "delete_cmd_prefix": "del ",
     "library": "var_list.py",
     "varRefreshCmd": "print(var_dic_list())"
    },
    "r": {
     "delete_cmd_postfix": ") ",
     "delete_cmd_prefix": "rm(",
     "library": "var_list.r",
     "varRefreshCmd": "cat(var_dic_list()) "
    }
   },
   "types_to_exclude": [
    "module",
    "function",
    "builtin_function_or_method",
    "instance",
    "_Feature"
   ],
   "window_display": false
  }
 },
 "nbformat": 4,
 "nbformat_minor": 4
}
