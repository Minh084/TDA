{
 "cells": [
  {
   "cell_type": "markdown",
   "metadata": {},
   "source": [
    "## Descriptions:\n",
    "\n",
    "Process height and weight\n",
    "- Check H&W from flowsheet first. \n",
    "- Combined with H&W from demographics for processing. \n",
    "- They are in different units!\n",
    "- Check for potential erroneous recorded measurements\n",
    "- NOTE: missing recent_date but it doesn't matter\n",
    "\n",
    "\n",
    "**Inputs**:  \n",
    "- `6_3_coh2_demo` contains demographics and ESI\n",
    "- `HWflowsheet_2021` contains queried HW from flowsheet\n",
    "\n",
    "**Outputs**: \n",
    "* `6_4_coh2_demoHW` contains both demographics and H&W"
   ]
  },
  {
   "cell_type": "raw",
   "metadata": {},
   "source": [
    "install.packages('bigrquery')\n",
    "# Installing package into 'C:/Users/User/Documents/R/win-library/4.0'\n",
    "# (as 'lib' is unspecified)\n",
    "# The downloaded binary packages are in\n",
    "# \tC:\\Users\\User\\AppData\\Local\\Temp\\RtmpaumGcc\\downloaded_packages"
   ]
  },
  {
   "cell_type": "markdown",
   "metadata": {},
   "source": [
    "### Importing R libraries"
   ]
  },
  {
   "cell_type": "code",
   "execution_count": 1,
   "metadata": {
    "ExecuteTime": {
     "end_time": "2020-05-21T00:38:06.078240Z",
     "start_time": "2020-05-21T00:38:02.778Z"
    }
   },
   "outputs": [
    {
     "name": "stderr",
     "output_type": "stream",
     "text": [
      "── \u001b[1mAttaching packages\u001b[22m ─────────────────────────────────────── tidyverse 1.3.1 ──\n",
      "\n",
      "\u001b[32m✔\u001b[39m \u001b[34mggplot2\u001b[39m 3.3.3     \u001b[32m✔\u001b[39m \u001b[34mpurrr  \u001b[39m 0.3.4\n",
      "\u001b[32m✔\u001b[39m \u001b[34mtibble \u001b[39m 3.1.2     \u001b[32m✔\u001b[39m \u001b[34mdplyr  \u001b[39m 1.0.6\n",
      "\u001b[32m✔\u001b[39m \u001b[34mtidyr  \u001b[39m 1.1.3     \u001b[32m✔\u001b[39m \u001b[34mstringr\u001b[39m 1.4.0\n",
      "\u001b[32m✔\u001b[39m \u001b[34mreadr  \u001b[39m 1.4.0     \u001b[32m✔\u001b[39m \u001b[34mforcats\u001b[39m 0.5.1\n",
      "\n",
      "── \u001b[1mConflicts\u001b[22m ────────────────────────────────────────── tidyverse_conflicts() ──\n",
      "\u001b[31m✖\u001b[39m \u001b[34mdplyr\u001b[39m::\u001b[32mfilter()\u001b[39m masks \u001b[34mstats\u001b[39m::filter()\n",
      "\u001b[31m✖\u001b[39m \u001b[34mdplyr\u001b[39m::\u001b[32mlag()\u001b[39m    masks \u001b[34mstats\u001b[39m::lag()\n",
      "\n",
      "\n",
      "Attaching package: ‘lubridate’\n",
      "\n",
      "\n",
      "The following objects are masked from ‘package:base’:\n",
      "\n",
      "    date, intersect, setdiff, union\n",
      "\n",
      "\n"
     ]
    }
   ],
   "source": [
    "library(bigrquery)  # to query STARR-OMOP (stored in BigQuery) using SQL\n",
    "library(tidyverse)\n",
    "library(lubridate)\n",
    "\n",
    "# library(data.table)\n",
    "# library(Matrix)\n",
    "# library(caret) # import this before glmnet to avoid rlang version problem\n",
    "# library(glmnet)\n",
    "# library(bit64)\n",
    "\n",
    "# library(slam)\n",
    "# library(mtools) for one hot coder, not available on Nero or use caret or tidyr\n",
    "# library(mice)\n",
    "\n",
    "options(repr.matrix.max.rows=250, repr.matrix.max.cols=30)"
   ]
  },
  {
   "cell_type": "markdown",
   "metadata": {},
   "source": [
    "### Set up and run queries"
   ]
  },
  {
   "cell_type": "code",
   "execution_count": 2,
   "metadata": {},
   "outputs": [
    {
     "data": {
      "text/plain": [
       "NULL"
      ]
     },
     "metadata": {},
     "output_type": "display_data"
    }
   ],
   "source": [
    "# CREDENTIALS depending on LOCATIONS:\n",
    "# credential <- paste0(\"/home/\", \"minh084\", \"/.config/gcloud/application_default_credentials.json\")\n",
    "\n",
    "# local computer\n",
    "# credential <- \"C:/Users/User/AppData/Roaming/gcloud/application_default_credentials.json\"\n",
    "\n",
    "# Nero onprem\n",
    "# credential <- \"/home/minh084/.config/gcloud/application_default_credentials.json\"\n",
    "\n",
    "# Nero gcp notebook\n",
    "credential <- \"/home/jupyter/.config/gcloud/application_default_credentials.json\"\n",
    "\n",
    "project_id <- \"som-nero-phi-jonc101\"\n",
    "\n",
    "Sys.setenv(GOOGLE_APPLICATION_CREDENTIALS = credential)\n",
    "Sys.setenv(GCLOUD_PROJECT = project_id)\n",
    "gargle::credentials_app_default()"
   ]
  },
  {
   "cell_type": "code",
   "execution_count": 4,
   "metadata": {},
   "outputs": [
    {
     "data": {
      "text/plain": [
       "<BigQueryConnection>\n",
       "  Dataset: som-nero-phi-jonc101.shc_core_2021\n",
       "  Billing: som-nero-phi-jonc101"
      ]
     },
     "metadata": {},
     "output_type": "display_data"
    },
    {
     "data": {
      "text/html": [
       "<style>\n",
       ".list-inline {list-style: none; margin:0; padding: 0}\n",
       ".list-inline>li {display: inline-block}\n",
       ".list-inline>li:not(:last-child)::after {content: \"\\00b7\"; padding: 0 .5ex}\n",
       "</style>\n",
       "<ol class=list-inline><li>'adt'</li><li>'alert'</li><li>'alert_history'</li><li>'alerts_orders'</li><li>'allergy'</li><li>'alt_com_action'</li><li>'clinical_doc_meta'</li><li>'culture_sensitivity'</li><li>'demographic'</li><li>'dep_map'</li><li>'diagnosis'</li><li>'drg_code'</li><li>'encounter'</li><li>'f_ip_hsp_admission'</li><li>'family_hx'</li><li>'flowsheet'</li><li>'lab_result'</li><li>'lda'</li><li>'med_orderset'</li><li>'myc_mesg'</li><li>'ndc_code'</li><li>'order_comment'</li><li>'order_med'</li><li>'order_proc'</li><li>'order_quest'</li><li>'pharmacy_mar'</li><li>'proc_note'</li><li>'proc_orderset'</li><li>'procedure'</li><li>'prov_map'</li><li>'social_hx'</li><li>'temp_table'</li><li>'treatment_team'</li><li>'yn_jon_chen_lpch'</li></ol>\n"
      ],
      "text/latex": [
       "\\begin{enumerate*}\n",
       "\\item 'adt'\n",
       "\\item 'alert'\n",
       "\\item 'alert\\_history'\n",
       "\\item 'alerts\\_orders'\n",
       "\\item 'allergy'\n",
       "\\item 'alt\\_com\\_action'\n",
       "\\item 'clinical\\_doc\\_meta'\n",
       "\\item 'culture\\_sensitivity'\n",
       "\\item 'demographic'\n",
       "\\item 'dep\\_map'\n",
       "\\item 'diagnosis'\n",
       "\\item 'drg\\_code'\n",
       "\\item 'encounter'\n",
       "\\item 'f\\_ip\\_hsp\\_admission'\n",
       "\\item 'family\\_hx'\n",
       "\\item 'flowsheet'\n",
       "\\item 'lab\\_result'\n",
       "\\item 'lda'\n",
       "\\item 'med\\_orderset'\n",
       "\\item 'myc\\_mesg'\n",
       "\\item 'ndc\\_code'\n",
       "\\item 'order\\_comment'\n",
       "\\item 'order\\_med'\n",
       "\\item 'order\\_proc'\n",
       "\\item 'order\\_quest'\n",
       "\\item 'pharmacy\\_mar'\n",
       "\\item 'proc\\_note'\n",
       "\\item 'proc\\_orderset'\n",
       "\\item 'procedure'\n",
       "\\item 'prov\\_map'\n",
       "\\item 'social\\_hx'\n",
       "\\item 'temp\\_table'\n",
       "\\item 'treatment\\_team'\n",
       "\\item 'yn\\_jon\\_chen\\_lpch'\n",
       "\\end{enumerate*}\n"
      ],
      "text/markdown": [
       "1. 'adt'\n",
       "2. 'alert'\n",
       "3. 'alert_history'\n",
       "4. 'alerts_orders'\n",
       "5. 'allergy'\n",
       "6. 'alt_com_action'\n",
       "7. 'clinical_doc_meta'\n",
       "8. 'culture_sensitivity'\n",
       "9. 'demographic'\n",
       "10. 'dep_map'\n",
       "11. 'diagnosis'\n",
       "12. 'drg_code'\n",
       "13. 'encounter'\n",
       "14. 'f_ip_hsp_admission'\n",
       "15. 'family_hx'\n",
       "16. 'flowsheet'\n",
       "17. 'lab_result'\n",
       "18. 'lda'\n",
       "19. 'med_orderset'\n",
       "20. 'myc_mesg'\n",
       "21. 'ndc_code'\n",
       "22. 'order_comment'\n",
       "23. 'order_med'\n",
       "24. 'order_proc'\n",
       "25. 'order_quest'\n",
       "26. 'pharmacy_mar'\n",
       "27. 'proc_note'\n",
       "28. 'proc_orderset'\n",
       "29. 'procedure'\n",
       "30. 'prov_map'\n",
       "31. 'social_hx'\n",
       "32. 'temp_table'\n",
       "33. 'treatment_team'\n",
       "34. 'yn_jon_chen_lpch'\n",
       "\n",
       "\n"
      ],
      "text/plain": [
       " [1] \"adt\"                 \"alert\"               \"alert_history\"      \n",
       " [4] \"alerts_orders\"       \"allergy\"             \"alt_com_action\"     \n",
       " [7] \"clinical_doc_meta\"   \"culture_sensitivity\" \"demographic\"        \n",
       "[10] \"dep_map\"             \"diagnosis\"           \"drg_code\"           \n",
       "[13] \"encounter\"           \"f_ip_hsp_admission\"  \"family_hx\"          \n",
       "[16] \"flowsheet\"           \"lab_result\"          \"lda\"                \n",
       "[19] \"med_orderset\"        \"myc_mesg\"            \"ndc_code\"           \n",
       "[22] \"order_comment\"       \"order_med\"           \"order_proc\"         \n",
       "[25] \"order_quest\"         \"pharmacy_mar\"        \"proc_note\"          \n",
       "[28] \"proc_orderset\"       \"procedure\"           \"prov_map\"           \n",
       "[31] \"social_hx\"           \"temp_table\"          \"treatment_team\"     \n",
       "[34] \"yn_jon_chen_lpch\"   "
      ]
     },
     "metadata": {},
     "output_type": "display_data"
    }
   ],
   "source": [
    "library(DBI)\n",
    "con <- dbConnect(\n",
    "  bigrquery::bigquery(),\n",
    "  project = project_id,\n",
    "  dataset = \"shc_core_2021\" #, billing = project_id\n",
    ")\n",
    "con \n",
    "dbListTables(con)"
   ]
  },
  {
   "cell_type": "raw",
   "metadata": {},
   "source": [
    "# m4_HWflowsheet.sql\n",
    "\n",
    "q = \"\n",
    "SELECT c.*,\n",
    "    f.row_disp_name, f.units, f.recorded_time_utc, f.num_value1, f.num_value2\n",
    "FROM \n",
    "    `som-nero-phi-jonc101.triageTD.1_2_cohort` as c\n",
    "JOIN \n",
    "    `som-nero-phi-jonc101.shc_core.flowsheet` as f\n",
    "ON \n",
    "    (c.anon_id=f.anon_id and c.inpatient_data_id_coded=f.inpatient_data_id_coded)\n",
    "WHERE\n",
    "(\n",
    "(row_disp_name=\"Weight\")\n",
    "OR\n",
    "(row_disp_name=\"Height\")\n",
    ")\n",
    "\"\n",
    "# submit the query:\n",
    "update.packages('Rcpp')\n",
    "df <- dbGetQuery(con, q)\n",
    "dim(df)\n",
    "colnames(df)"
   ]
  },
  {
   "cell_type": "markdown",
   "metadata": {},
   "source": [
    "### Use Flowsheet to get Height and Weight\n",
    "- Height in inches and Weight in oz in flowsheet vs. cm and kg in demographics\n",
    "    - Height(cm) = Height(inches) * 2.54 (in_2_cm)\n",
    "    - Weight(kg) = Weight(oz) * 0.02835 (oz_2_kg)\n",
    "- H&W in demographics are recent values, could be the latest from flowsheet, but not necessarily\n",
    "- Explore H&W first, extract valid values for H&W from flowsheet\n",
    "- Replace by NA invalid H&W from demographics.\n",
    "- Merge them back together\n"
   ]
  },
  {
   "cell_type": "code",
   "execution_count": 6,
   "metadata": {},
   "outputs": [
    {
     "data": {
      "text/html": [
       "17131"
      ],
      "text/latex": [
       "17131"
      ],
      "text/markdown": [
       "17131"
      ],
      "text/plain": [
       "[1] 17131"
      ]
     },
     "metadata": {},
     "output_type": "display_data"
    },
    {
     "data": {
      "text/html": [
       "84272"
      ],
      "text/latex": [
       "84272"
      ],
      "text/markdown": [
       "84272"
      ],
      "text/plain": [
       "[1] 84272"
      ]
     },
     "metadata": {},
     "output_type": "display_data"
    },
    {
     "data": {
      "text/html": [
       "12993"
      ],
      "text/latex": [
       "12993"
      ],
      "text/markdown": [
       "12993"
      ],
      "text/plain": [
       "[1] 12993"
      ]
     },
     "metadata": {},
     "output_type": "display_data"
    },
    {
     "data": {
      "text/html": [
       "12576"
      ],
      "text/latex": [
       "12576"
      ],
      "text/markdown": [
       "12576"
      ],
      "text/plain": [
       "[1] 12576"
      ]
     },
     "metadata": {},
     "output_type": "display_data"
    },
    {
     "data": {
      "text/html": [
       "17131"
      ],
      "text/latex": [
       "17131"
      ],
      "text/markdown": [
       "17131"
      ],
      "text/plain": [
       "[1] 17131"
      ]
     },
     "metadata": {},
     "output_type": "display_data"
    },
    {
     "data": {
      "text/html": [
       "16434"
      ],
      "text/latex": [
       "16434"
      ],
      "text/markdown": [
       "16434"
      ],
      "text/plain": [
       "[1] 16434"
      ]
     },
     "metadata": {},
     "output_type": "display_data"
    },
    {
     "data": {
      "text/html": [
       "17131"
      ],
      "text/latex": [
       "17131"
      ],
      "text/markdown": [
       "17131"
      ],
      "text/plain": [
       "[1] 17131"
      ]
     },
     "metadata": {},
     "output_type": "display_data"
    },
    {
     "data": {
      "text/html": [
       "16434"
      ],
      "text/latex": [
       "16434"
      ],
      "text/markdown": [
       "16434"
      ],
      "text/plain": [
       "[1] 16434"
      ]
     },
     "metadata": {},
     "output_type": "display_data"
    },
    {
     "data": {
      "text/html": [
       "<table class=\"dataframe\">\n",
       "<caption>A grouped_df: 2 × 2</caption>\n",
       "<thead>\n",
       "\t<tr><th scope=col>row_disp_name</th><th scope=col>n</th></tr>\n",
       "\t<tr><th scope=col>&lt;chr&gt;</th><th scope=col>&lt;int&gt;</th></tr>\n",
       "</thead>\n",
       "<tbody>\n",
       "\t<tr><td>Weight</td><td>65742</td></tr>\n",
       "\t<tr><td>Height</td><td>18530</td></tr>\n",
       "</tbody>\n",
       "</table>\n"
      ],
      "text/latex": [
       "A grouped\\_df: 2 × 2\n",
       "\\begin{tabular}{ll}\n",
       " row\\_disp\\_name & n\\\\\n",
       " <chr> & <int>\\\\\n",
       "\\hline\n",
       "\t Weight & 65742\\\\\n",
       "\t Height & 18530\\\\\n",
       "\\end{tabular}\n"
      ],
      "text/markdown": [
       "\n",
       "A grouped_df: 2 × 2\n",
       "\n",
       "| row_disp_name &lt;chr&gt; | n &lt;int&gt; |\n",
       "|---|---|\n",
       "| Weight | 65742 |\n",
       "| Height | 18530 |\n",
       "\n"
      ],
      "text/plain": [
       "  row_disp_name n    \n",
       "1 Weight        65742\n",
       "2 Height        18530"
      ]
     },
     "metadata": {},
     "output_type": "display_data"
    },
    {
     "data": {
      "text/html": [
       "<style>\n",
       ".list-inline {list-style: none; margin:0; padding: 0}\n",
       ".list-inline>li {display: inline-block}\n",
       ".list-inline>li:not(:last-child)::after {content: \"\\00b7\"; padding: 0 .5ex}\n",
       "</style>\n",
       "<ol class=list-inline><li>'anon_id'</li><li>'pat_enc_csn_id_coded'</li><li>'admit_time_jittered'</li><li>'label'</li><li>'admit_time'</li><li>'adm_year'</li><li>'adm_month'</li><li>'inpatient_data_id_coded'</li><li>'ESI'</li><li>'gender'</li><li>'race'</li><li>'recent_height_cm'</li><li>'recent_weight_kg'</li><li>'insurance'</li><li>'age'</li><li>'English'</li></ol>\n"
      ],
      "text/latex": [
       "\\begin{enumerate*}\n",
       "\\item 'anon\\_id'\n",
       "\\item 'pat\\_enc\\_csn\\_id\\_coded'\n",
       "\\item 'admit\\_time\\_jittered'\n",
       "\\item 'label'\n",
       "\\item 'admit\\_time'\n",
       "\\item 'adm\\_year'\n",
       "\\item 'adm\\_month'\n",
       "\\item 'inpatient\\_data\\_id\\_coded'\n",
       "\\item 'ESI'\n",
       "\\item 'gender'\n",
       "\\item 'race'\n",
       "\\item 'recent\\_height\\_cm'\n",
       "\\item 'recent\\_weight\\_kg'\n",
       "\\item 'insurance'\n",
       "\\item 'age'\n",
       "\\item 'English'\n",
       "\\end{enumerate*}\n"
      ],
      "text/markdown": [
       "1. 'anon_id'\n",
       "2. 'pat_enc_csn_id_coded'\n",
       "3. 'admit_time_jittered'\n",
       "4. 'label'\n",
       "5. 'admit_time'\n",
       "6. 'adm_year'\n",
       "7. 'adm_month'\n",
       "8. 'inpatient_data_id_coded'\n",
       "9. 'ESI'\n",
       "10. 'gender'\n",
       "11. 'race'\n",
       "12. 'recent_height_cm'\n",
       "13. 'recent_weight_kg'\n",
       "14. 'insurance'\n",
       "15. 'age'\n",
       "16. 'English'\n",
       "\n",
       "\n"
      ],
      "text/plain": [
       " [1] \"anon_id\"                 \"pat_enc_csn_id_coded\"   \n",
       " [3] \"admit_time_jittered\"     \"label\"                  \n",
       " [5] \"admit_time\"              \"adm_year\"               \n",
       " [7] \"adm_month\"               \"inpatient_data_id_coded\"\n",
       " [9] \"ESI\"                     \"gender\"                 \n",
       "[11] \"race\"                    \"recent_height_cm\"       \n",
       "[13] \"recent_weight_kg\"        \"insurance\"              \n",
       "[15] \"age\"                     \"English\"                "
      ]
     },
     "metadata": {},
     "output_type": "display_data"
    },
    {
     "data": {
      "text/html": [
       "<style>\n",
       ".list-inline {list-style: none; margin:0; padding: 0}\n",
       ".list-inline>li {display: inline-block}\n",
       ".list-inline>li:not(:last-child)::after {content: \"\\00b7\"; padding: 0 .5ex}\n",
       "</style>\n",
       "<ol class=list-inline><li>'anon_id'</li><li>'pat_enc_csn_id_coded'</li><li>'inpatient_data_id_coded'</li><li>'row_disp_name'</li><li>'recorded_time'</li><li>'num_value1'</li><li>'num_value2'</li></ol>\n"
      ],
      "text/latex": [
       "\\begin{enumerate*}\n",
       "\\item 'anon\\_id'\n",
       "\\item 'pat\\_enc\\_csn\\_id\\_coded'\n",
       "\\item 'inpatient\\_data\\_id\\_coded'\n",
       "\\item 'row\\_disp\\_name'\n",
       "\\item 'recorded\\_time'\n",
       "\\item 'num\\_value1'\n",
       "\\item 'num\\_value2'\n",
       "\\end{enumerate*}\n"
      ],
      "text/markdown": [
       "1. 'anon_id'\n",
       "2. 'pat_enc_csn_id_coded'\n",
       "3. 'inpatient_data_id_coded'\n",
       "4. 'row_disp_name'\n",
       "5. 'recorded_time'\n",
       "6. 'num_value1'\n",
       "7. 'num_value2'\n",
       "\n",
       "\n"
      ],
      "text/plain": [
       "[1] \"anon_id\"                 \"pat_enc_csn_id_coded\"   \n",
       "[3] \"inpatient_data_id_coded\" \"row_disp_name\"          \n",
       "[5] \"recorded_time\"           \"num_value1\"             \n",
       "[7] \"num_value2\"             "
      ]
     },
     "metadata": {},
     "output_type": "display_data"
    }
   ],
   "source": [
    "# read inputs\n",
    "datadir = \"../../DataTD\"\n",
    "valdir = \"../../OutputTD/6_validation\"\n",
    "\n",
    "\n",
    "cohort_demo <- read.csv(file.path(valdir, \"6_3_coh2_demo.csv\"))\n",
    "hw <- read.csv(file.path(datadir, \"HWflowsheet_2021.csv\")) %>% \n",
    "        select(anon_id, pat_enc_csn_id_coded, inpatient_data_id_coded, row_disp_name,\n",
    "               recorded_time = recorded_time_utc, num_value1, num_value2) \n",
    "\n",
    "# check for unique CSNs and MRNs\n",
    "nrow(cohort_demo) #45796\n",
    "nrow(hw) #depending on which cohort_demo used to query flowsheet 218930\n",
    "\n",
    "nrow(cohort_demo %>% select(anon_id) %>% distinct()) #31513\n",
    "nrow(hw %>% select(anon_id) %>% distinct())  #30152\n",
    "\n",
    "nrow(cohort_demo %>% select(pat_enc_csn_id_coded) %>% distinct()) #45796\n",
    "nrow(hw %>% select(pat_enc_csn_id_coded) %>% distinct()) #43609\n",
    "\n",
    "# note that distinct CSNs are also distinct (MRNs and CSNs)\n",
    "nrow(cohort_demo %>% select(anon_id, pat_enc_csn_id_coded) %>% distinct()) #45796\n",
    "nrow(hw %>% select(anon_id, pat_enc_csn_id_coded) %>% distinct()) #43609\n",
    "\n",
    "# cohort_demo %>% summarise(n_patients = n_distinct(anon_id))\n",
    "# check num_value1 and num_value2\n",
    "hw %>% group_by(row_disp_name) %>% count(sort=TRUE)\n",
    "\n",
    "colnames(cohort_demo)\n",
    "colnames(hw)"
   ]
  },
  {
   "cell_type": "code",
   "execution_count": 7,
   "metadata": {},
   "outputs": [
    {
     "data": {
      "text/html": [
       "<table class=\"dataframe\">\n",
       "<caption>A tibble: 2 × 3</caption>\n",
       "<thead>\n",
       "\t<tr><th scope=col>row_disp_name</th><th scope=col>n1</th><th scope=col>n2</th></tr>\n",
       "\t<tr><th scope=col>&lt;chr&gt;</th><th scope=col>&lt;int&gt;</th><th scope=col>&lt;int&gt;</th></tr>\n",
       "</thead>\n",
       "<tbody>\n",
       "\t<tr><td>Height</td><td>18369</td><td>0</td></tr>\n",
       "\t<tr><td>Weight</td><td>64633</td><td>0</td></tr>\n",
       "</tbody>\n",
       "</table>\n"
      ],
      "text/latex": [
       "A tibble: 2 × 3\n",
       "\\begin{tabular}{lll}\n",
       " row\\_disp\\_name & n1 & n2\\\\\n",
       " <chr> & <int> & <int>\\\\\n",
       "\\hline\n",
       "\t Height & 18369 & 0\\\\\n",
       "\t Weight & 64633 & 0\\\\\n",
       "\\end{tabular}\n"
      ],
      "text/markdown": [
       "\n",
       "A tibble: 2 × 3\n",
       "\n",
       "| row_disp_name &lt;chr&gt; | n1 &lt;int&gt; | n2 &lt;int&gt; |\n",
       "|---|---|---|\n",
       "| Height | 18369 | 0 |\n",
       "| Weight | 64633 | 0 |\n",
       "\n"
      ],
      "text/plain": [
       "  row_disp_name n1    n2\n",
       "1 Height        18369 0 \n",
       "2 Weight        64633 0 "
      ]
     },
     "metadata": {},
     "output_type": "display_data"
    },
    {
     "data": {
      "text/plain": [
       "   num_value1      num_value2    \n",
       " Min.   :    5.6   Mode:logical  \n",
       " 1st Qu.: 1600.0   NA's:84272    \n",
       " Median : 2402.1                 \n",
       " Mean   : 2189.6                 \n",
       " 3rd Qu.: 3012.4                 \n",
       " Max.   :19365.2                 \n",
       " NA's   :1270                    "
      ]
     },
     "metadata": {},
     "output_type": "display_data"
    }
   ],
   "source": [
    "# there's nothing in num_value2 for Height and Weight under flowsheet\n",
    "# hw %>% group_by(row_disp_name, units) %>% summarise(count1 = length(num_value1), count2 = num_value2) %>% distinct()\n",
    "\n",
    "hw %>% group_by(row_disp_name) %>% \n",
    "        summarise(n1 = length(num_value1[!is.na(num_value1)]), n2=length(num_value2[!is.na(num_value2)]))\n",
    "\n",
    "summary(hw %>% select(num_value1, num_value2))"
   ]
  },
  {
   "cell_type": "code",
   "execution_count": 8,
   "metadata": {},
   "outputs": [
    {
     "data": {
      "text/html": [
       "<table class=\"dataframe\">\n",
       "<caption>A data.frame: 14 × 6</caption>\n",
       "<thead>\n",
       "\t<tr><th scope=col>anon_id</th><th scope=col>pat_enc_csn_id_coded</th><th scope=col>inpatient_data_id_coded</th><th scope=col>row_disp_name</th><th scope=col>recorded_time</th><th scope=col>num_value1</th></tr>\n",
       "\t<tr><th scope=col>&lt;chr&gt;</th><th scope=col>&lt;dbl&gt;</th><th scope=col>&lt;int&gt;</th><th scope=col>&lt;chr&gt;</th><th scope=col>&lt;chr&gt;</th><th scope=col>&lt;dbl&gt;</th></tr>\n",
       "</thead>\n",
       "<tbody>\n",
       "\t<tr><td>JC1791141</td><td>131316953812</td><td>70758033</td><td>Weight</td><td>2021-09-30 07:00:00+00:00</td><td>3414.48</td></tr>\n",
       "\t<tr><td>JC1791141</td><td>131316953812</td><td>70758033</td><td>Weight</td><td>2021-09-30 07:00:00+00:00</td><td>3389.79</td></tr>\n",
       "\t<tr><td>JC1798693</td><td>131318694459</td><td>71871780</td><td>Weight</td><td>2021-09-30 07:00:00+00:00</td><td>2119.94</td></tr>\n",
       "\t<tr><td>JC1798693</td><td>131318694459</td><td>71871780</td><td>Weight</td><td>2021-09-30 07:00:00+00:00</td><td>2464.00</td></tr>\n",
       "\t<tr><td>JC2034405</td><td>131317459401</td><td>71072456</td><td>Weight</td><td>2021-09-30 07:00:00+00:00</td><td>2742.40</td></tr>\n",
       "\t<tr><td>JC2034405</td><td>131317459401</td><td>71072456</td><td>Weight</td><td>2021-09-30 07:00:00+00:00</td><td>2754.87</td></tr>\n",
       "\t<tr><td>JC2665578</td><td>131320867656</td><td>73231043</td><td>Weight</td><td>2021-09-30 07:00:00+00:00</td><td>2391.55</td></tr>\n",
       "\t<tr><td>JC2665578</td><td>131320867656</td><td>73231043</td><td>Weight</td><td>2021-09-30 07:00:00+00:00</td><td>2557.34</td></tr>\n",
       "\t<tr><td>JC3061472</td><td>131319427789</td><td>72335784</td><td>Weight</td><td>2021-09-30 07:00:00+00:00</td><td>1920.00</td></tr>\n",
       "\t<tr><td>JC3061472</td><td>131319427789</td><td>72335784</td><td>Weight</td><td>2021-09-30 07:00:00+00:00</td><td>2081.14</td></tr>\n",
       "\t<tr><td>JC3136038</td><td>131317138113</td><td>70876455</td><td>Weight</td><td>2021-09-30 07:00:00+00:00</td><td>3463.87</td></tr>\n",
       "\t<tr><td>JC3136038</td><td>131317138113</td><td>70876455</td><td>Weight</td><td>2021-09-30 07:00:00+00:00</td><td>     NA</td></tr>\n",
       "\t<tr><td>JC584205 </td><td>131320387571</td><td>72932125</td><td>Weight</td><td>2021-09-30 07:00:00+00:00</td><td>2511.48</td></tr>\n",
       "\t<tr><td>JC584205 </td><td>131320387571</td><td>72932125</td><td>Weight</td><td>2021-09-30 07:00:00+00:00</td><td>2448.00</td></tr>\n",
       "</tbody>\n",
       "</table>\n"
      ],
      "text/latex": [
       "A data.frame: 14 × 6\n",
       "\\begin{tabular}{llllll}\n",
       " anon\\_id & pat\\_enc\\_csn\\_id\\_coded & inpatient\\_data\\_id\\_coded & row\\_disp\\_name & recorded\\_time & num\\_value1\\\\\n",
       " <chr> & <dbl> & <int> & <chr> & <chr> & <dbl>\\\\\n",
       "\\hline\n",
       "\t JC1791141 & 131316953812 & 70758033 & Weight & 2021-09-30 07:00:00+00:00 & 3414.48\\\\\n",
       "\t JC1791141 & 131316953812 & 70758033 & Weight & 2021-09-30 07:00:00+00:00 & 3389.79\\\\\n",
       "\t JC1798693 & 131318694459 & 71871780 & Weight & 2021-09-30 07:00:00+00:00 & 2119.94\\\\\n",
       "\t JC1798693 & 131318694459 & 71871780 & Weight & 2021-09-30 07:00:00+00:00 & 2464.00\\\\\n",
       "\t JC2034405 & 131317459401 & 71072456 & Weight & 2021-09-30 07:00:00+00:00 & 2742.40\\\\\n",
       "\t JC2034405 & 131317459401 & 71072456 & Weight & 2021-09-30 07:00:00+00:00 & 2754.87\\\\\n",
       "\t JC2665578 & 131320867656 & 73231043 & Weight & 2021-09-30 07:00:00+00:00 & 2391.55\\\\\n",
       "\t JC2665578 & 131320867656 & 73231043 & Weight & 2021-09-30 07:00:00+00:00 & 2557.34\\\\\n",
       "\t JC3061472 & 131319427789 & 72335784 & Weight & 2021-09-30 07:00:00+00:00 & 1920.00\\\\\n",
       "\t JC3061472 & 131319427789 & 72335784 & Weight & 2021-09-30 07:00:00+00:00 & 2081.14\\\\\n",
       "\t JC3136038 & 131317138113 & 70876455 & Weight & 2021-09-30 07:00:00+00:00 & 3463.87\\\\\n",
       "\t JC3136038 & 131317138113 & 70876455 & Weight & 2021-09-30 07:00:00+00:00 &      NA\\\\\n",
       "\t JC584205  & 131320387571 & 72932125 & Weight & 2021-09-30 07:00:00+00:00 & 2511.48\\\\\n",
       "\t JC584205  & 131320387571 & 72932125 & Weight & 2021-09-30 07:00:00+00:00 & 2448.00\\\\\n",
       "\\end{tabular}\n"
      ],
      "text/markdown": [
       "\n",
       "A data.frame: 14 × 6\n",
       "\n",
       "| anon_id &lt;chr&gt; | pat_enc_csn_id_coded &lt;dbl&gt; | inpatient_data_id_coded &lt;int&gt; | row_disp_name &lt;chr&gt; | recorded_time &lt;chr&gt; | num_value1 &lt;dbl&gt; |\n",
       "|---|---|---|---|---|---|\n",
       "| JC1791141 | 131316953812 | 70758033 | Weight | 2021-09-30 07:00:00+00:00 | 3414.48 |\n",
       "| JC1791141 | 131316953812 | 70758033 | Weight | 2021-09-30 07:00:00+00:00 | 3389.79 |\n",
       "| JC1798693 | 131318694459 | 71871780 | Weight | 2021-09-30 07:00:00+00:00 | 2119.94 |\n",
       "| JC1798693 | 131318694459 | 71871780 | Weight | 2021-09-30 07:00:00+00:00 | 2464.00 |\n",
       "| JC2034405 | 131317459401 | 71072456 | Weight | 2021-09-30 07:00:00+00:00 | 2742.40 |\n",
       "| JC2034405 | 131317459401 | 71072456 | Weight | 2021-09-30 07:00:00+00:00 | 2754.87 |\n",
       "| JC2665578 | 131320867656 | 73231043 | Weight | 2021-09-30 07:00:00+00:00 | 2391.55 |\n",
       "| JC2665578 | 131320867656 | 73231043 | Weight | 2021-09-30 07:00:00+00:00 | 2557.34 |\n",
       "| JC3061472 | 131319427789 | 72335784 | Weight | 2021-09-30 07:00:00+00:00 | 1920.00 |\n",
       "| JC3061472 | 131319427789 | 72335784 | Weight | 2021-09-30 07:00:00+00:00 | 2081.14 |\n",
       "| JC3136038 | 131317138113 | 70876455 | Weight | 2021-09-30 07:00:00+00:00 | 3463.87 |\n",
       "| JC3136038 | 131317138113 | 70876455 | Weight | 2021-09-30 07:00:00+00:00 |      NA |\n",
       "| JC584205  | 131320387571 | 72932125 | Weight | 2021-09-30 07:00:00+00:00 | 2511.48 |\n",
       "| JC584205  | 131320387571 | 72932125 | Weight | 2021-09-30 07:00:00+00:00 | 2448.00 |\n",
       "\n"
      ],
      "text/plain": [
       "   anon_id   pat_enc_csn_id_coded inpatient_data_id_coded row_disp_name\n",
       "1  JC1791141 131316953812         70758033                Weight       \n",
       "2  JC1791141 131316953812         70758033                Weight       \n",
       "3  JC1798693 131318694459         71871780                Weight       \n",
       "4  JC1798693 131318694459         71871780                Weight       \n",
       "5  JC2034405 131317459401         71072456                Weight       \n",
       "6  JC2034405 131317459401         71072456                Weight       \n",
       "7  JC2665578 131320867656         73231043                Weight       \n",
       "8  JC2665578 131320867656         73231043                Weight       \n",
       "9  JC3061472 131319427789         72335784                Weight       \n",
       "10 JC3061472 131319427789         72335784                Weight       \n",
       "11 JC3136038 131317138113         70876455                Weight       \n",
       "12 JC3136038 131317138113         70876455                Weight       \n",
       "13 JC584205  131320387571         72932125                Weight       \n",
       "14 JC584205  131320387571         72932125                Weight       \n",
       "   recorded_time             num_value1\n",
       "1  2021-09-30 07:00:00+00:00 3414.48   \n",
       "2  2021-09-30 07:00:00+00:00 3389.79   \n",
       "3  2021-09-30 07:00:00+00:00 2119.94   \n",
       "4  2021-09-30 07:00:00+00:00 2464.00   \n",
       "5  2021-09-30 07:00:00+00:00 2742.40   \n",
       "6  2021-09-30 07:00:00+00:00 2754.87   \n",
       "7  2021-09-30 07:00:00+00:00 2391.55   \n",
       "8  2021-09-30 07:00:00+00:00 2557.34   \n",
       "9  2021-09-30 07:00:00+00:00 1920.00   \n",
       "10 2021-09-30 07:00:00+00:00 2081.14   \n",
       "11 2021-09-30 07:00:00+00:00 3463.87   \n",
       "12 2021-09-30 07:00:00+00:00      NA   \n",
       "13 2021-09-30 07:00:00+00:00 2511.48   \n",
       "14 2021-09-30 07:00:00+00:00 2448.00   "
      ]
     },
     "metadata": {},
     "output_type": "display_data"
    }
   ],
   "source": [
    "# first, let's remove the num_value2 as nothing is in there\n",
    "hw <- hw %>% select(-num_value2) %>% distinct()\n",
    "\n",
    "# grab all duplicates columns with different num_value1 as these interferes with spread\n",
    "hw[duplicated(hw[,1:5]) | duplicated(hw[,1:5], fromLast=TRUE), ] %>% \n",
    "    arrange(anon_id, pat_enc_csn_id_coded, recorded_time) \n",
    "# group_by(hw, colnames) %>% filter(n() > 1)"
   ]
  },
  {
   "cell_type": "code",
   "execution_count": 9,
   "metadata": {},
   "outputs": [
    {
     "name": "stderr",
     "output_type": "stream",
     "text": [
      "`summarise()` has grouped output by 'anon_id', 'pat_enc_csn_id_coded', 'inpatient_data_id_coded', 'row_disp_name'. You can override using the `.groups` argument.\n",
      "\n"
     ]
    },
    {
     "data": {
      "text/html": [
       "71145"
      ],
      "text/latex": [
       "71145"
      ],
      "text/markdown": [
       "71145"
      ],
      "text/plain": [
       "[1] 71145"
      ]
     },
     "metadata": {},
     "output_type": "display_data"
    },
    {
     "data": {
      "text/html": [
       "<style>\n",
       ".list-inline {list-style: none; margin:0; padding: 0}\n",
       ".list-inline>li {display: inline-block}\n",
       ".list-inline>li:not(:last-child)::after {content: \"\\00b7\"; padding: 0 .5ex}\n",
       "</style>\n",
       "<ol class=list-inline><li>'anon_id'</li><li>'pat_enc_csn_id_coded'</li><li>'inpatient_data_id_coded'</li><li>'recorded_time'</li><li>'Height'</li><li>'Weight'</li></ol>\n"
      ],
      "text/latex": [
       "\\begin{enumerate*}\n",
       "\\item 'anon\\_id'\n",
       "\\item 'pat\\_enc\\_csn\\_id\\_coded'\n",
       "\\item 'inpatient\\_data\\_id\\_coded'\n",
       "\\item 'recorded\\_time'\n",
       "\\item 'Height'\n",
       "\\item 'Weight'\n",
       "\\end{enumerate*}\n"
      ],
      "text/markdown": [
       "1. 'anon_id'\n",
       "2. 'pat_enc_csn_id_coded'\n",
       "3. 'inpatient_data_id_coded'\n",
       "4. 'recorded_time'\n",
       "5. 'Height'\n",
       "6. 'Weight'\n",
       "\n",
       "\n"
      ],
      "text/plain": [
       "[1] \"anon_id\"                 \"pat_enc_csn_id_coded\"   \n",
       "[3] \"inpatient_data_id_coded\" \"recorded_time\"          \n",
       "[5] \"Height\"                  \"Weight\"                 "
      ]
     },
     "metadata": {},
     "output_type": "display_data"
    }
   ],
   "source": [
    "# let's take the average of these values because they are very similar.\n",
    "# Otherwise, if there are errors, remove them first. Spread to Height and Weight columns\n",
    "hw <- hw %>% group_by(anon_id, pat_enc_csn_id_coded, inpatient_data_id_coded, row_disp_name, recorded_time) %>%\n",
    "            summarize(num_value1 = mean(num_value1, na.rm=TRUE)) %>% spread(row_disp_name, num_value1)\n",
    "nrow(hw) #185645\n",
    "colnames(hw)"
   ]
  },
  {
   "cell_type": "markdown",
   "metadata": {},
   "source": [
    "### Height and Weight\n",
    "- Height in inches and Weight in oz in flowsheet vs. cm and kg in demographics\n",
    "    - Height(cm) = Height(inches) * 2.54 (in_2_cm)\n",
    "    - Weight(kg) = Weight(oz) * 0.02835 (oz_2_kg) \n",
    "\n",
    "- Aim to use flowsheet H&W as the source, closest time to admit time. \n",
    "    - Height: compare values within patients\n",
    "    - Weight: compare values within encounters\n",
    "- For missing H&W values, get replacements from demographics' H&W"
   ]
  },
  {
   "cell_type": "code",
   "execution_count": 10,
   "metadata": {},
   "outputs": [
    {
     "data": {
      "text/html": [
       "12006"
      ],
      "text/latex": [
       "12006"
      ],
      "text/markdown": [
       "12006"
      ],
      "text/plain": [
       "[1] 12006"
      ]
     },
     "metadata": {},
     "output_type": "display_data"
    },
    {
     "data": {
      "text/html": [
       "16744"
      ],
      "text/latex": [
       "16744"
      ],
      "text/markdown": [
       "16744"
      ],
      "text/plain": [
       "[1] 16744"
      ]
     },
     "metadata": {},
     "output_type": "display_data"
    },
    {
     "data": {
      "text/html": [
       "16744"
      ],
      "text/latex": [
       "16744"
      ],
      "text/markdown": [
       "16744"
      ],
      "text/plain": [
       "[1] 16744"
      ]
     },
     "metadata": {},
     "output_type": "display_data"
    }
   ],
   "source": [
    "# Height (fs vs. demo)\n",
    "# recent_height_cm is likely the latest flowsheet height, all patients appear in flowsheet\n",
    "hidfs <- hw %>% filter(!is.na(Height)) %>% distinct(pat_enc_csn_id_coded)\n",
    "hiddm <- cohort_demo %>% filter(!is.na(recent_height_cm)) %>% distinct(pat_enc_csn_id_coded)\n",
    "\n",
    "nrow(hidfs) #33608\n",
    "nrow(hiddm) #44383 vs 44380\n",
    "\n",
    "# we only care about the ids in cohort_demo, should be a subset of ids in flowsheet\n",
    "length(hiddm$pat_enc_csn_id_coded %in% hidfs$pat_enc_csn_id_coded) #44383"
   ]
  },
  {
   "cell_type": "code",
   "execution_count": 11,
   "metadata": {},
   "outputs": [
    {
     "data": {
      "text/html": [
       "16317"
      ],
      "text/latex": [
       "16317"
      ],
      "text/markdown": [
       "16317"
      ],
      "text/plain": [
       "[1] 16317"
      ]
     },
     "metadata": {},
     "output_type": "display_data"
    },
    {
     "data": {
      "text/html": [
       "17101"
      ],
      "text/latex": [
       "17101"
      ],
      "text/markdown": [
       "17101"
      ],
      "text/plain": [
       "[1] 17101"
      ]
     },
     "metadata": {},
     "output_type": "display_data"
    },
    {
     "data": {
      "text/html": [
       "17101"
      ],
      "text/latex": [
       "17101"
      ],
      "text/markdown": [
       "17101"
      ],
      "text/plain": [
       "[1] 17101"
      ]
     },
     "metadata": {},
     "output_type": "display_data"
    }
   ],
   "source": [
    "# Weight (fs vs. demo)\n",
    "# recent_weight_kg is likely the latest flowsheet height, all patients appear in flowsheet\n",
    "widfs <- hw %>% filter(!is.na(Weight)) %>% distinct(pat_enc_csn_id_coded) \n",
    "widdm <- cohort_demo %>% filter(!is.na(recent_weight_kg)) %>% distinct(pat_enc_csn_id_coded)\n",
    "\n",
    "nrow(widfs) # 43213 vs 43211\n",
    "nrow(widdm)\n",
    "length(widdm$pat_enc_csn_id_coded %in% widfs$pat_enc_csn_id_coded)"
   ]
  },
  {
   "cell_type": "code",
   "execution_count": 8,
   "metadata": {},
   "outputs": [],
   "source": [
    "# nrow(left_join(cohort_demo, hw)) - nrow(left_join(cohort_demo, hw) %>% filter(is.na(Height), is.na(Weight))) #187832"
   ]
  },
  {
   "cell_type": "code",
   "execution_count": 13,
   "metadata": {},
   "outputs": [
    {
     "name": "stderr",
     "output_type": "stream",
     "text": [
      "Joining, by = c(\"anon_id\", \"pat_enc_csn_id_coded\", \"inpatient_data_id_coded\")\n",
      "\n"
     ]
    },
    {
     "data": {
      "text/html": [
       "71842"
      ],
      "text/latex": [
       "71842"
      ],
      "text/markdown": [
       "71842"
      ],
      "text/plain": [
       "[1] 71842"
      ]
     },
     "metadata": {},
     "output_type": "display_data"
    }
   ],
   "source": [
    "# calculate time difference, by the minutes and days\n",
    "# calculate difference in H&W of flowsheet and demographics, cm & kg\n",
    "in_2_cm = 2.54\n",
    "oz_2_kg = 0.02835\n",
    "\n",
    "hw1 <- left_join(cohort_demo, hw) %>%  \n",
    "                mutate(adredif = abs(as.numeric(difftime(admit_time, recorded_time, units = 'mins'))),\n",
    "#                        dmfsdif = as.numeric(difftime(date(ymd(recent_date)), date(ymd_hms(recorded_time)), units = 'days')),\n",
    "                       Hfsdmdif = abs(round(Height*2.54,2) - recent_height_cm),\n",
    "                       Wfsdmdif = abs(round(Weight*0.02835,2) - recent_weight_kg)) #%>%\n",
    "#                 group_by(anon_id, pat_enc_csn_id_coded) %>%\n",
    "#                 filter(mindiff == min(mindiff)) %>% slice(1L) %>%\n",
    "#                 filter_at(vars(Weight, Height), any_vars(!is.na(.))) # remove any rows that have both NA in H&W\n",
    "\n",
    "# drop rows that have NA in both (Height and Weight)\n",
    "# if there's NA, when widening the df, will have a NA col                \n",
    "nrow(hw1) #187832 vs 187830"
   ]
  },
  {
   "cell_type": "code",
   "execution_count": 14,
   "metadata": {},
   "outputs": [],
   "source": [
    "# many weights recorded, some are errorenous\n",
    "# check encounters with only 1 H&W vs. more than 1\n",
    "# looks for Weight information within same encounter (e) # (and possibly same patient (p))\n",
    "\n",
    "suppressWarnings(\n",
    "hw1 <- hw1 %>% group_by(anon_id, pat_enc_csn_id_coded) %>% \n",
    "                mutate(nWe = length(Weight[!is.na(Weight)]),\n",
    "                       minWe = min(Weight, na.rm=TRUE), maxWe = max(Weight, na.rm=TRUE),\n",
    "                       rmaxWe = round(maxWe/Weight, 2)) #%>%\n",
    "    \n",
    "# nHe = length(Height[!is.na(Height)]),\n",
    "# minHe = min(Height, na.rm=TRUE), maxHe = max(Height, na.rm=TRUE),\n",
    "# rmaxHe = round(maxHe/Height, 2),\n",
    "    \n",
    "#                 group_by(anon_id) %>% \n",
    "#                 mutate(nWp = length(Weight[!is.na(Weight)]), nHp = length(Height[!is.na(Height)]),\n",
    "#                        minW = min(Weight, na.rm=TRUE), maxW = max(Weight, na.rm=TRUE),\n",
    "#                        rmaxWp = round(maxW/Weight, 2)) #%>% select(-'<NA>')\n",
    ")"
   ]
  },
  {
   "cell_type": "markdown",
   "metadata": {},
   "source": [
    "### Explore Height (from flowsheet, in inches): \n",
    "- Consider errors if Height < 45in (~ 114m) or > 90in (~2.2m)\n",
    "- For the rest, get Height from flowsheet that is closest to Height from demographics, per patient, regardless of encounters"
   ]
  },
  {
   "cell_type": "code",
   "execution_count": 15,
   "metadata": {},
   "outputs": [
    {
     "data": {
      "text/html": [
       "31"
      ],
      "text/latex": [
       "31"
      ],
      "text/markdown": [
       "31"
      ],
      "text/plain": [
       "[1] 31"
      ]
     },
     "metadata": {},
     "output_type": "display_data"
    },
    {
     "data": {
      "image/png": "[encoded data removed]",
      "text/plain": [
       "Plot with title “Histogram of hw1[hw1$Height < 50, ]$Height”"
      ]
     },
     "metadata": {
      "image/png": {
       "height": 420,
       "width": 420
      }
     },
     "output_type": "display_data"
    }
   ],
   "source": [
    "hist(hw1[hw1$Height < 50,]$Height, xlim=c(0, 100), col=\"slateblue\") # remove < 40 (keep 42)\n",
    "hist(hw1[hw1$Height > 80,]$Height, col=\"blue\", add=TRUE) # remove > 85 or 90\n",
    "\n",
    "errorH <- hw1 %>% filter(Height < 50 | Height > 80) %>% arrange(Height)\n",
    "nrow(errorH)"
   ]
  },
  {
   "cell_type": "code",
   "execution_count": 17,
   "metadata": {},
   "outputs": [
    {
     "data": {
      "text/html": [
       "<table class=\"dataframe\">\n",
       "<caption>A grouped_df: 31 × 7</caption>\n",
       "<thead>\n",
       "\t<tr><th scope=col>anon_id</th><th scope=col>pat_enc_csn_id_coded</th><th scope=col>recent_weight_kg</th><th scope=col>recent_height_cm</th><th scope=col>admit_time</th><th scope=col>recorded_time</th><th scope=col>Height</th></tr>\n",
       "\t<tr><th scope=col>&lt;chr&gt;</th><th scope=col>&lt;dbl&gt;</th><th scope=col>&lt;dbl&gt;</th><th scope=col>&lt;dbl&gt;</th><th scope=col>&lt;chr&gt;</th><th scope=col>&lt;chr&gt;</th><th scope=col>&lt;dbl&gt;</th></tr>\n",
       "</thead>\n",
       "<tbody>\n",
       "\t<tr><td>JC1698099</td><td>131315994500</td><td>104.20</td><td>167.64</td><td>2021-07-15 20:39:00</td><td>2021-07-15 16:37:00+00:00</td><td>  5.600</td></tr>\n",
       "\t<tr><td>JC2118528</td><td>131315197333</td><td> 67.00</td><td>162.56</td><td>2021-07-23 20:58:00</td><td>2021-07-23 22:00:00+00:00</td><td> 25.197</td></tr>\n",
       "\t<tr><td>JC780539 </td><td>131313982299</td><td> 31.00</td><td>113.00</td><td>2021-07-29 04:55:00</td><td>2021-07-29 07:54:00+00:00</td><td> 43.701</td></tr>\n",
       "\t<tr><td>JC3238367</td><td>131319578393</td><td> 99.50</td><td>170.18</td><td>2021-09-08 00:57:00</td><td>2021-09-07 20:46:00+00:00</td><td> 44.094</td></tr>\n",
       "\t<tr><td>JC589879 </td><td>131293742400</td><td> 66.20</td><td>114.80</td><td>2020-08-09 02:31:00</td><td>2020-09-03 15:20:00+00:00</td><td> 45.197</td></tr>\n",
       "\t<tr><td>JC589879 </td><td>131293742400</td><td> 66.20</td><td>114.80</td><td>2020-08-09 02:31:00</td><td>2020-08-09 06:00:00+00:00</td><td> 45.200</td></tr>\n",
       "\t<tr><td>JC589879 </td><td>131293742400</td><td> 66.20</td><td>114.80</td><td>2020-08-09 02:31:00</td><td>2020-08-09 01:32:00+00:00</td><td> 45.276</td></tr>\n",
       "\t<tr><td>JC2534196</td><td>131315983705</td><td> 38.56</td><td>118.00</td><td>2021-09-04 16:48:00</td><td>2021-09-04 22:00:00+00:00</td><td> 46.457</td></tr>\n",
       "\t<tr><td>JC2775433</td><td>131293747518</td><td> 71.90</td><td>121.90</td><td>2020-09-08 00:40:00</td><td>2020-09-08 19:00:00+00:00</td><td> 47.992</td></tr>\n",
       "\t<tr><td>JC2945436</td><td>131290560594</td><td> 45.13</td><td>122.00</td><td>2020-07-02 18:34:00</td><td>2020-07-02 22:30:00+00:00</td><td> 48.031</td></tr>\n",
       "\t<tr><td>JC2945436</td><td>131290560594</td><td> 45.13</td><td>122.00</td><td>2020-07-02 18:34:00</td><td>2020-07-04 15:09:00+00:00</td><td> 48.031</td></tr>\n",
       "\t<tr><td>JC2945436</td><td>131290560594</td><td> 45.13</td><td>122.00</td><td>2020-07-02 18:34:00</td><td>2020-07-12 14:24:00+00:00</td><td> 48.031</td></tr>\n",
       "\t<tr><td>JC2945436</td><td>131290560594</td><td> 45.13</td><td>122.00</td><td>2020-07-02 18:34:00</td><td>2020-07-21 14:43:00+00:00</td><td> 48.031</td></tr>\n",
       "\t<tr><td>JC2945436</td><td>131290560594</td><td> 45.13</td><td>122.00</td><td>2020-07-02 18:34:00</td><td>2020-07-23 14:48:00+00:00</td><td> 48.031</td></tr>\n",
       "\t<tr><td>JC3017216</td><td>131296061391</td><td> 52.80</td><td>124.46</td><td>2020-10-24 21:42:00</td><td>2020-10-26 19:00:00+00:00</td><td> 49.000</td></tr>\n",
       "\t<tr><td>JC3038236</td><td>131298434781</td><td> 33.50</td><td>124.50</td><td>2020-11-28 23:45:00</td><td>2020-11-29 03:00:00+00:00</td><td> 49.000</td></tr>\n",
       "\t<tr><td>JC3038236</td><td>131298434781</td><td> 33.50</td><td>124.50</td><td>2020-11-28 23:45:00</td><td>2020-12-08 15:59:00+00:00</td><td> 49.016</td></tr>\n",
       "\t<tr><td>JC3038236</td><td>131298434781</td><td> 33.50</td><td>124.50</td><td>2020-11-28 23:45:00</td><td>2020-12-09 15:57:00+00:00</td><td> 49.016</td></tr>\n",
       "\t<tr><td>JC2922376</td><td>131289033363</td><td> 53.07</td><td>157.48</td><td>2020-04-28 13:34:00</td><td>2020-04-28 07:56:00+00:00</td><td> 49.606</td></tr>\n",
       "\t<tr><td>JC2880578</td><td>131285883834</td><td> 93.30</td><td>203.20</td><td>2020-04-09 23:59:00</td><td>2020-04-10 16:00:00+00:00</td><td> 80.250</td></tr>\n",
       "\t<tr><td>JC1001688</td><td>131288774622</td><td>163.29</td><td>205.74</td><td>2020-06-19 21:36:00</td><td>2020-06-19 22:44:00+00:00</td><td> 81.000</td></tr>\n",
       "\t<tr><td>JC1001688</td><td>131288774622</td><td>163.29</td><td>205.74</td><td>2020-06-19 21:36:00</td><td>2020-06-20 04:44:00+00:00</td><td> 81.000</td></tr>\n",
       "\t<tr><td>JC1001688</td><td>131302440087</td><td>163.29</td><td>205.74</td><td>2021-02-26 11:46:00</td><td>2021-02-26 13:15:00+00:00</td><td> 81.000</td></tr>\n",
       "\t<tr><td>JC810540 </td><td>131297906488</td><td>152.00</td><td>208.30</td><td>2020-11-26 04:33:00</td><td>2020-11-26 01:03:00+00:00</td><td> 82.000</td></tr>\n",
       "\t<tr><td>JC810540 </td><td>131297135140</td><td>152.00</td><td>208.30</td><td>2020-11-12 17:16:00</td><td>2020-11-18 20:00:00+00:00</td><td> 82.008</td></tr>\n",
       "\t<tr><td>JC810540 </td><td>131297906488</td><td>152.00</td><td>208.30</td><td>2020-11-26 04:33:00</td><td>2020-12-03 05:48:00+00:00</td><td> 82.008</td></tr>\n",
       "\t<tr><td>JC810540 </td><td>131297906488</td><td>152.00</td><td>208.30</td><td>2020-11-26 04:33:00</td><td>2020-12-25 09:00:00+00:00</td><td> 82.008</td></tr>\n",
       "\t<tr><td>JC2024987</td><td>131316484878</td><td> 90.72</td><td>213.36</td><td>2021-07-30 00:58:00</td><td>2021-07-29 23:32:00+00:00</td><td> 84.000</td></tr>\n",
       "\t<tr><td>JC1435502</td><td>131291283407</td><td> 53.90</td><td>170.20</td><td>2020-07-31 05:32:00</td><td>2020-07-31 08:00:00+00:00</td><td> 91.000</td></tr>\n",
       "\t<tr><td>JC2516481</td><td>131287750536</td><td> 92.70</td><td>167.64</td><td>2020-05-18 20:27:00</td><td>2020-05-18 17:08:00+00:00</td><td> 92.000</td></tr>\n",
       "\t<tr><td>JC1519758</td><td>131304329212</td><td> 84.30</td><td>162.56</td><td>2021-03-12 16:27:00</td><td>2021-03-12 11:49:00+00:00</td><td>160.000</td></tr>\n",
       "</tbody>\n",
       "</table>\n"
      ],
      "text/latex": [
       "A grouped\\_df: 31 × 7\n",
       "\\begin{tabular}{lllllll}\n",
       " anon\\_id & pat\\_enc\\_csn\\_id\\_coded & recent\\_weight\\_kg & recent\\_height\\_cm & admit\\_time & recorded\\_time & Height\\\\\n",
       " <chr> & <dbl> & <dbl> & <dbl> & <chr> & <chr> & <dbl>\\\\\n",
       "\\hline\n",
       "\t JC1698099 & 131315994500 & 104.20 & 167.64 & 2021-07-15 20:39:00 & 2021-07-15 16:37:00+00:00 &   5.600\\\\\n",
       "\t JC2118528 & 131315197333 &  67.00 & 162.56 & 2021-07-23 20:58:00 & 2021-07-23 22:00:00+00:00 &  25.197\\\\\n",
       "\t JC780539  & 131313982299 &  31.00 & 113.00 & 2021-07-29 04:55:00 & 2021-07-29 07:54:00+00:00 &  43.701\\\\\n",
       "\t JC3238367 & 131319578393 &  99.50 & 170.18 & 2021-09-08 00:57:00 & 2021-09-07 20:46:00+00:00 &  44.094\\\\\n",
       "\t JC589879  & 131293742400 &  66.20 & 114.80 & 2020-08-09 02:31:00 & 2020-09-03 15:20:00+00:00 &  45.197\\\\\n",
       "\t JC589879  & 131293742400 &  66.20 & 114.80 & 2020-08-09 02:31:00 & 2020-08-09 06:00:00+00:00 &  45.200\\\\\n",
       "\t JC589879  & 131293742400 &  66.20 & 114.80 & 2020-08-09 02:31:00 & 2020-08-09 01:32:00+00:00 &  45.276\\\\\n",
       "\t JC2534196 & 131315983705 &  38.56 & 118.00 & 2021-09-04 16:48:00 & 2021-09-04 22:00:00+00:00 &  46.457\\\\\n",
       "\t JC2775433 & 131293747518 &  71.90 & 121.90 & 2020-09-08 00:40:00 & 2020-09-08 19:00:00+00:00 &  47.992\\\\\n",
       "\t JC2945436 & 131290560594 &  45.13 & 122.00 & 2020-07-02 18:34:00 & 2020-07-02 22:30:00+00:00 &  48.031\\\\\n",
       "\t JC2945436 & 131290560594 &  45.13 & 122.00 & 2020-07-02 18:34:00 & 2020-07-04 15:09:00+00:00 &  48.031\\\\\n",
       "\t JC2945436 & 131290560594 &  45.13 & 122.00 & 2020-07-02 18:34:00 & 2020-07-12 14:24:00+00:00 &  48.031\\\\\n",
       "\t JC2945436 & 131290560594 &  45.13 & 122.00 & 2020-07-02 18:34:00 & 2020-07-21 14:43:00+00:00 &  48.031\\\\\n",
       "\t JC2945436 & 131290560594 &  45.13 & 122.00 & 2020-07-02 18:34:00 & 2020-07-23 14:48:00+00:00 &  48.031\\\\\n",
       "\t JC3017216 & 131296061391 &  52.80 & 124.46 & 2020-10-24 21:42:00 & 2020-10-26 19:00:00+00:00 &  49.000\\\\\n",
       "\t JC3038236 & 131298434781 &  33.50 & 124.50 & 2020-11-28 23:45:00 & 2020-11-29 03:00:00+00:00 &  49.000\\\\\n",
       "\t JC3038236 & 131298434781 &  33.50 & 124.50 & 2020-11-28 23:45:00 & 2020-12-08 15:59:00+00:00 &  49.016\\\\\n",
       "\t JC3038236 & 131298434781 &  33.50 & 124.50 & 2020-11-28 23:45:00 & 2020-12-09 15:57:00+00:00 &  49.016\\\\\n",
       "\t JC2922376 & 131289033363 &  53.07 & 157.48 & 2020-04-28 13:34:00 & 2020-04-28 07:56:00+00:00 &  49.606\\\\\n",
       "\t JC2880578 & 131285883834 &  93.30 & 203.20 & 2020-04-09 23:59:00 & 2020-04-10 16:00:00+00:00 &  80.250\\\\\n",
       "\t JC1001688 & 131288774622 & 163.29 & 205.74 & 2020-06-19 21:36:00 & 2020-06-19 22:44:00+00:00 &  81.000\\\\\n",
       "\t JC1001688 & 131288774622 & 163.29 & 205.74 & 2020-06-19 21:36:00 & 2020-06-20 04:44:00+00:00 &  81.000\\\\\n",
       "\t JC1001688 & 131302440087 & 163.29 & 205.74 & 2021-02-26 11:46:00 & 2021-02-26 13:15:00+00:00 &  81.000\\\\\n",
       "\t JC810540  & 131297906488 & 152.00 & 208.30 & 2020-11-26 04:33:00 & 2020-11-26 01:03:00+00:00 &  82.000\\\\\n",
       "\t JC810540  & 131297135140 & 152.00 & 208.30 & 2020-11-12 17:16:00 & 2020-11-18 20:00:00+00:00 &  82.008\\\\\n",
       "\t JC810540  & 131297906488 & 152.00 & 208.30 & 2020-11-26 04:33:00 & 2020-12-03 05:48:00+00:00 &  82.008\\\\\n",
       "\t JC810540  & 131297906488 & 152.00 & 208.30 & 2020-11-26 04:33:00 & 2020-12-25 09:00:00+00:00 &  82.008\\\\\n",
       "\t JC2024987 & 131316484878 &  90.72 & 213.36 & 2021-07-30 00:58:00 & 2021-07-29 23:32:00+00:00 &  84.000\\\\\n",
       "\t JC1435502 & 131291283407 &  53.90 & 170.20 & 2020-07-31 05:32:00 & 2020-07-31 08:00:00+00:00 &  91.000\\\\\n",
       "\t JC2516481 & 131287750536 &  92.70 & 167.64 & 2020-05-18 20:27:00 & 2020-05-18 17:08:00+00:00 &  92.000\\\\\n",
       "\t JC1519758 & 131304329212 &  84.30 & 162.56 & 2021-03-12 16:27:00 & 2021-03-12 11:49:00+00:00 & 160.000\\\\\n",
       "\\end{tabular}\n"
      ],
      "text/markdown": [
       "\n",
       "A grouped_df: 31 × 7\n",
       "\n",
       "| anon_id &lt;chr&gt; | pat_enc_csn_id_coded &lt;dbl&gt; | recent_weight_kg &lt;dbl&gt; | recent_height_cm &lt;dbl&gt; | admit_time &lt;chr&gt; | recorded_time &lt;chr&gt; | Height &lt;dbl&gt; |\n",
       "|---|---|---|---|---|---|---|\n",
       "| JC1698099 | 131315994500 | 104.20 | 167.64 | 2021-07-15 20:39:00 | 2021-07-15 16:37:00+00:00 |   5.600 |\n",
       "| JC2118528 | 131315197333 |  67.00 | 162.56 | 2021-07-23 20:58:00 | 2021-07-23 22:00:00+00:00 |  25.197 |\n",
       "| JC780539  | 131313982299 |  31.00 | 113.00 | 2021-07-29 04:55:00 | 2021-07-29 07:54:00+00:00 |  43.701 |\n",
       "| JC3238367 | 131319578393 |  99.50 | 170.18 | 2021-09-08 00:57:00 | 2021-09-07 20:46:00+00:00 |  44.094 |\n",
       "| JC589879  | 131293742400 |  66.20 | 114.80 | 2020-08-09 02:31:00 | 2020-09-03 15:20:00+00:00 |  45.197 |\n",
       "| JC589879  | 131293742400 |  66.20 | 114.80 | 2020-08-09 02:31:00 | 2020-08-09 06:00:00+00:00 |  45.200 |\n",
       "| JC589879  | 131293742400 |  66.20 | 114.80 | 2020-08-09 02:31:00 | 2020-08-09 01:32:00+00:00 |  45.276 |\n",
       "| JC2534196 | 131315983705 |  38.56 | 118.00 | 2021-09-04 16:48:00 | 2021-09-04 22:00:00+00:00 |  46.457 |\n",
       "| JC2775433 | 131293747518 |  71.90 | 121.90 | 2020-09-08 00:40:00 | 2020-09-08 19:00:00+00:00 |  47.992 |\n",
       "| JC2945436 | 131290560594 |  45.13 | 122.00 | 2020-07-02 18:34:00 | 2020-07-02 22:30:00+00:00 |  48.031 |\n",
       "| JC2945436 | 131290560594 |  45.13 | 122.00 | 2020-07-02 18:34:00 | 2020-07-04 15:09:00+00:00 |  48.031 |\n",
       "| JC2945436 | 131290560594 |  45.13 | 122.00 | 2020-07-02 18:34:00 | 2020-07-12 14:24:00+00:00 |  48.031 |\n",
       "| JC2945436 | 131290560594 |  45.13 | 122.00 | 2020-07-02 18:34:00 | 2020-07-21 14:43:00+00:00 |  48.031 |\n",
       "| JC2945436 | 131290560594 |  45.13 | 122.00 | 2020-07-02 18:34:00 | 2020-07-23 14:48:00+00:00 |  48.031 |\n",
       "| JC3017216 | 131296061391 |  52.80 | 124.46 | 2020-10-24 21:42:00 | 2020-10-26 19:00:00+00:00 |  49.000 |\n",
       "| JC3038236 | 131298434781 |  33.50 | 124.50 | 2020-11-28 23:45:00 | 2020-11-29 03:00:00+00:00 |  49.000 |\n",
       "| JC3038236 | 131298434781 |  33.50 | 124.50 | 2020-11-28 23:45:00 | 2020-12-08 15:59:00+00:00 |  49.016 |\n",
       "| JC3038236 | 131298434781 |  33.50 | 124.50 | 2020-11-28 23:45:00 | 2020-12-09 15:57:00+00:00 |  49.016 |\n",
       "| JC2922376 | 131289033363 |  53.07 | 157.48 | 2020-04-28 13:34:00 | 2020-04-28 07:56:00+00:00 |  49.606 |\n",
       "| JC2880578 | 131285883834 |  93.30 | 203.20 | 2020-04-09 23:59:00 | 2020-04-10 16:00:00+00:00 |  80.250 |\n",
       "| JC1001688 | 131288774622 | 163.29 | 205.74 | 2020-06-19 21:36:00 | 2020-06-19 22:44:00+00:00 |  81.000 |\n",
       "| JC1001688 | 131288774622 | 163.29 | 205.74 | 2020-06-19 21:36:00 | 2020-06-20 04:44:00+00:00 |  81.000 |\n",
       "| JC1001688 | 131302440087 | 163.29 | 205.74 | 2021-02-26 11:46:00 | 2021-02-26 13:15:00+00:00 |  81.000 |\n",
       "| JC810540  | 131297906488 | 152.00 | 208.30 | 2020-11-26 04:33:00 | 2020-11-26 01:03:00+00:00 |  82.000 |\n",
       "| JC810540  | 131297135140 | 152.00 | 208.30 | 2020-11-12 17:16:00 | 2020-11-18 20:00:00+00:00 |  82.008 |\n",
       "| JC810540  | 131297906488 | 152.00 | 208.30 | 2020-11-26 04:33:00 | 2020-12-03 05:48:00+00:00 |  82.008 |\n",
       "| JC810540  | 131297906488 | 152.00 | 208.30 | 2020-11-26 04:33:00 | 2020-12-25 09:00:00+00:00 |  82.008 |\n",
       "| JC2024987 | 131316484878 |  90.72 | 213.36 | 2021-07-30 00:58:00 | 2021-07-29 23:32:00+00:00 |  84.000 |\n",
       "| JC1435502 | 131291283407 |  53.90 | 170.20 | 2020-07-31 05:32:00 | 2020-07-31 08:00:00+00:00 |  91.000 |\n",
       "| JC2516481 | 131287750536 |  92.70 | 167.64 | 2020-05-18 20:27:00 | 2020-05-18 17:08:00+00:00 |  92.000 |\n",
       "| JC1519758 | 131304329212 |  84.30 | 162.56 | 2021-03-12 16:27:00 | 2021-03-12 11:49:00+00:00 | 160.000 |\n",
       "\n"
      ],
      "text/plain": [
       "   anon_id   pat_enc_csn_id_coded recent_weight_kg recent_height_cm\n",
       "1  JC1698099 131315994500         104.20           167.64          \n",
       "2  JC2118528 131315197333          67.00           162.56          \n",
       "3  JC780539  131313982299          31.00           113.00          \n",
       "4  JC3238367 131319578393          99.50           170.18          \n",
       "5  JC589879  131293742400          66.20           114.80          \n",
       "6  JC589879  131293742400          66.20           114.80          \n",
       "7  JC589879  131293742400          66.20           114.80          \n",
       "8  JC2534196 131315983705          38.56           118.00          \n",
       "9  JC2775433 131293747518          71.90           121.90          \n",
       "10 JC2945436 131290560594          45.13           122.00          \n",
       "11 JC2945436 131290560594          45.13           122.00          \n",
       "12 JC2945436 131290560594          45.13           122.00          \n",
       "13 JC2945436 131290560594          45.13           122.00          \n",
       "14 JC2945436 131290560594          45.13           122.00          \n",
       "15 JC3017216 131296061391          52.80           124.46          \n",
       "16 JC3038236 131298434781          33.50           124.50          \n",
       "17 JC3038236 131298434781          33.50           124.50          \n",
       "18 JC3038236 131298434781          33.50           124.50          \n",
       "19 JC2922376 131289033363          53.07           157.48          \n",
       "20 JC2880578 131285883834          93.30           203.20          \n",
       "21 JC1001688 131288774622         163.29           205.74          \n",
       "22 JC1001688 131288774622         163.29           205.74          \n",
       "23 JC1001688 131302440087         163.29           205.74          \n",
       "24 JC810540  131297906488         152.00           208.30          \n",
       "25 JC810540  131297135140         152.00           208.30          \n",
       "26 JC810540  131297906488         152.00           208.30          \n",
       "27 JC810540  131297906488         152.00           208.30          \n",
       "28 JC2024987 131316484878          90.72           213.36          \n",
       "29 JC1435502 131291283407          53.90           170.20          \n",
       "30 JC2516481 131287750536          92.70           167.64          \n",
       "31 JC1519758 131304329212          84.30           162.56          \n",
       "   admit_time          recorded_time             Height \n",
       "1  2021-07-15 20:39:00 2021-07-15 16:37:00+00:00   5.600\n",
       "2  2021-07-23 20:58:00 2021-07-23 22:00:00+00:00  25.197\n",
       "3  2021-07-29 04:55:00 2021-07-29 07:54:00+00:00  43.701\n",
       "4  2021-09-08 00:57:00 2021-09-07 20:46:00+00:00  44.094\n",
       "5  2020-08-09 02:31:00 2020-09-03 15:20:00+00:00  45.197\n",
       "6  2020-08-09 02:31:00 2020-08-09 06:00:00+00:00  45.200\n",
       "7  2020-08-09 02:31:00 2020-08-09 01:32:00+00:00  45.276\n",
       "8  2021-09-04 16:48:00 2021-09-04 22:00:00+00:00  46.457\n",
       "9  2020-09-08 00:40:00 2020-09-08 19:00:00+00:00  47.992\n",
       "10 2020-07-02 18:34:00 2020-07-02 22:30:00+00:00  48.031\n",
       "11 2020-07-02 18:34:00 2020-07-04 15:09:00+00:00  48.031\n",
       "12 2020-07-02 18:34:00 2020-07-12 14:24:00+00:00  48.031\n",
       "13 2020-07-02 18:34:00 2020-07-21 14:43:00+00:00  48.031\n",
       "14 2020-07-02 18:34:00 2020-07-23 14:48:00+00:00  48.031\n",
       "15 2020-10-24 21:42:00 2020-10-26 19:00:00+00:00  49.000\n",
       "16 2020-11-28 23:45:00 2020-11-29 03:00:00+00:00  49.000\n",
       "17 2020-11-28 23:45:00 2020-12-08 15:59:00+00:00  49.016\n",
       "18 2020-11-28 23:45:00 2020-12-09 15:57:00+00:00  49.016\n",
       "19 2020-04-28 13:34:00 2020-04-28 07:56:00+00:00  49.606\n",
       "20 2020-04-09 23:59:00 2020-04-10 16:00:00+00:00  80.250\n",
       "21 2020-06-19 21:36:00 2020-06-19 22:44:00+00:00  81.000\n",
       "22 2020-06-19 21:36:00 2020-06-20 04:44:00+00:00  81.000\n",
       "23 2021-02-26 11:46:00 2021-02-26 13:15:00+00:00  81.000\n",
       "24 2020-11-26 04:33:00 2020-11-26 01:03:00+00:00  82.000\n",
       "25 2020-11-12 17:16:00 2020-11-18 20:00:00+00:00  82.008\n",
       "26 2020-11-26 04:33:00 2020-12-03 05:48:00+00:00  82.008\n",
       "27 2020-11-26 04:33:00 2020-12-25 09:00:00+00:00  82.008\n",
       "28 2021-07-30 00:58:00 2021-07-29 23:32:00+00:00  84.000\n",
       "29 2020-07-31 05:32:00 2020-07-31 08:00:00+00:00  91.000\n",
       "30 2020-05-18 20:27:00 2020-05-18 17:08:00+00:00  92.000\n",
       "31 2021-03-12 16:27:00 2021-03-12 11:49:00+00:00 160.000"
      ]
     },
     "metadata": {},
     "output_type": "display_data"
    },
    {
     "data": {
      "text/html": [
       "<style>\n",
       ".list-inline {list-style: none; margin:0; padding: 0}\n",
       ".list-inline>li {display: inline-block}\n",
       ".list-inline>li:not(:last-child)::after {content: \"\\00b7\"; padding: 0 .5ex}\n",
       "</style>\n",
       "<ol class=list-inline><li>31</li><li>26</li></ol>\n"
      ],
      "text/latex": [
       "\\begin{enumerate*}\n",
       "\\item 31\n",
       "\\item 26\n",
       "\\end{enumerate*}\n"
      ],
      "text/markdown": [
       "1. 31\n",
       "2. 26\n",
       "\n",
       "\n"
      ],
      "text/plain": [
       "[1] 31 26"
      ]
     },
     "metadata": {},
     "output_type": "display_data"
    },
    {
     "data": {
      "text/html": [
       "<style>\n",
       ".list-inline {list-style: none; margin:0; padding: 0}\n",
       ".list-inline>li {display: inline-block}\n",
       ".list-inline>li:not(:last-child)::after {content: \"\\00b7\"; padding: 0 .5ex}\n",
       "</style>\n",
       "<ol class=list-inline><li>'anon_id'</li><li>'pat_enc_csn_id_coded'</li><li>'admit_time_jittered'</li><li>'label'</li><li>'admit_time'</li><li>'adm_year'</li><li>'adm_month'</li><li>'inpatient_data_id_coded'</li><li>'ESI'</li><li>'gender'</li><li>'race'</li><li>'recent_height_cm'</li><li>'recent_weight_kg'</li><li>'insurance'</li><li>'age'</li><li>'English'</li><li>'recorded_time'</li><li>'Height'</li><li>'Weight'</li><li>'adredif'</li><li>'Hfsdmdif'</li><li>'Wfsdmdif'</li><li>'nWe'</li><li>'minWe'</li><li>'maxWe'</li><li>'rmaxWe'</li></ol>\n"
      ],
      "text/latex": [
       "\\begin{enumerate*}\n",
       "\\item 'anon\\_id'\n",
       "\\item 'pat\\_enc\\_csn\\_id\\_coded'\n",
       "\\item 'admit\\_time\\_jittered'\n",
       "\\item 'label'\n",
       "\\item 'admit\\_time'\n",
       "\\item 'adm\\_year'\n",
       "\\item 'adm\\_month'\n",
       "\\item 'inpatient\\_data\\_id\\_coded'\n",
       "\\item 'ESI'\n",
       "\\item 'gender'\n",
       "\\item 'race'\n",
       "\\item 'recent\\_height\\_cm'\n",
       "\\item 'recent\\_weight\\_kg'\n",
       "\\item 'insurance'\n",
       "\\item 'age'\n",
       "\\item 'English'\n",
       "\\item 'recorded\\_time'\n",
       "\\item 'Height'\n",
       "\\item 'Weight'\n",
       "\\item 'adredif'\n",
       "\\item 'Hfsdmdif'\n",
       "\\item 'Wfsdmdif'\n",
       "\\item 'nWe'\n",
       "\\item 'minWe'\n",
       "\\item 'maxWe'\n",
       "\\item 'rmaxWe'\n",
       "\\end{enumerate*}\n"
      ],
      "text/markdown": [
       "1. 'anon_id'\n",
       "2. 'pat_enc_csn_id_coded'\n",
       "3. 'admit_time_jittered'\n",
       "4. 'label'\n",
       "5. 'admit_time'\n",
       "6. 'adm_year'\n",
       "7. 'adm_month'\n",
       "8. 'inpatient_data_id_coded'\n",
       "9. 'ESI'\n",
       "10. 'gender'\n",
       "11. 'race'\n",
       "12. 'recent_height_cm'\n",
       "13. 'recent_weight_kg'\n",
       "14. 'insurance'\n",
       "15. 'age'\n",
       "16. 'English'\n",
       "17. 'recorded_time'\n",
       "18. 'Height'\n",
       "19. 'Weight'\n",
       "20. 'adredif'\n",
       "21. 'Hfsdmdif'\n",
       "22. 'Wfsdmdif'\n",
       "23. 'nWe'\n",
       "24. 'minWe'\n",
       "25. 'maxWe'\n",
       "26. 'rmaxWe'\n",
       "\n",
       "\n"
      ],
      "text/plain": [
       " [1] \"anon_id\"                 \"pat_enc_csn_id_coded\"   \n",
       " [3] \"admit_time_jittered\"     \"label\"                  \n",
       " [5] \"admit_time\"              \"adm_year\"               \n",
       " [7] \"adm_month\"               \"inpatient_data_id_coded\"\n",
       " [9] \"ESI\"                     \"gender\"                 \n",
       "[11] \"race\"                    \"recent_height_cm\"       \n",
       "[13] \"recent_weight_kg\"        \"insurance\"              \n",
       "[15] \"age\"                     \"English\"                \n",
       "[17] \"recorded_time\"           \"Height\"                 \n",
       "[19] \"Weight\"                  \"adredif\"                \n",
       "[21] \"Hfsdmdif\"                \"Wfsdmdif\"               \n",
       "[23] \"nWe\"                     \"minWe\"                  \n",
       "[25] \"maxWe\"                   \"rmaxWe\"                 "
      ]
     },
     "metadata": {},
     "output_type": "display_data"
    }
   ],
   "source": [
    "# strict cut at 45 and 90\n",
    "# recent_date, \n",
    "errorH %>% select(anon_id, pat_enc_csn_id_coded, recent_weight_kg, recent_height_cm, \n",
    "                  admit_time, recorded_time, Height)\n",
    "dim(errorH)\n",
    "colnames(errorH)"
   ]
  },
  {
   "cell_type": "raw",
   "metadata": {},
   "source": [
    "# note that other heights in demo and flowsheet for same encounters that are more reasonable\n",
    "errorH[,c(1:2, 5,11:18, 20, 24:26)] %>% filter(Height >= 45 & Height < 50) %>% \n",
    "        arrange(Height) %>% filter(rmaxHe > 1)"
   ]
  },
  {
   "cell_type": "raw",
   "metadata": {},
   "source": [
    "# only 1 patient 1 measurement, look correct\n",
    "errorH[,c(1:2, 5,11:18, 20, 24:26)] %>% filter(Height >= 45 & Height < 50) %>% \n",
    "        arrange(Height) %>% filter(nHe > 1, rmaxHe == 1)"
   ]
  },
  {
   "cell_type": "raw",
   "metadata": {},
   "source": [
    "# there are discrepancies, can be in any range\n",
    "head(hw1[,c(1:2, 5,11:18, 20, 24:26)] %>% filter(Height >=45, Height <=90, rmaxHe > 1.02) %>% arrange(-rmaxHe))"
   ]
  },
  {
   "cell_type": "markdown",
   "metadata": {},
   "source": [
    "#### Process Height from flowsheet, to merge with cohort_demo again later\n",
    "- input `hw1`, output `h` = only all valid Heights available from flowsheet\n",
    "- there are many recent_heights in  `cohort_demo` but not in flowsheet\n",
    "- there are a few with valid Height in flowsheet with no valid recent_height in demographics (only care about CSNs in cohort_demo)"
   ]
  },
  {
   "cell_type": "code",
   "execution_count": 18,
   "metadata": {},
   "outputs": [
    {
     "data": {
      "text/html": [
       "12993"
      ],
      "text/latex": [
       "12993"
      ],
      "text/markdown": [
       "12993"
      ],
      "text/plain": [
       "[1] 12993"
      ]
     },
     "metadata": {},
     "output_type": "display_data"
    },
    {
     "data": {
      "text/html": [
       "12993"
      ],
      "text/latex": [
       "12993"
      ],
      "text/markdown": [
       "12993"
      ],
      "text/plain": [
       "[1] 12993"
      ]
     },
     "metadata": {},
     "output_type": "display_data"
    },
    {
     "data": {
      "text/html": [
       "9757"
      ],
      "text/latex": [
       "9757"
      ],
      "text/markdown": [
       "9757"
      ],
      "text/plain": [
       "[1] 9757"
      ]
     },
     "metadata": {},
     "output_type": "display_data"
    },
    {
     "data": {
      "text/html": [
       "9757"
      ],
      "text/latex": [
       "9757"
      ],
      "text/markdown": [
       "9757"
      ],
      "text/plain": [
       "[1] 9757"
      ]
     },
     "metadata": {},
     "output_type": "display_data"
    },
    {
     "data": {
      "text/html": [
       "9757"
      ],
      "text/latex": [
       "9757"
      ],
      "text/markdown": [
       "9757"
      ],
      "text/plain": [
       "[1] 9757"
      ]
     },
     "metadata": {},
     "output_type": "display_data"
    },
    {
     "data": {
      "text/html": [
       "<style>\n",
       ".dl-inline {width: auto; margin:0; padding: 0}\n",
       ".dl-inline>dt, .dl-inline>dd {float: none; width: auto; display: inline-block}\n",
       ".dl-inline>dt::after {content: \":\\0020\"; padding-right: .5ex}\n",
       ".dl-inline>dt:not(:first-of-type) {padding-left: .5ex}\n",
       "</style><dl class=dl-inline><dt>Hfsdmdif</dt><dd>0</dd><dt>Wfsdmdif</dt><dd>1941</dd></dl>\n"
      ],
      "text/latex": [
       "\\begin{description*}\n",
       "\\item[Hfsdmdif] 0\n",
       "\\item[Wfsdmdif] 1941\n",
       "\\end{description*}\n"
      ],
      "text/markdown": [
       "Hfsdmdif\n",
       ":   0Wfsdmdif\n",
       ":   1941\n",
       "\n"
      ],
      "text/plain": [
       "Hfsdmdif Wfsdmdif \n",
       "       0     1941 "
      ]
     },
     "metadata": {},
     "output_type": "display_data"
    }
   ],
   "source": [
    "length(unique(cohort_demo$anon_id)) #31513\n",
    "length(unique(hw1$anon_id)) #31513\n",
    "\n",
    "# remove the most erroneous values and NAs under flowsheet\n",
    "# take the closest values of flowsheet's Heights to Heights in demographics, per patients\n",
    "h <- hw1 %>% filter(!is.na(Height), Height >= 45, Height <= 90) %>% group_by(anon_id) %>% slice(which.min(Hfsdmdif))\n",
    "# group_by(anon_id) %>% slice_min(order_by = Hfsdmdif)\n",
    "\n",
    "nrow(h) #24324\n",
    "length(unique(h$anon_id)) #24324 vs 24323\n",
    "length(unique(h$pat_enc_csn_id_coded)) #24324 \n",
    "\n",
    "# those without H&W from demo\n",
    "colSums(is.na(h[, c('Hfsdmdif', 'Wfsdmdif')]))"
   ]
  },
  {
   "cell_type": "code",
   "execution_count": 19,
   "metadata": {},
   "outputs": [
    {
     "data": {
      "text/html": [
       "<table class=\"dataframe\">\n",
       "<caption>A grouped_df: 11 × 8</caption>\n",
       "<thead>\n",
       "\t<tr><th scope=col>anon_id</th><th scope=col>pat_enc_csn_id_coded</th><th scope=col>recent_weight_kg</th><th scope=col>recent_height_cm</th><th scope=col>admit_time</th><th scope=col>recorded_time</th><th scope=col>Height</th><th scope=col>Hfsdmdif</th></tr>\n",
       "\t<tr><th scope=col>&lt;chr&gt;</th><th scope=col>&lt;dbl&gt;</th><th scope=col>&lt;dbl&gt;</th><th scope=col>&lt;dbl&gt;</th><th scope=col>&lt;chr&gt;</th><th scope=col>&lt;chr&gt;</th><th scope=col>&lt;dbl&gt;</th><th scope=col>&lt;dbl&gt;</th></tr>\n",
       "</thead>\n",
       "<tbody>\n",
       "\t<tr><td>JC589879 </td><td>131293742400</td><td> 66.20</td><td>114.80</td><td>2020-08-09 02:31:00</td><td>2020-09-03 15:20:00+00:00</td><td>45.197</td><td> 0.00</td></tr>\n",
       "\t<tr><td>JC2534196</td><td>131315983705</td><td> 38.56</td><td>118.00</td><td>2021-09-04 16:48:00</td><td>2021-09-04 22:00:00+00:00</td><td>46.457</td><td> 0.00</td></tr>\n",
       "\t<tr><td>JC2775433</td><td>131293747518</td><td> 71.90</td><td>121.90</td><td>2020-09-08 00:40:00</td><td>2020-09-08 19:00:00+00:00</td><td>47.992</td><td> 0.00</td></tr>\n",
       "\t<tr><td>JC2945436</td><td>131290560594</td><td> 45.13</td><td>122.00</td><td>2020-07-02 18:34:00</td><td>2020-07-02 22:30:00+00:00</td><td>48.031</td><td> 0.00</td></tr>\n",
       "\t<tr><td>JC3017216</td><td>131296061391</td><td> 52.80</td><td>124.46</td><td>2020-10-24 21:42:00</td><td>2020-10-26 19:00:00+00:00</td><td>49.000</td><td> 0.00</td></tr>\n",
       "\t<tr><td>JC3038236</td><td>131298434781</td><td> 33.50</td><td>124.50</td><td>2020-11-28 23:45:00</td><td>2020-12-08 15:59:00+00:00</td><td>49.016</td><td> 0.00</td></tr>\n",
       "\t<tr><td>JC1001688</td><td>131288774622</td><td>163.29</td><td>205.74</td><td>2020-06-19 21:36:00</td><td>2020-06-19 22:44:00+00:00</td><td>81.000</td><td> 0.00</td></tr>\n",
       "\t<tr><td>JC810540 </td><td>131297135140</td><td>152.00</td><td>208.30</td><td>2020-11-12 17:16:00</td><td>2020-11-18 20:00:00+00:00</td><td>82.008</td><td> 0.00</td></tr>\n",
       "\t<tr><td>JC2024987</td><td>131316484878</td><td> 90.72</td><td>213.36</td><td>2021-07-30 00:58:00</td><td>2021-07-29 23:32:00+00:00</td><td>84.000</td><td> 0.00</td></tr>\n",
       "\t<tr><td>JC2880578</td><td>131285883834</td><td> 93.30</td><td>203.20</td><td>2020-04-09 23:59:00</td><td>2020-04-10 16:00:00+00:00</td><td>80.250</td><td> 0.64</td></tr>\n",
       "\t<tr><td>JC2922376</td><td>131289033363</td><td> 53.07</td><td>157.48</td><td>2020-04-28 13:34:00</td><td>2020-04-28 07:56:00+00:00</td><td>49.606</td><td>31.48</td></tr>\n",
       "</tbody>\n",
       "</table>\n"
      ],
      "text/latex": [
       "A grouped\\_df: 11 × 8\n",
       "\\begin{tabular}{llllllll}\n",
       " anon\\_id & pat\\_enc\\_csn\\_id\\_coded & recent\\_weight\\_kg & recent\\_height\\_cm & admit\\_time & recorded\\_time & Height & Hfsdmdif\\\\\n",
       " <chr> & <dbl> & <dbl> & <dbl> & <chr> & <chr> & <dbl> & <dbl>\\\\\n",
       "\\hline\n",
       "\t JC589879  & 131293742400 &  66.20 & 114.80 & 2020-08-09 02:31:00 & 2020-09-03 15:20:00+00:00 & 45.197 &  0.00\\\\\n",
       "\t JC2534196 & 131315983705 &  38.56 & 118.00 & 2021-09-04 16:48:00 & 2021-09-04 22:00:00+00:00 & 46.457 &  0.00\\\\\n",
       "\t JC2775433 & 131293747518 &  71.90 & 121.90 & 2020-09-08 00:40:00 & 2020-09-08 19:00:00+00:00 & 47.992 &  0.00\\\\\n",
       "\t JC2945436 & 131290560594 &  45.13 & 122.00 & 2020-07-02 18:34:00 & 2020-07-02 22:30:00+00:00 & 48.031 &  0.00\\\\\n",
       "\t JC3017216 & 131296061391 &  52.80 & 124.46 & 2020-10-24 21:42:00 & 2020-10-26 19:00:00+00:00 & 49.000 &  0.00\\\\\n",
       "\t JC3038236 & 131298434781 &  33.50 & 124.50 & 2020-11-28 23:45:00 & 2020-12-08 15:59:00+00:00 & 49.016 &  0.00\\\\\n",
       "\t JC1001688 & 131288774622 & 163.29 & 205.74 & 2020-06-19 21:36:00 & 2020-06-19 22:44:00+00:00 & 81.000 &  0.00\\\\\n",
       "\t JC810540  & 131297135140 & 152.00 & 208.30 & 2020-11-12 17:16:00 & 2020-11-18 20:00:00+00:00 & 82.008 &  0.00\\\\\n",
       "\t JC2024987 & 131316484878 &  90.72 & 213.36 & 2021-07-30 00:58:00 & 2021-07-29 23:32:00+00:00 & 84.000 &  0.00\\\\\n",
       "\t JC2880578 & 131285883834 &  93.30 & 203.20 & 2020-04-09 23:59:00 & 2020-04-10 16:00:00+00:00 & 80.250 &  0.64\\\\\n",
       "\t JC2922376 & 131289033363 &  53.07 & 157.48 & 2020-04-28 13:34:00 & 2020-04-28 07:56:00+00:00 & 49.606 & 31.48\\\\\n",
       "\\end{tabular}\n"
      ],
      "text/markdown": [
       "\n",
       "A grouped_df: 11 × 8\n",
       "\n",
       "| anon_id &lt;chr&gt; | pat_enc_csn_id_coded &lt;dbl&gt; | recent_weight_kg &lt;dbl&gt; | recent_height_cm &lt;dbl&gt; | admit_time &lt;chr&gt; | recorded_time &lt;chr&gt; | Height &lt;dbl&gt; | Hfsdmdif &lt;dbl&gt; |\n",
       "|---|---|---|---|---|---|---|---|\n",
       "| JC589879  | 131293742400 |  66.20 | 114.80 | 2020-08-09 02:31:00 | 2020-09-03 15:20:00+00:00 | 45.197 |  0.00 |\n",
       "| JC2534196 | 131315983705 |  38.56 | 118.00 | 2021-09-04 16:48:00 | 2021-09-04 22:00:00+00:00 | 46.457 |  0.00 |\n",
       "| JC2775433 | 131293747518 |  71.90 | 121.90 | 2020-09-08 00:40:00 | 2020-09-08 19:00:00+00:00 | 47.992 |  0.00 |\n",
       "| JC2945436 | 131290560594 |  45.13 | 122.00 | 2020-07-02 18:34:00 | 2020-07-02 22:30:00+00:00 | 48.031 |  0.00 |\n",
       "| JC3017216 | 131296061391 |  52.80 | 124.46 | 2020-10-24 21:42:00 | 2020-10-26 19:00:00+00:00 | 49.000 |  0.00 |\n",
       "| JC3038236 | 131298434781 |  33.50 | 124.50 | 2020-11-28 23:45:00 | 2020-12-08 15:59:00+00:00 | 49.016 |  0.00 |\n",
       "| JC1001688 | 131288774622 | 163.29 | 205.74 | 2020-06-19 21:36:00 | 2020-06-19 22:44:00+00:00 | 81.000 |  0.00 |\n",
       "| JC810540  | 131297135140 | 152.00 | 208.30 | 2020-11-12 17:16:00 | 2020-11-18 20:00:00+00:00 | 82.008 |  0.00 |\n",
       "| JC2024987 | 131316484878 |  90.72 | 213.36 | 2021-07-30 00:58:00 | 2021-07-29 23:32:00+00:00 | 84.000 |  0.00 |\n",
       "| JC2880578 | 131285883834 |  93.30 | 203.20 | 2020-04-09 23:59:00 | 2020-04-10 16:00:00+00:00 | 80.250 |  0.64 |\n",
       "| JC2922376 | 131289033363 |  53.07 | 157.48 | 2020-04-28 13:34:00 | 2020-04-28 07:56:00+00:00 | 49.606 | 31.48 |\n",
       "\n"
      ],
      "text/plain": [
       "   anon_id   pat_enc_csn_id_coded recent_weight_kg recent_height_cm\n",
       "1  JC589879  131293742400          66.20           114.80          \n",
       "2  JC2534196 131315983705          38.56           118.00          \n",
       "3  JC2775433 131293747518          71.90           121.90          \n",
       "4  JC2945436 131290560594          45.13           122.00          \n",
       "5  JC3017216 131296061391          52.80           124.46          \n",
       "6  JC3038236 131298434781          33.50           124.50          \n",
       "7  JC1001688 131288774622         163.29           205.74          \n",
       "8  JC810540  131297135140         152.00           208.30          \n",
       "9  JC2024987 131316484878          90.72           213.36          \n",
       "10 JC2880578 131285883834          93.30           203.20          \n",
       "11 JC2922376 131289033363          53.07           157.48          \n",
       "   admit_time          recorded_time             Height Hfsdmdif\n",
       "1  2020-08-09 02:31:00 2020-09-03 15:20:00+00:00 45.197  0.00   \n",
       "2  2021-09-04 16:48:00 2021-09-04 22:00:00+00:00 46.457  0.00   \n",
       "3  2020-09-08 00:40:00 2020-09-08 19:00:00+00:00 47.992  0.00   \n",
       "4  2020-07-02 18:34:00 2020-07-02 22:30:00+00:00 48.031  0.00   \n",
       "5  2020-10-24 21:42:00 2020-10-26 19:00:00+00:00 49.000  0.00   \n",
       "6  2020-11-28 23:45:00 2020-12-08 15:59:00+00:00 49.016  0.00   \n",
       "7  2020-06-19 21:36:00 2020-06-19 22:44:00+00:00 81.000  0.00   \n",
       "8  2020-11-12 17:16:00 2020-11-18 20:00:00+00:00 82.008  0.00   \n",
       "9  2021-07-30 00:58:00 2021-07-29 23:32:00+00:00 84.000  0.00   \n",
       "10 2020-04-09 23:59:00 2020-04-10 16:00:00+00:00 80.250  0.64   \n",
       "11 2020-04-28 13:34:00 2020-04-28 07:56:00+00:00 49.606 31.48   "
      ]
     },
     "metadata": {},
     "output_type": "display_data"
    }
   ],
   "source": [
    "# after processing, check for possible errors in a narrower range [45, 50) or (80, 90]\n",
    "# recent_date, \n",
    "h %>% filter(Height < 50 | Height > 80) %>% arrange(Hfsdmdif, Height) %>%\n",
    "        select(anon_id, pat_enc_csn_id_coded, recent_weight_kg, recent_height_cm, \n",
    "               admit_time, recorded_time, Height, Hfsdmdif)"
   ]
  },
  {
   "cell_type": "code",
   "execution_count": 21,
   "metadata": {},
   "outputs": [
    {
     "data": {
      "text/html": [
       "9757"
      ],
      "text/latex": [
       "9757"
      ],
      "text/markdown": [
       "9757"
      ],
      "text/plain": [
       "[1] 9757"
      ]
     },
     "metadata": {},
     "output_type": "display_data"
    },
    {
     "data": {
      "text/html": [
       "9757"
      ],
      "text/latex": [
       "9757"
      ],
      "text/markdown": [
       "9757"
      ],
      "text/plain": [
       "[1] 9757"
      ]
     },
     "metadata": {},
     "output_type": "display_data"
    }
   ],
   "source": [
    "# Height in flowsheets seem to be too low, take demographics' Height\n",
    "nrow(h) \n",
    "h <- h %>% filter(!anon_id %in% checkH)\n",
    "nrow(h) #"
   ]
  },
  {
   "cell_type": "code",
   "execution_count": 22,
   "metadata": {},
   "outputs": [
    {
     "data": {
      "text/html": [
       "12613"
      ],
      "text/latex": [
       "12613"
      ],
      "text/markdown": [
       "12613"
      ],
      "text/plain": [
       "[1] 12613"
      ]
     },
     "metadata": {},
     "output_type": "display_data"
    },
    {
     "data": {
      "text/html": [
       "9757"
      ],
      "text/latex": [
       "9757"
      ],
      "text/markdown": [
       "9757"
      ],
      "text/plain": [
       "[1] 9757"
      ]
     },
     "metadata": {},
     "output_type": "display_data"
    },
    {
     "data": {
      "text/html": [
       "<table class=\"dataframe\">\n",
       "<caption>A grouped_df: 0 × 26</caption>\n",
       "<thead>\n",
       "\t<tr><th scope=col>anon_id</th><th scope=col>pat_enc_csn_id_coded</th><th scope=col>admit_time_jittered</th><th scope=col>label</th><th scope=col>admit_time</th><th scope=col>adm_year</th><th scope=col>adm_month</th><th scope=col>inpatient_data_id_coded</th><th scope=col>ESI</th><th scope=col>gender</th><th scope=col>race</th><th scope=col>recent_height_cm</th><th scope=col>recent_weight_kg</th><th scope=col>insurance</th><th scope=col>age</th><th scope=col>English</th><th scope=col>recorded_time</th><th scope=col>Height</th><th scope=col>Weight</th><th scope=col>adredif</th><th scope=col>Hfsdmdif</th><th scope=col>Wfsdmdif</th><th scope=col>nWe</th><th scope=col>minWe</th><th scope=col>maxWe</th><th scope=col>rmaxWe</th></tr>\n",
       "\t<tr><th scope=col>&lt;chr&gt;</th><th scope=col>&lt;dbl&gt;</th><th scope=col>&lt;chr&gt;</th><th scope=col>&lt;int&gt;</th><th scope=col>&lt;chr&gt;</th><th scope=col>&lt;int&gt;</th><th scope=col>&lt;int&gt;</th><th scope=col>&lt;int&gt;</th><th scope=col>&lt;int&gt;</th><th scope=col>&lt;chr&gt;</th><th scope=col>&lt;chr&gt;</th><th scope=col>&lt;dbl&gt;</th><th scope=col>&lt;dbl&gt;</th><th scope=col>&lt;int&gt;</th><th scope=col>&lt;int&gt;</th><th scope=col>&lt;int&gt;</th><th scope=col>&lt;chr&gt;</th><th scope=col>&lt;dbl&gt;</th><th scope=col>&lt;dbl&gt;</th><th scope=col>&lt;dbl&gt;</th><th scope=col>&lt;dbl&gt;</th><th scope=col>&lt;dbl&gt;</th><th scope=col>&lt;int&gt;</th><th scope=col>&lt;dbl&gt;</th><th scope=col>&lt;dbl&gt;</th><th scope=col>&lt;dbl&gt;</th></tr>\n",
       "</thead>\n",
       "<tbody>\n",
       "</tbody>\n",
       "</table>\n"
      ],
      "text/latex": [
       "A grouped\\_df: 0 × 26\n",
       "\\begin{tabular}{llllllllllllllllllllllllll}\n",
       " anon\\_id & pat\\_enc\\_csn\\_id\\_coded & admit\\_time\\_jittered & label & admit\\_time & adm\\_year & adm\\_month & inpatient\\_data\\_id\\_coded & ESI & gender & race & recent\\_height\\_cm & recent\\_weight\\_kg & insurance & age & English & recorded\\_time & Height & Weight & adredif & Hfsdmdif & Wfsdmdif & nWe & minWe & maxWe & rmaxWe\\\\\n",
       " <chr> & <dbl> & <chr> & <int> & <chr> & <int> & <int> & <int> & <int> & <chr> & <chr> & <dbl> & <dbl> & <int> & <int> & <int> & <chr> & <dbl> & <dbl> & <dbl> & <dbl> & <dbl> & <int> & <dbl> & <dbl> & <dbl>\\\\\n",
       "\\hline\n",
       "\\end{tabular}\n"
      ],
      "text/markdown": [
       "\n",
       "A grouped_df: 0 × 26\n",
       "\n",
       "| anon_id &lt;chr&gt; | pat_enc_csn_id_coded &lt;dbl&gt; | admit_time_jittered &lt;chr&gt; | label &lt;int&gt; | admit_time &lt;chr&gt; | adm_year &lt;int&gt; | adm_month &lt;int&gt; | inpatient_data_id_coded &lt;int&gt; | ESI &lt;int&gt; | gender &lt;chr&gt; | race &lt;chr&gt; | recent_height_cm &lt;dbl&gt; | recent_weight_kg &lt;dbl&gt; | insurance &lt;int&gt; | age &lt;int&gt; | English &lt;int&gt; | recorded_time &lt;chr&gt; | Height &lt;dbl&gt; | Weight &lt;dbl&gt; | adredif &lt;dbl&gt; | Hfsdmdif &lt;dbl&gt; | Wfsdmdif &lt;dbl&gt; | nWe &lt;int&gt; | minWe &lt;dbl&gt; | maxWe &lt;dbl&gt; | rmaxWe &lt;dbl&gt; |\n",
       "|---|---|---|---|---|---|---|---|---|---|---|---|---|---|---|---|---|---|---|---|---|---|---|---|---|---|\n",
       "\n"
      ],
      "text/plain": [
       "     anon_id pat_enc_csn_id_coded admit_time_jittered label admit_time adm_year\n",
       "     adm_month inpatient_data_id_coded ESI gender race recent_height_cm\n",
       "     recent_weight_kg insurance age English recorded_time Height Weight adredif\n",
       "     Hfsdmdif Wfsdmdif nWe minWe maxWe rmaxWe"
      ]
     },
     "metadata": {},
     "output_type": "display_data"
    },
    {
     "data": {
      "text/html": [
       "3110"
      ],
      "text/latex": [
       "3110"
      ],
      "text/markdown": [
       "3110"
      ],
      "text/plain": [
       "[1] 3110"
      ]
     },
     "metadata": {},
     "output_type": "display_data"
    }
   ],
   "source": [
    "# remove invalid height in demo, compare counts, will not use this \n",
    "h_recent <- cohort_demo %>% filter(!is.na(recent_height_cm), recent_height_cm >=45*in_2_cm, recent_height_cm <=90*in_2_cm) \n",
    "length(unique(h_recent$anon_id)) #30139 vs 30136\n",
    "length(unique(h$anon_id)) #24320\n",
    "\n",
    "# patients with h from flowsheet but no valid recent_height\n",
    "anti_join(h, h_recent, by=c(\"anon_id\"))\n",
    "\n",
    "# patients NO h from flowsheet but valid recent_height\n",
    "nrow(anti_join(h_recent, h, by=c(\"anon_id\")))"
   ]
  },
  {
   "cell_type": "code",
   "execution_count": 24,
   "metadata": {},
   "outputs": [
    {
     "data": {
      "text/html": [
       "<table class=\"dataframe\">\n",
       "<caption>A data.frame: 1 × 16</caption>\n",
       "<thead>\n",
       "\t<tr><th scope=col>anon_id</th><th scope=col>pat_enc_csn_id_coded</th><th scope=col>admit_time_jittered</th><th scope=col>label</th><th scope=col>admit_time</th><th scope=col>adm_year</th><th scope=col>adm_month</th><th scope=col>inpatient_data_id_coded</th><th scope=col>ESI</th><th scope=col>gender</th><th scope=col>race</th><th scope=col>recent_height_cm</th><th scope=col>recent_weight_kg</th><th scope=col>insurance</th><th scope=col>age</th><th scope=col>English</th></tr>\n",
       "\t<tr><th scope=col>&lt;chr&gt;</th><th scope=col>&lt;dbl&gt;</th><th scope=col>&lt;chr&gt;</th><th scope=col>&lt;int&gt;</th><th scope=col>&lt;chr&gt;</th><th scope=col>&lt;int&gt;</th><th scope=col>&lt;int&gt;</th><th scope=col>&lt;int&gt;</th><th scope=col>&lt;int&gt;</th><th scope=col>&lt;chr&gt;</th><th scope=col>&lt;chr&gt;</th><th scope=col>&lt;dbl&gt;</th><th scope=col>&lt;dbl&gt;</th><th scope=col>&lt;int&gt;</th><th scope=col>&lt;int&gt;</th><th scope=col>&lt;int&gt;</th></tr>\n",
       "</thead>\n",
       "<tbody>\n",
       "\t<tr><td>JC780539</td><td>1.31314e+11</td><td>2021-07-29 04:55:00+00:00</td><td>0</td><td>2021-07-29 04:55:00</td><td>2021</td><td>7</td><td>68877238</td><td>2</td><td>Female</td><td>Asian</td><td>113</td><td>31</td><td>1</td><td>62</td><td>1</td></tr>\n",
       "</tbody>\n",
       "</table>\n"
      ],
      "text/latex": [
       "A data.frame: 1 × 16\n",
       "\\begin{tabular}{llllllllllllllll}\n",
       " anon\\_id & pat\\_enc\\_csn\\_id\\_coded & admit\\_time\\_jittered & label & admit\\_time & adm\\_year & adm\\_month & inpatient\\_data\\_id\\_coded & ESI & gender & race & recent\\_height\\_cm & recent\\_weight\\_kg & insurance & age & English\\\\\n",
       " <chr> & <dbl> & <chr> & <int> & <chr> & <int> & <int> & <int> & <int> & <chr> & <chr> & <dbl> & <dbl> & <int> & <int> & <int>\\\\\n",
       "\\hline\n",
       "\t JC780539 & 1.31314e+11 & 2021-07-29 04:55:00+00:00 & 0 & 2021-07-29 04:55:00 & 2021 & 7 & 68877238 & 2 & Female & Asian & 113 & 31 & 1 & 62 & 1\\\\\n",
       "\\end{tabular}\n"
      ],
      "text/markdown": [
       "\n",
       "A data.frame: 1 × 16\n",
       "\n",
       "| anon_id &lt;chr&gt; | pat_enc_csn_id_coded &lt;dbl&gt; | admit_time_jittered &lt;chr&gt; | label &lt;int&gt; | admit_time &lt;chr&gt; | adm_year &lt;int&gt; | adm_month &lt;int&gt; | inpatient_data_id_coded &lt;int&gt; | ESI &lt;int&gt; | gender &lt;chr&gt; | race &lt;chr&gt; | recent_height_cm &lt;dbl&gt; | recent_weight_kg &lt;dbl&gt; | insurance &lt;int&gt; | age &lt;int&gt; | English &lt;int&gt; |\n",
       "|---|---|---|---|---|---|---|---|---|---|---|---|---|---|---|---|\n",
       "| JC780539 | 1.31314e+11 | 2021-07-29 04:55:00+00:00 | 0 | 2021-07-29 04:55:00 | 2021 | 7 | 68877238 | 2 | Female | Asian | 113 | 31 | 1 | 62 | 1 |\n",
       "\n"
      ],
      "text/plain": [
       "  anon_id  pat_enc_csn_id_coded admit_time_jittered       label\n",
       "1 JC780539 1.31314e+11          2021-07-29 04:55:00+00:00 0    \n",
       "  admit_time          adm_year adm_month inpatient_data_id_coded ESI gender\n",
       "1 2021-07-29 04:55:00 2021     7         68877238                2   Female\n",
       "  race  recent_height_cm recent_weight_kg insurance age English\n",
       "1 Asian 113              31               1         62  1      "
      ]
     },
     "metadata": {},
     "output_type": "display_data"
    }
   ],
   "source": [
    "# 12 patients within invalid recent_heights, many NAs, \n",
    "cohort_demo %>% filter(recent_height_cm < 45*in_2_cm | recent_height_cm > 90*in_2_cm) \n",
    "\n",
    "# this one has recent_height of 111cm, but Height = 67in = 170cm\n",
    "# hw1 %>% filter(anon_id == 'JCdf7023')"
   ]
  },
  {
   "cell_type": "raw",
   "metadata": {},
   "source": [
    "# this patient height at 91 is the only record, where was patient with height at 92 is error\n",
    "# hw1 %>% filter(anon_id %in% c(\"JCd2c9f5\", \"JCce21de\") & !is.na(Height))"
   ]
  },
  {
   "cell_type": "raw",
   "metadata": {},
   "source": [
    "# check records of patients that have erroneous measurements above, (take the first 3) \n",
    "# & !is.na(Height) leave this out of filter as it will not get patient who has 1 record of NA Height\n",
    "pt_errorH <- hw1[, c(1, 11:25)] %>% filter(anon_id %in% errorH$anon_id) %>% arrange(anon_id, Height) # %>% slice(1:3)\n",
    "\n",
    "# only list those patients with more than 1 measurement, take first 2 to see if there's one wihout errors\n",
    "pt_errorH[duplicated(pt_errorH['anon_id']) | duplicated(pt_errorH['anon_id'], fromLast=TRUE), ] %>% arrange(anon_id, Height) %>% slice(1:2)"
   ]
  },
  {
   "cell_type": "raw",
   "metadata": {},
   "source": [
    "# all patients above have a correct measurement for Height, except for this patient, which has correct measurements under recent date,\n",
    "# but at age 20, pt is likely not grwing 14 inches taller in 3 years. that seems odd. \n",
    "# but this is the only exception, I will replace this with her later Height 3 years after admission at age 23-24\n",
    "hw1[, c(1, 5, 11:25)] %>% filter(anon_id %in% c('JCe2946a', 'JCce21de', 'JCd2c9f5')) %>% arrange(anon_id, Height)"
   ]
  },
  {
   "cell_type": "markdown",
   "metadata": {},
   "source": [
    "### Explore Weight (from flowsheet, in ounces): \n",
    "- Consider errors and remove first\n",
    "    - Weight > 12000 (12345.9 oz = 350kg) \n",
    "    - Weight < 720 (45lbs or 20.4kg)\n",
    "- For the remaining Weights\n",
    "    - see details under process Weight"
   ]
  },
  {
   "cell_type": "code",
   "execution_count": 25,
   "metadata": {},
   "outputs": [
    {
     "data": {
      "text/plain": [
       "   Min. 1st Qu.  Median    Mean 3rd Qu.    Max.    NA's \n",
       "   77.1  2208.1  2648.0  2793.0  3200.0 19365.2    7215 "
      ]
     },
     "metadata": {},
     "output_type": "display_data"
    }
   ],
   "source": [
    "summary(hw1$Weight) # 22046.00 is 625kg, 710 is about 20kg, 900 is about 25.5kg"
   ]
  },
  {
   "cell_type": "code",
   "execution_count": 26,
   "metadata": {},
   "outputs": [
    {
     "data": {
      "image/png": "[encoded data removed]",
      "text/plain": [
       "Plot with title “Histogram of hw1$Weight”"
      ]
     },
     "metadata": {
      "image/png": {
       "height": 420,
       "width": 420
      }
     },
     "output_type": "display_data"
    },
    {
     "data": {
      "image/png": "[encoded data removed]",
      "text/plain": [
       "Plot with title “Histogram of hw1[hw1$Weight < 1000, ]$Weight”"
      ]
     },
     "metadata": {
      "image/png": {
       "height": 420,
       "width": 420
      }
     },
     "output_type": "display_data"
    },
    {
     "data": {
      "text/html": [
       "138"
      ],
      "text/latex": [
       "138"
      ],
      "text/markdown": [
       "138"
      ],
      "text/plain": [
       "[1] 138"
      ]
     },
     "metadata": {},
     "output_type": "display_data"
    },
    {
     "data": {
      "text/html": [
       "26"
      ],
      "text/latex": [
       "26"
      ],
      "text/markdown": [
       "26"
      ],
      "text/plain": [
       "[1] 26"
      ]
     },
     "metadata": {},
     "output_type": "display_data"
    },
    {
     "data": {
      "text/html": [
       "32"
      ],
      "text/latex": [
       "32"
      ],
      "text/markdown": [
       "32"
      ],
      "text/plain": [
       "[1] 32"
      ]
     },
     "metadata": {},
     "output_type": "display_data"
    },
    {
     "data": {
      "image/png": "[encoded data removed]",
      "text/plain": [
       "Plot with title “Histogram of hw1[hw1$Weight > 5000 & hw1$Weight < 10000, ]$Weight”"
      ]
     },
     "metadata": {
      "image/png": {
       "height": 420,
       "width": 420
      }
     },
     "output_type": "display_data"
    }
   ],
   "source": [
    "hist(hw1$Weight, breaks=100, xlim=c(0, 12000), col=\"dodgerblue\")\n",
    "hist(hw1[hw1$Weight < 1000,]$Weight, xlim=c(0,1000), col=\"slateblue\") \n",
    "hist(hw1[hw1$Weight > 5000 & hw1$Weight < 10000,]$Weight, col=\"blue\") \n",
    "\n",
    "# possible errors in Weight\n",
    "errorW <- hw1 %>% filter(Weight < 1000 | Weight > 8000) %>% arrange(Weight)\n",
    "nrow(errorW)\n",
    "\n",
    "length(unique(errorW$anon_id))\n",
    "length(unique(errorW$pat_enc_csn_id_coded))"
   ]
  },
  {
   "cell_type": "code",
   "execution_count": 28,
   "metadata": {},
   "outputs": [
    {
     "data": {
      "text/html": [
       "<table class=\"dataframe\">\n",
       "<caption>A grouped_df: 138 × 9</caption>\n",
       "<thead>\n",
       "\t<tr><th scope=col>anon_id</th><th scope=col>pat_enc_csn_id_coded</th><th scope=col>age</th><th scope=col>recent_height_cm</th><th scope=col>recent_weight_kg</th><th scope=col>admit_time</th><th scope=col>recorded_time</th><th scope=col>Weight</th><th scope=col>Wfsdmdif</th></tr>\n",
       "\t<tr><th scope=col>&lt;chr&gt;</th><th scope=col>&lt;dbl&gt;</th><th scope=col>&lt;int&gt;</th><th scope=col>&lt;dbl&gt;</th><th scope=col>&lt;dbl&gt;</th><th scope=col>&lt;chr&gt;</th><th scope=col>&lt;chr&gt;</th><th scope=col>&lt;dbl&gt;</th><th scope=col>&lt;dbl&gt;</th></tr>\n",
       "</thead>\n",
       "<tbody>\n",
       "\t<tr><td>JC1519758</td><td>131304329212</td><td>64</td><td>162.56</td><td> 84.30</td><td>2021-03-12 16:27:00</td><td>2021-03-12 11:49:00+00:00</td><td>   77.10</td><td> 82.11</td></tr>\n",
       "\t<tr><td>JC1499635</td><td>131288946250</td><td>77</td><td>172.20</td><td> 72.12</td><td>2020-06-15 23:05:00</td><td>2020-06-15 20:16:00+00:00</td><td>  224.00</td><td> 65.77</td></tr>\n",
       "\t<tr><td>JC1702425</td><td>131318400414</td><td>48</td><td>170.18</td><td> 72.57</td><td>2021-08-20 04:57:00</td><td>2021-08-20 01:24:00+00:00</td><td>  256.00</td><td> 65.31</td></tr>\n",
       "\t<tr><td>JC2565128</td><td>131302299793</td><td>66</td><td>167.64</td><td>115.67</td><td>2021-01-13 07:26:00</td><td>2021-01-23 12:32:00+00:00</td><td>  416.23</td><td>103.87</td></tr>\n",
       "\t<tr><td>JC1476325</td><td>131310595451</td><td>54</td><td>144.80</td><td> 26.76</td><td>2021-05-30 18:37:00</td><td>2021-06-04 15:00:00+00:00</td><td>  857.15</td><td>  2.46</td></tr>\n",
       "\t<tr><td>JC1476325</td><td>131310595451</td><td>54</td><td>144.80</td><td> 26.76</td><td>2021-05-30 18:37:00</td><td>2021-06-03 17:55:00+00:00</td><td>  860.68</td><td>  2.36</td></tr>\n",
       "\t<tr><td>JC1549260</td><td>131318391387</td><td>30</td><td>158.50</td><td> 28.98</td><td>2021-09-16 20:59:00</td><td>2021-09-20 12:42:00+00:00</td><td>  860.68</td><td>  4.58</td></tr>\n",
       "\t<tr><td>JC1163658</td><td>131294628948</td><td>83</td><td>144.80</td><td> 46.90</td><td>2020-09-21 05:39:00</td><td>2020-09-28 10:00:00+00:00</td><td>  864.00</td><td> 22.41</td></tr>\n",
       "\t<tr><td>JC1476325</td><td>131310595451</td><td>54</td><td>144.80</td><td> 26.76</td><td>2021-05-30 18:37:00</td><td>2021-06-02 00:00:00+00:00</td><td>  874.79</td><td>  1.96</td></tr>\n",
       "\t<tr><td>JC1549260</td><td>131318391387</td><td>30</td><td>158.50</td><td> 28.98</td><td>2021-09-16 20:59:00</td><td>2021-09-18 12:56:00+00:00</td><td>  874.79</td><td>  4.18</td></tr>\n",
       "\t<tr><td>JC1549260</td><td>131318391387</td><td>30</td><td>158.50</td><td> 28.98</td><td>2021-09-16 20:59:00</td><td>2021-09-19 12:26:00+00:00</td><td>  878.31</td><td>  4.08</td></tr>\n",
       "\t<tr><td>JC1549260</td><td>131318391387</td><td>30</td><td>158.50</td><td> 28.98</td><td>2021-09-16 20:59:00</td><td>2021-09-16 16:30:00+00:00</td><td>  880.00</td><td>  4.03</td></tr>\n",
       "\t<tr><td>JC1549260</td><td>131318391387</td><td>30</td><td>158.50</td><td> 28.98</td><td>2021-09-16 20:59:00</td><td>2021-09-17 21:57:00+00:00</td><td>  899.48</td><td>  3.48</td></tr>\n",
       "\t<tr><td>JC1549260</td><td>131318391387</td><td>30</td><td>158.50</td><td> 28.98</td><td>2021-09-16 20:59:00</td><td>2021-09-21 22:00:00+00:00</td><td>  899.48</td><td>  3.48</td></tr>\n",
       "\t<tr><td>JC1476325</td><td>131310595451</td><td>54</td><td>144.80</td><td> 26.76</td><td>2021-05-30 18:37:00</td><td>2021-06-06 22:48:00+00:00</td><td>  903.00</td><td>  1.16</td></tr>\n",
       "\t<tr><td>JC1476325</td><td>131310595451</td><td>54</td><td>144.80</td><td> 26.76</td><td>2021-05-30 18:37:00</td><td>2021-06-11 12:14:00+00:00</td><td>  913.59</td><td>  0.86</td></tr>\n",
       "\t<tr><td>JC1476325</td><td>131310595451</td><td>54</td><td>144.80</td><td> 26.76</td><td>2021-05-30 18:37:00</td><td>2021-06-01 01:06:00+00:00</td><td>  920.00</td><td>  0.68</td></tr>\n",
       "\t<tr><td>JC3063031</td><td>131311153199</td><td>22</td><td>152.40</td><td> 42.64</td><td>2021-05-01 10:23:00</td><td>2021-05-03 13:17:00+00:00</td><td>  924.17</td><td> 16.44</td></tr>\n",
       "\t<tr><td>JC3017497</td><td>131298448309</td><td>26</td><td>157.50</td><td> 28.50</td><td>2020-11-04 07:37:00</td><td>2020-12-09 11:03:00+00:00</td><td>  924.80</td><td>  2.28</td></tr>\n",
       "\t<tr><td>JC1476325</td><td>131310595451</td><td>54</td><td>144.80</td><td> 26.76</td><td>2021-05-30 18:37:00</td><td>2021-05-31 18:00:00+00:00</td><td>  928.00</td><td>  0.45</td></tr>\n",
       "\t<tr><td>JC1476325</td><td>131310595451</td><td>54</td><td>144.80</td><td> 26.76</td><td>2021-05-30 18:37:00</td><td>2021-06-10 06:23:00+00:00</td><td>  931.20</td><td>  0.36</td></tr>\n",
       "\t<tr><td>JC3063031</td><td>131311153199</td><td>22</td><td>152.40</td><td> 42.64</td><td>2021-05-01 10:23:00</td><td>2021-05-05 12:05:00+00:00</td><td>  931.22</td><td> 16.24</td></tr>\n",
       "\t<tr><td>JC1476325</td><td>131306560913</td><td>54</td><td>144.80</td><td> 26.76</td><td>2021-04-08 04:57:00</td><td>2021-04-08 06:29:00+00:00</td><td>  932.80</td><td>  0.32</td></tr>\n",
       "\t<tr><td>JC3063031</td><td>131311153199</td><td>22</td><td>152.40</td><td> 42.64</td><td>2021-05-01 10:23:00</td><td>2021-05-04 13:00:00+00:00</td><td>  934.75</td><td> 16.14</td></tr>\n",
       "\t<tr><td>JC2495489</td><td>131314894904</td><td>22</td><td>147.32</td><td> 29.03</td><td>2021-07-07 06:44:00</td><td>2021-07-07 04:09:00+00:00</td><td>  938.28</td><td>  2.43</td></tr>\n",
       "\t<tr><td>JC3110246</td><td>131308786553</td><td>71</td><td>150.00</td><td> 27.44</td><td>2021-05-13 03:30:00</td><td>2021-05-13 06:26:00+00:00</td><td>  941.81</td><td>  0.74</td></tr>\n",
       "\t<tr><td>JC3110246</td><td>131308786553</td><td>71</td><td>150.00</td><td> 27.44</td><td>2021-05-13 03:30:00</td><td>2021-05-13 06:28:00+00:00</td><td>  945.33</td><td>  0.64</td></tr>\n",
       "\t<tr><td>JC2007174</td><td>131296413447</td><td>24</td><td>152.40</td><td> 28.58</td><td>2020-10-19 01:38:00</td><td>2020-10-19 05:16:00+00:00</td><td>  948.80</td><td>  1.68</td></tr>\n",
       "\t<tr><td>JC3017497</td><td>131298448309</td><td>26</td><td>157.50</td><td> 28.50</td><td>2020-11-04 07:37:00</td><td>2020-11-18 09:00:00+00:00</td><td>  948.86</td><td>  1.60</td></tr>\n",
       "\t<tr><td>JC1476325</td><td>131310595451</td><td>54</td><td>144.80</td><td> 26.76</td><td>2021-05-30 18:37:00</td><td>2021-06-08 15:14:00+00:00</td><td>  952.39</td><td>  0.24</td></tr>\n",
       "\t<tr><td>JC2007174</td><td>131295177775</td><td>24</td><td>152.40</td><td> 28.58</td><td>2020-10-02 19:10:00</td><td>2020-10-03 12:10:00+00:00</td><td>  952.39</td><td>  1.58</td></tr>\n",
       "\t<tr><td>JC2007174</td><td>131295177775</td><td>24</td><td>152.40</td><td> 28.58</td><td>2020-10-02 19:10:00</td><td>2020-10-05 12:32:00+00:00</td><td>  952.39</td><td>  1.58</td></tr>\n",
       "\t<tr><td>JC2979005</td><td>131303325884</td><td>72</td><td>157.48</td><td> 31.90</td><td>2021-02-04 00:52:00</td><td>2021-02-03 20:34:00+00:00</td><td>  960.00</td><td>  4.68</td></tr>\n",
       "\t<tr><td>JC2979005</td><td>131303325884</td><td>72</td><td>157.48</td><td> 31.90</td><td>2021-02-04 00:52:00</td><td>2021-02-07 16:15:00+00:00</td><td>  960.00</td><td>  4.68</td></tr>\n",
       "\t<tr><td>JC3063031</td><td>131311153199</td><td>22</td><td>152.40</td><td> 42.64</td><td>2021-05-01 10:23:00</td><td>2021-05-01 06:30:00+00:00</td><td>  960.00</td><td> 15.42</td></tr>\n",
       "\t<tr><td>JC2007174</td><td>131295177775</td><td>24</td><td>152.40</td><td> 28.58</td><td>2020-10-02 19:10:00</td><td>2020-10-02 18:27:00+00:00</td><td>  962.97</td><td>  1.28</td></tr>\n",
       "\t<tr><td>JC2007174</td><td>131295177775</td><td>24</td><td>152.40</td><td> 28.58</td><td>2020-10-02 19:10:00</td><td>2020-10-02 21:29:00+00:00</td><td>  966.50</td><td>  1.18</td></tr>\n",
       "\t<tr><td>JC3110246</td><td>131308786553</td><td>71</td><td>150.00</td><td> 27.44</td><td>2021-05-13 03:30:00</td><td>2021-05-20 12:46:00+00:00</td><td>  968.00</td><td>  0.00</td></tr>\n",
       "\t<tr><td>JC2007174</td><td>131295177775</td><td>24</td><td>152.40</td><td> 28.58</td><td>2020-10-02 19:10:00</td><td>2020-10-04 12:49:00+00:00</td><td>  971.20</td><td>  1.05</td></tr>\n",
       "\t<tr><td>JC2979005</td><td>131303325884</td><td>72</td><td>157.48</td><td> 31.90</td><td>2021-02-04 00:52:00</td><td>2021-02-08 14:00:00+00:00</td><td>  976.00</td><td>  4.23</td></tr>\n",
       "\t<tr><td>JC3017497</td><td>131298448309</td><td>26</td><td>157.50</td><td> 28.50</td><td>2020-11-04 07:37:00</td><td>2020-12-02 11:30:00+00:00</td><td>  976.00</td><td>  0.83</td></tr>\n",
       "\t<tr><td>JC640050 </td><td>131297661223</td><td>43</td><td>152.40</td><td> 33.30</td><td>2020-11-11 21:33:00</td><td>2020-11-12 01:42:00+00:00</td><td>  980.80</td><td>  5.49</td></tr>\n",
       "\t<tr><td>JC3017497</td><td>131298448309</td><td>26</td><td>157.50</td><td> 28.50</td><td>2020-11-04 07:37:00</td><td>2020-12-16 13:13:00+00:00</td><td>  991.19</td><td>  0.40</td></tr>\n",
       "\t<tr><td>JC3017497</td><td>131298448309</td><td>26</td><td>157.50</td><td> 28.50</td><td>2020-11-04 07:37:00</td><td>2020-11-27 21:00:00+00:00</td><td>  998.24</td><td>  0.20</td></tr>\n",
       "\t<tr><td>JC3063031</td><td>131311153199</td><td>22</td><td>152.40</td><td> 42.64</td><td>2021-05-01 10:23:00</td><td>2021-05-08 21:18:00+00:00</td><td>  998.40</td><td> 14.34</td></tr>\n",
       "\t<tr><td>JC1486806</td><td>131305386128</td><td>41</td><td>167.00</td><td>213.70</td><td>2021-03-14 10:09:00</td><td>2021-03-14 12:00:00+00:00</td><td> 8108.80</td><td> 16.18</td></tr>\n",
       "\t<tr><td>JC1577181</td><td>131312072391</td><td>54</td><td>175.26</td><td>226.30</td><td>2021-05-06 12:05:00</td><td>2021-05-06 17:27:00+00:00</td><td> 8109.40</td><td>  3.60</td></tr>\n",
       "\t<tr><td>JC1577181</td><td>131312072391</td><td>54</td><td>175.26</td><td>226.30</td><td>2021-05-06 12:05:00</td><td>2021-05-07 19:06:00+00:00</td><td> 8128.00</td><td>  4.13</td></tr>\n",
       "\t<tr><td>JC1577181</td><td>131312072391</td><td>54</td><td>175.26</td><td>226.30</td><td>2021-05-06 12:05:00</td><td>2021-05-06 13:15:00+00:00</td><td> 8272.00</td><td>  8.21</td></tr>\n",
       "\t<tr><td>JC1648222</td><td>131290518160</td><td>50</td><td>179.07</td><td>239.95</td><td>2020-07-01 04:43:00</td><td>2020-07-01 22:00:00+00:00</td><td> 8395.12</td><td>  1.95</td></tr>\n",
       "\t<tr><td>JC1648222</td><td>131290518160</td><td>50</td><td>179.07</td><td>239.95</td><td>2020-07-01 04:43:00</td><td>2020-07-01 06:50:00+00:00</td><td> 8409.23</td><td>  1.55</td></tr>\n",
       "\t<tr><td>JC1577181</td><td>131312072391</td><td>54</td><td>175.26</td><td>226.30</td><td>2021-05-06 12:05:00</td><td>2021-05-07 12:36:00+00:00</td><td> 8433.92</td><td> 12.80</td></tr>\n",
       "\t<tr><td>JC2708738</td><td>131299011091</td><td>48</td><td>177.80</td><td>237.68</td><td>2020-12-08 18:18:00</td><td>2020-12-12 16:37:00+00:00</td><td> 8435.20</td><td>  1.46</td></tr>\n",
       "\t<tr><td>JC3057091</td><td>131300436153</td><td>28</td><td>165.10</td><td>240.40</td><td>2021-01-07 00:07:00</td><td>2021-01-09 22:00:00+00:00</td><td> 8448.00</td><td>  0.90</td></tr>\n",
       "\t<tr><td>JC1648222</td><td>131291633342</td><td>50</td><td>179.07</td><td>239.95</td><td>2020-07-23 04:33:00</td><td>2020-07-22 23:21:00+00:00</td><td> 8464.00</td><td>  0.00</td></tr>\n",
       "\t<tr><td>JC1577181</td><td>131312072391</td><td>54</td><td>175.26</td><td>226.30</td><td>2021-05-06 12:05:00</td><td>2021-05-08 12:11:00+00:00</td><td> 8472.72</td><td> 13.90</td></tr>\n",
       "\t<tr><td>JC2708738</td><td>131299011091</td><td>48</td><td>177.80</td><td>237.68</td><td>2020-12-08 18:18:00</td><td>2020-12-11 15:16:00+00:00</td><td> 8476.80</td><td>  2.64</td></tr>\n",
       "\t<tr><td>JC3057091</td><td>131300436153</td><td>28</td><td>165.10</td><td>240.40</td><td>2021-01-07 00:07:00</td><td>2021-01-11 19:58:00+00:00</td><td> 8480.00</td><td>  0.01</td></tr>\n",
       "\t<tr><td>JC2708738</td><td>131299011091</td><td>48</td><td>177.80</td><td>237.68</td><td>2020-12-08 18:18:00</td><td>2020-12-10 11:02:00+00:00</td><td> 8553.60</td><td>  4.81</td></tr>\n",
       "\t<tr><td>JC1577181</td><td>131312072391</td><td>54</td><td>175.26</td><td>226.30</td><td>2021-05-06 12:05:00</td><td>2021-05-09 11:42:00+00:00</td><td> 8553.85</td><td> 16.20</td></tr>\n",
       "\t<tr><td>JC3214717</td><td>131314577085</td><td>33</td><td>200.66</td><td>247.66</td><td>2021-07-25 13:24:00</td><td>2021-07-25 09:23:00+00:00</td><td> 8640.00</td><td>  2.72</td></tr>\n",
       "\t<tr><td>JC2708738</td><td>131299011091</td><td>48</td><td>177.80</td><td>237.68</td><td>2020-12-08 18:18:00</td><td>2020-12-09 12:57:00+00:00</td><td> 8691.20</td><td>  8.72</td></tr>\n",
       "\t<tr><td>JC2708738</td><td>131299011091</td><td>48</td><td>177.80</td><td>237.68</td><td>2020-12-08 18:18:00</td><td>2020-12-09 01:37:00+00:00</td><td> 8732.80</td><td>  9.89</td></tr>\n",
       "\t<tr><td>JC2282652</td><td>131299849991</td><td>38</td><td>198.12</td><td>271.25</td><td>2020-12-20 03:05:00</td><td>2020-12-19 23:55:00+00:00</td><td> 9488.60</td><td>  2.25</td></tr>\n",
       "\t<tr><td>JC2282652</td><td>131299849991</td><td>38</td><td>198.12</td><td>271.25</td><td>2020-12-20 03:05:00</td><td>2020-12-24 12:54:00+00:00</td><td> 9568.00</td><td>  0.00</td></tr>\n",
       "\t<tr><td>JC657828 </td><td>131312960686</td><td>30</td><td>167.64</td><td>294.84</td><td>2021-07-17 07:29:00</td><td>2021-07-17 05:34:00+00:00</td><td> 9600.00</td><td> 22.68</td></tr>\n",
       "\t<tr><td>JC2282652</td><td>131299849991</td><td>38</td><td>198.12</td><td>271.25</td><td>2020-12-20 03:05:00</td><td>2020-12-23 12:51:00+00:00</td><td> 9616.00</td><td>  1.36</td></tr>\n",
       "\t<tr><td>JC2282652</td><td>131299849991</td><td>38</td><td>198.12</td><td>271.25</td><td>2020-12-20 03:05:00</td><td>2020-12-22 13:00:00+00:00</td><td> 9664.00</td><td>  2.72</td></tr>\n",
       "\t<tr><td>JC2282652</td><td>131299849991</td><td>38</td><td>198.12</td><td>271.25</td><td>2020-12-20 03:05:00</td><td>2020-12-21 13:17:00+00:00</td><td> 9744.00</td><td>  4.99</td></tr>\n",
       "\t<tr><td>JC2483030</td><td>131287076413</td><td>31</td><td>165.00</td><td>321.00</td><td>2020-04-01 10:46:00</td><td>2020-04-01 08:16:00+00:00</td><td>10224.00</td><td> 31.15</td></tr>\n",
       "\t<tr><td>JC657828 </td><td>131312960686</td><td>30</td><td>167.64</td><td>294.84</td><td>2021-07-17 07:29:00</td><td>2021-07-20 22:55:00+00:00</td><td>10271.67</td><td>  3.64</td></tr>\n",
       "\t<tr><td>JC657828 </td><td>131312960686</td><td>30</td><td>167.64</td><td>294.84</td><td>2021-07-17 07:29:00</td><td>2021-07-22 21:31:00+00:00</td><td>10328.11</td><td>  2.04</td></tr>\n",
       "\t<tr><td>JC2282652</td><td>131299849991</td><td>38</td><td>198.12</td><td>271.25</td><td>2020-12-20 03:05:00</td><td>2020-12-20 02:00:00+00:00</td><td>10400.00</td><td> 23.59</td></tr>\n",
       "\t<tr><td>JC657828 </td><td>131305573002</td><td>30</td><td>167.64</td><td>294.84</td><td>2021-04-05 11:25:00</td><td>2021-04-05 07:57:00+00:00</td><td>10400.00</td><td>  0.00</td></tr>\n",
       "\t<tr><td>JC657828 </td><td>131305573002</td><td>30</td><td>167.64</td><td>294.84</td><td>2021-04-05 11:25:00</td><td>2021-04-06 16:15:00+00:00</td><td>10542.40</td><td>  4.04</td></tr>\n",
       "\t<tr><td>JC1531263</td><td>131311511070</td><td>34</td><td>185.42</td><td>301.31</td><td>2021-05-18 09:41:00</td><td>2021-05-18 13:20:00+00:00</td><td>10628.32</td><td>  0.00</td></tr>\n",
       "\t<tr><td>JC1531263</td><td>131311511070</td><td>34</td><td>185.42</td><td>301.31</td><td>2021-05-18 09:41:00</td><td>2021-05-22 12:15:00+00:00</td><td>10628.36</td><td>  0.00</td></tr>\n",
       "\t<tr><td>JC2483030</td><td>131290284892</td><td>31</td><td>165.00</td><td>321.00</td><td>2020-06-17 05:37:00</td><td>2020-07-02 10:00:00+00:00</td><td>11040.64</td><td>  8.00</td></tr>\n",
       "\t<tr><td>JC2483030</td><td>131290284892</td><td>31</td><td>165.00</td><td>321.00</td><td>2020-06-17 05:37:00</td><td>2020-07-03 11:53:00+00:00</td><td>11040.64</td><td>  8.00</td></tr>\n",
       "\t<tr><td>JC2483030</td><td>131290284892</td><td>31</td><td>165.00</td><td>321.00</td><td>2020-06-17 05:37:00</td><td>2020-06-17 13:00:00+00:00</td><td>11199.37</td><td>  3.50</td></tr>\n",
       "\t<tr><td>JC2483030</td><td>131290284892</td><td>31</td><td>165.00</td><td>321.00</td><td>2020-06-17 05:37:00</td><td>2020-06-17 02:51:00+00:00</td><td>11200.00</td><td>  3.48</td></tr>\n",
       "\t<tr><td>JC3020594</td><td>131308234915</td><td>47</td><td>193.00</td><td>342.46</td><td>2021-05-03 07:58:00</td><td>2021-05-03 07:30:00+00:00</td><td>11200.00</td><td> 24.94</td></tr>\n",
       "\t<tr><td>JC2483030</td><td>131287076413</td><td>31</td><td>165.00</td><td>321.00</td><td>2020-04-01 10:46:00</td><td>2020-04-05 12:53:00+00:00</td><td>11312.00</td><td>  0.30</td></tr>\n",
       "\t<tr><td>JC2483030</td><td>131301215021</td><td>32</td><td>165.00</td><td>321.00</td><td>2021-01-01 10:32:00</td><td>2021-01-10 13:38:00+00:00</td><td>11328.00</td><td>  0.15</td></tr>\n",
       "\t<tr><td>JC3020594</td><td>131308234915</td><td>47</td><td>193.00</td><td>342.46</td><td>2021-05-03 07:58:00</td><td>2021-05-16 13:00:00+00:00</td><td>11344.00</td><td> 20.86</td></tr>\n",
       "\t<tr><td>JC2483030</td><td>131287076413</td><td>31</td><td>165.00</td><td>321.00</td><td>2020-04-01 10:46:00</td><td>2020-04-03 20:00:00+00:00</td><td>11392.00</td><td>  1.96</td></tr>\n",
       "\t<tr><td>JC3020594</td><td>131308234915</td><td>47</td><td>193.00</td><td>342.46</td><td>2021-05-03 07:58:00</td><td>2021-05-17 13:00:00+00:00</td><td>11392.00</td><td> 19.50</td></tr>\n",
       "\t<tr><td>JC657828 </td><td>131312960686</td><td>30</td><td>167.64</td><td>294.84</td><td>2021-07-17 07:29:00</td><td>2021-07-17 06:00:00+00:00</td><td>11393.37</td><td> 28.16</td></tr>\n",
       "\t<tr><td>JC2483030</td><td>131287076413</td><td>31</td><td>165.00</td><td>321.00</td><td>2020-04-01 10:46:00</td><td>2020-04-04 11:40:00+00:00</td><td>11396.90</td><td>  2.10</td></tr>\n",
       "\t<tr><td>JC2483030</td><td>131301215021</td><td>32</td><td>165.00</td><td>321.00</td><td>2021-01-01 10:32:00</td><td>2021-01-09 14:30:00+00:00</td><td>11520.00</td><td>  5.59</td></tr>\n",
       "\t<tr><td>JC2483030</td><td>131290284892</td><td>31</td><td>165.00</td><td>321.00</td><td>2020-06-17 05:37:00</td><td>2020-06-28 12:57:00+00:00</td><td>11534.47</td><td>  6.00</td></tr>\n",
       "\t<tr><td>JC2483030</td><td>131290284892</td><td>31</td><td>165.00</td><td>321.00</td><td>2020-06-17 05:37:00</td><td>2020-06-30 10:55:00+00:00</td><td>11640.29</td><td>  9.00</td></tr>\n",
       "\t<tr><td>JC2483030</td><td>131290284892</td><td>31</td><td>165.00</td><td>321.00</td><td>2020-06-17 05:37:00</td><td>2020-07-02 00:00:00+00:00</td><td>11675.56</td><td> 10.00</td></tr>\n",
       "\t<tr><td>JC3020594</td><td>131308234915</td><td>47</td><td>193.00</td><td>342.46</td><td>2021-05-03 07:58:00</td><td>2021-05-21 13:00:00+00:00</td><td>11904.00</td><td>  4.98</td></tr>\n",
       "\t<tr><td>JC2483030</td><td>131290284892</td><td>31</td><td>165.00</td><td>321.00</td><td>2020-06-17 05:37:00</td><td>2020-06-27 12:57:00+00:00</td><td>11922.48</td><td> 17.00</td></tr>\n",
       "\t<tr><td>JC2483030</td><td>131290284892</td><td>31</td><td>165.00</td><td>321.00</td><td>2020-06-17 05:37:00</td><td>2020-06-26 13:46:00+00:00</td><td>11957.75</td><td> 18.00</td></tr>\n",
       "\t<tr><td>JC3020594</td><td>131308234915</td><td>47</td><td>193.00</td><td>342.46</td><td>2021-05-03 07:58:00</td><td>2021-05-22 10:49:00+00:00</td><td>12000.00</td><td>  2.26</td></tr>\n",
       "\t<tr><td>JC3020594</td><td>131308234915</td><td>47</td><td>193.00</td><td>342.46</td><td>2021-05-03 07:58:00</td><td>2021-05-23 12:56:00+00:00</td><td>12000.00</td><td>  2.26</td></tr>\n",
       "\t<tr><td>JC2483030</td><td>131301215021</td><td>32</td><td>165.00</td><td>321.00</td><td>2021-01-01 10:32:00</td><td>2021-01-02 13:00:00+00:00</td><td>12016.00</td><td> 19.65</td></tr>\n",
       "\t<tr><td>JC2483030</td><td>131301215021</td><td>32</td><td>165.00</td><td>321.00</td><td>2021-01-01 10:32:00</td><td>2021-01-01 07:10:00+00:00</td><td>12080.00</td><td> 21.47</td></tr>\n",
       "\t<tr><td>JC3020594</td><td>131308234915</td><td>47</td><td>193.00</td><td>342.46</td><td>2021-05-03 07:58:00</td><td>2021-06-15 19:51:00+00:00</td><td>12080.00</td><td>  0.01</td></tr>\n",
       "\t<tr><td>JC3020594</td><td>131308234915</td><td>47</td><td>193.00</td><td>342.46</td><td>2021-05-03 07:58:00</td><td>2021-05-20 17:59:00+00:00</td><td>12160.00</td><td>  2.28</td></tr>\n",
       "\t<tr><td>JC2483030</td><td>131301215021</td><td>32</td><td>165.00</td><td>321.00</td><td>2021-01-01 10:32:00</td><td>2021-01-08 14:44:00+00:00</td><td>12208.00</td><td> 25.10</td></tr>\n",
       "\t<tr><td>JC3020594</td><td>131308234915</td><td>47</td><td>193.00</td><td>342.46</td><td>2021-05-03 07:58:00</td><td>2021-05-24 12:57:00+00:00</td><td>12224.00</td><td>  4.09</td></tr>\n",
       "\t<tr><td>JC3020594</td><td>131308234915</td><td>47</td><td>193.00</td><td>342.46</td><td>2021-05-03 07:58:00</td><td>2021-05-09 23:50:00+00:00</td><td>12272.00</td><td>  5.45</td></tr>\n",
       "\t<tr><td>JC3020594</td><td>131308234915</td><td>47</td><td>193.00</td><td>342.46</td><td>2021-05-03 07:58:00</td><td>2021-06-14 22:00:00+00:00</td><td>12320.00</td><td>  6.81</td></tr>\n",
       "\t<tr><td>JC3020594</td><td>131308234915</td><td>47</td><td>193.00</td><td>342.46</td><td>2021-05-03 07:58:00</td><td>2021-05-30 12:00:00+00:00</td><td>12336.00</td><td>  7.27</td></tr>\n",
       "\t<tr><td>JC2483030</td><td>131290284892</td><td>31</td><td>165.00</td><td>321.00</td><td>2020-06-17 05:37:00</td><td>2020-06-25 14:27:00+00:00</td><td>12345.76</td><td> 29.00</td></tr>\n",
       "\t<tr><td>JC2483030</td><td>131287076413</td><td>31</td><td>165.00</td><td>321.00</td><td>2020-04-01 10:46:00</td><td>2020-04-03 12:00:00+00:00</td><td>12381.03</td><td> 30.00</td></tr>\n",
       "\t<tr><td>JC3020594</td><td>131308234915</td><td>47</td><td>193.00</td><td>342.46</td><td>2021-05-03 07:58:00</td><td>2021-05-25 11:00:00+00:00</td><td>12384.00</td><td>  8.63</td></tr>\n",
       "\t<tr><td>JC3020594</td><td>131308234915</td><td>47</td><td>193.00</td><td>342.46</td><td>2021-05-03 07:58:00</td><td>2021-05-29 13:00:00+00:00</td><td>12511.55</td><td> 12.24</td></tr>\n",
       "\t<tr><td>JC3020594</td><td>131308234915</td><td>47</td><td>193.00</td><td>342.46</td><td>2021-05-03 07:58:00</td><td>2021-05-26 10:10:00+00:00</td><td>12512.00</td><td> 12.26</td></tr>\n",
       "\t<tr><td>JC2483030</td><td>131290284892</td><td>31</td><td>165.00</td><td>321.00</td><td>2020-06-17 05:37:00</td><td>2020-06-21 13:00:00+00:00</td><td>12522.13</td><td> 34.00</td></tr>\n",
       "\t<tr><td>JC3020594</td><td>131308234915</td><td>47</td><td>193.00</td><td>342.46</td><td>2021-05-03 07:58:00</td><td>2021-06-02 12:32:00+00:00</td><td>12624.00</td><td> 15.43</td></tr>\n",
       "\t<tr><td>JC2483030</td><td>131290284892</td><td>31</td><td>165.00</td><td>321.00</td><td>2020-06-17 05:37:00</td><td>2020-06-20 11:56:00+00:00</td><td>12627.95</td><td> 37.00</td></tr>\n",
       "\t<tr><td>JC2483030</td><td>131290284892</td><td>31</td><td>165.00</td><td>321.00</td><td>2020-06-17 05:37:00</td><td>2020-06-24 13:00:00+00:00</td><td>12627.95</td><td> 37.00</td></tr>\n",
       "\t<tr><td>JC2483030</td><td>131290284892</td><td>31</td><td>165.00</td><td>321.00</td><td>2020-06-17 05:37:00</td><td>2020-06-19 13:49:00+00:00</td><td>12663.22</td><td> 38.00</td></tr>\n",
       "\t<tr><td>JC2483030</td><td>131290284892</td><td>31</td><td>165.00</td><td>321.00</td><td>2020-06-17 05:37:00</td><td>2020-06-23 12:00:00+00:00</td><td>12663.22</td><td> 38.00</td></tr>\n",
       "\t<tr><td>JC2483030</td><td>131290284892</td><td>31</td><td>165.00</td><td>321.00</td><td>2020-06-17 05:37:00</td><td>2020-06-18 12:49:00+00:00</td><td>12698.50</td><td> 39.00</td></tr>\n",
       "\t<tr><td>JC2483030</td><td>131290284892</td><td>31</td><td>165.00</td><td>321.00</td><td>2020-06-17 05:37:00</td><td>2020-06-22 13:16:00+00:00</td><td>12769.04</td><td> 41.00</td></tr>\n",
       "\t<tr><td>JC3020594</td><td>131308234915</td><td>47</td><td>193.00</td><td>342.46</td><td>2021-05-03 07:58:00</td><td>2021-06-04 12:25:00+00:00</td><td>12832.00</td><td> 21.33</td></tr>\n",
       "\t<tr><td>JC3020594</td><td>131308234915</td><td>47</td><td>193.00</td><td>342.46</td><td>2021-05-03 07:58:00</td><td>2021-06-05 13:00:00+00:00</td><td>12832.00</td><td> 21.33</td></tr>\n",
       "\t<tr><td>JC3020594</td><td>131308234915</td><td>47</td><td>193.00</td><td>342.46</td><td>2021-05-03 07:58:00</td><td>2021-06-13 12:42:00+00:00</td><td>12832.00</td><td> 21.33</td></tr>\n",
       "\t<tr><td>JC2483030</td><td>131301215021</td><td>32</td><td>165.00</td><td>321.00</td><td>2021-01-01 10:32:00</td><td>2021-01-06 15:00:00+00:00</td><td>12839.59</td><td> 43.00</td></tr>\n",
       "\t<tr><td>JC3020594</td><td>131308234915</td><td>47</td><td>193.00</td><td>342.46</td><td>2021-05-03 07:58:00</td><td>2021-06-12 22:00:00+00:00</td><td>12944.00</td><td> 24.50</td></tr>\n",
       "\t<tr><td>JC3020594</td><td>131308234915</td><td>47</td><td>193.00</td><td>342.46</td><td>2021-05-03 07:58:00</td><td>2021-05-09 09:35:00+00:00</td><td>13088.00</td><td> 28.58</td></tr>\n",
       "\t<tr><td>JC3020594</td><td>131308234915</td><td>47</td><td>193.00</td><td>342.46</td><td>2021-05-03 07:58:00</td><td>2021-05-09 00:30:00+00:00</td><td>13120.00</td><td> 29.49</td></tr>\n",
       "\t<tr><td>JC2483030</td><td>131301215021</td><td>32</td><td>165.00</td><td>321.00</td><td>2021-01-01 10:32:00</td><td>2021-01-05 14:00:00+00:00</td><td>13184.00</td><td> 52.77</td></tr>\n",
       "\t<tr><td>JC3020594</td><td>131308234915</td><td>47</td><td>193.00</td><td>342.46</td><td>2021-05-03 07:58:00</td><td>2021-06-07 17:50:00+00:00</td><td>13184.00</td><td> 31.31</td></tr>\n",
       "\t<tr><td>JC2483030</td><td>131301215021</td><td>32</td><td>165.00</td><td>321.00</td><td>2021-01-01 10:32:00</td><td>2021-01-03 02:00:00+00:00</td><td>13280.00</td><td> 55.49</td></tr>\n",
       "\t<tr><td>JC2483030</td><td>131301215021</td><td>32</td><td>165.00</td><td>321.00</td><td>2021-01-01 10:32:00</td><td>2021-01-07 14:00:00+00:00</td><td>13296.00</td><td> 55.94</td></tr>\n",
       "\t<tr><td>JC3020594</td><td>131308234915</td><td>47</td><td>193.00</td><td>342.46</td><td>2021-05-03 07:58:00</td><td>2021-06-06 17:03:00+00:00</td><td>13312.00</td><td> 34.94</td></tr>\n",
       "\t<tr><td>JC2483030</td><td>131301215021</td><td>32</td><td>165.00</td><td>321.00</td><td>2021-01-01 10:32:00</td><td>2021-01-04 21:16:00+00:00</td><td>13439.24</td><td> 60.00</td></tr>\n",
       "\t<tr><td>JC2483030</td><td>131301215021</td><td>32</td><td>165.00</td><td>321.00</td><td>2021-01-01 10:32:00</td><td>2021-01-03 12:21:00+00:00</td><td>13440.00</td><td> 60.02</td></tr>\n",
       "\t<tr><td>JC3020594</td><td>131308234915</td><td>47</td><td>193.00</td><td>342.46</td><td>2021-05-03 07:58:00</td><td>2021-05-07 13:00:00+00:00</td><td>14557.41</td><td> 70.24</td></tr>\n",
       "\t<tr><td>JC3020594</td><td>131308234915</td><td>47</td><td>193.00</td><td>342.46</td><td>2021-05-03 07:58:00</td><td>2021-05-08 18:30:00+00:00</td><td>14656.00</td><td> 73.04</td></tr>\n",
       "\t<tr><td>JC3020594</td><td>131308234915</td><td>47</td><td>193.00</td><td>342.46</td><td>2021-05-03 07:58:00</td><td>2021-05-08 15:34:00+00:00</td><td>15200.00</td><td> 88.46</td></tr>\n",
       "\t<tr><td>JC1799359</td><td>131297353407</td><td>78</td><td>152.40</td><td> 59.00</td><td>2020-11-23 03:54:00</td><td>2020-11-24 19:53:00+00:00</td><td>19365.21</td><td>490.00</td></tr>\n",
       "</tbody>\n",
       "</table>\n"
      ],
      "text/latex": [
       "A grouped\\_df: 138 × 9\n",
       "\\begin{tabular}{lllllllll}\n",
       " anon\\_id & pat\\_enc\\_csn\\_id\\_coded & age & recent\\_height\\_cm & recent\\_weight\\_kg & admit\\_time & recorded\\_time & Weight & Wfsdmdif\\\\\n",
       " <chr> & <dbl> & <int> & <dbl> & <dbl> & <chr> & <chr> & <dbl> & <dbl>\\\\\n",
       "\\hline\n",
       "\t JC1519758 & 131304329212 & 64 & 162.56 &  84.30 & 2021-03-12 16:27:00 & 2021-03-12 11:49:00+00:00 &    77.10 &  82.11\\\\\n",
       "\t JC1499635 & 131288946250 & 77 & 172.20 &  72.12 & 2020-06-15 23:05:00 & 2020-06-15 20:16:00+00:00 &   224.00 &  65.77\\\\\n",
       "\t JC1702425 & 131318400414 & 48 & 170.18 &  72.57 & 2021-08-20 04:57:00 & 2021-08-20 01:24:00+00:00 &   256.00 &  65.31\\\\\n",
       "\t JC2565128 & 131302299793 & 66 & 167.64 & 115.67 & 2021-01-13 07:26:00 & 2021-01-23 12:32:00+00:00 &   416.23 & 103.87\\\\\n",
       "\t JC1476325 & 131310595451 & 54 & 144.80 &  26.76 & 2021-05-30 18:37:00 & 2021-06-04 15:00:00+00:00 &   857.15 &   2.46\\\\\n",
       "\t JC1476325 & 131310595451 & 54 & 144.80 &  26.76 & 2021-05-30 18:37:00 & 2021-06-03 17:55:00+00:00 &   860.68 &   2.36\\\\\n",
       "\t JC1549260 & 131318391387 & 30 & 158.50 &  28.98 & 2021-09-16 20:59:00 & 2021-09-20 12:42:00+00:00 &   860.68 &   4.58\\\\\n",
       "\t JC1163658 & 131294628948 & 83 & 144.80 &  46.90 & 2020-09-21 05:39:00 & 2020-09-28 10:00:00+00:00 &   864.00 &  22.41\\\\\n",
       "\t JC1476325 & 131310595451 & 54 & 144.80 &  26.76 & 2021-05-30 18:37:00 & 2021-06-02 00:00:00+00:00 &   874.79 &   1.96\\\\\n",
       "\t JC1549260 & 131318391387 & 30 & 158.50 &  28.98 & 2021-09-16 20:59:00 & 2021-09-18 12:56:00+00:00 &   874.79 &   4.18\\\\\n",
       "\t JC1549260 & 131318391387 & 30 & 158.50 &  28.98 & 2021-09-16 20:59:00 & 2021-09-19 12:26:00+00:00 &   878.31 &   4.08\\\\\n",
       "\t JC1549260 & 131318391387 & 30 & 158.50 &  28.98 & 2021-09-16 20:59:00 & 2021-09-16 16:30:00+00:00 &   880.00 &   4.03\\\\\n",
       "\t JC1549260 & 131318391387 & 30 & 158.50 &  28.98 & 2021-09-16 20:59:00 & 2021-09-17 21:57:00+00:00 &   899.48 &   3.48\\\\\n",
       "\t JC1549260 & 131318391387 & 30 & 158.50 &  28.98 & 2021-09-16 20:59:00 & 2021-09-21 22:00:00+00:00 &   899.48 &   3.48\\\\\n",
       "\t JC1476325 & 131310595451 & 54 & 144.80 &  26.76 & 2021-05-30 18:37:00 & 2021-06-06 22:48:00+00:00 &   903.00 &   1.16\\\\\n",
       "\t JC1476325 & 131310595451 & 54 & 144.80 &  26.76 & 2021-05-30 18:37:00 & 2021-06-11 12:14:00+00:00 &   913.59 &   0.86\\\\\n",
       "\t JC1476325 & 131310595451 & 54 & 144.80 &  26.76 & 2021-05-30 18:37:00 & 2021-06-01 01:06:00+00:00 &   920.00 &   0.68\\\\\n",
       "\t JC3063031 & 131311153199 & 22 & 152.40 &  42.64 & 2021-05-01 10:23:00 & 2021-05-03 13:17:00+00:00 &   924.17 &  16.44\\\\\n",
       "\t JC3017497 & 131298448309 & 26 & 157.50 &  28.50 & 2020-11-04 07:37:00 & 2020-12-09 11:03:00+00:00 &   924.80 &   2.28\\\\\n",
       "\t JC1476325 & 131310595451 & 54 & 144.80 &  26.76 & 2021-05-30 18:37:00 & 2021-05-31 18:00:00+00:00 &   928.00 &   0.45\\\\\n",
       "\t JC1476325 & 131310595451 & 54 & 144.80 &  26.76 & 2021-05-30 18:37:00 & 2021-06-10 06:23:00+00:00 &   931.20 &   0.36\\\\\n",
       "\t JC3063031 & 131311153199 & 22 & 152.40 &  42.64 & 2021-05-01 10:23:00 & 2021-05-05 12:05:00+00:00 &   931.22 &  16.24\\\\\n",
       "\t JC1476325 & 131306560913 & 54 & 144.80 &  26.76 & 2021-04-08 04:57:00 & 2021-04-08 06:29:00+00:00 &   932.80 &   0.32\\\\\n",
       "\t JC3063031 & 131311153199 & 22 & 152.40 &  42.64 & 2021-05-01 10:23:00 & 2021-05-04 13:00:00+00:00 &   934.75 &  16.14\\\\\n",
       "\t JC2495489 & 131314894904 & 22 & 147.32 &  29.03 & 2021-07-07 06:44:00 & 2021-07-07 04:09:00+00:00 &   938.28 &   2.43\\\\\n",
       "\t JC3110246 & 131308786553 & 71 & 150.00 &  27.44 & 2021-05-13 03:30:00 & 2021-05-13 06:26:00+00:00 &   941.81 &   0.74\\\\\n",
       "\t JC3110246 & 131308786553 & 71 & 150.00 &  27.44 & 2021-05-13 03:30:00 & 2021-05-13 06:28:00+00:00 &   945.33 &   0.64\\\\\n",
       "\t JC2007174 & 131296413447 & 24 & 152.40 &  28.58 & 2020-10-19 01:38:00 & 2020-10-19 05:16:00+00:00 &   948.80 &   1.68\\\\\n",
       "\t JC3017497 & 131298448309 & 26 & 157.50 &  28.50 & 2020-11-04 07:37:00 & 2020-11-18 09:00:00+00:00 &   948.86 &   1.60\\\\\n",
       "\t JC1476325 & 131310595451 & 54 & 144.80 &  26.76 & 2021-05-30 18:37:00 & 2021-06-08 15:14:00+00:00 &   952.39 &   0.24\\\\\n",
       "\t JC2007174 & 131295177775 & 24 & 152.40 &  28.58 & 2020-10-02 19:10:00 & 2020-10-03 12:10:00+00:00 &   952.39 &   1.58\\\\\n",
       "\t JC2007174 & 131295177775 & 24 & 152.40 &  28.58 & 2020-10-02 19:10:00 & 2020-10-05 12:32:00+00:00 &   952.39 &   1.58\\\\\n",
       "\t JC2979005 & 131303325884 & 72 & 157.48 &  31.90 & 2021-02-04 00:52:00 & 2021-02-03 20:34:00+00:00 &   960.00 &   4.68\\\\\n",
       "\t JC2979005 & 131303325884 & 72 & 157.48 &  31.90 & 2021-02-04 00:52:00 & 2021-02-07 16:15:00+00:00 &   960.00 &   4.68\\\\\n",
       "\t JC3063031 & 131311153199 & 22 & 152.40 &  42.64 & 2021-05-01 10:23:00 & 2021-05-01 06:30:00+00:00 &   960.00 &  15.42\\\\\n",
       "\t JC2007174 & 131295177775 & 24 & 152.40 &  28.58 & 2020-10-02 19:10:00 & 2020-10-02 18:27:00+00:00 &   962.97 &   1.28\\\\\n",
       "\t JC2007174 & 131295177775 & 24 & 152.40 &  28.58 & 2020-10-02 19:10:00 & 2020-10-02 21:29:00+00:00 &   966.50 &   1.18\\\\\n",
       "\t JC3110246 & 131308786553 & 71 & 150.00 &  27.44 & 2021-05-13 03:30:00 & 2021-05-20 12:46:00+00:00 &   968.00 &   0.00\\\\\n",
       "\t JC2007174 & 131295177775 & 24 & 152.40 &  28.58 & 2020-10-02 19:10:00 & 2020-10-04 12:49:00+00:00 &   971.20 &   1.05\\\\\n",
       "\t JC2979005 & 131303325884 & 72 & 157.48 &  31.90 & 2021-02-04 00:52:00 & 2021-02-08 14:00:00+00:00 &   976.00 &   4.23\\\\\n",
       "\t JC3017497 & 131298448309 & 26 & 157.50 &  28.50 & 2020-11-04 07:37:00 & 2020-12-02 11:30:00+00:00 &   976.00 &   0.83\\\\\n",
       "\t JC640050  & 131297661223 & 43 & 152.40 &  33.30 & 2020-11-11 21:33:00 & 2020-11-12 01:42:00+00:00 &   980.80 &   5.49\\\\\n",
       "\t JC3017497 & 131298448309 & 26 & 157.50 &  28.50 & 2020-11-04 07:37:00 & 2020-12-16 13:13:00+00:00 &   991.19 &   0.40\\\\\n",
       "\t JC3017497 & 131298448309 & 26 & 157.50 &  28.50 & 2020-11-04 07:37:00 & 2020-11-27 21:00:00+00:00 &   998.24 &   0.20\\\\\n",
       "\t JC3063031 & 131311153199 & 22 & 152.40 &  42.64 & 2021-05-01 10:23:00 & 2021-05-08 21:18:00+00:00 &   998.40 &  14.34\\\\\n",
       "\t JC1486806 & 131305386128 & 41 & 167.00 & 213.70 & 2021-03-14 10:09:00 & 2021-03-14 12:00:00+00:00 &  8108.80 &  16.18\\\\\n",
       "\t JC1577181 & 131312072391 & 54 & 175.26 & 226.30 & 2021-05-06 12:05:00 & 2021-05-06 17:27:00+00:00 &  8109.40 &   3.60\\\\\n",
       "\t JC1577181 & 131312072391 & 54 & 175.26 & 226.30 & 2021-05-06 12:05:00 & 2021-05-07 19:06:00+00:00 &  8128.00 &   4.13\\\\\n",
       "\t JC1577181 & 131312072391 & 54 & 175.26 & 226.30 & 2021-05-06 12:05:00 & 2021-05-06 13:15:00+00:00 &  8272.00 &   8.21\\\\\n",
       "\t JC1648222 & 131290518160 & 50 & 179.07 & 239.95 & 2020-07-01 04:43:00 & 2020-07-01 22:00:00+00:00 &  8395.12 &   1.95\\\\\n",
       "\t JC1648222 & 131290518160 & 50 & 179.07 & 239.95 & 2020-07-01 04:43:00 & 2020-07-01 06:50:00+00:00 &  8409.23 &   1.55\\\\\n",
       "\t JC1577181 & 131312072391 & 54 & 175.26 & 226.30 & 2021-05-06 12:05:00 & 2021-05-07 12:36:00+00:00 &  8433.92 &  12.80\\\\\n",
       "\t JC2708738 & 131299011091 & 48 & 177.80 & 237.68 & 2020-12-08 18:18:00 & 2020-12-12 16:37:00+00:00 &  8435.20 &   1.46\\\\\n",
       "\t JC3057091 & 131300436153 & 28 & 165.10 & 240.40 & 2021-01-07 00:07:00 & 2021-01-09 22:00:00+00:00 &  8448.00 &   0.90\\\\\n",
       "\t JC1648222 & 131291633342 & 50 & 179.07 & 239.95 & 2020-07-23 04:33:00 & 2020-07-22 23:21:00+00:00 &  8464.00 &   0.00\\\\\n",
       "\t JC1577181 & 131312072391 & 54 & 175.26 & 226.30 & 2021-05-06 12:05:00 & 2021-05-08 12:11:00+00:00 &  8472.72 &  13.90\\\\\n",
       "\t JC2708738 & 131299011091 & 48 & 177.80 & 237.68 & 2020-12-08 18:18:00 & 2020-12-11 15:16:00+00:00 &  8476.80 &   2.64\\\\\n",
       "\t JC3057091 & 131300436153 & 28 & 165.10 & 240.40 & 2021-01-07 00:07:00 & 2021-01-11 19:58:00+00:00 &  8480.00 &   0.01\\\\\n",
       "\t JC2708738 & 131299011091 & 48 & 177.80 & 237.68 & 2020-12-08 18:18:00 & 2020-12-10 11:02:00+00:00 &  8553.60 &   4.81\\\\\n",
       "\t JC1577181 & 131312072391 & 54 & 175.26 & 226.30 & 2021-05-06 12:05:00 & 2021-05-09 11:42:00+00:00 &  8553.85 &  16.20\\\\\n",
       "\t JC3214717 & 131314577085 & 33 & 200.66 & 247.66 & 2021-07-25 13:24:00 & 2021-07-25 09:23:00+00:00 &  8640.00 &   2.72\\\\\n",
       "\t JC2708738 & 131299011091 & 48 & 177.80 & 237.68 & 2020-12-08 18:18:00 & 2020-12-09 12:57:00+00:00 &  8691.20 &   8.72\\\\\n",
       "\t JC2708738 & 131299011091 & 48 & 177.80 & 237.68 & 2020-12-08 18:18:00 & 2020-12-09 01:37:00+00:00 &  8732.80 &   9.89\\\\\n",
       "\t JC2282652 & 131299849991 & 38 & 198.12 & 271.25 & 2020-12-20 03:05:00 & 2020-12-19 23:55:00+00:00 &  9488.60 &   2.25\\\\\n",
       "\t JC2282652 & 131299849991 & 38 & 198.12 & 271.25 & 2020-12-20 03:05:00 & 2020-12-24 12:54:00+00:00 &  9568.00 &   0.00\\\\\n",
       "\t JC657828  & 131312960686 & 30 & 167.64 & 294.84 & 2021-07-17 07:29:00 & 2021-07-17 05:34:00+00:00 &  9600.00 &  22.68\\\\\n",
       "\t JC2282652 & 131299849991 & 38 & 198.12 & 271.25 & 2020-12-20 03:05:00 & 2020-12-23 12:51:00+00:00 &  9616.00 &   1.36\\\\\n",
       "\t JC2282652 & 131299849991 & 38 & 198.12 & 271.25 & 2020-12-20 03:05:00 & 2020-12-22 13:00:00+00:00 &  9664.00 &   2.72\\\\\n",
       "\t JC2282652 & 131299849991 & 38 & 198.12 & 271.25 & 2020-12-20 03:05:00 & 2020-12-21 13:17:00+00:00 &  9744.00 &   4.99\\\\\n",
       "\t JC2483030 & 131287076413 & 31 & 165.00 & 321.00 & 2020-04-01 10:46:00 & 2020-04-01 08:16:00+00:00 & 10224.00 &  31.15\\\\\n",
       "\t JC657828  & 131312960686 & 30 & 167.64 & 294.84 & 2021-07-17 07:29:00 & 2021-07-20 22:55:00+00:00 & 10271.67 &   3.64\\\\\n",
       "\t JC657828  & 131312960686 & 30 & 167.64 & 294.84 & 2021-07-17 07:29:00 & 2021-07-22 21:31:00+00:00 & 10328.11 &   2.04\\\\\n",
       "\t JC2282652 & 131299849991 & 38 & 198.12 & 271.25 & 2020-12-20 03:05:00 & 2020-12-20 02:00:00+00:00 & 10400.00 &  23.59\\\\\n",
       "\t JC657828  & 131305573002 & 30 & 167.64 & 294.84 & 2021-04-05 11:25:00 & 2021-04-05 07:57:00+00:00 & 10400.00 &   0.00\\\\\n",
       "\t JC657828  & 131305573002 & 30 & 167.64 & 294.84 & 2021-04-05 11:25:00 & 2021-04-06 16:15:00+00:00 & 10542.40 &   4.04\\\\\n",
       "\t JC1531263 & 131311511070 & 34 & 185.42 & 301.31 & 2021-05-18 09:41:00 & 2021-05-18 13:20:00+00:00 & 10628.32 &   0.00\\\\\n",
       "\t JC1531263 & 131311511070 & 34 & 185.42 & 301.31 & 2021-05-18 09:41:00 & 2021-05-22 12:15:00+00:00 & 10628.36 &   0.00\\\\\n",
       "\t JC2483030 & 131290284892 & 31 & 165.00 & 321.00 & 2020-06-17 05:37:00 & 2020-07-02 10:00:00+00:00 & 11040.64 &   8.00\\\\\n",
       "\t JC2483030 & 131290284892 & 31 & 165.00 & 321.00 & 2020-06-17 05:37:00 & 2020-07-03 11:53:00+00:00 & 11040.64 &   8.00\\\\\n",
       "\t JC2483030 & 131290284892 & 31 & 165.00 & 321.00 & 2020-06-17 05:37:00 & 2020-06-17 13:00:00+00:00 & 11199.37 &   3.50\\\\\n",
       "\t JC2483030 & 131290284892 & 31 & 165.00 & 321.00 & 2020-06-17 05:37:00 & 2020-06-17 02:51:00+00:00 & 11200.00 &   3.48\\\\\n",
       "\t JC3020594 & 131308234915 & 47 & 193.00 & 342.46 & 2021-05-03 07:58:00 & 2021-05-03 07:30:00+00:00 & 11200.00 &  24.94\\\\\n",
       "\t JC2483030 & 131287076413 & 31 & 165.00 & 321.00 & 2020-04-01 10:46:00 & 2020-04-05 12:53:00+00:00 & 11312.00 &   0.30\\\\\n",
       "\t JC2483030 & 131301215021 & 32 & 165.00 & 321.00 & 2021-01-01 10:32:00 & 2021-01-10 13:38:00+00:00 & 11328.00 &   0.15\\\\\n",
       "\t JC3020594 & 131308234915 & 47 & 193.00 & 342.46 & 2021-05-03 07:58:00 & 2021-05-16 13:00:00+00:00 & 11344.00 &  20.86\\\\\n",
       "\t JC2483030 & 131287076413 & 31 & 165.00 & 321.00 & 2020-04-01 10:46:00 & 2020-04-03 20:00:00+00:00 & 11392.00 &   1.96\\\\\n",
       "\t JC3020594 & 131308234915 & 47 & 193.00 & 342.46 & 2021-05-03 07:58:00 & 2021-05-17 13:00:00+00:00 & 11392.00 &  19.50\\\\\n",
       "\t JC657828  & 131312960686 & 30 & 167.64 & 294.84 & 2021-07-17 07:29:00 & 2021-07-17 06:00:00+00:00 & 11393.37 &  28.16\\\\\n",
       "\t JC2483030 & 131287076413 & 31 & 165.00 & 321.00 & 2020-04-01 10:46:00 & 2020-04-04 11:40:00+00:00 & 11396.90 &   2.10\\\\\n",
       "\t JC2483030 & 131301215021 & 32 & 165.00 & 321.00 & 2021-01-01 10:32:00 & 2021-01-09 14:30:00+00:00 & 11520.00 &   5.59\\\\\n",
       "\t JC2483030 & 131290284892 & 31 & 165.00 & 321.00 & 2020-06-17 05:37:00 & 2020-06-28 12:57:00+00:00 & 11534.47 &   6.00\\\\\n",
       "\t JC2483030 & 131290284892 & 31 & 165.00 & 321.00 & 2020-06-17 05:37:00 & 2020-06-30 10:55:00+00:00 & 11640.29 &   9.00\\\\\n",
       "\t JC2483030 & 131290284892 & 31 & 165.00 & 321.00 & 2020-06-17 05:37:00 & 2020-07-02 00:00:00+00:00 & 11675.56 &  10.00\\\\\n",
       "\t JC3020594 & 131308234915 & 47 & 193.00 & 342.46 & 2021-05-03 07:58:00 & 2021-05-21 13:00:00+00:00 & 11904.00 &   4.98\\\\\n",
       "\t JC2483030 & 131290284892 & 31 & 165.00 & 321.00 & 2020-06-17 05:37:00 & 2020-06-27 12:57:00+00:00 & 11922.48 &  17.00\\\\\n",
       "\t JC2483030 & 131290284892 & 31 & 165.00 & 321.00 & 2020-06-17 05:37:00 & 2020-06-26 13:46:00+00:00 & 11957.75 &  18.00\\\\\n",
       "\t JC3020594 & 131308234915 & 47 & 193.00 & 342.46 & 2021-05-03 07:58:00 & 2021-05-22 10:49:00+00:00 & 12000.00 &   2.26\\\\\n",
       "\t JC3020594 & 131308234915 & 47 & 193.00 & 342.46 & 2021-05-03 07:58:00 & 2021-05-23 12:56:00+00:00 & 12000.00 &   2.26\\\\\n",
       "\t JC2483030 & 131301215021 & 32 & 165.00 & 321.00 & 2021-01-01 10:32:00 & 2021-01-02 13:00:00+00:00 & 12016.00 &  19.65\\\\\n",
       "\t JC2483030 & 131301215021 & 32 & 165.00 & 321.00 & 2021-01-01 10:32:00 & 2021-01-01 07:10:00+00:00 & 12080.00 &  21.47\\\\\n",
       "\t JC3020594 & 131308234915 & 47 & 193.00 & 342.46 & 2021-05-03 07:58:00 & 2021-06-15 19:51:00+00:00 & 12080.00 &   0.01\\\\\n",
       "\t JC3020594 & 131308234915 & 47 & 193.00 & 342.46 & 2021-05-03 07:58:00 & 2021-05-20 17:59:00+00:00 & 12160.00 &   2.28\\\\\n",
       "\t JC2483030 & 131301215021 & 32 & 165.00 & 321.00 & 2021-01-01 10:32:00 & 2021-01-08 14:44:00+00:00 & 12208.00 &  25.10\\\\\n",
       "\t JC3020594 & 131308234915 & 47 & 193.00 & 342.46 & 2021-05-03 07:58:00 & 2021-05-24 12:57:00+00:00 & 12224.00 &   4.09\\\\\n",
       "\t JC3020594 & 131308234915 & 47 & 193.00 & 342.46 & 2021-05-03 07:58:00 & 2021-05-09 23:50:00+00:00 & 12272.00 &   5.45\\\\\n",
       "\t JC3020594 & 131308234915 & 47 & 193.00 & 342.46 & 2021-05-03 07:58:00 & 2021-06-14 22:00:00+00:00 & 12320.00 &   6.81\\\\\n",
       "\t JC3020594 & 131308234915 & 47 & 193.00 & 342.46 & 2021-05-03 07:58:00 & 2021-05-30 12:00:00+00:00 & 12336.00 &   7.27\\\\\n",
       "\t JC2483030 & 131290284892 & 31 & 165.00 & 321.00 & 2020-06-17 05:37:00 & 2020-06-25 14:27:00+00:00 & 12345.76 &  29.00\\\\\n",
       "\t JC2483030 & 131287076413 & 31 & 165.00 & 321.00 & 2020-04-01 10:46:00 & 2020-04-03 12:00:00+00:00 & 12381.03 &  30.00\\\\\n",
       "\t JC3020594 & 131308234915 & 47 & 193.00 & 342.46 & 2021-05-03 07:58:00 & 2021-05-25 11:00:00+00:00 & 12384.00 &   8.63\\\\\n",
       "\t JC3020594 & 131308234915 & 47 & 193.00 & 342.46 & 2021-05-03 07:58:00 & 2021-05-29 13:00:00+00:00 & 12511.55 &  12.24\\\\\n",
       "\t JC3020594 & 131308234915 & 47 & 193.00 & 342.46 & 2021-05-03 07:58:00 & 2021-05-26 10:10:00+00:00 & 12512.00 &  12.26\\\\\n",
       "\t JC2483030 & 131290284892 & 31 & 165.00 & 321.00 & 2020-06-17 05:37:00 & 2020-06-21 13:00:00+00:00 & 12522.13 &  34.00\\\\\n",
       "\t JC3020594 & 131308234915 & 47 & 193.00 & 342.46 & 2021-05-03 07:58:00 & 2021-06-02 12:32:00+00:00 & 12624.00 &  15.43\\\\\n",
       "\t JC2483030 & 131290284892 & 31 & 165.00 & 321.00 & 2020-06-17 05:37:00 & 2020-06-20 11:56:00+00:00 & 12627.95 &  37.00\\\\\n",
       "\t JC2483030 & 131290284892 & 31 & 165.00 & 321.00 & 2020-06-17 05:37:00 & 2020-06-24 13:00:00+00:00 & 12627.95 &  37.00\\\\\n",
       "\t JC2483030 & 131290284892 & 31 & 165.00 & 321.00 & 2020-06-17 05:37:00 & 2020-06-19 13:49:00+00:00 & 12663.22 &  38.00\\\\\n",
       "\t JC2483030 & 131290284892 & 31 & 165.00 & 321.00 & 2020-06-17 05:37:00 & 2020-06-23 12:00:00+00:00 & 12663.22 &  38.00\\\\\n",
       "\t JC2483030 & 131290284892 & 31 & 165.00 & 321.00 & 2020-06-17 05:37:00 & 2020-06-18 12:49:00+00:00 & 12698.50 &  39.00\\\\\n",
       "\t JC2483030 & 131290284892 & 31 & 165.00 & 321.00 & 2020-06-17 05:37:00 & 2020-06-22 13:16:00+00:00 & 12769.04 &  41.00\\\\\n",
       "\t JC3020594 & 131308234915 & 47 & 193.00 & 342.46 & 2021-05-03 07:58:00 & 2021-06-04 12:25:00+00:00 & 12832.00 &  21.33\\\\\n",
       "\t JC3020594 & 131308234915 & 47 & 193.00 & 342.46 & 2021-05-03 07:58:00 & 2021-06-05 13:00:00+00:00 & 12832.00 &  21.33\\\\\n",
       "\t JC3020594 & 131308234915 & 47 & 193.00 & 342.46 & 2021-05-03 07:58:00 & 2021-06-13 12:42:00+00:00 & 12832.00 &  21.33\\\\\n",
       "\t JC2483030 & 131301215021 & 32 & 165.00 & 321.00 & 2021-01-01 10:32:00 & 2021-01-06 15:00:00+00:00 & 12839.59 &  43.00\\\\\n",
       "\t JC3020594 & 131308234915 & 47 & 193.00 & 342.46 & 2021-05-03 07:58:00 & 2021-06-12 22:00:00+00:00 & 12944.00 &  24.50\\\\\n",
       "\t JC3020594 & 131308234915 & 47 & 193.00 & 342.46 & 2021-05-03 07:58:00 & 2021-05-09 09:35:00+00:00 & 13088.00 &  28.58\\\\\n",
       "\t JC3020594 & 131308234915 & 47 & 193.00 & 342.46 & 2021-05-03 07:58:00 & 2021-05-09 00:30:00+00:00 & 13120.00 &  29.49\\\\\n",
       "\t JC2483030 & 131301215021 & 32 & 165.00 & 321.00 & 2021-01-01 10:32:00 & 2021-01-05 14:00:00+00:00 & 13184.00 &  52.77\\\\\n",
       "\t JC3020594 & 131308234915 & 47 & 193.00 & 342.46 & 2021-05-03 07:58:00 & 2021-06-07 17:50:00+00:00 & 13184.00 &  31.31\\\\\n",
       "\t JC2483030 & 131301215021 & 32 & 165.00 & 321.00 & 2021-01-01 10:32:00 & 2021-01-03 02:00:00+00:00 & 13280.00 &  55.49\\\\\n",
       "\t JC2483030 & 131301215021 & 32 & 165.00 & 321.00 & 2021-01-01 10:32:00 & 2021-01-07 14:00:00+00:00 & 13296.00 &  55.94\\\\\n",
       "\t JC3020594 & 131308234915 & 47 & 193.00 & 342.46 & 2021-05-03 07:58:00 & 2021-06-06 17:03:00+00:00 & 13312.00 &  34.94\\\\\n",
       "\t JC2483030 & 131301215021 & 32 & 165.00 & 321.00 & 2021-01-01 10:32:00 & 2021-01-04 21:16:00+00:00 & 13439.24 &  60.00\\\\\n",
       "\t JC2483030 & 131301215021 & 32 & 165.00 & 321.00 & 2021-01-01 10:32:00 & 2021-01-03 12:21:00+00:00 & 13440.00 &  60.02\\\\\n",
       "\t JC3020594 & 131308234915 & 47 & 193.00 & 342.46 & 2021-05-03 07:58:00 & 2021-05-07 13:00:00+00:00 & 14557.41 &  70.24\\\\\n",
       "\t JC3020594 & 131308234915 & 47 & 193.00 & 342.46 & 2021-05-03 07:58:00 & 2021-05-08 18:30:00+00:00 & 14656.00 &  73.04\\\\\n",
       "\t JC3020594 & 131308234915 & 47 & 193.00 & 342.46 & 2021-05-03 07:58:00 & 2021-05-08 15:34:00+00:00 & 15200.00 &  88.46\\\\\n",
       "\t JC1799359 & 131297353407 & 78 & 152.40 &  59.00 & 2020-11-23 03:54:00 & 2020-11-24 19:53:00+00:00 & 19365.21 & 490.00\\\\\n",
       "\\end{tabular}\n"
      ],
      "text/markdown": [
       "\n",
       "A grouped_df: 138 × 9\n",
       "\n",
       "| anon_id &lt;chr&gt; | pat_enc_csn_id_coded &lt;dbl&gt; | age &lt;int&gt; | recent_height_cm &lt;dbl&gt; | recent_weight_kg &lt;dbl&gt; | admit_time &lt;chr&gt; | recorded_time &lt;chr&gt; | Weight &lt;dbl&gt; | Wfsdmdif &lt;dbl&gt; |\n",
       "|---|---|---|---|---|---|---|---|---|\n",
       "| JC1519758 | 131304329212 | 64 | 162.56 |  84.30 | 2021-03-12 16:27:00 | 2021-03-12 11:49:00+00:00 |    77.10 |  82.11 |\n",
       "| JC1499635 | 131288946250 | 77 | 172.20 |  72.12 | 2020-06-15 23:05:00 | 2020-06-15 20:16:00+00:00 |   224.00 |  65.77 |\n",
       "| JC1702425 | 131318400414 | 48 | 170.18 |  72.57 | 2021-08-20 04:57:00 | 2021-08-20 01:24:00+00:00 |   256.00 |  65.31 |\n",
       "| JC2565128 | 131302299793 | 66 | 167.64 | 115.67 | 2021-01-13 07:26:00 | 2021-01-23 12:32:00+00:00 |   416.23 | 103.87 |\n",
       "| JC1476325 | 131310595451 | 54 | 144.80 |  26.76 | 2021-05-30 18:37:00 | 2021-06-04 15:00:00+00:00 |   857.15 |   2.46 |\n",
       "| JC1476325 | 131310595451 | 54 | 144.80 |  26.76 | 2021-05-30 18:37:00 | 2021-06-03 17:55:00+00:00 |   860.68 |   2.36 |\n",
       "| JC1549260 | 131318391387 | 30 | 158.50 |  28.98 | 2021-09-16 20:59:00 | 2021-09-20 12:42:00+00:00 |   860.68 |   4.58 |\n",
       "| JC1163658 | 131294628948 | 83 | 144.80 |  46.90 | 2020-09-21 05:39:00 | 2020-09-28 10:00:00+00:00 |   864.00 |  22.41 |\n",
       "| JC1476325 | 131310595451 | 54 | 144.80 |  26.76 | 2021-05-30 18:37:00 | 2021-06-02 00:00:00+00:00 |   874.79 |   1.96 |\n",
       "| JC1549260 | 131318391387 | 30 | 158.50 |  28.98 | 2021-09-16 20:59:00 | 2021-09-18 12:56:00+00:00 |   874.79 |   4.18 |\n",
       "| JC1549260 | 131318391387 | 30 | 158.50 |  28.98 | 2021-09-16 20:59:00 | 2021-09-19 12:26:00+00:00 |   878.31 |   4.08 |\n",
       "| JC1549260 | 131318391387 | 30 | 158.50 |  28.98 | 2021-09-16 20:59:00 | 2021-09-16 16:30:00+00:00 |   880.00 |   4.03 |\n",
       "| JC1549260 | 131318391387 | 30 | 158.50 |  28.98 | 2021-09-16 20:59:00 | 2021-09-17 21:57:00+00:00 |   899.48 |   3.48 |\n",
       "| JC1549260 | 131318391387 | 30 | 158.50 |  28.98 | 2021-09-16 20:59:00 | 2021-09-21 22:00:00+00:00 |   899.48 |   3.48 |\n",
       "| JC1476325 | 131310595451 | 54 | 144.80 |  26.76 | 2021-05-30 18:37:00 | 2021-06-06 22:48:00+00:00 |   903.00 |   1.16 |\n",
       "| JC1476325 | 131310595451 | 54 | 144.80 |  26.76 | 2021-05-30 18:37:00 | 2021-06-11 12:14:00+00:00 |   913.59 |   0.86 |\n",
       "| JC1476325 | 131310595451 | 54 | 144.80 |  26.76 | 2021-05-30 18:37:00 | 2021-06-01 01:06:00+00:00 |   920.00 |   0.68 |\n",
       "| JC3063031 | 131311153199 | 22 | 152.40 |  42.64 | 2021-05-01 10:23:00 | 2021-05-03 13:17:00+00:00 |   924.17 |  16.44 |\n",
       "| JC3017497 | 131298448309 | 26 | 157.50 |  28.50 | 2020-11-04 07:37:00 | 2020-12-09 11:03:00+00:00 |   924.80 |   2.28 |\n",
       "| JC1476325 | 131310595451 | 54 | 144.80 |  26.76 | 2021-05-30 18:37:00 | 2021-05-31 18:00:00+00:00 |   928.00 |   0.45 |\n",
       "| JC1476325 | 131310595451 | 54 | 144.80 |  26.76 | 2021-05-30 18:37:00 | 2021-06-10 06:23:00+00:00 |   931.20 |   0.36 |\n",
       "| JC3063031 | 131311153199 | 22 | 152.40 |  42.64 | 2021-05-01 10:23:00 | 2021-05-05 12:05:00+00:00 |   931.22 |  16.24 |\n",
       "| JC1476325 | 131306560913 | 54 | 144.80 |  26.76 | 2021-04-08 04:57:00 | 2021-04-08 06:29:00+00:00 |   932.80 |   0.32 |\n",
       "| JC3063031 | 131311153199 | 22 | 152.40 |  42.64 | 2021-05-01 10:23:00 | 2021-05-04 13:00:00+00:00 |   934.75 |  16.14 |\n",
       "| JC2495489 | 131314894904 | 22 | 147.32 |  29.03 | 2021-07-07 06:44:00 | 2021-07-07 04:09:00+00:00 |   938.28 |   2.43 |\n",
       "| JC3110246 | 131308786553 | 71 | 150.00 |  27.44 | 2021-05-13 03:30:00 | 2021-05-13 06:26:00+00:00 |   941.81 |   0.74 |\n",
       "| JC3110246 | 131308786553 | 71 | 150.00 |  27.44 | 2021-05-13 03:30:00 | 2021-05-13 06:28:00+00:00 |   945.33 |   0.64 |\n",
       "| JC2007174 | 131296413447 | 24 | 152.40 |  28.58 | 2020-10-19 01:38:00 | 2020-10-19 05:16:00+00:00 |   948.80 |   1.68 |\n",
       "| JC3017497 | 131298448309 | 26 | 157.50 |  28.50 | 2020-11-04 07:37:00 | 2020-11-18 09:00:00+00:00 |   948.86 |   1.60 |\n",
       "| JC1476325 | 131310595451 | 54 | 144.80 |  26.76 | 2021-05-30 18:37:00 | 2021-06-08 15:14:00+00:00 |   952.39 |   0.24 |\n",
       "| JC2007174 | 131295177775 | 24 | 152.40 |  28.58 | 2020-10-02 19:10:00 | 2020-10-03 12:10:00+00:00 |   952.39 |   1.58 |\n",
       "| JC2007174 | 131295177775 | 24 | 152.40 |  28.58 | 2020-10-02 19:10:00 | 2020-10-05 12:32:00+00:00 |   952.39 |   1.58 |\n",
       "| JC2979005 | 131303325884 | 72 | 157.48 |  31.90 | 2021-02-04 00:52:00 | 2021-02-03 20:34:00+00:00 |   960.00 |   4.68 |\n",
       "| JC2979005 | 131303325884 | 72 | 157.48 |  31.90 | 2021-02-04 00:52:00 | 2021-02-07 16:15:00+00:00 |   960.00 |   4.68 |\n",
       "| JC3063031 | 131311153199 | 22 | 152.40 |  42.64 | 2021-05-01 10:23:00 | 2021-05-01 06:30:00+00:00 |   960.00 |  15.42 |\n",
       "| JC2007174 | 131295177775 | 24 | 152.40 |  28.58 | 2020-10-02 19:10:00 | 2020-10-02 18:27:00+00:00 |   962.97 |   1.28 |\n",
       "| JC2007174 | 131295177775 | 24 | 152.40 |  28.58 | 2020-10-02 19:10:00 | 2020-10-02 21:29:00+00:00 |   966.50 |   1.18 |\n",
       "| JC3110246 | 131308786553 | 71 | 150.00 |  27.44 | 2021-05-13 03:30:00 | 2021-05-20 12:46:00+00:00 |   968.00 |   0.00 |\n",
       "| JC2007174 | 131295177775 | 24 | 152.40 |  28.58 | 2020-10-02 19:10:00 | 2020-10-04 12:49:00+00:00 |   971.20 |   1.05 |\n",
       "| JC2979005 | 131303325884 | 72 | 157.48 |  31.90 | 2021-02-04 00:52:00 | 2021-02-08 14:00:00+00:00 |   976.00 |   4.23 |\n",
       "| JC3017497 | 131298448309 | 26 | 157.50 |  28.50 | 2020-11-04 07:37:00 | 2020-12-02 11:30:00+00:00 |   976.00 |   0.83 |\n",
       "| JC640050  | 131297661223 | 43 | 152.40 |  33.30 | 2020-11-11 21:33:00 | 2020-11-12 01:42:00+00:00 |   980.80 |   5.49 |\n",
       "| JC3017497 | 131298448309 | 26 | 157.50 |  28.50 | 2020-11-04 07:37:00 | 2020-12-16 13:13:00+00:00 |   991.19 |   0.40 |\n",
       "| JC3017497 | 131298448309 | 26 | 157.50 |  28.50 | 2020-11-04 07:37:00 | 2020-11-27 21:00:00+00:00 |   998.24 |   0.20 |\n",
       "| JC3063031 | 131311153199 | 22 | 152.40 |  42.64 | 2021-05-01 10:23:00 | 2021-05-08 21:18:00+00:00 |   998.40 |  14.34 |\n",
       "| JC1486806 | 131305386128 | 41 | 167.00 | 213.70 | 2021-03-14 10:09:00 | 2021-03-14 12:00:00+00:00 |  8108.80 |  16.18 |\n",
       "| JC1577181 | 131312072391 | 54 | 175.26 | 226.30 | 2021-05-06 12:05:00 | 2021-05-06 17:27:00+00:00 |  8109.40 |   3.60 |\n",
       "| JC1577181 | 131312072391 | 54 | 175.26 | 226.30 | 2021-05-06 12:05:00 | 2021-05-07 19:06:00+00:00 |  8128.00 |   4.13 |\n",
       "| JC1577181 | 131312072391 | 54 | 175.26 | 226.30 | 2021-05-06 12:05:00 | 2021-05-06 13:15:00+00:00 |  8272.00 |   8.21 |\n",
       "| JC1648222 | 131290518160 | 50 | 179.07 | 239.95 | 2020-07-01 04:43:00 | 2020-07-01 22:00:00+00:00 |  8395.12 |   1.95 |\n",
       "| JC1648222 | 131290518160 | 50 | 179.07 | 239.95 | 2020-07-01 04:43:00 | 2020-07-01 06:50:00+00:00 |  8409.23 |   1.55 |\n",
       "| JC1577181 | 131312072391 | 54 | 175.26 | 226.30 | 2021-05-06 12:05:00 | 2021-05-07 12:36:00+00:00 |  8433.92 |  12.80 |\n",
       "| JC2708738 | 131299011091 | 48 | 177.80 | 237.68 | 2020-12-08 18:18:00 | 2020-12-12 16:37:00+00:00 |  8435.20 |   1.46 |\n",
       "| JC3057091 | 131300436153 | 28 | 165.10 | 240.40 | 2021-01-07 00:07:00 | 2021-01-09 22:00:00+00:00 |  8448.00 |   0.90 |\n",
       "| JC1648222 | 131291633342 | 50 | 179.07 | 239.95 | 2020-07-23 04:33:00 | 2020-07-22 23:21:00+00:00 |  8464.00 |   0.00 |\n",
       "| JC1577181 | 131312072391 | 54 | 175.26 | 226.30 | 2021-05-06 12:05:00 | 2021-05-08 12:11:00+00:00 |  8472.72 |  13.90 |\n",
       "| JC2708738 | 131299011091 | 48 | 177.80 | 237.68 | 2020-12-08 18:18:00 | 2020-12-11 15:16:00+00:00 |  8476.80 |   2.64 |\n",
       "| JC3057091 | 131300436153 | 28 | 165.10 | 240.40 | 2021-01-07 00:07:00 | 2021-01-11 19:58:00+00:00 |  8480.00 |   0.01 |\n",
       "| JC2708738 | 131299011091 | 48 | 177.80 | 237.68 | 2020-12-08 18:18:00 | 2020-12-10 11:02:00+00:00 |  8553.60 |   4.81 |\n",
       "| JC1577181 | 131312072391 | 54 | 175.26 | 226.30 | 2021-05-06 12:05:00 | 2021-05-09 11:42:00+00:00 |  8553.85 |  16.20 |\n",
       "| JC3214717 | 131314577085 | 33 | 200.66 | 247.66 | 2021-07-25 13:24:00 | 2021-07-25 09:23:00+00:00 |  8640.00 |   2.72 |\n",
       "| JC2708738 | 131299011091 | 48 | 177.80 | 237.68 | 2020-12-08 18:18:00 | 2020-12-09 12:57:00+00:00 |  8691.20 |   8.72 |\n",
       "| JC2708738 | 131299011091 | 48 | 177.80 | 237.68 | 2020-12-08 18:18:00 | 2020-12-09 01:37:00+00:00 |  8732.80 |   9.89 |\n",
       "| JC2282652 | 131299849991 | 38 | 198.12 | 271.25 | 2020-12-20 03:05:00 | 2020-12-19 23:55:00+00:00 |  9488.60 |   2.25 |\n",
       "| JC2282652 | 131299849991 | 38 | 198.12 | 271.25 | 2020-12-20 03:05:00 | 2020-12-24 12:54:00+00:00 |  9568.00 |   0.00 |\n",
       "| JC657828  | 131312960686 | 30 | 167.64 | 294.84 | 2021-07-17 07:29:00 | 2021-07-17 05:34:00+00:00 |  9600.00 |  22.68 |\n",
       "| JC2282652 | 131299849991 | 38 | 198.12 | 271.25 | 2020-12-20 03:05:00 | 2020-12-23 12:51:00+00:00 |  9616.00 |   1.36 |\n",
       "| JC2282652 | 131299849991 | 38 | 198.12 | 271.25 | 2020-12-20 03:05:00 | 2020-12-22 13:00:00+00:00 |  9664.00 |   2.72 |\n",
       "| JC2282652 | 131299849991 | 38 | 198.12 | 271.25 | 2020-12-20 03:05:00 | 2020-12-21 13:17:00+00:00 |  9744.00 |   4.99 |\n",
       "| JC2483030 | 131287076413 | 31 | 165.00 | 321.00 | 2020-04-01 10:46:00 | 2020-04-01 08:16:00+00:00 | 10224.00 |  31.15 |\n",
       "| JC657828  | 131312960686 | 30 | 167.64 | 294.84 | 2021-07-17 07:29:00 | 2021-07-20 22:55:00+00:00 | 10271.67 |   3.64 |\n",
       "| JC657828  | 131312960686 | 30 | 167.64 | 294.84 | 2021-07-17 07:29:00 | 2021-07-22 21:31:00+00:00 | 10328.11 |   2.04 |\n",
       "| JC2282652 | 131299849991 | 38 | 198.12 | 271.25 | 2020-12-20 03:05:00 | 2020-12-20 02:00:00+00:00 | 10400.00 |  23.59 |\n",
       "| JC657828  | 131305573002 | 30 | 167.64 | 294.84 | 2021-04-05 11:25:00 | 2021-04-05 07:57:00+00:00 | 10400.00 |   0.00 |\n",
       "| JC657828  | 131305573002 | 30 | 167.64 | 294.84 | 2021-04-05 11:25:00 | 2021-04-06 16:15:00+00:00 | 10542.40 |   4.04 |\n",
       "| JC1531263 | 131311511070 | 34 | 185.42 | 301.31 | 2021-05-18 09:41:00 | 2021-05-18 13:20:00+00:00 | 10628.32 |   0.00 |\n",
       "| JC1531263 | 131311511070 | 34 | 185.42 | 301.31 | 2021-05-18 09:41:00 | 2021-05-22 12:15:00+00:00 | 10628.36 |   0.00 |\n",
       "| JC2483030 | 131290284892 | 31 | 165.00 | 321.00 | 2020-06-17 05:37:00 | 2020-07-02 10:00:00+00:00 | 11040.64 |   8.00 |\n",
       "| JC2483030 | 131290284892 | 31 | 165.00 | 321.00 | 2020-06-17 05:37:00 | 2020-07-03 11:53:00+00:00 | 11040.64 |   8.00 |\n",
       "| JC2483030 | 131290284892 | 31 | 165.00 | 321.00 | 2020-06-17 05:37:00 | 2020-06-17 13:00:00+00:00 | 11199.37 |   3.50 |\n",
       "| JC2483030 | 131290284892 | 31 | 165.00 | 321.00 | 2020-06-17 05:37:00 | 2020-06-17 02:51:00+00:00 | 11200.00 |   3.48 |\n",
       "| JC3020594 | 131308234915 | 47 | 193.00 | 342.46 | 2021-05-03 07:58:00 | 2021-05-03 07:30:00+00:00 | 11200.00 |  24.94 |\n",
       "| JC2483030 | 131287076413 | 31 | 165.00 | 321.00 | 2020-04-01 10:46:00 | 2020-04-05 12:53:00+00:00 | 11312.00 |   0.30 |\n",
       "| JC2483030 | 131301215021 | 32 | 165.00 | 321.00 | 2021-01-01 10:32:00 | 2021-01-10 13:38:00+00:00 | 11328.00 |   0.15 |\n",
       "| JC3020594 | 131308234915 | 47 | 193.00 | 342.46 | 2021-05-03 07:58:00 | 2021-05-16 13:00:00+00:00 | 11344.00 |  20.86 |\n",
       "| JC2483030 | 131287076413 | 31 | 165.00 | 321.00 | 2020-04-01 10:46:00 | 2020-04-03 20:00:00+00:00 | 11392.00 |   1.96 |\n",
       "| JC3020594 | 131308234915 | 47 | 193.00 | 342.46 | 2021-05-03 07:58:00 | 2021-05-17 13:00:00+00:00 | 11392.00 |  19.50 |\n",
       "| JC657828  | 131312960686 | 30 | 167.64 | 294.84 | 2021-07-17 07:29:00 | 2021-07-17 06:00:00+00:00 | 11393.37 |  28.16 |\n",
       "| JC2483030 | 131287076413 | 31 | 165.00 | 321.00 | 2020-04-01 10:46:00 | 2020-04-04 11:40:00+00:00 | 11396.90 |   2.10 |\n",
       "| JC2483030 | 131301215021 | 32 | 165.00 | 321.00 | 2021-01-01 10:32:00 | 2021-01-09 14:30:00+00:00 | 11520.00 |   5.59 |\n",
       "| JC2483030 | 131290284892 | 31 | 165.00 | 321.00 | 2020-06-17 05:37:00 | 2020-06-28 12:57:00+00:00 | 11534.47 |   6.00 |\n",
       "| JC2483030 | 131290284892 | 31 | 165.00 | 321.00 | 2020-06-17 05:37:00 | 2020-06-30 10:55:00+00:00 | 11640.29 |   9.00 |\n",
       "| JC2483030 | 131290284892 | 31 | 165.00 | 321.00 | 2020-06-17 05:37:00 | 2020-07-02 00:00:00+00:00 | 11675.56 |  10.00 |\n",
       "| JC3020594 | 131308234915 | 47 | 193.00 | 342.46 | 2021-05-03 07:58:00 | 2021-05-21 13:00:00+00:00 | 11904.00 |   4.98 |\n",
       "| JC2483030 | 131290284892 | 31 | 165.00 | 321.00 | 2020-06-17 05:37:00 | 2020-06-27 12:57:00+00:00 | 11922.48 |  17.00 |\n",
       "| JC2483030 | 131290284892 | 31 | 165.00 | 321.00 | 2020-06-17 05:37:00 | 2020-06-26 13:46:00+00:00 | 11957.75 |  18.00 |\n",
       "| JC3020594 | 131308234915 | 47 | 193.00 | 342.46 | 2021-05-03 07:58:00 | 2021-05-22 10:49:00+00:00 | 12000.00 |   2.26 |\n",
       "| JC3020594 | 131308234915 | 47 | 193.00 | 342.46 | 2021-05-03 07:58:00 | 2021-05-23 12:56:00+00:00 | 12000.00 |   2.26 |\n",
       "| JC2483030 | 131301215021 | 32 | 165.00 | 321.00 | 2021-01-01 10:32:00 | 2021-01-02 13:00:00+00:00 | 12016.00 |  19.65 |\n",
       "| JC2483030 | 131301215021 | 32 | 165.00 | 321.00 | 2021-01-01 10:32:00 | 2021-01-01 07:10:00+00:00 | 12080.00 |  21.47 |\n",
       "| JC3020594 | 131308234915 | 47 | 193.00 | 342.46 | 2021-05-03 07:58:00 | 2021-06-15 19:51:00+00:00 | 12080.00 |   0.01 |\n",
       "| JC3020594 | 131308234915 | 47 | 193.00 | 342.46 | 2021-05-03 07:58:00 | 2021-05-20 17:59:00+00:00 | 12160.00 |   2.28 |\n",
       "| JC2483030 | 131301215021 | 32 | 165.00 | 321.00 | 2021-01-01 10:32:00 | 2021-01-08 14:44:00+00:00 | 12208.00 |  25.10 |\n",
       "| JC3020594 | 131308234915 | 47 | 193.00 | 342.46 | 2021-05-03 07:58:00 | 2021-05-24 12:57:00+00:00 | 12224.00 |   4.09 |\n",
       "| JC3020594 | 131308234915 | 47 | 193.00 | 342.46 | 2021-05-03 07:58:00 | 2021-05-09 23:50:00+00:00 | 12272.00 |   5.45 |\n",
       "| JC3020594 | 131308234915 | 47 | 193.00 | 342.46 | 2021-05-03 07:58:00 | 2021-06-14 22:00:00+00:00 | 12320.00 |   6.81 |\n",
       "| JC3020594 | 131308234915 | 47 | 193.00 | 342.46 | 2021-05-03 07:58:00 | 2021-05-30 12:00:00+00:00 | 12336.00 |   7.27 |\n",
       "| JC2483030 | 131290284892 | 31 | 165.00 | 321.00 | 2020-06-17 05:37:00 | 2020-06-25 14:27:00+00:00 | 12345.76 |  29.00 |\n",
       "| JC2483030 | 131287076413 | 31 | 165.00 | 321.00 | 2020-04-01 10:46:00 | 2020-04-03 12:00:00+00:00 | 12381.03 |  30.00 |\n",
       "| JC3020594 | 131308234915 | 47 | 193.00 | 342.46 | 2021-05-03 07:58:00 | 2021-05-25 11:00:00+00:00 | 12384.00 |   8.63 |\n",
       "| JC3020594 | 131308234915 | 47 | 193.00 | 342.46 | 2021-05-03 07:58:00 | 2021-05-29 13:00:00+00:00 | 12511.55 |  12.24 |\n",
       "| JC3020594 | 131308234915 | 47 | 193.00 | 342.46 | 2021-05-03 07:58:00 | 2021-05-26 10:10:00+00:00 | 12512.00 |  12.26 |\n",
       "| JC2483030 | 131290284892 | 31 | 165.00 | 321.00 | 2020-06-17 05:37:00 | 2020-06-21 13:00:00+00:00 | 12522.13 |  34.00 |\n",
       "| JC3020594 | 131308234915 | 47 | 193.00 | 342.46 | 2021-05-03 07:58:00 | 2021-06-02 12:32:00+00:00 | 12624.00 |  15.43 |\n",
       "| JC2483030 | 131290284892 | 31 | 165.00 | 321.00 | 2020-06-17 05:37:00 | 2020-06-20 11:56:00+00:00 | 12627.95 |  37.00 |\n",
       "| JC2483030 | 131290284892 | 31 | 165.00 | 321.00 | 2020-06-17 05:37:00 | 2020-06-24 13:00:00+00:00 | 12627.95 |  37.00 |\n",
       "| JC2483030 | 131290284892 | 31 | 165.00 | 321.00 | 2020-06-17 05:37:00 | 2020-06-19 13:49:00+00:00 | 12663.22 |  38.00 |\n",
       "| JC2483030 | 131290284892 | 31 | 165.00 | 321.00 | 2020-06-17 05:37:00 | 2020-06-23 12:00:00+00:00 | 12663.22 |  38.00 |\n",
       "| JC2483030 | 131290284892 | 31 | 165.00 | 321.00 | 2020-06-17 05:37:00 | 2020-06-18 12:49:00+00:00 | 12698.50 |  39.00 |\n",
       "| JC2483030 | 131290284892 | 31 | 165.00 | 321.00 | 2020-06-17 05:37:00 | 2020-06-22 13:16:00+00:00 | 12769.04 |  41.00 |\n",
       "| JC3020594 | 131308234915 | 47 | 193.00 | 342.46 | 2021-05-03 07:58:00 | 2021-06-04 12:25:00+00:00 | 12832.00 |  21.33 |\n",
       "| JC3020594 | 131308234915 | 47 | 193.00 | 342.46 | 2021-05-03 07:58:00 | 2021-06-05 13:00:00+00:00 | 12832.00 |  21.33 |\n",
       "| JC3020594 | 131308234915 | 47 | 193.00 | 342.46 | 2021-05-03 07:58:00 | 2021-06-13 12:42:00+00:00 | 12832.00 |  21.33 |\n",
       "| JC2483030 | 131301215021 | 32 | 165.00 | 321.00 | 2021-01-01 10:32:00 | 2021-01-06 15:00:00+00:00 | 12839.59 |  43.00 |\n",
       "| JC3020594 | 131308234915 | 47 | 193.00 | 342.46 | 2021-05-03 07:58:00 | 2021-06-12 22:00:00+00:00 | 12944.00 |  24.50 |\n",
       "| JC3020594 | 131308234915 | 47 | 193.00 | 342.46 | 2021-05-03 07:58:00 | 2021-05-09 09:35:00+00:00 | 13088.00 |  28.58 |\n",
       "| JC3020594 | 131308234915 | 47 | 193.00 | 342.46 | 2021-05-03 07:58:00 | 2021-05-09 00:30:00+00:00 | 13120.00 |  29.49 |\n",
       "| JC2483030 | 131301215021 | 32 | 165.00 | 321.00 | 2021-01-01 10:32:00 | 2021-01-05 14:00:00+00:00 | 13184.00 |  52.77 |\n",
       "| JC3020594 | 131308234915 | 47 | 193.00 | 342.46 | 2021-05-03 07:58:00 | 2021-06-07 17:50:00+00:00 | 13184.00 |  31.31 |\n",
       "| JC2483030 | 131301215021 | 32 | 165.00 | 321.00 | 2021-01-01 10:32:00 | 2021-01-03 02:00:00+00:00 | 13280.00 |  55.49 |\n",
       "| JC2483030 | 131301215021 | 32 | 165.00 | 321.00 | 2021-01-01 10:32:00 | 2021-01-07 14:00:00+00:00 | 13296.00 |  55.94 |\n",
       "| JC3020594 | 131308234915 | 47 | 193.00 | 342.46 | 2021-05-03 07:58:00 | 2021-06-06 17:03:00+00:00 | 13312.00 |  34.94 |\n",
       "| JC2483030 | 131301215021 | 32 | 165.00 | 321.00 | 2021-01-01 10:32:00 | 2021-01-04 21:16:00+00:00 | 13439.24 |  60.00 |\n",
       "| JC2483030 | 131301215021 | 32 | 165.00 | 321.00 | 2021-01-01 10:32:00 | 2021-01-03 12:21:00+00:00 | 13440.00 |  60.02 |\n",
       "| JC3020594 | 131308234915 | 47 | 193.00 | 342.46 | 2021-05-03 07:58:00 | 2021-05-07 13:00:00+00:00 | 14557.41 |  70.24 |\n",
       "| JC3020594 | 131308234915 | 47 | 193.00 | 342.46 | 2021-05-03 07:58:00 | 2021-05-08 18:30:00+00:00 | 14656.00 |  73.04 |\n",
       "| JC3020594 | 131308234915 | 47 | 193.00 | 342.46 | 2021-05-03 07:58:00 | 2021-05-08 15:34:00+00:00 | 15200.00 |  88.46 |\n",
       "| JC1799359 | 131297353407 | 78 | 152.40 |  59.00 | 2020-11-23 03:54:00 | 2020-11-24 19:53:00+00:00 | 19365.21 | 490.00 |\n",
       "\n"
      ],
      "text/plain": [
       "    anon_id   pat_enc_csn_id_coded age recent_height_cm recent_weight_kg\n",
       "1   JC1519758 131304329212         64  162.56            84.30          \n",
       "2   JC1499635 131288946250         77  172.20            72.12          \n",
       "3   JC1702425 131318400414         48  170.18            72.57          \n",
       "4   JC2565128 131302299793         66  167.64           115.67          \n",
       "5   JC1476325 131310595451         54  144.80            26.76          \n",
       "6   JC1476325 131310595451         54  144.80            26.76          \n",
       "7   JC1549260 131318391387         30  158.50            28.98          \n",
       "8   JC1163658 131294628948         83  144.80            46.90          \n",
       "9   JC1476325 131310595451         54  144.80            26.76          \n",
       "10  JC1549260 131318391387         30  158.50            28.98          \n",
       "11  JC1549260 131318391387         30  158.50            28.98          \n",
       "12  JC1549260 131318391387         30  158.50            28.98          \n",
       "13  JC1549260 131318391387         30  158.50            28.98          \n",
       "14  JC1549260 131318391387         30  158.50            28.98          \n",
       "15  JC1476325 131310595451         54  144.80            26.76          \n",
       "16  JC1476325 131310595451         54  144.80            26.76          \n",
       "17  JC1476325 131310595451         54  144.80            26.76          \n",
       "18  JC3063031 131311153199         22  152.40            42.64          \n",
       "19  JC3017497 131298448309         26  157.50            28.50          \n",
       "20  JC1476325 131310595451         54  144.80            26.76          \n",
       "21  JC1476325 131310595451         54  144.80            26.76          \n",
       "22  JC3063031 131311153199         22  152.40            42.64          \n",
       "23  JC1476325 131306560913         54  144.80            26.76          \n",
       "24  JC3063031 131311153199         22  152.40            42.64          \n",
       "25  JC2495489 131314894904         22  147.32            29.03          \n",
       "26  JC3110246 131308786553         71  150.00            27.44          \n",
       "27  JC3110246 131308786553         71  150.00            27.44          \n",
       "28  JC2007174 131296413447         24  152.40            28.58          \n",
       "29  JC3017497 131298448309         26  157.50            28.50          \n",
       "30  JC1476325 131310595451         54  144.80            26.76          \n",
       "31  JC2007174 131295177775         24  152.40            28.58          \n",
       "32  JC2007174 131295177775         24  152.40            28.58          \n",
       "33  JC2979005 131303325884         72  157.48            31.90          \n",
       "34  JC2979005 131303325884         72  157.48            31.90          \n",
       "35  JC3063031 131311153199         22  152.40            42.64          \n",
       "36  JC2007174 131295177775         24  152.40            28.58          \n",
       "37  JC2007174 131295177775         24  152.40            28.58          \n",
       "38  JC3110246 131308786553         71  150.00            27.44          \n",
       "39  JC2007174 131295177775         24  152.40            28.58          \n",
       "40  JC2979005 131303325884         72  157.48            31.90          \n",
       "41  JC3017497 131298448309         26  157.50            28.50          \n",
       "42  JC640050  131297661223         43  152.40            33.30          \n",
       "43  JC3017497 131298448309         26  157.50            28.50          \n",
       "44  JC3017497 131298448309         26  157.50            28.50          \n",
       "45  JC3063031 131311153199         22  152.40            42.64          \n",
       "46  JC1486806 131305386128         41  167.00           213.70          \n",
       "47  JC1577181 131312072391         54  175.26           226.30          \n",
       "48  JC1577181 131312072391         54  175.26           226.30          \n",
       "49  JC1577181 131312072391         54  175.26           226.30          \n",
       "50  JC1648222 131290518160         50  179.07           239.95          \n",
       "51  JC1648222 131290518160         50  179.07           239.95          \n",
       "52  JC1577181 131312072391         54  175.26           226.30          \n",
       "53  JC2708738 131299011091         48  177.80           237.68          \n",
       "54  JC3057091 131300436153         28  165.10           240.40          \n",
       "55  JC1648222 131291633342         50  179.07           239.95          \n",
       "56  JC1577181 131312072391         54  175.26           226.30          \n",
       "57  JC2708738 131299011091         48  177.80           237.68          \n",
       "58  JC3057091 131300436153         28  165.10           240.40          \n",
       "59  JC2708738 131299011091         48  177.80           237.68          \n",
       "60  JC1577181 131312072391         54  175.26           226.30          \n",
       "61  JC3214717 131314577085         33  200.66           247.66          \n",
       "62  JC2708738 131299011091         48  177.80           237.68          \n",
       "63  JC2708738 131299011091         48  177.80           237.68          \n",
       "64  JC2282652 131299849991         38  198.12           271.25          \n",
       "65  JC2282652 131299849991         38  198.12           271.25          \n",
       "66  JC657828  131312960686         30  167.64           294.84          \n",
       "67  JC2282652 131299849991         38  198.12           271.25          \n",
       "68  JC2282652 131299849991         38  198.12           271.25          \n",
       "69  JC2282652 131299849991         38  198.12           271.25          \n",
       "70  JC2483030 131287076413         31  165.00           321.00          \n",
       "71  JC657828  131312960686         30  167.64           294.84          \n",
       "72  JC657828  131312960686         30  167.64           294.84          \n",
       "73  JC2282652 131299849991         38  198.12           271.25          \n",
       "74  JC657828  131305573002         30  167.64           294.84          \n",
       "75  JC657828  131305573002         30  167.64           294.84          \n",
       "76  JC1531263 131311511070         34  185.42           301.31          \n",
       "77  JC1531263 131311511070         34  185.42           301.31          \n",
       "78  JC2483030 131290284892         31  165.00           321.00          \n",
       "79  JC2483030 131290284892         31  165.00           321.00          \n",
       "80  JC2483030 131290284892         31  165.00           321.00          \n",
       "81  JC2483030 131290284892         31  165.00           321.00          \n",
       "82  JC3020594 131308234915         47  193.00           342.46          \n",
       "83  JC2483030 131287076413         31  165.00           321.00          \n",
       "84  JC2483030 131301215021         32  165.00           321.00          \n",
       "85  JC3020594 131308234915         47  193.00           342.46          \n",
       "86  JC2483030 131287076413         31  165.00           321.00          \n",
       "87  JC3020594 131308234915         47  193.00           342.46          \n",
       "88  JC657828  131312960686         30  167.64           294.84          \n",
       "89  JC2483030 131287076413         31  165.00           321.00          \n",
       "90  JC2483030 131301215021         32  165.00           321.00          \n",
       "91  JC2483030 131290284892         31  165.00           321.00          \n",
       "92  JC2483030 131290284892         31  165.00           321.00          \n",
       "93  JC2483030 131290284892         31  165.00           321.00          \n",
       "94  JC3020594 131308234915         47  193.00           342.46          \n",
       "95  JC2483030 131290284892         31  165.00           321.00          \n",
       "96  JC2483030 131290284892         31  165.00           321.00          \n",
       "97  JC3020594 131308234915         47  193.00           342.46          \n",
       "98  JC3020594 131308234915         47  193.00           342.46          \n",
       "99  JC2483030 131301215021         32  165.00           321.00          \n",
       "100 JC2483030 131301215021         32  165.00           321.00          \n",
       "101 JC3020594 131308234915         47  193.00           342.46          \n",
       "102 JC3020594 131308234915         47  193.00           342.46          \n",
       "103 JC2483030 131301215021         32  165.00           321.00          \n",
       "104 JC3020594 131308234915         47  193.00           342.46          \n",
       "105 JC3020594 131308234915         47  193.00           342.46          \n",
       "106 JC3020594 131308234915         47  193.00           342.46          \n",
       "107 JC3020594 131308234915         47  193.00           342.46          \n",
       "108 JC2483030 131290284892         31  165.00           321.00          \n",
       "109 JC2483030 131287076413         31  165.00           321.00          \n",
       "110 JC3020594 131308234915         47  193.00           342.46          \n",
       "111 JC3020594 131308234915         47  193.00           342.46          \n",
       "112 JC3020594 131308234915         47  193.00           342.46          \n",
       "113 JC2483030 131290284892         31  165.00           321.00          \n",
       "114 JC3020594 131308234915         47  193.00           342.46          \n",
       "115 JC2483030 131290284892         31  165.00           321.00          \n",
       "116 JC2483030 131290284892         31  165.00           321.00          \n",
       "117 JC2483030 131290284892         31  165.00           321.00          \n",
       "118 JC2483030 131290284892         31  165.00           321.00          \n",
       "119 JC2483030 131290284892         31  165.00           321.00          \n",
       "120 JC2483030 131290284892         31  165.00           321.00          \n",
       "121 JC3020594 131308234915         47  193.00           342.46          \n",
       "122 JC3020594 131308234915         47  193.00           342.46          \n",
       "123 JC3020594 131308234915         47  193.00           342.46          \n",
       "124 JC2483030 131301215021         32  165.00           321.00          \n",
       "125 JC3020594 131308234915         47  193.00           342.46          \n",
       "126 JC3020594 131308234915         47  193.00           342.46          \n",
       "127 JC3020594 131308234915         47  193.00           342.46          \n",
       "128 JC2483030 131301215021         32  165.00           321.00          \n",
       "129 JC3020594 131308234915         47  193.00           342.46          \n",
       "130 JC2483030 131301215021         32  165.00           321.00          \n",
       "131 JC2483030 131301215021         32  165.00           321.00          \n",
       "132 JC3020594 131308234915         47  193.00           342.46          \n",
       "133 JC2483030 131301215021         32  165.00           321.00          \n",
       "134 JC2483030 131301215021         32  165.00           321.00          \n",
       "135 JC3020594 131308234915         47  193.00           342.46          \n",
       "136 JC3020594 131308234915         47  193.00           342.46          \n",
       "137 JC3020594 131308234915         47  193.00           342.46          \n",
       "138 JC1799359 131297353407         78  152.40            59.00          \n",
       "    admit_time          recorded_time             Weight   Wfsdmdif\n",
       "1   2021-03-12 16:27:00 2021-03-12 11:49:00+00:00    77.10  82.11  \n",
       "2   2020-06-15 23:05:00 2020-06-15 20:16:00+00:00   224.00  65.77  \n",
       "3   2021-08-20 04:57:00 2021-08-20 01:24:00+00:00   256.00  65.31  \n",
       "4   2021-01-13 07:26:00 2021-01-23 12:32:00+00:00   416.23 103.87  \n",
       "5   2021-05-30 18:37:00 2021-06-04 15:00:00+00:00   857.15   2.46  \n",
       "6   2021-05-30 18:37:00 2021-06-03 17:55:00+00:00   860.68   2.36  \n",
       "7   2021-09-16 20:59:00 2021-09-20 12:42:00+00:00   860.68   4.58  \n",
       "8   2020-09-21 05:39:00 2020-09-28 10:00:00+00:00   864.00  22.41  \n",
       "9   2021-05-30 18:37:00 2021-06-02 00:00:00+00:00   874.79   1.96  \n",
       "10  2021-09-16 20:59:00 2021-09-18 12:56:00+00:00   874.79   4.18  \n",
       "11  2021-09-16 20:59:00 2021-09-19 12:26:00+00:00   878.31   4.08  \n",
       "12  2021-09-16 20:59:00 2021-09-16 16:30:00+00:00   880.00   4.03  \n",
       "13  2021-09-16 20:59:00 2021-09-17 21:57:00+00:00   899.48   3.48  \n",
       "14  2021-09-16 20:59:00 2021-09-21 22:00:00+00:00   899.48   3.48  \n",
       "15  2021-05-30 18:37:00 2021-06-06 22:48:00+00:00   903.00   1.16  \n",
       "16  2021-05-30 18:37:00 2021-06-11 12:14:00+00:00   913.59   0.86  \n",
       "17  2021-05-30 18:37:00 2021-06-01 01:06:00+00:00   920.00   0.68  \n",
       "18  2021-05-01 10:23:00 2021-05-03 13:17:00+00:00   924.17  16.44  \n",
       "19  2020-11-04 07:37:00 2020-12-09 11:03:00+00:00   924.80   2.28  \n",
       "20  2021-05-30 18:37:00 2021-05-31 18:00:00+00:00   928.00   0.45  \n",
       "21  2021-05-30 18:37:00 2021-06-10 06:23:00+00:00   931.20   0.36  \n",
       "22  2021-05-01 10:23:00 2021-05-05 12:05:00+00:00   931.22  16.24  \n",
       "23  2021-04-08 04:57:00 2021-04-08 06:29:00+00:00   932.80   0.32  \n",
       "24  2021-05-01 10:23:00 2021-05-04 13:00:00+00:00   934.75  16.14  \n",
       "25  2021-07-07 06:44:00 2021-07-07 04:09:00+00:00   938.28   2.43  \n",
       "26  2021-05-13 03:30:00 2021-05-13 06:26:00+00:00   941.81   0.74  \n",
       "27  2021-05-13 03:30:00 2021-05-13 06:28:00+00:00   945.33   0.64  \n",
       "28  2020-10-19 01:38:00 2020-10-19 05:16:00+00:00   948.80   1.68  \n",
       "29  2020-11-04 07:37:00 2020-11-18 09:00:00+00:00   948.86   1.60  \n",
       "30  2021-05-30 18:37:00 2021-06-08 15:14:00+00:00   952.39   0.24  \n",
       "31  2020-10-02 19:10:00 2020-10-03 12:10:00+00:00   952.39   1.58  \n",
       "32  2020-10-02 19:10:00 2020-10-05 12:32:00+00:00   952.39   1.58  \n",
       "33  2021-02-04 00:52:00 2021-02-03 20:34:00+00:00   960.00   4.68  \n",
       "34  2021-02-04 00:52:00 2021-02-07 16:15:00+00:00   960.00   4.68  \n",
       "35  2021-05-01 10:23:00 2021-05-01 06:30:00+00:00   960.00  15.42  \n",
       "36  2020-10-02 19:10:00 2020-10-02 18:27:00+00:00   962.97   1.28  \n",
       "37  2020-10-02 19:10:00 2020-10-02 21:29:00+00:00   966.50   1.18  \n",
       "38  2021-05-13 03:30:00 2021-05-20 12:46:00+00:00   968.00   0.00  \n",
       "39  2020-10-02 19:10:00 2020-10-04 12:49:00+00:00   971.20   1.05  \n",
       "40  2021-02-04 00:52:00 2021-02-08 14:00:00+00:00   976.00   4.23  \n",
       "41  2020-11-04 07:37:00 2020-12-02 11:30:00+00:00   976.00   0.83  \n",
       "42  2020-11-11 21:33:00 2020-11-12 01:42:00+00:00   980.80   5.49  \n",
       "43  2020-11-04 07:37:00 2020-12-16 13:13:00+00:00   991.19   0.40  \n",
       "44  2020-11-04 07:37:00 2020-11-27 21:00:00+00:00   998.24   0.20  \n",
       "45  2021-05-01 10:23:00 2021-05-08 21:18:00+00:00   998.40  14.34  \n",
       "46  2021-03-14 10:09:00 2021-03-14 12:00:00+00:00  8108.80  16.18  \n",
       "47  2021-05-06 12:05:00 2021-05-06 17:27:00+00:00  8109.40   3.60  \n",
       "48  2021-05-06 12:05:00 2021-05-07 19:06:00+00:00  8128.00   4.13  \n",
       "49  2021-05-06 12:05:00 2021-05-06 13:15:00+00:00  8272.00   8.21  \n",
       "50  2020-07-01 04:43:00 2020-07-01 22:00:00+00:00  8395.12   1.95  \n",
       "51  2020-07-01 04:43:00 2020-07-01 06:50:00+00:00  8409.23   1.55  \n",
       "52  2021-05-06 12:05:00 2021-05-07 12:36:00+00:00  8433.92  12.80  \n",
       "53  2020-12-08 18:18:00 2020-12-12 16:37:00+00:00  8435.20   1.46  \n",
       "54  2021-01-07 00:07:00 2021-01-09 22:00:00+00:00  8448.00   0.90  \n",
       "55  2020-07-23 04:33:00 2020-07-22 23:21:00+00:00  8464.00   0.00  \n",
       "56  2021-05-06 12:05:00 2021-05-08 12:11:00+00:00  8472.72  13.90  \n",
       "57  2020-12-08 18:18:00 2020-12-11 15:16:00+00:00  8476.80   2.64  \n",
       "58  2021-01-07 00:07:00 2021-01-11 19:58:00+00:00  8480.00   0.01  \n",
       "59  2020-12-08 18:18:00 2020-12-10 11:02:00+00:00  8553.60   4.81  \n",
       "60  2021-05-06 12:05:00 2021-05-09 11:42:00+00:00  8553.85  16.20  \n",
       "61  2021-07-25 13:24:00 2021-07-25 09:23:00+00:00  8640.00   2.72  \n",
       "62  2020-12-08 18:18:00 2020-12-09 12:57:00+00:00  8691.20   8.72  \n",
       "63  2020-12-08 18:18:00 2020-12-09 01:37:00+00:00  8732.80   9.89  \n",
       "64  2020-12-20 03:05:00 2020-12-19 23:55:00+00:00  9488.60   2.25  \n",
       "65  2020-12-20 03:05:00 2020-12-24 12:54:00+00:00  9568.00   0.00  \n",
       "66  2021-07-17 07:29:00 2021-07-17 05:34:00+00:00  9600.00  22.68  \n",
       "67  2020-12-20 03:05:00 2020-12-23 12:51:00+00:00  9616.00   1.36  \n",
       "68  2020-12-20 03:05:00 2020-12-22 13:00:00+00:00  9664.00   2.72  \n",
       "69  2020-12-20 03:05:00 2020-12-21 13:17:00+00:00  9744.00   4.99  \n",
       "70  2020-04-01 10:46:00 2020-04-01 08:16:00+00:00 10224.00  31.15  \n",
       "71  2021-07-17 07:29:00 2021-07-20 22:55:00+00:00 10271.67   3.64  \n",
       "72  2021-07-17 07:29:00 2021-07-22 21:31:00+00:00 10328.11   2.04  \n",
       "73  2020-12-20 03:05:00 2020-12-20 02:00:00+00:00 10400.00  23.59  \n",
       "74  2021-04-05 11:25:00 2021-04-05 07:57:00+00:00 10400.00   0.00  \n",
       "75  2021-04-05 11:25:00 2021-04-06 16:15:00+00:00 10542.40   4.04  \n",
       "76  2021-05-18 09:41:00 2021-05-18 13:20:00+00:00 10628.32   0.00  \n",
       "77  2021-05-18 09:41:00 2021-05-22 12:15:00+00:00 10628.36   0.00  \n",
       "78  2020-06-17 05:37:00 2020-07-02 10:00:00+00:00 11040.64   8.00  \n",
       "79  2020-06-17 05:37:00 2020-07-03 11:53:00+00:00 11040.64   8.00  \n",
       "80  2020-06-17 05:37:00 2020-06-17 13:00:00+00:00 11199.37   3.50  \n",
       "81  2020-06-17 05:37:00 2020-06-17 02:51:00+00:00 11200.00   3.48  \n",
       "82  2021-05-03 07:58:00 2021-05-03 07:30:00+00:00 11200.00  24.94  \n",
       "83  2020-04-01 10:46:00 2020-04-05 12:53:00+00:00 11312.00   0.30  \n",
       "84  2021-01-01 10:32:00 2021-01-10 13:38:00+00:00 11328.00   0.15  \n",
       "85  2021-05-03 07:58:00 2021-05-16 13:00:00+00:00 11344.00  20.86  \n",
       "86  2020-04-01 10:46:00 2020-04-03 20:00:00+00:00 11392.00   1.96  \n",
       "87  2021-05-03 07:58:00 2021-05-17 13:00:00+00:00 11392.00  19.50  \n",
       "88  2021-07-17 07:29:00 2021-07-17 06:00:00+00:00 11393.37  28.16  \n",
       "89  2020-04-01 10:46:00 2020-04-04 11:40:00+00:00 11396.90   2.10  \n",
       "90  2021-01-01 10:32:00 2021-01-09 14:30:00+00:00 11520.00   5.59  \n",
       "91  2020-06-17 05:37:00 2020-06-28 12:57:00+00:00 11534.47   6.00  \n",
       "92  2020-06-17 05:37:00 2020-06-30 10:55:00+00:00 11640.29   9.00  \n",
       "93  2020-06-17 05:37:00 2020-07-02 00:00:00+00:00 11675.56  10.00  \n",
       "94  2021-05-03 07:58:00 2021-05-21 13:00:00+00:00 11904.00   4.98  \n",
       "95  2020-06-17 05:37:00 2020-06-27 12:57:00+00:00 11922.48  17.00  \n",
       "96  2020-06-17 05:37:00 2020-06-26 13:46:00+00:00 11957.75  18.00  \n",
       "97  2021-05-03 07:58:00 2021-05-22 10:49:00+00:00 12000.00   2.26  \n",
       "98  2021-05-03 07:58:00 2021-05-23 12:56:00+00:00 12000.00   2.26  \n",
       "99  2021-01-01 10:32:00 2021-01-02 13:00:00+00:00 12016.00  19.65  \n",
       "100 2021-01-01 10:32:00 2021-01-01 07:10:00+00:00 12080.00  21.47  \n",
       "101 2021-05-03 07:58:00 2021-06-15 19:51:00+00:00 12080.00   0.01  \n",
       "102 2021-05-03 07:58:00 2021-05-20 17:59:00+00:00 12160.00   2.28  \n",
       "103 2021-01-01 10:32:00 2021-01-08 14:44:00+00:00 12208.00  25.10  \n",
       "104 2021-05-03 07:58:00 2021-05-24 12:57:00+00:00 12224.00   4.09  \n",
       "105 2021-05-03 07:58:00 2021-05-09 23:50:00+00:00 12272.00   5.45  \n",
       "106 2021-05-03 07:58:00 2021-06-14 22:00:00+00:00 12320.00   6.81  \n",
       "107 2021-05-03 07:58:00 2021-05-30 12:00:00+00:00 12336.00   7.27  \n",
       "108 2020-06-17 05:37:00 2020-06-25 14:27:00+00:00 12345.76  29.00  \n",
       "109 2020-04-01 10:46:00 2020-04-03 12:00:00+00:00 12381.03  30.00  \n",
       "110 2021-05-03 07:58:00 2021-05-25 11:00:00+00:00 12384.00   8.63  \n",
       "111 2021-05-03 07:58:00 2021-05-29 13:00:00+00:00 12511.55  12.24  \n",
       "112 2021-05-03 07:58:00 2021-05-26 10:10:00+00:00 12512.00  12.26  \n",
       "113 2020-06-17 05:37:00 2020-06-21 13:00:00+00:00 12522.13  34.00  \n",
       "114 2021-05-03 07:58:00 2021-06-02 12:32:00+00:00 12624.00  15.43  \n",
       "115 2020-06-17 05:37:00 2020-06-20 11:56:00+00:00 12627.95  37.00  \n",
       "116 2020-06-17 05:37:00 2020-06-24 13:00:00+00:00 12627.95  37.00  \n",
       "117 2020-06-17 05:37:00 2020-06-19 13:49:00+00:00 12663.22  38.00  \n",
       "118 2020-06-17 05:37:00 2020-06-23 12:00:00+00:00 12663.22  38.00  \n",
       "119 2020-06-17 05:37:00 2020-06-18 12:49:00+00:00 12698.50  39.00  \n",
       "120 2020-06-17 05:37:00 2020-06-22 13:16:00+00:00 12769.04  41.00  \n",
       "121 2021-05-03 07:58:00 2021-06-04 12:25:00+00:00 12832.00  21.33  \n",
       "122 2021-05-03 07:58:00 2021-06-05 13:00:00+00:00 12832.00  21.33  \n",
       "123 2021-05-03 07:58:00 2021-06-13 12:42:00+00:00 12832.00  21.33  \n",
       "124 2021-01-01 10:32:00 2021-01-06 15:00:00+00:00 12839.59  43.00  \n",
       "125 2021-05-03 07:58:00 2021-06-12 22:00:00+00:00 12944.00  24.50  \n",
       "126 2021-05-03 07:58:00 2021-05-09 09:35:00+00:00 13088.00  28.58  \n",
       "127 2021-05-03 07:58:00 2021-05-09 00:30:00+00:00 13120.00  29.49  \n",
       "128 2021-01-01 10:32:00 2021-01-05 14:00:00+00:00 13184.00  52.77  \n",
       "129 2021-05-03 07:58:00 2021-06-07 17:50:00+00:00 13184.00  31.31  \n",
       "130 2021-01-01 10:32:00 2021-01-03 02:00:00+00:00 13280.00  55.49  \n",
       "131 2021-01-01 10:32:00 2021-01-07 14:00:00+00:00 13296.00  55.94  \n",
       "132 2021-05-03 07:58:00 2021-06-06 17:03:00+00:00 13312.00  34.94  \n",
       "133 2021-01-01 10:32:00 2021-01-04 21:16:00+00:00 13439.24  60.00  \n",
       "134 2021-01-01 10:32:00 2021-01-03 12:21:00+00:00 13440.00  60.02  \n",
       "135 2021-05-03 07:58:00 2021-05-07 13:00:00+00:00 14557.41  70.24  \n",
       "136 2021-05-03 07:58:00 2021-05-08 18:30:00+00:00 14656.00  73.04  \n",
       "137 2021-05-03 07:58:00 2021-05-08 15:34:00+00:00 15200.00  88.46  \n",
       "138 2020-11-23 03:54:00 2020-11-24 19:53:00+00:00 19365.21 490.00  "
      ]
     },
     "metadata": {},
     "output_type": "display_data"
    }
   ],
   "source": [
    "errorW %>% select(anon_id, pat_enc_csn_id_coded, age, recent_height_cm, recent_weight_kg, \n",
    "                  admit_time, recorded_time, Weight, Wfsdmdif) %>% arrange(Weight)"
   ]
  },
  {
   "cell_type": "code",
   "execution_count": 29,
   "metadata": {},
   "outputs": [
    {
     "data": {
      "text/html": [
       "16"
      ],
      "text/latex": [
       "16"
      ],
      "text/markdown": [
       "16"
      ],
      "text/plain": [
       "[1] 16"
      ]
     },
     "metadata": {},
     "output_type": "display_data"
    },
    {
     "data": {
      "text/html": [
       "<table class=\"dataframe\">\n",
       "<caption>A grouped_df: 128 × 9</caption>\n",
       "<thead>\n",
       "\t<tr><th scope=col>anon_id</th><th scope=col>pat_enc_csn_id_coded</th><th scope=col>age</th><th scope=col>recent_height_cm</th><th scope=col>recent_weight_kg</th><th scope=col>admit_time</th><th scope=col>recorded_time</th><th scope=col>Weight</th><th scope=col>nWe</th></tr>\n",
       "\t<tr><th scope=col>&lt;chr&gt;</th><th scope=col>&lt;dbl&gt;</th><th scope=col>&lt;int&gt;</th><th scope=col>&lt;dbl&gt;</th><th scope=col>&lt;dbl&gt;</th><th scope=col>&lt;chr&gt;</th><th scope=col>&lt;chr&gt;</th><th scope=col>&lt;dbl&gt;</th><th scope=col>&lt;int&gt;</th></tr>\n",
       "</thead>\n",
       "<tbody>\n",
       "\t<tr><td>JC1476325</td><td>131306560913</td><td>54</td><td>144.80</td><td> 26.76</td><td>2021-04-08 04:57:00</td><td>2021-04-08 06:29:00+00:00</td><td>  932.80</td><td> 1</td></tr>\n",
       "\t<tr><td>JC1476325</td><td>131310595451</td><td>54</td><td>144.80</td><td> 26.76</td><td>2021-05-30 18:37:00</td><td>2021-05-31 18:00:00+00:00</td><td>  928.00</td><td> 9</td></tr>\n",
       "\t<tr><td>JC1476325</td><td>131310595451</td><td>54</td><td>144.80</td><td> 26.76</td><td>2021-05-30 18:37:00</td><td>2021-06-01 01:06:00+00:00</td><td>  920.00</td><td> 9</td></tr>\n",
       "\t<tr><td>JC1476325</td><td>131310595451</td><td>54</td><td>144.80</td><td> 26.76</td><td>2021-05-30 18:37:00</td><td>2021-06-02 00:00:00+00:00</td><td>  874.79</td><td> 9</td></tr>\n",
       "\t<tr><td>JC1476325</td><td>131310595451</td><td>54</td><td>144.80</td><td> 26.76</td><td>2021-05-30 18:37:00</td><td>2021-06-03 17:55:00+00:00</td><td>  860.68</td><td> 9</td></tr>\n",
       "\t<tr><td>JC1476325</td><td>131310595451</td><td>54</td><td>144.80</td><td> 26.76</td><td>2021-05-30 18:37:00</td><td>2021-06-04 15:00:00+00:00</td><td>  857.15</td><td> 9</td></tr>\n",
       "\t<tr><td>JC1476325</td><td>131310595451</td><td>54</td><td>144.80</td><td> 26.76</td><td>2021-05-30 18:37:00</td><td>2021-06-06 22:48:00+00:00</td><td>  903.00</td><td> 9</td></tr>\n",
       "\t<tr><td>JC1476325</td><td>131310595451</td><td>54</td><td>144.80</td><td> 26.76</td><td>2021-05-30 18:37:00</td><td>2021-06-08 15:14:00+00:00</td><td>  952.39</td><td> 9</td></tr>\n",
       "\t<tr><td>JC1476325</td><td>131310595451</td><td>54</td><td>144.80</td><td> 26.76</td><td>2021-05-30 18:37:00</td><td>2021-06-10 06:23:00+00:00</td><td>  931.20</td><td> 9</td></tr>\n",
       "\t<tr><td>JC1476325</td><td>131310595451</td><td>54</td><td>144.80</td><td> 26.76</td><td>2021-05-30 18:37:00</td><td>2021-06-11 12:14:00+00:00</td><td>  913.59</td><td> 9</td></tr>\n",
       "\t<tr><td>JC1531263</td><td>131311511070</td><td>34</td><td>185.42</td><td>301.31</td><td>2021-05-18 09:41:00</td><td>2021-05-18 13:20:00+00:00</td><td>10628.32</td><td> 2</td></tr>\n",
       "\t<tr><td>JC1531263</td><td>131311511070</td><td>34</td><td>185.42</td><td>301.31</td><td>2021-05-18 09:41:00</td><td>2021-05-22 12:15:00+00:00</td><td>10628.36</td><td> 2</td></tr>\n",
       "\t<tr><td>JC1549260</td><td>131318391387</td><td>30</td><td>158.50</td><td> 28.98</td><td>2021-09-16 20:59:00</td><td>2021-09-16 16:30:00+00:00</td><td>  880.00</td><td> 6</td></tr>\n",
       "\t<tr><td>JC1549260</td><td>131318391387</td><td>30</td><td>158.50</td><td> 28.98</td><td>2021-09-16 20:59:00</td><td>2021-09-17 21:57:00+00:00</td><td>  899.48</td><td> 6</td></tr>\n",
       "\t<tr><td>JC1549260</td><td>131318391387</td><td>30</td><td>158.50</td><td> 28.98</td><td>2021-09-16 20:59:00</td><td>2021-09-18 12:56:00+00:00</td><td>  874.79</td><td> 6</td></tr>\n",
       "\t<tr><td>JC1549260</td><td>131318391387</td><td>30</td><td>158.50</td><td> 28.98</td><td>2021-09-16 20:59:00</td><td>2021-09-19 12:26:00+00:00</td><td>  878.31</td><td> 6</td></tr>\n",
       "\t<tr><td>JC1549260</td><td>131318391387</td><td>30</td><td>158.50</td><td> 28.98</td><td>2021-09-16 20:59:00</td><td>2021-09-20 12:42:00+00:00</td><td>  860.68</td><td> 6</td></tr>\n",
       "\t<tr><td>JC1549260</td><td>131318391387</td><td>30</td><td>158.50</td><td> 28.98</td><td>2021-09-16 20:59:00</td><td>2021-09-21 22:00:00+00:00</td><td>  899.48</td><td> 6</td></tr>\n",
       "\t<tr><td>JC1577181</td><td>131312072391</td><td>54</td><td>175.26</td><td>226.30</td><td>2021-05-06 12:05:00</td><td>2021-05-06 13:15:00+00:00</td><td> 8272.00</td><td> 6</td></tr>\n",
       "\t<tr><td>JC1577181</td><td>131312072391</td><td>54</td><td>175.26</td><td>226.30</td><td>2021-05-06 12:05:00</td><td>2021-05-06 17:27:00+00:00</td><td> 8109.40</td><td> 6</td></tr>\n",
       "\t<tr><td>JC1577181</td><td>131312072391</td><td>54</td><td>175.26</td><td>226.30</td><td>2021-05-06 12:05:00</td><td>2021-05-07 12:36:00+00:00</td><td> 8433.92</td><td> 6</td></tr>\n",
       "\t<tr><td>JC1577181</td><td>131312072391</td><td>54</td><td>175.26</td><td>226.30</td><td>2021-05-06 12:05:00</td><td>2021-05-07 19:06:00+00:00</td><td> 8128.00</td><td> 6</td></tr>\n",
       "\t<tr><td>JC1577181</td><td>131312072391</td><td>54</td><td>175.26</td><td>226.30</td><td>2021-05-06 12:05:00</td><td>2021-05-08 12:11:00+00:00</td><td> 8472.72</td><td> 6</td></tr>\n",
       "\t<tr><td>JC1577181</td><td>131312072391</td><td>54</td><td>175.26</td><td>226.30</td><td>2021-05-06 12:05:00</td><td>2021-05-09 11:42:00+00:00</td><td> 8553.85</td><td> 6</td></tr>\n",
       "\t<tr><td>JC1648222</td><td>131290518160</td><td>50</td><td>179.07</td><td>239.95</td><td>2020-07-01 04:43:00</td><td>2020-07-01 06:50:00+00:00</td><td> 8409.23</td><td> 2</td></tr>\n",
       "\t<tr><td>JC1648222</td><td>131290518160</td><td>50</td><td>179.07</td><td>239.95</td><td>2020-07-01 04:43:00</td><td>2020-07-01 22:00:00+00:00</td><td> 8395.12</td><td> 2</td></tr>\n",
       "\t<tr><td>JC1648222</td><td>131291633342</td><td>50</td><td>179.07</td><td>239.95</td><td>2020-07-23 04:33:00</td><td>2020-07-22 23:21:00+00:00</td><td> 8464.00</td><td> 1</td></tr>\n",
       "\t<tr><td>JC2007174</td><td>131295177775</td><td>24</td><td>152.40</td><td> 28.58</td><td>2020-10-02 19:10:00</td><td>2020-10-02 18:27:00+00:00</td><td>  962.97</td><td> 5</td></tr>\n",
       "\t<tr><td>JC2007174</td><td>131295177775</td><td>24</td><td>152.40</td><td> 28.58</td><td>2020-10-02 19:10:00</td><td>2020-10-02 21:29:00+00:00</td><td>  966.50</td><td> 5</td></tr>\n",
       "\t<tr><td>JC2007174</td><td>131295177775</td><td>24</td><td>152.40</td><td> 28.58</td><td>2020-10-02 19:10:00</td><td>2020-10-03 12:10:00+00:00</td><td>  952.39</td><td> 5</td></tr>\n",
       "\t<tr><td>JC2007174</td><td>131295177775</td><td>24</td><td>152.40</td><td> 28.58</td><td>2020-10-02 19:10:00</td><td>2020-10-04 12:49:00+00:00</td><td>  971.20</td><td> 5</td></tr>\n",
       "\t<tr><td>JC2007174</td><td>131295177775</td><td>24</td><td>152.40</td><td> 28.58</td><td>2020-10-02 19:10:00</td><td>2020-10-05 12:32:00+00:00</td><td>  952.39</td><td> 5</td></tr>\n",
       "\t<tr><td>JC2007174</td><td>131296413447</td><td>24</td><td>152.40</td><td> 28.58</td><td>2020-10-19 01:38:00</td><td>2020-10-19 05:16:00+00:00</td><td>  948.80</td><td> 1</td></tr>\n",
       "\t<tr><td>JC2282652</td><td>131299849991</td><td>38</td><td>198.12</td><td>271.25</td><td>2020-12-20 03:05:00</td><td>2020-12-19 23:55:00+00:00</td><td> 9488.60</td><td> 6</td></tr>\n",
       "\t<tr><td>JC2282652</td><td>131299849991</td><td>38</td><td>198.12</td><td>271.25</td><td>2020-12-20 03:05:00</td><td>2020-12-20 02:00:00+00:00</td><td>10400.00</td><td> 6</td></tr>\n",
       "\t<tr><td>JC2282652</td><td>131299849991</td><td>38</td><td>198.12</td><td>271.25</td><td>2020-12-20 03:05:00</td><td>2020-12-21 13:17:00+00:00</td><td> 9744.00</td><td> 6</td></tr>\n",
       "\t<tr><td>JC2282652</td><td>131299849991</td><td>38</td><td>198.12</td><td>271.25</td><td>2020-12-20 03:05:00</td><td>2020-12-22 13:00:00+00:00</td><td> 9664.00</td><td> 6</td></tr>\n",
       "\t<tr><td>JC2282652</td><td>131299849991</td><td>38</td><td>198.12</td><td>271.25</td><td>2020-12-20 03:05:00</td><td>2020-12-23 12:51:00+00:00</td><td> 9616.00</td><td> 6</td></tr>\n",
       "\t<tr><td>JC2282652</td><td>131299849991</td><td>38</td><td>198.12</td><td>271.25</td><td>2020-12-20 03:05:00</td><td>2020-12-24 12:54:00+00:00</td><td> 9568.00</td><td> 6</td></tr>\n",
       "\t<tr><td>JC2483030</td><td>131287076413</td><td>31</td><td>165.00</td><td>321.00</td><td>2020-04-01 10:46:00</td><td>2020-04-01 08:16:00+00:00</td><td>10224.00</td><td> 5</td></tr>\n",
       "\t<tr><td>JC2483030</td><td>131287076413</td><td>31</td><td>165.00</td><td>321.00</td><td>2020-04-01 10:46:00</td><td>2020-04-03 12:00:00+00:00</td><td>12381.03</td><td> 5</td></tr>\n",
       "\t<tr><td>JC2483030</td><td>131287076413</td><td>31</td><td>165.00</td><td>321.00</td><td>2020-04-01 10:46:00</td><td>2020-04-03 20:00:00+00:00</td><td>11392.00</td><td> 5</td></tr>\n",
       "\t<tr><td>JC2483030</td><td>131287076413</td><td>31</td><td>165.00</td><td>321.00</td><td>2020-04-01 10:46:00</td><td>2020-04-04 11:40:00+00:00</td><td>11396.90</td><td> 5</td></tr>\n",
       "\t<tr><td>JC2483030</td><td>131287076413</td><td>31</td><td>165.00</td><td>321.00</td><td>2020-04-01 10:46:00</td><td>2020-04-05 12:53:00+00:00</td><td>11312.00</td><td> 5</td></tr>\n",
       "\t<tr><td>JC2483030</td><td>131290284892</td><td>31</td><td>165.00</td><td>321.00</td><td>2020-06-17 05:37:00</td><td>2020-06-17 02:51:00+00:00</td><td>11200.00</td><td>18</td></tr>\n",
       "\t<tr><td>JC2483030</td><td>131290284892</td><td>31</td><td>165.00</td><td>321.00</td><td>2020-06-17 05:37:00</td><td>2020-06-17 13:00:00+00:00</td><td>11199.37</td><td>18</td></tr>\n",
       "\t<tr><td>JC2483030</td><td>131290284892</td><td>31</td><td>165.00</td><td>321.00</td><td>2020-06-17 05:37:00</td><td>2020-06-18 12:49:00+00:00</td><td>12698.50</td><td>18</td></tr>\n",
       "\t<tr><td>JC2483030</td><td>131290284892</td><td>31</td><td>165.00</td><td>321.00</td><td>2020-06-17 05:37:00</td><td>2020-06-19 13:49:00+00:00</td><td>12663.22</td><td>18</td></tr>\n",
       "\t<tr><td>JC2483030</td><td>131290284892</td><td>31</td><td>165.00</td><td>321.00</td><td>2020-06-17 05:37:00</td><td>2020-06-20 11:56:00+00:00</td><td>12627.95</td><td>18</td></tr>\n",
       "\t<tr><td>JC2483030</td><td>131290284892</td><td>31</td><td>165.00</td><td>321.00</td><td>2020-06-17 05:37:00</td><td>2020-06-21 13:00:00+00:00</td><td>12522.13</td><td>18</td></tr>\n",
       "\t<tr><td>JC2483030</td><td>131290284892</td><td>31</td><td>165.00</td><td>321.00</td><td>2020-06-17 05:37:00</td><td>2020-06-22 13:16:00+00:00</td><td>12769.04</td><td>18</td></tr>\n",
       "\t<tr><td>JC2483030</td><td>131290284892</td><td>31</td><td>165.00</td><td>321.00</td><td>2020-06-17 05:37:00</td><td>2020-06-23 12:00:00+00:00</td><td>12663.22</td><td>18</td></tr>\n",
       "\t<tr><td>JC2483030</td><td>131290284892</td><td>31</td><td>165.00</td><td>321.00</td><td>2020-06-17 05:37:00</td><td>2020-06-24 13:00:00+00:00</td><td>12627.95</td><td>18</td></tr>\n",
       "\t<tr><td>JC2483030</td><td>131290284892</td><td>31</td><td>165.00</td><td>321.00</td><td>2020-06-17 05:37:00</td><td>2020-06-25 14:27:00+00:00</td><td>12345.76</td><td>18</td></tr>\n",
       "\t<tr><td>JC2483030</td><td>131290284892</td><td>31</td><td>165.00</td><td>321.00</td><td>2020-06-17 05:37:00</td><td>2020-06-26 13:46:00+00:00</td><td>11957.75</td><td>18</td></tr>\n",
       "\t<tr><td>JC2483030</td><td>131290284892</td><td>31</td><td>165.00</td><td>321.00</td><td>2020-06-17 05:37:00</td><td>2020-06-27 12:57:00+00:00</td><td>11922.48</td><td>18</td></tr>\n",
       "\t<tr><td>JC2483030</td><td>131290284892</td><td>31</td><td>165.00</td><td>321.00</td><td>2020-06-17 05:37:00</td><td>2020-06-28 12:57:00+00:00</td><td>11534.47</td><td>18</td></tr>\n",
       "\t<tr><td>JC2483030</td><td>131290284892</td><td>31</td><td>165.00</td><td>321.00</td><td>2020-06-17 05:37:00</td><td>2020-06-30 10:55:00+00:00</td><td>11640.29</td><td>18</td></tr>\n",
       "\t<tr><td>JC2483030</td><td>131290284892</td><td>31</td><td>165.00</td><td>321.00</td><td>2020-06-17 05:37:00</td><td>2020-07-02 00:00:00+00:00</td><td>11675.56</td><td>18</td></tr>\n",
       "\t<tr><td>JC2483030</td><td>131290284892</td><td>31</td><td>165.00</td><td>321.00</td><td>2020-06-17 05:37:00</td><td>2020-07-02 10:00:00+00:00</td><td>11040.64</td><td>18</td></tr>\n",
       "\t<tr><td>JC2483030</td><td>131290284892</td><td>31</td><td>165.00</td><td>321.00</td><td>2020-06-17 05:37:00</td><td>2020-07-03 11:53:00+00:00</td><td>11040.64</td><td>18</td></tr>\n",
       "\t<tr><td>JC2483030</td><td>131301215021</td><td>32</td><td>165.00</td><td>321.00</td><td>2021-01-01 10:32:00</td><td>2021-01-01 07:10:00+00:00</td><td>12080.00</td><td>11</td></tr>\n",
       "\t<tr><td>JC2483030</td><td>131301215021</td><td>32</td><td>165.00</td><td>321.00</td><td>2021-01-01 10:32:00</td><td>2021-01-02 13:00:00+00:00</td><td>12016.00</td><td>11</td></tr>\n",
       "\t<tr><td>JC2483030</td><td>131301215021</td><td>32</td><td>165.00</td><td>321.00</td><td>2021-01-01 10:32:00</td><td>2021-01-03 02:00:00+00:00</td><td>13280.00</td><td>11</td></tr>\n",
       "\t<tr><td>JC2483030</td><td>131301215021</td><td>32</td><td>165.00</td><td>321.00</td><td>2021-01-01 10:32:00</td><td>2021-01-03 12:21:00+00:00</td><td>13440.00</td><td>11</td></tr>\n",
       "\t<tr><td>JC2483030</td><td>131301215021</td><td>32</td><td>165.00</td><td>321.00</td><td>2021-01-01 10:32:00</td><td>2021-01-04 21:16:00+00:00</td><td>13439.24</td><td>11</td></tr>\n",
       "\t<tr><td>JC2483030</td><td>131301215021</td><td>32</td><td>165.00</td><td>321.00</td><td>2021-01-01 10:32:00</td><td>2021-01-05 14:00:00+00:00</td><td>13184.00</td><td>11</td></tr>\n",
       "\t<tr><td>JC2483030</td><td>131301215021</td><td>32</td><td>165.00</td><td>321.00</td><td>2021-01-01 10:32:00</td><td>2021-01-06 15:00:00+00:00</td><td>12839.59</td><td>11</td></tr>\n",
       "\t<tr><td>JC2483030</td><td>131301215021</td><td>32</td><td>165.00</td><td>321.00</td><td>2021-01-01 10:32:00</td><td>2021-01-07 14:00:00+00:00</td><td>13296.00</td><td>11</td></tr>\n",
       "\t<tr><td>JC2483030</td><td>131301215021</td><td>32</td><td>165.00</td><td>321.00</td><td>2021-01-01 10:32:00</td><td>2021-01-08 14:44:00+00:00</td><td>12208.00</td><td>11</td></tr>\n",
       "\t<tr><td>JC2483030</td><td>131301215021</td><td>32</td><td>165.00</td><td>321.00</td><td>2021-01-01 10:32:00</td><td>2021-01-09 14:30:00+00:00</td><td>11520.00</td><td>11</td></tr>\n",
       "\t<tr><td>JC2483030</td><td>131301215021</td><td>32</td><td>165.00</td><td>321.00</td><td>2021-01-01 10:32:00</td><td>2021-01-10 13:38:00+00:00</td><td>11328.00</td><td>11</td></tr>\n",
       "\t<tr><td>JC2708738</td><td>131299011091</td><td>48</td><td>177.80</td><td>237.68</td><td>2020-12-08 18:18:00</td><td>2020-12-09 01:37:00+00:00</td><td> 8732.80</td><td> 5</td></tr>\n",
       "\t<tr><td>JC2708738</td><td>131299011091</td><td>48</td><td>177.80</td><td>237.68</td><td>2020-12-08 18:18:00</td><td>2020-12-09 12:57:00+00:00</td><td> 8691.20</td><td> 5</td></tr>\n",
       "\t<tr><td>JC2708738</td><td>131299011091</td><td>48</td><td>177.80</td><td>237.68</td><td>2020-12-08 18:18:00</td><td>2020-12-10 11:02:00+00:00</td><td> 8553.60</td><td> 5</td></tr>\n",
       "\t<tr><td>JC2708738</td><td>131299011091</td><td>48</td><td>177.80</td><td>237.68</td><td>2020-12-08 18:18:00</td><td>2020-12-11 15:16:00+00:00</td><td> 8476.80</td><td> 5</td></tr>\n",
       "\t<tr><td>JC2708738</td><td>131299011091</td><td>48</td><td>177.80</td><td>237.68</td><td>2020-12-08 18:18:00</td><td>2020-12-12 16:37:00+00:00</td><td> 8435.20</td><td> 5</td></tr>\n",
       "\t<tr><td>JC2979005</td><td>131303325884</td><td>72</td><td>157.48</td><td> 31.90</td><td>2021-02-04 00:52:00</td><td>2021-02-03 20:34:00+00:00</td><td>  960.00</td><td> 4</td></tr>\n",
       "\t<tr><td>JC2979005</td><td>131303325884</td><td>72</td><td>157.48</td><td> 31.90</td><td>2021-02-04 00:52:00</td><td>2021-02-07 16:15:00+00:00</td><td>  960.00</td><td> 4</td></tr>\n",
       "\t<tr><td>JC2979005</td><td>131303325884</td><td>72</td><td>157.48</td><td> 31.90</td><td>2021-02-04 00:52:00</td><td>2021-02-08 14:00:00+00:00</td><td>  976.00</td><td> 4</td></tr>\n",
       "\t<tr><td>JC3017497</td><td>131298448309</td><td>26</td><td>157.50</td><td> 28.50</td><td>2020-11-04 07:37:00</td><td>2020-11-18 09:00:00+00:00</td><td>  948.86</td><td> 7</td></tr>\n",
       "\t<tr><td>JC3017497</td><td>131298448309</td><td>26</td><td>157.50</td><td> 28.50</td><td>2020-11-04 07:37:00</td><td>2020-11-27 21:00:00+00:00</td><td>  998.24</td><td> 7</td></tr>\n",
       "\t<tr><td>JC3017497</td><td>131298448309</td><td>26</td><td>157.50</td><td> 28.50</td><td>2020-11-04 07:37:00</td><td>2020-12-02 11:30:00+00:00</td><td>  976.00</td><td> 7</td></tr>\n",
       "\t<tr><td>JC3017497</td><td>131298448309</td><td>26</td><td>157.50</td><td> 28.50</td><td>2020-11-04 07:37:00</td><td>2020-12-09 11:03:00+00:00</td><td>  924.80</td><td> 7</td></tr>\n",
       "\t<tr><td>JC3017497</td><td>131298448309</td><td>26</td><td>157.50</td><td> 28.50</td><td>2020-11-04 07:37:00</td><td>2020-12-16 13:13:00+00:00</td><td>  991.19</td><td> 7</td></tr>\n",
       "\t<tr><td>JC3020594</td><td>131308234915</td><td>47</td><td>193.00</td><td>342.46</td><td>2021-05-03 07:58:00</td><td>2021-05-03 07:30:00+00:00</td><td>11200.00</td><td>27</td></tr>\n",
       "\t<tr><td>JC3020594</td><td>131308234915</td><td>47</td><td>193.00</td><td>342.46</td><td>2021-05-03 07:58:00</td><td>2021-05-07 13:00:00+00:00</td><td>14557.41</td><td>27</td></tr>\n",
       "\t<tr><td>JC3020594</td><td>131308234915</td><td>47</td><td>193.00</td><td>342.46</td><td>2021-05-03 07:58:00</td><td>2021-05-08 15:34:00+00:00</td><td>15200.00</td><td>27</td></tr>\n",
       "\t<tr><td>JC3020594</td><td>131308234915</td><td>47</td><td>193.00</td><td>342.46</td><td>2021-05-03 07:58:00</td><td>2021-05-08 18:30:00+00:00</td><td>14656.00</td><td>27</td></tr>\n",
       "\t<tr><td>JC3020594</td><td>131308234915</td><td>47</td><td>193.00</td><td>342.46</td><td>2021-05-03 07:58:00</td><td>2021-05-09 00:30:00+00:00</td><td>13120.00</td><td>27</td></tr>\n",
       "\t<tr><td>JC3020594</td><td>131308234915</td><td>47</td><td>193.00</td><td>342.46</td><td>2021-05-03 07:58:00</td><td>2021-05-09 09:35:00+00:00</td><td>13088.00</td><td>27</td></tr>\n",
       "\t<tr><td>JC3020594</td><td>131308234915</td><td>47</td><td>193.00</td><td>342.46</td><td>2021-05-03 07:58:00</td><td>2021-05-09 23:50:00+00:00</td><td>12272.00</td><td>27</td></tr>\n",
       "\t<tr><td>JC3020594</td><td>131308234915</td><td>47</td><td>193.00</td><td>342.46</td><td>2021-05-03 07:58:00</td><td>2021-05-16 13:00:00+00:00</td><td>11344.00</td><td>27</td></tr>\n",
       "\t<tr><td>JC3020594</td><td>131308234915</td><td>47</td><td>193.00</td><td>342.46</td><td>2021-05-03 07:58:00</td><td>2021-05-17 13:00:00+00:00</td><td>11392.00</td><td>27</td></tr>\n",
       "\t<tr><td>JC3020594</td><td>131308234915</td><td>47</td><td>193.00</td><td>342.46</td><td>2021-05-03 07:58:00</td><td>2021-05-20 17:59:00+00:00</td><td>12160.00</td><td>27</td></tr>\n",
       "\t<tr><td>JC3020594</td><td>131308234915</td><td>47</td><td>193.00</td><td>342.46</td><td>2021-05-03 07:58:00</td><td>2021-05-21 13:00:00+00:00</td><td>11904.00</td><td>27</td></tr>\n",
       "\t<tr><td>JC3020594</td><td>131308234915</td><td>47</td><td>193.00</td><td>342.46</td><td>2021-05-03 07:58:00</td><td>2021-05-22 10:49:00+00:00</td><td>12000.00</td><td>27</td></tr>\n",
       "\t<tr><td>JC3020594</td><td>131308234915</td><td>47</td><td>193.00</td><td>342.46</td><td>2021-05-03 07:58:00</td><td>2021-05-23 12:56:00+00:00</td><td>12000.00</td><td>27</td></tr>\n",
       "\t<tr><td>JC3020594</td><td>131308234915</td><td>47</td><td>193.00</td><td>342.46</td><td>2021-05-03 07:58:00</td><td>2021-05-24 12:57:00+00:00</td><td>12224.00</td><td>27</td></tr>\n",
       "\t<tr><td>JC3020594</td><td>131308234915</td><td>47</td><td>193.00</td><td>342.46</td><td>2021-05-03 07:58:00</td><td>2021-05-25 11:00:00+00:00</td><td>12384.00</td><td>27</td></tr>\n",
       "\t<tr><td>JC3020594</td><td>131308234915</td><td>47</td><td>193.00</td><td>342.46</td><td>2021-05-03 07:58:00</td><td>2021-05-26 10:10:00+00:00</td><td>12512.00</td><td>27</td></tr>\n",
       "\t<tr><td>JC3020594</td><td>131308234915</td><td>47</td><td>193.00</td><td>342.46</td><td>2021-05-03 07:58:00</td><td>2021-05-29 13:00:00+00:00</td><td>12511.55</td><td>27</td></tr>\n",
       "\t<tr><td>JC3020594</td><td>131308234915</td><td>47</td><td>193.00</td><td>342.46</td><td>2021-05-03 07:58:00</td><td>2021-05-30 12:00:00+00:00</td><td>12336.00</td><td>27</td></tr>\n",
       "\t<tr><td>JC3020594</td><td>131308234915</td><td>47</td><td>193.00</td><td>342.46</td><td>2021-05-03 07:58:00</td><td>2021-06-02 12:32:00+00:00</td><td>12624.00</td><td>27</td></tr>\n",
       "\t<tr><td>JC3020594</td><td>131308234915</td><td>47</td><td>193.00</td><td>342.46</td><td>2021-05-03 07:58:00</td><td>2021-06-04 12:25:00+00:00</td><td>12832.00</td><td>27</td></tr>\n",
       "\t<tr><td>JC3020594</td><td>131308234915</td><td>47</td><td>193.00</td><td>342.46</td><td>2021-05-03 07:58:00</td><td>2021-06-05 13:00:00+00:00</td><td>12832.00</td><td>27</td></tr>\n",
       "\t<tr><td>JC3020594</td><td>131308234915</td><td>47</td><td>193.00</td><td>342.46</td><td>2021-05-03 07:58:00</td><td>2021-06-06 17:03:00+00:00</td><td>13312.00</td><td>27</td></tr>\n",
       "\t<tr><td>JC3020594</td><td>131308234915</td><td>47</td><td>193.00</td><td>342.46</td><td>2021-05-03 07:58:00</td><td>2021-06-07 17:50:00+00:00</td><td>13184.00</td><td>27</td></tr>\n",
       "\t<tr><td>JC3020594</td><td>131308234915</td><td>47</td><td>193.00</td><td>342.46</td><td>2021-05-03 07:58:00</td><td>2021-06-12 22:00:00+00:00</td><td>12944.00</td><td>27</td></tr>\n",
       "\t<tr><td>JC3020594</td><td>131308234915</td><td>47</td><td>193.00</td><td>342.46</td><td>2021-05-03 07:58:00</td><td>2021-06-13 12:42:00+00:00</td><td>12832.00</td><td>27</td></tr>\n",
       "\t<tr><td>JC3020594</td><td>131308234915</td><td>47</td><td>193.00</td><td>342.46</td><td>2021-05-03 07:58:00</td><td>2021-06-14 22:00:00+00:00</td><td>12320.00</td><td>27</td></tr>\n",
       "\t<tr><td>JC3020594</td><td>131308234915</td><td>47</td><td>193.00</td><td>342.46</td><td>2021-05-03 07:58:00</td><td>2021-06-15 19:51:00+00:00</td><td>12080.00</td><td>27</td></tr>\n",
       "\t<tr><td>JC3057091</td><td>131300436153</td><td>28</td><td>165.10</td><td>240.40</td><td>2021-01-07 00:07:00</td><td>2021-01-09 22:00:00+00:00</td><td> 8448.00</td><td> 5</td></tr>\n",
       "\t<tr><td>JC3057091</td><td>131300436153</td><td>28</td><td>165.10</td><td>240.40</td><td>2021-01-07 00:07:00</td><td>2021-01-11 19:58:00+00:00</td><td> 8480.00</td><td> 5</td></tr>\n",
       "\t<tr><td>JC3063031</td><td>131311153199</td><td>22</td><td>152.40</td><td> 42.64</td><td>2021-05-01 10:23:00</td><td>2021-05-01 06:30:00+00:00</td><td>  960.00</td><td> 8</td></tr>\n",
       "\t<tr><td>JC3063031</td><td>131311153199</td><td>22</td><td>152.40</td><td> 42.64</td><td>2021-05-01 10:23:00</td><td>2021-05-03 13:17:00+00:00</td><td>  924.17</td><td> 8</td></tr>\n",
       "\t<tr><td>JC3063031</td><td>131311153199</td><td>22</td><td>152.40</td><td> 42.64</td><td>2021-05-01 10:23:00</td><td>2021-05-04 13:00:00+00:00</td><td>  934.75</td><td> 8</td></tr>\n",
       "\t<tr><td>JC3063031</td><td>131311153199</td><td>22</td><td>152.40</td><td> 42.64</td><td>2021-05-01 10:23:00</td><td>2021-05-05 12:05:00+00:00</td><td>  931.22</td><td> 8</td></tr>\n",
       "\t<tr><td>JC3063031</td><td>131311153199</td><td>22</td><td>152.40</td><td> 42.64</td><td>2021-05-01 10:23:00</td><td>2021-05-08 21:18:00+00:00</td><td>  998.40</td><td> 8</td></tr>\n",
       "\t<tr><td>JC3110246</td><td>131308786553</td><td>71</td><td>150.00</td><td> 27.44</td><td>2021-05-13 03:30:00</td><td>2021-05-13 06:26:00+00:00</td><td>  941.81</td><td> 3</td></tr>\n",
       "\t<tr><td>JC3110246</td><td>131308786553</td><td>71</td><td>150.00</td><td> 27.44</td><td>2021-05-13 03:30:00</td><td>2021-05-13 06:28:00+00:00</td><td>  945.33</td><td> 3</td></tr>\n",
       "\t<tr><td>JC3110246</td><td>131308786553</td><td>71</td><td>150.00</td><td> 27.44</td><td>2021-05-13 03:30:00</td><td>2021-05-20 12:46:00+00:00</td><td>  968.00</td><td> 3</td></tr>\n",
       "\t<tr><td>JC657828 </td><td>131305573002</td><td>30</td><td>167.64</td><td>294.84</td><td>2021-04-05 11:25:00</td><td>2021-04-05 07:57:00+00:00</td><td>10400.00</td><td> 2</td></tr>\n",
       "\t<tr><td>JC657828 </td><td>131305573002</td><td>30</td><td>167.64</td><td>294.84</td><td>2021-04-05 11:25:00</td><td>2021-04-06 16:15:00+00:00</td><td>10542.40</td><td> 2</td></tr>\n",
       "\t<tr><td>JC657828 </td><td>131312960686</td><td>30</td><td>167.64</td><td>294.84</td><td>2021-07-17 07:29:00</td><td>2021-07-17 05:34:00+00:00</td><td> 9600.00</td><td> 4</td></tr>\n",
       "\t<tr><td>JC657828 </td><td>131312960686</td><td>30</td><td>167.64</td><td>294.84</td><td>2021-07-17 07:29:00</td><td>2021-07-17 06:00:00+00:00</td><td>11393.37</td><td> 4</td></tr>\n",
       "\t<tr><td>JC657828 </td><td>131312960686</td><td>30</td><td>167.64</td><td>294.84</td><td>2021-07-17 07:29:00</td><td>2021-07-20 22:55:00+00:00</td><td>10271.67</td><td> 4</td></tr>\n",
       "\t<tr><td>JC657828 </td><td>131312960686</td><td>30</td><td>167.64</td><td>294.84</td><td>2021-07-17 07:29:00</td><td>2021-07-22 21:31:00+00:00</td><td>10328.11</td><td> 4</td></tr>\n",
       "</tbody>\n",
       "</table>\n"
      ],
      "text/latex": [
       "A grouped\\_df: 128 × 9\n",
       "\\begin{tabular}{lllllllll}\n",
       " anon\\_id & pat\\_enc\\_csn\\_id\\_coded & age & recent\\_height\\_cm & recent\\_weight\\_kg & admit\\_time & recorded\\_time & Weight & nWe\\\\\n",
       " <chr> & <dbl> & <int> & <dbl> & <dbl> & <chr> & <chr> & <dbl> & <int>\\\\\n",
       "\\hline\n",
       "\t JC1476325 & 131306560913 & 54 & 144.80 &  26.76 & 2021-04-08 04:57:00 & 2021-04-08 06:29:00+00:00 &   932.80 &  1\\\\\n",
       "\t JC1476325 & 131310595451 & 54 & 144.80 &  26.76 & 2021-05-30 18:37:00 & 2021-05-31 18:00:00+00:00 &   928.00 &  9\\\\\n",
       "\t JC1476325 & 131310595451 & 54 & 144.80 &  26.76 & 2021-05-30 18:37:00 & 2021-06-01 01:06:00+00:00 &   920.00 &  9\\\\\n",
       "\t JC1476325 & 131310595451 & 54 & 144.80 &  26.76 & 2021-05-30 18:37:00 & 2021-06-02 00:00:00+00:00 &   874.79 &  9\\\\\n",
       "\t JC1476325 & 131310595451 & 54 & 144.80 &  26.76 & 2021-05-30 18:37:00 & 2021-06-03 17:55:00+00:00 &   860.68 &  9\\\\\n",
       "\t JC1476325 & 131310595451 & 54 & 144.80 &  26.76 & 2021-05-30 18:37:00 & 2021-06-04 15:00:00+00:00 &   857.15 &  9\\\\\n",
       "\t JC1476325 & 131310595451 & 54 & 144.80 &  26.76 & 2021-05-30 18:37:00 & 2021-06-06 22:48:00+00:00 &   903.00 &  9\\\\\n",
       "\t JC1476325 & 131310595451 & 54 & 144.80 &  26.76 & 2021-05-30 18:37:00 & 2021-06-08 15:14:00+00:00 &   952.39 &  9\\\\\n",
       "\t JC1476325 & 131310595451 & 54 & 144.80 &  26.76 & 2021-05-30 18:37:00 & 2021-06-10 06:23:00+00:00 &   931.20 &  9\\\\\n",
       "\t JC1476325 & 131310595451 & 54 & 144.80 &  26.76 & 2021-05-30 18:37:00 & 2021-06-11 12:14:00+00:00 &   913.59 &  9\\\\\n",
       "\t JC1531263 & 131311511070 & 34 & 185.42 & 301.31 & 2021-05-18 09:41:00 & 2021-05-18 13:20:00+00:00 & 10628.32 &  2\\\\\n",
       "\t JC1531263 & 131311511070 & 34 & 185.42 & 301.31 & 2021-05-18 09:41:00 & 2021-05-22 12:15:00+00:00 & 10628.36 &  2\\\\\n",
       "\t JC1549260 & 131318391387 & 30 & 158.50 &  28.98 & 2021-09-16 20:59:00 & 2021-09-16 16:30:00+00:00 &   880.00 &  6\\\\\n",
       "\t JC1549260 & 131318391387 & 30 & 158.50 &  28.98 & 2021-09-16 20:59:00 & 2021-09-17 21:57:00+00:00 &   899.48 &  6\\\\\n",
       "\t JC1549260 & 131318391387 & 30 & 158.50 &  28.98 & 2021-09-16 20:59:00 & 2021-09-18 12:56:00+00:00 &   874.79 &  6\\\\\n",
       "\t JC1549260 & 131318391387 & 30 & 158.50 &  28.98 & 2021-09-16 20:59:00 & 2021-09-19 12:26:00+00:00 &   878.31 &  6\\\\\n",
       "\t JC1549260 & 131318391387 & 30 & 158.50 &  28.98 & 2021-09-16 20:59:00 & 2021-09-20 12:42:00+00:00 &   860.68 &  6\\\\\n",
       "\t JC1549260 & 131318391387 & 30 & 158.50 &  28.98 & 2021-09-16 20:59:00 & 2021-09-21 22:00:00+00:00 &   899.48 &  6\\\\\n",
       "\t JC1577181 & 131312072391 & 54 & 175.26 & 226.30 & 2021-05-06 12:05:00 & 2021-05-06 13:15:00+00:00 &  8272.00 &  6\\\\\n",
       "\t JC1577181 & 131312072391 & 54 & 175.26 & 226.30 & 2021-05-06 12:05:00 & 2021-05-06 17:27:00+00:00 &  8109.40 &  6\\\\\n",
       "\t JC1577181 & 131312072391 & 54 & 175.26 & 226.30 & 2021-05-06 12:05:00 & 2021-05-07 12:36:00+00:00 &  8433.92 &  6\\\\\n",
       "\t JC1577181 & 131312072391 & 54 & 175.26 & 226.30 & 2021-05-06 12:05:00 & 2021-05-07 19:06:00+00:00 &  8128.00 &  6\\\\\n",
       "\t JC1577181 & 131312072391 & 54 & 175.26 & 226.30 & 2021-05-06 12:05:00 & 2021-05-08 12:11:00+00:00 &  8472.72 &  6\\\\\n",
       "\t JC1577181 & 131312072391 & 54 & 175.26 & 226.30 & 2021-05-06 12:05:00 & 2021-05-09 11:42:00+00:00 &  8553.85 &  6\\\\\n",
       "\t JC1648222 & 131290518160 & 50 & 179.07 & 239.95 & 2020-07-01 04:43:00 & 2020-07-01 06:50:00+00:00 &  8409.23 &  2\\\\\n",
       "\t JC1648222 & 131290518160 & 50 & 179.07 & 239.95 & 2020-07-01 04:43:00 & 2020-07-01 22:00:00+00:00 &  8395.12 &  2\\\\\n",
       "\t JC1648222 & 131291633342 & 50 & 179.07 & 239.95 & 2020-07-23 04:33:00 & 2020-07-22 23:21:00+00:00 &  8464.00 &  1\\\\\n",
       "\t JC2007174 & 131295177775 & 24 & 152.40 &  28.58 & 2020-10-02 19:10:00 & 2020-10-02 18:27:00+00:00 &   962.97 &  5\\\\\n",
       "\t JC2007174 & 131295177775 & 24 & 152.40 &  28.58 & 2020-10-02 19:10:00 & 2020-10-02 21:29:00+00:00 &   966.50 &  5\\\\\n",
       "\t JC2007174 & 131295177775 & 24 & 152.40 &  28.58 & 2020-10-02 19:10:00 & 2020-10-03 12:10:00+00:00 &   952.39 &  5\\\\\n",
       "\t JC2007174 & 131295177775 & 24 & 152.40 &  28.58 & 2020-10-02 19:10:00 & 2020-10-04 12:49:00+00:00 &   971.20 &  5\\\\\n",
       "\t JC2007174 & 131295177775 & 24 & 152.40 &  28.58 & 2020-10-02 19:10:00 & 2020-10-05 12:32:00+00:00 &   952.39 &  5\\\\\n",
       "\t JC2007174 & 131296413447 & 24 & 152.40 &  28.58 & 2020-10-19 01:38:00 & 2020-10-19 05:16:00+00:00 &   948.80 &  1\\\\\n",
       "\t JC2282652 & 131299849991 & 38 & 198.12 & 271.25 & 2020-12-20 03:05:00 & 2020-12-19 23:55:00+00:00 &  9488.60 &  6\\\\\n",
       "\t JC2282652 & 131299849991 & 38 & 198.12 & 271.25 & 2020-12-20 03:05:00 & 2020-12-20 02:00:00+00:00 & 10400.00 &  6\\\\\n",
       "\t JC2282652 & 131299849991 & 38 & 198.12 & 271.25 & 2020-12-20 03:05:00 & 2020-12-21 13:17:00+00:00 &  9744.00 &  6\\\\\n",
       "\t JC2282652 & 131299849991 & 38 & 198.12 & 271.25 & 2020-12-20 03:05:00 & 2020-12-22 13:00:00+00:00 &  9664.00 &  6\\\\\n",
       "\t JC2282652 & 131299849991 & 38 & 198.12 & 271.25 & 2020-12-20 03:05:00 & 2020-12-23 12:51:00+00:00 &  9616.00 &  6\\\\\n",
       "\t JC2282652 & 131299849991 & 38 & 198.12 & 271.25 & 2020-12-20 03:05:00 & 2020-12-24 12:54:00+00:00 &  9568.00 &  6\\\\\n",
       "\t JC2483030 & 131287076413 & 31 & 165.00 & 321.00 & 2020-04-01 10:46:00 & 2020-04-01 08:16:00+00:00 & 10224.00 &  5\\\\\n",
       "\t JC2483030 & 131287076413 & 31 & 165.00 & 321.00 & 2020-04-01 10:46:00 & 2020-04-03 12:00:00+00:00 & 12381.03 &  5\\\\\n",
       "\t JC2483030 & 131287076413 & 31 & 165.00 & 321.00 & 2020-04-01 10:46:00 & 2020-04-03 20:00:00+00:00 & 11392.00 &  5\\\\\n",
       "\t JC2483030 & 131287076413 & 31 & 165.00 & 321.00 & 2020-04-01 10:46:00 & 2020-04-04 11:40:00+00:00 & 11396.90 &  5\\\\\n",
       "\t JC2483030 & 131287076413 & 31 & 165.00 & 321.00 & 2020-04-01 10:46:00 & 2020-04-05 12:53:00+00:00 & 11312.00 &  5\\\\\n",
       "\t JC2483030 & 131290284892 & 31 & 165.00 & 321.00 & 2020-06-17 05:37:00 & 2020-06-17 02:51:00+00:00 & 11200.00 & 18\\\\\n",
       "\t JC2483030 & 131290284892 & 31 & 165.00 & 321.00 & 2020-06-17 05:37:00 & 2020-06-17 13:00:00+00:00 & 11199.37 & 18\\\\\n",
       "\t JC2483030 & 131290284892 & 31 & 165.00 & 321.00 & 2020-06-17 05:37:00 & 2020-06-18 12:49:00+00:00 & 12698.50 & 18\\\\\n",
       "\t JC2483030 & 131290284892 & 31 & 165.00 & 321.00 & 2020-06-17 05:37:00 & 2020-06-19 13:49:00+00:00 & 12663.22 & 18\\\\\n",
       "\t JC2483030 & 131290284892 & 31 & 165.00 & 321.00 & 2020-06-17 05:37:00 & 2020-06-20 11:56:00+00:00 & 12627.95 & 18\\\\\n",
       "\t JC2483030 & 131290284892 & 31 & 165.00 & 321.00 & 2020-06-17 05:37:00 & 2020-06-21 13:00:00+00:00 & 12522.13 & 18\\\\\n",
       "\t JC2483030 & 131290284892 & 31 & 165.00 & 321.00 & 2020-06-17 05:37:00 & 2020-06-22 13:16:00+00:00 & 12769.04 & 18\\\\\n",
       "\t JC2483030 & 131290284892 & 31 & 165.00 & 321.00 & 2020-06-17 05:37:00 & 2020-06-23 12:00:00+00:00 & 12663.22 & 18\\\\\n",
       "\t JC2483030 & 131290284892 & 31 & 165.00 & 321.00 & 2020-06-17 05:37:00 & 2020-06-24 13:00:00+00:00 & 12627.95 & 18\\\\\n",
       "\t JC2483030 & 131290284892 & 31 & 165.00 & 321.00 & 2020-06-17 05:37:00 & 2020-06-25 14:27:00+00:00 & 12345.76 & 18\\\\\n",
       "\t JC2483030 & 131290284892 & 31 & 165.00 & 321.00 & 2020-06-17 05:37:00 & 2020-06-26 13:46:00+00:00 & 11957.75 & 18\\\\\n",
       "\t JC2483030 & 131290284892 & 31 & 165.00 & 321.00 & 2020-06-17 05:37:00 & 2020-06-27 12:57:00+00:00 & 11922.48 & 18\\\\\n",
       "\t JC2483030 & 131290284892 & 31 & 165.00 & 321.00 & 2020-06-17 05:37:00 & 2020-06-28 12:57:00+00:00 & 11534.47 & 18\\\\\n",
       "\t JC2483030 & 131290284892 & 31 & 165.00 & 321.00 & 2020-06-17 05:37:00 & 2020-06-30 10:55:00+00:00 & 11640.29 & 18\\\\\n",
       "\t JC2483030 & 131290284892 & 31 & 165.00 & 321.00 & 2020-06-17 05:37:00 & 2020-07-02 00:00:00+00:00 & 11675.56 & 18\\\\\n",
       "\t JC2483030 & 131290284892 & 31 & 165.00 & 321.00 & 2020-06-17 05:37:00 & 2020-07-02 10:00:00+00:00 & 11040.64 & 18\\\\\n",
       "\t JC2483030 & 131290284892 & 31 & 165.00 & 321.00 & 2020-06-17 05:37:00 & 2020-07-03 11:53:00+00:00 & 11040.64 & 18\\\\\n",
       "\t JC2483030 & 131301215021 & 32 & 165.00 & 321.00 & 2021-01-01 10:32:00 & 2021-01-01 07:10:00+00:00 & 12080.00 & 11\\\\\n",
       "\t JC2483030 & 131301215021 & 32 & 165.00 & 321.00 & 2021-01-01 10:32:00 & 2021-01-02 13:00:00+00:00 & 12016.00 & 11\\\\\n",
       "\t JC2483030 & 131301215021 & 32 & 165.00 & 321.00 & 2021-01-01 10:32:00 & 2021-01-03 02:00:00+00:00 & 13280.00 & 11\\\\\n",
       "\t JC2483030 & 131301215021 & 32 & 165.00 & 321.00 & 2021-01-01 10:32:00 & 2021-01-03 12:21:00+00:00 & 13440.00 & 11\\\\\n",
       "\t JC2483030 & 131301215021 & 32 & 165.00 & 321.00 & 2021-01-01 10:32:00 & 2021-01-04 21:16:00+00:00 & 13439.24 & 11\\\\\n",
       "\t JC2483030 & 131301215021 & 32 & 165.00 & 321.00 & 2021-01-01 10:32:00 & 2021-01-05 14:00:00+00:00 & 13184.00 & 11\\\\\n",
       "\t JC2483030 & 131301215021 & 32 & 165.00 & 321.00 & 2021-01-01 10:32:00 & 2021-01-06 15:00:00+00:00 & 12839.59 & 11\\\\\n",
       "\t JC2483030 & 131301215021 & 32 & 165.00 & 321.00 & 2021-01-01 10:32:00 & 2021-01-07 14:00:00+00:00 & 13296.00 & 11\\\\\n",
       "\t JC2483030 & 131301215021 & 32 & 165.00 & 321.00 & 2021-01-01 10:32:00 & 2021-01-08 14:44:00+00:00 & 12208.00 & 11\\\\\n",
       "\t JC2483030 & 131301215021 & 32 & 165.00 & 321.00 & 2021-01-01 10:32:00 & 2021-01-09 14:30:00+00:00 & 11520.00 & 11\\\\\n",
       "\t JC2483030 & 131301215021 & 32 & 165.00 & 321.00 & 2021-01-01 10:32:00 & 2021-01-10 13:38:00+00:00 & 11328.00 & 11\\\\\n",
       "\t JC2708738 & 131299011091 & 48 & 177.80 & 237.68 & 2020-12-08 18:18:00 & 2020-12-09 01:37:00+00:00 &  8732.80 &  5\\\\\n",
       "\t JC2708738 & 131299011091 & 48 & 177.80 & 237.68 & 2020-12-08 18:18:00 & 2020-12-09 12:57:00+00:00 &  8691.20 &  5\\\\\n",
       "\t JC2708738 & 131299011091 & 48 & 177.80 & 237.68 & 2020-12-08 18:18:00 & 2020-12-10 11:02:00+00:00 &  8553.60 &  5\\\\\n",
       "\t JC2708738 & 131299011091 & 48 & 177.80 & 237.68 & 2020-12-08 18:18:00 & 2020-12-11 15:16:00+00:00 &  8476.80 &  5\\\\\n",
       "\t JC2708738 & 131299011091 & 48 & 177.80 & 237.68 & 2020-12-08 18:18:00 & 2020-12-12 16:37:00+00:00 &  8435.20 &  5\\\\\n",
       "\t JC2979005 & 131303325884 & 72 & 157.48 &  31.90 & 2021-02-04 00:52:00 & 2021-02-03 20:34:00+00:00 &   960.00 &  4\\\\\n",
       "\t JC2979005 & 131303325884 & 72 & 157.48 &  31.90 & 2021-02-04 00:52:00 & 2021-02-07 16:15:00+00:00 &   960.00 &  4\\\\\n",
       "\t JC2979005 & 131303325884 & 72 & 157.48 &  31.90 & 2021-02-04 00:52:00 & 2021-02-08 14:00:00+00:00 &   976.00 &  4\\\\\n",
       "\t JC3017497 & 131298448309 & 26 & 157.50 &  28.50 & 2020-11-04 07:37:00 & 2020-11-18 09:00:00+00:00 &   948.86 &  7\\\\\n",
       "\t JC3017497 & 131298448309 & 26 & 157.50 &  28.50 & 2020-11-04 07:37:00 & 2020-11-27 21:00:00+00:00 &   998.24 &  7\\\\\n",
       "\t JC3017497 & 131298448309 & 26 & 157.50 &  28.50 & 2020-11-04 07:37:00 & 2020-12-02 11:30:00+00:00 &   976.00 &  7\\\\\n",
       "\t JC3017497 & 131298448309 & 26 & 157.50 &  28.50 & 2020-11-04 07:37:00 & 2020-12-09 11:03:00+00:00 &   924.80 &  7\\\\\n",
       "\t JC3017497 & 131298448309 & 26 & 157.50 &  28.50 & 2020-11-04 07:37:00 & 2020-12-16 13:13:00+00:00 &   991.19 &  7\\\\\n",
       "\t JC3020594 & 131308234915 & 47 & 193.00 & 342.46 & 2021-05-03 07:58:00 & 2021-05-03 07:30:00+00:00 & 11200.00 & 27\\\\\n",
       "\t JC3020594 & 131308234915 & 47 & 193.00 & 342.46 & 2021-05-03 07:58:00 & 2021-05-07 13:00:00+00:00 & 14557.41 & 27\\\\\n",
       "\t JC3020594 & 131308234915 & 47 & 193.00 & 342.46 & 2021-05-03 07:58:00 & 2021-05-08 15:34:00+00:00 & 15200.00 & 27\\\\\n",
       "\t JC3020594 & 131308234915 & 47 & 193.00 & 342.46 & 2021-05-03 07:58:00 & 2021-05-08 18:30:00+00:00 & 14656.00 & 27\\\\\n",
       "\t JC3020594 & 131308234915 & 47 & 193.00 & 342.46 & 2021-05-03 07:58:00 & 2021-05-09 00:30:00+00:00 & 13120.00 & 27\\\\\n",
       "\t JC3020594 & 131308234915 & 47 & 193.00 & 342.46 & 2021-05-03 07:58:00 & 2021-05-09 09:35:00+00:00 & 13088.00 & 27\\\\\n",
       "\t JC3020594 & 131308234915 & 47 & 193.00 & 342.46 & 2021-05-03 07:58:00 & 2021-05-09 23:50:00+00:00 & 12272.00 & 27\\\\\n",
       "\t JC3020594 & 131308234915 & 47 & 193.00 & 342.46 & 2021-05-03 07:58:00 & 2021-05-16 13:00:00+00:00 & 11344.00 & 27\\\\\n",
       "\t JC3020594 & 131308234915 & 47 & 193.00 & 342.46 & 2021-05-03 07:58:00 & 2021-05-17 13:00:00+00:00 & 11392.00 & 27\\\\\n",
       "\t JC3020594 & 131308234915 & 47 & 193.00 & 342.46 & 2021-05-03 07:58:00 & 2021-05-20 17:59:00+00:00 & 12160.00 & 27\\\\\n",
       "\t JC3020594 & 131308234915 & 47 & 193.00 & 342.46 & 2021-05-03 07:58:00 & 2021-05-21 13:00:00+00:00 & 11904.00 & 27\\\\\n",
       "\t JC3020594 & 131308234915 & 47 & 193.00 & 342.46 & 2021-05-03 07:58:00 & 2021-05-22 10:49:00+00:00 & 12000.00 & 27\\\\\n",
       "\t JC3020594 & 131308234915 & 47 & 193.00 & 342.46 & 2021-05-03 07:58:00 & 2021-05-23 12:56:00+00:00 & 12000.00 & 27\\\\\n",
       "\t JC3020594 & 131308234915 & 47 & 193.00 & 342.46 & 2021-05-03 07:58:00 & 2021-05-24 12:57:00+00:00 & 12224.00 & 27\\\\\n",
       "\t JC3020594 & 131308234915 & 47 & 193.00 & 342.46 & 2021-05-03 07:58:00 & 2021-05-25 11:00:00+00:00 & 12384.00 & 27\\\\\n",
       "\t JC3020594 & 131308234915 & 47 & 193.00 & 342.46 & 2021-05-03 07:58:00 & 2021-05-26 10:10:00+00:00 & 12512.00 & 27\\\\\n",
       "\t JC3020594 & 131308234915 & 47 & 193.00 & 342.46 & 2021-05-03 07:58:00 & 2021-05-29 13:00:00+00:00 & 12511.55 & 27\\\\\n",
       "\t JC3020594 & 131308234915 & 47 & 193.00 & 342.46 & 2021-05-03 07:58:00 & 2021-05-30 12:00:00+00:00 & 12336.00 & 27\\\\\n",
       "\t JC3020594 & 131308234915 & 47 & 193.00 & 342.46 & 2021-05-03 07:58:00 & 2021-06-02 12:32:00+00:00 & 12624.00 & 27\\\\\n",
       "\t JC3020594 & 131308234915 & 47 & 193.00 & 342.46 & 2021-05-03 07:58:00 & 2021-06-04 12:25:00+00:00 & 12832.00 & 27\\\\\n",
       "\t JC3020594 & 131308234915 & 47 & 193.00 & 342.46 & 2021-05-03 07:58:00 & 2021-06-05 13:00:00+00:00 & 12832.00 & 27\\\\\n",
       "\t JC3020594 & 131308234915 & 47 & 193.00 & 342.46 & 2021-05-03 07:58:00 & 2021-06-06 17:03:00+00:00 & 13312.00 & 27\\\\\n",
       "\t JC3020594 & 131308234915 & 47 & 193.00 & 342.46 & 2021-05-03 07:58:00 & 2021-06-07 17:50:00+00:00 & 13184.00 & 27\\\\\n",
       "\t JC3020594 & 131308234915 & 47 & 193.00 & 342.46 & 2021-05-03 07:58:00 & 2021-06-12 22:00:00+00:00 & 12944.00 & 27\\\\\n",
       "\t JC3020594 & 131308234915 & 47 & 193.00 & 342.46 & 2021-05-03 07:58:00 & 2021-06-13 12:42:00+00:00 & 12832.00 & 27\\\\\n",
       "\t JC3020594 & 131308234915 & 47 & 193.00 & 342.46 & 2021-05-03 07:58:00 & 2021-06-14 22:00:00+00:00 & 12320.00 & 27\\\\\n",
       "\t JC3020594 & 131308234915 & 47 & 193.00 & 342.46 & 2021-05-03 07:58:00 & 2021-06-15 19:51:00+00:00 & 12080.00 & 27\\\\\n",
       "\t JC3057091 & 131300436153 & 28 & 165.10 & 240.40 & 2021-01-07 00:07:00 & 2021-01-09 22:00:00+00:00 &  8448.00 &  5\\\\\n",
       "\t JC3057091 & 131300436153 & 28 & 165.10 & 240.40 & 2021-01-07 00:07:00 & 2021-01-11 19:58:00+00:00 &  8480.00 &  5\\\\\n",
       "\t JC3063031 & 131311153199 & 22 & 152.40 &  42.64 & 2021-05-01 10:23:00 & 2021-05-01 06:30:00+00:00 &   960.00 &  8\\\\\n",
       "\t JC3063031 & 131311153199 & 22 & 152.40 &  42.64 & 2021-05-01 10:23:00 & 2021-05-03 13:17:00+00:00 &   924.17 &  8\\\\\n",
       "\t JC3063031 & 131311153199 & 22 & 152.40 &  42.64 & 2021-05-01 10:23:00 & 2021-05-04 13:00:00+00:00 &   934.75 &  8\\\\\n",
       "\t JC3063031 & 131311153199 & 22 & 152.40 &  42.64 & 2021-05-01 10:23:00 & 2021-05-05 12:05:00+00:00 &   931.22 &  8\\\\\n",
       "\t JC3063031 & 131311153199 & 22 & 152.40 &  42.64 & 2021-05-01 10:23:00 & 2021-05-08 21:18:00+00:00 &   998.40 &  8\\\\\n",
       "\t JC3110246 & 131308786553 & 71 & 150.00 &  27.44 & 2021-05-13 03:30:00 & 2021-05-13 06:26:00+00:00 &   941.81 &  3\\\\\n",
       "\t JC3110246 & 131308786553 & 71 & 150.00 &  27.44 & 2021-05-13 03:30:00 & 2021-05-13 06:28:00+00:00 &   945.33 &  3\\\\\n",
       "\t JC3110246 & 131308786553 & 71 & 150.00 &  27.44 & 2021-05-13 03:30:00 & 2021-05-20 12:46:00+00:00 &   968.00 &  3\\\\\n",
       "\t JC657828  & 131305573002 & 30 & 167.64 & 294.84 & 2021-04-05 11:25:00 & 2021-04-05 07:57:00+00:00 & 10400.00 &  2\\\\\n",
       "\t JC657828  & 131305573002 & 30 & 167.64 & 294.84 & 2021-04-05 11:25:00 & 2021-04-06 16:15:00+00:00 & 10542.40 &  2\\\\\n",
       "\t JC657828  & 131312960686 & 30 & 167.64 & 294.84 & 2021-07-17 07:29:00 & 2021-07-17 05:34:00+00:00 &  9600.00 &  4\\\\\n",
       "\t JC657828  & 131312960686 & 30 & 167.64 & 294.84 & 2021-07-17 07:29:00 & 2021-07-17 06:00:00+00:00 & 11393.37 &  4\\\\\n",
       "\t JC657828  & 131312960686 & 30 & 167.64 & 294.84 & 2021-07-17 07:29:00 & 2021-07-20 22:55:00+00:00 & 10271.67 &  4\\\\\n",
       "\t JC657828  & 131312960686 & 30 & 167.64 & 294.84 & 2021-07-17 07:29:00 & 2021-07-22 21:31:00+00:00 & 10328.11 &  4\\\\\n",
       "\\end{tabular}\n"
      ],
      "text/markdown": [
       "\n",
       "A grouped_df: 128 × 9\n",
       "\n",
       "| anon_id &lt;chr&gt; | pat_enc_csn_id_coded &lt;dbl&gt; | age &lt;int&gt; | recent_height_cm &lt;dbl&gt; | recent_weight_kg &lt;dbl&gt; | admit_time &lt;chr&gt; | recorded_time &lt;chr&gt; | Weight &lt;dbl&gt; | nWe &lt;int&gt; |\n",
       "|---|---|---|---|---|---|---|---|---|\n",
       "| JC1476325 | 131306560913 | 54 | 144.80 |  26.76 | 2021-04-08 04:57:00 | 2021-04-08 06:29:00+00:00 |   932.80 |  1 |\n",
       "| JC1476325 | 131310595451 | 54 | 144.80 |  26.76 | 2021-05-30 18:37:00 | 2021-05-31 18:00:00+00:00 |   928.00 |  9 |\n",
       "| JC1476325 | 131310595451 | 54 | 144.80 |  26.76 | 2021-05-30 18:37:00 | 2021-06-01 01:06:00+00:00 |   920.00 |  9 |\n",
       "| JC1476325 | 131310595451 | 54 | 144.80 |  26.76 | 2021-05-30 18:37:00 | 2021-06-02 00:00:00+00:00 |   874.79 |  9 |\n",
       "| JC1476325 | 131310595451 | 54 | 144.80 |  26.76 | 2021-05-30 18:37:00 | 2021-06-03 17:55:00+00:00 |   860.68 |  9 |\n",
       "| JC1476325 | 131310595451 | 54 | 144.80 |  26.76 | 2021-05-30 18:37:00 | 2021-06-04 15:00:00+00:00 |   857.15 |  9 |\n",
       "| JC1476325 | 131310595451 | 54 | 144.80 |  26.76 | 2021-05-30 18:37:00 | 2021-06-06 22:48:00+00:00 |   903.00 |  9 |\n",
       "| JC1476325 | 131310595451 | 54 | 144.80 |  26.76 | 2021-05-30 18:37:00 | 2021-06-08 15:14:00+00:00 |   952.39 |  9 |\n",
       "| JC1476325 | 131310595451 | 54 | 144.80 |  26.76 | 2021-05-30 18:37:00 | 2021-06-10 06:23:00+00:00 |   931.20 |  9 |\n",
       "| JC1476325 | 131310595451 | 54 | 144.80 |  26.76 | 2021-05-30 18:37:00 | 2021-06-11 12:14:00+00:00 |   913.59 |  9 |\n",
       "| JC1531263 | 131311511070 | 34 | 185.42 | 301.31 | 2021-05-18 09:41:00 | 2021-05-18 13:20:00+00:00 | 10628.32 |  2 |\n",
       "| JC1531263 | 131311511070 | 34 | 185.42 | 301.31 | 2021-05-18 09:41:00 | 2021-05-22 12:15:00+00:00 | 10628.36 |  2 |\n",
       "| JC1549260 | 131318391387 | 30 | 158.50 |  28.98 | 2021-09-16 20:59:00 | 2021-09-16 16:30:00+00:00 |   880.00 |  6 |\n",
       "| JC1549260 | 131318391387 | 30 | 158.50 |  28.98 | 2021-09-16 20:59:00 | 2021-09-17 21:57:00+00:00 |   899.48 |  6 |\n",
       "| JC1549260 | 131318391387 | 30 | 158.50 |  28.98 | 2021-09-16 20:59:00 | 2021-09-18 12:56:00+00:00 |   874.79 |  6 |\n",
       "| JC1549260 | 131318391387 | 30 | 158.50 |  28.98 | 2021-09-16 20:59:00 | 2021-09-19 12:26:00+00:00 |   878.31 |  6 |\n",
       "| JC1549260 | 131318391387 | 30 | 158.50 |  28.98 | 2021-09-16 20:59:00 | 2021-09-20 12:42:00+00:00 |   860.68 |  6 |\n",
       "| JC1549260 | 131318391387 | 30 | 158.50 |  28.98 | 2021-09-16 20:59:00 | 2021-09-21 22:00:00+00:00 |   899.48 |  6 |\n",
       "| JC1577181 | 131312072391 | 54 | 175.26 | 226.30 | 2021-05-06 12:05:00 | 2021-05-06 13:15:00+00:00 |  8272.00 |  6 |\n",
       "| JC1577181 | 131312072391 | 54 | 175.26 | 226.30 | 2021-05-06 12:05:00 | 2021-05-06 17:27:00+00:00 |  8109.40 |  6 |\n",
       "| JC1577181 | 131312072391 | 54 | 175.26 | 226.30 | 2021-05-06 12:05:00 | 2021-05-07 12:36:00+00:00 |  8433.92 |  6 |\n",
       "| JC1577181 | 131312072391 | 54 | 175.26 | 226.30 | 2021-05-06 12:05:00 | 2021-05-07 19:06:00+00:00 |  8128.00 |  6 |\n",
       "| JC1577181 | 131312072391 | 54 | 175.26 | 226.30 | 2021-05-06 12:05:00 | 2021-05-08 12:11:00+00:00 |  8472.72 |  6 |\n",
       "| JC1577181 | 131312072391 | 54 | 175.26 | 226.30 | 2021-05-06 12:05:00 | 2021-05-09 11:42:00+00:00 |  8553.85 |  6 |\n",
       "| JC1648222 | 131290518160 | 50 | 179.07 | 239.95 | 2020-07-01 04:43:00 | 2020-07-01 06:50:00+00:00 |  8409.23 |  2 |\n",
       "| JC1648222 | 131290518160 | 50 | 179.07 | 239.95 | 2020-07-01 04:43:00 | 2020-07-01 22:00:00+00:00 |  8395.12 |  2 |\n",
       "| JC1648222 | 131291633342 | 50 | 179.07 | 239.95 | 2020-07-23 04:33:00 | 2020-07-22 23:21:00+00:00 |  8464.00 |  1 |\n",
       "| JC2007174 | 131295177775 | 24 | 152.40 |  28.58 | 2020-10-02 19:10:00 | 2020-10-02 18:27:00+00:00 |   962.97 |  5 |\n",
       "| JC2007174 | 131295177775 | 24 | 152.40 |  28.58 | 2020-10-02 19:10:00 | 2020-10-02 21:29:00+00:00 |   966.50 |  5 |\n",
       "| JC2007174 | 131295177775 | 24 | 152.40 |  28.58 | 2020-10-02 19:10:00 | 2020-10-03 12:10:00+00:00 |   952.39 |  5 |\n",
       "| JC2007174 | 131295177775 | 24 | 152.40 |  28.58 | 2020-10-02 19:10:00 | 2020-10-04 12:49:00+00:00 |   971.20 |  5 |\n",
       "| JC2007174 | 131295177775 | 24 | 152.40 |  28.58 | 2020-10-02 19:10:00 | 2020-10-05 12:32:00+00:00 |   952.39 |  5 |\n",
       "| JC2007174 | 131296413447 | 24 | 152.40 |  28.58 | 2020-10-19 01:38:00 | 2020-10-19 05:16:00+00:00 |   948.80 |  1 |\n",
       "| JC2282652 | 131299849991 | 38 | 198.12 | 271.25 | 2020-12-20 03:05:00 | 2020-12-19 23:55:00+00:00 |  9488.60 |  6 |\n",
       "| JC2282652 | 131299849991 | 38 | 198.12 | 271.25 | 2020-12-20 03:05:00 | 2020-12-20 02:00:00+00:00 | 10400.00 |  6 |\n",
       "| JC2282652 | 131299849991 | 38 | 198.12 | 271.25 | 2020-12-20 03:05:00 | 2020-12-21 13:17:00+00:00 |  9744.00 |  6 |\n",
       "| JC2282652 | 131299849991 | 38 | 198.12 | 271.25 | 2020-12-20 03:05:00 | 2020-12-22 13:00:00+00:00 |  9664.00 |  6 |\n",
       "| JC2282652 | 131299849991 | 38 | 198.12 | 271.25 | 2020-12-20 03:05:00 | 2020-12-23 12:51:00+00:00 |  9616.00 |  6 |\n",
       "| JC2282652 | 131299849991 | 38 | 198.12 | 271.25 | 2020-12-20 03:05:00 | 2020-12-24 12:54:00+00:00 |  9568.00 |  6 |\n",
       "| JC2483030 | 131287076413 | 31 | 165.00 | 321.00 | 2020-04-01 10:46:00 | 2020-04-01 08:16:00+00:00 | 10224.00 |  5 |\n",
       "| JC2483030 | 131287076413 | 31 | 165.00 | 321.00 | 2020-04-01 10:46:00 | 2020-04-03 12:00:00+00:00 | 12381.03 |  5 |\n",
       "| JC2483030 | 131287076413 | 31 | 165.00 | 321.00 | 2020-04-01 10:46:00 | 2020-04-03 20:00:00+00:00 | 11392.00 |  5 |\n",
       "| JC2483030 | 131287076413 | 31 | 165.00 | 321.00 | 2020-04-01 10:46:00 | 2020-04-04 11:40:00+00:00 | 11396.90 |  5 |\n",
       "| JC2483030 | 131287076413 | 31 | 165.00 | 321.00 | 2020-04-01 10:46:00 | 2020-04-05 12:53:00+00:00 | 11312.00 |  5 |\n",
       "| JC2483030 | 131290284892 | 31 | 165.00 | 321.00 | 2020-06-17 05:37:00 | 2020-06-17 02:51:00+00:00 | 11200.00 | 18 |\n",
       "| JC2483030 | 131290284892 | 31 | 165.00 | 321.00 | 2020-06-17 05:37:00 | 2020-06-17 13:00:00+00:00 | 11199.37 | 18 |\n",
       "| JC2483030 | 131290284892 | 31 | 165.00 | 321.00 | 2020-06-17 05:37:00 | 2020-06-18 12:49:00+00:00 | 12698.50 | 18 |\n",
       "| JC2483030 | 131290284892 | 31 | 165.00 | 321.00 | 2020-06-17 05:37:00 | 2020-06-19 13:49:00+00:00 | 12663.22 | 18 |\n",
       "| JC2483030 | 131290284892 | 31 | 165.00 | 321.00 | 2020-06-17 05:37:00 | 2020-06-20 11:56:00+00:00 | 12627.95 | 18 |\n",
       "| JC2483030 | 131290284892 | 31 | 165.00 | 321.00 | 2020-06-17 05:37:00 | 2020-06-21 13:00:00+00:00 | 12522.13 | 18 |\n",
       "| JC2483030 | 131290284892 | 31 | 165.00 | 321.00 | 2020-06-17 05:37:00 | 2020-06-22 13:16:00+00:00 | 12769.04 | 18 |\n",
       "| JC2483030 | 131290284892 | 31 | 165.00 | 321.00 | 2020-06-17 05:37:00 | 2020-06-23 12:00:00+00:00 | 12663.22 | 18 |\n",
       "| JC2483030 | 131290284892 | 31 | 165.00 | 321.00 | 2020-06-17 05:37:00 | 2020-06-24 13:00:00+00:00 | 12627.95 | 18 |\n",
       "| JC2483030 | 131290284892 | 31 | 165.00 | 321.00 | 2020-06-17 05:37:00 | 2020-06-25 14:27:00+00:00 | 12345.76 | 18 |\n",
       "| JC2483030 | 131290284892 | 31 | 165.00 | 321.00 | 2020-06-17 05:37:00 | 2020-06-26 13:46:00+00:00 | 11957.75 | 18 |\n",
       "| JC2483030 | 131290284892 | 31 | 165.00 | 321.00 | 2020-06-17 05:37:00 | 2020-06-27 12:57:00+00:00 | 11922.48 | 18 |\n",
       "| JC2483030 | 131290284892 | 31 | 165.00 | 321.00 | 2020-06-17 05:37:00 | 2020-06-28 12:57:00+00:00 | 11534.47 | 18 |\n",
       "| JC2483030 | 131290284892 | 31 | 165.00 | 321.00 | 2020-06-17 05:37:00 | 2020-06-30 10:55:00+00:00 | 11640.29 | 18 |\n",
       "| JC2483030 | 131290284892 | 31 | 165.00 | 321.00 | 2020-06-17 05:37:00 | 2020-07-02 00:00:00+00:00 | 11675.56 | 18 |\n",
       "| JC2483030 | 131290284892 | 31 | 165.00 | 321.00 | 2020-06-17 05:37:00 | 2020-07-02 10:00:00+00:00 | 11040.64 | 18 |\n",
       "| JC2483030 | 131290284892 | 31 | 165.00 | 321.00 | 2020-06-17 05:37:00 | 2020-07-03 11:53:00+00:00 | 11040.64 | 18 |\n",
       "| JC2483030 | 131301215021 | 32 | 165.00 | 321.00 | 2021-01-01 10:32:00 | 2021-01-01 07:10:00+00:00 | 12080.00 | 11 |\n",
       "| JC2483030 | 131301215021 | 32 | 165.00 | 321.00 | 2021-01-01 10:32:00 | 2021-01-02 13:00:00+00:00 | 12016.00 | 11 |\n",
       "| JC2483030 | 131301215021 | 32 | 165.00 | 321.00 | 2021-01-01 10:32:00 | 2021-01-03 02:00:00+00:00 | 13280.00 | 11 |\n",
       "| JC2483030 | 131301215021 | 32 | 165.00 | 321.00 | 2021-01-01 10:32:00 | 2021-01-03 12:21:00+00:00 | 13440.00 | 11 |\n",
       "| JC2483030 | 131301215021 | 32 | 165.00 | 321.00 | 2021-01-01 10:32:00 | 2021-01-04 21:16:00+00:00 | 13439.24 | 11 |\n",
       "| JC2483030 | 131301215021 | 32 | 165.00 | 321.00 | 2021-01-01 10:32:00 | 2021-01-05 14:00:00+00:00 | 13184.00 | 11 |\n",
       "| JC2483030 | 131301215021 | 32 | 165.00 | 321.00 | 2021-01-01 10:32:00 | 2021-01-06 15:00:00+00:00 | 12839.59 | 11 |\n",
       "| JC2483030 | 131301215021 | 32 | 165.00 | 321.00 | 2021-01-01 10:32:00 | 2021-01-07 14:00:00+00:00 | 13296.00 | 11 |\n",
       "| JC2483030 | 131301215021 | 32 | 165.00 | 321.00 | 2021-01-01 10:32:00 | 2021-01-08 14:44:00+00:00 | 12208.00 | 11 |\n",
       "| JC2483030 | 131301215021 | 32 | 165.00 | 321.00 | 2021-01-01 10:32:00 | 2021-01-09 14:30:00+00:00 | 11520.00 | 11 |\n",
       "| JC2483030 | 131301215021 | 32 | 165.00 | 321.00 | 2021-01-01 10:32:00 | 2021-01-10 13:38:00+00:00 | 11328.00 | 11 |\n",
       "| JC2708738 | 131299011091 | 48 | 177.80 | 237.68 | 2020-12-08 18:18:00 | 2020-12-09 01:37:00+00:00 |  8732.80 |  5 |\n",
       "| JC2708738 | 131299011091 | 48 | 177.80 | 237.68 | 2020-12-08 18:18:00 | 2020-12-09 12:57:00+00:00 |  8691.20 |  5 |\n",
       "| JC2708738 | 131299011091 | 48 | 177.80 | 237.68 | 2020-12-08 18:18:00 | 2020-12-10 11:02:00+00:00 |  8553.60 |  5 |\n",
       "| JC2708738 | 131299011091 | 48 | 177.80 | 237.68 | 2020-12-08 18:18:00 | 2020-12-11 15:16:00+00:00 |  8476.80 |  5 |\n",
       "| JC2708738 | 131299011091 | 48 | 177.80 | 237.68 | 2020-12-08 18:18:00 | 2020-12-12 16:37:00+00:00 |  8435.20 |  5 |\n",
       "| JC2979005 | 131303325884 | 72 | 157.48 |  31.90 | 2021-02-04 00:52:00 | 2021-02-03 20:34:00+00:00 |   960.00 |  4 |\n",
       "| JC2979005 | 131303325884 | 72 | 157.48 |  31.90 | 2021-02-04 00:52:00 | 2021-02-07 16:15:00+00:00 |   960.00 |  4 |\n",
       "| JC2979005 | 131303325884 | 72 | 157.48 |  31.90 | 2021-02-04 00:52:00 | 2021-02-08 14:00:00+00:00 |   976.00 |  4 |\n",
       "| JC3017497 | 131298448309 | 26 | 157.50 |  28.50 | 2020-11-04 07:37:00 | 2020-11-18 09:00:00+00:00 |   948.86 |  7 |\n",
       "| JC3017497 | 131298448309 | 26 | 157.50 |  28.50 | 2020-11-04 07:37:00 | 2020-11-27 21:00:00+00:00 |   998.24 |  7 |\n",
       "| JC3017497 | 131298448309 | 26 | 157.50 |  28.50 | 2020-11-04 07:37:00 | 2020-12-02 11:30:00+00:00 |   976.00 |  7 |\n",
       "| JC3017497 | 131298448309 | 26 | 157.50 |  28.50 | 2020-11-04 07:37:00 | 2020-12-09 11:03:00+00:00 |   924.80 |  7 |\n",
       "| JC3017497 | 131298448309 | 26 | 157.50 |  28.50 | 2020-11-04 07:37:00 | 2020-12-16 13:13:00+00:00 |   991.19 |  7 |\n",
       "| JC3020594 | 131308234915 | 47 | 193.00 | 342.46 | 2021-05-03 07:58:00 | 2021-05-03 07:30:00+00:00 | 11200.00 | 27 |\n",
       "| JC3020594 | 131308234915 | 47 | 193.00 | 342.46 | 2021-05-03 07:58:00 | 2021-05-07 13:00:00+00:00 | 14557.41 | 27 |\n",
       "| JC3020594 | 131308234915 | 47 | 193.00 | 342.46 | 2021-05-03 07:58:00 | 2021-05-08 15:34:00+00:00 | 15200.00 | 27 |\n",
       "| JC3020594 | 131308234915 | 47 | 193.00 | 342.46 | 2021-05-03 07:58:00 | 2021-05-08 18:30:00+00:00 | 14656.00 | 27 |\n",
       "| JC3020594 | 131308234915 | 47 | 193.00 | 342.46 | 2021-05-03 07:58:00 | 2021-05-09 00:30:00+00:00 | 13120.00 | 27 |\n",
       "| JC3020594 | 131308234915 | 47 | 193.00 | 342.46 | 2021-05-03 07:58:00 | 2021-05-09 09:35:00+00:00 | 13088.00 | 27 |\n",
       "| JC3020594 | 131308234915 | 47 | 193.00 | 342.46 | 2021-05-03 07:58:00 | 2021-05-09 23:50:00+00:00 | 12272.00 | 27 |\n",
       "| JC3020594 | 131308234915 | 47 | 193.00 | 342.46 | 2021-05-03 07:58:00 | 2021-05-16 13:00:00+00:00 | 11344.00 | 27 |\n",
       "| JC3020594 | 131308234915 | 47 | 193.00 | 342.46 | 2021-05-03 07:58:00 | 2021-05-17 13:00:00+00:00 | 11392.00 | 27 |\n",
       "| JC3020594 | 131308234915 | 47 | 193.00 | 342.46 | 2021-05-03 07:58:00 | 2021-05-20 17:59:00+00:00 | 12160.00 | 27 |\n",
       "| JC3020594 | 131308234915 | 47 | 193.00 | 342.46 | 2021-05-03 07:58:00 | 2021-05-21 13:00:00+00:00 | 11904.00 | 27 |\n",
       "| JC3020594 | 131308234915 | 47 | 193.00 | 342.46 | 2021-05-03 07:58:00 | 2021-05-22 10:49:00+00:00 | 12000.00 | 27 |\n",
       "| JC3020594 | 131308234915 | 47 | 193.00 | 342.46 | 2021-05-03 07:58:00 | 2021-05-23 12:56:00+00:00 | 12000.00 | 27 |\n",
       "| JC3020594 | 131308234915 | 47 | 193.00 | 342.46 | 2021-05-03 07:58:00 | 2021-05-24 12:57:00+00:00 | 12224.00 | 27 |\n",
       "| JC3020594 | 131308234915 | 47 | 193.00 | 342.46 | 2021-05-03 07:58:00 | 2021-05-25 11:00:00+00:00 | 12384.00 | 27 |\n",
       "| JC3020594 | 131308234915 | 47 | 193.00 | 342.46 | 2021-05-03 07:58:00 | 2021-05-26 10:10:00+00:00 | 12512.00 | 27 |\n",
       "| JC3020594 | 131308234915 | 47 | 193.00 | 342.46 | 2021-05-03 07:58:00 | 2021-05-29 13:00:00+00:00 | 12511.55 | 27 |\n",
       "| JC3020594 | 131308234915 | 47 | 193.00 | 342.46 | 2021-05-03 07:58:00 | 2021-05-30 12:00:00+00:00 | 12336.00 | 27 |\n",
       "| JC3020594 | 131308234915 | 47 | 193.00 | 342.46 | 2021-05-03 07:58:00 | 2021-06-02 12:32:00+00:00 | 12624.00 | 27 |\n",
       "| JC3020594 | 131308234915 | 47 | 193.00 | 342.46 | 2021-05-03 07:58:00 | 2021-06-04 12:25:00+00:00 | 12832.00 | 27 |\n",
       "| JC3020594 | 131308234915 | 47 | 193.00 | 342.46 | 2021-05-03 07:58:00 | 2021-06-05 13:00:00+00:00 | 12832.00 | 27 |\n",
       "| JC3020594 | 131308234915 | 47 | 193.00 | 342.46 | 2021-05-03 07:58:00 | 2021-06-06 17:03:00+00:00 | 13312.00 | 27 |\n",
       "| JC3020594 | 131308234915 | 47 | 193.00 | 342.46 | 2021-05-03 07:58:00 | 2021-06-07 17:50:00+00:00 | 13184.00 | 27 |\n",
       "| JC3020594 | 131308234915 | 47 | 193.00 | 342.46 | 2021-05-03 07:58:00 | 2021-06-12 22:00:00+00:00 | 12944.00 | 27 |\n",
       "| JC3020594 | 131308234915 | 47 | 193.00 | 342.46 | 2021-05-03 07:58:00 | 2021-06-13 12:42:00+00:00 | 12832.00 | 27 |\n",
       "| JC3020594 | 131308234915 | 47 | 193.00 | 342.46 | 2021-05-03 07:58:00 | 2021-06-14 22:00:00+00:00 | 12320.00 | 27 |\n",
       "| JC3020594 | 131308234915 | 47 | 193.00 | 342.46 | 2021-05-03 07:58:00 | 2021-06-15 19:51:00+00:00 | 12080.00 | 27 |\n",
       "| JC3057091 | 131300436153 | 28 | 165.10 | 240.40 | 2021-01-07 00:07:00 | 2021-01-09 22:00:00+00:00 |  8448.00 |  5 |\n",
       "| JC3057091 | 131300436153 | 28 | 165.10 | 240.40 | 2021-01-07 00:07:00 | 2021-01-11 19:58:00+00:00 |  8480.00 |  5 |\n",
       "| JC3063031 | 131311153199 | 22 | 152.40 |  42.64 | 2021-05-01 10:23:00 | 2021-05-01 06:30:00+00:00 |   960.00 |  8 |\n",
       "| JC3063031 | 131311153199 | 22 | 152.40 |  42.64 | 2021-05-01 10:23:00 | 2021-05-03 13:17:00+00:00 |   924.17 |  8 |\n",
       "| JC3063031 | 131311153199 | 22 | 152.40 |  42.64 | 2021-05-01 10:23:00 | 2021-05-04 13:00:00+00:00 |   934.75 |  8 |\n",
       "| JC3063031 | 131311153199 | 22 | 152.40 |  42.64 | 2021-05-01 10:23:00 | 2021-05-05 12:05:00+00:00 |   931.22 |  8 |\n",
       "| JC3063031 | 131311153199 | 22 | 152.40 |  42.64 | 2021-05-01 10:23:00 | 2021-05-08 21:18:00+00:00 |   998.40 |  8 |\n",
       "| JC3110246 | 131308786553 | 71 | 150.00 |  27.44 | 2021-05-13 03:30:00 | 2021-05-13 06:26:00+00:00 |   941.81 |  3 |\n",
       "| JC3110246 | 131308786553 | 71 | 150.00 |  27.44 | 2021-05-13 03:30:00 | 2021-05-13 06:28:00+00:00 |   945.33 |  3 |\n",
       "| JC3110246 | 131308786553 | 71 | 150.00 |  27.44 | 2021-05-13 03:30:00 | 2021-05-20 12:46:00+00:00 |   968.00 |  3 |\n",
       "| JC657828  | 131305573002 | 30 | 167.64 | 294.84 | 2021-04-05 11:25:00 | 2021-04-05 07:57:00+00:00 | 10400.00 |  2 |\n",
       "| JC657828  | 131305573002 | 30 | 167.64 | 294.84 | 2021-04-05 11:25:00 | 2021-04-06 16:15:00+00:00 | 10542.40 |  2 |\n",
       "| JC657828  | 131312960686 | 30 | 167.64 | 294.84 | 2021-07-17 07:29:00 | 2021-07-17 05:34:00+00:00 |  9600.00 |  4 |\n",
       "| JC657828  | 131312960686 | 30 | 167.64 | 294.84 | 2021-07-17 07:29:00 | 2021-07-17 06:00:00+00:00 | 11393.37 |  4 |\n",
       "| JC657828  | 131312960686 | 30 | 167.64 | 294.84 | 2021-07-17 07:29:00 | 2021-07-20 22:55:00+00:00 | 10271.67 |  4 |\n",
       "| JC657828  | 131312960686 | 30 | 167.64 | 294.84 | 2021-07-17 07:29:00 | 2021-07-22 21:31:00+00:00 | 10328.11 |  4 |\n",
       "\n"
      ],
      "text/plain": [
       "    anon_id   pat_enc_csn_id_coded age recent_height_cm recent_weight_kg\n",
       "1   JC1476325 131306560913         54  144.80            26.76          \n",
       "2   JC1476325 131310595451         54  144.80            26.76          \n",
       "3   JC1476325 131310595451         54  144.80            26.76          \n",
       "4   JC1476325 131310595451         54  144.80            26.76          \n",
       "5   JC1476325 131310595451         54  144.80            26.76          \n",
       "6   JC1476325 131310595451         54  144.80            26.76          \n",
       "7   JC1476325 131310595451         54  144.80            26.76          \n",
       "8   JC1476325 131310595451         54  144.80            26.76          \n",
       "9   JC1476325 131310595451         54  144.80            26.76          \n",
       "10  JC1476325 131310595451         54  144.80            26.76          \n",
       "11  JC1531263 131311511070         34  185.42           301.31          \n",
       "12  JC1531263 131311511070         34  185.42           301.31          \n",
       "13  JC1549260 131318391387         30  158.50            28.98          \n",
       "14  JC1549260 131318391387         30  158.50            28.98          \n",
       "15  JC1549260 131318391387         30  158.50            28.98          \n",
       "16  JC1549260 131318391387         30  158.50            28.98          \n",
       "17  JC1549260 131318391387         30  158.50            28.98          \n",
       "18  JC1549260 131318391387         30  158.50            28.98          \n",
       "19  JC1577181 131312072391         54  175.26           226.30          \n",
       "20  JC1577181 131312072391         54  175.26           226.30          \n",
       "21  JC1577181 131312072391         54  175.26           226.30          \n",
       "22  JC1577181 131312072391         54  175.26           226.30          \n",
       "23  JC1577181 131312072391         54  175.26           226.30          \n",
       "24  JC1577181 131312072391         54  175.26           226.30          \n",
       "25  JC1648222 131290518160         50  179.07           239.95          \n",
       "26  JC1648222 131290518160         50  179.07           239.95          \n",
       "27  JC1648222 131291633342         50  179.07           239.95          \n",
       "28  JC2007174 131295177775         24  152.40            28.58          \n",
       "29  JC2007174 131295177775         24  152.40            28.58          \n",
       "30  JC2007174 131295177775         24  152.40            28.58          \n",
       "31  JC2007174 131295177775         24  152.40            28.58          \n",
       "32  JC2007174 131295177775         24  152.40            28.58          \n",
       "33  JC2007174 131296413447         24  152.40            28.58          \n",
       "34  JC2282652 131299849991         38  198.12           271.25          \n",
       "35  JC2282652 131299849991         38  198.12           271.25          \n",
       "36  JC2282652 131299849991         38  198.12           271.25          \n",
       "37  JC2282652 131299849991         38  198.12           271.25          \n",
       "38  JC2282652 131299849991         38  198.12           271.25          \n",
       "39  JC2282652 131299849991         38  198.12           271.25          \n",
       "40  JC2483030 131287076413         31  165.00           321.00          \n",
       "41  JC2483030 131287076413         31  165.00           321.00          \n",
       "42  JC2483030 131287076413         31  165.00           321.00          \n",
       "43  JC2483030 131287076413         31  165.00           321.00          \n",
       "44  JC2483030 131287076413         31  165.00           321.00          \n",
       "45  JC2483030 131290284892         31  165.00           321.00          \n",
       "46  JC2483030 131290284892         31  165.00           321.00          \n",
       "47  JC2483030 131290284892         31  165.00           321.00          \n",
       "48  JC2483030 131290284892         31  165.00           321.00          \n",
       "49  JC2483030 131290284892         31  165.00           321.00          \n",
       "50  JC2483030 131290284892         31  165.00           321.00          \n",
       "51  JC2483030 131290284892         31  165.00           321.00          \n",
       "52  JC2483030 131290284892         31  165.00           321.00          \n",
       "53  JC2483030 131290284892         31  165.00           321.00          \n",
       "54  JC2483030 131290284892         31  165.00           321.00          \n",
       "55  JC2483030 131290284892         31  165.00           321.00          \n",
       "56  JC2483030 131290284892         31  165.00           321.00          \n",
       "57  JC2483030 131290284892         31  165.00           321.00          \n",
       "58  JC2483030 131290284892         31  165.00           321.00          \n",
       "59  JC2483030 131290284892         31  165.00           321.00          \n",
       "60  JC2483030 131290284892         31  165.00           321.00          \n",
       "61  JC2483030 131290284892         31  165.00           321.00          \n",
       "62  JC2483030 131301215021         32  165.00           321.00          \n",
       "63  JC2483030 131301215021         32  165.00           321.00          \n",
       "64  JC2483030 131301215021         32  165.00           321.00          \n",
       "65  JC2483030 131301215021         32  165.00           321.00          \n",
       "66  JC2483030 131301215021         32  165.00           321.00          \n",
       "67  JC2483030 131301215021         32  165.00           321.00          \n",
       "68  JC2483030 131301215021         32  165.00           321.00          \n",
       "69  JC2483030 131301215021         32  165.00           321.00          \n",
       "70  JC2483030 131301215021         32  165.00           321.00          \n",
       "71  JC2483030 131301215021         32  165.00           321.00          \n",
       "72  JC2483030 131301215021         32  165.00           321.00          \n",
       "73  JC2708738 131299011091         48  177.80           237.68          \n",
       "74  JC2708738 131299011091         48  177.80           237.68          \n",
       "75  JC2708738 131299011091         48  177.80           237.68          \n",
       "76  JC2708738 131299011091         48  177.80           237.68          \n",
       "77  JC2708738 131299011091         48  177.80           237.68          \n",
       "78  JC2979005 131303325884         72  157.48            31.90          \n",
       "79  JC2979005 131303325884         72  157.48            31.90          \n",
       "80  JC2979005 131303325884         72  157.48            31.90          \n",
       "81  JC3017497 131298448309         26  157.50            28.50          \n",
       "82  JC3017497 131298448309         26  157.50            28.50          \n",
       "83  JC3017497 131298448309         26  157.50            28.50          \n",
       "84  JC3017497 131298448309         26  157.50            28.50          \n",
       "85  JC3017497 131298448309         26  157.50            28.50          \n",
       "86  JC3020594 131308234915         47  193.00           342.46          \n",
       "87  JC3020594 131308234915         47  193.00           342.46          \n",
       "88  JC3020594 131308234915         47  193.00           342.46          \n",
       "89  JC3020594 131308234915         47  193.00           342.46          \n",
       "90  JC3020594 131308234915         47  193.00           342.46          \n",
       "91  JC3020594 131308234915         47  193.00           342.46          \n",
       "92  JC3020594 131308234915         47  193.00           342.46          \n",
       "93  JC3020594 131308234915         47  193.00           342.46          \n",
       "94  JC3020594 131308234915         47  193.00           342.46          \n",
       "95  JC3020594 131308234915         47  193.00           342.46          \n",
       "96  JC3020594 131308234915         47  193.00           342.46          \n",
       "97  JC3020594 131308234915         47  193.00           342.46          \n",
       "98  JC3020594 131308234915         47  193.00           342.46          \n",
       "99  JC3020594 131308234915         47  193.00           342.46          \n",
       "100 JC3020594 131308234915         47  193.00           342.46          \n",
       "101 JC3020594 131308234915         47  193.00           342.46          \n",
       "102 JC3020594 131308234915         47  193.00           342.46          \n",
       "103 JC3020594 131308234915         47  193.00           342.46          \n",
       "104 JC3020594 131308234915         47  193.00           342.46          \n",
       "105 JC3020594 131308234915         47  193.00           342.46          \n",
       "106 JC3020594 131308234915         47  193.00           342.46          \n",
       "107 JC3020594 131308234915         47  193.00           342.46          \n",
       "108 JC3020594 131308234915         47  193.00           342.46          \n",
       "109 JC3020594 131308234915         47  193.00           342.46          \n",
       "110 JC3020594 131308234915         47  193.00           342.46          \n",
       "111 JC3020594 131308234915         47  193.00           342.46          \n",
       "112 JC3020594 131308234915         47  193.00           342.46          \n",
       "113 JC3057091 131300436153         28  165.10           240.40          \n",
       "114 JC3057091 131300436153         28  165.10           240.40          \n",
       "115 JC3063031 131311153199         22  152.40            42.64          \n",
       "116 JC3063031 131311153199         22  152.40            42.64          \n",
       "117 JC3063031 131311153199         22  152.40            42.64          \n",
       "118 JC3063031 131311153199         22  152.40            42.64          \n",
       "119 JC3063031 131311153199         22  152.40            42.64          \n",
       "120 JC3110246 131308786553         71  150.00            27.44          \n",
       "121 JC3110246 131308786553         71  150.00            27.44          \n",
       "122 JC3110246 131308786553         71  150.00            27.44          \n",
       "123 JC657828  131305573002         30  167.64           294.84          \n",
       "124 JC657828  131305573002         30  167.64           294.84          \n",
       "125 JC657828  131312960686         30  167.64           294.84          \n",
       "126 JC657828  131312960686         30  167.64           294.84          \n",
       "127 JC657828  131312960686         30  167.64           294.84          \n",
       "128 JC657828  131312960686         30  167.64           294.84          \n",
       "    admit_time          recorded_time             Weight   nWe\n",
       "1   2021-04-08 04:57:00 2021-04-08 06:29:00+00:00   932.80  1 \n",
       "2   2021-05-30 18:37:00 2021-05-31 18:00:00+00:00   928.00  9 \n",
       "3   2021-05-30 18:37:00 2021-06-01 01:06:00+00:00   920.00  9 \n",
       "4   2021-05-30 18:37:00 2021-06-02 00:00:00+00:00   874.79  9 \n",
       "5   2021-05-30 18:37:00 2021-06-03 17:55:00+00:00   860.68  9 \n",
       "6   2021-05-30 18:37:00 2021-06-04 15:00:00+00:00   857.15  9 \n",
       "7   2021-05-30 18:37:00 2021-06-06 22:48:00+00:00   903.00  9 \n",
       "8   2021-05-30 18:37:00 2021-06-08 15:14:00+00:00   952.39  9 \n",
       "9   2021-05-30 18:37:00 2021-06-10 06:23:00+00:00   931.20  9 \n",
       "10  2021-05-30 18:37:00 2021-06-11 12:14:00+00:00   913.59  9 \n",
       "11  2021-05-18 09:41:00 2021-05-18 13:20:00+00:00 10628.32  2 \n",
       "12  2021-05-18 09:41:00 2021-05-22 12:15:00+00:00 10628.36  2 \n",
       "13  2021-09-16 20:59:00 2021-09-16 16:30:00+00:00   880.00  6 \n",
       "14  2021-09-16 20:59:00 2021-09-17 21:57:00+00:00   899.48  6 \n",
       "15  2021-09-16 20:59:00 2021-09-18 12:56:00+00:00   874.79  6 \n",
       "16  2021-09-16 20:59:00 2021-09-19 12:26:00+00:00   878.31  6 \n",
       "17  2021-09-16 20:59:00 2021-09-20 12:42:00+00:00   860.68  6 \n",
       "18  2021-09-16 20:59:00 2021-09-21 22:00:00+00:00   899.48  6 \n",
       "19  2021-05-06 12:05:00 2021-05-06 13:15:00+00:00  8272.00  6 \n",
       "20  2021-05-06 12:05:00 2021-05-06 17:27:00+00:00  8109.40  6 \n",
       "21  2021-05-06 12:05:00 2021-05-07 12:36:00+00:00  8433.92  6 \n",
       "22  2021-05-06 12:05:00 2021-05-07 19:06:00+00:00  8128.00  6 \n",
       "23  2021-05-06 12:05:00 2021-05-08 12:11:00+00:00  8472.72  6 \n",
       "24  2021-05-06 12:05:00 2021-05-09 11:42:00+00:00  8553.85  6 \n",
       "25  2020-07-01 04:43:00 2020-07-01 06:50:00+00:00  8409.23  2 \n",
       "26  2020-07-01 04:43:00 2020-07-01 22:00:00+00:00  8395.12  2 \n",
       "27  2020-07-23 04:33:00 2020-07-22 23:21:00+00:00  8464.00  1 \n",
       "28  2020-10-02 19:10:00 2020-10-02 18:27:00+00:00   962.97  5 \n",
       "29  2020-10-02 19:10:00 2020-10-02 21:29:00+00:00   966.50  5 \n",
       "30  2020-10-02 19:10:00 2020-10-03 12:10:00+00:00   952.39  5 \n",
       "31  2020-10-02 19:10:00 2020-10-04 12:49:00+00:00   971.20  5 \n",
       "32  2020-10-02 19:10:00 2020-10-05 12:32:00+00:00   952.39  5 \n",
       "33  2020-10-19 01:38:00 2020-10-19 05:16:00+00:00   948.80  1 \n",
       "34  2020-12-20 03:05:00 2020-12-19 23:55:00+00:00  9488.60  6 \n",
       "35  2020-12-20 03:05:00 2020-12-20 02:00:00+00:00 10400.00  6 \n",
       "36  2020-12-20 03:05:00 2020-12-21 13:17:00+00:00  9744.00  6 \n",
       "37  2020-12-20 03:05:00 2020-12-22 13:00:00+00:00  9664.00  6 \n",
       "38  2020-12-20 03:05:00 2020-12-23 12:51:00+00:00  9616.00  6 \n",
       "39  2020-12-20 03:05:00 2020-12-24 12:54:00+00:00  9568.00  6 \n",
       "40  2020-04-01 10:46:00 2020-04-01 08:16:00+00:00 10224.00  5 \n",
       "41  2020-04-01 10:46:00 2020-04-03 12:00:00+00:00 12381.03  5 \n",
       "42  2020-04-01 10:46:00 2020-04-03 20:00:00+00:00 11392.00  5 \n",
       "43  2020-04-01 10:46:00 2020-04-04 11:40:00+00:00 11396.90  5 \n",
       "44  2020-04-01 10:46:00 2020-04-05 12:53:00+00:00 11312.00  5 \n",
       "45  2020-06-17 05:37:00 2020-06-17 02:51:00+00:00 11200.00 18 \n",
       "46  2020-06-17 05:37:00 2020-06-17 13:00:00+00:00 11199.37 18 \n",
       "47  2020-06-17 05:37:00 2020-06-18 12:49:00+00:00 12698.50 18 \n",
       "48  2020-06-17 05:37:00 2020-06-19 13:49:00+00:00 12663.22 18 \n",
       "49  2020-06-17 05:37:00 2020-06-20 11:56:00+00:00 12627.95 18 \n",
       "50  2020-06-17 05:37:00 2020-06-21 13:00:00+00:00 12522.13 18 \n",
       "51  2020-06-17 05:37:00 2020-06-22 13:16:00+00:00 12769.04 18 \n",
       "52  2020-06-17 05:37:00 2020-06-23 12:00:00+00:00 12663.22 18 \n",
       "53  2020-06-17 05:37:00 2020-06-24 13:00:00+00:00 12627.95 18 \n",
       "54  2020-06-17 05:37:00 2020-06-25 14:27:00+00:00 12345.76 18 \n",
       "55  2020-06-17 05:37:00 2020-06-26 13:46:00+00:00 11957.75 18 \n",
       "56  2020-06-17 05:37:00 2020-06-27 12:57:00+00:00 11922.48 18 \n",
       "57  2020-06-17 05:37:00 2020-06-28 12:57:00+00:00 11534.47 18 \n",
       "58  2020-06-17 05:37:00 2020-06-30 10:55:00+00:00 11640.29 18 \n",
       "59  2020-06-17 05:37:00 2020-07-02 00:00:00+00:00 11675.56 18 \n",
       "60  2020-06-17 05:37:00 2020-07-02 10:00:00+00:00 11040.64 18 \n",
       "61  2020-06-17 05:37:00 2020-07-03 11:53:00+00:00 11040.64 18 \n",
       "62  2021-01-01 10:32:00 2021-01-01 07:10:00+00:00 12080.00 11 \n",
       "63  2021-01-01 10:32:00 2021-01-02 13:00:00+00:00 12016.00 11 \n",
       "64  2021-01-01 10:32:00 2021-01-03 02:00:00+00:00 13280.00 11 \n",
       "65  2021-01-01 10:32:00 2021-01-03 12:21:00+00:00 13440.00 11 \n",
       "66  2021-01-01 10:32:00 2021-01-04 21:16:00+00:00 13439.24 11 \n",
       "67  2021-01-01 10:32:00 2021-01-05 14:00:00+00:00 13184.00 11 \n",
       "68  2021-01-01 10:32:00 2021-01-06 15:00:00+00:00 12839.59 11 \n",
       "69  2021-01-01 10:32:00 2021-01-07 14:00:00+00:00 13296.00 11 \n",
       "70  2021-01-01 10:32:00 2021-01-08 14:44:00+00:00 12208.00 11 \n",
       "71  2021-01-01 10:32:00 2021-01-09 14:30:00+00:00 11520.00 11 \n",
       "72  2021-01-01 10:32:00 2021-01-10 13:38:00+00:00 11328.00 11 \n",
       "73  2020-12-08 18:18:00 2020-12-09 01:37:00+00:00  8732.80  5 \n",
       "74  2020-12-08 18:18:00 2020-12-09 12:57:00+00:00  8691.20  5 \n",
       "75  2020-12-08 18:18:00 2020-12-10 11:02:00+00:00  8553.60  5 \n",
       "76  2020-12-08 18:18:00 2020-12-11 15:16:00+00:00  8476.80  5 \n",
       "77  2020-12-08 18:18:00 2020-12-12 16:37:00+00:00  8435.20  5 \n",
       "78  2021-02-04 00:52:00 2021-02-03 20:34:00+00:00   960.00  4 \n",
       "79  2021-02-04 00:52:00 2021-02-07 16:15:00+00:00   960.00  4 \n",
       "80  2021-02-04 00:52:00 2021-02-08 14:00:00+00:00   976.00  4 \n",
       "81  2020-11-04 07:37:00 2020-11-18 09:00:00+00:00   948.86  7 \n",
       "82  2020-11-04 07:37:00 2020-11-27 21:00:00+00:00   998.24  7 \n",
       "83  2020-11-04 07:37:00 2020-12-02 11:30:00+00:00   976.00  7 \n",
       "84  2020-11-04 07:37:00 2020-12-09 11:03:00+00:00   924.80  7 \n",
       "85  2020-11-04 07:37:00 2020-12-16 13:13:00+00:00   991.19  7 \n",
       "86  2021-05-03 07:58:00 2021-05-03 07:30:00+00:00 11200.00 27 \n",
       "87  2021-05-03 07:58:00 2021-05-07 13:00:00+00:00 14557.41 27 \n",
       "88  2021-05-03 07:58:00 2021-05-08 15:34:00+00:00 15200.00 27 \n",
       "89  2021-05-03 07:58:00 2021-05-08 18:30:00+00:00 14656.00 27 \n",
       "90  2021-05-03 07:58:00 2021-05-09 00:30:00+00:00 13120.00 27 \n",
       "91  2021-05-03 07:58:00 2021-05-09 09:35:00+00:00 13088.00 27 \n",
       "92  2021-05-03 07:58:00 2021-05-09 23:50:00+00:00 12272.00 27 \n",
       "93  2021-05-03 07:58:00 2021-05-16 13:00:00+00:00 11344.00 27 \n",
       "94  2021-05-03 07:58:00 2021-05-17 13:00:00+00:00 11392.00 27 \n",
       "95  2021-05-03 07:58:00 2021-05-20 17:59:00+00:00 12160.00 27 \n",
       "96  2021-05-03 07:58:00 2021-05-21 13:00:00+00:00 11904.00 27 \n",
       "97  2021-05-03 07:58:00 2021-05-22 10:49:00+00:00 12000.00 27 \n",
       "98  2021-05-03 07:58:00 2021-05-23 12:56:00+00:00 12000.00 27 \n",
       "99  2021-05-03 07:58:00 2021-05-24 12:57:00+00:00 12224.00 27 \n",
       "100 2021-05-03 07:58:00 2021-05-25 11:00:00+00:00 12384.00 27 \n",
       "101 2021-05-03 07:58:00 2021-05-26 10:10:00+00:00 12512.00 27 \n",
       "102 2021-05-03 07:58:00 2021-05-29 13:00:00+00:00 12511.55 27 \n",
       "103 2021-05-03 07:58:00 2021-05-30 12:00:00+00:00 12336.00 27 \n",
       "104 2021-05-03 07:58:00 2021-06-02 12:32:00+00:00 12624.00 27 \n",
       "105 2021-05-03 07:58:00 2021-06-04 12:25:00+00:00 12832.00 27 \n",
       "106 2021-05-03 07:58:00 2021-06-05 13:00:00+00:00 12832.00 27 \n",
       "107 2021-05-03 07:58:00 2021-06-06 17:03:00+00:00 13312.00 27 \n",
       "108 2021-05-03 07:58:00 2021-06-07 17:50:00+00:00 13184.00 27 \n",
       "109 2021-05-03 07:58:00 2021-06-12 22:00:00+00:00 12944.00 27 \n",
       "110 2021-05-03 07:58:00 2021-06-13 12:42:00+00:00 12832.00 27 \n",
       "111 2021-05-03 07:58:00 2021-06-14 22:00:00+00:00 12320.00 27 \n",
       "112 2021-05-03 07:58:00 2021-06-15 19:51:00+00:00 12080.00 27 \n",
       "113 2021-01-07 00:07:00 2021-01-09 22:00:00+00:00  8448.00  5 \n",
       "114 2021-01-07 00:07:00 2021-01-11 19:58:00+00:00  8480.00  5 \n",
       "115 2021-05-01 10:23:00 2021-05-01 06:30:00+00:00   960.00  8 \n",
       "116 2021-05-01 10:23:00 2021-05-03 13:17:00+00:00   924.17  8 \n",
       "117 2021-05-01 10:23:00 2021-05-04 13:00:00+00:00   934.75  8 \n",
       "118 2021-05-01 10:23:00 2021-05-05 12:05:00+00:00   931.22  8 \n",
       "119 2021-05-01 10:23:00 2021-05-08 21:18:00+00:00   998.40  8 \n",
       "120 2021-05-13 03:30:00 2021-05-13 06:26:00+00:00   941.81  3 \n",
       "121 2021-05-13 03:30:00 2021-05-13 06:28:00+00:00   945.33  3 \n",
       "122 2021-05-13 03:30:00 2021-05-20 12:46:00+00:00   968.00  3 \n",
       "123 2021-04-05 11:25:00 2021-04-05 07:57:00+00:00 10400.00  2 \n",
       "124 2021-04-05 11:25:00 2021-04-06 16:15:00+00:00 10542.40  2 \n",
       "125 2021-07-17 07:29:00 2021-07-17 05:34:00+00:00  9600.00  4 \n",
       "126 2021-07-17 07:29:00 2021-07-17 06:00:00+00:00 11393.37  4 \n",
       "127 2021-07-17 07:29:00 2021-07-20 22:55:00+00:00 10271.67  4 \n",
       "128 2021-07-17 07:29:00 2021-07-22 21:31:00+00:00 10328.11  4 "
      ]
     },
     "metadata": {},
     "output_type": "display_data"
    }
   ],
   "source": [
    "# patients appear more than once in the errorW: \n",
    "# from the above cell and here: errors are < 720 and > 13000\n",
    "# all look ok, except errors: 12381.03oz and 12024.77 \n",
    "# (and possible errors # JCe36b60 9600.00 & 9770.79, but this is 1 special case, not big deal --> handle later)\n",
    "# final: remove < 720 and > 12000\n",
    "dup_errorW <- errorW[duplicated(errorW[,'anon_id']) | duplicated(errorW[,'anon_id'], fromLast=TRUE), ] %>% \n",
    "                    select(anon_id, pat_enc_csn_id_coded, age, recent_height_cm, recent_weight_kg, \n",
    "                           admit_time, recorded_time, Weight, nWe) %>% arrange(anon_id, recorded_time)\n",
    "\n",
    "length(unique(dup_errorW$anon_id))\n",
    "dup_errorW"
   ]
  },
  {
   "cell_type": "code",
   "execution_count": 31,
   "metadata": {},
   "outputs": [
    {
     "data": {
      "text/html": [
       "10"
      ],
      "text/latex": [
       "10"
      ],
      "text/markdown": [
       "10"
      ],
      "text/plain": [
       "[1] 10"
      ]
     },
     "metadata": {},
     "output_type": "display_data"
    },
    {
     "data": {
      "text/html": [
       "<table class=\"dataframe\">\n",
       "<caption>A grouped_df: 10 × 10</caption>\n",
       "<thead>\n",
       "\t<tr><th scope=col>anon_id</th><th scope=col>pat_enc_csn_id_coded</th><th scope=col>age</th><th scope=col>recent_height_cm</th><th scope=col>recent_weight_kg</th><th scope=col>admit_time</th><th scope=col>recorded_time</th><th scope=col>Weight</th><th scope=col>nWe</th><th scope=col>Wfsdmdif</th></tr>\n",
       "\t<tr><th scope=col>&lt;chr&gt;</th><th scope=col>&lt;dbl&gt;</th><th scope=col>&lt;int&gt;</th><th scope=col>&lt;dbl&gt;</th><th scope=col>&lt;dbl&gt;</th><th scope=col>&lt;chr&gt;</th><th scope=col>&lt;chr&gt;</th><th scope=col>&lt;dbl&gt;</th><th scope=col>&lt;int&gt;</th><th scope=col>&lt;dbl&gt;</th></tr>\n",
       "</thead>\n",
       "<tbody>\n",
       "\t<tr><td>JC1519758</td><td>131304329212</td><td>64</td><td>162.56</td><td> 84.30</td><td>2021-03-12 16:27:00</td><td>2021-03-12 11:49:00+00:00</td><td>   77.10</td><td> 7</td><td> 82.11</td></tr>\n",
       "\t<tr><td>JC1499635</td><td>131288946250</td><td>77</td><td>172.20</td><td> 72.12</td><td>2020-06-15 23:05:00</td><td>2020-06-15 20:16:00+00:00</td><td>  224.00</td><td> 4</td><td> 65.77</td></tr>\n",
       "\t<tr><td>JC1702425</td><td>131318400414</td><td>48</td><td>170.18</td><td> 72.57</td><td>2021-08-20 04:57:00</td><td>2021-08-20 01:24:00+00:00</td><td>  256.00</td><td> 2</td><td> 65.31</td></tr>\n",
       "\t<tr><td>JC2565128</td><td>131302299793</td><td>66</td><td>167.64</td><td>115.67</td><td>2021-01-13 07:26:00</td><td>2021-01-23 12:32:00+00:00</td><td>  416.23</td><td>28</td><td>103.87</td></tr>\n",
       "\t<tr><td>JC1163658</td><td>131294628948</td><td>83</td><td>144.80</td><td> 46.90</td><td>2020-09-21 05:39:00</td><td>2020-09-28 10:00:00+00:00</td><td>  864.00</td><td> 5</td><td> 22.41</td></tr>\n",
       "\t<tr><td>JC2495489</td><td>131314894904</td><td>22</td><td>147.32</td><td> 29.03</td><td>2021-07-07 06:44:00</td><td>2021-07-07 04:09:00+00:00</td><td>  938.28</td><td> 1</td><td>  2.43</td></tr>\n",
       "\t<tr><td>JC640050 </td><td>131297661223</td><td>43</td><td>152.40</td><td> 33.30</td><td>2020-11-11 21:33:00</td><td>2020-11-12 01:42:00+00:00</td><td>  980.80</td><td> 2</td><td>  5.49</td></tr>\n",
       "\t<tr><td>JC1486806</td><td>131305386128</td><td>41</td><td>167.00</td><td>213.70</td><td>2021-03-14 10:09:00</td><td>2021-03-14 12:00:00+00:00</td><td> 8108.80</td><td> 6</td><td> 16.18</td></tr>\n",
       "\t<tr><td>JC3214717</td><td>131314577085</td><td>33</td><td>200.66</td><td>247.66</td><td>2021-07-25 13:24:00</td><td>2021-07-25 09:23:00+00:00</td><td> 8640.00</td><td> 1</td><td>  2.72</td></tr>\n",
       "\t<tr><td>JC1799359</td><td>131297353407</td><td>78</td><td>152.40</td><td> 59.00</td><td>2020-11-23 03:54:00</td><td>2020-11-24 19:53:00+00:00</td><td>19365.21</td><td> 2</td><td>490.00</td></tr>\n",
       "</tbody>\n",
       "</table>\n"
      ],
      "text/latex": [
       "A grouped\\_df: 10 × 10\n",
       "\\begin{tabular}{llllllllll}\n",
       " anon\\_id & pat\\_enc\\_csn\\_id\\_coded & age & recent\\_height\\_cm & recent\\_weight\\_kg & admit\\_time & recorded\\_time & Weight & nWe & Wfsdmdif\\\\\n",
       " <chr> & <dbl> & <int> & <dbl> & <dbl> & <chr> & <chr> & <dbl> & <int> & <dbl>\\\\\n",
       "\\hline\n",
       "\t JC1519758 & 131304329212 & 64 & 162.56 &  84.30 & 2021-03-12 16:27:00 & 2021-03-12 11:49:00+00:00 &    77.10 &  7 &  82.11\\\\\n",
       "\t JC1499635 & 131288946250 & 77 & 172.20 &  72.12 & 2020-06-15 23:05:00 & 2020-06-15 20:16:00+00:00 &   224.00 &  4 &  65.77\\\\\n",
       "\t JC1702425 & 131318400414 & 48 & 170.18 &  72.57 & 2021-08-20 04:57:00 & 2021-08-20 01:24:00+00:00 &   256.00 &  2 &  65.31\\\\\n",
       "\t JC2565128 & 131302299793 & 66 & 167.64 & 115.67 & 2021-01-13 07:26:00 & 2021-01-23 12:32:00+00:00 &   416.23 & 28 & 103.87\\\\\n",
       "\t JC1163658 & 131294628948 & 83 & 144.80 &  46.90 & 2020-09-21 05:39:00 & 2020-09-28 10:00:00+00:00 &   864.00 &  5 &  22.41\\\\\n",
       "\t JC2495489 & 131314894904 & 22 & 147.32 &  29.03 & 2021-07-07 06:44:00 & 2021-07-07 04:09:00+00:00 &   938.28 &  1 &   2.43\\\\\n",
       "\t JC640050  & 131297661223 & 43 & 152.40 &  33.30 & 2020-11-11 21:33:00 & 2020-11-12 01:42:00+00:00 &   980.80 &  2 &   5.49\\\\\n",
       "\t JC1486806 & 131305386128 & 41 & 167.00 & 213.70 & 2021-03-14 10:09:00 & 2021-03-14 12:00:00+00:00 &  8108.80 &  6 &  16.18\\\\\n",
       "\t JC3214717 & 131314577085 & 33 & 200.66 & 247.66 & 2021-07-25 13:24:00 & 2021-07-25 09:23:00+00:00 &  8640.00 &  1 &   2.72\\\\\n",
       "\t JC1799359 & 131297353407 & 78 & 152.40 &  59.00 & 2020-11-23 03:54:00 & 2020-11-24 19:53:00+00:00 & 19365.21 &  2 & 490.00\\\\\n",
       "\\end{tabular}\n"
      ],
      "text/markdown": [
       "\n",
       "A grouped_df: 10 × 10\n",
       "\n",
       "| anon_id &lt;chr&gt; | pat_enc_csn_id_coded &lt;dbl&gt; | age &lt;int&gt; | recent_height_cm &lt;dbl&gt; | recent_weight_kg &lt;dbl&gt; | admit_time &lt;chr&gt; | recorded_time &lt;chr&gt; | Weight &lt;dbl&gt; | nWe &lt;int&gt; | Wfsdmdif &lt;dbl&gt; |\n",
       "|---|---|---|---|---|---|---|---|---|---|\n",
       "| JC1519758 | 131304329212 | 64 | 162.56 |  84.30 | 2021-03-12 16:27:00 | 2021-03-12 11:49:00+00:00 |    77.10 |  7 |  82.11 |\n",
       "| JC1499635 | 131288946250 | 77 | 172.20 |  72.12 | 2020-06-15 23:05:00 | 2020-06-15 20:16:00+00:00 |   224.00 |  4 |  65.77 |\n",
       "| JC1702425 | 131318400414 | 48 | 170.18 |  72.57 | 2021-08-20 04:57:00 | 2021-08-20 01:24:00+00:00 |   256.00 |  2 |  65.31 |\n",
       "| JC2565128 | 131302299793 | 66 | 167.64 | 115.67 | 2021-01-13 07:26:00 | 2021-01-23 12:32:00+00:00 |   416.23 | 28 | 103.87 |\n",
       "| JC1163658 | 131294628948 | 83 | 144.80 |  46.90 | 2020-09-21 05:39:00 | 2020-09-28 10:00:00+00:00 |   864.00 |  5 |  22.41 |\n",
       "| JC2495489 | 131314894904 | 22 | 147.32 |  29.03 | 2021-07-07 06:44:00 | 2021-07-07 04:09:00+00:00 |   938.28 |  1 |   2.43 |\n",
       "| JC640050  | 131297661223 | 43 | 152.40 |  33.30 | 2020-11-11 21:33:00 | 2020-11-12 01:42:00+00:00 |   980.80 |  2 |   5.49 |\n",
       "| JC1486806 | 131305386128 | 41 | 167.00 | 213.70 | 2021-03-14 10:09:00 | 2021-03-14 12:00:00+00:00 |  8108.80 |  6 |  16.18 |\n",
       "| JC3214717 | 131314577085 | 33 | 200.66 | 247.66 | 2021-07-25 13:24:00 | 2021-07-25 09:23:00+00:00 |  8640.00 |  1 |   2.72 |\n",
       "| JC1799359 | 131297353407 | 78 | 152.40 |  59.00 | 2020-11-23 03:54:00 | 2020-11-24 19:53:00+00:00 | 19365.21 |  2 | 490.00 |\n",
       "\n"
      ],
      "text/plain": [
       "   anon_id   pat_enc_csn_id_coded age recent_height_cm recent_weight_kg\n",
       "1  JC1519758 131304329212         64  162.56            84.30          \n",
       "2  JC1499635 131288946250         77  172.20            72.12          \n",
       "3  JC1702425 131318400414         48  170.18            72.57          \n",
       "4  JC2565128 131302299793         66  167.64           115.67          \n",
       "5  JC1163658 131294628948         83  144.80            46.90          \n",
       "6  JC2495489 131314894904         22  147.32            29.03          \n",
       "7  JC640050  131297661223         43  152.40            33.30          \n",
       "8  JC1486806 131305386128         41  167.00           213.70          \n",
       "9  JC3214717 131314577085         33  200.66           247.66          \n",
       "10 JC1799359 131297353407         78  152.40            59.00          \n",
       "   admit_time          recorded_time             Weight   nWe Wfsdmdif\n",
       "1  2021-03-12 16:27:00 2021-03-12 11:49:00+00:00    77.10  7   82.11  \n",
       "2  2020-06-15 23:05:00 2020-06-15 20:16:00+00:00   224.00  4   65.77  \n",
       "3  2021-08-20 04:57:00 2021-08-20 01:24:00+00:00   256.00  2   65.31  \n",
       "4  2021-01-13 07:26:00 2021-01-23 12:32:00+00:00   416.23 28  103.87  \n",
       "5  2020-09-21 05:39:00 2020-09-28 10:00:00+00:00   864.00  5   22.41  \n",
       "6  2021-07-07 06:44:00 2021-07-07 04:09:00+00:00   938.28  1    2.43  \n",
       "7  2020-11-11 21:33:00 2020-11-12 01:42:00+00:00   980.80  2    5.49  \n",
       "8  2021-03-14 10:09:00 2021-03-14 12:00:00+00:00  8108.80  6   16.18  \n",
       "9  2021-07-25 13:24:00 2021-07-25 09:23:00+00:00  8640.00  1    2.72  \n",
       "10 2020-11-23 03:54:00 2020-11-24 19:53:00+00:00 19365.21  2  490.00  "
      ]
     },
     "metadata": {},
     "output_type": "display_data"
    }
   ],
   "source": [
    "# these patients appeared once in errorW, so likely all errors \n",
    "# verify in the next cell, check for possible correct values (<1000 or >8000)\n",
    "non_dup_errorW <- errorW %>% filter(!anon_id %in% dup_errorW$anon_id) %>%\n",
    "                                select(anon_id, pat_enc_csn_id_coded, age, recent_height_cm, recent_weight_kg, \n",
    "                                       admit_time, recorded_time, Weight, nWe, Wfsdmdif) %>% arrange(Weight) \n",
    "\n",
    "length(unique(non_dup_errorW$anon_id))\n",
    "non_dup_errorW"
   ]
  },
  {
   "cell_type": "code",
   "execution_count": 32,
   "metadata": {},
   "outputs": [
    {
     "data": {
      "text/html": [
       "<table class=\"dataframe\">\n",
       "<caption>A grouped_df: 24 × 9</caption>\n",
       "<thead>\n",
       "\t<tr><th scope=col>anon_id</th><th scope=col>pat_enc_csn_id_coded</th><th scope=col>age</th><th scope=col>recent_height_cm</th><th scope=col>recent_weight_kg</th><th scope=col>admit_time</th><th scope=col>recorded_time</th><th scope=col>Weight</th><th scope=col>nWe</th></tr>\n",
       "\t<tr><th scope=col>&lt;chr&gt;</th><th scope=col>&lt;dbl&gt;</th><th scope=col>&lt;int&gt;</th><th scope=col>&lt;dbl&gt;</th><th scope=col>&lt;dbl&gt;</th><th scope=col>&lt;chr&gt;</th><th scope=col>&lt;chr&gt;</th><th scope=col>&lt;dbl&gt;</th><th scope=col>&lt;int&gt;</th></tr>\n",
       "</thead>\n",
       "<tbody>\n",
       "\t<tr><td>JC1163658</td><td>131294628948</td><td>83</td><td>144.80</td><td> 46.90</td><td>2020-09-21 05:39:00</td><td>2020-09-20 23:57:00+00:00</td><td>1600.00</td><td>5</td></tr>\n",
       "\t<tr><td>JC1163658</td><td>131294628948</td><td>83</td><td>144.80</td><td> 46.90</td><td>2020-09-21 05:39:00</td><td>2020-09-21 07:15:00+00:00</td><td>1808.00</td><td>5</td></tr>\n",
       "\t<tr><td>JC1163658</td><td>131294628948</td><td>83</td><td>144.80</td><td> 46.90</td><td>2020-09-21 05:39:00</td><td>2020-09-28 07:15:00+00:00</td><td>1992.96</td><td>5</td></tr>\n",
       "\t<tr><td>JC1163658</td><td>131294628948</td><td>83</td><td>144.80</td><td> 46.90</td><td>2020-09-21 05:39:00</td><td>2020-09-28 10:00:00+00:00</td><td> 864.00</td><td>5</td></tr>\n",
       "\t<tr><td>JC1163658</td><td>131294628948</td><td>83</td><td>144.80</td><td> 46.90</td><td>2020-09-21 05:39:00</td><td>2020-09-29 04:00:00+00:00</td><td>1985.90</td><td>5</td></tr>\n",
       "\t<tr><td>JC1486806</td><td>131294824051</td><td>41</td><td>167.00</td><td>213.70</td><td>2020-09-23 01:15:00</td><td>2020-09-22 20:48:00+00:00</td><td>7866.01</td><td>7</td></tr>\n",
       "\t<tr><td>JC1486806</td><td>131294824051</td><td>41</td><td>167.00</td><td>213.70</td><td>2020-09-23 01:15:00</td><td>2020-09-23 04:00:00+00:00</td><td>7442.73</td><td>7</td></tr>\n",
       "\t<tr><td>JC1486806</td><td>131294824051</td><td>41</td><td>167.00</td><td>213.70</td><td>2020-09-23 01:15:00</td><td>2020-09-27 13:00:00+00:00</td><td>7347.49</td><td>7</td></tr>\n",
       "\t<tr><td>JC1486806</td><td>131294824051</td><td>41</td><td>167.00</td><td>213.70</td><td>2020-09-23 01:15:00</td><td>2020-09-28 13:00:00+00:00</td><td>7326.33</td><td>7</td></tr>\n",
       "\t<tr><td>JC1486806</td><td>131294824051</td><td>41</td><td>167.00</td><td>213.70</td><td>2020-09-23 01:15:00</td><td>2020-09-29 13:00:00+00:00</td><td>7824.00</td><td>7</td></tr>\n",
       "\t<tr><td>JC1486806</td><td>131294824051</td><td>41</td><td>167.00</td><td>213.70</td><td>2020-09-23 01:15:00</td><td>2020-09-30 11:00:00+00:00</td><td>7824.00</td><td>7</td></tr>\n",
       "\t<tr><td>JC1486806</td><td>131294824051</td><td>41</td><td>167.00</td><td>213.70</td><td>2020-09-23 01:15:00</td><td>2020-10-01 12:00:00+00:00</td><td>7904.00</td><td>7</td></tr>\n",
       "\t<tr><td>JC1486806</td><td>131305386128</td><td>41</td><td>167.00</td><td>213.70</td><td>2021-03-14 10:09:00</td><td>2021-03-14 08:03:00+00:00</td><td>7883.65</td><td>6</td></tr>\n",
       "\t<tr><td>JC1486806</td><td>131305386128</td><td>41</td><td>167.00</td><td>213.70</td><td>2021-03-14 10:09:00</td><td>2021-03-14 12:00:00+00:00</td><td>8108.80</td><td>6</td></tr>\n",
       "\t<tr><td>JC1486806</td><td>131305386128</td><td>41</td><td>167.00</td><td>213.70</td><td>2021-03-14 10:09:00</td><td>2021-03-15 01:00:00+00:00</td><td>7971.83</td><td>6</td></tr>\n",
       "\t<tr><td>JC1486806</td><td>131305386128</td><td>41</td><td>167.00</td><td>213.70</td><td>2021-03-14 10:09:00</td><td>2021-03-16 09:15:00+00:00</td><td>7866.01</td><td>6</td></tr>\n",
       "\t<tr><td>JC1486806</td><td>131305386128</td><td>41</td><td>167.00</td><td>213.70</td><td>2021-03-14 10:09:00</td><td>2021-03-16 17:29:00+00:00</td><td>7866.01</td><td>6</td></tr>\n",
       "\t<tr><td>JC1486806</td><td>131305386128</td><td>41</td><td>167.00</td><td>213.70</td><td>2021-03-14 10:09:00</td><td>2021-03-18 12:00:00+00:00</td><td>7537.97</td><td>6</td></tr>\n",
       "\t<tr><td>JC2495489</td><td>131314894904</td><td>22</td><td>147.32</td><td> 29.03</td><td>2021-07-07 06:44:00</td><td>2021-07-07 04:09:00+00:00</td><td> 938.28</td><td>1</td></tr>\n",
       "\t<tr><td>JC3214717</td><td>131314577085</td><td>33</td><td>200.66</td><td>247.66</td><td>2021-07-25 13:24:00</td><td>2021-07-25 09:23:00+00:00</td><td>8640.00</td><td>1</td></tr>\n",
       "\t<tr><td>JC640050 </td><td>131297661223</td><td>43</td><td>152.40</td><td> 33.30</td><td>2020-11-11 21:33:00</td><td>2020-11-11 18:48:00+00:00</td><td>1280.00</td><td>2</td></tr>\n",
       "\t<tr><td>JC640050 </td><td>131297661223</td><td>43</td><td>152.40</td><td> 33.30</td><td>2020-11-11 21:33:00</td><td>2020-11-12 01:42:00+00:00</td><td> 980.80</td><td>2</td></tr>\n",
       "\t<tr><td>JC640050 </td><td>131299296444</td><td>43</td><td>152.40</td><td> 33.30</td><td>2020-12-12 12:34:00</td><td>2020-12-12 09:33:00+00:00</td><td>1174.61</td><td>2</td></tr>\n",
       "\t<tr><td>JC640050 </td><td>131299296444</td><td>43</td><td>152.40</td><td> 33.30</td><td>2020-12-12 12:34:00</td><td>2020-12-12 13:44:00+00:00</td><td>1174.61</td><td>2</td></tr>\n",
       "</tbody>\n",
       "</table>\n"
      ],
      "text/latex": [
       "A grouped\\_df: 24 × 9\n",
       "\\begin{tabular}{lllllllll}\n",
       " anon\\_id & pat\\_enc\\_csn\\_id\\_coded & age & recent\\_height\\_cm & recent\\_weight\\_kg & admit\\_time & recorded\\_time & Weight & nWe\\\\\n",
       " <chr> & <dbl> & <int> & <dbl> & <dbl> & <chr> & <chr> & <dbl> & <int>\\\\\n",
       "\\hline\n",
       "\t JC1163658 & 131294628948 & 83 & 144.80 &  46.90 & 2020-09-21 05:39:00 & 2020-09-20 23:57:00+00:00 & 1600.00 & 5\\\\\n",
       "\t JC1163658 & 131294628948 & 83 & 144.80 &  46.90 & 2020-09-21 05:39:00 & 2020-09-21 07:15:00+00:00 & 1808.00 & 5\\\\\n",
       "\t JC1163658 & 131294628948 & 83 & 144.80 &  46.90 & 2020-09-21 05:39:00 & 2020-09-28 07:15:00+00:00 & 1992.96 & 5\\\\\n",
       "\t JC1163658 & 131294628948 & 83 & 144.80 &  46.90 & 2020-09-21 05:39:00 & 2020-09-28 10:00:00+00:00 &  864.00 & 5\\\\\n",
       "\t JC1163658 & 131294628948 & 83 & 144.80 &  46.90 & 2020-09-21 05:39:00 & 2020-09-29 04:00:00+00:00 & 1985.90 & 5\\\\\n",
       "\t JC1486806 & 131294824051 & 41 & 167.00 & 213.70 & 2020-09-23 01:15:00 & 2020-09-22 20:48:00+00:00 & 7866.01 & 7\\\\\n",
       "\t JC1486806 & 131294824051 & 41 & 167.00 & 213.70 & 2020-09-23 01:15:00 & 2020-09-23 04:00:00+00:00 & 7442.73 & 7\\\\\n",
       "\t JC1486806 & 131294824051 & 41 & 167.00 & 213.70 & 2020-09-23 01:15:00 & 2020-09-27 13:00:00+00:00 & 7347.49 & 7\\\\\n",
       "\t JC1486806 & 131294824051 & 41 & 167.00 & 213.70 & 2020-09-23 01:15:00 & 2020-09-28 13:00:00+00:00 & 7326.33 & 7\\\\\n",
       "\t JC1486806 & 131294824051 & 41 & 167.00 & 213.70 & 2020-09-23 01:15:00 & 2020-09-29 13:00:00+00:00 & 7824.00 & 7\\\\\n",
       "\t JC1486806 & 131294824051 & 41 & 167.00 & 213.70 & 2020-09-23 01:15:00 & 2020-09-30 11:00:00+00:00 & 7824.00 & 7\\\\\n",
       "\t JC1486806 & 131294824051 & 41 & 167.00 & 213.70 & 2020-09-23 01:15:00 & 2020-10-01 12:00:00+00:00 & 7904.00 & 7\\\\\n",
       "\t JC1486806 & 131305386128 & 41 & 167.00 & 213.70 & 2021-03-14 10:09:00 & 2021-03-14 08:03:00+00:00 & 7883.65 & 6\\\\\n",
       "\t JC1486806 & 131305386128 & 41 & 167.00 & 213.70 & 2021-03-14 10:09:00 & 2021-03-14 12:00:00+00:00 & 8108.80 & 6\\\\\n",
       "\t JC1486806 & 131305386128 & 41 & 167.00 & 213.70 & 2021-03-14 10:09:00 & 2021-03-15 01:00:00+00:00 & 7971.83 & 6\\\\\n",
       "\t JC1486806 & 131305386128 & 41 & 167.00 & 213.70 & 2021-03-14 10:09:00 & 2021-03-16 09:15:00+00:00 & 7866.01 & 6\\\\\n",
       "\t JC1486806 & 131305386128 & 41 & 167.00 & 213.70 & 2021-03-14 10:09:00 & 2021-03-16 17:29:00+00:00 & 7866.01 & 6\\\\\n",
       "\t JC1486806 & 131305386128 & 41 & 167.00 & 213.70 & 2021-03-14 10:09:00 & 2021-03-18 12:00:00+00:00 & 7537.97 & 6\\\\\n",
       "\t JC2495489 & 131314894904 & 22 & 147.32 &  29.03 & 2021-07-07 06:44:00 & 2021-07-07 04:09:00+00:00 &  938.28 & 1\\\\\n",
       "\t JC3214717 & 131314577085 & 33 & 200.66 & 247.66 & 2021-07-25 13:24:00 & 2021-07-25 09:23:00+00:00 & 8640.00 & 1\\\\\n",
       "\t JC640050  & 131297661223 & 43 & 152.40 &  33.30 & 2020-11-11 21:33:00 & 2020-11-11 18:48:00+00:00 & 1280.00 & 2\\\\\n",
       "\t JC640050  & 131297661223 & 43 & 152.40 &  33.30 & 2020-11-11 21:33:00 & 2020-11-12 01:42:00+00:00 &  980.80 & 2\\\\\n",
       "\t JC640050  & 131299296444 & 43 & 152.40 &  33.30 & 2020-12-12 12:34:00 & 2020-12-12 09:33:00+00:00 & 1174.61 & 2\\\\\n",
       "\t JC640050  & 131299296444 & 43 & 152.40 &  33.30 & 2020-12-12 12:34:00 & 2020-12-12 13:44:00+00:00 & 1174.61 & 2\\\\\n",
       "\\end{tabular}\n"
      ],
      "text/markdown": [
       "\n",
       "A grouped_df: 24 × 9\n",
       "\n",
       "| anon_id &lt;chr&gt; | pat_enc_csn_id_coded &lt;dbl&gt; | age &lt;int&gt; | recent_height_cm &lt;dbl&gt; | recent_weight_kg &lt;dbl&gt; | admit_time &lt;chr&gt; | recorded_time &lt;chr&gt; | Weight &lt;dbl&gt; | nWe &lt;int&gt; |\n",
       "|---|---|---|---|---|---|---|---|---|\n",
       "| JC1163658 | 131294628948 | 83 | 144.80 |  46.90 | 2020-09-21 05:39:00 | 2020-09-20 23:57:00+00:00 | 1600.00 | 5 |\n",
       "| JC1163658 | 131294628948 | 83 | 144.80 |  46.90 | 2020-09-21 05:39:00 | 2020-09-21 07:15:00+00:00 | 1808.00 | 5 |\n",
       "| JC1163658 | 131294628948 | 83 | 144.80 |  46.90 | 2020-09-21 05:39:00 | 2020-09-28 07:15:00+00:00 | 1992.96 | 5 |\n",
       "| JC1163658 | 131294628948 | 83 | 144.80 |  46.90 | 2020-09-21 05:39:00 | 2020-09-28 10:00:00+00:00 |  864.00 | 5 |\n",
       "| JC1163658 | 131294628948 | 83 | 144.80 |  46.90 | 2020-09-21 05:39:00 | 2020-09-29 04:00:00+00:00 | 1985.90 | 5 |\n",
       "| JC1486806 | 131294824051 | 41 | 167.00 | 213.70 | 2020-09-23 01:15:00 | 2020-09-22 20:48:00+00:00 | 7866.01 | 7 |\n",
       "| JC1486806 | 131294824051 | 41 | 167.00 | 213.70 | 2020-09-23 01:15:00 | 2020-09-23 04:00:00+00:00 | 7442.73 | 7 |\n",
       "| JC1486806 | 131294824051 | 41 | 167.00 | 213.70 | 2020-09-23 01:15:00 | 2020-09-27 13:00:00+00:00 | 7347.49 | 7 |\n",
       "| JC1486806 | 131294824051 | 41 | 167.00 | 213.70 | 2020-09-23 01:15:00 | 2020-09-28 13:00:00+00:00 | 7326.33 | 7 |\n",
       "| JC1486806 | 131294824051 | 41 | 167.00 | 213.70 | 2020-09-23 01:15:00 | 2020-09-29 13:00:00+00:00 | 7824.00 | 7 |\n",
       "| JC1486806 | 131294824051 | 41 | 167.00 | 213.70 | 2020-09-23 01:15:00 | 2020-09-30 11:00:00+00:00 | 7824.00 | 7 |\n",
       "| JC1486806 | 131294824051 | 41 | 167.00 | 213.70 | 2020-09-23 01:15:00 | 2020-10-01 12:00:00+00:00 | 7904.00 | 7 |\n",
       "| JC1486806 | 131305386128 | 41 | 167.00 | 213.70 | 2021-03-14 10:09:00 | 2021-03-14 08:03:00+00:00 | 7883.65 | 6 |\n",
       "| JC1486806 | 131305386128 | 41 | 167.00 | 213.70 | 2021-03-14 10:09:00 | 2021-03-14 12:00:00+00:00 | 8108.80 | 6 |\n",
       "| JC1486806 | 131305386128 | 41 | 167.00 | 213.70 | 2021-03-14 10:09:00 | 2021-03-15 01:00:00+00:00 | 7971.83 | 6 |\n",
       "| JC1486806 | 131305386128 | 41 | 167.00 | 213.70 | 2021-03-14 10:09:00 | 2021-03-16 09:15:00+00:00 | 7866.01 | 6 |\n",
       "| JC1486806 | 131305386128 | 41 | 167.00 | 213.70 | 2021-03-14 10:09:00 | 2021-03-16 17:29:00+00:00 | 7866.01 | 6 |\n",
       "| JC1486806 | 131305386128 | 41 | 167.00 | 213.70 | 2021-03-14 10:09:00 | 2021-03-18 12:00:00+00:00 | 7537.97 | 6 |\n",
       "| JC2495489 | 131314894904 | 22 | 147.32 |  29.03 | 2021-07-07 06:44:00 | 2021-07-07 04:09:00+00:00 |  938.28 | 1 |\n",
       "| JC3214717 | 131314577085 | 33 | 200.66 | 247.66 | 2021-07-25 13:24:00 | 2021-07-25 09:23:00+00:00 | 8640.00 | 1 |\n",
       "| JC640050  | 131297661223 | 43 | 152.40 |  33.30 | 2020-11-11 21:33:00 | 2020-11-11 18:48:00+00:00 | 1280.00 | 2 |\n",
       "| JC640050  | 131297661223 | 43 | 152.40 |  33.30 | 2020-11-11 21:33:00 | 2020-11-12 01:42:00+00:00 |  980.80 | 2 |\n",
       "| JC640050  | 131299296444 | 43 | 152.40 |  33.30 | 2020-12-12 12:34:00 | 2020-12-12 09:33:00+00:00 | 1174.61 | 2 |\n",
       "| JC640050  | 131299296444 | 43 | 152.40 |  33.30 | 2020-12-12 12:34:00 | 2020-12-12 13:44:00+00:00 | 1174.61 | 2 |\n",
       "\n"
      ],
      "text/plain": [
       "   anon_id   pat_enc_csn_id_coded age recent_height_cm recent_weight_kg\n",
       "1  JC1163658 131294628948         83  144.80            46.90          \n",
       "2  JC1163658 131294628948         83  144.80            46.90          \n",
       "3  JC1163658 131294628948         83  144.80            46.90          \n",
       "4  JC1163658 131294628948         83  144.80            46.90          \n",
       "5  JC1163658 131294628948         83  144.80            46.90          \n",
       "6  JC1486806 131294824051         41  167.00           213.70          \n",
       "7  JC1486806 131294824051         41  167.00           213.70          \n",
       "8  JC1486806 131294824051         41  167.00           213.70          \n",
       "9  JC1486806 131294824051         41  167.00           213.70          \n",
       "10 JC1486806 131294824051         41  167.00           213.70          \n",
       "11 JC1486806 131294824051         41  167.00           213.70          \n",
       "12 JC1486806 131294824051         41  167.00           213.70          \n",
       "13 JC1486806 131305386128         41  167.00           213.70          \n",
       "14 JC1486806 131305386128         41  167.00           213.70          \n",
       "15 JC1486806 131305386128         41  167.00           213.70          \n",
       "16 JC1486806 131305386128         41  167.00           213.70          \n",
       "17 JC1486806 131305386128         41  167.00           213.70          \n",
       "18 JC1486806 131305386128         41  167.00           213.70          \n",
       "19 JC2495489 131314894904         22  147.32            29.03          \n",
       "20 JC3214717 131314577085         33  200.66           247.66          \n",
       "21 JC640050  131297661223         43  152.40            33.30          \n",
       "22 JC640050  131297661223         43  152.40            33.30          \n",
       "23 JC640050  131299296444         43  152.40            33.30          \n",
       "24 JC640050  131299296444         43  152.40            33.30          \n",
       "   admit_time          recorded_time             Weight  nWe\n",
       "1  2020-09-21 05:39:00 2020-09-20 23:57:00+00:00 1600.00 5  \n",
       "2  2020-09-21 05:39:00 2020-09-21 07:15:00+00:00 1808.00 5  \n",
       "3  2020-09-21 05:39:00 2020-09-28 07:15:00+00:00 1992.96 5  \n",
       "4  2020-09-21 05:39:00 2020-09-28 10:00:00+00:00  864.00 5  \n",
       "5  2020-09-21 05:39:00 2020-09-29 04:00:00+00:00 1985.90 5  \n",
       "6  2020-09-23 01:15:00 2020-09-22 20:48:00+00:00 7866.01 7  \n",
       "7  2020-09-23 01:15:00 2020-09-23 04:00:00+00:00 7442.73 7  \n",
       "8  2020-09-23 01:15:00 2020-09-27 13:00:00+00:00 7347.49 7  \n",
       "9  2020-09-23 01:15:00 2020-09-28 13:00:00+00:00 7326.33 7  \n",
       "10 2020-09-23 01:15:00 2020-09-29 13:00:00+00:00 7824.00 7  \n",
       "11 2020-09-23 01:15:00 2020-09-30 11:00:00+00:00 7824.00 7  \n",
       "12 2020-09-23 01:15:00 2020-10-01 12:00:00+00:00 7904.00 7  \n",
       "13 2021-03-14 10:09:00 2021-03-14 08:03:00+00:00 7883.65 6  \n",
       "14 2021-03-14 10:09:00 2021-03-14 12:00:00+00:00 8108.80 6  \n",
       "15 2021-03-14 10:09:00 2021-03-15 01:00:00+00:00 7971.83 6  \n",
       "16 2021-03-14 10:09:00 2021-03-16 09:15:00+00:00 7866.01 6  \n",
       "17 2021-03-14 10:09:00 2021-03-16 17:29:00+00:00 7866.01 6  \n",
       "18 2021-03-14 10:09:00 2021-03-18 12:00:00+00:00 7537.97 6  \n",
       "19 2021-07-07 06:44:00 2021-07-07 04:09:00+00:00  938.28 1  \n",
       "20 2021-07-25 13:24:00 2021-07-25 09:23:00+00:00 8640.00 1  \n",
       "21 2020-11-11 21:33:00 2020-11-11 18:48:00+00:00 1280.00 2  \n",
       "22 2020-11-11 21:33:00 2020-11-12 01:42:00+00:00  980.80 2  \n",
       "23 2020-12-12 12:34:00 2020-12-12 09:33:00+00:00 1174.61 2  \n",
       "24 2020-12-12 12:34:00 2020-12-12 13:44:00+00:00 1174.61 2  "
      ]
     },
     "metadata": {},
     "output_type": "display_data"
    }
   ],
   "source": [
    "# verify the above are errors! \n",
    "# look for possible valid values that are < 1000 or  > 8000 --> ok to remove all except JCd0500f of 987.66 might be valid\n",
    "eW2 <- non_dup_errorW %>% filter(Weight > 720, Weight < 12000) # within (720, 1000) & (8000, 12000)\n",
    "hw1 %>% filter(anon_id %in% eW2$anon_id, !is.na(Weight)) %>% \n",
    "        select(anon_id, pat_enc_csn_id_coded, age, recent_height_cm, recent_weight_kg, \n",
    "               admit_time, recorded_time, Weight, nWe) %>% arrange(anon_id, recorded_time)"
   ]
  },
  {
   "cell_type": "raw",
   "metadata": {},
   "source": [
    "hw1 %>% filter(anon_id %in% c('JCd0500f'), !is.na(Weight)) %>% \n",
    "        select(anon_id, pat_enc_csn_id_coded, age, recent_height_cm, recent_weight_kg, \n",
    "               admit_time, recorded_time, Weight, nWe, Wfsdmdif) %>% arrange(anon_id, recorded_time)"
   ]
  },
  {
   "cell_type": "markdown",
   "metadata": {},
   "source": [
    "#### Process Weight\n",
    "input `hw1`, output `w`\n",
    "- remove <720 and >12000\n",
    "- remove those with only 1 value in (<1000 and >8000) but have other values in [1000, 80000]\n",
    "- more difficult with Weights within 1000 and 8000 but have large differences:\n",
    "    - take the average of other weights of the same encounters but not the exact value at evaluation, *X(-i)* or *avg_Xself*\n",
    "    - get ratio different of self/average not self, *r_avg_Xself*\n",
    "    - if one value, take it (*avg_Xself* = NaN) --> `w1`\n",
    "    - if 2 values, take average (*r_avg_Xself* = 1) --> `w2`\n",
    "    - if 3 or more: get the first 3 closest to admit_time, then pick the one with *r_avg_Xself* closest to 1 --> `w3`"
   ]
  },
  {
   "cell_type": "raw",
   "metadata": {},
   "source": [
    "# additional rows with errors to be removed: these are patients with only 1 weight btwn(1000, 8000) and other more reasonable weights\n",
    "# do this, onyly if we want to keep this person. \n",
    "eW2 <- eW2 %>% filter(!anon_id == 'JCd0500f')"
   ]
  },
  {
   "cell_type": "raw",
   "metadata": {},
   "source": [
    "dt <- read.table(text = \"Number     Individual     Year     Value\n",
    "123        'M. Smith'       2010     234\n",
    "                 435        'M. Smith'       2011     346\n",
    "                 435        'M. Smith'       2012     356\n",
    "                 524        'M. Smith'       2015     432\n",
    "                 119        'J. Jones'       2010     345\n",
    "                 119        'J. Jones'       2012     432\n",
    "                 254        'J. Jones'       2013     453\n",
    "                 876        'J. Jones'       2014     654\",\n",
    "                 header = TRUE, stringsAsFactors = FALSE)\n",
    "\n",
    "dt %>% arrange(Individual, Year)\n",
    "\n",
    "dt %>% group_by(Individual) %>% arrange(Individual, Year) %>% slice(3L)\n",
    "\n",
    "# data.frame(mtcars[3:5,1:2]) %>% mutate(avg_not_self=(sum(mpg)-mpg)/(nrow(.)-1))"
   ]
  },
  {
   "cell_type": "code",
   "execution_count": 34,
   "metadata": {},
   "outputs": [
    {
     "data": {
      "text/html": [
       "17131"
      ],
      "text/latex": [
       "17131"
      ],
      "text/markdown": [
       "17131"
      ],
      "text/plain": [
       "[1] 17131"
      ]
     },
     "metadata": {},
     "output_type": "display_data"
    },
    {
     "data": {
      "text/html": [
       "17131"
      ],
      "text/latex": [
       "17131"
      ],
      "text/markdown": [
       "17131"
      ],
      "text/plain": [
       "[1] 17131"
      ]
     },
     "metadata": {},
     "output_type": "display_data"
    },
    {
     "name": "stderr",
     "output_type": "stream",
     "text": [
      "Joining, by = c(\"anon_id\", \"pat_enc_csn_id_coded\", \"admit_time\", \"recent_height_cm\", \"recent_weight_kg\", \"age\", \"recorded_time\", \"Weight\", \"Wfsdmdif\", \"nWe\")\n",
      "\n"
     ]
    },
    {
     "data": {
      "text/html": [
       "16315"
      ],
      "text/latex": [
       "16315"
      ],
      "text/markdown": [
       "16315"
      ],
      "text/plain": [
       "[1] 16315"
      ]
     },
     "metadata": {},
     "output_type": "display_data"
    },
    {
     "data": {
      "text/html": [
       "<style>\n",
       ".list-inline {list-style: none; margin:0; padding: 0}\n",
       ".list-inline>li {display: inline-block}\n",
       ".list-inline>li:not(:last-child)::after {content: \"\\00b7\"; padding: 0 .5ex}\n",
       "</style>\n",
       "<ol class=list-inline><li>'anon_id'</li><li>'pat_enc_csn_id_coded'</li><li>'admit_time_jittered'</li><li>'label'</li><li>'admit_time'</li><li>'adm_year'</li><li>'adm_month'</li><li>'inpatient_data_id_coded'</li><li>'ESI'</li><li>'gender'</li><li>'race'</li><li>'recent_height_cm'</li><li>'recent_weight_kg'</li><li>'insurance'</li><li>'age'</li><li>'English'</li><li>'recorded_time'</li><li>'Height'</li><li>'Weight'</li><li>'adredif'</li><li>'Hfsdmdif'</li><li>'Wfsdmdif'</li><li>'nWe'</li><li>'minWe'</li><li>'maxWe'</li><li>'rmaxWe'</li></ol>\n"
      ],
      "text/latex": [
       "\\begin{enumerate*}\n",
       "\\item 'anon\\_id'\n",
       "\\item 'pat\\_enc\\_csn\\_id\\_coded'\n",
       "\\item 'admit\\_time\\_jittered'\n",
       "\\item 'label'\n",
       "\\item 'admit\\_time'\n",
       "\\item 'adm\\_year'\n",
       "\\item 'adm\\_month'\n",
       "\\item 'inpatient\\_data\\_id\\_coded'\n",
       "\\item 'ESI'\n",
       "\\item 'gender'\n",
       "\\item 'race'\n",
       "\\item 'recent\\_height\\_cm'\n",
       "\\item 'recent\\_weight\\_kg'\n",
       "\\item 'insurance'\n",
       "\\item 'age'\n",
       "\\item 'English'\n",
       "\\item 'recorded\\_time'\n",
       "\\item 'Height'\n",
       "\\item 'Weight'\n",
       "\\item 'adredif'\n",
       "\\item 'Hfsdmdif'\n",
       "\\item 'Wfsdmdif'\n",
       "\\item 'nWe'\n",
       "\\item 'minWe'\n",
       "\\item 'maxWe'\n",
       "\\item 'rmaxWe'\n",
       "\\end{enumerate*}\n"
      ],
      "text/markdown": [
       "1. 'anon_id'\n",
       "2. 'pat_enc_csn_id_coded'\n",
       "3. 'admit_time_jittered'\n",
       "4. 'label'\n",
       "5. 'admit_time'\n",
       "6. 'adm_year'\n",
       "7. 'adm_month'\n",
       "8. 'inpatient_data_id_coded'\n",
       "9. 'ESI'\n",
       "10. 'gender'\n",
       "11. 'race'\n",
       "12. 'recent_height_cm'\n",
       "13. 'recent_weight_kg'\n",
       "14. 'insurance'\n",
       "15. 'age'\n",
       "16. 'English'\n",
       "17. 'recorded_time'\n",
       "18. 'Height'\n",
       "19. 'Weight'\n",
       "20. 'adredif'\n",
       "21. 'Hfsdmdif'\n",
       "22. 'Wfsdmdif'\n",
       "23. 'nWe'\n",
       "24. 'minWe'\n",
       "25. 'maxWe'\n",
       "26. 'rmaxWe'\n",
       "\n",
       "\n"
      ],
      "text/plain": [
       " [1] \"anon_id\"                 \"pat_enc_csn_id_coded\"   \n",
       " [3] \"admit_time_jittered\"     \"label\"                  \n",
       " [5] \"admit_time\"              \"adm_year\"               \n",
       " [7] \"adm_month\"               \"inpatient_data_id_coded\"\n",
       " [9] \"ESI\"                     \"gender\"                 \n",
       "[11] \"race\"                    \"recent_height_cm\"       \n",
       "[13] \"recent_weight_kg\"        \"insurance\"              \n",
       "[15] \"age\"                     \"English\"                \n",
       "[17] \"recorded_time\"           \"Height\"                 \n",
       "[19] \"Weight\"                  \"adredif\"                \n",
       "[21] \"Hfsdmdif\"                \"Wfsdmdif\"               \n",
       "[23] \"nWe\"                     \"minWe\"                  \n",
       "[25] \"maxWe\"                   \"rmaxWe\"                 "
      ]
     },
     "metadata": {},
     "output_type": "display_data"
    }
   ],
   "source": [
    "length(unique(cohort_demo$pat_enc_csn_id_coded)) #45796\n",
    "length(unique(hw1$pat_enc_csn_id_coded)) #45796\n",
    "\n",
    "# remove erroneous values and NAs first, retain only patients with possible valid Weight under flowsheet\n",
    "w <- hw1 %>% filter(Weight >= 720, Weight <= 12000, !is.na(Weight)) %>% anti_join(eW2)\n",
    "\n",
    "length(unique(w$pat_enc_csn_id_coded)) #43211 vs 43209\n",
    "colnames(w)"
   ]
  },
  {
   "cell_type": "code",
   "execution_count": 35,
   "metadata": {},
   "outputs": [
    {
     "data": {
      "text/plain": [
       "   anon_id          pat_enc_csn_id_coded inpatient_data_id_coded\n",
       " Length:64578       Min.   :1.313e+11    Min.   :51823319       \n",
       " Class :character   1st Qu.:1.313e+11    1st Qu.:56955957       \n",
       " Mode  :character   Median :1.313e+11    Median :61862157       \n",
       "                    Mean   :1.313e+11    Mean   :62164287       \n",
       "                    3rd Qu.:1.313e+11    3rd Qu.:67457466       \n",
       "                    Max.   :1.313e+11    Max.   :73231043       \n",
       "                                                                \n",
       "      age         recent_weight_kg  admit_time        recorded_time     \n",
       " Min.   : 18.00   Min.   : 26.76   Length:64578       Length:64578      \n",
       " 1st Qu.: 48.00   1st Qu.: 61.69   Class :character   Class :character  \n",
       " Median : 62.00   Median : 74.20   Mode  :character   Mode  :character  \n",
       " Mean   : 60.26   Mean   : 77.85                                        \n",
       " 3rd Qu.: 73.00   3rd Qu.: 89.90                                        \n",
       " Max.   :107.00   Max.   :342.46                                        \n",
       "                                                                        \n",
       "     Weight           Wfsdmdif            nWe             maxWe        \n",
       " Min.   :  857.1   Min.   :  0.000   Min.   :  1.00   Min.   :  899.5  \n",
       " 1st Qu.: 2208.1   1st Qu.:  1.300   1st Qu.:  3.00   1st Qu.: 2328.1  \n",
       " Median : 2645.5   Median :  3.700   Median :  6.00   Median : 2797.2  \n",
       " Mean   : 2786.8   Mean   :  5.702   Mean   : 11.81   Mean   : 2939.8  \n",
       " 3rd Qu.: 3199.3   3rd Qu.:  7.800   3rd Qu.: 13.00   3rd Qu.: 3360.0  \n",
       " Max.   :12000.0   Max.   :126.410   Max.   :171.00   Max.   :12000.0  \n",
       "                                                                       \n",
       "     rmaxWe        avg_Xself        r_avg_Xself   \n",
       " Min.   :1.000   Min.   :  878.6   Min.   :0.310  \n",
       " 1st Qu.:1.000   1st Qu.: 2220.1   1st Qu.:0.980  \n",
       " Median :1.030   Median : 2654.9   Median :1.000  \n",
       " Mean   :1.058   Mean   : 2791.5   Mean   :1.001  \n",
       " 3rd Qu.:1.070   3rd Qu.: 3195.4   3rd Qu.:1.020  \n",
       " Max.   :3.440   Max.   :11728.0   Max.   :2.500  \n",
       "                 NA's   :4834      NA's   :4834   "
      ]
     },
     "metadata": {},
     "output_type": "display_data"
    }
   ],
   "source": [
    "# within the same patients, same encounters:\n",
    "# recalculate count/max/ratio of W to max W/ratio of W over average not self Weight... \n",
    "w <- w %>% select(anon_id, pat_enc_csn_id_coded, inpatient_data_id_coded, age, recent_weight_kg, \n",
    "                  admit_time, recorded_time, Weight, Wfsdmdif) %>% \n",
    "            group_by(anon_id, pat_enc_csn_id_coded) %>% \n",
    "            mutate(nWe =length(Weight[!is.na(Weight)]), maxWe = max(Weight, na.rm=TRUE), rmaxWe = round(maxWe/Weight, 2), \n",
    "                   avg_Xself= round((sum(Weight)-Weight)/(nWe-1),2),\n",
    "                   r_avg_Xself= round(Weight/avg_Xself, 2)) %>%\n",
    "#             mutate(d_avg_Xself = ifelse(is.na(d_avg_Xself), 1, d_avg_Xself)) %>%\n",
    "            arrange(anon_id, pat_enc_csn_id_coded, r_avg_Xself)\n",
    "summary(w)"
   ]
  },
  {
   "cell_type": "code",
   "execution_count": 36,
   "metadata": {},
   "outputs": [
    {
     "data": {
      "image/png": "[encoded data removed]",
      "text/plain": [
       "Plot with title “Histogram of w$r_avg_Xself”"
      ]
     },
     "metadata": {
      "image/png": {
       "height": 420,
       "width": 420
      }
     },
     "output_type": "display_data"
    }
   ],
   "source": [
    "hist(w$r_avg_Xself, xlim=c(0.8, 1.2), breaks=100)"
   ]
  },
  {
   "cell_type": "code",
   "execution_count": 37,
   "metadata": {},
   "outputs": [
    {
     "data": {
      "text/html": [
       "4834"
      ],
      "text/latex": [
       "4834"
      ],
      "text/markdown": [
       "4834"
      ],
      "text/plain": [
       "[1] 4834"
      ]
     },
     "metadata": {},
     "output_type": "display_data"
    },
    {
     "data": {
      "text/html": [
       "4834"
      ],
      "text/latex": [
       "4834"
      ],
      "text/markdown": [
       "4834"
      ],
      "text/plain": [
       "[1] 4834"
      ]
     },
     "metadata": {},
     "output_type": "display_data"
    },
    {
     "data": {
      "text/html": [
       "4157"
      ],
      "text/latex": [
       "4157"
      ],
      "text/markdown": [
       "4157"
      ],
      "text/plain": [
       "[1] 4157"
      ]
     },
     "metadata": {},
     "output_type": "display_data"
    },
    {
     "data": {
      "text/html": [
       "4157"
      ],
      "text/latex": [
       "4157"
      ],
      "text/markdown": [
       "4157"
      ],
      "text/plain": [
       "[1] 4157"
      ]
     },
     "metadata": {},
     "output_type": "display_data"
    },
    {
     "data": {
      "text/html": [
       "7324"
      ],
      "text/latex": [
       "7324"
      ],
      "text/markdown": [
       "7324"
      ],
      "text/plain": [
       "[1] 7324"
      ]
     },
     "metadata": {},
     "output_type": "display_data"
    },
    {
     "data": {
      "text/html": [
       "7324"
      ],
      "text/latex": [
       "7324"
      ],
      "text/markdown": [
       "7324"
      ],
      "text/plain": [
       "[1] 7324"
      ]
     },
     "metadata": {},
     "output_type": "display_data"
    }
   ],
   "source": [
    "# extract Weights depending on scenarios of how many available Weights per encounters\n",
    "w1 <- w %>% filter(nWe == 1)\n",
    "w2 <- w %>% filter(nWe == 2) %>% group_by(anon_id, pat_enc_csn_id_coded) %>% mutate(Weight = mean(Weight)) %>% # no NA here\n",
    "        arrange(anon_id, pat_enc_csn_id_coded, Weight) %>% slice(1L) # take one if both are the same\n",
    "w3 <- w %>% filter(nWe > 2) %>% arrange(anon_id, pat_enc_csn_id_coded, recorded_time) %>% slice(1:3) %>%\n",
    "        mutate(d1 = abs(r_avg_Xself-1)) %>% # difference of r_avg_Xself to 1, from either sides\n",
    "        arrange(anon_id, pat_enc_csn_id_coded, d1) %>% slice(1L) # take the first closest to 1\n",
    "\n",
    "nrow(w1) #12004 vs 12002\n",
    "length(unique(w1$pat_enc_csn_id_coded))\n",
    "nrow(w2) #9897\n",
    "nrow(w %>% filter(nWe == 2) %>% distinct(pat_enc_csn_id_coded))\n",
    "nrow(w3) #21310\n",
    "nrow(w %>% filter(nWe > 2) %>% distinct(pat_enc_csn_id_coded))"
   ]
  },
  {
   "cell_type": "code",
   "execution_count": 38,
   "metadata": {},
   "outputs": [
    {
     "data": {
      "text/html": [
       "16315"
      ],
      "text/latex": [
       "16315"
      ],
      "text/markdown": [
       "16315"
      ],
      "text/plain": [
       "[1] 16315"
      ]
     },
     "metadata": {},
     "output_type": "display_data"
    },
    {
     "name": "stderr",
     "output_type": "stream",
     "text": [
      "Joining, by = c(\"anon_id\", \"pat_enc_csn_id_coded\", \"inpatient_data_id_coded\", \"age\", \"recent_weight_kg\", \"admit_time\", \"recorded_time\", \"Weight\", \"Wfsdmdif\", \"nWe\", \"maxWe\", \"rmaxWe\", \"avg_Xself\", \"r_avg_Xself\")\n",
      "\n",
      "Joining, by = c(\"anon_id\", \"pat_enc_csn_id_coded\", \"inpatient_data_id_coded\", \"age\", \"recent_weight_kg\", \"admit_time\", \"recorded_time\", \"Weight\", \"Wfsdmdif\", \"nWe\", \"maxWe\", \"rmaxWe\", \"avg_Xself\", \"r_avg_Xself\")\n",
      "\n"
     ]
    },
    {
     "data": {
      "text/html": [
       "16315"
      ],
      "text/latex": [
       "16315"
      ],
      "text/markdown": [
       "16315"
      ],
      "text/plain": [
       "[1] 16315"
      ]
     },
     "metadata": {},
     "output_type": "display_data"
    },
    {
     "data": {
      "text/html": [
       "16315"
      ],
      "text/latex": [
       "16315"
      ],
      "text/markdown": [
       "16315"
      ],
      "text/plain": [
       "[1] 16315"
      ]
     },
     "metadata": {},
     "output_type": "display_data"
    }
   ],
   "source": [
    "nrow(w1) + nrow(w2) + nrow(w3) #43211 vs 43209\n",
    "combinedW <- full_join(w1, w2) %>% full_join (w3)\n",
    "nrow(combinedW)\n",
    "length(unique(combinedW$pat_enc_csn_id_coded))"
   ]
  },
  {
   "cell_type": "raw",
   "metadata": {},
   "source": [
    "# sanity check, this patient has 2 first possible erroneous values\n",
    "w %>% filter(anon_id =='JCdcc100', pat_enc_csn_id_coded== 131265384824) %>% group_by(pat_enc_csn_id_coded) %>% \n",
    "        select(Weight, nWe, recorded_time, admit_time, avg_Xself, r_avg_Xself) %>% arrange(recorded_time)\n",
    "combinedW %>% filter(anon_id =='JCdcc100', pat_enc_csn_id_coded== 131265384824) %>% group_by(pat_enc_csn_id_coded) %>% \n",
    "        select(Weight, nWe, recorded_time, admit_time, avg_Xself, r_avg_Xself) %>% arrange(recorded_time)"
   ]
  },
  {
   "cell_type": "code",
   "execution_count": 40,
   "metadata": {},
   "outputs": [
    {
     "data": {
      "text/html": [
       "17100"
      ],
      "text/latex": [
       "17100"
      ],
      "text/markdown": [
       "17100"
      ],
      "text/plain": [
       "[1] 17100"
      ]
     },
     "metadata": {},
     "output_type": "display_data"
    },
    {
     "data": {
      "text/html": [
       "16315"
      ],
      "text/latex": [
       "16315"
      ],
      "text/markdown": [
       "16315"
      ],
      "text/plain": [
       "[1] 16315"
      ]
     },
     "metadata": {},
     "output_type": "display_data"
    },
    {
     "data": {
      "text/html": [
       "1"
      ],
      "text/latex": [
       "1"
      ],
      "text/markdown": [
       "1"
      ],
      "text/plain": [
       "[1] 1"
      ]
     },
     "metadata": {},
     "output_type": "display_data"
    },
    {
     "data": {
      "text/html": [
       "786"
      ],
      "text/latex": [
       "786"
      ],
      "text/markdown": [
       "786"
      ],
      "text/plain": [
       "[1] 786"
      ]
     },
     "metadata": {},
     "output_type": "display_data"
    }
   ],
   "source": [
    "# remove invalid weight in demo, compare counts, will not use this for merging as it remove patients from the cohort_demo\n",
    "# no invalid recent_weight, only NA\n",
    "w_recent <- cohort_demo %>% filter(recent_weight_kg >= 720*oz_2_kg, recent_weight_kg <= 12000*oz_2_kg, !is.na(recent_weight_kg))\n",
    "\n",
    "length(unique(w_recent$pat_enc_csn_id_coded)) #45482\n",
    "length(unique(combinedW$pat_enc_csn_id_coded)) #43211\n",
    "\n",
    "# patients with w from flowsheet but no valid recent_weight\n",
    "nrow(anti_join(combinedW, w_recent, by=c(\"pat_enc_csn_id_coded\"))) #46\n",
    "\n",
    "# patients NO w from flowsheet but valid recent_weight\n",
    "nrow(anti_join(w_recent, combinedW, by=c(\"pat_enc_csn_id_coded\"))) #2317"
   ]
  },
  {
   "cell_type": "markdown",
   "metadata": {},
   "source": [
    "### Combine Height and Weight with demogrpahic table\n",
    "- Weight in kg and Height in cm\n",
    "- Combine valid H&W dataframes from flowsheet\n",
    "- Merge with original cohort_demo to make sure we have all cohort\n",
    "- Replace errorneous values in cohort_demo as NA\n",
    "    - Height < 45 * in_2_cm & >  90 * in_2_cm --> NA\n",
    "    - Weight < 720 * oz_2_kg & > 12000 * oz_2_kg --> NA\n",
    "- If no H&W in flowsheet, use the one from demographics (recent H&W)"
   ]
  },
  {
   "cell_type": "code",
   "execution_count": 41,
   "metadata": {},
   "outputs": [
    {
     "data": {
      "text/html": [
       "3110"
      ],
      "text/latex": [
       "3110"
      ],
      "text/markdown": [
       "3110"
      ],
      "text/plain": [
       "[1] 3110"
      ]
     },
     "metadata": {},
     "output_type": "display_data"
    },
    {
     "data": {
      "text/html": [
       "12613"
      ],
      "text/latex": [
       "12613"
      ],
      "text/markdown": [
       "12613"
      ],
      "text/plain": [
       "[1] 12613"
      ]
     },
     "metadata": {},
     "output_type": "display_data"
    },
    {
     "data": {
      "text/html": [
       "<style>\n",
       ".list-inline {list-style: none; margin:0; padding: 0}\n",
       ".list-inline>li {display: inline-block}\n",
       ".list-inline>li:not(:last-child)::after {content: \"\\00b7\"; padding: 0 .5ex}\n",
       "</style>\n",
       "<ol class=list-inline><li>'anon_id'</li><li>'pat_enc_csn_id_coded'</li><li>'admit_time_jittered'</li><li>'label'</li><li>'admit_time'</li><li>'adm_year'</li><li>'adm_month'</li><li>'inpatient_data_id_coded'</li><li>'ESI'</li><li>'gender'</li><li>'race'</li><li>'recent_height_cm'</li><li>'recent_weight_kg'</li><li>'insurance'</li><li>'age'</li><li>'English'</li><li>'recorded_time'</li><li>'Height'</li><li>'Weight'</li><li>'adredif'</li><li>'Hfsdmdif'</li><li>'Wfsdmdif'</li><li>'nWe'</li><li>'minWe'</li><li>'maxWe'</li><li>'rmaxWe'</li></ol>\n"
      ],
      "text/latex": [
       "\\begin{enumerate*}\n",
       "\\item 'anon\\_id'\n",
       "\\item 'pat\\_enc\\_csn\\_id\\_coded'\n",
       "\\item 'admit\\_time\\_jittered'\n",
       "\\item 'label'\n",
       "\\item 'admit\\_time'\n",
       "\\item 'adm\\_year'\n",
       "\\item 'adm\\_month'\n",
       "\\item 'inpatient\\_data\\_id\\_coded'\n",
       "\\item 'ESI'\n",
       "\\item 'gender'\n",
       "\\item 'race'\n",
       "\\item 'recent\\_height\\_cm'\n",
       "\\item 'recent\\_weight\\_kg'\n",
       "\\item 'insurance'\n",
       "\\item 'age'\n",
       "\\item 'English'\n",
       "\\item 'recorded\\_time'\n",
       "\\item 'Height'\n",
       "\\item 'Weight'\n",
       "\\item 'adredif'\n",
       "\\item 'Hfsdmdif'\n",
       "\\item 'Wfsdmdif'\n",
       "\\item 'nWe'\n",
       "\\item 'minWe'\n",
       "\\item 'maxWe'\n",
       "\\item 'rmaxWe'\n",
       "\\end{enumerate*}\n"
      ],
      "text/markdown": [
       "1. 'anon_id'\n",
       "2. 'pat_enc_csn_id_coded'\n",
       "3. 'admit_time_jittered'\n",
       "4. 'label'\n",
       "5. 'admit_time'\n",
       "6. 'adm_year'\n",
       "7. 'adm_month'\n",
       "8. 'inpatient_data_id_coded'\n",
       "9. 'ESI'\n",
       "10. 'gender'\n",
       "11. 'race'\n",
       "12. 'recent_height_cm'\n",
       "13. 'recent_weight_kg'\n",
       "14. 'insurance'\n",
       "15. 'age'\n",
       "16. 'English'\n",
       "17. 'recorded_time'\n",
       "18. 'Height'\n",
       "19. 'Weight'\n",
       "20. 'adredif'\n",
       "21. 'Hfsdmdif'\n",
       "22. 'Wfsdmdif'\n",
       "23. 'nWe'\n",
       "24. 'minWe'\n",
       "25. 'maxWe'\n",
       "26. 'rmaxWe'\n",
       "\n",
       "\n"
      ],
      "text/plain": [
       " [1] \"anon_id\"                 \"pat_enc_csn_id_coded\"   \n",
       " [3] \"admit_time_jittered\"     \"label\"                  \n",
       " [5] \"admit_time\"              \"adm_year\"               \n",
       " [7] \"adm_month\"               \"inpatient_data_id_coded\"\n",
       " [9] \"ESI\"                     \"gender\"                 \n",
       "[11] \"race\"                    \"recent_height_cm\"       \n",
       "[13] \"recent_weight_kg\"        \"insurance\"              \n",
       "[15] \"age\"                     \"English\"                \n",
       "[17] \"recorded_time\"           \"Height\"                 \n",
       "[19] \"Weight\"                  \"adredif\"                \n",
       "[21] \"Hfsdmdif\"                \"Wfsdmdif\"               \n",
       "[23] \"nWe\"                     \"minWe\"                  \n",
       "[25] \"maxWe\"                   \"rmaxWe\"                 "
      ]
     },
     "metadata": {},
     "output_type": "display_data"
    },
    {
     "data": {
      "text/html": [
       "468"
      ],
      "text/latex": [
       "468"
      ],
      "text/markdown": [
       "468"
      ],
      "text/plain": [
       "[1] 468"
      ]
     },
     "metadata": {},
     "output_type": "display_data"
    },
    {
     "data": {
      "text/html": [
       "17100"
      ],
      "text/latex": [
       "17100"
      ],
      "text/markdown": [
       "17100"
      ],
      "text/plain": [
       "[1] 17100"
      ]
     },
     "metadata": {},
     "output_type": "display_data"
    },
    {
     "data": {
      "text/html": [
       "<style>\n",
       ".list-inline {list-style: none; margin:0; padding: 0}\n",
       ".list-inline>li {display: inline-block}\n",
       ".list-inline>li:not(:last-child)::after {content: \"\\00b7\"; padding: 0 .5ex}\n",
       "</style>\n",
       "<ol class=list-inline><li>'anon_id'</li><li>'pat_enc_csn_id_coded'</li><li>'inpatient_data_id_coded'</li><li>'age'</li><li>'recent_weight_kg'</li><li>'admit_time'</li><li>'recorded_time'</li><li>'Weight'</li><li>'Wfsdmdif'</li><li>'nWe'</li><li>'maxWe'</li><li>'rmaxWe'</li><li>'avg_Xself'</li><li>'r_avg_Xself'</li><li>'d1'</li></ol>\n"
      ],
      "text/latex": [
       "\\begin{enumerate*}\n",
       "\\item 'anon\\_id'\n",
       "\\item 'pat\\_enc\\_csn\\_id\\_coded'\n",
       "\\item 'inpatient\\_data\\_id\\_coded'\n",
       "\\item 'age'\n",
       "\\item 'recent\\_weight\\_kg'\n",
       "\\item 'admit\\_time'\n",
       "\\item 'recorded\\_time'\n",
       "\\item 'Weight'\n",
       "\\item 'Wfsdmdif'\n",
       "\\item 'nWe'\n",
       "\\item 'maxWe'\n",
       "\\item 'rmaxWe'\n",
       "\\item 'avg\\_Xself'\n",
       "\\item 'r\\_avg\\_Xself'\n",
       "\\item 'd1'\n",
       "\\end{enumerate*}\n"
      ],
      "text/markdown": [
       "1. 'anon_id'\n",
       "2. 'pat_enc_csn_id_coded'\n",
       "3. 'inpatient_data_id_coded'\n",
       "4. 'age'\n",
       "5. 'recent_weight_kg'\n",
       "6. 'admit_time'\n",
       "7. 'recorded_time'\n",
       "8. 'Weight'\n",
       "9. 'Wfsdmdif'\n",
       "10. 'nWe'\n",
       "11. 'maxWe'\n",
       "12. 'rmaxWe'\n",
       "13. 'avg_Xself'\n",
       "14. 'r_avg_Xself'\n",
       "15. 'd1'\n",
       "\n",
       "\n"
      ],
      "text/plain": [
       " [1] \"anon_id\"                 \"pat_enc_csn_id_coded\"   \n",
       " [3] \"inpatient_data_id_coded\" \"age\"                    \n",
       " [5] \"recent_weight_kg\"        \"admit_time\"             \n",
       " [7] \"recorded_time\"           \"Weight\"                 \n",
       " [9] \"Wfsdmdif\"                \"nWe\"                    \n",
       "[11] \"maxWe\"                   \"rmaxWe\"                 \n",
       "[13] \"avg_Xself\"               \"r_avg_Xself\"            \n",
       "[15] \"d1\"                     "
      ]
     },
     "metadata": {},
     "output_type": "display_data"
    }
   ],
   "source": [
    "# patients NO h from flowsheet but valid recent_height\n",
    "nrow(anti_join(h_recent, h, by=c(\"anon_id\"))) #6270 vs 6268\n",
    "length(unique(h_recent$anon_id)) #30139 vs 30136\n",
    "colnames(h)\n",
    "\n",
    "# patients NO w from flowsheet but valid recent_weight\n",
    "nrow(anti_join(w_recent, combinedW, by=c(\"anon_id\"))) #1342\n",
    "length(unique(w_recent$pat_enc_csn_id_coded)) #45482\n",
    "colnames(combinedW)"
   ]
  },
  {
   "cell_type": "code",
   "execution_count": 42,
   "metadata": {},
   "outputs": [
    {
     "name": "stderr",
     "output_type": "stream",
     "text": [
      "Joining, by = c(\"anon_id\", \"pat_enc_csn_id_coded\")\n",
      "\n"
     ]
    },
    {
     "data": {
      "text/html": [
       "16403"
      ],
      "text/latex": [
       "16403"
      ],
      "text/markdown": [
       "16403"
      ],
      "text/plain": [
       "[1] 16403"
      ]
     },
     "metadata": {},
     "output_type": "display_data"
    },
    {
     "data": {
      "text/html": [
       "16403"
      ],
      "text/latex": [
       "16403"
      ],
      "text/markdown": [
       "16403"
      ],
      "text/plain": [
       "[1] 16403"
      ]
     },
     "metadata": {},
     "output_type": "display_data"
    }
   ],
   "source": [
    "# combine valid H&W from flowsheet\n",
    "fsH <- h %>% select(anon_id, pat_enc_csn_id_coded, inpatient_data_id_coded, Height)\n",
    "fsW <- combinedW %>% select(anon_id, pat_enc_csn_id_coded, Weight)\n",
    "\n",
    "fsHW <- full_join(fsH, fsW)\n",
    "nrow(fsHW) #43462\n",
    "length(unique(fsHW$pat_enc_csn_id_coded)) #43462"
   ]
  },
  {
   "cell_type": "code",
   "execution_count": 43,
   "metadata": {},
   "outputs": [
    {
     "data": {
      "text/html": [
       "17131"
      ],
      "text/latex": [
       "17131"
      ],
      "text/markdown": [
       "17131"
      ],
      "text/plain": [
       "[1] 17131"
      ]
     },
     "metadata": {},
     "output_type": "display_data"
    },
    {
     "data": {
      "text/html": [
       "12993"
      ],
      "text/latex": [
       "12993"
      ],
      "text/markdown": [
       "12993"
      ],
      "text/plain": [
       "[1] 12993"
      ]
     },
     "metadata": {},
     "output_type": "display_data"
    },
    {
     "data": {
      "text/html": [
       "17131"
      ],
      "text/latex": [
       "17131"
      ],
      "text/markdown": [
       "17131"
      ],
      "text/plain": [
       "[1] 17131"
      ]
     },
     "metadata": {},
     "output_type": "display_data"
    },
    {
     "data": {
      "text/plain": [
       " recent_height_cm recent_weight_kg\n",
       " Min.   :113.0    Min.   : 26.76  \n",
       " 1st Qu.:160.0    1st Qu.: 61.23  \n",
       " Median :167.6    Median : 74.00  \n",
       " Mean   :168.0    Mean   : 77.21  \n",
       " 3rd Qu.:175.3    3rd Qu.: 88.50  \n",
       " Max.   :213.4    Max.   :342.46  \n",
       " NA's   :387      NA's   :30      "
      ]
     },
     "metadata": {},
     "output_type": "display_data"
    },
    {
     "data": {
      "text/html": [
       "1"
      ],
      "text/latex": [
       "1"
      ],
      "text/markdown": [
       "1"
      ],
      "text/plain": [
       "[1] 1"
      ]
     },
     "metadata": {},
     "output_type": "display_data"
    },
    {
     "data": {
      "text/html": [
       "1"
      ],
      "text/latex": [
       "1"
      ],
      "text/markdown": [
       "1"
      ],
      "text/plain": [
       "[1] 1"
      ]
     },
     "metadata": {},
     "output_type": "display_data"
    },
    {
     "data": {
      "text/plain": [
       " recent_height_cm recent_weight_kg\n",
       " Min.   :114.8    Min.   : 26.76  \n",
       " 1st Qu.:160.0    1st Qu.: 61.23  \n",
       " Median :167.6    Median : 74.00  \n",
       " Mean   :168.0    Mean   : 77.20  \n",
       " 3rd Qu.:175.3    3rd Qu.: 88.50  \n",
       " Max.   :213.4    Max.   :321.00  \n",
       " NA's   :388      NA's   :31      "
      ]
     },
     "metadata": {},
     "output_type": "display_data"
    },
    {
     "data": {
      "text/html": [
       "0"
      ],
      "text/latex": [
       "0"
      ],
      "text/markdown": [
       "0"
      ],
      "text/plain": [
       "[1] 0"
      ]
     },
     "metadata": {},
     "output_type": "display_data"
    },
    {
     "data": {
      "text/html": [
       "<style>\n",
       ".list-inline {list-style: none; margin:0; padding: 0}\n",
       ".list-inline>li {display: inline-block}\n",
       ".list-inline>li:not(:last-child)::after {content: \"\\00b7\"; padding: 0 .5ex}\n",
       "</style>\n",
       "<ol class=list-inline><li>'anon_id'</li><li>'pat_enc_csn_id_coded'</li><li>'inpatient_data_id_coded'</li><li>'Height'</li><li>'Weight'</li></ol>\n"
      ],
      "text/latex": [
       "\\begin{enumerate*}\n",
       "\\item 'anon\\_id'\n",
       "\\item 'pat\\_enc\\_csn\\_id\\_coded'\n",
       "\\item 'inpatient\\_data\\_id\\_coded'\n",
       "\\item 'Height'\n",
       "\\item 'Weight'\n",
       "\\end{enumerate*}\n"
      ],
      "text/markdown": [
       "1. 'anon_id'\n",
       "2. 'pat_enc_csn_id_coded'\n",
       "3. 'inpatient_data_id_coded'\n",
       "4. 'Height'\n",
       "5. 'Weight'\n",
       "\n",
       "\n"
      ],
      "text/plain": [
       "[1] \"anon_id\"                 \"pat_enc_csn_id_coded\"   \n",
       "[3] \"inpatient_data_id_coded\" \"Height\"                 \n",
       "[5] \"Weight\"                 "
      ]
     },
     "metadata": {},
     "output_type": "display_data"
    },
    {
     "data": {
      "text/html": [
       "<style>\n",
       ".list-inline {list-style: none; margin:0; padding: 0}\n",
       ".list-inline>li {display: inline-block}\n",
       ".list-inline>li:not(:last-child)::after {content: \"\\00b7\"; padding: 0 .5ex}\n",
       "</style>\n",
       "<ol class=list-inline><li>'anon_id'</li><li>'pat_enc_csn_id_coded'</li><li>'admit_time_jittered'</li><li>'label'</li><li>'admit_time'</li><li>'adm_year'</li><li>'adm_month'</li><li>'inpatient_data_id_coded'</li><li>'ESI'</li><li>'gender'</li><li>'race'</li><li>'recent_height_cm'</li><li>'recent_weight_kg'</li><li>'insurance'</li><li>'age'</li><li>'English'</li></ol>\n"
      ],
      "text/latex": [
       "\\begin{enumerate*}\n",
       "\\item 'anon\\_id'\n",
       "\\item 'pat\\_enc\\_csn\\_id\\_coded'\n",
       "\\item 'admit\\_time\\_jittered'\n",
       "\\item 'label'\n",
       "\\item 'admit\\_time'\n",
       "\\item 'adm\\_year'\n",
       "\\item 'adm\\_month'\n",
       "\\item 'inpatient\\_data\\_id\\_coded'\n",
       "\\item 'ESI'\n",
       "\\item 'gender'\n",
       "\\item 'race'\n",
       "\\item 'recent\\_height\\_cm'\n",
       "\\item 'recent\\_weight\\_kg'\n",
       "\\item 'insurance'\n",
       "\\item 'age'\n",
       "\\item 'English'\n",
       "\\end{enumerate*}\n"
      ],
      "text/markdown": [
       "1. 'anon_id'\n",
       "2. 'pat_enc_csn_id_coded'\n",
       "3. 'admit_time_jittered'\n",
       "4. 'label'\n",
       "5. 'admit_time'\n",
       "6. 'adm_year'\n",
       "7. 'adm_month'\n",
       "8. 'inpatient_data_id_coded'\n",
       "9. 'ESI'\n",
       "10. 'gender'\n",
       "11. 'race'\n",
       "12. 'recent_height_cm'\n",
       "13. 'recent_weight_kg'\n",
       "14. 'insurance'\n",
       "15. 'age'\n",
       "16. 'English'\n",
       "\n",
       "\n"
      ],
      "text/plain": [
       " [1] \"anon_id\"                 \"pat_enc_csn_id_coded\"   \n",
       " [3] \"admit_time_jittered\"     \"label\"                  \n",
       " [5] \"admit_time\"              \"adm_year\"               \n",
       " [7] \"adm_month\"               \"inpatient_data_id_coded\"\n",
       " [9] \"ESI\"                     \"gender\"                 \n",
       "[11] \"race\"                    \"recent_height_cm\"       \n",
       "[13] \"recent_weight_kg\"        \"insurance\"              \n",
       "[15] \"age\"                     \"English\"                "
      ]
     },
     "metadata": {},
     "output_type": "display_data"
    }
   ],
   "source": [
    "# check cohort_demo, with H and W already removed erroneous values\n",
    "# cohort_demo <- read.csv(file.path(featuredir, \"2_1_coh2_demo.csv\"))\n",
    "\n",
    "nrow(cohort_demo) #45794\n",
    "length(unique(cohort_demo$anon_id)) #31511\n",
    "length(unique(cohort_demo$pat_enc_csn_id_coded)) #45794\n",
    "\n",
    "summary(cohort_demo %>% select(recent_height_cm, recent_weight_kg))\n",
    "\n",
    "nrow(cohort_demo %>% filter(recent_height_cm < 45*in_2_cm | recent_height_cm >  90*in_2_cm)) #12\n",
    "nrow(cohort_demo %>% filter(recent_weight_kg < 720*oz_2_kg | recent_weight_kg > 12000*oz_2_kg)) #4\n",
    "\n",
    "# replace cohort_demo H&W with NA for the bad\n",
    "cohort_demo <- cohort_demo %>% mutate(recent_height_cm = ifelse(recent_height_cm < 45*in_2_cm | recent_height_cm > 90*in_2_cm, \n",
    "                                                     NA, recent_height_cm),\n",
    "                                      recent_weight_kg = ifelse(recent_weight_kg < 720*oz_2_kg | recent_weight_kg > 12000*oz_2_kg, \n",
    "                                                     NA, recent_weight_kg))\n",
    "\n",
    "summary(cohort_demo %>% select(recent_height_cm, recent_weight_kg))\n",
    "\n",
    "# patients in flowsheet but no matching in demographics: all fs are in cohort_demo\n",
    "nrow(anti_join(fsHW, cohort_demo, by=c(\"anon_id\", \"pat_enc_csn_id_coded\"))) #0\n",
    "colnames(fsHW)\n",
    "colnames(cohort_demo)"
   ]
  },
  {
   "cell_type": "code",
   "execution_count": 44,
   "metadata": {},
   "outputs": [
    {
     "name": "stderr",
     "output_type": "stream",
     "text": [
      "Joining, by = c(\"anon_id\", \"pat_enc_csn_id_coded\", \"inpatient_data_id_coded\")\n",
      "\n"
     ]
    },
    {
     "data": {
      "text/html": [
       "17131"
      ],
      "text/latex": [
       "17131"
      ],
      "text/markdown": [
       "17131"
      ],
      "text/plain": [
       "[1] 17131"
      ]
     },
     "metadata": {},
     "output_type": "display_data"
    },
    {
     "data": {
      "text/html": [
       "12993"
      ],
      "text/latex": [
       "12993"
      ],
      "text/markdown": [
       "12993"
      ],
      "text/plain": [
       "[1] 12993"
      ]
     },
     "metadata": {},
     "output_type": "display_data"
    },
    {
     "data": {
      "text/html": [
       "17131"
      ],
      "text/latex": [
       "17131"
      ],
      "text/markdown": [
       "17131"
      ],
      "text/plain": [
       "[1] 17131"
      ]
     },
     "metadata": {},
     "output_type": "display_data"
    },
    {
     "name": "stderr",
     "output_type": "stream",
     "text": [
      "Adding missing grouping variables: `anon_id`, `pat_enc_csn_id_coded`\n",
      "\n"
     ]
    },
    {
     "data": {
      "text/plain": [
       "   anon_id          pat_enc_csn_id_coded     Height          Weight      \n",
       " Length:17131       Min.   :1.313e+11    Min.   :115.0   Min.   : 25.00  \n",
       " Class :character   1st Qu.:1.313e+11    1st Qu.:160.0   1st Qu.: 61.87  \n",
       " Mode  :character   Median :1.313e+11    Median :168.0   Median : 74.00  \n",
       "                    Mean   :1.313e+11    Mean   :168.1   Mean   : 77.66  \n",
       "                    3rd Qu.:1.313e+11    3rd Qu.:175.3   3rd Qu.: 89.00  \n",
       "                    Max.   :1.313e+11    Max.   :213.0   Max.   :322.00  \n",
       "                                         NA's   :388     NA's   :30      \n",
       " recent_height_cm recent_weight_kg\n",
       " Min.   :114.8    Min.   : 26.76  \n",
       " 1st Qu.:160.0    1st Qu.: 61.23  \n",
       " Median :167.6    Median : 74.00  \n",
       " Mean   :168.0    Mean   : 77.20  \n",
       " 3rd Qu.:175.3    3rd Qu.: 88.50  \n",
       " Max.   :213.4    Max.   :321.00  \n",
       " NA's   :388      NA's   :31      "
      ]
     },
     "metadata": {},
     "output_type": "display_data"
    }
   ],
   "source": [
    "cohort_hw <- left_join(cohort_demo, fsHW) %>% \n",
    "                group_by(anon_id, pat_enc_csn_id_coded) %>%\n",
    "                mutate(Height = ifelse(is.na(Height), recent_height_cm, round(Height * in_2_cm, 0)),\n",
    "                       Weight = ifelse(is.na(Weight), recent_weight_kg, round(Weight * oz_2_kg, 0))) \n",
    "\n",
    "nrow(cohort_hw) #45794 last\n",
    "length(unique(cohort_hw$anon_id)) #31511\n",
    "length(unique(cohort_hw$pat_enc_csn_id_coded)) #45794\n",
    "\n",
    "# the distributions are pretty close. this is good. \n",
    "summary(cohort_hw %>% select(Height, Weight, recent_height_cm, recent_weight_kg))"
   ]
  },
  {
   "cell_type": "code",
   "execution_count": 45,
   "metadata": {},
   "outputs": [
    {
     "data": {
      "text/html": [
       "<table class=\"dataframe\">\n",
       "<caption>A grouped_df: 6 × 18</caption>\n",
       "<thead>\n",
       "\t<tr><th scope=col>anon_id</th><th scope=col>pat_enc_csn_id_coded</th><th scope=col>admit_time_jittered</th><th scope=col>label</th><th scope=col>admit_time</th><th scope=col>adm_year</th><th scope=col>adm_month</th><th scope=col>inpatient_data_id_coded</th><th scope=col>ESI</th><th scope=col>gender</th><th scope=col>race</th><th scope=col>recent_height_cm</th><th scope=col>recent_weight_kg</th><th scope=col>insurance</th><th scope=col>age</th><th scope=col>English</th><th scope=col>Height</th><th scope=col>Weight</th></tr>\n",
       "\t<tr><th scope=col>&lt;chr&gt;</th><th scope=col>&lt;dbl&gt;</th><th scope=col>&lt;chr&gt;</th><th scope=col>&lt;int&gt;</th><th scope=col>&lt;chr&gt;</th><th scope=col>&lt;int&gt;</th><th scope=col>&lt;int&gt;</th><th scope=col>&lt;int&gt;</th><th scope=col>&lt;int&gt;</th><th scope=col>&lt;chr&gt;</th><th scope=col>&lt;chr&gt;</th><th scope=col>&lt;dbl&gt;</th><th scope=col>&lt;dbl&gt;</th><th scope=col>&lt;int&gt;</th><th scope=col>&lt;int&gt;</th><th scope=col>&lt;int&gt;</th><th scope=col>&lt;dbl&gt;</th><th scope=col>&lt;dbl&gt;</th></tr>\n",
       "</thead>\n",
       "<tbody>\n",
       "\t<tr><td>JC1000116</td><td>131295313275</td><td>2020-09-29 22:45:00+00:00</td><td>0</td><td>2020-09-29 22:45:00</td><td>2020</td><td> 9</td><td>57868578</td><td>3</td><td>Female</td><td>Other</td><td>154.00</td><td> 73.05</td><td>1</td><td>44</td><td>0</td><td>154.00</td><td> 73.05</td></tr>\n",
       "\t<tr><td>JC1000939</td><td>131295018112</td><td>2020-08-22 11:41:00+00:00</td><td>1</td><td>2020-08-22 11:41:00</td><td>2020</td><td> 8</td><td>57698292</td><td>2</td><td>Female</td><td>Other</td><td>154.94</td><td>136.80</td><td>1</td><td>49</td><td>0</td><td>156.00</td><td>134.00</td></tr>\n",
       "\t<tr><td>JC1001580</td><td>131300665918</td><td>2020-12-29 04:15:00+00:00</td><td>0</td><td>2020-12-29 04:15:00</td><td>2020</td><td>12</td><td>61108864</td><td>3</td><td>Male  </td><td>White</td><td>187.96</td><td> 89.12</td><td>1</td><td>54</td><td>1</td><td>188.00</td><td> 89.00</td></tr>\n",
       "\t<tr><td>JC1001688</td><td>131288774622</td><td>2020-06-19 21:36:00+00:00</td><td>0</td><td>2020-06-19 21:36:00</td><td>2020</td><td> 6</td><td>53810016</td><td>3</td><td>Male  </td><td>Asian</td><td>205.74</td><td>163.29</td><td>0</td><td>37</td><td>1</td><td>206.00</td><td>163.00</td></tr>\n",
       "\t<tr><td>JC1001688</td><td>131302440087</td><td>2021-02-26 11:46:00+00:00</td><td>0</td><td>2021-02-26 11:46:00</td><td>2021</td><td> 2</td><td>62198093</td><td>3</td><td>Male  </td><td>Asian</td><td>205.74</td><td>163.29</td><td>0</td><td>37</td><td>1</td><td>205.74</td><td>163.29</td></tr>\n",
       "\t<tr><td>JC1001842</td><td>131305861173</td><td>2021-02-23 08:08:00+00:00</td><td>0</td><td>2021-02-23 08:08:00</td><td>2021</td><td> 2</td><td>64314745</td><td>3</td><td>Male  </td><td>Other</td><td>170.18</td><td> 63.50</td><td>1</td><td>20</td><td>1</td><td>170.18</td><td> 63.50</td></tr>\n",
       "</tbody>\n",
       "</table>\n"
      ],
      "text/latex": [
       "A grouped\\_df: 6 × 18\n",
       "\\begin{tabular}{llllllllllllllllll}\n",
       " anon\\_id & pat\\_enc\\_csn\\_id\\_coded & admit\\_time\\_jittered & label & admit\\_time & adm\\_year & adm\\_month & inpatient\\_data\\_id\\_coded & ESI & gender & race & recent\\_height\\_cm & recent\\_weight\\_kg & insurance & age & English & Height & Weight\\\\\n",
       " <chr> & <dbl> & <chr> & <int> & <chr> & <int> & <int> & <int> & <int> & <chr> & <chr> & <dbl> & <dbl> & <int> & <int> & <int> & <dbl> & <dbl>\\\\\n",
       "\\hline\n",
       "\t JC1000116 & 131295313275 & 2020-09-29 22:45:00+00:00 & 0 & 2020-09-29 22:45:00 & 2020 &  9 & 57868578 & 3 & Female & Other & 154.00 &  73.05 & 1 & 44 & 0 & 154.00 &  73.05\\\\\n",
       "\t JC1000939 & 131295018112 & 2020-08-22 11:41:00+00:00 & 1 & 2020-08-22 11:41:00 & 2020 &  8 & 57698292 & 2 & Female & Other & 154.94 & 136.80 & 1 & 49 & 0 & 156.00 & 134.00\\\\\n",
       "\t JC1001580 & 131300665918 & 2020-12-29 04:15:00+00:00 & 0 & 2020-12-29 04:15:00 & 2020 & 12 & 61108864 & 3 & Male   & White & 187.96 &  89.12 & 1 & 54 & 1 & 188.00 &  89.00\\\\\n",
       "\t JC1001688 & 131288774622 & 2020-06-19 21:36:00+00:00 & 0 & 2020-06-19 21:36:00 & 2020 &  6 & 53810016 & 3 & Male   & Asian & 205.74 & 163.29 & 0 & 37 & 1 & 206.00 & 163.00\\\\\n",
       "\t JC1001688 & 131302440087 & 2021-02-26 11:46:00+00:00 & 0 & 2021-02-26 11:46:00 & 2021 &  2 & 62198093 & 3 & Male   & Asian & 205.74 & 163.29 & 0 & 37 & 1 & 205.74 & 163.29\\\\\n",
       "\t JC1001842 & 131305861173 & 2021-02-23 08:08:00+00:00 & 0 & 2021-02-23 08:08:00 & 2021 &  2 & 64314745 & 3 & Male   & Other & 170.18 &  63.50 & 1 & 20 & 1 & 170.18 &  63.50\\\\\n",
       "\\end{tabular}\n"
      ],
      "text/markdown": [
       "\n",
       "A grouped_df: 6 × 18\n",
       "\n",
       "| anon_id &lt;chr&gt; | pat_enc_csn_id_coded &lt;dbl&gt; | admit_time_jittered &lt;chr&gt; | label &lt;int&gt; | admit_time &lt;chr&gt; | adm_year &lt;int&gt; | adm_month &lt;int&gt; | inpatient_data_id_coded &lt;int&gt; | ESI &lt;int&gt; | gender &lt;chr&gt; | race &lt;chr&gt; | recent_height_cm &lt;dbl&gt; | recent_weight_kg &lt;dbl&gt; | insurance &lt;int&gt; | age &lt;int&gt; | English &lt;int&gt; | Height &lt;dbl&gt; | Weight &lt;dbl&gt; |\n",
       "|---|---|---|---|---|---|---|---|---|---|---|---|---|---|---|---|---|---|\n",
       "| JC1000116 | 131295313275 | 2020-09-29 22:45:00+00:00 | 0 | 2020-09-29 22:45:00 | 2020 |  9 | 57868578 | 3 | Female | Other | 154.00 |  73.05 | 1 | 44 | 0 | 154.00 |  73.05 |\n",
       "| JC1000939 | 131295018112 | 2020-08-22 11:41:00+00:00 | 1 | 2020-08-22 11:41:00 | 2020 |  8 | 57698292 | 2 | Female | Other | 154.94 | 136.80 | 1 | 49 | 0 | 156.00 | 134.00 |\n",
       "| JC1001580 | 131300665918 | 2020-12-29 04:15:00+00:00 | 0 | 2020-12-29 04:15:00 | 2020 | 12 | 61108864 | 3 | Male   | White | 187.96 |  89.12 | 1 | 54 | 1 | 188.00 |  89.00 |\n",
       "| JC1001688 | 131288774622 | 2020-06-19 21:36:00+00:00 | 0 | 2020-06-19 21:36:00 | 2020 |  6 | 53810016 | 3 | Male   | Asian | 205.74 | 163.29 | 0 | 37 | 1 | 206.00 | 163.00 |\n",
       "| JC1001688 | 131302440087 | 2021-02-26 11:46:00+00:00 | 0 | 2021-02-26 11:46:00 | 2021 |  2 | 62198093 | 3 | Male   | Asian | 205.74 | 163.29 | 0 | 37 | 1 | 205.74 | 163.29 |\n",
       "| JC1001842 | 131305861173 | 2021-02-23 08:08:00+00:00 | 0 | 2021-02-23 08:08:00 | 2021 |  2 | 64314745 | 3 | Male   | Other | 170.18 |  63.50 | 1 | 20 | 1 | 170.18 |  63.50 |\n",
       "\n"
      ],
      "text/plain": [
       "  anon_id   pat_enc_csn_id_coded admit_time_jittered       label\n",
       "1 JC1000116 131295313275         2020-09-29 22:45:00+00:00 0    \n",
       "2 JC1000939 131295018112         2020-08-22 11:41:00+00:00 1    \n",
       "3 JC1001580 131300665918         2020-12-29 04:15:00+00:00 0    \n",
       "4 JC1001688 131288774622         2020-06-19 21:36:00+00:00 0    \n",
       "5 JC1001688 131302440087         2021-02-26 11:46:00+00:00 0    \n",
       "6 JC1001842 131305861173         2021-02-23 08:08:00+00:00 0    \n",
       "  admit_time          adm_year adm_month inpatient_data_id_coded ESI gender\n",
       "1 2020-09-29 22:45:00 2020      9        57868578                3   Female\n",
       "2 2020-08-22 11:41:00 2020      8        57698292                2   Female\n",
       "3 2020-12-29 04:15:00 2020     12        61108864                3   Male  \n",
       "4 2020-06-19 21:36:00 2020      6        53810016                3   Male  \n",
       "5 2021-02-26 11:46:00 2021      2        62198093                3   Male  \n",
       "6 2021-02-23 08:08:00 2021      2        64314745                3   Male  \n",
       "  race  recent_height_cm recent_weight_kg insurance age English Height Weight\n",
       "1 Other 154.00            73.05           1         44  0       154.00  73.05\n",
       "2 Other 154.94           136.80           1         49  0       156.00 134.00\n",
       "3 White 187.96            89.12           1         54  1       188.00  89.00\n",
       "4 Asian 205.74           163.29           0         37  1       206.00 163.00\n",
       "5 Asian 205.74           163.29           0         37  1       205.74 163.29\n",
       "6 Other 170.18            63.50           1         20  1       170.18  63.50"
      ]
     },
     "metadata": {},
     "output_type": "display_data"
    }
   ],
   "source": [
    "head(cohort_hw)"
   ]
  },
  {
   "cell_type": "code",
   "execution_count": 46,
   "metadata": {},
   "outputs": [],
   "source": [
    "# save file, this has all processed variables from demographics and processed HW from flowsheet\n",
    "# cohort_demoHW\n",
    "cohort_hw <- cohort_hw %>% select(-recent_height_cm, -recent_weight_kg)\n",
    "write.csv(cohort_hw, file.path(valdir, \"6_4_coh2_demoHW.csv\"), row.names=FALSE)"
   ]
  },
  {
   "cell_type": "code",
   "execution_count": null,
   "metadata": {},
   "outputs": [],
   "source": []
  }
 ],
 "metadata": {
  "environment": {
   "name": "r-cpu.4-0.m71",
   "type": "gcloud",
   "uri": "gcr.io/deeplearning-platform-release/r-cpu.4-0:m71"
  },
  "kernelspec": {
   "display_name": "R",
   "language": "R",
   "name": "ir"
  },
  "language_info": {
   "codemirror_mode": "r",
   "file_extension": ".r",
   "mimetype": "text/x-r-source",
   "name": "R",
   "pygments_lexer": "r",
   "version": "4.1.0"
  },
  "toc": {
   "base_numbering": 1,
   "nav_menu": {},
   "number_sections": true,
   "sideBar": true,
   "skip_h1_title": false,
   "title_cell": "Table of Contents",
   "title_sidebar": "Contents",
   "toc_cell": false,
   "toc_position": {},
   "toc_section_display": true,
   "toc_window_display": false
  },
  "varInspector": {
   "cols": {
    "lenName": 16,
    "lenType": 16,
    "lenVar": 40
   },
   "kernels_config": {
    "python": {
     "delete_cmd_postfix": "",
     "delete_cmd_prefix": "del ",
     "library": "var_list.py",
     "varRefreshCmd": "print(var_dic_list())"
    },
    "r": {
     "delete_cmd_postfix": ") ",
     "delete_cmd_prefix": "rm(",
     "library": "var_list.r",
     "varRefreshCmd": "cat(var_dic_list()) "
    }
   },
   "types_to_exclude": [
    "module",
    "function",
    "builtin_function_or_method",
    "instance",
    "_Feature"
   ],
   "window_display": false
  }
 },
 "nbformat": 4,
 "nbformat_minor": 4
}
