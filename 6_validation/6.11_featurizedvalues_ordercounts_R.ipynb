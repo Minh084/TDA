{
 "cells": [
  {
   "cell_type": "markdown",
   "metadata": {},
   "source": [
    "### Description:\n",
    "- Read in the decile-binned values of labs and vitals\n",
    "- Read in the data `coh4_order_code_counts` from sql order counts, combine Microbiology Culture with Microbiology \n",
    "- Combine this featurized data for full complex data modeling\n",
    "- Create a smaller random sample for testing \n",
    "    \n",
    "**Inputs**: \n",
    "- `6_10_coh4_binned_labs_vitals_train`: from feature_values, binned into deciles, 2015 - 03/2020\n",
    "- `6_10_coh4_binned_labs_vitals_test`: 2015 - 03/2020 + 04/2020 - 2021\n",
    "- `coh4_order_code_counts` and `coh4_order_code_counts_2021`: (from SQL) queried counts for different orders\n",
    "    \n",
    "**Outputs**: \n",
    "- have demo, vitals and labs in binned counts, order counts: long format, with year extracted\n",
    "- `6_11_coh4_features_all_long_year`: will be input to 3_models, sparse_matrix.py\n",
    "    - 2015 - 2018 as trained data for value distributions to bin validation data of 2018\n",
    "        - used for training and select model hyperparameters based on validation data\n",
    "    - test data 2019 - 03/2020 left unused\n",
    "    - after training and selecting hyperparameters, re-do value distribution on 2015 - 03/2020 (train + val) data\n",
    "    - test data (04/2020 - 2021) are now binned on based on this new train/val distribution\n",
    "    - binned test data is used for the final prediction and evaluation of new model after THICK DESCRIPTION work\n"
   ]
  },
  {
   "cell_type": "code",
   "execution_count": 1,
   "metadata": {},
   "outputs": [
    {
     "name": "stderr",
     "output_type": "stream",
     "text": [
      "── \u001b[1mAttaching packages\u001b[22m ─────────────────────────────────────── tidyverse 1.3.1 ──\n",
      "\n",
      "\u001b[32m✔\u001b[39m \u001b[34mggplot2\u001b[39m 3.3.3     \u001b[32m✔\u001b[39m \u001b[34mpurrr  \u001b[39m 0.3.4\n",
      "\u001b[32m✔\u001b[39m \u001b[34mtibble \u001b[39m 3.1.2     \u001b[32m✔\u001b[39m \u001b[34mdplyr  \u001b[39m 1.0.6\n",
      "\u001b[32m✔\u001b[39m \u001b[34mtidyr  \u001b[39m 1.1.3     \u001b[32m✔\u001b[39m \u001b[34mstringr\u001b[39m 1.4.0\n",
      "\u001b[32m✔\u001b[39m \u001b[34mreadr  \u001b[39m 1.4.0     \u001b[32m✔\u001b[39m \u001b[34mforcats\u001b[39m 0.5.1\n",
      "\n",
      "── \u001b[1mConflicts\u001b[22m ────────────────────────────────────────── tidyverse_conflicts() ──\n",
      "\u001b[31m✖\u001b[39m \u001b[34mdplyr\u001b[39m::\u001b[32mbetween()\u001b[39m   masks \u001b[34mdata.table\u001b[39m::between()\n",
      "\u001b[31m✖\u001b[39m \u001b[34mdplyr\u001b[39m::\u001b[32mfilter()\u001b[39m    masks \u001b[34mstats\u001b[39m::filter()\n",
      "\u001b[31m✖\u001b[39m \u001b[34mdplyr\u001b[39m::\u001b[32mfirst()\u001b[39m     masks \u001b[34mdata.table\u001b[39m::first()\n",
      "\u001b[31m✖\u001b[39m \u001b[34mdplyr\u001b[39m::\u001b[32mlag()\u001b[39m       masks \u001b[34mstats\u001b[39m::lag()\n",
      "\u001b[31m✖\u001b[39m \u001b[34mdplyr\u001b[39m::\u001b[32mlast()\u001b[39m      masks \u001b[34mdata.table\u001b[39m::last()\n",
      "\u001b[31m✖\u001b[39m \u001b[34mpurrr\u001b[39m::\u001b[32mtranspose()\u001b[39m masks \u001b[34mdata.table\u001b[39m::transpose()\n",
      "\n",
      "\n",
      "Attaching package: ‘lubridate’\n",
      "\n",
      "\n",
      "The following objects are masked from ‘package:data.table’:\n",
      "\n",
      "    hour, isoweek, mday, minute, month, quarter, second, wday, week,\n",
      "    yday, year\n",
      "\n",
      "\n",
      "The following objects are masked from ‘package:base’:\n",
      "\n",
      "    date, intersect, setdiff, union\n",
      "\n",
      "\n"
     ]
    }
   ],
   "source": [
    "library(data.table)\n",
    "library(tidyverse)\n",
    "library(lubridate)\n",
    "# library(Matrix)\n",
    "# library(slam)\n",
    "# library(bit64)\n",
    "# library(mtools) for one hot coder, not available on Nero or use caret or tidyr\n",
    "options(repr.matrix.max.rows=200, repr.matrix.max.cols=30)"
   ]
  },
  {
   "cell_type": "code",
   "execution_count": 1,
   "metadata": {},
   "outputs": [
    {
     "name": "stderr",
     "output_type": "stream",
     "text": [
      "Installing packages into ‘/home/jupyter/.R/library’\n",
      "(as ‘lib’ is unspecified)\n",
      "\n",
      "also installing the dependency ‘plogr’\n",
      "\n",
      "\n"
     ]
    }
   ],
   "source": [
    "# install.packages(c(\"dbplyr\", \"RSQLite\"))"
   ]
  },
  {
   "cell_type": "code",
   "execution_count": 2,
   "metadata": {},
   "outputs": [],
   "source": [
    "datadir = \"../../DataTD\"\n",
    "datadir6 = \"../../DataTD/validation\"\n",
    "valdir = \"../../OutputTD/6_validation\"\n",
    "cohortdir = \"../../OutputTD/1_cohort\"\n",
    "featuredir = \"../../OutputTD/2_features\""
   ]
  },
  {
   "cell_type": "code",
   "execution_count": 13,
   "metadata": {},
   "outputs": [
    {
     "data": {
      "text/html": [
       "43980"
      ],
      "text/latex": [
       "43980"
      ],
      "text/markdown": [
       "43980"
      ],
      "text/plain": [
       "[1] 43980"
      ]
     },
     "metadata": {},
     "output_type": "display_data"
    },
    {
     "data": {
      "text/html": [
       "16484"
      ],
      "text/latex": [
       "16484"
      ],
      "text/markdown": [
       "16484"
      ],
      "text/plain": [
       "[1] 16484"
      ]
     },
     "metadata": {},
     "output_type": "display_data"
    },
    {
     "data": {
      "text/html": [
       "60464"
      ],
      "text/latex": [
       "60464"
      ],
      "text/markdown": [
       "60464"
      ],
      "text/plain": [
       "[1] 60464"
      ]
     },
     "metadata": {},
     "output_type": "display_data"
    }
   ],
   "source": [
    "cohort4_6 <- read.csv(file.path(valdir, \"6_7_cohort4.csv\")) # new cohort\n",
    "cohort4 <- read.csv(file.path(valdir, \"6_7_cohort4_all.csv\")) # both old and new cohort, distinct csn\n",
    "cohort4_0 <- read.csv(file.path(cohortdir, \"1_4_cohort.csv\"))\n",
    "nrow(cohort4_0)\n",
    "nrow(cohort4_6)\n",
    "nrow(cohort4)"
   ]
  },
  {
   "cell_type": "code",
   "execution_count": 15,
   "metadata": {},
   "outputs": [
    {
     "data": {
      "text/html": [
       "43980"
      ],
      "text/latex": [
       "43980"
      ],
      "text/markdown": [
       "43980"
      ],
      "text/plain": [
       "[1] 43980"
      ]
     },
     "metadata": {},
     "output_type": "display_data"
    },
    {
     "data": {
      "text/html": [
       "16484"
      ],
      "text/latex": [
       "16484"
      ],
      "text/markdown": [
       "16484"
      ],
      "text/plain": [
       "[1] 16484"
      ]
     },
     "metadata": {},
     "output_type": "display_data"
    },
    {
     "data": {
      "text/html": [
       "0"
      ],
      "text/latex": [
       "0"
      ],
      "text/markdown": [
       "0"
      ],
      "text/plain": [
       "[1] 0"
      ]
     },
     "metadata": {},
     "output_type": "display_data"
    },
    {
     "data": {
      "text/html": [
       "0"
      ],
      "text/latex": [
       "0"
      ],
      "text/markdown": [
       "0"
      ],
      "text/plain": [
       "[1] 0"
      ]
     },
     "metadata": {},
     "output_type": "display_data"
    },
    {
     "data": {
      "text/html": [
       "60464"
      ],
      "text/latex": [
       "60464"
      ],
      "text/markdown": [
       "60464"
      ],
      "text/plain": [
       "[1] 60464"
      ]
     },
     "metadata": {},
     "output_type": "display_data"
    }
   ],
   "source": [
    "length(setdiff(cohort4_0$pat_enc_csn_id_coded, cohort4_6$pat_enc_csn_id_coded))\n",
    "length(setdiff(cohort4_6$pat_enc_csn_id_coded, cohort4_0$pat_enc_csn_id_coded))\n",
    "\n",
    "length(setdiff(cohort4_0$pat_enc_csn_id_coded, cohort4$pat_enc_csn_id_coded))\n",
    "length(setdiff(cohort4_6$pat_enc_csn_id_coded, cohort4$pat_enc_csn_id_coded))\n",
    "length(unique(cohort4$pat_enc_csn_id_coded))"
   ]
  },
  {
   "cell_type": "raw",
   "metadata": {},
   "source": [
    "# Cold_Counts_val.sql under ../SQL/feature_counts\n",
    "\n",
    "# run this file in 6_data_BQ.ipynb, pushed to BQ as well\n",
    "\n",
    "# Sequence of codes assigned to patients \n",
    "\n",
    "WITH sequence as (\n",
    "-- # Get (lab, procedure, imaging and microbiology orders from order_proc) within one year prior to current admission time\n",
    "SELECT DISTINCT lab.order_proc_id_coded as order_id,\n",
    "                lab.order_type as feature_type,\n",
    "                lab.description as features,\n",
    "                cohort.anon_id, cohort.pat_enc_csn_id_coded, cohort.admit_time, \n",
    "                cohort.first_label, cohort.death_24hr_recent_label\n",
    "    \n",
    "FROM triageTD.6_7_cohort4 as cohort\n",
    "INNER JOIN shc_core_2021.order_proc as lab\n",
    "USING (anon_id)\n",
    "WHERE \n",
    "(lab.order_type in ('Imaging', 'Procedures', 'Lab')\n",
    "AND lab.order_time_jittered_utc < cohort.admit_time\n",
    "AND timestamp_add(lab.order_time_jittered_utc, INTERVAL 24*365 HOUR) >= cohort.admit_time)\n",
    "OR\n",
    "(lab.order_type in ('Microbiology', 'Microbiology Culture')\n",
    "AND lab.order_time_jittered_utc < cohort.admit_time\n",
    "AND lab.pat_enc_csn_id_coded = cohort.pat_enc_csn_id_coded)\n",
    "UNION DISTINCT\n",
    "\n",
    "-- # Get icd10 codes from full timeline, from all previous admissions\n",
    "SELECT DISTINCT pat_enc_csn_id_coded as order_id, -- fill in because dx table doesn't have order_id\n",
    "                'Diagnosis' as feature_type, dx.icd10 as features,\n",
    "                cohort.anon_id, cohort.pat_enc_csn_id_coded, cohort.admit_time, \n",
    "                cohort.first_label, cohort.death_24hr_recent_label\n",
    "    \n",
    "FROM triageTD.6_7_cohort4 as cohort\n",
    "INNER JOIN shc_core_2021.diagnosis as dx\n",
    "USING (anon_id)\n",
    "WHERE cohort.pat_enc_csn_id_coded <> dx.pat_enc_csn_id_jittered\n",
    "AND dx.start_date_utc < cohort.admit_time \n",
    "AND dx.icd10 is not NULL\n",
    "UNION DISTINCT\n",
    "\n",
    "-- # Get med orders from order_med from within one year prior to current admission time\n",
    "SELECT DISTINCT med.order_med_id_coded order_id,\n",
    "                'Meds' as feature_type, med.med_description as features,\n",
    "                cohort.anon_id, cohort.pat_enc_csn_id_coded, cohort.admit_time, \n",
    "                cohort.first_label, cohort.death_24hr_recent_label\n",
    "    \n",
    "FROM triageTD.6_7_cohort4 as cohort\n",
    "INNER JOIN shc_core_2021.order_med as med\n",
    "USING (anon_id)\n",
    "WHERE med.order_start_time_utc < cohort.admit_time\n",
    "AND timestamp_add(med.order_start_time_utc, INTERVAL 24*365 HOUR) >= cohort.admit_time\n",
    "AND med.order_start_time_utc IS NOT NULL) -- maybe redundent but fine\n",
    "\n",
    "-- # Group by feature and encounter, and count # distinct orders/assignemnts of the feature\n",
    "SELECT anon_id, pat_enc_csn_id_coded, admit_time, feature_type, features, COUNT (DISTINCT order_id) as values\n",
    "FROM sequence\n",
    "GROUP BY anon_id, pat_enc_csn_id_coded, admit_time, feature_type, features\n",
    "ORDER BY pat_enc_csn_id_coded"
   ]
  },
  {
   "cell_type": "code",
   "execution_count": 3,
   "metadata": {},
   "outputs": [
    {
     "data": {
      "text/html": [
       "6086852"
      ],
      "text/latex": [
       "6086852"
      ],
      "text/markdown": [
       "6086852"
      ],
      "text/plain": [
       "[1] 6086852"
      ]
     },
     "metadata": {},
     "output_type": "display_data"
    }
   ],
   "source": [
    "# this one used 1_4_cohort to query orders\n",
    "orders0 <- read.csv(file.path(datadir, 'coh4_order_code_counts.csv'))\n",
    "nrow(orders0) #6086852"
   ]
  },
  {
   "cell_type": "code",
   "execution_count": 16,
   "metadata": {},
   "outputs": [
    {
     "data": {
      "text/html": [
       "2792909"
      ],
      "text/latex": [
       "2792909"
      ],
      "text/markdown": [
       "2792909"
      ],
      "text/plain": [
       "[1] 2792909"
      ]
     },
     "metadata": {},
     "output_type": "display_data"
    }
   ],
   "source": [
    "# this one used cohort4_validation to query orders\n",
    "orders6 <- read.csv(file.path(datadir6, 'coh4_order_code_counts_2021.csv'))\n",
    "nrow(orders6) # 2792909"
   ]
  },
  {
   "cell_type": "code",
   "execution_count": 26,
   "metadata": {},
   "outputs": [
    {
     "data": {
      "text/html": [
       "16484"
      ],
      "text/latex": [
       "16484"
      ],
      "text/markdown": [
       "16484"
      ],
      "text/plain": [
       "[1] 16484"
      ]
     },
     "metadata": {},
     "output_type": "display_data"
    },
    {
     "data": {
      "text/html": [
       "43970"
      ],
      "text/latex": [
       "43970"
      ],
      "text/markdown": [
       "43970"
      ],
      "text/plain": [
       "[1] 43970"
      ]
     },
     "metadata": {},
     "output_type": "display_data"
    },
    {
     "data": {
      "text/html": [
       "16484"
      ],
      "text/latex": [
       "16484"
      ],
      "text/markdown": [
       "16484"
      ],
      "text/plain": [
       "[1] 16484"
      ]
     },
     "metadata": {},
     "output_type": "display_data"
    },
    {
     "data": {
      "text/html": [
       "43970"
      ],
      "text/latex": [
       "43970"
      ],
      "text/markdown": [
       "43970"
      ],
      "text/plain": [
       "[1] 43970"
      ]
     },
     "metadata": {},
     "output_type": "display_data"
    },
    {
     "data": {
      "text/html": [
       "<table class=\"dataframe\">\n",
       "<caption>A data.frame: 1 × 6</caption>\n",
       "<thead>\n",
       "\t<tr><th></th><th scope=col>anon_id</th><th scope=col>pat_enc_csn_id_coded</th><th scope=col>admit_time</th><th scope=col>feature_type</th><th scope=col>features</th><th scope=col>values</th></tr>\n",
       "\t<tr><th></th><th scope=col>&lt;chr&gt;</th><th scope=col>&lt;dbl&gt;</th><th scope=col>&lt;chr&gt;</th><th scope=col>&lt;chr&gt;</th><th scope=col>&lt;chr&gt;</th><th scope=col>&lt;int&gt;</th></tr>\n",
       "</thead>\n",
       "<tbody>\n",
       "\t<tr><th scope=row>1</th><td>JC641497</td><td>131284412456</td><td>2020-04-01 17:34:00+00:00</td><td>Diagnosis</td><td>J10.00</td><td>1</td></tr>\n",
       "</tbody>\n",
       "</table>\n"
      ],
      "text/latex": [
       "A data.frame: 1 × 6\n",
       "\\begin{tabular}{r|llllll}\n",
       "  & anon\\_id & pat\\_enc\\_csn\\_id\\_coded & admit\\_time & feature\\_type & features & values\\\\\n",
       "  & <chr> & <dbl> & <chr> & <chr> & <chr> & <int>\\\\\n",
       "\\hline\n",
       "\t1 & JC641497 & 131284412456 & 2020-04-01 17:34:00+00:00 & Diagnosis & J10.00 & 1\\\\\n",
       "\\end{tabular}\n"
      ],
      "text/markdown": [
       "\n",
       "A data.frame: 1 × 6\n",
       "\n",
       "| <!--/--> | anon_id &lt;chr&gt; | pat_enc_csn_id_coded &lt;dbl&gt; | admit_time &lt;chr&gt; | feature_type &lt;chr&gt; | features &lt;chr&gt; | values &lt;int&gt; |\n",
       "|---|---|---|---|---|---|---|\n",
       "| 1 | JC641497 | 131284412456 | 2020-04-01 17:34:00+00:00 | Diagnosis | J10.00 | 1 |\n",
       "\n"
      ],
      "text/plain": [
       "  anon_id  pat_enc_csn_id_coded admit_time                feature_type features\n",
       "1 JC641497 131284412456         2020-04-01 17:34:00+00:00 Diagnosis    J10.00  \n",
       "  values\n",
       "1 1     "
      ]
     },
     "metadata": {},
     "output_type": "display_data"
    },
    {
     "data": {
      "text/html": [
       "<table class=\"dataframe\">\n",
       "<caption>A data.frame: 1 × 6</caption>\n",
       "<thead>\n",
       "\t<tr><th></th><th scope=col>anon_id</th><th scope=col>pat_enc_csn_id_coded</th><th scope=col>admit_time</th><th scope=col>feature_type</th><th scope=col>features</th><th scope=col>values</th></tr>\n",
       "\t<tr><th></th><th scope=col>&lt;chr&gt;</th><th scope=col>&lt;dbl&gt;</th><th scope=col>&lt;chr&gt;</th><th scope=col>&lt;chr&gt;</th><th scope=col>&lt;chr&gt;</th><th scope=col>&lt;int&gt;</th></tr>\n",
       "</thead>\n",
       "<tbody>\n",
       "\t<tr><th scope=row>1</th><td>JCe78a06</td><td>131062667066</td><td>2015-01-02 01:01:00+00:00</td><td>Diagnosis</td><td>R19.7</td><td>1</td></tr>\n",
       "</tbody>\n",
       "</table>\n"
      ],
      "text/latex": [
       "A data.frame: 1 × 6\n",
       "\\begin{tabular}{r|llllll}\n",
       "  & anon\\_id & pat\\_enc\\_csn\\_id\\_coded & admit\\_time & feature\\_type & features & values\\\\\n",
       "  & <chr> & <dbl> & <chr> & <chr> & <chr> & <int>\\\\\n",
       "\\hline\n",
       "\t1 & JCe78a06 & 131062667066 & 2015-01-02 01:01:00+00:00 & Diagnosis & R19.7 & 1\\\\\n",
       "\\end{tabular}\n"
      ],
      "text/markdown": [
       "\n",
       "A data.frame: 1 × 6\n",
       "\n",
       "| <!--/--> | anon_id &lt;chr&gt; | pat_enc_csn_id_coded &lt;dbl&gt; | admit_time &lt;chr&gt; | feature_type &lt;chr&gt; | features &lt;chr&gt; | values &lt;int&gt; |\n",
       "|---|---|---|---|---|---|---|\n",
       "| 1 | JCe78a06 | 131062667066 | 2015-01-02 01:01:00+00:00 | Diagnosis | R19.7 | 1 |\n",
       "\n"
      ],
      "text/plain": [
       "  anon_id  pat_enc_csn_id_coded admit_time                feature_type features\n",
       "1 JCe78a06 131062667066         2015-01-02 01:01:00+00:00 Diagnosis    R19.7   \n",
       "  values\n",
       "1 1     "
      ]
     },
     "metadata": {},
     "output_type": "display_data"
    }
   ],
   "source": [
    "# no overlapping of csn \n",
    "length(unique(orders6$pat_enc_csn_id_coded))\n",
    "length(unique(orders0$pat_enc_csn_id_coded))\n",
    "\n",
    "length(setdiff(orders6$pat_enc_csn_id_coded, orders0$pat_enc_csn_id_coded))\n",
    "length(setdiff(orders0$pat_enc_csn_id_coded, orders6$pat_enc_csn_id_coded)) # 10 patients did not have any order\n",
    "\n",
    "head(orders6, 1)\n",
    "head(orders0, 1)"
   ]
  },
  {
   "cell_type": "code",
   "execution_count": 18,
   "metadata": {},
   "outputs": [
    {
     "data": {
      "text/html": [
       "<table class=\"dataframe\">\n",
       "<caption>A grouped_df: 7 × 2</caption>\n",
       "<thead>\n",
       "\t<tr><th scope=col>feature_type</th><th scope=col>n</th></tr>\n",
       "\t<tr><th scope=col>&lt;chr&gt;</th><th scope=col>&lt;int&gt;</th></tr>\n",
       "</thead>\n",
       "<tbody>\n",
       "\t<tr><td>Diagnosis           </td><td>2834516</td></tr>\n",
       "\t<tr><td>Meds                </td><td>1868195</td></tr>\n",
       "\t<tr><td>Lab                 </td><td> 993484</td></tr>\n",
       "\t<tr><td>Imaging             </td><td> 299944</td></tr>\n",
       "\t<tr><td>Procedures          </td><td>  51696</td></tr>\n",
       "\t<tr><td>Microbiology Culture</td><td>  37374</td></tr>\n",
       "\t<tr><td>Microbiology        </td><td>   1643</td></tr>\n",
       "</tbody>\n",
       "</table>\n"
      ],
      "text/latex": [
       "A grouped\\_df: 7 × 2\n",
       "\\begin{tabular}{ll}\n",
       " feature\\_type & n\\\\\n",
       " <chr> & <int>\\\\\n",
       "\\hline\n",
       "\t Diagnosis            & 2834516\\\\\n",
       "\t Meds                 & 1868195\\\\\n",
       "\t Lab                  &  993484\\\\\n",
       "\t Imaging              &  299944\\\\\n",
       "\t Procedures           &   51696\\\\\n",
       "\t Microbiology Culture &   37374\\\\\n",
       "\t Microbiology         &    1643\\\\\n",
       "\\end{tabular}\n"
      ],
      "text/markdown": [
       "\n",
       "A grouped_df: 7 × 2\n",
       "\n",
       "| feature_type &lt;chr&gt; | n &lt;int&gt; |\n",
       "|---|---|\n",
       "| Diagnosis            | 2834516 |\n",
       "| Meds                 | 1868195 |\n",
       "| Lab                  |  993484 |\n",
       "| Imaging              |  299944 |\n",
       "| Procedures           |   51696 |\n",
       "| Microbiology Culture |   37374 |\n",
       "| Microbiology         |    1643 |\n",
       "\n"
      ],
      "text/plain": [
       "  feature_type         n      \n",
       "1 Diagnosis            2834516\n",
       "2 Meds                 1868195\n",
       "3 Lab                   993484\n",
       "4 Imaging               299944\n",
       "5 Procedures             51696\n",
       "6 Microbiology Culture   37374\n",
       "7 Microbiology            1643"
      ]
     },
     "metadata": {},
     "output_type": "display_data"
    },
    {
     "data": {
      "text/html": [
       "<table class=\"dataframe\">\n",
       "<caption>A grouped_df: 7 × 2</caption>\n",
       "<thead>\n",
       "\t<tr><th scope=col>feature_type</th><th scope=col>n</th></tr>\n",
       "\t<tr><th scope=col>&lt;chr&gt;</th><th scope=col>&lt;int&gt;</th></tr>\n",
       "</thead>\n",
       "<tbody>\n",
       "\t<tr><td>Diagnosis           </td><td>1430950</td></tr>\n",
       "\t<tr><td>Meds                </td><td> 771612</td></tr>\n",
       "\t<tr><td>Lab                 </td><td> 434245</td></tr>\n",
       "\t<tr><td>Imaging             </td><td> 120143</td></tr>\n",
       "\t<tr><td>Procedures          </td><td>  22881</td></tr>\n",
       "\t<tr><td>Microbiology Culture</td><td>  12617</td></tr>\n",
       "\t<tr><td>Microbiology        </td><td>    461</td></tr>\n",
       "</tbody>\n",
       "</table>\n"
      ],
      "text/latex": [
       "A grouped\\_df: 7 × 2\n",
       "\\begin{tabular}{ll}\n",
       " feature\\_type & n\\\\\n",
       " <chr> & <int>\\\\\n",
       "\\hline\n",
       "\t Diagnosis            & 1430950\\\\\n",
       "\t Meds                 &  771612\\\\\n",
       "\t Lab                  &  434245\\\\\n",
       "\t Imaging              &  120143\\\\\n",
       "\t Procedures           &   22881\\\\\n",
       "\t Microbiology Culture &   12617\\\\\n",
       "\t Microbiology         &     461\\\\\n",
       "\\end{tabular}\n"
      ],
      "text/markdown": [
       "\n",
       "A grouped_df: 7 × 2\n",
       "\n",
       "| feature_type &lt;chr&gt; | n &lt;int&gt; |\n",
       "|---|---|\n",
       "| Diagnosis            | 1430950 |\n",
       "| Meds                 |  771612 |\n",
       "| Lab                  |  434245 |\n",
       "| Imaging              |  120143 |\n",
       "| Procedures           |   22881 |\n",
       "| Microbiology Culture |   12617 |\n",
       "| Microbiology         |     461 |\n",
       "\n"
      ],
      "text/plain": [
       "  feature_type         n      \n",
       "1 Diagnosis            1430950\n",
       "2 Meds                  771612\n",
       "3 Lab                   434245\n",
       "4 Imaging               120143\n",
       "5 Procedures             22881\n",
       "6 Microbiology Culture   12617\n",
       "7 Microbiology             461"
      ]
     },
     "metadata": {},
     "output_type": "display_data"
    }
   ],
   "source": [
    "orders0 %>% group_by(feature_type) %>% count(sort=TRUE)\n",
    "orders6 %>% group_by(feature_type) %>% count(sort=TRUE)"
   ]
  },
  {
   "cell_type": "code",
   "execution_count": 19,
   "metadata": {},
   "outputs": [
    {
     "data": {
      "text/html": [
       "<table class=\"dataframe\">\n",
       "<caption>A grouped_df: 6 × 2</caption>\n",
       "<thead>\n",
       "\t<tr><th scope=col>feature_type</th><th scope=col>n</th></tr>\n",
       "\t<tr><th scope=col>&lt;chr&gt;</th><th scope=col>&lt;int&gt;</th></tr>\n",
       "</thead>\n",
       "<tbody>\n",
       "\t<tr><td>Diagnosis   </td><td>2834516</td></tr>\n",
       "\t<tr><td>Meds        </td><td>1868195</td></tr>\n",
       "\t<tr><td>Lab         </td><td> 993484</td></tr>\n",
       "\t<tr><td>Imaging     </td><td> 299944</td></tr>\n",
       "\t<tr><td>Procedures  </td><td>  51696</td></tr>\n",
       "\t<tr><td>Microbiology</td><td>  39017</td></tr>\n",
       "</tbody>\n",
       "</table>\n"
      ],
      "text/latex": [
       "A grouped\\_df: 6 × 2\n",
       "\\begin{tabular}{ll}\n",
       " feature\\_type & n\\\\\n",
       " <chr> & <int>\\\\\n",
       "\\hline\n",
       "\t Diagnosis    & 2834516\\\\\n",
       "\t Meds         & 1868195\\\\\n",
       "\t Lab          &  993484\\\\\n",
       "\t Imaging      &  299944\\\\\n",
       "\t Procedures   &   51696\\\\\n",
       "\t Microbiology &   39017\\\\\n",
       "\\end{tabular}\n"
      ],
      "text/markdown": [
       "\n",
       "A grouped_df: 6 × 2\n",
       "\n",
       "| feature_type &lt;chr&gt; | n &lt;int&gt; |\n",
       "|---|---|\n",
       "| Diagnosis    | 2834516 |\n",
       "| Meds         | 1868195 |\n",
       "| Lab          |  993484 |\n",
       "| Imaging      |  299944 |\n",
       "| Procedures   |   51696 |\n",
       "| Microbiology |   39017 |\n",
       "\n"
      ],
      "text/plain": [
       "  feature_type n      \n",
       "1 Diagnosis    2834516\n",
       "2 Meds         1868195\n",
       "3 Lab           993484\n",
       "4 Imaging       299944\n",
       "5 Procedures     51696\n",
       "6 Microbiology   39017"
      ]
     },
     "metadata": {},
     "output_type": "display_data"
    },
    {
     "data": {
      "text/html": [
       "<table class=\"dataframe\">\n",
       "<caption>A grouped_df: 6 × 2</caption>\n",
       "<thead>\n",
       "\t<tr><th scope=col>feature_type</th><th scope=col>n</th></tr>\n",
       "\t<tr><th scope=col>&lt;chr&gt;</th><th scope=col>&lt;int&gt;</th></tr>\n",
       "</thead>\n",
       "<tbody>\n",
       "\t<tr><td>Diagnosis   </td><td>1430950</td></tr>\n",
       "\t<tr><td>Meds        </td><td> 771612</td></tr>\n",
       "\t<tr><td>Lab         </td><td> 434245</td></tr>\n",
       "\t<tr><td>Imaging     </td><td> 120143</td></tr>\n",
       "\t<tr><td>Procedures  </td><td>  22881</td></tr>\n",
       "\t<tr><td>Microbiology</td><td>  13078</td></tr>\n",
       "</tbody>\n",
       "</table>\n"
      ],
      "text/latex": [
       "A grouped\\_df: 6 × 2\n",
       "\\begin{tabular}{ll}\n",
       " feature\\_type & n\\\\\n",
       " <chr> & <int>\\\\\n",
       "\\hline\n",
       "\t Diagnosis    & 1430950\\\\\n",
       "\t Meds         &  771612\\\\\n",
       "\t Lab          &  434245\\\\\n",
       "\t Imaging      &  120143\\\\\n",
       "\t Procedures   &   22881\\\\\n",
       "\t Microbiology &   13078\\\\\n",
       "\\end{tabular}\n"
      ],
      "text/markdown": [
       "\n",
       "A grouped_df: 6 × 2\n",
       "\n",
       "| feature_type &lt;chr&gt; | n &lt;int&gt; |\n",
       "|---|---|\n",
       "| Diagnosis    | 1430950 |\n",
       "| Meds         |  771612 |\n",
       "| Lab          |  434245 |\n",
       "| Imaging      |  120143 |\n",
       "| Procedures   |   22881 |\n",
       "| Microbiology |   13078 |\n",
       "\n"
      ],
      "text/plain": [
       "  feature_type n      \n",
       "1 Diagnosis    1430950\n",
       "2 Meds          771612\n",
       "3 Lab           434245\n",
       "4 Imaging       120143\n",
       "5 Procedures     22881\n",
       "6 Microbiology   13078"
      ]
     },
     "metadata": {},
     "output_type": "display_data"
    }
   ],
   "source": [
    "orders0_micro <- orders0 %>% mutate(feature_type = ifelse(str_detect(feature_type, \"Microbiology\"), \"Microbiology\", feature_type))\n",
    "orders0_micro %>% group_by(feature_type) %>% count(sort=TRUE)\n",
    "\n",
    "orders6_micro <- orders6 %>% mutate(feature_type = ifelse(str_detect(feature_type, \"Microbiology\"), \"Microbiology\", feature_type))\n",
    "orders6_micro %>% group_by(feature_type) %>% count(sort=TRUE)"
   ]
  },
  {
   "cell_type": "code",
   "execution_count": 20,
   "metadata": {},
   "outputs": [
    {
     "data": {
      "text/html": [
       "<table class=\"dataframe\">\n",
       "<caption>A tibble: 6 × 3</caption>\n",
       "<thead>\n",
       "\t<tr><th scope=col>feature_type</th><th scope=col>avg</th><th scope=col>sd</th></tr>\n",
       "\t<tr><th scope=col>&lt;chr&gt;</th><th scope=col>&lt;dbl&gt;</th><th scope=col>&lt;dbl&gt;</th></tr>\n",
       "</thead>\n",
       "<tbody>\n",
       "\t<tr><td>Diagnosis   </td><td>1.000000</td><td> 0.000000</td></tr>\n",
       "\t<tr><td>Imaging     </td><td>3.234977</td><td> 5.090007</td></tr>\n",
       "\t<tr><td>Lab         </td><td>7.360603</td><td>16.858606</td></tr>\n",
       "\t<tr><td>Meds        </td><td>2.940662</td><td> 6.372316</td></tr>\n",
       "\t<tr><td>Microbiology</td><td>2.281236</td><td> 0.782586</td></tr>\n",
       "\t<tr><td>Procedures  </td><td>2.122195</td><td> 4.988535</td></tr>\n",
       "</tbody>\n",
       "</table>\n"
      ],
      "text/latex": [
       "A tibble: 6 × 3\n",
       "\\begin{tabular}{lll}\n",
       " feature\\_type & avg & sd\\\\\n",
       " <chr> & <dbl> & <dbl>\\\\\n",
       "\\hline\n",
       "\t Diagnosis    & 1.000000 &  0.000000\\\\\n",
       "\t Imaging      & 3.234977 &  5.090007\\\\\n",
       "\t Lab          & 7.360603 & 16.858606\\\\\n",
       "\t Meds         & 2.940662 &  6.372316\\\\\n",
       "\t Microbiology & 2.281236 &  0.782586\\\\\n",
       "\t Procedures   & 2.122195 &  4.988535\\\\\n",
       "\\end{tabular}\n"
      ],
      "text/markdown": [
       "\n",
       "A tibble: 6 × 3\n",
       "\n",
       "| feature_type &lt;chr&gt; | avg &lt;dbl&gt; | sd &lt;dbl&gt; |\n",
       "|---|---|---|\n",
       "| Diagnosis    | 1.000000 |  0.000000 |\n",
       "| Imaging      | 3.234977 |  5.090007 |\n",
       "| Lab          | 7.360603 | 16.858606 |\n",
       "| Meds         | 2.940662 |  6.372316 |\n",
       "| Microbiology | 2.281236 |  0.782586 |\n",
       "| Procedures   | 2.122195 |  4.988535 |\n",
       "\n"
      ],
      "text/plain": [
       "  feature_type avg      sd       \n",
       "1 Diagnosis    1.000000  0.000000\n",
       "2 Imaging      3.234977  5.090007\n",
       "3 Lab          7.360603 16.858606\n",
       "4 Meds         2.940662  6.372316\n",
       "5 Microbiology 2.281236  0.782586\n",
       "6 Procedures   2.122195  4.988535"
      ]
     },
     "metadata": {},
     "output_type": "display_data"
    },
    {
     "data": {
      "text/html": [
       "<table class=\"dataframe\">\n",
       "<caption>A tibble: 6 × 3</caption>\n",
       "<thead>\n",
       "\t<tr><th scope=col>feature_type</th><th scope=col>avg</th><th scope=col>sd</th></tr>\n",
       "\t<tr><th scope=col>&lt;chr&gt;</th><th scope=col>&lt;dbl&gt;</th><th scope=col>&lt;dbl&gt;</th></tr>\n",
       "</thead>\n",
       "<tbody>\n",
       "\t<tr><td>Diagnosis   </td><td>1.000000</td><td> 0.0000000</td></tr>\n",
       "\t<tr><td>Imaging     </td><td>3.432143</td><td> 6.1836564</td></tr>\n",
       "\t<tr><td>Lab         </td><td>7.154040</td><td>17.0763647</td></tr>\n",
       "\t<tr><td>Meds        </td><td>3.112441</td><td> 6.3900902</td></tr>\n",
       "\t<tr><td>Microbiology</td><td>2.307081</td><td> 0.7750193</td></tr>\n",
       "\t<tr><td>Procedures  </td><td>2.005725</td><td> 4.0376411</td></tr>\n",
       "</tbody>\n",
       "</table>\n"
      ],
      "text/latex": [
       "A tibble: 6 × 3\n",
       "\\begin{tabular}{lll}\n",
       " feature\\_type & avg & sd\\\\\n",
       " <chr> & <dbl> & <dbl>\\\\\n",
       "\\hline\n",
       "\t Diagnosis    & 1.000000 &  0.0000000\\\\\n",
       "\t Imaging      & 3.432143 &  6.1836564\\\\\n",
       "\t Lab          & 7.154040 & 17.0763647\\\\\n",
       "\t Meds         & 3.112441 &  6.3900902\\\\\n",
       "\t Microbiology & 2.307081 &  0.7750193\\\\\n",
       "\t Procedures   & 2.005725 &  4.0376411\\\\\n",
       "\\end{tabular}\n"
      ],
      "text/markdown": [
       "\n",
       "A tibble: 6 × 3\n",
       "\n",
       "| feature_type &lt;chr&gt; | avg &lt;dbl&gt; | sd &lt;dbl&gt; |\n",
       "|---|---|---|\n",
       "| Diagnosis    | 1.000000 |  0.0000000 |\n",
       "| Imaging      | 3.432143 |  6.1836564 |\n",
       "| Lab          | 7.154040 | 17.0763647 |\n",
       "| Meds         | 3.112441 |  6.3900902 |\n",
       "| Microbiology | 2.307081 |  0.7750193 |\n",
       "| Procedures   | 2.005725 |  4.0376411 |\n",
       "\n"
      ],
      "text/plain": [
       "  feature_type avg      sd        \n",
       "1 Diagnosis    1.000000  0.0000000\n",
       "2 Imaging      3.432143  6.1836564\n",
       "3 Lab          7.154040 17.0763647\n",
       "4 Meds         3.112441  6.3900902\n",
       "5 Microbiology 2.307081  0.7750193\n",
       "6 Procedures   2.005725  4.0376411"
      ]
     },
     "metadata": {},
     "output_type": "display_data"
    }
   ],
   "source": [
    "orders0_micro %>% group_by(feature_type) %>% summarise(avg = mean(values), sd = sd(values))\n",
    "orders6_micro %>% group_by(feature_type) %>% summarise(avg = mean(values), sd = sd(values))"
   ]
  },
  {
   "cell_type": "code",
   "execution_count": 21,
   "metadata": {},
   "outputs": [
    {
     "data": {
      "text/html": [
       "43970"
      ],
      "text/latex": [
       "43970"
      ],
      "text/markdown": [
       "43970"
      ],
      "text/plain": [
       "[1] 43970"
      ]
     },
     "metadata": {},
     "output_type": "display_data"
    },
    {
     "data": {
      "text/html": [
       "16484"
      ],
      "text/latex": [
       "16484"
      ],
      "text/markdown": [
       "16484"
      ],
      "text/plain": [
       "[1] 16484"
      ]
     },
     "metadata": {},
     "output_type": "display_data"
    }
   ],
   "source": [
    "length(unique(orders0_micro$pat_enc_csn_id_coded)) # 43970\n",
    "length(unique(orders6_micro$pat_enc_csn_id_coded)) # 16484"
   ]
  },
  {
   "cell_type": "code",
   "execution_count": 22,
   "metadata": {},
   "outputs": [
    {
     "data": {
      "text/html": [],
      "text/latex": [],
      "text/markdown": [],
      "text/plain": [
       "numeric(0)"
      ]
     },
     "metadata": {},
     "output_type": "display_data"
    },
    {
     "data": {
      "text/html": [
       "<style>\n",
       ".list-inline {list-style: none; margin:0; padding: 0}\n",
       ".list-inline>li {display: inline-block}\n",
       ".list-inline>li:not(:last-child)::after {content: \"\\00b7\"; padding: 0 .5ex}\n",
       "</style>\n",
       "<ol class=list-inline><li>131250899044</li><li>131232385768</li><li>131143463175</li><li>131244907345</li><li>131193906942</li><li>131239369230</li><li>131236364892</li><li>131179268110</li><li>131282120209</li><li>131239885415</li></ol>\n"
      ],
      "text/latex": [
       "\\begin{enumerate*}\n",
       "\\item 131250899044\n",
       "\\item 131232385768\n",
       "\\item 131143463175\n",
       "\\item 131244907345\n",
       "\\item 131193906942\n",
       "\\item 131239369230\n",
       "\\item 131236364892\n",
       "\\item 131179268110\n",
       "\\item 131282120209\n",
       "\\item 131239885415\n",
       "\\end{enumerate*}\n"
      ],
      "text/markdown": [
       "1. 131250899044\n",
       "2. 131232385768\n",
       "3. 131143463175\n",
       "4. 131244907345\n",
       "5. 131193906942\n",
       "6. 131239369230\n",
       "7. 131236364892\n",
       "8. 131179268110\n",
       "9. 131282120209\n",
       "10. 131239885415\n",
       "\n",
       "\n"
      ],
      "text/plain": [
       " [1] 131250899044 131232385768 131143463175 131244907345 131193906942\n",
       " [6] 131239369230 131236364892 131179268110 131282120209 131239885415"
      ]
     },
     "metadata": {},
     "output_type": "display_data"
    }
   ],
   "source": [
    "setdiff(orders0_micro$pat_enc_csn_id_coded, cohort4_0$pat_enc_csn_id_coded) # 0 \n",
    "setdiff(cohort4_0$pat_enc_csn_id_coded, orders0_micro$pat_enc_csn_id_coded) # 10\n",
    "# not everyone has orders\n",
    "# for the new cohort, every has orders"
   ]
  },
  {
   "cell_type": "code",
   "execution_count": 24,
   "metadata": {},
   "outputs": [
    {
     "data": {
      "text/html": [
       "<table class=\"dataframe\">\n",
       "<caption>A data.frame: 1 × 6</caption>\n",
       "<thead>\n",
       "\t<tr><th></th><th scope=col>anon_id</th><th scope=col>pat_enc_csn_id_coded</th><th scope=col>admit_time</th><th scope=col>feature_type</th><th scope=col>features</th><th scope=col>values</th></tr>\n",
       "\t<tr><th></th><th scope=col>&lt;chr&gt;</th><th scope=col>&lt;dbl&gt;</th><th scope=col>&lt;chr&gt;</th><th scope=col>&lt;chr&gt;</th><th scope=col>&lt;chr&gt;</th><th scope=col>&lt;int&gt;</th></tr>\n",
       "</thead>\n",
       "<tbody>\n",
       "\t<tr><th scope=row>1</th><td>JC641497</td><td>131284412456</td><td>2020-04-01 17:34:00+00:00</td><td>Diagnosis</td><td>J10.00</td><td>1</td></tr>\n",
       "</tbody>\n",
       "</table>\n"
      ],
      "text/latex": [
       "A data.frame: 1 × 6\n",
       "\\begin{tabular}{r|llllll}\n",
       "  & anon\\_id & pat\\_enc\\_csn\\_id\\_coded & admit\\_time & feature\\_type & features & values\\\\\n",
       "  & <chr> & <dbl> & <chr> & <chr> & <chr> & <int>\\\\\n",
       "\\hline\n",
       "\t1 & JC641497 & 131284412456 & 2020-04-01 17:34:00+00:00 & Diagnosis & J10.00 & 1\\\\\n",
       "\\end{tabular}\n"
      ],
      "text/markdown": [
       "\n",
       "A data.frame: 1 × 6\n",
       "\n",
       "| <!--/--> | anon_id &lt;chr&gt; | pat_enc_csn_id_coded &lt;dbl&gt; | admit_time &lt;chr&gt; | feature_type &lt;chr&gt; | features &lt;chr&gt; | values &lt;int&gt; |\n",
       "|---|---|---|---|---|---|---|\n",
       "| 1 | JC641497 | 131284412456 | 2020-04-01 17:34:00+00:00 | Diagnosis | J10.00 | 1 |\n",
       "\n"
      ],
      "text/plain": [
       "  anon_id  pat_enc_csn_id_coded admit_time                feature_type features\n",
       "1 JC641497 131284412456         2020-04-01 17:34:00+00:00 Diagnosis    J10.00  \n",
       "  values\n",
       "1 1     "
      ]
     },
     "metadata": {},
     "output_type": "display_data"
    },
    {
     "data": {
      "text/html": [
       "<table class=\"dataframe\">\n",
       "<caption>A data.frame: 1 × 6</caption>\n",
       "<thead>\n",
       "\t<tr><th></th><th scope=col>anon_id</th><th scope=col>pat_enc_csn_id_coded</th><th scope=col>admit_time</th><th scope=col>feature_type</th><th scope=col>features</th><th scope=col>values</th></tr>\n",
       "\t<tr><th></th><th scope=col>&lt;chr&gt;</th><th scope=col>&lt;dbl&gt;</th><th scope=col>&lt;chr&gt;</th><th scope=col>&lt;chr&gt;</th><th scope=col>&lt;chr&gt;</th><th scope=col>&lt;int&gt;</th></tr>\n",
       "</thead>\n",
       "<tbody>\n",
       "\t<tr><th scope=row>1</th><td>JCe78a06</td><td>131062667066</td><td>2015-01-02 01:01:00+00:00</td><td>Diagnosis</td><td>R19.7</td><td>1</td></tr>\n",
       "</tbody>\n",
       "</table>\n"
      ],
      "text/latex": [
       "A data.frame: 1 × 6\n",
       "\\begin{tabular}{r|llllll}\n",
       "  & anon\\_id & pat\\_enc\\_csn\\_id\\_coded & admit\\_time & feature\\_type & features & values\\\\\n",
       "  & <chr> & <dbl> & <chr> & <chr> & <chr> & <int>\\\\\n",
       "\\hline\n",
       "\t1 & JCe78a06 & 131062667066 & 2015-01-02 01:01:00+00:00 & Diagnosis & R19.7 & 1\\\\\n",
       "\\end{tabular}\n"
      ],
      "text/markdown": [
       "\n",
       "A data.frame: 1 × 6\n",
       "\n",
       "| <!--/--> | anon_id &lt;chr&gt; | pat_enc_csn_id_coded &lt;dbl&gt; | admit_time &lt;chr&gt; | feature_type &lt;chr&gt; | features &lt;chr&gt; | values &lt;int&gt; |\n",
       "|---|---|---|---|---|---|---|\n",
       "| 1 | JCe78a06 | 131062667066 | 2015-01-02 01:01:00+00:00 | Diagnosis | R19.7 | 1 |\n",
       "\n"
      ],
      "text/plain": [
       "  anon_id  pat_enc_csn_id_coded admit_time                feature_type features\n",
       "1 JCe78a06 131062667066         2015-01-02 01:01:00+00:00 Diagnosis    R19.7   \n",
       "  values\n",
       "1 1     "
      ]
     },
     "metadata": {},
     "output_type": "display_data"
    }
   ],
   "source": [
    "head(orders6_micro,1)\n",
    "head(orders0_micro,1)"
   ]
  },
  {
   "cell_type": "code",
   "execution_count": 27,
   "metadata": {},
   "outputs": [
    {
     "data": {
      "text/html": [
       "8879761"
      ],
      "text/latex": [
       "8879761"
      ],
      "text/markdown": [
       "8879761"
      ],
      "text/plain": [
       "[1] 8879761"
      ]
     },
     "metadata": {},
     "output_type": "display_data"
    },
    {
     "data": {
      "text/html": [
       "60454"
      ],
      "text/latex": [
       "60454"
      ],
      "text/markdown": [
       "60454"
      ],
      "text/plain": [
       "[1] 60454"
      ]
     },
     "metadata": {},
     "output_type": "display_data"
    }
   ],
   "source": [
    "# combine BOTH\n",
    "# joined cohort is 60464, and 10 didn't have order in the old cohort\n",
    "# so here is 60464 - 10 = 60454! correct\n",
    "orders_micro <- bind_rows(orders0_micro, orders6_micro)# %>% distinct(pat_enc_csn_id_coded)\n",
    "nrow(orders_micro) # 8917512\n",
    "length(unique(orders_micro$pat_enc_csn_id_coded))"
   ]
  },
  {
   "cell_type": "code",
   "execution_count": 30,
   "metadata": {},
   "outputs": [
    {
     "data": {
      "text/html": [],
      "text/latex": [],
      "text/markdown": [],
      "text/plain": [
       "numeric(0)"
      ]
     },
     "metadata": {},
     "output_type": "display_data"
    },
    {
     "data": {
      "text/html": [
       "<style>\n",
       ".list-inline {list-style: none; margin:0; padding: 0}\n",
       ".list-inline>li {display: inline-block}\n",
       ".list-inline>li:not(:last-child)::after {content: \"\\00b7\"; padding: 0 .5ex}\n",
       "</style>\n",
       "<ol class=list-inline><li>131250899044</li><li>131232385768</li><li>131143463175</li><li>131244907345</li><li>131193906942</li><li>131239369230</li><li>131236364892</li><li>131179268110</li><li>131282120209</li><li>131239885415</li></ol>\n"
      ],
      "text/latex": [
       "\\begin{enumerate*}\n",
       "\\item 131250899044\n",
       "\\item 131232385768\n",
       "\\item 131143463175\n",
       "\\item 131244907345\n",
       "\\item 131193906942\n",
       "\\item 131239369230\n",
       "\\item 131236364892\n",
       "\\item 131179268110\n",
       "\\item 131282120209\n",
       "\\item 131239885415\n",
       "\\end{enumerate*}\n"
      ],
      "text/markdown": [
       "1. 131250899044\n",
       "2. 131232385768\n",
       "3. 131143463175\n",
       "4. 131244907345\n",
       "5. 131193906942\n",
       "6. 131239369230\n",
       "7. 131236364892\n",
       "8. 131179268110\n",
       "9. 131282120209\n",
       "10. 131239885415\n",
       "\n",
       "\n"
      ],
      "text/plain": [
       " [1] 131250899044 131232385768 131143463175 131244907345 131193906942\n",
       " [6] 131239369230 131236364892 131179268110 131282120209 131239885415"
      ]
     },
     "metadata": {},
     "output_type": "display_data"
    }
   ],
   "source": [
    "# setfiff(A, B) = those are in A, but not in B\n",
    "setdiff(orders_micro$pat_enc_csn_id_coded, cohort4$pat_enc_csn_id_coded) # 0 \n",
    "setdiff(cohort4$pat_enc_csn_id_coded, orders_micro$pat_enc_csn_id_coded) # 10\n",
    "# the 10 diff is exactly 10 in old cohort who didn't have orders"
   ]
  },
  {
   "cell_type": "markdown",
   "metadata": {},
   "source": [
    "### Get the demographic features from each cohort, then combine"
   ]
  },
  {
   "cell_type": "markdown",
   "metadata": {},
   "source": [
    "#### Run the old cohort"
   ]
  },
  {
   "cell_type": "code",
   "execution_count": 31,
   "metadata": {},
   "outputs": [
    {
     "data": {
      "text/html": [
       "3085046"
      ],
      "text/latex": [
       "3085046"
      ],
      "text/markdown": [
       "3085046"
      ],
      "text/plain": [
       "[1] 3085046"
      ]
     },
     "metadata": {},
     "output_type": "display_data"
    },
    {
     "data": {
      "text/html": [
       "43980"
      ],
      "text/latex": [
       "43980"
      ],
      "text/markdown": [
       "43980"
      ],
      "text/plain": [
       "[1] 43980"
      ]
     },
     "metadata": {},
     "output_type": "display_data"
    },
    {
     "data": {
      "text/html": [
       "<table class=\"dataframe\">\n",
       "<caption>A grouped_df: 3 × 2</caption>\n",
       "<thead>\n",
       "\t<tr><th scope=col>feature_type</th><th scope=col>n</th></tr>\n",
       "\t<tr><th scope=col>&lt;chr&gt;</th><th scope=col>&lt;int&gt;</th></tr>\n",
       "</thead>\n",
       "<tbody>\n",
       "\t<tr><td>demo  </td><td> 747660</td></tr>\n",
       "\t<tr><td>labs  </td><td>1358669</td></tr>\n",
       "\t<tr><td>vitals</td><td> 978717</td></tr>\n",
       "</tbody>\n",
       "</table>\n"
      ],
      "text/latex": [
       "A grouped\\_df: 3 × 2\n",
       "\\begin{tabular}{ll}\n",
       " feature\\_type & n\\\\\n",
       " <chr> & <int>\\\\\n",
       "\\hline\n",
       "\t demo   &  747660\\\\\n",
       "\t labs   & 1358669\\\\\n",
       "\t vitals &  978717\\\\\n",
       "\\end{tabular}\n"
      ],
      "text/markdown": [
       "\n",
       "A grouped_df: 3 × 2\n",
       "\n",
       "| feature_type &lt;chr&gt; | n &lt;int&gt; |\n",
       "|---|---|\n",
       "| demo   |  747660 |\n",
       "| labs   | 1358669 |\n",
       "| vitals |  978717 |\n",
       "\n"
      ],
      "text/plain": [
       "  feature_type n      \n",
       "1 demo          747660\n",
       "2 labs         1358669\n",
       "3 vitals        978717"
      ]
     },
     "metadata": {},
     "output_type": "display_data"
    }
   ],
   "source": [
    "# check all features with values\n",
    "values0 <- read.csv(file.path(featuredir, '2_7_coh4_feature_values.csv'))\n",
    "nrow(values0) # coh4 3085046 \n",
    "length(unique(values0$pat_enc_csn_id_coded)) # 43980 \n",
    "values0 %>% group_by(feature_type) %>% count()"
   ]
  },
  {
   "cell_type": "code",
   "execution_count": 32,
   "metadata": {},
   "outputs": [
    {
     "data": {
      "text/html": [
       "747660"
      ],
      "text/latex": [
       "747660"
      ],
      "text/markdown": [
       "747660"
      ],
      "text/plain": [
       "[1] 747660"
      ]
     },
     "metadata": {},
     "output_type": "display_data"
    },
    {
     "data": {
      "text/html": [
       "43980"
      ],
      "text/latex": [
       "43980"
      ],
      "text/markdown": [
       "43980"
      ],
      "text/plain": [
       "[1] 43980"
      ]
     },
     "metadata": {},
     "output_type": "display_data"
    }
   ],
   "source": [
    "# get demographics features\n",
    "demos0 <- values0 %>% filter(feature_type == 'demo') %>% select(anon_id, pat_enc_csn_id_coded, admit_time, \n",
    "                                                              feature_type, features, values)\n",
    "nrow(demos0) # coh4 747660 \n",
    "length(unique(demos0$pat_enc_csn_id_coded)) # 43980"
   ]
  },
  {
   "cell_type": "markdown",
   "metadata": {},
   "source": [
    "#### Run the new cohort"
   ]
  },
  {
   "cell_type": "code",
   "execution_count": 33,
   "metadata": {},
   "outputs": [
    {
     "data": {
      "text/html": [
       "1175680"
      ],
      "text/latex": [
       "1175680"
      ],
      "text/markdown": [
       "1175680"
      ],
      "text/plain": [
       "[1] 1175680"
      ]
     },
     "metadata": {},
     "output_type": "display_data"
    },
    {
     "data": {
      "text/html": [
       "16484"
      ],
      "text/latex": [
       "16484"
      ],
      "text/markdown": [
       "16484"
      ],
      "text/plain": [
       "[1] 16484"
      ]
     },
     "metadata": {},
     "output_type": "display_data"
    },
    {
     "data": {
      "text/html": [
       "<table class=\"dataframe\">\n",
       "<caption>A grouped_df: 3 × 2</caption>\n",
       "<thead>\n",
       "\t<tr><th scope=col>feature_type</th><th scope=col>n</th></tr>\n",
       "\t<tr><th scope=col>&lt;chr&gt;</th><th scope=col>&lt;int&gt;</th></tr>\n",
       "</thead>\n",
       "<tbody>\n",
       "\t<tr><td>demo  </td><td>280228</td></tr>\n",
       "\t<tr><td>labs  </td><td>506845</td></tr>\n",
       "\t<tr><td>vitals</td><td>388607</td></tr>\n",
       "</tbody>\n",
       "</table>\n"
      ],
      "text/latex": [
       "A grouped\\_df: 3 × 2\n",
       "\\begin{tabular}{ll}\n",
       " feature\\_type & n\\\\\n",
       " <chr> & <int>\\\\\n",
       "\\hline\n",
       "\t demo   & 280228\\\\\n",
       "\t labs   & 506845\\\\\n",
       "\t vitals & 388607\\\\\n",
       "\\end{tabular}\n"
      ],
      "text/markdown": [
       "\n",
       "A grouped_df: 3 × 2\n",
       "\n",
       "| feature_type &lt;chr&gt; | n &lt;int&gt; |\n",
       "|---|---|\n",
       "| demo   | 280228 |\n",
       "| labs   | 506845 |\n",
       "| vitals | 388607 |\n",
       "\n"
      ],
      "text/plain": [
       "  feature_type n     \n",
       "1 demo         280228\n",
       "2 labs         506845\n",
       "3 vitals       388607"
      ]
     },
     "metadata": {},
     "output_type": "display_data"
    }
   ],
   "source": [
    "# check all features with values\n",
    "values6 <- read.csv(file.path(valdir, '6_9_coh4_feature_values.csv'))\n",
    "nrow(values6) # coh4 1175680 \n",
    "length(unique(values6$pat_enc_csn_id_coded)) # 16484\n",
    "values6 %>% group_by(feature_type) %>% count()"
   ]
  },
  {
   "cell_type": "code",
   "execution_count": 35,
   "metadata": {},
   "outputs": [
    {
     "data": {
      "text/html": [
       "280228"
      ],
      "text/latex": [
       "280228"
      ],
      "text/markdown": [
       "280228"
      ],
      "text/plain": [
       "[1] 280228"
      ]
     },
     "metadata": {},
     "output_type": "display_data"
    },
    {
     "data": {
      "text/html": [
       "16484"
      ],
      "text/latex": [
       "16484"
      ],
      "text/markdown": [
       "16484"
      ],
      "text/plain": [
       "[1] 16484"
      ]
     },
     "metadata": {},
     "output_type": "display_data"
    }
   ],
   "source": [
    "# get demographics features\n",
    "demos6 <- values6 %>% filter(feature_type == 'demo') %>% select(anon_id, pat_enc_csn_id_coded, admit_time, \n",
    "                                                              feature_type, features, values)\n",
    "nrow(demos6) # coh4 280228 (old cohort 747660)\n",
    "length(unique(demos6$pat_enc_csn_id_coded)) # 16484 (old cohort 43980)"
   ]
  },
  {
   "cell_type": "code",
   "execution_count": 39,
   "metadata": {},
   "outputs": [
    {
     "data": {
      "text/html": [
       "0"
      ],
      "text/latex": [
       "0"
      ],
      "text/markdown": [
       "0"
      ],
      "text/plain": [
       "[1] 0"
      ]
     },
     "metadata": {},
     "output_type": "display_data"
    },
    {
     "data": {
      "text/html": [
       "43980"
      ],
      "text/latex": [
       "43980"
      ],
      "text/markdown": [
       "43980"
      ],
      "text/plain": [
       "[1] 43980"
      ]
     },
     "metadata": {},
     "output_type": "display_data"
    },
    {
     "data": {
      "text/html": [
       "0"
      ],
      "text/latex": [
       "0"
      ],
      "text/markdown": [
       "0"
      ],
      "text/plain": [
       "[1] 0"
      ]
     },
     "metadata": {},
     "output_type": "display_data"
    },
    {
     "data": {
      "text/html": [
       "16484"
      ],
      "text/latex": [
       "16484"
      ],
      "text/markdown": [
       "16484"
      ],
      "text/plain": [
       "[1] 16484"
      ]
     },
     "metadata": {},
     "output_type": "display_data"
    },
    {
     "data": {
      "text/html": [
       "16484"
      ],
      "text/latex": [
       "16484"
      ],
      "text/markdown": [
       "16484"
      ],
      "text/plain": [
       "[1] 16484"
      ]
     },
     "metadata": {},
     "output_type": "display_data"
    },
    {
     "data": {
      "text/html": [
       "43980"
      ],
      "text/latex": [
       "43980"
      ],
      "text/markdown": [
       "43980"
      ],
      "text/plain": [
       "[1] 43980"
      ]
     },
     "metadata": {},
     "output_type": "display_data"
    }
   ],
   "source": [
    "# setfiff(A, B) = those are in A, but not in B # sanity check - no overlapping\n",
    "length(setdiff(demos6$pat_enc_csn_id_coded, demos0$pat_enc_csn_id_coded)) #  \n",
    "length(setdiff(demos0$pat_enc_csn_id_coded, demos6$pat_enc_csn_id_coded)) # \n",
    "\n",
    "length(setdiff(demos6$pat_enc_csn_id_coded, cohort4$pat_enc_csn_id_coded)) #  \n",
    "length(setdiff(cohort4$pat_enc_csn_id_coded, demos6$pat_enc_csn_id_coded)) # \n",
    "\n",
    "length(setdiff(demos0$pat_enc_csn_id_coded, cohort4$pat_enc_csn_id_coded)) #  \n",
    "length(setdiff(cohort4$pat_enc_csn_id_coded, demos0$pat_enc_csn_id_coded)) #"
   ]
  },
  {
   "cell_type": "code",
   "execution_count": 56,
   "metadata": {},
   "outputs": [
    {
     "data": {
      "text/html": [
       "1027888"
      ],
      "text/latex": [
       "1027888"
      ],
      "text/markdown": [
       "1027888"
      ],
      "text/plain": [
       "[1] 1027888"
      ]
     },
     "metadata": {},
     "output_type": "display_data"
    },
    {
     "data": {
      "text/html": [
       "1027888"
      ],
      "text/latex": [
       "1027888"
      ],
      "text/markdown": [
       "1027888"
      ],
      "text/plain": [
       "[1] 1027888"
      ]
     },
     "metadata": {},
     "output_type": "display_data"
    },
    {
     "data": {
      "text/html": [
       "60464"
      ],
      "text/latex": [
       "60464"
      ],
      "text/markdown": [
       "60464"
      ],
      "text/plain": [
       "[1] 60464"
      ]
     },
     "metadata": {},
     "output_type": "display_data"
    },
    {
     "data": {
      "text/html": [
       "60464"
      ],
      "text/latex": [
       "60464"
      ],
      "text/markdown": [
       "60464"
      ],
      "text/plain": [
       "[1] 60464"
      ]
     },
     "metadata": {},
     "output_type": "display_data"
    },
    {
     "data": {
      "text/html": [
       "60464"
      ],
      "text/latex": [
       "60464"
      ],
      "text/markdown": [
       "60464"
      ],
      "text/plain": [
       "[1] 60464"
      ]
     },
     "metadata": {},
     "output_type": "display_data"
    },
    {
     "data": {
      "text/html": [
       "0"
      ],
      "text/latex": [
       "0"
      ],
      "text/markdown": [
       "0"
      ],
      "text/plain": [
       "[1] 0"
      ]
     },
     "metadata": {},
     "output_type": "display_data"
    },
    {
     "data": {
      "text/html": [
       "0"
      ],
      "text/latex": [
       "0"
      ],
      "text/markdown": [
       "0"
      ],
      "text/plain": [
       "[1] 0"
      ]
     },
     "metadata": {},
     "output_type": "display_data"
    }
   ],
   "source": [
    "# combine BOTH\n",
    "demos <- bind_rows(demos0, demos6) %>% distinct() #1027888\n",
    "nrow(demos)\n",
    "\n",
    "demos <- bind_rows(demos0, demos6) #1027888\n",
    "nrow(demos)\n",
    "\n",
    "length(unique(demos$pat_enc_csn_id_coded))\n",
    "\n",
    "# sanity check\n",
    "length(unique(demos$pat_enc_csn_id_coded)) # 60464\n",
    "length(unique(cohort4$pat_enc_csn_id_coded)) # 60464\n",
    "\n",
    "length(setdiff(cohort4$pat_enc_csn_id_coded, demos$pat_enc_csn_id_coded)) #\n",
    "length(setdiff(demos$pat_enc_csn_id_coded, cohort4$pat_enc_csn_id_coded)) #"
   ]
  },
  {
   "cell_type": "code",
   "execution_count": 59,
   "metadata": {},
   "outputs": [
    {
     "data": {
      "text/html": [
       "<table class=\"dataframe\">\n",
       "<caption>A grouped_df: 1 × 2</caption>\n",
       "<thead>\n",
       "\t<tr><th scope=col>feature_type</th><th scope=col>n</th></tr>\n",
       "\t<tr><th scope=col>&lt;chr&gt;</th><th scope=col>&lt;int&gt;</th></tr>\n",
       "</thead>\n",
       "<tbody>\n",
       "\t<tr><td>demo</td><td>1027888</td></tr>\n",
       "</tbody>\n",
       "</table>\n"
      ],
      "text/latex": [
       "A grouped\\_df: 1 × 2\n",
       "\\begin{tabular}{ll}\n",
       " feature\\_type & n\\\\\n",
       " <chr> & <int>\\\\\n",
       "\\hline\n",
       "\t demo & 1027888\\\\\n",
       "\\end{tabular}\n"
      ],
      "text/markdown": [
       "\n",
       "A grouped_df: 1 × 2\n",
       "\n",
       "| feature_type &lt;chr&gt; | n &lt;int&gt; |\n",
       "|---|---|\n",
       "| demo | 1027888 |\n",
       "\n"
      ],
      "text/plain": [
       "  feature_type n      \n",
       "1 demo         1027888"
      ]
     },
     "metadata": {},
     "output_type": "display_data"
    },
    {
     "data": {
      "text/html": [
       "<table class=\"dataframe\">\n",
       "<caption>A grouped_df: 17 × 2</caption>\n",
       "<thead>\n",
       "\t<tr><th scope=col>features</th><th scope=col>n</th></tr>\n",
       "\t<tr><th scope=col>&lt;chr&gt;</th><th scope=col>&lt;int&gt;</th></tr>\n",
       "</thead>\n",
       "<tbody>\n",
       "\t<tr><td>age                  </td><td>60464</td></tr>\n",
       "\t<tr><td>delta_ESI            </td><td>60464</td></tr>\n",
       "\t<tr><td>delta_H              </td><td>60464</td></tr>\n",
       "\t<tr><td>delta_W              </td><td>60464</td></tr>\n",
       "\t<tr><td>English              </td><td>60464</td></tr>\n",
       "\t<tr><td>ESI_i                </td><td>60464</td></tr>\n",
       "\t<tr><td>gender               </td><td>60464</td></tr>\n",
       "\t<tr><td>Height_i             </td><td>60464</td></tr>\n",
       "\t<tr><td>insurance            </td><td>60464</td></tr>\n",
       "\t<tr><td>race.Asian           </td><td>60464</td></tr>\n",
       "\t<tr><td>race.Black           </td><td>60464</td></tr>\n",
       "\t<tr><td>race.Native.American </td><td>60464</td></tr>\n",
       "\t<tr><td>race.Other           </td><td>60464</td></tr>\n",
       "\t<tr><td>race.Pacific.Islander</td><td>60464</td></tr>\n",
       "\t<tr><td>race.Unknown         </td><td>60464</td></tr>\n",
       "\t<tr><td>race.White           </td><td>60464</td></tr>\n",
       "\t<tr><td>Weight_i             </td><td>60464</td></tr>\n",
       "</tbody>\n",
       "</table>\n"
      ],
      "text/latex": [
       "A grouped\\_df: 17 × 2\n",
       "\\begin{tabular}{ll}\n",
       " features & n\\\\\n",
       " <chr> & <int>\\\\\n",
       "\\hline\n",
       "\t age                   & 60464\\\\\n",
       "\t delta\\_ESI             & 60464\\\\\n",
       "\t delta\\_H               & 60464\\\\\n",
       "\t delta\\_W               & 60464\\\\\n",
       "\t English               & 60464\\\\\n",
       "\t ESI\\_i                 & 60464\\\\\n",
       "\t gender                & 60464\\\\\n",
       "\t Height\\_i              & 60464\\\\\n",
       "\t insurance             & 60464\\\\\n",
       "\t race.Asian            & 60464\\\\\n",
       "\t race.Black            & 60464\\\\\n",
       "\t race.Native.American  & 60464\\\\\n",
       "\t race.Other            & 60464\\\\\n",
       "\t race.Pacific.Islander & 60464\\\\\n",
       "\t race.Unknown          & 60464\\\\\n",
       "\t race.White            & 60464\\\\\n",
       "\t Weight\\_i              & 60464\\\\\n",
       "\\end{tabular}\n"
      ],
      "text/markdown": [
       "\n",
       "A grouped_df: 17 × 2\n",
       "\n",
       "| features &lt;chr&gt; | n &lt;int&gt; |\n",
       "|---|---|\n",
       "| age                   | 60464 |\n",
       "| delta_ESI             | 60464 |\n",
       "| delta_H               | 60464 |\n",
       "| delta_W               | 60464 |\n",
       "| English               | 60464 |\n",
       "| ESI_i                 | 60464 |\n",
       "| gender                | 60464 |\n",
       "| Height_i              | 60464 |\n",
       "| insurance             | 60464 |\n",
       "| race.Asian            | 60464 |\n",
       "| race.Black            | 60464 |\n",
       "| race.Native.American  | 60464 |\n",
       "| race.Other            | 60464 |\n",
       "| race.Pacific.Islander | 60464 |\n",
       "| race.Unknown          | 60464 |\n",
       "| race.White            | 60464 |\n",
       "| Weight_i              | 60464 |\n",
       "\n"
      ],
      "text/plain": [
       "   features              n    \n",
       "1  age                   60464\n",
       "2  delta_ESI             60464\n",
       "3  delta_H               60464\n",
       "4  delta_W               60464\n",
       "5  English               60464\n",
       "6  ESI_i                 60464\n",
       "7  gender                60464\n",
       "8  Height_i              60464\n",
       "9  insurance             60464\n",
       "10 race.Asian            60464\n",
       "11 race.Black            60464\n",
       "12 race.Native.American  60464\n",
       "13 race.Other            60464\n",
       "14 race.Pacific.Islander 60464\n",
       "15 race.Unknown          60464\n",
       "16 race.White            60464\n",
       "17 Weight_i              60464"
      ]
     },
     "metadata": {},
     "output_type": "display_data"
    }
   ],
   "source": [
    "demos %>% group_by(feature_type) %>% count()\n",
    "demos %>% group_by(features) %>% count()"
   ]
  },
  {
   "cell_type": "markdown",
   "metadata": {},
   "source": [
    "### Check the featurized binned labs_vitals\n",
    "- Keep them both (`..._train` and `..._test`) in the same dataframe\n",
    "- Run `2_7_feature_values`, `2_8_binned_labs_vitals_train`, and `2_8_binned_labs_vitals_test` \n",
    "- Rerun the old cohort and new cohort separately, then combine the demos and order counts features\n",
    "- The featurirzed labs and vitals are already combined in the previous notebook 6.10"
   ]
  },
  {
   "cell_type": "code",
   "execution_count": 44,
   "metadata": {},
   "outputs": [
    {
     "data": {
      "text/html": [
       "1825210"
      ],
      "text/latex": [
       "1825210"
      ],
      "text/markdown": [
       "1825210"
      ],
      "text/plain": [
       "[1] 1825210"
      ]
     },
     "metadata": {},
     "output_type": "display_data"
    },
    {
     "data": {
      "text/html": [
       "43980"
      ],
      "text/latex": [
       "43980"
      ],
      "text/markdown": [
       "43980"
      ],
      "text/plain": [
       "[1] 43980"
      ]
     },
     "metadata": {},
     "output_type": "display_data"
    },
    {
     "data": {
      "text/html": [
       "<table class=\"dataframe\">\n",
       "<caption>A grouped_df: 2 × 2</caption>\n",
       "<thead>\n",
       "\t<tr><th scope=col>feature_type</th><th scope=col>n</th></tr>\n",
       "\t<tr><th scope=col>&lt;chr&gt;</th><th scope=col>&lt;int&gt;</th></tr>\n",
       "</thead>\n",
       "<tbody>\n",
       "\t<tr><td>labs_results_train</td><td>1287050</td></tr>\n",
       "\t<tr><td>vitals_train      </td><td> 538160</td></tr>\n",
       "</tbody>\n",
       "</table>\n"
      ],
      "text/latex": [
       "A grouped\\_df: 2 × 2\n",
       "\\begin{tabular}{ll}\n",
       " feature\\_type & n\\\\\n",
       " <chr> & <int>\\\\\n",
       "\\hline\n",
       "\t labs\\_results\\_train & 1287050\\\\\n",
       "\t vitals\\_train       &  538160\\\\\n",
       "\\end{tabular}\n"
      ],
      "text/markdown": [
       "\n",
       "A grouped_df: 2 × 2\n",
       "\n",
       "| feature_type &lt;chr&gt; | n &lt;int&gt; |\n",
       "|---|---|\n",
       "| labs_results_train | 1287050 |\n",
       "| vitals_train       |  538160 |\n",
       "\n"
      ],
      "text/plain": [
       "  feature_type       n      \n",
       "1 labs_results_train 1287050\n",
       "2 vitals_train        538160"
      ]
     },
     "metadata": {},
     "output_type": "display_data"
    }
   ],
   "source": [
    "# read in train_binned labs and vitals\n",
    "trainbinned_labs_vitals0 <- read.csv(file.path(featuredir, '2_8_coh4_binned_labs_vitals_train.csv'))\n",
    "nrow(trainbinned_labs_vitals0) #coh4: old 1825210\n",
    "length(unique(trainbinned_labs_vitals0$pat_enc_csn_id_coded)) #43980\n",
    "trainbinned_labs_vitals0 %>% group_by(feature_type) %>% count()"
   ]
  },
  {
   "cell_type": "code",
   "execution_count": 45,
   "metadata": {},
   "outputs": [
    {
     "data": {
      "text/html": [
       "1826919"
      ],
      "text/latex": [
       "1826919"
      ],
      "text/markdown": [
       "1826919"
      ],
      "text/plain": [
       "[1] 1826919"
      ]
     },
     "metadata": {},
     "output_type": "display_data"
    },
    {
     "data": {
      "text/html": [
       "43980"
      ],
      "text/latex": [
       "43980"
      ],
      "text/markdown": [
       "43980"
      ],
      "text/plain": [
       "[1] 43980"
      ]
     },
     "metadata": {},
     "output_type": "display_data"
    },
    {
     "data": {
      "text/html": [
       "<table class=\"dataframe\">\n",
       "<caption>A grouped_df: 2 × 2</caption>\n",
       "<thead>\n",
       "\t<tr><th scope=col>feature_type</th><th scope=col>n</th></tr>\n",
       "\t<tr><th scope=col>&lt;chr&gt;</th><th scope=col>&lt;int&gt;</th></tr>\n",
       "</thead>\n",
       "<tbody>\n",
       "\t<tr><td>labs_results_train</td><td>1287256</td></tr>\n",
       "\t<tr><td>vitals_train      </td><td> 539663</td></tr>\n",
       "</tbody>\n",
       "</table>\n"
      ],
      "text/latex": [
       "A grouped\\_df: 2 × 2\n",
       "\\begin{tabular}{ll}\n",
       " feature\\_type & n\\\\\n",
       " <chr> & <int>\\\\\n",
       "\\hline\n",
       "\t labs\\_results\\_train & 1287256\\\\\n",
       "\t vitals\\_train       &  539663\\\\\n",
       "\\end{tabular}\n"
      ],
      "text/markdown": [
       "\n",
       "A grouped_df: 2 × 2\n",
       "\n",
       "| feature_type &lt;chr&gt; | n &lt;int&gt; |\n",
       "|---|---|\n",
       "| labs_results_train | 1287256 |\n",
       "| vitals_train       |  539663 |\n",
       "\n"
      ],
      "text/plain": [
       "  feature_type       n      \n",
       "1 labs_results_train 1287256\n",
       "2 vitals_train        539663"
      ]
     },
     "metadata": {},
     "output_type": "display_data"
    }
   ],
   "source": [
    "# read in train_binned labs and vitals with the new cohort\n",
    "trainbinned_labs_vitals <- read.csv(file.path(valdir, '6_10_coh4_binned_labs_vitals_train.csv'))\n",
    "nrow(trainbinned_labs_vitals) #coh4 1826919\n",
    "length(unique(trainbinned_labs_vitals$pat_enc_csn_id_coded)) #43980\n",
    "trainbinned_labs_vitals %>% group_by(feature_type) %>% count()"
   ]
  },
  {
   "cell_type": "code",
   "execution_count": 46,
   "metadata": {},
   "outputs": [
    {
     "data": {
      "text/html": [
       "1826919"
      ],
      "text/latex": [
       "1826919"
      ],
      "text/markdown": [
       "1826919"
      ],
      "text/plain": [
       "[1] 1826919"
      ]
     },
     "metadata": {},
     "output_type": "display_data"
    },
    {
     "data": {
      "text/html": [
       "43980"
      ],
      "text/latex": [
       "43980"
      ],
      "text/markdown": [
       "43980"
      ],
      "text/plain": [
       "[1] 43980"
      ]
     },
     "metadata": {},
     "output_type": "display_data"
    },
    {
     "data": {
      "text/html": [
       "<table class=\"dataframe\">\n",
       "<caption>A grouped_df: 2 × 2</caption>\n",
       "<thead>\n",
       "\t<tr><th scope=col>feature_type</th><th scope=col>n</th></tr>\n",
       "\t<tr><th scope=col>&lt;chr&gt;</th><th scope=col>&lt;int&gt;</th></tr>\n",
       "</thead>\n",
       "<tbody>\n",
       "\t<tr><td>labs_results_test</td><td>1287256</td></tr>\n",
       "\t<tr><td>vitals_test      </td><td> 539663</td></tr>\n",
       "</tbody>\n",
       "</table>\n"
      ],
      "text/latex": [
       "A grouped\\_df: 2 × 2\n",
       "\\begin{tabular}{ll}\n",
       " feature\\_type & n\\\\\n",
       " <chr> & <int>\\\\\n",
       "\\hline\n",
       "\t labs\\_results\\_test & 1287256\\\\\n",
       "\t vitals\\_test       &  539663\\\\\n",
       "\\end{tabular}\n"
      ],
      "text/markdown": [
       "\n",
       "A grouped_df: 2 × 2\n",
       "\n",
       "| feature_type &lt;chr&gt; | n &lt;int&gt; |\n",
       "|---|---|\n",
       "| labs_results_test | 1287256 |\n",
       "| vitals_test       |  539663 |\n",
       "\n"
      ],
      "text/plain": [
       "  feature_type      n      \n",
       "1 labs_results_test 1287256\n",
       "2 vitals_test        539663"
      ]
     },
     "metadata": {},
     "output_type": "display_data"
    }
   ],
   "source": [
    "# read in test_binned labs and vitals OLD cohort\n",
    "testbinned_labs_vitals0 <- read.csv(file.path(featuredir, '2_8_coh4_binned_labs_vitals_test.csv'))\n",
    "nrow(testbinned_labs_vitals0) #coh4  1826919\n",
    "length(unique(testbinned_labs_vitals0$pat_enc_csn_id_coded)) # 43980\n",
    "testbinned_labs_vitals0 %>% group_by(feature_type) %>% count()"
   ]
  },
  {
   "cell_type": "code",
   "execution_count": 47,
   "metadata": {},
   "outputs": [
    {
     "data": {
      "text/html": [
       "2534674"
      ],
      "text/latex": [
       "2534674"
      ],
      "text/markdown": [
       "2534674"
      ],
      "text/plain": [
       "[1] 2534674"
      ]
     },
     "metadata": {},
     "output_type": "display_data"
    },
    {
     "data": {
      "text/html": [
       "60463"
      ],
      "text/latex": [
       "60463"
      ],
      "text/markdown": [
       "60463"
      ],
      "text/plain": [
       "[1] 60463"
      ]
     },
     "metadata": {},
     "output_type": "display_data"
    },
    {
     "data": {
      "text/html": [
       "<table class=\"dataframe\">\n",
       "<caption>A grouped_df: 2 × 2</caption>\n",
       "<thead>\n",
       "\t<tr><th scope=col>feature_type</th><th scope=col>n</th></tr>\n",
       "\t<tr><th scope=col>&lt;chr&gt;</th><th scope=col>&lt;int&gt;</th></tr>\n",
       "</thead>\n",
       "<tbody>\n",
       "\t<tr><td>labs_results_test</td><td>1778502</td></tr>\n",
       "\t<tr><td>vitals_test      </td><td> 756172</td></tr>\n",
       "</tbody>\n",
       "</table>\n"
      ],
      "text/latex": [
       "A grouped\\_df: 2 × 2\n",
       "\\begin{tabular}{ll}\n",
       " feature\\_type & n\\\\\n",
       " <chr> & <int>\\\\\n",
       "\\hline\n",
       "\t labs\\_results\\_test & 1778502\\\\\n",
       "\t vitals\\_test       &  756172\\\\\n",
       "\\end{tabular}\n"
      ],
      "text/markdown": [
       "\n",
       "A grouped_df: 2 × 2\n",
       "\n",
       "| feature_type &lt;chr&gt; | n &lt;int&gt; |\n",
       "|---|---|\n",
       "| labs_results_test | 1778502 |\n",
       "| vitals_test       |  756172 |\n",
       "\n"
      ],
      "text/plain": [
       "  feature_type      n      \n",
       "1 labs_results_test 1778502\n",
       "2 vitals_test        756172"
      ]
     },
     "metadata": {},
     "output_type": "display_data"
    }
   ],
   "source": [
    "# read in test_binned labs and vitals, new cohort\n",
    "testbinned_labs_vitals <- read.csv(file.path(valdir, '6_10_coh4_binned_labs_vitals_test.csv'))\n",
    "nrow(testbinned_labs_vitals) #coh4 2534674 \n",
    "length(unique(testbinned_labs_vitals$pat_enc_csn_id_coded)) # 60463\n",
    "testbinned_labs_vitals %>% group_by(feature_type) %>% count()"
   ]
  },
  {
   "cell_type": "code",
   "execution_count": 48,
   "metadata": {},
   "outputs": [
    {
     "data": {
      "text/html": [
       "<table class=\"dataframe\">\n",
       "<caption>A data.frame: 1 × 6</caption>\n",
       "<thead>\n",
       "\t<tr><th></th><th scope=col>anon_id</th><th scope=col>pat_enc_csn_id_coded</th><th scope=col>admit_time</th><th scope=col>feature_type</th><th scope=col>features</th><th scope=col>values</th></tr>\n",
       "\t<tr><th></th><th scope=col>&lt;chr&gt;</th><th scope=col>&lt;dbl&gt;</th><th scope=col>&lt;chr&gt;</th><th scope=col>&lt;chr&gt;</th><th scope=col>&lt;chr&gt;</th><th scope=col>&lt;int&gt;</th></tr>\n",
       "</thead>\n",
       "<tbody>\n",
       "\t<tr><th scope=row>1</th><td>JC29f8ad2</td><td>131274729058</td><td>2019-08-31 12:52:00+00:00</td><td>labs_results_train</td><td>ALB_3</td><td>1</td></tr>\n",
       "</tbody>\n",
       "</table>\n"
      ],
      "text/latex": [
       "A data.frame: 1 × 6\n",
       "\\begin{tabular}{r|llllll}\n",
       "  & anon\\_id & pat\\_enc\\_csn\\_id\\_coded & admit\\_time & feature\\_type & features & values\\\\\n",
       "  & <chr> & <dbl> & <chr> & <chr> & <chr> & <int>\\\\\n",
       "\\hline\n",
       "\t1 & JC29f8ad2 & 131274729058 & 2019-08-31 12:52:00+00:00 & labs\\_results\\_train & ALB\\_3 & 1\\\\\n",
       "\\end{tabular}\n"
      ],
      "text/markdown": [
       "\n",
       "A data.frame: 1 × 6\n",
       "\n",
       "| <!--/--> | anon_id &lt;chr&gt; | pat_enc_csn_id_coded &lt;dbl&gt; | admit_time &lt;chr&gt; | feature_type &lt;chr&gt; | features &lt;chr&gt; | values &lt;int&gt; |\n",
       "|---|---|---|---|---|---|---|\n",
       "| 1 | JC29f8ad2 | 131274729058 | 2019-08-31 12:52:00+00:00 | labs_results_train | ALB_3 | 1 |\n",
       "\n"
      ],
      "text/plain": [
       "  anon_id   pat_enc_csn_id_coded admit_time                feature_type      \n",
       "1 JC29f8ad2 131274729058         2019-08-31 12:52:00+00:00 labs_results_train\n",
       "  features values\n",
       "1 ALB_3    1     "
      ]
     },
     "metadata": {},
     "output_type": "display_data"
    },
    {
     "data": {
      "text/html": [
       "<table class=\"dataframe\">\n",
       "<caption>A data.frame: 1 × 6</caption>\n",
       "<thead>\n",
       "\t<tr><th></th><th scope=col>anon_id</th><th scope=col>pat_enc_csn_id_coded</th><th scope=col>admit_time</th><th scope=col>feature_type</th><th scope=col>features</th><th scope=col>values</th></tr>\n",
       "\t<tr><th></th><th scope=col>&lt;chr&gt;</th><th scope=col>&lt;dbl&gt;</th><th scope=col>&lt;chr&gt;</th><th scope=col>&lt;chr&gt;</th><th scope=col>&lt;chr&gt;</th><th scope=col>&lt;int&gt;</th></tr>\n",
       "</thead>\n",
       "<tbody>\n",
       "\t<tr><th scope=row>1</th><td>JC1000116</td><td>131295313275</td><td>2020-09-29 22:45:00+00:00</td><td>labs_results_test</td><td>ALB_7</td><td>1</td></tr>\n",
       "</tbody>\n",
       "</table>\n"
      ],
      "text/latex": [
       "A data.frame: 1 × 6\n",
       "\\begin{tabular}{r|llllll}\n",
       "  & anon\\_id & pat\\_enc\\_csn\\_id\\_coded & admit\\_time & feature\\_type & features & values\\\\\n",
       "  & <chr> & <dbl> & <chr> & <chr> & <chr> & <int>\\\\\n",
       "\\hline\n",
       "\t1 & JC1000116 & 131295313275 & 2020-09-29 22:45:00+00:00 & labs\\_results\\_test & ALB\\_7 & 1\\\\\n",
       "\\end{tabular}\n"
      ],
      "text/markdown": [
       "\n",
       "A data.frame: 1 × 6\n",
       "\n",
       "| <!--/--> | anon_id &lt;chr&gt; | pat_enc_csn_id_coded &lt;dbl&gt; | admit_time &lt;chr&gt; | feature_type &lt;chr&gt; | features &lt;chr&gt; | values &lt;int&gt; |\n",
       "|---|---|---|---|---|---|---|\n",
       "| 1 | JC1000116 | 131295313275 | 2020-09-29 22:45:00+00:00 | labs_results_test | ALB_7 | 1 |\n",
       "\n"
      ],
      "text/plain": [
       "  anon_id   pat_enc_csn_id_coded admit_time                feature_type     \n",
       "1 JC1000116 131295313275         2020-09-29 22:45:00+00:00 labs_results_test\n",
       "  features values\n",
       "1 ALB_7    1     "
      ]
     },
     "metadata": {},
     "output_type": "display_data"
    }
   ],
   "source": [
    "head(trainbinned_labs_vitals, 1)\n",
    "head(testbinned_labs_vitals, 1)"
   ]
  },
  {
   "cell_type": "markdown",
   "metadata": {},
   "source": [
    "### Combine all features"
   ]
  },
  {
   "cell_type": "code",
   "execution_count": 60,
   "metadata": {},
   "outputs": [
    {
     "data": {
      "text/html": [
       "<table class=\"dataframe\">\n",
       "<caption>A data.frame: 1 × 6</caption>\n",
       "<thead>\n",
       "\t<tr><th></th><th scope=col>anon_id</th><th scope=col>pat_enc_csn_id_coded</th><th scope=col>admit_time</th><th scope=col>feature_type</th><th scope=col>features</th><th scope=col>values</th></tr>\n",
       "\t<tr><th></th><th scope=col>&lt;chr&gt;</th><th scope=col>&lt;dbl&gt;</th><th scope=col>&lt;chr&gt;</th><th scope=col>&lt;chr&gt;</th><th scope=col>&lt;chr&gt;</th><th scope=col>&lt;dbl&gt;</th></tr>\n",
       "</thead>\n",
       "<tbody>\n",
       "\t<tr><th scope=row>1</th><td>JC29f8ad2</td><td>131274729058</td><td>2019-08-31 12:52:00+00:00</td><td>demo</td><td>ESI_i</td><td>3</td></tr>\n",
       "</tbody>\n",
       "</table>\n"
      ],
      "text/latex": [
       "A data.frame: 1 × 6\n",
       "\\begin{tabular}{r|llllll}\n",
       "  & anon\\_id & pat\\_enc\\_csn\\_id\\_coded & admit\\_time & feature\\_type & features & values\\\\\n",
       "  & <chr> & <dbl> & <chr> & <chr> & <chr> & <dbl>\\\\\n",
       "\\hline\n",
       "\t1 & JC29f8ad2 & 131274729058 & 2019-08-31 12:52:00+00:00 & demo & ESI\\_i & 3\\\\\n",
       "\\end{tabular}\n"
      ],
      "text/markdown": [
       "\n",
       "A data.frame: 1 × 6\n",
       "\n",
       "| <!--/--> | anon_id &lt;chr&gt; | pat_enc_csn_id_coded &lt;dbl&gt; | admit_time &lt;chr&gt; | feature_type &lt;chr&gt; | features &lt;chr&gt; | values &lt;dbl&gt; |\n",
       "|---|---|---|---|---|---|---|\n",
       "| 1 | JC29f8ad2 | 131274729058 | 2019-08-31 12:52:00+00:00 | demo | ESI_i | 3 |\n",
       "\n"
      ],
      "text/plain": [
       "  anon_id   pat_enc_csn_id_coded admit_time                feature_type\n",
       "1 JC29f8ad2 131274729058         2019-08-31 12:52:00+00:00 demo        \n",
       "  features values\n",
       "1 ESI_i    3     "
      ]
     },
     "metadata": {},
     "output_type": "display_data"
    },
    {
     "data": {
      "text/html": [
       "<table class=\"dataframe\">\n",
       "<caption>A data.frame: 1 × 6</caption>\n",
       "<thead>\n",
       "\t<tr><th></th><th scope=col>anon_id</th><th scope=col>pat_enc_csn_id_coded</th><th scope=col>admit_time</th><th scope=col>feature_type</th><th scope=col>features</th><th scope=col>values</th></tr>\n",
       "\t<tr><th></th><th scope=col>&lt;chr&gt;</th><th scope=col>&lt;dbl&gt;</th><th scope=col>&lt;chr&gt;</th><th scope=col>&lt;chr&gt;</th><th scope=col>&lt;chr&gt;</th><th scope=col>&lt;int&gt;</th></tr>\n",
       "</thead>\n",
       "<tbody>\n",
       "\t<tr><th scope=row>1</th><td>JCe78a06</td><td>131062667066</td><td>2015-01-02 01:01:00+00:00</td><td>Diagnosis</td><td>R19.7</td><td>1</td></tr>\n",
       "</tbody>\n",
       "</table>\n"
      ],
      "text/latex": [
       "A data.frame: 1 × 6\n",
       "\\begin{tabular}{r|llllll}\n",
       "  & anon\\_id & pat\\_enc\\_csn\\_id\\_coded & admit\\_time & feature\\_type & features & values\\\\\n",
       "  & <chr> & <dbl> & <chr> & <chr> & <chr> & <int>\\\\\n",
       "\\hline\n",
       "\t1 & JCe78a06 & 131062667066 & 2015-01-02 01:01:00+00:00 & Diagnosis & R19.7 & 1\\\\\n",
       "\\end{tabular}\n"
      ],
      "text/markdown": [
       "\n",
       "A data.frame: 1 × 6\n",
       "\n",
       "| <!--/--> | anon_id &lt;chr&gt; | pat_enc_csn_id_coded &lt;dbl&gt; | admit_time &lt;chr&gt; | feature_type &lt;chr&gt; | features &lt;chr&gt; | values &lt;int&gt; |\n",
       "|---|---|---|---|---|---|---|\n",
       "| 1 | JCe78a06 | 131062667066 | 2015-01-02 01:01:00+00:00 | Diagnosis | R19.7 | 1 |\n",
       "\n"
      ],
      "text/plain": [
       "  anon_id  pat_enc_csn_id_coded admit_time                feature_type features\n",
       "1 JCe78a06 131062667066         2015-01-02 01:01:00+00:00 Diagnosis    R19.7   \n",
       "  values\n",
       "1 1     "
      ]
     },
     "metadata": {},
     "output_type": "display_data"
    }
   ],
   "source": [
    "head(demos, 1)\n",
    "head(orders_micro,1)"
   ]
  },
  {
   "cell_type": "code",
   "execution_count": 61,
   "metadata": {},
   "outputs": [
    {
     "data": {
      "text/html": [
       "14269242"
      ],
      "text/latex": [
       "14269242"
      ],
      "text/markdown": [
       "14269242"
      ],
      "text/plain": [
       "[1] 14269242"
      ]
     },
     "metadata": {},
     "output_type": "display_data"
    },
    {
     "data": {
      "text/html": [
       "60464"
      ],
      "text/latex": [
       "60464"
      ],
      "text/markdown": [
       "60464"
      ],
      "text/plain": [
       "[1] 60464"
      ]
     },
     "metadata": {},
     "output_type": "display_data"
    },
    {
     "data": {
      "text/html": [
       "49278"
      ],
      "text/latex": [
       "49278"
      ],
      "text/markdown": [
       "49278"
      ],
      "text/plain": [
       "[1] 49278"
      ]
     },
     "metadata": {},
     "output_type": "display_data"
    },
    {
     "data": {
      "text/html": [
       "<table class=\"dataframe\">\n",
       "<caption>A grouped_df: 11 × 2</caption>\n",
       "<thead>\n",
       "\t<tr><th scope=col>feature_type</th><th scope=col>n</th></tr>\n",
       "\t<tr><th scope=col>&lt;chr&gt;</th><th scope=col>&lt;int&gt;</th></tr>\n",
       "</thead>\n",
       "<tbody>\n",
       "\t<tr><td>Diagnosis         </td><td>4265466</td></tr>\n",
       "\t<tr><td>Meds              </td><td>2639807</td></tr>\n",
       "\t<tr><td>labs_results_test </td><td>1778502</td></tr>\n",
       "\t<tr><td>Lab               </td><td>1427729</td></tr>\n",
       "\t<tr><td>labs_results_train</td><td>1287256</td></tr>\n",
       "\t<tr><td>demo              </td><td>1027888</td></tr>\n",
       "\t<tr><td>vitals_test       </td><td> 756172</td></tr>\n",
       "\t<tr><td>vitals_train      </td><td> 539663</td></tr>\n",
       "\t<tr><td>Imaging           </td><td> 420087</td></tr>\n",
       "\t<tr><td>Procedures        </td><td>  74577</td></tr>\n",
       "\t<tr><td>Microbiology      </td><td>  52095</td></tr>\n",
       "</tbody>\n",
       "</table>\n"
      ],
      "text/latex": [
       "A grouped\\_df: 11 × 2\n",
       "\\begin{tabular}{ll}\n",
       " feature\\_type & n\\\\\n",
       " <chr> & <int>\\\\\n",
       "\\hline\n",
       "\t Diagnosis          & 4265466\\\\\n",
       "\t Meds               & 2639807\\\\\n",
       "\t labs\\_results\\_test  & 1778502\\\\\n",
       "\t Lab                & 1427729\\\\\n",
       "\t labs\\_results\\_train & 1287256\\\\\n",
       "\t demo               & 1027888\\\\\n",
       "\t vitals\\_test        &  756172\\\\\n",
       "\t vitals\\_train       &  539663\\\\\n",
       "\t Imaging            &  420087\\\\\n",
       "\t Procedures         &   74577\\\\\n",
       "\t Microbiology       &   52095\\\\\n",
       "\\end{tabular}\n"
      ],
      "text/markdown": [
       "\n",
       "A grouped_df: 11 × 2\n",
       "\n",
       "| feature_type &lt;chr&gt; | n &lt;int&gt; |\n",
       "|---|---|\n",
       "| Diagnosis          | 4265466 |\n",
       "| Meds               | 2639807 |\n",
       "| labs_results_test  | 1778502 |\n",
       "| Lab                | 1427729 |\n",
       "| labs_results_train | 1287256 |\n",
       "| demo               | 1027888 |\n",
       "| vitals_test        |  756172 |\n",
       "| vitals_train       |  539663 |\n",
       "| Imaging            |  420087 |\n",
       "| Procedures         |   74577 |\n",
       "| Microbiology       |   52095 |\n",
       "\n"
      ],
      "text/plain": [
       "   feature_type       n      \n",
       "1  Diagnosis          4265466\n",
       "2  Meds               2639807\n",
       "3  labs_results_test  1778502\n",
       "4  Lab                1427729\n",
       "5  labs_results_train 1287256\n",
       "6  demo               1027888\n",
       "7  vitals_test         756172\n",
       "8  vitals_train        539663\n",
       "9  Imaging             420087\n",
       "10 Procedures           74577\n",
       "11 Microbiology         52095"
      ]
     },
     "metadata": {},
     "output_type": "display_data"
    }
   ],
   "source": [
    "# combine all features for the complex data set, remove time column since demo doesn't have it\n",
    "features_all <- bind_rows(demos, orders_micro, trainbinned_labs_vitals, testbinned_labs_vitals)\n",
    "nrow(features_all) # 14269242 \n",
    "length(unique(features_all$pat_enc_csn_id_coded)) # 60464\n",
    "length(unique(features_all$features)) # 49278\n",
    "features_all %>% group_by(feature_type) %>% count(sort=TRUE)"
   ]
  },
  {
   "cell_type": "code",
   "execution_count": 70,
   "metadata": {},
   "outputs": [
    {
     "data": {
      "text/html": [
       "<table class=\"dataframe\">\n",
       "<caption>A data.frame: 1 × 6</caption>\n",
       "<thead>\n",
       "\t<tr><th></th><th scope=col>anon_id</th><th scope=col>pat_enc_csn_id_coded</th><th scope=col>admit_time</th><th scope=col>feature_type</th><th scope=col>features</th><th scope=col>values</th></tr>\n",
       "\t<tr><th></th><th scope=col>&lt;chr&gt;</th><th scope=col>&lt;dbl&gt;</th><th scope=col>&lt;chr&gt;</th><th scope=col>&lt;chr&gt;</th><th scope=col>&lt;chr&gt;</th><th scope=col>&lt;dbl&gt;</th></tr>\n",
       "</thead>\n",
       "<tbody>\n",
       "\t<tr><th scope=row>1</th><td>JC29f8ad2</td><td>131274729058</td><td>2019-08-31 12:52:00+00:00</td><td>demo</td><td>ESI_i</td><td>3</td></tr>\n",
       "</tbody>\n",
       "</table>\n"
      ],
      "text/latex": [
       "A data.frame: 1 × 6\n",
       "\\begin{tabular}{r|llllll}\n",
       "  & anon\\_id & pat\\_enc\\_csn\\_id\\_coded & admit\\_time & feature\\_type & features & values\\\\\n",
       "  & <chr> & <dbl> & <chr> & <chr> & <chr> & <dbl>\\\\\n",
       "\\hline\n",
       "\t1 & JC29f8ad2 & 131274729058 & 2019-08-31 12:52:00+00:00 & demo & ESI\\_i & 3\\\\\n",
       "\\end{tabular}\n"
      ],
      "text/markdown": [
       "\n",
       "A data.frame: 1 × 6\n",
       "\n",
       "| <!--/--> | anon_id &lt;chr&gt; | pat_enc_csn_id_coded &lt;dbl&gt; | admit_time &lt;chr&gt; | feature_type &lt;chr&gt; | features &lt;chr&gt; | values &lt;dbl&gt; |\n",
       "|---|---|---|---|---|---|---|\n",
       "| 1 | JC29f8ad2 | 131274729058 | 2019-08-31 12:52:00+00:00 | demo | ESI_i | 3 |\n",
       "\n"
      ],
      "text/plain": [
       "  anon_id   pat_enc_csn_id_coded admit_time                feature_type\n",
       "1 JC29f8ad2 131274729058         2019-08-31 12:52:00+00:00 demo        \n",
       "  features values\n",
       "1 ESI_i    3     "
      ]
     },
     "metadata": {},
     "output_type": "display_data"
    },
    {
     "data": {
      "text/html": [
       "<table class=\"dataframe\">\n",
       "<caption>A data.frame: 1 × 6</caption>\n",
       "<thead>\n",
       "\t<tr><th></th><th scope=col>anon_id</th><th scope=col>pat_enc_csn_id_coded</th><th scope=col>admit_time</th><th scope=col>feature_type</th><th scope=col>features</th><th scope=col>values</th></tr>\n",
       "\t<tr><th></th><th scope=col>&lt;chr&gt;</th><th scope=col>&lt;dbl&gt;</th><th scope=col>&lt;chr&gt;</th><th scope=col>&lt;chr&gt;</th><th scope=col>&lt;chr&gt;</th><th scope=col>&lt;dbl&gt;</th></tr>\n",
       "</thead>\n",
       "<tbody>\n",
       "\t<tr><th scope=row>14269242</th><td>JCec489c</td><td>131226296895</td><td>2017-05-08 01:56:00+00:00</td><td>labs_results_test</td><td>eGFR_5</td><td>1</td></tr>\n",
       "</tbody>\n",
       "</table>\n"
      ],
      "text/latex": [
       "A data.frame: 1 × 6\n",
       "\\begin{tabular}{r|llllll}\n",
       "  & anon\\_id & pat\\_enc\\_csn\\_id\\_coded & admit\\_time & feature\\_type & features & values\\\\\n",
       "  & <chr> & <dbl> & <chr> & <chr> & <chr> & <dbl>\\\\\n",
       "\\hline\n",
       "\t14269242 & JCec489c & 131226296895 & 2017-05-08 01:56:00+00:00 & labs\\_results\\_test & eGFR\\_5 & 1\\\\\n",
       "\\end{tabular}\n"
      ],
      "text/markdown": [
       "\n",
       "A data.frame: 1 × 6\n",
       "\n",
       "| <!--/--> | anon_id &lt;chr&gt; | pat_enc_csn_id_coded &lt;dbl&gt; | admit_time &lt;chr&gt; | feature_type &lt;chr&gt; | features &lt;chr&gt; | values &lt;dbl&gt; |\n",
       "|---|---|---|---|---|---|---|\n",
       "| 14269242 | JCec489c | 131226296895 | 2017-05-08 01:56:00+00:00 | labs_results_test | eGFR_5 | 1 |\n",
       "\n"
      ],
      "text/plain": [
       "         anon_id  pat_enc_csn_id_coded admit_time               \n",
       "14269242 JCec489c 131226296895         2017-05-08 01:56:00+00:00\n",
       "         feature_type      features values\n",
       "14269242 labs_results_test eGFR_5   1     "
      ]
     },
     "metadata": {},
     "output_type": "display_data"
    }
   ],
   "source": [
    "head(features_all, 1)\n",
    "tail(features_all, 1)"
   ]
  },
  {
   "cell_type": "code",
   "execution_count": 63,
   "metadata": {},
   "outputs": [
    {
     "data": {
      "text/html": [
       "<table class=\"dataframe\">\n",
       "<caption>A grouped_df: 6 × 2</caption>\n",
       "<thead>\n",
       "\t<tr><th scope=col>features</th><th scope=col>n</th></tr>\n",
       "\t<tr><th scope=col>&lt;chr&gt;</th><th scope=col>&lt;int&gt;</th></tr>\n",
       "</thead>\n",
       "<tbody>\n",
       "\t<tr><td>ALB_0 </td><td>2</td></tr>\n",
       "\t<tr><td>ALB_1 </td><td>2</td></tr>\n",
       "\t<tr><td>ALB_10</td><td>2</td></tr>\n",
       "\t<tr><td>ALB_2 </td><td>2</td></tr>\n",
       "\t<tr><td>ALB_3 </td><td>2</td></tr>\n",
       "\t<tr><td>ALB_4 </td><td>2</td></tr>\n",
       "</tbody>\n",
       "</table>\n"
      ],
      "text/latex": [
       "A grouped\\_df: 6 × 2\n",
       "\\begin{tabular}{ll}\n",
       " features & n\\\\\n",
       " <chr> & <int>\\\\\n",
       "\\hline\n",
       "\t ALB\\_0  & 2\\\\\n",
       "\t ALB\\_1  & 2\\\\\n",
       "\t ALB\\_10 & 2\\\\\n",
       "\t ALB\\_2  & 2\\\\\n",
       "\t ALB\\_3  & 2\\\\\n",
       "\t ALB\\_4  & 2\\\\\n",
       "\\end{tabular}\n"
      ],
      "text/markdown": [
       "\n",
       "A grouped_df: 6 × 2\n",
       "\n",
       "| features &lt;chr&gt; | n &lt;int&gt; |\n",
       "|---|---|\n",
       "| ALB_0  | 2 |\n",
       "| ALB_1  | 2 |\n",
       "| ALB_10 | 2 |\n",
       "| ALB_2  | 2 |\n",
       "| ALB_3  | 2 |\n",
       "| ALB_4  | 2 |\n",
       "\n"
      ],
      "text/plain": [
       "  features n\n",
       "1 ALB_0    2\n",
       "2 ALB_1    2\n",
       "3 ALB_10   2\n",
       "4 ALB_2    2\n",
       "5 ALB_3    2\n",
       "6 ALB_4    2"
      ]
     },
     "metadata": {},
     "output_type": "display_data"
    },
    {
     "data": {
      "text/html": [
       "<table class=\"dataframe\">\n",
       "<caption>A grouped_df: 6 × 2</caption>\n",
       "<thead>\n",
       "\t<tr><th scope=col>features</th><th scope=col>n</th></tr>\n",
       "\t<tr><th scope=col>&lt;chr&gt;</th><th scope=col>&lt;int&gt;</th></tr>\n",
       "</thead>\n",
       "<tbody>\n",
       "\t<tr><td>WBC_4</td><td>2</td></tr>\n",
       "\t<tr><td>WBC_5</td><td>2</td></tr>\n",
       "\t<tr><td>WBC_6</td><td>2</td></tr>\n",
       "\t<tr><td>WBC_7</td><td>2</td></tr>\n",
       "\t<tr><td>WBC_8</td><td>2</td></tr>\n",
       "\t<tr><td>WBC_9</td><td>2</td></tr>\n",
       "</tbody>\n",
       "</table>\n"
      ],
      "text/latex": [
       "A grouped\\_df: 6 × 2\n",
       "\\begin{tabular}{ll}\n",
       " features & n\\\\\n",
       " <chr> & <int>\\\\\n",
       "\\hline\n",
       "\t WBC\\_4 & 2\\\\\n",
       "\t WBC\\_5 & 2\\\\\n",
       "\t WBC\\_6 & 2\\\\\n",
       "\t WBC\\_7 & 2\\\\\n",
       "\t WBC\\_8 & 2\\\\\n",
       "\t WBC\\_9 & 2\\\\\n",
       "\\end{tabular}\n"
      ],
      "text/markdown": [
       "\n",
       "A grouped_df: 6 × 2\n",
       "\n",
       "| features &lt;chr&gt; | n &lt;int&gt; |\n",
       "|---|---|\n",
       "| WBC_4 | 2 |\n",
       "| WBC_5 | 2 |\n",
       "| WBC_6 | 2 |\n",
       "| WBC_7 | 2 |\n",
       "| WBC_8 | 2 |\n",
       "| WBC_9 | 2 |\n",
       "\n"
      ],
      "text/plain": [
       "  features n\n",
       "1 WBC_4    2\n",
       "2 WBC_5    2\n",
       "3 WBC_6    2\n",
       "4 WBC_7    2\n",
       "5 WBC_8    2\n",
       "6 WBC_9    2"
      ]
     },
     "metadata": {},
     "output_type": "display_data"
    }
   ],
   "source": [
    "# sanity check \n",
    "n2 <- features_all %>% select(feature_type, features) %>% distinct() %>% \n",
    "        group_by(features) %>% count(sort=TRUE) %>% filter(n==2)\n",
    "head(n2)\n",
    "tail(n2)"
   ]
  },
  {
   "cell_type": "code",
   "execution_count": 64,
   "metadata": {},
   "outputs": [
    {
     "data": {
      "text/html": [
       "<table class=\"dataframe\">\n",
       "<caption>A data.frame: 9 × 1</caption>\n",
       "<thead>\n",
       "\t<tr><th scope=col>feature_type</th></tr>\n",
       "\t<tr><th scope=col>&lt;chr&gt;</th></tr>\n",
       "</thead>\n",
       "<tbody>\n",
       "\t<tr><td>Lab               </td></tr>\n",
       "\t<tr><td>Microbiology      </td></tr>\n",
       "\t<tr><td>Procedures        </td></tr>\n",
       "\t<tr><td>Imaging           </td></tr>\n",
       "\t<tr><td>Meds              </td></tr>\n",
       "\t<tr><td>labs_results_train</td></tr>\n",
       "\t<tr><td>vitals_train      </td></tr>\n",
       "\t<tr><td>labs_results_test </td></tr>\n",
       "\t<tr><td>vitals_test       </td></tr>\n",
       "</tbody>\n",
       "</table>\n"
      ],
      "text/latex": [
       "A data.frame: 9 × 1\n",
       "\\begin{tabular}{l}\n",
       " feature\\_type\\\\\n",
       " <chr>\\\\\n",
       "\\hline\n",
       "\t Lab               \\\\\n",
       "\t Microbiology      \\\\\n",
       "\t Procedures        \\\\\n",
       "\t Imaging           \\\\\n",
       "\t Meds              \\\\\n",
       "\t labs\\_results\\_train\\\\\n",
       "\t vitals\\_train      \\\\\n",
       "\t labs\\_results\\_test \\\\\n",
       "\t vitals\\_test       \\\\\n",
       "\\end{tabular}\n"
      ],
      "text/markdown": [
       "\n",
       "A data.frame: 9 × 1\n",
       "\n",
       "| feature_type &lt;chr&gt; |\n",
       "|---|\n",
       "| Lab                |\n",
       "| Microbiology       |\n",
       "| Procedures         |\n",
       "| Imaging            |\n",
       "| Meds               |\n",
       "| labs_results_train |\n",
       "| vitals_train       |\n",
       "| labs_results_test  |\n",
       "| vitals_test        |\n",
       "\n"
      ],
      "text/plain": [
       "  feature_type      \n",
       "1 Lab               \n",
       "2 Microbiology      \n",
       "3 Procedures        \n",
       "4 Imaging           \n",
       "5 Meds              \n",
       "6 labs_results_train\n",
       "7 vitals_train      \n",
       "8 labs_results_test \n",
       "9 vitals_test       "
      ]
     },
     "metadata": {},
     "output_type": "display_data"
    }
   ],
   "source": [
    "features_all %>% filter(features %in% n2$features) %>% distinct(feature_type)# group_by(features, feature_type) %>% count()"
   ]
  },
  {
   "cell_type": "code",
   "execution_count": 71,
   "metadata": {},
   "outputs": [
    {
     "data": {
      "text/html": [
       "<table class=\"dataframe\">\n",
       "<caption>A grouped_df: 30 × 3</caption>\n",
       "<thead>\n",
       "\t<tr><th scope=col>feature_type</th><th scope=col>features</th><th scope=col>n</th></tr>\n",
       "\t<tr><th scope=col>&lt;chr&gt;</th><th scope=col>&lt;chr&gt;</th><th scope=col>&lt;int&gt;</th></tr>\n",
       "</thead>\n",
       "<tbody>\n",
       "\t<tr><td>demo        </td><td>age                                    </td><td>60464</td></tr>\n",
       "\t<tr><td>demo        </td><td>delta_ESI                              </td><td>60464</td></tr>\n",
       "\t<tr><td>demo        </td><td>delta_H                                </td><td>60464</td></tr>\n",
       "\t<tr><td>demo        </td><td>delta_W                                </td><td>60464</td></tr>\n",
       "\t<tr><td>demo        </td><td>English                                </td><td>60464</td></tr>\n",
       "\t<tr><td>demo        </td><td>ESI_i                                  </td><td>60464</td></tr>\n",
       "\t<tr><td>demo        </td><td>gender                                 </td><td>60464</td></tr>\n",
       "\t<tr><td>demo        </td><td>Height_i                               </td><td>60464</td></tr>\n",
       "\t<tr><td>demo        </td><td>insurance                              </td><td>60464</td></tr>\n",
       "\t<tr><td>demo        </td><td>race.Asian                             </td><td>60464</td></tr>\n",
       "\t<tr><td>demo        </td><td>race.Black                             </td><td>60464</td></tr>\n",
       "\t<tr><td>demo        </td><td>race.Native.American                   </td><td>60464</td></tr>\n",
       "\t<tr><td>demo        </td><td>race.Other                             </td><td>60464</td></tr>\n",
       "\t<tr><td>demo        </td><td>race.Pacific.Islander                  </td><td>60464</td></tr>\n",
       "\t<tr><td>demo        </td><td>race.Unknown                           </td><td>60464</td></tr>\n",
       "\t<tr><td>demo        </td><td>race.White                             </td><td>60464</td></tr>\n",
       "\t<tr><td>demo        </td><td>Weight_i                               </td><td>60464</td></tr>\n",
       "\t<tr><td>Lab         </td><td>METABOLIC PANEL, COMPREHENSIVE         </td><td>58335</td></tr>\n",
       "\t<tr><td>Lab         </td><td>CBC WITH DIFFERENTIAL                  </td><td>57430</td></tr>\n",
       "\t<tr><td>vitals_test </td><td>Temp_4                                 </td><td>44973</td></tr>\n",
       "\t<tr><td>Lab         </td><td>URINALYSIS SCREEN, CULTURE IF POSITIVE </td><td>40529</td></tr>\n",
       "\t<tr><td>Lab         </td><td>PROTHROMBIN TIME                       </td><td>39683</td></tr>\n",
       "\t<tr><td>Meds        </td><td>ONDANSETRON HCL (PF) 4 MG/2 ML INJ SOLN</td><td>36229</td></tr>\n",
       "\t<tr><td>vitals_test </td><td>RR_4                                   </td><td>35608</td></tr>\n",
       "\t<tr><td>Lab         </td><td>PTT PARTIAL THROMBOPLASTIN TIME        </td><td>34640</td></tr>\n",
       "\t<tr><td>vitals_train</td><td>Temp_4                                 </td><td>33392</td></tr>\n",
       "\t<tr><td>Lab         </td><td>METABOLIC PANEL, BASIC                 </td><td>32376</td></tr>\n",
       "\t<tr><td>Lab         </td><td>MAGNESIUM, SERUM/PLASMA                </td><td>31140</td></tr>\n",
       "\t<tr><td>Lab         </td><td>CBC W/O DIFF                           </td><td>30957</td></tr>\n",
       "\t<tr><td>Diagnosis   </td><td>Z79.899                                </td><td>30482</td></tr>\n",
       "</tbody>\n",
       "</table>\n"
      ],
      "text/latex": [
       "A grouped\\_df: 30 × 3\n",
       "\\begin{tabular}{lll}\n",
       " feature\\_type & features & n\\\\\n",
       " <chr> & <chr> & <int>\\\\\n",
       "\\hline\n",
       "\t demo         & age                                     & 60464\\\\\n",
       "\t demo         & delta\\_ESI                               & 60464\\\\\n",
       "\t demo         & delta\\_H                                 & 60464\\\\\n",
       "\t demo         & delta\\_W                                 & 60464\\\\\n",
       "\t demo         & English                                 & 60464\\\\\n",
       "\t demo         & ESI\\_i                                   & 60464\\\\\n",
       "\t demo         & gender                                  & 60464\\\\\n",
       "\t demo         & Height\\_i                                & 60464\\\\\n",
       "\t demo         & insurance                               & 60464\\\\\n",
       "\t demo         & race.Asian                              & 60464\\\\\n",
       "\t demo         & race.Black                              & 60464\\\\\n",
       "\t demo         & race.Native.American                    & 60464\\\\\n",
       "\t demo         & race.Other                              & 60464\\\\\n",
       "\t demo         & race.Pacific.Islander                   & 60464\\\\\n",
       "\t demo         & race.Unknown                            & 60464\\\\\n",
       "\t demo         & race.White                              & 60464\\\\\n",
       "\t demo         & Weight\\_i                                & 60464\\\\\n",
       "\t Lab          & METABOLIC PANEL, COMPREHENSIVE          & 58335\\\\\n",
       "\t Lab          & CBC WITH DIFFERENTIAL                   & 57430\\\\\n",
       "\t vitals\\_test  & Temp\\_4                                  & 44973\\\\\n",
       "\t Lab          & URINALYSIS SCREEN, CULTURE IF POSITIVE  & 40529\\\\\n",
       "\t Lab          & PROTHROMBIN TIME                        & 39683\\\\\n",
       "\t Meds         & ONDANSETRON HCL (PF) 4 MG/2 ML INJ SOLN & 36229\\\\\n",
       "\t vitals\\_test  & RR\\_4                                    & 35608\\\\\n",
       "\t Lab          & PTT PARTIAL THROMBOPLASTIN TIME         & 34640\\\\\n",
       "\t vitals\\_train & Temp\\_4                                  & 33392\\\\\n",
       "\t Lab          & METABOLIC PANEL, BASIC                  & 32376\\\\\n",
       "\t Lab          & MAGNESIUM, SERUM/PLASMA                 & 31140\\\\\n",
       "\t Lab          & CBC W/O DIFF                            & 30957\\\\\n",
       "\t Diagnosis    & Z79.899                                 & 30482\\\\\n",
       "\\end{tabular}\n"
      ],
      "text/markdown": [
       "\n",
       "A grouped_df: 30 × 3\n",
       "\n",
       "| feature_type &lt;chr&gt; | features &lt;chr&gt; | n &lt;int&gt; |\n",
       "|---|---|---|\n",
       "| demo         | age                                     | 60464 |\n",
       "| demo         | delta_ESI                               | 60464 |\n",
       "| demo         | delta_H                                 | 60464 |\n",
       "| demo         | delta_W                                 | 60464 |\n",
       "| demo         | English                                 | 60464 |\n",
       "| demo         | ESI_i                                   | 60464 |\n",
       "| demo         | gender                                  | 60464 |\n",
       "| demo         | Height_i                                | 60464 |\n",
       "| demo         | insurance                               | 60464 |\n",
       "| demo         | race.Asian                              | 60464 |\n",
       "| demo         | race.Black                              | 60464 |\n",
       "| demo         | race.Native.American                    | 60464 |\n",
       "| demo         | race.Other                              | 60464 |\n",
       "| demo         | race.Pacific.Islander                   | 60464 |\n",
       "| demo         | race.Unknown                            | 60464 |\n",
       "| demo         | race.White                              | 60464 |\n",
       "| demo         | Weight_i                                | 60464 |\n",
       "| Lab          | METABOLIC PANEL, COMPREHENSIVE          | 58335 |\n",
       "| Lab          | CBC WITH DIFFERENTIAL                   | 57430 |\n",
       "| vitals_test  | Temp_4                                  | 44973 |\n",
       "| Lab          | URINALYSIS SCREEN, CULTURE IF POSITIVE  | 40529 |\n",
       "| Lab          | PROTHROMBIN TIME                        | 39683 |\n",
       "| Meds         | ONDANSETRON HCL (PF) 4 MG/2 ML INJ SOLN | 36229 |\n",
       "| vitals_test  | RR_4                                    | 35608 |\n",
       "| Lab          | PTT PARTIAL THROMBOPLASTIN TIME         | 34640 |\n",
       "| vitals_train | Temp_4                                  | 33392 |\n",
       "| Lab          | METABOLIC PANEL, BASIC                  | 32376 |\n",
       "| Lab          | MAGNESIUM, SERUM/PLASMA                 | 31140 |\n",
       "| Lab          | CBC W/O DIFF                            | 30957 |\n",
       "| Diagnosis    | Z79.899                                 | 30482 |\n",
       "\n"
      ],
      "text/plain": [
       "   feature_type features                                n    \n",
       "1  demo         age                                     60464\n",
       "2  demo         delta_ESI                               60464\n",
       "3  demo         delta_H                                 60464\n",
       "4  demo         delta_W                                 60464\n",
       "5  demo         English                                 60464\n",
       "6  demo         ESI_i                                   60464\n",
       "7  demo         gender                                  60464\n",
       "8  demo         Height_i                                60464\n",
       "9  demo         insurance                               60464\n",
       "10 demo         race.Asian                              60464\n",
       "11 demo         race.Black                              60464\n",
       "12 demo         race.Native.American                    60464\n",
       "13 demo         race.Other                              60464\n",
       "14 demo         race.Pacific.Islander                   60464\n",
       "15 demo         race.Unknown                            60464\n",
       "16 demo         race.White                              60464\n",
       "17 demo         Weight_i                                60464\n",
       "18 Lab          METABOLIC PANEL, COMPREHENSIVE          58335\n",
       "19 Lab          CBC WITH DIFFERENTIAL                   57430\n",
       "20 vitals_test  Temp_4                                  44973\n",
       "21 Lab          URINALYSIS SCREEN, CULTURE IF POSITIVE  40529\n",
       "22 Lab          PROTHROMBIN TIME                        39683\n",
       "23 Meds         ONDANSETRON HCL (PF) 4 MG/2 ML INJ SOLN 36229\n",
       "24 vitals_test  RR_4                                    35608\n",
       "25 Lab          PTT PARTIAL THROMBOPLASTIN TIME         34640\n",
       "26 vitals_train Temp_4                                  33392\n",
       "27 Lab          METABOLIC PANEL, BASIC                  32376\n",
       "28 Lab          MAGNESIUM, SERUM/PLASMA                 31140\n",
       "29 Lab          CBC W/O DIFF                            30957\n",
       "30 Diagnosis    Z79.899                                 30482"
      ]
     },
     "metadata": {},
     "output_type": "display_data"
    }
   ],
   "source": [
    "features_all %>% group_by(feature_type, features) %>% count(sort=TRUE) %>% head(30)"
   ]
  },
  {
   "cell_type": "code",
   "execution_count": 73,
   "metadata": {},
   "outputs": [
    {
     "data": {
      "text/html": [
       "14269242"
      ],
      "text/latex": [
       "14269242"
      ],
      "text/markdown": [
       "14269242"
      ],
      "text/plain": [
       "[1] 14269242"
      ]
     },
     "metadata": {},
     "output_type": "display_data"
    },
    {
     "data": {
      "text/plain": [
       "    Min.  1st Qu.   Median     Mean  3rd Qu.     Max. \n",
       "   0.000    1.000    1.000    3.393    2.000 1129.000 "
      ]
     },
     "metadata": {},
     "output_type": "display_data"
    },
    {
     "data": {
      "text/html": [
       "0"
      ],
      "text/latex": [
       "0"
      ],
      "text/markdown": [
       "0"
      ],
      "text/plain": [
       "[1] 0"
      ]
     },
     "metadata": {},
     "output_type": "display_data"
    }
   ],
   "source": [
    "nrow(features_all) # 14269242\n",
    "summary(features_all$values)\n",
    "sum(is.na(features_all$first_label))"
   ]
  },
  {
   "cell_type": "code",
   "execution_count": 75,
   "metadata": {},
   "outputs": [
    {
     "data": {
      "text/html": [
       "<table class=\"dataframe\">\n",
       "<caption>A grouped_df: 7 × 2</caption>\n",
       "<thead>\n",
       "\t<tr><th scope=col>year</th><th scope=col>n</th></tr>\n",
       "\t<tr><th scope=col>&lt;dbl&gt;</th><th scope=col>&lt;int&gt;</th></tr>\n",
       "</thead>\n",
       "<tbody>\n",
       "\t<tr><td>2015</td><td>2017957</td></tr>\n",
       "\t<tr><td>2016</td><td>1658805</td></tr>\n",
       "\t<tr><td>2017</td><td>1634688</td></tr>\n",
       "\t<tr><td>2018</td><td>2182233</td></tr>\n",
       "\t<tr><td>2019</td><td>2417945</td></tr>\n",
       "\t<tr><td>2020</td><td>2276618</td></tr>\n",
       "\t<tr><td>2021</td><td>2080996</td></tr>\n",
       "</tbody>\n",
       "</table>\n"
      ],
      "text/latex": [
       "A grouped\\_df: 7 × 2\n",
       "\\begin{tabular}{ll}\n",
       " year & n\\\\\n",
       " <dbl> & <int>\\\\\n",
       "\\hline\n",
       "\t 2015 & 2017957\\\\\n",
       "\t 2016 & 1658805\\\\\n",
       "\t 2017 & 1634688\\\\\n",
       "\t 2018 & 2182233\\\\\n",
       "\t 2019 & 2417945\\\\\n",
       "\t 2020 & 2276618\\\\\n",
       "\t 2021 & 2080996\\\\\n",
       "\\end{tabular}\n"
      ],
      "text/markdown": [
       "\n",
       "A grouped_df: 7 × 2\n",
       "\n",
       "| year &lt;dbl&gt; | n &lt;int&gt; |\n",
       "|---|---|\n",
       "| 2015 | 2017957 |\n",
       "| 2016 | 1658805 |\n",
       "| 2017 | 1634688 |\n",
       "| 2018 | 2182233 |\n",
       "| 2019 | 2417945 |\n",
       "| 2020 | 2276618 |\n",
       "| 2021 | 2080996 |\n",
       "\n"
      ],
      "text/plain": [
       "  year n      \n",
       "1 2015 2017957\n",
       "2 2016 1658805\n",
       "3 2017 1634688\n",
       "4 2018 2182233\n",
       "5 2019 2417945\n",
       "6 2020 2276618\n",
       "7 2021 2080996"
      ]
     },
     "metadata": {},
     "output_type": "display_data"
    }
   ],
   "source": [
    "features_all_year <- features_all %>% mutate(year = year(admit_time))\n",
    "features_all_year %>% group_by(year) %>% count()"
   ]
  },
  {
   "cell_type": "code",
   "execution_count": 79,
   "metadata": {},
   "outputs": [
    {
     "data": {
      "text/html": [
       "<table class=\"dataframe\">\n",
       "<caption>A grouped_df: 7 × 2</caption>\n",
       "<thead>\n",
       "\t<tr><th scope=col>year</th><th scope=col>n</th></tr>\n",
       "\t<tr><th scope=col>&lt;dbl&gt;</th><th scope=col>&lt;int&gt;</th></tr>\n",
       "</thead>\n",
       "<tbody>\n",
       "\t<tr><td>2015</td><td> 8138</td></tr>\n",
       "\t<tr><td>2016</td><td> 7050</td></tr>\n",
       "\t<tr><td>2017</td><td> 6842</td></tr>\n",
       "\t<tr><td>2018</td><td> 9532</td></tr>\n",
       "\t<tr><td>2019</td><td>10115</td></tr>\n",
       "\t<tr><td>2020</td><td> 9768</td></tr>\n",
       "\t<tr><td>2021</td><td> 9019</td></tr>\n",
       "</tbody>\n",
       "</table>\n"
      ],
      "text/latex": [
       "A grouped\\_df: 7 × 2\n",
       "\\begin{tabular}{ll}\n",
       " year & n\\\\\n",
       " <dbl> & <int>\\\\\n",
       "\\hline\n",
       "\t 2015 &  8138\\\\\n",
       "\t 2016 &  7050\\\\\n",
       "\t 2017 &  6842\\\\\n",
       "\t 2018 &  9532\\\\\n",
       "\t 2019 & 10115\\\\\n",
       "\t 2020 &  9768\\\\\n",
       "\t 2021 &  9019\\\\\n",
       "\\end{tabular}\n"
      ],
      "text/markdown": [
       "\n",
       "A grouped_df: 7 × 2\n",
       "\n",
       "| year &lt;dbl&gt; | n &lt;int&gt; |\n",
       "|---|---|\n",
       "| 2015 |  8138 |\n",
       "| 2016 |  7050 |\n",
       "| 2017 |  6842 |\n",
       "| 2018 |  9532 |\n",
       "| 2019 | 10115 |\n",
       "| 2020 |  9768 |\n",
       "| 2021 |  9019 |\n",
       "\n"
      ],
      "text/plain": [
       "  year n    \n",
       "1 2015  8138\n",
       "2 2016  7050\n",
       "3 2017  6842\n",
       "4 2018  9532\n",
       "5 2019 10115\n",
       "6 2020  9768\n",
       "7 2021  9019"
      ]
     },
     "metadata": {},
     "output_type": "display_data"
    }
   ],
   "source": [
    "cohort4 %>% mutate(year = year(admit_time)) %>% group_by(year) %>% count()"
   ]
  },
  {
   "cell_type": "code",
   "execution_count": 85,
   "metadata": {},
   "outputs": [
    {
     "data": {
      "text/html": [
       "14269242"
      ],
      "text/latex": [
       "14269242"
      ],
      "text/markdown": [
       "14269242"
      ],
      "text/plain": [
       "[1] 14269242"
      ]
     },
     "metadata": {},
     "output_type": "display_data"
    },
    {
     "data": {
      "text/html": [
       "60464"
      ],
      "text/latex": [
       "60464"
      ],
      "text/markdown": [
       "60464"
      ],
      "text/plain": [
       "[1] 60464"
      ]
     },
     "metadata": {},
     "output_type": "display_data"
    },
    {
     "data": {
      "text/html": [
       "0"
      ],
      "text/latex": [
       "0"
      ],
      "text/markdown": [
       "0"
      ],
      "text/plain": [
       "[1] 0"
      ]
     },
     "metadata": {},
     "output_type": "display_data"
    },
    {
     "data": {
      "text/html": [
       "0"
      ],
      "text/latex": [
       "0"
      ],
      "text/markdown": [
       "0"
      ],
      "text/plain": [
       "[1] 0"
      ]
     },
     "metadata": {},
     "output_type": "display_data"
    }
   ],
   "source": [
    "nrow(features_all)\n",
    "length(unique(features_all$pat_enc_csn_id_coded)) # 60464\n",
    "length(setdiff(features_all$pat_enc_csn_id_coded, cohort4$pat_enc_csn_id_coded))\n",
    "length(setdiff(cohort4$pat_enc_csn_id_coded, features_all$pat_enc_csn_id_coded))"
   ]
  },
  {
   "cell_type": "code",
   "execution_count": 84,
   "metadata": {},
   "outputs": [],
   "source": [
    "# write.csv(features_all_year, file = file.path(featuredir, \"2_9_coh4_features_all_long_year.csv\"), row.names=FALSE) \n",
    "write.csv(features_all_year, file = file.path(valdir, \"6_11_coh4_all_features_all_long_year.csv\"), row.names=FALSE) "
   ]
  },
  {
   "cell_type": "code",
   "execution_count": 105,
   "metadata": {},
   "outputs": [
    {
     "data": {
      "text/plain": [
       "   anon_id          pat_enc_csn_id_coded  admit_time        feature_type      \n",
       " Length:8258975     Min.   :1.311e+11    Length:8258975     Length:8258975    \n",
       " Class :character   1st Qu.:1.312e+11    Class :character   Class :character  \n",
       " Mode  :character   Median :1.312e+11    Mode  :character   Mode  :character  \n",
       "                    Mean   :1.312e+11                                         \n",
       "                    3rd Qu.:1.313e+11                                         \n",
       "                    Max.   :1.313e+11                                         \n",
       "   features             values        \n",
       " Length:8258975     Min.   :   0.000  \n",
       " Class :character   1st Qu.:   1.000  \n",
       " Mode  :character   Median :   1.000  \n",
       "                    Mean   :   3.721  \n",
       "                    3rd Qu.:   2.000  \n",
       "                    Max.   :1078.000  "
      ]
     },
     "metadata": {},
     "output_type": "display_data"
    }
   ],
   "source": [
    "summary(features_all)"
   ]
  }
 ],
 "metadata": {
  "environment": {
   "name": "r-cpu.4-0.m71",
   "type": "gcloud",
   "uri": "gcr.io/deeplearning-platform-release/r-cpu.4-0:m71"
  },
  "kernelspec": {
   "display_name": "R",
   "language": "R",
   "name": "ir"
  },
  "language_info": {
   "codemirror_mode": "r",
   "file_extension": ".r",
   "mimetype": "text/x-r-source",
   "name": "R",
   "pygments_lexer": "r",
   "version": "4.0.3"
  }
 },
 "nbformat": 4,
 "nbformat_minor": 5
}
