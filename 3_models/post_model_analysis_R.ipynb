{
 "cells": [
  {
   "cell_type": "markdown",
   "metadata": {},
   "source": [
    "### Description\n",
    "- Patient visits who were transferred within 24 hours\n",
    "    - ICUs to non-ICUs\n",
    "    - Non-ICUs to ICUs\n",
    "- Prediction differences between labels at time 0 and 24hr\n",
    "- Differences between predicted values at time 0 and time 24 compared to their corresponding true labels\n",
    "- Within the patient visits who were transferred:\n",
    "    - More in depth about those with largest differences between the predictions at 2 time points\n",
    "    - and how they are related to the differences in predicted values vs. true labels"
   ]
  },
  {
   "cell_type": "code",
   "execution_count": 1,
   "metadata": {},
   "outputs": [
    {
     "name": "stderr",
     "output_type": "stream",
     "text": [
      "Loading required package: lattice\n",
      "\n",
      "Loading required package: ggplot2\n",
      "\n",
      "-- \u001b[1mAttaching packages\u001b[22m --------------------------------------- tidyverse 1.3.0 --\n",
      "\n",
      "\u001b[32mv\u001b[39m \u001b[34mtibble \u001b[39m 3.0.4     \u001b[32mv\u001b[39m \u001b[34mdplyr  \u001b[39m 1.0.2\n",
      "\u001b[32mv\u001b[39m \u001b[34mtidyr  \u001b[39m 1.1.2     \u001b[32mv\u001b[39m \u001b[34mstringr\u001b[39m 1.4.0\n",
      "\u001b[32mv\u001b[39m \u001b[34mreadr  \u001b[39m 1.4.0     \u001b[32mv\u001b[39m \u001b[34mforcats\u001b[39m 0.5.0\n",
      "\u001b[32mv\u001b[39m \u001b[34mpurrr  \u001b[39m 0.3.4     \n",
      "\n",
      "-- \u001b[1mConflicts\u001b[22m ------------------------------------------ tidyverse_conflicts() --\n",
      "\u001b[31mx\u001b[39m \u001b[34mdplyr\u001b[39m::\u001b[32mbetween()\u001b[39m   masks \u001b[34mdata.table\u001b[39m::between()\n",
      "\u001b[31mx\u001b[39m \u001b[34mdplyr\u001b[39m::\u001b[32mfilter()\u001b[39m    masks \u001b[34mstats\u001b[39m::filter()\n",
      "\u001b[31mx\u001b[39m \u001b[34mdplyr\u001b[39m::\u001b[32mfirst()\u001b[39m     masks \u001b[34mdata.table\u001b[39m::first()\n",
      "\u001b[31mx\u001b[39m \u001b[34mdplyr\u001b[39m::\u001b[32mlag()\u001b[39m       masks \u001b[34mstats\u001b[39m::lag()\n",
      "\u001b[31mx\u001b[39m \u001b[34mdplyr\u001b[39m::\u001b[32mlast()\u001b[39m      masks \u001b[34mdata.table\u001b[39m::last()\n",
      "\u001b[31mx\u001b[39m \u001b[34mpurrr\u001b[39m::\u001b[32mlift()\u001b[39m      masks \u001b[34mcaret\u001b[39m::lift()\n",
      "\u001b[31mx\u001b[39m \u001b[34mpurrr\u001b[39m::\u001b[32mtranspose()\u001b[39m masks \u001b[34mdata.table\u001b[39m::transpose()\n",
      "\n",
      "\n",
      "Attaching package: 'lubridate'\n",
      "\n",
      "\n",
      "The following objects are masked from 'package:data.table':\n",
      "\n",
      "    hour, isoweek, mday, minute, month, quarter, second, wday, week,\n",
      "    yday, year\n",
      "\n",
      "\n",
      "The following objects are masked from 'package:base':\n",
      "\n",
      "    date, intersect, setdiff, union\n",
      "\n",
      "\n",
      "\n",
      "Attaching package: 'Matrix'\n",
      "\n",
      "\n",
      "The following objects are masked from 'package:tidyr':\n",
      "\n",
      "    expand, pack, unpack\n",
      "\n",
      "\n",
      "Warning message:\n",
      "\"package 'glmnet' was built under R version 4.0.5\"\n",
      "Loaded glmnet 4.1-1\n",
      "\n",
      "Warning message:\n",
      "\"package 'bit64' was built under R version 4.0.5\"\n",
      "Loading required package: bit\n",
      "\n",
      "Warning message:\n",
      "\"package 'bit' was built under R version 4.0.5\"\n",
      "\n",
      "Attaching package: 'bit'\n",
      "\n",
      "\n",
      "The following object is masked from 'package:data.table':\n",
      "\n",
      "    setattr\n",
      "\n",
      "\n",
      "The following object is masked from 'package:base':\n",
      "\n",
      "    xor\n",
      "\n",
      "\n",
      "Attaching package bit64\n",
      "\n",
      "package:bit64 (c) 2011-2017 Jens Oehlschlaegel\n",
      "\n",
      "creators: integer64 runif64 seq :\n",
      "\n",
      "coercion: as.integer64 as.vector as.logical as.integer as.double as.character as.bitstring\n",
      "\n",
      "logical operator: ! & | xor != == < <= >= >\n",
      "\n",
      "arithmetic operator: + - * / %/% %% ^\n",
      "\n",
      "math: sign abs sqrt log log2 log10\n",
      "\n",
      "math: floor ceiling trunc round\n",
      "\n",
      "querying: is.integer64 is.vector [is.atomic} [length] format print str\n",
      "\n",
      "values: is.na is.nan is.finite is.infinite\n",
      "\n",
      "aggregation: any all min max range sum prod\n",
      "\n",
      "cumulation: diff cummin cummax cumsum cumprod\n",
      "\n",
      "access: length<- [ [<- [[ [[<-\n",
      "\n",
      "combine: c rep cbind rbind as.data.frame\n",
      "\n",
      "WARNING don't use as subscripts\n",
      "\n",
      "WARNING semantics differ from integer\n",
      "\n",
      "for more help type ?bit64\n",
      "\n",
      "\n",
      "Attaching package: 'bit64'\n",
      "\n",
      "\n",
      "The following objects are masked from 'package:base':\n",
      "\n",
      "    %in%, :, is.double, match, order, rank\n",
      "\n",
      "\n",
      "Type 'citation(\"pROC\")' for a citation.\n",
      "\n",
      "\n",
      "Attaching package: 'pROC'\n",
      "\n",
      "\n",
      "The following objects are masked from 'package:stats':\n",
      "\n",
      "    cov, smooth, var\n",
      "\n",
      "\n",
      "Warning message:\n",
      "\"package 'rms' was built under R version 4.0.5\"\n",
      "Loading required package: Hmisc\n",
      "\n",
      "Warning message:\n",
      "\"package 'Hmisc' was built under R version 4.0.5\"\n",
      "Loading required package: survival\n",
      "\n",
      "\n",
      "Attaching package: 'survival'\n",
      "\n",
      "\n",
      "The following object is masked from 'package:caret':\n",
      "\n",
      "    cluster\n",
      "\n",
      "\n",
      "Loading required package: Formula\n",
      "\n",
      "\n",
      "Attaching package: 'Hmisc'\n",
      "\n",
      "\n",
      "The following objects are masked from 'package:dplyr':\n",
      "\n",
      "    src, summarize\n",
      "\n",
      "\n",
      "The following objects are masked from 'package:base':\n",
      "\n",
      "    format.pval, units\n",
      "\n",
      "\n",
      "Loading required package: SparseM\n",
      "\n",
      "Warning message:\n",
      "\"package 'SparseM' was built under R version 4.0.4\"\n",
      "\n",
      "Attaching package: 'SparseM'\n",
      "\n",
      "\n",
      "The following object is masked from 'package:base':\n",
      "\n",
      "    backsolve\n",
      "\n",
      "\n"
     ]
    }
   ],
   "source": [
    "library(caret) # import this before glmnet to avoid rlang version problem\n",
    "library(data.table)\n",
    "library(tidyverse)\n",
    "library(lubridate)\n",
    "library(Matrix)\n",
    "library(glmnet)\n",
    "library(bit64)\n",
    "library(pROC)\n",
    "library(rms)"
   ]
  },
  {
   "cell_type": "code",
   "execution_count": 2,
   "metadata": {},
   "outputs": [],
   "source": [
    "# directories\n",
    "datadir = \"../../DataTD\"\n",
    "cohortdir = \"../../OutputTD/1_cohort\"\n",
    "featuredir = \"../../OutputTD/2_features\"\n",
    "modeldir4 = \"../../OutputTD/3_models/1_4_cohort\""
   ]
  },
  {
   "cell_type": "code",
   "execution_count": 3,
   "metadata": {},
   "outputs": [
    {
     "data": {
      "text/html": [],
      "text/latex": [],
      "text/markdown": [],
      "text/plain": [
       "character(0)"
      ]
     },
     "metadata": {},
     "output_type": "display_data"
    }
   ],
   "source": [
    "# list.files(path=\"modeldir4\", pattern=\"lightgbm_test_results.csv\", full.names=TRUE, recursive=FALSE)\n",
    "dir(path=\"modeldir4\") #pattern=\"*.csv\")"
   ]
  },
  {
   "cell_type": "code",
   "execution_count": 4,
   "metadata": {},
   "outputs": [
    {
     "data": {
      "text/html": [
       "<style>\n",
       ".list-inline {list-style: none; margin:0; padding: 0}\n",
       ".list-inline>li {display: inline-block}\n",
       ".list-inline>li:not(:last-child)::after {content: \"\\00b7\"; padding: 0 .5ex}\n",
       "</style>\n",
       "<ol class=list-inline><li>'../../OutputTD/3_models/1_4_cohort'</li><li>'../../OutputTD/3_models/1_4_cohort/death_24hr_max_label'</li><li>'../../OutputTD/3_models/1_4_cohort/death_24hr_recent_label'</li><li>'../../OutputTD/3_models/1_4_cohort/first_label'</li></ol>\n"
      ],
      "text/latex": [
       "\\begin{enumerate*}\n",
       "\\item '../../OutputTD/3\\_models/1\\_4\\_cohort'\n",
       "\\item '../../OutputTD/3\\_models/1\\_4\\_cohort/death\\_24hr\\_max\\_label'\n",
       "\\item '../../OutputTD/3\\_models/1\\_4\\_cohort/death\\_24hr\\_recent\\_label'\n",
       "\\item '../../OutputTD/3\\_models/1\\_4\\_cohort/first\\_label'\n",
       "\\end{enumerate*}\n"
      ],
      "text/markdown": [
       "1. '../../OutputTD/3_models/1_4_cohort'\n",
       "2. '../../OutputTD/3_models/1_4_cohort/death_24hr_max_label'\n",
       "3. '../../OutputTD/3_models/1_4_cohort/death_24hr_recent_label'\n",
       "4. '../../OutputTD/3_models/1_4_cohort/first_label'\n",
       "\n",
       "\n"
      ],
      "text/plain": [
       "[1] \"../../OutputTD/3_models/1_4_cohort\"                        \n",
       "[2] \"../../OutputTD/3_models/1_4_cohort/death_24hr_max_label\"   \n",
       "[3] \"../../OutputTD/3_models/1_4_cohort/death_24hr_recent_label\"\n",
       "[4] \"../../OutputTD/3_models/1_4_cohort/first_label\"            "
      ]
     },
     "metadata": {},
     "output_type": "display_data"
    }
   ],
   "source": [
    "# check folder and sub-folders\n",
    "folder <- list.dirs(modeldir4) # this assumes being in the main folder, otherwise specify the path\n",
    "folder\n",
    "folder <- folder[-1]  # comment this out if the main folder also contains the script\n",
    "# script.paths <- paste(folder,\"/\",\"process.R\", sep=\"\")\n",
    "# for (i in script.paths) {source(i)}"
   ]
  },
  {
   "cell_type": "code",
   "execution_count": 5,
   "metadata": {},
   "outputs": [
    {
     "data": {
      "text/html": [
       "<style>\n",
       ".list-inline {list-style: none; margin:0; padding: 0}\n",
       ".list-inline>li {display: inline-block}\n",
       ".list-inline>li:not(:last-child)::after {content: \"\\00b7\"; padding: 0 .5ex}\n",
       "</style>\n",
       "<ol class=list-inline><li>'../../OutputTD/3_models/1_4_cohort/death_24hr_max_label'</li><li>'../../OutputTD/3_models/1_4_cohort/death_24hr_recent_label'</li><li>'../../OutputTD/3_models/1_4_cohort/first_label'</li></ol>\n"
      ],
      "text/latex": [
       "\\begin{enumerate*}\n",
       "\\item '../../OutputTD/3\\_models/1\\_4\\_cohort/death\\_24hr\\_max\\_label'\n",
       "\\item '../../OutputTD/3\\_models/1\\_4\\_cohort/death\\_24hr\\_recent\\_label'\n",
       "\\item '../../OutputTD/3\\_models/1\\_4\\_cohort/first\\_label'\n",
       "\\end{enumerate*}\n"
      ],
      "text/markdown": [
       "1. '../../OutputTD/3_models/1_4_cohort/death_24hr_max_label'\n",
       "2. '../../OutputTD/3_models/1_4_cohort/death_24hr_recent_label'\n",
       "3. '../../OutputTD/3_models/1_4_cohort/first_label'\n",
       "\n",
       "\n"
      ],
      "text/plain": [
       "[1] \"../../OutputTD/3_models/1_4_cohort/death_24hr_max_label\"   \n",
       "[2] \"../../OutputTD/3_models/1_4_cohort/death_24hr_recent_label\"\n",
       "[3] \"../../OutputTD/3_models/1_4_cohort/first_label\"            "
      ]
     },
     "metadata": {},
     "output_type": "display_data"
    }
   ],
   "source": [
    "# sub-folders\n",
    "sub.folders <- list.dirs(modeldir4)[-1]\n",
    "sub.folders"
   ]
  },
  {
   "cell_type": "code",
   "execution_count": 9,
   "metadata": {},
   "outputs": [
    {
     "data": {
      "text/html": [
       "43980"
      ],
      "text/latex": [
       "43980"
      ],
      "text/markdown": [
       "43980"
      ],
      "text/plain": [
       "[1] 43980"
      ]
     },
     "metadata": {},
     "output_type": "display_data"
    },
    {
     "data": {
      "text/html": [
       "<style>\n",
       ".list-inline {list-style: none; margin:0; padding: 0}\n",
       ".list-inline>li {display: inline-block}\n",
       ".list-inline>li:not(:last-child)::after {content: \"\\00b7\"; padding: 0 .5ex}\n",
       "</style>\n",
       "<ol class=list-inline><li>'anon_id'</li><li>'pat_enc_csn_id_coded'</li><li>'inpatient_data_id_coded'</li><li>'admit_time'</li><li>'label_max24'</li><li>'label_24hr_recent'</li><li>'admit_label'</li><li>'has_admit_label'</li><li>'died_within_24hrs'</li><li>'death_24hr_max_label'</li><li>'death_24hr_recent_label'</li><li>'first_label'</li><li>'first_label_minutes_since_admit'</li><li>'acute_to_critical_label_recent'</li><li>'critical_to_acute_label_recent'</li><li>'acute_to_critical_label_max'</li><li>'critical_to_acute_label_max'</li></ol>\n"
      ],
      "text/latex": [
       "\\begin{enumerate*}\n",
       "\\item 'anon\\_id'\n",
       "\\item 'pat\\_enc\\_csn\\_id\\_coded'\n",
       "\\item 'inpatient\\_data\\_id\\_coded'\n",
       "\\item 'admit\\_time'\n",
       "\\item 'label\\_max24'\n",
       "\\item 'label\\_24hr\\_recent'\n",
       "\\item 'admit\\_label'\n",
       "\\item 'has\\_admit\\_label'\n",
       "\\item 'died\\_within\\_24hrs'\n",
       "\\item 'death\\_24hr\\_max\\_label'\n",
       "\\item 'death\\_24hr\\_recent\\_label'\n",
       "\\item 'first\\_label'\n",
       "\\item 'first\\_label\\_minutes\\_since\\_admit'\n",
       "\\item 'acute\\_to\\_critical\\_label\\_recent'\n",
       "\\item 'critical\\_to\\_acute\\_label\\_recent'\n",
       "\\item 'acute\\_to\\_critical\\_label\\_max'\n",
       "\\item 'critical\\_to\\_acute\\_label\\_max'\n",
       "\\end{enumerate*}\n"
      ],
      "text/markdown": [
       "1. 'anon_id'\n",
       "2. 'pat_enc_csn_id_coded'\n",
       "3. 'inpatient_data_id_coded'\n",
       "4. 'admit_time'\n",
       "5. 'label_max24'\n",
       "6. 'label_24hr_recent'\n",
       "7. 'admit_label'\n",
       "8. 'has_admit_label'\n",
       "9. 'died_within_24hrs'\n",
       "10. 'death_24hr_max_label'\n",
       "11. 'death_24hr_recent_label'\n",
       "12. 'first_label'\n",
       "13. 'first_label_minutes_since_admit'\n",
       "14. 'acute_to_critical_label_recent'\n",
       "15. 'critical_to_acute_label_recent'\n",
       "16. 'acute_to_critical_label_max'\n",
       "17. 'critical_to_acute_label_max'\n",
       "\n",
       "\n"
      ],
      "text/plain": [
       " [1] \"anon_id\"                         \"pat_enc_csn_id_coded\"           \n",
       " [3] \"inpatient_data_id_coded\"         \"admit_time\"                     \n",
       " [5] \"label_max24\"                     \"label_24hr_recent\"              \n",
       " [7] \"admit_label\"                     \"has_admit_label\"                \n",
       " [9] \"died_within_24hrs\"               \"death_24hr_max_label\"           \n",
       "[11] \"death_24hr_recent_label\"         \"first_label\"                    \n",
       "[13] \"first_label_minutes_since_admit\" \"acute_to_critical_label_recent\" \n",
       "[15] \"critical_to_acute_label_recent\"  \"acute_to_critical_label_max\"    \n",
       "[17] \"critical_to_acute_label_max\"    "
      ]
     },
     "metadata": {},
     "output_type": "display_data"
    }
   ],
   "source": [
    "cohort <- read.csv(file.path(cohortdir, '1_4_cohort.csv'))\n",
    "nrow(cohort)\n",
    "colnames(cohort)"
   ]
  },
  {
   "cell_type": "code",
   "execution_count": 73,
   "metadata": {},
   "outputs": [
    {
     "data": {
      "text/html": [
       "12418"
      ],
      "text/latex": [
       "12418"
      ],
      "text/markdown": [
       "12418"
      ],
      "text/plain": [
       "[1] 12418"
      ]
     },
     "metadata": {},
     "output_type": "display_data"
    },
    {
     "data": {
      "text/plain": [
       "\n",
       " 2019  2020 \n",
       "10115  2303 "
      ]
     },
     "metadata": {},
     "output_type": "display_data"
    }
   ],
   "source": [
    "cohort_test <-  cohort %>% mutate(admit_time = ymd_hms(admit_time)) %>% \n",
    "                    mutate(adm_year = year(admit_time)) %>% filter(adm_year > 2018)\n",
    "nrow(cohort_test)\n",
    "table(cohort_test$adm_year)"
   ]
  },
  {
   "cell_type": "code",
   "execution_count": 74,
   "metadata": {},
   "outputs": [
    {
     "name": "stdout",
     "output_type": "stream",
     "text": [
      "[1] \"../../OutputTD/3_models/1_4_cohort/death_24hr_max_label\"\n"
     ]
    },
    {
     "name": "stderr",
     "output_type": "stream",
     "text": [
      "Joining, by = \"pat_enc_csn_id_coded\"\n",
      "\n"
     ]
    },
    {
     "name": "stdout",
     "output_type": "stream",
     "text": [
      "[1] \"pred_death_24hr_max\"\n",
      "[1] \"../../OutputTD/3_models/1_4_cohort/death_24hr_recent_label\"\n"
     ]
    },
    {
     "name": "stderr",
     "output_type": "stream",
     "text": [
      "Joining, by = \"pat_enc_csn_id_coded\"\n",
      "\n"
     ]
    },
    {
     "name": "stdout",
     "output_type": "stream",
     "text": [
      "[1] \"pred_death_24hr_recent\"\n",
      "[1] \"../../OutputTD/3_models/1_4_cohort/first_label\"\n"
     ]
    },
    {
     "name": "stderr",
     "output_type": "stream",
     "text": [
      "Joining, by = \"pat_enc_csn_id_coded\"\n",
      "\n"
     ]
    },
    {
     "name": "stdout",
     "output_type": "stream",
     "text": [
      "[1] \"pred_first\"\n"
     ]
    }
   ],
   "source": [
    "for (f in sub.folders){\n",
    "    print(f)\n",
    "    out <- read.csv(paste0(f,\"/\",\"lightgbm_test_results.csv\")) %>% select(pat_enc_csn_id_coded, predictions)\n",
    "    cohort_test <- cohort_test %>% inner_join(out)\n",
    "#     cohort_test[ , ncol(cohort_test) + 1] <- out$predictions\n",
    "#     newcolname <- paste0(\"pred_\", str_sub(f, start=-12))\n",
    "    newcolname <- paste0(\"pred_\", str_sub(f, start=36, end=-7))\n",
    "    print(newcolname)\n",
    "#     cohort_test <- cohort_test %>% rename(newcolname = predictions)\n",
    "#     print(colnames(cohort_test))\n",
    "    colnames(cohort_test)[ncol(cohort_test)] <- newcolname\n",
    "}"
   ]
  },
  {
   "cell_type": "code",
   "execution_count": 75,
   "metadata": {},
   "outputs": [
    {
     "data": {
      "text/html": [
       "12418"
      ],
      "text/latex": [
       "12418"
      ],
      "text/markdown": [
       "12418"
      ],
      "text/plain": [
       "[1] 12418"
      ]
     },
     "metadata": {},
     "output_type": "display_data"
    },
    {
     "data": {
      "text/html": [
       "<style>\n",
       ".list-inline {list-style: none; margin:0; padding: 0}\n",
       ".list-inline>li {display: inline-block}\n",
       ".list-inline>li:not(:last-child)::after {content: \"\\00b7\"; padding: 0 .5ex}\n",
       "</style>\n",
       "<ol class=list-inline><li>'anon_id'</li><li>'pat_enc_csn_id_coded'</li><li>'inpatient_data_id_coded'</li><li>'admit_time'</li><li>'label_max24'</li><li>'label_24hr_recent'</li><li>'admit_label'</li><li>'has_admit_label'</li><li>'died_within_24hrs'</li><li>'death_24hr_max_label'</li><li>'death_24hr_recent_label'</li><li>'first_label'</li><li>'first_label_minutes_since_admit'</li><li>'acute_to_critical_label_recent'</li><li>'critical_to_acute_label_recent'</li><li>'acute_to_critical_label_max'</li><li>'critical_to_acute_label_max'</li><li>'adm_year'</li><li>'pred_death_24hr_max'</li><li>'pred_death_24hr_recent'</li><li>'pred_first'</li></ol>\n"
      ],
      "text/latex": [
       "\\begin{enumerate*}\n",
       "\\item 'anon\\_id'\n",
       "\\item 'pat\\_enc\\_csn\\_id\\_coded'\n",
       "\\item 'inpatient\\_data\\_id\\_coded'\n",
       "\\item 'admit\\_time'\n",
       "\\item 'label\\_max24'\n",
       "\\item 'label\\_24hr\\_recent'\n",
       "\\item 'admit\\_label'\n",
       "\\item 'has\\_admit\\_label'\n",
       "\\item 'died\\_within\\_24hrs'\n",
       "\\item 'death\\_24hr\\_max\\_label'\n",
       "\\item 'death\\_24hr\\_recent\\_label'\n",
       "\\item 'first\\_label'\n",
       "\\item 'first\\_label\\_minutes\\_since\\_admit'\n",
       "\\item 'acute\\_to\\_critical\\_label\\_recent'\n",
       "\\item 'critical\\_to\\_acute\\_label\\_recent'\n",
       "\\item 'acute\\_to\\_critical\\_label\\_max'\n",
       "\\item 'critical\\_to\\_acute\\_label\\_max'\n",
       "\\item 'adm\\_year'\n",
       "\\item 'pred\\_death\\_24hr\\_max'\n",
       "\\item 'pred\\_death\\_24hr\\_recent'\n",
       "\\item 'pred\\_first'\n",
       "\\end{enumerate*}\n"
      ],
      "text/markdown": [
       "1. 'anon_id'\n",
       "2. 'pat_enc_csn_id_coded'\n",
       "3. 'inpatient_data_id_coded'\n",
       "4. 'admit_time'\n",
       "5. 'label_max24'\n",
       "6. 'label_24hr_recent'\n",
       "7. 'admit_label'\n",
       "8. 'has_admit_label'\n",
       "9. 'died_within_24hrs'\n",
       "10. 'death_24hr_max_label'\n",
       "11. 'death_24hr_recent_label'\n",
       "12. 'first_label'\n",
       "13. 'first_label_minutes_since_admit'\n",
       "14. 'acute_to_critical_label_recent'\n",
       "15. 'critical_to_acute_label_recent'\n",
       "16. 'acute_to_critical_label_max'\n",
       "17. 'critical_to_acute_label_max'\n",
       "18. 'adm_year'\n",
       "19. 'pred_death_24hr_max'\n",
       "20. 'pred_death_24hr_recent'\n",
       "21. 'pred_first'\n",
       "\n",
       "\n"
      ],
      "text/plain": [
       " [1] \"anon_id\"                         \"pat_enc_csn_id_coded\"           \n",
       " [3] \"inpatient_data_id_coded\"         \"admit_time\"                     \n",
       " [5] \"label_max24\"                     \"label_24hr_recent\"              \n",
       " [7] \"admit_label\"                     \"has_admit_label\"                \n",
       " [9] \"died_within_24hrs\"               \"death_24hr_max_label\"           \n",
       "[11] \"death_24hr_recent_label\"         \"first_label\"                    \n",
       "[13] \"first_label_minutes_since_admit\" \"acute_to_critical_label_recent\" \n",
       "[15] \"critical_to_acute_label_recent\"  \"acute_to_critical_label_max\"    \n",
       "[17] \"critical_to_acute_label_max\"     \"adm_year\"                       \n",
       "[19] \"pred_death_24hr_max\"             \"pred_death_24hr_recent\"         \n",
       "[21] \"pred_first\"                     "
      ]
     },
     "metadata": {},
     "output_type": "display_data"
    },
    {
     "data": {
      "text/plain": [
       "   anon_id          pat_enc_csn_id_coded inpatient_data_id_coded\n",
       " Length:12418       Min.   :1.313e+11    Min.   :33212811       \n",
       " Class :character   1st Qu.:1.313e+11    1st Qu.:35996148       \n",
       " Mode  :character   Median :1.313e+11    Median :39994636       \n",
       "                    Mean   :1.313e+11    Mean   :40003546       \n",
       "                    3rd Qu.:1.313e+11    3rd Qu.:43886508       \n",
       "                    Max.   :1.313e+11    Max.   :48026130       \n",
       "                                                                \n",
       "   admit_time                   label_max24     label_24hr_recent\n",
       " Min.   :2019-01-01 00:03:00   Min.   :0.0000   Min.   :0.0000   \n",
       " 1st Qu.:2019-04-13 00:01:30   1st Qu.:0.0000   1st Qu.:0.0000   \n",
       " Median :2019-08-04 21:50:30   Median :0.0000   Median :0.0000   \n",
       " Mean   :2019-08-08 00:19:00   Mean   :0.1512   Mean   :0.1033   \n",
       " 3rd Qu.:2019-12-01 06:24:15   3rd Qu.:0.0000   3rd Qu.:0.0000   \n",
       " Max.   :2020-03-31 07:00:00   Max.   :1.0000   Max.   :1.0000   \n",
       "                                                                 \n",
       "  admit_label     has_admit_label  died_within_24hrs  death_24hr_max_label\n",
       " Min.   :0.0000   Min.   :0.0000   Min.   :0.000000   Min.   :0.0000      \n",
       " 1st Qu.:0.0000   1st Qu.:1.0000   1st Qu.:0.000000   1st Qu.:0.0000      \n",
       " Median :0.0000   Median :1.0000   Median :0.000000   Median :0.0000      \n",
       " Mean   :0.1232   Mean   :0.9942   Mean   :0.001611   Mean   :0.1518      \n",
       " 3rd Qu.:0.0000   3rd Qu.:1.0000   3rd Qu.:0.000000   3rd Qu.:0.0000      \n",
       " Max.   :1.0000   Max.   :1.0000   Max.   :1.000000   Max.   :1.0000      \n",
       " NA's   :72                                                               \n",
       " death_24hr_recent_label  first_label     first_label_minutes_since_admit\n",
       " Min.   :0.000           Min.   :0.0000   Min.   :  0.0000               \n",
       " 1st Qu.:0.000           1st Qu.:0.0000   1st Qu.:  0.0000               \n",
       " Median :0.000           Median :0.0000   Median :  0.0000               \n",
       " Mean   :0.104           Mean   :0.1239   Mean   :  0.2184               \n",
       " 3rd Qu.:0.000           3rd Qu.:0.0000   3rd Qu.:  0.0000               \n",
       " Max.   :1.000           Max.   :1.0000   Max.   :551.0000               \n",
       "                                                                         \n",
       " acute_to_critical_label_recent critical_to_acute_label_recent\n",
       " Min.   :0.00000                Min.   :0.00000               \n",
       " 1st Qu.:0.00000                1st Qu.:0.00000               \n",
       " Median :0.00000                Median :0.00000               \n",
       " Mean   :0.02247                Mean   :0.04236               \n",
       " 3rd Qu.:0.00000                3rd Qu.:0.00000               \n",
       " Max.   :1.00000                Max.   :1.00000               \n",
       "                                                              \n",
       " acute_to_critical_label_max critical_to_acute_label_max    adm_year   \n",
       " Min.   :0.00000             Min.   :0                   Min.   :2019  \n",
       " 1st Qu.:0.00000             1st Qu.:0                   1st Qu.:2019  \n",
       " Median :0.00000             Median :0                   Median :2019  \n",
       " Mean   :0.02794             Mean   :0                   Mean   :2019  \n",
       " 3rd Qu.:0.00000             3rd Qu.:0                   3rd Qu.:2019  \n",
       " Max.   :1.00000             Max.   :0                   Max.   :2020  \n",
       "                                                                       \n",
       " pred_death_24hr_max pred_death_24hr_recent   pred_first      \n",
       " Min.   :0.005529    Min.   :0.005263       Min.   :0.003762  \n",
       " 1st Qu.:0.025764    1st Qu.:0.021521       1st Qu.:0.016906  \n",
       " Median :0.054683    Median :0.040195       Median :0.037995  \n",
       " Mean   :0.140604    Mean   :0.098219       Mean   :0.116168  \n",
       " 3rd Qu.:0.162256    3rd Qu.:0.104513       3rd Qu.:0.119656  \n",
       " Max.   :0.974768    Max.   :0.931541       Max.   :0.969960  \n",
       "                                                              "
      ]
     },
     "metadata": {},
     "output_type": "display_data"
    }
   ],
   "source": [
    "nrow(cohort_test)\n",
    "colnames(cohort_test)\n",
    "summary(cohort_test)"
   ]
  },
  {
   "cell_type": "code",
   "execution_count": 122,
   "metadata": {},
   "outputs": [],
   "source": [
    "write.csv(cohort_test, file.path(modeldir4, \"cohort_test_preds.csv\"), row.names=FALSE)"
   ]
  },
  {
   "cell_type": "markdown",
   "metadata": {},
   "source": [
    "### Patient visits who changed labels"
   ]
  },
  {
   "cell_type": "code",
   "execution_count": 81,
   "metadata": {},
   "outputs": [
    {
     "data": {
      "text/plain": [
       "   Min. 1st Qu.  Median    Mean 3rd Qu.    Max. \n",
       "0.00000 0.00000 0.00000 0.09468 0.00000 1.00000 "
      ]
     },
     "metadata": {},
     "output_type": "display_data"
    },
    {
     "data": {
      "text/plain": [
       "   Min. 1st Qu.  Median    Mean 3rd Qu.    Max. \n",
       "  0.000   0.000   0.000   0.104   0.000   1.000 "
      ]
     },
     "metadata": {},
     "output_type": "display_data"
    },
    {
     "data": {
      "text/plain": [
       "   Min. 1st Qu.  Median    Mean 3rd Qu.    Max. \n",
       "0.00000 0.00000 0.00000 0.02247 0.00000 1.00000 "
      ]
     },
     "metadata": {},
     "output_type": "display_data"
    },
    {
     "data": {
      "text/plain": [
       "   Min. 1st Qu.  Median    Mean 3rd Qu.    Max. \n",
       "0.00000 0.00000 0.00000 0.04236 0.00000 1.00000 "
      ]
     },
     "metadata": {},
     "output_type": "display_data"
    }
   ],
   "source": [
    "summary(cohort$death_24hr_recent_label)\n",
    "summary(cohort_test$death_24hr_recent_label)\n",
    "summary(cohort_test$acute_to_critical_label_recent)\n",
    "summary(cohort_test$critical_to_acute_label_recent)"
   ]
  },
  {
   "cell_type": "code",
   "execution_count": 87,
   "metadata": {},
   "outputs": [
    {
     "data": {
      "text/plain": [
       "   anon_id          pat_enc_csn_id_coded inpatient_data_id_coded\n",
       " Length:805         Min.   :1.313e+11    Min.   :33304897       \n",
       " Class :character   1st Qu.:1.313e+11    1st Qu.:35937311       \n",
       " Mode  :character   Median :1.313e+11    Median :40224264       \n",
       "                    Mean   :1.313e+11    Mean   :40067966       \n",
       "                    3rd Qu.:1.313e+11    3rd Qu.:43924002       \n",
       "                    Max.   :1.313e+11    Max.   :47867256       \n",
       "                                                                \n",
       "   admit_time                   label_max24     label_24hr_recent\n",
       " Min.   :2019-01-03 03:54:00   Min.   :0.0000   Min.   :0.0000   \n",
       " 1st Qu.:2019-04-11 00:11:00   1st Qu.:1.0000   1st Qu.:0.0000   \n",
       " Median :2019-08-11 14:25:00   Median :1.0000   Median :0.0000   \n",
       " Mean   :2019-08-09 01:03:59   Mean   :0.9913   Mean   :0.3379   \n",
       " 3rd Qu.:2019-11-29 04:20:00   3rd Qu.:1.0000   3rd Qu.:1.0000   \n",
       " Max.   :2020-03-30 20:27:00   Max.   :1.0000   Max.   :1.0000   \n",
       "                                                                 \n",
       "  admit_label     has_admit_label  died_within_24hrs death_24hr_max_label\n",
       " Min.   :0.0000   Min.   :0.0000   Min.   :0.00000   Min.   :1           \n",
       " 1st Qu.:0.0000   1st Qu.:1.0000   1st Qu.:0.00000   1st Qu.:1           \n",
       " Median :1.0000   Median :1.0000   Median :0.00000   Median :1           \n",
       " Mean   :0.6525   Mean   :0.9938   Mean   :0.01491   Mean   :1           \n",
       " 3rd Qu.:1.0000   3rd Qu.:1.0000   3rd Qu.:0.00000   3rd Qu.:1           \n",
       " Max.   :1.0000   Max.   :1.0000   Max.   :1.00000   Max.   :1           \n",
       " NA's   :5                                                               \n",
       " death_24hr_recent_label  first_label     first_label_minutes_since_admit\n",
       " Min.   :0.0000          Min.   :0.0000   Min.   : 0.00000               \n",
       " 1st Qu.:0.0000          1st Qu.:0.0000   1st Qu.: 0.00000               \n",
       " Median :0.0000          Median :1.0000   Median : 0.00000               \n",
       " Mean   :0.3466          Mean   :0.6534   Mean   : 0.09068               \n",
       " 3rd Qu.:1.0000          3rd Qu.:1.0000   3rd Qu.: 0.00000               \n",
       " Max.   :1.0000          Max.   :1.0000   Max.   :29.00000               \n",
       "                                                                         \n",
       " acute_to_critical_label_recent critical_to_acute_label_recent\n",
       " Min.   :0.0000                 Min.   :0.0000                \n",
       " 1st Qu.:0.0000                 1st Qu.:0.0000                \n",
       " Median :0.0000                 Median :1.0000                \n",
       " Mean   :0.3466                 Mean   :0.6534                \n",
       " 3rd Qu.:1.0000                 3rd Qu.:1.0000                \n",
       " Max.   :1.0000                 Max.   :1.0000                \n",
       "                                                              \n",
       " acute_to_critical_label_max critical_to_acute_label_max    adm_year   \n",
       " Min.   :0.0000              Min.   :0                   Min.   :2019  \n",
       " 1st Qu.:0.0000              1st Qu.:0                   1st Qu.:2019  \n",
       " Median :0.0000              Median :0                   Median :2019  \n",
       " Mean   :0.3466              Mean   :0                   Mean   :2019  \n",
       " 3rd Qu.:1.0000              3rd Qu.:0                   3rd Qu.:2019  \n",
       " Max.   :1.0000              Max.   :0                   Max.   :2020  \n",
       "                                                                       \n",
       " pred_death_24hr_max pred_death_24hr_recent   pred_first      \n",
       " Min.   :0.01416     Min.   :0.01125        Min.   :0.006583  \n",
       " 1st Qu.:0.10774     1st Qu.:0.06524        1st Qu.:0.076937  \n",
       " Median :0.27467     Median :0.15461        Median :0.221275  \n",
       " Mean   :0.33257     Mean   :0.20913        Mean   :0.293391  \n",
       " 3rd Qu.:0.52081     3rd Qu.:0.29327        3rd Qu.:0.477305  \n",
       " Max.   :0.95072     Max.   :0.90246        Max.   :0.944306  \n",
       "                                                              "
      ]
     },
     "metadata": {},
     "output_type": "display_data"
    }
   ],
   "source": [
    "transfers <- cohort_test %>% filter(death_24hr_recent_label != first_label)\n",
    "summary(transfers)"
   ]
  },
  {
   "cell_type": "code",
   "execution_count": 86,
   "metadata": {},
   "outputs": [
    {
     "data": {
      "text/html": [
       "526"
      ],
      "text/latex": [
       "526"
      ],
      "text/markdown": [
       "526"
      ],
      "text/plain": [
       "[1] 526"
      ]
     },
     "metadata": {},
     "output_type": "display_data"
    },
    {
     "data": {
      "text/html": [
       "279"
      ],
      "text/latex": [
       "279"
      ],
      "text/markdown": [
       "279"
      ],
      "text/plain": [
       "[1] 279"
      ]
     },
     "metadata": {},
     "output_type": "display_data"
    },
    {
     "data": {
      "text/html": [
       "805"
      ],
      "text/latex": [
       "805"
      ],
      "text/markdown": [
       "805"
      ],
      "text/plain": [
       "[1] 805"
      ]
     },
     "metadata": {},
     "output_type": "display_data"
    }
   ],
   "source": [
    "sum(transfers$critical_to_acute_label_recent)\n",
    "sum(transfers$acute_to_critical_label_recent)\n",
    "sum(transfers$critical_to_acute_label_recent) + sum(transfers$acute_to_critical_label_recent)"
   ]
  },
  {
   "cell_type": "code",
   "execution_count": 89,
   "metadata": {},
   "outputs": [],
   "source": [
    "write.csv(transfers, file.path(modeldir4, \"transfers.csv\"), row.names=FALSE)"
   ]
  },
  {
   "cell_type": "markdown",
   "metadata": {},
   "source": [
    "### Patient visits with big differences in predictions at 2 time points"
   ]
  },
  {
   "cell_type": "code",
   "execution_count": 103,
   "metadata": {},
   "outputs": [],
   "source": [
    "long3 <- gather(cohort_test, labels, predictions, pred_death_24hr_max:pred_first, factor_key=TRUE)\n",
    "long2 <- long3 %>% filter(labels != 'pred_death_24hr_max')"
   ]
  },
  {
   "cell_type": "code",
   "execution_count": 107,
   "metadata": {},
   "outputs": [
    {
     "name": "stderr",
     "output_type": "stream",
     "text": [
      "`stat_bin()` using `bins = 30`. Pick better value with `binwidth`.\n",
      "\n"
     ]
    },
    {
     "data": {
      "image/png": "[encoded data removed]",
      "text/plain": [
       "plot without title"
      ]
     },
     "metadata": {
      "image/png": {
       "height": 420,
       "width": 420
      }
     },
     "output_type": "display_data"
    }
   ],
   "source": [
    "ggplot(long2, aes(x = predictions)) +\n",
    "  geom_histogram(fill = \"white\", colour = \"black\") +\n",
    "  facet_grid(labels ~ .)"
   ]
  },
  {
   "cell_type": "code",
   "execution_count": 106,
   "metadata": {},
   "outputs": [
    {
     "data": {
      "image/png": "[encoded data removed]",
      "text/plain": [
       "plot without title"
      ]
     },
     "metadata": {
      "image/png": {
       "height": 420,
       "width": 420
      }
     },
     "output_type": "display_data"
    }
   ],
   "source": [
    "ggplot(long2, aes(x = predictions, fill = labels)) +         \n",
    "  geom_histogram(position = \"identity\", alpha = 0.2, bins = 50)"
   ]
  },
  {
   "cell_type": "code",
   "execution_count": 131,
   "metadata": {},
   "outputs": [],
   "source": [
    "cohort_test <- cohort_test %>% mutate(diff0_24 = round(pred_first - pred_death_24hr_recent, 2),\n",
    "                                      diff0_True = round(pred_first - first_label, 2),\n",
    "                                      diff24_True = round(pred_death_24hr_recent - death_24hr_max_label, 2))"
   ]
  },
  {
   "cell_type": "code",
   "execution_count": 130,
   "metadata": {},
   "outputs": [
    {
     "data": {
      "text/html": [
       "<style>\n",
       ".dl-inline {width: auto; margin:0; padding: 0}\n",
       ".dl-inline>dt, .dl-inline>dd {float: none; width: auto; display: inline-block}\n",
       ".dl-inline>dt::after {content: \":\\0020\"; padding-right: .5ex}\n",
       ".dl-inline>dt:not(:first-of-type) {padding-left: .5ex}\n",
       "</style><dl class=dl-inline><dt>5%</dt><dd>-0.05</dd><dt>10%</dt><dd>-0.03</dd><dt>20%</dt><dd>-0.01</dd><dt>30%</dt><dd>-0.01</dd><dt>40%</dt><dd>0</dd><dt>50%</dt><dd>0</dd><dt>60%</dt><dd>0</dd><dt>70%</dt><dd>0.01</dd><dt>80%</dt><dd>0.03</dd><dt>90%</dt><dd>0.1</dd><dt>95%</dt><dd>0.18</dd></dl>\n"
      ],
      "text/latex": [
       "\\begin{description*}\n",
       "\\item[5\\textbackslash{}\\%] -0.05\n",
       "\\item[10\\textbackslash{}\\%] -0.03\n",
       "\\item[20\\textbackslash{}\\%] -0.01\n",
       "\\item[30\\textbackslash{}\\%] -0.01\n",
       "\\item[40\\textbackslash{}\\%] 0\n",
       "\\item[50\\textbackslash{}\\%] 0\n",
       "\\item[60\\textbackslash{}\\%] 0\n",
       "\\item[70\\textbackslash{}\\%] 0.01\n",
       "\\item[80\\textbackslash{}\\%] 0.03\n",
       "\\item[90\\textbackslash{}\\%] 0.1\n",
       "\\item[95\\textbackslash{}\\%] 0.18\n",
       "\\end{description*}\n"
      ],
      "text/markdown": [
       "5%\n",
       ":   -0.0510%\n",
       ":   -0.0320%\n",
       ":   -0.0130%\n",
       ":   -0.0140%\n",
       ":   050%\n",
       ":   060%\n",
       ":   070%\n",
       ":   0.0180%\n",
       ":   0.0390%\n",
       ":   0.195%\n",
       ":   0.18\n",
       "\n"
      ],
      "text/plain": [
       "   5%   10%   20%   30%   40%   50%   60%   70%   80%   90%   95% \n",
       "-0.05 -0.03 -0.01 -0.01  0.00  0.00  0.00  0.01  0.03  0.10  0.18 "
      ]
     },
     "metadata": {},
     "output_type": "display_data"
    },
    {
     "data": {
      "text/plain": [
       "    Min.  1st Qu.   Median     Mean  3rd Qu.     Max. \n",
       "-0.42000 -0.01000  0.00000  0.01798  0.02000  0.73000 "
      ]
     },
     "metadata": {},
     "output_type": "display_data"
    },
    {
     "data": {
      "image/png": "[encoded data removed]",
      "text/plain": [
       "Plot with title \"Histogram of cohort_test$diff0_24\""
      ]
     },
     "metadata": {
      "image/png": {
       "height": 420,
       "width": 1200
      }
     },
     "output_type": "display_data"
    }
   ],
   "source": [
    "options(repr.plot.width=20, repr.plot.height=7)\n",
    "\n",
    "quantile(cohort_test$diff0_24, c(.05, .1, .2, 0.3, 0.4, 0.5, 0.6, 0.7, 0.8, 0.9, 0.95)) \n",
    "summary(cohort_test$diff0_24)\n",
    "hist(cohort_test$diff0_24, col='dodgerblue', breaks=100)"
   ]
  },
  {
   "cell_type": "code",
   "execution_count": 128,
   "metadata": {},
   "outputs": [
    {
     "data": {
      "text/html": [
       "191"
      ],
      "text/latex": [
       "191"
      ],
      "text/markdown": [
       "191"
      ],
      "text/plain": [
       "[1] 191"
      ]
     },
     "metadata": {},
     "output_type": "display_data"
    },
    {
     "data": {
      "image/png": "[encoded data removed]",
      "text/plain": [
       "Plot with title \"Histogram of diff$diff0_24\""
      ]
     },
     "metadata": {
      "image/png": {
       "height": 420,
       "width": 1200
      }
     },
     "output_type": "display_data"
    }
   ],
   "source": [
    "diff <- cohort_test %>% filter(abs(diff0_24) > 0.3)\n",
    "nrow(diff) # /nrow(cohort_test) *100 # about 1.54% \n",
    "hist(diff$diff0_24, col='dodgerblue', breaks=100)"
   ]
  },
  {
   "cell_type": "code",
   "execution_count": 138,
   "metadata": {},
   "outputs": [],
   "source": [
    "write.csv(diff, file.path(modeldir4, \"preds_diff_0_24.csv\"), row.names=FALSE)"
   ]
  },
  {
   "cell_type": "markdown",
   "metadata": {},
   "source": [
    "### Patient visits predictions vs. truth\n"
   ]
  },
  {
   "cell_type": "code",
   "execution_count": 132,
   "metadata": {},
   "outputs": [
    {
     "data": {
      "text/plain": [
       "     Min.   1st Qu.    Median      Mean   3rd Qu.      Max. \n",
       "-0.990000  0.010000  0.030000 -0.007673  0.070000  0.930000 "
      ]
     },
     "metadata": {},
     "output_type": "display_data"
    },
    {
     "data": {
      "text/plain": [
       "    Min.  1st Qu.   Median     Mean  3rd Qu.     Max. \n",
       "-0.99000  0.01000  0.03000 -0.05359  0.06000  0.76000 "
      ]
     },
     "metadata": {},
     "output_type": "display_data"
    }
   ],
   "source": [
    "summary(cohort_test$diff0_True)\n",
    "summary(cohort_test$diff24_True)"
   ]
  },
  {
   "cell_type": "code",
   "execution_count": 139,
   "metadata": {},
   "outputs": [
    {
     "data": {
      "text/html": [
       "<style>\n",
       ".list-inline {list-style: none; margin:0; padding: 0}\n",
       ".list-inline>li {display: inline-block}\n",
       ".list-inline>li:not(:last-child)::after {content: \"\\00b7\"; padding: 0 .5ex}\n",
       "</style>\n",
       "<ol class=list-inline><li>'anon_id'</li><li>'pat_enc_csn_id_coded'</li><li>'inpatient_data_id_coded'</li><li>'admit_time'</li><li>'label_max24'</li><li>'label_24hr_recent'</li><li>'admit_label'</li><li>'has_admit_label'</li><li>'died_within_24hrs'</li><li>'death_24hr_max_label'</li><li>'death_24hr_recent_label'</li><li>'first_label'</li><li>'first_label_minutes_since_admit'</li><li>'acute_to_critical_label_recent'</li><li>'critical_to_acute_label_recent'</li><li>'acute_to_critical_label_max'</li><li>'critical_to_acute_label_max'</li><li>'adm_year'</li><li>'pred_death_24hr_max'</li><li>'pred_death_24hr_recent'</li><li>'pred_first'</li><li>'diff0_24'</li><li>'diff0_True'</li><li>'diff24_True'</li></ol>\n"
      ],
      "text/latex": [
       "\\begin{enumerate*}\n",
       "\\item 'anon\\_id'\n",
       "\\item 'pat\\_enc\\_csn\\_id\\_coded'\n",
       "\\item 'inpatient\\_data\\_id\\_coded'\n",
       "\\item 'admit\\_time'\n",
       "\\item 'label\\_max24'\n",
       "\\item 'label\\_24hr\\_recent'\n",
       "\\item 'admit\\_label'\n",
       "\\item 'has\\_admit\\_label'\n",
       "\\item 'died\\_within\\_24hrs'\n",
       "\\item 'death\\_24hr\\_max\\_label'\n",
       "\\item 'death\\_24hr\\_recent\\_label'\n",
       "\\item 'first\\_label'\n",
       "\\item 'first\\_label\\_minutes\\_since\\_admit'\n",
       "\\item 'acute\\_to\\_critical\\_label\\_recent'\n",
       "\\item 'critical\\_to\\_acute\\_label\\_recent'\n",
       "\\item 'acute\\_to\\_critical\\_label\\_max'\n",
       "\\item 'critical\\_to\\_acute\\_label\\_max'\n",
       "\\item 'adm\\_year'\n",
       "\\item 'pred\\_death\\_24hr\\_max'\n",
       "\\item 'pred\\_death\\_24hr\\_recent'\n",
       "\\item 'pred\\_first'\n",
       "\\item 'diff0\\_24'\n",
       "\\item 'diff0\\_True'\n",
       "\\item 'diff24\\_True'\n",
       "\\end{enumerate*}\n"
      ],
      "text/markdown": [
       "1. 'anon_id'\n",
       "2. 'pat_enc_csn_id_coded'\n",
       "3. 'inpatient_data_id_coded'\n",
       "4. 'admit_time'\n",
       "5. 'label_max24'\n",
       "6. 'label_24hr_recent'\n",
       "7. 'admit_label'\n",
       "8. 'has_admit_label'\n",
       "9. 'died_within_24hrs'\n",
       "10. 'death_24hr_max_label'\n",
       "11. 'death_24hr_recent_label'\n",
       "12. 'first_label'\n",
       "13. 'first_label_minutes_since_admit'\n",
       "14. 'acute_to_critical_label_recent'\n",
       "15. 'critical_to_acute_label_recent'\n",
       "16. 'acute_to_critical_label_max'\n",
       "17. 'critical_to_acute_label_max'\n",
       "18. 'adm_year'\n",
       "19. 'pred_death_24hr_max'\n",
       "20. 'pred_death_24hr_recent'\n",
       "21. 'pred_first'\n",
       "22. 'diff0_24'\n",
       "23. 'diff0_True'\n",
       "24. 'diff24_True'\n",
       "\n",
       "\n"
      ],
      "text/plain": [
       " [1] \"anon_id\"                         \"pat_enc_csn_id_coded\"           \n",
       " [3] \"inpatient_data_id_coded\"         \"admit_time\"                     \n",
       " [5] \"label_max24\"                     \"label_24hr_recent\"              \n",
       " [7] \"admit_label\"                     \"has_admit_label\"                \n",
       " [9] \"died_within_24hrs\"               \"death_24hr_max_label\"           \n",
       "[11] \"death_24hr_recent_label\"         \"first_label\"                    \n",
       "[13] \"first_label_minutes_since_admit\" \"acute_to_critical_label_recent\" \n",
       "[15] \"critical_to_acute_label_recent\"  \"acute_to_critical_label_max\"    \n",
       "[17] \"critical_to_acute_label_max\"     \"adm_year\"                       \n",
       "[19] \"pred_death_24hr_max\"             \"pred_death_24hr_recent\"         \n",
       "[21] \"pred_first\"                      \"diff0_24\"                       \n",
       "[23] \"diff0_True\"                      \"diff24_True\"                    "
      ]
     },
     "metadata": {},
     "output_type": "display_data"
    }
   ],
   "source": [
    "colnames(cohort_test)"
   ]
  },
  {
   "cell_type": "code",
   "execution_count": 134,
   "metadata": {},
   "outputs": [],
   "source": [
    "diff3 <- gather(cohort_test, diffs, values, diff0_24:diff24_True, factor_key=TRUE)\n",
    "diff2 <- diff3 %>% filter(diffs != 'diff0_24')"
   ]
  },
  {
   "cell_type": "code",
   "execution_count": 137,
   "metadata": {},
   "outputs": [
    {
     "name": "stderr",
     "output_type": "stream",
     "text": [
      "`stat_bin()` using `bins = 30`. Pick better value with `binwidth`.\n",
      "\n"
     ]
    },
    {
     "data": {
      "image/png": "[encoded data removed]",
      "text/plain": [
       "plot without title"
      ]
     },
     "metadata": {
      "image/png": {
       "height": 600,
       "width": 420
      }
     },
     "output_type": "display_data"
    }
   ],
   "source": [
    "options(repr.plot.width=7, repr.plot.height=10)\n",
    "\n",
    "ggplot(diff2, aes(x = values)) +\n",
    "  geom_histogram(fill = \"white\", colour = \"black\") +\n",
    "  facet_grid(diffs ~ .)"
   ]
  },
  {
   "cell_type": "markdown",
   "metadata": {},
   "source": [
    "### "
   ]
  },
  {
   "cell_type": "code",
   "execution_count": 141,
   "metadata": {},
   "outputs": [
    {
     "data": {
      "text/html": [
       "4386107"
      ],
      "text/latex": [
       "4386107"
      ],
      "text/markdown": [
       "4386107"
      ],
      "text/plain": [
       "[1] 4386107"
      ]
     },
     "metadata": {},
     "output_type": "display_data"
    }
   ],
   "source": [
    "orders4 <- read.csv(file.path(datadir, 'coh5_order_code_counts.csv'))\n",
    "nrow(orders4) # 4322665"
   ]
  },
  {
   "cell_type": "code",
   "execution_count": null,
   "metadata": {},
   "outputs": [],
   "source": [
    "values <- "
   ]
  }
 ],
 "metadata": {
  "kernelspec": {
   "display_name": "R",
   "language": "R",
   "name": "ir"
  },
  "language_info": {
   "codemirror_mode": "r",
   "file_extension": ".r",
   "mimetype": "text/x-r-source",
   "name": "R",
   "pygments_lexer": "r",
   "version": "4.0.3"
  }
 },
 "nbformat": 4,
 "nbformat_minor": 4
}
