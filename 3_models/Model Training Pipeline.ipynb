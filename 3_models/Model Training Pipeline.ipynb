{
 "cells": [
  {
   "cell_type": "code",
   "execution_count": 1,
   "metadata": {},
   "outputs": [
    {
     "name": "stderr",
     "output_type": "stream",
     "text": [
      "Using TensorFlow backend.\n"
     ]
    }
   ],
   "source": [
    "import numpy as np\n",
    "import pandas as pd\n",
    "import tensorflow as tf\n",
    "import lightgbm as lgb\n",
    "import matplotlib.pyplot as plt\n",
    "\n",
    "from sklearn.linear_model import LogisticRegression\n",
    "from sklearn.ensemble import RandomForestClassifier\n",
    "from sklearn.model_selection import GridSearchCV, RandomizedSearchCV\n",
    "from sklearn.datasets import make_classification #Used for dummy data\n",
    "from random import randrange\n",
    "from datetime import timedelta, datetime\n",
    "from sklearn.metrics import roc_curve, auc, average_precision_score, roc_auc_score,plot_precision_recall_curve, plot_roc_curve\n",
    "from keras.models import Sequential\n",
    "from keras.layers import Dense, Dropout\n",
    "from keras.regularizers import l2\n",
    "import tensorflow_docs as tfdocs\n",
    "import joblib\n",
    "import os"
   ]
  },
  {
   "cell_type": "markdown",
   "metadata": {},
   "source": [
    "Define save path to save models to during training"
   ]
  },
  {
   "cell_type": "code",
   "execution_count": 2,
   "metadata": {},
   "outputs": [],
   "source": [
    "save_path = \"/Users/nostberg/Downloads/triage_test_models/\""
   ]
  },
  {
   "cell_type": "markdown",
   "metadata": {},
   "source": [
    "#### Generate dummy data for testing"
   ]
  },
  {
   "cell_type": "code",
   "execution_count": 3,
   "metadata": {},
   "outputs": [],
   "source": [
    "#From StackOverflow: https://stackoverflow.com/questions/553303/generate-a-random-date-between-two-other-dates\n",
    "def random_date(start, end):\n",
    "    \"\"\"\n",
    "    This function will return a random datetime between two datetime \n",
    "    objects.\n",
    "    \"\"\"\n",
    "    delta = end - start\n",
    "    int_delta = (delta.days * 24 * 60 * 60) + delta.seconds\n",
    "    random_second = randrange(int_delta)\n",
    "    return start + timedelta(seconds=random_second)\n",
    "\n",
    "d1 = datetime.strptime('1/1/2015 12:00 AM', '%m/%d/%Y %I:%M %p')\n",
    "d2 = datetime.strptime('12/31/2019 11:59 PM', '%m/%d/%Y %I:%M %p')\n",
    "\n",
    "rand_date = np.array([random_date(d1,d2) for i in range(500)]).reshape([500,1])\n",
    "\n",
    "\n",
    "X, y = make_classification(n_samples = 500, n_features=5, n_redundant=0, n_informative=2,\n",
    "                           random_state=1, n_clusters_per_class=1, class_sep=0.5)\n",
    "X = np.append(rand_date, X, axis = 1)"
   ]
  },
  {
   "cell_type": "code",
   "execution_count": 4,
   "metadata": {},
   "outputs": [
    {
     "name": "stdout",
     "output_type": "stream",
     "text": [
      "There are 500 samples and 6 features in the whole dataset\n"
     ]
    }
   ],
   "source": [
    "\"\"\"\n",
    "When we get real data, inset here \n",
    "\n",
    "X = pd.read_csv()\n",
    "\"\"\"\n",
    "\n",
    "\n",
    "print(\"There are %d samples and %d features in the whole dataset\" %(X.shape[0], X.shape[1]))"
   ]
  },
  {
   "cell_type": "markdown",
   "metadata": {},
   "source": [
    "#### Perform time-based train test split\n",
    "\n",
    "I'm assuming that we are going to perform our time split in ED arrival time as this will be constant across all experiments?"
   ]
  },
  {
   "cell_type": "code",
   "execution_count": 5,
   "metadata": {},
   "outputs": [
    {
     "name": "stdout",
     "output_type": "stream",
     "text": [
      "There are 300 samples in the training set\n",
      "There are 90 samples in the validation set\n",
      "There are 110 samples in the test set\n"
     ]
    }
   ],
   "source": [
    "ED_arrival_idx = 0\n",
    "\n",
    "#Date at which to perform the train-validation split\n",
    "validation_time_split = datetime(2018,1,1, 0,0,0) #Format is year, month, day, hour, minute, seconds\n",
    "test_time_split = datetime(2019, 1,1,0,0,0)\n",
    "\n",
    "#Generate boolean vectors for time splitting\n",
    "train_set_idx = X[:,ED_arrival_idx] < validation_time_split\n",
    "validation_set_idx = (X[:,ED_arrival_idx] > validation_time_split ) & (X[:,ED_arrival_idx] < test_time_split)\n",
    "test_set_idx = X[:,ED_arrival_idx] > test_time_split \n",
    "\n",
    "#Training set - Note that we eliminate the time (index 0 currently) from the training set\n",
    "X_train = X[train_set_idx, 1:]\n",
    "y_train = y[train_set_idx]\n",
    "\n",
    "#Validation set\n",
    "X_valid = X[validation_set_idx, 1:]\n",
    "y_valid = y[validation_set_idx]\n",
    "\n",
    "#Test set\n",
    "X_test = X[test_set_idx, 1:]\n",
    "y_test = y[test_set_idx]\n",
    "\n",
    "print(\"There are %d samples in the training set\" %len(y_train))\n",
    "print(\"There are %d samples in the validation set\" %len(y_valid))\n",
    "print(\"There are %d samples in the test set\" %len(y_test))"
   ]
  },
  {
   "cell_type": "code",
   "execution_count": 6,
   "metadata": {},
   "outputs": [],
   "source": [
    "#Function to make PRC and AUROC plots\n",
    "def make_auc_prc_plots(clf, name):\n",
    "    fig, axs = plt.subplots(1, 2, figsize = (12, 5))\n",
    "\n",
    "    plot_roc_curve(clf, X_valid, y_valid, name = name, ax=axs[0])\n",
    "    axs[0].plot([0,1],[0,1], 'r--')\n",
    "    plot_precision_recall_curve(ridge, X_valid, y_valid, name=name, ax = axs[1])\n",
    "    fig.suptitle(\"%s Classifier\"%name)"
   ]
  },
  {
   "cell_type": "markdown",
   "metadata": {},
   "source": [
    "#### Run Ridge classification with cross validation"
   ]
  },
  {
   "cell_type": "markdown",
   "metadata": {},
   "source": [
    "Note that larger alpha means more regularization"
   ]
  },
  {
   "cell_type": "code",
   "execution_count": 7,
   "metadata": {},
   "outputs": [
    {
     "name": "stdout",
     "output_type": "stream",
     "text": [
      "Best C value = 100.00\n",
      "AUROC for Ridge on validation set is 0.888\n",
      "AUPRC for Ridge on validation set is 0.763\n"
     ]
    },
    {
     "data": {
      "text/plain": [
       "['/Users/nostberg/Downloads/triage_test_models/ridge.sav']"
      ]
     },
     "execution_count": 7,
     "metadata": {},
     "output_type": "execute_result"
    },
    {
     "data": {
      "image/png": "[encoded data removed]",
      "text/plain": [
       "<Figure size 864x360 with 2 Axes>"
      ]
     },
     "metadata": {
      "needs_background": "light"
     },
     "output_type": "display_data"
    }
   ],
   "source": [
    "clf = LogisticRegression(penalty='l2', solver='lbfgs')\n",
    "\n",
    "#Set regularization strenghts between 1e-10 and 100 by powers of 10 with 5x cross validation\n",
    "c = np.logspace(-10, 2, 13) \n",
    "tuned_parameters = [{'C': c}]\n",
    "n_folds = 5 \n",
    "\n",
    "#Fit on all values of c and then find the classifier with best AUROC \n",
    "ridge = GridSearchCV(clf, tuned_parameters, cv=n_folds, refit=True)\n",
    "ridge.fit(X_train, y_train)\n",
    "\n",
    "#Print the value of alpha##\n",
    "print(\"Best C value = %0.2f\"%ridge.best_params_['C'])\n",
    "\n",
    "#Predict the probability of positive class\n",
    "y_predict = ridge.predict_proba(X_valid)[:,1]\n",
    "\n",
    "\n",
    "print(\"AUROC for Ridge on validation set is %0.3f\" % roc_auc_score(y_valid, y_predict))\n",
    "print(\"AUPRC for Ridge on validation set is %0.3f\" % average_precision_score(y_valid, y_predict))\n",
    "\n",
    "make_auc_prc_plots(ridge, \"Ridge\")\n",
    "\n",
    "joblib.dump(ridge, os.path.join(save_path, \"ridge.sav\"))"
   ]
  },
  {
   "cell_type": "markdown",
   "metadata": {},
   "source": [
    "#### Run LASSO classification with cross validation"
   ]
  },
  {
   "cell_type": "code",
   "execution_count": 8,
   "metadata": {},
   "outputs": [
    {
     "name": "stdout",
     "output_type": "stream",
     "text": [
      "Best C value = 100.00\n",
      "AUROC for LASSO on validation set is 0.887\n",
      "AUPRC for LASSO on validation set is 0.762\n"
     ]
    },
    {
     "data": {
      "text/plain": [
       "['/Users/nostberg/Downloads/triage_test_models/lasso.sav']"
      ]
     },
     "execution_count": 8,
     "metadata": {},
     "output_type": "execute_result"
    },
    {
     "data": {
      "image/png": "[encoded data removed]",
      "text/plain": [
       "<Figure size 864x360 with 2 Axes>"
      ]
     },
     "metadata": {
      "needs_background": "light"
     },
     "output_type": "display_data"
    }
   ],
   "source": [
    "clf = LogisticRegression(penalty='l1', solver='liblinear')\n",
    "\n",
    "#Set regularization strenghts between 1e-10 and 100 by powers of 10 with 5x cross validation\n",
    "c = np.logspace(-10, 2, 13) \n",
    "tuned_parameters = [{'C': c}]\n",
    "n_folds = 5 \n",
    "\n",
    "#Fit on all values of c and then find the classifier with best AUROC \n",
    "lasso = GridSearchCV(clf, tuned_parameters, cv=n_folds, refit=True)\n",
    "lasso.fit(X_train, y_train)\n",
    "\n",
    "#Print the value of alpha\n",
    "print(\"Best C value = %0.2f\"%lasso.best_params_['C'])\n",
    "\n",
    "#Predict the probability of positive class\n",
    "y_predict = lasso.predict_proba(X_valid)[:,1]\n",
    "\n",
    "print(\"AUROC for LASSO on validation set is %0.3f\" % roc_auc_score(y_valid, y_predict))\n",
    "print(\"AUPRC for LASSO on validation set is %0.3f\" % average_precision_score(y_valid, y_predict))\n",
    "\n",
    "make_auc_prc_plots(lasso, \"LASSO\")\n",
    "\n",
    "joblib.dump(ridge, os.path.join(save_path, \"lasso.sav\"))"
   ]
  },
  {
   "cell_type": "markdown",
   "metadata": {},
   "source": [
    "#### Run Random Forest model with cross validation "
   ]
  },
  {
   "cell_type": "code",
   "execution_count": 9,
   "metadata": {},
   "outputs": [
    {
     "name": "stdout",
     "output_type": "stream",
     "text": [
      "Fitting 5 folds for each of 100 candidates, totalling 500 fits\n"
     ]
    },
    {
     "name": "stderr",
     "output_type": "stream",
     "text": [
      "[Parallel(n_jobs=-1)]: Using backend LokyBackend with 8 concurrent workers.\n",
      "[Parallel(n_jobs=-1)]: Done  34 tasks      | elapsed:    2.6s\n",
      "[Parallel(n_jobs=-1)]: Done 184 tasks      | elapsed:    7.1s\n",
      "[Parallel(n_jobs=-1)]: Done 434 tasks      | elapsed:   15.4s\n",
      "[Parallel(n_jobs=-1)]: Done 500 out of 500 | elapsed:   17.4s finished\n"
     ]
    },
    {
     "name": "stdout",
     "output_type": "stream",
     "text": [
      "Best parameters: \n",
      " Min Sample split = 10 \n",
      " Min Sample Leaf = 1 \n",
      " Max Depth = 31 \n",
      " Bootstrap = True\n",
      "AUROC for Random Forest on validation set is 0.836\n",
      "AUPRC for Random Forest on validation set is 0.789\n"
     ]
    },
    {
     "data": {
      "text/plain": [
       "['/Users/nostberg/Downloads/triage_test_models/rf.sav']"
      ]
     },
     "execution_count": 9,
     "metadata": {},
     "output_type": "execute_result"
    },
    {
     "data": {
      "image/png": "[encoded data removed]",
      "text/plain": [
       "<Figure size 864x360 with 2 Axes>"
      ]
     },
     "metadata": {
      "needs_background": "light"
     },
     "output_type": "display_data"
    }
   ],
   "source": [
    "#Create a grid for random grid search hyperparameter tuning \n",
    "n_estimators = 1000 #Change as appropriate\n",
    "min_samples_split = [2,3,5,10]\n",
    "min_samples_leaf = [1,2,3,4,5]\n",
    "bootstrap = [True, False]\n",
    "max_depth = [int(x) for x in np.logspace(1,2.5,10)]\n",
    "max_depth.append(None)\n",
    "\n",
    "#Set up hyperparameter grid\n",
    "grid = {'max_depth': max_depth,\n",
    "               'min_samples_split': min_samples_split,\n",
    "               'min_samples_leaf': min_samples_leaf,\n",
    "               'bootstrap': bootstrap}\n",
    "\n",
    "\n",
    "clf = RandomForestClassifier()\n",
    "\n",
    "#Randomized search for 100 iterations\n",
    "random_forest = RandomizedSearchCV(clf, param_distributions= grid, n_iter=100, verbose = 1, cv=5, n_jobs = -1)\n",
    "\n",
    "random_forest.fit(X_train,y_train)\n",
    "\n",
    "#Print best parameters\n",
    "print(\"Best parameters: \\n Min Sample split = %d \\n Min Sample Leaf = %d \\n Max Depth = %d \\n Bootstrap = %s\" \n",
    "      % (random_forest.best_params_[\"min_samples_split\"],random_forest.best_params_[\"min_samples_leaf\"] , random_forest.best_params_[\"max_depth\"], random_forest.best_params_[\"bootstrap\"]))\n",
    "\n",
    "y_predict = random_forest.predict_proba(X_valid)[:,1]\n",
    "\n",
    "print(\"AUROC for Random Forest on validation set is %0.3f\" % roc_auc_score(y_valid, y_predict))\n",
    "print(\"AUPRC for Random Forest on validation set is %0.3f\" % average_precision_score(y_valid, y_predict))\n",
    "\n",
    "make_auc_prc_plots(random_forest, \"Random Forest\")\n",
    "\n",
    "joblib.dump(ridge, os.path.join(save_path, \"rf.sav\"))"
   ]
  },
  {
   "cell_type": "markdown",
   "metadata": {},
   "source": [
    "#### Run LIGHTGM with cross validation"
   ]
  },
  {
   "cell_type": "code",
   "execution_count": 11,
   "metadata": {},
   "outputs": [
    {
     "name": "stdout",
     "output_type": "stream",
     "text": [
      "Fitting 5 folds for each of 10 candidates, totalling 50 fits\n"
     ]
    },
    {
     "name": "stderr",
     "output_type": "stream",
     "text": [
      "[Parallel(n_jobs=-1)]: Using backend LokyBackend with 8 concurrent workers.\n",
      "[Parallel(n_jobs=-1)]: Done  34 tasks      | elapsed:    2.2s\n"
     ]
    },
    {
     "name": "stdout",
     "output_type": "stream",
     "text": [
      "AUROC for LGB on validation set is 0.861\n",
      "AUPRC for LGB on validation set is 0.831\n"
     ]
    },
    {
     "name": "stderr",
     "output_type": "stream",
     "text": [
      "[Parallel(n_jobs=-1)]: Done  50 out of  50 | elapsed:    2.7s finished\n"
     ]
    }
   ],
   "source": [
    "#Do early stopping\n",
    "n_estimators = 1000 #Change as appropriate\n",
    "\n",
    "max_depth = [int(x) for x in np.logspace(1,3,5)]\n",
    "max_depth.append(-1)\n",
    "num_leaves = [10,20,50,100]\n",
    "\n",
    "grid = {'max_depth': max_depth,\n",
    "       'num_leaves': num_leaves}\n",
    "\n",
    "estimator = lgb.LGBMClassifier(n_estimators=n_estimators)\n",
    "\n",
    "clf = RandomizedSearchCV(estimator, grid, verbose = 1, cv=5, n_jobs = -1)\n",
    "\n",
    "clf.fit(X_train, y_train)\n",
    "\n",
    "y_predict = clf.predict_proba(X_valid)[:,1]\n",
    "\n",
    "print(\"AUROC for LGB on validation set is %0.3f\" % roc_auc_score(y_valid, y_predict))\n",
    "print(\"AUPRC for LGB on validation set is %0.3f\" % average_precision_score(y_valid, y_predict))"
   ]
  },
  {
   "cell_type": "markdown",
   "metadata": {},
   "source": [
    "#### Run FF NN with Kera/Tensorflow"
   ]
  },
  {
   "cell_type": "code",
   "execution_count": 12,
   "metadata": {},
   "outputs": [],
   "source": [
    "#Hyperparameters\n",
    "batch_size = 32\n",
    "epochs = 100\n",
    "regularization = 0.001\n",
    "tf.random.set_seed(5) #Having trouble with this! Not stable result"
   ]
  },
  {
   "cell_type": "code",
   "execution_count": 13,
   "metadata": {},
   "outputs": [
    {
     "name": "stdout",
     "output_type": "stream",
     "text": [
      "Model: \"sequential_1\"\n",
      "_________________________________________________________________\n",
      "Layer (type)                 Output Shape              Param #   \n",
      "=================================================================\n",
      "dense_1 (Dense)              (None, 1024)              6144      \n",
      "_________________________________________________________________\n",
      "dropout_1 (Dropout)          (None, 1024)              0         \n",
      "_________________________________________________________________\n",
      "dense_2 (Dense)              (None, 256)               262400    \n",
      "_________________________________________________________________\n",
      "dropout_2 (Dropout)          (None, 256)               0         \n",
      "_________________________________________________________________\n",
      "dense_3 (Dense)              (None, 64)                16448     \n",
      "_________________________________________________________________\n",
      "dropout_3 (Dropout)          (None, 64)                0         \n",
      "_________________________________________________________________\n",
      "dense_4 (Dense)              (None, 8)                 520       \n",
      "_________________________________________________________________\n",
      "dropout_4 (Dropout)          (None, 8)                 0         \n",
      "_________________________________________________________________\n",
      "dense_5 (Dense)              (None, 1)                 9         \n",
      "=================================================================\n",
      "Total params: 285,521\n",
      "Trainable params: 285,521\n",
      "Non-trainable params: 0\n",
      "_________________________________________________________________\n"
     ]
    }
   ],
   "source": [
    "#Set up early stopping\n",
    "callback = tf.keras.callbacks.EarlyStopping(monitor='loss', patience=3)\n",
    "\n",
    "#Set up Keras model - 5 hidden layers, dropout, L2 reularization\n",
    "model = Sequential()\n",
    "model.add(Dense(1024, input_dim = X_train.shape[1], \n",
    "                activation = 'relu', \n",
    "                kernel_regularizer=l2(regularization)))\n",
    "model.add(Dropout(0.2))\n",
    "model.add(Dense(256, activation = 'relu',\n",
    "               kernel_regularizer=l2(regularization)))\n",
    "model.add(Dropout(0.2))\n",
    "model.add(Dense(64, activation = 'relu',\n",
    "               kernel_regularizer=l2(regularization)))\n",
    "model.add(Dropout(0.2))\n",
    "model.add(Dense(8, activation = 'relu',\n",
    "               kernel_regularizer=l2(regularization)))\n",
    "model.add(Dropout(0.2))\n",
    "model.add(Dense(1, activation = 'sigmoid',\n",
    "               kernel_regularizer=l2(regularization)))\n",
    "\n",
    "model.compile(loss='binary_crossentropy', \n",
    "              optimizer='adam',\n",
    "              metrics=['accuracy', tf.keras.metrics.AUC()])\n",
    "\n",
    "model.summary()"
   ]
  },
  {
   "cell_type": "code",
   "execution_count": 14,
   "metadata": {},
   "outputs": [
    {
     "name": "stdout",
     "output_type": "stream",
     "text": [
      "Train on 300 samples, validate on 90 samples\n",
      "Epoch 1/100\n",
      "300/300 [==============================] - 1s 2ms/step - loss: 1.1660 - accuracy: 0.6267 - auc: 0.6090 - val_loss: 1.1327 - val_accuracy: 0.6000 - val_auc: 0.6995\n",
      "Epoch 2/100\n",
      "300/300 [==============================] - 0s 151us/step - loss: 1.0329 - accuracy: 0.7300 - auc: 0.7252 - val_loss: 1.0547 - val_accuracy: 0.6333 - val_auc: 0.7306\n",
      "Epoch 3/100\n",
      "300/300 [==============================] - 0s 167us/step - loss: 0.9255 - accuracy: 0.7633 - auc: 0.7487 - val_loss: 0.9128 - val_accuracy: 0.7667 - val_auc: 0.7693\n",
      "Epoch 4/100\n",
      "300/300 [==============================] - 0s 160us/step - loss: 0.8516 - accuracy: 0.8000 - auc: 0.7833 - val_loss: 0.8231 - val_accuracy: 0.8000 - val_auc: 0.7965\n",
      "Epoch 5/100\n",
      "300/300 [==============================] - 0s 151us/step - loss: 0.7503 - accuracy: 0.8333 - auc: 0.8109 - val_loss: 0.7469 - val_accuracy: 0.7889 - val_auc: 0.8210\n",
      "Epoch 6/100\n",
      "300/300 [==============================] - 0s 154us/step - loss: 0.7044 - accuracy: 0.8633 - auc: 0.8316 - val_loss: 0.6883 - val_accuracy: 0.8444 - val_auc: 0.8392\n",
      "Epoch 7/100\n",
      "300/300 [==============================] - 0s 150us/step - loss: 0.6513 - accuracy: 0.8700 - auc: 0.8480 - val_loss: 0.6916 - val_accuracy: 0.8000 - val_auc: 0.8511\n",
      "Epoch 8/100\n",
      "300/300 [==============================] - 0s 136us/step - loss: 0.6087 - accuracy: 0.8633 - auc: 0.8572 - val_loss: 0.6659 - val_accuracy: 0.8111 - val_auc: 0.8605\n",
      "Epoch 9/100\n",
      "300/300 [==============================] - 0s 150us/step - loss: 0.5889 - accuracy: 0.8633 - auc: 0.8654 - val_loss: 0.6401 - val_accuracy: 0.8333 - val_auc: 0.8672\n",
      "Epoch 10/100\n",
      "300/300 [==============================] - 0s 152us/step - loss: 0.6061 - accuracy: 0.8767 - auc: 0.8709 - val_loss: 0.6085 - val_accuracy: 0.8333 - val_auc: 0.8717\n",
      "Epoch 11/100\n",
      "300/300 [==============================] - 0s 171us/step - loss: 0.5586 - accuracy: 0.8733 - auc: 0.8745 - val_loss: 0.6022 - val_accuracy: 0.8333 - val_auc: 0.8761\n",
      "Epoch 12/100\n",
      "300/300 [==============================] - 0s 148us/step - loss: 0.5437 - accuracy: 0.8900 - auc: 0.8785 - val_loss: 0.5590 - val_accuracy: 0.8444 - val_auc: 0.8806\n",
      "Epoch 13/100\n",
      "300/300 [==============================] - 0s 145us/step - loss: 0.5227 - accuracy: 0.8933 - auc: 0.8833 - val_loss: 0.5966 - val_accuracy: 0.8333 - val_auc: 0.8841\n",
      "Epoch 14/100\n",
      "300/300 [==============================] - 0s 157us/step - loss: 0.5335 - accuracy: 0.8833 - auc: 0.8851 - val_loss: 0.5782 - val_accuracy: 0.8222 - val_auc: 0.8860\n",
      "Epoch 15/100\n",
      "300/300 [==============================] - 0s 164us/step - loss: 0.5144 - accuracy: 0.8800 - auc: 0.8873 - val_loss: 0.5484 - val_accuracy: 0.8222 - val_auc: 0.8881\n",
      "Epoch 16/100\n",
      "300/300 [==============================] - 0s 160us/step - loss: 0.4782 - accuracy: 0.8867 - auc: 0.8896 - val_loss: 0.5244 - val_accuracy: 0.8556 - val_auc: 0.8909\n",
      "Epoch 17/100\n",
      "300/300 [==============================] - 0s 189us/step - loss: 0.4700 - accuracy: 0.8967 - auc: 0.8925 - val_loss: 0.5479 - val_accuracy: 0.8333 - val_auc: 0.8931\n",
      "Epoch 18/100\n",
      "300/300 [==============================] - 0s 165us/step - loss: 0.4364 - accuracy: 0.9033 - auc: 0.8952 - val_loss: 0.5456 - val_accuracy: 0.8222 - val_auc: 0.8954\n",
      "Epoch 19/100\n",
      "300/300 [==============================] - 0s 181us/step - loss: 0.4497 - accuracy: 0.8900 - auc: 0.8965 - val_loss: 0.5203 - val_accuracy: 0.8333 - val_auc: 0.8970\n",
      "Epoch 20/100\n",
      "300/300 [==============================] - 0s 153us/step - loss: 0.4576 - accuracy: 0.8900 - auc: 0.8981 - val_loss: 0.4811 - val_accuracy: 0.8556 - val_auc: 0.8985\n",
      "Epoch 21/100\n",
      "300/300 [==============================] - 0s 142us/step - loss: 0.4165 - accuracy: 0.9067 - auc: 0.8999 - val_loss: 0.5625 - val_accuracy: 0.8111 - val_auc: 0.9003\n",
      "Epoch 22/100\n",
      "300/300 [==============================] - 0s 159us/step - loss: 0.4439 - accuracy: 0.8967 - auc: 0.9009 - val_loss: 0.5448 - val_accuracy: 0.8222 - val_auc: 0.9012\n",
      "Epoch 23/100\n",
      "300/300 [==============================] - 0s 165us/step - loss: 0.4259 - accuracy: 0.9000 - auc: 0.9019 - val_loss: 0.4889 - val_accuracy: 0.8444 - val_auc: 0.9023\n",
      "Epoch 24/100\n",
      "300/300 [==============================] - 0s 158us/step - loss: 0.4123 - accuracy: 0.8967 - auc: 0.9034 - val_loss: 0.5032 - val_accuracy: 0.8222 - val_auc: 0.9036\n",
      "Epoch 25/100\n",
      "300/300 [==============================] - 0s 147us/step - loss: 0.4061 - accuracy: 0.9033 - auc: 0.9043 - val_loss: 0.5182 - val_accuracy: 0.8333 - val_auc: 0.9047\n",
      "Epoch 26/100\n",
      "300/300 [==============================] - 0s 150us/step - loss: 0.4060 - accuracy: 0.9033 - auc: 0.9055 - val_loss: 0.5244 - val_accuracy: 0.8222 - val_auc: 0.9057\n",
      "Epoch 27/100\n",
      "300/300 [==============================] - 0s 148us/step - loss: 0.4034 - accuracy: 0.8967 - auc: 0.9065 - val_loss: 0.5432 - val_accuracy: 0.8222 - val_auc: 0.9065\n",
      "Epoch 28/100\n",
      "300/300 [==============================] - 0s 141us/step - loss: 0.3976 - accuracy: 0.8967 - auc: 0.9073 - val_loss: 0.5475 - val_accuracy: 0.7889 - val_auc: 0.9075\n",
      "Epoch 29/100\n",
      "300/300 [==============================] - 0s 152us/step - loss: 0.4054 - accuracy: 0.8967 - auc: 0.9078 - val_loss: 0.4808 - val_accuracy: 0.8444 - val_auc: 0.9081\n",
      "Epoch 30/100\n",
      "300/300 [==============================] - 0s 158us/step - loss: 0.3855 - accuracy: 0.9033 - auc: 0.9087 - val_loss: 0.4602 - val_accuracy: 0.8333 - val_auc: 0.9091\n",
      "Epoch 31/100\n",
      "300/300 [==============================] - 0s 141us/step - loss: 0.3928 - accuracy: 0.9000 - auc: 0.9097 - val_loss: 0.5073 - val_accuracy: 0.8222 - val_auc: 0.9098\n",
      "Epoch 32/100\n",
      "300/300 [==============================] - 0s 143us/step - loss: 0.3694 - accuracy: 0.9133 - auc: 0.9103 - val_loss: 0.5172 - val_accuracy: 0.7778 - val_auc: 0.9107\n",
      "Epoch 33/100\n",
      "300/300 [==============================] - 0s 150us/step - loss: 0.3719 - accuracy: 0.8967 - auc: 0.9112 - val_loss: 0.5284 - val_accuracy: 0.8444 - val_auc: 0.9113\n",
      "Epoch 34/100\n",
      "300/300 [==============================] - 0s 159us/step - loss: 0.4115 - accuracy: 0.8900 - auc: 0.9114 - val_loss: 0.4786 - val_accuracy: 0.8222 - val_auc: 0.9115\n",
      "Epoch 35/100\n",
      "300/300 [==============================] - 0s 147us/step - loss: 0.4034 - accuracy: 0.8900 - auc: 0.9116 - val_loss: 0.4587 - val_accuracy: 0.8333 - val_auc: 0.9117\n",
      "Number of EPOCHs run = 35\n"
     ]
    }
   ],
   "source": [
    "train_history = model.fit(X_train, y_train, epochs = epochs, \n",
    "          batch_size=batch_size,\n",
    "         validation_data=(X_valid, y_valid), callbacks=[callback])\n",
    "\n",
    "print(\"Number of EPOCHs run = %d\" %len(train_history.history['loss']) )"
   ]
  },
  {
   "cell_type": "code",
   "execution_count": 15,
   "metadata": {},
   "outputs": [
    {
     "name": "stdout",
     "output_type": "stream",
     "text": [
      "AUROC for FF NN on validation set is 0.897\n",
      "AUPRC for FF NN on validation set is 0.853\n"
     ]
    },
    {
     "data": {
      "image/png": "[encoded data removed]",
      "text/plain": [
       "<Figure size 864x360 with 2 Axes>"
      ]
     },
     "metadata": {
      "needs_background": "light"
     },
     "output_type": "display_data"
    }
   ],
   "source": [
    "y_predict = model.predict(X_valid)\n",
    "print(\"AUROC for FF NN on validation set is %0.3f\" % roc_auc_score(y_valid, y_predict))\n",
    "print(\"AUPRC for FF NN on validation set is %0.3f\" % average_precision_score(y_valid, y_predict))\n",
    "\n",
    "make_auc_prc_plots(random_forest, \"Random Forest\")"
   ]
  },
  {
   "cell_type": "code",
   "execution_count": 16,
   "metadata": {},
   "outputs": [
    {
     "data": {
      "text/plain": [
       "<matplotlib.legend.Legend at 0x11be5b790>"
      ]
     },
     "execution_count": 16,
     "metadata": {},
     "output_type": "execute_result"
    },
    {
     "data": {
      "image/png": "[encoded data removed]",
      "text/plain": [
       "<Figure size 432x288 with 1 Axes>"
      ]
     },
     "metadata": {
      "needs_background": "light"
     },
     "output_type": "display_data"
    }
   ],
   "source": [
    "#Use this to diagnose overfitting...\n",
    "plt.plot(range(0,len(train_history.history['loss'])), train_history.history['loss'], label=\"Train loss\")\n",
    "plt.plot(range(0,len(train_history.history['val_loss'])), train_history.history['val_loss'], label=\"Validation loss\")\n",
    "plt.xlabel(\"Epoch\")\n",
    "plt.ylabel(\"Loss\")\n",
    "plt.legend()"
   ]
  },
  {
   "cell_type": "markdown",
   "metadata": {},
   "source": [
    "## Run ablation studies"
   ]
  },
  {
   "cell_type": "code",
   "execution_count": null,
   "metadata": {},
   "outputs": [],
   "source": []
  },
  {
   "cell_type": "markdown",
   "metadata": {},
   "source": [
    "## Test time"
   ]
  },
  {
   "cell_type": "code",
   "execution_count": 215,
   "metadata": {},
   "outputs": [
    {
     "name": "stdout",
     "output_type": "stream",
     "text": [
      "AUROC for LASSO on test set is 0.860\n",
      "AUPRC for LASSO on test set is 0.755\n"
     ]
    }
   ],
   "source": [
    "#Append training and validation data together and fit best model on each \n",
    "\n",
    "X_train_valid = np.append(X_train, X_valid, axis = 0)\n",
    "y_train_valid = np.append(y_train, y_valid)\n",
    "\n",
    "lasso_final = lasso.best_estimator_.fit(X_train_valid, y_train_valid)\n",
    "\n",
    "y_test_predictions = lasso_final.predict_proba(X_test)[:,1]\n",
    "print(\"AUROC for LASSO on test set is %0.3f\" % roc_auc_score(y_test, y_test_predictions))\n",
    "print(\"AUPRC for LASSO on test set is %0.3f\" % average_precision_score(y_test, y_test_predictions))"
   ]
  },
  {
   "cell_type": "code",
   "execution_count": null,
   "metadata": {},
   "outputs": [],
   "source": []
  }
 ],
 "metadata": {
  "environment": {
   "name": "r-cpu.4-0.m71",
   "type": "gcloud",
   "uri": "gcr.io/deeplearning-platform-release/r-cpu.4-0:m71"
  },
  "kernelspec": {
   "display_name": "Python 3",
   "language": "python",
   "name": "python3"
  },
  "language_info": {
   "codemirror_mode": {
    "name": "ipython",
    "version": 3
   },
   "file_extension": ".py",
   "mimetype": "text/x-python",
   "name": "python",
   "nbconvert_exporter": "python",
   "pygments_lexer": "ipython3",
   "version": "3.6.6"
  }
 },
 "nbformat": 4,
 "nbformat_minor": 2
}
