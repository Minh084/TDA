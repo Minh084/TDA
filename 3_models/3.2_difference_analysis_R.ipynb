{
 "cells": [
  {
   "cell_type": "markdown",
   "metadata": {},
   "source": [
    "### Description\n",
    "- Investigate prediction differences between labels at time 0 and 24hr\n",
    "- Only 318 observations with differences >= 0.3\n",
    "\n",
    "Check\n",
    "1. Diagnosis\n",
    "2. Medications\n",
    "3. Vital trend\n",
    "4. Lab trend, esp. glucose\n",
    "\n",
    "Inputs: all from 3.1_notebook\n",
    "- `1_4_cohort_diff_full_features`: under modelfir4 (or modeldir4preadmit)\n",
    "    - feature_type with the first letter capitalized is for order counts such as Lab\n",
    "    - feature_type with all lowercase is for actual values: demo, vitals, and labs\n",
    "    - gender = 1 is for female\n",
    "- `1_4_cohort_test_results`: under modeldir4 (or modeldir4preadmit)\n",
    "- `1_4_cohort_full_features`: under modeldir4\n",
    "(- `1_4_cohort_24hrpreadmit_full_features`: under featuredir, all cohort with all features within 24hr prior to admit_time)\n",
    "\n",
    "Notes:\n",
    "- prediction results did not change using either one of those 2 sets of obeservation: meaning add\n",
    "- the small cohort might be slightly different. will look further into this"
   ]
  },
  {
   "cell_type": "code",
   "execution_count": 1,
   "metadata": {},
   "outputs": [
    {
     "name": "stderr",
     "output_type": "stream",
     "text": [
      "Loading required package: lattice\n",
      "\n",
      "Loading required package: ggplot2\n",
      "\n",
      "-- \u001b[1mAttaching packages\u001b[22m --------------------------------------- tidyverse 1.3.0 --\n",
      "\n",
      "\u001b[32mv\u001b[39m \u001b[34mtibble \u001b[39m 3.0.4     \u001b[32mv\u001b[39m \u001b[34mdplyr  \u001b[39m 1.0.2\n",
      "\u001b[32mv\u001b[39m \u001b[34mtidyr  \u001b[39m 1.1.2     \u001b[32mv\u001b[39m \u001b[34mstringr\u001b[39m 1.4.0\n",
      "\u001b[32mv\u001b[39m \u001b[34mreadr  \u001b[39m 1.4.0     \u001b[32mv\u001b[39m \u001b[34mforcats\u001b[39m 0.5.0\n",
      "\u001b[32mv\u001b[39m \u001b[34mpurrr  \u001b[39m 0.3.4     \n",
      "\n",
      "-- \u001b[1mConflicts\u001b[22m ------------------------------------------ tidyverse_conflicts() --\n",
      "\u001b[31mx\u001b[39m \u001b[34mdplyr\u001b[39m::\u001b[32mbetween()\u001b[39m   masks \u001b[34mdata.table\u001b[39m::between()\n",
      "\u001b[31mx\u001b[39m \u001b[34mdplyr\u001b[39m::\u001b[32mfilter()\u001b[39m    masks \u001b[34mstats\u001b[39m::filter()\n",
      "\u001b[31mx\u001b[39m \u001b[34mdplyr\u001b[39m::\u001b[32mfirst()\u001b[39m     masks \u001b[34mdata.table\u001b[39m::first()\n",
      "\u001b[31mx\u001b[39m \u001b[34mdplyr\u001b[39m::\u001b[32mlag()\u001b[39m       masks \u001b[34mstats\u001b[39m::lag()\n",
      "\u001b[31mx\u001b[39m \u001b[34mdplyr\u001b[39m::\u001b[32mlast()\u001b[39m      masks \u001b[34mdata.table\u001b[39m::last()\n",
      "\u001b[31mx\u001b[39m \u001b[34mpurrr\u001b[39m::\u001b[32mlift()\u001b[39m      masks \u001b[34mcaret\u001b[39m::lift()\n",
      "\u001b[31mx\u001b[39m \u001b[34mpurrr\u001b[39m::\u001b[32mtranspose()\u001b[39m masks \u001b[34mdata.table\u001b[39m::transpose()\n",
      "\n",
      "\n",
      "Attaching package: 'lubridate'\n",
      "\n",
      "\n",
      "The following objects are masked from 'package:data.table':\n",
      "\n",
      "    hour, isoweek, mday, minute, month, quarter, second, wday, week,\n",
      "    yday, year\n",
      "\n",
      "\n",
      "The following objects are masked from 'package:base':\n",
      "\n",
      "    date, intersect, setdiff, union\n",
      "\n",
      "\n",
      "\n",
      "Attaching package: 'Matrix'\n",
      "\n",
      "\n",
      "The following objects are masked from 'package:tidyr':\n",
      "\n",
      "    expand, pack, unpack\n",
      "\n",
      "\n",
      "Warning message:\n",
      "\"package 'glmnet' was built under R version 4.0.5\"\n",
      "Loaded glmnet 4.1-1\n",
      "\n",
      "Warning message:\n",
      "\"package 'bit64' was built under R version 4.0.5\"\n",
      "Loading required package: bit\n",
      "\n",
      "Warning message:\n",
      "\"package 'bit' was built under R version 4.0.5\"\n",
      "\n",
      "Attaching package: 'bit'\n",
      "\n",
      "\n",
      "The following object is masked from 'package:data.table':\n",
      "\n",
      "    setattr\n",
      "\n",
      "\n",
      "The following object is masked from 'package:base':\n",
      "\n",
      "    xor\n",
      "\n",
      "\n",
      "Attaching package bit64\n",
      "\n",
      "package:bit64 (c) 2011-2017 Jens Oehlschlaegel\n",
      "\n",
      "creators: integer64 runif64 seq :\n",
      "\n",
      "coercion: as.integer64 as.vector as.logical as.integer as.double as.character as.bitstring\n",
      "\n",
      "logical operator: ! & | xor != == < <= >= >\n",
      "\n",
      "arithmetic operator: + - * / %/% %% ^\n",
      "\n",
      "math: sign abs sqrt log log2 log10\n",
      "\n",
      "math: floor ceiling trunc round\n",
      "\n",
      "querying: is.integer64 is.vector [is.atomic} [length] format print str\n",
      "\n",
      "values: is.na is.nan is.finite is.infinite\n",
      "\n",
      "aggregation: any all min max range sum prod\n",
      "\n",
      "cumulation: diff cummin cummax cumsum cumprod\n",
      "\n",
      "access: length<- [ [<- [[ [[<-\n",
      "\n",
      "combine: c rep cbind rbind as.data.frame\n",
      "\n",
      "WARNING don't use as subscripts\n",
      "\n",
      "WARNING semantics differ from integer\n",
      "\n",
      "for more help type ?bit64\n",
      "\n",
      "\n",
      "Attaching package: 'bit64'\n",
      "\n",
      "\n",
      "The following objects are masked from 'package:base':\n",
      "\n",
      "    %in%, :, is.double, match, order, rank\n",
      "\n",
      "\n",
      "Type 'citation(\"pROC\")' for a citation.\n",
      "\n",
      "\n",
      "Attaching package: 'pROC'\n",
      "\n",
      "\n",
      "The following objects are masked from 'package:stats':\n",
      "\n",
      "    cov, smooth, var\n",
      "\n",
      "\n",
      "Warning message:\n",
      "\"package 'rms' was built under R version 4.0.5\"\n",
      "Loading required package: Hmisc\n",
      "\n",
      "Warning message:\n",
      "\"package 'Hmisc' was built under R version 4.0.5\"\n",
      "Loading required package: survival\n",
      "\n",
      "\n",
      "Attaching package: 'survival'\n",
      "\n",
      "\n",
      "The following object is masked from 'package:caret':\n",
      "\n",
      "    cluster\n",
      "\n",
      "\n",
      "Loading required package: Formula\n",
      "\n",
      "\n",
      "Attaching package: 'Hmisc'\n",
      "\n",
      "\n",
      "The following objects are masked from 'package:dplyr':\n",
      "\n",
      "    src, summarize\n",
      "\n",
      "\n",
      "The following objects are masked from 'package:base':\n",
      "\n",
      "    format.pval, units\n",
      "\n",
      "\n",
      "Loading required package: SparseM\n",
      "\n",
      "Warning message:\n",
      "\"package 'SparseM' was built under R version 4.0.4\"\n",
      "\n",
      "Attaching package: 'SparseM'\n",
      "\n",
      "\n",
      "The following object is masked from 'package:base':\n",
      "\n",
      "    backsolve\n",
      "\n",
      "\n"
     ]
    }
   ],
   "source": [
    "library(caret) # import this before glmnet to avoid rlang version problem\n",
    "library(data.table)\n",
    "library(tidyverse)\n",
    "library(lubridate)\n",
    "library(Matrix)\n",
    "library(glmnet)\n",
    "library(bit64)\n",
    "library(pROC)\n",
    "library(rms)"
   ]
  },
  {
   "cell_type": "code",
   "execution_count": 11,
   "metadata": {},
   "outputs": [],
   "source": [
    "# directories\n",
    "datadir = \"../../DataTD\"\n",
    "cohortdir = \"../../OutputTD/1_cohort\"\n",
    "featuredir = \"../../OutputTD/2_features\"\n",
    "modeldir4 = \"../../OutputTD/3_models/1_4_cohort\"\n",
    "# modeldir4preadmit = \"../../OutputTD/3_models/1_4_cohort_24hrpreadmit\"\n",
    "\n",
    "# display rows and cols\n",
    "options(repr.matrix.max.rows=250, repr.matrix.max.cols=30)"
   ]
  },
  {
   "cell_type": "code",
   "execution_count": 12,
   "metadata": {},
   "outputs": [
    {
     "data": {
      "text/html": [
       "71689"
      ],
      "text/latex": [
       "71689"
      ],
      "text/markdown": [
       "71689"
      ],
      "text/plain": [
       "[1] 71689"
      ]
     },
     "metadata": {},
     "output_type": "display_data"
    },
    {
     "data": {
      "text/html": [
       "<style>\n",
       ".list-inline {list-style: none; margin:0; padding: 0}\n",
       ".list-inline>li {display: inline-block}\n",
       ".list-inline>li:not(:last-child)::after {content: \"\\00b7\"; padding: 0 .5ex}\n",
       "</style>\n",
       "<ol class=list-inline><li>'anon_id'</li><li>'pat_enc_csn_id_coded'</li><li>'admit_time'</li><li>'first_label'</li><li>'death_24hr_recent_label'</li><li>'death_24hr_max_label'</li><li>'pred_first'</li><li>'pred_death_24hr_recent'</li><li>'abs_diff0_24'</li><li>'diff0_True'</li><li>'diff24_True'</li><li>'feature_type'</li><li>'features'</li><li>'values'</li><li>'time'</li><li>'hr_before_admit'</li></ol>\n"
      ],
      "text/latex": [
       "\\begin{enumerate*}\n",
       "\\item 'anon\\_id'\n",
       "\\item 'pat\\_enc\\_csn\\_id\\_coded'\n",
       "\\item 'admit\\_time'\n",
       "\\item 'first\\_label'\n",
       "\\item 'death\\_24hr\\_recent\\_label'\n",
       "\\item 'death\\_24hr\\_max\\_label'\n",
       "\\item 'pred\\_first'\n",
       "\\item 'pred\\_death\\_24hr\\_recent'\n",
       "\\item 'abs\\_diff0\\_24'\n",
       "\\item 'diff0\\_True'\n",
       "\\item 'diff24\\_True'\n",
       "\\item 'feature\\_type'\n",
       "\\item 'features'\n",
       "\\item 'values'\n",
       "\\item 'time'\n",
       "\\item 'hr\\_before\\_admit'\n",
       "\\end{enumerate*}\n"
      ],
      "text/markdown": [
       "1. 'anon_id'\n",
       "2. 'pat_enc_csn_id_coded'\n",
       "3. 'admit_time'\n",
       "4. 'first_label'\n",
       "5. 'death_24hr_recent_label'\n",
       "6. 'death_24hr_max_label'\n",
       "7. 'pred_first'\n",
       "8. 'pred_death_24hr_recent'\n",
       "9. 'abs_diff0_24'\n",
       "10. 'diff0_True'\n",
       "11. 'diff24_True'\n",
       "12. 'feature_type'\n",
       "13. 'features'\n",
       "14. 'values'\n",
       "15. 'time'\n",
       "16. 'hr_before_admit'\n",
       "\n",
       "\n"
      ],
      "text/plain": [
       " [1] \"anon_id\"                 \"pat_enc_csn_id_coded\"   \n",
       " [3] \"admit_time\"              \"first_label\"            \n",
       " [5] \"death_24hr_recent_label\" \"death_24hr_max_label\"   \n",
       " [7] \"pred_first\"              \"pred_death_24hr_recent\" \n",
       " [9] \"abs_diff0_24\"            \"diff0_True\"             \n",
       "[11] \"diff24_True\"             \"feature_type\"           \n",
       "[13] \"features\"                \"values\"                 \n",
       "[15] \"time\"                    \"hr_before_admit\"        "
      ]
     },
     "metadata": {},
     "output_type": "display_data"
    },
    {
     "name": "stderr",
     "output_type": "stream",
     "text": [
      "`summarise()` ungrouping output (override with `.groups` argument)\n",
      "\n"
     ]
    },
    {
     "data": {
      "text/html": [
       "<table>\n",
       "<caption>A tibble: 9 × 2</caption>\n",
       "<thead>\n",
       "\t<tr><th scope=col>feature_type</th><th scope=col>n</th></tr>\n",
       "\t<tr><th scope=col>&lt;chr&gt;</th><th scope=col>&lt;int&gt;</th></tr>\n",
       "</thead>\n",
       "<tbody>\n",
       "\t<tr><td>Microbiology</td><td>  206</td></tr>\n",
       "\t<tr><td>Procedures  </td><td>  513</td></tr>\n",
       "\t<tr><td>Imaging     </td><td> 1837</td></tr>\n",
       "\t<tr><td>demo        </td><td> 5491</td></tr>\n",
       "\t<tr><td>Lab         </td><td> 6357</td></tr>\n",
       "\t<tr><td>Meds        </td><td>12453</td></tr>\n",
       "\t<tr><td>vitals      </td><td>12513</td></tr>\n",
       "\t<tr><td>labs        </td><td>12802</td></tr>\n",
       "\t<tr><td>Diagnosis   </td><td>19517</td></tr>\n",
       "</tbody>\n",
       "</table>\n"
      ],
      "text/latex": [
       "A tibble: 9 × 2\n",
       "\\begin{tabular}{ll}\n",
       " feature\\_type & n\\\\\n",
       " <chr> & <int>\\\\\n",
       "\\hline\n",
       "\t Microbiology &   206\\\\\n",
       "\t Procedures   &   513\\\\\n",
       "\t Imaging      &  1837\\\\\n",
       "\t demo         &  5491\\\\\n",
       "\t Lab          &  6357\\\\\n",
       "\t Meds         & 12453\\\\\n",
       "\t vitals       & 12513\\\\\n",
       "\t labs         & 12802\\\\\n",
       "\t Diagnosis    & 19517\\\\\n",
       "\\end{tabular}\n"
      ],
      "text/markdown": [
       "\n",
       "A tibble: 9 × 2\n",
       "\n",
       "| feature_type &lt;chr&gt; | n &lt;int&gt; |\n",
       "|---|---|\n",
       "| Microbiology |   206 |\n",
       "| Procedures   |   513 |\n",
       "| Imaging      |  1837 |\n",
       "| demo         |  5491 |\n",
       "| Lab          |  6357 |\n",
       "| Meds         | 12453 |\n",
       "| vitals       | 12513 |\n",
       "| labs         | 12802 |\n",
       "| Diagnosis    | 19517 |\n",
       "\n"
      ],
      "text/plain": [
       "  feature_type n    \n",
       "1 Microbiology   206\n",
       "2 Procedures     513\n",
       "3 Imaging       1837\n",
       "4 demo          5491\n",
       "5 Lab           6357\n",
       "6 Meds         12453\n",
       "7 vitals       12513\n",
       "8 labs         12802\n",
       "9 Diagnosis    19517"
      ]
     },
     "metadata": {},
     "output_type": "display_data"
    }
   ],
   "source": [
    "coh_diff <- read.csv(file.path(modeldir4, '1_4_cohort_diff_full_features.csv'))\n",
    "nrow(coh_diff) #71689 vs 69334 for the updated obs\n",
    "coh_diff <-  coh_diff %>% mutate(admit_time = ymd_hms(admit_time), time =  ymd_hms(time))\n",
    "colnames(coh_diff)\n",
    "\n",
    "coh_diff %>% group_by(feature_type) %>% summarise(n = n()) %>% arrange(n)"
   ]
  },
  {
   "cell_type": "code",
   "execution_count": 13,
   "metadata": {},
   "outputs": [
    {
     "name": "stderr",
     "output_type": "stream",
     "text": [
      "Scale for 'x' is already present. Adding another scale for 'x', which will\n",
      "replace the existing scale.\n",
      "\n",
      "Scale for 'y' is already present. Adding another scale for 'y', which will\n",
      "replace the existing scale.\n",
      "\n"
     ]
    },
    {
     "data": {
      "image/png": "[encoded data removed]",
      "text/plain": [
       "plot without title"
      ]
     },
     "metadata": {
      "image/png": {
       "height": 420,
       "width": 420
      }
     },
     "output_type": "display_data"
    }
   ],
   "source": [
    "options(repr.plot.width=7, repr.plot.height=7)\n",
    "\n",
    "ggplot(coh_diff, aes(x=pred_first, y=pred_death_24hr_recent)) + \n",
    "    geom_point(color = \"#0072B2\", size = 1) + xlim(0,1) + ylim(0,1) +\n",
    "    geom_abline(intercept = 0, slope = 1, size = 0.7) +\n",
    "    geom_abline(intercept = 0.3, slope = 1, size = 0.7, linetype=2, color = \"#D55E00\") +\n",
    "    geom_abline(intercept = -0.3, slope = 1, size = 0.7, linetype=2, color = \"#D55E00\") +\n",
    "    scale_x_continuous(name = \"predicted values for time 0\", expand = c(0, 0), limits=c(0, 1), \n",
    "                       breaks=c(0, 0.2, 0.4, 0.6, 0.8, 1)) + \n",
    "    scale_y_continuous(name = \" predicted values for time 24\", expand = c(0, 0), limits=c(0, 1), \n",
    "                       breaks=c(0, 0.2, 0.4, 0.6, 0.8, 1)) +\n",
    "    theme(axis.text=element_text(size=12),\n",
    "          axis.text.x = element_text(margin=margin(0, 0, 10, 0)),\n",
    "          axis.text.y = element_text(margin=margin(0, 0, 0, 10)),\n",
    "          plot.title = element_text(size=16, hjust=0.5, margin=margin(0, 0, 10, 0)),\n",
    "          axis.title=element_text(size=14)) +\n",
    "     labs(title = \"Predicted values: time 0 vs time 24\")\n"
   ]
  },
  {
   "cell_type": "markdown",
   "metadata": {},
   "source": [
    "### Check most difference first\n",
    "- 0.7 or more: 3\n",
    "- 0.6 or more: 10\n",
    "- 0.5 or more: 37\n",
    "\n",
    "These observations include those who transferred and those who didn't.\n",
    "\n",
    "Difference scenarios:\n",
    "- 1st label != 24hr label: (transfers)\n",
    "    - both predicted correctly or close enough\n",
    "    - one wrong and one right\n",
    "- 1st label == 24hr label: (same)\n",
    "    - both predicted correctly or close enough\n",
    "    - one wrong and one right\n",
    "    \n",
    "With the intention to check `model output differences`, all of the read-in data: \n",
    "- there is a huge difference btwn the 2 predicted outputs\n",
    "- regardless whether 1st label != or == 24hr label\n",
    "\n",
    "With the intention to investigate those who transferred, we are interested in the subgroup where *1st label != 24hr label*\n",
    "\n",
    "Note that the same model architecture was used with 2 different labels. Binary threshold from the triage paper was 0.6"
   ]
  },
  {
   "cell_type": "code",
   "execution_count": 18,
   "metadata": {},
   "outputs": [
    {
     "name": "stderr",
     "output_type": "stream",
     "text": [
      "`summarise()` ungrouping output (override with `.groups` argument)\n",
      "\n"
     ]
    },
    {
     "data": {
      "text/html": [
       "<table>\n",
       "<caption>A tibble: 5 × 6</caption>\n",
       "<thead>\n",
       "\t<tr><th scope=col>abs_diff0_24</th><th scope=col>nrows</th><th scope=col>count_csn</th><th scope=col>count_mrn</th><th scope=col>cum_csn</th><th scope=col>cum_mrn</th></tr>\n",
       "\t<tr><th scope=col>&lt;dbl&gt;</th><th scope=col>&lt;int&gt;</th><th scope=col>&lt;int&gt;</th><th scope=col>&lt;int&gt;</th><th scope=col>&lt;int&gt;</th><th scope=col>&lt;int&gt;</th></tr>\n",
       "</thead>\n",
       "<tbody>\n",
       "\t<tr><td>0.7</td><td>  561</td><td>  3</td><td>  3</td><td>  3</td><td>  3</td></tr>\n",
       "\t<tr><td>0.6</td><td> 1043</td><td>  7</td><td>  7</td><td> 10</td><td> 10</td></tr>\n",
       "\t<tr><td>0.5</td><td> 6561</td><td> 27</td><td> 24</td><td> 37</td><td> 34</td></tr>\n",
       "\t<tr><td>0.4</td><td>19701</td><td> 80</td><td> 77</td><td>117</td><td>111</td></tr>\n",
       "\t<tr><td>0.3</td><td>43823</td><td>206</td><td>204</td><td>323</td><td>315</td></tr>\n",
       "</tbody>\n",
       "</table>\n"
      ],
      "text/latex": [
       "A tibble: 5 × 6\n",
       "\\begin{tabular}{llllll}\n",
       " abs\\_diff0\\_24 & nrows & count\\_csn & count\\_mrn & cum\\_csn & cum\\_mrn\\\\\n",
       " <dbl> & <int> & <int> & <int> & <int> & <int>\\\\\n",
       "\\hline\n",
       "\t 0.7 &   561 &   3 &   3 &   3 &   3\\\\\n",
       "\t 0.6 &  1043 &   7 &   7 &  10 &  10\\\\\n",
       "\t 0.5 &  6561 &  27 &  24 &  37 &  34\\\\\n",
       "\t 0.4 & 19701 &  80 &  77 & 117 & 111\\\\\n",
       "\t 0.3 & 43823 & 206 & 204 & 323 & 315\\\\\n",
       "\\end{tabular}\n"
      ],
      "text/markdown": [
       "\n",
       "A tibble: 5 × 6\n",
       "\n",
       "| abs_diff0_24 &lt;dbl&gt; | nrows &lt;int&gt; | count_csn &lt;int&gt; | count_mrn &lt;int&gt; | cum_csn &lt;int&gt; | cum_mrn &lt;int&gt; |\n",
       "|---|---|---|---|---|---|\n",
       "| 0.7 |   561 |   3 |   3 |   3 |   3 |\n",
       "| 0.6 |  1043 |   7 |   7 |  10 |  10 |\n",
       "| 0.5 |  6561 |  27 |  24 |  37 |  34 |\n",
       "| 0.4 | 19701 |  80 |  77 | 117 | 111 |\n",
       "| 0.3 | 43823 | 206 | 204 | 323 | 315 |\n",
       "\n"
      ],
      "text/plain": [
       "  abs_diff0_24 nrows count_csn count_mrn cum_csn cum_mrn\n",
       "1 0.7            561   3         3         3       3    \n",
       "2 0.6           1043   7         7        10      10    \n",
       "3 0.5           6561  27        24        37      34    \n",
       "4 0.4          19701  80        77       117     111    \n",
       "5 0.3          43823 206       204       323     315    "
      ]
     },
     "metadata": {},
     "output_type": "display_data"
    }
   ],
   "source": [
    "# count features and csn\n",
    "diff <- coh_diff %>% \n",
    "            group_by(abs_diff0_24) %>% \n",
    "            summarise(nrows = n(), count_csn = n_distinct(pat_enc_csn_id_coded), count_mrn = n_distinct(anon_id)) %>% \n",
    "            arrange(-abs_diff0_24) %>% mutate(cum_csn = cumsum(count_csn), cum_mrn = cumsum(count_mrn))\n",
    "\n",
    "diff"
   ]
  },
  {
   "cell_type": "markdown",
   "metadata": {},
   "source": [
    "### Check those with diff >= 0.5 first:\n",
    "to get some insight before expanding "
   ]
  },
  {
   "cell_type": "code",
   "execution_count": 19,
   "metadata": {},
   "outputs": [
    {
     "data": {
      "text/html": [
       "37"
      ],
      "text/latex": [
       "37"
      ],
      "text/markdown": [
       "37"
      ],
      "text/plain": [
       "[1] 37"
      ]
     },
     "metadata": {},
     "output_type": "display_data"
    },
    {
     "data": {
      "text/html": [
       "33"
      ],
      "text/latex": [
       "33"
      ],
      "text/markdown": [
       "33"
      ],
      "text/plain": [
       "[1] 33"
      ]
     },
     "metadata": {},
     "output_type": "display_data"
    },
    {
     "data": {
      "text/html": [
       "8165"
      ],
      "text/latex": [
       "8165"
      ],
      "text/markdown": [
       "8165"
      ],
      "text/plain": [
       "[1] 8165"
      ]
     },
     "metadata": {},
     "output_type": "display_data"
    },
    {
     "data": {
      "text/html": [
       "<style>\n",
       ".list-inline {list-style: none; margin:0; padding: 0}\n",
       ".list-inline>li {display: inline-block}\n",
       ".list-inline>li:not(:last-child)::after {content: \"\\00b7\"; padding: 0 .5ex}\n",
       "</style>\n",
       "<ol class=list-inline><li>'anon_id'</li><li>'pat_enc_csn_id_coded'</li><li>'admit_time'</li><li>'first_label'</li><li>'death_24hr_recent_label'</li><li>'death_24hr_max_label'</li><li>'pred_first'</li><li>'pred_death_24hr_recent'</li><li>'abs_diff0_24'</li><li>'diff0_True'</li><li>'diff24_True'</li><li>'feature_type'</li><li>'features'</li><li>'values'</li><li>'time'</li><li>'hr_before_admit'</li></ol>\n"
      ],
      "text/latex": [
       "\\begin{enumerate*}\n",
       "\\item 'anon\\_id'\n",
       "\\item 'pat\\_enc\\_csn\\_id\\_coded'\n",
       "\\item 'admit\\_time'\n",
       "\\item 'first\\_label'\n",
       "\\item 'death\\_24hr\\_recent\\_label'\n",
       "\\item 'death\\_24hr\\_max\\_label'\n",
       "\\item 'pred\\_first'\n",
       "\\item 'pred\\_death\\_24hr\\_recent'\n",
       "\\item 'abs\\_diff0\\_24'\n",
       "\\item 'diff0\\_True'\n",
       "\\item 'diff24\\_True'\n",
       "\\item 'feature\\_type'\n",
       "\\item 'features'\n",
       "\\item 'values'\n",
       "\\item 'time'\n",
       "\\item 'hr\\_before\\_admit'\n",
       "\\end{enumerate*}\n"
      ],
      "text/markdown": [
       "1. 'anon_id'\n",
       "2. 'pat_enc_csn_id_coded'\n",
       "3. 'admit_time'\n",
       "4. 'first_label'\n",
       "5. 'death_24hr_recent_label'\n",
       "6. 'death_24hr_max_label'\n",
       "7. 'pred_first'\n",
       "8. 'pred_death_24hr_recent'\n",
       "9. 'abs_diff0_24'\n",
       "10. 'diff0_True'\n",
       "11. 'diff24_True'\n",
       "12. 'feature_type'\n",
       "13. 'features'\n",
       "14. 'values'\n",
       "15. 'time'\n",
       "16. 'hr_before_admit'\n",
       "\n",
       "\n"
      ],
      "text/plain": [
       " [1] \"anon_id\"                 \"pat_enc_csn_id_coded\"   \n",
       " [3] \"admit_time\"              \"first_label\"            \n",
       " [5] \"death_24hr_recent_label\" \"death_24hr_max_label\"   \n",
       " [7] \"pred_first\"              \"pred_death_24hr_recent\" \n",
       " [9] \"abs_diff0_24\"            \"diff0_True\"             \n",
       "[11] \"diff24_True\"             \"feature_type\"           \n",
       "[13] \"features\"                \"values\"                 \n",
       "[15] \"time\"                    \"hr_before_admit\"        "
      ]
     },
     "metadata": {},
     "output_type": "display_data"
    }
   ],
   "source": [
    "d05 <- coh_diff %>% filter(abs_diff0_24 >= 0.5)\n",
    "length(unique(d05$pat_enc_csn_id_coded))\n",
    "length(unique(d05$anon_id)) # there's one anon_id in more than 1 group\n",
    "nrow(d05)\n",
    "colnames(d05)"
   ]
  },
  {
   "cell_type": "markdown",
   "metadata": {},
   "source": [
    "### top CSNs\n",
    "- top 3 vs 4 (diff >= 0.7): 131276655148, `131273666433`, 131271804263, 131265379414\n",
    "- next 7 vs 10 (diff >= 0.6 and < 0.7): \n",
    "    - 131287638900, 131285560953, 131283367768, 131283156969, 131275893768, 131275001383, `131273666433`, 131273021618 (OLD)\n",
    "    - 131287638900, 131285560953, 131283367768, `131278883571`, 131275001383, 131273021618, `131271881424`, `131268470191`, `131267990870`, `131266865289`"
   ]
  },
  {
   "cell_type": "code",
   "execution_count": 20,
   "metadata": {},
   "outputs": [
    {
     "data": {
      "text/html": [
       "<style>\n",
       ".list-inline {list-style: none; margin:0; padding: 0}\n",
       ".list-inline>li {display: inline-block}\n",
       ".list-inline>li:not(:last-child)::after {content: \"\\00b7\"; padding: 0 .5ex}\n",
       "</style>\n",
       "<ol class=list-inline><li>131265379414</li><li>131271804263</li><li>131276655148</li></ol>\n"
      ],
      "text/latex": [
       "\\begin{enumerate*}\n",
       "\\item 131265379414\n",
       "\\item 131271804263\n",
       "\\item 131276655148\n",
       "\\end{enumerate*}\n"
      ],
      "text/markdown": [
       "1. 131265379414\n",
       "2. 131271804263\n",
       "3. 131276655148\n",
       "\n",
       "\n"
      ],
      "text/plain": [
       "[1] 131265379414 131271804263 131276655148"
      ]
     },
     "metadata": {},
     "output_type": "display_data"
    },
    {
     "data": {
      "text/html": [
       "<style>\n",
       ".list-inline {list-style: none; margin:0; padding: 0}\n",
       ".list-inline>li {display: inline-block}\n",
       ".list-inline>li:not(:last-child)::after {content: \"\\00b7\"; padding: 0 .5ex}\n",
       "</style>\n",
       "<ol class=list-inline><li>131273021618</li><li>131273666433</li><li>131275001383</li><li>131275893768</li><li>131283156969</li><li>131283367768</li><li>131285560953</li></ol>\n"
      ],
      "text/latex": [
       "\\begin{enumerate*}\n",
       "\\item 131273021618\n",
       "\\item 131273666433\n",
       "\\item 131275001383\n",
       "\\item 131275893768\n",
       "\\item 131283156969\n",
       "\\item 131283367768\n",
       "\\item 131285560953\n",
       "\\end{enumerate*}\n"
      ],
      "text/markdown": [
       "1. 131273021618\n",
       "2. 131273666433\n",
       "3. 131275001383\n",
       "4. 131275893768\n",
       "5. 131283156969\n",
       "6. 131283367768\n",
       "7. 131285560953\n",
       "\n",
       "\n"
      ],
      "text/plain": [
       "[1] 131273021618 131273666433 131275001383 131275893768 131283156969\n",
       "[6] 131283367768 131285560953"
      ]
     },
     "metadata": {},
     "output_type": "display_data"
    }
   ],
   "source": [
    "# top 4 csn\n",
    "# as.list(distinct(coh_diff %>% filter(abs_diff0_24 >= 0.7) %>% select(pat_enc_csn_id_coded)) %>% arrange(-pat_enc_csn_id_coded))\n",
    "csn1 <- sort(unique(coh_diff[coh_diff$abs_diff0_24 >= 0.7, ]$pat_enc_csn_id_coded))\n",
    "csn1\n",
    "\n",
    "# next 10 csn\n",
    "csn2 <- sort(unique(coh_diff[coh_diff$abs_diff0_24 >= 0.6 &  coh_diff$abs_diff0_24 < 0.7, ]$pat_enc_csn_id_coded))\n",
    "csn2"
   ]
  },
  {
   "cell_type": "code",
   "execution_count": 21,
   "metadata": {},
   "outputs": [
    {
     "data": {
      "text/html": [
       "561"
      ],
      "text/latex": [
       "561"
      ],
      "text/markdown": [
       "561"
      ],
      "text/plain": [
       "[1] 561"
      ]
     },
     "metadata": {},
     "output_type": "display_data"
    },
    {
     "name": "stderr",
     "output_type": "stream",
     "text": [
      "`summarise()` regrouping output by 'anon_id' (override with `.groups` argument)\n",
      "\n"
     ]
    },
    {
     "data": {
      "text/html": [
       "<table>\n",
       "<caption>A grouped_df: 3 × 3</caption>\n",
       "<thead>\n",
       "\t<tr><th scope=col>anon_id</th><th scope=col>pat_enc_csn_id_coded</th><th scope=col>n</th></tr>\n",
       "\t<tr><th scope=col>&lt;chr&gt;</th><th scope=col>&lt;dbl&gt;</th><th scope=col>&lt;int&gt;</th></tr>\n",
       "</thead>\n",
       "<tbody>\n",
       "\t<tr><td>JCd1a421</td><td>131265379414</td><td>109</td></tr>\n",
       "\t<tr><td>JCd91ab7</td><td>131271804263</td><td>236</td></tr>\n",
       "\t<tr><td>JCe6286a</td><td>131276655148</td><td>216</td></tr>\n",
       "</tbody>\n",
       "</table>\n"
      ],
      "text/latex": [
       "A grouped\\_df: 3 × 3\n",
       "\\begin{tabular}{lll}\n",
       " anon\\_id & pat\\_enc\\_csn\\_id\\_coded & n\\\\\n",
       " <chr> & <dbl> & <int>\\\\\n",
       "\\hline\n",
       "\t JCd1a421 & 131265379414 & 109\\\\\n",
       "\t JCd91ab7 & 131271804263 & 236\\\\\n",
       "\t JCe6286a & 131276655148 & 216\\\\\n",
       "\\end{tabular}\n"
      ],
      "text/markdown": [
       "\n",
       "A grouped_df: 3 × 3\n",
       "\n",
       "| anon_id &lt;chr&gt; | pat_enc_csn_id_coded &lt;dbl&gt; | n &lt;int&gt; |\n",
       "|---|---|---|\n",
       "| JCd1a421 | 131265379414 | 109 |\n",
       "| JCd91ab7 | 131271804263 | 236 |\n",
       "| JCe6286a | 131276655148 | 216 |\n",
       "\n"
      ],
      "text/plain": [
       "  anon_id  pat_enc_csn_id_coded n  \n",
       "1 JCd1a421 131265379414         109\n",
       "2 JCd91ab7 131271804263         236\n",
       "3 JCe6286a 131276655148         216"
      ]
     },
     "metadata": {},
     "output_type": "display_data"
    },
    {
     "name": "stderr",
     "output_type": "stream",
     "text": [
      "Adding missing grouping variables: `pat_enc_csn_id_coded`\n",
      "\n"
     ]
    },
    {
     "data": {
      "text/html": [
       "<table>\n",
       "<caption>A grouped_df: 3 × 5</caption>\n",
       "<thead>\n",
       "\t<tr><th scope=col>pat_enc_csn_id_coded</th><th scope=col>first_label</th><th scope=col>death_24hr_recent_label</th><th scope=col>pred_first</th><th scope=col>pred_death_24hr_recent</th></tr>\n",
       "\t<tr><th scope=col>&lt;dbl&gt;</th><th scope=col>&lt;int&gt;</th><th scope=col>&lt;int&gt;</th><th scope=col>&lt;dbl&gt;</th><th scope=col>&lt;dbl&gt;</th></tr>\n",
       "</thead>\n",
       "<tbody>\n",
       "\t<tr><td>131276655148</td><td>1</td><td>0</td><td>0.7492048</td><td>0.08195348</td></tr>\n",
       "\t<tr><td>131271804263</td><td>1</td><td>0</td><td>0.8406619</td><td>0.16503982</td></tr>\n",
       "\t<tr><td>131265379414</td><td>1</td><td>1</td><td>0.7969050</td><td>0.06790455</td></tr>\n",
       "</tbody>\n",
       "</table>\n"
      ],
      "text/latex": [
       "A grouped\\_df: 3 × 5\n",
       "\\begin{tabular}{lllll}\n",
       " pat\\_enc\\_csn\\_id\\_coded & first\\_label & death\\_24hr\\_recent\\_label & pred\\_first & pred\\_death\\_24hr\\_recent\\\\\n",
       " <dbl> & <int> & <int> & <dbl> & <dbl>\\\\\n",
       "\\hline\n",
       "\t 131276655148 & 1 & 0 & 0.7492048 & 0.08195348\\\\\n",
       "\t 131271804263 & 1 & 0 & 0.8406619 & 0.16503982\\\\\n",
       "\t 131265379414 & 1 & 1 & 0.7969050 & 0.06790455\\\\\n",
       "\\end{tabular}\n"
      ],
      "text/markdown": [
       "\n",
       "A grouped_df: 3 × 5\n",
       "\n",
       "| pat_enc_csn_id_coded &lt;dbl&gt; | first_label &lt;int&gt; | death_24hr_recent_label &lt;int&gt; | pred_first &lt;dbl&gt; | pred_death_24hr_recent &lt;dbl&gt; |\n",
       "|---|---|---|---|---|\n",
       "| 131276655148 | 1 | 0 | 0.7492048 | 0.08195348 |\n",
       "| 131271804263 | 1 | 0 | 0.8406619 | 0.16503982 |\n",
       "| 131265379414 | 1 | 1 | 0.7969050 | 0.06790455 |\n",
       "\n"
      ],
      "text/plain": [
       "  pat_enc_csn_id_coded first_label death_24hr_recent_label pred_first\n",
       "1 131276655148         1           0                       0.7492048 \n",
       "2 131271804263         1           0                       0.8406619 \n",
       "3 131265379414         1           1                       0.7969050 \n",
       "  pred_death_24hr_recent\n",
       "1 0.08195348            \n",
       "2 0.16503982            \n",
       "3 0.06790455            "
      ]
     },
     "metadata": {},
     "output_type": "display_data"
    }
   ],
   "source": [
    "# only 1 bad predictions on time 24. other 3 are both good on both models\n",
    "top1 <- d05 %>% filter(pat_enc_csn_id_coded %in% csn1)\n",
    "nrow(top1) \n",
    "\n",
    "top1 %>% group_by(anon_id, pat_enc_csn_id_coded) %>% summarise(n=n())\n",
    "top1 %>% group_by(pat_enc_csn_id_coded) %>% select(first_label, death_24hr_recent_label,\n",
    "                                                   pred_first, pred_death_24hr_recent)%>% distinct()\n",
    " \n",
    "# top1 %>% distinct(pat_enc_csn_id_coded, abs_diff0_24) %>% top_n(1)"
   ]
  },
  {
   "cell_type": "markdown",
   "metadata": {},
   "source": [
    "### Check how many were transfered:\n",
    "- 19 out of 33 distinct anon_id, 22 csn out of 37 csn\n",
    "- most from ICUs to non-ICUs & correct predictions, except for `JCdc9538`\n",
    "- anon_id `JCd91ab7` appeared 3 times\n",
    "- anon_id `JCe67809` appeared 2 times"
   ]
  },
  {
   "cell_type": "code",
   "execution_count": 22,
   "metadata": {},
   "outputs": [
    {
     "data": {
      "text/html": [
       "19"
      ],
      "text/latex": [
       "19"
      ],
      "text/markdown": [
       "19"
      ],
      "text/plain": [
       "[1] 19"
      ]
     },
     "metadata": {},
     "output_type": "display_data"
    },
    {
     "data": {
      "text/html": [
       "<table>\n",
       "<caption>A data.frame: 22 × 8</caption>\n",
       "<thead>\n",
       "\t<tr><th scope=col>anon_id</th><th scope=col>pat_enc_csn_id_coded</th><th scope=col>admit_time</th><th scope=col>first_label</th><th scope=col>death_24hr_recent_label</th><th scope=col>abs_diff0_24</th><th scope=col>pred_first</th><th scope=col>pred_death_24hr_recent</th></tr>\n",
       "\t<tr><th scope=col>&lt;chr&gt;</th><th scope=col>&lt;dbl&gt;</th><th scope=col>&lt;dttm&gt;</th><th scope=col>&lt;int&gt;</th><th scope=col>&lt;int&gt;</th><th scope=col>&lt;dbl&gt;</th><th scope=col>&lt;dbl&gt;</th><th scope=col>&lt;dbl&gt;</th></tr>\n",
       "</thead>\n",
       "<tbody>\n",
       "\t<tr><td>JC2a0f29b</td><td>131280435236</td><td>2020-01-11 11:08:00</td><td>1</td><td>0</td><td>0.5</td><td>0.7324723</td><td>0.27897978</td></tr>\n",
       "\t<tr><td>JC2a1b145</td><td>131267727359</td><td>2019-04-20 13:19:00</td><td>1</td><td>0</td><td>0.5</td><td>0.8925185</td><td>0.41847357</td></tr>\n",
       "\t<tr><td>JC2a31a2b</td><td>131273021618</td><td>2019-07-01 07:21:00</td><td>1</td><td>0</td><td>0.6</td><td>0.8841977</td><td>0.29646083</td></tr>\n",
       "\t<tr><td>JCcc6f5a </td><td>131261651290</td><td>2019-01-27 21:31:00</td><td>1</td><td>0</td><td>0.5</td><td>0.7241807</td><td>0.24340748</td></tr>\n",
       "\t<tr><td>JCceb298 </td><td>131285560953</td><td>2020-03-06 04:21:00</td><td>1</td><td>0</td><td>0.6</td><td>0.7893417</td><td>0.21697571</td></tr>\n",
       "\t<tr><td>JCcf7ee2 </td><td>131261541119</td><td>2019-01-15 06:59:00</td><td>1</td><td>0</td><td>0.5</td><td>0.8834838</td><td>0.39151948</td></tr>\n",
       "\t<tr><td>JCd2b078 </td><td>131281836013</td><td>2020-02-05 06:40:00</td><td>1</td><td>0</td><td>0.5</td><td>0.6533526</td><td>0.18836503</td></tr>\n",
       "\t<tr><td>JCd3262e </td><td>131275001383</td><td>2019-08-15 16:54:00</td><td>1</td><td>0</td><td>0.6</td><td>0.8597781</td><td>0.27967762</td></tr>\n",
       "\t<tr><td>JCd91ab7 </td><td>131271804263</td><td>2019-07-11 21:43:00</td><td>1</td><td>0</td><td>0.7</td><td>0.8406619</td><td>0.16503982</td></tr>\n",
       "\t<tr><td>JCd91ab7 </td><td>131276678530</td><td>2019-10-10 03:52:00</td><td>1</td><td>0</td><td>0.5</td><td>0.7376401</td><td>0.21183136</td></tr>\n",
       "\t<tr><td>JCd91ab7 </td><td>131281472394</td><td>2020-01-16 18:22:00</td><td>1</td><td>0</td><td>0.5</td><td>0.7327157</td><td>0.24238043</td></tr>\n",
       "\t<tr><td>JCd984f6 </td><td>131283509115</td><td>2020-02-08 06:17:00</td><td>1</td><td>0</td><td>0.5</td><td>0.6554213</td><td>0.17758573</td></tr>\n",
       "\t<tr><td>JCdb215e </td><td>131285117411</td><td>2020-02-12 17:35:00</td><td>1</td><td>0</td><td>0.5</td><td>0.7373989</td><td>0.23933698</td></tr>\n",
       "\t<tr><td>JCdc9538 </td><td>131284409583</td><td>2020-03-30 14:37:00</td><td>0</td><td>1</td><td>0.5</td><td>0.6393337</td><td>0.18878564</td></tr>\n",
       "\t<tr><td>JCde6b69 </td><td>131268471668</td><td>2019-05-11 11:06:00</td><td>1</td><td>0</td><td>0.5</td><td>0.7345093</td><td>0.25061122</td></tr>\n",
       "\t<tr><td>JCe09f7a </td><td>131283156969</td><td>2020-01-19 11:56:00</td><td>1</td><td>0</td><td>0.6</td><td>0.8493499</td><td>0.26897129</td></tr>\n",
       "\t<tr><td>JCe0e0be </td><td>131283367768</td><td>2020-03-15 15:18:00</td><td>1</td><td>0</td><td>0.6</td><td>0.7303019</td><td>0.17409155</td></tr>\n",
       "\t<tr><td>JCe358e6 </td><td>131282031674</td><td>2019-12-23 02:39:00</td><td>1</td><td>0</td><td>0.5</td><td>0.7744861</td><td>0.27566563</td></tr>\n",
       "\t<tr><td>JCe6286a </td><td>131276655148</td><td>2019-10-19 02:44:00</td><td>1</td><td>0</td><td>0.7</td><td>0.7492048</td><td>0.08195348</td></tr>\n",
       "\t<tr><td>JCe67809 </td><td>131265527017</td><td>2019-02-28 09:49:00</td><td>1</td><td>0</td><td>0.5</td><td>0.5442423</td><td>0.02793682</td></tr>\n",
       "\t<tr><td>JCe67809 </td><td>131268470191</td><td>2019-05-02 05:02:00</td><td>1</td><td>0</td><td>0.5</td><td>0.5610873</td><td>0.05252901</td></tr>\n",
       "\t<tr><td>JCe9e4e1 </td><td>131267990870</td><td>2019-05-03 03:38:00</td><td>1</td><td>0</td><td>0.5</td><td>0.5496709</td><td>0.04465135</td></tr>\n",
       "</tbody>\n",
       "</table>\n"
      ],
      "text/latex": [
       "A data.frame: 22 × 8\n",
       "\\begin{tabular}{llllllll}\n",
       " anon\\_id & pat\\_enc\\_csn\\_id\\_coded & admit\\_time & first\\_label & death\\_24hr\\_recent\\_label & abs\\_diff0\\_24 & pred\\_first & pred\\_death\\_24hr\\_recent\\\\\n",
       " <chr> & <dbl> & <dttm> & <int> & <int> & <dbl> & <dbl> & <dbl>\\\\\n",
       "\\hline\n",
       "\t JC2a0f29b & 131280435236 & 2020-01-11 11:08:00 & 1 & 0 & 0.5 & 0.7324723 & 0.27897978\\\\\n",
       "\t JC2a1b145 & 131267727359 & 2019-04-20 13:19:00 & 1 & 0 & 0.5 & 0.8925185 & 0.41847357\\\\\n",
       "\t JC2a31a2b & 131273021618 & 2019-07-01 07:21:00 & 1 & 0 & 0.6 & 0.8841977 & 0.29646083\\\\\n",
       "\t JCcc6f5a  & 131261651290 & 2019-01-27 21:31:00 & 1 & 0 & 0.5 & 0.7241807 & 0.24340748\\\\\n",
       "\t JCceb298  & 131285560953 & 2020-03-06 04:21:00 & 1 & 0 & 0.6 & 0.7893417 & 0.21697571\\\\\n",
       "\t JCcf7ee2  & 131261541119 & 2019-01-15 06:59:00 & 1 & 0 & 0.5 & 0.8834838 & 0.39151948\\\\\n",
       "\t JCd2b078  & 131281836013 & 2020-02-05 06:40:00 & 1 & 0 & 0.5 & 0.6533526 & 0.18836503\\\\\n",
       "\t JCd3262e  & 131275001383 & 2019-08-15 16:54:00 & 1 & 0 & 0.6 & 0.8597781 & 0.27967762\\\\\n",
       "\t JCd91ab7  & 131271804263 & 2019-07-11 21:43:00 & 1 & 0 & 0.7 & 0.8406619 & 0.16503982\\\\\n",
       "\t JCd91ab7  & 131276678530 & 2019-10-10 03:52:00 & 1 & 0 & 0.5 & 0.7376401 & 0.21183136\\\\\n",
       "\t JCd91ab7  & 131281472394 & 2020-01-16 18:22:00 & 1 & 0 & 0.5 & 0.7327157 & 0.24238043\\\\\n",
       "\t JCd984f6  & 131283509115 & 2020-02-08 06:17:00 & 1 & 0 & 0.5 & 0.6554213 & 0.17758573\\\\\n",
       "\t JCdb215e  & 131285117411 & 2020-02-12 17:35:00 & 1 & 0 & 0.5 & 0.7373989 & 0.23933698\\\\\n",
       "\t JCdc9538  & 131284409583 & 2020-03-30 14:37:00 & 0 & 1 & 0.5 & 0.6393337 & 0.18878564\\\\\n",
       "\t JCde6b69  & 131268471668 & 2019-05-11 11:06:00 & 1 & 0 & 0.5 & 0.7345093 & 0.25061122\\\\\n",
       "\t JCe09f7a  & 131283156969 & 2020-01-19 11:56:00 & 1 & 0 & 0.6 & 0.8493499 & 0.26897129\\\\\n",
       "\t JCe0e0be  & 131283367768 & 2020-03-15 15:18:00 & 1 & 0 & 0.6 & 0.7303019 & 0.17409155\\\\\n",
       "\t JCe358e6  & 131282031674 & 2019-12-23 02:39:00 & 1 & 0 & 0.5 & 0.7744861 & 0.27566563\\\\\n",
       "\t JCe6286a  & 131276655148 & 2019-10-19 02:44:00 & 1 & 0 & 0.7 & 0.7492048 & 0.08195348\\\\\n",
       "\t JCe67809  & 131265527017 & 2019-02-28 09:49:00 & 1 & 0 & 0.5 & 0.5442423 & 0.02793682\\\\\n",
       "\t JCe67809  & 131268470191 & 2019-05-02 05:02:00 & 1 & 0 & 0.5 & 0.5610873 & 0.05252901\\\\\n",
       "\t JCe9e4e1  & 131267990870 & 2019-05-03 03:38:00 & 1 & 0 & 0.5 & 0.5496709 & 0.04465135\\\\\n",
       "\\end{tabular}\n"
      ],
      "text/markdown": [
       "\n",
       "A data.frame: 22 × 8\n",
       "\n",
       "| anon_id &lt;chr&gt; | pat_enc_csn_id_coded &lt;dbl&gt; | admit_time &lt;dttm&gt; | first_label &lt;int&gt; | death_24hr_recent_label &lt;int&gt; | abs_diff0_24 &lt;dbl&gt; | pred_first &lt;dbl&gt; | pred_death_24hr_recent &lt;dbl&gt; |\n",
       "|---|---|---|---|---|---|---|---|\n",
       "| JC2a0f29b | 131280435236 | 2020-01-11 11:08:00 | 1 | 0 | 0.5 | 0.7324723 | 0.27897978 |\n",
       "| JC2a1b145 | 131267727359 | 2019-04-20 13:19:00 | 1 | 0 | 0.5 | 0.8925185 | 0.41847357 |\n",
       "| JC2a31a2b | 131273021618 | 2019-07-01 07:21:00 | 1 | 0 | 0.6 | 0.8841977 | 0.29646083 |\n",
       "| JCcc6f5a  | 131261651290 | 2019-01-27 21:31:00 | 1 | 0 | 0.5 | 0.7241807 | 0.24340748 |\n",
       "| JCceb298  | 131285560953 | 2020-03-06 04:21:00 | 1 | 0 | 0.6 | 0.7893417 | 0.21697571 |\n",
       "| JCcf7ee2  | 131261541119 | 2019-01-15 06:59:00 | 1 | 0 | 0.5 | 0.8834838 | 0.39151948 |\n",
       "| JCd2b078  | 131281836013 | 2020-02-05 06:40:00 | 1 | 0 | 0.5 | 0.6533526 | 0.18836503 |\n",
       "| JCd3262e  | 131275001383 | 2019-08-15 16:54:00 | 1 | 0 | 0.6 | 0.8597781 | 0.27967762 |\n",
       "| JCd91ab7  | 131271804263 | 2019-07-11 21:43:00 | 1 | 0 | 0.7 | 0.8406619 | 0.16503982 |\n",
       "| JCd91ab7  | 131276678530 | 2019-10-10 03:52:00 | 1 | 0 | 0.5 | 0.7376401 | 0.21183136 |\n",
       "| JCd91ab7  | 131281472394 | 2020-01-16 18:22:00 | 1 | 0 | 0.5 | 0.7327157 | 0.24238043 |\n",
       "| JCd984f6  | 131283509115 | 2020-02-08 06:17:00 | 1 | 0 | 0.5 | 0.6554213 | 0.17758573 |\n",
       "| JCdb215e  | 131285117411 | 2020-02-12 17:35:00 | 1 | 0 | 0.5 | 0.7373989 | 0.23933698 |\n",
       "| JCdc9538  | 131284409583 | 2020-03-30 14:37:00 | 0 | 1 | 0.5 | 0.6393337 | 0.18878564 |\n",
       "| JCde6b69  | 131268471668 | 2019-05-11 11:06:00 | 1 | 0 | 0.5 | 0.7345093 | 0.25061122 |\n",
       "| JCe09f7a  | 131283156969 | 2020-01-19 11:56:00 | 1 | 0 | 0.6 | 0.8493499 | 0.26897129 |\n",
       "| JCe0e0be  | 131283367768 | 2020-03-15 15:18:00 | 1 | 0 | 0.6 | 0.7303019 | 0.17409155 |\n",
       "| JCe358e6  | 131282031674 | 2019-12-23 02:39:00 | 1 | 0 | 0.5 | 0.7744861 | 0.27566563 |\n",
       "| JCe6286a  | 131276655148 | 2019-10-19 02:44:00 | 1 | 0 | 0.7 | 0.7492048 | 0.08195348 |\n",
       "| JCe67809  | 131265527017 | 2019-02-28 09:49:00 | 1 | 0 | 0.5 | 0.5442423 | 0.02793682 |\n",
       "| JCe67809  | 131268470191 | 2019-05-02 05:02:00 | 1 | 0 | 0.5 | 0.5610873 | 0.05252901 |\n",
       "| JCe9e4e1  | 131267990870 | 2019-05-03 03:38:00 | 1 | 0 | 0.5 | 0.5496709 | 0.04465135 |\n",
       "\n"
      ],
      "text/plain": [
       "   anon_id   pat_enc_csn_id_coded admit_time          first_label\n",
       "1  JC2a0f29b 131280435236         2020-01-11 11:08:00 1          \n",
       "2  JC2a1b145 131267727359         2019-04-20 13:19:00 1          \n",
       "3  JC2a31a2b 131273021618         2019-07-01 07:21:00 1          \n",
       "4  JCcc6f5a  131261651290         2019-01-27 21:31:00 1          \n",
       "5  JCceb298  131285560953         2020-03-06 04:21:00 1          \n",
       "6  JCcf7ee2  131261541119         2019-01-15 06:59:00 1          \n",
       "7  JCd2b078  131281836013         2020-02-05 06:40:00 1          \n",
       "8  JCd3262e  131275001383         2019-08-15 16:54:00 1          \n",
       "9  JCd91ab7  131271804263         2019-07-11 21:43:00 1          \n",
       "10 JCd91ab7  131276678530         2019-10-10 03:52:00 1          \n",
       "11 JCd91ab7  131281472394         2020-01-16 18:22:00 1          \n",
       "12 JCd984f6  131283509115         2020-02-08 06:17:00 1          \n",
       "13 JCdb215e  131285117411         2020-02-12 17:35:00 1          \n",
       "14 JCdc9538  131284409583         2020-03-30 14:37:00 0          \n",
       "15 JCde6b69  131268471668         2019-05-11 11:06:00 1          \n",
       "16 JCe09f7a  131283156969         2020-01-19 11:56:00 1          \n",
       "17 JCe0e0be  131283367768         2020-03-15 15:18:00 1          \n",
       "18 JCe358e6  131282031674         2019-12-23 02:39:00 1          \n",
       "19 JCe6286a  131276655148         2019-10-19 02:44:00 1          \n",
       "20 JCe67809  131265527017         2019-02-28 09:49:00 1          \n",
       "21 JCe67809  131268470191         2019-05-02 05:02:00 1          \n",
       "22 JCe9e4e1  131267990870         2019-05-03 03:38:00 1          \n",
       "   death_24hr_recent_label abs_diff0_24 pred_first pred_death_24hr_recent\n",
       "1  0                       0.5          0.7324723  0.27897978            \n",
       "2  0                       0.5          0.8925185  0.41847357            \n",
       "3  0                       0.6          0.8841977  0.29646083            \n",
       "4  0                       0.5          0.7241807  0.24340748            \n",
       "5  0                       0.6          0.7893417  0.21697571            \n",
       "6  0                       0.5          0.8834838  0.39151948            \n",
       "7  0                       0.5          0.6533526  0.18836503            \n",
       "8  0                       0.6          0.8597781  0.27967762            \n",
       "9  0                       0.7          0.8406619  0.16503982            \n",
       "10 0                       0.5          0.7376401  0.21183136            \n",
       "11 0                       0.5          0.7327157  0.24238043            \n",
       "12 0                       0.5          0.6554213  0.17758573            \n",
       "13 0                       0.5          0.7373989  0.23933698            \n",
       "14 1                       0.5          0.6393337  0.18878564            \n",
       "15 0                       0.5          0.7345093  0.25061122            \n",
       "16 0                       0.6          0.8493499  0.26897129            \n",
       "17 0                       0.6          0.7303019  0.17409155            \n",
       "18 0                       0.5          0.7744861  0.27566563            \n",
       "19 0                       0.7          0.7492048  0.08195348            \n",
       "20 0                       0.5          0.5442423  0.02793682            \n",
       "21 0                       0.5          0.5610873  0.05252901            \n",
       "22 0                       0.5          0.5496709  0.04465135            "
      ]
     },
     "metadata": {},
     "output_type": "display_data"
    }
   ],
   "source": [
    "nrow(d05 %>% filter(first_label != death_24hr_recent_label) %>% distinct(anon_id))\n",
    "\n",
    "d05 %>% filter(first_label != death_24hr_recent_label) %>% \n",
    "            select(anon_id, pat_enc_csn_id_coded, admit_time, first_label, death_24hr_recent_label, \n",
    "                   abs_diff0_24, pred_first, pred_death_24hr_recent) %>%\n",
    "            arrange(anon_id, pat_enc_csn_id_coded) %>% distinct()# -abs_diff0_24, "
   ]
  },
  {
   "cell_type": "markdown",
   "metadata": {},
   "source": [
    "### Those who did not transfer:\n",
    "- 14 (out of 33 mrn) or 15 out of 37 csn: from non-ICU to ICUs\n",
    "- one label prediction is correct:  9 are for the 24hr label, 6 for time 0 label \n",
    "- for those with (0,0) labels at time 0 and 24: important to investigate these 2 below\n",
    "    - `JCccaf40` (131278883571) and `JCe8eecd` (131287638900) has max label of 1\n",
    "    - time 0 prediction leans toward 1. \n",
    "- anon_id JC2a1b3e1 appeared 2 times"
   ]
  },
  {
   "cell_type": "code",
   "execution_count": 10,
   "metadata": {},
   "outputs": [
    {
     "data": {
      "text/html": [
       "14"
      ],
      "text/latex": [
       "14"
      ],
      "text/markdown": [
       "14"
      ],
      "text/plain": [
       "[1] 14"
      ]
     },
     "metadata": {},
     "output_type": "display_data"
    },
    {
     "data": {
      "text/html": [
       "<table>\n",
       "<caption>A data.frame: 15 × 9</caption>\n",
       "<thead>\n",
       "\t<tr><th scope=col>anon_id</th><th scope=col>pat_enc_csn_id_coded</th><th scope=col>admit_time</th><th scope=col>first_label</th><th scope=col>death_24hr_recent_label</th><th scope=col>death_24hr_max_label</th><th scope=col>abs_diff0_24</th><th scope=col>pred_first</th><th scope=col>pred_death_24hr_recent</th></tr>\n",
       "\t<tr><th scope=col>&lt;chr&gt;</th><th scope=col>&lt;dbl&gt;</th><th scope=col>&lt;dttm&gt;</th><th scope=col>&lt;int&gt;</th><th scope=col>&lt;int&gt;</th><th scope=col>&lt;int&gt;</th><th scope=col>&lt;dbl&gt;</th><th scope=col>&lt;dbl&gt;</th><th scope=col>&lt;dbl&gt;</th></tr>\n",
       "</thead>\n",
       "<tbody>\n",
       "\t<tr><td>JC29f8e61</td><td>131265730309</td><td>2019-04-17 22:32:00</td><td>1</td><td>1</td><td>1</td><td>0.5</td><td>0.6918880</td><td>0.18118481</td></tr>\n",
       "\t<tr><td>JC29fd236</td><td>131264662955</td><td>2019-02-11 11:54:00</td><td>0</td><td>0</td><td>0</td><td>0.5</td><td>0.6906416</td><td>0.20826471</td></tr>\n",
       "\t<tr><td>JC29fe5a7</td><td>131273666433</td><td>2019-07-17 11:48:00</td><td>1</td><td>1</td><td>1</td><td>0.6</td><td>0.7369563</td><td>0.10290046</td></tr>\n",
       "\t<tr><td>JC2a126ab</td><td>131275893768</td><td>2019-09-04 05:58:00</td><td>0</td><td>0</td><td>0</td><td>0.6</td><td>0.8152507</td><td>0.25902901</td></tr>\n",
       "\t<tr><td>JC2a1306e</td><td>131271469230</td><td>2019-06-24 06:46:00</td><td>1</td><td>1</td><td>1</td><td>0.5</td><td>0.7394413</td><td>0.28618598</td></tr>\n",
       "\t<tr><td>JC2a1b3e1</td><td>131266865289</td><td>2019-03-30 17:11:00</td><td>0</td><td>0</td><td>0</td><td>0.5</td><td>0.8686259</td><td>0.32946409</td></tr>\n",
       "\t<tr><td>JC2a1b3e1</td><td>131271401201</td><td>2019-06-03 17:42:00</td><td>0</td><td>0</td><td>0</td><td>0.5</td><td>0.8650639</td><td>0.34595124</td></tr>\n",
       "\t<tr><td>JCd1a421 </td><td>131265379414</td><td>2019-03-21 13:11:00</td><td>1</td><td>1</td><td>1</td><td>0.7</td><td>0.7969050</td><td>0.06790455</td></tr>\n",
       "\t<tr><td>JCd1ef38 </td><td>131279807307</td><td>2019-11-19 03:56:00</td><td>0</td><td>0</td><td>0</td><td>0.5</td><td>0.8066095</td><td>0.31641917</td></tr>\n",
       "\t<tr><td>JCd21aa2 </td><td>131271881424</td><td>2019-06-14 09:53:00</td><td>0</td><td>0</td><td>0</td><td>0.5</td><td>0.5984433</td><td>0.12750511</td></tr>\n",
       "\t<tr><td>JCd7753a </td><td>131263239473</td><td>2019-03-08 23:28:00</td><td>1</td><td>1</td><td>1</td><td>0.5</td><td>0.6325749</td><td>0.18249292</td></tr>\n",
       "\t<tr><td>JCdc5d49 </td><td>131262480872</td><td>2019-01-05 17:04:00</td><td>1</td><td>1</td><td>1</td><td>0.5</td><td>0.6639243</td><td>0.20044141</td></tr>\n",
       "\t<tr><td>JCe1e504 </td><td>131268059258</td><td>2019-04-18 11:45:00</td><td>0</td><td>0</td><td>0</td><td>0.5</td><td>0.7209007</td><td>0.21101473</td></tr>\n",
       "\t<tr><td>JCe3e27d </td><td>131263978966</td><td>2019-03-04 23:17:00</td><td>0</td><td>0</td><td>0</td><td>0.5</td><td>0.5330029</td><td>0.03365377</td></tr>\n",
       "\t<tr><td>JCe8eecd </td><td>131287638900</td><td>2020-03-29 06:00:00</td><td>0</td><td>0</td><td>1</td><td>0.5</td><td>0.7590947</td><td>0.21166600</td></tr>\n",
       "</tbody>\n",
       "</table>\n"
      ],
      "text/latex": [
       "A data.frame: 15 × 9\n",
       "\\begin{tabular}{lllllllll}\n",
       " anon\\_id & pat\\_enc\\_csn\\_id\\_coded & admit\\_time & first\\_label & death\\_24hr\\_recent\\_label & death\\_24hr\\_max\\_label & abs\\_diff0\\_24 & pred\\_first & pred\\_death\\_24hr\\_recent\\\\\n",
       " <chr> & <dbl> & <dttm> & <int> & <int> & <int> & <dbl> & <dbl> & <dbl>\\\\\n",
       "\\hline\n",
       "\t JC29f8e61 & 131265730309 & 2019-04-17 22:32:00 & 1 & 1 & 1 & 0.5 & 0.6918880 & 0.18118481\\\\\n",
       "\t JC29fd236 & 131264662955 & 2019-02-11 11:54:00 & 0 & 0 & 0 & 0.5 & 0.6906416 & 0.20826471\\\\\n",
       "\t JC29fe5a7 & 131273666433 & 2019-07-17 11:48:00 & 1 & 1 & 1 & 0.6 & 0.7369563 & 0.10290046\\\\\n",
       "\t JC2a126ab & 131275893768 & 2019-09-04 05:58:00 & 0 & 0 & 0 & 0.6 & 0.8152507 & 0.25902901\\\\\n",
       "\t JC2a1306e & 131271469230 & 2019-06-24 06:46:00 & 1 & 1 & 1 & 0.5 & 0.7394413 & 0.28618598\\\\\n",
       "\t JC2a1b3e1 & 131266865289 & 2019-03-30 17:11:00 & 0 & 0 & 0 & 0.5 & 0.8686259 & 0.32946409\\\\\n",
       "\t JC2a1b3e1 & 131271401201 & 2019-06-03 17:42:00 & 0 & 0 & 0 & 0.5 & 0.8650639 & 0.34595124\\\\\n",
       "\t JCd1a421  & 131265379414 & 2019-03-21 13:11:00 & 1 & 1 & 1 & 0.7 & 0.7969050 & 0.06790455\\\\\n",
       "\t JCd1ef38  & 131279807307 & 2019-11-19 03:56:00 & 0 & 0 & 0 & 0.5 & 0.8066095 & 0.31641917\\\\\n",
       "\t JCd21aa2  & 131271881424 & 2019-06-14 09:53:00 & 0 & 0 & 0 & 0.5 & 0.5984433 & 0.12750511\\\\\n",
       "\t JCd7753a  & 131263239473 & 2019-03-08 23:28:00 & 1 & 1 & 1 & 0.5 & 0.6325749 & 0.18249292\\\\\n",
       "\t JCdc5d49  & 131262480872 & 2019-01-05 17:04:00 & 1 & 1 & 1 & 0.5 & 0.6639243 & 0.20044141\\\\\n",
       "\t JCe1e504  & 131268059258 & 2019-04-18 11:45:00 & 0 & 0 & 0 & 0.5 & 0.7209007 & 0.21101473\\\\\n",
       "\t JCe3e27d  & 131263978966 & 2019-03-04 23:17:00 & 0 & 0 & 0 & 0.5 & 0.5330029 & 0.03365377\\\\\n",
       "\t JCe8eecd  & 131287638900 & 2020-03-29 06:00:00 & 0 & 0 & 1 & 0.5 & 0.7590947 & 0.21166600\\\\\n",
       "\\end{tabular}\n"
      ],
      "text/markdown": [
       "\n",
       "A data.frame: 15 × 9\n",
       "\n",
       "| anon_id &lt;chr&gt; | pat_enc_csn_id_coded &lt;dbl&gt; | admit_time &lt;dttm&gt; | first_label &lt;int&gt; | death_24hr_recent_label &lt;int&gt; | death_24hr_max_label &lt;int&gt; | abs_diff0_24 &lt;dbl&gt; | pred_first &lt;dbl&gt; | pred_death_24hr_recent &lt;dbl&gt; |\n",
       "|---|---|---|---|---|---|---|---|---|\n",
       "| JC29f8e61 | 131265730309 | 2019-04-17 22:32:00 | 1 | 1 | 1 | 0.5 | 0.6918880 | 0.18118481 |\n",
       "| JC29fd236 | 131264662955 | 2019-02-11 11:54:00 | 0 | 0 | 0 | 0.5 | 0.6906416 | 0.20826471 |\n",
       "| JC29fe5a7 | 131273666433 | 2019-07-17 11:48:00 | 1 | 1 | 1 | 0.6 | 0.7369563 | 0.10290046 |\n",
       "| JC2a126ab | 131275893768 | 2019-09-04 05:58:00 | 0 | 0 | 0 | 0.6 | 0.8152507 | 0.25902901 |\n",
       "| JC2a1306e | 131271469230 | 2019-06-24 06:46:00 | 1 | 1 | 1 | 0.5 | 0.7394413 | 0.28618598 |\n",
       "| JC2a1b3e1 | 131266865289 | 2019-03-30 17:11:00 | 0 | 0 | 0 | 0.5 | 0.8686259 | 0.32946409 |\n",
       "| JC2a1b3e1 | 131271401201 | 2019-06-03 17:42:00 | 0 | 0 | 0 | 0.5 | 0.8650639 | 0.34595124 |\n",
       "| JCd1a421  | 131265379414 | 2019-03-21 13:11:00 | 1 | 1 | 1 | 0.7 | 0.7969050 | 0.06790455 |\n",
       "| JCd1ef38  | 131279807307 | 2019-11-19 03:56:00 | 0 | 0 | 0 | 0.5 | 0.8066095 | 0.31641917 |\n",
       "| JCd21aa2  | 131271881424 | 2019-06-14 09:53:00 | 0 | 0 | 0 | 0.5 | 0.5984433 | 0.12750511 |\n",
       "| JCd7753a  | 131263239473 | 2019-03-08 23:28:00 | 1 | 1 | 1 | 0.5 | 0.6325749 | 0.18249292 |\n",
       "| JCdc5d49  | 131262480872 | 2019-01-05 17:04:00 | 1 | 1 | 1 | 0.5 | 0.6639243 | 0.20044141 |\n",
       "| JCe1e504  | 131268059258 | 2019-04-18 11:45:00 | 0 | 0 | 0 | 0.5 | 0.7209007 | 0.21101473 |\n",
       "| JCe3e27d  | 131263978966 | 2019-03-04 23:17:00 | 0 | 0 | 0 | 0.5 | 0.5330029 | 0.03365377 |\n",
       "| JCe8eecd  | 131287638900 | 2020-03-29 06:00:00 | 0 | 0 | 1 | 0.5 | 0.7590947 | 0.21166600 |\n",
       "\n"
      ],
      "text/plain": [
       "   anon_id   pat_enc_csn_id_coded admit_time          first_label\n",
       "1  JC29f8e61 131265730309         2019-04-17 22:32:00 1          \n",
       "2  JC29fd236 131264662955         2019-02-11 11:54:00 0          \n",
       "3  JC29fe5a7 131273666433         2019-07-17 11:48:00 1          \n",
       "4  JC2a126ab 131275893768         2019-09-04 05:58:00 0          \n",
       "5  JC2a1306e 131271469230         2019-06-24 06:46:00 1          \n",
       "6  JC2a1b3e1 131266865289         2019-03-30 17:11:00 0          \n",
       "7  JC2a1b3e1 131271401201         2019-06-03 17:42:00 0          \n",
       "8  JCd1a421  131265379414         2019-03-21 13:11:00 1          \n",
       "9  JCd1ef38  131279807307         2019-11-19 03:56:00 0          \n",
       "10 JCd21aa2  131271881424         2019-06-14 09:53:00 0          \n",
       "11 JCd7753a  131263239473         2019-03-08 23:28:00 1          \n",
       "12 JCdc5d49  131262480872         2019-01-05 17:04:00 1          \n",
       "13 JCe1e504  131268059258         2019-04-18 11:45:00 0          \n",
       "14 JCe3e27d  131263978966         2019-03-04 23:17:00 0          \n",
       "15 JCe8eecd  131287638900         2020-03-29 06:00:00 0          \n",
       "   death_24hr_recent_label death_24hr_max_label abs_diff0_24 pred_first\n",
       "1  1                       1                    0.5          0.6918880 \n",
       "2  0                       0                    0.5          0.6906416 \n",
       "3  1                       1                    0.6          0.7369563 \n",
       "4  0                       0                    0.6          0.8152507 \n",
       "5  1                       1                    0.5          0.7394413 \n",
       "6  0                       0                    0.5          0.8686259 \n",
       "7  0                       0                    0.5          0.8650639 \n",
       "8  1                       1                    0.7          0.7969050 \n",
       "9  0                       0                    0.5          0.8066095 \n",
       "10 0                       0                    0.5          0.5984433 \n",
       "11 1                       1                    0.5          0.6325749 \n",
       "12 1                       1                    0.5          0.6639243 \n",
       "13 0                       0                    0.5          0.7209007 \n",
       "14 0                       0                    0.5          0.5330029 \n",
       "15 0                       1                    0.5          0.7590947 \n",
       "   pred_death_24hr_recent\n",
       "1  0.18118481            \n",
       "2  0.20826471            \n",
       "3  0.10290046            \n",
       "4  0.25902901            \n",
       "5  0.28618598            \n",
       "6  0.32946409            \n",
       "7  0.34595124            \n",
       "8  0.06790455            \n",
       "9  0.31641917            \n",
       "10 0.12750511            \n",
       "11 0.18249292            \n",
       "12 0.20044141            \n",
       "13 0.21101473            \n",
       "14 0.03365377            \n",
       "15 0.21166600            "
      ]
     },
     "metadata": {},
     "output_type": "display_data"
    }
   ],
   "source": [
    "nrow(d05 %>% filter(first_label == death_24hr_recent_label) %>% distinct(anon_id))\n",
    "\n",
    "d05 %>% filter(first_label == death_24hr_recent_label) %>% \n",
    "            select(anon_id, pat_enc_csn_id_coded, admit_time, first_label, death_24hr_recent_label, death_24hr_max_label,\n",
    "                   abs_diff0_24, pred_first, pred_death_24hr_recent) %>%\n",
    "            arrange(anon_id, pat_enc_csn_id_coded) %>% distinct() #"
   ]
  },
  {
   "cell_type": "code",
   "execution_count": 23,
   "metadata": {},
   "outputs": [],
   "source": [
    "results05 <- d05 %>% select(anon_id, pat_enc_csn_id_coded, admit_time, first_label, death_24hr_recent_label,\n",
    "                            abs_diff0_24, feature_type, features, values, time) %>% \n",
    "                    mutate(transfer = ifelse(first_label != death_24hr_recent_label, 1, 0),\n",
    "                           hr_before_admit = round(as.numeric(difftime(admit_time, time, unit=\"hours\")), 1)) %>%\n",
    "                    arrange(anon_id, admit_time, -abs_diff0_24)"
   ]
  },
  {
   "cell_type": "raw",
   "metadata": {},
   "source": [
    "df <- within(df, {\n",
    "                    id <- factor(id)\n",
    "                    male <- factor(male, levels = 0:1, labels = c(\"female\", \"male\"))# 0:1 changed to female and male\n",
    "                 })"
   ]
  },
  {
   "cell_type": "code",
   "execution_count": 24,
   "metadata": {},
   "outputs": [
    {
     "name": "stderr",
     "output_type": "stream",
     "text": [
      "`summarise()` ungrouping output (override with `.groups` argument)\n",
      "\n"
     ]
    },
    {
     "data": {
      "text/html": [
       "<table>\n",
       "<caption>A tibble: 9 × 2</caption>\n",
       "<thead>\n",
       "\t<tr><th scope=col>feature_type</th><th scope=col>n</th></tr>\n",
       "\t<tr><th scope=col>&lt;chr&gt;</th><th scope=col>&lt;int&gt;</th></tr>\n",
       "</thead>\n",
       "<tbody>\n",
       "\t<tr><td>Diagnosis   </td><td>1230</td></tr>\n",
       "\t<tr><td>Meds        </td><td> 809</td></tr>\n",
       "\t<tr><td>labs        </td><td> 574</td></tr>\n",
       "\t<tr><td>vitals      </td><td> 516</td></tr>\n",
       "\t<tr><td>Lab         </td><td> 335</td></tr>\n",
       "\t<tr><td>demo        </td><td> 255</td></tr>\n",
       "\t<tr><td>Imaging     </td><td>  68</td></tr>\n",
       "\t<tr><td>Procedures  </td><td>  27</td></tr>\n",
       "\t<tr><td>Microbiology</td><td>   4</td></tr>\n",
       "</tbody>\n",
       "</table>\n"
      ],
      "text/latex": [
       "A tibble: 9 × 2\n",
       "\\begin{tabular}{ll}\n",
       " feature\\_type & n\\\\\n",
       " <chr> & <int>\\\\\n",
       "\\hline\n",
       "\t Diagnosis    & 1230\\\\\n",
       "\t Meds         &  809\\\\\n",
       "\t labs         &  574\\\\\n",
       "\t vitals       &  516\\\\\n",
       "\t Lab          &  335\\\\\n",
       "\t demo         &  255\\\\\n",
       "\t Imaging      &   68\\\\\n",
       "\t Procedures   &   27\\\\\n",
       "\t Microbiology &    4\\\\\n",
       "\\end{tabular}\n"
      ],
      "text/markdown": [
       "\n",
       "A tibble: 9 × 2\n",
       "\n",
       "| feature_type &lt;chr&gt; | n &lt;int&gt; |\n",
       "|---|---|\n",
       "| Diagnosis    | 1230 |\n",
       "| Meds         |  809 |\n",
       "| labs         |  574 |\n",
       "| vitals       |  516 |\n",
       "| Lab          |  335 |\n",
       "| demo         |  255 |\n",
       "| Imaging      |   68 |\n",
       "| Procedures   |   27 |\n",
       "| Microbiology |    4 |\n",
       "\n"
      ],
      "text/plain": [
       "  feature_type n   \n",
       "1 Diagnosis    1230\n",
       "2 Meds          809\n",
       "3 labs          574\n",
       "4 vitals        516\n",
       "5 Lab           335\n",
       "6 demo          255\n",
       "7 Imaging        68\n",
       "8 Procedures     27\n",
       "9 Microbiology    4"
      ]
     },
     "metadata": {},
     "output_type": "display_data"
    },
    {
     "name": "stderr",
     "output_type": "stream",
     "text": [
      "`summarise()` ungrouping output (override with `.groups` argument)\n",
      "\n"
     ]
    },
    {
     "data": {
      "text/html": [
       "<table>\n",
       "<caption>A tibble: 10 × 2</caption>\n",
       "<thead>\n",
       "\t<tr><th scope=col>features</th><th scope=col>n</th></tr>\n",
       "\t<tr><th scope=col>&lt;chr&gt;</th><th scope=col>&lt;int&gt;</th></tr>\n",
       "</thead>\n",
       "<tbody>\n",
       "\t<tr><td>DBP    </td><td>122</td></tr>\n",
       "\t<tr><td>RR     </td><td>122</td></tr>\n",
       "\t<tr><td>SBP    </td><td>122</td></tr>\n",
       "\t<tr><td>Pulse  </td><td>114</td></tr>\n",
       "\t<tr><td>Temp   </td><td> 36</td></tr>\n",
       "\t<tr><td>Glucose</td><td> 31</td></tr>\n",
       "\t<tr><td>Hct    </td><td> 21</td></tr>\n",
       "\t<tr><td>Hgb    </td><td> 21</td></tr>\n",
       "\t<tr><td>K      </td><td> 19</td></tr>\n",
       "\t<tr><td>Na     </td><td> 19</td></tr>\n",
       "</tbody>\n",
       "</table>\n"
      ],
      "text/latex": [
       "A tibble: 10 × 2\n",
       "\\begin{tabular}{ll}\n",
       " features & n\\\\\n",
       " <chr> & <int>\\\\\n",
       "\\hline\n",
       "\t DBP     & 122\\\\\n",
       "\t RR      & 122\\\\\n",
       "\t SBP     & 122\\\\\n",
       "\t Pulse   & 114\\\\\n",
       "\t Temp    &  36\\\\\n",
       "\t Glucose &  31\\\\\n",
       "\t Hct     &  21\\\\\n",
       "\t Hgb     &  21\\\\\n",
       "\t K       &  19\\\\\n",
       "\t Na      &  19\\\\\n",
       "\\end{tabular}\n"
      ],
      "text/markdown": [
       "\n",
       "A tibble: 10 × 2\n",
       "\n",
       "| features &lt;chr&gt; | n &lt;int&gt; |\n",
       "|---|---|\n",
       "| DBP     | 122 |\n",
       "| RR      | 122 |\n",
       "| SBP     | 122 |\n",
       "| Pulse   | 114 |\n",
       "| Temp    |  36 |\n",
       "| Glucose |  31 |\n",
       "| Hct     |  21 |\n",
       "| Hgb     |  21 |\n",
       "| K       |  19 |\n",
       "| Na      |  19 |\n",
       "\n"
      ],
      "text/plain": [
       "   features n  \n",
       "1  DBP      122\n",
       "2  RR       122\n",
       "3  SBP      122\n",
       "4  Pulse    114\n",
       "5  Temp      36\n",
       "6  Glucose   31\n",
       "7  Hct       21\n",
       "8  Hgb       21\n",
       "9  K         19\n",
       "10 Na        19"
      ]
     },
     "metadata": {},
     "output_type": "display_data"
    }
   ],
   "source": [
    "results05 %>% filter(transfer==0) %>% group_by(feature_type) %>% summarise(n=n()) %>% arrange(-n)\n",
    "results05 %>% filter(transfer==0) %>% group_by(features) %>% summarise(n=n()) %>% arrange(-n) %>% head(10)"
   ]
  },
  {
   "cell_type": "code",
   "execution_count": 25,
   "metadata": {},
   "outputs": [
    {
     "name": "stderr",
     "output_type": "stream",
     "text": [
      "`summarise()` ungrouping output (override with `.groups` argument)\n",
      "\n"
     ]
    },
    {
     "data": {
      "text/html": [
       "<table>\n",
       "<caption>A tibble: 9 × 2</caption>\n",
       "<thead>\n",
       "\t<tr><th scope=col>feature_type</th><th scope=col>n</th></tr>\n",
       "\t<tr><th scope=col>&lt;chr&gt;</th><th scope=col>&lt;int&gt;</th></tr>\n",
       "</thead>\n",
       "<tbody>\n",
       "\t<tr><td>Diagnosis   </td><td>1077</td></tr>\n",
       "\t<tr><td>labs        </td><td>1002</td></tr>\n",
       "\t<tr><td>vitals      </td><td> 720</td></tr>\n",
       "\t<tr><td>Meds        </td><td> 686</td></tr>\n",
       "\t<tr><td>Lab         </td><td> 396</td></tr>\n",
       "\t<tr><td>demo        </td><td> 374</td></tr>\n",
       "\t<tr><td>Imaging     </td><td>  70</td></tr>\n",
       "\t<tr><td>Procedures  </td><td>  16</td></tr>\n",
       "\t<tr><td>Microbiology</td><td>   6</td></tr>\n",
       "</tbody>\n",
       "</table>\n"
      ],
      "text/latex": [
       "A tibble: 9 × 2\n",
       "\\begin{tabular}{ll}\n",
       " feature\\_type & n\\\\\n",
       " <chr> & <int>\\\\\n",
       "\\hline\n",
       "\t Diagnosis    & 1077\\\\\n",
       "\t labs         & 1002\\\\\n",
       "\t vitals       &  720\\\\\n",
       "\t Meds         &  686\\\\\n",
       "\t Lab          &  396\\\\\n",
       "\t demo         &  374\\\\\n",
       "\t Imaging      &   70\\\\\n",
       "\t Procedures   &   16\\\\\n",
       "\t Microbiology &    6\\\\\n",
       "\\end{tabular}\n"
      ],
      "text/markdown": [
       "\n",
       "A tibble: 9 × 2\n",
       "\n",
       "| feature_type &lt;chr&gt; | n &lt;int&gt; |\n",
       "|---|---|\n",
       "| Diagnosis    | 1077 |\n",
       "| labs         | 1002 |\n",
       "| vitals       |  720 |\n",
       "| Meds         |  686 |\n",
       "| Lab          |  396 |\n",
       "| demo         |  374 |\n",
       "| Imaging      |   70 |\n",
       "| Procedures   |   16 |\n",
       "| Microbiology |    6 |\n",
       "\n"
      ],
      "text/plain": [
       "  feature_type n   \n",
       "1 Diagnosis    1077\n",
       "2 labs         1002\n",
       "3 vitals        720\n",
       "4 Meds          686\n",
       "5 Lab           396\n",
       "6 demo          374\n",
       "7 Imaging        70\n",
       "8 Procedures     16\n",
       "9 Microbiology    6"
      ]
     },
     "metadata": {},
     "output_type": "display_data"
    },
    {
     "name": "stderr",
     "output_type": "stream",
     "text": [
      "`summarise()` ungrouping output (override with `.groups` argument)\n",
      "\n"
     ]
    },
    {
     "data": {
      "text/html": [
       "<table>\n",
       "<caption>A tibble: 10 × 2</caption>\n",
       "<thead>\n",
       "\t<tr><th scope=col>features</th><th scope=col>n</th></tr>\n",
       "\t<tr><th scope=col>&lt;chr&gt;</th><th scope=col>&lt;int&gt;</th></tr>\n",
       "</thead>\n",
       "<tbody>\n",
       "\t<tr><td>Pulse  </td><td>165</td></tr>\n",
       "\t<tr><td>DBP    </td><td>161</td></tr>\n",
       "\t<tr><td>SBP    </td><td>161</td></tr>\n",
       "\t<tr><td>RR     </td><td>153</td></tr>\n",
       "\t<tr><td>Temp   </td><td> 80</td></tr>\n",
       "\t<tr><td>Glucose</td><td> 69</td></tr>\n",
       "\t<tr><td>K      </td><td> 46</td></tr>\n",
       "\t<tr><td>Na     </td><td> 43</td></tr>\n",
       "\t<tr><td>Hct    </td><td> 39</td></tr>\n",
       "\t<tr><td>Hgb    </td><td> 39</td></tr>\n",
       "</tbody>\n",
       "</table>\n"
      ],
      "text/latex": [
       "A tibble: 10 × 2\n",
       "\\begin{tabular}{ll}\n",
       " features & n\\\\\n",
       " <chr> & <int>\\\\\n",
       "\\hline\n",
       "\t Pulse   & 165\\\\\n",
       "\t DBP     & 161\\\\\n",
       "\t SBP     & 161\\\\\n",
       "\t RR      & 153\\\\\n",
       "\t Temp    &  80\\\\\n",
       "\t Glucose &  69\\\\\n",
       "\t K       &  46\\\\\n",
       "\t Na      &  43\\\\\n",
       "\t Hct     &  39\\\\\n",
       "\t Hgb     &  39\\\\\n",
       "\\end{tabular}\n"
      ],
      "text/markdown": [
       "\n",
       "A tibble: 10 × 2\n",
       "\n",
       "| features &lt;chr&gt; | n &lt;int&gt; |\n",
       "|---|---|\n",
       "| Pulse   | 165 |\n",
       "| DBP     | 161 |\n",
       "| SBP     | 161 |\n",
       "| RR      | 153 |\n",
       "| Temp    |  80 |\n",
       "| Glucose |  69 |\n",
       "| K       |  46 |\n",
       "| Na      |  43 |\n",
       "| Hct     |  39 |\n",
       "| Hgb     |  39 |\n",
       "\n"
      ],
      "text/plain": [
       "   features n  \n",
       "1  Pulse    165\n",
       "2  DBP      161\n",
       "3  SBP      161\n",
       "4  RR       153\n",
       "5  Temp      80\n",
       "6  Glucose   69\n",
       "7  K         46\n",
       "8  Na        43\n",
       "9  Hct       39\n",
       "10 Hgb       39"
      ]
     },
     "metadata": {},
     "output_type": "display_data"
    }
   ],
   "source": [
    "results05 %>% filter(transfer==1) %>% group_by(feature_type) %>% summarise(n=n()) %>% arrange(-n)\n",
    "results05 %>% filter(transfer==1) %>% group_by(features) %>% summarise(n=n()) %>% arrange(-n) %>% head(10)"
   ]
  },
  {
   "cell_type": "code",
   "execution_count": 26,
   "metadata": {},
   "outputs": [
    {
     "name": "stderr",
     "output_type": "stream",
     "text": [
      "`summarise()` ungrouping output (override with `.groups` argument)\n",
      "\n"
     ]
    },
    {
     "data": {
      "text/html": [
       "<table>\n",
       "<caption>A tibble: 9 × 2</caption>\n",
       "<thead>\n",
       "\t<tr><th scope=col>feature_type</th><th scope=col>n</th></tr>\n",
       "\t<tr><th scope=col>&lt;chr&gt;</th><th scope=col>&lt;int&gt;</th></tr>\n",
       "</thead>\n",
       "<tbody>\n",
       "\t<tr><td>Diagnosis   </td><td>2307</td></tr>\n",
       "\t<tr><td>labs        </td><td>1576</td></tr>\n",
       "\t<tr><td>Meds        </td><td>1495</td></tr>\n",
       "\t<tr><td>vitals      </td><td>1236</td></tr>\n",
       "\t<tr><td>Lab         </td><td> 731</td></tr>\n",
       "\t<tr><td>demo        </td><td> 629</td></tr>\n",
       "\t<tr><td>Imaging     </td><td> 138</td></tr>\n",
       "\t<tr><td>Procedures  </td><td>  43</td></tr>\n",
       "\t<tr><td>Microbiology</td><td>  10</td></tr>\n",
       "</tbody>\n",
       "</table>\n"
      ],
      "text/latex": [
       "A tibble: 9 × 2\n",
       "\\begin{tabular}{ll}\n",
       " feature\\_type & n\\\\\n",
       " <chr> & <int>\\\\\n",
       "\\hline\n",
       "\t Diagnosis    & 2307\\\\\n",
       "\t labs         & 1576\\\\\n",
       "\t Meds         & 1495\\\\\n",
       "\t vitals       & 1236\\\\\n",
       "\t Lab          &  731\\\\\n",
       "\t demo         &  629\\\\\n",
       "\t Imaging      &  138\\\\\n",
       "\t Procedures   &   43\\\\\n",
       "\t Microbiology &   10\\\\\n",
       "\\end{tabular}\n"
      ],
      "text/markdown": [
       "\n",
       "A tibble: 9 × 2\n",
       "\n",
       "| feature_type &lt;chr&gt; | n &lt;int&gt; |\n",
       "|---|---|\n",
       "| Diagnosis    | 2307 |\n",
       "| labs         | 1576 |\n",
       "| Meds         | 1495 |\n",
       "| vitals       | 1236 |\n",
       "| Lab          |  731 |\n",
       "| demo         |  629 |\n",
       "| Imaging      |  138 |\n",
       "| Procedures   |   43 |\n",
       "| Microbiology |   10 |\n",
       "\n"
      ],
      "text/plain": [
       "  feature_type n   \n",
       "1 Diagnosis    2307\n",
       "2 labs         1576\n",
       "3 Meds         1495\n",
       "4 vitals       1236\n",
       "5 Lab           731\n",
       "6 demo          629\n",
       "7 Imaging       138\n",
       "8 Procedures     43\n",
       "9 Microbiology   10"
      ]
     },
     "metadata": {},
     "output_type": "display_data"
    },
    {
     "name": "stderr",
     "output_type": "stream",
     "text": [
      "`summarise()` ungrouping output (override with `.groups` argument)\n",
      "\n"
     ]
    },
    {
     "data": {
      "text/html": [
       "<table>\n",
       "<caption>A tibble: 10 × 2</caption>\n",
       "<thead>\n",
       "\t<tr><th scope=col>features</th><th scope=col>n</th></tr>\n",
       "\t<tr><th scope=col>&lt;chr&gt;</th><th scope=col>&lt;int&gt;</th></tr>\n",
       "</thead>\n",
       "<tbody>\n",
       "\t<tr><td>DBP    </td><td>283</td></tr>\n",
       "\t<tr><td>SBP    </td><td>283</td></tr>\n",
       "\t<tr><td>Pulse  </td><td>279</td></tr>\n",
       "\t<tr><td>RR     </td><td>275</td></tr>\n",
       "\t<tr><td>Temp   </td><td>116</td></tr>\n",
       "\t<tr><td>Glucose</td><td>100</td></tr>\n",
       "\t<tr><td>K      </td><td> 65</td></tr>\n",
       "\t<tr><td>Na     </td><td> 62</td></tr>\n",
       "\t<tr><td>Hct    </td><td> 60</td></tr>\n",
       "\t<tr><td>Hgb    </td><td> 60</td></tr>\n",
       "</tbody>\n",
       "</table>\n"
      ],
      "text/latex": [
       "A tibble: 10 × 2\n",
       "\\begin{tabular}{ll}\n",
       " features & n\\\\\n",
       " <chr> & <int>\\\\\n",
       "\\hline\n",
       "\t DBP     & 283\\\\\n",
       "\t SBP     & 283\\\\\n",
       "\t Pulse   & 279\\\\\n",
       "\t RR      & 275\\\\\n",
       "\t Temp    & 116\\\\\n",
       "\t Glucose & 100\\\\\n",
       "\t K       &  65\\\\\n",
       "\t Na      &  62\\\\\n",
       "\t Hct     &  60\\\\\n",
       "\t Hgb     &  60\\\\\n",
       "\\end{tabular}\n"
      ],
      "text/markdown": [
       "\n",
       "A tibble: 10 × 2\n",
       "\n",
       "| features &lt;chr&gt; | n &lt;int&gt; |\n",
       "|---|---|\n",
       "| DBP     | 283 |\n",
       "| SBP     | 283 |\n",
       "| Pulse   | 279 |\n",
       "| RR      | 275 |\n",
       "| Temp    | 116 |\n",
       "| Glucose | 100 |\n",
       "| K       |  65 |\n",
       "| Na      |  62 |\n",
       "| Hct     |  60 |\n",
       "| Hgb     |  60 |\n",
       "\n"
      ],
      "text/plain": [
       "   features n  \n",
       "1  DBP      283\n",
       "2  SBP      283\n",
       "3  Pulse    279\n",
       "4  RR       275\n",
       "5  Temp     116\n",
       "6  Glucose  100\n",
       "7  K         65\n",
       "8  Na        62\n",
       "9  Hct       60\n",
       "10 Hgb       60"
      ]
     },
     "metadata": {},
     "output_type": "display_data"
    }
   ],
   "source": [
    "results05 %>% group_by(feature_type) %>% summarise(n=n()) %>% arrange(-n)\n",
    "results05 %>% group_by(features) %>% summarise(n=n()) %>% arrange(-n) %>% head(10)"
   ]
  },
  {
   "cell_type": "code",
   "execution_count": 27,
   "metadata": {},
   "outputs": [
    {
     "data": {
      "text/html": [
       "<table>\n",
       "<caption>A data.frame: 6 × 12</caption>\n",
       "<thead>\n",
       "\t<tr><th></th><th scope=col>anon_id</th><th scope=col>pat_enc_csn_id_coded</th><th scope=col>admit_time</th><th scope=col>first_label</th><th scope=col>death_24hr_recent_label</th><th scope=col>abs_diff0_24</th><th scope=col>feature_type</th><th scope=col>features</th><th scope=col>values</th><th scope=col>time</th><th scope=col>transfer</th><th scope=col>hr_before_admit</th></tr>\n",
       "\t<tr><th></th><th scope=col>&lt;chr&gt;</th><th scope=col>&lt;dbl&gt;</th><th scope=col>&lt;dttm&gt;</th><th scope=col>&lt;int&gt;</th><th scope=col>&lt;int&gt;</th><th scope=col>&lt;dbl&gt;</th><th scope=col>&lt;chr&gt;</th><th scope=col>&lt;chr&gt;</th><th scope=col>&lt;dbl&gt;</th><th scope=col>&lt;dttm&gt;</th><th scope=col>&lt;dbl&gt;</th><th scope=col>&lt;dbl&gt;</th></tr>\n",
       "</thead>\n",
       "<tbody>\n",
       "\t<tr><th scope=row>1</th><td>JC29f8e61</td><td>131265730309</td><td>2019-04-17 22:32:00</td><td>1</td><td>1</td><td>0.5</td><td>vitals</td><td>Temp </td><td> 37.2</td><td>2019-04-17 20:10:00</td><td>0</td><td>2.4</td></tr>\n",
       "\t<tr><th scope=row>2</th><td>JC29f8e61</td><td>131265730309</td><td>2019-04-17 22:32:00</td><td>1</td><td>1</td><td>0.5</td><td>vitals</td><td>DBP  </td><td> 95.0</td><td>2019-04-17 20:10:00</td><td>0</td><td>2.4</td></tr>\n",
       "\t<tr><th scope=row>3</th><td>JC29f8e61</td><td>131265730309</td><td>2019-04-17 22:32:00</td><td>1</td><td>1</td><td>0.5</td><td>vitals</td><td>DBP  </td><td> 85.0</td><td>2019-04-17 21:00:00</td><td>0</td><td>1.5</td></tr>\n",
       "\t<tr><th scope=row>4</th><td>JC29f8e61</td><td>131265730309</td><td>2019-04-17 22:32:00</td><td>1</td><td>1</td><td>0.5</td><td>vitals</td><td>DBP  </td><td> 73.0</td><td>2019-04-17 22:00:00</td><td>0</td><td>0.5</td></tr>\n",
       "\t<tr><th scope=row>5</th><td>JC29f8e61</td><td>131265730309</td><td>2019-04-17 22:32:00</td><td>1</td><td>1</td><td>0.5</td><td>vitals</td><td>Pulse</td><td>112.0</td><td>2019-04-17 20:10:00</td><td>0</td><td>2.4</td></tr>\n",
       "\t<tr><th scope=row>6</th><td>JC29f8e61</td><td>131265730309</td><td>2019-04-17 22:32:00</td><td>1</td><td>1</td><td>0.5</td><td>vitals</td><td>Pulse</td><td>102.0</td><td>2019-04-17 21:00:00</td><td>0</td><td>1.5</td></tr>\n",
       "</tbody>\n",
       "</table>\n"
      ],
      "text/latex": [
       "A data.frame: 6 × 12\n",
       "\\begin{tabular}{r|llllllllllll}\n",
       "  & anon\\_id & pat\\_enc\\_csn\\_id\\_coded & admit\\_time & first\\_label & death\\_24hr\\_recent\\_label & abs\\_diff0\\_24 & feature\\_type & features & values & time & transfer & hr\\_before\\_admit\\\\\n",
       "  & <chr> & <dbl> & <dttm> & <int> & <int> & <dbl> & <chr> & <chr> & <dbl> & <dttm> & <dbl> & <dbl>\\\\\n",
       "\\hline\n",
       "\t1 & JC29f8e61 & 131265730309 & 2019-04-17 22:32:00 & 1 & 1 & 0.5 & vitals & Temp  &  37.2 & 2019-04-17 20:10:00 & 0 & 2.4\\\\\n",
       "\t2 & JC29f8e61 & 131265730309 & 2019-04-17 22:32:00 & 1 & 1 & 0.5 & vitals & DBP   &  95.0 & 2019-04-17 20:10:00 & 0 & 2.4\\\\\n",
       "\t3 & JC29f8e61 & 131265730309 & 2019-04-17 22:32:00 & 1 & 1 & 0.5 & vitals & DBP   &  85.0 & 2019-04-17 21:00:00 & 0 & 1.5\\\\\n",
       "\t4 & JC29f8e61 & 131265730309 & 2019-04-17 22:32:00 & 1 & 1 & 0.5 & vitals & DBP   &  73.0 & 2019-04-17 22:00:00 & 0 & 0.5\\\\\n",
       "\t5 & JC29f8e61 & 131265730309 & 2019-04-17 22:32:00 & 1 & 1 & 0.5 & vitals & Pulse & 112.0 & 2019-04-17 20:10:00 & 0 & 2.4\\\\\n",
       "\t6 & JC29f8e61 & 131265730309 & 2019-04-17 22:32:00 & 1 & 1 & 0.5 & vitals & Pulse & 102.0 & 2019-04-17 21:00:00 & 0 & 1.5\\\\\n",
       "\\end{tabular}\n"
      ],
      "text/markdown": [
       "\n",
       "A data.frame: 6 × 12\n",
       "\n",
       "| <!--/--> | anon_id &lt;chr&gt; | pat_enc_csn_id_coded &lt;dbl&gt; | admit_time &lt;dttm&gt; | first_label &lt;int&gt; | death_24hr_recent_label &lt;int&gt; | abs_diff0_24 &lt;dbl&gt; | feature_type &lt;chr&gt; | features &lt;chr&gt; | values &lt;dbl&gt; | time &lt;dttm&gt; | transfer &lt;dbl&gt; | hr_before_admit &lt;dbl&gt; |\n",
       "|---|---|---|---|---|---|---|---|---|---|---|---|---|\n",
       "| 1 | JC29f8e61 | 131265730309 | 2019-04-17 22:32:00 | 1 | 1 | 0.5 | vitals | Temp  |  37.2 | 2019-04-17 20:10:00 | 0 | 2.4 |\n",
       "| 2 | JC29f8e61 | 131265730309 | 2019-04-17 22:32:00 | 1 | 1 | 0.5 | vitals | DBP   |  95.0 | 2019-04-17 20:10:00 | 0 | 2.4 |\n",
       "| 3 | JC29f8e61 | 131265730309 | 2019-04-17 22:32:00 | 1 | 1 | 0.5 | vitals | DBP   |  85.0 | 2019-04-17 21:00:00 | 0 | 1.5 |\n",
       "| 4 | JC29f8e61 | 131265730309 | 2019-04-17 22:32:00 | 1 | 1 | 0.5 | vitals | DBP   |  73.0 | 2019-04-17 22:00:00 | 0 | 0.5 |\n",
       "| 5 | JC29f8e61 | 131265730309 | 2019-04-17 22:32:00 | 1 | 1 | 0.5 | vitals | Pulse | 112.0 | 2019-04-17 20:10:00 | 0 | 2.4 |\n",
       "| 6 | JC29f8e61 | 131265730309 | 2019-04-17 22:32:00 | 1 | 1 | 0.5 | vitals | Pulse | 102.0 | 2019-04-17 21:00:00 | 0 | 1.5 |\n",
       "\n"
      ],
      "text/plain": [
       "  anon_id   pat_enc_csn_id_coded admit_time          first_label\n",
       "1 JC29f8e61 131265730309         2019-04-17 22:32:00 1          \n",
       "2 JC29f8e61 131265730309         2019-04-17 22:32:00 1          \n",
       "3 JC29f8e61 131265730309         2019-04-17 22:32:00 1          \n",
       "4 JC29f8e61 131265730309         2019-04-17 22:32:00 1          \n",
       "5 JC29f8e61 131265730309         2019-04-17 22:32:00 1          \n",
       "6 JC29f8e61 131265730309         2019-04-17 22:32:00 1          \n",
       "  death_24hr_recent_label abs_diff0_24 feature_type features values\n",
       "1 1                       0.5          vitals       Temp      37.2 \n",
       "2 1                       0.5          vitals       DBP       95.0 \n",
       "3 1                       0.5          vitals       DBP       85.0 \n",
       "4 1                       0.5          vitals       DBP       73.0 \n",
       "5 1                       0.5          vitals       Pulse    112.0 \n",
       "6 1                       0.5          vitals       Pulse    102.0 \n",
       "  time                transfer hr_before_admit\n",
       "1 2019-04-17 20:10:00 0        2.4            \n",
       "2 2019-04-17 20:10:00 0        2.4            \n",
       "3 2019-04-17 21:00:00 0        1.5            \n",
       "4 2019-04-17 22:00:00 0        0.5            \n",
       "5 2019-04-17 20:10:00 0        2.4            \n",
       "6 2019-04-17 21:00:00 0        1.5            "
      ]
     },
     "metadata": {},
     "output_type": "display_data"
    },
    {
     "data": {
      "text/plain": [
       "   Min. 1st Qu.  Median    Mean 3rd Qu.    Max.    NA's \n",
       "  0.000   0.900   1.700   2.227   2.900  11.100    5353 "
      ]
     },
     "metadata": {},
     "output_type": "display_data"
    },
    {
     "data": {
      "image/png": "[encoded data removed]",
      "text/plain": [
       "plot without title"
      ]
     },
     "metadata": {
      "image/png": {
       "height": 420,
       "width": 420
      }
     },
     "output_type": "display_data"
    },
    {
     "data": {
      "image/png": "[encoded data removed]",
      "text/plain": [
       "Plot with title \"Histogram of results05$hr_before_admit\""
      ]
     },
     "metadata": {
      "image/png": {
       "height": 420,
       "width": 420
      }
     },
     "output_type": "display_data"
    }
   ],
   "source": [
    "head(results05 %>% filter(feature_type == 'vitals'))\n",
    "summary(results05$hr_before_admit)\n",
    "plot(results05$hr_before_admit)\n",
    "hist(results05$hr_before_admit)"
   ]
  },
  {
   "cell_type": "code",
   "execution_count": 28,
   "metadata": {},
   "outputs": [
    {
     "name": "stderr",
     "output_type": "stream",
     "text": [
      "`summarise()` regrouping output by 'pat_enc_csn_id_coded', 'features' (override with `.groups` argument)\n",
      "\n",
      "`summarise()` ungrouping output (override with `.groups` argument)\n",
      "\n"
     ]
    },
    {
     "data": {
      "text/html": [
       "<table>\n",
       "<caption>A tibble: 6 × 2</caption>\n",
       "<thead>\n",
       "\t<tr><th scope=col>features</th><th scope=col>n</th></tr>\n",
       "\t<tr><th scope=col>&lt;fct&gt;</th><th scope=col>&lt;int&gt;</th></tr>\n",
       "</thead>\n",
       "<tbody>\n",
       "\t<tr><td>DBP    </td><td>248</td></tr>\n",
       "\t<tr><td>SBP    </td><td>248</td></tr>\n",
       "\t<tr><td>Pulse  </td><td>245</td></tr>\n",
       "\t<tr><td>RR     </td><td>243</td></tr>\n",
       "\t<tr><td>Glucose</td><td> 94</td></tr>\n",
       "\t<tr><td>Temp   </td><td> 60</td></tr>\n",
       "</tbody>\n",
       "</table>\n"
      ],
      "text/latex": [
       "A tibble: 6 × 2\n",
       "\\begin{tabular}{ll}\n",
       " features & n\\\\\n",
       " <fct> & <int>\\\\\n",
       "\\hline\n",
       "\t DBP     & 248\\\\\n",
       "\t SBP     & 248\\\\\n",
       "\t Pulse   & 245\\\\\n",
       "\t RR      & 243\\\\\n",
       "\t Glucose &  94\\\\\n",
       "\t Temp    &  60\\\\\n",
       "\\end{tabular}\n"
      ],
      "text/markdown": [
       "\n",
       "A tibble: 6 × 2\n",
       "\n",
       "| features &lt;fct&gt; | n &lt;int&gt; |\n",
       "|---|---|\n",
       "| DBP     | 248 |\n",
       "| SBP     | 248 |\n",
       "| Pulse   | 245 |\n",
       "| RR      | 243 |\n",
       "| Glucose |  94 |\n",
       "| Temp    |  60 |\n",
       "\n"
      ],
      "text/plain": [
       "  features n  \n",
       "1 DBP      248\n",
       "2 SBP      248\n",
       "3 Pulse    245\n",
       "4 RR       243\n",
       "5 Glucose   94\n",
       "6 Temp      60"
      ]
     },
     "metadata": {},
     "output_type": "display_data"
    },
    {
     "data": {
      "text/html": [
       "<table>\n",
       "<caption>A grouped_df: 1 × 4</caption>\n",
       "<thead>\n",
       "\t<tr><th scope=col>pat_enc_csn_id_coded</th><th scope=col>features</th><th scope=col>hr_before_admit</th><th scope=col>values</th></tr>\n",
       "\t<tr><th scope=col>&lt;fct&gt;</th><th scope=col>&lt;fct&gt;</th><th scope=col>&lt;dbl&gt;</th><th scope=col>&lt;dbl&gt;</th></tr>\n",
       "</thead>\n",
       "<tbody>\n",
       "\t<tr><td>131261541119</td><td>DBP</td><td>0.2</td><td>60</td></tr>\n",
       "</tbody>\n",
       "</table>\n"
      ],
      "text/latex": [
       "A grouped\\_df: 1 × 4\n",
       "\\begin{tabular}{llll}\n",
       " pat\\_enc\\_csn\\_id\\_coded & features & hr\\_before\\_admit & values\\\\\n",
       " <fct> & <fct> & <dbl> & <dbl>\\\\\n",
       "\\hline\n",
       "\t 131261541119 & DBP & 0.2 & 60\\\\\n",
       "\\end{tabular}\n"
      ],
      "text/markdown": [
       "\n",
       "A grouped_df: 1 × 4\n",
       "\n",
       "| pat_enc_csn_id_coded &lt;fct&gt; | features &lt;fct&gt; | hr_before_admit &lt;dbl&gt; | values &lt;dbl&gt; |\n",
       "|---|---|---|---|\n",
       "| 131261541119 | DBP | 0.2 | 60 |\n",
       "\n"
      ],
      "text/plain": [
       "  pat_enc_csn_id_coded features hr_before_admit values\n",
       "1 131261541119         DBP      0.2             60    "
      ]
     },
     "metadata": {},
     "output_type": "display_data"
    }
   ],
   "source": [
    "results05_vsglu <- results05 %>% filter(feature_type=='vitals' | features==\"Glucose\") %>%\n",
    "                    group_by(pat_enc_csn_id_coded, features, hr_before_admit) %>%\n",
    "                    summarise(values=mean(values, na.rm=TRUE)) %>%\n",
    "                    mutate(pat_enc_csn_id_coded = factor(pat_enc_csn_id_coded),\n",
    "                           features = factor(features))\n",
    "results05_vsglu %>% group_by(features) %>% summarise(n=n()) %>% arrange(-n)\n",
    "head(results05_vsglu, 1)"
   ]
  },
  {
   "cell_type": "code",
   "execution_count": 29,
   "metadata": {},
   "outputs": [
    {
     "name": "stderr",
     "output_type": "stream",
     "text": [
      "Warning message:\n",
      "\"`fun.y` is deprecated. Use `fun` instead.\"\n",
      "`geom_smooth()` using method = 'loess' and formula 'y ~ x'\n",
      "\n"
     ]
    },
    {
     "data": {
      "image/png": "[encoded data removed]",
      "text/plain": [
       "plot without title"
      ]
     },
     "metadata": {
      "image/png": {
       "height": 1800,
       "width": 420
      }
     },
     "output_type": "display_data"
    }
   ],
   "source": [
    "options(repr.plot.width=7, repr.plot.height=30)\n",
    "\n",
    "# p <- ggplot(data = results05_vs, aes(x = hr_before_admit, y = values, group = pat_enc_csn_id_coded)) + facet_grid(. ~ features)\n",
    "# facet_wrap(. ~ features, scales=\"free_y\") # cannot do facet_grid with free scale as above\n",
    "p <- ggplot(data = results05_vsglu, aes(x = hr_before_admit, y = values, group = pat_enc_csn_id_coded)) + facet_grid(features ~ ., scales=\"free\")\n",
    "\n",
    "# use group 1 as for the whole data NOT per csn: so the smooth is not calculated separately for each csn\n",
    "p + geom_line() + stat_smooth(aes(group = 1)) + stat_summary(aes(group = 1), geom = \"point\", fun.y = mean)"
   ]
  },
  {
   "cell_type": "code",
   "execution_count": 42,
   "metadata": {},
   "outputs": [],
   "source": [
    "# results05 wide<- spread(results05, features, values)"
   ]
  },
  {
   "cell_type": "raw",
   "metadata": {},
   "source": [
    "p <- ggplot(data = results05wide, aes(x = hr_before_admit, y = DBP, group = pat_enc_csn_id_coded))\n",
    "p + geom_line()"
   ]
  },
  {
   "cell_type": "markdown",
   "metadata": {},
   "source": [
    "### First obs:\n",
    "- CSN: 131265379414\n",
    "- first_label = death_24hr_recent_label = 1\n",
    "- pred_first = 0.796905; pred_death_24hr_recent = 0.06790455 vs  0.7532933 & 0.06092662"
   ]
  }
 ],
 "metadata": {
  "environment": {
   "name": "r-cpu.4-0.m71",
   "type": "gcloud",
   "uri": "gcr.io/deeplearning-platform-release/r-cpu.4-0:m71"
  },
  "kernelspec": {
   "display_name": "R",
   "language": "R",
   "name": "ir"
  },
  "language_info": {
   "codemirror_mode": "r",
   "file_extension": ".r",
   "mimetype": "text/x-r-source",
   "name": "R",
   "pygments_lexer": "r",
   "version": "4.0.3"
  }
 },
 "nbformat": 4,
 "nbformat_minor": 4
}
