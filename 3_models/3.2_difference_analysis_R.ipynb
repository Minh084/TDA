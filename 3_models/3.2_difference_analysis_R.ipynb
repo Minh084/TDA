{
 "cells": [
  {
   "cell_type": "markdown",
   "metadata": {},
   "source": [
    "### Description\n",
    "- Investigate prediction differences between labels at time 0 and 24hr\n",
    "- Only 318 observations with differences >= 0.3\n",
    "\n",
    "Check\n",
    "1. Diagnosis\n",
    "2. Medications\n",
    "3. Vital trend\n",
    "4. Lab trend, esp. glucose\n",
    "5. ADT trajectories, team (Tiffany)\n",
    "6. Demographics (Tiffany)\n",
    "7.\n",
    "\n",
    "\n",
    "Inputs: all from 3.1_notebook\n",
    "- `1_4_cohort_diff_full_features`: under modelfir4 or modeldir4preadmit\n",
    "    - feature_type with the first letter capitalized is for order counts such as Lab\n",
    "    - feature_type with all lowercase is for actual values: demo, vitals, and labs\n",
    "    - gender = 1 is for female\n",
    "- `1_4_cohort_test_results`: under modeldir4 or modeldir4preadmit\n",
    "- `1_4_cohort_full_features`: under modeldir4\n",
    "- `1_4_cohort_24hrpreadmit_full_features`: under featuredir, all cohort with all features within 24hr prior to admit_time\n",
    "\n",
    "Notes:\n",
    "- prediction results did not change using either one of those 2 sets of obeservation: meaning add\n",
    "- the small cohort might be slightly different. will look further into this"
   ]
  },
  {
   "cell_type": "code",
   "execution_count": 1,
   "metadata": {},
   "outputs": [
    {
     "name": "stderr",
     "output_type": "stream",
     "text": [
      "Loading required package: lattice\n",
      "\n",
      "Loading required package: ggplot2\n",
      "\n",
      "── \u001b[1mAttaching packages\u001b[22m ─────────────────────────────────────── tidyverse 1.3.1 ──\n",
      "\n",
      "\u001b[32m✔\u001b[39m \u001b[34mtibble \u001b[39m 3.1.2     \u001b[32m✔\u001b[39m \u001b[34mdplyr  \u001b[39m 1.0.6\n",
      "\u001b[32m✔\u001b[39m \u001b[34mtidyr  \u001b[39m 1.1.3     \u001b[32m✔\u001b[39m \u001b[34mstringr\u001b[39m 1.4.0\n",
      "\u001b[32m✔\u001b[39m \u001b[34mreadr  \u001b[39m 1.4.0     \u001b[32m✔\u001b[39m \u001b[34mforcats\u001b[39m 0.5.1\n",
      "\u001b[32m✔\u001b[39m \u001b[34mpurrr  \u001b[39m 0.3.4     \n",
      "\n",
      "── \u001b[1mConflicts\u001b[22m ────────────────────────────────────────── tidyverse_conflicts() ──\n",
      "\u001b[31m✖\u001b[39m \u001b[34mdplyr\u001b[39m::\u001b[32mbetween()\u001b[39m   masks \u001b[34mdata.table\u001b[39m::between()\n",
      "\u001b[31m✖\u001b[39m \u001b[34mdplyr\u001b[39m::\u001b[32mfilter()\u001b[39m    masks \u001b[34mstats\u001b[39m::filter()\n",
      "\u001b[31m✖\u001b[39m \u001b[34mdplyr\u001b[39m::\u001b[32mfirst()\u001b[39m     masks \u001b[34mdata.table\u001b[39m::first()\n",
      "\u001b[31m✖\u001b[39m \u001b[34mdplyr\u001b[39m::\u001b[32mlag()\u001b[39m       masks \u001b[34mstats\u001b[39m::lag()\n",
      "\u001b[31m✖\u001b[39m \u001b[34mdplyr\u001b[39m::\u001b[32mlast()\u001b[39m      masks \u001b[34mdata.table\u001b[39m::last()\n",
      "\u001b[31m✖\u001b[39m \u001b[34mpurrr\u001b[39m::\u001b[32mlift()\u001b[39m      masks \u001b[34mcaret\u001b[39m::lift()\n",
      "\u001b[31m✖\u001b[39m \u001b[34mpurrr\u001b[39m::\u001b[32mtranspose()\u001b[39m masks \u001b[34mdata.table\u001b[39m::transpose()\n",
      "\n",
      "\n",
      "Attaching package: ‘lubridate’\n",
      "\n",
      "\n",
      "The following objects are masked from ‘package:data.table’:\n",
      "\n",
      "    hour, isoweek, mday, minute, month, quarter, second, wday, week,\n",
      "    yday, year\n",
      "\n",
      "\n",
      "The following objects are masked from ‘package:base’:\n",
      "\n",
      "    date, intersect, setdiff, union\n",
      "\n",
      "\n",
      "\n",
      "Attaching package: ‘Matrix’\n",
      "\n",
      "\n",
      "The following objects are masked from ‘package:tidyr’:\n",
      "\n",
      "    expand, pack, unpack\n",
      "\n",
      "\n",
      "Loaded glmnet 4.1-1\n",
      "\n",
      "Loading required package: bit\n",
      "\n",
      "\n",
      "Attaching package: ‘bit’\n",
      "\n",
      "\n",
      "The following object is masked from ‘package:data.table’:\n",
      "\n",
      "    setattr\n",
      "\n",
      "\n",
      "The following object is masked from ‘package:base’:\n",
      "\n",
      "    xor\n",
      "\n",
      "\n",
      "Attaching package bit64\n",
      "\n",
      "package:bit64 (c) 2011-2017 Jens Oehlschlaegel\n",
      "\n",
      "creators: integer64 runif64 seq :\n",
      "\n",
      "coercion: as.integer64 as.vector as.logical as.integer as.double as.character as.bitstring\n",
      "\n",
      "logical operator: ! & | xor != == < <= >= >\n",
      "\n",
      "arithmetic operator: + - * / %/% %% ^\n",
      "\n",
      "math: sign abs sqrt log log2 log10\n",
      "\n",
      "math: floor ceiling trunc round\n",
      "\n",
      "querying: is.integer64 is.vector [is.atomic} [length] format print str\n",
      "\n",
      "values: is.na is.nan is.finite is.infinite\n",
      "\n",
      "aggregation: any all min max range sum prod\n",
      "\n",
      "cumulation: diff cummin cummax cumsum cumprod\n",
      "\n",
      "access: length<- [ [<- [[ [[<-\n",
      "\n",
      "combine: c rep cbind rbind as.data.frame\n",
      "\n",
      "WARNING don't use as subscripts\n",
      "\n",
      "WARNING semantics differ from integer\n",
      "\n",
      "for more help type ?bit64\n",
      "\n",
      "\n",
      "Attaching package: ‘bit64’\n",
      "\n",
      "\n",
      "The following objects are masked from ‘package:base’:\n",
      "\n",
      "    :, %in%, is.double, match, order, rank\n",
      "\n",
      "\n",
      "Type 'citation(\"pROC\")' for a citation.\n",
      "\n",
      "\n",
      "Attaching package: ‘pROC’\n",
      "\n",
      "\n",
      "The following objects are masked from ‘package:stats’:\n",
      "\n",
      "    cov, smooth, var\n",
      "\n",
      "\n",
      "Loading required package: Hmisc\n",
      "\n",
      "Loading required package: survival\n",
      "\n",
      "\n",
      "Attaching package: ‘survival’\n",
      "\n",
      "\n",
      "The following object is masked from ‘package:caret’:\n",
      "\n",
      "    cluster\n",
      "\n",
      "\n",
      "Loading required package: Formula\n",
      "\n",
      "\n",
      "Attaching package: ‘Hmisc’\n",
      "\n",
      "\n",
      "The following objects are masked from ‘package:dplyr’:\n",
      "\n",
      "    src, summarize\n",
      "\n",
      "\n",
      "The following objects are masked from ‘package:base’:\n",
      "\n",
      "    format.pval, units\n",
      "\n",
      "\n",
      "Loading required package: SparseM\n",
      "\n",
      "\n",
      "Attaching package: ‘SparseM’\n",
      "\n",
      "\n",
      "The following object is masked from ‘package:base’:\n",
      "\n",
      "    backsolve\n",
      "\n",
      "\n"
     ]
    }
   ],
   "source": [
    "library(caret) # import this before glmnet to avoid rlang version problem\n",
    "library(data.table)\n",
    "library(tidyverse)\n",
    "library(lubridate)\n",
    "library(Matrix)\n",
    "library(glmnet)\n",
    "library(bit64)\n",
    "library(pROC)\n",
    "library(rms)"
   ]
  },
  {
   "cell_type": "code",
   "execution_count": 2,
   "metadata": {},
   "outputs": [],
   "source": [
    "# directories\n",
    "datadir = \"../../DataTD\"\n",
    "cohortdir = \"../../OutputTD/1_cohort\"\n",
    "featuredir = \"../../OutputTD/2_features\"\n",
    "# modeldir4 = \"../../OutputTD/3_models/1_4_cohort\"\n",
    "modeldir4preadmit = \"../../OutputTD/3_models/1_4_cohort_24hrpreadmit\"\n",
    "\n",
    "# display rows and cols\n",
    "options(repr.matrix.max.rows=250, repr.matrix.max.cols=30)"
   ]
  },
  {
   "cell_type": "code",
   "execution_count": 3,
   "metadata": {},
   "outputs": [
    {
     "data": {
      "text/html": [
       "69334"
      ],
      "text/latex": [
       "69334"
      ],
      "text/markdown": [
       "69334"
      ],
      "text/plain": [
       "[1] 69334"
      ]
     },
     "metadata": {},
     "output_type": "display_data"
    },
    {
     "data": {
      "text/html": [
       "<style>\n",
       ".list-inline {list-style: none; margin:0; padding: 0}\n",
       ".list-inline>li {display: inline-block}\n",
       ".list-inline>li:not(:last-child)::after {content: \"\\00b7\"; padding: 0 .5ex}\n",
       "</style>\n",
       "<ol class=list-inline><li>'anon_id'</li><li>'pat_enc_csn_id_coded'</li><li>'admit_time'</li><li>'first_label'</li><li>'death_24hr_recent_label'</li><li>'death_24hr_max_label'</li><li>'pred_first'</li><li>'pred_death_24hr_recent'</li><li>'abs_diff0_24'</li><li>'diff0_True'</li><li>'diff24_True'</li><li>'feature_type'</li><li>'features'</li><li>'values'</li><li>'time'</li><li>'hr_before_admit'</li></ol>\n"
      ],
      "text/latex": [
       "\\begin{enumerate*}\n",
       "\\item 'anon\\_id'\n",
       "\\item 'pat\\_enc\\_csn\\_id\\_coded'\n",
       "\\item 'admit\\_time'\n",
       "\\item 'first\\_label'\n",
       "\\item 'death\\_24hr\\_recent\\_label'\n",
       "\\item 'death\\_24hr\\_max\\_label'\n",
       "\\item 'pred\\_first'\n",
       "\\item 'pred\\_death\\_24hr\\_recent'\n",
       "\\item 'abs\\_diff0\\_24'\n",
       "\\item 'diff0\\_True'\n",
       "\\item 'diff24\\_True'\n",
       "\\item 'feature\\_type'\n",
       "\\item 'features'\n",
       "\\item 'values'\n",
       "\\item 'time'\n",
       "\\item 'hr\\_before\\_admit'\n",
       "\\end{enumerate*}\n"
      ],
      "text/markdown": [
       "1. 'anon_id'\n",
       "2. 'pat_enc_csn_id_coded'\n",
       "3. 'admit_time'\n",
       "4. 'first_label'\n",
       "5. 'death_24hr_recent_label'\n",
       "6. 'death_24hr_max_label'\n",
       "7. 'pred_first'\n",
       "8. 'pred_death_24hr_recent'\n",
       "9. 'abs_diff0_24'\n",
       "10. 'diff0_True'\n",
       "11. 'diff24_True'\n",
       "12. 'feature_type'\n",
       "13. 'features'\n",
       "14. 'values'\n",
       "15. 'time'\n",
       "16. 'hr_before_admit'\n",
       "\n",
       "\n"
      ],
      "text/plain": [
       " [1] \"anon_id\"                 \"pat_enc_csn_id_coded\"   \n",
       " [3] \"admit_time\"              \"first_label\"            \n",
       " [5] \"death_24hr_recent_label\" \"death_24hr_max_label\"   \n",
       " [7] \"pred_first\"              \"pred_death_24hr_recent\" \n",
       " [9] \"abs_diff0_24\"            \"diff0_True\"             \n",
       "[11] \"diff24_True\"             \"feature_type\"           \n",
       "[13] \"features\"                \"values\"                 \n",
       "[15] \"time\"                    \"hr_before_admit\"        "
      ]
     },
     "metadata": {},
     "output_type": "display_data"
    },
    {
     "data": {
      "text/html": [
       "<table class=\"dataframe\">\n",
       "<caption>A tibble: 9 × 2</caption>\n",
       "<thead>\n",
       "\t<tr><th scope=col>feature_type</th><th scope=col>n</th></tr>\n",
       "\t<tr><th scope=col>&lt;chr&gt;</th><th scope=col>&lt;int&gt;</th></tr>\n",
       "</thead>\n",
       "<tbody>\n",
       "\t<tr><td>Microbiology</td><td>  195</td></tr>\n",
       "\t<tr><td>Procedures  </td><td>  491</td></tr>\n",
       "\t<tr><td>Imaging     </td><td> 1938</td></tr>\n",
       "\t<tr><td>demo        </td><td> 5508</td></tr>\n",
       "\t<tr><td>Lab         </td><td> 6106</td></tr>\n",
       "\t<tr><td>Meds        </td><td>11867</td></tr>\n",
       "\t<tr><td>labs        </td><td>12497</td></tr>\n",
       "\t<tr><td>vitals      </td><td>13088</td></tr>\n",
       "\t<tr><td>Diagnosis   </td><td>17644</td></tr>\n",
       "</tbody>\n",
       "</table>\n"
      ],
      "text/latex": [
       "A tibble: 9 × 2\n",
       "\\begin{tabular}{ll}\n",
       " feature\\_type & n\\\\\n",
       " <chr> & <int>\\\\\n",
       "\\hline\n",
       "\t Microbiology &   195\\\\\n",
       "\t Procedures   &   491\\\\\n",
       "\t Imaging      &  1938\\\\\n",
       "\t demo         &  5508\\\\\n",
       "\t Lab          &  6106\\\\\n",
       "\t Meds         & 11867\\\\\n",
       "\t labs         & 12497\\\\\n",
       "\t vitals       & 13088\\\\\n",
       "\t Diagnosis    & 17644\\\\\n",
       "\\end{tabular}\n"
      ],
      "text/markdown": [
       "\n",
       "A tibble: 9 × 2\n",
       "\n",
       "| feature_type &lt;chr&gt; | n &lt;int&gt; |\n",
       "|---|---|\n",
       "| Microbiology |   195 |\n",
       "| Procedures   |   491 |\n",
       "| Imaging      |  1938 |\n",
       "| demo         |  5508 |\n",
       "| Lab          |  6106 |\n",
       "| Meds         | 11867 |\n",
       "| labs         | 12497 |\n",
       "| vitals       | 13088 |\n",
       "| Diagnosis    | 17644 |\n",
       "\n"
      ],
      "text/plain": [
       "  feature_type n    \n",
       "1 Microbiology   195\n",
       "2 Procedures     491\n",
       "3 Imaging       1938\n",
       "4 demo          5508\n",
       "5 Lab           6106\n",
       "6 Meds         11867\n",
       "7 labs         12497\n",
       "8 vitals       13088\n",
       "9 Diagnosis    17644"
      ]
     },
     "metadata": {},
     "output_type": "display_data"
    }
   ],
   "source": [
    "coh_diff <- read.csv(file.path(modeldir4preadmit, '1_4_cohort_diff_full_features.csv'))\n",
    "nrow(coh_diff) #69334 for the updated obs\n",
    "coh_diff <-  coh_diff %>% mutate(admit_time = ymd_hms(admit_time), time =  ymd_hms(time))\n",
    "colnames(coh_diff)\n",
    "\n",
    "coh_diff %>% group_by(feature_type) %>% summarise(n = n()) %>% arrange(n)"
   ]
  },
  {
   "cell_type": "code",
   "execution_count": 7,
   "metadata": {},
   "outputs": [
    {
     "name": "stderr",
     "output_type": "stream",
     "text": [
      "Scale for 'x' is already present. Adding another scale for 'x', which will\n",
      "replace the existing scale.\n",
      "\n",
      "Scale for 'y' is already present. Adding another scale for 'y', which will\n",
      "replace the existing scale.\n",
      "\n"
     ]
    },
    {
     "data": {
      "image/png": "[encoded data removed]",
      "text/plain": [
       "plot without title"
      ]
     },
     "metadata": {
      "image/png": {
       "height": 420,
       "width": 420
      }
     },
     "output_type": "display_data"
    }
   ],
   "source": [
    "options(repr.plot.width=7, repr.plot.height=7)\n",
    "\n",
    "ggplot(coh_diff, aes(x=pred_first, y=pred_death_24hr_recent)) + \n",
    "    geom_point(color = \"#0072B2\", size = 1) + xlim(0,1) + ylim(0,1) +\n",
    "    geom_abline(intercept = 0, slope = 1, size = 0.7) +\n",
    "    geom_abline(intercept = 0.3, slope = 1, size = 0.7, linetype=2, color = \"#D55E00\") +\n",
    "    geom_abline(intercept = -0.3, slope = 1, size = 0.7, linetype=2, color = \"#D55E00\") +\n",
    "    scale_x_continuous(name = \"predicted values for time 0\", expand = c(0, 0), limits=c(0, 1), \n",
    "                       breaks=c(0, 0.2, 0.4, 0.6, 0.8, 1)) + \n",
    "    scale_y_continuous(name = \" predicted values for time 24\", expand = c(0, 0), limits=c(0, 1), \n",
    "                       breaks=c(0, 0.2, 0.4, 0.6, 0.8, 1)) +\n",
    "    theme(axis.text=element_text(size=12),\n",
    "          axis.text.x = element_text(margin=margin(0, 0, 10, 0)),\n",
    "          axis.text.y = element_text(margin=margin(0, 0, 0, 10)),\n",
    "          plot.title = element_text(size=16, hjust=0.5, margin=margin(0, 0, 10, 0)),\n",
    "          axis.title=element_text(size=14)) +\n",
    "     labs(title = \"Predicted values: time 0 vs time 24\")\n"
   ]
  },
  {
   "cell_type": "markdown",
   "metadata": {},
   "source": [
    "### Check most difference first\n",
    "- 0.7 or more: 3\n",
    "- 0.6 or more: 11\n",
    "- 0.5 or more: 33\n",
    "\n",
    "These observations include those who transferred and those who didn't.\n",
    "\n",
    "Difference scenarios:\n",
    "- 1st label != 24hr label: (transfers)\n",
    "    - both predicted correctly or close enough\n",
    "    - one wrong and one right\n",
    "- 1st label == 24hr label: (same)\n",
    "    - both predicted correctly or close enough\n",
    "    - one wrong and one right\n",
    "    \n",
    "With the intention to check `model output differences`, all of the read-in data: \n",
    "- there is a huge difference btwn the 2 predicted outputs\n",
    "- regardless whether 1st label != or == 24hr label\n",
    "\n",
    "With the intention to investigate those who transferred, we are interested in the subgroup where *1st label != 24hr label*\n",
    "\n",
    "Note that the same model architecture was used with 2 different labels. Binary threshold from the triage paper was 0.6"
   ]
  },
  {
   "cell_type": "code",
   "execution_count": 11,
   "metadata": {},
   "outputs": [
    {
     "data": {
      "text/html": [
       "<table class=\"dataframe\">\n",
       "<caption>A tibble: 5 × 5</caption>\n",
       "<thead>\n",
       "\t<tr><th scope=col>abs_diff0_24</th><th scope=col>nrows</th><th scope=col>count_csn</th><th scope=col>count_mrn</th><th scope=col>cum_csn</th></tr>\n",
       "\t<tr><th scope=col>&lt;dbl&gt;</th><th scope=col>&lt;int&gt;</th><th scope=col>&lt;int&gt;</th><th scope=col>&lt;int&gt;</th><th scope=col>&lt;int&gt;</th></tr>\n",
       "</thead>\n",
       "<tbody>\n",
       "\t<tr><td>0.7</td><td>  631</td><td>  4</td><td>  4</td><td>  4</td></tr>\n",
       "\t<tr><td>0.6</td><td> 2218</td><td> 10</td><td> 10</td><td> 14</td></tr>\n",
       "\t<tr><td>0.5</td><td> 6379</td><td> 23</td><td> 21</td><td> 37</td></tr>\n",
       "\t<tr><td>0.4</td><td>17906</td><td> 83</td><td> 82</td><td>120</td></tr>\n",
       "\t<tr><td>0.3</td><td>42200</td><td>204</td><td>203</td><td>324</td></tr>\n",
       "</tbody>\n",
       "</table>\n"
      ],
      "text/latex": [
       "A tibble: 5 × 5\n",
       "\\begin{tabular}{lllll}\n",
       " abs\\_diff0\\_24 & nrows & count\\_csn & count\\_mrn & cum\\_csn\\\\\n",
       " <dbl> & <int> & <int> & <int> & <int>\\\\\n",
       "\\hline\n",
       "\t 0.7 &   631 &   4 &   4 &   4\\\\\n",
       "\t 0.6 &  2218 &  10 &  10 &  14\\\\\n",
       "\t 0.5 &  6379 &  23 &  21 &  37\\\\\n",
       "\t 0.4 & 17906 &  83 &  82 & 120\\\\\n",
       "\t 0.3 & 42200 & 204 & 203 & 324\\\\\n",
       "\\end{tabular}\n"
      ],
      "text/markdown": [
       "\n",
       "A tibble: 5 × 5\n",
       "\n",
       "| abs_diff0_24 &lt;dbl&gt; | nrows &lt;int&gt; | count_csn &lt;int&gt; | count_mrn &lt;int&gt; | cum_csn &lt;int&gt; |\n",
       "|---|---|---|---|---|\n",
       "| 0.7 |   631 |   4 |   4 |   4 |\n",
       "| 0.6 |  2218 |  10 |  10 |  14 |\n",
       "| 0.5 |  6379 |  23 |  21 |  37 |\n",
       "| 0.4 | 17906 |  83 |  82 | 120 |\n",
       "| 0.3 | 42200 | 204 | 203 | 324 |\n",
       "\n"
      ],
      "text/plain": [
       "  abs_diff0_24 nrows count_csn count_mrn cum_csn\n",
       "1 0.7            631   4         4         4    \n",
       "2 0.6           2218  10        10        14    \n",
       "3 0.5           6379  23        21        37    \n",
       "4 0.4          17906  83        82       120    \n",
       "5 0.3          42200 204       203       324    "
      ]
     },
     "metadata": {},
     "output_type": "display_data"
    }
   ],
   "source": [
    "# count features and csn\n",
    "diff <- coh_diff %>% \n",
    "            group_by(abs_diff0_24) %>% \n",
    "            summarise(nrows = n(), count_csn = n_distinct(pat_enc_csn_id_coded), count_mrn = n_distinct(anon_id)) %>% \n",
    "            arrange(-abs_diff0_24) %>% mutate(cum_csn = cumsum(count_csn))\n",
    "\n",
    "diff"
   ]
  },
  {
   "cell_type": "markdown",
   "metadata": {},
   "source": [
    "### Check those with diff >= 0.5 first:\n",
    "to get some insight before expanding "
   ]
  },
  {
   "cell_type": "code",
   "execution_count": 5,
   "metadata": {},
   "outputs": [
    {
     "data": {
      "text/html": [
       "37"
      ],
      "text/latex": [
       "37"
      ],
      "text/markdown": [
       "37"
      ],
      "text/plain": [
       "[1] 37"
      ]
     },
     "metadata": {},
     "output_type": "display_data"
    },
    {
     "data": {
      "text/html": [
       "32"
      ],
      "text/latex": [
       "32"
      ],
      "text/markdown": [
       "32"
      ],
      "text/plain": [
       "[1] 32"
      ]
     },
     "metadata": {},
     "output_type": "display_data"
    },
    {
     "data": {
      "text/html": [
       "9228"
      ],
      "text/latex": [
       "9228"
      ],
      "text/markdown": [
       "9228"
      ],
      "text/plain": [
       "[1] 9228"
      ]
     },
     "metadata": {},
     "output_type": "display_data"
    },
    {
     "data": {
      "text/html": [
       "<style>\n",
       ".list-inline {list-style: none; margin:0; padding: 0}\n",
       ".list-inline>li {display: inline-block}\n",
       ".list-inline>li:not(:last-child)::after {content: \"\\00b7\"; padding: 0 .5ex}\n",
       "</style>\n",
       "<ol class=list-inline><li>'anon_id'</li><li>'pat_enc_csn_id_coded'</li><li>'admit_time'</li><li>'first_label'</li><li>'death_24hr_recent_label'</li><li>'death_24hr_max_label'</li><li>'pred_first'</li><li>'pred_death_24hr_recent'</li><li>'abs_diff0_24'</li><li>'diff0_True'</li><li>'diff24_True'</li><li>'feature_type'</li><li>'features'</li><li>'values'</li><li>'time'</li><li>'hr_before_admit'</li></ol>\n"
      ],
      "text/latex": [
       "\\begin{enumerate*}\n",
       "\\item 'anon\\_id'\n",
       "\\item 'pat\\_enc\\_csn\\_id\\_coded'\n",
       "\\item 'admit\\_time'\n",
       "\\item 'first\\_label'\n",
       "\\item 'death\\_24hr\\_recent\\_label'\n",
       "\\item 'death\\_24hr\\_max\\_label'\n",
       "\\item 'pred\\_first'\n",
       "\\item 'pred\\_death\\_24hr\\_recent'\n",
       "\\item 'abs\\_diff0\\_24'\n",
       "\\item 'diff0\\_True'\n",
       "\\item 'diff24\\_True'\n",
       "\\item 'feature\\_type'\n",
       "\\item 'features'\n",
       "\\item 'values'\n",
       "\\item 'time'\n",
       "\\item 'hr\\_before\\_admit'\n",
       "\\end{enumerate*}\n"
      ],
      "text/markdown": [
       "1. 'anon_id'\n",
       "2. 'pat_enc_csn_id_coded'\n",
       "3. 'admit_time'\n",
       "4. 'first_label'\n",
       "5. 'death_24hr_recent_label'\n",
       "6. 'death_24hr_max_label'\n",
       "7. 'pred_first'\n",
       "8. 'pred_death_24hr_recent'\n",
       "9. 'abs_diff0_24'\n",
       "10. 'diff0_True'\n",
       "11. 'diff24_True'\n",
       "12. 'feature_type'\n",
       "13. 'features'\n",
       "14. 'values'\n",
       "15. 'time'\n",
       "16. 'hr_before_admit'\n",
       "\n",
       "\n"
      ],
      "text/plain": [
       " [1] \"anon_id\"                 \"pat_enc_csn_id_coded\"   \n",
       " [3] \"admit_time\"              \"first_label\"            \n",
       " [5] \"death_24hr_recent_label\" \"death_24hr_max_label\"   \n",
       " [7] \"pred_first\"              \"pred_death_24hr_recent\" \n",
       " [9] \"abs_diff0_24\"            \"diff0_True\"             \n",
       "[11] \"diff24_True\"             \"feature_type\"           \n",
       "[13] \"features\"                \"values\"                 \n",
       "[15] \"time\"                    \"hr_before_admit\"        "
      ]
     },
     "metadata": {},
     "output_type": "display_data"
    }
   ],
   "source": [
    "d05 <- coh_diff %>% filter(abs_diff0_24 >= 0.5)\n",
    "length(unique(d05$pat_enc_csn_id_coded))\n",
    "length(unique(d05$anon_id)) # 5 repeated anon_id\n",
    "nrow(d05)\n",
    "colnames(d05)"
   ]
  },
  {
   "cell_type": "markdown",
   "metadata": {},
   "source": [
    "### top CSNs\n",
    "- top 3 vs 4 (diff >= 0.7): 131276655148, `131273666433`, 131271804263, 131265379414\n",
    "- next 8 vs 10 (diff >= 0.6 and < 0.7): \n",
    "    - 131287638900, 131285560953, 131283367768, 131283156969, 131275893768, 131275001383, `131273666433`, 131273021618 (OLD)\n",
    "    - 131287638900, 131285560953, 131283367768, `131278883571`, 131275001383, 131273021618, `131271881424`, `131268470191`, `131267990870`, `131266865289`"
   ]
  },
  {
   "cell_type": "code",
   "execution_count": 6,
   "metadata": {},
   "outputs": [
    {
     "data": {
      "text/html": [
       "<style>\n",
       ".list-inline {list-style: none; margin:0; padding: 0}\n",
       ".list-inline>li {display: inline-block}\n",
       ".list-inline>li:not(:last-child)::after {content: \"\\00b7\"; padding: 0 .5ex}\n",
       "</style>\n",
       "<ol class=list-inline><li>131265379414</li><li>131271804263</li><li>131273666433</li><li>131276655148</li></ol>\n"
      ],
      "text/latex": [
       "\\begin{enumerate*}\n",
       "\\item 131265379414\n",
       "\\item 131271804263\n",
       "\\item 131273666433\n",
       "\\item 131276655148\n",
       "\\end{enumerate*}\n"
      ],
      "text/markdown": [
       "1. 131265379414\n",
       "2. 131271804263\n",
       "3. 131273666433\n",
       "4. 131276655148\n",
       "\n",
       "\n"
      ],
      "text/plain": [
       "[1] 131265379414 131271804263 131273666433 131276655148"
      ]
     },
     "metadata": {},
     "output_type": "display_data"
    },
    {
     "data": {
      "text/html": [
       "<style>\n",
       ".list-inline {list-style: none; margin:0; padding: 0}\n",
       ".list-inline>li {display: inline-block}\n",
       ".list-inline>li:not(:last-child)::after {content: \"\\00b7\"; padding: 0 .5ex}\n",
       "</style>\n",
       "<ol class=list-inline><li>131266865289</li><li>131267990870</li><li>131268470191</li><li>131271881424</li><li>131273021618</li><li>131275001383</li><li>131278883571</li><li>131283367768</li><li>131285560953</li><li>131287638900</li></ol>\n"
      ],
      "text/latex": [
       "\\begin{enumerate*}\n",
       "\\item 131266865289\n",
       "\\item 131267990870\n",
       "\\item 131268470191\n",
       "\\item 131271881424\n",
       "\\item 131273021618\n",
       "\\item 131275001383\n",
       "\\item 131278883571\n",
       "\\item 131283367768\n",
       "\\item 131285560953\n",
       "\\item 131287638900\n",
       "\\end{enumerate*}\n"
      ],
      "text/markdown": [
       "1. 131266865289\n",
       "2. 131267990870\n",
       "3. 131268470191\n",
       "4. 131271881424\n",
       "5. 131273021618\n",
       "6. 131275001383\n",
       "7. 131278883571\n",
       "8. 131283367768\n",
       "9. 131285560953\n",
       "10. 131287638900\n",
       "\n",
       "\n"
      ],
      "text/plain": [
       " [1] 131266865289 131267990870 131268470191 131271881424 131273021618\n",
       " [6] 131275001383 131278883571 131283367768 131285560953 131287638900"
      ]
     },
     "metadata": {},
     "output_type": "display_data"
    }
   ],
   "source": [
    "# top 4 csn\n",
    "# as.list(distinct(coh_diff %>% filter(abs_diff0_24 >= 0.7) %>% select(pat_enc_csn_id_coded)) %>% arrange(-pat_enc_csn_id_coded))\n",
    "csn1 <- sort(unique(coh_diff[coh_diff$abs_diff0_24 >= 0.7, ]$pat_enc_csn_id_coded))\n",
    "csn1\n",
    "\n",
    "# next 10 csn\n",
    "csn2 <- sort(unique(coh_diff[coh_diff$abs_diff0_24 >= 0.6 &  coh_diff$abs_diff0_24 < 0.7, ]$pat_enc_csn_id_coded))\n",
    "csn2"
   ]
  },
  {
   "cell_type": "code",
   "execution_count": 7,
   "metadata": {},
   "outputs": [
    {
     "data": {
      "text/html": [
       "631"
      ],
      "text/latex": [
       "631"
      ],
      "text/markdown": [
       "631"
      ],
      "text/plain": [
       "[1] 631"
      ]
     },
     "metadata": {},
     "output_type": "display_data"
    },
    {
     "name": "stderr",
     "output_type": "stream",
     "text": [
      "`summarise()` has grouped output by 'anon_id'. You can override using the `.groups` argument.\n",
      "\n"
     ]
    },
    {
     "data": {
      "text/html": [
       "<table class=\"dataframe\">\n",
       "<caption>A grouped_df: 4 × 3</caption>\n",
       "<thead>\n",
       "\t<tr><th scope=col>anon_id</th><th scope=col>pat_enc_csn_id_coded</th><th scope=col>n</th></tr>\n",
       "\t<tr><th scope=col>&lt;chr&gt;</th><th scope=col>&lt;dbl&gt;</th><th scope=col>&lt;int&gt;</th></tr>\n",
       "</thead>\n",
       "<tbody>\n",
       "\t<tr><td>JC29fe5a7</td><td>131273666433</td><td> 70</td></tr>\n",
       "\t<tr><td>JCd1a421 </td><td>131265379414</td><td>109</td></tr>\n",
       "\t<tr><td>JCd91ab7 </td><td>131271804263</td><td>236</td></tr>\n",
       "\t<tr><td>JCe6286a </td><td>131276655148</td><td>216</td></tr>\n",
       "</tbody>\n",
       "</table>\n"
      ],
      "text/latex": [
       "A grouped\\_df: 4 × 3\n",
       "\\begin{tabular}{lll}\n",
       " anon\\_id & pat\\_enc\\_csn\\_id\\_coded & n\\\\\n",
       " <chr> & <dbl> & <int>\\\\\n",
       "\\hline\n",
       "\t JC29fe5a7 & 131273666433 &  70\\\\\n",
       "\t JCd1a421  & 131265379414 & 109\\\\\n",
       "\t JCd91ab7  & 131271804263 & 236\\\\\n",
       "\t JCe6286a  & 131276655148 & 216\\\\\n",
       "\\end{tabular}\n"
      ],
      "text/markdown": [
       "\n",
       "A grouped_df: 4 × 3\n",
       "\n",
       "| anon_id &lt;chr&gt; | pat_enc_csn_id_coded &lt;dbl&gt; | n &lt;int&gt; |\n",
       "|---|---|---|\n",
       "| JC29fe5a7 | 131273666433 |  70 |\n",
       "| JCd1a421  | 131265379414 | 109 |\n",
       "| JCd91ab7  | 131271804263 | 236 |\n",
       "| JCe6286a  | 131276655148 | 216 |\n",
       "\n"
      ],
      "text/plain": [
       "  anon_id   pat_enc_csn_id_coded n  \n",
       "1 JC29fe5a7 131273666433          70\n",
       "2 JCd1a421  131265379414         109\n",
       "3 JCd91ab7  131271804263         236\n",
       "4 JCe6286a  131276655148         216"
      ]
     },
     "metadata": {},
     "output_type": "display_data"
    },
    {
     "name": "stderr",
     "output_type": "stream",
     "text": [
      "Adding missing grouping variables: `pat_enc_csn_id_coded`\n",
      "\n"
     ]
    },
    {
     "data": {
      "text/html": [
       "<table class=\"dataframe\">\n",
       "<caption>A grouped_df: 4 × 5</caption>\n",
       "<thead>\n",
       "\t<tr><th scope=col>pat_enc_csn_id_coded</th><th scope=col>first_label</th><th scope=col>death_24hr_recent_label</th><th scope=col>pred_first</th><th scope=col>pred_death_24hr_recent</th></tr>\n",
       "\t<tr><th scope=col>&lt;dbl&gt;</th><th scope=col>&lt;int&gt;</th><th scope=col>&lt;int&gt;</th><th scope=col>&lt;dbl&gt;</th><th scope=col>&lt;dbl&gt;</th></tr>\n",
       "</thead>\n",
       "<tbody>\n",
       "\t<tr><td>131276655148</td><td>1</td><td>0</td><td>0.7316375</td><td>0.08463386</td></tr>\n",
       "\t<tr><td>131273666433</td><td>1</td><td>1</td><td>0.8026202</td><td>0.08937129</td></tr>\n",
       "\t<tr><td>131271804263</td><td>1</td><td>0</td><td>0.8538859</td><td>0.14609018</td></tr>\n",
       "\t<tr><td>131265379414</td><td>1</td><td>1</td><td>0.7532933</td><td>0.06092662</td></tr>\n",
       "</tbody>\n",
       "</table>\n"
      ],
      "text/latex": [
       "A grouped\\_df: 4 × 5\n",
       "\\begin{tabular}{lllll}\n",
       " pat\\_enc\\_csn\\_id\\_coded & first\\_label & death\\_24hr\\_recent\\_label & pred\\_first & pred\\_death\\_24hr\\_recent\\\\\n",
       " <dbl> & <int> & <int> & <dbl> & <dbl>\\\\\n",
       "\\hline\n",
       "\t 131276655148 & 1 & 0 & 0.7316375 & 0.08463386\\\\\n",
       "\t 131273666433 & 1 & 1 & 0.8026202 & 0.08937129\\\\\n",
       "\t 131271804263 & 1 & 0 & 0.8538859 & 0.14609018\\\\\n",
       "\t 131265379414 & 1 & 1 & 0.7532933 & 0.06092662\\\\\n",
       "\\end{tabular}\n"
      ],
      "text/markdown": [
       "\n",
       "A grouped_df: 4 × 5\n",
       "\n",
       "| pat_enc_csn_id_coded &lt;dbl&gt; | first_label &lt;int&gt; | death_24hr_recent_label &lt;int&gt; | pred_first &lt;dbl&gt; | pred_death_24hr_recent &lt;dbl&gt; |\n",
       "|---|---|---|---|---|\n",
       "| 131276655148 | 1 | 0 | 0.7316375 | 0.08463386 |\n",
       "| 131273666433 | 1 | 1 | 0.8026202 | 0.08937129 |\n",
       "| 131271804263 | 1 | 0 | 0.8538859 | 0.14609018 |\n",
       "| 131265379414 | 1 | 1 | 0.7532933 | 0.06092662 |\n",
       "\n"
      ],
      "text/plain": [
       "  pat_enc_csn_id_coded first_label death_24hr_recent_label pred_first\n",
       "1 131276655148         1           0                       0.7316375 \n",
       "2 131273666433         1           1                       0.8026202 \n",
       "3 131271804263         1           0                       0.8538859 \n",
       "4 131265379414         1           1                       0.7532933 \n",
       "  pred_death_24hr_recent\n",
       "1 0.08463386            \n",
       "2 0.08937129            \n",
       "3 0.14609018            \n",
       "4 0.06092662            "
      ]
     },
     "metadata": {},
     "output_type": "display_data"
    }
   ],
   "source": [
    "# only 1 bad predictions on time 24. other 3 are both good on both models\n",
    "top1 <- d05 %>% filter(pat_enc_csn_id_coded %in% csn1)\n",
    "nrow(top1) \n",
    "\n",
    "top1 %>% group_by(anon_id, pat_enc_csn_id_coded) %>% summarise(n=n())\n",
    "top1 %>% group_by(pat_enc_csn_id_coded) %>% select(first_label, death_24hr_recent_label,\n",
    "                                                   pred_first, pred_death_24hr_recent)%>% distinct()\n",
    " \n",
    "# top1 %>% distinct(pat_enc_csn_id_coded, abs_diff0_24) %>% top_n(1)"
   ]
  },
  {
   "cell_type": "markdown",
   "metadata": {},
   "source": [
    "### Check how many were transfered:\n",
    "- 19 out of 34 are from ICUs to non-ICUs\n",
    "- all seem correct predictions\n",
    "- anon_id `JCd91ab7` appeared 3 times\n",
    "- anon_id `JCe67809` appeared 2 times"
   ]
  },
  {
   "cell_type": "code",
   "execution_count": 14,
   "metadata": {},
   "outputs": [
    {
     "data": {
      "text/html": [
       "16"
      ],
      "text/latex": [
       "16"
      ],
      "text/markdown": [
       "16"
      ],
      "text/plain": [
       "[1] 16"
      ]
     },
     "metadata": {},
     "output_type": "display_data"
    },
    {
     "data": {
      "text/html": [
       "<table>\n",
       "<caption>A data.frame: 19 × 8</caption>\n",
       "<thead>\n",
       "\t<tr><th scope=col>anon_id</th><th scope=col>pat_enc_csn_id_coded</th><th scope=col>admit_time</th><th scope=col>first_label</th><th scope=col>death_24hr_recent_label</th><th scope=col>abs_diff0_24</th><th scope=col>pred_first</th><th scope=col>pred_death_24hr_recent</th></tr>\n",
       "\t<tr><th scope=col>&lt;chr&gt;</th><th scope=col>&lt;dbl&gt;</th><th scope=col>&lt;dttm&gt;</th><th scope=col>&lt;int&gt;</th><th scope=col>&lt;int&gt;</th><th scope=col>&lt;dbl&gt;</th><th scope=col>&lt;dbl&gt;</th><th scope=col>&lt;dbl&gt;</th></tr>\n",
       "</thead>\n",
       "<tbody>\n",
       "\t<tr><td>JC2a1b145</td><td>131267727359</td><td>2019-04-20 13:19:00</td><td>1</td><td>0</td><td>0.5</td><td>0.8695676</td><td>0.40122520</td></tr>\n",
       "\t<tr><td>JC2a1b3e1</td><td>131265805243</td><td>2019-03-08 15:21:00</td><td>1</td><td>0</td><td>0.5</td><td>0.9311007</td><td>0.44554967</td></tr>\n",
       "\t<tr><td>JC2a31a2b</td><td>131273021618</td><td>2019-07-01 07:21:00</td><td>1</td><td>0</td><td>0.6</td><td>0.9034398</td><td>0.35505496</td></tr>\n",
       "\t<tr><td>JCceb298 </td><td>131285560953</td><td>2020-03-06 04:21:00</td><td>1</td><td>0</td><td>0.6</td><td>0.7839395</td><td>0.17503065</td></tr>\n",
       "\t<tr><td>JCd2b078 </td><td>131281836013</td><td>2020-02-05 06:40:00</td><td>1</td><td>0</td><td>0.5</td><td>0.7208102</td><td>0.19965910</td></tr>\n",
       "\t<tr><td>JCd3262e </td><td>131275001383</td><td>2019-08-15 16:54:00</td><td>1</td><td>0</td><td>0.6</td><td>0.8496123</td><td>0.29988991</td></tr>\n",
       "\t<tr><td>JCd91ab7 </td><td>131271804263</td><td>2019-07-11 21:43:00</td><td>1</td><td>0</td><td>0.7</td><td>0.8538859</td><td>0.14609018</td></tr>\n",
       "\t<tr><td>JCd91ab7 </td><td>131276678530</td><td>2019-10-10 03:52:00</td><td>1</td><td>0</td><td>0.5</td><td>0.7458228</td><td>0.23588984</td></tr>\n",
       "\t<tr><td>JCd91ab7 </td><td>131281472394</td><td>2020-01-16 18:22:00</td><td>1</td><td>0</td><td>0.5</td><td>0.7778456</td><td>0.28856217</td></tr>\n",
       "\t<tr><td>JCd984f6 </td><td>131283509115</td><td>2020-02-08 06:17:00</td><td>1</td><td>0</td><td>0.5</td><td>0.6958823</td><td>0.23272697</td></tr>\n",
       "\t<tr><td>JCdb215e </td><td>131285117411</td><td>2020-02-12 17:35:00</td><td>1</td><td>0</td><td>0.5</td><td>0.7856346</td><td>0.32334102</td></tr>\n",
       "\t<tr><td>JCdc5d49 </td><td>131266794678</td><td>2019-04-08 03:31:00</td><td>1</td><td>0</td><td>0.5</td><td>0.5007741</td><td>0.03179615</td></tr>\n",
       "\t<tr><td>JCde6b69 </td><td>131268471668</td><td>2019-05-11 11:06:00</td><td>1</td><td>0</td><td>0.5</td><td>0.7656667</td><td>0.23542332</td></tr>\n",
       "\t<tr><td>JCe09f7a </td><td>131283156969</td><td>2020-01-19 11:56:00</td><td>1</td><td>0</td><td>0.5</td><td>0.8366376</td><td>0.36512604</td></tr>\n",
       "\t<tr><td>JCe0e0be </td><td>131283367768</td><td>2020-03-15 15:18:00</td><td>1</td><td>0</td><td>0.6</td><td>0.7766186</td><td>0.17788989</td></tr>\n",
       "\t<tr><td>JCe6286a </td><td>131276655148</td><td>2019-10-19 02:44:00</td><td>1</td><td>0</td><td>0.7</td><td>0.7316375</td><td>0.08463386</td></tr>\n",
       "\t<tr><td>JCe67809 </td><td>131265527017</td><td>2019-02-28 09:49:00</td><td>1</td><td>0</td><td>0.5</td><td>0.5647985</td><td>0.03077638</td></tr>\n",
       "\t<tr><td>JCe67809 </td><td>131268470191</td><td>2019-05-02 05:02:00</td><td>1</td><td>0</td><td>0.6</td><td>0.6817494</td><td>0.06136092</td></tr>\n",
       "\t<tr><td>JCe9e4e1 </td><td>131267990870</td><td>2019-05-03 03:38:00</td><td>1</td><td>0</td><td>0.6</td><td>0.6270088</td><td>0.04752896</td></tr>\n",
       "</tbody>\n",
       "</table>\n"
      ],
      "text/latex": [
       "A data.frame: 19 × 8\n",
       "\\begin{tabular}{llllllll}\n",
       " anon\\_id & pat\\_enc\\_csn\\_id\\_coded & admit\\_time & first\\_label & death\\_24hr\\_recent\\_label & abs\\_diff0\\_24 & pred\\_first & pred\\_death\\_24hr\\_recent\\\\\n",
       " <chr> & <dbl> & <dttm> & <int> & <int> & <dbl> & <dbl> & <dbl>\\\\\n",
       "\\hline\n",
       "\t JC2a1b145 & 131267727359 & 2019-04-20 13:19:00 & 1 & 0 & 0.5 & 0.8695676 & 0.40122520\\\\\n",
       "\t JC2a1b3e1 & 131265805243 & 2019-03-08 15:21:00 & 1 & 0 & 0.5 & 0.9311007 & 0.44554967\\\\\n",
       "\t JC2a31a2b & 131273021618 & 2019-07-01 07:21:00 & 1 & 0 & 0.6 & 0.9034398 & 0.35505496\\\\\n",
       "\t JCceb298  & 131285560953 & 2020-03-06 04:21:00 & 1 & 0 & 0.6 & 0.7839395 & 0.17503065\\\\\n",
       "\t JCd2b078  & 131281836013 & 2020-02-05 06:40:00 & 1 & 0 & 0.5 & 0.7208102 & 0.19965910\\\\\n",
       "\t JCd3262e  & 131275001383 & 2019-08-15 16:54:00 & 1 & 0 & 0.6 & 0.8496123 & 0.29988991\\\\\n",
       "\t JCd91ab7  & 131271804263 & 2019-07-11 21:43:00 & 1 & 0 & 0.7 & 0.8538859 & 0.14609018\\\\\n",
       "\t JCd91ab7  & 131276678530 & 2019-10-10 03:52:00 & 1 & 0 & 0.5 & 0.7458228 & 0.23588984\\\\\n",
       "\t JCd91ab7  & 131281472394 & 2020-01-16 18:22:00 & 1 & 0 & 0.5 & 0.7778456 & 0.28856217\\\\\n",
       "\t JCd984f6  & 131283509115 & 2020-02-08 06:17:00 & 1 & 0 & 0.5 & 0.6958823 & 0.23272697\\\\\n",
       "\t JCdb215e  & 131285117411 & 2020-02-12 17:35:00 & 1 & 0 & 0.5 & 0.7856346 & 0.32334102\\\\\n",
       "\t JCdc5d49  & 131266794678 & 2019-04-08 03:31:00 & 1 & 0 & 0.5 & 0.5007741 & 0.03179615\\\\\n",
       "\t JCde6b69  & 131268471668 & 2019-05-11 11:06:00 & 1 & 0 & 0.5 & 0.7656667 & 0.23542332\\\\\n",
       "\t JCe09f7a  & 131283156969 & 2020-01-19 11:56:00 & 1 & 0 & 0.5 & 0.8366376 & 0.36512604\\\\\n",
       "\t JCe0e0be  & 131283367768 & 2020-03-15 15:18:00 & 1 & 0 & 0.6 & 0.7766186 & 0.17788989\\\\\n",
       "\t JCe6286a  & 131276655148 & 2019-10-19 02:44:00 & 1 & 0 & 0.7 & 0.7316375 & 0.08463386\\\\\n",
       "\t JCe67809  & 131265527017 & 2019-02-28 09:49:00 & 1 & 0 & 0.5 & 0.5647985 & 0.03077638\\\\\n",
       "\t JCe67809  & 131268470191 & 2019-05-02 05:02:00 & 1 & 0 & 0.6 & 0.6817494 & 0.06136092\\\\\n",
       "\t JCe9e4e1  & 131267990870 & 2019-05-03 03:38:00 & 1 & 0 & 0.6 & 0.6270088 & 0.04752896\\\\\n",
       "\\end{tabular}\n"
      ],
      "text/markdown": [
       "\n",
       "A data.frame: 19 × 8\n",
       "\n",
       "| anon_id &lt;chr&gt; | pat_enc_csn_id_coded &lt;dbl&gt; | admit_time &lt;dttm&gt; | first_label &lt;int&gt; | death_24hr_recent_label &lt;int&gt; | abs_diff0_24 &lt;dbl&gt; | pred_first &lt;dbl&gt; | pred_death_24hr_recent &lt;dbl&gt; |\n",
       "|---|---|---|---|---|---|---|---|\n",
       "| JC2a1b145 | 131267727359 | 2019-04-20 13:19:00 | 1 | 0 | 0.5 | 0.8695676 | 0.40122520 |\n",
       "| JC2a1b3e1 | 131265805243 | 2019-03-08 15:21:00 | 1 | 0 | 0.5 | 0.9311007 | 0.44554967 |\n",
       "| JC2a31a2b | 131273021618 | 2019-07-01 07:21:00 | 1 | 0 | 0.6 | 0.9034398 | 0.35505496 |\n",
       "| JCceb298  | 131285560953 | 2020-03-06 04:21:00 | 1 | 0 | 0.6 | 0.7839395 | 0.17503065 |\n",
       "| JCd2b078  | 131281836013 | 2020-02-05 06:40:00 | 1 | 0 | 0.5 | 0.7208102 | 0.19965910 |\n",
       "| JCd3262e  | 131275001383 | 2019-08-15 16:54:00 | 1 | 0 | 0.6 | 0.8496123 | 0.29988991 |\n",
       "| JCd91ab7  | 131271804263 | 2019-07-11 21:43:00 | 1 | 0 | 0.7 | 0.8538859 | 0.14609018 |\n",
       "| JCd91ab7  | 131276678530 | 2019-10-10 03:52:00 | 1 | 0 | 0.5 | 0.7458228 | 0.23588984 |\n",
       "| JCd91ab7  | 131281472394 | 2020-01-16 18:22:00 | 1 | 0 | 0.5 | 0.7778456 | 0.28856217 |\n",
       "| JCd984f6  | 131283509115 | 2020-02-08 06:17:00 | 1 | 0 | 0.5 | 0.6958823 | 0.23272697 |\n",
       "| JCdb215e  | 131285117411 | 2020-02-12 17:35:00 | 1 | 0 | 0.5 | 0.7856346 | 0.32334102 |\n",
       "| JCdc5d49  | 131266794678 | 2019-04-08 03:31:00 | 1 | 0 | 0.5 | 0.5007741 | 0.03179615 |\n",
       "| JCde6b69  | 131268471668 | 2019-05-11 11:06:00 | 1 | 0 | 0.5 | 0.7656667 | 0.23542332 |\n",
       "| JCe09f7a  | 131283156969 | 2020-01-19 11:56:00 | 1 | 0 | 0.5 | 0.8366376 | 0.36512604 |\n",
       "| JCe0e0be  | 131283367768 | 2020-03-15 15:18:00 | 1 | 0 | 0.6 | 0.7766186 | 0.17788989 |\n",
       "| JCe6286a  | 131276655148 | 2019-10-19 02:44:00 | 1 | 0 | 0.7 | 0.7316375 | 0.08463386 |\n",
       "| JCe67809  | 131265527017 | 2019-02-28 09:49:00 | 1 | 0 | 0.5 | 0.5647985 | 0.03077638 |\n",
       "| JCe67809  | 131268470191 | 2019-05-02 05:02:00 | 1 | 0 | 0.6 | 0.6817494 | 0.06136092 |\n",
       "| JCe9e4e1  | 131267990870 | 2019-05-03 03:38:00 | 1 | 0 | 0.6 | 0.6270088 | 0.04752896 |\n",
       "\n"
      ],
      "text/plain": [
       "   anon_id   pat_enc_csn_id_coded admit_time          first_label\n",
       "1  JC2a1b145 131267727359         2019-04-20 13:19:00 1          \n",
       "2  JC2a1b3e1 131265805243         2019-03-08 15:21:00 1          \n",
       "3  JC2a31a2b 131273021618         2019-07-01 07:21:00 1          \n",
       "4  JCceb298  131285560953         2020-03-06 04:21:00 1          \n",
       "5  JCd2b078  131281836013         2020-02-05 06:40:00 1          \n",
       "6  JCd3262e  131275001383         2019-08-15 16:54:00 1          \n",
       "7  JCd91ab7  131271804263         2019-07-11 21:43:00 1          \n",
       "8  JCd91ab7  131276678530         2019-10-10 03:52:00 1          \n",
       "9  JCd91ab7  131281472394         2020-01-16 18:22:00 1          \n",
       "10 JCd984f6  131283509115         2020-02-08 06:17:00 1          \n",
       "11 JCdb215e  131285117411         2020-02-12 17:35:00 1          \n",
       "12 JCdc5d49  131266794678         2019-04-08 03:31:00 1          \n",
       "13 JCde6b69  131268471668         2019-05-11 11:06:00 1          \n",
       "14 JCe09f7a  131283156969         2020-01-19 11:56:00 1          \n",
       "15 JCe0e0be  131283367768         2020-03-15 15:18:00 1          \n",
       "16 JCe6286a  131276655148         2019-10-19 02:44:00 1          \n",
       "17 JCe67809  131265527017         2019-02-28 09:49:00 1          \n",
       "18 JCe67809  131268470191         2019-05-02 05:02:00 1          \n",
       "19 JCe9e4e1  131267990870         2019-05-03 03:38:00 1          \n",
       "   death_24hr_recent_label abs_diff0_24 pred_first pred_death_24hr_recent\n",
       "1  0                       0.5          0.8695676  0.40122520            \n",
       "2  0                       0.5          0.9311007  0.44554967            \n",
       "3  0                       0.6          0.9034398  0.35505496            \n",
       "4  0                       0.6          0.7839395  0.17503065            \n",
       "5  0                       0.5          0.7208102  0.19965910            \n",
       "6  0                       0.6          0.8496123  0.29988991            \n",
       "7  0                       0.7          0.8538859  0.14609018            \n",
       "8  0                       0.5          0.7458228  0.23588984            \n",
       "9  0                       0.5          0.7778456  0.28856217            \n",
       "10 0                       0.5          0.6958823  0.23272697            \n",
       "11 0                       0.5          0.7856346  0.32334102            \n",
       "12 0                       0.5          0.5007741  0.03179615            \n",
       "13 0                       0.5          0.7656667  0.23542332            \n",
       "14 0                       0.5          0.8366376  0.36512604            \n",
       "15 0                       0.6          0.7766186  0.17788989            \n",
       "16 0                       0.7          0.7316375  0.08463386            \n",
       "17 0                       0.5          0.5647985  0.03077638            \n",
       "18 0                       0.6          0.6817494  0.06136092            \n",
       "19 0                       0.6          0.6270088  0.04752896            "
      ]
     },
     "metadata": {},
     "output_type": "display_data"
    }
   ],
   "source": [
    "nrow(d05 %>% filter(first_label != death_24hr_recent_label) %>% distinct(anon_id))\n",
    "\n",
    "d05 %>% filter(first_label != death_24hr_recent_label) %>% \n",
    "            select(anon_id, pat_enc_csn_id_coded, admit_time, first_label, death_24hr_recent_label, \n",
    "                   abs_diff0_24, pred_first, pred_death_24hr_recent) %>%\n",
    "            arrange(anon_id, pat_enc_csn_id_coded) %>% distinct()# -abs_diff0_24, "
   ]
  },
  {
   "cell_type": "markdown",
   "metadata": {},
   "source": [
    "### Those who did not transfer:\n",
    "- 18 (out of 37): from non-ICU to ICUs\n",
    "- one label prediction is wrong:  8 are for the 24hr label, 9 for time 0 label \n",
    "- If use 0.6 as the thresdhold: 1 is ambigous, JCcdbe93, but time 0 is more correct\n",
    "- for those with (0,0) labels at time 0 and 24: important to investigate these 2 below\n",
    "    - `JCccaf40` (131278883571) and `JCe8eecd` (131287638900) has max label of 1\n",
    "    - time 0 prediction leans toward 1. \n",
    "- anon_id JC2a1b3e1 appeared 2 times"
   ]
  },
  {
   "cell_type": "code",
   "execution_count": 15,
   "metadata": {},
   "outputs": [
    {
     "data": {
      "text/html": [
       "17"
      ],
      "text/latex": [
       "17"
      ],
      "text/markdown": [
       "17"
      ],
      "text/plain": [
       "[1] 17"
      ]
     },
     "metadata": {},
     "output_type": "display_data"
    },
    {
     "data": {
      "text/html": [
       "<table>\n",
       "<caption>A data.frame: 18 × 9</caption>\n",
       "<thead>\n",
       "\t<tr><th scope=col>anon_id</th><th scope=col>pat_enc_csn_id_coded</th><th scope=col>admit_time</th><th scope=col>first_label</th><th scope=col>death_24hr_recent_label</th><th scope=col>death_24hr_max_label</th><th scope=col>abs_diff0_24</th><th scope=col>pred_first</th><th scope=col>pred_death_24hr_recent</th></tr>\n",
       "\t<tr><th scope=col>&lt;chr&gt;</th><th scope=col>&lt;dbl&gt;</th><th scope=col>&lt;dttm&gt;</th><th scope=col>&lt;int&gt;</th><th scope=col>&lt;int&gt;</th><th scope=col>&lt;int&gt;</th><th scope=col>&lt;dbl&gt;</th><th scope=col>&lt;dbl&gt;</th><th scope=col>&lt;dbl&gt;</th></tr>\n",
       "</thead>\n",
       "<tbody>\n",
       "\t<tr><td>JC29fe5a7</td><td>131273666433</td><td>2019-07-17 11:48:00</td><td>1</td><td>1</td><td>1</td><td>0.7</td><td>0.8026202</td><td>0.08937129</td></tr>\n",
       "\t<tr><td>JC2a126ab</td><td>131275893768</td><td>2019-09-04 05:58:00</td><td>0</td><td>0</td><td>0</td><td>0.5</td><td>0.8558751</td><td>0.32251096</td></tr>\n",
       "\t<tr><td>JC2a12b37</td><td>131267422670</td><td>2019-06-02 19:31:00</td><td>1</td><td>1</td><td>1</td><td>0.5</td><td>0.6055270</td><td>0.11430423</td></tr>\n",
       "\t<tr><td>JC2a1b3e1</td><td>131266865289</td><td>2019-03-30 17:11:00</td><td>0</td><td>0</td><td>0</td><td>0.6</td><td>0.8695345</td><td>0.32330481</td></tr>\n",
       "\t<tr><td>JC2a1b3e1</td><td>131271401201</td><td>2019-06-03 17:42:00</td><td>0</td><td>0</td><td>0</td><td>0.5</td><td>0.8358579</td><td>0.36825332</td></tr>\n",
       "\t<tr><td>JCccaf40 </td><td>131278883571</td><td>2019-10-31 04:28:00</td><td>0</td><td>0</td><td>1</td><td>0.6</td><td>0.8050450</td><td>0.25957323</td></tr>\n",
       "\t<tr><td>JCcdbe93 </td><td>131264937956</td><td>2019-04-14 01:08:00</td><td>1</td><td>1</td><td>1</td><td>0.5</td><td>0.5278548</td><td>0.06184646</td></tr>\n",
       "\t<tr><td>JCd1a421 </td><td>131265379414</td><td>2019-03-21 13:11:00</td><td>1</td><td>1</td><td>1</td><td>0.7</td><td>0.7532933</td><td>0.06092662</td></tr>\n",
       "\t<tr><td>JCd21aa2 </td><td>131271881424</td><td>2019-06-14 09:53:00</td><td>0</td><td>0</td><td>0</td><td>0.6</td><td>0.7077834</td><td>0.13487233</td></tr>\n",
       "\t<tr><td>JCd54f0a </td><td>131278148109</td><td>2019-11-01 23:35:00</td><td>1</td><td>1</td><td>1</td><td>0.5</td><td>0.6071954</td><td>0.14921683</td></tr>\n",
       "\t<tr><td>JCd9202c </td><td>131263738352</td><td>2019-03-13 12:04:00</td><td>0</td><td>0</td><td>0</td><td>0.5</td><td>0.2371481</td><td>0.71035782</td></tr>\n",
       "\t<tr><td>JCdb60b9 </td><td>131263398448</td><td>2019-01-30 07:48:00</td><td>1</td><td>1</td><td>1</td><td>0.5</td><td>0.8616369</td><td>0.40451719</td></tr>\n",
       "\t<tr><td>JCdfda53 </td><td>131269213290</td><td>2019-07-08 20:09:00</td><td>1</td><td>1</td><td>1</td><td>0.5</td><td>0.7710715</td><td>0.30496247</td></tr>\n",
       "\t<tr><td>JCe13ee2 </td><td>131267867706</td><td>2019-04-27 09:28:00</td><td>1</td><td>1</td><td>1</td><td>0.5</td><td>0.6905233</td><td>0.19159017</td></tr>\n",
       "\t<tr><td>JCe1e504 </td><td>131268059258</td><td>2019-04-18 11:45:00</td><td>0</td><td>0</td><td>0</td><td>0.5</td><td>0.6720849</td><td>0.13732144</td></tr>\n",
       "\t<tr><td>JCe3e27d </td><td>131263978966</td><td>2019-03-04 23:17:00</td><td>0</td><td>0</td><td>0</td><td>0.5</td><td>0.5139396</td><td>0.03908175</td></tr>\n",
       "\t<tr><td>JCe42c6c </td><td>131276089856</td><td>2019-09-19 21:42:00</td><td>1</td><td>1</td><td>1</td><td>0.5</td><td>0.7639621</td><td>0.25333055</td></tr>\n",
       "\t<tr><td>JCe8eecd </td><td>131287638900</td><td>2020-03-29 06:00:00</td><td>0</td><td>0</td><td>1</td><td>0.6</td><td>0.7904029</td><td>0.20744588</td></tr>\n",
       "</tbody>\n",
       "</table>\n"
      ],
      "text/latex": [
       "A data.frame: 18 × 9\n",
       "\\begin{tabular}{lllllllll}\n",
       " anon\\_id & pat\\_enc\\_csn\\_id\\_coded & admit\\_time & first\\_label & death\\_24hr\\_recent\\_label & death\\_24hr\\_max\\_label & abs\\_diff0\\_24 & pred\\_first & pred\\_death\\_24hr\\_recent\\\\\n",
       " <chr> & <dbl> & <dttm> & <int> & <int> & <int> & <dbl> & <dbl> & <dbl>\\\\\n",
       "\\hline\n",
       "\t JC29fe5a7 & 131273666433 & 2019-07-17 11:48:00 & 1 & 1 & 1 & 0.7 & 0.8026202 & 0.08937129\\\\\n",
       "\t JC2a126ab & 131275893768 & 2019-09-04 05:58:00 & 0 & 0 & 0 & 0.5 & 0.8558751 & 0.32251096\\\\\n",
       "\t JC2a12b37 & 131267422670 & 2019-06-02 19:31:00 & 1 & 1 & 1 & 0.5 & 0.6055270 & 0.11430423\\\\\n",
       "\t JC2a1b3e1 & 131266865289 & 2019-03-30 17:11:00 & 0 & 0 & 0 & 0.6 & 0.8695345 & 0.32330481\\\\\n",
       "\t JC2a1b3e1 & 131271401201 & 2019-06-03 17:42:00 & 0 & 0 & 0 & 0.5 & 0.8358579 & 0.36825332\\\\\n",
       "\t JCccaf40  & 131278883571 & 2019-10-31 04:28:00 & 0 & 0 & 1 & 0.6 & 0.8050450 & 0.25957323\\\\\n",
       "\t JCcdbe93  & 131264937956 & 2019-04-14 01:08:00 & 1 & 1 & 1 & 0.5 & 0.5278548 & 0.06184646\\\\\n",
       "\t JCd1a421  & 131265379414 & 2019-03-21 13:11:00 & 1 & 1 & 1 & 0.7 & 0.7532933 & 0.06092662\\\\\n",
       "\t JCd21aa2  & 131271881424 & 2019-06-14 09:53:00 & 0 & 0 & 0 & 0.6 & 0.7077834 & 0.13487233\\\\\n",
       "\t JCd54f0a  & 131278148109 & 2019-11-01 23:35:00 & 1 & 1 & 1 & 0.5 & 0.6071954 & 0.14921683\\\\\n",
       "\t JCd9202c  & 131263738352 & 2019-03-13 12:04:00 & 0 & 0 & 0 & 0.5 & 0.2371481 & 0.71035782\\\\\n",
       "\t JCdb60b9  & 131263398448 & 2019-01-30 07:48:00 & 1 & 1 & 1 & 0.5 & 0.8616369 & 0.40451719\\\\\n",
       "\t JCdfda53  & 131269213290 & 2019-07-08 20:09:00 & 1 & 1 & 1 & 0.5 & 0.7710715 & 0.30496247\\\\\n",
       "\t JCe13ee2  & 131267867706 & 2019-04-27 09:28:00 & 1 & 1 & 1 & 0.5 & 0.6905233 & 0.19159017\\\\\n",
       "\t JCe1e504  & 131268059258 & 2019-04-18 11:45:00 & 0 & 0 & 0 & 0.5 & 0.6720849 & 0.13732144\\\\\n",
       "\t JCe3e27d  & 131263978966 & 2019-03-04 23:17:00 & 0 & 0 & 0 & 0.5 & 0.5139396 & 0.03908175\\\\\n",
       "\t JCe42c6c  & 131276089856 & 2019-09-19 21:42:00 & 1 & 1 & 1 & 0.5 & 0.7639621 & 0.25333055\\\\\n",
       "\t JCe8eecd  & 131287638900 & 2020-03-29 06:00:00 & 0 & 0 & 1 & 0.6 & 0.7904029 & 0.20744588\\\\\n",
       "\\end{tabular}\n"
      ],
      "text/markdown": [
       "\n",
       "A data.frame: 18 × 9\n",
       "\n",
       "| anon_id &lt;chr&gt; | pat_enc_csn_id_coded &lt;dbl&gt; | admit_time &lt;dttm&gt; | first_label &lt;int&gt; | death_24hr_recent_label &lt;int&gt; | death_24hr_max_label &lt;int&gt; | abs_diff0_24 &lt;dbl&gt; | pred_first &lt;dbl&gt; | pred_death_24hr_recent &lt;dbl&gt; |\n",
       "|---|---|---|---|---|---|---|---|---|\n",
       "| JC29fe5a7 | 131273666433 | 2019-07-17 11:48:00 | 1 | 1 | 1 | 0.7 | 0.8026202 | 0.08937129 |\n",
       "| JC2a126ab | 131275893768 | 2019-09-04 05:58:00 | 0 | 0 | 0 | 0.5 | 0.8558751 | 0.32251096 |\n",
       "| JC2a12b37 | 131267422670 | 2019-06-02 19:31:00 | 1 | 1 | 1 | 0.5 | 0.6055270 | 0.11430423 |\n",
       "| JC2a1b3e1 | 131266865289 | 2019-03-30 17:11:00 | 0 | 0 | 0 | 0.6 | 0.8695345 | 0.32330481 |\n",
       "| JC2a1b3e1 | 131271401201 | 2019-06-03 17:42:00 | 0 | 0 | 0 | 0.5 | 0.8358579 | 0.36825332 |\n",
       "| JCccaf40  | 131278883571 | 2019-10-31 04:28:00 | 0 | 0 | 1 | 0.6 | 0.8050450 | 0.25957323 |\n",
       "| JCcdbe93  | 131264937956 | 2019-04-14 01:08:00 | 1 | 1 | 1 | 0.5 | 0.5278548 | 0.06184646 |\n",
       "| JCd1a421  | 131265379414 | 2019-03-21 13:11:00 | 1 | 1 | 1 | 0.7 | 0.7532933 | 0.06092662 |\n",
       "| JCd21aa2  | 131271881424 | 2019-06-14 09:53:00 | 0 | 0 | 0 | 0.6 | 0.7077834 | 0.13487233 |\n",
       "| JCd54f0a  | 131278148109 | 2019-11-01 23:35:00 | 1 | 1 | 1 | 0.5 | 0.6071954 | 0.14921683 |\n",
       "| JCd9202c  | 131263738352 | 2019-03-13 12:04:00 | 0 | 0 | 0 | 0.5 | 0.2371481 | 0.71035782 |\n",
       "| JCdb60b9  | 131263398448 | 2019-01-30 07:48:00 | 1 | 1 | 1 | 0.5 | 0.8616369 | 0.40451719 |\n",
       "| JCdfda53  | 131269213290 | 2019-07-08 20:09:00 | 1 | 1 | 1 | 0.5 | 0.7710715 | 0.30496247 |\n",
       "| JCe13ee2  | 131267867706 | 2019-04-27 09:28:00 | 1 | 1 | 1 | 0.5 | 0.6905233 | 0.19159017 |\n",
       "| JCe1e504  | 131268059258 | 2019-04-18 11:45:00 | 0 | 0 | 0 | 0.5 | 0.6720849 | 0.13732144 |\n",
       "| JCe3e27d  | 131263978966 | 2019-03-04 23:17:00 | 0 | 0 | 0 | 0.5 | 0.5139396 | 0.03908175 |\n",
       "| JCe42c6c  | 131276089856 | 2019-09-19 21:42:00 | 1 | 1 | 1 | 0.5 | 0.7639621 | 0.25333055 |\n",
       "| JCe8eecd  | 131287638900 | 2020-03-29 06:00:00 | 0 | 0 | 1 | 0.6 | 0.7904029 | 0.20744588 |\n",
       "\n"
      ],
      "text/plain": [
       "   anon_id   pat_enc_csn_id_coded admit_time          first_label\n",
       "1  JC29fe5a7 131273666433         2019-07-17 11:48:00 1          \n",
       "2  JC2a126ab 131275893768         2019-09-04 05:58:00 0          \n",
       "3  JC2a12b37 131267422670         2019-06-02 19:31:00 1          \n",
       "4  JC2a1b3e1 131266865289         2019-03-30 17:11:00 0          \n",
       "5  JC2a1b3e1 131271401201         2019-06-03 17:42:00 0          \n",
       "6  JCccaf40  131278883571         2019-10-31 04:28:00 0          \n",
       "7  JCcdbe93  131264937956         2019-04-14 01:08:00 1          \n",
       "8  JCd1a421  131265379414         2019-03-21 13:11:00 1          \n",
       "9  JCd21aa2  131271881424         2019-06-14 09:53:00 0          \n",
       "10 JCd54f0a  131278148109         2019-11-01 23:35:00 1          \n",
       "11 JCd9202c  131263738352         2019-03-13 12:04:00 0          \n",
       "12 JCdb60b9  131263398448         2019-01-30 07:48:00 1          \n",
       "13 JCdfda53  131269213290         2019-07-08 20:09:00 1          \n",
       "14 JCe13ee2  131267867706         2019-04-27 09:28:00 1          \n",
       "15 JCe1e504  131268059258         2019-04-18 11:45:00 0          \n",
       "16 JCe3e27d  131263978966         2019-03-04 23:17:00 0          \n",
       "17 JCe42c6c  131276089856         2019-09-19 21:42:00 1          \n",
       "18 JCe8eecd  131287638900         2020-03-29 06:00:00 0          \n",
       "   death_24hr_recent_label death_24hr_max_label abs_diff0_24 pred_first\n",
       "1  1                       1                    0.7          0.8026202 \n",
       "2  0                       0                    0.5          0.8558751 \n",
       "3  1                       1                    0.5          0.6055270 \n",
       "4  0                       0                    0.6          0.8695345 \n",
       "5  0                       0                    0.5          0.8358579 \n",
       "6  0                       1                    0.6          0.8050450 \n",
       "7  1                       1                    0.5          0.5278548 \n",
       "8  1                       1                    0.7          0.7532933 \n",
       "9  0                       0                    0.6          0.7077834 \n",
       "10 1                       1                    0.5          0.6071954 \n",
       "11 0                       0                    0.5          0.2371481 \n",
       "12 1                       1                    0.5          0.8616369 \n",
       "13 1                       1                    0.5          0.7710715 \n",
       "14 1                       1                    0.5          0.6905233 \n",
       "15 0                       0                    0.5          0.6720849 \n",
       "16 0                       0                    0.5          0.5139396 \n",
       "17 1                       1                    0.5          0.7639621 \n",
       "18 0                       1                    0.6          0.7904029 \n",
       "   pred_death_24hr_recent\n",
       "1  0.08937129            \n",
       "2  0.32251096            \n",
       "3  0.11430423            \n",
       "4  0.32330481            \n",
       "5  0.36825332            \n",
       "6  0.25957323            \n",
       "7  0.06184646            \n",
       "8  0.06092662            \n",
       "9  0.13487233            \n",
       "10 0.14921683            \n",
       "11 0.71035782            \n",
       "12 0.40451719            \n",
       "13 0.30496247            \n",
       "14 0.19159017            \n",
       "15 0.13732144            \n",
       "16 0.03908175            \n",
       "17 0.25333055            \n",
       "18 0.20744588            "
      ]
     },
     "metadata": {},
     "output_type": "display_data"
    }
   ],
   "source": [
    "nrow(d05 %>% filter(first_label == death_24hr_recent_label) %>% distinct(anon_id))\n",
    "\n",
    "d05 %>% filter(first_label == death_24hr_recent_label) %>% \n",
    "            select(anon_id, pat_enc_csn_id_coded, admit_time, first_label, death_24hr_recent_label, death_24hr_max_label,\n",
    "                   abs_diff0_24, pred_first, pred_death_24hr_recent) %>%\n",
    "            arrange(anon_id, pat_enc_csn_id_coded) %>% distinct() #"
   ]
  },
  {
   "cell_type": "code",
   "execution_count": 16,
   "metadata": {},
   "outputs": [],
   "source": [
    "results05 <- d05 %>% select(anon_id, pat_enc_csn_id_coded, admit_time, first_label, death_24hr_recent_label,\n",
    "                            abs_diff0_24, feature_type, features, values, time) %>% \n",
    "                    mutate(transfer = ifelse(first_label != death_24hr_recent_label, 1, 0),\n",
    "                           hr_before_admit = round(as.numeric(difftime(admit_time, time, unit=\"hours\")), 1)) %>%\n",
    "                    arrange(anon_id, admit_time, -abs_diff0_24)"
   ]
  },
  {
   "cell_type": "raw",
   "metadata": {},
   "source": [
    "df <- within(df, {\n",
    "                    id <- factor(id)\n",
    "                    male <- factor(male, levels = 0:1, labels = c(\"female\", \"male\"))# 0:1 changed to female and male\n",
    "                 })"
   ]
  },
  {
   "cell_type": "code",
   "execution_count": 17,
   "metadata": {},
   "outputs": [
    {
     "name": "stderr",
     "output_type": "stream",
     "text": [
      "`summarise()` ungrouping output (override with `.groups` argument)\n",
      "\n"
     ]
    },
    {
     "data": {
      "text/html": [
       "<table>\n",
       "<caption>A tibble: 9 × 2</caption>\n",
       "<thead>\n",
       "\t<tr><th scope=col>feature_type</th><th scope=col>n</th></tr>\n",
       "\t<tr><th scope=col>&lt;chr&gt;</th><th scope=col>&lt;int&gt;</th></tr>\n",
       "</thead>\n",
       "<tbody>\n",
       "\t<tr><td>Diagnosis   </td><td>1590</td></tr>\n",
       "\t<tr><td>Meds        </td><td>1105</td></tr>\n",
       "\t<tr><td>labs        </td><td> 606</td></tr>\n",
       "\t<tr><td>vitals      </td><td> 536</td></tr>\n",
       "\t<tr><td>Lab         </td><td> 508</td></tr>\n",
       "\t<tr><td>demo        </td><td> 306</td></tr>\n",
       "\t<tr><td>Imaging     </td><td> 131</td></tr>\n",
       "\t<tr><td>Procedures  </td><td>  45</td></tr>\n",
       "\t<tr><td>Microbiology</td><td>   7</td></tr>\n",
       "</tbody>\n",
       "</table>\n"
      ],
      "text/latex": [
       "A tibble: 9 × 2\n",
       "\\begin{tabular}{ll}\n",
       " feature\\_type & n\\\\\n",
       " <chr> & <int>\\\\\n",
       "\\hline\n",
       "\t Diagnosis    & 1590\\\\\n",
       "\t Meds         & 1105\\\\\n",
       "\t labs         &  606\\\\\n",
       "\t vitals       &  536\\\\\n",
       "\t Lab          &  508\\\\\n",
       "\t demo         &  306\\\\\n",
       "\t Imaging      &  131\\\\\n",
       "\t Procedures   &   45\\\\\n",
       "\t Microbiology &    7\\\\\n",
       "\\end{tabular}\n"
      ],
      "text/markdown": [
       "\n",
       "A tibble: 9 × 2\n",
       "\n",
       "| feature_type &lt;chr&gt; | n &lt;int&gt; |\n",
       "|---|---|\n",
       "| Diagnosis    | 1590 |\n",
       "| Meds         | 1105 |\n",
       "| labs         |  606 |\n",
       "| vitals       |  536 |\n",
       "| Lab          |  508 |\n",
       "| demo         |  306 |\n",
       "| Imaging      |  131 |\n",
       "| Procedures   |   45 |\n",
       "| Microbiology |    7 |\n",
       "\n"
      ],
      "text/plain": [
       "  feature_type n   \n",
       "1 Diagnosis    1590\n",
       "2 Meds         1105\n",
       "3 labs          606\n",
       "4 vitals        536\n",
       "5 Lab           508\n",
       "6 demo          306\n",
       "7 Imaging       131\n",
       "8 Procedures     45\n",
       "9 Microbiology    7"
      ]
     },
     "metadata": {},
     "output_type": "display_data"
    },
    {
     "name": "stderr",
     "output_type": "stream",
     "text": [
      "`summarise()` ungrouping output (override with `.groups` argument)\n",
      "\n"
     ]
    },
    {
     "data": {
      "text/html": [
       "<table>\n",
       "<caption>A tibble: 10 × 2</caption>\n",
       "<thead>\n",
       "\t<tr><th scope=col>features</th><th scope=col>n</th></tr>\n",
       "\t<tr><th scope=col>&lt;chr&gt;</th><th scope=col>&lt;int&gt;</th></tr>\n",
       "</thead>\n",
       "<tbody>\n",
       "\t<tr><td>RR     </td><td>128</td></tr>\n",
       "\t<tr><td>Pulse  </td><td>126</td></tr>\n",
       "\t<tr><td>DBP    </td><td>117</td></tr>\n",
       "\t<tr><td>SBP    </td><td>117</td></tr>\n",
       "\t<tr><td>Temp   </td><td> 48</td></tr>\n",
       "\t<tr><td>Glucose</td><td> 28</td></tr>\n",
       "\t<tr><td>Hct    </td><td> 20</td></tr>\n",
       "\t<tr><td>Hgb    </td><td> 20</td></tr>\n",
       "\t<tr><td>Base   </td><td> 19</td></tr>\n",
       "\t<tr><td>age    </td><td> 18</td></tr>\n",
       "</tbody>\n",
       "</table>\n"
      ],
      "text/latex": [
       "A tibble: 10 × 2\n",
       "\\begin{tabular}{ll}\n",
       " features & n\\\\\n",
       " <chr> & <int>\\\\\n",
       "\\hline\n",
       "\t RR      & 128\\\\\n",
       "\t Pulse   & 126\\\\\n",
       "\t DBP     & 117\\\\\n",
       "\t SBP     & 117\\\\\n",
       "\t Temp    &  48\\\\\n",
       "\t Glucose &  28\\\\\n",
       "\t Hct     &  20\\\\\n",
       "\t Hgb     &  20\\\\\n",
       "\t Base    &  19\\\\\n",
       "\t age     &  18\\\\\n",
       "\\end{tabular}\n"
      ],
      "text/markdown": [
       "\n",
       "A tibble: 10 × 2\n",
       "\n",
       "| features &lt;chr&gt; | n &lt;int&gt; |\n",
       "|---|---|\n",
       "| RR      | 128 |\n",
       "| Pulse   | 126 |\n",
       "| DBP     | 117 |\n",
       "| SBP     | 117 |\n",
       "| Temp    |  48 |\n",
       "| Glucose |  28 |\n",
       "| Hct     |  20 |\n",
       "| Hgb     |  20 |\n",
       "| Base    |  19 |\n",
       "| age     |  18 |\n",
       "\n"
      ],
      "text/plain": [
       "   features n  \n",
       "1  RR       128\n",
       "2  Pulse    126\n",
       "3  DBP      117\n",
       "4  SBP      117\n",
       "5  Temp      48\n",
       "6  Glucose   28\n",
       "7  Hct       20\n",
       "8  Hgb       20\n",
       "9  Base      19\n",
       "10 age       18"
      ]
     },
     "metadata": {},
     "output_type": "display_data"
    }
   ],
   "source": [
    "results05 %>% filter(transfer==0) %>% group_by(feature_type) %>% summarise(n=n()) %>% arrange(-n)\n",
    "results05 %>% filter(transfer==0) %>% group_by(features) %>% summarise(n=n()) %>% arrange(-n) %>% head(10)"
   ]
  },
  {
   "cell_type": "code",
   "execution_count": 18,
   "metadata": {},
   "outputs": [
    {
     "name": "stderr",
     "output_type": "stream",
     "text": [
      "`summarise()` ungrouping output (override with `.groups` argument)\n",
      "\n"
     ]
    },
    {
     "data": {
      "text/html": [
       "<table>\n",
       "<caption>A tibble: 9 × 2</caption>\n",
       "<thead>\n",
       "\t<tr><th scope=col>feature_type</th><th scope=col>n</th></tr>\n",
       "\t<tr><th scope=col>&lt;chr&gt;</th><th scope=col>&lt;int&gt;</th></tr>\n",
       "</thead>\n",
       "<tbody>\n",
       "\t<tr><td>Diagnosis   </td><td>1391</td></tr>\n",
       "\t<tr><td>labs        </td><td> 863</td></tr>\n",
       "\t<tr><td>Meds        </td><td> 810</td></tr>\n",
       "\t<tr><td>vitals      </td><td> 589</td></tr>\n",
       "\t<tr><td>Lab         </td><td> 349</td></tr>\n",
       "\t<tr><td>demo        </td><td> 323</td></tr>\n",
       "\t<tr><td>Imaging     </td><td>  43</td></tr>\n",
       "\t<tr><td>Procedures  </td><td>  23</td></tr>\n",
       "\t<tr><td>Microbiology</td><td>   3</td></tr>\n",
       "</tbody>\n",
       "</table>\n"
      ],
      "text/latex": [
       "A tibble: 9 × 2\n",
       "\\begin{tabular}{ll}\n",
       " feature\\_type & n\\\\\n",
       " <chr> & <int>\\\\\n",
       "\\hline\n",
       "\t Diagnosis    & 1391\\\\\n",
       "\t labs         &  863\\\\\n",
       "\t Meds         &  810\\\\\n",
       "\t vitals       &  589\\\\\n",
       "\t Lab          &  349\\\\\n",
       "\t demo         &  323\\\\\n",
       "\t Imaging      &   43\\\\\n",
       "\t Procedures   &   23\\\\\n",
       "\t Microbiology &    3\\\\\n",
       "\\end{tabular}\n"
      ],
      "text/markdown": [
       "\n",
       "A tibble: 9 × 2\n",
       "\n",
       "| feature_type &lt;chr&gt; | n &lt;int&gt; |\n",
       "|---|---|\n",
       "| Diagnosis    | 1391 |\n",
       "| labs         |  863 |\n",
       "| Meds         |  810 |\n",
       "| vitals       |  589 |\n",
       "| Lab          |  349 |\n",
       "| demo         |  323 |\n",
       "| Imaging      |   43 |\n",
       "| Procedures   |   23 |\n",
       "| Microbiology |    3 |\n",
       "\n"
      ],
      "text/plain": [
       "  feature_type n   \n",
       "1 Diagnosis    1391\n",
       "2 labs          863\n",
       "3 Meds          810\n",
       "4 vitals        589\n",
       "5 Lab           349\n",
       "6 demo          323\n",
       "7 Imaging        43\n",
       "8 Procedures     23\n",
       "9 Microbiology    3"
      ]
     },
     "metadata": {},
     "output_type": "display_data"
    },
    {
     "name": "stderr",
     "output_type": "stream",
     "text": [
      "`summarise()` ungrouping output (override with `.groups` argument)\n",
      "\n"
     ]
    },
    {
     "data": {
      "text/html": [
       "<table>\n",
       "<caption>A tibble: 10 × 2</caption>\n",
       "<thead>\n",
       "\t<tr><th scope=col>features</th><th scope=col>n</th></tr>\n",
       "\t<tr><th scope=col>&lt;chr&gt;</th><th scope=col>&lt;int&gt;</th></tr>\n",
       "</thead>\n",
       "<tbody>\n",
       "\t<tr><td>Pulse  </td><td>136</td></tr>\n",
       "\t<tr><td>DBP    </td><td>134</td></tr>\n",
       "\t<tr><td>SBP    </td><td>134</td></tr>\n",
       "\t<tr><td>RR     </td><td>133</td></tr>\n",
       "\t<tr><td>Glucose</td><td> 58</td></tr>\n",
       "\t<tr><td>Temp   </td><td> 52</td></tr>\n",
       "\t<tr><td>K      </td><td> 39</td></tr>\n",
       "\t<tr><td>Na     </td><td> 37</td></tr>\n",
       "\t<tr><td>Hct    </td><td> 33</td></tr>\n",
       "\t<tr><td>Hgb    </td><td> 33</td></tr>\n",
       "</tbody>\n",
       "</table>\n"
      ],
      "text/latex": [
       "A tibble: 10 × 2\n",
       "\\begin{tabular}{ll}\n",
       " features & n\\\\\n",
       " <chr> & <int>\\\\\n",
       "\\hline\n",
       "\t Pulse   & 136\\\\\n",
       "\t DBP     & 134\\\\\n",
       "\t SBP     & 134\\\\\n",
       "\t RR      & 133\\\\\n",
       "\t Glucose &  58\\\\\n",
       "\t Temp    &  52\\\\\n",
       "\t K       &  39\\\\\n",
       "\t Na      &  37\\\\\n",
       "\t Hct     &  33\\\\\n",
       "\t Hgb     &  33\\\\\n",
       "\\end{tabular}\n"
      ],
      "text/markdown": [
       "\n",
       "A tibble: 10 × 2\n",
       "\n",
       "| features &lt;chr&gt; | n &lt;int&gt; |\n",
       "|---|---|\n",
       "| Pulse   | 136 |\n",
       "| DBP     | 134 |\n",
       "| SBP     | 134 |\n",
       "| RR      | 133 |\n",
       "| Glucose |  58 |\n",
       "| Temp    |  52 |\n",
       "| K       |  39 |\n",
       "| Na      |  37 |\n",
       "| Hct     |  33 |\n",
       "| Hgb     |  33 |\n",
       "\n"
      ],
      "text/plain": [
       "   features n  \n",
       "1  Pulse    136\n",
       "2  DBP      134\n",
       "3  SBP      134\n",
       "4  RR       133\n",
       "5  Glucose   58\n",
       "6  Temp      52\n",
       "7  K         39\n",
       "8  Na        37\n",
       "9  Hct       33\n",
       "10 Hgb       33"
      ]
     },
     "metadata": {},
     "output_type": "display_data"
    }
   ],
   "source": [
    "results05 %>% filter(transfer==1) %>% group_by(feature_type) %>% summarise(n=n()) %>% arrange(-n)\n",
    "results05 %>% filter(transfer==1) %>% group_by(features) %>% summarise(n=n()) %>% arrange(-n) %>% head(10)"
   ]
  },
  {
   "cell_type": "code",
   "execution_count": 19,
   "metadata": {},
   "outputs": [
    {
     "name": "stderr",
     "output_type": "stream",
     "text": [
      "`summarise()` ungrouping output (override with `.groups` argument)\n",
      "\n"
     ]
    },
    {
     "data": {
      "text/html": [
       "<table>\n",
       "<caption>A tibble: 9 × 2</caption>\n",
       "<thead>\n",
       "\t<tr><th scope=col>feature_type</th><th scope=col>n</th></tr>\n",
       "\t<tr><th scope=col>&lt;chr&gt;</th><th scope=col>&lt;int&gt;</th></tr>\n",
       "</thead>\n",
       "<tbody>\n",
       "\t<tr><td>Diagnosis   </td><td>2981</td></tr>\n",
       "\t<tr><td>Meds        </td><td>1915</td></tr>\n",
       "\t<tr><td>labs        </td><td>1469</td></tr>\n",
       "\t<tr><td>vitals      </td><td>1125</td></tr>\n",
       "\t<tr><td>Lab         </td><td> 857</td></tr>\n",
       "\t<tr><td>demo        </td><td> 629</td></tr>\n",
       "\t<tr><td>Imaging     </td><td> 174</td></tr>\n",
       "\t<tr><td>Procedures  </td><td>  68</td></tr>\n",
       "\t<tr><td>Microbiology</td><td>  10</td></tr>\n",
       "</tbody>\n",
       "</table>\n"
      ],
      "text/latex": [
       "A tibble: 9 × 2\n",
       "\\begin{tabular}{ll}\n",
       " feature\\_type & n\\\\\n",
       " <chr> & <int>\\\\\n",
       "\\hline\n",
       "\t Diagnosis    & 2981\\\\\n",
       "\t Meds         & 1915\\\\\n",
       "\t labs         & 1469\\\\\n",
       "\t vitals       & 1125\\\\\n",
       "\t Lab          &  857\\\\\n",
       "\t demo         &  629\\\\\n",
       "\t Imaging      &  174\\\\\n",
       "\t Procedures   &   68\\\\\n",
       "\t Microbiology &   10\\\\\n",
       "\\end{tabular}\n"
      ],
      "text/markdown": [
       "\n",
       "A tibble: 9 × 2\n",
       "\n",
       "| feature_type &lt;chr&gt; | n &lt;int&gt; |\n",
       "|---|---|\n",
       "| Diagnosis    | 2981 |\n",
       "| Meds         | 1915 |\n",
       "| labs         | 1469 |\n",
       "| vitals       | 1125 |\n",
       "| Lab          |  857 |\n",
       "| demo         |  629 |\n",
       "| Imaging      |  174 |\n",
       "| Procedures   |   68 |\n",
       "| Microbiology |   10 |\n",
       "\n"
      ],
      "text/plain": [
       "  feature_type n   \n",
       "1 Diagnosis    2981\n",
       "2 Meds         1915\n",
       "3 labs         1469\n",
       "4 vitals       1125\n",
       "5 Lab           857\n",
       "6 demo          629\n",
       "7 Imaging       174\n",
       "8 Procedures     68\n",
       "9 Microbiology   10"
      ]
     },
     "metadata": {},
     "output_type": "display_data"
    },
    {
     "name": "stderr",
     "output_type": "stream",
     "text": [
      "`summarise()` ungrouping output (override with `.groups` argument)\n",
      "\n"
     ]
    },
    {
     "data": {
      "text/html": [
       "<table>\n",
       "<caption>A tibble: 10 × 2</caption>\n",
       "<thead>\n",
       "\t<tr><th scope=col>features</th><th scope=col>n</th></tr>\n",
       "\t<tr><th scope=col>&lt;chr&gt;</th><th scope=col>&lt;int&gt;</th></tr>\n",
       "</thead>\n",
       "<tbody>\n",
       "\t<tr><td>Pulse  </td><td>262</td></tr>\n",
       "\t<tr><td>RR     </td><td>261</td></tr>\n",
       "\t<tr><td>DBP    </td><td>251</td></tr>\n",
       "\t<tr><td>SBP    </td><td>251</td></tr>\n",
       "\t<tr><td>Temp   </td><td>100</td></tr>\n",
       "\t<tr><td>Glucose</td><td> 86</td></tr>\n",
       "\t<tr><td>K      </td><td> 57</td></tr>\n",
       "\t<tr><td>Na     </td><td> 55</td></tr>\n",
       "\t<tr><td>Hct    </td><td> 53</td></tr>\n",
       "\t<tr><td>Hgb    </td><td> 53</td></tr>\n",
       "</tbody>\n",
       "</table>\n"
      ],
      "text/latex": [
       "A tibble: 10 × 2\n",
       "\\begin{tabular}{ll}\n",
       " features & n\\\\\n",
       " <chr> & <int>\\\\\n",
       "\\hline\n",
       "\t Pulse   & 262\\\\\n",
       "\t RR      & 261\\\\\n",
       "\t DBP     & 251\\\\\n",
       "\t SBP     & 251\\\\\n",
       "\t Temp    & 100\\\\\n",
       "\t Glucose &  86\\\\\n",
       "\t K       &  57\\\\\n",
       "\t Na      &  55\\\\\n",
       "\t Hct     &  53\\\\\n",
       "\t Hgb     &  53\\\\\n",
       "\\end{tabular}\n"
      ],
      "text/markdown": [
       "\n",
       "A tibble: 10 × 2\n",
       "\n",
       "| features &lt;chr&gt; | n &lt;int&gt; |\n",
       "|---|---|\n",
       "| Pulse   | 262 |\n",
       "| RR      | 261 |\n",
       "| DBP     | 251 |\n",
       "| SBP     | 251 |\n",
       "| Temp    | 100 |\n",
       "| Glucose |  86 |\n",
       "| K       |  57 |\n",
       "| Na      |  55 |\n",
       "| Hct     |  53 |\n",
       "| Hgb     |  53 |\n",
       "\n"
      ],
      "text/plain": [
       "   features n  \n",
       "1  Pulse    262\n",
       "2  RR       261\n",
       "3  DBP      251\n",
       "4  SBP      251\n",
       "5  Temp     100\n",
       "6  Glucose   86\n",
       "7  K         57\n",
       "8  Na        55\n",
       "9  Hct       53\n",
       "10 Hgb       53"
      ]
     },
     "metadata": {},
     "output_type": "display_data"
    }
   ],
   "source": [
    "results05 %>% group_by(feature_type) %>% summarise(n=n()) %>% arrange(-n)\n",
    "results05 %>% group_by(features) %>% summarise(n=n()) %>% arrange(-n) %>% head(10)"
   ]
  },
  {
   "cell_type": "code",
   "execution_count": 20,
   "metadata": {},
   "outputs": [
    {
     "data": {
      "text/html": [
       "<table>\n",
       "<caption>A data.frame: 6 × 12</caption>\n",
       "<thead>\n",
       "\t<tr><th></th><th scope=col>anon_id</th><th scope=col>pat_enc_csn_id_coded</th><th scope=col>admit_time</th><th scope=col>first_label</th><th scope=col>death_24hr_recent_label</th><th scope=col>abs_diff0_24</th><th scope=col>feature_type</th><th scope=col>features</th><th scope=col>values</th><th scope=col>time</th><th scope=col>transfer</th><th scope=col>hr_before_admit</th></tr>\n",
       "\t<tr><th></th><th scope=col>&lt;chr&gt;</th><th scope=col>&lt;dbl&gt;</th><th scope=col>&lt;dttm&gt;</th><th scope=col>&lt;int&gt;</th><th scope=col>&lt;int&gt;</th><th scope=col>&lt;dbl&gt;</th><th scope=col>&lt;chr&gt;</th><th scope=col>&lt;chr&gt;</th><th scope=col>&lt;dbl&gt;</th><th scope=col>&lt;dttm&gt;</th><th scope=col>&lt;dbl&gt;</th><th scope=col>&lt;dbl&gt;</th></tr>\n",
       "</thead>\n",
       "<tbody>\n",
       "\t<tr><th scope=row>1</th><td>JC29fe5a7</td><td>131273666433</td><td>2019-07-17 11:48:00</td><td>1</td><td>1</td><td>0.7</td><td>vitals</td><td>Temp </td><td> 36.8</td><td>2019-07-17 08:34:00</td><td>0</td><td>3.2</td></tr>\n",
       "\t<tr><th scope=row>2</th><td>JC29fe5a7</td><td>131273666433</td><td>2019-07-17 11:48:00</td><td>1</td><td>1</td><td>0.7</td><td>vitals</td><td>DBP  </td><td> 94.0</td><td>2019-07-17 08:34:00</td><td>0</td><td>3.2</td></tr>\n",
       "\t<tr><th scope=row>3</th><td>JC29fe5a7</td><td>131273666433</td><td>2019-07-17 11:48:00</td><td>1</td><td>1</td><td>0.7</td><td>vitals</td><td>Pulse</td><td>107.0</td><td>2019-07-17 08:34:00</td><td>0</td><td>3.2</td></tr>\n",
       "\t<tr><th scope=row>4</th><td>JC29fe5a7</td><td>131273666433</td><td>2019-07-17 11:48:00</td><td>1</td><td>1</td><td>0.7</td><td>vitals</td><td>RR   </td><td> 22.0</td><td>2019-07-17 08:34:00</td><td>0</td><td>3.2</td></tr>\n",
       "\t<tr><th scope=row>5</th><td>JC29fe5a7</td><td>131273666433</td><td>2019-07-17 11:48:00</td><td>1</td><td>1</td><td>0.7</td><td>vitals</td><td>SBP  </td><td>132.0</td><td>2019-07-17 08:34:00</td><td>0</td><td>3.2</td></tr>\n",
       "\t<tr><th scope=row>6</th><td>JC29fe5a7</td><td>131273666433</td><td>2019-07-17 11:48:00</td><td>1</td><td>1</td><td>0.7</td><td>vitals</td><td>Temp </td><td> 37.0</td><td>2019-07-17 08:34:00</td><td>0</td><td>3.2</td></tr>\n",
       "</tbody>\n",
       "</table>\n"
      ],
      "text/latex": [
       "A data.frame: 6 × 12\n",
       "\\begin{tabular}{r|llllllllllll}\n",
       "  & anon\\_id & pat\\_enc\\_csn\\_id\\_coded & admit\\_time & first\\_label & death\\_24hr\\_recent\\_label & abs\\_diff0\\_24 & feature\\_type & features & values & time & transfer & hr\\_before\\_admit\\\\\n",
       "  & <chr> & <dbl> & <dttm> & <int> & <int> & <dbl> & <chr> & <chr> & <dbl> & <dttm> & <dbl> & <dbl>\\\\\n",
       "\\hline\n",
       "\t1 & JC29fe5a7 & 131273666433 & 2019-07-17 11:48:00 & 1 & 1 & 0.7 & vitals & Temp  &  36.8 & 2019-07-17 08:34:00 & 0 & 3.2\\\\\n",
       "\t2 & JC29fe5a7 & 131273666433 & 2019-07-17 11:48:00 & 1 & 1 & 0.7 & vitals & DBP   &  94.0 & 2019-07-17 08:34:00 & 0 & 3.2\\\\\n",
       "\t3 & JC29fe5a7 & 131273666433 & 2019-07-17 11:48:00 & 1 & 1 & 0.7 & vitals & Pulse & 107.0 & 2019-07-17 08:34:00 & 0 & 3.2\\\\\n",
       "\t4 & JC29fe5a7 & 131273666433 & 2019-07-17 11:48:00 & 1 & 1 & 0.7 & vitals & RR    &  22.0 & 2019-07-17 08:34:00 & 0 & 3.2\\\\\n",
       "\t5 & JC29fe5a7 & 131273666433 & 2019-07-17 11:48:00 & 1 & 1 & 0.7 & vitals & SBP   & 132.0 & 2019-07-17 08:34:00 & 0 & 3.2\\\\\n",
       "\t6 & JC29fe5a7 & 131273666433 & 2019-07-17 11:48:00 & 1 & 1 & 0.7 & vitals & Temp  &  37.0 & 2019-07-17 08:34:00 & 0 & 3.2\\\\\n",
       "\\end{tabular}\n"
      ],
      "text/markdown": [
       "\n",
       "A data.frame: 6 × 12\n",
       "\n",
       "| <!--/--> | anon_id &lt;chr&gt; | pat_enc_csn_id_coded &lt;dbl&gt; | admit_time &lt;dttm&gt; | first_label &lt;int&gt; | death_24hr_recent_label &lt;int&gt; | abs_diff0_24 &lt;dbl&gt; | feature_type &lt;chr&gt; | features &lt;chr&gt; | values &lt;dbl&gt; | time &lt;dttm&gt; | transfer &lt;dbl&gt; | hr_before_admit &lt;dbl&gt; |\n",
       "|---|---|---|---|---|---|---|---|---|---|---|---|---|\n",
       "| 1 | JC29fe5a7 | 131273666433 | 2019-07-17 11:48:00 | 1 | 1 | 0.7 | vitals | Temp  |  36.8 | 2019-07-17 08:34:00 | 0 | 3.2 |\n",
       "| 2 | JC29fe5a7 | 131273666433 | 2019-07-17 11:48:00 | 1 | 1 | 0.7 | vitals | DBP   |  94.0 | 2019-07-17 08:34:00 | 0 | 3.2 |\n",
       "| 3 | JC29fe5a7 | 131273666433 | 2019-07-17 11:48:00 | 1 | 1 | 0.7 | vitals | Pulse | 107.0 | 2019-07-17 08:34:00 | 0 | 3.2 |\n",
       "| 4 | JC29fe5a7 | 131273666433 | 2019-07-17 11:48:00 | 1 | 1 | 0.7 | vitals | RR    |  22.0 | 2019-07-17 08:34:00 | 0 | 3.2 |\n",
       "| 5 | JC29fe5a7 | 131273666433 | 2019-07-17 11:48:00 | 1 | 1 | 0.7 | vitals | SBP   | 132.0 | 2019-07-17 08:34:00 | 0 | 3.2 |\n",
       "| 6 | JC29fe5a7 | 131273666433 | 2019-07-17 11:48:00 | 1 | 1 | 0.7 | vitals | Temp  |  37.0 | 2019-07-17 08:34:00 | 0 | 3.2 |\n",
       "\n"
      ],
      "text/plain": [
       "  anon_id   pat_enc_csn_id_coded admit_time          first_label\n",
       "1 JC29fe5a7 131273666433         2019-07-17 11:48:00 1          \n",
       "2 JC29fe5a7 131273666433         2019-07-17 11:48:00 1          \n",
       "3 JC29fe5a7 131273666433         2019-07-17 11:48:00 1          \n",
       "4 JC29fe5a7 131273666433         2019-07-17 11:48:00 1          \n",
       "5 JC29fe5a7 131273666433         2019-07-17 11:48:00 1          \n",
       "6 JC29fe5a7 131273666433         2019-07-17 11:48:00 1          \n",
       "  death_24hr_recent_label abs_diff0_24 feature_type features values\n",
       "1 1                       0.7          vitals       Temp      36.8 \n",
       "2 1                       0.7          vitals       DBP       94.0 \n",
       "3 1                       0.7          vitals       Pulse    107.0 \n",
       "4 1                       0.7          vitals       RR        22.0 \n",
       "5 1                       0.7          vitals       SBP      132.0 \n",
       "6 1                       0.7          vitals       Temp      37.0 \n",
       "  time                transfer hr_before_admit\n",
       "1 2019-07-17 08:34:00 0        3.2            \n",
       "2 2019-07-17 08:34:00 0        3.2            \n",
       "3 2019-07-17 08:34:00 0        3.2            \n",
       "4 2019-07-17 08:34:00 0        3.2            \n",
       "5 2019-07-17 08:34:00 0        3.2            \n",
       "6 2019-07-17 08:34:00 0        3.2            "
      ]
     },
     "metadata": {},
     "output_type": "display_data"
    },
    {
     "data": {
      "text/plain": [
       "   Min. 1st Qu.  Median    Mean 3rd Qu.    Max.    NA's \n",
       "  0.000   0.900   1.700   1.933   2.800   6.500    6634 "
      ]
     },
     "metadata": {},
     "output_type": "display_data"
    },
    {
     "data": {
      "image/png": "[encoded data removed]",
      "text/plain": [
       "plot without title"
      ]
     },
     "metadata": {
      "image/png": {
       "height": 420,
       "width": 420
      }
     },
     "output_type": "display_data"
    },
    {
     "data": {
      "image/png": "[encoded data removed]",
      "text/plain": [
       "Plot with title \"Histogram of results05$hr_before_admit\""
      ]
     },
     "metadata": {
      "image/png": {
       "height": 420,
       "width": 420
      }
     },
     "output_type": "display_data"
    }
   ],
   "source": [
    "head(results05 %>% filter(feature_type == 'vitals'))\n",
    "summary(results05$hr_before_admit)\n",
    "plot(results05$hr_before_admit)\n",
    "hist(results05$hr_before_admit)"
   ]
  },
  {
   "cell_type": "code",
   "execution_count": 21,
   "metadata": {},
   "outputs": [
    {
     "name": "stderr",
     "output_type": "stream",
     "text": [
      "`summarise()` regrouping output by 'pat_enc_csn_id_coded', 'features' (override with `.groups` argument)\n",
      "\n",
      "`summarise()` ungrouping output (override with `.groups` argument)\n",
      "\n"
     ]
    },
    {
     "data": {
      "text/html": [
       "<table>\n",
       "<caption>A tibble: 6 × 2</caption>\n",
       "<thead>\n",
       "\t<tr><th scope=col>features</th><th scope=col>n</th></tr>\n",
       "\t<tr><th scope=col>&lt;fct&gt;</th><th scope=col>&lt;int&gt;</th></tr>\n",
       "</thead>\n",
       "<tbody>\n",
       "\t<tr><td>Pulse  </td><td>224</td></tr>\n",
       "\t<tr><td>RR     </td><td>222</td></tr>\n",
       "\t<tr><td>DBP    </td><td>216</td></tr>\n",
       "\t<tr><td>SBP    </td><td>216</td></tr>\n",
       "\t<tr><td>Glucose</td><td> 83</td></tr>\n",
       "\t<tr><td>Temp   </td><td> 52</td></tr>\n",
       "</tbody>\n",
       "</table>\n"
      ],
      "text/latex": [
       "A tibble: 6 × 2\n",
       "\\begin{tabular}{ll}\n",
       " features & n\\\\\n",
       " <fct> & <int>\\\\\n",
       "\\hline\n",
       "\t Pulse   & 224\\\\\n",
       "\t RR      & 222\\\\\n",
       "\t DBP     & 216\\\\\n",
       "\t SBP     & 216\\\\\n",
       "\t Glucose &  83\\\\\n",
       "\t Temp    &  52\\\\\n",
       "\\end{tabular}\n"
      ],
      "text/markdown": [
       "\n",
       "A tibble: 6 × 2\n",
       "\n",
       "| features &lt;fct&gt; | n &lt;int&gt; |\n",
       "|---|---|\n",
       "| Pulse   | 224 |\n",
       "| RR      | 222 |\n",
       "| DBP     | 216 |\n",
       "| SBP     | 216 |\n",
       "| Glucose |  83 |\n",
       "| Temp    |  52 |\n",
       "\n"
      ],
      "text/plain": [
       "  features n  \n",
       "1 Pulse    224\n",
       "2 RR       222\n",
       "3 DBP      216\n",
       "4 SBP      216\n",
       "5 Glucose   83\n",
       "6 Temp      52"
      ]
     },
     "metadata": {},
     "output_type": "display_data"
    },
    {
     "data": {
      "text/html": [
       "<table>\n",
       "<caption>A grouped_df: 1 × 4</caption>\n",
       "<thead>\n",
       "\t<tr><th scope=col>pat_enc_csn_id_coded</th><th scope=col>features</th><th scope=col>hr_before_admit</th><th scope=col>values</th></tr>\n",
       "\t<tr><th scope=col>&lt;fct&gt;</th><th scope=col>&lt;fct&gt;</th><th scope=col>&lt;dbl&gt;</th><th scope=col>&lt;dbl&gt;</th></tr>\n",
       "</thead>\n",
       "<tbody>\n",
       "\t<tr><td>131263398448</td><td>DBP</td><td>0</td><td>78</td></tr>\n",
       "</tbody>\n",
       "</table>\n"
      ],
      "text/latex": [
       "A grouped\\_df: 1 × 4\n",
       "\\begin{tabular}{llll}\n",
       " pat\\_enc\\_csn\\_id\\_coded & features & hr\\_before\\_admit & values\\\\\n",
       " <fct> & <fct> & <dbl> & <dbl>\\\\\n",
       "\\hline\n",
       "\t 131263398448 & DBP & 0 & 78\\\\\n",
       "\\end{tabular}\n"
      ],
      "text/markdown": [
       "\n",
       "A grouped_df: 1 × 4\n",
       "\n",
       "| pat_enc_csn_id_coded &lt;fct&gt; | features &lt;fct&gt; | hr_before_admit &lt;dbl&gt; | values &lt;dbl&gt; |\n",
       "|---|---|---|---|\n",
       "| 131263398448 | DBP | 0 | 78 |\n",
       "\n"
      ],
      "text/plain": [
       "  pat_enc_csn_id_coded features hr_before_admit values\n",
       "1 131263398448         DBP      0               78    "
      ]
     },
     "metadata": {},
     "output_type": "display_data"
    }
   ],
   "source": [
    "results05_vsglu <- results05 %>% filter(feature_type=='vitals' | features==\"Glucose\") %>%\n",
    "                    group_by(pat_enc_csn_id_coded, features, hr_before_admit) %>%\n",
    "                    summarise(values=mean(values, na.rm=TRUE)) %>%\n",
    "                    mutate(pat_enc_csn_id_coded = factor(pat_enc_csn_id_coded),\n",
    "                           features = factor(features))\n",
    "results05_vsglu %>% group_by(features) %>% summarise(n=n()) %>% arrange(-n)\n",
    "head(results05_vsglu, 1)"
   ]
  },
  {
   "cell_type": "code",
   "execution_count": 22,
   "metadata": {},
   "outputs": [
    {
     "name": "stderr",
     "output_type": "stream",
     "text": [
      "Warning message:\n",
      "\"`fun.y` is deprecated. Use `fun` instead.\"\n",
      "`geom_smooth()` using method = 'loess' and formula 'y ~ x'\n",
      "\n"
     ]
    },
    {
     "data": {
      "image/png": "[encoded data removed]",
      "text/plain": [
       "plot without title"
      ]
     },
     "metadata": {
      "image/png": {
       "height": 1800,
       "width": 420
      }
     },
     "output_type": "display_data"
    }
   ],
   "source": [
    "options(repr.plot.width=7, repr.plot.height=30)\n",
    "\n",
    "# p <- ggplot(data = results05_vs, aes(x = hr_before_admit, y = values, group = pat_enc_csn_id_coded)) + facet_grid(. ~ features)\n",
    "# facet_wrap(. ~ features, scales=\"free_y\") # cannot do facet_grid with free scale as above\n",
    "p <- ggplot(data = results05_vsglu, aes(x = hr_before_admit, y = values, group = pat_enc_csn_id_coded)) + facet_grid(features ~ ., scales=\"free\")\n",
    "\n",
    "# use group 1 as for the whole data NOT per csn: so the smooth is not calculated separately for each csn\n",
    "p + geom_line() + stat_smooth(aes(group = 1)) + stat_summary(aes(group = 1), geom = \"point\", fun.y = mean)"
   ]
  },
  {
   "cell_type": "code",
   "execution_count": 42,
   "metadata": {},
   "outputs": [],
   "source": [
    "# results05 wide<- spread(results05, features, values)"
   ]
  },
  {
   "cell_type": "raw",
   "metadata": {},
   "source": [
    "p <- ggplot(data = results05wide, aes(x = hr_before_admit, y = DBP, group = pat_enc_csn_id_coded))\n",
    "p + geom_line()"
   ]
  },
  {
   "cell_type": "markdown",
   "metadata": {},
   "source": [
    "### First obs:\n",
    "- CSN: 131265379414\n",
    "- first_label = death_24hr_recent_label = 1\n",
    "- pred_first = 0.796905; pred_death_24hr_recent = 0.06790455 vs  0.7532933 & 0.06092662"
   ]
  },
  {
   "cell_type": "markdown",
   "metadata": {},
   "source": [
    "### Check ADT table:"
   ]
  },
  {
   "cell_type": "code",
   "execution_count": 9,
   "metadata": {},
   "outputs": [],
   "source": [
    "adt <- read.csv(file.path(datadir, 'adt_class_serv_loc.csv'))"
   ]
  },
  {
   "cell_type": "code",
   "execution_count": 10,
   "metadata": {},
   "outputs": [
    {
     "data": {
      "text/html": [
       "<table class=\"dataframe\">\n",
       "<caption>A data.frame: 6 × 5</caption>\n",
       "<thead>\n",
       "\t<tr><th></th><th scope=col>pat_class_c</th><th scope=col>pat_class</th><th scope=col>base_pat_class</th><th scope=col>pat_service</th><th scope=col>pat_lv_of_care</th></tr>\n",
       "\t<tr><th></th><th scope=col>&lt;int&gt;</th><th scope=col>&lt;chr&gt;</th><th scope=col>&lt;chr&gt;</th><th scope=col>&lt;chr&gt;</th><th scope=col>&lt;chr&gt;</th></tr>\n",
       "</thead>\n",
       "<tbody>\n",
       "\t<tr><th scope=row>1</th><td>120</td><td>LPCH PATIENT                        </td><td>          </td><td>Emergency Medicine</td><td>                                            </td></tr>\n",
       "\t<tr><th scope=row>2</th><td>166</td><td>Bedded Outpatient (corrections only)</td><td>          </td><td>Emergency         </td><td>                                            </td></tr>\n",
       "\t<tr><th scope=row>3</th><td>166</td><td>Bedded Outpatient (corrections only)</td><td>Outpatient</td><td>Emergency         </td><td>Acute Care (Assessment or intervention q4-8)</td></tr>\n",
       "\t<tr><th scope=row>4</th><td>166</td><td>Bedded Outpatient (corrections only)</td><td>          </td><td>Emergency         </td><td>Acute Care (Assessment or intervention q4-8)</td></tr>\n",
       "\t<tr><th scope=row>5</th><td>132</td><td>To Be Admitted                      </td><td>Inpatient </td><td>Emergency         </td><td>                                            </td></tr>\n",
       "\t<tr><th scope=row>6</th><td>166</td><td>Bedded Outpatient (corrections only)</td><td>          </td><td>Emergency         </td><td>Acute Care (Assessment or intervention q4-8)</td></tr>\n",
       "</tbody>\n",
       "</table>\n"
      ],
      "text/latex": [
       "A data.frame: 6 × 5\n",
       "\\begin{tabular}{r|lllll}\n",
       "  & pat\\_class\\_c & pat\\_class & base\\_pat\\_class & pat\\_service & pat\\_lv\\_of\\_care\\\\\n",
       "  & <int> & <chr> & <chr> & <chr> & <chr>\\\\\n",
       "\\hline\n",
       "\t1 & 120 & LPCH PATIENT                         &            & Emergency Medicine &                                             \\\\\n",
       "\t2 & 166 & Bedded Outpatient (corrections only) &            & Emergency          &                                             \\\\\n",
       "\t3 & 166 & Bedded Outpatient (corrections only) & Outpatient & Emergency          & Acute Care (Assessment or intervention q4-8)\\\\\n",
       "\t4 & 166 & Bedded Outpatient (corrections only) &            & Emergency          & Acute Care (Assessment or intervention q4-8)\\\\\n",
       "\t5 & 132 & To Be Admitted                       & Inpatient  & Emergency          &                                             \\\\\n",
       "\t6 & 166 & Bedded Outpatient (corrections only) &            & Emergency          & Acute Care (Assessment or intervention q4-8)\\\\\n",
       "\\end{tabular}\n"
      ],
      "text/markdown": [
       "\n",
       "A data.frame: 6 × 5\n",
       "\n",
       "| <!--/--> | pat_class_c &lt;int&gt; | pat_class &lt;chr&gt; | base_pat_class &lt;chr&gt; | pat_service &lt;chr&gt; | pat_lv_of_care &lt;chr&gt; |\n",
       "|---|---|---|---|---|---|\n",
       "| 1 | 120 | LPCH PATIENT                         | <!----> | Emergency Medicine | <!----> |\n",
       "| 2 | 166 | Bedded Outpatient (corrections only) | <!----> | Emergency          | <!----> |\n",
       "| 3 | 166 | Bedded Outpatient (corrections only) | Outpatient | Emergency          | Acute Care (Assessment or intervention q4-8) |\n",
       "| 4 | 166 | Bedded Outpatient (corrections only) | <!----> | Emergency          | Acute Care (Assessment or intervention q4-8) |\n",
       "| 5 | 132 | To Be Admitted                       | Inpatient  | Emergency          | <!----> |\n",
       "| 6 | 166 | Bedded Outpatient (corrections only) | <!----> | Emergency          | Acute Care (Assessment or intervention q4-8) |\n",
       "\n"
      ],
      "text/plain": [
       "  pat_class_c pat_class                            base_pat_class\n",
       "1 120         LPCH PATIENT                                       \n",
       "2 166         Bedded Outpatient (corrections only)               \n",
       "3 166         Bedded Outpatient (corrections only) Outpatient    \n",
       "4 166         Bedded Outpatient (corrections only)               \n",
       "5 132         To Be Admitted                       Inpatient     \n",
       "6 166         Bedded Outpatient (corrections only)               \n",
       "  pat_service        pat_lv_of_care                              \n",
       "1 Emergency Medicine                                             \n",
       "2 Emergency                                                      \n",
       "3 Emergency          Acute Care (Assessment or intervention q4-8)\n",
       "4 Emergency          Acute Care (Assessment or intervention q4-8)\n",
       "5 Emergency                                                      \n",
       "6 Emergency          Acute Care (Assessment or intervention q4-8)"
      ]
     },
     "metadata": {},
     "output_type": "display_data"
    }
   ],
   "source": [
    "head(adt)"
   ]
  },
  {
   "cell_type": "markdown",
   "metadata": {},
   "source": [
    "### Investigate:\n",
    "1. Diagnosis\n",
    "2. Medications\n",
    "3. Vital trend\n",
    "4. Lab trend, esp. glucose\n",
    "5. ADT trajectories, team (Tiffany)\n",
    "6. Demographics (Tiffany)"
   ]
  }
 ],
 "metadata": {
  "environment": {
   "name": "r-cpu.4-0.m71",
   "type": "gcloud",
   "uri": "gcr.io/deeplearning-platform-release/r-cpu.4-0:m71"
  },
  "kernelspec": {
   "display_name": "R",
   "language": "R",
   "name": "ir"
  },
  "language_info": {
   "codemirror_mode": "r",
   "file_extension": ".r",
   "mimetype": "text/x-r-source",
   "name": "R",
   "pygments_lexer": "r",
   "version": "4.0.3"
  }
 },
 "nbformat": 4,
 "nbformat_minor": 4
}
