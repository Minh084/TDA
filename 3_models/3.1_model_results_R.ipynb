{
 "cells": [
  {
   "cell_type": "markdown",
   "metadata": {},
   "source": [
    "### Description\n",
    "- Patient visits who were transferred within 24 hours\n",
    "    - ICUs to non-ICUs\n",
    "    - Non-ICUs to ICUs\n",
    "- Prediction differences between labels at time 0 and 24hr\n",
    "- Differences between predicted values at time 0 and time 24 compared to their corresponding true labels\n",
    "- Within the patient visits who were transferred:\n",
    "    - More in depth about those with largest differences between the predictions at 2 time points\n",
    "    - and how they are related to the differences in predicted values vs. true labels\n",
    "    \n",
    "Inputs:\n",
    "- `1_4_cohort`\n",
    "- prediction outputs for 3 labels using 1_4_cohort with light gbm\n",
    "\n",
    "Outputs:\n",
    "- `1_4_cohort_test_results` test cohort (admit year 2019 and 2020) with prediction results\n",
    "- `1_4_cohort_diff_full_features` 318 observations in test cohort (pred difference >= 0.3) with full features used for predictions"
   ]
  },
  {
   "cell_type": "code",
   "execution_count": 3,
   "metadata": {},
   "outputs": [
    {
     "name": "stderr",
     "output_type": "stream",
     "text": [
      "Installing package into ‘/home/jupyter/.R/library’\n",
      "(as ‘lib’ is unspecified)\n",
      "\n",
      "also installing the dependencies ‘jpeg’, ‘Formula’, ‘latticeExtra’, ‘mvtnorm’, ‘TH.data’, ‘sandwich’, ‘checkmate’, ‘Hmisc’, ‘polspline’, ‘multcomp’, ‘htmlTable’\n",
      "\n",
      "\n"
     ]
    }
   ],
   "source": [
    "# install.packages('rms')"
   ]
  },
  {
   "cell_type": "code",
   "execution_count": 1,
   "metadata": {},
   "outputs": [
    {
     "name": "stderr",
     "output_type": "stream",
     "text": [
      "Loading required package: lattice\n",
      "\n",
      "Loading required package: ggplot2\n",
      "\n",
      "-- \u001b[1mAttaching packages\u001b[22m --------------------------------------- tidyverse 1.3.0 --\n",
      "\n",
      "\u001b[32mv\u001b[39m \u001b[34mtibble \u001b[39m 3.0.4     \u001b[32mv\u001b[39m \u001b[34mdplyr  \u001b[39m 1.0.2\n",
      "\u001b[32mv\u001b[39m \u001b[34mtidyr  \u001b[39m 1.1.2     \u001b[32mv\u001b[39m \u001b[34mstringr\u001b[39m 1.4.0\n",
      "\u001b[32mv\u001b[39m \u001b[34mreadr  \u001b[39m 1.4.0     \u001b[32mv\u001b[39m \u001b[34mforcats\u001b[39m 0.5.0\n",
      "\u001b[32mv\u001b[39m \u001b[34mpurrr  \u001b[39m 0.3.4     \n",
      "\n",
      "-- \u001b[1mConflicts\u001b[22m ------------------------------------------ tidyverse_conflicts() --\n",
      "\u001b[31mx\u001b[39m \u001b[34mdplyr\u001b[39m::\u001b[32mbetween()\u001b[39m   masks \u001b[34mdata.table\u001b[39m::between()\n",
      "\u001b[31mx\u001b[39m \u001b[34mdplyr\u001b[39m::\u001b[32mfilter()\u001b[39m    masks \u001b[34mstats\u001b[39m::filter()\n",
      "\u001b[31mx\u001b[39m \u001b[34mdplyr\u001b[39m::\u001b[32mfirst()\u001b[39m     masks \u001b[34mdata.table\u001b[39m::first()\n",
      "\u001b[31mx\u001b[39m \u001b[34mdplyr\u001b[39m::\u001b[32mlag()\u001b[39m       masks \u001b[34mstats\u001b[39m::lag()\n",
      "\u001b[31mx\u001b[39m \u001b[34mdplyr\u001b[39m::\u001b[32mlast()\u001b[39m      masks \u001b[34mdata.table\u001b[39m::last()\n",
      "\u001b[31mx\u001b[39m \u001b[34mpurrr\u001b[39m::\u001b[32mlift()\u001b[39m      masks \u001b[34mcaret\u001b[39m::lift()\n",
      "\u001b[31mx\u001b[39m \u001b[34mpurrr\u001b[39m::\u001b[32mtranspose()\u001b[39m masks \u001b[34mdata.table\u001b[39m::transpose()\n",
      "\n",
      "\n",
      "Attaching package: 'lubridate'\n",
      "\n",
      "\n",
      "The following objects are masked from 'package:data.table':\n",
      "\n",
      "    hour, isoweek, mday, minute, month, quarter, second, wday, week,\n",
      "    yday, year\n",
      "\n",
      "\n",
      "The following objects are masked from 'package:base':\n",
      "\n",
      "    date, intersect, setdiff, union\n",
      "\n",
      "\n",
      "\n",
      "Attaching package: 'Matrix'\n",
      "\n",
      "\n",
      "The following objects are masked from 'package:tidyr':\n",
      "\n",
      "    expand, pack, unpack\n",
      "\n",
      "\n",
      "Warning message:\n",
      "\"package 'glmnet' was built under R version 4.0.5\"\n",
      "Loaded glmnet 4.1-1\n",
      "\n",
      "Warning message:\n",
      "\"package 'bit64' was built under R version 4.0.5\"\n",
      "Loading required package: bit\n",
      "\n",
      "Warning message:\n",
      "\"package 'bit' was built under R version 4.0.5\"\n",
      "\n",
      "Attaching package: 'bit'\n",
      "\n",
      "\n",
      "The following object is masked from 'package:data.table':\n",
      "\n",
      "    setattr\n",
      "\n",
      "\n",
      "The following object is masked from 'package:base':\n",
      "\n",
      "    xor\n",
      "\n",
      "\n",
      "Attaching package bit64\n",
      "\n",
      "package:bit64 (c) 2011-2017 Jens Oehlschlaegel\n",
      "\n",
      "creators: integer64 runif64 seq :\n",
      "\n",
      "coercion: as.integer64 as.vector as.logical as.integer as.double as.character as.bitstring\n",
      "\n",
      "logical operator: ! & | xor != == < <= >= >\n",
      "\n",
      "arithmetic operator: + - * / %/% %% ^\n",
      "\n",
      "math: sign abs sqrt log log2 log10\n",
      "\n",
      "math: floor ceiling trunc round\n",
      "\n",
      "querying: is.integer64 is.vector [is.atomic} [length] format print str\n",
      "\n",
      "values: is.na is.nan is.finite is.infinite\n",
      "\n",
      "aggregation: any all min max range sum prod\n",
      "\n",
      "cumulation: diff cummin cummax cumsum cumprod\n",
      "\n",
      "access: length<- [ [<- [[ [[<-\n",
      "\n",
      "combine: c rep cbind rbind as.data.frame\n",
      "\n",
      "WARNING don't use as subscripts\n",
      "\n",
      "WARNING semantics differ from integer\n",
      "\n",
      "for more help type ?bit64\n",
      "\n",
      "\n",
      "Attaching package: 'bit64'\n",
      "\n",
      "\n",
      "The following objects are masked from 'package:base':\n",
      "\n",
      "    %in%, :, is.double, match, order, rank\n",
      "\n",
      "\n",
      "Type 'citation(\"pROC\")' for a citation.\n",
      "\n",
      "\n",
      "Attaching package: 'pROC'\n",
      "\n",
      "\n",
      "The following objects are masked from 'package:stats':\n",
      "\n",
      "    cov, smooth, var\n",
      "\n",
      "\n",
      "Warning message:\n",
      "\"package 'rms' was built under R version 4.0.5\"\n",
      "Loading required package: Hmisc\n",
      "\n",
      "Warning message:\n",
      "\"package 'Hmisc' was built under R version 4.0.5\"\n",
      "Loading required package: survival\n",
      "\n",
      "\n",
      "Attaching package: 'survival'\n",
      "\n",
      "\n",
      "The following object is masked from 'package:caret':\n",
      "\n",
      "    cluster\n",
      "\n",
      "\n",
      "Loading required package: Formula\n",
      "\n",
      "\n",
      "Attaching package: 'Hmisc'\n",
      "\n",
      "\n",
      "The following objects are masked from 'package:dplyr':\n",
      "\n",
      "    src, summarize\n",
      "\n",
      "\n",
      "The following objects are masked from 'package:base':\n",
      "\n",
      "    format.pval, units\n",
      "\n",
      "\n",
      "Loading required package: SparseM\n",
      "\n",
      "Warning message:\n",
      "\"package 'SparseM' was built under R version 4.0.4\"\n",
      "\n",
      "Attaching package: 'SparseM'\n",
      "\n",
      "\n",
      "The following object is masked from 'package:base':\n",
      "\n",
      "    backsolve\n",
      "\n",
      "\n"
     ]
    }
   ],
   "source": [
    "library(caret) # import this before glmnet to avoid rlang version problem\n",
    "library(data.table)\n",
    "library(tidyverse)\n",
    "library(lubridate)\n",
    "library(Matrix)\n",
    "library(glmnet)\n",
    "library(bit64)\n",
    "library(pROC)\n",
    "library(rms)"
   ]
  },
  {
   "cell_type": "code",
   "execution_count": 25,
   "metadata": {},
   "outputs": [],
   "source": [
    "# directories\n",
    "datadir = \"../../DataTD\"\n",
    "cohortdir = \"../../OutputTD/1_cohort\"\n",
    "featuredir = \"../../OutputTD/2_features\"\n",
    "modeldir4 = \"../../OutputTD/3_models/1_4_cohort\"\n",
    "modeldir4preadmit = \"../../OutputTD/3_models/1_4_cohort_24hrpreadmit\""
   ]
  },
  {
   "cell_type": "code",
   "execution_count": 4,
   "metadata": {},
   "outputs": [],
   "source": [
    "# list.files(path=\"modeldir4\", pattern=\"lightgbm_test_results.csv\", full.names=TRUE, recursive=FALSE)\n",
    "# dir(path=\"modeldir4\") #pattern=\"*.csv\")"
   ]
  },
  {
   "cell_type": "code",
   "execution_count": 3,
   "metadata": {},
   "outputs": [
    {
     "data": {
      "text/html": [
       "<style>\n",
       ".list-inline {list-style: none; margin:0; padding: 0}\n",
       ".list-inline>li {display: inline-block}\n",
       ".list-inline>li:not(:last-child)::after {content: \"\\00b7\"; padding: 0 .5ex}\n",
       "</style>\n",
       "<ol class=list-inline><li>'../../OutputTD/3_models/1_4_cohort'</li><li>'../../OutputTD/3_models/1_4_cohort/death_24hr_max_label'</li><li>'../../OutputTD/3_models/1_4_cohort/death_24hr_recent_label'</li><li>'../../OutputTD/3_models/1_4_cohort/first_label'</li></ol>\n"
      ],
      "text/latex": [
       "\\begin{enumerate*}\n",
       "\\item '../../OutputTD/3\\_models/1\\_4\\_cohort'\n",
       "\\item '../../OutputTD/3\\_models/1\\_4\\_cohort/death\\_24hr\\_max\\_label'\n",
       "\\item '../../OutputTD/3\\_models/1\\_4\\_cohort/death\\_24hr\\_recent\\_label'\n",
       "\\item '../../OutputTD/3\\_models/1\\_4\\_cohort/first\\_label'\n",
       "\\end{enumerate*}\n"
      ],
      "text/markdown": [
       "1. '../../OutputTD/3_models/1_4_cohort'\n",
       "2. '../../OutputTD/3_models/1_4_cohort/death_24hr_max_label'\n",
       "3. '../../OutputTD/3_models/1_4_cohort/death_24hr_recent_label'\n",
       "4. '../../OutputTD/3_models/1_4_cohort/first_label'\n",
       "\n",
       "\n"
      ],
      "text/plain": [
       "[1] \"../../OutputTD/3_models/1_4_cohort\"                        \n",
       "[2] \"../../OutputTD/3_models/1_4_cohort/death_24hr_max_label\"   \n",
       "[3] \"../../OutputTD/3_models/1_4_cohort/death_24hr_recent_label\"\n",
       "[4] \"../../OutputTD/3_models/1_4_cohort/first_label\"            "
      ]
     },
     "metadata": {},
     "output_type": "display_data"
    }
   ],
   "source": [
    "# check folder and sub-folders\n",
    "folder <- list.dirs(modeldir4) # this assumes being in the main folder, otherwise specify the path\n",
    "folder\n",
    "sub.folders <- folder[-1]  # comment this out if the main folder also contains the script\n",
    "# script.paths <- paste(folder,\"/\",\"process.R\", sep=\"\")\n",
    "# for (i in script.paths) {source(i)}"
   ]
  },
  {
   "cell_type": "code",
   "execution_count": 4,
   "metadata": {},
   "outputs": [
    {
     "data": {
      "text/html": [
       "<style>\n",
       ".list-inline {list-style: none; margin:0; padding: 0}\n",
       ".list-inline>li {display: inline-block}\n",
       ".list-inline>li:not(:last-child)::after {content: \"\\00b7\"; padding: 0 .5ex}\n",
       "</style>\n",
       "<ol class=list-inline><li>'../../OutputTD/3_models/1_4_cohort/death_24hr_max_label'</li><li>'../../OutputTD/3_models/1_4_cohort/death_24hr_recent_label'</li><li>'../../OutputTD/3_models/1_4_cohort/first_label'</li></ol>\n"
      ],
      "text/latex": [
       "\\begin{enumerate*}\n",
       "\\item '../../OutputTD/3\\_models/1\\_4\\_cohort/death\\_24hr\\_max\\_label'\n",
       "\\item '../../OutputTD/3\\_models/1\\_4\\_cohort/death\\_24hr\\_recent\\_label'\n",
       "\\item '../../OutputTD/3\\_models/1\\_4\\_cohort/first\\_label'\n",
       "\\end{enumerate*}\n"
      ],
      "text/markdown": [
       "1. '../../OutputTD/3_models/1_4_cohort/death_24hr_max_label'\n",
       "2. '../../OutputTD/3_models/1_4_cohort/death_24hr_recent_label'\n",
       "3. '../../OutputTD/3_models/1_4_cohort/first_label'\n",
       "\n",
       "\n"
      ],
      "text/plain": [
       "[1] \"../../OutputTD/3_models/1_4_cohort/death_24hr_max_label\"   \n",
       "[2] \"../../OutputTD/3_models/1_4_cohort/death_24hr_recent_label\"\n",
       "[3] \"../../OutputTD/3_models/1_4_cohort/first_label\"            "
      ]
     },
     "metadata": {},
     "output_type": "display_data"
    }
   ],
   "source": [
    "# sub-folders\n",
    "sub.folders <- list.dirs(modeldir4)[-1]\n",
    "sub.folders"
   ]
  },
  {
   "cell_type": "code",
   "execution_count": 5,
   "metadata": {},
   "outputs": [
    {
     "data": {
      "text/html": [
       "43980"
      ],
      "text/latex": [
       "43980"
      ],
      "text/markdown": [
       "43980"
      ],
      "text/plain": [
       "[1] 43980"
      ]
     },
     "metadata": {},
     "output_type": "display_data"
    },
    {
     "data": {
      "text/html": [
       "<style>\n",
       ".list-inline {list-style: none; margin:0; padding: 0}\n",
       ".list-inline>li {display: inline-block}\n",
       ".list-inline>li:not(:last-child)::after {content: \"\\00b7\"; padding: 0 .5ex}\n",
       "</style>\n",
       "<ol class=list-inline><li>'anon_id'</li><li>'pat_enc_csn_id_coded'</li><li>'inpatient_data_id_coded'</li><li>'admit_time'</li><li>'label_max24'</li><li>'label_24hr_recent'</li><li>'admit_label'</li><li>'has_admit_label'</li><li>'died_within_24hrs'</li><li>'death_24hr_max_label'</li><li>'death_24hr_recent_label'</li><li>'first_label'</li><li>'first_label_minutes_since_admit'</li><li>'acute_to_critical_label_recent'</li><li>'critical_to_acute_label_recent'</li><li>'acute_to_critical_label_max'</li><li>'critical_to_acute_label_max'</li></ol>\n"
      ],
      "text/latex": [
       "\\begin{enumerate*}\n",
       "\\item 'anon\\_id'\n",
       "\\item 'pat\\_enc\\_csn\\_id\\_coded'\n",
       "\\item 'inpatient\\_data\\_id\\_coded'\n",
       "\\item 'admit\\_time'\n",
       "\\item 'label\\_max24'\n",
       "\\item 'label\\_24hr\\_recent'\n",
       "\\item 'admit\\_label'\n",
       "\\item 'has\\_admit\\_label'\n",
       "\\item 'died\\_within\\_24hrs'\n",
       "\\item 'death\\_24hr\\_max\\_label'\n",
       "\\item 'death\\_24hr\\_recent\\_label'\n",
       "\\item 'first\\_label'\n",
       "\\item 'first\\_label\\_minutes\\_since\\_admit'\n",
       "\\item 'acute\\_to\\_critical\\_label\\_recent'\n",
       "\\item 'critical\\_to\\_acute\\_label\\_recent'\n",
       "\\item 'acute\\_to\\_critical\\_label\\_max'\n",
       "\\item 'critical\\_to\\_acute\\_label\\_max'\n",
       "\\end{enumerate*}\n"
      ],
      "text/markdown": [
       "1. 'anon_id'\n",
       "2. 'pat_enc_csn_id_coded'\n",
       "3. 'inpatient_data_id_coded'\n",
       "4. 'admit_time'\n",
       "5. 'label_max24'\n",
       "6. 'label_24hr_recent'\n",
       "7. 'admit_label'\n",
       "8. 'has_admit_label'\n",
       "9. 'died_within_24hrs'\n",
       "10. 'death_24hr_max_label'\n",
       "11. 'death_24hr_recent_label'\n",
       "12. 'first_label'\n",
       "13. 'first_label_minutes_since_admit'\n",
       "14. 'acute_to_critical_label_recent'\n",
       "15. 'critical_to_acute_label_recent'\n",
       "16. 'acute_to_critical_label_max'\n",
       "17. 'critical_to_acute_label_max'\n",
       "\n",
       "\n"
      ],
      "text/plain": [
       " [1] \"anon_id\"                         \"pat_enc_csn_id_coded\"           \n",
       " [3] \"inpatient_data_id_coded\"         \"admit_time\"                     \n",
       " [5] \"label_max24\"                     \"label_24hr_recent\"              \n",
       " [7] \"admit_label\"                     \"has_admit_label\"                \n",
       " [9] \"died_within_24hrs\"               \"death_24hr_max_label\"           \n",
       "[11] \"death_24hr_recent_label\"         \"first_label\"                    \n",
       "[13] \"first_label_minutes_since_admit\" \"acute_to_critical_label_recent\" \n",
       "[15] \"critical_to_acute_label_recent\"  \"acute_to_critical_label_max\"    \n",
       "[17] \"critical_to_acute_label_max\"    "
      ]
     },
     "metadata": {},
     "output_type": "display_data"
    }
   ],
   "source": [
    "cohort <- read.csv(file.path(cohortdir, '1_4_cohort.csv'))\n",
    "nrow(cohort)\n",
    "colnames(cohort)"
   ]
  },
  {
   "cell_type": "markdown",
   "metadata": {},
   "source": [
    "### Patient visits year and those who transferred"
   ]
  },
  {
   "cell_type": "code",
   "execution_count": 6,
   "metadata": {},
   "outputs": [
    {
     "data": {
      "text/html": [
       "12418"
      ],
      "text/latex": [
       "12418"
      ],
      "text/markdown": [
       "12418"
      ],
      "text/plain": [
       "[1] 12418"
      ]
     },
     "metadata": {},
     "output_type": "display_data"
    },
    {
     "data": {
      "text/plain": [
       "\n",
       " 2019  2020 \n",
       "10115  2303 "
      ]
     },
     "metadata": {},
     "output_type": "display_data"
    },
    {
     "data": {
      "text/html": [
       "805"
      ],
      "text/latex": [
       "805"
      ],
      "text/markdown": [
       "805"
      ],
      "text/plain": [
       "[1] 805"
      ]
     },
     "metadata": {},
     "output_type": "display_data"
    }
   ],
   "source": [
    "cohort_test <-  cohort %>% mutate(admit_time = ymd_hms(admit_time)) %>% \n",
    "                    mutate(adm_year = year(admit_time),\n",
    "                           transfer = ifelse(death_24hr_recent_label != first_label, 1, 0)) %>% \n",
    "                    filter(adm_year > 2018)\n",
    "nrow(cohort_test)\n",
    "table(cohort_test$adm_year)\n",
    "sum(cohort_test$transfer)"
   ]
  },
  {
   "cell_type": "code",
   "execution_count": 7,
   "metadata": {},
   "outputs": [
    {
     "data": {
      "text/plain": [
       "   Min. 1st Qu.  Median    Mean 3rd Qu.    Max. \n",
       "0.00000 0.00000 0.00000 0.09468 0.00000 1.00000 "
      ]
     },
     "metadata": {},
     "output_type": "display_data"
    },
    {
     "data": {
      "text/plain": [
       "   Min. 1st Qu.  Median    Mean 3rd Qu.    Max. \n",
       "  0.000   0.000   0.000   0.104   0.000   1.000 "
      ]
     },
     "metadata": {},
     "output_type": "display_data"
    },
    {
     "data": {
      "text/plain": [
       "   Min. 1st Qu.  Median    Mean 3rd Qu.    Max. \n",
       "0.00000 0.00000 0.00000 0.02247 0.00000 1.00000 "
      ]
     },
     "metadata": {},
     "output_type": "display_data"
    },
    {
     "data": {
      "text/plain": [
       "   Min. 1st Qu.  Median    Mean 3rd Qu.    Max. \n",
       "0.00000 0.00000 0.00000 0.04236 0.00000 1.00000 "
      ]
     },
     "metadata": {},
     "output_type": "display_data"
    },
    {
     "data": {
      "text/html": [
       "526"
      ],
      "text/latex": [
       "526"
      ],
      "text/markdown": [
       "526"
      ],
      "text/plain": [
       "[1] 526"
      ]
     },
     "metadata": {},
     "output_type": "display_data"
    },
    {
     "data": {
      "text/html": [
       "279"
      ],
      "text/latex": [
       "279"
      ],
      "text/markdown": [
       "279"
      ],
      "text/plain": [
       "[1] 279"
      ]
     },
     "metadata": {},
     "output_type": "display_data"
    }
   ],
   "source": [
    "summary(cohort$death_24hr_recent_label)\n",
    "summary(cohort_test$death_24hr_recent_label)\n",
    "summary(cohort_test$acute_to_critical_label_recent)\n",
    "summary(cohort_test$critical_to_acute_label_recent)\n",
    "\n",
    "sum(cohort_test$critical_to_acute_label_recent) #526 + 279 = 805 total transfers\n",
    "sum(cohort_test$acute_to_critical_label_recent)"
   ]
  },
  {
   "cell_type": "markdown",
   "metadata": {},
   "source": [
    "### Patient visits with big differences in predictions at 2 time points"
   ]
  },
  {
   "cell_type": "code",
   "execution_count": 8,
   "metadata": {},
   "outputs": [
    {
     "name": "stdout",
     "output_type": "stream",
     "text": [
      "[1] \"../../OutputTD/3_models/1_4_cohort/death_24hr_max_label\"\n"
     ]
    },
    {
     "name": "stderr",
     "output_type": "stream",
     "text": [
      "Joining, by = \"pat_enc_csn_id_coded\"\n",
      "\n"
     ]
    },
    {
     "name": "stdout",
     "output_type": "stream",
     "text": [
      "[1] \"pred_death_24hr_max\"\n",
      "[1] \"../../OutputTD/3_models/1_4_cohort/death_24hr_recent_label\"\n"
     ]
    },
    {
     "name": "stderr",
     "output_type": "stream",
     "text": [
      "Joining, by = \"pat_enc_csn_id_coded\"\n",
      "\n"
     ]
    },
    {
     "name": "stdout",
     "output_type": "stream",
     "text": [
      "[1] \"pred_death_24hr_recent\"\n",
      "[1] \"../../OutputTD/3_models/1_4_cohort/first_label\"\n"
     ]
    },
    {
     "name": "stderr",
     "output_type": "stream",
     "text": [
      "Joining, by = \"pat_enc_csn_id_coded\"\n",
      "\n"
     ]
    },
    {
     "name": "stdout",
     "output_type": "stream",
     "text": [
      "[1] \"pred_first\"\n"
     ]
    }
   ],
   "source": [
    "for (f in sub.folders){\n",
    "    print(f)\n",
    "    out <- read.csv(paste0(f,\"/\",\"lightgbm_test_results.csv\")) %>% select(pat_enc_csn_id_coded, predictions)\n",
    "    cohort_test <- cohort_test %>% inner_join(out)\n",
    "#     cohort_test[ , ncol(cohort_test) + 1] <- out$predictions\n",
    "#     newcolname <- paste0(\"pred_\", str_sub(f, start=-12))\n",
    "    newcolname <- paste0(\"pred_\", str_sub(f, start=36, end=-7))\n",
    "    print(newcolname)\n",
    "#     cohort_test <- cohort_test %>% rename(newcolname = predictions)\n",
    "#     print(colnames(cohort_test))\n",
    "    colnames(cohort_test)[ncol(cohort_test)] <- newcolname\n",
    "}"
   ]
  },
  {
   "cell_type": "code",
   "execution_count": 9,
   "metadata": {},
   "outputs": [],
   "source": [
    "pred3 <- gather(cohort_test, labels, predictions, pred_death_24hr_max:pred_first, factor_key=TRUE)\n",
    "pred2 <- pred3 %>% filter(labels != 'pred_death_24hr_max')"
   ]
  },
  {
   "cell_type": "code",
   "execution_count": 10,
   "metadata": {},
   "outputs": [
    {
     "name": "stderr",
     "output_type": "stream",
     "text": [
      "`stat_bin()` using `bins = 30`. Pick better value with `binwidth`.\n",
      "\n"
     ]
    },
    {
     "data": {
      "image/png": "[encoded data removed]",
      "text/plain": [
       "plot without title"
      ]
     },
     "metadata": {
      "image/png": {
       "height": 420,
       "width": 420
      }
     },
     "output_type": "display_data"
    }
   ],
   "source": [
    "ggplot(pred2, aes(x = predictions)) +\n",
    "  geom_histogram(fill = \"white\", colour = \"black\") +\n",
    "  facet_grid(labels ~ .)"
   ]
  },
  {
   "cell_type": "code",
   "execution_count": 13,
   "metadata": {},
   "outputs": [
    {
     "data": {
      "image/png": "[encoded data removed]",
      "text/plain": [
       "plot without title"
      ]
     },
     "metadata": {
      "image/png": {
       "height": 420,
       "width": 600
      }
     },
     "output_type": "display_data"
    }
   ],
   "source": [
    "options(repr.plot.width=10, repr.plot.height=7)\n",
    "\n",
    "ggplot(pred2, aes(x = predictions, fill = labels)) +         \n",
    "  geom_histogram(position = \"identity\", alpha = 0.2, bins = 50)"
   ]
  },
  {
   "cell_type": "code",
   "execution_count": 14,
   "metadata": {},
   "outputs": [],
   "source": [
    "cohort_test <- cohort_test %>% mutate(diff0_24 = round(pred_first - pred_death_24hr_recent, 2),\n",
    "                                      diff0_True = round(pred_first - first_label, 2),\n",
    "                                      diff24_True = round(pred_death_24hr_recent - death_24hr_max_label, 2)) %>%\n",
    "               mutate(abs_diff0_24 = round(abs(diff0_24), 1))"
   ]
  },
  {
   "cell_type": "code",
   "execution_count": 15,
   "metadata": {},
   "outputs": [
    {
     "data": {
      "text/html": [
       "12418"
      ],
      "text/latex": [
       "12418"
      ],
      "text/markdown": [
       "12418"
      ],
      "text/plain": [
       "[1] 12418"
      ]
     },
     "metadata": {},
     "output_type": "display_data"
    },
    {
     "data": {
      "text/html": [
       "<style>\n",
       ".list-inline {list-style: none; margin:0; padding: 0}\n",
       ".list-inline>li {display: inline-block}\n",
       ".list-inline>li:not(:last-child)::after {content: \"\\00b7\"; padding: 0 .5ex}\n",
       "</style>\n",
       "<ol class=list-inline><li>'anon_id'</li><li>'pat_enc_csn_id_coded'</li><li>'inpatient_data_id_coded'</li><li>'admit_time'</li><li>'label_max24'</li><li>'label_24hr_recent'</li><li>'admit_label'</li><li>'has_admit_label'</li><li>'died_within_24hrs'</li><li>'death_24hr_max_label'</li><li>'death_24hr_recent_label'</li><li>'first_label'</li><li>'first_label_minutes_since_admit'</li><li>'acute_to_critical_label_recent'</li><li>'critical_to_acute_label_recent'</li><li>'acute_to_critical_label_max'</li><li>'critical_to_acute_label_max'</li><li>'adm_year'</li><li>'transfer'</li><li>'pred_death_24hr_max'</li><li>'pred_death_24hr_recent'</li><li>'pred_first'</li><li>'diff0_24'</li><li>'diff0_True'</li><li>'diff24_True'</li><li>'abs_diff0_24'</li></ol>\n"
      ],
      "text/latex": [
       "\\begin{enumerate*}\n",
       "\\item 'anon\\_id'\n",
       "\\item 'pat\\_enc\\_csn\\_id\\_coded'\n",
       "\\item 'inpatient\\_data\\_id\\_coded'\n",
       "\\item 'admit\\_time'\n",
       "\\item 'label\\_max24'\n",
       "\\item 'label\\_24hr\\_recent'\n",
       "\\item 'admit\\_label'\n",
       "\\item 'has\\_admit\\_label'\n",
       "\\item 'died\\_within\\_24hrs'\n",
       "\\item 'death\\_24hr\\_max\\_label'\n",
       "\\item 'death\\_24hr\\_recent\\_label'\n",
       "\\item 'first\\_label'\n",
       "\\item 'first\\_label\\_minutes\\_since\\_admit'\n",
       "\\item 'acute\\_to\\_critical\\_label\\_recent'\n",
       "\\item 'critical\\_to\\_acute\\_label\\_recent'\n",
       "\\item 'acute\\_to\\_critical\\_label\\_max'\n",
       "\\item 'critical\\_to\\_acute\\_label\\_max'\n",
       "\\item 'adm\\_year'\n",
       "\\item 'transfer'\n",
       "\\item 'pred\\_death\\_24hr\\_max'\n",
       "\\item 'pred\\_death\\_24hr\\_recent'\n",
       "\\item 'pred\\_first'\n",
       "\\item 'diff0\\_24'\n",
       "\\item 'diff0\\_True'\n",
       "\\item 'diff24\\_True'\n",
       "\\item 'abs\\_diff0\\_24'\n",
       "\\end{enumerate*}\n"
      ],
      "text/markdown": [
       "1. 'anon_id'\n",
       "2. 'pat_enc_csn_id_coded'\n",
       "3. 'inpatient_data_id_coded'\n",
       "4. 'admit_time'\n",
       "5. 'label_max24'\n",
       "6. 'label_24hr_recent'\n",
       "7. 'admit_label'\n",
       "8. 'has_admit_label'\n",
       "9. 'died_within_24hrs'\n",
       "10. 'death_24hr_max_label'\n",
       "11. 'death_24hr_recent_label'\n",
       "12. 'first_label'\n",
       "13. 'first_label_minutes_since_admit'\n",
       "14. 'acute_to_critical_label_recent'\n",
       "15. 'critical_to_acute_label_recent'\n",
       "16. 'acute_to_critical_label_max'\n",
       "17. 'critical_to_acute_label_max'\n",
       "18. 'adm_year'\n",
       "19. 'transfer'\n",
       "20. 'pred_death_24hr_max'\n",
       "21. 'pred_death_24hr_recent'\n",
       "22. 'pred_first'\n",
       "23. 'diff0_24'\n",
       "24. 'diff0_True'\n",
       "25. 'diff24_True'\n",
       "26. 'abs_diff0_24'\n",
       "\n",
       "\n"
      ],
      "text/plain": [
       " [1] \"anon_id\"                         \"pat_enc_csn_id_coded\"           \n",
       " [3] \"inpatient_data_id_coded\"         \"admit_time\"                     \n",
       " [5] \"label_max24\"                     \"label_24hr_recent\"              \n",
       " [7] \"admit_label\"                     \"has_admit_label\"                \n",
       " [9] \"died_within_24hrs\"               \"death_24hr_max_label\"           \n",
       "[11] \"death_24hr_recent_label\"         \"first_label\"                    \n",
       "[13] \"first_label_minutes_since_admit\" \"acute_to_critical_label_recent\" \n",
       "[15] \"critical_to_acute_label_recent\"  \"acute_to_critical_label_max\"    \n",
       "[17] \"critical_to_acute_label_max\"     \"adm_year\"                       \n",
       "[19] \"transfer\"                        \"pred_death_24hr_max\"            \n",
       "[21] \"pred_death_24hr_recent\"          \"pred_first\"                     \n",
       "[23] \"diff0_24\"                        \"diff0_True\"                     \n",
       "[25] \"diff24_True\"                     \"abs_diff0_24\"                   "
      ]
     },
     "metadata": {},
     "output_type": "display_data"
    },
    {
     "data": {
      "text/plain": [
       "   anon_id          pat_enc_csn_id_coded inpatient_data_id_coded\n",
       " Length:12418       Min.   :1.313e+11    Min.   :33212811       \n",
       " Class :character   1st Qu.:1.313e+11    1st Qu.:35996148       \n",
       " Mode  :character   Median :1.313e+11    Median :39994636       \n",
       "                    Mean   :1.313e+11    Mean   :40003546       \n",
       "                    3rd Qu.:1.313e+11    3rd Qu.:43886508       \n",
       "                    Max.   :1.313e+11    Max.   :48026130       \n",
       "                                                                \n",
       "   admit_time                   label_max24     label_24hr_recent\n",
       " Min.   :2019-01-01 00:03:00   Min.   :0.0000   Min.   :0.0000   \n",
       " 1st Qu.:2019-04-13 00:01:30   1st Qu.:0.0000   1st Qu.:0.0000   \n",
       " Median :2019-08-04 21:50:30   Median :0.0000   Median :0.0000   \n",
       " Mean   :2019-08-08 00:19:00   Mean   :0.1512   Mean   :0.1033   \n",
       " 3rd Qu.:2019-12-01 06:24:15   3rd Qu.:0.0000   3rd Qu.:0.0000   \n",
       " Max.   :2020-03-31 07:00:00   Max.   :1.0000   Max.   :1.0000   \n",
       "                                                                 \n",
       "  admit_label     has_admit_label  died_within_24hrs  death_24hr_max_label\n",
       " Min.   :0.0000   Min.   :0.0000   Min.   :0.000000   Min.   :0.0000      \n",
       " 1st Qu.:0.0000   1st Qu.:1.0000   1st Qu.:0.000000   1st Qu.:0.0000      \n",
       " Median :0.0000   Median :1.0000   Median :0.000000   Median :0.0000      \n",
       " Mean   :0.1232   Mean   :0.9942   Mean   :0.001611   Mean   :0.1518      \n",
       " 3rd Qu.:0.0000   3rd Qu.:1.0000   3rd Qu.:0.000000   3rd Qu.:0.0000      \n",
       " Max.   :1.0000   Max.   :1.0000   Max.   :1.000000   Max.   :1.0000      \n",
       " NA's   :72                                                               \n",
       " death_24hr_recent_label  first_label     first_label_minutes_since_admit\n",
       " Min.   :0.000           Min.   :0.0000   Min.   :  0.0000               \n",
       " 1st Qu.:0.000           1st Qu.:0.0000   1st Qu.:  0.0000               \n",
       " Median :0.000           Median :0.0000   Median :  0.0000               \n",
       " Mean   :0.104           Mean   :0.1239   Mean   :  0.2184               \n",
       " 3rd Qu.:0.000           3rd Qu.:0.0000   3rd Qu.:  0.0000               \n",
       " Max.   :1.000           Max.   :1.0000   Max.   :551.0000               \n",
       "                                                                         \n",
       " acute_to_critical_label_recent critical_to_acute_label_recent\n",
       " Min.   :0.00000                Min.   :0.00000               \n",
       " 1st Qu.:0.00000                1st Qu.:0.00000               \n",
       " Median :0.00000                Median :0.00000               \n",
       " Mean   :0.02247                Mean   :0.04236               \n",
       " 3rd Qu.:0.00000                3rd Qu.:0.00000               \n",
       " Max.   :1.00000                Max.   :1.00000               \n",
       "                                                              \n",
       " acute_to_critical_label_max critical_to_acute_label_max    adm_year   \n",
       " Min.   :0.00000             Min.   :0                   Min.   :2019  \n",
       " 1st Qu.:0.00000             1st Qu.:0                   1st Qu.:2019  \n",
       " Median :0.00000             Median :0                   Median :2019  \n",
       " Mean   :0.02794             Mean   :0                   Mean   :2019  \n",
       " 3rd Qu.:0.00000             3rd Qu.:0                   3rd Qu.:2019  \n",
       " Max.   :1.00000             Max.   :0                   Max.   :2020  \n",
       "                                                                       \n",
       "    transfer       pred_death_24hr_max pred_death_24hr_recent\n",
       " Min.   :0.00000   Min.   :0.005529    Min.   :0.005263      \n",
       " 1st Qu.:0.00000   1st Qu.:0.025764    1st Qu.:0.021521      \n",
       " Median :0.00000   Median :0.054683    Median :0.040195      \n",
       " Mean   :0.06483   Mean   :0.140604    Mean   :0.098219      \n",
       " 3rd Qu.:0.00000   3rd Qu.:0.162256    3rd Qu.:0.104513      \n",
       " Max.   :1.00000   Max.   :0.974768    Max.   :0.931541      \n",
       "                                                             \n",
       "   pred_first          diff0_24          diff0_True         diff24_True      \n",
       " Min.   :0.003762   Min.   :-0.42000   Min.   :-0.990000   Min.   :-0.99000  \n",
       " 1st Qu.:0.016906   1st Qu.:-0.01000   1st Qu.: 0.010000   1st Qu.: 0.01000  \n",
       " Median :0.037995   Median : 0.00000   Median : 0.030000   Median : 0.03000  \n",
       " Mean   :0.116168   Mean   : 0.01798   Mean   :-0.007673   Mean   :-0.05359  \n",
       " 3rd Qu.:0.119656   3rd Qu.: 0.02000   3rd Qu.: 0.070000   3rd Qu.: 0.06000  \n",
       " Max.   :0.969960   Max.   : 0.73000   Max.   : 0.930000   Max.   : 0.76000  \n",
       "                                                                             \n",
       "  abs_diff0_24    \n",
       " Min.   :0.00000  \n",
       " 1st Qu.:0.00000  \n",
       " Median :0.00000  \n",
       " Mean   :0.03007  \n",
       " 3rd Qu.:0.00000  \n",
       " Max.   :0.70000  \n",
       "                  "
      ]
     },
     "metadata": {},
     "output_type": "display_data"
    }
   ],
   "source": [
    "nrow(cohort_test)\n",
    "colnames(cohort_test)\n",
    "summary(cohort_test)"
   ]
  },
  {
   "cell_type": "code",
   "execution_count": 16,
   "metadata": {},
   "outputs": [
    {
     "data": {
      "text/html": [
       "<style>\n",
       ".dl-inline {width: auto; margin:0; padding: 0}\n",
       ".dl-inline>dt, .dl-inline>dd {float: none; width: auto; display: inline-block}\n",
       ".dl-inline>dt::after {content: \":\\0020\"; padding-right: .5ex}\n",
       ".dl-inline>dt:not(:first-of-type) {padding-left: .5ex}\n",
       "</style><dl class=dl-inline><dt>5%</dt><dd>-0.05</dd><dt>10%</dt><dd>-0.03</dd><dt>20%</dt><dd>-0.01</dd><dt>30%</dt><dd>-0.01</dd><dt>40%</dt><dd>0</dd><dt>50%</dt><dd>0</dd><dt>60%</dt><dd>0</dd><dt>70%</dt><dd>0.01</dd><dt>80%</dt><dd>0.03</dd><dt>90%</dt><dd>0.1</dd><dt>95%</dt><dd>0.18</dd></dl>\n"
      ],
      "text/latex": [
       "\\begin{description*}\n",
       "\\item[5\\textbackslash{}\\%] -0.05\n",
       "\\item[10\\textbackslash{}\\%] -0.03\n",
       "\\item[20\\textbackslash{}\\%] -0.01\n",
       "\\item[30\\textbackslash{}\\%] -0.01\n",
       "\\item[40\\textbackslash{}\\%] 0\n",
       "\\item[50\\textbackslash{}\\%] 0\n",
       "\\item[60\\textbackslash{}\\%] 0\n",
       "\\item[70\\textbackslash{}\\%] 0.01\n",
       "\\item[80\\textbackslash{}\\%] 0.03\n",
       "\\item[90\\textbackslash{}\\%] 0.1\n",
       "\\item[95\\textbackslash{}\\%] 0.18\n",
       "\\end{description*}\n"
      ],
      "text/markdown": [
       "5%\n",
       ":   -0.0510%\n",
       ":   -0.0320%\n",
       ":   -0.0130%\n",
       ":   -0.0140%\n",
       ":   050%\n",
       ":   060%\n",
       ":   070%\n",
       ":   0.0180%\n",
       ":   0.0390%\n",
       ":   0.195%\n",
       ":   0.18\n",
       "\n"
      ],
      "text/plain": [
       "   5%   10%   20%   30%   40%   50%   60%   70%   80%   90%   95% \n",
       "-0.05 -0.03 -0.01 -0.01  0.00  0.00  0.00  0.01  0.03  0.10  0.18 "
      ]
     },
     "metadata": {},
     "output_type": "display_data"
    },
    {
     "data": {
      "text/plain": [
       "    Min.  1st Qu.   Median     Mean  3rd Qu.     Max. \n",
       "-0.42000 -0.01000  0.00000  0.01798  0.02000  0.73000 "
      ]
     },
     "metadata": {},
     "output_type": "display_data"
    },
    {
     "data": {
      "image/png": "[encoded data removed]",
      "text/plain": [
       "Plot with title \"Histogram of cohort_test$diff0_24\""
      ]
     },
     "metadata": {
      "image/png": {
       "height": 420,
       "width": 1200
      }
     },
     "output_type": "display_data"
    }
   ],
   "source": [
    "options(repr.plot.width=20, repr.plot.height=7)\n",
    "\n",
    "quantile(cohort_test$diff0_24, c(.05, .1, .2, 0.3, 0.4, 0.5, 0.6, 0.7, 0.8, 0.9, 0.95)) \n",
    "summary(cohort_test$diff0_24)\n",
    "hist(cohort_test$diff0_24, col='dodgerblue', breaks=100)"
   ]
  },
  {
   "cell_type": "code",
   "execution_count": 17,
   "metadata": {},
   "outputs": [
    {
     "data": {
      "text/html": [
       "318"
      ],
      "text/latex": [
       "318"
      ],
      "text/markdown": [
       "318"
      ],
      "text/plain": [
       "[1] 318"
      ]
     },
     "metadata": {},
     "output_type": "display_data"
    },
    {
     "name": "stderr",
     "output_type": "stream",
     "text": [
      "`summarise()` ungrouping output (override with `.groups` argument)\n",
      "\n"
     ]
    },
    {
     "data": {
      "text/html": [
       "<table>\n",
       "<caption>A tibble: 8 × 4</caption>\n",
       "<thead>\n",
       "\t<tr><th scope=col>abs_diff0_24</th><th scope=col>count</th><th scope=col>cum_count</th><th scope=col>cumperc</th></tr>\n",
       "\t<tr><th scope=col>&lt;dbl&gt;</th><th scope=col>&lt;int&gt;</th><th scope=col>&lt;int&gt;</th><th scope=col>&lt;dbl&gt;</th></tr>\n",
       "</thead>\n",
       "<tbody>\n",
       "\t<tr><td>0.7</td><td>   3</td><td>    3</td><td>  0.02</td></tr>\n",
       "\t<tr><td>0.6</td><td>   8</td><td>   11</td><td>  0.09</td></tr>\n",
       "\t<tr><td>0.5</td><td>  22</td><td>   33</td><td>  0.27</td></tr>\n",
       "\t<tr><td>0.4</td><td>  79</td><td>  112</td><td>  0.90</td></tr>\n",
       "\t<tr><td>0.3</td><td> 206</td><td>  318</td><td>  2.56</td></tr>\n",
       "\t<tr><td>0.2</td><td> 501</td><td>  819</td><td>  6.60</td></tr>\n",
       "\t<tr><td>0.1</td><td>1619</td><td> 2438</td><td> 19.63</td></tr>\n",
       "\t<tr><td>0.0</td><td>9980</td><td>12418</td><td>100.00</td></tr>\n",
       "</tbody>\n",
       "</table>\n"
      ],
      "text/latex": [
       "A tibble: 8 × 4\n",
       "\\begin{tabular}{llll}\n",
       " abs\\_diff0\\_24 & count & cum\\_count & cumperc\\\\\n",
       " <dbl> & <int> & <int> & <dbl>\\\\\n",
       "\\hline\n",
       "\t 0.7 &    3 &     3 &   0.02\\\\\n",
       "\t 0.6 &    8 &    11 &   0.09\\\\\n",
       "\t 0.5 &   22 &    33 &   0.27\\\\\n",
       "\t 0.4 &   79 &   112 &   0.90\\\\\n",
       "\t 0.3 &  206 &   318 &   2.56\\\\\n",
       "\t 0.2 &  501 &   819 &   6.60\\\\\n",
       "\t 0.1 & 1619 &  2438 &  19.63\\\\\n",
       "\t 0.0 & 9980 & 12418 & 100.00\\\\\n",
       "\\end{tabular}\n"
      ],
      "text/markdown": [
       "\n",
       "A tibble: 8 × 4\n",
       "\n",
       "| abs_diff0_24 &lt;dbl&gt; | count &lt;int&gt; | cum_count &lt;int&gt; | cumperc &lt;dbl&gt; |\n",
       "|---|---|---|---|\n",
       "| 0.7 |    3 |     3 |   0.02 |\n",
       "| 0.6 |    8 |    11 |   0.09 |\n",
       "| 0.5 |   22 |    33 |   0.27 |\n",
       "| 0.4 |   79 |   112 |   0.90 |\n",
       "| 0.3 |  206 |   318 |   2.56 |\n",
       "| 0.2 |  501 |   819 |   6.60 |\n",
       "| 0.1 | 1619 |  2438 |  19.63 |\n",
       "| 0.0 | 9980 | 12418 | 100.00 |\n",
       "\n"
      ],
      "text/plain": [
       "  abs_diff0_24 count cum_count cumperc\n",
       "1 0.7             3      3       0.02 \n",
       "2 0.6             8     11       0.09 \n",
       "3 0.5            22     33       0.27 \n",
       "4 0.4            79    112       0.90 \n",
       "5 0.3           206    318       2.56 \n",
       "6 0.2           501    819       6.60 \n",
       "7 0.1          1619   2438      19.63 \n",
       "8 0.0          9980  12418     100.00 "
      ]
     },
     "metadata": {},
     "output_type": "display_data"
    }
   ],
   "source": [
    "# diff <- cohort_test %>% arrange(-abs_diff0_24) %>% \n",
    "#         mutate(rec = 1, pround = round(abs_diff0_24, 1)) %>% \n",
    "#         group_by(pround) %>% mutate(psum = sum(rec)) %>% \n",
    "#         distinct(pround, psum) %>%\n",
    "#         filter(pround > 0) #%>% mutate(cumsize = cumsum(psum)) # %>% select(-rec)\n",
    "\n",
    "# diff$cumsize <- cumsum(diff$psum)\n",
    "\n",
    "nrow(cohort_test %>% filter(abs_diff0_24 >= 0.3))\n",
    "diff <- cohort_test %>% \n",
    "            group_by(abs_diff0_24) %>% summarise(count = n()) %>% arrange(-abs_diff0_24) %>% \n",
    "            mutate(cum_count = cumsum(count), cumperc = round(100*cum_count/nrow(cohort_test), 2)) \n",
    "\n",
    "diff"
   ]
  },
  {
   "cell_type": "code",
   "execution_count": 21,
   "metadata": {},
   "outputs": [
    {
     "data": {
      "image/png": "[encoded data removed]",
      "text/plain": [
       "Plot with title \"Histogram of cohort_test[cohort_test$abs_diff0_24 > 0, \"abs_diff0_24\"]\""
      ]
     },
     "metadata": {
      "image/png": {
       "height": 420,
       "width": 420
      }
     },
     "output_type": "display_data"
    }
   ],
   "source": [
    "# threshold and size plot\n",
    "options(repr.plot.width=7, repr.plot.height=7)\n",
    "\n",
    "# absolute count\n",
    "hist(cohort_test[cohort_test$abs_diff0_24 > 0, 'abs_diff0_24'], col='dodgerblue')"
   ]
  },
  {
   "cell_type": "code",
   "execution_count": 22,
   "metadata": {},
   "outputs": [
    {
     "data": {
      "text/html": [
       "<style>\n",
       ".list-inline {list-style: none; margin:0; padding: 0}\n",
       ".list-inline>li {display: inline-block}\n",
       ".list-inline>li:not(:last-child)::after {content: \"\\00b7\"; padding: 0 .5ex}\n",
       "</style>\n",
       "<ol class=list-inline><li>3</li><li>11</li><li>33</li><li>112</li><li>318</li><li>819</li></ol>\n"
      ],
      "text/latex": [
       "\\begin{enumerate*}\n",
       "\\item 3\n",
       "\\item 11\n",
       "\\item 33\n",
       "\\item 112\n",
       "\\item 318\n",
       "\\item 819\n",
       "\\end{enumerate*}\n"
      ],
      "text/markdown": [
       "1. 3\n",
       "2. 11\n",
       "3. 33\n",
       "4. 112\n",
       "5. 318\n",
       "6. 819\n",
       "\n",
       "\n"
      ],
      "text/plain": [
       "[1]   3  11  33 112 318 819"
      ]
     },
     "metadata": {},
     "output_type": "display_data"
    }
   ],
   "source": [
    "# this remained the same after updating coh4 to remove obs with labs and vitals > 24hr pre admit\n",
    "diff[diff$abs_diff0_24 > 0.1,]$cum_count"
   ]
  },
  {
   "cell_type": "code",
   "execution_count": 23,
   "metadata": {},
   "outputs": [
    {
     "data": {
      "image/png": "[encoded data removed]",
      "text/plain": [
       "plot without title"
      ]
     },
     "metadata": {
      "image/png": {
       "height": 420,
       "width": 420
      }
     },
     "output_type": "display_data"
    }
   ],
   "source": [
    "# cummulative count\n",
    "ggplot(diff[diff$abs_diff0_24 > 0.1, ], aes(x=abs_diff0_24, y=cum_count)) + \n",
    "    geom_point(color = \"#F8766D\", size = 3) + geom_line() +\n",
    "    geom_text(label=diff[diff$abs_diff0_24 > 0.1, ]$cum_count, hjust = 0, nudge_x = 0.005, vjust =0) + \n",
    "    labs(x=\"Differences in Predicted Values between Time 0 and Time 24\", y=\"Count\", \n",
    "               title = \"Differences in Predicted Values vs. Count\") +\n",
    "    theme(axis.text=element_text(size=12),\n",
    "          axis.text.x = element_text(margin=margin(0, 0, 10, 0)), #color = \"red\", \n",
    "          axis.text.y = element_text(margin=margin(0, 0, 0, 10)), #color = \"red\",\n",
    "          plot.title = element_text(size=16, hjust=0.5, margin=margin(0, 0, 10, 0)),\n",
    "          axis.title=element_text(size=14),\n",
    "          legend.key.size = unit(1, \"cm\"))#, face=\"bold\"\n",
    "# ggsave(\"Figure - Count of Differences.png\", width = 14, height = 7, dpi = 1200) "
   ]
  },
  {
   "cell_type": "code",
   "execution_count": 24,
   "metadata": {},
   "outputs": [
    {
     "name": "stderr",
     "output_type": "stream",
     "text": [
      "Scale for 'x' is already present. Adding another scale for 'x', which will\n",
      "replace the existing scale.\n",
      "\n",
      "Scale for 'y' is already present. Adding another scale for 'y', which will\n",
      "replace the existing scale.\n",
      "\n"
     ]
    },
    {
     "data": {
      "image/png": "[encoded data removed]",
      "text/plain": [
       "plot without title"
      ]
     },
     "metadata": {
      "image/png": {
       "height": 420,
       "width": 420
      }
     },
     "output_type": "display_data"
    }
   ],
   "source": [
    "options(repr.plot.width=7, repr.plot.height=7)\n",
    "\n",
    "ggplot(cohort_test, aes(x=pred_first, y=pred_death_24hr_recent)) + \n",
    "    geom_point(color = \"#0072B2\", size = 1) + xlim(0,1) + ylim(0,1) +\n",
    "    geom_abline(intercept = 0, slope = 1, size = 0.7) +\n",
    "    geom_abline(intercept = 0.3, slope = 1, size = 0.7, linetype=2, color = \"#D55E00\") +\n",
    "    geom_abline(intercept = -0.3, slope = 1, size = 0.7, linetype=2, color = \"#D55E00\") +\n",
    "    scale_x_continuous(name = \"predicted values for time 0\", expand = c(0, 0), limits=c(0, 1), \n",
    "                       breaks=c(0, 0.2, 0.4, 0.6, 0.8, 1)) + \n",
    "    scale_y_continuous(name = \" predicted values for time 24\", expand = c(0, 0), limits=c(0, 1), \n",
    "                       breaks=c(0, 0.2, 0.4, 0.6, 0.8, 1)) +\n",
    "    theme(axis.text=element_text(size=12),\n",
    "          axis.text.x = element_text(margin=margin(0, 0, 10, 0)),\n",
    "          axis.text.y = element_text(margin=margin(0, 0, 0, 10)),\n",
    "          plot.title = element_text(size=16, hjust=0.5, margin=margin(0, 0, 10, 0)),\n",
    "          axis.title=element_text(size=14)) +\n",
    "     labs(title = \"Predicted values: time 0 vs time 24\")\n"
   ]
  },
  {
   "cell_type": "code",
   "execution_count": 26,
   "metadata": {},
   "outputs": [],
   "source": [
    "write.csv(cohort_test, file.path(modeldir4preadmit, \"1_4_cohort_test_results.csv\"), row.names=FALSE)"
   ]
  },
  {
   "cell_type": "markdown",
   "metadata": {},
   "source": [
    "### Get all features used for prediction for the test cohort"
   ]
  },
  {
   "cell_type": "code",
   "execution_count": 8,
   "metadata": {},
   "outputs": [
    {
     "data": {
      "text/html": [
       "5730678"
      ],
      "text/latex": [
       "5730678"
      ],
      "text/markdown": [
       "5730678"
      ],
      "text/plain": [
       "[1] 5730678"
      ]
     },
     "metadata": {},
     "output_type": "display_data"
    }
   ],
   "source": [
    "orders5 <- read.csv(file.path(datadir, 'coh5_order_code_counts.csv'))\n",
    "nrow(orders5) # should have 5730678"
   ]
  },
  {
   "cell_type": "code",
   "execution_count": 27,
   "metadata": {},
   "outputs": [
    {
     "data": {
      "text/html": [
       "6086852"
      ],
      "text/latex": [
       "6086852"
      ],
      "text/markdown": [
       "6086852"
      ],
      "text/plain": [
       "[1] 6086852"
      ]
     },
     "metadata": {},
     "output_type": "display_data"
    }
   ],
   "source": [
    "orders4 <- read.csv(file.path(datadir, 'coh4_order_code_counts.csv')) %>% \n",
    "            mutate(admit_time = ymd_hms(admit_time),\n",
    "                   feature_type = ifelse(str_detect(feature_type, \"Microbiology\"), \"Microbiology\", feature_type))\n",
    "nrow(orders4) # 6086852"
   ]
  },
  {
   "cell_type": "code",
   "execution_count": 30,
   "metadata": {},
   "outputs": [
    {
     "data": {
      "text/html": [
       "3085046"
      ],
      "text/latex": [
       "3085046"
      ],
      "text/markdown": [
       "3085046"
      ],
      "text/plain": [
       "[1] 3085046"
      ]
     },
     "metadata": {},
     "output_type": "display_data"
    }
   ],
   "source": [
    "values <- read.csv(file.path(featuredir, '2_7_coh4_feature_values.csv')) %>% \n",
    "                    mutate(admit_time = ymd_hms(admit_time), time = ymd_hms(time),\n",
    "                           hr_before_admit = round(as.numeric(difftime(admit_time, time, unit=\"hours\")), 1))\n",
    "nrow(values) #3085046"
   ]
  },
  {
   "cell_type": "code",
   "execution_count": 31,
   "metadata": {},
   "outputs": [
    {
     "data": {
      "text/html": [
       "<style>\n",
       ".list-inline {list-style: none; margin:0; padding: 0}\n",
       ".list-inline>li {display: inline-block}\n",
       ".list-inline>li:not(:last-child)::after {content: \"\\00b7\"; padding: 0 .5ex}\n",
       "</style>\n",
       "<ol class=list-inline><li>'anon_id'</li><li>'pat_enc_csn_id_coded'</li><li>'admit_time'</li><li>'feature_type'</li><li>'features'</li><li>'values'</li></ol>\n"
      ],
      "text/latex": [
       "\\begin{enumerate*}\n",
       "\\item 'anon\\_id'\n",
       "\\item 'pat\\_enc\\_csn\\_id\\_coded'\n",
       "\\item 'admit\\_time'\n",
       "\\item 'feature\\_type'\n",
       "\\item 'features'\n",
       "\\item 'values'\n",
       "\\end{enumerate*}\n"
      ],
      "text/markdown": [
       "1. 'anon_id'\n",
       "2. 'pat_enc_csn_id_coded'\n",
       "3. 'admit_time'\n",
       "4. 'feature_type'\n",
       "5. 'features'\n",
       "6. 'values'\n",
       "\n",
       "\n"
      ],
      "text/plain": [
       "[1] \"anon_id\"              \"pat_enc_csn_id_coded\" \"admit_time\"          \n",
       "[4] \"feature_type\"         \"features\"             \"values\"              "
      ]
     },
     "metadata": {},
     "output_type": "display_data"
    },
    {
     "data": {
      "text/html": [
       "<style>\n",
       ".list-inline {list-style: none; margin:0; padding: 0}\n",
       ".list-inline>li {display: inline-block}\n",
       ".list-inline>li:not(:last-child)::after {content: \"\\00b7\"; padding: 0 .5ex}\n",
       "</style>\n",
       "<ol class=list-inline><li>'anon_id'</li><li>'pat_enc_csn_id_coded'</li><li>'admit_time'</li><li>'first_label'</li><li>'death_24hr_recent_label'</li><li>'death_24hr_max_label'</li><li>'feature_type'</li><li>'features'</li><li>'values'</li><li>'time'</li><li>'hr_before_admit'</li></ol>\n"
      ],
      "text/latex": [
       "\\begin{enumerate*}\n",
       "\\item 'anon\\_id'\n",
       "\\item 'pat\\_enc\\_csn\\_id\\_coded'\n",
       "\\item 'admit\\_time'\n",
       "\\item 'first\\_label'\n",
       "\\item 'death\\_24hr\\_recent\\_label'\n",
       "\\item 'death\\_24hr\\_max\\_label'\n",
       "\\item 'feature\\_type'\n",
       "\\item 'features'\n",
       "\\item 'values'\n",
       "\\item 'time'\n",
       "\\item 'hr\\_before\\_admit'\n",
       "\\end{enumerate*}\n"
      ],
      "text/markdown": [
       "1. 'anon_id'\n",
       "2. 'pat_enc_csn_id_coded'\n",
       "3. 'admit_time'\n",
       "4. 'first_label'\n",
       "5. 'death_24hr_recent_label'\n",
       "6. 'death_24hr_max_label'\n",
       "7. 'feature_type'\n",
       "8. 'features'\n",
       "9. 'values'\n",
       "10. 'time'\n",
       "11. 'hr_before_admit'\n",
       "\n",
       "\n"
      ],
      "text/plain": [
       " [1] \"anon_id\"                 \"pat_enc_csn_id_coded\"   \n",
       " [3] \"admit_time\"              \"first_label\"            \n",
       " [5] \"death_24hr_recent_label\" \"death_24hr_max_label\"   \n",
       " [7] \"feature_type\"            \"features\"               \n",
       " [9] \"values\"                  \"time\"                   \n",
       "[11] \"hr_before_admit\"        "
      ]
     },
     "metadata": {},
     "output_type": "display_data"
    },
    {
     "data": {
      "text/html": [
       "<style>\n",
       ".list-inline {list-style: none; margin:0; padding: 0}\n",
       ".list-inline>li {display: inline-block}\n",
       ".list-inline>li:not(:last-child)::after {content: \"\\00b7\"; padding: 0 .5ex}\n",
       "</style>\n",
       "<ol class=list-inline><li>'anon_id'</li><li>'pat_enc_csn_id_coded'</li><li>'inpatient_data_id_coded'</li><li>'admit_time'</li><li>'label_max24'</li><li>'label_24hr_recent'</li><li>'admit_label'</li><li>'has_admit_label'</li><li>'died_within_24hrs'</li><li>'death_24hr_max_label'</li><li>'death_24hr_recent_label'</li><li>'first_label'</li><li>'first_label_minutes_since_admit'</li><li>'acute_to_critical_label_recent'</li><li>'critical_to_acute_label_recent'</li><li>'acute_to_critical_label_max'</li><li>'critical_to_acute_label_max'</li><li>'adm_year'</li><li>'transfer'</li><li>'pred_death_24hr_max'</li><li>'pred_death_24hr_recent'</li><li>'pred_first'</li><li>'diff0_24'</li><li>'diff0_True'</li><li>'diff24_True'</li><li>'abs_diff0_24'</li></ol>\n"
      ],
      "text/latex": [
       "\\begin{enumerate*}\n",
       "\\item 'anon\\_id'\n",
       "\\item 'pat\\_enc\\_csn\\_id\\_coded'\n",
       "\\item 'inpatient\\_data\\_id\\_coded'\n",
       "\\item 'admit\\_time'\n",
       "\\item 'label\\_max24'\n",
       "\\item 'label\\_24hr\\_recent'\n",
       "\\item 'admit\\_label'\n",
       "\\item 'has\\_admit\\_label'\n",
       "\\item 'died\\_within\\_24hrs'\n",
       "\\item 'death\\_24hr\\_max\\_label'\n",
       "\\item 'death\\_24hr\\_recent\\_label'\n",
       "\\item 'first\\_label'\n",
       "\\item 'first\\_label\\_minutes\\_since\\_admit'\n",
       "\\item 'acute\\_to\\_critical\\_label\\_recent'\n",
       "\\item 'critical\\_to\\_acute\\_label\\_recent'\n",
       "\\item 'acute\\_to\\_critical\\_label\\_max'\n",
       "\\item 'critical\\_to\\_acute\\_label\\_max'\n",
       "\\item 'adm\\_year'\n",
       "\\item 'transfer'\n",
       "\\item 'pred\\_death\\_24hr\\_max'\n",
       "\\item 'pred\\_death\\_24hr\\_recent'\n",
       "\\item 'pred\\_first'\n",
       "\\item 'diff0\\_24'\n",
       "\\item 'diff0\\_True'\n",
       "\\item 'diff24\\_True'\n",
       "\\item 'abs\\_diff0\\_24'\n",
       "\\end{enumerate*}\n"
      ],
      "text/markdown": [
       "1. 'anon_id'\n",
       "2. 'pat_enc_csn_id_coded'\n",
       "3. 'inpatient_data_id_coded'\n",
       "4. 'admit_time'\n",
       "5. 'label_max24'\n",
       "6. 'label_24hr_recent'\n",
       "7. 'admit_label'\n",
       "8. 'has_admit_label'\n",
       "9. 'died_within_24hrs'\n",
       "10. 'death_24hr_max_label'\n",
       "11. 'death_24hr_recent_label'\n",
       "12. 'first_label'\n",
       "13. 'first_label_minutes_since_admit'\n",
       "14. 'acute_to_critical_label_recent'\n",
       "15. 'critical_to_acute_label_recent'\n",
       "16. 'acute_to_critical_label_max'\n",
       "17. 'critical_to_acute_label_max'\n",
       "18. 'adm_year'\n",
       "19. 'transfer'\n",
       "20. 'pred_death_24hr_max'\n",
       "21. 'pred_death_24hr_recent'\n",
       "22. 'pred_first'\n",
       "23. 'diff0_24'\n",
       "24. 'diff0_True'\n",
       "25. 'diff24_True'\n",
       "26. 'abs_diff0_24'\n",
       "\n",
       "\n"
      ],
      "text/plain": [
       " [1] \"anon_id\"                         \"pat_enc_csn_id_coded\"           \n",
       " [3] \"inpatient_data_id_coded\"         \"admit_time\"                     \n",
       " [5] \"label_max24\"                     \"label_24hr_recent\"              \n",
       " [7] \"admit_label\"                     \"has_admit_label\"                \n",
       " [9] \"died_within_24hrs\"               \"death_24hr_max_label\"           \n",
       "[11] \"death_24hr_recent_label\"         \"first_label\"                    \n",
       "[13] \"first_label_minutes_since_admit\" \"acute_to_critical_label_recent\" \n",
       "[15] \"critical_to_acute_label_recent\"  \"acute_to_critical_label_max\"    \n",
       "[17] \"critical_to_acute_label_max\"     \"adm_year\"                       \n",
       "[19] \"transfer\"                        \"pred_death_24hr_max\"            \n",
       "[21] \"pred_death_24hr_recent\"          \"pred_first\"                     \n",
       "[23] \"diff0_24\"                        \"diff0_True\"                     \n",
       "[25] \"diff24_True\"                     \"abs_diff0_24\"                   "
      ]
     },
     "metadata": {},
     "output_type": "display_data"
    },
    {
     "data": {
      "text/html": [
       "12418"
      ],
      "text/latex": [
       "12418"
      ],
      "text/markdown": [
       "12418"
      ],
      "text/plain": [
       "[1] 12418"
      ]
     },
     "metadata": {},
     "output_type": "display_data"
    }
   ],
   "source": [
    "colnames(orders4)\n",
    "colnames(values)\n",
    "colnames(cohort_test)\n",
    "nrow(cohort_test)"
   ]
  },
  {
   "cell_type": "code",
   "execution_count": 35,
   "metadata": {},
   "outputs": [
    {
     "data": {
      "text/html": [
       "40070"
      ],
      "text/latex": [
       "40070"
      ],
      "text/markdown": [
       "40070"
      ],
      "text/plain": [
       "[1] 40070"
      ]
     },
     "metadata": {},
     "output_type": "display_data"
    },
    {
     "data": {
      "text/html": [
       "3085046"
      ],
      "text/latex": [
       "3085046"
      ],
      "text/markdown": [
       "3085046"
      ],
      "text/plain": [
       "[1] 3085046"
      ]
     },
     "metadata": {},
     "output_type": "display_data"
    },
    {
     "data": {
      "text/html": [
       "3044976"
      ],
      "text/latex": [
       "3044976"
      ],
      "text/markdown": [
       "3044976"
      ],
      "text/plain": [
       "[1] 3044976"
      ]
     },
     "metadata": {},
     "output_type": "display_data"
    }
   ],
   "source": [
    "nrow(values %>% filter(feature_type %in% c('vitals', 'labs'), hr_before_admit > 24))\n",
    "nrow(values)\n",
    "values <- values %>% filter(hr_before_admit <= 24 | is.na(hr_before_admit))\n",
    "nrow(values)"
   ]
  },
  {
   "cell_type": "code",
   "execution_count": 36,
   "metadata": {},
   "outputs": [
    {
     "data": {
      "text/html": [
       "3044976"
      ],
      "text/latex": [
       "3044976"
      ],
      "text/markdown": [
       "3044976"
      ],
      "text/plain": [
       "[1] 3044976"
      ]
     },
     "metadata": {},
     "output_type": "display_data"
    }
   ],
   "source": [
    "3085046 - 40070"
   ]
  },
  {
   "cell_type": "code",
   "execution_count": 33,
   "metadata": {},
   "outputs": [],
   "source": [
    "cohort_diff <- cohort_test %>% select(anon_id, pat_enc_csn_id_coded, admit_time, \n",
    "                                      first_label, death_24hr_recent_label, death_24hr_max_label,\n",
    "                                      pred_first, pred_death_24hr_recent, abs_diff0_24, diff0_True, diff24_True) %>% \n",
    "                    filter(abs_diff0_24 >= 0.3)"
   ]
  },
  {
   "cell_type": "code",
   "execution_count": 37,
   "metadata": {},
   "outputs": [
    {
     "name": "stderr",
     "output_type": "stream",
     "text": [
      "Joining, by = c(\"anon_id\", \"pat_enc_csn_id_coded\", \"admit_time\")\n",
      "\n",
      "Joining, by = c(\"anon_id\", \"pat_enc_csn_id_coded\", \"admit_time\", \"first_label\", \"death_24hr_recent_label\", \"death_24hr_max_label\")\n",
      "\n"
     ]
    },
    {
     "data": {
      "text/html": [
       "318"
      ],
      "text/latex": [
       "318"
      ],
      "text/markdown": [
       "318"
      ],
      "text/plain": [
       "[1] 318"
      ]
     },
     "metadata": {},
     "output_type": "display_data"
    },
    {
     "data": {
      "text/html": [
       "318"
      ],
      "text/latex": [
       "318"
      ],
      "text/markdown": [
       "318"
      ],
      "text/plain": [
       "[1] 318"
      ]
     },
     "metadata": {},
     "output_type": "display_data"
    }
   ],
   "source": [
    "diff_cohort_orders <- left_join(cohort_diff, orders4)\n",
    "diff_cohort_values <- left_join(cohort_diff, values) \n",
    "length(unique(diff_cohort_orders$pat_enc_csn_id_coded))\n",
    "length(unique(diff_cohort_values$pat_enc_csn_id_coded))"
   ]
  },
  {
   "cell_type": "code",
   "execution_count": 38,
   "metadata": {},
   "outputs": [
    {
     "data": {
      "text/html": [
       "40709"
      ],
      "text/latex": [
       "40709"
      ],
      "text/markdown": [
       "40709"
      ],
      "text/plain": [
       "[1] 40709"
      ]
     },
     "metadata": {},
     "output_type": "display_data"
    },
    {
     "data": {
      "text/html": [
       "30397"
      ],
      "text/latex": [
       "30397"
      ],
      "text/markdown": [
       "30397"
      ],
      "text/plain": [
       "[1] 30397"
      ]
     },
     "metadata": {},
     "output_type": "display_data"
    },
    {
     "name": "stderr",
     "output_type": "stream",
     "text": [
      "`summarise()` ungrouping output (override with `.groups` argument)\n",
      "\n"
     ]
    },
    {
     "data": {
      "text/html": [
       "<table>\n",
       "<caption>A tibble: 6 × 2</caption>\n",
       "<thead>\n",
       "\t<tr><th scope=col>feature_type</th><th scope=col>n</th></tr>\n",
       "\t<tr><th scope=col>&lt;chr&gt;</th><th scope=col>&lt;int&gt;</th></tr>\n",
       "</thead>\n",
       "<tbody>\n",
       "\t<tr><td>Microbiology</td><td>  203</td></tr>\n",
       "\t<tr><td>Procedures  </td><td>  513</td></tr>\n",
       "\t<tr><td>Imaging     </td><td> 1822</td></tr>\n",
       "\t<tr><td>Lab         </td><td> 6305</td></tr>\n",
       "\t<tr><td>Meds        </td><td>12397</td></tr>\n",
       "\t<tr><td>Diagnosis   </td><td>19469</td></tr>\n",
       "</tbody>\n",
       "</table>\n"
      ],
      "text/latex": [
       "A tibble: 6 × 2\n",
       "\\begin{tabular}{ll}\n",
       " feature\\_type & n\\\\\n",
       " <chr> & <int>\\\\\n",
       "\\hline\n",
       "\t Microbiology &   203\\\\\n",
       "\t Procedures   &   513\\\\\n",
       "\t Imaging      &  1822\\\\\n",
       "\t Lab          &  6305\\\\\n",
       "\t Meds         & 12397\\\\\n",
       "\t Diagnosis    & 19469\\\\\n",
       "\\end{tabular}\n"
      ],
      "text/markdown": [
       "\n",
       "A tibble: 6 × 2\n",
       "\n",
       "| feature_type &lt;chr&gt; | n &lt;int&gt; |\n",
       "|---|---|\n",
       "| Microbiology |   203 |\n",
       "| Procedures   |   513 |\n",
       "| Imaging      |  1822 |\n",
       "| Lab          |  6305 |\n",
       "| Meds         | 12397 |\n",
       "| Diagnosis    | 19469 |\n",
       "\n"
      ],
      "text/plain": [
       "  feature_type n    \n",
       "1 Microbiology   203\n",
       "2 Procedures     513\n",
       "3 Imaging       1822\n",
       "4 Lab           6305\n",
       "5 Meds         12397\n",
       "6 Diagnosis    19469"
      ]
     },
     "metadata": {},
     "output_type": "display_data"
    },
    {
     "name": "stderr",
     "output_type": "stream",
     "text": [
      "`summarise()` ungrouping output (override with `.groups` argument)\n",
      "\n"
     ]
    },
    {
     "data": {
      "text/html": [
       "<table>\n",
       "<caption>A tibble: 3 × 2</caption>\n",
       "<thead>\n",
       "\t<tr><th scope=col>feature_type</th><th scope=col>n</th></tr>\n",
       "\t<tr><th scope=col>&lt;chr&gt;</th><th scope=col>&lt;int&gt;</th></tr>\n",
       "</thead>\n",
       "<tbody>\n",
       "\t<tr><td>demo  </td><td> 5406</td></tr>\n",
       "\t<tr><td>vitals</td><td>12375</td></tr>\n",
       "\t<tr><td>labs  </td><td>12616</td></tr>\n",
       "</tbody>\n",
       "</table>\n"
      ],
      "text/latex": [
       "A tibble: 3 × 2\n",
       "\\begin{tabular}{ll}\n",
       " feature\\_type & n\\\\\n",
       " <chr> & <int>\\\\\n",
       "\\hline\n",
       "\t demo   &  5406\\\\\n",
       "\t vitals & 12375\\\\\n",
       "\t labs   & 12616\\\\\n",
       "\\end{tabular}\n"
      ],
      "text/markdown": [
       "\n",
       "A tibble: 3 × 2\n",
       "\n",
       "| feature_type &lt;chr&gt; | n &lt;int&gt; |\n",
       "|---|---|\n",
       "| demo   |  5406 |\n",
       "| vitals | 12375 |\n",
       "| labs   | 12616 |\n",
       "\n"
      ],
      "text/plain": [
       "  feature_type n    \n",
       "1 demo          5406\n",
       "2 vitals       12375\n",
       "3 labs         12616"
      ]
     },
     "metadata": {},
     "output_type": "display_data"
    }
   ],
   "source": [
    "nrow(diff_cohort_orders)\n",
    "nrow(diff_cohort_values) # only 1 less than before \n",
    "diff_cohort_orders %>% group_by(feature_type) %>% summarise(n = n()) %>% arrange(n)\n",
    "diff_cohort_values %>% group_by(feature_type) %>% summarise(n = n()) %>% arrange(n)"
   ]
  },
  {
   "cell_type": "code",
   "execution_count": 39,
   "metadata": {},
   "outputs": [
    {
     "name": "stderr",
     "output_type": "stream",
     "text": [
      "Joining, by = c(\"anon_id\", \"pat_enc_csn_id_coded\", \"admit_time\", \"first_label\", \"death_24hr_recent_label\", \"death_24hr_max_label\", \"pred_first\", \"pred_death_24hr_recent\", \"abs_diff0_24\", \"diff0_True\", \"diff24_True\", \"feature_type\", \"features\", \"values\")\n",
      "\n"
     ]
    },
    {
     "data": {
      "text/html": [
       "71106"
      ],
      "text/latex": [
       "71106"
      ],
      "text/markdown": [
       "71106"
      ],
      "text/plain": [
       "[1] 71106"
      ]
     },
     "metadata": {},
     "output_type": "display_data"
    },
    {
     "data": {
      "text/html": [
       "71106"
      ],
      "text/latex": [
       "71106"
      ],
      "text/markdown": [
       "71106"
      ],
      "text/plain": [
       "[1] 71106"
      ]
     },
     "metadata": {},
     "output_type": "display_data"
    },
    {
     "data": {
      "text/html": [
       "318"
      ],
      "text/latex": [
       "318"
      ],
      "text/markdown": [
       "318"
      ],
      "text/plain": [
       "[1] 318"
      ]
     },
     "metadata": {},
     "output_type": "display_data"
    },
    {
     "name": "stderr",
     "output_type": "stream",
     "text": [
      "`summarise()` ungrouping output (override with `.groups` argument)\n",
      "\n"
     ]
    },
    {
     "data": {
      "text/html": [
       "<table>\n",
       "<caption>A tibble: 9 × 2</caption>\n",
       "<thead>\n",
       "\t<tr><th scope=col>feature_type</th><th scope=col>n</th></tr>\n",
       "\t<tr><th scope=col>&lt;chr&gt;</th><th scope=col>&lt;int&gt;</th></tr>\n",
       "</thead>\n",
       "<tbody>\n",
       "\t<tr><td>Microbiology</td><td>  203</td></tr>\n",
       "\t<tr><td>Procedures  </td><td>  513</td></tr>\n",
       "\t<tr><td>Imaging     </td><td> 1822</td></tr>\n",
       "\t<tr><td>demo        </td><td> 5406</td></tr>\n",
       "\t<tr><td>Lab         </td><td> 6305</td></tr>\n",
       "\t<tr><td>vitals      </td><td>12375</td></tr>\n",
       "\t<tr><td>Meds        </td><td>12397</td></tr>\n",
       "\t<tr><td>labs        </td><td>12616</td></tr>\n",
       "\t<tr><td>Diagnosis   </td><td>19469</td></tr>\n",
       "</tbody>\n",
       "</table>\n"
      ],
      "text/latex": [
       "A tibble: 9 × 2\n",
       "\\begin{tabular}{ll}\n",
       " feature\\_type & n\\\\\n",
       " <chr> & <int>\\\\\n",
       "\\hline\n",
       "\t Microbiology &   203\\\\\n",
       "\t Procedures   &   513\\\\\n",
       "\t Imaging      &  1822\\\\\n",
       "\t demo         &  5406\\\\\n",
       "\t Lab          &  6305\\\\\n",
       "\t vitals       & 12375\\\\\n",
       "\t Meds         & 12397\\\\\n",
       "\t labs         & 12616\\\\\n",
       "\t Diagnosis    & 19469\\\\\n",
       "\\end{tabular}\n"
      ],
      "text/markdown": [
       "\n",
       "A tibble: 9 × 2\n",
       "\n",
       "| feature_type &lt;chr&gt; | n &lt;int&gt; |\n",
       "|---|---|\n",
       "| Microbiology |   203 |\n",
       "| Procedures   |   513 |\n",
       "| Imaging      |  1822 |\n",
       "| demo         |  5406 |\n",
       "| Lab          |  6305 |\n",
       "| vitals       | 12375 |\n",
       "| Meds         | 12397 |\n",
       "| labs         | 12616 |\n",
       "| Diagnosis    | 19469 |\n",
       "\n"
      ],
      "text/plain": [
       "  feature_type n    \n",
       "1 Microbiology   203\n",
       "2 Procedures     513\n",
       "3 Imaging       1822\n",
       "4 demo          5406\n",
       "5 Lab           6305\n",
       "6 vitals       12375\n",
       "7 Meds         12397\n",
       "8 labs         12616\n",
       "9 Diagnosis    19469"
      ]
     },
     "metadata": {},
     "output_type": "display_data"
    }
   ],
   "source": [
    "diff_cohort_full_features <- full_join(diff_cohort_orders, diff_cohort_values) \n",
    "nrow(diff_cohort_full_features) # only 1 less\n",
    "nrow(diff_cohort_orders) + nrow(diff_cohort_values)\n",
    "length(unique(diff_cohort_full_features$pat_enc_csn_id_coded))\n",
    "diff_cohort_full_features %>% group_by(feature_type) %>% summarise(n = n()) %>% arrange(n)"
   ]
  },
  {
   "cell_type": "code",
   "execution_count": 40,
   "metadata": {},
   "outputs": [],
   "source": [
    "write.csv(diff_cohort_full_features, file.path(modeldir4preadmit, \"1_4_cohort_diff_full_features.csv\"), row.names=FALSE)"
   ]
  },
  {
   "cell_type": "markdown",
   "metadata": {},
   "source": [
    "### Patient visits predictions vs. truth\n"
   ]
  },
  {
   "cell_type": "code",
   "execution_count": 41,
   "metadata": {},
   "outputs": [
    {
     "data": {
      "text/plain": [
       "     Min.   1st Qu.    Median      Mean   3rd Qu.      Max. \n",
       "-0.990000  0.010000  0.030000 -0.007673  0.070000  0.930000 "
      ]
     },
     "metadata": {},
     "output_type": "display_data"
    },
    {
     "data": {
      "text/plain": [
       "    Min.  1st Qu.   Median     Mean  3rd Qu.     Max. \n",
       "-0.99000  0.01000  0.03000 -0.05359  0.06000  0.76000 "
      ]
     },
     "metadata": {},
     "output_type": "display_data"
    }
   ],
   "source": [
    "summary(cohort_test$diff0_True)\n",
    "summary(cohort_test$diff24_True)"
   ]
  },
  {
   "cell_type": "code",
   "execution_count": 42,
   "metadata": {},
   "outputs": [],
   "source": [
    "diff3 <- gather(cohort_test, diffs, values, diff0_24:diff24_True, factor_key=TRUE)\n",
    "diff2 <- diff3 %>% filter(diffs != 'diff0_24')"
   ]
  },
  {
   "cell_type": "code",
   "execution_count": 43,
   "metadata": {},
   "outputs": [
    {
     "name": "stderr",
     "output_type": "stream",
     "text": [
      "`stat_bin()` using `bins = 30`. Pick better value with `binwidth`.\n",
      "\n"
     ]
    },
    {
     "data": {
      "image/png": "[encoded data removed]",
      "text/plain": [
       "plot without title"
      ]
     },
     "metadata": {
      "image/png": {
       "height": 600,
       "width": 420
      }
     },
     "output_type": "display_data"
    }
   ],
   "source": [
    "options(repr.plot.width=7, repr.plot.height=10)\n",
    "\n",
    "ggplot(diff2, aes(x = values)) +\n",
    "  geom_histogram(fill = \"white\", colour = \"black\") +\n",
    "  facet_grid(diffs ~ .)"
   ]
  },
  {
   "cell_type": "markdown",
   "metadata": {},
   "source": [
    "### "
   ]
  },
  {
   "cell_type": "markdown",
   "metadata": {},
   "source": [
    "### Check most difference first\n",
    "- 0.7 or more: 3\n",
    "- 0.6 or more: 11\n",
    "- 0.5 or more: 33"
   ]
  },
  {
   "cell_type": "code",
   "execution_count": 44,
   "metadata": {},
   "outputs": [
    {
     "data": {
      "text/html": [
       "<table>\n",
       "<caption>A tibble: 8 × 4</caption>\n",
       "<thead>\n",
       "\t<tr><th scope=col>abs_diff0_24</th><th scope=col>count</th><th scope=col>cum_count</th><th scope=col>cumperc</th></tr>\n",
       "\t<tr><th scope=col>&lt;dbl&gt;</th><th scope=col>&lt;int&gt;</th><th scope=col>&lt;int&gt;</th><th scope=col>&lt;dbl&gt;</th></tr>\n",
       "</thead>\n",
       "<tbody>\n",
       "\t<tr><td>0.7</td><td>   3</td><td>    3</td><td>  0.02</td></tr>\n",
       "\t<tr><td>0.6</td><td>   8</td><td>   11</td><td>  0.09</td></tr>\n",
       "\t<tr><td>0.5</td><td>  22</td><td>   33</td><td>  0.27</td></tr>\n",
       "\t<tr><td>0.4</td><td>  79</td><td>  112</td><td>  0.90</td></tr>\n",
       "\t<tr><td>0.3</td><td> 206</td><td>  318</td><td>  2.56</td></tr>\n",
       "\t<tr><td>0.2</td><td> 501</td><td>  819</td><td>  6.60</td></tr>\n",
       "\t<tr><td>0.1</td><td>1619</td><td> 2438</td><td> 19.63</td></tr>\n",
       "\t<tr><td>0.0</td><td>9980</td><td>12418</td><td>100.00</td></tr>\n",
       "</tbody>\n",
       "</table>\n"
      ],
      "text/latex": [
       "A tibble: 8 × 4\n",
       "\\begin{tabular}{llll}\n",
       " abs\\_diff0\\_24 & count & cum\\_count & cumperc\\\\\n",
       " <dbl> & <int> & <int> & <dbl>\\\\\n",
       "\\hline\n",
       "\t 0.7 &    3 &     3 &   0.02\\\\\n",
       "\t 0.6 &    8 &    11 &   0.09\\\\\n",
       "\t 0.5 &   22 &    33 &   0.27\\\\\n",
       "\t 0.4 &   79 &   112 &   0.90\\\\\n",
       "\t 0.3 &  206 &   318 &   2.56\\\\\n",
       "\t 0.2 &  501 &   819 &   6.60\\\\\n",
       "\t 0.1 & 1619 &  2438 &  19.63\\\\\n",
       "\t 0.0 & 9980 & 12418 & 100.00\\\\\n",
       "\\end{tabular}\n"
      ],
      "text/markdown": [
       "\n",
       "A tibble: 8 × 4\n",
       "\n",
       "| abs_diff0_24 &lt;dbl&gt; | count &lt;int&gt; | cum_count &lt;int&gt; | cumperc &lt;dbl&gt; |\n",
       "|---|---|---|---|\n",
       "| 0.7 |    3 |     3 |   0.02 |\n",
       "| 0.6 |    8 |    11 |   0.09 |\n",
       "| 0.5 |   22 |    33 |   0.27 |\n",
       "| 0.4 |   79 |   112 |   0.90 |\n",
       "| 0.3 |  206 |   318 |   2.56 |\n",
       "| 0.2 |  501 |   819 |   6.60 |\n",
       "| 0.1 | 1619 |  2438 |  19.63 |\n",
       "| 0.0 | 9980 | 12418 | 100.00 |\n",
       "\n"
      ],
      "text/plain": [
       "  abs_diff0_24 count cum_count cumperc\n",
       "1 0.7             3      3       0.02 \n",
       "2 0.6             8     11       0.09 \n",
       "3 0.5            22     33       0.27 \n",
       "4 0.4            79    112       0.90 \n",
       "5 0.3           206    318       2.56 \n",
       "6 0.2           501    819       6.60 \n",
       "7 0.1          1619   2438      19.63 \n",
       "8 0.0          9980  12418     100.00 "
      ]
     },
     "metadata": {},
     "output_type": "display_data"
    }
   ],
   "source": [
    "diff"
   ]
  },
  {
   "cell_type": "markdown",
   "metadata": {},
   "source": [
    "### Get the full data for the cohort for exploratory analysis"
   ]
  },
  {
   "cell_type": "code",
   "execution_count": 45,
   "metadata": {},
   "outputs": [],
   "source": [
    "cohort <- cohort %>% mutate(admit_time = ymd_hms(admit_time)) "
   ]
  },
  {
   "cell_type": "code",
   "execution_count": 46,
   "metadata": {},
   "outputs": [
    {
     "name": "stderr",
     "output_type": "stream",
     "text": [
      "Joining, by = c(\"anon_id\", \"pat_enc_csn_id_coded\", \"admit_time\")\n",
      "\n",
      "Joining, by = c(\"anon_id\", \"pat_enc_csn_id_coded\", \"admit_time\", \"death_24hr_max_label\", \"death_24hr_recent_label\", \"first_label\")\n",
      "\n"
     ]
    },
    {
     "data": {
      "text/html": [
       "43980"
      ],
      "text/latex": [
       "43980"
      ],
      "text/markdown": [
       "43980"
      ],
      "text/plain": [
       "[1] 43980"
      ]
     },
     "metadata": {},
     "output_type": "display_data"
    },
    {
     "data": {
      "text/html": [
       "43980"
      ],
      "text/latex": [
       "43980"
      ],
      "text/markdown": [
       "43980"
      ],
      "text/plain": [
       "[1] 43980"
      ]
     },
     "metadata": {},
     "output_type": "display_data"
    },
    {
     "name": "stderr",
     "output_type": "stream",
     "text": [
      "Joining, by = c(\"anon_id\", \"pat_enc_csn_id_coded\", \"inpatient_data_id_coded\", \"admit_time\", \"label_max24\", \"label_24hr_recent\", \"admit_label\", \"has_admit_label\", \"died_within_24hrs\", \"death_24hr_max_label\", \"death_24hr_recent_label\", \"first_label\", \"first_label_minutes_since_admit\", \"acute_to_critical_label_recent\", \"critical_to_acute_label_recent\", \"acute_to_critical_label_max\", \"critical_to_acute_label_max\", \"feature_type\", \"features\", \"values\")\n",
      "\n"
     ]
    },
    {
     "data": {
      "text/html": [
       "9131838"
      ],
      "text/latex": [
       "9131838"
      ],
      "text/markdown": [
       "9131838"
      ],
      "text/plain": [
       "[1] 9131838"
      ]
     },
     "metadata": {},
     "output_type": "display_data"
    },
    {
     "data": {
      "text/html": [
       "9131838"
      ],
      "text/latex": [
       "9131838"
      ],
      "text/markdown": [
       "9131838"
      ],
      "text/plain": [
       "[1] 9131838"
      ]
     },
     "metadata": {},
     "output_type": "display_data"
    },
    {
     "data": {
      "text/html": [
       "43980"
      ],
      "text/latex": [
       "43980"
      ],
      "text/markdown": [
       "43980"
      ],
      "text/plain": [
       "[1] 43980"
      ]
     },
     "metadata": {},
     "output_type": "display_data"
    },
    {
     "name": "stderr",
     "output_type": "stream",
     "text": [
      "`summarise()` ungrouping output (override with `.groups` argument)\n",
      "\n"
     ]
    },
    {
     "data": {
      "text/html": [
       "<table>\n",
       "<caption>A tibble: 10 × 2</caption>\n",
       "<thead>\n",
       "\t<tr><th scope=col>feature_type</th><th scope=col>n</th></tr>\n",
       "\t<tr><th scope=col>&lt;chr&gt;</th><th scope=col>&lt;int&gt;</th></tr>\n",
       "</thead>\n",
       "<tbody>\n",
       "\t<tr><td>NA          </td><td>     10</td></tr>\n",
       "\t<tr><td>Microbiology</td><td>  39017</td></tr>\n",
       "\t<tr><td>Procedures  </td><td>  51696</td></tr>\n",
       "\t<tr><td>Imaging     </td><td> 299944</td></tr>\n",
       "\t<tr><td>demo        </td><td> 747660</td></tr>\n",
       "\t<tr><td>vitals      </td><td> 958312</td></tr>\n",
       "\t<tr><td>Lab         </td><td> 993484</td></tr>\n",
       "\t<tr><td>labs        </td><td>1339004</td></tr>\n",
       "\t<tr><td>Meds        </td><td>1868195</td></tr>\n",
       "\t<tr><td>Diagnosis   </td><td>2834516</td></tr>\n",
       "</tbody>\n",
       "</table>\n"
      ],
      "text/latex": [
       "A tibble: 10 × 2\n",
       "\\begin{tabular}{ll}\n",
       " feature\\_type & n\\\\\n",
       " <chr> & <int>\\\\\n",
       "\\hline\n",
       "\t NA           &      10\\\\\n",
       "\t Microbiology &   39017\\\\\n",
       "\t Procedures   &   51696\\\\\n",
       "\t Imaging      &  299944\\\\\n",
       "\t demo         &  747660\\\\\n",
       "\t vitals       &  958312\\\\\n",
       "\t Lab          &  993484\\\\\n",
       "\t labs         & 1339004\\\\\n",
       "\t Meds         & 1868195\\\\\n",
       "\t Diagnosis    & 2834516\\\\\n",
       "\\end{tabular}\n"
      ],
      "text/markdown": [
       "\n",
       "A tibble: 10 × 2\n",
       "\n",
       "| feature_type &lt;chr&gt; | n &lt;int&gt; |\n",
       "|---|---|\n",
       "| NA           |      10 |\n",
       "| Microbiology |   39017 |\n",
       "| Procedures   |   51696 |\n",
       "| Imaging      |  299944 |\n",
       "| demo         |  747660 |\n",
       "| vitals       |  958312 |\n",
       "| Lab          |  993484 |\n",
       "| labs         | 1339004 |\n",
       "| Meds         | 1868195 |\n",
       "| Diagnosis    | 2834516 |\n",
       "\n"
      ],
      "text/plain": [
       "   feature_type n      \n",
       "1  NA                10\n",
       "2  Microbiology   39017\n",
       "3  Procedures     51696\n",
       "4  Imaging       299944\n",
       "5  demo          747660\n",
       "6  vitals        958312\n",
       "7  Lab           993484\n",
       "8  labs         1339004\n",
       "9  Meds         1868195\n",
       "10 Diagnosis    2834516"
      ]
     },
     "metadata": {},
     "output_type": "display_data"
    }
   ],
   "source": [
    "cohort_orders <- left_join(cohort, orders4)\n",
    "cohort_values <- left_join(cohort, values)\n",
    "\n",
    "length(unique(cohort_orders$pat_enc_csn_id_coded))\n",
    "length(unique(cohort_values$pat_enc_csn_id_coded))\n",
    "\n",
    "cohort_full <- full_join(cohort_orders, cohort_values)\n",
    "nrow(cohort_full) # 9171908\n",
    "nrow(cohort_orders) + nrow(cohort_values)\n",
    "length(unique(cohort_full$pat_enc_csn_id_coded))\n",
    "cohort_full %>% group_by(feature_type) %>% summarise(n = n()) %>% arrange(n)"
   ]
  },
  {
   "cell_type": "code",
   "execution_count": 47,
   "metadata": {},
   "outputs": [],
   "source": [
    "write.csv(cohort_full, file.path(featuredir, \"1_4_cohort_24hrpreadmit_full_features.csv\"), row.names=FALSE)"
   ]
  },
  {
   "cell_type": "code",
   "execution_count": 48,
   "metadata": {},
   "outputs": [
    {
     "data": {
      "text/html": [
       "<table>\n",
       "<caption>A data.frame: 10 × 22</caption>\n",
       "<thead>\n",
       "\t<tr><th scope=col>anon_id</th><th scope=col>pat_enc_csn_id_coded</th><th scope=col>inpatient_data_id_coded</th><th scope=col>admit_time</th><th scope=col>label_max24</th><th scope=col>label_24hr_recent</th><th scope=col>admit_label</th><th scope=col>has_admit_label</th><th scope=col>died_within_24hrs</th><th scope=col>death_24hr_max_label</th><th scope=col>...</th><th scope=col>first_label_minutes_since_admit</th><th scope=col>acute_to_critical_label_recent</th><th scope=col>critical_to_acute_label_recent</th><th scope=col>acute_to_critical_label_max</th><th scope=col>critical_to_acute_label_max</th><th scope=col>feature_type</th><th scope=col>features</th><th scope=col>values</th><th scope=col>time</th><th scope=col>hr_before_admit</th></tr>\n",
       "\t<tr><th scope=col>&lt;chr&gt;</th><th scope=col>&lt;dbl&gt;</th><th scope=col>&lt;int&gt;</th><th scope=col>&lt;dttm&gt;</th><th scope=col>&lt;int&gt;</th><th scope=col>&lt;int&gt;</th><th scope=col>&lt;int&gt;</th><th scope=col>&lt;int&gt;</th><th scope=col>&lt;int&gt;</th><th scope=col>&lt;int&gt;</th><th scope=col>...</th><th scope=col>&lt;dbl&gt;</th><th scope=col>&lt;int&gt;</th><th scope=col>&lt;int&gt;</th><th scope=col>&lt;int&gt;</th><th scope=col>&lt;int&gt;</th><th scope=col>&lt;chr&gt;</th><th scope=col>&lt;chr&gt;</th><th scope=col>&lt;dbl&gt;</th><th scope=col>&lt;dttm&gt;</th><th scope=col>&lt;dbl&gt;</th></tr>\n",
       "</thead>\n",
       "<tbody>\n",
       "\t<tr><td>JCe89272 </td><td>131250899044</td><td>30124250</td><td>2018-05-05 03:51:00</td><td>0</td><td>0</td><td>0</td><td>1</td><td>0</td><td>0</td><td>...</td><td>0</td><td>0</td><td>0</td><td>0</td><td>0</td><td>NA</td><td>NA</td><td>NA</td><td>NA</td><td>NA</td></tr>\n",
       "\t<tr><td>JCe11fd2 </td><td>131232385768</td><td>24937306</td><td>2017-05-14 02:19:00</td><td>0</td><td>0</td><td>0</td><td>1</td><td>0</td><td>0</td><td>...</td><td>0</td><td>0</td><td>0</td><td>0</td><td>0</td><td>NA</td><td>NA</td><td>NA</td><td>NA</td><td>NA</td></tr>\n",
       "\t<tr><td>JCe96772 </td><td>131143463175</td><td>17524105</td><td>2015-10-22 23:48:00</td><td>0</td><td>0</td><td>0</td><td>1</td><td>0</td><td>0</td><td>...</td><td>0</td><td>0</td><td>0</td><td>0</td><td>0</td><td>NA</td><td>NA</td><td>NA</td><td>NA</td><td>NA</td></tr>\n",
       "\t<tr><td>JCeb7da1 </td><td>131244907345</td><td>28357111</td><td>2018-01-23 06:01:00</td><td>0</td><td>0</td><td>0</td><td>1</td><td>0</td><td>0</td><td>...</td><td>0</td><td>0</td><td>0</td><td>0</td><td>0</td><td>NA</td><td>NA</td><td>NA</td><td>NA</td><td>NA</td></tr>\n",
       "\t<tr><td>JCcebf1c </td><td>131193906942</td><td>20858243</td><td>2016-08-26 06:21:00</td><td>0</td><td>0</td><td>0</td><td>1</td><td>0</td><td>0</td><td>...</td><td>0</td><td>0</td><td>0</td><td>0</td><td>0</td><td>NA</td><td>NA</td><td>NA</td><td>NA</td><td>NA</td></tr>\n",
       "\t<tr><td>JCd6a43e </td><td>131239369230</td><td>26437382</td><td>2017-10-30 01:03:00</td><td>0</td><td>0</td><td>0</td><td>1</td><td>0</td><td>0</td><td>...</td><td>0</td><td>0</td><td>0</td><td>0</td><td>0</td><td>NA</td><td>NA</td><td>NA</td><td>NA</td><td>NA</td></tr>\n",
       "\t<tr><td>JCe87896 </td><td>131236364892</td><td>25404212</td><td>2017-08-04 23:17:00</td><td>0</td><td>0</td><td>0</td><td>1</td><td>0</td><td>0</td><td>...</td><td>0</td><td>0</td><td>0</td><td>0</td><td>0</td><td>NA</td><td>NA</td><td>NA</td><td>NA</td><td>NA</td></tr>\n",
       "\t<tr><td>JCd31313 </td><td>131179268110</td><td>18727314</td><td>2016-01-30 21:37:00</td><td>0</td><td>0</td><td>0</td><td>1</td><td>0</td><td>0</td><td>...</td><td>0</td><td>0</td><td>0</td><td>0</td><td>0</td><td>NA</td><td>NA</td><td>NA</td><td>NA</td><td>NA</td></tr>\n",
       "\t<tr><td>JC2a20b87</td><td>131282120209</td><td>45289324</td><td>2020-01-29 20:41:00</td><td>0</td><td>0</td><td>0</td><td>1</td><td>0</td><td>0</td><td>...</td><td>0</td><td>0</td><td>0</td><td>0</td><td>0</td><td>NA</td><td>NA</td><td>NA</td><td>NA</td><td>NA</td></tr>\n",
       "\t<tr><td>JCe2ffa6 </td><td>131239885415</td><td>26629681</td><td>2017-11-09 01:56:00</td><td>0</td><td>0</td><td>0</td><td>1</td><td>0</td><td>0</td><td>...</td><td>0</td><td>0</td><td>0</td><td>0</td><td>0</td><td>NA</td><td>NA</td><td>NA</td><td>NA</td><td>NA</td></tr>\n",
       "</tbody>\n",
       "</table>\n"
      ],
      "text/latex": [
       "A data.frame: 10 × 22\n",
       "\\begin{tabular}{lllllllllllllllllllll}\n",
       " anon\\_id & pat\\_enc\\_csn\\_id\\_coded & inpatient\\_data\\_id\\_coded & admit\\_time & label\\_max24 & label\\_24hr\\_recent & admit\\_label & has\\_admit\\_label & died\\_within\\_24hrs & death\\_24hr\\_max\\_label & ... & first\\_label\\_minutes\\_since\\_admit & acute\\_to\\_critical\\_label\\_recent & critical\\_to\\_acute\\_label\\_recent & acute\\_to\\_critical\\_label\\_max & critical\\_to\\_acute\\_label\\_max & feature\\_type & features & values & time & hr\\_before\\_admit\\\\\n",
       " <chr> & <dbl> & <int> & <dttm> & <int> & <int> & <int> & <int> & <int> & <int> & ... & <dbl> & <int> & <int> & <int> & <int> & <chr> & <chr> & <dbl> & <dttm> & <dbl>\\\\\n",
       "\\hline\n",
       "\t JCe89272  & 131250899044 & 30124250 & 2018-05-05 03:51:00 & 0 & 0 & 0 & 1 & 0 & 0 & ... & 0 & 0 & 0 & 0 & 0 & NA & NA & NA & NA & NA\\\\\n",
       "\t JCe11fd2  & 131232385768 & 24937306 & 2017-05-14 02:19:00 & 0 & 0 & 0 & 1 & 0 & 0 & ... & 0 & 0 & 0 & 0 & 0 & NA & NA & NA & NA & NA\\\\\n",
       "\t JCe96772  & 131143463175 & 17524105 & 2015-10-22 23:48:00 & 0 & 0 & 0 & 1 & 0 & 0 & ... & 0 & 0 & 0 & 0 & 0 & NA & NA & NA & NA & NA\\\\\n",
       "\t JCeb7da1  & 131244907345 & 28357111 & 2018-01-23 06:01:00 & 0 & 0 & 0 & 1 & 0 & 0 & ... & 0 & 0 & 0 & 0 & 0 & NA & NA & NA & NA & NA\\\\\n",
       "\t JCcebf1c  & 131193906942 & 20858243 & 2016-08-26 06:21:00 & 0 & 0 & 0 & 1 & 0 & 0 & ... & 0 & 0 & 0 & 0 & 0 & NA & NA & NA & NA & NA\\\\\n",
       "\t JCd6a43e  & 131239369230 & 26437382 & 2017-10-30 01:03:00 & 0 & 0 & 0 & 1 & 0 & 0 & ... & 0 & 0 & 0 & 0 & 0 & NA & NA & NA & NA & NA\\\\\n",
       "\t JCe87896  & 131236364892 & 25404212 & 2017-08-04 23:17:00 & 0 & 0 & 0 & 1 & 0 & 0 & ... & 0 & 0 & 0 & 0 & 0 & NA & NA & NA & NA & NA\\\\\n",
       "\t JCd31313  & 131179268110 & 18727314 & 2016-01-30 21:37:00 & 0 & 0 & 0 & 1 & 0 & 0 & ... & 0 & 0 & 0 & 0 & 0 & NA & NA & NA & NA & NA\\\\\n",
       "\t JC2a20b87 & 131282120209 & 45289324 & 2020-01-29 20:41:00 & 0 & 0 & 0 & 1 & 0 & 0 & ... & 0 & 0 & 0 & 0 & 0 & NA & NA & NA & NA & NA\\\\\n",
       "\t JCe2ffa6  & 131239885415 & 26629681 & 2017-11-09 01:56:00 & 0 & 0 & 0 & 1 & 0 & 0 & ... & 0 & 0 & 0 & 0 & 0 & NA & NA & NA & NA & NA\\\\\n",
       "\\end{tabular}\n"
      ],
      "text/markdown": [
       "\n",
       "A data.frame: 10 × 22\n",
       "\n",
       "| anon_id &lt;chr&gt; | pat_enc_csn_id_coded &lt;dbl&gt; | inpatient_data_id_coded &lt;int&gt; | admit_time &lt;dttm&gt; | label_max24 &lt;int&gt; | label_24hr_recent &lt;int&gt; | admit_label &lt;int&gt; | has_admit_label &lt;int&gt; | died_within_24hrs &lt;int&gt; | death_24hr_max_label &lt;int&gt; | ... ... | first_label_minutes_since_admit &lt;dbl&gt; | acute_to_critical_label_recent &lt;int&gt; | critical_to_acute_label_recent &lt;int&gt; | acute_to_critical_label_max &lt;int&gt; | critical_to_acute_label_max &lt;int&gt; | feature_type &lt;chr&gt; | features &lt;chr&gt; | values &lt;dbl&gt; | time &lt;dttm&gt; | hr_before_admit &lt;dbl&gt; |\n",
       "|---|---|---|---|---|---|---|---|---|---|---|---|---|---|---|---|---|---|---|---|---|\n",
       "| JCe89272  | 131250899044 | 30124250 | 2018-05-05 03:51:00 | 0 | 0 | 0 | 1 | 0 | 0 | ... | 0 | 0 | 0 | 0 | 0 | NA | NA | NA | NA | NA |\n",
       "| JCe11fd2  | 131232385768 | 24937306 | 2017-05-14 02:19:00 | 0 | 0 | 0 | 1 | 0 | 0 | ... | 0 | 0 | 0 | 0 | 0 | NA | NA | NA | NA | NA |\n",
       "| JCe96772  | 131143463175 | 17524105 | 2015-10-22 23:48:00 | 0 | 0 | 0 | 1 | 0 | 0 | ... | 0 | 0 | 0 | 0 | 0 | NA | NA | NA | NA | NA |\n",
       "| JCeb7da1  | 131244907345 | 28357111 | 2018-01-23 06:01:00 | 0 | 0 | 0 | 1 | 0 | 0 | ... | 0 | 0 | 0 | 0 | 0 | NA | NA | NA | NA | NA |\n",
       "| JCcebf1c  | 131193906942 | 20858243 | 2016-08-26 06:21:00 | 0 | 0 | 0 | 1 | 0 | 0 | ... | 0 | 0 | 0 | 0 | 0 | NA | NA | NA | NA | NA |\n",
       "| JCd6a43e  | 131239369230 | 26437382 | 2017-10-30 01:03:00 | 0 | 0 | 0 | 1 | 0 | 0 | ... | 0 | 0 | 0 | 0 | 0 | NA | NA | NA | NA | NA |\n",
       "| JCe87896  | 131236364892 | 25404212 | 2017-08-04 23:17:00 | 0 | 0 | 0 | 1 | 0 | 0 | ... | 0 | 0 | 0 | 0 | 0 | NA | NA | NA | NA | NA |\n",
       "| JCd31313  | 131179268110 | 18727314 | 2016-01-30 21:37:00 | 0 | 0 | 0 | 1 | 0 | 0 | ... | 0 | 0 | 0 | 0 | 0 | NA | NA | NA | NA | NA |\n",
       "| JC2a20b87 | 131282120209 | 45289324 | 2020-01-29 20:41:00 | 0 | 0 | 0 | 1 | 0 | 0 | ... | 0 | 0 | 0 | 0 | 0 | NA | NA | NA | NA | NA |\n",
       "| JCe2ffa6  | 131239885415 | 26629681 | 2017-11-09 01:56:00 | 0 | 0 | 0 | 1 | 0 | 0 | ... | 0 | 0 | 0 | 0 | 0 | NA | NA | NA | NA | NA |\n",
       "\n"
      ],
      "text/plain": [
       "   anon_id   pat_enc_csn_id_coded inpatient_data_id_coded admit_time         \n",
       "1  JCe89272  131250899044         30124250                2018-05-05 03:51:00\n",
       "2  JCe11fd2  131232385768         24937306                2017-05-14 02:19:00\n",
       "3  JCe96772  131143463175         17524105                2015-10-22 23:48:00\n",
       "4  JCeb7da1  131244907345         28357111                2018-01-23 06:01:00\n",
       "5  JCcebf1c  131193906942         20858243                2016-08-26 06:21:00\n",
       "6  JCd6a43e  131239369230         26437382                2017-10-30 01:03:00\n",
       "7  JCe87896  131236364892         25404212                2017-08-04 23:17:00\n",
       "8  JCd31313  131179268110         18727314                2016-01-30 21:37:00\n",
       "9  JC2a20b87 131282120209         45289324                2020-01-29 20:41:00\n",
       "10 JCe2ffa6  131239885415         26629681                2017-11-09 01:56:00\n",
       "   label_max24 label_24hr_recent admit_label has_admit_label died_within_24hrs\n",
       "1  0           0                 0           1               0                \n",
       "2  0           0                 0           1               0                \n",
       "3  0           0                 0           1               0                \n",
       "4  0           0                 0           1               0                \n",
       "5  0           0                 0           1               0                \n",
       "6  0           0                 0           1               0                \n",
       "7  0           0                 0           1               0                \n",
       "8  0           0                 0           1               0                \n",
       "9  0           0                 0           1               0                \n",
       "10 0           0                 0           1               0                \n",
       "   death_24hr_max_label ... first_label_minutes_since_admit\n",
       "1  0                    ... 0                              \n",
       "2  0                    ... 0                              \n",
       "3  0                    ... 0                              \n",
       "4  0                    ... 0                              \n",
       "5  0                    ... 0                              \n",
       "6  0                    ... 0                              \n",
       "7  0                    ... 0                              \n",
       "8  0                    ... 0                              \n",
       "9  0                    ... 0                              \n",
       "10 0                    ... 0                              \n",
       "   acute_to_critical_label_recent critical_to_acute_label_recent\n",
       "1  0                              0                             \n",
       "2  0                              0                             \n",
       "3  0                              0                             \n",
       "4  0                              0                             \n",
       "5  0                              0                             \n",
       "6  0                              0                             \n",
       "7  0                              0                             \n",
       "8  0                              0                             \n",
       "9  0                              0                             \n",
       "10 0                              0                             \n",
       "   acute_to_critical_label_max critical_to_acute_label_max feature_type\n",
       "1  0                           0                           NA          \n",
       "2  0                           0                           NA          \n",
       "3  0                           0                           NA          \n",
       "4  0                           0                           NA          \n",
       "5  0                           0                           NA          \n",
       "6  0                           0                           NA          \n",
       "7  0                           0                           NA          \n",
       "8  0                           0                           NA          \n",
       "9  0                           0                           NA          \n",
       "10 0                           0                           NA          \n",
       "   features values time hr_before_admit\n",
       "1  NA       NA     <NA> NA             \n",
       "2  NA       NA     <NA> NA             \n",
       "3  NA       NA     <NA> NA             \n",
       "4  NA       NA     <NA> NA             \n",
       "5  NA       NA     <NA> NA             \n",
       "6  NA       NA     <NA> NA             \n",
       "7  NA       NA     <NA> NA             \n",
       "8  NA       NA     <NA> NA             \n",
       "9  NA       NA     <NA> NA             \n",
       "10 NA       NA     <NA> NA             "
      ]
     },
     "metadata": {},
     "output_type": "display_data"
    }
   ],
   "source": [
    "cohort_full %>% filter(is.na(feature_type)) # nothing available for these 10 observation\n",
    "# should probably remove them from the cohort, they are all ICUs"
   ]
  },
  {
   "cell_type": "code",
   "execution_count": 82,
   "metadata": {},
   "outputs": [
    {
     "name": "stderr",
     "output_type": "stream",
     "text": [
      "`summarise()` ungrouping output (override with `.groups` argument)\n",
      "\n"
     ]
    },
    {
     "data": {
      "text/html": [
       "<table>\n",
       "<caption>A tibble: 10 × 2</caption>\n",
       "<thead>\n",
       "\t<tr><th scope=col>feature_type</th><th scope=col>n</th></tr>\n",
       "\t<tr><th scope=col>&lt;chr&gt;</th><th scope=col>&lt;int&gt;</th></tr>\n",
       "</thead>\n",
       "<tbody>\n",
       "\t<tr><td>Diagnosis   </td><td>2686793</td></tr>\n",
       "\t<tr><td>Meds        </td><td>1766920</td></tr>\n",
       "\t<tr><td>labs        </td><td>1273740</td></tr>\n",
       "\t<tr><td>Lab         </td><td> 938854</td></tr>\n",
       "\t<tr><td>vitals      </td><td> 902206</td></tr>\n",
       "\t<tr><td>demo        </td><td> 705177</td></tr>\n",
       "\t<tr><td>Imaging     </td><td> 283278</td></tr>\n",
       "\t<tr><td>Procedures  </td><td>  48607</td></tr>\n",
       "\t<tr><td>Microbiology</td><td>  36980</td></tr>\n",
       "\t<tr><td>NA          </td><td>     10</td></tr>\n",
       "</tbody>\n",
       "</table>\n"
      ],
      "text/latex": [
       "A tibble: 10 × 2\n",
       "\\begin{tabular}{ll}\n",
       " feature\\_type & n\\\\\n",
       " <chr> & <int>\\\\\n",
       "\\hline\n",
       "\t Diagnosis    & 2686793\\\\\n",
       "\t Meds         & 1766920\\\\\n",
       "\t labs         & 1273740\\\\\n",
       "\t Lab          &  938854\\\\\n",
       "\t vitals       &  902206\\\\\n",
       "\t demo         &  705177\\\\\n",
       "\t Imaging      &  283278\\\\\n",
       "\t Procedures   &   48607\\\\\n",
       "\t Microbiology &   36980\\\\\n",
       "\t NA           &      10\\\\\n",
       "\\end{tabular}\n"
      ],
      "text/markdown": [
       "\n",
       "A tibble: 10 × 2\n",
       "\n",
       "| feature_type &lt;chr&gt; | n &lt;int&gt; |\n",
       "|---|---|\n",
       "| Diagnosis    | 2686793 |\n",
       "| Meds         | 1766920 |\n",
       "| labs         | 1273740 |\n",
       "| Lab          |  938854 |\n",
       "| vitals       |  902206 |\n",
       "| demo         |  705177 |\n",
       "| Imaging      |  283278 |\n",
       "| Procedures   |   48607 |\n",
       "| Microbiology |   36980 |\n",
       "| NA           |      10 |\n",
       "\n"
      ],
      "text/plain": [
       "   feature_type n      \n",
       "1  Diagnosis    2686793\n",
       "2  Meds         1766920\n",
       "3  labs         1273740\n",
       "4  Lab           938854\n",
       "5  vitals        902206\n",
       "6  demo          705177\n",
       "7  Imaging       283278\n",
       "8  Procedures     48607\n",
       "9  Microbiology   36980\n",
       "10 NA                10"
      ]
     },
     "metadata": {},
     "output_type": "display_data"
    },
    {
     "name": "stderr",
     "output_type": "stream",
     "text": [
      "`summarise()` ungrouping output (override with `.groups` argument)\n",
      "\n",
      "Selecting by n\n",
      "\n"
     ]
    },
    {
     "data": {
      "text/html": [
       "<table>\n",
       "<caption>A tibble: 50 × 2</caption>\n",
       "<thead>\n",
       "\t<tr><th scope=col>features</th><th scope=col>n</th></tr>\n",
       "\t<tr><th scope=col>&lt;chr&gt;</th><th scope=col>&lt;int&gt;</th></tr>\n",
       "</thead>\n",
       "<tbody>\n",
       "\t<tr><td>Pulse                         </td><td>201617</td></tr>\n",
       "\t<tr><td>RR                            </td><td>190327</td></tr>\n",
       "\t<tr><td>SBP                           </td><td>187908</td></tr>\n",
       "\t<tr><td>DBP                           </td><td>187873</td></tr>\n",
       "\t<tr><td>Temp                          </td><td>134481</td></tr>\n",
       "\t<tr><td>Glucose                       </td><td> 48073</td></tr>\n",
       "\t<tr><td>Hct                           </td><td> 42455</td></tr>\n",
       "\t<tr><td>K                             </td><td> 42455</td></tr>\n",
       "\t<tr><td>Na                            </td><td> 42413</td></tr>\n",
       "\t<tr><td>Hgb                           </td><td> 42406</td></tr>\n",
       "\t<tr><td>Cl                            </td><td> 41906</td></tr>\n",
       "\t<tr><td>Cr                            </td><td> 41830</td></tr>\n",
       "\t<tr><td>BUN                           </td><td> 41612</td></tr>\n",
       "\t<tr><td>AnionGap                      </td><td> 41503</td></tr>\n",
       "\t<tr><td>age                           </td><td> 41481</td></tr>\n",
       "\t<tr><td>delta_ESI                     </td><td> 41481</td></tr>\n",
       "\t<tr><td>delta_H                       </td><td> 41481</td></tr>\n",
       "\t<tr><td>delta_W                       </td><td> 41481</td></tr>\n",
       "\t<tr><td>English                       </td><td> 41481</td></tr>\n",
       "\t<tr><td>ESI_i                         </td><td> 41481</td></tr>\n",
       "\t<tr><td>gender                        </td><td> 41481</td></tr>\n",
       "\t<tr><td>Height_i                      </td><td> 41481</td></tr>\n",
       "\t<tr><td>insurance                     </td><td> 41481</td></tr>\n",
       "\t<tr><td>race.Asian                    </td><td> 41481</td></tr>\n",
       "\t<tr><td>race.Black                    </td><td> 41481</td></tr>\n",
       "\t<tr><td>race.Native.American          </td><td> 41481</td></tr>\n",
       "\t<tr><td>race.Other                    </td><td> 41481</td></tr>\n",
       "\t<tr><td>race.Pacific.Islander         </td><td> 41481</td></tr>\n",
       "\t<tr><td>race.Unknown                  </td><td> 41481</td></tr>\n",
       "\t<tr><td>race.White                    </td><td> 41481</td></tr>\n",
       "\t<tr><td>Weight_i                      </td><td> 41481</td></tr>\n",
       "\t<tr><td>METABOLIC PANEL, COMPREHENSIVE</td><td> 39827</td></tr>\n",
       "\t<tr><td>Platelet                      </td><td> 39497</td></tr>\n",
       "\t<tr><td>Ca                            </td><td> 39428</td></tr>\n",
       "\t<tr><td>WBC                           </td><td> 39402</td></tr>\n",
       "\t<tr><td>RDW                           </td><td> 39326</td></tr>\n",
       "\t<tr><td>MCH                           </td><td> 39320</td></tr>\n",
       "\t<tr><td>CO2                           </td><td> 39305</td></tr>\n",
       "\t<tr><td>CBC WITH DIFFERENTIAL         </td><td> 38869</td></tr>\n",
       "\t<tr><td>eGFR                          </td><td> 37006</td></tr>\n",
       "\t<tr><td>Neut                          </td><td> 36024</td></tr>\n",
       "\t<tr><td>TBili                         </td><td> 35998</td></tr>\n",
       "\t<tr><td>Lymp                          </td><td> 35973</td></tr>\n",
       "\t<tr><td>ALB                           </td><td> 35920</td></tr>\n",
       "\t<tr><td>Mono                          </td><td> 35853</td></tr>\n",
       "\t<tr><td>TProtein                      </td><td> 35810</td></tr>\n",
       "\t<tr><td>ALK                           </td><td> 35740</td></tr>\n",
       "\t<tr><td>ALT                           </td><td> 35652</td></tr>\n",
       "\t<tr><td>AST                           </td><td> 35617</td></tr>\n",
       "\t<tr><td>Glob                          </td><td> 35370</td></tr>\n",
       "</tbody>\n",
       "</table>\n"
      ],
      "text/latex": [
       "A tibble: 50 × 2\n",
       "\\begin{tabular}{ll}\n",
       " features & n\\\\\n",
       " <chr> & <int>\\\\\n",
       "\\hline\n",
       "\t Pulse                          & 201617\\\\\n",
       "\t RR                             & 190327\\\\\n",
       "\t SBP                            & 187908\\\\\n",
       "\t DBP                            & 187873\\\\\n",
       "\t Temp                           & 134481\\\\\n",
       "\t Glucose                        &  48073\\\\\n",
       "\t Hct                            &  42455\\\\\n",
       "\t K                              &  42455\\\\\n",
       "\t Na                             &  42413\\\\\n",
       "\t Hgb                            &  42406\\\\\n",
       "\t Cl                             &  41906\\\\\n",
       "\t Cr                             &  41830\\\\\n",
       "\t BUN                            &  41612\\\\\n",
       "\t AnionGap                       &  41503\\\\\n",
       "\t age                            &  41481\\\\\n",
       "\t delta\\_ESI                      &  41481\\\\\n",
       "\t delta\\_H                        &  41481\\\\\n",
       "\t delta\\_W                        &  41481\\\\\n",
       "\t English                        &  41481\\\\\n",
       "\t ESI\\_i                          &  41481\\\\\n",
       "\t gender                         &  41481\\\\\n",
       "\t Height\\_i                       &  41481\\\\\n",
       "\t insurance                      &  41481\\\\\n",
       "\t race.Asian                     &  41481\\\\\n",
       "\t race.Black                     &  41481\\\\\n",
       "\t race.Native.American           &  41481\\\\\n",
       "\t race.Other                     &  41481\\\\\n",
       "\t race.Pacific.Islander          &  41481\\\\\n",
       "\t race.Unknown                   &  41481\\\\\n",
       "\t race.White                     &  41481\\\\\n",
       "\t Weight\\_i                       &  41481\\\\\n",
       "\t METABOLIC PANEL, COMPREHENSIVE &  39827\\\\\n",
       "\t Platelet                       &  39497\\\\\n",
       "\t Ca                             &  39428\\\\\n",
       "\t WBC                            &  39402\\\\\n",
       "\t RDW                            &  39326\\\\\n",
       "\t MCH                            &  39320\\\\\n",
       "\t CO2                            &  39305\\\\\n",
       "\t CBC WITH DIFFERENTIAL          &  38869\\\\\n",
       "\t eGFR                           &  37006\\\\\n",
       "\t Neut                           &  36024\\\\\n",
       "\t TBili                          &  35998\\\\\n",
       "\t Lymp                           &  35973\\\\\n",
       "\t ALB                            &  35920\\\\\n",
       "\t Mono                           &  35853\\\\\n",
       "\t TProtein                       &  35810\\\\\n",
       "\t ALK                            &  35740\\\\\n",
       "\t ALT                            &  35652\\\\\n",
       "\t AST                            &  35617\\\\\n",
       "\t Glob                           &  35370\\\\\n",
       "\\end{tabular}\n"
      ],
      "text/markdown": [
       "\n",
       "A tibble: 50 × 2\n",
       "\n",
       "| features &lt;chr&gt; | n &lt;int&gt; |\n",
       "|---|---|\n",
       "| Pulse                          | 201617 |\n",
       "| RR                             | 190327 |\n",
       "| SBP                            | 187908 |\n",
       "| DBP                            | 187873 |\n",
       "| Temp                           | 134481 |\n",
       "| Glucose                        |  48073 |\n",
       "| Hct                            |  42455 |\n",
       "| K                              |  42455 |\n",
       "| Na                             |  42413 |\n",
       "| Hgb                            |  42406 |\n",
       "| Cl                             |  41906 |\n",
       "| Cr                             |  41830 |\n",
       "| BUN                            |  41612 |\n",
       "| AnionGap                       |  41503 |\n",
       "| age                            |  41481 |\n",
       "| delta_ESI                      |  41481 |\n",
       "| delta_H                        |  41481 |\n",
       "| delta_W                        |  41481 |\n",
       "| English                        |  41481 |\n",
       "| ESI_i                          |  41481 |\n",
       "| gender                         |  41481 |\n",
       "| Height_i                       |  41481 |\n",
       "| insurance                      |  41481 |\n",
       "| race.Asian                     |  41481 |\n",
       "| race.Black                     |  41481 |\n",
       "| race.Native.American           |  41481 |\n",
       "| race.Other                     |  41481 |\n",
       "| race.Pacific.Islander          |  41481 |\n",
       "| race.Unknown                   |  41481 |\n",
       "| race.White                     |  41481 |\n",
       "| Weight_i                       |  41481 |\n",
       "| METABOLIC PANEL, COMPREHENSIVE |  39827 |\n",
       "| Platelet                       |  39497 |\n",
       "| Ca                             |  39428 |\n",
       "| WBC                            |  39402 |\n",
       "| RDW                            |  39326 |\n",
       "| MCH                            |  39320 |\n",
       "| CO2                            |  39305 |\n",
       "| CBC WITH DIFFERENTIAL          |  38869 |\n",
       "| eGFR                           |  37006 |\n",
       "| Neut                           |  36024 |\n",
       "| TBili                          |  35998 |\n",
       "| Lymp                           |  35973 |\n",
       "| ALB                            |  35920 |\n",
       "| Mono                           |  35853 |\n",
       "| TProtein                       |  35810 |\n",
       "| ALK                            |  35740 |\n",
       "| ALT                            |  35652 |\n",
       "| AST                            |  35617 |\n",
       "| Glob                           |  35370 |\n",
       "\n"
      ],
      "text/plain": [
       "   features                       n     \n",
       "1  Pulse                          201617\n",
       "2  RR                             190327\n",
       "3  SBP                            187908\n",
       "4  DBP                            187873\n",
       "5  Temp                           134481\n",
       "6  Glucose                         48073\n",
       "7  Hct                             42455\n",
       "8  K                               42455\n",
       "9  Na                              42413\n",
       "10 Hgb                             42406\n",
       "11 Cl                              41906\n",
       "12 Cr                              41830\n",
       "13 BUN                             41612\n",
       "14 AnionGap                        41503\n",
       "15 age                             41481\n",
       "16 delta_ESI                       41481\n",
       "17 delta_H                         41481\n",
       "18 delta_W                         41481\n",
       "19 English                         41481\n",
       "20 ESI_i                           41481\n",
       "21 gender                          41481\n",
       "22 Height_i                        41481\n",
       "23 insurance                       41481\n",
       "24 race.Asian                      41481\n",
       "25 race.Black                      41481\n",
       "26 race.Native.American            41481\n",
       "27 race.Other                      41481\n",
       "28 race.Pacific.Islander           41481\n",
       "29 race.Unknown                    41481\n",
       "30 race.White                      41481\n",
       "31 Weight_i                        41481\n",
       "32 METABOLIC PANEL, COMPREHENSIVE  39827\n",
       "33 Platelet                        39497\n",
       "34 Ca                              39428\n",
       "35 WBC                             39402\n",
       "36 RDW                             39326\n",
       "37 MCH                             39320\n",
       "38 CO2                             39305\n",
       "39 CBC WITH DIFFERENTIAL           38869\n",
       "40 eGFR                            37006\n",
       "41 Neut                            36024\n",
       "42 TBili                           35998\n",
       "43 Lymp                            35973\n",
       "44 ALB                             35920\n",
       "45 Mono                            35853\n",
       "46 TProtein                        35810\n",
       "47 ALK                             35740\n",
       "48 ALT                             35652\n",
       "49 AST                             35617\n",
       "50 Glob                            35370"
      ]
     },
     "metadata": {},
     "output_type": "display_data"
    }
   ],
   "source": [
    "cohort_full %>% filter(first_label == death_24hr_recent_label) %>% group_by(feature_type) %>% summarise(n=n()) %>% arrange(-n)\n",
    "cohort_full %>% filter(first_label == death_24hr_recent_label) %>% group_by(features) %>% summarise(n=n()) %>% arrange(-n) %>% top_n(50)"
   ]
  },
  {
   "cell_type": "code",
   "execution_count": 83,
   "metadata": {},
   "outputs": [
    {
     "name": "stderr",
     "output_type": "stream",
     "text": [
      "`summarise()` ungrouping output (override with `.groups` argument)\n",
      "\n"
     ]
    },
    {
     "data": {
      "text/html": [
       "<table>\n",
       "<caption>A tibble: 9 × 2</caption>\n",
       "<thead>\n",
       "\t<tr><th scope=col>feature_type</th><th scope=col>n</th></tr>\n",
       "\t<tr><th scope=col>&lt;chr&gt;</th><th scope=col>&lt;int&gt;</th></tr>\n",
       "</thead>\n",
       "<tbody>\n",
       "\t<tr><td>Diagnosis   </td><td>147723</td></tr>\n",
       "\t<tr><td>Meds        </td><td>101275</td></tr>\n",
       "\t<tr><td>labs        </td><td> 84929</td></tr>\n",
       "\t<tr><td>vitals      </td><td> 76511</td></tr>\n",
       "\t<tr><td>Lab         </td><td> 54630</td></tr>\n",
       "\t<tr><td>demo        </td><td> 42483</td></tr>\n",
       "\t<tr><td>Imaging     </td><td> 16666</td></tr>\n",
       "\t<tr><td>Procedures  </td><td>  3089</td></tr>\n",
       "\t<tr><td>Microbiology</td><td>  2037</td></tr>\n",
       "</tbody>\n",
       "</table>\n"
      ],
      "text/latex": [
       "A tibble: 9 × 2\n",
       "\\begin{tabular}{ll}\n",
       " feature\\_type & n\\\\\n",
       " <chr> & <int>\\\\\n",
       "\\hline\n",
       "\t Diagnosis    & 147723\\\\\n",
       "\t Meds         & 101275\\\\\n",
       "\t labs         &  84929\\\\\n",
       "\t vitals       &  76511\\\\\n",
       "\t Lab          &  54630\\\\\n",
       "\t demo         &  42483\\\\\n",
       "\t Imaging      &  16666\\\\\n",
       "\t Procedures   &   3089\\\\\n",
       "\t Microbiology &   2037\\\\\n",
       "\\end{tabular}\n"
      ],
      "text/markdown": [
       "\n",
       "A tibble: 9 × 2\n",
       "\n",
       "| feature_type &lt;chr&gt; | n &lt;int&gt; |\n",
       "|---|---|\n",
       "| Diagnosis    | 147723 |\n",
       "| Meds         | 101275 |\n",
       "| labs         |  84929 |\n",
       "| vitals       |  76511 |\n",
       "| Lab          |  54630 |\n",
       "| demo         |  42483 |\n",
       "| Imaging      |  16666 |\n",
       "| Procedures   |   3089 |\n",
       "| Microbiology |   2037 |\n",
       "\n"
      ],
      "text/plain": [
       "  feature_type n     \n",
       "1 Diagnosis    147723\n",
       "2 Meds         101275\n",
       "3 labs          84929\n",
       "4 vitals        76511\n",
       "5 Lab           54630\n",
       "6 demo          42483\n",
       "7 Imaging       16666\n",
       "8 Procedures     3089\n",
       "9 Microbiology   2037"
      ]
     },
     "metadata": {},
     "output_type": "display_data"
    },
    {
     "name": "stderr",
     "output_type": "stream",
     "text": [
      "`summarise()` ungrouping output (override with `.groups` argument)\n",
      "\n",
      "Selecting by n\n",
      "\n"
     ]
    },
    {
     "data": {
      "text/html": [
       "<table>\n",
       "<caption>A tibble: 50 × 2</caption>\n",
       "<thead>\n",
       "\t<tr><th scope=col>features</th><th scope=col>n</th></tr>\n",
       "\t<tr><th scope=col>&lt;chr&gt;</th><th scope=col>&lt;int&gt;</th></tr>\n",
       "</thead>\n",
       "<tbody>\n",
       "\t<tr><td>Pulse                         </td><td>17435</td></tr>\n",
       "\t<tr><td>RR                            </td><td>17285</td></tr>\n",
       "\t<tr><td>SBP                           </td><td>16914</td></tr>\n",
       "\t<tr><td>DBP                           </td><td>16913</td></tr>\n",
       "\t<tr><td>Temp                          </td><td> 7964</td></tr>\n",
       "\t<tr><td>Glucose                       </td><td> 3578</td></tr>\n",
       "\t<tr><td>K                             </td><td> 2949</td></tr>\n",
       "\t<tr><td>Na                            </td><td> 2926</td></tr>\n",
       "\t<tr><td>Hgb                           </td><td> 2923</td></tr>\n",
       "\t<tr><td>Hct                           </td><td> 2922</td></tr>\n",
       "\t<tr><td>Cr                            </td><td> 2849</td></tr>\n",
       "\t<tr><td>Cl                            </td><td> 2836</td></tr>\n",
       "\t<tr><td>BUN                           </td><td> 2795</td></tr>\n",
       "\t<tr><td>AnionGap                      </td><td> 2770</td></tr>\n",
       "\t<tr><td>age                           </td><td> 2499</td></tr>\n",
       "\t<tr><td>delta_ESI                     </td><td> 2499</td></tr>\n",
       "\t<tr><td>delta_H                       </td><td> 2499</td></tr>\n",
       "\t<tr><td>delta_W                       </td><td> 2499</td></tr>\n",
       "\t<tr><td>English                       </td><td> 2499</td></tr>\n",
       "\t<tr><td>ESI_i                         </td><td> 2499</td></tr>\n",
       "\t<tr><td>gender                        </td><td> 2499</td></tr>\n",
       "\t<tr><td>Height_i                      </td><td> 2499</td></tr>\n",
       "\t<tr><td>insurance                     </td><td> 2499</td></tr>\n",
       "\t<tr><td>race.Asian                    </td><td> 2499</td></tr>\n",
       "\t<tr><td>race.Black                    </td><td> 2499</td></tr>\n",
       "\t<tr><td>race.Native.American          </td><td> 2499</td></tr>\n",
       "\t<tr><td>race.Other                    </td><td> 2499</td></tr>\n",
       "\t<tr><td>race.Pacific.Islander         </td><td> 2499</td></tr>\n",
       "\t<tr><td>race.Unknown                  </td><td> 2499</td></tr>\n",
       "\t<tr><td>race.White                    </td><td> 2499</td></tr>\n",
       "\t<tr><td>Weight_i                      </td><td> 2499</td></tr>\n",
       "\t<tr><td>Ca                            </td><td> 2410</td></tr>\n",
       "\t<tr><td>Platelet                      </td><td> 2398</td></tr>\n",
       "\t<tr><td>CO2                           </td><td> 2396</td></tr>\n",
       "\t<tr><td>METABOLIC PANEL, COMPREHENSIVE</td><td> 2396</td></tr>\n",
       "\t<tr><td>WBC                           </td><td> 2396</td></tr>\n",
       "\t<tr><td>MCH                           </td><td> 2389</td></tr>\n",
       "\t<tr><td>RDW                           </td><td> 2389</td></tr>\n",
       "\t<tr><td>CBC WITH DIFFERENTIAL         </td><td> 2382</td></tr>\n",
       "\t<tr><td>Neut                          </td><td> 2239</td></tr>\n",
       "\t<tr><td>Lymp                          </td><td> 2232</td></tr>\n",
       "\t<tr><td>Mono                          </td><td> 2228</td></tr>\n",
       "\t<tr><td>eGFR                          </td><td> 2218</td></tr>\n",
       "\t<tr><td>TBili                         </td><td> 2160</td></tr>\n",
       "\t<tr><td>ALB                           </td><td> 2150</td></tr>\n",
       "\t<tr><td>TProtein                      </td><td> 2150</td></tr>\n",
       "\t<tr><td>ALK                           </td><td> 2143</td></tr>\n",
       "\t<tr><td>ALT                           </td><td> 2137</td></tr>\n",
       "\t<tr><td>AST                           </td><td> 2130</td></tr>\n",
       "\t<tr><td>Glob                          </td><td> 2113</td></tr>\n",
       "</tbody>\n",
       "</table>\n"
      ],
      "text/latex": [
       "A tibble: 50 × 2\n",
       "\\begin{tabular}{ll}\n",
       " features & n\\\\\n",
       " <chr> & <int>\\\\\n",
       "\\hline\n",
       "\t Pulse                          & 17435\\\\\n",
       "\t RR                             & 17285\\\\\n",
       "\t SBP                            & 16914\\\\\n",
       "\t DBP                            & 16913\\\\\n",
       "\t Temp                           &  7964\\\\\n",
       "\t Glucose                        &  3578\\\\\n",
       "\t K                              &  2949\\\\\n",
       "\t Na                             &  2926\\\\\n",
       "\t Hgb                            &  2923\\\\\n",
       "\t Hct                            &  2922\\\\\n",
       "\t Cr                             &  2849\\\\\n",
       "\t Cl                             &  2836\\\\\n",
       "\t BUN                            &  2795\\\\\n",
       "\t AnionGap                       &  2770\\\\\n",
       "\t age                            &  2499\\\\\n",
       "\t delta\\_ESI                      &  2499\\\\\n",
       "\t delta\\_H                        &  2499\\\\\n",
       "\t delta\\_W                        &  2499\\\\\n",
       "\t English                        &  2499\\\\\n",
       "\t ESI\\_i                          &  2499\\\\\n",
       "\t gender                         &  2499\\\\\n",
       "\t Height\\_i                       &  2499\\\\\n",
       "\t insurance                      &  2499\\\\\n",
       "\t race.Asian                     &  2499\\\\\n",
       "\t race.Black                     &  2499\\\\\n",
       "\t race.Native.American           &  2499\\\\\n",
       "\t race.Other                     &  2499\\\\\n",
       "\t race.Pacific.Islander          &  2499\\\\\n",
       "\t race.Unknown                   &  2499\\\\\n",
       "\t race.White                     &  2499\\\\\n",
       "\t Weight\\_i                       &  2499\\\\\n",
       "\t Ca                             &  2410\\\\\n",
       "\t Platelet                       &  2398\\\\\n",
       "\t CO2                            &  2396\\\\\n",
       "\t METABOLIC PANEL, COMPREHENSIVE &  2396\\\\\n",
       "\t WBC                            &  2396\\\\\n",
       "\t MCH                            &  2389\\\\\n",
       "\t RDW                            &  2389\\\\\n",
       "\t CBC WITH DIFFERENTIAL          &  2382\\\\\n",
       "\t Neut                           &  2239\\\\\n",
       "\t Lymp                           &  2232\\\\\n",
       "\t Mono                           &  2228\\\\\n",
       "\t eGFR                           &  2218\\\\\n",
       "\t TBili                          &  2160\\\\\n",
       "\t ALB                            &  2150\\\\\n",
       "\t TProtein                       &  2150\\\\\n",
       "\t ALK                            &  2143\\\\\n",
       "\t ALT                            &  2137\\\\\n",
       "\t AST                            &  2130\\\\\n",
       "\t Glob                           &  2113\\\\\n",
       "\\end{tabular}\n"
      ],
      "text/markdown": [
       "\n",
       "A tibble: 50 × 2\n",
       "\n",
       "| features &lt;chr&gt; | n &lt;int&gt; |\n",
       "|---|---|\n",
       "| Pulse                          | 17435 |\n",
       "| RR                             | 17285 |\n",
       "| SBP                            | 16914 |\n",
       "| DBP                            | 16913 |\n",
       "| Temp                           |  7964 |\n",
       "| Glucose                        |  3578 |\n",
       "| K                              |  2949 |\n",
       "| Na                             |  2926 |\n",
       "| Hgb                            |  2923 |\n",
       "| Hct                            |  2922 |\n",
       "| Cr                             |  2849 |\n",
       "| Cl                             |  2836 |\n",
       "| BUN                            |  2795 |\n",
       "| AnionGap                       |  2770 |\n",
       "| age                            |  2499 |\n",
       "| delta_ESI                      |  2499 |\n",
       "| delta_H                        |  2499 |\n",
       "| delta_W                        |  2499 |\n",
       "| English                        |  2499 |\n",
       "| ESI_i                          |  2499 |\n",
       "| gender                         |  2499 |\n",
       "| Height_i                       |  2499 |\n",
       "| insurance                      |  2499 |\n",
       "| race.Asian                     |  2499 |\n",
       "| race.Black                     |  2499 |\n",
       "| race.Native.American           |  2499 |\n",
       "| race.Other                     |  2499 |\n",
       "| race.Pacific.Islander          |  2499 |\n",
       "| race.Unknown                   |  2499 |\n",
       "| race.White                     |  2499 |\n",
       "| Weight_i                       |  2499 |\n",
       "| Ca                             |  2410 |\n",
       "| Platelet                       |  2398 |\n",
       "| CO2                            |  2396 |\n",
       "| METABOLIC PANEL, COMPREHENSIVE |  2396 |\n",
       "| WBC                            |  2396 |\n",
       "| MCH                            |  2389 |\n",
       "| RDW                            |  2389 |\n",
       "| CBC WITH DIFFERENTIAL          |  2382 |\n",
       "| Neut                           |  2239 |\n",
       "| Lymp                           |  2232 |\n",
       "| Mono                           |  2228 |\n",
       "| eGFR                           |  2218 |\n",
       "| TBili                          |  2160 |\n",
       "| ALB                            |  2150 |\n",
       "| TProtein                       |  2150 |\n",
       "| ALK                            |  2143 |\n",
       "| ALT                            |  2137 |\n",
       "| AST                            |  2130 |\n",
       "| Glob                           |  2113 |\n",
       "\n"
      ],
      "text/plain": [
       "   features                       n    \n",
       "1  Pulse                          17435\n",
       "2  RR                             17285\n",
       "3  SBP                            16914\n",
       "4  DBP                            16913\n",
       "5  Temp                            7964\n",
       "6  Glucose                         3578\n",
       "7  K                               2949\n",
       "8  Na                              2926\n",
       "9  Hgb                             2923\n",
       "10 Hct                             2922\n",
       "11 Cr                              2849\n",
       "12 Cl                              2836\n",
       "13 BUN                             2795\n",
       "14 AnionGap                        2770\n",
       "15 age                             2499\n",
       "16 delta_ESI                       2499\n",
       "17 delta_H                         2499\n",
       "18 delta_W                         2499\n",
       "19 English                         2499\n",
       "20 ESI_i                           2499\n",
       "21 gender                          2499\n",
       "22 Height_i                        2499\n",
       "23 insurance                       2499\n",
       "24 race.Asian                      2499\n",
       "25 race.Black                      2499\n",
       "26 race.Native.American            2499\n",
       "27 race.Other                      2499\n",
       "28 race.Pacific.Islander           2499\n",
       "29 race.Unknown                    2499\n",
       "30 race.White                      2499\n",
       "31 Weight_i                        2499\n",
       "32 Ca                              2410\n",
       "33 Platelet                        2398\n",
       "34 CO2                             2396\n",
       "35 METABOLIC PANEL, COMPREHENSIVE  2396\n",
       "36 WBC                             2396\n",
       "37 MCH                             2389\n",
       "38 RDW                             2389\n",
       "39 CBC WITH DIFFERENTIAL           2382\n",
       "40 Neut                            2239\n",
       "41 Lymp                            2232\n",
       "42 Mono                            2228\n",
       "43 eGFR                            2218\n",
       "44 TBili                           2160\n",
       "45 ALB                             2150\n",
       "46 TProtein                        2150\n",
       "47 ALK                             2143\n",
       "48 ALT                             2137\n",
       "49 AST                             2130\n",
       "50 Glob                            2113"
      ]
     },
     "metadata": {},
     "output_type": "display_data"
    }
   ],
   "source": [
    "cohort_full %>% filter(first_label != death_24hr_recent_label) %>% group_by(feature_type) %>% summarise(n=n()) %>% arrange(-n)\n",
    "cohort_full %>% filter(first_label != death_24hr_recent_label) %>% group_by(features) %>% summarise(n=n()) %>% arrange(-n) %>% top_n(50)"
   ]
  },
  {
   "cell_type": "code",
   "execution_count": 84,
   "metadata": {},
   "outputs": [
    {
     "name": "stderr",
     "output_type": "stream",
     "text": [
      "`summarise()` ungrouping output (override with `.groups` argument)\n",
      "\n"
     ]
    },
    {
     "data": {
      "text/html": [
       "<table>\n",
       "<caption>A tibble: 10 × 2</caption>\n",
       "<thead>\n",
       "\t<tr><th scope=col>feature_type</th><th scope=col>n</th></tr>\n",
       "\t<tr><th scope=col>&lt;chr&gt;</th><th scope=col>&lt;int&gt;</th></tr>\n",
       "</thead>\n",
       "<tbody>\n",
       "\t<tr><td>Diagnosis   </td><td>2834516</td></tr>\n",
       "\t<tr><td>Meds        </td><td>1868195</td></tr>\n",
       "\t<tr><td>labs        </td><td>1358669</td></tr>\n",
       "\t<tr><td>Lab         </td><td> 993484</td></tr>\n",
       "\t<tr><td>vitals      </td><td> 978717</td></tr>\n",
       "\t<tr><td>demo        </td><td> 747660</td></tr>\n",
       "\t<tr><td>Imaging     </td><td> 299944</td></tr>\n",
       "\t<tr><td>Procedures  </td><td>  51696</td></tr>\n",
       "\t<tr><td>Microbiology</td><td>  39017</td></tr>\n",
       "\t<tr><td>NA          </td><td>     10</td></tr>\n",
       "</tbody>\n",
       "</table>\n"
      ],
      "text/latex": [
       "A tibble: 10 × 2\n",
       "\\begin{tabular}{ll}\n",
       " feature\\_type & n\\\\\n",
       " <chr> & <int>\\\\\n",
       "\\hline\n",
       "\t Diagnosis    & 2834516\\\\\n",
       "\t Meds         & 1868195\\\\\n",
       "\t labs         & 1358669\\\\\n",
       "\t Lab          &  993484\\\\\n",
       "\t vitals       &  978717\\\\\n",
       "\t demo         &  747660\\\\\n",
       "\t Imaging      &  299944\\\\\n",
       "\t Procedures   &   51696\\\\\n",
       "\t Microbiology &   39017\\\\\n",
       "\t NA           &      10\\\\\n",
       "\\end{tabular}\n"
      ],
      "text/markdown": [
       "\n",
       "A tibble: 10 × 2\n",
       "\n",
       "| feature_type &lt;chr&gt; | n &lt;int&gt; |\n",
       "|---|---|\n",
       "| Diagnosis    | 2834516 |\n",
       "| Meds         | 1868195 |\n",
       "| labs         | 1358669 |\n",
       "| Lab          |  993484 |\n",
       "| vitals       |  978717 |\n",
       "| demo         |  747660 |\n",
       "| Imaging      |  299944 |\n",
       "| Procedures   |   51696 |\n",
       "| Microbiology |   39017 |\n",
       "| NA           |      10 |\n",
       "\n"
      ],
      "text/plain": [
       "   feature_type n      \n",
       "1  Diagnosis    2834516\n",
       "2  Meds         1868195\n",
       "3  labs         1358669\n",
       "4  Lab           993484\n",
       "5  vitals        978717\n",
       "6  demo          747660\n",
       "7  Imaging       299944\n",
       "8  Procedures     51696\n",
       "9  Microbiology   39017\n",
       "10 NA                10"
      ]
     },
     "metadata": {},
     "output_type": "display_data"
    },
    {
     "name": "stderr",
     "output_type": "stream",
     "text": [
      "`summarise()` ungrouping output (override with `.groups` argument)\n",
      "\n",
      "Selecting by n\n",
      "\n"
     ]
    },
    {
     "data": {
      "text/html": [
       "<table>\n",
       "<caption>A tibble: 50 × 2</caption>\n",
       "<thead>\n",
       "\t<tr><th scope=col>features</th><th scope=col>n</th></tr>\n",
       "\t<tr><th scope=col>&lt;chr&gt;</th><th scope=col>&lt;int&gt;</th></tr>\n",
       "</thead>\n",
       "<tbody>\n",
       "\t<tr><td>Pulse                         </td><td>219052</td></tr>\n",
       "\t<tr><td>RR                            </td><td>207612</td></tr>\n",
       "\t<tr><td>SBP                           </td><td>204822</td></tr>\n",
       "\t<tr><td>DBP                           </td><td>204786</td></tr>\n",
       "\t<tr><td>Temp                          </td><td>142445</td></tr>\n",
       "\t<tr><td>Glucose                       </td><td> 51651</td></tr>\n",
       "\t<tr><td>K                             </td><td> 45404</td></tr>\n",
       "\t<tr><td>Hct                           </td><td> 45377</td></tr>\n",
       "\t<tr><td>Na                            </td><td> 45339</td></tr>\n",
       "\t<tr><td>Hgb                           </td><td> 45329</td></tr>\n",
       "\t<tr><td>Cl                            </td><td> 44742</td></tr>\n",
       "\t<tr><td>Cr                            </td><td> 44679</td></tr>\n",
       "\t<tr><td>BUN                           </td><td> 44407</td></tr>\n",
       "\t<tr><td>AnionGap                      </td><td> 44273</td></tr>\n",
       "\t<tr><td>age                           </td><td> 43980</td></tr>\n",
       "\t<tr><td>delta_ESI                     </td><td> 43980</td></tr>\n",
       "\t<tr><td>delta_H                       </td><td> 43980</td></tr>\n",
       "\t<tr><td>delta_W                       </td><td> 43980</td></tr>\n",
       "\t<tr><td>English                       </td><td> 43980</td></tr>\n",
       "\t<tr><td>ESI_i                         </td><td> 43980</td></tr>\n",
       "\t<tr><td>gender                        </td><td> 43980</td></tr>\n",
       "\t<tr><td>Height_i                      </td><td> 43980</td></tr>\n",
       "\t<tr><td>insurance                     </td><td> 43980</td></tr>\n",
       "\t<tr><td>race.Asian                    </td><td> 43980</td></tr>\n",
       "\t<tr><td>race.Black                    </td><td> 43980</td></tr>\n",
       "\t<tr><td>race.Native.American          </td><td> 43980</td></tr>\n",
       "\t<tr><td>race.Other                    </td><td> 43980</td></tr>\n",
       "\t<tr><td>race.Pacific.Islander         </td><td> 43980</td></tr>\n",
       "\t<tr><td>race.Unknown                  </td><td> 43980</td></tr>\n",
       "\t<tr><td>race.White                    </td><td> 43980</td></tr>\n",
       "\t<tr><td>Weight_i                      </td><td> 43980</td></tr>\n",
       "\t<tr><td>METABOLIC PANEL, COMPREHENSIVE</td><td> 42223</td></tr>\n",
       "\t<tr><td>Platelet                      </td><td> 41895</td></tr>\n",
       "\t<tr><td>Ca                            </td><td> 41838</td></tr>\n",
       "\t<tr><td>WBC                           </td><td> 41798</td></tr>\n",
       "\t<tr><td>RDW                           </td><td> 41715</td></tr>\n",
       "\t<tr><td>MCH                           </td><td> 41709</td></tr>\n",
       "\t<tr><td>CO2                           </td><td> 41701</td></tr>\n",
       "\t<tr><td>CBC WITH DIFFERENTIAL         </td><td> 41251</td></tr>\n",
       "\t<tr><td>eGFR                          </td><td> 39224</td></tr>\n",
       "\t<tr><td>Neut                          </td><td> 38263</td></tr>\n",
       "\t<tr><td>Lymp                          </td><td> 38205</td></tr>\n",
       "\t<tr><td>TBili                         </td><td> 38158</td></tr>\n",
       "\t<tr><td>Mono                          </td><td> 38081</td></tr>\n",
       "\t<tr><td>ALB                           </td><td> 38070</td></tr>\n",
       "\t<tr><td>TProtein                      </td><td> 37960</td></tr>\n",
       "\t<tr><td>ALK                           </td><td> 37883</td></tr>\n",
       "\t<tr><td>ALT                           </td><td> 37789</td></tr>\n",
       "\t<tr><td>AST                           </td><td> 37747</td></tr>\n",
       "\t<tr><td>Glob                          </td><td> 37483</td></tr>\n",
       "</tbody>\n",
       "</table>\n"
      ],
      "text/latex": [
       "A tibble: 50 × 2\n",
       "\\begin{tabular}{ll}\n",
       " features & n\\\\\n",
       " <chr> & <int>\\\\\n",
       "\\hline\n",
       "\t Pulse                          & 219052\\\\\n",
       "\t RR                             & 207612\\\\\n",
       "\t SBP                            & 204822\\\\\n",
       "\t DBP                            & 204786\\\\\n",
       "\t Temp                           & 142445\\\\\n",
       "\t Glucose                        &  51651\\\\\n",
       "\t K                              &  45404\\\\\n",
       "\t Hct                            &  45377\\\\\n",
       "\t Na                             &  45339\\\\\n",
       "\t Hgb                            &  45329\\\\\n",
       "\t Cl                             &  44742\\\\\n",
       "\t Cr                             &  44679\\\\\n",
       "\t BUN                            &  44407\\\\\n",
       "\t AnionGap                       &  44273\\\\\n",
       "\t age                            &  43980\\\\\n",
       "\t delta\\_ESI                      &  43980\\\\\n",
       "\t delta\\_H                        &  43980\\\\\n",
       "\t delta\\_W                        &  43980\\\\\n",
       "\t English                        &  43980\\\\\n",
       "\t ESI\\_i                          &  43980\\\\\n",
       "\t gender                         &  43980\\\\\n",
       "\t Height\\_i                       &  43980\\\\\n",
       "\t insurance                      &  43980\\\\\n",
       "\t race.Asian                     &  43980\\\\\n",
       "\t race.Black                     &  43980\\\\\n",
       "\t race.Native.American           &  43980\\\\\n",
       "\t race.Other                     &  43980\\\\\n",
       "\t race.Pacific.Islander          &  43980\\\\\n",
       "\t race.Unknown                   &  43980\\\\\n",
       "\t race.White                     &  43980\\\\\n",
       "\t Weight\\_i                       &  43980\\\\\n",
       "\t METABOLIC PANEL, COMPREHENSIVE &  42223\\\\\n",
       "\t Platelet                       &  41895\\\\\n",
       "\t Ca                             &  41838\\\\\n",
       "\t WBC                            &  41798\\\\\n",
       "\t RDW                            &  41715\\\\\n",
       "\t MCH                            &  41709\\\\\n",
       "\t CO2                            &  41701\\\\\n",
       "\t CBC WITH DIFFERENTIAL          &  41251\\\\\n",
       "\t eGFR                           &  39224\\\\\n",
       "\t Neut                           &  38263\\\\\n",
       "\t Lymp                           &  38205\\\\\n",
       "\t TBili                          &  38158\\\\\n",
       "\t Mono                           &  38081\\\\\n",
       "\t ALB                            &  38070\\\\\n",
       "\t TProtein                       &  37960\\\\\n",
       "\t ALK                            &  37883\\\\\n",
       "\t ALT                            &  37789\\\\\n",
       "\t AST                            &  37747\\\\\n",
       "\t Glob                           &  37483\\\\\n",
       "\\end{tabular}\n"
      ],
      "text/markdown": [
       "\n",
       "A tibble: 50 × 2\n",
       "\n",
       "| features &lt;chr&gt; | n &lt;int&gt; |\n",
       "|---|---|\n",
       "| Pulse                          | 219052 |\n",
       "| RR                             | 207612 |\n",
       "| SBP                            | 204822 |\n",
       "| DBP                            | 204786 |\n",
       "| Temp                           | 142445 |\n",
       "| Glucose                        |  51651 |\n",
       "| K                              |  45404 |\n",
       "| Hct                            |  45377 |\n",
       "| Na                             |  45339 |\n",
       "| Hgb                            |  45329 |\n",
       "| Cl                             |  44742 |\n",
       "| Cr                             |  44679 |\n",
       "| BUN                            |  44407 |\n",
       "| AnionGap                       |  44273 |\n",
       "| age                            |  43980 |\n",
       "| delta_ESI                      |  43980 |\n",
       "| delta_H                        |  43980 |\n",
       "| delta_W                        |  43980 |\n",
       "| English                        |  43980 |\n",
       "| ESI_i                          |  43980 |\n",
       "| gender                         |  43980 |\n",
       "| Height_i                       |  43980 |\n",
       "| insurance                      |  43980 |\n",
       "| race.Asian                     |  43980 |\n",
       "| race.Black                     |  43980 |\n",
       "| race.Native.American           |  43980 |\n",
       "| race.Other                     |  43980 |\n",
       "| race.Pacific.Islander          |  43980 |\n",
       "| race.Unknown                   |  43980 |\n",
       "| race.White                     |  43980 |\n",
       "| Weight_i                       |  43980 |\n",
       "| METABOLIC PANEL, COMPREHENSIVE |  42223 |\n",
       "| Platelet                       |  41895 |\n",
       "| Ca                             |  41838 |\n",
       "| WBC                            |  41798 |\n",
       "| RDW                            |  41715 |\n",
       "| MCH                            |  41709 |\n",
       "| CO2                            |  41701 |\n",
       "| CBC WITH DIFFERENTIAL          |  41251 |\n",
       "| eGFR                           |  39224 |\n",
       "| Neut                           |  38263 |\n",
       "| Lymp                           |  38205 |\n",
       "| TBili                          |  38158 |\n",
       "| Mono                           |  38081 |\n",
       "| ALB                            |  38070 |\n",
       "| TProtein                       |  37960 |\n",
       "| ALK                            |  37883 |\n",
       "| ALT                            |  37789 |\n",
       "| AST                            |  37747 |\n",
       "| Glob                           |  37483 |\n",
       "\n"
      ],
      "text/plain": [
       "   features                       n     \n",
       "1  Pulse                          219052\n",
       "2  RR                             207612\n",
       "3  SBP                            204822\n",
       "4  DBP                            204786\n",
       "5  Temp                           142445\n",
       "6  Glucose                         51651\n",
       "7  K                               45404\n",
       "8  Hct                             45377\n",
       "9  Na                              45339\n",
       "10 Hgb                             45329\n",
       "11 Cl                              44742\n",
       "12 Cr                              44679\n",
       "13 BUN                             44407\n",
       "14 AnionGap                        44273\n",
       "15 age                             43980\n",
       "16 delta_ESI                       43980\n",
       "17 delta_H                         43980\n",
       "18 delta_W                         43980\n",
       "19 English                         43980\n",
       "20 ESI_i                           43980\n",
       "21 gender                          43980\n",
       "22 Height_i                        43980\n",
       "23 insurance                       43980\n",
       "24 race.Asian                      43980\n",
       "25 race.Black                      43980\n",
       "26 race.Native.American            43980\n",
       "27 race.Other                      43980\n",
       "28 race.Pacific.Islander           43980\n",
       "29 race.Unknown                    43980\n",
       "30 race.White                      43980\n",
       "31 Weight_i                        43980\n",
       "32 METABOLIC PANEL, COMPREHENSIVE  42223\n",
       "33 Platelet                        41895\n",
       "34 Ca                              41838\n",
       "35 WBC                             41798\n",
       "36 RDW                             41715\n",
       "37 MCH                             41709\n",
       "38 CO2                             41701\n",
       "39 CBC WITH DIFFERENTIAL           41251\n",
       "40 eGFR                            39224\n",
       "41 Neut                            38263\n",
       "42 Lymp                            38205\n",
       "43 TBili                           38158\n",
       "44 Mono                            38081\n",
       "45 ALB                             38070\n",
       "46 TProtein                        37960\n",
       "47 ALK                             37883\n",
       "48 ALT                             37789\n",
       "49 AST                             37747\n",
       "50 Glob                            37483"
      ]
     },
     "metadata": {},
     "output_type": "display_data"
    }
   ],
   "source": [
    "cohort_full %>% group_by(feature_type) %>% summarise(n=n()) %>% arrange(-n)\n",
    "cohort_full %>% group_by(features) %>% summarise(n=n()) %>% arrange(-n) %>% top_n(50)"
   ]
  },
  {
   "cell_type": "code",
   "execution_count": 88,
   "metadata": {},
   "outputs": [
    {
     "name": "stderr",
     "output_type": "stream",
     "text": [
      "`summarise()` regrouping output by 'pat_enc_csn_id_coded', 'features' (override with `.groups` argument)\n",
      "\n",
      "`summarise()` ungrouping output (override with `.groups` argument)\n",
      "\n"
     ]
    },
    {
     "data": {
      "text/html": [
       "<table>\n",
       "<caption>A tibble: 6 × 2</caption>\n",
       "<thead>\n",
       "\t<tr><th scope=col>features</th><th scope=col>n</th></tr>\n",
       "\t<tr><th scope=col>&lt;fct&gt;</th><th scope=col>&lt;int&gt;</th></tr>\n",
       "</thead>\n",
       "<tbody>\n",
       "\t<tr><td>DBP    </td><td>54516</td></tr>\n",
       "\t<tr><td>Glucose</td><td>40587</td></tr>\n",
       "\t<tr><td>Pulse  </td><td>54592</td></tr>\n",
       "\t<tr><td>RR     </td><td>54201</td></tr>\n",
       "\t<tr><td>SBP    </td><td>54516</td></tr>\n",
       "\t<tr><td>Temp   </td><td>49989</td></tr>\n",
       "</tbody>\n",
       "</table>\n"
      ],
      "text/latex": [
       "A tibble: 6 × 2\n",
       "\\begin{tabular}{ll}\n",
       " features & n\\\\\n",
       " <fct> & <int>\\\\\n",
       "\\hline\n",
       "\t DBP     & 54516\\\\\n",
       "\t Glucose & 40587\\\\\n",
       "\t Pulse   & 54592\\\\\n",
       "\t RR      & 54201\\\\\n",
       "\t SBP     & 54516\\\\\n",
       "\t Temp    & 49989\\\\\n",
       "\\end{tabular}\n"
      ],
      "text/markdown": [
       "\n",
       "A tibble: 6 × 2\n",
       "\n",
       "| features &lt;fct&gt; | n &lt;int&gt; |\n",
       "|---|---|\n",
       "| DBP     | 54516 |\n",
       "| Glucose | 40587 |\n",
       "| Pulse   | 54592 |\n",
       "| RR      | 54201 |\n",
       "| SBP     | 54516 |\n",
       "| Temp    | 49989 |\n",
       "\n"
      ],
      "text/plain": [
       "  features n    \n",
       "1 DBP      54516\n",
       "2 Glucose  40587\n",
       "3 Pulse    54592\n",
       "4 RR       54201\n",
       "5 SBP      54516\n",
       "6 Temp     49989"
      ]
     },
     "metadata": {},
     "output_type": "display_data"
    },
    {
     "data": {
      "text/html": [
       "<table>\n",
       "<caption>A grouped_df: 6 × 4</caption>\n",
       "<thead>\n",
       "\t<tr><th scope=col>pat_enc_csn_id_coded</th><th scope=col>features</th><th scope=col>hr_before_admit</th><th scope=col>values</th></tr>\n",
       "\t<tr><th scope=col>&lt;fct&gt;</th><th scope=col>&lt;fct&gt;</th><th scope=col>&lt;dbl&gt;</th><th scope=col>&lt;dbl&gt;</th></tr>\n",
       "</thead>\n",
       "<tbody>\n",
       "\t<tr><td>131062667066</td><td>DBP    </td><td>17</td><td> 49.00000</td></tr>\n",
       "\t<tr><td>131062667066</td><td>Glucose</td><td>17</td><td>149.00000</td></tr>\n",
       "\t<tr><td>131062667066</td><td>Pulse  </td><td>17</td><td> 58.64286</td></tr>\n",
       "\t<tr><td>131062667066</td><td>RR     </td><td>17</td><td> 19.35714</td></tr>\n",
       "\t<tr><td>131062667066</td><td>SBP    </td><td>17</td><td>134.85714</td></tr>\n",
       "\t<tr><td>131062667066</td><td>Temp   </td><td>17</td><td> 37.00000</td></tr>\n",
       "</tbody>\n",
       "</table>\n"
      ],
      "text/latex": [
       "A grouped\\_df: 6 × 4\n",
       "\\begin{tabular}{llll}\n",
       " pat\\_enc\\_csn\\_id\\_coded & features & hr\\_before\\_admit & values\\\\\n",
       " <fct> & <fct> & <dbl> & <dbl>\\\\\n",
       "\\hline\n",
       "\t 131062667066 & DBP     & 17 &  49.00000\\\\\n",
       "\t 131062667066 & Glucose & 17 & 149.00000\\\\\n",
       "\t 131062667066 & Pulse   & 17 &  58.64286\\\\\n",
       "\t 131062667066 & RR      & 17 &  19.35714\\\\\n",
       "\t 131062667066 & SBP     & 17 & 134.85714\\\\\n",
       "\t 131062667066 & Temp    & 17 &  37.00000\\\\\n",
       "\\end{tabular}\n"
      ],
      "text/markdown": [
       "\n",
       "A grouped_df: 6 × 4\n",
       "\n",
       "| pat_enc_csn_id_coded &lt;fct&gt; | features &lt;fct&gt; | hr_before_admit &lt;dbl&gt; | values &lt;dbl&gt; |\n",
       "|---|---|---|---|\n",
       "| 131062667066 | DBP     | 17 |  49.00000 |\n",
       "| 131062667066 | Glucose | 17 | 149.00000 |\n",
       "| 131062667066 | Pulse   | 17 |  58.64286 |\n",
       "| 131062667066 | RR      | 17 |  19.35714 |\n",
       "| 131062667066 | SBP     | 17 | 134.85714 |\n",
       "| 131062667066 | Temp    | 17 |  37.00000 |\n",
       "\n"
      ],
      "text/plain": [
       "  pat_enc_csn_id_coded features hr_before_admit values   \n",
       "1 131062667066         DBP      17               49.00000\n",
       "2 131062667066         Glucose  17              149.00000\n",
       "3 131062667066         Pulse    17               58.64286\n",
       "4 131062667066         RR       17               19.35714\n",
       "5 131062667066         SBP      17              134.85714\n",
       "6 131062667066         Temp     17               37.00000"
      ]
     },
     "metadata": {},
     "output_type": "display_data"
    }
   ],
   "source": [
    "coh_vsglu <- cohort_full %>% filter(feature_type=='vitals' | features==\"Glucose\") %>%\n",
    "                    mutate(pat_enc_csn_id_coded = factor(pat_enc_csn_id_coded),\n",
    "                           features = factor(features),\n",
    "                           hr_before_admit = round(as.numeric(difftime(admit_time, time, unit=\"hours\")), 1)) %>%\n",
    "                    group_by(pat_enc_csn_id_coded, features, hr_before_admit) %>%\n",
    "                    summarise(values=mean(values, na.rm=TRUE))\n",
    "                    \n",
    "coh_vsglu %>% group_by(features) %>% summarise(n=n())\n",
    "head(coh_vsglu)"
   ]
  },
  {
   "cell_type": "code",
   "execution_count": 92,
   "metadata": {},
   "outputs": [
    {
     "data": {
      "text/plain": [
       "     Min.   1st Qu.    Median      Mean   3rd Qu.      Max. \n",
       "    -8.00     -1.20      8.00      8.96     16.70 140156.40 "
      ]
     },
     "metadata": {},
     "output_type": "display_data"
    },
    {
     "data": {
      "text/html": [
       "<table>\n",
       "<caption>A grouped_df: 9694 × 4</caption>\n",
       "<thead>\n",
       "\t<tr><th scope=col>pat_enc_csn_id_coded</th><th scope=col>features</th><th scope=col>hr_before_admit</th><th scope=col>values</th></tr>\n",
       "\t<tr><th scope=col>&lt;fct&gt;</th><th scope=col>&lt;fct&gt;</th><th scope=col>&lt;dbl&gt;</th><th scope=col>&lt;dbl&gt;</th></tr>\n",
       "</thead>\n",
       "<tbody>\n",
       "\t<tr><td>131242313490</td><td>RR     </td><td>140156.4</td><td> 18.00000</td></tr>\n",
       "\t<tr><td>131090609481</td><td>DBP    </td><td>   203.8</td><td> 83.50000</td></tr>\n",
       "\t<tr><td>131090609481</td><td>Glucose</td><td>   203.8</td><td>102.00000</td></tr>\n",
       "\t<tr><td>131090609481</td><td>Pulse  </td><td>   203.8</td><td>101.00000</td></tr>\n",
       "\t<tr><td>131090609481</td><td>RR     </td><td>   203.8</td><td> 18.00000</td></tr>\n",
       "\t<tr><td>131090609481</td><td>SBP    </td><td>   203.8</td><td>108.00000</td></tr>\n",
       "\t<tr><td>131090609481</td><td>Temp   </td><td>   203.8</td><td> 37.00000</td></tr>\n",
       "\t<tr><td>131079480612</td><td>DBP    </td><td>   184.6</td><td> 83.00000</td></tr>\n",
       "\t<tr><td>131079480612</td><td>Pulse  </td><td>   184.6</td><td> 98.00000</td></tr>\n",
       "\t<tr><td>131079480612</td><td>RR     </td><td>   184.6</td><td> 18.00000</td></tr>\n",
       "\t<tr><td>131079480612</td><td>SBP    </td><td>   184.6</td><td>171.00000</td></tr>\n",
       "\t<tr><td>131079480612</td><td>Temp   </td><td>   184.6</td><td> 37.00000</td></tr>\n",
       "\t<tr><td>131090609481</td><td>DBP    </td><td>   179.8</td><td> 63.83333</td></tr>\n",
       "\t<tr><td>131090609481</td><td>Pulse  </td><td>   179.8</td><td> 60.83333</td></tr>\n",
       "\t<tr><td>131090609481</td><td>RR     </td><td>   179.8</td><td> 16.50000</td></tr>\n",
       "\t<tr><td>131090609481</td><td>SBP    </td><td>   179.8</td><td>102.50000</td></tr>\n",
       "\t<tr><td>131090609481</td><td>Temp   </td><td>   179.8</td><td> 36.40000</td></tr>\n",
       "\t<tr><td>131079480612</td><td>DBP    </td><td>   160.6</td><td> 76.00000</td></tr>\n",
       "\t<tr><td>131079480612</td><td>Glucose</td><td>   160.6</td><td>254.33333</td></tr>\n",
       "\t<tr><td>131079480612</td><td>Pulse  </td><td>   160.6</td><td> 91.25000</td></tr>\n",
       "\t<tr><td>131079480612</td><td>RR     </td><td>   160.6</td><td> 16.60000</td></tr>\n",
       "\t<tr><td>131079480612</td><td>SBP    </td><td>   160.6</td><td>120.75000</td></tr>\n",
       "\t<tr><td>131079480612</td><td>Temp   </td><td>   160.6</td><td> 36.50000</td></tr>\n",
       "\t<tr><td>131072679561</td><td>DBP    </td><td>   160.3</td><td> 68.60000</td></tr>\n",
       "\t<tr><td>131072679561</td><td>Glucose</td><td>   160.3</td><td>119.00000</td></tr>\n",
       "\t<tr><td>131072679561</td><td>Pulse  </td><td>   160.3</td><td> 85.55556</td></tr>\n",
       "\t<tr><td>131072679561</td><td>RR     </td><td>   160.3</td><td> 16.68421</td></tr>\n",
       "\t<tr><td>131072679561</td><td>SBP    </td><td>   160.3</td><td>116.60000</td></tr>\n",
       "\t<tr><td>131072679561</td><td>Temp   </td><td>   160.3</td><td> 37.00000</td></tr>\n",
       "\t<tr><td>131120502091</td><td>DBP    </td><td>   158.4</td><td> 62.50000</td></tr>\n",
       "\t<tr><td>...</td><td>...</td><td>...</td><td>...</td></tr>\n",
       "\t<tr><td>131270610095</td><td>Pulse  </td><td>24.1</td><td> 94.00000</td></tr>\n",
       "\t<tr><td>131270610095</td><td>RR     </td><td>24.1</td><td> 18.00000</td></tr>\n",
       "\t<tr><td>131270610095</td><td>SBP    </td><td>24.1</td><td>135.00000</td></tr>\n",
       "\t<tr><td>131270610095</td><td>Temp   </td><td>24.1</td><td> 36.05000</td></tr>\n",
       "\t<tr><td>131273342409</td><td>DBP    </td><td>24.1</td><td> 82.00000</td></tr>\n",
       "\t<tr><td>131273342409</td><td>Pulse  </td><td>24.1</td><td> 77.33333</td></tr>\n",
       "\t<tr><td>131273342409</td><td>RR     </td><td>24.1</td><td> 17.66667</td></tr>\n",
       "\t<tr><td>131273342409</td><td>SBP    </td><td>24.1</td><td>140.50000</td></tr>\n",
       "\t<tr><td>131273342409</td><td>Temp   </td><td>24.1</td><td> 36.85000</td></tr>\n",
       "\t<tr><td>131281139633</td><td>DBP    </td><td>24.1</td><td> 64.00000</td></tr>\n",
       "\t<tr><td>131281139633</td><td>Pulse  </td><td>24.1</td><td> 87.50000</td></tr>\n",
       "\t<tr><td>131281139633</td><td>RR     </td><td>24.1</td><td> 18.00000</td></tr>\n",
       "\t<tr><td>131281139633</td><td>SBP    </td><td>24.1</td><td>114.50000</td></tr>\n",
       "\t<tr><td>131281139633</td><td>Temp   </td><td>24.1</td><td> 38.87500</td></tr>\n",
       "\t<tr><td>131282272423</td><td>DBP    </td><td>24.1</td><td> 87.00000</td></tr>\n",
       "\t<tr><td>131282272423</td><td>Pulse  </td><td>24.1</td><td> 89.00000</td></tr>\n",
       "\t<tr><td>131282272423</td><td>RR     </td><td>24.1</td><td> 16.00000</td></tr>\n",
       "\t<tr><td>131282272423</td><td>SBP    </td><td>24.1</td><td>150.00000</td></tr>\n",
       "\t<tr><td>131282272423</td><td>Temp   </td><td>24.1</td><td> 36.85000</td></tr>\n",
       "\t<tr><td>131286867439</td><td>DBP    </td><td>24.1</td><td> 64.00000</td></tr>\n",
       "\t<tr><td>131286867439</td><td>Pulse  </td><td>24.1</td><td> 99.00000</td></tr>\n",
       "\t<tr><td>131286867439</td><td>RR     </td><td>24.1</td><td> 20.00000</td></tr>\n",
       "\t<tr><td>131286867439</td><td>SBP    </td><td>24.1</td><td>123.00000</td></tr>\n",
       "\t<tr><td>131286867439</td><td>Temp   </td><td>24.1</td><td> 36.85000</td></tr>\n",
       "\t<tr><td>131287365216</td><td>DBP    </td><td>24.1</td><td> 91.00000</td></tr>\n",
       "\t<tr><td>131287365216</td><td>Glucose</td><td>24.1</td><td>396.75000</td></tr>\n",
       "\t<tr><td>131287365216</td><td>Pulse  </td><td>24.1</td><td>116.80000</td></tr>\n",
       "\t<tr><td>131287365216</td><td>RR     </td><td>24.1</td><td> 21.40000</td></tr>\n",
       "\t<tr><td>131287365216</td><td>SBP    </td><td>24.1</td><td>164.00000</td></tr>\n",
       "\t<tr><td>131287365216</td><td>Temp   </td><td>24.1</td><td> 37.00000</td></tr>\n",
       "</tbody>\n",
       "</table>\n"
      ],
      "text/latex": [
       "A grouped\\_df: 9694 × 4\n",
       "\\begin{tabular}{llll}\n",
       " pat\\_enc\\_csn\\_id\\_coded & features & hr\\_before\\_admit & values\\\\\n",
       " <fct> & <fct> & <dbl> & <dbl>\\\\\n",
       "\\hline\n",
       "\t 131242313490 & RR      & 140156.4 &  18.00000\\\\\n",
       "\t 131090609481 & DBP     &    203.8 &  83.50000\\\\\n",
       "\t 131090609481 & Glucose &    203.8 & 102.00000\\\\\n",
       "\t 131090609481 & Pulse   &    203.8 & 101.00000\\\\\n",
       "\t 131090609481 & RR      &    203.8 &  18.00000\\\\\n",
       "\t 131090609481 & SBP     &    203.8 & 108.00000\\\\\n",
       "\t 131090609481 & Temp    &    203.8 &  37.00000\\\\\n",
       "\t 131079480612 & DBP     &    184.6 &  83.00000\\\\\n",
       "\t 131079480612 & Pulse   &    184.6 &  98.00000\\\\\n",
       "\t 131079480612 & RR      &    184.6 &  18.00000\\\\\n",
       "\t 131079480612 & SBP     &    184.6 & 171.00000\\\\\n",
       "\t 131079480612 & Temp    &    184.6 &  37.00000\\\\\n",
       "\t 131090609481 & DBP     &    179.8 &  63.83333\\\\\n",
       "\t 131090609481 & Pulse   &    179.8 &  60.83333\\\\\n",
       "\t 131090609481 & RR      &    179.8 &  16.50000\\\\\n",
       "\t 131090609481 & SBP     &    179.8 & 102.50000\\\\\n",
       "\t 131090609481 & Temp    &    179.8 &  36.40000\\\\\n",
       "\t 131079480612 & DBP     &    160.6 &  76.00000\\\\\n",
       "\t 131079480612 & Glucose &    160.6 & 254.33333\\\\\n",
       "\t 131079480612 & Pulse   &    160.6 &  91.25000\\\\\n",
       "\t 131079480612 & RR      &    160.6 &  16.60000\\\\\n",
       "\t 131079480612 & SBP     &    160.6 & 120.75000\\\\\n",
       "\t 131079480612 & Temp    &    160.6 &  36.50000\\\\\n",
       "\t 131072679561 & DBP     &    160.3 &  68.60000\\\\\n",
       "\t 131072679561 & Glucose &    160.3 & 119.00000\\\\\n",
       "\t 131072679561 & Pulse   &    160.3 &  85.55556\\\\\n",
       "\t 131072679561 & RR      &    160.3 &  16.68421\\\\\n",
       "\t 131072679561 & SBP     &    160.3 & 116.60000\\\\\n",
       "\t 131072679561 & Temp    &    160.3 &  37.00000\\\\\n",
       "\t 131120502091 & DBP     &    158.4 &  62.50000\\\\\n",
       "\t ... & ... & ... & ...\\\\\n",
       "\t 131270610095 & Pulse   & 24.1 &  94.00000\\\\\n",
       "\t 131270610095 & RR      & 24.1 &  18.00000\\\\\n",
       "\t 131270610095 & SBP     & 24.1 & 135.00000\\\\\n",
       "\t 131270610095 & Temp    & 24.1 &  36.05000\\\\\n",
       "\t 131273342409 & DBP     & 24.1 &  82.00000\\\\\n",
       "\t 131273342409 & Pulse   & 24.1 &  77.33333\\\\\n",
       "\t 131273342409 & RR      & 24.1 &  17.66667\\\\\n",
       "\t 131273342409 & SBP     & 24.1 & 140.50000\\\\\n",
       "\t 131273342409 & Temp    & 24.1 &  36.85000\\\\\n",
       "\t 131281139633 & DBP     & 24.1 &  64.00000\\\\\n",
       "\t 131281139633 & Pulse   & 24.1 &  87.50000\\\\\n",
       "\t 131281139633 & RR      & 24.1 &  18.00000\\\\\n",
       "\t 131281139633 & SBP     & 24.1 & 114.50000\\\\\n",
       "\t 131281139633 & Temp    & 24.1 &  38.87500\\\\\n",
       "\t 131282272423 & DBP     & 24.1 &  87.00000\\\\\n",
       "\t 131282272423 & Pulse   & 24.1 &  89.00000\\\\\n",
       "\t 131282272423 & RR      & 24.1 &  16.00000\\\\\n",
       "\t 131282272423 & SBP     & 24.1 & 150.00000\\\\\n",
       "\t 131282272423 & Temp    & 24.1 &  36.85000\\\\\n",
       "\t 131286867439 & DBP     & 24.1 &  64.00000\\\\\n",
       "\t 131286867439 & Pulse   & 24.1 &  99.00000\\\\\n",
       "\t 131286867439 & RR      & 24.1 &  20.00000\\\\\n",
       "\t 131286867439 & SBP     & 24.1 & 123.00000\\\\\n",
       "\t 131286867439 & Temp    & 24.1 &  36.85000\\\\\n",
       "\t 131287365216 & DBP     & 24.1 &  91.00000\\\\\n",
       "\t 131287365216 & Glucose & 24.1 & 396.75000\\\\\n",
       "\t 131287365216 & Pulse   & 24.1 & 116.80000\\\\\n",
       "\t 131287365216 & RR      & 24.1 &  21.40000\\\\\n",
       "\t 131287365216 & SBP     & 24.1 & 164.00000\\\\\n",
       "\t 131287365216 & Temp    & 24.1 &  37.00000\\\\\n",
       "\\end{tabular}\n"
      ],
      "text/markdown": [
       "\n",
       "A grouped_df: 9694 × 4\n",
       "\n",
       "| pat_enc_csn_id_coded &lt;fct&gt; | features &lt;fct&gt; | hr_before_admit &lt;dbl&gt; | values &lt;dbl&gt; |\n",
       "|---|---|---|---|\n",
       "| 131242313490 | RR      | 140156.4 |  18.00000 |\n",
       "| 131090609481 | DBP     |    203.8 |  83.50000 |\n",
       "| 131090609481 | Glucose |    203.8 | 102.00000 |\n",
       "| 131090609481 | Pulse   |    203.8 | 101.00000 |\n",
       "| 131090609481 | RR      |    203.8 |  18.00000 |\n",
       "| 131090609481 | SBP     |    203.8 | 108.00000 |\n",
       "| 131090609481 | Temp    |    203.8 |  37.00000 |\n",
       "| 131079480612 | DBP     |    184.6 |  83.00000 |\n",
       "| 131079480612 | Pulse   |    184.6 |  98.00000 |\n",
       "| 131079480612 | RR      |    184.6 |  18.00000 |\n",
       "| 131079480612 | SBP     |    184.6 | 171.00000 |\n",
       "| 131079480612 | Temp    |    184.6 |  37.00000 |\n",
       "| 131090609481 | DBP     |    179.8 |  63.83333 |\n",
       "| 131090609481 | Pulse   |    179.8 |  60.83333 |\n",
       "| 131090609481 | RR      |    179.8 |  16.50000 |\n",
       "| 131090609481 | SBP     |    179.8 | 102.50000 |\n",
       "| 131090609481 | Temp    |    179.8 |  36.40000 |\n",
       "| 131079480612 | DBP     |    160.6 |  76.00000 |\n",
       "| 131079480612 | Glucose |    160.6 | 254.33333 |\n",
       "| 131079480612 | Pulse   |    160.6 |  91.25000 |\n",
       "| 131079480612 | RR      |    160.6 |  16.60000 |\n",
       "| 131079480612 | SBP     |    160.6 | 120.75000 |\n",
       "| 131079480612 | Temp    |    160.6 |  36.50000 |\n",
       "| 131072679561 | DBP     |    160.3 |  68.60000 |\n",
       "| 131072679561 | Glucose |    160.3 | 119.00000 |\n",
       "| 131072679561 | Pulse   |    160.3 |  85.55556 |\n",
       "| 131072679561 | RR      |    160.3 |  16.68421 |\n",
       "| 131072679561 | SBP     |    160.3 | 116.60000 |\n",
       "| 131072679561 | Temp    |    160.3 |  37.00000 |\n",
       "| 131120502091 | DBP     |    158.4 |  62.50000 |\n",
       "| ... | ... | ... | ... |\n",
       "| 131270610095 | Pulse   | 24.1 |  94.00000 |\n",
       "| 131270610095 | RR      | 24.1 |  18.00000 |\n",
       "| 131270610095 | SBP     | 24.1 | 135.00000 |\n",
       "| 131270610095 | Temp    | 24.1 |  36.05000 |\n",
       "| 131273342409 | DBP     | 24.1 |  82.00000 |\n",
       "| 131273342409 | Pulse   | 24.1 |  77.33333 |\n",
       "| 131273342409 | RR      | 24.1 |  17.66667 |\n",
       "| 131273342409 | SBP     | 24.1 | 140.50000 |\n",
       "| 131273342409 | Temp    | 24.1 |  36.85000 |\n",
       "| 131281139633 | DBP     | 24.1 |  64.00000 |\n",
       "| 131281139633 | Pulse   | 24.1 |  87.50000 |\n",
       "| 131281139633 | RR      | 24.1 |  18.00000 |\n",
       "| 131281139633 | SBP     | 24.1 | 114.50000 |\n",
       "| 131281139633 | Temp    | 24.1 |  38.87500 |\n",
       "| 131282272423 | DBP     | 24.1 |  87.00000 |\n",
       "| 131282272423 | Pulse   | 24.1 |  89.00000 |\n",
       "| 131282272423 | RR      | 24.1 |  16.00000 |\n",
       "| 131282272423 | SBP     | 24.1 | 150.00000 |\n",
       "| 131282272423 | Temp    | 24.1 |  36.85000 |\n",
       "| 131286867439 | DBP     | 24.1 |  64.00000 |\n",
       "| 131286867439 | Pulse   | 24.1 |  99.00000 |\n",
       "| 131286867439 | RR      | 24.1 |  20.00000 |\n",
       "| 131286867439 | SBP     | 24.1 | 123.00000 |\n",
       "| 131286867439 | Temp    | 24.1 |  36.85000 |\n",
       "| 131287365216 | DBP     | 24.1 |  91.00000 |\n",
       "| 131287365216 | Glucose | 24.1 | 396.75000 |\n",
       "| 131287365216 | Pulse   | 24.1 | 116.80000 |\n",
       "| 131287365216 | RR      | 24.1 |  21.40000 |\n",
       "| 131287365216 | SBP     | 24.1 | 164.00000 |\n",
       "| 131287365216 | Temp    | 24.1 |  37.00000 |\n",
       "\n"
      ],
      "text/plain": [
       "     pat_enc_csn_id_coded features hr_before_admit values   \n",
       "1    131242313490         RR       140156.4         18.00000\n",
       "2    131090609481         DBP         203.8         83.50000\n",
       "3    131090609481         Glucose     203.8        102.00000\n",
       "4    131090609481         Pulse       203.8        101.00000\n",
       "5    131090609481         RR          203.8         18.00000\n",
       "6    131090609481         SBP         203.8        108.00000\n",
       "7    131090609481         Temp        203.8         37.00000\n",
       "8    131079480612         DBP         184.6         83.00000\n",
       "9    131079480612         Pulse       184.6         98.00000\n",
       "10   131079480612         RR          184.6         18.00000\n",
       "11   131079480612         SBP         184.6        171.00000\n",
       "12   131079480612         Temp        184.6         37.00000\n",
       "13   131090609481         DBP         179.8         63.83333\n",
       "14   131090609481         Pulse       179.8         60.83333\n",
       "15   131090609481         RR          179.8         16.50000\n",
       "16   131090609481         SBP         179.8        102.50000\n",
       "17   131090609481         Temp        179.8         36.40000\n",
       "18   131079480612         DBP         160.6         76.00000\n",
       "19   131079480612         Glucose     160.6        254.33333\n",
       "20   131079480612         Pulse       160.6         91.25000\n",
       "21   131079480612         RR          160.6         16.60000\n",
       "22   131079480612         SBP         160.6        120.75000\n",
       "23   131079480612         Temp        160.6         36.50000\n",
       "24   131072679561         DBP         160.3         68.60000\n",
       "25   131072679561         Glucose     160.3        119.00000\n",
       "26   131072679561         Pulse       160.3         85.55556\n",
       "27   131072679561         RR          160.3         16.68421\n",
       "28   131072679561         SBP         160.3        116.60000\n",
       "29   131072679561         Temp        160.3         37.00000\n",
       "30   131120502091         DBP         158.4         62.50000\n",
       "...  ...                  ...      ...             ...      \n",
       "9665 131270610095         Pulse    24.1             94.00000\n",
       "9666 131270610095         RR       24.1             18.00000\n",
       "9667 131270610095         SBP      24.1            135.00000\n",
       "9668 131270610095         Temp     24.1             36.05000\n",
       "9669 131273342409         DBP      24.1             82.00000\n",
       "9670 131273342409         Pulse    24.1             77.33333\n",
       "9671 131273342409         RR       24.1             17.66667\n",
       "9672 131273342409         SBP      24.1            140.50000\n",
       "9673 131273342409         Temp     24.1             36.85000\n",
       "9674 131281139633         DBP      24.1             64.00000\n",
       "9675 131281139633         Pulse    24.1             87.50000\n",
       "9676 131281139633         RR       24.1             18.00000\n",
       "9677 131281139633         SBP      24.1            114.50000\n",
       "9678 131281139633         Temp     24.1             38.87500\n",
       "9679 131282272423         DBP      24.1             87.00000\n",
       "9680 131282272423         Pulse    24.1             89.00000\n",
       "9681 131282272423         RR       24.1             16.00000\n",
       "9682 131282272423         SBP      24.1            150.00000\n",
       "9683 131282272423         Temp     24.1             36.85000\n",
       "9684 131286867439         DBP      24.1             64.00000\n",
       "9685 131286867439         Pulse    24.1             99.00000\n",
       "9686 131286867439         RR       24.1             20.00000\n",
       "9687 131286867439         SBP      24.1            123.00000\n",
       "9688 131286867439         Temp     24.1             36.85000\n",
       "9689 131287365216         DBP      24.1             91.00000\n",
       "9690 131287365216         Glucose  24.1            396.75000\n",
       "9691 131287365216         Pulse    24.1            116.80000\n",
       "9692 131287365216         RR       24.1             21.40000\n",
       "9693 131287365216         SBP      24.1            164.00000\n",
       "9694 131287365216         Temp     24.1             37.00000"
      ]
     },
     "metadata": {},
     "output_type": "display_data"
    }
   ],
   "source": [
    "# 131242313490 weird obs\n",
    "summary(coh_vsglu$hr_before_admit)\n",
    "coh_vsglu %>% filter(hr_before_admit > 24) %>% arrange(-hr_before_admit)"
   ]
  },
  {
   "cell_type": "code",
   "execution_count": 97,
   "metadata": {},
   "outputs": [
    {
     "data": {
      "text/html": [
       "<table>\n",
       "<caption>A grouped_df: 94870 × 4</caption>\n",
       "<thead>\n",
       "\t<tr><th scope=col>pat_enc_csn_id_coded</th><th scope=col>features</th><th scope=col>hr_before_admit</th><th scope=col>values</th></tr>\n",
       "\t<tr><th scope=col>&lt;fct&gt;</th><th scope=col>&lt;fct&gt;</th><th scope=col>&lt;dbl&gt;</th><th scope=col>&lt;dbl&gt;</th></tr>\n",
       "</thead>\n",
       "<tbody>\n",
       "\t<tr><td>131130777324</td><td>DBP  </td><td>-8</td><td> 89</td></tr>\n",
       "\t<tr><td>131130777324</td><td>Pulse</td><td>-8</td><td> 79</td></tr>\n",
       "\t<tr><td>131130777324</td><td>RR   </td><td>-8</td><td> 21</td></tr>\n",
       "\t<tr><td>131130777324</td><td>SBP  </td><td>-8</td><td>159</td></tr>\n",
       "\t<tr><td>131176432774</td><td>DBP  </td><td>-8</td><td> 75</td></tr>\n",
       "\t<tr><td>131176432774</td><td>Pulse</td><td>-8</td><td>102</td></tr>\n",
       "\t<tr><td>131176432774</td><td>RR   </td><td>-8</td><td> 22</td></tr>\n",
       "\t<tr><td>131176432774</td><td>SBP  </td><td>-8</td><td>126</td></tr>\n",
       "\t<tr><td>131220939817</td><td>DBP  </td><td>-8</td><td> 53</td></tr>\n",
       "\t<tr><td>131220939817</td><td>Pulse</td><td>-8</td><td> 79</td></tr>\n",
       "\t<tr><td>131220939817</td><td>RR   </td><td>-8</td><td> 21</td></tr>\n",
       "\t<tr><td>131220939817</td><td>SBP  </td><td>-8</td><td>157</td></tr>\n",
       "\t<tr><td>131244891698</td><td>DBP  </td><td>-8</td><td> 96</td></tr>\n",
       "\t<tr><td>131244891698</td><td>Pulse</td><td>-8</td><td> 79</td></tr>\n",
       "\t<tr><td>131244891698</td><td>RR   </td><td>-8</td><td> 13</td></tr>\n",
       "\t<tr><td>131244891698</td><td>SBP  </td><td>-8</td><td>138</td></tr>\n",
       "\t<tr><td>131261217730</td><td>DBP  </td><td>-8</td><td> 58</td></tr>\n",
       "\t<tr><td>131261217730</td><td>Pulse</td><td>-8</td><td> 95</td></tr>\n",
       "\t<tr><td>131261217730</td><td>RR   </td><td>-8</td><td> 16</td></tr>\n",
       "\t<tr><td>131261217730</td><td>SBP  </td><td>-8</td><td>128</td></tr>\n",
       "\t<tr><td>131261564827</td><td>DBP  </td><td>-8</td><td> 82</td></tr>\n",
       "\t<tr><td>131261564827</td><td>Pulse</td><td>-8</td><td> 69</td></tr>\n",
       "\t<tr><td>131261564827</td><td>RR   </td><td>-8</td><td> 18</td></tr>\n",
       "\t<tr><td>131261564827</td><td>SBP  </td><td>-8</td><td>131</td></tr>\n",
       "\t<tr><td>131262104701</td><td>DBP  </td><td>-8</td><td> 80</td></tr>\n",
       "\t<tr><td>131262104701</td><td>Pulse</td><td>-8</td><td> 75</td></tr>\n",
       "\t<tr><td>131262104701</td><td>RR   </td><td>-8</td><td> 22</td></tr>\n",
       "\t<tr><td>131262104701</td><td>SBP  </td><td>-8</td><td>109</td></tr>\n",
       "\t<tr><td>131262753452</td><td>DBP  </td><td>-8</td><td>100</td></tr>\n",
       "\t<tr><td>131262753452</td><td>Pulse</td><td>-8</td><td> 86</td></tr>\n",
       "\t<tr><td>...</td><td>...</td><td>...</td><td>...</td></tr>\n",
       "\t<tr><td>131285614658</td><td>SBP    </td><td>-0.1</td><td>141.0000</td></tr>\n",
       "\t<tr><td>131285614658</td><td>Temp   </td><td>-0.1</td><td> 36.8500</td></tr>\n",
       "\t<tr><td>131286378561</td><td>DBP    </td><td>-0.1</td><td> 93.0000</td></tr>\n",
       "\t<tr><td>131286378561</td><td>Pulse  </td><td>-0.1</td><td>116.0000</td></tr>\n",
       "\t<tr><td>131286378561</td><td>RR     </td><td>-0.1</td><td> 18.0000</td></tr>\n",
       "\t<tr><td>131286378561</td><td>SBP    </td><td>-0.1</td><td>132.0000</td></tr>\n",
       "\t<tr><td>131286378561</td><td>Temp   </td><td>-0.1</td><td> 37.1000</td></tr>\n",
       "\t<tr><td>131286758917</td><td>DBP    </td><td>-0.1</td><td> 97.0000</td></tr>\n",
       "\t<tr><td>131286758917</td><td>Pulse  </td><td>-0.1</td><td> 80.0000</td></tr>\n",
       "\t<tr><td>131286758917</td><td>RR     </td><td>-0.1</td><td> 19.0000</td></tr>\n",
       "\t<tr><td>131286758917</td><td>SBP    </td><td>-0.1</td><td>150.0000</td></tr>\n",
       "\t<tr><td>131286758917</td><td>Temp   </td><td>-0.1</td><td> 37.2000</td></tr>\n",
       "\t<tr><td>131286803081</td><td>DBP    </td><td>-0.1</td><td> 86.7500</td></tr>\n",
       "\t<tr><td>131286803081</td><td>Glucose</td><td>-0.1</td><td>137.5000</td></tr>\n",
       "\t<tr><td>131286803081</td><td>Pulse  </td><td>-0.1</td><td>113.2500</td></tr>\n",
       "\t<tr><td>131286803081</td><td>RR     </td><td>-0.1</td><td> 30.2000</td></tr>\n",
       "\t<tr><td>131286803081</td><td>SBP    </td><td>-0.1</td><td>127.5000</td></tr>\n",
       "\t<tr><td>131286803081</td><td>Temp   </td><td>-0.1</td><td> 38.4500</td></tr>\n",
       "\t<tr><td>131286972602</td><td>DBP    </td><td>-0.1</td><td> 92.8750</td></tr>\n",
       "\t<tr><td>131286972602</td><td>Glucose</td><td>-0.1</td><td>150.0000</td></tr>\n",
       "\t<tr><td>131286972602</td><td>Pulse  </td><td>-0.1</td><td>125.5000</td></tr>\n",
       "\t<tr><td>131286972602</td><td>RR     </td><td>-0.1</td><td> 22.2500</td></tr>\n",
       "\t<tr><td>131286972602</td><td>SBP    </td><td>-0.1</td><td>170.8750</td></tr>\n",
       "\t<tr><td>131286972602</td><td>Temp   </td><td>-0.1</td><td> 36.9500</td></tr>\n",
       "\t<tr><td>131287480319</td><td>DBP    </td><td>-0.1</td><td> 63.7500</td></tr>\n",
       "\t<tr><td>131287480319</td><td>Glucose</td><td>-0.1</td><td>153.6667</td></tr>\n",
       "\t<tr><td>131287480319</td><td>Pulse  </td><td>-0.1</td><td>116.6250</td></tr>\n",
       "\t<tr><td>131287480319</td><td>RR     </td><td>-0.1</td><td> 25.3750</td></tr>\n",
       "\t<tr><td>131287480319</td><td>SBP    </td><td>-0.1</td><td> 97.1250</td></tr>\n",
       "\t<tr><td>131287480319</td><td>Temp   </td><td>-0.1</td><td> 39.3500</td></tr>\n",
       "</tbody>\n",
       "</table>\n"
      ],
      "text/latex": [
       "A grouped\\_df: 94870 × 4\n",
       "\\begin{tabular}{llll}\n",
       " pat\\_enc\\_csn\\_id\\_coded & features & hr\\_before\\_admit & values\\\\\n",
       " <fct> & <fct> & <dbl> & <dbl>\\\\\n",
       "\\hline\n",
       "\t 131130777324 & DBP   & -8 &  89\\\\\n",
       "\t 131130777324 & Pulse & -8 &  79\\\\\n",
       "\t 131130777324 & RR    & -8 &  21\\\\\n",
       "\t 131130777324 & SBP   & -8 & 159\\\\\n",
       "\t 131176432774 & DBP   & -8 &  75\\\\\n",
       "\t 131176432774 & Pulse & -8 & 102\\\\\n",
       "\t 131176432774 & RR    & -8 &  22\\\\\n",
       "\t 131176432774 & SBP   & -8 & 126\\\\\n",
       "\t 131220939817 & DBP   & -8 &  53\\\\\n",
       "\t 131220939817 & Pulse & -8 &  79\\\\\n",
       "\t 131220939817 & RR    & -8 &  21\\\\\n",
       "\t 131220939817 & SBP   & -8 & 157\\\\\n",
       "\t 131244891698 & DBP   & -8 &  96\\\\\n",
       "\t 131244891698 & Pulse & -8 &  79\\\\\n",
       "\t 131244891698 & RR    & -8 &  13\\\\\n",
       "\t 131244891698 & SBP   & -8 & 138\\\\\n",
       "\t 131261217730 & DBP   & -8 &  58\\\\\n",
       "\t 131261217730 & Pulse & -8 &  95\\\\\n",
       "\t 131261217730 & RR    & -8 &  16\\\\\n",
       "\t 131261217730 & SBP   & -8 & 128\\\\\n",
       "\t 131261564827 & DBP   & -8 &  82\\\\\n",
       "\t 131261564827 & Pulse & -8 &  69\\\\\n",
       "\t 131261564827 & RR    & -8 &  18\\\\\n",
       "\t 131261564827 & SBP   & -8 & 131\\\\\n",
       "\t 131262104701 & DBP   & -8 &  80\\\\\n",
       "\t 131262104701 & Pulse & -8 &  75\\\\\n",
       "\t 131262104701 & RR    & -8 &  22\\\\\n",
       "\t 131262104701 & SBP   & -8 & 109\\\\\n",
       "\t 131262753452 & DBP   & -8 & 100\\\\\n",
       "\t 131262753452 & Pulse & -8 &  86\\\\\n",
       "\t ... & ... & ... & ...\\\\\n",
       "\t 131285614658 & SBP     & -0.1 & 141.0000\\\\\n",
       "\t 131285614658 & Temp    & -0.1 &  36.8500\\\\\n",
       "\t 131286378561 & DBP     & -0.1 &  93.0000\\\\\n",
       "\t 131286378561 & Pulse   & -0.1 & 116.0000\\\\\n",
       "\t 131286378561 & RR      & -0.1 &  18.0000\\\\\n",
       "\t 131286378561 & SBP     & -0.1 & 132.0000\\\\\n",
       "\t 131286378561 & Temp    & -0.1 &  37.1000\\\\\n",
       "\t 131286758917 & DBP     & -0.1 &  97.0000\\\\\n",
       "\t 131286758917 & Pulse   & -0.1 &  80.0000\\\\\n",
       "\t 131286758917 & RR      & -0.1 &  19.0000\\\\\n",
       "\t 131286758917 & SBP     & -0.1 & 150.0000\\\\\n",
       "\t 131286758917 & Temp    & -0.1 &  37.2000\\\\\n",
       "\t 131286803081 & DBP     & -0.1 &  86.7500\\\\\n",
       "\t 131286803081 & Glucose & -0.1 & 137.5000\\\\\n",
       "\t 131286803081 & Pulse   & -0.1 & 113.2500\\\\\n",
       "\t 131286803081 & RR      & -0.1 &  30.2000\\\\\n",
       "\t 131286803081 & SBP     & -0.1 & 127.5000\\\\\n",
       "\t 131286803081 & Temp    & -0.1 &  38.4500\\\\\n",
       "\t 131286972602 & DBP     & -0.1 &  92.8750\\\\\n",
       "\t 131286972602 & Glucose & -0.1 & 150.0000\\\\\n",
       "\t 131286972602 & Pulse   & -0.1 & 125.5000\\\\\n",
       "\t 131286972602 & RR      & -0.1 &  22.2500\\\\\n",
       "\t 131286972602 & SBP     & -0.1 & 170.8750\\\\\n",
       "\t 131286972602 & Temp    & -0.1 &  36.9500\\\\\n",
       "\t 131287480319 & DBP     & -0.1 &  63.7500\\\\\n",
       "\t 131287480319 & Glucose & -0.1 & 153.6667\\\\\n",
       "\t 131287480319 & Pulse   & -0.1 & 116.6250\\\\\n",
       "\t 131287480319 & RR      & -0.1 &  25.3750\\\\\n",
       "\t 131287480319 & SBP     & -0.1 &  97.1250\\\\\n",
       "\t 131287480319 & Temp    & -0.1 &  39.3500\\\\\n",
       "\\end{tabular}\n"
      ],
      "text/markdown": [
       "\n",
       "A grouped_df: 94870 × 4\n",
       "\n",
       "| pat_enc_csn_id_coded &lt;fct&gt; | features &lt;fct&gt; | hr_before_admit &lt;dbl&gt; | values &lt;dbl&gt; |\n",
       "|---|---|---|---|\n",
       "| 131130777324 | DBP   | -8 |  89 |\n",
       "| 131130777324 | Pulse | -8 |  79 |\n",
       "| 131130777324 | RR    | -8 |  21 |\n",
       "| 131130777324 | SBP   | -8 | 159 |\n",
       "| 131176432774 | DBP   | -8 |  75 |\n",
       "| 131176432774 | Pulse | -8 | 102 |\n",
       "| 131176432774 | RR    | -8 |  22 |\n",
       "| 131176432774 | SBP   | -8 | 126 |\n",
       "| 131220939817 | DBP   | -8 |  53 |\n",
       "| 131220939817 | Pulse | -8 |  79 |\n",
       "| 131220939817 | RR    | -8 |  21 |\n",
       "| 131220939817 | SBP   | -8 | 157 |\n",
       "| 131244891698 | DBP   | -8 |  96 |\n",
       "| 131244891698 | Pulse | -8 |  79 |\n",
       "| 131244891698 | RR    | -8 |  13 |\n",
       "| 131244891698 | SBP   | -8 | 138 |\n",
       "| 131261217730 | DBP   | -8 |  58 |\n",
       "| 131261217730 | Pulse | -8 |  95 |\n",
       "| 131261217730 | RR    | -8 |  16 |\n",
       "| 131261217730 | SBP   | -8 | 128 |\n",
       "| 131261564827 | DBP   | -8 |  82 |\n",
       "| 131261564827 | Pulse | -8 |  69 |\n",
       "| 131261564827 | RR    | -8 |  18 |\n",
       "| 131261564827 | SBP   | -8 | 131 |\n",
       "| 131262104701 | DBP   | -8 |  80 |\n",
       "| 131262104701 | Pulse | -8 |  75 |\n",
       "| 131262104701 | RR    | -8 |  22 |\n",
       "| 131262104701 | SBP   | -8 | 109 |\n",
       "| 131262753452 | DBP   | -8 | 100 |\n",
       "| 131262753452 | Pulse | -8 |  86 |\n",
       "| ... | ... | ... | ... |\n",
       "| 131285614658 | SBP     | -0.1 | 141.0000 |\n",
       "| 131285614658 | Temp    | -0.1 |  36.8500 |\n",
       "| 131286378561 | DBP     | -0.1 |  93.0000 |\n",
       "| 131286378561 | Pulse   | -0.1 | 116.0000 |\n",
       "| 131286378561 | RR      | -0.1 |  18.0000 |\n",
       "| 131286378561 | SBP     | -0.1 | 132.0000 |\n",
       "| 131286378561 | Temp    | -0.1 |  37.1000 |\n",
       "| 131286758917 | DBP     | -0.1 |  97.0000 |\n",
       "| 131286758917 | Pulse   | -0.1 |  80.0000 |\n",
       "| 131286758917 | RR      | -0.1 |  19.0000 |\n",
       "| 131286758917 | SBP     | -0.1 | 150.0000 |\n",
       "| 131286758917 | Temp    | -0.1 |  37.2000 |\n",
       "| 131286803081 | DBP     | -0.1 |  86.7500 |\n",
       "| 131286803081 | Glucose | -0.1 | 137.5000 |\n",
       "| 131286803081 | Pulse   | -0.1 | 113.2500 |\n",
       "| 131286803081 | RR      | -0.1 |  30.2000 |\n",
       "| 131286803081 | SBP     | -0.1 | 127.5000 |\n",
       "| 131286803081 | Temp    | -0.1 |  38.4500 |\n",
       "| 131286972602 | DBP     | -0.1 |  92.8750 |\n",
       "| 131286972602 | Glucose | -0.1 | 150.0000 |\n",
       "| 131286972602 | Pulse   | -0.1 | 125.5000 |\n",
       "| 131286972602 | RR      | -0.1 |  22.2500 |\n",
       "| 131286972602 | SBP     | -0.1 | 170.8750 |\n",
       "| 131286972602 | Temp    | -0.1 |  36.9500 |\n",
       "| 131287480319 | DBP     | -0.1 |  63.7500 |\n",
       "| 131287480319 | Glucose | -0.1 | 153.6667 |\n",
       "| 131287480319 | Pulse   | -0.1 | 116.6250 |\n",
       "| 131287480319 | RR      | -0.1 |  25.3750 |\n",
       "| 131287480319 | SBP     | -0.1 |  97.1250 |\n",
       "| 131287480319 | Temp    | -0.1 |  39.3500 |\n",
       "\n"
      ],
      "text/plain": [
       "      pat_enc_csn_id_coded features hr_before_admit values  \n",
       "1     131130777324         DBP      -8               89     \n",
       "2     131130777324         Pulse    -8               79     \n",
       "3     131130777324         RR       -8               21     \n",
       "4     131130777324         SBP      -8              159     \n",
       "5     131176432774         DBP      -8               75     \n",
       "6     131176432774         Pulse    -8              102     \n",
       "7     131176432774         RR       -8               22     \n",
       "8     131176432774         SBP      -8              126     \n",
       "9     131220939817         DBP      -8               53     \n",
       "10    131220939817         Pulse    -8               79     \n",
       "11    131220939817         RR       -8               21     \n",
       "12    131220939817         SBP      -8              157     \n",
       "13    131244891698         DBP      -8               96     \n",
       "14    131244891698         Pulse    -8               79     \n",
       "15    131244891698         RR       -8               13     \n",
       "16    131244891698         SBP      -8              138     \n",
       "17    131261217730         DBP      -8               58     \n",
       "18    131261217730         Pulse    -8               95     \n",
       "19    131261217730         RR       -8               16     \n",
       "20    131261217730         SBP      -8              128     \n",
       "21    131261564827         DBP      -8               82     \n",
       "22    131261564827         Pulse    -8               69     \n",
       "23    131261564827         RR       -8               18     \n",
       "24    131261564827         SBP      -8              131     \n",
       "25    131262104701         DBP      -8               80     \n",
       "26    131262104701         Pulse    -8               75     \n",
       "27    131262104701         RR       -8               22     \n",
       "28    131262104701         SBP      -8              109     \n",
       "29    131262753452         DBP      -8              100     \n",
       "30    131262753452         Pulse    -8               86     \n",
       "...   ...                  ...      ...             ...     \n",
       "94841 131285614658         SBP      -0.1            141.0000\n",
       "94842 131285614658         Temp     -0.1             36.8500\n",
       "94843 131286378561         DBP      -0.1             93.0000\n",
       "94844 131286378561         Pulse    -0.1            116.0000\n",
       "94845 131286378561         RR       -0.1             18.0000\n",
       "94846 131286378561         SBP      -0.1            132.0000\n",
       "94847 131286378561         Temp     -0.1             37.1000\n",
       "94848 131286758917         DBP      -0.1             97.0000\n",
       "94849 131286758917         Pulse    -0.1             80.0000\n",
       "94850 131286758917         RR       -0.1             19.0000\n",
       "94851 131286758917         SBP      -0.1            150.0000\n",
       "94852 131286758917         Temp     -0.1             37.2000\n",
       "94853 131286803081         DBP      -0.1             86.7500\n",
       "94854 131286803081         Glucose  -0.1            137.5000\n",
       "94855 131286803081         Pulse    -0.1            113.2500\n",
       "94856 131286803081         RR       -0.1             30.2000\n",
       "94857 131286803081         SBP      -0.1            127.5000\n",
       "94858 131286803081         Temp     -0.1             38.4500\n",
       "94859 131286972602         DBP      -0.1             92.8750\n",
       "94860 131286972602         Glucose  -0.1            150.0000\n",
       "94861 131286972602         Pulse    -0.1            125.5000\n",
       "94862 131286972602         RR       -0.1             22.2500\n",
       "94863 131286972602         SBP      -0.1            170.8750\n",
       "94864 131286972602         Temp     -0.1             36.9500\n",
       "94865 131287480319         DBP      -0.1             63.7500\n",
       "94866 131287480319         Glucose  -0.1            153.6667\n",
       "94867 131287480319         Pulse    -0.1            116.6250\n",
       "94868 131287480319         RR       -0.1             25.3750\n",
       "94869 131287480319         SBP      -0.1             97.1250\n",
       "94870 131287480319         Temp     -0.1             39.3500"
      ]
     },
     "metadata": {},
     "output_type": "display_data"
    }
   ],
   "source": [
    "coh_vsglu %>% filter(hr_before_admit < 0) %>% arrange(hr_before_admit)"
   ]
  },
  {
   "cell_type": "code",
   "execution_count": 98,
   "metadata": {},
   "outputs": [
    {
     "data": {
      "text/html": [
       "<style>\n",
       ".list-inline {list-style: none; margin:0; padding: 0}\n",
       ".list-inline>li {display: inline-block}\n",
       ".list-inline>li:not(:last-child)::after {content: \"\\00b7\"; padding: 0 .5ex}\n",
       "</style>\n",
       "<ol class=list-inline><li>'anon_id'</li><li>'pat_enc_csn_id_coded'</li><li>'inpatient_data_id_coded'</li><li>'admit_time'</li><li>'label_max24'</li><li>'label_24hr_recent'</li><li>'admit_label'</li><li>'has_admit_label'</li><li>'died_within_24hrs'</li><li>'death_24hr_max_label'</li><li>'death_24hr_recent_label'</li><li>'first_label'</li><li>'first_label_minutes_since_admit'</li><li>'acute_to_critical_label_recent'</li><li>'critical_to_acute_label_recent'</li><li>'acute_to_critical_label_max'</li><li>'critical_to_acute_label_max'</li><li>'feature_type'</li><li>'features'</li><li>'values'</li><li>'time'</li></ol>\n"
      ],
      "text/latex": [
       "\\begin{enumerate*}\n",
       "\\item 'anon\\_id'\n",
       "\\item 'pat\\_enc\\_csn\\_id\\_coded'\n",
       "\\item 'inpatient\\_data\\_id\\_coded'\n",
       "\\item 'admit\\_time'\n",
       "\\item 'label\\_max24'\n",
       "\\item 'label\\_24hr\\_recent'\n",
       "\\item 'admit\\_label'\n",
       "\\item 'has\\_admit\\_label'\n",
       "\\item 'died\\_within\\_24hrs'\n",
       "\\item 'death\\_24hr\\_max\\_label'\n",
       "\\item 'death\\_24hr\\_recent\\_label'\n",
       "\\item 'first\\_label'\n",
       "\\item 'first\\_label\\_minutes\\_since\\_admit'\n",
       "\\item 'acute\\_to\\_critical\\_label\\_recent'\n",
       "\\item 'critical\\_to\\_acute\\_label\\_recent'\n",
       "\\item 'acute\\_to\\_critical\\_label\\_max'\n",
       "\\item 'critical\\_to\\_acute\\_label\\_max'\n",
       "\\item 'feature\\_type'\n",
       "\\item 'features'\n",
       "\\item 'values'\n",
       "\\item 'time'\n",
       "\\end{enumerate*}\n"
      ],
      "text/markdown": [
       "1. 'anon_id'\n",
       "2. 'pat_enc_csn_id_coded'\n",
       "3. 'inpatient_data_id_coded'\n",
       "4. 'admit_time'\n",
       "5. 'label_max24'\n",
       "6. 'label_24hr_recent'\n",
       "7. 'admit_label'\n",
       "8. 'has_admit_label'\n",
       "9. 'died_within_24hrs'\n",
       "10. 'death_24hr_max_label'\n",
       "11. 'death_24hr_recent_label'\n",
       "12. 'first_label'\n",
       "13. 'first_label_minutes_since_admit'\n",
       "14. 'acute_to_critical_label_recent'\n",
       "15. 'critical_to_acute_label_recent'\n",
       "16. 'acute_to_critical_label_max'\n",
       "17. 'critical_to_acute_label_max'\n",
       "18. 'feature_type'\n",
       "19. 'features'\n",
       "20. 'values'\n",
       "21. 'time'\n",
       "\n",
       "\n"
      ],
      "text/plain": [
       " [1] \"anon_id\"                         \"pat_enc_csn_id_coded\"           \n",
       " [3] \"inpatient_data_id_coded\"         \"admit_time\"                     \n",
       " [5] \"label_max24\"                     \"label_24hr_recent\"              \n",
       " [7] \"admit_label\"                     \"has_admit_label\"                \n",
       " [9] \"died_within_24hrs\"               \"death_24hr_max_label\"           \n",
       "[11] \"death_24hr_recent_label\"         \"first_label\"                    \n",
       "[13] \"first_label_minutes_since_admit\" \"acute_to_critical_label_recent\" \n",
       "[15] \"critical_to_acute_label_recent\"  \"acute_to_critical_label_max\"    \n",
       "[17] \"critical_to_acute_label_max\"     \"feature_type\"                   \n",
       "[19] \"features\"                        \"values\"                         \n",
       "[21] \"time\"                           "
      ]
     },
     "metadata": {},
     "output_type": "display_data"
    }
   ],
   "source": [
    "colnames(cohort_full)"
   ]
  },
  {
   "cell_type": "markdown",
   "metadata": {},
   "source": [
    "### Check for time diff for vitals and labs vs admit-time\n",
    "admit_time is after time so time diff (admit_time, time) should be positive"
   ]
  },
  {
   "cell_type": "code",
   "execution_count": 116,
   "metadata": {},
   "outputs": [],
   "source": [
    "coh_time <- cohort_full %>% mutate(admit_time = ymd_hms(admit_time), time = ymd_hms(time)) %>%\n",
    "                    mutate(hr_before_admit = round(as.numeric(difftime(admit_time, time, unit=\"hours\")), 1)) %>%\n",
    "                    select(pat_enc_csn_id_coded, admit_time, time, hr_before_admit, features, feature_type, values)"
   ]
  },
  {
   "cell_type": "code",
   "execution_count": 117,
   "metadata": {},
   "outputs": [
    {
     "data": {
      "text/plain": [
       "   Min. 1st Qu.  Median    Mean 3rd Qu.    Max.    NA's \n",
       "      0       1       3       4       5  140140 6834522 "
      ]
     },
     "metadata": {},
     "output_type": "display_data"
    }
   ],
   "source": [
    "summary(coh_time$hr_before_admit)"
   ]
  },
  {
   "cell_type": "code",
   "execution_count": null,
   "metadata": {},
   "outputs": [],
   "source": [
    "coh_sample <- sample_n(cohort_full, 10000)"
   ]
  },
  {
   "cell_type": "code",
   "execution_count": 118,
   "metadata": {},
   "outputs": [
    {
     "data": {
      "text/plain": [
       "   Min. 1st Qu.  Median    Mean 3rd Qu.    Max.    NA's \n",
       "  0.000   1.300   2.500   4.152   4.500 170.600    7438 "
      ]
     },
     "metadata": {},
     "output_type": "display_data"
    }
   ],
   "source": [
    "coh_sampletime <- coh_sample %>% mutate(admit_time = ymd_hms(admit_time), time = ymd_hms(time)) %>%\n",
    "                    mutate(hr_before_admit = round(as.numeric(difftime(admit_time, time, unit=\"hours\")), 1)) %>%\n",
    "                    select(pat_enc_csn_id_coded, admit_time, time, hr_before_admit, features, feature_type, values) #filter(hr_before_admit < 0) %>% \n",
    "summary(coh_sampletime$hr_before_admit)"
   ]
  },
  {
   "cell_type": "code",
   "execution_count": 120,
   "metadata": {},
   "outputs": [
    {
     "data": {
      "text/html": [
       "<table>\n",
       "<caption>A data.frame: 6 × 7</caption>\n",
       "<thead>\n",
       "\t<tr><th></th><th scope=col>pat_enc_csn_id_coded</th><th scope=col>admit_time</th><th scope=col>time</th><th scope=col>hr_before_admit</th><th scope=col>features</th><th scope=col>feature_type</th><th scope=col>values</th></tr>\n",
       "\t<tr><th></th><th scope=col>&lt;dbl&gt;</th><th scope=col>&lt;dttm&gt;</th><th scope=col>&lt;dttm&gt;</th><th scope=col>&lt;dbl&gt;</th><th scope=col>&lt;chr&gt;</th><th scope=col>&lt;chr&gt;</th><th scope=col>&lt;dbl&gt;</th></tr>\n",
       "</thead>\n",
       "<tbody>\n",
       "\t<tr><th scope=row>1</th><td>131242313490</td><td>2017-11-13 04:25:00</td><td>2001-11-17 23:55:40</td><td>140140.5</td><td>RR   </td><td>vitals</td><td> 18</td></tr>\n",
       "\t<tr><th scope=row>2</th><td>131090609481</td><td>2015-06-25 18:48:00</td><td>2015-06-17 20:17:00</td><td>   190.5</td><td>DBP  </td><td>vitals</td><td> 71</td></tr>\n",
       "\t<tr><th scope=row>3</th><td>131090609481</td><td>2015-06-25 18:48:00</td><td>2015-06-17 20:17:00</td><td>   190.5</td><td>Pulse</td><td>vitals</td><td> 88</td></tr>\n",
       "\t<tr><th scope=row>4</th><td>131090609481</td><td>2015-06-25 18:48:00</td><td>2015-06-17 20:17:00</td><td>   190.5</td><td>RR   </td><td>vitals</td><td> 18</td></tr>\n",
       "\t<tr><th scope=row>5</th><td>131090609481</td><td>2015-06-25 18:48:00</td><td>2015-06-17 20:17:00</td><td>   190.5</td><td>SBP  </td><td>vitals</td><td>102</td></tr>\n",
       "\t<tr><th scope=row>6</th><td>131090609481</td><td>2015-06-25 18:48:00</td><td>2015-06-17 20:17:00</td><td>   190.5</td><td>Temp </td><td>vitals</td><td> 37</td></tr>\n",
       "</tbody>\n",
       "</table>\n"
      ],
      "text/latex": [
       "A data.frame: 6 × 7\n",
       "\\begin{tabular}{r|lllllll}\n",
       "  & pat\\_enc\\_csn\\_id\\_coded & admit\\_time & time & hr\\_before\\_admit & features & feature\\_type & values\\\\\n",
       "  & <dbl> & <dttm> & <dttm> & <dbl> & <chr> & <chr> & <dbl>\\\\\n",
       "\\hline\n",
       "\t1 & 131242313490 & 2017-11-13 04:25:00 & 2001-11-17 23:55:40 & 140140.5 & RR    & vitals &  18\\\\\n",
       "\t2 & 131090609481 & 2015-06-25 18:48:00 & 2015-06-17 20:17:00 &    190.5 & DBP   & vitals &  71\\\\\n",
       "\t3 & 131090609481 & 2015-06-25 18:48:00 & 2015-06-17 20:17:00 &    190.5 & Pulse & vitals &  88\\\\\n",
       "\t4 & 131090609481 & 2015-06-25 18:48:00 & 2015-06-17 20:17:00 &    190.5 & RR    & vitals &  18\\\\\n",
       "\t5 & 131090609481 & 2015-06-25 18:48:00 & 2015-06-17 20:17:00 &    190.5 & SBP   & vitals & 102\\\\\n",
       "\t6 & 131090609481 & 2015-06-25 18:48:00 & 2015-06-17 20:17:00 &    190.5 & Temp  & vitals &  37\\\\\n",
       "\\end{tabular}\n"
      ],
      "text/markdown": [
       "\n",
       "A data.frame: 6 × 7\n",
       "\n",
       "| <!--/--> | pat_enc_csn_id_coded &lt;dbl&gt; | admit_time &lt;dttm&gt; | time &lt;dttm&gt; | hr_before_admit &lt;dbl&gt; | features &lt;chr&gt; | feature_type &lt;chr&gt; | values &lt;dbl&gt; |\n",
       "|---|---|---|---|---|---|---|---|\n",
       "| 1 | 131242313490 | 2017-11-13 04:25:00 | 2001-11-17 23:55:40 | 140140.5 | RR    | vitals |  18 |\n",
       "| 2 | 131090609481 | 2015-06-25 18:48:00 | 2015-06-17 20:17:00 |    190.5 | DBP   | vitals |  71 |\n",
       "| 3 | 131090609481 | 2015-06-25 18:48:00 | 2015-06-17 20:17:00 |    190.5 | Pulse | vitals |  88 |\n",
       "| 4 | 131090609481 | 2015-06-25 18:48:00 | 2015-06-17 20:17:00 |    190.5 | RR    | vitals |  18 |\n",
       "| 5 | 131090609481 | 2015-06-25 18:48:00 | 2015-06-17 20:17:00 |    190.5 | SBP   | vitals | 102 |\n",
       "| 6 | 131090609481 | 2015-06-25 18:48:00 | 2015-06-17 20:17:00 |    190.5 | Temp  | vitals |  37 |\n",
       "\n"
      ],
      "text/plain": [
       "  pat_enc_csn_id_coded admit_time          time                hr_before_admit\n",
       "1 131242313490         2017-11-13 04:25:00 2001-11-17 23:55:40 140140.5       \n",
       "2 131090609481         2015-06-25 18:48:00 2015-06-17 20:17:00    190.5       \n",
       "3 131090609481         2015-06-25 18:48:00 2015-06-17 20:17:00    190.5       \n",
       "4 131090609481         2015-06-25 18:48:00 2015-06-17 20:17:00    190.5       \n",
       "5 131090609481         2015-06-25 18:48:00 2015-06-17 20:17:00    190.5       \n",
       "6 131090609481         2015-06-25 18:48:00 2015-06-17 20:17:00    190.5       \n",
       "  features feature_type values\n",
       "1 RR       vitals        18   \n",
       "2 DBP      vitals        71   \n",
       "3 Pulse    vitals        88   \n",
       "4 RR       vitals        18   \n",
       "5 SBP      vitals       102   \n",
       "6 Temp     vitals        37   "
      ]
     },
     "metadata": {},
     "output_type": "display_data"
    }
   ],
   "source": [
    "head(coh_time %>% filter(feature_type %in% c(\"vitals\", \"labs\")) %>% arrange(-hr_before_admit))"
   ]
  },
  {
   "cell_type": "code",
   "execution_count": 129,
   "metadata": {},
   "outputs": [
    {
     "data": {
      "text/html": [
       "10293"
      ],
      "text/latex": [
       "10293"
      ],
      "text/markdown": [
       "10293"
      ],
      "text/plain": [
       "[1] 10293"
      ]
     },
     "metadata": {},
     "output_type": "display_data"
    },
    {
     "data": {
      "text/html": [
       "9171908"
      ],
      "text/latex": [
       "9171908"
      ],
      "text/markdown": [
       "9171908"
      ],
      "text/plain": [
       "[1] 9171908"
      ]
     },
     "metadata": {},
     "output_type": "display_data"
    },
    {
     "data": {
      "text/html": [
       "186"
      ],
      "text/latex": [
       "186"
      ],
      "text/markdown": [
       "186"
      ],
      "text/plain": [
       "[1] 186"
      ]
     },
     "metadata": {},
     "output_type": "display_data"
    },
    {
     "data": {
      "text/html": [
       "43980"
      ],
      "text/latex": [
       "43980"
      ],
      "text/markdown": [
       "43980"
      ],
      "text/plain": [
       "[1] 43980"
      ]
     },
     "metadata": {},
     "output_type": "display_data"
    }
   ],
   "source": [
    "# 3 days: 3947 and 75 csn\n",
    "cohort_48 <- coh_time %>% filter(hr_before_admit > 48)\n",
    "nrow(cohort_48)\n",
    "nrow(cohort_full)\n",
    "length(unique(cohort_48$pat_enc_csn_id_coded))\n",
    "length(unique(cohort_full$pat_enc_csn_id_coded))"
   ]
  },
  {
   "cell_type": "code",
   "execution_count": 137,
   "metadata": {},
   "outputs": [
    {
     "data": {
      "text/html": [
       "9161615"
      ],
      "text/latex": [
       "9161615"
      ],
      "text/markdown": [
       "9161615"
      ],
      "text/plain": [
       "[1] 9161615"
      ]
     },
     "metadata": {},
     "output_type": "display_data"
    },
    {
     "data": {
      "text/html": [
       "43980"
      ],
      "text/latex": [
       "43980"
      ],
      "text/markdown": [
       "43980"
      ],
      "text/plain": [
       "[1] 43980"
      ]
     },
     "metadata": {},
     "output_type": "display_data"
    }
   ],
   "source": [
    "# only observations could be remove, but not the entire visits/csns. remains the same number of unique csn\n",
    "cohort48 <- coh_time %>% filter(hr_before_admit <= 48 | is.na(hr_before_admit))\n",
    "nrow(cohort48)\n",
    "length(unique(cohort48$pat_enc_csn_id_coded))"
   ]
  },
  {
   "cell_type": "code",
   "execution_count": 138,
   "metadata": {},
   "outputs": [
    {
     "data": {
      "text/plain": [
       "   Min. 1st Qu.  Median    Mean 3rd Qu.    Max.    NA's \n",
       "      0       1       3       4       4      48 6834522 "
      ]
     },
     "metadata": {},
     "output_type": "display_data"
    }
   ],
   "source": [
    "# go back to the feature set of 2_7_coh4_features_values to remove these values and retrain the models\n",
    "summary(cohort48$hr_before_admit)"
   ]
  },
  {
   "cell_type": "code",
   "execution_count": null,
   "metadata": {},
   "outputs": [],
   "source": []
  },
  {
   "cell_type": "code",
   "execution_count": 133,
   "metadata": {},
   "outputs": [
    {
     "name": "stderr",
     "output_type": "stream",
     "text": [
      "Warning message:\n",
      "\"`fun.y` is deprecated. Use `fun` instead.\"\n",
      "`geom_smooth()` using method = 'gam' and formula 'y ~ s(x, bs = \"cs\")'\n",
      "\n"
     ]
    },
    {
     "data": {
      "image/png": "[encoded data removed]",
      "text/plain": [
       "plot without title"
      ]
     },
     "metadata": {
      "image/png": {
       "height": 1800,
       "width": 420
      }
     },
     "output_type": "display_data"
    }
   ],
   "source": [
    "options(repr.plot.width=7, repr.plot.height=30)\n",
    "\n",
    "coh_vsglu12 <- coh_vsglu %>% filter(hr_before_admit <= 200)\n",
    "p <- ggplot(data = coh_vsglu12, aes(x = hr_before_admit, y = values, group = pat_enc_csn_id_coded)) + facet_grid(features ~ ., scales=\"free\")\n",
    "\n",
    "# use group 1 as for the whole data NOT per csn: so the smooth is not calculated separately for each csn\n",
    "p + geom_line(color=\"white\") + stat_smooth(aes(group = 1)) + stat_summary(aes(group = 1), geom = \"point\", size=1, fun.y = mean)"
   ]
  },
  {
   "cell_type": "markdown",
   "metadata": {},
   "source": [
    "### Check AUC and PRC"
   ]
  },
  {
   "cell_type": "code",
   "execution_count": 74,
   "metadata": {},
   "outputs": [
    {
     "data": {
      "text/html": [
       "0.875995437857203"
      ],
      "text/latex": [
       "0.875995437857203"
      ],
      "text/markdown": [
       "0.875995437857203"
      ],
      "text/plain": [
       "[1] 0.8759954"
      ]
     },
     "metadata": {},
     "output_type": "display_data"
    },
    {
     "data": {
      "text/html": [
       "0.64255115231513"
      ],
      "text/latex": [
       "0.64255115231513"
      ],
      "text/markdown": [
       "0.64255115231513"
      ],
      "text/plain": [
       "[1] 0.6425512"
      ]
     },
     "metadata": {},
     "output_type": "display_data"
    },
    {
     "data": {
      "image/png": "[encoded data removed]",
      "text/plain": [
       "plot without title"
      ]
     },
     "metadata": {
      "image/png": {
       "height": 420,
       "width": 420
      }
     },
     "output_type": "display_data"
    },
    {
     "data": {
      "image/png": "[encoded data removed]",
      "text/plain": [
       "plot without title"
      ]
     },
     "metadata": {
      "image/png": {
       "height": 420,
       "width": 420
      }
     },
     "output_type": "display_data"
    }
   ],
   "source": [
    "# get performance metrics AUC and PRC, highest level of care\n",
    "options(repr.plot.width=7, repr.plot.height=7)\n",
    "\n",
    "# pred_rocr = ROCR::prediction(cohort_test$pred_death_24hr_recent, cohort_test$death_24hr_recent_label)\n",
    "pred_rocr = ROCR::prediction(cohort_test$pred_death_24hr_max, cohort_test$death_24hr_max_label)\n",
    "auc = ROCR::performance(pred_rocr, measure = \"auc\", x.measure = \"cutoff\")@y.values[[1]]\n",
    "prc = ROCR::performance(pred_rocr, measure = \"aucpr\", x.measure = \"cutoff\")@y.values[[1]]\n",
    "\n",
    "PRC.perf <- ROCR::performance(pred_rocr, \"prec\", \"rec\")\n",
    "ROC.perf <-  ROCR::performance(pred_rocr, \"tpr\", \"fpr\")\n",
    "auc; prc\n",
    "\n",
    "plot(ROC.perf)\n",
    "plot(PRC.perf)"
   ]
  },
  {
   "cell_type": "code",
   "execution_count": 70,
   "metadata": {},
   "outputs": [
    {
     "data": {
      "text/html": [
       "0.852746095933298"
      ],
      "text/latex": [
       "0.852746095933298"
      ],
      "text/markdown": [
       "0.852746095933298"
      ],
      "text/plain": [
       "[1] 0.8527461"
      ]
     },
     "metadata": {},
     "output_type": "display_data"
    },
    {
     "data": {
      "text/html": [
       "0.491112785165401"
      ],
      "text/latex": [
       "0.491112785165401"
      ],
      "text/markdown": [
       "0.491112785165401"
      ],
      "text/plain": [
       "[1] 0.4911128"
      ]
     },
     "metadata": {},
     "output_type": "display_data"
    },
    {
     "data": {
      "image/png": "[encoded data removed]",
      "text/plain": [
       "plot without title"
      ]
     },
     "metadata": {
      "image/png": {
       "height": 420,
       "width": 420
      }
     },
     "output_type": "display_data"
    },
    {
     "data": {
      "image/png": "[encoded data removed]",
      "text/plain": [
       "plot without title"
      ]
     },
     "metadata": {
      "image/png": {
       "height": 420,
       "width": 420
      }
     },
     "output_type": "display_data"
    }
   ],
   "source": [
    "# get performance metrics AUC and PRC, at 24hr\n",
    "options(repr.plot.width=7, repr.plot.height=7)\n",
    "\n",
    "pred_rocr = ROCR::prediction(cohort_test$pred_death_24hr_recent, cohort_test$death_24hr_recent_label)\n",
    "auc = ROCR::performance(pred_rocr, measure = \"auc\", x.measure = \"cutoff\")@y.values[[1]]\n",
    "prc = ROCR::performance(pred_rocr, measure = \"aucpr\", x.measure = \"cutoff\")@y.values[[1]]\n",
    "\n",
    "PRC.perf <- ROCR::performance(pred_rocr, \"prec\", \"rec\")\n",
    "ROC.perf <-  ROCR::performance(pred_rocr, \"tpr\", \"fpr\")\n",
    "auc; prc\n",
    "\n",
    "plot(ROC.perf)\n",
    "plot(PRC.perf)"
   ]
  },
  {
   "cell_type": "code",
   "execution_count": 73,
   "metadata": {},
   "outputs": [
    {
     "data": {
      "text/html": [
       "0.851396490675799"
      ],
      "text/latex": [
       "0.851396490675799"
      ],
      "text/markdown": [
       "0.851396490675799"
      ],
      "text/plain": [
       "[1] 0.8513965"
      ]
     },
     "metadata": {},
     "output_type": "display_data"
    },
    {
     "data": {
      "text/html": [
       "0.487723965329804"
      ],
      "text/latex": [
       "0.487723965329804"
      ],
      "text/markdown": [
       "0.487723965329804"
      ],
      "text/plain": [
       "[1] 0.487724"
      ]
     },
     "metadata": {},
     "output_type": "display_data"
    },
    {
     "data": {
      "image/png": "[encoded data removed]",
      "text/plain": [
       "plot without title"
      ]
     },
     "metadata": {
      "image/png": {
       "height": 420,
       "width": 420
      }
     },
     "output_type": "display_data"
    },
    {
     "data": {
      "image/png": "[encoded data removed]",
      "text/plain": [
       "plot without title"
      ]
     },
     "metadata": {
      "image/png": {
       "height": 420,
       "width": 420
      }
     },
     "output_type": "display_data"
    }
   ],
   "source": [
    "test2019 <- cohort_test %>% filter(adm_year==2019)\n",
    "pred_rocr = ROCR::prediction(test2019$pred_death_24hr_recent, test2019$death_24hr_recent_label)\n",
    "auc = ROCR::performance(pred_rocr, measure = \"auc\", x.measure = \"cutoff\")@y.values[[1]]\n",
    "prc = ROCR::performance(pred_rocr, measure = \"aucpr\", x.measure = \"cutoff\")@y.values[[1]]\n",
    "\n",
    "PRC.perf <- ROCR::performance(pred_rocr, \"prec\", \"rec\")\n",
    "ROC.perf <-  ROCR::performance(pred_rocr, \"tpr\", \"fpr\")\n",
    "auc; prc\n",
    "\n",
    "plot(ROC.perf)\n",
    "plot(PRC.perf)"
   ]
  },
  {
   "cell_type": "code",
   "execution_count": 76,
   "metadata": {},
   "outputs": [
    {
     "data": {
      "text/html": [
       "0.907253499579289"
      ],
      "text/latex": [
       "0.907253499579289"
      ],
      "text/markdown": [
       "0.907253499579289"
      ],
      "text/plain": [
       "[1] 0.9072535"
      ]
     },
     "metadata": {},
     "output_type": "display_data"
    },
    {
     "data": {
      "text/html": [
       "0.642238742593756"
      ],
      "text/latex": [
       "0.642238742593756"
      ],
      "text/markdown": [
       "0.642238742593756"
      ],
      "text/plain": [
       "[1] 0.6422387"
      ]
     },
     "metadata": {},
     "output_type": "display_data"
    },
    {
     "data": {
      "image/png": "[encoded data removed]",
      "text/plain": [
       "plot without title"
      ]
     },
     "metadata": {
      "image/png": {
       "height": 420,
       "width": 420
      }
     },
     "output_type": "display_data"
    },
    {
     "data": {
      "image/png": "[encoded data removed]",
      "text/plain": [
       "plot without title"
      ]
     },
     "metadata": {
      "image/png": {
       "height": 420,
       "width": 420
      }
     },
     "output_type": "display_data"
    }
   ],
   "source": [
    "# get performance metrics AUC and PRC, and ACC\n",
    "options(repr.plot.width=7, repr.plot.height=7)\n",
    "\n",
    "pred_rocr = ROCR::prediction(cohort_test$pred_first, cohort_test$first_label)\n",
    "auc = ROCR::performance(pred_rocr, measure = \"auc\", x.measure = \"cutoff\")@y.values[[1]]\n",
    "prc = ROCR::performance(pred_rocr, measure = \"aucpr\", x.measure = \"cutoff\")@y.values[[1]]\n",
    "\n",
    "PRC.perf <- ROCR::performance(pred_rocr, \"prec\", \"rec\")\n",
    "ROC.perf <-  ROCR::performance(pred_rocr, \"tpr\", \"fpr\")\n",
    "auc; prc\n",
    "\n",
    "plot(ROC.perf)\n",
    "plot(PRC.perf)"
   ]
  }
 ],
 "metadata": {
  "environment": {
   "name": "r-cpu.4-0.m71",
   "type": "gcloud",
   "uri": "gcr.io/deeplearning-platform-release/r-cpu.4-0:m71"
  },
  "kernelspec": {
   "display_name": "R",
   "language": "R",
   "name": "ir"
  },
  "language_info": {
   "codemirror_mode": "r",
   "file_extension": ".r",
   "mimetype": "text/x-r-source",
   "name": "R",
   "pygments_lexer": "r",
   "version": "4.0.3"
  }
 },
 "nbformat": 4,
 "nbformat_minor": 4
}
