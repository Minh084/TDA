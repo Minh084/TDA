{
 "cells": [
  {
   "cell_type": "markdown",
   "metadata": {},
   "source": [
    "### Description\n",
    "- Patient visits who were transferred within 24 hours\n",
    "    - ICUs to non-ICUs\n",
    "    - Non-ICUs to ICUs\n",
    "- Prediction differences between labels at time 0 and 24hr\n",
    "- Differences between predicted values at time 0 and time 24 compared to their corresponding true labels\n",
    "- Within the patient visits who were transferred:\n",
    "    - More in depth about those with largest differences between the predictions at 2 time points\n",
    "    - and how they are related to the differences in predicted values vs. true labels\n",
    "    \n",
    "Inputs:\n",
    "- `1_4_cohort`\n",
    "- prediction outputs for 3 labels using 1_4_cohort with light gbm\n",
    "\n",
    "Outputs:\n",
    "- `1_4_cohort_test_results` test cohort (admit year 2019 and 2020) with prediction results\n",
    "- `1_4_cohort_diff_full_features` 318 vs 204 observations in test cohort (pred difference >= 0.3) with full features used for predictions"
   ]
  },
  {
   "cell_type": "code",
   "execution_count": 97,
   "metadata": {},
   "outputs": [
    {
     "name": "stderr",
     "output_type": "stream",
     "text": [
      "Installing package into ‘/home/jupyter/.R/library’\n",
      "(as ‘lib’ is unspecified)\n",
      "\n",
      "also installing the dependencies ‘gtools’, ‘caTools’, ‘gplots’\n",
      "\n",
      "\n"
     ]
    }
   ],
   "source": [
    "# install.packages('ROCR')"
   ]
  },
  {
   "cell_type": "code",
   "execution_count": 3,
   "metadata": {},
   "outputs": [],
   "source": [
    "library(caret) # import this before glmnet to avoid rlang version problem\n",
    "library(data.table)\n",
    "library(tidyverse)\n",
    "library(lubridate)\n",
    "library(Matrix)\n",
    "library(glmnet)\n",
    "library(bit64)\n",
    "library(pROC)\n",
    "library(ROCR)\n",
    "library(rms)"
   ]
  },
  {
   "cell_type": "code",
   "execution_count": 6,
   "metadata": {},
   "outputs": [],
   "source": [
    "# directories\n",
    "datadir = \"../../DataTD\"\n",
    "cohortdir = \"../../OutputTD/1_cohort\"\n",
    "featuredir = \"../../OutputTD/2_features\"\n",
    "modeldir4 = \"../../OutputTD/3_models/1_4_cohort\"\n",
    "# modeldir4preadmit = \"../../OutputTD/3_models/1_4_cohort_24hrpreadmit\"\n",
    "\n",
    "options(repr.matrix.max.rows=200, repr.matrix.max.cols=30)"
   ]
  },
  {
   "cell_type": "code",
   "execution_count": 31,
   "metadata": {},
   "outputs": [],
   "source": [
    "# list.files(path=\"modeldir4\", pattern=\"lightgbm_test_results.csv\", full.names=TRUE, recursive=FALSE)\n",
    "# dir(path=\"modeldir4\") #pattern=\"*.csv\")"
   ]
  },
  {
   "cell_type": "code",
   "execution_count": 7,
   "metadata": {},
   "outputs": [
    {
     "data": {
      "text/html": [
       "<style>\n",
       ".list-inline {list-style: none; margin:0; padding: 0}\n",
       ".list-inline>li {display: inline-block}\n",
       ".list-inline>li:not(:last-child)::after {content: \"\\00b7\"; padding: 0 .5ex}\n",
       "</style>\n",
       "<ol class=list-inline><li>'../../OutputTD/3_models/1_4_cohort'</li><li>'../../OutputTD/3_models/1_4_cohort/death_24hr_max_label'</li><li>'../../OutputTD/3_models/1_4_cohort/death_24hr_recent_label'</li><li>'../../OutputTD/3_models/1_4_cohort/first_label'</li></ol>\n"
      ],
      "text/latex": [
       "\\begin{enumerate*}\n",
       "\\item '../../OutputTD/3\\_models/1\\_4\\_cohort'\n",
       "\\item '../../OutputTD/3\\_models/1\\_4\\_cohort/death\\_24hr\\_max\\_label'\n",
       "\\item '../../OutputTD/3\\_models/1\\_4\\_cohort/death\\_24hr\\_recent\\_label'\n",
       "\\item '../../OutputTD/3\\_models/1\\_4\\_cohort/first\\_label'\n",
       "\\end{enumerate*}\n"
      ],
      "text/markdown": [
       "1. '../../OutputTD/3_models/1_4_cohort'\n",
       "2. '../../OutputTD/3_models/1_4_cohort/death_24hr_max_label'\n",
       "3. '../../OutputTD/3_models/1_4_cohort/death_24hr_recent_label'\n",
       "4. '../../OutputTD/3_models/1_4_cohort/first_label'\n",
       "\n",
       "\n"
      ],
      "text/plain": [
       "[1] \"../../OutputTD/3_models/1_4_cohort\"                        \n",
       "[2] \"../../OutputTD/3_models/1_4_cohort/death_24hr_max_label\"   \n",
       "[3] \"../../OutputTD/3_models/1_4_cohort/death_24hr_recent_label\"\n",
       "[4] \"../../OutputTD/3_models/1_4_cohort/first_label\"            "
      ]
     },
     "metadata": {},
     "output_type": "display_data"
    }
   ],
   "source": [
    "# check folder and sub-folders\n",
    "folder <- list.dirs(modeldir4) # this assumes being in the main folder, otherwise specify the path\n",
    "folder\n",
    "sub.folders <- folder[-1]  # comment this out if the main folder also contains the script\n",
    "# script.paths <- paste(folder,\"/\",\"process.R\", sep=\"\")\n",
    "# for (i in script.paths) {source(i)}"
   ]
  },
  {
   "cell_type": "code",
   "execution_count": 8,
   "metadata": {},
   "outputs": [
    {
     "data": {
      "text/html": [
       "<style>\n",
       ".list-inline {list-style: none; margin:0; padding: 0}\n",
       ".list-inline>li {display: inline-block}\n",
       ".list-inline>li:not(:last-child)::after {content: \"\\00b7\"; padding: 0 .5ex}\n",
       "</style>\n",
       "<ol class=list-inline><li>'../../OutputTD/3_models/1_4_cohort/death_24hr_max_label'</li><li>'../../OutputTD/3_models/1_4_cohort/death_24hr_recent_label'</li><li>'../../OutputTD/3_models/1_4_cohort/first_label'</li></ol>\n"
      ],
      "text/latex": [
       "\\begin{enumerate*}\n",
       "\\item '../../OutputTD/3\\_models/1\\_4\\_cohort/death\\_24hr\\_max\\_label'\n",
       "\\item '../../OutputTD/3\\_models/1\\_4\\_cohort/death\\_24hr\\_recent\\_label'\n",
       "\\item '../../OutputTD/3\\_models/1\\_4\\_cohort/first\\_label'\n",
       "\\end{enumerate*}\n"
      ],
      "text/markdown": [
       "1. '../../OutputTD/3_models/1_4_cohort/death_24hr_max_label'\n",
       "2. '../../OutputTD/3_models/1_4_cohort/death_24hr_recent_label'\n",
       "3. '../../OutputTD/3_models/1_4_cohort/first_label'\n",
       "\n",
       "\n"
      ],
      "text/plain": [
       "[1] \"../../OutputTD/3_models/1_4_cohort/death_24hr_max_label\"   \n",
       "[2] \"../../OutputTD/3_models/1_4_cohort/death_24hr_recent_label\"\n",
       "[3] \"../../OutputTD/3_models/1_4_cohort/first_label\"            "
      ]
     },
     "metadata": {},
     "output_type": "display_data"
    }
   ],
   "source": [
    "# sub-folders, check DIR!!!\n",
    "sub.folders <- list.dirs(modeldir4)[-1]\n",
    "sub.folders"
   ]
  },
  {
   "cell_type": "code",
   "execution_count": 9,
   "metadata": {},
   "outputs": [
    {
     "data": {
      "text/html": [
       "43980"
      ],
      "text/latex": [
       "43980"
      ],
      "text/markdown": [
       "43980"
      ],
      "text/plain": [
       "[1] 43980"
      ]
     },
     "metadata": {},
     "output_type": "display_data"
    },
    {
     "data": {
      "text/html": [
       "<style>\n",
       ".list-inline {list-style: none; margin:0; padding: 0}\n",
       ".list-inline>li {display: inline-block}\n",
       ".list-inline>li:not(:last-child)::after {content: \"\\00b7\"; padding: 0 .5ex}\n",
       "</style>\n",
       "<ol class=list-inline><li>'anon_id'</li><li>'pat_enc_csn_id_coded'</li><li>'inpatient_data_id_coded'</li><li>'admit_time'</li><li>'label_max24'</li><li>'label_24hr_recent'</li><li>'admit_label'</li><li>'has_admit_label'</li><li>'died_within_24hrs'</li><li>'death_24hr_max_label'</li><li>'death_24hr_recent_label'</li><li>'first_label'</li><li>'first_label_minutes_since_admit'</li><li>'acute_to_critical_label_recent'</li><li>'critical_to_acute_label_recent'</li><li>'acute_to_critical_label_max'</li><li>'critical_to_acute_label_max'</li></ol>\n"
      ],
      "text/latex": [
       "\\begin{enumerate*}\n",
       "\\item 'anon\\_id'\n",
       "\\item 'pat\\_enc\\_csn\\_id\\_coded'\n",
       "\\item 'inpatient\\_data\\_id\\_coded'\n",
       "\\item 'admit\\_time'\n",
       "\\item 'label\\_max24'\n",
       "\\item 'label\\_24hr\\_recent'\n",
       "\\item 'admit\\_label'\n",
       "\\item 'has\\_admit\\_label'\n",
       "\\item 'died\\_within\\_24hrs'\n",
       "\\item 'death\\_24hr\\_max\\_label'\n",
       "\\item 'death\\_24hr\\_recent\\_label'\n",
       "\\item 'first\\_label'\n",
       "\\item 'first\\_label\\_minutes\\_since\\_admit'\n",
       "\\item 'acute\\_to\\_critical\\_label\\_recent'\n",
       "\\item 'critical\\_to\\_acute\\_label\\_recent'\n",
       "\\item 'acute\\_to\\_critical\\_label\\_max'\n",
       "\\item 'critical\\_to\\_acute\\_label\\_max'\n",
       "\\end{enumerate*}\n"
      ],
      "text/markdown": [
       "1. 'anon_id'\n",
       "2. 'pat_enc_csn_id_coded'\n",
       "3. 'inpatient_data_id_coded'\n",
       "4. 'admit_time'\n",
       "5. 'label_max24'\n",
       "6. 'label_24hr_recent'\n",
       "7. 'admit_label'\n",
       "8. 'has_admit_label'\n",
       "9. 'died_within_24hrs'\n",
       "10. 'death_24hr_max_label'\n",
       "11. 'death_24hr_recent_label'\n",
       "12. 'first_label'\n",
       "13. 'first_label_minutes_since_admit'\n",
       "14. 'acute_to_critical_label_recent'\n",
       "15. 'critical_to_acute_label_recent'\n",
       "16. 'acute_to_critical_label_max'\n",
       "17. 'critical_to_acute_label_max'\n",
       "\n",
       "\n"
      ],
      "text/plain": [
       " [1] \"anon_id\"                         \"pat_enc_csn_id_coded\"           \n",
       " [3] \"inpatient_data_id_coded\"         \"admit_time\"                     \n",
       " [5] \"label_max24\"                     \"label_24hr_recent\"              \n",
       " [7] \"admit_label\"                     \"has_admit_label\"                \n",
       " [9] \"died_within_24hrs\"               \"death_24hr_max_label\"           \n",
       "[11] \"death_24hr_recent_label\"         \"first_label\"                    \n",
       "[13] \"first_label_minutes_since_admit\" \"acute_to_critical_label_recent\" \n",
       "[15] \"critical_to_acute_label_recent\"  \"acute_to_critical_label_max\"    \n",
       "[17] \"critical_to_acute_label_max\"    "
      ]
     },
     "metadata": {},
     "output_type": "display_data"
    }
   ],
   "source": [
    "cohort <- read.csv(file.path(cohortdir, '1_4_cohort.csv'))\n",
    "nrow(cohort)\n",
    "colnames(cohort)"
   ]
  },
  {
   "cell_type": "markdown",
   "metadata": {},
   "source": [
    "### Patient visits year and those who transferred"
   ]
  },
  {
   "cell_type": "code",
   "execution_count": 48,
   "metadata": {},
   "outputs": [
    {
     "data": {
      "text/html": [
       "12418"
      ],
      "text/latex": [
       "12418"
      ],
      "text/markdown": [
       "12418"
      ],
      "text/plain": [
       "[1] 12418"
      ]
     },
     "metadata": {},
     "output_type": "display_data"
    },
    {
     "data": {
      "text/plain": [
       "\n",
       " 2019  2020 \n",
       "10115  2303 "
      ]
     },
     "metadata": {},
     "output_type": "display_data"
    },
    {
     "data": {
      "text/html": [
       "805"
      ],
      "text/latex": [
       "805"
      ],
      "text/markdown": [
       "805"
      ],
      "text/plain": [
       "[1] 805"
      ]
     },
     "metadata": {},
     "output_type": "display_data"
    }
   ],
   "source": [
    "cohort_test <-  cohort %>% mutate(admit_time = ymd_hms(admit_time)) %>% \n",
    "                    mutate(adm_year = year(admit_time),\n",
    "                           transfer = ifelse(death_24hr_recent_label != first_label, 1, 0)) %>% \n",
    "                    filter(adm_year > 2018)\n",
    "nrow(cohort_test)\n",
    "table(cohort_test$adm_year)\n",
    "sum(cohort_test$transfer)"
   ]
  },
  {
   "cell_type": "code",
   "execution_count": 49,
   "metadata": {},
   "outputs": [
    {
     "data": {
      "text/plain": [
       "   Min. 1st Qu.  Median    Mean 3rd Qu.    Max. \n",
       "0.00000 0.00000 0.00000 0.09468 0.00000 1.00000 "
      ]
     },
     "metadata": {},
     "output_type": "display_data"
    },
    {
     "data": {
      "text/plain": [
       "   Min. 1st Qu.  Median    Mean 3rd Qu.    Max. \n",
       "  0.000   0.000   0.000   0.104   0.000   1.000 "
      ]
     },
     "metadata": {},
     "output_type": "display_data"
    },
    {
     "data": {
      "text/plain": [
       "   Min. 1st Qu.  Median    Mean 3rd Qu.    Max. \n",
       "0.00000 0.00000 0.00000 0.02247 0.00000 1.00000 "
      ]
     },
     "metadata": {},
     "output_type": "display_data"
    },
    {
     "data": {
      "text/plain": [
       "   Min. 1st Qu.  Median    Mean 3rd Qu.    Max. \n",
       "0.00000 0.00000 0.00000 0.04236 0.00000 1.00000 "
      ]
     },
     "metadata": {},
     "output_type": "display_data"
    },
    {
     "data": {
      "text/html": [
       "526"
      ],
      "text/latex": [
       "526"
      ],
      "text/markdown": [
       "526"
      ],
      "text/plain": [
       "[1] 526"
      ]
     },
     "metadata": {},
     "output_type": "display_data"
    },
    {
     "data": {
      "text/html": [
       "279"
      ],
      "text/latex": [
       "279"
      ],
      "text/markdown": [
       "279"
      ],
      "text/plain": [
       "[1] 279"
      ]
     },
     "metadata": {},
     "output_type": "display_data"
    }
   ],
   "source": [
    "summary(cohort$death_24hr_recent_label)\n",
    "summary(cohort_test$death_24hr_recent_label)\n",
    "summary(cohort_test$acute_to_critical_label_recent)\n",
    "summary(cohort_test$critical_to_acute_label_recent)\n",
    "\n",
    "sum(cohort_test$critical_to_acute_label_recent) #526 + 279 = 805 total transfers\n",
    "sum(cohort_test$acute_to_critical_label_recent)"
   ]
  },
  {
   "cell_type": "markdown",
   "metadata": {},
   "source": [
    "### Patient visits with big differences in predictions at 2 time points"
   ]
  },
  {
   "cell_type": "code",
   "execution_count": 50,
   "metadata": {},
   "outputs": [
    {
     "name": "stdout",
     "output_type": "stream",
     "text": [
      "[1] \"../../OutputTD/3_models/1_4_cohort/death_24hr_max_label\"\n"
     ]
    },
    {
     "name": "stderr",
     "output_type": "stream",
     "text": [
      "Joining, by = \"pat_enc_csn_id_coded\"\n",
      "\n"
     ]
    },
    {
     "name": "stdout",
     "output_type": "stream",
     "text": [
      "[1] \"pred_death_24hr_max\"\n",
      "[1] \"../../OutputTD/3_models/1_4_cohort/death_24hr_recent_label\"\n"
     ]
    },
    {
     "name": "stderr",
     "output_type": "stream",
     "text": [
      "Joining, by = \"pat_enc_csn_id_coded\"\n",
      "\n"
     ]
    },
    {
     "name": "stdout",
     "output_type": "stream",
     "text": [
      "[1] \"pred_death_24hr_recent\"\n",
      "[1] \"../../OutputTD/3_models/1_4_cohort/first_label\"\n"
     ]
    },
    {
     "name": "stderr",
     "output_type": "stream",
     "text": [
      "Joining, by = \"pat_enc_csn_id_coded\"\n",
      "\n"
     ]
    },
    {
     "name": "stdout",
     "output_type": "stream",
     "text": [
      "[1] \"pred_first\"\n"
     ]
    }
   ],
   "source": [
    "# for modeldir4: start at 36\n",
    "for (f in sub.folders){\n",
    "    print(f)\n",
    "    out <- read.csv(paste0(f,\"/\",\"lightgbm_test_results.csv\")) %>% select(pat_enc_csn_id_coded, predictions)\n",
    "    cohort_test <- cohort_test %>% inner_join(out)\n",
    "#     cohort_test[ , ncol(cohort_test) + 1] <- out$predictions\n",
    "#     newcolname <- paste0(\"pred_\", str_sub(f, start=-12))\n",
    "    newcolname <- paste0(\"pred_\", str_sub(f, start=36, end=-7)) # for modeldir4: start at 36\n",
    "    print(newcolname)\n",
    "#     cohort_test <- cohort_test %>% rename(newcolname = predictions)\n",
    "#     print(colnames(cohort_test))\n",
    "    colnames(cohort_test)[ncol(cohort_test)] <- newcolname\n",
    "}"
   ]
  },
  {
   "cell_type": "raw",
   "metadata": {},
   "source": [
    "# for modeldir4preadmit: start at 49\n",
    "for (f in sub.folders){\n",
    "    print(f)\n",
    "    out <- read.csv(paste0(f,\"/\",\"lightgbm_test_results.csv\")) %>% select(pat_enc_csn_id_coded, predictions)\n",
    "    cohort_test <- cohort_test %>% inner_join(out)\n",
    "#     cohort_test[ , ncol(cohort_test) + 1] <- out$predictions\n",
    "#     newcolname <- paste0(\"pred_\", str_sub(f, start=-12))\n",
    "    newcolname <- paste0(\"pred_\", str_sub(f, start=49, end=-7)) # for modeldir4preadmit\n",
    "    print(newcolname)\n",
    "#     cohort_test <- cohort_test %>% rename(newcolname = predictions)\n",
    "#     print(colnames(cohort_test))\n",
    "    colnames(cohort_test)[ncol(cohort_test)] <- newcolname\n",
    "}"
   ]
  },
  {
   "cell_type": "code",
   "execution_count": 51,
   "metadata": {},
   "outputs": [
    {
     "data": {
      "text/html": [
       "<style>\n",
       ".list-inline {list-style: none; margin:0; padding: 0}\n",
       ".list-inline>li {display: inline-block}\n",
       ".list-inline>li:not(:last-child)::after {content: \"\\00b7\"; padding: 0 .5ex}\n",
       "</style>\n",
       "<ol class=list-inline><li>'anon_id'</li><li>'pat_enc_csn_id_coded'</li><li>'inpatient_data_id_coded'</li><li>'admit_time'</li><li>'label_max24'</li><li>'label_24hr_recent'</li><li>'admit_label'</li><li>'has_admit_label'</li><li>'died_within_24hrs'</li><li>'death_24hr_max_label'</li><li>'death_24hr_recent_label'</li><li>'first_label'</li><li>'first_label_minutes_since_admit'</li><li>'acute_to_critical_label_recent'</li><li>'critical_to_acute_label_recent'</li><li>'acute_to_critical_label_max'</li><li>'critical_to_acute_label_max'</li><li>'adm_year'</li><li>'transfer'</li><li>'pred_death_24hr_max'</li><li>'pred_death_24hr_recent'</li><li>'pred_first'</li></ol>\n"
      ],
      "text/latex": [
       "\\begin{enumerate*}\n",
       "\\item 'anon\\_id'\n",
       "\\item 'pat\\_enc\\_csn\\_id\\_coded'\n",
       "\\item 'inpatient\\_data\\_id\\_coded'\n",
       "\\item 'admit\\_time'\n",
       "\\item 'label\\_max24'\n",
       "\\item 'label\\_24hr\\_recent'\n",
       "\\item 'admit\\_label'\n",
       "\\item 'has\\_admit\\_label'\n",
       "\\item 'died\\_within\\_24hrs'\n",
       "\\item 'death\\_24hr\\_max\\_label'\n",
       "\\item 'death\\_24hr\\_recent\\_label'\n",
       "\\item 'first\\_label'\n",
       "\\item 'first\\_label\\_minutes\\_since\\_admit'\n",
       "\\item 'acute\\_to\\_critical\\_label\\_recent'\n",
       "\\item 'critical\\_to\\_acute\\_label\\_recent'\n",
       "\\item 'acute\\_to\\_critical\\_label\\_max'\n",
       "\\item 'critical\\_to\\_acute\\_label\\_max'\n",
       "\\item 'adm\\_year'\n",
       "\\item 'transfer'\n",
       "\\item 'pred\\_death\\_24hr\\_max'\n",
       "\\item 'pred\\_death\\_24hr\\_recent'\n",
       "\\item 'pred\\_first'\n",
       "\\end{enumerate*}\n"
      ],
      "text/markdown": [
       "1. 'anon_id'\n",
       "2. 'pat_enc_csn_id_coded'\n",
       "3. 'inpatient_data_id_coded'\n",
       "4. 'admit_time'\n",
       "5. 'label_max24'\n",
       "6. 'label_24hr_recent'\n",
       "7. 'admit_label'\n",
       "8. 'has_admit_label'\n",
       "9. 'died_within_24hrs'\n",
       "10. 'death_24hr_max_label'\n",
       "11. 'death_24hr_recent_label'\n",
       "12. 'first_label'\n",
       "13. 'first_label_minutes_since_admit'\n",
       "14. 'acute_to_critical_label_recent'\n",
       "15. 'critical_to_acute_label_recent'\n",
       "16. 'acute_to_critical_label_max'\n",
       "17. 'critical_to_acute_label_max'\n",
       "18. 'adm_year'\n",
       "19. 'transfer'\n",
       "20. 'pred_death_24hr_max'\n",
       "21. 'pred_death_24hr_recent'\n",
       "22. 'pred_first'\n",
       "\n",
       "\n"
      ],
      "text/plain": [
       " [1] \"anon_id\"                         \"pat_enc_csn_id_coded\"           \n",
       " [3] \"inpatient_data_id_coded\"         \"admit_time\"                     \n",
       " [5] \"label_max24\"                     \"label_24hr_recent\"              \n",
       " [7] \"admit_label\"                     \"has_admit_label\"                \n",
       " [9] \"died_within_24hrs\"               \"death_24hr_max_label\"           \n",
       "[11] \"death_24hr_recent_label\"         \"first_label\"                    \n",
       "[13] \"first_label_minutes_since_admit\" \"acute_to_critical_label_recent\" \n",
       "[15] \"critical_to_acute_label_recent\"  \"acute_to_critical_label_max\"    \n",
       "[17] \"critical_to_acute_label_max\"     \"adm_year\"                       \n",
       "[19] \"transfer\"                        \"pred_death_24hr_max\"            \n",
       "[21] \"pred_death_24hr_recent\"          \"pred_first\"                     "
      ]
     },
     "metadata": {},
     "output_type": "display_data"
    }
   ],
   "source": [
    "colnames(cohort_test)"
   ]
  },
  {
   "cell_type": "code",
   "execution_count": 52,
   "metadata": {},
   "outputs": [],
   "source": [
    "pred3 <- gather(cohort_test, labels, predictions, pred_death_24hr_max:pred_first, factor_key=TRUE)\n",
    "pred2 <- pred3 %>% filter(labels != 'pred_death_24hr_max')"
   ]
  },
  {
   "cell_type": "code",
   "execution_count": 53,
   "metadata": {},
   "outputs": [
    {
     "name": "stderr",
     "output_type": "stream",
     "text": [
      "`stat_bin()` using `bins = 30`. Pick better value with `binwidth`.\n",
      "\n"
     ]
    },
    {
     "data": {
      "image/png": "[encoded data removed]",
      "text/plain": [
       "plot without title"
      ]
     },
     "metadata": {
      "image/png": {
       "height": 420,
       "width": 420
      }
     },
     "output_type": "display_data"
    }
   ],
   "source": [
    "ggplot(pred2, aes(x = predictions)) +\n",
    "  geom_histogram(fill = \"white\", colour = \"black\") +\n",
    "  facet_grid(labels ~ .)"
   ]
  },
  {
   "cell_type": "code",
   "execution_count": 54,
   "metadata": {},
   "outputs": [
    {
     "data": {
      "image/png": "[encoded data removed]",
      "text/plain": [
       "plot without title"
      ]
     },
     "metadata": {
      "image/png": {
       "height": 420,
       "width": 600
      }
     },
     "output_type": "display_data"
    }
   ],
   "source": [
    "options(repr.plot.width=10, repr.plot.height=7)\n",
    "\n",
    "ggplot(pred2, aes(x = predictions, fill = labels)) +         \n",
    "  geom_histogram(position = \"identity\", alpha = 0.2, bins = 50)"
   ]
  },
  {
   "cell_type": "code",
   "execution_count": 55,
   "metadata": {},
   "outputs": [],
   "source": [
    "cohort_test <- cohort_test %>% mutate(diff0_24 = round(pred_first - pred_death_24hr_recent, 2),\n",
    "                                      abs_diff0_24 = round(abs(pred_first - pred_death_24hr_recent), 1),\n",
    "                                      diff0_True = round(pred_first - first_label, 2),\n",
    "                                      diff24_True = round(pred_death_24hr_recent - death_24hr_recent_label, 2))"
   ]
  },
  {
   "cell_type": "code",
   "execution_count": 56,
   "metadata": {},
   "outputs": [
    {
     "data": {
      "text/html": [
       "12418"
      ],
      "text/latex": [
       "12418"
      ],
      "text/markdown": [
       "12418"
      ],
      "text/plain": [
       "[1] 12418"
      ]
     },
     "metadata": {},
     "output_type": "display_data"
    },
    {
     "data": {
      "text/html": [
       "<style>\n",
       ".list-inline {list-style: none; margin:0; padding: 0}\n",
       ".list-inline>li {display: inline-block}\n",
       ".list-inline>li:not(:last-child)::after {content: \"\\00b7\"; padding: 0 .5ex}\n",
       "</style>\n",
       "<ol class=list-inline><li>'anon_id'</li><li>'pat_enc_csn_id_coded'</li><li>'inpatient_data_id_coded'</li><li>'admit_time'</li><li>'label_max24'</li><li>'label_24hr_recent'</li><li>'admit_label'</li><li>'has_admit_label'</li><li>'died_within_24hrs'</li><li>'death_24hr_max_label'</li><li>'death_24hr_recent_label'</li><li>'first_label'</li><li>'first_label_minutes_since_admit'</li><li>'acute_to_critical_label_recent'</li><li>'critical_to_acute_label_recent'</li><li>'acute_to_critical_label_max'</li><li>'critical_to_acute_label_max'</li><li>'adm_year'</li><li>'transfer'</li><li>'pred_death_24hr_max'</li><li>'pred_death_24hr_recent'</li><li>'pred_first'</li><li>'diff0_24'</li><li>'diff0_True'</li><li>'diff24_True'</li><li>'abs_diff0_24'</li></ol>\n"
      ],
      "text/latex": [
       "\\begin{enumerate*}\n",
       "\\item 'anon\\_id'\n",
       "\\item 'pat\\_enc\\_csn\\_id\\_coded'\n",
       "\\item 'inpatient\\_data\\_id\\_coded'\n",
       "\\item 'admit\\_time'\n",
       "\\item 'label\\_max24'\n",
       "\\item 'label\\_24hr\\_recent'\n",
       "\\item 'admit\\_label'\n",
       "\\item 'has\\_admit\\_label'\n",
       "\\item 'died\\_within\\_24hrs'\n",
       "\\item 'death\\_24hr\\_max\\_label'\n",
       "\\item 'death\\_24hr\\_recent\\_label'\n",
       "\\item 'first\\_label'\n",
       "\\item 'first\\_label\\_minutes\\_since\\_admit'\n",
       "\\item 'acute\\_to\\_critical\\_label\\_recent'\n",
       "\\item 'critical\\_to\\_acute\\_label\\_recent'\n",
       "\\item 'acute\\_to\\_critical\\_label\\_max'\n",
       "\\item 'critical\\_to\\_acute\\_label\\_max'\n",
       "\\item 'adm\\_year'\n",
       "\\item 'transfer'\n",
       "\\item 'pred\\_death\\_24hr\\_max'\n",
       "\\item 'pred\\_death\\_24hr\\_recent'\n",
       "\\item 'pred\\_first'\n",
       "\\item 'diff0\\_24'\n",
       "\\item 'diff0\\_True'\n",
       "\\item 'diff24\\_True'\n",
       "\\item 'abs\\_diff0\\_24'\n",
       "\\end{enumerate*}\n"
      ],
      "text/markdown": [
       "1. 'anon_id'\n",
       "2. 'pat_enc_csn_id_coded'\n",
       "3. 'inpatient_data_id_coded'\n",
       "4. 'admit_time'\n",
       "5. 'label_max24'\n",
       "6. 'label_24hr_recent'\n",
       "7. 'admit_label'\n",
       "8. 'has_admit_label'\n",
       "9. 'died_within_24hrs'\n",
       "10. 'death_24hr_max_label'\n",
       "11. 'death_24hr_recent_label'\n",
       "12. 'first_label'\n",
       "13. 'first_label_minutes_since_admit'\n",
       "14. 'acute_to_critical_label_recent'\n",
       "15. 'critical_to_acute_label_recent'\n",
       "16. 'acute_to_critical_label_max'\n",
       "17. 'critical_to_acute_label_max'\n",
       "18. 'adm_year'\n",
       "19. 'transfer'\n",
       "20. 'pred_death_24hr_max'\n",
       "21. 'pred_death_24hr_recent'\n",
       "22. 'pred_first'\n",
       "23. 'diff0_24'\n",
       "24. 'diff0_True'\n",
       "25. 'diff24_True'\n",
       "26. 'abs_diff0_24'\n",
       "\n",
       "\n"
      ],
      "text/plain": [
       " [1] \"anon_id\"                         \"pat_enc_csn_id_coded\"           \n",
       " [3] \"inpatient_data_id_coded\"         \"admit_time\"                     \n",
       " [5] \"label_max24\"                     \"label_24hr_recent\"              \n",
       " [7] \"admit_label\"                     \"has_admit_label\"                \n",
       " [9] \"died_within_24hrs\"               \"death_24hr_max_label\"           \n",
       "[11] \"death_24hr_recent_label\"         \"first_label\"                    \n",
       "[13] \"first_label_minutes_since_admit\" \"acute_to_critical_label_recent\" \n",
       "[15] \"critical_to_acute_label_recent\"  \"acute_to_critical_label_max\"    \n",
       "[17] \"critical_to_acute_label_max\"     \"adm_year\"                       \n",
       "[19] \"transfer\"                        \"pred_death_24hr_max\"            \n",
       "[21] \"pred_death_24hr_recent\"          \"pred_first\"                     \n",
       "[23] \"diff0_24\"                        \"diff0_True\"                     \n",
       "[25] \"diff24_True\"                     \"abs_diff0_24\"                   "
      ]
     },
     "metadata": {},
     "output_type": "display_data"
    },
    {
     "data": {
      "text/plain": [
       "   anon_id          pat_enc_csn_id_coded inpatient_data_id_coded\n",
       " Length:12418       Min.   :1.313e+11    Min.   :33212811       \n",
       " Class :character   1st Qu.:1.313e+11    1st Qu.:35996148       \n",
       " Mode  :character   Median :1.313e+11    Median :39994636       \n",
       "                    Mean   :1.313e+11    Mean   :40003546       \n",
       "                    3rd Qu.:1.313e+11    3rd Qu.:43886508       \n",
       "                    Max.   :1.313e+11    Max.   :48026130       \n",
       "                                                                \n",
       "   admit_time                   label_max24     label_24hr_recent\n",
       " Min.   :2019-01-01 00:03:00   Min.   :0.0000   Min.   :0.0000   \n",
       " 1st Qu.:2019-04-13 00:01:30   1st Qu.:0.0000   1st Qu.:0.0000   \n",
       " Median :2019-08-04 21:50:30   Median :0.0000   Median :0.0000   \n",
       " Mean   :2019-08-08 00:19:00   Mean   :0.1512   Mean   :0.1033   \n",
       " 3rd Qu.:2019-12-01 06:24:15   3rd Qu.:0.0000   3rd Qu.:0.0000   \n",
       " Max.   :2020-03-31 07:00:00   Max.   :1.0000   Max.   :1.0000   \n",
       "                                                                 \n",
       "  admit_label     has_admit_label  died_within_24hrs  death_24hr_max_label\n",
       " Min.   :0.0000   Min.   :0.0000   Min.   :0.000000   Min.   :0.0000      \n",
       " 1st Qu.:0.0000   1st Qu.:1.0000   1st Qu.:0.000000   1st Qu.:0.0000      \n",
       " Median :0.0000   Median :1.0000   Median :0.000000   Median :0.0000      \n",
       " Mean   :0.1232   Mean   :0.9942   Mean   :0.001611   Mean   :0.1518      \n",
       " 3rd Qu.:0.0000   3rd Qu.:1.0000   3rd Qu.:0.000000   3rd Qu.:0.0000      \n",
       " Max.   :1.0000   Max.   :1.0000   Max.   :1.000000   Max.   :1.0000      \n",
       " NA's   :72                                                               \n",
       " death_24hr_recent_label  first_label     first_label_minutes_since_admit\n",
       " Min.   :0.000           Min.   :0.0000   Min.   :  0.0000               \n",
       " 1st Qu.:0.000           1st Qu.:0.0000   1st Qu.:  0.0000               \n",
       " Median :0.000           Median :0.0000   Median :  0.0000               \n",
       " Mean   :0.104           Mean   :0.1239   Mean   :  0.2184               \n",
       " 3rd Qu.:0.000           3rd Qu.:0.0000   3rd Qu.:  0.0000               \n",
       " Max.   :1.000           Max.   :1.0000   Max.   :551.0000               \n",
       "                                                                         \n",
       " acute_to_critical_label_recent critical_to_acute_label_recent\n",
       " Min.   :0.00000                Min.   :0.00000               \n",
       " 1st Qu.:0.00000                1st Qu.:0.00000               \n",
       " Median :0.00000                Median :0.00000               \n",
       " Mean   :0.02247                Mean   :0.04236               \n",
       " 3rd Qu.:0.00000                3rd Qu.:0.00000               \n",
       " Max.   :1.00000                Max.   :1.00000               \n",
       "                                                              \n",
       " acute_to_critical_label_max critical_to_acute_label_max    adm_year   \n",
       " Min.   :0.00000             Min.   :0                   Min.   :2019  \n",
       " 1st Qu.:0.00000             1st Qu.:0                   1st Qu.:2019  \n",
       " Median :0.00000             Median :0                   Median :2019  \n",
       " Mean   :0.02794             Mean   :0                   Mean   :2019  \n",
       " 3rd Qu.:0.00000             3rd Qu.:0                   3rd Qu.:2019  \n",
       " Max.   :1.00000             Max.   :0                   Max.   :2020  \n",
       "                                                                       \n",
       "    transfer       pred_death_24hr_max pred_death_24hr_recent\n",
       " Min.   :0.00000   Min.   :0.005529    Min.   :0.005263      \n",
       " 1st Qu.:0.00000   1st Qu.:0.025764    1st Qu.:0.021521      \n",
       " Median :0.00000   Median :0.054683    Median :0.040195      \n",
       " Mean   :0.06483   Mean   :0.140604    Mean   :0.098219      \n",
       " 3rd Qu.:0.00000   3rd Qu.:0.162256    3rd Qu.:0.104513      \n",
       " Max.   :1.00000   Max.   :0.974768    Max.   :0.931541      \n",
       "                                                             \n",
       "   pred_first          diff0_24          diff0_True         diff24_True       \n",
       " Min.   :0.003762   Min.   :-0.42000   Min.   :-0.990000   Min.   :-0.990000  \n",
       " 1st Qu.:0.016906   1st Qu.:-0.01000   1st Qu.: 0.010000   1st Qu.: 0.020000  \n",
       " Median :0.037995   Median : 0.00000   Median : 0.030000   Median : 0.030000  \n",
       " Mean   :0.116168   Mean   : 0.01798   Mean   :-0.007673   Mean   :-0.005754  \n",
       " 3rd Qu.:0.119656   3rd Qu.: 0.02000   3rd Qu.: 0.070000   3rd Qu.: 0.070000  \n",
       " Max.   :0.969960   Max.   : 0.73000   Max.   : 0.930000   Max.   : 0.900000  \n",
       "                                                                              \n",
       "  abs_diff0_24    \n",
       " Min.   :0.00000  \n",
       " 1st Qu.:0.00000  \n",
       " Median :0.00000  \n",
       " Mean   :0.03191  \n",
       " 3rd Qu.:0.00000  \n",
       " Max.   :0.70000  \n",
       "                  "
      ]
     },
     "metadata": {},
     "output_type": "display_data"
    }
   ],
   "source": [
    "nrow(cohort_test)\n",
    "colnames(cohort_test)\n",
    "summary(cohort_test)"
   ]
  },
  {
   "cell_type": "code",
   "execution_count": 57,
   "metadata": {},
   "outputs": [
    {
     "data": {
      "text/html": [
       "<style>\n",
       ".dl-inline {width: auto; margin:0; padding: 0}\n",
       ".dl-inline>dt, .dl-inline>dd {float: none; width: auto; display: inline-block}\n",
       ".dl-inline>dt::after {content: \":\\0020\"; padding-right: .5ex}\n",
       ".dl-inline>dt:not(:first-of-type) {padding-left: .5ex}\n",
       "</style><dl class=dl-inline><dt>5%</dt><dd>-0.05</dd><dt>10%</dt><dd>-0.03</dd><dt>20%</dt><dd>-0.01</dd><dt>30%</dt><dd>-0.01</dd><dt>40%</dt><dd>0</dd><dt>50%</dt><dd>0</dd><dt>60%</dt><dd>0</dd><dt>70%</dt><dd>0.01</dd><dt>80%</dt><dd>0.03</dd><dt>90%</dt><dd>0.1</dd><dt>95%</dt><dd>0.18</dd></dl>\n"
      ],
      "text/latex": [
       "\\begin{description*}\n",
       "\\item[5\\textbackslash{}\\%] -0.05\n",
       "\\item[10\\textbackslash{}\\%] -0.03\n",
       "\\item[20\\textbackslash{}\\%] -0.01\n",
       "\\item[30\\textbackslash{}\\%] -0.01\n",
       "\\item[40\\textbackslash{}\\%] 0\n",
       "\\item[50\\textbackslash{}\\%] 0\n",
       "\\item[60\\textbackslash{}\\%] 0\n",
       "\\item[70\\textbackslash{}\\%] 0.01\n",
       "\\item[80\\textbackslash{}\\%] 0.03\n",
       "\\item[90\\textbackslash{}\\%] 0.1\n",
       "\\item[95\\textbackslash{}\\%] 0.18\n",
       "\\end{description*}\n"
      ],
      "text/markdown": [
       "5%\n",
       ":   -0.0510%\n",
       ":   -0.0320%\n",
       ":   -0.0130%\n",
       ":   -0.0140%\n",
       ":   050%\n",
       ":   060%\n",
       ":   070%\n",
       ":   0.0180%\n",
       ":   0.0390%\n",
       ":   0.195%\n",
       ":   0.18\n",
       "\n"
      ],
      "text/plain": [
       "   5%   10%   20%   30%   40%   50%   60%   70%   80%   90%   95% \n",
       "-0.05 -0.03 -0.01 -0.01  0.00  0.00  0.00  0.01  0.03  0.10  0.18 "
      ]
     },
     "metadata": {},
     "output_type": "display_data"
    },
    {
     "data": {
      "text/plain": [
       "    Min.  1st Qu.   Median     Mean  3rd Qu.     Max. \n",
       "-0.42000 -0.01000  0.00000  0.01798  0.02000  0.73000 "
      ]
     },
     "metadata": {},
     "output_type": "display_data"
    },
    {
     "data": {
      "image/png": "[encoded data removed]",
      "text/plain": [
       "Plot with title \"Histogram of cohort_test$diff0_24\""
      ]
     },
     "metadata": {
      "image/png": {
       "height": 420,
       "width": 1200
      }
     },
     "output_type": "display_data"
    }
   ],
   "source": [
    "options(repr.plot.width=20, repr.plot.height=7)\n",
    "\n",
    "quantile(cohort_test$diff0_24, c(.05, .1, .2, 0.3, 0.4, 0.5, 0.6, 0.7, 0.8, 0.9, 0.95)) \n",
    "summary(cohort_test$diff0_24)\n",
    "hist(cohort_test$diff0_24, col='dodgerblue', breaks=100)"
   ]
  },
  {
   "cell_type": "code",
   "execution_count": 58,
   "metadata": {},
   "outputs": [
    {
     "data": {
      "text/html": [
       "323"
      ],
      "text/latex": [
       "323"
      ],
      "text/markdown": [
       "323"
      ],
      "text/plain": [
       "[1] 323"
      ]
     },
     "metadata": {},
     "output_type": "display_data"
    },
    {
     "name": "stderr",
     "output_type": "stream",
     "text": [
      "`summarise()` ungrouping output (override with `.groups` argument)\n",
      "\n"
     ]
    },
    {
     "data": {
      "text/html": [
       "<table>\n",
       "<caption>A tibble: 8 × 4</caption>\n",
       "<thead>\n",
       "\t<tr><th scope=col>abs_diff0_24</th><th scope=col>count</th><th scope=col>cum_count</th><th scope=col>cumperc</th></tr>\n",
       "\t<tr><th scope=col>&lt;dbl&gt;</th><th scope=col>&lt;int&gt;</th><th scope=col>&lt;int&gt;</th><th scope=col>&lt;dbl&gt;</th></tr>\n",
       "</thead>\n",
       "<tbody>\n",
       "\t<tr><td>0.7</td><td>   3</td><td>    3</td><td>  0.02</td></tr>\n",
       "\t<tr><td>0.6</td><td>   7</td><td>   10</td><td>  0.08</td></tr>\n",
       "\t<tr><td>0.5</td><td>  27</td><td>   37</td><td>  0.30</td></tr>\n",
       "\t<tr><td>0.4</td><td>  80</td><td>  117</td><td>  0.94</td></tr>\n",
       "\t<tr><td>0.3</td><td> 206</td><td>  323</td><td>  2.60</td></tr>\n",
       "\t<tr><td>0.2</td><td> 545</td><td>  868</td><td>  6.99</td></tr>\n",
       "\t<tr><td>0.1</td><td>1736</td><td> 2604</td><td> 20.97</td></tr>\n",
       "\t<tr><td>0.0</td><td>9814</td><td>12418</td><td>100.00</td></tr>\n",
       "</tbody>\n",
       "</table>\n"
      ],
      "text/latex": [
       "A tibble: 8 × 4\n",
       "\\begin{tabular}{llll}\n",
       " abs\\_diff0\\_24 & count & cum\\_count & cumperc\\\\\n",
       " <dbl> & <int> & <int> & <dbl>\\\\\n",
       "\\hline\n",
       "\t 0.7 &    3 &     3 &   0.02\\\\\n",
       "\t 0.6 &    7 &    10 &   0.08\\\\\n",
       "\t 0.5 &   27 &    37 &   0.30\\\\\n",
       "\t 0.4 &   80 &   117 &   0.94\\\\\n",
       "\t 0.3 &  206 &   323 &   2.60\\\\\n",
       "\t 0.2 &  545 &   868 &   6.99\\\\\n",
       "\t 0.1 & 1736 &  2604 &  20.97\\\\\n",
       "\t 0.0 & 9814 & 12418 & 100.00\\\\\n",
       "\\end{tabular}\n"
      ],
      "text/markdown": [
       "\n",
       "A tibble: 8 × 4\n",
       "\n",
       "| abs_diff0_24 &lt;dbl&gt; | count &lt;int&gt; | cum_count &lt;int&gt; | cumperc &lt;dbl&gt; |\n",
       "|---|---|---|---|\n",
       "| 0.7 |    3 |     3 |   0.02 |\n",
       "| 0.6 |    7 |    10 |   0.08 |\n",
       "| 0.5 |   27 |    37 |   0.30 |\n",
       "| 0.4 |   80 |   117 |   0.94 |\n",
       "| 0.3 |  206 |   323 |   2.60 |\n",
       "| 0.2 |  545 |   868 |   6.99 |\n",
       "| 0.1 | 1736 |  2604 |  20.97 |\n",
       "| 0.0 | 9814 | 12418 | 100.00 |\n",
       "\n"
      ],
      "text/plain": [
       "  abs_diff0_24 count cum_count cumperc\n",
       "1 0.7             3      3       0.02 \n",
       "2 0.6             7     10       0.08 \n",
       "3 0.5            27     37       0.30 \n",
       "4 0.4            80    117       0.94 \n",
       "5 0.3           206    323       2.60 \n",
       "6 0.2           545    868       6.99 \n",
       "7 0.1          1736   2604      20.97 \n",
       "8 0.0          9814  12418     100.00 "
      ]
     },
     "metadata": {},
     "output_type": "display_data"
    }
   ],
   "source": [
    "# diff <- cohort_test %>% arrange(-abs_diff0_24) %>% \n",
    "#         mutate(rec = 1, pround = round(abs_diff0_24, 1)) %>% \n",
    "#         group_by(pround) %>% mutate(psum = sum(rec)) %>% \n",
    "#         distinct(pround, psum) %>%\n",
    "#         filter(pround > 0) #%>% mutate(cumsize = cumsum(psum)) # %>% select(-rec)\n",
    "\n",
    "# diff$cumsize <- cumsum(diff$psum)\n",
    "\n",
    "nrow(cohort_test %>% filter(abs_diff0_24 >= 0.3))\n",
    "diff <- cohort_test %>% \n",
    "            group_by(abs_diff0_24) %>% summarise(count = n()) %>% arrange(-abs_diff0_24) %>% \n",
    "            mutate(cum_count = cumsum(count), cumperc = round(100*cum_count/nrow(cohort_test), 2)) \n",
    "\n",
    "diff"
   ]
  },
  {
   "cell_type": "code",
   "execution_count": 59,
   "metadata": {},
   "outputs": [
    {
     "data": {
      "image/png": "[encoded data removed]",
      "text/plain": [
       "Plot with title \"Histogram of cohort_test[cohort_test$abs_diff0_24 > 0, \"abs_diff0_24\"]\""
      ]
     },
     "metadata": {
      "image/png": {
       "height": 420,
       "width": 420
      }
     },
     "output_type": "display_data"
    }
   ],
   "source": [
    "# threshold and size plot\n",
    "options(repr.plot.width=7, repr.plot.height=7)\n",
    "\n",
    "# absolute count\n",
    "hist(cohort_test[cohort_test$abs_diff0_24 > 0, 'abs_diff0_24'], col='dodgerblue')"
   ]
  },
  {
   "cell_type": "code",
   "execution_count": 60,
   "metadata": {},
   "outputs": [
    {
     "data": {
      "text/html": [
       "<style>\n",
       ".list-inline {list-style: none; margin:0; padding: 0}\n",
       ".list-inline>li {display: inline-block}\n",
       ".list-inline>li:not(:last-child)::after {content: \"\\00b7\"; padding: 0 .5ex}\n",
       "</style>\n",
       "<ol class=list-inline><li>3</li><li>10</li><li>37</li><li>117</li><li>323</li><li>868</li></ol>\n"
      ],
      "text/latex": [
       "\\begin{enumerate*}\n",
       "\\item 3\n",
       "\\item 10\n",
       "\\item 37\n",
       "\\item 117\n",
       "\\item 323\n",
       "\\item 868\n",
       "\\end{enumerate*}\n"
      ],
      "text/markdown": [
       "1. 3\n",
       "2. 10\n",
       "3. 37\n",
       "4. 117\n",
       "5. 323\n",
       "6. 868\n",
       "\n",
       "\n"
      ],
      "text/plain": [
       "[1]   3  10  37 117 323 868"
      ]
     },
     "metadata": {},
     "output_type": "display_data"
    }
   ],
   "source": [
    "# this remained the same after updating coh4 to remove obs with labs and vitals > 24hr pre admit\n",
    "diff[diff$abs_diff0_24 > 0.1,]$cum_count"
   ]
  },
  {
   "cell_type": "code",
   "execution_count": 61,
   "metadata": {},
   "outputs": [
    {
     "data": {
      "image/png": "[encoded data removed]",
      "text/plain": [
       "plot without title"
      ]
     },
     "metadata": {
      "image/png": {
       "height": 420,
       "width": 420
      }
     },
     "output_type": "display_data"
    }
   ],
   "source": [
    "# cummulative count\n",
    "ggplot(diff[diff$abs_diff0_24 > 0.1, ], aes(x=abs_diff0_24, y=cum_count)) + \n",
    "    geom_point(color = \"#F8766D\", size = 3) + geom_line() +\n",
    "    geom_text(label=diff[diff$abs_diff0_24 > 0.1, ]$cum_count, hjust = 0, nudge_x = 0.005, vjust =0) + \n",
    "    labs(x=\"Differences in Predicted Values between Time 0 and Time 24\", y=\"Count\", \n",
    "               title = \"Differences in Predicted Values vs. Count\") +\n",
    "    theme(axis.text=element_text(size=12),\n",
    "          axis.text.x = element_text(margin=margin(0, 0, 10, 0)), #color = \"red\", \n",
    "          axis.text.y = element_text(margin=margin(0, 0, 0, 10)), #color = \"red\",\n",
    "          plot.title = element_text(size=16, hjust=0.5, margin=margin(0, 0, 10, 0)),\n",
    "          axis.title=element_text(size=14),\n",
    "          legend.key.size = unit(1, \"cm\"))#, face=\"bold\"\n",
    "# ggsave(\"Figure - Count of Differences.png\", width = 14, height = 7, dpi = 1200) "
   ]
  },
  {
   "cell_type": "code",
   "execution_count": 62,
   "metadata": {},
   "outputs": [
    {
     "name": "stderr",
     "output_type": "stream",
     "text": [
      "Scale for 'x' is already present. Adding another scale for 'x', which will\n",
      "replace the existing scale.\n",
      "\n",
      "Scale for 'y' is already present. Adding another scale for 'y', which will\n",
      "replace the existing scale.\n",
      "\n"
     ]
    },
    {
     "data": {
      "image/png": "[encoded data removed]",
      "text/plain": [
       "plot without title"
      ]
     },
     "metadata": {
      "image/png": {
       "height": 420,
       "width": 420
      }
     },
     "output_type": "display_data"
    }
   ],
   "source": [
    "options(repr.plot.width=7, repr.plot.height=7)\n",
    "\n",
    "ggplot(cohort_test, aes(x=pred_first, y=pred_death_24hr_recent)) + \n",
    "    geom_point(color = \"#0072B2\", size = 1) + xlim(0,1) + ylim(0,1) +\n",
    "    geom_abline(intercept = 0, slope = 1, size = 0.7) +\n",
    "    geom_abline(intercept = 0.3, slope = 1, size = 0.7, linetype=2, color = \"#D55E00\") +\n",
    "    geom_abline(intercept = -0.3, slope = 1, size = 0.7, linetype=2, color = \"#D55E00\") +\n",
    "    scale_x_continuous(name = \"predicted values for time 0\", expand = c(0, 0), limits=c(0, 1), \n",
    "                       breaks=c(0, 0.2, 0.4, 0.6, 0.8, 1)) + \n",
    "    scale_y_continuous(name = \" predicted values for time 24\", expand = c(0, 0), limits=c(0, 1), \n",
    "                       breaks=c(0, 0.2, 0.4, 0.6, 0.8, 1)) +\n",
    "    theme(axis.text=element_text(size=12),\n",
    "          axis.text.x = element_text(margin=margin(0, 0, 10, 0)),\n",
    "          axis.text.y = element_text(margin=margin(0, 0, 0, 10)),\n",
    "          plot.title = element_text(size=16, hjust=0.5, margin=margin(0, 0, 10, 0)),\n",
    "          axis.title=element_text(size=14)) +\n",
    "     labs(title = \"Predicted values: time 0 vs time 24\")\n"
   ]
  },
  {
   "cell_type": "code",
   "execution_count": 63,
   "metadata": {},
   "outputs": [],
   "source": [
    "write.csv(cohort_test, file.path(modeldir4, \"1_4_cohort_test_results.csv\"), row.names=FALSE)"
   ]
  },
  {
   "cell_type": "markdown",
   "metadata": {},
   "source": [
    "### Get all features used for prediction for the test cohort"
   ]
  },
  {
   "cell_type": "code",
   "execution_count": 8,
   "metadata": {},
   "outputs": [
    {
     "data": {
      "text/html": [
       "5730678"
      ],
      "text/latex": [
       "5730678"
      ],
      "text/markdown": [
       "5730678"
      ],
      "text/plain": [
       "[1] 5730678"
      ]
     },
     "metadata": {},
     "output_type": "display_data"
    }
   ],
   "source": [
    "orders5 <- read.csv(file.path(datadir, 'coh5_order_code_counts.csv'))\n",
    "nrow(orders5) # should have 5730678"
   ]
  },
  {
   "cell_type": "code",
   "execution_count": 35,
   "metadata": {},
   "outputs": [
    {
     "data": {
      "text/html": [
       "6086852"
      ],
      "text/latex": [
       "6086852"
      ],
      "text/markdown": [
       "6086852"
      ],
      "text/plain": [
       "[1] 6086852"
      ]
     },
     "metadata": {},
     "output_type": "display_data"
    }
   ],
   "source": [
    "orders4 <- read.csv(file.path(datadir, 'coh4_order_code_counts.csv')) %>% \n",
    "            mutate(admit_time = ymd_hms(admit_time),\n",
    "                   feature_type = ifelse(str_detect(feature_type, \"Microbiology\"), \"Microbiology\", feature_type))\n",
    "nrow(orders4) # 6086852"
   ]
  },
  {
   "cell_type": "code",
   "execution_count": 39,
   "metadata": {},
   "outputs": [
    {
     "data": {
      "text/html": [
       "3085046"
      ],
      "text/latex": [
       "3085046"
      ],
      "text/markdown": [
       "3085046"
      ],
      "text/plain": [
       "[1] 3085046"
      ]
     },
     "metadata": {},
     "output_type": "display_data"
    }
   ],
   "source": [
    "values <- read.csv(file.path(featuredir, '2_7_coh4_feature_values.csv')) %>% \n",
    "                    mutate(admit_time = ymd_hms(admit_time), time = ymd_hms(time),\n",
    "                           hr_before_admit = round(as.numeric(difftime(admit_time, time, unit=\"hours\")), 1))\n",
    "nrow(values) #3085046"
   ]
  },
  {
   "cell_type": "code",
   "execution_count": 64,
   "metadata": {},
   "outputs": [
    {
     "data": {
      "text/html": [
       "<style>\n",
       ".list-inline {list-style: none; margin:0; padding: 0}\n",
       ".list-inline>li {display: inline-block}\n",
       ".list-inline>li:not(:last-child)::after {content: \"\\00b7\"; padding: 0 .5ex}\n",
       "</style>\n",
       "<ol class=list-inline><li>'anon_id'</li><li>'pat_enc_csn_id_coded'</li><li>'admit_time'</li><li>'feature_type'</li><li>'features'</li><li>'values'</li></ol>\n"
      ],
      "text/latex": [
       "\\begin{enumerate*}\n",
       "\\item 'anon\\_id'\n",
       "\\item 'pat\\_enc\\_csn\\_id\\_coded'\n",
       "\\item 'admit\\_time'\n",
       "\\item 'feature\\_type'\n",
       "\\item 'features'\n",
       "\\item 'values'\n",
       "\\end{enumerate*}\n"
      ],
      "text/markdown": [
       "1. 'anon_id'\n",
       "2. 'pat_enc_csn_id_coded'\n",
       "3. 'admit_time'\n",
       "4. 'feature_type'\n",
       "5. 'features'\n",
       "6. 'values'\n",
       "\n",
       "\n"
      ],
      "text/plain": [
       "[1] \"anon_id\"              \"pat_enc_csn_id_coded\" \"admit_time\"          \n",
       "[4] \"feature_type\"         \"features\"             \"values\"              "
      ]
     },
     "metadata": {},
     "output_type": "display_data"
    },
    {
     "data": {
      "text/html": [
       "<style>\n",
       ".list-inline {list-style: none; margin:0; padding: 0}\n",
       ".list-inline>li {display: inline-block}\n",
       ".list-inline>li:not(:last-child)::after {content: \"\\00b7\"; padding: 0 .5ex}\n",
       "</style>\n",
       "<ol class=list-inline><li>'anon_id'</li><li>'pat_enc_csn_id_coded'</li><li>'admit_time'</li><li>'first_label'</li><li>'death_24hr_recent_label'</li><li>'death_24hr_max_label'</li><li>'feature_type'</li><li>'features'</li><li>'values'</li><li>'time'</li><li>'hr_before_admit'</li></ol>\n"
      ],
      "text/latex": [
       "\\begin{enumerate*}\n",
       "\\item 'anon\\_id'\n",
       "\\item 'pat\\_enc\\_csn\\_id\\_coded'\n",
       "\\item 'admit\\_time'\n",
       "\\item 'first\\_label'\n",
       "\\item 'death\\_24hr\\_recent\\_label'\n",
       "\\item 'death\\_24hr\\_max\\_label'\n",
       "\\item 'feature\\_type'\n",
       "\\item 'features'\n",
       "\\item 'values'\n",
       "\\item 'time'\n",
       "\\item 'hr\\_before\\_admit'\n",
       "\\end{enumerate*}\n"
      ],
      "text/markdown": [
       "1. 'anon_id'\n",
       "2. 'pat_enc_csn_id_coded'\n",
       "3. 'admit_time'\n",
       "4. 'first_label'\n",
       "5. 'death_24hr_recent_label'\n",
       "6. 'death_24hr_max_label'\n",
       "7. 'feature_type'\n",
       "8. 'features'\n",
       "9. 'values'\n",
       "10. 'time'\n",
       "11. 'hr_before_admit'\n",
       "\n",
       "\n"
      ],
      "text/plain": [
       " [1] \"anon_id\"                 \"pat_enc_csn_id_coded\"   \n",
       " [3] \"admit_time\"              \"first_label\"            \n",
       " [5] \"death_24hr_recent_label\" \"death_24hr_max_label\"   \n",
       " [7] \"feature_type\"            \"features\"               \n",
       " [9] \"values\"                  \"time\"                   \n",
       "[11] \"hr_before_admit\"        "
      ]
     },
     "metadata": {},
     "output_type": "display_data"
    },
    {
     "data": {
      "text/html": [
       "<style>\n",
       ".list-inline {list-style: none; margin:0; padding: 0}\n",
       ".list-inline>li {display: inline-block}\n",
       ".list-inline>li:not(:last-child)::after {content: \"\\00b7\"; padding: 0 .5ex}\n",
       "</style>\n",
       "<ol class=list-inline><li>'anon_id'</li><li>'pat_enc_csn_id_coded'</li><li>'inpatient_data_id_coded'</li><li>'admit_time'</li><li>'label_max24'</li><li>'label_24hr_recent'</li><li>'admit_label'</li><li>'has_admit_label'</li><li>'died_within_24hrs'</li><li>'death_24hr_max_label'</li><li>'death_24hr_recent_label'</li><li>'first_label'</li><li>'first_label_minutes_since_admit'</li><li>'acute_to_critical_label_recent'</li><li>'critical_to_acute_label_recent'</li><li>'acute_to_critical_label_max'</li><li>'critical_to_acute_label_max'</li><li>'adm_year'</li><li>'transfer'</li><li>'pred_death_24hr_max'</li><li>'pred_death_24hr_recent'</li><li>'pred_first'</li><li>'diff0_24'</li><li>'diff0_True'</li><li>'diff24_True'</li><li>'abs_diff0_24'</li></ol>\n"
      ],
      "text/latex": [
       "\\begin{enumerate*}\n",
       "\\item 'anon\\_id'\n",
       "\\item 'pat\\_enc\\_csn\\_id\\_coded'\n",
       "\\item 'inpatient\\_data\\_id\\_coded'\n",
       "\\item 'admit\\_time'\n",
       "\\item 'label\\_max24'\n",
       "\\item 'label\\_24hr\\_recent'\n",
       "\\item 'admit\\_label'\n",
       "\\item 'has\\_admit\\_label'\n",
       "\\item 'died\\_within\\_24hrs'\n",
       "\\item 'death\\_24hr\\_max\\_label'\n",
       "\\item 'death\\_24hr\\_recent\\_label'\n",
       "\\item 'first\\_label'\n",
       "\\item 'first\\_label\\_minutes\\_since\\_admit'\n",
       "\\item 'acute\\_to\\_critical\\_label\\_recent'\n",
       "\\item 'critical\\_to\\_acute\\_label\\_recent'\n",
       "\\item 'acute\\_to\\_critical\\_label\\_max'\n",
       "\\item 'critical\\_to\\_acute\\_label\\_max'\n",
       "\\item 'adm\\_year'\n",
       "\\item 'transfer'\n",
       "\\item 'pred\\_death\\_24hr\\_max'\n",
       "\\item 'pred\\_death\\_24hr\\_recent'\n",
       "\\item 'pred\\_first'\n",
       "\\item 'diff0\\_24'\n",
       "\\item 'diff0\\_True'\n",
       "\\item 'diff24\\_True'\n",
       "\\item 'abs\\_diff0\\_24'\n",
       "\\end{enumerate*}\n"
      ],
      "text/markdown": [
       "1. 'anon_id'\n",
       "2. 'pat_enc_csn_id_coded'\n",
       "3. 'inpatient_data_id_coded'\n",
       "4. 'admit_time'\n",
       "5. 'label_max24'\n",
       "6. 'label_24hr_recent'\n",
       "7. 'admit_label'\n",
       "8. 'has_admit_label'\n",
       "9. 'died_within_24hrs'\n",
       "10. 'death_24hr_max_label'\n",
       "11. 'death_24hr_recent_label'\n",
       "12. 'first_label'\n",
       "13. 'first_label_minutes_since_admit'\n",
       "14. 'acute_to_critical_label_recent'\n",
       "15. 'critical_to_acute_label_recent'\n",
       "16. 'acute_to_critical_label_max'\n",
       "17. 'critical_to_acute_label_max'\n",
       "18. 'adm_year'\n",
       "19. 'transfer'\n",
       "20. 'pred_death_24hr_max'\n",
       "21. 'pred_death_24hr_recent'\n",
       "22. 'pred_first'\n",
       "23. 'diff0_24'\n",
       "24. 'diff0_True'\n",
       "25. 'diff24_True'\n",
       "26. 'abs_diff0_24'\n",
       "\n",
       "\n"
      ],
      "text/plain": [
       " [1] \"anon_id\"                         \"pat_enc_csn_id_coded\"           \n",
       " [3] \"inpatient_data_id_coded\"         \"admit_time\"                     \n",
       " [5] \"label_max24\"                     \"label_24hr_recent\"              \n",
       " [7] \"admit_label\"                     \"has_admit_label\"                \n",
       " [9] \"died_within_24hrs\"               \"death_24hr_max_label\"           \n",
       "[11] \"death_24hr_recent_label\"         \"first_label\"                    \n",
       "[13] \"first_label_minutes_since_admit\" \"acute_to_critical_label_recent\" \n",
       "[15] \"critical_to_acute_label_recent\"  \"acute_to_critical_label_max\"    \n",
       "[17] \"critical_to_acute_label_max\"     \"adm_year\"                       \n",
       "[19] \"transfer\"                        \"pred_death_24hr_max\"            \n",
       "[21] \"pred_death_24hr_recent\"          \"pred_first\"                     \n",
       "[23] \"diff0_24\"                        \"diff0_True\"                     \n",
       "[25] \"diff24_True\"                     \"abs_diff0_24\"                   "
      ]
     },
     "metadata": {},
     "output_type": "display_data"
    },
    {
     "data": {
      "text/html": [
       "12418"
      ],
      "text/latex": [
       "12418"
      ],
      "text/markdown": [
       "12418"
      ],
      "text/plain": [
       "[1] 12418"
      ]
     },
     "metadata": {},
     "output_type": "display_data"
    }
   ],
   "source": [
    "colnames(orders4)\n",
    "colnames(values)\n",
    "colnames(cohort_test)\n",
    "nrow(cohort_test)"
   ]
  },
  {
   "cell_type": "raw",
   "metadata": {},
   "source": [
    "# used for preadmit24\n",
    "nrow(values %>% filter(feature_type %in% c('vitals', 'labs'), hr_before_admit > 24))\n",
    "nrow(values)\n",
    "values <- values %>% filter(hr_before_admit <= 24 | is.na(hr_before_admit))\n",
    "nrow(values)"
   ]
  },
  {
   "cell_type": "raw",
   "metadata": {},
   "source": [
    "3085046 - 40070"
   ]
  },
  {
   "cell_type": "code",
   "execution_count": 65,
   "metadata": {},
   "outputs": [],
   "source": [
    "cohort_diff <- cohort_test %>% select(anon_id, pat_enc_csn_id_coded, admit_time, \n",
    "                                      first_label, death_24hr_recent_label, death_24hr_max_label,\n",
    "                                      pred_first, pred_death_24hr_recent, abs_diff0_24, diff0_True, diff24_True) %>% \n",
    "                    filter(abs_diff0_24 >= 0.3)"
   ]
  },
  {
   "cell_type": "code",
   "execution_count": 66,
   "metadata": {},
   "outputs": [
    {
     "name": "stderr",
     "output_type": "stream",
     "text": [
      "Joining, by = c(\"anon_id\", \"pat_enc_csn_id_coded\", \"admit_time\")\n",
      "\n",
      "Joining, by = c(\"anon_id\", \"pat_enc_csn_id_coded\", \"admit_time\", \"first_label\", \"death_24hr_recent_label\", \"death_24hr_max_label\")\n",
      "\n"
     ]
    },
    {
     "data": {
      "text/html": [
       "323"
      ],
      "text/latex": [
       "323"
      ],
      "text/markdown": [
       "323"
      ],
      "text/plain": [
       "[1] 323"
      ]
     },
     "metadata": {},
     "output_type": "display_data"
    },
    {
     "data": {
      "text/html": [
       "323"
      ],
      "text/latex": [
       "323"
      ],
      "text/markdown": [
       "323"
      ],
      "text/plain": [
       "[1] 323"
      ]
     },
     "metadata": {},
     "output_type": "display_data"
    }
   ],
   "source": [
    "diff_cohort_orders <- left_join(cohort_diff, orders4)\n",
    "diff_cohort_values <- left_join(cohort_diff, values) \n",
    "length(unique(diff_cohort_orders$pat_enc_csn_id_coded))\n",
    "length(unique(diff_cohort_values$pat_enc_csn_id_coded))"
   ]
  },
  {
   "cell_type": "code",
   "execution_count": 67,
   "metadata": {},
   "outputs": [
    {
     "data": {
      "text/html": [
       "40883"
      ],
      "text/latex": [
       "40883"
      ],
      "text/markdown": [
       "40883"
      ],
      "text/plain": [
       "[1] 40883"
      ]
     },
     "metadata": {},
     "output_type": "display_data"
    },
    {
     "data": {
      "text/html": [
       "30806"
      ],
      "text/latex": [
       "30806"
      ],
      "text/markdown": [
       "30806"
      ],
      "text/plain": [
       "[1] 30806"
      ]
     },
     "metadata": {},
     "output_type": "display_data"
    },
    {
     "name": "stderr",
     "output_type": "stream",
     "text": [
      "`summarise()` ungrouping output (override with `.groups` argument)\n",
      "\n"
     ]
    },
    {
     "data": {
      "text/html": [
       "<table>\n",
       "<caption>A tibble: 6 × 2</caption>\n",
       "<thead>\n",
       "\t<tr><th scope=col>feature_type</th><th scope=col>n</th></tr>\n",
       "\t<tr><th scope=col>&lt;chr&gt;</th><th scope=col>&lt;int&gt;</th></tr>\n",
       "</thead>\n",
       "<tbody>\n",
       "\t<tr><td>Microbiology</td><td>  206</td></tr>\n",
       "\t<tr><td>Procedures  </td><td>  513</td></tr>\n",
       "\t<tr><td>Imaging     </td><td> 1837</td></tr>\n",
       "\t<tr><td>Lab         </td><td> 6357</td></tr>\n",
       "\t<tr><td>Meds        </td><td>12453</td></tr>\n",
       "\t<tr><td>Diagnosis   </td><td>19517</td></tr>\n",
       "</tbody>\n",
       "</table>\n"
      ],
      "text/latex": [
       "A tibble: 6 × 2\n",
       "\\begin{tabular}{ll}\n",
       " feature\\_type & n\\\\\n",
       " <chr> & <int>\\\\\n",
       "\\hline\n",
       "\t Microbiology &   206\\\\\n",
       "\t Procedures   &   513\\\\\n",
       "\t Imaging      &  1837\\\\\n",
       "\t Lab          &  6357\\\\\n",
       "\t Meds         & 12453\\\\\n",
       "\t Diagnosis    & 19517\\\\\n",
       "\\end{tabular}\n"
      ],
      "text/markdown": [
       "\n",
       "A tibble: 6 × 2\n",
       "\n",
       "| feature_type &lt;chr&gt; | n &lt;int&gt; |\n",
       "|---|---|\n",
       "| Microbiology |   206 |\n",
       "| Procedures   |   513 |\n",
       "| Imaging      |  1837 |\n",
       "| Lab          |  6357 |\n",
       "| Meds         | 12453 |\n",
       "| Diagnosis    | 19517 |\n",
       "\n"
      ],
      "text/plain": [
       "  feature_type n    \n",
       "1 Microbiology   206\n",
       "2 Procedures     513\n",
       "3 Imaging       1837\n",
       "4 Lab           6357\n",
       "5 Meds         12453\n",
       "6 Diagnosis    19517"
      ]
     },
     "metadata": {},
     "output_type": "display_data"
    },
    {
     "name": "stderr",
     "output_type": "stream",
     "text": [
      "`summarise()` ungrouping output (override with `.groups` argument)\n",
      "\n"
     ]
    },
    {
     "data": {
      "text/html": [
       "<table>\n",
       "<caption>A tibble: 3 × 2</caption>\n",
       "<thead>\n",
       "\t<tr><th scope=col>feature_type</th><th scope=col>n</th></tr>\n",
       "\t<tr><th scope=col>&lt;chr&gt;</th><th scope=col>&lt;int&gt;</th></tr>\n",
       "</thead>\n",
       "<tbody>\n",
       "\t<tr><td>demo  </td><td> 5491</td></tr>\n",
       "\t<tr><td>vitals</td><td>12513</td></tr>\n",
       "\t<tr><td>labs  </td><td>12802</td></tr>\n",
       "</tbody>\n",
       "</table>\n"
      ],
      "text/latex": [
       "A tibble: 3 × 2\n",
       "\\begin{tabular}{ll}\n",
       " feature\\_type & n\\\\\n",
       " <chr> & <int>\\\\\n",
       "\\hline\n",
       "\t demo   &  5491\\\\\n",
       "\t vitals & 12513\\\\\n",
       "\t labs   & 12802\\\\\n",
       "\\end{tabular}\n"
      ],
      "text/markdown": [
       "\n",
       "A tibble: 3 × 2\n",
       "\n",
       "| feature_type &lt;chr&gt; | n &lt;int&gt; |\n",
       "|---|---|\n",
       "| demo   |  5491 |\n",
       "| vitals | 12513 |\n",
       "| labs   | 12802 |\n",
       "\n"
      ],
      "text/plain": [
       "  feature_type n    \n",
       "1 demo          5491\n",
       "2 vitals       12513\n",
       "3 labs         12802"
      ]
     },
     "metadata": {},
     "output_type": "display_data"
    }
   ],
   "source": [
    "nrow(diff_cohort_orders)\n",
    "nrow(diff_cohort_values) # only 1 less than before \n",
    "diff_cohort_orders %>% group_by(feature_type) %>% summarise(n = n()) %>% arrange(n)\n",
    "diff_cohort_values %>% group_by(feature_type) %>% summarise(n = n()) %>% arrange(n)"
   ]
  },
  {
   "cell_type": "code",
   "execution_count": 68,
   "metadata": {},
   "outputs": [
    {
     "name": "stderr",
     "output_type": "stream",
     "text": [
      "Joining, by = c(\"anon_id\", \"pat_enc_csn_id_coded\", \"admit_time\", \"first_label\", \"death_24hr_recent_label\", \"death_24hr_max_label\", \"pred_first\", \"pred_death_24hr_recent\", \"abs_diff0_24\", \"diff0_True\", \"diff24_True\", \"feature_type\", \"features\", \"values\")\n",
      "\n"
     ]
    },
    {
     "data": {
      "text/html": [
       "71689"
      ],
      "text/latex": [
       "71689"
      ],
      "text/markdown": [
       "71689"
      ],
      "text/plain": [
       "[1] 71689"
      ]
     },
     "metadata": {},
     "output_type": "display_data"
    },
    {
     "data": {
      "text/html": [
       "71689"
      ],
      "text/latex": [
       "71689"
      ],
      "text/markdown": [
       "71689"
      ],
      "text/plain": [
       "[1] 71689"
      ]
     },
     "metadata": {},
     "output_type": "display_data"
    },
    {
     "data": {
      "text/html": [
       "323"
      ],
      "text/latex": [
       "323"
      ],
      "text/markdown": [
       "323"
      ],
      "text/plain": [
       "[1] 323"
      ]
     },
     "metadata": {},
     "output_type": "display_data"
    },
    {
     "name": "stderr",
     "output_type": "stream",
     "text": [
      "`summarise()` ungrouping output (override with `.groups` argument)\n",
      "\n"
     ]
    },
    {
     "data": {
      "text/html": [
       "<table>\n",
       "<caption>A tibble: 9 × 2</caption>\n",
       "<thead>\n",
       "\t<tr><th scope=col>feature_type</th><th scope=col>n</th></tr>\n",
       "\t<tr><th scope=col>&lt;chr&gt;</th><th scope=col>&lt;int&gt;</th></tr>\n",
       "</thead>\n",
       "<tbody>\n",
       "\t<tr><td>Microbiology</td><td>  206</td></tr>\n",
       "\t<tr><td>Procedures  </td><td>  513</td></tr>\n",
       "\t<tr><td>Imaging     </td><td> 1837</td></tr>\n",
       "\t<tr><td>demo        </td><td> 5491</td></tr>\n",
       "\t<tr><td>Lab         </td><td> 6357</td></tr>\n",
       "\t<tr><td>Meds        </td><td>12453</td></tr>\n",
       "\t<tr><td>vitals      </td><td>12513</td></tr>\n",
       "\t<tr><td>labs        </td><td>12802</td></tr>\n",
       "\t<tr><td>Diagnosis   </td><td>19517</td></tr>\n",
       "</tbody>\n",
       "</table>\n"
      ],
      "text/latex": [
       "A tibble: 9 × 2\n",
       "\\begin{tabular}{ll}\n",
       " feature\\_type & n\\\\\n",
       " <chr> & <int>\\\\\n",
       "\\hline\n",
       "\t Microbiology &   206\\\\\n",
       "\t Procedures   &   513\\\\\n",
       "\t Imaging      &  1837\\\\\n",
       "\t demo         &  5491\\\\\n",
       "\t Lab          &  6357\\\\\n",
       "\t Meds         & 12453\\\\\n",
       "\t vitals       & 12513\\\\\n",
       "\t labs         & 12802\\\\\n",
       "\t Diagnosis    & 19517\\\\\n",
       "\\end{tabular}\n"
      ],
      "text/markdown": [
       "\n",
       "A tibble: 9 × 2\n",
       "\n",
       "| feature_type &lt;chr&gt; | n &lt;int&gt; |\n",
       "|---|---|\n",
       "| Microbiology |   206 |\n",
       "| Procedures   |   513 |\n",
       "| Imaging      |  1837 |\n",
       "| demo         |  5491 |\n",
       "| Lab          |  6357 |\n",
       "| Meds         | 12453 |\n",
       "| vitals       | 12513 |\n",
       "| labs         | 12802 |\n",
       "| Diagnosis    | 19517 |\n",
       "\n"
      ],
      "text/plain": [
       "  feature_type n    \n",
       "1 Microbiology   206\n",
       "2 Procedures     513\n",
       "3 Imaging       1837\n",
       "4 demo          5491\n",
       "5 Lab           6357\n",
       "6 Meds         12453\n",
       "7 vitals       12513\n",
       "8 labs         12802\n",
       "9 Diagnosis    19517"
      ]
     },
     "metadata": {},
     "output_type": "display_data"
    }
   ],
   "source": [
    "diff_cohort_full_features <- full_join(diff_cohort_orders, diff_cohort_values) \n",
    "nrow(diff_cohort_full_features) # only 1 less\n",
    "nrow(diff_cohort_orders) + nrow(diff_cohort_values)\n",
    "length(unique(diff_cohort_full_features$pat_enc_csn_id_coded))\n",
    "diff_cohort_full_features %>% group_by(feature_type) %>% summarise(n = n()) %>% arrange(n)"
   ]
  },
  {
   "cell_type": "code",
   "execution_count": 69,
   "metadata": {},
   "outputs": [],
   "source": [
    "write.csv(diff_cohort_full_features, file.path(modeldir4, \"1_4_cohort_diff_full_features.csv\"), row.names=FALSE)"
   ]
  },
  {
   "cell_type": "markdown",
   "metadata": {},
   "source": [
    "### Patient visits predictions vs. truth\n"
   ]
  },
  {
   "cell_type": "code",
   "execution_count": 70,
   "metadata": {},
   "outputs": [
    {
     "data": {
      "text/plain": [
       "     Min.   1st Qu.    Median      Mean   3rd Qu.      Max. \n",
       "-0.990000  0.010000  0.030000 -0.007673  0.070000  0.930000 "
      ]
     },
     "metadata": {},
     "output_type": "display_data"
    },
    {
     "data": {
      "text/plain": [
       "     Min.   1st Qu.    Median      Mean   3rd Qu.      Max. \n",
       "-0.990000  0.020000  0.030000 -0.005754  0.070000  0.900000 "
      ]
     },
     "metadata": {},
     "output_type": "display_data"
    }
   ],
   "source": [
    "summary(cohort_test$diff0_True)\n",
    "summary(cohort_test$diff24_True)"
   ]
  },
  {
   "cell_type": "code",
   "execution_count": 71,
   "metadata": {},
   "outputs": [],
   "source": [
    "diff3 <- gather(cohort_test, diffs, values, diff0_24:diff24_True, factor_key=TRUE)\n",
    "diff2 <- diff3 %>% filter(diffs != 'diff0_24')"
   ]
  },
  {
   "cell_type": "code",
   "execution_count": 72,
   "metadata": {},
   "outputs": [
    {
     "name": "stderr",
     "output_type": "stream",
     "text": [
      "`stat_bin()` using `bins = 30`. Pick better value with `binwidth`.\n",
      "\n"
     ]
    },
    {
     "data": {
      "image/png": "[encoded data removed]",
      "text/plain": [
       "plot without title"
      ]
     },
     "metadata": {
      "image/png": {
       "height": 600,
       "width": 420
      }
     },
     "output_type": "display_data"
    }
   ],
   "source": [
    "options(repr.plot.width=7, repr.plot.height=10)\n",
    "\n",
    "ggplot(diff2, aes(x = values)) +\n",
    "  geom_histogram(fill = \"white\", colour = \"black\") +\n",
    "  facet_grid(diffs ~ .)"
   ]
  },
  {
   "cell_type": "markdown",
   "metadata": {},
   "source": [
    "### "
   ]
  },
  {
   "cell_type": "markdown",
   "metadata": {},
   "source": [
    "### Check most difference first (33 vs 37)\n",
    "- 0.7 or more: 3 vs 4\n",
    "- 0.6 or more: 11 vs 10\n",
    "- 0.5 or more: 19 vs 23"
   ]
  },
  {
   "cell_type": "code",
   "execution_count": 73,
   "metadata": {},
   "outputs": [
    {
     "data": {
      "text/html": [
       "<table>\n",
       "<caption>A tibble: 8 × 4</caption>\n",
       "<thead>\n",
       "\t<tr><th scope=col>abs_diff0_24</th><th scope=col>count</th><th scope=col>cum_count</th><th scope=col>cumperc</th></tr>\n",
       "\t<tr><th scope=col>&lt;dbl&gt;</th><th scope=col>&lt;int&gt;</th><th scope=col>&lt;int&gt;</th><th scope=col>&lt;dbl&gt;</th></tr>\n",
       "</thead>\n",
       "<tbody>\n",
       "\t<tr><td>0.7</td><td>   3</td><td>    3</td><td>  0.02</td></tr>\n",
       "\t<tr><td>0.6</td><td>   7</td><td>   10</td><td>  0.08</td></tr>\n",
       "\t<tr><td>0.5</td><td>  27</td><td>   37</td><td>  0.30</td></tr>\n",
       "\t<tr><td>0.4</td><td>  80</td><td>  117</td><td>  0.94</td></tr>\n",
       "\t<tr><td>0.3</td><td> 206</td><td>  323</td><td>  2.60</td></tr>\n",
       "\t<tr><td>0.2</td><td> 545</td><td>  868</td><td>  6.99</td></tr>\n",
       "\t<tr><td>0.1</td><td>1736</td><td> 2604</td><td> 20.97</td></tr>\n",
       "\t<tr><td>0.0</td><td>9814</td><td>12418</td><td>100.00</td></tr>\n",
       "</tbody>\n",
       "</table>\n"
      ],
      "text/latex": [
       "A tibble: 8 × 4\n",
       "\\begin{tabular}{llll}\n",
       " abs\\_diff0\\_24 & count & cum\\_count & cumperc\\\\\n",
       " <dbl> & <int> & <int> & <dbl>\\\\\n",
       "\\hline\n",
       "\t 0.7 &    3 &     3 &   0.02\\\\\n",
       "\t 0.6 &    7 &    10 &   0.08\\\\\n",
       "\t 0.5 &   27 &    37 &   0.30\\\\\n",
       "\t 0.4 &   80 &   117 &   0.94\\\\\n",
       "\t 0.3 &  206 &   323 &   2.60\\\\\n",
       "\t 0.2 &  545 &   868 &   6.99\\\\\n",
       "\t 0.1 & 1736 &  2604 &  20.97\\\\\n",
       "\t 0.0 & 9814 & 12418 & 100.00\\\\\n",
       "\\end{tabular}\n"
      ],
      "text/markdown": [
       "\n",
       "A tibble: 8 × 4\n",
       "\n",
       "| abs_diff0_24 &lt;dbl&gt; | count &lt;int&gt; | cum_count &lt;int&gt; | cumperc &lt;dbl&gt; |\n",
       "|---|---|---|---|\n",
       "| 0.7 |    3 |     3 |   0.02 |\n",
       "| 0.6 |    7 |    10 |   0.08 |\n",
       "| 0.5 |   27 |    37 |   0.30 |\n",
       "| 0.4 |   80 |   117 |   0.94 |\n",
       "| 0.3 |  206 |   323 |   2.60 |\n",
       "| 0.2 |  545 |   868 |   6.99 |\n",
       "| 0.1 | 1736 |  2604 |  20.97 |\n",
       "| 0.0 | 9814 | 12418 | 100.00 |\n",
       "\n"
      ],
      "text/plain": [
       "  abs_diff0_24 count cum_count cumperc\n",
       "1 0.7             3      3       0.02 \n",
       "2 0.6             7     10       0.08 \n",
       "3 0.5            27     37       0.30 \n",
       "4 0.4            80    117       0.94 \n",
       "5 0.3           206    323       2.60 \n",
       "6 0.2           545    868       6.99 \n",
       "7 0.1          1736   2604      20.97 \n",
       "8 0.0          9814  12418     100.00 "
      ]
     },
     "metadata": {},
     "output_type": "display_data"
    }
   ],
   "source": [
    "diff"
   ]
  },
  {
   "cell_type": "markdown",
   "metadata": {},
   "source": [
    "### Get the full data for the cohort for exploratory analysis"
   ]
  },
  {
   "cell_type": "code",
   "execution_count": 74,
   "metadata": {},
   "outputs": [],
   "source": [
    "cohort <- cohort %>% mutate(admit_time = ymd_hms(admit_time)) "
   ]
  },
  {
   "cell_type": "code",
   "execution_count": 75,
   "metadata": {},
   "outputs": [
    {
     "name": "stderr",
     "output_type": "stream",
     "text": [
      "Joining, by = c(\"anon_id\", \"pat_enc_csn_id_coded\", \"admit_time\")\n",
      "\n",
      "Joining, by = c(\"anon_id\", \"pat_enc_csn_id_coded\", \"admit_time\", \"death_24hr_max_label\", \"death_24hr_recent_label\", \"first_label\")\n",
      "\n",
      "`summarise()` ungrouping output (override with `.groups` argument)\n",
      "\n"
     ]
    },
    {
     "data": {
      "text/html": [
       "<table>\n",
       "<caption>A tibble: 6 × 2</caption>\n",
       "<thead>\n",
       "\t<tr><th scope=col>feature_type</th><th scope=col>n</th></tr>\n",
       "\t<tr><th scope=col>&lt;chr&gt;</th><th scope=col>&lt;int&gt;</th></tr>\n",
       "</thead>\n",
       "<tbody>\n",
       "\t<tr><td>Microbiology</td><td>  39017</td></tr>\n",
       "\t<tr><td>Procedures  </td><td>  51696</td></tr>\n",
       "\t<tr><td>Imaging     </td><td> 299944</td></tr>\n",
       "\t<tr><td>Lab         </td><td> 993484</td></tr>\n",
       "\t<tr><td>Meds        </td><td>1868195</td></tr>\n",
       "\t<tr><td>Diagnosis   </td><td>2834516</td></tr>\n",
       "</tbody>\n",
       "</table>\n"
      ],
      "text/latex": [
       "A tibble: 6 × 2\n",
       "\\begin{tabular}{ll}\n",
       " feature\\_type & n\\\\\n",
       " <chr> & <int>\\\\\n",
       "\\hline\n",
       "\t Microbiology &   39017\\\\\n",
       "\t Procedures   &   51696\\\\\n",
       "\t Imaging      &  299944\\\\\n",
       "\t Lab          &  993484\\\\\n",
       "\t Meds         & 1868195\\\\\n",
       "\t Diagnosis    & 2834516\\\\\n",
       "\\end{tabular}\n"
      ],
      "text/markdown": [
       "\n",
       "A tibble: 6 × 2\n",
       "\n",
       "| feature_type &lt;chr&gt; | n &lt;int&gt; |\n",
       "|---|---|\n",
       "| Microbiology |   39017 |\n",
       "| Procedures   |   51696 |\n",
       "| Imaging      |  299944 |\n",
       "| Lab          |  993484 |\n",
       "| Meds         | 1868195 |\n",
       "| Diagnosis    | 2834516 |\n",
       "\n"
      ],
      "text/plain": [
       "  feature_type n      \n",
       "1 Microbiology   39017\n",
       "2 Procedures     51696\n",
       "3 Imaging       299944\n",
       "4 Lab           993484\n",
       "5 Meds         1868195\n",
       "6 Diagnosis    2834516"
      ]
     },
     "metadata": {},
     "output_type": "display_data"
    },
    {
     "name": "stderr",
     "output_type": "stream",
     "text": [
      "`summarise()` ungrouping output (override with `.groups` argument)\n",
      "\n"
     ]
    },
    {
     "data": {
      "text/html": [
       "<table>\n",
       "<caption>A tibble: 3 × 2</caption>\n",
       "<thead>\n",
       "\t<tr><th scope=col>feature_type</th><th scope=col>n</th></tr>\n",
       "\t<tr><th scope=col>&lt;chr&gt;</th><th scope=col>&lt;int&gt;</th></tr>\n",
       "</thead>\n",
       "<tbody>\n",
       "\t<tr><td>demo  </td><td> 747660</td></tr>\n",
       "\t<tr><td>vitals</td><td> 978717</td></tr>\n",
       "\t<tr><td>labs  </td><td>1358669</td></tr>\n",
       "</tbody>\n",
       "</table>\n"
      ],
      "text/latex": [
       "A tibble: 3 × 2\n",
       "\\begin{tabular}{ll}\n",
       " feature\\_type & n\\\\\n",
       " <chr> & <int>\\\\\n",
       "\\hline\n",
       "\t demo   &  747660\\\\\n",
       "\t vitals &  978717\\\\\n",
       "\t labs   & 1358669\\\\\n",
       "\\end{tabular}\n"
      ],
      "text/markdown": [
       "\n",
       "A tibble: 3 × 2\n",
       "\n",
       "| feature_type &lt;chr&gt; | n &lt;int&gt; |\n",
       "|---|---|\n",
       "| demo   |  747660 |\n",
       "| vitals |  978717 |\n",
       "| labs   | 1358669 |\n",
       "\n"
      ],
      "text/plain": [
       "  feature_type n      \n",
       "1 demo          747660\n",
       "2 vitals        978717\n",
       "3 labs         1358669"
      ]
     },
     "metadata": {},
     "output_type": "display_data"
    },
    {
     "data": {
      "text/html": [
       "43980"
      ],
      "text/latex": [
       "43980"
      ],
      "text/markdown": [
       "43980"
      ],
      "text/plain": [
       "[1] 43980"
      ]
     },
     "metadata": {},
     "output_type": "display_data"
    }
   ],
   "source": [
    "cohort_orders <- inner_join(cohort, orders4)\n",
    "cohort_values <- inner_join(cohort, values)\n",
    "\n",
    "cohort_orders %>% group_by(feature_type) %>% summarise(n = n()) %>% arrange(n)\n",
    "cohort_values %>% group_by(feature_type) %>% summarise(n = n()) %>% arrange(n)\n",
    "\n",
    "length(unique(cohort$pat_enc_csn_id_coded))"
   ]
  },
  {
   "cell_type": "code",
   "execution_count": 76,
   "metadata": {},
   "outputs": [
    {
     "data": {
      "text/html": [
       "<style>\n",
       ".list-inline {list-style: none; margin:0; padding: 0}\n",
       ".list-inline>li {display: inline-block}\n",
       ".list-inline>li:not(:last-child)::after {content: \"\\00b7\"; padding: 0 .5ex}\n",
       "</style>\n",
       "<ol class=list-inline><li>'anon_id'</li><li>'pat_enc_csn_id_coded'</li><li>'inpatient_data_id_coded'</li><li>'admit_time'</li><li>'label_max24'</li><li>'label_24hr_recent'</li><li>'admit_label'</li><li>'has_admit_label'</li><li>'died_within_24hrs'</li><li>'death_24hr_max_label'</li><li>'death_24hr_recent_label'</li><li>'first_label'</li><li>'first_label_minutes_since_admit'</li><li>'acute_to_critical_label_recent'</li><li>'critical_to_acute_label_recent'</li><li>'acute_to_critical_label_max'</li><li>'critical_to_acute_label_max'</li><li>'feature_type'</li><li>'features'</li><li>'values'</li></ol>\n"
      ],
      "text/latex": [
       "\\begin{enumerate*}\n",
       "\\item 'anon\\_id'\n",
       "\\item 'pat\\_enc\\_csn\\_id\\_coded'\n",
       "\\item 'inpatient\\_data\\_id\\_coded'\n",
       "\\item 'admit\\_time'\n",
       "\\item 'label\\_max24'\n",
       "\\item 'label\\_24hr\\_recent'\n",
       "\\item 'admit\\_label'\n",
       "\\item 'has\\_admit\\_label'\n",
       "\\item 'died\\_within\\_24hrs'\n",
       "\\item 'death\\_24hr\\_max\\_label'\n",
       "\\item 'death\\_24hr\\_recent\\_label'\n",
       "\\item 'first\\_label'\n",
       "\\item 'first\\_label\\_minutes\\_since\\_admit'\n",
       "\\item 'acute\\_to\\_critical\\_label\\_recent'\n",
       "\\item 'critical\\_to\\_acute\\_label\\_recent'\n",
       "\\item 'acute\\_to\\_critical\\_label\\_max'\n",
       "\\item 'critical\\_to\\_acute\\_label\\_max'\n",
       "\\item 'feature\\_type'\n",
       "\\item 'features'\n",
       "\\item 'values'\n",
       "\\end{enumerate*}\n"
      ],
      "text/markdown": [
       "1. 'anon_id'\n",
       "2. 'pat_enc_csn_id_coded'\n",
       "3. 'inpatient_data_id_coded'\n",
       "4. 'admit_time'\n",
       "5. 'label_max24'\n",
       "6. 'label_24hr_recent'\n",
       "7. 'admit_label'\n",
       "8. 'has_admit_label'\n",
       "9. 'died_within_24hrs'\n",
       "10. 'death_24hr_max_label'\n",
       "11. 'death_24hr_recent_label'\n",
       "12. 'first_label'\n",
       "13. 'first_label_minutes_since_admit'\n",
       "14. 'acute_to_critical_label_recent'\n",
       "15. 'critical_to_acute_label_recent'\n",
       "16. 'acute_to_critical_label_max'\n",
       "17. 'critical_to_acute_label_max'\n",
       "18. 'feature_type'\n",
       "19. 'features'\n",
       "20. 'values'\n",
       "\n",
       "\n"
      ],
      "text/plain": [
       " [1] \"anon_id\"                         \"pat_enc_csn_id_coded\"           \n",
       " [3] \"inpatient_data_id_coded\"         \"admit_time\"                     \n",
       " [5] \"label_max24\"                     \"label_24hr_recent\"              \n",
       " [7] \"admit_label\"                     \"has_admit_label\"                \n",
       " [9] \"died_within_24hrs\"               \"death_24hr_max_label\"           \n",
       "[11] \"death_24hr_recent_label\"         \"first_label\"                    \n",
       "[13] \"first_label_minutes_since_admit\" \"acute_to_critical_label_recent\" \n",
       "[15] \"critical_to_acute_label_recent\"  \"acute_to_critical_label_max\"    \n",
       "[17] \"critical_to_acute_label_max\"     \"feature_type\"                   \n",
       "[19] \"features\"                        \"values\"                         "
      ]
     },
     "metadata": {},
     "output_type": "display_data"
    },
    {
     "data": {
      "text/html": [
       "<style>\n",
       ".list-inline {list-style: none; margin:0; padding: 0}\n",
       ".list-inline>li {display: inline-block}\n",
       ".list-inline>li:not(:last-child)::after {content: \"\\00b7\"; padding: 0 .5ex}\n",
       "</style>\n",
       "<ol class=list-inline><li>'anon_id'</li><li>'pat_enc_csn_id_coded'</li><li>'inpatient_data_id_coded'</li><li>'admit_time'</li><li>'label_max24'</li><li>'label_24hr_recent'</li><li>'admit_label'</li><li>'has_admit_label'</li><li>'died_within_24hrs'</li><li>'death_24hr_max_label'</li><li>'death_24hr_recent_label'</li><li>'first_label'</li><li>'first_label_minutes_since_admit'</li><li>'acute_to_critical_label_recent'</li><li>'critical_to_acute_label_recent'</li><li>'acute_to_critical_label_max'</li><li>'critical_to_acute_label_max'</li><li>'feature_type'</li><li>'features'</li><li>'values'</li><li>'time'</li><li>'hr_before_admit'</li></ol>\n"
      ],
      "text/latex": [
       "\\begin{enumerate*}\n",
       "\\item 'anon\\_id'\n",
       "\\item 'pat\\_enc\\_csn\\_id\\_coded'\n",
       "\\item 'inpatient\\_data\\_id\\_coded'\n",
       "\\item 'admit\\_time'\n",
       "\\item 'label\\_max24'\n",
       "\\item 'label\\_24hr\\_recent'\n",
       "\\item 'admit\\_label'\n",
       "\\item 'has\\_admit\\_label'\n",
       "\\item 'died\\_within\\_24hrs'\n",
       "\\item 'death\\_24hr\\_max\\_label'\n",
       "\\item 'death\\_24hr\\_recent\\_label'\n",
       "\\item 'first\\_label'\n",
       "\\item 'first\\_label\\_minutes\\_since\\_admit'\n",
       "\\item 'acute\\_to\\_critical\\_label\\_recent'\n",
       "\\item 'critical\\_to\\_acute\\_label\\_recent'\n",
       "\\item 'acute\\_to\\_critical\\_label\\_max'\n",
       "\\item 'critical\\_to\\_acute\\_label\\_max'\n",
       "\\item 'feature\\_type'\n",
       "\\item 'features'\n",
       "\\item 'values'\n",
       "\\item 'time'\n",
       "\\item 'hr\\_before\\_admit'\n",
       "\\end{enumerate*}\n"
      ],
      "text/markdown": [
       "1. 'anon_id'\n",
       "2. 'pat_enc_csn_id_coded'\n",
       "3. 'inpatient_data_id_coded'\n",
       "4. 'admit_time'\n",
       "5. 'label_max24'\n",
       "6. 'label_24hr_recent'\n",
       "7. 'admit_label'\n",
       "8. 'has_admit_label'\n",
       "9. 'died_within_24hrs'\n",
       "10. 'death_24hr_max_label'\n",
       "11. 'death_24hr_recent_label'\n",
       "12. 'first_label'\n",
       "13. 'first_label_minutes_since_admit'\n",
       "14. 'acute_to_critical_label_recent'\n",
       "15. 'critical_to_acute_label_recent'\n",
       "16. 'acute_to_critical_label_max'\n",
       "17. 'critical_to_acute_label_max'\n",
       "18. 'feature_type'\n",
       "19. 'features'\n",
       "20. 'values'\n",
       "21. 'time'\n",
       "22. 'hr_before_admit'\n",
       "\n",
       "\n"
      ],
      "text/plain": [
       " [1] \"anon_id\"                         \"pat_enc_csn_id_coded\"           \n",
       " [3] \"inpatient_data_id_coded\"         \"admit_time\"                     \n",
       " [5] \"label_max24\"                     \"label_24hr_recent\"              \n",
       " [7] \"admit_label\"                     \"has_admit_label\"                \n",
       " [9] \"died_within_24hrs\"               \"death_24hr_max_label\"           \n",
       "[11] \"death_24hr_recent_label\"         \"first_label\"                    \n",
       "[13] \"first_label_minutes_since_admit\" \"acute_to_critical_label_recent\" \n",
       "[15] \"critical_to_acute_label_recent\"  \"acute_to_critical_label_max\"    \n",
       "[17] \"critical_to_acute_label_max\"     \"feature_type\"                   \n",
       "[19] \"features\"                        \"values\"                         \n",
       "[21] \"time\"                            \"hr_before_admit\"                "
      ]
     },
     "metadata": {},
     "output_type": "display_data"
    }
   ],
   "source": [
    "colnames(cohort_orders)\n",
    "colnames(cohort_values)"
   ]
  },
  {
   "cell_type": "code",
   "execution_count": 77,
   "metadata": {},
   "outputs": [
    {
     "data": {
      "text/html": [
       "<table>\n",
       "<caption>A data.frame: 1 × 20</caption>\n",
       "<thead>\n",
       "\t<tr><th></th><th scope=col>anon_id</th><th scope=col>pat_enc_csn_id_coded</th><th scope=col>inpatient_data_id_coded</th><th scope=col>admit_time</th><th scope=col>label_max24</th><th scope=col>label_24hr_recent</th><th scope=col>admit_label</th><th scope=col>has_admit_label</th><th scope=col>died_within_24hrs</th><th scope=col>death_24hr_max_label</th><th scope=col>death_24hr_recent_label</th><th scope=col>first_label</th><th scope=col>first_label_minutes_since_admit</th><th scope=col>acute_to_critical_label_recent</th><th scope=col>critical_to_acute_label_recent</th><th scope=col>acute_to_critical_label_max</th><th scope=col>critical_to_acute_label_max</th><th scope=col>feature_type</th><th scope=col>features</th><th scope=col>values</th></tr>\n",
       "\t<tr><th></th><th scope=col>&lt;chr&gt;</th><th scope=col>&lt;dbl&gt;</th><th scope=col>&lt;int&gt;</th><th scope=col>&lt;dttm&gt;</th><th scope=col>&lt;int&gt;</th><th scope=col>&lt;int&gt;</th><th scope=col>&lt;int&gt;</th><th scope=col>&lt;int&gt;</th><th scope=col>&lt;int&gt;</th><th scope=col>&lt;int&gt;</th><th scope=col>&lt;int&gt;</th><th scope=col>&lt;int&gt;</th><th scope=col>&lt;dbl&gt;</th><th scope=col>&lt;int&gt;</th><th scope=col>&lt;int&gt;</th><th scope=col>&lt;int&gt;</th><th scope=col>&lt;int&gt;</th><th scope=col>&lt;chr&gt;</th><th scope=col>&lt;chr&gt;</th><th scope=col>&lt;int&gt;</th></tr>\n",
       "</thead>\n",
       "<tbody>\n",
       "\t<tr><th scope=row>1</th><td>JCd97296</td><td>1.31176e+11</td><td>18290644</td><td>2016-02-06 22:31:00</td><td>0</td><td>0</td><td>NA</td><td>0</td><td>0</td><td>0</td><td>0</td><td>0</td><td>1325</td><td>0</td><td>0</td><td>0</td><td>0</td><td>Lab</td><td>CBC WITH DIFFERENTIAL</td><td>2</td></tr>\n",
       "</tbody>\n",
       "</table>\n"
      ],
      "text/latex": [
       "A data.frame: 1 × 20\n",
       "\\begin{tabular}{r|llllllllllllllllllll}\n",
       "  & anon\\_id & pat\\_enc\\_csn\\_id\\_coded & inpatient\\_data\\_id\\_coded & admit\\_time & label\\_max24 & label\\_24hr\\_recent & admit\\_label & has\\_admit\\_label & died\\_within\\_24hrs & death\\_24hr\\_max\\_label & death\\_24hr\\_recent\\_label & first\\_label & first\\_label\\_minutes\\_since\\_admit & acute\\_to\\_critical\\_label\\_recent & critical\\_to\\_acute\\_label\\_recent & acute\\_to\\_critical\\_label\\_max & critical\\_to\\_acute\\_label\\_max & feature\\_type & features & values\\\\\n",
       "  & <chr> & <dbl> & <int> & <dttm> & <int> & <int> & <int> & <int> & <int> & <int> & <int> & <int> & <dbl> & <int> & <int> & <int> & <int> & <chr> & <chr> & <int>\\\\\n",
       "\\hline\n",
       "\t1 & JCd97296 & 1.31176e+11 & 18290644 & 2016-02-06 22:31:00 & 0 & 0 & NA & 0 & 0 & 0 & 0 & 0 & 1325 & 0 & 0 & 0 & 0 & Lab & CBC WITH DIFFERENTIAL & 2\\\\\n",
       "\\end{tabular}\n"
      ],
      "text/markdown": [
       "\n",
       "A data.frame: 1 × 20\n",
       "\n",
       "| <!--/--> | anon_id &lt;chr&gt; | pat_enc_csn_id_coded &lt;dbl&gt; | inpatient_data_id_coded &lt;int&gt; | admit_time &lt;dttm&gt; | label_max24 &lt;int&gt; | label_24hr_recent &lt;int&gt; | admit_label &lt;int&gt; | has_admit_label &lt;int&gt; | died_within_24hrs &lt;int&gt; | death_24hr_max_label &lt;int&gt; | death_24hr_recent_label &lt;int&gt; | first_label &lt;int&gt; | first_label_minutes_since_admit &lt;dbl&gt; | acute_to_critical_label_recent &lt;int&gt; | critical_to_acute_label_recent &lt;int&gt; | acute_to_critical_label_max &lt;int&gt; | critical_to_acute_label_max &lt;int&gt; | feature_type &lt;chr&gt; | features &lt;chr&gt; | values &lt;int&gt; |\n",
       "|---|---|---|---|---|---|---|---|---|---|---|---|---|---|---|---|---|---|---|---|---|\n",
       "| 1 | JCd97296 | 1.31176e+11 | 18290644 | 2016-02-06 22:31:00 | 0 | 0 | NA | 0 | 0 | 0 | 0 | 0 | 1325 | 0 | 0 | 0 | 0 | Lab | CBC WITH DIFFERENTIAL | 2 |\n",
       "\n"
      ],
      "text/plain": [
       "  anon_id  pat_enc_csn_id_coded inpatient_data_id_coded admit_time         \n",
       "1 JCd97296 1.31176e+11          18290644                2016-02-06 22:31:00\n",
       "  label_max24 label_24hr_recent admit_label has_admit_label died_within_24hrs\n",
       "1 0           0                 NA          0               0                \n",
       "  death_24hr_max_label death_24hr_recent_label first_label\n",
       "1 0                    0                       0          \n",
       "  first_label_minutes_since_admit acute_to_critical_label_recent\n",
       "1 1325                            0                             \n",
       "  critical_to_acute_label_recent acute_to_critical_label_max\n",
       "1 0                              0                          \n",
       "  critical_to_acute_label_max feature_type features              values\n",
       "1 0                           Lab          CBC WITH DIFFERENTIAL 2     "
      ]
     },
     "metadata": {},
     "output_type": "display_data"
    },
    {
     "data": {
      "text/html": [
       "<table>\n",
       "<caption>A data.frame: 1 × 22</caption>\n",
       "<thead>\n",
       "\t<tr><th></th><th scope=col>anon_id</th><th scope=col>pat_enc_csn_id_coded</th><th scope=col>inpatient_data_id_coded</th><th scope=col>admit_time</th><th scope=col>label_max24</th><th scope=col>label_24hr_recent</th><th scope=col>admit_label</th><th scope=col>has_admit_label</th><th scope=col>died_within_24hrs</th><th scope=col>death_24hr_max_label</th><th scope=col>death_24hr_recent_label</th><th scope=col>first_label</th><th scope=col>first_label_minutes_since_admit</th><th scope=col>acute_to_critical_label_recent</th><th scope=col>critical_to_acute_label_recent</th><th scope=col>acute_to_critical_label_max</th><th scope=col>critical_to_acute_label_max</th><th scope=col>feature_type</th><th scope=col>features</th><th scope=col>values</th><th scope=col>time</th><th scope=col>hr_before_admit</th></tr>\n",
       "\t<tr><th></th><th scope=col>&lt;chr&gt;</th><th scope=col>&lt;dbl&gt;</th><th scope=col>&lt;int&gt;</th><th scope=col>&lt;dttm&gt;</th><th scope=col>&lt;int&gt;</th><th scope=col>&lt;int&gt;</th><th scope=col>&lt;int&gt;</th><th scope=col>&lt;int&gt;</th><th scope=col>&lt;int&gt;</th><th scope=col>&lt;int&gt;</th><th scope=col>&lt;int&gt;</th><th scope=col>&lt;int&gt;</th><th scope=col>&lt;dbl&gt;</th><th scope=col>&lt;int&gt;</th><th scope=col>&lt;int&gt;</th><th scope=col>&lt;int&gt;</th><th scope=col>&lt;int&gt;</th><th scope=col>&lt;chr&gt;</th><th scope=col>&lt;chr&gt;</th><th scope=col>&lt;dbl&gt;</th><th scope=col>&lt;dttm&gt;</th><th scope=col>&lt;dbl&gt;</th></tr>\n",
       "</thead>\n",
       "<tbody>\n",
       "\t<tr><th scope=row>1</th><td>JCd97296</td><td>1.31176e+11</td><td>18290644</td><td>2016-02-06 22:31:00</td><td>0</td><td>0</td><td>NA</td><td>0</td><td>0</td><td>0</td><td>0</td><td>0</td><td>1325</td><td>0</td><td>0</td><td>0</td><td>0</td><td>demo</td><td>ESI_i</td><td>2</td><td>NA</td><td>NA</td></tr>\n",
       "</tbody>\n",
       "</table>\n"
      ],
      "text/latex": [
       "A data.frame: 1 × 22\n",
       "\\begin{tabular}{r|llllllllllllllllllllll}\n",
       "  & anon\\_id & pat\\_enc\\_csn\\_id\\_coded & inpatient\\_data\\_id\\_coded & admit\\_time & label\\_max24 & label\\_24hr\\_recent & admit\\_label & has\\_admit\\_label & died\\_within\\_24hrs & death\\_24hr\\_max\\_label & death\\_24hr\\_recent\\_label & first\\_label & first\\_label\\_minutes\\_since\\_admit & acute\\_to\\_critical\\_label\\_recent & critical\\_to\\_acute\\_label\\_recent & acute\\_to\\_critical\\_label\\_max & critical\\_to\\_acute\\_label\\_max & feature\\_type & features & values & time & hr\\_before\\_admit\\\\\n",
       "  & <chr> & <dbl> & <int> & <dttm> & <int> & <int> & <int> & <int> & <int> & <int> & <int> & <int> & <dbl> & <int> & <int> & <int> & <int> & <chr> & <chr> & <dbl> & <dttm> & <dbl>\\\\\n",
       "\\hline\n",
       "\t1 & JCd97296 & 1.31176e+11 & 18290644 & 2016-02-06 22:31:00 & 0 & 0 & NA & 0 & 0 & 0 & 0 & 0 & 1325 & 0 & 0 & 0 & 0 & demo & ESI\\_i & 2 & NA & NA\\\\\n",
       "\\end{tabular}\n"
      ],
      "text/markdown": [
       "\n",
       "A data.frame: 1 × 22\n",
       "\n",
       "| <!--/--> | anon_id &lt;chr&gt; | pat_enc_csn_id_coded &lt;dbl&gt; | inpatient_data_id_coded &lt;int&gt; | admit_time &lt;dttm&gt; | label_max24 &lt;int&gt; | label_24hr_recent &lt;int&gt; | admit_label &lt;int&gt; | has_admit_label &lt;int&gt; | died_within_24hrs &lt;int&gt; | death_24hr_max_label &lt;int&gt; | death_24hr_recent_label &lt;int&gt; | first_label &lt;int&gt; | first_label_minutes_since_admit &lt;dbl&gt; | acute_to_critical_label_recent &lt;int&gt; | critical_to_acute_label_recent &lt;int&gt; | acute_to_critical_label_max &lt;int&gt; | critical_to_acute_label_max &lt;int&gt; | feature_type &lt;chr&gt; | features &lt;chr&gt; | values &lt;dbl&gt; | time &lt;dttm&gt; | hr_before_admit &lt;dbl&gt; |\n",
       "|---|---|---|---|---|---|---|---|---|---|---|---|---|---|---|---|---|---|---|---|---|---|---|\n",
       "| 1 | JCd97296 | 1.31176e+11 | 18290644 | 2016-02-06 22:31:00 | 0 | 0 | NA | 0 | 0 | 0 | 0 | 0 | 1325 | 0 | 0 | 0 | 0 | demo | ESI_i | 2 | NA | NA |\n",
       "\n"
      ],
      "text/plain": [
       "  anon_id  pat_enc_csn_id_coded inpatient_data_id_coded admit_time         \n",
       "1 JCd97296 1.31176e+11          18290644                2016-02-06 22:31:00\n",
       "  label_max24 label_24hr_recent admit_label has_admit_label died_within_24hrs\n",
       "1 0           0                 NA          0               0                \n",
       "  death_24hr_max_label death_24hr_recent_label first_label\n",
       "1 0                    0                       0          \n",
       "  first_label_minutes_since_admit acute_to_critical_label_recent\n",
       "1 1325                            0                             \n",
       "  critical_to_acute_label_recent acute_to_critical_label_max\n",
       "1 0                              0                          \n",
       "  critical_to_acute_label_max feature_type features values time hr_before_admit\n",
       "1 0                           demo         ESI_i    2      <NA> NA             "
      ]
     },
     "metadata": {},
     "output_type": "display_data"
    }
   ],
   "source": [
    "head(cohort_orders, 1)\n",
    "head(cohort_values, 1)"
   ]
  },
  {
   "cell_type": "code",
   "execution_count": 78,
   "metadata": {},
   "outputs": [
    {
     "data": {
      "text/html": [
       "9171898"
      ],
      "text/latex": [
       "9171898"
      ],
      "text/markdown": [
       "9171898"
      ],
      "text/plain": [
       "[1] 9171898"
      ]
     },
     "metadata": {},
     "output_type": "display_data"
    },
    {
     "data": {
      "text/html": [
       "9171898"
      ],
      "text/latex": [
       "9171898"
      ],
      "text/markdown": [
       "9171898"
      ],
      "text/plain": [
       "[1] 9171898"
      ]
     },
     "metadata": {},
     "output_type": "display_data"
    },
    {
     "data": {
      "text/html": [
       "43980"
      ],
      "text/latex": [
       "43980"
      ],
      "text/markdown": [
       "43980"
      ],
      "text/plain": [
       "[1] 43980"
      ]
     },
     "metadata": {},
     "output_type": "display_data"
    },
    {
     "name": "stderr",
     "output_type": "stream",
     "text": [
      "`summarise()` ungrouping output (override with `.groups` argument)\n",
      "\n"
     ]
    },
    {
     "data": {
      "text/html": [
       "<table>\n",
       "<caption>A tibble: 9 × 2</caption>\n",
       "<thead>\n",
       "\t<tr><th scope=col>feature_type</th><th scope=col>n</th></tr>\n",
       "\t<tr><th scope=col>&lt;chr&gt;</th><th scope=col>&lt;int&gt;</th></tr>\n",
       "</thead>\n",
       "<tbody>\n",
       "\t<tr><td>Microbiology</td><td>  39017</td></tr>\n",
       "\t<tr><td>Procedures  </td><td>  51696</td></tr>\n",
       "\t<tr><td>Imaging     </td><td> 299944</td></tr>\n",
       "\t<tr><td>demo        </td><td> 747660</td></tr>\n",
       "\t<tr><td>vitals      </td><td> 978717</td></tr>\n",
       "\t<tr><td>Lab         </td><td> 993484</td></tr>\n",
       "\t<tr><td>labs        </td><td>1358669</td></tr>\n",
       "\t<tr><td>Meds        </td><td>1868195</td></tr>\n",
       "\t<tr><td>Diagnosis   </td><td>2834516</td></tr>\n",
       "</tbody>\n",
       "</table>\n"
      ],
      "text/latex": [
       "A tibble: 9 × 2\n",
       "\\begin{tabular}{ll}\n",
       " feature\\_type & n\\\\\n",
       " <chr> & <int>\\\\\n",
       "\\hline\n",
       "\t Microbiology &   39017\\\\\n",
       "\t Procedures   &   51696\\\\\n",
       "\t Imaging      &  299944\\\\\n",
       "\t demo         &  747660\\\\\n",
       "\t vitals       &  978717\\\\\n",
       "\t Lab          &  993484\\\\\n",
       "\t labs         & 1358669\\\\\n",
       "\t Meds         & 1868195\\\\\n",
       "\t Diagnosis    & 2834516\\\\\n",
       "\\end{tabular}\n"
      ],
      "text/markdown": [
       "\n",
       "A tibble: 9 × 2\n",
       "\n",
       "| feature_type &lt;chr&gt; | n &lt;int&gt; |\n",
       "|---|---|\n",
       "| Microbiology |   39017 |\n",
       "| Procedures   |   51696 |\n",
       "| Imaging      |  299944 |\n",
       "| demo         |  747660 |\n",
       "| vitals       |  978717 |\n",
       "| Lab          |  993484 |\n",
       "| labs         | 1358669 |\n",
       "| Meds         | 1868195 |\n",
       "| Diagnosis    | 2834516 |\n",
       "\n"
      ],
      "text/plain": [
       "  feature_type n      \n",
       "1 Microbiology   39017\n",
       "2 Procedures     51696\n",
       "3 Imaging       299944\n",
       "4 demo          747660\n",
       "5 vitals        978717\n",
       "6 Lab           993484\n",
       "7 labs         1358669\n",
       "8 Meds         1868195\n",
       "9 Diagnosis    2834516"
      ]
     },
     "metadata": {},
     "output_type": "display_data"
    }
   ],
   "source": [
    "cohort_full <- bind_rows(cohort_orders, cohort_values)\n",
    "nrow(cohort_full) # 9171898\n",
    "nrow(cohort_orders) + nrow(cohort_values)\n",
    "length(unique(cohort_full$pat_enc_csn_id_coded))\n",
    "cohort_full %>% group_by(feature_type) %>% summarise(n = n()) %>% arrange(n)"
   ]
  },
  {
   "cell_type": "code",
   "execution_count": 80,
   "metadata": {},
   "outputs": [
    {
     "data": {
      "text/html": [
       "<table>\n",
       "<caption>A data.frame: 1 × 22</caption>\n",
       "<thead>\n",
       "\t<tr><th></th><th scope=col>anon_id</th><th scope=col>pat_enc_csn_id_coded</th><th scope=col>inpatient_data_id_coded</th><th scope=col>admit_time</th><th scope=col>label_max24</th><th scope=col>label_24hr_recent</th><th scope=col>admit_label</th><th scope=col>has_admit_label</th><th scope=col>died_within_24hrs</th><th scope=col>death_24hr_max_label</th><th scope=col>death_24hr_recent_label</th><th scope=col>first_label</th><th scope=col>first_label_minutes_since_admit</th><th scope=col>acute_to_critical_label_recent</th><th scope=col>critical_to_acute_label_recent</th><th scope=col>acute_to_critical_label_max</th><th scope=col>critical_to_acute_label_max</th><th scope=col>feature_type</th><th scope=col>features</th><th scope=col>values</th><th scope=col>time</th><th scope=col>hr_before_admit</th></tr>\n",
       "\t<tr><th></th><th scope=col>&lt;chr&gt;</th><th scope=col>&lt;dbl&gt;</th><th scope=col>&lt;int&gt;</th><th scope=col>&lt;dttm&gt;</th><th scope=col>&lt;int&gt;</th><th scope=col>&lt;int&gt;</th><th scope=col>&lt;int&gt;</th><th scope=col>&lt;int&gt;</th><th scope=col>&lt;int&gt;</th><th scope=col>&lt;int&gt;</th><th scope=col>&lt;int&gt;</th><th scope=col>&lt;int&gt;</th><th scope=col>&lt;dbl&gt;</th><th scope=col>&lt;int&gt;</th><th scope=col>&lt;int&gt;</th><th scope=col>&lt;int&gt;</th><th scope=col>&lt;int&gt;</th><th scope=col>&lt;chr&gt;</th><th scope=col>&lt;chr&gt;</th><th scope=col>&lt;dbl&gt;</th><th scope=col>&lt;dttm&gt;</th><th scope=col>&lt;dbl&gt;</th></tr>\n",
       "</thead>\n",
       "<tbody>\n",
       "\t<tr><th scope=row>1</th><td>JCd97296</td><td>1.31176e+11</td><td>18290644</td><td>2016-02-06 22:31:00</td><td>0</td><td>0</td><td>NA</td><td>0</td><td>0</td><td>0</td><td>0</td><td>0</td><td>1325</td><td>0</td><td>0</td><td>0</td><td>0</td><td>Lab</td><td>CBC WITH DIFFERENTIAL</td><td>2</td><td>NA</td><td>NA</td></tr>\n",
       "</tbody>\n",
       "</table>\n"
      ],
      "text/latex": [
       "A data.frame: 1 × 22\n",
       "\\begin{tabular}{r|llllllllllllllllllllll}\n",
       "  & anon\\_id & pat\\_enc\\_csn\\_id\\_coded & inpatient\\_data\\_id\\_coded & admit\\_time & label\\_max24 & label\\_24hr\\_recent & admit\\_label & has\\_admit\\_label & died\\_within\\_24hrs & death\\_24hr\\_max\\_label & death\\_24hr\\_recent\\_label & first\\_label & first\\_label\\_minutes\\_since\\_admit & acute\\_to\\_critical\\_label\\_recent & critical\\_to\\_acute\\_label\\_recent & acute\\_to\\_critical\\_label\\_max & critical\\_to\\_acute\\_label\\_max & feature\\_type & features & values & time & hr\\_before\\_admit\\\\\n",
       "  & <chr> & <dbl> & <int> & <dttm> & <int> & <int> & <int> & <int> & <int> & <int> & <int> & <int> & <dbl> & <int> & <int> & <int> & <int> & <chr> & <chr> & <dbl> & <dttm> & <dbl>\\\\\n",
       "\\hline\n",
       "\t1 & JCd97296 & 1.31176e+11 & 18290644 & 2016-02-06 22:31:00 & 0 & 0 & NA & 0 & 0 & 0 & 0 & 0 & 1325 & 0 & 0 & 0 & 0 & Lab & CBC WITH DIFFERENTIAL & 2 & NA & NA\\\\\n",
       "\\end{tabular}\n"
      ],
      "text/markdown": [
       "\n",
       "A data.frame: 1 × 22\n",
       "\n",
       "| <!--/--> | anon_id &lt;chr&gt; | pat_enc_csn_id_coded &lt;dbl&gt; | inpatient_data_id_coded &lt;int&gt; | admit_time &lt;dttm&gt; | label_max24 &lt;int&gt; | label_24hr_recent &lt;int&gt; | admit_label &lt;int&gt; | has_admit_label &lt;int&gt; | died_within_24hrs &lt;int&gt; | death_24hr_max_label &lt;int&gt; | death_24hr_recent_label &lt;int&gt; | first_label &lt;int&gt; | first_label_minutes_since_admit &lt;dbl&gt; | acute_to_critical_label_recent &lt;int&gt; | critical_to_acute_label_recent &lt;int&gt; | acute_to_critical_label_max &lt;int&gt; | critical_to_acute_label_max &lt;int&gt; | feature_type &lt;chr&gt; | features &lt;chr&gt; | values &lt;dbl&gt; | time &lt;dttm&gt; | hr_before_admit &lt;dbl&gt; |\n",
       "|---|---|---|---|---|---|---|---|---|---|---|---|---|---|---|---|---|---|---|---|---|---|---|\n",
       "| 1 | JCd97296 | 1.31176e+11 | 18290644 | 2016-02-06 22:31:00 | 0 | 0 | NA | 0 | 0 | 0 | 0 | 0 | 1325 | 0 | 0 | 0 | 0 | Lab | CBC WITH DIFFERENTIAL | 2 | NA | NA |\n",
       "\n"
      ],
      "text/plain": [
       "  anon_id  pat_enc_csn_id_coded inpatient_data_id_coded admit_time         \n",
       "1 JCd97296 1.31176e+11          18290644                2016-02-06 22:31:00\n",
       "  label_max24 label_24hr_recent admit_label has_admit_label died_within_24hrs\n",
       "1 0           0                 NA          0               0                \n",
       "  death_24hr_max_label death_24hr_recent_label first_label\n",
       "1 0                    0                       0          \n",
       "  first_label_minutes_since_admit acute_to_critical_label_recent\n",
       "1 1325                            0                             \n",
       "  critical_to_acute_label_recent acute_to_critical_label_max\n",
       "1 0                              0                          \n",
       "  critical_to_acute_label_max feature_type features              values time\n",
       "1 0                           Lab          CBC WITH DIFFERENTIAL 2      <NA>\n",
       "  hr_before_admit\n",
       "1 NA             "
      ]
     },
     "metadata": {},
     "output_type": "display_data"
    },
    {
     "data": {
      "text/html": [
       "<table>\n",
       "<caption>A data.frame: 1 × 22</caption>\n",
       "<thead>\n",
       "\t<tr><th></th><th scope=col>anon_id</th><th scope=col>pat_enc_csn_id_coded</th><th scope=col>inpatient_data_id_coded</th><th scope=col>admit_time</th><th scope=col>label_max24</th><th scope=col>label_24hr_recent</th><th scope=col>admit_label</th><th scope=col>has_admit_label</th><th scope=col>died_within_24hrs</th><th scope=col>death_24hr_max_label</th><th scope=col>death_24hr_recent_label</th><th scope=col>first_label</th><th scope=col>first_label_minutes_since_admit</th><th scope=col>acute_to_critical_label_recent</th><th scope=col>critical_to_acute_label_recent</th><th scope=col>acute_to_critical_label_max</th><th scope=col>critical_to_acute_label_max</th><th scope=col>feature_type</th><th scope=col>features</th><th scope=col>values</th><th scope=col>time</th><th scope=col>hr_before_admit</th></tr>\n",
       "\t<tr><th></th><th scope=col>&lt;chr&gt;</th><th scope=col>&lt;dbl&gt;</th><th scope=col>&lt;int&gt;</th><th scope=col>&lt;dttm&gt;</th><th scope=col>&lt;int&gt;</th><th scope=col>&lt;int&gt;</th><th scope=col>&lt;int&gt;</th><th scope=col>&lt;int&gt;</th><th scope=col>&lt;int&gt;</th><th scope=col>&lt;int&gt;</th><th scope=col>&lt;int&gt;</th><th scope=col>&lt;int&gt;</th><th scope=col>&lt;dbl&gt;</th><th scope=col>&lt;int&gt;</th><th scope=col>&lt;int&gt;</th><th scope=col>&lt;int&gt;</th><th scope=col>&lt;int&gt;</th><th scope=col>&lt;chr&gt;</th><th scope=col>&lt;chr&gt;</th><th scope=col>&lt;dbl&gt;</th><th scope=col>&lt;dttm&gt;</th><th scope=col>&lt;dbl&gt;</th></tr>\n",
       "</thead>\n",
       "<tbody>\n",
       "\t<tr><th scope=row>9171898</th><td>JCdeb097</td><td>131261813349</td><td>33702913</td><td>2019-02-06 12:21:00</td><td>0</td><td>0</td><td>0</td><td>1</td><td>0</td><td>0</td><td>0</td><td>0</td><td>0</td><td>0</td><td>0</td><td>0</td><td>0</td><td>labs</td><td>O2sat_v</td><td>82</td><td>2019-02-06 08:46:00</td><td>3.6</td></tr>\n",
       "</tbody>\n",
       "</table>\n"
      ],
      "text/latex": [
       "A data.frame: 1 × 22\n",
       "\\begin{tabular}{r|llllllllllllllllllllll}\n",
       "  & anon\\_id & pat\\_enc\\_csn\\_id\\_coded & inpatient\\_data\\_id\\_coded & admit\\_time & label\\_max24 & label\\_24hr\\_recent & admit\\_label & has\\_admit\\_label & died\\_within\\_24hrs & death\\_24hr\\_max\\_label & death\\_24hr\\_recent\\_label & first\\_label & first\\_label\\_minutes\\_since\\_admit & acute\\_to\\_critical\\_label\\_recent & critical\\_to\\_acute\\_label\\_recent & acute\\_to\\_critical\\_label\\_max & critical\\_to\\_acute\\_label\\_max & feature\\_type & features & values & time & hr\\_before\\_admit\\\\\n",
       "  & <chr> & <dbl> & <int> & <dttm> & <int> & <int> & <int> & <int> & <int> & <int> & <int> & <int> & <dbl> & <int> & <int> & <int> & <int> & <chr> & <chr> & <dbl> & <dttm> & <dbl>\\\\\n",
       "\\hline\n",
       "\t9171898 & JCdeb097 & 131261813349 & 33702913 & 2019-02-06 12:21:00 & 0 & 0 & 0 & 1 & 0 & 0 & 0 & 0 & 0 & 0 & 0 & 0 & 0 & labs & O2sat\\_v & 82 & 2019-02-06 08:46:00 & 3.6\\\\\n",
       "\\end{tabular}\n"
      ],
      "text/markdown": [
       "\n",
       "A data.frame: 1 × 22\n",
       "\n",
       "| <!--/--> | anon_id &lt;chr&gt; | pat_enc_csn_id_coded &lt;dbl&gt; | inpatient_data_id_coded &lt;int&gt; | admit_time &lt;dttm&gt; | label_max24 &lt;int&gt; | label_24hr_recent &lt;int&gt; | admit_label &lt;int&gt; | has_admit_label &lt;int&gt; | died_within_24hrs &lt;int&gt; | death_24hr_max_label &lt;int&gt; | death_24hr_recent_label &lt;int&gt; | first_label &lt;int&gt; | first_label_minutes_since_admit &lt;dbl&gt; | acute_to_critical_label_recent &lt;int&gt; | critical_to_acute_label_recent &lt;int&gt; | acute_to_critical_label_max &lt;int&gt; | critical_to_acute_label_max &lt;int&gt; | feature_type &lt;chr&gt; | features &lt;chr&gt; | values &lt;dbl&gt; | time &lt;dttm&gt; | hr_before_admit &lt;dbl&gt; |\n",
       "|---|---|---|---|---|---|---|---|---|---|---|---|---|---|---|---|---|---|---|---|---|---|---|\n",
       "| 9171898 | JCdeb097 | 131261813349 | 33702913 | 2019-02-06 12:21:00 | 0 | 0 | 0 | 1 | 0 | 0 | 0 | 0 | 0 | 0 | 0 | 0 | 0 | labs | O2sat_v | 82 | 2019-02-06 08:46:00 | 3.6 |\n",
       "\n"
      ],
      "text/plain": [
       "        anon_id  pat_enc_csn_id_coded inpatient_data_id_coded\n",
       "9171898 JCdeb097 131261813349         33702913               \n",
       "        admit_time          label_max24 label_24hr_recent admit_label\n",
       "9171898 2019-02-06 12:21:00 0           0                 0          \n",
       "        has_admit_label died_within_24hrs death_24hr_max_label\n",
       "9171898 1               0                 0                   \n",
       "        death_24hr_recent_label first_label first_label_minutes_since_admit\n",
       "9171898 0                       0           0                              \n",
       "        acute_to_critical_label_recent critical_to_acute_label_recent\n",
       "9171898 0                              0                             \n",
       "        acute_to_critical_label_max critical_to_acute_label_max feature_type\n",
       "9171898 0                           0                           labs        \n",
       "        features values time                hr_before_admit\n",
       "9171898 O2sat_v  82     2019-02-06 08:46:00 3.6            "
      ]
     },
     "metadata": {},
     "output_type": "display_data"
    }
   ],
   "source": [
    "head(cohort_full, 1)\n",
    "tail(cohort_full, 1)"
   ]
  },
  {
   "cell_type": "code",
   "execution_count": 81,
   "metadata": {},
   "outputs": [],
   "source": [
    "write.csv(cohort_full, file.path(featuredir, \"1_4_cohort_full_features.csv\"), row.names=FALSE)"
   ]
  },
  {
   "cell_type": "code",
   "execution_count": 82,
   "metadata": {},
   "outputs": [
    {
     "data": {
      "text/html": [
       "<table>\n",
       "<caption>A data.frame: 0 × 22</caption>\n",
       "<thead>\n",
       "\t<tr><th scope=col>anon_id</th><th scope=col>pat_enc_csn_id_coded</th><th scope=col>inpatient_data_id_coded</th><th scope=col>admit_time</th><th scope=col>label_max24</th><th scope=col>label_24hr_recent</th><th scope=col>admit_label</th><th scope=col>has_admit_label</th><th scope=col>died_within_24hrs</th><th scope=col>death_24hr_max_label</th><th scope=col>death_24hr_recent_label</th><th scope=col>first_label</th><th scope=col>first_label_minutes_since_admit</th><th scope=col>acute_to_critical_label_recent</th><th scope=col>critical_to_acute_label_recent</th><th scope=col>acute_to_critical_label_max</th><th scope=col>critical_to_acute_label_max</th><th scope=col>feature_type</th><th scope=col>features</th><th scope=col>values</th><th scope=col>time</th><th scope=col>hr_before_admit</th></tr>\n",
       "\t<tr><th scope=col>&lt;chr&gt;</th><th scope=col>&lt;dbl&gt;</th><th scope=col>&lt;int&gt;</th><th scope=col>&lt;dttm&gt;</th><th scope=col>&lt;int&gt;</th><th scope=col>&lt;int&gt;</th><th scope=col>&lt;int&gt;</th><th scope=col>&lt;int&gt;</th><th scope=col>&lt;int&gt;</th><th scope=col>&lt;int&gt;</th><th scope=col>&lt;int&gt;</th><th scope=col>&lt;int&gt;</th><th scope=col>&lt;dbl&gt;</th><th scope=col>&lt;int&gt;</th><th scope=col>&lt;int&gt;</th><th scope=col>&lt;int&gt;</th><th scope=col>&lt;int&gt;</th><th scope=col>&lt;chr&gt;</th><th scope=col>&lt;chr&gt;</th><th scope=col>&lt;dbl&gt;</th><th scope=col>&lt;dttm&gt;</th><th scope=col>&lt;dbl&gt;</th></tr>\n",
       "</thead>\n",
       "<tbody>\n",
       "</tbody>\n",
       "</table>\n"
      ],
      "text/latex": [
       "A data.frame: 0 × 22\n",
       "\\begin{tabular}{llllllllllllllllllllll}\n",
       " anon\\_id & pat\\_enc\\_csn\\_id\\_coded & inpatient\\_data\\_id\\_coded & admit\\_time & label\\_max24 & label\\_24hr\\_recent & admit\\_label & has\\_admit\\_label & died\\_within\\_24hrs & death\\_24hr\\_max\\_label & death\\_24hr\\_recent\\_label & first\\_label & first\\_label\\_minutes\\_since\\_admit & acute\\_to\\_critical\\_label\\_recent & critical\\_to\\_acute\\_label\\_recent & acute\\_to\\_critical\\_label\\_max & critical\\_to\\_acute\\_label\\_max & feature\\_type & features & values & time & hr\\_before\\_admit\\\\\n",
       " <chr> & <dbl> & <int> & <dttm> & <int> & <int> & <int> & <int> & <int> & <int> & <int> & <int> & <dbl> & <int> & <int> & <int> & <int> & <chr> & <chr> & <dbl> & <dttm> & <dbl>\\\\\n",
       "\\hline\n",
       "\\end{tabular}\n"
      ],
      "text/markdown": [
       "\n",
       "A data.frame: 0 × 22\n",
       "\n",
       "| anon_id &lt;chr&gt; | pat_enc_csn_id_coded &lt;dbl&gt; | inpatient_data_id_coded &lt;int&gt; | admit_time &lt;dttm&gt; | label_max24 &lt;int&gt; | label_24hr_recent &lt;int&gt; | admit_label &lt;int&gt; | has_admit_label &lt;int&gt; | died_within_24hrs &lt;int&gt; | death_24hr_max_label &lt;int&gt; | death_24hr_recent_label &lt;int&gt; | first_label &lt;int&gt; | first_label_minutes_since_admit &lt;dbl&gt; | acute_to_critical_label_recent &lt;int&gt; | critical_to_acute_label_recent &lt;int&gt; | acute_to_critical_label_max &lt;int&gt; | critical_to_acute_label_max &lt;int&gt; | feature_type &lt;chr&gt; | features &lt;chr&gt; | values &lt;dbl&gt; | time &lt;dttm&gt; | hr_before_admit &lt;dbl&gt; |\n",
       "|---|---|---|---|---|---|---|---|---|---|---|---|---|---|---|---|---|---|---|---|---|---|\n",
       "\n"
      ],
      "text/plain": [
       "     anon_id pat_enc_csn_id_coded inpatient_data_id_coded admit_time\n",
       "     label_max24 label_24hr_recent admit_label has_admit_label\n",
       "     died_within_24hrs death_24hr_max_label death_24hr_recent_label first_label\n",
       "     first_label_minutes_since_admit acute_to_critical_label_recent\n",
       "     critical_to_acute_label_recent acute_to_critical_label_max\n",
       "     critical_to_acute_label_max feature_type features values time\n",
       "     hr_before_admit"
      ]
     },
     "metadata": {},
     "output_type": "display_data"
    }
   ],
   "source": [
    "cohort_full %>% filter(is.na(feature_type)) # if join, will have some as 10 patients had no queried order counts"
   ]
  },
  {
   "cell_type": "code",
   "execution_count": 83,
   "metadata": {},
   "outputs": [
    {
     "name": "stderr",
     "output_type": "stream",
     "text": [
      "`summarise()` ungrouping output (override with `.groups` argument)\n",
      "\n"
     ]
    },
    {
     "data": {
      "text/html": [
       "<table>\n",
       "<caption>A tibble: 9 × 2</caption>\n",
       "<thead>\n",
       "\t<tr><th scope=col>feature_type</th><th scope=col>n</th></tr>\n",
       "\t<tr><th scope=col>&lt;chr&gt;</th><th scope=col>&lt;int&gt;</th></tr>\n",
       "</thead>\n",
       "<tbody>\n",
       "\t<tr><td>Diagnosis   </td><td>2686793</td></tr>\n",
       "\t<tr><td>Meds        </td><td>1766920</td></tr>\n",
       "\t<tr><td>labs        </td><td>1273740</td></tr>\n",
       "\t<tr><td>Lab         </td><td> 938854</td></tr>\n",
       "\t<tr><td>vitals      </td><td> 902206</td></tr>\n",
       "\t<tr><td>demo        </td><td> 705177</td></tr>\n",
       "\t<tr><td>Imaging     </td><td> 283278</td></tr>\n",
       "\t<tr><td>Procedures  </td><td>  48607</td></tr>\n",
       "\t<tr><td>Microbiology</td><td>  36980</td></tr>\n",
       "</tbody>\n",
       "</table>\n"
      ],
      "text/latex": [
       "A tibble: 9 × 2\n",
       "\\begin{tabular}{ll}\n",
       " feature\\_type & n\\\\\n",
       " <chr> & <int>\\\\\n",
       "\\hline\n",
       "\t Diagnosis    & 2686793\\\\\n",
       "\t Meds         & 1766920\\\\\n",
       "\t labs         & 1273740\\\\\n",
       "\t Lab          &  938854\\\\\n",
       "\t vitals       &  902206\\\\\n",
       "\t demo         &  705177\\\\\n",
       "\t Imaging      &  283278\\\\\n",
       "\t Procedures   &   48607\\\\\n",
       "\t Microbiology &   36980\\\\\n",
       "\\end{tabular}\n"
      ],
      "text/markdown": [
       "\n",
       "A tibble: 9 × 2\n",
       "\n",
       "| feature_type &lt;chr&gt; | n &lt;int&gt; |\n",
       "|---|---|\n",
       "| Diagnosis    | 2686793 |\n",
       "| Meds         | 1766920 |\n",
       "| labs         | 1273740 |\n",
       "| Lab          |  938854 |\n",
       "| vitals       |  902206 |\n",
       "| demo         |  705177 |\n",
       "| Imaging      |  283278 |\n",
       "| Procedures   |   48607 |\n",
       "| Microbiology |   36980 |\n",
       "\n"
      ],
      "text/plain": [
       "  feature_type n      \n",
       "1 Diagnosis    2686793\n",
       "2 Meds         1766920\n",
       "3 labs         1273740\n",
       "4 Lab           938854\n",
       "5 vitals        902206\n",
       "6 demo          705177\n",
       "7 Imaging       283278\n",
       "8 Procedures     48607\n",
       "9 Microbiology   36980"
      ]
     },
     "metadata": {},
     "output_type": "display_data"
    },
    {
     "name": "stderr",
     "output_type": "stream",
     "text": [
      "`summarise()` ungrouping output (override with `.groups` argument)\n",
      "\n",
      "Selecting by n\n",
      "\n"
     ]
    },
    {
     "data": {
      "text/html": [
       "<table>\n",
       "<caption>A tibble: 10 × 2</caption>\n",
       "<thead>\n",
       "\t<tr><th scope=col>features</th><th scope=col>n</th></tr>\n",
       "\t<tr><th scope=col>&lt;chr&gt;</th><th scope=col>&lt;int&gt;</th></tr>\n",
       "</thead>\n",
       "<tbody>\n",
       "\t<tr><td>Pulse  </td><td>201617</td></tr>\n",
       "\t<tr><td>RR     </td><td>190327</td></tr>\n",
       "\t<tr><td>SBP    </td><td>187908</td></tr>\n",
       "\t<tr><td>DBP    </td><td>187873</td></tr>\n",
       "\t<tr><td>Temp   </td><td>134481</td></tr>\n",
       "\t<tr><td>Glucose</td><td> 48073</td></tr>\n",
       "\t<tr><td>Hct    </td><td> 42455</td></tr>\n",
       "\t<tr><td>K      </td><td> 42455</td></tr>\n",
       "\t<tr><td>Na     </td><td> 42413</td></tr>\n",
       "\t<tr><td>Hgb    </td><td> 42406</td></tr>\n",
       "</tbody>\n",
       "</table>\n"
      ],
      "text/latex": [
       "A tibble: 10 × 2\n",
       "\\begin{tabular}{ll}\n",
       " features & n\\\\\n",
       " <chr> & <int>\\\\\n",
       "\\hline\n",
       "\t Pulse   & 201617\\\\\n",
       "\t RR      & 190327\\\\\n",
       "\t SBP     & 187908\\\\\n",
       "\t DBP     & 187873\\\\\n",
       "\t Temp    & 134481\\\\\n",
       "\t Glucose &  48073\\\\\n",
       "\t Hct     &  42455\\\\\n",
       "\t K       &  42455\\\\\n",
       "\t Na      &  42413\\\\\n",
       "\t Hgb     &  42406\\\\\n",
       "\\end{tabular}\n"
      ],
      "text/markdown": [
       "\n",
       "A tibble: 10 × 2\n",
       "\n",
       "| features &lt;chr&gt; | n &lt;int&gt; |\n",
       "|---|---|\n",
       "| Pulse   | 201617 |\n",
       "| RR      | 190327 |\n",
       "| SBP     | 187908 |\n",
       "| DBP     | 187873 |\n",
       "| Temp    | 134481 |\n",
       "| Glucose |  48073 |\n",
       "| Hct     |  42455 |\n",
       "| K       |  42455 |\n",
       "| Na      |  42413 |\n",
       "| Hgb     |  42406 |\n",
       "\n"
      ],
      "text/plain": [
       "   features n     \n",
       "1  Pulse    201617\n",
       "2  RR       190327\n",
       "3  SBP      187908\n",
       "4  DBP      187873\n",
       "5  Temp     134481\n",
       "6  Glucose   48073\n",
       "7  Hct       42455\n",
       "8  K         42455\n",
       "9  Na        42413\n",
       "10 Hgb       42406"
      ]
     },
     "metadata": {},
     "output_type": "display_data"
    }
   ],
   "source": [
    "cohort_full %>% filter(first_label == death_24hr_recent_label) %>% group_by(feature_type) %>% summarise(n=n()) %>% arrange(-n)\n",
    "cohort_full %>% filter(first_label == death_24hr_recent_label) %>% group_by(features) %>% summarise(n=n()) %>% arrange(-n) %>% top_n(10)"
   ]
  },
  {
   "cell_type": "code",
   "execution_count": 84,
   "metadata": {},
   "outputs": [
    {
     "name": "stderr",
     "output_type": "stream",
     "text": [
      "`summarise()` ungrouping output (override with `.groups` argument)\n",
      "\n"
     ]
    },
    {
     "data": {
      "text/html": [
       "<table>\n",
       "<caption>A tibble: 9 × 2</caption>\n",
       "<thead>\n",
       "\t<tr><th scope=col>feature_type</th><th scope=col>n</th></tr>\n",
       "\t<tr><th scope=col>&lt;chr&gt;</th><th scope=col>&lt;int&gt;</th></tr>\n",
       "</thead>\n",
       "<tbody>\n",
       "\t<tr><td>Diagnosis   </td><td>147723</td></tr>\n",
       "\t<tr><td>Meds        </td><td>101275</td></tr>\n",
       "\t<tr><td>labs        </td><td> 84929</td></tr>\n",
       "\t<tr><td>vitals      </td><td> 76511</td></tr>\n",
       "\t<tr><td>Lab         </td><td> 54630</td></tr>\n",
       "\t<tr><td>demo        </td><td> 42483</td></tr>\n",
       "\t<tr><td>Imaging     </td><td> 16666</td></tr>\n",
       "\t<tr><td>Procedures  </td><td>  3089</td></tr>\n",
       "\t<tr><td>Microbiology</td><td>  2037</td></tr>\n",
       "</tbody>\n",
       "</table>\n"
      ],
      "text/latex": [
       "A tibble: 9 × 2\n",
       "\\begin{tabular}{ll}\n",
       " feature\\_type & n\\\\\n",
       " <chr> & <int>\\\\\n",
       "\\hline\n",
       "\t Diagnosis    & 147723\\\\\n",
       "\t Meds         & 101275\\\\\n",
       "\t labs         &  84929\\\\\n",
       "\t vitals       &  76511\\\\\n",
       "\t Lab          &  54630\\\\\n",
       "\t demo         &  42483\\\\\n",
       "\t Imaging      &  16666\\\\\n",
       "\t Procedures   &   3089\\\\\n",
       "\t Microbiology &   2037\\\\\n",
       "\\end{tabular}\n"
      ],
      "text/markdown": [
       "\n",
       "A tibble: 9 × 2\n",
       "\n",
       "| feature_type &lt;chr&gt; | n &lt;int&gt; |\n",
       "|---|---|\n",
       "| Diagnosis    | 147723 |\n",
       "| Meds         | 101275 |\n",
       "| labs         |  84929 |\n",
       "| vitals       |  76511 |\n",
       "| Lab          |  54630 |\n",
       "| demo         |  42483 |\n",
       "| Imaging      |  16666 |\n",
       "| Procedures   |   3089 |\n",
       "| Microbiology |   2037 |\n",
       "\n"
      ],
      "text/plain": [
       "  feature_type n     \n",
       "1 Diagnosis    147723\n",
       "2 Meds         101275\n",
       "3 labs          84929\n",
       "4 vitals        76511\n",
       "5 Lab           54630\n",
       "6 demo          42483\n",
       "7 Imaging       16666\n",
       "8 Procedures     3089\n",
       "9 Microbiology   2037"
      ]
     },
     "metadata": {},
     "output_type": "display_data"
    },
    {
     "name": "stderr",
     "output_type": "stream",
     "text": [
      "`summarise()` ungrouping output (override with `.groups` argument)\n",
      "\n",
      "Selecting by n\n",
      "\n"
     ]
    },
    {
     "data": {
      "text/html": [
       "<table>\n",
       "<caption>A tibble: 10 × 2</caption>\n",
       "<thead>\n",
       "\t<tr><th scope=col>features</th><th scope=col>n</th></tr>\n",
       "\t<tr><th scope=col>&lt;chr&gt;</th><th scope=col>&lt;int&gt;</th></tr>\n",
       "</thead>\n",
       "<tbody>\n",
       "\t<tr><td>Pulse  </td><td>17435</td></tr>\n",
       "\t<tr><td>RR     </td><td>17285</td></tr>\n",
       "\t<tr><td>SBP    </td><td>16914</td></tr>\n",
       "\t<tr><td>DBP    </td><td>16913</td></tr>\n",
       "\t<tr><td>Temp   </td><td> 7964</td></tr>\n",
       "\t<tr><td>Glucose</td><td> 3578</td></tr>\n",
       "\t<tr><td>K      </td><td> 2949</td></tr>\n",
       "\t<tr><td>Na     </td><td> 2926</td></tr>\n",
       "\t<tr><td>Hgb    </td><td> 2923</td></tr>\n",
       "\t<tr><td>Hct    </td><td> 2922</td></tr>\n",
       "</tbody>\n",
       "</table>\n"
      ],
      "text/latex": [
       "A tibble: 10 × 2\n",
       "\\begin{tabular}{ll}\n",
       " features & n\\\\\n",
       " <chr> & <int>\\\\\n",
       "\\hline\n",
       "\t Pulse   & 17435\\\\\n",
       "\t RR      & 17285\\\\\n",
       "\t SBP     & 16914\\\\\n",
       "\t DBP     & 16913\\\\\n",
       "\t Temp    &  7964\\\\\n",
       "\t Glucose &  3578\\\\\n",
       "\t K       &  2949\\\\\n",
       "\t Na      &  2926\\\\\n",
       "\t Hgb     &  2923\\\\\n",
       "\t Hct     &  2922\\\\\n",
       "\\end{tabular}\n"
      ],
      "text/markdown": [
       "\n",
       "A tibble: 10 × 2\n",
       "\n",
       "| features &lt;chr&gt; | n &lt;int&gt; |\n",
       "|---|---|\n",
       "| Pulse   | 17435 |\n",
       "| RR      | 17285 |\n",
       "| SBP     | 16914 |\n",
       "| DBP     | 16913 |\n",
       "| Temp    |  7964 |\n",
       "| Glucose |  3578 |\n",
       "| K       |  2949 |\n",
       "| Na      |  2926 |\n",
       "| Hgb     |  2923 |\n",
       "| Hct     |  2922 |\n",
       "\n"
      ],
      "text/plain": [
       "   features n    \n",
       "1  Pulse    17435\n",
       "2  RR       17285\n",
       "3  SBP      16914\n",
       "4  DBP      16913\n",
       "5  Temp      7964\n",
       "6  Glucose   3578\n",
       "7  K         2949\n",
       "8  Na        2926\n",
       "9  Hgb       2923\n",
       "10 Hct       2922"
      ]
     },
     "metadata": {},
     "output_type": "display_data"
    }
   ],
   "source": [
    "cohort_full %>% filter(first_label != death_24hr_recent_label) %>% group_by(feature_type) %>% summarise(n=n()) %>% arrange(-n)\n",
    "cohort_full %>% filter(first_label != death_24hr_recent_label) %>% group_by(features) %>% summarise(n=n()) %>% arrange(-n) %>% top_n(10)"
   ]
  },
  {
   "cell_type": "code",
   "execution_count": 85,
   "metadata": {},
   "outputs": [
    {
     "name": "stderr",
     "output_type": "stream",
     "text": [
      "`summarise()` ungrouping output (override with `.groups` argument)\n",
      "\n"
     ]
    },
    {
     "data": {
      "text/html": [
       "<table>\n",
       "<caption>A tibble: 9 × 2</caption>\n",
       "<thead>\n",
       "\t<tr><th scope=col>feature_type</th><th scope=col>n</th></tr>\n",
       "\t<tr><th scope=col>&lt;chr&gt;</th><th scope=col>&lt;int&gt;</th></tr>\n",
       "</thead>\n",
       "<tbody>\n",
       "\t<tr><td>Diagnosis   </td><td>2834516</td></tr>\n",
       "\t<tr><td>Meds        </td><td>1868195</td></tr>\n",
       "\t<tr><td>labs        </td><td>1358669</td></tr>\n",
       "\t<tr><td>Lab         </td><td> 993484</td></tr>\n",
       "\t<tr><td>vitals      </td><td> 978717</td></tr>\n",
       "\t<tr><td>demo        </td><td> 747660</td></tr>\n",
       "\t<tr><td>Imaging     </td><td> 299944</td></tr>\n",
       "\t<tr><td>Procedures  </td><td>  51696</td></tr>\n",
       "\t<tr><td>Microbiology</td><td>  39017</td></tr>\n",
       "</tbody>\n",
       "</table>\n"
      ],
      "text/latex": [
       "A tibble: 9 × 2\n",
       "\\begin{tabular}{ll}\n",
       " feature\\_type & n\\\\\n",
       " <chr> & <int>\\\\\n",
       "\\hline\n",
       "\t Diagnosis    & 2834516\\\\\n",
       "\t Meds         & 1868195\\\\\n",
       "\t labs         & 1358669\\\\\n",
       "\t Lab          &  993484\\\\\n",
       "\t vitals       &  978717\\\\\n",
       "\t demo         &  747660\\\\\n",
       "\t Imaging      &  299944\\\\\n",
       "\t Procedures   &   51696\\\\\n",
       "\t Microbiology &   39017\\\\\n",
       "\\end{tabular}\n"
      ],
      "text/markdown": [
       "\n",
       "A tibble: 9 × 2\n",
       "\n",
       "| feature_type &lt;chr&gt; | n &lt;int&gt; |\n",
       "|---|---|\n",
       "| Diagnosis    | 2834516 |\n",
       "| Meds         | 1868195 |\n",
       "| labs         | 1358669 |\n",
       "| Lab          |  993484 |\n",
       "| vitals       |  978717 |\n",
       "| demo         |  747660 |\n",
       "| Imaging      |  299944 |\n",
       "| Procedures   |   51696 |\n",
       "| Microbiology |   39017 |\n",
       "\n"
      ],
      "text/plain": [
       "  feature_type n      \n",
       "1 Diagnosis    2834516\n",
       "2 Meds         1868195\n",
       "3 labs         1358669\n",
       "4 Lab           993484\n",
       "5 vitals        978717\n",
       "6 demo          747660\n",
       "7 Imaging       299944\n",
       "8 Procedures     51696\n",
       "9 Microbiology   39017"
      ]
     },
     "metadata": {},
     "output_type": "display_data"
    },
    {
     "name": "stderr",
     "output_type": "stream",
     "text": [
      "`summarise()` ungrouping output (override with `.groups` argument)\n",
      "\n",
      "Selecting by n\n",
      "\n"
     ]
    },
    {
     "data": {
      "text/html": [
       "<table>\n",
       "<caption>A tibble: 10 × 2</caption>\n",
       "<thead>\n",
       "\t<tr><th scope=col>features</th><th scope=col>n</th></tr>\n",
       "\t<tr><th scope=col>&lt;chr&gt;</th><th scope=col>&lt;int&gt;</th></tr>\n",
       "</thead>\n",
       "<tbody>\n",
       "\t<tr><td>Pulse  </td><td>219052</td></tr>\n",
       "\t<tr><td>RR     </td><td>207612</td></tr>\n",
       "\t<tr><td>SBP    </td><td>204822</td></tr>\n",
       "\t<tr><td>DBP    </td><td>204786</td></tr>\n",
       "\t<tr><td>Temp   </td><td>142445</td></tr>\n",
       "\t<tr><td>Glucose</td><td> 51651</td></tr>\n",
       "\t<tr><td>K      </td><td> 45404</td></tr>\n",
       "\t<tr><td>Hct    </td><td> 45377</td></tr>\n",
       "\t<tr><td>Na     </td><td> 45339</td></tr>\n",
       "\t<tr><td>Hgb    </td><td> 45329</td></tr>\n",
       "</tbody>\n",
       "</table>\n"
      ],
      "text/latex": [
       "A tibble: 10 × 2\n",
       "\\begin{tabular}{ll}\n",
       " features & n\\\\\n",
       " <chr> & <int>\\\\\n",
       "\\hline\n",
       "\t Pulse   & 219052\\\\\n",
       "\t RR      & 207612\\\\\n",
       "\t SBP     & 204822\\\\\n",
       "\t DBP     & 204786\\\\\n",
       "\t Temp    & 142445\\\\\n",
       "\t Glucose &  51651\\\\\n",
       "\t K       &  45404\\\\\n",
       "\t Hct     &  45377\\\\\n",
       "\t Na      &  45339\\\\\n",
       "\t Hgb     &  45329\\\\\n",
       "\\end{tabular}\n"
      ],
      "text/markdown": [
       "\n",
       "A tibble: 10 × 2\n",
       "\n",
       "| features &lt;chr&gt; | n &lt;int&gt; |\n",
       "|---|---|\n",
       "| Pulse   | 219052 |\n",
       "| RR      | 207612 |\n",
       "| SBP     | 204822 |\n",
       "| DBP     | 204786 |\n",
       "| Temp    | 142445 |\n",
       "| Glucose |  51651 |\n",
       "| K       |  45404 |\n",
       "| Hct     |  45377 |\n",
       "| Na      |  45339 |\n",
       "| Hgb     |  45329 |\n",
       "\n"
      ],
      "text/plain": [
       "   features n     \n",
       "1  Pulse    219052\n",
       "2  RR       207612\n",
       "3  SBP      204822\n",
       "4  DBP      204786\n",
       "5  Temp     142445\n",
       "6  Glucose   51651\n",
       "7  K         45404\n",
       "8  Hct       45377\n",
       "9  Na        45339\n",
       "10 Hgb       45329"
      ]
     },
     "metadata": {},
     "output_type": "display_data"
    }
   ],
   "source": [
    "cohort_full %>% group_by(feature_type) %>% summarise(n=n()) %>% arrange(-n)\n",
    "cohort_full %>% group_by(features) %>% summarise(n=n()) %>% arrange(-n) %>% top_n(10)"
   ]
  },
  {
   "cell_type": "code",
   "execution_count": 86,
   "metadata": {},
   "outputs": [
    {
     "name": "stderr",
     "output_type": "stream",
     "text": [
      "`summarise()` regrouping output by 'pat_enc_csn_id_coded', 'features' (override with `.groups` argument)\n",
      "\n",
      "`summarise()` ungrouping output (override with `.groups` argument)\n",
      "\n"
     ]
    },
    {
     "data": {
      "text/html": [
       "<table>\n",
       "<caption>A tibble: 6 × 2</caption>\n",
       "<thead>\n",
       "\t<tr><th scope=col>features</th><th scope=col>n</th></tr>\n",
       "\t<tr><th scope=col>&lt;fct&gt;</th><th scope=col>&lt;int&gt;</th></tr>\n",
       "</thead>\n",
       "<tbody>\n",
       "\t<tr><td>DBP    </td><td>196528</td></tr>\n",
       "\t<tr><td>Glucose</td><td> 51023</td></tr>\n",
       "\t<tr><td>Pulse  </td><td>207419</td></tr>\n",
       "\t<tr><td>RR     </td><td>197217</td></tr>\n",
       "\t<tr><td>SBP    </td><td>196559</td></tr>\n",
       "\t<tr><td>Temp   </td><td> 79947</td></tr>\n",
       "</tbody>\n",
       "</table>\n"
      ],
      "text/latex": [
       "A tibble: 6 × 2\n",
       "\\begin{tabular}{ll}\n",
       " features & n\\\\\n",
       " <fct> & <int>\\\\\n",
       "\\hline\n",
       "\t DBP     & 196528\\\\\n",
       "\t Glucose &  51023\\\\\n",
       "\t Pulse   & 207419\\\\\n",
       "\t RR      & 197217\\\\\n",
       "\t SBP     & 196559\\\\\n",
       "\t Temp    &  79947\\\\\n",
       "\\end{tabular}\n"
      ],
      "text/markdown": [
       "\n",
       "A tibble: 6 × 2\n",
       "\n",
       "| features &lt;fct&gt; | n &lt;int&gt; |\n",
       "|---|---|\n",
       "| DBP     | 196528 |\n",
       "| Glucose |  51023 |\n",
       "| Pulse   | 207419 |\n",
       "| RR      | 197217 |\n",
       "| SBP     | 196559 |\n",
       "| Temp    |  79947 |\n",
       "\n"
      ],
      "text/plain": [
       "  features n     \n",
       "1 DBP      196528\n",
       "2 Glucose   51023\n",
       "3 Pulse    207419\n",
       "4 RR       197217\n",
       "5 SBP      196559\n",
       "6 Temp      79947"
      ]
     },
     "metadata": {},
     "output_type": "display_data"
    },
    {
     "data": {
      "text/html": [
       "<table>\n",
       "<caption>A grouped_df: 6 × 4</caption>\n",
       "<thead>\n",
       "\t<tr><th scope=col>pat_enc_csn_id_coded</th><th scope=col>features</th><th scope=col>hr_before_admit</th><th scope=col>values</th></tr>\n",
       "\t<tr><th scope=col>&lt;fct&gt;</th><th scope=col>&lt;fct&gt;</th><th scope=col>&lt;dbl&gt;</th><th scope=col>&lt;dbl&gt;</th></tr>\n",
       "</thead>\n",
       "<tbody>\n",
       "\t<tr><td>131062667066</td><td>DBP</td><td>4.0</td><td>48</td></tr>\n",
       "\t<tr><td>131062667066</td><td>DBP</td><td>5.0</td><td>56</td></tr>\n",
       "\t<tr><td>131062667066</td><td>DBP</td><td>5.5</td><td>52</td></tr>\n",
       "\t<tr><td>131062667066</td><td>DBP</td><td>6.0</td><td>47</td></tr>\n",
       "\t<tr><td>131062667066</td><td>DBP</td><td>6.3</td><td>43</td></tr>\n",
       "\t<tr><td>131062667066</td><td>DBP</td><td>6.6</td><td>33</td></tr>\n",
       "</tbody>\n",
       "</table>\n"
      ],
      "text/latex": [
       "A grouped\\_df: 6 × 4\n",
       "\\begin{tabular}{llll}\n",
       " pat\\_enc\\_csn\\_id\\_coded & features & hr\\_before\\_admit & values\\\\\n",
       " <fct> & <fct> & <dbl> & <dbl>\\\\\n",
       "\\hline\n",
       "\t 131062667066 & DBP & 4.0 & 48\\\\\n",
       "\t 131062667066 & DBP & 5.0 & 56\\\\\n",
       "\t 131062667066 & DBP & 5.5 & 52\\\\\n",
       "\t 131062667066 & DBP & 6.0 & 47\\\\\n",
       "\t 131062667066 & DBP & 6.3 & 43\\\\\n",
       "\t 131062667066 & DBP & 6.6 & 33\\\\\n",
       "\\end{tabular}\n"
      ],
      "text/markdown": [
       "\n",
       "A grouped_df: 6 × 4\n",
       "\n",
       "| pat_enc_csn_id_coded &lt;fct&gt; | features &lt;fct&gt; | hr_before_admit &lt;dbl&gt; | values &lt;dbl&gt; |\n",
       "|---|---|---|---|\n",
       "| 131062667066 | DBP | 4.0 | 48 |\n",
       "| 131062667066 | DBP | 5.0 | 56 |\n",
       "| 131062667066 | DBP | 5.5 | 52 |\n",
       "| 131062667066 | DBP | 6.0 | 47 |\n",
       "| 131062667066 | DBP | 6.3 | 43 |\n",
       "| 131062667066 | DBP | 6.6 | 33 |\n",
       "\n"
      ],
      "text/plain": [
       "  pat_enc_csn_id_coded features hr_before_admit values\n",
       "1 131062667066         DBP      4.0             48    \n",
       "2 131062667066         DBP      5.0             56    \n",
       "3 131062667066         DBP      5.5             52    \n",
       "4 131062667066         DBP      6.0             47    \n",
       "5 131062667066         DBP      6.3             43    \n",
       "6 131062667066         DBP      6.6             33    "
      ]
     },
     "metadata": {},
     "output_type": "display_data"
    },
    {
     "data": {
      "text/plain": [
       "     Min.   1st Qu.    Median      Mean   3rd Qu.      Max. \n",
       "     0.00      1.20      2.60      4.63      4.80 140140.50 "
      ]
     },
     "metadata": {},
     "output_type": "display_data"
    }
   ],
   "source": [
    "coh_vsglu <- cohort_full %>% filter(feature_type=='vitals' | features==\"Glucose\") %>%\n",
    "                    mutate(pat_enc_csn_id_coded = factor(pat_enc_csn_id_coded),\n",
    "                           features = factor(features)) %>%\n",
    "                    group_by(pat_enc_csn_id_coded, features, hr_before_admit) %>%\n",
    "                    summarise(values=mean(values, na.rm=TRUE))\n",
    "                    \n",
    "coh_vsglu %>% group_by(features) %>% summarise(n=n())\n",
    "head(coh_vsglu)\n",
    "\n",
    "# before updating to limit vitals and labs values within 24hrs prior to admit,\n",
    "# 131242313490 had a very weird obs with time of about 16 years before admit_time\n",
    "summary(coh_vsglu$hr_before_admit)"
   ]
  },
  {
   "cell_type": "code",
   "execution_count": 87,
   "metadata": {},
   "outputs": [
    {
     "data": {
      "text/html": [
       "<style>\n",
       ".list-inline {list-style: none; margin:0; padding: 0}\n",
       ".list-inline>li {display: inline-block}\n",
       ".list-inline>li:not(:last-child)::after {content: \"\\00b7\"; padding: 0 .5ex}\n",
       "</style>\n",
       "<ol class=list-inline><li>'anon_id'</li><li>'pat_enc_csn_id_coded'</li><li>'inpatient_data_id_coded'</li><li>'admit_time'</li><li>'label_max24'</li><li>'label_24hr_recent'</li><li>'admit_label'</li><li>'has_admit_label'</li><li>'died_within_24hrs'</li><li>'death_24hr_max_label'</li><li>'death_24hr_recent_label'</li><li>'first_label'</li><li>'first_label_minutes_since_admit'</li><li>'acute_to_critical_label_recent'</li><li>'critical_to_acute_label_recent'</li><li>'acute_to_critical_label_max'</li><li>'critical_to_acute_label_max'</li><li>'feature_type'</li><li>'features'</li><li>'values'</li><li>'time'</li><li>'hr_before_admit'</li></ol>\n"
      ],
      "text/latex": [
       "\\begin{enumerate*}\n",
       "\\item 'anon\\_id'\n",
       "\\item 'pat\\_enc\\_csn\\_id\\_coded'\n",
       "\\item 'inpatient\\_data\\_id\\_coded'\n",
       "\\item 'admit\\_time'\n",
       "\\item 'label\\_max24'\n",
       "\\item 'label\\_24hr\\_recent'\n",
       "\\item 'admit\\_label'\n",
       "\\item 'has\\_admit\\_label'\n",
       "\\item 'died\\_within\\_24hrs'\n",
       "\\item 'death\\_24hr\\_max\\_label'\n",
       "\\item 'death\\_24hr\\_recent\\_label'\n",
       "\\item 'first\\_label'\n",
       "\\item 'first\\_label\\_minutes\\_since\\_admit'\n",
       "\\item 'acute\\_to\\_critical\\_label\\_recent'\n",
       "\\item 'critical\\_to\\_acute\\_label\\_recent'\n",
       "\\item 'acute\\_to\\_critical\\_label\\_max'\n",
       "\\item 'critical\\_to\\_acute\\_label\\_max'\n",
       "\\item 'feature\\_type'\n",
       "\\item 'features'\n",
       "\\item 'values'\n",
       "\\item 'time'\n",
       "\\item 'hr\\_before\\_admit'\n",
       "\\end{enumerate*}\n"
      ],
      "text/markdown": [
       "1. 'anon_id'\n",
       "2. 'pat_enc_csn_id_coded'\n",
       "3. 'inpatient_data_id_coded'\n",
       "4. 'admit_time'\n",
       "5. 'label_max24'\n",
       "6. 'label_24hr_recent'\n",
       "7. 'admit_label'\n",
       "8. 'has_admit_label'\n",
       "9. 'died_within_24hrs'\n",
       "10. 'death_24hr_max_label'\n",
       "11. 'death_24hr_recent_label'\n",
       "12. 'first_label'\n",
       "13. 'first_label_minutes_since_admit'\n",
       "14. 'acute_to_critical_label_recent'\n",
       "15. 'critical_to_acute_label_recent'\n",
       "16. 'acute_to_critical_label_max'\n",
       "17. 'critical_to_acute_label_max'\n",
       "18. 'feature_type'\n",
       "19. 'features'\n",
       "20. 'values'\n",
       "21. 'time'\n",
       "22. 'hr_before_admit'\n",
       "\n",
       "\n"
      ],
      "text/plain": [
       " [1] \"anon_id\"                         \"pat_enc_csn_id_coded\"           \n",
       " [3] \"inpatient_data_id_coded\"         \"admit_time\"                     \n",
       " [5] \"label_max24\"                     \"label_24hr_recent\"              \n",
       " [7] \"admit_label\"                     \"has_admit_label\"                \n",
       " [9] \"died_within_24hrs\"               \"death_24hr_max_label\"           \n",
       "[11] \"death_24hr_recent_label\"         \"first_label\"                    \n",
       "[13] \"first_label_minutes_since_admit\" \"acute_to_critical_label_recent\" \n",
       "[15] \"critical_to_acute_label_recent\"  \"acute_to_critical_label_max\"    \n",
       "[17] \"critical_to_acute_label_max\"     \"feature_type\"                   \n",
       "[19] \"features\"                        \"values\"                         \n",
       "[21] \"time\"                            \"hr_before_admit\"                "
      ]
     },
     "metadata": {},
     "output_type": "display_data"
    }
   ],
   "source": [
    "colnames(cohort_full)"
   ]
  },
  {
   "cell_type": "code",
   "execution_count": null,
   "metadata": {},
   "outputs": [],
   "source": [
    "# coh_sample <- sample_n(cohort_full, 10000)"
   ]
  },
  {
   "cell_type": "code",
   "execution_count": 88,
   "metadata": {},
   "outputs": [
    {
     "name": "stderr",
     "output_type": "stream",
     "text": [
      "Warning message:\n",
      "\"`fun.y` is deprecated. Use `fun` instead.\"\n",
      "`geom_smooth()` using method = 'gam' and formula 'y ~ s(x, bs = \"cs\")'\n",
      "\n"
     ]
    },
    {
     "data": {
      "image/png": "[encoded data removed]",
      "text/plain": [
       "plot without title"
      ]
     },
     "metadata": {
      "image/png": {
       "height": 1800,
       "width": 420
      }
     },
     "output_type": "display_data"
    }
   ],
   "source": [
    "# this one takes a long time and the trends are all mostly flat\n",
    "# although we see more fluctiation near admit_time\n",
    "options(repr.plot.width=7, repr.plot.height=30)\n",
    "\n",
    "coh_vsglu12 <- coh_vsglu %>% filter(hr_before_admit <= 200)\n",
    "p <- ggplot(data = coh_vsglu12, aes(x = hr_before_admit, y = values, group = pat_enc_csn_id_coded)) + facet_grid(features ~ ., scales=\"free\")\n",
    "\n",
    "# use group 1 as for the whole data NOT per csn: so the smooth is not calculated separately for each csn\n",
    "p + geom_line(color=\"white\") + stat_smooth(aes(group = 1)) + stat_summary(aes(group = 1), geom = \"point\", size=1, fun.y = mean)"
   ]
  },
  {
   "cell_type": "markdown",
   "metadata": {},
   "source": [
    "### Check AUC and PRC"
   ]
  },
  {
   "cell_type": "code",
   "execution_count": 89,
   "metadata": {},
   "outputs": [
    {
     "data": {
      "text/html": [
       "0.875995437857203"
      ],
      "text/latex": [
       "0.875995437857203"
      ],
      "text/markdown": [
       "0.875995437857203"
      ],
      "text/plain": [
       "[1] 0.8759954"
      ]
     },
     "metadata": {},
     "output_type": "display_data"
    },
    {
     "data": {
      "text/html": [
       "0.64255115231513"
      ],
      "text/latex": [
       "0.64255115231513"
      ],
      "text/markdown": [
       "0.64255115231513"
      ],
      "text/plain": [
       "[1] 0.6425512"
      ]
     },
     "metadata": {},
     "output_type": "display_data"
    },
    {
     "data": {
      "image/png": "[encoded data removed]",
      "text/plain": [
       "plot without title"
      ]
     },
     "metadata": {
      "image/png": {
       "height": 420,
       "width": 420
      }
     },
     "output_type": "display_data"
    },
    {
     "data": {
      "image/png": "[encoded data removed]",
      "text/plain": [
       "plot without title"
      ]
     },
     "metadata": {
      "image/png": {
       "height": 420,
       "width": 420
      }
     },
     "output_type": "display_data"
    }
   ],
   "source": [
    "# get performance metrics AUC and PRC, highest level of care\n",
    "options(repr.plot.width=7, repr.plot.height=7)\n",
    "\n",
    "# pred_rocr = ROCR::prediction(cohort_test$pred_death_24hr_recent, cohort_test$death_24hr_recent_label)\n",
    "pred_rocr = ROCR::prediction(cohort_test$pred_death_24hr_max, cohort_test$death_24hr_max_label)\n",
    "auc = ROCR::performance(pred_rocr, measure = \"auc\", x.measure = \"cutoff\")@y.values[[1]]\n",
    "prc = ROCR::performance(pred_rocr, measure = \"aucpr\", x.measure = \"cutoff\")@y.values[[1]]\n",
    "\n",
    "PRC.perf <- ROCR::performance(pred_rocr, \"prec\", \"rec\")\n",
    "ROC.perf <-  ROCR::performance(pred_rocr, \"tpr\", \"fpr\")\n",
    "auc; prc #0.875995437857203 and 0.64255115231513 for 1_4coh\n",
    "\n",
    "plot(ROC.perf)\n",
    "plot(PRC.perf)"
   ]
  },
  {
   "cell_type": "code",
   "execution_count": 90,
   "metadata": {},
   "outputs": [
    {
     "data": {
      "text/html": [
       "0.852746095933298"
      ],
      "text/latex": [
       "0.852746095933298"
      ],
      "text/markdown": [
       "0.852746095933298"
      ],
      "text/plain": [
       "[1] 0.8527461"
      ]
     },
     "metadata": {},
     "output_type": "display_data"
    },
    {
     "data": {
      "text/html": [
       "0.491112785165401"
      ],
      "text/latex": [
       "0.491112785165401"
      ],
      "text/markdown": [
       "0.491112785165401"
      ],
      "text/plain": [
       "[1] 0.4911128"
      ]
     },
     "metadata": {},
     "output_type": "display_data"
    },
    {
     "data": {
      "image/png": "[encoded data removed]",
      "text/plain": [
       "plot without title"
      ]
     },
     "metadata": {
      "image/png": {
       "height": 420,
       "width": 420
      }
     },
     "output_type": "display_data"
    },
    {
     "data": {
      "image/png": "[encoded data removed]",
      "text/plain": [
       "plot without title"
      ]
     },
     "metadata": {
      "image/png": {
       "height": 420,
       "width": 420
      }
     },
     "output_type": "display_data"
    }
   ],
   "source": [
    "# get performance metrics AUC and PRC, at 24hr\n",
    "options(repr.plot.width=7, repr.plot.height=7)\n",
    "\n",
    "pred_rocr = ROCR::prediction(cohort_test$pred_death_24hr_recent, cohort_test$death_24hr_recent_label)\n",
    "auc = ROCR::performance(pred_rocr, measure = \"auc\", x.measure = \"cutoff\")@y.values[[1]]\n",
    "prc = ROCR::performance(pred_rocr, measure = \"aucpr\", x.measure = \"cutoff\")@y.values[[1]]\n",
    "\n",
    "PRC.perf <- ROCR::performance(pred_rocr, \"prec\", \"rec\")\n",
    "ROC.perf <-  ROCR::performance(pred_rocr, \"tpr\", \"fpr\")\n",
    "auc; prc #0.852746095933298 and 0.491112785165401\n",
    "\n",
    "plot(ROC.perf)\n",
    "plot(PRC.perf)"
   ]
  },
  {
   "cell_type": "code",
   "execution_count": 91,
   "metadata": {},
   "outputs": [
    {
     "data": {
      "text/html": [
       "0.851396490675799"
      ],
      "text/latex": [
       "0.851396490675799"
      ],
      "text/markdown": [
       "0.851396490675799"
      ],
      "text/plain": [
       "[1] 0.8513965"
      ]
     },
     "metadata": {},
     "output_type": "display_data"
    },
    {
     "data": {
      "text/html": [
       "0.487723965329804"
      ],
      "text/latex": [
       "0.487723965329804"
      ],
      "text/markdown": [
       "0.487723965329804"
      ],
      "text/plain": [
       "[1] 0.487724"
      ]
     },
     "metadata": {},
     "output_type": "display_data"
    },
    {
     "data": {
      "image/png": "[encoded data removed]",
      "text/plain": [
       "plot without title"
      ]
     },
     "metadata": {
      "image/png": {
       "height": 420,
       "width": 420
      }
     },
     "output_type": "display_data"
    },
    {
     "data": {
      "image/png": "[encoded data removed]",
      "text/plain": [
       "plot without title"
      ]
     },
     "metadata": {
      "image/png": {
       "height": 420,
       "width": 420
      }
     },
     "output_type": "display_data"
    }
   ],
   "source": [
    "test2019 <- cohort_test %>% filter(adm_year==2019)\n",
    "pred_rocr = ROCR::prediction(test2019$pred_death_24hr_recent, test2019$death_24hr_recent_label)\n",
    "auc = ROCR::performance(pred_rocr, measure = \"auc\", x.measure = \"cutoff\")@y.values[[1]]\n",
    "prc = ROCR::performance(pred_rocr, measure = \"aucpr\", x.measure = \"cutoff\")@y.values[[1]]\n",
    "\n",
    "PRC.perf <- ROCR::performance(pred_rocr, \"prec\", \"rec\")\n",
    "ROC.perf <-  ROCR::performance(pred_rocr, \"tpr\", \"fpr\")\n",
    "auc; prc #0.851396490675799 and 0.487723965329804\n",
    "\n",
    "plot(ROC.perf)\n",
    "plot(PRC.perf)"
   ]
  },
  {
   "cell_type": "code",
   "execution_count": 92,
   "metadata": {},
   "outputs": [
    {
     "data": {
      "text/html": [
       "0.907253499579289"
      ],
      "text/latex": [
       "0.907253499579289"
      ],
      "text/markdown": [
       "0.907253499579289"
      ],
      "text/plain": [
       "[1] 0.9072535"
      ]
     },
     "metadata": {},
     "output_type": "display_data"
    },
    {
     "data": {
      "text/html": [
       "0.642238742593756"
      ],
      "text/latex": [
       "0.642238742593756"
      ],
      "text/markdown": [
       "0.642238742593756"
      ],
      "text/plain": [
       "[1] 0.6422387"
      ]
     },
     "metadata": {},
     "output_type": "display_data"
    },
    {
     "data": {
      "image/png": "[encoded data removed]",
      "text/plain": [
       "plot without title"
      ]
     },
     "metadata": {
      "image/png": {
       "height": 420,
       "width": 420
      }
     },
     "output_type": "display_data"
    },
    {
     "data": {
      "image/png": "[encoded data removed]",
      "text/plain": [
       "plot without title"
      ]
     },
     "metadata": {
      "image/png": {
       "height": 420,
       "width": 420
      }
     },
     "output_type": "display_data"
    }
   ],
   "source": [
    "# get performance metrics AUC and PRC, and ACC\n",
    "options(repr.plot.width=7, repr.plot.height=7)\n",
    "\n",
    "pred_rocr = ROCR::prediction(cohort_test$pred_first, cohort_test$first_label)\n",
    "auc = ROCR::performance(pred_rocr, measure = \"auc\", x.measure = \"cutoff\")@y.values[[1]]\n",
    "prc = ROCR::performance(pred_rocr, measure = \"aucpr\", x.measure = \"cutoff\")@y.values[[1]]\n",
    "\n",
    "PRC.perf <- ROCR::performance(pred_rocr, \"prec\", \"rec\")\n",
    "ROC.perf <-  ROCR::performance(pred_rocr, \"tpr\", \"fpr\")\n",
    "auc; prc #0.907253499579289 and 0.642238742593756\n",
    "\n",
    "plot(ROC.perf)\n",
    "plot(PRC.perf)"
   ]
  },
  {
   "cell_type": "code",
   "execution_count": null,
   "metadata": {},
   "outputs": [],
   "source": []
  }
 ],
 "metadata": {
  "environment": {
   "name": "r-cpu.4-0.m71",
   "type": "gcloud",
   "uri": "gcr.io/deeplearning-platform-release/r-cpu.4-0:m71"
  },
  "kernelspec": {
   "display_name": "R",
   "language": "R",
   "name": "ir"
  },
  "language_info": {
   "codemirror_mode": "r",
   "file_extension": ".r",
   "mimetype": "text/x-r-source",
   "name": "R",
   "pygments_lexer": "r",
   "version": "4.0.3"
  }
 },
 "nbformat": 4,
 "nbformat_minor": 4
}
