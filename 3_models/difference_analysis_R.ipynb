{
 "cells": [
  {
   "cell_type": "markdown",
   "metadata": {},
   "source": [
    "### Description\n",
    "- Investigate prediction differences between labels at time 0 and 24hr\n",
    "- Only 318 observations with differences >= 0.3\n",
    "\n",
    "Inputs:\n",
    "- `1_4_cohort_diff_full_features`\n",
    "- `1_4_cohort_test_results`"
   ]
  },
  {
   "cell_type": "code",
   "execution_count": 1,
   "metadata": {},
   "outputs": [
    {
     "name": "stderr",
     "output_type": "stream",
     "text": [
      "Loading required package: lattice\n",
      "\n",
      "Loading required package: ggplot2\n",
      "\n",
      "-- \u001b[1mAttaching packages\u001b[22m --------------------------------------- tidyverse 1.3.0 --\n",
      "\n",
      "\u001b[32mv\u001b[39m \u001b[34mtibble \u001b[39m 3.0.4     \u001b[32mv\u001b[39m \u001b[34mdplyr  \u001b[39m 1.0.2\n",
      "\u001b[32mv\u001b[39m \u001b[34mtidyr  \u001b[39m 1.1.2     \u001b[32mv\u001b[39m \u001b[34mstringr\u001b[39m 1.4.0\n",
      "\u001b[32mv\u001b[39m \u001b[34mreadr  \u001b[39m 1.4.0     \u001b[32mv\u001b[39m \u001b[34mforcats\u001b[39m 0.5.0\n",
      "\u001b[32mv\u001b[39m \u001b[34mpurrr  \u001b[39m 0.3.4     \n",
      "\n",
      "-- \u001b[1mConflicts\u001b[22m ------------------------------------------ tidyverse_conflicts() --\n",
      "\u001b[31mx\u001b[39m \u001b[34mdplyr\u001b[39m::\u001b[32mbetween()\u001b[39m   masks \u001b[34mdata.table\u001b[39m::between()\n",
      "\u001b[31mx\u001b[39m \u001b[34mdplyr\u001b[39m::\u001b[32mfilter()\u001b[39m    masks \u001b[34mstats\u001b[39m::filter()\n",
      "\u001b[31mx\u001b[39m \u001b[34mdplyr\u001b[39m::\u001b[32mfirst()\u001b[39m     masks \u001b[34mdata.table\u001b[39m::first()\n",
      "\u001b[31mx\u001b[39m \u001b[34mdplyr\u001b[39m::\u001b[32mlag()\u001b[39m       masks \u001b[34mstats\u001b[39m::lag()\n",
      "\u001b[31mx\u001b[39m \u001b[34mdplyr\u001b[39m::\u001b[32mlast()\u001b[39m      masks \u001b[34mdata.table\u001b[39m::last()\n",
      "\u001b[31mx\u001b[39m \u001b[34mpurrr\u001b[39m::\u001b[32mlift()\u001b[39m      masks \u001b[34mcaret\u001b[39m::lift()\n",
      "\u001b[31mx\u001b[39m \u001b[34mpurrr\u001b[39m::\u001b[32mtranspose()\u001b[39m masks \u001b[34mdata.table\u001b[39m::transpose()\n",
      "\n",
      "\n",
      "Attaching package: 'lubridate'\n",
      "\n",
      "\n",
      "The following objects are masked from 'package:data.table':\n",
      "\n",
      "    hour, isoweek, mday, minute, month, quarter, second, wday, week,\n",
      "    yday, year\n",
      "\n",
      "\n",
      "The following objects are masked from 'package:base':\n",
      "\n",
      "    date, intersect, setdiff, union\n",
      "\n",
      "\n",
      "\n",
      "Attaching package: 'Matrix'\n",
      "\n",
      "\n",
      "The following objects are masked from 'package:tidyr':\n",
      "\n",
      "    expand, pack, unpack\n",
      "\n",
      "\n",
      "Warning message:\n",
      "\"package 'glmnet' was built under R version 4.0.5\"\n",
      "Loaded glmnet 4.1-1\n",
      "\n",
      "Warning message:\n",
      "\"package 'bit64' was built under R version 4.0.5\"\n",
      "Loading required package: bit\n",
      "\n",
      "Warning message:\n",
      "\"package 'bit' was built under R version 4.0.5\"\n",
      "\n",
      "Attaching package: 'bit'\n",
      "\n",
      "\n",
      "The following object is masked from 'package:data.table':\n",
      "\n",
      "    setattr\n",
      "\n",
      "\n",
      "The following object is masked from 'package:base':\n",
      "\n",
      "    xor\n",
      "\n",
      "\n",
      "Attaching package bit64\n",
      "\n",
      "package:bit64 (c) 2011-2017 Jens Oehlschlaegel\n",
      "\n",
      "creators: integer64 runif64 seq :\n",
      "\n",
      "coercion: as.integer64 as.vector as.logical as.integer as.double as.character as.bitstring\n",
      "\n",
      "logical operator: ! & | xor != == < <= >= >\n",
      "\n",
      "arithmetic operator: + - * / %/% %% ^\n",
      "\n",
      "math: sign abs sqrt log log2 log10\n",
      "\n",
      "math: floor ceiling trunc round\n",
      "\n",
      "querying: is.integer64 is.vector [is.atomic} [length] format print str\n",
      "\n",
      "values: is.na is.nan is.finite is.infinite\n",
      "\n",
      "aggregation: any all min max range sum prod\n",
      "\n",
      "cumulation: diff cummin cummax cumsum cumprod\n",
      "\n",
      "access: length<- [ [<- [[ [[<-\n",
      "\n",
      "combine: c rep cbind rbind as.data.frame\n",
      "\n",
      "WARNING don't use as subscripts\n",
      "\n",
      "WARNING semantics differ from integer\n",
      "\n",
      "for more help type ?bit64\n",
      "\n",
      "\n",
      "Attaching package: 'bit64'\n",
      "\n",
      "\n",
      "The following objects are masked from 'package:base':\n",
      "\n",
      "    %in%, :, is.double, match, order, rank\n",
      "\n",
      "\n",
      "Type 'citation(\"pROC\")' for a citation.\n",
      "\n",
      "\n",
      "Attaching package: 'pROC'\n",
      "\n",
      "\n",
      "The following objects are masked from 'package:stats':\n",
      "\n",
      "    cov, smooth, var\n",
      "\n",
      "\n",
      "Warning message:\n",
      "\"package 'rms' was built under R version 4.0.5\"\n",
      "Loading required package: Hmisc\n",
      "\n",
      "Warning message:\n",
      "\"package 'Hmisc' was built under R version 4.0.5\"\n",
      "Loading required package: survival\n",
      "\n",
      "\n",
      "Attaching package: 'survival'\n",
      "\n",
      "\n",
      "The following object is masked from 'package:caret':\n",
      "\n",
      "    cluster\n",
      "\n",
      "\n",
      "Loading required package: Formula\n",
      "\n",
      "\n",
      "Attaching package: 'Hmisc'\n",
      "\n",
      "\n",
      "The following objects are masked from 'package:dplyr':\n",
      "\n",
      "    src, summarize\n",
      "\n",
      "\n",
      "The following objects are masked from 'package:base':\n",
      "\n",
      "    format.pval, units\n",
      "\n",
      "\n",
      "Loading required package: SparseM\n",
      "\n",
      "Warning message:\n",
      "\"package 'SparseM' was built under R version 4.0.4\"\n",
      "\n",
      "Attaching package: 'SparseM'\n",
      "\n",
      "\n",
      "The following object is masked from 'package:base':\n",
      "\n",
      "    backsolve\n",
      "\n",
      "\n"
     ]
    }
   ],
   "source": [
    "library(caret) # import this before glmnet to avoid rlang version problem\n",
    "library(data.table)\n",
    "library(tidyverse)\n",
    "library(lubridate)\n",
    "library(Matrix)\n",
    "library(glmnet)\n",
    "library(bit64)\n",
    "library(pROC)\n",
    "library(rms)"
   ]
  },
  {
   "cell_type": "code",
   "execution_count": 2,
   "metadata": {},
   "outputs": [],
   "source": [
    "# directories\n",
    "datadir = \"../../DataTD\"\n",
    "cohortdir = \"../../OutputTD/1_cohort\"\n",
    "featuredir = \"../../OutputTD/2_features\"\n",
    "modeldir4 = \"../../OutputTD/3_models/1_4_cohort\""
   ]
  },
  {
   "cell_type": "code",
   "execution_count": 17,
   "metadata": {},
   "outputs": [
    {
     "data": {
      "text/html": [
       "71107"
      ],
      "text/latex": [
       "71107"
      ],
      "text/markdown": [
       "71107"
      ],
      "text/plain": [
       "[1] 71107"
      ]
     },
     "metadata": {},
     "output_type": "display_data"
    },
    {
     "data": {
      "text/html": [
       "<style>\n",
       ".list-inline {list-style: none; margin:0; padding: 0}\n",
       ".list-inline>li {display: inline-block}\n",
       ".list-inline>li:not(:last-child)::after {content: \"\\00b7\"; padding: 0 .5ex}\n",
       "</style>\n",
       "<ol class=list-inline><li>'anon_id'</li><li>'pat_enc_csn_id_coded'</li><li>'admit_time'</li><li>'first_label'</li><li>'death_24hr_recent_label'</li><li>'death_24hr_max_label'</li><li>'pred_first'</li><li>'pred_death_24hr_recent'</li><li>'abs_diff0_24'</li><li>'diff0_True'</li><li>'diff24_True'</li><li>'feature_type'</li><li>'features'</li><li>'values'</li><li>'time'</li></ol>\n"
      ],
      "text/latex": [
       "\\begin{enumerate*}\n",
       "\\item 'anon\\_id'\n",
       "\\item 'pat\\_enc\\_csn\\_id\\_coded'\n",
       "\\item 'admit\\_time'\n",
       "\\item 'first\\_label'\n",
       "\\item 'death\\_24hr\\_recent\\_label'\n",
       "\\item 'death\\_24hr\\_max\\_label'\n",
       "\\item 'pred\\_first'\n",
       "\\item 'pred\\_death\\_24hr\\_recent'\n",
       "\\item 'abs\\_diff0\\_24'\n",
       "\\item 'diff0\\_True'\n",
       "\\item 'diff24\\_True'\n",
       "\\item 'feature\\_type'\n",
       "\\item 'features'\n",
       "\\item 'values'\n",
       "\\item 'time'\n",
       "\\end{enumerate*}\n"
      ],
      "text/markdown": [
       "1. 'anon_id'\n",
       "2. 'pat_enc_csn_id_coded'\n",
       "3. 'admit_time'\n",
       "4. 'first_label'\n",
       "5. 'death_24hr_recent_label'\n",
       "6. 'death_24hr_max_label'\n",
       "7. 'pred_first'\n",
       "8. 'pred_death_24hr_recent'\n",
       "9. 'abs_diff0_24'\n",
       "10. 'diff0_True'\n",
       "11. 'diff24_True'\n",
       "12. 'feature_type'\n",
       "13. 'features'\n",
       "14. 'values'\n",
       "15. 'time'\n",
       "\n",
       "\n"
      ],
      "text/plain": [
       " [1] \"anon_id\"                 \"pat_enc_csn_id_coded\"   \n",
       " [3] \"admit_time\"              \"first_label\"            \n",
       " [5] \"death_24hr_recent_label\" \"death_24hr_max_label\"   \n",
       " [7] \"pred_first\"              \"pred_death_24hr_recent\" \n",
       " [9] \"abs_diff0_24\"            \"diff0_True\"             \n",
       "[11] \"diff24_True\"             \"feature_type\"           \n",
       "[13] \"features\"                \"values\"                 \n",
       "[15] \"time\"                   "
      ]
     },
     "metadata": {},
     "output_type": "display_data"
    },
    {
     "name": "stderr",
     "output_type": "stream",
     "text": [
      "`summarise()` ungrouping output (override with `.groups` argument)\n",
      "\n"
     ]
    },
    {
     "data": {
      "text/html": [
       "<table>\n",
       "<caption>A tibble: 9 × 2</caption>\n",
       "<thead>\n",
       "\t<tr><th scope=col>feature_type</th><th scope=col>n</th></tr>\n",
       "\t<tr><th scope=col>&lt;chr&gt;</th><th scope=col>&lt;int&gt;</th></tr>\n",
       "</thead>\n",
       "<tbody>\n",
       "\t<tr><td>Microbiology</td><td>  203</td></tr>\n",
       "\t<tr><td>Procedures  </td><td>  513</td></tr>\n",
       "\t<tr><td>Imaging     </td><td> 1822</td></tr>\n",
       "\t<tr><td>demo        </td><td> 5406</td></tr>\n",
       "\t<tr><td>Lab         </td><td> 6305</td></tr>\n",
       "\t<tr><td>vitals      </td><td>12376</td></tr>\n",
       "\t<tr><td>Meds        </td><td>12397</td></tr>\n",
       "\t<tr><td>labs        </td><td>12616</td></tr>\n",
       "\t<tr><td>Diagnosis   </td><td>19469</td></tr>\n",
       "</tbody>\n",
       "</table>\n"
      ],
      "text/latex": [
       "A tibble: 9 × 2\n",
       "\\begin{tabular}{ll}\n",
       " feature\\_type & n\\\\\n",
       " <chr> & <int>\\\\\n",
       "\\hline\n",
       "\t Microbiology &   203\\\\\n",
       "\t Procedures   &   513\\\\\n",
       "\t Imaging      &  1822\\\\\n",
       "\t demo         &  5406\\\\\n",
       "\t Lab          &  6305\\\\\n",
       "\t vitals       & 12376\\\\\n",
       "\t Meds         & 12397\\\\\n",
       "\t labs         & 12616\\\\\n",
       "\t Diagnosis    & 19469\\\\\n",
       "\\end{tabular}\n"
      ],
      "text/markdown": [
       "\n",
       "A tibble: 9 × 2\n",
       "\n",
       "| feature_type &lt;chr&gt; | n &lt;int&gt; |\n",
       "|---|---|\n",
       "| Microbiology |   203 |\n",
       "| Procedures   |   513 |\n",
       "| Imaging      |  1822 |\n",
       "| demo         |  5406 |\n",
       "| Lab          |  6305 |\n",
       "| vitals       | 12376 |\n",
       "| Meds         | 12397 |\n",
       "| labs         | 12616 |\n",
       "| Diagnosis    | 19469 |\n",
       "\n"
      ],
      "text/plain": [
       "  feature_type n    \n",
       "1 Microbiology   203\n",
       "2 Procedures     513\n",
       "3 Imaging       1822\n",
       "4 demo          5406\n",
       "5 Lab           6305\n",
       "6 vitals       12376\n",
       "7 Meds         12397\n",
       "8 labs         12616\n",
       "9 Diagnosis    19469"
      ]
     },
     "metadata": {},
     "output_type": "display_data"
    }
   ],
   "source": [
    "coh_diff <- read.csv(file.path(modeldir4, '1_4_cohort_diff_full_features.csv'))\n",
    "nrow(coh_diff) #71107\n",
    "coh_diff <-  coh_diff %>% mutate(admit_time = ymd_hms(admit_time), time =  ymd_hms(time))\n",
    "colnames(coh_diff)\n",
    "\n",
    "coh_diff %>% group_by(feature_type) %>% summarise(n = n()) %>% arrange(n)"
   ]
  },
  {
   "cell_type": "code",
   "execution_count": 18,
   "metadata": {},
   "outputs": [
    {
     "name": "stderr",
     "output_type": "stream",
     "text": [
      "Scale for 'x' is already present. Adding another scale for 'x', which will\n",
      "replace the existing scale.\n",
      "\n",
      "Scale for 'y' is already present. Adding another scale for 'y', which will\n",
      "replace the existing scale.\n",
      "\n"
     ]
    },
    {
     "data": {
      "image/png": "[encoded data removed]",
      "text/plain": [
       "plot without title"
      ]
     },
     "metadata": {
      "image/png": {
       "height": 420,
       "width": 420
      }
     },
     "output_type": "display_data"
    }
   ],
   "source": [
    "options(repr.plot.width=7, repr.plot.height=7)\n",
    "\n",
    "ggplot(coh_diff, aes(x=pred_first, y=pred_death_24hr_recent)) + \n",
    "    geom_point(color = \"#0072B2\", size = 1) + xlim(0,1) + ylim(0,1) +\n",
    "    geom_abline(intercept = 0, slope = 1, size = 0.7) +\n",
    "    geom_abline(intercept = 0.3, slope = 1, size = 0.7, linetype=2, color = \"#D55E00\") +\n",
    "    geom_abline(intercept = -0.3, slope = 1, size = 0.7, linetype=2, color = \"#D55E00\") +\n",
    "    scale_x_continuous(name = \"predicted values for time 0\", expand = c(0, 0), limits=c(0, 1), \n",
    "                       breaks=c(0, 0.2, 0.4, 0.6, 0.8, 1)) + \n",
    "    scale_y_continuous(name = \" predicted values for time 24\", expand = c(0, 0), limits=c(0, 1), \n",
    "                       breaks=c(0, 0.2, 0.4, 0.6, 0.8, 1)) +\n",
    "    theme(axis.text=element_text(size=12),\n",
    "          axis.text.x = element_text(margin=margin(0, 0, 10, 0)),\n",
    "          axis.text.y = element_text(margin=margin(0, 0, 0, 10)),\n",
    "          plot.title = element_text(size=16, hjust=0.5, margin=margin(0, 0, 10, 0)),\n",
    "          axis.title=element_text(size=14)) +\n",
    "     labs(title = \"Predicted values: time 0 vs time 24\")\n"
   ]
  },
  {
   "cell_type": "markdown",
   "metadata": {},
   "source": [
    "### Check most difference first\n",
    "- 0.7 or more: 3\n",
    "- 0.6 or more: 11\n",
    "- 0.5 or more: 33"
   ]
  },
  {
   "cell_type": "code",
   "execution_count": 23,
   "metadata": {},
   "outputs": [
    {
     "name": "stderr",
     "output_type": "stream",
     "text": [
      "`summarise()` ungrouping output (override with `.groups` argument)\n",
      "\n"
     ]
    },
    {
     "data": {
      "text/html": [
       "<table>\n",
       "<caption>A tibble: 5 × 4</caption>\n",
       "<thead>\n",
       "\t<tr><th scope=col>abs_diff0_24</th><th scope=col>count</th><th scope=col>cum_count</th><th scope=col>cumperc(%)</th></tr>\n",
       "\t<tr><th scope=col>&lt;dbl&gt;</th><th scope=col>&lt;int&gt;</th><th scope=col>&lt;int&gt;</th><th scope=col>&lt;dbl&gt;</th></tr>\n",
       "</thead>\n",
       "<tbody>\n",
       "\t<tr><td>0.7</td><td>  561</td><td>  561</td><td>  0.79</td></tr>\n",
       "\t<tr><td>0.6</td><td> 1328</td><td> 1889</td><td>  2.66</td></tr>\n",
       "\t<tr><td>0.5</td><td> 5297</td><td> 7186</td><td> 10.11</td></tr>\n",
       "\t<tr><td>0.4</td><td>19987</td><td>27173</td><td> 38.21</td></tr>\n",
       "\t<tr><td>0.3</td><td>43934</td><td>71107</td><td>100.00</td></tr>\n",
       "</tbody>\n",
       "</table>\n"
      ],
      "text/latex": [
       "A tibble: 5 × 4\n",
       "\\begin{tabular}{llll}\n",
       " abs\\_diff0\\_24 & count & cum\\_count & cumperc(\\%)\\\\\n",
       " <dbl> & <int> & <int> & <dbl>\\\\\n",
       "\\hline\n",
       "\t 0.7 &   561 &   561 &   0.79\\\\\n",
       "\t 0.6 &  1328 &  1889 &   2.66\\\\\n",
       "\t 0.5 &  5297 &  7186 &  10.11\\\\\n",
       "\t 0.4 & 19987 & 27173 &  38.21\\\\\n",
       "\t 0.3 & 43934 & 71107 & 100.00\\\\\n",
       "\\end{tabular}\n"
      ],
      "text/markdown": [
       "\n",
       "A tibble: 5 × 4\n",
       "\n",
       "| abs_diff0_24 &lt;dbl&gt; | count &lt;int&gt; | cum_count &lt;int&gt; | cumperc(%) &lt;dbl&gt; |\n",
       "|---|---|---|---|\n",
       "| 0.7 |   561 |   561 |   0.79 |\n",
       "| 0.6 |  1328 |  1889 |   2.66 |\n",
       "| 0.5 |  5297 |  7186 |  10.11 |\n",
       "| 0.4 | 19987 | 27173 |  38.21 |\n",
       "| 0.3 | 43934 | 71107 | 100.00 |\n",
       "\n"
      ],
      "text/plain": [
       "  abs_diff0_24 count cum_count cumperc(%)\n",
       "1 0.7            561   561       0.79    \n",
       "2 0.6           1328  1889       2.66    \n",
       "3 0.5           5297  7186      10.11    \n",
       "4 0.4          19987 27173      38.21    \n",
       "5 0.3          43934 71107     100.00    "
      ]
     },
     "metadata": {},
     "output_type": "display_data"
    }
   ],
   "source": [
    "diff <- coh_diff %>% \n",
    "            group_by(abs_diff0_24) %>% summarise(count = n()) %>% arrange(-abs_diff0_24) %>% \n",
    "            mutate(cum_count = cumsum(count), 'cumperc(%)' = round(100*cum_count/nrow(coh_diff), 2)) \n",
    "\n",
    "diff"
   ]
  },
  {
   "cell_type": "code",
   "execution_count": null,
   "metadata": {},
   "outputs": [],
   "source": []
  },
  {
   "cell_type": "code",
   "execution_count": null,
   "metadata": {},
   "outputs": [],
   "source": []
  },
  {
   "cell_type": "code",
   "execution_count": null,
   "metadata": {},
   "outputs": [],
   "source": []
  }
 ],
 "metadata": {
  "environment": {
   "name": "r-cpu.4-0.m71",
   "type": "gcloud",
   "uri": "gcr.io/deeplearning-platform-release/r-cpu.4-0:m71"
  },
  "kernelspec": {
   "display_name": "R",
   "language": "R",
   "name": "ir"
  },
  "language_info": {
   "codemirror_mode": "r",
   "file_extension": ".r",
   "mimetype": "text/x-r-source",
   "name": "R",
   "pygments_lexer": "r",
   "version": "4.0.3"
  }
 },
 "nbformat": 4,
 "nbformat_minor": 4
}
