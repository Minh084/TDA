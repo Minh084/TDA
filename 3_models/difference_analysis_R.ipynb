{
 "cells": [
  {
   "cell_type": "markdown",
   "metadata": {},
   "source": [
    "### Description\n",
    "- Prediction differences between labels at time 0 and 24hr"
   ]
  },
  {
   "cell_type": "code",
   "execution_count": 1,
   "metadata": {},
   "outputs": [
    {
     "name": "stderr",
     "output_type": "stream",
     "text": [
      "Loading required package: lattice\n",
      "\n",
      "Loading required package: ggplot2\n",
      "\n",
      "-- \u001b[1mAttaching packages\u001b[22m --------------------------------------- tidyverse 1.3.0 --\n",
      "\n",
      "\u001b[32mv\u001b[39m \u001b[34mtibble \u001b[39m 3.0.4     \u001b[32mv\u001b[39m \u001b[34mdplyr  \u001b[39m 1.0.2\n",
      "\u001b[32mv\u001b[39m \u001b[34mtidyr  \u001b[39m 1.1.2     \u001b[32mv\u001b[39m \u001b[34mstringr\u001b[39m 1.4.0\n",
      "\u001b[32mv\u001b[39m \u001b[34mreadr  \u001b[39m 1.4.0     \u001b[32mv\u001b[39m \u001b[34mforcats\u001b[39m 0.5.0\n",
      "\u001b[32mv\u001b[39m \u001b[34mpurrr  \u001b[39m 0.3.4     \n",
      "\n",
      "-- \u001b[1mConflicts\u001b[22m ------------------------------------------ tidyverse_conflicts() --\n",
      "\u001b[31mx\u001b[39m \u001b[34mdplyr\u001b[39m::\u001b[32mbetween()\u001b[39m   masks \u001b[34mdata.table\u001b[39m::between()\n",
      "\u001b[31mx\u001b[39m \u001b[34mdplyr\u001b[39m::\u001b[32mfilter()\u001b[39m    masks \u001b[34mstats\u001b[39m::filter()\n",
      "\u001b[31mx\u001b[39m \u001b[34mdplyr\u001b[39m::\u001b[32mfirst()\u001b[39m     masks \u001b[34mdata.table\u001b[39m::first()\n",
      "\u001b[31mx\u001b[39m \u001b[34mdplyr\u001b[39m::\u001b[32mlag()\u001b[39m       masks \u001b[34mstats\u001b[39m::lag()\n",
      "\u001b[31mx\u001b[39m \u001b[34mdplyr\u001b[39m::\u001b[32mlast()\u001b[39m      masks \u001b[34mdata.table\u001b[39m::last()\n",
      "\u001b[31mx\u001b[39m \u001b[34mpurrr\u001b[39m::\u001b[32mlift()\u001b[39m      masks \u001b[34mcaret\u001b[39m::lift()\n",
      "\u001b[31mx\u001b[39m \u001b[34mpurrr\u001b[39m::\u001b[32mtranspose()\u001b[39m masks \u001b[34mdata.table\u001b[39m::transpose()\n",
      "\n",
      "\n",
      "Attaching package: 'lubridate'\n",
      "\n",
      "\n",
      "The following objects are masked from 'package:data.table':\n",
      "\n",
      "    hour, isoweek, mday, minute, month, quarter, second, wday, week,\n",
      "    yday, year\n",
      "\n",
      "\n",
      "The following objects are masked from 'package:base':\n",
      "\n",
      "    date, intersect, setdiff, union\n",
      "\n",
      "\n",
      "\n",
      "Attaching package: 'Matrix'\n",
      "\n",
      "\n",
      "The following objects are masked from 'package:tidyr':\n",
      "\n",
      "    expand, pack, unpack\n",
      "\n",
      "\n",
      "Warning message:\n",
      "\"package 'glmnet' was built under R version 4.0.5\"\n",
      "Loaded glmnet 4.1-1\n",
      "\n",
      "Warning message:\n",
      "\"package 'bit64' was built under R version 4.0.5\"\n",
      "Loading required package: bit\n",
      "\n",
      "Warning message:\n",
      "\"package 'bit' was built under R version 4.0.5\"\n",
      "\n",
      "Attaching package: 'bit'\n",
      "\n",
      "\n",
      "The following object is masked from 'package:data.table':\n",
      "\n",
      "    setattr\n",
      "\n",
      "\n",
      "The following object is masked from 'package:base':\n",
      "\n",
      "    xor\n",
      "\n",
      "\n",
      "Attaching package bit64\n",
      "\n",
      "package:bit64 (c) 2011-2017 Jens Oehlschlaegel\n",
      "\n",
      "creators: integer64 runif64 seq :\n",
      "\n",
      "coercion: as.integer64 as.vector as.logical as.integer as.double as.character as.bitstring\n",
      "\n",
      "logical operator: ! & | xor != == < <= >= >\n",
      "\n",
      "arithmetic operator: + - * / %/% %% ^\n",
      "\n",
      "math: sign abs sqrt log log2 log10\n",
      "\n",
      "math: floor ceiling trunc round\n",
      "\n",
      "querying: is.integer64 is.vector [is.atomic} [length] format print str\n",
      "\n",
      "values: is.na is.nan is.finite is.infinite\n",
      "\n",
      "aggregation: any all min max range sum prod\n",
      "\n",
      "cumulation: diff cummin cummax cumsum cumprod\n",
      "\n",
      "access: length<- [ [<- [[ [[<-\n",
      "\n",
      "combine: c rep cbind rbind as.data.frame\n",
      "\n",
      "WARNING don't use as subscripts\n",
      "\n",
      "WARNING semantics differ from integer\n",
      "\n",
      "for more help type ?bit64\n",
      "\n",
      "\n",
      "Attaching package: 'bit64'\n",
      "\n",
      "\n",
      "The following objects are masked from 'package:base':\n",
      "\n",
      "    %in%, :, is.double, match, order, rank\n",
      "\n",
      "\n",
      "Type 'citation(\"pROC\")' for a citation.\n",
      "\n",
      "\n",
      "Attaching package: 'pROC'\n",
      "\n",
      "\n",
      "The following objects are masked from 'package:stats':\n",
      "\n",
      "    cov, smooth, var\n",
      "\n",
      "\n",
      "Warning message:\n",
      "\"package 'rms' was built under R version 4.0.5\"\n",
      "Loading required package: Hmisc\n",
      "\n",
      "Warning message:\n",
      "\"package 'Hmisc' was built under R version 4.0.5\"\n",
      "Loading required package: survival\n",
      "\n",
      "\n",
      "Attaching package: 'survival'\n",
      "\n",
      "\n",
      "The following object is masked from 'package:caret':\n",
      "\n",
      "    cluster\n",
      "\n",
      "\n",
      "Loading required package: Formula\n",
      "\n",
      "\n",
      "Attaching package: 'Hmisc'\n",
      "\n",
      "\n",
      "The following objects are masked from 'package:dplyr':\n",
      "\n",
      "    src, summarize\n",
      "\n",
      "\n",
      "The following objects are masked from 'package:base':\n",
      "\n",
      "    format.pval, units\n",
      "\n",
      "\n",
      "Loading required package: SparseM\n",
      "\n",
      "Warning message:\n",
      "\"package 'SparseM' was built under R version 4.0.4\"\n",
      "\n",
      "Attaching package: 'SparseM'\n",
      "\n",
      "\n",
      "The following object is masked from 'package:base':\n",
      "\n",
      "    backsolve\n",
      "\n",
      "\n"
     ]
    }
   ],
   "source": [
    "library(caret) # import this before glmnet to avoid rlang version problem\n",
    "library(data.table)\n",
    "library(tidyverse)\n",
    "library(lubridate)\n",
    "library(Matrix)\n",
    "library(glmnet)\n",
    "library(bit64)\n",
    "library(pROC)\n",
    "library(rms)"
   ]
  },
  {
   "cell_type": "code",
   "execution_count": 2,
   "metadata": {},
   "outputs": [],
   "source": [
    "# directories\n",
    "datadir = \"../../DataTD\"\n",
    "cohortdir = \"../../OutputTD/1_cohort\"\n",
    "featuredir = \"../../OutputTD/2_features\"\n",
    "modeldir4 = \"../../OutputTD/3_models/1_4_cohort\""
   ]
  },
  {
   "cell_type": "code",
   "execution_count": 3,
   "metadata": {},
   "outputs": [
    {
     "data": {
      "text/html": [
       "40709"
      ],
      "text/latex": [
       "40709"
      ],
      "text/markdown": [
       "40709"
      ],
      "text/plain": [
       "[1] 40709"
      ]
     },
     "metadata": {},
     "output_type": "display_data"
    },
    {
     "data": {
      "text/html": [
       "<style>\n",
       ".list-inline {list-style: none; margin:0; padding: 0}\n",
       ".list-inline>li {display: inline-block}\n",
       ".list-inline>li:not(:last-child)::after {content: \"\\00b7\"; padding: 0 .5ex}\n",
       "</style>\n",
       "<ol class=list-inline><li>'anon_id'</li><li>'pat_enc_csn_id_coded'</li><li>'abs_diff0_24'</li><li>'admit_time'</li><li>'feature_type'</li><li>'features'</li><li>'values'</li><li>'first_label'</li><li>'death_24hr_recent_label'</li><li>'death_24hr_max_label'</li><li>'time'</li></ol>\n"
      ],
      "text/latex": [
       "\\begin{enumerate*}\n",
       "\\item 'anon\\_id'\n",
       "\\item 'pat\\_enc\\_csn\\_id\\_coded'\n",
       "\\item 'abs\\_diff0\\_24'\n",
       "\\item 'admit\\_time'\n",
       "\\item 'feature\\_type'\n",
       "\\item 'features'\n",
       "\\item 'values'\n",
       "\\item 'first\\_label'\n",
       "\\item 'death\\_24hr\\_recent\\_label'\n",
       "\\item 'death\\_24hr\\_max\\_label'\n",
       "\\item 'time'\n",
       "\\end{enumerate*}\n"
      ],
      "text/markdown": [
       "1. 'anon_id'\n",
       "2. 'pat_enc_csn_id_coded'\n",
       "3. 'abs_diff0_24'\n",
       "4. 'admit_time'\n",
       "5. 'feature_type'\n",
       "6. 'features'\n",
       "7. 'values'\n",
       "8. 'first_label'\n",
       "9. 'death_24hr_recent_label'\n",
       "10. 'death_24hr_max_label'\n",
       "11. 'time'\n",
       "\n",
       "\n"
      ],
      "text/plain": [
       " [1] \"anon_id\"                 \"pat_enc_csn_id_coded\"   \n",
       " [3] \"abs_diff0_24\"            \"admit_time\"             \n",
       " [5] \"feature_type\"            \"features\"               \n",
       " [7] \"values\"                  \"first_label\"            \n",
       " [9] \"death_24hr_recent_label\" \"death_24hr_max_label\"   \n",
       "[11] \"time\"                   "
      ]
     },
     "metadata": {},
     "output_type": "display_data"
    }
   ],
   "source": [
    "diff <- read.csv(file.path(modeldir4, '1_4_cohort_diff_full_features.csv'))\n",
    "nrow(diff)\n",
    "colnames(diff)\n",
    "# diff <-  diff %>% mutate(admit_time = ymd_hms(admit_time))"
   ]
  },
  {
   "cell_type": "code",
   "execution_count": 5,
   "metadata": {},
   "outputs": [
    {
     "name": "stderr",
     "output_type": "stream",
     "text": [
      "Scale for 'x' is already present. Adding another scale for 'x', which will\n",
      "replace the existing scale.\n",
      "\n",
      "Scale for 'y' is already present. Adding another scale for 'y', which will\n",
      "replace the existing scale.\n",
      "\n",
      "ERROR while rich displaying an object: Error in FUN(X[[i]], ...): object 'pred_first' not found\n",
      "\n",
      "Traceback:\n",
      "1. FUN(X[[i]], ...)\n",
      "2. tryCatch(withCallingHandlers({\n",
      " .     if (!mime %in% names(repr::mime2repr)) \n",
      " .         stop(\"No repr_* for mimetype \", mime, \" in repr::mime2repr\")\n",
      " .     rpr <- repr::mime2repr[[mime]](obj)\n",
      " .     if (is.null(rpr)) \n",
      " .         return(NULL)\n",
      " .     prepare_content(is.raw(rpr), rpr)\n",
      " . }, error = error_handler), error = outer_handler)\n",
      "3. tryCatchList(expr, classes, parentenv, handlers)\n",
      "4. tryCatchOne(expr, names, parentenv, handlers[[1L]])\n",
      "5. doTryCatch(return(expr), name, parentenv, handler)\n",
      "6. withCallingHandlers({\n",
      " .     if (!mime %in% names(repr::mime2repr)) \n",
      " .         stop(\"No repr_* for mimetype \", mime, \" in repr::mime2repr\")\n",
      " .     rpr <- repr::mime2repr[[mime]](obj)\n",
      " .     if (is.null(rpr)) \n",
      " .         return(NULL)\n",
      " .     prepare_content(is.raw(rpr), rpr)\n",
      " . }, error = error_handler)\n",
      "7. repr::mime2repr[[mime]](obj)\n",
      "8. repr_text.default(obj)\n",
      "9. paste(capture.output(print(obj)), collapse = \"\\n\")\n",
      "10. capture.output(print(obj))\n",
      "11. evalVis(expr)\n",
      "12. withVisible(eval(expr, pf))\n",
      "13. eval(expr, pf)\n",
      "14. eval(expr, pf)\n",
      "15. print(obj)\n",
      "16. print.ggplot(obj)\n",
      "17. ggplot_build(x)\n",
      "18. ggplot_build.ggplot(x)\n",
      "19. by_layer(function(l, d) l$compute_aesthetics(d, plot))\n",
      "20. f(l = layers[[i]], d = data[[i]])\n",
      "21. l$compute_aesthetics(d, plot)\n",
      "22. f(..., self = self)\n",
      "23. lapply(aesthetics, eval_tidy, data = data, env = env)\n",
      "24. FUN(X[[i]], ...)\n"
     ]
    },
    {
     "data": {
      "image/png": "[encoded data removed]",
      "text/plain": [
       "plot without title"
      ]
     },
     "metadata": {
      "image/png": {
       "height": 420,
       "width": 420
      }
     },
     "output_type": "display_data"
    }
   ],
   "source": [
    "options(repr.plot.width=7, repr.plot.height=7)\n",
    "\n",
    "ggplot(diff, aes(x=pred_first, y=pred_death_24hr_recent)) + \n",
    "    geom_point(color = \"#0072B2\", size = 1) + xlim(0,1) + ylim(0,1) +\n",
    "    geom_abline(intercept = 0, slope = 1, size = 0.7) +\n",
    "    geom_abline(intercept = 0.3, slope = 1, size = 0.7, linetype=2, color = \"#D55E00\") +\n",
    "    geom_abline(intercept = -0.3, slope = 1, size = 0.7, linetype=2, color = \"#D55E00\") +\n",
    "    scale_x_continuous(name = \"predicted values for time 0\", expand = c(0, 0), limits=c(0, 1), \n",
    "                       breaks=c(0, 0.2, 0.4, 0.6, 0.8, 1)) + \n",
    "    scale_y_continuous(name = \" predicted values for time 24\", expand = c(0, 0), limits=c(0, 1), \n",
    "                       breaks=c(0, 0.2, 0.4, 0.6, 0.8, 1)) +\n",
    "    theme(axis.text=element_text(size=12),\n",
    "          axis.text.x = element_text(margin=margin(0, 0, 10, 0)),\n",
    "          axis.text.y = element_text(margin=margin(0, 0, 0, 10)),\n",
    "          plot.title = element_text(size=16, hjust=0.5, margin=margin(0, 0, 10, 0)),\n",
    "          axis.title=element_text(size=14)) +\n",
    "     labs(title = \"Predicted values: time 0 vs time 24\")\n"
   ]
  },
  {
   "cell_type": "code",
   "execution_count": 209,
   "metadata": {},
   "outputs": [],
   "source": [
    "write.csv(cohort_test, file.path(modeldir4, \"1_4_cohort_test_results.csv\"), row.names=FALSE)"
   ]
  },
  {
   "cell_type": "markdown",
   "metadata": {},
   "source": [
    "### Get all features used for prediction for the test cohort"
   ]
  },
  {
   "cell_type": "code",
   "execution_count": 8,
   "metadata": {},
   "outputs": [
    {
     "data": {
      "text/html": [
       "5730678"
      ],
      "text/latex": [
       "5730678"
      ],
      "text/markdown": [
       "5730678"
      ],
      "text/plain": [
       "[1] 5730678"
      ]
     },
     "metadata": {},
     "output_type": "display_data"
    }
   ],
   "source": [
    "orders5 <- read.csv(file.path(datadir, 'coh5_order_code_counts.csv'))\n",
    "nrow(orders5) # should have 5730678"
   ]
  },
  {
   "cell_type": "code",
   "execution_count": 202,
   "metadata": {},
   "outputs": [
    {
     "data": {
      "text/html": [
       "6086852"
      ],
      "text/latex": [
       "6086852"
      ],
      "text/markdown": [
       "6086852"
      ],
      "text/plain": [
       "[1] 6086852"
      ]
     },
     "metadata": {},
     "output_type": "display_data"
    }
   ],
   "source": [
    "orders4 <- read.csv(file.path(datadir, 'coh4_order_code_counts.csv')) %>% mutate(admit_time = ymd_hms(admit_time))\n",
    "nrow(orders4) # 4322665 is in correct, should have 6086852"
   ]
  },
  {
   "cell_type": "code",
   "execution_count": 203,
   "metadata": {},
   "outputs": [
    {
     "data": {
      "text/html": [
       "3085046"
      ],
      "text/latex": [
       "3085046"
      ],
      "text/markdown": [
       "3085046"
      ],
      "text/plain": [
       "[1] 3085046"
      ]
     },
     "metadata": {},
     "output_type": "display_data"
    }
   ],
   "source": [
    "values <- read.csv(file.path(featuredir, '2_7_coh4_feature_values.csv')) %>% mutate(admit_time = ymd_hms(admit_time))\n",
    "nrow(values) #3085046"
   ]
  },
  {
   "cell_type": "code",
   "execution_count": 208,
   "metadata": {},
   "outputs": [
    {
     "data": {
      "text/html": [
       "<style>\n",
       ".list-inline {list-style: none; margin:0; padding: 0}\n",
       ".list-inline>li {display: inline-block}\n",
       ".list-inline>li:not(:last-child)::after {content: \"\\00b7\"; padding: 0 .5ex}\n",
       "</style>\n",
       "<ol class=list-inline><li>'anon_id'</li><li>'pat_enc_csn_id_coded'</li><li>'admit_time'</li><li>'feature_type'</li><li>'features'</li><li>'values'</li></ol>\n"
      ],
      "text/latex": [
       "\\begin{enumerate*}\n",
       "\\item 'anon\\_id'\n",
       "\\item 'pat\\_enc\\_csn\\_id\\_coded'\n",
       "\\item 'admit\\_time'\n",
       "\\item 'feature\\_type'\n",
       "\\item 'features'\n",
       "\\item 'values'\n",
       "\\end{enumerate*}\n"
      ],
      "text/markdown": [
       "1. 'anon_id'\n",
       "2. 'pat_enc_csn_id_coded'\n",
       "3. 'admit_time'\n",
       "4. 'feature_type'\n",
       "5. 'features'\n",
       "6. 'values'\n",
       "\n",
       "\n"
      ],
      "text/plain": [
       "[1] \"anon_id\"              \"pat_enc_csn_id_coded\" \"admit_time\"          \n",
       "[4] \"feature_type\"         \"features\"             \"values\"              "
      ]
     },
     "metadata": {},
     "output_type": "display_data"
    },
    {
     "data": {
      "text/html": [
       "<style>\n",
       ".list-inline {list-style: none; margin:0; padding: 0}\n",
       ".list-inline>li {display: inline-block}\n",
       ".list-inline>li:not(:last-child)::after {content: \"\\00b7\"; padding: 0 .5ex}\n",
       "</style>\n",
       "<ol class=list-inline><li>'anon_id'</li><li>'pat_enc_csn_id_coded'</li><li>'admit_time'</li><li>'first_label'</li><li>'death_24hr_recent_label'</li><li>'death_24hr_max_label'</li><li>'feature_type'</li><li>'features'</li><li>'values'</li><li>'time'</li></ol>\n"
      ],
      "text/latex": [
       "\\begin{enumerate*}\n",
       "\\item 'anon\\_id'\n",
       "\\item 'pat\\_enc\\_csn\\_id\\_coded'\n",
       "\\item 'admit\\_time'\n",
       "\\item 'first\\_label'\n",
       "\\item 'death\\_24hr\\_recent\\_label'\n",
       "\\item 'death\\_24hr\\_max\\_label'\n",
       "\\item 'feature\\_type'\n",
       "\\item 'features'\n",
       "\\item 'values'\n",
       "\\item 'time'\n",
       "\\end{enumerate*}\n"
      ],
      "text/markdown": [
       "1. 'anon_id'\n",
       "2. 'pat_enc_csn_id_coded'\n",
       "3. 'admit_time'\n",
       "4. 'first_label'\n",
       "5. 'death_24hr_recent_label'\n",
       "6. 'death_24hr_max_label'\n",
       "7. 'feature_type'\n",
       "8. 'features'\n",
       "9. 'values'\n",
       "10. 'time'\n",
       "\n",
       "\n"
      ],
      "text/plain": [
       " [1] \"anon_id\"                 \"pat_enc_csn_id_coded\"   \n",
       " [3] \"admit_time\"              \"first_label\"            \n",
       " [5] \"death_24hr_recent_label\" \"death_24hr_max_label\"   \n",
       " [7] \"feature_type\"            \"features\"               \n",
       " [9] \"values\"                  \"time\"                   "
      ]
     },
     "metadata": {},
     "output_type": "display_data"
    },
    {
     "data": {
      "text/html": [
       "<style>\n",
       ".list-inline {list-style: none; margin:0; padding: 0}\n",
       ".list-inline>li {display: inline-block}\n",
       ".list-inline>li:not(:last-child)::after {content: \"\\00b7\"; padding: 0 .5ex}\n",
       "</style>\n",
       "<ol class=list-inline><li>'anon_id'</li><li>'pat_enc_csn_id_coded'</li><li>'inpatient_data_id_coded'</li><li>'admit_time'</li><li>'label_max24'</li><li>'label_24hr_recent'</li><li>'admit_label'</li><li>'has_admit_label'</li><li>'died_within_24hrs'</li><li>'death_24hr_max_label'</li><li>'death_24hr_recent_label'</li><li>'first_label'</li><li>'first_label_minutes_since_admit'</li><li>'acute_to_critical_label_recent'</li><li>'critical_to_acute_label_recent'</li><li>'acute_to_critical_label_max'</li><li>'critical_to_acute_label_max'</li><li>'adm_year'</li><li>'transfer'</li><li>'pred_death_24hr_max'</li><li>'pred_death_24hr_recent'</li><li>'pred_first'</li><li>'diff0_24'</li><li>'diff0_True'</li><li>'diff24_True'</li><li>'abs_diff0_24'</li></ol>\n"
      ],
      "text/latex": [
       "\\begin{enumerate*}\n",
       "\\item 'anon\\_id'\n",
       "\\item 'pat\\_enc\\_csn\\_id\\_coded'\n",
       "\\item 'inpatient\\_data\\_id\\_coded'\n",
       "\\item 'admit\\_time'\n",
       "\\item 'label\\_max24'\n",
       "\\item 'label\\_24hr\\_recent'\n",
       "\\item 'admit\\_label'\n",
       "\\item 'has\\_admit\\_label'\n",
       "\\item 'died\\_within\\_24hrs'\n",
       "\\item 'death\\_24hr\\_max\\_label'\n",
       "\\item 'death\\_24hr\\_recent\\_label'\n",
       "\\item 'first\\_label'\n",
       "\\item 'first\\_label\\_minutes\\_since\\_admit'\n",
       "\\item 'acute\\_to\\_critical\\_label\\_recent'\n",
       "\\item 'critical\\_to\\_acute\\_label\\_recent'\n",
       "\\item 'acute\\_to\\_critical\\_label\\_max'\n",
       "\\item 'critical\\_to\\_acute\\_label\\_max'\n",
       "\\item 'adm\\_year'\n",
       "\\item 'transfer'\n",
       "\\item 'pred\\_death\\_24hr\\_max'\n",
       "\\item 'pred\\_death\\_24hr\\_recent'\n",
       "\\item 'pred\\_first'\n",
       "\\item 'diff0\\_24'\n",
       "\\item 'diff0\\_True'\n",
       "\\item 'diff24\\_True'\n",
       "\\item 'abs\\_diff0\\_24'\n",
       "\\end{enumerate*}\n"
      ],
      "text/markdown": [
       "1. 'anon_id'\n",
       "2. 'pat_enc_csn_id_coded'\n",
       "3. 'inpatient_data_id_coded'\n",
       "4. 'admit_time'\n",
       "5. 'label_max24'\n",
       "6. 'label_24hr_recent'\n",
       "7. 'admit_label'\n",
       "8. 'has_admit_label'\n",
       "9. 'died_within_24hrs'\n",
       "10. 'death_24hr_max_label'\n",
       "11. 'death_24hr_recent_label'\n",
       "12. 'first_label'\n",
       "13. 'first_label_minutes_since_admit'\n",
       "14. 'acute_to_critical_label_recent'\n",
       "15. 'critical_to_acute_label_recent'\n",
       "16. 'acute_to_critical_label_max'\n",
       "17. 'critical_to_acute_label_max'\n",
       "18. 'adm_year'\n",
       "19. 'transfer'\n",
       "20. 'pred_death_24hr_max'\n",
       "21. 'pred_death_24hr_recent'\n",
       "22. 'pred_first'\n",
       "23. 'diff0_24'\n",
       "24. 'diff0_True'\n",
       "25. 'diff24_True'\n",
       "26. 'abs_diff0_24'\n",
       "\n",
       "\n"
      ],
      "text/plain": [
       " [1] \"anon_id\"                         \"pat_enc_csn_id_coded\"           \n",
       " [3] \"inpatient_data_id_coded\"         \"admit_time\"                     \n",
       " [5] \"label_max24\"                     \"label_24hr_recent\"              \n",
       " [7] \"admit_label\"                     \"has_admit_label\"                \n",
       " [9] \"died_within_24hrs\"               \"death_24hr_max_label\"           \n",
       "[11] \"death_24hr_recent_label\"         \"first_label\"                    \n",
       "[13] \"first_label_minutes_since_admit\" \"acute_to_critical_label_recent\" \n",
       "[15] \"critical_to_acute_label_recent\"  \"acute_to_critical_label_max\"    \n",
       "[17] \"critical_to_acute_label_max\"     \"adm_year\"                       \n",
       "[19] \"transfer\"                        \"pred_death_24hr_max\"            \n",
       "[21] \"pred_death_24hr_recent\"          \"pred_first\"                     \n",
       "[23] \"diff0_24\"                        \"diff0_True\"                     \n",
       "[25] \"diff24_True\"                     \"abs_diff0_24\"                   "
      ]
     },
     "metadata": {},
     "output_type": "display_data"
    },
    {
     "data": {
      "text/html": [
       "12418"
      ],
      "text/latex": [
       "12418"
      ],
      "text/markdown": [
       "12418"
      ],
      "text/plain": [
       "[1] 12418"
      ]
     },
     "metadata": {},
     "output_type": "display_data"
    }
   ],
   "source": [
    "colnames(orders4)\n",
    "colnames(values)\n",
    "colnames(cohort_test)\n",
    "nrow(cohort_test)"
   ]
  },
  {
   "cell_type": "code",
   "execution_count": 211,
   "metadata": {},
   "outputs": [],
   "source": [
    "cohort_diff <- cohort_test %>% select(anon_id, pat_enc_csn_id_coded, abs_diff0_24) %>% filter(abs_diff0_24 >= 0.3)"
   ]
  },
  {
   "cell_type": "code",
   "execution_count": 212,
   "metadata": {},
   "outputs": [
    {
     "name": "stderr",
     "output_type": "stream",
     "text": [
      "Joining, by = c(\"anon_id\", \"pat_enc_csn_id_coded\")\n",
      "\n",
      "Joining, by = c(\"anon_id\", \"pat_enc_csn_id_coded\", \"admit_time\", \"feature_type\", \"features\", \"values\")\n",
      "\n"
     ]
    },
    {
     "data": {
      "text/html": [
       "40709"
      ],
      "text/latex": [
       "40709"
      ],
      "text/markdown": [
       "40709"
      ],
      "text/plain": [
       "[1] 40709"
      ]
     },
     "metadata": {},
     "output_type": "display_data"
    },
    {
     "data": {
      "text/html": [
       "318"
      ],
      "text/latex": [
       "318"
      ],
      "text/markdown": [
       "318"
      ],
      "text/plain": [
       "[1] 318"
      ]
     },
     "metadata": {},
     "output_type": "display_data"
    }
   ],
   "source": [
    "diff_cohort_full_features <- left_join(cohort_diff, orders4) %>% left_join(values)\n",
    "nrow(diff_cohort_full_features)\n",
    "length(unique(diff_cohort_full_features$pat_enc_csn_id_coded))"
   ]
  },
  {
   "cell_type": "code",
   "execution_count": 213,
   "metadata": {},
   "outputs": [],
   "source": [
    "write.csv(diff_cohort_full_features, file.path(modeldir4, \"1_4_cohort_diff_full_features.csv\"), row.names=FALSE)"
   ]
  },
  {
   "cell_type": "markdown",
   "metadata": {},
   "source": [
    "### Patient visits predictions vs. truth\n"
   ]
  },
  {
   "cell_type": "code",
   "execution_count": 132,
   "metadata": {},
   "outputs": [
    {
     "data": {
      "text/plain": [
       "     Min.   1st Qu.    Median      Mean   3rd Qu.      Max. \n",
       "-0.990000  0.010000  0.030000 -0.007673  0.070000  0.930000 "
      ]
     },
     "metadata": {},
     "output_type": "display_data"
    },
    {
     "data": {
      "text/plain": [
       "    Min.  1st Qu.   Median     Mean  3rd Qu.     Max. \n",
       "-0.99000  0.01000  0.03000 -0.05359  0.06000  0.76000 "
      ]
     },
     "metadata": {},
     "output_type": "display_data"
    }
   ],
   "source": [
    "summary(cohort_test$diff0_True)\n",
    "summary(cohort_test$diff24_True)"
   ]
  },
  {
   "cell_type": "code",
   "execution_count": 139,
   "metadata": {},
   "outputs": [
    {
     "data": {
      "text/html": [
       "<style>\n",
       ".list-inline {list-style: none; margin:0; padding: 0}\n",
       ".list-inline>li {display: inline-block}\n",
       ".list-inline>li:not(:last-child)::after {content: \"\\00b7\"; padding: 0 .5ex}\n",
       "</style>\n",
       "<ol class=list-inline><li>'anon_id'</li><li>'pat_enc_csn_id_coded'</li><li>'inpatient_data_id_coded'</li><li>'admit_time'</li><li>'label_max24'</li><li>'label_24hr_recent'</li><li>'admit_label'</li><li>'has_admit_label'</li><li>'died_within_24hrs'</li><li>'death_24hr_max_label'</li><li>'death_24hr_recent_label'</li><li>'first_label'</li><li>'first_label_minutes_since_admit'</li><li>'acute_to_critical_label_recent'</li><li>'critical_to_acute_label_recent'</li><li>'acute_to_critical_label_max'</li><li>'critical_to_acute_label_max'</li><li>'adm_year'</li><li>'pred_death_24hr_max'</li><li>'pred_death_24hr_recent'</li><li>'pred_first'</li><li>'diff0_24'</li><li>'diff0_True'</li><li>'diff24_True'</li></ol>\n"
      ],
      "text/latex": [
       "\\begin{enumerate*}\n",
       "\\item 'anon\\_id'\n",
       "\\item 'pat\\_enc\\_csn\\_id\\_coded'\n",
       "\\item 'inpatient\\_data\\_id\\_coded'\n",
       "\\item 'admit\\_time'\n",
       "\\item 'label\\_max24'\n",
       "\\item 'label\\_24hr\\_recent'\n",
       "\\item 'admit\\_label'\n",
       "\\item 'has\\_admit\\_label'\n",
       "\\item 'died\\_within\\_24hrs'\n",
       "\\item 'death\\_24hr\\_max\\_label'\n",
       "\\item 'death\\_24hr\\_recent\\_label'\n",
       "\\item 'first\\_label'\n",
       "\\item 'first\\_label\\_minutes\\_since\\_admit'\n",
       "\\item 'acute\\_to\\_critical\\_label\\_recent'\n",
       "\\item 'critical\\_to\\_acute\\_label\\_recent'\n",
       "\\item 'acute\\_to\\_critical\\_label\\_max'\n",
       "\\item 'critical\\_to\\_acute\\_label\\_max'\n",
       "\\item 'adm\\_year'\n",
       "\\item 'pred\\_death\\_24hr\\_max'\n",
       "\\item 'pred\\_death\\_24hr\\_recent'\n",
       "\\item 'pred\\_first'\n",
       "\\item 'diff0\\_24'\n",
       "\\item 'diff0\\_True'\n",
       "\\item 'diff24\\_True'\n",
       "\\end{enumerate*}\n"
      ],
      "text/markdown": [
       "1. 'anon_id'\n",
       "2. 'pat_enc_csn_id_coded'\n",
       "3. 'inpatient_data_id_coded'\n",
       "4. 'admit_time'\n",
       "5. 'label_max24'\n",
       "6. 'label_24hr_recent'\n",
       "7. 'admit_label'\n",
       "8. 'has_admit_label'\n",
       "9. 'died_within_24hrs'\n",
       "10. 'death_24hr_max_label'\n",
       "11. 'death_24hr_recent_label'\n",
       "12. 'first_label'\n",
       "13. 'first_label_minutes_since_admit'\n",
       "14. 'acute_to_critical_label_recent'\n",
       "15. 'critical_to_acute_label_recent'\n",
       "16. 'acute_to_critical_label_max'\n",
       "17. 'critical_to_acute_label_max'\n",
       "18. 'adm_year'\n",
       "19. 'pred_death_24hr_max'\n",
       "20. 'pred_death_24hr_recent'\n",
       "21. 'pred_first'\n",
       "22. 'diff0_24'\n",
       "23. 'diff0_True'\n",
       "24. 'diff24_True'\n",
       "\n",
       "\n"
      ],
      "text/plain": [
       " [1] \"anon_id\"                         \"pat_enc_csn_id_coded\"           \n",
       " [3] \"inpatient_data_id_coded\"         \"admit_time\"                     \n",
       " [5] \"label_max24\"                     \"label_24hr_recent\"              \n",
       " [7] \"admit_label\"                     \"has_admit_label\"                \n",
       " [9] \"died_within_24hrs\"               \"death_24hr_max_label\"           \n",
       "[11] \"death_24hr_recent_label\"         \"first_label\"                    \n",
       "[13] \"first_label_minutes_since_admit\" \"acute_to_critical_label_recent\" \n",
       "[15] \"critical_to_acute_label_recent\"  \"acute_to_critical_label_max\"    \n",
       "[17] \"critical_to_acute_label_max\"     \"adm_year\"                       \n",
       "[19] \"pred_death_24hr_max\"             \"pred_death_24hr_recent\"         \n",
       "[21] \"pred_first\"                      \"diff0_24\"                       \n",
       "[23] \"diff0_True\"                      \"diff24_True\"                    "
      ]
     },
     "metadata": {},
     "output_type": "display_data"
    }
   ],
   "source": [
    "colnames(cohort_test)"
   ]
  },
  {
   "cell_type": "code",
   "execution_count": 214,
   "metadata": {},
   "outputs": [],
   "source": [
    "diff3 <- gather(cohort_test, diffs, values, diff0_24:diff24_True, factor_key=TRUE)\n",
    "diff2 <- diff3 %>% filter(diffs != 'diff0_24')"
   ]
  },
  {
   "cell_type": "code",
   "execution_count": 215,
   "metadata": {},
   "outputs": [
    {
     "name": "stderr",
     "output_type": "stream",
     "text": [
      "`stat_bin()` using `bins = 30`. Pick better value with `binwidth`.\n",
      "\n"
     ]
    },
    {
     "data": {
      "image/png": "[encoded data removed]",
      "text/plain": [
       "plot without title"
      ]
     },
     "metadata": {
      "image/png": {
       "height": 600,
       "width": 420
      }
     },
     "output_type": "display_data"
    }
   ],
   "source": [
    "options(repr.plot.width=7, repr.plot.height=10)\n",
    "\n",
    "ggplot(diff2, aes(x = values)) +\n",
    "  geom_histogram(fill = \"white\", colour = \"black\") +\n",
    "  facet_grid(diffs ~ .)"
   ]
  },
  {
   "cell_type": "markdown",
   "metadata": {},
   "source": [
    "### "
   ]
  },
  {
   "cell_type": "markdown",
   "metadata": {},
   "source": [
    "### Check most difference first\n",
    "- 0.7 or more: 3\n",
    "- 0.6 or more: 11\n",
    "- 0.5 or more: 33"
   ]
  },
  {
   "cell_type": "code",
   "execution_count": 246,
   "metadata": {},
   "outputs": [
    {
     "data": {
      "text/html": [
       "<table>\n",
       "<caption>A tibble: 8 × 4</caption>\n",
       "<thead>\n",
       "\t<tr><th scope=col>abs_diff0_24</th><th scope=col>count</th><th scope=col>cum_count</th><th scope=col>cumperc</th></tr>\n",
       "\t<tr><th scope=col>&lt;dbl&gt;</th><th scope=col>&lt;int&gt;</th><th scope=col>&lt;int&gt;</th><th scope=col>&lt;dbl&gt;</th></tr>\n",
       "</thead>\n",
       "<tbody>\n",
       "\t<tr><td>0.7</td><td>   3</td><td>    3</td><td>  0.02</td></tr>\n",
       "\t<tr><td>0.6</td><td>   8</td><td>   11</td><td>  0.09</td></tr>\n",
       "\t<tr><td>0.5</td><td>  22</td><td>   33</td><td>  0.27</td></tr>\n",
       "\t<tr><td>0.4</td><td>  79</td><td>  112</td><td>  0.90</td></tr>\n",
       "\t<tr><td>0.3</td><td> 206</td><td>  318</td><td>  2.56</td></tr>\n",
       "\t<tr><td>0.2</td><td> 501</td><td>  819</td><td>  6.60</td></tr>\n",
       "\t<tr><td>0.1</td><td>1619</td><td> 2438</td><td> 19.63</td></tr>\n",
       "\t<tr><td>0.0</td><td>9980</td><td>12418</td><td>100.00</td></tr>\n",
       "</tbody>\n",
       "</table>\n"
      ],
      "text/latex": [
       "A tibble: 8 × 4\n",
       "\\begin{tabular}{llll}\n",
       " abs\\_diff0\\_24 & count & cum\\_count & cumperc\\\\\n",
       " <dbl> & <int> & <int> & <dbl>\\\\\n",
       "\\hline\n",
       "\t 0.7 &    3 &     3 &   0.02\\\\\n",
       "\t 0.6 &    8 &    11 &   0.09\\\\\n",
       "\t 0.5 &   22 &    33 &   0.27\\\\\n",
       "\t 0.4 &   79 &   112 &   0.90\\\\\n",
       "\t 0.3 &  206 &   318 &   2.56\\\\\n",
       "\t 0.2 &  501 &   819 &   6.60\\\\\n",
       "\t 0.1 & 1619 &  2438 &  19.63\\\\\n",
       "\t 0.0 & 9980 & 12418 & 100.00\\\\\n",
       "\\end{tabular}\n"
      ],
      "text/markdown": [
       "\n",
       "A tibble: 8 × 4\n",
       "\n",
       "| abs_diff0_24 &lt;dbl&gt; | count &lt;int&gt; | cum_count &lt;int&gt; | cumperc &lt;dbl&gt; |\n",
       "|---|---|---|---|\n",
       "| 0.7 |    3 |     3 |   0.02 |\n",
       "| 0.6 |    8 |    11 |   0.09 |\n",
       "| 0.5 |   22 |    33 |   0.27 |\n",
       "| 0.4 |   79 |   112 |   0.90 |\n",
       "| 0.3 |  206 |   318 |   2.56 |\n",
       "| 0.2 |  501 |   819 |   6.60 |\n",
       "| 0.1 | 1619 |  2438 |  19.63 |\n",
       "| 0.0 | 9980 | 12418 | 100.00 |\n",
       "\n"
      ],
      "text/plain": [
       "  abs_diff0_24 count cum_count cumperc\n",
       "1 0.7             3      3       0.02 \n",
       "2 0.6             8     11       0.09 \n",
       "3 0.5            22     33       0.27 \n",
       "4 0.4            79    112       0.90 \n",
       "5 0.3           206    318       2.56 \n",
       "6 0.2           501    819       6.60 \n",
       "7 0.1          1619   2438      19.63 \n",
       "8 0.0          9980  12418     100.00 "
      ]
     },
     "metadata": {},
     "output_type": "display_data"
    }
   ],
   "source": [
    "diff"
   ]
  },
  {
   "cell_type": "code",
   "execution_count": null,
   "metadata": {},
   "outputs": [],
   "source": []
  },
  {
   "cell_type": "code",
   "execution_count": null,
   "metadata": {},
   "outputs": [],
   "source": []
  },
  {
   "cell_type": "code",
   "execution_count": null,
   "metadata": {},
   "outputs": [],
   "source": []
  },
  {
   "cell_type": "markdown",
   "metadata": {},
   "source": [
    "### Check AUC and PRC"
   ]
  },
  {
   "cell_type": "code",
   "execution_count": 74,
   "metadata": {},
   "outputs": [
    {
     "data": {
      "text/html": [
       "0.875995437857203"
      ],
      "text/latex": [
       "0.875995437857203"
      ],
      "text/markdown": [
       "0.875995437857203"
      ],
      "text/plain": [
       "[1] 0.8759954"
      ]
     },
     "metadata": {},
     "output_type": "display_data"
    },
    {
     "data": {
      "text/html": [
       "0.64255115231513"
      ],
      "text/latex": [
       "0.64255115231513"
      ],
      "text/markdown": [
       "0.64255115231513"
      ],
      "text/plain": [
       "[1] 0.6425512"
      ]
     },
     "metadata": {},
     "output_type": "display_data"
    },
    {
     "data": {
      "image/png": "[encoded data removed]",
      "text/plain": [
       "plot without title"
      ]
     },
     "metadata": {
      "image/png": {
       "height": 420,
       "width": 420
      }
     },
     "output_type": "display_data"
    },
    {
     "data": {
      "image/png": "[encoded data removed]",
      "text/plain": [
       "plot without title"
      ]
     },
     "metadata": {
      "image/png": {
       "height": 420,
       "width": 420
      }
     },
     "output_type": "display_data"
    }
   ],
   "source": [
    "# get performance metrics AUC and PRC, highest level of care\n",
    "options(repr.plot.width=7, repr.plot.height=7)\n",
    "\n",
    "# pred_rocr = ROCR::prediction(cohort_test$pred_death_24hr_recent, cohort_test$death_24hr_recent_label)\n",
    "pred_rocr = ROCR::prediction(cohort_test$pred_death_24hr_max, cohort_test$death_24hr_max_label)\n",
    "auc = ROCR::performance(pred_rocr, measure = \"auc\", x.measure = \"cutoff\")@y.values[[1]]\n",
    "prc = ROCR::performance(pred_rocr, measure = \"aucpr\", x.measure = \"cutoff\")@y.values[[1]]\n",
    "\n",
    "PRC.perf <- ROCR::performance(pred_rocr, \"prec\", \"rec\")\n",
    "ROC.perf <-  ROCR::performance(pred_rocr, \"tpr\", \"fpr\")\n",
    "auc; prc\n",
    "\n",
    "plot(ROC.perf)\n",
    "plot(PRC.perf)"
   ]
  },
  {
   "cell_type": "code",
   "execution_count": 70,
   "metadata": {},
   "outputs": [
    {
     "data": {
      "text/html": [
       "0.852746095933298"
      ],
      "text/latex": [
       "0.852746095933298"
      ],
      "text/markdown": [
       "0.852746095933298"
      ],
      "text/plain": [
       "[1] 0.8527461"
      ]
     },
     "metadata": {},
     "output_type": "display_data"
    },
    {
     "data": {
      "text/html": [
       "0.491112785165401"
      ],
      "text/latex": [
       "0.491112785165401"
      ],
      "text/markdown": [
       "0.491112785165401"
      ],
      "text/plain": [
       "[1] 0.4911128"
      ]
     },
     "metadata": {},
     "output_type": "display_data"
    },
    {
     "data": {
      "image/png": "[encoded data removed]",
      "text/plain": [
       "plot without title"
      ]
     },
     "metadata": {
      "image/png": {
       "height": 420,
       "width": 420
      }
     },
     "output_type": "display_data"
    },
    {
     "data": {
      "image/png": "[encoded data removed]",
      "text/plain": [
       "plot without title"
      ]
     },
     "metadata": {
      "image/png": {
       "height": 420,
       "width": 420
      }
     },
     "output_type": "display_data"
    }
   ],
   "source": [
    "# get performance metrics AUC and PRC, at 24hr\n",
    "options(repr.plot.width=7, repr.plot.height=7)\n",
    "\n",
    "pred_rocr = ROCR::prediction(cohort_test$pred_death_24hr_recent, cohort_test$death_24hr_recent_label)\n",
    "auc = ROCR::performance(pred_rocr, measure = \"auc\", x.measure = \"cutoff\")@y.values[[1]]\n",
    "prc = ROCR::performance(pred_rocr, measure = \"aucpr\", x.measure = \"cutoff\")@y.values[[1]]\n",
    "\n",
    "PRC.perf <- ROCR::performance(pred_rocr, \"prec\", \"rec\")\n",
    "ROC.perf <-  ROCR::performance(pred_rocr, \"tpr\", \"fpr\")\n",
    "auc; prc\n",
    "\n",
    "plot(ROC.perf)\n",
    "plot(PRC.perf)"
   ]
  },
  {
   "cell_type": "code",
   "execution_count": 73,
   "metadata": {},
   "outputs": [
    {
     "data": {
      "text/html": [
       "0.851396490675799"
      ],
      "text/latex": [
       "0.851396490675799"
      ],
      "text/markdown": [
       "0.851396490675799"
      ],
      "text/plain": [
       "[1] 0.8513965"
      ]
     },
     "metadata": {},
     "output_type": "display_data"
    },
    {
     "data": {
      "text/html": [
       "0.487723965329804"
      ],
      "text/latex": [
       "0.487723965329804"
      ],
      "text/markdown": [
       "0.487723965329804"
      ],
      "text/plain": [
       "[1] 0.487724"
      ]
     },
     "metadata": {},
     "output_type": "display_data"
    },
    {
     "data": {
      "image/png": "[encoded data removed]",
      "text/plain": [
       "plot without title"
      ]
     },
     "metadata": {
      "image/png": {
       "height": 420,
       "width": 420
      }
     },
     "output_type": "display_data"
    },
    {
     "data": {
      "image/png": "[encoded data removed]",
      "text/plain": [
       "plot without title"
      ]
     },
     "metadata": {
      "image/png": {
       "height": 420,
       "width": 420
      }
     },
     "output_type": "display_data"
    }
   ],
   "source": [
    "test2019 <- cohort_test %>% filter(adm_year==2019)\n",
    "pred_rocr = ROCR::prediction(test2019$pred_death_24hr_recent, test2019$death_24hr_recent_label)\n",
    "auc = ROCR::performance(pred_rocr, measure = \"auc\", x.measure = \"cutoff\")@y.values[[1]]\n",
    "prc = ROCR::performance(pred_rocr, measure = \"aucpr\", x.measure = \"cutoff\")@y.values[[1]]\n",
    "\n",
    "PRC.perf <- ROCR::performance(pred_rocr, \"prec\", \"rec\")\n",
    "ROC.perf <-  ROCR::performance(pred_rocr, \"tpr\", \"fpr\")\n",
    "auc; prc\n",
    "\n",
    "plot(ROC.perf)\n",
    "plot(PRC.perf)"
   ]
  },
  {
   "cell_type": "code",
   "execution_count": 76,
   "metadata": {},
   "outputs": [
    {
     "data": {
      "text/html": [
       "0.907253499579289"
      ],
      "text/latex": [
       "0.907253499579289"
      ],
      "text/markdown": [
       "0.907253499579289"
      ],
      "text/plain": [
       "[1] 0.9072535"
      ]
     },
     "metadata": {},
     "output_type": "display_data"
    },
    {
     "data": {
      "text/html": [
       "0.642238742593756"
      ],
      "text/latex": [
       "0.642238742593756"
      ],
      "text/markdown": [
       "0.642238742593756"
      ],
      "text/plain": [
       "[1] 0.6422387"
      ]
     },
     "metadata": {},
     "output_type": "display_data"
    },
    {
     "data": {
      "image/png": "[encoded data removed]",
      "text/plain": [
       "plot without title"
      ]
     },
     "metadata": {
      "image/png": {
       "height": 420,
       "width": 420
      }
     },
     "output_type": "display_data"
    },
    {
     "data": {
      "image/png": "[encoded data removed]",
      "text/plain": [
       "plot without title"
      ]
     },
     "metadata": {
      "image/png": {
       "height": 420,
       "width": 420
      }
     },
     "output_type": "display_data"
    }
   ],
   "source": [
    "# get performance metrics AUC and PRC, and ACC\n",
    "options(repr.plot.width=7, repr.plot.height=7)\n",
    "\n",
    "pred_rocr = ROCR::prediction(cohort_test$pred_first, cohort_test$first_label)\n",
    "auc = ROCR::performance(pred_rocr, measure = \"auc\", x.measure = \"cutoff\")@y.values[[1]]\n",
    "prc = ROCR::performance(pred_rocr, measure = \"aucpr\", x.measure = \"cutoff\")@y.values[[1]]\n",
    "\n",
    "PRC.perf <- ROCR::performance(pred_rocr, \"prec\", \"rec\")\n",
    "ROC.perf <-  ROCR::performance(pred_rocr, \"tpr\", \"fpr\")\n",
    "auc; prc\n",
    "\n",
    "plot(ROC.perf)\n",
    "plot(PRC.perf)"
   ]
  }
 ],
 "metadata": {
  "environment": {
   "name": "r-cpu.4-0.m71",
   "type": "gcloud",
   "uri": "gcr.io/deeplearning-platform-release/r-cpu.4-0:m71"
  },
  "kernelspec": {
   "display_name": "R",
   "language": "R",
   "name": "ir"
  },
  "language_info": {
   "codemirror_mode": "r",
   "file_extension": ".r",
   "mimetype": "text/x-r-source",
   "name": "R",
   "pygments_lexer": "r",
   "version": "4.0.3"
  }
 },
 "nbformat": 4,
 "nbformat_minor": 4
}
