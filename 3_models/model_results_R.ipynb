{
 "cells": [
  {
   "cell_type": "markdown",
   "metadata": {},
   "source": [
    "### Description\n",
    "- Patient visits who were transferred within 24 hours\n",
    "    - ICUs to non-ICUs\n",
    "    - Non-ICUs to ICUs\n",
    "- Prediction differences between labels at time 0 and 24hr\n",
    "- Differences between predicted values at time 0 and time 24 compared to their corresponding true labels\n",
    "- Within the patient visits who were transferred:\n",
    "    - More in depth about those with largest differences between the predictions at 2 time points\n",
    "    - and how they are related to the differences in predicted values vs. true labels\n",
    "    \n",
    "Inputs:\n",
    "- `1_4_cohort`\n",
    "- prediction outputs for 3 labels using 1_4_cohort with light gbm\n",
    "\n",
    "Outputs:\n",
    "- `1_4_cohort_test_results` test cohort (admit year 2019 and 2020) with prediction results\n",
    "- `1_4_cohort_diff_full_features` 318 observations in test cohort (pred difference >= 0.3) with full features used for predictions"
   ]
  },
  {
   "cell_type": "code",
   "execution_count": 3,
   "metadata": {},
   "outputs": [
    {
     "name": "stderr",
     "output_type": "stream",
     "text": [
      "Installing package into ‘/home/jupyter/.R/library’\n",
      "(as ‘lib’ is unspecified)\n",
      "\n",
      "also installing the dependencies ‘jpeg’, ‘Formula’, ‘latticeExtra’, ‘mvtnorm’, ‘TH.data’, ‘sandwich’, ‘checkmate’, ‘Hmisc’, ‘polspline’, ‘multcomp’, ‘htmlTable’\n",
      "\n",
      "\n"
     ]
    }
   ],
   "source": [
    "# install.packages('rms')"
   ]
  },
  {
   "cell_type": "code",
   "execution_count": 1,
   "metadata": {},
   "outputs": [
    {
     "name": "stderr",
     "output_type": "stream",
     "text": [
      "Loading required package: lattice\n",
      "\n",
      "Loading required package: ggplot2\n",
      "\n",
      "-- \u001b[1mAttaching packages\u001b[22m --------------------------------------- tidyverse 1.3.0 --\n",
      "\n",
      "\u001b[32mv\u001b[39m \u001b[34mtibble \u001b[39m 3.0.4     \u001b[32mv\u001b[39m \u001b[34mdplyr  \u001b[39m 1.0.2\n",
      "\u001b[32mv\u001b[39m \u001b[34mtidyr  \u001b[39m 1.1.2     \u001b[32mv\u001b[39m \u001b[34mstringr\u001b[39m 1.4.0\n",
      "\u001b[32mv\u001b[39m \u001b[34mreadr  \u001b[39m 1.4.0     \u001b[32mv\u001b[39m \u001b[34mforcats\u001b[39m 0.5.0\n",
      "\u001b[32mv\u001b[39m \u001b[34mpurrr  \u001b[39m 0.3.4     \n",
      "\n",
      "-- \u001b[1mConflicts\u001b[22m ------------------------------------------ tidyverse_conflicts() --\n",
      "\u001b[31mx\u001b[39m \u001b[34mdplyr\u001b[39m::\u001b[32mbetween()\u001b[39m   masks \u001b[34mdata.table\u001b[39m::between()\n",
      "\u001b[31mx\u001b[39m \u001b[34mdplyr\u001b[39m::\u001b[32mfilter()\u001b[39m    masks \u001b[34mstats\u001b[39m::filter()\n",
      "\u001b[31mx\u001b[39m \u001b[34mdplyr\u001b[39m::\u001b[32mfirst()\u001b[39m     masks \u001b[34mdata.table\u001b[39m::first()\n",
      "\u001b[31mx\u001b[39m \u001b[34mdplyr\u001b[39m::\u001b[32mlag()\u001b[39m       masks \u001b[34mstats\u001b[39m::lag()\n",
      "\u001b[31mx\u001b[39m \u001b[34mdplyr\u001b[39m::\u001b[32mlast()\u001b[39m      masks \u001b[34mdata.table\u001b[39m::last()\n",
      "\u001b[31mx\u001b[39m \u001b[34mpurrr\u001b[39m::\u001b[32mlift()\u001b[39m      masks \u001b[34mcaret\u001b[39m::lift()\n",
      "\u001b[31mx\u001b[39m \u001b[34mpurrr\u001b[39m::\u001b[32mtranspose()\u001b[39m masks \u001b[34mdata.table\u001b[39m::transpose()\n",
      "\n",
      "\n",
      "Attaching package: 'lubridate'\n",
      "\n",
      "\n",
      "The following objects are masked from 'package:data.table':\n",
      "\n",
      "    hour, isoweek, mday, minute, month, quarter, second, wday, week,\n",
      "    yday, year\n",
      "\n",
      "\n",
      "The following objects are masked from 'package:base':\n",
      "\n",
      "    date, intersect, setdiff, union\n",
      "\n",
      "\n",
      "\n",
      "Attaching package: 'Matrix'\n",
      "\n",
      "\n",
      "The following objects are masked from 'package:tidyr':\n",
      "\n",
      "    expand, pack, unpack\n",
      "\n",
      "\n",
      "Warning message:\n",
      "\"package 'glmnet' was built under R version 4.0.5\"\n",
      "Loaded glmnet 4.1-1\n",
      "\n",
      "Warning message:\n",
      "\"package 'bit64' was built under R version 4.0.5\"\n",
      "Loading required package: bit\n",
      "\n",
      "Warning message:\n",
      "\"package 'bit' was built under R version 4.0.5\"\n",
      "\n",
      "Attaching package: 'bit'\n",
      "\n",
      "\n",
      "The following object is masked from 'package:data.table':\n",
      "\n",
      "    setattr\n",
      "\n",
      "\n",
      "The following object is masked from 'package:base':\n",
      "\n",
      "    xor\n",
      "\n",
      "\n",
      "Attaching package bit64\n",
      "\n",
      "package:bit64 (c) 2011-2017 Jens Oehlschlaegel\n",
      "\n",
      "creators: integer64 runif64 seq :\n",
      "\n",
      "coercion: as.integer64 as.vector as.logical as.integer as.double as.character as.bitstring\n",
      "\n",
      "logical operator: ! & | xor != == < <= >= >\n",
      "\n",
      "arithmetic operator: + - * / %/% %% ^\n",
      "\n",
      "math: sign abs sqrt log log2 log10\n",
      "\n",
      "math: floor ceiling trunc round\n",
      "\n",
      "querying: is.integer64 is.vector [is.atomic} [length] format print str\n",
      "\n",
      "values: is.na is.nan is.finite is.infinite\n",
      "\n",
      "aggregation: any all min max range sum prod\n",
      "\n",
      "cumulation: diff cummin cummax cumsum cumprod\n",
      "\n",
      "access: length<- [ [<- [[ [[<-\n",
      "\n",
      "combine: c rep cbind rbind as.data.frame\n",
      "\n",
      "WARNING don't use as subscripts\n",
      "\n",
      "WARNING semantics differ from integer\n",
      "\n",
      "for more help type ?bit64\n",
      "\n",
      "\n",
      "Attaching package: 'bit64'\n",
      "\n",
      "\n",
      "The following objects are masked from 'package:base':\n",
      "\n",
      "    %in%, :, is.double, match, order, rank\n",
      "\n",
      "\n",
      "Type 'citation(\"pROC\")' for a citation.\n",
      "\n",
      "\n",
      "Attaching package: 'pROC'\n",
      "\n",
      "\n",
      "The following objects are masked from 'package:stats':\n",
      "\n",
      "    cov, smooth, var\n",
      "\n",
      "\n",
      "Warning message:\n",
      "\"package 'rms' was built under R version 4.0.5\"\n",
      "Loading required package: Hmisc\n",
      "\n",
      "Warning message:\n",
      "\"package 'Hmisc' was built under R version 4.0.5\"\n",
      "Loading required package: survival\n",
      "\n",
      "\n",
      "Attaching package: 'survival'\n",
      "\n",
      "\n",
      "The following object is masked from 'package:caret':\n",
      "\n",
      "    cluster\n",
      "\n",
      "\n",
      "Loading required package: Formula\n",
      "\n",
      "\n",
      "Attaching package: 'Hmisc'\n",
      "\n",
      "\n",
      "The following objects are masked from 'package:dplyr':\n",
      "\n",
      "    src, summarize\n",
      "\n",
      "\n",
      "The following objects are masked from 'package:base':\n",
      "\n",
      "    format.pval, units\n",
      "\n",
      "\n",
      "Loading required package: SparseM\n",
      "\n",
      "Warning message:\n",
      "\"package 'SparseM' was built under R version 4.0.4\"\n",
      "\n",
      "Attaching package: 'SparseM'\n",
      "\n",
      "\n",
      "The following object is masked from 'package:base':\n",
      "\n",
      "    backsolve\n",
      "\n",
      "\n"
     ]
    }
   ],
   "source": [
    "library(caret) # import this before glmnet to avoid rlang version problem\n",
    "library(data.table)\n",
    "library(tidyverse)\n",
    "library(lubridate)\n",
    "library(Matrix)\n",
    "library(glmnet)\n",
    "library(bit64)\n",
    "library(pROC)\n",
    "library(rms)"
   ]
  },
  {
   "cell_type": "code",
   "execution_count": 2,
   "metadata": {},
   "outputs": [],
   "source": [
    "# directories\n",
    "datadir = \"../../DataTD\"\n",
    "cohortdir = \"../../OutputTD/1_cohort\"\n",
    "featuredir = \"../../OutputTD/2_features\"\n",
    "modeldir4 = \"../../OutputTD/3_models/1_4_cohort\""
   ]
  },
  {
   "cell_type": "code",
   "execution_count": 4,
   "metadata": {},
   "outputs": [],
   "source": [
    "# list.files(path=\"modeldir4\", pattern=\"lightgbm_test_results.csv\", full.names=TRUE, recursive=FALSE)\n",
    "# dir(path=\"modeldir4\") #pattern=\"*.csv\")"
   ]
  },
  {
   "cell_type": "code",
   "execution_count": 3,
   "metadata": {},
   "outputs": [
    {
     "data": {
      "text/html": [
       "<style>\n",
       ".list-inline {list-style: none; margin:0; padding: 0}\n",
       ".list-inline>li {display: inline-block}\n",
       ".list-inline>li:not(:last-child)::after {content: \"\\00b7\"; padding: 0 .5ex}\n",
       "</style>\n",
       "<ol class=list-inline><li>'../../OutputTD/3_models/1_4_cohort'</li><li>'../../OutputTD/3_models/1_4_cohort/death_24hr_max_label'</li><li>'../../OutputTD/3_models/1_4_cohort/death_24hr_recent_label'</li><li>'../../OutputTD/3_models/1_4_cohort/first_label'</li></ol>\n"
      ],
      "text/latex": [
       "\\begin{enumerate*}\n",
       "\\item '../../OutputTD/3\\_models/1\\_4\\_cohort'\n",
       "\\item '../../OutputTD/3\\_models/1\\_4\\_cohort/death\\_24hr\\_max\\_label'\n",
       "\\item '../../OutputTD/3\\_models/1\\_4\\_cohort/death\\_24hr\\_recent\\_label'\n",
       "\\item '../../OutputTD/3\\_models/1\\_4\\_cohort/first\\_label'\n",
       "\\end{enumerate*}\n"
      ],
      "text/markdown": [
       "1. '../../OutputTD/3_models/1_4_cohort'\n",
       "2. '../../OutputTD/3_models/1_4_cohort/death_24hr_max_label'\n",
       "3. '../../OutputTD/3_models/1_4_cohort/death_24hr_recent_label'\n",
       "4. '../../OutputTD/3_models/1_4_cohort/first_label'\n",
       "\n",
       "\n"
      ],
      "text/plain": [
       "[1] \"../../OutputTD/3_models/1_4_cohort\"                        \n",
       "[2] \"../../OutputTD/3_models/1_4_cohort/death_24hr_max_label\"   \n",
       "[3] \"../../OutputTD/3_models/1_4_cohort/death_24hr_recent_label\"\n",
       "[4] \"../../OutputTD/3_models/1_4_cohort/first_label\"            "
      ]
     },
     "metadata": {},
     "output_type": "display_data"
    }
   ],
   "source": [
    "# check folder and sub-folders\n",
    "folder <- list.dirs(modeldir4) # this assumes being in the main folder, otherwise specify the path\n",
    "folder\n",
    "sub.folders <- folder[-1]  # comment this out if the main folder also contains the script\n",
    "# script.paths <- paste(folder,\"/\",\"process.R\", sep=\"\")\n",
    "# for (i in script.paths) {source(i)}"
   ]
  },
  {
   "cell_type": "code",
   "execution_count": 4,
   "metadata": {},
   "outputs": [
    {
     "data": {
      "text/html": [
       "<style>\n",
       ".list-inline {list-style: none; margin:0; padding: 0}\n",
       ".list-inline>li {display: inline-block}\n",
       ".list-inline>li:not(:last-child)::after {content: \"\\00b7\"; padding: 0 .5ex}\n",
       "</style>\n",
       "<ol class=list-inline><li>'../../OutputTD/3_models/1_4_cohort/death_24hr_max_label'</li><li>'../../OutputTD/3_models/1_4_cohort/death_24hr_recent_label'</li><li>'../../OutputTD/3_models/1_4_cohort/first_label'</li></ol>\n"
      ],
      "text/latex": [
       "\\begin{enumerate*}\n",
       "\\item '../../OutputTD/3\\_models/1\\_4\\_cohort/death\\_24hr\\_max\\_label'\n",
       "\\item '../../OutputTD/3\\_models/1\\_4\\_cohort/death\\_24hr\\_recent\\_label'\n",
       "\\item '../../OutputTD/3\\_models/1\\_4\\_cohort/first\\_label'\n",
       "\\end{enumerate*}\n"
      ],
      "text/markdown": [
       "1. '../../OutputTD/3_models/1_4_cohort/death_24hr_max_label'\n",
       "2. '../../OutputTD/3_models/1_4_cohort/death_24hr_recent_label'\n",
       "3. '../../OutputTD/3_models/1_4_cohort/first_label'\n",
       "\n",
       "\n"
      ],
      "text/plain": [
       "[1] \"../../OutputTD/3_models/1_4_cohort/death_24hr_max_label\"   \n",
       "[2] \"../../OutputTD/3_models/1_4_cohort/death_24hr_recent_label\"\n",
       "[3] \"../../OutputTD/3_models/1_4_cohort/first_label\"            "
      ]
     },
     "metadata": {},
     "output_type": "display_data"
    }
   ],
   "source": [
    "# sub-folders\n",
    "sub.folders <- list.dirs(modeldir4)[-1]\n",
    "sub.folders"
   ]
  },
  {
   "cell_type": "code",
   "execution_count": 5,
   "metadata": {},
   "outputs": [
    {
     "data": {
      "text/html": [
       "43980"
      ],
      "text/latex": [
       "43980"
      ],
      "text/markdown": [
       "43980"
      ],
      "text/plain": [
       "[1] 43980"
      ]
     },
     "metadata": {},
     "output_type": "display_data"
    },
    {
     "data": {
      "text/html": [
       "<style>\n",
       ".list-inline {list-style: none; margin:0; padding: 0}\n",
       ".list-inline>li {display: inline-block}\n",
       ".list-inline>li:not(:last-child)::after {content: \"\\00b7\"; padding: 0 .5ex}\n",
       "</style>\n",
       "<ol class=list-inline><li>'anon_id'</li><li>'pat_enc_csn_id_coded'</li><li>'inpatient_data_id_coded'</li><li>'admit_time'</li><li>'label_max24'</li><li>'label_24hr_recent'</li><li>'admit_label'</li><li>'has_admit_label'</li><li>'died_within_24hrs'</li><li>'death_24hr_max_label'</li><li>'death_24hr_recent_label'</li><li>'first_label'</li><li>'first_label_minutes_since_admit'</li><li>'acute_to_critical_label_recent'</li><li>'critical_to_acute_label_recent'</li><li>'acute_to_critical_label_max'</li><li>'critical_to_acute_label_max'</li></ol>\n"
      ],
      "text/latex": [
       "\\begin{enumerate*}\n",
       "\\item 'anon\\_id'\n",
       "\\item 'pat\\_enc\\_csn\\_id\\_coded'\n",
       "\\item 'inpatient\\_data\\_id\\_coded'\n",
       "\\item 'admit\\_time'\n",
       "\\item 'label\\_max24'\n",
       "\\item 'label\\_24hr\\_recent'\n",
       "\\item 'admit\\_label'\n",
       "\\item 'has\\_admit\\_label'\n",
       "\\item 'died\\_within\\_24hrs'\n",
       "\\item 'death\\_24hr\\_max\\_label'\n",
       "\\item 'death\\_24hr\\_recent\\_label'\n",
       "\\item 'first\\_label'\n",
       "\\item 'first\\_label\\_minutes\\_since\\_admit'\n",
       "\\item 'acute\\_to\\_critical\\_label\\_recent'\n",
       "\\item 'critical\\_to\\_acute\\_label\\_recent'\n",
       "\\item 'acute\\_to\\_critical\\_label\\_max'\n",
       "\\item 'critical\\_to\\_acute\\_label\\_max'\n",
       "\\end{enumerate*}\n"
      ],
      "text/markdown": [
       "1. 'anon_id'\n",
       "2. 'pat_enc_csn_id_coded'\n",
       "3. 'inpatient_data_id_coded'\n",
       "4. 'admit_time'\n",
       "5. 'label_max24'\n",
       "6. 'label_24hr_recent'\n",
       "7. 'admit_label'\n",
       "8. 'has_admit_label'\n",
       "9. 'died_within_24hrs'\n",
       "10. 'death_24hr_max_label'\n",
       "11. 'death_24hr_recent_label'\n",
       "12. 'first_label'\n",
       "13. 'first_label_minutes_since_admit'\n",
       "14. 'acute_to_critical_label_recent'\n",
       "15. 'critical_to_acute_label_recent'\n",
       "16. 'acute_to_critical_label_max'\n",
       "17. 'critical_to_acute_label_max'\n",
       "\n",
       "\n"
      ],
      "text/plain": [
       " [1] \"anon_id\"                         \"pat_enc_csn_id_coded\"           \n",
       " [3] \"inpatient_data_id_coded\"         \"admit_time\"                     \n",
       " [5] \"label_max24\"                     \"label_24hr_recent\"              \n",
       " [7] \"admit_label\"                     \"has_admit_label\"                \n",
       " [9] \"died_within_24hrs\"               \"death_24hr_max_label\"           \n",
       "[11] \"death_24hr_recent_label\"         \"first_label\"                    \n",
       "[13] \"first_label_minutes_since_admit\" \"acute_to_critical_label_recent\" \n",
       "[15] \"critical_to_acute_label_recent\"  \"acute_to_critical_label_max\"    \n",
       "[17] \"critical_to_acute_label_max\"    "
      ]
     },
     "metadata": {},
     "output_type": "display_data"
    }
   ],
   "source": [
    "cohort <- read.csv(file.path(cohortdir, '1_4_cohort.csv'))\n",
    "nrow(cohort)\n",
    "colnames(cohort)"
   ]
  },
  {
   "cell_type": "markdown",
   "metadata": {},
   "source": [
    "### Patient visits year and those who transferred"
   ]
  },
  {
   "cell_type": "code",
   "execution_count": 6,
   "metadata": {},
   "outputs": [
    {
     "data": {
      "text/html": [
       "12418"
      ],
      "text/latex": [
       "12418"
      ],
      "text/markdown": [
       "12418"
      ],
      "text/plain": [
       "[1] 12418"
      ]
     },
     "metadata": {},
     "output_type": "display_data"
    },
    {
     "data": {
      "text/plain": [
       "\n",
       " 2019  2020 \n",
       "10115  2303 "
      ]
     },
     "metadata": {},
     "output_type": "display_data"
    },
    {
     "data": {
      "text/html": [
       "805"
      ],
      "text/latex": [
       "805"
      ],
      "text/markdown": [
       "805"
      ],
      "text/plain": [
       "[1] 805"
      ]
     },
     "metadata": {},
     "output_type": "display_data"
    }
   ],
   "source": [
    "cohort_test <-  cohort %>% mutate(admit_time = ymd_hms(admit_time)) %>% \n",
    "                    mutate(adm_year = year(admit_time),\n",
    "                           transfer = ifelse(death_24hr_recent_label != first_label, 1, 0)) %>% \n",
    "                    filter(adm_year > 2018)\n",
    "nrow(cohort_test)\n",
    "table(cohort_test$adm_year)\n",
    "sum(cohort_test$transfer)"
   ]
  },
  {
   "cell_type": "code",
   "execution_count": 7,
   "metadata": {},
   "outputs": [
    {
     "data": {
      "text/plain": [
       "   Min. 1st Qu.  Median    Mean 3rd Qu.    Max. \n",
       "0.00000 0.00000 0.00000 0.09468 0.00000 1.00000 "
      ]
     },
     "metadata": {},
     "output_type": "display_data"
    },
    {
     "data": {
      "text/plain": [
       "   Min. 1st Qu.  Median    Mean 3rd Qu.    Max. \n",
       "  0.000   0.000   0.000   0.104   0.000   1.000 "
      ]
     },
     "metadata": {},
     "output_type": "display_data"
    },
    {
     "data": {
      "text/plain": [
       "   Min. 1st Qu.  Median    Mean 3rd Qu.    Max. \n",
       "0.00000 0.00000 0.00000 0.02247 0.00000 1.00000 "
      ]
     },
     "metadata": {},
     "output_type": "display_data"
    },
    {
     "data": {
      "text/plain": [
       "   Min. 1st Qu.  Median    Mean 3rd Qu.    Max. \n",
       "0.00000 0.00000 0.00000 0.04236 0.00000 1.00000 "
      ]
     },
     "metadata": {},
     "output_type": "display_data"
    },
    {
     "data": {
      "text/html": [
       "526"
      ],
      "text/latex": [
       "526"
      ],
      "text/markdown": [
       "526"
      ],
      "text/plain": [
       "[1] 526"
      ]
     },
     "metadata": {},
     "output_type": "display_data"
    },
    {
     "data": {
      "text/html": [
       "279"
      ],
      "text/latex": [
       "279"
      ],
      "text/markdown": [
       "279"
      ],
      "text/plain": [
       "[1] 279"
      ]
     },
     "metadata": {},
     "output_type": "display_data"
    }
   ],
   "source": [
    "summary(cohort$death_24hr_recent_label)\n",
    "summary(cohort_test$death_24hr_recent_label)\n",
    "summary(cohort_test$acute_to_critical_label_recent)\n",
    "summary(cohort_test$critical_to_acute_label_recent)\n",
    "\n",
    "sum(cohort_test$critical_to_acute_label_recent) #526 + 279 = 805 total transfers\n",
    "sum(cohort_test$acute_to_critical_label_recent)"
   ]
  },
  {
   "cell_type": "markdown",
   "metadata": {},
   "source": [
    "### Patient visits with big differences in predictions at 2 time points"
   ]
  },
  {
   "cell_type": "code",
   "execution_count": 8,
   "metadata": {},
   "outputs": [
    {
     "name": "stdout",
     "output_type": "stream",
     "text": [
      "[1] \"../../OutputTD/3_models/1_4_cohort/death_24hr_max_label\"\n"
     ]
    },
    {
     "name": "stderr",
     "output_type": "stream",
     "text": [
      "Joining, by = \"pat_enc_csn_id_coded\"\n",
      "\n"
     ]
    },
    {
     "name": "stdout",
     "output_type": "stream",
     "text": [
      "[1] \"pred_death_24hr_max\"\n",
      "[1] \"../../OutputTD/3_models/1_4_cohort/death_24hr_recent_label\"\n"
     ]
    },
    {
     "name": "stderr",
     "output_type": "stream",
     "text": [
      "Joining, by = \"pat_enc_csn_id_coded\"\n",
      "\n"
     ]
    },
    {
     "name": "stdout",
     "output_type": "stream",
     "text": [
      "[1] \"pred_death_24hr_recent\"\n",
      "[1] \"../../OutputTD/3_models/1_4_cohort/first_label\"\n"
     ]
    },
    {
     "name": "stderr",
     "output_type": "stream",
     "text": [
      "Joining, by = \"pat_enc_csn_id_coded\"\n",
      "\n"
     ]
    },
    {
     "name": "stdout",
     "output_type": "stream",
     "text": [
      "[1] \"pred_first\"\n"
     ]
    }
   ],
   "source": [
    "for (f in sub.folders){\n",
    "    print(f)\n",
    "    out <- read.csv(paste0(f,\"/\",\"lightgbm_test_results.csv\")) %>% select(pat_enc_csn_id_coded, predictions)\n",
    "    cohort_test <- cohort_test %>% inner_join(out)\n",
    "#     cohort_test[ , ncol(cohort_test) + 1] <- out$predictions\n",
    "#     newcolname <- paste0(\"pred_\", str_sub(f, start=-12))\n",
    "    newcolname <- paste0(\"pred_\", str_sub(f, start=36, end=-7))\n",
    "    print(newcolname)\n",
    "#     cohort_test <- cohort_test %>% rename(newcolname = predictions)\n",
    "#     print(colnames(cohort_test))\n",
    "    colnames(cohort_test)[ncol(cohort_test)] <- newcolname\n",
    "}"
   ]
  },
  {
   "cell_type": "code",
   "execution_count": 9,
   "metadata": {},
   "outputs": [],
   "source": [
    "pred3 <- gather(cohort_test, labels, predictions, pred_death_24hr_max:pred_first, factor_key=TRUE)\n",
    "pred2 <- pred3 %>% filter(labels != 'pred_death_24hr_max')"
   ]
  },
  {
   "cell_type": "code",
   "execution_count": 10,
   "metadata": {},
   "outputs": [
    {
     "name": "stderr",
     "output_type": "stream",
     "text": [
      "`stat_bin()` using `bins = 30`. Pick better value with `binwidth`.\n",
      "\n"
     ]
    },
    {
     "data": {
      "image/png": "[encoded data removed]",
      "text/plain": [
       "plot without title"
      ]
     },
     "metadata": {
      "image/png": {
       "height": 420,
       "width": 420
      }
     },
     "output_type": "display_data"
    }
   ],
   "source": [
    "ggplot(pred2, aes(x = predictions)) +\n",
    "  geom_histogram(fill = \"white\", colour = \"black\") +\n",
    "  facet_grid(labels ~ .)"
   ]
  },
  {
   "cell_type": "code",
   "execution_count": 11,
   "metadata": {},
   "outputs": [
    {
     "data": {
      "image/png": "[encoded data removed]",
      "text/plain": [
       "plot without title"
      ]
     },
     "metadata": {
      "image/png": {
       "height": 420,
       "width": 420
      }
     },
     "output_type": "display_data"
    }
   ],
   "source": [
    "ggplot(pred2, aes(x = predictions, fill = labels)) +         \n",
    "  geom_histogram(position = \"identity\", alpha = 0.2, bins = 50)"
   ]
  },
  {
   "cell_type": "code",
   "execution_count": 12,
   "metadata": {},
   "outputs": [],
   "source": [
    "cohort_test <- cohort_test %>% mutate(diff0_24 = round(pred_first - pred_death_24hr_recent, 2),\n",
    "                                      diff0_True = round(pred_first - first_label, 2),\n",
    "                                      diff24_True = round(pred_death_24hr_recent - death_24hr_max_label, 2)) %>%\n",
    "               mutate(abs_diff0_24 = round(abs(diff0_24), 1))"
   ]
  },
  {
   "cell_type": "code",
   "execution_count": 13,
   "metadata": {},
   "outputs": [
    {
     "data": {
      "text/html": [
       "12418"
      ],
      "text/latex": [
       "12418"
      ],
      "text/markdown": [
       "12418"
      ],
      "text/plain": [
       "[1] 12418"
      ]
     },
     "metadata": {},
     "output_type": "display_data"
    },
    {
     "data": {
      "text/html": [
       "<style>\n",
       ".list-inline {list-style: none; margin:0; padding: 0}\n",
       ".list-inline>li {display: inline-block}\n",
       ".list-inline>li:not(:last-child)::after {content: \"\\00b7\"; padding: 0 .5ex}\n",
       "</style>\n",
       "<ol class=list-inline><li>'anon_id'</li><li>'pat_enc_csn_id_coded'</li><li>'inpatient_data_id_coded'</li><li>'admit_time'</li><li>'label_max24'</li><li>'label_24hr_recent'</li><li>'admit_label'</li><li>'has_admit_label'</li><li>'died_within_24hrs'</li><li>'death_24hr_max_label'</li><li>'death_24hr_recent_label'</li><li>'first_label'</li><li>'first_label_minutes_since_admit'</li><li>'acute_to_critical_label_recent'</li><li>'critical_to_acute_label_recent'</li><li>'acute_to_critical_label_max'</li><li>'critical_to_acute_label_max'</li><li>'adm_year'</li><li>'transfer'</li><li>'pred_death_24hr_max'</li><li>'pred_death_24hr_recent'</li><li>'pred_first'</li><li>'diff0_24'</li><li>'diff0_True'</li><li>'diff24_True'</li><li>'abs_diff0_24'</li></ol>\n"
      ],
      "text/latex": [
       "\\begin{enumerate*}\n",
       "\\item 'anon\\_id'\n",
       "\\item 'pat\\_enc\\_csn\\_id\\_coded'\n",
       "\\item 'inpatient\\_data\\_id\\_coded'\n",
       "\\item 'admit\\_time'\n",
       "\\item 'label\\_max24'\n",
       "\\item 'label\\_24hr\\_recent'\n",
       "\\item 'admit\\_label'\n",
       "\\item 'has\\_admit\\_label'\n",
       "\\item 'died\\_within\\_24hrs'\n",
       "\\item 'death\\_24hr\\_max\\_label'\n",
       "\\item 'death\\_24hr\\_recent\\_label'\n",
       "\\item 'first\\_label'\n",
       "\\item 'first\\_label\\_minutes\\_since\\_admit'\n",
       "\\item 'acute\\_to\\_critical\\_label\\_recent'\n",
       "\\item 'critical\\_to\\_acute\\_label\\_recent'\n",
       "\\item 'acute\\_to\\_critical\\_label\\_max'\n",
       "\\item 'critical\\_to\\_acute\\_label\\_max'\n",
       "\\item 'adm\\_year'\n",
       "\\item 'transfer'\n",
       "\\item 'pred\\_death\\_24hr\\_max'\n",
       "\\item 'pred\\_death\\_24hr\\_recent'\n",
       "\\item 'pred\\_first'\n",
       "\\item 'diff0\\_24'\n",
       "\\item 'diff0\\_True'\n",
       "\\item 'diff24\\_True'\n",
       "\\item 'abs\\_diff0\\_24'\n",
       "\\end{enumerate*}\n"
      ],
      "text/markdown": [
       "1. 'anon_id'\n",
       "2. 'pat_enc_csn_id_coded'\n",
       "3. 'inpatient_data_id_coded'\n",
       "4. 'admit_time'\n",
       "5. 'label_max24'\n",
       "6. 'label_24hr_recent'\n",
       "7. 'admit_label'\n",
       "8. 'has_admit_label'\n",
       "9. 'died_within_24hrs'\n",
       "10. 'death_24hr_max_label'\n",
       "11. 'death_24hr_recent_label'\n",
       "12. 'first_label'\n",
       "13. 'first_label_minutes_since_admit'\n",
       "14. 'acute_to_critical_label_recent'\n",
       "15. 'critical_to_acute_label_recent'\n",
       "16. 'acute_to_critical_label_max'\n",
       "17. 'critical_to_acute_label_max'\n",
       "18. 'adm_year'\n",
       "19. 'transfer'\n",
       "20. 'pred_death_24hr_max'\n",
       "21. 'pred_death_24hr_recent'\n",
       "22. 'pred_first'\n",
       "23. 'diff0_24'\n",
       "24. 'diff0_True'\n",
       "25. 'diff24_True'\n",
       "26. 'abs_diff0_24'\n",
       "\n",
       "\n"
      ],
      "text/plain": [
       " [1] \"anon_id\"                         \"pat_enc_csn_id_coded\"           \n",
       " [3] \"inpatient_data_id_coded\"         \"admit_time\"                     \n",
       " [5] \"label_max24\"                     \"label_24hr_recent\"              \n",
       " [7] \"admit_label\"                     \"has_admit_label\"                \n",
       " [9] \"died_within_24hrs\"               \"death_24hr_max_label\"           \n",
       "[11] \"death_24hr_recent_label\"         \"first_label\"                    \n",
       "[13] \"first_label_minutes_since_admit\" \"acute_to_critical_label_recent\" \n",
       "[15] \"critical_to_acute_label_recent\"  \"acute_to_critical_label_max\"    \n",
       "[17] \"critical_to_acute_label_max\"     \"adm_year\"                       \n",
       "[19] \"transfer\"                        \"pred_death_24hr_max\"            \n",
       "[21] \"pred_death_24hr_recent\"          \"pred_first\"                     \n",
       "[23] \"diff0_24\"                        \"diff0_True\"                     \n",
       "[25] \"diff24_True\"                     \"abs_diff0_24\"                   "
      ]
     },
     "metadata": {},
     "output_type": "display_data"
    },
    {
     "data": {
      "text/plain": [
       "   anon_id          pat_enc_csn_id_coded inpatient_data_id_coded\n",
       " Length:12418       Min.   :1.313e+11    Min.   :33212811       \n",
       " Class :character   1st Qu.:1.313e+11    1st Qu.:35996148       \n",
       " Mode  :character   Median :1.313e+11    Median :39994636       \n",
       "                    Mean   :1.313e+11    Mean   :40003546       \n",
       "                    3rd Qu.:1.313e+11    3rd Qu.:43886508       \n",
       "                    Max.   :1.313e+11    Max.   :48026130       \n",
       "                                                                \n",
       "   admit_time                   label_max24     label_24hr_recent\n",
       " Min.   :2019-01-01 00:03:00   Min.   :0.0000   Min.   :0.0000   \n",
       " 1st Qu.:2019-04-13 00:01:30   1st Qu.:0.0000   1st Qu.:0.0000   \n",
       " Median :2019-08-04 21:50:30   Median :0.0000   Median :0.0000   \n",
       " Mean   :2019-08-08 00:19:00   Mean   :0.1512   Mean   :0.1033   \n",
       " 3rd Qu.:2019-12-01 06:24:15   3rd Qu.:0.0000   3rd Qu.:0.0000   \n",
       " Max.   :2020-03-31 07:00:00   Max.   :1.0000   Max.   :1.0000   \n",
       "                                                                 \n",
       "  admit_label     has_admit_label  died_within_24hrs  death_24hr_max_label\n",
       " Min.   :0.0000   Min.   :0.0000   Min.   :0.000000   Min.   :0.0000      \n",
       " 1st Qu.:0.0000   1st Qu.:1.0000   1st Qu.:0.000000   1st Qu.:0.0000      \n",
       " Median :0.0000   Median :1.0000   Median :0.000000   Median :0.0000      \n",
       " Mean   :0.1232   Mean   :0.9942   Mean   :0.001611   Mean   :0.1518      \n",
       " 3rd Qu.:0.0000   3rd Qu.:1.0000   3rd Qu.:0.000000   3rd Qu.:0.0000      \n",
       " Max.   :1.0000   Max.   :1.0000   Max.   :1.000000   Max.   :1.0000      \n",
       " NA's   :72                                                               \n",
       " death_24hr_recent_label  first_label     first_label_minutes_since_admit\n",
       " Min.   :0.000           Min.   :0.0000   Min.   :  0.0000               \n",
       " 1st Qu.:0.000           1st Qu.:0.0000   1st Qu.:  0.0000               \n",
       " Median :0.000           Median :0.0000   Median :  0.0000               \n",
       " Mean   :0.104           Mean   :0.1239   Mean   :  0.2184               \n",
       " 3rd Qu.:0.000           3rd Qu.:0.0000   3rd Qu.:  0.0000               \n",
       " Max.   :1.000           Max.   :1.0000   Max.   :551.0000               \n",
       "                                                                         \n",
       " acute_to_critical_label_recent critical_to_acute_label_recent\n",
       " Min.   :0.00000                Min.   :0.00000               \n",
       " 1st Qu.:0.00000                1st Qu.:0.00000               \n",
       " Median :0.00000                Median :0.00000               \n",
       " Mean   :0.02247                Mean   :0.04236               \n",
       " 3rd Qu.:0.00000                3rd Qu.:0.00000               \n",
       " Max.   :1.00000                Max.   :1.00000               \n",
       "                                                              \n",
       " acute_to_critical_label_max critical_to_acute_label_max    adm_year   \n",
       " Min.   :0.00000             Min.   :0                   Min.   :2019  \n",
       " 1st Qu.:0.00000             1st Qu.:0                   1st Qu.:2019  \n",
       " Median :0.00000             Median :0                   Median :2019  \n",
       " Mean   :0.02794             Mean   :0                   Mean   :2019  \n",
       " 3rd Qu.:0.00000             3rd Qu.:0                   3rd Qu.:2019  \n",
       " Max.   :1.00000             Max.   :0                   Max.   :2020  \n",
       "                                                                       \n",
       "    transfer       pred_death_24hr_max pred_death_24hr_recent\n",
       " Min.   :0.00000   Min.   :0.005529    Min.   :0.005263      \n",
       " 1st Qu.:0.00000   1st Qu.:0.025764    1st Qu.:0.021521      \n",
       " Median :0.00000   Median :0.054683    Median :0.040195      \n",
       " Mean   :0.06483   Mean   :0.140604    Mean   :0.098219      \n",
       " 3rd Qu.:0.00000   3rd Qu.:0.162256    3rd Qu.:0.104513      \n",
       " Max.   :1.00000   Max.   :0.974768    Max.   :0.931541      \n",
       "                                                             \n",
       "   pred_first          diff0_24          diff0_True         diff24_True      \n",
       " Min.   :0.003762   Min.   :-0.42000   Min.   :-0.990000   Min.   :-0.99000  \n",
       " 1st Qu.:0.016906   1st Qu.:-0.01000   1st Qu.: 0.010000   1st Qu.: 0.01000  \n",
       " Median :0.037995   Median : 0.00000   Median : 0.030000   Median : 0.03000  \n",
       " Mean   :0.116168   Mean   : 0.01798   Mean   :-0.007673   Mean   :-0.05359  \n",
       " 3rd Qu.:0.119656   3rd Qu.: 0.02000   3rd Qu.: 0.070000   3rd Qu.: 0.06000  \n",
       " Max.   :0.969960   Max.   : 0.73000   Max.   : 0.930000   Max.   : 0.76000  \n",
       "                                                                             \n",
       "  abs_diff0_24    \n",
       " Min.   :0.00000  \n",
       " 1st Qu.:0.00000  \n",
       " Median :0.00000  \n",
       " Mean   :0.03007  \n",
       " 3rd Qu.:0.00000  \n",
       " Max.   :0.70000  \n",
       "                  "
      ]
     },
     "metadata": {},
     "output_type": "display_data"
    }
   ],
   "source": [
    "nrow(cohort_test)\n",
    "colnames(cohort_test)\n",
    "summary(cohort_test)"
   ]
  },
  {
   "cell_type": "code",
   "execution_count": 14,
   "metadata": {},
   "outputs": [
    {
     "data": {
      "text/html": [
       "<style>\n",
       ".dl-inline {width: auto; margin:0; padding: 0}\n",
       ".dl-inline>dt, .dl-inline>dd {float: none; width: auto; display: inline-block}\n",
       ".dl-inline>dt::after {content: \":\\0020\"; padding-right: .5ex}\n",
       ".dl-inline>dt:not(:first-of-type) {padding-left: .5ex}\n",
       "</style><dl class=dl-inline><dt>5%</dt><dd>-0.05</dd><dt>10%</dt><dd>-0.03</dd><dt>20%</dt><dd>-0.01</dd><dt>30%</dt><dd>-0.01</dd><dt>40%</dt><dd>0</dd><dt>50%</dt><dd>0</dd><dt>60%</dt><dd>0</dd><dt>70%</dt><dd>0.01</dd><dt>80%</dt><dd>0.03</dd><dt>90%</dt><dd>0.1</dd><dt>95%</dt><dd>0.18</dd></dl>\n"
      ],
      "text/latex": [
       "\\begin{description*}\n",
       "\\item[5\\textbackslash{}\\%] -0.05\n",
       "\\item[10\\textbackslash{}\\%] -0.03\n",
       "\\item[20\\textbackslash{}\\%] -0.01\n",
       "\\item[30\\textbackslash{}\\%] -0.01\n",
       "\\item[40\\textbackslash{}\\%] 0\n",
       "\\item[50\\textbackslash{}\\%] 0\n",
       "\\item[60\\textbackslash{}\\%] 0\n",
       "\\item[70\\textbackslash{}\\%] 0.01\n",
       "\\item[80\\textbackslash{}\\%] 0.03\n",
       "\\item[90\\textbackslash{}\\%] 0.1\n",
       "\\item[95\\textbackslash{}\\%] 0.18\n",
       "\\end{description*}\n"
      ],
      "text/markdown": [
       "5%\n",
       ":   -0.0510%\n",
       ":   -0.0320%\n",
       ":   -0.0130%\n",
       ":   -0.0140%\n",
       ":   050%\n",
       ":   060%\n",
       ":   070%\n",
       ":   0.0180%\n",
       ":   0.0390%\n",
       ":   0.195%\n",
       ":   0.18\n",
       "\n"
      ],
      "text/plain": [
       "   5%   10%   20%   30%   40%   50%   60%   70%   80%   90%   95% \n",
       "-0.05 -0.03 -0.01 -0.01  0.00  0.00  0.00  0.01  0.03  0.10  0.18 "
      ]
     },
     "metadata": {},
     "output_type": "display_data"
    },
    {
     "data": {
      "text/plain": [
       "    Min.  1st Qu.   Median     Mean  3rd Qu.     Max. \n",
       "-0.42000 -0.01000  0.00000  0.01798  0.02000  0.73000 "
      ]
     },
     "metadata": {},
     "output_type": "display_data"
    },
    {
     "data": {
      "image/png": "[encoded data removed]",
      "text/plain": [
       "Plot with title \"Histogram of cohort_test$diff0_24\""
      ]
     },
     "metadata": {
      "image/png": {
       "height": 420,
       "width": 1200
      }
     },
     "output_type": "display_data"
    }
   ],
   "source": [
    "options(repr.plot.width=20, repr.plot.height=7)\n",
    "\n",
    "quantile(cohort_test$diff0_24, c(.05, .1, .2, 0.3, 0.4, 0.5, 0.6, 0.7, 0.8, 0.9, 0.95)) \n",
    "summary(cohort_test$diff0_24)\n",
    "hist(cohort_test$diff0_24, col='dodgerblue', breaks=100)"
   ]
  },
  {
   "cell_type": "code",
   "execution_count": 15,
   "metadata": {},
   "outputs": [
    {
     "data": {
      "text/html": [
       "318"
      ],
      "text/latex": [
       "318"
      ],
      "text/markdown": [
       "318"
      ],
      "text/plain": [
       "[1] 318"
      ]
     },
     "metadata": {},
     "output_type": "display_data"
    },
    {
     "name": "stderr",
     "output_type": "stream",
     "text": [
      "`summarise()` ungrouping output (override with `.groups` argument)\n",
      "\n"
     ]
    },
    {
     "data": {
      "text/html": [
       "<table>\n",
       "<caption>A tibble: 8 × 4</caption>\n",
       "<thead>\n",
       "\t<tr><th scope=col>abs_diff0_24</th><th scope=col>count</th><th scope=col>cum_count</th><th scope=col>cumperc</th></tr>\n",
       "\t<tr><th scope=col>&lt;dbl&gt;</th><th scope=col>&lt;int&gt;</th><th scope=col>&lt;int&gt;</th><th scope=col>&lt;dbl&gt;</th></tr>\n",
       "</thead>\n",
       "<tbody>\n",
       "\t<tr><td>0.7</td><td>   3</td><td>    3</td><td>  0.02</td></tr>\n",
       "\t<tr><td>0.6</td><td>   8</td><td>   11</td><td>  0.09</td></tr>\n",
       "\t<tr><td>0.5</td><td>  22</td><td>   33</td><td>  0.27</td></tr>\n",
       "\t<tr><td>0.4</td><td>  79</td><td>  112</td><td>  0.90</td></tr>\n",
       "\t<tr><td>0.3</td><td> 206</td><td>  318</td><td>  2.56</td></tr>\n",
       "\t<tr><td>0.2</td><td> 501</td><td>  819</td><td>  6.60</td></tr>\n",
       "\t<tr><td>0.1</td><td>1619</td><td> 2438</td><td> 19.63</td></tr>\n",
       "\t<tr><td>0.0</td><td>9980</td><td>12418</td><td>100.00</td></tr>\n",
       "</tbody>\n",
       "</table>\n"
      ],
      "text/latex": [
       "A tibble: 8 × 4\n",
       "\\begin{tabular}{llll}\n",
       " abs\\_diff0\\_24 & count & cum\\_count & cumperc\\\\\n",
       " <dbl> & <int> & <int> & <dbl>\\\\\n",
       "\\hline\n",
       "\t 0.7 &    3 &     3 &   0.02\\\\\n",
       "\t 0.6 &    8 &    11 &   0.09\\\\\n",
       "\t 0.5 &   22 &    33 &   0.27\\\\\n",
       "\t 0.4 &   79 &   112 &   0.90\\\\\n",
       "\t 0.3 &  206 &   318 &   2.56\\\\\n",
       "\t 0.2 &  501 &   819 &   6.60\\\\\n",
       "\t 0.1 & 1619 &  2438 &  19.63\\\\\n",
       "\t 0.0 & 9980 & 12418 & 100.00\\\\\n",
       "\\end{tabular}\n"
      ],
      "text/markdown": [
       "\n",
       "A tibble: 8 × 4\n",
       "\n",
       "| abs_diff0_24 &lt;dbl&gt; | count &lt;int&gt; | cum_count &lt;int&gt; | cumperc &lt;dbl&gt; |\n",
       "|---|---|---|---|\n",
       "| 0.7 |    3 |     3 |   0.02 |\n",
       "| 0.6 |    8 |    11 |   0.09 |\n",
       "| 0.5 |   22 |    33 |   0.27 |\n",
       "| 0.4 |   79 |   112 |   0.90 |\n",
       "| 0.3 |  206 |   318 |   2.56 |\n",
       "| 0.2 |  501 |   819 |   6.60 |\n",
       "| 0.1 | 1619 |  2438 |  19.63 |\n",
       "| 0.0 | 9980 | 12418 | 100.00 |\n",
       "\n"
      ],
      "text/plain": [
       "  abs_diff0_24 count cum_count cumperc\n",
       "1 0.7             3      3       0.02 \n",
       "2 0.6             8     11       0.09 \n",
       "3 0.5            22     33       0.27 \n",
       "4 0.4            79    112       0.90 \n",
       "5 0.3           206    318       2.56 \n",
       "6 0.2           501    819       6.60 \n",
       "7 0.1          1619   2438      19.63 \n",
       "8 0.0          9980  12418     100.00 "
      ]
     },
     "metadata": {},
     "output_type": "display_data"
    }
   ],
   "source": [
    "# diff <- cohort_test %>% arrange(-abs_diff0_24) %>% \n",
    "#         mutate(rec = 1, pround = round(abs_diff0_24, 1)) %>% \n",
    "#         group_by(pround) %>% mutate(psum = sum(rec)) %>% \n",
    "#         distinct(pround, psum) %>%\n",
    "#         filter(pround > 0) #%>% mutate(cumsize = cumsum(psum)) # %>% select(-rec)\n",
    "\n",
    "# diff$cumsize <- cumsum(diff$psum)\n",
    "\n",
    "nrow(cohort_test %>% filter(abs_diff0_24 >= 0.3))\n",
    "diff <- cohort_test %>% \n",
    "            group_by(abs_diff0_24) %>% summarise(count = n()) %>% arrange(-abs_diff0_24) %>% \n",
    "            mutate(cum_count = cumsum(count), cumperc = round(100*cum_count/nrow(cohort_test), 2)) \n",
    "\n",
    "diff"
   ]
  },
  {
   "cell_type": "code",
   "execution_count": 16,
   "metadata": {},
   "outputs": [
    {
     "data": {
      "image/png": "[encoded data removed]",
      "text/plain": [
       "Plot with title \"Histogram of cohort_test[cohort_test$abs_diff0_24 > 0, \"abs_diff0_24\"]\""
      ]
     },
     "metadata": {
      "image/png": {
       "height": 420,
       "width": 420
      }
     },
     "output_type": "display_data"
    }
   ],
   "source": [
    "# threshold and size plot\n",
    "options(repr.plot.width=7, repr.plot.height=7)\n",
    "\n",
    "# absolute count\n",
    "hist(cohort_test[cohort_test$abs_diff0_24 > 0, 'abs_diff0_24'], col='dodgerblue', ylim=c(0, 2000))"
   ]
  },
  {
   "cell_type": "code",
   "execution_count": 17,
   "metadata": {},
   "outputs": [
    {
     "data": {
      "text/html": [
       "<style>\n",
       ".list-inline {list-style: none; margin:0; padding: 0}\n",
       ".list-inline>li {display: inline-block}\n",
       ".list-inline>li:not(:last-child)::after {content: \"\\00b7\"; padding: 0 .5ex}\n",
       "</style>\n",
       "<ol class=list-inline><li>3</li><li>11</li><li>33</li><li>112</li><li>318</li><li>819</li></ol>\n"
      ],
      "text/latex": [
       "\\begin{enumerate*}\n",
       "\\item 3\n",
       "\\item 11\n",
       "\\item 33\n",
       "\\item 112\n",
       "\\item 318\n",
       "\\item 819\n",
       "\\end{enumerate*}\n"
      ],
      "text/markdown": [
       "1. 3\n",
       "2. 11\n",
       "3. 33\n",
       "4. 112\n",
       "5. 318\n",
       "6. 819\n",
       "\n",
       "\n"
      ],
      "text/plain": [
       "[1]   3  11  33 112 318 819"
      ]
     },
     "metadata": {},
     "output_type": "display_data"
    }
   ],
   "source": [
    "diff[diff$abs_diff0_24 > 0.1,]$cum_count"
   ]
  },
  {
   "cell_type": "code",
   "execution_count": 18,
   "metadata": {},
   "outputs": [
    {
     "data": {
      "image/png": "[encoded data removed]",
      "text/plain": [
       "plot without title"
      ]
     },
     "metadata": {
      "image/png": {
       "height": 420,
       "width": 420
      }
     },
     "output_type": "display_data"
    }
   ],
   "source": [
    "# cummulative count\n",
    "ggplot(diff[diff$abs_diff0_24 > 0.1, ], aes(x=abs_diff0_24, y=cum_count)) + \n",
    "    geom_point(color = \"#F8766D\", size = 3) + geom_line() +\n",
    "    geom_text(label=diff[diff$abs_diff0_24 > 0.1, ]$cum_count, hjust = 0, nudge_x = 0.005, vjust =0) + \n",
    "    labs(x=\"Differences in Predicted Values between Time 0 and Time 24\", y=\"Count\", \n",
    "               title = \"Differences in Predicted Values vs. Count\") +\n",
    "    theme(axis.text=element_text(size=12),\n",
    "          axis.text.x = element_text(margin=margin(0, 0, 10, 0)), #color = \"red\", \n",
    "          axis.text.y = element_text(margin=margin(0, 0, 0, 10)), #color = \"red\",\n",
    "          plot.title = element_text(size=16, hjust=0.5, margin=margin(0, 0, 10, 0)),\n",
    "          axis.title=element_text(size=14),\n",
    "          legend.key.size = unit(1, \"cm\"))#, face=\"bold\"\n",
    "# ggsave(\"Figure - Count of Differences.png\", width = 14, height = 7, dpi = 1200) "
   ]
  },
  {
   "cell_type": "code",
   "execution_count": 19,
   "metadata": {},
   "outputs": [
    {
     "name": "stderr",
     "output_type": "stream",
     "text": [
      "Scale for 'x' is already present. Adding another scale for 'x', which will\n",
      "replace the existing scale.\n",
      "\n",
      "Scale for 'y' is already present. Adding another scale for 'y', which will\n",
      "replace the existing scale.\n",
      "\n"
     ]
    },
    {
     "data": {
      "image/png": "[encoded data removed]",
      "text/plain": [
       "plot without title"
      ]
     },
     "metadata": {
      "image/png": {
       "height": 420,
       "width": 420
      }
     },
     "output_type": "display_data"
    }
   ],
   "source": [
    "options(repr.plot.width=7, repr.plot.height=7)\n",
    "\n",
    "ggplot(cohort_test, aes(x=pred_first, y=pred_death_24hr_recent)) + \n",
    "    geom_point(color = \"#0072B2\", size = 1) + xlim(0,1) + ylim(0,1) +\n",
    "    geom_abline(intercept = 0, slope = 1, size = 0.7) +\n",
    "    geom_abline(intercept = 0.3, slope = 1, size = 0.7, linetype=2, color = \"#D55E00\") +\n",
    "    geom_abline(intercept = -0.3, slope = 1, size = 0.7, linetype=2, color = \"#D55E00\") +\n",
    "    scale_x_continuous(name = \"predicted values for time 0\", expand = c(0, 0), limits=c(0, 1), \n",
    "                       breaks=c(0, 0.2, 0.4, 0.6, 0.8, 1)) + \n",
    "    scale_y_continuous(name = \" predicted values for time 24\", expand = c(0, 0), limits=c(0, 1), \n",
    "                       breaks=c(0, 0.2, 0.4, 0.6, 0.8, 1)) +\n",
    "    theme(axis.text=element_text(size=12),\n",
    "          axis.text.x = element_text(margin=margin(0, 0, 10, 0)),\n",
    "          axis.text.y = element_text(margin=margin(0, 0, 0, 10)),\n",
    "          plot.title = element_text(size=16, hjust=0.5, margin=margin(0, 0, 10, 0)),\n",
    "          axis.title=element_text(size=14)) +\n",
    "     labs(title = \"Predicted values: time 0 vs time 24\")\n"
   ]
  },
  {
   "cell_type": "code",
   "execution_count": 20,
   "metadata": {},
   "outputs": [],
   "source": [
    "write.csv(cohort_test, file.path(modeldir4, \"1_4_cohort_test_results.csv\"), row.names=FALSE)"
   ]
  },
  {
   "cell_type": "markdown",
   "metadata": {},
   "source": [
    "### Get all features used for prediction for the test cohort"
   ]
  },
  {
   "cell_type": "code",
   "execution_count": 8,
   "metadata": {},
   "outputs": [
    {
     "data": {
      "text/html": [
       "5730678"
      ],
      "text/latex": [
       "5730678"
      ],
      "text/markdown": [
       "5730678"
      ],
      "text/plain": [
       "[1] 5730678"
      ]
     },
     "metadata": {},
     "output_type": "display_data"
    }
   ],
   "source": [
    "orders5 <- read.csv(file.path(datadir, 'coh5_order_code_counts.csv'))\n",
    "nrow(orders5) # should have 5730678"
   ]
  },
  {
   "cell_type": "code",
   "execution_count": 63,
   "metadata": {},
   "outputs": [
    {
     "data": {
      "text/html": [
       "6086852"
      ],
      "text/latex": [
       "6086852"
      ],
      "text/markdown": [
       "6086852"
      ],
      "text/plain": [
       "[1] 6086852"
      ]
     },
     "metadata": {},
     "output_type": "display_data"
    }
   ],
   "source": [
    "orders4 <- read.csv(file.path(datadir, 'coh4_order_code_counts.csv')) %>% \n",
    "            mutate(admit_time = ymd_hms(admit_time),\n",
    "                   feature_type = ifelse(str_detect(feature_type, \"Microbiology\"), \"Microbiology\", feature_type))\n",
    "nrow(orders4) # 4322665 is in correct, should have 6086852"
   ]
  },
  {
   "cell_type": "code",
   "execution_count": 65,
   "metadata": {},
   "outputs": [
    {
     "data": {
      "text/html": [
       "3085046"
      ],
      "text/latex": [
       "3085046"
      ],
      "text/markdown": [
       "3085046"
      ],
      "text/plain": [
       "[1] 3085046"
      ]
     },
     "metadata": {},
     "output_type": "display_data"
    }
   ],
   "source": [
    "values <- read.csv(file.path(featuredir, '2_7_coh4_feature_values.csv')) %>% mutate(admit_time = ymd_hms(admit_time))\n",
    "nrow(values) #3085046"
   ]
  },
  {
   "cell_type": "code",
   "execution_count": 66,
   "metadata": {},
   "outputs": [
    {
     "data": {
      "text/html": [
       "<style>\n",
       ".list-inline {list-style: none; margin:0; padding: 0}\n",
       ".list-inline>li {display: inline-block}\n",
       ".list-inline>li:not(:last-child)::after {content: \"\\00b7\"; padding: 0 .5ex}\n",
       "</style>\n",
       "<ol class=list-inline><li>'anon_id'</li><li>'pat_enc_csn_id_coded'</li><li>'admit_time'</li><li>'feature_type'</li><li>'features'</li><li>'values'</li></ol>\n"
      ],
      "text/latex": [
       "\\begin{enumerate*}\n",
       "\\item 'anon\\_id'\n",
       "\\item 'pat\\_enc\\_csn\\_id\\_coded'\n",
       "\\item 'admit\\_time'\n",
       "\\item 'feature\\_type'\n",
       "\\item 'features'\n",
       "\\item 'values'\n",
       "\\end{enumerate*}\n"
      ],
      "text/markdown": [
       "1. 'anon_id'\n",
       "2. 'pat_enc_csn_id_coded'\n",
       "3. 'admit_time'\n",
       "4. 'feature_type'\n",
       "5. 'features'\n",
       "6. 'values'\n",
       "\n",
       "\n"
      ],
      "text/plain": [
       "[1] \"anon_id\"              \"pat_enc_csn_id_coded\" \"admit_time\"          \n",
       "[4] \"feature_type\"         \"features\"             \"values\"              "
      ]
     },
     "metadata": {},
     "output_type": "display_data"
    },
    {
     "data": {
      "text/html": [
       "<style>\n",
       ".list-inline {list-style: none; margin:0; padding: 0}\n",
       ".list-inline>li {display: inline-block}\n",
       ".list-inline>li:not(:last-child)::after {content: \"\\00b7\"; padding: 0 .5ex}\n",
       "</style>\n",
       "<ol class=list-inline><li>'anon_id'</li><li>'pat_enc_csn_id_coded'</li><li>'admit_time'</li><li>'first_label'</li><li>'death_24hr_recent_label'</li><li>'death_24hr_max_label'</li><li>'feature_type'</li><li>'features'</li><li>'values'</li><li>'time'</li></ol>\n"
      ],
      "text/latex": [
       "\\begin{enumerate*}\n",
       "\\item 'anon\\_id'\n",
       "\\item 'pat\\_enc\\_csn\\_id\\_coded'\n",
       "\\item 'admit\\_time'\n",
       "\\item 'first\\_label'\n",
       "\\item 'death\\_24hr\\_recent\\_label'\n",
       "\\item 'death\\_24hr\\_max\\_label'\n",
       "\\item 'feature\\_type'\n",
       "\\item 'features'\n",
       "\\item 'values'\n",
       "\\item 'time'\n",
       "\\end{enumerate*}\n"
      ],
      "text/markdown": [
       "1. 'anon_id'\n",
       "2. 'pat_enc_csn_id_coded'\n",
       "3. 'admit_time'\n",
       "4. 'first_label'\n",
       "5. 'death_24hr_recent_label'\n",
       "6. 'death_24hr_max_label'\n",
       "7. 'feature_type'\n",
       "8. 'features'\n",
       "9. 'values'\n",
       "10. 'time'\n",
       "\n",
       "\n"
      ],
      "text/plain": [
       " [1] \"anon_id\"                 \"pat_enc_csn_id_coded\"   \n",
       " [3] \"admit_time\"              \"first_label\"            \n",
       " [5] \"death_24hr_recent_label\" \"death_24hr_max_label\"   \n",
       " [7] \"feature_type\"            \"features\"               \n",
       " [9] \"values\"                  \"time\"                   "
      ]
     },
     "metadata": {},
     "output_type": "display_data"
    },
    {
     "data": {
      "text/html": [
       "<style>\n",
       ".list-inline {list-style: none; margin:0; padding: 0}\n",
       ".list-inline>li {display: inline-block}\n",
       ".list-inline>li:not(:last-child)::after {content: \"\\00b7\"; padding: 0 .5ex}\n",
       "</style>\n",
       "<ol class=list-inline><li>'anon_id'</li><li>'pat_enc_csn_id_coded'</li><li>'inpatient_data_id_coded'</li><li>'admit_time'</li><li>'label_max24'</li><li>'label_24hr_recent'</li><li>'admit_label'</li><li>'has_admit_label'</li><li>'died_within_24hrs'</li><li>'death_24hr_max_label'</li><li>'death_24hr_recent_label'</li><li>'first_label'</li><li>'first_label_minutes_since_admit'</li><li>'acute_to_critical_label_recent'</li><li>'critical_to_acute_label_recent'</li><li>'acute_to_critical_label_max'</li><li>'critical_to_acute_label_max'</li><li>'adm_year'</li><li>'transfer'</li><li>'pred_death_24hr_max'</li><li>'pred_death_24hr_recent'</li><li>'pred_first'</li><li>'diff0_24'</li><li>'diff0_True'</li><li>'diff24_True'</li><li>'abs_diff0_24'</li></ol>\n"
      ],
      "text/latex": [
       "\\begin{enumerate*}\n",
       "\\item 'anon\\_id'\n",
       "\\item 'pat\\_enc\\_csn\\_id\\_coded'\n",
       "\\item 'inpatient\\_data\\_id\\_coded'\n",
       "\\item 'admit\\_time'\n",
       "\\item 'label\\_max24'\n",
       "\\item 'label\\_24hr\\_recent'\n",
       "\\item 'admit\\_label'\n",
       "\\item 'has\\_admit\\_label'\n",
       "\\item 'died\\_within\\_24hrs'\n",
       "\\item 'death\\_24hr\\_max\\_label'\n",
       "\\item 'death\\_24hr\\_recent\\_label'\n",
       "\\item 'first\\_label'\n",
       "\\item 'first\\_label\\_minutes\\_since\\_admit'\n",
       "\\item 'acute\\_to\\_critical\\_label\\_recent'\n",
       "\\item 'critical\\_to\\_acute\\_label\\_recent'\n",
       "\\item 'acute\\_to\\_critical\\_label\\_max'\n",
       "\\item 'critical\\_to\\_acute\\_label\\_max'\n",
       "\\item 'adm\\_year'\n",
       "\\item 'transfer'\n",
       "\\item 'pred\\_death\\_24hr\\_max'\n",
       "\\item 'pred\\_death\\_24hr\\_recent'\n",
       "\\item 'pred\\_first'\n",
       "\\item 'diff0\\_24'\n",
       "\\item 'diff0\\_True'\n",
       "\\item 'diff24\\_True'\n",
       "\\item 'abs\\_diff0\\_24'\n",
       "\\end{enumerate*}\n"
      ],
      "text/markdown": [
       "1. 'anon_id'\n",
       "2. 'pat_enc_csn_id_coded'\n",
       "3. 'inpatient_data_id_coded'\n",
       "4. 'admit_time'\n",
       "5. 'label_max24'\n",
       "6. 'label_24hr_recent'\n",
       "7. 'admit_label'\n",
       "8. 'has_admit_label'\n",
       "9. 'died_within_24hrs'\n",
       "10. 'death_24hr_max_label'\n",
       "11. 'death_24hr_recent_label'\n",
       "12. 'first_label'\n",
       "13. 'first_label_minutes_since_admit'\n",
       "14. 'acute_to_critical_label_recent'\n",
       "15. 'critical_to_acute_label_recent'\n",
       "16. 'acute_to_critical_label_max'\n",
       "17. 'critical_to_acute_label_max'\n",
       "18. 'adm_year'\n",
       "19. 'transfer'\n",
       "20. 'pred_death_24hr_max'\n",
       "21. 'pred_death_24hr_recent'\n",
       "22. 'pred_first'\n",
       "23. 'diff0_24'\n",
       "24. 'diff0_True'\n",
       "25. 'diff24_True'\n",
       "26. 'abs_diff0_24'\n",
       "\n",
       "\n"
      ],
      "text/plain": [
       " [1] \"anon_id\"                         \"pat_enc_csn_id_coded\"           \n",
       " [3] \"inpatient_data_id_coded\"         \"admit_time\"                     \n",
       " [5] \"label_max24\"                     \"label_24hr_recent\"              \n",
       " [7] \"admit_label\"                     \"has_admit_label\"                \n",
       " [9] \"died_within_24hrs\"               \"death_24hr_max_label\"           \n",
       "[11] \"death_24hr_recent_label\"         \"first_label\"                    \n",
       "[13] \"first_label_minutes_since_admit\" \"acute_to_critical_label_recent\" \n",
       "[15] \"critical_to_acute_label_recent\"  \"acute_to_critical_label_max\"    \n",
       "[17] \"critical_to_acute_label_max\"     \"adm_year\"                       \n",
       "[19] \"transfer\"                        \"pred_death_24hr_max\"            \n",
       "[21] \"pred_death_24hr_recent\"          \"pred_first\"                     \n",
       "[23] \"diff0_24\"                        \"diff0_True\"                     \n",
       "[25] \"diff24_True\"                     \"abs_diff0_24\"                   "
      ]
     },
     "metadata": {},
     "output_type": "display_data"
    },
    {
     "data": {
      "text/html": [
       "12418"
      ],
      "text/latex": [
       "12418"
      ],
      "text/markdown": [
       "12418"
      ],
      "text/plain": [
       "[1] 12418"
      ]
     },
     "metadata": {},
     "output_type": "display_data"
    }
   ],
   "source": [
    "colnames(orders4)\n",
    "colnames(values)\n",
    "colnames(cohort_test)\n",
    "nrow(cohort_test)"
   ]
  },
  {
   "cell_type": "code",
   "execution_count": 67,
   "metadata": {},
   "outputs": [],
   "source": [
    "cohort_diff <- cohort_test %>% select(anon_id, pat_enc_csn_id_coded, admit_time, \n",
    "                                      first_label, death_24hr_recent_label, death_24hr_max_label,\n",
    "                                      pred_first, pred_death_24hr_recent, abs_diff0_24, diff0_True, diff24_True) %>% \n",
    "                    filter(abs_diff0_24 >= 0.3)"
   ]
  },
  {
   "cell_type": "code",
   "execution_count": 68,
   "metadata": {},
   "outputs": [
    {
     "name": "stderr",
     "output_type": "stream",
     "text": [
      "Joining, by = c(\"anon_id\", \"pat_enc_csn_id_coded\", \"admit_time\")\n",
      "\n",
      "Joining, by = c(\"anon_id\", \"pat_enc_csn_id_coded\", \"admit_time\", \"first_label\", \"death_24hr_recent_label\", \"death_24hr_max_label\")\n",
      "\n"
     ]
    },
    {
     "data": {
      "text/html": [
       "318"
      ],
      "text/latex": [
       "318"
      ],
      "text/markdown": [
       "318"
      ],
      "text/plain": [
       "[1] 318"
      ]
     },
     "metadata": {},
     "output_type": "display_data"
    },
    {
     "data": {
      "text/html": [
       "318"
      ],
      "text/latex": [
       "318"
      ],
      "text/markdown": [
       "318"
      ],
      "text/plain": [
       "[1] 318"
      ]
     },
     "metadata": {},
     "output_type": "display_data"
    }
   ],
   "source": [
    "diff_cohort_orders <- left_join(cohort_diff, orders4)\n",
    "diff_cohort_values <- left_join(cohort_diff, values) \n",
    "length(unique(diff_cohort_orders$pat_enc_csn_id_coded))\n",
    "length(unique(diff_cohort_values$pat_enc_csn_id_coded))"
   ]
  },
  {
   "cell_type": "code",
   "execution_count": 69,
   "metadata": {},
   "outputs": [
    {
     "data": {
      "text/html": [
       "40709"
      ],
      "text/latex": [
       "40709"
      ],
      "text/markdown": [
       "40709"
      ],
      "text/plain": [
       "[1] 40709"
      ]
     },
     "metadata": {},
     "output_type": "display_data"
    },
    {
     "data": {
      "text/html": [
       "30398"
      ],
      "text/latex": [
       "30398"
      ],
      "text/markdown": [
       "30398"
      ],
      "text/plain": [
       "[1] 30398"
      ]
     },
     "metadata": {},
     "output_type": "display_data"
    },
    {
     "name": "stderr",
     "output_type": "stream",
     "text": [
      "`summarise()` ungrouping output (override with `.groups` argument)\n",
      "\n"
     ]
    },
    {
     "data": {
      "text/html": [
       "<table>\n",
       "<caption>A tibble: 6 × 2</caption>\n",
       "<thead>\n",
       "\t<tr><th scope=col>feature_type</th><th scope=col>n</th></tr>\n",
       "\t<tr><th scope=col>&lt;chr&gt;</th><th scope=col>&lt;int&gt;</th></tr>\n",
       "</thead>\n",
       "<tbody>\n",
       "\t<tr><td>Microbiology</td><td>  203</td></tr>\n",
       "\t<tr><td>Procedures  </td><td>  513</td></tr>\n",
       "\t<tr><td>Imaging     </td><td> 1822</td></tr>\n",
       "\t<tr><td>Lab         </td><td> 6305</td></tr>\n",
       "\t<tr><td>Meds        </td><td>12397</td></tr>\n",
       "\t<tr><td>Diagnosis   </td><td>19469</td></tr>\n",
       "</tbody>\n",
       "</table>\n"
      ],
      "text/latex": [
       "A tibble: 6 × 2\n",
       "\\begin{tabular}{ll}\n",
       " feature\\_type & n\\\\\n",
       " <chr> & <int>\\\\\n",
       "\\hline\n",
       "\t Microbiology &   203\\\\\n",
       "\t Procedures   &   513\\\\\n",
       "\t Imaging      &  1822\\\\\n",
       "\t Lab          &  6305\\\\\n",
       "\t Meds         & 12397\\\\\n",
       "\t Diagnosis    & 19469\\\\\n",
       "\\end{tabular}\n"
      ],
      "text/markdown": [
       "\n",
       "A tibble: 6 × 2\n",
       "\n",
       "| feature_type &lt;chr&gt; | n &lt;int&gt; |\n",
       "|---|---|\n",
       "| Microbiology |   203 |\n",
       "| Procedures   |   513 |\n",
       "| Imaging      |  1822 |\n",
       "| Lab          |  6305 |\n",
       "| Meds         | 12397 |\n",
       "| Diagnosis    | 19469 |\n",
       "\n"
      ],
      "text/plain": [
       "  feature_type n    \n",
       "1 Microbiology   203\n",
       "2 Procedures     513\n",
       "3 Imaging       1822\n",
       "4 Lab           6305\n",
       "5 Meds         12397\n",
       "6 Diagnosis    19469"
      ]
     },
     "metadata": {},
     "output_type": "display_data"
    },
    {
     "name": "stderr",
     "output_type": "stream",
     "text": [
      "`summarise()` ungrouping output (override with `.groups` argument)\n",
      "\n"
     ]
    },
    {
     "data": {
      "text/html": [
       "<table>\n",
       "<caption>A tibble: 3 × 2</caption>\n",
       "<thead>\n",
       "\t<tr><th scope=col>feature_type</th><th scope=col>n</th></tr>\n",
       "\t<tr><th scope=col>&lt;chr&gt;</th><th scope=col>&lt;int&gt;</th></tr>\n",
       "</thead>\n",
       "<tbody>\n",
       "\t<tr><td>demo  </td><td> 5406</td></tr>\n",
       "\t<tr><td>vitals</td><td>12376</td></tr>\n",
       "\t<tr><td>labs  </td><td>12616</td></tr>\n",
       "</tbody>\n",
       "</table>\n"
      ],
      "text/latex": [
       "A tibble: 3 × 2\n",
       "\\begin{tabular}{ll}\n",
       " feature\\_type & n\\\\\n",
       " <chr> & <int>\\\\\n",
       "\\hline\n",
       "\t demo   &  5406\\\\\n",
       "\t vitals & 12376\\\\\n",
       "\t labs   & 12616\\\\\n",
       "\\end{tabular}\n"
      ],
      "text/markdown": [
       "\n",
       "A tibble: 3 × 2\n",
       "\n",
       "| feature_type &lt;chr&gt; | n &lt;int&gt; |\n",
       "|---|---|\n",
       "| demo   |  5406 |\n",
       "| vitals | 12376 |\n",
       "| labs   | 12616 |\n",
       "\n"
      ],
      "text/plain": [
       "  feature_type n    \n",
       "1 demo          5406\n",
       "2 vitals       12376\n",
       "3 labs         12616"
      ]
     },
     "metadata": {},
     "output_type": "display_data"
    }
   ],
   "source": [
    "nrow(diff_cohort_orders)\n",
    "nrow(diff_cohort_values)\n",
    "diff_cohort_orders %>% group_by(feature_type) %>% summarise(n = n()) %>% arrange(n)\n",
    "diff_cohort_values %>% group_by(feature_type) %>% summarise(n = n()) %>% arrange(n)"
   ]
  },
  {
   "cell_type": "code",
   "execution_count": 70,
   "metadata": {},
   "outputs": [
    {
     "name": "stderr",
     "output_type": "stream",
     "text": [
      "Joining, by = c(\"anon_id\", \"pat_enc_csn_id_coded\", \"admit_time\", \"first_label\", \"death_24hr_recent_label\", \"death_24hr_max_label\", \"pred_first\", \"pred_death_24hr_recent\", \"abs_diff0_24\", \"diff0_True\", \"diff24_True\", \"feature_type\", \"features\", \"values\")\n",
      "\n"
     ]
    },
    {
     "data": {
      "text/html": [
       "71107"
      ],
      "text/latex": [
       "71107"
      ],
      "text/markdown": [
       "71107"
      ],
      "text/plain": [
       "[1] 71107"
      ]
     },
     "metadata": {},
     "output_type": "display_data"
    },
    {
     "data": {
      "text/html": [
       "71107"
      ],
      "text/latex": [
       "71107"
      ],
      "text/markdown": [
       "71107"
      ],
      "text/plain": [
       "[1] 71107"
      ]
     },
     "metadata": {},
     "output_type": "display_data"
    },
    {
     "data": {
      "text/html": [
       "318"
      ],
      "text/latex": [
       "318"
      ],
      "text/markdown": [
       "318"
      ],
      "text/plain": [
       "[1] 318"
      ]
     },
     "metadata": {},
     "output_type": "display_data"
    },
    {
     "name": "stderr",
     "output_type": "stream",
     "text": [
      "`summarise()` ungrouping output (override with `.groups` argument)\n",
      "\n"
     ]
    },
    {
     "data": {
      "text/html": [
       "<table>\n",
       "<caption>A tibble: 9 × 2</caption>\n",
       "<thead>\n",
       "\t<tr><th scope=col>feature_type</th><th scope=col>n</th></tr>\n",
       "\t<tr><th scope=col>&lt;chr&gt;</th><th scope=col>&lt;int&gt;</th></tr>\n",
       "</thead>\n",
       "<tbody>\n",
       "\t<tr><td>Microbiology</td><td>  203</td></tr>\n",
       "\t<tr><td>Procedures  </td><td>  513</td></tr>\n",
       "\t<tr><td>Imaging     </td><td> 1822</td></tr>\n",
       "\t<tr><td>demo        </td><td> 5406</td></tr>\n",
       "\t<tr><td>Lab         </td><td> 6305</td></tr>\n",
       "\t<tr><td>vitals      </td><td>12376</td></tr>\n",
       "\t<tr><td>Meds        </td><td>12397</td></tr>\n",
       "\t<tr><td>labs        </td><td>12616</td></tr>\n",
       "\t<tr><td>Diagnosis   </td><td>19469</td></tr>\n",
       "</tbody>\n",
       "</table>\n"
      ],
      "text/latex": [
       "A tibble: 9 × 2\n",
       "\\begin{tabular}{ll}\n",
       " feature\\_type & n\\\\\n",
       " <chr> & <int>\\\\\n",
       "\\hline\n",
       "\t Microbiology &   203\\\\\n",
       "\t Procedures   &   513\\\\\n",
       "\t Imaging      &  1822\\\\\n",
       "\t demo         &  5406\\\\\n",
       "\t Lab          &  6305\\\\\n",
       "\t vitals       & 12376\\\\\n",
       "\t Meds         & 12397\\\\\n",
       "\t labs         & 12616\\\\\n",
       "\t Diagnosis    & 19469\\\\\n",
       "\\end{tabular}\n"
      ],
      "text/markdown": [
       "\n",
       "A tibble: 9 × 2\n",
       "\n",
       "| feature_type &lt;chr&gt; | n &lt;int&gt; |\n",
       "|---|---|\n",
       "| Microbiology |   203 |\n",
       "| Procedures   |   513 |\n",
       "| Imaging      |  1822 |\n",
       "| demo         |  5406 |\n",
       "| Lab          |  6305 |\n",
       "| vitals       | 12376 |\n",
       "| Meds         | 12397 |\n",
       "| labs         | 12616 |\n",
       "| Diagnosis    | 19469 |\n",
       "\n"
      ],
      "text/plain": [
       "  feature_type n    \n",
       "1 Microbiology   203\n",
       "2 Procedures     513\n",
       "3 Imaging       1822\n",
       "4 demo          5406\n",
       "5 Lab           6305\n",
       "6 vitals       12376\n",
       "7 Meds         12397\n",
       "8 labs         12616\n",
       "9 Diagnosis    19469"
      ]
     },
     "metadata": {},
     "output_type": "display_data"
    }
   ],
   "source": [
    "diff_cohort_full_features <- full_join(diff_cohort_orders, diff_cohort_values)\n",
    "nrow(diff_cohort_full_features)\n",
    "nrow(diff_cohort_orders) + nrow(diff_cohort_values)\n",
    "length(unique(diff_cohort_full_features$pat_enc_csn_id_coded))\n",
    "diff_cohort_full_features %>% group_by(feature_type) %>% summarise(n = n()) %>% arrange(n)"
   ]
  },
  {
   "cell_type": "code",
   "execution_count": 71,
   "metadata": {},
   "outputs": [],
   "source": [
    "write.csv(diff_cohort_full_features, file.path(modeldir4, \"1_4_cohort_diff_full_features.csv\"), row.names=FALSE)"
   ]
  },
  {
   "cell_type": "markdown",
   "metadata": {},
   "source": [
    "### Patient visits predictions vs. truth\n"
   ]
  },
  {
   "cell_type": "code",
   "execution_count": 72,
   "metadata": {},
   "outputs": [
    {
     "data": {
      "text/plain": [
       "     Min.   1st Qu.    Median      Mean   3rd Qu.      Max. \n",
       "-0.990000  0.010000  0.030000 -0.007673  0.070000  0.930000 "
      ]
     },
     "metadata": {},
     "output_type": "display_data"
    },
    {
     "data": {
      "text/plain": [
       "    Min.  1st Qu.   Median     Mean  3rd Qu.     Max. \n",
       "-0.99000  0.01000  0.03000 -0.05359  0.06000  0.76000 "
      ]
     },
     "metadata": {},
     "output_type": "display_data"
    }
   ],
   "source": [
    "summary(cohort_test$diff0_True)\n",
    "summary(cohort_test$diff24_True)"
   ]
  },
  {
   "cell_type": "code",
   "execution_count": 73,
   "metadata": {},
   "outputs": [],
   "source": [
    "diff3 <- gather(cohort_test, diffs, values, diff0_24:diff24_True, factor_key=TRUE)\n",
    "diff2 <- diff3 %>% filter(diffs != 'diff0_24')"
   ]
  },
  {
   "cell_type": "code",
   "execution_count": 74,
   "metadata": {},
   "outputs": [
    {
     "name": "stderr",
     "output_type": "stream",
     "text": [
      "`stat_bin()` using `bins = 30`. Pick better value with `binwidth`.\n",
      "\n"
     ]
    },
    {
     "data": {
      "image/png": "[encoded data removed]",
      "text/plain": [
       "plot without title"
      ]
     },
     "metadata": {
      "image/png": {
       "height": 600,
       "width": 420
      }
     },
     "output_type": "display_data"
    }
   ],
   "source": [
    "options(repr.plot.width=7, repr.plot.height=10)\n",
    "\n",
    "ggplot(diff2, aes(x = values)) +\n",
    "  geom_histogram(fill = \"white\", colour = \"black\") +\n",
    "  facet_grid(diffs ~ .)"
   ]
  },
  {
   "cell_type": "markdown",
   "metadata": {},
   "source": [
    "### "
   ]
  },
  {
   "cell_type": "markdown",
   "metadata": {},
   "source": [
    "### Check most difference first\n",
    "- 0.7 or more: 3\n",
    "- 0.6 or more: 11\n",
    "- 0.5 or more: 33"
   ]
  },
  {
   "cell_type": "code",
   "execution_count": 75,
   "metadata": {},
   "outputs": [
    {
     "data": {
      "text/html": [
       "<table>\n",
       "<caption>A tibble: 8 × 4</caption>\n",
       "<thead>\n",
       "\t<tr><th scope=col>abs_diff0_24</th><th scope=col>count</th><th scope=col>cum_count</th><th scope=col>cumperc</th></tr>\n",
       "\t<tr><th scope=col>&lt;dbl&gt;</th><th scope=col>&lt;int&gt;</th><th scope=col>&lt;int&gt;</th><th scope=col>&lt;dbl&gt;</th></tr>\n",
       "</thead>\n",
       "<tbody>\n",
       "\t<tr><td>0.7</td><td>   3</td><td>    3</td><td>  0.02</td></tr>\n",
       "\t<tr><td>0.6</td><td>   8</td><td>   11</td><td>  0.09</td></tr>\n",
       "\t<tr><td>0.5</td><td>  22</td><td>   33</td><td>  0.27</td></tr>\n",
       "\t<tr><td>0.4</td><td>  79</td><td>  112</td><td>  0.90</td></tr>\n",
       "\t<tr><td>0.3</td><td> 206</td><td>  318</td><td>  2.56</td></tr>\n",
       "\t<tr><td>0.2</td><td> 501</td><td>  819</td><td>  6.60</td></tr>\n",
       "\t<tr><td>0.1</td><td>1619</td><td> 2438</td><td> 19.63</td></tr>\n",
       "\t<tr><td>0.0</td><td>9980</td><td>12418</td><td>100.00</td></tr>\n",
       "</tbody>\n",
       "</table>\n"
      ],
      "text/latex": [
       "A tibble: 8 × 4\n",
       "\\begin{tabular}{llll}\n",
       " abs\\_diff0\\_24 & count & cum\\_count & cumperc\\\\\n",
       " <dbl> & <int> & <int> & <dbl>\\\\\n",
       "\\hline\n",
       "\t 0.7 &    3 &     3 &   0.02\\\\\n",
       "\t 0.6 &    8 &    11 &   0.09\\\\\n",
       "\t 0.5 &   22 &    33 &   0.27\\\\\n",
       "\t 0.4 &   79 &   112 &   0.90\\\\\n",
       "\t 0.3 &  206 &   318 &   2.56\\\\\n",
       "\t 0.2 &  501 &   819 &   6.60\\\\\n",
       "\t 0.1 & 1619 &  2438 &  19.63\\\\\n",
       "\t 0.0 & 9980 & 12418 & 100.00\\\\\n",
       "\\end{tabular}\n"
      ],
      "text/markdown": [
       "\n",
       "A tibble: 8 × 4\n",
       "\n",
       "| abs_diff0_24 &lt;dbl&gt; | count &lt;int&gt; | cum_count &lt;int&gt; | cumperc &lt;dbl&gt; |\n",
       "|---|---|---|---|\n",
       "| 0.7 |    3 |     3 |   0.02 |\n",
       "| 0.6 |    8 |    11 |   0.09 |\n",
       "| 0.5 |   22 |    33 |   0.27 |\n",
       "| 0.4 |   79 |   112 |   0.90 |\n",
       "| 0.3 |  206 |   318 |   2.56 |\n",
       "| 0.2 |  501 |   819 |   6.60 |\n",
       "| 0.1 | 1619 |  2438 |  19.63 |\n",
       "| 0.0 | 9980 | 12418 | 100.00 |\n",
       "\n"
      ],
      "text/plain": [
       "  abs_diff0_24 count cum_count cumperc\n",
       "1 0.7             3      3       0.02 \n",
       "2 0.6             8     11       0.09 \n",
       "3 0.5            22     33       0.27 \n",
       "4 0.4            79    112       0.90 \n",
       "5 0.3           206    318       2.56 \n",
       "6 0.2           501    819       6.60 \n",
       "7 0.1          1619   2438      19.63 \n",
       "8 0.0          9980  12418     100.00 "
      ]
     },
     "metadata": {},
     "output_type": "display_data"
    }
   ],
   "source": [
    "diff"
   ]
  },
  {
   "cell_type": "code",
   "execution_count": null,
   "metadata": {},
   "outputs": [],
   "source": []
  },
  {
   "cell_type": "markdown",
   "metadata": {},
   "source": [
    "### Check AUC and PRC"
   ]
  },
  {
   "cell_type": "code",
   "execution_count": 74,
   "metadata": {},
   "outputs": [
    {
     "data": {
      "text/html": [
       "0.875995437857203"
      ],
      "text/latex": [
       "0.875995437857203"
      ],
      "text/markdown": [
       "0.875995437857203"
      ],
      "text/plain": [
       "[1] 0.8759954"
      ]
     },
     "metadata": {},
     "output_type": "display_data"
    },
    {
     "data": {
      "text/html": [
       "0.64255115231513"
      ],
      "text/latex": [
       "0.64255115231513"
      ],
      "text/markdown": [
       "0.64255115231513"
      ],
      "text/plain": [
       "[1] 0.6425512"
      ]
     },
     "metadata": {},
     "output_type": "display_data"
    },
    {
     "data": {
      "image/png": "[encoded data removed]",
      "text/plain": [
       "plot without title"
      ]
     },
     "metadata": {
      "image/png": {
       "height": 420,
       "width": 420
      }
     },
     "output_type": "display_data"
    },
    {
     "data": {
      "image/png": "[encoded data removed]",
      "text/plain": [
       "plot without title"
      ]
     },
     "metadata": {
      "image/png": {
       "height": 420,
       "width": 420
      }
     },
     "output_type": "display_data"
    }
   ],
   "source": [
    "# get performance metrics AUC and PRC, highest level of care\n",
    "options(repr.plot.width=7, repr.plot.height=7)\n",
    "\n",
    "# pred_rocr = ROCR::prediction(cohort_test$pred_death_24hr_recent, cohort_test$death_24hr_recent_label)\n",
    "pred_rocr = ROCR::prediction(cohort_test$pred_death_24hr_max, cohort_test$death_24hr_max_label)\n",
    "auc = ROCR::performance(pred_rocr, measure = \"auc\", x.measure = \"cutoff\")@y.values[[1]]\n",
    "prc = ROCR::performance(pred_rocr, measure = \"aucpr\", x.measure = \"cutoff\")@y.values[[1]]\n",
    "\n",
    "PRC.perf <- ROCR::performance(pred_rocr, \"prec\", \"rec\")\n",
    "ROC.perf <-  ROCR::performance(pred_rocr, \"tpr\", \"fpr\")\n",
    "auc; prc\n",
    "\n",
    "plot(ROC.perf)\n",
    "plot(PRC.perf)"
   ]
  },
  {
   "cell_type": "code",
   "execution_count": 70,
   "metadata": {},
   "outputs": [
    {
     "data": {
      "text/html": [
       "0.852746095933298"
      ],
      "text/latex": [
       "0.852746095933298"
      ],
      "text/markdown": [
       "0.852746095933298"
      ],
      "text/plain": [
       "[1] 0.8527461"
      ]
     },
     "metadata": {},
     "output_type": "display_data"
    },
    {
     "data": {
      "text/html": [
       "0.491112785165401"
      ],
      "text/latex": [
       "0.491112785165401"
      ],
      "text/markdown": [
       "0.491112785165401"
      ],
      "text/plain": [
       "[1] 0.4911128"
      ]
     },
     "metadata": {},
     "output_type": "display_data"
    },
    {
     "data": {
      "image/png": "[encoded data removed]",
      "text/plain": [
       "plot without title"
      ]
     },
     "metadata": {
      "image/png": {
       "height": 420,
       "width": 420
      }
     },
     "output_type": "display_data"
    },
    {
     "data": {
      "image/png": "[encoded data removed]",
      "text/plain": [
       "plot without title"
      ]
     },
     "metadata": {
      "image/png": {
       "height": 420,
       "width": 420
      }
     },
     "output_type": "display_data"
    }
   ],
   "source": [
    "# get performance metrics AUC and PRC, at 24hr\n",
    "options(repr.plot.width=7, repr.plot.height=7)\n",
    "\n",
    "pred_rocr = ROCR::prediction(cohort_test$pred_death_24hr_recent, cohort_test$death_24hr_recent_label)\n",
    "auc = ROCR::performance(pred_rocr, measure = \"auc\", x.measure = \"cutoff\")@y.values[[1]]\n",
    "prc = ROCR::performance(pred_rocr, measure = \"aucpr\", x.measure = \"cutoff\")@y.values[[1]]\n",
    "\n",
    "PRC.perf <- ROCR::performance(pred_rocr, \"prec\", \"rec\")\n",
    "ROC.perf <-  ROCR::performance(pred_rocr, \"tpr\", \"fpr\")\n",
    "auc; prc\n",
    "\n",
    "plot(ROC.perf)\n",
    "plot(PRC.perf)"
   ]
  },
  {
   "cell_type": "code",
   "execution_count": 73,
   "metadata": {},
   "outputs": [
    {
     "data": {
      "text/html": [
       "0.851396490675799"
      ],
      "text/latex": [
       "0.851396490675799"
      ],
      "text/markdown": [
       "0.851396490675799"
      ],
      "text/plain": [
       "[1] 0.8513965"
      ]
     },
     "metadata": {},
     "output_type": "display_data"
    },
    {
     "data": {
      "text/html": [
       "0.487723965329804"
      ],
      "text/latex": [
       "0.487723965329804"
      ],
      "text/markdown": [
       "0.487723965329804"
      ],
      "text/plain": [
       "[1] 0.487724"
      ]
     },
     "metadata": {},
     "output_type": "display_data"
    },
    {
     "data": {
      "image/png": "[encoded data removed]",
      "text/plain": [
       "plot without title"
      ]
     },
     "metadata": {
      "image/png": {
       "height": 420,
       "width": 420
      }
     },
     "output_type": "display_data"
    },
    {
     "data": {
      "image/png": "[encoded data removed]",
      "text/plain": [
       "plot without title"
      ]
     },
     "metadata": {
      "image/png": {
       "height": 420,
       "width": 420
      }
     },
     "output_type": "display_data"
    }
   ],
   "source": [
    "test2019 <- cohort_test %>% filter(adm_year==2019)\n",
    "pred_rocr = ROCR::prediction(test2019$pred_death_24hr_recent, test2019$death_24hr_recent_label)\n",
    "auc = ROCR::performance(pred_rocr, measure = \"auc\", x.measure = \"cutoff\")@y.values[[1]]\n",
    "prc = ROCR::performance(pred_rocr, measure = \"aucpr\", x.measure = \"cutoff\")@y.values[[1]]\n",
    "\n",
    "PRC.perf <- ROCR::performance(pred_rocr, \"prec\", \"rec\")\n",
    "ROC.perf <-  ROCR::performance(pred_rocr, \"tpr\", \"fpr\")\n",
    "auc; prc\n",
    "\n",
    "plot(ROC.perf)\n",
    "plot(PRC.perf)"
   ]
  },
  {
   "cell_type": "code",
   "execution_count": 76,
   "metadata": {},
   "outputs": [
    {
     "data": {
      "text/html": [
       "0.907253499579289"
      ],
      "text/latex": [
       "0.907253499579289"
      ],
      "text/markdown": [
       "0.907253499579289"
      ],
      "text/plain": [
       "[1] 0.9072535"
      ]
     },
     "metadata": {},
     "output_type": "display_data"
    },
    {
     "data": {
      "text/html": [
       "0.642238742593756"
      ],
      "text/latex": [
       "0.642238742593756"
      ],
      "text/markdown": [
       "0.642238742593756"
      ],
      "text/plain": [
       "[1] 0.6422387"
      ]
     },
     "metadata": {},
     "output_type": "display_data"
    },
    {
     "data": {
      "image/png": "[encoded data removed]",
      "text/plain": [
       "plot without title"
      ]
     },
     "metadata": {
      "image/png": {
       "height": 420,
       "width": 420
      }
     },
     "output_type": "display_data"
    },
    {
     "data": {
      "image/png": "[encoded data removed]",
      "text/plain": [
       "plot without title"
      ]
     },
     "metadata": {
      "image/png": {
       "height": 420,
       "width": 420
      }
     },
     "output_type": "display_data"
    }
   ],
   "source": [
    "# get performance metrics AUC and PRC, and ACC\n",
    "options(repr.plot.width=7, repr.plot.height=7)\n",
    "\n",
    "pred_rocr = ROCR::prediction(cohort_test$pred_first, cohort_test$first_label)\n",
    "auc = ROCR::performance(pred_rocr, measure = \"auc\", x.measure = \"cutoff\")@y.values[[1]]\n",
    "prc = ROCR::performance(pred_rocr, measure = \"aucpr\", x.measure = \"cutoff\")@y.values[[1]]\n",
    "\n",
    "PRC.perf <- ROCR::performance(pred_rocr, \"prec\", \"rec\")\n",
    "ROC.perf <-  ROCR::performance(pred_rocr, \"tpr\", \"fpr\")\n",
    "auc; prc\n",
    "\n",
    "plot(ROC.perf)\n",
    "plot(PRC.perf)"
   ]
  }
 ],
 "metadata": {
  "environment": {
   "name": "r-cpu.4-0.m71",
   "type": "gcloud",
   "uri": "gcr.io/deeplearning-platform-release/r-cpu.4-0:m71"
  },
  "kernelspec": {
   "display_name": "R",
   "language": "R",
   "name": "ir"
  },
  "language_info": {
   "codemirror_mode": "r",
   "file_extension": ".r",
   "mimetype": "text/x-r-source",
   "name": "R",
   "pygments_lexer": "r",
   "version": "4.0.3"
  }
 },
 "nbformat": 4,
 "nbformat_minor": 4
}
