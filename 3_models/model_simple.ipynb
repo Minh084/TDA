{
 "cells": [
  {
   "cell_type": "markdown",
   "metadata": {},
   "source": [
    "This notebook runs simple models on simple data:\n",
    "* Features: demographics and summary statistics for vital signs, 1 patient/csn 1 row\n",
    "* Models: logistic regression, random forest, gradient boosting machine, and simple MLP\n",
    "* Train: 2016 - 2017, Validation: 2018, Test: 2019\n",
    "* Evaluation: AUROC and PR"
   ]
  },
  {
   "cell_type": "code",
   "execution_count": 1,
   "metadata": {},
   "outputs": [],
   "source": [
    "import sys, time, datetime\n",
    "import numpy as np\n",
    "import pandas as pd\n",
    "from pandas import read_csv\n",
    "import seaborn as sns\n",
    "import matplotlib.pyplot as plt \n",
    "\n",
    "import tensorflow as tf\n",
    "# tf.__version__\n",
    "\n",
    "from tensorflow.keras.models import Sequential, Model\n",
    "from tensorflow.keras.layers import Dropout, Dense\n",
    "from tensorflow.keras.optimizers import Adam\n",
    "\n",
    "from sklearn.linear_model import LogisticRegression\n",
    "from sklearn.ensemble import RandomForestClassifier, GradientBoostingClassifier\n",
    "from sklearn.model_selection import GridSearchCV\n",
    "from sklearn.metrics import roc_curve, roc_auc_score, precision_recall_curve, average_precision_score\n",
    "#, plot_roc_curve, plot_precision_recall_curve"
   ]
  },
  {
   "cell_type": "code",
   "execution_count": 2,
   "metadata": {},
   "outputs": [],
   "source": [
    "%load_ext rpy2.ipython\n",
    "# to reload\n",
    "# %reload_ext rpy2.ipython"
   ]
  },
  {
   "cell_type": "code",
   "execution_count": 3,
   "metadata": {},
   "outputs": [
    {
     "name": "stderr",
     "output_type": "stream",
     "text": [
      "R[write to console]: Loading required package: lattice\n",
      "\n",
      "R[write to console]: Loading required package: ggplot2\n",
      "\n",
      "R[write to console]: data.table 1.12.8 using 16 threads (see ?getDTthreads).  Latest news: r-datatable.com\n",
      "\n",
      "R[write to console]: ── Attaching packages ─────────────────────────────────────── tidyverse 1.3.0 ──\n",
      "\n",
      "R[write to console]: ✔ tibble  3.0.3     ✔ dplyr   1.0.0\n",
      "✔ tidyr   1.1.0     ✔ stringr 1.4.0\n",
      "✔ readr   1.3.1     ✔ forcats 0.5.0\n",
      "✔ purrr   0.3.4     \n",
      "\n",
      "R[write to console]: ── Conflicts ────────────────────────────────────────── tidyverse_conflicts() ──\n",
      "✖ dplyr::between()   masks data.table::between()\n",
      "✖ dplyr::filter()    masks stats::filter()\n",
      "✖ dplyr::first()     masks data.table::first()\n",
      "✖ dplyr::lag()       masks stats::lag()\n",
      "✖ dplyr::last()      masks data.table::last()\n",
      "✖ purrr::lift()      masks caret::lift()\n",
      "✖ purrr::transpose() masks data.table::transpose()\n",
      "\n",
      "R[write to console]: \n",
      "Attaching package: ‘lubridate’\n",
      "\n",
      "\n",
      "R[write to console]: The following objects are masked from ‘package:data.table’:\n",
      "\n",
      "    hour, isoweek, mday, minute, month, quarter, second, wday, week,\n",
      "    yday, year\n",
      "\n",
      "\n",
      "R[write to console]: The following objects are masked from ‘package:base’:\n",
      "\n",
      "    date, intersect, setdiff, union\n",
      "\n",
      "\n",
      "R[write to console]: \n",
      "Attaching package: ‘Matrix’\n",
      "\n",
      "\n",
      "R[write to console]: The following objects are masked from ‘package:tidyr’:\n",
      "\n",
      "    expand, pack, unpack\n",
      "\n",
      "\n",
      "R[write to console]: Loaded glmnet 4.0-2\n",
      "\n",
      "R[write to console]: Loading required package: bit\n",
      "\n",
      "R[write to console]: Attaching package bit\n",
      "\n",
      "R[write to console]: package:bit (c) 2008-2012 Jens Oehlschlaegel (GPL-2)\n",
      "\n",
      "R[write to console]: creators: bit bitwhich\n",
      "\n",
      "R[write to console]: coercion: as.logical as.integer as.bit as.bitwhich which\n",
      "\n",
      "R[write to console]: operator: ! & | xor != ==\n",
      "\n",
      "R[write to console]: querying: print length any all min max range sum summary\n",
      "\n",
      "R[write to console]: bit access: length<- [ [<- [[ [[<-\n",
      "\n",
      "R[write to console]: for more help type ?bit\n",
      "\n",
      "R[write to console]: \n",
      "Attaching package: ‘bit’\n",
      "\n",
      "\n",
      "R[write to console]: The following object is masked from ‘package:data.table’:\n",
      "\n",
      "    setattr\n",
      "\n",
      "\n",
      "R[write to console]: The following object is masked from ‘package:base’:\n",
      "\n",
      "    xor\n",
      "\n",
      "\n",
      "R[write to console]: Attaching package bit64\n",
      "\n",
      "R[write to console]: package:bit64 (c) 2011-2012 Jens Oehlschlaegel\n",
      "\n",
      "R[write to console]: creators: integer64 seq :\n",
      "\n",
      "R[write to console]: coercion: as.integer64 as.vector as.logical as.integer as.double as.character as.bin\n",
      "\n",
      "R[write to console]: logical operator: ! & | xor != == < <= >= >\n",
      "\n",
      "R[write to console]: arithmetic operator: + - * / %/% %% ^\n",
      "\n",
      "R[write to console]: math: sign abs sqrt log log2 log10\n",
      "\n",
      "R[write to console]: math: floor ceiling trunc round\n",
      "\n",
      "R[write to console]: querying: is.integer64 is.vector [is.atomic} [length] format print str\n",
      "\n",
      "R[write to console]: values: is.na is.nan is.finite is.infinite\n",
      "\n",
      "R[write to console]: aggregation: any all min max range sum prod\n",
      "\n",
      "R[write to console]: cumulation: diff cummin cummax cumsum cumprod\n",
      "\n",
      "R[write to console]: access: length<- [ [<- [[ [[<-\n",
      "\n",
      "R[write to console]: combine: c rep cbind rbind as.data.frame\n",
      "\n",
      "R[write to console]: WARNING don't use as subscripts\n",
      "\n",
      "R[write to console]: WARNING semantics differ from integer\n",
      "\n",
      "R[write to console]: for more help type ?bit64\n",
      "\n",
      "R[write to console]: \n",
      "Attaching package: ‘bit64’\n",
      "\n",
      "\n",
      "R[write to console]: The following object is masked from ‘package:bit’:\n",
      "\n",
      "    still.identical\n",
      "\n",
      "\n",
      "R[write to console]: The following objects are masked from ‘package:base’:\n",
      "\n",
      "    :, %in%, is.double, match, order, rank\n",
      "\n",
      "\n",
      "R[write to console]: \n",
      "Attaching package: ‘mice’\n",
      "\n",
      "\n",
      "R[write to console]: The following objects are masked from ‘package:base’:\n",
      "\n",
      "    cbind, rbind\n",
      "\n",
      "\n",
      "R[write to console]: Type 'citation(\"pROC\")' for a citation.\n",
      "\n",
      "R[write to console]: \n",
      "Attaching package: ‘pROC’\n",
      "\n",
      "\n",
      "R[write to console]: The following objects are masked from ‘package:stats’:\n",
      "\n",
      "    cov, smooth, var\n",
      "\n",
      "\n"
     ]
    }
   ],
   "source": [
    "%%R \n",
    "# -i df -w 5 -h 5 --units in -r 200\n",
    "# the above line needs to be first in the cell, after comments\n",
    "# import df from global environment\n",
    "# make default figure size 5 by 5 inches with 200 dpi resolution\n",
    "\n",
    "library(caret) # import this before glmnet to avoid rlang version problem\n",
    "# library(xgboost)\n",
    "library(data.table)\n",
    "library(tidyverse)\n",
    "library(lubridate)\n",
    "library(Matrix)\n",
    "# library(slam)\n",
    "library(glmnet)\n",
    "library(bit64)\n",
    "# library(mtools) for one hot coder, not available on Nero or use caret or tidyr\n",
    "library(mice)\n",
    "library(pROC)"
   ]
  },
  {
   "cell_type": "code",
   "execution_count": 13,
   "metadata": {},
   "outputs": [],
   "source": [
    "# %R -o df1 -o df\n",
    "# %R -i cohort"
   ]
  },
  {
   "cell_type": "code",
   "execution_count": 4,
   "metadata": {},
   "outputs": [
    {
     "name": "stdout",
     "output_type": "stream",
     "text": [
      "[1] 41654   108\n",
      "  [1] \"anon_id\"                      \"pat_enc_csn_id_coded\"        \n",
      "  [3] \"inpatient_data_id_coded\"      \"label_max24\"                 \n",
      "  [5] \"admit_time\"                   \"admit_label\"                 \n",
      "  [7] \"label_24hr_recent\"            \"label_12hr_recent\"           \n",
      "  [9] \"has_admit_label\"              \"first_label\"                 \n",
      " [11] \"first_label_time_since_admit\" \"acute_to_critical_label\"     \n",
      " [13] \"critical_to_acute_label\"      \"DBP_count\"                   \n",
      " [15] \"DBP_first_val\"                \"DBP_fldiff\"                  \n",
      " [17] \"DBP_IQRx\"                     \"DBP_last_val\"                \n",
      " [19] \"DBP_madx\"                     \"DBP_maxx\"                    \n",
      " [21] \"DBP_meanx\"                    \"DBP_medianx\"                 \n",
      " [23] \"DBP_minx\"                     \"DBP_mmdiff\"                  \n",
      " [25] \"DBP_sdx\"                      \"Pulse_count\"                 \n",
      " [27] \"Pulse_first_val\"              \"Pulse_fldiff\"                \n",
      " [29] \"Pulse_IQRx\"                   \"Pulse_last_val\"              \n",
      " [31] \"Pulse_madx\"                   \"Pulse_maxx\"                  \n",
      " [33] \"Pulse_meanx\"                  \"Pulse_medianx\"               \n",
      " [35] \"Pulse_minx\"                   \"Pulse_mmdiff\"                \n",
      " [37] \"Pulse_sdx\"                    \"RR_count\"                    \n",
      " [39] \"RR_first_val\"                 \"RR_fldiff\"                   \n",
      " [41] \"RR_IQRx\"                      \"RR_last_val\"                 \n",
      " [43] \"RR_madx\"                      \"RR_maxx\"                     \n",
      " [45] \"RR_meanx\"                     \"RR_medianx\"                  \n",
      " [47] \"RR_minx\"                      \"RR_mmdiff\"                   \n",
      " [49] \"RR_sdx\"                       \"SBP_count\"                   \n",
      " [51] \"SBP_first_val\"                \"SBP_fldiff\"                  \n",
      " [53] \"SBP_IQRx\"                     \"SBP_last_val\"                \n",
      " [55] \"SBP_madx\"                     \"SBP_maxx\"                    \n",
      " [57] \"SBP_meanx\"                    \"SBP_medianx\"                 \n",
      " [59] \"SBP_minx\"                     \"SBP_mmdiff\"                  \n",
      " [61] \"SBP_sdx\"                      \"SpO2_count\"                  \n",
      " [63] \"SpO2_first_val\"               \"SpO2_fldiff\"                 \n",
      " [65] \"SpO2_IQRx\"                    \"SpO2_last_val\"               \n",
      " [67] \"SpO2_madx\"                    \"SpO2_maxx\"                   \n",
      " [69] \"SpO2_meanx\"                   \"SpO2_medianx\"                \n",
      " [71] \"SpO2_minx\"                    \"SpO2_mmdiff\"                 \n",
      " [73] \"SpO2_sdx\"                     \"Temp_count\"                  \n",
      " [75] \"Temp_first_val\"               \"Temp_fldiff\"                 \n",
      " [77] \"Temp_IQRx\"                    \"Temp_last_val\"               \n",
      " [79] \"Temp_madx\"                    \"Temp_maxx\"                   \n",
      " [81] \"Temp_meanx\"                   \"Temp_medianx\"                \n",
      " [83] \"Temp_minx\"                    \"Temp_mmdiff\"                 \n",
      " [85] \"Temp_sdx\"                     \"ESI_i\"                       \n",
      " [87] \"delta_ESI\"                    \"gender\"                      \n",
      " [89] \"age\"                          \"medis\"                       \n",
      " [91] \"English\"                      \"Height_i\"                    \n",
      " [93] \"delta_H\"                      \"Weight_i\"                    \n",
      " [95] \"delta_W\"                      \"SBP\"                         \n",
      " [97] \"DBP\"                          \"Pulse\"                       \n",
      " [99] \"RR\"                           \"SpO2\"                        \n",
      "[101] \"Temp\"                         \"race.Asian\"                  \n",
      "[103] \"race.Black\"                   \"race.Native.American\"        \n",
      "[105] \"race.Other\"                   \"race.Pacific.Islander\"       \n",
      "[107] \"race.Unknown\"                 \"race.White\"                  \n"
     ]
    }
   ],
   "source": [
    "%%R \n",
    "df_vs <- read.csv(\"./Data/data_simple.csv\")\n",
    "print(dim(df_vs))\n",
    "print(colnames(df_vs))"
   ]
  },
  {
   "cell_type": "code",
   "execution_count": 5,
   "metadata": {},
   "outputs": [],
   "source": [
    "%%R\n",
    "df_vstrain <- df_vs %>% filter(year(admit_time) %in% c(2015, 2016, 2017))\n",
    "df_vsval <- df_vs %>% filter(year(admit_time) == 2018)\n",
    "df_vstest <- df_vs %>% filter(year(admit_time) == 2019)\n",
    "\n",
    "\n",
    "# df_vstrain <- df_vs %>% filter(ymd_hms(admit_time) < as.Date(\"2018-01-01\"))\n",
    "# df_vsval <- df_vs %>% filter(ymd_hms(admit_time) >= as.Date(\"2018-01-01\") & \n",
    "#                                 ymd_hms(admit_time) <= as.Date(\"2018-12-31\"))\n",
    "# df_vstest <- df_vs %>% filter(ymd_hms(admit_time) > as.Date(\"2019-01-01\") & \n",
    "#                                 ymd_hms(admit_time) <= as.Date(\"2019-12-31\"))"
   ]
  },
  {
   "cell_type": "code",
   "execution_count": 6,
   "metadata": {},
   "outputs": [
    {
     "name": "stdout",
     "output_type": "stream",
     "text": [
      "[1] 22037\n",
      "[1] 9521\n",
      "[1] 10096\n"
     ]
    }
   ],
   "source": [
    "%%R\n",
    "print(nrow(df_vstrain)) #22037\n",
    "print(nrow(df_vsval)) #9521\n",
    "print(nrow(df_vstest)) #10096\n",
    "# colnames(df_vstrain)"
   ]
  },
  {
   "cell_type": "markdown",
   "metadata": {},
   "source": [
    "### Python codes for modeling"
   ]
  },
  {
   "cell_type": "code",
   "execution_count": 7,
   "metadata": {},
   "outputs": [
    {
     "name": "stdout",
     "output_type": "stream",
     "text": [
      "0    37762\n",
      "1     3892\n",
      "Name: label_24hr_recent, dtype: int64\n"
     ]
    }
   ],
   "source": [
    "df = read_csv(\"./Data/data_simple.csv\")\n",
    "print(df.label_24hr_recent.value_counts())"
   ]
  },
  {
   "cell_type": "code",
   "execution_count": 11,
   "metadata": {},
   "outputs": [
    {
     "name": "stdout",
     "output_type": "stream",
     "text": [
      "41654\n",
      "10077\n",
      "10103\n",
      "10103\n",
      "10096\n",
      "9521\n",
      "22037\n"
     ]
    }
   ],
   "source": [
    "# cohort.pat_enc_csn_id_coded.value_counts()\n",
    "print(df.pat_enc_csn_id_coded.nunique())\n",
    "print(df[(df['admit_time'] >= '2019-01-01') & (df['admit_time'] <= '2019-12-31')].pat_enc_csn_id_coded.nunique())\n",
    "print(df[(df['admit_time'] > '2018-12-31') & (df['admit_time'] <= '2019-12-31')].pat_enc_csn_id_coded.nunique())\n",
    "print(df[(df['admit_time'] > '2018-12-31') & (df['admit_time'] <= '2019-12-31')].pat_enc_csn_id_coded.nunique())\n",
    "\n",
    "# below is ok, consistent with the years\n",
    "print(df[(df['admit_time'] >= '2019-01-01') & (df['admit_time'] <= '2020-01-01')].pat_enc_csn_id_coded.nunique())\n",
    "print(df[(df['admit_time'] >= '2018-01-01') & (df['admit_time'] <= '2019-01-01')].pat_enc_csn_id_coded.nunique())\n",
    "print(df[(df['admit_time'] >= '2015-01-01') & (df['admit_time'] <= '2018-01-01')].pat_enc_csn_id_coded.nunique())"
   ]
  },
  {
   "cell_type": "code",
   "execution_count": 12,
   "metadata": {},
   "outputs": [
    {
     "name": "stdout",
     "output_type": "stream",
     "text": [
      "<class 'pandas.core.series.Series'>\n",
      "<class 'pandas.core.series.Series'>\n"
     ]
    }
   ],
   "source": [
    "# print(df.dtypes)\n",
    "print(type(df['admit_time']))\n",
    "df[\"admit_time\"] = pd.to_datetime(df[\"admit_time\"])\n",
    "print(type(df['admit_time']))\n",
    "years = df['admit_time'].dt.year"
   ]
  },
  {
   "cell_type": "code",
   "execution_count": 39,
   "metadata": {},
   "outputs": [
    {
     "data": {
      "text/plain": [
       "41654"
      ]
     },
     "execution_count": 39,
     "metadata": {},
     "output_type": "execute_result"
    }
   ],
   "source": [
    "# all demographics and vital signs summary stats\n",
    "df_train =  df[(df['admit_time'].dt.year < 2018)]\n",
    "df_val =  df[(df['admit_time'].dt.year == 2018)]\n",
    "df_test =  df[(df['admit_time'].dt.year == 2019)]\n",
    "              \n",
    "df.pat_enc_csn_id_coded.nunique()"
   ]
  },
  {
   "cell_type": "code",
   "execution_count": 34,
   "metadata": {},
   "outputs": [
    {
     "name": "stdout",
     "output_type": "stream",
     "text": [
      "(10096, 108)\n",
      "(22037, 108)\n",
      "(9521, 108)\n",
      "(41654, 108)\n",
      "['anon_id', 'pat_enc_csn_id_coded', 'inpatient_data_id_coded', 'label_max24', 'admit_time', 'admit_label', 'label_24hr_recent', 'label_12hr_recent', 'has_admit_label', 'first_label', 'first_label_time_since_admit', 'acute_to_critical_label', 'critical_to_acute_label', 'DBP_count', 'DBP_first_val', 'DBP_fldiff', 'DBP_IQRx', 'DBP_last_val', 'DBP_madx', 'DBP_maxx', 'DBP_meanx', 'DBP_medianx', 'DBP_minx', 'DBP_mmdiff', 'DBP_sdx', 'Pulse_count', 'Pulse_first_val', 'Pulse_fldiff', 'Pulse_IQRx', 'Pulse_last_val', 'Pulse_madx', 'Pulse_maxx', 'Pulse_meanx', 'Pulse_medianx', 'Pulse_minx', 'Pulse_mmdiff', 'Pulse_sdx', 'RR_count', 'RR_first_val', 'RR_fldiff', 'RR_IQRx', 'RR_last_val', 'RR_madx', 'RR_maxx', 'RR_meanx', 'RR_medianx', 'RR_minx', 'RR_mmdiff', 'RR_sdx', 'SBP_count', 'SBP_first_val', 'SBP_fldiff', 'SBP_IQRx', 'SBP_last_val', 'SBP_madx', 'SBP_maxx', 'SBP_meanx', 'SBP_medianx', 'SBP_minx', 'SBP_mmdiff', 'SBP_sdx', 'SpO2_count', 'SpO2_first_val', 'SpO2_fldiff', 'SpO2_IQRx', 'SpO2_last_val', 'SpO2_madx', 'SpO2_maxx', 'SpO2_meanx', 'SpO2_medianx', 'SpO2_minx', 'SpO2_mmdiff', 'SpO2_sdx', 'Temp_count', 'Temp_first_val', 'Temp_fldiff', 'Temp_IQRx', 'Temp_last_val', 'Temp_madx', 'Temp_maxx', 'Temp_meanx', 'Temp_medianx', 'Temp_minx', 'Temp_mmdiff', 'Temp_sdx', 'ESI_i', 'delta_ESI', 'gender', 'age', 'medis', 'English', 'Height_i', 'delta_H', 'Weight_i', 'delta_W', 'SBP', 'DBP', 'Pulse', 'RR', 'SpO2', 'Temp', 'race.Asian', 'race.Black', 'race.Native.American', 'race.Other', 'race.Pacific.Islander', 'race.Unknown', 'race.White']\n"
     ]
    }
   ],
   "source": [
    "# note that the first set of VS is repeated in demos\n",
    "print(df_test.shape)\n",
    "print(df_train.shape)\n",
    "print(df_val.shape)\n",
    "print(df.shape)\n",
    "print(list(df_test.columns))"
   ]
  },
  {
   "cell_type": "code",
   "execution_count": 40,
   "metadata": {},
   "outputs": [
    {
     "name": "stdout",
     "output_type": "stream",
     "text": [
      "['DBP_first_val', 'Pulse_first_val', 'RR_first_val', 'SBP_first_val', 'SpO2_first_val', 'Temp_first_val']\n",
      "['ESI_i', 'delta_ESI', 'gender', 'age', 'medis', 'English', 'Height_i', 'delta_H', 'Weight_i', 'delta_W', 'race.Asian', 'race.Black', 'race.Native.American', 'race.Other', 'race.Pacific.Islander', 'race.Unknown', 'race.White', 'DBP_first_val', 'Pulse_first_val', 'RR_first_val', 'SBP_first_val', 'SpO2_first_val', 'Temp_first_val']\n",
      "23\n"
     ]
    }
   ],
   "source": [
    "# only demographics and first values of vital signs\n",
    "first_vals = [col for col in df.columns if 'first_val' in col]\n",
    "demos = ['ESI_i', 'delta_ESI', 'gender', 'age', 'medis', 'English', \n",
    "         'Height_i', 'delta_H', 'Weight_i', 'delta_W', \n",
    "#          'SBP', 'DBP', 'Pulse', 'RR', 'SpO2', 'Temp', # these are first_val\n",
    "         'race.Asian', 'race.Black', 'race.Native.American', 'race.Other', \n",
    "         'race.Pacific.Islander', 'race.Unknown', 'race.White']\n",
    "features = demos  + first_vals\n",
    "print(first_vals)\n",
    "print(features)\n",
    "print(len(features))"
   ]
  },
  {
   "cell_type": "code",
   "execution_count": 36,
   "metadata": {},
   "outputs": [
    {
     "name": "stdout",
     "output_type": "stream",
     "text": [
      "         anon_id  pat_enc_csn_id_coded  label_24hr_recent\n",
      "0      JC29f8ad2          131274729058                  0\n",
      "1      JC29f8ad3          131278291027                  0\n",
      "2      JC29f8b9c          131266787806                  0\n",
      "3      JC29f8beb          131264387263                  0\n",
      "4      JC29f8beb          131279241689                  0\n",
      "...          ...                   ...                ...\n",
      "41626   JCec4575          131261383508                  0\n",
      "41633   JCec466f          131268389874                  0\n",
      "41643   JCec4722          131268321543                  0\n",
      "41644   JCec4785          131279578912                  0\n",
      "41651   JCec4853          131273484812                  0\n",
      "\n",
      "[10096 rows x 3 columns]\n"
     ]
    }
   ],
   "source": [
    "# save IDs and labels:\n",
    "test_IDs = ['anon_id', 'pat_enc_csn_id_coded', 'label_24hr_recent']\n",
    "df_testIDs = df_test[test_IDs]\n",
    "print(df_testIDs)"
   ]
  },
  {
   "cell_type": "code",
   "execution_count": 41,
   "metadata": {},
   "outputs": [
    {
     "name": "stdout",
     "output_type": "stream",
     "text": [
      "['label_24hr_recent', 'DBP_count', 'DBP_first_val', 'DBP_fldiff', 'DBP_IQRx', 'DBP_last_val', 'DBP_madx', 'DBP_maxx', 'DBP_meanx', 'DBP_medianx', 'DBP_minx', 'DBP_mmdiff', 'DBP_sdx', 'Pulse_count', 'Pulse_first_val', 'Pulse_fldiff', 'Pulse_IQRx', 'Pulse_last_val', 'Pulse_madx', 'Pulse_maxx', 'Pulse_meanx', 'Pulse_medianx', 'Pulse_minx', 'Pulse_mmdiff', 'Pulse_sdx', 'RR_count', 'RR_first_val', 'RR_fldiff', 'RR_IQRx', 'RR_last_val', 'RR_madx', 'RR_maxx', 'RR_meanx', 'RR_medianx', 'RR_minx', 'RR_mmdiff', 'RR_sdx', 'SBP_count', 'SBP_first_val', 'SBP_fldiff', 'SBP_IQRx', 'SBP_last_val', 'SBP_madx', 'SBP_maxx', 'SBP_meanx', 'SBP_medianx', 'SBP_minx', 'SBP_mmdiff', 'SBP_sdx', 'SpO2_count', 'SpO2_first_val', 'SpO2_fldiff', 'SpO2_IQRx', 'SpO2_last_val', 'SpO2_madx', 'SpO2_maxx', 'SpO2_meanx', 'SpO2_medianx', 'SpO2_minx', 'SpO2_mmdiff', 'SpO2_sdx', 'Temp_count', 'Temp_first_val', 'Temp_fldiff', 'Temp_IQRx', 'Temp_last_val', 'Temp_madx', 'Temp_maxx', 'Temp_meanx', 'Temp_medianx', 'Temp_minx', 'Temp_mmdiff', 'Temp_sdx', 'ESI_i', 'delta_ESI', 'gender', 'age', 'medis', 'English', 'Height_i', 'delta_H', 'Weight_i', 'delta_W', 'race.Asian', 'race.Black', 'race.Native.American', 'race.Other', 'race.Pacific.Islander', 'race.Unknown', 'race.White']\n",
      "label_24hr_recent          int64\n",
      "DBP_count                  int64\n",
      "DBP_first_val              int64\n",
      "DBP_fldiff                 int64\n",
      "DBP_IQRx                 float64\n",
      "                          ...   \n",
      "race.Native.American       int64\n",
      "race.Other                 int64\n",
      "race.Pacific.Islander      int64\n",
      "race.Unknown               int64\n",
      "race.White                 int64\n",
      "Length: 90, dtype: object\n"
     ]
    }
   ],
   "source": [
    "drops = ['anon_id', 'pat_enc_csn_id_coded', 'inpatient_data_id_coded', 'label_max24', 'admit_time', 'admit_label', \n",
    "          'label_12hr_recent', 'has_admit_label', 'first_label', 'first_label_time_since_admit', \n",
    "          'acute_to_critical_label', 'critical_to_acute_label',\n",
    "          'SBP', 'DBP', 'Pulse', 'RR', 'SpO2', 'Temp']\n",
    "# ['jc_uid', 'pat_enc_csn_id_coded', 'admit_time']\n",
    "df_train = df_train.drop(drops, axis=1)\n",
    "df_val = df_val.drop(drops, axis=1)\n",
    "df_test = df_test.drop(columns=drops)\n",
    "\n",
    "print(list(df_test.columns))\n",
    "print(df_test.dtypes)"
   ]
  },
  {
   "cell_type": "code",
   "execution_count": 46,
   "metadata": {},
   "outputs": [],
   "source": [
    "# for only demographic and first vs values only\n",
    "X_train = df_train[features].values\n",
    "X_val = df_val[features].values\n",
    "X_test = df_test[features].values\n",
    "\n",
    "# choose the labels: level of care at 24hr mark\n",
    "label = 'label_24hr_recent'\n",
    "y_train = df_train[label].values\n",
    "y_val = df_val[label].values\n",
    "y_test = df_test[label].values"
   ]
  },
  {
   "cell_type": "code",
   "execution_count": 47,
   "metadata": {},
   "outputs": [
    {
     "data": {
      "text/plain": [
       "(22037, 23)"
      ]
     },
     "execution_count": 47,
     "metadata": {},
     "output_type": "execute_result"
    }
   ],
   "source": [
    "# check demo + 1st vs = 23 features\n",
    "X_train.shape"
   ]
  },
  {
   "cell_type": "code",
   "execution_count": 48,
   "metadata": {},
   "outputs": [],
   "source": [
    "# all demographic + first values ++ the rest of simple data (summary stats of VS)\n",
    "X_train = df_train.values[:,1:]\n",
    "y_train = df_train.values[:,0]\n",
    "\n",
    "X_val = df_val.values[:,1:]\n",
    "y_val = df_val.values[:,0]\n",
    "\n",
    "X_test = df_test.values[:,1:]\n",
    "y_test = df_test.values[:,0] "
   ]
  },
  {
   "cell_type": "code",
   "execution_count": 49,
   "metadata": {},
   "outputs": [
    {
     "data": {
      "text/plain": [
       "(22037, 89)"
      ]
     },
     "execution_count": 49,
     "metadata": {},
     "output_type": "execute_result"
    }
   ],
   "source": [
    "# check all 89 features\n",
    "X_train.shape"
   ]
  },
  {
   "cell_type": "markdown",
   "metadata": {},
   "source": [
    "### Training"
   ]
  },
  {
   "cell_type": "code",
   "execution_count": 79,
   "metadata": {},
   "outputs": [],
   "source": [
    "# Classification models for comparison, using defaults\n",
    "def simple_modeling(X_train, y_train, X_test, y_test):\n",
    "    models = [LogisticRegression(), # use l2 = Ridge as the default, ok since small number of predictors\n",
    "              RandomForestClassifier(random_state = 1),\n",
    "              GradientBoostingClassifier()] # loss = \"deviance\" as the default, lr=0.1, and criterio = fmse\n",
    "\n",
    "    results = {}\n",
    "    for model in models:\n",
    "        model_name = str(model).split(\"(\")[0]\n",
    "        clf_model = model\n",
    "        clf_model.fit(X_train, y_train)\n",
    "        y_preds = clf_model.predict_proba(X_test)[:,1] # positive outcomes only\n",
    "        \n",
    "        # roc \n",
    "        auroc = round(roc_auc_score(y_test, y_preds), 3)\n",
    "        print(\"AUROC = \", auroc)\n",
    "        fpr, tpr, auc_thresholds = roc_curve(y_test, y_preds)\n",
    "        \n",
    "        # precision/recall\n",
    "        avg_precision = round(average_precision_score(y_test, y_preds), 3)\n",
    "        print(\"PR = \", avg_precision)\n",
    "        precision, recall, pr_thresholds = precision_recall_curve(y_test, y_preds)\n",
    "\n",
    "#         make_auc_prc_plots(clf_model, model_name, X_test, y_test)\n",
    "\n",
    "#         roc_curve = plot_roc_curve(clf_model, X_test, y_test)\n",
    "#         pr_curve = plot_precision_recall_curve(clf_model, X_test, y_test)\n",
    "\n",
    "        results[model_name] = [auroc, avg_precision, \n",
    "                               fpr, tpr, auc_thresholds, \n",
    "                               precision, recall, pr_thresholds, y_preds]\n",
    "        print(\"#\" + model_name + \" done\")\n",
    "        \n",
    "    return(results)"
   ]
  },
  {
   "cell_type": "code",
   "execution_count": 80,
   "metadata": {},
   "outputs": [
    {
     "name": "stdout",
     "output_type": "stream",
     "text": [
      "(22037, 23)\n"
     ]
    }
   ],
   "source": [
    "# for only demographic and first vs values only\n",
    "X_train = df_train[features].values\n",
    "X_val = df_val[features].values\n",
    "X_test = df_test[features].values\n",
    "\n",
    "label = 'label_24hr_recent'\n",
    "y_train = df_train[label].values\n",
    "y_val = df_val[label].values\n",
    "y_test = df_test[label].values\n",
    "\n",
    "print(X_train.shape)"
   ]
  },
  {
   "cell_type": "code",
   "execution_count": 81,
   "metadata": {},
   "outputs": [
    {
     "name": "stdout",
     "output_type": "stream",
     "text": [
      "Results for val set: \n"
     ]
    },
    {
     "name": "stderr",
     "output_type": "stream",
     "text": [
      "/share/sw/open/anaconda/3.next/lib/python3.7/site-packages/sklearn/linear_model/_logistic.py:764: ConvergenceWarning: lbfgs failed to converge (status=1):\n",
      "STOP: TOTAL NO. of ITERATIONS REACHED LIMIT.\n",
      "\n",
      "Increase the number of iterations (max_iter) or scale the data as shown in:\n",
      "    https://scikit-learn.org/stable/modules/preprocessing.html\n",
      "Please also refer to the documentation for alternative solver options:\n",
      "    https://scikit-learn.org/stable/modules/linear_model.html#logistic-regression\n",
      "  extra_warning_msg=_LOGISTIC_SOLVER_CONVERGENCE_MSG)\n"
     ]
    },
    {
     "name": "stdout",
     "output_type": "stream",
     "text": [
      "AUROC =  0.74\n",
      "PR =  0.264\n",
      "#LogisticRegression done\n",
      "AUROC =  0.761\n",
      "PR =  0.312\n",
      "#RandomForestClassifier done\n",
      "AUROC =  0.781\n",
      "PR =  0.341\n",
      "#GradientBoostingClassifier done\n",
      "Results for test set: \n"
     ]
    },
    {
     "name": "stderr",
     "output_type": "stream",
     "text": [
      "/share/sw/open/anaconda/3.next/lib/python3.7/site-packages/sklearn/linear_model/_logistic.py:764: ConvergenceWarning: lbfgs failed to converge (status=1):\n",
      "STOP: TOTAL NO. of ITERATIONS REACHED LIMIT.\n",
      "\n",
      "Increase the number of iterations (max_iter) or scale the data as shown in:\n",
      "    https://scikit-learn.org/stable/modules/preprocessing.html\n",
      "Please also refer to the documentation for alternative solver options:\n",
      "    https://scikit-learn.org/stable/modules/linear_model.html#logistic-regression\n",
      "  extra_warning_msg=_LOGISTIC_SOLVER_CONVERGENCE_MSG)\n"
     ]
    },
    {
     "name": "stdout",
     "output_type": "stream",
     "text": [
      "AUROC =  0.716\n",
      "PR =  0.273\n",
      "#LogisticRegression done\n",
      "AUROC =  0.73\n",
      "PR =  0.308\n",
      "#RandomForestClassifier done\n",
      "AUROC =  0.741\n",
      "PR =  0.316\n",
      "#GradientBoostingClassifier done\n"
     ]
    }
   ],
   "source": [
    "# first values, val and test\n",
    "print(\"Results for val set: \")\n",
    "results_val1 = simple_modeling(X_train, y_train, X_val, y_val)\n",
    "\n",
    "print(\"Results for test set: \")\n",
    "results_test1 = simple_modeling(X_train, y_train, X_test, y_test)"
   ]
  },
  {
   "cell_type": "code",
   "execution_count": 83,
   "metadata": {},
   "outputs": [
    {
     "name": "stdout",
     "output_type": "stream",
     "text": [
      "(22037, 89)\n"
     ]
    }
   ],
   "source": [
    "# ALL demographic + first values ++ the rest of simple data (summary stats of VS)\n",
    "X_train = df_train.values[:,1:]\n",
    "y_train = df_train.values[:,0]\n",
    "\n",
    "X_val = df_val.values[:,1:]\n",
    "y_val = df_val.values[:,0]\n",
    "\n",
    "X_test = df_test.values[:,1:]\n",
    "y_test = df_test.values[:,0] \n",
    "\n",
    "print(X_train.shape)"
   ]
  },
  {
   "cell_type": "code",
   "execution_count": 84,
   "metadata": {},
   "outputs": [
    {
     "name": "stdout",
     "output_type": "stream",
     "text": [
      "Results for val set: \n"
     ]
    },
    {
     "name": "stderr",
     "output_type": "stream",
     "text": [
      "/share/sw/open/anaconda/3.next/lib/python3.7/site-packages/sklearn/linear_model/_logistic.py:764: ConvergenceWarning: lbfgs failed to converge (status=1):\n",
      "STOP: TOTAL NO. of ITERATIONS REACHED LIMIT.\n",
      "\n",
      "Increase the number of iterations (max_iter) or scale the data as shown in:\n",
      "    https://scikit-learn.org/stable/modules/preprocessing.html\n",
      "Please also refer to the documentation for alternative solver options:\n",
      "    https://scikit-learn.org/stable/modules/linear_model.html#logistic-regression\n",
      "  extra_warning_msg=_LOGISTIC_SOLVER_CONVERGENCE_MSG)\n"
     ]
    },
    {
     "name": "stdout",
     "output_type": "stream",
     "text": [
      "AUROC =  0.774\n",
      "PR =  0.348\n",
      "#LogisticRegression done\n",
      "AUROC =  0.798\n",
      "PR =  0.379\n",
      "#RandomForestClassifier done\n",
      "AUROC =  0.824\n",
      "PR =  0.412\n",
      "#GradientBoostingClassifier done\n",
      "Results for test set: \n"
     ]
    },
    {
     "name": "stderr",
     "output_type": "stream",
     "text": [
      "/share/sw/open/anaconda/3.next/lib/python3.7/site-packages/sklearn/linear_model/_logistic.py:764: ConvergenceWarning: lbfgs failed to converge (status=1):\n",
      "STOP: TOTAL NO. of ITERATIONS REACHED LIMIT.\n",
      "\n",
      "Increase the number of iterations (max_iter) or scale the data as shown in:\n",
      "    https://scikit-learn.org/stable/modules/preprocessing.html\n",
      "Please also refer to the documentation for alternative solver options:\n",
      "    https://scikit-learn.org/stable/modules/linear_model.html#logistic-regression\n",
      "  extra_warning_msg=_LOGISTIC_SOLVER_CONVERGENCE_MSG)\n"
     ]
    },
    {
     "name": "stdout",
     "output_type": "stream",
     "text": [
      "AUROC =  0.786\n",
      "PR =  0.345\n",
      "#LogisticRegression done\n",
      "AUROC =  0.784\n",
      "PR =  0.379\n",
      "#RandomForestClassifier done\n",
      "AUROC =  0.809\n",
      "PR =  0.41\n",
      "#GradientBoostingClassifier done\n"
     ]
    }
   ],
   "source": [
    "# ALL, validation and TEST set\n",
    "print(\"Results for val set: \")\n",
    "results_val = simple_modeling(X_train, y_train, X_val, y_val)\n",
    "\n",
    "print(\"Results for test set: \")\n",
    "results_test = simple_modeling(X_train, y_train, X_test, y_test)"
   ]
  },
  {
   "cell_type": "markdown",
   "metadata": {},
   "source": [
    "### Simple MLP model"
   ]
  },
  {
   "cell_type": "code",
   "execution_count": 55,
   "metadata": {},
   "outputs": [],
   "source": [
    "def create_mlp(dim):\n",
    "    model = Sequential()\n",
    "    model.add(Dense(32, input_dim=dim, activation=\"relu\"))\n",
    "    model.add(Dropout(.3))\n",
    "    model.add(Dense(8, activation=\"relu\"))\n",
    "    model.add(Dense(1, activation=\"sigmoid\"))\n",
    "    return model"
   ]
  },
  {
   "cell_type": "code",
   "execution_count": 56,
   "metadata": {},
   "outputs": [
    {
     "name": "stdout",
     "output_type": "stream",
     "text": [
      "(22037, 23)\n"
     ]
    }
   ],
   "source": [
    "# for only demographic and first vs values only\n",
    "X_train = df_train[features].values\n",
    "X_val = df_val[features].values\n",
    "X_test = df_test[features].values\n",
    "\n",
    "label = 'label_24hr_recent'\n",
    "y_train = df_train[label].values\n",
    "y_val = df_val[label].values\n",
    "y_test = df_test[label].values\n",
    "\n",
    "print(X_train.shape)"
   ]
  },
  {
   "cell_type": "code",
   "execution_count": 57,
   "metadata": {},
   "outputs": [
    {
     "name": "stdout",
     "output_type": "stream",
     "text": [
      "Epoch 1/20\n",
      "345/345 [==============================] - 1s 2ms/step - loss: 0.7717 - accuracy: 0.8668 - val_loss: 0.3292 - val_accuracy: 0.9051\n",
      "Epoch 2/20\n",
      "345/345 [==============================] - 0s 1ms/step - loss: 0.3496 - accuracy: 0.9053 - val_loss: 0.3079 - val_accuracy: 0.9060\n",
      "Epoch 3/20\n",
      "345/345 [==============================] - 0s 1ms/step - loss: 0.3216 - accuracy: 0.9102 - val_loss: 0.3132 - val_accuracy: 0.9060\n",
      "Epoch 4/20\n",
      "345/345 [==============================] - 0s 1ms/step - loss: 0.3092 - accuracy: 0.9106 - val_loss: 0.3116 - val_accuracy: 0.9060\n",
      "Epoch 5/20\n",
      "345/345 [==============================] - 0s 1ms/step - loss: 0.3035 - accuracy: 0.9105 - val_loss: 0.3012 - val_accuracy: 0.9061\n",
      "Epoch 6/20\n",
      "345/345 [==============================] - 0s 1ms/step - loss: 0.3002 - accuracy: 0.9102 - val_loss: 0.3011 - val_accuracy: 0.9063\n",
      "Epoch 7/20\n",
      "345/345 [==============================] - 0s 1ms/step - loss: 0.2963 - accuracy: 0.9101 - val_loss: 0.3130 - val_accuracy: 0.9065\n",
      "Epoch 8/20\n",
      "345/345 [==============================] - 0s 1ms/step - loss: 0.2966 - accuracy: 0.9105 - val_loss: 0.3144 - val_accuracy: 0.9062\n",
      "Epoch 9/20\n",
      "345/345 [==============================] - 0s 1ms/step - loss: 0.2942 - accuracy: 0.9113 - val_loss: 0.2976 - val_accuracy: 0.9064\n",
      "Epoch 10/20\n",
      "345/345 [==============================] - 0s 1ms/step - loss: 0.2939 - accuracy: 0.9108 - val_loss: 0.2982 - val_accuracy: 0.9066\n",
      "Epoch 11/20\n",
      "345/345 [==============================] - 0s 1ms/step - loss: 0.2914 - accuracy: 0.9107 - val_loss: 0.3113 - val_accuracy: 0.9068\n",
      "Epoch 12/20\n",
      "345/345 [==============================] - 0s 1ms/step - loss: 0.2905 - accuracy: 0.9106 - val_loss: 0.2991 - val_accuracy: 0.9069\n",
      "Epoch 13/20\n",
      "345/345 [==============================] - 0s 1ms/step - loss: 0.2907 - accuracy: 0.9109 - val_loss: 0.3023 - val_accuracy: 0.9065\n",
      "Epoch 14/20\n",
      "345/345 [==============================] - 0s 1ms/step - loss: 0.2864 - accuracy: 0.9112 - val_loss: 0.2932 - val_accuracy: 0.9067\n",
      "Epoch 15/20\n",
      "345/345 [==============================] - 0s 1ms/step - loss: 0.2863 - accuracy: 0.9107 - val_loss: 0.2886 - val_accuracy: 0.9064\n",
      "Epoch 16/20\n",
      "345/345 [==============================] - 0s 1ms/step - loss: 0.2853 - accuracy: 0.9113 - val_loss: 0.3016 - val_accuracy: 0.9070\n",
      "Epoch 17/20\n",
      "345/345 [==============================] - 0s 1ms/step - loss: 0.2841 - accuracy: 0.9111 - val_loss: 0.2919 - val_accuracy: 0.9064\n",
      "Epoch 18/20\n",
      "345/345 [==============================] - 0s 1ms/step - loss: 0.2841 - accuracy: 0.9111 - val_loss: 0.2960 - val_accuracy: 0.9062\n",
      "Epoch 19/20\n",
      "345/345 [==============================] - 0s 1ms/step - loss: 0.2829 - accuracy: 0.9114 - val_loss: 0.2841 - val_accuracy: 0.9068\n",
      "Epoch 20/20\n",
      "345/345 [==============================] - 0s 1ms/step - loss: 0.2822 - accuracy: 0.9104 - val_loss: 0.2955 - val_accuracy: 0.9065\n",
      "outputs on val:\n",
      "298/298 [==============================] - 0s 536us/step - loss: 0.2955 - accuracy: 0.9065\n",
      "test loss, test acc: [0.29549694061279297, 0.9065224528312683]\n",
      "0.723\n",
      "0.251\n"
     ]
    }
   ],
   "source": [
    "# check which shape (which data set, different number of features) and which batch size\n",
    "b = 64\n",
    "model1 = create_mlp(X_train.shape[1])\n",
    "model1.compile(loss=\"binary_crossentropy\", optimizer=Adam(lr=1e-3), metrics=['accuracy'])\n",
    "history1 = model1.fit(X_train, y_train, validation_data=(X_val, y_val), epochs=20, batch_size=b)\n",
    "\n",
    "print(\"outputs on val:\")\n",
    "predictions1 = model1.predict(X_val)\n",
    "predictionsTrain1 = model1.predict(X_train)\n",
    "mlp_results1 = model1.evaluate(X_val, y_val) \n",
    "print('test loss, test acc:', mlp_results1) \n",
    "\n",
    "# AUC and PR\n",
    "y_preds_mlp1 = model1.predict(X_val).ravel()\n",
    "fpr_mlp1, tpr_mlp1, thresholds_mlp1 = roc_curve(y_val, y_preds_mlp1)\n",
    "prec_mlp1, recall_mlp1, pr_thresholds_mlp1 = precision_recall_curve(y_val, y_preds_mlp1)\n",
    "print(round(roc_auc_score(y_val, y_preds_mlp1), 3))\n",
    "print(round(average_precision_score(y_val, y_preds_mlp1), 3))"
   ]
  },
  {
   "cell_type": "code",
   "execution_count": 58,
   "metadata": {},
   "outputs": [
    {
     "name": "stdout",
     "output_type": "stream",
     "text": [
      "(22037, 89)\n"
     ]
    }
   ],
   "source": [
    "# ALL demographic + first values ++ the rest of simple data (summary stats of VS)\n",
    "X_train = df_train.values[:,1:]\n",
    "y_train = df_train.values[:,0]\n",
    "\n",
    "X_val = df_val.values[:,1:]\n",
    "y_val = df_val.values[:,0]\n",
    "\n",
    "X_test = df_test.values[:,1:]\n",
    "y_test = df_test.values[:,0] \n",
    "\n",
    "print(X_train.shape)"
   ]
  },
  {
   "cell_type": "code",
   "execution_count": 59,
   "metadata": {},
   "outputs": [
    {
     "name": "stdout",
     "output_type": "stream",
     "text": [
      "Epoch 1/20\n",
      "345/345 [==============================] - 1s 1ms/step - loss: 0.9813 - accuracy: 0.8822 - val_loss: 0.3104 - val_accuracy: 0.9061\n",
      "Epoch 2/20\n",
      "345/345 [==============================] - 0s 1ms/step - loss: 0.3164 - accuracy: 0.9070 - val_loss: 0.3065 - val_accuracy: 0.9061\n",
      "Epoch 3/20\n",
      "345/345 [==============================] - 0s 1ms/step - loss: 0.2942 - accuracy: 0.9101 - val_loss: 0.2922 - val_accuracy: 0.9064\n",
      "Epoch 4/20\n",
      "345/345 [==============================] - 0s 1ms/step - loss: 0.2834 - accuracy: 0.9102 - val_loss: 0.2801 - val_accuracy: 0.9066\n",
      "Epoch 5/20\n",
      "345/345 [==============================] - 0s 1ms/step - loss: 0.2764 - accuracy: 0.9116 - val_loss: 0.2744 - val_accuracy: 0.9085\n",
      "Epoch 6/20\n",
      "345/345 [==============================] - 0s 1ms/step - loss: 0.2747 - accuracy: 0.9109 - val_loss: 0.2788 - val_accuracy: 0.9066\n",
      "Epoch 7/20\n",
      "345/345 [==============================] - 0s 1ms/step - loss: 0.2683 - accuracy: 0.9121 - val_loss: 0.2814 - val_accuracy: 0.9088\n",
      "Epoch 8/20\n",
      "345/345 [==============================] - 0s 1ms/step - loss: 0.2670 - accuracy: 0.9115 - val_loss: 0.2730 - val_accuracy: 0.9074\n",
      "Epoch 9/20\n",
      "345/345 [==============================] - 0s 1ms/step - loss: 0.2616 - accuracy: 0.9125 - val_loss: 0.2703 - val_accuracy: 0.9069\n",
      "Epoch 10/20\n",
      "345/345 [==============================] - 0s 1ms/step - loss: 0.2637 - accuracy: 0.9121 - val_loss: 0.2693 - val_accuracy: 0.9093\n",
      "Epoch 11/20\n",
      "345/345 [==============================] - 0s 1ms/step - loss: 0.2617 - accuracy: 0.9124 - val_loss: 0.2781 - val_accuracy: 0.9085\n",
      "Epoch 12/20\n",
      "345/345 [==============================] - 0s 1ms/step - loss: 0.2592 - accuracy: 0.9122 - val_loss: 0.2651 - val_accuracy: 0.9085\n",
      "Epoch 13/20\n",
      "345/345 [==============================] - 0s 1ms/step - loss: 0.2591 - accuracy: 0.9125 - val_loss: 0.2703 - val_accuracy: 0.9079\n",
      "Epoch 14/20\n",
      "345/345 [==============================] - 0s 1ms/step - loss: 0.2584 - accuracy: 0.9128 - val_loss: 0.2767 - val_accuracy: 0.9089\n",
      "Epoch 15/20\n",
      "345/345 [==============================] - 0s 1ms/step - loss: 0.2583 - accuracy: 0.9131 - val_loss: 0.2678 - val_accuracy: 0.9076\n",
      "Epoch 16/20\n",
      "345/345 [==============================] - 0s 1ms/step - loss: 0.2584 - accuracy: 0.9122 - val_loss: 0.2656 - val_accuracy: 0.9081\n",
      "Epoch 17/20\n",
      "345/345 [==============================] - 0s 1ms/step - loss: 0.2551 - accuracy: 0.9138 - val_loss: 0.2634 - val_accuracy: 0.9095\n",
      "Epoch 18/20\n",
      "345/345 [==============================] - 0s 1ms/step - loss: 0.2567 - accuracy: 0.9122 - val_loss: 0.2648 - val_accuracy: 0.9074\n",
      "Epoch 19/20\n",
      "345/345 [==============================] - 0s 1ms/step - loss: 0.2545 - accuracy: 0.9142 - val_loss: 0.2615 - val_accuracy: 0.9099\n",
      "Epoch 20/20\n",
      "345/345 [==============================] - 0s 1ms/step - loss: 0.2533 - accuracy: 0.9144 - val_loss: 0.2655 - val_accuracy: 0.9077\n",
      "outputs on val:\n",
      "298/298 [==============================] - 0s 554us/step - loss: 0.2655 - accuracy: 0.9077\n",
      "test loss, test acc: [0.2655373215675354, 0.9076777696609497]\n",
      "0.783\n",
      "0.347\n"
     ]
    }
   ],
   "source": [
    "# check which shape (which data set, different number of features) and which batch size\n",
    "b = 64\n",
    "model = create_mlp(X_train.shape[1])\n",
    "model.compile(loss=\"binary_crossentropy\", optimizer=Adam(lr=1e-3), metrics=['accuracy'])\n",
    "history = model.fit(X_train, y_train, validation_data=(X_val, y_val), epochs=20, batch_size=b)\n",
    "\n",
    "print(\"outputs on val:\")\n",
    "predictions = model.predict(X_val)\n",
    "predictionsTrain = model.predict(X_train)\n",
    "mlp_results = model.evaluate(X_val, y_val) \n",
    "print('test loss, test acc:', mlp_results) # batch size=64\n",
    "\n",
    "# AUC and PR\n",
    "y_preds_mlp = model.predict(X_val).ravel()\n",
    "fpr_mlp, tpr_mlp, thresholds_mlp = roc_curve(y_val, y_preds_mlp)\n",
    "prec_mlp, recall_mlp, pr_thresholds_mlp = precision_recall_curve(y_val, y_preds_mlp)\n",
    "print(round(roc_auc_score(y_val, y_preds_mlp), 3))\n",
    "print(round(average_precision_score(y_val, y_preds_mlp), 3))"
   ]
  },
  {
   "cell_type": "code",
   "execution_count": 60,
   "metadata": {},
   "outputs": [
    {
     "data": {
      "image/png": "[encoded data removed]",
      "text/plain": [
       "<Figure size 432x288 with 1 Axes>"
      ]
     },
     "metadata": {
      "needs_background": "light"
     },
     "output_type": "display_data"
    }
   ],
   "source": [
    "plt.plot(history1.history['loss'])\n",
    "plt.plot(history1.history['val_loss'])\n",
    "plt.rcParams[\"figure.figsize\"] = (4,4)\n",
    "plt.title('MLP model: demographic + first VS values')\n",
    "plt.ylabel('Loss')\n",
    "plt.xlabel('Epoch')\n",
    "plt.legend(['Train', 'Validation'], loc='upper right')\n",
    "plt.savefig(\"./Outputs/MLP_loss1.pdf\")\n",
    "plt.show()"
   ]
  },
  {
   "cell_type": "code",
   "execution_count": 61,
   "metadata": {},
   "outputs": [
    {
     "data": {
      "image/png": "[encoded data removed]",
      "text/plain": [
       "<Figure size 288x288 with 1 Axes>"
      ]
     },
     "metadata": {
      "needs_background": "light"
     },
     "output_type": "display_data"
    }
   ],
   "source": [
    "plt.plot(history.history['loss'])\n",
    "plt.plot(history.history['val_loss'])\n",
    "plt.rcParams[\"figure.figsize\"] = (4,4)\n",
    "plt.title('MLP model: demographic + VS summary stats')\n",
    "plt.ylabel('Loss')\n",
    "plt.xlabel('Epoch')\n",
    "plt.legend(['Train', 'Validation'], loc='upper right')\n",
    "plt.savefig(\"./Outputs/MLP_loss.pdf\")\n",
    "plt.show()"
   ]
  },
  {
   "cell_type": "markdown",
   "metadata": {},
   "source": [
    "### Plots"
   ]
  },
  {
   "cell_type": "code",
   "execution_count": 62,
   "metadata": {},
   "outputs": [],
   "source": [
    "# FIRST values + demo\n",
    "# ---OLD\n",
    "# Logistics\n",
    "AUROC_log = 0.62\n",
    "PR_log = 0.22\n",
    "# RF\n",
    "AUROC_rf = 0.70\n",
    "PR2_rf = 0.30\n",
    "# GBM\n",
    "AUROC_gbm = 0.72\n",
    "PR_gbm = 0.34\n",
    "# MLP\n",
    "AUROC_mlp = 0.66\n",
    "PR4_mlp = 0.25\n",
    "\n",
    "# ---NEW\n",
    "AUROC_log =  0.716\n",
    "PR_log =  0.273\n",
    "#LogisticRegression done\n",
    "AUROC_rf =  0.73\n",
    "PR_rf =  0.308\n",
    "#RandomForestClassifier done\n",
    "AUROC_gbm =  0.741\n",
    "PR_gbm =  0.316\n",
    "#GradientBoostingClassifier done\n",
    "\n",
    "AUROC_mlp=0.723\n",
    "PR4_mlp=0.251"
   ]
  },
  {
   "cell_type": "code",
   "execution_count": 63,
   "metadata": {},
   "outputs": [],
   "source": [
    "# FIRST\n",
    "fpr1, tpr1, auc_thresholds1, precision1, recall1, pr_thresholds1, y_preds1 = results_test1[\"LogisticRegression\"][2:9]\n",
    "fpr2, tpr2, auc_thresholds2, precision2, recall2, pr_thresholds2, y_preds2 = results_test1[\"RandomForestClassifier\"][2:9]\n",
    "fpr3, tpr3, auc_thresholds3, precision3, recall3, pr_thresholds3, y_preds3 = results_test1[\"GradientBoostingClassifier\"][2:9]"
   ]
  },
  {
   "cell_type": "code",
   "execution_count": 64,
   "metadata": {},
   "outputs": [],
   "source": [
    "## ALL\n",
    "# --OLD\n",
    "# Logistics\n",
    "AUROC_log = 0.78\n",
    "PR_log =  0.38\n",
    "# Random Forest\n",
    "AUROC_rf =  0.80\n",
    "PR_rf =  0.42\n",
    "# Gradient Boosting\n",
    "AUROC_gbm =  0.81\n",
    "PR_gbm =  0.47\n",
    "# MLP neural networks\n",
    "AUROC_mlp = 0.78\n",
    "PR_mlp = 0.37\n",
    "\n",
    "# -- NEW\n",
    "AUROC_log =  0.786\n",
    "PR_log =  0.345\n",
    "AUROC_rf =  0.784\n",
    "PR_rf =  0.379\n",
    "AUROC_gbm =  0.809\n",
    "PR_gbm =  0.41\n",
    "AUROC_mlp = 0.783\n",
    "PR_mlp = 0.347"
   ]
  },
  {
   "cell_type": "code",
   "execution_count": 85,
   "metadata": {},
   "outputs": [],
   "source": [
    "# ALL results from TEST\n",
    "fpr1, tpr1, auc_thresholds1, precision1, recall1, pr_thresholds1, y_preds1a = results_test[\"LogisticRegression\"][2:9]\n",
    "fpr2, tpr2, auc_thresholds2, precision2, recall2, pr_thresholds2, y_preds2a = results_test[\"RandomForestClassifier\"][2:9]\n",
    "fpr3, tpr3, auc_thresholds3, precision3, recall3, pr_thresholds3, y_preds3a = results_test[\"GradientBoostingClassifier\"][2:9]"
   ]
  },
  {
   "cell_type": "code",
   "execution_count": 86,
   "metadata": {},
   "outputs": [
    {
     "name": "stderr",
     "output_type": "stream",
     "text": [
      "No handles with labels found to put in legend.\n"
     ]
    },
    {
     "data": {
      "image/png": "[encoded data removed]",
      "text/plain": [
       "<Figure size 864x360 with 2 Axes>"
      ]
     },
     "metadata": {
      "needs_background": "light"
     },
     "output_type": "display_data"
    }
   ],
   "source": [
    "# Plot all ROC curves, average = macro for all models on TEST results\n",
    "# plt.figure(1)\n",
    "# plt.figure(0).clf()\n",
    "fig, axs = plt.subplots(1, 2, figsize=(12,5))\n",
    "axs[0].plot(fpr1,tpr1,label=\"Logistic Regression, AUC=\"+str(AUROC_log))\n",
    "axs[0].plot(fpr2,tpr2,label=\"Random Forest, AUC=\"+str(AUROC_rf))\n",
    "axs[0].plot(fpr3,tpr3,label=\"Gradient Boosting, AUC=\"+str(AUROC_gbm))\n",
    "axs[0].plot(fpr_mlp,tpr_mlp,label=\"MLP, AUC=\"+str(AUROC_mlp))\n",
    "\n",
    "plt.legend(loc=0)\n",
    "axs[0].plot([0,1],[0,1], 'k--')\n",
    "\n",
    "axs[0].set_xlabel('False Positive Rate')\n",
    "axs[0].set_ylabel('True Positive Rate')\n",
    "# axs[0].set_title('AUROC on demo + first vital signs values') \n",
    "axs[0].set_title('AUROC on demo + summary vital signs statistics')  \n",
    "axs[0].legend(loc=\"lower right\")\n",
    "# ax.legend((l2, l4), ('Logistic', 'Random'), loc='upper right')\n",
    "\n",
    "axs[1].plot(recall1, precision1, label=\"Logistic Regression, PR=\"+str(PR_log))\n",
    "axs[1].plot(recall2, precision2, label=\"Random Forest, PR=\"+str(PR_rf))\n",
    "axs[1].plot(recall3, precision3, label=\"Gradient Boosting, PR=\"+str(PR_gbm))\n",
    "axs[1].plot(recall_mlp, prec_mlp, label=\"MLP, PR=\"+str(PR_mlp))\n",
    "\n",
    "axs[1].legend(loc=0)\n",
    "axs[1].plot([0,1],[0,0], 'k--')\n",
    "\n",
    "axs[1].set_xlabel('Recall')\n",
    "axs[1].set_ylabel('Precision')\n",
    "# axs[1].set_title('Precision/Recall on demo + first vital signs values')\n",
    "axs[1].set_title('Precision/Recall on demo + summary vital signs statistics')\n",
    "axs[1].legend(loc=\"upper right\")\n",
    "\n",
    "# plt.savefig('./data/AUC_PRC_1_val.png')\n",
    "plt.savefig('./Outputs/AUC_PRC_allsum.png')"
   ]
  },
  {
   "cell_type": "code",
   "execution_count": 87,
   "metadata": {},
   "outputs": [
    {
     "data": {
      "image/png": "[encoded data removed]",
      "text/plain": [
       "<Figure size 360x360 with 1 Axes>"
      ]
     },
     "metadata": {
      "needs_background": "light"
     },
     "output_type": "display_data"
    }
   ],
   "source": [
    "fig, ax = plt.subplots(figsize=(5,5))\n",
    "\n",
    "plt.plot(fpr1,tpr1,label=\"Logistic Regression, auc=\"+str(AUROC_log))\n",
    "plt.plot(fpr2,tpr2,label=\"Random Forest, auc=\"+str(AUROC_rf))\n",
    "plt.plot(fpr3,tpr3,label=\"Gradient Boosting, auc=\"+str(AUROC_gbm))\n",
    "plt.plot(fpr_mlp,tpr_mlp,label=\"MLP, auc=\"+str(AUROC_mlp))\n",
    "\n",
    "plt.legend(loc=0)\n",
    "\n",
    "plt.plot([0, 1], [0, 1], 'k--', lw=2)\n",
    "plt.xlim([0.0, 1.0])\n",
    "plt.ylim([0.0, 1.05])\n",
    "plt.xlabel('False Positive Rate')\n",
    "plt.ylabel('True Positive Rate')\n",
    "plt.title('AUROC for 4 models on a simple dataset')\n",
    "plt.legend(loc=\"lower right\")\n",
    "plt.show()\n",
    "\n",
    "# plt.plot(recall1, precision1, label=\"Logistic Regression, pr=\"+str(PR1))\n",
    "# plt.plot(recall2, precision2, label=\"Random Forest, pr=\"+str(PR2))\n",
    "# plt.plot(recall3, precision3, label=\"Gradient Boosting, pr=\"+str(PR3))\n",
    "# plt.plot(recall_mlp, prec_mlp, label=\"MLP, pr=\"+str(PR4))\n",
    "\n",
    "# plt.legend(loc=0)\n",
    "\n",
    "# plt.xlim([0.0, 1.0])\n",
    "# plt.ylim([0.0, 1.05])\n",
    "# plt.xlabel('Recall')\n",
    "# plt.ylabel('Precision')\n",
    "# plt.title('Precision/Recall for 3 models on a simple dataset')\n",
    "# plt.legend(loc=\"upper right\")\n",
    "# plt.show()"
   ]
  },
  {
   "cell_type": "code",
   "execution_count": 207,
   "metadata": {},
   "outputs": [
    {
     "name": "stdout",
     "output_type": "stream",
     "text": [
      "(22037, 29)\n"
     ]
    }
   ],
   "source": [
    "# for only demographic and first vs values only\n",
    "X_train = df_train[features].values\n",
    "X_val = df_val[features].values\n",
    "X_test = df_test[features].values\n",
    "\n",
    "label = 'label_24hr_recent'\n",
    "y_train = df_train[label].values\n",
    "y_val = df_val[label].values\n",
    "y_test = df_test[label].values\n",
    "\n",
    "print(X_train.shape)"
   ]
  },
  {
   "cell_type": "code",
   "execution_count": 262,
   "metadata": {},
   "outputs": [
    {
     "name": "stdout",
     "output_type": "stream",
     "text": [
      "AUROC =  0.7408341970216858\n",
      "PR =  0.31558401630089444\n"
     ]
    }
   ],
   "source": [
    "# first values, BYPASS this\n",
    "gbm = GradientBoostingClassifier()\n",
    "gbm.fit(X_train, y_train)\n",
    "y_predsgbm1 = gbm.predict_proba(X_test)[:,1] # positive outcomes only\n",
    "auroc_gbm = roc_auc_score(y_test, y_predsgbm1)\n",
    "print(\"AUROC = \", auroc_gbm)\n",
    "fpr_gbm, tpr_gbm, auc_thresholds_gbm = roc_curve(y_test, y_predsgbm1)\n",
    "        \n",
    "# precision/recall\n",
    "avg_precision_gbm = average_precision_score(y_test, y_predsgbm1)\n",
    "print(\"PR = \", avg_precision_gbm)\n",
    "precision_gbm, recall_gbm, pr_thresholds_gbm = precision_recall_curve(y_test, y_predsgbm1)\n",
    "\n",
    "# AUROC = 0.6965141866178887\n",
    "# PR =  0.31266911068053527"
   ]
  },
  {
   "cell_type": "code",
   "execution_count": 264,
   "metadata": {},
   "outputs": [
    {
     "name": "stderr",
     "output_type": "stream",
     "text": [
      "No handles with labels found to put in legend.\n"
     ]
    },
    {
     "data": {
      "image/png": "[encoded data removed]",
      "text/plain": [
       "<Figure size 864x360 with 2 Axes>"
      ]
     },
     "metadata": {
      "needs_background": "light"
     },
     "output_type": "display_data"
    }
   ],
   "source": [
    "# fist values, BYPASS this\n",
    "fig, axs = plt.subplots(1, 2, figsize=(12,5))\n",
    "axs[0].plot(fpr_gbm,tpr_gbm,label=\"Gradient Boosting, AUC=\"+str(round(auroc_gbm,2)))\n",
    "\n",
    "plt.legend(loc=0)\n",
    "axs[0].plot([0,1],[0,1], 'k--')\n",
    "\n",
    "axs[0].set_xlabel('False Positive Rate')\n",
    "axs[0].set_ylabel('True Positive Rate')\n",
    "axs[0].set_title('GBM AUROC on first vital signs values')  \n",
    "axs[0].legend(loc=\"lower right\")\n",
    "# ax.legend((l2, l4), ('Logistic', 'Random'), loc='upper right')\n",
    "\n",
    "axs[1].plot(recall_gbm, precision_gbm, label=\"Gradient Boosting, PR=\"+str(round(avg_precision_gbm,2)))\n",
    "\n",
    "axs[1].legend(loc=0)\n",
    "axs[1].plot([0,1],[0,0], 'k--')\n",
    "\n",
    "axs[1].set_xlabel('Recall')\n",
    "axs[1].set_ylabel('Precision')\n",
    "\n",
    "axs[1].set_title('GBM Precision/Recall on first vital signs values')\n",
    "# axs[1].set_title('GBM Precision/Recall on a simple dataset')\n",
    "axs[1].legend(loc=\"upper right\")\n",
    "\n",
    "plt.savefig('./Outputs/AUC_PRC 1val_GBM.png')"
   ]
  },
  {
   "cell_type": "code",
   "execution_count": 77,
   "metadata": {},
   "outputs": [
    {
     "name": "stdout",
     "output_type": "stream",
     "text": [
      "(22037, 89)\n"
     ]
    }
   ],
   "source": [
    "# ALL demographic + first values ++ the rest of simple data (summary stats of VS)\n",
    "X_train = df_train.values[:,1:]\n",
    "y_train = df_train.values[:,0]\n",
    "\n",
    "X_val = df_val.values[:,1:]\n",
    "y_val = df_val.values[:,0]\n",
    "\n",
    "X_test = df_test.values[:,1:]\n",
    "y_test = df_test.values[:,0] \n",
    "\n",
    "print(X_train.shape)"
   ]
  },
  {
   "cell_type": "raw",
   "metadata": {},
   "source": [
    "# all\n",
    "gbm = GradientBoostingClassifier()\n",
    "gbm.fit(X_train, y_train)\n",
    "y_predsgbm = gbm.predict_proba(X_test)[:,1] # positive outcomes only\n",
    "auroc_gbm = roc_auc_score(y_test, y_predsgbm)\n",
    "print(\"AUROC_gbm = \", auroc_gbm)\n",
    "fpr_gbm, tpr_gbm, auc_thresholds_gbm = roc_curve(y_test, y_predsgbm)\n",
    "        \n",
    "# precision/recall\n",
    "avg_precision_gbm = average_precision_score(y_test, y_predsgbm)\n",
    "print(\"PR_gbm = \", avg_precision_gbm)\n",
    "precision_gbm, recall_gbm, pr_thresholds_gbm = precision_recall_curve(y_test, y_predsgbm)\n",
    "\n",
    "# AUROC =  0.7759528266608999\n",
    "# PR =  0.4277499152037757\n",
    "# AUROC_gbm =  0.8089975125987982\n",
    "# PR_gbm =  0.40854179882372904"
   ]
  },
  {
   "cell_type": "code",
   "execution_count": 90,
   "metadata": {},
   "outputs": [
    {
     "name": "stderr",
     "output_type": "stream",
     "text": [
      "No handles with labels found to put in legend.\n"
     ]
    },
    {
     "data": {
      "image/png": "[encoded data removed]",
      "text/plain": [
       "<Figure size 864x360 with 2 Axes>"
      ]
     },
     "metadata": {
      "needs_background": "light"
     },
     "output_type": "display_data"
    }
   ],
   "source": [
    "# ALL\n",
    "\n",
    "auroc_gbm = results_test[\"GradientBoostingClassifier\"][0:1][0]\n",
    "avg_precision_gbm = results_test[\"GradientBoostingClassifier\"][1:2][0]\n",
    "\n",
    "fig, axs = plt.subplots(1, 2, figsize=(12,5))\n",
    "axs[0].plot(fpr3,tpr3,label=\"Gradient Boosting, AUC=\"+str(round(auroc_gbm,2)))\n",
    "\n",
    "plt.legend(loc=0)\n",
    "axs[0].plot([0,1],[0,1], 'k--')\n",
    "\n",
    "axs[0].set_xlabel('False Positive Rate')\n",
    "axs[0].set_ylabel('True Positive Rate')\n",
    "axs[0].set_title('GBM AUROC on vital signs summary stats')  \n",
    "axs[0].legend(loc=\"lower right\")\n",
    "# ax.legend((l2, l4), ('Logistic', 'Random'), loc='upper right')\n",
    "\n",
    "axs[1].plot(recall3, precision3, label=\"Gradient Boosting, PR=\"+str(round(avg_precision_gbm,2)))\n",
    "\n",
    "axs[1].legend(loc=0)\n",
    "axs[1].plot([0,1],[0,0], 'k--')\n",
    "\n",
    "axs[1].set_xlabel('Recall')\n",
    "axs[1].set_ylabel('Precision')\n",
    "axs[1].set_title('GBM Precision/Recall on vital signs summary stats')\n",
    "axs[1].legend(loc=\"upper right\")\n",
    "\n",
    "plt.savefig('./Outputs/AUC_PRC summarystats_GBM.png')"
   ]
  },
  {
   "cell_type": "raw",
   "metadata": {},
   "source": [
    "### Note the order of results:\n",
    "results[model_name] = [auroc, avg_precision, \n",
    "                               fpr, tpr, auc_thresholds, \n",
    "                               precision, recall, pr_thresholds, y_preds]"
   ]
  },
  {
   "cell_type": "markdown",
   "metadata": {},
   "source": [
    "### Get the predicted values from the function results"
   ]
  },
  {
   "cell_type": "code",
   "execution_count": 92,
   "metadata": {},
   "outputs": [],
   "source": [
    "# results from VALIDATION\n",
    "y_predsgbm_val1 = results_val1[\"GradientBoostingClassifier\"][8:9][0]\n",
    "y_predsgbm_val = results_val[\"GradientBoostingClassifier\"][8:9][0]"
   ]
  },
  {
   "cell_type": "code",
   "execution_count": 93,
   "metadata": {},
   "outputs": [
    {
     "name": "stdout",
     "output_type": "stream",
     "text": [
      "[0.03884314 0.05225285 0.35552887 ... 0.04214298 0.04650365 0.19223755]\n",
      "[0.08100122 0.03387201 0.07624271 ... 0.03754247 0.02691848 0.08100212]\n"
     ]
    }
   ],
   "source": [
    "# results from TEST\n",
    "y_predsgbm1 = results_test1[\"GradientBoostingClassifier\"][8:9][0]\n",
    "y_predsgbm = results_test[\"GradientBoostingClassifier\"][8:9][0]\n",
    "print(y_predsgbm1)\n",
    "print(y_predsgbm)"
   ]
  },
  {
   "cell_type": "code",
   "execution_count": 94,
   "metadata": {},
   "outputs": [],
   "source": [
    "# save the results from validation:\n",
    "val_gbm_preds = pd.DataFrame({\"y_val\": y_val, \"y_preds_vgbm1\":y_predsgbm_val1, \"y_preds_vgbm\":y_predsgbm_val})\n",
    "val_gbm_preds.to_csv(r'./Outputs/val_gbm_preds.csv', index = False)"
   ]
  },
  {
   "cell_type": "code",
   "execution_count": 95,
   "metadata": {},
   "outputs": [
    {
     "data": {
      "text/html": [
       "<div>\n",
       "<style scoped>\n",
       "    .dataframe tbody tr th:only-of-type {\n",
       "        vertical-align: middle;\n",
       "    }\n",
       "\n",
       "    .dataframe tbody tr th {\n",
       "        vertical-align: top;\n",
       "    }\n",
       "\n",
       "    .dataframe thead th {\n",
       "        text-align: right;\n",
       "    }\n",
       "</style>\n",
       "<table border=\"1\" class=\"dataframe\">\n",
       "  <thead>\n",
       "    <tr style=\"text-align: right;\">\n",
       "      <th></th>\n",
       "      <th>y_val</th>\n",
       "      <th>y_preds_vgbm1</th>\n",
       "      <th>y_preds_vgbm</th>\n",
       "    </tr>\n",
       "  </thead>\n",
       "  <tbody>\n",
       "    <tr>\n",
       "      <th>0</th>\n",
       "      <td>0.0</td>\n",
       "      <td>0.070454</td>\n",
       "      <td>0.131454</td>\n",
       "    </tr>\n",
       "    <tr>\n",
       "      <th>1</th>\n",
       "      <td>1.0</td>\n",
       "      <td>0.209339</td>\n",
       "      <td>0.320747</td>\n",
       "    </tr>\n",
       "    <tr>\n",
       "      <th>2</th>\n",
       "      <td>0.0</td>\n",
       "      <td>0.026307</td>\n",
       "      <td>0.018903</td>\n",
       "    </tr>\n",
       "    <tr>\n",
       "      <th>3</th>\n",
       "      <td>0.0</td>\n",
       "      <td>0.046673</td>\n",
       "      <td>0.031796</td>\n",
       "    </tr>\n",
       "    <tr>\n",
       "      <th>4</th>\n",
       "      <td>0.0</td>\n",
       "      <td>0.049315</td>\n",
       "      <td>0.028633</td>\n",
       "    </tr>\n",
       "  </tbody>\n",
       "</table>\n",
       "</div>"
      ],
      "text/plain": [
       "   y_val  y_preds_vgbm1  y_preds_vgbm\n",
       "0    0.0       0.070454      0.131454\n",
       "1    1.0       0.209339      0.320747\n",
       "2    0.0       0.026307      0.018903\n",
       "3    0.0       0.046673      0.031796\n",
       "4    0.0       0.049315      0.028633"
      ]
     },
     "execution_count": 95,
     "metadata": {},
     "output_type": "execute_result"
    }
   ],
   "source": [
    "val_gbm_preds.head()"
   ]
  },
  {
   "cell_type": "code",
   "execution_count": 96,
   "metadata": {},
   "outputs": [],
   "source": [
    "# save the results from test set:\n",
    "test_gbm_preds = pd.DataFrame({\"y_test\":y_test, \"y_preds_tgbm1\":y_predsgbm1, \"y_preds_tgbm\":y_predsgbm})\n",
    "# test_gbm_preds = pd.concat([df_testIDs, new_cols])\n",
    "test_gbm_preds.to_csv(r'./Outputs/test_gbm_preds.csv', index = False)\n",
    "# all_preds = pd.concat([df_testIDs.reset_index(drop=True), test_gbm_preds], axis=1)"
   ]
  },
  {
   "cell_type": "code",
   "execution_count": 97,
   "metadata": {},
   "outputs": [
    {
     "data": {
      "text/html": [
       "<div>\n",
       "<style scoped>\n",
       "    .dataframe tbody tr th:only-of-type {\n",
       "        vertical-align: middle;\n",
       "    }\n",
       "\n",
       "    .dataframe tbody tr th {\n",
       "        vertical-align: top;\n",
       "    }\n",
       "\n",
       "    .dataframe thead th {\n",
       "        text-align: right;\n",
       "    }\n",
       "</style>\n",
       "<table border=\"1\" class=\"dataframe\">\n",
       "  <thead>\n",
       "    <tr style=\"text-align: right;\">\n",
       "      <th></th>\n",
       "      <th>y_test</th>\n",
       "      <th>y_preds_tgbm1</th>\n",
       "      <th>y_preds_tgbm</th>\n",
       "    </tr>\n",
       "  </thead>\n",
       "  <tbody>\n",
       "    <tr>\n",
       "      <th>0</th>\n",
       "      <td>0.0</td>\n",
       "      <td>0.038843</td>\n",
       "      <td>0.081001</td>\n",
       "    </tr>\n",
       "    <tr>\n",
       "      <th>1</th>\n",
       "      <td>0.0</td>\n",
       "      <td>0.052253</td>\n",
       "      <td>0.033872</td>\n",
       "    </tr>\n",
       "    <tr>\n",
       "      <th>2</th>\n",
       "      <td>0.0</td>\n",
       "      <td>0.355529</td>\n",
       "      <td>0.076243</td>\n",
       "    </tr>\n",
       "    <tr>\n",
       "      <th>3</th>\n",
       "      <td>0.0</td>\n",
       "      <td>0.024457</td>\n",
       "      <td>0.019068</td>\n",
       "    </tr>\n",
       "    <tr>\n",
       "      <th>4</th>\n",
       "      <td>0.0</td>\n",
       "      <td>0.024457</td>\n",
       "      <td>0.039008</td>\n",
       "    </tr>\n",
       "  </tbody>\n",
       "</table>\n",
       "</div>"
      ],
      "text/plain": [
       "   y_test  y_preds_tgbm1  y_preds_tgbm\n",
       "0     0.0       0.038843      0.081001\n",
       "1     0.0       0.052253      0.033872\n",
       "2     0.0       0.355529      0.076243\n",
       "3     0.0       0.024457      0.019068\n",
       "4     0.0       0.024457      0.039008"
      ]
     },
     "execution_count": 97,
     "metadata": {},
     "output_type": "execute_result"
    }
   ],
   "source": [
    "test_gbm_preds.head()"
   ]
  },
  {
   "cell_type": "code",
   "execution_count": 98,
   "metadata": {},
   "outputs": [
    {
     "name": "stdout",
     "output_type": "stream",
     "text": [
      "  y_test y_preds_tgbm1 y_preds_tgbm\n",
      "1      0    0.03884314   0.08100122\n",
      "2      0    0.05225285   0.03387201\n",
      "3      0    0.35552887   0.07624271\n",
      "4      0    0.02445701   0.01906769\n",
      "5      0    0.02445701   0.03900753\n",
      "6      0    0.03732070   0.23856584\n",
      "  y_val y_preds_vgbm1 y_preds_vgbm\n",
      "1     0    0.07045425   0.13145383\n",
      "2     1    0.20933911   0.32074732\n",
      "3     0    0.02630683   0.01890278\n",
      "4     0    0.04667327   0.03179579\n",
      "5     0    0.04931512   0.02863349\n",
      "6     1    0.48664407   0.17294377\n"
     ]
    }
   ],
   "source": [
    "%%R\n",
    "test_gbm_preds <- read.csv(\"./Outputs/test_gbm_preds.csv\")\n",
    "print(head(test_gbm_preds))\n",
    "\n",
    "val_gbm_preds <- read.csv(\"./Outputs/val_gbm_preds.csv\")\n",
    "print(head(val_gbm_preds))"
   ]
  },
  {
   "cell_type": "code",
   "execution_count": 99,
   "metadata": {},
   "outputs": [
    {
     "name": "stderr",
     "output_type": "stream",
     "text": [
      "R[write to console]: Setting levels: control = 0, case = 1\n",
      "\n",
      "R[write to console]: Setting direction: controls < cases\n",
      "\n",
      "R[write to console]: Setting levels: control = 0, case = 1\n",
      "\n",
      "R[write to console]: Setting direction: controls < cases\n",
      "\n",
      "R[write to console]: Setting levels: control = 0, case = 1\n",
      "\n",
      "R[write to console]: Setting direction: controls < cases\n",
      "\n",
      "R[write to console]: Setting levels: control = 0, case = 1\n",
      "\n",
      "R[write to console]: Setting direction: controls < cases\n",
      "\n"
     ]
    },
    {
     "name": "stdout",
     "output_type": "stream",
     "text": [
      "95% CI: 0.764-0.797 (DeLong)\n",
      "95% CI: 0.7239-0.7573 (DeLong)\n",
      "95% CI: 0.8095-0.8392 (DeLong)\n",
      "95% CI: 0.7951-0.8232 (DeLong)\n"
     ]
    }
   ],
   "source": [
    "%%R\n",
    "ci_val_gbm1 <- ci.auc(val_gbm_preds$y_val, val_gbm_preds$y_preds_vgbm1)\n",
    "ci_test_gbm1 <- ci.auc(test_gbm_preds$y_test, test_gbm_preds$y_preds_tgbm1)\n",
    "\n",
    "ci_val_gbm <- ci.auc(val_gbm_preds$y_val, val_gbm_preds$y_preds_vgbm)\n",
    "ci_test_gbm <- ci.auc(test_gbm_preds$y_test, test_gbm_preds$y_preds_tgbm)\n",
    "\n",
    "print(ci_val_gbm1)\n",
    "print(ci_test_gbm1)\n",
    "\n",
    "print(ci_val_gbm)\n",
    "print(ci_test_gbm)"
   ]
  },
  {
   "cell_type": "code",
   "execution_count": 100,
   "metadata": {},
   "outputs": [],
   "source": [
    "# test_gbm_preds = read_csv(\"./Outputs/test_gbm_preds.csv\")\n",
    "# val_gbm_preds = read_csv(\"./Outputs/val_gbm_preds.csv\")\n",
    "\n",
    "val1 = pd.DataFrame({\"label\":val_gbm_preds[\"y_val\"], \"predictions\":val_gbm_preds[\"y_preds_vgbm1\"]})\n",
    "test1 = pd.DataFrame({\"label\":test_gbm_preds[\"y_test\"], \"predictions\":test_gbm_preds[\"y_preds_tgbm1\"]})\n",
    "val = pd.DataFrame({\"label\":val_gbm_preds[\"y_val\"], \"predictions\":val_gbm_preds[\"y_preds_vgbm\"]})\n",
    "test = pd.DataFrame({\"label\":test_gbm_preds[\"y_test\"], \"predictions\":test_gbm_preds[\"y_preds_tgbm\"]})\n",
    "\n",
    "# val1.to_csv(r'./Outputs/val1.csv', index = False)\n",
    "# test1.to_csv(r'./Outputs/test1.csv', index = False)\n",
    "# val.to_csv(r'./Outputs/val.csv', index = False)\n",
    "# test.to_csv(r'./Outputs/test.csv', index = False)"
   ]
  },
  {
   "cell_type": "code",
   "execution_count": 101,
   "metadata": {},
   "outputs": [],
   "source": [
    "# val1 = read_csv('./Outputs/val1.csv')\n",
    "# test1 = read_csv('./Outputs/test1.csv')\n",
    "# val = read_csv('./Outputs/val.csv')\n",
    "# test = read_csv('./Outputs/test.csv')\n",
    "\n",
    "val1.name = \"First VS - validation\"\n",
    "test1.name =  \"First VS - test\"\n",
    "val.name = \"Summary VS - validation\"\n",
    "test.name = \"Summary VS - test\""
   ]
  },
  {
   "cell_type": "code",
   "execution_count": 102,
   "metadata": {},
   "outputs": [],
   "source": [
    "# use Nicolai's df format and code to run the CI:\n",
    "def bootstrap(df):\n",
    "    aucs = []\n",
    "    prc = []\n",
    "    for i in range(10000):\n",
    "        sample = df.sample(n=1000)\n",
    "        aucs.append(roc_auc_score(sample[\"label\"], sample[\"predictions\"]))\n",
    "        prc.append(average_precision_score(sample[\"label\"], sample[\"predictions\"]))  \n",
    "    return aucs, prc\n",
    "\n",
    "results = pd.DataFrame(columns=['df', 'AUROC value','AUROC 95% CI','AUPRC value','AUPRC 95% CI'])\n",
    "for df in [val1, test1, val, test]:\n",
    "    aucs, prc = bootstrap(df)\n",
    "    results = results.append({\n",
    "     \"df\" : df.name,\n",
    "     \"AUROC value\": round(roc_auc_score(df[\"label\"], df[\"predictions\"]), 3),\n",
    "     \"AUROC 95% CI\":  (round(np.percentile(np.array(aucs), 2.5), 3), round(np.percentile(np.array(aucs), 97.5), 3)),\n",
    "     \"AUPRC value\": average_precision_score(df[\"label\"], df[\"predictions\"]),\n",
    "     'AUPRC 95% CI': (round(np.percentile(np.array(prc), 2.5), 3), round(np.percentile(np.array(prc), 97.5), 3))\n",
    "      }, ignore_index=True)"
   ]
  },
  {
   "cell_type": "code",
   "execution_count": 103,
   "metadata": {},
   "outputs": [
    {
     "data": {
      "text/html": [
       "<div>\n",
       "<style scoped>\n",
       "    .dataframe tbody tr th:only-of-type {\n",
       "        vertical-align: middle;\n",
       "    }\n",
       "\n",
       "    .dataframe tbody tr th {\n",
       "        vertical-align: top;\n",
       "    }\n",
       "\n",
       "    .dataframe thead th {\n",
       "        text-align: right;\n",
       "    }\n",
       "</style>\n",
       "<table border=\"1\" class=\"dataframe\">\n",
       "  <thead>\n",
       "    <tr style=\"text-align: right;\">\n",
       "      <th></th>\n",
       "      <th>df</th>\n",
       "      <th>AUROC value</th>\n",
       "      <th>AUROC 95% CI</th>\n",
       "      <th>AUPRC value</th>\n",
       "      <th>AUPRC 95% CI</th>\n",
       "    </tr>\n",
       "  </thead>\n",
       "  <tbody>\n",
       "    <tr>\n",
       "      <th>0</th>\n",
       "      <td>First VS - validation</td>\n",
       "      <td>0.781</td>\n",
       "      <td>(0.732, 0.829)</td>\n",
       "      <td>0.340608</td>\n",
       "      <td>(0.256, 0.438)</td>\n",
       "    </tr>\n",
       "    <tr>\n",
       "      <th>1</th>\n",
       "      <td>First VS - test</td>\n",
       "      <td>0.741</td>\n",
       "      <td>(0.69, 0.79)</td>\n",
       "      <td>0.315769</td>\n",
       "      <td>(0.238, 0.414)</td>\n",
       "    </tr>\n",
       "    <tr>\n",
       "      <th>2</th>\n",
       "      <td>Summary VS - validation</td>\n",
       "      <td>0.824</td>\n",
       "      <td>(0.779, 0.866)</td>\n",
       "      <td>0.412107</td>\n",
       "      <td>(0.32, 0.513)</td>\n",
       "    </tr>\n",
       "    <tr>\n",
       "      <th>3</th>\n",
       "      <td>Summary VS - test</td>\n",
       "      <td>0.809</td>\n",
       "      <td>(0.766, 0.85)</td>\n",
       "      <td>0.410090</td>\n",
       "      <td>(0.322, 0.505)</td>\n",
       "    </tr>\n",
       "  </tbody>\n",
       "</table>\n",
       "</div>"
      ],
      "text/plain": [
       "                        df  AUROC value    AUROC 95% CI  AUPRC value  \\\n",
       "0    First VS - validation        0.781  (0.732, 0.829)     0.340608   \n",
       "1          First VS - test        0.741    (0.69, 0.79)     0.315769   \n",
       "2  Summary VS - validation        0.824  (0.779, 0.866)     0.412107   \n",
       "3        Summary VS - test        0.809   (0.766, 0.85)     0.410090   \n",
       "\n",
       "     AUPRC 95% CI  \n",
       "0  (0.256, 0.438)  \n",
       "1  (0.238, 0.414)  \n",
       "2   (0.32, 0.513)  \n",
       "3  (0.322, 0.505)  "
      ]
     },
     "execution_count": 103,
     "metadata": {},
     "output_type": "execute_result"
    }
   ],
   "source": [
    "### NEW revised\n",
    "results"
   ]
  },
  {
   "cell_type": "code",
   "execution_count": 88,
   "metadata": {},
   "outputs": [
    {
     "data": {
      "text/html": [
       "<div>\n",
       "<style scoped>\n",
       "    .dataframe tbody tr th:only-of-type {\n",
       "        vertical-align: middle;\n",
       "    }\n",
       "\n",
       "    .dataframe tbody tr th {\n",
       "        vertical-align: top;\n",
       "    }\n",
       "\n",
       "    .dataframe thead th {\n",
       "        text-align: right;\n",
       "    }\n",
       "</style>\n",
       "<table border=\"1\" class=\"dataframe\">\n",
       "  <thead>\n",
       "    <tr style=\"text-align: right;\">\n",
       "      <th></th>\n",
       "      <th>df</th>\n",
       "      <th>AUROC value</th>\n",
       "      <th>AUROC 95% CI</th>\n",
       "      <th>AUPRC value</th>\n",
       "      <th>AUPRC 95% CI</th>\n",
       "    </tr>\n",
       "  </thead>\n",
       "  <tbody>\n",
       "    <tr>\n",
       "      <th>0</th>\n",
       "      <td>First VS - validation</td>\n",
       "      <td>0.723</td>\n",
       "      <td>(0.679, 0.764)</td>\n",
       "      <td>0.337566</td>\n",
       "      <td>(0.269, 0.411)</td>\n",
       "    </tr>\n",
       "    <tr>\n",
       "      <th>1</th>\n",
       "      <td>First VS - test</td>\n",
       "      <td>0.696</td>\n",
       "      <td>(0.651, 0.741)</td>\n",
       "      <td>0.312659</td>\n",
       "      <td>(0.248, 0.391)</td>\n",
       "    </tr>\n",
       "    <tr>\n",
       "      <th>2</th>\n",
       "      <td>Summary VS - validation</td>\n",
       "      <td>0.809</td>\n",
       "      <td>(0.772, 0.843)</td>\n",
       "      <td>0.469149</td>\n",
       "      <td>(0.392, 0.543)</td>\n",
       "    </tr>\n",
       "    <tr>\n",
       "      <th>3</th>\n",
       "      <td>Summary VS - test</td>\n",
       "      <td>0.776</td>\n",
       "      <td>(0.736, 0.816)</td>\n",
       "      <td>0.427086</td>\n",
       "      <td>(0.354, 0.51)</td>\n",
       "    </tr>\n",
       "  </tbody>\n",
       "</table>\n",
       "</div>"
      ],
      "text/plain": [
       "                        df  AUROC value    AUROC 95% CI  AUPRC value  \\\n",
       "0    First VS - validation        0.723  (0.679, 0.764)     0.337566   \n",
       "1          First VS - test        0.696  (0.651, 0.741)     0.312659   \n",
       "2  Summary VS - validation        0.809  (0.772, 0.843)     0.469149   \n",
       "3        Summary VS - test        0.776  (0.736, 0.816)     0.427086   \n",
       "\n",
       "     AUPRC 95% CI  \n",
       "0  (0.269, 0.411)  \n",
       "1  (0.248, 0.391)  \n",
       "2  (0.392, 0.543)  \n",
       "3   (0.354, 0.51)  "
      ]
     },
     "execution_count": 88,
     "metadata": {},
     "output_type": "execute_result"
    }
   ],
   "source": [
    "### OLD\n",
    "results"
   ]
  },
  {
   "cell_type": "markdown",
   "metadata": {},
   "source": [
    "### Results"
   ]
  },
  {
   "cell_type": "raw",
   "metadata": {},
   "source": [
    "len(precision_gbm1)\n",
    "# len(pr_thresholds_gbm1)\n",
    "print(precision_gbm1[:-1])\n",
    "print(recall_gbm1[:-1])\n",
    "# pr_thresholds_gbm1[:5]\n",
    "# pr_thresholds_gbm1[:-5]"
   ]
  },
  {
   "cell_type": "code",
   "execution_count": 106,
   "metadata": {},
   "outputs": [
    {
     "name": "stdout",
     "output_type": "stream",
     "text": [
      "10096\n",
      "10096\n",
      "0    9057\n",
      "1    1039\n",
      "Name: label_24hr_recent, dtype: int64\n"
     ]
    },
    {
     "data": {
      "text/html": [
       "<div>\n",
       "<style scoped>\n",
       "    .dataframe tbody tr th:only-of-type {\n",
       "        vertical-align: middle;\n",
       "    }\n",
       "\n",
       "    .dataframe tbody tr th {\n",
       "        vertical-align: top;\n",
       "    }\n",
       "\n",
       "    .dataframe thead th {\n",
       "        text-align: right;\n",
       "    }\n",
       "</style>\n",
       "<table border=\"1\" class=\"dataframe\">\n",
       "  <thead>\n",
       "    <tr style=\"text-align: right;\">\n",
       "      <th></th>\n",
       "      <th>anon_id</th>\n",
       "      <th>pat_enc_csn_id_coded</th>\n",
       "      <th>label_24hr_recent</th>\n",
       "    </tr>\n",
       "  </thead>\n",
       "  <tbody>\n",
       "    <tr>\n",
       "      <th>0</th>\n",
       "      <td>JC29f8ad2</td>\n",
       "      <td>131274729058</td>\n",
       "      <td>0</td>\n",
       "    </tr>\n",
       "    <tr>\n",
       "      <th>1</th>\n",
       "      <td>JC29f8ad3</td>\n",
       "      <td>131278291027</td>\n",
       "      <td>0</td>\n",
       "    </tr>\n",
       "    <tr>\n",
       "      <th>2</th>\n",
       "      <td>JC29f8b9c</td>\n",
       "      <td>131266787806</td>\n",
       "      <td>0</td>\n",
       "    </tr>\n",
       "    <tr>\n",
       "      <th>3</th>\n",
       "      <td>JC29f8beb</td>\n",
       "      <td>131264387263</td>\n",
       "      <td>0</td>\n",
       "    </tr>\n",
       "    <tr>\n",
       "      <th>4</th>\n",
       "      <td>JC29f8beb</td>\n",
       "      <td>131279241689</td>\n",
       "      <td>0</td>\n",
       "    </tr>\n",
       "  </tbody>\n",
       "</table>\n",
       "</div>"
      ],
      "text/plain": [
       "     anon_id  pat_enc_csn_id_coded  label_24hr_recent\n",
       "0  JC29f8ad2          131274729058                  0\n",
       "1  JC29f8ad3          131278291027                  0\n",
       "2  JC29f8b9c          131266787806                  0\n",
       "3  JC29f8beb          131264387263                  0\n",
       "4  JC29f8beb          131279241689                  0"
      ]
     },
     "execution_count": 106,
     "metadata": {},
     "output_type": "execute_result"
    }
   ],
   "source": [
    "print(len(pd.DataFrame({'label':y_test, \"preds_gbm\":y_predsgbm})))\n",
    "print(len(df_testIDs))\n",
    "print(df_testIDs.label_24hr_recent.value_counts())\n",
    "df_testIDs.head()"
   ]
  },
  {
   "cell_type": "code",
   "execution_count": 119,
   "metadata": {},
   "outputs": [
    {
     "name": "stdout",
     "output_type": "stream",
     "text": [
      "<bound method NDFrame.head of          anon_id  pat_enc_csn_id_coded  label_24hr_recent  preds_gbm\n",
      "0      JC29f8ad2          131274729058                  0   0.081001\n",
      "1      JC29f8ad3          131278291027                  0   0.033872\n",
      "2      JC29f8b9c          131266787806                  0   0.076243\n",
      "3      JC29f8beb          131264387263                  0   0.019068\n",
      "4      JC29f8beb          131279241689                  0   0.039008\n",
      "...          ...                   ...                ...        ...\n",
      "41626   JCec4575          131261383508                  0   0.021947\n",
      "41633   JCec466f          131268389874                  0   0.028724\n",
      "41643   JCec4722          131268321543                  0   0.037542\n",
      "41644   JCec4785          131279578912                  0   0.026918\n",
      "41651   JCec4853          131273484812                  0   0.081002\n",
      "\n",
      "[10096 rows x 4 columns]>\n"
     ]
    }
   ],
   "source": [
    "df_testIDs['preds_gbm'] = y_predsgbm\n",
    "print(df_testIDs.head)\n",
    "df_testIDs.to_csv(r'./Outputs/results_gbm.csv', index = False)"
   ]
  },
  {
   "cell_type": "raw",
   "metadata": {},
   "source": [
    "Precision values such that element i is the precision of predictions with score >= thresholds[i] and the last element is 1. \n",
    "PPV = precision\n",
    "Decreasing recall values such that element i is the recall of predictions with score >= thresholds[i] and the last element is 0. Recall = Sensitivity"
   ]
  },
  {
   "cell_type": "code",
   "execution_count": 108,
   "metadata": {},
   "outputs": [
    {
     "name": "stdout",
     "output_type": "stream",
     "text": [
      "       prec    recall         p\n",
      "0  0.103507  1.000000  0.017980\n",
      "1  0.103417  0.999038  0.018051\n",
      "2  0.103438  0.999038  0.018093\n",
      "3  0.103448  0.999038  0.018108\n",
      "4  0.103459  0.999038  0.018135\n"
     ]
    }
   ],
   "source": [
    "# prc = pd.DataFrame({'prec':precision_gbm[:-1], \"recall\": recall_gbm[:-1], 'p': pr_thresholds_gbm})\n",
    "prc = pd.DataFrame({'prec':precision3[:-1], \"recall\": recall3[:-1], 'p': pr_thresholds3})\n",
    "\n",
    "print(prc.head())\n",
    "prc.to_csv(r'./Outputs/prc.csv', index = False)"
   ]
  },
  {
   "cell_type": "code",
   "execution_count": 109,
   "metadata": {},
   "outputs": [
    {
     "data": {
      "text/html": [
       "<div>\n",
       "<style scoped>\n",
       "    .dataframe tbody tr th:only-of-type {\n",
       "        vertical-align: middle;\n",
       "    }\n",
       "\n",
       "    .dataframe tbody tr th {\n",
       "        vertical-align: top;\n",
       "    }\n",
       "\n",
       "    .dataframe thead th {\n",
       "        text-align: right;\n",
       "    }\n",
       "</style>\n",
       "<table border=\"1\" class=\"dataframe\">\n",
       "  <thead>\n",
       "    <tr style=\"text-align: right;\">\n",
       "      <th></th>\n",
       "      <th>prec</th>\n",
       "      <th>recall</th>\n",
       "      <th>p</th>\n",
       "    </tr>\n",
       "  </thead>\n",
       "  <tbody>\n",
       "  </tbody>\n",
       "</table>\n",
       "</div>"
      ],
      "text/plain": [
       "Empty DataFrame\n",
       "Columns: [prec, recall, p]\n",
       "Index: []"
      ]
     },
     "execution_count": 109,
     "metadata": {},
     "output_type": "execute_result"
    }
   ],
   "source": [
    "### OLD\n",
    "# prc.sort_values(by=['prec', 'recall'], ascending=False)\n",
    "prc[(prc['prec'] > 0.2) & (prc['recall'] > 0.85)] # 218 OLD\n",
    "prc[(prc['prec'] > 0.25)] # 218\n",
    "prc[(prc['prec'] > 0.20) & (prc['recall'] > 0.86)].head() # threshold 0.06"
   ]
  },
  {
   "cell_type": "code",
   "execution_count": 112,
   "metadata": {},
   "outputs": [
    {
     "data": {
      "text/html": [
       "<div>\n",
       "<style scoped>\n",
       "    .dataframe tbody tr th:only-of-type {\n",
       "        vertical-align: middle;\n",
       "    }\n",
       "\n",
       "    .dataframe tbody tr th {\n",
       "        vertical-align: top;\n",
       "    }\n",
       "\n",
       "    .dataframe thead th {\n",
       "        text-align: right;\n",
       "    }\n",
       "</style>\n",
       "<table border=\"1\" class=\"dataframe\">\n",
       "  <thead>\n",
       "    <tr style=\"text-align: right;\">\n",
       "      <th></th>\n",
       "      <th>prec</th>\n",
       "      <th>recall</th>\n",
       "      <th>p</th>\n",
       "    </tr>\n",
       "  </thead>\n",
       "  <tbody>\n",
       "    <tr>\n",
       "      <th>5662</th>\n",
       "      <td>0.250082</td>\n",
       "      <td>0.738210</td>\n",
       "      <td>0.067736</td>\n",
       "    </tr>\n",
       "    <tr>\n",
       "      <th>5663</th>\n",
       "      <td>0.250163</td>\n",
       "      <td>0.738210</td>\n",
       "      <td>0.067779</td>\n",
       "    </tr>\n",
       "    <tr>\n",
       "      <th>5666</th>\n",
       "      <td>0.250082</td>\n",
       "      <td>0.737247</td>\n",
       "      <td>0.067827</td>\n",
       "    </tr>\n",
       "    <tr>\n",
       "      <th>5670</th>\n",
       "      <td>0.250082</td>\n",
       "      <td>0.736285</td>\n",
       "      <td>0.067912</td>\n",
       "    </tr>\n",
       "    <tr>\n",
       "      <th>5671</th>\n",
       "      <td>0.250164</td>\n",
       "      <td>0.736285</td>\n",
       "      <td>0.067915</td>\n",
       "    </tr>\n",
       "    <tr>\n",
       "      <th>5672</th>\n",
       "      <td>0.250245</td>\n",
       "      <td>0.736285</td>\n",
       "      <td>0.067917</td>\n",
       "    </tr>\n",
       "    <tr>\n",
       "      <th>5673</th>\n",
       "      <td>0.250327</td>\n",
       "      <td>0.736285</td>\n",
       "      <td>0.067922</td>\n",
       "    </tr>\n",
       "    <tr>\n",
       "      <th>5674</th>\n",
       "      <td>0.250082</td>\n",
       "      <td>0.735322</td>\n",
       "      <td>0.067943</td>\n",
       "    </tr>\n",
       "    <tr>\n",
       "      <th>5675</th>\n",
       "      <td>0.250164</td>\n",
       "      <td>0.735322</td>\n",
       "      <td>0.067943</td>\n",
       "    </tr>\n",
       "    <tr>\n",
       "      <th>5676</th>\n",
       "      <td>0.250246</td>\n",
       "      <td>0.735322</td>\n",
       "      <td>0.067952</td>\n",
       "    </tr>\n",
       "    <tr>\n",
       "      <th>5677</th>\n",
       "      <td>0.250328</td>\n",
       "      <td>0.735322</td>\n",
       "      <td>0.068039</td>\n",
       "    </tr>\n",
       "    <tr>\n",
       "      <th>5678</th>\n",
       "      <td>0.250410</td>\n",
       "      <td>0.735322</td>\n",
       "      <td>0.068055</td>\n",
       "    </tr>\n",
       "  </tbody>\n",
       "</table>\n",
       "</div>"
      ],
      "text/plain": [
       "          prec    recall         p\n",
       "5662  0.250082  0.738210  0.067736\n",
       "5663  0.250163  0.738210  0.067779\n",
       "5666  0.250082  0.737247  0.067827\n",
       "5670  0.250082  0.736285  0.067912\n",
       "5671  0.250164  0.736285  0.067915\n",
       "5672  0.250245  0.736285  0.067917\n",
       "5673  0.250327  0.736285  0.067922\n",
       "5674  0.250082  0.735322  0.067943\n",
       "5675  0.250164  0.735322  0.067943\n",
       "5676  0.250246  0.735322  0.067952\n",
       "5677  0.250328  0.735322  0.068039\n",
       "5678  0.250410  0.735322  0.068055"
      ]
     },
     "execution_count": 112,
     "metadata": {},
     "output_type": "execute_result"
    }
   ],
   "source": [
    "# prc.sort_values(by=['prec', 'recall'], ascending=False)\n",
    "prc[(prc['prec'] > 0.25) & (prc['recall'] > 0.735)] # 218 #0.068"
   ]
  },
  {
   "cell_type": "code",
   "execution_count": 253,
   "metadata": {},
   "outputs": [
    {
     "data": {
      "text/html": [
       "<div>\n",
       "<style scoped>\n",
       "    .dataframe tbody tr th:only-of-type {\n",
       "        vertical-align: middle;\n",
       "    }\n",
       "\n",
       "    .dataframe tbody tr th {\n",
       "        vertical-align: top;\n",
       "    }\n",
       "\n",
       "    .dataframe thead th {\n",
       "        text-align: right;\n",
       "    }\n",
       "</style>\n",
       "<table border=\"1\" class=\"dataframe\">\n",
       "  <thead>\n",
       "    <tr style=\"text-align: right;\">\n",
       "      <th></th>\n",
       "      <th>prec</th>\n",
       "      <th>recall</th>\n",
       "      <th>p</th>\n",
       "    </tr>\n",
       "  </thead>\n",
       "  <tbody>\n",
       "    <tr>\n",
       "      <th>4380</th>\n",
       "      <td>0.177247</td>\n",
       "      <td>0.749759</td>\n",
       "      <td>0.063089</td>\n",
       "    </tr>\n",
       "    <tr>\n",
       "      <th>4381</th>\n",
       "      <td>0.177287</td>\n",
       "      <td>0.749759</td>\n",
       "      <td>0.063091</td>\n",
       "    </tr>\n",
       "    <tr>\n",
       "      <th>4382</th>\n",
       "      <td>0.177328</td>\n",
       "      <td>0.749759</td>\n",
       "      <td>0.063103</td>\n",
       "    </tr>\n",
       "    <tr>\n",
       "      <th>4383</th>\n",
       "      <td>0.177140</td>\n",
       "      <td>0.748797</td>\n",
       "      <td>0.063130</td>\n",
       "    </tr>\n",
       "    <tr>\n",
       "      <th>4384</th>\n",
       "      <td>0.177181</td>\n",
       "      <td>0.748797</td>\n",
       "      <td>0.063145</td>\n",
       "    </tr>\n",
       "    <tr>\n",
       "      <th>...</th>\n",
       "      <td>...</td>\n",
       "      <td>...</td>\n",
       "      <td>...</td>\n",
       "    </tr>\n",
       "    <tr>\n",
       "      <th>5980</th>\n",
       "      <td>0.219289</td>\n",
       "      <td>0.575553</td>\n",
       "      <td>0.092520</td>\n",
       "    </tr>\n",
       "    <tr>\n",
       "      <th>5981</th>\n",
       "      <td>0.219369</td>\n",
       "      <td>0.575553</td>\n",
       "      <td>0.092522</td>\n",
       "    </tr>\n",
       "    <tr>\n",
       "      <th>5982</th>\n",
       "      <td>0.219083</td>\n",
       "      <td>0.574591</td>\n",
       "      <td>0.092559</td>\n",
       "    </tr>\n",
       "    <tr>\n",
       "      <th>5983</th>\n",
       "      <td>0.219163</td>\n",
       "      <td>0.574591</td>\n",
       "      <td>0.092560</td>\n",
       "    </tr>\n",
       "    <tr>\n",
       "      <th>5984</th>\n",
       "      <td>0.219243</td>\n",
       "      <td>0.574591</td>\n",
       "      <td>0.092560</td>\n",
       "    </tr>\n",
       "  </tbody>\n",
       "</table>\n",
       "<p>1605 rows × 3 columns</p>\n",
       "</div>"
      ],
      "text/plain": [
       "          prec    recall         p\n",
       "4380  0.177247  0.749759  0.063089\n",
       "4381  0.177287  0.749759  0.063091\n",
       "4382  0.177328  0.749759  0.063103\n",
       "4383  0.177140  0.748797  0.063130\n",
       "4384  0.177181  0.748797  0.063145\n",
       "...        ...       ...       ...\n",
       "5980  0.219289  0.575553  0.092520\n",
       "5981  0.219369  0.575553  0.092522\n",
       "5982  0.219083  0.574591  0.092559\n",
       "5983  0.219163  0.574591  0.092560\n",
       "5984  0.219243  0.574591  0.092560\n",
       "\n",
       "[1605 rows x 3 columns]"
      ]
     },
     "execution_count": 253,
     "metadata": {},
     "output_type": "execute_result"
    }
   ],
   "source": [
    "# OLD\n",
    "prc[(prc['p'] >= 0.063089) & (prc['p'] <= 0.092567)]"
   ]
  },
  {
   "cell_type": "code",
   "execution_count": 118,
   "metadata": {},
   "outputs": [
    {
     "data": {
      "text/html": [
       "<div>\n",
       "<style scoped>\n",
       "    .dataframe tbody tr th:only-of-type {\n",
       "        vertical-align: middle;\n",
       "    }\n",
       "\n",
       "    .dataframe tbody tr th {\n",
       "        vertical-align: top;\n",
       "    }\n",
       "\n",
       "    .dataframe thead th {\n",
       "        text-align: right;\n",
       "    }\n",
       "</style>\n",
       "<table border=\"1\" class=\"dataframe\">\n",
       "  <thead>\n",
       "    <tr style=\"text-align: right;\">\n",
       "      <th></th>\n",
       "      <th>prec</th>\n",
       "      <th>recall</th>\n",
       "      <th>p</th>\n",
       "    </tr>\n",
       "  </thead>\n",
       "  <tbody>\n",
       "    <tr>\n",
       "      <th>4524</th>\n",
       "      <td>0.200048</td>\n",
       "      <td>0.810395</td>\n",
       "      <td>0.048617</td>\n",
       "    </tr>\n",
       "    <tr>\n",
       "      <th>4525</th>\n",
       "      <td>0.200095</td>\n",
       "      <td>0.810395</td>\n",
       "      <td>0.048622</td>\n",
       "    </tr>\n",
       "    <tr>\n",
       "      <th>4526</th>\n",
       "      <td>0.200143</td>\n",
       "      <td>0.810395</td>\n",
       "      <td>0.048667</td>\n",
       "    </tr>\n",
       "    <tr>\n",
       "      <th>4527</th>\n",
       "      <td>0.200190</td>\n",
       "      <td>0.810395</td>\n",
       "      <td>0.048670</td>\n",
       "    </tr>\n",
       "    <tr>\n",
       "      <th>4528</th>\n",
       "      <td>0.200238</td>\n",
       "      <td>0.810395</td>\n",
       "      <td>0.048700</td>\n",
       "    </tr>\n",
       "    <tr>\n",
       "      <th>4529</th>\n",
       "      <td>0.200285</td>\n",
       "      <td>0.810395</td>\n",
       "      <td>0.048703</td>\n",
       "    </tr>\n",
       "    <tr>\n",
       "      <th>4530</th>\n",
       "      <td>0.200333</td>\n",
       "      <td>0.810395</td>\n",
       "      <td>0.048715</td>\n",
       "    </tr>\n",
       "    <tr>\n",
       "      <th>4531</th>\n",
       "      <td>0.200381</td>\n",
       "      <td>0.810395</td>\n",
       "      <td>0.048735</td>\n",
       "    </tr>\n",
       "    <tr>\n",
       "      <th>4532</th>\n",
       "      <td>0.200428</td>\n",
       "      <td>0.810395</td>\n",
       "      <td>0.048743</td>\n",
       "    </tr>\n",
       "    <tr>\n",
       "      <th>4533</th>\n",
       "      <td>0.200476</td>\n",
       "      <td>0.810395</td>\n",
       "      <td>0.048765</td>\n",
       "    </tr>\n",
       "    <tr>\n",
       "      <th>4534</th>\n",
       "      <td>0.200524</td>\n",
       "      <td>0.810395</td>\n",
       "      <td>0.048773</td>\n",
       "    </tr>\n",
       "    <tr>\n",
       "      <th>4535</th>\n",
       "      <td>0.200572</td>\n",
       "      <td>0.810395</td>\n",
       "      <td>0.048776</td>\n",
       "    </tr>\n",
       "    <tr>\n",
       "      <th>4536</th>\n",
       "      <td>0.200619</td>\n",
       "      <td>0.810395</td>\n",
       "      <td>0.048797</td>\n",
       "    </tr>\n",
       "    <tr>\n",
       "      <th>4537</th>\n",
       "      <td>0.200667</td>\n",
       "      <td>0.810395</td>\n",
       "      <td>0.048803</td>\n",
       "    </tr>\n",
       "    <tr>\n",
       "      <th>4538</th>\n",
       "      <td>0.200715</td>\n",
       "      <td>0.810395</td>\n",
       "      <td>0.048815</td>\n",
       "    </tr>\n",
       "    <tr>\n",
       "      <th>4539</th>\n",
       "      <td>0.200763</td>\n",
       "      <td>0.810395</td>\n",
       "      <td>0.048834</td>\n",
       "    </tr>\n",
       "    <tr>\n",
       "      <th>4540</th>\n",
       "      <td>0.200811</td>\n",
       "      <td>0.810395</td>\n",
       "      <td>0.048836</td>\n",
       "    </tr>\n",
       "    <tr>\n",
       "      <th>4541</th>\n",
       "      <td>0.200859</td>\n",
       "      <td>0.810395</td>\n",
       "      <td>0.048854</td>\n",
       "    </tr>\n",
       "  </tbody>\n",
       "</table>\n",
       "</div>"
      ],
      "text/plain": [
       "          prec    recall         p\n",
       "4524  0.200048  0.810395  0.048617\n",
       "4525  0.200095  0.810395  0.048622\n",
       "4526  0.200143  0.810395  0.048667\n",
       "4527  0.200190  0.810395  0.048670\n",
       "4528  0.200238  0.810395  0.048700\n",
       "4529  0.200285  0.810395  0.048703\n",
       "4530  0.200333  0.810395  0.048715\n",
       "4531  0.200381  0.810395  0.048735\n",
       "4532  0.200428  0.810395  0.048743\n",
       "4533  0.200476  0.810395  0.048765\n",
       "4534  0.200524  0.810395  0.048773\n",
       "4535  0.200572  0.810395  0.048776\n",
       "4536  0.200619  0.810395  0.048797\n",
       "4537  0.200667  0.810395  0.048803\n",
       "4538  0.200715  0.810395  0.048815\n",
       "4539  0.200763  0.810395  0.048834\n",
       "4540  0.200811  0.810395  0.048836\n",
       "4541  0.200859  0.810395  0.048854"
      ]
     },
     "execution_count": 118,
     "metadata": {},
     "output_type": "execute_result"
    }
   ],
   "source": [
    "prc[(prc['prec'] > 0.20) & (prc['recall'] > 0.81)]"
   ]
  },
  {
   "cell_type": "code",
   "execution_count": 115,
   "metadata": {},
   "outputs": [
    {
     "data": {
      "text/html": [
       "<div>\n",
       "<style scoped>\n",
       "    .dataframe tbody tr th:only-of-type {\n",
       "        vertical-align: middle;\n",
       "    }\n",
       "\n",
       "    .dataframe tbody tr th {\n",
       "        vertical-align: top;\n",
       "    }\n",
       "\n",
       "    .dataframe thead th {\n",
       "        text-align: right;\n",
       "    }\n",
       "</style>\n",
       "<table border=\"1\" class=\"dataframe\">\n",
       "  <thead>\n",
       "    <tr style=\"text-align: right;\">\n",
       "      <th></th>\n",
       "      <th>prec</th>\n",
       "      <th>recall</th>\n",
       "      <th>p</th>\n",
       "    </tr>\n",
       "  </thead>\n",
       "  <tbody>\n",
       "    <tr>\n",
       "      <th>5670</th>\n",
       "      <td>0.250082</td>\n",
       "      <td>0.736285</td>\n",
       "      <td>0.067912</td>\n",
       "    </tr>\n",
       "    <tr>\n",
       "      <th>5671</th>\n",
       "      <td>0.250164</td>\n",
       "      <td>0.736285</td>\n",
       "      <td>0.067915</td>\n",
       "    </tr>\n",
       "    <tr>\n",
       "      <th>5672</th>\n",
       "      <td>0.250245</td>\n",
       "      <td>0.736285</td>\n",
       "      <td>0.067917</td>\n",
       "    </tr>\n",
       "    <tr>\n",
       "      <th>5673</th>\n",
       "      <td>0.250327</td>\n",
       "      <td>0.736285</td>\n",
       "      <td>0.067922</td>\n",
       "    </tr>\n",
       "    <tr>\n",
       "      <th>5674</th>\n",
       "      <td>0.250082</td>\n",
       "      <td>0.735322</td>\n",
       "      <td>0.067943</td>\n",
       "    </tr>\n",
       "    <tr>\n",
       "      <th>5675</th>\n",
       "      <td>0.250164</td>\n",
       "      <td>0.735322</td>\n",
       "      <td>0.067943</td>\n",
       "    </tr>\n",
       "    <tr>\n",
       "      <th>5676</th>\n",
       "      <td>0.250246</td>\n",
       "      <td>0.735322</td>\n",
       "      <td>0.067952</td>\n",
       "    </tr>\n",
       "    <tr>\n",
       "      <th>5677</th>\n",
       "      <td>0.250328</td>\n",
       "      <td>0.735322</td>\n",
       "      <td>0.068039</td>\n",
       "    </tr>\n",
       "    <tr>\n",
       "      <th>5678</th>\n",
       "      <td>0.250410</td>\n",
       "      <td>0.735322</td>\n",
       "      <td>0.068055</td>\n",
       "    </tr>\n",
       "    <tr>\n",
       "      <th>5679</th>\n",
       "      <td>0.250164</td>\n",
       "      <td>0.734360</td>\n",
       "      <td>0.068086</td>\n",
       "    </tr>\n",
       "  </tbody>\n",
       "</table>\n",
       "</div>"
      ],
      "text/plain": [
       "          prec    recall         p\n",
       "5670  0.250082  0.736285  0.067912\n",
       "5671  0.250164  0.736285  0.067915\n",
       "5672  0.250245  0.736285  0.067917\n",
       "5673  0.250327  0.736285  0.067922\n",
       "5674  0.250082  0.735322  0.067943\n",
       "5675  0.250164  0.735322  0.067943\n",
       "5676  0.250246  0.735322  0.067952\n",
       "5677  0.250328  0.735322  0.068039\n",
       "5678  0.250410  0.735322  0.068055\n",
       "5679  0.250164  0.734360  0.068086"
      ]
     },
     "execution_count": 115,
     "metadata": {},
     "output_type": "execute_result"
    }
   ],
   "source": [
    "prc[(prc['p'] > 0.0679) & (prc['p'] < 0.0681)]"
   ]
  },
  {
   "cell_type": "markdown",
   "metadata": {},
   "source": [
    "### CONOR's complex data"
   ]
  },
  {
   "cell_type": "code",
   "execution_count": 3,
   "metadata": {},
   "outputs": [],
   "source": [
    "lgbm = read_csv(\"./data/lightgbm_test_full_results.csv\")"
   ]
  },
  {
   "cell_type": "code",
   "execution_count": 6,
   "metadata": {},
   "outputs": [],
   "source": [
    "precision, recall, pr_thresholds = precision_recall_curve(lgbm['label'], lgbm['predictions'])"
   ]
  },
  {
   "cell_type": "code",
   "execution_count": 9,
   "metadata": {},
   "outputs": [],
   "source": [
    "prc_lgbm = pd.DataFrame({'prec':precision[:-1], \"recall\": recall[:-1], 'p': pr_thresholds})\n",
    "prc_lgbm.to_csv(r'./data/prc_lgbm.csv', index = False)"
   ]
  },
  {
   "cell_type": "code",
   "execution_count": 19,
   "metadata": {},
   "outputs": [
    {
     "data": {
      "text/html": [
       "<div>\n",
       "<style scoped>\n",
       "    .dataframe tbody tr th:only-of-type {\n",
       "        vertical-align: middle;\n",
       "    }\n",
       "\n",
       "    .dataframe tbody tr th {\n",
       "        vertical-align: top;\n",
       "    }\n",
       "\n",
       "    .dataframe thead th {\n",
       "        text-align: right;\n",
       "    }\n",
       "</style>\n",
       "<table border=\"1\" class=\"dataframe\">\n",
       "  <thead>\n",
       "    <tr style=\"text-align: right;\">\n",
       "      <th></th>\n",
       "      <th>prec</th>\n",
       "      <th>recall</th>\n",
       "      <th>p</th>\n",
       "    </tr>\n",
       "  </thead>\n",
       "  <tbody>\n",
       "    <tr>\n",
       "      <th>5733</th>\n",
       "      <td>0.295040</td>\n",
       "      <td>0.795904</td>\n",
       "      <td>0.101614</td>\n",
       "    </tr>\n",
       "    <tr>\n",
       "      <th>5734</th>\n",
       "      <td>0.295115</td>\n",
       "      <td>0.795904</td>\n",
       "      <td>0.101618</td>\n",
       "    </tr>\n",
       "    <tr>\n",
       "      <th>5735</th>\n",
       "      <td>0.295190</td>\n",
       "      <td>0.795904</td>\n",
       "      <td>0.101726</td>\n",
       "    </tr>\n",
       "    <tr>\n",
       "      <th>5736</th>\n",
       "      <td>0.295011</td>\n",
       "      <td>0.795222</td>\n",
       "      <td>0.101736</td>\n",
       "    </tr>\n",
       "    <tr>\n",
       "      <th>5737</th>\n",
       "      <td>0.295086</td>\n",
       "      <td>0.795222</td>\n",
       "      <td>0.101745</td>\n",
       "    </tr>\n",
       "    <tr>\n",
       "      <th>5738</th>\n",
       "      <td>0.295161</td>\n",
       "      <td>0.795222</td>\n",
       "      <td>0.101778</td>\n",
       "    </tr>\n",
       "    <tr>\n",
       "      <th>5739</th>\n",
       "      <td>0.295236</td>\n",
       "      <td>0.795222</td>\n",
       "      <td>0.101794</td>\n",
       "    </tr>\n",
       "    <tr>\n",
       "      <th>5740</th>\n",
       "      <td>0.295311</td>\n",
       "      <td>0.795222</td>\n",
       "      <td>0.101814</td>\n",
       "    </tr>\n",
       "    <tr>\n",
       "      <th>5741</th>\n",
       "      <td>0.295385</td>\n",
       "      <td>0.795222</td>\n",
       "      <td>0.101824</td>\n",
       "    </tr>\n",
       "    <tr>\n",
       "      <th>5742</th>\n",
       "      <td>0.295460</td>\n",
       "      <td>0.795222</td>\n",
       "      <td>0.101827</td>\n",
       "    </tr>\n",
       "    <tr>\n",
       "      <th>5743</th>\n",
       "      <td>0.295535</td>\n",
       "      <td>0.795222</td>\n",
       "      <td>0.101888</td>\n",
       "    </tr>\n",
       "  </tbody>\n",
       "</table>\n",
       "</div>"
      ],
      "text/plain": [
       "          prec    recall         p\n",
       "5733  0.295040  0.795904  0.101614\n",
       "5734  0.295115  0.795904  0.101618\n",
       "5735  0.295190  0.795904  0.101726\n",
       "5736  0.295011  0.795222  0.101736\n",
       "5737  0.295086  0.795222  0.101745\n",
       "5738  0.295161  0.795222  0.101778\n",
       "5739  0.295236  0.795222  0.101794\n",
       "5740  0.295311  0.795222  0.101814\n",
       "5741  0.295385  0.795222  0.101824\n",
       "5742  0.295460  0.795222  0.101827\n",
       "5743  0.295535  0.795222  0.101888"
      ]
     },
     "execution_count": 19,
     "metadata": {},
     "output_type": "execute_result"
    }
   ],
   "source": [
    "prc_lgbm[(prc_lgbm['prec'] > 0.295) & (prc_lgbm['recall'] > 0.795)] # \n",
    "# prc_lgbm[(prc_lgbm['prec'] > 0.25)] # 218\n",
    "# prc_lgbm[(prc_lgbm['prec'] > 0.20) & (prc['recall'] > 0.86)].head() # threshold 0.06"
   ]
  },
  {
   "cell_type": "code",
   "execution_count": 21,
   "metadata": {},
   "outputs": [
    {
     "data": {
      "text/html": [
       "<div>\n",
       "<style scoped>\n",
       "    .dataframe tbody tr th:only-of-type {\n",
       "        vertical-align: middle;\n",
       "    }\n",
       "\n",
       "    .dataframe tbody tr th {\n",
       "        vertical-align: top;\n",
       "    }\n",
       "\n",
       "    .dataframe thead th {\n",
       "        text-align: right;\n",
       "    }\n",
       "</style>\n",
       "<table border=\"1\" class=\"dataframe\">\n",
       "  <thead>\n",
       "    <tr style=\"text-align: right;\">\n",
       "      <th></th>\n",
       "      <th>prec</th>\n",
       "      <th>recall</th>\n",
       "      <th>p</th>\n",
       "    </tr>\n",
       "  </thead>\n",
       "  <tbody>\n",
       "    <tr>\n",
       "      <th>5720</th>\n",
       "      <td>0.294073</td>\n",
       "      <td>0.795904</td>\n",
       "      <td>0.101199</td>\n",
       "    </tr>\n",
       "    <tr>\n",
       "      <th>5721</th>\n",
       "      <td>0.294147</td>\n",
       "      <td>0.795904</td>\n",
       "      <td>0.101239</td>\n",
       "    </tr>\n",
       "    <tr>\n",
       "      <th>5722</th>\n",
       "      <td>0.294222</td>\n",
       "      <td>0.795904</td>\n",
       "      <td>0.101253</td>\n",
       "    </tr>\n",
       "    <tr>\n",
       "      <th>5723</th>\n",
       "      <td>0.294296</td>\n",
       "      <td>0.795904</td>\n",
       "      <td>0.101257</td>\n",
       "    </tr>\n",
       "    <tr>\n",
       "      <th>5724</th>\n",
       "      <td>0.294370</td>\n",
       "      <td>0.795904</td>\n",
       "      <td>0.101310</td>\n",
       "    </tr>\n",
       "    <tr>\n",
       "      <th>5725</th>\n",
       "      <td>0.294444</td>\n",
       "      <td>0.795904</td>\n",
       "      <td>0.101321</td>\n",
       "    </tr>\n",
       "    <tr>\n",
       "      <th>5726</th>\n",
       "      <td>0.294519</td>\n",
       "      <td>0.795904</td>\n",
       "      <td>0.101362</td>\n",
       "    </tr>\n",
       "    <tr>\n",
       "      <th>5727</th>\n",
       "      <td>0.294593</td>\n",
       "      <td>0.795904</td>\n",
       "      <td>0.101459</td>\n",
       "    </tr>\n",
       "    <tr>\n",
       "      <th>5728</th>\n",
       "      <td>0.294668</td>\n",
       "      <td>0.795904</td>\n",
       "      <td>0.101476</td>\n",
       "    </tr>\n",
       "    <tr>\n",
       "      <th>5729</th>\n",
       "      <td>0.294742</td>\n",
       "      <td>0.795904</td>\n",
       "      <td>0.101489</td>\n",
       "    </tr>\n",
       "    <tr>\n",
       "      <th>5730</th>\n",
       "      <td>0.294817</td>\n",
       "      <td>0.795904</td>\n",
       "      <td>0.101513</td>\n",
       "    </tr>\n",
       "    <tr>\n",
       "      <th>5731</th>\n",
       "      <td>0.294891</td>\n",
       "      <td>0.795904</td>\n",
       "      <td>0.101525</td>\n",
       "    </tr>\n",
       "    <tr>\n",
       "      <th>5732</th>\n",
       "      <td>0.294966</td>\n",
       "      <td>0.795904</td>\n",
       "      <td>0.101584</td>\n",
       "    </tr>\n",
       "    <tr>\n",
       "      <th>5733</th>\n",
       "      <td>0.295040</td>\n",
       "      <td>0.795904</td>\n",
       "      <td>0.101614</td>\n",
       "    </tr>\n",
       "    <tr>\n",
       "      <th>5734</th>\n",
       "      <td>0.295115</td>\n",
       "      <td>0.795904</td>\n",
       "      <td>0.101618</td>\n",
       "    </tr>\n",
       "    <tr>\n",
       "      <th>5735</th>\n",
       "      <td>0.295190</td>\n",
       "      <td>0.795904</td>\n",
       "      <td>0.101726</td>\n",
       "    </tr>\n",
       "    <tr>\n",
       "      <th>5736</th>\n",
       "      <td>0.295011</td>\n",
       "      <td>0.795222</td>\n",
       "      <td>0.101736</td>\n",
       "    </tr>\n",
       "    <tr>\n",
       "      <th>5737</th>\n",
       "      <td>0.295086</td>\n",
       "      <td>0.795222</td>\n",
       "      <td>0.101745</td>\n",
       "    </tr>\n",
       "    <tr>\n",
       "      <th>5738</th>\n",
       "      <td>0.295161</td>\n",
       "      <td>0.795222</td>\n",
       "      <td>0.101778</td>\n",
       "    </tr>\n",
       "    <tr>\n",
       "      <th>5739</th>\n",
       "      <td>0.295236</td>\n",
       "      <td>0.795222</td>\n",
       "      <td>0.101794</td>\n",
       "    </tr>\n",
       "    <tr>\n",
       "      <th>5740</th>\n",
       "      <td>0.295311</td>\n",
       "      <td>0.795222</td>\n",
       "      <td>0.101814</td>\n",
       "    </tr>\n",
       "    <tr>\n",
       "      <th>5741</th>\n",
       "      <td>0.295385</td>\n",
       "      <td>0.795222</td>\n",
       "      <td>0.101824</td>\n",
       "    </tr>\n",
       "    <tr>\n",
       "      <th>5742</th>\n",
       "      <td>0.295460</td>\n",
       "      <td>0.795222</td>\n",
       "      <td>0.101827</td>\n",
       "    </tr>\n",
       "    <tr>\n",
       "      <th>5743</th>\n",
       "      <td>0.295535</td>\n",
       "      <td>0.795222</td>\n",
       "      <td>0.101888</td>\n",
       "    </tr>\n",
       "    <tr>\n",
       "      <th>5744</th>\n",
       "      <td>0.295357</td>\n",
       "      <td>0.794539</td>\n",
       "      <td>0.101901</td>\n",
       "    </tr>\n",
       "    <tr>\n",
       "      <th>5745</th>\n",
       "      <td>0.295431</td>\n",
       "      <td>0.794539</td>\n",
       "      <td>0.101919</td>\n",
       "    </tr>\n",
       "    <tr>\n",
       "      <th>5746</th>\n",
       "      <td>0.295506</td>\n",
       "      <td>0.794539</td>\n",
       "      <td>0.101970</td>\n",
       "    </tr>\n",
       "    <tr>\n",
       "      <th>5747</th>\n",
       "      <td>0.295582</td>\n",
       "      <td>0.794539</td>\n",
       "      <td>0.101987</td>\n",
       "    </tr>\n",
       "    <tr>\n",
       "      <th>5748</th>\n",
       "      <td>0.295657</td>\n",
       "      <td>0.794539</td>\n",
       "      <td>0.101992</td>\n",
       "    </tr>\n",
       "    <tr>\n",
       "      <th>5749</th>\n",
       "      <td>0.295732</td>\n",
       "      <td>0.794539</td>\n",
       "      <td>0.102058</td>\n",
       "    </tr>\n",
       "  </tbody>\n",
       "</table>\n",
       "</div>"
      ],
      "text/plain": [
       "          prec    recall         p\n",
       "5720  0.294073  0.795904  0.101199\n",
       "5721  0.294147  0.795904  0.101239\n",
       "5722  0.294222  0.795904  0.101253\n",
       "5723  0.294296  0.795904  0.101257\n",
       "5724  0.294370  0.795904  0.101310\n",
       "5725  0.294444  0.795904  0.101321\n",
       "5726  0.294519  0.795904  0.101362\n",
       "5727  0.294593  0.795904  0.101459\n",
       "5728  0.294668  0.795904  0.101476\n",
       "5729  0.294742  0.795904  0.101489\n",
       "5730  0.294817  0.795904  0.101513\n",
       "5731  0.294891  0.795904  0.101525\n",
       "5732  0.294966  0.795904  0.101584\n",
       "5733  0.295040  0.795904  0.101614\n",
       "5734  0.295115  0.795904  0.101618\n",
       "5735  0.295190  0.795904  0.101726\n",
       "5736  0.295011  0.795222  0.101736\n",
       "5737  0.295086  0.795222  0.101745\n",
       "5738  0.295161  0.795222  0.101778\n",
       "5739  0.295236  0.795222  0.101794\n",
       "5740  0.295311  0.795222  0.101814\n",
       "5741  0.295385  0.795222  0.101824\n",
       "5742  0.295460  0.795222  0.101827\n",
       "5743  0.295535  0.795222  0.101888\n",
       "5744  0.295357  0.794539  0.101901\n",
       "5745  0.295431  0.794539  0.101919\n",
       "5746  0.295506  0.794539  0.101970\n",
       "5747  0.295582  0.794539  0.101987\n",
       "5748  0.295657  0.794539  0.101992\n",
       "5749  0.295732  0.794539  0.102058"
      ]
     },
     "execution_count": 21,
     "metadata": {},
     "output_type": "execute_result"
    }
   ],
   "source": [
    "prc_lgbm[(prc_lgbm['prec'] > 0.294) & (prc_lgbm['recall'] > 0.794)]"
   ]
  },
  {
   "cell_type": "code",
   "execution_count": 29,
   "metadata": {},
   "outputs": [
    {
     "data": {
      "text/html": [
       "<div>\n",
       "<style scoped>\n",
       "    .dataframe tbody tr th:only-of-type {\n",
       "        vertical-align: middle;\n",
       "    }\n",
       "\n",
       "    .dataframe tbody tr th {\n",
       "        vertical-align: top;\n",
       "    }\n",
       "\n",
       "    .dataframe thead th {\n",
       "        text-align: right;\n",
       "    }\n",
       "</style>\n",
       "<table border=\"1\" class=\"dataframe\">\n",
       "  <thead>\n",
       "    <tr style=\"text-align: right;\">\n",
       "      <th></th>\n",
       "      <th>prec</th>\n",
       "      <th>recall</th>\n",
       "      <th>p</th>\n",
       "    </tr>\n",
       "  </thead>\n",
       "  <tbody>\n",
       "    <tr>\n",
       "      <th>4843</th>\n",
       "      <td>0.260017</td>\n",
       "      <td>0.859386</td>\n",
       "      <td>0.081993</td>\n",
       "    </tr>\n",
       "    <tr>\n",
       "      <th>4844</th>\n",
       "      <td>0.260070</td>\n",
       "      <td>0.859386</td>\n",
       "      <td>0.081997</td>\n",
       "    </tr>\n",
       "    <tr>\n",
       "      <th>4845</th>\n",
       "      <td>0.260124</td>\n",
       "      <td>0.859386</td>\n",
       "      <td>0.081998</td>\n",
       "    </tr>\n",
       "    <tr>\n",
       "      <th>4846</th>\n",
       "      <td>0.260178</td>\n",
       "      <td>0.859386</td>\n",
       "      <td>0.082006</td>\n",
       "    </tr>\n",
       "    <tr>\n",
       "      <th>4847</th>\n",
       "      <td>0.260232</td>\n",
       "      <td>0.859386</td>\n",
       "      <td>0.082018</td>\n",
       "    </tr>\n",
       "    <tr>\n",
       "      <th>...</th>\n",
       "      <td>...</td>\n",
       "      <td>...</td>\n",
       "      <td>...</td>\n",
       "    </tr>\n",
       "    <tr>\n",
       "      <th>4955</th>\n",
       "      <td>0.263636</td>\n",
       "      <td>0.851195</td>\n",
       "      <td>0.084423</td>\n",
       "    </tr>\n",
       "    <tr>\n",
       "      <th>4956</th>\n",
       "      <td>0.263481</td>\n",
       "      <td>0.850512</td>\n",
       "      <td>0.084457</td>\n",
       "    </tr>\n",
       "    <tr>\n",
       "      <th>4957</th>\n",
       "      <td>0.263536</td>\n",
       "      <td>0.850512</td>\n",
       "      <td>0.084460</td>\n",
       "    </tr>\n",
       "    <tr>\n",
       "      <th>4958</th>\n",
       "      <td>0.263592</td>\n",
       "      <td>0.850512</td>\n",
       "      <td>0.084460</td>\n",
       "    </tr>\n",
       "    <tr>\n",
       "      <th>4959</th>\n",
       "      <td>0.263648</td>\n",
       "      <td>0.850512</td>\n",
       "      <td>0.084486</td>\n",
       "    </tr>\n",
       "  </tbody>\n",
       "</table>\n",
       "<p>112 rows × 3 columns</p>\n",
       "</div>"
      ],
      "text/plain": [
       "          prec    recall         p\n",
       "4843  0.260017  0.859386  0.081993\n",
       "4844  0.260070  0.859386  0.081997\n",
       "4845  0.260124  0.859386  0.081998\n",
       "4846  0.260178  0.859386  0.082006\n",
       "4847  0.260232  0.859386  0.082018\n",
       "...        ...       ...       ...\n",
       "4955  0.263636  0.851195  0.084423\n",
       "4956  0.263481  0.850512  0.084457\n",
       "4957  0.263536  0.850512  0.084460\n",
       "4958  0.263592  0.850512  0.084460\n",
       "4959  0.263648  0.850512  0.084486\n",
       "\n",
       "[112 rows x 3 columns]"
      ]
     },
     "execution_count": 29,
     "metadata": {},
     "output_type": "execute_result"
    }
   ],
   "source": [
    "prc_lgbm[(prc_lgbm['prec'] > 0.26) & (prc_lgbm['recall'] > 0.85)]"
   ]
  }
 ],
 "metadata": {
  "environment": {
   "name": "r-cpu.4-0.m71",
   "type": "gcloud",
   "uri": "gcr.io/deeplearning-platform-release/r-cpu.4-0:m71"
  },
  "kernelspec": {
   "display_name": "Python 3",
   "language": "python",
   "name": "python3"
  },
  "language_info": {
   "codemirror_mode": {
    "name": "ipython",
    "version": 3
   },
   "file_extension": ".py",
   "mimetype": "text/x-python",
   "name": "python",
   "nbconvert_exporter": "python",
   "pygments_lexer": "ipython3",
   "version": "3.7.10"
  }
 },
 "nbformat": 4,
 "nbformat_minor": 4
}
