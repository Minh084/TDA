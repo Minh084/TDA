{
 "cells": [
  {
   "cell_type": "markdown",
   "metadata": {},
   "source": [
    "### Descriptions:\n",
    "\n",
    "**Main**: inclusion/exclusion criteria\n",
    "- have inpatient ID, Hospital encounters\n",
    "- full code status only (no other code prior to or within 24 hr since admission)\n",
    "- 18 years and older\n",
    "- when processing other features, will exclude a few more, mainly those without a complete set of vitals\n",
    "- add other unprocessed variables from demographics table\n",
    "\n",
    "**Inputs**: \n",
    "- *cohort0* (original init cohort): check years of admission 2015 - 2020\n",
    "- *encounter* (from SQL) : join with  table to get ESI and inpatient ID information\n",
    "- *code_status* (from SQL): exclude patients who have any order for EXISTING code status that is not full prior to and within 24hrs after inpatient admission (even if code was cancelled later)\n",
    "- *demographic*: exclude patients who are < 18 year old\n",
    "\n",
    "**Outputs**: \n",
    "- **cohort1_criteria**\n",
    "--> this cohort is sent to Tiffany for label processing\n",
    "\n",
    "OLD -- Modify original's cohort with admit time (UTC) from order_proc and code status. --> Admit time is the earlier from either \"Admit to Inpatient\" order time from the order_proc table, or from effective time from adt table. When admit time from order_proc is NA, take admit time from ADT table, always available. "
   ]
  },
  {
   "cell_type": "markdown",
   "metadata": {},
   "source": [
    "### Importing R libraries"
   ]
  },
  {
   "cell_type": "code",
   "execution_count": 5,
   "metadata": {
    "ExecuteTime": {
     "end_time": "2020-05-21T00:38:06.078240Z",
     "start_time": "2020-05-21T00:38:02.778Z"
    }
   },
   "outputs": [
    {
     "name": "stderr",
     "output_type": "stream",
     "text": [
      "Loading required package: lattice\n",
      "\n",
      "Loading required package: ggplot2\n",
      "\n",
      "── \u001b[1mAttaching packages\u001b[22m ─────────────────────────────────────── tidyverse 1.3.1 ──\n",
      "\n",
      "\u001b[32m✔\u001b[39m \u001b[34mtibble \u001b[39m 3.1.2     \u001b[32m✔\u001b[39m \u001b[34mdplyr  \u001b[39m 1.0.6\n",
      "\u001b[32m✔\u001b[39m \u001b[34mtidyr  \u001b[39m 1.1.3     \u001b[32m✔\u001b[39m \u001b[34mstringr\u001b[39m 1.4.0\n",
      "\u001b[32m✔\u001b[39m \u001b[34mreadr  \u001b[39m 1.4.0     \u001b[32m✔\u001b[39m \u001b[34mforcats\u001b[39m 0.5.1\n",
      "\u001b[32m✔\u001b[39m \u001b[34mpurrr  \u001b[39m 0.3.4     \n",
      "\n",
      "── \u001b[1mConflicts\u001b[22m ────────────────────────────────────────── tidyverse_conflicts() ──\n",
      "\u001b[31m✖\u001b[39m \u001b[34mdplyr\u001b[39m::\u001b[32mbetween()\u001b[39m   masks \u001b[34mdata.table\u001b[39m::between()\n",
      "\u001b[31m✖\u001b[39m \u001b[34mdplyr\u001b[39m::\u001b[32mfilter()\u001b[39m    masks \u001b[34mstats\u001b[39m::filter()\n",
      "\u001b[31m✖\u001b[39m \u001b[34mdplyr\u001b[39m::\u001b[32mfirst()\u001b[39m     masks \u001b[34mdata.table\u001b[39m::first()\n",
      "\u001b[31m✖\u001b[39m \u001b[34mdplyr\u001b[39m::\u001b[32mlag()\u001b[39m       masks \u001b[34mstats\u001b[39m::lag()\n",
      "\u001b[31m✖\u001b[39m \u001b[34mdplyr\u001b[39m::\u001b[32mlast()\u001b[39m      masks \u001b[34mdata.table\u001b[39m::last()\n",
      "\u001b[31m✖\u001b[39m \u001b[34mpurrr\u001b[39m::\u001b[32mlift()\u001b[39m      masks \u001b[34mcaret\u001b[39m::lift()\n",
      "\u001b[31m✖\u001b[39m \u001b[34mdplyr\u001b[39m::\u001b[32mslice()\u001b[39m     masks \u001b[34mxgboost\u001b[39m::slice()\n",
      "\u001b[31m✖\u001b[39m \u001b[34mpurrr\u001b[39m::\u001b[32mtranspose()\u001b[39m masks \u001b[34mdata.table\u001b[39m::transpose()\n",
      "\n",
      "\n",
      "Attaching package: ‘lubridate’\n",
      "\n",
      "\n",
      "The following objects are masked from ‘package:data.table’:\n",
      "\n",
      "    hour, isoweek, mday, minute, month, quarter, second, wday, week,\n",
      "    yday, year\n",
      "\n",
      "\n",
      "The following objects are masked from ‘package:base’:\n",
      "\n",
      "    date, intersect, setdiff, union\n",
      "\n",
      "\n",
      "\n",
      "Attaching package: ‘Matrix’\n",
      "\n",
      "\n",
      "The following objects are masked from ‘package:tidyr’:\n",
      "\n",
      "    expand, pack, unpack\n",
      "\n",
      "\n",
      "Loaded glmnet 4.1-1\n",
      "\n",
      "Loading required package: bit\n",
      "\n",
      "\n",
      "Attaching package: ‘bit’\n",
      "\n",
      "\n",
      "The following object is masked from ‘package:data.table’:\n",
      "\n",
      "    setattr\n",
      "\n",
      "\n",
      "The following object is masked from ‘package:base’:\n",
      "\n",
      "    xor\n",
      "\n",
      "\n",
      "Attaching package bit64\n",
      "\n",
      "package:bit64 (c) 2011-2017 Jens Oehlschlaegel\n",
      "\n",
      "creators: integer64 runif64 seq :\n",
      "\n",
      "coercion: as.integer64 as.vector as.logical as.integer as.double as.character as.bitstring\n",
      "\n",
      "logical operator: ! & | xor != == < <= >= >\n",
      "\n",
      "arithmetic operator: + - * / %/% %% ^\n",
      "\n",
      "math: sign abs sqrt log log2 log10\n",
      "\n",
      "math: floor ceiling trunc round\n",
      "\n",
      "querying: is.integer64 is.vector [is.atomic} [length] format print str\n",
      "\n",
      "values: is.na is.nan is.finite is.infinite\n",
      "\n",
      "aggregation: any all min max range sum prod\n",
      "\n",
      "cumulation: diff cummin cummax cumsum cumprod\n",
      "\n",
      "access: length<- [ [<- [[ [[<-\n",
      "\n",
      "combine: c rep cbind rbind as.data.frame\n",
      "\n",
      "WARNING don't use as subscripts\n",
      "\n",
      "WARNING semantics differ from integer\n",
      "\n",
      "for more help type ?bit64\n",
      "\n",
      "\n",
      "Attaching package: ‘bit64’\n",
      "\n",
      "\n",
      "The following objects are masked from ‘package:base’:\n",
      "\n",
      "    :, %in%, is.double, match, order, rank\n",
      "\n",
      "\n",
      "\n",
      "Attaching package: ‘mice’\n",
      "\n",
      "\n",
      "The following object is masked from ‘package:stats’:\n",
      "\n",
      "    filter\n",
      "\n",
      "\n",
      "The following objects are masked from ‘package:base’:\n",
      "\n",
      "    cbind, rbind\n",
      "\n",
      "\n"
     ]
    }
   ],
   "source": [
    "library(caret) # import this before glmnet to avoid rlang version problem\n",
    "library(xgboost)\n",
    "library(data.table)\n",
    "library(tidyverse)\n",
    "library(lubridate)\n",
    "library(Matrix)\n",
    "# library(slam)\n",
    "library(glmnet)\n",
    "library(bit64)\n",
    "# library(mtools) for one hot coder, not available on Nero or use caret or tidyr\n",
    "library(mice)\n",
    "options(repr.matrix.max.rows=200, repr.matrix.max.cols=30)"
   ]
  },
  {
   "cell_type": "markdown",
   "metadata": {},
   "source": [
    "### shc_core\n",
    "* Use init cohort, with admit_time (this is the effective time < event time for admission) from adt table\n",
    "* No longer checking for admission order from order_proc because these orders don't have the level of care\n",
    "* Get inpatient id and acuity_level = ESI from encounter table\n",
    "* Keep patients with FULL CODE status and >=18 year old\n",
    "* Keep aptients with admit years from 2015 - 2020"
   ]
  },
  {
   "cell_type": "code",
   "execution_count": 1,
   "metadata": {},
   "outputs": [
    {
     "data": {
      "text/html": [
       "55383"
      ],
      "text/latex": [
       "55383"
      ],
      "text/markdown": [
       "55383"
      ],
      "text/plain": [
       "[1] 55383"
      ]
     },
     "metadata": {},
     "output_type": "display_data"
    },
    {
     "data": {
      "text/html": [
       "<style>\n",
       ".list-inline {list-style: none; margin:0; padding: 0}\n",
       ".list-inline>li {display: inline-block}\n",
       ".list-inline>li:not(:last-child)::after {content: \"\\00b7\"; padding: 0 .5ex}\n",
       "</style>\n",
       "<ol class=list-inline><li>'anon_id'</li><li>'pat_enc_csn_id_coded'</li><li>'admit_time_jittered'</li><li>'label'</li></ol>\n"
      ],
      "text/latex": [
       "\\begin{enumerate*}\n",
       "\\item 'anon\\_id'\n",
       "\\item 'pat\\_enc\\_csn\\_id\\_coded'\n",
       "\\item 'admit\\_time\\_jittered'\n",
       "\\item 'label'\n",
       "\\end{enumerate*}\n"
      ],
      "text/markdown": [
       "1. 'anon_id'\n",
       "2. 'pat_enc_csn_id_coded'\n",
       "3. 'admit_time_jittered'\n",
       "4. 'label'\n",
       "\n",
       "\n"
      ],
      "text/plain": [
       "[1] \"anon_id\"              \"pat_enc_csn_id_coded\" \"admit_time_jittered\" \n",
       "[4] \"label\"               "
      ]
     },
     "metadata": {},
     "output_type": "display_data"
    },
    {
     "data": {
      "text/html": [
       "55402"
      ],
      "text/latex": [
       "55402"
      ],
      "text/markdown": [
       "55402"
      ],
      "text/plain": [
       "[1] 55402"
      ]
     },
     "metadata": {},
     "output_type": "display_data"
    },
    {
     "data": {
      "text/html": [
       "<style>\n",
       ".list-inline {list-style: none; margin:0; padding: 0}\n",
       ".list-inline>li {display: inline-block}\n",
       ".list-inline>li:not(:last-child)::after {content: \"\\00b7\"; padding: 0 .5ex}\n",
       "</style>\n",
       "<ol class=list-inline><li>'anon_id'</li><li>'pat_enc_csn_id_coded'</li><li>'admit_time_jittered'</li><li>'label'</li></ol>\n"
      ],
      "text/latex": [
       "\\begin{enumerate*}\n",
       "\\item 'anon\\_id'\n",
       "\\item 'pat\\_enc\\_csn\\_id\\_coded'\n",
       "\\item 'admit\\_time\\_jittered'\n",
       "\\item 'label'\n",
       "\\end{enumerate*}\n"
      ],
      "text/markdown": [
       "1. 'anon_id'\n",
       "2. 'pat_enc_csn_id_coded'\n",
       "3. 'admit_time_jittered'\n",
       "4. 'label'\n",
       "\n",
       "\n"
      ],
      "text/plain": [
       "[1] \"anon_id\"              \"pat_enc_csn_id_coded\" \"admit_time_jittered\" \n",
       "[4] \"label\"               "
      ]
     },
     "metadata": {},
     "output_type": "display_data"
    }
   ],
   "source": [
    "# fread here gives data.table, and read.csv gives dataframe\n",
    "# cohort <- as.data.frame(cohort) # if use fread\n",
    "\n",
    "datadir = \"../../DataTD\"\n",
    "\n",
    "cohort0 <- read.csv(file.path(datadir, \"cohort0.csv\"))\n",
    "nrow(cohort0)  #55383\n",
    "colnames(cohort0)\n",
    "\n",
    "cohort0_all <- read.csv(file.path(datadir, \"cohort0_all_anon_ids.csv\"))\n",
    "nrow(cohort0_all) # 55402\n",
    "colnames(cohort0_all)"
   ]
  },
  {
   "cell_type": "code",
   "execution_count": 5,
   "metadata": {},
   "outputs": [
    {
     "data": {
      "text/html": [
       "2685583"
      ],
      "text/latex": [
       "2685583"
      ],
      "text/markdown": [
       "2685583"
      ],
      "text/plain": [
       "[1] 2685583"
      ]
     },
     "metadata": {},
     "output_type": "display_data"
    }
   ],
   "source": [
    "dfer <- read.csv(file.path(datadir, \"dfer.csv\"))\n",
    "nrow(dfer)  \n",
    "# colnames(dfer)"
   ]
  },
  {
   "cell_type": "code",
   "execution_count": 14,
   "metadata": {},
   "outputs": [
    {
     "data": {
      "text/html": [
       "64939"
      ],
      "text/latex": [
       "64939"
      ],
      "text/markdown": [
       "64939"
      ],
      "text/plain": [
       "[1] 64939"
      ]
     },
     "metadata": {},
     "output_type": "display_data"
    }
   ],
   "source": [
    "df <- left_join(cohort0_all, dfer, by = c('anon_id', 'pat_enc_csn_id_coded', 'admit_time_jittered' = 'effective_time_jittered_utc'))\n",
    "nrow(df)"
   ]
  },
  {
   "cell_type": "code",
   "execution_count": 21,
   "metadata": {},
   "outputs": [
    {
     "data": {
      "text/html": [
       "<table class=\"dataframe\">\n",
       "<caption>A grouped_df: 0 × 2</caption>\n",
       "<thead>\n",
       "\t<tr><th scope=col>pat_enc_csn_id_coded</th><th scope=col>n</th></tr>\n",
       "\t<tr><th scope=col>&lt;dbl&gt;</th><th scope=col>&lt;int&gt;</th></tr>\n",
       "</thead>\n",
       "<tbody>\n",
       "</tbody>\n",
       "</table>\n"
      ],
      "text/latex": [
       "A grouped\\_df: 0 × 2\n",
       "\\begin{tabular}{ll}\n",
       " pat\\_enc\\_csn\\_id\\_coded & n\\\\\n",
       " <dbl> & <int>\\\\\n",
       "\\hline\n",
       "\\end{tabular}\n"
      ],
      "text/markdown": [
       "\n",
       "A grouped_df: 0 × 2\n",
       "\n",
       "| pat_enc_csn_id_coded &lt;dbl&gt; | n &lt;int&gt; |\n",
       "|---|---|\n",
       "\n"
      ],
      "text/plain": [
       "     pat_enc_csn_id_coded n"
      ]
     },
     "metadata": {},
     "output_type": "display_data"
    }
   ],
   "source": [
    "cohort0_all %>% group_by(pat_enc_csn_id_coded) %>% \n",
    "                            select(pat_enc_csn_id_coded, anon_id) %>% count() %>% arrange(-n) %>% filter(n>1)"
   ]
  },
  {
   "cell_type": "code",
   "execution_count": 10,
   "metadata": {},
   "outputs": [
    {
     "name": "stderr",
     "output_type": "stream",
     "text": [
      "Joining, by = c(\"anon_id\", \"pat_enc_csn_id_coded\", \"admit_time_jittered\", \"label\")\n",
      "\n"
     ]
    },
    {
     "data": {
      "text/html": [
       "95"
      ],
      "text/latex": [
       "95"
      ],
      "text/markdown": [
       "95"
      ],
      "text/plain": [
       "[1] 95"
      ]
     },
     "metadata": {},
     "output_type": "display_data"
    },
    {
     "name": "stderr",
     "output_type": "stream",
     "text": [
      "Joining, by = c(\"anon_id\", \"pat_enc_csn_id_coded\", \"admit_time_jittered\", \"label\")\n",
      "\n"
     ]
    },
    {
     "data": {
      "text/html": [
       "114"
      ],
      "text/latex": [
       "114"
      ],
      "text/markdown": [
       "114"
      ],
      "text/plain": [
       "[1] 114"
      ]
     },
     "metadata": {},
     "output_type": "display_data"
    },
    {
     "data": {
      "text/html": [
       "95"
      ],
      "text/latex": [
       "95"
      ],
      "text/markdown": [
       "95"
      ],
      "text/plain": [
       "[1] 95"
      ]
     },
     "metadata": {},
     "output_type": "display_data"
    }
   ],
   "source": [
    "nrow(anti_join(cohort0, cohort0_all)) #95\n",
    "nrow(anti_join(cohort0_all, cohort0)) #114\n",
    "sum(!cohort0$pat_enc_csn_id_coded %in% cohort0_all$pat_enc_csn_id_coded)"
   ]
  },
  {
   "cell_type": "code",
   "execution_count": 3,
   "metadata": {},
   "outputs": [
    {
     "data": {
      "text/html": [
       "<style>\n",
       ".list-inline {list-style: none; margin:0; padding: 0}\n",
       ".list-inline>li {display: inline-block}\n",
       ".list-inline>li:not(:last-child)::after {content: \"\\00b7\"; padding: 0 .5ex}\n",
       "</style>\n",
       "<ol class=list-inline><li>2015</li><li>2016</li><li>2017</li><li>2018</li><li>2019</li><li>2020</li></ol>\n"
      ],
      "text/latex": [
       "\\begin{enumerate*}\n",
       "\\item 2015\n",
       "\\item 2016\n",
       "\\item 2017\n",
       "\\item 2018\n",
       "\\item 2019\n",
       "\\item 2020\n",
       "\\end{enumerate*}\n"
      ],
      "text/markdown": [
       "1. 2015\n",
       "2. 2016\n",
       "3. 2017\n",
       "4. 2018\n",
       "5. 2019\n",
       "6. 2020\n",
       "\n",
       "\n"
      ],
      "text/plain": [
       "[1] 2015 2016 2017 2018 2019 2020"
      ]
     },
     "metadata": {},
     "output_type": "display_data"
    },
    {
     "data": {
      "text/html": [
       "0"
      ],
      "text/latex": [
       "0"
      ],
      "text/markdown": [
       "0"
      ],
      "text/plain": [
       "[1] 0"
      ]
     },
     "metadata": {},
     "output_type": "display_data"
    }
   ],
   "source": [
    "# Check admit years\n",
    "cohort0 <- cohort0 %>% mutate(admit_time = ymd_hms(admit_time_jittered), \n",
    "                              adm_year = year(admit_time))\n",
    "unique(cohort0$adm_year)\n",
    "nrow(cohort0 %>% filter(adm_year==2021))"
   ]
  },
  {
   "cell_type": "code",
   "execution_count": 4,
   "metadata": {},
   "outputs": [
    {
     "data": {
      "text/html": [
       "55383"
      ],
      "text/latex": [
       "55383"
      ],
      "text/markdown": [
       "55383"
      ],
      "text/plain": [
       "[1] 55383"
      ]
     },
     "metadata": {},
     "output_type": "display_data"
    }
   ],
   "source": [
    "# remove patients with admit year 2021\n",
    "# rename the label as max level of care at 24 hour\n",
    "# change to date_time, but when saved, it goes back to factor!\n",
    "cohort0 <- cohort0 %>% mutate(admit_time = ymd_hms(admit_time_jittered), \n",
    "                              adm_year = year(admit_time)) %>% \n",
    "                        select(-c(admit_time_jittered, adm_year)) \n",
    "nrow(cohort0) #52298 without 2020"
   ]
  },
  {
   "cell_type": "code",
   "execution_count": 5,
   "metadata": {},
   "outputs": [
    {
     "data": {
      "text/html": [
       "36287"
      ],
      "text/latex": [
       "36287"
      ],
      "text/markdown": [
       "36287"
      ],
      "text/plain": [
       "[1] 36287"
      ]
     },
     "metadata": {},
     "output_type": "display_data"
    },
    {
     "data": {
      "text/html": [
       "55383"
      ],
      "text/latex": [
       "55383"
      ],
      "text/markdown": [
       "55383"
      ],
      "text/plain": [
       "[1] 55383"
      ]
     },
     "metadata": {},
     "output_type": "display_data"
    },
    {
     "data": {
      "text/html": [
       "55383"
      ],
      "text/latex": [
       "55383"
      ],
      "text/markdown": [
       "55383"
      ],
      "text/plain": [
       "[1] 55383"
      ]
     },
     "metadata": {},
     "output_type": "display_data"
    }
   ],
   "source": [
    "# 1 MRN (patient) can have multiple CSN (visits/encounters)\n",
    "# but 1 CSN is associated with 1 MRN, might not true for the whole EHR data\n",
    "\n",
    "nrow(cohort0 %>% distinct(anon_id))\n",
    "nrow(cohort0 %>% distinct(pat_enc_csn_id_coded))\n",
    "nrow(cohort0 %>% distinct(anon_id, pat_enc_csn_id_coded))\n",
    "# nrow(cohort0 %>% group_by(anon_id, pat_enc_csn_id_coded, inpatient_data_id_coded) %>% unique()) # unique rows"
   ]
  },
  {
   "cell_type": "code",
   "execution_count": 6,
   "metadata": {},
   "outputs": [
    {
     "data": {
      "text/html": [
       "36287"
      ],
      "text/latex": [
       "36287"
      ],
      "text/markdown": [
       "36287"
      ],
      "text/plain": [
       "[1] 36287"
      ]
     },
     "metadata": {},
     "output_type": "display_data"
    },
    {
     "data": {
      "text/plain": [
       "   Min. 1st Qu.  Median    Mean 3rd Qu.    Max. \n",
       "  1.000   1.000   1.000   1.526   2.000  41.000 "
      ]
     },
     "metadata": {},
     "output_type": "display_data"
    },
    {
     "data": {
      "image/png": "[encoded data removed]",
      "text/plain": [
       "Plot with title “Histogram of cohort0_count[cohort0_count$csn > 1, ]$csn”"
      ]
     },
     "metadata": {
      "image/png": {
       "height": 420,
       "width": 420
      }
     },
     "output_type": "display_data"
    }
   ],
   "source": [
    "# count how many visits/csn each MRN (anon_id) has\n",
    "cohort0_count <- cohort0 %>% count(anon_id, sort = TRUE, name = 'csn')\n",
    "nrow(cohort0_count)\n",
    "summary(cohort0_count$csn)\n",
    "\n",
    "# display histogram of freq of patients who have more than 1 visit\n",
    "hist(cohort0_count[cohort0_count$csn >1, ]$csn, breaks=38, col=\"powderblue\")"
   ]
  },
  {
   "cell_type": "code",
   "execution_count": 7,
   "metadata": {},
   "outputs": [
    {
     "data": {
      "text/html": [
       "<table class=\"dataframe\">\n",
       "<caption>A data.frame: 6 × 2</caption>\n",
       "<thead>\n",
       "\t<tr><th></th><th scope=col>anon_id</th><th scope=col>csn</th></tr>\n",
       "\t<tr><th></th><th scope=col>&lt;chr&gt;</th><th scope=col>&lt;int&gt;</th></tr>\n",
       "</thead>\n",
       "<tbody>\n",
       "\t<tr><th scope=row>1</th><td>JCe8f38d </td><td>41</td></tr>\n",
       "\t<tr><th scope=row>2</th><td>JC29fe299</td><td>37</td></tr>\n",
       "\t<tr><th scope=row>3</th><td>JCdc9c9c </td><td>37</td></tr>\n",
       "\t<tr><th scope=row>4</th><td>JC2a0d68b</td><td>36</td></tr>\n",
       "\t<tr><th scope=row>5</th><td>JCdd32fa </td><td>36</td></tr>\n",
       "\t<tr><th scope=row>6</th><td>JCcfe0cb </td><td>31</td></tr>\n",
       "</tbody>\n",
       "</table>\n"
      ],
      "text/latex": [
       "A data.frame: 6 × 2\n",
       "\\begin{tabular}{r|ll}\n",
       "  & anon\\_id & csn\\\\\n",
       "  & <chr> & <int>\\\\\n",
       "\\hline\n",
       "\t1 & JCe8f38d  & 41\\\\\n",
       "\t2 & JC29fe299 & 37\\\\\n",
       "\t3 & JCdc9c9c  & 37\\\\\n",
       "\t4 & JC2a0d68b & 36\\\\\n",
       "\t5 & JCdd32fa  & 36\\\\\n",
       "\t6 & JCcfe0cb  & 31\\\\\n",
       "\\end{tabular}\n"
      ],
      "text/markdown": [
       "\n",
       "A data.frame: 6 × 2\n",
       "\n",
       "| <!--/--> | anon_id &lt;chr&gt; | csn &lt;int&gt; |\n",
       "|---|---|---|\n",
       "| 1 | JCe8f38d  | 41 |\n",
       "| 2 | JC29fe299 | 37 |\n",
       "| 3 | JCdc9c9c  | 37 |\n",
       "| 4 | JC2a0d68b | 36 |\n",
       "| 5 | JCdd32fa  | 36 |\n",
       "| 6 | JCcfe0cb  | 31 |\n",
       "\n"
      ],
      "text/plain": [
       "  anon_id   csn\n",
       "1 JCe8f38d  41 \n",
       "2 JC29fe299 37 \n",
       "3 JCdc9c9c  37 \n",
       "4 JC2a0d68b 36 \n",
       "5 JCdd32fa  36 \n",
       "6 JCcfe0cb  31 "
      ]
     },
     "metadata": {},
     "output_type": "display_data"
    }
   ],
   "source": [
    "head(cohort0_count)"
   ]
  },
  {
   "cell_type": "markdown",
   "metadata": {},
   "source": [
    "### Encounter, hospital, inpatient IDs\n",
    "* This table gives us the inpatient id and ESI level\n",
    "* Either Hospital encounter or empty (NA) type: only keep Hospital Encounter\n",
    "* All Visit type are NA, as this might be more applicable to outpatient encounters\n",
    "* Acuity levels are ESI with some missing (~2200)\n",
    "\n",
    "==> we can remove enc_type and visit_type\n",
    "* Hospital Admission time (such as ED arrival) is probably before the admit time (to inpatient) from order proc\n",
    "* Admit time from init cohort is effective_time_jittered_utc, same as Hospital admission time, all times are UTC"
   ]
  },
  {
   "cell_type": "code",
   "execution_count": 8,
   "metadata": {},
   "outputs": [
    {
     "data": {
      "text/html": [
       "55383"
      ],
      "text/latex": [
       "55383"
      ],
      "text/markdown": [
       "55383"
      ],
      "text/plain": [
       "[1] 55383"
      ]
     },
     "metadata": {},
     "output_type": "display_data"
    }
   ],
   "source": [
    "enc <- read.csv(file.path(datadir, \"encounters.csv\"))\n",
    "nrow(enc)"
   ]
  },
  {
   "cell_type": "code",
   "execution_count": 9,
   "metadata": {},
   "outputs": [
    {
     "data": {
      "text/html": [
       "<table class=\"dataframe\">\n",
       "<caption>A data.frame: 18 × 10</caption>\n",
       "<thead>\n",
       "\t<tr><th scope=col>anon_id</th><th scope=col>pat_enc_csn_id_coded</th><th scope=col>admit_time_jittered</th><th scope=col>label</th><th scope=col>inpatient_data_id_coded</th><th scope=col>enc_type</th><th scope=col>visit_type</th><th scope=col>acuity_level</th><th scope=col>ACUITY_LEVEL_C</th><th scope=col>hosp_admsn_time_jittered_utc</th></tr>\n",
       "\t<tr><th scope=col>&lt;chr&gt;</th><th scope=col>&lt;dbl&gt;</th><th scope=col>&lt;chr&gt;</th><th scope=col>&lt;int&gt;</th><th scope=col>&lt;dbl&gt;</th><th scope=col>&lt;chr&gt;</th><th scope=col>&lt;lgl&gt;</th><th scope=col>&lt;chr&gt;</th><th scope=col>&lt;dbl&gt;</th><th scope=col>&lt;chr&gt;</th></tr>\n",
       "</thead>\n",
       "<tbody>\n",
       "\t<tr><td>JC29fea9e</td><td>131283506890</td><td>2020-03-09 02:48:00+00:00</td><td>0</td><td>NA</td><td></td><td>NA</td><td></td><td>NA</td><td></td></tr>\n",
       "\t<tr><td>JC2a0a75c</td><td>131283296426</td><td>2020-01-13 03:38:00+00:00</td><td>1</td><td>NA</td><td></td><td>NA</td><td></td><td>NA</td><td></td></tr>\n",
       "\t<tr><td>JC2a10dd5</td><td>131287909405</td><td>2020-03-29 07:10:00+00:00</td><td>1</td><td>NA</td><td></td><td>NA</td><td></td><td>NA</td><td></td></tr>\n",
       "\t<tr><td>JC2a305eb</td><td>131283226027</td><td>2020-01-21 03:52:00+00:00</td><td>0</td><td>NA</td><td></td><td>NA</td><td></td><td>NA</td><td></td></tr>\n",
       "\t<tr><td>JCcbba12 </td><td>131287849251</td><td>2020-03-30 16:39:00+00:00</td><td>1</td><td>NA</td><td></td><td>NA</td><td></td><td>NA</td><td></td></tr>\n",
       "\t<tr><td>JCd1fa43 </td><td>131287923845</td><td>2020-03-30 19:34:00+00:00</td><td>0</td><td>NA</td><td></td><td>NA</td><td></td><td>NA</td><td></td></tr>\n",
       "\t<tr><td>JCd2ca79 </td><td>131288033702</td><td>2020-03-31 07:00:00+00:00</td><td>0</td><td>NA</td><td></td><td>NA</td><td></td><td>NA</td><td></td></tr>\n",
       "\t<tr><td>JCd4996e </td><td>131287855587</td><td>2020-03-30 08:20:00+00:00</td><td>0</td><td>NA</td><td></td><td>NA</td><td></td><td>NA</td><td></td></tr>\n",
       "\t<tr><td>JCd58d32 </td><td>131287959043</td><td>2020-03-31 03:24:00+00:00</td><td>0</td><td>NA</td><td></td><td>NA</td><td></td><td>NA</td><td></td></tr>\n",
       "\t<tr><td>JCe16ec2 </td><td>131287908901</td><td>2020-03-28 08:14:00+00:00</td><td>0</td><td>NA</td><td></td><td>NA</td><td></td><td>NA</td><td></td></tr>\n",
       "\t<tr><td>JCe3f331 </td><td>131287919487</td><td>2020-03-30 20:35:00+00:00</td><td>1</td><td>NA</td><td></td><td>NA</td><td></td><td>NA</td><td></td></tr>\n",
       "\t<tr><td>JCe48ee1 </td><td>131287963283</td><td>2020-03-31 07:00:00+00:00</td><td>0</td><td>NA</td><td></td><td>NA</td><td></td><td>NA</td><td></td></tr>\n",
       "\t<tr><td>JCe4c6e9 </td><td>131287851722</td><td>2020-03-29 01:51:00+00:00</td><td>0</td><td>NA</td><td></td><td>NA</td><td></td><td>NA</td><td></td></tr>\n",
       "\t<tr><td>JCe68866 </td><td>131287989292</td><td>2020-03-29 21:31:00+00:00</td><td>0</td><td>NA</td><td></td><td>NA</td><td></td><td>NA</td><td></td></tr>\n",
       "\t<tr><td>JCe78e46 </td><td>131287856560</td><td>2020-03-27 10:36:00+00:00</td><td>0</td><td>NA</td><td></td><td>NA</td><td></td><td>NA</td><td></td></tr>\n",
       "\t<tr><td>JCe8b986 </td><td>131288007119</td><td>2020-03-29 05:09:00+00:00</td><td>1</td><td>NA</td><td></td><td>NA</td><td></td><td>NA</td><td></td></tr>\n",
       "\t<tr><td>JCea60c8 </td><td>131287851262</td><td>2020-03-27 17:43:00+00:00</td><td>0</td><td>NA</td><td></td><td>NA</td><td></td><td>NA</td><td></td></tr>\n",
       "\t<tr><td>JCec0168 </td><td>131287849414</td><td>2020-03-25 20:04:00+00:00</td><td>0</td><td>NA</td><td></td><td>NA</td><td></td><td>NA</td><td></td></tr>\n",
       "</tbody>\n",
       "</table>\n"
      ],
      "text/latex": [
       "A data.frame: 18 × 10\n",
       "\\begin{tabular}{llllllllll}\n",
       " anon\\_id & pat\\_enc\\_csn\\_id\\_coded & admit\\_time\\_jittered & label & inpatient\\_data\\_id\\_coded & enc\\_type & visit\\_type & acuity\\_level & ACUITY\\_LEVEL\\_C & hosp\\_admsn\\_time\\_jittered\\_utc\\\\\n",
       " <chr> & <dbl> & <chr> & <int> & <dbl> & <chr> & <lgl> & <chr> & <dbl> & <chr>\\\\\n",
       "\\hline\n",
       "\t JC29fea9e & 131283506890 & 2020-03-09 02:48:00+00:00 & 0 & NA &  & NA &  & NA & \\\\\n",
       "\t JC2a0a75c & 131283296426 & 2020-01-13 03:38:00+00:00 & 1 & NA &  & NA &  & NA & \\\\\n",
       "\t JC2a10dd5 & 131287909405 & 2020-03-29 07:10:00+00:00 & 1 & NA &  & NA &  & NA & \\\\\n",
       "\t JC2a305eb & 131283226027 & 2020-01-21 03:52:00+00:00 & 0 & NA &  & NA &  & NA & \\\\\n",
       "\t JCcbba12  & 131287849251 & 2020-03-30 16:39:00+00:00 & 1 & NA &  & NA &  & NA & \\\\\n",
       "\t JCd1fa43  & 131287923845 & 2020-03-30 19:34:00+00:00 & 0 & NA &  & NA &  & NA & \\\\\n",
       "\t JCd2ca79  & 131288033702 & 2020-03-31 07:00:00+00:00 & 0 & NA &  & NA &  & NA & \\\\\n",
       "\t JCd4996e  & 131287855587 & 2020-03-30 08:20:00+00:00 & 0 & NA &  & NA &  & NA & \\\\\n",
       "\t JCd58d32  & 131287959043 & 2020-03-31 03:24:00+00:00 & 0 & NA &  & NA &  & NA & \\\\\n",
       "\t JCe16ec2  & 131287908901 & 2020-03-28 08:14:00+00:00 & 0 & NA &  & NA &  & NA & \\\\\n",
       "\t JCe3f331  & 131287919487 & 2020-03-30 20:35:00+00:00 & 1 & NA &  & NA &  & NA & \\\\\n",
       "\t JCe48ee1  & 131287963283 & 2020-03-31 07:00:00+00:00 & 0 & NA &  & NA &  & NA & \\\\\n",
       "\t JCe4c6e9  & 131287851722 & 2020-03-29 01:51:00+00:00 & 0 & NA &  & NA &  & NA & \\\\\n",
       "\t JCe68866  & 131287989292 & 2020-03-29 21:31:00+00:00 & 0 & NA &  & NA &  & NA & \\\\\n",
       "\t JCe78e46  & 131287856560 & 2020-03-27 10:36:00+00:00 & 0 & NA &  & NA &  & NA & \\\\\n",
       "\t JCe8b986  & 131288007119 & 2020-03-29 05:09:00+00:00 & 1 & NA &  & NA &  & NA & \\\\\n",
       "\t JCea60c8  & 131287851262 & 2020-03-27 17:43:00+00:00 & 0 & NA &  & NA &  & NA & \\\\\n",
       "\t JCec0168  & 131287849414 & 2020-03-25 20:04:00+00:00 & 0 & NA &  & NA &  & NA & \\\\\n",
       "\\end{tabular}\n"
      ],
      "text/markdown": [
       "\n",
       "A data.frame: 18 × 10\n",
       "\n",
       "| anon_id &lt;chr&gt; | pat_enc_csn_id_coded &lt;dbl&gt; | admit_time_jittered &lt;chr&gt; | label &lt;int&gt; | inpatient_data_id_coded &lt;dbl&gt; | enc_type &lt;chr&gt; | visit_type &lt;lgl&gt; | acuity_level &lt;chr&gt; | ACUITY_LEVEL_C &lt;dbl&gt; | hosp_admsn_time_jittered_utc &lt;chr&gt; |\n",
       "|---|---|---|---|---|---|---|---|---|---|\n",
       "| JC29fea9e | 131283506890 | 2020-03-09 02:48:00+00:00 | 0 | NA | <!----> | NA | <!----> | NA | <!----> |\n",
       "| JC2a0a75c | 131283296426 | 2020-01-13 03:38:00+00:00 | 1 | NA | <!----> | NA | <!----> | NA | <!----> |\n",
       "| JC2a10dd5 | 131287909405 | 2020-03-29 07:10:00+00:00 | 1 | NA | <!----> | NA | <!----> | NA | <!----> |\n",
       "| JC2a305eb | 131283226027 | 2020-01-21 03:52:00+00:00 | 0 | NA | <!----> | NA | <!----> | NA | <!----> |\n",
       "| JCcbba12  | 131287849251 | 2020-03-30 16:39:00+00:00 | 1 | NA | <!----> | NA | <!----> | NA | <!----> |\n",
       "| JCd1fa43  | 131287923845 | 2020-03-30 19:34:00+00:00 | 0 | NA | <!----> | NA | <!----> | NA | <!----> |\n",
       "| JCd2ca79  | 131288033702 | 2020-03-31 07:00:00+00:00 | 0 | NA | <!----> | NA | <!----> | NA | <!----> |\n",
       "| JCd4996e  | 131287855587 | 2020-03-30 08:20:00+00:00 | 0 | NA | <!----> | NA | <!----> | NA | <!----> |\n",
       "| JCd58d32  | 131287959043 | 2020-03-31 03:24:00+00:00 | 0 | NA | <!----> | NA | <!----> | NA | <!----> |\n",
       "| JCe16ec2  | 131287908901 | 2020-03-28 08:14:00+00:00 | 0 | NA | <!----> | NA | <!----> | NA | <!----> |\n",
       "| JCe3f331  | 131287919487 | 2020-03-30 20:35:00+00:00 | 1 | NA | <!----> | NA | <!----> | NA | <!----> |\n",
       "| JCe48ee1  | 131287963283 | 2020-03-31 07:00:00+00:00 | 0 | NA | <!----> | NA | <!----> | NA | <!----> |\n",
       "| JCe4c6e9  | 131287851722 | 2020-03-29 01:51:00+00:00 | 0 | NA | <!----> | NA | <!----> | NA | <!----> |\n",
       "| JCe68866  | 131287989292 | 2020-03-29 21:31:00+00:00 | 0 | NA | <!----> | NA | <!----> | NA | <!----> |\n",
       "| JCe78e46  | 131287856560 | 2020-03-27 10:36:00+00:00 | 0 | NA | <!----> | NA | <!----> | NA | <!----> |\n",
       "| JCe8b986  | 131288007119 | 2020-03-29 05:09:00+00:00 | 1 | NA | <!----> | NA | <!----> | NA | <!----> |\n",
       "| JCea60c8  | 131287851262 | 2020-03-27 17:43:00+00:00 | 0 | NA | <!----> | NA | <!----> | NA | <!----> |\n",
       "| JCec0168  | 131287849414 | 2020-03-25 20:04:00+00:00 | 0 | NA | <!----> | NA | <!----> | NA | <!----> |\n",
       "\n"
      ],
      "text/plain": [
       "   anon_id   pat_enc_csn_id_coded admit_time_jittered       label\n",
       "1  JC29fea9e 131283506890         2020-03-09 02:48:00+00:00 0    \n",
       "2  JC2a0a75c 131283296426         2020-01-13 03:38:00+00:00 1    \n",
       "3  JC2a10dd5 131287909405         2020-03-29 07:10:00+00:00 1    \n",
       "4  JC2a305eb 131283226027         2020-01-21 03:52:00+00:00 0    \n",
       "5  JCcbba12  131287849251         2020-03-30 16:39:00+00:00 1    \n",
       "6  JCd1fa43  131287923845         2020-03-30 19:34:00+00:00 0    \n",
       "7  JCd2ca79  131288033702         2020-03-31 07:00:00+00:00 0    \n",
       "8  JCd4996e  131287855587         2020-03-30 08:20:00+00:00 0    \n",
       "9  JCd58d32  131287959043         2020-03-31 03:24:00+00:00 0    \n",
       "10 JCe16ec2  131287908901         2020-03-28 08:14:00+00:00 0    \n",
       "11 JCe3f331  131287919487         2020-03-30 20:35:00+00:00 1    \n",
       "12 JCe48ee1  131287963283         2020-03-31 07:00:00+00:00 0    \n",
       "13 JCe4c6e9  131287851722         2020-03-29 01:51:00+00:00 0    \n",
       "14 JCe68866  131287989292         2020-03-29 21:31:00+00:00 0    \n",
       "15 JCe78e46  131287856560         2020-03-27 10:36:00+00:00 0    \n",
       "16 JCe8b986  131288007119         2020-03-29 05:09:00+00:00 1    \n",
       "17 JCea60c8  131287851262         2020-03-27 17:43:00+00:00 0    \n",
       "18 JCec0168  131287849414         2020-03-25 20:04:00+00:00 0    \n",
       "   inpatient_data_id_coded enc_type visit_type acuity_level ACUITY_LEVEL_C\n",
       "1  NA                               NA                      NA            \n",
       "2  NA                               NA                      NA            \n",
       "3  NA                               NA                      NA            \n",
       "4  NA                               NA                      NA            \n",
       "5  NA                               NA                      NA            \n",
       "6  NA                               NA                      NA            \n",
       "7  NA                               NA                      NA            \n",
       "8  NA                               NA                      NA            \n",
       "9  NA                               NA                      NA            \n",
       "10 NA                               NA                      NA            \n",
       "11 NA                               NA                      NA            \n",
       "12 NA                               NA                      NA            \n",
       "13 NA                               NA                      NA            \n",
       "14 NA                               NA                      NA            \n",
       "15 NA                               NA                      NA            \n",
       "16 NA                               NA                      NA            \n",
       "17 NA                               NA                      NA            \n",
       "18 NA                               NA                      NA            \n",
       "   hosp_admsn_time_jittered_utc\n",
       "1                              \n",
       "2                              \n",
       "3                              \n",
       "4                              \n",
       "5                              \n",
       "6                              \n",
       "7                              \n",
       "8                              \n",
       "9                              \n",
       "10                             \n",
       "11                             \n",
       "12                             \n",
       "13                             \n",
       "14                             \n",
       "15                             \n",
       "16                             \n",
       "17                             \n",
       "18                             "
      ]
     },
     "metadata": {},
     "output_type": "display_data"
    }
   ],
   "source": [
    "enc %>% filter(is.na(inpatient_data_id_coded))"
   ]
  },
  {
   "cell_type": "code",
   "execution_count": 10,
   "metadata": {},
   "outputs": [
    {
     "data": {
      "text/html": [
       "<table class=\"dataframe\">\n",
       "<caption>A data.frame: 10 × 2</caption>\n",
       "<thead>\n",
       "\t<tr><th scope=col>var</th><th scope=col>n</th></tr>\n",
       "\t<tr><th scope=col>&lt;chr&gt;</th><th scope=col>&lt;int&gt;</th></tr>\n",
       "</thead>\n",
       "<tbody>\n",
       "\t<tr><td>visit_type                  </td><td>    1</td></tr>\n",
       "\t<tr><td>enc_type                    </td><td>    2</td></tr>\n",
       "\t<tr><td>label                       </td><td>    2</td></tr>\n",
       "\t<tr><td>acuity_level                </td><td>    6</td></tr>\n",
       "\t<tr><td>ACUITY_LEVEL_C              </td><td>    6</td></tr>\n",
       "\t<tr><td>anon_id                     </td><td>36287</td></tr>\n",
       "\t<tr><td>hosp_admsn_time_jittered_utc</td><td>54607</td></tr>\n",
       "\t<tr><td>admit_time_jittered         </td><td>54621</td></tr>\n",
       "\t<tr><td>inpatient_data_id_coded     </td><td>55366</td></tr>\n",
       "\t<tr><td>pat_enc_csn_id_coded        </td><td>55383</td></tr>\n",
       "</tbody>\n",
       "</table>\n"
      ],
      "text/latex": [
       "A data.frame: 10 × 2\n",
       "\\begin{tabular}{ll}\n",
       " var & n\\\\\n",
       " <chr> & <int>\\\\\n",
       "\\hline\n",
       "\t visit\\_type                   &     1\\\\\n",
       "\t enc\\_type                     &     2\\\\\n",
       "\t label                        &     2\\\\\n",
       "\t acuity\\_level                 &     6\\\\\n",
       "\t ACUITY\\_LEVEL\\_C               &     6\\\\\n",
       "\t anon\\_id                      & 36287\\\\\n",
       "\t hosp\\_admsn\\_time\\_jittered\\_utc & 54607\\\\\n",
       "\t admit\\_time\\_jittered          & 54621\\\\\n",
       "\t inpatient\\_data\\_id\\_coded      & 55366\\\\\n",
       "\t pat\\_enc\\_csn\\_id\\_coded         & 55383\\\\\n",
       "\\end{tabular}\n"
      ],
      "text/markdown": [
       "\n",
       "A data.frame: 10 × 2\n",
       "\n",
       "| var &lt;chr&gt; | n &lt;int&gt; |\n",
       "|---|---|\n",
       "| visit_type                   |     1 |\n",
       "| enc_type                     |     2 |\n",
       "| label                        |     2 |\n",
       "| acuity_level                 |     6 |\n",
       "| ACUITY_LEVEL_C               |     6 |\n",
       "| anon_id                      | 36287 |\n",
       "| hosp_admsn_time_jittered_utc | 54607 |\n",
       "| admit_time_jittered          | 54621 |\n",
       "| inpatient_data_id_coded      | 55366 |\n",
       "| pat_enc_csn_id_coded         | 55383 |\n",
       "\n"
      ],
      "text/plain": [
       "   var                          n    \n",
       "1  visit_type                       1\n",
       "2  enc_type                         2\n",
       "3  label                            2\n",
       "4  acuity_level                     6\n",
       "5  ACUITY_LEVEL_C                   6\n",
       "6  anon_id                      36287\n",
       "7  hosp_admsn_time_jittered_utc 54607\n",
       "8  admit_time_jittered          54621\n",
       "9  inpatient_data_id_coded      55366\n",
       "10 pat_enc_csn_id_coded         55383"
      ]
     },
     "metadata": {},
     "output_type": "display_data"
    }
   ],
   "source": [
    "enc %>% gather(var, value) %>% distinct() %>% count(var) %>% arrange(n)"
   ]
  },
  {
   "cell_type": "code",
   "execution_count": 11,
   "metadata": {},
   "outputs": [
    {
     "data": {
      "text/plain": [
       " acuity_level         enc_type         visit_type    \n",
       " Length:55383       Length:55383       Mode:logical  \n",
       " Class :character   Class :character   NA's:55383    \n",
       " Mode  :character   Mode  :character                 "
      ]
     },
     "metadata": {},
     "output_type": "display_data"
    },
    {
     "data": {
      "text/plain": [
       "   Min. 1st Qu.  Median    Mean 3rd Qu.    Max.    NA's \n",
       "  1.000   2.000   3.000   2.641   3.000   5.000    2265 "
      ]
     },
     "metadata": {},
     "output_type": "display_data"
    },
    {
     "data": {
      "text/plain": [
       "$acuity_level\n",
       "\n",
       "                1-Resuscitation      2-Emergent        3-Urgent   4-Semi-Urgent \n",
       "           2265             742           18077           33810             470 \n",
       "   5-Non-Urgent \n",
       "             19 \n",
       "\n",
       "$enc_type\n",
       "\n",
       "                   Hospital Encounter \n",
       "                18              55365 \n",
       "\n",
       "$visit_type\n",
       "< table of extent 0 >\n"
      ]
     },
     "metadata": {},
     "output_type": "display_data"
    }
   ],
   "source": [
    "summary(enc %>% select(acuity_level, enc_type, visit_type))\n",
    "summary(enc$ACUITY_LEVEL_C)\n",
    "# if summary doesn't display, use table\n",
    "apply(enc[c(\"acuity_level\", \"enc_type\", \"visit_type\")], 2, table)"
   ]
  },
  {
   "cell_type": "code",
   "execution_count": 12,
   "metadata": {},
   "outputs": [
    {
     "name": "stderr",
     "output_type": "stream",
     "text": [
      "Joining, by = c(\"anon_id\", \"pat_enc_csn_id_coded\")\n",
      "\n"
     ]
    },
    {
     "data": {
      "text/html": [
       "55365"
      ],
      "text/latex": [
       "55365"
      ],
      "text/markdown": [
       "55365"
      ],
      "text/plain": [
       "[1] 55365"
      ]
     },
     "metadata": {},
     "output_type": "display_data"
    },
    {
     "data": {
      "text/plain": [
       "   Min. 1st Qu.  Median    Mean 3rd Qu.    Max. \n",
       "  0.000   2.250   3.500   4.933   5.333 190.433 "
      ]
     },
     "metadata": {},
     "output_type": "display_data"
    },
    {
     "data": {
      "image/png": "[encoded data removed]",
      "text/plain": [
       "Plot with title “Histogram of cohort_enc$ed_time_hr”"
      ]
     },
     "metadata": {
      "image/png": {
       "height": 420,
       "width": 420
      }
     },
     "output_type": "display_data"
    }
   ],
   "source": [
    "# join the encounter table with cohort table to get the inpatient data id coded\n",
    "# removed those empty encounter type (18), only Hospital Encounter left\n",
    "enc <- enc %>% filter(enc_type == \"Hospital Encounter\") %>%\n",
    "                select(anon_id, pat_enc_csn_id_coded, inpatient_data_id_coded, \n",
    "                       ESI = ACUITY_LEVEL_C, hosp_admsn_time = hosp_admsn_time_jittered_utc) %>% \n",
    "                mutate(hosp_admsn_time = ymd_hms(hosp_admsn_time))\n",
    "\n",
    "cohort_enc <- inner_join(cohort0, enc) %>% \n",
    "            mutate(ed_time_hr = as.numeric(difftime(admit_time, hosp_admsn_time, units =\"hours\")))\n",
    "\n",
    "nrow(cohort_enc) # 18 less\n",
    "summary(cohort_enc$ed_time_hr)\n",
    "hist(cohort_enc$ed_time_hr, xlim=c(0, 20), breaks=300, col=\"blue\")"
   ]
  },
  {
   "cell_type": "markdown",
   "metadata": {},
   "source": [
    "### Code status\n",
    "\n",
    "* Process code status: keep patients whose code status is Full prior to admission or within 24 hour after admission. Otherwise interventions might not match with presentations.\n",
    "* In other words: remove patients whose have a code status not FULL, anytime before admission or within 24 hour after admission \n",
    "* Note that in the display_name, some codes are blank but they are converted to something in description --> use description"
   ]
  },
  {
   "cell_type": "code",
   "execution_count": 13,
   "metadata": {},
   "outputs": [
    {
     "data": {
      "text/html": [
       "171195"
      ],
      "text/latex": [
       "171195"
      ],
      "text/markdown": [
       "171195"
      ],
      "text/plain": [
       "[1] 171195"
      ]
     },
     "metadata": {},
     "output_type": "display_data"
    },
    {
     "data": {
      "text/plain": [
       " order_status       display_name       description       \n",
       " Length:171195      Length:171195      Length:171195     \n",
       " Class :character   Class :character   Class :character  \n",
       " Mode  :character   Mode  :character   Mode  :character  "
      ]
     },
     "metadata": {},
     "output_type": "display_data"
    },
    {
     "data": {
      "text/plain": [
       "$order_status\n",
       "\n",
       "         Canceled     Sent \n",
       "     208   170804      183 \n",
       "\n",
       "$display_name\n",
       "\n",
       "           DNR/C DNR/Comfort Care          DNR/DNE          DNR/DNI \n",
       "              58             7086             5511            28119 \n",
       "       Full code        Full Code     Partial code     Partial Code \n",
       "             745           123758                7             5911 \n",
       "\n",
       "$description\n",
       "\n",
       "           DNR/C DNR/COMFORT CARE          DNR/DNE          DNR/DNI \n",
       "              58             7086             5511            28119 \n",
       "       FULL CODE     PARTIAL CODE \n",
       "          124503             5918 \n"
      ]
     },
     "metadata": {},
     "output_type": "display_data"
    }
   ],
   "source": [
    "# codestatus.csv is from querying code status order from order_proc\n",
    "code <- read.csv(file.path(datadir, \"code_status.csv\")) \n",
    "nrow(code) # 117195\n",
    "summary(code %>% select(order_status, display_name, description))\n",
    "\n",
    "# if summary doesn't display, use table\n",
    "apply(code[c(\"order_status\", \"display_name\", \"description\")], 2, table)"
   ]
  },
  {
   "cell_type": "code",
   "execution_count": 14,
   "metadata": {},
   "outputs": [
    {
     "data": {
      "text/html": [
       "<table class=\"dataframe\">\n",
       "<caption>A data.frame: 1 × 8</caption>\n",
       "<thead>\n",
       "\t<tr><th></th><th scope=col>anon_id</th><th scope=col>pat_enc_csn_id_coded</th><th scope=col>admit_time_jittered</th><th scope=col>order_type</th><th scope=col>order_status</th><th scope=col>display_name</th><th scope=col>description</th><th scope=col>order_time_jittered_utc</th></tr>\n",
       "\t<tr><th></th><th scope=col>&lt;chr&gt;</th><th scope=col>&lt;dbl&gt;</th><th scope=col>&lt;chr&gt;</th><th scope=col>&lt;chr&gt;</th><th scope=col>&lt;chr&gt;</th><th scope=col>&lt;chr&gt;</th><th scope=col>&lt;chr&gt;</th><th scope=col>&lt;chr&gt;</th></tr>\n",
       "</thead>\n",
       "<tbody>\n",
       "\t<tr><th scope=row>1</th><td>JC29f8ad2</td><td>131274729058</td><td>2019-08-31 12:52:00+00:00</td><td>Code Status</td><td>Canceled</td><td>Full Code</td><td>FULL CODE</td><td>2019-09-01 19:21:00+00:00</td></tr>\n",
       "</tbody>\n",
       "</table>\n"
      ],
      "text/latex": [
       "A data.frame: 1 × 8\n",
       "\\begin{tabular}{r|llllllll}\n",
       "  & anon\\_id & pat\\_enc\\_csn\\_id\\_coded & admit\\_time\\_jittered & order\\_type & order\\_status & display\\_name & description & order\\_time\\_jittered\\_utc\\\\\n",
       "  & <chr> & <dbl> & <chr> & <chr> & <chr> & <chr> & <chr> & <chr>\\\\\n",
       "\\hline\n",
       "\t1 & JC29f8ad2 & 131274729058 & 2019-08-31 12:52:00+00:00 & Code Status & Canceled & Full Code & FULL CODE & 2019-09-01 19:21:00+00:00\\\\\n",
       "\\end{tabular}\n"
      ],
      "text/markdown": [
       "\n",
       "A data.frame: 1 × 8\n",
       "\n",
       "| <!--/--> | anon_id &lt;chr&gt; | pat_enc_csn_id_coded &lt;dbl&gt; | admit_time_jittered &lt;chr&gt; | order_type &lt;chr&gt; | order_status &lt;chr&gt; | display_name &lt;chr&gt; | description &lt;chr&gt; | order_time_jittered_utc &lt;chr&gt; |\n",
       "|---|---|---|---|---|---|---|---|---|\n",
       "| 1 | JC29f8ad2 | 131274729058 | 2019-08-31 12:52:00+00:00 | Code Status | Canceled | Full Code | FULL CODE | 2019-09-01 19:21:00+00:00 |\n",
       "\n"
      ],
      "text/plain": [
       "  anon_id   pat_enc_csn_id_coded admit_time_jittered       order_type \n",
       "1 JC29f8ad2 131274729058         2019-08-31 12:52:00+00:00 Code Status\n",
       "  order_status display_name description order_time_jittered_utc  \n",
       "1 Canceled     Full Code    FULL CODE   2019-09-01 19:21:00+00:00"
      ]
     },
     "metadata": {},
     "output_type": "display_data"
    }
   ],
   "source": [
    "head(code, n=1) "
   ]
  },
  {
   "cell_type": "code",
   "execution_count": 15,
   "metadata": {},
   "outputs": [
    {
     "data": {
      "text/html": [
       "83176"
      ],
      "text/latex": [
       "83176"
      ],
      "text/markdown": [
       "83176"
      ],
      "text/plain": [
       "[1] 83176"
      ]
     },
     "metadata": {},
     "output_type": "display_data"
    },
    {
     "data": {
      "text/plain": [
       "   anon_id          pat_enc_csn_id_coded           description   \n",
       " Length:83176       Min.   :1.311e+11    DNR/C           :   30  \n",
       " Class :character   1st Qu.:1.312e+11    DNR/COMFORT CARE: 3634  \n",
       " Mode  :character   Median :1.312e+11    DNR/DNE         : 2780  \n",
       "                    Mean   :1.312e+11    DNR/DNI         :14021  \n",
       "                    3rd Qu.:1.313e+11    FULL CODE       :59935  \n",
       "                    Max.   :1.313e+11    PARTIAL CODE    : 2776  \n",
       "   order_time                 \n",
       " Min.   :2015-01-01 05:27:00  \n",
       " 1st Qu.:2016-06-01 22:09:45  \n",
       " Median :2018-01-14 08:04:30  \n",
       " Mean   :2017-10-20 16:00:34  \n",
       " 3rd Qu.:2019-02-28 06:45:15  \n",
       " Max.   :2020-03-31 07:00:00  "
      ]
     },
     "metadata": {},
     "output_type": "display_data"
    }
   ],
   "source": [
    "code <- code %>% select(anon_id, pat_enc_csn_id_coded, description, order_time = order_time_jittered_utc) %>% \n",
    "                    mutate(order_time = ymd_hms(order_time),\n",
    "                           description = factor(description)) %>% distinct() \n",
    "nrow(code) \n",
    "summary(code) \n",
    "\n",
    "# if summary doesn't display\n",
    "# table(code$description) # won't show NAs\n",
    "# summary(code$description)"
   ]
  },
  {
   "cell_type": "code",
   "execution_count": 16,
   "metadata": {},
   "outputs": [
    {
     "name": "stderr",
     "output_type": "stream",
     "text": [
      "Joining, by = c(\"anon_id\", \"pat_enc_csn_id_coded\")\n",
      "\n"
     ]
    },
    {
     "data": {
      "text/html": [
       "88820"
      ],
      "text/latex": [
       "88820"
      ],
      "text/markdown": [
       "88820"
      ],
      "text/plain": [
       "[1] 88820"
      ]
     },
     "metadata": {},
     "output_type": "display_data"
    },
    {
     "data": {
      "text/html": [
       "55365"
      ],
      "text/latex": [
       "55365"
      ],
      "text/markdown": [
       "55365"
      ],
      "text/plain": [
       "[1] 55365"
      ]
     },
     "metadata": {},
     "output_type": "display_data"
    }
   ],
   "source": [
    "# calculate the difference btwn admit time and code status order time\n",
    "code <- left_join(cohort_enc, code) %>% \n",
    "            mutate(code_diff_hr = as.numeric(difftime(order_time, admit_time, units = 'hours')))\n",
    "\n",
    "nrow(code %>% group_by(anon_id, pat_enc_csn_id_coded) %>% unique())\n",
    "nrow(code %>% select(anon_id, pat_enc_csn_id_coded) %>% group_by(anon_id, pat_enc_csn_id_coded) %>% unique()) "
   ]
  },
  {
   "cell_type": "code",
   "execution_count": 17,
   "metadata": {},
   "outputs": [
    {
     "data": {
      "text/plain": [
       "    Min.  1st Qu.   Median     Mean  3rd Qu.     Max.     NA's \n",
       "-181.050    1.083    2.533   50.912   39.100 5568.317     5668 "
      ]
     },
     "metadata": {},
     "output_type": "display_data"
    },
    {
     "data": {
      "image/png": "[encoded data removed]",
      "text/plain": [
       "Plot with title “Histogram of code$code_diff_hr”"
      ]
     },
     "metadata": {
      "image/png": {
       "height": 420,
       "width": 420
      }
     },
     "output_type": "display_data"
    }
   ],
   "source": [
    "# code order time is prior to or within 24 hours after admission, time diff in hours (code time - admit time)\n",
    "summary(code$code_diff_hr)\n",
    "hist(code$code_diff_hr,  xlim=c(-80, 48), breaks=720, col=\"steelblue\")"
   ]
  },
  {
   "cell_type": "code",
   "execution_count": 18,
   "metadata": {},
   "outputs": [
    {
     "data": {
      "text/html": [
       "23232"
      ],
      "text/latex": [
       "23232"
      ],
      "text/markdown": [
       "23232"
      ],
      "text/plain": [
       "[1] 23232"
      ]
     },
     "metadata": {},
     "output_type": "display_data"
    },
    {
     "data": {
      "text/html": [
       "9045"
      ],
      "text/latex": [
       "9045"
      ],
      "text/markdown": [
       "9045"
      ],
      "text/plain": [
       "[1] 9045"
      ]
     },
     "metadata": {},
     "output_type": "display_data"
    },
    {
     "data": {
      "text/html": [
       "9045"
      ],
      "text/latex": [
       "9045"
      ],
      "text/markdown": [
       "9045"
      ],
      "text/plain": [
       "[1] 9045"
      ]
     },
     "metadata": {},
     "output_type": "display_data"
    }
   ],
   "source": [
    "# number of patients whose code status are either full or na (if exists, consider na = FULL) \n",
    "nrow(filter(code, description != \"FULL CODE\" & !is.na(description))) # to be removed\n",
    "\n",
    "# cohort of patients whose code status before admission or 24 hour after admission is not FULL CODE\n",
    "code_notfull <- code %>% \n",
    "                filter(code_diff_hr <=24 & description != \"FULL CODE\" & !is.na(description)) %>% \n",
    "                select(anon_id, pat_enc_csn_id_coded, inpatient_data_id_coded, admit_time) %>%\n",
    "                distinct()\n",
    "\n",
    "# number of patients whose code status is not full 24\n",
    "nrow(code_notfull)\n",
    "nrow(code_notfull %>% select(anon_id, pat_enc_csn_id_coded) %>% distinct()) # 6341 for 2015-2018"
   ]
  },
  {
   "cell_type": "code",
   "execution_count": 19,
   "metadata": {},
   "outputs": [
    {
     "name": "stderr",
     "output_type": "stream",
     "text": [
      "Joining, by = c(\"anon_id\", \"pat_enc_csn_id_coded\", \"admit_time\", \"inpatient_data_id_coded\")\n",
      "\n"
     ]
    },
    {
     "data": {
      "text/html": [
       "46320"
      ],
      "text/latex": [
       "46320"
      ],
      "text/markdown": [
       "46320"
      ],
      "text/plain": [
       "[1] 46320"
      ]
     },
     "metadata": {},
     "output_type": "display_data"
    },
    {
     "data": {
      "text/html": [
       "46320"
      ],
      "text/latex": [
       "46320"
      ],
      "text/markdown": [
       "46320"
      ],
      "text/plain": [
       "[1] 46320"
      ]
     },
     "metadata": {},
     "output_type": "display_data"
    },
    {
     "data": {
      "text/html": [
       "0"
      ],
      "text/latex": [
       "0"
      ],
      "text/markdown": [
       "0"
      ],
      "text/plain": [
       "[1] 0"
      ]
     },
     "metadata": {},
     "output_type": "display_data"
    }
   ],
   "source": [
    "# remove 9045 non-fullcode, non-na code patients from the cohort\n",
    "cohort_code <- anti_join(cohort_enc, code_notfull) \n",
    "nrow(cohort_code) # 46320\n",
    "nrow(unique(cohort_code %>% select(anon_id, pat_enc_csn_id_coded))) \n",
    "nrow(filter(cohort_code, is.na(admit_time)))"
   ]
  },
  {
   "cell_type": "code",
   "execution_count": 20,
   "metadata": {},
   "outputs": [
    {
     "data": {
      "text/html": [
       "<table class=\"dataframe\">\n",
       "<caption>A data.frame: 1 × 8</caption>\n",
       "<thead>\n",
       "\t<tr><th></th><th scope=col>anon_id</th><th scope=col>pat_enc_csn_id_coded</th><th scope=col>label</th><th scope=col>admit_time</th><th scope=col>inpatient_data_id_coded</th><th scope=col>ESI</th><th scope=col>hosp_admsn_time</th><th scope=col>ed_time_hr</th></tr>\n",
       "\t<tr><th></th><th scope=col>&lt;chr&gt;</th><th scope=col>&lt;dbl&gt;</th><th scope=col>&lt;int&gt;</th><th scope=col>&lt;dttm&gt;</th><th scope=col>&lt;dbl&gt;</th><th scope=col>&lt;dbl&gt;</th><th scope=col>&lt;dttm&gt;</th><th scope=col>&lt;dbl&gt;</th></tr>\n",
       "</thead>\n",
       "<tbody>\n",
       "\t<tr><th scope=row>1</th><td>JCe78a06</td><td>131062667066</td><td>0</td><td>2015-01-02 01:01:00</td><td>13616753</td><td>NA</td><td>2015-01-01 17:10:00</td><td>7.85</td></tr>\n",
       "</tbody>\n",
       "</table>\n"
      ],
      "text/latex": [
       "A data.frame: 1 × 8\n",
       "\\begin{tabular}{r|llllllll}\n",
       "  & anon\\_id & pat\\_enc\\_csn\\_id\\_coded & label & admit\\_time & inpatient\\_data\\_id\\_coded & ESI & hosp\\_admsn\\_time & ed\\_time\\_hr\\\\\n",
       "  & <chr> & <dbl> & <int> & <dttm> & <dbl> & <dbl> & <dttm> & <dbl>\\\\\n",
       "\\hline\n",
       "\t1 & JCe78a06 & 131062667066 & 0 & 2015-01-02 01:01:00 & 13616753 & NA & 2015-01-01 17:10:00 & 7.85\\\\\n",
       "\\end{tabular}\n"
      ],
      "text/markdown": [
       "\n",
       "A data.frame: 1 × 8\n",
       "\n",
       "| <!--/--> | anon_id &lt;chr&gt; | pat_enc_csn_id_coded &lt;dbl&gt; | label &lt;int&gt; | admit_time &lt;dttm&gt; | inpatient_data_id_coded &lt;dbl&gt; | ESI &lt;dbl&gt; | hosp_admsn_time &lt;dttm&gt; | ed_time_hr &lt;dbl&gt; |\n",
       "|---|---|---|---|---|---|---|---|---|\n",
       "| 1 | JCe78a06 | 131062667066 | 0 | 2015-01-02 01:01:00 | 13616753 | NA | 2015-01-01 17:10:00 | 7.85 |\n",
       "\n"
      ],
      "text/plain": [
       "  anon_id  pat_enc_csn_id_coded label admit_time         \n",
       "1 JCe78a06 131062667066         0     2015-01-02 01:01:00\n",
       "  inpatient_data_id_coded ESI hosp_admsn_time     ed_time_hr\n",
       "1 13616753                NA  2015-01-01 17:10:00 7.85      "
      ]
     },
     "metadata": {},
     "output_type": "display_data"
    }
   ],
   "source": [
    "head(cohort_code, n=1)"
   ]
  },
  {
   "cell_type": "markdown",
   "metadata": {},
   "source": [
    "### Age from demographic variables\n",
    "1. Age (only >=18)\n",
    "2. insurance = Medical/care/caid and n/a insurance --> medis =1 otherwise 0\n",
    "3. language --> Engl = 1 for English, otherwise 0\n",
    "4. leave height and weight to be processed with flowsheet age (>=18 only)"
   ]
  },
  {
   "cell_type": "code",
   "execution_count": 21,
   "metadata": {},
   "outputs": [
    {
     "data": {
      "text/html": [
       "36179"
      ],
      "text/latex": [
       "36179"
      ],
      "text/markdown": [
       "36179"
      ],
      "text/plain": [
       "[1] 36179"
      ]
     },
     "metadata": {},
     "output_type": "display_data"
    },
    {
     "data": {
      "text/plain": [
       "   anon_id             gender              race             language        \n",
       " Length:36179       Length:36179       Length:36179       Length:36179      \n",
       " Class :character   Class :character   Class :character   Class :character  \n",
       " Mode  :character   Mode  :character   Mode  :character   Mode  :character  \n",
       "                                                                            \n",
       "                                                                            \n",
       "                                                                            \n",
       "                                                                            \n",
       " recent_height_cm recent_weight_kg  insurance         recent_date       \n",
       " Min.   : 12.7    Min.   :  0.00   Length:36179       Length:36179      \n",
       " 1st Qu.:160.0    1st Qu.: 60.30   Class :character   Class :character  \n",
       " Median :167.6    Median : 72.50   Mode  :character   Mode  :character  \n",
       " Mean   :167.5    Mean   : 75.56                                        \n",
       " 3rd Qu.:175.3    3rd Qu.: 86.70                                        \n",
       " Max.   :210.8    Max.   :320.69                                        \n",
       " NA's   :1677     NA's   :350                                           \n",
       "     dob           \n",
       " Length:36179      \n",
       " Class :character  \n",
       " Mode  :character  \n",
       "                   \n",
       "                   \n",
       "                   \n",
       "                   "
      ]
     },
     "metadata": {},
     "output_type": "display_data"
    }
   ],
   "source": [
    "demo <- read.csv(file.path(datadir, \"demographics.csv\")) %>% distinct()\n",
    "nrow(demo)\n",
    "summary(demo)"
   ]
  },
  {
   "cell_type": "code",
   "execution_count": 22,
   "metadata": {},
   "outputs": [
    {
     "data": {
      "text/html": [
       "<table class=\"dataframe\">\n",
       "<caption>A data.frame: 6 × 9</caption>\n",
       "<thead>\n",
       "\t<tr><th></th><th scope=col>anon_id</th><th scope=col>gender</th><th scope=col>race</th><th scope=col>language</th><th scope=col>recent_height_cm</th><th scope=col>recent_weight_kg</th><th scope=col>insurance</th><th scope=col>recent_date</th><th scope=col>dob</th></tr>\n",
       "\t<tr><th></th><th scope=col>&lt;chr&gt;</th><th scope=col>&lt;chr&gt;</th><th scope=col>&lt;chr&gt;</th><th scope=col>&lt;chr&gt;</th><th scope=col>&lt;dbl&gt;</th><th scope=col>&lt;dbl&gt;</th><th scope=col>&lt;chr&gt;</th><th scope=col>&lt;chr&gt;</th><th scope=col>&lt;chr&gt;</th></tr>\n",
       "</thead>\n",
       "<tbody>\n",
       "\t<tr><th scope=row>1</th><td>JC29f8ad2</td><td>Female</td><td>White  </td><td>English</td><td>165.1</td><td>83.46</td><td>UNITED HEALTHCARE</td><td>2020-03-31</td><td>1968-01-23</td></tr>\n",
       "\t<tr><th scope=row>2</th><td>JC29f8ad3</td><td>Female</td><td>Asian  </td><td>English</td><td>   NA</td><td>   NA</td><td>BLUE CROSS       </td><td>2020-02-24</td><td>1984-12-07</td></tr>\n",
       "\t<tr><th scope=row>3</th><td>JC29f8b9c</td><td>Male  </td><td>Unknown</td><td>       </td><td>   NA</td><td>   NA</td><td>                 </td><td>2019-01-12</td><td>1960-01-21</td></tr>\n",
       "\t<tr><th scope=row>4</th><td>JC29f8beb</td><td>Female</td><td>White  </td><td>English</td><td>154.9</td><td>65.40</td><td>CIGNA            </td><td>2019-12-22</td><td>1989-06-19</td></tr>\n",
       "\t<tr><th scope=row>5</th><td>JC29f8bef</td><td>Female</td><td>Asian  </td><td>English</td><td>156.0</td><td>51.70</td><td>UNITED HEALTHCARE</td><td>2020-03-31</td><td>1959-07-05</td></tr>\n",
       "\t<tr><th scope=row>6</th><td>JC29f8c35</td><td>Male  </td><td>White  </td><td>English</td><td>163.6</td><td>85.65</td><td>                 </td><td>2020-03-13</td><td>1947-06-03</td></tr>\n",
       "</tbody>\n",
       "</table>\n"
      ],
      "text/latex": [
       "A data.frame: 6 × 9\n",
       "\\begin{tabular}{r|lllllllll}\n",
       "  & anon\\_id & gender & race & language & recent\\_height\\_cm & recent\\_weight\\_kg & insurance & recent\\_date & dob\\\\\n",
       "  & <chr> & <chr> & <chr> & <chr> & <dbl> & <dbl> & <chr> & <chr> & <chr>\\\\\n",
       "\\hline\n",
       "\t1 & JC29f8ad2 & Female & White   & English & 165.1 & 83.46 & UNITED HEALTHCARE & 2020-03-31 & 1968-01-23\\\\\n",
       "\t2 & JC29f8ad3 & Female & Asian   & English &    NA &    NA & BLUE CROSS        & 2020-02-24 & 1984-12-07\\\\\n",
       "\t3 & JC29f8b9c & Male   & Unknown &         &    NA &    NA &                   & 2019-01-12 & 1960-01-21\\\\\n",
       "\t4 & JC29f8beb & Female & White   & English & 154.9 & 65.40 & CIGNA             & 2019-12-22 & 1989-06-19\\\\\n",
       "\t5 & JC29f8bef & Female & Asian   & English & 156.0 & 51.70 & UNITED HEALTHCARE & 2020-03-31 & 1959-07-05\\\\\n",
       "\t6 & JC29f8c35 & Male   & White   & English & 163.6 & 85.65 &                   & 2020-03-13 & 1947-06-03\\\\\n",
       "\\end{tabular}\n"
      ],
      "text/markdown": [
       "\n",
       "A data.frame: 6 × 9\n",
       "\n",
       "| <!--/--> | anon_id &lt;chr&gt; | gender &lt;chr&gt; | race &lt;chr&gt; | language &lt;chr&gt; | recent_height_cm &lt;dbl&gt; | recent_weight_kg &lt;dbl&gt; | insurance &lt;chr&gt; | recent_date &lt;chr&gt; | dob &lt;chr&gt; |\n",
       "|---|---|---|---|---|---|---|---|---|---|\n",
       "| 1 | JC29f8ad2 | Female | White   | English | 165.1 | 83.46 | UNITED HEALTHCARE | 2020-03-31 | 1968-01-23 |\n",
       "| 2 | JC29f8ad3 | Female | Asian   | English |    NA |    NA | BLUE CROSS        | 2020-02-24 | 1984-12-07 |\n",
       "| 3 | JC29f8b9c | Male   | Unknown | <!----> |    NA |    NA | <!----> | 2019-01-12 | 1960-01-21 |\n",
       "| 4 | JC29f8beb | Female | White   | English | 154.9 | 65.40 | CIGNA             | 2019-12-22 | 1989-06-19 |\n",
       "| 5 | JC29f8bef | Female | Asian   | English | 156.0 | 51.70 | UNITED HEALTHCARE | 2020-03-31 | 1959-07-05 |\n",
       "| 6 | JC29f8c35 | Male   | White   | English | 163.6 | 85.65 | <!----> | 2020-03-13 | 1947-06-03 |\n",
       "\n"
      ],
      "text/plain": [
       "  anon_id   gender race    language recent_height_cm recent_weight_kg\n",
       "1 JC29f8ad2 Female White   English  165.1            83.46           \n",
       "2 JC29f8ad3 Female Asian   English     NA               NA           \n",
       "3 JC29f8b9c Male   Unknown             NA               NA           \n",
       "4 JC29f8beb Female White   English  154.9            65.40           \n",
       "5 JC29f8bef Female Asian   English  156.0            51.70           \n",
       "6 JC29f8c35 Male   White   English  163.6            85.65           \n",
       "  insurance         recent_date dob       \n",
       "1 UNITED HEALTHCARE 2020-03-31  1968-01-23\n",
       "2 BLUE CROSS        2020-02-24  1984-12-07\n",
       "3                   2019-01-12  1960-01-21\n",
       "4 CIGNA             2019-12-22  1989-06-19\n",
       "5 UNITED HEALTHCARE 2020-03-31  1959-07-05\n",
       "6                   2020-03-13  1947-06-03"
      ]
     },
     "metadata": {},
     "output_type": "display_data"
    }
   ],
   "source": [
    "head(demo)"
   ]
  },
  {
   "cell_type": "code",
   "execution_count": 23,
   "metadata": {},
   "outputs": [
    {
     "name": "stderr",
     "output_type": "stream",
     "text": [
      "Joining, by = \"anon_id\"\n",
      "\n"
     ]
    },
    {
     "data": {
      "text/html": [
       "45986"
      ],
      "text/latex": [
       "45986"
      ],
      "text/markdown": [
       "45986"
      ],
      "text/plain": [
       "[1] 45986"
      ]
     },
     "metadata": {},
     "output_type": "display_data"
    },
    {
     "data": {
      "text/plain": [
       "   anon_id          pat_enc_csn_id_coded     label      \n",
       " Length:45986       Min.   :1.311e+11    Min.   :0.000  \n",
       " Class :character   1st Qu.:1.312e+11    1st Qu.:0.000  \n",
       " Mode  :character   Median :1.312e+11    Median :0.000  \n",
       "                    Mean   :1.312e+11    Mean   :0.138  \n",
       "                    3rd Qu.:1.313e+11    3rd Qu.:0.000  \n",
       "                    Max.   :1.313e+11    Max.   :1.000  \n",
       "                                                        \n",
       "   admit_time                  inpatient_data_id_coded      ESI       \n",
       " Min.   :2015-01-01 08:24:00   Min.   :13616753        Min.   :1.000  \n",
       " 1st Qu.:2016-05-22 19:15:45   1st Qu.:19863571        1st Qu.:2.000  \n",
       " Median :2017-12-31 03:18:00   Median :27889292        Median :3.000  \n",
       " Mean   :2017-10-13 04:34:25   Mean   :28152729        Mean   :2.655  \n",
       " 3rd Qu.:2019-02-19 03:23:45   3rd Qu.:34369529        3rd Qu.:3.000  \n",
       " Max.   :2020-03-31 07:00:00   Max.   :48026130        Max.   :5.000  \n",
       "                                                       NA's   :1861   \n",
       " hosp_admsn_time                 ed_time_hr         gender     \n",
       " Min.   :2015-01-01 01:10:00   Min.   :  0.000   Female:21997  \n",
       " 1st Qu.:2016-05-22 15:19:30   1st Qu.:  2.217   Male  :23989  \n",
       " Median :2017-12-31 00:06:30   Median :  3.483                 \n",
       " Mean   :2017-10-12 23:33:31   Mean   :  5.015                 \n",
       " 3rd Qu.:2019-02-18 23:11:15   3rd Qu.:  5.367                 \n",
       " Max.   :2020-03-31 07:00:00   Max.   :190.433                 \n",
       "                                                               \n",
       "               race             language     recent_height_cm recent_weight_kg\n",
       " Asian           : 6906   English   :38767   Min.   : 12.95   Min.   :  0.10  \n",
       " Black           : 3279   Spanish   : 3688   1st Qu.:160.02   1st Qu.: 60.90  \n",
       " Native American :  194   Mandarin  :  748   Median :167.64   Median : 73.10  \n",
       " Other           :10554   Vietnamese:  511   Mean   :167.97   Mean   : 76.61  \n",
       " Pacific Islander:  943   Cantonese :  265   3rd Qu.:175.26   3rd Qu.: 88.00  \n",
       " Unknown         :  426   Russian   :  264   Max.   :210.82   Max.   :320.69  \n",
       " White           :23684   (Other)   : 1743   NA's   :1420     NA's   :311     \n",
       "       insurance      recent_date              age       \n",
       " MEDICARE   :17032   Min.   :2019-01-01   Min.   :18.00  \n",
       " BLUE CROSS : 3404   1st Qu.:2019-01-01   1st Qu.:44.00  \n",
       " HPSM       : 3141   Median :2020-03-11   Median :60.00  \n",
       "            : 2737   Mean   :2019-10-29   Mean   :58.28  \n",
       " MEDI-CAL   : 2067   3rd Qu.:2020-03-31   3rd Qu.:73.00  \n",
       " BLUE SHIELD: 1900   Max.   :2020-03-31   Max.   :90.00  \n",
       " (Other)    :15705   NA's   :10                          "
      ]
     },
     "metadata": {},
     "output_type": "display_data"
    }
   ],
   "source": [
    "# calculate age, only keep patients age >=18, (304 < 18)\n",
    "cohort_age <- left_join(cohort_code, demo) %>%\n",
    "                    mutate(dob = ymd(dob), recent_date = ymd(recent_date), gender = factor(gender), \n",
    "                           race = factor(race), language = factor(language), insurance = factor(insurance),\n",
    "                           age = round(as.numeric(difftime(ymd_hms(admit_time), dob, units=\"days\")/365),0)) %>%\n",
    "                    filter(age >= 18) %>% select(-dob)\n",
    "nrow(cohort_age)\n",
    "summary(cohort_age)"
   ]
  },
  {
   "cell_type": "code",
   "execution_count": 24,
   "metadata": {},
   "outputs": [
    {
     "data": {
      "text/html": [
       "31584"
      ],
      "text/latex": [
       "31584"
      ],
      "text/markdown": [
       "31584"
      ],
      "text/plain": [
       "[1] 31584"
      ]
     },
     "metadata": {},
     "output_type": "display_data"
    },
    {
     "data": {
      "text/html": [
       "45986"
      ],
      "text/latex": [
       "45986"
      ],
      "text/markdown": [
       "45986"
      ],
      "text/plain": [
       "[1] 45986"
      ]
     },
     "metadata": {},
     "output_type": "display_data"
    },
    {
     "data": {
      "text/html": [
       "<table class=\"dataframe\">\n",
       "<caption>A data.frame: 0 × 16</caption>\n",
       "<thead>\n",
       "\t<tr><th scope=col>anon_id</th><th scope=col>pat_enc_csn_id_coded</th><th scope=col>label</th><th scope=col>admit_time</th><th scope=col>inpatient_data_id_coded</th><th scope=col>ESI</th><th scope=col>hosp_admsn_time</th><th scope=col>ed_time_hr</th><th scope=col>gender</th><th scope=col>race</th><th scope=col>language</th><th scope=col>recent_height_cm</th><th scope=col>recent_weight_kg</th><th scope=col>insurance</th><th scope=col>recent_date</th><th scope=col>age</th></tr>\n",
       "\t<tr><th scope=col>&lt;chr&gt;</th><th scope=col>&lt;dbl&gt;</th><th scope=col>&lt;int&gt;</th><th scope=col>&lt;dttm&gt;</th><th scope=col>&lt;dbl&gt;</th><th scope=col>&lt;dbl&gt;</th><th scope=col>&lt;dttm&gt;</th><th scope=col>&lt;dbl&gt;</th><th scope=col>&lt;fct&gt;</th><th scope=col>&lt;fct&gt;</th><th scope=col>&lt;fct&gt;</th><th scope=col>&lt;dbl&gt;</th><th scope=col>&lt;dbl&gt;</th><th scope=col>&lt;fct&gt;</th><th scope=col>&lt;date&gt;</th><th scope=col>&lt;dbl&gt;</th></tr>\n",
       "</thead>\n",
       "<tbody>\n",
       "</tbody>\n",
       "</table>\n"
      ],
      "text/latex": [
       "A data.frame: 0 × 16\n",
       "\\begin{tabular}{llllllllllllllll}\n",
       " anon\\_id & pat\\_enc\\_csn\\_id\\_coded & label & admit\\_time & inpatient\\_data\\_id\\_coded & ESI & hosp\\_admsn\\_time & ed\\_time\\_hr & gender & race & language & recent\\_height\\_cm & recent\\_weight\\_kg & insurance & recent\\_date & age\\\\\n",
       " <chr> & <dbl> & <int> & <dttm> & <dbl> & <dbl> & <dttm> & <dbl> & <fct> & <fct> & <fct> & <dbl> & <dbl> & <fct> & <date> & <dbl>\\\\\n",
       "\\hline\n",
       "\\end{tabular}\n"
      ],
      "text/markdown": [
       "\n",
       "A data.frame: 0 × 16\n",
       "\n",
       "| anon_id &lt;chr&gt; | pat_enc_csn_id_coded &lt;dbl&gt; | label &lt;int&gt; | admit_time &lt;dttm&gt; | inpatient_data_id_coded &lt;dbl&gt; | ESI &lt;dbl&gt; | hosp_admsn_time &lt;dttm&gt; | ed_time_hr &lt;dbl&gt; | gender &lt;fct&gt; | race &lt;fct&gt; | language &lt;fct&gt; | recent_height_cm &lt;dbl&gt; | recent_weight_kg &lt;dbl&gt; | insurance &lt;fct&gt; | recent_date &lt;date&gt; | age &lt;dbl&gt; |\n",
       "|---|---|---|---|---|---|---|---|---|---|---|---|---|---|---|---|\n",
       "\n"
      ],
      "text/plain": [
       "     anon_id pat_enc_csn_id_coded label admit_time inpatient_data_id_coded ESI\n",
       "     hosp_admsn_time ed_time_hr gender race language recent_height_cm\n",
       "     recent_weight_kg insurance recent_date age"
      ]
     },
     "metadata": {},
     "output_type": "display_data"
    }
   ],
   "source": [
    "# checking duplicates\n",
    "nrow(cohort_age %>% select(anon_id) %>% distinct()) # 30073\n",
    "nrow(cohort_age %>% select(anon_id, pat_enc_csn_id_coded) %>% distinct()) # 43524\n",
    "cohort_demo[duplicated(cohort_age[, c('anon_id','pat_enc_csn_id_coded')]),]\n",
    "\n",
    "# cohort_demo %>% filter(anon_id == \"JCd49287\") # pat_enc_csn_id_coded = 131195706986, \n",
    "# cohort_demo <- cohort_demo %>% filter (!(anon_id == \"JCd49287\" & race == \"Unknown\"))"
   ]
  },
  {
   "cell_type": "code",
   "execution_count": 25,
   "metadata": {},
   "outputs": [
    {
     "data": {
      "text/plain": [
       "      ESI           gender                    race       recent_height_cm\n",
       " Min.   :1.000   Female:21997   Asian           : 6906   Min.   : 12.95  \n",
       " 1st Qu.:2.000   Male  :23989   Black           : 3279   1st Qu.:160.02  \n",
       " Median :3.000                  Native American :  194   Median :167.64  \n",
       " Mean   :2.655                  Other           :10554   Mean   :167.97  \n",
       " 3rd Qu.:3.000                  Pacific Islander:  943   3rd Qu.:175.26  \n",
       " Max.   :5.000                  Unknown         :  426   Max.   :210.82  \n",
       " NA's   :1861                   White           :23684   NA's   :1420    \n",
       " recent_weight_kg      age       \n",
       " Min.   :  0.10   Min.   :18.00  \n",
       " 1st Qu.: 60.90   1st Qu.:44.00  \n",
       " Median : 73.10   Median :60.00  \n",
       " Mean   : 76.61   Mean   :58.28  \n",
       " 3rd Qu.: 88.00   3rd Qu.:73.00  \n",
       " Max.   :320.69   Max.   :90.00  \n",
       " NA's   :311                     "
      ]
     },
     "metadata": {},
     "output_type": "display_data"
    },
    {
     "name": "stderr",
     "output_type": "stream",
     "text": [
      "Warning message:\n",
      "“attributes are not identical across measure variables;\n",
      "they will be dropped”\n"
     ]
    },
    {
     "data": {
      "text/html": [
       "<table class=\"dataframe\">\n",
       "<caption>A data.frame: 16 × 2</caption>\n",
       "<thead>\n",
       "\t<tr><th scope=col>var</th><th scope=col>n</th></tr>\n",
       "\t<tr><th scope=col>&lt;chr&gt;</th><th scope=col>&lt;int&gt;</th></tr>\n",
       "</thead>\n",
       "<tbody>\n",
       "\t<tr><td>gender                 </td><td>    2</td></tr>\n",
       "\t<tr><td>label                  </td><td>    2</td></tr>\n",
       "\t<tr><td>ESI                    </td><td>    6</td></tr>\n",
       "\t<tr><td>race                   </td><td>    7</td></tr>\n",
       "\t<tr><td>language               </td><td>   55</td></tr>\n",
       "\t<tr><td>age                    </td><td>   73</td></tr>\n",
       "\t<tr><td>insurance              </td><td>  134</td></tr>\n",
       "\t<tr><td>recent_date            </td><td>  457</td></tr>\n",
       "\t<tr><td>recent_height_cm       </td><td>  790</td></tr>\n",
       "\t<tr><td>ed_time_hr             </td><td> 2076</td></tr>\n",
       "\t<tr><td>recent_weight_kg       </td><td> 3448</td></tr>\n",
       "\t<tr><td>anon_id                </td><td>31584</td></tr>\n",
       "\t<tr><td>admit_time             </td><td>45451</td></tr>\n",
       "\t<tr><td>hosp_admsn_time        </td><td>45473</td></tr>\n",
       "\t<tr><td>inpatient_data_id_coded</td><td>45986</td></tr>\n",
       "\t<tr><td>pat_enc_csn_id_coded   </td><td>45986</td></tr>\n",
       "</tbody>\n",
       "</table>\n"
      ],
      "text/latex": [
       "A data.frame: 16 × 2\n",
       "\\begin{tabular}{ll}\n",
       " var & n\\\\\n",
       " <chr> & <int>\\\\\n",
       "\\hline\n",
       "\t gender                  &     2\\\\\n",
       "\t label                   &     2\\\\\n",
       "\t ESI                     &     6\\\\\n",
       "\t race                    &     7\\\\\n",
       "\t language                &    55\\\\\n",
       "\t age                     &    73\\\\\n",
       "\t insurance               &   134\\\\\n",
       "\t recent\\_date             &   457\\\\\n",
       "\t recent\\_height\\_cm        &   790\\\\\n",
       "\t ed\\_time\\_hr              &  2076\\\\\n",
       "\t recent\\_weight\\_kg        &  3448\\\\\n",
       "\t anon\\_id                 & 31584\\\\\n",
       "\t admit\\_time              & 45451\\\\\n",
       "\t hosp\\_admsn\\_time         & 45473\\\\\n",
       "\t inpatient\\_data\\_id\\_coded & 45986\\\\\n",
       "\t pat\\_enc\\_csn\\_id\\_coded    & 45986\\\\\n",
       "\\end{tabular}\n"
      ],
      "text/markdown": [
       "\n",
       "A data.frame: 16 × 2\n",
       "\n",
       "| var &lt;chr&gt; | n &lt;int&gt; |\n",
       "|---|---|\n",
       "| gender                  |     2 |\n",
       "| label                   |     2 |\n",
       "| ESI                     |     6 |\n",
       "| race                    |     7 |\n",
       "| language                |    55 |\n",
       "| age                     |    73 |\n",
       "| insurance               |   134 |\n",
       "| recent_date             |   457 |\n",
       "| recent_height_cm        |   790 |\n",
       "| ed_time_hr              |  2076 |\n",
       "| recent_weight_kg        |  3448 |\n",
       "| anon_id                 | 31584 |\n",
       "| admit_time              | 45451 |\n",
       "| hosp_admsn_time         | 45473 |\n",
       "| inpatient_data_id_coded | 45986 |\n",
       "| pat_enc_csn_id_coded    | 45986 |\n",
       "\n"
      ],
      "text/plain": [
       "   var                     n    \n",
       "1  gender                      2\n",
       "2  label                       2\n",
       "3  ESI                         6\n",
       "4  race                        7\n",
       "5  language                   55\n",
       "6  age                        73\n",
       "7  insurance                 134\n",
       "8  recent_date               457\n",
       "9  recent_height_cm          790\n",
       "10 ed_time_hr               2076\n",
       "11 recent_weight_kg         3448\n",
       "12 anon_id                 31584\n",
       "13 admit_time              45451\n",
       "14 hosp_admsn_time         45473\n",
       "15 inpatient_data_id_coded 45986\n",
       "16 pat_enc_csn_id_coded    45986"
      ]
     },
     "metadata": {},
     "output_type": "display_data"
    },
    {
     "name": "stderr",
     "output_type": "stream",
     "text": [
      "Warning message:\n",
      "“`summarise_each_()` was deprecated in dplyr 0.7.0.\n",
      "Please use `across()` instead.\n",
      "\u001b[90mThis warning is displayed once every 8 hours.\u001b[39m\n",
      "\u001b[90mCall `lifecycle::last_warnings()` to see where this warning was generated.\u001b[39m”\n",
      "Warning message:\n",
      "“`funs()` was deprecated in dplyr 0.8.0.\n",
      "Please use a list of either functions or lambdas: \n",
      "\n",
      "  # Simple named list: \n",
      "  list(mean = mean, median = median)\n",
      "\n",
      "  # Auto named with `tibble::lst()`: \n",
      "  tibble::lst(mean, median)\n",
      "\n",
      "  # Using lambdas\n",
      "  list(~ mean(., trim = .2), ~ median(., na.rm = TRUE))\n",
      "\u001b[90mThis warning is displayed once every 8 hours.\u001b[39m\n",
      "\u001b[90mCall `lifecycle::last_warnings()` to see where this warning was generated.\u001b[39m”\n"
     ]
    },
    {
     "data": {
      "text/html": [
       "<table class=\"dataframe\">\n",
       "<caption>A data.frame: 1 × 16</caption>\n",
       "<thead>\n",
       "\t<tr><th scope=col>anon_id</th><th scope=col>pat_enc_csn_id_coded</th><th scope=col>label</th><th scope=col>admit_time</th><th scope=col>inpatient_data_id_coded</th><th scope=col>ESI</th><th scope=col>hosp_admsn_time</th><th scope=col>ed_time_hr</th><th scope=col>gender</th><th scope=col>race</th><th scope=col>language</th><th scope=col>recent_height_cm</th><th scope=col>recent_weight_kg</th><th scope=col>insurance</th><th scope=col>recent_date</th><th scope=col>age</th></tr>\n",
       "\t<tr><th scope=col>&lt;int&gt;</th><th scope=col>&lt;int&gt;</th><th scope=col>&lt;int&gt;</th><th scope=col>&lt;int&gt;</th><th scope=col>&lt;int&gt;</th><th scope=col>&lt;int&gt;</th><th scope=col>&lt;int&gt;</th><th scope=col>&lt;int&gt;</th><th scope=col>&lt;int&gt;</th><th scope=col>&lt;int&gt;</th><th scope=col>&lt;int&gt;</th><th scope=col>&lt;int&gt;</th><th scope=col>&lt;int&gt;</th><th scope=col>&lt;int&gt;</th><th scope=col>&lt;int&gt;</th><th scope=col>&lt;int&gt;</th></tr>\n",
       "</thead>\n",
       "<tbody>\n",
       "\t<tr><td>31584</td><td>45986</td><td>2</td><td>45451</td><td>45986</td><td>6</td><td>45473</td><td>2076</td><td>2</td><td>7</td><td>55</td><td>790</td><td>3448</td><td>134</td><td>457</td><td>73</td></tr>\n",
       "</tbody>\n",
       "</table>\n"
      ],
      "text/latex": [
       "A data.frame: 1 × 16\n",
       "\\begin{tabular}{llllllllllllllll}\n",
       " anon\\_id & pat\\_enc\\_csn\\_id\\_coded & label & admit\\_time & inpatient\\_data\\_id\\_coded & ESI & hosp\\_admsn\\_time & ed\\_time\\_hr & gender & race & language & recent\\_height\\_cm & recent\\_weight\\_kg & insurance & recent\\_date & age\\\\\n",
       " <int> & <int> & <int> & <int> & <int> & <int> & <int> & <int> & <int> & <int> & <int> & <int> & <int> & <int> & <int> & <int>\\\\\n",
       "\\hline\n",
       "\t 31584 & 45986 & 2 & 45451 & 45986 & 6 & 45473 & 2076 & 2 & 7 & 55 & 790 & 3448 & 134 & 457 & 73\\\\\n",
       "\\end{tabular}\n"
      ],
      "text/markdown": [
       "\n",
       "A data.frame: 1 × 16\n",
       "\n",
       "| anon_id &lt;int&gt; | pat_enc_csn_id_coded &lt;int&gt; | label &lt;int&gt; | admit_time &lt;int&gt; | inpatient_data_id_coded &lt;int&gt; | ESI &lt;int&gt; | hosp_admsn_time &lt;int&gt; | ed_time_hr &lt;int&gt; | gender &lt;int&gt; | race &lt;int&gt; | language &lt;int&gt; | recent_height_cm &lt;int&gt; | recent_weight_kg &lt;int&gt; | insurance &lt;int&gt; | recent_date &lt;int&gt; | age &lt;int&gt; |\n",
       "|---|---|---|---|---|---|---|---|---|---|---|---|---|---|---|---|\n",
       "| 31584 | 45986 | 2 | 45451 | 45986 | 6 | 45473 | 2076 | 2 | 7 | 55 | 790 | 3448 | 134 | 457 | 73 |\n",
       "\n"
      ],
      "text/plain": [
       "  anon_id pat_enc_csn_id_coded label admit_time inpatient_data_id_coded ESI\n",
       "1 31584   45986                2     45451      45986                   6  \n",
       "  hosp_admsn_time ed_time_hr gender race language recent_height_cm\n",
       "1 45473           2076       2      7    55       790             \n",
       "  recent_weight_kg insurance recent_date age\n",
       "1 3448             134       457         73 "
      ]
     },
     "metadata": {},
     "output_type": "display_data"
    }
   ],
   "source": [
    "summary(cohort_age %>% select(ESI, gender, race, recent_height_cm, recent_weight_kg, age))\n",
    "cohort_age %>% gather(var, value) %>% distinct() %>% count(var) %>% arrange(n)\n",
    "cohort_age %>% summarise_each(funs(n_distinct))\n",
    "# cohort_demo %>% summarise(across(all_of(.), count))"
   ]
  },
  {
   "cell_type": "code",
   "execution_count": 26,
   "metadata": {},
   "outputs": [
    {
     "data": {
      "text/plain": [
       "   Min. 1st Qu.  Median    Mean 3rd Qu.    Max. \n",
       "  18.00   44.00   60.00   58.28   73.00   90.00 "
      ]
     },
     "metadata": {},
     "output_type": "display_data"
    },
    {
     "data": {
      "image/png": "[encoded data removed]",
      "text/plain": [
       "Plot with title “Histogram of cohort_demo$age”"
      ]
     },
     "metadata": {
      "image/png": {
       "height": 420,
       "width": 420
      }
     },
     "output_type": "display_data"
    }
   ],
   "source": [
    "summary(cohort_age$age)\n",
    "hist(cohort_age$age, breaks=100, col=\"dodgerblue\")"
   ]
  },
  {
   "cell_type": "code",
   "execution_count": 27,
   "metadata": {},
   "outputs": [],
   "source": [
    "# this is the updated cohort meeting encounter/codestatus/age criteria\n",
    "write.csv(cohort_age, file = file.path(datadir, \"cohort1_criteria.csv\"), row.names=FALSE)"
   ]
  },
  {
   "cell_type": "code",
   "execution_count": 29,
   "metadata": {},
   "outputs": [
    {
     "data": {
      "text/html": [
       "<table class=\"dataframe\">\n",
       "<caption>A data.frame: 6 × 16</caption>\n",
       "<thead>\n",
       "\t<tr><th></th><th scope=col>anon_id</th><th scope=col>pat_enc_csn_id_coded</th><th scope=col>label</th><th scope=col>admit_time</th><th scope=col>inpatient_data_id_coded</th><th scope=col>ESI</th><th scope=col>hosp_admsn_time</th><th scope=col>ed_time_hr</th><th scope=col>gender</th><th scope=col>race</th><th scope=col>language</th><th scope=col>recent_height_cm</th><th scope=col>recent_weight_kg</th><th scope=col>insurance</th><th scope=col>recent_date</th><th scope=col>age</th></tr>\n",
       "\t<tr><th></th><th scope=col>&lt;chr&gt;</th><th scope=col>&lt;dbl&gt;</th><th scope=col>&lt;int&gt;</th><th scope=col>&lt;dttm&gt;</th><th scope=col>&lt;dbl&gt;</th><th scope=col>&lt;dbl&gt;</th><th scope=col>&lt;dttm&gt;</th><th scope=col>&lt;dbl&gt;</th><th scope=col>&lt;fct&gt;</th><th scope=col>&lt;fct&gt;</th><th scope=col>&lt;fct&gt;</th><th scope=col>&lt;dbl&gt;</th><th scope=col>&lt;dbl&gt;</th><th scope=col>&lt;fct&gt;</th><th scope=col>&lt;date&gt;</th><th scope=col>&lt;dbl&gt;</th></tr>\n",
       "</thead>\n",
       "<tbody>\n",
       "\t<tr><th scope=row>1</th><td>JCe78a06</td><td>131062667066</td><td>0</td><td>2015-01-02 01:01:00</td><td>13616753</td><td>NA</td><td>2015-01-01 17:10:00</td><td>7.850000</td><td>Female</td><td>White</td><td>English</td><td>152.40</td><td> 55.60</td><td>HEALTHNET SENIOR ADVANTAGE</td><td>2020-01-10</td><td>83</td></tr>\n",
       "\t<tr><th scope=row>2</th><td>JCd1c19e</td><td>131062745090</td><td>0</td><td>2015-01-03 05:53:00</td><td>13628503</td><td> 3</td><td>2015-01-03 01:56:00</td><td>3.950000</td><td>Female</td><td>White</td><td>English</td><td>154.50</td><td> 49.20</td><td>BLUE SHIELD               </td><td>2020-03-31</td><td>53</td></tr>\n",
       "\t<tr><th scope=row>3</th><td>JCd91eb2</td><td>131062747648</td><td>0</td><td>2015-01-01 08:24:00</td><td>13628701</td><td> 2</td><td>2015-01-01 01:10:00</td><td>7.233333</td><td>Female</td><td>White</td><td>English</td><td>170.18</td><td> 92.70</td><td>MEDICARE                  </td><td>2019-01-01</td><td>64</td></tr>\n",
       "\t<tr><th scope=row>4</th><td>JCe7cb4d</td><td>131062788358</td><td>0</td><td>2015-01-01 23:39:00</td><td>13631833</td><td> 3</td><td>2015-01-01 17:07:00</td><td>6.533333</td><td>Male  </td><td>White</td><td>English</td><td>185.42</td><td>101.90</td><td>AETNA                     </td><td>2019-01-01</td><td>25</td></tr>\n",
       "\t<tr><th scope=row>5</th><td>JCe293de</td><td>131063044001</td><td>0</td><td>2015-01-05 02:23:00</td><td>13663181</td><td> 3</td><td>2015-01-04 18:13:00</td><td>8.166667</td><td>Female</td><td>Other</td><td>Spanish</td><td>152.40</td><td> 40.37</td><td>COMMERCIAL OTHER          </td><td>2019-01-01</td><td>34</td></tr>\n",
       "\t<tr><th scope=row>6</th><td>JCe8d756</td><td>131063080858</td><td>0</td><td>2015-01-07 04:00:00</td><td>13668812</td><td> 2</td><td>2015-01-06 22:24:00</td><td>5.600000</td><td>Male  </td><td>White</td><td>English</td><td>170.18</td><td> 68.67</td><td>BLUE CROSS                </td><td>2019-01-01</td><td>68</td></tr>\n",
       "</tbody>\n",
       "</table>\n"
      ],
      "text/latex": [
       "A data.frame: 6 × 16\n",
       "\\begin{tabular}{r|llllllllllllllll}\n",
       "  & anon\\_id & pat\\_enc\\_csn\\_id\\_coded & label & admit\\_time & inpatient\\_data\\_id\\_coded & ESI & hosp\\_admsn\\_time & ed\\_time\\_hr & gender & race & language & recent\\_height\\_cm & recent\\_weight\\_kg & insurance & recent\\_date & age\\\\\n",
       "  & <chr> & <dbl> & <int> & <dttm> & <dbl> & <dbl> & <dttm> & <dbl> & <fct> & <fct> & <fct> & <dbl> & <dbl> & <fct> & <date> & <dbl>\\\\\n",
       "\\hline\n",
       "\t1 & JCe78a06 & 131062667066 & 0 & 2015-01-02 01:01:00 & 13616753 & NA & 2015-01-01 17:10:00 & 7.850000 & Female & White & English & 152.40 &  55.60 & HEALTHNET SENIOR ADVANTAGE & 2020-01-10 & 83\\\\\n",
       "\t2 & JCd1c19e & 131062745090 & 0 & 2015-01-03 05:53:00 & 13628503 &  3 & 2015-01-03 01:56:00 & 3.950000 & Female & White & English & 154.50 &  49.20 & BLUE SHIELD                & 2020-03-31 & 53\\\\\n",
       "\t3 & JCd91eb2 & 131062747648 & 0 & 2015-01-01 08:24:00 & 13628701 &  2 & 2015-01-01 01:10:00 & 7.233333 & Female & White & English & 170.18 &  92.70 & MEDICARE                   & 2019-01-01 & 64\\\\\n",
       "\t4 & JCe7cb4d & 131062788358 & 0 & 2015-01-01 23:39:00 & 13631833 &  3 & 2015-01-01 17:07:00 & 6.533333 & Male   & White & English & 185.42 & 101.90 & AETNA                      & 2019-01-01 & 25\\\\\n",
       "\t5 & JCe293de & 131063044001 & 0 & 2015-01-05 02:23:00 & 13663181 &  3 & 2015-01-04 18:13:00 & 8.166667 & Female & Other & Spanish & 152.40 &  40.37 & COMMERCIAL OTHER           & 2019-01-01 & 34\\\\\n",
       "\t6 & JCe8d756 & 131063080858 & 0 & 2015-01-07 04:00:00 & 13668812 &  2 & 2015-01-06 22:24:00 & 5.600000 & Male   & White & English & 170.18 &  68.67 & BLUE CROSS                 & 2019-01-01 & 68\\\\\n",
       "\\end{tabular}\n"
      ],
      "text/markdown": [
       "\n",
       "A data.frame: 6 × 16\n",
       "\n",
       "| <!--/--> | anon_id &lt;chr&gt; | pat_enc_csn_id_coded &lt;dbl&gt; | label &lt;int&gt; | admit_time &lt;dttm&gt; | inpatient_data_id_coded &lt;dbl&gt; | ESI &lt;dbl&gt; | hosp_admsn_time &lt;dttm&gt; | ed_time_hr &lt;dbl&gt; | gender &lt;fct&gt; | race &lt;fct&gt; | language &lt;fct&gt; | recent_height_cm &lt;dbl&gt; | recent_weight_kg &lt;dbl&gt; | insurance &lt;fct&gt; | recent_date &lt;date&gt; | age &lt;dbl&gt; |\n",
       "|---|---|---|---|---|---|---|---|---|---|---|---|---|---|---|---|---|\n",
       "| 1 | JCe78a06 | 131062667066 | 0 | 2015-01-02 01:01:00 | 13616753 | NA | 2015-01-01 17:10:00 | 7.850000 | Female | White | English | 152.40 |  55.60 | HEALTHNET SENIOR ADVANTAGE | 2020-01-10 | 83 |\n",
       "| 2 | JCd1c19e | 131062745090 | 0 | 2015-01-03 05:53:00 | 13628503 |  3 | 2015-01-03 01:56:00 | 3.950000 | Female | White | English | 154.50 |  49.20 | BLUE SHIELD                | 2020-03-31 | 53 |\n",
       "| 3 | JCd91eb2 | 131062747648 | 0 | 2015-01-01 08:24:00 | 13628701 |  2 | 2015-01-01 01:10:00 | 7.233333 | Female | White | English | 170.18 |  92.70 | MEDICARE                   | 2019-01-01 | 64 |\n",
       "| 4 | JCe7cb4d | 131062788358 | 0 | 2015-01-01 23:39:00 | 13631833 |  3 | 2015-01-01 17:07:00 | 6.533333 | Male   | White | English | 185.42 | 101.90 | AETNA                      | 2019-01-01 | 25 |\n",
       "| 5 | JCe293de | 131063044001 | 0 | 2015-01-05 02:23:00 | 13663181 |  3 | 2015-01-04 18:13:00 | 8.166667 | Female | Other | Spanish | 152.40 |  40.37 | COMMERCIAL OTHER           | 2019-01-01 | 34 |\n",
       "| 6 | JCe8d756 | 131063080858 | 0 | 2015-01-07 04:00:00 | 13668812 |  2 | 2015-01-06 22:24:00 | 5.600000 | Male   | White | English | 170.18 |  68.67 | BLUE CROSS                 | 2019-01-01 | 68 |\n",
       "\n"
      ],
      "text/plain": [
       "  anon_id  pat_enc_csn_id_coded label admit_time         \n",
       "1 JCe78a06 131062667066         0     2015-01-02 01:01:00\n",
       "2 JCd1c19e 131062745090         0     2015-01-03 05:53:00\n",
       "3 JCd91eb2 131062747648         0     2015-01-01 08:24:00\n",
       "4 JCe7cb4d 131062788358         0     2015-01-01 23:39:00\n",
       "5 JCe293de 131063044001         0     2015-01-05 02:23:00\n",
       "6 JCe8d756 131063080858         0     2015-01-07 04:00:00\n",
       "  inpatient_data_id_coded ESI hosp_admsn_time     ed_time_hr gender race \n",
       "1 13616753                NA  2015-01-01 17:10:00 7.850000   Female White\n",
       "2 13628503                 3  2015-01-03 01:56:00 3.950000   Female White\n",
       "3 13628701                 2  2015-01-01 01:10:00 7.233333   Female White\n",
       "4 13631833                 3  2015-01-01 17:07:00 6.533333   Male   White\n",
       "5 13663181                 3  2015-01-04 18:13:00 8.166667   Female Other\n",
       "6 13668812                 2  2015-01-06 22:24:00 5.600000   Male   White\n",
       "  language recent_height_cm recent_weight_kg insurance                 \n",
       "1 English  152.40            55.60           HEALTHNET SENIOR ADVANTAGE\n",
       "2 English  154.50            49.20           BLUE SHIELD               \n",
       "3 English  170.18            92.70           MEDICARE                  \n",
       "4 English  185.42           101.90           AETNA                     \n",
       "5 Spanish  152.40            40.37           COMMERCIAL OTHER          \n",
       "6 English  170.18            68.67           BLUE CROSS                \n",
       "  recent_date age\n",
       "1 2020-01-10  83 \n",
       "2 2020-03-31  53 \n",
       "3 2019-01-01  64 \n",
       "4 2019-01-01  25 \n",
       "5 2019-01-01  34 \n",
       "6 2019-01-01  68 "
      ]
     },
     "metadata": {},
     "output_type": "display_data"
    }
   ],
   "source": [
    "head(cohort_age)"
   ]
  }
 ],
 "metadata": {
  "environment": {
   "name": "r-cpu.4-0.m71",
   "type": "gcloud",
   "uri": "gcr.io/deeplearning-platform-release/r-cpu.4-0:m71"
  },
  "kernelspec": {
   "display_name": "R",
   "language": "R",
   "name": "ir"
  },
  "language_info": {
   "codemirror_mode": "r",
   "file_extension": ".r",
   "mimetype": "text/x-r-source",
   "name": "R",
   "pygments_lexer": "r",
   "version": "4.1.0"
  },
  "toc": {
   "base_numbering": 1,
   "nav_menu": {},
   "number_sections": true,
   "sideBar": true,
   "skip_h1_title": false,
   "title_cell": "Table of Contents",
   "title_sidebar": "Contents",
   "toc_cell": false,
   "toc_position": {},
   "toc_section_display": true,
   "toc_window_display": false
  },
  "varInspector": {
   "cols": {
    "lenName": 16,
    "lenType": 16,
    "lenVar": 40
   },
   "kernels_config": {
    "python": {
     "delete_cmd_postfix": "",
     "delete_cmd_prefix": "del ",
     "library": "var_list.py",
     "varRefreshCmd": "print(var_dic_list())"
    },
    "r": {
     "delete_cmd_postfix": ") ",
     "delete_cmd_prefix": "rm(",
     "library": "var_list.r",
     "varRefreshCmd": "cat(var_dic_list()) "
    }
   },
   "types_to_exclude": [
    "module",
    "function",
    "builtin_function_or_method",
    "instance",
    "_Feature"
   ],
   "window_display": false
  }
 },
 "nbformat": 4,
 "nbformat_minor": 4
}
