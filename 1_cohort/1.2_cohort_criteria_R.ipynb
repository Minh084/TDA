{
 "cells": [
  {
   "cell_type": "markdown",
   "metadata": {},
   "source": [
    "### Descriptions:\n",
    "\n",
    "Some initial inclusion/(exclusion) criteria\n",
    "- have inpatient ID, Hospital encounters\n",
    "- full code status only (no other code prior to or within 24 hr since admission)\n",
    "- 18 years and older\n",
    "- when processing other features, will exclude a few more, mainly those without a complete set of vitals\n",
    "- add other unprocessed variables from demographics table\n",
    "\n",
    "**Inputs**: \n",
    "- `1_1_cohort` (original init cohort): check years of admission 2015 - 2020\n",
    "- `encounter` (from SQL) : join with  table to get ESI and inpatient ID information\n",
    "- `code_status` (from SQL): exclude patients who have any order for EXISTING code status that is not full prior to and within 24hrs after inpatient admission (even if code was cancelled later)\n",
    "- `demographic`: exclude patients who are < 18 year old\n",
    "\n",
    "**Outputs**: \n",
    "- `1_2_cohort`\n",
    "- This cohort is sent to Tiffany for label processing"
   ]
  },
  {
   "cell_type": "markdown",
   "metadata": {},
   "source": [
    "### Importing R libraries"
   ]
  },
  {
   "cell_type": "code",
   "execution_count": 1,
   "metadata": {
    "ExecuteTime": {
     "end_time": "2020-05-21T00:38:06.078240Z",
     "start_time": "2020-05-21T00:38:02.778Z"
    }
   },
   "outputs": [
    {
     "name": "stderr",
     "output_type": "stream",
     "text": [
      "Warning message:\n",
      "\"package 'bigrquery' was built under R version 4.0.5\"\n",
      "-- \u001b[1mAttaching packages\u001b[22m --------------------------------------- tidyverse 1.3.0 --\n",
      "\n",
      "\u001b[32mv\u001b[39m \u001b[34mggplot2\u001b[39m 3.3.2     \u001b[32mv\u001b[39m \u001b[34mpurrr  \u001b[39m 0.3.4\n",
      "\u001b[32mv\u001b[39m \u001b[34mtibble \u001b[39m 3.0.4     \u001b[32mv\u001b[39m \u001b[34mdplyr  \u001b[39m 1.0.2\n",
      "\u001b[32mv\u001b[39m \u001b[34mtidyr  \u001b[39m 1.1.2     \u001b[32mv\u001b[39m \u001b[34mstringr\u001b[39m 1.4.0\n",
      "\u001b[32mv\u001b[39m \u001b[34mreadr  \u001b[39m 1.4.0     \u001b[32mv\u001b[39m \u001b[34mforcats\u001b[39m 0.5.0\n",
      "\n",
      "-- \u001b[1mConflicts\u001b[22m ------------------------------------------ tidyverse_conflicts() --\n",
      "\u001b[31mx\u001b[39m \u001b[34mdplyr\u001b[39m::\u001b[32mfilter()\u001b[39m masks \u001b[34mstats\u001b[39m::filter()\n",
      "\u001b[31mx\u001b[39m \u001b[34mdplyr\u001b[39m::\u001b[32mlag()\u001b[39m    masks \u001b[34mstats\u001b[39m::lag()\n",
      "\n",
      "\n",
      "Attaching package: 'lubridate'\n",
      "\n",
      "\n",
      "The following objects are masked from 'package:base':\n",
      "\n",
      "    date, intersect, setdiff, union\n",
      "\n",
      "\n"
     ]
    }
   ],
   "source": [
    "library(bigrquery)  # to query STARR-OMOP (stored in BigQuery) using SQL\n",
    "library(tidyverse)\n",
    "library(lubridate)\n",
    "\n",
    "# library(data.table)\n",
    "# library(Matrix)\n",
    "# library(caret) # import this before glmnet to avoid rlang version problem\n",
    "# library(glmnet)\n",
    "# library(bit64)\n",
    "\n",
    "# library(slam)\n",
    "# library(mtools) for one hot coder, not available on Nero or use caret or tidyr\n",
    "# library(mice)\n",
    "\n",
    "options(repr.matrix.max.rows=250, repr.matrix.max.cols=30)"
   ]
  },
  {
   "cell_type": "markdown",
   "metadata": {},
   "source": [
    "### Set up BigQuery\n",
    "\n",
    "https://bigrquery.r-dbi.org/\n",
    "\n",
    "The bigrquery package makes it easy to work with data stored in Google BigQuery by allowing you to query BigQuery tables and retrieve metadata about your projects, datasets, tables, and jobs. The bigrquery package provides three levels of abstraction on top of BigQuery:\n",
    "\n",
    "- The low-level API provides thin wrappers over the underlying REST API. All the low-level functions start with `bq_`, and mostly have the form bq_noun_verb(). This level of abstraction is most appropriate if you’re familiar with the REST API and you want do something not supported in the higher-level APIs.\n",
    "\n",
    "- The `DBI` interface wraps the low-level API and makes working with BigQuery like working with any other database system. This is most convenient layer if you want to execute SQL queries in BigQuery or upload smaller amounts (i.e. <100 MB) of data.\n",
    "\n",
    "- The `dplyr` interface lets you treat BigQuery tables as if they are in-memory data frames. This is the most convenient layer if you don’t want to write SQL, but instead want dbplyr to write it for you.\n"
   ]
  },
  {
   "cell_type": "code",
   "execution_count": 2,
   "metadata": {},
   "outputs": [
    {
     "data": {
      "text/plain": [
       "NULL"
      ]
     },
     "metadata": {},
     "output_type": "display_data"
    }
   ],
   "source": [
    "# CREDENTIALS depending on LOCATIONS:\n",
    "# credential <- paste0(\"/home/\", \"minh084\", \"/.config/gcloud/application_default_credentials.json\")\n",
    "\n",
    "# local computer\n",
    "credential <- \"C:/Users/User/AppData/Roaming/gcloud/application_default_credentials.json\"\n",
    "\n",
    "# Nero onprem\n",
    "# credential <- \"/home/minh084/.config/gcloud/application_default_credentials.json\"\n",
    "# Nero gcp notebook\n",
    "\n",
    "# credential <- \"/home/jupyter/.config/gcloud/application_default_credentials.json\"\n",
    "\n",
    "project_id <- \"som-nero-phi-jonc101\"\n",
    "\n",
    "Sys.setenv(GOOGLE_APPLICATION_CREDENTIALS = credential)\n",
    "Sys.setenv(GCLOUD_PROJECT = project_id)\n",
    "gargle::credentials_app_default()"
   ]
  },
  {
   "cell_type": "code",
   "execution_count": 3,
   "metadata": {},
   "outputs": [
    {
     "data": {
      "text/plain": [
       "<BigQueryConnection>\n",
       "  Dataset: som-nero-phi-jonc101.shc_core\n",
       "  Billing: som-nero-phi-jonc101"
      ]
     },
     "metadata": {},
     "output_type": "display_data"
    },
    {
     "data": {
      "text/html": [
       "<style>\n",
       ".list-inline {list-style: none; margin:0; padding: 0}\n",
       ".list-inline>li {display: inline-block}\n",
       ".list-inline>li:not(:last-child)::after {content: \"\\00b7\"; padding: 0 .5ex}\n",
       "</style>\n",
       "<ol class=list-inline><li>'adt'</li><li>'allergy'</li><li>'culture_sensitivity'</li><li>'demographic'</li><li>'dep_map'</li><li>'diagnosis_code'</li><li>'drg_code'</li><li>'encounter'</li><li>'family_hx'</li><li>'flowsheet'</li><li>'lab_result'</li><li>'lda'</li><li>'mapped_meds'</li><li>'mar'</li><li>'med_orderset'</li><li>'ndc_code'</li><li>'order_med'</li><li>'order_proc'</li><li>'order_quest'</li><li>'proc_note'</li><li>'proc_orderset'</li><li>'procedure_code'</li><li>'prov_map'</li><li>'social_hx'</li><li>'treatment_team'</li></ol>\n"
      ],
      "text/latex": [
       "\\begin{enumerate*}\n",
       "\\item 'adt'\n",
       "\\item 'allergy'\n",
       "\\item 'culture\\_sensitivity'\n",
       "\\item 'demographic'\n",
       "\\item 'dep\\_map'\n",
       "\\item 'diagnosis\\_code'\n",
       "\\item 'drg\\_code'\n",
       "\\item 'encounter'\n",
       "\\item 'family\\_hx'\n",
       "\\item 'flowsheet'\n",
       "\\item 'lab\\_result'\n",
       "\\item 'lda'\n",
       "\\item 'mapped\\_meds'\n",
       "\\item 'mar'\n",
       "\\item 'med\\_orderset'\n",
       "\\item 'ndc\\_code'\n",
       "\\item 'order\\_med'\n",
       "\\item 'order\\_proc'\n",
       "\\item 'order\\_quest'\n",
       "\\item 'proc\\_note'\n",
       "\\item 'proc\\_orderset'\n",
       "\\item 'procedure\\_code'\n",
       "\\item 'prov\\_map'\n",
       "\\item 'social\\_hx'\n",
       "\\item 'treatment\\_team'\n",
       "\\end{enumerate*}\n"
      ],
      "text/markdown": [
       "1. 'adt'\n",
       "2. 'allergy'\n",
       "3. 'culture_sensitivity'\n",
       "4. 'demographic'\n",
       "5. 'dep_map'\n",
       "6. 'diagnosis_code'\n",
       "7. 'drg_code'\n",
       "8. 'encounter'\n",
       "9. 'family_hx'\n",
       "10. 'flowsheet'\n",
       "11. 'lab_result'\n",
       "12. 'lda'\n",
       "13. 'mapped_meds'\n",
       "14. 'mar'\n",
       "15. 'med_orderset'\n",
       "16. 'ndc_code'\n",
       "17. 'order_med'\n",
       "18. 'order_proc'\n",
       "19. 'order_quest'\n",
       "20. 'proc_note'\n",
       "21. 'proc_orderset'\n",
       "22. 'procedure_code'\n",
       "23. 'prov_map'\n",
       "24. 'social_hx'\n",
       "25. 'treatment_team'\n",
       "\n",
       "\n"
      ],
      "text/plain": [
       " [1] \"adt\"                 \"allergy\"             \"culture_sensitivity\"\n",
       " [4] \"demographic\"         \"dep_map\"             \"diagnosis_code\"     \n",
       " [7] \"drg_code\"            \"encounter\"           \"family_hx\"          \n",
       "[10] \"flowsheet\"           \"lab_result\"          \"lda\"                \n",
       "[13] \"mapped_meds\"         \"mar\"                 \"med_orderset\"       \n",
       "[16] \"ndc_code\"            \"order_med\"           \"order_proc\"         \n",
       "[19] \"order_quest\"         \"proc_note\"           \"proc_orderset\"      \n",
       "[22] \"procedure_code\"      \"prov_map\"            \"social_hx\"          \n",
       "[25] \"treatment_team\"     "
      ]
     },
     "metadata": {},
     "output_type": "display_data"
    }
   ],
   "source": [
    "library(DBI)\n",
    "con <- dbConnect(\n",
    "  bigrquery::bigquery(),\n",
    "  project = project_id,\n",
    "  dataset = \"shc_core\" #, billing = project_id\n",
    ")\n",
    "con \n",
    "dbListTables(con)"
   ]
  },
  {
   "cell_type": "raw",
   "metadata": {},
   "source": [
    "# query the encounter table from shc_core on BQ\n",
    "# this takes too long on local computers\n",
    "q = \"\n",
    "SELECT c.*,\n",
    "    e.inpatient_data_id_coded, \n",
    "    e.enc_type, e.visit_type, e.acuity_level, e.ACUITY_LEVEL_C,\n",
    "    e.hosp_admsn_time_jittered_utc\n",
    "FROM \n",
    "    som-nero-phi-jonc101.shc_core.encounter as e\n",
    "RIGHT JOIN \n",
    "    som-nero-phi-jonc101.triageTD.1_1_cohort as c\n",
    "ON (c.anon_id=e.anon_id and c.pat_enc_csn_id_coded=e.pat_enc_csn_id_coded)\n",
    "ORDER BY\n",
    "  c.anon_id\n",
    "\"\n",
    "\n",
    "# submit the query:\n",
    "update.packages('Rcpp')\n",
    "df <- dbGetQuery(con, q)\n",
    "dim(df)\n",
    "head(df)"
   ]
  },
  {
   "cell_type": "markdown",
   "metadata": {},
   "source": [
    "### shc_core\n",
    "* Use init cohort, with admit_time (this is the effective time < event time for admission) from adt table\n",
    "* No longer checking for admission order from order_proc because these orders don't have the level of care\n",
    "* Get inpatient id and acuity_level = ESI from encounter table\n",
    "* Keep patients with FULL CODE status and >=18 year old\n",
    "* Keep aptients with admit years from 2015 - 2020"
   ]
  },
  {
   "cell_type": "code",
   "execution_count": 2,
   "metadata": {},
   "outputs": [
    {
     "data": {
      "text/html": [
       "55168"
      ],
      "text/latex": [
       "55168"
      ],
      "text/markdown": [
       "55168"
      ],
      "text/plain": [
       "[1] 55168"
      ]
     },
     "metadata": {},
     "output_type": "display_data"
    },
    {
     "data": {
      "text/html": [
       "<style>\n",
       ".list-inline {list-style: none; margin:0; padding: 0}\n",
       ".list-inline>li {display: inline-block}\n",
       ".list-inline>li:not(:last-child)::after {content: \"\\00b7\"; padding: 0 .5ex}\n",
       "</style>\n",
       "<ol class=list-inline><li>'anon_id'</li><li>'pat_enc_csn_id_coded'</li><li>'admit_time_jittered'</li><li>'label'</li></ol>\n"
      ],
      "text/latex": [
       "\\begin{enumerate*}\n",
       "\\item 'anon\\_id'\n",
       "\\item 'pat\\_enc\\_csn\\_id\\_coded'\n",
       "\\item 'admit\\_time\\_jittered'\n",
       "\\item 'label'\n",
       "\\end{enumerate*}\n"
      ],
      "text/markdown": [
       "1. 'anon_id'\n",
       "2. 'pat_enc_csn_id_coded'\n",
       "3. 'admit_time_jittered'\n",
       "4. 'label'\n",
       "\n",
       "\n"
      ],
      "text/plain": [
       "[1] \"anon_id\"              \"pat_enc_csn_id_coded\" \"admit_time_jittered\" \n",
       "[4] \"label\"               "
      ]
     },
     "metadata": {},
     "output_type": "display_data"
    }
   ],
   "source": [
    "cohortdir = \"../../OutputTD/1_cohort\"\n",
    "\n",
    "cohort1 <- read.csv(file.path(cohortdir, \"1_1_cohort.csv\"))\n",
    "nrow(cohort1)  #55168\n",
    "colnames(cohort1)"
   ]
  },
  {
   "cell_type": "raw",
   "metadata": {},
   "source": [
    "dfer <- read.csv(file.path(datadir, \"dfer.csv\"))\n",
    "nrow(dfer)  \n",
    "colnames(dfer)\n",
    "\n",
    "# df <- left_join(cohort1, dfer, by = c('anon_id', 'pat_enc_csn_id_coded', 'admit_time_jittered' = 'effective_time_jittered_utc'))\n",
    "# nrow(df)"
   ]
  },
  {
   "cell_type": "code",
   "execution_count": 3,
   "metadata": {},
   "outputs": [
    {
     "data": {
      "text/html": [
       "<style>\n",
       ".list-inline {list-style: none; margin:0; padding: 0}\n",
       ".list-inline>li {display: inline-block}\n",
       ".list-inline>li:not(:last-child)::after {content: \"\\00b7\"; padding: 0 .5ex}\n",
       "</style>\n",
       "<ol class=list-inline><li>2019</li><li>2018</li><li>2020</li><li>2016</li><li>2017</li><li>2015</li></ol>\n"
      ],
      "text/latex": [
       "\\begin{enumerate*}\n",
       "\\item 2019\n",
       "\\item 2018\n",
       "\\item 2020\n",
       "\\item 2016\n",
       "\\item 2017\n",
       "\\item 2015\n",
       "\\end{enumerate*}\n"
      ],
      "text/markdown": [
       "1. 2019\n",
       "2. 2018\n",
       "3. 2020\n",
       "4. 2016\n",
       "5. 2017\n",
       "6. 2015\n",
       "\n",
       "\n"
      ],
      "text/plain": [
       "[1] 2019 2018 2020 2016 2017 2015"
      ]
     },
     "metadata": {},
     "output_type": "display_data"
    },
    {
     "data": {
      "text/html": [
       "0"
      ],
      "text/latex": [
       "0"
      ],
      "text/markdown": [
       "0"
      ],
      "text/plain": [
       "[1] 0"
      ]
     },
     "metadata": {},
     "output_type": "display_data"
    }
   ],
   "source": [
    "# Check admit years\n",
    "cohort1 <- cohort1 %>% mutate(admit_time = ymd_hms(admit_time_jittered), \n",
    "                              adm_year = year(admit_time))\n",
    "unique(cohort1$adm_year)\n",
    "nrow(cohort1 %>% filter(adm_year==2021))"
   ]
  },
  {
   "cell_type": "code",
   "execution_count": 4,
   "metadata": {},
   "outputs": [
    {
     "data": {
      "text/html": [
       "55168"
      ],
      "text/latex": [
       "55168"
      ],
      "text/markdown": [
       "55168"
      ],
      "text/plain": [
       "[1] 55168"
      ]
     },
     "metadata": {},
     "output_type": "display_data"
    }
   ],
   "source": [
    "# remove patients with admit year 2021\n",
    "# rename the label as max level of care at 24 hour\n",
    "# change to date_time, but when saved, it goes back to factor!\n",
    "cohort1 <- cohort1 %>% mutate(admit_time = ymd_hms(admit_time_jittered), \n",
    "                              adm_year = year(admit_time)) %>% \n",
    "                        select(-c(admit_time_jittered, adm_year)) \n",
    "nrow(cohort1) #55168 without 2020"
   ]
  },
  {
   "cell_type": "code",
   "execution_count": 5,
   "metadata": {},
   "outputs": [
    {
     "data": {
      "text/html": [
       "36212"
      ],
      "text/latex": [
       "36212"
      ],
      "text/markdown": [
       "36212"
      ],
      "text/plain": [
       "[1] 36212"
      ]
     },
     "metadata": {},
     "output_type": "display_data"
    },
    {
     "data": {
      "text/html": [
       "55168"
      ],
      "text/latex": [
       "55168"
      ],
      "text/markdown": [
       "55168"
      ],
      "text/plain": [
       "[1] 55168"
      ]
     },
     "metadata": {},
     "output_type": "display_data"
    },
    {
     "data": {
      "text/html": [
       "55168"
      ],
      "text/latex": [
       "55168"
      ],
      "text/markdown": [
       "55168"
      ],
      "text/plain": [
       "[1] 55168"
      ]
     },
     "metadata": {},
     "output_type": "display_data"
    }
   ],
   "source": [
    "# 1 MRN (patient) can have multiple CSN (visits/encounters)\n",
    "# but 1 CSN is associated with 1 MRN, for this cohort\n",
    "\n",
    "nrow(cohort1 %>% distinct(anon_id))\n",
    "nrow(cohort1 %>% distinct(pat_enc_csn_id_coded))\n",
    "nrow(cohort1 %>% distinct(anon_id, pat_enc_csn_id_coded))\n",
    "# nrow(cohort1 %>% group_by(anon_id, pat_enc_csn_id_coded, inpatient_data_id_coded) %>% unique()) # unique rows"
   ]
  },
  {
   "cell_type": "code",
   "execution_count": 6,
   "metadata": {},
   "outputs": [
    {
     "data": {
      "text/html": [
       "36212"
      ],
      "text/latex": [
       "36212"
      ],
      "text/markdown": [
       "36212"
      ],
      "text/plain": [
       "[1] 36212"
      ]
     },
     "metadata": {},
     "output_type": "display_data"
    },
    {
     "data": {
      "text/plain": [
       "   Min. 1st Qu.  Median    Mean 3rd Qu.    Max. \n",
       "  1.000   1.000   1.000   1.523   2.000  41.000 "
      ]
     },
     "metadata": {},
     "output_type": "display_data"
    },
    {
     "data": {
      "image/png": "[encoded data removed]",
      "text/plain": [
       "Plot with title “Histogram of cohort1_count[cohort1_count$csn > 1, ]$csn”"
      ]
     },
     "metadata": {
      "image/png": {
       "height": 420,
       "width": 420
      }
     },
     "output_type": "display_data"
    }
   ],
   "source": [
    "# count how many visits/csn each MRN (anon_id) has\n",
    "cohort1_count <- cohort1 %>% count(anon_id, sort = TRUE, name = 'csn')\n",
    "nrow(cohort1_count)\n",
    "summary(cohort1_count$csn)\n",
    "\n",
    "# display histogram of freq of patients who have more than 1 visit\n",
    "hist(cohort1_count[cohort1_count$csn >1, ]$csn, breaks=38, col=\"powderblue\")"
   ]
  },
  {
   "cell_type": "code",
   "execution_count": 7,
   "metadata": {},
   "outputs": [
    {
     "data": {
      "text/html": [
       "<table class=\"dataframe\">\n",
       "<caption>A data.frame: 6 × 2</caption>\n",
       "<thead>\n",
       "\t<tr><th></th><th scope=col>anon_id</th><th scope=col>csn</th></tr>\n",
       "\t<tr><th></th><th scope=col>&lt;chr&gt;</th><th scope=col>&lt;int&gt;</th></tr>\n",
       "</thead>\n",
       "<tbody>\n",
       "\t<tr><th scope=row>1</th><td>JCe8f38d </td><td>41</td></tr>\n",
       "\t<tr><th scope=row>2</th><td>JC29fe299</td><td>38</td></tr>\n",
       "\t<tr><th scope=row>3</th><td>JCdc9c9c </td><td>37</td></tr>\n",
       "\t<tr><th scope=row>4</th><td>JC2a0d68b</td><td>36</td></tr>\n",
       "\t<tr><th scope=row>5</th><td>JCdd32fa </td><td>36</td></tr>\n",
       "\t<tr><th scope=row>6</th><td>JCcfe0cb </td><td>31</td></tr>\n",
       "</tbody>\n",
       "</table>\n"
      ],
      "text/latex": [
       "A data.frame: 6 × 2\n",
       "\\begin{tabular}{r|ll}\n",
       "  & anon\\_id & csn\\\\\n",
       "  & <chr> & <int>\\\\\n",
       "\\hline\n",
       "\t1 & JCe8f38d  & 41\\\\\n",
       "\t2 & JC29fe299 & 38\\\\\n",
       "\t3 & JCdc9c9c  & 37\\\\\n",
       "\t4 & JC2a0d68b & 36\\\\\n",
       "\t5 & JCdd32fa  & 36\\\\\n",
       "\t6 & JCcfe0cb  & 31\\\\\n",
       "\\end{tabular}\n"
      ],
      "text/markdown": [
       "\n",
       "A data.frame: 6 × 2\n",
       "\n",
       "| <!--/--> | anon_id &lt;chr&gt; | csn &lt;int&gt; |\n",
       "|---|---|---|\n",
       "| 1 | JCe8f38d  | 41 |\n",
       "| 2 | JC29fe299 | 38 |\n",
       "| 3 | JCdc9c9c  | 37 |\n",
       "| 4 | JC2a0d68b | 36 |\n",
       "| 5 | JCdd32fa  | 36 |\n",
       "| 6 | JCcfe0cb  | 31 |\n",
       "\n"
      ],
      "text/plain": [
       "  anon_id   csn\n",
       "1 JCe8f38d  41 \n",
       "2 JC29fe299 38 \n",
       "3 JCdc9c9c  37 \n",
       "4 JC2a0d68b 36 \n",
       "5 JCdd32fa  36 \n",
       "6 JCcfe0cb  31 "
      ]
     },
     "metadata": {},
     "output_type": "display_data"
    }
   ],
   "source": [
    "head(cohort1_count)"
   ]
  },
  {
   "cell_type": "markdown",
   "metadata": {},
   "source": [
    "### Encounter, hospital, inpatient IDs\n",
    "* This table gives us the inpatient id and ESI level\n",
    "* Either Hospital encounter or empty (NA) type: only keep Hospital Encounter\n",
    "* All Visit type are NA, as this might be more applicable to outpatient encounters\n",
    "* Acuity levels are ESI with some missing (~2200)\n",
    "\n",
    "==> we can remove enc_type and visit_type\n",
    "* Hospital Admission time (such as ED arrival) is probably before the admit time (to inpatient) from order proc\n",
    "* Admit time from init cohort is effective_time_jittered_utc, same as Hospital admission time, all times are UTC"
   ]
  },
  {
   "cell_type": "code",
   "execution_count": 8,
   "metadata": {},
   "outputs": [
    {
     "data": {
      "text/html": [
       "55168"
      ],
      "text/latex": [
       "55168"
      ],
      "text/markdown": [
       "55168"
      ],
      "text/plain": [
       "[1] 55168"
      ]
     },
     "metadata": {},
     "output_type": "display_data"
    }
   ],
   "source": [
    "datadir = \"../../DataTD\"\n",
    "enc <- read.csv(file.path(datadir, \"encounters.csv\"))\n",
    "nrow(enc)"
   ]
  },
  {
   "cell_type": "code",
   "execution_count": 9,
   "metadata": {},
   "outputs": [
    {
     "data": {
      "text/html": [
       "<table class=\"dataframe\">\n",
       "<caption>A data.frame: 17 × 10</caption>\n",
       "<thead>\n",
       "\t<tr><th scope=col>anon_id</th><th scope=col>pat_enc_csn_id_coded</th><th scope=col>admit_time_jittered</th><th scope=col>label</th><th scope=col>inpatient_data_id_coded</th><th scope=col>enc_type</th><th scope=col>visit_type</th><th scope=col>acuity_level</th><th scope=col>ACUITY_LEVEL_C</th><th scope=col>hosp_admsn_time_jittered_utc</th></tr>\n",
       "\t<tr><th scope=col>&lt;chr&gt;</th><th scope=col>&lt;dbl&gt;</th><th scope=col>&lt;chr&gt;</th><th scope=col>&lt;int&gt;</th><th scope=col>&lt;dbl&gt;</th><th scope=col>&lt;chr&gt;</th><th scope=col>&lt;lgl&gt;</th><th scope=col>&lt;chr&gt;</th><th scope=col>&lt;dbl&gt;</th><th scope=col>&lt;chr&gt;</th></tr>\n",
       "</thead>\n",
       "<tbody>\n",
       "\t<tr><td>JC29fea9e</td><td>131283506890</td><td>2020-03-09 02:48:00+00:00</td><td>0</td><td>NA</td><td></td><td>NA</td><td></td><td>NA</td><td></td></tr>\n",
       "\t<tr><td>JC2a0a75c</td><td>131283296426</td><td>2020-01-13 03:38:00+00:00</td><td>1</td><td>NA</td><td></td><td>NA</td><td></td><td>NA</td><td></td></tr>\n",
       "\t<tr><td>JC2a10dd5</td><td>131287909405</td><td>2020-03-29 07:10:00+00:00</td><td>1</td><td>NA</td><td></td><td>NA</td><td></td><td>NA</td><td></td></tr>\n",
       "\t<tr><td>JC2a305eb</td><td>131283226027</td><td>2020-01-21 03:52:00+00:00</td><td>0</td><td>NA</td><td></td><td>NA</td><td></td><td>NA</td><td></td></tr>\n",
       "\t<tr><td>JCcbba12 </td><td>131287849251</td><td>2020-03-30 16:39:00+00:00</td><td>1</td><td>NA</td><td></td><td>NA</td><td></td><td>NA</td><td></td></tr>\n",
       "\t<tr><td>JCd1fa43 </td><td>131287923845</td><td>2020-03-30 19:34:00+00:00</td><td>0</td><td>NA</td><td></td><td>NA</td><td></td><td>NA</td><td></td></tr>\n",
       "\t<tr><td>JCd4996e </td><td>131287855587</td><td>2020-03-30 08:20:00+00:00</td><td>0</td><td>NA</td><td></td><td>NA</td><td></td><td>NA</td><td></td></tr>\n",
       "\t<tr><td>JCd58d32 </td><td>131287959043</td><td>2020-03-31 03:24:00+00:00</td><td>0</td><td>NA</td><td></td><td>NA</td><td></td><td>NA</td><td></td></tr>\n",
       "\t<tr><td>JCe16ec2 </td><td>131287908901</td><td>2020-03-28 08:14:00+00:00</td><td>0</td><td>NA</td><td></td><td>NA</td><td></td><td>NA</td><td></td></tr>\n",
       "\t<tr><td>JCe3f331 </td><td>131287919487</td><td>2020-03-30 20:35:00+00:00</td><td>1</td><td>NA</td><td></td><td>NA</td><td></td><td>NA</td><td></td></tr>\n",
       "\t<tr><td>JCe48ee1 </td><td>131287963283</td><td>2020-03-31 07:00:00+00:00</td><td>0</td><td>NA</td><td></td><td>NA</td><td></td><td>NA</td><td></td></tr>\n",
       "\t<tr><td>JCe4c6e9 </td><td>131287851722</td><td>2020-03-29 01:51:00+00:00</td><td>0</td><td>NA</td><td></td><td>NA</td><td></td><td>NA</td><td></td></tr>\n",
       "\t<tr><td>JCe68866 </td><td>131287989292</td><td>2020-03-29 21:31:00+00:00</td><td>0</td><td>NA</td><td></td><td>NA</td><td></td><td>NA</td><td></td></tr>\n",
       "\t<tr><td>JCe78e46 </td><td>131287856560</td><td>2020-03-27 10:36:00+00:00</td><td>0</td><td>NA</td><td></td><td>NA</td><td></td><td>NA</td><td></td></tr>\n",
       "\t<tr><td>JCe8b986 </td><td>131288007119</td><td>2020-03-29 05:09:00+00:00</td><td>1</td><td>NA</td><td></td><td>NA</td><td></td><td>NA</td><td></td></tr>\n",
       "\t<tr><td>JCea60c8 </td><td>131287851262</td><td>2020-03-27 17:43:00+00:00</td><td>0</td><td>NA</td><td></td><td>NA</td><td></td><td>NA</td><td></td></tr>\n",
       "\t<tr><td>JCec0168 </td><td>131287849414</td><td>2020-03-25 20:04:00+00:00</td><td>0</td><td>NA</td><td></td><td>NA</td><td></td><td>NA</td><td></td></tr>\n",
       "</tbody>\n",
       "</table>\n"
      ],
      "text/latex": [
       "A data.frame: 17 × 10\n",
       "\\begin{tabular}{llllllllll}\n",
       " anon\\_id & pat\\_enc\\_csn\\_id\\_coded & admit\\_time\\_jittered & label & inpatient\\_data\\_id\\_coded & enc\\_type & visit\\_type & acuity\\_level & ACUITY\\_LEVEL\\_C & hosp\\_admsn\\_time\\_jittered\\_utc\\\\\n",
       " <chr> & <dbl> & <chr> & <int> & <dbl> & <chr> & <lgl> & <chr> & <dbl> & <chr>\\\\\n",
       "\\hline\n",
       "\t JC29fea9e & 131283506890 & 2020-03-09 02:48:00+00:00 & 0 & NA &  & NA &  & NA & \\\\\n",
       "\t JC2a0a75c & 131283296426 & 2020-01-13 03:38:00+00:00 & 1 & NA &  & NA &  & NA & \\\\\n",
       "\t JC2a10dd5 & 131287909405 & 2020-03-29 07:10:00+00:00 & 1 & NA &  & NA &  & NA & \\\\\n",
       "\t JC2a305eb & 131283226027 & 2020-01-21 03:52:00+00:00 & 0 & NA &  & NA &  & NA & \\\\\n",
       "\t JCcbba12  & 131287849251 & 2020-03-30 16:39:00+00:00 & 1 & NA &  & NA &  & NA & \\\\\n",
       "\t JCd1fa43  & 131287923845 & 2020-03-30 19:34:00+00:00 & 0 & NA &  & NA &  & NA & \\\\\n",
       "\t JCd4996e  & 131287855587 & 2020-03-30 08:20:00+00:00 & 0 & NA &  & NA &  & NA & \\\\\n",
       "\t JCd58d32  & 131287959043 & 2020-03-31 03:24:00+00:00 & 0 & NA &  & NA &  & NA & \\\\\n",
       "\t JCe16ec2  & 131287908901 & 2020-03-28 08:14:00+00:00 & 0 & NA &  & NA &  & NA & \\\\\n",
       "\t JCe3f331  & 131287919487 & 2020-03-30 20:35:00+00:00 & 1 & NA &  & NA &  & NA & \\\\\n",
       "\t JCe48ee1  & 131287963283 & 2020-03-31 07:00:00+00:00 & 0 & NA &  & NA &  & NA & \\\\\n",
       "\t JCe4c6e9  & 131287851722 & 2020-03-29 01:51:00+00:00 & 0 & NA &  & NA &  & NA & \\\\\n",
       "\t JCe68866  & 131287989292 & 2020-03-29 21:31:00+00:00 & 0 & NA &  & NA &  & NA & \\\\\n",
       "\t JCe78e46  & 131287856560 & 2020-03-27 10:36:00+00:00 & 0 & NA &  & NA &  & NA & \\\\\n",
       "\t JCe8b986  & 131288007119 & 2020-03-29 05:09:00+00:00 & 1 & NA &  & NA &  & NA & \\\\\n",
       "\t JCea60c8  & 131287851262 & 2020-03-27 17:43:00+00:00 & 0 & NA &  & NA &  & NA & \\\\\n",
       "\t JCec0168  & 131287849414 & 2020-03-25 20:04:00+00:00 & 0 & NA &  & NA &  & NA & \\\\\n",
       "\\end{tabular}\n"
      ],
      "text/markdown": [
       "\n",
       "A data.frame: 17 × 10\n",
       "\n",
       "| anon_id &lt;chr&gt; | pat_enc_csn_id_coded &lt;dbl&gt; | admit_time_jittered &lt;chr&gt; | label &lt;int&gt; | inpatient_data_id_coded &lt;dbl&gt; | enc_type &lt;chr&gt; | visit_type &lt;lgl&gt; | acuity_level &lt;chr&gt; | ACUITY_LEVEL_C &lt;dbl&gt; | hosp_admsn_time_jittered_utc &lt;chr&gt; |\n",
       "|---|---|---|---|---|---|---|---|---|---|\n",
       "| JC29fea9e | 131283506890 | 2020-03-09 02:48:00+00:00 | 0 | NA | <!----> | NA | <!----> | NA | <!----> |\n",
       "| JC2a0a75c | 131283296426 | 2020-01-13 03:38:00+00:00 | 1 | NA | <!----> | NA | <!----> | NA | <!----> |\n",
       "| JC2a10dd5 | 131287909405 | 2020-03-29 07:10:00+00:00 | 1 | NA | <!----> | NA | <!----> | NA | <!----> |\n",
       "| JC2a305eb | 131283226027 | 2020-01-21 03:52:00+00:00 | 0 | NA | <!----> | NA | <!----> | NA | <!----> |\n",
       "| JCcbba12  | 131287849251 | 2020-03-30 16:39:00+00:00 | 1 | NA | <!----> | NA | <!----> | NA | <!----> |\n",
       "| JCd1fa43  | 131287923845 | 2020-03-30 19:34:00+00:00 | 0 | NA | <!----> | NA | <!----> | NA | <!----> |\n",
       "| JCd4996e  | 131287855587 | 2020-03-30 08:20:00+00:00 | 0 | NA | <!----> | NA | <!----> | NA | <!----> |\n",
       "| JCd58d32  | 131287959043 | 2020-03-31 03:24:00+00:00 | 0 | NA | <!----> | NA | <!----> | NA | <!----> |\n",
       "| JCe16ec2  | 131287908901 | 2020-03-28 08:14:00+00:00 | 0 | NA | <!----> | NA | <!----> | NA | <!----> |\n",
       "| JCe3f331  | 131287919487 | 2020-03-30 20:35:00+00:00 | 1 | NA | <!----> | NA | <!----> | NA | <!----> |\n",
       "| JCe48ee1  | 131287963283 | 2020-03-31 07:00:00+00:00 | 0 | NA | <!----> | NA | <!----> | NA | <!----> |\n",
       "| JCe4c6e9  | 131287851722 | 2020-03-29 01:51:00+00:00 | 0 | NA | <!----> | NA | <!----> | NA | <!----> |\n",
       "| JCe68866  | 131287989292 | 2020-03-29 21:31:00+00:00 | 0 | NA | <!----> | NA | <!----> | NA | <!----> |\n",
       "| JCe78e46  | 131287856560 | 2020-03-27 10:36:00+00:00 | 0 | NA | <!----> | NA | <!----> | NA | <!----> |\n",
       "| JCe8b986  | 131288007119 | 2020-03-29 05:09:00+00:00 | 1 | NA | <!----> | NA | <!----> | NA | <!----> |\n",
       "| JCea60c8  | 131287851262 | 2020-03-27 17:43:00+00:00 | 0 | NA | <!----> | NA | <!----> | NA | <!----> |\n",
       "| JCec0168  | 131287849414 | 2020-03-25 20:04:00+00:00 | 0 | NA | <!----> | NA | <!----> | NA | <!----> |\n",
       "\n"
      ],
      "text/plain": [
       "   anon_id   pat_enc_csn_id_coded admit_time_jittered       label\n",
       "1  JC29fea9e 131283506890         2020-03-09 02:48:00+00:00 0    \n",
       "2  JC2a0a75c 131283296426         2020-01-13 03:38:00+00:00 1    \n",
       "3  JC2a10dd5 131287909405         2020-03-29 07:10:00+00:00 1    \n",
       "4  JC2a305eb 131283226027         2020-01-21 03:52:00+00:00 0    \n",
       "5  JCcbba12  131287849251         2020-03-30 16:39:00+00:00 1    \n",
       "6  JCd1fa43  131287923845         2020-03-30 19:34:00+00:00 0    \n",
       "7  JCd4996e  131287855587         2020-03-30 08:20:00+00:00 0    \n",
       "8  JCd58d32  131287959043         2020-03-31 03:24:00+00:00 0    \n",
       "9  JCe16ec2  131287908901         2020-03-28 08:14:00+00:00 0    \n",
       "10 JCe3f331  131287919487         2020-03-30 20:35:00+00:00 1    \n",
       "11 JCe48ee1  131287963283         2020-03-31 07:00:00+00:00 0    \n",
       "12 JCe4c6e9  131287851722         2020-03-29 01:51:00+00:00 0    \n",
       "13 JCe68866  131287989292         2020-03-29 21:31:00+00:00 0    \n",
       "14 JCe78e46  131287856560         2020-03-27 10:36:00+00:00 0    \n",
       "15 JCe8b986  131288007119         2020-03-29 05:09:00+00:00 1    \n",
       "16 JCea60c8  131287851262         2020-03-27 17:43:00+00:00 0    \n",
       "17 JCec0168  131287849414         2020-03-25 20:04:00+00:00 0    \n",
       "   inpatient_data_id_coded enc_type visit_type acuity_level ACUITY_LEVEL_C\n",
       "1  NA                               NA                      NA            \n",
       "2  NA                               NA                      NA            \n",
       "3  NA                               NA                      NA            \n",
       "4  NA                               NA                      NA            \n",
       "5  NA                               NA                      NA            \n",
       "6  NA                               NA                      NA            \n",
       "7  NA                               NA                      NA            \n",
       "8  NA                               NA                      NA            \n",
       "9  NA                               NA                      NA            \n",
       "10 NA                               NA                      NA            \n",
       "11 NA                               NA                      NA            \n",
       "12 NA                               NA                      NA            \n",
       "13 NA                               NA                      NA            \n",
       "14 NA                               NA                      NA            \n",
       "15 NA                               NA                      NA            \n",
       "16 NA                               NA                      NA            \n",
       "17 NA                               NA                      NA            \n",
       "   hosp_admsn_time_jittered_utc\n",
       "1                              \n",
       "2                              \n",
       "3                              \n",
       "4                              \n",
       "5                              \n",
       "6                              \n",
       "7                              \n",
       "8                              \n",
       "9                              \n",
       "10                             \n",
       "11                             \n",
       "12                             \n",
       "13                             \n",
       "14                             \n",
       "15                             \n",
       "16                             \n",
       "17                             "
      ]
     },
     "metadata": {},
     "output_type": "display_data"
    }
   ],
   "source": [
    "enc %>% filter(is.na(inpatient_data_id_coded))"
   ]
  },
  {
   "cell_type": "code",
   "execution_count": 10,
   "metadata": {},
   "outputs": [
    {
     "data": {
      "text/html": [
       "<table class=\"dataframe\">\n",
       "<caption>A data.frame: 10 × 2</caption>\n",
       "<thead>\n",
       "\t<tr><th scope=col>var</th><th scope=col>n</th></tr>\n",
       "\t<tr><th scope=col>&lt;chr&gt;</th><th scope=col>&lt;int&gt;</th></tr>\n",
       "</thead>\n",
       "<tbody>\n",
       "\t<tr><td>visit_type                  </td><td>    1</td></tr>\n",
       "\t<tr><td>enc_type                    </td><td>    2</td></tr>\n",
       "\t<tr><td>label                       </td><td>    2</td></tr>\n",
       "\t<tr><td>acuity_level                </td><td>    6</td></tr>\n",
       "\t<tr><td>ACUITY_LEVEL_C              </td><td>    6</td></tr>\n",
       "\t<tr><td>anon_id                     </td><td>36212</td></tr>\n",
       "\t<tr><td>hosp_admsn_time_jittered_utc</td><td>54390</td></tr>\n",
       "\t<tr><td>admit_time_jittered         </td><td>54403</td></tr>\n",
       "\t<tr><td>inpatient_data_id_coded     </td><td>55152</td></tr>\n",
       "\t<tr><td>pat_enc_csn_id_coded        </td><td>55168</td></tr>\n",
       "</tbody>\n",
       "</table>\n"
      ],
      "text/latex": [
       "A data.frame: 10 × 2\n",
       "\\begin{tabular}{ll}\n",
       " var & n\\\\\n",
       " <chr> & <int>\\\\\n",
       "\\hline\n",
       "\t visit\\_type                   &     1\\\\\n",
       "\t enc\\_type                     &     2\\\\\n",
       "\t label                        &     2\\\\\n",
       "\t acuity\\_level                 &     6\\\\\n",
       "\t ACUITY\\_LEVEL\\_C               &     6\\\\\n",
       "\t anon\\_id                      & 36212\\\\\n",
       "\t hosp\\_admsn\\_time\\_jittered\\_utc & 54390\\\\\n",
       "\t admit\\_time\\_jittered          & 54403\\\\\n",
       "\t inpatient\\_data\\_id\\_coded      & 55152\\\\\n",
       "\t pat\\_enc\\_csn\\_id\\_coded         & 55168\\\\\n",
       "\\end{tabular}\n"
      ],
      "text/markdown": [
       "\n",
       "A data.frame: 10 × 2\n",
       "\n",
       "| var &lt;chr&gt; | n &lt;int&gt; |\n",
       "|---|---|\n",
       "| visit_type                   |     1 |\n",
       "| enc_type                     |     2 |\n",
       "| label                        |     2 |\n",
       "| acuity_level                 |     6 |\n",
       "| ACUITY_LEVEL_C               |     6 |\n",
       "| anon_id                      | 36212 |\n",
       "| hosp_admsn_time_jittered_utc | 54390 |\n",
       "| admit_time_jittered          | 54403 |\n",
       "| inpatient_data_id_coded      | 55152 |\n",
       "| pat_enc_csn_id_coded         | 55168 |\n",
       "\n"
      ],
      "text/plain": [
       "   var                          n    \n",
       "1  visit_type                       1\n",
       "2  enc_type                         2\n",
       "3  label                            2\n",
       "4  acuity_level                     6\n",
       "5  ACUITY_LEVEL_C                   6\n",
       "6  anon_id                      36212\n",
       "7  hosp_admsn_time_jittered_utc 54390\n",
       "8  admit_time_jittered          54403\n",
       "9  inpatient_data_id_coded      55152\n",
       "10 pat_enc_csn_id_coded         55168"
      ]
     },
     "metadata": {},
     "output_type": "display_data"
    }
   ],
   "source": [
    "enc %>% gather(var, value) %>% distinct() %>% count(var) %>% arrange(n)"
   ]
  },
  {
   "cell_type": "code",
   "execution_count": 11,
   "metadata": {},
   "outputs": [
    {
     "data": {
      "text/plain": [
       " acuity_level         enc_type         visit_type    \n",
       " Length:55168       Length:55168       Mode:logical  \n",
       " Class :character   Class :character   NA's:55168    \n",
       " Mode  :character   Mode  :character                 "
      ]
     },
     "metadata": {},
     "output_type": "display_data"
    },
    {
     "data": {
      "text/plain": [
       "   Min. 1st Qu.  Median    Mean 3rd Qu.    Max.    NA's \n",
       "   1.00    2.00    3.00    2.64    3.00    5.00    2263 "
      ]
     },
     "metadata": {},
     "output_type": "display_data"
    },
    {
     "data": {
      "text/plain": [
       "$acuity_level\n",
       "\n",
       "                1-Resuscitation      2-Emergent        3-Urgent   4-Semi-Urgent \n",
       "           2263             745           18058           33615             468 \n",
       "   5-Non-Urgent \n",
       "             19 \n",
       "\n",
       "$enc_type\n",
       "\n",
       "                   Hospital Encounter \n",
       "                17              55151 \n",
       "\n",
       "$visit_type\n",
       "< table of extent 0 >\n"
      ]
     },
     "metadata": {},
     "output_type": "display_data"
    }
   ],
   "source": [
    "summary(enc %>% select(acuity_level, enc_type, visit_type))\n",
    "summary(enc$ACUITY_LEVEL_C)\n",
    "# if summary doesn't display, use table\n",
    "apply(enc[c(\"acuity_level\", \"enc_type\", \"visit_type\")], 2, table)"
   ]
  },
  {
   "cell_type": "code",
   "execution_count": 12,
   "metadata": {},
   "outputs": [
    {
     "name": "stderr",
     "output_type": "stream",
     "text": [
      "Joining, by = c(\"anon_id\", \"pat_enc_csn_id_coded\")\n",
      "\n"
     ]
    },
    {
     "data": {
      "text/html": [
       "55151"
      ],
      "text/latex": [
       "55151"
      ],
      "text/markdown": [
       "55151"
      ],
      "text/plain": [
       "[1] 55151"
      ]
     },
     "metadata": {},
     "output_type": "display_data"
    },
    {
     "data": {
      "text/plain": [
       "   Min. 1st Qu.  Median    Mean 3rd Qu.    Max. \n",
       "  0.000   2.233   3.483   4.734   5.283 190.433 "
      ]
     },
     "metadata": {},
     "output_type": "display_data"
    },
    {
     "data": {
      "image/png": "[encoded data removed]",
      "text/plain": [
       "Plot with title “Histogram of cohort_enc$ed_time_hr”"
      ]
     },
     "metadata": {
      "image/png": {
       "height": 420,
       "width": 420
      }
     },
     "output_type": "display_data"
    }
   ],
   "source": [
    "# join the encounter table with cohort table to get the inpatient data id coded\n",
    "# removed those empty encounter type (18), only Hospital Encounter left\n",
    "enc <- enc %>% filter(enc_type == \"Hospital Encounter\") %>%\n",
    "                select(anon_id, pat_enc_csn_id_coded, inpatient_data_id_coded, \n",
    "                       ESI = ACUITY_LEVEL_C, hosp_admsn_time = hosp_admsn_time_jittered_utc) %>% \n",
    "                mutate(hosp_admsn_time = ymd_hms(hosp_admsn_time))\n",
    "\n",
    "cohort_enc <- inner_join(cohort1, enc) %>% \n",
    "            mutate(ed_time_hr = as.numeric(difftime(admit_time, hosp_admsn_time, units =\"hours\")))\n",
    "\n",
    "nrow(cohort_enc) # 17 less\n",
    "summary(cohort_enc$ed_time_hr)\n",
    "hist(cohort_enc$ed_time_hr, xlim=c(0, 20), breaks=300, col=\"blue\")"
   ]
  },
  {
   "cell_type": "markdown",
   "metadata": {},
   "source": [
    "### Code status\n",
    "\n",
    "* Process code status: keep patients whose code status is Full prior to admission or within 24 hour after admission. Otherwise interventions might not match with presentations.\n",
    "* In other words: remove patients whose have a code status not FULL, anytime before admission or within 24 hour after admission \n",
    "* Note that in the display_name, some codes are blank but they are converted to something in description --> use description"
   ]
  },
  {
   "cell_type": "code",
   "execution_count": 13,
   "metadata": {},
   "outputs": [
    {
     "data": {
      "text/html": [
       "170609"
      ],
      "text/latex": [
       "170609"
      ],
      "text/markdown": [
       "170609"
      ],
      "text/plain": [
       "[1] 170609"
      ]
     },
     "metadata": {},
     "output_type": "display_data"
    },
    {
     "data": {
      "text/plain": [
       " order_status       display_name       description       \n",
       " Length:170609      Length:170609      Length:170609     \n",
       " Class :character   Class :character   Class :character  \n",
       " Mode  :character   Mode  :character   Mode  :character  "
      ]
     },
     "metadata": {},
     "output_type": "display_data"
    },
    {
     "data": {
      "text/plain": [
       "$order_status\n",
       "\n",
       "         Canceled     Sent \n",
       "     207   170219      183 \n",
       "\n",
       "$display_name\n",
       "\n",
       "           DNR/C DNR/Comfort Care          DNR/DNE          DNR/DNI \n",
       "              58             7081             5511            28032 \n",
       "       Full code        Full Code     Partial code     Partial Code \n",
       "             739           123262                7             5919 \n",
       "\n",
       "$description\n",
       "\n",
       "           DNR/C DNR/COMFORT CARE          DNR/DNE          DNR/DNI \n",
       "              58             7081             5511            28032 \n",
       "       FULL CODE     PARTIAL CODE \n",
       "          124001             5926 \n"
      ]
     },
     "metadata": {},
     "output_type": "display_data"
    }
   ],
   "source": [
    "# codestatus.csv is from querying code status order from order_proc\n",
    "code <- read.csv(file.path(datadir, \"code_status.csv\")) \n",
    "nrow(code) # 117195\n",
    "summary(code %>% select(order_status, display_name, description))\n",
    "\n",
    "# if summary doesn't display, use table\n",
    "apply(code[c(\"order_status\", \"display_name\", \"description\")], 2, table)"
   ]
  },
  {
   "cell_type": "code",
   "execution_count": 14,
   "metadata": {},
   "outputs": [
    {
     "data": {
      "text/html": [
       "<table class=\"dataframe\">\n",
       "<caption>A data.frame: 1 × 8</caption>\n",
       "<thead>\n",
       "\t<tr><th></th><th scope=col>anon_id</th><th scope=col>pat_enc_csn_id_coded</th><th scope=col>admit_time_jittered</th><th scope=col>order_type</th><th scope=col>order_status</th><th scope=col>display_name</th><th scope=col>description</th><th scope=col>order_time_jittered_utc</th></tr>\n",
       "\t<tr><th></th><th scope=col>&lt;chr&gt;</th><th scope=col>&lt;dbl&gt;</th><th scope=col>&lt;chr&gt;</th><th scope=col>&lt;chr&gt;</th><th scope=col>&lt;chr&gt;</th><th scope=col>&lt;chr&gt;</th><th scope=col>&lt;chr&gt;</th><th scope=col>&lt;chr&gt;</th></tr>\n",
       "</thead>\n",
       "<tbody>\n",
       "\t<tr><th scope=row>1</th><td>JC29f8ad2</td><td>131274729058</td><td>2019-08-31 12:52:00+00:00</td><td>Code Status</td><td>Canceled</td><td>Full Code</td><td>FULL CODE</td><td>2019-08-31 17:44:00+00:00</td></tr>\n",
       "</tbody>\n",
       "</table>\n"
      ],
      "text/latex": [
       "A data.frame: 1 × 8\n",
       "\\begin{tabular}{r|llllllll}\n",
       "  & anon\\_id & pat\\_enc\\_csn\\_id\\_coded & admit\\_time\\_jittered & order\\_type & order\\_status & display\\_name & description & order\\_time\\_jittered\\_utc\\\\\n",
       "  & <chr> & <dbl> & <chr> & <chr> & <chr> & <chr> & <chr> & <chr>\\\\\n",
       "\\hline\n",
       "\t1 & JC29f8ad2 & 131274729058 & 2019-08-31 12:52:00+00:00 & Code Status & Canceled & Full Code & FULL CODE & 2019-08-31 17:44:00+00:00\\\\\n",
       "\\end{tabular}\n"
      ],
      "text/markdown": [
       "\n",
       "A data.frame: 1 × 8\n",
       "\n",
       "| <!--/--> | anon_id &lt;chr&gt; | pat_enc_csn_id_coded &lt;dbl&gt; | admit_time_jittered &lt;chr&gt; | order_type &lt;chr&gt; | order_status &lt;chr&gt; | display_name &lt;chr&gt; | description &lt;chr&gt; | order_time_jittered_utc &lt;chr&gt; |\n",
       "|---|---|---|---|---|---|---|---|---|\n",
       "| 1 | JC29f8ad2 | 131274729058 | 2019-08-31 12:52:00+00:00 | Code Status | Canceled | Full Code | FULL CODE | 2019-08-31 17:44:00+00:00 |\n",
       "\n"
      ],
      "text/plain": [
       "  anon_id   pat_enc_csn_id_coded admit_time_jittered       order_type \n",
       "1 JC29f8ad2 131274729058         2019-08-31 12:52:00+00:00 Code Status\n",
       "  order_status display_name description order_time_jittered_utc  \n",
       "1 Canceled     Full Code    FULL CODE   2019-08-31 17:44:00+00:00"
      ]
     },
     "metadata": {},
     "output_type": "display_data"
    }
   ],
   "source": [
    "head(code, n=1) "
   ]
  },
  {
   "cell_type": "code",
   "execution_count": 15,
   "metadata": {},
   "outputs": [
    {
     "data": {
      "text/html": [
       "82869"
      ],
      "text/latex": [
       "82869"
      ],
      "text/markdown": [
       "82869"
      ],
      "text/plain": [
       "[1] 82869"
      ]
     },
     "metadata": {},
     "output_type": "display_data"
    },
    {
     "data": {
      "text/plain": [
       "   anon_id          pat_enc_csn_id_coded           description   \n",
       " Length:82869       Min.   :1.311e+11    DNR/C           :   30  \n",
       " Class :character   1st Qu.:1.312e+11    DNR/COMFORT CARE: 3633  \n",
       " Mode  :character   Median :1.312e+11    DNR/DNE         : 2779  \n",
       "                    Mean   :1.312e+11    DNR/DNI         :13973  \n",
       "                    3rd Qu.:1.313e+11    FULL CODE       :59675  \n",
       "                    Max.   :1.313e+11    PARTIAL CODE    : 2779  \n",
       "   order_time                 \n",
       " Min.   :2015-01-01 05:27:00  \n",
       " 1st Qu.:2016-05-31 16:28:00  \n",
       " Median :2018-01-14 20:31:00  \n",
       " Mean   :2017-10-20 16:58:50  \n",
       " 3rd Qu.:2019-02-28 23:01:00  \n",
       " Max.   :2020-03-31 07:00:00  "
      ]
     },
     "metadata": {},
     "output_type": "display_data"
    }
   ],
   "source": [
    "code <- code %>% select(anon_id, pat_enc_csn_id_coded, description, order_time = order_time_jittered_utc) %>% \n",
    "                    mutate(order_time = ymd_hms(order_time),\n",
    "                           description = factor(description)) %>% distinct() \n",
    "nrow(code) \n",
    "summary(code) \n",
    "\n",
    "# if summary doesn't display\n",
    "# table(code$description) # won't show NAs\n",
    "# summary(code$description)"
   ]
  },
  {
   "cell_type": "code",
   "execution_count": 16,
   "metadata": {},
   "outputs": [
    {
     "name": "stderr",
     "output_type": "stream",
     "text": [
      "Joining, by = c(\"anon_id\", \"pat_enc_csn_id_coded\")\n",
      "\n"
     ]
    },
    {
     "data": {
      "text/html": [
       "88504"
      ],
      "text/latex": [
       "88504"
      ],
      "text/markdown": [
       "88504"
      ],
      "text/plain": [
       "[1] 88504"
      ]
     },
     "metadata": {},
     "output_type": "display_data"
    },
    {
     "data": {
      "text/html": [
       "55151"
      ],
      "text/latex": [
       "55151"
      ],
      "text/markdown": [
       "55151"
      ],
      "text/plain": [
       "[1] 55151"
      ]
     },
     "metadata": {},
     "output_type": "display_data"
    }
   ],
   "source": [
    "# calculate the difference btwn admit time and code status order time\n",
    "code <- left_join(cohort_enc, code) %>% \n",
    "            mutate(code_diff_hr = as.numeric(difftime(order_time, admit_time, units = 'hours')))\n",
    "\n",
    "nrow(code %>% group_by(anon_id, pat_enc_csn_id_coded) %>% unique())\n",
    "nrow(code %>% select(anon_id, pat_enc_csn_id_coded) %>% group_by(anon_id, pat_enc_csn_id_coded) %>% unique()) "
   ]
  },
  {
   "cell_type": "code",
   "execution_count": 17,
   "metadata": {},
   "outputs": [
    {
     "data": {
      "text/plain": [
       "   Min. 1st Qu.  Median    Mean 3rd Qu.    Max.    NA's \n",
       " -71.27    1.10    2.55   51.19   39.38 5568.32    5658 "
      ]
     },
     "metadata": {},
     "output_type": "display_data"
    },
    {
     "data": {
      "image/png": "[encoded data removed]",
      "text/plain": [
       "Plot with title “Histogram of code$code_diff_hr”"
      ]
     },
     "metadata": {
      "image/png": {
       "height": 420,
       "width": 420
      }
     },
     "output_type": "display_data"
    }
   ],
   "source": [
    "# code order time is prior to or within 24 hours after admission, time diff in hours (code time - admit time)\n",
    "summary(code$code_diff_hr)\n",
    "hist(code$code_diff_hr,  xlim=c(-80, 48), breaks=720, col=\"steelblue\")"
   ]
  },
  {
   "cell_type": "code",
   "execution_count": 18,
   "metadata": {},
   "outputs": [
    {
     "data": {
      "text/html": [
       "23185"
      ],
      "text/latex": [
       "23185"
      ],
      "text/markdown": [
       "23185"
      ],
      "text/plain": [
       "[1] 23185"
      ]
     },
     "metadata": {},
     "output_type": "display_data"
    },
    {
     "data": {
      "text/html": [
       "9020"
      ],
      "text/latex": [
       "9020"
      ],
      "text/markdown": [
       "9020"
      ],
      "text/plain": [
       "[1] 9020"
      ]
     },
     "metadata": {},
     "output_type": "display_data"
    },
    {
     "data": {
      "text/html": [
       "9020"
      ],
      "text/latex": [
       "9020"
      ],
      "text/markdown": [
       "9020"
      ],
      "text/plain": [
       "[1] 9020"
      ]
     },
     "metadata": {},
     "output_type": "display_data"
    }
   ],
   "source": [
    "# number of patients whose code status are either full or na (if exists, consider na = FULL) \n",
    "nrow(filter(code, description != \"FULL CODE\" & !is.na(description))) # to be removed\n",
    "\n",
    "# cohort of patients whose code status before admission or 24 hour after admission is not FULL CODE\n",
    "code_notfull <- code %>% \n",
    "                filter(code_diff_hr <=24 & description != \"FULL CODE\" & !is.na(description)) %>% \n",
    "                select(anon_id, pat_enc_csn_id_coded, inpatient_data_id_coded, admit_time) %>%\n",
    "                distinct()\n",
    "\n",
    "# number of patients whose code status is not full 24\n",
    "nrow(code_notfull)\n",
    "nrow(code_notfull %>% select(anon_id, pat_enc_csn_id_coded) %>% distinct()) # 6341 for 2015-2018"
   ]
  },
  {
   "cell_type": "code",
   "execution_count": 19,
   "metadata": {},
   "outputs": [
    {
     "name": "stderr",
     "output_type": "stream",
     "text": [
      "Joining, by = c(\"anon_id\", \"pat_enc_csn_id_coded\", \"admit_time\", \"inpatient_data_id_coded\")\n",
      "\n"
     ]
    },
    {
     "data": {
      "text/html": [
       "46131"
      ],
      "text/latex": [
       "46131"
      ],
      "text/markdown": [
       "46131"
      ],
      "text/plain": [
       "[1] 46131"
      ]
     },
     "metadata": {},
     "output_type": "display_data"
    },
    {
     "data": {
      "text/html": [
       "46131"
      ],
      "text/latex": [
       "46131"
      ],
      "text/markdown": [
       "46131"
      ],
      "text/plain": [
       "[1] 46131"
      ]
     },
     "metadata": {},
     "output_type": "display_data"
    },
    {
     "data": {
      "text/html": [
       "0"
      ],
      "text/latex": [
       "0"
      ],
      "text/markdown": [
       "0"
      ],
      "text/plain": [
       "[1] 0"
      ]
     },
     "metadata": {},
     "output_type": "display_data"
    }
   ],
   "source": [
    "# remove 9045 non-fullcode, non-na code patients from the cohort\n",
    "cohort_code <- anti_join(cohort_enc, code_notfull) \n",
    "nrow(cohort_code) # 46320\n",
    "nrow(unique(cohort_code %>% select(anon_id, pat_enc_csn_id_coded))) \n",
    "nrow(filter(cohort_code, is.na(admit_time)))"
   ]
  },
  {
   "cell_type": "code",
   "execution_count": 20,
   "metadata": {},
   "outputs": [
    {
     "data": {
      "text/html": [
       "<table class=\"dataframe\">\n",
       "<caption>A data.frame: 1 × 8</caption>\n",
       "<thead>\n",
       "\t<tr><th></th><th scope=col>anon_id</th><th scope=col>pat_enc_csn_id_coded</th><th scope=col>label</th><th scope=col>admit_time</th><th scope=col>inpatient_data_id_coded</th><th scope=col>ESI</th><th scope=col>hosp_admsn_time</th><th scope=col>ed_time_hr</th></tr>\n",
       "\t<tr><th></th><th scope=col>&lt;chr&gt;</th><th scope=col>&lt;dbl&gt;</th><th scope=col>&lt;int&gt;</th><th scope=col>&lt;dttm&gt;</th><th scope=col>&lt;dbl&gt;</th><th scope=col>&lt;dbl&gt;</th><th scope=col>&lt;dttm&gt;</th><th scope=col>&lt;dbl&gt;</th></tr>\n",
       "</thead>\n",
       "<tbody>\n",
       "\t<tr><th scope=row>1</th><td>JC29f8ad2</td><td>131274729058</td><td>0</td><td>2019-08-31 12:52:00</td><td>40679773</td><td>3</td><td>2019-08-31 09:59:00</td><td>2.883333</td></tr>\n",
       "</tbody>\n",
       "</table>\n"
      ],
      "text/latex": [
       "A data.frame: 1 × 8\n",
       "\\begin{tabular}{r|llllllll}\n",
       "  & anon\\_id & pat\\_enc\\_csn\\_id\\_coded & label & admit\\_time & inpatient\\_data\\_id\\_coded & ESI & hosp\\_admsn\\_time & ed\\_time\\_hr\\\\\n",
       "  & <chr> & <dbl> & <int> & <dttm> & <dbl> & <dbl> & <dttm> & <dbl>\\\\\n",
       "\\hline\n",
       "\t1 & JC29f8ad2 & 131274729058 & 0 & 2019-08-31 12:52:00 & 40679773 & 3 & 2019-08-31 09:59:00 & 2.883333\\\\\n",
       "\\end{tabular}\n"
      ],
      "text/markdown": [
       "\n",
       "A data.frame: 1 × 8\n",
       "\n",
       "| <!--/--> | anon_id &lt;chr&gt; | pat_enc_csn_id_coded &lt;dbl&gt; | label &lt;int&gt; | admit_time &lt;dttm&gt; | inpatient_data_id_coded &lt;dbl&gt; | ESI &lt;dbl&gt; | hosp_admsn_time &lt;dttm&gt; | ed_time_hr &lt;dbl&gt; |\n",
       "|---|---|---|---|---|---|---|---|---|\n",
       "| 1 | JC29f8ad2 | 131274729058 | 0 | 2019-08-31 12:52:00 | 40679773 | 3 | 2019-08-31 09:59:00 | 2.883333 |\n",
       "\n"
      ],
      "text/plain": [
       "  anon_id   pat_enc_csn_id_coded label admit_time         \n",
       "1 JC29f8ad2 131274729058         0     2019-08-31 12:52:00\n",
       "  inpatient_data_id_coded ESI hosp_admsn_time     ed_time_hr\n",
       "1 40679773                3   2019-08-31 09:59:00 2.883333  "
      ]
     },
     "metadata": {},
     "output_type": "display_data"
    }
   ],
   "source": [
    "head(cohort_code, n=1)"
   ]
  },
  {
   "cell_type": "markdown",
   "metadata": {},
   "source": [
    "### Age from demographic variables\n",
    "1. Age (only >=18)\n",
    "2. insurance = Medical/care/caid and n/a insurance --> medis =1 otherwise 0\n",
    "3. language --> Engl = 1 for English, otherwise 0\n",
    "4. leave height and weight to be processed with flowsheet age (>=18 only)"
   ]
  },
  {
   "cell_type": "code",
   "execution_count": 21,
   "metadata": {},
   "outputs": [
    {
     "data": {
      "text/html": [
       "36103"
      ],
      "text/latex": [
       "36103"
      ],
      "text/markdown": [
       "36103"
      ],
      "text/plain": [
       "[1] 36103"
      ]
     },
     "metadata": {},
     "output_type": "display_data"
    },
    {
     "data": {
      "text/plain": [
       "   anon_id             gender              race             language        \n",
       " Length:36103       Length:36103       Length:36103       Length:36103      \n",
       " Class :character   Class :character   Class :character   Class :character  \n",
       " Mode  :character   Mode  :character   Mode  :character   Mode  :character  \n",
       "                                                                            \n",
       "                                                                            \n",
       "                                                                            \n",
       "                                                                            \n",
       " recent_height_cm recent_weight_kg  insurance         recent_date       \n",
       " Min.   : 12.7    Min.   :  0.00   Length:36103       Length:36103      \n",
       " 1st Qu.:160.0    1st Qu.: 60.30   Class :character   Class :character  \n",
       " Median :167.6    Median : 72.50   Mode  :character   Mode  :character  \n",
       " Mean   :167.5    Mean   : 75.56                                        \n",
       " 3rd Qu.:175.3    3rd Qu.: 86.70                                        \n",
       " Max.   :210.8    Max.   :320.69                                        \n",
       " NA's   :1670     NA's   :348                                           \n",
       "     dob           \n",
       " Length:36103      \n",
       " Class :character  \n",
       " Mode  :character  \n",
       "                   \n",
       "                   \n",
       "                   \n",
       "                   "
      ]
     },
     "metadata": {},
     "output_type": "display_data"
    }
   ],
   "source": [
    "demo <- read.csv(file.path(datadir, \"demographics.csv\")) %>% distinct()\n",
    "nrow(demo)\n",
    "summary(demo)"
   ]
  },
  {
   "cell_type": "code",
   "execution_count": 22,
   "metadata": {},
   "outputs": [
    {
     "data": {
      "text/html": [
       "<table class=\"dataframe\">\n",
       "<caption>A data.frame: 6 × 9</caption>\n",
       "<thead>\n",
       "\t<tr><th></th><th scope=col>anon_id</th><th scope=col>gender</th><th scope=col>race</th><th scope=col>language</th><th scope=col>recent_height_cm</th><th scope=col>recent_weight_kg</th><th scope=col>insurance</th><th scope=col>recent_date</th><th scope=col>dob</th></tr>\n",
       "\t<tr><th></th><th scope=col>&lt;chr&gt;</th><th scope=col>&lt;chr&gt;</th><th scope=col>&lt;chr&gt;</th><th scope=col>&lt;chr&gt;</th><th scope=col>&lt;dbl&gt;</th><th scope=col>&lt;dbl&gt;</th><th scope=col>&lt;chr&gt;</th><th scope=col>&lt;chr&gt;</th><th scope=col>&lt;chr&gt;</th></tr>\n",
       "</thead>\n",
       "<tbody>\n",
       "\t<tr><th scope=row>1</th><td>JC29f8ad2</td><td>Female</td><td>White  </td><td>English</td><td>165.1</td><td>83.46</td><td>UNITED HEALTHCARE</td><td>2020-03-31</td><td>1968-01-23</td></tr>\n",
       "\t<tr><th scope=row>2</th><td>JC29f8ad3</td><td>Female</td><td>Asian  </td><td>English</td><td>   NA</td><td>   NA</td><td>BLUE CROSS       </td><td>2020-02-24</td><td>1984-12-07</td></tr>\n",
       "\t<tr><th scope=row>3</th><td>JC29f8b9c</td><td>Male  </td><td>Unknown</td><td>       </td><td>   NA</td><td>   NA</td><td>                 </td><td>2019-01-12</td><td>1960-01-21</td></tr>\n",
       "\t<tr><th scope=row>4</th><td>JC29f8beb</td><td>Female</td><td>White  </td><td>English</td><td>154.9</td><td>65.40</td><td>CIGNA            </td><td>2019-12-22</td><td>1989-06-19</td></tr>\n",
       "\t<tr><th scope=row>5</th><td>JC29f8bef</td><td>Female</td><td>Asian  </td><td>English</td><td>156.0</td><td>51.70</td><td>UNITED HEALTHCARE</td><td>2020-03-31</td><td>1959-07-05</td></tr>\n",
       "\t<tr><th scope=row>6</th><td>JC29f8c35</td><td>Male  </td><td>White  </td><td>English</td><td>163.6</td><td>85.65</td><td>                 </td><td>2020-03-13</td><td>1947-06-03</td></tr>\n",
       "</tbody>\n",
       "</table>\n"
      ],
      "text/latex": [
       "A data.frame: 6 × 9\n",
       "\\begin{tabular}{r|lllllllll}\n",
       "  & anon\\_id & gender & race & language & recent\\_height\\_cm & recent\\_weight\\_kg & insurance & recent\\_date & dob\\\\\n",
       "  & <chr> & <chr> & <chr> & <chr> & <dbl> & <dbl> & <chr> & <chr> & <chr>\\\\\n",
       "\\hline\n",
       "\t1 & JC29f8ad2 & Female & White   & English & 165.1 & 83.46 & UNITED HEALTHCARE & 2020-03-31 & 1968-01-23\\\\\n",
       "\t2 & JC29f8ad3 & Female & Asian   & English &    NA &    NA & BLUE CROSS        & 2020-02-24 & 1984-12-07\\\\\n",
       "\t3 & JC29f8b9c & Male   & Unknown &         &    NA &    NA &                   & 2019-01-12 & 1960-01-21\\\\\n",
       "\t4 & JC29f8beb & Female & White   & English & 154.9 & 65.40 & CIGNA             & 2019-12-22 & 1989-06-19\\\\\n",
       "\t5 & JC29f8bef & Female & Asian   & English & 156.0 & 51.70 & UNITED HEALTHCARE & 2020-03-31 & 1959-07-05\\\\\n",
       "\t6 & JC29f8c35 & Male   & White   & English & 163.6 & 85.65 &                   & 2020-03-13 & 1947-06-03\\\\\n",
       "\\end{tabular}\n"
      ],
      "text/markdown": [
       "\n",
       "A data.frame: 6 × 9\n",
       "\n",
       "| <!--/--> | anon_id &lt;chr&gt; | gender &lt;chr&gt; | race &lt;chr&gt; | language &lt;chr&gt; | recent_height_cm &lt;dbl&gt; | recent_weight_kg &lt;dbl&gt; | insurance &lt;chr&gt; | recent_date &lt;chr&gt; | dob &lt;chr&gt; |\n",
       "|---|---|---|---|---|---|---|---|---|---|\n",
       "| 1 | JC29f8ad2 | Female | White   | English | 165.1 | 83.46 | UNITED HEALTHCARE | 2020-03-31 | 1968-01-23 |\n",
       "| 2 | JC29f8ad3 | Female | Asian   | English |    NA |    NA | BLUE CROSS        | 2020-02-24 | 1984-12-07 |\n",
       "| 3 | JC29f8b9c | Male   | Unknown | <!----> |    NA |    NA | <!----> | 2019-01-12 | 1960-01-21 |\n",
       "| 4 | JC29f8beb | Female | White   | English | 154.9 | 65.40 | CIGNA             | 2019-12-22 | 1989-06-19 |\n",
       "| 5 | JC29f8bef | Female | Asian   | English | 156.0 | 51.70 | UNITED HEALTHCARE | 2020-03-31 | 1959-07-05 |\n",
       "| 6 | JC29f8c35 | Male   | White   | English | 163.6 | 85.65 | <!----> | 2020-03-13 | 1947-06-03 |\n",
       "\n"
      ],
      "text/plain": [
       "  anon_id   gender race    language recent_height_cm recent_weight_kg\n",
       "1 JC29f8ad2 Female White   English  165.1            83.46           \n",
       "2 JC29f8ad3 Female Asian   English     NA               NA           \n",
       "3 JC29f8b9c Male   Unknown             NA               NA           \n",
       "4 JC29f8beb Female White   English  154.9            65.40           \n",
       "5 JC29f8bef Female Asian   English  156.0            51.70           \n",
       "6 JC29f8c35 Male   White   English  163.6            85.65           \n",
       "  insurance         recent_date dob       \n",
       "1 UNITED HEALTHCARE 2020-03-31  1968-01-23\n",
       "2 BLUE CROSS        2020-02-24  1984-12-07\n",
       "3                   2019-01-12  1960-01-21\n",
       "4 CIGNA             2019-12-22  1989-06-19\n",
       "5 UNITED HEALTHCARE 2020-03-31  1959-07-05\n",
       "6                   2020-03-13  1947-06-03"
      ]
     },
     "metadata": {},
     "output_type": "display_data"
    }
   ],
   "source": [
    "head(demo)"
   ]
  },
  {
   "cell_type": "code",
   "execution_count": 23,
   "metadata": {},
   "outputs": [
    {
     "name": "stderr",
     "output_type": "stream",
     "text": [
      "Joining, by = \"anon_id\"\n",
      "\n"
     ]
    },
    {
     "data": {
      "text/html": [
       "45796"
      ],
      "text/latex": [
       "45796"
      ],
      "text/markdown": [
       "45796"
      ],
      "text/plain": [
       "[1] 45796"
      ]
     },
     "metadata": {},
     "output_type": "display_data"
    },
    {
     "data": {
      "text/plain": [
       "   anon_id          pat_enc_csn_id_coded     label       \n",
       " Length:45796       Min.   :1.311e+11    Min.   :0.0000  \n",
       " Class :character   1st Qu.:1.312e+11    1st Qu.:0.0000  \n",
       " Mode  :character   Median :1.312e+11    Median :0.0000  \n",
       "                    Mean   :1.312e+11    Mean   :0.1391  \n",
       "                    3rd Qu.:1.313e+11    3rd Qu.:0.0000  \n",
       "                    Max.   :1.313e+11    Max.   :1.0000  \n",
       "                                                         \n",
       "   admit_time                  inpatient_data_id_coded      ESI       \n",
       " Min.   :2015-01-01 08:24:00   Min.   :13616753        Min.   :1.000  \n",
       " 1st Qu.:2016-05-21 10:00:30   1st Qu.:19857608        1st Qu.:2.000  \n",
       " Median :2018-01-01 01:50:00   Median :27890882        Median :3.000  \n",
       " Mean   :2017-10-13 03:45:15   Mean   :28154806        Mean   :2.654  \n",
       " 3rd Qu.:2019-02-19 11:01:45   3rd Qu.:34381749        3rd Qu.:3.000  \n",
       " Max.   :2020-03-31 07:00:00   Max.   :48026130        Max.   :5.000  \n",
       "                                                       NA's   :1861   \n",
       " hosp_admsn_time                 ed_time_hr         gender     \n",
       " Min.   :2015-01-01 01:10:00   Min.   :  0.000   Female:21898  \n",
       " 1st Qu.:2016-05-21 07:23:45   1st Qu.:  2.217   Male  :23898  \n",
       " Median :2017-12-31 23:28:30   Median :  3.467                 \n",
       " Mean   :2017-10-12 22:56:35   Mean   :  4.811                 \n",
       " 3rd Qu.:2019-02-19 04:14:15   3rd Qu.:  5.317                 \n",
       " Max.   :2020-03-31 07:00:00   Max.   :190.433                 \n",
       "                                                               \n",
       "               race             language     recent_height_cm recent_weight_kg\n",
       " Asian           : 6871   English   :38613   Min.   : 12.95   Min.   :  0.1   \n",
       " Black           : 3260   Spanish   : 3672   1st Qu.:160.02   1st Qu.: 60.9   \n",
       " Native American :  195   Mandarin  :  737   Median :167.64   Median : 73.1   \n",
       " Other           :10510   Vietnamese:  511   Mean   :167.97   Mean   : 76.6   \n",
       " Pacific Islander:  930   Cantonese :  266   3rd Qu.:175.26   3rd Qu.: 88.0   \n",
       " Unknown         :  424   Russian   :  263   Max.   :210.82   Max.   :320.7   \n",
       " White           :23606   (Other)   : 1734   NA's   :1413     NA's   :310     \n",
       "       insurance      recent_date              age       \n",
       " MEDICARE   :16950   Min.   :2019-01-01   Min.   :18.00  \n",
       " BLUE CROSS : 3387   1st Qu.:2019-01-01   1st Qu.:44.00  \n",
       " HPSM       : 3130   Median :2020-03-11   Median :60.00  \n",
       "            : 2724   Mean   :2019-10-29   Mean   :58.28  \n",
       " MEDI-CAL   : 2052   3rd Qu.:2020-03-31   3rd Qu.:73.00  \n",
       " BLUE SHIELD: 1892   Max.   :2020-03-31   Max.   :90.00  \n",
       " (Other)    :15661   NA's   :10                          "
      ]
     },
     "metadata": {},
     "output_type": "display_data"
    }
   ],
   "source": [
    "# calculate age, only keep patients age >=18, (304 < 18)\n",
    "cohort_age <- left_join(cohort_code, demo) %>%\n",
    "                    mutate(dob = ymd(dob), recent_date = ymd(recent_date), gender = factor(gender), \n",
    "                           race = factor(race), language = factor(language), insurance = factor(insurance),\n",
    "                           age = round(as.numeric(difftime(ymd_hms(admit_time), dob, units=\"days\")/365),0)) %>%\n",
    "                    filter(age >= 18) %>% select(-dob)\n",
    "nrow(cohort_age) #45796\n",
    "summary(cohort_age)"
   ]
  },
  {
   "cell_type": "code",
   "execution_count": 24,
   "metadata": {},
   "outputs": [
    {
     "data": {
      "text/html": [
       "31513"
      ],
      "text/latex": [
       "31513"
      ],
      "text/markdown": [
       "31513"
      ],
      "text/plain": [
       "[1] 31513"
      ]
     },
     "metadata": {},
     "output_type": "display_data"
    },
    {
     "data": {
      "text/html": [
       "45796"
      ],
      "text/latex": [
       "45796"
      ],
      "text/markdown": [
       "45796"
      ],
      "text/plain": [
       "[1] 45796"
      ]
     },
     "metadata": {},
     "output_type": "display_data"
    },
    {
     "data": {
      "text/html": [
       "<table class=\"dataframe\">\n",
       "<caption>A data.frame: 0 × 16</caption>\n",
       "<thead>\n",
       "\t<tr><th scope=col>anon_id</th><th scope=col>pat_enc_csn_id_coded</th><th scope=col>label</th><th scope=col>admit_time</th><th scope=col>inpatient_data_id_coded</th><th scope=col>ESI</th><th scope=col>hosp_admsn_time</th><th scope=col>ed_time_hr</th><th scope=col>gender</th><th scope=col>race</th><th scope=col>language</th><th scope=col>recent_height_cm</th><th scope=col>recent_weight_kg</th><th scope=col>insurance</th><th scope=col>recent_date</th><th scope=col>age</th></tr>\n",
       "\t<tr><th scope=col>&lt;chr&gt;</th><th scope=col>&lt;dbl&gt;</th><th scope=col>&lt;int&gt;</th><th scope=col>&lt;dttm&gt;</th><th scope=col>&lt;dbl&gt;</th><th scope=col>&lt;dbl&gt;</th><th scope=col>&lt;dttm&gt;</th><th scope=col>&lt;dbl&gt;</th><th scope=col>&lt;fct&gt;</th><th scope=col>&lt;fct&gt;</th><th scope=col>&lt;fct&gt;</th><th scope=col>&lt;dbl&gt;</th><th scope=col>&lt;dbl&gt;</th><th scope=col>&lt;fct&gt;</th><th scope=col>&lt;date&gt;</th><th scope=col>&lt;dbl&gt;</th></tr>\n",
       "</thead>\n",
       "<tbody>\n",
       "</tbody>\n",
       "</table>\n"
      ],
      "text/latex": [
       "A data.frame: 0 × 16\n",
       "\\begin{tabular}{llllllllllllllll}\n",
       " anon\\_id & pat\\_enc\\_csn\\_id\\_coded & label & admit\\_time & inpatient\\_data\\_id\\_coded & ESI & hosp\\_admsn\\_time & ed\\_time\\_hr & gender & race & language & recent\\_height\\_cm & recent\\_weight\\_kg & insurance & recent\\_date & age\\\\\n",
       " <chr> & <dbl> & <int> & <dttm> & <dbl> & <dbl> & <dttm> & <dbl> & <fct> & <fct> & <fct> & <dbl> & <dbl> & <fct> & <date> & <dbl>\\\\\n",
       "\\hline\n",
       "\\end{tabular}\n"
      ],
      "text/markdown": [
       "\n",
       "A data.frame: 0 × 16\n",
       "\n",
       "| anon_id &lt;chr&gt; | pat_enc_csn_id_coded &lt;dbl&gt; | label &lt;int&gt; | admit_time &lt;dttm&gt; | inpatient_data_id_coded &lt;dbl&gt; | ESI &lt;dbl&gt; | hosp_admsn_time &lt;dttm&gt; | ed_time_hr &lt;dbl&gt; | gender &lt;fct&gt; | race &lt;fct&gt; | language &lt;fct&gt; | recent_height_cm &lt;dbl&gt; | recent_weight_kg &lt;dbl&gt; | insurance &lt;fct&gt; | recent_date &lt;date&gt; | age &lt;dbl&gt; |\n",
       "|---|---|---|---|---|---|---|---|---|---|---|---|---|---|---|---|\n",
       "\n"
      ],
      "text/plain": [
       "     anon_id pat_enc_csn_id_coded label admit_time inpatient_data_id_coded ESI\n",
       "     hosp_admsn_time ed_time_hr gender race language recent_height_cm\n",
       "     recent_weight_kg insurance recent_date age"
      ]
     },
     "metadata": {},
     "output_type": "display_data"
    }
   ],
   "source": [
    "# checking duplicates\n",
    "nrow(cohort_age %>% select(anon_id) %>% distinct()) # 31513\n",
    "nrow(cohort_age %>% select(anon_id, pat_enc_csn_id_coded) %>% distinct()) # 45796\n",
    "cohort_age[duplicated(cohort_age[, c('anon_id','pat_enc_csn_id_coded')]),]\n",
    "\n",
    "# cohort_demo %>% filter(anon_id == \"JCd49287\") # pat_enc_csn_id_coded = 131195706986, \n",
    "# cohort_demo <- cohort_demo %>% filter (!(anon_id == \"JCd49287\" & race == \"Unknown\"))"
   ]
  },
  {
   "cell_type": "code",
   "execution_count": 25,
   "metadata": {},
   "outputs": [
    {
     "data": {
      "text/plain": [
       "      ESI           gender                    race       recent_height_cm\n",
       " Min.   :1.000   Female:21898   Asian           : 6871   Min.   : 12.95  \n",
       " 1st Qu.:2.000   Male  :23898   Black           : 3260   1st Qu.:160.02  \n",
       " Median :3.000                  Native American :  195   Median :167.64  \n",
       " Mean   :2.654                  Other           :10510   Mean   :167.97  \n",
       " 3rd Qu.:3.000                  Pacific Islander:  930   3rd Qu.:175.26  \n",
       " Max.   :5.000                  Unknown         :  424   Max.   :210.82  \n",
       " NA's   :1861                   White           :23606   NA's   :1413    \n",
       " recent_weight_kg      age       \n",
       " Min.   :  0.1    Min.   :18.00  \n",
       " 1st Qu.: 60.9    1st Qu.:44.00  \n",
       " Median : 73.1    Median :60.00  \n",
       " Mean   : 76.6    Mean   :58.28  \n",
       " 3rd Qu.: 88.0    3rd Qu.:73.00  \n",
       " Max.   :320.7    Max.   :90.00  \n",
       " NA's   :310                     "
      ]
     },
     "metadata": {},
     "output_type": "display_data"
    },
    {
     "name": "stderr",
     "output_type": "stream",
     "text": [
      "Warning message:\n",
      "“attributes are not identical across measure variables;\n",
      "they will be dropped”\n"
     ]
    },
    {
     "data": {
      "text/html": [
       "<table class=\"dataframe\">\n",
       "<caption>A data.frame: 16 × 2</caption>\n",
       "<thead>\n",
       "\t<tr><th scope=col>var</th><th scope=col>n</th></tr>\n",
       "\t<tr><th scope=col>&lt;chr&gt;</th><th scope=col>&lt;int&gt;</th></tr>\n",
       "</thead>\n",
       "<tbody>\n",
       "\t<tr><td>gender                 </td><td>    2</td></tr>\n",
       "\t<tr><td>label                  </td><td>    2</td></tr>\n",
       "\t<tr><td>ESI                    </td><td>    6</td></tr>\n",
       "\t<tr><td>race                   </td><td>    7</td></tr>\n",
       "\t<tr><td>language               </td><td>   55</td></tr>\n",
       "\t<tr><td>age                    </td><td>   73</td></tr>\n",
       "\t<tr><td>insurance              </td><td>  134</td></tr>\n",
       "\t<tr><td>recent_date            </td><td>  457</td></tr>\n",
       "\t<tr><td>recent_height_cm       </td><td>  789</td></tr>\n",
       "\t<tr><td>ed_time_hr             </td><td> 1922</td></tr>\n",
       "\t<tr><td>recent_weight_kg       </td><td> 3445</td></tr>\n",
       "\t<tr><td>anon_id                </td><td>31513</td></tr>\n",
       "\t<tr><td>admit_time             </td><td>45259</td></tr>\n",
       "\t<tr><td>hosp_admsn_time        </td><td>45278</td></tr>\n",
       "\t<tr><td>inpatient_data_id_coded</td><td>45796</td></tr>\n",
       "\t<tr><td>pat_enc_csn_id_coded   </td><td>45796</td></tr>\n",
       "</tbody>\n",
       "</table>\n"
      ],
      "text/latex": [
       "A data.frame: 16 × 2\n",
       "\\begin{tabular}{ll}\n",
       " var & n\\\\\n",
       " <chr> & <int>\\\\\n",
       "\\hline\n",
       "\t gender                  &     2\\\\\n",
       "\t label                   &     2\\\\\n",
       "\t ESI                     &     6\\\\\n",
       "\t race                    &     7\\\\\n",
       "\t language                &    55\\\\\n",
       "\t age                     &    73\\\\\n",
       "\t insurance               &   134\\\\\n",
       "\t recent\\_date             &   457\\\\\n",
       "\t recent\\_height\\_cm        &   789\\\\\n",
       "\t ed\\_time\\_hr              &  1922\\\\\n",
       "\t recent\\_weight\\_kg        &  3445\\\\\n",
       "\t anon\\_id                 & 31513\\\\\n",
       "\t admit\\_time              & 45259\\\\\n",
       "\t hosp\\_admsn\\_time         & 45278\\\\\n",
       "\t inpatient\\_data\\_id\\_coded & 45796\\\\\n",
       "\t pat\\_enc\\_csn\\_id\\_coded    & 45796\\\\\n",
       "\\end{tabular}\n"
      ],
      "text/markdown": [
       "\n",
       "A data.frame: 16 × 2\n",
       "\n",
       "| var &lt;chr&gt; | n &lt;int&gt; |\n",
       "|---|---|\n",
       "| gender                  |     2 |\n",
       "| label                   |     2 |\n",
       "| ESI                     |     6 |\n",
       "| race                    |     7 |\n",
       "| language                |    55 |\n",
       "| age                     |    73 |\n",
       "| insurance               |   134 |\n",
       "| recent_date             |   457 |\n",
       "| recent_height_cm        |   789 |\n",
       "| ed_time_hr              |  1922 |\n",
       "| recent_weight_kg        |  3445 |\n",
       "| anon_id                 | 31513 |\n",
       "| admit_time              | 45259 |\n",
       "| hosp_admsn_time         | 45278 |\n",
       "| inpatient_data_id_coded | 45796 |\n",
       "| pat_enc_csn_id_coded    | 45796 |\n",
       "\n"
      ],
      "text/plain": [
       "   var                     n    \n",
       "1  gender                      2\n",
       "2  label                       2\n",
       "3  ESI                         6\n",
       "4  race                        7\n",
       "5  language                   55\n",
       "6  age                        73\n",
       "7  insurance                 134\n",
       "8  recent_date               457\n",
       "9  recent_height_cm          789\n",
       "10 ed_time_hr               1922\n",
       "11 recent_weight_kg         3445\n",
       "12 anon_id                 31513\n",
       "13 admit_time              45259\n",
       "14 hosp_admsn_time         45278\n",
       "15 inpatient_data_id_coded 45796\n",
       "16 pat_enc_csn_id_coded    45796"
      ]
     },
     "metadata": {},
     "output_type": "display_data"
    },
    {
     "name": "stderr",
     "output_type": "stream",
     "text": [
      "Warning message:\n",
      "“`summarise_each_()` was deprecated in dplyr 0.7.0.\n",
      "Please use `across()` instead.\n",
      "\u001b[90mThis warning is displayed once every 8 hours.\u001b[39m\n",
      "\u001b[90mCall `lifecycle::last_warnings()` to see where this warning was generated.\u001b[39m”\n",
      "Warning message:\n",
      "“`funs()` was deprecated in dplyr 0.8.0.\n",
      "Please use a list of either functions or lambdas: \n",
      "\n",
      "  # Simple named list: \n",
      "  list(mean = mean, median = median)\n",
      "\n",
      "  # Auto named with `tibble::lst()`: \n",
      "  tibble::lst(mean, median)\n",
      "\n",
      "  # Using lambdas\n",
      "  list(~ mean(., trim = .2), ~ median(., na.rm = TRUE))\n",
      "\u001b[90mThis warning is displayed once every 8 hours.\u001b[39m\n",
      "\u001b[90mCall `lifecycle::last_warnings()` to see where this warning was generated.\u001b[39m”\n"
     ]
    },
    {
     "data": {
      "text/html": [
       "<table class=\"dataframe\">\n",
       "<caption>A data.frame: 1 × 16</caption>\n",
       "<thead>\n",
       "\t<tr><th scope=col>anon_id</th><th scope=col>pat_enc_csn_id_coded</th><th scope=col>label</th><th scope=col>admit_time</th><th scope=col>inpatient_data_id_coded</th><th scope=col>ESI</th><th scope=col>hosp_admsn_time</th><th scope=col>ed_time_hr</th><th scope=col>gender</th><th scope=col>race</th><th scope=col>language</th><th scope=col>recent_height_cm</th><th scope=col>recent_weight_kg</th><th scope=col>insurance</th><th scope=col>recent_date</th><th scope=col>age</th></tr>\n",
       "\t<tr><th scope=col>&lt;int&gt;</th><th scope=col>&lt;int&gt;</th><th scope=col>&lt;int&gt;</th><th scope=col>&lt;int&gt;</th><th scope=col>&lt;int&gt;</th><th scope=col>&lt;int&gt;</th><th scope=col>&lt;int&gt;</th><th scope=col>&lt;int&gt;</th><th scope=col>&lt;int&gt;</th><th scope=col>&lt;int&gt;</th><th scope=col>&lt;int&gt;</th><th scope=col>&lt;int&gt;</th><th scope=col>&lt;int&gt;</th><th scope=col>&lt;int&gt;</th><th scope=col>&lt;int&gt;</th><th scope=col>&lt;int&gt;</th></tr>\n",
       "</thead>\n",
       "<tbody>\n",
       "\t<tr><td>31513</td><td>45796</td><td>2</td><td>45259</td><td>45796</td><td>6</td><td>45278</td><td>1922</td><td>2</td><td>7</td><td>55</td><td>789</td><td>3445</td><td>134</td><td>457</td><td>73</td></tr>\n",
       "</tbody>\n",
       "</table>\n"
      ],
      "text/latex": [
       "A data.frame: 1 × 16\n",
       "\\begin{tabular}{llllllllllllllll}\n",
       " anon\\_id & pat\\_enc\\_csn\\_id\\_coded & label & admit\\_time & inpatient\\_data\\_id\\_coded & ESI & hosp\\_admsn\\_time & ed\\_time\\_hr & gender & race & language & recent\\_height\\_cm & recent\\_weight\\_kg & insurance & recent\\_date & age\\\\\n",
       " <int> & <int> & <int> & <int> & <int> & <int> & <int> & <int> & <int> & <int> & <int> & <int> & <int> & <int> & <int> & <int>\\\\\n",
       "\\hline\n",
       "\t 31513 & 45796 & 2 & 45259 & 45796 & 6 & 45278 & 1922 & 2 & 7 & 55 & 789 & 3445 & 134 & 457 & 73\\\\\n",
       "\\end{tabular}\n"
      ],
      "text/markdown": [
       "\n",
       "A data.frame: 1 × 16\n",
       "\n",
       "| anon_id &lt;int&gt; | pat_enc_csn_id_coded &lt;int&gt; | label &lt;int&gt; | admit_time &lt;int&gt; | inpatient_data_id_coded &lt;int&gt; | ESI &lt;int&gt; | hosp_admsn_time &lt;int&gt; | ed_time_hr &lt;int&gt; | gender &lt;int&gt; | race &lt;int&gt; | language &lt;int&gt; | recent_height_cm &lt;int&gt; | recent_weight_kg &lt;int&gt; | insurance &lt;int&gt; | recent_date &lt;int&gt; | age &lt;int&gt; |\n",
       "|---|---|---|---|---|---|---|---|---|---|---|---|---|---|---|---|\n",
       "| 31513 | 45796 | 2 | 45259 | 45796 | 6 | 45278 | 1922 | 2 | 7 | 55 | 789 | 3445 | 134 | 457 | 73 |\n",
       "\n"
      ],
      "text/plain": [
       "  anon_id pat_enc_csn_id_coded label admit_time inpatient_data_id_coded ESI\n",
       "1 31513   45796                2     45259      45796                   6  \n",
       "  hosp_admsn_time ed_time_hr gender race language recent_height_cm\n",
       "1 45278           1922       2      7    55       789             \n",
       "  recent_weight_kg insurance recent_date age\n",
       "1 3445             134       457         73 "
      ]
     },
     "metadata": {},
     "output_type": "display_data"
    }
   ],
   "source": [
    "summary(cohort_age %>% select(ESI, gender, race, recent_height_cm, recent_weight_kg, age))\n",
    "cohort_age %>% gather(var, value) %>% distinct() %>% count(var) %>% arrange(n)\n",
    "cohort_age %>% summarise_each(funs(n_distinct))\n",
    "# cohort_demo %>% summarise(across(all_of(.), count))"
   ]
  },
  {
   "cell_type": "code",
   "execution_count": 26,
   "metadata": {},
   "outputs": [
    {
     "data": {
      "text/plain": [
       "   Min. 1st Qu.  Median    Mean 3rd Qu.    Max. \n",
       "  18.00   44.00   60.00   58.28   73.00   90.00 "
      ]
     },
     "metadata": {},
     "output_type": "display_data"
    },
    {
     "data": {
      "image/png": "[encoded data removed]",
      "text/plain": [
       "Plot with title “Histogram of cohort_age$age”"
      ]
     },
     "metadata": {
      "image/png": {
       "height": 420,
       "width": 420
      }
     },
     "output_type": "display_data"
    }
   ],
   "source": [
    "summary(cohort_age$age)\n",
    "hist(cohort_age$age, breaks=100, col=\"dodgerblue\")"
   ]
  },
  {
   "cell_type": "code",
   "execution_count": 27,
   "metadata": {},
   "outputs": [],
   "source": [
    "# this is the updated cohort meeting encounter/codestatus/age criteria\n",
    "write.csv(cohort_age, file = file.path(cohortdir, \"1_2_cohort.csv\"), row.names=FALSE)"
   ]
  },
  {
   "cell_type": "code",
   "execution_count": 29,
   "metadata": {},
   "outputs": [
    {
     "data": {
      "text/html": [
       "<table class=\"dataframe\">\n",
       "<caption>A data.frame: 6 × 16</caption>\n",
       "<thead>\n",
       "\t<tr><th></th><th scope=col>anon_id</th><th scope=col>pat_enc_csn_id_coded</th><th scope=col>label</th><th scope=col>admit_time</th><th scope=col>inpatient_data_id_coded</th><th scope=col>ESI</th><th scope=col>hosp_admsn_time</th><th scope=col>ed_time_hr</th><th scope=col>gender</th><th scope=col>race</th><th scope=col>language</th><th scope=col>recent_height_cm</th><th scope=col>recent_weight_kg</th><th scope=col>insurance</th><th scope=col>recent_date</th><th scope=col>age</th></tr>\n",
       "\t<tr><th></th><th scope=col>&lt;chr&gt;</th><th scope=col>&lt;dbl&gt;</th><th scope=col>&lt;int&gt;</th><th scope=col>&lt;dttm&gt;</th><th scope=col>&lt;dbl&gt;</th><th scope=col>&lt;dbl&gt;</th><th scope=col>&lt;dttm&gt;</th><th scope=col>&lt;dbl&gt;</th><th scope=col>&lt;fct&gt;</th><th scope=col>&lt;fct&gt;</th><th scope=col>&lt;fct&gt;</th><th scope=col>&lt;dbl&gt;</th><th scope=col>&lt;dbl&gt;</th><th scope=col>&lt;fct&gt;</th><th scope=col>&lt;date&gt;</th><th scope=col>&lt;dbl&gt;</th></tr>\n",
       "</thead>\n",
       "<tbody>\n",
       "\t<tr><th scope=row>1</th><td>JCe78a06</td><td>131062667066</td><td>0</td><td>2015-01-02 01:01:00</td><td>13616753</td><td>NA</td><td>2015-01-01 17:10:00</td><td>7.850000</td><td>Female</td><td>White</td><td>English</td><td>152.40</td><td> 55.60</td><td>HEALTHNET SENIOR ADVANTAGE</td><td>2020-01-10</td><td>83</td></tr>\n",
       "\t<tr><th scope=row>2</th><td>JCd1c19e</td><td>131062745090</td><td>0</td><td>2015-01-03 05:53:00</td><td>13628503</td><td> 3</td><td>2015-01-03 01:56:00</td><td>3.950000</td><td>Female</td><td>White</td><td>English</td><td>154.50</td><td> 49.20</td><td>BLUE SHIELD               </td><td>2020-03-31</td><td>53</td></tr>\n",
       "\t<tr><th scope=row>3</th><td>JCd91eb2</td><td>131062747648</td><td>0</td><td>2015-01-01 08:24:00</td><td>13628701</td><td> 2</td><td>2015-01-01 01:10:00</td><td>7.233333</td><td>Female</td><td>White</td><td>English</td><td>170.18</td><td> 92.70</td><td>MEDICARE                  </td><td>2019-01-01</td><td>64</td></tr>\n",
       "\t<tr><th scope=row>4</th><td>JCe7cb4d</td><td>131062788358</td><td>0</td><td>2015-01-01 23:39:00</td><td>13631833</td><td> 3</td><td>2015-01-01 17:07:00</td><td>6.533333</td><td>Male  </td><td>White</td><td>English</td><td>185.42</td><td>101.90</td><td>AETNA                     </td><td>2019-01-01</td><td>25</td></tr>\n",
       "\t<tr><th scope=row>5</th><td>JCe293de</td><td>131063044001</td><td>0</td><td>2015-01-05 02:23:00</td><td>13663181</td><td> 3</td><td>2015-01-04 18:13:00</td><td>8.166667</td><td>Female</td><td>Other</td><td>Spanish</td><td>152.40</td><td> 40.37</td><td>COMMERCIAL OTHER          </td><td>2019-01-01</td><td>34</td></tr>\n",
       "\t<tr><th scope=row>6</th><td>JCe8d756</td><td>131063080858</td><td>0</td><td>2015-01-07 04:00:00</td><td>13668812</td><td> 2</td><td>2015-01-06 22:24:00</td><td>5.600000</td><td>Male  </td><td>White</td><td>English</td><td>170.18</td><td> 68.67</td><td>BLUE CROSS                </td><td>2019-01-01</td><td>68</td></tr>\n",
       "</tbody>\n",
       "</table>\n"
      ],
      "text/latex": [
       "A data.frame: 6 × 16\n",
       "\\begin{tabular}{r|llllllllllllllll}\n",
       "  & anon\\_id & pat\\_enc\\_csn\\_id\\_coded & label & admit\\_time & inpatient\\_data\\_id\\_coded & ESI & hosp\\_admsn\\_time & ed\\_time\\_hr & gender & race & language & recent\\_height\\_cm & recent\\_weight\\_kg & insurance & recent\\_date & age\\\\\n",
       "  & <chr> & <dbl> & <int> & <dttm> & <dbl> & <dbl> & <dttm> & <dbl> & <fct> & <fct> & <fct> & <dbl> & <dbl> & <fct> & <date> & <dbl>\\\\\n",
       "\\hline\n",
       "\t1 & JCe78a06 & 131062667066 & 0 & 2015-01-02 01:01:00 & 13616753 & NA & 2015-01-01 17:10:00 & 7.850000 & Female & White & English & 152.40 &  55.60 & HEALTHNET SENIOR ADVANTAGE & 2020-01-10 & 83\\\\\n",
       "\t2 & JCd1c19e & 131062745090 & 0 & 2015-01-03 05:53:00 & 13628503 &  3 & 2015-01-03 01:56:00 & 3.950000 & Female & White & English & 154.50 &  49.20 & BLUE SHIELD                & 2020-03-31 & 53\\\\\n",
       "\t3 & JCd91eb2 & 131062747648 & 0 & 2015-01-01 08:24:00 & 13628701 &  2 & 2015-01-01 01:10:00 & 7.233333 & Female & White & English & 170.18 &  92.70 & MEDICARE                   & 2019-01-01 & 64\\\\\n",
       "\t4 & JCe7cb4d & 131062788358 & 0 & 2015-01-01 23:39:00 & 13631833 &  3 & 2015-01-01 17:07:00 & 6.533333 & Male   & White & English & 185.42 & 101.90 & AETNA                      & 2019-01-01 & 25\\\\\n",
       "\t5 & JCe293de & 131063044001 & 0 & 2015-01-05 02:23:00 & 13663181 &  3 & 2015-01-04 18:13:00 & 8.166667 & Female & Other & Spanish & 152.40 &  40.37 & COMMERCIAL OTHER           & 2019-01-01 & 34\\\\\n",
       "\t6 & JCe8d756 & 131063080858 & 0 & 2015-01-07 04:00:00 & 13668812 &  2 & 2015-01-06 22:24:00 & 5.600000 & Male   & White & English & 170.18 &  68.67 & BLUE CROSS                 & 2019-01-01 & 68\\\\\n",
       "\\end{tabular}\n"
      ],
      "text/markdown": [
       "\n",
       "A data.frame: 6 × 16\n",
       "\n",
       "| <!--/--> | anon_id &lt;chr&gt; | pat_enc_csn_id_coded &lt;dbl&gt; | label &lt;int&gt; | admit_time &lt;dttm&gt; | inpatient_data_id_coded &lt;dbl&gt; | ESI &lt;dbl&gt; | hosp_admsn_time &lt;dttm&gt; | ed_time_hr &lt;dbl&gt; | gender &lt;fct&gt; | race &lt;fct&gt; | language &lt;fct&gt; | recent_height_cm &lt;dbl&gt; | recent_weight_kg &lt;dbl&gt; | insurance &lt;fct&gt; | recent_date &lt;date&gt; | age &lt;dbl&gt; |\n",
       "|---|---|---|---|---|---|---|---|---|---|---|---|---|---|---|---|---|\n",
       "| 1 | JCe78a06 | 131062667066 | 0 | 2015-01-02 01:01:00 | 13616753 | NA | 2015-01-01 17:10:00 | 7.850000 | Female | White | English | 152.40 |  55.60 | HEALTHNET SENIOR ADVANTAGE | 2020-01-10 | 83 |\n",
       "| 2 | JCd1c19e | 131062745090 | 0 | 2015-01-03 05:53:00 | 13628503 |  3 | 2015-01-03 01:56:00 | 3.950000 | Female | White | English | 154.50 |  49.20 | BLUE SHIELD                | 2020-03-31 | 53 |\n",
       "| 3 | JCd91eb2 | 131062747648 | 0 | 2015-01-01 08:24:00 | 13628701 |  2 | 2015-01-01 01:10:00 | 7.233333 | Female | White | English | 170.18 |  92.70 | MEDICARE                   | 2019-01-01 | 64 |\n",
       "| 4 | JCe7cb4d | 131062788358 | 0 | 2015-01-01 23:39:00 | 13631833 |  3 | 2015-01-01 17:07:00 | 6.533333 | Male   | White | English | 185.42 | 101.90 | AETNA                      | 2019-01-01 | 25 |\n",
       "| 5 | JCe293de | 131063044001 | 0 | 2015-01-05 02:23:00 | 13663181 |  3 | 2015-01-04 18:13:00 | 8.166667 | Female | Other | Spanish | 152.40 |  40.37 | COMMERCIAL OTHER           | 2019-01-01 | 34 |\n",
       "| 6 | JCe8d756 | 131063080858 | 0 | 2015-01-07 04:00:00 | 13668812 |  2 | 2015-01-06 22:24:00 | 5.600000 | Male   | White | English | 170.18 |  68.67 | BLUE CROSS                 | 2019-01-01 | 68 |\n",
       "\n"
      ],
      "text/plain": [
       "  anon_id  pat_enc_csn_id_coded label admit_time         \n",
       "1 JCe78a06 131062667066         0     2015-01-02 01:01:00\n",
       "2 JCd1c19e 131062745090         0     2015-01-03 05:53:00\n",
       "3 JCd91eb2 131062747648         0     2015-01-01 08:24:00\n",
       "4 JCe7cb4d 131062788358         0     2015-01-01 23:39:00\n",
       "5 JCe293de 131063044001         0     2015-01-05 02:23:00\n",
       "6 JCe8d756 131063080858         0     2015-01-07 04:00:00\n",
       "  inpatient_data_id_coded ESI hosp_admsn_time     ed_time_hr gender race \n",
       "1 13616753                NA  2015-01-01 17:10:00 7.850000   Female White\n",
       "2 13628503                 3  2015-01-03 01:56:00 3.950000   Female White\n",
       "3 13628701                 2  2015-01-01 01:10:00 7.233333   Female White\n",
       "4 13631833                 3  2015-01-01 17:07:00 6.533333   Male   White\n",
       "5 13663181                 3  2015-01-04 18:13:00 8.166667   Female Other\n",
       "6 13668812                 2  2015-01-06 22:24:00 5.600000   Male   White\n",
       "  language recent_height_cm recent_weight_kg insurance                 \n",
       "1 English  152.40            55.60           HEALTHNET SENIOR ADVANTAGE\n",
       "2 English  154.50            49.20           BLUE SHIELD               \n",
       "3 English  170.18            92.70           MEDICARE                  \n",
       "4 English  185.42           101.90           AETNA                     \n",
       "5 Spanish  152.40            40.37           COMMERCIAL OTHER          \n",
       "6 English  170.18            68.67           BLUE CROSS                \n",
       "  recent_date age\n",
       "1 2020-01-10  83 \n",
       "2 2020-03-31  53 \n",
       "3 2019-01-01  64 \n",
       "4 2019-01-01  25 \n",
       "5 2019-01-01  34 \n",
       "6 2019-01-01  68 "
      ]
     },
     "metadata": {},
     "output_type": "display_data"
    }
   ],
   "source": [
    "head(cohort_age)"
   ]
  }
 ],
 "metadata": {
  "environment": {
   "name": "r-cpu.4-0.m71",
   "type": "gcloud",
   "uri": "gcr.io/deeplearning-platform-release/r-cpu.4-0:m71"
  },
  "kernelspec": {
   "display_name": "R",
   "language": "R",
   "name": "ir"
  },
  "language_info": {
   "codemirror_mode": "r",
   "file_extension": ".r",
   "mimetype": "text/x-r-source",
   "name": "R",
   "pygments_lexer": "r",
   "version": "4.0.3"
  },
  "toc": {
   "base_numbering": 1,
   "nav_menu": {},
   "number_sections": true,
   "sideBar": true,
   "skip_h1_title": false,
   "title_cell": "Table of Contents",
   "title_sidebar": "Contents",
   "toc_cell": false,
   "toc_position": {},
   "toc_section_display": true,
   "toc_window_display": false
  },
  "varInspector": {
   "cols": {
    "lenName": 16,
    "lenType": 16,
    "lenVar": 40
   },
   "kernels_config": {
    "python": {
     "delete_cmd_postfix": "",
     "delete_cmd_prefix": "del ",
     "library": "var_list.py",
     "varRefreshCmd": "print(var_dic_list())"
    },
    "r": {
     "delete_cmd_postfix": ") ",
     "delete_cmd_prefix": "rm(",
     "library": "var_list.r",
     "varRefreshCmd": "cat(var_dic_list()) "
    }
   },
   "types_to_exclude": [
    "module",
    "function",
    "builtin_function_or_method",
    "instance",
    "_Feature"
   ],
   "window_display": false
  }
 },
 "nbformat": 4,
 "nbformat_minor": 4
}
