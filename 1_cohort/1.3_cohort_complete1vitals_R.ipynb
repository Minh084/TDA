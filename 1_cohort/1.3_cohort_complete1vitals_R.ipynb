{
 "cells": [
  {
   "cell_type": "markdown",
   "metadata": {},
   "source": [
    "### Description:\n",
    "\n",
    "The codes in this notebook is from the 2nd part of the `2.3_vitalsigns_R.ipynb`\n",
    "\n",
    "UPDATE cohort, reduced to observations who have at least 1 COMPLETE set of vital signs.\n",
    "\n",
    "*This notebook is only for demonstration of obtaining an updated cohort, no need to re-run.*\n",
    "\n",
    "Inputs: `2_3_coh2_vitals.csv`\n",
    "\n",
    "Outputs: \n",
    "- `cohort_vs1st.csv`\n",
    "- `1_3_cohort.csv` -- updated cohort, use for ESI imputation"
   ]
  },
  {
   "cell_type": "markdown",
   "metadata": {},
   "source": [
    "### Importing R libraries"
   ]
  },
  {
   "cell_type": "code",
   "execution_count": 1,
   "metadata": {
    "ExecuteTime": {
     "end_time": "2020-05-21T00:38:06.078240Z",
     "start_time": "2020-05-21T00:38:02.778Z"
    }
   },
   "outputs": [
    {
     "name": "stderr",
     "output_type": "stream",
     "text": [
      "── \u001b[1mAttaching packages\u001b[22m ─────────────────────────────────────── tidyverse 1.3.1 ──\n",
      "\n",
      "\u001b[32m✔\u001b[39m \u001b[34mggplot2\u001b[39m 3.3.3     \u001b[32m✔\u001b[39m \u001b[34mpurrr  \u001b[39m 0.3.4\n",
      "\u001b[32m✔\u001b[39m \u001b[34mtibble \u001b[39m 3.1.2     \u001b[32m✔\u001b[39m \u001b[34mdplyr  \u001b[39m 1.0.6\n",
      "\u001b[32m✔\u001b[39m \u001b[34mtidyr  \u001b[39m 1.1.3     \u001b[32m✔\u001b[39m \u001b[34mstringr\u001b[39m 1.4.0\n",
      "\u001b[32m✔\u001b[39m \u001b[34mreadr  \u001b[39m 1.4.0     \u001b[32m✔\u001b[39m \u001b[34mforcats\u001b[39m 0.5.1\n",
      "\n",
      "── \u001b[1mConflicts\u001b[22m ────────────────────────────────────────── tidyverse_conflicts() ──\n",
      "\u001b[31m✖\u001b[39m \u001b[34mdplyr\u001b[39m::\u001b[32mfilter()\u001b[39m masks \u001b[34mstats\u001b[39m::filter()\n",
      "\u001b[31m✖\u001b[39m \u001b[34mdplyr\u001b[39m::\u001b[32mlag()\u001b[39m    masks \u001b[34mstats\u001b[39m::lag()\n",
      "\n",
      "\n",
      "Attaching package: ‘lubridate’\n",
      "\n",
      "\n",
      "The following objects are masked from ‘package:base’:\n",
      "\n",
      "    date, intersect, setdiff, union\n",
      "\n",
      "\n"
     ]
    }
   ],
   "source": [
    "library(bigrquery)  # to query STARR-OMOP (stored in BigQuery) using SQL\n",
    "library(tidyverse)\n",
    "library(lubridate)\n",
    "\n",
    "# library(data.table)\n",
    "# library(Matrix)\n",
    "# library(caret) # import this before glmnet to avoid rlang version problem\n",
    "# library(glmnet)\n",
    "# library(bit64)\n",
    "\n",
    "# library(slam)\n",
    "# library(mtools) for one hot coder, not available on Nero or use caret or tidyr\n",
    "# library(mice)\n",
    "\n",
    "options(repr.matrix.max.rows=250, repr.matrix.max.cols=30)"
   ]
  },
  {
   "cell_type": "markdown",
   "metadata": {},
   "source": [
    "## Get the first set of vital signs - UPDATE COHORT\n",
    "This will result in an updated (smaller) cohort, `1_3_cohort`, only with observations whose have at least a complet set of vital signs.\n",
    "\n",
    "These blocks of code in this section are the same in:\n",
    "- `1_cohort/1.5_cohort_complete1vitals_R.ipynb`\n",
    "- second part of the `2.3_vitalsigns_R.ipynb`"
   ]
  },
  {
   "cell_type": "code",
   "execution_count": 114,
   "metadata": {},
   "outputs": [
    {
     "data": {
      "text/html": [
       "1011260"
      ],
      "text/latex": [
       "1011260"
      ],
      "text/markdown": [
       "1011260"
      ],
      "text/plain": [
       "[1] 1011260"
      ]
     },
     "metadata": {},
     "output_type": "display_data"
    },
    {
     "data": {
      "text/html": [
       "45613"
      ],
      "text/latex": [
       "45613"
      ],
      "text/markdown": [
       "45613"
      ],
      "text/plain": [
       "[1] 45613"
      ]
     },
     "metadata": {},
     "output_type": "display_data"
    }
   ],
   "source": [
    "# read inputs\n",
    "datadir = \"../../DataTD\"\n",
    "cohortdir = \"../../OutputTD/1_cohort\"\n",
    "featuredir = \"../../OutputTD/2_features\"\n",
    "\n",
    "cohort_vitals <- read.csv(file.path(featuredir, \"2_3_coh2_vitals.csv\"))\n",
    "nrow(cohort_vitals)\n",
    "length(unique(cohort_vitals$pat_enc_csn_id_coded))"
   ]
  },
  {
   "cell_type": "code",
   "execution_count": 29,
   "metadata": {},
   "outputs": [
    {
     "data": {
      "text/html": [
       "<table class=\"dataframe\">\n",
       "<caption>A data.frame: 6 × 9</caption>\n",
       "<thead>\n",
       "\t<tr><th></th><th scope=col>anon_id</th><th scope=col>pat_enc_csn_id_coded</th><th scope=col>inpatient_data_id_coded</th><th scope=col>template</th><th scope=col>features</th><th scope=col>units</th><th scope=col>recorded_time</th><th scope=col>values</th><th scope=col>feature_type</th></tr>\n",
       "\t<tr><th></th><th scope=col>&lt;chr&gt;</th><th scope=col>&lt;dbl&gt;</th><th scope=col>&lt;int&gt;</th><th scope=col>&lt;chr&gt;</th><th scope=col>&lt;chr&gt;</th><th scope=col>&lt;chr&gt;</th><th scope=col>&lt;chr&gt;</th><th scope=col>&lt;dbl&gt;</th><th scope=col>&lt;chr&gt;</th></tr>\n",
       "</thead>\n",
       "<tbody>\n",
       "\t<tr><th scope=row>1</th><td>JCe15c20</td><td>131254814765</td><td>31338316</td><td>Vitals       </td><td>RR  </td><td></td><td>2018-08-22 16:00:00+00:00</td><td> 16</td><td>vitals</td></tr>\n",
       "\t<tr><th scope=row>2</th><td>JCd0a8db</td><td>131264538689</td><td>34735715</td><td>DATA VALIDATE</td><td>SBP </td><td></td><td>2019-02-11 11:45:00+00:00</td><td>178</td><td>vitals</td></tr>\n",
       "\t<tr><th scope=row>3</th><td>JCdeb93e</td><td>131266509496</td><td>36078047</td><td>M/S VS       </td><td>Temp</td><td></td><td>2019-04-03 22:45:00+00:00</td><td> 37</td><td>vitals</td></tr>\n",
       "\t<tr><th scope=row>4</th><td>JCcbf217</td><td>131241202790</td><td>27087604</td><td>DATA VALIDATE</td><td>SBP </td><td></td><td>2017-12-18 06:30:00+00:00</td><td> 88</td><td>vitals</td></tr>\n",
       "\t<tr><th scope=row>5</th><td>JCd64572</td><td>131231133056</td><td>24776616</td><td>Vitals       </td><td>SBP </td><td></td><td>2017-06-21 20:45:00+00:00</td><td>163</td><td>vitals</td></tr>\n",
       "\t<tr><th scope=row>6</th><td>JCd884d0</td><td>131121019062</td><td>16807919</td><td>DATA VALIDATE</td><td>SBP </td><td></td><td>2015-10-16 19:00:00+00:00</td><td> 97</td><td>vitals</td></tr>\n",
       "</tbody>\n",
       "</table>\n"
      ],
      "text/latex": [
       "A data.frame: 6 × 9\n",
       "\\begin{tabular}{r|lllllllll}\n",
       "  & anon\\_id & pat\\_enc\\_csn\\_id\\_coded & inpatient\\_data\\_id\\_coded & template & features & units & recorded\\_time & values & feature\\_type\\\\\n",
       "  & <chr> & <dbl> & <int> & <chr> & <chr> & <chr> & <chr> & <dbl> & <chr>\\\\\n",
       "\\hline\n",
       "\t1 & JCe15c20 & 131254814765 & 31338316 & Vitals        & RR   &  & 2018-08-22 16:00:00+00:00 &  16 & vitals\\\\\n",
       "\t2 & JCd0a8db & 131264538689 & 34735715 & DATA VALIDATE & SBP  &  & 2019-02-11 11:45:00+00:00 & 178 & vitals\\\\\n",
       "\t3 & JCdeb93e & 131266509496 & 36078047 & M/S VS        & Temp &  & 2019-04-03 22:45:00+00:00 &  37 & vitals\\\\\n",
       "\t4 & JCcbf217 & 131241202790 & 27087604 & DATA VALIDATE & SBP  &  & 2017-12-18 06:30:00+00:00 &  88 & vitals\\\\\n",
       "\t5 & JCd64572 & 131231133056 & 24776616 & Vitals        & SBP  &  & 2017-06-21 20:45:00+00:00 & 163 & vitals\\\\\n",
       "\t6 & JCd884d0 & 131121019062 & 16807919 & DATA VALIDATE & SBP  &  & 2015-10-16 19:00:00+00:00 &  97 & vitals\\\\\n",
       "\\end{tabular}\n"
      ],
      "text/markdown": [
       "\n",
       "A data.frame: 6 × 9\n",
       "\n",
       "| <!--/--> | anon_id &lt;chr&gt; | pat_enc_csn_id_coded &lt;dbl&gt; | inpatient_data_id_coded &lt;int&gt; | template &lt;chr&gt; | features &lt;chr&gt; | units &lt;chr&gt; | recorded_time &lt;chr&gt; | values &lt;dbl&gt; | feature_type &lt;chr&gt; |\n",
       "|---|---|---|---|---|---|---|---|---|---|\n",
       "| 1 | JCe15c20 | 131254814765 | 31338316 | Vitals        | RR   | <!----> | 2018-08-22 16:00:00+00:00 |  16 | vitals |\n",
       "| 2 | JCd0a8db | 131264538689 | 34735715 | DATA VALIDATE | SBP  | <!----> | 2019-02-11 11:45:00+00:00 | 178 | vitals |\n",
       "| 3 | JCdeb93e | 131266509496 | 36078047 | M/S VS        | Temp | <!----> | 2019-04-03 22:45:00+00:00 |  37 | vitals |\n",
       "| 4 | JCcbf217 | 131241202790 | 27087604 | DATA VALIDATE | SBP  | <!----> | 2017-12-18 06:30:00+00:00 |  88 | vitals |\n",
       "| 5 | JCd64572 | 131231133056 | 24776616 | Vitals        | SBP  | <!----> | 2017-06-21 20:45:00+00:00 | 163 | vitals |\n",
       "| 6 | JCd884d0 | 131121019062 | 16807919 | DATA VALIDATE | SBP  | <!----> | 2015-10-16 19:00:00+00:00 |  97 | vitals |\n",
       "\n"
      ],
      "text/plain": [
       "  anon_id  pat_enc_csn_id_coded inpatient_data_id_coded template      features\n",
       "1 JCe15c20 131254814765         31338316                Vitals        RR      \n",
       "2 JCd0a8db 131264538689         34735715                DATA VALIDATE SBP     \n",
       "3 JCdeb93e 131266509496         36078047                M/S VS        Temp    \n",
       "4 JCcbf217 131241202790         27087604                DATA VALIDATE SBP     \n",
       "5 JCd64572 131231133056         24776616                Vitals        SBP     \n",
       "6 JCd884d0 131121019062         16807919                DATA VALIDATE SBP     \n",
       "  units recorded_time             values feature_type\n",
       "1       2018-08-22 16:00:00+00:00  16    vitals      \n",
       "2       2019-02-11 11:45:00+00:00 178    vitals      \n",
       "3       2019-04-03 22:45:00+00:00  37    vitals      \n",
       "4       2017-12-18 06:30:00+00:00  88    vitals      \n",
       "5       2017-06-21 20:45:00+00:00 163    vitals      \n",
       "6       2015-10-16 19:00:00+00:00  97    vitals      "
      ]
     },
     "metadata": {},
     "output_type": "display_data"
    }
   ],
   "source": [
    "head(cohort_vitals)"
   ]
  },
  {
   "cell_type": "code",
   "execution_count": null,
   "metadata": {},
   "outputs": [],
   "source": [
    "# same as above, but takes ~8min to run\n",
    "vs1st <- cohort_vitals %>% select(anon_id, pat_enc_csn_id_coded, inpatient_data_id_coded, \n",
    "                                  admit_time, label, recorded_time, features, values, feature_type) %>% \n",
    "            mutate(recorded_time = ymd_hms(recorded_time)) %>% \n",
    "            group_by(anon_id, pat_enc_csn_id_coded, inpatient_data_id_coded, \n",
    "                     admit_time, label, features) %>%\n",
    "            top_n(n=-1, recorded_time) %>% # slice_min(n=1, recorded_time, with_ties = FALSE) \n",
    "            summarise(first_val = mean(values, na.rm=TRUE)) %>% distinct()"
   ]
  },
  {
   "cell_type": "code",
   "execution_count": 48,
   "metadata": {},
   "outputs": [
    {
     "data": {
      "text/html": [
       "226510"
      ],
      "text/latex": [
       "226510"
      ],
      "text/markdown": [
       "226510"
      ],
      "text/plain": [
       "[1] 226510"
      ]
     },
     "metadata": {},
     "output_type": "display_data"
    },
    {
     "data": {
      "text/html": [
       "226510"
      ],
      "text/latex": [
       "226510"
      ],
      "text/markdown": [
       "226510"
      ],
      "text/plain": [
       "[1] 226510"
      ]
     },
     "metadata": {},
     "output_type": "display_data"
    },
    {
     "data": {
      "text/html": [
       "45613"
      ],
      "text/latex": [
       "45613"
      ],
      "text/markdown": [
       "45613"
      ],
      "text/plain": [
       "[1] 45613"
      ]
     },
     "metadata": {},
     "output_type": "display_data"
    },
    {
     "data": {
      "text/html": [
       "45613"
      ],
      "text/latex": [
       "45613"
      ],
      "text/markdown": [
       "45613"
      ],
      "text/plain": [
       "[1] 45613"
      ]
     },
     "metadata": {},
     "output_type": "display_data"
    }
   ],
   "source": [
    "# only have 1 unique time because we already took care of this \n",
    "nrow(vs1st) #226510\n",
    "nrow(vs1st %>% distinct(anon_id, pat_enc_csn_id_coded, features))\n",
    "nrow(vs1st %>% distinct(anon_id, pat_enc_csn_id_coded, inpatient_data_id_coded)) #45613\n",
    "nrow(vs1st %>% distinct(anon_id, pat_enc_csn_id_coded)) "
   ]
  },
  {
   "cell_type": "code",
   "execution_count": 92,
   "metadata": {},
   "outputs": [],
   "source": [
    "write.csv(vs1st, file.path(featuredir, \"2_3_coh2_vs1st.csv\"), row.names=FALSE)"
   ]
  },
  {
   "cell_type": "code",
   "execution_count": null,
   "metadata": {},
   "outputs": [],
   "source": [
    "# note: cohort size dropped further\n",
    "# get the the cohort with 1st complete set of VS for ESI imputation\n",
    "cohort1vs <- vs1st %>% drop_na() %>% spread(features, first_val) %>% drop_na() \n",
    "colnames(cohort1vs)\n",
    "nrow(cohort1vs %>% distinct(pat_enc_csn_id_coded))"
   ]
  },
  {
   "cell_type": "raw",
   "metadata": {},
   "source": [
    "# note: cohort size dropped further\n",
    "# get the the cohort with 1st (at least 1) complete set of VS \n",
    "cohort1vs <- vs1st %>% drop_na() %>% spread(features, first_val) %>% drop_na() %>% \n",
    "                select(anon_id, pat_enc_csn_id_coded, inpatient_data_id_coded)\n",
    "colnames(cohort1vs)\n",
    "nrow(cohort1vs %>% distinct(pat_enc_csn_id_coded)) #44258"
   ]
  },
  {
   "cell_type": "code",
   "execution_count": 91,
   "metadata": {},
   "outputs": [],
   "source": [
    "# 44258\n",
    "write.csv(cohort1vs, file.path(cohortdir, \"1_3_cohort.csv\"), row.names=FALSE)"
   ]
  }
 ],
 "metadata": {
  "environment": {
   "name": "r-cpu.4-0.m71",
   "type": "gcloud",
   "uri": "gcr.io/deeplearning-platform-release/r-cpu.4-0:m71"
  },
  "kernelspec": {
   "display_name": "R",
   "language": "R",
   "name": "ir"
  },
  "language_info": {
   "codemirror_mode": "r",
   "file_extension": ".r",
   "mimetype": "text/x-r-source",
   "name": "R",
   "pygments_lexer": "r",
   "version": "4.0.3"
  },
  "toc": {
   "base_numbering": 1,
   "nav_menu": {},
   "number_sections": true,
   "sideBar": true,
   "skip_h1_title": false,
   "title_cell": "Table of Contents",
   "title_sidebar": "Contents",
   "toc_cell": false,
   "toc_position": {},
   "toc_section_display": true,
   "toc_window_display": false
  },
  "varInspector": {
   "cols": {
    "lenName": 16,
    "lenType": 16,
    "lenVar": 40
   },
   "kernels_config": {
    "python": {
     "delete_cmd_postfix": "",
     "delete_cmd_prefix": "del ",
     "library": "var_list.py",
     "varRefreshCmd": "print(var_dic_list())"
    },
    "r": {
     "delete_cmd_postfix": ") ",
     "delete_cmd_prefix": "rm(",
     "library": "var_list.r",
     "varRefreshCmd": "cat(var_dic_list()) "
    }
   },
   "types_to_exclude": [
    "module",
    "function",
    "builtin_function_or_method",
    "instance",
    "_Feature"
   ],
   "window_display": false
  }
 },
 "nbformat": 4,
 "nbformat_minor": 4
}
