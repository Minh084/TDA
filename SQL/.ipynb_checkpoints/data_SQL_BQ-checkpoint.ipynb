{
 "cells": [
  {
   "cell_type": "markdown",
   "metadata": {
    "ExecuteTime": {
     "end_time": "2020-05-17T21:33:05.576329Z",
     "start_time": "2020-05-17T21:33:03.404617Z"
    }
   },
   "source": [
    "### Query files and push files to Big Query\n",
    "* (other names: BMI212_demo_code_admit, cohort_adjusted)\n",
    "* Use Cohort's original cohort to join with demographics, order_proc for code status and admission orders\n",
    "* After processing and joining the these files in R (Cohort_queries notebook), push to Big Query:\n",
    "including the final adjusted cohort (processed in R, saved, called from here, pushed to BQ)\n",
    "\n",
    "* Generate: admit_code and admit_inpatient from SQL. \n",
    "* Process and save as: ordertypes and admit_inpatient.\n",
    "\n",
    "Should have done the timediff and explore the distributions in R, but already did them here...\n",
    "\n",
    "**UPDATE**: changed *traige_TE* to *triage* under *som-nero-phi-jonc101*"
   ]
  },
  {
   "cell_type": "code",
   "execution_count": 22,
   "metadata": {},
   "outputs": [],
   "source": [
    "# !pip install pandas-gbq"
   ]
  },
  {
   "cell_type": "code",
   "execution_count": 1,
   "metadata": {
    "ExecuteTime": {
     "end_time": "2020-05-28T18:47:57.528255Z",
     "start_time": "2020-05-28T18:47:54.874579Z"
    }
   },
   "outputs": [],
   "source": [
    "import pandas as pd\n",
    "import matplotlib.mlab as mlab\n",
    "import matplotlib.pyplot as plt\n",
    "from datetime import datetime, timedelta\n",
    "\n",
    "%matplotlib inline\n",
    "%load_ext rpy2.ipython"
   ]
  },
  {
   "cell_type": "code",
   "execution_count": 2,
   "metadata": {
    "ExecuteTime": {
     "end_time": "2020-05-22T19:26:31.720270Z",
     "start_time": "2020-05-22T19:26:28.451753Z"
    }
   },
   "outputs": [
    {
     "name": "stderr",
     "output_type": "stream",
     "text": [
      "/opt/conda/lib/python3.7/site-packages/google/auth/_default.py:70: UserWarning: Your application has authenticated using end user credentials from Google Cloud SDK without a quota project. You might receive a \"quota exceeded\" or \"API not enabled\" error. We recommend you rerun `gcloud auth application-default login` and make sure a quota project is added. Or you can use service accounts instead. For more information about service accounts, see https://cloud.google.com/docs/authentication/\n",
      "  warnings.warn(_CLOUD_SDK_CREDENTIALS_WARNING)\n"
     ]
    }
   ],
   "source": [
    "import os \n",
    "from google.cloud import bigquery\n",
    "from google.cloud.bigquery import dbapi\n",
    "\n",
    "##Use correct path based on whether you are, Nero or local\n",
    "# use Ctrl + Insert to copy and Shift + Insert to paste\n",
    "\n",
    "# for Nero:\n",
    "# os.environ['GOOGLE_APPLICATION_CREDENTIALS'] = '/home/minh084/.config/gcloud/application_default_credentials.json' \n",
    "os.environ['GOOGLE_APPLICATION_CREDENTIALS'] = '/home/jupyter/.config/gcloud/application_default_credentials.json'\n",
    "\n",
    "# for local computer:\n",
    "# os.environ['GOOGLE_APPLICATION_CREDENTIALS'] = r'C:\\Users\\User\\AppData\\Roaming\\gcloud\\application_default_credentials.json' \n",
    "\n",
    "##set correct Nero project\n",
    "os.environ['GCLOUD_PROJECT'] = 'som-nero-phi-jonc101' \n",
    "\n",
    "##Setting up BQ API, m1:\n",
    "client = bigquery.Client()\n",
    "\n",
    "##using dbAPI connection, m2:\n",
    "conn = dbapi.connect(client)"
   ]
  },
  {
   "cell_type": "markdown",
   "metadata": {},
   "source": [
    "### Conor's original cohort"
   ]
  },
  {
   "cell_type": "code",
   "execution_count": 3,
   "metadata": {},
   "outputs": [],
   "source": [
    "# new cohort from shc_core dataset now\n",
    "q = \"SELECT * FROM `triage.triage_cohort_draft_2019`\"\n",
    "query_job = client.query(q)\n",
    "df = query_job.to_dataframe()"
   ]
  },
  {
   "cell_type": "code",
   "execution_count": 4,
   "metadata": {},
   "outputs": [],
   "source": [
    "df.to_csv('../../../Data/Ccohort.csv', index=False)\n",
    "Ccohort = pd.read_csv('../../../Data/Ccohort.csv')"
   ]
  },
  {
   "cell_type": "code",
   "execution_count": 7,
   "metadata": {},
   "outputs": [
    {
     "name": "stdout",
     "output_type": "stream",
     "text": [
      "52314\n"
     ]
    },
    {
     "data": {
      "text/plain": [
       "0    44920\n",
       "1     7394\n",
       "Name: label, dtype: int64"
      ]
     },
     "execution_count": 7,
     "metadata": {},
     "output_type": "execute_result"
    }
   ],
   "source": [
    "print(len(df))\n",
    "df[\"label\"].value_counts() # before nero dead: 52314: 44920 vs 7394"
   ]
  },
  {
   "cell_type": "markdown",
   "metadata": {},
   "source": [
    "### OLD --\n",
    "Main cohort = Conor's cohort with inpatient id"
   ]
  },
  {
   "cell_type": "code",
   "execution_count": 23,
   "metadata": {},
   "outputs": [],
   "source": [
    "q = \"SELECT * FROM triage.draft_cohort_inpatient_id\"\n",
    "query_job = client.query(q).to_dataframe().to_csv('./Data/Ccohort_inptid.csv', index=False)"
   ]
  },
  {
   "cell_type": "code",
   "execution_count": 24,
   "metadata": {},
   "outputs": [],
   "source": [
    "cohort = pd.read_csv('./Data/Ccohort_inptid.csv')"
   ]
  },
  {
   "cell_type": "code",
   "execution_count": 3,
   "metadata": {},
   "outputs": [],
   "source": [
    "print(len(cohort)) # 39751\n",
    "print(cohort[\"label\"].value_counts()) # 14.23% of 1\n",
    "cohort.head()"
   ]
  },
  {
   "cell_type": "markdown",
   "metadata": {},
   "source": [
    "### OLD -- \n",
    "Some queries to exam the tables"
   ]
  },
  {
   "cell_type": "code",
   "execution_count": null,
   "metadata": {},
   "outputs": [],
   "source": [
    "# count all order_types in order_proc\n",
    "q = open('SQL/countcols_ordertype.sql', 'r')\n",
    "query_job =  client.query(q.read()).to_dataframe().to_csv('./Data/orderproc_typecounts.csv', index=False)\n",
    "q.close()"
   ]
  },
  {
   "cell_type": "code",
   "execution_count": 54,
   "metadata": {},
   "outputs": [],
   "source": [
    "# list order_type and display_name in order_proc\n",
    "q = open('SQL/count2cols.sql', 'r')\n",
    "query_job =  client.query(q.read()).to_dataframe().to_csv('./Data/orderproc_typenames.csv', index=False)\n",
    "q.close()"
   ]
  },
  {
   "cell_type": "code",
   "execution_count": 63,
   "metadata": {},
   "outputs": [
    {
     "data": {
      "text/plain": [
       "Admission                               44\n",
       "BB Call Slip                            33\n",
       "Bedside Procedure                        2\n",
       "Blood Bank                             248\n",
       "Bronchoscopy                             3\n",
       "Cardiac Angio                            5\n",
       "Cast Room                               66\n",
       "Cath Angio                              85\n",
       "Charge                                   1\n",
       "Code Status                             11\n",
       "Consult                               5925\n",
       "Consult to Cardiology                    1\n",
       "Device Check                            38\n",
       "Diet                                 13006\n",
       "Diet Communication                       3\n",
       "Discharge                              171\n",
       "ECG                                    211\n",
       "ECHO                                    86\n",
       "ENT                                     25\n",
       "Electrophysiology                        7\n",
       "Evercore                                 5\n",
       "GI                                     129\n",
       "General Supply                          70\n",
       "Generic Surgical History                 1\n",
       "HB Chargeables                           4\n",
       "HIV Lab Non-Restricted                  41\n",
       "HIV Lab Restricted                      77\n",
       "IVF Labs                                24\n",
       "Imaging                               6213\n",
       "Imaging Non-Reportable                 206\n",
       "Immunization/Injection                 361\n",
       "Isolation                               19\n",
       "Lab                                  12207\n",
       "Lab Only                                15\n",
       "Lab Panel                               31\n",
       "Language Services                        1\n",
       "Legal                                   22\n",
       "Manual Entry Bronchoscopy                1\n",
       "Manual Entry Cardiac Angio               1\n",
       "Manual Entry ECHO                        1\n",
       "Manual Entry HIV Lab Restricted          1\n",
       "Manual Entry Imaging                     2\n",
       "Manual Entry Lab                         4\n",
       "Manual Entry Procedures                  1\n",
       "Microbiology                           313\n",
       "Microbiology Culture                   267\n",
       "MyHealth Questionnaire Assignment        5\n",
       "NOURISHMENTS                            21\n",
       "NSG PICC Refer                          14\n",
       "Neurology                              101\n",
       "Notify Physician                         7\n",
       "Nursing                               4247\n",
       "Nursing Referral                        11\n",
       "Nursing Transfusion                     37\n",
       "OB Ultrasound                            4\n",
       "OT                                       9\n",
       "Ophthalmology                            2\n",
       "Other Order Scanned Report               1\n",
       "Outpatient Referral                   2344\n",
       "PFT                                     91\n",
       "PR Charge                              172\n",
       "PT                                      19\n",
       "Pathology                              136\n",
       "Pharmacy Consult                        10\n",
       "Pharmacy Supplies                        1\n",
       "Point of Care Testing                  357\n",
       "Precaution                              51\n",
       "Procedures                            6203\n",
       "REHAB                                   41\n",
       "Radiation Oncology                       2\n",
       "Reference Labs                         802\n",
       "Respiratory Care                       123\n",
       "Restraints                               8\n",
       "SLP                                     15\n",
       "Sleep Center                             7\n",
       "Surgical Procedures                     71\n",
       "Therapeutic Recreation Orderables        1\n",
       "Transfer                                12\n",
       "Transfusion Communication               38\n",
       "Transport                                7\n",
       "Vascular Ultrasound                     52\n",
       "Vaultstream                             14\n",
       "Zeiss                                  201\n",
       "filter exclude all                       1\n",
       "Name: order_type, dtype: int64"
      ]
     },
     "metadata": {},
     "output_type": "display_data"
    }
   ],
   "source": [
    "# pd.set_option('display.max_rows', 10)\n",
    "order_proc = pd.read_csv(\"./Data/orderproc_typenames.csv\")\n",
    "\n",
    "from IPython.display import display\n",
    "with pd.option_context('display.max_rows', 100, 'display.max_columns', 10):\n",
    "    display(order_proc[\"order_type\"].value_counts().sort_index())"
   ]
  },
  {
   "cell_type": "code",
   "execution_count": 91,
   "metadata": {},
   "outputs": [
    {
     "data": {
      "text/plain": [
       "              Vital Signs                 1\n",
       " 80 MINUTE MASSAGE - EMPLOYEE DISCOUNT    3\n",
       " Allergy Venom Tests                      1\n",
       " Assess Spinal pressure                   1\n",
       " CPM                                      1\n",
       "                                         ..\n",
       " CT Venography Lower Extremity Right      1\n",
       "¿CT Venography Chest                      1\n",
       "¿CT Venography Lower Extremity Right      1\n",
       "ÿComprehensive Metabolic Panel            1\n",
       "ÿComprehensive Metabolic Panel (QUEST)    2\n",
       "Name: display_name, Length: 54368, dtype: int64"
      ]
     },
     "metadata": {},
     "output_type": "display_data"
    }
   ],
   "source": [
    "with pd.option_context('display.max_rows', 100, 'display.max_columns', 10):\n",
    "    display(order_proc[\"display_name\"].value_counts().sort_index())"
   ]
  },
  {
   "cell_type": "code",
   "execution_count": 6,
   "metadata": {},
   "outputs": [],
   "source": [
    "q = \"SELECT * FROM triage.triage_cohort_adjusted_multilabel\"\n",
    "query_job = client.query(q).to_dataframe().to_csv('./Data/multilabels.csv', index=False)"
   ]
  },
  {
   "cell_type": "code",
   "execution_count": 97,
   "metadata": {},
   "outputs": [],
   "source": [
    "q = \"SELECT * FROM triage.triage_cohort_adjusted_labs_resulttime\"\n",
    "query_job = client.query(q).to_dataframe().to_csv('./Data/labs_resulttime.csv', index=False)"
   ]
  },
  {
   "cell_type": "code",
   "execution_count": 98,
   "metadata": {},
   "outputs": [],
   "source": [
    "# no time restriction\n",
    "q = \"SELECT * FROM triage.draft_cohort_joined_labs_uid_csn\"\n",
    "query_job = client.query(q).to_dataframe().to_csv('./Data/labs_resulttime2.csv', index=False)"
   ]
  },
  {
   "cell_type": "markdown",
   "metadata": {},
   "source": [
    "### Continue here: Cohort main Queries"
   ]
  },
  {
   "cell_type": "code",
   "execution_count": 4,
   "metadata": {},
   "outputs": [],
   "source": [
    "q = open('../.././SQL/cohort_features/m1_encounter.sql', 'r')\n",
    "query_job =  client.query(q.read()).to_dataframe().to_csv('../../../Data/encounters.csv', index=False)"
   ]
  },
  {
   "cell_type": "code",
   "execution_count": 16,
   "metadata": {},
   "outputs": [],
   "source": [
    "# skip this if not adjusting admission time\n",
    "q = open('../.././SQL/cohort_features/m2_X_admit_inpatient.sql', 'r')\n",
    "query_job =  client.query(q.read()).to_dataframe().to_csv('../../../Data/admit_inpatients.csv', index=False)"
   ]
  },
  {
   "cell_type": "code",
   "execution_count": 6,
   "metadata": {},
   "outputs": [],
   "source": [
    "q = open('../.././SQL/cohort_features/m3_codestatus.sql', 'r')\n",
    "query_job =  client.query(q.read()).to_dataframe().to_csv('../../../Data/code_status.csv', index=False)"
   ]
  },
  {
   "cell_type": "code",
   "execution_count": 8,
   "metadata": {},
   "outputs": [],
   "source": [
    "q = open('../.././SQL/cohort_features/m4_demographic.sql', 'r')\n",
    "query_job =  client.query(q.read()).to_dataframe().to_csv('../../../Data/demographic.csv', index=False)"
   ]
  },
  {
   "cell_type": "markdown",
   "metadata": {},
   "source": [
    "#### use updated cohort with inpatient_id_coded"
   ]
  },
  {
   "cell_type": "code",
   "execution_count": 24,
   "metadata": {},
   "outputs": [],
   "source": [
    "# use updated cohort with inpatient_id_coded, need this to be pushed to BQ after running the demographic notebook\n",
    "q = open('../.././SQL/cohort_features/m5.1_flowsheet_HW.sql', 'r')\n",
    "query_job =  client.query(q.read()).to_dataframe().to_csv('../../../Data/flowsheet_HW.csv', index=False)"
   ]
  },
  {
   "cell_type": "code",
   "execution_count": 25,
   "metadata": {},
   "outputs": [],
   "source": [
    "# use updated cohort with inpatient_id_coded, need this to be pushed to BQ after running the demographic notebook\n",
    "q = open('../.././SQL/cohort_features/m5_flowsheet.sql', 'r')\n",
    "query_job =  client.query(q.read()).to_dataframe().to_csv('../../../Data/flowsheet.csv', index=False)"
   ]
  },
  {
   "cell_type": "code",
   "execution_count": 5,
   "metadata": {},
   "outputs": [],
   "source": [
    "# triage_cohort_2019_all_labs, cohort_final\n",
    "q = open('../.././SQL/m6_labs_additional_labnames.sql', 'r')\n",
    "query_job =  client.query(q.read()).to_dataframe().to_csv('../../../Data/labs_additional.csv', index=False)"
   ]
  },
  {
   "cell_type": "markdown",
   "metadata": {},
   "source": [
    "### Get some datasets from BigQuery"
   ]
  },
  {
   "cell_type": "code",
   "execution_count": 15,
   "metadata": {},
   "outputs": [],
   "source": [
    "q = \"SELECT * FROM triage.triage_cohort_2019_filtered_labs\"\n",
    "query_job = client.query(q).to_dataframe().to_csv('../../../Data/lab_result.csv', index=False)"
   ]
  },
  {
   "cell_type": "code",
   "execution_count": 16,
   "metadata": {},
   "outputs": [],
   "source": [
    "q = \"SELECT * FROM triage.triage_cohort_2019_all_labs\"\n",
    "query_job = client.query(q).to_dataframe().to_csv('../../../Data/all_labs.csv', index=False)"
   ]
  },
  {
   "cell_type": "code",
   "execution_count": 3,
   "metadata": {},
   "outputs": [],
   "source": [
    "q = \"SELECT * FROM triage.triage_cohort_2019_labs_basename_filtered\"\n",
    "query_job = client.query(q).to_dataframe().to_csv('../../../Data/labs_basename.csv', index=False)"
   ]
  },
  {
   "cell_type": "markdown",
   "metadata": {},
   "source": [
    "### SQL data for exploring"
   ]
  },
  {
   "cell_type": "code",
   "execution_count": 4,
   "metadata": {},
   "outputs": [],
   "source": [
    "# check pat_class and pat_class_c from adt table\n",
    "q = open('SQL/patclass.sql', 'r')\n",
    "query_job =  client.query(q.read()).to_dataframe().to_csv('./Data/SQL_data/patclass_counts.csv', index=False)"
   ]
  },
  {
   "cell_type": "code",
   "execution_count": 9,
   "metadata": {},
   "outputs": [],
   "source": [
    "q = open('SQL/admit_reasons.sql', 'r')\n",
    "query_job =  client.query(q.read()).to_dataframe().to_csv('./Data/SQL_data/cohort_adt.csv', index=False)"
   ]
  },
  {
   "cell_type": "code",
   "execution_count": 6,
   "metadata": {},
   "outputs": [],
   "source": [
    "q = open('SQL/order_proc.sql', 'r')\n",
    "query_job =  client.query(q.read()).to_dataframe().to_csv('./Data/SQL_data/order_proc.csv', index=False)"
   ]
  },
  {
   "cell_type": "code",
   "execution_count": 8,
   "metadata": {},
   "outputs": [],
   "source": [
    "q = open('SQL/lab_base_names.sql', 'r')\n",
    "query_job =  client.query(q.read()).to_dataframe().to_csv('./Data/SQL_data/lab_base_names.csv', index=False)"
   ]
  },
  {
   "cell_type": "code",
   "execution_count": 7,
   "metadata": {},
   "outputs": [],
   "source": [
    "q.close()"
   ]
  },
  {
   "cell_type": "markdown",
   "metadata": {},
   "source": [
    "### Query and save files (demographics, code status, and admission) for joining later"
   ]
  },
  {
   "cell_type": "code",
   "execution_count": 19,
   "metadata": {},
   "outputs": [],
   "source": [
    "# adapted Tiffany's function to save files\n",
    "def query_data(sqlfile, savefile):\n",
    "    # open and read the sql file\n",
    "    query = open(sqlfile, 'r')\n",
    "    resultsDF = pd.read_sql_query(query.read(), conn);\n",
    "    \n",
    "    # save the results to a file, close query and return df\n",
    "    resultsDF.to_csv(savefile, index=False)\n",
    "    query.close()\n",
    "    return resultsDF"
   ]
  },
  {
   "cell_type": "code",
   "execution_count": 23,
   "metadata": {},
   "outputs": [],
   "source": [
    "# demograhic table, join with cohort\n",
    "sqlfile = 'SQL/m4_demographic.sql'\n",
    "outfile = './Data/demographic.csv'\n",
    "df = query_data(sqlfile, outfile)"
   ]
  },
  {
   "cell_type": "code",
   "execution_count": 4,
   "metadata": {},
   "outputs": [],
   "source": [
    "# df.head()"
   ]
  },
  {
   "cell_type": "code",
   "execution_count": 64,
   "metadata": {},
   "outputs": [],
   "source": [
    "## code status on display_name, more specific and accurate.\n",
    "# sqlfile = 'SQL/codestatus.sql'\n",
    "# outfile = './Data/codestatus.csv'\n",
    "# df = query_data(sqlfile, outfile)"
   ]
  },
  {
   "cell_type": "code",
   "execution_count": 78,
   "metadata": {},
   "outputs": [],
   "source": [
    "## admission based on display_name, more specific and accurate.\n",
    "sqlfile = 'SQL/admit_inpatient.sql'\n",
    "outfile = './Data/admit_inpatient.csv'\n",
    "df = query_data(sqlfile, outfile)"
   ]
  },
  {
   "cell_type": "code",
   "execution_count": null,
   "metadata": {},
   "outputs": [],
   "source": [
    "# df.head()"
   ]
  },
  {
   "cell_type": "code",
   "execution_count": 22,
   "metadata": {},
   "outputs": [],
   "source": [
    "### BE CAREFUL with this: Code Status are from order_type, and Admission are stricter, from display_name. \n",
    "### See excel file for many types of admission such as admit to obs, ....\n",
    "### use this for code status and check admission\n",
    "\n",
    "# code status and admission as order_type from order_proc, join with cohort\n",
    "sqlfile = 'SQL/admit_code_ordertype.sql'\n",
    "outfile = './Data/ordertypes.csv'\n",
    "df = query_data(sqlfile, outfile)"
   ]
  },
  {
   "cell_type": "code",
   "execution_count": 26,
   "metadata": {},
   "outputs": [],
   "source": [
    "# df.head()"
   ]
  },
  {
   "cell_type": "code",
   "execution_count": 69,
   "metadata": {},
   "outputs": [
    {
     "name": "stdout",
     "output_type": "stream",
     "text": [
      "216802\n",
      "107092\n"
     ]
    }
   ],
   "source": [
    "df = pd.read_csv('./Data/ordertypes.csv')\n",
    "print(len(df))\n",
    "admit = df.loc[df.order_type == \"Admission\"]\n",
    "print(len(admit)) # 107092 vs. 100064 for the above admit_inpatient.csv"
   ]
  },
  {
   "cell_type": "markdown",
   "metadata": {},
   "source": [
    "### OLD datalake2018 - Process admit time for code status and admit time for admitted patients (inpatients)\n",
    "New shc_core, to be processed in R"
   ]
  },
  {
   "cell_type": "code",
   "execution_count": 70,
   "metadata": {},
   "outputs": [
    {
     "name": "stdout",
     "output_type": "stream",
     "text": [
      "216802\n"
     ]
    }
   ],
   "source": [
    "### ADMISSION and CODE STATUS from order_type\n",
    "# get time difference (in hours) = order_time (from order_proc) - admit time (from adt)\n",
    "# df = df[df['order_type'] == \"Code Status\"]\n",
    "# df = code or admit or combine\n",
    "\n",
    "df['admtimediff'] = pd.to_datetime(df['order_time_jittered_utc']) - pd.to_datetime(df['admit_time_jittered'])\n",
    "df['admtimediff'] = (df['admtimediff'].dt.total_seconds() / 3600.0).round(0)\n",
    "\n",
    "df.to_csv('./Data/admit_code.csv', index=False)\n",
    "print(len(df))\n",
    "# df.head()"
   ]
  },
  {
   "cell_type": "code",
   "execution_count": 79,
   "metadata": {},
   "outputs": [
    {
     "name": "stdout",
     "output_type": "stream",
     "text": [
      "100064\n"
     ]
    }
   ],
   "source": [
    "### ADMIT TO INPATIENT from display_name!!!\n",
    "# get time difference (in hours) = order_time (from order_proc) - admit time (from adt)\n",
    "\n",
    "df['admtimediff'] = pd.to_datetime(df['order_time_jittered_utc']) - pd.to_datetime(df['admit_time_jittered'])\n",
    "df['admtimediff'] = (df['admtimediff'].dt.total_seconds() / 3600.0).round(0)\n",
    "\n",
    "df.to_csv('./Data/admit_inpatient.csv', index=False)\n",
    "print(len(df))"
   ]
  },
  {
   "cell_type": "code",
   "execution_count": 95,
   "metadata": {},
   "outputs": [
    {
     "data": {
      "text/html": [
       "<div>\n",
       "<style scoped>\n",
       "    .dataframe tbody tr th:only-of-type {\n",
       "        vertical-align: middle;\n",
       "    }\n",
       "\n",
       "    .dataframe tbody tr th {\n",
       "        vertical-align: top;\n",
       "    }\n",
       "\n",
       "    .dataframe thead th {\n",
       "        text-align: right;\n",
       "    }\n",
       "</style>\n",
       "<table border=\"1\" class=\"dataframe\">\n",
       "  <thead>\n",
       "    <tr style=\"text-align: right;\">\n",
       "      <th></th>\n",
       "      <th>jc_uid</th>\n",
       "      <th>pat_enc_csn_id_coded</th>\n",
       "      <th>inpatient_data_id_coded</th>\n",
       "      <th>order_type</th>\n",
       "      <th>order_status</th>\n",
       "      <th>display_name</th>\n",
       "      <th>description</th>\n",
       "      <th>order_time_jittered_utc</th>\n",
       "      <th>admit_time_jittered</th>\n",
       "      <th>admtimediff</th>\n",
       "    </tr>\n",
       "  </thead>\n",
       "  <tbody>\n",
       "    <tr>\n",
       "      <th>0</th>\n",
       "      <td>JCcb658e</td>\n",
       "      <td>131231466934</td>\n",
       "      <td>24822070.0</td>\n",
       "      <td>Admission</td>\n",
       "      <td>NaN</td>\n",
       "      <td>Admit to Inpatient</td>\n",
       "      <td>ADMIT TO INPATIENT</td>\n",
       "      <td>2017-06-24 12:56:00+00:00</td>\n",
       "      <td>2017-06-24 12:56:00+00:00</td>\n",
       "      <td>0.0</td>\n",
       "    </tr>\n",
       "    <tr>\n",
       "      <th>1</th>\n",
       "      <td>JCcb658e</td>\n",
       "      <td>131231466934</td>\n",
       "      <td>24822070.0</td>\n",
       "      <td>Admission</td>\n",
       "      <td>Completed</td>\n",
       "      <td>Admit to Inpatient</td>\n",
       "      <td>ADMIT TO INPATIENT</td>\n",
       "      <td>2017-06-24 12:56:00+00:00</td>\n",
       "      <td>2017-06-24 12:56:00+00:00</td>\n",
       "      <td>0.0</td>\n",
       "    </tr>\n",
       "    <tr>\n",
       "      <th>2</th>\n",
       "      <td>JCcb65ba</td>\n",
       "      <td>131196491807</td>\n",
       "      <td>21190797.0</td>\n",
       "      <td>Admission</td>\n",
       "      <td>NaN</td>\n",
       "      <td>Admit to Inpatient</td>\n",
       "      <td>ADMIT TO INPATIENT</td>\n",
       "      <td>2016-08-12 02:31:00+00:00</td>\n",
       "      <td>2016-08-12 03:22:00+00:00</td>\n",
       "      <td>-1.0</td>\n",
       "    </tr>\n",
       "    <tr>\n",
       "      <th>3</th>\n",
       "      <td>JCcb65ba</td>\n",
       "      <td>131192986902</td>\n",
       "      <td>20730521.0</td>\n",
       "      <td>Admission</td>\n",
       "      <td>NaN</td>\n",
       "      <td>Admit to Inpatient:  Expected stay  &gt;2 midnights</td>\n",
       "      <td>ADMIT TO INPATIENT</td>\n",
       "      <td>2016-07-08 16:47:00+00:00</td>\n",
       "      <td>2016-07-08 16:47:00+00:00</td>\n",
       "      <td>0.0</td>\n",
       "    </tr>\n",
       "    <tr>\n",
       "      <th>4</th>\n",
       "      <td>JCcb65ba</td>\n",
       "      <td>131196491807</td>\n",
       "      <td>21190797.0</td>\n",
       "      <td>Admission</td>\n",
       "      <td>Completed</td>\n",
       "      <td>Admit to Inpatient</td>\n",
       "      <td>ADMIT TO INPATIENT</td>\n",
       "      <td>2016-08-12 02:31:00+00:00</td>\n",
       "      <td>2016-08-12 03:22:00+00:00</td>\n",
       "      <td>-1.0</td>\n",
       "    </tr>\n",
       "  </tbody>\n",
       "</table>\n",
       "</div>"
      ],
      "text/plain": [
       "     jc_uid  pat_enc_csn_id_coded  inpatient_data_id_coded order_type  \\\n",
       "0  JCcb658e          131231466934               24822070.0  Admission   \n",
       "1  JCcb658e          131231466934               24822070.0  Admission   \n",
       "2  JCcb65ba          131196491807               21190797.0  Admission   \n",
       "3  JCcb65ba          131192986902               20730521.0  Admission   \n",
       "4  JCcb65ba          131196491807               21190797.0  Admission   \n",
       "\n",
       "  order_status                                      display_name  \\\n",
       "0          NaN                                Admit to Inpatient   \n",
       "1    Completed                                Admit to Inpatient   \n",
       "2          NaN                                Admit to Inpatient   \n",
       "3          NaN  Admit to Inpatient:  Expected stay  >2 midnights   \n",
       "4    Completed                                Admit to Inpatient   \n",
       "\n",
       "          description    order_time_jittered_utc        admit_time_jittered  \\\n",
       "0  ADMIT TO INPATIENT  2017-06-24 12:56:00+00:00  2017-06-24 12:56:00+00:00   \n",
       "1  ADMIT TO INPATIENT  2017-06-24 12:56:00+00:00  2017-06-24 12:56:00+00:00   \n",
       "2  ADMIT TO INPATIENT  2016-08-12 02:31:00+00:00  2016-08-12 03:22:00+00:00   \n",
       "3  ADMIT TO INPATIENT  2016-07-08 16:47:00+00:00  2016-07-08 16:47:00+00:00   \n",
       "4  ADMIT TO INPATIENT  2016-08-12 02:31:00+00:00  2016-08-12 03:22:00+00:00   \n",
       "\n",
       "   admtimediff  \n",
       "0          0.0  \n",
       "1          0.0  \n",
       "2         -1.0  \n",
       "3          0.0  \n",
       "4         -1.0  "
      ]
     },
     "execution_count": 95,
     "metadata": {},
     "output_type": "execute_result"
    }
   ],
   "source": [
    "df.head()"
   ]
  },
  {
   "cell_type": "markdown",
   "metadata": {},
   "source": [
    "### Call the files for demographics, code status, and admission"
   ]
  },
  {
   "cell_type": "code",
   "execution_count": 85,
   "metadata": {},
   "outputs": [],
   "source": [
    "# demographics table\n",
    "demo = pd.read_csv('./Data/demographics.csv')\n",
    "# demo.head()"
   ]
  },
  {
   "cell_type": "code",
   "execution_count": 84,
   "metadata": {},
   "outputs": [],
   "source": [
    "admit = pd.read_csv(\"./Data/admit_inpatient.csv\")\n",
    "# admit.head()"
   ]
  },
  {
   "cell_type": "code",
   "execution_count": 83,
   "metadata": {},
   "outputs": [
    {
     "data": {
      "text/plain": [
       "Code Status    109710\n",
       "Admission      107092\n",
       "Name: order_type, dtype: int64"
      ]
     },
     "execution_count": 83,
     "metadata": {},
     "output_type": "execute_result"
    }
   ],
   "source": [
    "# admit time and code status for inpatients\n",
    "admit_code = pd.read_csv('./Data/admit_code.csv')\n",
    "admit_code[\"order_type\"].value_counts() # 14.23% of 1\n",
    "# admit_code.head()"
   ]
  },
  {
   "cell_type": "markdown",
   "metadata": {},
   "source": [
    "### Check timediff"
   ]
  },
  {
   "cell_type": "code",
   "execution_count": 92,
   "metadata": {},
   "outputs": [
    {
     "name": "stdout",
     "output_type": "stream",
     "text": [
      "[5568.0, 5568.0, 5167.0, 5167.0, 5149.0, 5149.0, 4120.0, 4120.0, 3602.0, 3602.0]\n",
      "[-79.0, -83.0, -83.0, -83.0, -83.0, -113.0, -113.0, -181.0]\n"
     ]
    },
    {
     "data": {
      "image/png": "[encoded data removed]",
      "text/plain": [
       "<Figure size 432x288 with 1 Axes>"
      ]
     },
     "metadata": {
      "needs_background": "light"
     },
     "output_type": "display_data"
    }
   ],
   "source": [
    "# Code Status\n",
    "df = admit_code\n",
    "\n",
    "# x = sorted(df['admtimediff'], reverse = True)\n",
    "x = sorted(df.loc[df.order_type == \"Code Status\", 'admtimediff'], reverse = True)\n",
    "print(x[:10])\n",
    "print(x[-9:-1])\n",
    "num_bins = 20\n",
    "plt.hist(x, num_bins, range=(-10, 10))\n",
    "plt.show()"
   ]
  },
  {
   "cell_type": "code",
   "execution_count": 93,
   "metadata": {},
   "outputs": [
    {
     "name": "stdout",
     "output_type": "stream",
     "text": [
      "[3782.0, 3782.0, 3663.0, 3663.0, 3590.0, 3590.0, 2177.0, 2177.0, 1909.0, 1909.0]\n",
      "[-94.0, -121.0, -121.0, -125.0, -125.0, -172.0, -172.0, -181.0]\n"
     ]
    },
    {
     "data": {
      "image/png": "[encoded data removed]",
      "text/plain": [
       "<Figure size 432x288 with 1 Axes>"
      ]
     },
     "metadata": {
      "needs_background": "light"
     },
     "output_type": "display_data"
    }
   ],
   "source": [
    "# Admission\n",
    "df = admit_code\n",
    "\n",
    "# x = sorted(df['admtimediff'], reverse = True)\n",
    "x = sorted(df.loc[df.order_type == \"Admission\", 'admtimediff'], reverse = True)\n",
    "print(x[:10])\n",
    "print(x[-9:-1])\n",
    "num_bins = 10\n",
    "plt.hist(x, num_bins, range=(-5, 5))\n",
    "plt.show()"
   ]
  },
  {
   "cell_type": "code",
   "execution_count": 94,
   "metadata": {},
   "outputs": [
    {
     "name": "stdout",
     "output_type": "stream",
     "text": [
      "[3782.0, 3782.0, 3663.0, 3663.0, 3590.0, 3590.0, 2177.0, 2177.0, 1909.0, 1909.0]\n",
      "[-73.0, -83.0, -83.0, -84.0, -84.0, -94.0, -94.0, -181.0]\n"
     ]
    },
    {
     "data": {
      "image/png": "[encoded data removed]",
      "text/plain": [
       "<Figure size 432x288 with 1 Axes>"
      ]
     },
     "metadata": {
      "needs_background": "light"
     },
     "output_type": "display_data"
    }
   ],
   "source": [
    "# Admission from display_name only for (admit to inpatient)\n",
    "df = admit\n",
    "\n",
    "x = sorted(df['admtimediff'], reverse = True)\n",
    "print(x[:10])\n",
    "print(x[-9:-1])\n",
    "num_bins = 20\n",
    "plt.hist(x, num_bins, range=(-10, 10))\n",
    "plt.show()"
   ]
  },
  {
   "cell_type": "markdown",
   "metadata": {
    "ExecuteTime": {
     "end_time": "2020-05-17T21:23:42.216975Z",
     "start_time": "2020-05-17T21:23:42.212987Z"
    }
   },
   "source": [
    "### Save adjusted cohort (done in R) to Big Query \n",
    "Check R notebook: \n",
    "\n",
    "Processing the cohort to get the adjusted admit time, excluded non-fullcodes for adult patients >= 18y.o"
   ]
  },
  {
   "cell_type": "code",
   "execution_count": 60,
   "metadata": {
    "ExecuteTime": {
     "end_time": "2020-05-24T00:07:59.081642Z",
     "start_time": "2020-05-24T00:07:59.021801Z"
    }
   },
   "outputs": [
    {
     "name": "stdout",
     "output_type": "stream",
     "text": [
      "33314\n"
     ]
    },
    {
     "data": {
      "text/html": [
       "<div>\n",
       "<style scoped>\n",
       "    .dataframe tbody tr th:only-of-type {\n",
       "        vertical-align: middle;\n",
       "    }\n",
       "\n",
       "    .dataframe tbody tr th {\n",
       "        vertical-align: top;\n",
       "    }\n",
       "\n",
       "    .dataframe thead th {\n",
       "        text-align: right;\n",
       "    }\n",
       "</style>\n",
       "<table border=\"1\" class=\"dataframe\">\n",
       "  <thead>\n",
       "    <tr style=\"text-align: right;\">\n",
       "      <th></th>\n",
       "      <th>jc_uid</th>\n",
       "      <th>pat_enc_csn_id_coded</th>\n",
       "      <th>inpatient_data_id_coded</th>\n",
       "      <th>admit_time</th>\n",
       "      <th>label</th>\n",
       "    </tr>\n",
       "  </thead>\n",
       "  <tbody>\n",
       "    <tr>\n",
       "      <td>0</td>\n",
       "      <td>JCcb9495</td>\n",
       "      <td>131066982419</td>\n",
       "      <td>14157061.0</td>\n",
       "      <td>2015-02-13 07:09:00</td>\n",
       "      <td>0</td>\n",
       "    </tr>\n",
       "    <tr>\n",
       "      <td>1</td>\n",
       "      <td>JCcb9599</td>\n",
       "      <td>131235926251</td>\n",
       "      <td>25238287.0</td>\n",
       "      <td>2017-08-03 03:50:00</td>\n",
       "      <td>0</td>\n",
       "    </tr>\n",
       "    <tr>\n",
       "      <td>2</td>\n",
       "      <td>JCcba5ad</td>\n",
       "      <td>131177568449</td>\n",
       "      <td>18459677.0</td>\n",
       "      <td>2016-02-20 19:27:00</td>\n",
       "      <td>0</td>\n",
       "    </tr>\n",
       "    <tr>\n",
       "      <td>3</td>\n",
       "      <td>JCcbfbf7</td>\n",
       "      <td>131193455501</td>\n",
       "      <td>20798263.0</td>\n",
       "      <td>2016-08-21 02:08:00</td>\n",
       "      <td>0</td>\n",
       "    </tr>\n",
       "    <tr>\n",
       "      <td>4</td>\n",
       "      <td>JCcc15c6</td>\n",
       "      <td>131254215457</td>\n",
       "      <td>31126955.0</td>\n",
       "      <td>2018-07-09 03:24:00</td>\n",
       "      <td>0</td>\n",
       "    </tr>\n",
       "  </tbody>\n",
       "</table>\n",
       "</div>"
      ],
      "text/plain": [
       "     jc_uid  pat_enc_csn_id_coded  inpatient_data_id_coded  \\\n",
       "0  JCcb9495          131066982419               14157061.0   \n",
       "1  JCcb9599          131235926251               25238287.0   \n",
       "2  JCcba5ad          131177568449               18459677.0   \n",
       "3  JCcbfbf7          131193455501               20798263.0   \n",
       "4  JCcc15c6          131254215457               31126955.0   \n",
       "\n",
       "            admit_time  label  \n",
       "0  2015-02-13 07:09:00      0  \n",
       "1  2017-08-03 03:50:00      0  \n",
       "2  2016-02-20 19:27:00      0  \n",
       "3  2016-08-21 02:08:00      0  \n",
       "4  2018-07-09 03:24:00      0  "
      ]
     },
     "execution_count": 60,
     "metadata": {},
     "output_type": "execute_result"
    }
   ],
   "source": [
    "cohort_adj = pd.read_csv('./Data/cohort_adjusted.csv')\n",
    "print(len(cohort_adj))\n",
    "cohort_adj.head(5)"
   ]
  },
  {
   "cell_type": "code",
   "execution_count": 61,
   "metadata": {
    "ExecuteTime": {
     "end_time": "2020-05-24T00:08:16.126871Z",
     "start_time": "2020-05-24T00:08:04.367245Z"
    }
   },
   "outputs": [
    {
     "name": "stderr",
     "output_type": "stream",
     "text": [
      "1it [00:10, 10.49s/it]\n"
     ]
    }
   ],
   "source": [
    "# %load_ext google.cloud.bigquery\n",
    "# cohort file\n",
    "table_schema = [{'name' : 'jc_uid', 'type' : 'STRING'},\n",
    "                {'name' : 'pat_enc_csn_id_coded', 'type' : 'INTEGER'},\n",
    "                {'name' : 'inpatient_data_id_coded', 'type': 'INTEGER'},\n",
    "                {'name' : 'admit_time', 'type' : 'TIMESTAMP'},\n",
    "                {'name' : 'label', 'type' : 'INTEGER'}]\n",
    "                       \n",
    "DATASET_NAME = 'triage'\n",
    "TABLE_NAME = 'triage_cohort_adjusted'\n",
    "cohort_adj.to_gbq(destination_table='triage.%s' % TABLE_NAME,\n",
    "                 project_id='som-nero-phi-jonc101',\n",
    "                 table_schema=table_schema,\n",
    "                 if_exists='replace')"
   ]
  },
  {
   "cell_type": "code",
   "execution_count": 62,
   "metadata": {
    "ExecuteTime": {
     "end_time": "2020-05-24T00:08:31.661693Z",
     "start_time": "2020-05-24T00:08:31.555972Z"
    }
   },
   "outputs": [
    {
     "name": "stdout",
     "output_type": "stream",
     "text": [
      "33315\n"
     ]
    },
    {
     "data": {
      "text/html": [
       "<div>\n",
       "<style scoped>\n",
       "    .dataframe tbody tr th:only-of-type {\n",
       "        vertical-align: middle;\n",
       "    }\n",
       "\n",
       "    .dataframe tbody tr th {\n",
       "        vertical-align: top;\n",
       "    }\n",
       "\n",
       "    .dataframe thead th {\n",
       "        text-align: right;\n",
       "    }\n",
       "</style>\n",
       "<table border=\"1\" class=\"dataframe\">\n",
       "  <thead>\n",
       "    <tr style=\"text-align: right;\">\n",
       "      <th></th>\n",
       "      <th>jc_uid</th>\n",
       "      <th>pat_enc_csn_id_coded</th>\n",
       "      <th>inpatient_data_id_coded</th>\n",
       "      <th>label</th>\n",
       "      <th>admit_time</th>\n",
       "      <th>gender</th>\n",
       "      <th>race</th>\n",
       "      <th>language</th>\n",
       "      <th>recent_height</th>\n",
       "      <th>recent_weight_kg</th>\n",
       "      <th>insurance</th>\n",
       "      <th>recent_date</th>\n",
       "      <th>age</th>\n",
       "    </tr>\n",
       "  </thead>\n",
       "  <tbody>\n",
       "    <tr>\n",
       "      <td>0</td>\n",
       "      <td>JCcb9495</td>\n",
       "      <td>131066982419</td>\n",
       "      <td>14157061.0</td>\n",
       "      <td>0</td>\n",
       "      <td>2015-02-13 07:09:00</td>\n",
       "      <td>Male</td>\n",
       "      <td>White</td>\n",
       "      <td>English</td>\n",
       "      <td>185</td>\n",
       "      <td>121</td>\n",
       "      <td>NaN</td>\n",
       "      <td>2018-12-31</td>\n",
       "      <td>27</td>\n",
       "    </tr>\n",
       "    <tr>\n",
       "      <td>1</td>\n",
       "      <td>JCcb9599</td>\n",
       "      <td>131235926251</td>\n",
       "      <td>25238287.0</td>\n",
       "      <td>0</td>\n",
       "      <td>2017-08-03 03:50:00</td>\n",
       "      <td>Female</td>\n",
       "      <td>Black</td>\n",
       "      <td>English</td>\n",
       "      <td>152</td>\n",
       "      <td>49</td>\n",
       "      <td>MEDICARE</td>\n",
       "      <td>2018-12-31</td>\n",
       "      <td>69</td>\n",
       "    </tr>\n",
       "    <tr>\n",
       "      <td>2</td>\n",
       "      <td>JCcba5ad</td>\n",
       "      <td>131177568449</td>\n",
       "      <td>18459677.0</td>\n",
       "      <td>0</td>\n",
       "      <td>2016-02-20 19:27:00</td>\n",
       "      <td>Female</td>\n",
       "      <td>Asian</td>\n",
       "      <td>Mandarin</td>\n",
       "      <td>149</td>\n",
       "      <td>47</td>\n",
       "      <td>MEDICARE</td>\n",
       "      <td>2016-08-15</td>\n",
       "      <td>87</td>\n",
       "    </tr>\n",
       "    <tr>\n",
       "      <td>3</td>\n",
       "      <td>JCcbfbf7</td>\n",
       "      <td>131193455501</td>\n",
       "      <td>20798263.0</td>\n",
       "      <td>0</td>\n",
       "      <td>2016-08-21 02:08:00</td>\n",
       "      <td>Female</td>\n",
       "      <td>Native American</td>\n",
       "      <td>English</td>\n",
       "      <td>162</td>\n",
       "      <td>81</td>\n",
       "      <td>MEDICARE</td>\n",
       "      <td>2018-12-31</td>\n",
       "      <td>66</td>\n",
       "    </tr>\n",
       "    <tr>\n",
       "      <td>4</td>\n",
       "      <td>JCcc15c6</td>\n",
       "      <td>131254215457</td>\n",
       "      <td>31126955.0</td>\n",
       "      <td>0</td>\n",
       "      <td>2018-07-09 03:24:00</td>\n",
       "      <td>Male</td>\n",
       "      <td>Asian</td>\n",
       "      <td>English</td>\n",
       "      <td>167</td>\n",
       "      <td>58</td>\n",
       "      <td>UNITED HEALTHCARE</td>\n",
       "      <td>2018-12-07</td>\n",
       "      <td>66</td>\n",
       "    </tr>\n",
       "  </tbody>\n",
       "</table>\n",
       "</div>"
      ],
      "text/plain": [
       "     jc_uid  pat_enc_csn_id_coded  inpatient_data_id_coded  label  \\\n",
       "0  JCcb9495          131066982419               14157061.0      0   \n",
       "1  JCcb9599          131235926251               25238287.0      0   \n",
       "2  JCcba5ad          131177568449               18459677.0      0   \n",
       "3  JCcbfbf7          131193455501               20798263.0      0   \n",
       "4  JCcc15c6          131254215457               31126955.0      0   \n",
       "\n",
       "            admit_time  gender             race  language  recent_height  \\\n",
       "0  2015-02-13 07:09:00    Male            White   English            185   \n",
       "1  2017-08-03 03:50:00  Female            Black   English            152   \n",
       "2  2016-02-20 19:27:00  Female            Asian  Mandarin            149   \n",
       "3  2016-08-21 02:08:00  Female  Native American   English            162   \n",
       "4  2018-07-09 03:24:00    Male            Asian   English            167   \n",
       "\n",
       "   recent_weight_kg          insurance recent_date  age  \n",
       "0               121                NaN  2018-12-31   27  \n",
       "1                49           MEDICARE  2018-12-31   69  \n",
       "2                47           MEDICARE  2016-08-15   87  \n",
       "3                81           MEDICARE  2018-12-31   66  \n",
       "4                58  UNITED HEALTHCARE  2018-12-07   66  "
      ]
     },
     "execution_count": 62,
     "metadata": {},
     "output_type": "execute_result"
    }
   ],
   "source": [
    "cohort_demo = pd.read_csv('./Data/cohort_demo.csv')\n",
    "print(len(cohort_demo))\n",
    "cohort_demo.head(5)"
   ]
  },
  {
   "cell_type": "code",
   "execution_count": 12,
   "metadata": {
    "ExecuteTime": {
     "end_time": "2020-05-18T21:40:17.895171Z",
     "start_time": "2020-05-18T21:40:04.332312Z"
    }
   },
   "outputs": [
    {
     "name": "stderr",
     "output_type": "stream",
     "text": [
      "1it [00:12, 12.14s/it]\n"
     ]
    }
   ],
   "source": [
    "# demographics file\n",
    "table_schema = [{'name' : 'jc_uid', 'type' : 'STRING'},\n",
    "                {'name' : 'pat_enc_csn_id_coded', 'type' : 'INTEGER'},\n",
    "                {'name' : 'inpatient_data_id_coded', 'type': 'INTEGER'},\n",
    "                {'name' : 'admit_time', 'type' : 'TIMESTAMP'},\n",
    "                {'name' : 'label', 'type' : 'INTEGER'},\n",
    "                {'name' : 'gender', 'type' : 'STRING'},\n",
    "                {'name' : 'race', 'type' : 'STRING'},\n",
    "                {'name' : 'language', 'type' : 'STRING'},\n",
    "                {'name' : 'insurance', 'type' : 'STRING'},\n",
    "                {'name' : 'recent_height', 'type' : 'INTEGER'},\n",
    "                {'name' : 'recent_weight', 'type' : 'INTEGER'}, \n",
    "                {'name' : 'age', 'type' : 'INTEGER'},\n",
    "                {'name' : 'recent_date', 'type' : 'DATE'}]\n",
    "                       \n",
    "DATASET_NAME = 'triage'\n",
    "TABLE_NAME = 'triage_cohort_adjusted_demographics'\n",
    "cohort_demo.to_gbq(destination_table='triage.%s' % TABLE_NAME,\n",
    "                 project_id='som-nero-phi-jonc101',\n",
    "                 table_schema=table_schema,\n",
    "                 if_exists='replace')"
   ]
  },
  {
   "cell_type": "markdown",
   "metadata": {},
   "source": [
    "### Get tables from BigQuery"
   ]
  },
  {
   "cell_type": "code",
   "execution_count": 6,
   "metadata": {},
   "outputs": [],
   "source": [
    "q = \"SELECT * FROM triage.triage_cohort_adjusted_flowsheet\"\n",
    "query_job = client.query(q).to_dataframe().to_csv('./Data/flowsheet.csv', index=False)"
   ]
  },
  {
   "cell_type": "code",
   "execution_count": 7,
   "metadata": {},
   "outputs": [],
   "source": [
    "q = \"SELECT * FROM triage.triage_cohort_adjusted_labs\"\n",
    "query_job = client.query(q).to_dataframe().to_csv('./Data/labs.csv', index=False)"
   ]
  },
  {
   "cell_type": "code",
   "execution_count": null,
   "metadata": {},
   "outputs": [],
   "source": [
    "q = \"SELECT * FROM triage.\""
   ]
  },
  {
   "cell_type": "markdown",
   "metadata": {},
   "source": [
    "### PUSH tables to BigQuery"
   ]
  },
  {
   "cell_type": "code",
   "execution_count": 17,
   "metadata": {},
   "outputs": [
    {
     "name": "stdout",
     "output_type": "stream",
     "text": [
      "43493\n",
      "['anon_id', 'pat_enc_csn_id_coded', 'inpatient_data_id_coded', 'label_max24', 'admit_time']\n"
     ]
    },
    {
     "data": {
      "text/html": [
       "<div>\n",
       "<style scoped>\n",
       "    .dataframe tbody tr th:only-of-type {\n",
       "        vertical-align: middle;\n",
       "    }\n",
       "\n",
       "    .dataframe tbody tr th {\n",
       "        vertical-align: top;\n",
       "    }\n",
       "\n",
       "    .dataframe thead th {\n",
       "        text-align: right;\n",
       "    }\n",
       "</style>\n",
       "<table border=\"1\" class=\"dataframe\">\n",
       "  <thead>\n",
       "    <tr style=\"text-align: right;\">\n",
       "      <th></th>\n",
       "      <th>anon_id</th>\n",
       "      <th>pat_enc_csn_id_coded</th>\n",
       "      <th>inpatient_data_id_coded</th>\n",
       "      <th>label_max24</th>\n",
       "      <th>admit_time</th>\n",
       "    </tr>\n",
       "  </thead>\n",
       "  <tbody>\n",
       "    <tr>\n",
       "      <th>0</th>\n",
       "      <td>JCcb658e</td>\n",
       "      <td>131231466934</td>\n",
       "      <td>24822070</td>\n",
       "      <td>0</td>\n",
       "      <td>2017-06-24 12:56:00</td>\n",
       "    </tr>\n",
       "    <tr>\n",
       "      <th>1</th>\n",
       "      <td>JCcb65bd</td>\n",
       "      <td>131072545278</td>\n",
       "      <td>14327919</td>\n",
       "      <td>0</td>\n",
       "      <td>2015-02-18 20:54:00</td>\n",
       "    </tr>\n",
       "    <tr>\n",
       "      <th>2</th>\n",
       "      <td>JCcb65e1</td>\n",
       "      <td>131239638605</td>\n",
       "      <td>26535361</td>\n",
       "      <td>0</td>\n",
       "      <td>2017-11-08 09:51:00</td>\n",
       "    </tr>\n",
       "    <tr>\n",
       "      <th>3</th>\n",
       "      <td>JCcb65e1</td>\n",
       "      <td>131265028886</td>\n",
       "      <td>35078537</td>\n",
       "      <td>0</td>\n",
       "      <td>2019-04-17 16:25:00</td>\n",
       "    </tr>\n",
       "    <tr>\n",
       "      <th>4</th>\n",
       "      <td>JCcb6601</td>\n",
       "      <td>131125490360</td>\n",
       "      <td>16936826</td>\n",
       "      <td>0</td>\n",
       "      <td>2015-09-15 04:10:00</td>\n",
       "    </tr>\n",
       "  </tbody>\n",
       "</table>\n",
       "</div>"
      ],
      "text/plain": [
       "    anon_id  pat_enc_csn_id_coded  inpatient_data_id_coded  label_max24  \\\n",
       "0  JCcb658e          131231466934                 24822070            0   \n",
       "1  JCcb65bd          131072545278                 14327919            0   \n",
       "2  JCcb65e1          131239638605                 26535361            0   \n",
       "3  JCcb65e1          131265028886                 35078537            0   \n",
       "4  JCcb6601          131125490360                 16936826            0   \n",
       "\n",
       "            admit_time  \n",
       "0  2017-06-24 12:56:00  \n",
       "1  2015-02-18 20:54:00  \n",
       "2  2017-11-08 09:51:00  \n",
       "3  2019-04-17 16:25:00  \n",
       "4  2015-09-15 04:10:00  "
      ]
     },
     "execution_count": 17,
     "metadata": {},
     "output_type": "execute_result"
    }
   ],
   "source": [
    "# Update cohort\n",
    "cohort = pd.read_csv('../../../Data/cohort.csv')\n",
    "print(len(cohort))\n",
    "print(list(cohort.columns))\n",
    "cohort.head(5)"
   ]
  },
  {
   "cell_type": "code",
   "execution_count": 23,
   "metadata": {
    "ExecuteTime": {
     "end_time": "2020-05-21T07:27:09.270370Z",
     "start_time": "2020-05-21T07:27:02.475696Z"
    }
   },
   "outputs": [
    {
     "name": "stderr",
     "output_type": "stream",
     "text": [
      "/opt/conda/lib/python3.7/site-packages/google/auth/_default.py:70: UserWarning: Your application has authenticated using end user credentials from Google Cloud SDK without a quota project. You might receive a \"quota exceeded\" or \"API not enabled\" error. We recommend you rerun `gcloud auth application-default login` and make sure a quota project is added. Or you can use service accounts instead. For more information about service accounts, see https://cloud.google.com/docs/authentication/\n",
      "  warnings.warn(_CLOUD_SDK_CREDENTIALS_WARNING)\n",
      "1it [00:03,  3.75s/it]\n"
     ]
    }
   ],
   "source": [
    "table_schema = [{'name' : 'anon_id', 'type' : 'STRING'},\n",
    "                {'name' : 'pat_enc_csn_id_coded', 'type' : 'INTEGER'},\n",
    "                {'name' : 'inpatient_data_id_coded', 'type': 'INTEGER'},\n",
    "                {'name' : 'admit_time', 'type' : 'TIMESTAMP'},\n",
    "                {'name' : 'label_max24', 'type' : 'INTEGER'}]\n",
    "                       \n",
    "DATASET_NAME = 'triage'\n",
    "TABLE_NAME = 'cohort'\n",
    "cohort.to_gbq(destination_table='triage.%s' % TABLE_NAME,\n",
    "              project_id='som-nero-phi-jonc101',\n",
    "              table_schema=table_schema,\n",
    "              if_exists='replace')"
   ]
  },
  {
   "cell_type": "code",
   "execution_count": 16,
   "metadata": {
    "ExecuteTime": {
     "end_time": "2020-05-23T04:50:39.680761Z",
     "start_time": "2020-05-23T04:50:39.603002Z"
    }
   },
   "outputs": [
    {
     "name": "stdout",
     "output_type": "stream",
     "text": [
      "43493\n",
      "['anon_id', 'pat_enc_csn_id_coded', 'inpatient_data_id_coded', 'label_max24', 'admit_time']\n"
     ]
    },
    {
     "data": {
      "text/html": [
       "<div>\n",
       "<style scoped>\n",
       "    .dataframe tbody tr th:only-of-type {\n",
       "        vertical-align: middle;\n",
       "    }\n",
       "\n",
       "    .dataframe tbody tr th {\n",
       "        vertical-align: top;\n",
       "    }\n",
       "\n",
       "    .dataframe thead th {\n",
       "        text-align: right;\n",
       "    }\n",
       "</style>\n",
       "<table border=\"1\" class=\"dataframe\">\n",
       "  <thead>\n",
       "    <tr style=\"text-align: right;\">\n",
       "      <th></th>\n",
       "      <th>anon_id</th>\n",
       "      <th>pat_enc_csn_id_coded</th>\n",
       "      <th>inpatient_data_id_coded</th>\n",
       "      <th>label_max24</th>\n",
       "      <th>admit_time</th>\n",
       "    </tr>\n",
       "  </thead>\n",
       "  <tbody>\n",
       "    <tr>\n",
       "      <th>0</th>\n",
       "      <td>JCcb658e</td>\n",
       "      <td>131231466934</td>\n",
       "      <td>24822070</td>\n",
       "      <td>0</td>\n",
       "      <td>2017-06-24 12:56:00</td>\n",
       "    </tr>\n",
       "    <tr>\n",
       "      <th>1</th>\n",
       "      <td>JCcb65bd</td>\n",
       "      <td>131072545278</td>\n",
       "      <td>14327919</td>\n",
       "      <td>0</td>\n",
       "      <td>2015-02-18 20:54:00</td>\n",
       "    </tr>\n",
       "    <tr>\n",
       "      <th>2</th>\n",
       "      <td>JCcb65e1</td>\n",
       "      <td>131239638605</td>\n",
       "      <td>26535361</td>\n",
       "      <td>0</td>\n",
       "      <td>2017-11-08 09:51:00</td>\n",
       "    </tr>\n",
       "    <tr>\n",
       "      <th>3</th>\n",
       "      <td>JCcb65e1</td>\n",
       "      <td>131265028886</td>\n",
       "      <td>35078537</td>\n",
       "      <td>0</td>\n",
       "      <td>2019-04-17 16:25:00</td>\n",
       "    </tr>\n",
       "    <tr>\n",
       "      <th>4</th>\n",
       "      <td>JCcb6601</td>\n",
       "      <td>131125490360</td>\n",
       "      <td>16936826</td>\n",
       "      <td>0</td>\n",
       "      <td>2015-09-15 04:10:00</td>\n",
       "    </tr>\n",
       "  </tbody>\n",
       "</table>\n",
       "</div>"
      ],
      "text/plain": [
       "    anon_id  pat_enc_csn_id_coded  inpatient_data_id_coded  label_max24  \\\n",
       "0  JCcb658e          131231466934                 24822070            0   \n",
       "1  JCcb65bd          131072545278                 14327919            0   \n",
       "2  JCcb65e1          131239638605                 26535361            0   \n",
       "3  JCcb65e1          131265028886                 35078537            0   \n",
       "4  JCcb6601          131125490360                 16936826            0   \n",
       "\n",
       "            admit_time  \n",
       "0  2017-06-24 12:56:00  \n",
       "1  2015-02-18 20:54:00  \n",
       "2  2017-11-08 09:51:00  \n",
       "3  2019-04-17 16:25:00  \n",
       "4  2015-09-15 04:10:00  "
      ]
     },
     "execution_count": 16,
     "metadata": {},
     "output_type": "execute_result"
    }
   ],
   "source": [
    "cohort_demo_clean = pd.read_csv('./Data/cohort_demo_clean.csv')\n",
    "print(len(cohort_demo_clean))\n",
    "cohort_demo_clean.head(5)"
   ]
  },
  {
   "cell_type": "code",
   "execution_count": 15,
   "metadata": {
    "ExecuteTime": {
     "end_time": "2020-05-21T07:27:09.270370Z",
     "start_time": "2020-05-21T07:27:02.475696Z"
    }
   },
   "outputs": [
    {
     "name": "stderr",
     "output_type": "stream",
     "text": [
      "1it [00:05,  5.82s/it]\n"
     ]
    }
   ],
   "source": [
    "# push flowsheet up BQ:\n",
    "# clean demographics file, with new variables medis and English\n",
    "table_schema = [{'name' : 'jc_uid', 'type' : 'STRING'},\n",
    "                {'name' : 'pat_enc_csn_id_coded', 'type' : 'INTEGER'},\n",
    "                {'name' : 'inpatient_data_id_coded', 'type': 'INTEGER'},\n",
    "                {'name' : 'admit_time', 'type' : 'TIMESTAMP'},\n",
    "                {'name' : 'label', 'type' : 'INTEGER'},\n",
    "                {'name' : 'gender', 'type' : 'STRING'},\n",
    "                {'name' : 'race', 'type' : 'STRING'},\n",
    "                {'name' : 'age', 'type' : 'INTEGER'},\n",
    "                {'name' : 'medis', 'type' : 'INTEGER'},\n",
    "                {'name' : 'Engl', 'type' : 'INTEGER'},\n",
    "                {'name' : 'Height', 'type' : 'INTEGER'},\n",
    "                {'name' : 'Weight', 'type' : 'INTEGER'}]\n",
    "                       \n",
    "DATASET_NAME = 'triage'\n",
    "TABLE_NAME = 'triage_cohort_adjusted_demographics_clean'\n",
    "cohort_demo_clean.to_gbq(destination_table='triage.%s' % TABLE_NAME,\n",
    "                 project_id='som-nero-phi-jonc101',\n",
    "                 table_schema=table_schema,\n",
    "                 if_exists='replace')"
   ]
  },
  {
   "cell_type": "code",
   "execution_count": 39,
   "metadata": {
    "ExecuteTime": {
     "end_time": "2020-05-23T04:50:56.241925Z",
     "start_time": "2020-05-23T04:50:56.156121Z"
    }
   },
   "outputs": [
    {
     "name": "stdout",
     "output_type": "stream",
     "text": [
      "33314\n"
     ]
    },
    {
     "data": {
      "text/html": [
       "<div>\n",
       "<style scoped>\n",
       "    .dataframe tbody tr th:only-of-type {\n",
       "        vertical-align: middle;\n",
       "    }\n",
       "\n",
       "    .dataframe tbody tr th {\n",
       "        vertical-align: top;\n",
       "    }\n",
       "\n",
       "    .dataframe thead th {\n",
       "        text-align: right;\n",
       "    }\n",
       "</style>\n",
       "<table border=\"1\" class=\"dataframe\">\n",
       "  <thead>\n",
       "    <tr style=\"text-align: right;\">\n",
       "      <th></th>\n",
       "      <th>jc_uid</th>\n",
       "      <th>pat_enc_csn_id_coded</th>\n",
       "      <th>inpatient_data_id_coded</th>\n",
       "      <th>label</th>\n",
       "      <th>admit_time</th>\n",
       "      <th>Engl</th>\n",
       "      <th>gender1</th>\n",
       "      <th>race1</th>\n",
       "      <th>age1</th>\n",
       "      <th>medis1</th>\n",
       "      <th>Height1</th>\n",
       "      <th>Weight1</th>\n",
       "      <th>delta_H</th>\n",
       "      <th>delta_W</th>\n",
       "    </tr>\n",
       "  </thead>\n",
       "  <tbody>\n",
       "    <tr>\n",
       "      <td>0</td>\n",
       "      <td>JCcb9495</td>\n",
       "      <td>131066982419</td>\n",
       "      <td>14157061.0</td>\n",
       "      <td>0</td>\n",
       "      <td>2015-02-13 07:09:00</td>\n",
       "      <td>1</td>\n",
       "      <td>Male</td>\n",
       "      <td>White</td>\n",
       "      <td>27</td>\n",
       "      <td>1</td>\n",
       "      <td>185</td>\n",
       "      <td>121</td>\n",
       "      <td>0</td>\n",
       "      <td>0</td>\n",
       "    </tr>\n",
       "    <tr>\n",
       "      <td>1</td>\n",
       "      <td>JCcb9599</td>\n",
       "      <td>131235926251</td>\n",
       "      <td>25238287.0</td>\n",
       "      <td>0</td>\n",
       "      <td>2017-08-03 03:50:00</td>\n",
       "      <td>1</td>\n",
       "      <td>Female</td>\n",
       "      <td>Black</td>\n",
       "      <td>69</td>\n",
       "      <td>1</td>\n",
       "      <td>152</td>\n",
       "      <td>72</td>\n",
       "      <td>0</td>\n",
       "      <td>0</td>\n",
       "    </tr>\n",
       "    <tr>\n",
       "      <td>2</td>\n",
       "      <td>JCcba5ad</td>\n",
       "      <td>131177568449</td>\n",
       "      <td>18459677.0</td>\n",
       "      <td>0</td>\n",
       "      <td>2016-02-20 19:27:00</td>\n",
       "      <td>0</td>\n",
       "      <td>Female</td>\n",
       "      <td>Asian</td>\n",
       "      <td>87</td>\n",
       "      <td>1</td>\n",
       "      <td>149</td>\n",
       "      <td>47</td>\n",
       "      <td>0</td>\n",
       "      <td>0</td>\n",
       "    </tr>\n",
       "    <tr>\n",
       "      <td>3</td>\n",
       "      <td>JCcbfbf7</td>\n",
       "      <td>131193455501</td>\n",
       "      <td>20798263.0</td>\n",
       "      <td>0</td>\n",
       "      <td>2016-08-21 02:08:00</td>\n",
       "      <td>1</td>\n",
       "      <td>Female</td>\n",
       "      <td>Native American</td>\n",
       "      <td>66</td>\n",
       "      <td>1</td>\n",
       "      <td>162</td>\n",
       "      <td>81</td>\n",
       "      <td>0</td>\n",
       "      <td>0</td>\n",
       "    </tr>\n",
       "    <tr>\n",
       "      <td>4</td>\n",
       "      <td>JCcc15c6</td>\n",
       "      <td>131254215457</td>\n",
       "      <td>31126955.0</td>\n",
       "      <td>0</td>\n",
       "      <td>2018-07-09 03:24:00</td>\n",
       "      <td>1</td>\n",
       "      <td>Male</td>\n",
       "      <td>Asian</td>\n",
       "      <td>66</td>\n",
       "      <td>0</td>\n",
       "      <td>167</td>\n",
       "      <td>54</td>\n",
       "      <td>0</td>\n",
       "      <td>0</td>\n",
       "    </tr>\n",
       "  </tbody>\n",
       "</table>\n",
       "</div>"
      ],
      "text/plain": [
       "     jc_uid  pat_enc_csn_id_coded  inpatient_data_id_coded  label  \\\n",
       "0  JCcb9495          131066982419               14157061.0      0   \n",
       "1  JCcb9599          131235926251               25238287.0      0   \n",
       "2  JCcba5ad          131177568449               18459677.0      0   \n",
       "3  JCcbfbf7          131193455501               20798263.0      0   \n",
       "4  JCcc15c6          131254215457               31126955.0      0   \n",
       "\n",
       "            admit_time  Engl gender1            race1  age1  medis1  Height1  \\\n",
       "0  2015-02-13 07:09:00     1    Male            White    27       1      185   \n",
       "1  2017-08-03 03:50:00     1  Female            Black    69       1      152   \n",
       "2  2016-02-20 19:27:00     0  Female            Asian    87       1      149   \n",
       "3  2016-08-21 02:08:00     1  Female  Native American    66       1      162   \n",
       "4  2018-07-09 03:24:00     1    Male            Asian    66       0      167   \n",
       "\n",
       "   Weight1  delta_H  delta_W  \n",
       "0      121        0        0  \n",
       "1       72        0        0  \n",
       "2       47        0        0  \n",
       "3       81        0        0  \n",
       "4       54        0        0  "
      ]
     },
     "execution_count": 39,
     "metadata": {},
     "output_type": "execute_result"
    }
   ],
   "source": [
    "cohort_demo_imputed = pd.read_csv('./Data/cohort_demo_imputed.csv')\n",
    "print(len(cohort_demo_imputed))\n",
    "cohort_demo_imputed.head(5)"
   ]
  },
  {
   "cell_type": "code",
   "execution_count": 17,
   "metadata": {
    "ExecuteTime": {
     "end_time": "2020-05-21T07:29:46.924564Z",
     "start_time": "2020-05-21T07:29:33.969101Z"
    }
   },
   "outputs": [
    {
     "name": "stderr",
     "output_type": "stream",
     "text": [
      "1it [00:11, 11.92s/it]\n"
     ]
    }
   ],
   "source": [
    "# push flowsheet up BQ:\n",
    "# imputed_demographics file\n",
    "table_schema = [{'name' : 'jc_uid', 'type' : 'STRING'},\n",
    "                {'name' : 'pat_enc_csn_id_coded', 'type' : 'INTEGER'},\n",
    "                {'name' : 'inpatient_data_id_coded', 'type': 'INTEGER'},\n",
    "                {'name' : 'admit_time', 'type' : 'TIMESTAMP'},\n",
    "                {'name' : 'label', 'type' : 'INTEGER'},\n",
    "                {'name' : 'Engl', 'type' : 'INTEGER'},\n",
    "                {'name' : 'gender1', 'type' : 'STRING'},\n",
    "                {'name' : 'race1', 'type' : 'STRING'},\n",
    "                {'name' : 'age1', 'type' : 'INTEGER'},\n",
    "                {'name' : 'medis1', 'type' : 'INTEGER'},\n",
    "                {'name' : 'Height1', 'type' : 'INTEGER'},\n",
    "                {'name' : 'Weight1', 'type' : 'INTEGER'},\n",
    "                {'name' : 'delta_H', 'type' : 'INTEGER'},\n",
    "                {'name' : 'delta_W', 'type' : 'INTEGER'},]\n",
    "\n",
    "                       \n",
    "DATASET_NAME = 'triage'\n",
    "TABLE_NAME = 'triage_cohort_adjusted_demographics_imputed'\n",
    "cohort_demo_imputed.to_gbq(destination_table='triage.%s' % TABLE_NAME,\n",
    "                 project_id='som-nero-phi-jonc101',\n",
    "                 table_schema=table_schema,\n",
    "                 if_exists='replace')"
   ]
  },
  {
   "cell_type": "code",
   "execution_count": 31,
   "metadata": {
    "ExecuteTime": {
     "end_time": "2020-05-23T04:02:54.121116Z",
     "start_time": "2020-05-23T04:02:53.445889Z"
    }
   },
   "outputs": [
    {
     "name": "stdout",
     "output_type": "stream",
     "text": [
      "531575\n"
     ]
    },
    {
     "data": {
      "text/html": [
       "<div>\n",
       "<style scoped>\n",
       "    .dataframe tbody tr th:only-of-type {\n",
       "        vertical-align: middle;\n",
       "    }\n",
       "\n",
       "    .dataframe tbody tr th {\n",
       "        vertical-align: top;\n",
       "    }\n",
       "\n",
       "    .dataframe thead th {\n",
       "        text-align: right;\n",
       "    }\n",
       "</style>\n",
       "<table border=\"1\" class=\"dataframe\">\n",
       "  <thead>\n",
       "    <tr style=\"text-align: right;\">\n",
       "      <th></th>\n",
       "      <th>jc_uid</th>\n",
       "      <th>pat_enc_csn_id_coded</th>\n",
       "      <th>admit_time</th>\n",
       "      <th>features</th>\n",
       "      <th>recorded_time</th>\n",
       "      <th>values</th>\n",
       "      <th>feature_type</th>\n",
       "    </tr>\n",
       "  </thead>\n",
       "  <tbody>\n",
       "    <tr>\n",
       "      <td>531570</td>\n",
       "      <td>JCea71c5</td>\n",
       "      <td>131191900862</td>\n",
       "      <td>2016-08-01 00:16:00+00:00</td>\n",
       "      <td>DBP</td>\n",
       "      <td>2016-07-31 20:59:00+00:00</td>\n",
       "      <td>93.0</td>\n",
       "      <td>vitals</td>\n",
       "    </tr>\n",
       "    <tr>\n",
       "      <td>531571</td>\n",
       "      <td>JCea71c5</td>\n",
       "      <td>131191900862</td>\n",
       "      <td>2016-08-01 00:16:00+00:00</td>\n",
       "      <td>DBP</td>\n",
       "      <td>2016-07-31 20:49:00+00:00</td>\n",
       "      <td>99.0</td>\n",
       "      <td>vitals</td>\n",
       "    </tr>\n",
       "    <tr>\n",
       "      <td>531572</td>\n",
       "      <td>JCea71c5</td>\n",
       "      <td>131191900862</td>\n",
       "      <td>2016-08-01 00:16:00+00:00</td>\n",
       "      <td>DBP</td>\n",
       "      <td>2016-07-31 21:19:00+00:00</td>\n",
       "      <td>89.0</td>\n",
       "      <td>vitals</td>\n",
       "    </tr>\n",
       "    <tr>\n",
       "      <td>531573</td>\n",
       "      <td>JCebc514</td>\n",
       "      <td>131207442721</td>\n",
       "      <td>2016-11-01 01:17:00+00:00</td>\n",
       "      <td>DBP</td>\n",
       "      <td>2016-10-31 22:41:00+00:00</td>\n",
       "      <td>76.0</td>\n",
       "      <td>vitals</td>\n",
       "    </tr>\n",
       "    <tr>\n",
       "      <td>531574</td>\n",
       "      <td>JCebc514</td>\n",
       "      <td>131207442721</td>\n",
       "      <td>2016-11-01 01:17:00+00:00</td>\n",
       "      <td>DBP</td>\n",
       "      <td>2016-10-31 22:42:00+00:00</td>\n",
       "      <td>75.0</td>\n",
       "      <td>vitals</td>\n",
       "    </tr>\n",
       "  </tbody>\n",
       "</table>\n",
       "</div>"
      ],
      "text/plain": [
       "          jc_uid  pat_enc_csn_id_coded                 admit_time features  \\\n",
       "531570  JCea71c5          131191900862  2016-08-01 00:16:00+00:00      DBP   \n",
       "531571  JCea71c5          131191900862  2016-08-01 00:16:00+00:00      DBP   \n",
       "531572  JCea71c5          131191900862  2016-08-01 00:16:00+00:00      DBP   \n",
       "531573  JCebc514          131207442721  2016-11-01 01:17:00+00:00      DBP   \n",
       "531574  JCebc514          131207442721  2016-11-01 01:17:00+00:00      DBP   \n",
       "\n",
       "                    recorded_time  values feature_type  \n",
       "531570  2016-07-31 20:59:00+00:00    93.0       vitals  \n",
       "531571  2016-07-31 20:49:00+00:00    99.0       vitals  \n",
       "531572  2016-07-31 21:19:00+00:00    89.0       vitals  \n",
       "531573  2016-10-31 22:41:00+00:00    76.0       vitals  \n",
       "531574  2016-10-31 22:42:00+00:00    75.0       vitals  "
      ]
     },
     "execution_count": 31,
     "metadata": {},
     "output_type": "execute_result"
    }
   ],
   "source": [
    "cohort_vitals_clean = pd.read_csv('./Data/cohort_vitals_clean.csv')\n",
    "print(len(cohort_vitals_clean))\n",
    "cohort_vitals_clean.tail(5)"
   ]
  },
  {
   "cell_type": "code",
   "execution_count": 28,
   "metadata": {
    "ExecuteTime": {
     "end_time": "2020-05-22T21:59:54.044007Z",
     "start_time": "2020-05-22T21:59:25.868190Z"
    }
   },
   "outputs": [
    {
     "name": "stderr",
     "output_type": "stream",
     "text": [
      "1it [00:26, 26.69s/it]\n"
     ]
    }
   ],
   "source": [
    "# cleaned vitals\n",
    "table_schema = [{'name' : 'jc_uid', 'type' : 'STRING'},\n",
    "                {'name' : 'pat_enc_csn_id_coded', 'type' : 'INTEGER'},\n",
    "                {'name' : 'admit_time', 'type' : 'TIMESTAMP'},\n",
    "                {'name' : 'features', 'type' : 'STRING'},\n",
    "                {'name' : 'recorded_time', 'type' : 'TIMESTAMP'},\n",
    "                {'name' : 'values', 'type' : 'FLOAT'},\n",
    "                {'name' : 'feature_type', 'type' : 'STRING'}]\n",
    "\n",
    "                       \n",
    "DATASET_NAME = 'triage'\n",
    "TABLE_NAME = 'triage_cohort_adjusted_vitals_clean'\n",
    "cohort_vitals_clean.to_gbq(destination_table='triage.%s' % TABLE_NAME,\n",
    "                 project_id='som-nero-phi-jonc101',\n",
    "                 table_schema=table_schema,\n",
    "                 if_exists='replace')"
   ]
  },
  {
   "cell_type": "code",
   "execution_count": 33,
   "metadata": {
    "ExecuteTime": {
     "end_time": "2020-05-23T04:06:01.341323Z",
     "start_time": "2020-05-23T04:06:00.968739Z"
    }
   },
   "outputs": [
    {
     "name": "stdout",
     "output_type": "stream",
     "text": [
      "313230\n"
     ]
    },
    {
     "data": {
      "text/html": [
       "<div>\n",
       "<style scoped>\n",
       "    .dataframe tbody tr th:only-of-type {\n",
       "        vertical-align: middle;\n",
       "    }\n",
       "\n",
       "    .dataframe tbody tr th {\n",
       "        vertical-align: top;\n",
       "    }\n",
       "\n",
       "    .dataframe thead th {\n",
       "        text-align: right;\n",
       "    }\n",
       "</style>\n",
       "<table border=\"1\" class=\"dataframe\">\n",
       "  <thead>\n",
       "    <tr style=\"text-align: right;\">\n",
       "      <th></th>\n",
       "      <th>jc_uid</th>\n",
       "      <th>pat_enc_csn_id_coded</th>\n",
       "      <th>admit_time</th>\n",
       "      <th>features</th>\n",
       "      <th>values</th>\n",
       "      <th>result_time</th>\n",
       "      <th>feature_type</th>\n",
       "    </tr>\n",
       "  </thead>\n",
       "  <tbody>\n",
       "    <tr>\n",
       "      <td>0</td>\n",
       "      <td>JCcc15c6</td>\n",
       "      <td>131254215457</td>\n",
       "      <td>2018-07-09 03:24:00+00:00</td>\n",
       "      <td>Magnesium, Ser/Plas</td>\n",
       "      <td>2.3</td>\n",
       "      <td>2018-07-08 23:47:00+00:00</td>\n",
       "      <td>labs</td>\n",
       "    </tr>\n",
       "    <tr>\n",
       "      <td>1</td>\n",
       "      <td>JCcc67c4</td>\n",
       "      <td>131170882153</td>\n",
       "      <td>2016-01-15 00:38:00+00:00</td>\n",
       "      <td>Magnesium, Ser/Plas</td>\n",
       "      <td>1.9</td>\n",
       "      <td>2016-01-14 23:24:00+00:00</td>\n",
       "      <td>labs</td>\n",
       "    </tr>\n",
       "    <tr>\n",
       "      <td>2</td>\n",
       "      <td>JCccde6e</td>\n",
       "      <td>131259373038</td>\n",
       "      <td>2018-10-10 01:17:00+00:00</td>\n",
       "      <td>Glucose by Meter</td>\n",
       "      <td>155.0</td>\n",
       "      <td>2018-10-10 00:09:00+00:00</td>\n",
       "      <td>labs</td>\n",
       "    </tr>\n",
       "    <tr>\n",
       "      <td>3</td>\n",
       "      <td>JCccf3ed</td>\n",
       "      <td>131254647220</td>\n",
       "      <td>2018-07-05 19:23:00+00:00</td>\n",
       "      <td>Magnesium, Ser/Plas</td>\n",
       "      <td>1.7</td>\n",
       "      <td>2018-07-05 16:19:00+00:00</td>\n",
       "      <td>labs</td>\n",
       "    </tr>\n",
       "    <tr>\n",
       "      <td>4</td>\n",
       "      <td>JCccf3ed</td>\n",
       "      <td>131254647220</td>\n",
       "      <td>2018-07-05 19:23:00+00:00</td>\n",
       "      <td>Glucose by Meter</td>\n",
       "      <td>187.0</td>\n",
       "      <td>2018-07-05 16:33:00+00:00</td>\n",
       "      <td>labs</td>\n",
       "    </tr>\n",
       "  </tbody>\n",
       "</table>\n",
       "</div>"
      ],
      "text/plain": [
       "     jc_uid  pat_enc_csn_id_coded                 admit_time  \\\n",
       "0  JCcc15c6          131254215457  2018-07-09 03:24:00+00:00   \n",
       "1  JCcc67c4          131170882153  2016-01-15 00:38:00+00:00   \n",
       "2  JCccde6e          131259373038  2018-10-10 01:17:00+00:00   \n",
       "3  JCccf3ed          131254647220  2018-07-05 19:23:00+00:00   \n",
       "4  JCccf3ed          131254647220  2018-07-05 19:23:00+00:00   \n",
       "\n",
       "              features  values                result_time feature_type  \n",
       "0  Magnesium, Ser/Plas     2.3  2018-07-08 23:47:00+00:00         labs  \n",
       "1  Magnesium, Ser/Plas     1.9  2016-01-14 23:24:00+00:00         labs  \n",
       "2     Glucose by Meter   155.0  2018-10-10 00:09:00+00:00         labs  \n",
       "3  Magnesium, Ser/Plas     1.7  2018-07-05 16:19:00+00:00         labs  \n",
       "4     Glucose by Meter   187.0  2018-07-05 16:33:00+00:00         labs  "
      ]
     },
     "execution_count": 33,
     "metadata": {},
     "output_type": "execute_result"
    }
   ],
   "source": [
    "cohort_short_labs_clean_4binning = pd.read_csv('./Data/cohort_short_labs_clean_4binning.csv')\n",
    "print(len(cohort_short_labs_clean_4binning))\n",
    "cohort_short_labs_clean_4binning.head(5)"
   ]
  },
  {
   "cell_type": "code",
   "execution_count": 18,
   "metadata": {
    "ExecuteTime": {
     "end_time": "2020-05-22T21:06:16.399289Z",
     "start_time": "2020-05-22T21:05:47.233262Z"
    }
   },
   "outputs": [
    {
     "name": "stderr",
     "output_type": "stream",
     "text": [
      "1it [00:27, 27.51s/it]\n"
     ]
    }
   ],
   "source": [
    "# cleaned labs\n",
    "table_schema = [{'name' : 'jc_uid', 'type' : 'STRING'},\n",
    "                {'name' : 'pat_enc_csn_id_coded', 'type' : 'INTEGER'},\n",
    "                {'name' : 'admit_time', 'type' : 'TIMESTAMP'},\n",
    "                {'name' : 'features', 'type' : 'STRING'},\n",
    "                {'name' : 'result_time', 'type' : 'TIMESTAMP'},\n",
    "                {'name' : 'values', 'type' : 'FLOAT'},\n",
    "                {'name' : 'feature_type', 'type' : 'STRING'}]\n",
    "\n",
    "                       \n",
    "DATASET_NAME = 'triage'\n",
    "TABLE_NAME = 'triage_cohort_adjusted_short_labs_clean_4binning'\n",
    "cohort_short_labs_clean_4binning.to_gbq(destination_table='triage.%s' % TABLE_NAME,\n",
    "                 project_id='som-nero-phi-jonc101',\n",
    "                 table_schema=table_schema,\n",
    "                 if_exists='replace')"
   ]
  },
  {
   "cell_type": "code",
   "execution_count": 63,
   "metadata": {
    "ExecuteTime": {
     "end_time": "2020-05-24T01:11:46.963649Z",
     "start_time": "2020-05-24T01:11:45.970307Z"
    }
   },
   "outputs": [
    {
     "name": "stdout",
     "output_type": "stream",
     "text": [
      "844805\n"
     ]
    }
   ],
   "source": [
    "cohort_vitals_labs_long = pd.read_csv('./Data/cohort_vitals_labs_long.csv')\n",
    "cohort_vitals_labs_long.tail(5)\n",
    "print(len(cohort_vitals_labs_long))"
   ]
  },
  {
   "cell_type": "code",
   "execution_count": 64,
   "metadata": {
    "ExecuteTime": {
     "end_time": "2020-05-24T01:12:06.196853Z",
     "start_time": "2020-05-24T01:12:06.077660Z"
    }
   },
   "outputs": [
    {
     "data": {
      "text/html": [
       "<div>\n",
       "<style scoped>\n",
       "    .dataframe tbody tr th:only-of-type {\n",
       "        vertical-align: middle;\n",
       "    }\n",
       "\n",
       "    .dataframe tbody tr th {\n",
       "        vertical-align: top;\n",
       "    }\n",
       "\n",
       "    .dataframe thead th {\n",
       "        text-align: right;\n",
       "    }\n",
       "</style>\n",
       "<table border=\"1\" class=\"dataframe\">\n",
       "  <thead>\n",
       "    <tr style=\"text-align: right;\">\n",
       "      <th></th>\n",
       "      <th>pat_enc_csn_id_coded</th>\n",
       "      <th>values</th>\n",
       "    </tr>\n",
       "  </thead>\n",
       "  <tbody>\n",
       "    <tr>\n",
       "      <td>count</td>\n",
       "      <td>9.274400e+04</td>\n",
       "      <td>92744.000000</td>\n",
       "    </tr>\n",
       "    <tr>\n",
       "      <td>mean</td>\n",
       "      <td>1.311857e+11</td>\n",
       "      <td>76.684885</td>\n",
       "    </tr>\n",
       "    <tr>\n",
       "      <td>std</td>\n",
       "      <td>6.370680e+07</td>\n",
       "      <td>17.482878</td>\n",
       "    </tr>\n",
       "    <tr>\n",
       "      <td>min</td>\n",
       "      <td>1.310373e+11</td>\n",
       "      <td>15.000000</td>\n",
       "    </tr>\n",
       "    <tr>\n",
       "      <td>25%</td>\n",
       "      <td>1.311249e+11</td>\n",
       "      <td>65.000000</td>\n",
       "    </tr>\n",
       "    <tr>\n",
       "      <td>50%</td>\n",
       "      <td>1.312018e+11</td>\n",
       "      <td>76.000000</td>\n",
       "    </tr>\n",
       "    <tr>\n",
       "      <td>75%</td>\n",
       "      <td>1.312422e+11</td>\n",
       "      <td>87.000000</td>\n",
       "    </tr>\n",
       "    <tr>\n",
       "      <td>max</td>\n",
       "      <td>1.312578e+11</td>\n",
       "      <td>225.000000</td>\n",
       "    </tr>\n",
       "  </tbody>\n",
       "</table>\n",
       "</div>"
      ],
      "text/plain": [
       "       pat_enc_csn_id_coded        values\n",
       "count          9.274400e+04  92744.000000\n",
       "mean           1.311857e+11     76.684885\n",
       "std            6.370680e+07     17.482878\n",
       "min            1.310373e+11     15.000000\n",
       "25%            1.311249e+11     65.000000\n",
       "50%            1.312018e+11     76.000000\n",
       "75%            1.312422e+11     87.000000\n",
       "max            1.312578e+11    225.000000"
      ]
     },
     "execution_count": 64,
     "metadata": {},
     "output_type": "execute_result"
    }
   ],
   "source": [
    "cohort_vitals_labs_long.loc[cohort_vitals_labs_long['features'] == \"DBP\"].describe()"
   ]
  },
  {
   "cell_type": "code",
   "execution_count": 58,
   "metadata": {
    "ExecuteTime": {
     "end_time": "2020-05-23T23:58:53.364638Z",
     "start_time": "2020-05-23T23:58:53.231931Z"
    }
   },
   "outputs": [
    {
     "data": {
      "text/html": [
       "<div>\n",
       "<style scoped>\n",
       "    .dataframe tbody tr th:only-of-type {\n",
       "        vertical-align: middle;\n",
       "    }\n",
       "\n",
       "    .dataframe tbody tr th {\n",
       "        vertical-align: top;\n",
       "    }\n",
       "\n",
       "    .dataframe thead th {\n",
       "        text-align: right;\n",
       "    }\n",
       "</style>\n",
       "<table border=\"1\" class=\"dataframe\">\n",
       "  <thead>\n",
       "    <tr style=\"text-align: right;\">\n",
       "      <th></th>\n",
       "      <th>jc_uid</th>\n",
       "      <th>pat_enc_csn_id_coded</th>\n",
       "      <th>admit_time</th>\n",
       "      <th>features</th>\n",
       "      <th>values</th>\n",
       "      <th>feature_type</th>\n",
       "    </tr>\n",
       "  </thead>\n",
       "  <tbody>\n",
       "    <tr>\n",
       "      <td>438831</td>\n",
       "      <td>JCcb91cd</td>\n",
       "      <td>131226312076</td>\n",
       "      <td>2017-04-08 03:14:00+00:00</td>\n",
       "      <td>DBP</td>\n",
       "      <td>73.0</td>\n",
       "      <td>vitals</td>\n",
       "    </tr>\n",
       "    <tr>\n",
       "      <td>438832</td>\n",
       "      <td>JCcbb675</td>\n",
       "      <td>131239642003</td>\n",
       "      <td>2017-09-15 02:31:00+00:00</td>\n",
       "      <td>DBP</td>\n",
       "      <td>72.0</td>\n",
       "      <td>vitals</td>\n",
       "    </tr>\n",
       "    <tr>\n",
       "      <td>438833</td>\n",
       "      <td>JCcbb675</td>\n",
       "      <td>131239642003</td>\n",
       "      <td>2017-09-15 02:31:00+00:00</td>\n",
       "      <td>DBP</td>\n",
       "      <td>76.0</td>\n",
       "      <td>vitals</td>\n",
       "    </tr>\n",
       "    <tr>\n",
       "      <td>438834</td>\n",
       "      <td>JCcbba6b</td>\n",
       "      <td>131181787574</td>\n",
       "      <td>2016-04-06 04:30:00+00:00</td>\n",
       "      <td>DBP</td>\n",
       "      <td>77.0</td>\n",
       "      <td>vitals</td>\n",
       "    </tr>\n",
       "    <tr>\n",
       "      <td>438835</td>\n",
       "      <td>JCcbbdc1</td>\n",
       "      <td>131082563304</td>\n",
       "      <td>2015-03-19 02:58:00+00:00</td>\n",
       "      <td>DBP</td>\n",
       "      <td>63.0</td>\n",
       "      <td>vitals</td>\n",
       "    </tr>\n",
       "  </tbody>\n",
       "</table>\n",
       "</div>"
      ],
      "text/plain": [
       "          jc_uid  pat_enc_csn_id_coded                 admit_time features  \\\n",
       "438831  JCcb91cd          131226312076  2017-04-08 03:14:00+00:00      DBP   \n",
       "438832  JCcbb675          131239642003  2017-09-15 02:31:00+00:00      DBP   \n",
       "438833  JCcbb675          131239642003  2017-09-15 02:31:00+00:00      DBP   \n",
       "438834  JCcbba6b          131181787574  2016-04-06 04:30:00+00:00      DBP   \n",
       "438835  JCcbbdc1          131082563304  2015-03-19 02:58:00+00:00      DBP   \n",
       "\n",
       "        values feature_type  \n",
       "438831    73.0       vitals  \n",
       "438832    72.0       vitals  \n",
       "438833    76.0       vitals  \n",
       "438834    77.0       vitals  \n",
       "438835    63.0       vitals  "
      ]
     },
     "execution_count": 58,
     "metadata": {},
     "output_type": "execute_result"
    }
   ],
   "source": [
    "# cohort_vitals_labs_long.loc[cohort_vitals_labs_long['features'] == \"DBP\"].head()\n",
    "cohort_vitals_labs_long = cohort_vitals_labs_long.drop('time', axis=1)\n",
    "cohort_vitals_labs_long.loc[cohort_vitals_labs_long['features'] == \"DBP\"].head()"
   ]
  },
  {
   "cell_type": "code",
   "execution_count": 59,
   "metadata": {
    "ExecuteTime": {
     "end_time": "2020-05-24T00:00:16.100257Z",
     "start_time": "2020-05-23T23:59:05.384947Z"
    }
   },
   "outputs": [
    {
     "name": "stderr",
     "output_type": "stream",
     "text": [
      "1it [01:09, 69.18s/it]\n"
     ]
    }
   ],
   "source": [
    "# vitals and labs combined in a specific format\n",
    "table_schema = [{'name' : 'jc_uid', 'type' : 'STRING'},\n",
    "                {'name' : 'pat_enc_csn_id_coded', 'type' : 'INTEGER'},\n",
    "                {'name' : 'admit_time', 'type' : 'TIMESTAMP'},\n",
    "                {'name' : 'features', 'type' : 'STRING'},\n",
    "#                 {'name' : 'time', 'type' : 'TIMESTAMP'},\n",
    "                {'name' : 'values', 'type' : 'FLOAT'},\n",
    "                {'name' : 'feature_type', 'type' : 'STRING'}]\n",
    "\n",
    "                       \n",
    "DATASET_NAME = 'triage'\n",
    "TABLE_NAME = 'triage_cohort_adjusted_vitals_labs_4binning'\n",
    "cohort_vitals_labs_long.to_gbq(destination_table='triage.%s' % TABLE_NAME,\n",
    "                 project_id='som-nero-phi-jonc101',\n",
    "                 table_schema=table_schema,\n",
    "                 if_exists='replace')"
   ]
  },
  {
   "cell_type": "code",
   "execution_count": 3,
   "metadata": {
    "ExecuteTime": {
     "end_time": "2020-05-28T18:48:04.074443Z",
     "start_time": "2020-05-28T18:48:02.742008Z"
    }
   },
   "outputs": [
    {
     "name": "stdout",
     "output_type": "stream",
     "text": [
      "1377829\n"
     ]
    },
    {
     "data": {
      "text/html": [
       "<div>\n",
       "<style scoped>\n",
       "    .dataframe tbody tr th:only-of-type {\n",
       "        vertical-align: middle;\n",
       "    }\n",
       "\n",
       "    .dataframe tbody tr th {\n",
       "        vertical-align: top;\n",
       "    }\n",
       "\n",
       "    .dataframe thead th {\n",
       "        text-align: right;\n",
       "    }\n",
       "</style>\n",
       "<table border=\"1\" class=\"dataframe\">\n",
       "  <thead>\n",
       "    <tr style=\"text-align: right;\">\n",
       "      <th></th>\n",
       "      <th>jc_uid</th>\n",
       "      <th>pat_enc_csn_id_coded</th>\n",
       "      <th>admit_time</th>\n",
       "      <th>features</th>\n",
       "      <th>values</th>\n",
       "      <th>feature_type</th>\n",
       "    </tr>\n",
       "  </thead>\n",
       "  <tbody>\n",
       "    <tr>\n",
       "      <td>0</td>\n",
       "      <td>JCcb9495</td>\n",
       "      <td>131066982419</td>\n",
       "      <td>2015-02-13 07:09:00</td>\n",
       "      <td>Engl</td>\n",
       "      <td>1.0</td>\n",
       "      <td>demo</td>\n",
       "    </tr>\n",
       "    <tr>\n",
       "      <td>1</td>\n",
       "      <td>JCcb9599</td>\n",
       "      <td>131235926251</td>\n",
       "      <td>2017-08-03 03:50:00</td>\n",
       "      <td>Engl</td>\n",
       "      <td>1.0</td>\n",
       "      <td>demo</td>\n",
       "    </tr>\n",
       "    <tr>\n",
       "      <td>2</td>\n",
       "      <td>JCcba5ad</td>\n",
       "      <td>131177568449</td>\n",
       "      <td>2016-02-20 19:27:00</td>\n",
       "      <td>Engl</td>\n",
       "      <td>0.0</td>\n",
       "      <td>demo</td>\n",
       "    </tr>\n",
       "    <tr>\n",
       "      <td>3</td>\n",
       "      <td>JCcbfbf7</td>\n",
       "      <td>131193455501</td>\n",
       "      <td>2016-08-21 02:08:00</td>\n",
       "      <td>Engl</td>\n",
       "      <td>1.0</td>\n",
       "      <td>demo</td>\n",
       "    </tr>\n",
       "    <tr>\n",
       "      <td>4</td>\n",
       "      <td>JCcc15c6</td>\n",
       "      <td>131254215457</td>\n",
       "      <td>2018-07-09 03:24:00</td>\n",
       "      <td>Engl</td>\n",
       "      <td>1.0</td>\n",
       "      <td>demo</td>\n",
       "    </tr>\n",
       "  </tbody>\n",
       "</table>\n",
       "</div>"
      ],
      "text/plain": [
       "     jc_uid  pat_enc_csn_id_coded           admit_time features  values  \\\n",
       "0  JCcb9495          131066982419  2015-02-13 07:09:00     Engl     1.0   \n",
       "1  JCcb9599          131235926251  2017-08-03 03:50:00     Engl     1.0   \n",
       "2  JCcba5ad          131177568449  2016-02-20 19:27:00     Engl     0.0   \n",
       "3  JCcbfbf7          131193455501  2016-08-21 02:08:00     Engl     1.0   \n",
       "4  JCcc15c6          131254215457  2018-07-09 03:24:00     Engl     1.0   \n",
       "\n",
       "  feature_type  \n",
       "0         demo  \n",
       "1         demo  \n",
       "2         demo  \n",
       "3         demo  \n",
       "4         demo  "
      ]
     },
     "execution_count": 3,
     "metadata": {},
     "output_type": "execute_result"
    }
   ],
   "source": [
    "# no time col\n",
    "cohort_demo_vitals_labs_long = pd.read_csv('./Data/cohort_demo1hot_vitals_labs_long.csv') \n",
    "print(len(cohort_demo_vitals_labs_long))\n",
    "cohort_demo_vitals_labs_long.head(5)"
   ]
  },
  {
   "cell_type": "code",
   "execution_count": 30,
   "metadata": {
    "ExecuteTime": {
     "end_time": "2020-05-22T22:02:30.569585Z",
     "start_time": "2020-05-22T22:01:28.163403Z"
    }
   },
   "outputs": [
    {
     "name": "stderr",
     "output_type": "stream",
     "text": [
      "1it [01:00, 60.91s/it]\n"
     ]
    }
   ],
   "source": [
    "# demographics, vitals, labs in the specific format\n",
    "table_schema = [{'name' : 'jc_uid', 'type' : 'STRING'},\n",
    "                {'name' : 'pat_enc_csn_id_coded', 'type' : 'INTEGER'},\n",
    "                {'name' : 'admit_time', 'type' : 'TIMESTAMP'},\n",
    "                {'name' : 'features', 'type' : 'STRING'},\n",
    "                {'name' : 'time', 'type' : 'TIMESTAMP'},\n",
    "                {'name' : 'values', 'type' : 'FLOAT'},\n",
    "                {'name' : 'feature_type', 'type' : 'STRING'}]\n",
    "\n",
    "                       \n",
    "DATASET_NAME = 'triage'\n",
    "TABLE_NAME = 'triage_cohort_adjusted_demo1hot_vitals_labs_long'\n",
    "cohort_demo_vitals_labs_long.to_gbq(destination_table='triage.%s' % TABLE_NAME,\n",
    "                 project_id='som-nero-phi-jonc101',\n",
    "                 table_schema=table_schema,\n",
    "                 if_exists='replace')"
   ]
  }
 ],
 "metadata": {
  "environment": {
   "name": "r-cpu.4-0.m71",
   "type": "gcloud",
   "uri": "gcr.io/deeplearning-platform-release/r-cpu.4-0:m71"
  },
  "kernelspec": {
   "display_name": "Python 3",
   "language": "python",
   "name": "python3"
  },
  "language_info": {
   "codemirror_mode": {
    "name": "ipython",
    "version": 3
   },
   "file_extension": ".py",
   "mimetype": "text/x-python",
   "name": "python",
   "nbconvert_exporter": "python",
   "pygments_lexer": "ipython3",
   "version": "3.8.5"
  },
  "toc": {
   "base_numbering": 1,
   "nav_menu": {},
   "number_sections": true,
   "sideBar": true,
   "skip_h1_title": false,
   "title_cell": "Table of Contents",
   "title_sidebar": "Contents",
   "toc_cell": false,
   "toc_position": {},
   "toc_section_display": true,
   "toc_window_display": false
  },
  "varInspector": {
   "cols": {
    "lenName": 16,
    "lenType": 16,
    "lenVar": 40
   },
   "kernels_config": {
    "python": {
     "delete_cmd_postfix": "",
     "delete_cmd_prefix": "del ",
     "library": "var_list.py",
     "varRefreshCmd": "print(var_dic_list())"
    },
    "r": {
     "delete_cmd_postfix": ") ",
     "delete_cmd_prefix": "rm(",
     "library": "var_list.r",
     "varRefreshCmd": "cat(var_dic_list()) "
    }
   },
   "types_to_exclude": [
    "module",
    "function",
    "builtin_function_or_method",
    "instance",
    "_Feature"
   ],
   "window_display": false
  }
 },
 "nbformat": 4,
 "nbformat_minor": 4
}
