{
 "cells": [
  {
   "cell_type": "markdown",
   "metadata": {
    "ExecuteTime": {
     "end_time": "2020-05-17T21:33:05.576329Z",
     "start_time": "2020-05-17T21:33:03.404617Z"
    }
   },
   "source": [
    "## SQL & BQ\n",
    "Collection of files queried from or pushed to BQ"
   ]
  },
  {
   "cell_type": "code",
   "execution_count": 22,
   "metadata": {},
   "outputs": [],
   "source": [
    "# !pip install pandas-gbq"
   ]
  },
  {
   "cell_type": "code",
   "execution_count": 1,
   "metadata": {
    "ExecuteTime": {
     "end_time": "2020-05-28T18:47:57.528255Z",
     "start_time": "2020-05-28T18:47:54.874579Z"
    }
   },
   "outputs": [],
   "source": [
    "import pandas as pd\n",
    "import matplotlib.mlab as mlab\n",
    "import matplotlib.pyplot as plt\n",
    "from datetime import datetime, timedelta\n",
    "\n",
    "# %matplotlib inline\n",
    "# %load_ext rpy2.ipython"
   ]
  },
  {
   "cell_type": "code",
   "execution_count": 2,
   "metadata": {
    "ExecuteTime": {
     "end_time": "2020-05-22T19:26:31.720270Z",
     "start_time": "2020-05-22T19:26:28.451753Z"
    }
   },
   "outputs": [
    {
     "name": "stderr",
     "output_type": "stream",
     "text": [
      "/opt/conda/lib/python3.7/site-packages/google/auth/_default.py:70: UserWarning: Your application has authenticated using end user credentials from Google Cloud SDK without a quota project. You might receive a \"quota exceeded\" or \"API not enabled\" error. We recommend you rerun `gcloud auth application-default login` and make sure a quota project is added. Or you can use service accounts instead. For more information about service accounts, see https://cloud.google.com/docs/authentication/\n",
      "  warnings.warn(_CLOUD_SDK_CREDENTIALS_WARNING)\n"
     ]
    }
   ],
   "source": [
    "import os \n",
    "from google.cloud import bigquery\n",
    "from google.cloud.bigquery import dbapi\n",
    "\n",
    "##Use correct path based on whether you are, Nero or local\n",
    "# use Ctrl + Insert to copy and Shift + Insert to paste\n",
    "\n",
    "# for Nero:\n",
    "# os.environ['GOOGLE_APPLICATION_CREDENTIALS'] = '/home/minh084/.config/gcloud/application_default_credentials.json' \n",
    "os.environ['GOOGLE_APPLICATION_CREDENTIALS'] = '/home/jupyter/.config/gcloud/application_default_credentials.json'\n",
    "\n",
    "# for local computer:\n",
    "# os.environ['GOOGLE_APPLICATION_CREDENTIALS'] = r'C:\\Users\\User\\AppData\\Roaming\\gcloud\\application_default_credentials.json' \n",
    "\n",
    "##set correct Nero project\n",
    "os.environ['GCLOUD_PROJECT'] = 'som-nero-phi-jonc101' \n",
    "\n",
    "##Setting up BQ API, m1:\n",
    "client = bigquery.Client()\n",
    "\n",
    "##using dbAPI connection, m2:\n",
    "conn = dbapi.connect(client)"
   ]
  },
  {
   "cell_type": "markdown",
   "metadata": {},
   "source": [
    "### ADT check service, class to get admitted ED patients"
   ]
  },
  {
   "cell_type": "code",
   "execution_count": 3,
   "metadata": {},
   "outputs": [],
   "source": [
    "datadir = \"../../DataTD\"\n",
    "cohortdir = \"../../OutputTD/1_cohort\"\n",
    "featuredir = \"../../OutputTD/2_features\"\n",
    "\n",
    "pd.set_option('display.max_columns', 50)\n",
    "pd.set_option('display.max_rows', 50)"
   ]
  },
  {
   "cell_type": "code",
   "execution_count": 4,
   "metadata": {},
   "outputs": [],
   "source": [
    "# check information on ADT to select patient class and service for querying original cohort\n",
    "q = \"\"\"\n",
    "SELECT adt.pat_class_c, adt.pat_class, adt.base_pat_class, adt.pat_service, adt.pat_lv_of_care\n",
    "FROM \n",
    "    `som-nero-phi-jonc101.shc_core.adt` as adt\n",
    "WHERE adt.pat_class_c = \"112\"\n",
    "or adt.pat_class = \"Emergency Services\"\n",
    "or adt.pat_service LIKE  \"%Emergency%\"\n",
    "\"\"\"\n",
    "query_job = client.query(q)\n",
    "df = query_job.to_dataframe()"
   ]
  },
  {
   "cell_type": "code",
   "execution_count": 5,
   "metadata": {},
   "outputs": [
    {
     "name": "stdout",
     "output_type": "stream",
     "text": [
      "2711384\n"
     ]
    }
   ],
   "source": [
    "df.to_csv(os.path.join(datadir,\"adt_class_serv_loc.csv\"), index=False)\n",
    "df = pd.read_csv(os.path.join(datadir,\"adt_class_serv_loc.csv\"))\n",
    "print(len(df)) #2711384"
   ]
  },
  {
   "cell_type": "raw",
   "metadata": {},
   "source": [
    "%%R -i df -w 5 -h 5 --units in -r 200\n",
    "# import df from global environment\n",
    "# make default figure size 5 by 5 inches with 200 dpi resolution\n",
    "\n",
    "\n",
    "adt <- df %>% mutate(pat_class_c = factor(pat_class_c),\n",
    "                      pat_class = factor(pat_class),\n",
    "                      base_pat_class = factor(base_pat_class),\n",
    "                      pat_service = factor(pat_service),\n",
    "                      pat_lv_of_care = factor(pat_lv_of_care))\n",
    "summary(df$pat_class_c)\n",
    "\n",
    "df %>% group_by(pat_class_c, pat_class, base_pat_class, pat_service, pat_lv_of_care) %>%\n",
    "        count() %>% arrange(pat_class_c, pat_clas, pat_service, -n)"
   ]
  },
  {
   "cell_type": "markdown",
   "metadata": {},
   "source": [
    "### Run 1.1_cohort_init notebook\n",
    "Results in `1_1_cohort` as the init (original) cohort.\n",
    "\n",
    "Label is the label for highest level of care within 24 hours since admission."
   ]
  },
  {
   "cell_type": "markdown",
   "metadata": {},
   "source": [
    "### Queries information for other inclusion/ex criteria\n",
    "When querying, join with `1_1_cohort`\n",
    "- Inpatient/hospital encounters only\n",
    "- Full code only\n",
    "- Age 18 and older only"
   ]
  },
  {
   "cell_type": "code",
   "execution_count": 4,
   "metadata": {},
   "outputs": [],
   "source": [
    "q = open('../SQL/feature_values/m1_encounter.sql', 'r')\n",
    "query_job =  client.query(q.read()).to_dataframe().to_csv(os.path.join(datadir, 'encounters.csv'), index=False)"
   ]
  },
  {
   "cell_type": "code",
   "execution_count": 8,
   "metadata": {},
   "outputs": [],
   "source": [
    "q = open('../SQL/feature_values/m2_codestatus.sql', 'r')\n",
    "query_job =  client.query(q.read()).to_dataframe().to_csv(os.path.join(datadir, 'code_status.csv'), index=False)"
   ]
  },
  {
   "cell_type": "code",
   "execution_count": 6,
   "metadata": {},
   "outputs": [],
   "source": [
    "q = open('../SQL/feature_values/m3_demographic.sql', 'r')\n",
    "query_job =  client.query(q.read()).to_dataframe().to_csv(os.path.join(datadir, 'demographics.csv'), index=False)"
   ]
  },
  {
   "cell_type": "markdown",
   "metadata": {},
   "source": [
    "### Pushed the 1_2_cohort after running 1.2_criteria_R notebook\n",
    "Use `1_1_cohort` to filter out patients with exclusion/inc criteria, resulting in updated `1_2_cohort`"
   ]
  },
  {
   "cell_type": "code",
   "execution_count": 11,
   "metadata": {},
   "outputs": [
    {
     "name": "stdout",
     "output_type": "stream",
     "text": [
      "45794\n",
      "['anon_id', 'pat_enc_csn_id_coded', 'label', 'admit_time', 'inpatient_data_id_coded', 'ESI', 'hosp_admsn_time', 'ed_time_hr', 'gender', 'race', 'language', 'recent_height_cm', 'recent_weight_kg', 'insurance', 'recent_date', 'age']\n"
     ]
    }
   ],
   "source": [
    "df = pd.read_csv(os.path.join(cohortdir, \"1_2_cohort.csv\"))\n",
    "print(len(df)) # 45796 vs 45794\n",
    "print(list(df.columns))"
   ]
  },
  {
   "cell_type": "code",
   "execution_count": 12,
   "metadata": {},
   "outputs": [
    {
     "data": {
      "text/html": [
       "<div>\n",
       "<style scoped>\n",
       "    .dataframe tbody tr th:only-of-type {\n",
       "        vertical-align: middle;\n",
       "    }\n",
       "\n",
       "    .dataframe tbody tr th {\n",
       "        vertical-align: top;\n",
       "    }\n",
       "\n",
       "    .dataframe thead th {\n",
       "        text-align: right;\n",
       "    }\n",
       "</style>\n",
       "<table border=\"1\" class=\"dataframe\">\n",
       "  <thead>\n",
       "    <tr style=\"text-align: right;\">\n",
       "      <th></th>\n",
       "      <th>anon_id</th>\n",
       "      <th>pat_enc_csn_id_coded</th>\n",
       "      <th>label</th>\n",
       "      <th>admit_time</th>\n",
       "      <th>inpatient_data_id_coded</th>\n",
       "      <th>ESI</th>\n",
       "      <th>hosp_admsn_time</th>\n",
       "      <th>ed_time_hr</th>\n",
       "      <th>gender</th>\n",
       "      <th>race</th>\n",
       "      <th>language</th>\n",
       "      <th>recent_height_cm</th>\n",
       "      <th>recent_weight_kg</th>\n",
       "      <th>insurance</th>\n",
       "      <th>recent_date</th>\n",
       "      <th>age</th>\n",
       "    </tr>\n",
       "  </thead>\n",
       "  <tbody>\n",
       "    <tr>\n",
       "      <th>0</th>\n",
       "      <td>JC29f8ad2</td>\n",
       "      <td>131274729058</td>\n",
       "      <td>0</td>\n",
       "      <td>2019-08-31 12:52:00</td>\n",
       "      <td>40679773</td>\n",
       "      <td>3.0</td>\n",
       "      <td>2019-08-31 09:59:00</td>\n",
       "      <td>2.883333</td>\n",
       "      <td>Female</td>\n",
       "      <td>White</td>\n",
       "      <td>English</td>\n",
       "      <td>165.1</td>\n",
       "      <td>83.46</td>\n",
       "      <td>UNITED HEALTHCARE</td>\n",
       "      <td>2020-03-31</td>\n",
       "      <td>52</td>\n",
       "    </tr>\n",
       "    <tr>\n",
       "      <th>1</th>\n",
       "      <td>JC29f8ad3</td>\n",
       "      <td>131278291027</td>\n",
       "      <td>0</td>\n",
       "      <td>2019-10-05 23:48:00</td>\n",
       "      <td>42992239</td>\n",
       "      <td>3.0</td>\n",
       "      <td>2019-10-05 20:07:00</td>\n",
       "      <td>3.683333</td>\n",
       "      <td>Female</td>\n",
       "      <td>Asian</td>\n",
       "      <td>English</td>\n",
       "      <td>NaN</td>\n",
       "      <td>NaN</td>\n",
       "      <td>BLUE CROSS</td>\n",
       "      <td>2020-02-24</td>\n",
       "      <td>35</td>\n",
       "    </tr>\n",
       "    <tr>\n",
       "      <th>2</th>\n",
       "      <td>JC29f8b9c</td>\n",
       "      <td>131266787806</td>\n",
       "      <td>0</td>\n",
       "      <td>2019-05-05 01:07:00</td>\n",
       "      <td>36261582</td>\n",
       "      <td>2.0</td>\n",
       "      <td>2019-05-05 00:06:00</td>\n",
       "      <td>1.016667</td>\n",
       "      <td>Male</td>\n",
       "      <td>Unknown</td>\n",
       "      <td>NaN</td>\n",
       "      <td>NaN</td>\n",
       "      <td>NaN</td>\n",
       "      <td>NaN</td>\n",
       "      <td>2019-01-12</td>\n",
       "      <td>59</td>\n",
       "    </tr>\n",
       "    <tr>\n",
       "      <th>3</th>\n",
       "      <td>JC29f8beb</td>\n",
       "      <td>131264387263</td>\n",
       "      <td>0</td>\n",
       "      <td>2019-03-15 03:35:00</td>\n",
       "      <td>34626013</td>\n",
       "      <td>3.0</td>\n",
       "      <td>2019-03-15 00:16:00</td>\n",
       "      <td>3.316667</td>\n",
       "      <td>Female</td>\n",
       "      <td>White</td>\n",
       "      <td>English</td>\n",
       "      <td>154.9</td>\n",
       "      <td>65.40</td>\n",
       "      <td>CIGNA</td>\n",
       "      <td>2019-12-22</td>\n",
       "      <td>30</td>\n",
       "    </tr>\n",
       "    <tr>\n",
       "      <th>4</th>\n",
       "      <td>JC29f8beb</td>\n",
       "      <td>131279241689</td>\n",
       "      <td>0</td>\n",
       "      <td>2019-11-27 15:29:00</td>\n",
       "      <td>43527040</td>\n",
       "      <td>3.0</td>\n",
       "      <td>2019-11-27 13:32:00</td>\n",
       "      <td>1.950000</td>\n",
       "      <td>Female</td>\n",
       "      <td>White</td>\n",
       "      <td>English</td>\n",
       "      <td>154.9</td>\n",
       "      <td>65.40</td>\n",
       "      <td>CIGNA</td>\n",
       "      <td>2019-12-22</td>\n",
       "      <td>30</td>\n",
       "    </tr>\n",
       "  </tbody>\n",
       "</table>\n",
       "</div>"
      ],
      "text/plain": [
       "     anon_id  pat_enc_csn_id_coded  label           admit_time  \\\n",
       "0  JC29f8ad2          131274729058      0  2019-08-31 12:52:00   \n",
       "1  JC29f8ad3          131278291027      0  2019-10-05 23:48:00   \n",
       "2  JC29f8b9c          131266787806      0  2019-05-05 01:07:00   \n",
       "3  JC29f8beb          131264387263      0  2019-03-15 03:35:00   \n",
       "4  JC29f8beb          131279241689      0  2019-11-27 15:29:00   \n",
       "\n",
       "   inpatient_data_id_coded  ESI      hosp_admsn_time  ed_time_hr  gender  \\\n",
       "0                 40679773  3.0  2019-08-31 09:59:00    2.883333  Female   \n",
       "1                 42992239  3.0  2019-10-05 20:07:00    3.683333  Female   \n",
       "2                 36261582  2.0  2019-05-05 00:06:00    1.016667    Male   \n",
       "3                 34626013  3.0  2019-03-15 00:16:00    3.316667  Female   \n",
       "4                 43527040  3.0  2019-11-27 13:32:00    1.950000  Female   \n",
       "\n",
       "      race language  recent_height_cm  recent_weight_kg          insurance  \\\n",
       "0    White  English             165.1             83.46  UNITED HEALTHCARE   \n",
       "1    Asian  English               NaN               NaN         BLUE CROSS   \n",
       "2  Unknown      NaN               NaN               NaN                NaN   \n",
       "3    White  English             154.9             65.40              CIGNA   \n",
       "4    White  English             154.9             65.40              CIGNA   \n",
       "\n",
       "  recent_date  age  \n",
       "0  2020-03-31   52  \n",
       "1  2020-02-24   35  \n",
       "2  2019-01-12   59  \n",
       "3  2019-12-22   30  \n",
       "4  2019-12-22   30  "
      ]
     },
     "execution_count": 12,
     "metadata": {},
     "output_type": "execute_result"
    }
   ],
   "source": [
    "df.head()"
   ]
  },
  {
   "cell_type": "code",
   "execution_count": 13,
   "metadata": {},
   "outputs": [
    {
     "name": "stderr",
     "output_type": "stream",
     "text": [
      "/opt/conda/lib/python3.7/site-packages/google/auth/_default.py:70: UserWarning: Your application has authenticated using end user credentials from Google Cloud SDK without a quota project. You might receive a \"quota exceeded\" or \"API not enabled\" error. We recommend you rerun `gcloud auth application-default login` and make sure a quota project is added. Or you can use service accounts instead. For more information about service accounts, see https://cloud.google.com/docs/authentication/\n",
      "  warnings.warn(_CLOUD_SDK_CREDENTIALS_WARNING)\n",
      "1it [00:46, 46.38s/it]\n"
     ]
    }
   ],
   "source": [
    "table_schema = [{'name' : 'anon_id', 'type' : 'STRING'},\n",
    "                {'name' : 'pat_enc_csn_id_coded', 'type' : 'INTEGER'},\n",
    "                {'name' : 'inpatient_data_id_coded', 'type': 'INTEGER'},\n",
    "                {'name' : 'admit_time', 'type' : 'TIMESTAMP'},\n",
    "                {'name' : 'label', 'type' : 'INTEGER'},\n",
    "                {'name' : 'hosp_admsn_time', 'type': 'TIMESTAMP'},\n",
    "                {'name' : 'ed_time_hr', 'type': 'FLOAT'},\n",
    "                {'name' : 'ESI', 'type': 'INTEGER'},\n",
    "                {'name' : 'age', 'type' : 'INTEGER'},\n",
    "                {'name' : 'gender', 'type' : 'STRING'},\n",
    "                {'name' : 'race', 'type' : 'STRING'},\n",
    "                {'name' : 'language', 'type' : 'STRING'},\n",
    "                {'name' : 'insurance', 'type' : 'STRING'},\n",
    "                {'name' : 'recent_height_cm', 'type' : 'FLOAT'},\n",
    "                {'name' : 'recent_weight_kg', 'type' : 'FLOAT'}, \n",
    "                {'name' : 'recent_date', 'type' : 'DATE'}]\n",
    "DATASET_NAME = 'triageTD'\n",
    "TABLE_NAME = '1_2_cohort'\n",
    "df.to_gbq(destination_table='triageTD.%s' % TABLE_NAME,\n",
    "                 project_id='som-nero-phi-jonc101',\n",
    "                 table_schema=table_schema,\n",
    "                 if_exists='replace')"
   ]
  },
  {
   "cell_type": "markdown",
   "metadata": {},
   "source": [
    "### Use updated 1_2_cohort with inpatient_id_coded to query flowsheet"
   ]
  },
  {
   "cell_type": "code",
   "execution_count": 18,
   "metadata": {},
   "outputs": [],
   "source": [
    "q = open('../SQL/feature_values/m4_HWflowsheet.sql', 'r')\n",
    "query_job =  client.query(q.read()).to_dataframe().to_csv(os.path.join(datadir, 'HWflowsheet.csv'), index=False)"
   ]
  },
  {
   "cell_type": "code",
   "execution_count": 20,
   "metadata": {},
   "outputs": [],
   "source": [
    "q = open('../SQL/feature_values/m5_flowsheet.sql', 'r')\n",
    "query_job =  client.query(q.read()).to_dataframe().to_csv(os.path.join(datadir, 'flowsheet.csv'), index=False)"
   ]
  },
  {
   "cell_type": "code",
   "execution_count": 16,
   "metadata": {},
   "outputs": [],
   "source": [
    "q.close()"
   ]
  },
  {
   "cell_type": "markdown",
   "metadata": {},
   "source": [
    "### Query and save files (demographics, code status, and admission) for joining later"
   ]
  },
  {
   "cell_type": "raw",
   "metadata": {},
   "source": [
    "# adapted Tiffany's function to save files\n",
    "def query_data(sqlfile, savefile):\n",
    "    # open and read the sql file\n",
    "    query = open(sqlfile, 'r')\n",
    "    resultsDF = pd.read_sql_query(query.read(), conn);\n",
    "    \n",
    "    # save the results to a file, close query and return df\n",
    "    resultsDF.to_csv(savefile, index=False)\n",
    "    query.close()\n",
    "    return resultsDF"
   ]
  },
  {
   "cell_type": "raw",
   "metadata": {},
   "source": [
    "# demograhic table, join with cohort\n",
    "sqlfile = 'SQL/m4_demographic.sql'\n",
    "outfile = './Data/demographic.csv'\n",
    "df = query_data(sqlfile, outfile)"
   ]
  },
  {
   "cell_type": "markdown",
   "metadata": {
    "ExecuteTime": {
     "end_time": "2020-05-17T21:23:42.216975Z",
     "start_time": "2020-05-17T21:23:42.212987Z"
    }
   },
   "source": [
    "### Push 1_3_cohort file from R notebook to Big Query\n",
    "- From 1.3_cohort_complete1vitals.ipynb or part 2 of 2.3_vitalsigns_R.ipynb\n",
    "- This is the updated cohort with at least a complete set of vital signs. First set in this file"
   ]
  },
  {
   "cell_type": "code",
   "execution_count": 23,
   "metadata": {
    "ExecuteTime": {
     "end_time": "2020-05-24T00:07:59.081642Z",
     "start_time": "2020-05-24T00:07:59.021801Z"
    }
   },
   "outputs": [
    {
     "name": "stdout",
     "output_type": "stream",
     "text": [
      "44258\n"
     ]
    },
    {
     "data": {
      "text/html": [
       "<div>\n",
       "<style scoped>\n",
       "    .dataframe tbody tr th:only-of-type {\n",
       "        vertical-align: middle;\n",
       "    }\n",
       "\n",
       "    .dataframe tbody tr th {\n",
       "        vertical-align: top;\n",
       "    }\n",
       "\n",
       "    .dataframe thead th {\n",
       "        text-align: right;\n",
       "    }\n",
       "</style>\n",
       "<table border=\"1\" class=\"dataframe\">\n",
       "  <thead>\n",
       "    <tr style=\"text-align: right;\">\n",
       "      <th></th>\n",
       "      <th>anon_id</th>\n",
       "      <th>pat_enc_csn_id_coded</th>\n",
       "      <th>inpatient_data_id_coded</th>\n",
       "      <th>admit_time</th>\n",
       "      <th>label</th>\n",
       "      <th>DBP</th>\n",
       "      <th>Pulse</th>\n",
       "      <th>RR</th>\n",
       "      <th>SBP</th>\n",
       "      <th>Temp</th>\n",
       "    </tr>\n",
       "  </thead>\n",
       "  <tbody>\n",
       "    <tr>\n",
       "      <th>0</th>\n",
       "      <td>JC29f8ad2</td>\n",
       "      <td>131274729058</td>\n",
       "      <td>40679773</td>\n",
       "      <td>2019-08-31 12:52:00+00:00</td>\n",
       "      <td>0</td>\n",
       "      <td>74</td>\n",
       "      <td>95</td>\n",
       "      <td>20</td>\n",
       "      <td>118</td>\n",
       "      <td>36.95</td>\n",
       "    </tr>\n",
       "    <tr>\n",
       "      <th>1</th>\n",
       "      <td>JC29f8ad3</td>\n",
       "      <td>131278291027</td>\n",
       "      <td>42992239</td>\n",
       "      <td>2019-10-05 23:48:00+00:00</td>\n",
       "      <td>0</td>\n",
       "      <td>59</td>\n",
       "      <td>78</td>\n",
       "      <td>18</td>\n",
       "      <td>90</td>\n",
       "      <td>36.85</td>\n",
       "    </tr>\n",
       "    <tr>\n",
       "      <th>2</th>\n",
       "      <td>JC29f8b9c</td>\n",
       "      <td>131266787806</td>\n",
       "      <td>36261582</td>\n",
       "      <td>2019-05-05 01:07:00+00:00</td>\n",
       "      <td>0</td>\n",
       "      <td>66</td>\n",
       "      <td>108</td>\n",
       "      <td>26</td>\n",
       "      <td>165</td>\n",
       "      <td>39.20</td>\n",
       "    </tr>\n",
       "    <tr>\n",
       "      <th>3</th>\n",
       "      <td>JC29f8beb</td>\n",
       "      <td>131264387263</td>\n",
       "      <td>34626013</td>\n",
       "      <td>2019-03-15 03:35:00+00:00</td>\n",
       "      <td>0</td>\n",
       "      <td>82</td>\n",
       "      <td>93</td>\n",
       "      <td>16</td>\n",
       "      <td>127</td>\n",
       "      <td>37.05</td>\n",
       "    </tr>\n",
       "    <tr>\n",
       "      <th>4</th>\n",
       "      <td>JC29f8beb</td>\n",
       "      <td>131279241689</td>\n",
       "      <td>43527040</td>\n",
       "      <td>2019-11-27 15:29:00+00:00</td>\n",
       "      <td>0</td>\n",
       "      <td>64</td>\n",
       "      <td>118</td>\n",
       "      <td>18</td>\n",
       "      <td>116</td>\n",
       "      <td>37.05</td>\n",
       "    </tr>\n",
       "  </tbody>\n",
       "</table>\n",
       "</div>"
      ],
      "text/plain": [
       "     anon_id  pat_enc_csn_id_coded  inpatient_data_id_coded  \\\n",
       "0  JC29f8ad2          131274729058                 40679773   \n",
       "1  JC29f8ad3          131278291027                 42992239   \n",
       "2  JC29f8b9c          131266787806                 36261582   \n",
       "3  JC29f8beb          131264387263                 34626013   \n",
       "4  JC29f8beb          131279241689                 43527040   \n",
       "\n",
       "                  admit_time  label  DBP  Pulse  RR  SBP   Temp  \n",
       "0  2019-08-31 12:52:00+00:00      0   74     95  20  118  36.95  \n",
       "1  2019-10-05 23:48:00+00:00      0   59     78  18   90  36.85  \n",
       "2  2019-05-05 01:07:00+00:00      0   66    108  26  165  39.20  \n",
       "3  2019-03-15 03:35:00+00:00      0   82     93  16  127  37.05  \n",
       "4  2019-11-27 15:29:00+00:00      0   64    118  18  116  37.05  "
      ]
     },
     "execution_count": 23,
     "metadata": {},
     "output_type": "execute_result"
    }
   ],
   "source": [
    "df = pd.read_csv(os.path.join(cohortdir, \"1_3_cohort.csv\"))\n",
    "print(len(df)) # 44258\n",
    "df.head(5)"
   ]
  },
  {
   "cell_type": "code",
   "execution_count": 24,
   "metadata": {
    "ExecuteTime": {
     "end_time": "2020-05-24T00:08:16.126871Z",
     "start_time": "2020-05-24T00:08:04.367245Z"
    }
   },
   "outputs": [
    {
     "name": "stderr",
     "output_type": "stream",
     "text": [
      "1it [00:03,  3.91s/it]\n"
     ]
    }
   ],
   "source": [
    "# %load_ext google.cloud.bigquery\n",
    "# cohort file\n",
    "table_schema = [{'name' : 'jc_uid', 'type' : 'STRING'},\n",
    "                {'name' : 'pat_enc_csn_id_coded', 'type' : 'INTEGER'},\n",
    "                {'name' : 'inpatient_data_id_coded', 'type': 'INTEGER'},\n",
    "                {'name' : 'admit_time', 'type' : 'TIMESTAMP'},\n",
    "                {'name' : 'label', 'type' : 'INTEGER'},\n",
    "                {'name' : 'DBP', 'type' : 'INTEGER'},\n",
    "                {'name' : 'SBP', 'type' : 'INTEGER'},\n",
    "                {'name' : 'Pulse', 'type' : 'INTEGER'},\n",
    "                {'name' : 'RR', 'type' : 'INTEGER'},\n",
    "                {'name' : 'Temp', 'type' : 'FLOAT'}]\n",
    "                       \n",
    "DATASET_NAME = 'triageTD'\n",
    "TABLE_NAME = '1_3_cohort'\n",
    "df.to_gbq(destination_table='triageTD.%s' % TABLE_NAME,\n",
    "          project_id='som-nero-phi-jonc101', \n",
    "          table_schema=table_schema,\n",
    "          if_exists='replace')"
   ]
  },
  {
   "cell_type": "markdown",
   "metadata": {},
   "source": [
    "### Use updated 1_3_cohort with reduced observation to query labs\n",
    "And push the cohort with labs to BQ"
   ]
  },
  {
   "cell_type": "code",
   "execution_count": 26,
   "metadata": {},
   "outputs": [],
   "source": [
    "q = open('../SQL/feature_values/m6_labs.sql', 'r')\n",
    "query_job =  client.query(q.read()).to_dataframe().to_csv(os.path.join(datadir, 'labs.csv'), index=False)"
   ]
  },
  {
   "cell_type": "code",
   "execution_count": 29,
   "metadata": {},
   "outputs": [
    {
     "name": "stdout",
     "output_type": "stream",
     "text": [
      "41627\n"
     ]
    },
    {
     "data": {
      "text/html": [
       "<div>\n",
       "<style scoped>\n",
       "    .dataframe tbody tr th:only-of-type {\n",
       "        vertical-align: middle;\n",
       "    }\n",
       "\n",
       "    .dataframe tbody tr th {\n",
       "        vertical-align: top;\n",
       "    }\n",
       "\n",
       "    .dataframe thead th {\n",
       "        text-align: right;\n",
       "    }\n",
       "</style>\n",
       "<table border=\"1\" class=\"dataframe\">\n",
       "  <thead>\n",
       "    <tr style=\"text-align: right;\">\n",
       "      <th></th>\n",
       "      <th>anon_id</th>\n",
       "      <th>pat_enc_csn_id_coded</th>\n",
       "      <th>inpatient_data_id_coded</th>\n",
       "      <th>admit_time</th>\n",
       "      <th>label</th>\n",
       "    </tr>\n",
       "  </thead>\n",
       "  <tbody>\n",
       "    <tr>\n",
       "      <th>0</th>\n",
       "      <td>JCe33305</td>\n",
       "      <td>131063880385</td>\n",
       "      <td>13777312</td>\n",
       "      <td>2015-01-04 08:11:00+00:00</td>\n",
       "      <td>0</td>\n",
       "    </tr>\n",
       "    <tr>\n",
       "      <th>1</th>\n",
       "      <td>JCcd4014</td>\n",
       "      <td>131178061474</td>\n",
       "      <td>18550319</td>\n",
       "      <td>2016-03-16 00:01:00+00:00</td>\n",
       "      <td>0</td>\n",
       "    </tr>\n",
       "    <tr>\n",
       "      <th>2</th>\n",
       "      <td>JCdbdb3f</td>\n",
       "      <td>131080211867</td>\n",
       "      <td>14791894</td>\n",
       "      <td>2015-03-09 01:31:00+00:00</td>\n",
       "      <td>0</td>\n",
       "    </tr>\n",
       "    <tr>\n",
       "      <th>3</th>\n",
       "      <td>JCeaa1bc</td>\n",
       "      <td>131064623255</td>\n",
       "      <td>13866526</td>\n",
       "      <td>2015-01-03 22:02:00+00:00</td>\n",
       "      <td>1</td>\n",
       "    </tr>\n",
       "    <tr>\n",
       "      <th>4</th>\n",
       "      <td>JCe46ec7</td>\n",
       "      <td>131082536687</td>\n",
       "      <td>14979032</td>\n",
       "      <td>2015-05-01 21:50:00+00:00</td>\n",
       "      <td>0</td>\n",
       "    </tr>\n",
       "  </tbody>\n",
       "</table>\n",
       "</div>"
      ],
      "text/plain": [
       "    anon_id  pat_enc_csn_id_coded  inpatient_data_id_coded  \\\n",
       "0  JCe33305          131063880385                 13777312   \n",
       "1  JCcd4014          131178061474                 18550319   \n",
       "2  JCdbdb3f          131080211867                 14791894   \n",
       "3  JCeaa1bc          131064623255                 13866526   \n",
       "4  JCe46ec7          131082536687                 14979032   \n",
       "\n",
       "                  admit_time  label  \n",
       "0  2015-01-04 08:11:00+00:00      0  \n",
       "1  2016-03-16 00:01:00+00:00      0  \n",
       "2  2015-03-09 01:31:00+00:00      0  \n",
       "3  2015-01-03 22:02:00+00:00      1  \n",
       "4  2015-05-01 21:50:00+00:00      0  "
      ]
     },
     "execution_count": 29,
     "metadata": {},
     "output_type": "execute_result"
    }
   ],
   "source": [
    "# after processing labs, retain cohort with labs:\n",
    "df = pd.read_csv(os.path.join(cohortdir, \"cohort3L_withlabs.csv\"))\n",
    "print(len(df)) # 44258\n",
    "df.head(5)"
   ]
  },
  {
   "cell_type": "code",
   "execution_count": 30,
   "metadata": {
    "ExecuteTime": {
     "end_time": "2020-05-24T00:08:16.126871Z",
     "start_time": "2020-05-24T00:08:04.367245Z"
    }
   },
   "outputs": [
    {
     "name": "stderr",
     "output_type": "stream",
     "text": [
      "1it [00:04,  4.93s/it]\n"
     ]
    }
   ],
   "source": [
    "# %load_ext google.cloud.bigquery\n",
    "# cohort file\n",
    "table_schema = [{'name' : 'jc_uid', 'type' : 'STRING'},\n",
    "                {'name' : 'pat_enc_csn_id_coded', 'type' : 'INTEGER'},\n",
    "                {'name' : 'inpatient_data_id_coded', 'type': 'INTEGER'},\n",
    "                {'name' : 'admit_time', 'type' : 'TIMESTAMP'},\n",
    "                {'name' : 'label', 'type' : 'INTEGER'}]\n",
    "                       \n",
    "DATASET_NAME = 'triageTD'\n",
    "TABLE_NAME = 'cohort3L_withlabs'\n",
    "df.to_gbq(destination_table='triageTD.%s' % TABLE_NAME,\n",
    "          project_id='som-nero-phi-jonc101', \n",
    "          table_schema=table_schema,\n",
    "          if_exists='replace')"
   ]
  },
  {
   "cell_type": "markdown",
   "metadata": {},
   "source": [
    "### Push some final datasets:\n",
    "- 1_4_cohort\n",
    "- 1_5_cohort_final\n",
    "- simple data (need to rename race.White to race_White, etc.... to push to avoid having a . in colnames)\n",
    "- full feature values dataset"
   ]
  },
  {
   "cell_type": "code",
   "execution_count": 5,
   "metadata": {},
   "outputs": [
    {
     "name": "stdout",
     "output_type": "stream",
     "text": [
      "(43980, 17)\n"
     ]
    },
    {
     "data": {
      "text/html": [
       "<div>\n",
       "<style scoped>\n",
       "    .dataframe tbody tr th:only-of-type {\n",
       "        vertical-align: middle;\n",
       "    }\n",
       "\n",
       "    .dataframe tbody tr th {\n",
       "        vertical-align: top;\n",
       "    }\n",
       "\n",
       "    .dataframe thead th {\n",
       "        text-align: right;\n",
       "    }\n",
       "</style>\n",
       "<table border=\"1\" class=\"dataframe\">\n",
       "  <thead>\n",
       "    <tr style=\"text-align: right;\">\n",
       "      <th></th>\n",
       "      <th>anon_id</th>\n",
       "      <th>pat_enc_csn_id_coded</th>\n",
       "      <th>inpatient_data_id_coded</th>\n",
       "      <th>admit_time</th>\n",
       "      <th>label_max24</th>\n",
       "      <th>label_24hr_recent</th>\n",
       "      <th>admit_label</th>\n",
       "      <th>has_admit_label</th>\n",
       "      <th>died_within_24hrs</th>\n",
       "      <th>death_24hr_max_label</th>\n",
       "      <th>death_24hr_recent_label</th>\n",
       "      <th>first_label</th>\n",
       "      <th>first_label_minutes_since_admit</th>\n",
       "      <th>acute_to_critical_label_recent</th>\n",
       "      <th>critical_to_acute_label_recent</th>\n",
       "      <th>acute_to_critical_label_max</th>\n",
       "      <th>critical_to_acute_label_max</th>\n",
       "    </tr>\n",
       "  </thead>\n",
       "  <tbody>\n",
       "    <tr>\n",
       "      <th>0</th>\n",
       "      <td>JCd97296</td>\n",
       "      <td>131176042095</td>\n",
       "      <td>18290644</td>\n",
       "      <td>2016-02-06 22:31:00+00:00</td>\n",
       "      <td>0</td>\n",
       "      <td>0</td>\n",
       "      <td>NaN</td>\n",
       "      <td>0</td>\n",
       "      <td>0</td>\n",
       "      <td>0</td>\n",
       "      <td>0</td>\n",
       "      <td>0</td>\n",
       "      <td>1325.0</td>\n",
       "      <td>0</td>\n",
       "      <td>0</td>\n",
       "      <td>0</td>\n",
       "      <td>0</td>\n",
       "    </tr>\n",
       "    <tr>\n",
       "      <th>1</th>\n",
       "      <td>JCcdc7e1</td>\n",
       "      <td>131064611420</td>\n",
       "      <td>13865299</td>\n",
       "      <td>2015-01-15 21:16:00+00:00</td>\n",
       "      <td>1</td>\n",
       "      <td>1</td>\n",
       "      <td>1.0</td>\n",
       "      <td>1</td>\n",
       "      <td>0</td>\n",
       "      <td>1</td>\n",
       "      <td>1</td>\n",
       "      <td>1</td>\n",
       "      <td>0.0</td>\n",
       "      <td>0</td>\n",
       "      <td>0</td>\n",
       "      <td>0</td>\n",
       "      <td>0</td>\n",
       "    </tr>\n",
       "    <tr>\n",
       "      <th>2</th>\n",
       "      <td>JCe3e5f4</td>\n",
       "      <td>131072326078</td>\n",
       "      <td>14296997</td>\n",
       "      <td>2015-01-28 11:12:00+00:00</td>\n",
       "      <td>1</td>\n",
       "      <td>1</td>\n",
       "      <td>1.0</td>\n",
       "      <td>1</td>\n",
       "      <td>0</td>\n",
       "      <td>1</td>\n",
       "      <td>1</td>\n",
       "      <td>1</td>\n",
       "      <td>0.0</td>\n",
       "      <td>0</td>\n",
       "      <td>0</td>\n",
       "      <td>0</td>\n",
       "      <td>0</td>\n",
       "    </tr>\n",
       "    <tr>\n",
       "      <th>3</th>\n",
       "      <td>JCdcfce9</td>\n",
       "      <td>131178712824</td>\n",
       "      <td>18633398</td>\n",
       "      <td>2016-03-04 17:01:00+00:00</td>\n",
       "      <td>1</td>\n",
       "      <td>1</td>\n",
       "      <td>1.0</td>\n",
       "      <td>1</td>\n",
       "      <td>0</td>\n",
       "      <td>1</td>\n",
       "      <td>1</td>\n",
       "      <td>1</td>\n",
       "      <td>0.0</td>\n",
       "      <td>0</td>\n",
       "      <td>0</td>\n",
       "      <td>0</td>\n",
       "      <td>0</td>\n",
       "    </tr>\n",
       "    <tr>\n",
       "      <th>4</th>\n",
       "      <td>JCdaaaa6</td>\n",
       "      <td>131211945620</td>\n",
       "      <td>22773101</td>\n",
       "      <td>2016-12-07 22:17:00+00:00</td>\n",
       "      <td>0</td>\n",
       "      <td>0</td>\n",
       "      <td>0.0</td>\n",
       "      <td>1</td>\n",
       "      <td>0</td>\n",
       "      <td>0</td>\n",
       "      <td>0</td>\n",
       "      <td>0</td>\n",
       "      <td>0.0</td>\n",
       "      <td>0</td>\n",
       "      <td>0</td>\n",
       "      <td>0</td>\n",
       "      <td>0</td>\n",
       "    </tr>\n",
       "  </tbody>\n",
       "</table>\n",
       "</div>"
      ],
      "text/plain": [
       "    anon_id  pat_enc_csn_id_coded  inpatient_data_id_coded  \\\n",
       "0  JCd97296          131176042095                 18290644   \n",
       "1  JCcdc7e1          131064611420                 13865299   \n",
       "2  JCe3e5f4          131072326078                 14296997   \n",
       "3  JCdcfce9          131178712824                 18633398   \n",
       "4  JCdaaaa6          131211945620                 22773101   \n",
       "\n",
       "                  admit_time  label_max24  label_24hr_recent  admit_label  \\\n",
       "0  2016-02-06 22:31:00+00:00            0                  0          NaN   \n",
       "1  2015-01-15 21:16:00+00:00            1                  1          1.0   \n",
       "2  2015-01-28 11:12:00+00:00            1                  1          1.0   \n",
       "3  2016-03-04 17:01:00+00:00            1                  1          1.0   \n",
       "4  2016-12-07 22:17:00+00:00            0                  0          0.0   \n",
       "\n",
       "   has_admit_label  died_within_24hrs  death_24hr_max_label  \\\n",
       "0                0                  0                     0   \n",
       "1                1                  0                     1   \n",
       "2                1                  0                     1   \n",
       "3                1                  0                     1   \n",
       "4                1                  0                     0   \n",
       "\n",
       "   death_24hr_recent_label  first_label  first_label_minutes_since_admit  \\\n",
       "0                        0            0                           1325.0   \n",
       "1                        1            1                              0.0   \n",
       "2                        1            1                              0.0   \n",
       "3                        1            1                              0.0   \n",
       "4                        0            0                              0.0   \n",
       "\n",
       "   acute_to_critical_label_recent  critical_to_acute_label_recent  \\\n",
       "0                               0                               0   \n",
       "1                               0                               0   \n",
       "2                               0                               0   \n",
       "3                               0                               0   \n",
       "4                               0                               0   \n",
       "\n",
       "   acute_to_critical_label_max  critical_to_acute_label_max  \n",
       "0                            0                            0  \n",
       "1                            0                            0  \n",
       "2                            0                            0  \n",
       "3                            0                            0  \n",
       "4                            0                            0  "
      ]
     },
     "execution_count": 5,
     "metadata": {},
     "output_type": "execute_result"
    }
   ],
   "source": [
    "# from Tiffany's:\n",
    "df = pd.read_csv(os.path.join(cohortdir, \"1_4_cohort.csv\"))\n",
    "print(df.shape) # 43980\n",
    "df.head(5)"
   ]
  },
  {
   "cell_type": "code",
   "execution_count": 6,
   "metadata": {},
   "outputs": [],
   "source": [
    "df[\"admit_time\"] = pd.to_datetime(df[\"admit_time\"]) "
   ]
  },
  {
   "cell_type": "code",
   "execution_count": 7,
   "metadata": {},
   "outputs": [
    {
     "name": "stderr",
     "output_type": "stream",
     "text": [
      "/opt/conda/lib/python3.7/site-packages/google/auth/_default.py:70: UserWarning: Your application has authenticated using end user credentials from Google Cloud SDK without a quota project. You might receive a \"quota exceeded\" or \"API not enabled\" error. We recommend you rerun `gcloud auth application-default login` and make sure a quota project is added. Or you can use service accounts instead. For more information about service accounts, see https://cloud.google.com/docs/authentication/\n",
      "  warnings.warn(_CLOUD_SDK_CREDENTIALS_WARNING)\n",
      "1it [00:04,  4.65s/it]\n"
     ]
    }
   ],
   "source": [
    "DATASET_NAME = 'triageTD'\n",
    "TABLE_NAME = '1_4_cohort'\n",
    "df.to_gbq(destination_table='triageTD.%s' % TABLE_NAME,\n",
    "          project_id='som-nero-phi-jonc101', \n",
    "          if_exists='replace')"
   ]
  },
  {
   "cell_type": "code",
   "execution_count": 14,
   "metadata": {},
   "outputs": [
    {
     "name": "stdout",
     "output_type": "stream",
     "text": [
      "(41366, 17)\n"
     ]
    },
    {
     "data": {
      "text/html": [
       "<div>\n",
       "<style scoped>\n",
       "    .dataframe tbody tr th:only-of-type {\n",
       "        vertical-align: middle;\n",
       "    }\n",
       "\n",
       "    .dataframe tbody tr th {\n",
       "        vertical-align: top;\n",
       "    }\n",
       "\n",
       "    .dataframe thead th {\n",
       "        text-align: right;\n",
       "    }\n",
       "</style>\n",
       "<table border=\"1\" class=\"dataframe\">\n",
       "  <thead>\n",
       "    <tr style=\"text-align: right;\">\n",
       "      <th></th>\n",
       "      <th>anon_id</th>\n",
       "      <th>pat_enc_csn_id_coded</th>\n",
       "      <th>inpatient_data_id_coded</th>\n",
       "      <th>admit_time</th>\n",
       "      <th>label_max24</th>\n",
       "      <th>label_24hr_recent</th>\n",
       "      <th>admit_label</th>\n",
       "      <th>has_admit_label</th>\n",
       "      <th>died_within_24hrs</th>\n",
       "      <th>death_24hr_max_label</th>\n",
       "      <th>death_24hr_recent_label</th>\n",
       "      <th>first_label</th>\n",
       "      <th>first_label_minutes_since_admit</th>\n",
       "      <th>acute_to_critical_label_recent</th>\n",
       "      <th>critical_to_acute_label_recent</th>\n",
       "      <th>acute_to_critical_label_max</th>\n",
       "      <th>critical_to_acute_label_max</th>\n",
       "    </tr>\n",
       "  </thead>\n",
       "  <tbody>\n",
       "    <tr>\n",
       "      <th>0</th>\n",
       "      <td>JCe33305</td>\n",
       "      <td>131063880385</td>\n",
       "      <td>13777312</td>\n",
       "      <td>2015-01-04 08:11:00+00:00</td>\n",
       "      <td>0</td>\n",
       "      <td>0</td>\n",
       "      <td>0.0</td>\n",
       "      <td>1</td>\n",
       "      <td>0</td>\n",
       "      <td>0</td>\n",
       "      <td>0</td>\n",
       "      <td>0</td>\n",
       "      <td>0</td>\n",
       "      <td>0</td>\n",
       "      <td>0</td>\n",
       "      <td>0</td>\n",
       "      <td>0</td>\n",
       "    </tr>\n",
       "    <tr>\n",
       "      <th>1</th>\n",
       "      <td>JCcd4014</td>\n",
       "      <td>131178061474</td>\n",
       "      <td>18550319</td>\n",
       "      <td>2016-03-16 00:01:00+00:00</td>\n",
       "      <td>0</td>\n",
       "      <td>0</td>\n",
       "      <td>NaN</td>\n",
       "      <td>0</td>\n",
       "      <td>0</td>\n",
       "      <td>0</td>\n",
       "      <td>0</td>\n",
       "      <td>0</td>\n",
       "      <td>233</td>\n",
       "      <td>0</td>\n",
       "      <td>0</td>\n",
       "      <td>0</td>\n",
       "      <td>0</td>\n",
       "    </tr>\n",
       "    <tr>\n",
       "      <th>2</th>\n",
       "      <td>JCdbdb3f</td>\n",
       "      <td>131080211867</td>\n",
       "      <td>14791894</td>\n",
       "      <td>2015-03-09 01:31:00+00:00</td>\n",
       "      <td>0</td>\n",
       "      <td>0</td>\n",
       "      <td>0.0</td>\n",
       "      <td>1</td>\n",
       "      <td>0</td>\n",
       "      <td>0</td>\n",
       "      <td>0</td>\n",
       "      <td>0</td>\n",
       "      <td>0</td>\n",
       "      <td>0</td>\n",
       "      <td>0</td>\n",
       "      <td>0</td>\n",
       "      <td>0</td>\n",
       "    </tr>\n",
       "    <tr>\n",
       "      <th>3</th>\n",
       "      <td>JCeaa1bc</td>\n",
       "      <td>131064623255</td>\n",
       "      <td>13866526</td>\n",
       "      <td>2015-01-03 22:02:00+00:00</td>\n",
       "      <td>1</td>\n",
       "      <td>1</td>\n",
       "      <td>1.0</td>\n",
       "      <td>1</td>\n",
       "      <td>0</td>\n",
       "      <td>1</td>\n",
       "      <td>1</td>\n",
       "      <td>1</td>\n",
       "      <td>0</td>\n",
       "      <td>0</td>\n",
       "      <td>0</td>\n",
       "      <td>0</td>\n",
       "      <td>0</td>\n",
       "    </tr>\n",
       "    <tr>\n",
       "      <th>4</th>\n",
       "      <td>JCe46ec7</td>\n",
       "      <td>131082536687</td>\n",
       "      <td>14979032</td>\n",
       "      <td>2015-05-01 21:50:00+00:00</td>\n",
       "      <td>0</td>\n",
       "      <td>0</td>\n",
       "      <td>0.0</td>\n",
       "      <td>1</td>\n",
       "      <td>0</td>\n",
       "      <td>0</td>\n",
       "      <td>0</td>\n",
       "      <td>0</td>\n",
       "      <td>0</td>\n",
       "      <td>0</td>\n",
       "      <td>0</td>\n",
       "      <td>0</td>\n",
       "      <td>0</td>\n",
       "    </tr>\n",
       "  </tbody>\n",
       "</table>\n",
       "</div>"
      ],
      "text/plain": [
       "    anon_id  pat_enc_csn_id_coded  inpatient_data_id_coded  \\\n",
       "0  JCe33305          131063880385                 13777312   \n",
       "1  JCcd4014          131178061474                 18550319   \n",
       "2  JCdbdb3f          131080211867                 14791894   \n",
       "3  JCeaa1bc          131064623255                 13866526   \n",
       "4  JCe46ec7          131082536687                 14979032   \n",
       "\n",
       "                  admit_time  label_max24  label_24hr_recent  admit_label  \\\n",
       "0  2015-01-04 08:11:00+00:00            0                  0          0.0   \n",
       "1  2016-03-16 00:01:00+00:00            0                  0          NaN   \n",
       "2  2015-03-09 01:31:00+00:00            0                  0          0.0   \n",
       "3  2015-01-03 22:02:00+00:00            1                  1          1.0   \n",
       "4  2015-05-01 21:50:00+00:00            0                  0          0.0   \n",
       "\n",
       "   has_admit_label  died_within_24hrs  death_24hr_max_label  \\\n",
       "0                1                  0                     0   \n",
       "1                0                  0                     0   \n",
       "2                1                  0                     0   \n",
       "3                1                  0                     1   \n",
       "4                1                  0                     0   \n",
       "\n",
       "   death_24hr_recent_label  first_label  first_label_minutes_since_admit  \\\n",
       "0                        0            0                                0   \n",
       "1                        0            0                              233   \n",
       "2                        0            0                                0   \n",
       "3                        1            1                                0   \n",
       "4                        0            0                                0   \n",
       "\n",
       "   acute_to_critical_label_recent  critical_to_acute_label_recent  \\\n",
       "0                               0                               0   \n",
       "1                               0                               0   \n",
       "2                               0                               0   \n",
       "3                               0                               0   \n",
       "4                               0                               0   \n",
       "\n",
       "   acute_to_critical_label_max  critical_to_acute_label_max  \n",
       "0                            0                            0  \n",
       "1                            0                            0  \n",
       "2                            0                            0  \n",
       "3                            0                            0  \n",
       "4                            0                            0  "
      ]
     },
     "execution_count": 14,
     "metadata": {},
     "output_type": "execute_result"
    }
   ],
   "source": [
    "# after processing labs, retain cohort with labs:\n",
    "df = pd.read_csv(os.path.join(cohortdir, \"1_5_cohort_final.csv\"))\n",
    "print(df.shape) # 41366\n",
    "df.head(5)"
   ]
  },
  {
   "cell_type": "code",
   "execution_count": 12,
   "metadata": {},
   "outputs": [
    {
     "name": "stdout",
     "output_type": "stream",
     "text": [
      "['anon_id', 'pat_enc_csn_id_coded', 'inpatient_data_id_coded', 'admit_time', 'label_max24', 'label_24hr_recent', 'admit_label', 'has_admit_label', 'died_within_24hrs', 'death_24hr_max_label', 'death_24hr_recent_label', 'first_label', 'first_label_minutes_since_admit', 'acute_to_critical_label_recent', 'critical_to_acute_label_recent', 'acute_to_critical_label_max', 'critical_to_acute_label_max']\n"
     ]
    }
   ],
   "source": [
    "print(list(df.columns))"
   ]
  },
  {
   "cell_type": "code",
   "execution_count": 15,
   "metadata": {
    "ExecuteTime": {
     "end_time": "2020-05-24T00:08:16.126871Z",
     "start_time": "2020-05-24T00:08:04.367245Z"
    }
   },
   "outputs": [
    {
     "name": "stderr",
     "output_type": "stream",
     "text": [
      "1it [00:06,  6.80s/it]\n"
     ]
    }
   ],
   "source": [
    "# %load_ext google.cloud.bigquery\n",
    "# cohort file\n",
    "table_schema = [{'name' : 'jc_uid', 'type' : 'STRING'},\n",
    "                {'name' : 'pat_enc_csn_id_coded', 'type' : 'INTEGER'},\n",
    "                {'name' : 'inpatient_data_id_coded', 'type': 'INTEGER'},\n",
    "                {'name' : 'admit_time', 'type' : 'TIMESTAMP'},\n",
    "                {'name' : 'label_max24', 'type' : 'INTEGER'},\n",
    "                {'name' : 'label_24hr_recent', 'type' : 'INTEGER'},\n",
    "                {'name' : 'admit_label', 'type' : 'INTEGER'},\n",
    "                {'name' : 'has_admit_label', 'type' : 'INTEGER'},\n",
    "                {'name' : 'died_within_24hrs', 'type' : 'INTEGER'},\n",
    "                {'name' : 'death_24hr_max_label', 'type' : 'INTEGER'},\n",
    "                {'name' : 'death_24hr_recent_label', 'type' : 'INTEGER'},\n",
    "                {'name' : 'first_label', 'type' : 'INTEGER'}, \n",
    "                {'name' : 'first_label_minutes_since_admit', 'type' : 'INTEGER'},\n",
    "                {'name' : 'acute_to_critical_label_recent', 'type' : 'INTEGER'},\n",
    "                {'name' : 'critical_to_acute_label_recent', 'type' : 'INTEGER'},\n",
    "                {'name' : 'acute_to_critical_label_max', 'type' : 'INTEGER'},\n",
    "                {'name' : 'critical_to_acute_label_max', 'type' : 'INTEGER'}]\n",
    "                       \n",
    "DATASET_NAME = 'triageTD'\n",
    "TABLE_NAME = '1_5_cohort_final'\n",
    "df.to_gbq(destination_table='triageTD.%s' % TABLE_NAME,\n",
    "          project_id='som-nero-phi-jonc101', \n",
    "          table_schema=table_schema,\n",
    "          if_exists='replace')"
   ]
  },
  {
   "cell_type": "code",
   "execution_count": 33,
   "metadata": {},
   "outputs": [
    {
     "name": "stdout",
     "output_type": "stream",
     "text": [
      "(41366, 81)\n"
     ]
    },
    {
     "data": {
      "text/html": [
       "<div>\n",
       "<style scoped>\n",
       "    .dataframe tbody tr th:only-of-type {\n",
       "        vertical-align: middle;\n",
       "    }\n",
       "\n",
       "    .dataframe tbody tr th {\n",
       "        vertical-align: top;\n",
       "    }\n",
       "\n",
       "    .dataframe thead th {\n",
       "        text-align: right;\n",
       "    }\n",
       "</style>\n",
       "<table border=\"1\" class=\"dataframe\">\n",
       "  <thead>\n",
       "    <tr style=\"text-align: right;\">\n",
       "      <th></th>\n",
       "      <th>anon_id</th>\n",
       "      <th>pat_enc_csn_id_coded</th>\n",
       "      <th>first_label</th>\n",
       "      <th>death_24hr_recent_label</th>\n",
       "      <th>ESI_i</th>\n",
       "      <th>delta_ESI</th>\n",
       "      <th>gender</th>\n",
       "      <th>age</th>\n",
       "      <th>insurance</th>\n",
       "      <th>English</th>\n",
       "      <th>Height_i</th>\n",
       "      <th>delta_H</th>\n",
       "      <th>Weight_i</th>\n",
       "      <th>delta_W</th>\n",
       "      <th>race.Asian</th>\n",
       "      <th>race.Black</th>\n",
       "      <th>race.Native.American</th>\n",
       "      <th>race.Other</th>\n",
       "      <th>race.Pacific.Islander</th>\n",
       "      <th>race.Unknown</th>\n",
       "      <th>race.White</th>\n",
       "      <th>DBP_count</th>\n",
       "      <th>DBP_first_val</th>\n",
       "    </tr>\n",
       "  </thead>\n",
       "  <tbody>\n",
       "    <tr>\n",
       "      <th>0</th>\n",
       "      <td>JCe33305</td>\n",
       "      <td>131063880385</td>\n",
       "      <td>0</td>\n",
       "      <td>0</td>\n",
       "      <td>3</td>\n",
       "      <td>0</td>\n",
       "      <td>1</td>\n",
       "      <td>56</td>\n",
       "      <td>1</td>\n",
       "      <td>1</td>\n",
       "      <td>163.0</td>\n",
       "      <td>0</td>\n",
       "      <td>60.0</td>\n",
       "      <td>0</td>\n",
       "      <td>0</td>\n",
       "      <td>1</td>\n",
       "      <td>0</td>\n",
       "      <td>0</td>\n",
       "      <td>0</td>\n",
       "      <td>0</td>\n",
       "      <td>0</td>\n",
       "      <td>13</td>\n",
       "      <td>68</td>\n",
       "    </tr>\n",
       "    <tr>\n",
       "      <th>1</th>\n",
       "      <td>JCcd4014</td>\n",
       "      <td>131178061474</td>\n",
       "      <td>0</td>\n",
       "      <td>0</td>\n",
       "      <td>3</td>\n",
       "      <td>0</td>\n",
       "      <td>1</td>\n",
       "      <td>81</td>\n",
       "      <td>1</td>\n",
       "      <td>1</td>\n",
       "      <td>163.0</td>\n",
       "      <td>0</td>\n",
       "      <td>97.0</td>\n",
       "      <td>0</td>\n",
       "      <td>0</td>\n",
       "      <td>1</td>\n",
       "      <td>0</td>\n",
       "      <td>0</td>\n",
       "      <td>0</td>\n",
       "      <td>0</td>\n",
       "      <td>0</td>\n",
       "      <td>13</td>\n",
       "      <td>109</td>\n",
       "    </tr>\n",
       "    <tr>\n",
       "      <th>2</th>\n",
       "      <td>JCdbdb3f</td>\n",
       "      <td>131080211867</td>\n",
       "      <td>0</td>\n",
       "      <td>0</td>\n",
       "      <td>3</td>\n",
       "      <td>0</td>\n",
       "      <td>1</td>\n",
       "      <td>79</td>\n",
       "      <td>0</td>\n",
       "      <td>1</td>\n",
       "      <td>155.0</td>\n",
       "      <td>0</td>\n",
       "      <td>56.0</td>\n",
       "      <td>0</td>\n",
       "      <td>1</td>\n",
       "      <td>0</td>\n",
       "      <td>0</td>\n",
       "      <td>0</td>\n",
       "      <td>0</td>\n",
       "      <td>0</td>\n",
       "      <td>0</td>\n",
       "      <td>6</td>\n",
       "      <td>60</td>\n",
       "    </tr>\n",
       "    <tr>\n",
       "      <th>3</th>\n",
       "      <td>JCeaa1bc</td>\n",
       "      <td>131064623255</td>\n",
       "      <td>1</td>\n",
       "      <td>1</td>\n",
       "      <td>2</td>\n",
       "      <td>0</td>\n",
       "      <td>0</td>\n",
       "      <td>51</td>\n",
       "      <td>1</td>\n",
       "      <td>1</td>\n",
       "      <td>190.0</td>\n",
       "      <td>0</td>\n",
       "      <td>79.0</td>\n",
       "      <td>0</td>\n",
       "      <td>0</td>\n",
       "      <td>0</td>\n",
       "      <td>0</td>\n",
       "      <td>0</td>\n",
       "      <td>0</td>\n",
       "      <td>0</td>\n",
       "      <td>1</td>\n",
       "      <td>28</td>\n",
       "      <td>62</td>\n",
       "    </tr>\n",
       "  </tbody>\n",
       "</table>\n",
       "</div>"
      ],
      "text/plain": [
       "    anon_id  pat_enc_csn_id_coded  first_label  death_24hr_recent_label  \\\n",
       "0  JCe33305          131063880385            0                        0   \n",
       "1  JCcd4014          131178061474            0                        0   \n",
       "2  JCdbdb3f          131080211867            0                        0   \n",
       "3  JCeaa1bc          131064623255            1                        1   \n",
       "\n",
       "   ESI_i  delta_ESI  gender  age  insurance  English  Height_i  delta_H  \\\n",
       "0      3          0       1   56          1        1     163.0        0   \n",
       "1      3          0       1   81          1        1     163.0        0   \n",
       "2      3          0       1   79          0        1     155.0        0   \n",
       "3      2          0       0   51          1        1     190.0        0   \n",
       "\n",
       "   Weight_i  delta_W  race.Asian  race.Black  race.Native.American  \\\n",
       "0      60.0        0           0           1                     0   \n",
       "1      97.0        0           0           1                     0   \n",
       "2      56.0        0           1           0                     0   \n",
       "3      79.0        0           0           0                     0   \n",
       "\n",
       "   race.Other  race.Pacific.Islander  race.Unknown  race.White  DBP_count  \\\n",
       "0           0                      0             0           0         13   \n",
       "1           0                      0             0           0         13   \n",
       "2           0                      0             0           0          6   \n",
       "3           0                      0             0           1         28   \n",
       "\n",
       "   DBP_first_val  \n",
       "0             68  \n",
       "1            109  \n",
       "2             60  \n",
       "3             62  "
      ]
     },
     "execution_count": 33,
     "metadata": {},
     "output_type": "execute_result"
    }
   ],
   "source": [
    "# simple data with vitals sum stats\n",
    "df = pd.read_csv(os.path.join(featuredir, \"2_6_simpledata.csv\"))\n",
    "print(df.shape) # 41366\n",
    "df.iloc[0:4, 0:23]"
   ]
  },
  {
   "cell_type": "code",
   "execution_count": 34,
   "metadata": {},
   "outputs": [
    {
     "data": {
      "text/html": [
       "<div>\n",
       "<style scoped>\n",
       "    .dataframe tbody tr th:only-of-type {\n",
       "        vertical-align: middle;\n",
       "    }\n",
       "\n",
       "    .dataframe tbody tr th {\n",
       "        vertical-align: top;\n",
       "    }\n",
       "\n",
       "    .dataframe thead th {\n",
       "        text-align: right;\n",
       "    }\n",
       "</style>\n",
       "<table border=\"1\" class=\"dataframe\">\n",
       "  <thead>\n",
       "    <tr style=\"text-align: right;\">\n",
       "      <th></th>\n",
       "      <th>anon_id</th>\n",
       "      <th>pat_enc_csn_id_coded</th>\n",
       "      <th>first_label</th>\n",
       "      <th>death_24hr_recent_label</th>\n",
       "      <th>ESI_i</th>\n",
       "      <th>delta_ESI</th>\n",
       "      <th>gender</th>\n",
       "      <th>age</th>\n",
       "      <th>insurance</th>\n",
       "      <th>English</th>\n",
       "      <th>Height_i</th>\n",
       "      <th>delta_H</th>\n",
       "      <th>Weight_i</th>\n",
       "      <th>delta_W</th>\n",
       "      <th>race_Asian</th>\n",
       "      <th>race_Black</th>\n",
       "      <th>race_Native_American</th>\n",
       "      <th>race_Other</th>\n",
       "      <th>race_Pacific_Islander</th>\n",
       "      <th>race_Unknown</th>\n",
       "      <th>race_White</th>\n",
       "      <th>DBP_count</th>\n",
       "      <th>DBP_first_val</th>\n",
       "    </tr>\n",
       "  </thead>\n",
       "  <tbody>\n",
       "    <tr>\n",
       "      <th>0</th>\n",
       "      <td>JCe33305</td>\n",
       "      <td>131063880385</td>\n",
       "      <td>0</td>\n",
       "      <td>0</td>\n",
       "      <td>3</td>\n",
       "      <td>0</td>\n",
       "      <td>1</td>\n",
       "      <td>56</td>\n",
       "      <td>1</td>\n",
       "      <td>1</td>\n",
       "      <td>163.0</td>\n",
       "      <td>0</td>\n",
       "      <td>60.0</td>\n",
       "      <td>0</td>\n",
       "      <td>0</td>\n",
       "      <td>1</td>\n",
       "      <td>0</td>\n",
       "      <td>0</td>\n",
       "      <td>0</td>\n",
       "      <td>0</td>\n",
       "      <td>0</td>\n",
       "      <td>13</td>\n",
       "      <td>68</td>\n",
       "    </tr>\n",
       "    <tr>\n",
       "      <th>1</th>\n",
       "      <td>JCcd4014</td>\n",
       "      <td>131178061474</td>\n",
       "      <td>0</td>\n",
       "      <td>0</td>\n",
       "      <td>3</td>\n",
       "      <td>0</td>\n",
       "      <td>1</td>\n",
       "      <td>81</td>\n",
       "      <td>1</td>\n",
       "      <td>1</td>\n",
       "      <td>163.0</td>\n",
       "      <td>0</td>\n",
       "      <td>97.0</td>\n",
       "      <td>0</td>\n",
       "      <td>0</td>\n",
       "      <td>1</td>\n",
       "      <td>0</td>\n",
       "      <td>0</td>\n",
       "      <td>0</td>\n",
       "      <td>0</td>\n",
       "      <td>0</td>\n",
       "      <td>13</td>\n",
       "      <td>109</td>\n",
       "    </tr>\n",
       "    <tr>\n",
       "      <th>2</th>\n",
       "      <td>JCdbdb3f</td>\n",
       "      <td>131080211867</td>\n",
       "      <td>0</td>\n",
       "      <td>0</td>\n",
       "      <td>3</td>\n",
       "      <td>0</td>\n",
       "      <td>1</td>\n",
       "      <td>79</td>\n",
       "      <td>0</td>\n",
       "      <td>1</td>\n",
       "      <td>155.0</td>\n",
       "      <td>0</td>\n",
       "      <td>56.0</td>\n",
       "      <td>0</td>\n",
       "      <td>1</td>\n",
       "      <td>0</td>\n",
       "      <td>0</td>\n",
       "      <td>0</td>\n",
       "      <td>0</td>\n",
       "      <td>0</td>\n",
       "      <td>0</td>\n",
       "      <td>6</td>\n",
       "      <td>60</td>\n",
       "    </tr>\n",
       "    <tr>\n",
       "      <th>3</th>\n",
       "      <td>JCeaa1bc</td>\n",
       "      <td>131064623255</td>\n",
       "      <td>1</td>\n",
       "      <td>1</td>\n",
       "      <td>2</td>\n",
       "      <td>0</td>\n",
       "      <td>0</td>\n",
       "      <td>51</td>\n",
       "      <td>1</td>\n",
       "      <td>1</td>\n",
       "      <td>190.0</td>\n",
       "      <td>0</td>\n",
       "      <td>79.0</td>\n",
       "      <td>0</td>\n",
       "      <td>0</td>\n",
       "      <td>0</td>\n",
       "      <td>0</td>\n",
       "      <td>0</td>\n",
       "      <td>0</td>\n",
       "      <td>0</td>\n",
       "      <td>1</td>\n",
       "      <td>28</td>\n",
       "      <td>62</td>\n",
       "    </tr>\n",
       "  </tbody>\n",
       "</table>\n",
       "</div>"
      ],
      "text/plain": [
       "    anon_id  pat_enc_csn_id_coded  first_label  death_24hr_recent_label  \\\n",
       "0  JCe33305          131063880385            0                        0   \n",
       "1  JCcd4014          131178061474            0                        0   \n",
       "2  JCdbdb3f          131080211867            0                        0   \n",
       "3  JCeaa1bc          131064623255            1                        1   \n",
       "\n",
       "   ESI_i  delta_ESI  gender  age  insurance  English  Height_i  delta_H  \\\n",
       "0      3          0       1   56          1        1     163.0        0   \n",
       "1      3          0       1   81          1        1     163.0        0   \n",
       "2      3          0       1   79          0        1     155.0        0   \n",
       "3      2          0       0   51          1        1     190.0        0   \n",
       "\n",
       "   Weight_i  delta_W  race_Asian  race_Black  race_Native_American  \\\n",
       "0      60.0        0           0           1                     0   \n",
       "1      97.0        0           0           1                     0   \n",
       "2      56.0        0           1           0                     0   \n",
       "3      79.0        0           0           0                     0   \n",
       "\n",
       "   race_Other  race_Pacific_Islander  race_Unknown  race_White  DBP_count  \\\n",
       "0           0                      0             0           0         13   \n",
       "1           0                      0             0           0         13   \n",
       "2           0                      0             0           0          6   \n",
       "3           0                      0             0           1         28   \n",
       "\n",
       "   DBP_first_val  \n",
       "0             68  \n",
       "1            109  \n",
       "2             60  \n",
       "3             62  "
      ]
     },
     "execution_count": 34,
     "metadata": {},
     "output_type": "execute_result"
    }
   ],
   "source": [
    "df.columns = df.columns.str.replace(\".\", \"_\")\n",
    "df.iloc[0:4, 0:23]"
   ]
  },
  {
   "cell_type": "code",
   "execution_count": 35,
   "metadata": {
    "ExecuteTime": {
     "end_time": "2020-05-24T00:08:16.126871Z",
     "start_time": "2020-05-24T00:08:04.367245Z"
    }
   },
   "outputs": [
    {
     "name": "stderr",
     "output_type": "stream",
     "text": [
      "1it [00:22, 22.16s/it]\n"
     ]
    }
   ],
   "source": [
    "# can't push because of colnames have a dot (from one-hot coding) --> need to rename to push             \n",
    "DATASET_NAME = 'triageTD'\n",
    "TABLE_NAME = '2_6_simpledata'\n",
    "df.to_gbq(destination_table='triageTD.%s' % TABLE_NAME,\n",
    "          project_id='som-nero-phi-jonc101', \n",
    "          if_exists='replace')"
   ]
  },
  {
   "cell_type": "code",
   "execution_count": 18,
   "metadata": {},
   "outputs": [
    {
     "name": "stderr",
     "output_type": "stream",
     "text": [
      "C:\\Users\\User\\anaconda3\\lib\\site-packages\\IPython\\core\\interactiveshell.py:3146: DtypeWarning: Columns (8) have mixed types.Specify dtype option on import or set low_memory=False.\n",
      "  has_raised = await self.run_ast_nodes(code_ast.body, cell_name,\n"
     ]
    },
    {
     "name": "stdout",
     "output_type": "stream",
     "text": [
      "3012942\n"
     ]
    },
    {
     "data": {
      "text/html": [
       "<div>\n",
       "<style scoped>\n",
       "    .dataframe tbody tr th:only-of-type {\n",
       "        vertical-align: middle;\n",
       "    }\n",
       "\n",
       "    .dataframe tbody tr th {\n",
       "        vertical-align: top;\n",
       "    }\n",
       "\n",
       "    .dataframe thead th {\n",
       "        text-align: right;\n",
       "    }\n",
       "</style>\n",
       "<table border=\"1\" class=\"dataframe\">\n",
       "  <thead>\n",
       "    <tr style=\"text-align: right;\">\n",
       "      <th></th>\n",
       "      <th>anon_id</th>\n",
       "      <th>pat_enc_csn_id_coded</th>\n",
       "      <th>admit_time</th>\n",
       "      <th>first_label</th>\n",
       "      <th>death_24hr_recent_label</th>\n",
       "      <th>feature_type</th>\n",
       "      <th>features</th>\n",
       "      <th>values</th>\n",
       "      <th>time</th>\n",
       "    </tr>\n",
       "  </thead>\n",
       "  <tbody>\n",
       "    <tr>\n",
       "      <th>0</th>\n",
       "      <td>JC29f8ad2</td>\n",
       "      <td>131274729058</td>\n",
       "      <td>2019-08-31 12:52:00+00:00</td>\n",
       "      <td>0</td>\n",
       "      <td>0</td>\n",
       "      <td>demo</td>\n",
       "      <td>ESI_i</td>\n",
       "      <td>3.0</td>\n",
       "      <td>NaN</td>\n",
       "    </tr>\n",
       "    <tr>\n",
       "      <th>1</th>\n",
       "      <td>JC29f8ad3</td>\n",
       "      <td>131278291027</td>\n",
       "      <td>2019-10-05 23:48:00+00:00</td>\n",
       "      <td>0</td>\n",
       "      <td>0</td>\n",
       "      <td>demo</td>\n",
       "      <td>ESI_i</td>\n",
       "      <td>3.0</td>\n",
       "      <td>NaN</td>\n",
       "    </tr>\n",
       "    <tr>\n",
       "      <th>2</th>\n",
       "      <td>JC29f8b9c</td>\n",
       "      <td>131266787806</td>\n",
       "      <td>2019-05-05 01:07:00+00:00</td>\n",
       "      <td>0</td>\n",
       "      <td>0</td>\n",
       "      <td>demo</td>\n",
       "      <td>ESI_i</td>\n",
       "      <td>2.0</td>\n",
       "      <td>NaN</td>\n",
       "    </tr>\n",
       "    <tr>\n",
       "      <th>3</th>\n",
       "      <td>JC29f8beb</td>\n",
       "      <td>131264387263</td>\n",
       "      <td>2019-03-15 03:35:00+00:00</td>\n",
       "      <td>0</td>\n",
       "      <td>0</td>\n",
       "      <td>demo</td>\n",
       "      <td>ESI_i</td>\n",
       "      <td>3.0</td>\n",
       "      <td>NaN</td>\n",
       "    </tr>\n",
       "    <tr>\n",
       "      <th>4</th>\n",
       "      <td>JC29f8beb</td>\n",
       "      <td>131279241689</td>\n",
       "      <td>2019-11-27 15:29:00+00:00</td>\n",
       "      <td>0</td>\n",
       "      <td>0</td>\n",
       "      <td>demo</td>\n",
       "      <td>ESI_i</td>\n",
       "      <td>3.0</td>\n",
       "      <td>NaN</td>\n",
       "    </tr>\n",
       "  </tbody>\n",
       "</table>\n",
       "</div>"
      ],
      "text/plain": [
       "     anon_id  pat_enc_csn_id_coded                 admit_time  first_label  \\\n",
       "0  JC29f8ad2          131274729058  2019-08-31 12:52:00+00:00            0   \n",
       "1  JC29f8ad3          131278291027  2019-10-05 23:48:00+00:00            0   \n",
       "2  JC29f8b9c          131266787806  2019-05-05 01:07:00+00:00            0   \n",
       "3  JC29f8beb          131264387263  2019-03-15 03:35:00+00:00            0   \n",
       "4  JC29f8beb          131279241689  2019-11-27 15:29:00+00:00            0   \n",
       "\n",
       "   death_24hr_recent_label feature_type features  values time  \n",
       "0                        0         demo    ESI_i     3.0  NaN  \n",
       "1                        0         demo    ESI_i     3.0  NaN  \n",
       "2                        0         demo    ESI_i     2.0  NaN  \n",
       "3                        0         demo    ESI_i     3.0  NaN  \n",
       "4                        0         demo    ESI_i     3.0  NaN  "
      ]
     },
     "execution_count": 18,
     "metadata": {},
     "output_type": "execute_result"
    }
   ],
   "source": [
    "# final cohort data with all feature values, warning due to time NA for demos\n",
    "# will be use with feature counts\n",
    "df = pd.read_csv(os.path.join(featuredir, \"2_7_feature_values.csv\"))\n",
    "print(len(df)) # 3012942\n",
    "df.head(5)"
   ]
  },
  {
   "cell_type": "code",
   "execution_count": 20,
   "metadata": {
    "ExecuteTime": {
     "end_time": "2020-05-22T21:59:54.044007Z",
     "start_time": "2020-05-22T21:59:25.868190Z"
    }
   },
   "outputs": [
    {
     "name": "stderr",
     "output_type": "stream",
     "text": [
      "1it [02:55, 175.03s/it]\n"
     ]
    }
   ],
   "source": [
    "table_schema = [{'name' : 'anon_id', 'type' : 'STRING'},\n",
    "                {'name' : 'pat_enc_csn_id_coded', 'type' : 'INTEGER'},\n",
    "                {'name' : 'admit_time', 'type' : 'TIMESTAMP'},\n",
    "                {'name' : 'first_label', 'type' : 'INTEGER'},\n",
    "                {'name' : 'death_24hr_recent_label', 'type' : 'INTEGER'},\n",
    "                {'name' : 'feature_type', 'type' : 'STRING'},\n",
    "                {'name' : 'features', 'type' : 'STRING'},\n",
    "                {'name' : 'values', 'type' : 'FLOAT'},\n",
    "                {'name' : 'recorded_time', 'type' : 'TIMESTAMP'}]\n",
    "\n",
    "                       \n",
    "DATASET_NAME = 'triageTD'\n",
    "TABLE_NAME = '2_7_feature_values'\n",
    "df.to_gbq(destination_table='triageTD.%s' % TABLE_NAME,\n",
    "          project_id='som-nero-phi-jonc101',\n",
    "          table_schema=table_schema,\n",
    "          if_exists='replace')"
   ]
  },
  {
   "cell_type": "markdown",
   "metadata": {},
   "source": [
    "### Feature order counts "
   ]
  },
  {
   "cell_type": "code",
   "execution_count": 8,
   "metadata": {},
   "outputs": [],
   "source": [
    "q = open('../SQL/feature_counts/Code_Counts.sql', 'r')\n",
    "query_job =  client.query(q.read()).to_dataframe().to_csv(os.path.join(datadir, 'coh4_order_code_counts.csv'), index=False)"
   ]
  },
  {
   "cell_type": "code",
   "execution_count": 8,
   "metadata": {},
   "outputs": [
    {
     "name": "stdout",
     "output_type": "stream",
     "text": [
      "5730678\n"
     ]
    },
    {
     "data": {
      "text/html": [
       "<div>\n",
       "<style scoped>\n",
       "    .dataframe tbody tr th:only-of-type {\n",
       "        vertical-align: middle;\n",
       "    }\n",
       "\n",
       "    .dataframe tbody tr th {\n",
       "        vertical-align: top;\n",
       "    }\n",
       "\n",
       "    .dataframe thead th {\n",
       "        text-align: right;\n",
       "    }\n",
       "</style>\n",
       "<table border=\"1\" class=\"dataframe\">\n",
       "  <thead>\n",
       "    <tr style=\"text-align: right;\">\n",
       "      <th></th>\n",
       "      <th>anon_id</th>\n",
       "      <th>pat_enc_csn_id_coded</th>\n",
       "      <th>admit_time</th>\n",
       "      <th>feature_type</th>\n",
       "      <th>features</th>\n",
       "      <th>values</th>\n",
       "    </tr>\n",
       "  </thead>\n",
       "  <tbody>\n",
       "    <tr>\n",
       "      <th>0</th>\n",
       "      <td>JCe78a06</td>\n",
       "      <td>131062667066</td>\n",
       "      <td>2015-01-02 01:01:00+00:00</td>\n",
       "      <td>Diagnosis</td>\n",
       "      <td>I95.9</td>\n",
       "      <td>1</td>\n",
       "    </tr>\n",
       "    <tr>\n",
       "      <th>1</th>\n",
       "      <td>JCe78a06</td>\n",
       "      <td>131062667066</td>\n",
       "      <td>2015-01-02 01:01:00+00:00</td>\n",
       "      <td>Diagnosis</td>\n",
       "      <td>F41.1</td>\n",
       "      <td>1</td>\n",
       "    </tr>\n",
       "    <tr>\n",
       "      <th>2</th>\n",
       "      <td>JCe78a06</td>\n",
       "      <td>131062667066</td>\n",
       "      <td>2015-01-02 01:01:00+00:00</td>\n",
       "      <td>Diagnosis</td>\n",
       "      <td>I12.9</td>\n",
       "      <td>1</td>\n",
       "    </tr>\n",
       "    <tr>\n",
       "      <th>3</th>\n",
       "      <td>JCe78a06</td>\n",
       "      <td>131062667066</td>\n",
       "      <td>2015-01-02 01:01:00+00:00</td>\n",
       "      <td>Diagnosis</td>\n",
       "      <td>I99.8</td>\n",
       "      <td>1</td>\n",
       "    </tr>\n",
       "    <tr>\n",
       "      <th>4</th>\n",
       "      <td>JCe78a06</td>\n",
       "      <td>131062667066</td>\n",
       "      <td>2015-01-02 01:01:00+00:00</td>\n",
       "      <td>Lab</td>\n",
       "      <td>MAGNESIUM, SERUM/PLASMA</td>\n",
       "      <td>1</td>\n",
       "    </tr>\n",
       "  </tbody>\n",
       "</table>\n",
       "</div>"
      ],
      "text/plain": [
       "    anon_id  pat_enc_csn_id_coded                 admit_time feature_type  \\\n",
       "0  JCe78a06          131062667066  2015-01-02 01:01:00+00:00    Diagnosis   \n",
       "1  JCe78a06          131062667066  2015-01-02 01:01:00+00:00    Diagnosis   \n",
       "2  JCe78a06          131062667066  2015-01-02 01:01:00+00:00    Diagnosis   \n",
       "3  JCe78a06          131062667066  2015-01-02 01:01:00+00:00    Diagnosis   \n",
       "4  JCe78a06          131062667066  2015-01-02 01:01:00+00:00          Lab   \n",
       "\n",
       "                  features  values  \n",
       "0                    I95.9       1  \n",
       "1                    F41.1       1  \n",
       "2                    I12.9       1  \n",
       "3                    I99.8       1  \n",
       "4  MAGNESIUM, SERUM/PLASMA       1  "
      ]
     },
     "execution_count": 8,
     "metadata": {},
     "output_type": "execute_result"
    }
   ],
   "source": [
    "df = pd.read_csv(os.path.join(datadir, \"order_code_counts.csv\"))\n",
    "print(len(df)) # 5730678\n",
    "df.head(5)"
   ]
  },
  {
   "cell_type": "markdown",
   "metadata": {},
   "source": [
    "### Push 2_9_features_all_long\n",
    "This is the data set contains demos, vital and lab counts in bins, and order counts -- long format for modeling"
   ]
  },
  {
   "cell_type": "code",
   "execution_count": 17,
   "metadata": {},
   "outputs": [
    {
     "name": "stdout",
     "output_type": "stream",
     "text": [
      "8258975\n"
     ]
    },
    {
     "data": {
      "text/html": [
       "<div>\n",
       "<style scoped>\n",
       "    .dataframe tbody tr th:only-of-type {\n",
       "        vertical-align: middle;\n",
       "    }\n",
       "\n",
       "    .dataframe tbody tr th {\n",
       "        vertical-align: top;\n",
       "    }\n",
       "\n",
       "    .dataframe thead th {\n",
       "        text-align: right;\n",
       "    }\n",
       "</style>\n",
       "<table border=\"1\" class=\"dataframe\">\n",
       "  <thead>\n",
       "    <tr style=\"text-align: right;\">\n",
       "      <th></th>\n",
       "      <th>anon_id</th>\n",
       "      <th>pat_enc_csn_id_coded</th>\n",
       "      <th>admit_time</th>\n",
       "      <th>feature_type</th>\n",
       "      <th>features</th>\n",
       "      <th>values</th>\n",
       "    </tr>\n",
       "  </thead>\n",
       "  <tbody>\n",
       "    <tr>\n",
       "      <th>0</th>\n",
       "      <td>JC29f8ad2</td>\n",
       "      <td>131274729058</td>\n",
       "      <td>2019-08-31 12:52:00+00:00</td>\n",
       "      <td>demo</td>\n",
       "      <td>ESI_i</td>\n",
       "      <td>3.0</td>\n",
       "    </tr>\n",
       "    <tr>\n",
       "      <th>1</th>\n",
       "      <td>JC29f8ad3</td>\n",
       "      <td>131278291027</td>\n",
       "      <td>2019-10-05 23:48:00+00:00</td>\n",
       "      <td>demo</td>\n",
       "      <td>ESI_i</td>\n",
       "      <td>3.0</td>\n",
       "    </tr>\n",
       "    <tr>\n",
       "      <th>2</th>\n",
       "      <td>JC29f8b9c</td>\n",
       "      <td>131266787806</td>\n",
       "      <td>2019-05-05 01:07:00+00:00</td>\n",
       "      <td>demo</td>\n",
       "      <td>ESI_i</td>\n",
       "      <td>2.0</td>\n",
       "    </tr>\n",
       "    <tr>\n",
       "      <th>3</th>\n",
       "      <td>JC29f8beb</td>\n",
       "      <td>131264387263</td>\n",
       "      <td>2019-03-15 03:35:00+00:00</td>\n",
       "      <td>demo</td>\n",
       "      <td>ESI_i</td>\n",
       "      <td>3.0</td>\n",
       "    </tr>\n",
       "    <tr>\n",
       "      <th>4</th>\n",
       "      <td>JC29f8beb</td>\n",
       "      <td>131279241689</td>\n",
       "      <td>2019-11-27 15:29:00+00:00</td>\n",
       "      <td>demo</td>\n",
       "      <td>ESI_i</td>\n",
       "      <td>3.0</td>\n",
       "    </tr>\n",
       "  </tbody>\n",
       "</table>\n",
       "</div>"
      ],
      "text/plain": [
       "     anon_id  pat_enc_csn_id_coded                 admit_time feature_type  \\\n",
       "0  JC29f8ad2          131274729058  2019-08-31 12:52:00+00:00         demo   \n",
       "1  JC29f8ad3          131278291027  2019-10-05 23:48:00+00:00         demo   \n",
       "2  JC29f8b9c          131266787806  2019-05-05 01:07:00+00:00         demo   \n",
       "3  JC29f8beb          131264387263  2019-03-15 03:35:00+00:00         demo   \n",
       "4  JC29f8beb          131279241689  2019-11-27 15:29:00+00:00         demo   \n",
       "\n",
       "  features  values  \n",
       "0    ESI_i     3.0  \n",
       "1    ESI_i     3.0  \n",
       "2    ESI_i     2.0  \n",
       "3    ESI_i     3.0  \n",
       "4    ESI_i     3.0  "
      ]
     },
     "execution_count": 17,
     "metadata": {},
     "output_type": "execute_result"
    }
   ],
   "source": [
    "# this one only has trainbin\n",
    "df0 = pd.read_csv(os.path.join(featuredir, \"2_9_features_all_long.csv\"))\n",
    "print(len(df0)) # 8258975\n",
    "df0.head(5)"
   ]
  },
  {
   "cell_type": "code",
   "execution_count": 20,
   "metadata": {},
   "outputs": [],
   "source": [
    "df0[\"admit_time\"] = pd.to_datetime(df0[\"admit_time\"])\n",
    "df0['year'] = df0['admit_time'].dt.year"
   ]
  },
  {
   "cell_type": "code",
   "execution_count": 28,
   "metadata": {
    "ExecuteTime": {
     "end_time": "2020-05-22T21:59:54.044007Z",
     "start_time": "2020-05-22T21:59:25.868190Z"
    }
   },
   "outputs": [
    {
     "name": "stderr",
     "output_type": "stream",
     "text": [
      "1it [04:00, 240.71s/it]\n"
     ]
    }
   ],
   "source": [
    "table_schema = [{'name' : 'anon_id', 'type' : 'STRING'},\n",
    "                {'name' : 'pat_enc_csn_id_coded', 'type' : 'INTEGER'},\n",
    "                {'name' : 'admit_time', 'type' : 'TIMESTAMP'},\n",
    "                {'name' : 'feature_type', 'type' : 'STRING'},\n",
    "                {'name' : 'features', 'type' : 'STRING'},\n",
    "                {'name' : 'values', 'type' : 'FLOAT'},\n",
    "                {'name' : 'year', 'type': 'INTEGER'}]\n",
    "\n",
    "                       \n",
    "DATASET_NAME = 'triageTD'\n",
    "TABLE_NAME = '2_9_features_all_long'\n",
    "df0.to_gbq(destination_table='triageTD.%s' % TABLE_NAME,\n",
    "          project_id='som-nero-phi-jonc101',\n",
    "          table_schema=table_schema,\n",
    "          if_exists='replace')"
   ]
  },
  {
   "cell_type": "code",
   "execution_count": 11,
   "metadata": {},
   "outputs": [
    {
     "name": "stdout",
     "output_type": "stream",
     "text": [
      "10529994\n"
     ]
    },
    {
     "data": {
      "text/html": [
       "<div>\n",
       "<style scoped>\n",
       "    .dataframe tbody tr th:only-of-type {\n",
       "        vertical-align: middle;\n",
       "    }\n",
       "\n",
       "    .dataframe tbody tr th {\n",
       "        vertical-align: top;\n",
       "    }\n",
       "\n",
       "    .dataframe thead th {\n",
       "        text-align: right;\n",
       "    }\n",
       "</style>\n",
       "<table border=\"1\" class=\"dataframe\">\n",
       "  <thead>\n",
       "    <tr style=\"text-align: right;\">\n",
       "      <th></th>\n",
       "      <th>anon_id</th>\n",
       "      <th>pat_enc_csn_id_coded</th>\n",
       "      <th>admit_time</th>\n",
       "      <th>feature_type</th>\n",
       "      <th>features</th>\n",
       "      <th>values</th>\n",
       "      <th>year</th>\n",
       "    </tr>\n",
       "  </thead>\n",
       "  <tbody>\n",
       "    <tr>\n",
       "      <th>0</th>\n",
       "      <td>JC29f8ad2</td>\n",
       "      <td>131274729058</td>\n",
       "      <td>2019-08-31 12:52:00+00:00</td>\n",
       "      <td>demo</td>\n",
       "      <td>ESI_i</td>\n",
       "      <td>3.0</td>\n",
       "      <td>2019</td>\n",
       "    </tr>\n",
       "    <tr>\n",
       "      <th>1</th>\n",
       "      <td>JC29f8ad3</td>\n",
       "      <td>131278291027</td>\n",
       "      <td>2019-10-05 23:48:00+00:00</td>\n",
       "      <td>demo</td>\n",
       "      <td>ESI_i</td>\n",
       "      <td>3.0</td>\n",
       "      <td>2019</td>\n",
       "    </tr>\n",
       "    <tr>\n",
       "      <th>2</th>\n",
       "      <td>JC29f8b9c</td>\n",
       "      <td>131266787806</td>\n",
       "      <td>2019-05-05 01:07:00+00:00</td>\n",
       "      <td>demo</td>\n",
       "      <td>ESI_i</td>\n",
       "      <td>2.0</td>\n",
       "      <td>2019</td>\n",
       "    </tr>\n",
       "    <tr>\n",
       "      <th>3</th>\n",
       "      <td>JC29f8beb</td>\n",
       "      <td>131264387263</td>\n",
       "      <td>2019-03-15 03:35:00+00:00</td>\n",
       "      <td>demo</td>\n",
       "      <td>ESI_i</td>\n",
       "      <td>3.0</td>\n",
       "      <td>2019</td>\n",
       "    </tr>\n",
       "    <tr>\n",
       "      <th>4</th>\n",
       "      <td>JC29f8beb</td>\n",
       "      <td>131279241689</td>\n",
       "      <td>2019-11-27 15:29:00+00:00</td>\n",
       "      <td>demo</td>\n",
       "      <td>ESI_i</td>\n",
       "      <td>3.0</td>\n",
       "      <td>2019</td>\n",
       "    </tr>\n",
       "  </tbody>\n",
       "</table>\n",
       "</div>"
      ],
      "text/plain": [
       "     anon_id  pat_enc_csn_id_coded                 admit_time feature_type  \\\n",
       "0  JC29f8ad2          131274729058  2019-08-31 12:52:00+00:00         demo   \n",
       "1  JC29f8ad3          131278291027  2019-10-05 23:48:00+00:00         demo   \n",
       "2  JC29f8b9c          131266787806  2019-05-05 01:07:00+00:00         demo   \n",
       "3  JC29f8beb          131264387263  2019-03-15 03:35:00+00:00         demo   \n",
       "4  JC29f8beb          131279241689  2019-11-27 15:29:00+00:00         demo   \n",
       "\n",
       "  features  values  year  \n",
       "0    ESI_i     3.0  2019  \n",
       "1    ESI_i     3.0  2019  \n",
       "2    ESI_i     2.0  2019  \n",
       "3    ESI_i     3.0  2019  \n",
       "4    ESI_i     3.0  2019  "
      ]
     },
     "execution_count": 11,
     "metadata": {},
     "output_type": "execute_result"
    }
   ],
   "source": [
    "# this one only has trainbin and testbin for vitals and labs\n",
    "df = pd.read_csv(os.path.join(featuredir, \"2_9_coh4_features_all_long_year.csv\"))\n",
    "print(len(df)) # 10529994\n",
    "df.head(5)"
   ]
  },
  {
   "cell_type": "code",
   "execution_count": 12,
   "metadata": {
    "ExecuteTime": {
     "end_time": "2020-05-22T21:59:54.044007Z",
     "start_time": "2020-05-22T21:59:25.868190Z"
    }
   },
   "outputs": [
    {
     "name": "stderr",
     "output_type": "stream",
     "text": [
      "1it [02:50, 170.02s/it]\n"
     ]
    }
   ],
   "source": [
    "table_schema = [{'name' : 'anon_id', 'type' : 'STRING'},\n",
    "                {'name' : 'pat_enc_csn_id_coded', 'type' : 'INTEGER'},\n",
    "                {'name' : 'admit_time', 'type' : 'TIMESTAMP'},\n",
    "                {'name' : 'feature_type', 'type' : 'STRING'},\n",
    "                {'name' : 'features', 'type' : 'STRING'},\n",
    "                {'name' : 'values', 'type' : 'FLOAT'},\n",
    "                {'name' : 'year', 'type': 'INTEGER'}]\n",
    "\n",
    "                       \n",
    "DATASET_NAME = 'triageTD'\n",
    "TABLE_NAME = '2_9_coh4_features_all_long_year'\n",
    "df.to_gbq(destination_table='triageTD.%s' % TABLE_NAME,\n",
    "          project_id='som-nero-phi-jonc101',\n",
    "          table_schema=table_schema,\n",
    "          if_exists='replace')"
   ]
  },
  {
   "cell_type": "code",
   "execution_count": null,
   "metadata": {},
   "outputs": [],
   "source": []
  },
  {
   "cell_type": "raw",
   "metadata": {},
   "source": [
    "# check information on ADT to select patient class and service for querying original cohort\n",
    "q = \"\"\"\n",
    " SELECT f.*, EXTRACT(YEAR from f.admit_time) year\n",
    "    FROM triageTD.2_9_features_all_long f\n",
    "    RIGHT JOIN triageTD.1_5_cohort_final c\n",
    "    USING (pat_enc_csn_id_coded)\n",
    "\"\"\"\n",
    "query_job = client.query(q)\n",
    "df = query_job.to_dataframe()"
   ]
  },
  {
   "cell_type": "raw",
   "metadata": {},
   "source": [
    "df.to_csv(os.path.join(featuredir,\"2_9_features_all_long_withyear.csv\"), index=False)\n",
    "print(len(df)) #8258975"
   ]
  },
  {
   "cell_type": "raw",
   "metadata": {},
   "source": [
    "df0.equals(df)"
   ]
  },
  {
   "cell_type": "markdown",
   "metadata": {},
   "source": [
    "### CHECK ADT"
   ]
  },
  {
   "cell_type": "code",
   "execution_count": 10,
   "metadata": {},
   "outputs": [
    {
     "name": "stdout",
     "output_type": "stream",
     "text": [
      "886988\n"
     ]
    }
   ],
   "source": [
    "# this one for Tif's label notebook, with ADT information for label processing\n",
    "q = \"\"\"\n",
    "SELECT adt.anon_id, adt.pat_enc_csn_id_coded, adt.effective_time_jittered_utc, adt.seq_num_in_enc,\n",
    "        adt.pat_class, adt.base_pat_class_c, adt.pat_lvl_of_care_c, adt.pat_lv_of_care, \n",
    "        adt.event_type, adt.pat_service\n",
    "    \n",
    "FROM shc_core.adt adt\n",
    "RIGHT JOIN triageTD.1_2_cohort c \n",
    "ON adt.anon_id = c.anon_id and adt.pat_enc_csn_id_coded = c.pat_enc_csn_id_coded\n",
    "\"\"\"\n",
    "query_job = client.query(q)\n",
    "adt = query_job.to_dataframe()\n",
    "print(len(adt)) # 886988\n",
    "\n",
    "adt.to_csv(os.path.join(datadir, 'cohort_adt.csv'), index=False)"
   ]
  },
  {
   "cell_type": "markdown",
   "metadata": {},
   "source": [
    "### Check Admission under order_proc datatable"
   ]
  },
  {
   "cell_type": "code",
   "execution_count": 7,
   "metadata": {},
   "outputs": [
    {
     "name": "stdout",
     "output_type": "stream",
     "text": [
      "112576\n"
     ]
    }
   ],
   "source": [
    "q = \"\"\"\n",
    "SELECT o.order_type, o.display_name, o.description, o.order_class, \n",
    "       o.order_status, o.ordering_mode, o.order_time_jittered_utc, c.*\n",
    "FROM shc_core.order_proc o\n",
    "RIGHT JOIN triageTD.1_4_cohort c \n",
    "ON o.anon_id = c.anon_id and o.pat_enc_csn_id_coded = c.pat_enc_csn_id_coded\n",
    "WHERE o.order_type = \"Admission\"\n",
    "\"\"\"\n",
    "query_job = client.query(q)\n",
    "ordproc = query_job.to_dataframe()\n",
    "print(len(ordproc)) #  all 17646270 takes a long time, only admission 112576"
   ]
  },
  {
   "cell_type": "code",
   "execution_count": 8,
   "metadata": {},
   "outputs": [],
   "source": [
    "ordproc.to_csv(os.path.join(datadir, '1_4_cohort_orderproc_adm.csv'), index=False)"
   ]
  },
  {
   "cell_type": "markdown",
   "metadata": {},
   "source": [
    "### Push to BQ other files"
   ]
  },
  {
   "cell_type": "code",
   "execution_count": 17,
   "metadata": {
    "ExecuteTime": {
     "end_time": "2020-05-24T00:08:31.661693Z",
     "start_time": "2020-05-24T00:08:31.555972Z"
    }
   },
   "outputs": [
    {
     "name": "stdout",
     "output_type": "stream",
     "text": [
      "44258\n",
      "['anon_id', 'pat_enc_csn_id_coded', 'inpatient_data_id_coded', 'admit_time', 'label', 'ESI_i', 'delta_ESI', 'gender', 'age', 'insurance', 'English', 'Height_i', 'delta_H', 'Weight_i', 'delta_W', 'race.Asian', 'race.Black', 'race.Native.American', 'race.Other', 'race.Pacific.Islander', 'race.Unknown', 'race.White']\n"
     ]
    },
    {
     "data": {
      "text/html": [
       "<div>\n",
       "<style scoped>\n",
       "    .dataframe tbody tr th:only-of-type {\n",
       "        vertical-align: middle;\n",
       "    }\n",
       "\n",
       "    .dataframe tbody tr th {\n",
       "        vertical-align: top;\n",
       "    }\n",
       "\n",
       "    .dataframe thead th {\n",
       "        text-align: right;\n",
       "    }\n",
       "</style>\n",
       "<table border=\"1\" class=\"dataframe\">\n",
       "  <thead>\n",
       "    <tr style=\"text-align: right;\">\n",
       "      <th></th>\n",
       "      <th>anon_id</th>\n",
       "      <th>pat_enc_csn_id_coded</th>\n",
       "      <th>inpatient_data_id_coded</th>\n",
       "      <th>admit_time</th>\n",
       "      <th>label</th>\n",
       "      <th>ESI_i</th>\n",
       "      <th>delta_ESI</th>\n",
       "      <th>gender</th>\n",
       "      <th>age</th>\n",
       "      <th>insurance</th>\n",
       "      <th>...</th>\n",
       "      <th>delta_H</th>\n",
       "      <th>Weight_i</th>\n",
       "      <th>delta_W</th>\n",
       "      <th>race.Asian</th>\n",
       "      <th>race.Black</th>\n",
       "      <th>race.Native.American</th>\n",
       "      <th>race.Other</th>\n",
       "      <th>race.Pacific.Islander</th>\n",
       "      <th>race.Unknown</th>\n",
       "      <th>race.White</th>\n",
       "    </tr>\n",
       "  </thead>\n",
       "  <tbody>\n",
       "    <tr>\n",
       "      <th>0</th>\n",
       "      <td>JC29f8ad2</td>\n",
       "      <td>131274729058</td>\n",
       "      <td>40679773</td>\n",
       "      <td>2019-08-31 12:52:00</td>\n",
       "      <td>0</td>\n",
       "      <td>3</td>\n",
       "      <td>0</td>\n",
       "      <td>1</td>\n",
       "      <td>52</td>\n",
       "      <td>1</td>\n",
       "      <td>...</td>\n",
       "      <td>0</td>\n",
       "      <td>81.0</td>\n",
       "      <td>0</td>\n",
       "      <td>0</td>\n",
       "      <td>0</td>\n",
       "      <td>0</td>\n",
       "      <td>0</td>\n",
       "      <td>0</td>\n",
       "      <td>0</td>\n",
       "      <td>1</td>\n",
       "    </tr>\n",
       "    <tr>\n",
       "      <th>1</th>\n",
       "      <td>JC29f8ad3</td>\n",
       "      <td>131278291027</td>\n",
       "      <td>42992239</td>\n",
       "      <td>2019-10-05 23:48:00</td>\n",
       "      <td>0</td>\n",
       "      <td>3</td>\n",
       "      <td>0</td>\n",
       "      <td>1</td>\n",
       "      <td>35</td>\n",
       "      <td>1</td>\n",
       "      <td>...</td>\n",
       "      <td>1</td>\n",
       "      <td>71.0</td>\n",
       "      <td>1</td>\n",
       "      <td>1</td>\n",
       "      <td>0</td>\n",
       "      <td>0</td>\n",
       "      <td>0</td>\n",
       "      <td>0</td>\n",
       "      <td>0</td>\n",
       "      <td>0</td>\n",
       "    </tr>\n",
       "    <tr>\n",
       "      <th>2</th>\n",
       "      <td>JC29f8b9c</td>\n",
       "      <td>131266787806</td>\n",
       "      <td>36261582</td>\n",
       "      <td>2019-05-05 01:07:00</td>\n",
       "      <td>0</td>\n",
       "      <td>2</td>\n",
       "      <td>0</td>\n",
       "      <td>0</td>\n",
       "      <td>59</td>\n",
       "      <td>0</td>\n",
       "      <td>...</td>\n",
       "      <td>1</td>\n",
       "      <td>58.0</td>\n",
       "      <td>1</td>\n",
       "      <td>0</td>\n",
       "      <td>0</td>\n",
       "      <td>0</td>\n",
       "      <td>0</td>\n",
       "      <td>0</td>\n",
       "      <td>1</td>\n",
       "      <td>0</td>\n",
       "    </tr>\n",
       "    <tr>\n",
       "      <th>3</th>\n",
       "      <td>JC29f8beb</td>\n",
       "      <td>131264387263</td>\n",
       "      <td>34626013</td>\n",
       "      <td>2019-03-15 03:35:00</td>\n",
       "      <td>0</td>\n",
       "      <td>3</td>\n",
       "      <td>0</td>\n",
       "      <td>1</td>\n",
       "      <td>30</td>\n",
       "      <td>1</td>\n",
       "      <td>...</td>\n",
       "      <td>0</td>\n",
       "      <td>65.4</td>\n",
       "      <td>0</td>\n",
       "      <td>0</td>\n",
       "      <td>0</td>\n",
       "      <td>0</td>\n",
       "      <td>0</td>\n",
       "      <td>0</td>\n",
       "      <td>0</td>\n",
       "      <td>1</td>\n",
       "    </tr>\n",
       "    <tr>\n",
       "      <th>4</th>\n",
       "      <td>JC29f8beb</td>\n",
       "      <td>131279241689</td>\n",
       "      <td>43527040</td>\n",
       "      <td>2019-11-27 15:29:00</td>\n",
       "      <td>0</td>\n",
       "      <td>3</td>\n",
       "      <td>0</td>\n",
       "      <td>1</td>\n",
       "      <td>30</td>\n",
       "      <td>1</td>\n",
       "      <td>...</td>\n",
       "      <td>0</td>\n",
       "      <td>63.0</td>\n",
       "      <td>0</td>\n",
       "      <td>0</td>\n",
       "      <td>0</td>\n",
       "      <td>0</td>\n",
       "      <td>0</td>\n",
       "      <td>0</td>\n",
       "      <td>0</td>\n",
       "      <td>1</td>\n",
       "    </tr>\n",
       "  </tbody>\n",
       "</table>\n",
       "<p>5 rows × 22 columns</p>\n",
       "</div>"
      ],
      "text/plain": [
       "     anon_id  pat_enc_csn_id_coded  inpatient_data_id_coded  \\\n",
       "0  JC29f8ad2          131274729058                 40679773   \n",
       "1  JC29f8ad3          131278291027                 42992239   \n",
       "2  JC29f8b9c          131266787806                 36261582   \n",
       "3  JC29f8beb          131264387263                 34626013   \n",
       "4  JC29f8beb          131279241689                 43527040   \n",
       "\n",
       "            admit_time  label  ESI_i  delta_ESI  gender  age  insurance  ...  \\\n",
       "0  2019-08-31 12:52:00      0      3          0       1   52          1  ...   \n",
       "1  2019-10-05 23:48:00      0      3          0       1   35          1  ...   \n",
       "2  2019-05-05 01:07:00      0      2          0       0   59          0  ...   \n",
       "3  2019-03-15 03:35:00      0      3          0       1   30          1  ...   \n",
       "4  2019-11-27 15:29:00      0      3          0       1   30          1  ...   \n",
       "\n",
       "   delta_H  Weight_i  delta_W  race.Asian  race.Black  race.Native.American  \\\n",
       "0        0      81.0        0           0           0                     0   \n",
       "1        1      71.0        1           1           0                     0   \n",
       "2        1      58.0        1           0           0                     0   \n",
       "3        0      65.4        0           0           0                     0   \n",
       "4        0      63.0        0           0           0                     0   \n",
       "\n",
       "   race.Other  race.Pacific.Islander  race.Unknown  race.White  \n",
       "0           0                      0             0           1  \n",
       "1           0                      0             0           0  \n",
       "2           0                      0             1           0  \n",
       "3           0                      0             0           1  \n",
       "4           0                      0             0           1  \n",
       "\n",
       "[5 rows x 22 columns]"
      ]
     },
     "execution_count": 17,
     "metadata": {},
     "output_type": "execute_result"
    }
   ],
   "source": [
    "df = pd.read_csv(os.path.join(featuredir, \"2_4_coh3_imputedHWESI.csv\"))\n",
    "print(len(df)) # 45796\n",
    "print(list(df.columns))\n",
    "df.head(5)"
   ]
  },
  {
   "cell_type": "code",
   "execution_count": 12,
   "metadata": {
    "ExecuteTime": {
     "end_time": "2020-05-18T21:40:17.895171Z",
     "start_time": "2020-05-18T21:40:04.332312Z"
    }
   },
   "outputs": [
    {
     "name": "stderr",
     "output_type": "stream",
     "text": [
      "1it [00:12, 12.14s/it]\n"
     ]
    }
   ],
   "source": [
    "# demographics file\n",
    "table_schema = [{'name' : 'jc_uid', 'type' : 'STRING'},\n",
    "                {'name' : 'pat_enc_csn_id_coded', 'type' : 'INTEGER'},\n",
    "                {'name' : 'inpatient_data_id_coded', 'type': 'INTEGER'},\n",
    "                {'name' : 'admit_time', 'type' : 'TIMESTAMP'},\n",
    "                {'name' : 'label', 'type' : 'INTEGER'},\n",
    "                {'name' : 'gender', 'type' : 'STRING'},\n",
    "                {'name' : 'race', 'type' : 'STRING'},\n",
    "                {'name' : 'language', 'type' : 'STRING'},\n",
    "                {'name' : 'insurance', 'type' : 'STRING'},\n",
    "                {'name' : 'recent_height', 'type' : 'INTEGER'},\n",
    "                {'name' : 'recent_weight', 'type' : 'INTEGER'}, \n",
    "                {'name' : 'age', 'type' : 'INTEGER'},\n",
    "                {'name' : 'recent_date', 'type' : 'DATE'}]\n",
    "                       \n",
    "DATASET_NAME = 'triageTD'\n",
    "TABLE_NAME = '2_4_coh3_imputedHWESI'\n",
    "cohort_demo.to_gbq(destination_table='triageTD.%s' % TABLE_NAME,\n",
    "                 project_id='som-nero-phi-jonc101',\n",
    "                 table_schema=table_schema,\n",
    "                 if_exists='replace')"
   ]
  },
  {
   "cell_type": "code",
   "execution_count": 15,
   "metadata": {
    "ExecuteTime": {
     "end_time": "2020-05-21T07:27:09.270370Z",
     "start_time": "2020-05-21T07:27:02.475696Z"
    }
   },
   "outputs": [
    {
     "name": "stderr",
     "output_type": "stream",
     "text": [
      "1it [00:05,  5.82s/it]\n"
     ]
    }
   ],
   "source": [
    "# push flowsheet up BQ:\n",
    "# clean demographics file, with new variables medis and English\n",
    "table_schema = [{'name' : 'jc_uid', 'type' : 'STRING'},\n",
    "                {'name' : 'pat_enc_csn_id_coded', 'type' : 'INTEGER'},\n",
    "                {'name' : 'inpatient_data_id_coded', 'type': 'INTEGER'},\n",
    "                {'name' : 'admit_time', 'type' : 'TIMESTAMP'},\n",
    "                {'name' : 'label', 'type' : 'INTEGER'},\n",
    "                {'name' : 'gender', 'type' : 'STRING'},\n",
    "                {'name' : 'race', 'type' : 'STRING'},\n",
    "                {'name' : 'age', 'type' : 'INTEGER'},\n",
    "                {'name' : 'medis', 'type' : 'INTEGER'},\n",
    "                {'name' : 'Engl', 'type' : 'INTEGER'},\n",
    "                {'name' : 'Height', 'type' : 'INTEGER'},\n",
    "                {'name' : 'Weight', 'type' : 'INTEGER'}]\n",
    "                       \n",
    "DATASET_NAME = 'triage'\n",
    "TABLE_NAME = 'triage_cohort_adjusted_demographics_clean'\n",
    "cohort_demo_clean.to_gbq(destination_table='triage.%s' % TABLE_NAME,\n",
    "                 project_id='som-nero-phi-jonc101',\n",
    "                 table_schema=table_schema,\n",
    "                 if_exists='replace')"
   ]
  },
  {
   "cell_type": "code",
   "execution_count": 17,
   "metadata": {
    "ExecuteTime": {
     "end_time": "2020-05-21T07:29:46.924564Z",
     "start_time": "2020-05-21T07:29:33.969101Z"
    }
   },
   "outputs": [
    {
     "name": "stderr",
     "output_type": "stream",
     "text": [
      "1it [00:11, 11.92s/it]\n"
     ]
    }
   ],
   "source": [
    "# push flowsheet up BQ:\n",
    "# imputed_demographics file\n",
    "table_schema = [{'name' : 'jc_uid', 'type' : 'STRING'},\n",
    "                {'name' : 'pat_enc_csn_id_coded', 'type' : 'INTEGER'},\n",
    "                {'name' : 'inpatient_data_id_coded', 'type': 'INTEGER'},\n",
    "                {'name' : 'admit_time', 'type' : 'TIMESTAMP'},\n",
    "                {'name' : 'label', 'type' : 'INTEGER'},\n",
    "                {'name' : 'Engl', 'type' : 'INTEGER'},\n",
    "                {'name' : 'gender1', 'type' : 'STRING'},\n",
    "                {'name' : 'race1', 'type' : 'STRING'},\n",
    "                {'name' : 'age1', 'type' : 'INTEGER'},\n",
    "                {'name' : 'medis1', 'type' : 'INTEGER'},\n",
    "                {'name' : 'Height1', 'type' : 'INTEGER'},\n",
    "                {'name' : 'Weight1', 'type' : 'INTEGER'},\n",
    "                {'name' : 'delta_H', 'type' : 'INTEGER'},\n",
    "                {'name' : 'delta_W', 'type' : 'INTEGER'},]\n",
    "\n",
    "                       \n",
    "DATASET_NAME = 'triage'\n",
    "TABLE_NAME = 'triage_cohort_adjusted_demographics_imputed'\n",
    "cohort_demo_imputed.to_gbq(destination_table='triage.%s' % TABLE_NAME,\n",
    "                 project_id='som-nero-phi-jonc101',\n",
    "                 table_schema=table_schema,\n",
    "                 if_exists='replace')"
   ]
  },
  {
   "cell_type": "code",
   "execution_count": 28,
   "metadata": {
    "ExecuteTime": {
     "end_time": "2020-05-22T21:59:54.044007Z",
     "start_time": "2020-05-22T21:59:25.868190Z"
    }
   },
   "outputs": [
    {
     "name": "stderr",
     "output_type": "stream",
     "text": [
      "1it [00:26, 26.69s/it]\n"
     ]
    }
   ],
   "source": [
    "# cleaned vitals\n",
    "table_schema = [{'name' : 'jc_uid', 'type' : 'STRING'},\n",
    "                {'name' : 'pat_enc_csn_id_coded', 'type' : 'INTEGER'},\n",
    "                {'name' : 'admit_time', 'type' : 'TIMESTAMP'},\n",
    "                {'name' : 'features', 'type' : 'STRING'},\n",
    "                {'name' : 'recorded_time', 'type' : 'TIMESTAMP'},\n",
    "                {'name' : 'values', 'type' : 'FLOAT'},\n",
    "                {'name' : 'feature_type', 'type' : 'STRING'}]\n",
    "\n",
    "                       \n",
    "DATASET_NAME = 'triage'\n",
    "TABLE_NAME = 'triage_cohort_adjusted_vitals_clean'\n",
    "cohort_vitals_clean.to_gbq(destination_table='triage.%s' % TABLE_NAME,\n",
    "                 project_id='som-nero-phi-jonc101',\n",
    "                 table_schema=table_schema,\n",
    "                 if_exists='replace')"
   ]
  },
  {
   "cell_type": "code",
   "execution_count": 33,
   "metadata": {
    "ExecuteTime": {
     "end_time": "2020-05-23T04:06:01.341323Z",
     "start_time": "2020-05-23T04:06:00.968739Z"
    }
   },
   "outputs": [
    {
     "name": "stdout",
     "output_type": "stream",
     "text": [
      "313230\n"
     ]
    },
    {
     "data": {
      "text/html": [
       "<div>\n",
       "<style scoped>\n",
       "    .dataframe tbody tr th:only-of-type {\n",
       "        vertical-align: middle;\n",
       "    }\n",
       "\n",
       "    .dataframe tbody tr th {\n",
       "        vertical-align: top;\n",
       "    }\n",
       "\n",
       "    .dataframe thead th {\n",
       "        text-align: right;\n",
       "    }\n",
       "</style>\n",
       "<table border=\"1\" class=\"dataframe\">\n",
       "  <thead>\n",
       "    <tr style=\"text-align: right;\">\n",
       "      <th></th>\n",
       "      <th>jc_uid</th>\n",
       "      <th>pat_enc_csn_id_coded</th>\n",
       "      <th>admit_time</th>\n",
       "      <th>features</th>\n",
       "      <th>values</th>\n",
       "      <th>result_time</th>\n",
       "      <th>feature_type</th>\n",
       "    </tr>\n",
       "  </thead>\n",
       "  <tbody>\n",
       "    <tr>\n",
       "      <td>0</td>\n",
       "      <td>JCcc15c6</td>\n",
       "      <td>131254215457</td>\n",
       "      <td>2018-07-09 03:24:00+00:00</td>\n",
       "      <td>Magnesium, Ser/Plas</td>\n",
       "      <td>2.3</td>\n",
       "      <td>2018-07-08 23:47:00+00:00</td>\n",
       "      <td>labs</td>\n",
       "    </tr>\n",
       "    <tr>\n",
       "      <td>1</td>\n",
       "      <td>JCcc67c4</td>\n",
       "      <td>131170882153</td>\n",
       "      <td>2016-01-15 00:38:00+00:00</td>\n",
       "      <td>Magnesium, Ser/Plas</td>\n",
       "      <td>1.9</td>\n",
       "      <td>2016-01-14 23:24:00+00:00</td>\n",
       "      <td>labs</td>\n",
       "    </tr>\n",
       "    <tr>\n",
       "      <td>2</td>\n",
       "      <td>JCccde6e</td>\n",
       "      <td>131259373038</td>\n",
       "      <td>2018-10-10 01:17:00+00:00</td>\n",
       "      <td>Glucose by Meter</td>\n",
       "      <td>155.0</td>\n",
       "      <td>2018-10-10 00:09:00+00:00</td>\n",
       "      <td>labs</td>\n",
       "    </tr>\n",
       "    <tr>\n",
       "      <td>3</td>\n",
       "      <td>JCccf3ed</td>\n",
       "      <td>131254647220</td>\n",
       "      <td>2018-07-05 19:23:00+00:00</td>\n",
       "      <td>Magnesium, Ser/Plas</td>\n",
       "      <td>1.7</td>\n",
       "      <td>2018-07-05 16:19:00+00:00</td>\n",
       "      <td>labs</td>\n",
       "    </tr>\n",
       "    <tr>\n",
       "      <td>4</td>\n",
       "      <td>JCccf3ed</td>\n",
       "      <td>131254647220</td>\n",
       "      <td>2018-07-05 19:23:00+00:00</td>\n",
       "      <td>Glucose by Meter</td>\n",
       "      <td>187.0</td>\n",
       "      <td>2018-07-05 16:33:00+00:00</td>\n",
       "      <td>labs</td>\n",
       "    </tr>\n",
       "  </tbody>\n",
       "</table>\n",
       "</div>"
      ],
      "text/plain": [
       "     jc_uid  pat_enc_csn_id_coded                 admit_time  \\\n",
       "0  JCcc15c6          131254215457  2018-07-09 03:24:00+00:00   \n",
       "1  JCcc67c4          131170882153  2016-01-15 00:38:00+00:00   \n",
       "2  JCccde6e          131259373038  2018-10-10 01:17:00+00:00   \n",
       "3  JCccf3ed          131254647220  2018-07-05 19:23:00+00:00   \n",
       "4  JCccf3ed          131254647220  2018-07-05 19:23:00+00:00   \n",
       "\n",
       "              features  values                result_time feature_type  \n",
       "0  Magnesium, Ser/Plas     2.3  2018-07-08 23:47:00+00:00         labs  \n",
       "1  Magnesium, Ser/Plas     1.9  2016-01-14 23:24:00+00:00         labs  \n",
       "2     Glucose by Meter   155.0  2018-10-10 00:09:00+00:00         labs  \n",
       "3  Magnesium, Ser/Plas     1.7  2018-07-05 16:19:00+00:00         labs  \n",
       "4     Glucose by Meter   187.0  2018-07-05 16:33:00+00:00         labs  "
      ]
     },
     "execution_count": 33,
     "metadata": {},
     "output_type": "execute_result"
    }
   ],
   "source": [
    "cohort_short_labs_clean_4binning = pd.read_csv('./Data/cohort_short_labs_clean_4binning.csv')\n",
    "print(len(cohort_short_labs_clean_4binning))\n",
    "cohort_short_labs_clean_4binning.head(5)"
   ]
  },
  {
   "cell_type": "code",
   "execution_count": 18,
   "metadata": {
    "ExecuteTime": {
     "end_time": "2020-05-22T21:06:16.399289Z",
     "start_time": "2020-05-22T21:05:47.233262Z"
    }
   },
   "outputs": [
    {
     "name": "stderr",
     "output_type": "stream",
     "text": [
      "1it [00:27, 27.51s/it]\n"
     ]
    }
   ],
   "source": [
    "# cleaned labs\n",
    "table_schema = [{'name' : 'jc_uid', 'type' : 'STRING'},\n",
    "                {'name' : 'pat_enc_csn_id_coded', 'type' : 'INTEGER'},\n",
    "                {'name' : 'admit_time', 'type' : 'TIMESTAMP'},\n",
    "                {'name' : 'features', 'type' : 'STRING'},\n",
    "                {'name' : 'result_time', 'type' : 'TIMESTAMP'},\n",
    "                {'name' : 'values', 'type' : 'FLOAT'},\n",
    "                {'name' : 'feature_type', 'type' : 'STRING'}]\n",
    "\n",
    "                       \n",
    "DATASET_NAME = 'triage'\n",
    "TABLE_NAME = 'triage_cohort_adjusted_short_labs_clean_4binning'\n",
    "cohort_short_labs_clean_4binning.to_gbq(destination_table='triage.%s' % TABLE_NAME,\n",
    "                 project_id='som-nero-phi-jonc101',\n",
    "                 table_schema=table_schema,\n",
    "                 if_exists='replace')"
   ]
  },
  {
   "cell_type": "code",
   "execution_count": 63,
   "metadata": {
    "ExecuteTime": {
     "end_time": "2020-05-24T01:11:46.963649Z",
     "start_time": "2020-05-24T01:11:45.970307Z"
    }
   },
   "outputs": [
    {
     "name": "stdout",
     "output_type": "stream",
     "text": [
      "844805\n"
     ]
    }
   ],
   "source": [
    "cohort_vitals_labs_long = pd.read_csv('./Data/cohort_vitals_labs_long.csv')\n",
    "cohort_vitals_labs_long.tail(5)\n",
    "print(len(cohort_vitals_labs_long))"
   ]
  },
  {
   "cell_type": "code",
   "execution_count": 64,
   "metadata": {
    "ExecuteTime": {
     "end_time": "2020-05-24T01:12:06.196853Z",
     "start_time": "2020-05-24T01:12:06.077660Z"
    }
   },
   "outputs": [
    {
     "data": {
      "text/html": [
       "<div>\n",
       "<style scoped>\n",
       "    .dataframe tbody tr th:only-of-type {\n",
       "        vertical-align: middle;\n",
       "    }\n",
       "\n",
       "    .dataframe tbody tr th {\n",
       "        vertical-align: top;\n",
       "    }\n",
       "\n",
       "    .dataframe thead th {\n",
       "        text-align: right;\n",
       "    }\n",
       "</style>\n",
       "<table border=\"1\" class=\"dataframe\">\n",
       "  <thead>\n",
       "    <tr style=\"text-align: right;\">\n",
       "      <th></th>\n",
       "      <th>pat_enc_csn_id_coded</th>\n",
       "      <th>values</th>\n",
       "    </tr>\n",
       "  </thead>\n",
       "  <tbody>\n",
       "    <tr>\n",
       "      <td>count</td>\n",
       "      <td>9.274400e+04</td>\n",
       "      <td>92744.000000</td>\n",
       "    </tr>\n",
       "    <tr>\n",
       "      <td>mean</td>\n",
       "      <td>1.311857e+11</td>\n",
       "      <td>76.684885</td>\n",
       "    </tr>\n",
       "    <tr>\n",
       "      <td>std</td>\n",
       "      <td>6.370680e+07</td>\n",
       "      <td>17.482878</td>\n",
       "    </tr>\n",
       "    <tr>\n",
       "      <td>min</td>\n",
       "      <td>1.310373e+11</td>\n",
       "      <td>15.000000</td>\n",
       "    </tr>\n",
       "    <tr>\n",
       "      <td>25%</td>\n",
       "      <td>1.311249e+11</td>\n",
       "      <td>65.000000</td>\n",
       "    </tr>\n",
       "    <tr>\n",
       "      <td>50%</td>\n",
       "      <td>1.312018e+11</td>\n",
       "      <td>76.000000</td>\n",
       "    </tr>\n",
       "    <tr>\n",
       "      <td>75%</td>\n",
       "      <td>1.312422e+11</td>\n",
       "      <td>87.000000</td>\n",
       "    </tr>\n",
       "    <tr>\n",
       "      <td>max</td>\n",
       "      <td>1.312578e+11</td>\n",
       "      <td>225.000000</td>\n",
       "    </tr>\n",
       "  </tbody>\n",
       "</table>\n",
       "</div>"
      ],
      "text/plain": [
       "       pat_enc_csn_id_coded        values\n",
       "count          9.274400e+04  92744.000000\n",
       "mean           1.311857e+11     76.684885\n",
       "std            6.370680e+07     17.482878\n",
       "min            1.310373e+11     15.000000\n",
       "25%            1.311249e+11     65.000000\n",
       "50%            1.312018e+11     76.000000\n",
       "75%            1.312422e+11     87.000000\n",
       "max            1.312578e+11    225.000000"
      ]
     },
     "execution_count": 64,
     "metadata": {},
     "output_type": "execute_result"
    }
   ],
   "source": [
    "cohort_vitals_labs_long.loc[cohort_vitals_labs_long['features'] == \"DBP\"].describe()"
   ]
  },
  {
   "cell_type": "code",
   "execution_count": 58,
   "metadata": {
    "ExecuteTime": {
     "end_time": "2020-05-23T23:58:53.364638Z",
     "start_time": "2020-05-23T23:58:53.231931Z"
    }
   },
   "outputs": [
    {
     "data": {
      "text/html": [
       "<div>\n",
       "<style scoped>\n",
       "    .dataframe tbody tr th:only-of-type {\n",
       "        vertical-align: middle;\n",
       "    }\n",
       "\n",
       "    .dataframe tbody tr th {\n",
       "        vertical-align: top;\n",
       "    }\n",
       "\n",
       "    .dataframe thead th {\n",
       "        text-align: right;\n",
       "    }\n",
       "</style>\n",
       "<table border=\"1\" class=\"dataframe\">\n",
       "  <thead>\n",
       "    <tr style=\"text-align: right;\">\n",
       "      <th></th>\n",
       "      <th>jc_uid</th>\n",
       "      <th>pat_enc_csn_id_coded</th>\n",
       "      <th>admit_time</th>\n",
       "      <th>features</th>\n",
       "      <th>values</th>\n",
       "      <th>feature_type</th>\n",
       "    </tr>\n",
       "  </thead>\n",
       "  <tbody>\n",
       "    <tr>\n",
       "      <td>438831</td>\n",
       "      <td>JCcb91cd</td>\n",
       "      <td>131226312076</td>\n",
       "      <td>2017-04-08 03:14:00+00:00</td>\n",
       "      <td>DBP</td>\n",
       "      <td>73.0</td>\n",
       "      <td>vitals</td>\n",
       "    </tr>\n",
       "    <tr>\n",
       "      <td>438832</td>\n",
       "      <td>JCcbb675</td>\n",
       "      <td>131239642003</td>\n",
       "      <td>2017-09-15 02:31:00+00:00</td>\n",
       "      <td>DBP</td>\n",
       "      <td>72.0</td>\n",
       "      <td>vitals</td>\n",
       "    </tr>\n",
       "    <tr>\n",
       "      <td>438833</td>\n",
       "      <td>JCcbb675</td>\n",
       "      <td>131239642003</td>\n",
       "      <td>2017-09-15 02:31:00+00:00</td>\n",
       "      <td>DBP</td>\n",
       "      <td>76.0</td>\n",
       "      <td>vitals</td>\n",
       "    </tr>\n",
       "    <tr>\n",
       "      <td>438834</td>\n",
       "      <td>JCcbba6b</td>\n",
       "      <td>131181787574</td>\n",
       "      <td>2016-04-06 04:30:00+00:00</td>\n",
       "      <td>DBP</td>\n",
       "      <td>77.0</td>\n",
       "      <td>vitals</td>\n",
       "    </tr>\n",
       "    <tr>\n",
       "      <td>438835</td>\n",
       "      <td>JCcbbdc1</td>\n",
       "      <td>131082563304</td>\n",
       "      <td>2015-03-19 02:58:00+00:00</td>\n",
       "      <td>DBP</td>\n",
       "      <td>63.0</td>\n",
       "      <td>vitals</td>\n",
       "    </tr>\n",
       "  </tbody>\n",
       "</table>\n",
       "</div>"
      ],
      "text/plain": [
       "          jc_uid  pat_enc_csn_id_coded                 admit_time features  \\\n",
       "438831  JCcb91cd          131226312076  2017-04-08 03:14:00+00:00      DBP   \n",
       "438832  JCcbb675          131239642003  2017-09-15 02:31:00+00:00      DBP   \n",
       "438833  JCcbb675          131239642003  2017-09-15 02:31:00+00:00      DBP   \n",
       "438834  JCcbba6b          131181787574  2016-04-06 04:30:00+00:00      DBP   \n",
       "438835  JCcbbdc1          131082563304  2015-03-19 02:58:00+00:00      DBP   \n",
       "\n",
       "        values feature_type  \n",
       "438831    73.0       vitals  \n",
       "438832    72.0       vitals  \n",
       "438833    76.0       vitals  \n",
       "438834    77.0       vitals  \n",
       "438835    63.0       vitals  "
      ]
     },
     "execution_count": 58,
     "metadata": {},
     "output_type": "execute_result"
    }
   ],
   "source": [
    "# cohort_vitals_labs_long.loc[cohort_vitals_labs_long['features'] == \"DBP\"].head()\n",
    "cohort_vitals_labs_long = cohort_vitals_labs_long.drop('time', axis=1)\n",
    "cohort_vitals_labs_long.loc[cohort_vitals_labs_long['features'] == \"DBP\"].head()"
   ]
  }
 ],
 "metadata": {
  "environment": {
   "name": "r-cpu.4-0.m71",
   "type": "gcloud",
   "uri": "gcr.io/deeplearning-platform-release/r-cpu.4-0:m71"
  },
  "kernelspec": {
   "display_name": "Python 3",
   "language": "python",
   "name": "python3"
  },
  "language_info": {
   "codemirror_mode": {
    "name": "ipython",
    "version": 3
   },
   "file_extension": ".py",
   "mimetype": "text/x-python",
   "name": "python",
   "nbconvert_exporter": "python",
   "pygments_lexer": "ipython3",
   "version": "3.7.10"
  },
  "toc": {
   "base_numbering": 1,
   "nav_menu": {},
   "number_sections": true,
   "sideBar": true,
   "skip_h1_title": false,
   "title_cell": "Table of Contents",
   "title_sidebar": "Contents",
   "toc_cell": false,
   "toc_position": {},
   "toc_section_display": true,
   "toc_window_display": false
  },
  "varInspector": {
   "cols": {
    "lenName": 16,
    "lenType": 16,
    "lenVar": 40
   },
   "kernels_config": {
    "python": {
     "delete_cmd_postfix": "",
     "delete_cmd_prefix": "del ",
     "library": "var_list.py",
     "varRefreshCmd": "print(var_dic_list())"
    },
    "r": {
     "delete_cmd_postfix": ") ",
     "delete_cmd_prefix": "rm(",
     "library": "var_list.r",
     "varRefreshCmd": "cat(var_dic_list()) "
    }
   },
   "types_to_exclude": [
    "module",
    "function",
    "builtin_function_or_method",
    "instance",
    "_Feature"
   ],
   "window_display": false
  }
 },
 "nbformat": 4,
 "nbformat_minor": 4
}
