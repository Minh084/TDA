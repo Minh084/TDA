{
 "cells": [
  {
   "cell_type": "code",
   "execution_count": 1,
   "metadata": {},
   "outputs": [
    {
     "name": "stderr",
     "output_type": "stream",
     "text": [
      "/share/sw/open/anaconda/3/lib/python3.6/site-packages/google/auth/_default.py:66: UserWarning: Your application has authenticated using end user credentials from Google Cloud SDK. We recommend that most server applications use service accounts instead. If your application continues to use end user credentials from Cloud SDK, you might receive a \"quota exceeded\" or \"API not enabled\" error. For more information about service accounts, see https://cloud.google.com/docs/authentication/\n",
      "  warnings.warn(_CLOUD_SDK_CREDENTIALS_WARNING)\n"
     ]
    }
   ],
   "source": [
    "import pandas as pd\n",
    "import numpy as np\n",
    "import os \n",
    "\n",
    "### THIS IS MEANT TO RUN ON NERO - NEEDS TO BE CHANGED IF YOU RUN LOCALLY\n",
    "os.environ['GOOGLE_APPLICATION_CREDENTIALS'] = '/home/ccorbin/.config/gcloud/application_default_credentials.json' \n",
    "os.environ['GCLOUD_PROJECT'] = 'mining-clinical-decisions' \n",
    "%load_ext google.cloud.bigquery\n",
    "\n",
    "from google.cloud import bigquery\n",
    "client=bigquery.Client()"
   ]
  },
  {
   "cell_type": "markdown",
   "metadata": {},
   "source": [
    "## Create Count Based Representations of the following\n",
    "* Dx Codes (making sure to only use codes from prior admissions)\n",
    "* Lab/ Microbiology Lab orders (up until index time)\n",
    "* Procedures (up until index time)\n",
    "* Imaging orders (up until index time)\n",
    "* Medication Orders (up until index time)"
   ]
  },
  {
   "cell_type": "code",
   "execution_count": 2,
   "metadata": {},
   "outputs": [],
   "source": [
    "def featurize_code_counts(query):\n",
    "    \"\"\" \n",
    "    Turns a sql query into long form dataframe of of counts\n",
    "    supported queries for ref: dx_codes.sql, proc_orders.sql, meds.sql\n",
    "\n",
    "    Output: Long form dataframe with cols:\n",
    "        jc_uid : pat_id\n",
    "        pat_enc_csn_id_coded : csn (our unit of analysis)\n",
    "        admit_time : our index time + 1 hour\n",
    "        feature_type : dx, meds, labs etc\n",
    "        features : name of feature\n",
    "        values : value of feature (which is a count)\n",
    "        \n",
    "    Notes: \n",
    "        * diagnosis from current encounter not included - but we look back through entire patient timeline\n",
    "        * meds, labs, imaging, procs we only look back a year. \n",
    "    \"\"\"\n",
    "\n",
    "    query_job = client.query(query)\n",
    "    df = query_job.result().to_dataframe()\n",
    "\n",
    "    df = df[['jc_uid',\n",
    "             'pat_enc_csn_id_coded',\n",
    "             'admit_time',\n",
    "             'code',\n",
    "             'order_id',\n",
    "             'feature_type']].groupby(['pat_enc_csn_id_coded', 'admit_time', 'code']).agg({\n",
    "             'jc_uid' : 'first',\n",
    "             'order_id' : 'count',\n",
    "             'feature_type' : 'first'}).reset_index().rename(columns={\n",
    "                               'order_id' : 'values',\n",
    "                               'code' : 'features'})[['jc_uid', 'pat_enc_csn_id_coded', 'admit_time', 'feature_type', 'features', 'values']]\n",
    "    return df"
   ]
  },
  {
   "cell_type": "code",
   "execution_count": 12,
   "metadata": {},
   "outputs": [
    {
     "name": "stdout",
     "output_type": "stream",
     "text": [
      "processed:  proc_orders\n",
      "processed:  meds\n"
     ]
    }
   ],
   "source": [
    "# Get counts for each of the kinds of orders we care about\n",
    "feature_types = ['proc_orders', 'meds']\n",
    "long_df = pd.DataFrame()\n",
    "\n",
    "for f in feature_types:\n",
    "    sql_file = ''.join(['../SQL/', f, '.sql'])\n",
    "    with open(sql_file, 'r') as fr:\n",
    "        query = fr.read()\n",
    "    df = featurize_code_counts(query)\n",
    "    \n",
    "    long_df = pd.concat([long_df, df])\n",
    "    print(\"processed: \", f)"
   ]
  },
  {
   "cell_type": "code",
   "execution_count": 13,
   "metadata": {},
   "outputs": [],
   "source": [
    "# Save to csv\n",
    "long_df['feature_type'] = long_df['feature_type'].transform(lambda x: '_'.join([x, 'current_csn']))\n",
    "long_df['features'] = long_df['features'].transform(lambda x: '_'.join([x, 'current_csn']))\n",
    "long_df.to_csv('count_features_long_one_month.csv', index=None)"
   ]
  },
  {
   "cell_type": "code",
   "execution_count": 10,
   "metadata": {},
   "outputs": [
    {
     "data": {
      "text/html": [
       "<div>\n",
       "<style scoped>\n",
       "    .dataframe tbody tr th:only-of-type {\n",
       "        vertical-align: middle;\n",
       "    }\n",
       "\n",
       "    .dataframe tbody tr th {\n",
       "        vertical-align: top;\n",
       "    }\n",
       "\n",
       "    .dataframe thead th {\n",
       "        text-align: right;\n",
       "    }\n",
       "</style>\n",
       "<table border=\"1\" class=\"dataframe\">\n",
       "  <thead>\n",
       "    <tr style=\"text-align: right;\">\n",
       "      <th></th>\n",
       "      <th>jc_uid</th>\n",
       "      <th>pat_enc_csn_id_coded</th>\n",
       "      <th>admit_time</th>\n",
       "      <th>feature_type</th>\n",
       "      <th>features</th>\n",
       "      <th>values</th>\n",
       "    </tr>\n",
       "  </thead>\n",
       "  <tbody>\n",
       "  </tbody>\n",
       "</table>\n",
       "</div>"
      ],
      "text/plain": [
       "Empty DataFrame\n",
       "Columns: [jc_uid, pat_enc_csn_id_coded, admit_time, feature_type, features, values]\n",
       "Index: []"
      ]
     },
     "execution_count": 10,
     "metadata": {},
     "output_type": "execute_result"
    }
   ],
   "source": [
    "long_df[long_df['feature_type'] == 'Lab'].head(20)"
   ]
  },
  {
   "cell_type": "code",
   "execution_count": 14,
   "metadata": {},
   "outputs": [
    {
     "data": {
      "text/html": [
       "<div>\n",
       "<style scoped>\n",
       "    .dataframe tbody tr th:only-of-type {\n",
       "        vertical-align: middle;\n",
       "    }\n",
       "\n",
       "    .dataframe tbody tr th {\n",
       "        vertical-align: top;\n",
       "    }\n",
       "\n",
       "    .dataframe thead th {\n",
       "        text-align: right;\n",
       "    }\n",
       "</style>\n",
       "<table border=\"1\" class=\"dataframe\">\n",
       "  <thead>\n",
       "    <tr style=\"text-align: right;\">\n",
       "      <th></th>\n",
       "      <th>jc_uid</th>\n",
       "      <th>pat_enc_csn_id_coded</th>\n",
       "      <th>admit_time</th>\n",
       "      <th>feature_type</th>\n",
       "      <th>features</th>\n",
       "      <th>values</th>\n",
       "    </tr>\n",
       "  </thead>\n",
       "  <tbody>\n",
       "    <tr>\n",
       "      <th>0</th>\n",
       "      <td>JCda8a27</td>\n",
       "      <td>131037296250</td>\n",
       "      <td>2014-07-19 02:54:00+00:00</td>\n",
       "      <td>Imaging_current_csn</td>\n",
       "      <td>IMGCTAP_current_csn</td>\n",
       "      <td>2</td>\n",
       "    </tr>\n",
       "    <tr>\n",
       "      <th>1</th>\n",
       "      <td>JCda8a27</td>\n",
       "      <td>131037296250</td>\n",
       "      <td>2014-07-19 02:54:00+00:00</td>\n",
       "      <td>Imaging_current_csn</td>\n",
       "      <td>IMGCTAPW_current_csn</td>\n",
       "      <td>2</td>\n",
       "    </tr>\n",
       "    <tr>\n",
       "      <th>2</th>\n",
       "      <td>JCda8a27</td>\n",
       "      <td>131037296250</td>\n",
       "      <td>2014-07-19 02:54:00+00:00</td>\n",
       "      <td>Imaging_current_csn</td>\n",
       "      <td>IMGDXCH1_current_csn</td>\n",
       "      <td>2</td>\n",
       "    </tr>\n",
       "    <tr>\n",
       "      <th>3</th>\n",
       "      <td>JCda8a27</td>\n",
       "      <td>131037296250</td>\n",
       "      <td>2014-07-19 02:54:00+00:00</td>\n",
       "      <td>Lab_current_csn</td>\n",
       "      <td>LABBLC_current_csn</td>\n",
       "      <td>2</td>\n",
       "    </tr>\n",
       "    <tr>\n",
       "      <th>4</th>\n",
       "      <td>JCda8a27</td>\n",
       "      <td>131037296250</td>\n",
       "      <td>2014-07-19 02:54:00+00:00</td>\n",
       "      <td>Lab_current_csn</td>\n",
       "      <td>LABBLC2_current_csn</td>\n",
       "      <td>2</td>\n",
       "    </tr>\n",
       "  </tbody>\n",
       "</table>\n",
       "</div>"
      ],
      "text/plain": [
       "     jc_uid  pat_enc_csn_id_coded                admit_time  \\\n",
       "0  JCda8a27          131037296250 2014-07-19 02:54:00+00:00   \n",
       "1  JCda8a27          131037296250 2014-07-19 02:54:00+00:00   \n",
       "2  JCda8a27          131037296250 2014-07-19 02:54:00+00:00   \n",
       "3  JCda8a27          131037296250 2014-07-19 02:54:00+00:00   \n",
       "4  JCda8a27          131037296250 2014-07-19 02:54:00+00:00   \n",
       "\n",
       "          feature_type              features  values  \n",
       "0  Imaging_current_csn   IMGCTAP_current_csn       2  \n",
       "1  Imaging_current_csn  IMGCTAPW_current_csn       2  \n",
       "2  Imaging_current_csn  IMGDXCH1_current_csn       2  \n",
       "3      Lab_current_csn    LABBLC_current_csn       2  \n",
       "4      Lab_current_csn   LABBLC2_current_csn       2  "
      ]
     },
     "execution_count": 14,
     "metadata": {},
     "output_type": "execute_result"
    }
   ],
   "source": [
    "long_df.head()"
   ]
  },
  {
   "cell_type": "code",
   "execution_count": 6,
   "metadata": {},
   "outputs": [
    {
     "data": {
      "text/plain": [
       "(30625, 5800)"
      ]
     },
     "execution_count": 6,
     "metadata": {},
     "output_type": "execute_result"
    }
   ],
   "source": [
    "long_df[['pat_enc_csn_id_coded', 'features', 'values']].pivot(index='pat_enc_csn_id_coded', columns='features', values='values').shape"
   ]
  },
  {
   "cell_type": "code",
   "execution_count": null,
   "metadata": {},
   "outputs": [],
   "source": []
  }
 ],
 "metadata": {
  "environment": {
   "name": "r-cpu.4-0.m71",
   "type": "gcloud",
   "uri": "gcr.io/deeplearning-platform-release/r-cpu.4-0:m71"
  },
  "kernelspec": {
   "display_name": "Python 3",
   "language": "python",
   "name": "python3"
  },
  "language_info": {
   "codemirror_mode": {
    "name": "ipython",
    "version": 3
   },
   "file_extension": ".py",
   "mimetype": "text/x-python",
   "name": "python",
   "nbconvert_exporter": "python",
   "pygments_lexer": "ipython3",
   "version": "3.6.6"
  }
 },
 "nbformat": 4,
 "nbformat_minor": 2
}
