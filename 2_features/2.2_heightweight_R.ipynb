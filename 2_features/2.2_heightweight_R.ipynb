{
 "cells": [
  {
   "cell_type": "markdown",
   "metadata": {},
   "source": [
    "## Descriptions:\n",
    "\n",
    "Process height and weight\n",
    "- Check H&W from flowsheet first. \n",
    "- Combined with H&W from demographics for processing. \n",
    "- They are in different units!\n",
    "- Check for potential erroneous recorded measurements\n",
    "\n",
    "\n",
    "**Inputs**:  \n",
    "- `cohort_demo` contains demographics and ESI\n",
    "- `flowsheetHW` contains queried HW from flowsheet\n",
    "\n",
    "**Outputs**: \n",
    "* `cohort_HW` contains both demographics and H&W"
   ]
  },
  {
   "cell_type": "raw",
   "metadata": {},
   "source": [
    "install.packages('bigrquery')\n",
    "# Installing package into 'C:/Users/User/Documents/R/win-library/4.0'\n",
    "# (as 'lib' is unspecified)\n",
    "# The downloaded binary packages are in\n",
    "# \tC:\\Users\\User\\AppData\\Local\\Temp\\RtmpaumGcc\\downloaded_packages"
   ]
  },
  {
   "cell_type": "markdown",
   "metadata": {},
   "source": [
    "### Importing R libraries"
   ]
  },
  {
   "cell_type": "code",
   "execution_count": 6,
   "metadata": {
    "ExecuteTime": {
     "end_time": "2020-05-21T00:38:06.078240Z",
     "start_time": "2020-05-21T00:38:02.778Z"
    }
   },
   "outputs": [
    {
     "name": "stderr",
     "output_type": "stream",
     "text": [
      "Warning message:\n",
      "\"package 'bigrquery' was built under R version 4.0.5\"\n"
     ]
    }
   ],
   "source": [
    "library(bigrquery)  # to query STARR-OMOP (stored in BigQuery) using SQL\n",
    "library(tidyverse)\n",
    "library(lubridate)\n",
    "\n",
    "# library(data.table)\n",
    "# library(Matrix)\n",
    "# library(caret) # import this before glmnet to avoid rlang version problem\n",
    "# library(glmnet)\n",
    "# library(bit64)\n",
    "\n",
    "# library(slam)\n",
    "# library(mtools) for one hot coder, not available on Nero or use caret or tidyr\n",
    "# library(mice)\n",
    "\n",
    "options(repr.matrix.max.rows=250, repr.matrix.max.cols=30)"
   ]
  },
  {
   "cell_type": "markdown",
   "metadata": {},
   "source": [
    "### Set up and run queries"
   ]
  },
  {
   "cell_type": "code",
   "execution_count": 7,
   "metadata": {},
   "outputs": [
    {
     "data": {
      "text/plain": [
       "NULL"
      ]
     },
     "metadata": {},
     "output_type": "display_data"
    }
   ],
   "source": [
    "# CREDENTIALS depending on LOCATIONS:\n",
    "# credential <- paste0(\"/home/\", \"minh084\", \"/.config/gcloud/application_default_credentials.json\")\n",
    "\n",
    "# local computer\n",
    "credential <- \"C:/Users/User/AppData/Roaming/gcloud/application_default_credentials.json\"\n",
    "\n",
    "# Nero onprem\n",
    "# credential <- \"/home/minh084/.config/gcloud/application_default_credentials.json\"\n",
    "\n",
    "# Nero gcp notebook\n",
    "# credential <- \"/home/jupyter/.config/gcloud/application_default_credentials.json\"\n",
    "\n",
    "project_id <- \"som-nero-phi-jonc101\"\n",
    "\n",
    "Sys.setenv(GOOGLE_APPLICATION_CREDENTIALS = credential)\n",
    "Sys.setenv(GCLOUD_PROJECT = project_id)\n",
    "gargle::credentials_app_default()"
   ]
  },
  {
   "cell_type": "code",
   "execution_count": 3,
   "metadata": {},
   "outputs": [
    {
     "data": {
      "text/plain": [
       "<BigQueryConnection>\n",
       "  Dataset: som-nero-phi-jonc101.shc_core\n",
       "  Billing: som-nero-phi-jonc101"
      ]
     },
     "metadata": {},
     "output_type": "display_data"
    },
    {
     "data": {
      "text/html": [
       "<style>\n",
       ".list-inline {list-style: none; margin:0; padding: 0}\n",
       ".list-inline>li {display: inline-block}\n",
       ".list-inline>li:not(:last-child)::after {content: \"\\00b7\"; padding: 0 .5ex}\n",
       "</style>\n",
       "<ol class=list-inline><li>'adt'</li><li>'allergy'</li><li>'culture_sensitivity'</li><li>'demographic'</li><li>'dep_map'</li><li>'diagnosis_code'</li><li>'drg_code'</li><li>'encounter'</li><li>'family_hx'</li><li>'flowsheet'</li><li>'lab_result'</li><li>'lda'</li><li>'mapped_meds'</li><li>'mar'</li><li>'med_orderset'</li><li>'ndc_code'</li><li>'order_med'</li><li>'order_proc'</li><li>'order_quest'</li><li>'proc_note'</li><li>'proc_orderset'</li><li>'procedure_code'</li><li>'prov_map'</li><li>'social_hx'</li><li>'treatment_team'</li></ol>\n"
      ],
      "text/latex": [
       "\\begin{enumerate*}\n",
       "\\item 'adt'\n",
       "\\item 'allergy'\n",
       "\\item 'culture\\_sensitivity'\n",
       "\\item 'demographic'\n",
       "\\item 'dep\\_map'\n",
       "\\item 'diagnosis\\_code'\n",
       "\\item 'drg\\_code'\n",
       "\\item 'encounter'\n",
       "\\item 'family\\_hx'\n",
       "\\item 'flowsheet'\n",
       "\\item 'lab\\_result'\n",
       "\\item 'lda'\n",
       "\\item 'mapped\\_meds'\n",
       "\\item 'mar'\n",
       "\\item 'med\\_orderset'\n",
       "\\item 'ndc\\_code'\n",
       "\\item 'order\\_med'\n",
       "\\item 'order\\_proc'\n",
       "\\item 'order\\_quest'\n",
       "\\item 'proc\\_note'\n",
       "\\item 'proc\\_orderset'\n",
       "\\item 'procedure\\_code'\n",
       "\\item 'prov\\_map'\n",
       "\\item 'social\\_hx'\n",
       "\\item 'treatment\\_team'\n",
       "\\end{enumerate*}\n"
      ],
      "text/markdown": [
       "1. 'adt'\n",
       "2. 'allergy'\n",
       "3. 'culture_sensitivity'\n",
       "4. 'demographic'\n",
       "5. 'dep_map'\n",
       "6. 'diagnosis_code'\n",
       "7. 'drg_code'\n",
       "8. 'encounter'\n",
       "9. 'family_hx'\n",
       "10. 'flowsheet'\n",
       "11. 'lab_result'\n",
       "12. 'lda'\n",
       "13. 'mapped_meds'\n",
       "14. 'mar'\n",
       "15. 'med_orderset'\n",
       "16. 'ndc_code'\n",
       "17. 'order_med'\n",
       "18. 'order_proc'\n",
       "19. 'order_quest'\n",
       "20. 'proc_note'\n",
       "21. 'proc_orderset'\n",
       "22. 'procedure_code'\n",
       "23. 'prov_map'\n",
       "24. 'social_hx'\n",
       "25. 'treatment_team'\n",
       "\n",
       "\n"
      ],
      "text/plain": [
       " [1] \"adt\"                 \"allergy\"             \"culture_sensitivity\"\n",
       " [4] \"demographic\"         \"dep_map\"             \"diagnosis_code\"     \n",
       " [7] \"drg_code\"            \"encounter\"           \"family_hx\"          \n",
       "[10] \"flowsheet\"           \"lab_result\"          \"lda\"                \n",
       "[13] \"mapped_meds\"         \"mar\"                 \"med_orderset\"       \n",
       "[16] \"ndc_code\"            \"order_med\"           \"order_proc\"         \n",
       "[19] \"order_quest\"         \"proc_note\"           \"proc_orderset\"      \n",
       "[22] \"procedure_code\"      \"prov_map\"            \"social_hx\"          \n",
       "[25] \"treatment_team\"     "
      ]
     },
     "metadata": {},
     "output_type": "display_data"
    }
   ],
   "source": [
    "library(DBI)\n",
    "con <- dbConnect(\n",
    "  bigrquery::bigquery(),\n",
    "  project = project_id,\n",
    "  dataset = \"shc_core\" #, billing = project_id\n",
    ")\n",
    "con \n",
    "dbListTables(con)"
   ]
  },
  {
   "cell_type": "raw",
   "metadata": {},
   "source": [
    "q = \"\n",
    "SELECT c.*,\n",
    "    f.row_disp_name, f.units, f.recorded_time_utc, f.num_value1, f.num_value2\n",
    "FROM \n",
    "    `som-nero-phi-jonc101.triageTD.1_2_cohort` as c\n",
    "JOIN \n",
    "    `som-nero-phi-jonc101.shc_core.flowsheet` as f\n",
    "ON \n",
    "    (c.anon_id=f.anon_id and c.inpatient_data_id_coded=f.inpatient_data_id_coded)\n",
    "WHERE\n",
    "(\n",
    "(row_disp_name=\"Weight\")\n",
    "OR\n",
    "(row_disp_name=\"Height\")\n",
    ")\n",
    "\"\n",
    "# submit the query:\n",
    "update.packages('Rcpp')\n",
    "df <- dbGetQuery(con, q)\n",
    "dim(df)\n",
    "head(df)"
   ]
  },
  {
   "cell_type": "markdown",
   "metadata": {},
   "source": [
    "### Use Flowsheet to get Height and Weight\n",
    "- Height in inches and Weight in oz in flowsheet vs. cm and kg in demographics\n",
    "    - Height(cm) = Height(inches) * 2.54 (in_2_cm)\n",
    "    - Weight(kg) = Weight(oz) * 0.02835 (oz_2_kg)\n",
    "- H&W in demographics are recent values, could be the latest from flowsheet, but not necessarily\n",
    "- Explore H&W first, extract valid values for H&W from flowsheet\n",
    "- Replace by NA invalid H&W from demographics.\n",
    "- Merge them back together\n"
   ]
  },
  {
   "cell_type": "code",
   "execution_count": 9,
   "metadata": {},
   "outputs": [
    {
     "data": {
      "text/html": [
       "45796"
      ],
      "text/latex": [
       "45796"
      ],
      "text/markdown": [
       "45796"
      ],
      "text/plain": [
       "[1] 45796"
      ]
     },
     "metadata": {},
     "output_type": "display_data"
    },
    {
     "data": {
      "text/html": [
       "218930"
      ],
      "text/latex": [
       "218930"
      ],
      "text/markdown": [
       "218930"
      ],
      "text/plain": [
       "[1] 218930"
      ]
     },
     "metadata": {},
     "output_type": "display_data"
    },
    {
     "data": {
      "text/html": [
       "31513"
      ],
      "text/latex": [
       "31513"
      ],
      "text/markdown": [
       "31513"
      ],
      "text/plain": [
       "[1] 31513"
      ]
     },
     "metadata": {},
     "output_type": "display_data"
    },
    {
     "data": {
      "text/html": [
       "30152"
      ],
      "text/latex": [
       "30152"
      ],
      "text/markdown": [
       "30152"
      ],
      "text/plain": [
       "[1] 30152"
      ]
     },
     "metadata": {},
     "output_type": "display_data"
    },
    {
     "data": {
      "text/html": [
       "45796"
      ],
      "text/latex": [
       "45796"
      ],
      "text/markdown": [
       "45796"
      ],
      "text/plain": [
       "[1] 45796"
      ]
     },
     "metadata": {},
     "output_type": "display_data"
    },
    {
     "data": {
      "text/html": [
       "43609"
      ],
      "text/latex": [
       "43609"
      ],
      "text/markdown": [
       "43609"
      ],
      "text/plain": [
       "[1] 43609"
      ]
     },
     "metadata": {},
     "output_type": "display_data"
    },
    {
     "data": {
      "text/html": [
       "45796"
      ],
      "text/latex": [
       "45796"
      ],
      "text/markdown": [
       "45796"
      ],
      "text/plain": [
       "[1] 45796"
      ]
     },
     "metadata": {},
     "output_type": "display_data"
    },
    {
     "data": {
      "text/html": [
       "43609"
      ],
      "text/latex": [
       "43609"
      ],
      "text/markdown": [
       "43609"
      ],
      "text/plain": [
       "[1] 43609"
      ]
     },
     "metadata": {},
     "output_type": "display_data"
    },
    {
     "data": {
      "text/html": [
       "<table>\n",
       "<caption>A grouped_df: 2 × 2</caption>\n",
       "<thead>\n",
       "\t<tr><th scope=col>row_disp_name</th><th scope=col>n</th></tr>\n",
       "\t<tr><th scope=col>&lt;chr&gt;</th><th scope=col>&lt;int&gt;</th></tr>\n",
       "</thead>\n",
       "<tbody>\n",
       "\t<tr><td>Weight</td><td>174944</td></tr>\n",
       "\t<tr><td>Height</td><td> 43986</td></tr>\n",
       "</tbody>\n",
       "</table>\n"
      ],
      "text/latex": [
       "A grouped\\_df: 2 × 2\n",
       "\\begin{tabular}{ll}\n",
       " row\\_disp\\_name & n\\\\\n",
       " <chr> & <int>\\\\\n",
       "\\hline\n",
       "\t Weight & 174944\\\\\n",
       "\t Height &  43986\\\\\n",
       "\\end{tabular}\n"
      ],
      "text/markdown": [
       "\n",
       "A grouped_df: 2 × 2\n",
       "\n",
       "| row_disp_name &lt;chr&gt; | n &lt;int&gt; |\n",
       "|---|---|\n",
       "| Weight | 174944 |\n",
       "| Height |  43986 |\n",
       "\n"
      ],
      "text/plain": [
       "  row_disp_name n     \n",
       "1 Weight        174944\n",
       "2 Height         43986"
      ]
     },
     "metadata": {},
     "output_type": "display_data"
    },
    {
     "data": {
      "text/html": [
       "<style>\n",
       ".list-inline {list-style: none; margin:0; padding: 0}\n",
       ".list-inline>li {display: inline-block}\n",
       ".list-inline>li:not(:last-child)::after {content: \"\\00b7\"; padding: 0 .5ex}\n",
       "</style>\n",
       "<ol class=list-inline><li>'anon_id'</li><li>'pat_enc_csn_id_coded'</li><li>'label'</li><li>'admit_time'</li><li>'inpatient_data_id_coded'</li><li>'ESI'</li><li>'gender'</li><li>'race'</li><li>'recent_height_cm'</li><li>'recent_weight_kg'</li><li>'insurance'</li><li>'recent_date'</li><li>'age'</li><li>'English'</li></ol>\n"
      ],
      "text/latex": [
       "\\begin{enumerate*}\n",
       "\\item 'anon\\_id'\n",
       "\\item 'pat\\_enc\\_csn\\_id\\_coded'\n",
       "\\item 'label'\n",
       "\\item 'admit\\_time'\n",
       "\\item 'inpatient\\_data\\_id\\_coded'\n",
       "\\item 'ESI'\n",
       "\\item 'gender'\n",
       "\\item 'race'\n",
       "\\item 'recent\\_height\\_cm'\n",
       "\\item 'recent\\_weight\\_kg'\n",
       "\\item 'insurance'\n",
       "\\item 'recent\\_date'\n",
       "\\item 'age'\n",
       "\\item 'English'\n",
       "\\end{enumerate*}\n"
      ],
      "text/markdown": [
       "1. 'anon_id'\n",
       "2. 'pat_enc_csn_id_coded'\n",
       "3. 'label'\n",
       "4. 'admit_time'\n",
       "5. 'inpatient_data_id_coded'\n",
       "6. 'ESI'\n",
       "7. 'gender'\n",
       "8. 'race'\n",
       "9. 'recent_height_cm'\n",
       "10. 'recent_weight_kg'\n",
       "11. 'insurance'\n",
       "12. 'recent_date'\n",
       "13. 'age'\n",
       "14. 'English'\n",
       "\n",
       "\n"
      ],
      "text/plain": [
       " [1] \"anon_id\"                 \"pat_enc_csn_id_coded\"   \n",
       " [3] \"label\"                   \"admit_time\"             \n",
       " [5] \"inpatient_data_id_coded\" \"ESI\"                    \n",
       " [7] \"gender\"                  \"race\"                   \n",
       " [9] \"recent_height_cm\"        \"recent_weight_kg\"       \n",
       "[11] \"insurance\"               \"recent_date\"            \n",
       "[13] \"age\"                     \"English\"                "
      ]
     },
     "metadata": {},
     "output_type": "display_data"
    },
    {
     "data": {
      "text/html": [
       "<style>\n",
       ".list-inline {list-style: none; margin:0; padding: 0}\n",
       ".list-inline>li {display: inline-block}\n",
       ".list-inline>li:not(:last-child)::after {content: \"\\00b7\"; padding: 0 .5ex}\n",
       "</style>\n",
       "<ol class=list-inline><li>'anon_id'</li><li>'pat_enc_csn_id_coded'</li><li>'inpatient_data_id_coded'</li><li>'row_disp_name'</li><li>'recorded_time'</li><li>'num_value1'</li><li>'num_value2'</li></ol>\n"
      ],
      "text/latex": [
       "\\begin{enumerate*}\n",
       "\\item 'anon\\_id'\n",
       "\\item 'pat\\_enc\\_csn\\_id\\_coded'\n",
       "\\item 'inpatient\\_data\\_id\\_coded'\n",
       "\\item 'row\\_disp\\_name'\n",
       "\\item 'recorded\\_time'\n",
       "\\item 'num\\_value1'\n",
       "\\item 'num\\_value2'\n",
       "\\end{enumerate*}\n"
      ],
      "text/markdown": [
       "1. 'anon_id'\n",
       "2. 'pat_enc_csn_id_coded'\n",
       "3. 'inpatient_data_id_coded'\n",
       "4. 'row_disp_name'\n",
       "5. 'recorded_time'\n",
       "6. 'num_value1'\n",
       "7. 'num_value2'\n",
       "\n",
       "\n"
      ],
      "text/plain": [
       "[1] \"anon_id\"                 \"pat_enc_csn_id_coded\"   \n",
       "[3] \"inpatient_data_id_coded\" \"row_disp_name\"          \n",
       "[5] \"recorded_time\"           \"num_value1\"             \n",
       "[7] \"num_value2\"             "
      ]
     },
     "metadata": {},
     "output_type": "display_data"
    }
   ],
   "source": [
    "# read inputs\n",
    "datadir = \"../../DataTD\"\n",
    "featuredir = \"../../OutputTD/2_features\"\n",
    "\n",
    "\n",
    "cohort_demo <- read.csv(file.path(featuredir, \"cohort_demo.csv\"))\n",
    "hw <- read.csv(file.path(datadir, \"HWflowsheet.csv\")) %>% \n",
    "        select(anon_id, pat_enc_csn_id_coded, inpatient_data_id_coded, row_disp_name,\n",
    "               recorded_time = recorded_time_utc, num_value1, num_value2) \n",
    "\n",
    "# check for unique CSNs and MRNs\n",
    "nrow(cohort_demo) #45796\n",
    "nrow(hw) #depending on which cohort_demo used to query flowsheet 218930\n",
    "\n",
    "nrow(cohort_demo %>% select(anon_id) %>% distinct()) #31513\n",
    "nrow(hw %>% select(anon_id) %>% distinct())  #30152\n",
    "\n",
    "nrow(cohort_demo %>% select(pat_enc_csn_id_coded) %>% distinct()) #45796\n",
    "nrow(hw %>% select(pat_enc_csn_id_coded) %>% distinct()) #43609\n",
    "\n",
    "# note that distinct CSNs are also distinct (MRNs and CSNs)\n",
    "nrow(cohort_demo %>% select(anon_id, pat_enc_csn_id_coded) %>% distinct()) #45796\n",
    "nrow(hw %>% select(anon_id, pat_enc_csn_id_coded) %>% distinct()) #43609\n",
    "\n",
    "# cohort_demo %>% summarise(n_patients = n_distinct(anon_id))\n",
    "# check num_value1 and num_value2\n",
    "hw %>% group_by(row_disp_name) %>% count(sort=TRUE)\n",
    "\n",
    "colnames(cohort_demo)\n",
    "colnames(hw)"
   ]
  },
  {
   "cell_type": "code",
   "execution_count": 10,
   "metadata": {},
   "outputs": [
    {
     "name": "stderr",
     "output_type": "stream",
     "text": [
      "`summarise()` ungrouping output (override with `.groups` argument)\n",
      "\n"
     ]
    },
    {
     "data": {
      "text/html": [
       "<table>\n",
       "<caption>A tibble: 2 × 3</caption>\n",
       "<thead>\n",
       "\t<tr><th scope=col>row_disp_name</th><th scope=col>n1</th><th scope=col>n2</th></tr>\n",
       "\t<tr><th scope=col>&lt;chr&gt;</th><th scope=col>&lt;int&gt;</th><th scope=col>&lt;int&gt;</th></tr>\n",
       "</thead>\n",
       "<tbody>\n",
       "\t<tr><td>Height</td><td> 43521</td><td>0</td></tr>\n",
       "\t<tr><td>Weight</td><td>171832</td><td>0</td></tr>\n",
       "</tbody>\n",
       "</table>\n"
      ],
      "text/latex": [
       "A tibble: 2 × 3\n",
       "\\begin{tabular}{lll}\n",
       " row\\_disp\\_name & n1 & n2\\\\\n",
       " <chr> & <int> & <int>\\\\\n",
       "\\hline\n",
       "\t Height &  43521 & 0\\\\\n",
       "\t Weight & 171832 & 0\\\\\n",
       "\\end{tabular}\n"
      ],
      "text/markdown": [
       "\n",
       "A tibble: 2 × 3\n",
       "\n",
       "| row_disp_name &lt;chr&gt; | n1 &lt;int&gt; | n2 &lt;int&gt; |\n",
       "|---|---|---|\n",
       "| Height |  43521 | 0 |\n",
       "| Weight | 171832 | 0 |\n",
       "\n"
      ],
      "text/plain": [
       "  row_disp_name n1     n2\n",
       "1 Height         43521 0 \n",
       "2 Weight        171832 0 "
      ]
     },
     "metadata": {},
     "output_type": "display_data"
    },
    {
     "data": {
      "text/plain": [
       "   num_value1       num_value2    \n",
       " Min.   :    2.33   Mode:logical  \n",
       " 1st Qu.: 1714.30   NA's:218930   \n",
       " Median : 2384.50                 \n",
       " Mean   : 2203.52                 \n",
       " 3rd Qu.: 2987.20                 \n",
       " Max.   :22046.00                 \n",
       " NA's   :3577                     "
      ]
     },
     "metadata": {},
     "output_type": "display_data"
    }
   ],
   "source": [
    "# there's nothing in num_value2 for Height and Weight under flowsheet\n",
    "# hw %>% group_by(row_disp_name, units) %>% summarise(count1 = length(num_value1), count2 = num_value2) %>% distinct()\n",
    "\n",
    "hw %>% group_by(row_disp_name) %>% \n",
    "        summarise(n1 = length(num_value1[!is.na(num_value1)]), n2=length(num_value2[!is.na(num_value2)]))\n",
    "\n",
    "summary(hw %>% select(num_value1, num_value2))"
   ]
  },
  {
   "cell_type": "code",
   "execution_count": 11,
   "metadata": {},
   "outputs": [
    {
     "data": {
      "text/html": [
       "<table>\n",
       "<caption>A data.frame: 12 × 6</caption>\n",
       "<thead>\n",
       "\t<tr><th scope=col>anon_id</th><th scope=col>pat_enc_csn_id_coded</th><th scope=col>inpatient_data_id_coded</th><th scope=col>row_disp_name</th><th scope=col>recorded_time</th><th scope=col>num_value1</th></tr>\n",
       "\t<tr><th scope=col>&lt;chr&gt;</th><th scope=col>&lt;dbl&gt;</th><th scope=col>&lt;int&gt;</th><th scope=col>&lt;chr&gt;</th><th scope=col>&lt;chr&gt;</th><th scope=col>&lt;dbl&gt;</th></tr>\n",
       "</thead>\n",
       "<tbody>\n",
       "\t<tr><td>JC2a092e0</td><td>131283843655</td><td>46362760</td><td>Weight</td><td>2020-03-31 07:00:00+00:00</td><td>3006.40</td></tr>\n",
       "\t<tr><td>JC2a092e0</td><td>131283843655</td><td>46362760</td><td>Weight</td><td>2020-03-31 07:00:00+00:00</td><td>3001.78</td></tr>\n",
       "\t<tr><td>JC2a22262</td><td>131287061282</td><td>47545247</td><td>Weight</td><td>2020-03-31 07:00:00+00:00</td><td>2816.00</td></tr>\n",
       "\t<tr><td>JC2a22262</td><td>131287061282</td><td>47545247</td><td>Weight</td><td>2020-03-31 07:00:00+00:00</td><td>3216.95</td></tr>\n",
       "\t<tr><td>JCd245f1 </td><td>131287460729</td><td>47793743</td><td>Weight</td><td>2020-03-31 07:00:00+00:00</td><td>2651.20</td></tr>\n",
       "\t<tr><td>JCd245f1 </td><td>131287460729</td><td>47793743</td><td>Weight</td><td>2020-03-31 07:00:00+00:00</td><td>2730.18</td></tr>\n",
       "\t<tr><td>JCe6cf4d </td><td>131284198681</td><td>46589021</td><td>Weight</td><td>2020-03-31 07:00:00+00:00</td><td>3495.61</td></tr>\n",
       "\t<tr><td>JCe6cf4d </td><td>131284198681</td><td>46589021</td><td>Weight</td><td>2020-03-31 07:00:00+00:00</td><td>3462.40</td></tr>\n",
       "\t<tr><td>JCe7239c </td><td>131284737083</td><td>46855910</td><td>Weight</td><td>2020-03-31 07:00:00+00:00</td><td>3681.60</td></tr>\n",
       "\t<tr><td>JCe7239c </td><td>131284737083</td><td>46855910</td><td>Weight</td><td>2020-03-31 07:00:00+00:00</td><td>3717.84</td></tr>\n",
       "\t<tr><td>JCec1a40 </td><td>131287674025</td><td>47922948</td><td>Weight</td><td>2020-03-31 07:00:00+00:00</td><td>2536.17</td></tr>\n",
       "\t<tr><td>JCec1a40 </td><td>131287674025</td><td>47922948</td><td>Weight</td><td>2020-03-31 07:00:00+00:00</td><td>2553.81</td></tr>\n",
       "</tbody>\n",
       "</table>\n"
      ],
      "text/latex": [
       "A data.frame: 12 × 6\n",
       "\\begin{tabular}{llllll}\n",
       " anon\\_id & pat\\_enc\\_csn\\_id\\_coded & inpatient\\_data\\_id\\_coded & row\\_disp\\_name & recorded\\_time & num\\_value1\\\\\n",
       " <chr> & <dbl> & <int> & <chr> & <chr> & <dbl>\\\\\n",
       "\\hline\n",
       "\t JC2a092e0 & 131283843655 & 46362760 & Weight & 2020-03-31 07:00:00+00:00 & 3006.40\\\\\n",
       "\t JC2a092e0 & 131283843655 & 46362760 & Weight & 2020-03-31 07:00:00+00:00 & 3001.78\\\\\n",
       "\t JC2a22262 & 131287061282 & 47545247 & Weight & 2020-03-31 07:00:00+00:00 & 2816.00\\\\\n",
       "\t JC2a22262 & 131287061282 & 47545247 & Weight & 2020-03-31 07:00:00+00:00 & 3216.95\\\\\n",
       "\t JCd245f1  & 131287460729 & 47793743 & Weight & 2020-03-31 07:00:00+00:00 & 2651.20\\\\\n",
       "\t JCd245f1  & 131287460729 & 47793743 & Weight & 2020-03-31 07:00:00+00:00 & 2730.18\\\\\n",
       "\t JCe6cf4d  & 131284198681 & 46589021 & Weight & 2020-03-31 07:00:00+00:00 & 3495.61\\\\\n",
       "\t JCe6cf4d  & 131284198681 & 46589021 & Weight & 2020-03-31 07:00:00+00:00 & 3462.40\\\\\n",
       "\t JCe7239c  & 131284737083 & 46855910 & Weight & 2020-03-31 07:00:00+00:00 & 3681.60\\\\\n",
       "\t JCe7239c  & 131284737083 & 46855910 & Weight & 2020-03-31 07:00:00+00:00 & 3717.84\\\\\n",
       "\t JCec1a40  & 131287674025 & 47922948 & Weight & 2020-03-31 07:00:00+00:00 & 2536.17\\\\\n",
       "\t JCec1a40  & 131287674025 & 47922948 & Weight & 2020-03-31 07:00:00+00:00 & 2553.81\\\\\n",
       "\\end{tabular}\n"
      ],
      "text/markdown": [
       "\n",
       "A data.frame: 12 × 6\n",
       "\n",
       "| anon_id &lt;chr&gt; | pat_enc_csn_id_coded &lt;dbl&gt; | inpatient_data_id_coded &lt;int&gt; | row_disp_name &lt;chr&gt; | recorded_time &lt;chr&gt; | num_value1 &lt;dbl&gt; |\n",
       "|---|---|---|---|---|---|\n",
       "| JC2a092e0 | 131283843655 | 46362760 | Weight | 2020-03-31 07:00:00+00:00 | 3006.40 |\n",
       "| JC2a092e0 | 131283843655 | 46362760 | Weight | 2020-03-31 07:00:00+00:00 | 3001.78 |\n",
       "| JC2a22262 | 131287061282 | 47545247 | Weight | 2020-03-31 07:00:00+00:00 | 2816.00 |\n",
       "| JC2a22262 | 131287061282 | 47545247 | Weight | 2020-03-31 07:00:00+00:00 | 3216.95 |\n",
       "| JCd245f1  | 131287460729 | 47793743 | Weight | 2020-03-31 07:00:00+00:00 | 2651.20 |\n",
       "| JCd245f1  | 131287460729 | 47793743 | Weight | 2020-03-31 07:00:00+00:00 | 2730.18 |\n",
       "| JCe6cf4d  | 131284198681 | 46589021 | Weight | 2020-03-31 07:00:00+00:00 | 3495.61 |\n",
       "| JCe6cf4d  | 131284198681 | 46589021 | Weight | 2020-03-31 07:00:00+00:00 | 3462.40 |\n",
       "| JCe7239c  | 131284737083 | 46855910 | Weight | 2020-03-31 07:00:00+00:00 | 3681.60 |\n",
       "| JCe7239c  | 131284737083 | 46855910 | Weight | 2020-03-31 07:00:00+00:00 | 3717.84 |\n",
       "| JCec1a40  | 131287674025 | 47922948 | Weight | 2020-03-31 07:00:00+00:00 | 2536.17 |\n",
       "| JCec1a40  | 131287674025 | 47922948 | Weight | 2020-03-31 07:00:00+00:00 | 2553.81 |\n",
       "\n"
      ],
      "text/plain": [
       "   anon_id   pat_enc_csn_id_coded inpatient_data_id_coded row_disp_name\n",
       "1  JC2a092e0 131283843655         46362760                Weight       \n",
       "2  JC2a092e0 131283843655         46362760                Weight       \n",
       "3  JC2a22262 131287061282         47545247                Weight       \n",
       "4  JC2a22262 131287061282         47545247                Weight       \n",
       "5  JCd245f1  131287460729         47793743                Weight       \n",
       "6  JCd245f1  131287460729         47793743                Weight       \n",
       "7  JCe6cf4d  131284198681         46589021                Weight       \n",
       "8  JCe6cf4d  131284198681         46589021                Weight       \n",
       "9  JCe7239c  131284737083         46855910                Weight       \n",
       "10 JCe7239c  131284737083         46855910                Weight       \n",
       "11 JCec1a40  131287674025         47922948                Weight       \n",
       "12 JCec1a40  131287674025         47922948                Weight       \n",
       "   recorded_time             num_value1\n",
       "1  2020-03-31 07:00:00+00:00 3006.40   \n",
       "2  2020-03-31 07:00:00+00:00 3001.78   \n",
       "3  2020-03-31 07:00:00+00:00 2816.00   \n",
       "4  2020-03-31 07:00:00+00:00 3216.95   \n",
       "5  2020-03-31 07:00:00+00:00 2651.20   \n",
       "6  2020-03-31 07:00:00+00:00 2730.18   \n",
       "7  2020-03-31 07:00:00+00:00 3495.61   \n",
       "8  2020-03-31 07:00:00+00:00 3462.40   \n",
       "9  2020-03-31 07:00:00+00:00 3681.60   \n",
       "10 2020-03-31 07:00:00+00:00 3717.84   \n",
       "11 2020-03-31 07:00:00+00:00 2536.17   \n",
       "12 2020-03-31 07:00:00+00:00 2553.81   "
      ]
     },
     "metadata": {},
     "output_type": "display_data"
    }
   ],
   "source": [
    "# first, let's remove the num_value2 as nothing is in there\n",
    "hw <- hw %>% select(-num_value2) %>% distinct()\n",
    "\n",
    "# grab all duplicates columns with different num_value1 as these interferes with spread\n",
    "hw[duplicated(hw[,1:5]) | duplicated(hw[,1:5], fromLast=TRUE), ] %>% \n",
    "    arrange(anon_id, pat_enc_csn_id_coded, recorded_time) \n",
    "# group_by(hw, colnames) %>% filter(n() > 1)"
   ]
  },
  {
   "cell_type": "code",
   "execution_count": 12,
   "metadata": {},
   "outputs": [
    {
     "name": "stderr",
     "output_type": "stream",
     "text": [
      "`summarise()` regrouping output by 'anon_id', 'pat_enc_csn_id_coded', 'inpatient_data_id_coded', 'row_disp_name' (override with `.groups` argument)\n",
      "\n"
     ]
    },
    {
     "data": {
      "text/html": [
       "185645"
      ],
      "text/latex": [
       "185645"
      ],
      "text/markdown": [
       "185645"
      ],
      "text/plain": [
       "[1] 185645"
      ]
     },
     "metadata": {},
     "output_type": "display_data"
    },
    {
     "data": {
      "text/html": [
       "<style>\n",
       ".list-inline {list-style: none; margin:0; padding: 0}\n",
       ".list-inline>li {display: inline-block}\n",
       ".list-inline>li:not(:last-child)::after {content: \"\\00b7\"; padding: 0 .5ex}\n",
       "</style>\n",
       "<ol class=list-inline><li>'anon_id'</li><li>'pat_enc_csn_id_coded'</li><li>'inpatient_data_id_coded'</li><li>'recorded_time'</li><li>'Height'</li><li>'Weight'</li></ol>\n"
      ],
      "text/latex": [
       "\\begin{enumerate*}\n",
       "\\item 'anon\\_id'\n",
       "\\item 'pat\\_enc\\_csn\\_id\\_coded'\n",
       "\\item 'inpatient\\_data\\_id\\_coded'\n",
       "\\item 'recorded\\_time'\n",
       "\\item 'Height'\n",
       "\\item 'Weight'\n",
       "\\end{enumerate*}\n"
      ],
      "text/markdown": [
       "1. 'anon_id'\n",
       "2. 'pat_enc_csn_id_coded'\n",
       "3. 'inpatient_data_id_coded'\n",
       "4. 'recorded_time'\n",
       "5. 'Height'\n",
       "6. 'Weight'\n",
       "\n",
       "\n"
      ],
      "text/plain": [
       "[1] \"anon_id\"                 \"pat_enc_csn_id_coded\"   \n",
       "[3] \"inpatient_data_id_coded\" \"recorded_time\"          \n",
       "[5] \"Height\"                  \"Weight\"                 "
      ]
     },
     "metadata": {},
     "output_type": "display_data"
    }
   ],
   "source": [
    "# let's take the average of these values because they are very similar.\n",
    "# Otherwise, if there are errors, remove them first. Spread to Height and Weight columns\n",
    "hw <- hw %>% group_by(anon_id, pat_enc_csn_id_coded, inpatient_data_id_coded, row_disp_name, recorded_time) %>%\n",
    "            summarize(num_value1 = mean(num_value1, na.rm=TRUE)) %>% spread(row_disp_name, num_value1)\n",
    "nrow(hw) #185645\n",
    "colnames(hw)"
   ]
  },
  {
   "cell_type": "markdown",
   "metadata": {},
   "source": [
    "### Height and Weight\n",
    "- Height in inches and Weight in oz in flowsheet vs. cm and kg in demographics\n",
    "    - Height(cm) = Height(inches) * 2.54 (in_2_cm)\n",
    "    - Weight(kg) = Weight(oz) * 0.02835 (oz_2_kg) \n",
    "\n",
    "- Aim to use flowsheet H&W as the source, closest time to admit time. \n",
    "    - Height: compare values within patients\n",
    "    - Weight: compare values within encounters\n",
    "- For missing H&W values, get replacements from demographics' H&W"
   ]
  },
  {
   "cell_type": "code",
   "execution_count": 13,
   "metadata": {},
   "outputs": [
    {
     "data": {
      "text/html": [
       "33608"
      ],
      "text/latex": [
       "33608"
      ],
      "text/markdown": [
       "33608"
      ],
      "text/plain": [
       "[1] 33608"
      ]
     },
     "metadata": {},
     "output_type": "display_data"
    },
    {
     "data": {
      "text/html": [
       "44383"
      ],
      "text/latex": [
       "44383"
      ],
      "text/markdown": [
       "44383"
      ],
      "text/plain": [
       "[1] 44383"
      ]
     },
     "metadata": {},
     "output_type": "display_data"
    },
    {
     "data": {
      "text/html": [
       "44383"
      ],
      "text/latex": [
       "44383"
      ],
      "text/markdown": [
       "44383"
      ],
      "text/plain": [
       "[1] 44383"
      ]
     },
     "metadata": {},
     "output_type": "display_data"
    }
   ],
   "source": [
    "# Height (fs vs. demo)\n",
    "# recent_height_cm is likely the latest flowsheet height, all patients appear in flowsheet\n",
    "hidfs <- hw %>% filter(!is.na(Height)) %>% distinct(pat_enc_csn_id_coded)\n",
    "hiddm <- cohort_demo %>% filter(!is.na(recent_height_cm)) %>% distinct(pat_enc_csn_id_coded)\n",
    "\n",
    "nrow(hidfs) #33608\n",
    "nrow(hiddm) #44383\n",
    "\n",
    "# we only care about the ids in cohort_demo, should be a subset of ids in flowsheet\n",
    "length(hiddm$pat_enc_csn_id_coded %in% hidfs$pat_enc_csn_id_coded) #44383"
   ]
  },
  {
   "cell_type": "code",
   "execution_count": 14,
   "metadata": {},
   "outputs": [
    {
     "data": {
      "text/html": [
       "43213"
      ],
      "text/latex": [
       "43213"
      ],
      "text/markdown": [
       "43213"
      ],
      "text/plain": [
       "[1] 43213"
      ]
     },
     "metadata": {},
     "output_type": "display_data"
    },
    {
     "data": {
      "text/html": [
       "45486"
      ],
      "text/latex": [
       "45486"
      ],
      "text/markdown": [
       "45486"
      ],
      "text/plain": [
       "[1] 45486"
      ]
     },
     "metadata": {},
     "output_type": "display_data"
    },
    {
     "data": {
      "text/html": [
       "45486"
      ],
      "text/latex": [
       "45486"
      ],
      "text/markdown": [
       "45486"
      ],
      "text/plain": [
       "[1] 45486"
      ]
     },
     "metadata": {},
     "output_type": "display_data"
    }
   ],
   "source": [
    "# Weight (fs vs. demo)\n",
    "# recent_weight_kg is likely the latest flowsheet height, all patients appear in flowsheet\n",
    "widfs <- hw %>% filter(!is.na(Weight)) %>% distinct(pat_enc_csn_id_coded)\n",
    "widdm <- cohort_demo %>% filter(!is.na(recent_weight_kg)) %>% distinct(pat_enc_csn_id_coded)\n",
    "\n",
    "nrow(widfs)\n",
    "nrow(widdm)\n",
    "length(widdm$pat_enc_csn_id_coded %in% widfs$pat_enc_csn_id_coded)"
   ]
  },
  {
   "cell_type": "code",
   "execution_count": null,
   "metadata": {},
   "outputs": [],
   "source": [
    "# nrow(left_join(cohort_demo, hw)) - nrow(left_join(cohort_demo, hw) %>% filter(is.na(Height), is.na(Weight))) #187832"
   ]
  },
  {
   "cell_type": "code",
   "execution_count": 15,
   "metadata": {},
   "outputs": [
    {
     "name": "stderr",
     "output_type": "stream",
     "text": [
      "Joining, by = c(\"anon_id\", \"pat_enc_csn_id_coded\", \"inpatient_data_id_coded\")\n",
      "\n"
     ]
    },
    {
     "data": {
      "text/html": [
       "187832"
      ],
      "text/latex": [
       "187832"
      ],
      "text/markdown": [
       "187832"
      ],
      "text/plain": [
       "[1] 187832"
      ]
     },
     "metadata": {},
     "output_type": "display_data"
    }
   ],
   "source": [
    "# calculate time difference, by the minutes and days\n",
    "# calculate difference in H&W of flowsheet and demographics, cm & kg\n",
    "in_2_cm = 2.54\n",
    "oz_2_kg = 0.02835\n",
    "\n",
    "hw1 <- left_join(cohort_demo, hw) %>%  \n",
    "                mutate(adredif = abs(as.numeric(difftime(admit_time, recorded_time, units = 'mins'))),\n",
    "                       dmfsdif = as.numeric(difftime(date(ymd(recent_date)), date(ymd_hms(recorded_time)), units = 'days')),\n",
    "                       Hfsdmdif = abs(round(Height*2.54,2) - recent_height_cm),\n",
    "                       Wfsdmdif = abs(round(Weight*0.02835,2) - recent_weight_kg)) #%>%\n",
    "#                 group_by(anon_id, pat_enc_csn_id_coded) %>%\n",
    "#                 filter(mindiff == min(mindiff)) %>% slice(1L) %>%\n",
    "#                 filter_at(vars(Weight, Height), any_vars(!is.na(.))) # remove any rows that have both NA in H&W\n",
    "\n",
    "# drop rows that have NA in both (Height and Weight)\n",
    "# if there's NA, when widening the df, will have a NA col                \n",
    "nrow(hw1) #187832"
   ]
  },
  {
   "cell_type": "code",
   "execution_count": 16,
   "metadata": {},
   "outputs": [],
   "source": [
    "# many weights recorded, some are errorenous\n",
    "# check encounters with only 1 H&W vs. more than 1\n",
    "# looks for Weight information within same encounter (e) # (and possibly same patient (p))\n",
    "\n",
    "suppressWarnings(\n",
    "hw1 <- hw1 %>% group_by(anon_id, pat_enc_csn_id_coded) %>% \n",
    "                mutate(nWe = length(Weight[!is.na(Weight)]),\n",
    "                       minWe = min(Weight, na.rm=TRUE), maxWe = max(Weight, na.rm=TRUE),\n",
    "                       rmaxWe = round(maxWe/Weight, 2)) #%>%\n",
    "    \n",
    "# nHe = length(Height[!is.na(Height)]),\n",
    "# minHe = min(Height, na.rm=TRUE), maxHe = max(Height, na.rm=TRUE),\n",
    "# rmaxHe = round(maxHe/Height, 2),\n",
    "    \n",
    "#                 group_by(anon_id) %>% \n",
    "#                 mutate(nWp = length(Weight[!is.na(Weight)]), nHp = length(Height[!is.na(Height)]),\n",
    "#                        minW = min(Weight, na.rm=TRUE), maxW = max(Weight, na.rm=TRUE),\n",
    "#                        rmaxWp = round(maxW/Weight, 2)) #%>% select(-'<NA>')\n",
    ")"
   ]
  },
  {
   "cell_type": "markdown",
   "metadata": {},
   "source": [
    "### Explore Height (from flowsheet, in inches): \n",
    "- Consider errors if Height < 45in (~ 114m) or > 90in (~2.2m)\n",
    "- For the rest, get Height from flowsheet that is closest to Height from demographics, per patient, regardless of encounters"
   ]
  },
  {
   "cell_type": "code",
   "execution_count": 17,
   "metadata": {},
   "outputs": [
    {
     "data": {
      "text/html": [
       "90"
      ],
      "text/latex": [
       "90"
      ],
      "text/markdown": [
       "90"
      ],
      "text/plain": [
       "[1] 90"
      ]
     },
     "metadata": {},
     "output_type": "display_data"
    },
    {
     "data": {
      "image/png": "[encoded data removed]",
      "text/plain": [
       "Plot with title \"Histogram of hw1[hw1$Height < 50, ]$Height\""
      ]
     },
     "metadata": {
      "image/png": {
       "height": 420,
       "width": 420
      }
     },
     "output_type": "display_data"
    }
   ],
   "source": [
    "hist(hw1[hw1$Height < 50,]$Height, xlim=c(0, 100), col=\"slateblue\") # remove < 40 (keep 42)\n",
    "hist(hw1[hw1$Height > 80,]$Height, col=\"blue\", add=TRUE) # remove > 85 or 90\n",
    "\n",
    "errorH <- hw1 %>% filter(Height < 50 | Height > 80) %>% arrange(Height)\n",
    "nrow(errorH)"
   ]
  },
  {
   "cell_type": "code",
   "execution_count": 18,
   "metadata": {},
   "outputs": [
    {
     "data": {
      "text/html": [
       "<table>\n",
       "<caption>A grouped_df: 90 × 8</caption>\n",
       "<thead>\n",
       "\t<tr><th scope=col>anon_id</th><th scope=col>pat_enc_csn_id_coded</th><th scope=col>recent_date</th><th scope=col>recent_weight_kg</th><th scope=col>recent_height_cm</th><th scope=col>admit_time</th><th scope=col>recorded_time</th><th scope=col>Height</th></tr>\n",
       "\t<tr><th scope=col>&lt;chr&gt;</th><th scope=col>&lt;dbl&gt;</th><th scope=col>&lt;chr&gt;</th><th scope=col>&lt;dbl&gt;</th><th scope=col>&lt;dbl&gt;</th><th scope=col>&lt;chr&gt;</th><th scope=col>&lt;chr&gt;</th><th scope=col>&lt;dbl&gt;</th></tr>\n",
       "</thead>\n",
       "<tbody>\n",
       "\t<tr><td>JCce2775 </td><td>131178284907</td><td>2019-01-01</td><td> 48.20</td><td>152.40</td><td>2016-01-29 01:54:00</td><td>2016-01-29 19:27:00+00:00</td><td> 4.800</td></tr>\n",
       "\t<tr><td>JCd6b805 </td><td>131064542495</td><td>2019-01-01</td><td> 71.80</td><td> 12.95</td><td>2015-01-04 10:50:00</td><td>2015-01-04 12:00:00+00:00</td><td> 5.100</td></tr>\n",
       "\t<tr><td>JCdc2922 </td><td>131265024354</td><td>2019-09-05</td><td> 67.00</td><td>162.56</td><td>2019-04-16 22:28:00</td><td>2019-04-17 01:04:00+00:00</td><td> 5.400</td></tr>\n",
       "\t<tr><td>JCe1c1fc </td><td>131265023495</td><td>2020-03-31</td><td>107.50</td><td>157.48</td><td>2019-04-10 20:39:00</td><td>2019-04-11 00:35:00+00:00</td><td> 5.400</td></tr>\n",
       "\t<tr><td>JCe0abb0 </td><td>131265179321</td><td>2019-09-17</td><td> 75.30</td><td> 14.48</td><td>2019-03-26 13:37:00</td><td>2019-03-28 19:12:00+00:00</td><td> 5.700</td></tr>\n",
       "\t<tr><td>JCcc3bf6 </td><td>131186309411</td><td>2020-03-31</td><td>107.90</td><td>185.40</td><td>2016-04-29 19:23:00</td><td>2016-04-29 20:16:00+00:00</td><td> 6.000</td></tr>\n",
       "\t<tr><td>JCe40481 </td><td>131090941774</td><td>2020-03-31</td><td> 78.02</td><td>182.88</td><td>2015-06-29 06:27:00</td><td>2015-06-29 06:31:00+00:00</td><td> 6.000</td></tr>\n",
       "\t<tr><td>JCe42654 </td><td>131197301808</td><td>2019-01-01</td><td> 77.40</td><td>182.90</td><td>2016-09-05 05:18:00</td><td>2016-09-05 07:01:00+00:00</td><td> 6.000</td></tr>\n",
       "\t<tr><td>JCe48557 </td><td>131224927517</td><td>2020-03-31</td><td> 81.65</td><td>170.20</td><td>2017-05-11 00:59:00</td><td>2017-05-11 04:00:00+00:00</td><td>14.488</td></tr>\n",
       "\t<tr><td>JCe43cae </td><td>131242746130</td><td>2020-03-22</td><td> 58.50</td><td>157.48</td><td>2017-12-24 18:39:00</td><td>2017-12-24 21:55:00+00:00</td><td>22.835</td></tr>\n",
       "\t<tr><td>JCe1f0bf </td><td>131190286047</td><td>2019-01-01</td><td> 53.80</td><td>152.40</td><td>2016-07-06 19:17:00</td><td>2016-07-07 00:00:00+00:00</td><td>23.622</td></tr>\n",
       "\t<tr><td>JC29fe9bb</td><td>131259970332</td><td>2020-03-31</td><td> 76.70</td><td>177.80</td><td>2018-12-05 11:17:00</td><td>2018-12-05 14:20:00+00:00</td><td>24.016</td></tr>\n",
       "\t<tr><td>JCce3cb0 </td><td>131178358957</td><td>2019-01-01</td><td> 71.80</td><td>157.48</td><td>2016-02-21 21:51:00</td><td>2016-02-21 22:30:00+00:00</td><td>24.016</td></tr>\n",
       "\t<tr><td>JCd9b7cd </td><td>131109877957</td><td>2020-03-31</td><td> 66.70</td><td>157.48</td><td>2015-08-15 02:28:00</td><td>2015-08-15 04:06:00+00:00</td><td>24.016</td></tr>\n",
       "\t<tr><td>JCe163f6 </td><td>131082358874</td><td>2019-01-01</td><td> 57.80</td><td>151.00</td><td>2015-04-01 15:50:00</td><td>2015-04-01 18:09:00+00:00</td><td>24.016</td></tr>\n",
       "\t<tr><td>JC2a1a175</td><td>131280469074</td><td>2020-03-31</td><td> 48.90</td><td>164.00</td><td>2019-12-26 00:25:00</td><td>2019-12-26 05:25:00+00:00</td><td>24.803</td></tr>\n",
       "\t<tr><td>JCeb867b </td><td>131127570350</td><td>2019-01-01</td><td>119.50</td><td>172.72</td><td>2015-10-30 23:00:00</td><td>2015-11-01 21:04:00+00:00</td><td>25.197</td></tr>\n",
       "\t<tr><td>JC2a2d702</td><td>131267052804</td><td>2020-03-31</td><td> 82.80</td><td> 65.00</td><td>2019-05-15 01:14:00</td><td>2019-05-15 04:14:00+00:00</td><td>25.591</td></tr>\n",
       "\t<tr><td>JCda7d7f </td><td>131178756567</td><td>2020-03-31</td><td> 95.15</td><td>175.26</td><td>2016-02-01 04:44:00</td><td>2016-02-01 02:50:00+00:00</td><td>25.591</td></tr>\n",
       "\t<tr><td>JCd0f204 </td><td>131075630033</td><td>2020-03-25</td><td> 46.27</td><td>165.00</td><td>2015-03-17 09:54:00</td><td>2015-03-16 13:41:00+00:00</td><td>25.984</td></tr>\n",
       "\t<tr><td>JCd8d241 </td><td>131236791940</td><td>2019-08-13</td><td> 64.50</td><td> 66.00</td><td>2017-08-06 23:17:00</td><td>2017-08-07 22:53:00+00:00</td><td>25.984</td></tr>\n",
       "\t<tr><td>JCdef801 </td><td>131258560754</td><td>2019-01-01</td><td> 97.00</td><td>167.60</td><td>2018-10-09 17:57:00</td><td>2018-10-10 17:00:00+00:00</td><td>25.984</td></tr>\n",
       "\t<tr><td>JCe406a9 </td><td>131176855424</td><td>2020-03-28</td><td> 64.41</td><td>170.18</td><td>2016-02-13 05:05:00</td><td>2016-02-14 19:33:00+00:00</td><td>25.984</td></tr>\n",
       "\t<tr><td>JCe623ae </td><td>131197384445</td><td>2020-03-31</td><td> 86.91</td><td>165.10</td><td>2016-10-09 20:59:00</td><td>2016-10-10 00:50:00+00:00</td><td>25.984</td></tr>\n",
       "\t<tr><td>JCe99f34 </td><td>131065928820</td><td>2019-01-01</td><td> 90.00</td><td> 66.00</td><td>2015-02-03 07:55:00</td><td>2015-02-03 09:00:00+00:00</td><td>25.984</td></tr>\n",
       "\t<tr><td>JCdfdae4 </td><td>131249825708</td><td>2020-03-31</td><td>110.90</td><td>172.72</td><td>2018-05-16 07:54:00</td><td>2018-05-16 09:25:00+00:00</td><td>26.378</td></tr>\n",
       "\t<tr><td>JCe72d42 </td><td>131183449817</td><td>2019-01-01</td><td> 87.00</td><td> 67.00</td><td>2016-04-10 07:10:00</td><td>2016-04-10 09:00:00+00:00</td><td>26.378</td></tr>\n",
       "\t<tr><td>JCd2d4eb </td><td>131236770818</td><td>2019-01-01</td><td>102.06</td><td> 68.00</td><td>2017-08-12 11:21:00</td><td>2017-08-12 16:15:00+00:00</td><td>26.772</td></tr>\n",
       "\t<tr><td>JCd311c8 </td><td>131094187978</td><td>2020-03-30</td><td> 87.25</td><td>177.80</td><td>2015-08-01 05:17:00</td><td>2015-08-01 05:21:00+00:00</td><td>27.559</td></tr>\n",
       "\t<tr><td>JCd1915e </td><td>131176443085</td><td>2019-01-01</td><td> 82.70</td><td>176.50</td><td>2016-01-08 21:20:00</td><td>2016-01-10 23:00:00+00:00</td><td>27.953</td></tr>\n",
       "\t<tr><td>JCe49512 </td><td>131270216660</td><td>2020-03-31</td><td> 81.00</td><td>188.00</td><td>2019-06-11 13:23:00</td><td>2019-06-11 16:00:00+00:00</td><td>29.134</td></tr>\n",
       "\t<tr><td>JCcf6c0c </td><td>131108612485</td><td>2020-02-21</td><td>117.70</td><td>182.20</td><td>2015-07-31 22:34:00</td><td>2015-08-02 22:05:00+00:00</td><td>30.315</td></tr>\n",
       "\t<tr><td>JCe2946a </td><td>131191467120</td><td>2019-01-01</td><td> 30.00</td><td>142.24</td><td>2016-07-21 02:36:00</td><td>2016-07-21 04:42:00+00:00</td><td>42.000</td></tr>\n",
       "\t<tr><td>JCe2946a </td><td>131194573963</td><td>2019-01-01</td><td> 30.00</td><td>142.24</td><td>2016-08-23 06:06:00</td><td>2016-08-24 22:00:00+00:00</td><td>42.008</td></tr>\n",
       "\t<tr><td>JCea7543 </td><td>131284469623</td><td>2020-03-08</td><td> 75.10</td><td>149.80</td><td>2020-02-09 03:21:00</td><td>2020-02-13 18:02:25+00:00</td><td>43.701</td></tr>\n",
       "\t<tr><td>JCe0ac93 </td><td>131283990134</td><td>2020-03-31</td><td> 63.00</td><td>115.00</td><td>2020-03-08 06:38:00</td><td>2020-03-09 02:19:00+00:00</td><td>45.276</td></tr>\n",
       "\t<tr><td>JCe57462 </td><td>131072762363</td><td>2020-03-31</td><td> 40.82</td><td>120.00</td><td>2015-02-27 09:20:00</td><td>2015-02-27 10:03:00+00:00</td><td>47.244</td></tr>\n",
       "\t<tr><td>JCe57462 </td><td>131072762363</td><td>2020-03-31</td><td> 40.82</td><td>120.00</td><td>2015-02-27 09:20:00</td><td>2015-02-27 18:00:00+00:00</td><td>47.244</td></tr>\n",
       "\t<tr><td>JCe57462 </td><td>131072762363</td><td>2020-03-31</td><td> 40.82</td><td>120.00</td><td>2015-02-27 09:20:00</td><td>2015-03-01 15:55:00+00:00</td><td>47.244</td></tr>\n",
       "\t<tr><td>JCe57462 </td><td>131072762363</td><td>2020-03-31</td><td> 40.82</td><td>120.00</td><td>2015-02-27 09:20:00</td><td>2015-03-01 20:15:00+00:00</td><td>47.244</td></tr>\n",
       "\t<tr><td>JCe57462 </td><td>131072762363</td><td>2020-03-31</td><td> 40.82</td><td>120.00</td><td>2015-02-27 09:20:00</td><td>2015-03-02 00:45:00+00:00</td><td>47.244</td></tr>\n",
       "\t<tr><td>JCe57462 </td><td>131072762363</td><td>2020-03-31</td><td> 40.82</td><td>120.00</td><td>2015-02-27 09:20:00</td><td>2015-03-02 04:06:00+00:00</td><td>47.244</td></tr>\n",
       "\t<tr><td>JCe57462 </td><td>131072762363</td><td>2020-03-31</td><td> 40.82</td><td>120.00</td><td>2015-02-27 09:20:00</td><td>2015-03-02 08:02:00+00:00</td><td>47.244</td></tr>\n",
       "\t<tr><td>JCe57462 </td><td>131072762363</td><td>2020-03-31</td><td> 40.82</td><td>120.00</td><td>2015-02-27 09:20:00</td><td>2015-03-07 04:59:00+00:00</td><td>47.244</td></tr>\n",
       "\t<tr><td>JCe57462 </td><td>131200799133</td><td>2020-03-31</td><td> 40.82</td><td>120.00</td><td>2016-10-20 01:58:00</td><td>2016-10-20 22:00:00+00:00</td><td>47.244</td></tr>\n",
       "\t<tr><td>JCd7336f </td><td>131261814340</td><td>2020-02-29</td><td> 63.40</td><td>142.20</td><td>2019-01-18 19:26:00</td><td>2019-01-19 00:11:00+00:00</td><td>47.638</td></tr>\n",
       "\t<tr><td>JCdd3957 </td><td>131228153200</td><td>2019-01-01</td><td> 66.50</td><td>121.00</td><td>2017-04-21 01:12:00</td><td>2017-04-25 07:05:00+00:00</td><td>47.638</td></tr>\n",
       "\t<tr><td>JCd7336f </td><td>131253020941</td><td>2020-02-29</td><td> 63.40</td><td>142.20</td><td>2018-07-08 06:03:00</td><td>2018-07-14 16:28:00+00:00</td><td>47.992</td></tr>\n",
       "\t<tr><td>JCd0d718 </td><td>131238841565</td><td>2020-03-31</td><td> 70.80</td><td>139.70</td><td>2017-09-03 07:15:00</td><td>2017-09-13 20:00:00+00:00</td><td>48.000</td></tr>\n",
       "\t<tr><td>JCd60f63 </td><td>131071931233</td><td>2019-01-01</td><td> 70.00</td><td>121.92</td><td>2015-01-22 23:54:00</td><td>2015-01-22 11:00:00+00:00</td><td>48.000</td></tr>\n",
       "\t<tr><td>JCd7336f </td><td>131253020941</td><td>2020-02-29</td><td> 63.40</td><td>142.20</td><td>2018-07-08 06:03:00</td><td>2018-07-08 06:00:00+00:00</td><td>48.000</td></tr>\n",
       "\t<tr><td>JCe32bc8 </td><td>131251562544</td><td>2019-01-01</td><td> 50.00</td><td>121.90</td><td>2018-06-03 03:48:00</td><td>2018-06-03 04:35:00+00:00</td><td>48.000</td></tr>\n",
       "\t<tr><td>JCe445c6 </td><td>131128132055</td><td>2020-03-08</td><td> 54.88</td><td>121.92</td><td>2015-10-08 01:55:00</td><td>2015-10-07 21:52:00+00:00</td><td>48.000</td></tr>\n",
       "\t<tr><td>JCe57462 </td><td>131230668397</td><td>2020-03-31</td><td> 40.82</td><td>120.00</td><td>2017-06-07 01:35:00</td><td>2017-06-06 23:55:00+00:00</td><td>48.000</td></tr>\n",
       "\t<tr><td>JCe57462 </td><td>131266562819</td><td>2020-03-31</td><td> 40.82</td><td>120.00</td><td>2019-05-01 22:59:00</td><td>2019-05-01 20:00:00+00:00</td><td>48.000</td></tr>\n",
       "\t<tr><td>JCe9f937 </td><td>131082004008</td><td>2019-01-01</td><td> 73.30</td><td>154.94</td><td>2015-03-24 07:42:00</td><td>2015-03-24 12:45:00+00:00</td><td>48.000</td></tr>\n",
       "\t<tr><td>JC2a23e61</td><td>131268863704</td><td>2020-02-24</td><td> 38.56</td><td>124.50</td><td>2019-06-17 05:31:00</td><td>2019-06-17 00:15:00+00:00</td><td>49.000</td></tr>\n",
       "\t<tr><td>JCe0465e </td><td>131254652019</td><td>2020-03-31</td><td> 31.75</td><td>124.51</td><td>2018-08-12 22:30:00</td><td>2018-08-13 04:15:00+00:00</td><td>49.000</td></tr>\n",
       "\t<tr><td>JCe0465e </td><td>131260738912</td><td>2020-03-31</td><td> 31.75</td><td>124.51</td><td>2018-12-25 04:35:00</td><td>2018-12-30 03:41:00+00:00</td><td>49.000</td></tr>\n",
       "\t<tr><td>JCe0465e </td><td>131261736150</td><td>2020-03-31</td><td> 31.75</td><td>124.51</td><td>2019-01-21 23:25:00</td><td>2019-01-22 04:57:00+00:00</td><td>49.000</td></tr>\n",
       "\t<tr><td>JCe0465e </td><td>131267767809</td><td>2020-03-31</td><td> 31.75</td><td>124.51</td><td>2019-06-01 05:22:00</td><td>2019-05-31 23:16:00+00:00</td><td>49.000</td></tr>\n",
       "\t<tr><td>JCe79d23 </td><td>131075033012</td><td>2020-03-28</td><td> 65.30</td><td>149.20</td><td>2015-03-16 14:17:00</td><td>2015-03-16 14:35:00+00:00</td><td>49.000</td></tr>\n",
       "\t<tr><td>JCeae2cd </td><td>131078005552</td><td>2020-03-31</td><td> 35.56</td><td>127.00</td><td>2015-03-07 06:16:00</td><td>2015-03-07 07:15:00+00:00</td><td>49.000</td></tr>\n",
       "\t<tr><td>JCcbbdad </td><td>131184616237</td><td>2020-03-31</td><td> 51.30</td><td>147.32</td><td>2016-05-20 01:27:00</td><td>2016-05-22 03:29:00+00:00</td><td>49.200</td></tr>\n",
       "\t<tr><td>JCcd8dd0 </td><td>131084068642</td><td>2020-03-31</td><td> 66.68</td><td>139.70</td><td>2015-03-29 04:36:00</td><td>2015-03-29 04:42:00+00:00</td><td>49.200</td></tr>\n",
       "\t<tr><td>JCd00624 </td><td>131073317688</td><td>2019-01-01</td><td> 52.40</td><td>149.86</td><td>2015-03-03 03:22:00</td><td>2015-03-03 03:40:00+00:00</td><td>49.320</td></tr>\n",
       "\t<tr><td>JCd5983f </td><td>131280234901</td><td>2020-03-29</td><td> 43.50</td><td>149.86</td><td>2019-11-08 17:58:00</td><td>2019-11-10 15:50:00+00:00</td><td>49.320</td></tr>\n",
       "\t<tr><td>JCde3ccf </td><td>131259368765</td><td>2020-02-22</td><td> 76.60</td><td>149.00</td><td>2018-10-06 04:20:00</td><td>2018-10-06 07:55:00+00:00</td><td>49.320</td></tr>\n",
       "\t<tr><td>JCe828fb </td><td>131119826619</td><td>2019-01-01</td><td> 43.20</td><td>150.00</td><td>2015-10-26 05:15:00</td><td>2015-10-26 05:23:00+00:00</td><td>49.320</td></tr>\n",
       "\t<tr><td>JC2a04f84</td><td>131285883834</td><td>2020-03-31</td><td> 97.80</td><td>203.84</td><td>2020-03-22 23:59:00</td><td>2020-03-23 16:00:00+00:00</td><td>80.250</td></tr>\n",
       "\t<tr><td>JCd6b400 </td><td>131264041990</td><td>2020-03-31</td><td>162.70</td><td>205.74</td><td>2019-01-29 05:09:00</td><td>2019-01-28 23:41:00+00:00</td><td>81.000</td></tr>\n",
       "\t<tr><td>JCd6b400 </td><td>131264041990</td><td>2020-03-31</td><td>162.70</td><td>205.74</td><td>2019-01-29 05:09:00</td><td>2019-01-29 07:10:00+00:00</td><td>81.000</td></tr>\n",
       "\t<tr><td>JCe730d1 </td><td>131233340752</td><td>2020-03-24</td><td> 72.40</td><td>205.70</td><td>2017-06-14 04:06:00</td><td>2017-06-14 06:55:00+00:00</td><td>81.000</td></tr>\n",
       "\t<tr><td>JC2a02533</td><td>131262052942</td><td>2020-03-31</td><td> 91.63</td><td>172.72</td><td>2018-12-11 01:15:00</td><td>2018-12-11 08:00:00+00:00</td><td>81.496</td></tr>\n",
       "\t<tr><td>JCd6e384 </td><td>131124041393</td><td>2020-01-28</td><td>165.65</td><td>203.20</td><td>2015-09-12 05:48:00</td><td>2015-09-12 05:59:00+00:00</td><td>81.600</td></tr>\n",
       "\t<tr><td>JCd6e384 </td><td>131124041393</td><td>2020-01-28</td><td>165.65</td><td>203.20</td><td>2015-09-12 05:48:00</td><td>2015-09-14 23:02:00+00:00</td><td>81.600</td></tr>\n",
       "\t<tr><td>JCe1f81a </td><td>131266656521</td><td>2020-01-22</td><td>124.87</td><td>208.28</td><td>2019-03-31 06:43:00</td><td>2019-03-31 23:30:00+00:00</td><td>81.890</td></tr>\n",
       "\t<tr><td>JCe1f81a </td><td>131266656521</td><td>2020-01-22</td><td>124.87</td><td>208.28</td><td>2019-03-31 06:43:00</td><td>2019-04-04 16:28:00+00:00</td><td>81.890</td></tr>\n",
       "\t<tr><td>JCe1f81a </td><td>131266656521</td><td>2020-01-22</td><td>124.87</td><td>208.28</td><td>2019-03-31 06:43:00</td><td>2019-04-18 21:43:00+00:00</td><td>81.890</td></tr>\n",
       "\t<tr><td>JCe1f81a </td><td>131171351962</td><td>2020-01-22</td><td>124.87</td><td>208.28</td><td>2015-12-25 02:28:00</td><td>2015-12-25 03:51:00+00:00</td><td>82.000</td></tr>\n",
       "\t<tr><td>JCe1f81a </td><td>131190922624</td><td>2020-01-22</td><td>124.87</td><td>208.28</td><td>2016-06-18 05:13:00</td><td>2016-06-21 22:00:00+00:00</td><td>82.000</td></tr>\n",
       "\t<tr><td>JCe1f81a </td><td>131205998216</td><td>2020-01-22</td><td>124.87</td><td>208.28</td><td>2016-10-20 13:59:00</td><td>2016-10-21 16:46:00+00:00</td><td>82.000</td></tr>\n",
       "\t<tr><td>JCe1f81a </td><td>131266656521</td><td>2020-01-22</td><td>124.87</td><td>208.28</td><td>2019-03-31 06:43:00</td><td>2019-03-31 10:00:00+00:00</td><td>82.000</td></tr>\n",
       "\t<tr><td>JCe7857e </td><td>131073935110</td><td>2020-02-26</td><td>173.55</td><td>208.28</td><td>2015-02-03 22:38:00</td><td>2015-02-05 03:54:00+00:00</td><td>82.000</td></tr>\n",
       "\t<tr><td>JCe7857e </td><td>131077699927</td><td>2020-02-26</td><td>173.55</td><td>208.28</td><td>2015-02-20 10:15:00</td><td>2015-02-20 10:15:00+00:00</td><td>82.000</td></tr>\n",
       "\t<tr><td>JCe1f81a </td><td>131171351962</td><td>2020-01-22</td><td>124.87</td><td>208.28</td><td>2015-12-25 02:28:00</td><td>2015-12-25 04:52:00+00:00</td><td>82.008</td></tr>\n",
       "\t<tr><td>JCe2521d </td><td>131242215573</td><td>2020-03-31</td><td>126.55</td><td>210.82</td><td>2017-12-19 19:18:00</td><td>2017-12-20 03:54:00+00:00</td><td>84.000</td></tr>\n",
       "\t<tr><td>JCe2521d </td><td>131242215573</td><td>2020-03-31</td><td>126.55</td><td>210.82</td><td>2017-12-19 19:18:00</td><td>2017-12-23 17:00:00+00:00</td><td>84.000</td></tr>\n",
       "\t<tr><td>JCce21de </td><td>131259145896</td><td>2020-03-31</td><td> 73.48</td><td>170.18</td><td>2018-11-18 16:56:00</td><td>2018-11-18 21:00:00+00:00</td><td>91.000</td></tr>\n",
       "\t<tr><td>JCd2c9f5 </td><td>131264447533</td><td>2019-09-27</td><td> 97.52</td><td>172.72</td><td>2019-02-09 05:08:00</td><td>2019-02-09 08:02:00+00:00</td><td>92.000</td></tr>\n",
       "</tbody>\n",
       "</table>\n"
      ],
      "text/latex": [
       "A grouped\\_df: 90 × 8\n",
       "\\begin{tabular}{llllllll}\n",
       " anon\\_id & pat\\_enc\\_csn\\_id\\_coded & recent\\_date & recent\\_weight\\_kg & recent\\_height\\_cm & admit\\_time & recorded\\_time & Height\\\\\n",
       " <chr> & <dbl> & <chr> & <dbl> & <dbl> & <chr> & <chr> & <dbl>\\\\\n",
       "\\hline\n",
       "\t JCce2775  & 131178284907 & 2019-01-01 &  48.20 & 152.40 & 2016-01-29 01:54:00 & 2016-01-29 19:27:00+00:00 &  4.800\\\\\n",
       "\t JCd6b805  & 131064542495 & 2019-01-01 &  71.80 &  12.95 & 2015-01-04 10:50:00 & 2015-01-04 12:00:00+00:00 &  5.100\\\\\n",
       "\t JCdc2922  & 131265024354 & 2019-09-05 &  67.00 & 162.56 & 2019-04-16 22:28:00 & 2019-04-17 01:04:00+00:00 &  5.400\\\\\n",
       "\t JCe1c1fc  & 131265023495 & 2020-03-31 & 107.50 & 157.48 & 2019-04-10 20:39:00 & 2019-04-11 00:35:00+00:00 &  5.400\\\\\n",
       "\t JCe0abb0  & 131265179321 & 2019-09-17 &  75.30 &  14.48 & 2019-03-26 13:37:00 & 2019-03-28 19:12:00+00:00 &  5.700\\\\\n",
       "\t JCcc3bf6  & 131186309411 & 2020-03-31 & 107.90 & 185.40 & 2016-04-29 19:23:00 & 2016-04-29 20:16:00+00:00 &  6.000\\\\\n",
       "\t JCe40481  & 131090941774 & 2020-03-31 &  78.02 & 182.88 & 2015-06-29 06:27:00 & 2015-06-29 06:31:00+00:00 &  6.000\\\\\n",
       "\t JCe42654  & 131197301808 & 2019-01-01 &  77.40 & 182.90 & 2016-09-05 05:18:00 & 2016-09-05 07:01:00+00:00 &  6.000\\\\\n",
       "\t JCe48557  & 131224927517 & 2020-03-31 &  81.65 & 170.20 & 2017-05-11 00:59:00 & 2017-05-11 04:00:00+00:00 & 14.488\\\\\n",
       "\t JCe43cae  & 131242746130 & 2020-03-22 &  58.50 & 157.48 & 2017-12-24 18:39:00 & 2017-12-24 21:55:00+00:00 & 22.835\\\\\n",
       "\t JCe1f0bf  & 131190286047 & 2019-01-01 &  53.80 & 152.40 & 2016-07-06 19:17:00 & 2016-07-07 00:00:00+00:00 & 23.622\\\\\n",
       "\t JC29fe9bb & 131259970332 & 2020-03-31 &  76.70 & 177.80 & 2018-12-05 11:17:00 & 2018-12-05 14:20:00+00:00 & 24.016\\\\\n",
       "\t JCce3cb0  & 131178358957 & 2019-01-01 &  71.80 & 157.48 & 2016-02-21 21:51:00 & 2016-02-21 22:30:00+00:00 & 24.016\\\\\n",
       "\t JCd9b7cd  & 131109877957 & 2020-03-31 &  66.70 & 157.48 & 2015-08-15 02:28:00 & 2015-08-15 04:06:00+00:00 & 24.016\\\\\n",
       "\t JCe163f6  & 131082358874 & 2019-01-01 &  57.80 & 151.00 & 2015-04-01 15:50:00 & 2015-04-01 18:09:00+00:00 & 24.016\\\\\n",
       "\t JC2a1a175 & 131280469074 & 2020-03-31 &  48.90 & 164.00 & 2019-12-26 00:25:00 & 2019-12-26 05:25:00+00:00 & 24.803\\\\\n",
       "\t JCeb867b  & 131127570350 & 2019-01-01 & 119.50 & 172.72 & 2015-10-30 23:00:00 & 2015-11-01 21:04:00+00:00 & 25.197\\\\\n",
       "\t JC2a2d702 & 131267052804 & 2020-03-31 &  82.80 &  65.00 & 2019-05-15 01:14:00 & 2019-05-15 04:14:00+00:00 & 25.591\\\\\n",
       "\t JCda7d7f  & 131178756567 & 2020-03-31 &  95.15 & 175.26 & 2016-02-01 04:44:00 & 2016-02-01 02:50:00+00:00 & 25.591\\\\\n",
       "\t JCd0f204  & 131075630033 & 2020-03-25 &  46.27 & 165.00 & 2015-03-17 09:54:00 & 2015-03-16 13:41:00+00:00 & 25.984\\\\\n",
       "\t JCd8d241  & 131236791940 & 2019-08-13 &  64.50 &  66.00 & 2017-08-06 23:17:00 & 2017-08-07 22:53:00+00:00 & 25.984\\\\\n",
       "\t JCdef801  & 131258560754 & 2019-01-01 &  97.00 & 167.60 & 2018-10-09 17:57:00 & 2018-10-10 17:00:00+00:00 & 25.984\\\\\n",
       "\t JCe406a9  & 131176855424 & 2020-03-28 &  64.41 & 170.18 & 2016-02-13 05:05:00 & 2016-02-14 19:33:00+00:00 & 25.984\\\\\n",
       "\t JCe623ae  & 131197384445 & 2020-03-31 &  86.91 & 165.10 & 2016-10-09 20:59:00 & 2016-10-10 00:50:00+00:00 & 25.984\\\\\n",
       "\t JCe99f34  & 131065928820 & 2019-01-01 &  90.00 &  66.00 & 2015-02-03 07:55:00 & 2015-02-03 09:00:00+00:00 & 25.984\\\\\n",
       "\t JCdfdae4  & 131249825708 & 2020-03-31 & 110.90 & 172.72 & 2018-05-16 07:54:00 & 2018-05-16 09:25:00+00:00 & 26.378\\\\\n",
       "\t JCe72d42  & 131183449817 & 2019-01-01 &  87.00 &  67.00 & 2016-04-10 07:10:00 & 2016-04-10 09:00:00+00:00 & 26.378\\\\\n",
       "\t JCd2d4eb  & 131236770818 & 2019-01-01 & 102.06 &  68.00 & 2017-08-12 11:21:00 & 2017-08-12 16:15:00+00:00 & 26.772\\\\\n",
       "\t JCd311c8  & 131094187978 & 2020-03-30 &  87.25 & 177.80 & 2015-08-01 05:17:00 & 2015-08-01 05:21:00+00:00 & 27.559\\\\\n",
       "\t JCd1915e  & 131176443085 & 2019-01-01 &  82.70 & 176.50 & 2016-01-08 21:20:00 & 2016-01-10 23:00:00+00:00 & 27.953\\\\\n",
       "\t JCe49512  & 131270216660 & 2020-03-31 &  81.00 & 188.00 & 2019-06-11 13:23:00 & 2019-06-11 16:00:00+00:00 & 29.134\\\\\n",
       "\t JCcf6c0c  & 131108612485 & 2020-02-21 & 117.70 & 182.20 & 2015-07-31 22:34:00 & 2015-08-02 22:05:00+00:00 & 30.315\\\\\n",
       "\t JCe2946a  & 131191467120 & 2019-01-01 &  30.00 & 142.24 & 2016-07-21 02:36:00 & 2016-07-21 04:42:00+00:00 & 42.000\\\\\n",
       "\t JCe2946a  & 131194573963 & 2019-01-01 &  30.00 & 142.24 & 2016-08-23 06:06:00 & 2016-08-24 22:00:00+00:00 & 42.008\\\\\n",
       "\t JCea7543  & 131284469623 & 2020-03-08 &  75.10 & 149.80 & 2020-02-09 03:21:00 & 2020-02-13 18:02:25+00:00 & 43.701\\\\\n",
       "\t JCe0ac93  & 131283990134 & 2020-03-31 &  63.00 & 115.00 & 2020-03-08 06:38:00 & 2020-03-09 02:19:00+00:00 & 45.276\\\\\n",
       "\t JCe57462  & 131072762363 & 2020-03-31 &  40.82 & 120.00 & 2015-02-27 09:20:00 & 2015-02-27 10:03:00+00:00 & 47.244\\\\\n",
       "\t JCe57462  & 131072762363 & 2020-03-31 &  40.82 & 120.00 & 2015-02-27 09:20:00 & 2015-02-27 18:00:00+00:00 & 47.244\\\\\n",
       "\t JCe57462  & 131072762363 & 2020-03-31 &  40.82 & 120.00 & 2015-02-27 09:20:00 & 2015-03-01 15:55:00+00:00 & 47.244\\\\\n",
       "\t JCe57462  & 131072762363 & 2020-03-31 &  40.82 & 120.00 & 2015-02-27 09:20:00 & 2015-03-01 20:15:00+00:00 & 47.244\\\\\n",
       "\t JCe57462  & 131072762363 & 2020-03-31 &  40.82 & 120.00 & 2015-02-27 09:20:00 & 2015-03-02 00:45:00+00:00 & 47.244\\\\\n",
       "\t JCe57462  & 131072762363 & 2020-03-31 &  40.82 & 120.00 & 2015-02-27 09:20:00 & 2015-03-02 04:06:00+00:00 & 47.244\\\\\n",
       "\t JCe57462  & 131072762363 & 2020-03-31 &  40.82 & 120.00 & 2015-02-27 09:20:00 & 2015-03-02 08:02:00+00:00 & 47.244\\\\\n",
       "\t JCe57462  & 131072762363 & 2020-03-31 &  40.82 & 120.00 & 2015-02-27 09:20:00 & 2015-03-07 04:59:00+00:00 & 47.244\\\\\n",
       "\t JCe57462  & 131200799133 & 2020-03-31 &  40.82 & 120.00 & 2016-10-20 01:58:00 & 2016-10-20 22:00:00+00:00 & 47.244\\\\\n",
       "\t JCd7336f  & 131261814340 & 2020-02-29 &  63.40 & 142.20 & 2019-01-18 19:26:00 & 2019-01-19 00:11:00+00:00 & 47.638\\\\\n",
       "\t JCdd3957  & 131228153200 & 2019-01-01 &  66.50 & 121.00 & 2017-04-21 01:12:00 & 2017-04-25 07:05:00+00:00 & 47.638\\\\\n",
       "\t JCd7336f  & 131253020941 & 2020-02-29 &  63.40 & 142.20 & 2018-07-08 06:03:00 & 2018-07-14 16:28:00+00:00 & 47.992\\\\\n",
       "\t JCd0d718  & 131238841565 & 2020-03-31 &  70.80 & 139.70 & 2017-09-03 07:15:00 & 2017-09-13 20:00:00+00:00 & 48.000\\\\\n",
       "\t JCd60f63  & 131071931233 & 2019-01-01 &  70.00 & 121.92 & 2015-01-22 23:54:00 & 2015-01-22 11:00:00+00:00 & 48.000\\\\\n",
       "\t JCd7336f  & 131253020941 & 2020-02-29 &  63.40 & 142.20 & 2018-07-08 06:03:00 & 2018-07-08 06:00:00+00:00 & 48.000\\\\\n",
       "\t JCe32bc8  & 131251562544 & 2019-01-01 &  50.00 & 121.90 & 2018-06-03 03:48:00 & 2018-06-03 04:35:00+00:00 & 48.000\\\\\n",
       "\t JCe445c6  & 131128132055 & 2020-03-08 &  54.88 & 121.92 & 2015-10-08 01:55:00 & 2015-10-07 21:52:00+00:00 & 48.000\\\\\n",
       "\t JCe57462  & 131230668397 & 2020-03-31 &  40.82 & 120.00 & 2017-06-07 01:35:00 & 2017-06-06 23:55:00+00:00 & 48.000\\\\\n",
       "\t JCe57462  & 131266562819 & 2020-03-31 &  40.82 & 120.00 & 2019-05-01 22:59:00 & 2019-05-01 20:00:00+00:00 & 48.000\\\\\n",
       "\t JCe9f937  & 131082004008 & 2019-01-01 &  73.30 & 154.94 & 2015-03-24 07:42:00 & 2015-03-24 12:45:00+00:00 & 48.000\\\\\n",
       "\t JC2a23e61 & 131268863704 & 2020-02-24 &  38.56 & 124.50 & 2019-06-17 05:31:00 & 2019-06-17 00:15:00+00:00 & 49.000\\\\\n",
       "\t JCe0465e  & 131254652019 & 2020-03-31 &  31.75 & 124.51 & 2018-08-12 22:30:00 & 2018-08-13 04:15:00+00:00 & 49.000\\\\\n",
       "\t JCe0465e  & 131260738912 & 2020-03-31 &  31.75 & 124.51 & 2018-12-25 04:35:00 & 2018-12-30 03:41:00+00:00 & 49.000\\\\\n",
       "\t JCe0465e  & 131261736150 & 2020-03-31 &  31.75 & 124.51 & 2019-01-21 23:25:00 & 2019-01-22 04:57:00+00:00 & 49.000\\\\\n",
       "\t JCe0465e  & 131267767809 & 2020-03-31 &  31.75 & 124.51 & 2019-06-01 05:22:00 & 2019-05-31 23:16:00+00:00 & 49.000\\\\\n",
       "\t JCe79d23  & 131075033012 & 2020-03-28 &  65.30 & 149.20 & 2015-03-16 14:17:00 & 2015-03-16 14:35:00+00:00 & 49.000\\\\\n",
       "\t JCeae2cd  & 131078005552 & 2020-03-31 &  35.56 & 127.00 & 2015-03-07 06:16:00 & 2015-03-07 07:15:00+00:00 & 49.000\\\\\n",
       "\t JCcbbdad  & 131184616237 & 2020-03-31 &  51.30 & 147.32 & 2016-05-20 01:27:00 & 2016-05-22 03:29:00+00:00 & 49.200\\\\\n",
       "\t JCcd8dd0  & 131084068642 & 2020-03-31 &  66.68 & 139.70 & 2015-03-29 04:36:00 & 2015-03-29 04:42:00+00:00 & 49.200\\\\\n",
       "\t JCd00624  & 131073317688 & 2019-01-01 &  52.40 & 149.86 & 2015-03-03 03:22:00 & 2015-03-03 03:40:00+00:00 & 49.320\\\\\n",
       "\t JCd5983f  & 131280234901 & 2020-03-29 &  43.50 & 149.86 & 2019-11-08 17:58:00 & 2019-11-10 15:50:00+00:00 & 49.320\\\\\n",
       "\t JCde3ccf  & 131259368765 & 2020-02-22 &  76.60 & 149.00 & 2018-10-06 04:20:00 & 2018-10-06 07:55:00+00:00 & 49.320\\\\\n",
       "\t JCe828fb  & 131119826619 & 2019-01-01 &  43.20 & 150.00 & 2015-10-26 05:15:00 & 2015-10-26 05:23:00+00:00 & 49.320\\\\\n",
       "\t JC2a04f84 & 131285883834 & 2020-03-31 &  97.80 & 203.84 & 2020-03-22 23:59:00 & 2020-03-23 16:00:00+00:00 & 80.250\\\\\n",
       "\t JCd6b400  & 131264041990 & 2020-03-31 & 162.70 & 205.74 & 2019-01-29 05:09:00 & 2019-01-28 23:41:00+00:00 & 81.000\\\\\n",
       "\t JCd6b400  & 131264041990 & 2020-03-31 & 162.70 & 205.74 & 2019-01-29 05:09:00 & 2019-01-29 07:10:00+00:00 & 81.000\\\\\n",
       "\t JCe730d1  & 131233340752 & 2020-03-24 &  72.40 & 205.70 & 2017-06-14 04:06:00 & 2017-06-14 06:55:00+00:00 & 81.000\\\\\n",
       "\t JC2a02533 & 131262052942 & 2020-03-31 &  91.63 & 172.72 & 2018-12-11 01:15:00 & 2018-12-11 08:00:00+00:00 & 81.496\\\\\n",
       "\t JCd6e384  & 131124041393 & 2020-01-28 & 165.65 & 203.20 & 2015-09-12 05:48:00 & 2015-09-12 05:59:00+00:00 & 81.600\\\\\n",
       "\t JCd6e384  & 131124041393 & 2020-01-28 & 165.65 & 203.20 & 2015-09-12 05:48:00 & 2015-09-14 23:02:00+00:00 & 81.600\\\\\n",
       "\t JCe1f81a  & 131266656521 & 2020-01-22 & 124.87 & 208.28 & 2019-03-31 06:43:00 & 2019-03-31 23:30:00+00:00 & 81.890\\\\\n",
       "\t JCe1f81a  & 131266656521 & 2020-01-22 & 124.87 & 208.28 & 2019-03-31 06:43:00 & 2019-04-04 16:28:00+00:00 & 81.890\\\\\n",
       "\t JCe1f81a  & 131266656521 & 2020-01-22 & 124.87 & 208.28 & 2019-03-31 06:43:00 & 2019-04-18 21:43:00+00:00 & 81.890\\\\\n",
       "\t JCe1f81a  & 131171351962 & 2020-01-22 & 124.87 & 208.28 & 2015-12-25 02:28:00 & 2015-12-25 03:51:00+00:00 & 82.000\\\\\n",
       "\t JCe1f81a  & 131190922624 & 2020-01-22 & 124.87 & 208.28 & 2016-06-18 05:13:00 & 2016-06-21 22:00:00+00:00 & 82.000\\\\\n",
       "\t JCe1f81a  & 131205998216 & 2020-01-22 & 124.87 & 208.28 & 2016-10-20 13:59:00 & 2016-10-21 16:46:00+00:00 & 82.000\\\\\n",
       "\t JCe1f81a  & 131266656521 & 2020-01-22 & 124.87 & 208.28 & 2019-03-31 06:43:00 & 2019-03-31 10:00:00+00:00 & 82.000\\\\\n",
       "\t JCe7857e  & 131073935110 & 2020-02-26 & 173.55 & 208.28 & 2015-02-03 22:38:00 & 2015-02-05 03:54:00+00:00 & 82.000\\\\\n",
       "\t JCe7857e  & 131077699927 & 2020-02-26 & 173.55 & 208.28 & 2015-02-20 10:15:00 & 2015-02-20 10:15:00+00:00 & 82.000\\\\\n",
       "\t JCe1f81a  & 131171351962 & 2020-01-22 & 124.87 & 208.28 & 2015-12-25 02:28:00 & 2015-12-25 04:52:00+00:00 & 82.008\\\\\n",
       "\t JCe2521d  & 131242215573 & 2020-03-31 & 126.55 & 210.82 & 2017-12-19 19:18:00 & 2017-12-20 03:54:00+00:00 & 84.000\\\\\n",
       "\t JCe2521d  & 131242215573 & 2020-03-31 & 126.55 & 210.82 & 2017-12-19 19:18:00 & 2017-12-23 17:00:00+00:00 & 84.000\\\\\n",
       "\t JCce21de  & 131259145896 & 2020-03-31 &  73.48 & 170.18 & 2018-11-18 16:56:00 & 2018-11-18 21:00:00+00:00 & 91.000\\\\\n",
       "\t JCd2c9f5  & 131264447533 & 2019-09-27 &  97.52 & 172.72 & 2019-02-09 05:08:00 & 2019-02-09 08:02:00+00:00 & 92.000\\\\\n",
       "\\end{tabular}\n"
      ],
      "text/markdown": [
       "\n",
       "A grouped_df: 90 × 8\n",
       "\n",
       "| anon_id &lt;chr&gt; | pat_enc_csn_id_coded &lt;dbl&gt; | recent_date &lt;chr&gt; | recent_weight_kg &lt;dbl&gt; | recent_height_cm &lt;dbl&gt; | admit_time &lt;chr&gt; | recorded_time &lt;chr&gt; | Height &lt;dbl&gt; |\n",
       "|---|---|---|---|---|---|---|---|\n",
       "| JCce2775  | 131178284907 | 2019-01-01 |  48.20 | 152.40 | 2016-01-29 01:54:00 | 2016-01-29 19:27:00+00:00 |  4.800 |\n",
       "| JCd6b805  | 131064542495 | 2019-01-01 |  71.80 |  12.95 | 2015-01-04 10:50:00 | 2015-01-04 12:00:00+00:00 |  5.100 |\n",
       "| JCdc2922  | 131265024354 | 2019-09-05 |  67.00 | 162.56 | 2019-04-16 22:28:00 | 2019-04-17 01:04:00+00:00 |  5.400 |\n",
       "| JCe1c1fc  | 131265023495 | 2020-03-31 | 107.50 | 157.48 | 2019-04-10 20:39:00 | 2019-04-11 00:35:00+00:00 |  5.400 |\n",
       "| JCe0abb0  | 131265179321 | 2019-09-17 |  75.30 |  14.48 | 2019-03-26 13:37:00 | 2019-03-28 19:12:00+00:00 |  5.700 |\n",
       "| JCcc3bf6  | 131186309411 | 2020-03-31 | 107.90 | 185.40 | 2016-04-29 19:23:00 | 2016-04-29 20:16:00+00:00 |  6.000 |\n",
       "| JCe40481  | 131090941774 | 2020-03-31 |  78.02 | 182.88 | 2015-06-29 06:27:00 | 2015-06-29 06:31:00+00:00 |  6.000 |\n",
       "| JCe42654  | 131197301808 | 2019-01-01 |  77.40 | 182.90 | 2016-09-05 05:18:00 | 2016-09-05 07:01:00+00:00 |  6.000 |\n",
       "| JCe48557  | 131224927517 | 2020-03-31 |  81.65 | 170.20 | 2017-05-11 00:59:00 | 2017-05-11 04:00:00+00:00 | 14.488 |\n",
       "| JCe43cae  | 131242746130 | 2020-03-22 |  58.50 | 157.48 | 2017-12-24 18:39:00 | 2017-12-24 21:55:00+00:00 | 22.835 |\n",
       "| JCe1f0bf  | 131190286047 | 2019-01-01 |  53.80 | 152.40 | 2016-07-06 19:17:00 | 2016-07-07 00:00:00+00:00 | 23.622 |\n",
       "| JC29fe9bb | 131259970332 | 2020-03-31 |  76.70 | 177.80 | 2018-12-05 11:17:00 | 2018-12-05 14:20:00+00:00 | 24.016 |\n",
       "| JCce3cb0  | 131178358957 | 2019-01-01 |  71.80 | 157.48 | 2016-02-21 21:51:00 | 2016-02-21 22:30:00+00:00 | 24.016 |\n",
       "| JCd9b7cd  | 131109877957 | 2020-03-31 |  66.70 | 157.48 | 2015-08-15 02:28:00 | 2015-08-15 04:06:00+00:00 | 24.016 |\n",
       "| JCe163f6  | 131082358874 | 2019-01-01 |  57.80 | 151.00 | 2015-04-01 15:50:00 | 2015-04-01 18:09:00+00:00 | 24.016 |\n",
       "| JC2a1a175 | 131280469074 | 2020-03-31 |  48.90 | 164.00 | 2019-12-26 00:25:00 | 2019-12-26 05:25:00+00:00 | 24.803 |\n",
       "| JCeb867b  | 131127570350 | 2019-01-01 | 119.50 | 172.72 | 2015-10-30 23:00:00 | 2015-11-01 21:04:00+00:00 | 25.197 |\n",
       "| JC2a2d702 | 131267052804 | 2020-03-31 |  82.80 |  65.00 | 2019-05-15 01:14:00 | 2019-05-15 04:14:00+00:00 | 25.591 |\n",
       "| JCda7d7f  | 131178756567 | 2020-03-31 |  95.15 | 175.26 | 2016-02-01 04:44:00 | 2016-02-01 02:50:00+00:00 | 25.591 |\n",
       "| JCd0f204  | 131075630033 | 2020-03-25 |  46.27 | 165.00 | 2015-03-17 09:54:00 | 2015-03-16 13:41:00+00:00 | 25.984 |\n",
       "| JCd8d241  | 131236791940 | 2019-08-13 |  64.50 |  66.00 | 2017-08-06 23:17:00 | 2017-08-07 22:53:00+00:00 | 25.984 |\n",
       "| JCdef801  | 131258560754 | 2019-01-01 |  97.00 | 167.60 | 2018-10-09 17:57:00 | 2018-10-10 17:00:00+00:00 | 25.984 |\n",
       "| JCe406a9  | 131176855424 | 2020-03-28 |  64.41 | 170.18 | 2016-02-13 05:05:00 | 2016-02-14 19:33:00+00:00 | 25.984 |\n",
       "| JCe623ae  | 131197384445 | 2020-03-31 |  86.91 | 165.10 | 2016-10-09 20:59:00 | 2016-10-10 00:50:00+00:00 | 25.984 |\n",
       "| JCe99f34  | 131065928820 | 2019-01-01 |  90.00 |  66.00 | 2015-02-03 07:55:00 | 2015-02-03 09:00:00+00:00 | 25.984 |\n",
       "| JCdfdae4  | 131249825708 | 2020-03-31 | 110.90 | 172.72 | 2018-05-16 07:54:00 | 2018-05-16 09:25:00+00:00 | 26.378 |\n",
       "| JCe72d42  | 131183449817 | 2019-01-01 |  87.00 |  67.00 | 2016-04-10 07:10:00 | 2016-04-10 09:00:00+00:00 | 26.378 |\n",
       "| JCd2d4eb  | 131236770818 | 2019-01-01 | 102.06 |  68.00 | 2017-08-12 11:21:00 | 2017-08-12 16:15:00+00:00 | 26.772 |\n",
       "| JCd311c8  | 131094187978 | 2020-03-30 |  87.25 | 177.80 | 2015-08-01 05:17:00 | 2015-08-01 05:21:00+00:00 | 27.559 |\n",
       "| JCd1915e  | 131176443085 | 2019-01-01 |  82.70 | 176.50 | 2016-01-08 21:20:00 | 2016-01-10 23:00:00+00:00 | 27.953 |\n",
       "| JCe49512  | 131270216660 | 2020-03-31 |  81.00 | 188.00 | 2019-06-11 13:23:00 | 2019-06-11 16:00:00+00:00 | 29.134 |\n",
       "| JCcf6c0c  | 131108612485 | 2020-02-21 | 117.70 | 182.20 | 2015-07-31 22:34:00 | 2015-08-02 22:05:00+00:00 | 30.315 |\n",
       "| JCe2946a  | 131191467120 | 2019-01-01 |  30.00 | 142.24 | 2016-07-21 02:36:00 | 2016-07-21 04:42:00+00:00 | 42.000 |\n",
       "| JCe2946a  | 131194573963 | 2019-01-01 |  30.00 | 142.24 | 2016-08-23 06:06:00 | 2016-08-24 22:00:00+00:00 | 42.008 |\n",
       "| JCea7543  | 131284469623 | 2020-03-08 |  75.10 | 149.80 | 2020-02-09 03:21:00 | 2020-02-13 18:02:25+00:00 | 43.701 |\n",
       "| JCe0ac93  | 131283990134 | 2020-03-31 |  63.00 | 115.00 | 2020-03-08 06:38:00 | 2020-03-09 02:19:00+00:00 | 45.276 |\n",
       "| JCe57462  | 131072762363 | 2020-03-31 |  40.82 | 120.00 | 2015-02-27 09:20:00 | 2015-02-27 10:03:00+00:00 | 47.244 |\n",
       "| JCe57462  | 131072762363 | 2020-03-31 |  40.82 | 120.00 | 2015-02-27 09:20:00 | 2015-02-27 18:00:00+00:00 | 47.244 |\n",
       "| JCe57462  | 131072762363 | 2020-03-31 |  40.82 | 120.00 | 2015-02-27 09:20:00 | 2015-03-01 15:55:00+00:00 | 47.244 |\n",
       "| JCe57462  | 131072762363 | 2020-03-31 |  40.82 | 120.00 | 2015-02-27 09:20:00 | 2015-03-01 20:15:00+00:00 | 47.244 |\n",
       "| JCe57462  | 131072762363 | 2020-03-31 |  40.82 | 120.00 | 2015-02-27 09:20:00 | 2015-03-02 00:45:00+00:00 | 47.244 |\n",
       "| JCe57462  | 131072762363 | 2020-03-31 |  40.82 | 120.00 | 2015-02-27 09:20:00 | 2015-03-02 04:06:00+00:00 | 47.244 |\n",
       "| JCe57462  | 131072762363 | 2020-03-31 |  40.82 | 120.00 | 2015-02-27 09:20:00 | 2015-03-02 08:02:00+00:00 | 47.244 |\n",
       "| JCe57462  | 131072762363 | 2020-03-31 |  40.82 | 120.00 | 2015-02-27 09:20:00 | 2015-03-07 04:59:00+00:00 | 47.244 |\n",
       "| JCe57462  | 131200799133 | 2020-03-31 |  40.82 | 120.00 | 2016-10-20 01:58:00 | 2016-10-20 22:00:00+00:00 | 47.244 |\n",
       "| JCd7336f  | 131261814340 | 2020-02-29 |  63.40 | 142.20 | 2019-01-18 19:26:00 | 2019-01-19 00:11:00+00:00 | 47.638 |\n",
       "| JCdd3957  | 131228153200 | 2019-01-01 |  66.50 | 121.00 | 2017-04-21 01:12:00 | 2017-04-25 07:05:00+00:00 | 47.638 |\n",
       "| JCd7336f  | 131253020941 | 2020-02-29 |  63.40 | 142.20 | 2018-07-08 06:03:00 | 2018-07-14 16:28:00+00:00 | 47.992 |\n",
       "| JCd0d718  | 131238841565 | 2020-03-31 |  70.80 | 139.70 | 2017-09-03 07:15:00 | 2017-09-13 20:00:00+00:00 | 48.000 |\n",
       "| JCd60f63  | 131071931233 | 2019-01-01 |  70.00 | 121.92 | 2015-01-22 23:54:00 | 2015-01-22 11:00:00+00:00 | 48.000 |\n",
       "| JCd7336f  | 131253020941 | 2020-02-29 |  63.40 | 142.20 | 2018-07-08 06:03:00 | 2018-07-08 06:00:00+00:00 | 48.000 |\n",
       "| JCe32bc8  | 131251562544 | 2019-01-01 |  50.00 | 121.90 | 2018-06-03 03:48:00 | 2018-06-03 04:35:00+00:00 | 48.000 |\n",
       "| JCe445c6  | 131128132055 | 2020-03-08 |  54.88 | 121.92 | 2015-10-08 01:55:00 | 2015-10-07 21:52:00+00:00 | 48.000 |\n",
       "| JCe57462  | 131230668397 | 2020-03-31 |  40.82 | 120.00 | 2017-06-07 01:35:00 | 2017-06-06 23:55:00+00:00 | 48.000 |\n",
       "| JCe57462  | 131266562819 | 2020-03-31 |  40.82 | 120.00 | 2019-05-01 22:59:00 | 2019-05-01 20:00:00+00:00 | 48.000 |\n",
       "| JCe9f937  | 131082004008 | 2019-01-01 |  73.30 | 154.94 | 2015-03-24 07:42:00 | 2015-03-24 12:45:00+00:00 | 48.000 |\n",
       "| JC2a23e61 | 131268863704 | 2020-02-24 |  38.56 | 124.50 | 2019-06-17 05:31:00 | 2019-06-17 00:15:00+00:00 | 49.000 |\n",
       "| JCe0465e  | 131254652019 | 2020-03-31 |  31.75 | 124.51 | 2018-08-12 22:30:00 | 2018-08-13 04:15:00+00:00 | 49.000 |\n",
       "| JCe0465e  | 131260738912 | 2020-03-31 |  31.75 | 124.51 | 2018-12-25 04:35:00 | 2018-12-30 03:41:00+00:00 | 49.000 |\n",
       "| JCe0465e  | 131261736150 | 2020-03-31 |  31.75 | 124.51 | 2019-01-21 23:25:00 | 2019-01-22 04:57:00+00:00 | 49.000 |\n",
       "| JCe0465e  | 131267767809 | 2020-03-31 |  31.75 | 124.51 | 2019-06-01 05:22:00 | 2019-05-31 23:16:00+00:00 | 49.000 |\n",
       "| JCe79d23  | 131075033012 | 2020-03-28 |  65.30 | 149.20 | 2015-03-16 14:17:00 | 2015-03-16 14:35:00+00:00 | 49.000 |\n",
       "| JCeae2cd  | 131078005552 | 2020-03-31 |  35.56 | 127.00 | 2015-03-07 06:16:00 | 2015-03-07 07:15:00+00:00 | 49.000 |\n",
       "| JCcbbdad  | 131184616237 | 2020-03-31 |  51.30 | 147.32 | 2016-05-20 01:27:00 | 2016-05-22 03:29:00+00:00 | 49.200 |\n",
       "| JCcd8dd0  | 131084068642 | 2020-03-31 |  66.68 | 139.70 | 2015-03-29 04:36:00 | 2015-03-29 04:42:00+00:00 | 49.200 |\n",
       "| JCd00624  | 131073317688 | 2019-01-01 |  52.40 | 149.86 | 2015-03-03 03:22:00 | 2015-03-03 03:40:00+00:00 | 49.320 |\n",
       "| JCd5983f  | 131280234901 | 2020-03-29 |  43.50 | 149.86 | 2019-11-08 17:58:00 | 2019-11-10 15:50:00+00:00 | 49.320 |\n",
       "| JCde3ccf  | 131259368765 | 2020-02-22 |  76.60 | 149.00 | 2018-10-06 04:20:00 | 2018-10-06 07:55:00+00:00 | 49.320 |\n",
       "| JCe828fb  | 131119826619 | 2019-01-01 |  43.20 | 150.00 | 2015-10-26 05:15:00 | 2015-10-26 05:23:00+00:00 | 49.320 |\n",
       "| JC2a04f84 | 131285883834 | 2020-03-31 |  97.80 | 203.84 | 2020-03-22 23:59:00 | 2020-03-23 16:00:00+00:00 | 80.250 |\n",
       "| JCd6b400  | 131264041990 | 2020-03-31 | 162.70 | 205.74 | 2019-01-29 05:09:00 | 2019-01-28 23:41:00+00:00 | 81.000 |\n",
       "| JCd6b400  | 131264041990 | 2020-03-31 | 162.70 | 205.74 | 2019-01-29 05:09:00 | 2019-01-29 07:10:00+00:00 | 81.000 |\n",
       "| JCe730d1  | 131233340752 | 2020-03-24 |  72.40 | 205.70 | 2017-06-14 04:06:00 | 2017-06-14 06:55:00+00:00 | 81.000 |\n",
       "| JC2a02533 | 131262052942 | 2020-03-31 |  91.63 | 172.72 | 2018-12-11 01:15:00 | 2018-12-11 08:00:00+00:00 | 81.496 |\n",
       "| JCd6e384  | 131124041393 | 2020-01-28 | 165.65 | 203.20 | 2015-09-12 05:48:00 | 2015-09-12 05:59:00+00:00 | 81.600 |\n",
       "| JCd6e384  | 131124041393 | 2020-01-28 | 165.65 | 203.20 | 2015-09-12 05:48:00 | 2015-09-14 23:02:00+00:00 | 81.600 |\n",
       "| JCe1f81a  | 131266656521 | 2020-01-22 | 124.87 | 208.28 | 2019-03-31 06:43:00 | 2019-03-31 23:30:00+00:00 | 81.890 |\n",
       "| JCe1f81a  | 131266656521 | 2020-01-22 | 124.87 | 208.28 | 2019-03-31 06:43:00 | 2019-04-04 16:28:00+00:00 | 81.890 |\n",
       "| JCe1f81a  | 131266656521 | 2020-01-22 | 124.87 | 208.28 | 2019-03-31 06:43:00 | 2019-04-18 21:43:00+00:00 | 81.890 |\n",
       "| JCe1f81a  | 131171351962 | 2020-01-22 | 124.87 | 208.28 | 2015-12-25 02:28:00 | 2015-12-25 03:51:00+00:00 | 82.000 |\n",
       "| JCe1f81a  | 131190922624 | 2020-01-22 | 124.87 | 208.28 | 2016-06-18 05:13:00 | 2016-06-21 22:00:00+00:00 | 82.000 |\n",
       "| JCe1f81a  | 131205998216 | 2020-01-22 | 124.87 | 208.28 | 2016-10-20 13:59:00 | 2016-10-21 16:46:00+00:00 | 82.000 |\n",
       "| JCe1f81a  | 131266656521 | 2020-01-22 | 124.87 | 208.28 | 2019-03-31 06:43:00 | 2019-03-31 10:00:00+00:00 | 82.000 |\n",
       "| JCe7857e  | 131073935110 | 2020-02-26 | 173.55 | 208.28 | 2015-02-03 22:38:00 | 2015-02-05 03:54:00+00:00 | 82.000 |\n",
       "| JCe7857e  | 131077699927 | 2020-02-26 | 173.55 | 208.28 | 2015-02-20 10:15:00 | 2015-02-20 10:15:00+00:00 | 82.000 |\n",
       "| JCe1f81a  | 131171351962 | 2020-01-22 | 124.87 | 208.28 | 2015-12-25 02:28:00 | 2015-12-25 04:52:00+00:00 | 82.008 |\n",
       "| JCe2521d  | 131242215573 | 2020-03-31 | 126.55 | 210.82 | 2017-12-19 19:18:00 | 2017-12-20 03:54:00+00:00 | 84.000 |\n",
       "| JCe2521d  | 131242215573 | 2020-03-31 | 126.55 | 210.82 | 2017-12-19 19:18:00 | 2017-12-23 17:00:00+00:00 | 84.000 |\n",
       "| JCce21de  | 131259145896 | 2020-03-31 |  73.48 | 170.18 | 2018-11-18 16:56:00 | 2018-11-18 21:00:00+00:00 | 91.000 |\n",
       "| JCd2c9f5  | 131264447533 | 2019-09-27 |  97.52 | 172.72 | 2019-02-09 05:08:00 | 2019-02-09 08:02:00+00:00 | 92.000 |\n",
       "\n"
      ],
      "text/plain": [
       "   anon_id   pat_enc_csn_id_coded recent_date recent_weight_kg recent_height_cm\n",
       "1  JCce2775  131178284907         2019-01-01   48.20           152.40          \n",
       "2  JCd6b805  131064542495         2019-01-01   71.80            12.95          \n",
       "3  JCdc2922  131265024354         2019-09-05   67.00           162.56          \n",
       "4  JCe1c1fc  131265023495         2020-03-31  107.50           157.48          \n",
       "5  JCe0abb0  131265179321         2019-09-17   75.30            14.48          \n",
       "6  JCcc3bf6  131186309411         2020-03-31  107.90           185.40          \n",
       "7  JCe40481  131090941774         2020-03-31   78.02           182.88          \n",
       "8  JCe42654  131197301808         2019-01-01   77.40           182.90          \n",
       "9  JCe48557  131224927517         2020-03-31   81.65           170.20          \n",
       "10 JCe43cae  131242746130         2020-03-22   58.50           157.48          \n",
       "11 JCe1f0bf  131190286047         2019-01-01   53.80           152.40          \n",
       "12 JC29fe9bb 131259970332         2020-03-31   76.70           177.80          \n",
       "13 JCce3cb0  131178358957         2019-01-01   71.80           157.48          \n",
       "14 JCd9b7cd  131109877957         2020-03-31   66.70           157.48          \n",
       "15 JCe163f6  131082358874         2019-01-01   57.80           151.00          \n",
       "16 JC2a1a175 131280469074         2020-03-31   48.90           164.00          \n",
       "17 JCeb867b  131127570350         2019-01-01  119.50           172.72          \n",
       "18 JC2a2d702 131267052804         2020-03-31   82.80            65.00          \n",
       "19 JCda7d7f  131178756567         2020-03-31   95.15           175.26          \n",
       "20 JCd0f204  131075630033         2020-03-25   46.27           165.00          \n",
       "21 JCd8d241  131236791940         2019-08-13   64.50            66.00          \n",
       "22 JCdef801  131258560754         2019-01-01   97.00           167.60          \n",
       "23 JCe406a9  131176855424         2020-03-28   64.41           170.18          \n",
       "24 JCe623ae  131197384445         2020-03-31   86.91           165.10          \n",
       "25 JCe99f34  131065928820         2019-01-01   90.00            66.00          \n",
       "26 JCdfdae4  131249825708         2020-03-31  110.90           172.72          \n",
       "27 JCe72d42  131183449817         2019-01-01   87.00            67.00          \n",
       "28 JCd2d4eb  131236770818         2019-01-01  102.06            68.00          \n",
       "29 JCd311c8  131094187978         2020-03-30   87.25           177.80          \n",
       "30 JCd1915e  131176443085         2019-01-01   82.70           176.50          \n",
       "31 JCe49512  131270216660         2020-03-31   81.00           188.00          \n",
       "32 JCcf6c0c  131108612485         2020-02-21  117.70           182.20          \n",
       "33 JCe2946a  131191467120         2019-01-01   30.00           142.24          \n",
       "34 JCe2946a  131194573963         2019-01-01   30.00           142.24          \n",
       "35 JCea7543  131284469623         2020-03-08   75.10           149.80          \n",
       "36 JCe0ac93  131283990134         2020-03-31   63.00           115.00          \n",
       "37 JCe57462  131072762363         2020-03-31   40.82           120.00          \n",
       "38 JCe57462  131072762363         2020-03-31   40.82           120.00          \n",
       "39 JCe57462  131072762363         2020-03-31   40.82           120.00          \n",
       "40 JCe57462  131072762363         2020-03-31   40.82           120.00          \n",
       "41 JCe57462  131072762363         2020-03-31   40.82           120.00          \n",
       "42 JCe57462  131072762363         2020-03-31   40.82           120.00          \n",
       "43 JCe57462  131072762363         2020-03-31   40.82           120.00          \n",
       "44 JCe57462  131072762363         2020-03-31   40.82           120.00          \n",
       "45 JCe57462  131200799133         2020-03-31   40.82           120.00          \n",
       "46 JCd7336f  131261814340         2020-02-29   63.40           142.20          \n",
       "47 JCdd3957  131228153200         2019-01-01   66.50           121.00          \n",
       "48 JCd7336f  131253020941         2020-02-29   63.40           142.20          \n",
       "49 JCd0d718  131238841565         2020-03-31   70.80           139.70          \n",
       "50 JCd60f63  131071931233         2019-01-01   70.00           121.92          \n",
       "51 JCd7336f  131253020941         2020-02-29   63.40           142.20          \n",
       "52 JCe32bc8  131251562544         2019-01-01   50.00           121.90          \n",
       "53 JCe445c6  131128132055         2020-03-08   54.88           121.92          \n",
       "54 JCe57462  131230668397         2020-03-31   40.82           120.00          \n",
       "55 JCe57462  131266562819         2020-03-31   40.82           120.00          \n",
       "56 JCe9f937  131082004008         2019-01-01   73.30           154.94          \n",
       "57 JC2a23e61 131268863704         2020-02-24   38.56           124.50          \n",
       "58 JCe0465e  131254652019         2020-03-31   31.75           124.51          \n",
       "59 JCe0465e  131260738912         2020-03-31   31.75           124.51          \n",
       "60 JCe0465e  131261736150         2020-03-31   31.75           124.51          \n",
       "61 JCe0465e  131267767809         2020-03-31   31.75           124.51          \n",
       "62 JCe79d23  131075033012         2020-03-28   65.30           149.20          \n",
       "63 JCeae2cd  131078005552         2020-03-31   35.56           127.00          \n",
       "64 JCcbbdad  131184616237         2020-03-31   51.30           147.32          \n",
       "65 JCcd8dd0  131084068642         2020-03-31   66.68           139.70          \n",
       "66 JCd00624  131073317688         2019-01-01   52.40           149.86          \n",
       "67 JCd5983f  131280234901         2020-03-29   43.50           149.86          \n",
       "68 JCde3ccf  131259368765         2020-02-22   76.60           149.00          \n",
       "69 JCe828fb  131119826619         2019-01-01   43.20           150.00          \n",
       "70 JC2a04f84 131285883834         2020-03-31   97.80           203.84          \n",
       "71 JCd6b400  131264041990         2020-03-31  162.70           205.74          \n",
       "72 JCd6b400  131264041990         2020-03-31  162.70           205.74          \n",
       "73 JCe730d1  131233340752         2020-03-24   72.40           205.70          \n",
       "74 JC2a02533 131262052942         2020-03-31   91.63           172.72          \n",
       "75 JCd6e384  131124041393         2020-01-28  165.65           203.20          \n",
       "76 JCd6e384  131124041393         2020-01-28  165.65           203.20          \n",
       "77 JCe1f81a  131266656521         2020-01-22  124.87           208.28          \n",
       "78 JCe1f81a  131266656521         2020-01-22  124.87           208.28          \n",
       "79 JCe1f81a  131266656521         2020-01-22  124.87           208.28          \n",
       "80 JCe1f81a  131171351962         2020-01-22  124.87           208.28          \n",
       "81 JCe1f81a  131190922624         2020-01-22  124.87           208.28          \n",
       "82 JCe1f81a  131205998216         2020-01-22  124.87           208.28          \n",
       "83 JCe1f81a  131266656521         2020-01-22  124.87           208.28          \n",
       "84 JCe7857e  131073935110         2020-02-26  173.55           208.28          \n",
       "85 JCe7857e  131077699927         2020-02-26  173.55           208.28          \n",
       "86 JCe1f81a  131171351962         2020-01-22  124.87           208.28          \n",
       "87 JCe2521d  131242215573         2020-03-31  126.55           210.82          \n",
       "88 JCe2521d  131242215573         2020-03-31  126.55           210.82          \n",
       "89 JCce21de  131259145896         2020-03-31   73.48           170.18          \n",
       "90 JCd2c9f5  131264447533         2019-09-27   97.52           172.72          \n",
       "   admit_time          recorded_time             Height\n",
       "1  2016-01-29 01:54:00 2016-01-29 19:27:00+00:00  4.800\n",
       "2  2015-01-04 10:50:00 2015-01-04 12:00:00+00:00  5.100\n",
       "3  2019-04-16 22:28:00 2019-04-17 01:04:00+00:00  5.400\n",
       "4  2019-04-10 20:39:00 2019-04-11 00:35:00+00:00  5.400\n",
       "5  2019-03-26 13:37:00 2019-03-28 19:12:00+00:00  5.700\n",
       "6  2016-04-29 19:23:00 2016-04-29 20:16:00+00:00  6.000\n",
       "7  2015-06-29 06:27:00 2015-06-29 06:31:00+00:00  6.000\n",
       "8  2016-09-05 05:18:00 2016-09-05 07:01:00+00:00  6.000\n",
       "9  2017-05-11 00:59:00 2017-05-11 04:00:00+00:00 14.488\n",
       "10 2017-12-24 18:39:00 2017-12-24 21:55:00+00:00 22.835\n",
       "11 2016-07-06 19:17:00 2016-07-07 00:00:00+00:00 23.622\n",
       "12 2018-12-05 11:17:00 2018-12-05 14:20:00+00:00 24.016\n",
       "13 2016-02-21 21:51:00 2016-02-21 22:30:00+00:00 24.016\n",
       "14 2015-08-15 02:28:00 2015-08-15 04:06:00+00:00 24.016\n",
       "15 2015-04-01 15:50:00 2015-04-01 18:09:00+00:00 24.016\n",
       "16 2019-12-26 00:25:00 2019-12-26 05:25:00+00:00 24.803\n",
       "17 2015-10-30 23:00:00 2015-11-01 21:04:00+00:00 25.197\n",
       "18 2019-05-15 01:14:00 2019-05-15 04:14:00+00:00 25.591\n",
       "19 2016-02-01 04:44:00 2016-02-01 02:50:00+00:00 25.591\n",
       "20 2015-03-17 09:54:00 2015-03-16 13:41:00+00:00 25.984\n",
       "21 2017-08-06 23:17:00 2017-08-07 22:53:00+00:00 25.984\n",
       "22 2018-10-09 17:57:00 2018-10-10 17:00:00+00:00 25.984\n",
       "23 2016-02-13 05:05:00 2016-02-14 19:33:00+00:00 25.984\n",
       "24 2016-10-09 20:59:00 2016-10-10 00:50:00+00:00 25.984\n",
       "25 2015-02-03 07:55:00 2015-02-03 09:00:00+00:00 25.984\n",
       "26 2018-05-16 07:54:00 2018-05-16 09:25:00+00:00 26.378\n",
       "27 2016-04-10 07:10:00 2016-04-10 09:00:00+00:00 26.378\n",
       "28 2017-08-12 11:21:00 2017-08-12 16:15:00+00:00 26.772\n",
       "29 2015-08-01 05:17:00 2015-08-01 05:21:00+00:00 27.559\n",
       "30 2016-01-08 21:20:00 2016-01-10 23:00:00+00:00 27.953\n",
       "31 2019-06-11 13:23:00 2019-06-11 16:00:00+00:00 29.134\n",
       "32 2015-07-31 22:34:00 2015-08-02 22:05:00+00:00 30.315\n",
       "33 2016-07-21 02:36:00 2016-07-21 04:42:00+00:00 42.000\n",
       "34 2016-08-23 06:06:00 2016-08-24 22:00:00+00:00 42.008\n",
       "35 2020-02-09 03:21:00 2020-02-13 18:02:25+00:00 43.701\n",
       "36 2020-03-08 06:38:00 2020-03-09 02:19:00+00:00 45.276\n",
       "37 2015-02-27 09:20:00 2015-02-27 10:03:00+00:00 47.244\n",
       "38 2015-02-27 09:20:00 2015-02-27 18:00:00+00:00 47.244\n",
       "39 2015-02-27 09:20:00 2015-03-01 15:55:00+00:00 47.244\n",
       "40 2015-02-27 09:20:00 2015-03-01 20:15:00+00:00 47.244\n",
       "41 2015-02-27 09:20:00 2015-03-02 00:45:00+00:00 47.244\n",
       "42 2015-02-27 09:20:00 2015-03-02 04:06:00+00:00 47.244\n",
       "43 2015-02-27 09:20:00 2015-03-02 08:02:00+00:00 47.244\n",
       "44 2015-02-27 09:20:00 2015-03-07 04:59:00+00:00 47.244\n",
       "45 2016-10-20 01:58:00 2016-10-20 22:00:00+00:00 47.244\n",
       "46 2019-01-18 19:26:00 2019-01-19 00:11:00+00:00 47.638\n",
       "47 2017-04-21 01:12:00 2017-04-25 07:05:00+00:00 47.638\n",
       "48 2018-07-08 06:03:00 2018-07-14 16:28:00+00:00 47.992\n",
       "49 2017-09-03 07:15:00 2017-09-13 20:00:00+00:00 48.000\n",
       "50 2015-01-22 23:54:00 2015-01-22 11:00:00+00:00 48.000\n",
       "51 2018-07-08 06:03:00 2018-07-08 06:00:00+00:00 48.000\n",
       "52 2018-06-03 03:48:00 2018-06-03 04:35:00+00:00 48.000\n",
       "53 2015-10-08 01:55:00 2015-10-07 21:52:00+00:00 48.000\n",
       "54 2017-06-07 01:35:00 2017-06-06 23:55:00+00:00 48.000\n",
       "55 2019-05-01 22:59:00 2019-05-01 20:00:00+00:00 48.000\n",
       "56 2015-03-24 07:42:00 2015-03-24 12:45:00+00:00 48.000\n",
       "57 2019-06-17 05:31:00 2019-06-17 00:15:00+00:00 49.000\n",
       "58 2018-08-12 22:30:00 2018-08-13 04:15:00+00:00 49.000\n",
       "59 2018-12-25 04:35:00 2018-12-30 03:41:00+00:00 49.000\n",
       "60 2019-01-21 23:25:00 2019-01-22 04:57:00+00:00 49.000\n",
       "61 2019-06-01 05:22:00 2019-05-31 23:16:00+00:00 49.000\n",
       "62 2015-03-16 14:17:00 2015-03-16 14:35:00+00:00 49.000\n",
       "63 2015-03-07 06:16:00 2015-03-07 07:15:00+00:00 49.000\n",
       "64 2016-05-20 01:27:00 2016-05-22 03:29:00+00:00 49.200\n",
       "65 2015-03-29 04:36:00 2015-03-29 04:42:00+00:00 49.200\n",
       "66 2015-03-03 03:22:00 2015-03-03 03:40:00+00:00 49.320\n",
       "67 2019-11-08 17:58:00 2019-11-10 15:50:00+00:00 49.320\n",
       "68 2018-10-06 04:20:00 2018-10-06 07:55:00+00:00 49.320\n",
       "69 2015-10-26 05:15:00 2015-10-26 05:23:00+00:00 49.320\n",
       "70 2020-03-22 23:59:00 2020-03-23 16:00:00+00:00 80.250\n",
       "71 2019-01-29 05:09:00 2019-01-28 23:41:00+00:00 81.000\n",
       "72 2019-01-29 05:09:00 2019-01-29 07:10:00+00:00 81.000\n",
       "73 2017-06-14 04:06:00 2017-06-14 06:55:00+00:00 81.000\n",
       "74 2018-12-11 01:15:00 2018-12-11 08:00:00+00:00 81.496\n",
       "75 2015-09-12 05:48:00 2015-09-12 05:59:00+00:00 81.600\n",
       "76 2015-09-12 05:48:00 2015-09-14 23:02:00+00:00 81.600\n",
       "77 2019-03-31 06:43:00 2019-03-31 23:30:00+00:00 81.890\n",
       "78 2019-03-31 06:43:00 2019-04-04 16:28:00+00:00 81.890\n",
       "79 2019-03-31 06:43:00 2019-04-18 21:43:00+00:00 81.890\n",
       "80 2015-12-25 02:28:00 2015-12-25 03:51:00+00:00 82.000\n",
       "81 2016-06-18 05:13:00 2016-06-21 22:00:00+00:00 82.000\n",
       "82 2016-10-20 13:59:00 2016-10-21 16:46:00+00:00 82.000\n",
       "83 2019-03-31 06:43:00 2019-03-31 10:00:00+00:00 82.000\n",
       "84 2015-02-03 22:38:00 2015-02-05 03:54:00+00:00 82.000\n",
       "85 2015-02-20 10:15:00 2015-02-20 10:15:00+00:00 82.000\n",
       "86 2015-12-25 02:28:00 2015-12-25 04:52:00+00:00 82.008\n",
       "87 2017-12-19 19:18:00 2017-12-20 03:54:00+00:00 84.000\n",
       "88 2017-12-19 19:18:00 2017-12-23 17:00:00+00:00 84.000\n",
       "89 2018-11-18 16:56:00 2018-11-18 21:00:00+00:00 91.000\n",
       "90 2019-02-09 05:08:00 2019-02-09 08:02:00+00:00 92.000"
      ]
     },
     "metadata": {},
     "output_type": "display_data"
    },
    {
     "data": {
      "text/html": [
       "<style>\n",
       ".list-inline {list-style: none; margin:0; padding: 0}\n",
       ".list-inline>li {display: inline-block}\n",
       ".list-inline>li:not(:last-child)::after {content: \"\\00b7\"; padding: 0 .5ex}\n",
       "</style>\n",
       "<ol class=list-inline><li>90</li><li>25</li></ol>\n"
      ],
      "text/latex": [
       "\\begin{enumerate*}\n",
       "\\item 90\n",
       "\\item 25\n",
       "\\end{enumerate*}\n"
      ],
      "text/markdown": [
       "1. 90\n",
       "2. 25\n",
       "\n",
       "\n"
      ],
      "text/plain": [
       "[1] 90 25"
      ]
     },
     "metadata": {},
     "output_type": "display_data"
    },
    {
     "data": {
      "text/html": [
       "<style>\n",
       ".list-inline {list-style: none; margin:0; padding: 0}\n",
       ".list-inline>li {display: inline-block}\n",
       ".list-inline>li:not(:last-child)::after {content: \"\\00b7\"; padding: 0 .5ex}\n",
       "</style>\n",
       "<ol class=list-inline><li>'anon_id'</li><li>'pat_enc_csn_id_coded'</li><li>'label'</li><li>'admit_time'</li><li>'inpatient_data_id_coded'</li><li>'ESI'</li><li>'gender'</li><li>'race'</li><li>'recent_height_cm'</li><li>'recent_weight_kg'</li><li>'insurance'</li><li>'recent_date'</li><li>'age'</li><li>'English'</li><li>'recorded_time'</li><li>'Height'</li><li>'Weight'</li><li>'adredif'</li><li>'dmfsdif'</li><li>'Hfsdmdif'</li><li>'Wfsdmdif'</li><li>'nWe'</li><li>'minWe'</li><li>'maxWe'</li><li>'rmaxWe'</li></ol>\n"
      ],
      "text/latex": [
       "\\begin{enumerate*}\n",
       "\\item 'anon\\_id'\n",
       "\\item 'pat\\_enc\\_csn\\_id\\_coded'\n",
       "\\item 'label'\n",
       "\\item 'admit\\_time'\n",
       "\\item 'inpatient\\_data\\_id\\_coded'\n",
       "\\item 'ESI'\n",
       "\\item 'gender'\n",
       "\\item 'race'\n",
       "\\item 'recent\\_height\\_cm'\n",
       "\\item 'recent\\_weight\\_kg'\n",
       "\\item 'insurance'\n",
       "\\item 'recent\\_date'\n",
       "\\item 'age'\n",
       "\\item 'English'\n",
       "\\item 'recorded\\_time'\n",
       "\\item 'Height'\n",
       "\\item 'Weight'\n",
       "\\item 'adredif'\n",
       "\\item 'dmfsdif'\n",
       "\\item 'Hfsdmdif'\n",
       "\\item 'Wfsdmdif'\n",
       "\\item 'nWe'\n",
       "\\item 'minWe'\n",
       "\\item 'maxWe'\n",
       "\\item 'rmaxWe'\n",
       "\\end{enumerate*}\n"
      ],
      "text/markdown": [
       "1. 'anon_id'\n",
       "2. 'pat_enc_csn_id_coded'\n",
       "3. 'label'\n",
       "4. 'admit_time'\n",
       "5. 'inpatient_data_id_coded'\n",
       "6. 'ESI'\n",
       "7. 'gender'\n",
       "8. 'race'\n",
       "9. 'recent_height_cm'\n",
       "10. 'recent_weight_kg'\n",
       "11. 'insurance'\n",
       "12. 'recent_date'\n",
       "13. 'age'\n",
       "14. 'English'\n",
       "15. 'recorded_time'\n",
       "16. 'Height'\n",
       "17. 'Weight'\n",
       "18. 'adredif'\n",
       "19. 'dmfsdif'\n",
       "20. 'Hfsdmdif'\n",
       "21. 'Wfsdmdif'\n",
       "22. 'nWe'\n",
       "23. 'minWe'\n",
       "24. 'maxWe'\n",
       "25. 'rmaxWe'\n",
       "\n",
       "\n"
      ],
      "text/plain": [
       " [1] \"anon_id\"                 \"pat_enc_csn_id_coded\"   \n",
       " [3] \"label\"                   \"admit_time\"             \n",
       " [5] \"inpatient_data_id_coded\" \"ESI\"                    \n",
       " [7] \"gender\"                  \"race\"                   \n",
       " [9] \"recent_height_cm\"        \"recent_weight_kg\"       \n",
       "[11] \"insurance\"               \"recent_date\"            \n",
       "[13] \"age\"                     \"English\"                \n",
       "[15] \"recorded_time\"           \"Height\"                 \n",
       "[17] \"Weight\"                  \"adredif\"                \n",
       "[19] \"dmfsdif\"                 \"Hfsdmdif\"               \n",
       "[21] \"Wfsdmdif\"                \"nWe\"                    \n",
       "[23] \"minWe\"                   \"maxWe\"                  \n",
       "[25] \"rmaxWe\"                 "
      ]
     },
     "metadata": {},
     "output_type": "display_data"
    }
   ],
   "source": [
    "# strict cut at 45 and 90\n",
    "errorH %>% select(anon_id, pat_enc_csn_id_coded, recent_date, recent_weight_kg, recent_height_cm, \n",
    "                  admit_time, recorded_time, Height)\n",
    "dim(errorH)\n",
    "colnames(errorH)"
   ]
  },
  {
   "cell_type": "raw",
   "metadata": {},
   "source": [
    "# note that other heights in demo and flowsheet for same encounters that are more reasonable\n",
    "errorH[,c(1:2, 5,11:18, 20, 24:26)] %>% filter(Height >= 45 & Height < 50) %>% \n",
    "        arrange(Height) %>% filter(rmaxHe > 1)"
   ]
  },
  {
   "cell_type": "raw",
   "metadata": {},
   "source": [
    "# only 1 patient 1 measurement, look correct\n",
    "errorH[,c(1:2, 5,11:18, 20, 24:26)] %>% filter(Height >= 45 & Height < 50) %>% \n",
    "        arrange(Height) %>% filter(nHe > 1, rmaxHe == 1)"
   ]
  },
  {
   "cell_type": "raw",
   "metadata": {},
   "source": [
    "# there are discrepancies, can be in any range\n",
    "head(hw1[,c(1:2, 5,11:18, 20, 24:26)] %>% filter(Height >=45, Height <=90, rmaxHe > 1.02) %>% arrange(-rmaxHe))"
   ]
  },
  {
   "cell_type": "markdown",
   "metadata": {},
   "source": [
    "#### Process Height from flowsheet, to merge with cohort_demo again later\n",
    "- input `hw1`, output `h` = only all valid Heights available from flowsheet\n",
    "- there are many recent_heights in  `cohort_demo` but not in flowsheet\n",
    "- there are a few with valid Height in flowsheet with no valid recent_height in demographics (only care about CSNs in cohort_demo)"
   ]
  },
  {
   "cell_type": "code",
   "execution_count": 19,
   "metadata": {},
   "outputs": [
    {
     "data": {
      "text/html": [
       "31513"
      ],
      "text/latex": [
       "31513"
      ],
      "text/markdown": [
       "31513"
      ],
      "text/plain": [
       "[1] 31513"
      ]
     },
     "metadata": {},
     "output_type": "display_data"
    },
    {
     "data": {
      "text/html": [
       "31513"
      ],
      "text/latex": [
       "31513"
      ],
      "text/markdown": [
       "31513"
      ],
      "text/plain": [
       "[1] 31513"
      ]
     },
     "metadata": {},
     "output_type": "display_data"
    },
    {
     "data": {
      "text/html": [
       "24324"
      ],
      "text/latex": [
       "24324"
      ],
      "text/markdown": [
       "24324"
      ],
      "text/plain": [
       "[1] 24324"
      ]
     },
     "metadata": {},
     "output_type": "display_data"
    },
    {
     "data": {
      "text/html": [
       "24324"
      ],
      "text/latex": [
       "24324"
      ],
      "text/markdown": [
       "24324"
      ],
      "text/plain": [
       "[1] 24324"
      ]
     },
     "metadata": {},
     "output_type": "display_data"
    },
    {
     "data": {
      "text/html": [
       "24324"
      ],
      "text/latex": [
       "24324"
      ],
      "text/markdown": [
       "24324"
      ],
      "text/plain": [
       "[1] 24324"
      ]
     },
     "metadata": {},
     "output_type": "display_data"
    },
    {
     "data": {
      "text/html": [
       "<style>\n",
       ".dl-inline {width: auto; margin:0; padding: 0}\n",
       ".dl-inline>dt, .dl-inline>dd {float: none; width: auto; display: inline-block}\n",
       ".dl-inline>dt::after {content: \":\\0020\"; padding-right: .5ex}\n",
       ".dl-inline>dt:not(:first-of-type) {padding-left: .5ex}\n",
       "</style><dl class=dl-inline><dt>Hfsdmdif</dt><dd>0</dd><dt>Wfsdmdif</dt><dd>5577</dd></dl>\n"
      ],
      "text/latex": [
       "\\begin{description*}\n",
       "\\item[Hfsdmdif] 0\n",
       "\\item[Wfsdmdif] 5577\n",
       "\\end{description*}\n"
      ],
      "text/markdown": [
       "Hfsdmdif\n",
       ":   0Wfsdmdif\n",
       ":   5577\n",
       "\n"
      ],
      "text/plain": [
       "Hfsdmdif Wfsdmdif \n",
       "       0     5577 "
      ]
     },
     "metadata": {},
     "output_type": "display_data"
    }
   ],
   "source": [
    "length(unique(cohort_demo$anon_id)) #31513\n",
    "length(unique(hw1$anon_id)) #31513\n",
    "\n",
    "# remove the most erroneous values and NAs under flowsheet\n",
    "# take the closest values of flowsheet's Heights to Heights in demographics, per patients\n",
    "h <- hw1 %>% filter(!is.na(Height), Height >= 45, Height <= 90) %>% group_by(anon_id) %>% slice(which.min(Hfsdmdif))\n",
    "# group_by(anon_id) %>% slice_min(order_by = Hfsdmdif)\n",
    "\n",
    "nrow(h) #24324\n",
    "length(unique(h$anon_id)) #24324\n",
    "length(unique(h$pat_enc_csn_id_coded)) #24324\n",
    "\n",
    "# those without H&W from demo\n",
    "colSums(is.na(h[, c('Hfsdmdif', 'Wfsdmdif')]))"
   ]
  },
  {
   "cell_type": "code",
   "execution_count": 20,
   "metadata": {},
   "outputs": [
    {
     "data": {
      "text/html": [
       "<table>\n",
       "<caption>A grouped_df: 19 × 9</caption>\n",
       "<thead>\n",
       "\t<tr><th scope=col>anon_id</th><th scope=col>pat_enc_csn_id_coded</th><th scope=col>recent_date</th><th scope=col>recent_weight_kg</th><th scope=col>recent_height_cm</th><th scope=col>admit_time</th><th scope=col>recorded_time</th><th scope=col>Height</th><th scope=col>Hfsdmdif</th></tr>\n",
       "\t<tr><th scope=col>&lt;chr&gt;</th><th scope=col>&lt;dbl&gt;</th><th scope=col>&lt;chr&gt;</th><th scope=col>&lt;dbl&gt;</th><th scope=col>&lt;dbl&gt;</th><th scope=col>&lt;chr&gt;</th><th scope=col>&lt;chr&gt;</th><th scope=col>&lt;dbl&gt;</th><th scope=col>&lt;dbl&gt;</th></tr>\n",
       "</thead>\n",
       "<tbody>\n",
       "\t<tr><td>JCe0ac93 </td><td>131283990134</td><td>2020-03-31</td><td> 63.00</td><td>115.00</td><td>2020-03-08 06:38:00</td><td>2020-03-09 02:19:00+00:00</td><td>45.276</td><td> 0.00</td></tr>\n",
       "\t<tr><td>JCe57462 </td><td>131072762363</td><td>2020-03-31</td><td> 40.82</td><td>120.00</td><td>2015-02-27 09:20:00</td><td>2015-02-27 10:03:00+00:00</td><td>47.244</td><td> 0.00</td></tr>\n",
       "\t<tr><td>JCdd3957 </td><td>131228153200</td><td>2019-01-01</td><td> 66.50</td><td>121.00</td><td>2017-04-21 01:12:00</td><td>2017-04-25 07:05:00+00:00</td><td>47.638</td><td> 0.00</td></tr>\n",
       "\t<tr><td>JCd60f63 </td><td>131071931233</td><td>2019-01-01</td><td> 70.00</td><td>121.92</td><td>2015-01-22 23:54:00</td><td>2015-01-22 11:00:00+00:00</td><td>48.000</td><td> 0.00</td></tr>\n",
       "\t<tr><td>JCe445c6 </td><td>131128132055</td><td>2020-03-08</td><td> 54.88</td><td>121.92</td><td>2015-10-08 01:55:00</td><td>2015-10-07 21:52:00+00:00</td><td>48.000</td><td> 0.00</td></tr>\n",
       "\t<tr><td>JC2a04f84</td><td>131285883834</td><td>2020-03-31</td><td> 97.80</td><td>203.84</td><td>2020-03-22 23:59:00</td><td>2020-03-23 16:00:00+00:00</td><td>80.250</td><td> 0.00</td></tr>\n",
       "\t<tr><td>JCd6b400 </td><td>131264041990</td><td>2020-03-31</td><td>162.70</td><td>205.74</td><td>2019-01-29 05:09:00</td><td>2019-01-28 23:41:00+00:00</td><td>81.000</td><td> 0.00</td></tr>\n",
       "\t<tr><td>JCe1f81a </td><td>131171351962</td><td>2020-01-22</td><td>124.87</td><td>208.28</td><td>2015-12-25 02:28:00</td><td>2015-12-25 03:51:00+00:00</td><td>82.000</td><td> 0.00</td></tr>\n",
       "\t<tr><td>JCe7857e </td><td>131073935110</td><td>2020-02-26</td><td>173.55</td><td>208.28</td><td>2015-02-03 22:38:00</td><td>2015-02-05 03:54:00+00:00</td><td>82.000</td><td> 0.00</td></tr>\n",
       "\t<tr><td>JCe32bc8 </td><td>131251562544</td><td>2019-01-01</td><td> 50.00</td><td>121.90</td><td>2018-06-03 03:48:00</td><td>2018-06-03 04:35:00+00:00</td><td>48.000</td><td> 0.02</td></tr>\n",
       "\t<tr><td>JC2a23e61</td><td>131268863704</td><td>2020-02-24</td><td> 38.56</td><td>124.50</td><td>2019-06-17 05:31:00</td><td>2019-06-17 00:15:00+00:00</td><td>49.000</td><td> 0.04</td></tr>\n",
       "\t<tr><td>JCe730d1 </td><td>131233340752</td><td>2020-03-24</td><td> 72.40</td><td>205.70</td><td>2017-06-14 04:06:00</td><td>2017-06-14 06:55:00+00:00</td><td>81.000</td><td> 0.04</td></tr>\n",
       "\t<tr><td>JCe0465e </td><td>131254652019</td><td>2020-03-31</td><td> 31.75</td><td>124.51</td><td>2018-08-12 22:30:00</td><td>2018-08-13 04:15:00+00:00</td><td>49.000</td><td> 0.05</td></tr>\n",
       "\t<tr><td>JCeae2cd </td><td>131078005552</td><td>2020-03-31</td><td> 35.56</td><td>127.00</td><td>2015-03-07 06:16:00</td><td>2015-03-07 07:15:00+00:00</td><td>49.000</td><td> 2.54</td></tr>\n",
       "\t<tr><td>JCe2521d </td><td>131242215573</td><td>2020-03-31</td><td>126.55</td><td>210.82</td><td>2017-12-19 19:18:00</td><td>2017-12-20 03:54:00+00:00</td><td>84.000</td><td> 2.54</td></tr>\n",
       "\t<tr><td>JCcd8dd0 </td><td>131084068642</td><td>2020-03-31</td><td> 66.68</td><td>139.70</td><td>2015-03-29 04:36:00</td><td>2015-03-29 04:42:00+00:00</td><td>49.200</td><td>14.73</td></tr>\n",
       "\t<tr><td>JCde3ccf </td><td>131259368765</td><td>2020-02-22</td><td> 76.60</td><td>149.00</td><td>2018-10-06 04:20:00</td><td>2018-10-06 07:55:00+00:00</td><td>49.320</td><td>23.73</td></tr>\n",
       "\t<tr><td>JCd00624 </td><td>131073317688</td><td>2019-01-01</td><td> 52.40</td><td>149.86</td><td>2015-03-03 03:22:00</td><td>2015-03-03 03:40:00+00:00</td><td>49.320</td><td>24.59</td></tr>\n",
       "\t<tr><td>JCe79d23 </td><td>131075033012</td><td>2020-03-28</td><td> 65.30</td><td>149.20</td><td>2015-03-16 14:17:00</td><td>2015-03-16 14:35:00+00:00</td><td>49.000</td><td>24.74</td></tr>\n",
       "</tbody>\n",
       "</table>\n"
      ],
      "text/latex": [
       "A grouped\\_df: 19 × 9\n",
       "\\begin{tabular}{lllllllll}\n",
       " anon\\_id & pat\\_enc\\_csn\\_id\\_coded & recent\\_date & recent\\_weight\\_kg & recent\\_height\\_cm & admit\\_time & recorded\\_time & Height & Hfsdmdif\\\\\n",
       " <chr> & <dbl> & <chr> & <dbl> & <dbl> & <chr> & <chr> & <dbl> & <dbl>\\\\\n",
       "\\hline\n",
       "\t JCe0ac93  & 131283990134 & 2020-03-31 &  63.00 & 115.00 & 2020-03-08 06:38:00 & 2020-03-09 02:19:00+00:00 & 45.276 &  0.00\\\\\n",
       "\t JCe57462  & 131072762363 & 2020-03-31 &  40.82 & 120.00 & 2015-02-27 09:20:00 & 2015-02-27 10:03:00+00:00 & 47.244 &  0.00\\\\\n",
       "\t JCdd3957  & 131228153200 & 2019-01-01 &  66.50 & 121.00 & 2017-04-21 01:12:00 & 2017-04-25 07:05:00+00:00 & 47.638 &  0.00\\\\\n",
       "\t JCd60f63  & 131071931233 & 2019-01-01 &  70.00 & 121.92 & 2015-01-22 23:54:00 & 2015-01-22 11:00:00+00:00 & 48.000 &  0.00\\\\\n",
       "\t JCe445c6  & 131128132055 & 2020-03-08 &  54.88 & 121.92 & 2015-10-08 01:55:00 & 2015-10-07 21:52:00+00:00 & 48.000 &  0.00\\\\\n",
       "\t JC2a04f84 & 131285883834 & 2020-03-31 &  97.80 & 203.84 & 2020-03-22 23:59:00 & 2020-03-23 16:00:00+00:00 & 80.250 &  0.00\\\\\n",
       "\t JCd6b400  & 131264041990 & 2020-03-31 & 162.70 & 205.74 & 2019-01-29 05:09:00 & 2019-01-28 23:41:00+00:00 & 81.000 &  0.00\\\\\n",
       "\t JCe1f81a  & 131171351962 & 2020-01-22 & 124.87 & 208.28 & 2015-12-25 02:28:00 & 2015-12-25 03:51:00+00:00 & 82.000 &  0.00\\\\\n",
       "\t JCe7857e  & 131073935110 & 2020-02-26 & 173.55 & 208.28 & 2015-02-03 22:38:00 & 2015-02-05 03:54:00+00:00 & 82.000 &  0.00\\\\\n",
       "\t JCe32bc8  & 131251562544 & 2019-01-01 &  50.00 & 121.90 & 2018-06-03 03:48:00 & 2018-06-03 04:35:00+00:00 & 48.000 &  0.02\\\\\n",
       "\t JC2a23e61 & 131268863704 & 2020-02-24 &  38.56 & 124.50 & 2019-06-17 05:31:00 & 2019-06-17 00:15:00+00:00 & 49.000 &  0.04\\\\\n",
       "\t JCe730d1  & 131233340752 & 2020-03-24 &  72.40 & 205.70 & 2017-06-14 04:06:00 & 2017-06-14 06:55:00+00:00 & 81.000 &  0.04\\\\\n",
       "\t JCe0465e  & 131254652019 & 2020-03-31 &  31.75 & 124.51 & 2018-08-12 22:30:00 & 2018-08-13 04:15:00+00:00 & 49.000 &  0.05\\\\\n",
       "\t JCeae2cd  & 131078005552 & 2020-03-31 &  35.56 & 127.00 & 2015-03-07 06:16:00 & 2015-03-07 07:15:00+00:00 & 49.000 &  2.54\\\\\n",
       "\t JCe2521d  & 131242215573 & 2020-03-31 & 126.55 & 210.82 & 2017-12-19 19:18:00 & 2017-12-20 03:54:00+00:00 & 84.000 &  2.54\\\\\n",
       "\t JCcd8dd0  & 131084068642 & 2020-03-31 &  66.68 & 139.70 & 2015-03-29 04:36:00 & 2015-03-29 04:42:00+00:00 & 49.200 & 14.73\\\\\n",
       "\t JCde3ccf  & 131259368765 & 2020-02-22 &  76.60 & 149.00 & 2018-10-06 04:20:00 & 2018-10-06 07:55:00+00:00 & 49.320 & 23.73\\\\\n",
       "\t JCd00624  & 131073317688 & 2019-01-01 &  52.40 & 149.86 & 2015-03-03 03:22:00 & 2015-03-03 03:40:00+00:00 & 49.320 & 24.59\\\\\n",
       "\t JCe79d23  & 131075033012 & 2020-03-28 &  65.30 & 149.20 & 2015-03-16 14:17:00 & 2015-03-16 14:35:00+00:00 & 49.000 & 24.74\\\\\n",
       "\\end{tabular}\n"
      ],
      "text/markdown": [
       "\n",
       "A grouped_df: 19 × 9\n",
       "\n",
       "| anon_id &lt;chr&gt; | pat_enc_csn_id_coded &lt;dbl&gt; | recent_date &lt;chr&gt; | recent_weight_kg &lt;dbl&gt; | recent_height_cm &lt;dbl&gt; | admit_time &lt;chr&gt; | recorded_time &lt;chr&gt; | Height &lt;dbl&gt; | Hfsdmdif &lt;dbl&gt; |\n",
       "|---|---|---|---|---|---|---|---|---|\n",
       "| JCe0ac93  | 131283990134 | 2020-03-31 |  63.00 | 115.00 | 2020-03-08 06:38:00 | 2020-03-09 02:19:00+00:00 | 45.276 |  0.00 |\n",
       "| JCe57462  | 131072762363 | 2020-03-31 |  40.82 | 120.00 | 2015-02-27 09:20:00 | 2015-02-27 10:03:00+00:00 | 47.244 |  0.00 |\n",
       "| JCdd3957  | 131228153200 | 2019-01-01 |  66.50 | 121.00 | 2017-04-21 01:12:00 | 2017-04-25 07:05:00+00:00 | 47.638 |  0.00 |\n",
       "| JCd60f63  | 131071931233 | 2019-01-01 |  70.00 | 121.92 | 2015-01-22 23:54:00 | 2015-01-22 11:00:00+00:00 | 48.000 |  0.00 |\n",
       "| JCe445c6  | 131128132055 | 2020-03-08 |  54.88 | 121.92 | 2015-10-08 01:55:00 | 2015-10-07 21:52:00+00:00 | 48.000 |  0.00 |\n",
       "| JC2a04f84 | 131285883834 | 2020-03-31 |  97.80 | 203.84 | 2020-03-22 23:59:00 | 2020-03-23 16:00:00+00:00 | 80.250 |  0.00 |\n",
       "| JCd6b400  | 131264041990 | 2020-03-31 | 162.70 | 205.74 | 2019-01-29 05:09:00 | 2019-01-28 23:41:00+00:00 | 81.000 |  0.00 |\n",
       "| JCe1f81a  | 131171351962 | 2020-01-22 | 124.87 | 208.28 | 2015-12-25 02:28:00 | 2015-12-25 03:51:00+00:00 | 82.000 |  0.00 |\n",
       "| JCe7857e  | 131073935110 | 2020-02-26 | 173.55 | 208.28 | 2015-02-03 22:38:00 | 2015-02-05 03:54:00+00:00 | 82.000 |  0.00 |\n",
       "| JCe32bc8  | 131251562544 | 2019-01-01 |  50.00 | 121.90 | 2018-06-03 03:48:00 | 2018-06-03 04:35:00+00:00 | 48.000 |  0.02 |\n",
       "| JC2a23e61 | 131268863704 | 2020-02-24 |  38.56 | 124.50 | 2019-06-17 05:31:00 | 2019-06-17 00:15:00+00:00 | 49.000 |  0.04 |\n",
       "| JCe730d1  | 131233340752 | 2020-03-24 |  72.40 | 205.70 | 2017-06-14 04:06:00 | 2017-06-14 06:55:00+00:00 | 81.000 |  0.04 |\n",
       "| JCe0465e  | 131254652019 | 2020-03-31 |  31.75 | 124.51 | 2018-08-12 22:30:00 | 2018-08-13 04:15:00+00:00 | 49.000 |  0.05 |\n",
       "| JCeae2cd  | 131078005552 | 2020-03-31 |  35.56 | 127.00 | 2015-03-07 06:16:00 | 2015-03-07 07:15:00+00:00 | 49.000 |  2.54 |\n",
       "| JCe2521d  | 131242215573 | 2020-03-31 | 126.55 | 210.82 | 2017-12-19 19:18:00 | 2017-12-20 03:54:00+00:00 | 84.000 |  2.54 |\n",
       "| JCcd8dd0  | 131084068642 | 2020-03-31 |  66.68 | 139.70 | 2015-03-29 04:36:00 | 2015-03-29 04:42:00+00:00 | 49.200 | 14.73 |\n",
       "| JCde3ccf  | 131259368765 | 2020-02-22 |  76.60 | 149.00 | 2018-10-06 04:20:00 | 2018-10-06 07:55:00+00:00 | 49.320 | 23.73 |\n",
       "| JCd00624  | 131073317688 | 2019-01-01 |  52.40 | 149.86 | 2015-03-03 03:22:00 | 2015-03-03 03:40:00+00:00 | 49.320 | 24.59 |\n",
       "| JCe79d23  | 131075033012 | 2020-03-28 |  65.30 | 149.20 | 2015-03-16 14:17:00 | 2015-03-16 14:35:00+00:00 | 49.000 | 24.74 |\n",
       "\n"
      ],
      "text/plain": [
       "   anon_id   pat_enc_csn_id_coded recent_date recent_weight_kg recent_height_cm\n",
       "1  JCe0ac93  131283990134         2020-03-31   63.00           115.00          \n",
       "2  JCe57462  131072762363         2020-03-31   40.82           120.00          \n",
       "3  JCdd3957  131228153200         2019-01-01   66.50           121.00          \n",
       "4  JCd60f63  131071931233         2019-01-01   70.00           121.92          \n",
       "5  JCe445c6  131128132055         2020-03-08   54.88           121.92          \n",
       "6  JC2a04f84 131285883834         2020-03-31   97.80           203.84          \n",
       "7  JCd6b400  131264041990         2020-03-31  162.70           205.74          \n",
       "8  JCe1f81a  131171351962         2020-01-22  124.87           208.28          \n",
       "9  JCe7857e  131073935110         2020-02-26  173.55           208.28          \n",
       "10 JCe32bc8  131251562544         2019-01-01   50.00           121.90          \n",
       "11 JC2a23e61 131268863704         2020-02-24   38.56           124.50          \n",
       "12 JCe730d1  131233340752         2020-03-24   72.40           205.70          \n",
       "13 JCe0465e  131254652019         2020-03-31   31.75           124.51          \n",
       "14 JCeae2cd  131078005552         2020-03-31   35.56           127.00          \n",
       "15 JCe2521d  131242215573         2020-03-31  126.55           210.82          \n",
       "16 JCcd8dd0  131084068642         2020-03-31   66.68           139.70          \n",
       "17 JCde3ccf  131259368765         2020-02-22   76.60           149.00          \n",
       "18 JCd00624  131073317688         2019-01-01   52.40           149.86          \n",
       "19 JCe79d23  131075033012         2020-03-28   65.30           149.20          \n",
       "   admit_time          recorded_time             Height Hfsdmdif\n",
       "1  2020-03-08 06:38:00 2020-03-09 02:19:00+00:00 45.276  0.00   \n",
       "2  2015-02-27 09:20:00 2015-02-27 10:03:00+00:00 47.244  0.00   \n",
       "3  2017-04-21 01:12:00 2017-04-25 07:05:00+00:00 47.638  0.00   \n",
       "4  2015-01-22 23:54:00 2015-01-22 11:00:00+00:00 48.000  0.00   \n",
       "5  2015-10-08 01:55:00 2015-10-07 21:52:00+00:00 48.000  0.00   \n",
       "6  2020-03-22 23:59:00 2020-03-23 16:00:00+00:00 80.250  0.00   \n",
       "7  2019-01-29 05:09:00 2019-01-28 23:41:00+00:00 81.000  0.00   \n",
       "8  2015-12-25 02:28:00 2015-12-25 03:51:00+00:00 82.000  0.00   \n",
       "9  2015-02-03 22:38:00 2015-02-05 03:54:00+00:00 82.000  0.00   \n",
       "10 2018-06-03 03:48:00 2018-06-03 04:35:00+00:00 48.000  0.02   \n",
       "11 2019-06-17 05:31:00 2019-06-17 00:15:00+00:00 49.000  0.04   \n",
       "12 2017-06-14 04:06:00 2017-06-14 06:55:00+00:00 81.000  0.04   \n",
       "13 2018-08-12 22:30:00 2018-08-13 04:15:00+00:00 49.000  0.05   \n",
       "14 2015-03-07 06:16:00 2015-03-07 07:15:00+00:00 49.000  2.54   \n",
       "15 2017-12-19 19:18:00 2017-12-20 03:54:00+00:00 84.000  2.54   \n",
       "16 2015-03-29 04:36:00 2015-03-29 04:42:00+00:00 49.200 14.73   \n",
       "17 2018-10-06 04:20:00 2018-10-06 07:55:00+00:00 49.320 23.73   \n",
       "18 2015-03-03 03:22:00 2015-03-03 03:40:00+00:00 49.320 24.59   \n",
       "19 2015-03-16 14:17:00 2015-03-16 14:35:00+00:00 49.000 24.74   "
      ]
     },
     "metadata": {},
     "output_type": "display_data"
    }
   ],
   "source": [
    "# after processing, check for possible errors in a narrower range [45, 50) or (80, 90]\n",
    "h %>% filter(Height < 50 | Height > 80) %>% arrange(Hfsdmdif, Height) %>%\n",
    "        select(anon_id, pat_enc_csn_id_coded, recent_date, recent_weight_kg, recent_height_cm, \n",
    "               admit_time, recorded_time, Height, Hfsdmdif)"
   ]
  },
  {
   "cell_type": "code",
   "execution_count": 21,
   "metadata": {},
   "outputs": [
    {
     "data": {
      "text/html": [
       "<table>\n",
       "<caption>A grouped_df: 4 × 10</caption>\n",
       "<thead>\n",
       "\t<tr><th scope=col>anon_id</th><th scope=col>pat_enc_csn_id_coded</th><th scope=col>age</th><th scope=col>recent_date</th><th scope=col>recent_weight_kg</th><th scope=col>recent_height_cm</th><th scope=col>admit_time</th><th scope=col>recorded_time</th><th scope=col>Height</th><th scope=col>Hfsdmdif</th></tr>\n",
       "\t<tr><th scope=col>&lt;chr&gt;</th><th scope=col>&lt;dbl&gt;</th><th scope=col>&lt;int&gt;</th><th scope=col>&lt;chr&gt;</th><th scope=col>&lt;dbl&gt;</th><th scope=col>&lt;dbl&gt;</th><th scope=col>&lt;chr&gt;</th><th scope=col>&lt;chr&gt;</th><th scope=col>&lt;dbl&gt;</th><th scope=col>&lt;dbl&gt;</th></tr>\n",
       "</thead>\n",
       "<tbody>\n",
       "\t<tr><td>JCcd8dd0</td><td>131084068642</td><td>85</td><td>2020-03-31</td><td>66.68</td><td>139.70</td><td>2015-03-29 04:36:00</td><td>2015-03-29 04:42:00+00:00</td><td>49.20</td><td>14.73</td></tr>\n",
       "\t<tr><td>JCde3ccf</td><td>131259368765</td><td>71</td><td>2020-02-22</td><td>76.60</td><td>149.00</td><td>2018-10-06 04:20:00</td><td>2018-10-06 07:55:00+00:00</td><td>49.32</td><td>23.73</td></tr>\n",
       "\t<tr><td>JCd00624</td><td>131073317688</td><td>80</td><td>2019-01-01</td><td>52.40</td><td>149.86</td><td>2015-03-03 03:22:00</td><td>2015-03-03 03:40:00+00:00</td><td>49.32</td><td>24.59</td></tr>\n",
       "\t<tr><td>JCe79d23</td><td>131075033012</td><td>76</td><td>2020-03-28</td><td>65.30</td><td>149.20</td><td>2015-03-16 14:17:00</td><td>2015-03-16 14:35:00+00:00</td><td>49.00</td><td>24.74</td></tr>\n",
       "</tbody>\n",
       "</table>\n"
      ],
      "text/latex": [
       "A grouped\\_df: 4 × 10\n",
       "\\begin{tabular}{llllllllll}\n",
       " anon\\_id & pat\\_enc\\_csn\\_id\\_coded & age & recent\\_date & recent\\_weight\\_kg & recent\\_height\\_cm & admit\\_time & recorded\\_time & Height & Hfsdmdif\\\\\n",
       " <chr> & <dbl> & <int> & <chr> & <dbl> & <dbl> & <chr> & <chr> & <dbl> & <dbl>\\\\\n",
       "\\hline\n",
       "\t JCcd8dd0 & 131084068642 & 85 & 2020-03-31 & 66.68 & 139.70 & 2015-03-29 04:36:00 & 2015-03-29 04:42:00+00:00 & 49.20 & 14.73\\\\\n",
       "\t JCde3ccf & 131259368765 & 71 & 2020-02-22 & 76.60 & 149.00 & 2018-10-06 04:20:00 & 2018-10-06 07:55:00+00:00 & 49.32 & 23.73\\\\\n",
       "\t JCd00624 & 131073317688 & 80 & 2019-01-01 & 52.40 & 149.86 & 2015-03-03 03:22:00 & 2015-03-03 03:40:00+00:00 & 49.32 & 24.59\\\\\n",
       "\t JCe79d23 & 131075033012 & 76 & 2020-03-28 & 65.30 & 149.20 & 2015-03-16 14:17:00 & 2015-03-16 14:35:00+00:00 & 49.00 & 24.74\\\\\n",
       "\\end{tabular}\n"
      ],
      "text/markdown": [
       "\n",
       "A grouped_df: 4 × 10\n",
       "\n",
       "| anon_id &lt;chr&gt; | pat_enc_csn_id_coded &lt;dbl&gt; | age &lt;int&gt; | recent_date &lt;chr&gt; | recent_weight_kg &lt;dbl&gt; | recent_height_cm &lt;dbl&gt; | admit_time &lt;chr&gt; | recorded_time &lt;chr&gt; | Height &lt;dbl&gt; | Hfsdmdif &lt;dbl&gt; |\n",
       "|---|---|---|---|---|---|---|---|---|---|\n",
       "| JCcd8dd0 | 131084068642 | 85 | 2020-03-31 | 66.68 | 139.70 | 2015-03-29 04:36:00 | 2015-03-29 04:42:00+00:00 | 49.20 | 14.73 |\n",
       "| JCde3ccf | 131259368765 | 71 | 2020-02-22 | 76.60 | 149.00 | 2018-10-06 04:20:00 | 2018-10-06 07:55:00+00:00 | 49.32 | 23.73 |\n",
       "| JCd00624 | 131073317688 | 80 | 2019-01-01 | 52.40 | 149.86 | 2015-03-03 03:22:00 | 2015-03-03 03:40:00+00:00 | 49.32 | 24.59 |\n",
       "| JCe79d23 | 131075033012 | 76 | 2020-03-28 | 65.30 | 149.20 | 2015-03-16 14:17:00 | 2015-03-16 14:35:00+00:00 | 49.00 | 24.74 |\n",
       "\n"
      ],
      "text/plain": [
       "  anon_id  pat_enc_csn_id_coded age recent_date recent_weight_kg\n",
       "1 JCcd8dd0 131084068642         85  2020-03-31  66.68           \n",
       "2 JCde3ccf 131259368765         71  2020-02-22  76.60           \n",
       "3 JCd00624 131073317688         80  2019-01-01  52.40           \n",
       "4 JCe79d23 131075033012         76  2020-03-28  65.30           \n",
       "  recent_height_cm admit_time          recorded_time             Height\n",
       "1 139.70           2015-03-29 04:36:00 2015-03-29 04:42:00+00:00 49.20 \n",
       "2 149.00           2018-10-06 04:20:00 2018-10-06 07:55:00+00:00 49.32 \n",
       "3 149.86           2015-03-03 03:22:00 2015-03-03 03:40:00+00:00 49.32 \n",
       "4 149.20           2015-03-16 14:17:00 2015-03-16 14:35:00+00:00 49.00 \n",
       "  Hfsdmdif\n",
       "1 14.73   \n",
       "2 23.73   \n",
       "3 24.59   \n",
       "4 24.74   "
      ]
     },
     "metadata": {},
     "output_type": "display_data"
    }
   ],
   "source": [
    "# these Heights look most suspicious, can take averages, or respect the flowsheet records\n",
    "checkH <- c('JCe79d23', 'JCcd8dd0', 'JCd00624', 'JCde3ccf')\n",
    "hw1 %>% filter(anon_id %in% checkH, !is.na(Height)) %>%\n",
    "         select(anon_id, pat_enc_csn_id_coded, age, recent_date, recent_weight_kg, recent_height_cm, \n",
    "                admit_time, recorded_time, Height, Hfsdmdif) %>% arrange(Hfsdmdif)"
   ]
  },
  {
   "cell_type": "code",
   "execution_count": 22,
   "metadata": {},
   "outputs": [
    {
     "data": {
      "text/html": [
       "24324"
      ],
      "text/latex": [
       "24324"
      ],
      "text/markdown": [
       "24324"
      ],
      "text/plain": [
       "[1] 24324"
      ]
     },
     "metadata": {},
     "output_type": "display_data"
    },
    {
     "data": {
      "text/html": [
       "24320"
      ],
      "text/latex": [
       "24320"
      ],
      "text/markdown": [
       "24320"
      ],
      "text/plain": [
       "[1] 24320"
      ]
     },
     "metadata": {},
     "output_type": "display_data"
    }
   ],
   "source": [
    "# Height in flowsheets seem to be too low, take demographics' Height\n",
    "nrow(h) #24324\n",
    "h <- h %>% filter(!anon_id %in% checkH)\n",
    "nrow(h) #24320"
   ]
  },
  {
   "cell_type": "code",
   "execution_count": 23,
   "metadata": {},
   "outputs": [
    {
     "data": {
      "text/html": [
       "30139"
      ],
      "text/latex": [
       "30139"
      ],
      "text/markdown": [
       "30139"
      ],
      "text/plain": [
       "[1] 30139"
      ]
     },
     "metadata": {},
     "output_type": "display_data"
    },
    {
     "data": {
      "text/html": [
       "24320"
      ],
      "text/latex": [
       "24320"
      ],
      "text/markdown": [
       "24320"
      ],
      "text/plain": [
       "[1] 24320"
      ]
     },
     "metadata": {},
     "output_type": "display_data"
    },
    {
     "data": {
      "text/html": [
       "<table>\n",
       "<caption>A grouped_df: 2 × 25</caption>\n",
       "<thead>\n",
       "\t<tr><th scope=col>anon_id</th><th scope=col>pat_enc_csn_id_coded</th><th scope=col>label</th><th scope=col>admit_time</th><th scope=col>inpatient_data_id_coded</th><th scope=col>ESI</th><th scope=col>gender</th><th scope=col>race</th><th scope=col>recent_height_cm</th><th scope=col>recent_weight_kg</th><th scope=col>insurance</th><th scope=col>recent_date</th><th scope=col>age</th><th scope=col>English</th><th scope=col>recorded_time</th><th scope=col>Height</th><th scope=col>Weight</th><th scope=col>adredif</th><th scope=col>dmfsdif</th><th scope=col>Hfsdmdif</th><th scope=col>Wfsdmdif</th><th scope=col>nWe</th><th scope=col>minWe</th><th scope=col>maxWe</th><th scope=col>rmaxWe</th></tr>\n",
       "\t<tr><th scope=col>&lt;chr&gt;</th><th scope=col>&lt;dbl&gt;</th><th scope=col>&lt;int&gt;</th><th scope=col>&lt;chr&gt;</th><th scope=col>&lt;int&gt;</th><th scope=col>&lt;int&gt;</th><th scope=col>&lt;chr&gt;</th><th scope=col>&lt;chr&gt;</th><th scope=col>&lt;dbl&gt;</th><th scope=col>&lt;dbl&gt;</th><th scope=col>&lt;int&gt;</th><th scope=col>&lt;chr&gt;</th><th scope=col>&lt;int&gt;</th><th scope=col>&lt;int&gt;</th><th scope=col>&lt;chr&gt;</th><th scope=col>&lt;dbl&gt;</th><th scope=col>&lt;dbl&gt;</th><th scope=col>&lt;dbl&gt;</th><th scope=col>&lt;dbl&gt;</th><th scope=col>&lt;dbl&gt;</th><th scope=col>&lt;dbl&gt;</th><th scope=col>&lt;int&gt;</th><th scope=col>&lt;dbl&gt;</th><th scope=col>&lt;dbl&gt;</th><th scope=col>&lt;dbl&gt;</th></tr>\n",
       "</thead>\n",
       "<tbody>\n",
       "\t<tr><td>JCdf7023</td><td>131267775047</td><td>0</td><td>2019-06-08 00:19:00</td><td>36910146</td><td>3</td><td>Female</td><td>White</td><td>111.60</td><td>55.0</td><td>0</td><td>2020-03-31</td><td>54</td><td>1</td><td>2019-06-07 21:00:00+00:00</td><td>67</td><td>2127.00</td><td>1440</td><td>298</td><td> 58.58</td><td>5.3</td><td>1</td><td>2127.00</td><td>2127.00</td><td>1.00</td></tr>\n",
       "\t<tr><td>JCe0abb0</td><td>131265179321</td><td>1</td><td>2019-03-26 13:37:00</td><td>35185661</td><td>2</td><td>Male  </td><td>Asian</td><td> 14.48</td><td>75.3</td><td>1</td><td>2019-09-17</td><td>63</td><td>1</td><td>2019-03-26 15:00:00+00:00</td><td>67</td><td>2663.16</td><td>   0</td><td>175</td><td>155.70</td><td>0.2</td><td>4</td><td>2596.14</td><td>2811.31</td><td>1.06</td></tr>\n",
       "</tbody>\n",
       "</table>\n"
      ],
      "text/latex": [
       "A grouped\\_df: 2 × 25\n",
       "\\begin{tabular}{lllllllllllllllllllllllll}\n",
       " anon\\_id & pat\\_enc\\_csn\\_id\\_coded & label & admit\\_time & inpatient\\_data\\_id\\_coded & ESI & gender & race & recent\\_height\\_cm & recent\\_weight\\_kg & insurance & recent\\_date & age & English & recorded\\_time & Height & Weight & adredif & dmfsdif & Hfsdmdif & Wfsdmdif & nWe & minWe & maxWe & rmaxWe\\\\\n",
       " <chr> & <dbl> & <int> & <chr> & <int> & <int> & <chr> & <chr> & <dbl> & <dbl> & <int> & <chr> & <int> & <int> & <chr> & <dbl> & <dbl> & <dbl> & <dbl> & <dbl> & <dbl> & <int> & <dbl> & <dbl> & <dbl>\\\\\n",
       "\\hline\n",
       "\t JCdf7023 & 131267775047 & 0 & 2019-06-08 00:19:00 & 36910146 & 3 & Female & White & 111.60 & 55.0 & 0 & 2020-03-31 & 54 & 1 & 2019-06-07 21:00:00+00:00 & 67 & 2127.00 & 1440 & 298 &  58.58 & 5.3 & 1 & 2127.00 & 2127.00 & 1.00\\\\\n",
       "\t JCe0abb0 & 131265179321 & 1 & 2019-03-26 13:37:00 & 35185661 & 2 & Male   & Asian &  14.48 & 75.3 & 1 & 2019-09-17 & 63 & 1 & 2019-03-26 15:00:00+00:00 & 67 & 2663.16 &    0 & 175 & 155.70 & 0.2 & 4 & 2596.14 & 2811.31 & 1.06\\\\\n",
       "\\end{tabular}\n"
      ],
      "text/markdown": [
       "\n",
       "A grouped_df: 2 × 25\n",
       "\n",
       "| anon_id &lt;chr&gt; | pat_enc_csn_id_coded &lt;dbl&gt; | label &lt;int&gt; | admit_time &lt;chr&gt; | inpatient_data_id_coded &lt;int&gt; | ESI &lt;int&gt; | gender &lt;chr&gt; | race &lt;chr&gt; | recent_height_cm &lt;dbl&gt; | recent_weight_kg &lt;dbl&gt; | insurance &lt;int&gt; | recent_date &lt;chr&gt; | age &lt;int&gt; | English &lt;int&gt; | recorded_time &lt;chr&gt; | Height &lt;dbl&gt; | Weight &lt;dbl&gt; | adredif &lt;dbl&gt; | dmfsdif &lt;dbl&gt; | Hfsdmdif &lt;dbl&gt; | Wfsdmdif &lt;dbl&gt; | nWe &lt;int&gt; | minWe &lt;dbl&gt; | maxWe &lt;dbl&gt; | rmaxWe &lt;dbl&gt; |\n",
       "|---|---|---|---|---|---|---|---|---|---|---|---|---|---|---|---|---|---|---|---|---|---|---|---|---|\n",
       "| JCdf7023 | 131267775047 | 0 | 2019-06-08 00:19:00 | 36910146 | 3 | Female | White | 111.60 | 55.0 | 0 | 2020-03-31 | 54 | 1 | 2019-06-07 21:00:00+00:00 | 67 | 2127.00 | 1440 | 298 |  58.58 | 5.3 | 1 | 2127.00 | 2127.00 | 1.00 |\n",
       "| JCe0abb0 | 131265179321 | 1 | 2019-03-26 13:37:00 | 35185661 | 2 | Male   | Asian |  14.48 | 75.3 | 1 | 2019-09-17 | 63 | 1 | 2019-03-26 15:00:00+00:00 | 67 | 2663.16 |    0 | 175 | 155.70 | 0.2 | 4 | 2596.14 | 2811.31 | 1.06 |\n",
       "\n"
      ],
      "text/plain": [
       "  anon_id  pat_enc_csn_id_coded label admit_time         \n",
       "1 JCdf7023 131267775047         0     2019-06-08 00:19:00\n",
       "2 JCe0abb0 131265179321         1     2019-03-26 13:37:00\n",
       "  inpatient_data_id_coded ESI gender race  recent_height_cm recent_weight_kg\n",
       "1 36910146                3   Female White 111.60           55.0            \n",
       "2 35185661                2   Male   Asian  14.48           75.3            \n",
       "  insurance recent_date age English recorded_time             Height Weight \n",
       "1 0         2020-03-31  54  1       2019-06-07 21:00:00+00:00 67     2127.00\n",
       "2 1         2019-09-17  63  1       2019-03-26 15:00:00+00:00 67     2663.16\n",
       "  adredif dmfsdif Hfsdmdif Wfsdmdif nWe minWe   maxWe   rmaxWe\n",
       "1 1440    298      58.58   5.3      1   2127.00 2127.00 1.00  \n",
       "2    0    175     155.70   0.2      4   2596.14 2811.31 1.06  "
      ]
     },
     "metadata": {},
     "output_type": "display_data"
    },
    {
     "data": {
      "text/html": [
       "6270"
      ],
      "text/latex": [
       "6270"
      ],
      "text/markdown": [
       "6270"
      ],
      "text/plain": [
       "[1] 6270"
      ]
     },
     "metadata": {},
     "output_type": "display_data"
    }
   ],
   "source": [
    "# remove invalid height in demo, compare counts, will not use this \n",
    "h_recent <- cohort_demo %>% filter(!is.na(recent_height_cm), recent_height_cm >=45*in_2_cm, recent_height_cm <=90*in_2_cm) \n",
    "length(unique(h_recent$anon_id)) #30139\n",
    "length(unique(h$anon_id)) #24320\n",
    "\n",
    "# patients with h from flowsheet but no valid recent_height\n",
    "anti_join(h, h_recent, by=c(\"anon_id\"))\n",
    "\n",
    "# patients NO h from flowsheet but valid recent_height\n",
    "nrow(anti_join(h_recent, h, by=c(\"anon_id\")))"
   ]
  },
  {
   "cell_type": "code",
   "execution_count": 24,
   "metadata": {},
   "outputs": [
    {
     "data": {
      "text/html": [
       "<table>\n",
       "<caption>A data.frame: 12 × 14</caption>\n",
       "<thead>\n",
       "\t<tr><th scope=col>anon_id</th><th scope=col>pat_enc_csn_id_coded</th><th scope=col>label</th><th scope=col>admit_time</th><th scope=col>inpatient_data_id_coded</th><th scope=col>ESI</th><th scope=col>gender</th><th scope=col>race</th><th scope=col>recent_height_cm</th><th scope=col>recent_weight_kg</th><th scope=col>insurance</th><th scope=col>recent_date</th><th scope=col>age</th><th scope=col>English</th></tr>\n",
       "\t<tr><th scope=col>&lt;chr&gt;</th><th scope=col>&lt;dbl&gt;</th><th scope=col>&lt;int&gt;</th><th scope=col>&lt;chr&gt;</th><th scope=col>&lt;int&gt;</th><th scope=col>&lt;int&gt;</th><th scope=col>&lt;chr&gt;</th><th scope=col>&lt;chr&gt;</th><th scope=col>&lt;dbl&gt;</th><th scope=col>&lt;dbl&gt;</th><th scope=col>&lt;int&gt;</th><th scope=col>&lt;chr&gt;</th><th scope=col>&lt;int&gt;</th><th scope=col>&lt;int&gt;</th></tr>\n",
       "</thead>\n",
       "<tbody>\n",
       "\t<tr><td>JC2a2d702</td><td>131267052804</td><td>0</td><td>2019-05-15 01:14:00</td><td>36434138</td><td> 3</td><td>Female</td><td>Other  </td><td> 65.00</td><td> 82.80</td><td>0</td><td>2020-03-31</td><td>76</td><td>0</td></tr>\n",
       "\t<tr><td>JCd2d4eb </td><td>131236770818</td><td>0</td><td>2017-08-12 11:21:00</td><td>25544867</td><td> 3</td><td>Male  </td><td>White  </td><td> 68.00</td><td>102.06</td><td>0</td><td>2019-01-01</td><td>80</td><td>1</td></tr>\n",
       "\t<tr><td>JCd6b805 </td><td>131064542495</td><td>0</td><td>2015-01-04 10:50:00</td><td>13858638</td><td> 2</td><td>Female</td><td>Other  </td><td> 12.95</td><td> 71.80</td><td>0</td><td>2019-01-01</td><td>20</td><td>1</td></tr>\n",
       "\t<tr><td>JCd8d241 </td><td>131236791940</td><td>0</td><td>2017-08-06 23:17:00</td><td>25553574</td><td> 3</td><td>Male  </td><td>Asian  </td><td> 66.00</td><td> 64.50</td><td>1</td><td>2019-08-13</td><td>80</td><td>1</td></tr>\n",
       "\t<tr><td>JCd8d241 </td><td>131273357211</td><td>0</td><td>2019-08-08 08:32:00</td><td>39794104</td><td> 3</td><td>Male  </td><td>Asian  </td><td> 66.00</td><td> 64.50</td><td>1</td><td>2019-08-13</td><td>82</td><td>1</td></tr>\n",
       "\t<tr><td>JCdf7023 </td><td>131222744464</td><td>0</td><td>2017-04-15 05:05:00</td><td>23851365</td><td> 3</td><td>Female</td><td>White  </td><td>111.60</td><td> 55.00</td><td>0</td><td>2020-03-31</td><td>52</td><td>1</td></tr>\n",
       "\t<tr><td>JCdf7023 </td><td>131242758905</td><td>0</td><td>2018-01-16 00:24:00</td><td>27798938</td><td> 3</td><td>Female</td><td>White  </td><td>111.60</td><td> 55.00</td><td>0</td><td>2020-03-31</td><td>52</td><td>1</td></tr>\n",
       "\t<tr><td>JCdf7023 </td><td>131267775047</td><td>0</td><td>2019-06-08 00:19:00</td><td>36910146</td><td> 3</td><td>Female</td><td>White  </td><td>111.60</td><td> 55.00</td><td>0</td><td>2020-03-31</td><td>54</td><td>1</td></tr>\n",
       "\t<tr><td>JCe0abb0 </td><td>131265179321</td><td>1</td><td>2019-03-26 13:37:00</td><td>35185661</td><td> 2</td><td>Male  </td><td>Asian  </td><td> 14.48</td><td> 75.30</td><td>1</td><td>2019-09-17</td><td>63</td><td>1</td></tr>\n",
       "\t<tr><td>JCe1bb80 </td><td>131257529029</td><td>0</td><td>2018-10-10 00:33:00</td><td>32178954</td><td> 3</td><td>Female</td><td>White  </td><td> 54.60</td><td> 58.80</td><td>0</td><td>2020-03-31</td><td>83</td><td>1</td></tr>\n",
       "\t<tr><td>JCe72d42 </td><td>131183449817</td><td>0</td><td>2016-04-10 07:10:00</td><td>19359569</td><td> 3</td><td>Female</td><td>White  </td><td> 67.00</td><td> 87.00</td><td>0</td><td>2019-01-01</td><td>86</td><td>1</td></tr>\n",
       "\t<tr><td>JCe99f34 </td><td>131065928820</td><td>1</td><td>2015-02-03 07:55:00</td><td>14027022</td><td>NA</td><td>Male  </td><td>Unknown</td><td> 66.00</td><td> 90.00</td><td>0</td><td>2019-01-01</td><td>45</td><td>1</td></tr>\n",
       "</tbody>\n",
       "</table>\n"
      ],
      "text/latex": [
       "A data.frame: 12 × 14\n",
       "\\begin{tabular}{llllllllllllll}\n",
       " anon\\_id & pat\\_enc\\_csn\\_id\\_coded & label & admit\\_time & inpatient\\_data\\_id\\_coded & ESI & gender & race & recent\\_height\\_cm & recent\\_weight\\_kg & insurance & recent\\_date & age & English\\\\\n",
       " <chr> & <dbl> & <int> & <chr> & <int> & <int> & <chr> & <chr> & <dbl> & <dbl> & <int> & <chr> & <int> & <int>\\\\\n",
       "\\hline\n",
       "\t JC2a2d702 & 131267052804 & 0 & 2019-05-15 01:14:00 & 36434138 &  3 & Female & Other   &  65.00 &  82.80 & 0 & 2020-03-31 & 76 & 0\\\\\n",
       "\t JCd2d4eb  & 131236770818 & 0 & 2017-08-12 11:21:00 & 25544867 &  3 & Male   & White   &  68.00 & 102.06 & 0 & 2019-01-01 & 80 & 1\\\\\n",
       "\t JCd6b805  & 131064542495 & 0 & 2015-01-04 10:50:00 & 13858638 &  2 & Female & Other   &  12.95 &  71.80 & 0 & 2019-01-01 & 20 & 1\\\\\n",
       "\t JCd8d241  & 131236791940 & 0 & 2017-08-06 23:17:00 & 25553574 &  3 & Male   & Asian   &  66.00 &  64.50 & 1 & 2019-08-13 & 80 & 1\\\\\n",
       "\t JCd8d241  & 131273357211 & 0 & 2019-08-08 08:32:00 & 39794104 &  3 & Male   & Asian   &  66.00 &  64.50 & 1 & 2019-08-13 & 82 & 1\\\\\n",
       "\t JCdf7023  & 131222744464 & 0 & 2017-04-15 05:05:00 & 23851365 &  3 & Female & White   & 111.60 &  55.00 & 0 & 2020-03-31 & 52 & 1\\\\\n",
       "\t JCdf7023  & 131242758905 & 0 & 2018-01-16 00:24:00 & 27798938 &  3 & Female & White   & 111.60 &  55.00 & 0 & 2020-03-31 & 52 & 1\\\\\n",
       "\t JCdf7023  & 131267775047 & 0 & 2019-06-08 00:19:00 & 36910146 &  3 & Female & White   & 111.60 &  55.00 & 0 & 2020-03-31 & 54 & 1\\\\\n",
       "\t JCe0abb0  & 131265179321 & 1 & 2019-03-26 13:37:00 & 35185661 &  2 & Male   & Asian   &  14.48 &  75.30 & 1 & 2019-09-17 & 63 & 1\\\\\n",
       "\t JCe1bb80  & 131257529029 & 0 & 2018-10-10 00:33:00 & 32178954 &  3 & Female & White   &  54.60 &  58.80 & 0 & 2020-03-31 & 83 & 1\\\\\n",
       "\t JCe72d42  & 131183449817 & 0 & 2016-04-10 07:10:00 & 19359569 &  3 & Female & White   &  67.00 &  87.00 & 0 & 2019-01-01 & 86 & 1\\\\\n",
       "\t JCe99f34  & 131065928820 & 1 & 2015-02-03 07:55:00 & 14027022 & NA & Male   & Unknown &  66.00 &  90.00 & 0 & 2019-01-01 & 45 & 1\\\\\n",
       "\\end{tabular}\n"
      ],
      "text/markdown": [
       "\n",
       "A data.frame: 12 × 14\n",
       "\n",
       "| anon_id &lt;chr&gt; | pat_enc_csn_id_coded &lt;dbl&gt; | label &lt;int&gt; | admit_time &lt;chr&gt; | inpatient_data_id_coded &lt;int&gt; | ESI &lt;int&gt; | gender &lt;chr&gt; | race &lt;chr&gt; | recent_height_cm &lt;dbl&gt; | recent_weight_kg &lt;dbl&gt; | insurance &lt;int&gt; | recent_date &lt;chr&gt; | age &lt;int&gt; | English &lt;int&gt; |\n",
       "|---|---|---|---|---|---|---|---|---|---|---|---|---|---|\n",
       "| JC2a2d702 | 131267052804 | 0 | 2019-05-15 01:14:00 | 36434138 |  3 | Female | Other   |  65.00 |  82.80 | 0 | 2020-03-31 | 76 | 0 |\n",
       "| JCd2d4eb  | 131236770818 | 0 | 2017-08-12 11:21:00 | 25544867 |  3 | Male   | White   |  68.00 | 102.06 | 0 | 2019-01-01 | 80 | 1 |\n",
       "| JCd6b805  | 131064542495 | 0 | 2015-01-04 10:50:00 | 13858638 |  2 | Female | Other   |  12.95 |  71.80 | 0 | 2019-01-01 | 20 | 1 |\n",
       "| JCd8d241  | 131236791940 | 0 | 2017-08-06 23:17:00 | 25553574 |  3 | Male   | Asian   |  66.00 |  64.50 | 1 | 2019-08-13 | 80 | 1 |\n",
       "| JCd8d241  | 131273357211 | 0 | 2019-08-08 08:32:00 | 39794104 |  3 | Male   | Asian   |  66.00 |  64.50 | 1 | 2019-08-13 | 82 | 1 |\n",
       "| JCdf7023  | 131222744464 | 0 | 2017-04-15 05:05:00 | 23851365 |  3 | Female | White   | 111.60 |  55.00 | 0 | 2020-03-31 | 52 | 1 |\n",
       "| JCdf7023  | 131242758905 | 0 | 2018-01-16 00:24:00 | 27798938 |  3 | Female | White   | 111.60 |  55.00 | 0 | 2020-03-31 | 52 | 1 |\n",
       "| JCdf7023  | 131267775047 | 0 | 2019-06-08 00:19:00 | 36910146 |  3 | Female | White   | 111.60 |  55.00 | 0 | 2020-03-31 | 54 | 1 |\n",
       "| JCe0abb0  | 131265179321 | 1 | 2019-03-26 13:37:00 | 35185661 |  2 | Male   | Asian   |  14.48 |  75.30 | 1 | 2019-09-17 | 63 | 1 |\n",
       "| JCe1bb80  | 131257529029 | 0 | 2018-10-10 00:33:00 | 32178954 |  3 | Female | White   |  54.60 |  58.80 | 0 | 2020-03-31 | 83 | 1 |\n",
       "| JCe72d42  | 131183449817 | 0 | 2016-04-10 07:10:00 | 19359569 |  3 | Female | White   |  67.00 |  87.00 | 0 | 2019-01-01 | 86 | 1 |\n",
       "| JCe99f34  | 131065928820 | 1 | 2015-02-03 07:55:00 | 14027022 | NA | Male   | Unknown |  66.00 |  90.00 | 0 | 2019-01-01 | 45 | 1 |\n",
       "\n"
      ],
      "text/plain": [
       "   anon_id   pat_enc_csn_id_coded label admit_time         \n",
       "1  JC2a2d702 131267052804         0     2019-05-15 01:14:00\n",
       "2  JCd2d4eb  131236770818         0     2017-08-12 11:21:00\n",
       "3  JCd6b805  131064542495         0     2015-01-04 10:50:00\n",
       "4  JCd8d241  131236791940         0     2017-08-06 23:17:00\n",
       "5  JCd8d241  131273357211         0     2019-08-08 08:32:00\n",
       "6  JCdf7023  131222744464         0     2017-04-15 05:05:00\n",
       "7  JCdf7023  131242758905         0     2018-01-16 00:24:00\n",
       "8  JCdf7023  131267775047         0     2019-06-08 00:19:00\n",
       "9  JCe0abb0  131265179321         1     2019-03-26 13:37:00\n",
       "10 JCe1bb80  131257529029         0     2018-10-10 00:33:00\n",
       "11 JCe72d42  131183449817         0     2016-04-10 07:10:00\n",
       "12 JCe99f34  131065928820         1     2015-02-03 07:55:00\n",
       "   inpatient_data_id_coded ESI gender race    recent_height_cm recent_weight_kg\n",
       "1  36434138                 3  Female Other    65.00            82.80          \n",
       "2  25544867                 3  Male   White    68.00           102.06          \n",
       "3  13858638                 2  Female Other    12.95            71.80          \n",
       "4  25553574                 3  Male   Asian    66.00            64.50          \n",
       "5  39794104                 3  Male   Asian    66.00            64.50          \n",
       "6  23851365                 3  Female White   111.60            55.00          \n",
       "7  27798938                 3  Female White   111.60            55.00          \n",
       "8  36910146                 3  Female White   111.60            55.00          \n",
       "9  35185661                 2  Male   Asian    14.48            75.30          \n",
       "10 32178954                 3  Female White    54.60            58.80          \n",
       "11 19359569                 3  Female White    67.00            87.00          \n",
       "12 14027022                NA  Male   Unknown  66.00            90.00          \n",
       "   insurance recent_date age English\n",
       "1  0         2020-03-31  76  0      \n",
       "2  0         2019-01-01  80  1      \n",
       "3  0         2019-01-01  20  1      \n",
       "4  1         2019-08-13  80  1      \n",
       "5  1         2019-08-13  82  1      \n",
       "6  0         2020-03-31  52  1      \n",
       "7  0         2020-03-31  52  1      \n",
       "8  0         2020-03-31  54  1      \n",
       "9  1         2019-09-17  63  1      \n",
       "10 0         2020-03-31  83  1      \n",
       "11 0         2019-01-01  86  1      \n",
       "12 0         2019-01-01  45  1      "
      ]
     },
     "metadata": {},
     "output_type": "display_data"
    },
    {
     "data": {
      "text/html": [
       "<table>\n",
       "<caption>A grouped_df: 3 × 25</caption>\n",
       "<thead>\n",
       "\t<tr><th scope=col>anon_id</th><th scope=col>pat_enc_csn_id_coded</th><th scope=col>label</th><th scope=col>admit_time</th><th scope=col>inpatient_data_id_coded</th><th scope=col>ESI</th><th scope=col>gender</th><th scope=col>race</th><th scope=col>recent_height_cm</th><th scope=col>recent_weight_kg</th><th scope=col>insurance</th><th scope=col>recent_date</th><th scope=col>age</th><th scope=col>English</th><th scope=col>recorded_time</th><th scope=col>Height</th><th scope=col>Weight</th><th scope=col>adredif</th><th scope=col>dmfsdif</th><th scope=col>Hfsdmdif</th><th scope=col>Wfsdmdif</th><th scope=col>nWe</th><th scope=col>minWe</th><th scope=col>maxWe</th><th scope=col>rmaxWe</th></tr>\n",
       "\t<tr><th scope=col>&lt;chr&gt;</th><th scope=col>&lt;dbl&gt;</th><th scope=col>&lt;int&gt;</th><th scope=col>&lt;chr&gt;</th><th scope=col>&lt;int&gt;</th><th scope=col>&lt;int&gt;</th><th scope=col>&lt;chr&gt;</th><th scope=col>&lt;chr&gt;</th><th scope=col>&lt;dbl&gt;</th><th scope=col>&lt;dbl&gt;</th><th scope=col>&lt;int&gt;</th><th scope=col>&lt;chr&gt;</th><th scope=col>&lt;int&gt;</th><th scope=col>&lt;int&gt;</th><th scope=col>&lt;chr&gt;</th><th scope=col>&lt;dbl&gt;</th><th scope=col>&lt;dbl&gt;</th><th scope=col>&lt;dbl&gt;</th><th scope=col>&lt;dbl&gt;</th><th scope=col>&lt;dbl&gt;</th><th scope=col>&lt;dbl&gt;</th><th scope=col>&lt;int&gt;</th><th scope=col>&lt;dbl&gt;</th><th scope=col>&lt;dbl&gt;</th><th scope=col>&lt;dbl&gt;</th></tr>\n",
       "</thead>\n",
       "<tbody>\n",
       "\t<tr><td>JCdf7023</td><td>131222744464</td><td>0</td><td>2017-04-15 05:05:00</td><td>23851365</td><td>3</td><td>Female</td><td>White</td><td>111.6</td><td>55</td><td>0</td><td>2020-03-31</td><td>52</td><td>1</td><td>2017-04-15 01:32:00+00:00</td><td>NA</td><td>1957.68</td><td>   0</td><td>1081</td><td>   NA</td><td>0.5</td><td>1</td><td>1957.68</td><td>1957.68</td><td>1</td></tr>\n",
       "\t<tr><td>JCdf7023</td><td>131242758905</td><td>0</td><td>2018-01-16 00:24:00</td><td>27798938</td><td>3</td><td>Female</td><td>White</td><td>111.6</td><td>55</td><td>0</td><td>2020-03-31</td><td>52</td><td>1</td><td>2018-01-16 01:20:00+00:00</td><td>NA</td><td>2172.85</td><td>   0</td><td> 805</td><td>   NA</td><td>6.6</td><td>1</td><td>2172.85</td><td>2172.85</td><td>1</td></tr>\n",
       "\t<tr><td>JCdf7023</td><td>131267775047</td><td>0</td><td>2019-06-08 00:19:00</td><td>36910146</td><td>3</td><td>Female</td><td>White</td><td>111.6</td><td>55</td><td>0</td><td>2020-03-31</td><td>54</td><td>1</td><td>2019-06-07 21:00:00+00:00</td><td>67</td><td>2127.00</td><td>1440</td><td> 298</td><td>58.58</td><td>5.3</td><td>1</td><td>2127.00</td><td>2127.00</td><td>1</td></tr>\n",
       "</tbody>\n",
       "</table>\n"
      ],
      "text/latex": [
       "A grouped\\_df: 3 × 25\n",
       "\\begin{tabular}{lllllllllllllllllllllllll}\n",
       " anon\\_id & pat\\_enc\\_csn\\_id\\_coded & label & admit\\_time & inpatient\\_data\\_id\\_coded & ESI & gender & race & recent\\_height\\_cm & recent\\_weight\\_kg & insurance & recent\\_date & age & English & recorded\\_time & Height & Weight & adredif & dmfsdif & Hfsdmdif & Wfsdmdif & nWe & minWe & maxWe & rmaxWe\\\\\n",
       " <chr> & <dbl> & <int> & <chr> & <int> & <int> & <chr> & <chr> & <dbl> & <dbl> & <int> & <chr> & <int> & <int> & <chr> & <dbl> & <dbl> & <dbl> & <dbl> & <dbl> & <dbl> & <int> & <dbl> & <dbl> & <dbl>\\\\\n",
       "\\hline\n",
       "\t JCdf7023 & 131222744464 & 0 & 2017-04-15 05:05:00 & 23851365 & 3 & Female & White & 111.6 & 55 & 0 & 2020-03-31 & 52 & 1 & 2017-04-15 01:32:00+00:00 & NA & 1957.68 &    0 & 1081 &    NA & 0.5 & 1 & 1957.68 & 1957.68 & 1\\\\\n",
       "\t JCdf7023 & 131242758905 & 0 & 2018-01-16 00:24:00 & 27798938 & 3 & Female & White & 111.6 & 55 & 0 & 2020-03-31 & 52 & 1 & 2018-01-16 01:20:00+00:00 & NA & 2172.85 &    0 &  805 &    NA & 6.6 & 1 & 2172.85 & 2172.85 & 1\\\\\n",
       "\t JCdf7023 & 131267775047 & 0 & 2019-06-08 00:19:00 & 36910146 & 3 & Female & White & 111.6 & 55 & 0 & 2020-03-31 & 54 & 1 & 2019-06-07 21:00:00+00:00 & 67 & 2127.00 & 1440 &  298 & 58.58 & 5.3 & 1 & 2127.00 & 2127.00 & 1\\\\\n",
       "\\end{tabular}\n"
      ],
      "text/markdown": [
       "\n",
       "A grouped_df: 3 × 25\n",
       "\n",
       "| anon_id &lt;chr&gt; | pat_enc_csn_id_coded &lt;dbl&gt; | label &lt;int&gt; | admit_time &lt;chr&gt; | inpatient_data_id_coded &lt;int&gt; | ESI &lt;int&gt; | gender &lt;chr&gt; | race &lt;chr&gt; | recent_height_cm &lt;dbl&gt; | recent_weight_kg &lt;dbl&gt; | insurance &lt;int&gt; | recent_date &lt;chr&gt; | age &lt;int&gt; | English &lt;int&gt; | recorded_time &lt;chr&gt; | Height &lt;dbl&gt; | Weight &lt;dbl&gt; | adredif &lt;dbl&gt; | dmfsdif &lt;dbl&gt; | Hfsdmdif &lt;dbl&gt; | Wfsdmdif &lt;dbl&gt; | nWe &lt;int&gt; | minWe &lt;dbl&gt; | maxWe &lt;dbl&gt; | rmaxWe &lt;dbl&gt; |\n",
       "|---|---|---|---|---|---|---|---|---|---|---|---|---|---|---|---|---|---|---|---|---|---|---|---|---|\n",
       "| JCdf7023 | 131222744464 | 0 | 2017-04-15 05:05:00 | 23851365 | 3 | Female | White | 111.6 | 55 | 0 | 2020-03-31 | 52 | 1 | 2017-04-15 01:32:00+00:00 | NA | 1957.68 |    0 | 1081 |    NA | 0.5 | 1 | 1957.68 | 1957.68 | 1 |\n",
       "| JCdf7023 | 131242758905 | 0 | 2018-01-16 00:24:00 | 27798938 | 3 | Female | White | 111.6 | 55 | 0 | 2020-03-31 | 52 | 1 | 2018-01-16 01:20:00+00:00 | NA | 2172.85 |    0 |  805 |    NA | 6.6 | 1 | 2172.85 | 2172.85 | 1 |\n",
       "| JCdf7023 | 131267775047 | 0 | 2019-06-08 00:19:00 | 36910146 | 3 | Female | White | 111.6 | 55 | 0 | 2020-03-31 | 54 | 1 | 2019-06-07 21:00:00+00:00 | 67 | 2127.00 | 1440 |  298 | 58.58 | 5.3 | 1 | 2127.00 | 2127.00 | 1 |\n",
       "\n"
      ],
      "text/plain": [
       "  anon_id  pat_enc_csn_id_coded label admit_time         \n",
       "1 JCdf7023 131222744464         0     2017-04-15 05:05:00\n",
       "2 JCdf7023 131242758905         0     2018-01-16 00:24:00\n",
       "3 JCdf7023 131267775047         0     2019-06-08 00:19:00\n",
       "  inpatient_data_id_coded ESI gender race  recent_height_cm recent_weight_kg\n",
       "1 23851365                3   Female White 111.6            55              \n",
       "2 27798938                3   Female White 111.6            55              \n",
       "3 36910146                3   Female White 111.6            55              \n",
       "  insurance recent_date age English recorded_time             Height Weight \n",
       "1 0         2020-03-31  52  1       2017-04-15 01:32:00+00:00 NA     1957.68\n",
       "2 0         2020-03-31  52  1       2018-01-16 01:20:00+00:00 NA     2172.85\n",
       "3 0         2020-03-31  54  1       2019-06-07 21:00:00+00:00 67     2127.00\n",
       "  adredif dmfsdif Hfsdmdif Wfsdmdif nWe minWe   maxWe   rmaxWe\n",
       "1    0    1081       NA    0.5      1   1957.68 1957.68 1     \n",
       "2    0     805       NA    6.6      1   2172.85 2172.85 1     \n",
       "3 1440     298    58.58    5.3      1   2127.00 2127.00 1     "
      ]
     },
     "metadata": {},
     "output_type": "display_data"
    }
   ],
   "source": [
    "# 12 patients within invalid recent_heights, many NAs, \n",
    "cohort_demo %>% filter(recent_height_cm < 45*in_2_cm | recent_height_cm > 90*in_2_cm) \n",
    "\n",
    "# this one has recent_height of 111cm, but Height = 67in = 170cm\n",
    "hw1 %>% filter(anon_id == 'JCdf7023')"
   ]
  },
  {
   "cell_type": "raw",
   "metadata": {},
   "source": [
    "# this patient height at 91 is the only record, where was patient with height at 92 is error\n",
    "# hw1 %>% filter(anon_id %in% c(\"JCd2c9f5\", \"JCce21de\") & !is.na(Height))"
   ]
  },
  {
   "cell_type": "raw",
   "metadata": {},
   "source": [
    "# check records of patients that have erroneous measurements above, (take the first 3) \n",
    "# & !is.na(Height) leave this out of filter as it will not get patient who has 1 record of NA Height\n",
    "pt_errorH <- hw1[, c(1, 11:25)] %>% filter(anon_id %in% errorH$anon_id) %>% arrange(anon_id, Height) # %>% slice(1:3)\n",
    "\n",
    "# only list those patients with more than 1 measurement, take first 2 to see if there's one wihout errors\n",
    "pt_errorH[duplicated(pt_errorH['anon_id']) | duplicated(pt_errorH['anon_id'], fromLast=TRUE), ] %>% arrange(anon_id, Height) %>% slice(1:2)"
   ]
  },
  {
   "cell_type": "raw",
   "metadata": {},
   "source": [
    "# all patients above have a correct measurement for Height, except for this patient, which has correct measurements under recent date,\n",
    "# but at age 20, pt is likely not grwing 14 inches taller in 3 years. that seems odd. \n",
    "# but this is the only exception, I will replace this with her later Height 3 years after admission at age 23-24\n",
    "hw1[, c(1, 5, 11:25)] %>% filter(anon_id %in% c('JCe2946a', 'JCce21de', 'JCd2c9f5')) %>% arrange(anon_id, Height)"
   ]
  },
  {
   "cell_type": "markdown",
   "metadata": {},
   "source": [
    "### Explore Weight (from flowsheet, in ounces): \n",
    "- Consider errors and remove first\n",
    "    - Weight > 12000 (12345.9 oz = 350kg) \n",
    "    - Weight < 720 (45lbs or 20.4kg)\n",
    "- For the remaining Weights\n",
    "    - see details under process Weight"
   ]
  },
  {
   "cell_type": "code",
   "execution_count": 25,
   "metadata": {},
   "outputs": [
    {
     "data": {
      "text/plain": [
       "    Min.  1st Qu.   Median     Mean  3rd Qu.     Max.     NA's \n",
       "    2.33  2166.40  2603.19  2744.79  3153.46 22046.00    16008 "
      ]
     },
     "metadata": {},
     "output_type": "display_data"
    }
   ],
   "source": [
    "summary(hw1$Weight) # 22046.00 is 625kg, 710 is about 20kg, 900 is about 25.5kg"
   ]
  },
  {
   "cell_type": "code",
   "execution_count": 26,
   "metadata": {},
   "outputs": [
    {
     "data": {
      "image/png": "[encoded data removed]",
      "text/plain": [
       "Plot with title \"Histogram of hw1$Weight\""
      ]
     },
     "metadata": {
      "image/png": {
       "height": 420,
       "width": 420
      }
     },
     "output_type": "display_data"
    },
    {
     "data": {
      "image/png": "[encoded data removed]",
      "text/plain": [
       "Plot with title \"Histogram of hw1[hw1$Weight < 1000, ]$Weight\""
      ]
     },
     "metadata": {
      "image/png": {
       "height": 420,
       "width": 420
      }
     },
     "output_type": "display_data"
    },
    {
     "data": {
      "text/html": [
       "172"
      ],
      "text/latex": [
       "172"
      ],
      "text/markdown": [
       "172"
      ],
      "text/plain": [
       "[1] 172"
      ]
     },
     "metadata": {},
     "output_type": "display_data"
    },
    {
     "data": {
      "text/html": [
       "66"
      ],
      "text/latex": [
       "66"
      ],
      "text/markdown": [
       "66"
      ],
      "text/plain": [
       "[1] 66"
      ]
     },
     "metadata": {},
     "output_type": "display_data"
    },
    {
     "data": {
      "text/html": [
       "84"
      ],
      "text/latex": [
       "84"
      ],
      "text/markdown": [
       "84"
      ],
      "text/plain": [
       "[1] 84"
      ]
     },
     "metadata": {},
     "output_type": "display_data"
    },
    {
     "data": {
      "image/png": "[encoded data removed]",
      "text/plain": [
       "Plot with title \"Histogram of hw1[hw1$Weight > 5000 & hw1$Weight < 10000, ]$Weight\""
      ]
     },
     "metadata": {
      "image/png": {
       "height": 420,
       "width": 420
      }
     },
     "output_type": "display_data"
    }
   ],
   "source": [
    "hist(hw1$Weight, breaks=100, xlim=c(0, 12000), col=\"dodgerblue\")\n",
    "hist(hw1[hw1$Weight < 1000,]$Weight, xlim=c(0,1000), col=\"slateblue\") \n",
    "hist(hw1[hw1$Weight > 5000 & hw1$Weight < 10000,]$Weight, col=\"blue\") \n",
    "\n",
    "# possible errors in Weight\n",
    "errorW <- hw1 %>% filter(Weight < 1000 | Weight > 8000) %>% arrange(Weight)\n",
    "nrow(errorW)\n",
    "\n",
    "length(unique(errorW$anon_id))\n",
    "length(unique(errorW$pat_enc_csn_id_coded))"
   ]
  },
  {
   "cell_type": "code",
   "execution_count": 27,
   "metadata": {},
   "outputs": [
    {
     "data": {
      "text/html": [
       "<table>\n",
       "<caption>A grouped_df: 172 × 11</caption>\n",
       "<thead>\n",
       "\t<tr><th scope=col>anon_id</th><th scope=col>pat_enc_csn_id_coded</th><th scope=col>age</th><th scope=col>recent_date</th><th scope=col>recent_height_cm</th><th scope=col>recent_weight_kg</th><th scope=col>admit_time</th><th scope=col>recorded_time</th><th scope=col>Weight</th><th scope=col>Wfsdmdif</th><th scope=col>dmfsdif</th></tr>\n",
       "\t<tr><th scope=col>&lt;chr&gt;</th><th scope=col>&lt;dbl&gt;</th><th scope=col>&lt;int&gt;</th><th scope=col>&lt;chr&gt;</th><th scope=col>&lt;dbl&gt;</th><th scope=col>&lt;dbl&gt;</th><th scope=col>&lt;chr&gt;</th><th scope=col>&lt;chr&gt;</th><th scope=col>&lt;dbl&gt;</th><th scope=col>&lt;dbl&gt;</th><th scope=col>&lt;dbl&gt;</th></tr>\n",
       "</thead>\n",
       "<tbody>\n",
       "\t<tr><td>JCd8c850 </td><td>131083429185</td><td>77</td><td>2019-01-01</td><td>162.56</td><td> 61.23</td><td>2015-03-29 20:11:00</td><td>2015-03-29 23:28:00+00:00</td><td>    2.33</td><td> 61.16</td><td>1374</td></tr>\n",
       "\t<tr><td>JCdb8af3 </td><td>131179908315</td><td>58</td><td>2019-01-01</td><td>170.20</td><td>  0.10</td><td>2016-02-02 21:38:00</td><td>2016-02-08 15:28:00+00:00</td><td>    3.45</td><td>  0.00</td><td>1058</td></tr>\n",
       "\t<tr><td>JCd4d996 </td><td>131276336621</td><td>72</td><td>2019-11-29</td><td>175.26</td><td> 97.60</td><td>2019-09-21 04:25:00</td><td>2019-09-21 12:17:00+00:00</td><td>   17.64</td><td> 97.10</td><td>  69</td></tr>\n",
       "\t<tr><td>JCcfa790 </td><td>131279920409</td><td>87</td><td>2020-01-15</td><td>182.91</td><td> 82.10</td><td>2019-11-11 23:44:00</td><td>2019-11-12 01:30:00+00:00</td><td>   28.23</td><td> 81.30</td><td>  64</td></tr>\n",
       "\t<tr><td>JCdd701d </td><td>131216269634</td><td>58</td><td>2019-01-01</td><td>160.02</td><td> 47.94</td><td>2017-02-21 20:25:00</td><td>2017-02-23 04:12:00+00:00</td><td>  172.80</td><td> 43.04</td><td> 677</td></tr>\n",
       "\t<tr><td>JCccaf6f </td><td>131148206526</td><td>76</td><td>2019-01-01</td><td>160.02</td><td> 51.70</td><td>2015-12-28 05:49:00</td><td>2015-12-28 06:45:00+00:00</td><td>  192.00</td><td> 46.26</td><td>1100</td></tr>\n",
       "\t<tr><td>JCe7f41e </td><td>131278541034</td><td>64</td><td>2020-02-27</td><td>165.00</td><td> 62.10</td><td>2019-10-12 23:06:00</td><td>2019-10-18 20:14:00+00:00</td><td>  204.59</td><td> 56.30</td><td> 132</td></tr>\n",
       "\t<tr><td>JCe3e7e8 </td><td>131197934631</td><td>61</td><td>2019-01-01</td><td>182.90</td><td> 70.00</td><td>2016-08-16 22:25:00</td><td>2016-08-16 22:07:00+00:00</td><td>  208.00</td><td> 64.10</td><td> 868</td></tr>\n",
       "\t<tr><td>JC2a01205</td><td>131261419878</td><td>24</td><td>2020-03-31</td><td>    NA</td><td> 68.00</td><td>2019-01-18 13:56:00</td><td>2019-01-18 07:57:00+00:00</td><td>  215.17</td><td> 61.90</td><td> 438</td></tr>\n",
       "\t<tr><td>JCdc1ca1 </td><td>131149917867</td><td>61</td><td>2020-03-31</td><td>154.94</td><td> 53.57</td><td>2015-12-23 06:03:00</td><td>2015-12-23 09:00:00+00:00</td><td>  222.22</td><td> 47.27</td><td>1560</td></tr>\n",
       "\t<tr><td>JCdcb394 </td><td>131235411859</td><td>85</td><td>2019-09-27</td><td>157.48</td><td> 65.50</td><td>2017-07-02 07:02:00</td><td>2017-07-07 16:30:00+00:00</td><td>  236.33</td><td> 58.80</td><td> 812</td></tr>\n",
       "\t<tr><td>JCd659db </td><td>131184404515</td><td>21</td><td>2020-03-29</td><td>157.48</td><td> 52.30</td><td>2016-05-06 23:38:00</td><td>2016-05-09 16:00:00+00:00</td><td>  261.02</td><td> 44.90</td><td>1420</td></tr>\n",
       "\t<tr><td>JCe6f88a </td><td>131097590735</td><td>22</td><td>2019-09-06</td><td>187.96</td><td>115.67</td><td>2015-08-07 13:29:00</td><td>2015-08-07 13:30:00+00:00</td><td>  275.13</td><td>107.87</td><td>1491</td></tr>\n",
       "\t<tr><td>JCd16b07 </td><td>131251805170</td><td>82</td><td>2019-01-01</td><td>    NA</td><td> 80.60</td><td>2018-06-09 06:07:00</td><td>2018-06-09 03:35:00+00:00</td><td>  288.00</td><td> 72.44</td><td> 206</td></tr>\n",
       "\t<tr><td>JCd490e5 </td><td>131237149027</td><td>70</td><td>2020-03-31</td><td>170.20</td><td> 85.70</td><td>2017-07-13 01:02:00</td><td>2017-07-14 22:03:00+00:00</td><td>  303.35</td><td> 77.10</td><td> 991</td></tr>\n",
       "\t<tr><td>JCebf4d7 </td><td>131251550575</td><td>61</td><td>2019-04-26</td><td>165.10</td><td>127.27</td><td>2018-06-18 10:28:00</td><td>2018-06-18 05:42:00+00:00</td><td>  320.00</td><td>118.20</td><td> 312</td></tr>\n",
       "\t<tr><td>JCd6a740 </td><td>131257264582</td><td>25</td><td>2019-04-17</td><td>153.00</td><td> 51.20</td><td>2018-10-06 19:47:00</td><td>2018-10-15 13:12:00+00:00</td><td>  324.52</td><td> 42.00</td><td> 184</td></tr>\n",
       "\t<tr><td>JCcf6ce9 </td><td>131117233036</td><td>47</td><td>2019-01-01</td><td>172.72</td><td>129.10</td><td>2015-09-29 10:36:00</td><td>2015-09-30 05:00:00+00:00</td><td>  432.00</td><td>116.85</td><td>1189</td></tr>\n",
       "\t<tr><td>JCe06f75 </td><td>131192154282</td><td>50</td><td>2020-03-31</td><td>157.48</td><td> 96.16</td><td>2016-06-30 04:22:00</td><td>2016-06-30 05:10:00+00:00</td><td>  617.60</td><td> 78.65</td><td>1370</td></tr>\n",
       "\t<tr><td>JCd96fd9 </td><td>131187249982</td><td>47</td><td>2020-02-28</td><td>175.26</td><td>100.70</td><td>2016-05-07 05:10:00</td><td>2016-05-08 20:47:00+00:00</td><td>  640.00</td><td> 82.56</td><td>1391</td></tr>\n",
       "\t<tr><td>JCe1550f </td><td>131213682201</td><td>68</td><td>2019-01-01</td><td>167.64</td><td> 53.20</td><td>2016-12-16 07:22:00</td><td>2016-12-16 16:14:00+00:00</td><td>  701.94</td><td> 33.30</td><td> 746</td></tr>\n",
       "\t<tr><td>JCdb575c </td><td>131089502022</td><td>85</td><td>2019-01-01</td><td>162.56</td><td> 50.53</td><td>2015-06-11 09:28:00</td><td>2015-06-11 09:22:00+00:00</td><td>  710.40</td><td> 30.39</td><td>1300</td></tr>\n",
       "\t<tr><td>JCcfecc2 </td><td>131254389083</td><td>34</td><td>2020-03-10</td><td>142.20</td><td> 20.50</td><td>2018-07-10 03:29:00</td><td>2018-07-09 21:24:00+00:00</td><td>  720.00</td><td>  0.09</td><td> 610</td></tr>\n",
       "\t<tr><td>JCcfecc2 </td><td>131271215701</td><td>35</td><td>2020-03-10</td><td>142.20</td><td> 20.50</td><td>2019-06-16 15:36:00</td><td>2019-06-16 17:58:00+00:00</td><td>  751.33</td><td>  0.80</td><td> 268</td></tr>\n",
       "\t<tr><td>JCcbfbc8 </td><td>131256866342</td><td>77</td><td>2019-01-01</td><td>156.50</td><td> 55.60</td><td>2018-09-03 20:20:00</td><td>2018-09-06 06:00:00+00:00</td><td>  789.42</td><td> 33.22</td><td> 117</td></tr>\n",
       "\t<tr><td>JCea3866 </td><td>131216538201</td><td>32</td><td>2020-03-31</td><td>140.00</td><td> 44.75</td><td>2017-01-19 12:16:00</td><td>2017-01-19 03:33:00+00:00</td><td>  790.40</td><td> 22.34</td><td>1167</td></tr>\n",
       "\t<tr><td>JC2a23e61</td><td>131268863704</td><td>67</td><td>2020-02-24</td><td>124.50</td><td> 38.56</td><td>2019-06-17 05:31:00</td><td>2019-06-18 23:30:00+00:00</td><td>  804.24</td><td> 15.76</td><td> 251</td></tr>\n",
       "\t<tr><td>JCcbb4b8 </td><td>131216914159</td><td>46</td><td>2019-01-01</td><td>165.10</td><td> 57.90</td><td>2017-01-17 00:30:00</td><td>2017-01-17 04:00:00+00:00</td><td>  840.00</td><td> 34.09</td><td> 714</td></tr>\n",
       "\t<tr><td>JCcba5a7 </td><td>131139556413</td><td>86</td><td>2019-01-01</td><td>152.00</td><td> 27.00</td><td>2015-10-31 00:41:00</td><td>2015-10-30 19:27:00+00:00</td><td>  848.01</td><td>  2.96</td><td>1159</td></tr>\n",
       "\t<tr><td>JC2a23e61</td><td>131268863704</td><td>67</td><td>2020-02-24</td><td>124.50</td><td> 38.56</td><td>2019-06-17 05:31:00</td><td>2019-06-20 17:03:00+00:00</td><td>  853.62</td><td> 14.36</td><td> 249</td></tr>\n",
       "\t<tr><td>JCcba5a7 </td><td>131139556413</td><td>86</td><td>2019-01-01</td><td>152.00</td><td> 27.00</td><td>2015-10-31 00:41:00</td><td>2015-11-03 15:45:00+00:00</td><td>  856.00</td><td>  2.73</td><td>1155</td></tr>\n",
       "\t<tr><td>JCd84277 </td><td>131090908463</td><td>21</td><td>2019-11-24</td><td>160.02</td><td> 43.00</td><td>2015-05-22 07:01:00</td><td>2015-05-22 15:21:00+00:00</td><td>  871.26</td><td> 18.30</td><td>1647</td></tr>\n",
       "\t<tr><td>JCce2920 </td><td>131240538461</td><td>68</td><td>2019-04-16</td><td>149.90</td><td> 29.50</td><td>2017-11-27 05:12:00</td><td>2017-11-27 15:43:00+00:00</td><td>  881.84</td><td>  4.50</td><td> 505</td></tr>\n",
       "\t<tr><td>JCce2920 </td><td>131240538461</td><td>68</td><td>2019-04-16</td><td>149.90</td><td> 29.50</td><td>2017-11-27 05:12:00</td><td>2017-11-27 07:09:00+00:00</td><td>  888.00</td><td>  4.33</td><td> 505</td></tr>\n",
       "\t<tr><td>JC2a23e61</td><td>131268863704</td><td>67</td><td>2020-02-24</td><td>124.50</td><td> 38.56</td><td>2019-06-17 05:31:00</td><td>2019-06-19 23:02:00+00:00</td><td>  888.89</td><td> 13.36</td><td> 250</td></tr>\n",
       "\t<tr><td>JCce2920 </td><td>131240538461</td><td>68</td><td>2019-04-16</td><td>149.90</td><td> 29.50</td><td>2017-11-27 05:12:00</td><td>2017-11-28 15:13:00+00:00</td><td>  899.48</td><td>  4.00</td><td> 504</td></tr>\n",
       "\t<tr><td>JCcc2b6f </td><td>131117955539</td><td>44</td><td>2019-01-01</td><td>147.32</td><td> 26.58</td><td>2015-08-27 14:42:00</td><td>2015-08-27 14:49:00+00:00</td><td>  903.00</td><td>  0.98</td><td>1223</td></tr>\n",
       "\t<tr><td>JCcba5a7 </td><td>131139556413</td><td>86</td><td>2019-01-01</td><td>152.00</td><td> 27.00</td><td>2015-10-31 00:41:00</td><td>2015-10-31 14:54:00+00:00</td><td>  910.40</td><td>  1.19</td><td>1158</td></tr>\n",
       "\t<tr><td>JCdab6fa </td><td>131255981015</td><td>80</td><td>2019-01-13</td><td>149.90</td><td> 57.38</td><td>2018-09-11 03:14:00</td><td>2018-09-16 04:00:00+00:00</td><td>  910.41</td><td> 31.57</td><td> 119</td></tr>\n",
       "\t<tr><td>JCcba5a7 </td><td>131139556413</td><td>86</td><td>2019-01-01</td><td>152.00</td><td> 27.00</td><td>2015-10-31 00:41:00</td><td>2015-11-01 17:00:00+00:00</td><td>  917.11</td><td>  1.00</td><td>1157</td></tr>\n",
       "\t<tr><td>JCcc2b6f </td><td>131117955539</td><td>44</td><td>2019-01-01</td><td>147.32</td><td> 26.58</td><td>2015-08-27 14:42:00</td><td>2015-08-28 11:25:00+00:00</td><td>  917.11</td><td>  0.58</td><td>1222</td></tr>\n",
       "\t<tr><td>JCe2ceb6 </td><td>131281137170</td><td>36</td><td>2020-03-05</td><td>154.94</td><td> 28.21</td><td>2019-12-11 21:46:00</td><td>2019-12-12 18:00:00+00:00</td><td>  917.11</td><td>  2.21</td><td>  84</td></tr>\n",
       "\t<tr><td>JCe2ceb6 </td><td>131281137170</td><td>36</td><td>2020-03-05</td><td>154.94</td><td> 28.21</td><td>2019-12-11 21:46:00</td><td>2019-12-11 18:45:00+00:00</td><td>  917.11</td><td>  2.21</td><td>  85</td></tr>\n",
       "\t<tr><td>JCcc2b6f </td><td>131117955539</td><td>44</td><td>2019-01-01</td><td>147.32</td><td> 26.58</td><td>2015-08-27 14:42:00</td><td>2015-08-28 12:31:00+00:00</td><td>  927.70</td><td>  0.28</td><td>1222</td></tr>\n",
       "\t<tr><td>JCe0ff8a </td><td>131209695675</td><td>25</td><td>2020-03-10</td><td>162.56</td><td> 32.66</td><td>2016-11-27 05:33:00</td><td>2016-11-28 16:57:00+00:00</td><td>  929.60</td><td>  6.31</td><td>1198</td></tr>\n",
       "\t<tr><td>JCe0ff8a </td><td>131209695675</td><td>25</td><td>2020-03-10</td><td>162.56</td><td> 32.66</td><td>2016-11-27 05:33:00</td><td>2016-11-27 16:40:00+00:00</td><td>  931.20</td><td>  6.26</td><td>1199</td></tr>\n",
       "\t<tr><td>JCcc2b6f </td><td>131166145514</td><td>45</td><td>2019-01-01</td><td>147.32</td><td> 26.58</td><td>2015-12-07 04:26:00</td><td>2015-12-07 07:00:00+00:00</td><td>  937.60</td><td>  0.00</td><td>1121</td></tr>\n",
       "\t<tr><td>JCe0ff8a </td><td>131209695675</td><td>25</td><td>2020-03-10</td><td>162.56</td><td> 32.66</td><td>2016-11-27 05:33:00</td><td>2016-11-27 01:55:00+00:00</td><td>  952.39</td><td>  5.66</td><td>1199</td></tr>\n",
       "\t<tr><td>JCcba5a7 </td><td>131139556413</td><td>86</td><td>2019-01-01</td><td>152.00</td><td> 27.00</td><td>2015-10-31 00:41:00</td><td>2015-11-02 18:30:00+00:00</td><td>  953.60</td><td>  0.03</td><td>1156</td></tr>\n",
       "\t<tr><td>JCe0ff8a </td><td>131209695675</td><td>25</td><td>2020-03-10</td><td>162.56</td><td> 32.66</td><td>2016-11-27 05:33:00</td><td>2016-11-29 19:00:00+00:00</td><td>  955.91</td><td>  5.56</td><td>1197</td></tr>\n",
       "\t<tr><td>JCdc64cd </td><td>131257236159</td><td>22</td><td>2020-03-31</td><td>152.40</td><td> 28.95</td><td>2018-09-04 06:52:00</td><td>2018-09-06 01:13:00+00:00</td><td>  959.44</td><td>  1.75</td><td> 572</td></tr>\n",
       "\t<tr><td>JCe0ff8a </td><td>131206161990</td><td>25</td><td>2020-03-10</td><td>162.56</td><td> 32.66</td><td>2016-10-29 11:56:00</td><td>2016-10-29 10:13:00+00:00</td><td>  959.44</td><td>  5.46</td><td>1228</td></tr>\n",
       "\t<tr><td>JCce2920 </td><td>131239120594</td><td>68</td><td>2019-04-16</td><td>149.90</td><td> 29.50</td><td>2017-10-21 13:01:00</td><td>2017-10-21 08:49:00+00:00</td><td>  960.00</td><td>  2.28</td><td> 542</td></tr>\n",
       "\t<tr><td>JCcc2b6f </td><td>131117955539</td><td>44</td><td>2019-01-01</td><td>147.32</td><td> 26.58</td><td>2015-08-27 14:42:00</td><td>2015-08-27 07:19:00+00:00</td><td>  960.01</td><td>  0.64</td><td>1223</td></tr>\n",
       "\t<tr><td>JCce2920 </td><td>131239120594</td><td>68</td><td>2019-04-16</td><td>149.90</td><td> 29.50</td><td>2017-10-21 13:01:00</td><td>2017-10-22 14:00:00+00:00</td><td>  960.01</td><td>  2.28</td><td> 541</td></tr>\n",
       "\t<tr><td>JCe0ff8a </td><td>131209695675</td><td>25</td><td>2020-03-10</td><td>162.56</td><td> 32.66</td><td>2016-11-27 05:33:00</td><td>2016-11-30 17:00:00+00:00</td><td>  966.50</td><td>  5.26</td><td>1196</td></tr>\n",
       "\t<tr><td>JCdba730 </td><td>131279798635</td><td>35</td><td>2020-03-31</td><td>157.48</td><td> 31.20</td><td>2019-11-22 05:03:00</td><td>2019-12-18 01:23:00+00:00</td><td>  971.52</td><td>  3.66</td><td> 104</td></tr>\n",
       "\t<tr><td>JCdc64cd </td><td>131279631642</td><td>23</td><td>2020-03-31</td><td>152.40</td><td> 28.95</td><td>2019-11-12 23:18:00</td><td>2019-11-13 17:00:00+00:00</td><td>  973.55</td><td>  1.35</td><td> 139</td></tr>\n",
       "\t<tr><td>JCdc64cd </td><td>131279631642</td><td>23</td><td>2020-03-31</td><td>152.40</td><td> 28.95</td><td>2019-11-12 23:18:00</td><td>2019-11-12 21:03:00+00:00</td><td>  973.55</td><td>  1.35</td><td> 140</td></tr>\n",
       "\t<tr><td>JCce2920 </td><td>131239120594</td><td>68</td><td>2019-04-16</td><td>149.90</td><td> 29.50</td><td>2017-10-21 13:01:00</td><td>2017-10-22 20:38:00+00:00</td><td>  977.08</td><td>  1.80</td><td> 541</td></tr>\n",
       "\t<tr><td>JCdc24fa </td><td>131237635539</td><td>83</td><td>2019-01-01</td><td>139.70</td><td> 33.79</td><td>2017-07-25 06:11:00</td><td>2017-07-26 19:29:00+00:00</td><td>  980.61</td><td>  5.99</td><td> 524</td></tr>\n",
       "\t<tr><td>JCe0ff8a </td><td>131209695675</td><td>25</td><td>2020-03-10</td><td>162.56</td><td> 32.66</td><td>2016-11-27 05:33:00</td><td>2016-11-29 18:43:00+00:00</td><td>  984.13</td><td>  4.76</td><td>1197</td></tr>\n",
       "\t<tr><td>JCcc2b6f </td><td>131092421099</td><td>44</td><td>2019-01-01</td><td>147.32</td><td> 26.58</td><td>2015-06-06 04:59:00</td><td>2015-06-06 04:52:00+00:00</td><td>  987.66</td><td>  1.42</td><td>1305</td></tr>\n",
       "\t<tr><td>JCd0500f </td><td>131186131047</td><td>66</td><td>2020-03-31</td><td>165.10</td><td>123.20</td><td>2016-05-22 07:10:00</td><td>2016-05-22 07:43:00+00:00</td><td>  987.66</td><td> 95.20</td><td>1409</td></tr>\n",
       "\t<tr><td>JCe0ff8a </td><td>131209695675</td><td>25</td><td>2020-03-10</td><td>162.56</td><td> 32.66</td><td>2016-11-27 05:33:00</td><td>2016-12-01 17:47:00+00:00</td><td>  987.66</td><td>  4.66</td><td>1195</td></tr>\n",
       "\t<tr><td>JCcd88f7 </td><td>131225645539</td><td>30</td><td>2020-03-31</td><td>149.86</td><td> 26.76</td><td>2017-03-21 02:40:00</td><td>2017-03-20 23:48:00+00:00</td><td>  989.92</td><td>  1.30</td><td>1107</td></tr>\n",
       "\t<tr><td>JCcd88f7 </td><td>131225645539</td><td>30</td><td>2020-03-31</td><td>149.86</td><td> 26.76</td><td>2017-03-21 02:40:00</td><td>2017-03-21 10:00:00+00:00</td><td>  989.92</td><td>  1.30</td><td>1106</td></tr>\n",
       "\t<tr><td>JCcd88f7 </td><td>131277422939</td><td>33</td><td>2020-03-31</td><td>149.86</td><td> 26.76</td><td>2019-09-15 15:56:00</td><td>2019-09-14 23:58:00+00:00</td><td>  992.00</td><td>  1.36</td><td> 199</td></tr>\n",
       "\t<tr><td>JCdc24fa </td><td>131237635539</td><td>83</td><td>2019-01-01</td><td>139.70</td><td> 33.79</td><td>2017-07-25 06:11:00</td><td>2017-07-27 12:11:00+00:00</td><td>  994.72</td><td>  5.59</td><td> 523</td></tr>\n",
       "\t<tr><td>JCe0ff8a </td><td>131206161990</td><td>25</td><td>2020-03-10</td><td>162.56</td><td> 32.66</td><td>2016-10-29 11:56:00</td><td>2016-10-31 16:15:00+00:00</td><td>  998.24</td><td>  4.36</td><td>1226</td></tr>\n",
       "\t<tr><td>JCce4fbd </td><td>131179763273</td><td>51</td><td>2019-01-01</td><td>185.42</td><td>158.76</td><td>2016-02-04 10:46:00</td><td>2016-02-08 16:54:00+00:00</td><td> 8000.05</td><td> 68.04</td><td>1058</td></tr>\n",
       "\t<tr><td>JCd28213 </td><td>131236672868</td><td>53</td><td>2020-03-31</td><td>195.58</td><td>174.18</td><td>2017-07-01 08:00:00</td><td>2017-07-01 15:00:00+00:00</td><td> 8014.16</td><td> 53.02</td><td>1004</td></tr>\n",
       "\t<tr><td>JCe40362 </td><td>131272125723</td><td>34</td><td>2020-03-31</td><td>187.96</td><td>224.71</td><td>2019-07-16 02:47:00</td><td>2019-07-16 03:49:00+00:00</td><td> 8014.16</td><td>  2.49</td><td> 259</td></tr>\n",
       "\t<tr><td>JCce4fbd </td><td>131179763273</td><td>51</td><td>2019-01-01</td><td>185.42</td><td>158.76</td><td>2016-02-04 10:46:00</td><td>2016-02-07 17:04:00+00:00</td><td> 8017.69</td><td> 68.54</td><td>1059</td></tr>\n",
       "\t<tr><td>JCdcc1fd </td><td>131231087658</td><td>70</td><td>2019-01-01</td><td>168.91</td><td>245.00</td><td>2017-06-16 05:38:00</td><td>2017-06-20 19:24:00+00:00</td><td> 8030.40</td><td> 17.34</td><td> 560</td></tr>\n",
       "\t<tr><td>JCce4fbd </td><td>131179763273</td><td>51</td><td>2019-01-01</td><td>185.42</td><td>158.76</td><td>2016-02-04 10:46:00</td><td>2016-02-05 03:19:00+00:00</td><td> 8032.00</td><td> 68.95</td><td>1061</td></tr>\n",
       "\t<tr><td>JCda2a71 </td><td>131263398985</td><td>49</td><td>2020-03-31</td><td>177.80</td><td>232.69</td><td>2019-03-13 09:51:00</td><td>2019-03-14 02:45:00+00:00</td><td> 8042.38</td><td>  4.69</td><td> 383</td></tr>\n",
       "\t<tr><td>JCe40362 </td><td>131272125723</td><td>34</td><td>2020-03-31</td><td>187.96</td><td>224.71</td><td>2019-07-16 02:47:00</td><td>2019-07-16 00:57:00+00:00</td><td> 8042.38</td><td>  3.29</td><td> 259</td></tr>\n",
       "\t<tr><td>JCd99e71 </td><td>131214625562</td><td>49</td><td>2019-11-16</td><td>193.00</td><td>220.80</td><td>2017-01-25 05:52:00</td><td>2017-01-26 16:11:00+00:00</td><td> 8056.49</td><td>  7.60</td><td>1024</td></tr>\n",
       "\t<tr><td>JCda2a71 </td><td>131263398985</td><td>49</td><td>2020-03-31</td><td>177.80</td><td>232.69</td><td>2019-03-13 09:51:00</td><td>2019-03-13 09:55:00+00:00</td><td> 8064.00</td><td>  4.08</td><td> 384</td></tr>\n",
       "\t<tr><td>JCce4fbd </td><td>131179763273</td><td>51</td><td>2019-01-01</td><td>185.42</td><td>158.76</td><td>2016-02-04 10:46:00</td><td>2016-02-06 17:24:00+00:00</td><td> 8067.07</td><td> 69.94</td><td>1060</td></tr>\n",
       "\t<tr><td>JCda2a71 </td><td>131263398985</td><td>49</td><td>2020-03-31</td><td>177.80</td><td>232.69</td><td>2019-03-13 09:51:00</td><td>2019-03-14 19:03:00+00:00</td><td> 8074.13</td><td>  3.79</td><td> 383</td></tr>\n",
       "\t<tr><td>JCe61cfe </td><td>131281143011</td><td>30</td><td>2020-03-13</td><td>167.60</td><td>188.00</td><td>2020-01-09 13:56:00</td><td>2020-01-09 12:23:00+00:00</td><td> 8077.65</td><td> 41.00</td><td>  64</td></tr>\n",
       "\t<tr><td>JCd3ad58 </td><td>131211637127</td><td>41</td><td>2019-01-01</td><td>177.80</td><td>198.50</td><td>2017-01-23 23:37:00</td><td>2017-01-24 01:31:00+00:00</td><td> 8091.20</td><td> 30.89</td><td> 707</td></tr>\n",
       "\t<tr><td>JCcc9cf2 </td><td>131247943088</td><td>40</td><td>2020-03-31</td><td>182.88</td><td>207.34</td><td>2018-02-17 06:25:00</td><td>2018-02-22 16:58:00+00:00</td><td> 8109.40</td><td> 22.56</td><td> 768</td></tr>\n",
       "\t<tr><td>JCd3ad58 </td><td>131211637127</td><td>41</td><td>2019-01-01</td><td>177.80</td><td>198.50</td><td>2017-01-23 23:37:00</td><td>2017-01-24 01:01:00+00:00</td><td> 8144.00</td><td> 32.38</td><td> 707</td></tr>\n",
       "\t<tr><td>JCdcc1fd </td><td>131231087658</td><td>70</td><td>2019-01-01</td><td>168.91</td><td>245.00</td><td>2017-06-16 05:38:00</td><td>2017-06-16 01:01:00+00:00</td><td> 8148.20</td><td> 14.00</td><td> 564</td></tr>\n",
       "\t<tr><td>JCdcc1fd </td><td>131231087658</td><td>70</td><td>2019-01-01</td><td>168.91</td><td>245.00</td><td>2017-06-16 05:38:00</td><td>2017-06-16 23:14:00+00:00</td><td> 8148.20</td><td> 14.00</td><td> 564</td></tr>\n",
       "\t<tr><td>JCdcc1fd </td><td>131210841235</td><td>70</td><td>2019-01-01</td><td>168.91</td><td>245.00</td><td>2017-01-06 02:54:00</td><td>2017-01-09 23:22:00+00:00</td><td> 8192.00</td><td> 12.76</td><td> 722</td></tr>\n",
       "\t<tr><td>JCcc9cf2 </td><td>131247943088</td><td>40</td><td>2020-03-31</td><td>182.88</td><td>207.34</td><td>2018-02-17 06:25:00</td><td>2018-02-21 13:59:00+00:00</td><td> 8194.06</td><td> 24.96</td><td> 769</td></tr>\n",
       "\t<tr><td>JCe67df3 </td><td>131106090339</td><td>37</td><td>2019-01-01</td><td>170.00</td><td>210.01</td><td>2015-09-08 05:20:00</td><td>2015-12-12 06:46:00+00:00</td><td> 8218.75</td><td> 22.99</td><td>1116</td></tr>\n",
       "\t<tr><td>JCce4fbd </td><td>131179763273</td><td>51</td><td>2019-01-01</td><td>185.42</td><td>158.76</td><td>2016-02-04 10:46:00</td><td>2016-02-04 20:24:00+00:00</td><td> 8220.80</td><td> 74.30</td><td>1062</td></tr>\n",
       "\t<tr><td>JCe36b60 </td><td>131279779250</td><td>69</td><td>2020-03-31</td><td>175.26</td><td>199.13</td><td>2019-12-20 07:01:00</td><td>2019-12-22 12:11:00+00:00</td><td> 8224.00</td><td> 34.02</td><td> 100</td></tr>\n",
       "\t<tr><td>JCe36b60 </td><td>131279779250</td><td>69</td><td>2020-03-31</td><td>175.26</td><td>199.13</td><td>2019-12-20 07:01:00</td><td>2019-12-23 13:35:00+00:00</td><td> 8224.00</td><td> 34.02</td><td>  99</td></tr>\n",
       "\t<tr><td>JCd28213 </td><td>131224005264</td><td>52</td><td>2020-03-31</td><td>195.58</td><td>174.18</td><td>2017-03-08 10:19:00</td><td>2017-03-10 15:46:00+00:00</td><td> 8246.97</td><td> 59.62</td><td>1117</td></tr>\n",
       "\t<tr><td>JCd28213 </td><td>131224005264</td><td>52</td><td>2020-03-31</td><td>195.58</td><td>174.18</td><td>2017-03-08 10:19:00</td><td>2017-03-08 18:22:00+00:00</td><td> 8249.44</td><td> 59.69</td><td>1119</td></tr>\n",
       "\t<tr><td>JCcc9cf2 </td><td>131247943088</td><td>40</td><td>2020-03-31</td><td>182.88</td><td>207.34</td><td>2018-02-17 06:25:00</td><td>2018-02-20 18:20:00+00:00</td><td> 8278.71</td><td> 27.36</td><td> 770</td></tr>\n",
       "\t<tr><td>JC2a02d79</td><td>131267473325</td><td>37</td><td>2020-03-31</td><td>175.26</td><td>211.00</td><td>2019-06-05 11:41:00</td><td>2019-06-06 12:45:00+00:00</td><td> 8317.51</td><td> 24.80</td><td> 299</td></tr>\n",
       "\t<tr><td>JCe02733 </td><td>131257060312</td><td>35</td><td>2020-03-31</td><td>180.34</td><td>209.11</td><td>2018-10-11 10:09:00</td><td>2018-10-11 07:44:00+00:00</td><td> 8320.00</td><td> 26.76</td><td> 537</td></tr>\n",
       "\t<tr><td>JCe67df3 </td><td>131106090339</td><td>37</td><td>2019-01-01</td><td>170.00</td><td>210.01</td><td>2015-09-08 05:20:00</td><td>2015-10-06 08:00:00+00:00</td><td> 8320.00</td><td> 25.86</td><td>1183</td></tr>\n",
       "\t<tr><td>JCe01e50 </td><td>131188059708</td><td>86</td><td>2020-03-31</td><td>177.80</td><td> 97.98</td><td>2016-05-25 02:49:00</td><td>2016-05-25 06:45:00+00:00</td><td> 8324.57</td><td>138.02</td><td>1406</td></tr>\n",
       "\t<tr><td>JC2a02d79</td><td>131267473325</td><td>37</td><td>2020-03-31</td><td>175.26</td><td>211.00</td><td>2019-06-05 11:41:00</td><td>2019-06-06 00:32:00+00:00</td><td> 8359.84</td><td> 26.00</td><td> 299</td></tr>\n",
       "\t<tr><td>JCe67df3 </td><td>131106090339</td><td>37</td><td>2019-01-01</td><td>170.00</td><td>210.01</td><td>2015-09-08 05:20:00</td><td>2015-11-15 22:30:00+00:00</td><td> 8368.00</td><td> 27.22</td><td>1143</td></tr>\n",
       "\t<tr><td>JCe36b60 </td><td>131266229537</td><td>69</td><td>2020-03-31</td><td>175.26</td><td>199.13</td><td>2019-05-02 20:39:00</td><td>2019-05-03 02:00:00+00:00</td><td> 8395.12</td><td> 38.87</td><td> 333</td></tr>\n",
       "\t<tr><td>JCd4c260 </td><td>131281664741</td><td>37</td><td>2020-02-27</td><td>198.12</td><td>243.00</td><td>2019-12-17 02:52:00</td><td>2019-12-16 23:16:00+00:00</td><td> 8400.00</td><td>  4.86</td><td>  73</td></tr>\n",
       "\t<tr><td>JCcc9cf2 </td><td>131247943088</td><td>40</td><td>2020-03-31</td><td>182.88</td><td>207.34</td><td>2018-02-17 06:25:00</td><td>2018-02-19 13:56:00+00:00</td><td> 8426.86</td><td> 31.56</td><td> 771</td></tr>\n",
       "\t<tr><td>JCcc9cf2 </td><td>131247943088</td><td>40</td><td>2020-03-31</td><td>182.88</td><td>207.34</td><td>2018-02-17 06:25:00</td><td>2018-02-19 18:06:00+00:00</td><td> 8430.39</td><td> 31.66</td><td> 771</td></tr>\n",
       "\t<tr><td>JCe02733 </td><td>131252366789</td><td>35</td><td>2020-03-31</td><td>180.34</td><td>209.11</td><td>2018-07-15 22:53:00</td><td>2018-07-15 18:11:00+00:00</td><td> 8476.25</td><td> 31.19</td><td> 625</td></tr>\n",
       "\t<tr><td>JCcb9b40 </td><td>131172519842</td><td>39</td><td>2019-01-01</td><td>182.88</td><td>260.50</td><td>2016-01-07 10:19:00</td><td>2016-01-08 16:27:00+00:00</td><td> 8486.83</td><td> 19.90</td><td>1089</td></tr>\n",
       "\t<tr><td>JCd28213 </td><td>131216032923</td><td>52</td><td>2020-03-31</td><td>195.58</td><td>174.18</td><td>2017-01-09 04:42:00</td><td>2017-01-13 19:21:00+00:00</td><td> 8500.94</td><td> 66.82</td><td>1173</td></tr>\n",
       "\t<tr><td>JCe02733 </td><td>131252366789</td><td>35</td><td>2020-03-31</td><td>180.34</td><td>209.11</td><td>2018-07-15 22:53:00</td><td>2018-07-17 17:30:00+00:00</td><td> 8507.99</td><td> 32.09</td><td> 623</td></tr>\n",
       "\t<tr><td>JCe36b60 </td><td>131279779250</td><td>69</td><td>2020-03-31</td><td>175.26</td><td>199.13</td><td>2019-12-20 07:01:00</td><td>2019-12-21 14:00:00+00:00</td><td> 8512.00</td><td> 42.19</td><td> 101</td></tr>\n",
       "\t<tr><td>JCe188ce </td><td>131179394929</td><td>40</td><td>2019-01-01</td><td>187.96</td><td>219.40</td><td>2016-03-17 07:04:00</td><td>2016-03-17 10:51:00+00:00</td><td> 8532.68</td><td> 22.50</td><td>1020</td></tr>\n",
       "\t<tr><td>JCe02733 </td><td>131268993393</td><td>36</td><td>2020-03-31</td><td>180.34</td><td>209.11</td><td>2019-07-06 09:43:00</td><td>2019-07-06 06:52:00+00:00</td><td> 8536.21</td><td> 32.89</td><td> 269</td></tr>\n",
       "\t<tr><td>JCe67df3 </td><td>131106090339</td><td>37</td><td>2019-01-01</td><td>170.00</td><td>210.01</td><td>2015-09-08 05:20:00</td><td>2015-10-04 15:18:00+00:00</td><td> 8560.00</td><td> 32.67</td><td>1185</td></tr>\n",
       "\t<tr><td>JCd4c260 </td><td>131281664741</td><td>37</td><td>2020-02-27</td><td>198.12</td><td>243.00</td><td>2019-12-17 02:52:00</td><td>2019-12-18 14:15:00+00:00</td><td> 8571.48</td><td>  0.00</td><td>  71</td></tr>\n",
       "\t<tr><td>JCd4c260 </td><td>131281664741</td><td>37</td><td>2020-02-27</td><td>198.12</td><td>243.00</td><td>2019-12-17 02:52:00</td><td>2019-12-19 14:31:00+00:00</td><td> 8571.48</td><td>  0.00</td><td>  70</td></tr>\n",
       "\t<tr><td>JCcc9cf2 </td><td>131247943088</td><td>40</td><td>2020-03-31</td><td>182.88</td><td>207.34</td><td>2018-02-17 06:25:00</td><td>2018-02-18 12:58:00+00:00</td><td> 8578.54</td><td> 35.86</td><td> 772</td></tr>\n",
       "\t<tr><td>JCd4c260 </td><td>131281664741</td><td>37</td><td>2020-02-27</td><td>198.12</td><td>243.00</td><td>2019-12-17 02:52:00</td><td>2019-12-17 06:40:00+00:00</td><td> 8606.76</td><td>  1.00</td><td>  72</td></tr>\n",
       "\t<tr><td>JCd4c260 </td><td>131281664741</td><td>37</td><td>2020-02-27</td><td>198.12</td><td>243.00</td><td>2019-12-17 02:52:00</td><td>2019-12-17 14:00:00+00:00</td><td> 8606.76</td><td>  1.00</td><td>  72</td></tr>\n",
       "\t<tr><td>JC2a0784f</td><td>131242882845</td><td>36</td><td>2020-03-05</td><td>167.64</td><td>232.10</td><td>2017-12-12 14:17:00</td><td>2017-12-12 06:37:00+00:00</td><td> 8640.00</td><td> 12.84</td><td> 814</td></tr>\n",
       "\t<tr><td>JCcc9cf2 </td><td>131247943088</td><td>40</td><td>2020-03-31</td><td>182.88</td><td>207.34</td><td>2018-02-17 06:25:00</td><td>2018-02-18 01:00:00+00:00</td><td> 8687.89</td><td> 38.96</td><td> 772</td></tr>\n",
       "\t<tr><td>JCe188ce </td><td>131179394929</td><td>40</td><td>2019-01-01</td><td>187.96</td><td>219.40</td><td>2016-03-17 07:04:00</td><td>2016-03-17 05:24:00+00:00</td><td> 8712.58</td><td> 27.60</td><td>1020</td></tr>\n",
       "\t<tr><td>JCcc9cf2 </td><td>131247943088</td><td>40</td><td>2020-03-31</td><td>182.88</td><td>207.34</td><td>2018-02-17 06:25:00</td><td>2018-02-17 06:30:00+00:00</td><td> 8786.65</td><td> 41.76</td><td> 773</td></tr>\n",
       "\t<tr><td>JCd7cd74 </td><td>131075305158</td><td>40</td><td>2020-03-31</td><td>185.42</td><td>190.51</td><td>2015-02-11 13:52:00</td><td>2015-02-11 20:56:00+00:00</td><td> 8799.99</td><td> 58.97</td><td>1875</td></tr>\n",
       "\t<tr><td>JCd7cd74 </td><td>131075305158</td><td>40</td><td>2020-03-31</td><td>185.42</td><td>190.51</td><td>2015-02-11 13:52:00</td><td>2015-02-11 10:30:00+00:00</td><td> 8800.00</td><td> 58.97</td><td>1875</td></tr>\n",
       "\t<tr><td>JCe36b60 </td><td>131279779250</td><td>69</td><td>2020-03-31</td><td>175.26</td><td>199.13</td><td>2019-12-20 07:01:00</td><td>2019-12-20 08:35:00+00:00</td><td> 8832.00</td><td> 51.26</td><td> 102</td></tr>\n",
       "\t<tr><td>JCe36b60 </td><td>131279779250</td><td>69</td><td>2020-03-31</td><td>175.26</td><td>199.13</td><td>2019-12-20 07:01:00</td><td>2019-12-24 12:16:00+00:00</td><td> 8880.00</td><td> 52.62</td><td>  98</td></tr>\n",
       "\t<tr><td>JCe67df3 </td><td>131106090339</td><td>37</td><td>2019-01-01</td><td>170.00</td><td>210.01</td><td>2015-09-08 05:20:00</td><td>2015-10-23 20:30:00+00:00</td><td> 8944.00</td><td> 43.55</td><td>1166</td></tr>\n",
       "\t<tr><td>JCe67df3 </td><td>131106090339</td><td>37</td><td>2019-01-01</td><td>170.00</td><td>210.01</td><td>2015-09-08 05:20:00</td><td>2015-09-16 11:00:00+00:00</td><td> 8960.00</td><td> 44.01</td><td>1203</td></tr>\n",
       "\t<tr><td>JCcb9b40 </td><td>131172519842</td><td>39</td><td>2019-01-01</td><td>182.88</td><td>260.50</td><td>2016-01-07 10:19:00</td><td>2016-01-09 16:29:00+00:00</td><td> 8977.13</td><td>  6.00</td><td>1088</td></tr>\n",
       "\t<tr><td>JCe67df3 </td><td>131106090339</td><td>37</td><td>2019-01-01</td><td>170.00</td><td>210.01</td><td>2015-09-08 05:20:00</td><td>2015-09-30 23:00:00+00:00</td><td> 9119.64</td><td> 48.53</td><td>1189</td></tr>\n",
       "\t<tr><td>JCdcc1fd </td><td>131239784374</td><td>70</td><td>2019-01-01</td><td>168.91</td><td>245.00</td><td>2017-11-01 03:41:00</td><td>2017-11-05 19:04:00+00:00</td><td> 9216.00</td><td> 16.27</td><td> 422</td></tr>\n",
       "\t<tr><td>JCcb9b40 </td><td>131172519842</td><td>39</td><td>2019-01-01</td><td>182.88</td><td>260.50</td><td>2016-01-07 10:19:00</td><td>2016-01-08 08:13:00+00:00</td><td> 9241.68</td><td>  1.50</td><td>1089</td></tr>\n",
       "\t<tr><td>JCe67df3 </td><td>131106090339</td><td>37</td><td>2019-01-01</td><td>170.00</td><td>210.01</td><td>2015-09-08 05:20:00</td><td>2015-12-17 16:34:00+00:00</td><td> 9248.00</td><td> 52.17</td><td>1111</td></tr>\n",
       "\t<tr><td>JCdcc1fd </td><td>131210841235</td><td>70</td><td>2019-01-01</td><td>168.91</td><td>245.00</td><td>2017-01-06 02:54:00</td><td>2017-01-06 01:00:00+00:00</td><td> 9276.96</td><td> 18.00</td><td> 725</td></tr>\n",
       "\t<tr><td>JCe67df3 </td><td>131106090339</td><td>37</td><td>2019-01-01</td><td>170.00</td><td>210.01</td><td>2015-09-08 05:20:00</td><td>2015-12-21 19:00:00+00:00</td><td> 9276.96</td><td> 52.99</td><td>1107</td></tr>\n",
       "\t<tr><td>JCd79c04 </td><td>131284275359</td><td>29</td><td>2020-03-31</td><td>175.26</td><td>273.06</td><td>2020-03-11 09:42:00</td><td>2020-03-12 03:10:00+00:00</td><td> 9280.00</td><td>  9.97</td><td>  19</td></tr>\n",
       "\t<tr><td>JCe67df3 </td><td>131072939462</td><td>36</td><td>2019-01-01</td><td>170.00</td><td>210.01</td><td>2015-03-13 10:19:00</td><td>2015-03-21 18:00:00+00:00</td><td> 9344.00</td><td> 54.89</td><td>1382</td></tr>\n",
       "\t<tr><td>JCe67df3 </td><td>131072939462</td><td>36</td><td>2019-01-01</td><td>170.00</td><td>210.01</td><td>2015-03-13 10:19:00</td><td>2015-03-26 00:00:00+00:00</td><td> 9347.50</td><td> 54.99</td><td>1377</td></tr>\n",
       "\t<tr><td>JCe67df3 </td><td>131072939462</td><td>36</td><td>2019-01-01</td><td>170.00</td><td>210.01</td><td>2015-03-13 10:19:00</td><td>2015-03-13 03:03:00+00:00</td><td> 9382.78</td><td> 55.99</td><td>1390</td></tr>\n",
       "\t<tr><td>JCe67df3 </td><td>131072939462</td><td>36</td><td>2019-01-01</td><td>170.00</td><td>210.01</td><td>2015-03-13 10:19:00</td><td>2015-03-14 23:37:00+00:00</td><td> 9418.05</td><td> 56.99</td><td>1389</td></tr>\n",
       "\t<tr><td>JCe67df3 </td><td>131072939462</td><td>36</td><td>2019-01-01</td><td>170.00</td><td>210.01</td><td>2015-03-13 10:19:00</td><td>2015-03-14 12:00:00+00:00</td><td> 9440.00</td><td> 57.61</td><td>1389</td></tr>\n",
       "\t<tr><td>JCdcc1fd </td><td>131239784374</td><td>70</td><td>2019-01-01</td><td>168.91</td><td>245.00</td><td>2017-11-01 03:41:00</td><td>2017-11-05 08:00:00+00:00</td><td> 9584.00</td><td> 26.71</td><td> 422</td></tr>\n",
       "\t<tr><td>JCe36b60 </td><td>131266229537</td><td>69</td><td>2020-03-31</td><td>175.26</td><td>199.13</td><td>2019-05-02 20:39:00</td><td>2019-05-02 19:12:00+00:00</td><td> 9600.00</td><td> 73.03</td><td> 334</td></tr>\n",
       "\t<tr><td>JCd79c04 </td><td>131284275359</td><td>29</td><td>2020-03-31</td><td>175.26</td><td>273.06</td><td>2020-03-11 09:42:00</td><td>2020-03-18 18:50:00+00:00</td><td> 9636.75</td><td>  0.14</td><td>  13</td></tr>\n",
       "\t<tr><td>JCe67df3 </td><td>131106090339</td><td>37</td><td>2019-01-01</td><td>170.00</td><td>210.01</td><td>2015-09-08 05:20:00</td><td>2015-09-08 07:00:00+00:00</td><td> 9700.24</td><td> 64.99</td><td>1211</td></tr>\n",
       "\t<tr><td>JCe36b60 </td><td>131279779250</td><td>69</td><td>2020-03-31</td><td>175.26</td><td>199.13</td><td>2019-12-20 07:01:00</td><td>2019-12-25 15:00:00+00:00</td><td> 9770.79</td><td> 77.87</td><td>  97</td></tr>\n",
       "\t<tr><td>JCe67df3 </td><td>131084284228</td><td>37</td><td>2019-01-01</td><td>170.00</td><td>210.01</td><td>2015-05-27 01:49:00</td><td>2015-05-26 20:01:00+00:00</td><td> 9816.64</td><td> 68.29</td><td>1316</td></tr>\n",
       "\t<tr><td>JCe67df3 </td><td>131106090339</td><td>37</td><td>2019-01-01</td><td>170.00</td><td>210.01</td><td>2015-09-08 05:20:00</td><td>2015-11-02 05:00:00+00:00</td><td> 9824.00</td><td> 68.50</td><td>1156</td></tr>\n",
       "\t<tr><td>JCe48b36 </td><td>131255596987</td><td>68</td><td>2019-12-19</td><td>190.50</td><td>117.75</td><td>2018-08-31 02:54:00</td><td>2018-08-31 00:46:00+00:00</td><td> 9920.00</td><td>163.48</td><td> 475</td></tr>\n",
       "\t<tr><td>JCe67df3 </td><td>131106090339</td><td>37</td><td>2019-01-01</td><td>170.00</td><td>210.01</td><td>2015-09-08 05:20:00</td><td>2015-11-05 14:00:00+00:00</td><td> 9920.00</td><td> 71.22</td><td>1153</td></tr>\n",
       "\t<tr><td>JCe67df3 </td><td>131091796152</td><td>37</td><td>2019-01-01</td><td>170.00</td><td>210.01</td><td>2015-07-18 09:23:00</td><td>2015-07-19 18:53:00+00:00</td><td>10192.00</td><td> 78.93</td><td>1262</td></tr>\n",
       "\t<tr><td>JCd473c6 </td><td>131287076413</td><td>31</td><td>2020-03-31</td><td>162.56</td><td>320.69</td><td>2020-03-07 11:46:00</td><td>2020-03-07 09:16:00+00:00</td><td>10224.00</td><td> 30.84</td><td>  24</td></tr>\n",
       "\t<tr><td>JCd473c6 </td><td>131281585175</td><td>31</td><td>2020-03-31</td><td>162.56</td><td>320.69</td><td>2019-12-10 23:52:00</td><td>2019-12-14 14:42:00+00:00</td><td>10272.00</td><td> 29.48</td><td> 108</td></tr>\n",
       "\t<tr><td>JCd473c6 </td><td>131281585175</td><td>31</td><td>2020-03-31</td><td>162.56</td><td>320.69</td><td>2019-12-10 23:52:00</td><td>2019-12-13 12:21:00+00:00</td><td>10432.00</td><td> 24.94</td><td> 109</td></tr>\n",
       "\t<tr><td>JCe8a3e5 </td><td>131251139412</td><td>79</td><td>2019-01-01</td><td>177.80</td><td>131.90</td><td>2018-04-29 04:07:00</td><td>2018-05-07 12:00:00+00:00</td><td>10553.86</td><td>167.30</td><td> 239</td></tr>\n",
       "\t<tr><td>JCe67df3 </td><td>131106090339</td><td>37</td><td>2019-01-01</td><td>170.00</td><td>210.01</td><td>2015-09-08 05:20:00</td><td>2015-09-08 11:00:00+00:00</td><td>10576.00</td><td> 89.82</td><td>1211</td></tr>\n",
       "\t<tr><td>JCe67df3 </td><td>131106090339</td><td>37</td><td>2019-01-01</td><td>170.00</td><td>210.01</td><td>2015-09-08 05:20:00</td><td>2015-09-09 19:00:00+00:00</td><td>10576.01</td><td> 89.82</td><td>1210</td></tr>\n",
       "\t<tr><td>JCd473c6 </td><td>131281585175</td><td>31</td><td>2020-03-31</td><td>162.56</td><td>320.69</td><td>2019-12-10 23:52:00</td><td>2019-12-12 11:30:00+00:00</td><td>10624.00</td><td> 19.50</td><td> 110</td></tr>\n",
       "\t<tr><td>JCd473c6 </td><td>131281585175</td><td>31</td><td>2020-03-31</td><td>162.56</td><td>320.69</td><td>2019-12-10 23:52:00</td><td>2019-12-11 14:39:00+00:00</td><td>10640.00</td><td> 19.05</td><td> 111</td></tr>\n",
       "\t<tr><td>JCe9ddd4 </td><td>131281150620</td><td>36</td><td>2020-03-31</td><td>172.72</td><td>144.50</td><td>2020-01-28 23:48:00</td><td>2020-02-06 17:35:00+00:00</td><td>10994.78</td><td>167.20</td><td>  54</td></tr>\n",
       "\t<tr><td>JCd473c6 </td><td>131281585175</td><td>31</td><td>2020-03-31</td><td>162.56</td><td>320.69</td><td>2019-12-10 23:52:00</td><td>2019-12-10 23:30:00+00:00</td><td>11005.36</td><td>  8.69</td><td> 112</td></tr>\n",
       "\t<tr><td>JCceb47b </td><td>131250176231</td><td>31</td><td>2020-03-31</td><td>187.96</td><td>317.51</td><td>2018-05-17 16:16:00</td><td>2018-05-17 13:14:00+00:00</td><td>11199.37</td><td>  0.01</td><td> 684</td></tr>\n",
       "\t<tr><td>JCceb47b </td><td>131250176231</td><td>31</td><td>2020-03-31</td><td>187.96</td><td>317.51</td><td>2018-05-17 16:16:00</td><td>2018-05-25 15:26:00+00:00</td><td>11200.00</td><td>  0.01</td><td> 676</td></tr>\n",
       "\t<tr><td>JCd473c6 </td><td>131287076413</td><td>31</td><td>2020-03-31</td><td>162.56</td><td>320.69</td><td>2020-03-07 11:46:00</td><td>2020-03-11 12:53:00+00:00</td><td>11312.00</td><td>  0.01</td><td>  20</td></tr>\n",
       "\t<tr><td>JCd473c6 </td><td>131287076413</td><td>31</td><td>2020-03-31</td><td>162.56</td><td>320.69</td><td>2020-03-07 11:46:00</td><td>2020-03-09 20:00:00+00:00</td><td>11392.00</td><td>  2.27</td><td>  22</td></tr>\n",
       "\t<tr><td>JCd473c6 </td><td>131287076413</td><td>31</td><td>2020-03-31</td><td>162.56</td><td>320.69</td><td>2020-03-07 11:46:00</td><td>2020-03-10 11:40:00+00:00</td><td>11396.90</td><td>  2.41</td><td>  21</td></tr>\n",
       "\t<tr><td>JCd262e1 </td><td>131081523555</td><td>63</td><td>2020-02-24</td><td>152.40</td><td>122.70</td><td>2015-03-09 11:02:00</td><td>2015-03-09 11:18:00+00:00</td><td>11587.38</td><td>205.80</td><td>1813</td></tr>\n",
       "\t<tr><td>JCceb47b </td><td>131250176231</td><td>31</td><td>2020-03-31</td><td>187.96</td><td>317.51</td><td>2018-05-17 16:16:00</td><td>2018-05-18 06:00:00+00:00</td><td>12024.77</td><td> 23.39</td><td> 683</td></tr>\n",
       "\t<tr><td>JCd473c6 </td><td>131287076413</td><td>31</td><td>2020-03-31</td><td>162.56</td><td>320.69</td><td>2020-03-07 11:46:00</td><td>2020-03-09 12:00:00+00:00</td><td>12381.03</td><td> 30.31</td><td>  22</td></tr>\n",
       "\t<tr><td>JCe08adf </td><td>131238068042</td><td>46</td><td>2019-01-01</td><td>157.48</td><td> 64.20</td><td>2017-09-28 23:02:00</td><td>2017-10-19 21:00:00+00:00</td><td>22046.00</td><td>560.80</td><td> 439</td></tr>\n",
       "</tbody>\n",
       "</table>\n"
      ],
      "text/latex": [
       "A grouped\\_df: 172 × 11\n",
       "\\begin{tabular}{lllllllllll}\n",
       " anon\\_id & pat\\_enc\\_csn\\_id\\_coded & age & recent\\_date & recent\\_height\\_cm & recent\\_weight\\_kg & admit\\_time & recorded\\_time & Weight & Wfsdmdif & dmfsdif\\\\\n",
       " <chr> & <dbl> & <int> & <chr> & <dbl> & <dbl> & <chr> & <chr> & <dbl> & <dbl> & <dbl>\\\\\n",
       "\\hline\n",
       "\t JCd8c850  & 131083429185 & 77 & 2019-01-01 & 162.56 &  61.23 & 2015-03-29 20:11:00 & 2015-03-29 23:28:00+00:00 &     2.33 &  61.16 & 1374\\\\\n",
       "\t JCdb8af3  & 131179908315 & 58 & 2019-01-01 & 170.20 &   0.10 & 2016-02-02 21:38:00 & 2016-02-08 15:28:00+00:00 &     3.45 &   0.00 & 1058\\\\\n",
       "\t JCd4d996  & 131276336621 & 72 & 2019-11-29 & 175.26 &  97.60 & 2019-09-21 04:25:00 & 2019-09-21 12:17:00+00:00 &    17.64 &  97.10 &   69\\\\\n",
       "\t JCcfa790  & 131279920409 & 87 & 2020-01-15 & 182.91 &  82.10 & 2019-11-11 23:44:00 & 2019-11-12 01:30:00+00:00 &    28.23 &  81.30 &   64\\\\\n",
       "\t JCdd701d  & 131216269634 & 58 & 2019-01-01 & 160.02 &  47.94 & 2017-02-21 20:25:00 & 2017-02-23 04:12:00+00:00 &   172.80 &  43.04 &  677\\\\\n",
       "\t JCccaf6f  & 131148206526 & 76 & 2019-01-01 & 160.02 &  51.70 & 2015-12-28 05:49:00 & 2015-12-28 06:45:00+00:00 &   192.00 &  46.26 & 1100\\\\\n",
       "\t JCe7f41e  & 131278541034 & 64 & 2020-02-27 & 165.00 &  62.10 & 2019-10-12 23:06:00 & 2019-10-18 20:14:00+00:00 &   204.59 &  56.30 &  132\\\\\n",
       "\t JCe3e7e8  & 131197934631 & 61 & 2019-01-01 & 182.90 &  70.00 & 2016-08-16 22:25:00 & 2016-08-16 22:07:00+00:00 &   208.00 &  64.10 &  868\\\\\n",
       "\t JC2a01205 & 131261419878 & 24 & 2020-03-31 &     NA &  68.00 & 2019-01-18 13:56:00 & 2019-01-18 07:57:00+00:00 &   215.17 &  61.90 &  438\\\\\n",
       "\t JCdc1ca1  & 131149917867 & 61 & 2020-03-31 & 154.94 &  53.57 & 2015-12-23 06:03:00 & 2015-12-23 09:00:00+00:00 &   222.22 &  47.27 & 1560\\\\\n",
       "\t JCdcb394  & 131235411859 & 85 & 2019-09-27 & 157.48 &  65.50 & 2017-07-02 07:02:00 & 2017-07-07 16:30:00+00:00 &   236.33 &  58.80 &  812\\\\\n",
       "\t JCd659db  & 131184404515 & 21 & 2020-03-29 & 157.48 &  52.30 & 2016-05-06 23:38:00 & 2016-05-09 16:00:00+00:00 &   261.02 &  44.90 & 1420\\\\\n",
       "\t JCe6f88a  & 131097590735 & 22 & 2019-09-06 & 187.96 & 115.67 & 2015-08-07 13:29:00 & 2015-08-07 13:30:00+00:00 &   275.13 & 107.87 & 1491\\\\\n",
       "\t JCd16b07  & 131251805170 & 82 & 2019-01-01 &     NA &  80.60 & 2018-06-09 06:07:00 & 2018-06-09 03:35:00+00:00 &   288.00 &  72.44 &  206\\\\\n",
       "\t JCd490e5  & 131237149027 & 70 & 2020-03-31 & 170.20 &  85.70 & 2017-07-13 01:02:00 & 2017-07-14 22:03:00+00:00 &   303.35 &  77.10 &  991\\\\\n",
       "\t JCebf4d7  & 131251550575 & 61 & 2019-04-26 & 165.10 & 127.27 & 2018-06-18 10:28:00 & 2018-06-18 05:42:00+00:00 &   320.00 & 118.20 &  312\\\\\n",
       "\t JCd6a740  & 131257264582 & 25 & 2019-04-17 & 153.00 &  51.20 & 2018-10-06 19:47:00 & 2018-10-15 13:12:00+00:00 &   324.52 &  42.00 &  184\\\\\n",
       "\t JCcf6ce9  & 131117233036 & 47 & 2019-01-01 & 172.72 & 129.10 & 2015-09-29 10:36:00 & 2015-09-30 05:00:00+00:00 &   432.00 & 116.85 & 1189\\\\\n",
       "\t JCe06f75  & 131192154282 & 50 & 2020-03-31 & 157.48 &  96.16 & 2016-06-30 04:22:00 & 2016-06-30 05:10:00+00:00 &   617.60 &  78.65 & 1370\\\\\n",
       "\t JCd96fd9  & 131187249982 & 47 & 2020-02-28 & 175.26 & 100.70 & 2016-05-07 05:10:00 & 2016-05-08 20:47:00+00:00 &   640.00 &  82.56 & 1391\\\\\n",
       "\t JCe1550f  & 131213682201 & 68 & 2019-01-01 & 167.64 &  53.20 & 2016-12-16 07:22:00 & 2016-12-16 16:14:00+00:00 &   701.94 &  33.30 &  746\\\\\n",
       "\t JCdb575c  & 131089502022 & 85 & 2019-01-01 & 162.56 &  50.53 & 2015-06-11 09:28:00 & 2015-06-11 09:22:00+00:00 &   710.40 &  30.39 & 1300\\\\\n",
       "\t JCcfecc2  & 131254389083 & 34 & 2020-03-10 & 142.20 &  20.50 & 2018-07-10 03:29:00 & 2018-07-09 21:24:00+00:00 &   720.00 &   0.09 &  610\\\\\n",
       "\t JCcfecc2  & 131271215701 & 35 & 2020-03-10 & 142.20 &  20.50 & 2019-06-16 15:36:00 & 2019-06-16 17:58:00+00:00 &   751.33 &   0.80 &  268\\\\\n",
       "\t JCcbfbc8  & 131256866342 & 77 & 2019-01-01 & 156.50 &  55.60 & 2018-09-03 20:20:00 & 2018-09-06 06:00:00+00:00 &   789.42 &  33.22 &  117\\\\\n",
       "\t JCea3866  & 131216538201 & 32 & 2020-03-31 & 140.00 &  44.75 & 2017-01-19 12:16:00 & 2017-01-19 03:33:00+00:00 &   790.40 &  22.34 & 1167\\\\\n",
       "\t JC2a23e61 & 131268863704 & 67 & 2020-02-24 & 124.50 &  38.56 & 2019-06-17 05:31:00 & 2019-06-18 23:30:00+00:00 &   804.24 &  15.76 &  251\\\\\n",
       "\t JCcbb4b8  & 131216914159 & 46 & 2019-01-01 & 165.10 &  57.90 & 2017-01-17 00:30:00 & 2017-01-17 04:00:00+00:00 &   840.00 &  34.09 &  714\\\\\n",
       "\t JCcba5a7  & 131139556413 & 86 & 2019-01-01 & 152.00 &  27.00 & 2015-10-31 00:41:00 & 2015-10-30 19:27:00+00:00 &   848.01 &   2.96 & 1159\\\\\n",
       "\t JC2a23e61 & 131268863704 & 67 & 2020-02-24 & 124.50 &  38.56 & 2019-06-17 05:31:00 & 2019-06-20 17:03:00+00:00 &   853.62 &  14.36 &  249\\\\\n",
       "\t JCcba5a7  & 131139556413 & 86 & 2019-01-01 & 152.00 &  27.00 & 2015-10-31 00:41:00 & 2015-11-03 15:45:00+00:00 &   856.00 &   2.73 & 1155\\\\\n",
       "\t JCd84277  & 131090908463 & 21 & 2019-11-24 & 160.02 &  43.00 & 2015-05-22 07:01:00 & 2015-05-22 15:21:00+00:00 &   871.26 &  18.30 & 1647\\\\\n",
       "\t JCce2920  & 131240538461 & 68 & 2019-04-16 & 149.90 &  29.50 & 2017-11-27 05:12:00 & 2017-11-27 15:43:00+00:00 &   881.84 &   4.50 &  505\\\\\n",
       "\t JCce2920  & 131240538461 & 68 & 2019-04-16 & 149.90 &  29.50 & 2017-11-27 05:12:00 & 2017-11-27 07:09:00+00:00 &   888.00 &   4.33 &  505\\\\\n",
       "\t JC2a23e61 & 131268863704 & 67 & 2020-02-24 & 124.50 &  38.56 & 2019-06-17 05:31:00 & 2019-06-19 23:02:00+00:00 &   888.89 &  13.36 &  250\\\\\n",
       "\t JCce2920  & 131240538461 & 68 & 2019-04-16 & 149.90 &  29.50 & 2017-11-27 05:12:00 & 2017-11-28 15:13:00+00:00 &   899.48 &   4.00 &  504\\\\\n",
       "\t JCcc2b6f  & 131117955539 & 44 & 2019-01-01 & 147.32 &  26.58 & 2015-08-27 14:42:00 & 2015-08-27 14:49:00+00:00 &   903.00 &   0.98 & 1223\\\\\n",
       "\t JCcba5a7  & 131139556413 & 86 & 2019-01-01 & 152.00 &  27.00 & 2015-10-31 00:41:00 & 2015-10-31 14:54:00+00:00 &   910.40 &   1.19 & 1158\\\\\n",
       "\t JCdab6fa  & 131255981015 & 80 & 2019-01-13 & 149.90 &  57.38 & 2018-09-11 03:14:00 & 2018-09-16 04:00:00+00:00 &   910.41 &  31.57 &  119\\\\\n",
       "\t JCcba5a7  & 131139556413 & 86 & 2019-01-01 & 152.00 &  27.00 & 2015-10-31 00:41:00 & 2015-11-01 17:00:00+00:00 &   917.11 &   1.00 & 1157\\\\\n",
       "\t JCcc2b6f  & 131117955539 & 44 & 2019-01-01 & 147.32 &  26.58 & 2015-08-27 14:42:00 & 2015-08-28 11:25:00+00:00 &   917.11 &   0.58 & 1222\\\\\n",
       "\t JCe2ceb6  & 131281137170 & 36 & 2020-03-05 & 154.94 &  28.21 & 2019-12-11 21:46:00 & 2019-12-12 18:00:00+00:00 &   917.11 &   2.21 &   84\\\\\n",
       "\t JCe2ceb6  & 131281137170 & 36 & 2020-03-05 & 154.94 &  28.21 & 2019-12-11 21:46:00 & 2019-12-11 18:45:00+00:00 &   917.11 &   2.21 &   85\\\\\n",
       "\t JCcc2b6f  & 131117955539 & 44 & 2019-01-01 & 147.32 &  26.58 & 2015-08-27 14:42:00 & 2015-08-28 12:31:00+00:00 &   927.70 &   0.28 & 1222\\\\\n",
       "\t JCe0ff8a  & 131209695675 & 25 & 2020-03-10 & 162.56 &  32.66 & 2016-11-27 05:33:00 & 2016-11-28 16:57:00+00:00 &   929.60 &   6.31 & 1198\\\\\n",
       "\t JCe0ff8a  & 131209695675 & 25 & 2020-03-10 & 162.56 &  32.66 & 2016-11-27 05:33:00 & 2016-11-27 16:40:00+00:00 &   931.20 &   6.26 & 1199\\\\\n",
       "\t JCcc2b6f  & 131166145514 & 45 & 2019-01-01 & 147.32 &  26.58 & 2015-12-07 04:26:00 & 2015-12-07 07:00:00+00:00 &   937.60 &   0.00 & 1121\\\\\n",
       "\t JCe0ff8a  & 131209695675 & 25 & 2020-03-10 & 162.56 &  32.66 & 2016-11-27 05:33:00 & 2016-11-27 01:55:00+00:00 &   952.39 &   5.66 & 1199\\\\\n",
       "\t JCcba5a7  & 131139556413 & 86 & 2019-01-01 & 152.00 &  27.00 & 2015-10-31 00:41:00 & 2015-11-02 18:30:00+00:00 &   953.60 &   0.03 & 1156\\\\\n",
       "\t JCe0ff8a  & 131209695675 & 25 & 2020-03-10 & 162.56 &  32.66 & 2016-11-27 05:33:00 & 2016-11-29 19:00:00+00:00 &   955.91 &   5.56 & 1197\\\\\n",
       "\t JCdc64cd  & 131257236159 & 22 & 2020-03-31 & 152.40 &  28.95 & 2018-09-04 06:52:00 & 2018-09-06 01:13:00+00:00 &   959.44 &   1.75 &  572\\\\\n",
       "\t JCe0ff8a  & 131206161990 & 25 & 2020-03-10 & 162.56 &  32.66 & 2016-10-29 11:56:00 & 2016-10-29 10:13:00+00:00 &   959.44 &   5.46 & 1228\\\\\n",
       "\t JCce2920  & 131239120594 & 68 & 2019-04-16 & 149.90 &  29.50 & 2017-10-21 13:01:00 & 2017-10-21 08:49:00+00:00 &   960.00 &   2.28 &  542\\\\\n",
       "\t JCcc2b6f  & 131117955539 & 44 & 2019-01-01 & 147.32 &  26.58 & 2015-08-27 14:42:00 & 2015-08-27 07:19:00+00:00 &   960.01 &   0.64 & 1223\\\\\n",
       "\t JCce2920  & 131239120594 & 68 & 2019-04-16 & 149.90 &  29.50 & 2017-10-21 13:01:00 & 2017-10-22 14:00:00+00:00 &   960.01 &   2.28 &  541\\\\\n",
       "\t JCe0ff8a  & 131209695675 & 25 & 2020-03-10 & 162.56 &  32.66 & 2016-11-27 05:33:00 & 2016-11-30 17:00:00+00:00 &   966.50 &   5.26 & 1196\\\\\n",
       "\t JCdba730  & 131279798635 & 35 & 2020-03-31 & 157.48 &  31.20 & 2019-11-22 05:03:00 & 2019-12-18 01:23:00+00:00 &   971.52 &   3.66 &  104\\\\\n",
       "\t JCdc64cd  & 131279631642 & 23 & 2020-03-31 & 152.40 &  28.95 & 2019-11-12 23:18:00 & 2019-11-13 17:00:00+00:00 &   973.55 &   1.35 &  139\\\\\n",
       "\t JCdc64cd  & 131279631642 & 23 & 2020-03-31 & 152.40 &  28.95 & 2019-11-12 23:18:00 & 2019-11-12 21:03:00+00:00 &   973.55 &   1.35 &  140\\\\\n",
       "\t JCce2920  & 131239120594 & 68 & 2019-04-16 & 149.90 &  29.50 & 2017-10-21 13:01:00 & 2017-10-22 20:38:00+00:00 &   977.08 &   1.80 &  541\\\\\n",
       "\t JCdc24fa  & 131237635539 & 83 & 2019-01-01 & 139.70 &  33.79 & 2017-07-25 06:11:00 & 2017-07-26 19:29:00+00:00 &   980.61 &   5.99 &  524\\\\\n",
       "\t JCe0ff8a  & 131209695675 & 25 & 2020-03-10 & 162.56 &  32.66 & 2016-11-27 05:33:00 & 2016-11-29 18:43:00+00:00 &   984.13 &   4.76 & 1197\\\\\n",
       "\t JCcc2b6f  & 131092421099 & 44 & 2019-01-01 & 147.32 &  26.58 & 2015-06-06 04:59:00 & 2015-06-06 04:52:00+00:00 &   987.66 &   1.42 & 1305\\\\\n",
       "\t JCd0500f  & 131186131047 & 66 & 2020-03-31 & 165.10 & 123.20 & 2016-05-22 07:10:00 & 2016-05-22 07:43:00+00:00 &   987.66 &  95.20 & 1409\\\\\n",
       "\t JCe0ff8a  & 131209695675 & 25 & 2020-03-10 & 162.56 &  32.66 & 2016-11-27 05:33:00 & 2016-12-01 17:47:00+00:00 &   987.66 &   4.66 & 1195\\\\\n",
       "\t JCcd88f7  & 131225645539 & 30 & 2020-03-31 & 149.86 &  26.76 & 2017-03-21 02:40:00 & 2017-03-20 23:48:00+00:00 &   989.92 &   1.30 & 1107\\\\\n",
       "\t JCcd88f7  & 131225645539 & 30 & 2020-03-31 & 149.86 &  26.76 & 2017-03-21 02:40:00 & 2017-03-21 10:00:00+00:00 &   989.92 &   1.30 & 1106\\\\\n",
       "\t JCcd88f7  & 131277422939 & 33 & 2020-03-31 & 149.86 &  26.76 & 2019-09-15 15:56:00 & 2019-09-14 23:58:00+00:00 &   992.00 &   1.36 &  199\\\\\n",
       "\t JCdc24fa  & 131237635539 & 83 & 2019-01-01 & 139.70 &  33.79 & 2017-07-25 06:11:00 & 2017-07-27 12:11:00+00:00 &   994.72 &   5.59 &  523\\\\\n",
       "\t JCe0ff8a  & 131206161990 & 25 & 2020-03-10 & 162.56 &  32.66 & 2016-10-29 11:56:00 & 2016-10-31 16:15:00+00:00 &   998.24 &   4.36 & 1226\\\\\n",
       "\t JCce4fbd  & 131179763273 & 51 & 2019-01-01 & 185.42 & 158.76 & 2016-02-04 10:46:00 & 2016-02-08 16:54:00+00:00 &  8000.05 &  68.04 & 1058\\\\\n",
       "\t JCd28213  & 131236672868 & 53 & 2020-03-31 & 195.58 & 174.18 & 2017-07-01 08:00:00 & 2017-07-01 15:00:00+00:00 &  8014.16 &  53.02 & 1004\\\\\n",
       "\t JCe40362  & 131272125723 & 34 & 2020-03-31 & 187.96 & 224.71 & 2019-07-16 02:47:00 & 2019-07-16 03:49:00+00:00 &  8014.16 &   2.49 &  259\\\\\n",
       "\t JCce4fbd  & 131179763273 & 51 & 2019-01-01 & 185.42 & 158.76 & 2016-02-04 10:46:00 & 2016-02-07 17:04:00+00:00 &  8017.69 &  68.54 & 1059\\\\\n",
       "\t JCdcc1fd  & 131231087658 & 70 & 2019-01-01 & 168.91 & 245.00 & 2017-06-16 05:38:00 & 2017-06-20 19:24:00+00:00 &  8030.40 &  17.34 &  560\\\\\n",
       "\t JCce4fbd  & 131179763273 & 51 & 2019-01-01 & 185.42 & 158.76 & 2016-02-04 10:46:00 & 2016-02-05 03:19:00+00:00 &  8032.00 &  68.95 & 1061\\\\\n",
       "\t JCda2a71  & 131263398985 & 49 & 2020-03-31 & 177.80 & 232.69 & 2019-03-13 09:51:00 & 2019-03-14 02:45:00+00:00 &  8042.38 &   4.69 &  383\\\\\n",
       "\t JCe40362  & 131272125723 & 34 & 2020-03-31 & 187.96 & 224.71 & 2019-07-16 02:47:00 & 2019-07-16 00:57:00+00:00 &  8042.38 &   3.29 &  259\\\\\n",
       "\t JCd99e71  & 131214625562 & 49 & 2019-11-16 & 193.00 & 220.80 & 2017-01-25 05:52:00 & 2017-01-26 16:11:00+00:00 &  8056.49 &   7.60 & 1024\\\\\n",
       "\t JCda2a71  & 131263398985 & 49 & 2020-03-31 & 177.80 & 232.69 & 2019-03-13 09:51:00 & 2019-03-13 09:55:00+00:00 &  8064.00 &   4.08 &  384\\\\\n",
       "\t JCce4fbd  & 131179763273 & 51 & 2019-01-01 & 185.42 & 158.76 & 2016-02-04 10:46:00 & 2016-02-06 17:24:00+00:00 &  8067.07 &  69.94 & 1060\\\\\n",
       "\t JCda2a71  & 131263398985 & 49 & 2020-03-31 & 177.80 & 232.69 & 2019-03-13 09:51:00 & 2019-03-14 19:03:00+00:00 &  8074.13 &   3.79 &  383\\\\\n",
       "\t JCe61cfe  & 131281143011 & 30 & 2020-03-13 & 167.60 & 188.00 & 2020-01-09 13:56:00 & 2020-01-09 12:23:00+00:00 &  8077.65 &  41.00 &   64\\\\\n",
       "\t JCd3ad58  & 131211637127 & 41 & 2019-01-01 & 177.80 & 198.50 & 2017-01-23 23:37:00 & 2017-01-24 01:31:00+00:00 &  8091.20 &  30.89 &  707\\\\\n",
       "\t JCcc9cf2  & 131247943088 & 40 & 2020-03-31 & 182.88 & 207.34 & 2018-02-17 06:25:00 & 2018-02-22 16:58:00+00:00 &  8109.40 &  22.56 &  768\\\\\n",
       "\t JCd3ad58  & 131211637127 & 41 & 2019-01-01 & 177.80 & 198.50 & 2017-01-23 23:37:00 & 2017-01-24 01:01:00+00:00 &  8144.00 &  32.38 &  707\\\\\n",
       "\t JCdcc1fd  & 131231087658 & 70 & 2019-01-01 & 168.91 & 245.00 & 2017-06-16 05:38:00 & 2017-06-16 01:01:00+00:00 &  8148.20 &  14.00 &  564\\\\\n",
       "\t JCdcc1fd  & 131231087658 & 70 & 2019-01-01 & 168.91 & 245.00 & 2017-06-16 05:38:00 & 2017-06-16 23:14:00+00:00 &  8148.20 &  14.00 &  564\\\\\n",
       "\t JCdcc1fd  & 131210841235 & 70 & 2019-01-01 & 168.91 & 245.00 & 2017-01-06 02:54:00 & 2017-01-09 23:22:00+00:00 &  8192.00 &  12.76 &  722\\\\\n",
       "\t JCcc9cf2  & 131247943088 & 40 & 2020-03-31 & 182.88 & 207.34 & 2018-02-17 06:25:00 & 2018-02-21 13:59:00+00:00 &  8194.06 &  24.96 &  769\\\\\n",
       "\t JCe67df3  & 131106090339 & 37 & 2019-01-01 & 170.00 & 210.01 & 2015-09-08 05:20:00 & 2015-12-12 06:46:00+00:00 &  8218.75 &  22.99 & 1116\\\\\n",
       "\t JCce4fbd  & 131179763273 & 51 & 2019-01-01 & 185.42 & 158.76 & 2016-02-04 10:46:00 & 2016-02-04 20:24:00+00:00 &  8220.80 &  74.30 & 1062\\\\\n",
       "\t JCe36b60  & 131279779250 & 69 & 2020-03-31 & 175.26 & 199.13 & 2019-12-20 07:01:00 & 2019-12-22 12:11:00+00:00 &  8224.00 &  34.02 &  100\\\\\n",
       "\t JCe36b60  & 131279779250 & 69 & 2020-03-31 & 175.26 & 199.13 & 2019-12-20 07:01:00 & 2019-12-23 13:35:00+00:00 &  8224.00 &  34.02 &   99\\\\\n",
       "\t JCd28213  & 131224005264 & 52 & 2020-03-31 & 195.58 & 174.18 & 2017-03-08 10:19:00 & 2017-03-10 15:46:00+00:00 &  8246.97 &  59.62 & 1117\\\\\n",
       "\t JCd28213  & 131224005264 & 52 & 2020-03-31 & 195.58 & 174.18 & 2017-03-08 10:19:00 & 2017-03-08 18:22:00+00:00 &  8249.44 &  59.69 & 1119\\\\\n",
       "\t JCcc9cf2  & 131247943088 & 40 & 2020-03-31 & 182.88 & 207.34 & 2018-02-17 06:25:00 & 2018-02-20 18:20:00+00:00 &  8278.71 &  27.36 &  770\\\\\n",
       "\t JC2a02d79 & 131267473325 & 37 & 2020-03-31 & 175.26 & 211.00 & 2019-06-05 11:41:00 & 2019-06-06 12:45:00+00:00 &  8317.51 &  24.80 &  299\\\\\n",
       "\t JCe02733  & 131257060312 & 35 & 2020-03-31 & 180.34 & 209.11 & 2018-10-11 10:09:00 & 2018-10-11 07:44:00+00:00 &  8320.00 &  26.76 &  537\\\\\n",
       "\t JCe67df3  & 131106090339 & 37 & 2019-01-01 & 170.00 & 210.01 & 2015-09-08 05:20:00 & 2015-10-06 08:00:00+00:00 &  8320.00 &  25.86 & 1183\\\\\n",
       "\t JCe01e50  & 131188059708 & 86 & 2020-03-31 & 177.80 &  97.98 & 2016-05-25 02:49:00 & 2016-05-25 06:45:00+00:00 &  8324.57 & 138.02 & 1406\\\\\n",
       "\t JC2a02d79 & 131267473325 & 37 & 2020-03-31 & 175.26 & 211.00 & 2019-06-05 11:41:00 & 2019-06-06 00:32:00+00:00 &  8359.84 &  26.00 &  299\\\\\n",
       "\t JCe67df3  & 131106090339 & 37 & 2019-01-01 & 170.00 & 210.01 & 2015-09-08 05:20:00 & 2015-11-15 22:30:00+00:00 &  8368.00 &  27.22 & 1143\\\\\n",
       "\t JCe36b60  & 131266229537 & 69 & 2020-03-31 & 175.26 & 199.13 & 2019-05-02 20:39:00 & 2019-05-03 02:00:00+00:00 &  8395.12 &  38.87 &  333\\\\\n",
       "\t JCd4c260  & 131281664741 & 37 & 2020-02-27 & 198.12 & 243.00 & 2019-12-17 02:52:00 & 2019-12-16 23:16:00+00:00 &  8400.00 &   4.86 &   73\\\\\n",
       "\t JCcc9cf2  & 131247943088 & 40 & 2020-03-31 & 182.88 & 207.34 & 2018-02-17 06:25:00 & 2018-02-19 13:56:00+00:00 &  8426.86 &  31.56 &  771\\\\\n",
       "\t JCcc9cf2  & 131247943088 & 40 & 2020-03-31 & 182.88 & 207.34 & 2018-02-17 06:25:00 & 2018-02-19 18:06:00+00:00 &  8430.39 &  31.66 &  771\\\\\n",
       "\t JCe02733  & 131252366789 & 35 & 2020-03-31 & 180.34 & 209.11 & 2018-07-15 22:53:00 & 2018-07-15 18:11:00+00:00 &  8476.25 &  31.19 &  625\\\\\n",
       "\t JCcb9b40  & 131172519842 & 39 & 2019-01-01 & 182.88 & 260.50 & 2016-01-07 10:19:00 & 2016-01-08 16:27:00+00:00 &  8486.83 &  19.90 & 1089\\\\\n",
       "\t JCd28213  & 131216032923 & 52 & 2020-03-31 & 195.58 & 174.18 & 2017-01-09 04:42:00 & 2017-01-13 19:21:00+00:00 &  8500.94 &  66.82 & 1173\\\\\n",
       "\t JCe02733  & 131252366789 & 35 & 2020-03-31 & 180.34 & 209.11 & 2018-07-15 22:53:00 & 2018-07-17 17:30:00+00:00 &  8507.99 &  32.09 &  623\\\\\n",
       "\t JCe36b60  & 131279779250 & 69 & 2020-03-31 & 175.26 & 199.13 & 2019-12-20 07:01:00 & 2019-12-21 14:00:00+00:00 &  8512.00 &  42.19 &  101\\\\\n",
       "\t JCe188ce  & 131179394929 & 40 & 2019-01-01 & 187.96 & 219.40 & 2016-03-17 07:04:00 & 2016-03-17 10:51:00+00:00 &  8532.68 &  22.50 & 1020\\\\\n",
       "\t JCe02733  & 131268993393 & 36 & 2020-03-31 & 180.34 & 209.11 & 2019-07-06 09:43:00 & 2019-07-06 06:52:00+00:00 &  8536.21 &  32.89 &  269\\\\\n",
       "\t JCe67df3  & 131106090339 & 37 & 2019-01-01 & 170.00 & 210.01 & 2015-09-08 05:20:00 & 2015-10-04 15:18:00+00:00 &  8560.00 &  32.67 & 1185\\\\\n",
       "\t JCd4c260  & 131281664741 & 37 & 2020-02-27 & 198.12 & 243.00 & 2019-12-17 02:52:00 & 2019-12-18 14:15:00+00:00 &  8571.48 &   0.00 &   71\\\\\n",
       "\t JCd4c260  & 131281664741 & 37 & 2020-02-27 & 198.12 & 243.00 & 2019-12-17 02:52:00 & 2019-12-19 14:31:00+00:00 &  8571.48 &   0.00 &   70\\\\\n",
       "\t JCcc9cf2  & 131247943088 & 40 & 2020-03-31 & 182.88 & 207.34 & 2018-02-17 06:25:00 & 2018-02-18 12:58:00+00:00 &  8578.54 &  35.86 &  772\\\\\n",
       "\t JCd4c260  & 131281664741 & 37 & 2020-02-27 & 198.12 & 243.00 & 2019-12-17 02:52:00 & 2019-12-17 06:40:00+00:00 &  8606.76 &   1.00 &   72\\\\\n",
       "\t JCd4c260  & 131281664741 & 37 & 2020-02-27 & 198.12 & 243.00 & 2019-12-17 02:52:00 & 2019-12-17 14:00:00+00:00 &  8606.76 &   1.00 &   72\\\\\n",
       "\t JC2a0784f & 131242882845 & 36 & 2020-03-05 & 167.64 & 232.10 & 2017-12-12 14:17:00 & 2017-12-12 06:37:00+00:00 &  8640.00 &  12.84 &  814\\\\\n",
       "\t JCcc9cf2  & 131247943088 & 40 & 2020-03-31 & 182.88 & 207.34 & 2018-02-17 06:25:00 & 2018-02-18 01:00:00+00:00 &  8687.89 &  38.96 &  772\\\\\n",
       "\t JCe188ce  & 131179394929 & 40 & 2019-01-01 & 187.96 & 219.40 & 2016-03-17 07:04:00 & 2016-03-17 05:24:00+00:00 &  8712.58 &  27.60 & 1020\\\\\n",
       "\t JCcc9cf2  & 131247943088 & 40 & 2020-03-31 & 182.88 & 207.34 & 2018-02-17 06:25:00 & 2018-02-17 06:30:00+00:00 &  8786.65 &  41.76 &  773\\\\\n",
       "\t JCd7cd74  & 131075305158 & 40 & 2020-03-31 & 185.42 & 190.51 & 2015-02-11 13:52:00 & 2015-02-11 20:56:00+00:00 &  8799.99 &  58.97 & 1875\\\\\n",
       "\t JCd7cd74  & 131075305158 & 40 & 2020-03-31 & 185.42 & 190.51 & 2015-02-11 13:52:00 & 2015-02-11 10:30:00+00:00 &  8800.00 &  58.97 & 1875\\\\\n",
       "\t JCe36b60  & 131279779250 & 69 & 2020-03-31 & 175.26 & 199.13 & 2019-12-20 07:01:00 & 2019-12-20 08:35:00+00:00 &  8832.00 &  51.26 &  102\\\\\n",
       "\t JCe36b60  & 131279779250 & 69 & 2020-03-31 & 175.26 & 199.13 & 2019-12-20 07:01:00 & 2019-12-24 12:16:00+00:00 &  8880.00 &  52.62 &   98\\\\\n",
       "\t JCe67df3  & 131106090339 & 37 & 2019-01-01 & 170.00 & 210.01 & 2015-09-08 05:20:00 & 2015-10-23 20:30:00+00:00 &  8944.00 &  43.55 & 1166\\\\\n",
       "\t JCe67df3  & 131106090339 & 37 & 2019-01-01 & 170.00 & 210.01 & 2015-09-08 05:20:00 & 2015-09-16 11:00:00+00:00 &  8960.00 &  44.01 & 1203\\\\\n",
       "\t JCcb9b40  & 131172519842 & 39 & 2019-01-01 & 182.88 & 260.50 & 2016-01-07 10:19:00 & 2016-01-09 16:29:00+00:00 &  8977.13 &   6.00 & 1088\\\\\n",
       "\t JCe67df3  & 131106090339 & 37 & 2019-01-01 & 170.00 & 210.01 & 2015-09-08 05:20:00 & 2015-09-30 23:00:00+00:00 &  9119.64 &  48.53 & 1189\\\\\n",
       "\t JCdcc1fd  & 131239784374 & 70 & 2019-01-01 & 168.91 & 245.00 & 2017-11-01 03:41:00 & 2017-11-05 19:04:00+00:00 &  9216.00 &  16.27 &  422\\\\\n",
       "\t JCcb9b40  & 131172519842 & 39 & 2019-01-01 & 182.88 & 260.50 & 2016-01-07 10:19:00 & 2016-01-08 08:13:00+00:00 &  9241.68 &   1.50 & 1089\\\\\n",
       "\t JCe67df3  & 131106090339 & 37 & 2019-01-01 & 170.00 & 210.01 & 2015-09-08 05:20:00 & 2015-12-17 16:34:00+00:00 &  9248.00 &  52.17 & 1111\\\\\n",
       "\t JCdcc1fd  & 131210841235 & 70 & 2019-01-01 & 168.91 & 245.00 & 2017-01-06 02:54:00 & 2017-01-06 01:00:00+00:00 &  9276.96 &  18.00 &  725\\\\\n",
       "\t JCe67df3  & 131106090339 & 37 & 2019-01-01 & 170.00 & 210.01 & 2015-09-08 05:20:00 & 2015-12-21 19:00:00+00:00 &  9276.96 &  52.99 & 1107\\\\\n",
       "\t JCd79c04  & 131284275359 & 29 & 2020-03-31 & 175.26 & 273.06 & 2020-03-11 09:42:00 & 2020-03-12 03:10:00+00:00 &  9280.00 &   9.97 &   19\\\\\n",
       "\t JCe67df3  & 131072939462 & 36 & 2019-01-01 & 170.00 & 210.01 & 2015-03-13 10:19:00 & 2015-03-21 18:00:00+00:00 &  9344.00 &  54.89 & 1382\\\\\n",
       "\t JCe67df3  & 131072939462 & 36 & 2019-01-01 & 170.00 & 210.01 & 2015-03-13 10:19:00 & 2015-03-26 00:00:00+00:00 &  9347.50 &  54.99 & 1377\\\\\n",
       "\t JCe67df3  & 131072939462 & 36 & 2019-01-01 & 170.00 & 210.01 & 2015-03-13 10:19:00 & 2015-03-13 03:03:00+00:00 &  9382.78 &  55.99 & 1390\\\\\n",
       "\t JCe67df3  & 131072939462 & 36 & 2019-01-01 & 170.00 & 210.01 & 2015-03-13 10:19:00 & 2015-03-14 23:37:00+00:00 &  9418.05 &  56.99 & 1389\\\\\n",
       "\t JCe67df3  & 131072939462 & 36 & 2019-01-01 & 170.00 & 210.01 & 2015-03-13 10:19:00 & 2015-03-14 12:00:00+00:00 &  9440.00 &  57.61 & 1389\\\\\n",
       "\t JCdcc1fd  & 131239784374 & 70 & 2019-01-01 & 168.91 & 245.00 & 2017-11-01 03:41:00 & 2017-11-05 08:00:00+00:00 &  9584.00 &  26.71 &  422\\\\\n",
       "\t JCe36b60  & 131266229537 & 69 & 2020-03-31 & 175.26 & 199.13 & 2019-05-02 20:39:00 & 2019-05-02 19:12:00+00:00 &  9600.00 &  73.03 &  334\\\\\n",
       "\t JCd79c04  & 131284275359 & 29 & 2020-03-31 & 175.26 & 273.06 & 2020-03-11 09:42:00 & 2020-03-18 18:50:00+00:00 &  9636.75 &   0.14 &   13\\\\\n",
       "\t JCe67df3  & 131106090339 & 37 & 2019-01-01 & 170.00 & 210.01 & 2015-09-08 05:20:00 & 2015-09-08 07:00:00+00:00 &  9700.24 &  64.99 & 1211\\\\\n",
       "\t JCe36b60  & 131279779250 & 69 & 2020-03-31 & 175.26 & 199.13 & 2019-12-20 07:01:00 & 2019-12-25 15:00:00+00:00 &  9770.79 &  77.87 &   97\\\\\n",
       "\t JCe67df3  & 131084284228 & 37 & 2019-01-01 & 170.00 & 210.01 & 2015-05-27 01:49:00 & 2015-05-26 20:01:00+00:00 &  9816.64 &  68.29 & 1316\\\\\n",
       "\t JCe67df3  & 131106090339 & 37 & 2019-01-01 & 170.00 & 210.01 & 2015-09-08 05:20:00 & 2015-11-02 05:00:00+00:00 &  9824.00 &  68.50 & 1156\\\\\n",
       "\t JCe48b36  & 131255596987 & 68 & 2019-12-19 & 190.50 & 117.75 & 2018-08-31 02:54:00 & 2018-08-31 00:46:00+00:00 &  9920.00 & 163.48 &  475\\\\\n",
       "\t JCe67df3  & 131106090339 & 37 & 2019-01-01 & 170.00 & 210.01 & 2015-09-08 05:20:00 & 2015-11-05 14:00:00+00:00 &  9920.00 &  71.22 & 1153\\\\\n",
       "\t JCe67df3  & 131091796152 & 37 & 2019-01-01 & 170.00 & 210.01 & 2015-07-18 09:23:00 & 2015-07-19 18:53:00+00:00 & 10192.00 &  78.93 & 1262\\\\\n",
       "\t JCd473c6  & 131287076413 & 31 & 2020-03-31 & 162.56 & 320.69 & 2020-03-07 11:46:00 & 2020-03-07 09:16:00+00:00 & 10224.00 &  30.84 &   24\\\\\n",
       "\t JCd473c6  & 131281585175 & 31 & 2020-03-31 & 162.56 & 320.69 & 2019-12-10 23:52:00 & 2019-12-14 14:42:00+00:00 & 10272.00 &  29.48 &  108\\\\\n",
       "\t JCd473c6  & 131281585175 & 31 & 2020-03-31 & 162.56 & 320.69 & 2019-12-10 23:52:00 & 2019-12-13 12:21:00+00:00 & 10432.00 &  24.94 &  109\\\\\n",
       "\t JCe8a3e5  & 131251139412 & 79 & 2019-01-01 & 177.80 & 131.90 & 2018-04-29 04:07:00 & 2018-05-07 12:00:00+00:00 & 10553.86 & 167.30 &  239\\\\\n",
       "\t JCe67df3  & 131106090339 & 37 & 2019-01-01 & 170.00 & 210.01 & 2015-09-08 05:20:00 & 2015-09-08 11:00:00+00:00 & 10576.00 &  89.82 & 1211\\\\\n",
       "\t JCe67df3  & 131106090339 & 37 & 2019-01-01 & 170.00 & 210.01 & 2015-09-08 05:20:00 & 2015-09-09 19:00:00+00:00 & 10576.01 &  89.82 & 1210\\\\\n",
       "\t JCd473c6  & 131281585175 & 31 & 2020-03-31 & 162.56 & 320.69 & 2019-12-10 23:52:00 & 2019-12-12 11:30:00+00:00 & 10624.00 &  19.50 &  110\\\\\n",
       "\t JCd473c6  & 131281585175 & 31 & 2020-03-31 & 162.56 & 320.69 & 2019-12-10 23:52:00 & 2019-12-11 14:39:00+00:00 & 10640.00 &  19.05 &  111\\\\\n",
       "\t JCe9ddd4  & 131281150620 & 36 & 2020-03-31 & 172.72 & 144.50 & 2020-01-28 23:48:00 & 2020-02-06 17:35:00+00:00 & 10994.78 & 167.20 &   54\\\\\n",
       "\t JCd473c6  & 131281585175 & 31 & 2020-03-31 & 162.56 & 320.69 & 2019-12-10 23:52:00 & 2019-12-10 23:30:00+00:00 & 11005.36 &   8.69 &  112\\\\\n",
       "\t JCceb47b  & 131250176231 & 31 & 2020-03-31 & 187.96 & 317.51 & 2018-05-17 16:16:00 & 2018-05-17 13:14:00+00:00 & 11199.37 &   0.01 &  684\\\\\n",
       "\t JCceb47b  & 131250176231 & 31 & 2020-03-31 & 187.96 & 317.51 & 2018-05-17 16:16:00 & 2018-05-25 15:26:00+00:00 & 11200.00 &   0.01 &  676\\\\\n",
       "\t JCd473c6  & 131287076413 & 31 & 2020-03-31 & 162.56 & 320.69 & 2020-03-07 11:46:00 & 2020-03-11 12:53:00+00:00 & 11312.00 &   0.01 &   20\\\\\n",
       "\t JCd473c6  & 131287076413 & 31 & 2020-03-31 & 162.56 & 320.69 & 2020-03-07 11:46:00 & 2020-03-09 20:00:00+00:00 & 11392.00 &   2.27 &   22\\\\\n",
       "\t JCd473c6  & 131287076413 & 31 & 2020-03-31 & 162.56 & 320.69 & 2020-03-07 11:46:00 & 2020-03-10 11:40:00+00:00 & 11396.90 &   2.41 &   21\\\\\n",
       "\t JCd262e1  & 131081523555 & 63 & 2020-02-24 & 152.40 & 122.70 & 2015-03-09 11:02:00 & 2015-03-09 11:18:00+00:00 & 11587.38 & 205.80 & 1813\\\\\n",
       "\t JCceb47b  & 131250176231 & 31 & 2020-03-31 & 187.96 & 317.51 & 2018-05-17 16:16:00 & 2018-05-18 06:00:00+00:00 & 12024.77 &  23.39 &  683\\\\\n",
       "\t JCd473c6  & 131287076413 & 31 & 2020-03-31 & 162.56 & 320.69 & 2020-03-07 11:46:00 & 2020-03-09 12:00:00+00:00 & 12381.03 &  30.31 &   22\\\\\n",
       "\t JCe08adf  & 131238068042 & 46 & 2019-01-01 & 157.48 &  64.20 & 2017-09-28 23:02:00 & 2017-10-19 21:00:00+00:00 & 22046.00 & 560.80 &  439\\\\\n",
       "\\end{tabular}\n"
      ],
      "text/markdown": [
       "\n",
       "A grouped_df: 172 × 11\n",
       "\n",
       "| anon_id &lt;chr&gt; | pat_enc_csn_id_coded &lt;dbl&gt; | age &lt;int&gt; | recent_date &lt;chr&gt; | recent_height_cm &lt;dbl&gt; | recent_weight_kg &lt;dbl&gt; | admit_time &lt;chr&gt; | recorded_time &lt;chr&gt; | Weight &lt;dbl&gt; | Wfsdmdif &lt;dbl&gt; | dmfsdif &lt;dbl&gt; |\n",
       "|---|---|---|---|---|---|---|---|---|---|---|\n",
       "| JCd8c850  | 131083429185 | 77 | 2019-01-01 | 162.56 |  61.23 | 2015-03-29 20:11:00 | 2015-03-29 23:28:00+00:00 |     2.33 |  61.16 | 1374 |\n",
       "| JCdb8af3  | 131179908315 | 58 | 2019-01-01 | 170.20 |   0.10 | 2016-02-02 21:38:00 | 2016-02-08 15:28:00+00:00 |     3.45 |   0.00 | 1058 |\n",
       "| JCd4d996  | 131276336621 | 72 | 2019-11-29 | 175.26 |  97.60 | 2019-09-21 04:25:00 | 2019-09-21 12:17:00+00:00 |    17.64 |  97.10 |   69 |\n",
       "| JCcfa790  | 131279920409 | 87 | 2020-01-15 | 182.91 |  82.10 | 2019-11-11 23:44:00 | 2019-11-12 01:30:00+00:00 |    28.23 |  81.30 |   64 |\n",
       "| JCdd701d  | 131216269634 | 58 | 2019-01-01 | 160.02 |  47.94 | 2017-02-21 20:25:00 | 2017-02-23 04:12:00+00:00 |   172.80 |  43.04 |  677 |\n",
       "| JCccaf6f  | 131148206526 | 76 | 2019-01-01 | 160.02 |  51.70 | 2015-12-28 05:49:00 | 2015-12-28 06:45:00+00:00 |   192.00 |  46.26 | 1100 |\n",
       "| JCe7f41e  | 131278541034 | 64 | 2020-02-27 | 165.00 |  62.10 | 2019-10-12 23:06:00 | 2019-10-18 20:14:00+00:00 |   204.59 |  56.30 |  132 |\n",
       "| JCe3e7e8  | 131197934631 | 61 | 2019-01-01 | 182.90 |  70.00 | 2016-08-16 22:25:00 | 2016-08-16 22:07:00+00:00 |   208.00 |  64.10 |  868 |\n",
       "| JC2a01205 | 131261419878 | 24 | 2020-03-31 |     NA |  68.00 | 2019-01-18 13:56:00 | 2019-01-18 07:57:00+00:00 |   215.17 |  61.90 |  438 |\n",
       "| JCdc1ca1  | 131149917867 | 61 | 2020-03-31 | 154.94 |  53.57 | 2015-12-23 06:03:00 | 2015-12-23 09:00:00+00:00 |   222.22 |  47.27 | 1560 |\n",
       "| JCdcb394  | 131235411859 | 85 | 2019-09-27 | 157.48 |  65.50 | 2017-07-02 07:02:00 | 2017-07-07 16:30:00+00:00 |   236.33 |  58.80 |  812 |\n",
       "| JCd659db  | 131184404515 | 21 | 2020-03-29 | 157.48 |  52.30 | 2016-05-06 23:38:00 | 2016-05-09 16:00:00+00:00 |   261.02 |  44.90 | 1420 |\n",
       "| JCe6f88a  | 131097590735 | 22 | 2019-09-06 | 187.96 | 115.67 | 2015-08-07 13:29:00 | 2015-08-07 13:30:00+00:00 |   275.13 | 107.87 | 1491 |\n",
       "| JCd16b07  | 131251805170 | 82 | 2019-01-01 |     NA |  80.60 | 2018-06-09 06:07:00 | 2018-06-09 03:35:00+00:00 |   288.00 |  72.44 |  206 |\n",
       "| JCd490e5  | 131237149027 | 70 | 2020-03-31 | 170.20 |  85.70 | 2017-07-13 01:02:00 | 2017-07-14 22:03:00+00:00 |   303.35 |  77.10 |  991 |\n",
       "| JCebf4d7  | 131251550575 | 61 | 2019-04-26 | 165.10 | 127.27 | 2018-06-18 10:28:00 | 2018-06-18 05:42:00+00:00 |   320.00 | 118.20 |  312 |\n",
       "| JCd6a740  | 131257264582 | 25 | 2019-04-17 | 153.00 |  51.20 | 2018-10-06 19:47:00 | 2018-10-15 13:12:00+00:00 |   324.52 |  42.00 |  184 |\n",
       "| JCcf6ce9  | 131117233036 | 47 | 2019-01-01 | 172.72 | 129.10 | 2015-09-29 10:36:00 | 2015-09-30 05:00:00+00:00 |   432.00 | 116.85 | 1189 |\n",
       "| JCe06f75  | 131192154282 | 50 | 2020-03-31 | 157.48 |  96.16 | 2016-06-30 04:22:00 | 2016-06-30 05:10:00+00:00 |   617.60 |  78.65 | 1370 |\n",
       "| JCd96fd9  | 131187249982 | 47 | 2020-02-28 | 175.26 | 100.70 | 2016-05-07 05:10:00 | 2016-05-08 20:47:00+00:00 |   640.00 |  82.56 | 1391 |\n",
       "| JCe1550f  | 131213682201 | 68 | 2019-01-01 | 167.64 |  53.20 | 2016-12-16 07:22:00 | 2016-12-16 16:14:00+00:00 |   701.94 |  33.30 |  746 |\n",
       "| JCdb575c  | 131089502022 | 85 | 2019-01-01 | 162.56 |  50.53 | 2015-06-11 09:28:00 | 2015-06-11 09:22:00+00:00 |   710.40 |  30.39 | 1300 |\n",
       "| JCcfecc2  | 131254389083 | 34 | 2020-03-10 | 142.20 |  20.50 | 2018-07-10 03:29:00 | 2018-07-09 21:24:00+00:00 |   720.00 |   0.09 |  610 |\n",
       "| JCcfecc2  | 131271215701 | 35 | 2020-03-10 | 142.20 |  20.50 | 2019-06-16 15:36:00 | 2019-06-16 17:58:00+00:00 |   751.33 |   0.80 |  268 |\n",
       "| JCcbfbc8  | 131256866342 | 77 | 2019-01-01 | 156.50 |  55.60 | 2018-09-03 20:20:00 | 2018-09-06 06:00:00+00:00 |   789.42 |  33.22 |  117 |\n",
       "| JCea3866  | 131216538201 | 32 | 2020-03-31 | 140.00 |  44.75 | 2017-01-19 12:16:00 | 2017-01-19 03:33:00+00:00 |   790.40 |  22.34 | 1167 |\n",
       "| JC2a23e61 | 131268863704 | 67 | 2020-02-24 | 124.50 |  38.56 | 2019-06-17 05:31:00 | 2019-06-18 23:30:00+00:00 |   804.24 |  15.76 |  251 |\n",
       "| JCcbb4b8  | 131216914159 | 46 | 2019-01-01 | 165.10 |  57.90 | 2017-01-17 00:30:00 | 2017-01-17 04:00:00+00:00 |   840.00 |  34.09 |  714 |\n",
       "| JCcba5a7  | 131139556413 | 86 | 2019-01-01 | 152.00 |  27.00 | 2015-10-31 00:41:00 | 2015-10-30 19:27:00+00:00 |   848.01 |   2.96 | 1159 |\n",
       "| JC2a23e61 | 131268863704 | 67 | 2020-02-24 | 124.50 |  38.56 | 2019-06-17 05:31:00 | 2019-06-20 17:03:00+00:00 |   853.62 |  14.36 |  249 |\n",
       "| JCcba5a7  | 131139556413 | 86 | 2019-01-01 | 152.00 |  27.00 | 2015-10-31 00:41:00 | 2015-11-03 15:45:00+00:00 |   856.00 |   2.73 | 1155 |\n",
       "| JCd84277  | 131090908463 | 21 | 2019-11-24 | 160.02 |  43.00 | 2015-05-22 07:01:00 | 2015-05-22 15:21:00+00:00 |   871.26 |  18.30 | 1647 |\n",
       "| JCce2920  | 131240538461 | 68 | 2019-04-16 | 149.90 |  29.50 | 2017-11-27 05:12:00 | 2017-11-27 15:43:00+00:00 |   881.84 |   4.50 |  505 |\n",
       "| JCce2920  | 131240538461 | 68 | 2019-04-16 | 149.90 |  29.50 | 2017-11-27 05:12:00 | 2017-11-27 07:09:00+00:00 |   888.00 |   4.33 |  505 |\n",
       "| JC2a23e61 | 131268863704 | 67 | 2020-02-24 | 124.50 |  38.56 | 2019-06-17 05:31:00 | 2019-06-19 23:02:00+00:00 |   888.89 |  13.36 |  250 |\n",
       "| JCce2920  | 131240538461 | 68 | 2019-04-16 | 149.90 |  29.50 | 2017-11-27 05:12:00 | 2017-11-28 15:13:00+00:00 |   899.48 |   4.00 |  504 |\n",
       "| JCcc2b6f  | 131117955539 | 44 | 2019-01-01 | 147.32 |  26.58 | 2015-08-27 14:42:00 | 2015-08-27 14:49:00+00:00 |   903.00 |   0.98 | 1223 |\n",
       "| JCcba5a7  | 131139556413 | 86 | 2019-01-01 | 152.00 |  27.00 | 2015-10-31 00:41:00 | 2015-10-31 14:54:00+00:00 |   910.40 |   1.19 | 1158 |\n",
       "| JCdab6fa  | 131255981015 | 80 | 2019-01-13 | 149.90 |  57.38 | 2018-09-11 03:14:00 | 2018-09-16 04:00:00+00:00 |   910.41 |  31.57 |  119 |\n",
       "| JCcba5a7  | 131139556413 | 86 | 2019-01-01 | 152.00 |  27.00 | 2015-10-31 00:41:00 | 2015-11-01 17:00:00+00:00 |   917.11 |   1.00 | 1157 |\n",
       "| JCcc2b6f  | 131117955539 | 44 | 2019-01-01 | 147.32 |  26.58 | 2015-08-27 14:42:00 | 2015-08-28 11:25:00+00:00 |   917.11 |   0.58 | 1222 |\n",
       "| JCe2ceb6  | 131281137170 | 36 | 2020-03-05 | 154.94 |  28.21 | 2019-12-11 21:46:00 | 2019-12-12 18:00:00+00:00 |   917.11 |   2.21 |   84 |\n",
       "| JCe2ceb6  | 131281137170 | 36 | 2020-03-05 | 154.94 |  28.21 | 2019-12-11 21:46:00 | 2019-12-11 18:45:00+00:00 |   917.11 |   2.21 |   85 |\n",
       "| JCcc2b6f  | 131117955539 | 44 | 2019-01-01 | 147.32 |  26.58 | 2015-08-27 14:42:00 | 2015-08-28 12:31:00+00:00 |   927.70 |   0.28 | 1222 |\n",
       "| JCe0ff8a  | 131209695675 | 25 | 2020-03-10 | 162.56 |  32.66 | 2016-11-27 05:33:00 | 2016-11-28 16:57:00+00:00 |   929.60 |   6.31 | 1198 |\n",
       "| JCe0ff8a  | 131209695675 | 25 | 2020-03-10 | 162.56 |  32.66 | 2016-11-27 05:33:00 | 2016-11-27 16:40:00+00:00 |   931.20 |   6.26 | 1199 |\n",
       "| JCcc2b6f  | 131166145514 | 45 | 2019-01-01 | 147.32 |  26.58 | 2015-12-07 04:26:00 | 2015-12-07 07:00:00+00:00 |   937.60 |   0.00 | 1121 |\n",
       "| JCe0ff8a  | 131209695675 | 25 | 2020-03-10 | 162.56 |  32.66 | 2016-11-27 05:33:00 | 2016-11-27 01:55:00+00:00 |   952.39 |   5.66 | 1199 |\n",
       "| JCcba5a7  | 131139556413 | 86 | 2019-01-01 | 152.00 |  27.00 | 2015-10-31 00:41:00 | 2015-11-02 18:30:00+00:00 |   953.60 |   0.03 | 1156 |\n",
       "| JCe0ff8a  | 131209695675 | 25 | 2020-03-10 | 162.56 |  32.66 | 2016-11-27 05:33:00 | 2016-11-29 19:00:00+00:00 |   955.91 |   5.56 | 1197 |\n",
       "| JCdc64cd  | 131257236159 | 22 | 2020-03-31 | 152.40 |  28.95 | 2018-09-04 06:52:00 | 2018-09-06 01:13:00+00:00 |   959.44 |   1.75 |  572 |\n",
       "| JCe0ff8a  | 131206161990 | 25 | 2020-03-10 | 162.56 |  32.66 | 2016-10-29 11:56:00 | 2016-10-29 10:13:00+00:00 |   959.44 |   5.46 | 1228 |\n",
       "| JCce2920  | 131239120594 | 68 | 2019-04-16 | 149.90 |  29.50 | 2017-10-21 13:01:00 | 2017-10-21 08:49:00+00:00 |   960.00 |   2.28 |  542 |\n",
       "| JCcc2b6f  | 131117955539 | 44 | 2019-01-01 | 147.32 |  26.58 | 2015-08-27 14:42:00 | 2015-08-27 07:19:00+00:00 |   960.01 |   0.64 | 1223 |\n",
       "| JCce2920  | 131239120594 | 68 | 2019-04-16 | 149.90 |  29.50 | 2017-10-21 13:01:00 | 2017-10-22 14:00:00+00:00 |   960.01 |   2.28 |  541 |\n",
       "| JCe0ff8a  | 131209695675 | 25 | 2020-03-10 | 162.56 |  32.66 | 2016-11-27 05:33:00 | 2016-11-30 17:00:00+00:00 |   966.50 |   5.26 | 1196 |\n",
       "| JCdba730  | 131279798635 | 35 | 2020-03-31 | 157.48 |  31.20 | 2019-11-22 05:03:00 | 2019-12-18 01:23:00+00:00 |   971.52 |   3.66 |  104 |\n",
       "| JCdc64cd  | 131279631642 | 23 | 2020-03-31 | 152.40 |  28.95 | 2019-11-12 23:18:00 | 2019-11-13 17:00:00+00:00 |   973.55 |   1.35 |  139 |\n",
       "| JCdc64cd  | 131279631642 | 23 | 2020-03-31 | 152.40 |  28.95 | 2019-11-12 23:18:00 | 2019-11-12 21:03:00+00:00 |   973.55 |   1.35 |  140 |\n",
       "| JCce2920  | 131239120594 | 68 | 2019-04-16 | 149.90 |  29.50 | 2017-10-21 13:01:00 | 2017-10-22 20:38:00+00:00 |   977.08 |   1.80 |  541 |\n",
       "| JCdc24fa  | 131237635539 | 83 | 2019-01-01 | 139.70 |  33.79 | 2017-07-25 06:11:00 | 2017-07-26 19:29:00+00:00 |   980.61 |   5.99 |  524 |\n",
       "| JCe0ff8a  | 131209695675 | 25 | 2020-03-10 | 162.56 |  32.66 | 2016-11-27 05:33:00 | 2016-11-29 18:43:00+00:00 |   984.13 |   4.76 | 1197 |\n",
       "| JCcc2b6f  | 131092421099 | 44 | 2019-01-01 | 147.32 |  26.58 | 2015-06-06 04:59:00 | 2015-06-06 04:52:00+00:00 |   987.66 |   1.42 | 1305 |\n",
       "| JCd0500f  | 131186131047 | 66 | 2020-03-31 | 165.10 | 123.20 | 2016-05-22 07:10:00 | 2016-05-22 07:43:00+00:00 |   987.66 |  95.20 | 1409 |\n",
       "| JCe0ff8a  | 131209695675 | 25 | 2020-03-10 | 162.56 |  32.66 | 2016-11-27 05:33:00 | 2016-12-01 17:47:00+00:00 |   987.66 |   4.66 | 1195 |\n",
       "| JCcd88f7  | 131225645539 | 30 | 2020-03-31 | 149.86 |  26.76 | 2017-03-21 02:40:00 | 2017-03-20 23:48:00+00:00 |   989.92 |   1.30 | 1107 |\n",
       "| JCcd88f7  | 131225645539 | 30 | 2020-03-31 | 149.86 |  26.76 | 2017-03-21 02:40:00 | 2017-03-21 10:00:00+00:00 |   989.92 |   1.30 | 1106 |\n",
       "| JCcd88f7  | 131277422939 | 33 | 2020-03-31 | 149.86 |  26.76 | 2019-09-15 15:56:00 | 2019-09-14 23:58:00+00:00 |   992.00 |   1.36 |  199 |\n",
       "| JCdc24fa  | 131237635539 | 83 | 2019-01-01 | 139.70 |  33.79 | 2017-07-25 06:11:00 | 2017-07-27 12:11:00+00:00 |   994.72 |   5.59 |  523 |\n",
       "| JCe0ff8a  | 131206161990 | 25 | 2020-03-10 | 162.56 |  32.66 | 2016-10-29 11:56:00 | 2016-10-31 16:15:00+00:00 |   998.24 |   4.36 | 1226 |\n",
       "| JCce4fbd  | 131179763273 | 51 | 2019-01-01 | 185.42 | 158.76 | 2016-02-04 10:46:00 | 2016-02-08 16:54:00+00:00 |  8000.05 |  68.04 | 1058 |\n",
       "| JCd28213  | 131236672868 | 53 | 2020-03-31 | 195.58 | 174.18 | 2017-07-01 08:00:00 | 2017-07-01 15:00:00+00:00 |  8014.16 |  53.02 | 1004 |\n",
       "| JCe40362  | 131272125723 | 34 | 2020-03-31 | 187.96 | 224.71 | 2019-07-16 02:47:00 | 2019-07-16 03:49:00+00:00 |  8014.16 |   2.49 |  259 |\n",
       "| JCce4fbd  | 131179763273 | 51 | 2019-01-01 | 185.42 | 158.76 | 2016-02-04 10:46:00 | 2016-02-07 17:04:00+00:00 |  8017.69 |  68.54 | 1059 |\n",
       "| JCdcc1fd  | 131231087658 | 70 | 2019-01-01 | 168.91 | 245.00 | 2017-06-16 05:38:00 | 2017-06-20 19:24:00+00:00 |  8030.40 |  17.34 |  560 |\n",
       "| JCce4fbd  | 131179763273 | 51 | 2019-01-01 | 185.42 | 158.76 | 2016-02-04 10:46:00 | 2016-02-05 03:19:00+00:00 |  8032.00 |  68.95 | 1061 |\n",
       "| JCda2a71  | 131263398985 | 49 | 2020-03-31 | 177.80 | 232.69 | 2019-03-13 09:51:00 | 2019-03-14 02:45:00+00:00 |  8042.38 |   4.69 |  383 |\n",
       "| JCe40362  | 131272125723 | 34 | 2020-03-31 | 187.96 | 224.71 | 2019-07-16 02:47:00 | 2019-07-16 00:57:00+00:00 |  8042.38 |   3.29 |  259 |\n",
       "| JCd99e71  | 131214625562 | 49 | 2019-11-16 | 193.00 | 220.80 | 2017-01-25 05:52:00 | 2017-01-26 16:11:00+00:00 |  8056.49 |   7.60 | 1024 |\n",
       "| JCda2a71  | 131263398985 | 49 | 2020-03-31 | 177.80 | 232.69 | 2019-03-13 09:51:00 | 2019-03-13 09:55:00+00:00 |  8064.00 |   4.08 |  384 |\n",
       "| JCce4fbd  | 131179763273 | 51 | 2019-01-01 | 185.42 | 158.76 | 2016-02-04 10:46:00 | 2016-02-06 17:24:00+00:00 |  8067.07 |  69.94 | 1060 |\n",
       "| JCda2a71  | 131263398985 | 49 | 2020-03-31 | 177.80 | 232.69 | 2019-03-13 09:51:00 | 2019-03-14 19:03:00+00:00 |  8074.13 |   3.79 |  383 |\n",
       "| JCe61cfe  | 131281143011 | 30 | 2020-03-13 | 167.60 | 188.00 | 2020-01-09 13:56:00 | 2020-01-09 12:23:00+00:00 |  8077.65 |  41.00 |   64 |\n",
       "| JCd3ad58  | 131211637127 | 41 | 2019-01-01 | 177.80 | 198.50 | 2017-01-23 23:37:00 | 2017-01-24 01:31:00+00:00 |  8091.20 |  30.89 |  707 |\n",
       "| JCcc9cf2  | 131247943088 | 40 | 2020-03-31 | 182.88 | 207.34 | 2018-02-17 06:25:00 | 2018-02-22 16:58:00+00:00 |  8109.40 |  22.56 |  768 |\n",
       "| JCd3ad58  | 131211637127 | 41 | 2019-01-01 | 177.80 | 198.50 | 2017-01-23 23:37:00 | 2017-01-24 01:01:00+00:00 |  8144.00 |  32.38 |  707 |\n",
       "| JCdcc1fd  | 131231087658 | 70 | 2019-01-01 | 168.91 | 245.00 | 2017-06-16 05:38:00 | 2017-06-16 01:01:00+00:00 |  8148.20 |  14.00 |  564 |\n",
       "| JCdcc1fd  | 131231087658 | 70 | 2019-01-01 | 168.91 | 245.00 | 2017-06-16 05:38:00 | 2017-06-16 23:14:00+00:00 |  8148.20 |  14.00 |  564 |\n",
       "| JCdcc1fd  | 131210841235 | 70 | 2019-01-01 | 168.91 | 245.00 | 2017-01-06 02:54:00 | 2017-01-09 23:22:00+00:00 |  8192.00 |  12.76 |  722 |\n",
       "| JCcc9cf2  | 131247943088 | 40 | 2020-03-31 | 182.88 | 207.34 | 2018-02-17 06:25:00 | 2018-02-21 13:59:00+00:00 |  8194.06 |  24.96 |  769 |\n",
       "| JCe67df3  | 131106090339 | 37 | 2019-01-01 | 170.00 | 210.01 | 2015-09-08 05:20:00 | 2015-12-12 06:46:00+00:00 |  8218.75 |  22.99 | 1116 |\n",
       "| JCce4fbd  | 131179763273 | 51 | 2019-01-01 | 185.42 | 158.76 | 2016-02-04 10:46:00 | 2016-02-04 20:24:00+00:00 |  8220.80 |  74.30 | 1062 |\n",
       "| JCe36b60  | 131279779250 | 69 | 2020-03-31 | 175.26 | 199.13 | 2019-12-20 07:01:00 | 2019-12-22 12:11:00+00:00 |  8224.00 |  34.02 |  100 |\n",
       "| JCe36b60  | 131279779250 | 69 | 2020-03-31 | 175.26 | 199.13 | 2019-12-20 07:01:00 | 2019-12-23 13:35:00+00:00 |  8224.00 |  34.02 |   99 |\n",
       "| JCd28213  | 131224005264 | 52 | 2020-03-31 | 195.58 | 174.18 | 2017-03-08 10:19:00 | 2017-03-10 15:46:00+00:00 |  8246.97 |  59.62 | 1117 |\n",
       "| JCd28213  | 131224005264 | 52 | 2020-03-31 | 195.58 | 174.18 | 2017-03-08 10:19:00 | 2017-03-08 18:22:00+00:00 |  8249.44 |  59.69 | 1119 |\n",
       "| JCcc9cf2  | 131247943088 | 40 | 2020-03-31 | 182.88 | 207.34 | 2018-02-17 06:25:00 | 2018-02-20 18:20:00+00:00 |  8278.71 |  27.36 |  770 |\n",
       "| JC2a02d79 | 131267473325 | 37 | 2020-03-31 | 175.26 | 211.00 | 2019-06-05 11:41:00 | 2019-06-06 12:45:00+00:00 |  8317.51 |  24.80 |  299 |\n",
       "| JCe02733  | 131257060312 | 35 | 2020-03-31 | 180.34 | 209.11 | 2018-10-11 10:09:00 | 2018-10-11 07:44:00+00:00 |  8320.00 |  26.76 |  537 |\n",
       "| JCe67df3  | 131106090339 | 37 | 2019-01-01 | 170.00 | 210.01 | 2015-09-08 05:20:00 | 2015-10-06 08:00:00+00:00 |  8320.00 |  25.86 | 1183 |\n",
       "| JCe01e50  | 131188059708 | 86 | 2020-03-31 | 177.80 |  97.98 | 2016-05-25 02:49:00 | 2016-05-25 06:45:00+00:00 |  8324.57 | 138.02 | 1406 |\n",
       "| JC2a02d79 | 131267473325 | 37 | 2020-03-31 | 175.26 | 211.00 | 2019-06-05 11:41:00 | 2019-06-06 00:32:00+00:00 |  8359.84 |  26.00 |  299 |\n",
       "| JCe67df3  | 131106090339 | 37 | 2019-01-01 | 170.00 | 210.01 | 2015-09-08 05:20:00 | 2015-11-15 22:30:00+00:00 |  8368.00 |  27.22 | 1143 |\n",
       "| JCe36b60  | 131266229537 | 69 | 2020-03-31 | 175.26 | 199.13 | 2019-05-02 20:39:00 | 2019-05-03 02:00:00+00:00 |  8395.12 |  38.87 |  333 |\n",
       "| JCd4c260  | 131281664741 | 37 | 2020-02-27 | 198.12 | 243.00 | 2019-12-17 02:52:00 | 2019-12-16 23:16:00+00:00 |  8400.00 |   4.86 |   73 |\n",
       "| JCcc9cf2  | 131247943088 | 40 | 2020-03-31 | 182.88 | 207.34 | 2018-02-17 06:25:00 | 2018-02-19 13:56:00+00:00 |  8426.86 |  31.56 |  771 |\n",
       "| JCcc9cf2  | 131247943088 | 40 | 2020-03-31 | 182.88 | 207.34 | 2018-02-17 06:25:00 | 2018-02-19 18:06:00+00:00 |  8430.39 |  31.66 |  771 |\n",
       "| JCe02733  | 131252366789 | 35 | 2020-03-31 | 180.34 | 209.11 | 2018-07-15 22:53:00 | 2018-07-15 18:11:00+00:00 |  8476.25 |  31.19 |  625 |\n",
       "| JCcb9b40  | 131172519842 | 39 | 2019-01-01 | 182.88 | 260.50 | 2016-01-07 10:19:00 | 2016-01-08 16:27:00+00:00 |  8486.83 |  19.90 | 1089 |\n",
       "| JCd28213  | 131216032923 | 52 | 2020-03-31 | 195.58 | 174.18 | 2017-01-09 04:42:00 | 2017-01-13 19:21:00+00:00 |  8500.94 |  66.82 | 1173 |\n",
       "| JCe02733  | 131252366789 | 35 | 2020-03-31 | 180.34 | 209.11 | 2018-07-15 22:53:00 | 2018-07-17 17:30:00+00:00 |  8507.99 |  32.09 |  623 |\n",
       "| JCe36b60  | 131279779250 | 69 | 2020-03-31 | 175.26 | 199.13 | 2019-12-20 07:01:00 | 2019-12-21 14:00:00+00:00 |  8512.00 |  42.19 |  101 |\n",
       "| JCe188ce  | 131179394929 | 40 | 2019-01-01 | 187.96 | 219.40 | 2016-03-17 07:04:00 | 2016-03-17 10:51:00+00:00 |  8532.68 |  22.50 | 1020 |\n",
       "| JCe02733  | 131268993393 | 36 | 2020-03-31 | 180.34 | 209.11 | 2019-07-06 09:43:00 | 2019-07-06 06:52:00+00:00 |  8536.21 |  32.89 |  269 |\n",
       "| JCe67df3  | 131106090339 | 37 | 2019-01-01 | 170.00 | 210.01 | 2015-09-08 05:20:00 | 2015-10-04 15:18:00+00:00 |  8560.00 |  32.67 | 1185 |\n",
       "| JCd4c260  | 131281664741 | 37 | 2020-02-27 | 198.12 | 243.00 | 2019-12-17 02:52:00 | 2019-12-18 14:15:00+00:00 |  8571.48 |   0.00 |   71 |\n",
       "| JCd4c260  | 131281664741 | 37 | 2020-02-27 | 198.12 | 243.00 | 2019-12-17 02:52:00 | 2019-12-19 14:31:00+00:00 |  8571.48 |   0.00 |   70 |\n",
       "| JCcc9cf2  | 131247943088 | 40 | 2020-03-31 | 182.88 | 207.34 | 2018-02-17 06:25:00 | 2018-02-18 12:58:00+00:00 |  8578.54 |  35.86 |  772 |\n",
       "| JCd4c260  | 131281664741 | 37 | 2020-02-27 | 198.12 | 243.00 | 2019-12-17 02:52:00 | 2019-12-17 06:40:00+00:00 |  8606.76 |   1.00 |   72 |\n",
       "| JCd4c260  | 131281664741 | 37 | 2020-02-27 | 198.12 | 243.00 | 2019-12-17 02:52:00 | 2019-12-17 14:00:00+00:00 |  8606.76 |   1.00 |   72 |\n",
       "| JC2a0784f | 131242882845 | 36 | 2020-03-05 | 167.64 | 232.10 | 2017-12-12 14:17:00 | 2017-12-12 06:37:00+00:00 |  8640.00 |  12.84 |  814 |\n",
       "| JCcc9cf2  | 131247943088 | 40 | 2020-03-31 | 182.88 | 207.34 | 2018-02-17 06:25:00 | 2018-02-18 01:00:00+00:00 |  8687.89 |  38.96 |  772 |\n",
       "| JCe188ce  | 131179394929 | 40 | 2019-01-01 | 187.96 | 219.40 | 2016-03-17 07:04:00 | 2016-03-17 05:24:00+00:00 |  8712.58 |  27.60 | 1020 |\n",
       "| JCcc9cf2  | 131247943088 | 40 | 2020-03-31 | 182.88 | 207.34 | 2018-02-17 06:25:00 | 2018-02-17 06:30:00+00:00 |  8786.65 |  41.76 |  773 |\n",
       "| JCd7cd74  | 131075305158 | 40 | 2020-03-31 | 185.42 | 190.51 | 2015-02-11 13:52:00 | 2015-02-11 20:56:00+00:00 |  8799.99 |  58.97 | 1875 |\n",
       "| JCd7cd74  | 131075305158 | 40 | 2020-03-31 | 185.42 | 190.51 | 2015-02-11 13:52:00 | 2015-02-11 10:30:00+00:00 |  8800.00 |  58.97 | 1875 |\n",
       "| JCe36b60  | 131279779250 | 69 | 2020-03-31 | 175.26 | 199.13 | 2019-12-20 07:01:00 | 2019-12-20 08:35:00+00:00 |  8832.00 |  51.26 |  102 |\n",
       "| JCe36b60  | 131279779250 | 69 | 2020-03-31 | 175.26 | 199.13 | 2019-12-20 07:01:00 | 2019-12-24 12:16:00+00:00 |  8880.00 |  52.62 |   98 |\n",
       "| JCe67df3  | 131106090339 | 37 | 2019-01-01 | 170.00 | 210.01 | 2015-09-08 05:20:00 | 2015-10-23 20:30:00+00:00 |  8944.00 |  43.55 | 1166 |\n",
       "| JCe67df3  | 131106090339 | 37 | 2019-01-01 | 170.00 | 210.01 | 2015-09-08 05:20:00 | 2015-09-16 11:00:00+00:00 |  8960.00 |  44.01 | 1203 |\n",
       "| JCcb9b40  | 131172519842 | 39 | 2019-01-01 | 182.88 | 260.50 | 2016-01-07 10:19:00 | 2016-01-09 16:29:00+00:00 |  8977.13 |   6.00 | 1088 |\n",
       "| JCe67df3  | 131106090339 | 37 | 2019-01-01 | 170.00 | 210.01 | 2015-09-08 05:20:00 | 2015-09-30 23:00:00+00:00 |  9119.64 |  48.53 | 1189 |\n",
       "| JCdcc1fd  | 131239784374 | 70 | 2019-01-01 | 168.91 | 245.00 | 2017-11-01 03:41:00 | 2017-11-05 19:04:00+00:00 |  9216.00 |  16.27 |  422 |\n",
       "| JCcb9b40  | 131172519842 | 39 | 2019-01-01 | 182.88 | 260.50 | 2016-01-07 10:19:00 | 2016-01-08 08:13:00+00:00 |  9241.68 |   1.50 | 1089 |\n",
       "| JCe67df3  | 131106090339 | 37 | 2019-01-01 | 170.00 | 210.01 | 2015-09-08 05:20:00 | 2015-12-17 16:34:00+00:00 |  9248.00 |  52.17 | 1111 |\n",
       "| JCdcc1fd  | 131210841235 | 70 | 2019-01-01 | 168.91 | 245.00 | 2017-01-06 02:54:00 | 2017-01-06 01:00:00+00:00 |  9276.96 |  18.00 |  725 |\n",
       "| JCe67df3  | 131106090339 | 37 | 2019-01-01 | 170.00 | 210.01 | 2015-09-08 05:20:00 | 2015-12-21 19:00:00+00:00 |  9276.96 |  52.99 | 1107 |\n",
       "| JCd79c04  | 131284275359 | 29 | 2020-03-31 | 175.26 | 273.06 | 2020-03-11 09:42:00 | 2020-03-12 03:10:00+00:00 |  9280.00 |   9.97 |   19 |\n",
       "| JCe67df3  | 131072939462 | 36 | 2019-01-01 | 170.00 | 210.01 | 2015-03-13 10:19:00 | 2015-03-21 18:00:00+00:00 |  9344.00 |  54.89 | 1382 |\n",
       "| JCe67df3  | 131072939462 | 36 | 2019-01-01 | 170.00 | 210.01 | 2015-03-13 10:19:00 | 2015-03-26 00:00:00+00:00 |  9347.50 |  54.99 | 1377 |\n",
       "| JCe67df3  | 131072939462 | 36 | 2019-01-01 | 170.00 | 210.01 | 2015-03-13 10:19:00 | 2015-03-13 03:03:00+00:00 |  9382.78 |  55.99 | 1390 |\n",
       "| JCe67df3  | 131072939462 | 36 | 2019-01-01 | 170.00 | 210.01 | 2015-03-13 10:19:00 | 2015-03-14 23:37:00+00:00 |  9418.05 |  56.99 | 1389 |\n",
       "| JCe67df3  | 131072939462 | 36 | 2019-01-01 | 170.00 | 210.01 | 2015-03-13 10:19:00 | 2015-03-14 12:00:00+00:00 |  9440.00 |  57.61 | 1389 |\n",
       "| JCdcc1fd  | 131239784374 | 70 | 2019-01-01 | 168.91 | 245.00 | 2017-11-01 03:41:00 | 2017-11-05 08:00:00+00:00 |  9584.00 |  26.71 |  422 |\n",
       "| JCe36b60  | 131266229537 | 69 | 2020-03-31 | 175.26 | 199.13 | 2019-05-02 20:39:00 | 2019-05-02 19:12:00+00:00 |  9600.00 |  73.03 |  334 |\n",
       "| JCd79c04  | 131284275359 | 29 | 2020-03-31 | 175.26 | 273.06 | 2020-03-11 09:42:00 | 2020-03-18 18:50:00+00:00 |  9636.75 |   0.14 |   13 |\n",
       "| JCe67df3  | 131106090339 | 37 | 2019-01-01 | 170.00 | 210.01 | 2015-09-08 05:20:00 | 2015-09-08 07:00:00+00:00 |  9700.24 |  64.99 | 1211 |\n",
       "| JCe36b60  | 131279779250 | 69 | 2020-03-31 | 175.26 | 199.13 | 2019-12-20 07:01:00 | 2019-12-25 15:00:00+00:00 |  9770.79 |  77.87 |   97 |\n",
       "| JCe67df3  | 131084284228 | 37 | 2019-01-01 | 170.00 | 210.01 | 2015-05-27 01:49:00 | 2015-05-26 20:01:00+00:00 |  9816.64 |  68.29 | 1316 |\n",
       "| JCe67df3  | 131106090339 | 37 | 2019-01-01 | 170.00 | 210.01 | 2015-09-08 05:20:00 | 2015-11-02 05:00:00+00:00 |  9824.00 |  68.50 | 1156 |\n",
       "| JCe48b36  | 131255596987 | 68 | 2019-12-19 | 190.50 | 117.75 | 2018-08-31 02:54:00 | 2018-08-31 00:46:00+00:00 |  9920.00 | 163.48 |  475 |\n",
       "| JCe67df3  | 131106090339 | 37 | 2019-01-01 | 170.00 | 210.01 | 2015-09-08 05:20:00 | 2015-11-05 14:00:00+00:00 |  9920.00 |  71.22 | 1153 |\n",
       "| JCe67df3  | 131091796152 | 37 | 2019-01-01 | 170.00 | 210.01 | 2015-07-18 09:23:00 | 2015-07-19 18:53:00+00:00 | 10192.00 |  78.93 | 1262 |\n",
       "| JCd473c6  | 131287076413 | 31 | 2020-03-31 | 162.56 | 320.69 | 2020-03-07 11:46:00 | 2020-03-07 09:16:00+00:00 | 10224.00 |  30.84 |   24 |\n",
       "| JCd473c6  | 131281585175 | 31 | 2020-03-31 | 162.56 | 320.69 | 2019-12-10 23:52:00 | 2019-12-14 14:42:00+00:00 | 10272.00 |  29.48 |  108 |\n",
       "| JCd473c6  | 131281585175 | 31 | 2020-03-31 | 162.56 | 320.69 | 2019-12-10 23:52:00 | 2019-12-13 12:21:00+00:00 | 10432.00 |  24.94 |  109 |\n",
       "| JCe8a3e5  | 131251139412 | 79 | 2019-01-01 | 177.80 | 131.90 | 2018-04-29 04:07:00 | 2018-05-07 12:00:00+00:00 | 10553.86 | 167.30 |  239 |\n",
       "| JCe67df3  | 131106090339 | 37 | 2019-01-01 | 170.00 | 210.01 | 2015-09-08 05:20:00 | 2015-09-08 11:00:00+00:00 | 10576.00 |  89.82 | 1211 |\n",
       "| JCe67df3  | 131106090339 | 37 | 2019-01-01 | 170.00 | 210.01 | 2015-09-08 05:20:00 | 2015-09-09 19:00:00+00:00 | 10576.01 |  89.82 | 1210 |\n",
       "| JCd473c6  | 131281585175 | 31 | 2020-03-31 | 162.56 | 320.69 | 2019-12-10 23:52:00 | 2019-12-12 11:30:00+00:00 | 10624.00 |  19.50 |  110 |\n",
       "| JCd473c6  | 131281585175 | 31 | 2020-03-31 | 162.56 | 320.69 | 2019-12-10 23:52:00 | 2019-12-11 14:39:00+00:00 | 10640.00 |  19.05 |  111 |\n",
       "| JCe9ddd4  | 131281150620 | 36 | 2020-03-31 | 172.72 | 144.50 | 2020-01-28 23:48:00 | 2020-02-06 17:35:00+00:00 | 10994.78 | 167.20 |   54 |\n",
       "| JCd473c6  | 131281585175 | 31 | 2020-03-31 | 162.56 | 320.69 | 2019-12-10 23:52:00 | 2019-12-10 23:30:00+00:00 | 11005.36 |   8.69 |  112 |\n",
       "| JCceb47b  | 131250176231 | 31 | 2020-03-31 | 187.96 | 317.51 | 2018-05-17 16:16:00 | 2018-05-17 13:14:00+00:00 | 11199.37 |   0.01 |  684 |\n",
       "| JCceb47b  | 131250176231 | 31 | 2020-03-31 | 187.96 | 317.51 | 2018-05-17 16:16:00 | 2018-05-25 15:26:00+00:00 | 11200.00 |   0.01 |  676 |\n",
       "| JCd473c6  | 131287076413 | 31 | 2020-03-31 | 162.56 | 320.69 | 2020-03-07 11:46:00 | 2020-03-11 12:53:00+00:00 | 11312.00 |   0.01 |   20 |\n",
       "| JCd473c6  | 131287076413 | 31 | 2020-03-31 | 162.56 | 320.69 | 2020-03-07 11:46:00 | 2020-03-09 20:00:00+00:00 | 11392.00 |   2.27 |   22 |\n",
       "| JCd473c6  | 131287076413 | 31 | 2020-03-31 | 162.56 | 320.69 | 2020-03-07 11:46:00 | 2020-03-10 11:40:00+00:00 | 11396.90 |   2.41 |   21 |\n",
       "| JCd262e1  | 131081523555 | 63 | 2020-02-24 | 152.40 | 122.70 | 2015-03-09 11:02:00 | 2015-03-09 11:18:00+00:00 | 11587.38 | 205.80 | 1813 |\n",
       "| JCceb47b  | 131250176231 | 31 | 2020-03-31 | 187.96 | 317.51 | 2018-05-17 16:16:00 | 2018-05-18 06:00:00+00:00 | 12024.77 |  23.39 |  683 |\n",
       "| JCd473c6  | 131287076413 | 31 | 2020-03-31 | 162.56 | 320.69 | 2020-03-07 11:46:00 | 2020-03-09 12:00:00+00:00 | 12381.03 |  30.31 |   22 |\n",
       "| JCe08adf  | 131238068042 | 46 | 2019-01-01 | 157.48 |  64.20 | 2017-09-28 23:02:00 | 2017-10-19 21:00:00+00:00 | 22046.00 | 560.80 |  439 |\n",
       "\n"
      ],
      "text/plain": [
       "    anon_id   pat_enc_csn_id_coded age recent_date recent_height_cm\n",
       "1   JCd8c850  131083429185         77  2019-01-01  162.56          \n",
       "2   JCdb8af3  131179908315         58  2019-01-01  170.20          \n",
       "3   JCd4d996  131276336621         72  2019-11-29  175.26          \n",
       "4   JCcfa790  131279920409         87  2020-01-15  182.91          \n",
       "5   JCdd701d  131216269634         58  2019-01-01  160.02          \n",
       "6   JCccaf6f  131148206526         76  2019-01-01  160.02          \n",
       "7   JCe7f41e  131278541034         64  2020-02-27  165.00          \n",
       "8   JCe3e7e8  131197934631         61  2019-01-01  182.90          \n",
       "9   JC2a01205 131261419878         24  2020-03-31      NA          \n",
       "10  JCdc1ca1  131149917867         61  2020-03-31  154.94          \n",
       "11  JCdcb394  131235411859         85  2019-09-27  157.48          \n",
       "12  JCd659db  131184404515         21  2020-03-29  157.48          \n",
       "13  JCe6f88a  131097590735         22  2019-09-06  187.96          \n",
       "14  JCd16b07  131251805170         82  2019-01-01      NA          \n",
       "15  JCd490e5  131237149027         70  2020-03-31  170.20          \n",
       "16  JCebf4d7  131251550575         61  2019-04-26  165.10          \n",
       "17  JCd6a740  131257264582         25  2019-04-17  153.00          \n",
       "18  JCcf6ce9  131117233036         47  2019-01-01  172.72          \n",
       "19  JCe06f75  131192154282         50  2020-03-31  157.48          \n",
       "20  JCd96fd9  131187249982         47  2020-02-28  175.26          \n",
       "21  JCe1550f  131213682201         68  2019-01-01  167.64          \n",
       "22  JCdb575c  131089502022         85  2019-01-01  162.56          \n",
       "23  JCcfecc2  131254389083         34  2020-03-10  142.20          \n",
       "24  JCcfecc2  131271215701         35  2020-03-10  142.20          \n",
       "25  JCcbfbc8  131256866342         77  2019-01-01  156.50          \n",
       "26  JCea3866  131216538201         32  2020-03-31  140.00          \n",
       "27  JC2a23e61 131268863704         67  2020-02-24  124.50          \n",
       "28  JCcbb4b8  131216914159         46  2019-01-01  165.10          \n",
       "29  JCcba5a7  131139556413         86  2019-01-01  152.00          \n",
       "30  JC2a23e61 131268863704         67  2020-02-24  124.50          \n",
       "31  JCcba5a7  131139556413         86  2019-01-01  152.00          \n",
       "32  JCd84277  131090908463         21  2019-11-24  160.02          \n",
       "33  JCce2920  131240538461         68  2019-04-16  149.90          \n",
       "34  JCce2920  131240538461         68  2019-04-16  149.90          \n",
       "35  JC2a23e61 131268863704         67  2020-02-24  124.50          \n",
       "36  JCce2920  131240538461         68  2019-04-16  149.90          \n",
       "37  JCcc2b6f  131117955539         44  2019-01-01  147.32          \n",
       "38  JCcba5a7  131139556413         86  2019-01-01  152.00          \n",
       "39  JCdab6fa  131255981015         80  2019-01-13  149.90          \n",
       "40  JCcba5a7  131139556413         86  2019-01-01  152.00          \n",
       "41  JCcc2b6f  131117955539         44  2019-01-01  147.32          \n",
       "42  JCe2ceb6  131281137170         36  2020-03-05  154.94          \n",
       "43  JCe2ceb6  131281137170         36  2020-03-05  154.94          \n",
       "44  JCcc2b6f  131117955539         44  2019-01-01  147.32          \n",
       "45  JCe0ff8a  131209695675         25  2020-03-10  162.56          \n",
       "46  JCe0ff8a  131209695675         25  2020-03-10  162.56          \n",
       "47  JCcc2b6f  131166145514         45  2019-01-01  147.32          \n",
       "48  JCe0ff8a  131209695675         25  2020-03-10  162.56          \n",
       "49  JCcba5a7  131139556413         86  2019-01-01  152.00          \n",
       "50  JCe0ff8a  131209695675         25  2020-03-10  162.56          \n",
       "51  JCdc64cd  131257236159         22  2020-03-31  152.40          \n",
       "52  JCe0ff8a  131206161990         25  2020-03-10  162.56          \n",
       "53  JCce2920  131239120594         68  2019-04-16  149.90          \n",
       "54  JCcc2b6f  131117955539         44  2019-01-01  147.32          \n",
       "55  JCce2920  131239120594         68  2019-04-16  149.90          \n",
       "56  JCe0ff8a  131209695675         25  2020-03-10  162.56          \n",
       "57  JCdba730  131279798635         35  2020-03-31  157.48          \n",
       "58  JCdc64cd  131279631642         23  2020-03-31  152.40          \n",
       "59  JCdc64cd  131279631642         23  2020-03-31  152.40          \n",
       "60  JCce2920  131239120594         68  2019-04-16  149.90          \n",
       "61  JCdc24fa  131237635539         83  2019-01-01  139.70          \n",
       "62  JCe0ff8a  131209695675         25  2020-03-10  162.56          \n",
       "63  JCcc2b6f  131092421099         44  2019-01-01  147.32          \n",
       "64  JCd0500f  131186131047         66  2020-03-31  165.10          \n",
       "65  JCe0ff8a  131209695675         25  2020-03-10  162.56          \n",
       "66  JCcd88f7  131225645539         30  2020-03-31  149.86          \n",
       "67  JCcd88f7  131225645539         30  2020-03-31  149.86          \n",
       "68  JCcd88f7  131277422939         33  2020-03-31  149.86          \n",
       "69  JCdc24fa  131237635539         83  2019-01-01  139.70          \n",
       "70  JCe0ff8a  131206161990         25  2020-03-10  162.56          \n",
       "71  JCce4fbd  131179763273         51  2019-01-01  185.42          \n",
       "72  JCd28213  131236672868         53  2020-03-31  195.58          \n",
       "73  JCe40362  131272125723         34  2020-03-31  187.96          \n",
       "74  JCce4fbd  131179763273         51  2019-01-01  185.42          \n",
       "75  JCdcc1fd  131231087658         70  2019-01-01  168.91          \n",
       "76  JCce4fbd  131179763273         51  2019-01-01  185.42          \n",
       "77  JCda2a71  131263398985         49  2020-03-31  177.80          \n",
       "78  JCe40362  131272125723         34  2020-03-31  187.96          \n",
       "79  JCd99e71  131214625562         49  2019-11-16  193.00          \n",
       "80  JCda2a71  131263398985         49  2020-03-31  177.80          \n",
       "81  JCce4fbd  131179763273         51  2019-01-01  185.42          \n",
       "82  JCda2a71  131263398985         49  2020-03-31  177.80          \n",
       "83  JCe61cfe  131281143011         30  2020-03-13  167.60          \n",
       "84  JCd3ad58  131211637127         41  2019-01-01  177.80          \n",
       "85  JCcc9cf2  131247943088         40  2020-03-31  182.88          \n",
       "86  JCd3ad58  131211637127         41  2019-01-01  177.80          \n",
       "87  JCdcc1fd  131231087658         70  2019-01-01  168.91          \n",
       "88  JCdcc1fd  131231087658         70  2019-01-01  168.91          \n",
       "89  JCdcc1fd  131210841235         70  2019-01-01  168.91          \n",
       "90  JCcc9cf2  131247943088         40  2020-03-31  182.88          \n",
       "91  JCe67df3  131106090339         37  2019-01-01  170.00          \n",
       "92  JCce4fbd  131179763273         51  2019-01-01  185.42          \n",
       "93  JCe36b60  131279779250         69  2020-03-31  175.26          \n",
       "94  JCe36b60  131279779250         69  2020-03-31  175.26          \n",
       "95  JCd28213  131224005264         52  2020-03-31  195.58          \n",
       "96  JCd28213  131224005264         52  2020-03-31  195.58          \n",
       "97  JCcc9cf2  131247943088         40  2020-03-31  182.88          \n",
       "98  JC2a02d79 131267473325         37  2020-03-31  175.26          \n",
       "99  JCe02733  131257060312         35  2020-03-31  180.34          \n",
       "100 JCe67df3  131106090339         37  2019-01-01  170.00          \n",
       "101 JCe01e50  131188059708         86  2020-03-31  177.80          \n",
       "102 JC2a02d79 131267473325         37  2020-03-31  175.26          \n",
       "103 JCe67df3  131106090339         37  2019-01-01  170.00          \n",
       "104 JCe36b60  131266229537         69  2020-03-31  175.26          \n",
       "105 JCd4c260  131281664741         37  2020-02-27  198.12          \n",
       "106 JCcc9cf2  131247943088         40  2020-03-31  182.88          \n",
       "107 JCcc9cf2  131247943088         40  2020-03-31  182.88          \n",
       "108 JCe02733  131252366789         35  2020-03-31  180.34          \n",
       "109 JCcb9b40  131172519842         39  2019-01-01  182.88          \n",
       "110 JCd28213  131216032923         52  2020-03-31  195.58          \n",
       "111 JCe02733  131252366789         35  2020-03-31  180.34          \n",
       "112 JCe36b60  131279779250         69  2020-03-31  175.26          \n",
       "113 JCe188ce  131179394929         40  2019-01-01  187.96          \n",
       "114 JCe02733  131268993393         36  2020-03-31  180.34          \n",
       "115 JCe67df3  131106090339         37  2019-01-01  170.00          \n",
       "116 JCd4c260  131281664741         37  2020-02-27  198.12          \n",
       "117 JCd4c260  131281664741         37  2020-02-27  198.12          \n",
       "118 JCcc9cf2  131247943088         40  2020-03-31  182.88          \n",
       "119 JCd4c260  131281664741         37  2020-02-27  198.12          \n",
       "120 JCd4c260  131281664741         37  2020-02-27  198.12          \n",
       "121 JC2a0784f 131242882845         36  2020-03-05  167.64          \n",
       "122 JCcc9cf2  131247943088         40  2020-03-31  182.88          \n",
       "123 JCe188ce  131179394929         40  2019-01-01  187.96          \n",
       "124 JCcc9cf2  131247943088         40  2020-03-31  182.88          \n",
       "125 JCd7cd74  131075305158         40  2020-03-31  185.42          \n",
       "126 JCd7cd74  131075305158         40  2020-03-31  185.42          \n",
       "127 JCe36b60  131279779250         69  2020-03-31  175.26          \n",
       "128 JCe36b60  131279779250         69  2020-03-31  175.26          \n",
       "129 JCe67df3  131106090339         37  2019-01-01  170.00          \n",
       "130 JCe67df3  131106090339         37  2019-01-01  170.00          \n",
       "131 JCcb9b40  131172519842         39  2019-01-01  182.88          \n",
       "132 JCe67df3  131106090339         37  2019-01-01  170.00          \n",
       "133 JCdcc1fd  131239784374         70  2019-01-01  168.91          \n",
       "134 JCcb9b40  131172519842         39  2019-01-01  182.88          \n",
       "135 JCe67df3  131106090339         37  2019-01-01  170.00          \n",
       "136 JCdcc1fd  131210841235         70  2019-01-01  168.91          \n",
       "137 JCe67df3  131106090339         37  2019-01-01  170.00          \n",
       "138 JCd79c04  131284275359         29  2020-03-31  175.26          \n",
       "139 JCe67df3  131072939462         36  2019-01-01  170.00          \n",
       "140 JCe67df3  131072939462         36  2019-01-01  170.00          \n",
       "141 JCe67df3  131072939462         36  2019-01-01  170.00          \n",
       "142 JCe67df3  131072939462         36  2019-01-01  170.00          \n",
       "143 JCe67df3  131072939462         36  2019-01-01  170.00          \n",
       "144 JCdcc1fd  131239784374         70  2019-01-01  168.91          \n",
       "145 JCe36b60  131266229537         69  2020-03-31  175.26          \n",
       "146 JCd79c04  131284275359         29  2020-03-31  175.26          \n",
       "147 JCe67df3  131106090339         37  2019-01-01  170.00          \n",
       "148 JCe36b60  131279779250         69  2020-03-31  175.26          \n",
       "149 JCe67df3  131084284228         37  2019-01-01  170.00          \n",
       "150 JCe67df3  131106090339         37  2019-01-01  170.00          \n",
       "151 JCe48b36  131255596987         68  2019-12-19  190.50          \n",
       "152 JCe67df3  131106090339         37  2019-01-01  170.00          \n",
       "153 JCe67df3  131091796152         37  2019-01-01  170.00          \n",
       "154 JCd473c6  131287076413         31  2020-03-31  162.56          \n",
       "155 JCd473c6  131281585175         31  2020-03-31  162.56          \n",
       "156 JCd473c6  131281585175         31  2020-03-31  162.56          \n",
       "157 JCe8a3e5  131251139412         79  2019-01-01  177.80          \n",
       "158 JCe67df3  131106090339         37  2019-01-01  170.00          \n",
       "159 JCe67df3  131106090339         37  2019-01-01  170.00          \n",
       "160 JCd473c6  131281585175         31  2020-03-31  162.56          \n",
       "161 JCd473c6  131281585175         31  2020-03-31  162.56          \n",
       "162 JCe9ddd4  131281150620         36  2020-03-31  172.72          \n",
       "163 JCd473c6  131281585175         31  2020-03-31  162.56          \n",
       "164 JCceb47b  131250176231         31  2020-03-31  187.96          \n",
       "165 JCceb47b  131250176231         31  2020-03-31  187.96          \n",
       "166 JCd473c6  131287076413         31  2020-03-31  162.56          \n",
       "167 JCd473c6  131287076413         31  2020-03-31  162.56          \n",
       "168 JCd473c6  131287076413         31  2020-03-31  162.56          \n",
       "169 JCd262e1  131081523555         63  2020-02-24  152.40          \n",
       "170 JCceb47b  131250176231         31  2020-03-31  187.96          \n",
       "171 JCd473c6  131287076413         31  2020-03-31  162.56          \n",
       "172 JCe08adf  131238068042         46  2019-01-01  157.48          \n",
       "    recent_weight_kg admit_time          recorded_time             Weight  \n",
       "1    61.23           2015-03-29 20:11:00 2015-03-29 23:28:00+00:00     2.33\n",
       "2     0.10           2016-02-02 21:38:00 2016-02-08 15:28:00+00:00     3.45\n",
       "3    97.60           2019-09-21 04:25:00 2019-09-21 12:17:00+00:00    17.64\n",
       "4    82.10           2019-11-11 23:44:00 2019-11-12 01:30:00+00:00    28.23\n",
       "5    47.94           2017-02-21 20:25:00 2017-02-23 04:12:00+00:00   172.80\n",
       "6    51.70           2015-12-28 05:49:00 2015-12-28 06:45:00+00:00   192.00\n",
       "7    62.10           2019-10-12 23:06:00 2019-10-18 20:14:00+00:00   204.59\n",
       "8    70.00           2016-08-16 22:25:00 2016-08-16 22:07:00+00:00   208.00\n",
       "9    68.00           2019-01-18 13:56:00 2019-01-18 07:57:00+00:00   215.17\n",
       "10   53.57           2015-12-23 06:03:00 2015-12-23 09:00:00+00:00   222.22\n",
       "11   65.50           2017-07-02 07:02:00 2017-07-07 16:30:00+00:00   236.33\n",
       "12   52.30           2016-05-06 23:38:00 2016-05-09 16:00:00+00:00   261.02\n",
       "13  115.67           2015-08-07 13:29:00 2015-08-07 13:30:00+00:00   275.13\n",
       "14   80.60           2018-06-09 06:07:00 2018-06-09 03:35:00+00:00   288.00\n",
       "15   85.70           2017-07-13 01:02:00 2017-07-14 22:03:00+00:00   303.35\n",
       "16  127.27           2018-06-18 10:28:00 2018-06-18 05:42:00+00:00   320.00\n",
       "17   51.20           2018-10-06 19:47:00 2018-10-15 13:12:00+00:00   324.52\n",
       "18  129.10           2015-09-29 10:36:00 2015-09-30 05:00:00+00:00   432.00\n",
       "19   96.16           2016-06-30 04:22:00 2016-06-30 05:10:00+00:00   617.60\n",
       "20  100.70           2016-05-07 05:10:00 2016-05-08 20:47:00+00:00   640.00\n",
       "21   53.20           2016-12-16 07:22:00 2016-12-16 16:14:00+00:00   701.94\n",
       "22   50.53           2015-06-11 09:28:00 2015-06-11 09:22:00+00:00   710.40\n",
       "23   20.50           2018-07-10 03:29:00 2018-07-09 21:24:00+00:00   720.00\n",
       "24   20.50           2019-06-16 15:36:00 2019-06-16 17:58:00+00:00   751.33\n",
       "25   55.60           2018-09-03 20:20:00 2018-09-06 06:00:00+00:00   789.42\n",
       "26   44.75           2017-01-19 12:16:00 2017-01-19 03:33:00+00:00   790.40\n",
       "27   38.56           2019-06-17 05:31:00 2019-06-18 23:30:00+00:00   804.24\n",
       "28   57.90           2017-01-17 00:30:00 2017-01-17 04:00:00+00:00   840.00\n",
       "29   27.00           2015-10-31 00:41:00 2015-10-30 19:27:00+00:00   848.01\n",
       "30   38.56           2019-06-17 05:31:00 2019-06-20 17:03:00+00:00   853.62\n",
       "31   27.00           2015-10-31 00:41:00 2015-11-03 15:45:00+00:00   856.00\n",
       "32   43.00           2015-05-22 07:01:00 2015-05-22 15:21:00+00:00   871.26\n",
       "33   29.50           2017-11-27 05:12:00 2017-11-27 15:43:00+00:00   881.84\n",
       "34   29.50           2017-11-27 05:12:00 2017-11-27 07:09:00+00:00   888.00\n",
       "35   38.56           2019-06-17 05:31:00 2019-06-19 23:02:00+00:00   888.89\n",
       "36   29.50           2017-11-27 05:12:00 2017-11-28 15:13:00+00:00   899.48\n",
       "37   26.58           2015-08-27 14:42:00 2015-08-27 14:49:00+00:00   903.00\n",
       "38   27.00           2015-10-31 00:41:00 2015-10-31 14:54:00+00:00   910.40\n",
       "39   57.38           2018-09-11 03:14:00 2018-09-16 04:00:00+00:00   910.41\n",
       "40   27.00           2015-10-31 00:41:00 2015-11-01 17:00:00+00:00   917.11\n",
       "41   26.58           2015-08-27 14:42:00 2015-08-28 11:25:00+00:00   917.11\n",
       "42   28.21           2019-12-11 21:46:00 2019-12-12 18:00:00+00:00   917.11\n",
       "43   28.21           2019-12-11 21:46:00 2019-12-11 18:45:00+00:00   917.11\n",
       "44   26.58           2015-08-27 14:42:00 2015-08-28 12:31:00+00:00   927.70\n",
       "45   32.66           2016-11-27 05:33:00 2016-11-28 16:57:00+00:00   929.60\n",
       "46   32.66           2016-11-27 05:33:00 2016-11-27 16:40:00+00:00   931.20\n",
       "47   26.58           2015-12-07 04:26:00 2015-12-07 07:00:00+00:00   937.60\n",
       "48   32.66           2016-11-27 05:33:00 2016-11-27 01:55:00+00:00   952.39\n",
       "49   27.00           2015-10-31 00:41:00 2015-11-02 18:30:00+00:00   953.60\n",
       "50   32.66           2016-11-27 05:33:00 2016-11-29 19:00:00+00:00   955.91\n",
       "51   28.95           2018-09-04 06:52:00 2018-09-06 01:13:00+00:00   959.44\n",
       "52   32.66           2016-10-29 11:56:00 2016-10-29 10:13:00+00:00   959.44\n",
       "53   29.50           2017-10-21 13:01:00 2017-10-21 08:49:00+00:00   960.00\n",
       "54   26.58           2015-08-27 14:42:00 2015-08-27 07:19:00+00:00   960.01\n",
       "55   29.50           2017-10-21 13:01:00 2017-10-22 14:00:00+00:00   960.01\n",
       "56   32.66           2016-11-27 05:33:00 2016-11-30 17:00:00+00:00   966.50\n",
       "57   31.20           2019-11-22 05:03:00 2019-12-18 01:23:00+00:00   971.52\n",
       "58   28.95           2019-11-12 23:18:00 2019-11-13 17:00:00+00:00   973.55\n",
       "59   28.95           2019-11-12 23:18:00 2019-11-12 21:03:00+00:00   973.55\n",
       "60   29.50           2017-10-21 13:01:00 2017-10-22 20:38:00+00:00   977.08\n",
       "61   33.79           2017-07-25 06:11:00 2017-07-26 19:29:00+00:00   980.61\n",
       "62   32.66           2016-11-27 05:33:00 2016-11-29 18:43:00+00:00   984.13\n",
       "63   26.58           2015-06-06 04:59:00 2015-06-06 04:52:00+00:00   987.66\n",
       "64  123.20           2016-05-22 07:10:00 2016-05-22 07:43:00+00:00   987.66\n",
       "65   32.66           2016-11-27 05:33:00 2016-12-01 17:47:00+00:00   987.66\n",
       "66   26.76           2017-03-21 02:40:00 2017-03-20 23:48:00+00:00   989.92\n",
       "67   26.76           2017-03-21 02:40:00 2017-03-21 10:00:00+00:00   989.92\n",
       "68   26.76           2019-09-15 15:56:00 2019-09-14 23:58:00+00:00   992.00\n",
       "69   33.79           2017-07-25 06:11:00 2017-07-27 12:11:00+00:00   994.72\n",
       "70   32.66           2016-10-29 11:56:00 2016-10-31 16:15:00+00:00   998.24\n",
       "71  158.76           2016-02-04 10:46:00 2016-02-08 16:54:00+00:00  8000.05\n",
       "72  174.18           2017-07-01 08:00:00 2017-07-01 15:00:00+00:00  8014.16\n",
       "73  224.71           2019-07-16 02:47:00 2019-07-16 03:49:00+00:00  8014.16\n",
       "74  158.76           2016-02-04 10:46:00 2016-02-07 17:04:00+00:00  8017.69\n",
       "75  245.00           2017-06-16 05:38:00 2017-06-20 19:24:00+00:00  8030.40\n",
       "76  158.76           2016-02-04 10:46:00 2016-02-05 03:19:00+00:00  8032.00\n",
       "77  232.69           2019-03-13 09:51:00 2019-03-14 02:45:00+00:00  8042.38\n",
       "78  224.71           2019-07-16 02:47:00 2019-07-16 00:57:00+00:00  8042.38\n",
       "79  220.80           2017-01-25 05:52:00 2017-01-26 16:11:00+00:00  8056.49\n",
       "80  232.69           2019-03-13 09:51:00 2019-03-13 09:55:00+00:00  8064.00\n",
       "81  158.76           2016-02-04 10:46:00 2016-02-06 17:24:00+00:00  8067.07\n",
       "82  232.69           2019-03-13 09:51:00 2019-03-14 19:03:00+00:00  8074.13\n",
       "83  188.00           2020-01-09 13:56:00 2020-01-09 12:23:00+00:00  8077.65\n",
       "84  198.50           2017-01-23 23:37:00 2017-01-24 01:31:00+00:00  8091.20\n",
       "85  207.34           2018-02-17 06:25:00 2018-02-22 16:58:00+00:00  8109.40\n",
       "86  198.50           2017-01-23 23:37:00 2017-01-24 01:01:00+00:00  8144.00\n",
       "87  245.00           2017-06-16 05:38:00 2017-06-16 01:01:00+00:00  8148.20\n",
       "88  245.00           2017-06-16 05:38:00 2017-06-16 23:14:00+00:00  8148.20\n",
       "89  245.00           2017-01-06 02:54:00 2017-01-09 23:22:00+00:00  8192.00\n",
       "90  207.34           2018-02-17 06:25:00 2018-02-21 13:59:00+00:00  8194.06\n",
       "91  210.01           2015-09-08 05:20:00 2015-12-12 06:46:00+00:00  8218.75\n",
       "92  158.76           2016-02-04 10:46:00 2016-02-04 20:24:00+00:00  8220.80\n",
       "93  199.13           2019-12-20 07:01:00 2019-12-22 12:11:00+00:00  8224.00\n",
       "94  199.13           2019-12-20 07:01:00 2019-12-23 13:35:00+00:00  8224.00\n",
       "95  174.18           2017-03-08 10:19:00 2017-03-10 15:46:00+00:00  8246.97\n",
       "96  174.18           2017-03-08 10:19:00 2017-03-08 18:22:00+00:00  8249.44\n",
       "97  207.34           2018-02-17 06:25:00 2018-02-20 18:20:00+00:00  8278.71\n",
       "98  211.00           2019-06-05 11:41:00 2019-06-06 12:45:00+00:00  8317.51\n",
       "99  209.11           2018-10-11 10:09:00 2018-10-11 07:44:00+00:00  8320.00\n",
       "100 210.01           2015-09-08 05:20:00 2015-10-06 08:00:00+00:00  8320.00\n",
       "101  97.98           2016-05-25 02:49:00 2016-05-25 06:45:00+00:00  8324.57\n",
       "102 211.00           2019-06-05 11:41:00 2019-06-06 00:32:00+00:00  8359.84\n",
       "103 210.01           2015-09-08 05:20:00 2015-11-15 22:30:00+00:00  8368.00\n",
       "104 199.13           2019-05-02 20:39:00 2019-05-03 02:00:00+00:00  8395.12\n",
       "105 243.00           2019-12-17 02:52:00 2019-12-16 23:16:00+00:00  8400.00\n",
       "106 207.34           2018-02-17 06:25:00 2018-02-19 13:56:00+00:00  8426.86\n",
       "107 207.34           2018-02-17 06:25:00 2018-02-19 18:06:00+00:00  8430.39\n",
       "108 209.11           2018-07-15 22:53:00 2018-07-15 18:11:00+00:00  8476.25\n",
       "109 260.50           2016-01-07 10:19:00 2016-01-08 16:27:00+00:00  8486.83\n",
       "110 174.18           2017-01-09 04:42:00 2017-01-13 19:21:00+00:00  8500.94\n",
       "111 209.11           2018-07-15 22:53:00 2018-07-17 17:30:00+00:00  8507.99\n",
       "112 199.13           2019-12-20 07:01:00 2019-12-21 14:00:00+00:00  8512.00\n",
       "113 219.40           2016-03-17 07:04:00 2016-03-17 10:51:00+00:00  8532.68\n",
       "114 209.11           2019-07-06 09:43:00 2019-07-06 06:52:00+00:00  8536.21\n",
       "115 210.01           2015-09-08 05:20:00 2015-10-04 15:18:00+00:00  8560.00\n",
       "116 243.00           2019-12-17 02:52:00 2019-12-18 14:15:00+00:00  8571.48\n",
       "117 243.00           2019-12-17 02:52:00 2019-12-19 14:31:00+00:00  8571.48\n",
       "118 207.34           2018-02-17 06:25:00 2018-02-18 12:58:00+00:00  8578.54\n",
       "119 243.00           2019-12-17 02:52:00 2019-12-17 06:40:00+00:00  8606.76\n",
       "120 243.00           2019-12-17 02:52:00 2019-12-17 14:00:00+00:00  8606.76\n",
       "121 232.10           2017-12-12 14:17:00 2017-12-12 06:37:00+00:00  8640.00\n",
       "122 207.34           2018-02-17 06:25:00 2018-02-18 01:00:00+00:00  8687.89\n",
       "123 219.40           2016-03-17 07:04:00 2016-03-17 05:24:00+00:00  8712.58\n",
       "124 207.34           2018-02-17 06:25:00 2018-02-17 06:30:00+00:00  8786.65\n",
       "125 190.51           2015-02-11 13:52:00 2015-02-11 20:56:00+00:00  8799.99\n",
       "126 190.51           2015-02-11 13:52:00 2015-02-11 10:30:00+00:00  8800.00\n",
       "127 199.13           2019-12-20 07:01:00 2019-12-20 08:35:00+00:00  8832.00\n",
       "128 199.13           2019-12-20 07:01:00 2019-12-24 12:16:00+00:00  8880.00\n",
       "129 210.01           2015-09-08 05:20:00 2015-10-23 20:30:00+00:00  8944.00\n",
       "130 210.01           2015-09-08 05:20:00 2015-09-16 11:00:00+00:00  8960.00\n",
       "131 260.50           2016-01-07 10:19:00 2016-01-09 16:29:00+00:00  8977.13\n",
       "132 210.01           2015-09-08 05:20:00 2015-09-30 23:00:00+00:00  9119.64\n",
       "133 245.00           2017-11-01 03:41:00 2017-11-05 19:04:00+00:00  9216.00\n",
       "134 260.50           2016-01-07 10:19:00 2016-01-08 08:13:00+00:00  9241.68\n",
       "135 210.01           2015-09-08 05:20:00 2015-12-17 16:34:00+00:00  9248.00\n",
       "136 245.00           2017-01-06 02:54:00 2017-01-06 01:00:00+00:00  9276.96\n",
       "137 210.01           2015-09-08 05:20:00 2015-12-21 19:00:00+00:00  9276.96\n",
       "138 273.06           2020-03-11 09:42:00 2020-03-12 03:10:00+00:00  9280.00\n",
       "139 210.01           2015-03-13 10:19:00 2015-03-21 18:00:00+00:00  9344.00\n",
       "140 210.01           2015-03-13 10:19:00 2015-03-26 00:00:00+00:00  9347.50\n",
       "141 210.01           2015-03-13 10:19:00 2015-03-13 03:03:00+00:00  9382.78\n",
       "142 210.01           2015-03-13 10:19:00 2015-03-14 23:37:00+00:00  9418.05\n",
       "143 210.01           2015-03-13 10:19:00 2015-03-14 12:00:00+00:00  9440.00\n",
       "144 245.00           2017-11-01 03:41:00 2017-11-05 08:00:00+00:00  9584.00\n",
       "145 199.13           2019-05-02 20:39:00 2019-05-02 19:12:00+00:00  9600.00\n",
       "146 273.06           2020-03-11 09:42:00 2020-03-18 18:50:00+00:00  9636.75\n",
       "147 210.01           2015-09-08 05:20:00 2015-09-08 07:00:00+00:00  9700.24\n",
       "148 199.13           2019-12-20 07:01:00 2019-12-25 15:00:00+00:00  9770.79\n",
       "149 210.01           2015-05-27 01:49:00 2015-05-26 20:01:00+00:00  9816.64\n",
       "150 210.01           2015-09-08 05:20:00 2015-11-02 05:00:00+00:00  9824.00\n",
       "151 117.75           2018-08-31 02:54:00 2018-08-31 00:46:00+00:00  9920.00\n",
       "152 210.01           2015-09-08 05:20:00 2015-11-05 14:00:00+00:00  9920.00\n",
       "153 210.01           2015-07-18 09:23:00 2015-07-19 18:53:00+00:00 10192.00\n",
       "154 320.69           2020-03-07 11:46:00 2020-03-07 09:16:00+00:00 10224.00\n",
       "155 320.69           2019-12-10 23:52:00 2019-12-14 14:42:00+00:00 10272.00\n",
       "156 320.69           2019-12-10 23:52:00 2019-12-13 12:21:00+00:00 10432.00\n",
       "157 131.90           2018-04-29 04:07:00 2018-05-07 12:00:00+00:00 10553.86\n",
       "158 210.01           2015-09-08 05:20:00 2015-09-08 11:00:00+00:00 10576.00\n",
       "159 210.01           2015-09-08 05:20:00 2015-09-09 19:00:00+00:00 10576.01\n",
       "160 320.69           2019-12-10 23:52:00 2019-12-12 11:30:00+00:00 10624.00\n",
       "161 320.69           2019-12-10 23:52:00 2019-12-11 14:39:00+00:00 10640.00\n",
       "162 144.50           2020-01-28 23:48:00 2020-02-06 17:35:00+00:00 10994.78\n",
       "163 320.69           2019-12-10 23:52:00 2019-12-10 23:30:00+00:00 11005.36\n",
       "164 317.51           2018-05-17 16:16:00 2018-05-17 13:14:00+00:00 11199.37\n",
       "165 317.51           2018-05-17 16:16:00 2018-05-25 15:26:00+00:00 11200.00\n",
       "166 320.69           2020-03-07 11:46:00 2020-03-11 12:53:00+00:00 11312.00\n",
       "167 320.69           2020-03-07 11:46:00 2020-03-09 20:00:00+00:00 11392.00\n",
       "168 320.69           2020-03-07 11:46:00 2020-03-10 11:40:00+00:00 11396.90\n",
       "169 122.70           2015-03-09 11:02:00 2015-03-09 11:18:00+00:00 11587.38\n",
       "170 317.51           2018-05-17 16:16:00 2018-05-18 06:00:00+00:00 12024.77\n",
       "171 320.69           2020-03-07 11:46:00 2020-03-09 12:00:00+00:00 12381.03\n",
       "172  64.20           2017-09-28 23:02:00 2017-10-19 21:00:00+00:00 22046.00\n",
       "    Wfsdmdif dmfsdif\n",
       "1    61.16   1374   \n",
       "2     0.00   1058   \n",
       "3    97.10     69   \n",
       "4    81.30     64   \n",
       "5    43.04    677   \n",
       "6    46.26   1100   \n",
       "7    56.30    132   \n",
       "8    64.10    868   \n",
       "9    61.90    438   \n",
       "10   47.27   1560   \n",
       "11   58.80    812   \n",
       "12   44.90   1420   \n",
       "13  107.87   1491   \n",
       "14   72.44    206   \n",
       "15   77.10    991   \n",
       "16  118.20    312   \n",
       "17   42.00    184   \n",
       "18  116.85   1189   \n",
       "19   78.65   1370   \n",
       "20   82.56   1391   \n",
       "21   33.30    746   \n",
       "22   30.39   1300   \n",
       "23    0.09    610   \n",
       "24    0.80    268   \n",
       "25   33.22    117   \n",
       "26   22.34   1167   \n",
       "27   15.76    251   \n",
       "28   34.09    714   \n",
       "29    2.96   1159   \n",
       "30   14.36    249   \n",
       "31    2.73   1155   \n",
       "32   18.30   1647   \n",
       "33    4.50    505   \n",
       "34    4.33    505   \n",
       "35   13.36    250   \n",
       "36    4.00    504   \n",
       "37    0.98   1223   \n",
       "38    1.19   1158   \n",
       "39   31.57    119   \n",
       "40    1.00   1157   \n",
       "41    0.58   1222   \n",
       "42    2.21     84   \n",
       "43    2.21     85   \n",
       "44    0.28   1222   \n",
       "45    6.31   1198   \n",
       "46    6.26   1199   \n",
       "47    0.00   1121   \n",
       "48    5.66   1199   \n",
       "49    0.03   1156   \n",
       "50    5.56   1197   \n",
       "51    1.75    572   \n",
       "52    5.46   1228   \n",
       "53    2.28    542   \n",
       "54    0.64   1223   \n",
       "55    2.28    541   \n",
       "56    5.26   1196   \n",
       "57    3.66    104   \n",
       "58    1.35    139   \n",
       "59    1.35    140   \n",
       "60    1.80    541   \n",
       "61    5.99    524   \n",
       "62    4.76   1197   \n",
       "63    1.42   1305   \n",
       "64   95.20   1409   \n",
       "65    4.66   1195   \n",
       "66    1.30   1107   \n",
       "67    1.30   1106   \n",
       "68    1.36    199   \n",
       "69    5.59    523   \n",
       "70    4.36   1226   \n",
       "71   68.04   1058   \n",
       "72   53.02   1004   \n",
       "73    2.49    259   \n",
       "74   68.54   1059   \n",
       "75   17.34    560   \n",
       "76   68.95   1061   \n",
       "77    4.69    383   \n",
       "78    3.29    259   \n",
       "79    7.60   1024   \n",
       "80    4.08    384   \n",
       "81   69.94   1060   \n",
       "82    3.79    383   \n",
       "83   41.00     64   \n",
       "84   30.89    707   \n",
       "85   22.56    768   \n",
       "86   32.38    707   \n",
       "87   14.00    564   \n",
       "88   14.00    564   \n",
       "89   12.76    722   \n",
       "90   24.96    769   \n",
       "91   22.99   1116   \n",
       "92   74.30   1062   \n",
       "93   34.02    100   \n",
       "94   34.02     99   \n",
       "95   59.62   1117   \n",
       "96   59.69   1119   \n",
       "97   27.36    770   \n",
       "98   24.80    299   \n",
       "99   26.76    537   \n",
       "100  25.86   1183   \n",
       "101 138.02   1406   \n",
       "102  26.00    299   \n",
       "103  27.22   1143   \n",
       "104  38.87    333   \n",
       "105   4.86     73   \n",
       "106  31.56    771   \n",
       "107  31.66    771   \n",
       "108  31.19    625   \n",
       "109  19.90   1089   \n",
       "110  66.82   1173   \n",
       "111  32.09    623   \n",
       "112  42.19    101   \n",
       "113  22.50   1020   \n",
       "114  32.89    269   \n",
       "115  32.67   1185   \n",
       "116   0.00     71   \n",
       "117   0.00     70   \n",
       "118  35.86    772   \n",
       "119   1.00     72   \n",
       "120   1.00     72   \n",
       "121  12.84    814   \n",
       "122  38.96    772   \n",
       "123  27.60   1020   \n",
       "124  41.76    773   \n",
       "125  58.97   1875   \n",
       "126  58.97   1875   \n",
       "127  51.26    102   \n",
       "128  52.62     98   \n",
       "129  43.55   1166   \n",
       "130  44.01   1203   \n",
       "131   6.00   1088   \n",
       "132  48.53   1189   \n",
       "133  16.27    422   \n",
       "134   1.50   1089   \n",
       "135  52.17   1111   \n",
       "136  18.00    725   \n",
       "137  52.99   1107   \n",
       "138   9.97     19   \n",
       "139  54.89   1382   \n",
       "140  54.99   1377   \n",
       "141  55.99   1390   \n",
       "142  56.99   1389   \n",
       "143  57.61   1389   \n",
       "144  26.71    422   \n",
       "145  73.03    334   \n",
       "146   0.14     13   \n",
       "147  64.99   1211   \n",
       "148  77.87     97   \n",
       "149  68.29   1316   \n",
       "150  68.50   1156   \n",
       "151 163.48    475   \n",
       "152  71.22   1153   \n",
       "153  78.93   1262   \n",
       "154  30.84     24   \n",
       "155  29.48    108   \n",
       "156  24.94    109   \n",
       "157 167.30    239   \n",
       "158  89.82   1211   \n",
       "159  89.82   1210   \n",
       "160  19.50    110   \n",
       "161  19.05    111   \n",
       "162 167.20     54   \n",
       "163   8.69    112   \n",
       "164   0.01    684   \n",
       "165   0.01    676   \n",
       "166   0.01     20   \n",
       "167   2.27     22   \n",
       "168   2.41     21   \n",
       "169 205.80   1813   \n",
       "170  23.39    683   \n",
       "171  30.31     22   \n",
       "172 560.80    439   "
      ]
     },
     "metadata": {},
     "output_type": "display_data"
    }
   ],
   "source": [
    "errorW %>% select(anon_id, pat_enc_csn_id_coded, age, recent_date, recent_height_cm, recent_weight_kg, \n",
    "                  admit_time, recorded_time, Weight, Wfsdmdif, dmfsdif) %>% arrange(Weight)"
   ]
  },
  {
   "cell_type": "code",
   "execution_count": 28,
   "metadata": {},
   "outputs": [
    {
     "data": {
      "text/html": [
       "28"
      ],
      "text/latex": [
       "28"
      ],
      "text/markdown": [
       "28"
      ],
      "text/plain": [
       "[1] 28"
      ]
     },
     "metadata": {},
     "output_type": "display_data"
    },
    {
     "data": {
      "text/html": [
       "<table>\n",
       "<caption>A grouped_df: 134 × 10</caption>\n",
       "<thead>\n",
       "\t<tr><th scope=col>anon_id</th><th scope=col>pat_enc_csn_id_coded</th><th scope=col>age</th><th scope=col>recent_date</th><th scope=col>recent_height_cm</th><th scope=col>recent_weight_kg</th><th scope=col>admit_time</th><th scope=col>recorded_time</th><th scope=col>Weight</th><th scope=col>nWe</th></tr>\n",
       "\t<tr><th scope=col>&lt;chr&gt;</th><th scope=col>&lt;dbl&gt;</th><th scope=col>&lt;int&gt;</th><th scope=col>&lt;chr&gt;</th><th scope=col>&lt;dbl&gt;</th><th scope=col>&lt;dbl&gt;</th><th scope=col>&lt;chr&gt;</th><th scope=col>&lt;chr&gt;</th><th scope=col>&lt;dbl&gt;</th><th scope=col>&lt;int&gt;</th></tr>\n",
       "</thead>\n",
       "<tbody>\n",
       "\t<tr><td>JC2a02d79</td><td>131267473325</td><td>37</td><td>2020-03-31</td><td>175.26</td><td>211.00</td><td>2019-06-05 11:41:00</td><td>2019-06-06 00:32:00+00:00</td><td> 8359.84</td><td>16</td></tr>\n",
       "\t<tr><td>JC2a02d79</td><td>131267473325</td><td>37</td><td>2020-03-31</td><td>175.26</td><td>211.00</td><td>2019-06-05 11:41:00</td><td>2019-06-06 12:45:00+00:00</td><td> 8317.51</td><td>16</td></tr>\n",
       "\t<tr><td>JC2a23e61</td><td>131268863704</td><td>67</td><td>2020-02-24</td><td>124.50</td><td> 38.56</td><td>2019-06-17 05:31:00</td><td>2019-06-18 23:30:00+00:00</td><td>  804.24</td><td> 5</td></tr>\n",
       "\t<tr><td>JC2a23e61</td><td>131268863704</td><td>67</td><td>2020-02-24</td><td>124.50</td><td> 38.56</td><td>2019-06-17 05:31:00</td><td>2019-06-19 23:02:00+00:00</td><td>  888.89</td><td> 5</td></tr>\n",
       "\t<tr><td>JC2a23e61</td><td>131268863704</td><td>67</td><td>2020-02-24</td><td>124.50</td><td> 38.56</td><td>2019-06-17 05:31:00</td><td>2019-06-20 17:03:00+00:00</td><td>  853.62</td><td> 5</td></tr>\n",
       "\t<tr><td>JCcb9b40 </td><td>131172519842</td><td>39</td><td>2019-01-01</td><td>182.88</td><td>260.50</td><td>2016-01-07 10:19:00</td><td>2016-01-08 08:13:00+00:00</td><td> 9241.68</td><td> 4</td></tr>\n",
       "\t<tr><td>JCcb9b40 </td><td>131172519842</td><td>39</td><td>2019-01-01</td><td>182.88</td><td>260.50</td><td>2016-01-07 10:19:00</td><td>2016-01-08 16:27:00+00:00</td><td> 8486.83</td><td> 4</td></tr>\n",
       "\t<tr><td>JCcb9b40 </td><td>131172519842</td><td>39</td><td>2019-01-01</td><td>182.88</td><td>260.50</td><td>2016-01-07 10:19:00</td><td>2016-01-09 16:29:00+00:00</td><td> 8977.13</td><td> 4</td></tr>\n",
       "\t<tr><td>JCcba5a7 </td><td>131139556413</td><td>86</td><td>2019-01-01</td><td>152.00</td><td> 27.00</td><td>2015-10-31 00:41:00</td><td>2015-10-30 19:27:00+00:00</td><td>  848.01</td><td> 5</td></tr>\n",
       "\t<tr><td>JCcba5a7 </td><td>131139556413</td><td>86</td><td>2019-01-01</td><td>152.00</td><td> 27.00</td><td>2015-10-31 00:41:00</td><td>2015-10-31 14:54:00+00:00</td><td>  910.40</td><td> 5</td></tr>\n",
       "\t<tr><td>JCcba5a7 </td><td>131139556413</td><td>86</td><td>2019-01-01</td><td>152.00</td><td> 27.00</td><td>2015-10-31 00:41:00</td><td>2015-11-01 17:00:00+00:00</td><td>  917.11</td><td> 5</td></tr>\n",
       "\t<tr><td>JCcba5a7 </td><td>131139556413</td><td>86</td><td>2019-01-01</td><td>152.00</td><td> 27.00</td><td>2015-10-31 00:41:00</td><td>2015-11-02 18:30:00+00:00</td><td>  953.60</td><td> 5</td></tr>\n",
       "\t<tr><td>JCcba5a7 </td><td>131139556413</td><td>86</td><td>2019-01-01</td><td>152.00</td><td> 27.00</td><td>2015-10-31 00:41:00</td><td>2015-11-03 15:45:00+00:00</td><td>  856.00</td><td> 5</td></tr>\n",
       "\t<tr><td>JCcc2b6f </td><td>131092421099</td><td>44</td><td>2019-01-01</td><td>147.32</td><td> 26.58</td><td>2015-06-06 04:59:00</td><td>2015-06-06 04:52:00+00:00</td><td>  987.66</td><td> 4</td></tr>\n",
       "\t<tr><td>JCcc2b6f </td><td>131117955539</td><td>44</td><td>2019-01-01</td><td>147.32</td><td> 26.58</td><td>2015-08-27 14:42:00</td><td>2015-08-27 07:19:00+00:00</td><td>  960.01</td><td> 4</td></tr>\n",
       "\t<tr><td>JCcc2b6f </td><td>131117955539</td><td>44</td><td>2019-01-01</td><td>147.32</td><td> 26.58</td><td>2015-08-27 14:42:00</td><td>2015-08-27 14:49:00+00:00</td><td>  903.00</td><td> 4</td></tr>\n",
       "\t<tr><td>JCcc2b6f </td><td>131117955539</td><td>44</td><td>2019-01-01</td><td>147.32</td><td> 26.58</td><td>2015-08-27 14:42:00</td><td>2015-08-28 11:25:00+00:00</td><td>  917.11</td><td> 4</td></tr>\n",
       "\t<tr><td>JCcc2b6f </td><td>131117955539</td><td>44</td><td>2019-01-01</td><td>147.32</td><td> 26.58</td><td>2015-08-27 14:42:00</td><td>2015-08-28 12:31:00+00:00</td><td>  927.70</td><td> 4</td></tr>\n",
       "\t<tr><td>JCcc2b6f </td><td>131166145514</td><td>45</td><td>2019-01-01</td><td>147.32</td><td> 26.58</td><td>2015-12-07 04:26:00</td><td>2015-12-07 07:00:00+00:00</td><td>  937.60</td><td> 1</td></tr>\n",
       "\t<tr><td>JCcc9cf2 </td><td>131247943088</td><td>40</td><td>2020-03-31</td><td>182.88</td><td>207.34</td><td>2018-02-17 06:25:00</td><td>2018-02-17 06:30:00+00:00</td><td> 8786.65</td><td> 8</td></tr>\n",
       "\t<tr><td>JCcc9cf2 </td><td>131247943088</td><td>40</td><td>2020-03-31</td><td>182.88</td><td>207.34</td><td>2018-02-17 06:25:00</td><td>2018-02-18 01:00:00+00:00</td><td> 8687.89</td><td> 8</td></tr>\n",
       "\t<tr><td>JCcc9cf2 </td><td>131247943088</td><td>40</td><td>2020-03-31</td><td>182.88</td><td>207.34</td><td>2018-02-17 06:25:00</td><td>2018-02-18 12:58:00+00:00</td><td> 8578.54</td><td> 8</td></tr>\n",
       "\t<tr><td>JCcc9cf2 </td><td>131247943088</td><td>40</td><td>2020-03-31</td><td>182.88</td><td>207.34</td><td>2018-02-17 06:25:00</td><td>2018-02-19 13:56:00+00:00</td><td> 8426.86</td><td> 8</td></tr>\n",
       "\t<tr><td>JCcc9cf2 </td><td>131247943088</td><td>40</td><td>2020-03-31</td><td>182.88</td><td>207.34</td><td>2018-02-17 06:25:00</td><td>2018-02-19 18:06:00+00:00</td><td> 8430.39</td><td> 8</td></tr>\n",
       "\t<tr><td>JCcc9cf2 </td><td>131247943088</td><td>40</td><td>2020-03-31</td><td>182.88</td><td>207.34</td><td>2018-02-17 06:25:00</td><td>2018-02-20 18:20:00+00:00</td><td> 8278.71</td><td> 8</td></tr>\n",
       "\t<tr><td>JCcc9cf2 </td><td>131247943088</td><td>40</td><td>2020-03-31</td><td>182.88</td><td>207.34</td><td>2018-02-17 06:25:00</td><td>2018-02-21 13:59:00+00:00</td><td> 8194.06</td><td> 8</td></tr>\n",
       "\t<tr><td>JCcc9cf2 </td><td>131247943088</td><td>40</td><td>2020-03-31</td><td>182.88</td><td>207.34</td><td>2018-02-17 06:25:00</td><td>2018-02-22 16:58:00+00:00</td><td> 8109.40</td><td> 8</td></tr>\n",
       "\t<tr><td>JCcd88f7 </td><td>131225645539</td><td>30</td><td>2020-03-31</td><td>149.86</td><td> 26.76</td><td>2017-03-21 02:40:00</td><td>2017-03-20 23:48:00+00:00</td><td>  989.92</td><td> 2</td></tr>\n",
       "\t<tr><td>JCcd88f7 </td><td>131225645539</td><td>30</td><td>2020-03-31</td><td>149.86</td><td> 26.76</td><td>2017-03-21 02:40:00</td><td>2017-03-21 10:00:00+00:00</td><td>  989.92</td><td> 2</td></tr>\n",
       "\t<tr><td>JCcd88f7 </td><td>131277422939</td><td>33</td><td>2020-03-31</td><td>149.86</td><td> 26.76</td><td>2019-09-15 15:56:00</td><td>2019-09-14 23:58:00+00:00</td><td>  992.00</td><td> 1</td></tr>\n",
       "\t<tr><td>JCce2920 </td><td>131239120594</td><td>68</td><td>2019-04-16</td><td>149.90</td><td> 29.50</td><td>2017-10-21 13:01:00</td><td>2017-10-21 08:49:00+00:00</td><td>  960.00</td><td> 3</td></tr>\n",
       "\t<tr><td>JCce2920 </td><td>131239120594</td><td>68</td><td>2019-04-16</td><td>149.90</td><td> 29.50</td><td>2017-10-21 13:01:00</td><td>2017-10-22 14:00:00+00:00</td><td>  960.01</td><td> 3</td></tr>\n",
       "\t<tr><td>JCce2920 </td><td>131239120594</td><td>68</td><td>2019-04-16</td><td>149.90</td><td> 29.50</td><td>2017-10-21 13:01:00</td><td>2017-10-22 20:38:00+00:00</td><td>  977.08</td><td> 3</td></tr>\n",
       "\t<tr><td>JCce2920 </td><td>131240538461</td><td>68</td><td>2019-04-16</td><td>149.90</td><td> 29.50</td><td>2017-11-27 05:12:00</td><td>2017-11-27 07:09:00+00:00</td><td>  888.00</td><td> 3</td></tr>\n",
       "\t<tr><td>JCce2920 </td><td>131240538461</td><td>68</td><td>2019-04-16</td><td>149.90</td><td> 29.50</td><td>2017-11-27 05:12:00</td><td>2017-11-27 15:43:00+00:00</td><td>  881.84</td><td> 3</td></tr>\n",
       "\t<tr><td>JCce2920 </td><td>131240538461</td><td>68</td><td>2019-04-16</td><td>149.90</td><td> 29.50</td><td>2017-11-27 05:12:00</td><td>2017-11-28 15:13:00+00:00</td><td>  899.48</td><td> 3</td></tr>\n",
       "\t<tr><td>JCce4fbd </td><td>131179763273</td><td>51</td><td>2019-01-01</td><td>185.42</td><td>158.76</td><td>2016-02-04 10:46:00</td><td>2016-02-04 20:24:00+00:00</td><td> 8220.80</td><td>10</td></tr>\n",
       "\t<tr><td>JCce4fbd </td><td>131179763273</td><td>51</td><td>2019-01-01</td><td>185.42</td><td>158.76</td><td>2016-02-04 10:46:00</td><td>2016-02-05 03:19:00+00:00</td><td> 8032.00</td><td>10</td></tr>\n",
       "\t<tr><td>JCce4fbd </td><td>131179763273</td><td>51</td><td>2019-01-01</td><td>185.42</td><td>158.76</td><td>2016-02-04 10:46:00</td><td>2016-02-06 17:24:00+00:00</td><td> 8067.07</td><td>10</td></tr>\n",
       "\t<tr><td>JCce4fbd </td><td>131179763273</td><td>51</td><td>2019-01-01</td><td>185.42</td><td>158.76</td><td>2016-02-04 10:46:00</td><td>2016-02-07 17:04:00+00:00</td><td> 8017.69</td><td>10</td></tr>\n",
       "\t<tr><td>JCce4fbd </td><td>131179763273</td><td>51</td><td>2019-01-01</td><td>185.42</td><td>158.76</td><td>2016-02-04 10:46:00</td><td>2016-02-08 16:54:00+00:00</td><td> 8000.05</td><td>10</td></tr>\n",
       "\t<tr><td>JCceb47b </td><td>131250176231</td><td>31</td><td>2020-03-31</td><td>187.96</td><td>317.51</td><td>2018-05-17 16:16:00</td><td>2018-05-17 13:14:00+00:00</td><td>11199.37</td><td> 3</td></tr>\n",
       "\t<tr><td>JCceb47b </td><td>131250176231</td><td>31</td><td>2020-03-31</td><td>187.96</td><td>317.51</td><td>2018-05-17 16:16:00</td><td>2018-05-18 06:00:00+00:00</td><td>12024.77</td><td> 3</td></tr>\n",
       "\t<tr><td>JCceb47b </td><td>131250176231</td><td>31</td><td>2020-03-31</td><td>187.96</td><td>317.51</td><td>2018-05-17 16:16:00</td><td>2018-05-25 15:26:00+00:00</td><td>11200.00</td><td> 3</td></tr>\n",
       "\t<tr><td>JCcfecc2 </td><td>131254389083</td><td>34</td><td>2020-03-10</td><td>142.20</td><td> 20.50</td><td>2018-07-10 03:29:00</td><td>2018-07-09 21:24:00+00:00</td><td>  720.00</td><td> 1</td></tr>\n",
       "\t<tr><td>JCcfecc2 </td><td>131271215701</td><td>35</td><td>2020-03-10</td><td>142.20</td><td> 20.50</td><td>2019-06-16 15:36:00</td><td>2019-06-16 17:58:00+00:00</td><td>  751.33</td><td> 1</td></tr>\n",
       "\t<tr><td>JCd28213 </td><td>131216032923</td><td>52</td><td>2020-03-31</td><td>195.58</td><td>174.18</td><td>2017-01-09 04:42:00</td><td>2017-01-13 19:21:00+00:00</td><td> 8500.94</td><td>10</td></tr>\n",
       "\t<tr><td>JCd28213 </td><td>131224005264</td><td>52</td><td>2020-03-31</td><td>195.58</td><td>174.18</td><td>2017-03-08 10:19:00</td><td>2017-03-08 18:22:00+00:00</td><td> 8249.44</td><td>15</td></tr>\n",
       "\t<tr><td>JCd28213 </td><td>131224005264</td><td>52</td><td>2020-03-31</td><td>195.58</td><td>174.18</td><td>2017-03-08 10:19:00</td><td>2017-03-10 15:46:00+00:00</td><td> 8246.97</td><td>15</td></tr>\n",
       "\t<tr><td>JCd28213 </td><td>131236672868</td><td>53</td><td>2020-03-31</td><td>195.58</td><td>174.18</td><td>2017-07-01 08:00:00</td><td>2017-07-01 15:00:00+00:00</td><td> 8014.16</td><td>11</td></tr>\n",
       "\t<tr><td>JCd3ad58 </td><td>131211637127</td><td>41</td><td>2019-01-01</td><td>177.80</td><td>198.50</td><td>2017-01-23 23:37:00</td><td>2017-01-24 01:01:00+00:00</td><td> 8144.00</td><td> 3</td></tr>\n",
       "\t<tr><td>JCd3ad58 </td><td>131211637127</td><td>41</td><td>2019-01-01</td><td>177.80</td><td>198.50</td><td>2017-01-23 23:37:00</td><td>2017-01-24 01:31:00+00:00</td><td> 8091.20</td><td> 3</td></tr>\n",
       "\t<tr><td>JCd473c6 </td><td>131281585175</td><td>31</td><td>2020-03-31</td><td>162.56</td><td>320.69</td><td>2019-12-10 23:52:00</td><td>2019-12-10 23:30:00+00:00</td><td>11005.36</td><td> 5</td></tr>\n",
       "\t<tr><td>JCd473c6 </td><td>131281585175</td><td>31</td><td>2020-03-31</td><td>162.56</td><td>320.69</td><td>2019-12-10 23:52:00</td><td>2019-12-11 14:39:00+00:00</td><td>10640.00</td><td> 5</td></tr>\n",
       "\t<tr><td>JCd473c6 </td><td>131281585175</td><td>31</td><td>2020-03-31</td><td>162.56</td><td>320.69</td><td>2019-12-10 23:52:00</td><td>2019-12-12 11:30:00+00:00</td><td>10624.00</td><td> 5</td></tr>\n",
       "\t<tr><td>JCd473c6 </td><td>131281585175</td><td>31</td><td>2020-03-31</td><td>162.56</td><td>320.69</td><td>2019-12-10 23:52:00</td><td>2019-12-13 12:21:00+00:00</td><td>10432.00</td><td> 5</td></tr>\n",
       "\t<tr><td>JCd473c6 </td><td>131281585175</td><td>31</td><td>2020-03-31</td><td>162.56</td><td>320.69</td><td>2019-12-10 23:52:00</td><td>2019-12-14 14:42:00+00:00</td><td>10272.00</td><td> 5</td></tr>\n",
       "\t<tr><td>JCd473c6 </td><td>131287076413</td><td>31</td><td>2020-03-31</td><td>162.56</td><td>320.69</td><td>2020-03-07 11:46:00</td><td>2020-03-07 09:16:00+00:00</td><td>10224.00</td><td> 5</td></tr>\n",
       "\t<tr><td>JCd473c6 </td><td>131287076413</td><td>31</td><td>2020-03-31</td><td>162.56</td><td>320.69</td><td>2020-03-07 11:46:00</td><td>2020-03-09 12:00:00+00:00</td><td>12381.03</td><td> 5</td></tr>\n",
       "\t<tr><td>JCd473c6 </td><td>131287076413</td><td>31</td><td>2020-03-31</td><td>162.56</td><td>320.69</td><td>2020-03-07 11:46:00</td><td>2020-03-09 20:00:00+00:00</td><td>11392.00</td><td> 5</td></tr>\n",
       "\t<tr><td>JCd473c6 </td><td>131287076413</td><td>31</td><td>2020-03-31</td><td>162.56</td><td>320.69</td><td>2020-03-07 11:46:00</td><td>2020-03-10 11:40:00+00:00</td><td>11396.90</td><td> 5</td></tr>\n",
       "\t<tr><td>JCd473c6 </td><td>131287076413</td><td>31</td><td>2020-03-31</td><td>162.56</td><td>320.69</td><td>2020-03-07 11:46:00</td><td>2020-03-11 12:53:00+00:00</td><td>11312.00</td><td> 5</td></tr>\n",
       "\t<tr><td>JCd4c260 </td><td>131281664741</td><td>37</td><td>2020-02-27</td><td>198.12</td><td>243.00</td><td>2019-12-17 02:52:00</td><td>2019-12-16 23:16:00+00:00</td><td> 8400.00</td><td> 5</td></tr>\n",
       "\t<tr><td>JCd4c260 </td><td>131281664741</td><td>37</td><td>2020-02-27</td><td>198.12</td><td>243.00</td><td>2019-12-17 02:52:00</td><td>2019-12-17 06:40:00+00:00</td><td> 8606.76</td><td> 5</td></tr>\n",
       "\t<tr><td>JCd4c260 </td><td>131281664741</td><td>37</td><td>2020-02-27</td><td>198.12</td><td>243.00</td><td>2019-12-17 02:52:00</td><td>2019-12-17 14:00:00+00:00</td><td> 8606.76</td><td> 5</td></tr>\n",
       "\t<tr><td>JCd4c260 </td><td>131281664741</td><td>37</td><td>2020-02-27</td><td>198.12</td><td>243.00</td><td>2019-12-17 02:52:00</td><td>2019-12-18 14:15:00+00:00</td><td> 8571.48</td><td> 5</td></tr>\n",
       "\t<tr><td>JCd4c260 </td><td>131281664741</td><td>37</td><td>2020-02-27</td><td>198.12</td><td>243.00</td><td>2019-12-17 02:52:00</td><td>2019-12-19 14:31:00+00:00</td><td> 8571.48</td><td> 5</td></tr>\n",
       "\t<tr><td>JCd79c04 </td><td>131284275359</td><td>29</td><td>2020-03-31</td><td>175.26</td><td>273.06</td><td>2020-03-11 09:42:00</td><td>2020-03-12 03:10:00+00:00</td><td> 9280.00</td><td> 2</td></tr>\n",
       "\t<tr><td>JCd79c04 </td><td>131284275359</td><td>29</td><td>2020-03-31</td><td>175.26</td><td>273.06</td><td>2020-03-11 09:42:00</td><td>2020-03-18 18:50:00+00:00</td><td> 9636.75</td><td> 2</td></tr>\n",
       "\t<tr><td>JCd7cd74 </td><td>131075305158</td><td>40</td><td>2020-03-31</td><td>185.42</td><td>190.51</td><td>2015-02-11 13:52:00</td><td>2015-02-11 10:30:00+00:00</td><td> 8800.00</td><td> 4</td></tr>\n",
       "\t<tr><td>JCd7cd74 </td><td>131075305158</td><td>40</td><td>2020-03-31</td><td>185.42</td><td>190.51</td><td>2015-02-11 13:52:00</td><td>2015-02-11 20:56:00+00:00</td><td> 8799.99</td><td> 4</td></tr>\n",
       "\t<tr><td>JCda2a71 </td><td>131263398985</td><td>49</td><td>2020-03-31</td><td>177.80</td><td>232.69</td><td>2019-03-13 09:51:00</td><td>2019-03-13 09:55:00+00:00</td><td> 8064.00</td><td> 3</td></tr>\n",
       "\t<tr><td>JCda2a71 </td><td>131263398985</td><td>49</td><td>2020-03-31</td><td>177.80</td><td>232.69</td><td>2019-03-13 09:51:00</td><td>2019-03-14 02:45:00+00:00</td><td> 8042.38</td><td> 3</td></tr>\n",
       "\t<tr><td>JCda2a71 </td><td>131263398985</td><td>49</td><td>2020-03-31</td><td>177.80</td><td>232.69</td><td>2019-03-13 09:51:00</td><td>2019-03-14 19:03:00+00:00</td><td> 8074.13</td><td> 3</td></tr>\n",
       "\t<tr><td>JCdc24fa </td><td>131237635539</td><td>83</td><td>2019-01-01</td><td>139.70</td><td> 33.79</td><td>2017-07-25 06:11:00</td><td>2017-07-26 19:29:00+00:00</td><td>  980.61</td><td> 2</td></tr>\n",
       "\t<tr><td>JCdc24fa </td><td>131237635539</td><td>83</td><td>2019-01-01</td><td>139.70</td><td> 33.79</td><td>2017-07-25 06:11:00</td><td>2017-07-27 12:11:00+00:00</td><td>  994.72</td><td> 2</td></tr>\n",
       "\t<tr><td>JCdc64cd </td><td>131257236159</td><td>22</td><td>2020-03-31</td><td>152.40</td><td> 28.95</td><td>2018-09-04 06:52:00</td><td>2018-09-06 01:13:00+00:00</td><td>  959.44</td><td> 7</td></tr>\n",
       "\t<tr><td>JCdc64cd </td><td>131279631642</td><td>23</td><td>2020-03-31</td><td>152.40</td><td> 28.95</td><td>2019-11-12 23:18:00</td><td>2019-11-12 21:03:00+00:00</td><td>  973.55</td><td> 2</td></tr>\n",
       "\t<tr><td>JCdc64cd </td><td>131279631642</td><td>23</td><td>2020-03-31</td><td>152.40</td><td> 28.95</td><td>2019-11-12 23:18:00</td><td>2019-11-13 17:00:00+00:00</td><td>  973.55</td><td> 2</td></tr>\n",
       "\t<tr><td>JCdcc1fd </td><td>131210841235</td><td>70</td><td>2019-01-01</td><td>168.91</td><td>245.00</td><td>2017-01-06 02:54:00</td><td>2017-01-06 01:00:00+00:00</td><td> 9276.96</td><td>10</td></tr>\n",
       "\t<tr><td>JCdcc1fd </td><td>131210841235</td><td>70</td><td>2019-01-01</td><td>168.91</td><td>245.00</td><td>2017-01-06 02:54:00</td><td>2017-01-09 23:22:00+00:00</td><td> 8192.00</td><td>10</td></tr>\n",
       "\t<tr><td>JCdcc1fd </td><td>131231087658</td><td>70</td><td>2019-01-01</td><td>168.91</td><td>245.00</td><td>2017-06-16 05:38:00</td><td>2017-06-16 01:01:00+00:00</td><td> 8148.20</td><td> 8</td></tr>\n",
       "\t<tr><td>JCdcc1fd </td><td>131231087658</td><td>70</td><td>2019-01-01</td><td>168.91</td><td>245.00</td><td>2017-06-16 05:38:00</td><td>2017-06-16 23:14:00+00:00</td><td> 8148.20</td><td> 8</td></tr>\n",
       "\t<tr><td>JCdcc1fd </td><td>131231087658</td><td>70</td><td>2019-01-01</td><td>168.91</td><td>245.00</td><td>2017-06-16 05:38:00</td><td>2017-06-20 19:24:00+00:00</td><td> 8030.40</td><td> 8</td></tr>\n",
       "\t<tr><td>JCdcc1fd </td><td>131239784374</td><td>70</td><td>2019-01-01</td><td>168.91</td><td>245.00</td><td>2017-11-01 03:41:00</td><td>2017-11-05 08:00:00+00:00</td><td> 9584.00</td><td> 4</td></tr>\n",
       "\t<tr><td>JCdcc1fd </td><td>131239784374</td><td>70</td><td>2019-01-01</td><td>168.91</td><td>245.00</td><td>2017-11-01 03:41:00</td><td>2017-11-05 19:04:00+00:00</td><td> 9216.00</td><td> 4</td></tr>\n",
       "\t<tr><td>JCe02733 </td><td>131252366789</td><td>35</td><td>2020-03-31</td><td>180.34</td><td>209.11</td><td>2018-07-15 22:53:00</td><td>2018-07-15 18:11:00+00:00</td><td> 8476.25</td><td> 2</td></tr>\n",
       "\t<tr><td>JCe02733 </td><td>131252366789</td><td>35</td><td>2020-03-31</td><td>180.34</td><td>209.11</td><td>2018-07-15 22:53:00</td><td>2018-07-17 17:30:00+00:00</td><td> 8507.99</td><td> 2</td></tr>\n",
       "\t<tr><td>JCe02733 </td><td>131257060312</td><td>35</td><td>2020-03-31</td><td>180.34</td><td>209.11</td><td>2018-10-11 10:09:00</td><td>2018-10-11 07:44:00+00:00</td><td> 8320.00</td><td> 2</td></tr>\n",
       "\t<tr><td>JCe02733 </td><td>131268993393</td><td>36</td><td>2020-03-31</td><td>180.34</td><td>209.11</td><td>2019-07-06 09:43:00</td><td>2019-07-06 06:52:00+00:00</td><td> 8536.21</td><td> 1</td></tr>\n",
       "\t<tr><td>JCe0ff8a </td><td>131206161990</td><td>25</td><td>2020-03-10</td><td>162.56</td><td> 32.66</td><td>2016-10-29 11:56:00</td><td>2016-10-29 10:13:00+00:00</td><td>  959.44</td><td> 5</td></tr>\n",
       "\t<tr><td>JCe0ff8a </td><td>131206161990</td><td>25</td><td>2020-03-10</td><td>162.56</td><td> 32.66</td><td>2016-10-29 11:56:00</td><td>2016-10-31 16:15:00+00:00</td><td>  998.24</td><td> 5</td></tr>\n",
       "\t<tr><td>JCe0ff8a </td><td>131209695675</td><td>25</td><td>2020-03-10</td><td>162.56</td><td> 32.66</td><td>2016-11-27 05:33:00</td><td>2016-11-27 01:55:00+00:00</td><td>  952.39</td><td>30</td></tr>\n",
       "\t<tr><td>JCe0ff8a </td><td>131209695675</td><td>25</td><td>2020-03-10</td><td>162.56</td><td> 32.66</td><td>2016-11-27 05:33:00</td><td>2016-11-27 16:40:00+00:00</td><td>  931.20</td><td>30</td></tr>\n",
       "\t<tr><td>JCe0ff8a </td><td>131209695675</td><td>25</td><td>2020-03-10</td><td>162.56</td><td> 32.66</td><td>2016-11-27 05:33:00</td><td>2016-11-28 16:57:00+00:00</td><td>  929.60</td><td>30</td></tr>\n",
       "\t<tr><td>JCe0ff8a </td><td>131209695675</td><td>25</td><td>2020-03-10</td><td>162.56</td><td> 32.66</td><td>2016-11-27 05:33:00</td><td>2016-11-29 18:43:00+00:00</td><td>  984.13</td><td>30</td></tr>\n",
       "\t<tr><td>JCe0ff8a </td><td>131209695675</td><td>25</td><td>2020-03-10</td><td>162.56</td><td> 32.66</td><td>2016-11-27 05:33:00</td><td>2016-11-29 19:00:00+00:00</td><td>  955.91</td><td>30</td></tr>\n",
       "\t<tr><td>JCe0ff8a </td><td>131209695675</td><td>25</td><td>2020-03-10</td><td>162.56</td><td> 32.66</td><td>2016-11-27 05:33:00</td><td>2016-11-30 17:00:00+00:00</td><td>  966.50</td><td>30</td></tr>\n",
       "\t<tr><td>JCe0ff8a </td><td>131209695675</td><td>25</td><td>2020-03-10</td><td>162.56</td><td> 32.66</td><td>2016-11-27 05:33:00</td><td>2016-12-01 17:47:00+00:00</td><td>  987.66</td><td>30</td></tr>\n",
       "\t<tr><td>JCe188ce </td><td>131179394929</td><td>40</td><td>2019-01-01</td><td>187.96</td><td>219.40</td><td>2016-03-17 07:04:00</td><td>2016-03-17 05:24:00+00:00</td><td> 8712.58</td><td> 3</td></tr>\n",
       "\t<tr><td>JCe188ce </td><td>131179394929</td><td>40</td><td>2019-01-01</td><td>187.96</td><td>219.40</td><td>2016-03-17 07:04:00</td><td>2016-03-17 10:51:00+00:00</td><td> 8532.68</td><td> 3</td></tr>\n",
       "\t<tr><td>JCe2ceb6 </td><td>131281137170</td><td>36</td><td>2020-03-05</td><td>154.94</td><td> 28.21</td><td>2019-12-11 21:46:00</td><td>2019-12-11 18:45:00+00:00</td><td>  917.11</td><td>13</td></tr>\n",
       "\t<tr><td>JCe2ceb6 </td><td>131281137170</td><td>36</td><td>2020-03-05</td><td>154.94</td><td> 28.21</td><td>2019-12-11 21:46:00</td><td>2019-12-12 18:00:00+00:00</td><td>  917.11</td><td>13</td></tr>\n",
       "\t<tr><td>JCe36b60 </td><td>131266229537</td><td>69</td><td>2020-03-31</td><td>175.26</td><td>199.13</td><td>2019-05-02 20:39:00</td><td>2019-05-02 19:12:00+00:00</td><td> 9600.00</td><td> 6</td></tr>\n",
       "\t<tr><td>JCe36b60 </td><td>131266229537</td><td>69</td><td>2020-03-31</td><td>175.26</td><td>199.13</td><td>2019-05-02 20:39:00</td><td>2019-05-03 02:00:00+00:00</td><td> 8395.12</td><td> 6</td></tr>\n",
       "\t<tr><td>JCe36b60 </td><td>131279779250</td><td>69</td><td>2020-03-31</td><td>175.26</td><td>199.13</td><td>2019-12-20 07:01:00</td><td>2019-12-20 08:35:00+00:00</td><td> 8832.00</td><td>11</td></tr>\n",
       "\t<tr><td>JCe36b60 </td><td>131279779250</td><td>69</td><td>2020-03-31</td><td>175.26</td><td>199.13</td><td>2019-12-20 07:01:00</td><td>2019-12-21 14:00:00+00:00</td><td> 8512.00</td><td>11</td></tr>\n",
       "\t<tr><td>JCe36b60 </td><td>131279779250</td><td>69</td><td>2020-03-31</td><td>175.26</td><td>199.13</td><td>2019-12-20 07:01:00</td><td>2019-12-22 12:11:00+00:00</td><td> 8224.00</td><td>11</td></tr>\n",
       "\t<tr><td>JCe36b60 </td><td>131279779250</td><td>69</td><td>2020-03-31</td><td>175.26</td><td>199.13</td><td>2019-12-20 07:01:00</td><td>2019-12-23 13:35:00+00:00</td><td> 8224.00</td><td>11</td></tr>\n",
       "\t<tr><td>JCe36b60 </td><td>131279779250</td><td>69</td><td>2020-03-31</td><td>175.26</td><td>199.13</td><td>2019-12-20 07:01:00</td><td>2019-12-24 12:16:00+00:00</td><td> 8880.00</td><td>11</td></tr>\n",
       "\t<tr><td>JCe36b60 </td><td>131279779250</td><td>69</td><td>2020-03-31</td><td>175.26</td><td>199.13</td><td>2019-12-20 07:01:00</td><td>2019-12-25 15:00:00+00:00</td><td> 9770.79</td><td>11</td></tr>\n",
       "\t<tr><td>JCe40362 </td><td>131272125723</td><td>34</td><td>2020-03-31</td><td>187.96</td><td>224.71</td><td>2019-07-16 02:47:00</td><td>2019-07-16 00:57:00+00:00</td><td> 8042.38</td><td> 5</td></tr>\n",
       "\t<tr><td>JCe40362 </td><td>131272125723</td><td>34</td><td>2020-03-31</td><td>187.96</td><td>224.71</td><td>2019-07-16 02:47:00</td><td>2019-07-16 03:49:00+00:00</td><td> 8014.16</td><td> 5</td></tr>\n",
       "\t<tr><td>JCe67df3 </td><td>131072939462</td><td>36</td><td>2019-01-01</td><td>170.00</td><td>210.01</td><td>2015-03-13 10:19:00</td><td>2015-03-13 03:03:00+00:00</td><td> 9382.78</td><td> 5</td></tr>\n",
       "\t<tr><td>JCe67df3 </td><td>131072939462</td><td>36</td><td>2019-01-01</td><td>170.00</td><td>210.01</td><td>2015-03-13 10:19:00</td><td>2015-03-14 12:00:00+00:00</td><td> 9440.00</td><td> 5</td></tr>\n",
       "\t<tr><td>JCe67df3 </td><td>131072939462</td><td>36</td><td>2019-01-01</td><td>170.00</td><td>210.01</td><td>2015-03-13 10:19:00</td><td>2015-03-14 23:37:00+00:00</td><td> 9418.05</td><td> 5</td></tr>\n",
       "\t<tr><td>JCe67df3 </td><td>131072939462</td><td>36</td><td>2019-01-01</td><td>170.00</td><td>210.01</td><td>2015-03-13 10:19:00</td><td>2015-03-21 18:00:00+00:00</td><td> 9344.00</td><td> 5</td></tr>\n",
       "\t<tr><td>JCe67df3 </td><td>131072939462</td><td>36</td><td>2019-01-01</td><td>170.00</td><td>210.01</td><td>2015-03-13 10:19:00</td><td>2015-03-26 00:00:00+00:00</td><td> 9347.50</td><td> 5</td></tr>\n",
       "\t<tr><td>JCe67df3 </td><td>131084284228</td><td>37</td><td>2019-01-01</td><td>170.00</td><td>210.01</td><td>2015-05-27 01:49:00</td><td>2015-05-26 20:01:00+00:00</td><td> 9816.64</td><td> 1</td></tr>\n",
       "\t<tr><td>JCe67df3 </td><td>131091796152</td><td>37</td><td>2019-01-01</td><td>170.00</td><td>210.01</td><td>2015-07-18 09:23:00</td><td>2015-07-19 18:53:00+00:00</td><td>10192.00</td><td> 1</td></tr>\n",
       "\t<tr><td>JCe67df3 </td><td>131106090339</td><td>37</td><td>2019-01-01</td><td>170.00</td><td>210.01</td><td>2015-09-08 05:20:00</td><td>2015-09-08 07:00:00+00:00</td><td> 9700.24</td><td>45</td></tr>\n",
       "\t<tr><td>JCe67df3 </td><td>131106090339</td><td>37</td><td>2019-01-01</td><td>170.00</td><td>210.01</td><td>2015-09-08 05:20:00</td><td>2015-09-08 11:00:00+00:00</td><td>10576.00</td><td>45</td></tr>\n",
       "\t<tr><td>JCe67df3 </td><td>131106090339</td><td>37</td><td>2019-01-01</td><td>170.00</td><td>210.01</td><td>2015-09-08 05:20:00</td><td>2015-09-09 19:00:00+00:00</td><td>10576.01</td><td>45</td></tr>\n",
       "\t<tr><td>JCe67df3 </td><td>131106090339</td><td>37</td><td>2019-01-01</td><td>170.00</td><td>210.01</td><td>2015-09-08 05:20:00</td><td>2015-09-16 11:00:00+00:00</td><td> 8960.00</td><td>45</td></tr>\n",
       "\t<tr><td>JCe67df3 </td><td>131106090339</td><td>37</td><td>2019-01-01</td><td>170.00</td><td>210.01</td><td>2015-09-08 05:20:00</td><td>2015-09-30 23:00:00+00:00</td><td> 9119.64</td><td>45</td></tr>\n",
       "\t<tr><td>JCe67df3 </td><td>131106090339</td><td>37</td><td>2019-01-01</td><td>170.00</td><td>210.01</td><td>2015-09-08 05:20:00</td><td>2015-10-04 15:18:00+00:00</td><td> 8560.00</td><td>45</td></tr>\n",
       "\t<tr><td>JCe67df3 </td><td>131106090339</td><td>37</td><td>2019-01-01</td><td>170.00</td><td>210.01</td><td>2015-09-08 05:20:00</td><td>2015-10-06 08:00:00+00:00</td><td> 8320.00</td><td>45</td></tr>\n",
       "\t<tr><td>JCe67df3 </td><td>131106090339</td><td>37</td><td>2019-01-01</td><td>170.00</td><td>210.01</td><td>2015-09-08 05:20:00</td><td>2015-10-23 20:30:00+00:00</td><td> 8944.00</td><td>45</td></tr>\n",
       "\t<tr><td>JCe67df3 </td><td>131106090339</td><td>37</td><td>2019-01-01</td><td>170.00</td><td>210.01</td><td>2015-09-08 05:20:00</td><td>2015-11-02 05:00:00+00:00</td><td> 9824.00</td><td>45</td></tr>\n",
       "\t<tr><td>JCe67df3 </td><td>131106090339</td><td>37</td><td>2019-01-01</td><td>170.00</td><td>210.01</td><td>2015-09-08 05:20:00</td><td>2015-11-05 14:00:00+00:00</td><td> 9920.00</td><td>45</td></tr>\n",
       "\t<tr><td>JCe67df3 </td><td>131106090339</td><td>37</td><td>2019-01-01</td><td>170.00</td><td>210.01</td><td>2015-09-08 05:20:00</td><td>2015-11-15 22:30:00+00:00</td><td> 8368.00</td><td>45</td></tr>\n",
       "\t<tr><td>JCe67df3 </td><td>131106090339</td><td>37</td><td>2019-01-01</td><td>170.00</td><td>210.01</td><td>2015-09-08 05:20:00</td><td>2015-12-12 06:46:00+00:00</td><td> 8218.75</td><td>45</td></tr>\n",
       "\t<tr><td>JCe67df3 </td><td>131106090339</td><td>37</td><td>2019-01-01</td><td>170.00</td><td>210.01</td><td>2015-09-08 05:20:00</td><td>2015-12-17 16:34:00+00:00</td><td> 9248.00</td><td>45</td></tr>\n",
       "\t<tr><td>JCe67df3 </td><td>131106090339</td><td>37</td><td>2019-01-01</td><td>170.00</td><td>210.01</td><td>2015-09-08 05:20:00</td><td>2015-12-21 19:00:00+00:00</td><td> 9276.96</td><td>45</td></tr>\n",
       "</tbody>\n",
       "</table>\n"
      ],
      "text/latex": [
       "A grouped\\_df: 134 × 10\n",
       "\\begin{tabular}{llllllllll}\n",
       " anon\\_id & pat\\_enc\\_csn\\_id\\_coded & age & recent\\_date & recent\\_height\\_cm & recent\\_weight\\_kg & admit\\_time & recorded\\_time & Weight & nWe\\\\\n",
       " <chr> & <dbl> & <int> & <chr> & <dbl> & <dbl> & <chr> & <chr> & <dbl> & <int>\\\\\n",
       "\\hline\n",
       "\t JC2a02d79 & 131267473325 & 37 & 2020-03-31 & 175.26 & 211.00 & 2019-06-05 11:41:00 & 2019-06-06 00:32:00+00:00 &  8359.84 & 16\\\\\n",
       "\t JC2a02d79 & 131267473325 & 37 & 2020-03-31 & 175.26 & 211.00 & 2019-06-05 11:41:00 & 2019-06-06 12:45:00+00:00 &  8317.51 & 16\\\\\n",
       "\t JC2a23e61 & 131268863704 & 67 & 2020-02-24 & 124.50 &  38.56 & 2019-06-17 05:31:00 & 2019-06-18 23:30:00+00:00 &   804.24 &  5\\\\\n",
       "\t JC2a23e61 & 131268863704 & 67 & 2020-02-24 & 124.50 &  38.56 & 2019-06-17 05:31:00 & 2019-06-19 23:02:00+00:00 &   888.89 &  5\\\\\n",
       "\t JC2a23e61 & 131268863704 & 67 & 2020-02-24 & 124.50 &  38.56 & 2019-06-17 05:31:00 & 2019-06-20 17:03:00+00:00 &   853.62 &  5\\\\\n",
       "\t JCcb9b40  & 131172519842 & 39 & 2019-01-01 & 182.88 & 260.50 & 2016-01-07 10:19:00 & 2016-01-08 08:13:00+00:00 &  9241.68 &  4\\\\\n",
       "\t JCcb9b40  & 131172519842 & 39 & 2019-01-01 & 182.88 & 260.50 & 2016-01-07 10:19:00 & 2016-01-08 16:27:00+00:00 &  8486.83 &  4\\\\\n",
       "\t JCcb9b40  & 131172519842 & 39 & 2019-01-01 & 182.88 & 260.50 & 2016-01-07 10:19:00 & 2016-01-09 16:29:00+00:00 &  8977.13 &  4\\\\\n",
       "\t JCcba5a7  & 131139556413 & 86 & 2019-01-01 & 152.00 &  27.00 & 2015-10-31 00:41:00 & 2015-10-30 19:27:00+00:00 &   848.01 &  5\\\\\n",
       "\t JCcba5a7  & 131139556413 & 86 & 2019-01-01 & 152.00 &  27.00 & 2015-10-31 00:41:00 & 2015-10-31 14:54:00+00:00 &   910.40 &  5\\\\\n",
       "\t JCcba5a7  & 131139556413 & 86 & 2019-01-01 & 152.00 &  27.00 & 2015-10-31 00:41:00 & 2015-11-01 17:00:00+00:00 &   917.11 &  5\\\\\n",
       "\t JCcba5a7  & 131139556413 & 86 & 2019-01-01 & 152.00 &  27.00 & 2015-10-31 00:41:00 & 2015-11-02 18:30:00+00:00 &   953.60 &  5\\\\\n",
       "\t JCcba5a7  & 131139556413 & 86 & 2019-01-01 & 152.00 &  27.00 & 2015-10-31 00:41:00 & 2015-11-03 15:45:00+00:00 &   856.00 &  5\\\\\n",
       "\t JCcc2b6f  & 131092421099 & 44 & 2019-01-01 & 147.32 &  26.58 & 2015-06-06 04:59:00 & 2015-06-06 04:52:00+00:00 &   987.66 &  4\\\\\n",
       "\t JCcc2b6f  & 131117955539 & 44 & 2019-01-01 & 147.32 &  26.58 & 2015-08-27 14:42:00 & 2015-08-27 07:19:00+00:00 &   960.01 &  4\\\\\n",
       "\t JCcc2b6f  & 131117955539 & 44 & 2019-01-01 & 147.32 &  26.58 & 2015-08-27 14:42:00 & 2015-08-27 14:49:00+00:00 &   903.00 &  4\\\\\n",
       "\t JCcc2b6f  & 131117955539 & 44 & 2019-01-01 & 147.32 &  26.58 & 2015-08-27 14:42:00 & 2015-08-28 11:25:00+00:00 &   917.11 &  4\\\\\n",
       "\t JCcc2b6f  & 131117955539 & 44 & 2019-01-01 & 147.32 &  26.58 & 2015-08-27 14:42:00 & 2015-08-28 12:31:00+00:00 &   927.70 &  4\\\\\n",
       "\t JCcc2b6f  & 131166145514 & 45 & 2019-01-01 & 147.32 &  26.58 & 2015-12-07 04:26:00 & 2015-12-07 07:00:00+00:00 &   937.60 &  1\\\\\n",
       "\t JCcc9cf2  & 131247943088 & 40 & 2020-03-31 & 182.88 & 207.34 & 2018-02-17 06:25:00 & 2018-02-17 06:30:00+00:00 &  8786.65 &  8\\\\\n",
       "\t JCcc9cf2  & 131247943088 & 40 & 2020-03-31 & 182.88 & 207.34 & 2018-02-17 06:25:00 & 2018-02-18 01:00:00+00:00 &  8687.89 &  8\\\\\n",
       "\t JCcc9cf2  & 131247943088 & 40 & 2020-03-31 & 182.88 & 207.34 & 2018-02-17 06:25:00 & 2018-02-18 12:58:00+00:00 &  8578.54 &  8\\\\\n",
       "\t JCcc9cf2  & 131247943088 & 40 & 2020-03-31 & 182.88 & 207.34 & 2018-02-17 06:25:00 & 2018-02-19 13:56:00+00:00 &  8426.86 &  8\\\\\n",
       "\t JCcc9cf2  & 131247943088 & 40 & 2020-03-31 & 182.88 & 207.34 & 2018-02-17 06:25:00 & 2018-02-19 18:06:00+00:00 &  8430.39 &  8\\\\\n",
       "\t JCcc9cf2  & 131247943088 & 40 & 2020-03-31 & 182.88 & 207.34 & 2018-02-17 06:25:00 & 2018-02-20 18:20:00+00:00 &  8278.71 &  8\\\\\n",
       "\t JCcc9cf2  & 131247943088 & 40 & 2020-03-31 & 182.88 & 207.34 & 2018-02-17 06:25:00 & 2018-02-21 13:59:00+00:00 &  8194.06 &  8\\\\\n",
       "\t JCcc9cf2  & 131247943088 & 40 & 2020-03-31 & 182.88 & 207.34 & 2018-02-17 06:25:00 & 2018-02-22 16:58:00+00:00 &  8109.40 &  8\\\\\n",
       "\t JCcd88f7  & 131225645539 & 30 & 2020-03-31 & 149.86 &  26.76 & 2017-03-21 02:40:00 & 2017-03-20 23:48:00+00:00 &   989.92 &  2\\\\\n",
       "\t JCcd88f7  & 131225645539 & 30 & 2020-03-31 & 149.86 &  26.76 & 2017-03-21 02:40:00 & 2017-03-21 10:00:00+00:00 &   989.92 &  2\\\\\n",
       "\t JCcd88f7  & 131277422939 & 33 & 2020-03-31 & 149.86 &  26.76 & 2019-09-15 15:56:00 & 2019-09-14 23:58:00+00:00 &   992.00 &  1\\\\\n",
       "\t JCce2920  & 131239120594 & 68 & 2019-04-16 & 149.90 &  29.50 & 2017-10-21 13:01:00 & 2017-10-21 08:49:00+00:00 &   960.00 &  3\\\\\n",
       "\t JCce2920  & 131239120594 & 68 & 2019-04-16 & 149.90 &  29.50 & 2017-10-21 13:01:00 & 2017-10-22 14:00:00+00:00 &   960.01 &  3\\\\\n",
       "\t JCce2920  & 131239120594 & 68 & 2019-04-16 & 149.90 &  29.50 & 2017-10-21 13:01:00 & 2017-10-22 20:38:00+00:00 &   977.08 &  3\\\\\n",
       "\t JCce2920  & 131240538461 & 68 & 2019-04-16 & 149.90 &  29.50 & 2017-11-27 05:12:00 & 2017-11-27 07:09:00+00:00 &   888.00 &  3\\\\\n",
       "\t JCce2920  & 131240538461 & 68 & 2019-04-16 & 149.90 &  29.50 & 2017-11-27 05:12:00 & 2017-11-27 15:43:00+00:00 &   881.84 &  3\\\\\n",
       "\t JCce2920  & 131240538461 & 68 & 2019-04-16 & 149.90 &  29.50 & 2017-11-27 05:12:00 & 2017-11-28 15:13:00+00:00 &   899.48 &  3\\\\\n",
       "\t JCce4fbd  & 131179763273 & 51 & 2019-01-01 & 185.42 & 158.76 & 2016-02-04 10:46:00 & 2016-02-04 20:24:00+00:00 &  8220.80 & 10\\\\\n",
       "\t JCce4fbd  & 131179763273 & 51 & 2019-01-01 & 185.42 & 158.76 & 2016-02-04 10:46:00 & 2016-02-05 03:19:00+00:00 &  8032.00 & 10\\\\\n",
       "\t JCce4fbd  & 131179763273 & 51 & 2019-01-01 & 185.42 & 158.76 & 2016-02-04 10:46:00 & 2016-02-06 17:24:00+00:00 &  8067.07 & 10\\\\\n",
       "\t JCce4fbd  & 131179763273 & 51 & 2019-01-01 & 185.42 & 158.76 & 2016-02-04 10:46:00 & 2016-02-07 17:04:00+00:00 &  8017.69 & 10\\\\\n",
       "\t JCce4fbd  & 131179763273 & 51 & 2019-01-01 & 185.42 & 158.76 & 2016-02-04 10:46:00 & 2016-02-08 16:54:00+00:00 &  8000.05 & 10\\\\\n",
       "\t JCceb47b  & 131250176231 & 31 & 2020-03-31 & 187.96 & 317.51 & 2018-05-17 16:16:00 & 2018-05-17 13:14:00+00:00 & 11199.37 &  3\\\\\n",
       "\t JCceb47b  & 131250176231 & 31 & 2020-03-31 & 187.96 & 317.51 & 2018-05-17 16:16:00 & 2018-05-18 06:00:00+00:00 & 12024.77 &  3\\\\\n",
       "\t JCceb47b  & 131250176231 & 31 & 2020-03-31 & 187.96 & 317.51 & 2018-05-17 16:16:00 & 2018-05-25 15:26:00+00:00 & 11200.00 &  3\\\\\n",
       "\t JCcfecc2  & 131254389083 & 34 & 2020-03-10 & 142.20 &  20.50 & 2018-07-10 03:29:00 & 2018-07-09 21:24:00+00:00 &   720.00 &  1\\\\\n",
       "\t JCcfecc2  & 131271215701 & 35 & 2020-03-10 & 142.20 &  20.50 & 2019-06-16 15:36:00 & 2019-06-16 17:58:00+00:00 &   751.33 &  1\\\\\n",
       "\t JCd28213  & 131216032923 & 52 & 2020-03-31 & 195.58 & 174.18 & 2017-01-09 04:42:00 & 2017-01-13 19:21:00+00:00 &  8500.94 & 10\\\\\n",
       "\t JCd28213  & 131224005264 & 52 & 2020-03-31 & 195.58 & 174.18 & 2017-03-08 10:19:00 & 2017-03-08 18:22:00+00:00 &  8249.44 & 15\\\\\n",
       "\t JCd28213  & 131224005264 & 52 & 2020-03-31 & 195.58 & 174.18 & 2017-03-08 10:19:00 & 2017-03-10 15:46:00+00:00 &  8246.97 & 15\\\\\n",
       "\t JCd28213  & 131236672868 & 53 & 2020-03-31 & 195.58 & 174.18 & 2017-07-01 08:00:00 & 2017-07-01 15:00:00+00:00 &  8014.16 & 11\\\\\n",
       "\t JCd3ad58  & 131211637127 & 41 & 2019-01-01 & 177.80 & 198.50 & 2017-01-23 23:37:00 & 2017-01-24 01:01:00+00:00 &  8144.00 &  3\\\\\n",
       "\t JCd3ad58  & 131211637127 & 41 & 2019-01-01 & 177.80 & 198.50 & 2017-01-23 23:37:00 & 2017-01-24 01:31:00+00:00 &  8091.20 &  3\\\\\n",
       "\t JCd473c6  & 131281585175 & 31 & 2020-03-31 & 162.56 & 320.69 & 2019-12-10 23:52:00 & 2019-12-10 23:30:00+00:00 & 11005.36 &  5\\\\\n",
       "\t JCd473c6  & 131281585175 & 31 & 2020-03-31 & 162.56 & 320.69 & 2019-12-10 23:52:00 & 2019-12-11 14:39:00+00:00 & 10640.00 &  5\\\\\n",
       "\t JCd473c6  & 131281585175 & 31 & 2020-03-31 & 162.56 & 320.69 & 2019-12-10 23:52:00 & 2019-12-12 11:30:00+00:00 & 10624.00 &  5\\\\\n",
       "\t JCd473c6  & 131281585175 & 31 & 2020-03-31 & 162.56 & 320.69 & 2019-12-10 23:52:00 & 2019-12-13 12:21:00+00:00 & 10432.00 &  5\\\\\n",
       "\t JCd473c6  & 131281585175 & 31 & 2020-03-31 & 162.56 & 320.69 & 2019-12-10 23:52:00 & 2019-12-14 14:42:00+00:00 & 10272.00 &  5\\\\\n",
       "\t JCd473c6  & 131287076413 & 31 & 2020-03-31 & 162.56 & 320.69 & 2020-03-07 11:46:00 & 2020-03-07 09:16:00+00:00 & 10224.00 &  5\\\\\n",
       "\t JCd473c6  & 131287076413 & 31 & 2020-03-31 & 162.56 & 320.69 & 2020-03-07 11:46:00 & 2020-03-09 12:00:00+00:00 & 12381.03 &  5\\\\\n",
       "\t JCd473c6  & 131287076413 & 31 & 2020-03-31 & 162.56 & 320.69 & 2020-03-07 11:46:00 & 2020-03-09 20:00:00+00:00 & 11392.00 &  5\\\\\n",
       "\t JCd473c6  & 131287076413 & 31 & 2020-03-31 & 162.56 & 320.69 & 2020-03-07 11:46:00 & 2020-03-10 11:40:00+00:00 & 11396.90 &  5\\\\\n",
       "\t JCd473c6  & 131287076413 & 31 & 2020-03-31 & 162.56 & 320.69 & 2020-03-07 11:46:00 & 2020-03-11 12:53:00+00:00 & 11312.00 &  5\\\\\n",
       "\t JCd4c260  & 131281664741 & 37 & 2020-02-27 & 198.12 & 243.00 & 2019-12-17 02:52:00 & 2019-12-16 23:16:00+00:00 &  8400.00 &  5\\\\\n",
       "\t JCd4c260  & 131281664741 & 37 & 2020-02-27 & 198.12 & 243.00 & 2019-12-17 02:52:00 & 2019-12-17 06:40:00+00:00 &  8606.76 &  5\\\\\n",
       "\t JCd4c260  & 131281664741 & 37 & 2020-02-27 & 198.12 & 243.00 & 2019-12-17 02:52:00 & 2019-12-17 14:00:00+00:00 &  8606.76 &  5\\\\\n",
       "\t JCd4c260  & 131281664741 & 37 & 2020-02-27 & 198.12 & 243.00 & 2019-12-17 02:52:00 & 2019-12-18 14:15:00+00:00 &  8571.48 &  5\\\\\n",
       "\t JCd4c260  & 131281664741 & 37 & 2020-02-27 & 198.12 & 243.00 & 2019-12-17 02:52:00 & 2019-12-19 14:31:00+00:00 &  8571.48 &  5\\\\\n",
       "\t JCd79c04  & 131284275359 & 29 & 2020-03-31 & 175.26 & 273.06 & 2020-03-11 09:42:00 & 2020-03-12 03:10:00+00:00 &  9280.00 &  2\\\\\n",
       "\t JCd79c04  & 131284275359 & 29 & 2020-03-31 & 175.26 & 273.06 & 2020-03-11 09:42:00 & 2020-03-18 18:50:00+00:00 &  9636.75 &  2\\\\\n",
       "\t JCd7cd74  & 131075305158 & 40 & 2020-03-31 & 185.42 & 190.51 & 2015-02-11 13:52:00 & 2015-02-11 10:30:00+00:00 &  8800.00 &  4\\\\\n",
       "\t JCd7cd74  & 131075305158 & 40 & 2020-03-31 & 185.42 & 190.51 & 2015-02-11 13:52:00 & 2015-02-11 20:56:00+00:00 &  8799.99 &  4\\\\\n",
       "\t JCda2a71  & 131263398985 & 49 & 2020-03-31 & 177.80 & 232.69 & 2019-03-13 09:51:00 & 2019-03-13 09:55:00+00:00 &  8064.00 &  3\\\\\n",
       "\t JCda2a71  & 131263398985 & 49 & 2020-03-31 & 177.80 & 232.69 & 2019-03-13 09:51:00 & 2019-03-14 02:45:00+00:00 &  8042.38 &  3\\\\\n",
       "\t JCda2a71  & 131263398985 & 49 & 2020-03-31 & 177.80 & 232.69 & 2019-03-13 09:51:00 & 2019-03-14 19:03:00+00:00 &  8074.13 &  3\\\\\n",
       "\t JCdc24fa  & 131237635539 & 83 & 2019-01-01 & 139.70 &  33.79 & 2017-07-25 06:11:00 & 2017-07-26 19:29:00+00:00 &   980.61 &  2\\\\\n",
       "\t JCdc24fa  & 131237635539 & 83 & 2019-01-01 & 139.70 &  33.79 & 2017-07-25 06:11:00 & 2017-07-27 12:11:00+00:00 &   994.72 &  2\\\\\n",
       "\t JCdc64cd  & 131257236159 & 22 & 2020-03-31 & 152.40 &  28.95 & 2018-09-04 06:52:00 & 2018-09-06 01:13:00+00:00 &   959.44 &  7\\\\\n",
       "\t JCdc64cd  & 131279631642 & 23 & 2020-03-31 & 152.40 &  28.95 & 2019-11-12 23:18:00 & 2019-11-12 21:03:00+00:00 &   973.55 &  2\\\\\n",
       "\t JCdc64cd  & 131279631642 & 23 & 2020-03-31 & 152.40 &  28.95 & 2019-11-12 23:18:00 & 2019-11-13 17:00:00+00:00 &   973.55 &  2\\\\\n",
       "\t JCdcc1fd  & 131210841235 & 70 & 2019-01-01 & 168.91 & 245.00 & 2017-01-06 02:54:00 & 2017-01-06 01:00:00+00:00 &  9276.96 & 10\\\\\n",
       "\t JCdcc1fd  & 131210841235 & 70 & 2019-01-01 & 168.91 & 245.00 & 2017-01-06 02:54:00 & 2017-01-09 23:22:00+00:00 &  8192.00 & 10\\\\\n",
       "\t JCdcc1fd  & 131231087658 & 70 & 2019-01-01 & 168.91 & 245.00 & 2017-06-16 05:38:00 & 2017-06-16 01:01:00+00:00 &  8148.20 &  8\\\\\n",
       "\t JCdcc1fd  & 131231087658 & 70 & 2019-01-01 & 168.91 & 245.00 & 2017-06-16 05:38:00 & 2017-06-16 23:14:00+00:00 &  8148.20 &  8\\\\\n",
       "\t JCdcc1fd  & 131231087658 & 70 & 2019-01-01 & 168.91 & 245.00 & 2017-06-16 05:38:00 & 2017-06-20 19:24:00+00:00 &  8030.40 &  8\\\\\n",
       "\t JCdcc1fd  & 131239784374 & 70 & 2019-01-01 & 168.91 & 245.00 & 2017-11-01 03:41:00 & 2017-11-05 08:00:00+00:00 &  9584.00 &  4\\\\\n",
       "\t JCdcc1fd  & 131239784374 & 70 & 2019-01-01 & 168.91 & 245.00 & 2017-11-01 03:41:00 & 2017-11-05 19:04:00+00:00 &  9216.00 &  4\\\\\n",
       "\t JCe02733  & 131252366789 & 35 & 2020-03-31 & 180.34 & 209.11 & 2018-07-15 22:53:00 & 2018-07-15 18:11:00+00:00 &  8476.25 &  2\\\\\n",
       "\t JCe02733  & 131252366789 & 35 & 2020-03-31 & 180.34 & 209.11 & 2018-07-15 22:53:00 & 2018-07-17 17:30:00+00:00 &  8507.99 &  2\\\\\n",
       "\t JCe02733  & 131257060312 & 35 & 2020-03-31 & 180.34 & 209.11 & 2018-10-11 10:09:00 & 2018-10-11 07:44:00+00:00 &  8320.00 &  2\\\\\n",
       "\t JCe02733  & 131268993393 & 36 & 2020-03-31 & 180.34 & 209.11 & 2019-07-06 09:43:00 & 2019-07-06 06:52:00+00:00 &  8536.21 &  1\\\\\n",
       "\t JCe0ff8a  & 131206161990 & 25 & 2020-03-10 & 162.56 &  32.66 & 2016-10-29 11:56:00 & 2016-10-29 10:13:00+00:00 &   959.44 &  5\\\\\n",
       "\t JCe0ff8a  & 131206161990 & 25 & 2020-03-10 & 162.56 &  32.66 & 2016-10-29 11:56:00 & 2016-10-31 16:15:00+00:00 &   998.24 &  5\\\\\n",
       "\t JCe0ff8a  & 131209695675 & 25 & 2020-03-10 & 162.56 &  32.66 & 2016-11-27 05:33:00 & 2016-11-27 01:55:00+00:00 &   952.39 & 30\\\\\n",
       "\t JCe0ff8a  & 131209695675 & 25 & 2020-03-10 & 162.56 &  32.66 & 2016-11-27 05:33:00 & 2016-11-27 16:40:00+00:00 &   931.20 & 30\\\\\n",
       "\t JCe0ff8a  & 131209695675 & 25 & 2020-03-10 & 162.56 &  32.66 & 2016-11-27 05:33:00 & 2016-11-28 16:57:00+00:00 &   929.60 & 30\\\\\n",
       "\t JCe0ff8a  & 131209695675 & 25 & 2020-03-10 & 162.56 &  32.66 & 2016-11-27 05:33:00 & 2016-11-29 18:43:00+00:00 &   984.13 & 30\\\\\n",
       "\t JCe0ff8a  & 131209695675 & 25 & 2020-03-10 & 162.56 &  32.66 & 2016-11-27 05:33:00 & 2016-11-29 19:00:00+00:00 &   955.91 & 30\\\\\n",
       "\t JCe0ff8a  & 131209695675 & 25 & 2020-03-10 & 162.56 &  32.66 & 2016-11-27 05:33:00 & 2016-11-30 17:00:00+00:00 &   966.50 & 30\\\\\n",
       "\t JCe0ff8a  & 131209695675 & 25 & 2020-03-10 & 162.56 &  32.66 & 2016-11-27 05:33:00 & 2016-12-01 17:47:00+00:00 &   987.66 & 30\\\\\n",
       "\t JCe188ce  & 131179394929 & 40 & 2019-01-01 & 187.96 & 219.40 & 2016-03-17 07:04:00 & 2016-03-17 05:24:00+00:00 &  8712.58 &  3\\\\\n",
       "\t JCe188ce  & 131179394929 & 40 & 2019-01-01 & 187.96 & 219.40 & 2016-03-17 07:04:00 & 2016-03-17 10:51:00+00:00 &  8532.68 &  3\\\\\n",
       "\t JCe2ceb6  & 131281137170 & 36 & 2020-03-05 & 154.94 &  28.21 & 2019-12-11 21:46:00 & 2019-12-11 18:45:00+00:00 &   917.11 & 13\\\\\n",
       "\t JCe2ceb6  & 131281137170 & 36 & 2020-03-05 & 154.94 &  28.21 & 2019-12-11 21:46:00 & 2019-12-12 18:00:00+00:00 &   917.11 & 13\\\\\n",
       "\t JCe36b60  & 131266229537 & 69 & 2020-03-31 & 175.26 & 199.13 & 2019-05-02 20:39:00 & 2019-05-02 19:12:00+00:00 &  9600.00 &  6\\\\\n",
       "\t JCe36b60  & 131266229537 & 69 & 2020-03-31 & 175.26 & 199.13 & 2019-05-02 20:39:00 & 2019-05-03 02:00:00+00:00 &  8395.12 &  6\\\\\n",
       "\t JCe36b60  & 131279779250 & 69 & 2020-03-31 & 175.26 & 199.13 & 2019-12-20 07:01:00 & 2019-12-20 08:35:00+00:00 &  8832.00 & 11\\\\\n",
       "\t JCe36b60  & 131279779250 & 69 & 2020-03-31 & 175.26 & 199.13 & 2019-12-20 07:01:00 & 2019-12-21 14:00:00+00:00 &  8512.00 & 11\\\\\n",
       "\t JCe36b60  & 131279779250 & 69 & 2020-03-31 & 175.26 & 199.13 & 2019-12-20 07:01:00 & 2019-12-22 12:11:00+00:00 &  8224.00 & 11\\\\\n",
       "\t JCe36b60  & 131279779250 & 69 & 2020-03-31 & 175.26 & 199.13 & 2019-12-20 07:01:00 & 2019-12-23 13:35:00+00:00 &  8224.00 & 11\\\\\n",
       "\t JCe36b60  & 131279779250 & 69 & 2020-03-31 & 175.26 & 199.13 & 2019-12-20 07:01:00 & 2019-12-24 12:16:00+00:00 &  8880.00 & 11\\\\\n",
       "\t JCe36b60  & 131279779250 & 69 & 2020-03-31 & 175.26 & 199.13 & 2019-12-20 07:01:00 & 2019-12-25 15:00:00+00:00 &  9770.79 & 11\\\\\n",
       "\t JCe40362  & 131272125723 & 34 & 2020-03-31 & 187.96 & 224.71 & 2019-07-16 02:47:00 & 2019-07-16 00:57:00+00:00 &  8042.38 &  5\\\\\n",
       "\t JCe40362  & 131272125723 & 34 & 2020-03-31 & 187.96 & 224.71 & 2019-07-16 02:47:00 & 2019-07-16 03:49:00+00:00 &  8014.16 &  5\\\\\n",
       "\t JCe67df3  & 131072939462 & 36 & 2019-01-01 & 170.00 & 210.01 & 2015-03-13 10:19:00 & 2015-03-13 03:03:00+00:00 &  9382.78 &  5\\\\\n",
       "\t JCe67df3  & 131072939462 & 36 & 2019-01-01 & 170.00 & 210.01 & 2015-03-13 10:19:00 & 2015-03-14 12:00:00+00:00 &  9440.00 &  5\\\\\n",
       "\t JCe67df3  & 131072939462 & 36 & 2019-01-01 & 170.00 & 210.01 & 2015-03-13 10:19:00 & 2015-03-14 23:37:00+00:00 &  9418.05 &  5\\\\\n",
       "\t JCe67df3  & 131072939462 & 36 & 2019-01-01 & 170.00 & 210.01 & 2015-03-13 10:19:00 & 2015-03-21 18:00:00+00:00 &  9344.00 &  5\\\\\n",
       "\t JCe67df3  & 131072939462 & 36 & 2019-01-01 & 170.00 & 210.01 & 2015-03-13 10:19:00 & 2015-03-26 00:00:00+00:00 &  9347.50 &  5\\\\\n",
       "\t JCe67df3  & 131084284228 & 37 & 2019-01-01 & 170.00 & 210.01 & 2015-05-27 01:49:00 & 2015-05-26 20:01:00+00:00 &  9816.64 &  1\\\\\n",
       "\t JCe67df3  & 131091796152 & 37 & 2019-01-01 & 170.00 & 210.01 & 2015-07-18 09:23:00 & 2015-07-19 18:53:00+00:00 & 10192.00 &  1\\\\\n",
       "\t JCe67df3  & 131106090339 & 37 & 2019-01-01 & 170.00 & 210.01 & 2015-09-08 05:20:00 & 2015-09-08 07:00:00+00:00 &  9700.24 & 45\\\\\n",
       "\t JCe67df3  & 131106090339 & 37 & 2019-01-01 & 170.00 & 210.01 & 2015-09-08 05:20:00 & 2015-09-08 11:00:00+00:00 & 10576.00 & 45\\\\\n",
       "\t JCe67df3  & 131106090339 & 37 & 2019-01-01 & 170.00 & 210.01 & 2015-09-08 05:20:00 & 2015-09-09 19:00:00+00:00 & 10576.01 & 45\\\\\n",
       "\t JCe67df3  & 131106090339 & 37 & 2019-01-01 & 170.00 & 210.01 & 2015-09-08 05:20:00 & 2015-09-16 11:00:00+00:00 &  8960.00 & 45\\\\\n",
       "\t JCe67df3  & 131106090339 & 37 & 2019-01-01 & 170.00 & 210.01 & 2015-09-08 05:20:00 & 2015-09-30 23:00:00+00:00 &  9119.64 & 45\\\\\n",
       "\t JCe67df3  & 131106090339 & 37 & 2019-01-01 & 170.00 & 210.01 & 2015-09-08 05:20:00 & 2015-10-04 15:18:00+00:00 &  8560.00 & 45\\\\\n",
       "\t JCe67df3  & 131106090339 & 37 & 2019-01-01 & 170.00 & 210.01 & 2015-09-08 05:20:00 & 2015-10-06 08:00:00+00:00 &  8320.00 & 45\\\\\n",
       "\t JCe67df3  & 131106090339 & 37 & 2019-01-01 & 170.00 & 210.01 & 2015-09-08 05:20:00 & 2015-10-23 20:30:00+00:00 &  8944.00 & 45\\\\\n",
       "\t JCe67df3  & 131106090339 & 37 & 2019-01-01 & 170.00 & 210.01 & 2015-09-08 05:20:00 & 2015-11-02 05:00:00+00:00 &  9824.00 & 45\\\\\n",
       "\t JCe67df3  & 131106090339 & 37 & 2019-01-01 & 170.00 & 210.01 & 2015-09-08 05:20:00 & 2015-11-05 14:00:00+00:00 &  9920.00 & 45\\\\\n",
       "\t JCe67df3  & 131106090339 & 37 & 2019-01-01 & 170.00 & 210.01 & 2015-09-08 05:20:00 & 2015-11-15 22:30:00+00:00 &  8368.00 & 45\\\\\n",
       "\t JCe67df3  & 131106090339 & 37 & 2019-01-01 & 170.00 & 210.01 & 2015-09-08 05:20:00 & 2015-12-12 06:46:00+00:00 &  8218.75 & 45\\\\\n",
       "\t JCe67df3  & 131106090339 & 37 & 2019-01-01 & 170.00 & 210.01 & 2015-09-08 05:20:00 & 2015-12-17 16:34:00+00:00 &  9248.00 & 45\\\\\n",
       "\t JCe67df3  & 131106090339 & 37 & 2019-01-01 & 170.00 & 210.01 & 2015-09-08 05:20:00 & 2015-12-21 19:00:00+00:00 &  9276.96 & 45\\\\\n",
       "\\end{tabular}\n"
      ],
      "text/markdown": [
       "\n",
       "A grouped_df: 134 × 10\n",
       "\n",
       "| anon_id &lt;chr&gt; | pat_enc_csn_id_coded &lt;dbl&gt; | age &lt;int&gt; | recent_date &lt;chr&gt; | recent_height_cm &lt;dbl&gt; | recent_weight_kg &lt;dbl&gt; | admit_time &lt;chr&gt; | recorded_time &lt;chr&gt; | Weight &lt;dbl&gt; | nWe &lt;int&gt; |\n",
       "|---|---|---|---|---|---|---|---|---|---|\n",
       "| JC2a02d79 | 131267473325 | 37 | 2020-03-31 | 175.26 | 211.00 | 2019-06-05 11:41:00 | 2019-06-06 00:32:00+00:00 |  8359.84 | 16 |\n",
       "| JC2a02d79 | 131267473325 | 37 | 2020-03-31 | 175.26 | 211.00 | 2019-06-05 11:41:00 | 2019-06-06 12:45:00+00:00 |  8317.51 | 16 |\n",
       "| JC2a23e61 | 131268863704 | 67 | 2020-02-24 | 124.50 |  38.56 | 2019-06-17 05:31:00 | 2019-06-18 23:30:00+00:00 |   804.24 |  5 |\n",
       "| JC2a23e61 | 131268863704 | 67 | 2020-02-24 | 124.50 |  38.56 | 2019-06-17 05:31:00 | 2019-06-19 23:02:00+00:00 |   888.89 |  5 |\n",
       "| JC2a23e61 | 131268863704 | 67 | 2020-02-24 | 124.50 |  38.56 | 2019-06-17 05:31:00 | 2019-06-20 17:03:00+00:00 |   853.62 |  5 |\n",
       "| JCcb9b40  | 131172519842 | 39 | 2019-01-01 | 182.88 | 260.50 | 2016-01-07 10:19:00 | 2016-01-08 08:13:00+00:00 |  9241.68 |  4 |\n",
       "| JCcb9b40  | 131172519842 | 39 | 2019-01-01 | 182.88 | 260.50 | 2016-01-07 10:19:00 | 2016-01-08 16:27:00+00:00 |  8486.83 |  4 |\n",
       "| JCcb9b40  | 131172519842 | 39 | 2019-01-01 | 182.88 | 260.50 | 2016-01-07 10:19:00 | 2016-01-09 16:29:00+00:00 |  8977.13 |  4 |\n",
       "| JCcba5a7  | 131139556413 | 86 | 2019-01-01 | 152.00 |  27.00 | 2015-10-31 00:41:00 | 2015-10-30 19:27:00+00:00 |   848.01 |  5 |\n",
       "| JCcba5a7  | 131139556413 | 86 | 2019-01-01 | 152.00 |  27.00 | 2015-10-31 00:41:00 | 2015-10-31 14:54:00+00:00 |   910.40 |  5 |\n",
       "| JCcba5a7  | 131139556413 | 86 | 2019-01-01 | 152.00 |  27.00 | 2015-10-31 00:41:00 | 2015-11-01 17:00:00+00:00 |   917.11 |  5 |\n",
       "| JCcba5a7  | 131139556413 | 86 | 2019-01-01 | 152.00 |  27.00 | 2015-10-31 00:41:00 | 2015-11-02 18:30:00+00:00 |   953.60 |  5 |\n",
       "| JCcba5a7  | 131139556413 | 86 | 2019-01-01 | 152.00 |  27.00 | 2015-10-31 00:41:00 | 2015-11-03 15:45:00+00:00 |   856.00 |  5 |\n",
       "| JCcc2b6f  | 131092421099 | 44 | 2019-01-01 | 147.32 |  26.58 | 2015-06-06 04:59:00 | 2015-06-06 04:52:00+00:00 |   987.66 |  4 |\n",
       "| JCcc2b6f  | 131117955539 | 44 | 2019-01-01 | 147.32 |  26.58 | 2015-08-27 14:42:00 | 2015-08-27 07:19:00+00:00 |   960.01 |  4 |\n",
       "| JCcc2b6f  | 131117955539 | 44 | 2019-01-01 | 147.32 |  26.58 | 2015-08-27 14:42:00 | 2015-08-27 14:49:00+00:00 |   903.00 |  4 |\n",
       "| JCcc2b6f  | 131117955539 | 44 | 2019-01-01 | 147.32 |  26.58 | 2015-08-27 14:42:00 | 2015-08-28 11:25:00+00:00 |   917.11 |  4 |\n",
       "| JCcc2b6f  | 131117955539 | 44 | 2019-01-01 | 147.32 |  26.58 | 2015-08-27 14:42:00 | 2015-08-28 12:31:00+00:00 |   927.70 |  4 |\n",
       "| JCcc2b6f  | 131166145514 | 45 | 2019-01-01 | 147.32 |  26.58 | 2015-12-07 04:26:00 | 2015-12-07 07:00:00+00:00 |   937.60 |  1 |\n",
       "| JCcc9cf2  | 131247943088 | 40 | 2020-03-31 | 182.88 | 207.34 | 2018-02-17 06:25:00 | 2018-02-17 06:30:00+00:00 |  8786.65 |  8 |\n",
       "| JCcc9cf2  | 131247943088 | 40 | 2020-03-31 | 182.88 | 207.34 | 2018-02-17 06:25:00 | 2018-02-18 01:00:00+00:00 |  8687.89 |  8 |\n",
       "| JCcc9cf2  | 131247943088 | 40 | 2020-03-31 | 182.88 | 207.34 | 2018-02-17 06:25:00 | 2018-02-18 12:58:00+00:00 |  8578.54 |  8 |\n",
       "| JCcc9cf2  | 131247943088 | 40 | 2020-03-31 | 182.88 | 207.34 | 2018-02-17 06:25:00 | 2018-02-19 13:56:00+00:00 |  8426.86 |  8 |\n",
       "| JCcc9cf2  | 131247943088 | 40 | 2020-03-31 | 182.88 | 207.34 | 2018-02-17 06:25:00 | 2018-02-19 18:06:00+00:00 |  8430.39 |  8 |\n",
       "| JCcc9cf2  | 131247943088 | 40 | 2020-03-31 | 182.88 | 207.34 | 2018-02-17 06:25:00 | 2018-02-20 18:20:00+00:00 |  8278.71 |  8 |\n",
       "| JCcc9cf2  | 131247943088 | 40 | 2020-03-31 | 182.88 | 207.34 | 2018-02-17 06:25:00 | 2018-02-21 13:59:00+00:00 |  8194.06 |  8 |\n",
       "| JCcc9cf2  | 131247943088 | 40 | 2020-03-31 | 182.88 | 207.34 | 2018-02-17 06:25:00 | 2018-02-22 16:58:00+00:00 |  8109.40 |  8 |\n",
       "| JCcd88f7  | 131225645539 | 30 | 2020-03-31 | 149.86 |  26.76 | 2017-03-21 02:40:00 | 2017-03-20 23:48:00+00:00 |   989.92 |  2 |\n",
       "| JCcd88f7  | 131225645539 | 30 | 2020-03-31 | 149.86 |  26.76 | 2017-03-21 02:40:00 | 2017-03-21 10:00:00+00:00 |   989.92 |  2 |\n",
       "| JCcd88f7  | 131277422939 | 33 | 2020-03-31 | 149.86 |  26.76 | 2019-09-15 15:56:00 | 2019-09-14 23:58:00+00:00 |   992.00 |  1 |\n",
       "| JCce2920  | 131239120594 | 68 | 2019-04-16 | 149.90 |  29.50 | 2017-10-21 13:01:00 | 2017-10-21 08:49:00+00:00 |   960.00 |  3 |\n",
       "| JCce2920  | 131239120594 | 68 | 2019-04-16 | 149.90 |  29.50 | 2017-10-21 13:01:00 | 2017-10-22 14:00:00+00:00 |   960.01 |  3 |\n",
       "| JCce2920  | 131239120594 | 68 | 2019-04-16 | 149.90 |  29.50 | 2017-10-21 13:01:00 | 2017-10-22 20:38:00+00:00 |   977.08 |  3 |\n",
       "| JCce2920  | 131240538461 | 68 | 2019-04-16 | 149.90 |  29.50 | 2017-11-27 05:12:00 | 2017-11-27 07:09:00+00:00 |   888.00 |  3 |\n",
       "| JCce2920  | 131240538461 | 68 | 2019-04-16 | 149.90 |  29.50 | 2017-11-27 05:12:00 | 2017-11-27 15:43:00+00:00 |   881.84 |  3 |\n",
       "| JCce2920  | 131240538461 | 68 | 2019-04-16 | 149.90 |  29.50 | 2017-11-27 05:12:00 | 2017-11-28 15:13:00+00:00 |   899.48 |  3 |\n",
       "| JCce4fbd  | 131179763273 | 51 | 2019-01-01 | 185.42 | 158.76 | 2016-02-04 10:46:00 | 2016-02-04 20:24:00+00:00 |  8220.80 | 10 |\n",
       "| JCce4fbd  | 131179763273 | 51 | 2019-01-01 | 185.42 | 158.76 | 2016-02-04 10:46:00 | 2016-02-05 03:19:00+00:00 |  8032.00 | 10 |\n",
       "| JCce4fbd  | 131179763273 | 51 | 2019-01-01 | 185.42 | 158.76 | 2016-02-04 10:46:00 | 2016-02-06 17:24:00+00:00 |  8067.07 | 10 |\n",
       "| JCce4fbd  | 131179763273 | 51 | 2019-01-01 | 185.42 | 158.76 | 2016-02-04 10:46:00 | 2016-02-07 17:04:00+00:00 |  8017.69 | 10 |\n",
       "| JCce4fbd  | 131179763273 | 51 | 2019-01-01 | 185.42 | 158.76 | 2016-02-04 10:46:00 | 2016-02-08 16:54:00+00:00 |  8000.05 | 10 |\n",
       "| JCceb47b  | 131250176231 | 31 | 2020-03-31 | 187.96 | 317.51 | 2018-05-17 16:16:00 | 2018-05-17 13:14:00+00:00 | 11199.37 |  3 |\n",
       "| JCceb47b  | 131250176231 | 31 | 2020-03-31 | 187.96 | 317.51 | 2018-05-17 16:16:00 | 2018-05-18 06:00:00+00:00 | 12024.77 |  3 |\n",
       "| JCceb47b  | 131250176231 | 31 | 2020-03-31 | 187.96 | 317.51 | 2018-05-17 16:16:00 | 2018-05-25 15:26:00+00:00 | 11200.00 |  3 |\n",
       "| JCcfecc2  | 131254389083 | 34 | 2020-03-10 | 142.20 |  20.50 | 2018-07-10 03:29:00 | 2018-07-09 21:24:00+00:00 |   720.00 |  1 |\n",
       "| JCcfecc2  | 131271215701 | 35 | 2020-03-10 | 142.20 |  20.50 | 2019-06-16 15:36:00 | 2019-06-16 17:58:00+00:00 |   751.33 |  1 |\n",
       "| JCd28213  | 131216032923 | 52 | 2020-03-31 | 195.58 | 174.18 | 2017-01-09 04:42:00 | 2017-01-13 19:21:00+00:00 |  8500.94 | 10 |\n",
       "| JCd28213  | 131224005264 | 52 | 2020-03-31 | 195.58 | 174.18 | 2017-03-08 10:19:00 | 2017-03-08 18:22:00+00:00 |  8249.44 | 15 |\n",
       "| JCd28213  | 131224005264 | 52 | 2020-03-31 | 195.58 | 174.18 | 2017-03-08 10:19:00 | 2017-03-10 15:46:00+00:00 |  8246.97 | 15 |\n",
       "| JCd28213  | 131236672868 | 53 | 2020-03-31 | 195.58 | 174.18 | 2017-07-01 08:00:00 | 2017-07-01 15:00:00+00:00 |  8014.16 | 11 |\n",
       "| JCd3ad58  | 131211637127 | 41 | 2019-01-01 | 177.80 | 198.50 | 2017-01-23 23:37:00 | 2017-01-24 01:01:00+00:00 |  8144.00 |  3 |\n",
       "| JCd3ad58  | 131211637127 | 41 | 2019-01-01 | 177.80 | 198.50 | 2017-01-23 23:37:00 | 2017-01-24 01:31:00+00:00 |  8091.20 |  3 |\n",
       "| JCd473c6  | 131281585175 | 31 | 2020-03-31 | 162.56 | 320.69 | 2019-12-10 23:52:00 | 2019-12-10 23:30:00+00:00 | 11005.36 |  5 |\n",
       "| JCd473c6  | 131281585175 | 31 | 2020-03-31 | 162.56 | 320.69 | 2019-12-10 23:52:00 | 2019-12-11 14:39:00+00:00 | 10640.00 |  5 |\n",
       "| JCd473c6  | 131281585175 | 31 | 2020-03-31 | 162.56 | 320.69 | 2019-12-10 23:52:00 | 2019-12-12 11:30:00+00:00 | 10624.00 |  5 |\n",
       "| JCd473c6  | 131281585175 | 31 | 2020-03-31 | 162.56 | 320.69 | 2019-12-10 23:52:00 | 2019-12-13 12:21:00+00:00 | 10432.00 |  5 |\n",
       "| JCd473c6  | 131281585175 | 31 | 2020-03-31 | 162.56 | 320.69 | 2019-12-10 23:52:00 | 2019-12-14 14:42:00+00:00 | 10272.00 |  5 |\n",
       "| JCd473c6  | 131287076413 | 31 | 2020-03-31 | 162.56 | 320.69 | 2020-03-07 11:46:00 | 2020-03-07 09:16:00+00:00 | 10224.00 |  5 |\n",
       "| JCd473c6  | 131287076413 | 31 | 2020-03-31 | 162.56 | 320.69 | 2020-03-07 11:46:00 | 2020-03-09 12:00:00+00:00 | 12381.03 |  5 |\n",
       "| JCd473c6  | 131287076413 | 31 | 2020-03-31 | 162.56 | 320.69 | 2020-03-07 11:46:00 | 2020-03-09 20:00:00+00:00 | 11392.00 |  5 |\n",
       "| JCd473c6  | 131287076413 | 31 | 2020-03-31 | 162.56 | 320.69 | 2020-03-07 11:46:00 | 2020-03-10 11:40:00+00:00 | 11396.90 |  5 |\n",
       "| JCd473c6  | 131287076413 | 31 | 2020-03-31 | 162.56 | 320.69 | 2020-03-07 11:46:00 | 2020-03-11 12:53:00+00:00 | 11312.00 |  5 |\n",
       "| JCd4c260  | 131281664741 | 37 | 2020-02-27 | 198.12 | 243.00 | 2019-12-17 02:52:00 | 2019-12-16 23:16:00+00:00 |  8400.00 |  5 |\n",
       "| JCd4c260  | 131281664741 | 37 | 2020-02-27 | 198.12 | 243.00 | 2019-12-17 02:52:00 | 2019-12-17 06:40:00+00:00 |  8606.76 |  5 |\n",
       "| JCd4c260  | 131281664741 | 37 | 2020-02-27 | 198.12 | 243.00 | 2019-12-17 02:52:00 | 2019-12-17 14:00:00+00:00 |  8606.76 |  5 |\n",
       "| JCd4c260  | 131281664741 | 37 | 2020-02-27 | 198.12 | 243.00 | 2019-12-17 02:52:00 | 2019-12-18 14:15:00+00:00 |  8571.48 |  5 |\n",
       "| JCd4c260  | 131281664741 | 37 | 2020-02-27 | 198.12 | 243.00 | 2019-12-17 02:52:00 | 2019-12-19 14:31:00+00:00 |  8571.48 |  5 |\n",
       "| JCd79c04  | 131284275359 | 29 | 2020-03-31 | 175.26 | 273.06 | 2020-03-11 09:42:00 | 2020-03-12 03:10:00+00:00 |  9280.00 |  2 |\n",
       "| JCd79c04  | 131284275359 | 29 | 2020-03-31 | 175.26 | 273.06 | 2020-03-11 09:42:00 | 2020-03-18 18:50:00+00:00 |  9636.75 |  2 |\n",
       "| JCd7cd74  | 131075305158 | 40 | 2020-03-31 | 185.42 | 190.51 | 2015-02-11 13:52:00 | 2015-02-11 10:30:00+00:00 |  8800.00 |  4 |\n",
       "| JCd7cd74  | 131075305158 | 40 | 2020-03-31 | 185.42 | 190.51 | 2015-02-11 13:52:00 | 2015-02-11 20:56:00+00:00 |  8799.99 |  4 |\n",
       "| JCda2a71  | 131263398985 | 49 | 2020-03-31 | 177.80 | 232.69 | 2019-03-13 09:51:00 | 2019-03-13 09:55:00+00:00 |  8064.00 |  3 |\n",
       "| JCda2a71  | 131263398985 | 49 | 2020-03-31 | 177.80 | 232.69 | 2019-03-13 09:51:00 | 2019-03-14 02:45:00+00:00 |  8042.38 |  3 |\n",
       "| JCda2a71  | 131263398985 | 49 | 2020-03-31 | 177.80 | 232.69 | 2019-03-13 09:51:00 | 2019-03-14 19:03:00+00:00 |  8074.13 |  3 |\n",
       "| JCdc24fa  | 131237635539 | 83 | 2019-01-01 | 139.70 |  33.79 | 2017-07-25 06:11:00 | 2017-07-26 19:29:00+00:00 |   980.61 |  2 |\n",
       "| JCdc24fa  | 131237635539 | 83 | 2019-01-01 | 139.70 |  33.79 | 2017-07-25 06:11:00 | 2017-07-27 12:11:00+00:00 |   994.72 |  2 |\n",
       "| JCdc64cd  | 131257236159 | 22 | 2020-03-31 | 152.40 |  28.95 | 2018-09-04 06:52:00 | 2018-09-06 01:13:00+00:00 |   959.44 |  7 |\n",
       "| JCdc64cd  | 131279631642 | 23 | 2020-03-31 | 152.40 |  28.95 | 2019-11-12 23:18:00 | 2019-11-12 21:03:00+00:00 |   973.55 |  2 |\n",
       "| JCdc64cd  | 131279631642 | 23 | 2020-03-31 | 152.40 |  28.95 | 2019-11-12 23:18:00 | 2019-11-13 17:00:00+00:00 |   973.55 |  2 |\n",
       "| JCdcc1fd  | 131210841235 | 70 | 2019-01-01 | 168.91 | 245.00 | 2017-01-06 02:54:00 | 2017-01-06 01:00:00+00:00 |  9276.96 | 10 |\n",
       "| JCdcc1fd  | 131210841235 | 70 | 2019-01-01 | 168.91 | 245.00 | 2017-01-06 02:54:00 | 2017-01-09 23:22:00+00:00 |  8192.00 | 10 |\n",
       "| JCdcc1fd  | 131231087658 | 70 | 2019-01-01 | 168.91 | 245.00 | 2017-06-16 05:38:00 | 2017-06-16 01:01:00+00:00 |  8148.20 |  8 |\n",
       "| JCdcc1fd  | 131231087658 | 70 | 2019-01-01 | 168.91 | 245.00 | 2017-06-16 05:38:00 | 2017-06-16 23:14:00+00:00 |  8148.20 |  8 |\n",
       "| JCdcc1fd  | 131231087658 | 70 | 2019-01-01 | 168.91 | 245.00 | 2017-06-16 05:38:00 | 2017-06-20 19:24:00+00:00 |  8030.40 |  8 |\n",
       "| JCdcc1fd  | 131239784374 | 70 | 2019-01-01 | 168.91 | 245.00 | 2017-11-01 03:41:00 | 2017-11-05 08:00:00+00:00 |  9584.00 |  4 |\n",
       "| JCdcc1fd  | 131239784374 | 70 | 2019-01-01 | 168.91 | 245.00 | 2017-11-01 03:41:00 | 2017-11-05 19:04:00+00:00 |  9216.00 |  4 |\n",
       "| JCe02733  | 131252366789 | 35 | 2020-03-31 | 180.34 | 209.11 | 2018-07-15 22:53:00 | 2018-07-15 18:11:00+00:00 |  8476.25 |  2 |\n",
       "| JCe02733  | 131252366789 | 35 | 2020-03-31 | 180.34 | 209.11 | 2018-07-15 22:53:00 | 2018-07-17 17:30:00+00:00 |  8507.99 |  2 |\n",
       "| JCe02733  | 131257060312 | 35 | 2020-03-31 | 180.34 | 209.11 | 2018-10-11 10:09:00 | 2018-10-11 07:44:00+00:00 |  8320.00 |  2 |\n",
       "| JCe02733  | 131268993393 | 36 | 2020-03-31 | 180.34 | 209.11 | 2019-07-06 09:43:00 | 2019-07-06 06:52:00+00:00 |  8536.21 |  1 |\n",
       "| JCe0ff8a  | 131206161990 | 25 | 2020-03-10 | 162.56 |  32.66 | 2016-10-29 11:56:00 | 2016-10-29 10:13:00+00:00 |   959.44 |  5 |\n",
       "| JCe0ff8a  | 131206161990 | 25 | 2020-03-10 | 162.56 |  32.66 | 2016-10-29 11:56:00 | 2016-10-31 16:15:00+00:00 |   998.24 |  5 |\n",
       "| JCe0ff8a  | 131209695675 | 25 | 2020-03-10 | 162.56 |  32.66 | 2016-11-27 05:33:00 | 2016-11-27 01:55:00+00:00 |   952.39 | 30 |\n",
       "| JCe0ff8a  | 131209695675 | 25 | 2020-03-10 | 162.56 |  32.66 | 2016-11-27 05:33:00 | 2016-11-27 16:40:00+00:00 |   931.20 | 30 |\n",
       "| JCe0ff8a  | 131209695675 | 25 | 2020-03-10 | 162.56 |  32.66 | 2016-11-27 05:33:00 | 2016-11-28 16:57:00+00:00 |   929.60 | 30 |\n",
       "| JCe0ff8a  | 131209695675 | 25 | 2020-03-10 | 162.56 |  32.66 | 2016-11-27 05:33:00 | 2016-11-29 18:43:00+00:00 |   984.13 | 30 |\n",
       "| JCe0ff8a  | 131209695675 | 25 | 2020-03-10 | 162.56 |  32.66 | 2016-11-27 05:33:00 | 2016-11-29 19:00:00+00:00 |   955.91 | 30 |\n",
       "| JCe0ff8a  | 131209695675 | 25 | 2020-03-10 | 162.56 |  32.66 | 2016-11-27 05:33:00 | 2016-11-30 17:00:00+00:00 |   966.50 | 30 |\n",
       "| JCe0ff8a  | 131209695675 | 25 | 2020-03-10 | 162.56 |  32.66 | 2016-11-27 05:33:00 | 2016-12-01 17:47:00+00:00 |   987.66 | 30 |\n",
       "| JCe188ce  | 131179394929 | 40 | 2019-01-01 | 187.96 | 219.40 | 2016-03-17 07:04:00 | 2016-03-17 05:24:00+00:00 |  8712.58 |  3 |\n",
       "| JCe188ce  | 131179394929 | 40 | 2019-01-01 | 187.96 | 219.40 | 2016-03-17 07:04:00 | 2016-03-17 10:51:00+00:00 |  8532.68 |  3 |\n",
       "| JCe2ceb6  | 131281137170 | 36 | 2020-03-05 | 154.94 |  28.21 | 2019-12-11 21:46:00 | 2019-12-11 18:45:00+00:00 |   917.11 | 13 |\n",
       "| JCe2ceb6  | 131281137170 | 36 | 2020-03-05 | 154.94 |  28.21 | 2019-12-11 21:46:00 | 2019-12-12 18:00:00+00:00 |   917.11 | 13 |\n",
       "| JCe36b60  | 131266229537 | 69 | 2020-03-31 | 175.26 | 199.13 | 2019-05-02 20:39:00 | 2019-05-02 19:12:00+00:00 |  9600.00 |  6 |\n",
       "| JCe36b60  | 131266229537 | 69 | 2020-03-31 | 175.26 | 199.13 | 2019-05-02 20:39:00 | 2019-05-03 02:00:00+00:00 |  8395.12 |  6 |\n",
       "| JCe36b60  | 131279779250 | 69 | 2020-03-31 | 175.26 | 199.13 | 2019-12-20 07:01:00 | 2019-12-20 08:35:00+00:00 |  8832.00 | 11 |\n",
       "| JCe36b60  | 131279779250 | 69 | 2020-03-31 | 175.26 | 199.13 | 2019-12-20 07:01:00 | 2019-12-21 14:00:00+00:00 |  8512.00 | 11 |\n",
       "| JCe36b60  | 131279779250 | 69 | 2020-03-31 | 175.26 | 199.13 | 2019-12-20 07:01:00 | 2019-12-22 12:11:00+00:00 |  8224.00 | 11 |\n",
       "| JCe36b60  | 131279779250 | 69 | 2020-03-31 | 175.26 | 199.13 | 2019-12-20 07:01:00 | 2019-12-23 13:35:00+00:00 |  8224.00 | 11 |\n",
       "| JCe36b60  | 131279779250 | 69 | 2020-03-31 | 175.26 | 199.13 | 2019-12-20 07:01:00 | 2019-12-24 12:16:00+00:00 |  8880.00 | 11 |\n",
       "| JCe36b60  | 131279779250 | 69 | 2020-03-31 | 175.26 | 199.13 | 2019-12-20 07:01:00 | 2019-12-25 15:00:00+00:00 |  9770.79 | 11 |\n",
       "| JCe40362  | 131272125723 | 34 | 2020-03-31 | 187.96 | 224.71 | 2019-07-16 02:47:00 | 2019-07-16 00:57:00+00:00 |  8042.38 |  5 |\n",
       "| JCe40362  | 131272125723 | 34 | 2020-03-31 | 187.96 | 224.71 | 2019-07-16 02:47:00 | 2019-07-16 03:49:00+00:00 |  8014.16 |  5 |\n",
       "| JCe67df3  | 131072939462 | 36 | 2019-01-01 | 170.00 | 210.01 | 2015-03-13 10:19:00 | 2015-03-13 03:03:00+00:00 |  9382.78 |  5 |\n",
       "| JCe67df3  | 131072939462 | 36 | 2019-01-01 | 170.00 | 210.01 | 2015-03-13 10:19:00 | 2015-03-14 12:00:00+00:00 |  9440.00 |  5 |\n",
       "| JCe67df3  | 131072939462 | 36 | 2019-01-01 | 170.00 | 210.01 | 2015-03-13 10:19:00 | 2015-03-14 23:37:00+00:00 |  9418.05 |  5 |\n",
       "| JCe67df3  | 131072939462 | 36 | 2019-01-01 | 170.00 | 210.01 | 2015-03-13 10:19:00 | 2015-03-21 18:00:00+00:00 |  9344.00 |  5 |\n",
       "| JCe67df3  | 131072939462 | 36 | 2019-01-01 | 170.00 | 210.01 | 2015-03-13 10:19:00 | 2015-03-26 00:00:00+00:00 |  9347.50 |  5 |\n",
       "| JCe67df3  | 131084284228 | 37 | 2019-01-01 | 170.00 | 210.01 | 2015-05-27 01:49:00 | 2015-05-26 20:01:00+00:00 |  9816.64 |  1 |\n",
       "| JCe67df3  | 131091796152 | 37 | 2019-01-01 | 170.00 | 210.01 | 2015-07-18 09:23:00 | 2015-07-19 18:53:00+00:00 | 10192.00 |  1 |\n",
       "| JCe67df3  | 131106090339 | 37 | 2019-01-01 | 170.00 | 210.01 | 2015-09-08 05:20:00 | 2015-09-08 07:00:00+00:00 |  9700.24 | 45 |\n",
       "| JCe67df3  | 131106090339 | 37 | 2019-01-01 | 170.00 | 210.01 | 2015-09-08 05:20:00 | 2015-09-08 11:00:00+00:00 | 10576.00 | 45 |\n",
       "| JCe67df3  | 131106090339 | 37 | 2019-01-01 | 170.00 | 210.01 | 2015-09-08 05:20:00 | 2015-09-09 19:00:00+00:00 | 10576.01 | 45 |\n",
       "| JCe67df3  | 131106090339 | 37 | 2019-01-01 | 170.00 | 210.01 | 2015-09-08 05:20:00 | 2015-09-16 11:00:00+00:00 |  8960.00 | 45 |\n",
       "| JCe67df3  | 131106090339 | 37 | 2019-01-01 | 170.00 | 210.01 | 2015-09-08 05:20:00 | 2015-09-30 23:00:00+00:00 |  9119.64 | 45 |\n",
       "| JCe67df3  | 131106090339 | 37 | 2019-01-01 | 170.00 | 210.01 | 2015-09-08 05:20:00 | 2015-10-04 15:18:00+00:00 |  8560.00 | 45 |\n",
       "| JCe67df3  | 131106090339 | 37 | 2019-01-01 | 170.00 | 210.01 | 2015-09-08 05:20:00 | 2015-10-06 08:00:00+00:00 |  8320.00 | 45 |\n",
       "| JCe67df3  | 131106090339 | 37 | 2019-01-01 | 170.00 | 210.01 | 2015-09-08 05:20:00 | 2015-10-23 20:30:00+00:00 |  8944.00 | 45 |\n",
       "| JCe67df3  | 131106090339 | 37 | 2019-01-01 | 170.00 | 210.01 | 2015-09-08 05:20:00 | 2015-11-02 05:00:00+00:00 |  9824.00 | 45 |\n",
       "| JCe67df3  | 131106090339 | 37 | 2019-01-01 | 170.00 | 210.01 | 2015-09-08 05:20:00 | 2015-11-05 14:00:00+00:00 |  9920.00 | 45 |\n",
       "| JCe67df3  | 131106090339 | 37 | 2019-01-01 | 170.00 | 210.01 | 2015-09-08 05:20:00 | 2015-11-15 22:30:00+00:00 |  8368.00 | 45 |\n",
       "| JCe67df3  | 131106090339 | 37 | 2019-01-01 | 170.00 | 210.01 | 2015-09-08 05:20:00 | 2015-12-12 06:46:00+00:00 |  8218.75 | 45 |\n",
       "| JCe67df3  | 131106090339 | 37 | 2019-01-01 | 170.00 | 210.01 | 2015-09-08 05:20:00 | 2015-12-17 16:34:00+00:00 |  9248.00 | 45 |\n",
       "| JCe67df3  | 131106090339 | 37 | 2019-01-01 | 170.00 | 210.01 | 2015-09-08 05:20:00 | 2015-12-21 19:00:00+00:00 |  9276.96 | 45 |\n",
       "\n"
      ],
      "text/plain": [
       "    anon_id   pat_enc_csn_id_coded age recent_date recent_height_cm\n",
       "1   JC2a02d79 131267473325         37  2020-03-31  175.26          \n",
       "2   JC2a02d79 131267473325         37  2020-03-31  175.26          \n",
       "3   JC2a23e61 131268863704         67  2020-02-24  124.50          \n",
       "4   JC2a23e61 131268863704         67  2020-02-24  124.50          \n",
       "5   JC2a23e61 131268863704         67  2020-02-24  124.50          \n",
       "6   JCcb9b40  131172519842         39  2019-01-01  182.88          \n",
       "7   JCcb9b40  131172519842         39  2019-01-01  182.88          \n",
       "8   JCcb9b40  131172519842         39  2019-01-01  182.88          \n",
       "9   JCcba5a7  131139556413         86  2019-01-01  152.00          \n",
       "10  JCcba5a7  131139556413         86  2019-01-01  152.00          \n",
       "11  JCcba5a7  131139556413         86  2019-01-01  152.00          \n",
       "12  JCcba5a7  131139556413         86  2019-01-01  152.00          \n",
       "13  JCcba5a7  131139556413         86  2019-01-01  152.00          \n",
       "14  JCcc2b6f  131092421099         44  2019-01-01  147.32          \n",
       "15  JCcc2b6f  131117955539         44  2019-01-01  147.32          \n",
       "16  JCcc2b6f  131117955539         44  2019-01-01  147.32          \n",
       "17  JCcc2b6f  131117955539         44  2019-01-01  147.32          \n",
       "18  JCcc2b6f  131117955539         44  2019-01-01  147.32          \n",
       "19  JCcc2b6f  131166145514         45  2019-01-01  147.32          \n",
       "20  JCcc9cf2  131247943088         40  2020-03-31  182.88          \n",
       "21  JCcc9cf2  131247943088         40  2020-03-31  182.88          \n",
       "22  JCcc9cf2  131247943088         40  2020-03-31  182.88          \n",
       "23  JCcc9cf2  131247943088         40  2020-03-31  182.88          \n",
       "24  JCcc9cf2  131247943088         40  2020-03-31  182.88          \n",
       "25  JCcc9cf2  131247943088         40  2020-03-31  182.88          \n",
       "26  JCcc9cf2  131247943088         40  2020-03-31  182.88          \n",
       "27  JCcc9cf2  131247943088         40  2020-03-31  182.88          \n",
       "28  JCcd88f7  131225645539         30  2020-03-31  149.86          \n",
       "29  JCcd88f7  131225645539         30  2020-03-31  149.86          \n",
       "30  JCcd88f7  131277422939         33  2020-03-31  149.86          \n",
       "31  JCce2920  131239120594         68  2019-04-16  149.90          \n",
       "32  JCce2920  131239120594         68  2019-04-16  149.90          \n",
       "33  JCce2920  131239120594         68  2019-04-16  149.90          \n",
       "34  JCce2920  131240538461         68  2019-04-16  149.90          \n",
       "35  JCce2920  131240538461         68  2019-04-16  149.90          \n",
       "36  JCce2920  131240538461         68  2019-04-16  149.90          \n",
       "37  JCce4fbd  131179763273         51  2019-01-01  185.42          \n",
       "38  JCce4fbd  131179763273         51  2019-01-01  185.42          \n",
       "39  JCce4fbd  131179763273         51  2019-01-01  185.42          \n",
       "40  JCce4fbd  131179763273         51  2019-01-01  185.42          \n",
       "41  JCce4fbd  131179763273         51  2019-01-01  185.42          \n",
       "42  JCceb47b  131250176231         31  2020-03-31  187.96          \n",
       "43  JCceb47b  131250176231         31  2020-03-31  187.96          \n",
       "44  JCceb47b  131250176231         31  2020-03-31  187.96          \n",
       "45  JCcfecc2  131254389083         34  2020-03-10  142.20          \n",
       "46  JCcfecc2  131271215701         35  2020-03-10  142.20          \n",
       "47  JCd28213  131216032923         52  2020-03-31  195.58          \n",
       "48  JCd28213  131224005264         52  2020-03-31  195.58          \n",
       "49  JCd28213  131224005264         52  2020-03-31  195.58          \n",
       "50  JCd28213  131236672868         53  2020-03-31  195.58          \n",
       "51  JCd3ad58  131211637127         41  2019-01-01  177.80          \n",
       "52  JCd3ad58  131211637127         41  2019-01-01  177.80          \n",
       "53  JCd473c6  131281585175         31  2020-03-31  162.56          \n",
       "54  JCd473c6  131281585175         31  2020-03-31  162.56          \n",
       "55  JCd473c6  131281585175         31  2020-03-31  162.56          \n",
       "56  JCd473c6  131281585175         31  2020-03-31  162.56          \n",
       "57  JCd473c6  131281585175         31  2020-03-31  162.56          \n",
       "58  JCd473c6  131287076413         31  2020-03-31  162.56          \n",
       "59  JCd473c6  131287076413         31  2020-03-31  162.56          \n",
       "60  JCd473c6  131287076413         31  2020-03-31  162.56          \n",
       "61  JCd473c6  131287076413         31  2020-03-31  162.56          \n",
       "62  JCd473c6  131287076413         31  2020-03-31  162.56          \n",
       "63  JCd4c260  131281664741         37  2020-02-27  198.12          \n",
       "64  JCd4c260  131281664741         37  2020-02-27  198.12          \n",
       "65  JCd4c260  131281664741         37  2020-02-27  198.12          \n",
       "66  JCd4c260  131281664741         37  2020-02-27  198.12          \n",
       "67  JCd4c260  131281664741         37  2020-02-27  198.12          \n",
       "68  JCd79c04  131284275359         29  2020-03-31  175.26          \n",
       "69  JCd79c04  131284275359         29  2020-03-31  175.26          \n",
       "70  JCd7cd74  131075305158         40  2020-03-31  185.42          \n",
       "71  JCd7cd74  131075305158         40  2020-03-31  185.42          \n",
       "72  JCda2a71  131263398985         49  2020-03-31  177.80          \n",
       "73  JCda2a71  131263398985         49  2020-03-31  177.80          \n",
       "74  JCda2a71  131263398985         49  2020-03-31  177.80          \n",
       "75  JCdc24fa  131237635539         83  2019-01-01  139.70          \n",
       "76  JCdc24fa  131237635539         83  2019-01-01  139.70          \n",
       "77  JCdc64cd  131257236159         22  2020-03-31  152.40          \n",
       "78  JCdc64cd  131279631642         23  2020-03-31  152.40          \n",
       "79  JCdc64cd  131279631642         23  2020-03-31  152.40          \n",
       "80  JCdcc1fd  131210841235         70  2019-01-01  168.91          \n",
       "81  JCdcc1fd  131210841235         70  2019-01-01  168.91          \n",
       "82  JCdcc1fd  131231087658         70  2019-01-01  168.91          \n",
       "83  JCdcc1fd  131231087658         70  2019-01-01  168.91          \n",
       "84  JCdcc1fd  131231087658         70  2019-01-01  168.91          \n",
       "85  JCdcc1fd  131239784374         70  2019-01-01  168.91          \n",
       "86  JCdcc1fd  131239784374         70  2019-01-01  168.91          \n",
       "87  JCe02733  131252366789         35  2020-03-31  180.34          \n",
       "88  JCe02733  131252366789         35  2020-03-31  180.34          \n",
       "89  JCe02733  131257060312         35  2020-03-31  180.34          \n",
       "90  JCe02733  131268993393         36  2020-03-31  180.34          \n",
       "91  JCe0ff8a  131206161990         25  2020-03-10  162.56          \n",
       "92  JCe0ff8a  131206161990         25  2020-03-10  162.56          \n",
       "93  JCe0ff8a  131209695675         25  2020-03-10  162.56          \n",
       "94  JCe0ff8a  131209695675         25  2020-03-10  162.56          \n",
       "95  JCe0ff8a  131209695675         25  2020-03-10  162.56          \n",
       "96  JCe0ff8a  131209695675         25  2020-03-10  162.56          \n",
       "97  JCe0ff8a  131209695675         25  2020-03-10  162.56          \n",
       "98  JCe0ff8a  131209695675         25  2020-03-10  162.56          \n",
       "99  JCe0ff8a  131209695675         25  2020-03-10  162.56          \n",
       "100 JCe188ce  131179394929         40  2019-01-01  187.96          \n",
       "101 JCe188ce  131179394929         40  2019-01-01  187.96          \n",
       "102 JCe2ceb6  131281137170         36  2020-03-05  154.94          \n",
       "103 JCe2ceb6  131281137170         36  2020-03-05  154.94          \n",
       "104 JCe36b60  131266229537         69  2020-03-31  175.26          \n",
       "105 JCe36b60  131266229537         69  2020-03-31  175.26          \n",
       "106 JCe36b60  131279779250         69  2020-03-31  175.26          \n",
       "107 JCe36b60  131279779250         69  2020-03-31  175.26          \n",
       "108 JCe36b60  131279779250         69  2020-03-31  175.26          \n",
       "109 JCe36b60  131279779250         69  2020-03-31  175.26          \n",
       "110 JCe36b60  131279779250         69  2020-03-31  175.26          \n",
       "111 JCe36b60  131279779250         69  2020-03-31  175.26          \n",
       "112 JCe40362  131272125723         34  2020-03-31  187.96          \n",
       "113 JCe40362  131272125723         34  2020-03-31  187.96          \n",
       "114 JCe67df3  131072939462         36  2019-01-01  170.00          \n",
       "115 JCe67df3  131072939462         36  2019-01-01  170.00          \n",
       "116 JCe67df3  131072939462         36  2019-01-01  170.00          \n",
       "117 JCe67df3  131072939462         36  2019-01-01  170.00          \n",
       "118 JCe67df3  131072939462         36  2019-01-01  170.00          \n",
       "119 JCe67df3  131084284228         37  2019-01-01  170.00          \n",
       "120 JCe67df3  131091796152         37  2019-01-01  170.00          \n",
       "121 JCe67df3  131106090339         37  2019-01-01  170.00          \n",
       "122 JCe67df3  131106090339         37  2019-01-01  170.00          \n",
       "123 JCe67df3  131106090339         37  2019-01-01  170.00          \n",
       "124 JCe67df3  131106090339         37  2019-01-01  170.00          \n",
       "125 JCe67df3  131106090339         37  2019-01-01  170.00          \n",
       "126 JCe67df3  131106090339         37  2019-01-01  170.00          \n",
       "127 JCe67df3  131106090339         37  2019-01-01  170.00          \n",
       "128 JCe67df3  131106090339         37  2019-01-01  170.00          \n",
       "129 JCe67df3  131106090339         37  2019-01-01  170.00          \n",
       "130 JCe67df3  131106090339         37  2019-01-01  170.00          \n",
       "131 JCe67df3  131106090339         37  2019-01-01  170.00          \n",
       "132 JCe67df3  131106090339         37  2019-01-01  170.00          \n",
       "133 JCe67df3  131106090339         37  2019-01-01  170.00          \n",
       "134 JCe67df3  131106090339         37  2019-01-01  170.00          \n",
       "    recent_weight_kg admit_time          recorded_time             Weight   nWe\n",
       "1   211.00           2019-06-05 11:41:00 2019-06-06 00:32:00+00:00  8359.84 16 \n",
       "2   211.00           2019-06-05 11:41:00 2019-06-06 12:45:00+00:00  8317.51 16 \n",
       "3    38.56           2019-06-17 05:31:00 2019-06-18 23:30:00+00:00   804.24  5 \n",
       "4    38.56           2019-06-17 05:31:00 2019-06-19 23:02:00+00:00   888.89  5 \n",
       "5    38.56           2019-06-17 05:31:00 2019-06-20 17:03:00+00:00   853.62  5 \n",
       "6   260.50           2016-01-07 10:19:00 2016-01-08 08:13:00+00:00  9241.68  4 \n",
       "7   260.50           2016-01-07 10:19:00 2016-01-08 16:27:00+00:00  8486.83  4 \n",
       "8   260.50           2016-01-07 10:19:00 2016-01-09 16:29:00+00:00  8977.13  4 \n",
       "9    27.00           2015-10-31 00:41:00 2015-10-30 19:27:00+00:00   848.01  5 \n",
       "10   27.00           2015-10-31 00:41:00 2015-10-31 14:54:00+00:00   910.40  5 \n",
       "11   27.00           2015-10-31 00:41:00 2015-11-01 17:00:00+00:00   917.11  5 \n",
       "12   27.00           2015-10-31 00:41:00 2015-11-02 18:30:00+00:00   953.60  5 \n",
       "13   27.00           2015-10-31 00:41:00 2015-11-03 15:45:00+00:00   856.00  5 \n",
       "14   26.58           2015-06-06 04:59:00 2015-06-06 04:52:00+00:00   987.66  4 \n",
       "15   26.58           2015-08-27 14:42:00 2015-08-27 07:19:00+00:00   960.01  4 \n",
       "16   26.58           2015-08-27 14:42:00 2015-08-27 14:49:00+00:00   903.00  4 \n",
       "17   26.58           2015-08-27 14:42:00 2015-08-28 11:25:00+00:00   917.11  4 \n",
       "18   26.58           2015-08-27 14:42:00 2015-08-28 12:31:00+00:00   927.70  4 \n",
       "19   26.58           2015-12-07 04:26:00 2015-12-07 07:00:00+00:00   937.60  1 \n",
       "20  207.34           2018-02-17 06:25:00 2018-02-17 06:30:00+00:00  8786.65  8 \n",
       "21  207.34           2018-02-17 06:25:00 2018-02-18 01:00:00+00:00  8687.89  8 \n",
       "22  207.34           2018-02-17 06:25:00 2018-02-18 12:58:00+00:00  8578.54  8 \n",
       "23  207.34           2018-02-17 06:25:00 2018-02-19 13:56:00+00:00  8426.86  8 \n",
       "24  207.34           2018-02-17 06:25:00 2018-02-19 18:06:00+00:00  8430.39  8 \n",
       "25  207.34           2018-02-17 06:25:00 2018-02-20 18:20:00+00:00  8278.71  8 \n",
       "26  207.34           2018-02-17 06:25:00 2018-02-21 13:59:00+00:00  8194.06  8 \n",
       "27  207.34           2018-02-17 06:25:00 2018-02-22 16:58:00+00:00  8109.40  8 \n",
       "28   26.76           2017-03-21 02:40:00 2017-03-20 23:48:00+00:00   989.92  2 \n",
       "29   26.76           2017-03-21 02:40:00 2017-03-21 10:00:00+00:00   989.92  2 \n",
       "30   26.76           2019-09-15 15:56:00 2019-09-14 23:58:00+00:00   992.00  1 \n",
       "31   29.50           2017-10-21 13:01:00 2017-10-21 08:49:00+00:00   960.00  3 \n",
       "32   29.50           2017-10-21 13:01:00 2017-10-22 14:00:00+00:00   960.01  3 \n",
       "33   29.50           2017-10-21 13:01:00 2017-10-22 20:38:00+00:00   977.08  3 \n",
       "34   29.50           2017-11-27 05:12:00 2017-11-27 07:09:00+00:00   888.00  3 \n",
       "35   29.50           2017-11-27 05:12:00 2017-11-27 15:43:00+00:00   881.84  3 \n",
       "36   29.50           2017-11-27 05:12:00 2017-11-28 15:13:00+00:00   899.48  3 \n",
       "37  158.76           2016-02-04 10:46:00 2016-02-04 20:24:00+00:00  8220.80 10 \n",
       "38  158.76           2016-02-04 10:46:00 2016-02-05 03:19:00+00:00  8032.00 10 \n",
       "39  158.76           2016-02-04 10:46:00 2016-02-06 17:24:00+00:00  8067.07 10 \n",
       "40  158.76           2016-02-04 10:46:00 2016-02-07 17:04:00+00:00  8017.69 10 \n",
       "41  158.76           2016-02-04 10:46:00 2016-02-08 16:54:00+00:00  8000.05 10 \n",
       "42  317.51           2018-05-17 16:16:00 2018-05-17 13:14:00+00:00 11199.37  3 \n",
       "43  317.51           2018-05-17 16:16:00 2018-05-18 06:00:00+00:00 12024.77  3 \n",
       "44  317.51           2018-05-17 16:16:00 2018-05-25 15:26:00+00:00 11200.00  3 \n",
       "45   20.50           2018-07-10 03:29:00 2018-07-09 21:24:00+00:00   720.00  1 \n",
       "46   20.50           2019-06-16 15:36:00 2019-06-16 17:58:00+00:00   751.33  1 \n",
       "47  174.18           2017-01-09 04:42:00 2017-01-13 19:21:00+00:00  8500.94 10 \n",
       "48  174.18           2017-03-08 10:19:00 2017-03-08 18:22:00+00:00  8249.44 15 \n",
       "49  174.18           2017-03-08 10:19:00 2017-03-10 15:46:00+00:00  8246.97 15 \n",
       "50  174.18           2017-07-01 08:00:00 2017-07-01 15:00:00+00:00  8014.16 11 \n",
       "51  198.50           2017-01-23 23:37:00 2017-01-24 01:01:00+00:00  8144.00  3 \n",
       "52  198.50           2017-01-23 23:37:00 2017-01-24 01:31:00+00:00  8091.20  3 \n",
       "53  320.69           2019-12-10 23:52:00 2019-12-10 23:30:00+00:00 11005.36  5 \n",
       "54  320.69           2019-12-10 23:52:00 2019-12-11 14:39:00+00:00 10640.00  5 \n",
       "55  320.69           2019-12-10 23:52:00 2019-12-12 11:30:00+00:00 10624.00  5 \n",
       "56  320.69           2019-12-10 23:52:00 2019-12-13 12:21:00+00:00 10432.00  5 \n",
       "57  320.69           2019-12-10 23:52:00 2019-12-14 14:42:00+00:00 10272.00  5 \n",
       "58  320.69           2020-03-07 11:46:00 2020-03-07 09:16:00+00:00 10224.00  5 \n",
       "59  320.69           2020-03-07 11:46:00 2020-03-09 12:00:00+00:00 12381.03  5 \n",
       "60  320.69           2020-03-07 11:46:00 2020-03-09 20:00:00+00:00 11392.00  5 \n",
       "61  320.69           2020-03-07 11:46:00 2020-03-10 11:40:00+00:00 11396.90  5 \n",
       "62  320.69           2020-03-07 11:46:00 2020-03-11 12:53:00+00:00 11312.00  5 \n",
       "63  243.00           2019-12-17 02:52:00 2019-12-16 23:16:00+00:00  8400.00  5 \n",
       "64  243.00           2019-12-17 02:52:00 2019-12-17 06:40:00+00:00  8606.76  5 \n",
       "65  243.00           2019-12-17 02:52:00 2019-12-17 14:00:00+00:00  8606.76  5 \n",
       "66  243.00           2019-12-17 02:52:00 2019-12-18 14:15:00+00:00  8571.48  5 \n",
       "67  243.00           2019-12-17 02:52:00 2019-12-19 14:31:00+00:00  8571.48  5 \n",
       "68  273.06           2020-03-11 09:42:00 2020-03-12 03:10:00+00:00  9280.00  2 \n",
       "69  273.06           2020-03-11 09:42:00 2020-03-18 18:50:00+00:00  9636.75  2 \n",
       "70  190.51           2015-02-11 13:52:00 2015-02-11 10:30:00+00:00  8800.00  4 \n",
       "71  190.51           2015-02-11 13:52:00 2015-02-11 20:56:00+00:00  8799.99  4 \n",
       "72  232.69           2019-03-13 09:51:00 2019-03-13 09:55:00+00:00  8064.00  3 \n",
       "73  232.69           2019-03-13 09:51:00 2019-03-14 02:45:00+00:00  8042.38  3 \n",
       "74  232.69           2019-03-13 09:51:00 2019-03-14 19:03:00+00:00  8074.13  3 \n",
       "75   33.79           2017-07-25 06:11:00 2017-07-26 19:29:00+00:00   980.61  2 \n",
       "76   33.79           2017-07-25 06:11:00 2017-07-27 12:11:00+00:00   994.72  2 \n",
       "77   28.95           2018-09-04 06:52:00 2018-09-06 01:13:00+00:00   959.44  7 \n",
       "78   28.95           2019-11-12 23:18:00 2019-11-12 21:03:00+00:00   973.55  2 \n",
       "79   28.95           2019-11-12 23:18:00 2019-11-13 17:00:00+00:00   973.55  2 \n",
       "80  245.00           2017-01-06 02:54:00 2017-01-06 01:00:00+00:00  9276.96 10 \n",
       "81  245.00           2017-01-06 02:54:00 2017-01-09 23:22:00+00:00  8192.00 10 \n",
       "82  245.00           2017-06-16 05:38:00 2017-06-16 01:01:00+00:00  8148.20  8 \n",
       "83  245.00           2017-06-16 05:38:00 2017-06-16 23:14:00+00:00  8148.20  8 \n",
       "84  245.00           2017-06-16 05:38:00 2017-06-20 19:24:00+00:00  8030.40  8 \n",
       "85  245.00           2017-11-01 03:41:00 2017-11-05 08:00:00+00:00  9584.00  4 \n",
       "86  245.00           2017-11-01 03:41:00 2017-11-05 19:04:00+00:00  9216.00  4 \n",
       "87  209.11           2018-07-15 22:53:00 2018-07-15 18:11:00+00:00  8476.25  2 \n",
       "88  209.11           2018-07-15 22:53:00 2018-07-17 17:30:00+00:00  8507.99  2 \n",
       "89  209.11           2018-10-11 10:09:00 2018-10-11 07:44:00+00:00  8320.00  2 \n",
       "90  209.11           2019-07-06 09:43:00 2019-07-06 06:52:00+00:00  8536.21  1 \n",
       "91   32.66           2016-10-29 11:56:00 2016-10-29 10:13:00+00:00   959.44  5 \n",
       "92   32.66           2016-10-29 11:56:00 2016-10-31 16:15:00+00:00   998.24  5 \n",
       "93   32.66           2016-11-27 05:33:00 2016-11-27 01:55:00+00:00   952.39 30 \n",
       "94   32.66           2016-11-27 05:33:00 2016-11-27 16:40:00+00:00   931.20 30 \n",
       "95   32.66           2016-11-27 05:33:00 2016-11-28 16:57:00+00:00   929.60 30 \n",
       "96   32.66           2016-11-27 05:33:00 2016-11-29 18:43:00+00:00   984.13 30 \n",
       "97   32.66           2016-11-27 05:33:00 2016-11-29 19:00:00+00:00   955.91 30 \n",
       "98   32.66           2016-11-27 05:33:00 2016-11-30 17:00:00+00:00   966.50 30 \n",
       "99   32.66           2016-11-27 05:33:00 2016-12-01 17:47:00+00:00   987.66 30 \n",
       "100 219.40           2016-03-17 07:04:00 2016-03-17 05:24:00+00:00  8712.58  3 \n",
       "101 219.40           2016-03-17 07:04:00 2016-03-17 10:51:00+00:00  8532.68  3 \n",
       "102  28.21           2019-12-11 21:46:00 2019-12-11 18:45:00+00:00   917.11 13 \n",
       "103  28.21           2019-12-11 21:46:00 2019-12-12 18:00:00+00:00   917.11 13 \n",
       "104 199.13           2019-05-02 20:39:00 2019-05-02 19:12:00+00:00  9600.00  6 \n",
       "105 199.13           2019-05-02 20:39:00 2019-05-03 02:00:00+00:00  8395.12  6 \n",
       "106 199.13           2019-12-20 07:01:00 2019-12-20 08:35:00+00:00  8832.00 11 \n",
       "107 199.13           2019-12-20 07:01:00 2019-12-21 14:00:00+00:00  8512.00 11 \n",
       "108 199.13           2019-12-20 07:01:00 2019-12-22 12:11:00+00:00  8224.00 11 \n",
       "109 199.13           2019-12-20 07:01:00 2019-12-23 13:35:00+00:00  8224.00 11 \n",
       "110 199.13           2019-12-20 07:01:00 2019-12-24 12:16:00+00:00  8880.00 11 \n",
       "111 199.13           2019-12-20 07:01:00 2019-12-25 15:00:00+00:00  9770.79 11 \n",
       "112 224.71           2019-07-16 02:47:00 2019-07-16 00:57:00+00:00  8042.38  5 \n",
       "113 224.71           2019-07-16 02:47:00 2019-07-16 03:49:00+00:00  8014.16  5 \n",
       "114 210.01           2015-03-13 10:19:00 2015-03-13 03:03:00+00:00  9382.78  5 \n",
       "115 210.01           2015-03-13 10:19:00 2015-03-14 12:00:00+00:00  9440.00  5 \n",
       "116 210.01           2015-03-13 10:19:00 2015-03-14 23:37:00+00:00  9418.05  5 \n",
       "117 210.01           2015-03-13 10:19:00 2015-03-21 18:00:00+00:00  9344.00  5 \n",
       "118 210.01           2015-03-13 10:19:00 2015-03-26 00:00:00+00:00  9347.50  5 \n",
       "119 210.01           2015-05-27 01:49:00 2015-05-26 20:01:00+00:00  9816.64  1 \n",
       "120 210.01           2015-07-18 09:23:00 2015-07-19 18:53:00+00:00 10192.00  1 \n",
       "121 210.01           2015-09-08 05:20:00 2015-09-08 07:00:00+00:00  9700.24 45 \n",
       "122 210.01           2015-09-08 05:20:00 2015-09-08 11:00:00+00:00 10576.00 45 \n",
       "123 210.01           2015-09-08 05:20:00 2015-09-09 19:00:00+00:00 10576.01 45 \n",
       "124 210.01           2015-09-08 05:20:00 2015-09-16 11:00:00+00:00  8960.00 45 \n",
       "125 210.01           2015-09-08 05:20:00 2015-09-30 23:00:00+00:00  9119.64 45 \n",
       "126 210.01           2015-09-08 05:20:00 2015-10-04 15:18:00+00:00  8560.00 45 \n",
       "127 210.01           2015-09-08 05:20:00 2015-10-06 08:00:00+00:00  8320.00 45 \n",
       "128 210.01           2015-09-08 05:20:00 2015-10-23 20:30:00+00:00  8944.00 45 \n",
       "129 210.01           2015-09-08 05:20:00 2015-11-02 05:00:00+00:00  9824.00 45 \n",
       "130 210.01           2015-09-08 05:20:00 2015-11-05 14:00:00+00:00  9920.00 45 \n",
       "131 210.01           2015-09-08 05:20:00 2015-11-15 22:30:00+00:00  8368.00 45 \n",
       "132 210.01           2015-09-08 05:20:00 2015-12-12 06:46:00+00:00  8218.75 45 \n",
       "133 210.01           2015-09-08 05:20:00 2015-12-17 16:34:00+00:00  9248.00 45 \n",
       "134 210.01           2015-09-08 05:20:00 2015-12-21 19:00:00+00:00  9276.96 45 "
      ]
     },
     "metadata": {},
     "output_type": "display_data"
    }
   ],
   "source": [
    "# patients appear more than once in the errorW: \n",
    "# from the above cell and here: errors are < 720 and > 13000\n",
    "# all look ok, except errors: 12381.03oz and 12024.77 \n",
    "# (and possible errors # JCe36b60 9600.00 & 9770.79, but this is 1 special case, not big deal --> handle later)\n",
    "# final: remove < 720 and > 12000\n",
    "dup_errorW <- errorW[duplicated(errorW[,'anon_id']) | duplicated(errorW[,'anon_id'], fromLast=TRUE), ] %>% \n",
    "                    select(anon_id, pat_enc_csn_id_coded, age, recent_date, recent_height_cm, recent_weight_kg, \n",
    "                           admit_time, recorded_time, Weight, nWe) %>% arrange(anon_id, recorded_time)\n",
    "\n",
    "length(unique(dup_errorW$anon_id))\n",
    "dup_errorW"
   ]
  },
  {
   "cell_type": "code",
   "execution_count": 29,
   "metadata": {},
   "outputs": [
    {
     "data": {
      "text/html": [
       "38"
      ],
      "text/latex": [
       "38"
      ],
      "text/markdown": [
       "38"
      ],
      "text/plain": [
       "[1] 38"
      ]
     },
     "metadata": {},
     "output_type": "display_data"
    },
    {
     "data": {
      "text/html": [
       "<table>\n",
       "<caption>A grouped_df: 38 × 12</caption>\n",
       "<thead>\n",
       "\t<tr><th scope=col>anon_id</th><th scope=col>pat_enc_csn_id_coded</th><th scope=col>age</th><th scope=col>recent_date</th><th scope=col>recent_height_cm</th><th scope=col>recent_weight_kg</th><th scope=col>admit_time</th><th scope=col>recorded_time</th><th scope=col>Weight</th><th scope=col>nWe</th><th scope=col>Wfsdmdif</th><th scope=col>dmfsdif</th></tr>\n",
       "\t<tr><th scope=col>&lt;chr&gt;</th><th scope=col>&lt;dbl&gt;</th><th scope=col>&lt;int&gt;</th><th scope=col>&lt;chr&gt;</th><th scope=col>&lt;dbl&gt;</th><th scope=col>&lt;dbl&gt;</th><th scope=col>&lt;chr&gt;</th><th scope=col>&lt;chr&gt;</th><th scope=col>&lt;dbl&gt;</th><th scope=col>&lt;int&gt;</th><th scope=col>&lt;dbl&gt;</th><th scope=col>&lt;dbl&gt;</th></tr>\n",
       "</thead>\n",
       "<tbody>\n",
       "\t<tr><td>JCd8c850 </td><td>131083429185</td><td>77</td><td>2019-01-01</td><td>162.56</td><td> 61.23</td><td>2015-03-29 20:11:00</td><td>2015-03-29 23:28:00+00:00</td><td>    2.33</td><td> 2</td><td> 61.16</td><td>1374</td></tr>\n",
       "\t<tr><td>JCdb8af3 </td><td>131179908315</td><td>58</td><td>2019-01-01</td><td>170.20</td><td>  0.10</td><td>2016-02-02 21:38:00</td><td>2016-02-08 15:28:00+00:00</td><td>    3.45</td><td> 4</td><td>  0.00</td><td>1058</td></tr>\n",
       "\t<tr><td>JCd4d996 </td><td>131276336621</td><td>72</td><td>2019-11-29</td><td>175.26</td><td> 97.60</td><td>2019-09-21 04:25:00</td><td>2019-09-21 12:17:00+00:00</td><td>   17.64</td><td> 2</td><td> 97.10</td><td>  69</td></tr>\n",
       "\t<tr><td>JCcfa790 </td><td>131279920409</td><td>87</td><td>2020-01-15</td><td>182.91</td><td> 82.10</td><td>2019-11-11 23:44:00</td><td>2019-11-12 01:30:00+00:00</td><td>   28.23</td><td> 2</td><td> 81.30</td><td>  64</td></tr>\n",
       "\t<tr><td>JCdd701d </td><td>131216269634</td><td>58</td><td>2019-01-01</td><td>160.02</td><td> 47.94</td><td>2017-02-21 20:25:00</td><td>2017-02-23 04:12:00+00:00</td><td>  172.80</td><td> 4</td><td> 43.04</td><td> 677</td></tr>\n",
       "\t<tr><td>JCccaf6f </td><td>131148206526</td><td>76</td><td>2019-01-01</td><td>160.02</td><td> 51.70</td><td>2015-12-28 05:49:00</td><td>2015-12-28 06:45:00+00:00</td><td>  192.00</td><td> 4</td><td> 46.26</td><td>1100</td></tr>\n",
       "\t<tr><td>JCe7f41e </td><td>131278541034</td><td>64</td><td>2020-02-27</td><td>165.00</td><td> 62.10</td><td>2019-10-12 23:06:00</td><td>2019-10-18 20:14:00+00:00</td><td>  204.59</td><td> 9</td><td> 56.30</td><td> 132</td></tr>\n",
       "\t<tr><td>JCe3e7e8 </td><td>131197934631</td><td>61</td><td>2019-01-01</td><td>182.90</td><td> 70.00</td><td>2016-08-16 22:25:00</td><td>2016-08-16 22:07:00+00:00</td><td>  208.00</td><td> 2</td><td> 64.10</td><td> 868</td></tr>\n",
       "\t<tr><td>JC2a01205</td><td>131261419878</td><td>24</td><td>2020-03-31</td><td>    NA</td><td> 68.00</td><td>2019-01-18 13:56:00</td><td>2019-01-18 07:57:00+00:00</td><td>  215.17</td><td> 3</td><td> 61.90</td><td> 438</td></tr>\n",
       "\t<tr><td>JCdc1ca1 </td><td>131149917867</td><td>61</td><td>2020-03-31</td><td>154.94</td><td> 53.57</td><td>2015-12-23 06:03:00</td><td>2015-12-23 09:00:00+00:00</td><td>  222.22</td><td> 5</td><td> 47.27</td><td>1560</td></tr>\n",
       "\t<tr><td>JCdcb394 </td><td>131235411859</td><td>85</td><td>2019-09-27</td><td>157.48</td><td> 65.50</td><td>2017-07-02 07:02:00</td><td>2017-07-07 16:30:00+00:00</td><td>  236.33</td><td> 8</td><td> 58.80</td><td> 812</td></tr>\n",
       "\t<tr><td>JCd659db </td><td>131184404515</td><td>21</td><td>2020-03-29</td><td>157.48</td><td> 52.30</td><td>2016-05-06 23:38:00</td><td>2016-05-09 16:00:00+00:00</td><td>  261.02</td><td> 4</td><td> 44.90</td><td>1420</td></tr>\n",
       "\t<tr><td>JCe6f88a </td><td>131097590735</td><td>22</td><td>2019-09-06</td><td>187.96</td><td>115.67</td><td>2015-08-07 13:29:00</td><td>2015-08-07 13:30:00+00:00</td><td>  275.13</td><td>34</td><td>107.87</td><td>1491</td></tr>\n",
       "\t<tr><td>JCd16b07 </td><td>131251805170</td><td>82</td><td>2019-01-01</td><td>    NA</td><td> 80.60</td><td>2018-06-09 06:07:00</td><td>2018-06-09 03:35:00+00:00</td><td>  288.00</td><td> 4</td><td> 72.44</td><td> 206</td></tr>\n",
       "\t<tr><td>JCd490e5 </td><td>131237149027</td><td>70</td><td>2020-03-31</td><td>170.20</td><td> 85.70</td><td>2017-07-13 01:02:00</td><td>2017-07-14 22:03:00+00:00</td><td>  303.35</td><td> 7</td><td> 77.10</td><td> 991</td></tr>\n",
       "\t<tr><td>JCebf4d7 </td><td>131251550575</td><td>61</td><td>2019-04-26</td><td>165.10</td><td>127.27</td><td>2018-06-18 10:28:00</td><td>2018-06-18 05:42:00+00:00</td><td>  320.00</td><td> 4</td><td>118.20</td><td> 312</td></tr>\n",
       "\t<tr><td>JCd6a740 </td><td>131257264582</td><td>25</td><td>2019-04-17</td><td>153.00</td><td> 51.20</td><td>2018-10-06 19:47:00</td><td>2018-10-15 13:12:00+00:00</td><td>  324.52</td><td>10</td><td> 42.00</td><td> 184</td></tr>\n",
       "\t<tr><td>JCcf6ce9 </td><td>131117233036</td><td>47</td><td>2019-01-01</td><td>172.72</td><td>129.10</td><td>2015-09-29 10:36:00</td><td>2015-09-30 05:00:00+00:00</td><td>  432.00</td><td> 8</td><td>116.85</td><td>1189</td></tr>\n",
       "\t<tr><td>JCe06f75 </td><td>131192154282</td><td>50</td><td>2020-03-31</td><td>157.48</td><td> 96.16</td><td>2016-06-30 04:22:00</td><td>2016-06-30 05:10:00+00:00</td><td>  617.60</td><td> 2</td><td> 78.65</td><td>1370</td></tr>\n",
       "\t<tr><td>JCd96fd9 </td><td>131187249982</td><td>47</td><td>2020-02-28</td><td>175.26</td><td>100.70</td><td>2016-05-07 05:10:00</td><td>2016-05-08 20:47:00+00:00</td><td>  640.00</td><td> 2</td><td> 82.56</td><td>1391</td></tr>\n",
       "\t<tr><td>JCe1550f </td><td>131213682201</td><td>68</td><td>2019-01-01</td><td>167.64</td><td> 53.20</td><td>2016-12-16 07:22:00</td><td>2016-12-16 16:14:00+00:00</td><td>  701.94</td><td>16</td><td> 33.30</td><td> 746</td></tr>\n",
       "\t<tr><td>JCdb575c </td><td>131089502022</td><td>85</td><td>2019-01-01</td><td>162.56</td><td> 50.53</td><td>2015-06-11 09:28:00</td><td>2015-06-11 09:22:00+00:00</td><td>  710.40</td><td> 1</td><td> 30.39</td><td>1300</td></tr>\n",
       "\t<tr><td>JCcbfbc8 </td><td>131256866342</td><td>77</td><td>2019-01-01</td><td>156.50</td><td> 55.60</td><td>2018-09-03 20:20:00</td><td>2018-09-06 06:00:00+00:00</td><td>  789.42</td><td> 8</td><td> 33.22</td><td> 117</td></tr>\n",
       "\t<tr><td>JCea3866 </td><td>131216538201</td><td>32</td><td>2020-03-31</td><td>140.00</td><td> 44.75</td><td>2017-01-19 12:16:00</td><td>2017-01-19 03:33:00+00:00</td><td>  790.40</td><td> 4</td><td> 22.34</td><td>1167</td></tr>\n",
       "\t<tr><td>JCcbb4b8 </td><td>131216914159</td><td>46</td><td>2019-01-01</td><td>165.10</td><td> 57.90</td><td>2017-01-17 00:30:00</td><td>2017-01-17 04:00:00+00:00</td><td>  840.00</td><td>11</td><td> 34.09</td><td> 714</td></tr>\n",
       "\t<tr><td>JCd84277 </td><td>131090908463</td><td>21</td><td>2019-11-24</td><td>160.02</td><td> 43.00</td><td>2015-05-22 07:01:00</td><td>2015-05-22 15:21:00+00:00</td><td>  871.26</td><td> 5</td><td> 18.30</td><td>1647</td></tr>\n",
       "\t<tr><td>JCdab6fa </td><td>131255981015</td><td>80</td><td>2019-01-13</td><td>149.90</td><td> 57.38</td><td>2018-09-11 03:14:00</td><td>2018-09-16 04:00:00+00:00</td><td>  910.41</td><td> 4</td><td> 31.57</td><td> 119</td></tr>\n",
       "\t<tr><td>JCdba730 </td><td>131279798635</td><td>35</td><td>2020-03-31</td><td>157.48</td><td> 31.20</td><td>2019-11-22 05:03:00</td><td>2019-12-18 01:23:00+00:00</td><td>  971.52</td><td>17</td><td>  3.66</td><td> 104</td></tr>\n",
       "\t<tr><td>JCd0500f </td><td>131186131047</td><td>66</td><td>2020-03-31</td><td>165.10</td><td>123.20</td><td>2016-05-22 07:10:00</td><td>2016-05-22 07:43:00+00:00</td><td>  987.66</td><td> 1</td><td> 95.20</td><td>1409</td></tr>\n",
       "\t<tr><td>JCd99e71 </td><td>131214625562</td><td>49</td><td>2019-11-16</td><td>193.00</td><td>220.80</td><td>2017-01-25 05:52:00</td><td>2017-01-26 16:11:00+00:00</td><td> 8056.49</td><td> 2</td><td>  7.60</td><td>1024</td></tr>\n",
       "\t<tr><td>JCe61cfe </td><td>131281143011</td><td>30</td><td>2020-03-13</td><td>167.60</td><td>188.00</td><td>2020-01-09 13:56:00</td><td>2020-01-09 12:23:00+00:00</td><td> 8077.65</td><td>29</td><td> 41.00</td><td>  64</td></tr>\n",
       "\t<tr><td>JCe01e50 </td><td>131188059708</td><td>86</td><td>2020-03-31</td><td>177.80</td><td> 97.98</td><td>2016-05-25 02:49:00</td><td>2016-05-25 06:45:00+00:00</td><td> 8324.57</td><td> 2</td><td>138.02</td><td>1406</td></tr>\n",
       "\t<tr><td>JC2a0784f</td><td>131242882845</td><td>36</td><td>2020-03-05</td><td>167.64</td><td>232.10</td><td>2017-12-12 14:17:00</td><td>2017-12-12 06:37:00+00:00</td><td> 8640.00</td><td> 2</td><td> 12.84</td><td> 814</td></tr>\n",
       "\t<tr><td>JCe48b36 </td><td>131255596987</td><td>68</td><td>2019-12-19</td><td>190.50</td><td>117.75</td><td>2018-08-31 02:54:00</td><td>2018-08-31 00:46:00+00:00</td><td> 9920.00</td><td>10</td><td>163.48</td><td> 475</td></tr>\n",
       "\t<tr><td>JCe8a3e5 </td><td>131251139412</td><td>79</td><td>2019-01-01</td><td>177.80</td><td>131.90</td><td>2018-04-29 04:07:00</td><td>2018-05-07 12:00:00+00:00</td><td>10553.86</td><td>12</td><td>167.30</td><td> 239</td></tr>\n",
       "\t<tr><td>JCe9ddd4 </td><td>131281150620</td><td>36</td><td>2020-03-31</td><td>172.72</td><td>144.50</td><td>2020-01-28 23:48:00</td><td>2020-02-06 17:35:00+00:00</td><td>10994.78</td><td> 5</td><td>167.20</td><td>  54</td></tr>\n",
       "\t<tr><td>JCd262e1 </td><td>131081523555</td><td>63</td><td>2020-02-24</td><td>152.40</td><td>122.70</td><td>2015-03-09 11:02:00</td><td>2015-03-09 11:18:00+00:00</td><td>11587.38</td><td> 5</td><td>205.80</td><td>1813</td></tr>\n",
       "\t<tr><td>JCe08adf </td><td>131238068042</td><td>46</td><td>2019-01-01</td><td>157.48</td><td> 64.20</td><td>2017-09-28 23:02:00</td><td>2017-10-19 21:00:00+00:00</td><td>22046.00</td><td>25</td><td>560.80</td><td> 439</td></tr>\n",
       "</tbody>\n",
       "</table>\n"
      ],
      "text/latex": [
       "A grouped\\_df: 38 × 12\n",
       "\\begin{tabular}{llllllllllll}\n",
       " anon\\_id & pat\\_enc\\_csn\\_id\\_coded & age & recent\\_date & recent\\_height\\_cm & recent\\_weight\\_kg & admit\\_time & recorded\\_time & Weight & nWe & Wfsdmdif & dmfsdif\\\\\n",
       " <chr> & <dbl> & <int> & <chr> & <dbl> & <dbl> & <chr> & <chr> & <dbl> & <int> & <dbl> & <dbl>\\\\\n",
       "\\hline\n",
       "\t JCd8c850  & 131083429185 & 77 & 2019-01-01 & 162.56 &  61.23 & 2015-03-29 20:11:00 & 2015-03-29 23:28:00+00:00 &     2.33 &  2 &  61.16 & 1374\\\\\n",
       "\t JCdb8af3  & 131179908315 & 58 & 2019-01-01 & 170.20 &   0.10 & 2016-02-02 21:38:00 & 2016-02-08 15:28:00+00:00 &     3.45 &  4 &   0.00 & 1058\\\\\n",
       "\t JCd4d996  & 131276336621 & 72 & 2019-11-29 & 175.26 &  97.60 & 2019-09-21 04:25:00 & 2019-09-21 12:17:00+00:00 &    17.64 &  2 &  97.10 &   69\\\\\n",
       "\t JCcfa790  & 131279920409 & 87 & 2020-01-15 & 182.91 &  82.10 & 2019-11-11 23:44:00 & 2019-11-12 01:30:00+00:00 &    28.23 &  2 &  81.30 &   64\\\\\n",
       "\t JCdd701d  & 131216269634 & 58 & 2019-01-01 & 160.02 &  47.94 & 2017-02-21 20:25:00 & 2017-02-23 04:12:00+00:00 &   172.80 &  4 &  43.04 &  677\\\\\n",
       "\t JCccaf6f  & 131148206526 & 76 & 2019-01-01 & 160.02 &  51.70 & 2015-12-28 05:49:00 & 2015-12-28 06:45:00+00:00 &   192.00 &  4 &  46.26 & 1100\\\\\n",
       "\t JCe7f41e  & 131278541034 & 64 & 2020-02-27 & 165.00 &  62.10 & 2019-10-12 23:06:00 & 2019-10-18 20:14:00+00:00 &   204.59 &  9 &  56.30 &  132\\\\\n",
       "\t JCe3e7e8  & 131197934631 & 61 & 2019-01-01 & 182.90 &  70.00 & 2016-08-16 22:25:00 & 2016-08-16 22:07:00+00:00 &   208.00 &  2 &  64.10 &  868\\\\\n",
       "\t JC2a01205 & 131261419878 & 24 & 2020-03-31 &     NA &  68.00 & 2019-01-18 13:56:00 & 2019-01-18 07:57:00+00:00 &   215.17 &  3 &  61.90 &  438\\\\\n",
       "\t JCdc1ca1  & 131149917867 & 61 & 2020-03-31 & 154.94 &  53.57 & 2015-12-23 06:03:00 & 2015-12-23 09:00:00+00:00 &   222.22 &  5 &  47.27 & 1560\\\\\n",
       "\t JCdcb394  & 131235411859 & 85 & 2019-09-27 & 157.48 &  65.50 & 2017-07-02 07:02:00 & 2017-07-07 16:30:00+00:00 &   236.33 &  8 &  58.80 &  812\\\\\n",
       "\t JCd659db  & 131184404515 & 21 & 2020-03-29 & 157.48 &  52.30 & 2016-05-06 23:38:00 & 2016-05-09 16:00:00+00:00 &   261.02 &  4 &  44.90 & 1420\\\\\n",
       "\t JCe6f88a  & 131097590735 & 22 & 2019-09-06 & 187.96 & 115.67 & 2015-08-07 13:29:00 & 2015-08-07 13:30:00+00:00 &   275.13 & 34 & 107.87 & 1491\\\\\n",
       "\t JCd16b07  & 131251805170 & 82 & 2019-01-01 &     NA &  80.60 & 2018-06-09 06:07:00 & 2018-06-09 03:35:00+00:00 &   288.00 &  4 &  72.44 &  206\\\\\n",
       "\t JCd490e5  & 131237149027 & 70 & 2020-03-31 & 170.20 &  85.70 & 2017-07-13 01:02:00 & 2017-07-14 22:03:00+00:00 &   303.35 &  7 &  77.10 &  991\\\\\n",
       "\t JCebf4d7  & 131251550575 & 61 & 2019-04-26 & 165.10 & 127.27 & 2018-06-18 10:28:00 & 2018-06-18 05:42:00+00:00 &   320.00 &  4 & 118.20 &  312\\\\\n",
       "\t JCd6a740  & 131257264582 & 25 & 2019-04-17 & 153.00 &  51.20 & 2018-10-06 19:47:00 & 2018-10-15 13:12:00+00:00 &   324.52 & 10 &  42.00 &  184\\\\\n",
       "\t JCcf6ce9  & 131117233036 & 47 & 2019-01-01 & 172.72 & 129.10 & 2015-09-29 10:36:00 & 2015-09-30 05:00:00+00:00 &   432.00 &  8 & 116.85 & 1189\\\\\n",
       "\t JCe06f75  & 131192154282 & 50 & 2020-03-31 & 157.48 &  96.16 & 2016-06-30 04:22:00 & 2016-06-30 05:10:00+00:00 &   617.60 &  2 &  78.65 & 1370\\\\\n",
       "\t JCd96fd9  & 131187249982 & 47 & 2020-02-28 & 175.26 & 100.70 & 2016-05-07 05:10:00 & 2016-05-08 20:47:00+00:00 &   640.00 &  2 &  82.56 & 1391\\\\\n",
       "\t JCe1550f  & 131213682201 & 68 & 2019-01-01 & 167.64 &  53.20 & 2016-12-16 07:22:00 & 2016-12-16 16:14:00+00:00 &   701.94 & 16 &  33.30 &  746\\\\\n",
       "\t JCdb575c  & 131089502022 & 85 & 2019-01-01 & 162.56 &  50.53 & 2015-06-11 09:28:00 & 2015-06-11 09:22:00+00:00 &   710.40 &  1 &  30.39 & 1300\\\\\n",
       "\t JCcbfbc8  & 131256866342 & 77 & 2019-01-01 & 156.50 &  55.60 & 2018-09-03 20:20:00 & 2018-09-06 06:00:00+00:00 &   789.42 &  8 &  33.22 &  117\\\\\n",
       "\t JCea3866  & 131216538201 & 32 & 2020-03-31 & 140.00 &  44.75 & 2017-01-19 12:16:00 & 2017-01-19 03:33:00+00:00 &   790.40 &  4 &  22.34 & 1167\\\\\n",
       "\t JCcbb4b8  & 131216914159 & 46 & 2019-01-01 & 165.10 &  57.90 & 2017-01-17 00:30:00 & 2017-01-17 04:00:00+00:00 &   840.00 & 11 &  34.09 &  714\\\\\n",
       "\t JCd84277  & 131090908463 & 21 & 2019-11-24 & 160.02 &  43.00 & 2015-05-22 07:01:00 & 2015-05-22 15:21:00+00:00 &   871.26 &  5 &  18.30 & 1647\\\\\n",
       "\t JCdab6fa  & 131255981015 & 80 & 2019-01-13 & 149.90 &  57.38 & 2018-09-11 03:14:00 & 2018-09-16 04:00:00+00:00 &   910.41 &  4 &  31.57 &  119\\\\\n",
       "\t JCdba730  & 131279798635 & 35 & 2020-03-31 & 157.48 &  31.20 & 2019-11-22 05:03:00 & 2019-12-18 01:23:00+00:00 &   971.52 & 17 &   3.66 &  104\\\\\n",
       "\t JCd0500f  & 131186131047 & 66 & 2020-03-31 & 165.10 & 123.20 & 2016-05-22 07:10:00 & 2016-05-22 07:43:00+00:00 &   987.66 &  1 &  95.20 & 1409\\\\\n",
       "\t JCd99e71  & 131214625562 & 49 & 2019-11-16 & 193.00 & 220.80 & 2017-01-25 05:52:00 & 2017-01-26 16:11:00+00:00 &  8056.49 &  2 &   7.60 & 1024\\\\\n",
       "\t JCe61cfe  & 131281143011 & 30 & 2020-03-13 & 167.60 & 188.00 & 2020-01-09 13:56:00 & 2020-01-09 12:23:00+00:00 &  8077.65 & 29 &  41.00 &   64\\\\\n",
       "\t JCe01e50  & 131188059708 & 86 & 2020-03-31 & 177.80 &  97.98 & 2016-05-25 02:49:00 & 2016-05-25 06:45:00+00:00 &  8324.57 &  2 & 138.02 & 1406\\\\\n",
       "\t JC2a0784f & 131242882845 & 36 & 2020-03-05 & 167.64 & 232.10 & 2017-12-12 14:17:00 & 2017-12-12 06:37:00+00:00 &  8640.00 &  2 &  12.84 &  814\\\\\n",
       "\t JCe48b36  & 131255596987 & 68 & 2019-12-19 & 190.50 & 117.75 & 2018-08-31 02:54:00 & 2018-08-31 00:46:00+00:00 &  9920.00 & 10 & 163.48 &  475\\\\\n",
       "\t JCe8a3e5  & 131251139412 & 79 & 2019-01-01 & 177.80 & 131.90 & 2018-04-29 04:07:00 & 2018-05-07 12:00:00+00:00 & 10553.86 & 12 & 167.30 &  239\\\\\n",
       "\t JCe9ddd4  & 131281150620 & 36 & 2020-03-31 & 172.72 & 144.50 & 2020-01-28 23:48:00 & 2020-02-06 17:35:00+00:00 & 10994.78 &  5 & 167.20 &   54\\\\\n",
       "\t JCd262e1  & 131081523555 & 63 & 2020-02-24 & 152.40 & 122.70 & 2015-03-09 11:02:00 & 2015-03-09 11:18:00+00:00 & 11587.38 &  5 & 205.80 & 1813\\\\\n",
       "\t JCe08adf  & 131238068042 & 46 & 2019-01-01 & 157.48 &  64.20 & 2017-09-28 23:02:00 & 2017-10-19 21:00:00+00:00 & 22046.00 & 25 & 560.80 &  439\\\\\n",
       "\\end{tabular}\n"
      ],
      "text/markdown": [
       "\n",
       "A grouped_df: 38 × 12\n",
       "\n",
       "| anon_id &lt;chr&gt; | pat_enc_csn_id_coded &lt;dbl&gt; | age &lt;int&gt; | recent_date &lt;chr&gt; | recent_height_cm &lt;dbl&gt; | recent_weight_kg &lt;dbl&gt; | admit_time &lt;chr&gt; | recorded_time &lt;chr&gt; | Weight &lt;dbl&gt; | nWe &lt;int&gt; | Wfsdmdif &lt;dbl&gt; | dmfsdif &lt;dbl&gt; |\n",
       "|---|---|---|---|---|---|---|---|---|---|---|---|\n",
       "| JCd8c850  | 131083429185 | 77 | 2019-01-01 | 162.56 |  61.23 | 2015-03-29 20:11:00 | 2015-03-29 23:28:00+00:00 |     2.33 |  2 |  61.16 | 1374 |\n",
       "| JCdb8af3  | 131179908315 | 58 | 2019-01-01 | 170.20 |   0.10 | 2016-02-02 21:38:00 | 2016-02-08 15:28:00+00:00 |     3.45 |  4 |   0.00 | 1058 |\n",
       "| JCd4d996  | 131276336621 | 72 | 2019-11-29 | 175.26 |  97.60 | 2019-09-21 04:25:00 | 2019-09-21 12:17:00+00:00 |    17.64 |  2 |  97.10 |   69 |\n",
       "| JCcfa790  | 131279920409 | 87 | 2020-01-15 | 182.91 |  82.10 | 2019-11-11 23:44:00 | 2019-11-12 01:30:00+00:00 |    28.23 |  2 |  81.30 |   64 |\n",
       "| JCdd701d  | 131216269634 | 58 | 2019-01-01 | 160.02 |  47.94 | 2017-02-21 20:25:00 | 2017-02-23 04:12:00+00:00 |   172.80 |  4 |  43.04 |  677 |\n",
       "| JCccaf6f  | 131148206526 | 76 | 2019-01-01 | 160.02 |  51.70 | 2015-12-28 05:49:00 | 2015-12-28 06:45:00+00:00 |   192.00 |  4 |  46.26 | 1100 |\n",
       "| JCe7f41e  | 131278541034 | 64 | 2020-02-27 | 165.00 |  62.10 | 2019-10-12 23:06:00 | 2019-10-18 20:14:00+00:00 |   204.59 |  9 |  56.30 |  132 |\n",
       "| JCe3e7e8  | 131197934631 | 61 | 2019-01-01 | 182.90 |  70.00 | 2016-08-16 22:25:00 | 2016-08-16 22:07:00+00:00 |   208.00 |  2 |  64.10 |  868 |\n",
       "| JC2a01205 | 131261419878 | 24 | 2020-03-31 |     NA |  68.00 | 2019-01-18 13:56:00 | 2019-01-18 07:57:00+00:00 |   215.17 |  3 |  61.90 |  438 |\n",
       "| JCdc1ca1  | 131149917867 | 61 | 2020-03-31 | 154.94 |  53.57 | 2015-12-23 06:03:00 | 2015-12-23 09:00:00+00:00 |   222.22 |  5 |  47.27 | 1560 |\n",
       "| JCdcb394  | 131235411859 | 85 | 2019-09-27 | 157.48 |  65.50 | 2017-07-02 07:02:00 | 2017-07-07 16:30:00+00:00 |   236.33 |  8 |  58.80 |  812 |\n",
       "| JCd659db  | 131184404515 | 21 | 2020-03-29 | 157.48 |  52.30 | 2016-05-06 23:38:00 | 2016-05-09 16:00:00+00:00 |   261.02 |  4 |  44.90 | 1420 |\n",
       "| JCe6f88a  | 131097590735 | 22 | 2019-09-06 | 187.96 | 115.67 | 2015-08-07 13:29:00 | 2015-08-07 13:30:00+00:00 |   275.13 | 34 | 107.87 | 1491 |\n",
       "| JCd16b07  | 131251805170 | 82 | 2019-01-01 |     NA |  80.60 | 2018-06-09 06:07:00 | 2018-06-09 03:35:00+00:00 |   288.00 |  4 |  72.44 |  206 |\n",
       "| JCd490e5  | 131237149027 | 70 | 2020-03-31 | 170.20 |  85.70 | 2017-07-13 01:02:00 | 2017-07-14 22:03:00+00:00 |   303.35 |  7 |  77.10 |  991 |\n",
       "| JCebf4d7  | 131251550575 | 61 | 2019-04-26 | 165.10 | 127.27 | 2018-06-18 10:28:00 | 2018-06-18 05:42:00+00:00 |   320.00 |  4 | 118.20 |  312 |\n",
       "| JCd6a740  | 131257264582 | 25 | 2019-04-17 | 153.00 |  51.20 | 2018-10-06 19:47:00 | 2018-10-15 13:12:00+00:00 |   324.52 | 10 |  42.00 |  184 |\n",
       "| JCcf6ce9  | 131117233036 | 47 | 2019-01-01 | 172.72 | 129.10 | 2015-09-29 10:36:00 | 2015-09-30 05:00:00+00:00 |   432.00 |  8 | 116.85 | 1189 |\n",
       "| JCe06f75  | 131192154282 | 50 | 2020-03-31 | 157.48 |  96.16 | 2016-06-30 04:22:00 | 2016-06-30 05:10:00+00:00 |   617.60 |  2 |  78.65 | 1370 |\n",
       "| JCd96fd9  | 131187249982 | 47 | 2020-02-28 | 175.26 | 100.70 | 2016-05-07 05:10:00 | 2016-05-08 20:47:00+00:00 |   640.00 |  2 |  82.56 | 1391 |\n",
       "| JCe1550f  | 131213682201 | 68 | 2019-01-01 | 167.64 |  53.20 | 2016-12-16 07:22:00 | 2016-12-16 16:14:00+00:00 |   701.94 | 16 |  33.30 |  746 |\n",
       "| JCdb575c  | 131089502022 | 85 | 2019-01-01 | 162.56 |  50.53 | 2015-06-11 09:28:00 | 2015-06-11 09:22:00+00:00 |   710.40 |  1 |  30.39 | 1300 |\n",
       "| JCcbfbc8  | 131256866342 | 77 | 2019-01-01 | 156.50 |  55.60 | 2018-09-03 20:20:00 | 2018-09-06 06:00:00+00:00 |   789.42 |  8 |  33.22 |  117 |\n",
       "| JCea3866  | 131216538201 | 32 | 2020-03-31 | 140.00 |  44.75 | 2017-01-19 12:16:00 | 2017-01-19 03:33:00+00:00 |   790.40 |  4 |  22.34 | 1167 |\n",
       "| JCcbb4b8  | 131216914159 | 46 | 2019-01-01 | 165.10 |  57.90 | 2017-01-17 00:30:00 | 2017-01-17 04:00:00+00:00 |   840.00 | 11 |  34.09 |  714 |\n",
       "| JCd84277  | 131090908463 | 21 | 2019-11-24 | 160.02 |  43.00 | 2015-05-22 07:01:00 | 2015-05-22 15:21:00+00:00 |   871.26 |  5 |  18.30 | 1647 |\n",
       "| JCdab6fa  | 131255981015 | 80 | 2019-01-13 | 149.90 |  57.38 | 2018-09-11 03:14:00 | 2018-09-16 04:00:00+00:00 |   910.41 |  4 |  31.57 |  119 |\n",
       "| JCdba730  | 131279798635 | 35 | 2020-03-31 | 157.48 |  31.20 | 2019-11-22 05:03:00 | 2019-12-18 01:23:00+00:00 |   971.52 | 17 |   3.66 |  104 |\n",
       "| JCd0500f  | 131186131047 | 66 | 2020-03-31 | 165.10 | 123.20 | 2016-05-22 07:10:00 | 2016-05-22 07:43:00+00:00 |   987.66 |  1 |  95.20 | 1409 |\n",
       "| JCd99e71  | 131214625562 | 49 | 2019-11-16 | 193.00 | 220.80 | 2017-01-25 05:52:00 | 2017-01-26 16:11:00+00:00 |  8056.49 |  2 |   7.60 | 1024 |\n",
       "| JCe61cfe  | 131281143011 | 30 | 2020-03-13 | 167.60 | 188.00 | 2020-01-09 13:56:00 | 2020-01-09 12:23:00+00:00 |  8077.65 | 29 |  41.00 |   64 |\n",
       "| JCe01e50  | 131188059708 | 86 | 2020-03-31 | 177.80 |  97.98 | 2016-05-25 02:49:00 | 2016-05-25 06:45:00+00:00 |  8324.57 |  2 | 138.02 | 1406 |\n",
       "| JC2a0784f | 131242882845 | 36 | 2020-03-05 | 167.64 | 232.10 | 2017-12-12 14:17:00 | 2017-12-12 06:37:00+00:00 |  8640.00 |  2 |  12.84 |  814 |\n",
       "| JCe48b36  | 131255596987 | 68 | 2019-12-19 | 190.50 | 117.75 | 2018-08-31 02:54:00 | 2018-08-31 00:46:00+00:00 |  9920.00 | 10 | 163.48 |  475 |\n",
       "| JCe8a3e5  | 131251139412 | 79 | 2019-01-01 | 177.80 | 131.90 | 2018-04-29 04:07:00 | 2018-05-07 12:00:00+00:00 | 10553.86 | 12 | 167.30 |  239 |\n",
       "| JCe9ddd4  | 131281150620 | 36 | 2020-03-31 | 172.72 | 144.50 | 2020-01-28 23:48:00 | 2020-02-06 17:35:00+00:00 | 10994.78 |  5 | 167.20 |   54 |\n",
       "| JCd262e1  | 131081523555 | 63 | 2020-02-24 | 152.40 | 122.70 | 2015-03-09 11:02:00 | 2015-03-09 11:18:00+00:00 | 11587.38 |  5 | 205.80 | 1813 |\n",
       "| JCe08adf  | 131238068042 | 46 | 2019-01-01 | 157.48 |  64.20 | 2017-09-28 23:02:00 | 2017-10-19 21:00:00+00:00 | 22046.00 | 25 | 560.80 |  439 |\n",
       "\n"
      ],
      "text/plain": [
       "   anon_id   pat_enc_csn_id_coded age recent_date recent_height_cm\n",
       "1  JCd8c850  131083429185         77  2019-01-01  162.56          \n",
       "2  JCdb8af3  131179908315         58  2019-01-01  170.20          \n",
       "3  JCd4d996  131276336621         72  2019-11-29  175.26          \n",
       "4  JCcfa790  131279920409         87  2020-01-15  182.91          \n",
       "5  JCdd701d  131216269634         58  2019-01-01  160.02          \n",
       "6  JCccaf6f  131148206526         76  2019-01-01  160.02          \n",
       "7  JCe7f41e  131278541034         64  2020-02-27  165.00          \n",
       "8  JCe3e7e8  131197934631         61  2019-01-01  182.90          \n",
       "9  JC2a01205 131261419878         24  2020-03-31      NA          \n",
       "10 JCdc1ca1  131149917867         61  2020-03-31  154.94          \n",
       "11 JCdcb394  131235411859         85  2019-09-27  157.48          \n",
       "12 JCd659db  131184404515         21  2020-03-29  157.48          \n",
       "13 JCe6f88a  131097590735         22  2019-09-06  187.96          \n",
       "14 JCd16b07  131251805170         82  2019-01-01      NA          \n",
       "15 JCd490e5  131237149027         70  2020-03-31  170.20          \n",
       "16 JCebf4d7  131251550575         61  2019-04-26  165.10          \n",
       "17 JCd6a740  131257264582         25  2019-04-17  153.00          \n",
       "18 JCcf6ce9  131117233036         47  2019-01-01  172.72          \n",
       "19 JCe06f75  131192154282         50  2020-03-31  157.48          \n",
       "20 JCd96fd9  131187249982         47  2020-02-28  175.26          \n",
       "21 JCe1550f  131213682201         68  2019-01-01  167.64          \n",
       "22 JCdb575c  131089502022         85  2019-01-01  162.56          \n",
       "23 JCcbfbc8  131256866342         77  2019-01-01  156.50          \n",
       "24 JCea3866  131216538201         32  2020-03-31  140.00          \n",
       "25 JCcbb4b8  131216914159         46  2019-01-01  165.10          \n",
       "26 JCd84277  131090908463         21  2019-11-24  160.02          \n",
       "27 JCdab6fa  131255981015         80  2019-01-13  149.90          \n",
       "28 JCdba730  131279798635         35  2020-03-31  157.48          \n",
       "29 JCd0500f  131186131047         66  2020-03-31  165.10          \n",
       "30 JCd99e71  131214625562         49  2019-11-16  193.00          \n",
       "31 JCe61cfe  131281143011         30  2020-03-13  167.60          \n",
       "32 JCe01e50  131188059708         86  2020-03-31  177.80          \n",
       "33 JC2a0784f 131242882845         36  2020-03-05  167.64          \n",
       "34 JCe48b36  131255596987         68  2019-12-19  190.50          \n",
       "35 JCe8a3e5  131251139412         79  2019-01-01  177.80          \n",
       "36 JCe9ddd4  131281150620         36  2020-03-31  172.72          \n",
       "37 JCd262e1  131081523555         63  2020-02-24  152.40          \n",
       "38 JCe08adf  131238068042         46  2019-01-01  157.48          \n",
       "   recent_weight_kg admit_time          recorded_time             Weight   nWe\n",
       "1   61.23           2015-03-29 20:11:00 2015-03-29 23:28:00+00:00     2.33  2 \n",
       "2    0.10           2016-02-02 21:38:00 2016-02-08 15:28:00+00:00     3.45  4 \n",
       "3   97.60           2019-09-21 04:25:00 2019-09-21 12:17:00+00:00    17.64  2 \n",
       "4   82.10           2019-11-11 23:44:00 2019-11-12 01:30:00+00:00    28.23  2 \n",
       "5   47.94           2017-02-21 20:25:00 2017-02-23 04:12:00+00:00   172.80  4 \n",
       "6   51.70           2015-12-28 05:49:00 2015-12-28 06:45:00+00:00   192.00  4 \n",
       "7   62.10           2019-10-12 23:06:00 2019-10-18 20:14:00+00:00   204.59  9 \n",
       "8   70.00           2016-08-16 22:25:00 2016-08-16 22:07:00+00:00   208.00  2 \n",
       "9   68.00           2019-01-18 13:56:00 2019-01-18 07:57:00+00:00   215.17  3 \n",
       "10  53.57           2015-12-23 06:03:00 2015-12-23 09:00:00+00:00   222.22  5 \n",
       "11  65.50           2017-07-02 07:02:00 2017-07-07 16:30:00+00:00   236.33  8 \n",
       "12  52.30           2016-05-06 23:38:00 2016-05-09 16:00:00+00:00   261.02  4 \n",
       "13 115.67           2015-08-07 13:29:00 2015-08-07 13:30:00+00:00   275.13 34 \n",
       "14  80.60           2018-06-09 06:07:00 2018-06-09 03:35:00+00:00   288.00  4 \n",
       "15  85.70           2017-07-13 01:02:00 2017-07-14 22:03:00+00:00   303.35  7 \n",
       "16 127.27           2018-06-18 10:28:00 2018-06-18 05:42:00+00:00   320.00  4 \n",
       "17  51.20           2018-10-06 19:47:00 2018-10-15 13:12:00+00:00   324.52 10 \n",
       "18 129.10           2015-09-29 10:36:00 2015-09-30 05:00:00+00:00   432.00  8 \n",
       "19  96.16           2016-06-30 04:22:00 2016-06-30 05:10:00+00:00   617.60  2 \n",
       "20 100.70           2016-05-07 05:10:00 2016-05-08 20:47:00+00:00   640.00  2 \n",
       "21  53.20           2016-12-16 07:22:00 2016-12-16 16:14:00+00:00   701.94 16 \n",
       "22  50.53           2015-06-11 09:28:00 2015-06-11 09:22:00+00:00   710.40  1 \n",
       "23  55.60           2018-09-03 20:20:00 2018-09-06 06:00:00+00:00   789.42  8 \n",
       "24  44.75           2017-01-19 12:16:00 2017-01-19 03:33:00+00:00   790.40  4 \n",
       "25  57.90           2017-01-17 00:30:00 2017-01-17 04:00:00+00:00   840.00 11 \n",
       "26  43.00           2015-05-22 07:01:00 2015-05-22 15:21:00+00:00   871.26  5 \n",
       "27  57.38           2018-09-11 03:14:00 2018-09-16 04:00:00+00:00   910.41  4 \n",
       "28  31.20           2019-11-22 05:03:00 2019-12-18 01:23:00+00:00   971.52 17 \n",
       "29 123.20           2016-05-22 07:10:00 2016-05-22 07:43:00+00:00   987.66  1 \n",
       "30 220.80           2017-01-25 05:52:00 2017-01-26 16:11:00+00:00  8056.49  2 \n",
       "31 188.00           2020-01-09 13:56:00 2020-01-09 12:23:00+00:00  8077.65 29 \n",
       "32  97.98           2016-05-25 02:49:00 2016-05-25 06:45:00+00:00  8324.57  2 \n",
       "33 232.10           2017-12-12 14:17:00 2017-12-12 06:37:00+00:00  8640.00  2 \n",
       "34 117.75           2018-08-31 02:54:00 2018-08-31 00:46:00+00:00  9920.00 10 \n",
       "35 131.90           2018-04-29 04:07:00 2018-05-07 12:00:00+00:00 10553.86 12 \n",
       "36 144.50           2020-01-28 23:48:00 2020-02-06 17:35:00+00:00 10994.78  5 \n",
       "37 122.70           2015-03-09 11:02:00 2015-03-09 11:18:00+00:00 11587.38  5 \n",
       "38  64.20           2017-09-28 23:02:00 2017-10-19 21:00:00+00:00 22046.00 25 \n",
       "   Wfsdmdif dmfsdif\n",
       "1   61.16   1374   \n",
       "2    0.00   1058   \n",
       "3   97.10     69   \n",
       "4   81.30     64   \n",
       "5   43.04    677   \n",
       "6   46.26   1100   \n",
       "7   56.30    132   \n",
       "8   64.10    868   \n",
       "9   61.90    438   \n",
       "10  47.27   1560   \n",
       "11  58.80    812   \n",
       "12  44.90   1420   \n",
       "13 107.87   1491   \n",
       "14  72.44    206   \n",
       "15  77.10    991   \n",
       "16 118.20    312   \n",
       "17  42.00    184   \n",
       "18 116.85   1189   \n",
       "19  78.65   1370   \n",
       "20  82.56   1391   \n",
       "21  33.30    746   \n",
       "22  30.39   1300   \n",
       "23  33.22    117   \n",
       "24  22.34   1167   \n",
       "25  34.09    714   \n",
       "26  18.30   1647   \n",
       "27  31.57    119   \n",
       "28   3.66    104   \n",
       "29  95.20   1409   \n",
       "30   7.60   1024   \n",
       "31  41.00     64   \n",
       "32 138.02   1406   \n",
       "33  12.84    814   \n",
       "34 163.48    475   \n",
       "35 167.30    239   \n",
       "36 167.20     54   \n",
       "37 205.80   1813   \n",
       "38 560.80    439   "
      ]
     },
     "metadata": {},
     "output_type": "display_data"
    }
   ],
   "source": [
    "# these patients appeared once in errorW, so likely all errors \n",
    "# verify in the next cell, check for possible correct values (<1000 or >8000)\n",
    "non_dup_errorW <- errorW %>% filter(!anon_id %in% dup_errorW$anon_id) %>%\n",
    "                                select(anon_id, pat_enc_csn_id_coded, age, recent_date, recent_height_cm, recent_weight_kg, \n",
    "                                       admit_time, recorded_time, Weight, nWe, Wfsdmdif, dmfsdif) %>% arrange(Weight) \n",
    "\n",
    "length(unique(non_dup_errorW$anon_id))\n",
    "non_dup_errorW"
   ]
  },
  {
   "cell_type": "code",
   "execution_count": 30,
   "metadata": {},
   "outputs": [
    {
     "data": {
      "text/html": [
       "<table>\n",
       "<caption>A grouped_df: 235 × 10</caption>\n",
       "<thead>\n",
       "\t<tr><th scope=col>anon_id</th><th scope=col>pat_enc_csn_id_coded</th><th scope=col>age</th><th scope=col>recent_date</th><th scope=col>recent_height_cm</th><th scope=col>recent_weight_kg</th><th scope=col>admit_time</th><th scope=col>recorded_time</th><th scope=col>Weight</th><th scope=col>nWe</th></tr>\n",
       "\t<tr><th scope=col>&lt;chr&gt;</th><th scope=col>&lt;dbl&gt;</th><th scope=col>&lt;int&gt;</th><th scope=col>&lt;chr&gt;</th><th scope=col>&lt;dbl&gt;</th><th scope=col>&lt;dbl&gt;</th><th scope=col>&lt;chr&gt;</th><th scope=col>&lt;chr&gt;</th><th scope=col>&lt;dbl&gt;</th><th scope=col>&lt;int&gt;</th></tr>\n",
       "</thead>\n",
       "<tbody>\n",
       "\t<tr><td>JC2a0784f</td><td>131072025806</td><td>33</td><td>2020-03-05</td><td>167.64</td><td>232.10</td><td>2015-01-21 21:24:00</td><td>2015-01-21 04:27:00+00:00</td><td> 6816.00</td><td> 3</td></tr>\n",
       "\t<tr><td>JC2a0784f</td><td>131072025806</td><td>33</td><td>2020-03-05</td><td>167.64</td><td>232.10</td><td>2015-01-21 21:24:00</td><td>2015-01-22 22:30:00+00:00</td><td> 7647.32</td><td> 3</td></tr>\n",
       "\t<tr><td>JC2a0784f</td><td>131072025806</td><td>33</td><td>2020-03-05</td><td>167.64</td><td>232.10</td><td>2015-01-21 21:24:00</td><td>2015-01-23 22:12:00+00:00</td><td> 7562.66</td><td> 3</td></tr>\n",
       "\t<tr><td>JC2a0784f</td><td>131242882845</td><td>36</td><td>2020-03-05</td><td>167.64</td><td>232.10</td><td>2017-12-12 14:17:00</td><td>2017-12-12 06:37:00+00:00</td><td> 8640.00</td><td> 2</td></tr>\n",
       "\t<tr><td>JC2a0784f</td><td>131242882845</td><td>36</td><td>2020-03-05</td><td>167.64</td><td>232.10</td><td>2017-12-12 14:17:00</td><td>2017-12-12 11:53:00+00:00</td><td> 7368.66</td><td> 2</td></tr>\n",
       "\t<tr><td>JCcbb4b8 </td><td>131075411816</td><td>44</td><td>2019-01-01</td><td>165.10</td><td> 57.90</td><td>2015-02-17 06:42:00</td><td>2015-02-17 23:09:00+00:00</td><td> 1869.50</td><td> 4</td></tr>\n",
       "\t<tr><td>JCcbb4b8 </td><td>131075411816</td><td>44</td><td>2019-01-01</td><td>165.10</td><td> 57.90</td><td>2015-02-17 06:42:00</td><td>2015-02-18 15:49:00+00:00</td><td> 1862.45</td><td> 4</td></tr>\n",
       "\t<tr><td>JCcbb4b8 </td><td>131075411816</td><td>44</td><td>2019-01-01</td><td>165.10</td><td> 57.90</td><td>2015-02-17 06:42:00</td><td>2015-02-19 16:57:00+00:00</td><td> 1841.28</td><td> 4</td></tr>\n",
       "\t<tr><td>JCcbb4b8 </td><td>131075411816</td><td>44</td><td>2019-01-01</td><td>165.10</td><td> 57.90</td><td>2015-02-17 06:42:00</td><td>2015-02-20 16:45:00+00:00</td><td> 1798.95</td><td> 4</td></tr>\n",
       "\t<tr><td>JCcbb4b8 </td><td>131196826960</td><td>45</td><td>2019-01-01</td><td>165.10</td><td> 57.90</td><td>2016-08-12 00:50:00</td><td>2016-08-12 02:30:00+00:00</td><td> 1802.48</td><td> 3</td></tr>\n",
       "\t<tr><td>JCcbb4b8 </td><td>131196826960</td><td>45</td><td>2019-01-01</td><td>165.10</td><td> 57.90</td><td>2016-08-12 00:50:00</td><td>2016-08-12 15:36:00+00:00</td><td> 1802.48</td><td> 3</td></tr>\n",
       "\t<tr><td>JCcbb4b8 </td><td>131196826960</td><td>45</td><td>2019-01-01</td><td>165.10</td><td> 57.90</td><td>2016-08-12 00:50:00</td><td>2016-08-12 15:55:00+00:00</td><td> 1784.84</td><td> 3</td></tr>\n",
       "\t<tr><td>JCcbb4b8 </td><td>131216914159</td><td>46</td><td>2019-01-01</td><td>165.10</td><td> 57.90</td><td>2017-01-17 00:30:00</td><td>2017-01-17 04:00:00+00:00</td><td>  840.00</td><td>11</td></tr>\n",
       "\t<tr><td>JCcbb4b8 </td><td>131216914159</td><td>46</td><td>2019-01-01</td><td>165.10</td><td> 57.90</td><td>2017-01-17 00:30:00</td><td>2017-01-17 16:01:00+00:00</td><td> 1806.01</td><td>11</td></tr>\n",
       "\t<tr><td>JCcbb4b8 </td><td>131216914159</td><td>46</td><td>2019-01-01</td><td>165.10</td><td> 57.90</td><td>2017-01-17 00:30:00</td><td>2017-01-18 15:01:00+00:00</td><td> 1876.56</td><td>11</td></tr>\n",
       "\t<tr><td>JCcbb4b8 </td><td>131216914159</td><td>46</td><td>2019-01-01</td><td>165.10</td><td> 57.90</td><td>2017-01-17 00:30:00</td><td>2017-01-18 16:30:00+00:00</td><td> 1869.50</td><td>11</td></tr>\n",
       "\t<tr><td>JCcbb4b8 </td><td>131216914159</td><td>46</td><td>2019-01-01</td><td>165.10</td><td> 57.90</td><td>2017-01-17 00:30:00</td><td>2017-01-19 17:20:00+00:00</td><td> 1813.06</td><td>11</td></tr>\n",
       "\t<tr><td>JCcbb4b8 </td><td>131216914159</td><td>46</td><td>2019-01-01</td><td>165.10</td><td> 57.90</td><td>2017-01-17 00:30:00</td><td>2017-01-20 16:14:00+00:00</td><td> 1763.68</td><td>11</td></tr>\n",
       "\t<tr><td>JCcbb4b8 </td><td>131216914159</td><td>46</td><td>2019-01-01</td><td>165.10</td><td> 57.90</td><td>2017-01-17 00:30:00</td><td>2017-01-21 17:58:00+00:00</td><td> 1795.43</td><td>11</td></tr>\n",
       "\t<tr><td>JCcbb4b8 </td><td>131216914159</td><td>46</td><td>2019-01-01</td><td>165.10</td><td> 57.90</td><td>2017-01-17 00:30:00</td><td>2017-01-21 22:25:00+00:00</td><td> 1788.37</td><td>11</td></tr>\n",
       "\t<tr><td>JCcbb4b8 </td><td>131216914159</td><td>46</td><td>2019-01-01</td><td>165.10</td><td> 57.90</td><td>2017-01-17 00:30:00</td><td>2017-01-22 14:10:00+00:00</td><td> 1742.52</td><td>11</td></tr>\n",
       "\t<tr><td>JCcbb4b8 </td><td>131216914159</td><td>46</td><td>2019-01-01</td><td>165.10</td><td> 57.90</td><td>2017-01-17 00:30:00</td><td>2017-01-23 12:57:00+00:00</td><td> 1746.04</td><td>11</td></tr>\n",
       "\t<tr><td>JCcbb4b8 </td><td>131216914159</td><td>46</td><td>2019-01-01</td><td>165.10</td><td> 57.90</td><td>2017-01-17 00:30:00</td><td>2017-01-24 13:52:00+00:00</td><td> 1735.46</td><td>11</td></tr>\n",
       "\t<tr><td>JCcbfbc8 </td><td>131243660291</td><td>76</td><td>2019-01-01</td><td>156.50</td><td> 55.60</td><td>2018-01-06 02:32:00</td><td>2018-01-06 04:20:00+00:00</td><td> 2183.44</td><td> 3</td></tr>\n",
       "\t<tr><td>JCcbfbc8 </td><td>131243660291</td><td>76</td><td>2019-01-01</td><td>156.50</td><td> 55.60</td><td>2018-01-06 02:32:00</td><td>2018-01-06 13:00:00+00:00</td><td> 2183.44</td><td> 3</td></tr>\n",
       "\t<tr><td>JCcbfbc8 </td><td>131243660291</td><td>76</td><td>2019-01-01</td><td>156.50</td><td> 55.60</td><td>2018-01-06 02:32:00</td><td>2018-01-06 17:00:00+00:00</td><td> 2186.96</td><td> 3</td></tr>\n",
       "\t<tr><td>JCcbfbc8 </td><td>131256866342</td><td>77</td><td>2019-01-01</td><td>156.50</td><td> 55.60</td><td>2018-09-03 20:20:00</td><td>2018-09-06 06:00:00+00:00</td><td>  789.42</td><td> 8</td></tr>\n",
       "\t<tr><td>JCcbfbc8 </td><td>131256866342</td><td>77</td><td>2019-01-01</td><td>156.50</td><td> 55.60</td><td>2018-09-03 20:20:00</td><td>2018-09-06 21:15:00+00:00</td><td> 2072.00</td><td> 8</td></tr>\n",
       "\t<tr><td>JCcbfbc8 </td><td>131256866342</td><td>77</td><td>2019-01-01</td><td>156.50</td><td> 55.60</td><td>2018-09-03 20:20:00</td><td>2018-09-08 21:09:00+00:00</td><td> 2179.20</td><td> 8</td></tr>\n",
       "\t<tr><td>JCcbfbc8 </td><td>131256866342</td><td>77</td><td>2019-01-01</td><td>156.50</td><td> 55.60</td><td>2018-09-03 20:20:00</td><td>2018-09-09 10:32:00+00:00</td><td> 2211.65</td><td> 8</td></tr>\n",
       "\t<tr><td>JCcbfbc8 </td><td>131256866342</td><td>77</td><td>2019-01-01</td><td>156.50</td><td> 55.60</td><td>2018-09-03 20:20:00</td><td>2018-09-10 13:27:00+00:00</td><td> 2250.46</td><td> 8</td></tr>\n",
       "\t<tr><td>JCcbfbc8 </td><td>131256866342</td><td>77</td><td>2019-01-01</td><td>156.50</td><td> 55.60</td><td>2018-09-03 20:20:00</td><td>2018-09-11 11:24:00+00:00</td><td> 2271.62</td><td> 8</td></tr>\n",
       "\t<tr><td>JCcbfbc8 </td><td>131256866342</td><td>77</td><td>2019-01-01</td><td>156.50</td><td> 55.60</td><td>2018-09-03 20:20:00</td><td>2018-09-11 21:02:00+00:00</td><td> 2335.11</td><td> 8</td></tr>\n",
       "\t<tr><td>JCcbfbc8 </td><td>131256866342</td><td>77</td><td>2019-01-01</td><td>156.50</td><td> 55.60</td><td>2018-09-03 20:20:00</td><td>2018-09-13 11:29:00+00:00</td><td> 2345.69</td><td> 8</td></tr>\n",
       "\t<tr><td>JCd0500f </td><td>131186131047</td><td>66</td><td>2020-03-31</td><td>165.10</td><td>123.20</td><td>2016-05-22 07:10:00</td><td>2016-05-22 07:43:00+00:00</td><td>  987.66</td><td> 1</td></tr>\n",
       "\t<tr><td>JCd0500f </td><td>131277983176</td><td>69</td><td>2020-03-31</td><td>165.10</td><td>123.20</td><td>2019-11-01 06:18:00</td><td>2019-11-01 01:53:00+00:00</td><td> 4190.50</td><td> 1</td></tr>\n",
       "\t<tr><td>JCd262e1 </td><td>131081523555</td><td>63</td><td>2020-02-24</td><td>152.40</td><td>122.70</td><td>2015-03-09 11:02:00</td><td>2015-03-09 07:52:00+00:00</td><td> 4800.00</td><td> 5</td></tr>\n",
       "\t<tr><td>JCd262e1 </td><td>131081523555</td><td>63</td><td>2020-02-24</td><td>152.40</td><td>122.70</td><td>2015-03-09 11:02:00</td><td>2015-03-09 11:18:00+00:00</td><td>11587.38</td><td> 5</td></tr>\n",
       "\t<tr><td>JCd262e1 </td><td>131081523555</td><td>63</td><td>2020-02-24</td><td>152.40</td><td>122.70</td><td>2015-03-09 11:02:00</td><td>2015-03-10 23:41:00+00:00</td><td> 5231.07</td><td> 5</td></tr>\n",
       "\t<tr><td>JCd262e1 </td><td>131081523555</td><td>63</td><td>2020-02-24</td><td>152.40</td><td>122.70</td><td>2015-03-09 11:02:00</td><td>2015-03-11 14:52:00+00:00</td><td> 5301.62</td><td> 5</td></tr>\n",
       "\t<tr><td>JCd262e1 </td><td>131081523555</td><td>63</td><td>2020-02-24</td><td>152.40</td><td>122.70</td><td>2015-03-09 11:02:00</td><td>2015-03-14 12:52:00+00:00</td><td> 5280.46</td><td> 5</td></tr>\n",
       "\t<tr><td>JCd262e1 </td><td>131200325194</td><td>64</td><td>2020-02-24</td><td>152.40</td><td>122.70</td><td>2016-09-06 10:10:00</td><td>2016-09-07 16:25:00+00:00</td><td> 4832.48</td><td> 3</td></tr>\n",
       "\t<tr><td>JCd262e1 </td><td>131200325194</td><td>64</td><td>2020-02-24</td><td>152.40</td><td>122.70</td><td>2016-09-06 10:10:00</td><td>2016-09-09 19:31:00+00:00</td><td> 5072.34</td><td> 3</td></tr>\n",
       "\t<tr><td>JCd262e1 </td><td>131200325194</td><td>64</td><td>2020-02-24</td><td>152.40</td><td>122.70</td><td>2016-09-06 10:10:00</td><td>2016-09-10 16:44:00+00:00</td><td> 5086.45</td><td> 3</td></tr>\n",
       "\t<tr><td>JCd262e1 </td><td>131245262535</td><td>66</td><td>2020-02-24</td><td>152.40</td><td>122.70</td><td>2018-01-18 18:05:00</td><td>2018-01-18 15:28:00+00:00</td><td> 4800.00</td><td> 4</td></tr>\n",
       "\t<tr><td>JCd262e1 </td><td>131245262535</td><td>66</td><td>2020-02-24</td><td>152.40</td><td>122.70</td><td>2018-01-18 18:05:00</td><td>2018-01-18 23:43:00+00:00</td><td> 4800.74</td><td> 4</td></tr>\n",
       "\t<tr><td>JCd262e1 </td><td>131245262535</td><td>66</td><td>2020-02-24</td><td>152.40</td><td>122.70</td><td>2018-01-18 18:05:00</td><td>2018-01-20 19:00:00+00:00</td><td> 4776.05</td><td> 4</td></tr>\n",
       "\t<tr><td>JCd262e1 </td><td>131245262535</td><td>66</td><td>2020-02-24</td><td>152.40</td><td>122.70</td><td>2018-01-18 18:05:00</td><td>2018-01-21 17:13:00+00:00</td><td> 4363.34</td><td> 4</td></tr>\n",
       "\t<tr><td>JCd262e1 </td><td>131274595388</td><td>67</td><td>2020-02-24</td><td>152.40</td><td>122.70</td><td>2019-07-29 18:08:00</td><td>2019-07-29 16:00:00+00:00</td><td> 4811.32</td><td> 3</td></tr>\n",
       "\t<tr><td>JCd262e1 </td><td>131274595388</td><td>67</td><td>2020-02-24</td><td>152.40</td><td>122.70</td><td>2019-07-29 18:08:00</td><td>2019-07-30 03:38:00+00:00</td><td> 4828.96</td><td> 3</td></tr>\n",
       "\t<tr><td>JCd262e1 </td><td>131274595388</td><td>67</td><td>2020-02-24</td><td>152.40</td><td>122.70</td><td>2019-07-29 18:08:00</td><td>2019-08-02 13:00:00+00:00</td><td> 4740.77</td><td> 3</td></tr>\n",
       "\t<tr><td>JCd262e1 </td><td>131280049641</td><td>67</td><td>2020-02-24</td><td>152.40</td><td>122.70</td><td>2019-11-10 23:05:00</td><td>2019-11-10 19:41:00+00:00</td><td> 4338.65</td><td> 1</td></tr>\n",
       "\t<tr><td>JCd262e1 </td><td>131281388100</td><td>68</td><td>2020-02-24</td><td>152.40</td><td>122.70</td><td>2019-12-11 17:13:00</td><td>2019-12-11 14:37:00+00:00</td><td> 4328.07</td><td> 1</td></tr>\n",
       "\t<tr><td>JCd84277 </td><td>131090908463</td><td>21</td><td>2019-11-24</td><td>160.02</td><td> 43.00</td><td>2015-05-22 07:01:00</td><td>2015-05-22 15:21:00+00:00</td><td>  871.26</td><td> 5</td></tr>\n",
       "\t<tr><td>JCd84277 </td><td>131090908463</td><td>21</td><td>2019-11-24</td><td>160.02</td><td> 43.00</td><td>2015-05-22 07:01:00</td><td>2015-05-23 16:00:00+00:00</td><td> 1509.71</td><td> 5</td></tr>\n",
       "\t<tr><td>JCd84277 </td><td>131090908463</td><td>21</td><td>2019-11-24</td><td>160.02</td><td> 43.00</td><td>2015-05-22 07:01:00</td><td>2015-05-26 15:25:00+00:00</td><td> 1481.49</td><td> 5</td></tr>\n",
       "\t<tr><td>JCd84277 </td><td>131090908463</td><td>21</td><td>2019-11-24</td><td>160.02</td><td> 43.00</td><td>2015-05-22 07:01:00</td><td>2015-05-28 15:00:00+00:00</td><td> 1481.49</td><td> 5</td></tr>\n",
       "\t<tr><td>JCd84277 </td><td>131090908463</td><td>21</td><td>2019-11-24</td><td>160.02</td><td> 43.00</td><td>2015-05-22 07:01:00</td><td>2015-05-30 14:36:00+00:00</td><td> 1470.91</td><td> 5</td></tr>\n",
       "\t<tr><td>JCd99e71 </td><td>131214625562</td><td>49</td><td>2019-11-16</td><td>193.00</td><td>220.80</td><td>2017-01-25 05:52:00</td><td>2017-01-25 08:06:00+00:00</td><td> 7816.63</td><td> 2</td></tr>\n",
       "\t<tr><td>JCd99e71 </td><td>131214625562</td><td>49</td><td>2019-11-16</td><td>193.00</td><td>220.80</td><td>2017-01-25 05:52:00</td><td>2017-01-26 16:11:00+00:00</td><td> 8056.49</td><td> 2</td></tr>\n",
       "\t<tr><td>JCdab6fa </td><td>131255981015</td><td>80</td><td>2019-01-13</td><td>149.90</td><td> 57.38</td><td>2018-09-11 03:14:00</td><td>2018-09-11 05:00:00+00:00</td><td> 2045.87</td><td> 4</td></tr>\n",
       "\t<tr><td>JCdab6fa </td><td>131255981015</td><td>80</td><td>2019-01-13</td><td>149.90</td><td> 57.38</td><td>2018-09-11 03:14:00</td><td>2018-09-16 04:00:00+00:00</td><td>  910.41</td><td> 4</td></tr>\n",
       "\t<tr><td>JCdab6fa </td><td>131255981015</td><td>80</td><td>2019-01-13</td><td>149.90</td><td> 57.38</td><td>2018-09-11 03:14:00</td><td>2018-09-17 11:58:00+00:00</td><td> 2096.00</td><td> 4</td></tr>\n",
       "\t<tr><td>JCdab6fa </td><td>131255981015</td><td>80</td><td>2019-01-13</td><td>149.90</td><td> 57.38</td><td>2018-09-11 03:14:00</td><td>2018-09-20 12:00:00+00:00</td><td> 2024.00</td><td> 4</td></tr>\n",
       "\t<tr><td>JCdba730 </td><td>131262687726</td><td>34</td><td>2020-03-31</td><td>157.48</td><td> 31.20</td><td>2019-01-17 03:10:00</td><td>2019-01-17 00:57:00+00:00</td><td> 1375.67</td><td> 6</td></tr>\n",
       "\t<tr><td>JCdba730 </td><td>131262687726</td><td>34</td><td>2020-03-31</td><td>157.48</td><td> 31.20</td><td>2019-01-17 03:10:00</td><td>2019-01-20 01:00:00+00:00</td><td> 1375.67</td><td> 6</td></tr>\n",
       "\t<tr><td>JCdba730 </td><td>131262687726</td><td>34</td><td>2020-03-31</td><td>157.48</td><td> 31.20</td><td>2019-01-17 03:10:00</td><td>2019-01-21 22:31:00+00:00</td><td> 1375.67</td><td> 6</td></tr>\n",
       "\t<tr><td>JCdba730 </td><td>131262687726</td><td>34</td><td>2020-03-31</td><td>157.48</td><td> 31.20</td><td>2019-01-17 03:10:00</td><td>2019-01-23 01:15:00+00:00</td><td> 1389.78</td><td> 6</td></tr>\n",
       "\t<tr><td>JCdba730 </td><td>131262687726</td><td>34</td><td>2020-03-31</td><td>157.48</td><td> 31.20</td><td>2019-01-17 03:10:00</td><td>2019-01-27 16:30:00+00:00</td><td> 1421.53</td><td> 6</td></tr>\n",
       "\t<tr><td>JCdba730 </td><td>131262687726</td><td>34</td><td>2020-03-31</td><td>157.48</td><td> 31.20</td><td>2019-01-17 03:10:00</td><td>2019-01-28 16:19:00+00:00</td><td> 1421.53</td><td> 6</td></tr>\n",
       "\t<tr><td>JCdba730 </td><td>131279798635</td><td>35</td><td>2020-03-31</td><td>157.48</td><td> 31.20</td><td>2019-11-22 05:03:00</td><td>2019-11-22 07:31:00+00:00</td><td> 1167.56</td><td>17</td></tr>\n",
       "\t<tr><td>JCdba730 </td><td>131279798635</td><td>35</td><td>2020-03-31</td><td>157.48</td><td> 31.20</td><td>2019-11-22 05:03:00</td><td>2019-11-25 00:20:00+00:00</td><td> 1178.14</td><td>17</td></tr>\n",
       "\t<tr><td>JCdba730 </td><td>131279798635</td><td>35</td><td>2020-03-31</td><td>157.48</td><td> 31.20</td><td>2019-11-22 05:03:00</td><td>2019-11-25 10:03:00+00:00</td><td> 1178.14</td><td>17</td></tr>\n",
       "\t<tr><td>JCdba730 </td><td>131279798635</td><td>35</td><td>2020-03-31</td><td>157.48</td><td> 31.20</td><td>2019-11-22 05:03:00</td><td>2019-11-27 14:01:00+00:00</td><td> 1178.14</td><td>17</td></tr>\n",
       "\t<tr><td>JCdba730 </td><td>131279798635</td><td>35</td><td>2020-03-31</td><td>157.48</td><td> 31.20</td><td>2019-11-22 05:03:00</td><td>2019-11-28 12:46:00+00:00</td><td> 1178.14</td><td>17</td></tr>\n",
       "\t<tr><td>JCdba730 </td><td>131279798635</td><td>35</td><td>2020-03-31</td><td>157.48</td><td> 31.20</td><td>2019-11-22 05:03:00</td><td>2019-12-01 09:20:00+00:00</td><td> 1178.14</td><td>17</td></tr>\n",
       "\t<tr><td>JCdba730 </td><td>131279798635</td><td>35</td><td>2020-03-31</td><td>157.48</td><td> 31.20</td><td>2019-11-22 05:03:00</td><td>2019-12-04 20:18:00+00:00</td><td> 1389.78</td><td>17</td></tr>\n",
       "\t<tr><td>JCdba730 </td><td>131279798635</td><td>35</td><td>2020-03-31</td><td>157.48</td><td> 31.20</td><td>2019-11-22 05:03:00</td><td>2019-12-08 14:03:00+00:00</td><td> 1414.47</td><td>17</td></tr>\n",
       "\t<tr><td>JCdba730 </td><td>131279798635</td><td>35</td><td>2020-03-31</td><td>157.48</td><td> 31.20</td><td>2019-11-22 05:03:00</td><td>2019-12-11 18:59:00+00:00</td><td> 1414.47</td><td>17</td></tr>\n",
       "\t<tr><td>JCdba730 </td><td>131279798635</td><td>35</td><td>2020-03-31</td><td>157.48</td><td> 31.20</td><td>2019-11-22 05:03:00</td><td>2019-12-11 19:00:00+00:00</td><td> 1142.86</td><td>17</td></tr>\n",
       "\t<tr><td>JCdba730 </td><td>131279798635</td><td>35</td><td>2020-03-31</td><td>157.48</td><td> 31.20</td><td>2019-11-22 05:03:00</td><td>2019-12-12 18:46:00+00:00</td><td> 1100.54</td><td>17</td></tr>\n",
       "\t<tr><td>JCdba730 </td><td>131279798635</td><td>35</td><td>2020-03-31</td><td>157.48</td><td> 31.20</td><td>2019-11-22 05:03:00</td><td>2019-12-13 18:46:00+00:00</td><td> 1040.57</td><td>17</td></tr>\n",
       "\t<tr><td>JCdba730 </td><td>131279798635</td><td>35</td><td>2020-03-31</td><td>157.48</td><td> 31.20</td><td>2019-11-22 05:03:00</td><td>2019-12-14 20:54:00+00:00</td><td> 1005.30</td><td>17</td></tr>\n",
       "\t<tr><td>JCdba730 </td><td>131279798635</td><td>35</td><td>2020-03-31</td><td>157.48</td><td> 31.20</td><td>2019-11-22 05:03:00</td><td>2019-12-18 01:23:00+00:00</td><td>  971.52</td><td>17</td></tr>\n",
       "\t<tr><td>JCdba730 </td><td>131279798635</td><td>35</td><td>2020-03-31</td><td>157.48</td><td> 31.20</td><td>2019-11-22 05:03:00</td><td>2019-12-22 14:20:00+00:00</td><td> 1037.04</td><td>17</td></tr>\n",
       "\t<tr><td>JCdba730 </td><td>131279798635</td><td>35</td><td>2020-03-31</td><td>157.48</td><td> 31.20</td><td>2019-11-22 05:03:00</td><td>2019-12-23 23:00:00+00:00</td><td> 1040.57</td><td>17</td></tr>\n",
       "\t<tr><td>JCdba730 </td><td>131279798635</td><td>35</td><td>2020-03-31</td><td>157.48</td><td> 31.20</td><td>2019-11-22 05:03:00</td><td>2019-12-25 20:30:00+00:00</td><td> 1093.48</td><td>17</td></tr>\n",
       "\t<tr><td>JCe01e50 </td><td>131188059708</td><td>86</td><td>2020-03-31</td><td>177.80</td><td> 97.98</td><td>2016-05-25 02:49:00</td><td>2016-05-25 06:45:00+00:00</td><td> 8324.57</td><td> 2</td></tr>\n",
       "\t<tr><td>JCe01e50 </td><td>131188059708</td><td>86</td><td>2020-03-31</td><td>177.80</td><td> 97.98</td><td>2016-05-25 02:49:00</td><td>2016-05-25 15:15:00+00:00</td><td> 3739.00</td><td> 2</td></tr>\n",
       "\t<tr><td>JCe01e50 </td><td>131241586651</td><td>88</td><td>2020-03-31</td><td>177.80</td><td> 97.98</td><td>2017-11-07 08:30:00</td><td>2017-11-07 10:20:00+00:00</td><td> 4028.80</td><td> 1</td></tr>\n",
       "\t<tr><td>JCe01e50 </td><td>131267200353</td><td>89</td><td>2020-03-31</td><td>177.80</td><td> 97.98</td><td>2019-04-18 05:00:00</td><td>2019-04-18 06:55:00+00:00</td><td> 3703.73</td><td> 1</td></tr>\n",
       "\t<tr><td>JCe01e50 </td><td>131269279849</td><td>89</td><td>2020-03-31</td><td>177.80</td><td> 97.98</td><td>2019-05-29 04:47:00</td><td>2019-05-29 22:20:00+00:00</td><td> 3830.71</td><td> 3</td></tr>\n",
       "\t<tr><td>JCe01e50 </td><td>131269279849</td><td>89</td><td>2020-03-31</td><td>177.80</td><td> 97.98</td><td>2019-05-29 04:47:00</td><td>2019-05-30 14:35:00+00:00</td><td> 3668.45</td><td> 3</td></tr>\n",
       "\t<tr><td>JCe01e50 </td><td>131269279849</td><td>89</td><td>2020-03-31</td><td>177.80</td><td> 97.98</td><td>2019-05-29 04:47:00</td><td>2019-05-31 12:00:00+00:00</td><td> 3661.40</td><td> 3</td></tr>\n",
       "\t<tr><td>JCe01e50 </td><td>131278402456</td><td>90</td><td>2020-03-31</td><td>177.80</td><td> 97.98</td><td>2019-10-19 20:44:00</td><td>2019-10-19 17:00:00+00:00</td><td> 3680.00</td><td> 4</td></tr>\n",
       "\t<tr><td>JCe01e50 </td><td>131278402456</td><td>90</td><td>2020-03-31</td><td>177.80</td><td> 97.98</td><td>2019-10-19 20:44:00</td><td>2019-10-20 06:49:00+00:00</td><td> 3661.40</td><td> 4</td></tr>\n",
       "\t<tr><td>JCe01e50 </td><td>131278402456</td><td>90</td><td>2020-03-31</td><td>177.80</td><td> 97.98</td><td>2019-10-19 20:44:00</td><td>2019-10-20 13:27:00+00:00</td><td> 3661.40</td><td> 4</td></tr>\n",
       "\t<tr><td>JCe01e50 </td><td>131278402456</td><td>90</td><td>2020-03-31</td><td>177.80</td><td> 97.98</td><td>2019-10-19 20:44:00</td><td>2019-10-23 23:25:00+00:00</td><td> 3392.00</td><td> 4</td></tr>\n",
       "\t<tr><td>JCe01e50 </td><td>131281393511</td><td>90</td><td>2020-03-31</td><td>177.80</td><td> 97.98</td><td>2019-12-24 03:51:00</td><td>2019-12-24 06:58:00+00:00</td><td> 3760.17</td><td> 2</td></tr>\n",
       "\t<tr><td>JCe01e50 </td><td>131281393511</td><td>90</td><td>2020-03-31</td><td>177.80</td><td> 97.98</td><td>2019-12-24 03:51:00</td><td>2019-12-25 16:07:00+00:00</td><td> 3661.40</td><td> 2</td></tr>\n",
       "\t<tr><td>JCe48b36 </td><td>131249121514</td><td>68</td><td>2019-12-19</td><td>190.50</td><td>117.75</td><td>2018-04-14 00:25:00</td><td>2018-04-14 01:17:00+00:00</td><td> 6313.97</td><td>12</td></tr>\n",
       "\t<tr><td>JCe48b36 </td><td>131249121514</td><td>68</td><td>2019-12-19</td><td>190.50</td><td>117.75</td><td>2018-04-14 00:25:00</td><td>2018-04-14 10:32:00+00:00</td><td> 6155.24</td><td>12</td></tr>\n",
       "\t<tr><td>JCe48b36 </td><td>131249121514</td><td>68</td><td>2019-12-19</td><td>190.50</td><td>117.75</td><td>2018-04-14 00:25:00</td><td>2018-04-15 13:30:00+00:00</td><td> 6176.41</td><td>12</td></tr>\n",
       "\t<tr><td>JCe48b36 </td><td>131249121514</td><td>68</td><td>2019-12-19</td><td>190.50</td><td>117.75</td><td>2018-04-14 00:25:00</td><td>2018-04-16 12:40:00+00:00</td><td> 6021.20</td><td>12</td></tr>\n",
       "\t<tr><td>JCe48b36 </td><td>131249121514</td><td>68</td><td>2019-12-19</td><td>190.50</td><td>117.75</td><td>2018-04-14 00:25:00</td><td>2018-04-16 15:01:00+00:00</td><td> 6137.61</td><td>12</td></tr>\n",
       "\t<tr><td>JCe48b36 </td><td>131249121514</td><td>68</td><td>2019-12-19</td><td>190.50</td><td>117.75</td><td>2018-04-14 00:25:00</td><td>2018-04-16 17:30:00+00:00</td><td> 6060.00</td><td>12</td></tr>\n",
       "\t<tr><td>JCe48b36 </td><td>131249121514</td><td>68</td><td>2019-12-19</td><td>190.50</td><td>117.75</td><td>2018-04-14 00:25:00</td><td>2018-04-17 13:00:00+00:00</td><td> 7152.00</td><td>12</td></tr>\n",
       "\t<tr><td>JCe48b36 </td><td>131249121514</td><td>68</td><td>2019-12-19</td><td>190.50</td><td>117.75</td><td>2018-04-14 00:25:00</td><td>2018-04-18 13:00:00+00:00</td><td> 7056.00</td><td>12</td></tr>\n",
       "\t<tr><td>JCe48b36 </td><td>131249121514</td><td>68</td><td>2019-12-19</td><td>190.50</td><td>117.75</td><td>2018-04-14 00:25:00</td><td>2018-04-19 13:30:00+00:00</td><td> 6976.00</td><td>12</td></tr>\n",
       "\t<tr><td>JCe48b36 </td><td>131249121514</td><td>68</td><td>2019-12-19</td><td>190.50</td><td>117.75</td><td>2018-04-14 00:25:00</td><td>2018-04-20 14:00:00+00:00</td><td> 6208.00</td><td>12</td></tr>\n",
       "\t<tr><td>JCe48b36 </td><td>131249121514</td><td>68</td><td>2019-12-19</td><td>190.50</td><td>117.75</td><td>2018-04-14 00:25:00</td><td>2018-04-30 12:30:00+00:00</td><td> 3597.91</td><td>12</td></tr>\n",
       "\t<tr><td>JCe48b36 </td><td>131249121514</td><td>68</td><td>2019-12-19</td><td>190.50</td><td>117.75</td><td>2018-04-14 00:25:00</td><td>2018-05-01 10:27:00+00:00</td><td> 3597.91</td><td>12</td></tr>\n",
       "\t<tr><td>JCe48b36 </td><td>131255596987</td><td>68</td><td>2019-12-19</td><td>190.50</td><td>117.75</td><td>2018-08-31 02:54:00</td><td>2018-08-31 00:46:00+00:00</td><td> 9920.00</td><td>10</td></tr>\n",
       "\t<tr><td>JCe48b36 </td><td>131255596987</td><td>68</td><td>2019-12-19</td><td>190.50</td><td>117.75</td><td>2018-08-31 02:54:00</td><td>2018-08-31 01:22:00+00:00</td><td> 4928.00</td><td>10</td></tr>\n",
       "\t<tr><td>JCe48b36 </td><td>131255596987</td><td>68</td><td>2019-12-19</td><td>190.50</td><td>117.75</td><td>2018-08-31 02:54:00</td><td>2018-08-31 06:14:00+00:00</td><td> 5509.74</td><td>10</td></tr>\n",
       "\t<tr><td>JCe48b36 </td><td>131255596987</td><td>68</td><td>2019-12-19</td><td>190.50</td><td>117.75</td><td>2018-08-31 02:54:00</td><td>2018-08-31 12:02:00+00:00</td><td> 5477.99</td><td>10</td></tr>\n",
       "\t<tr><td>JCe48b36 </td><td>131255596987</td><td>68</td><td>2019-12-19</td><td>190.50</td><td>117.75</td><td>2018-08-31 02:54:00</td><td>2018-09-06 11:00:00+00:00</td><td> 4458.58</td><td>10</td></tr>\n",
       "\t<tr><td>JCe48b36 </td><td>131255596987</td><td>68</td><td>2019-12-19</td><td>190.50</td><td>117.75</td><td>2018-08-31 02:54:00</td><td>2018-09-07 11:00:00+00:00</td><td> 4380.98</td><td>10</td></tr>\n",
       "\t<tr><td>JCe48b36 </td><td>131255596987</td><td>68</td><td>2019-12-19</td><td>190.50</td><td>117.75</td><td>2018-08-31 02:54:00</td><td>2018-09-08 10:30:00+00:00</td><td> 4331.60</td><td>10</td></tr>\n",
       "\t<tr><td>JCe48b36 </td><td>131255596987</td><td>68</td><td>2019-12-19</td><td>190.50</td><td>117.75</td><td>2018-08-31 02:54:00</td><td>2018-09-12 11:00:00+00:00</td><td> 4380.98</td><td>10</td></tr>\n",
       "\t<tr><td>JCe48b36 </td><td>131255596987</td><td>68</td><td>2019-12-19</td><td>190.50</td><td>117.75</td><td>2018-08-31 02:54:00</td><td>2018-09-14 11:00:00+00:00</td><td> 4310.43</td><td>10</td></tr>\n",
       "\t<tr><td>JCe48b36 </td><td>131255596987</td><td>68</td><td>2019-12-19</td><td>190.50</td><td>117.75</td><td>2018-08-31 02:54:00</td><td>2018-09-17 13:00:00+00:00</td><td> 4409.20</td><td>10</td></tr>\n",
       "\t<tr><td>JCe48b36 </td><td>131264610606</td><td>69</td><td>2019-12-19</td><td>190.50</td><td>117.75</td><td>2019-03-24 17:29:00</td><td>2019-03-24 19:40:00+00:00</td><td> 4091.74</td><td> 1</td></tr>\n",
       "\t<tr><td>JCe61cfe </td><td>131281143011</td><td>30</td><td>2020-03-13</td><td>167.60</td><td>188.00</td><td>2020-01-09 13:56:00</td><td>2020-01-09 12:23:00+00:00</td><td> 8077.65</td><td>29</td></tr>\n",
       "\t<tr><td>JCe61cfe </td><td>131281143011</td><td>30</td><td>2020-03-13</td><td>167.60</td><td>188.00</td><td>2020-01-09 13:56:00</td><td>2020-01-09 23:00:00+00:00</td><td> 7901.29</td><td>29</td></tr>\n",
       "\t<tr><td>JCe61cfe </td><td>131281143011</td><td>30</td><td>2020-03-13</td><td>167.60</td><td>188.00</td><td>2020-01-09 13:56:00</td><td>2020-01-10 18:01:00+00:00</td><td> 7664.95</td><td>29</td></tr>\n",
       "\t<tr><td>JCe61cfe </td><td>131281143011</td><td>30</td><td>2020-03-13</td><td>167.60</td><td>188.00</td><td>2020-01-09 13:56:00</td><td>2020-01-15 14:00:00+00:00</td><td> 7731.97</td><td>29</td></tr>\n",
       "\t<tr><td>JCe61cfe </td><td>131281143011</td><td>30</td><td>2020-03-13</td><td>167.60</td><td>188.00</td><td>2020-01-09 13:56:00</td><td>2020-01-28 13:00:00+00:00</td><td> 6440.96</td><td>29</td></tr>\n",
       "\t<tr><td>JCe61cfe </td><td>131281143011</td><td>30</td><td>2020-03-13</td><td>167.60</td><td>188.00</td><td>2020-01-09 13:56:00</td><td>2020-01-29 14:00:00+00:00</td><td> 6507.98</td><td>29</td></tr>\n",
       "\t<tr><td>JCe61cfe </td><td>131281143011</td><td>30</td><td>2020-03-13</td><td>167.60</td><td>188.00</td><td>2020-01-09 13:56:00</td><td>2020-01-30 13:00:00+00:00</td><td> 6440.96</td><td>29</td></tr>\n",
       "\t<tr><td>JCe61cfe </td><td>131281143011</td><td>30</td><td>2020-03-13</td><td>167.60</td><td>188.00</td><td>2020-01-09 13:56:00</td><td>2020-01-31 13:45:00+00:00</td><td> 6440.96</td><td>29</td></tr>\n",
       "\t<tr><td>JCe61cfe </td><td>131281143011</td><td>30</td><td>2020-03-13</td><td>167.60</td><td>188.00</td><td>2020-01-09 13:56:00</td><td>2020-02-01 12:50:00+00:00</td><td> 6582.05</td><td>29</td></tr>\n",
       "\t<tr><td>JCe61cfe </td><td>131281143011</td><td>30</td><td>2020-03-13</td><td>167.60</td><td>188.00</td><td>2020-01-09 13:56:00</td><td>2020-02-02 13:12:00+00:00</td><td> 6433.90</td><td>29</td></tr>\n",
       "\t<tr><td>JCe61cfe </td><td>131281143011</td><td>30</td><td>2020-03-13</td><td>167.60</td><td>188.00</td><td>2020-01-09 13:56:00</td><td>2020-02-03 13:44:00+00:00</td><td> 6518.56</td><td>29</td></tr>\n",
       "\t<tr><td>JCe61cfe </td><td>131281143011</td><td>30</td><td>2020-03-13</td><td>167.60</td><td>188.00</td><td>2020-01-09 13:56:00</td><td>2020-02-04 17:00:00+00:00</td><td> 6518.56</td><td>29</td></tr>\n",
       "\t<tr><td>JCe61cfe </td><td>131281143011</td><td>30</td><td>2020-03-13</td><td>167.60</td><td>188.00</td><td>2020-01-09 13:56:00</td><td>2020-02-04 21:00:00+00:00</td><td> 6518.56</td><td>29</td></tr>\n",
       "\t<tr><td>JCe61cfe </td><td>131281143011</td><td>30</td><td>2020-03-13</td><td>167.60</td><td>188.00</td><td>2020-01-09 13:56:00</td><td>2020-02-05 13:46:00+00:00</td><td> 6525.62</td><td>29</td></tr>\n",
       "\t<tr><td>JCe61cfe </td><td>131281143011</td><td>30</td><td>2020-03-13</td><td>167.60</td><td>188.00</td><td>2020-01-09 13:56:00</td><td>2020-02-05 15:57:00+00:00</td><td> 6388.05</td><td>29</td></tr>\n",
       "\t<tr><td>JCe61cfe </td><td>131281143011</td><td>30</td><td>2020-03-13</td><td>167.60</td><td>188.00</td><td>2020-01-09 13:56:00</td><td>2020-02-06 09:15:00+00:00</td><td> 6317.50</td><td>29</td></tr>\n",
       "\t<tr><td>JCe61cfe </td><td>131281143011</td><td>30</td><td>2020-03-13</td><td>167.60</td><td>188.00</td><td>2020-01-09 13:56:00</td><td>2020-02-10 11:02:00+00:00</td><td> 6264.59</td><td>29</td></tr>\n",
       "\t<tr><td>JCe61cfe </td><td>131281143011</td><td>30</td><td>2020-03-13</td><td>167.60</td><td>188.00</td><td>2020-01-09 13:56:00</td><td>2020-02-11 18:35:00+00:00</td><td> 6490.34</td><td>29</td></tr>\n",
       "\t<tr><td>JCe61cfe </td><td>131281143011</td><td>30</td><td>2020-03-13</td><td>167.60</td><td>188.00</td><td>2020-01-09 13:56:00</td><td>2020-02-12 16:00:00+00:00</td><td> 6627.91</td><td>29</td></tr>\n",
       "\t<tr><td>JCe61cfe </td><td>131281143011</td><td>30</td><td>2020-03-13</td><td>167.60</td><td>188.00</td><td>2020-01-09 13:56:00</td><td>2020-02-13 13:20:00+00:00</td><td> 6257.54</td><td>29</td></tr>\n",
       "\t<tr><td>JCe61cfe </td><td>131281143011</td><td>30</td><td>2020-03-13</td><td>167.60</td><td>188.00</td><td>2020-01-09 13:56:00</td><td>2020-02-17 19:35:00+00:00</td><td> 6352.78</td><td>29</td></tr>\n",
       "\t<tr><td>JCe61cfe </td><td>131281143011</td><td>30</td><td>2020-03-13</td><td>167.60</td><td>188.00</td><td>2020-01-09 13:56:00</td><td>2020-02-19 14:51:00+00:00</td><td> 7280.00</td><td>29</td></tr>\n",
       "\t<tr><td>JCe61cfe </td><td>131281143011</td><td>30</td><td>2020-03-13</td><td>167.60</td><td>188.00</td><td>2020-01-09 13:56:00</td><td>2020-02-20 11:57:00+00:00</td><td> 7024.00</td><td>29</td></tr>\n",
       "\t<tr><td>JCe61cfe </td><td>131281143011</td><td>30</td><td>2020-03-13</td><td>167.60</td><td>188.00</td><td>2020-01-09 13:56:00</td><td>2020-02-22 21:55:00+00:00</td><td> 6395.10</td><td>29</td></tr>\n",
       "\t<tr><td>JCe61cfe </td><td>131281143011</td><td>30</td><td>2020-03-13</td><td>167.60</td><td>188.00</td><td>2020-01-09 13:56:00</td><td>2020-02-25 20:05:00+00:00</td><td> 6427.20</td><td>29</td></tr>\n",
       "\t<tr><td>JCe61cfe </td><td>131281143011</td><td>30</td><td>2020-03-13</td><td>167.60</td><td>188.00</td><td>2020-01-09 13:56:00</td><td>2020-02-28 02:46:00+00:00</td><td> 6486.40</td><td>29</td></tr>\n",
       "\t<tr><td>JCe61cfe </td><td>131281143011</td><td>30</td><td>2020-03-13</td><td>167.60</td><td>188.00</td><td>2020-01-09 13:56:00</td><td>2020-03-01 22:23:00+00:00</td><td> 6580.80</td><td>29</td></tr>\n",
       "\t<tr><td>JCe61cfe </td><td>131281143011</td><td>30</td><td>2020-03-13</td><td>167.60</td><td>188.00</td><td>2020-01-09 13:56:00</td><td>2020-03-05 12:11:00+00:00</td><td> 6609.60</td><td>29</td></tr>\n",
       "\t<tr><td>JCe61cfe </td><td>131281143011</td><td>30</td><td>2020-03-13</td><td>167.60</td><td>188.00</td><td>2020-01-09 13:56:00</td><td>2020-03-06 13:49:00+00:00</td><td> 6631.44</td><td>29</td></tr>\n",
       "\t<tr><td>JCe8a3e5 </td><td>131251139412</td><td>79</td><td>2019-01-01</td><td>177.80</td><td>131.90</td><td>2018-04-29 04:07:00</td><td>2018-04-29 01:38:00+00:00</td><td> 4903.03</td><td>12</td></tr>\n",
       "\t<tr><td>JCe8a3e5 </td><td>131251139412</td><td>79</td><td>2019-01-01</td><td>177.80</td><td>131.90</td><td>2018-04-29 04:07:00</td><td>2018-04-30 14:00:00+00:00</td><td> 4903.03</td><td>12</td></tr>\n",
       "\t<tr><td>JCe8a3e5 </td><td>131251139412</td><td>79</td><td>2019-01-01</td><td>177.80</td><td>131.90</td><td>2018-04-29 04:07:00</td><td>2018-05-07 12:00:00+00:00</td><td>10553.86</td><td>12</td></tr>\n",
       "\t<tr><td>JCe8a3e5 </td><td>131251139412</td><td>79</td><td>2019-01-01</td><td>177.80</td><td>131.90</td><td>2018-04-29 04:07:00</td><td>2018-05-07 14:00:00+00:00</td><td> 4787.20</td><td>12</td></tr>\n",
       "\t<tr><td>JCe8a3e5 </td><td>131251139412</td><td>79</td><td>2019-01-01</td><td>177.80</td><td>131.90</td><td>2018-04-29 04:07:00</td><td>2018-05-12 11:40:00+00:00</td><td> 4821.90</td><td>12</td></tr>\n",
       "\t<tr><td>JCe8a3e5 </td><td>131251139412</td><td>79</td><td>2019-01-01</td><td>177.80</td><td>131.90</td><td>2018-04-29 04:07:00</td><td>2018-05-14 05:29:00+00:00</td><td> 4955.94</td><td>12</td></tr>\n",
       "\t<tr><td>JCe8a3e5 </td><td>131251139412</td><td>79</td><td>2019-01-01</td><td>177.80</td><td>131.90</td><td>2018-04-29 04:07:00</td><td>2018-05-16 00:00:00+00:00</td><td> 4860.70</td><td>12</td></tr>\n",
       "\t<tr><td>JCe8a3e5 </td><td>131251139412</td><td>79</td><td>2019-01-01</td><td>177.80</td><td>131.90</td><td>2018-04-29 04:07:00</td><td>2018-05-16 13:12:00+00:00</td><td> 4821.90</td><td>12</td></tr>\n",
       "\t<tr><td>JCe8a3e5 </td><td>131251139412</td><td>79</td><td>2019-01-01</td><td>177.80</td><td>131.90</td><td>2018-04-29 04:07:00</td><td>2018-05-17 12:00:00+00:00</td><td> 4821.90</td><td>12</td></tr>\n",
       "\t<tr><td>JCe8a3e5 </td><td>131251139412</td><td>79</td><td>2019-01-01</td><td>177.80</td><td>131.90</td><td>2018-04-29 04:07:00</td><td>2018-05-20 13:22:00+00:00</td><td> 4821.90</td><td>12</td></tr>\n",
       "\t<tr><td>JCe8a3e5 </td><td>131251139412</td><td>79</td><td>2019-01-01</td><td>177.80</td><td>131.90</td><td>2018-04-29 04:07:00</td><td>2018-05-25 15:00:00+00:00</td><td> 4821.90</td><td>12</td></tr>\n",
       "\t<tr><td>JCe8a3e5 </td><td>131251139412</td><td>79</td><td>2019-01-01</td><td>177.80</td><td>131.90</td><td>2018-04-29 04:07:00</td><td>2018-05-28 13:14:00+00:00</td><td> 4486.80</td><td>12</td></tr>\n",
       "\t<tr><td>JCe8a3e5 </td><td>131254274197</td><td>79</td><td>2019-01-01</td><td>177.80</td><td>131.90</td><td>2018-06-29 01:21:00</td><td>2018-06-28 23:45:00+00:00</td><td> 4515.02</td><td> 5</td></tr>\n",
       "\t<tr><td>JCe8a3e5 </td><td>131254274197</td><td>79</td><td>2019-01-01</td><td>177.80</td><td>131.90</td><td>2018-06-29 01:21:00</td><td>2018-06-29 02:54:00+00:00</td><td> 4522.08</td><td> 5</td></tr>\n",
       "\t<tr><td>JCe8a3e5 </td><td>131254274197</td><td>79</td><td>2019-01-01</td><td>177.80</td><td>131.90</td><td>2018-06-29 01:21:00</td><td>2018-06-29 14:00:00+00:00</td><td> 4522.08</td><td> 5</td></tr>\n",
       "\t<tr><td>JCe8a3e5 </td><td>131254274197</td><td>79</td><td>2019-01-01</td><td>177.80</td><td>131.90</td><td>2018-06-29 01:21:00</td><td>2018-06-30 18:39:00+00:00</td><td> 4522.08</td><td> 5</td></tr>\n",
       "\t<tr><td>JCe8a3e5 </td><td>131254274197</td><td>79</td><td>2019-01-01</td><td>177.80</td><td>131.90</td><td>2018-06-29 01:21:00</td><td>2018-07-01 14:49:00+00:00</td><td> 4645.53</td><td> 5</td></tr>\n",
       "\t<tr><td>JCe8a3e5 </td><td>131255133973</td><td>79</td><td>2019-01-01</td><td>177.80</td><td>131.90</td><td>2018-07-20 05:13:00</td><td>2018-07-19 20:48:00+00:00</td><td> 4480.00</td><td> 3</td></tr>\n",
       "\t<tr><td>JCe8a3e5 </td><td>131255133973</td><td>79</td><td>2019-01-01</td><td>177.80</td><td>131.90</td><td>2018-07-20 05:13:00</td><td>2018-07-20 07:15:00+00:00</td><td> 4574.99</td><td> 3</td></tr>\n",
       "\t<tr><td>JCe8a3e5 </td><td>131255133973</td><td>79</td><td>2019-01-01</td><td>177.80</td><td>131.90</td><td>2018-07-20 05:13:00</td><td>2018-07-23 12:30:00+00:00</td><td> 4733.72</td><td> 3</td></tr>\n",
       "\t<tr><td>JCe8a3e5 </td><td>131260358139</td><td>79</td><td>2019-01-01</td><td>177.80</td><td>131.90</td><td>2018-11-11 00:19:00</td><td>2018-11-11 00:11:00+00:00</td><td> 4733.72</td><td> 7</td></tr>\n",
       "\t<tr><td>JCe8a3e5 </td><td>131260358139</td><td>79</td><td>2019-01-01</td><td>177.80</td><td>131.90</td><td>2018-11-11 00:19:00</td><td>2018-11-14 18:11:00+00:00</td><td> 4455.06</td><td> 7</td></tr>\n",
       "\t<tr><td>JCe8a3e5 </td><td>131260358139</td><td>79</td><td>2019-01-01</td><td>177.80</td><td>131.90</td><td>2018-11-11 00:19:00</td><td>2018-11-16 14:03:00+00:00</td><td> 4634.95</td><td> 7</td></tr>\n",
       "\t<tr><td>JCe8a3e5 </td><td>131260358139</td><td>79</td><td>2019-01-01</td><td>177.80</td><td>131.90</td><td>2018-11-11 00:19:00</td><td>2018-11-17 11:44:00+00:00</td><td> 4624.37</td><td> 7</td></tr>\n",
       "\t<tr><td>JCe8a3e5 </td><td>131260358139</td><td>79</td><td>2019-01-01</td><td>177.80</td><td>131.90</td><td>2018-11-11 00:19:00</td><td>2018-11-19 11:34:00+00:00</td><td> 4659.64</td><td> 7</td></tr>\n",
       "\t<tr><td>JCe8a3e5 </td><td>131260358139</td><td>79</td><td>2019-01-01</td><td>177.80</td><td>131.90</td><td>2018-11-11 00:19:00</td><td>2018-11-22 12:11:00+00:00</td><td> 4687.86</td><td> 7</td></tr>\n",
       "\t<tr><td>JCe8a3e5 </td><td>131260358139</td><td>79</td><td>2019-01-01</td><td>177.80</td><td>131.90</td><td>2018-11-11 00:19:00</td><td>2018-11-24 11:40:00+00:00</td><td> 4652.59</td><td> 7</td></tr>\n",
       "\t<tr><td>JCe9ddd4 </td><td>131281150620</td><td>36</td><td>2020-03-31</td><td>172.72</td><td>144.50</td><td>2020-01-28 23:48:00</td><td>2020-02-01 17:34:00+00:00</td><td> 4903.03</td><td> 5</td></tr>\n",
       "\t<tr><td>JCe9ddd4 </td><td>131281150620</td><td>36</td><td>2020-03-31</td><td>172.72</td><td>144.50</td><td>2020-01-28 23:48:00</td><td>2020-02-06 17:35:00+00:00</td><td>10994.78</td><td> 5</td></tr>\n",
       "\t<tr><td>JCe9ddd4 </td><td>131281150620</td><td>36</td><td>2020-03-31</td><td>172.72</td><td>144.50</td><td>2020-01-28 23:48:00</td><td>2020-02-08 15:32:00+00:00</td><td> 5026.49</td><td> 5</td></tr>\n",
       "\t<tr><td>JCe9ddd4 </td><td>131281150620</td><td>36</td><td>2020-03-31</td><td>172.72</td><td>144.50</td><td>2020-01-28 23:48:00</td><td>2020-02-11 22:35:00+00:00</td><td> 5088.00</td><td> 5</td></tr>\n",
       "\t<tr><td>JCe9ddd4 </td><td>131281150620</td><td>36</td><td>2020-03-31</td><td>172.72</td><td>144.50</td><td>2020-01-28 23:48:00</td><td>2020-02-13 16:26:00+00:00</td><td> 5097.04</td><td> 5</td></tr>\n",
       "\t<tr><td>JCea3866 </td><td>131179616702</td><td>32</td><td>2020-03-31</td><td>140.00</td><td> 44.75</td><td>2016-02-16 04:05:00</td><td>2016-02-16 05:17:00+00:00</td><td> 1527.35</td><td>13</td></tr>\n",
       "\t<tr><td>JCea3866 </td><td>131179616702</td><td>32</td><td>2020-03-31</td><td>140.00</td><td> 44.75</td><td>2016-02-16 04:05:00</td><td>2016-02-16 15:35:00+00:00</td><td> 1636.70</td><td>13</td></tr>\n",
       "\t<tr><td>JCea3866 </td><td>131179616702</td><td>32</td><td>2020-03-31</td><td>140.00</td><td> 44.75</td><td>2016-02-16 04:05:00</td><td>2016-02-16 19:16:00+00:00</td><td> 1594.37</td><td>13</td></tr>\n",
       "\t<tr><td>JCea3866 </td><td>131179616702</td><td>32</td><td>2020-03-31</td><td>140.00</td><td> 44.75</td><td>2016-02-16 04:05:00</td><td>2016-02-16 20:41:00+00:00</td><td> 1590.84</td><td>13</td></tr>\n",
       "\t<tr><td>JCea3866 </td><td>131179616702</td><td>32</td><td>2020-03-31</td><td>140.00</td><td> 44.75</td><td>2016-02-16 04:05:00</td><td>2016-02-17 00:19:00+00:00</td><td> 1537.93</td><td>13</td></tr>\n",
       "\t<tr><td>JCea3866 </td><td>131179616702</td><td>32</td><td>2020-03-31</td><td>140.00</td><td> 44.75</td><td>2016-02-16 04:05:00</td><td>2016-02-18 00:23:00+00:00</td><td> 1534.40</td><td>13</td></tr>\n",
       "\t<tr><td>JCea3866 </td><td>131179616702</td><td>32</td><td>2020-03-31</td><td>140.00</td><td> 44.75</td><td>2016-02-16 04:05:00</td><td>2016-02-18 11:54:00+00:00</td><td> 1530.87</td><td>13</td></tr>\n",
       "\t<tr><td>JCea3866 </td><td>131179616702</td><td>32</td><td>2020-03-31</td><td>140.00</td><td> 44.75</td><td>2016-02-16 04:05:00</td><td>2016-02-19 00:42:00+00:00</td><td> 1534.40</td><td>13</td></tr>\n",
       "\t<tr><td>JCea3866 </td><td>131179616702</td><td>32</td><td>2020-03-31</td><td>140.00</td><td> 44.75</td><td>2016-02-16 04:05:00</td><td>2016-02-19 11:36:00+00:00</td><td> 1552.04</td><td>13</td></tr>\n",
       "\t<tr><td>JCea3866 </td><td>131179616702</td><td>32</td><td>2020-03-31</td><td>140.00</td><td> 44.75</td><td>2016-02-16 04:05:00</td><td>2016-02-19 23:55:00+00:00</td><td> 1559.09</td><td>13</td></tr>\n",
       "\t<tr><td>JCea3866 </td><td>131179616702</td><td>32</td><td>2020-03-31</td><td>140.00</td><td> 44.75</td><td>2016-02-16 04:05:00</td><td>2016-02-20 10:29:00+00:00</td><td> 1520.29</td><td>13</td></tr>\n",
       "\t<tr><td>JCea3866 </td><td>131179616702</td><td>32</td><td>2020-03-31</td><td>140.00</td><td> 44.75</td><td>2016-02-16 04:05:00</td><td>2016-02-21 00:09:00+00:00</td><td> 1530.87</td><td>13</td></tr>\n",
       "\t<tr><td>JCea3866 </td><td>131179616702</td><td>32</td><td>2020-03-31</td><td>140.00</td><td> 44.75</td><td>2016-02-16 04:05:00</td><td>2016-02-21 11:35:00+00:00</td><td> 1534.40</td><td>13</td></tr>\n",
       "\t<tr><td>JCea3866 </td><td>131188622303</td><td>32</td><td>2020-03-31</td><td>140.00</td><td> 44.75</td><td>2016-05-26 10:08:00</td><td>2016-05-26 14:38:00+00:00</td><td> 1781.32</td><td>22</td></tr>\n",
       "\t<tr><td>JCea3866 </td><td>131188622303</td><td>32</td><td>2020-03-31</td><td>140.00</td><td> 44.75</td><td>2016-05-26 10:08:00</td><td>2016-05-27 00:37:00+00:00</td><td> 1876.56</td><td>22</td></tr>\n",
       "\t<tr><td>JCea3866 </td><td>131188622303</td><td>32</td><td>2020-03-31</td><td>140.00</td><td> 44.75</td><td>2016-05-26 10:08:00</td><td>2016-05-27 11:49:00+00:00</td><td> 1883.61</td><td>22</td></tr>\n",
       "\t<tr><td>JCea3866 </td><td>131188622303</td><td>32</td><td>2020-03-31</td><td>140.00</td><td> 44.75</td><td>2016-05-26 10:08:00</td><td>2016-05-27 23:15:00+00:00</td><td> 1900.80</td><td>22</td></tr>\n",
       "\t<tr><td>JCea3866 </td><td>131188622303</td><td>32</td><td>2020-03-31</td><td>140.00</td><td> 44.75</td><td>2016-05-26 10:08:00</td><td>2016-05-28 10:20:00+00:00</td><td> 1820.12</td><td>22</td></tr>\n",
       "\t<tr><td>JCea3866 </td><td>131188622303</td><td>32</td><td>2020-03-31</td><td>140.00</td><td> 44.75</td><td>2016-05-26 10:08:00</td><td>2016-05-28 23:32:00+00:00</td><td> 1827.20</td><td>22</td></tr>\n",
       "\t<tr><td>JCea3866 </td><td>131188622303</td><td>32</td><td>2020-03-31</td><td>140.00</td><td> 44.75</td><td>2016-05-26 10:08:00</td><td>2016-05-29 11:37:00+00:00</td><td> 1809.54</td><td>22</td></tr>\n",
       "\t<tr><td>JCea3866 </td><td>131188622303</td><td>32</td><td>2020-03-31</td><td>140.00</td><td> 44.75</td><td>2016-05-26 10:08:00</td><td>2016-05-29 22:18:00+00:00</td><td> 1843.20</td><td>22</td></tr>\n",
       "\t<tr><td>JCea3866 </td><td>131188622303</td><td>32</td><td>2020-03-31</td><td>140.00</td><td> 44.75</td><td>2016-05-26 10:08:00</td><td>2016-05-30 11:35:00+00:00</td><td> 1851.86</td><td>22</td></tr>\n",
       "\t<tr><td>JCea3866 </td><td>131188622303</td><td>32</td><td>2020-03-31</td><td>140.00</td><td> 44.75</td><td>2016-05-26 10:08:00</td><td>2016-05-30 22:51:00+00:00</td><td> 1798.95</td><td>22</td></tr>\n",
       "\t<tr><td>JCea3866 </td><td>131188622303</td><td>32</td><td>2020-03-31</td><td>140.00</td><td> 44.75</td><td>2016-05-26 10:08:00</td><td>2016-05-31 11:48:00+00:00</td><td> 1788.37</td><td>22</td></tr>\n",
       "\t<tr><td>JCea3866 </td><td>131188622303</td><td>32</td><td>2020-03-31</td><td>140.00</td><td> 44.75</td><td>2016-05-26 10:08:00</td><td>2016-05-31 22:35:00+00:00</td><td> 1803.20</td><td>22</td></tr>\n",
       "\t<tr><td>JCea3866 </td><td>131188622303</td><td>32</td><td>2020-03-31</td><td>140.00</td><td> 44.75</td><td>2016-05-26 10:08:00</td><td>2016-06-01 10:25:00+00:00</td><td> 1809.54</td><td>22</td></tr>\n",
       "\t<tr><td>JCea3866 </td><td>131188622303</td><td>32</td><td>2020-03-31</td><td>140.00</td><td> 44.75</td><td>2016-05-26 10:08:00</td><td>2016-06-02 02:14:00+00:00</td><td> 1862.45</td><td>22</td></tr>\n",
       "\t<tr><td>JCea3866 </td><td>131188622303</td><td>32</td><td>2020-03-31</td><td>140.00</td><td> 44.75</td><td>2016-05-26 10:08:00</td><td>2016-06-02 11:40:00+00:00</td><td> 1830.70</td><td>22</td></tr>\n",
       "\t<tr><td>JCea3866 </td><td>131188622303</td><td>32</td><td>2020-03-31</td><td>140.00</td><td> 44.75</td><td>2016-05-26 10:08:00</td><td>2016-06-02 23:02:00+00:00</td><td> 1868.80</td><td>22</td></tr>\n",
       "\t<tr><td>JCea3866 </td><td>131188622303</td><td>32</td><td>2020-03-31</td><td>140.00</td><td> 44.75</td><td>2016-05-26 10:08:00</td><td>2016-06-03 10:31:00+00:00</td><td> 1869.50</td><td>22</td></tr>\n",
       "\t<tr><td>JCea3866 </td><td>131188622303</td><td>32</td><td>2020-03-31</td><td>140.00</td><td> 44.75</td><td>2016-05-26 10:08:00</td><td>2016-06-04 11:51:00+00:00</td><td> 1869.50</td><td>22</td></tr>\n",
       "\t<tr><td>JCea3866 </td><td>131188622303</td><td>32</td><td>2020-03-31</td><td>140.00</td><td> 44.75</td><td>2016-05-26 10:08:00</td><td>2016-06-04 23:22:00+00:00</td><td> 1876.56</td><td>22</td></tr>\n",
       "\t<tr><td>JCea3866 </td><td>131188622303</td><td>32</td><td>2020-03-31</td><td>140.00</td><td> 44.75</td><td>2016-05-26 10:08:00</td><td>2016-06-05 12:10:00+00:00</td><td> 1809.54</td><td>22</td></tr>\n",
       "\t<tr><td>JCea3866 </td><td>131188622303</td><td>32</td><td>2020-03-31</td><td>140.00</td><td> 44.75</td><td>2016-05-26 10:08:00</td><td>2016-06-05 22:59:00+00:00</td><td> 1848.34</td><td>22</td></tr>\n",
       "\t<tr><td>JCea3866 </td><td>131188622303</td><td>32</td><td>2020-03-31</td><td>140.00</td><td> 44.75</td><td>2016-05-26 10:08:00</td><td>2016-06-06 11:45:00+00:00</td><td> 1795.43</td><td>22</td></tr>\n",
       "\t<tr><td>JCea3866 </td><td>131216538201</td><td>32</td><td>2020-03-31</td><td>140.00</td><td> 44.75</td><td>2017-01-19 12:16:00</td><td>2017-01-19 03:33:00+00:00</td><td>  790.40</td><td> 4</td></tr>\n",
       "\t<tr><td>JCea3866 </td><td>131216538201</td><td>32</td><td>2020-03-31</td><td>140.00</td><td> 44.75</td><td>2017-01-19 12:16:00</td><td>2017-01-19 20:12:00+00:00</td><td> 1760.00</td><td> 4</td></tr>\n",
       "\t<tr><td>JCea3866 </td><td>131216538201</td><td>32</td><td>2020-03-31</td><td>140.00</td><td> 44.75</td><td>2017-01-19 12:16:00</td><td>2017-01-21 12:37:00+00:00</td><td> 1689.61</td><td> 4</td></tr>\n",
       "\t<tr><td>JCea3866 </td><td>131216538201</td><td>32</td><td>2020-03-31</td><td>140.00</td><td> 44.75</td><td>2017-01-19 12:16:00</td><td>2017-01-22 04:53:00+00:00</td><td> 1717.82</td><td> 4</td></tr>\n",
       "\t<tr><td>JCea3866 </td><td>131278900531</td><td>35</td><td>2020-03-31</td><td>140.00</td><td> 44.75</td><td>2019-10-26 07:00:00</td><td>2019-10-26 01:23:00+00:00</td><td> 1590.84</td><td>12</td></tr>\n",
       "\t<tr><td>JCea3866 </td><td>131278900531</td><td>35</td><td>2020-03-31</td><td>140.00</td><td> 44.75</td><td>2019-10-26 07:00:00</td><td>2019-10-26 08:00:00+00:00</td><td> 1552.04</td><td>12</td></tr>\n",
       "\t<tr><td>JCea3866 </td><td>131278900531</td><td>35</td><td>2020-03-31</td><td>140.00</td><td> 44.75</td><td>2019-10-26 07:00:00</td><td>2019-10-26 23:00:00+00:00</td><td> 1597.89</td><td>12</td></tr>\n",
       "\t<tr><td>JCea3866 </td><td>131278900531</td><td>35</td><td>2020-03-31</td><td>140.00</td><td> 44.75</td><td>2019-10-26 07:00:00</td><td>2019-10-27 11:00:00+00:00</td><td> 1583.78</td><td>12</td></tr>\n",
       "\t<tr><td>JCea3866 </td><td>131278900531</td><td>35</td><td>2020-03-31</td><td>140.00</td><td> 44.75</td><td>2019-10-26 07:00:00</td><td>2019-10-27 23:00:00+00:00</td><td> 1573.20</td><td>12</td></tr>\n",
       "\t<tr><td>JCea3866 </td><td>131278900531</td><td>35</td><td>2020-03-31</td><td>140.00</td><td> 44.75</td><td>2019-10-26 07:00:00</td><td>2019-10-28 05:30:00+00:00</td><td> 1566.15</td><td>12</td></tr>\n",
       "\t<tr><td>JCea3866 </td><td>131278900531</td><td>35</td><td>2020-03-31</td><td>140.00</td><td> 44.75</td><td>2019-10-26 07:00:00</td><td>2019-10-28 11:05:00+00:00</td><td> 1603.20</td><td>12</td></tr>\n",
       "\t<tr><td>JCea3866 </td><td>131278900531</td><td>35</td><td>2020-03-31</td><td>140.00</td><td> 44.75</td><td>2019-10-26 07:00:00</td><td>2019-10-28 21:34:00+00:00</td><td> 1587.31</td><td>12</td></tr>\n",
       "\t<tr><td>JCea3866 </td><td>131278900531</td><td>35</td><td>2020-03-31</td><td>140.00</td><td> 44.75</td><td>2019-10-26 07:00:00</td><td>2019-10-28 22:57:00+00:00</td><td> 1632.00</td><td>12</td></tr>\n",
       "\t<tr><td>JCea3866 </td><td>131278900531</td><td>35</td><td>2020-03-31</td><td>140.00</td><td> 44.75</td><td>2019-10-26 07:00:00</td><td>2019-10-29 11:00:00+00:00</td><td> 1654.40</td><td>12</td></tr>\n",
       "\t<tr><td>JCea3866 </td><td>131278900531</td><td>35</td><td>2020-03-31</td><td>140.00</td><td> 44.75</td><td>2019-10-26 07:00:00</td><td>2019-10-29 11:07:00+00:00</td><td> 1597.89</td><td>12</td></tr>\n",
       "\t<tr><td>JCea3866 </td><td>131278900531</td><td>35</td><td>2020-03-31</td><td>140.00</td><td> 44.75</td><td>2019-10-26 07:00:00</td><td>2019-10-29 22:49:00+00:00</td><td> 1615.53</td><td>12</td></tr>\n",
       "</tbody>\n",
       "</table>\n"
      ],
      "text/latex": [
       "A grouped\\_df: 235 × 10\n",
       "\\begin{tabular}{llllllllll}\n",
       " anon\\_id & pat\\_enc\\_csn\\_id\\_coded & age & recent\\_date & recent\\_height\\_cm & recent\\_weight\\_kg & admit\\_time & recorded\\_time & Weight & nWe\\\\\n",
       " <chr> & <dbl> & <int> & <chr> & <dbl> & <dbl> & <chr> & <chr> & <dbl> & <int>\\\\\n",
       "\\hline\n",
       "\t JC2a0784f & 131072025806 & 33 & 2020-03-05 & 167.64 & 232.10 & 2015-01-21 21:24:00 & 2015-01-21 04:27:00+00:00 &  6816.00 &  3\\\\\n",
       "\t JC2a0784f & 131072025806 & 33 & 2020-03-05 & 167.64 & 232.10 & 2015-01-21 21:24:00 & 2015-01-22 22:30:00+00:00 &  7647.32 &  3\\\\\n",
       "\t JC2a0784f & 131072025806 & 33 & 2020-03-05 & 167.64 & 232.10 & 2015-01-21 21:24:00 & 2015-01-23 22:12:00+00:00 &  7562.66 &  3\\\\\n",
       "\t JC2a0784f & 131242882845 & 36 & 2020-03-05 & 167.64 & 232.10 & 2017-12-12 14:17:00 & 2017-12-12 06:37:00+00:00 &  8640.00 &  2\\\\\n",
       "\t JC2a0784f & 131242882845 & 36 & 2020-03-05 & 167.64 & 232.10 & 2017-12-12 14:17:00 & 2017-12-12 11:53:00+00:00 &  7368.66 &  2\\\\\n",
       "\t JCcbb4b8  & 131075411816 & 44 & 2019-01-01 & 165.10 &  57.90 & 2015-02-17 06:42:00 & 2015-02-17 23:09:00+00:00 &  1869.50 &  4\\\\\n",
       "\t JCcbb4b8  & 131075411816 & 44 & 2019-01-01 & 165.10 &  57.90 & 2015-02-17 06:42:00 & 2015-02-18 15:49:00+00:00 &  1862.45 &  4\\\\\n",
       "\t JCcbb4b8  & 131075411816 & 44 & 2019-01-01 & 165.10 &  57.90 & 2015-02-17 06:42:00 & 2015-02-19 16:57:00+00:00 &  1841.28 &  4\\\\\n",
       "\t JCcbb4b8  & 131075411816 & 44 & 2019-01-01 & 165.10 &  57.90 & 2015-02-17 06:42:00 & 2015-02-20 16:45:00+00:00 &  1798.95 &  4\\\\\n",
       "\t JCcbb4b8  & 131196826960 & 45 & 2019-01-01 & 165.10 &  57.90 & 2016-08-12 00:50:00 & 2016-08-12 02:30:00+00:00 &  1802.48 &  3\\\\\n",
       "\t JCcbb4b8  & 131196826960 & 45 & 2019-01-01 & 165.10 &  57.90 & 2016-08-12 00:50:00 & 2016-08-12 15:36:00+00:00 &  1802.48 &  3\\\\\n",
       "\t JCcbb4b8  & 131196826960 & 45 & 2019-01-01 & 165.10 &  57.90 & 2016-08-12 00:50:00 & 2016-08-12 15:55:00+00:00 &  1784.84 &  3\\\\\n",
       "\t JCcbb4b8  & 131216914159 & 46 & 2019-01-01 & 165.10 &  57.90 & 2017-01-17 00:30:00 & 2017-01-17 04:00:00+00:00 &   840.00 & 11\\\\\n",
       "\t JCcbb4b8  & 131216914159 & 46 & 2019-01-01 & 165.10 &  57.90 & 2017-01-17 00:30:00 & 2017-01-17 16:01:00+00:00 &  1806.01 & 11\\\\\n",
       "\t JCcbb4b8  & 131216914159 & 46 & 2019-01-01 & 165.10 &  57.90 & 2017-01-17 00:30:00 & 2017-01-18 15:01:00+00:00 &  1876.56 & 11\\\\\n",
       "\t JCcbb4b8  & 131216914159 & 46 & 2019-01-01 & 165.10 &  57.90 & 2017-01-17 00:30:00 & 2017-01-18 16:30:00+00:00 &  1869.50 & 11\\\\\n",
       "\t JCcbb4b8  & 131216914159 & 46 & 2019-01-01 & 165.10 &  57.90 & 2017-01-17 00:30:00 & 2017-01-19 17:20:00+00:00 &  1813.06 & 11\\\\\n",
       "\t JCcbb4b8  & 131216914159 & 46 & 2019-01-01 & 165.10 &  57.90 & 2017-01-17 00:30:00 & 2017-01-20 16:14:00+00:00 &  1763.68 & 11\\\\\n",
       "\t JCcbb4b8  & 131216914159 & 46 & 2019-01-01 & 165.10 &  57.90 & 2017-01-17 00:30:00 & 2017-01-21 17:58:00+00:00 &  1795.43 & 11\\\\\n",
       "\t JCcbb4b8  & 131216914159 & 46 & 2019-01-01 & 165.10 &  57.90 & 2017-01-17 00:30:00 & 2017-01-21 22:25:00+00:00 &  1788.37 & 11\\\\\n",
       "\t JCcbb4b8  & 131216914159 & 46 & 2019-01-01 & 165.10 &  57.90 & 2017-01-17 00:30:00 & 2017-01-22 14:10:00+00:00 &  1742.52 & 11\\\\\n",
       "\t JCcbb4b8  & 131216914159 & 46 & 2019-01-01 & 165.10 &  57.90 & 2017-01-17 00:30:00 & 2017-01-23 12:57:00+00:00 &  1746.04 & 11\\\\\n",
       "\t JCcbb4b8  & 131216914159 & 46 & 2019-01-01 & 165.10 &  57.90 & 2017-01-17 00:30:00 & 2017-01-24 13:52:00+00:00 &  1735.46 & 11\\\\\n",
       "\t JCcbfbc8  & 131243660291 & 76 & 2019-01-01 & 156.50 &  55.60 & 2018-01-06 02:32:00 & 2018-01-06 04:20:00+00:00 &  2183.44 &  3\\\\\n",
       "\t JCcbfbc8  & 131243660291 & 76 & 2019-01-01 & 156.50 &  55.60 & 2018-01-06 02:32:00 & 2018-01-06 13:00:00+00:00 &  2183.44 &  3\\\\\n",
       "\t JCcbfbc8  & 131243660291 & 76 & 2019-01-01 & 156.50 &  55.60 & 2018-01-06 02:32:00 & 2018-01-06 17:00:00+00:00 &  2186.96 &  3\\\\\n",
       "\t JCcbfbc8  & 131256866342 & 77 & 2019-01-01 & 156.50 &  55.60 & 2018-09-03 20:20:00 & 2018-09-06 06:00:00+00:00 &   789.42 &  8\\\\\n",
       "\t JCcbfbc8  & 131256866342 & 77 & 2019-01-01 & 156.50 &  55.60 & 2018-09-03 20:20:00 & 2018-09-06 21:15:00+00:00 &  2072.00 &  8\\\\\n",
       "\t JCcbfbc8  & 131256866342 & 77 & 2019-01-01 & 156.50 &  55.60 & 2018-09-03 20:20:00 & 2018-09-08 21:09:00+00:00 &  2179.20 &  8\\\\\n",
       "\t JCcbfbc8  & 131256866342 & 77 & 2019-01-01 & 156.50 &  55.60 & 2018-09-03 20:20:00 & 2018-09-09 10:32:00+00:00 &  2211.65 &  8\\\\\n",
       "\t JCcbfbc8  & 131256866342 & 77 & 2019-01-01 & 156.50 &  55.60 & 2018-09-03 20:20:00 & 2018-09-10 13:27:00+00:00 &  2250.46 &  8\\\\\n",
       "\t JCcbfbc8  & 131256866342 & 77 & 2019-01-01 & 156.50 &  55.60 & 2018-09-03 20:20:00 & 2018-09-11 11:24:00+00:00 &  2271.62 &  8\\\\\n",
       "\t JCcbfbc8  & 131256866342 & 77 & 2019-01-01 & 156.50 &  55.60 & 2018-09-03 20:20:00 & 2018-09-11 21:02:00+00:00 &  2335.11 &  8\\\\\n",
       "\t JCcbfbc8  & 131256866342 & 77 & 2019-01-01 & 156.50 &  55.60 & 2018-09-03 20:20:00 & 2018-09-13 11:29:00+00:00 &  2345.69 &  8\\\\\n",
       "\t JCd0500f  & 131186131047 & 66 & 2020-03-31 & 165.10 & 123.20 & 2016-05-22 07:10:00 & 2016-05-22 07:43:00+00:00 &   987.66 &  1\\\\\n",
       "\t JCd0500f  & 131277983176 & 69 & 2020-03-31 & 165.10 & 123.20 & 2019-11-01 06:18:00 & 2019-11-01 01:53:00+00:00 &  4190.50 &  1\\\\\n",
       "\t JCd262e1  & 131081523555 & 63 & 2020-02-24 & 152.40 & 122.70 & 2015-03-09 11:02:00 & 2015-03-09 07:52:00+00:00 &  4800.00 &  5\\\\\n",
       "\t JCd262e1  & 131081523555 & 63 & 2020-02-24 & 152.40 & 122.70 & 2015-03-09 11:02:00 & 2015-03-09 11:18:00+00:00 & 11587.38 &  5\\\\\n",
       "\t JCd262e1  & 131081523555 & 63 & 2020-02-24 & 152.40 & 122.70 & 2015-03-09 11:02:00 & 2015-03-10 23:41:00+00:00 &  5231.07 &  5\\\\\n",
       "\t JCd262e1  & 131081523555 & 63 & 2020-02-24 & 152.40 & 122.70 & 2015-03-09 11:02:00 & 2015-03-11 14:52:00+00:00 &  5301.62 &  5\\\\\n",
       "\t JCd262e1  & 131081523555 & 63 & 2020-02-24 & 152.40 & 122.70 & 2015-03-09 11:02:00 & 2015-03-14 12:52:00+00:00 &  5280.46 &  5\\\\\n",
       "\t JCd262e1  & 131200325194 & 64 & 2020-02-24 & 152.40 & 122.70 & 2016-09-06 10:10:00 & 2016-09-07 16:25:00+00:00 &  4832.48 &  3\\\\\n",
       "\t JCd262e1  & 131200325194 & 64 & 2020-02-24 & 152.40 & 122.70 & 2016-09-06 10:10:00 & 2016-09-09 19:31:00+00:00 &  5072.34 &  3\\\\\n",
       "\t JCd262e1  & 131200325194 & 64 & 2020-02-24 & 152.40 & 122.70 & 2016-09-06 10:10:00 & 2016-09-10 16:44:00+00:00 &  5086.45 &  3\\\\\n",
       "\t JCd262e1  & 131245262535 & 66 & 2020-02-24 & 152.40 & 122.70 & 2018-01-18 18:05:00 & 2018-01-18 15:28:00+00:00 &  4800.00 &  4\\\\\n",
       "\t JCd262e1  & 131245262535 & 66 & 2020-02-24 & 152.40 & 122.70 & 2018-01-18 18:05:00 & 2018-01-18 23:43:00+00:00 &  4800.74 &  4\\\\\n",
       "\t JCd262e1  & 131245262535 & 66 & 2020-02-24 & 152.40 & 122.70 & 2018-01-18 18:05:00 & 2018-01-20 19:00:00+00:00 &  4776.05 &  4\\\\\n",
       "\t JCd262e1  & 131245262535 & 66 & 2020-02-24 & 152.40 & 122.70 & 2018-01-18 18:05:00 & 2018-01-21 17:13:00+00:00 &  4363.34 &  4\\\\\n",
       "\t JCd262e1  & 131274595388 & 67 & 2020-02-24 & 152.40 & 122.70 & 2019-07-29 18:08:00 & 2019-07-29 16:00:00+00:00 &  4811.32 &  3\\\\\n",
       "\t JCd262e1  & 131274595388 & 67 & 2020-02-24 & 152.40 & 122.70 & 2019-07-29 18:08:00 & 2019-07-30 03:38:00+00:00 &  4828.96 &  3\\\\\n",
       "\t JCd262e1  & 131274595388 & 67 & 2020-02-24 & 152.40 & 122.70 & 2019-07-29 18:08:00 & 2019-08-02 13:00:00+00:00 &  4740.77 &  3\\\\\n",
       "\t JCd262e1  & 131280049641 & 67 & 2020-02-24 & 152.40 & 122.70 & 2019-11-10 23:05:00 & 2019-11-10 19:41:00+00:00 &  4338.65 &  1\\\\\n",
       "\t JCd262e1  & 131281388100 & 68 & 2020-02-24 & 152.40 & 122.70 & 2019-12-11 17:13:00 & 2019-12-11 14:37:00+00:00 &  4328.07 &  1\\\\\n",
       "\t JCd84277  & 131090908463 & 21 & 2019-11-24 & 160.02 &  43.00 & 2015-05-22 07:01:00 & 2015-05-22 15:21:00+00:00 &   871.26 &  5\\\\\n",
       "\t JCd84277  & 131090908463 & 21 & 2019-11-24 & 160.02 &  43.00 & 2015-05-22 07:01:00 & 2015-05-23 16:00:00+00:00 &  1509.71 &  5\\\\\n",
       "\t JCd84277  & 131090908463 & 21 & 2019-11-24 & 160.02 &  43.00 & 2015-05-22 07:01:00 & 2015-05-26 15:25:00+00:00 &  1481.49 &  5\\\\\n",
       "\t JCd84277  & 131090908463 & 21 & 2019-11-24 & 160.02 &  43.00 & 2015-05-22 07:01:00 & 2015-05-28 15:00:00+00:00 &  1481.49 &  5\\\\\n",
       "\t JCd84277  & 131090908463 & 21 & 2019-11-24 & 160.02 &  43.00 & 2015-05-22 07:01:00 & 2015-05-30 14:36:00+00:00 &  1470.91 &  5\\\\\n",
       "\t JCd99e71  & 131214625562 & 49 & 2019-11-16 & 193.00 & 220.80 & 2017-01-25 05:52:00 & 2017-01-25 08:06:00+00:00 &  7816.63 &  2\\\\\n",
       "\t JCd99e71  & 131214625562 & 49 & 2019-11-16 & 193.00 & 220.80 & 2017-01-25 05:52:00 & 2017-01-26 16:11:00+00:00 &  8056.49 &  2\\\\\n",
       "\t JCdab6fa  & 131255981015 & 80 & 2019-01-13 & 149.90 &  57.38 & 2018-09-11 03:14:00 & 2018-09-11 05:00:00+00:00 &  2045.87 &  4\\\\\n",
       "\t JCdab6fa  & 131255981015 & 80 & 2019-01-13 & 149.90 &  57.38 & 2018-09-11 03:14:00 & 2018-09-16 04:00:00+00:00 &   910.41 &  4\\\\\n",
       "\t JCdab6fa  & 131255981015 & 80 & 2019-01-13 & 149.90 &  57.38 & 2018-09-11 03:14:00 & 2018-09-17 11:58:00+00:00 &  2096.00 &  4\\\\\n",
       "\t JCdab6fa  & 131255981015 & 80 & 2019-01-13 & 149.90 &  57.38 & 2018-09-11 03:14:00 & 2018-09-20 12:00:00+00:00 &  2024.00 &  4\\\\\n",
       "\t JCdba730  & 131262687726 & 34 & 2020-03-31 & 157.48 &  31.20 & 2019-01-17 03:10:00 & 2019-01-17 00:57:00+00:00 &  1375.67 &  6\\\\\n",
       "\t JCdba730  & 131262687726 & 34 & 2020-03-31 & 157.48 &  31.20 & 2019-01-17 03:10:00 & 2019-01-20 01:00:00+00:00 &  1375.67 &  6\\\\\n",
       "\t JCdba730  & 131262687726 & 34 & 2020-03-31 & 157.48 &  31.20 & 2019-01-17 03:10:00 & 2019-01-21 22:31:00+00:00 &  1375.67 &  6\\\\\n",
       "\t JCdba730  & 131262687726 & 34 & 2020-03-31 & 157.48 &  31.20 & 2019-01-17 03:10:00 & 2019-01-23 01:15:00+00:00 &  1389.78 &  6\\\\\n",
       "\t JCdba730  & 131262687726 & 34 & 2020-03-31 & 157.48 &  31.20 & 2019-01-17 03:10:00 & 2019-01-27 16:30:00+00:00 &  1421.53 &  6\\\\\n",
       "\t JCdba730  & 131262687726 & 34 & 2020-03-31 & 157.48 &  31.20 & 2019-01-17 03:10:00 & 2019-01-28 16:19:00+00:00 &  1421.53 &  6\\\\\n",
       "\t JCdba730  & 131279798635 & 35 & 2020-03-31 & 157.48 &  31.20 & 2019-11-22 05:03:00 & 2019-11-22 07:31:00+00:00 &  1167.56 & 17\\\\\n",
       "\t JCdba730  & 131279798635 & 35 & 2020-03-31 & 157.48 &  31.20 & 2019-11-22 05:03:00 & 2019-11-25 00:20:00+00:00 &  1178.14 & 17\\\\\n",
       "\t JCdba730  & 131279798635 & 35 & 2020-03-31 & 157.48 &  31.20 & 2019-11-22 05:03:00 & 2019-11-25 10:03:00+00:00 &  1178.14 & 17\\\\\n",
       "\t JCdba730  & 131279798635 & 35 & 2020-03-31 & 157.48 &  31.20 & 2019-11-22 05:03:00 & 2019-11-27 14:01:00+00:00 &  1178.14 & 17\\\\\n",
       "\t JCdba730  & 131279798635 & 35 & 2020-03-31 & 157.48 &  31.20 & 2019-11-22 05:03:00 & 2019-11-28 12:46:00+00:00 &  1178.14 & 17\\\\\n",
       "\t JCdba730  & 131279798635 & 35 & 2020-03-31 & 157.48 &  31.20 & 2019-11-22 05:03:00 & 2019-12-01 09:20:00+00:00 &  1178.14 & 17\\\\\n",
       "\t JCdba730  & 131279798635 & 35 & 2020-03-31 & 157.48 &  31.20 & 2019-11-22 05:03:00 & 2019-12-04 20:18:00+00:00 &  1389.78 & 17\\\\\n",
       "\t JCdba730  & 131279798635 & 35 & 2020-03-31 & 157.48 &  31.20 & 2019-11-22 05:03:00 & 2019-12-08 14:03:00+00:00 &  1414.47 & 17\\\\\n",
       "\t JCdba730  & 131279798635 & 35 & 2020-03-31 & 157.48 &  31.20 & 2019-11-22 05:03:00 & 2019-12-11 18:59:00+00:00 &  1414.47 & 17\\\\\n",
       "\t JCdba730  & 131279798635 & 35 & 2020-03-31 & 157.48 &  31.20 & 2019-11-22 05:03:00 & 2019-12-11 19:00:00+00:00 &  1142.86 & 17\\\\\n",
       "\t JCdba730  & 131279798635 & 35 & 2020-03-31 & 157.48 &  31.20 & 2019-11-22 05:03:00 & 2019-12-12 18:46:00+00:00 &  1100.54 & 17\\\\\n",
       "\t JCdba730  & 131279798635 & 35 & 2020-03-31 & 157.48 &  31.20 & 2019-11-22 05:03:00 & 2019-12-13 18:46:00+00:00 &  1040.57 & 17\\\\\n",
       "\t JCdba730  & 131279798635 & 35 & 2020-03-31 & 157.48 &  31.20 & 2019-11-22 05:03:00 & 2019-12-14 20:54:00+00:00 &  1005.30 & 17\\\\\n",
       "\t JCdba730  & 131279798635 & 35 & 2020-03-31 & 157.48 &  31.20 & 2019-11-22 05:03:00 & 2019-12-18 01:23:00+00:00 &   971.52 & 17\\\\\n",
       "\t JCdba730  & 131279798635 & 35 & 2020-03-31 & 157.48 &  31.20 & 2019-11-22 05:03:00 & 2019-12-22 14:20:00+00:00 &  1037.04 & 17\\\\\n",
       "\t JCdba730  & 131279798635 & 35 & 2020-03-31 & 157.48 &  31.20 & 2019-11-22 05:03:00 & 2019-12-23 23:00:00+00:00 &  1040.57 & 17\\\\\n",
       "\t JCdba730  & 131279798635 & 35 & 2020-03-31 & 157.48 &  31.20 & 2019-11-22 05:03:00 & 2019-12-25 20:30:00+00:00 &  1093.48 & 17\\\\\n",
       "\t JCe01e50  & 131188059708 & 86 & 2020-03-31 & 177.80 &  97.98 & 2016-05-25 02:49:00 & 2016-05-25 06:45:00+00:00 &  8324.57 &  2\\\\\n",
       "\t JCe01e50  & 131188059708 & 86 & 2020-03-31 & 177.80 &  97.98 & 2016-05-25 02:49:00 & 2016-05-25 15:15:00+00:00 &  3739.00 &  2\\\\\n",
       "\t JCe01e50  & 131241586651 & 88 & 2020-03-31 & 177.80 &  97.98 & 2017-11-07 08:30:00 & 2017-11-07 10:20:00+00:00 &  4028.80 &  1\\\\\n",
       "\t JCe01e50  & 131267200353 & 89 & 2020-03-31 & 177.80 &  97.98 & 2019-04-18 05:00:00 & 2019-04-18 06:55:00+00:00 &  3703.73 &  1\\\\\n",
       "\t JCe01e50  & 131269279849 & 89 & 2020-03-31 & 177.80 &  97.98 & 2019-05-29 04:47:00 & 2019-05-29 22:20:00+00:00 &  3830.71 &  3\\\\\n",
       "\t JCe01e50  & 131269279849 & 89 & 2020-03-31 & 177.80 &  97.98 & 2019-05-29 04:47:00 & 2019-05-30 14:35:00+00:00 &  3668.45 &  3\\\\\n",
       "\t JCe01e50  & 131269279849 & 89 & 2020-03-31 & 177.80 &  97.98 & 2019-05-29 04:47:00 & 2019-05-31 12:00:00+00:00 &  3661.40 &  3\\\\\n",
       "\t JCe01e50  & 131278402456 & 90 & 2020-03-31 & 177.80 &  97.98 & 2019-10-19 20:44:00 & 2019-10-19 17:00:00+00:00 &  3680.00 &  4\\\\\n",
       "\t JCe01e50  & 131278402456 & 90 & 2020-03-31 & 177.80 &  97.98 & 2019-10-19 20:44:00 & 2019-10-20 06:49:00+00:00 &  3661.40 &  4\\\\\n",
       "\t JCe01e50  & 131278402456 & 90 & 2020-03-31 & 177.80 &  97.98 & 2019-10-19 20:44:00 & 2019-10-20 13:27:00+00:00 &  3661.40 &  4\\\\\n",
       "\t JCe01e50  & 131278402456 & 90 & 2020-03-31 & 177.80 &  97.98 & 2019-10-19 20:44:00 & 2019-10-23 23:25:00+00:00 &  3392.00 &  4\\\\\n",
       "\t JCe01e50  & 131281393511 & 90 & 2020-03-31 & 177.80 &  97.98 & 2019-12-24 03:51:00 & 2019-12-24 06:58:00+00:00 &  3760.17 &  2\\\\\n",
       "\t JCe01e50  & 131281393511 & 90 & 2020-03-31 & 177.80 &  97.98 & 2019-12-24 03:51:00 & 2019-12-25 16:07:00+00:00 &  3661.40 &  2\\\\\n",
       "\t JCe48b36  & 131249121514 & 68 & 2019-12-19 & 190.50 & 117.75 & 2018-04-14 00:25:00 & 2018-04-14 01:17:00+00:00 &  6313.97 & 12\\\\\n",
       "\t JCe48b36  & 131249121514 & 68 & 2019-12-19 & 190.50 & 117.75 & 2018-04-14 00:25:00 & 2018-04-14 10:32:00+00:00 &  6155.24 & 12\\\\\n",
       "\t JCe48b36  & 131249121514 & 68 & 2019-12-19 & 190.50 & 117.75 & 2018-04-14 00:25:00 & 2018-04-15 13:30:00+00:00 &  6176.41 & 12\\\\\n",
       "\t JCe48b36  & 131249121514 & 68 & 2019-12-19 & 190.50 & 117.75 & 2018-04-14 00:25:00 & 2018-04-16 12:40:00+00:00 &  6021.20 & 12\\\\\n",
       "\t JCe48b36  & 131249121514 & 68 & 2019-12-19 & 190.50 & 117.75 & 2018-04-14 00:25:00 & 2018-04-16 15:01:00+00:00 &  6137.61 & 12\\\\\n",
       "\t JCe48b36  & 131249121514 & 68 & 2019-12-19 & 190.50 & 117.75 & 2018-04-14 00:25:00 & 2018-04-16 17:30:00+00:00 &  6060.00 & 12\\\\\n",
       "\t JCe48b36  & 131249121514 & 68 & 2019-12-19 & 190.50 & 117.75 & 2018-04-14 00:25:00 & 2018-04-17 13:00:00+00:00 &  7152.00 & 12\\\\\n",
       "\t JCe48b36  & 131249121514 & 68 & 2019-12-19 & 190.50 & 117.75 & 2018-04-14 00:25:00 & 2018-04-18 13:00:00+00:00 &  7056.00 & 12\\\\\n",
       "\t JCe48b36  & 131249121514 & 68 & 2019-12-19 & 190.50 & 117.75 & 2018-04-14 00:25:00 & 2018-04-19 13:30:00+00:00 &  6976.00 & 12\\\\\n",
       "\t JCe48b36  & 131249121514 & 68 & 2019-12-19 & 190.50 & 117.75 & 2018-04-14 00:25:00 & 2018-04-20 14:00:00+00:00 &  6208.00 & 12\\\\\n",
       "\t JCe48b36  & 131249121514 & 68 & 2019-12-19 & 190.50 & 117.75 & 2018-04-14 00:25:00 & 2018-04-30 12:30:00+00:00 &  3597.91 & 12\\\\\n",
       "\t JCe48b36  & 131249121514 & 68 & 2019-12-19 & 190.50 & 117.75 & 2018-04-14 00:25:00 & 2018-05-01 10:27:00+00:00 &  3597.91 & 12\\\\\n",
       "\t JCe48b36  & 131255596987 & 68 & 2019-12-19 & 190.50 & 117.75 & 2018-08-31 02:54:00 & 2018-08-31 00:46:00+00:00 &  9920.00 & 10\\\\\n",
       "\t JCe48b36  & 131255596987 & 68 & 2019-12-19 & 190.50 & 117.75 & 2018-08-31 02:54:00 & 2018-08-31 01:22:00+00:00 &  4928.00 & 10\\\\\n",
       "\t JCe48b36  & 131255596987 & 68 & 2019-12-19 & 190.50 & 117.75 & 2018-08-31 02:54:00 & 2018-08-31 06:14:00+00:00 &  5509.74 & 10\\\\\n",
       "\t JCe48b36  & 131255596987 & 68 & 2019-12-19 & 190.50 & 117.75 & 2018-08-31 02:54:00 & 2018-08-31 12:02:00+00:00 &  5477.99 & 10\\\\\n",
       "\t JCe48b36  & 131255596987 & 68 & 2019-12-19 & 190.50 & 117.75 & 2018-08-31 02:54:00 & 2018-09-06 11:00:00+00:00 &  4458.58 & 10\\\\\n",
       "\t JCe48b36  & 131255596987 & 68 & 2019-12-19 & 190.50 & 117.75 & 2018-08-31 02:54:00 & 2018-09-07 11:00:00+00:00 &  4380.98 & 10\\\\\n",
       "\t JCe48b36  & 131255596987 & 68 & 2019-12-19 & 190.50 & 117.75 & 2018-08-31 02:54:00 & 2018-09-08 10:30:00+00:00 &  4331.60 & 10\\\\\n",
       "\t JCe48b36  & 131255596987 & 68 & 2019-12-19 & 190.50 & 117.75 & 2018-08-31 02:54:00 & 2018-09-12 11:00:00+00:00 &  4380.98 & 10\\\\\n",
       "\t JCe48b36  & 131255596987 & 68 & 2019-12-19 & 190.50 & 117.75 & 2018-08-31 02:54:00 & 2018-09-14 11:00:00+00:00 &  4310.43 & 10\\\\\n",
       "\t JCe48b36  & 131255596987 & 68 & 2019-12-19 & 190.50 & 117.75 & 2018-08-31 02:54:00 & 2018-09-17 13:00:00+00:00 &  4409.20 & 10\\\\\n",
       "\t JCe48b36  & 131264610606 & 69 & 2019-12-19 & 190.50 & 117.75 & 2019-03-24 17:29:00 & 2019-03-24 19:40:00+00:00 &  4091.74 &  1\\\\\n",
       "\t JCe61cfe  & 131281143011 & 30 & 2020-03-13 & 167.60 & 188.00 & 2020-01-09 13:56:00 & 2020-01-09 12:23:00+00:00 &  8077.65 & 29\\\\\n",
       "\t JCe61cfe  & 131281143011 & 30 & 2020-03-13 & 167.60 & 188.00 & 2020-01-09 13:56:00 & 2020-01-09 23:00:00+00:00 &  7901.29 & 29\\\\\n",
       "\t JCe61cfe  & 131281143011 & 30 & 2020-03-13 & 167.60 & 188.00 & 2020-01-09 13:56:00 & 2020-01-10 18:01:00+00:00 &  7664.95 & 29\\\\\n",
       "\t JCe61cfe  & 131281143011 & 30 & 2020-03-13 & 167.60 & 188.00 & 2020-01-09 13:56:00 & 2020-01-15 14:00:00+00:00 &  7731.97 & 29\\\\\n",
       "\t JCe61cfe  & 131281143011 & 30 & 2020-03-13 & 167.60 & 188.00 & 2020-01-09 13:56:00 & 2020-01-28 13:00:00+00:00 &  6440.96 & 29\\\\\n",
       "\t JCe61cfe  & 131281143011 & 30 & 2020-03-13 & 167.60 & 188.00 & 2020-01-09 13:56:00 & 2020-01-29 14:00:00+00:00 &  6507.98 & 29\\\\\n",
       "\t JCe61cfe  & 131281143011 & 30 & 2020-03-13 & 167.60 & 188.00 & 2020-01-09 13:56:00 & 2020-01-30 13:00:00+00:00 &  6440.96 & 29\\\\\n",
       "\t JCe61cfe  & 131281143011 & 30 & 2020-03-13 & 167.60 & 188.00 & 2020-01-09 13:56:00 & 2020-01-31 13:45:00+00:00 &  6440.96 & 29\\\\\n",
       "\t JCe61cfe  & 131281143011 & 30 & 2020-03-13 & 167.60 & 188.00 & 2020-01-09 13:56:00 & 2020-02-01 12:50:00+00:00 &  6582.05 & 29\\\\\n",
       "\t JCe61cfe  & 131281143011 & 30 & 2020-03-13 & 167.60 & 188.00 & 2020-01-09 13:56:00 & 2020-02-02 13:12:00+00:00 &  6433.90 & 29\\\\\n",
       "\t JCe61cfe  & 131281143011 & 30 & 2020-03-13 & 167.60 & 188.00 & 2020-01-09 13:56:00 & 2020-02-03 13:44:00+00:00 &  6518.56 & 29\\\\\n",
       "\t JCe61cfe  & 131281143011 & 30 & 2020-03-13 & 167.60 & 188.00 & 2020-01-09 13:56:00 & 2020-02-04 17:00:00+00:00 &  6518.56 & 29\\\\\n",
       "\t JCe61cfe  & 131281143011 & 30 & 2020-03-13 & 167.60 & 188.00 & 2020-01-09 13:56:00 & 2020-02-04 21:00:00+00:00 &  6518.56 & 29\\\\\n",
       "\t JCe61cfe  & 131281143011 & 30 & 2020-03-13 & 167.60 & 188.00 & 2020-01-09 13:56:00 & 2020-02-05 13:46:00+00:00 &  6525.62 & 29\\\\\n",
       "\t JCe61cfe  & 131281143011 & 30 & 2020-03-13 & 167.60 & 188.00 & 2020-01-09 13:56:00 & 2020-02-05 15:57:00+00:00 &  6388.05 & 29\\\\\n",
       "\t JCe61cfe  & 131281143011 & 30 & 2020-03-13 & 167.60 & 188.00 & 2020-01-09 13:56:00 & 2020-02-06 09:15:00+00:00 &  6317.50 & 29\\\\\n",
       "\t JCe61cfe  & 131281143011 & 30 & 2020-03-13 & 167.60 & 188.00 & 2020-01-09 13:56:00 & 2020-02-10 11:02:00+00:00 &  6264.59 & 29\\\\\n",
       "\t JCe61cfe  & 131281143011 & 30 & 2020-03-13 & 167.60 & 188.00 & 2020-01-09 13:56:00 & 2020-02-11 18:35:00+00:00 &  6490.34 & 29\\\\\n",
       "\t JCe61cfe  & 131281143011 & 30 & 2020-03-13 & 167.60 & 188.00 & 2020-01-09 13:56:00 & 2020-02-12 16:00:00+00:00 &  6627.91 & 29\\\\\n",
       "\t JCe61cfe  & 131281143011 & 30 & 2020-03-13 & 167.60 & 188.00 & 2020-01-09 13:56:00 & 2020-02-13 13:20:00+00:00 &  6257.54 & 29\\\\\n",
       "\t JCe61cfe  & 131281143011 & 30 & 2020-03-13 & 167.60 & 188.00 & 2020-01-09 13:56:00 & 2020-02-17 19:35:00+00:00 &  6352.78 & 29\\\\\n",
       "\t JCe61cfe  & 131281143011 & 30 & 2020-03-13 & 167.60 & 188.00 & 2020-01-09 13:56:00 & 2020-02-19 14:51:00+00:00 &  7280.00 & 29\\\\\n",
       "\t JCe61cfe  & 131281143011 & 30 & 2020-03-13 & 167.60 & 188.00 & 2020-01-09 13:56:00 & 2020-02-20 11:57:00+00:00 &  7024.00 & 29\\\\\n",
       "\t JCe61cfe  & 131281143011 & 30 & 2020-03-13 & 167.60 & 188.00 & 2020-01-09 13:56:00 & 2020-02-22 21:55:00+00:00 &  6395.10 & 29\\\\\n",
       "\t JCe61cfe  & 131281143011 & 30 & 2020-03-13 & 167.60 & 188.00 & 2020-01-09 13:56:00 & 2020-02-25 20:05:00+00:00 &  6427.20 & 29\\\\\n",
       "\t JCe61cfe  & 131281143011 & 30 & 2020-03-13 & 167.60 & 188.00 & 2020-01-09 13:56:00 & 2020-02-28 02:46:00+00:00 &  6486.40 & 29\\\\\n",
       "\t JCe61cfe  & 131281143011 & 30 & 2020-03-13 & 167.60 & 188.00 & 2020-01-09 13:56:00 & 2020-03-01 22:23:00+00:00 &  6580.80 & 29\\\\\n",
       "\t JCe61cfe  & 131281143011 & 30 & 2020-03-13 & 167.60 & 188.00 & 2020-01-09 13:56:00 & 2020-03-05 12:11:00+00:00 &  6609.60 & 29\\\\\n",
       "\t JCe61cfe  & 131281143011 & 30 & 2020-03-13 & 167.60 & 188.00 & 2020-01-09 13:56:00 & 2020-03-06 13:49:00+00:00 &  6631.44 & 29\\\\\n",
       "\t JCe8a3e5  & 131251139412 & 79 & 2019-01-01 & 177.80 & 131.90 & 2018-04-29 04:07:00 & 2018-04-29 01:38:00+00:00 &  4903.03 & 12\\\\\n",
       "\t JCe8a3e5  & 131251139412 & 79 & 2019-01-01 & 177.80 & 131.90 & 2018-04-29 04:07:00 & 2018-04-30 14:00:00+00:00 &  4903.03 & 12\\\\\n",
       "\t JCe8a3e5  & 131251139412 & 79 & 2019-01-01 & 177.80 & 131.90 & 2018-04-29 04:07:00 & 2018-05-07 12:00:00+00:00 & 10553.86 & 12\\\\\n",
       "\t JCe8a3e5  & 131251139412 & 79 & 2019-01-01 & 177.80 & 131.90 & 2018-04-29 04:07:00 & 2018-05-07 14:00:00+00:00 &  4787.20 & 12\\\\\n",
       "\t JCe8a3e5  & 131251139412 & 79 & 2019-01-01 & 177.80 & 131.90 & 2018-04-29 04:07:00 & 2018-05-12 11:40:00+00:00 &  4821.90 & 12\\\\\n",
       "\t JCe8a3e5  & 131251139412 & 79 & 2019-01-01 & 177.80 & 131.90 & 2018-04-29 04:07:00 & 2018-05-14 05:29:00+00:00 &  4955.94 & 12\\\\\n",
       "\t JCe8a3e5  & 131251139412 & 79 & 2019-01-01 & 177.80 & 131.90 & 2018-04-29 04:07:00 & 2018-05-16 00:00:00+00:00 &  4860.70 & 12\\\\\n",
       "\t JCe8a3e5  & 131251139412 & 79 & 2019-01-01 & 177.80 & 131.90 & 2018-04-29 04:07:00 & 2018-05-16 13:12:00+00:00 &  4821.90 & 12\\\\\n",
       "\t JCe8a3e5  & 131251139412 & 79 & 2019-01-01 & 177.80 & 131.90 & 2018-04-29 04:07:00 & 2018-05-17 12:00:00+00:00 &  4821.90 & 12\\\\\n",
       "\t JCe8a3e5  & 131251139412 & 79 & 2019-01-01 & 177.80 & 131.90 & 2018-04-29 04:07:00 & 2018-05-20 13:22:00+00:00 &  4821.90 & 12\\\\\n",
       "\t JCe8a3e5  & 131251139412 & 79 & 2019-01-01 & 177.80 & 131.90 & 2018-04-29 04:07:00 & 2018-05-25 15:00:00+00:00 &  4821.90 & 12\\\\\n",
       "\t JCe8a3e5  & 131251139412 & 79 & 2019-01-01 & 177.80 & 131.90 & 2018-04-29 04:07:00 & 2018-05-28 13:14:00+00:00 &  4486.80 & 12\\\\\n",
       "\t JCe8a3e5  & 131254274197 & 79 & 2019-01-01 & 177.80 & 131.90 & 2018-06-29 01:21:00 & 2018-06-28 23:45:00+00:00 &  4515.02 &  5\\\\\n",
       "\t JCe8a3e5  & 131254274197 & 79 & 2019-01-01 & 177.80 & 131.90 & 2018-06-29 01:21:00 & 2018-06-29 02:54:00+00:00 &  4522.08 &  5\\\\\n",
       "\t JCe8a3e5  & 131254274197 & 79 & 2019-01-01 & 177.80 & 131.90 & 2018-06-29 01:21:00 & 2018-06-29 14:00:00+00:00 &  4522.08 &  5\\\\\n",
       "\t JCe8a3e5  & 131254274197 & 79 & 2019-01-01 & 177.80 & 131.90 & 2018-06-29 01:21:00 & 2018-06-30 18:39:00+00:00 &  4522.08 &  5\\\\\n",
       "\t JCe8a3e5  & 131254274197 & 79 & 2019-01-01 & 177.80 & 131.90 & 2018-06-29 01:21:00 & 2018-07-01 14:49:00+00:00 &  4645.53 &  5\\\\\n",
       "\t JCe8a3e5  & 131255133973 & 79 & 2019-01-01 & 177.80 & 131.90 & 2018-07-20 05:13:00 & 2018-07-19 20:48:00+00:00 &  4480.00 &  3\\\\\n",
       "\t JCe8a3e5  & 131255133973 & 79 & 2019-01-01 & 177.80 & 131.90 & 2018-07-20 05:13:00 & 2018-07-20 07:15:00+00:00 &  4574.99 &  3\\\\\n",
       "\t JCe8a3e5  & 131255133973 & 79 & 2019-01-01 & 177.80 & 131.90 & 2018-07-20 05:13:00 & 2018-07-23 12:30:00+00:00 &  4733.72 &  3\\\\\n",
       "\t JCe8a3e5  & 131260358139 & 79 & 2019-01-01 & 177.80 & 131.90 & 2018-11-11 00:19:00 & 2018-11-11 00:11:00+00:00 &  4733.72 &  7\\\\\n",
       "\t JCe8a3e5  & 131260358139 & 79 & 2019-01-01 & 177.80 & 131.90 & 2018-11-11 00:19:00 & 2018-11-14 18:11:00+00:00 &  4455.06 &  7\\\\\n",
       "\t JCe8a3e5  & 131260358139 & 79 & 2019-01-01 & 177.80 & 131.90 & 2018-11-11 00:19:00 & 2018-11-16 14:03:00+00:00 &  4634.95 &  7\\\\\n",
       "\t JCe8a3e5  & 131260358139 & 79 & 2019-01-01 & 177.80 & 131.90 & 2018-11-11 00:19:00 & 2018-11-17 11:44:00+00:00 &  4624.37 &  7\\\\\n",
       "\t JCe8a3e5  & 131260358139 & 79 & 2019-01-01 & 177.80 & 131.90 & 2018-11-11 00:19:00 & 2018-11-19 11:34:00+00:00 &  4659.64 &  7\\\\\n",
       "\t JCe8a3e5  & 131260358139 & 79 & 2019-01-01 & 177.80 & 131.90 & 2018-11-11 00:19:00 & 2018-11-22 12:11:00+00:00 &  4687.86 &  7\\\\\n",
       "\t JCe8a3e5  & 131260358139 & 79 & 2019-01-01 & 177.80 & 131.90 & 2018-11-11 00:19:00 & 2018-11-24 11:40:00+00:00 &  4652.59 &  7\\\\\n",
       "\t JCe9ddd4  & 131281150620 & 36 & 2020-03-31 & 172.72 & 144.50 & 2020-01-28 23:48:00 & 2020-02-01 17:34:00+00:00 &  4903.03 &  5\\\\\n",
       "\t JCe9ddd4  & 131281150620 & 36 & 2020-03-31 & 172.72 & 144.50 & 2020-01-28 23:48:00 & 2020-02-06 17:35:00+00:00 & 10994.78 &  5\\\\\n",
       "\t JCe9ddd4  & 131281150620 & 36 & 2020-03-31 & 172.72 & 144.50 & 2020-01-28 23:48:00 & 2020-02-08 15:32:00+00:00 &  5026.49 &  5\\\\\n",
       "\t JCe9ddd4  & 131281150620 & 36 & 2020-03-31 & 172.72 & 144.50 & 2020-01-28 23:48:00 & 2020-02-11 22:35:00+00:00 &  5088.00 &  5\\\\\n",
       "\t JCe9ddd4  & 131281150620 & 36 & 2020-03-31 & 172.72 & 144.50 & 2020-01-28 23:48:00 & 2020-02-13 16:26:00+00:00 &  5097.04 &  5\\\\\n",
       "\t JCea3866  & 131179616702 & 32 & 2020-03-31 & 140.00 &  44.75 & 2016-02-16 04:05:00 & 2016-02-16 05:17:00+00:00 &  1527.35 & 13\\\\\n",
       "\t JCea3866  & 131179616702 & 32 & 2020-03-31 & 140.00 &  44.75 & 2016-02-16 04:05:00 & 2016-02-16 15:35:00+00:00 &  1636.70 & 13\\\\\n",
       "\t JCea3866  & 131179616702 & 32 & 2020-03-31 & 140.00 &  44.75 & 2016-02-16 04:05:00 & 2016-02-16 19:16:00+00:00 &  1594.37 & 13\\\\\n",
       "\t JCea3866  & 131179616702 & 32 & 2020-03-31 & 140.00 &  44.75 & 2016-02-16 04:05:00 & 2016-02-16 20:41:00+00:00 &  1590.84 & 13\\\\\n",
       "\t JCea3866  & 131179616702 & 32 & 2020-03-31 & 140.00 &  44.75 & 2016-02-16 04:05:00 & 2016-02-17 00:19:00+00:00 &  1537.93 & 13\\\\\n",
       "\t JCea3866  & 131179616702 & 32 & 2020-03-31 & 140.00 &  44.75 & 2016-02-16 04:05:00 & 2016-02-18 00:23:00+00:00 &  1534.40 & 13\\\\\n",
       "\t JCea3866  & 131179616702 & 32 & 2020-03-31 & 140.00 &  44.75 & 2016-02-16 04:05:00 & 2016-02-18 11:54:00+00:00 &  1530.87 & 13\\\\\n",
       "\t JCea3866  & 131179616702 & 32 & 2020-03-31 & 140.00 &  44.75 & 2016-02-16 04:05:00 & 2016-02-19 00:42:00+00:00 &  1534.40 & 13\\\\\n",
       "\t JCea3866  & 131179616702 & 32 & 2020-03-31 & 140.00 &  44.75 & 2016-02-16 04:05:00 & 2016-02-19 11:36:00+00:00 &  1552.04 & 13\\\\\n",
       "\t JCea3866  & 131179616702 & 32 & 2020-03-31 & 140.00 &  44.75 & 2016-02-16 04:05:00 & 2016-02-19 23:55:00+00:00 &  1559.09 & 13\\\\\n",
       "\t JCea3866  & 131179616702 & 32 & 2020-03-31 & 140.00 &  44.75 & 2016-02-16 04:05:00 & 2016-02-20 10:29:00+00:00 &  1520.29 & 13\\\\\n",
       "\t JCea3866  & 131179616702 & 32 & 2020-03-31 & 140.00 &  44.75 & 2016-02-16 04:05:00 & 2016-02-21 00:09:00+00:00 &  1530.87 & 13\\\\\n",
       "\t JCea3866  & 131179616702 & 32 & 2020-03-31 & 140.00 &  44.75 & 2016-02-16 04:05:00 & 2016-02-21 11:35:00+00:00 &  1534.40 & 13\\\\\n",
       "\t JCea3866  & 131188622303 & 32 & 2020-03-31 & 140.00 &  44.75 & 2016-05-26 10:08:00 & 2016-05-26 14:38:00+00:00 &  1781.32 & 22\\\\\n",
       "\t JCea3866  & 131188622303 & 32 & 2020-03-31 & 140.00 &  44.75 & 2016-05-26 10:08:00 & 2016-05-27 00:37:00+00:00 &  1876.56 & 22\\\\\n",
       "\t JCea3866  & 131188622303 & 32 & 2020-03-31 & 140.00 &  44.75 & 2016-05-26 10:08:00 & 2016-05-27 11:49:00+00:00 &  1883.61 & 22\\\\\n",
       "\t JCea3866  & 131188622303 & 32 & 2020-03-31 & 140.00 &  44.75 & 2016-05-26 10:08:00 & 2016-05-27 23:15:00+00:00 &  1900.80 & 22\\\\\n",
       "\t JCea3866  & 131188622303 & 32 & 2020-03-31 & 140.00 &  44.75 & 2016-05-26 10:08:00 & 2016-05-28 10:20:00+00:00 &  1820.12 & 22\\\\\n",
       "\t JCea3866  & 131188622303 & 32 & 2020-03-31 & 140.00 &  44.75 & 2016-05-26 10:08:00 & 2016-05-28 23:32:00+00:00 &  1827.20 & 22\\\\\n",
       "\t JCea3866  & 131188622303 & 32 & 2020-03-31 & 140.00 &  44.75 & 2016-05-26 10:08:00 & 2016-05-29 11:37:00+00:00 &  1809.54 & 22\\\\\n",
       "\t JCea3866  & 131188622303 & 32 & 2020-03-31 & 140.00 &  44.75 & 2016-05-26 10:08:00 & 2016-05-29 22:18:00+00:00 &  1843.20 & 22\\\\\n",
       "\t JCea3866  & 131188622303 & 32 & 2020-03-31 & 140.00 &  44.75 & 2016-05-26 10:08:00 & 2016-05-30 11:35:00+00:00 &  1851.86 & 22\\\\\n",
       "\t JCea3866  & 131188622303 & 32 & 2020-03-31 & 140.00 &  44.75 & 2016-05-26 10:08:00 & 2016-05-30 22:51:00+00:00 &  1798.95 & 22\\\\\n",
       "\t JCea3866  & 131188622303 & 32 & 2020-03-31 & 140.00 &  44.75 & 2016-05-26 10:08:00 & 2016-05-31 11:48:00+00:00 &  1788.37 & 22\\\\\n",
       "\t JCea3866  & 131188622303 & 32 & 2020-03-31 & 140.00 &  44.75 & 2016-05-26 10:08:00 & 2016-05-31 22:35:00+00:00 &  1803.20 & 22\\\\\n",
       "\t JCea3866  & 131188622303 & 32 & 2020-03-31 & 140.00 &  44.75 & 2016-05-26 10:08:00 & 2016-06-01 10:25:00+00:00 &  1809.54 & 22\\\\\n",
       "\t JCea3866  & 131188622303 & 32 & 2020-03-31 & 140.00 &  44.75 & 2016-05-26 10:08:00 & 2016-06-02 02:14:00+00:00 &  1862.45 & 22\\\\\n",
       "\t JCea3866  & 131188622303 & 32 & 2020-03-31 & 140.00 &  44.75 & 2016-05-26 10:08:00 & 2016-06-02 11:40:00+00:00 &  1830.70 & 22\\\\\n",
       "\t JCea3866  & 131188622303 & 32 & 2020-03-31 & 140.00 &  44.75 & 2016-05-26 10:08:00 & 2016-06-02 23:02:00+00:00 &  1868.80 & 22\\\\\n",
       "\t JCea3866  & 131188622303 & 32 & 2020-03-31 & 140.00 &  44.75 & 2016-05-26 10:08:00 & 2016-06-03 10:31:00+00:00 &  1869.50 & 22\\\\\n",
       "\t JCea3866  & 131188622303 & 32 & 2020-03-31 & 140.00 &  44.75 & 2016-05-26 10:08:00 & 2016-06-04 11:51:00+00:00 &  1869.50 & 22\\\\\n",
       "\t JCea3866  & 131188622303 & 32 & 2020-03-31 & 140.00 &  44.75 & 2016-05-26 10:08:00 & 2016-06-04 23:22:00+00:00 &  1876.56 & 22\\\\\n",
       "\t JCea3866  & 131188622303 & 32 & 2020-03-31 & 140.00 &  44.75 & 2016-05-26 10:08:00 & 2016-06-05 12:10:00+00:00 &  1809.54 & 22\\\\\n",
       "\t JCea3866  & 131188622303 & 32 & 2020-03-31 & 140.00 &  44.75 & 2016-05-26 10:08:00 & 2016-06-05 22:59:00+00:00 &  1848.34 & 22\\\\\n",
       "\t JCea3866  & 131188622303 & 32 & 2020-03-31 & 140.00 &  44.75 & 2016-05-26 10:08:00 & 2016-06-06 11:45:00+00:00 &  1795.43 & 22\\\\\n",
       "\t JCea3866  & 131216538201 & 32 & 2020-03-31 & 140.00 &  44.75 & 2017-01-19 12:16:00 & 2017-01-19 03:33:00+00:00 &   790.40 &  4\\\\\n",
       "\t JCea3866  & 131216538201 & 32 & 2020-03-31 & 140.00 &  44.75 & 2017-01-19 12:16:00 & 2017-01-19 20:12:00+00:00 &  1760.00 &  4\\\\\n",
       "\t JCea3866  & 131216538201 & 32 & 2020-03-31 & 140.00 &  44.75 & 2017-01-19 12:16:00 & 2017-01-21 12:37:00+00:00 &  1689.61 &  4\\\\\n",
       "\t JCea3866  & 131216538201 & 32 & 2020-03-31 & 140.00 &  44.75 & 2017-01-19 12:16:00 & 2017-01-22 04:53:00+00:00 &  1717.82 &  4\\\\\n",
       "\t JCea3866  & 131278900531 & 35 & 2020-03-31 & 140.00 &  44.75 & 2019-10-26 07:00:00 & 2019-10-26 01:23:00+00:00 &  1590.84 & 12\\\\\n",
       "\t JCea3866  & 131278900531 & 35 & 2020-03-31 & 140.00 &  44.75 & 2019-10-26 07:00:00 & 2019-10-26 08:00:00+00:00 &  1552.04 & 12\\\\\n",
       "\t JCea3866  & 131278900531 & 35 & 2020-03-31 & 140.00 &  44.75 & 2019-10-26 07:00:00 & 2019-10-26 23:00:00+00:00 &  1597.89 & 12\\\\\n",
       "\t JCea3866  & 131278900531 & 35 & 2020-03-31 & 140.00 &  44.75 & 2019-10-26 07:00:00 & 2019-10-27 11:00:00+00:00 &  1583.78 & 12\\\\\n",
       "\t JCea3866  & 131278900531 & 35 & 2020-03-31 & 140.00 &  44.75 & 2019-10-26 07:00:00 & 2019-10-27 23:00:00+00:00 &  1573.20 & 12\\\\\n",
       "\t JCea3866  & 131278900531 & 35 & 2020-03-31 & 140.00 &  44.75 & 2019-10-26 07:00:00 & 2019-10-28 05:30:00+00:00 &  1566.15 & 12\\\\\n",
       "\t JCea3866  & 131278900531 & 35 & 2020-03-31 & 140.00 &  44.75 & 2019-10-26 07:00:00 & 2019-10-28 11:05:00+00:00 &  1603.20 & 12\\\\\n",
       "\t JCea3866  & 131278900531 & 35 & 2020-03-31 & 140.00 &  44.75 & 2019-10-26 07:00:00 & 2019-10-28 21:34:00+00:00 &  1587.31 & 12\\\\\n",
       "\t JCea3866  & 131278900531 & 35 & 2020-03-31 & 140.00 &  44.75 & 2019-10-26 07:00:00 & 2019-10-28 22:57:00+00:00 &  1632.00 & 12\\\\\n",
       "\t JCea3866  & 131278900531 & 35 & 2020-03-31 & 140.00 &  44.75 & 2019-10-26 07:00:00 & 2019-10-29 11:00:00+00:00 &  1654.40 & 12\\\\\n",
       "\t JCea3866  & 131278900531 & 35 & 2020-03-31 & 140.00 &  44.75 & 2019-10-26 07:00:00 & 2019-10-29 11:07:00+00:00 &  1597.89 & 12\\\\\n",
       "\t JCea3866  & 131278900531 & 35 & 2020-03-31 & 140.00 &  44.75 & 2019-10-26 07:00:00 & 2019-10-29 22:49:00+00:00 &  1615.53 & 12\\\\\n",
       "\\end{tabular}\n"
      ],
      "text/markdown": [
       "\n",
       "A grouped_df: 235 × 10\n",
       "\n",
       "| anon_id &lt;chr&gt; | pat_enc_csn_id_coded &lt;dbl&gt; | age &lt;int&gt; | recent_date &lt;chr&gt; | recent_height_cm &lt;dbl&gt; | recent_weight_kg &lt;dbl&gt; | admit_time &lt;chr&gt; | recorded_time &lt;chr&gt; | Weight &lt;dbl&gt; | nWe &lt;int&gt; |\n",
       "|---|---|---|---|---|---|---|---|---|---|\n",
       "| JC2a0784f | 131072025806 | 33 | 2020-03-05 | 167.64 | 232.10 | 2015-01-21 21:24:00 | 2015-01-21 04:27:00+00:00 |  6816.00 |  3 |\n",
       "| JC2a0784f | 131072025806 | 33 | 2020-03-05 | 167.64 | 232.10 | 2015-01-21 21:24:00 | 2015-01-22 22:30:00+00:00 |  7647.32 |  3 |\n",
       "| JC2a0784f | 131072025806 | 33 | 2020-03-05 | 167.64 | 232.10 | 2015-01-21 21:24:00 | 2015-01-23 22:12:00+00:00 |  7562.66 |  3 |\n",
       "| JC2a0784f | 131242882845 | 36 | 2020-03-05 | 167.64 | 232.10 | 2017-12-12 14:17:00 | 2017-12-12 06:37:00+00:00 |  8640.00 |  2 |\n",
       "| JC2a0784f | 131242882845 | 36 | 2020-03-05 | 167.64 | 232.10 | 2017-12-12 14:17:00 | 2017-12-12 11:53:00+00:00 |  7368.66 |  2 |\n",
       "| JCcbb4b8  | 131075411816 | 44 | 2019-01-01 | 165.10 |  57.90 | 2015-02-17 06:42:00 | 2015-02-17 23:09:00+00:00 |  1869.50 |  4 |\n",
       "| JCcbb4b8  | 131075411816 | 44 | 2019-01-01 | 165.10 |  57.90 | 2015-02-17 06:42:00 | 2015-02-18 15:49:00+00:00 |  1862.45 |  4 |\n",
       "| JCcbb4b8  | 131075411816 | 44 | 2019-01-01 | 165.10 |  57.90 | 2015-02-17 06:42:00 | 2015-02-19 16:57:00+00:00 |  1841.28 |  4 |\n",
       "| JCcbb4b8  | 131075411816 | 44 | 2019-01-01 | 165.10 |  57.90 | 2015-02-17 06:42:00 | 2015-02-20 16:45:00+00:00 |  1798.95 |  4 |\n",
       "| JCcbb4b8  | 131196826960 | 45 | 2019-01-01 | 165.10 |  57.90 | 2016-08-12 00:50:00 | 2016-08-12 02:30:00+00:00 |  1802.48 |  3 |\n",
       "| JCcbb4b8  | 131196826960 | 45 | 2019-01-01 | 165.10 |  57.90 | 2016-08-12 00:50:00 | 2016-08-12 15:36:00+00:00 |  1802.48 |  3 |\n",
       "| JCcbb4b8  | 131196826960 | 45 | 2019-01-01 | 165.10 |  57.90 | 2016-08-12 00:50:00 | 2016-08-12 15:55:00+00:00 |  1784.84 |  3 |\n",
       "| JCcbb4b8  | 131216914159 | 46 | 2019-01-01 | 165.10 |  57.90 | 2017-01-17 00:30:00 | 2017-01-17 04:00:00+00:00 |   840.00 | 11 |\n",
       "| JCcbb4b8  | 131216914159 | 46 | 2019-01-01 | 165.10 |  57.90 | 2017-01-17 00:30:00 | 2017-01-17 16:01:00+00:00 |  1806.01 | 11 |\n",
       "| JCcbb4b8  | 131216914159 | 46 | 2019-01-01 | 165.10 |  57.90 | 2017-01-17 00:30:00 | 2017-01-18 15:01:00+00:00 |  1876.56 | 11 |\n",
       "| JCcbb4b8  | 131216914159 | 46 | 2019-01-01 | 165.10 |  57.90 | 2017-01-17 00:30:00 | 2017-01-18 16:30:00+00:00 |  1869.50 | 11 |\n",
       "| JCcbb4b8  | 131216914159 | 46 | 2019-01-01 | 165.10 |  57.90 | 2017-01-17 00:30:00 | 2017-01-19 17:20:00+00:00 |  1813.06 | 11 |\n",
       "| JCcbb4b8  | 131216914159 | 46 | 2019-01-01 | 165.10 |  57.90 | 2017-01-17 00:30:00 | 2017-01-20 16:14:00+00:00 |  1763.68 | 11 |\n",
       "| JCcbb4b8  | 131216914159 | 46 | 2019-01-01 | 165.10 |  57.90 | 2017-01-17 00:30:00 | 2017-01-21 17:58:00+00:00 |  1795.43 | 11 |\n",
       "| JCcbb4b8  | 131216914159 | 46 | 2019-01-01 | 165.10 |  57.90 | 2017-01-17 00:30:00 | 2017-01-21 22:25:00+00:00 |  1788.37 | 11 |\n",
       "| JCcbb4b8  | 131216914159 | 46 | 2019-01-01 | 165.10 |  57.90 | 2017-01-17 00:30:00 | 2017-01-22 14:10:00+00:00 |  1742.52 | 11 |\n",
       "| JCcbb4b8  | 131216914159 | 46 | 2019-01-01 | 165.10 |  57.90 | 2017-01-17 00:30:00 | 2017-01-23 12:57:00+00:00 |  1746.04 | 11 |\n",
       "| JCcbb4b8  | 131216914159 | 46 | 2019-01-01 | 165.10 |  57.90 | 2017-01-17 00:30:00 | 2017-01-24 13:52:00+00:00 |  1735.46 | 11 |\n",
       "| JCcbfbc8  | 131243660291 | 76 | 2019-01-01 | 156.50 |  55.60 | 2018-01-06 02:32:00 | 2018-01-06 04:20:00+00:00 |  2183.44 |  3 |\n",
       "| JCcbfbc8  | 131243660291 | 76 | 2019-01-01 | 156.50 |  55.60 | 2018-01-06 02:32:00 | 2018-01-06 13:00:00+00:00 |  2183.44 |  3 |\n",
       "| JCcbfbc8  | 131243660291 | 76 | 2019-01-01 | 156.50 |  55.60 | 2018-01-06 02:32:00 | 2018-01-06 17:00:00+00:00 |  2186.96 |  3 |\n",
       "| JCcbfbc8  | 131256866342 | 77 | 2019-01-01 | 156.50 |  55.60 | 2018-09-03 20:20:00 | 2018-09-06 06:00:00+00:00 |   789.42 |  8 |\n",
       "| JCcbfbc8  | 131256866342 | 77 | 2019-01-01 | 156.50 |  55.60 | 2018-09-03 20:20:00 | 2018-09-06 21:15:00+00:00 |  2072.00 |  8 |\n",
       "| JCcbfbc8  | 131256866342 | 77 | 2019-01-01 | 156.50 |  55.60 | 2018-09-03 20:20:00 | 2018-09-08 21:09:00+00:00 |  2179.20 |  8 |\n",
       "| JCcbfbc8  | 131256866342 | 77 | 2019-01-01 | 156.50 |  55.60 | 2018-09-03 20:20:00 | 2018-09-09 10:32:00+00:00 |  2211.65 |  8 |\n",
       "| JCcbfbc8  | 131256866342 | 77 | 2019-01-01 | 156.50 |  55.60 | 2018-09-03 20:20:00 | 2018-09-10 13:27:00+00:00 |  2250.46 |  8 |\n",
       "| JCcbfbc8  | 131256866342 | 77 | 2019-01-01 | 156.50 |  55.60 | 2018-09-03 20:20:00 | 2018-09-11 11:24:00+00:00 |  2271.62 |  8 |\n",
       "| JCcbfbc8  | 131256866342 | 77 | 2019-01-01 | 156.50 |  55.60 | 2018-09-03 20:20:00 | 2018-09-11 21:02:00+00:00 |  2335.11 |  8 |\n",
       "| JCcbfbc8  | 131256866342 | 77 | 2019-01-01 | 156.50 |  55.60 | 2018-09-03 20:20:00 | 2018-09-13 11:29:00+00:00 |  2345.69 |  8 |\n",
       "| JCd0500f  | 131186131047 | 66 | 2020-03-31 | 165.10 | 123.20 | 2016-05-22 07:10:00 | 2016-05-22 07:43:00+00:00 |   987.66 |  1 |\n",
       "| JCd0500f  | 131277983176 | 69 | 2020-03-31 | 165.10 | 123.20 | 2019-11-01 06:18:00 | 2019-11-01 01:53:00+00:00 |  4190.50 |  1 |\n",
       "| JCd262e1  | 131081523555 | 63 | 2020-02-24 | 152.40 | 122.70 | 2015-03-09 11:02:00 | 2015-03-09 07:52:00+00:00 |  4800.00 |  5 |\n",
       "| JCd262e1  | 131081523555 | 63 | 2020-02-24 | 152.40 | 122.70 | 2015-03-09 11:02:00 | 2015-03-09 11:18:00+00:00 | 11587.38 |  5 |\n",
       "| JCd262e1  | 131081523555 | 63 | 2020-02-24 | 152.40 | 122.70 | 2015-03-09 11:02:00 | 2015-03-10 23:41:00+00:00 |  5231.07 |  5 |\n",
       "| JCd262e1  | 131081523555 | 63 | 2020-02-24 | 152.40 | 122.70 | 2015-03-09 11:02:00 | 2015-03-11 14:52:00+00:00 |  5301.62 |  5 |\n",
       "| JCd262e1  | 131081523555 | 63 | 2020-02-24 | 152.40 | 122.70 | 2015-03-09 11:02:00 | 2015-03-14 12:52:00+00:00 |  5280.46 |  5 |\n",
       "| JCd262e1  | 131200325194 | 64 | 2020-02-24 | 152.40 | 122.70 | 2016-09-06 10:10:00 | 2016-09-07 16:25:00+00:00 |  4832.48 |  3 |\n",
       "| JCd262e1  | 131200325194 | 64 | 2020-02-24 | 152.40 | 122.70 | 2016-09-06 10:10:00 | 2016-09-09 19:31:00+00:00 |  5072.34 |  3 |\n",
       "| JCd262e1  | 131200325194 | 64 | 2020-02-24 | 152.40 | 122.70 | 2016-09-06 10:10:00 | 2016-09-10 16:44:00+00:00 |  5086.45 |  3 |\n",
       "| JCd262e1  | 131245262535 | 66 | 2020-02-24 | 152.40 | 122.70 | 2018-01-18 18:05:00 | 2018-01-18 15:28:00+00:00 |  4800.00 |  4 |\n",
       "| JCd262e1  | 131245262535 | 66 | 2020-02-24 | 152.40 | 122.70 | 2018-01-18 18:05:00 | 2018-01-18 23:43:00+00:00 |  4800.74 |  4 |\n",
       "| JCd262e1  | 131245262535 | 66 | 2020-02-24 | 152.40 | 122.70 | 2018-01-18 18:05:00 | 2018-01-20 19:00:00+00:00 |  4776.05 |  4 |\n",
       "| JCd262e1  | 131245262535 | 66 | 2020-02-24 | 152.40 | 122.70 | 2018-01-18 18:05:00 | 2018-01-21 17:13:00+00:00 |  4363.34 |  4 |\n",
       "| JCd262e1  | 131274595388 | 67 | 2020-02-24 | 152.40 | 122.70 | 2019-07-29 18:08:00 | 2019-07-29 16:00:00+00:00 |  4811.32 |  3 |\n",
       "| JCd262e1  | 131274595388 | 67 | 2020-02-24 | 152.40 | 122.70 | 2019-07-29 18:08:00 | 2019-07-30 03:38:00+00:00 |  4828.96 |  3 |\n",
       "| JCd262e1  | 131274595388 | 67 | 2020-02-24 | 152.40 | 122.70 | 2019-07-29 18:08:00 | 2019-08-02 13:00:00+00:00 |  4740.77 |  3 |\n",
       "| JCd262e1  | 131280049641 | 67 | 2020-02-24 | 152.40 | 122.70 | 2019-11-10 23:05:00 | 2019-11-10 19:41:00+00:00 |  4338.65 |  1 |\n",
       "| JCd262e1  | 131281388100 | 68 | 2020-02-24 | 152.40 | 122.70 | 2019-12-11 17:13:00 | 2019-12-11 14:37:00+00:00 |  4328.07 |  1 |\n",
       "| JCd84277  | 131090908463 | 21 | 2019-11-24 | 160.02 |  43.00 | 2015-05-22 07:01:00 | 2015-05-22 15:21:00+00:00 |   871.26 |  5 |\n",
       "| JCd84277  | 131090908463 | 21 | 2019-11-24 | 160.02 |  43.00 | 2015-05-22 07:01:00 | 2015-05-23 16:00:00+00:00 |  1509.71 |  5 |\n",
       "| JCd84277  | 131090908463 | 21 | 2019-11-24 | 160.02 |  43.00 | 2015-05-22 07:01:00 | 2015-05-26 15:25:00+00:00 |  1481.49 |  5 |\n",
       "| JCd84277  | 131090908463 | 21 | 2019-11-24 | 160.02 |  43.00 | 2015-05-22 07:01:00 | 2015-05-28 15:00:00+00:00 |  1481.49 |  5 |\n",
       "| JCd84277  | 131090908463 | 21 | 2019-11-24 | 160.02 |  43.00 | 2015-05-22 07:01:00 | 2015-05-30 14:36:00+00:00 |  1470.91 |  5 |\n",
       "| JCd99e71  | 131214625562 | 49 | 2019-11-16 | 193.00 | 220.80 | 2017-01-25 05:52:00 | 2017-01-25 08:06:00+00:00 |  7816.63 |  2 |\n",
       "| JCd99e71  | 131214625562 | 49 | 2019-11-16 | 193.00 | 220.80 | 2017-01-25 05:52:00 | 2017-01-26 16:11:00+00:00 |  8056.49 |  2 |\n",
       "| JCdab6fa  | 131255981015 | 80 | 2019-01-13 | 149.90 |  57.38 | 2018-09-11 03:14:00 | 2018-09-11 05:00:00+00:00 |  2045.87 |  4 |\n",
       "| JCdab6fa  | 131255981015 | 80 | 2019-01-13 | 149.90 |  57.38 | 2018-09-11 03:14:00 | 2018-09-16 04:00:00+00:00 |   910.41 |  4 |\n",
       "| JCdab6fa  | 131255981015 | 80 | 2019-01-13 | 149.90 |  57.38 | 2018-09-11 03:14:00 | 2018-09-17 11:58:00+00:00 |  2096.00 |  4 |\n",
       "| JCdab6fa  | 131255981015 | 80 | 2019-01-13 | 149.90 |  57.38 | 2018-09-11 03:14:00 | 2018-09-20 12:00:00+00:00 |  2024.00 |  4 |\n",
       "| JCdba730  | 131262687726 | 34 | 2020-03-31 | 157.48 |  31.20 | 2019-01-17 03:10:00 | 2019-01-17 00:57:00+00:00 |  1375.67 |  6 |\n",
       "| JCdba730  | 131262687726 | 34 | 2020-03-31 | 157.48 |  31.20 | 2019-01-17 03:10:00 | 2019-01-20 01:00:00+00:00 |  1375.67 |  6 |\n",
       "| JCdba730  | 131262687726 | 34 | 2020-03-31 | 157.48 |  31.20 | 2019-01-17 03:10:00 | 2019-01-21 22:31:00+00:00 |  1375.67 |  6 |\n",
       "| JCdba730  | 131262687726 | 34 | 2020-03-31 | 157.48 |  31.20 | 2019-01-17 03:10:00 | 2019-01-23 01:15:00+00:00 |  1389.78 |  6 |\n",
       "| JCdba730  | 131262687726 | 34 | 2020-03-31 | 157.48 |  31.20 | 2019-01-17 03:10:00 | 2019-01-27 16:30:00+00:00 |  1421.53 |  6 |\n",
       "| JCdba730  | 131262687726 | 34 | 2020-03-31 | 157.48 |  31.20 | 2019-01-17 03:10:00 | 2019-01-28 16:19:00+00:00 |  1421.53 |  6 |\n",
       "| JCdba730  | 131279798635 | 35 | 2020-03-31 | 157.48 |  31.20 | 2019-11-22 05:03:00 | 2019-11-22 07:31:00+00:00 |  1167.56 | 17 |\n",
       "| JCdba730  | 131279798635 | 35 | 2020-03-31 | 157.48 |  31.20 | 2019-11-22 05:03:00 | 2019-11-25 00:20:00+00:00 |  1178.14 | 17 |\n",
       "| JCdba730  | 131279798635 | 35 | 2020-03-31 | 157.48 |  31.20 | 2019-11-22 05:03:00 | 2019-11-25 10:03:00+00:00 |  1178.14 | 17 |\n",
       "| JCdba730  | 131279798635 | 35 | 2020-03-31 | 157.48 |  31.20 | 2019-11-22 05:03:00 | 2019-11-27 14:01:00+00:00 |  1178.14 | 17 |\n",
       "| JCdba730  | 131279798635 | 35 | 2020-03-31 | 157.48 |  31.20 | 2019-11-22 05:03:00 | 2019-11-28 12:46:00+00:00 |  1178.14 | 17 |\n",
       "| JCdba730  | 131279798635 | 35 | 2020-03-31 | 157.48 |  31.20 | 2019-11-22 05:03:00 | 2019-12-01 09:20:00+00:00 |  1178.14 | 17 |\n",
       "| JCdba730  | 131279798635 | 35 | 2020-03-31 | 157.48 |  31.20 | 2019-11-22 05:03:00 | 2019-12-04 20:18:00+00:00 |  1389.78 | 17 |\n",
       "| JCdba730  | 131279798635 | 35 | 2020-03-31 | 157.48 |  31.20 | 2019-11-22 05:03:00 | 2019-12-08 14:03:00+00:00 |  1414.47 | 17 |\n",
       "| JCdba730  | 131279798635 | 35 | 2020-03-31 | 157.48 |  31.20 | 2019-11-22 05:03:00 | 2019-12-11 18:59:00+00:00 |  1414.47 | 17 |\n",
       "| JCdba730  | 131279798635 | 35 | 2020-03-31 | 157.48 |  31.20 | 2019-11-22 05:03:00 | 2019-12-11 19:00:00+00:00 |  1142.86 | 17 |\n",
       "| JCdba730  | 131279798635 | 35 | 2020-03-31 | 157.48 |  31.20 | 2019-11-22 05:03:00 | 2019-12-12 18:46:00+00:00 |  1100.54 | 17 |\n",
       "| JCdba730  | 131279798635 | 35 | 2020-03-31 | 157.48 |  31.20 | 2019-11-22 05:03:00 | 2019-12-13 18:46:00+00:00 |  1040.57 | 17 |\n",
       "| JCdba730  | 131279798635 | 35 | 2020-03-31 | 157.48 |  31.20 | 2019-11-22 05:03:00 | 2019-12-14 20:54:00+00:00 |  1005.30 | 17 |\n",
       "| JCdba730  | 131279798635 | 35 | 2020-03-31 | 157.48 |  31.20 | 2019-11-22 05:03:00 | 2019-12-18 01:23:00+00:00 |   971.52 | 17 |\n",
       "| JCdba730  | 131279798635 | 35 | 2020-03-31 | 157.48 |  31.20 | 2019-11-22 05:03:00 | 2019-12-22 14:20:00+00:00 |  1037.04 | 17 |\n",
       "| JCdba730  | 131279798635 | 35 | 2020-03-31 | 157.48 |  31.20 | 2019-11-22 05:03:00 | 2019-12-23 23:00:00+00:00 |  1040.57 | 17 |\n",
       "| JCdba730  | 131279798635 | 35 | 2020-03-31 | 157.48 |  31.20 | 2019-11-22 05:03:00 | 2019-12-25 20:30:00+00:00 |  1093.48 | 17 |\n",
       "| JCe01e50  | 131188059708 | 86 | 2020-03-31 | 177.80 |  97.98 | 2016-05-25 02:49:00 | 2016-05-25 06:45:00+00:00 |  8324.57 |  2 |\n",
       "| JCe01e50  | 131188059708 | 86 | 2020-03-31 | 177.80 |  97.98 | 2016-05-25 02:49:00 | 2016-05-25 15:15:00+00:00 |  3739.00 |  2 |\n",
       "| JCe01e50  | 131241586651 | 88 | 2020-03-31 | 177.80 |  97.98 | 2017-11-07 08:30:00 | 2017-11-07 10:20:00+00:00 |  4028.80 |  1 |\n",
       "| JCe01e50  | 131267200353 | 89 | 2020-03-31 | 177.80 |  97.98 | 2019-04-18 05:00:00 | 2019-04-18 06:55:00+00:00 |  3703.73 |  1 |\n",
       "| JCe01e50  | 131269279849 | 89 | 2020-03-31 | 177.80 |  97.98 | 2019-05-29 04:47:00 | 2019-05-29 22:20:00+00:00 |  3830.71 |  3 |\n",
       "| JCe01e50  | 131269279849 | 89 | 2020-03-31 | 177.80 |  97.98 | 2019-05-29 04:47:00 | 2019-05-30 14:35:00+00:00 |  3668.45 |  3 |\n",
       "| JCe01e50  | 131269279849 | 89 | 2020-03-31 | 177.80 |  97.98 | 2019-05-29 04:47:00 | 2019-05-31 12:00:00+00:00 |  3661.40 |  3 |\n",
       "| JCe01e50  | 131278402456 | 90 | 2020-03-31 | 177.80 |  97.98 | 2019-10-19 20:44:00 | 2019-10-19 17:00:00+00:00 |  3680.00 |  4 |\n",
       "| JCe01e50  | 131278402456 | 90 | 2020-03-31 | 177.80 |  97.98 | 2019-10-19 20:44:00 | 2019-10-20 06:49:00+00:00 |  3661.40 |  4 |\n",
       "| JCe01e50  | 131278402456 | 90 | 2020-03-31 | 177.80 |  97.98 | 2019-10-19 20:44:00 | 2019-10-20 13:27:00+00:00 |  3661.40 |  4 |\n",
       "| JCe01e50  | 131278402456 | 90 | 2020-03-31 | 177.80 |  97.98 | 2019-10-19 20:44:00 | 2019-10-23 23:25:00+00:00 |  3392.00 |  4 |\n",
       "| JCe01e50  | 131281393511 | 90 | 2020-03-31 | 177.80 |  97.98 | 2019-12-24 03:51:00 | 2019-12-24 06:58:00+00:00 |  3760.17 |  2 |\n",
       "| JCe01e50  | 131281393511 | 90 | 2020-03-31 | 177.80 |  97.98 | 2019-12-24 03:51:00 | 2019-12-25 16:07:00+00:00 |  3661.40 |  2 |\n",
       "| JCe48b36  | 131249121514 | 68 | 2019-12-19 | 190.50 | 117.75 | 2018-04-14 00:25:00 | 2018-04-14 01:17:00+00:00 |  6313.97 | 12 |\n",
       "| JCe48b36  | 131249121514 | 68 | 2019-12-19 | 190.50 | 117.75 | 2018-04-14 00:25:00 | 2018-04-14 10:32:00+00:00 |  6155.24 | 12 |\n",
       "| JCe48b36  | 131249121514 | 68 | 2019-12-19 | 190.50 | 117.75 | 2018-04-14 00:25:00 | 2018-04-15 13:30:00+00:00 |  6176.41 | 12 |\n",
       "| JCe48b36  | 131249121514 | 68 | 2019-12-19 | 190.50 | 117.75 | 2018-04-14 00:25:00 | 2018-04-16 12:40:00+00:00 |  6021.20 | 12 |\n",
       "| JCe48b36  | 131249121514 | 68 | 2019-12-19 | 190.50 | 117.75 | 2018-04-14 00:25:00 | 2018-04-16 15:01:00+00:00 |  6137.61 | 12 |\n",
       "| JCe48b36  | 131249121514 | 68 | 2019-12-19 | 190.50 | 117.75 | 2018-04-14 00:25:00 | 2018-04-16 17:30:00+00:00 |  6060.00 | 12 |\n",
       "| JCe48b36  | 131249121514 | 68 | 2019-12-19 | 190.50 | 117.75 | 2018-04-14 00:25:00 | 2018-04-17 13:00:00+00:00 |  7152.00 | 12 |\n",
       "| JCe48b36  | 131249121514 | 68 | 2019-12-19 | 190.50 | 117.75 | 2018-04-14 00:25:00 | 2018-04-18 13:00:00+00:00 |  7056.00 | 12 |\n",
       "| JCe48b36  | 131249121514 | 68 | 2019-12-19 | 190.50 | 117.75 | 2018-04-14 00:25:00 | 2018-04-19 13:30:00+00:00 |  6976.00 | 12 |\n",
       "| JCe48b36  | 131249121514 | 68 | 2019-12-19 | 190.50 | 117.75 | 2018-04-14 00:25:00 | 2018-04-20 14:00:00+00:00 |  6208.00 | 12 |\n",
       "| JCe48b36  | 131249121514 | 68 | 2019-12-19 | 190.50 | 117.75 | 2018-04-14 00:25:00 | 2018-04-30 12:30:00+00:00 |  3597.91 | 12 |\n",
       "| JCe48b36  | 131249121514 | 68 | 2019-12-19 | 190.50 | 117.75 | 2018-04-14 00:25:00 | 2018-05-01 10:27:00+00:00 |  3597.91 | 12 |\n",
       "| JCe48b36  | 131255596987 | 68 | 2019-12-19 | 190.50 | 117.75 | 2018-08-31 02:54:00 | 2018-08-31 00:46:00+00:00 |  9920.00 | 10 |\n",
       "| JCe48b36  | 131255596987 | 68 | 2019-12-19 | 190.50 | 117.75 | 2018-08-31 02:54:00 | 2018-08-31 01:22:00+00:00 |  4928.00 | 10 |\n",
       "| JCe48b36  | 131255596987 | 68 | 2019-12-19 | 190.50 | 117.75 | 2018-08-31 02:54:00 | 2018-08-31 06:14:00+00:00 |  5509.74 | 10 |\n",
       "| JCe48b36  | 131255596987 | 68 | 2019-12-19 | 190.50 | 117.75 | 2018-08-31 02:54:00 | 2018-08-31 12:02:00+00:00 |  5477.99 | 10 |\n",
       "| JCe48b36  | 131255596987 | 68 | 2019-12-19 | 190.50 | 117.75 | 2018-08-31 02:54:00 | 2018-09-06 11:00:00+00:00 |  4458.58 | 10 |\n",
       "| JCe48b36  | 131255596987 | 68 | 2019-12-19 | 190.50 | 117.75 | 2018-08-31 02:54:00 | 2018-09-07 11:00:00+00:00 |  4380.98 | 10 |\n",
       "| JCe48b36  | 131255596987 | 68 | 2019-12-19 | 190.50 | 117.75 | 2018-08-31 02:54:00 | 2018-09-08 10:30:00+00:00 |  4331.60 | 10 |\n",
       "| JCe48b36  | 131255596987 | 68 | 2019-12-19 | 190.50 | 117.75 | 2018-08-31 02:54:00 | 2018-09-12 11:00:00+00:00 |  4380.98 | 10 |\n",
       "| JCe48b36  | 131255596987 | 68 | 2019-12-19 | 190.50 | 117.75 | 2018-08-31 02:54:00 | 2018-09-14 11:00:00+00:00 |  4310.43 | 10 |\n",
       "| JCe48b36  | 131255596987 | 68 | 2019-12-19 | 190.50 | 117.75 | 2018-08-31 02:54:00 | 2018-09-17 13:00:00+00:00 |  4409.20 | 10 |\n",
       "| JCe48b36  | 131264610606 | 69 | 2019-12-19 | 190.50 | 117.75 | 2019-03-24 17:29:00 | 2019-03-24 19:40:00+00:00 |  4091.74 |  1 |\n",
       "| JCe61cfe  | 131281143011 | 30 | 2020-03-13 | 167.60 | 188.00 | 2020-01-09 13:56:00 | 2020-01-09 12:23:00+00:00 |  8077.65 | 29 |\n",
       "| JCe61cfe  | 131281143011 | 30 | 2020-03-13 | 167.60 | 188.00 | 2020-01-09 13:56:00 | 2020-01-09 23:00:00+00:00 |  7901.29 | 29 |\n",
       "| JCe61cfe  | 131281143011 | 30 | 2020-03-13 | 167.60 | 188.00 | 2020-01-09 13:56:00 | 2020-01-10 18:01:00+00:00 |  7664.95 | 29 |\n",
       "| JCe61cfe  | 131281143011 | 30 | 2020-03-13 | 167.60 | 188.00 | 2020-01-09 13:56:00 | 2020-01-15 14:00:00+00:00 |  7731.97 | 29 |\n",
       "| JCe61cfe  | 131281143011 | 30 | 2020-03-13 | 167.60 | 188.00 | 2020-01-09 13:56:00 | 2020-01-28 13:00:00+00:00 |  6440.96 | 29 |\n",
       "| JCe61cfe  | 131281143011 | 30 | 2020-03-13 | 167.60 | 188.00 | 2020-01-09 13:56:00 | 2020-01-29 14:00:00+00:00 |  6507.98 | 29 |\n",
       "| JCe61cfe  | 131281143011 | 30 | 2020-03-13 | 167.60 | 188.00 | 2020-01-09 13:56:00 | 2020-01-30 13:00:00+00:00 |  6440.96 | 29 |\n",
       "| JCe61cfe  | 131281143011 | 30 | 2020-03-13 | 167.60 | 188.00 | 2020-01-09 13:56:00 | 2020-01-31 13:45:00+00:00 |  6440.96 | 29 |\n",
       "| JCe61cfe  | 131281143011 | 30 | 2020-03-13 | 167.60 | 188.00 | 2020-01-09 13:56:00 | 2020-02-01 12:50:00+00:00 |  6582.05 | 29 |\n",
       "| JCe61cfe  | 131281143011 | 30 | 2020-03-13 | 167.60 | 188.00 | 2020-01-09 13:56:00 | 2020-02-02 13:12:00+00:00 |  6433.90 | 29 |\n",
       "| JCe61cfe  | 131281143011 | 30 | 2020-03-13 | 167.60 | 188.00 | 2020-01-09 13:56:00 | 2020-02-03 13:44:00+00:00 |  6518.56 | 29 |\n",
       "| JCe61cfe  | 131281143011 | 30 | 2020-03-13 | 167.60 | 188.00 | 2020-01-09 13:56:00 | 2020-02-04 17:00:00+00:00 |  6518.56 | 29 |\n",
       "| JCe61cfe  | 131281143011 | 30 | 2020-03-13 | 167.60 | 188.00 | 2020-01-09 13:56:00 | 2020-02-04 21:00:00+00:00 |  6518.56 | 29 |\n",
       "| JCe61cfe  | 131281143011 | 30 | 2020-03-13 | 167.60 | 188.00 | 2020-01-09 13:56:00 | 2020-02-05 13:46:00+00:00 |  6525.62 | 29 |\n",
       "| JCe61cfe  | 131281143011 | 30 | 2020-03-13 | 167.60 | 188.00 | 2020-01-09 13:56:00 | 2020-02-05 15:57:00+00:00 |  6388.05 | 29 |\n",
       "| JCe61cfe  | 131281143011 | 30 | 2020-03-13 | 167.60 | 188.00 | 2020-01-09 13:56:00 | 2020-02-06 09:15:00+00:00 |  6317.50 | 29 |\n",
       "| JCe61cfe  | 131281143011 | 30 | 2020-03-13 | 167.60 | 188.00 | 2020-01-09 13:56:00 | 2020-02-10 11:02:00+00:00 |  6264.59 | 29 |\n",
       "| JCe61cfe  | 131281143011 | 30 | 2020-03-13 | 167.60 | 188.00 | 2020-01-09 13:56:00 | 2020-02-11 18:35:00+00:00 |  6490.34 | 29 |\n",
       "| JCe61cfe  | 131281143011 | 30 | 2020-03-13 | 167.60 | 188.00 | 2020-01-09 13:56:00 | 2020-02-12 16:00:00+00:00 |  6627.91 | 29 |\n",
       "| JCe61cfe  | 131281143011 | 30 | 2020-03-13 | 167.60 | 188.00 | 2020-01-09 13:56:00 | 2020-02-13 13:20:00+00:00 |  6257.54 | 29 |\n",
       "| JCe61cfe  | 131281143011 | 30 | 2020-03-13 | 167.60 | 188.00 | 2020-01-09 13:56:00 | 2020-02-17 19:35:00+00:00 |  6352.78 | 29 |\n",
       "| JCe61cfe  | 131281143011 | 30 | 2020-03-13 | 167.60 | 188.00 | 2020-01-09 13:56:00 | 2020-02-19 14:51:00+00:00 |  7280.00 | 29 |\n",
       "| JCe61cfe  | 131281143011 | 30 | 2020-03-13 | 167.60 | 188.00 | 2020-01-09 13:56:00 | 2020-02-20 11:57:00+00:00 |  7024.00 | 29 |\n",
       "| JCe61cfe  | 131281143011 | 30 | 2020-03-13 | 167.60 | 188.00 | 2020-01-09 13:56:00 | 2020-02-22 21:55:00+00:00 |  6395.10 | 29 |\n",
       "| JCe61cfe  | 131281143011 | 30 | 2020-03-13 | 167.60 | 188.00 | 2020-01-09 13:56:00 | 2020-02-25 20:05:00+00:00 |  6427.20 | 29 |\n",
       "| JCe61cfe  | 131281143011 | 30 | 2020-03-13 | 167.60 | 188.00 | 2020-01-09 13:56:00 | 2020-02-28 02:46:00+00:00 |  6486.40 | 29 |\n",
       "| JCe61cfe  | 131281143011 | 30 | 2020-03-13 | 167.60 | 188.00 | 2020-01-09 13:56:00 | 2020-03-01 22:23:00+00:00 |  6580.80 | 29 |\n",
       "| JCe61cfe  | 131281143011 | 30 | 2020-03-13 | 167.60 | 188.00 | 2020-01-09 13:56:00 | 2020-03-05 12:11:00+00:00 |  6609.60 | 29 |\n",
       "| JCe61cfe  | 131281143011 | 30 | 2020-03-13 | 167.60 | 188.00 | 2020-01-09 13:56:00 | 2020-03-06 13:49:00+00:00 |  6631.44 | 29 |\n",
       "| JCe8a3e5  | 131251139412 | 79 | 2019-01-01 | 177.80 | 131.90 | 2018-04-29 04:07:00 | 2018-04-29 01:38:00+00:00 |  4903.03 | 12 |\n",
       "| JCe8a3e5  | 131251139412 | 79 | 2019-01-01 | 177.80 | 131.90 | 2018-04-29 04:07:00 | 2018-04-30 14:00:00+00:00 |  4903.03 | 12 |\n",
       "| JCe8a3e5  | 131251139412 | 79 | 2019-01-01 | 177.80 | 131.90 | 2018-04-29 04:07:00 | 2018-05-07 12:00:00+00:00 | 10553.86 | 12 |\n",
       "| JCe8a3e5  | 131251139412 | 79 | 2019-01-01 | 177.80 | 131.90 | 2018-04-29 04:07:00 | 2018-05-07 14:00:00+00:00 |  4787.20 | 12 |\n",
       "| JCe8a3e5  | 131251139412 | 79 | 2019-01-01 | 177.80 | 131.90 | 2018-04-29 04:07:00 | 2018-05-12 11:40:00+00:00 |  4821.90 | 12 |\n",
       "| JCe8a3e5  | 131251139412 | 79 | 2019-01-01 | 177.80 | 131.90 | 2018-04-29 04:07:00 | 2018-05-14 05:29:00+00:00 |  4955.94 | 12 |\n",
       "| JCe8a3e5  | 131251139412 | 79 | 2019-01-01 | 177.80 | 131.90 | 2018-04-29 04:07:00 | 2018-05-16 00:00:00+00:00 |  4860.70 | 12 |\n",
       "| JCe8a3e5  | 131251139412 | 79 | 2019-01-01 | 177.80 | 131.90 | 2018-04-29 04:07:00 | 2018-05-16 13:12:00+00:00 |  4821.90 | 12 |\n",
       "| JCe8a3e5  | 131251139412 | 79 | 2019-01-01 | 177.80 | 131.90 | 2018-04-29 04:07:00 | 2018-05-17 12:00:00+00:00 |  4821.90 | 12 |\n",
       "| JCe8a3e5  | 131251139412 | 79 | 2019-01-01 | 177.80 | 131.90 | 2018-04-29 04:07:00 | 2018-05-20 13:22:00+00:00 |  4821.90 | 12 |\n",
       "| JCe8a3e5  | 131251139412 | 79 | 2019-01-01 | 177.80 | 131.90 | 2018-04-29 04:07:00 | 2018-05-25 15:00:00+00:00 |  4821.90 | 12 |\n",
       "| JCe8a3e5  | 131251139412 | 79 | 2019-01-01 | 177.80 | 131.90 | 2018-04-29 04:07:00 | 2018-05-28 13:14:00+00:00 |  4486.80 | 12 |\n",
       "| JCe8a3e5  | 131254274197 | 79 | 2019-01-01 | 177.80 | 131.90 | 2018-06-29 01:21:00 | 2018-06-28 23:45:00+00:00 |  4515.02 |  5 |\n",
       "| JCe8a3e5  | 131254274197 | 79 | 2019-01-01 | 177.80 | 131.90 | 2018-06-29 01:21:00 | 2018-06-29 02:54:00+00:00 |  4522.08 |  5 |\n",
       "| JCe8a3e5  | 131254274197 | 79 | 2019-01-01 | 177.80 | 131.90 | 2018-06-29 01:21:00 | 2018-06-29 14:00:00+00:00 |  4522.08 |  5 |\n",
       "| JCe8a3e5  | 131254274197 | 79 | 2019-01-01 | 177.80 | 131.90 | 2018-06-29 01:21:00 | 2018-06-30 18:39:00+00:00 |  4522.08 |  5 |\n",
       "| JCe8a3e5  | 131254274197 | 79 | 2019-01-01 | 177.80 | 131.90 | 2018-06-29 01:21:00 | 2018-07-01 14:49:00+00:00 |  4645.53 |  5 |\n",
       "| JCe8a3e5  | 131255133973 | 79 | 2019-01-01 | 177.80 | 131.90 | 2018-07-20 05:13:00 | 2018-07-19 20:48:00+00:00 |  4480.00 |  3 |\n",
       "| JCe8a3e5  | 131255133973 | 79 | 2019-01-01 | 177.80 | 131.90 | 2018-07-20 05:13:00 | 2018-07-20 07:15:00+00:00 |  4574.99 |  3 |\n",
       "| JCe8a3e5  | 131255133973 | 79 | 2019-01-01 | 177.80 | 131.90 | 2018-07-20 05:13:00 | 2018-07-23 12:30:00+00:00 |  4733.72 |  3 |\n",
       "| JCe8a3e5  | 131260358139 | 79 | 2019-01-01 | 177.80 | 131.90 | 2018-11-11 00:19:00 | 2018-11-11 00:11:00+00:00 |  4733.72 |  7 |\n",
       "| JCe8a3e5  | 131260358139 | 79 | 2019-01-01 | 177.80 | 131.90 | 2018-11-11 00:19:00 | 2018-11-14 18:11:00+00:00 |  4455.06 |  7 |\n",
       "| JCe8a3e5  | 131260358139 | 79 | 2019-01-01 | 177.80 | 131.90 | 2018-11-11 00:19:00 | 2018-11-16 14:03:00+00:00 |  4634.95 |  7 |\n",
       "| JCe8a3e5  | 131260358139 | 79 | 2019-01-01 | 177.80 | 131.90 | 2018-11-11 00:19:00 | 2018-11-17 11:44:00+00:00 |  4624.37 |  7 |\n",
       "| JCe8a3e5  | 131260358139 | 79 | 2019-01-01 | 177.80 | 131.90 | 2018-11-11 00:19:00 | 2018-11-19 11:34:00+00:00 |  4659.64 |  7 |\n",
       "| JCe8a3e5  | 131260358139 | 79 | 2019-01-01 | 177.80 | 131.90 | 2018-11-11 00:19:00 | 2018-11-22 12:11:00+00:00 |  4687.86 |  7 |\n",
       "| JCe8a3e5  | 131260358139 | 79 | 2019-01-01 | 177.80 | 131.90 | 2018-11-11 00:19:00 | 2018-11-24 11:40:00+00:00 |  4652.59 |  7 |\n",
       "| JCe9ddd4  | 131281150620 | 36 | 2020-03-31 | 172.72 | 144.50 | 2020-01-28 23:48:00 | 2020-02-01 17:34:00+00:00 |  4903.03 |  5 |\n",
       "| JCe9ddd4  | 131281150620 | 36 | 2020-03-31 | 172.72 | 144.50 | 2020-01-28 23:48:00 | 2020-02-06 17:35:00+00:00 | 10994.78 |  5 |\n",
       "| JCe9ddd4  | 131281150620 | 36 | 2020-03-31 | 172.72 | 144.50 | 2020-01-28 23:48:00 | 2020-02-08 15:32:00+00:00 |  5026.49 |  5 |\n",
       "| JCe9ddd4  | 131281150620 | 36 | 2020-03-31 | 172.72 | 144.50 | 2020-01-28 23:48:00 | 2020-02-11 22:35:00+00:00 |  5088.00 |  5 |\n",
       "| JCe9ddd4  | 131281150620 | 36 | 2020-03-31 | 172.72 | 144.50 | 2020-01-28 23:48:00 | 2020-02-13 16:26:00+00:00 |  5097.04 |  5 |\n",
       "| JCea3866  | 131179616702 | 32 | 2020-03-31 | 140.00 |  44.75 | 2016-02-16 04:05:00 | 2016-02-16 05:17:00+00:00 |  1527.35 | 13 |\n",
       "| JCea3866  | 131179616702 | 32 | 2020-03-31 | 140.00 |  44.75 | 2016-02-16 04:05:00 | 2016-02-16 15:35:00+00:00 |  1636.70 | 13 |\n",
       "| JCea3866  | 131179616702 | 32 | 2020-03-31 | 140.00 |  44.75 | 2016-02-16 04:05:00 | 2016-02-16 19:16:00+00:00 |  1594.37 | 13 |\n",
       "| JCea3866  | 131179616702 | 32 | 2020-03-31 | 140.00 |  44.75 | 2016-02-16 04:05:00 | 2016-02-16 20:41:00+00:00 |  1590.84 | 13 |\n",
       "| JCea3866  | 131179616702 | 32 | 2020-03-31 | 140.00 |  44.75 | 2016-02-16 04:05:00 | 2016-02-17 00:19:00+00:00 |  1537.93 | 13 |\n",
       "| JCea3866  | 131179616702 | 32 | 2020-03-31 | 140.00 |  44.75 | 2016-02-16 04:05:00 | 2016-02-18 00:23:00+00:00 |  1534.40 | 13 |\n",
       "| JCea3866  | 131179616702 | 32 | 2020-03-31 | 140.00 |  44.75 | 2016-02-16 04:05:00 | 2016-02-18 11:54:00+00:00 |  1530.87 | 13 |\n",
       "| JCea3866  | 131179616702 | 32 | 2020-03-31 | 140.00 |  44.75 | 2016-02-16 04:05:00 | 2016-02-19 00:42:00+00:00 |  1534.40 | 13 |\n",
       "| JCea3866  | 131179616702 | 32 | 2020-03-31 | 140.00 |  44.75 | 2016-02-16 04:05:00 | 2016-02-19 11:36:00+00:00 |  1552.04 | 13 |\n",
       "| JCea3866  | 131179616702 | 32 | 2020-03-31 | 140.00 |  44.75 | 2016-02-16 04:05:00 | 2016-02-19 23:55:00+00:00 |  1559.09 | 13 |\n",
       "| JCea3866  | 131179616702 | 32 | 2020-03-31 | 140.00 |  44.75 | 2016-02-16 04:05:00 | 2016-02-20 10:29:00+00:00 |  1520.29 | 13 |\n",
       "| JCea3866  | 131179616702 | 32 | 2020-03-31 | 140.00 |  44.75 | 2016-02-16 04:05:00 | 2016-02-21 00:09:00+00:00 |  1530.87 | 13 |\n",
       "| JCea3866  | 131179616702 | 32 | 2020-03-31 | 140.00 |  44.75 | 2016-02-16 04:05:00 | 2016-02-21 11:35:00+00:00 |  1534.40 | 13 |\n",
       "| JCea3866  | 131188622303 | 32 | 2020-03-31 | 140.00 |  44.75 | 2016-05-26 10:08:00 | 2016-05-26 14:38:00+00:00 |  1781.32 | 22 |\n",
       "| JCea3866  | 131188622303 | 32 | 2020-03-31 | 140.00 |  44.75 | 2016-05-26 10:08:00 | 2016-05-27 00:37:00+00:00 |  1876.56 | 22 |\n",
       "| JCea3866  | 131188622303 | 32 | 2020-03-31 | 140.00 |  44.75 | 2016-05-26 10:08:00 | 2016-05-27 11:49:00+00:00 |  1883.61 | 22 |\n",
       "| JCea3866  | 131188622303 | 32 | 2020-03-31 | 140.00 |  44.75 | 2016-05-26 10:08:00 | 2016-05-27 23:15:00+00:00 |  1900.80 | 22 |\n",
       "| JCea3866  | 131188622303 | 32 | 2020-03-31 | 140.00 |  44.75 | 2016-05-26 10:08:00 | 2016-05-28 10:20:00+00:00 |  1820.12 | 22 |\n",
       "| JCea3866  | 131188622303 | 32 | 2020-03-31 | 140.00 |  44.75 | 2016-05-26 10:08:00 | 2016-05-28 23:32:00+00:00 |  1827.20 | 22 |\n",
       "| JCea3866  | 131188622303 | 32 | 2020-03-31 | 140.00 |  44.75 | 2016-05-26 10:08:00 | 2016-05-29 11:37:00+00:00 |  1809.54 | 22 |\n",
       "| JCea3866  | 131188622303 | 32 | 2020-03-31 | 140.00 |  44.75 | 2016-05-26 10:08:00 | 2016-05-29 22:18:00+00:00 |  1843.20 | 22 |\n",
       "| JCea3866  | 131188622303 | 32 | 2020-03-31 | 140.00 |  44.75 | 2016-05-26 10:08:00 | 2016-05-30 11:35:00+00:00 |  1851.86 | 22 |\n",
       "| JCea3866  | 131188622303 | 32 | 2020-03-31 | 140.00 |  44.75 | 2016-05-26 10:08:00 | 2016-05-30 22:51:00+00:00 |  1798.95 | 22 |\n",
       "| JCea3866  | 131188622303 | 32 | 2020-03-31 | 140.00 |  44.75 | 2016-05-26 10:08:00 | 2016-05-31 11:48:00+00:00 |  1788.37 | 22 |\n",
       "| JCea3866  | 131188622303 | 32 | 2020-03-31 | 140.00 |  44.75 | 2016-05-26 10:08:00 | 2016-05-31 22:35:00+00:00 |  1803.20 | 22 |\n",
       "| JCea3866  | 131188622303 | 32 | 2020-03-31 | 140.00 |  44.75 | 2016-05-26 10:08:00 | 2016-06-01 10:25:00+00:00 |  1809.54 | 22 |\n",
       "| JCea3866  | 131188622303 | 32 | 2020-03-31 | 140.00 |  44.75 | 2016-05-26 10:08:00 | 2016-06-02 02:14:00+00:00 |  1862.45 | 22 |\n",
       "| JCea3866  | 131188622303 | 32 | 2020-03-31 | 140.00 |  44.75 | 2016-05-26 10:08:00 | 2016-06-02 11:40:00+00:00 |  1830.70 | 22 |\n",
       "| JCea3866  | 131188622303 | 32 | 2020-03-31 | 140.00 |  44.75 | 2016-05-26 10:08:00 | 2016-06-02 23:02:00+00:00 |  1868.80 | 22 |\n",
       "| JCea3866  | 131188622303 | 32 | 2020-03-31 | 140.00 |  44.75 | 2016-05-26 10:08:00 | 2016-06-03 10:31:00+00:00 |  1869.50 | 22 |\n",
       "| JCea3866  | 131188622303 | 32 | 2020-03-31 | 140.00 |  44.75 | 2016-05-26 10:08:00 | 2016-06-04 11:51:00+00:00 |  1869.50 | 22 |\n",
       "| JCea3866  | 131188622303 | 32 | 2020-03-31 | 140.00 |  44.75 | 2016-05-26 10:08:00 | 2016-06-04 23:22:00+00:00 |  1876.56 | 22 |\n",
       "| JCea3866  | 131188622303 | 32 | 2020-03-31 | 140.00 |  44.75 | 2016-05-26 10:08:00 | 2016-06-05 12:10:00+00:00 |  1809.54 | 22 |\n",
       "| JCea3866  | 131188622303 | 32 | 2020-03-31 | 140.00 |  44.75 | 2016-05-26 10:08:00 | 2016-06-05 22:59:00+00:00 |  1848.34 | 22 |\n",
       "| JCea3866  | 131188622303 | 32 | 2020-03-31 | 140.00 |  44.75 | 2016-05-26 10:08:00 | 2016-06-06 11:45:00+00:00 |  1795.43 | 22 |\n",
       "| JCea3866  | 131216538201 | 32 | 2020-03-31 | 140.00 |  44.75 | 2017-01-19 12:16:00 | 2017-01-19 03:33:00+00:00 |   790.40 |  4 |\n",
       "| JCea3866  | 131216538201 | 32 | 2020-03-31 | 140.00 |  44.75 | 2017-01-19 12:16:00 | 2017-01-19 20:12:00+00:00 |  1760.00 |  4 |\n",
       "| JCea3866  | 131216538201 | 32 | 2020-03-31 | 140.00 |  44.75 | 2017-01-19 12:16:00 | 2017-01-21 12:37:00+00:00 |  1689.61 |  4 |\n",
       "| JCea3866  | 131216538201 | 32 | 2020-03-31 | 140.00 |  44.75 | 2017-01-19 12:16:00 | 2017-01-22 04:53:00+00:00 |  1717.82 |  4 |\n",
       "| JCea3866  | 131278900531 | 35 | 2020-03-31 | 140.00 |  44.75 | 2019-10-26 07:00:00 | 2019-10-26 01:23:00+00:00 |  1590.84 | 12 |\n",
       "| JCea3866  | 131278900531 | 35 | 2020-03-31 | 140.00 |  44.75 | 2019-10-26 07:00:00 | 2019-10-26 08:00:00+00:00 |  1552.04 | 12 |\n",
       "| JCea3866  | 131278900531 | 35 | 2020-03-31 | 140.00 |  44.75 | 2019-10-26 07:00:00 | 2019-10-26 23:00:00+00:00 |  1597.89 | 12 |\n",
       "| JCea3866  | 131278900531 | 35 | 2020-03-31 | 140.00 |  44.75 | 2019-10-26 07:00:00 | 2019-10-27 11:00:00+00:00 |  1583.78 | 12 |\n",
       "| JCea3866  | 131278900531 | 35 | 2020-03-31 | 140.00 |  44.75 | 2019-10-26 07:00:00 | 2019-10-27 23:00:00+00:00 |  1573.20 | 12 |\n",
       "| JCea3866  | 131278900531 | 35 | 2020-03-31 | 140.00 |  44.75 | 2019-10-26 07:00:00 | 2019-10-28 05:30:00+00:00 |  1566.15 | 12 |\n",
       "| JCea3866  | 131278900531 | 35 | 2020-03-31 | 140.00 |  44.75 | 2019-10-26 07:00:00 | 2019-10-28 11:05:00+00:00 |  1603.20 | 12 |\n",
       "| JCea3866  | 131278900531 | 35 | 2020-03-31 | 140.00 |  44.75 | 2019-10-26 07:00:00 | 2019-10-28 21:34:00+00:00 |  1587.31 | 12 |\n",
       "| JCea3866  | 131278900531 | 35 | 2020-03-31 | 140.00 |  44.75 | 2019-10-26 07:00:00 | 2019-10-28 22:57:00+00:00 |  1632.00 | 12 |\n",
       "| JCea3866  | 131278900531 | 35 | 2020-03-31 | 140.00 |  44.75 | 2019-10-26 07:00:00 | 2019-10-29 11:00:00+00:00 |  1654.40 | 12 |\n",
       "| JCea3866  | 131278900531 | 35 | 2020-03-31 | 140.00 |  44.75 | 2019-10-26 07:00:00 | 2019-10-29 11:07:00+00:00 |  1597.89 | 12 |\n",
       "| JCea3866  | 131278900531 | 35 | 2020-03-31 | 140.00 |  44.75 | 2019-10-26 07:00:00 | 2019-10-29 22:49:00+00:00 |  1615.53 | 12 |\n",
       "\n"
      ],
      "text/plain": [
       "    anon_id   pat_enc_csn_id_coded age recent_date recent_height_cm\n",
       "1   JC2a0784f 131072025806         33  2020-03-05  167.64          \n",
       "2   JC2a0784f 131072025806         33  2020-03-05  167.64          \n",
       "3   JC2a0784f 131072025806         33  2020-03-05  167.64          \n",
       "4   JC2a0784f 131242882845         36  2020-03-05  167.64          \n",
       "5   JC2a0784f 131242882845         36  2020-03-05  167.64          \n",
       "6   JCcbb4b8  131075411816         44  2019-01-01  165.10          \n",
       "7   JCcbb4b8  131075411816         44  2019-01-01  165.10          \n",
       "8   JCcbb4b8  131075411816         44  2019-01-01  165.10          \n",
       "9   JCcbb4b8  131075411816         44  2019-01-01  165.10          \n",
       "10  JCcbb4b8  131196826960         45  2019-01-01  165.10          \n",
       "11  JCcbb4b8  131196826960         45  2019-01-01  165.10          \n",
       "12  JCcbb4b8  131196826960         45  2019-01-01  165.10          \n",
       "13  JCcbb4b8  131216914159         46  2019-01-01  165.10          \n",
       "14  JCcbb4b8  131216914159         46  2019-01-01  165.10          \n",
       "15  JCcbb4b8  131216914159         46  2019-01-01  165.10          \n",
       "16  JCcbb4b8  131216914159         46  2019-01-01  165.10          \n",
       "17  JCcbb4b8  131216914159         46  2019-01-01  165.10          \n",
       "18  JCcbb4b8  131216914159         46  2019-01-01  165.10          \n",
       "19  JCcbb4b8  131216914159         46  2019-01-01  165.10          \n",
       "20  JCcbb4b8  131216914159         46  2019-01-01  165.10          \n",
       "21  JCcbb4b8  131216914159         46  2019-01-01  165.10          \n",
       "22  JCcbb4b8  131216914159         46  2019-01-01  165.10          \n",
       "23  JCcbb4b8  131216914159         46  2019-01-01  165.10          \n",
       "24  JCcbfbc8  131243660291         76  2019-01-01  156.50          \n",
       "25  JCcbfbc8  131243660291         76  2019-01-01  156.50          \n",
       "26  JCcbfbc8  131243660291         76  2019-01-01  156.50          \n",
       "27  JCcbfbc8  131256866342         77  2019-01-01  156.50          \n",
       "28  JCcbfbc8  131256866342         77  2019-01-01  156.50          \n",
       "29  JCcbfbc8  131256866342         77  2019-01-01  156.50          \n",
       "30  JCcbfbc8  131256866342         77  2019-01-01  156.50          \n",
       "31  JCcbfbc8  131256866342         77  2019-01-01  156.50          \n",
       "32  JCcbfbc8  131256866342         77  2019-01-01  156.50          \n",
       "33  JCcbfbc8  131256866342         77  2019-01-01  156.50          \n",
       "34  JCcbfbc8  131256866342         77  2019-01-01  156.50          \n",
       "35  JCd0500f  131186131047         66  2020-03-31  165.10          \n",
       "36  JCd0500f  131277983176         69  2020-03-31  165.10          \n",
       "37  JCd262e1  131081523555         63  2020-02-24  152.40          \n",
       "38  JCd262e1  131081523555         63  2020-02-24  152.40          \n",
       "39  JCd262e1  131081523555         63  2020-02-24  152.40          \n",
       "40  JCd262e1  131081523555         63  2020-02-24  152.40          \n",
       "41  JCd262e1  131081523555         63  2020-02-24  152.40          \n",
       "42  JCd262e1  131200325194         64  2020-02-24  152.40          \n",
       "43  JCd262e1  131200325194         64  2020-02-24  152.40          \n",
       "44  JCd262e1  131200325194         64  2020-02-24  152.40          \n",
       "45  JCd262e1  131245262535         66  2020-02-24  152.40          \n",
       "46  JCd262e1  131245262535         66  2020-02-24  152.40          \n",
       "47  JCd262e1  131245262535         66  2020-02-24  152.40          \n",
       "48  JCd262e1  131245262535         66  2020-02-24  152.40          \n",
       "49  JCd262e1  131274595388         67  2020-02-24  152.40          \n",
       "50  JCd262e1  131274595388         67  2020-02-24  152.40          \n",
       "51  JCd262e1  131274595388         67  2020-02-24  152.40          \n",
       "52  JCd262e1  131280049641         67  2020-02-24  152.40          \n",
       "53  JCd262e1  131281388100         68  2020-02-24  152.40          \n",
       "54  JCd84277  131090908463         21  2019-11-24  160.02          \n",
       "55  JCd84277  131090908463         21  2019-11-24  160.02          \n",
       "56  JCd84277  131090908463         21  2019-11-24  160.02          \n",
       "57  JCd84277  131090908463         21  2019-11-24  160.02          \n",
       "58  JCd84277  131090908463         21  2019-11-24  160.02          \n",
       "59  JCd99e71  131214625562         49  2019-11-16  193.00          \n",
       "60  JCd99e71  131214625562         49  2019-11-16  193.00          \n",
       "61  JCdab6fa  131255981015         80  2019-01-13  149.90          \n",
       "62  JCdab6fa  131255981015         80  2019-01-13  149.90          \n",
       "63  JCdab6fa  131255981015         80  2019-01-13  149.90          \n",
       "64  JCdab6fa  131255981015         80  2019-01-13  149.90          \n",
       "65  JCdba730  131262687726         34  2020-03-31  157.48          \n",
       "66  JCdba730  131262687726         34  2020-03-31  157.48          \n",
       "67  JCdba730  131262687726         34  2020-03-31  157.48          \n",
       "68  JCdba730  131262687726         34  2020-03-31  157.48          \n",
       "69  JCdba730  131262687726         34  2020-03-31  157.48          \n",
       "70  JCdba730  131262687726         34  2020-03-31  157.48          \n",
       "71  JCdba730  131279798635         35  2020-03-31  157.48          \n",
       "72  JCdba730  131279798635         35  2020-03-31  157.48          \n",
       "73  JCdba730  131279798635         35  2020-03-31  157.48          \n",
       "74  JCdba730  131279798635         35  2020-03-31  157.48          \n",
       "75  JCdba730  131279798635         35  2020-03-31  157.48          \n",
       "76  JCdba730  131279798635         35  2020-03-31  157.48          \n",
       "77  JCdba730  131279798635         35  2020-03-31  157.48          \n",
       "78  JCdba730  131279798635         35  2020-03-31  157.48          \n",
       "79  JCdba730  131279798635         35  2020-03-31  157.48          \n",
       "80  JCdba730  131279798635         35  2020-03-31  157.48          \n",
       "81  JCdba730  131279798635         35  2020-03-31  157.48          \n",
       "82  JCdba730  131279798635         35  2020-03-31  157.48          \n",
       "83  JCdba730  131279798635         35  2020-03-31  157.48          \n",
       "84  JCdba730  131279798635         35  2020-03-31  157.48          \n",
       "85  JCdba730  131279798635         35  2020-03-31  157.48          \n",
       "86  JCdba730  131279798635         35  2020-03-31  157.48          \n",
       "87  JCdba730  131279798635         35  2020-03-31  157.48          \n",
       "88  JCe01e50  131188059708         86  2020-03-31  177.80          \n",
       "89  JCe01e50  131188059708         86  2020-03-31  177.80          \n",
       "90  JCe01e50  131241586651         88  2020-03-31  177.80          \n",
       "91  JCe01e50  131267200353         89  2020-03-31  177.80          \n",
       "92  JCe01e50  131269279849         89  2020-03-31  177.80          \n",
       "93  JCe01e50  131269279849         89  2020-03-31  177.80          \n",
       "94  JCe01e50  131269279849         89  2020-03-31  177.80          \n",
       "95  JCe01e50  131278402456         90  2020-03-31  177.80          \n",
       "96  JCe01e50  131278402456         90  2020-03-31  177.80          \n",
       "97  JCe01e50  131278402456         90  2020-03-31  177.80          \n",
       "98  JCe01e50  131278402456         90  2020-03-31  177.80          \n",
       "99  JCe01e50  131281393511         90  2020-03-31  177.80          \n",
       "100 JCe01e50  131281393511         90  2020-03-31  177.80          \n",
       "101 JCe48b36  131249121514         68  2019-12-19  190.50          \n",
       "102 JCe48b36  131249121514         68  2019-12-19  190.50          \n",
       "103 JCe48b36  131249121514         68  2019-12-19  190.50          \n",
       "104 JCe48b36  131249121514         68  2019-12-19  190.50          \n",
       "105 JCe48b36  131249121514         68  2019-12-19  190.50          \n",
       "106 JCe48b36  131249121514         68  2019-12-19  190.50          \n",
       "107 JCe48b36  131249121514         68  2019-12-19  190.50          \n",
       "108 JCe48b36  131249121514         68  2019-12-19  190.50          \n",
       "109 JCe48b36  131249121514         68  2019-12-19  190.50          \n",
       "110 JCe48b36  131249121514         68  2019-12-19  190.50          \n",
       "111 JCe48b36  131249121514         68  2019-12-19  190.50          \n",
       "112 JCe48b36  131249121514         68  2019-12-19  190.50          \n",
       "113 JCe48b36  131255596987         68  2019-12-19  190.50          \n",
       "114 JCe48b36  131255596987         68  2019-12-19  190.50          \n",
       "115 JCe48b36  131255596987         68  2019-12-19  190.50          \n",
       "116 JCe48b36  131255596987         68  2019-12-19  190.50          \n",
       "117 JCe48b36  131255596987         68  2019-12-19  190.50          \n",
       "118 JCe48b36  131255596987         68  2019-12-19  190.50          \n",
       "119 JCe48b36  131255596987         68  2019-12-19  190.50          \n",
       "120 JCe48b36  131255596987         68  2019-12-19  190.50          \n",
       "121 JCe48b36  131255596987         68  2019-12-19  190.50          \n",
       "122 JCe48b36  131255596987         68  2019-12-19  190.50          \n",
       "123 JCe48b36  131264610606         69  2019-12-19  190.50          \n",
       "124 JCe61cfe  131281143011         30  2020-03-13  167.60          \n",
       "125 JCe61cfe  131281143011         30  2020-03-13  167.60          \n",
       "126 JCe61cfe  131281143011         30  2020-03-13  167.60          \n",
       "127 JCe61cfe  131281143011         30  2020-03-13  167.60          \n",
       "128 JCe61cfe  131281143011         30  2020-03-13  167.60          \n",
       "129 JCe61cfe  131281143011         30  2020-03-13  167.60          \n",
       "130 JCe61cfe  131281143011         30  2020-03-13  167.60          \n",
       "131 JCe61cfe  131281143011         30  2020-03-13  167.60          \n",
       "132 JCe61cfe  131281143011         30  2020-03-13  167.60          \n",
       "133 JCe61cfe  131281143011         30  2020-03-13  167.60          \n",
       "134 JCe61cfe  131281143011         30  2020-03-13  167.60          \n",
       "135 JCe61cfe  131281143011         30  2020-03-13  167.60          \n",
       "136 JCe61cfe  131281143011         30  2020-03-13  167.60          \n",
       "137 JCe61cfe  131281143011         30  2020-03-13  167.60          \n",
       "138 JCe61cfe  131281143011         30  2020-03-13  167.60          \n",
       "139 JCe61cfe  131281143011         30  2020-03-13  167.60          \n",
       "140 JCe61cfe  131281143011         30  2020-03-13  167.60          \n",
       "141 JCe61cfe  131281143011         30  2020-03-13  167.60          \n",
       "142 JCe61cfe  131281143011         30  2020-03-13  167.60          \n",
       "143 JCe61cfe  131281143011         30  2020-03-13  167.60          \n",
       "144 JCe61cfe  131281143011         30  2020-03-13  167.60          \n",
       "145 JCe61cfe  131281143011         30  2020-03-13  167.60          \n",
       "146 JCe61cfe  131281143011         30  2020-03-13  167.60          \n",
       "147 JCe61cfe  131281143011         30  2020-03-13  167.60          \n",
       "148 JCe61cfe  131281143011         30  2020-03-13  167.60          \n",
       "149 JCe61cfe  131281143011         30  2020-03-13  167.60          \n",
       "150 JCe61cfe  131281143011         30  2020-03-13  167.60          \n",
       "151 JCe61cfe  131281143011         30  2020-03-13  167.60          \n",
       "152 JCe61cfe  131281143011         30  2020-03-13  167.60          \n",
       "153 JCe8a3e5  131251139412         79  2019-01-01  177.80          \n",
       "154 JCe8a3e5  131251139412         79  2019-01-01  177.80          \n",
       "155 JCe8a3e5  131251139412         79  2019-01-01  177.80          \n",
       "156 JCe8a3e5  131251139412         79  2019-01-01  177.80          \n",
       "157 JCe8a3e5  131251139412         79  2019-01-01  177.80          \n",
       "158 JCe8a3e5  131251139412         79  2019-01-01  177.80          \n",
       "159 JCe8a3e5  131251139412         79  2019-01-01  177.80          \n",
       "160 JCe8a3e5  131251139412         79  2019-01-01  177.80          \n",
       "161 JCe8a3e5  131251139412         79  2019-01-01  177.80          \n",
       "162 JCe8a3e5  131251139412         79  2019-01-01  177.80          \n",
       "163 JCe8a3e5  131251139412         79  2019-01-01  177.80          \n",
       "164 JCe8a3e5  131251139412         79  2019-01-01  177.80          \n",
       "165 JCe8a3e5  131254274197         79  2019-01-01  177.80          \n",
       "166 JCe8a3e5  131254274197         79  2019-01-01  177.80          \n",
       "167 JCe8a3e5  131254274197         79  2019-01-01  177.80          \n",
       "168 JCe8a3e5  131254274197         79  2019-01-01  177.80          \n",
       "169 JCe8a3e5  131254274197         79  2019-01-01  177.80          \n",
       "170 JCe8a3e5  131255133973         79  2019-01-01  177.80          \n",
       "171 JCe8a3e5  131255133973         79  2019-01-01  177.80          \n",
       "172 JCe8a3e5  131255133973         79  2019-01-01  177.80          \n",
       "173 JCe8a3e5  131260358139         79  2019-01-01  177.80          \n",
       "174 JCe8a3e5  131260358139         79  2019-01-01  177.80          \n",
       "175 JCe8a3e5  131260358139         79  2019-01-01  177.80          \n",
       "176 JCe8a3e5  131260358139         79  2019-01-01  177.80          \n",
       "177 JCe8a3e5  131260358139         79  2019-01-01  177.80          \n",
       "178 JCe8a3e5  131260358139         79  2019-01-01  177.80          \n",
       "179 JCe8a3e5  131260358139         79  2019-01-01  177.80          \n",
       "180 JCe9ddd4  131281150620         36  2020-03-31  172.72          \n",
       "181 JCe9ddd4  131281150620         36  2020-03-31  172.72          \n",
       "182 JCe9ddd4  131281150620         36  2020-03-31  172.72          \n",
       "183 JCe9ddd4  131281150620         36  2020-03-31  172.72          \n",
       "184 JCe9ddd4  131281150620         36  2020-03-31  172.72          \n",
       "185 JCea3866  131179616702         32  2020-03-31  140.00          \n",
       "186 JCea3866  131179616702         32  2020-03-31  140.00          \n",
       "187 JCea3866  131179616702         32  2020-03-31  140.00          \n",
       "188 JCea3866  131179616702         32  2020-03-31  140.00          \n",
       "189 JCea3866  131179616702         32  2020-03-31  140.00          \n",
       "190 JCea3866  131179616702         32  2020-03-31  140.00          \n",
       "191 JCea3866  131179616702         32  2020-03-31  140.00          \n",
       "192 JCea3866  131179616702         32  2020-03-31  140.00          \n",
       "193 JCea3866  131179616702         32  2020-03-31  140.00          \n",
       "194 JCea3866  131179616702         32  2020-03-31  140.00          \n",
       "195 JCea3866  131179616702         32  2020-03-31  140.00          \n",
       "196 JCea3866  131179616702         32  2020-03-31  140.00          \n",
       "197 JCea3866  131179616702         32  2020-03-31  140.00          \n",
       "198 JCea3866  131188622303         32  2020-03-31  140.00          \n",
       "199 JCea3866  131188622303         32  2020-03-31  140.00          \n",
       "200 JCea3866  131188622303         32  2020-03-31  140.00          \n",
       "201 JCea3866  131188622303         32  2020-03-31  140.00          \n",
       "202 JCea3866  131188622303         32  2020-03-31  140.00          \n",
       "203 JCea3866  131188622303         32  2020-03-31  140.00          \n",
       "204 JCea3866  131188622303         32  2020-03-31  140.00          \n",
       "205 JCea3866  131188622303         32  2020-03-31  140.00          \n",
       "206 JCea3866  131188622303         32  2020-03-31  140.00          \n",
       "207 JCea3866  131188622303         32  2020-03-31  140.00          \n",
       "208 JCea3866  131188622303         32  2020-03-31  140.00          \n",
       "209 JCea3866  131188622303         32  2020-03-31  140.00          \n",
       "210 JCea3866  131188622303         32  2020-03-31  140.00          \n",
       "211 JCea3866  131188622303         32  2020-03-31  140.00          \n",
       "212 JCea3866  131188622303         32  2020-03-31  140.00          \n",
       "213 JCea3866  131188622303         32  2020-03-31  140.00          \n",
       "214 JCea3866  131188622303         32  2020-03-31  140.00          \n",
       "215 JCea3866  131188622303         32  2020-03-31  140.00          \n",
       "216 JCea3866  131188622303         32  2020-03-31  140.00          \n",
       "217 JCea3866  131188622303         32  2020-03-31  140.00          \n",
       "218 JCea3866  131188622303         32  2020-03-31  140.00          \n",
       "219 JCea3866  131188622303         32  2020-03-31  140.00          \n",
       "220 JCea3866  131216538201         32  2020-03-31  140.00          \n",
       "221 JCea3866  131216538201         32  2020-03-31  140.00          \n",
       "222 JCea3866  131216538201         32  2020-03-31  140.00          \n",
       "223 JCea3866  131216538201         32  2020-03-31  140.00          \n",
       "224 JCea3866  131278900531         35  2020-03-31  140.00          \n",
       "225 JCea3866  131278900531         35  2020-03-31  140.00          \n",
       "226 JCea3866  131278900531         35  2020-03-31  140.00          \n",
       "227 JCea3866  131278900531         35  2020-03-31  140.00          \n",
       "228 JCea3866  131278900531         35  2020-03-31  140.00          \n",
       "229 JCea3866  131278900531         35  2020-03-31  140.00          \n",
       "230 JCea3866  131278900531         35  2020-03-31  140.00          \n",
       "231 JCea3866  131278900531         35  2020-03-31  140.00          \n",
       "232 JCea3866  131278900531         35  2020-03-31  140.00          \n",
       "233 JCea3866  131278900531         35  2020-03-31  140.00          \n",
       "234 JCea3866  131278900531         35  2020-03-31  140.00          \n",
       "235 JCea3866  131278900531         35  2020-03-31  140.00          \n",
       "    recent_weight_kg admit_time          recorded_time             Weight   nWe\n",
       "1   232.10           2015-01-21 21:24:00 2015-01-21 04:27:00+00:00  6816.00  3 \n",
       "2   232.10           2015-01-21 21:24:00 2015-01-22 22:30:00+00:00  7647.32  3 \n",
       "3   232.10           2015-01-21 21:24:00 2015-01-23 22:12:00+00:00  7562.66  3 \n",
       "4   232.10           2017-12-12 14:17:00 2017-12-12 06:37:00+00:00  8640.00  2 \n",
       "5   232.10           2017-12-12 14:17:00 2017-12-12 11:53:00+00:00  7368.66  2 \n",
       "6    57.90           2015-02-17 06:42:00 2015-02-17 23:09:00+00:00  1869.50  4 \n",
       "7    57.90           2015-02-17 06:42:00 2015-02-18 15:49:00+00:00  1862.45  4 \n",
       "8    57.90           2015-02-17 06:42:00 2015-02-19 16:57:00+00:00  1841.28  4 \n",
       "9    57.90           2015-02-17 06:42:00 2015-02-20 16:45:00+00:00  1798.95  4 \n",
       "10   57.90           2016-08-12 00:50:00 2016-08-12 02:30:00+00:00  1802.48  3 \n",
       "11   57.90           2016-08-12 00:50:00 2016-08-12 15:36:00+00:00  1802.48  3 \n",
       "12   57.90           2016-08-12 00:50:00 2016-08-12 15:55:00+00:00  1784.84  3 \n",
       "13   57.90           2017-01-17 00:30:00 2017-01-17 04:00:00+00:00   840.00 11 \n",
       "14   57.90           2017-01-17 00:30:00 2017-01-17 16:01:00+00:00  1806.01 11 \n",
       "15   57.90           2017-01-17 00:30:00 2017-01-18 15:01:00+00:00  1876.56 11 \n",
       "16   57.90           2017-01-17 00:30:00 2017-01-18 16:30:00+00:00  1869.50 11 \n",
       "17   57.90           2017-01-17 00:30:00 2017-01-19 17:20:00+00:00  1813.06 11 \n",
       "18   57.90           2017-01-17 00:30:00 2017-01-20 16:14:00+00:00  1763.68 11 \n",
       "19   57.90           2017-01-17 00:30:00 2017-01-21 17:58:00+00:00  1795.43 11 \n",
       "20   57.90           2017-01-17 00:30:00 2017-01-21 22:25:00+00:00  1788.37 11 \n",
       "21   57.90           2017-01-17 00:30:00 2017-01-22 14:10:00+00:00  1742.52 11 \n",
       "22   57.90           2017-01-17 00:30:00 2017-01-23 12:57:00+00:00  1746.04 11 \n",
       "23   57.90           2017-01-17 00:30:00 2017-01-24 13:52:00+00:00  1735.46 11 \n",
       "24   55.60           2018-01-06 02:32:00 2018-01-06 04:20:00+00:00  2183.44  3 \n",
       "25   55.60           2018-01-06 02:32:00 2018-01-06 13:00:00+00:00  2183.44  3 \n",
       "26   55.60           2018-01-06 02:32:00 2018-01-06 17:00:00+00:00  2186.96  3 \n",
       "27   55.60           2018-09-03 20:20:00 2018-09-06 06:00:00+00:00   789.42  8 \n",
       "28   55.60           2018-09-03 20:20:00 2018-09-06 21:15:00+00:00  2072.00  8 \n",
       "29   55.60           2018-09-03 20:20:00 2018-09-08 21:09:00+00:00  2179.20  8 \n",
       "30   55.60           2018-09-03 20:20:00 2018-09-09 10:32:00+00:00  2211.65  8 \n",
       "31   55.60           2018-09-03 20:20:00 2018-09-10 13:27:00+00:00  2250.46  8 \n",
       "32   55.60           2018-09-03 20:20:00 2018-09-11 11:24:00+00:00  2271.62  8 \n",
       "33   55.60           2018-09-03 20:20:00 2018-09-11 21:02:00+00:00  2335.11  8 \n",
       "34   55.60           2018-09-03 20:20:00 2018-09-13 11:29:00+00:00  2345.69  8 \n",
       "35  123.20           2016-05-22 07:10:00 2016-05-22 07:43:00+00:00   987.66  1 \n",
       "36  123.20           2019-11-01 06:18:00 2019-11-01 01:53:00+00:00  4190.50  1 \n",
       "37  122.70           2015-03-09 11:02:00 2015-03-09 07:52:00+00:00  4800.00  5 \n",
       "38  122.70           2015-03-09 11:02:00 2015-03-09 11:18:00+00:00 11587.38  5 \n",
       "39  122.70           2015-03-09 11:02:00 2015-03-10 23:41:00+00:00  5231.07  5 \n",
       "40  122.70           2015-03-09 11:02:00 2015-03-11 14:52:00+00:00  5301.62  5 \n",
       "41  122.70           2015-03-09 11:02:00 2015-03-14 12:52:00+00:00  5280.46  5 \n",
       "42  122.70           2016-09-06 10:10:00 2016-09-07 16:25:00+00:00  4832.48  3 \n",
       "43  122.70           2016-09-06 10:10:00 2016-09-09 19:31:00+00:00  5072.34  3 \n",
       "44  122.70           2016-09-06 10:10:00 2016-09-10 16:44:00+00:00  5086.45  3 \n",
       "45  122.70           2018-01-18 18:05:00 2018-01-18 15:28:00+00:00  4800.00  4 \n",
       "46  122.70           2018-01-18 18:05:00 2018-01-18 23:43:00+00:00  4800.74  4 \n",
       "47  122.70           2018-01-18 18:05:00 2018-01-20 19:00:00+00:00  4776.05  4 \n",
       "48  122.70           2018-01-18 18:05:00 2018-01-21 17:13:00+00:00  4363.34  4 \n",
       "49  122.70           2019-07-29 18:08:00 2019-07-29 16:00:00+00:00  4811.32  3 \n",
       "50  122.70           2019-07-29 18:08:00 2019-07-30 03:38:00+00:00  4828.96  3 \n",
       "51  122.70           2019-07-29 18:08:00 2019-08-02 13:00:00+00:00  4740.77  3 \n",
       "52  122.70           2019-11-10 23:05:00 2019-11-10 19:41:00+00:00  4338.65  1 \n",
       "53  122.70           2019-12-11 17:13:00 2019-12-11 14:37:00+00:00  4328.07  1 \n",
       "54   43.00           2015-05-22 07:01:00 2015-05-22 15:21:00+00:00   871.26  5 \n",
       "55   43.00           2015-05-22 07:01:00 2015-05-23 16:00:00+00:00  1509.71  5 \n",
       "56   43.00           2015-05-22 07:01:00 2015-05-26 15:25:00+00:00  1481.49  5 \n",
       "57   43.00           2015-05-22 07:01:00 2015-05-28 15:00:00+00:00  1481.49  5 \n",
       "58   43.00           2015-05-22 07:01:00 2015-05-30 14:36:00+00:00  1470.91  5 \n",
       "59  220.80           2017-01-25 05:52:00 2017-01-25 08:06:00+00:00  7816.63  2 \n",
       "60  220.80           2017-01-25 05:52:00 2017-01-26 16:11:00+00:00  8056.49  2 \n",
       "61   57.38           2018-09-11 03:14:00 2018-09-11 05:00:00+00:00  2045.87  4 \n",
       "62   57.38           2018-09-11 03:14:00 2018-09-16 04:00:00+00:00   910.41  4 \n",
       "63   57.38           2018-09-11 03:14:00 2018-09-17 11:58:00+00:00  2096.00  4 \n",
       "64   57.38           2018-09-11 03:14:00 2018-09-20 12:00:00+00:00  2024.00  4 \n",
       "65   31.20           2019-01-17 03:10:00 2019-01-17 00:57:00+00:00  1375.67  6 \n",
       "66   31.20           2019-01-17 03:10:00 2019-01-20 01:00:00+00:00  1375.67  6 \n",
       "67   31.20           2019-01-17 03:10:00 2019-01-21 22:31:00+00:00  1375.67  6 \n",
       "68   31.20           2019-01-17 03:10:00 2019-01-23 01:15:00+00:00  1389.78  6 \n",
       "69   31.20           2019-01-17 03:10:00 2019-01-27 16:30:00+00:00  1421.53  6 \n",
       "70   31.20           2019-01-17 03:10:00 2019-01-28 16:19:00+00:00  1421.53  6 \n",
       "71   31.20           2019-11-22 05:03:00 2019-11-22 07:31:00+00:00  1167.56 17 \n",
       "72   31.20           2019-11-22 05:03:00 2019-11-25 00:20:00+00:00  1178.14 17 \n",
       "73   31.20           2019-11-22 05:03:00 2019-11-25 10:03:00+00:00  1178.14 17 \n",
       "74   31.20           2019-11-22 05:03:00 2019-11-27 14:01:00+00:00  1178.14 17 \n",
       "75   31.20           2019-11-22 05:03:00 2019-11-28 12:46:00+00:00  1178.14 17 \n",
       "76   31.20           2019-11-22 05:03:00 2019-12-01 09:20:00+00:00  1178.14 17 \n",
       "77   31.20           2019-11-22 05:03:00 2019-12-04 20:18:00+00:00  1389.78 17 \n",
       "78   31.20           2019-11-22 05:03:00 2019-12-08 14:03:00+00:00  1414.47 17 \n",
       "79   31.20           2019-11-22 05:03:00 2019-12-11 18:59:00+00:00  1414.47 17 \n",
       "80   31.20           2019-11-22 05:03:00 2019-12-11 19:00:00+00:00  1142.86 17 \n",
       "81   31.20           2019-11-22 05:03:00 2019-12-12 18:46:00+00:00  1100.54 17 \n",
       "82   31.20           2019-11-22 05:03:00 2019-12-13 18:46:00+00:00  1040.57 17 \n",
       "83   31.20           2019-11-22 05:03:00 2019-12-14 20:54:00+00:00  1005.30 17 \n",
       "84   31.20           2019-11-22 05:03:00 2019-12-18 01:23:00+00:00   971.52 17 \n",
       "85   31.20           2019-11-22 05:03:00 2019-12-22 14:20:00+00:00  1037.04 17 \n",
       "86   31.20           2019-11-22 05:03:00 2019-12-23 23:00:00+00:00  1040.57 17 \n",
       "87   31.20           2019-11-22 05:03:00 2019-12-25 20:30:00+00:00  1093.48 17 \n",
       "88   97.98           2016-05-25 02:49:00 2016-05-25 06:45:00+00:00  8324.57  2 \n",
       "89   97.98           2016-05-25 02:49:00 2016-05-25 15:15:00+00:00  3739.00  2 \n",
       "90   97.98           2017-11-07 08:30:00 2017-11-07 10:20:00+00:00  4028.80  1 \n",
       "91   97.98           2019-04-18 05:00:00 2019-04-18 06:55:00+00:00  3703.73  1 \n",
       "92   97.98           2019-05-29 04:47:00 2019-05-29 22:20:00+00:00  3830.71  3 \n",
       "93   97.98           2019-05-29 04:47:00 2019-05-30 14:35:00+00:00  3668.45  3 \n",
       "94   97.98           2019-05-29 04:47:00 2019-05-31 12:00:00+00:00  3661.40  3 \n",
       "95   97.98           2019-10-19 20:44:00 2019-10-19 17:00:00+00:00  3680.00  4 \n",
       "96   97.98           2019-10-19 20:44:00 2019-10-20 06:49:00+00:00  3661.40  4 \n",
       "97   97.98           2019-10-19 20:44:00 2019-10-20 13:27:00+00:00  3661.40  4 \n",
       "98   97.98           2019-10-19 20:44:00 2019-10-23 23:25:00+00:00  3392.00  4 \n",
       "99   97.98           2019-12-24 03:51:00 2019-12-24 06:58:00+00:00  3760.17  2 \n",
       "100  97.98           2019-12-24 03:51:00 2019-12-25 16:07:00+00:00  3661.40  2 \n",
       "101 117.75           2018-04-14 00:25:00 2018-04-14 01:17:00+00:00  6313.97 12 \n",
       "102 117.75           2018-04-14 00:25:00 2018-04-14 10:32:00+00:00  6155.24 12 \n",
       "103 117.75           2018-04-14 00:25:00 2018-04-15 13:30:00+00:00  6176.41 12 \n",
       "104 117.75           2018-04-14 00:25:00 2018-04-16 12:40:00+00:00  6021.20 12 \n",
       "105 117.75           2018-04-14 00:25:00 2018-04-16 15:01:00+00:00  6137.61 12 \n",
       "106 117.75           2018-04-14 00:25:00 2018-04-16 17:30:00+00:00  6060.00 12 \n",
       "107 117.75           2018-04-14 00:25:00 2018-04-17 13:00:00+00:00  7152.00 12 \n",
       "108 117.75           2018-04-14 00:25:00 2018-04-18 13:00:00+00:00  7056.00 12 \n",
       "109 117.75           2018-04-14 00:25:00 2018-04-19 13:30:00+00:00  6976.00 12 \n",
       "110 117.75           2018-04-14 00:25:00 2018-04-20 14:00:00+00:00  6208.00 12 \n",
       "111 117.75           2018-04-14 00:25:00 2018-04-30 12:30:00+00:00  3597.91 12 \n",
       "112 117.75           2018-04-14 00:25:00 2018-05-01 10:27:00+00:00  3597.91 12 \n",
       "113 117.75           2018-08-31 02:54:00 2018-08-31 00:46:00+00:00  9920.00 10 \n",
       "114 117.75           2018-08-31 02:54:00 2018-08-31 01:22:00+00:00  4928.00 10 \n",
       "115 117.75           2018-08-31 02:54:00 2018-08-31 06:14:00+00:00  5509.74 10 \n",
       "116 117.75           2018-08-31 02:54:00 2018-08-31 12:02:00+00:00  5477.99 10 \n",
       "117 117.75           2018-08-31 02:54:00 2018-09-06 11:00:00+00:00  4458.58 10 \n",
       "118 117.75           2018-08-31 02:54:00 2018-09-07 11:00:00+00:00  4380.98 10 \n",
       "119 117.75           2018-08-31 02:54:00 2018-09-08 10:30:00+00:00  4331.60 10 \n",
       "120 117.75           2018-08-31 02:54:00 2018-09-12 11:00:00+00:00  4380.98 10 \n",
       "121 117.75           2018-08-31 02:54:00 2018-09-14 11:00:00+00:00  4310.43 10 \n",
       "122 117.75           2018-08-31 02:54:00 2018-09-17 13:00:00+00:00  4409.20 10 \n",
       "123 117.75           2019-03-24 17:29:00 2019-03-24 19:40:00+00:00  4091.74  1 \n",
       "124 188.00           2020-01-09 13:56:00 2020-01-09 12:23:00+00:00  8077.65 29 \n",
       "125 188.00           2020-01-09 13:56:00 2020-01-09 23:00:00+00:00  7901.29 29 \n",
       "126 188.00           2020-01-09 13:56:00 2020-01-10 18:01:00+00:00  7664.95 29 \n",
       "127 188.00           2020-01-09 13:56:00 2020-01-15 14:00:00+00:00  7731.97 29 \n",
       "128 188.00           2020-01-09 13:56:00 2020-01-28 13:00:00+00:00  6440.96 29 \n",
       "129 188.00           2020-01-09 13:56:00 2020-01-29 14:00:00+00:00  6507.98 29 \n",
       "130 188.00           2020-01-09 13:56:00 2020-01-30 13:00:00+00:00  6440.96 29 \n",
       "131 188.00           2020-01-09 13:56:00 2020-01-31 13:45:00+00:00  6440.96 29 \n",
       "132 188.00           2020-01-09 13:56:00 2020-02-01 12:50:00+00:00  6582.05 29 \n",
       "133 188.00           2020-01-09 13:56:00 2020-02-02 13:12:00+00:00  6433.90 29 \n",
       "134 188.00           2020-01-09 13:56:00 2020-02-03 13:44:00+00:00  6518.56 29 \n",
       "135 188.00           2020-01-09 13:56:00 2020-02-04 17:00:00+00:00  6518.56 29 \n",
       "136 188.00           2020-01-09 13:56:00 2020-02-04 21:00:00+00:00  6518.56 29 \n",
       "137 188.00           2020-01-09 13:56:00 2020-02-05 13:46:00+00:00  6525.62 29 \n",
       "138 188.00           2020-01-09 13:56:00 2020-02-05 15:57:00+00:00  6388.05 29 \n",
       "139 188.00           2020-01-09 13:56:00 2020-02-06 09:15:00+00:00  6317.50 29 \n",
       "140 188.00           2020-01-09 13:56:00 2020-02-10 11:02:00+00:00  6264.59 29 \n",
       "141 188.00           2020-01-09 13:56:00 2020-02-11 18:35:00+00:00  6490.34 29 \n",
       "142 188.00           2020-01-09 13:56:00 2020-02-12 16:00:00+00:00  6627.91 29 \n",
       "143 188.00           2020-01-09 13:56:00 2020-02-13 13:20:00+00:00  6257.54 29 \n",
       "144 188.00           2020-01-09 13:56:00 2020-02-17 19:35:00+00:00  6352.78 29 \n",
       "145 188.00           2020-01-09 13:56:00 2020-02-19 14:51:00+00:00  7280.00 29 \n",
       "146 188.00           2020-01-09 13:56:00 2020-02-20 11:57:00+00:00  7024.00 29 \n",
       "147 188.00           2020-01-09 13:56:00 2020-02-22 21:55:00+00:00  6395.10 29 \n",
       "148 188.00           2020-01-09 13:56:00 2020-02-25 20:05:00+00:00  6427.20 29 \n",
       "149 188.00           2020-01-09 13:56:00 2020-02-28 02:46:00+00:00  6486.40 29 \n",
       "150 188.00           2020-01-09 13:56:00 2020-03-01 22:23:00+00:00  6580.80 29 \n",
       "151 188.00           2020-01-09 13:56:00 2020-03-05 12:11:00+00:00  6609.60 29 \n",
       "152 188.00           2020-01-09 13:56:00 2020-03-06 13:49:00+00:00  6631.44 29 \n",
       "153 131.90           2018-04-29 04:07:00 2018-04-29 01:38:00+00:00  4903.03 12 \n",
       "154 131.90           2018-04-29 04:07:00 2018-04-30 14:00:00+00:00  4903.03 12 \n",
       "155 131.90           2018-04-29 04:07:00 2018-05-07 12:00:00+00:00 10553.86 12 \n",
       "156 131.90           2018-04-29 04:07:00 2018-05-07 14:00:00+00:00  4787.20 12 \n",
       "157 131.90           2018-04-29 04:07:00 2018-05-12 11:40:00+00:00  4821.90 12 \n",
       "158 131.90           2018-04-29 04:07:00 2018-05-14 05:29:00+00:00  4955.94 12 \n",
       "159 131.90           2018-04-29 04:07:00 2018-05-16 00:00:00+00:00  4860.70 12 \n",
       "160 131.90           2018-04-29 04:07:00 2018-05-16 13:12:00+00:00  4821.90 12 \n",
       "161 131.90           2018-04-29 04:07:00 2018-05-17 12:00:00+00:00  4821.90 12 \n",
       "162 131.90           2018-04-29 04:07:00 2018-05-20 13:22:00+00:00  4821.90 12 \n",
       "163 131.90           2018-04-29 04:07:00 2018-05-25 15:00:00+00:00  4821.90 12 \n",
       "164 131.90           2018-04-29 04:07:00 2018-05-28 13:14:00+00:00  4486.80 12 \n",
       "165 131.90           2018-06-29 01:21:00 2018-06-28 23:45:00+00:00  4515.02  5 \n",
       "166 131.90           2018-06-29 01:21:00 2018-06-29 02:54:00+00:00  4522.08  5 \n",
       "167 131.90           2018-06-29 01:21:00 2018-06-29 14:00:00+00:00  4522.08  5 \n",
       "168 131.90           2018-06-29 01:21:00 2018-06-30 18:39:00+00:00  4522.08  5 \n",
       "169 131.90           2018-06-29 01:21:00 2018-07-01 14:49:00+00:00  4645.53  5 \n",
       "170 131.90           2018-07-20 05:13:00 2018-07-19 20:48:00+00:00  4480.00  3 \n",
       "171 131.90           2018-07-20 05:13:00 2018-07-20 07:15:00+00:00  4574.99  3 \n",
       "172 131.90           2018-07-20 05:13:00 2018-07-23 12:30:00+00:00  4733.72  3 \n",
       "173 131.90           2018-11-11 00:19:00 2018-11-11 00:11:00+00:00  4733.72  7 \n",
       "174 131.90           2018-11-11 00:19:00 2018-11-14 18:11:00+00:00  4455.06  7 \n",
       "175 131.90           2018-11-11 00:19:00 2018-11-16 14:03:00+00:00  4634.95  7 \n",
       "176 131.90           2018-11-11 00:19:00 2018-11-17 11:44:00+00:00  4624.37  7 \n",
       "177 131.90           2018-11-11 00:19:00 2018-11-19 11:34:00+00:00  4659.64  7 \n",
       "178 131.90           2018-11-11 00:19:00 2018-11-22 12:11:00+00:00  4687.86  7 \n",
       "179 131.90           2018-11-11 00:19:00 2018-11-24 11:40:00+00:00  4652.59  7 \n",
       "180 144.50           2020-01-28 23:48:00 2020-02-01 17:34:00+00:00  4903.03  5 \n",
       "181 144.50           2020-01-28 23:48:00 2020-02-06 17:35:00+00:00 10994.78  5 \n",
       "182 144.50           2020-01-28 23:48:00 2020-02-08 15:32:00+00:00  5026.49  5 \n",
       "183 144.50           2020-01-28 23:48:00 2020-02-11 22:35:00+00:00  5088.00  5 \n",
       "184 144.50           2020-01-28 23:48:00 2020-02-13 16:26:00+00:00  5097.04  5 \n",
       "185  44.75           2016-02-16 04:05:00 2016-02-16 05:17:00+00:00  1527.35 13 \n",
       "186  44.75           2016-02-16 04:05:00 2016-02-16 15:35:00+00:00  1636.70 13 \n",
       "187  44.75           2016-02-16 04:05:00 2016-02-16 19:16:00+00:00  1594.37 13 \n",
       "188  44.75           2016-02-16 04:05:00 2016-02-16 20:41:00+00:00  1590.84 13 \n",
       "189  44.75           2016-02-16 04:05:00 2016-02-17 00:19:00+00:00  1537.93 13 \n",
       "190  44.75           2016-02-16 04:05:00 2016-02-18 00:23:00+00:00  1534.40 13 \n",
       "191  44.75           2016-02-16 04:05:00 2016-02-18 11:54:00+00:00  1530.87 13 \n",
       "192  44.75           2016-02-16 04:05:00 2016-02-19 00:42:00+00:00  1534.40 13 \n",
       "193  44.75           2016-02-16 04:05:00 2016-02-19 11:36:00+00:00  1552.04 13 \n",
       "194  44.75           2016-02-16 04:05:00 2016-02-19 23:55:00+00:00  1559.09 13 \n",
       "195  44.75           2016-02-16 04:05:00 2016-02-20 10:29:00+00:00  1520.29 13 \n",
       "196  44.75           2016-02-16 04:05:00 2016-02-21 00:09:00+00:00  1530.87 13 \n",
       "197  44.75           2016-02-16 04:05:00 2016-02-21 11:35:00+00:00  1534.40 13 \n",
       "198  44.75           2016-05-26 10:08:00 2016-05-26 14:38:00+00:00  1781.32 22 \n",
       "199  44.75           2016-05-26 10:08:00 2016-05-27 00:37:00+00:00  1876.56 22 \n",
       "200  44.75           2016-05-26 10:08:00 2016-05-27 11:49:00+00:00  1883.61 22 \n",
       "201  44.75           2016-05-26 10:08:00 2016-05-27 23:15:00+00:00  1900.80 22 \n",
       "202  44.75           2016-05-26 10:08:00 2016-05-28 10:20:00+00:00  1820.12 22 \n",
       "203  44.75           2016-05-26 10:08:00 2016-05-28 23:32:00+00:00  1827.20 22 \n",
       "204  44.75           2016-05-26 10:08:00 2016-05-29 11:37:00+00:00  1809.54 22 \n",
       "205  44.75           2016-05-26 10:08:00 2016-05-29 22:18:00+00:00  1843.20 22 \n",
       "206  44.75           2016-05-26 10:08:00 2016-05-30 11:35:00+00:00  1851.86 22 \n",
       "207  44.75           2016-05-26 10:08:00 2016-05-30 22:51:00+00:00  1798.95 22 \n",
       "208  44.75           2016-05-26 10:08:00 2016-05-31 11:48:00+00:00  1788.37 22 \n",
       "209  44.75           2016-05-26 10:08:00 2016-05-31 22:35:00+00:00  1803.20 22 \n",
       "210  44.75           2016-05-26 10:08:00 2016-06-01 10:25:00+00:00  1809.54 22 \n",
       "211  44.75           2016-05-26 10:08:00 2016-06-02 02:14:00+00:00  1862.45 22 \n",
       "212  44.75           2016-05-26 10:08:00 2016-06-02 11:40:00+00:00  1830.70 22 \n",
       "213  44.75           2016-05-26 10:08:00 2016-06-02 23:02:00+00:00  1868.80 22 \n",
       "214  44.75           2016-05-26 10:08:00 2016-06-03 10:31:00+00:00  1869.50 22 \n",
       "215  44.75           2016-05-26 10:08:00 2016-06-04 11:51:00+00:00  1869.50 22 \n",
       "216  44.75           2016-05-26 10:08:00 2016-06-04 23:22:00+00:00  1876.56 22 \n",
       "217  44.75           2016-05-26 10:08:00 2016-06-05 12:10:00+00:00  1809.54 22 \n",
       "218  44.75           2016-05-26 10:08:00 2016-06-05 22:59:00+00:00  1848.34 22 \n",
       "219  44.75           2016-05-26 10:08:00 2016-06-06 11:45:00+00:00  1795.43 22 \n",
       "220  44.75           2017-01-19 12:16:00 2017-01-19 03:33:00+00:00   790.40  4 \n",
       "221  44.75           2017-01-19 12:16:00 2017-01-19 20:12:00+00:00  1760.00  4 \n",
       "222  44.75           2017-01-19 12:16:00 2017-01-21 12:37:00+00:00  1689.61  4 \n",
       "223  44.75           2017-01-19 12:16:00 2017-01-22 04:53:00+00:00  1717.82  4 \n",
       "224  44.75           2019-10-26 07:00:00 2019-10-26 01:23:00+00:00  1590.84 12 \n",
       "225  44.75           2019-10-26 07:00:00 2019-10-26 08:00:00+00:00  1552.04 12 \n",
       "226  44.75           2019-10-26 07:00:00 2019-10-26 23:00:00+00:00  1597.89 12 \n",
       "227  44.75           2019-10-26 07:00:00 2019-10-27 11:00:00+00:00  1583.78 12 \n",
       "228  44.75           2019-10-26 07:00:00 2019-10-27 23:00:00+00:00  1573.20 12 \n",
       "229  44.75           2019-10-26 07:00:00 2019-10-28 05:30:00+00:00  1566.15 12 \n",
       "230  44.75           2019-10-26 07:00:00 2019-10-28 11:05:00+00:00  1603.20 12 \n",
       "231  44.75           2019-10-26 07:00:00 2019-10-28 21:34:00+00:00  1587.31 12 \n",
       "232  44.75           2019-10-26 07:00:00 2019-10-28 22:57:00+00:00  1632.00 12 \n",
       "233  44.75           2019-10-26 07:00:00 2019-10-29 11:00:00+00:00  1654.40 12 \n",
       "234  44.75           2019-10-26 07:00:00 2019-10-29 11:07:00+00:00  1597.89 12 \n",
       "235  44.75           2019-10-26 07:00:00 2019-10-29 22:49:00+00:00  1615.53 12 "
      ]
     },
     "metadata": {},
     "output_type": "display_data"
    }
   ],
   "source": [
    "# verify the above are errors! \n",
    "# look for possible valid values that are < 1000 or  > 8000 --> ok to remove all except JCd0500f of 987.66 might be valid\n",
    "eW2 <- non_dup_errorW %>% filter(Weight > 720, Weight < 12000) # within (720, 1000) & (8000, 12000)\n",
    "hw1 %>% filter(anon_id %in% eW2$anon_id, !is.na(Weight)) %>% \n",
    "        select(anon_id, pat_enc_csn_id_coded, age, recent_date, recent_height_cm, recent_weight_kg, \n",
    "               admit_time, recorded_time, Weight, nWe) %>% arrange(anon_id, recorded_time)"
   ]
  },
  {
   "cell_type": "code",
   "execution_count": 32,
   "metadata": {},
   "outputs": [
    {
     "data": {
      "text/html": [
       "<table>\n",
       "<caption>A grouped_df: 2 × 12</caption>\n",
       "<thead>\n",
       "\t<tr><th scope=col>anon_id</th><th scope=col>pat_enc_csn_id_coded</th><th scope=col>age</th><th scope=col>recent_date</th><th scope=col>recent_height_cm</th><th scope=col>recent_weight_kg</th><th scope=col>admit_time</th><th scope=col>recorded_time</th><th scope=col>Weight</th><th scope=col>nWe</th><th scope=col>Wfsdmdif</th><th scope=col>dmfsdif</th></tr>\n",
       "\t<tr><th scope=col>&lt;chr&gt;</th><th scope=col>&lt;dbl&gt;</th><th scope=col>&lt;int&gt;</th><th scope=col>&lt;chr&gt;</th><th scope=col>&lt;dbl&gt;</th><th scope=col>&lt;dbl&gt;</th><th scope=col>&lt;chr&gt;</th><th scope=col>&lt;chr&gt;</th><th scope=col>&lt;dbl&gt;</th><th scope=col>&lt;int&gt;</th><th scope=col>&lt;dbl&gt;</th><th scope=col>&lt;dbl&gt;</th></tr>\n",
       "</thead>\n",
       "<tbody>\n",
       "\t<tr><td>JCd0500f</td><td>131186131047</td><td>66</td><td>2020-03-31</td><td>165.1</td><td>123.2</td><td>2016-05-22 07:10:00</td><td>2016-05-22 07:43:00+00:00</td><td> 987.66</td><td>1</td><td>95.2</td><td>1409</td></tr>\n",
       "\t<tr><td>JCd0500f</td><td>131277983176</td><td>69</td><td>2020-03-31</td><td>165.1</td><td>123.2</td><td>2019-11-01 06:18:00</td><td>2019-11-01 01:53:00+00:00</td><td>4190.50</td><td>1</td><td> 4.4</td><td> 151</td></tr>\n",
       "</tbody>\n",
       "</table>\n"
      ],
      "text/latex": [
       "A grouped\\_df: 2 × 12\n",
       "\\begin{tabular}{llllllllllll}\n",
       " anon\\_id & pat\\_enc\\_csn\\_id\\_coded & age & recent\\_date & recent\\_height\\_cm & recent\\_weight\\_kg & admit\\_time & recorded\\_time & Weight & nWe & Wfsdmdif & dmfsdif\\\\\n",
       " <chr> & <dbl> & <int> & <chr> & <dbl> & <dbl> & <chr> & <chr> & <dbl> & <int> & <dbl> & <dbl>\\\\\n",
       "\\hline\n",
       "\t JCd0500f & 131186131047 & 66 & 2020-03-31 & 165.1 & 123.2 & 2016-05-22 07:10:00 & 2016-05-22 07:43:00+00:00 &  987.66 & 1 & 95.2 & 1409\\\\\n",
       "\t JCd0500f & 131277983176 & 69 & 2020-03-31 & 165.1 & 123.2 & 2019-11-01 06:18:00 & 2019-11-01 01:53:00+00:00 & 4190.50 & 1 &  4.4 &  151\\\\\n",
       "\\end{tabular}\n"
      ],
      "text/markdown": [
       "\n",
       "A grouped_df: 2 × 12\n",
       "\n",
       "| anon_id &lt;chr&gt; | pat_enc_csn_id_coded &lt;dbl&gt; | age &lt;int&gt; | recent_date &lt;chr&gt; | recent_height_cm &lt;dbl&gt; | recent_weight_kg &lt;dbl&gt; | admit_time &lt;chr&gt; | recorded_time &lt;chr&gt; | Weight &lt;dbl&gt; | nWe &lt;int&gt; | Wfsdmdif &lt;dbl&gt; | dmfsdif &lt;dbl&gt; |\n",
       "|---|---|---|---|---|---|---|---|---|---|---|---|\n",
       "| JCd0500f | 131186131047 | 66 | 2020-03-31 | 165.1 | 123.2 | 2016-05-22 07:10:00 | 2016-05-22 07:43:00+00:00 |  987.66 | 1 | 95.2 | 1409 |\n",
       "| JCd0500f | 131277983176 | 69 | 2020-03-31 | 165.1 | 123.2 | 2019-11-01 06:18:00 | 2019-11-01 01:53:00+00:00 | 4190.50 | 1 |  4.4 |  151 |\n",
       "\n"
      ],
      "text/plain": [
       "  anon_id  pat_enc_csn_id_coded age recent_date recent_height_cm\n",
       "1 JCd0500f 131186131047         66  2020-03-31  165.1           \n",
       "2 JCd0500f 131277983176         69  2020-03-31  165.1           \n",
       "  recent_weight_kg admit_time          recorded_time             Weight  nWe\n",
       "1 123.2            2016-05-22 07:10:00 2016-05-22 07:43:00+00:00  987.66 1  \n",
       "2 123.2            2019-11-01 06:18:00 2019-11-01 01:53:00+00:00 4190.50 1  \n",
       "  Wfsdmdif dmfsdif\n",
       "1 95.2     1409   \n",
       "2  4.4      151   "
      ]
     },
     "metadata": {},
     "output_type": "display_data"
    }
   ],
   "source": [
    "hw1 %>% filter(anon_id %in% c('JCd0500f'), !is.na(Weight)) %>% \n",
    "        select(anon_id, pat_enc_csn_id_coded, age, recent_date, recent_height_cm, recent_weight_kg, \n",
    "               admit_time, recorded_time, Weight, nWe, Wfsdmdif, dmfsdif) %>% arrange(anon_id, recorded_time)"
   ]
  },
  {
   "cell_type": "markdown",
   "metadata": {},
   "source": [
    "#### Process Weight\n",
    "input `hw1`, output `w`\n",
    "- remove <720 and >12000\n",
    "- remove those with only 1 value in (<1000 and >8000) but have other values in [1000, 80000]\n",
    "- more difficult with Weights within 1000 and 8000 but have large differences:\n",
    "    - take the average of other weights of the same encounters but not the exact value at evaluation, *X(-i)* or *avg_Xself*\n",
    "    - get ratio different of self/average not self, *r_avg_Xself*\n",
    "    - if one value, take it (*avg_Xself* = NaN) --> `w1`\n",
    "    - if 2 values, take average (*r_avg_Xself* = 1) --> `w2`\n",
    "    - if 3 or more: get the first 3 closest to admit_time, then pick the one with *r_avg_Xself* closest to 1 --> `w3`"
   ]
  },
  {
   "cell_type": "raw",
   "metadata": {},
   "source": [
    "# additional rows with errors to be removed: these are patients with only 1 weight btwn(1000, 8000) and other more reasonable weights\n",
    "# do this, onyly if we want to keep this person. \n",
    "eW2 <- eW2 %>% filter(!anon_id == 'JCd0500f')"
   ]
  },
  {
   "cell_type": "raw",
   "metadata": {},
   "source": [
    "dt <- read.table(text = \"Number     Individual     Year     Value\n",
    "123        'M. Smith'       2010     234\n",
    "                 435        'M. Smith'       2011     346\n",
    "                 435        'M. Smith'       2012     356\n",
    "                 524        'M. Smith'       2015     432\n",
    "                 119        'J. Jones'       2010     345\n",
    "                 119        'J. Jones'       2012     432\n",
    "                 254        'J. Jones'       2013     453\n",
    "                 876        'J. Jones'       2014     654\",\n",
    "                 header = TRUE, stringsAsFactors = FALSE)\n",
    "\n",
    "dt %>% arrange(Individual, Year)\n",
    "\n",
    "dt %>% group_by(Individual) %>% arrange(Individual, Year) %>% slice(3L)\n",
    "\n",
    "# data.frame(mtcars[3:5,1:2]) %>% mutate(avg_not_self=(sum(mpg)-mpg)/(nrow(.)-1))"
   ]
  },
  {
   "cell_type": "code",
   "execution_count": 33,
   "metadata": {},
   "outputs": [
    {
     "data": {
      "text/html": [
       "45796"
      ],
      "text/latex": [
       "45796"
      ],
      "text/markdown": [
       "45796"
      ],
      "text/plain": [
       "[1] 45796"
      ]
     },
     "metadata": {},
     "output_type": "display_data"
    },
    {
     "data": {
      "text/html": [
       "45796"
      ],
      "text/latex": [
       "45796"
      ],
      "text/markdown": [
       "45796"
      ],
      "text/plain": [
       "[1] 45796"
      ]
     },
     "metadata": {},
     "output_type": "display_data"
    },
    {
     "name": "stderr",
     "output_type": "stream",
     "text": [
      "Joining, by = c(\"anon_id\", \"pat_enc_csn_id_coded\", \"admit_time\", \"recent_height_cm\", \"recent_weight_kg\", \"recent_date\", \"age\", \"recorded_time\", \"Weight\", \"dmfsdif\", \"Wfsdmdif\", \"nWe\")\n",
      "\n"
     ]
    },
    {
     "data": {
      "text/html": [
       "43211"
      ],
      "text/latex": [
       "43211"
      ],
      "text/markdown": [
       "43211"
      ],
      "text/plain": [
       "[1] 43211"
      ]
     },
     "metadata": {},
     "output_type": "display_data"
    },
    {
     "data": {
      "text/html": [
       "<style>\n",
       ".list-inline {list-style: none; margin:0; padding: 0}\n",
       ".list-inline>li {display: inline-block}\n",
       ".list-inline>li:not(:last-child)::after {content: \"\\00b7\"; padding: 0 .5ex}\n",
       "</style>\n",
       "<ol class=list-inline><li>'anon_id'</li><li>'pat_enc_csn_id_coded'</li><li>'label'</li><li>'admit_time'</li><li>'inpatient_data_id_coded'</li><li>'ESI'</li><li>'gender'</li><li>'race'</li><li>'recent_height_cm'</li><li>'recent_weight_kg'</li><li>'insurance'</li><li>'recent_date'</li><li>'age'</li><li>'English'</li><li>'recorded_time'</li><li>'Height'</li><li>'Weight'</li><li>'adredif'</li><li>'dmfsdif'</li><li>'Hfsdmdif'</li><li>'Wfsdmdif'</li><li>'nWe'</li><li>'minWe'</li><li>'maxWe'</li><li>'rmaxWe'</li></ol>\n"
      ],
      "text/latex": [
       "\\begin{enumerate*}\n",
       "\\item 'anon\\_id'\n",
       "\\item 'pat\\_enc\\_csn\\_id\\_coded'\n",
       "\\item 'label'\n",
       "\\item 'admit\\_time'\n",
       "\\item 'inpatient\\_data\\_id\\_coded'\n",
       "\\item 'ESI'\n",
       "\\item 'gender'\n",
       "\\item 'race'\n",
       "\\item 'recent\\_height\\_cm'\n",
       "\\item 'recent\\_weight\\_kg'\n",
       "\\item 'insurance'\n",
       "\\item 'recent\\_date'\n",
       "\\item 'age'\n",
       "\\item 'English'\n",
       "\\item 'recorded\\_time'\n",
       "\\item 'Height'\n",
       "\\item 'Weight'\n",
       "\\item 'adredif'\n",
       "\\item 'dmfsdif'\n",
       "\\item 'Hfsdmdif'\n",
       "\\item 'Wfsdmdif'\n",
       "\\item 'nWe'\n",
       "\\item 'minWe'\n",
       "\\item 'maxWe'\n",
       "\\item 'rmaxWe'\n",
       "\\end{enumerate*}\n"
      ],
      "text/markdown": [
       "1. 'anon_id'\n",
       "2. 'pat_enc_csn_id_coded'\n",
       "3. 'label'\n",
       "4. 'admit_time'\n",
       "5. 'inpatient_data_id_coded'\n",
       "6. 'ESI'\n",
       "7. 'gender'\n",
       "8. 'race'\n",
       "9. 'recent_height_cm'\n",
       "10. 'recent_weight_kg'\n",
       "11. 'insurance'\n",
       "12. 'recent_date'\n",
       "13. 'age'\n",
       "14. 'English'\n",
       "15. 'recorded_time'\n",
       "16. 'Height'\n",
       "17. 'Weight'\n",
       "18. 'adredif'\n",
       "19. 'dmfsdif'\n",
       "20. 'Hfsdmdif'\n",
       "21. 'Wfsdmdif'\n",
       "22. 'nWe'\n",
       "23. 'minWe'\n",
       "24. 'maxWe'\n",
       "25. 'rmaxWe'\n",
       "\n",
       "\n"
      ],
      "text/plain": [
       " [1] \"anon_id\"                 \"pat_enc_csn_id_coded\"   \n",
       " [3] \"label\"                   \"admit_time\"             \n",
       " [5] \"inpatient_data_id_coded\" \"ESI\"                    \n",
       " [7] \"gender\"                  \"race\"                   \n",
       " [9] \"recent_height_cm\"        \"recent_weight_kg\"       \n",
       "[11] \"insurance\"               \"recent_date\"            \n",
       "[13] \"age\"                     \"English\"                \n",
       "[15] \"recorded_time\"           \"Height\"                 \n",
       "[17] \"Weight\"                  \"adredif\"                \n",
       "[19] \"dmfsdif\"                 \"Hfsdmdif\"               \n",
       "[21] \"Wfsdmdif\"                \"nWe\"                    \n",
       "[23] \"minWe\"                   \"maxWe\"                  \n",
       "[25] \"rmaxWe\"                 "
      ]
     },
     "metadata": {},
     "output_type": "display_data"
    }
   ],
   "source": [
    "length(unique(cohort_demo$pat_enc_csn_id_coded)) #45796\n",
    "length(unique(hw1$pat_enc_csn_id_coded)) #45796\n",
    "\n",
    "# remove erroneous values and NAs first, retain only patients with possible valid Weight under flowsheet\n",
    "w <- hw1 %>% filter(Weight >= 720, Weight <= 12000, !is.na(Weight)) %>% anti_join(eW2)\n",
    "\n",
    "length(unique(w$pat_enc_csn_id_coded)) #43211\n",
    "colnames(w)"
   ]
  },
  {
   "cell_type": "code",
   "execution_count": 34,
   "metadata": {},
   "outputs": [
    {
     "data": {
      "text/plain": [
       "   anon_id          pat_enc_csn_id_coded inpatient_data_id_coded\n",
       " Length:171784      Min.   :1.311e+11    Min.   :13616753       \n",
       " Class :character   1st Qu.:1.312e+11    1st Qu.:20243087       \n",
       " Mode  :character   Median :1.312e+11    Median :27729787       \n",
       "                    Mean   :1.312e+11    Mean   :28207502       \n",
       "                    3rd Qu.:1.313e+11    3rd Qu.:34458262       \n",
       "                    Max.   :1.313e+11    Max.   :48026130       \n",
       "                                                                \n",
       "      age        recent_weight_kg recent_date         admit_time       \n",
       " Min.   :18.00   Min.   :  0.10   Length:171784      Length:171784     \n",
       " 1st Qu.:46.00   1st Qu.: 60.65   Class :character   Class :character  \n",
       " Median :61.00   Median : 73.10   Mode  :character   Mode  :character  \n",
       " Mean   :58.49   Mean   : 76.91                                        \n",
       " 3rd Qu.:72.00   3rd Qu.: 88.45                                        \n",
       " Max.   :90.00   Max.   :320.69                                        \n",
       "                 NA's   :102                                           \n",
       " recorded_time          Weight         Wfsdmdif            nWe        \n",
       " Length:171784      Min.   :  720   Min.   :  0.000   Min.   :  1.00  \n",
       " Class :character   1st Qu.: 2169   1st Qu.:  1.500   1st Qu.:  3.00  \n",
       " Mode  :character   Median : 2603   Median :  4.100   Median :  6.00  \n",
       "                    Mean   : 2745   Mean   :  6.388   Mean   : 10.74  \n",
       "                    3rd Qu.: 3153   3rd Qu.:  8.700   3rd Qu.: 12.00  \n",
       "                    Max.   :11397   Max.   :213.290   Max.   :148.00  \n",
       "                                    NA's   :102                       \n",
       "     maxWe           rmaxWe       avg_Xself        r_avg_Xself   \n",
       " Min.   :  720   Min.   :1.00   Min.   :  882.9   Min.   :0.290  \n",
       " 1st Qu.: 2275   1st Qu.:1.00   1st Qu.: 2174.2   1st Qu.:0.980  \n",
       " Median : 2720   Median :1.02   Median : 2607.4   Median :1.000  \n",
       " Mean   : 2873   Mean   :1.05   Mean   : 2748.3   Mean   :1.001  \n",
       " 3rd Qu.: 3298   3rd Qu.:1.06   3rd Qu.: 3155.5   3rd Qu.:1.020  \n",
       " Max.   :11397   Max.   :3.81   Max.   :11367.0   Max.   :3.510  \n",
       "                                NA's   :12004     NA's   :12004  "
      ]
     },
     "metadata": {},
     "output_type": "display_data"
    }
   ],
   "source": [
    "# within the same patients, same encounters:\n",
    "# recalculate count/max/ratio of W to max W/ratio of W over average not self Weight... \n",
    "w <- w %>% select(anon_id, pat_enc_csn_id_coded, inpatient_data_id_coded, age, recent_weight_kg, \n",
    "                  recent_date, admit_time, recorded_time, Weight, Wfsdmdif) %>% \n",
    "            group_by(anon_id, pat_enc_csn_id_coded) %>% \n",
    "            mutate(nWe =length(Weight[!is.na(Weight)]), maxWe = max(Weight, na.rm=TRUE), rmaxWe = round(maxWe/Weight, 2), \n",
    "                   avg_Xself= round((sum(Weight)-Weight)/(nWe-1),2),\n",
    "                   r_avg_Xself= round(Weight/avg_Xself, 2)) %>%\n",
    "#             mutate(d_avg_Xself = ifelse(is.na(d_avg_Xself), 1, d_avg_Xself)) %>%\n",
    "            arrange(anon_id, pat_enc_csn_id_coded, r_avg_Xself)\n",
    "summary(w)"
   ]
  },
  {
   "cell_type": "code",
   "execution_count": 35,
   "metadata": {},
   "outputs": [
    {
     "data": {
      "image/png": "[encoded data removed]",
      "text/plain": [
       "Plot with title \"Histogram of w$r_avg_Xself\""
      ]
     },
     "metadata": {
      "image/png": {
       "height": 420,
       "width": 420
      }
     },
     "output_type": "display_data"
    }
   ],
   "source": [
    "hist(w$r_avg_Xself, xlim=c(0.8, 1.2), breaks=100)"
   ]
  },
  {
   "cell_type": "code",
   "execution_count": 36,
   "metadata": {},
   "outputs": [
    {
     "data": {
      "text/html": [
       "12004"
      ],
      "text/latex": [
       "12004"
      ],
      "text/markdown": [
       "12004"
      ],
      "text/plain": [
       "[1] 12004"
      ]
     },
     "metadata": {},
     "output_type": "display_data"
    },
    {
     "data": {
      "text/html": [
       "12004"
      ],
      "text/latex": [
       "12004"
      ],
      "text/markdown": [
       "12004"
      ],
      "text/plain": [
       "[1] 12004"
      ]
     },
     "metadata": {},
     "output_type": "display_data"
    },
    {
     "data": {
      "text/html": [
       "9897"
      ],
      "text/latex": [
       "9897"
      ],
      "text/markdown": [
       "9897"
      ],
      "text/plain": [
       "[1] 9897"
      ]
     },
     "metadata": {},
     "output_type": "display_data"
    },
    {
     "data": {
      "text/html": [
       "9897"
      ],
      "text/latex": [
       "9897"
      ],
      "text/markdown": [
       "9897"
      ],
      "text/plain": [
       "[1] 9897"
      ]
     },
     "metadata": {},
     "output_type": "display_data"
    },
    {
     "data": {
      "text/html": [
       "21310"
      ],
      "text/latex": [
       "21310"
      ],
      "text/markdown": [
       "21310"
      ],
      "text/plain": [
       "[1] 21310"
      ]
     },
     "metadata": {},
     "output_type": "display_data"
    },
    {
     "data": {
      "text/html": [
       "21310"
      ],
      "text/latex": [
       "21310"
      ],
      "text/markdown": [
       "21310"
      ],
      "text/plain": [
       "[1] 21310"
      ]
     },
     "metadata": {},
     "output_type": "display_data"
    }
   ],
   "source": [
    "# extract Weights depending on scenarios of how many available Weights per encounters\n",
    "w1 <- w %>% filter(nWe == 1)\n",
    "w2 <- w %>% filter(nWe == 2) %>% group_by(anon_id, pat_enc_csn_id_coded) %>% mutate(Weight = mean(Weight)) %>% # no NA here\n",
    "        arrange(anon_id, pat_enc_csn_id_coded, Weight) %>% slice(1L) # take one if both are the same\n",
    "w3 <- w %>% filter(nWe > 2) %>% arrange(anon_id, pat_enc_csn_id_coded, recorded_time) %>% slice(1:3) %>%\n",
    "        mutate(d1 = abs(r_avg_Xself-1)) %>% # difference of r_avg_Xself to 1, from either sides\n",
    "        arrange(anon_id, pat_enc_csn_id_coded, d1) %>% slice(1L) # take the first closest to 1\n",
    "\n",
    "nrow(w1) #12004\n",
    "length(unique(w1$pat_enc_csn_id_coded))\n",
    "nrow(w2) #9897\n",
    "nrow(w %>% filter(nWe == 2) %>% distinct(pat_enc_csn_id_coded))\n",
    "nrow(w3) #21310\n",
    "nrow(w %>% filter(nWe > 2) %>% distinct(pat_enc_csn_id_coded))"
   ]
  },
  {
   "cell_type": "code",
   "execution_count": 37,
   "metadata": {},
   "outputs": [
    {
     "data": {
      "text/html": [
       "43211"
      ],
      "text/latex": [
       "43211"
      ],
      "text/markdown": [
       "43211"
      ],
      "text/plain": [
       "[1] 43211"
      ]
     },
     "metadata": {},
     "output_type": "display_data"
    },
    {
     "name": "stderr",
     "output_type": "stream",
     "text": [
      "Joining, by = c(\"anon_id\", \"pat_enc_csn_id_coded\", \"inpatient_data_id_coded\", \"age\", \"recent_weight_kg\", \"recent_date\", \"admit_time\", \"recorded_time\", \"Weight\", \"Wfsdmdif\", \"nWe\", \"maxWe\", \"rmaxWe\", \"avg_Xself\", \"r_avg_Xself\")\n",
      "\n",
      "Joining, by = c(\"anon_id\", \"pat_enc_csn_id_coded\", \"inpatient_data_id_coded\", \"age\", \"recent_weight_kg\", \"recent_date\", \"admit_time\", \"recorded_time\", \"Weight\", \"Wfsdmdif\", \"nWe\", \"maxWe\", \"rmaxWe\", \"avg_Xself\", \"r_avg_Xself\")\n",
      "\n"
     ]
    },
    {
     "data": {
      "text/html": [
       "43211"
      ],
      "text/latex": [
       "43211"
      ],
      "text/markdown": [
       "43211"
      ],
      "text/plain": [
       "[1] 43211"
      ]
     },
     "metadata": {},
     "output_type": "display_data"
    },
    {
     "data": {
      "text/html": [
       "43211"
      ],
      "text/latex": [
       "43211"
      ],
      "text/markdown": [
       "43211"
      ],
      "text/plain": [
       "[1] 43211"
      ]
     },
     "metadata": {},
     "output_type": "display_data"
    }
   ],
   "source": [
    "nrow(w1) + nrow(w2) + nrow(w3) #43211\n",
    "combinedW <- full_join(w1, w2) %>% full_join (w3)\n",
    "nrow(combinedW)\n",
    "length(unique(combinedW$pat_enc_csn_id_coded))"
   ]
  },
  {
   "cell_type": "code",
   "execution_count": 38,
   "metadata": {},
   "outputs": [
    {
     "name": "stderr",
     "output_type": "stream",
     "text": [
      "Adding missing grouping variables: `pat_enc_csn_id_coded`\n",
      "\n"
     ]
    },
    {
     "data": {
      "text/html": [
       "<table>\n",
       "<caption>A grouped_df: 7 × 7</caption>\n",
       "<thead>\n",
       "\t<tr><th scope=col>pat_enc_csn_id_coded</th><th scope=col>Weight</th><th scope=col>nWe</th><th scope=col>recorded_time</th><th scope=col>admit_time</th><th scope=col>avg_Xself</th><th scope=col>r_avg_Xself</th></tr>\n",
       "\t<tr><th scope=col>&lt;dbl&gt;</th><th scope=col>&lt;dbl&gt;</th><th scope=col>&lt;int&gt;</th><th scope=col>&lt;chr&gt;</th><th scope=col>&lt;chr&gt;</th><th scope=col>&lt;dbl&gt;</th><th scope=col>&lt;dbl&gt;</th></tr>\n",
       "</thead>\n",
       "<tbody>\n",
       "\t<tr><td>131265384824</td><td>2028.23</td><td>7</td><td>2019-04-02 00:48:00+00:00</td><td>2019-04-02 03:47:00</td><td>2893.32</td><td>0.70</td></tr>\n",
       "\t<tr><td>131265384824</td><td>2051.20</td><td>7</td><td>2019-04-02 06:45:00+00:00</td><td>2019-04-02 03:47:00</td><td>2889.49</td><td>0.71</td></tr>\n",
       "\t<tr><td>131265384824</td><td>3082.91</td><td>7</td><td>2019-04-06 17:14:00+00:00</td><td>2019-04-02 03:47:00</td><td>2717.54</td><td>1.13</td></tr>\n",
       "\t<tr><td>131265384824</td><td>3033.53</td><td>7</td><td>2019-04-10 14:46:00+00:00</td><td>2019-04-02 03:47:00</td><td>2725.77</td><td>1.11</td></tr>\n",
       "\t<tr><td>131265384824</td><td>2998.26</td><td>7</td><td>2019-04-11 17:44:00+00:00</td><td>2019-04-02 03:47:00</td><td>2731.65</td><td>1.10</td></tr>\n",
       "\t<tr><td>131265384824</td><td>3121.71</td><td>7</td><td>2019-04-16 10:59:00+00:00</td><td>2019-04-02 03:47:00</td><td>2711.08</td><td>1.15</td></tr>\n",
       "\t<tr><td>131265384824</td><td>3072.33</td><td>7</td><td>2019-04-17 10:55:00+00:00</td><td>2019-04-02 03:47:00</td><td>2719.31</td><td>1.13</td></tr>\n",
       "</tbody>\n",
       "</table>\n"
      ],
      "text/latex": [
       "A grouped\\_df: 7 × 7\n",
       "\\begin{tabular}{lllllll}\n",
       " pat\\_enc\\_csn\\_id\\_coded & Weight & nWe & recorded\\_time & admit\\_time & avg\\_Xself & r\\_avg\\_Xself\\\\\n",
       " <dbl> & <dbl> & <int> & <chr> & <chr> & <dbl> & <dbl>\\\\\n",
       "\\hline\n",
       "\t 131265384824 & 2028.23 & 7 & 2019-04-02 00:48:00+00:00 & 2019-04-02 03:47:00 & 2893.32 & 0.70\\\\\n",
       "\t 131265384824 & 2051.20 & 7 & 2019-04-02 06:45:00+00:00 & 2019-04-02 03:47:00 & 2889.49 & 0.71\\\\\n",
       "\t 131265384824 & 3082.91 & 7 & 2019-04-06 17:14:00+00:00 & 2019-04-02 03:47:00 & 2717.54 & 1.13\\\\\n",
       "\t 131265384824 & 3033.53 & 7 & 2019-04-10 14:46:00+00:00 & 2019-04-02 03:47:00 & 2725.77 & 1.11\\\\\n",
       "\t 131265384824 & 2998.26 & 7 & 2019-04-11 17:44:00+00:00 & 2019-04-02 03:47:00 & 2731.65 & 1.10\\\\\n",
       "\t 131265384824 & 3121.71 & 7 & 2019-04-16 10:59:00+00:00 & 2019-04-02 03:47:00 & 2711.08 & 1.15\\\\\n",
       "\t 131265384824 & 3072.33 & 7 & 2019-04-17 10:55:00+00:00 & 2019-04-02 03:47:00 & 2719.31 & 1.13\\\\\n",
       "\\end{tabular}\n"
      ],
      "text/markdown": [
       "\n",
       "A grouped_df: 7 × 7\n",
       "\n",
       "| pat_enc_csn_id_coded &lt;dbl&gt; | Weight &lt;dbl&gt; | nWe &lt;int&gt; | recorded_time &lt;chr&gt; | admit_time &lt;chr&gt; | avg_Xself &lt;dbl&gt; | r_avg_Xself &lt;dbl&gt; |\n",
       "|---|---|---|---|---|---|---|\n",
       "| 131265384824 | 2028.23 | 7 | 2019-04-02 00:48:00+00:00 | 2019-04-02 03:47:00 | 2893.32 | 0.70 |\n",
       "| 131265384824 | 2051.20 | 7 | 2019-04-02 06:45:00+00:00 | 2019-04-02 03:47:00 | 2889.49 | 0.71 |\n",
       "| 131265384824 | 3082.91 | 7 | 2019-04-06 17:14:00+00:00 | 2019-04-02 03:47:00 | 2717.54 | 1.13 |\n",
       "| 131265384824 | 3033.53 | 7 | 2019-04-10 14:46:00+00:00 | 2019-04-02 03:47:00 | 2725.77 | 1.11 |\n",
       "| 131265384824 | 2998.26 | 7 | 2019-04-11 17:44:00+00:00 | 2019-04-02 03:47:00 | 2731.65 | 1.10 |\n",
       "| 131265384824 | 3121.71 | 7 | 2019-04-16 10:59:00+00:00 | 2019-04-02 03:47:00 | 2711.08 | 1.15 |\n",
       "| 131265384824 | 3072.33 | 7 | 2019-04-17 10:55:00+00:00 | 2019-04-02 03:47:00 | 2719.31 | 1.13 |\n",
       "\n"
      ],
      "text/plain": [
       "  pat_enc_csn_id_coded Weight  nWe recorded_time            \n",
       "1 131265384824         2028.23 7   2019-04-02 00:48:00+00:00\n",
       "2 131265384824         2051.20 7   2019-04-02 06:45:00+00:00\n",
       "3 131265384824         3082.91 7   2019-04-06 17:14:00+00:00\n",
       "4 131265384824         3033.53 7   2019-04-10 14:46:00+00:00\n",
       "5 131265384824         2998.26 7   2019-04-11 17:44:00+00:00\n",
       "6 131265384824         3121.71 7   2019-04-16 10:59:00+00:00\n",
       "7 131265384824         3072.33 7   2019-04-17 10:55:00+00:00\n",
       "  admit_time          avg_Xself r_avg_Xself\n",
       "1 2019-04-02 03:47:00 2893.32   0.70       \n",
       "2 2019-04-02 03:47:00 2889.49   0.71       \n",
       "3 2019-04-02 03:47:00 2717.54   1.13       \n",
       "4 2019-04-02 03:47:00 2725.77   1.11       \n",
       "5 2019-04-02 03:47:00 2731.65   1.10       \n",
       "6 2019-04-02 03:47:00 2711.08   1.15       \n",
       "7 2019-04-02 03:47:00 2719.31   1.13       "
      ]
     },
     "metadata": {},
     "output_type": "display_data"
    },
    {
     "name": "stderr",
     "output_type": "stream",
     "text": [
      "Adding missing grouping variables: `pat_enc_csn_id_coded`\n",
      "\n"
     ]
    },
    {
     "data": {
      "text/html": [
       "<table>\n",
       "<caption>A grouped_df: 1 × 7</caption>\n",
       "<thead>\n",
       "\t<tr><th scope=col>pat_enc_csn_id_coded</th><th scope=col>Weight</th><th scope=col>nWe</th><th scope=col>recorded_time</th><th scope=col>admit_time</th><th scope=col>avg_Xself</th><th scope=col>r_avg_Xself</th></tr>\n",
       "\t<tr><th scope=col>&lt;dbl&gt;</th><th scope=col>&lt;dbl&gt;</th><th scope=col>&lt;int&gt;</th><th scope=col>&lt;chr&gt;</th><th scope=col>&lt;chr&gt;</th><th scope=col>&lt;dbl&gt;</th><th scope=col>&lt;dbl&gt;</th></tr>\n",
       "</thead>\n",
       "<tbody>\n",
       "\t<tr><td>131265384824</td><td>3082.91</td><td>7</td><td>2019-04-06 17:14:00+00:00</td><td>2019-04-02 03:47:00</td><td>2717.54</td><td>1.13</td></tr>\n",
       "</tbody>\n",
       "</table>\n"
      ],
      "text/latex": [
       "A grouped\\_df: 1 × 7\n",
       "\\begin{tabular}{lllllll}\n",
       " pat\\_enc\\_csn\\_id\\_coded & Weight & nWe & recorded\\_time & admit\\_time & avg\\_Xself & r\\_avg\\_Xself\\\\\n",
       " <dbl> & <dbl> & <int> & <chr> & <chr> & <dbl> & <dbl>\\\\\n",
       "\\hline\n",
       "\t 131265384824 & 3082.91 & 7 & 2019-04-06 17:14:00+00:00 & 2019-04-02 03:47:00 & 2717.54 & 1.13\\\\\n",
       "\\end{tabular}\n"
      ],
      "text/markdown": [
       "\n",
       "A grouped_df: 1 × 7\n",
       "\n",
       "| pat_enc_csn_id_coded &lt;dbl&gt; | Weight &lt;dbl&gt; | nWe &lt;int&gt; | recorded_time &lt;chr&gt; | admit_time &lt;chr&gt; | avg_Xself &lt;dbl&gt; | r_avg_Xself &lt;dbl&gt; |\n",
       "|---|---|---|---|---|---|---|\n",
       "| 131265384824 | 3082.91 | 7 | 2019-04-06 17:14:00+00:00 | 2019-04-02 03:47:00 | 2717.54 | 1.13 |\n",
       "\n"
      ],
      "text/plain": [
       "  pat_enc_csn_id_coded Weight  nWe recorded_time            \n",
       "1 131265384824         3082.91 7   2019-04-06 17:14:00+00:00\n",
       "  admit_time          avg_Xself r_avg_Xself\n",
       "1 2019-04-02 03:47:00 2717.54   1.13       "
      ]
     },
     "metadata": {},
     "output_type": "display_data"
    }
   ],
   "source": [
    "# sanity check, this patient has 2 first possible erroneous values\n",
    "w %>% filter(anon_id =='JCdcc100', pat_enc_csn_id_coded== 131265384824) %>% group_by(pat_enc_csn_id_coded) %>% \n",
    "        select(Weight, nWe, recorded_time, admit_time, avg_Xself, r_avg_Xself) %>% arrange(recorded_time)\n",
    "combinedW %>% filter(anon_id =='JCdcc100', pat_enc_csn_id_coded== 131265384824) %>% group_by(pat_enc_csn_id_coded) %>% \n",
    "        select(Weight, nWe, recorded_time, admit_time, avg_Xself, r_avg_Xself) %>% arrange(recorded_time)"
   ]
  },
  {
   "cell_type": "code",
   "execution_count": 39,
   "metadata": {},
   "outputs": [
    {
     "data": {
      "text/html": [
       "45482"
      ],
      "text/latex": [
       "45482"
      ],
      "text/markdown": [
       "45482"
      ],
      "text/plain": [
       "[1] 45482"
      ]
     },
     "metadata": {},
     "output_type": "display_data"
    },
    {
     "data": {
      "text/html": [
       "43211"
      ],
      "text/latex": [
       "43211"
      ],
      "text/markdown": [
       "43211"
      ],
      "text/plain": [
       "[1] 43211"
      ]
     },
     "metadata": {},
     "output_type": "display_data"
    },
    {
     "data": {
      "text/html": [
       "46"
      ],
      "text/latex": [
       "46"
      ],
      "text/markdown": [
       "46"
      ],
      "text/plain": [
       "[1] 46"
      ]
     },
     "metadata": {},
     "output_type": "display_data"
    },
    {
     "data": {
      "text/html": [
       "2317"
      ],
      "text/latex": [
       "2317"
      ],
      "text/markdown": [
       "2317"
      ],
      "text/plain": [
       "[1] 2317"
      ]
     },
     "metadata": {},
     "output_type": "display_data"
    }
   ],
   "source": [
    "# remove invalid weight in demo, compare counts, will not use this for merging as it remove patients from the cohort_demo\n",
    "# no invalid recent_weight, only NA\n",
    "w_recent <- cohort_demo %>% filter(recent_weight_kg >= 720*oz_2_kg, recent_weight_kg <= 12000*oz_2_kg, !is.na(recent_weight_kg))\n",
    "\n",
    "length(unique(w_recent$pat_enc_csn_id_coded)) #45482\n",
    "length(unique(combinedW$pat_enc_csn_id_coded)) #43211\n",
    "\n",
    "# patients with w from flowsheet but no valid recent_weight\n",
    "nrow(anti_join(combinedW, w_recent, by=c(\"pat_enc_csn_id_coded\"))) #46\n",
    "\n",
    "# patients NO w from flowsheet but valid recent_weight\n",
    "nrow(anti_join(w_recent, combinedW, by=c(\"pat_enc_csn_id_coded\"))) #2317"
   ]
  },
  {
   "cell_type": "markdown",
   "metadata": {},
   "source": [
    "### Combine Height and Weight with demogrpahic table\n",
    "- Weight in kg and Height in cm\n",
    "- Combine valid H&W dataframes from flowsheet\n",
    "- Merge with original cohort_demo to make sure we have all cohort\n",
    "- Replace errorneous values in cohort_demo as NA\n",
    "    - Height < 45 * in_2_cm & >  90 * in_2_cm --> NA\n",
    "    - Weight < 720 * oz_2_kg & > 12000 * oz_2_kg --> NA\n",
    "- If no H&W in flowsheet, use the one from demographics (recent H&W)"
   ]
  },
  {
   "cell_type": "code",
   "execution_count": 40,
   "metadata": {},
   "outputs": [
    {
     "data": {
      "text/html": [
       "6270"
      ],
      "text/latex": [
       "6270"
      ],
      "text/markdown": [
       "6270"
      ],
      "text/plain": [
       "[1] 6270"
      ]
     },
     "metadata": {},
     "output_type": "display_data"
    },
    {
     "data": {
      "text/html": [
       "30139"
      ],
      "text/latex": [
       "30139"
      ],
      "text/markdown": [
       "30139"
      ],
      "text/plain": [
       "[1] 30139"
      ]
     },
     "metadata": {},
     "output_type": "display_data"
    },
    {
     "data": {
      "text/html": [
       "<style>\n",
       ".list-inline {list-style: none; margin:0; padding: 0}\n",
       ".list-inline>li {display: inline-block}\n",
       ".list-inline>li:not(:last-child)::after {content: \"\\00b7\"; padding: 0 .5ex}\n",
       "</style>\n",
       "<ol class=list-inline><li>'anon_id'</li><li>'pat_enc_csn_id_coded'</li><li>'label'</li><li>'admit_time'</li><li>'inpatient_data_id_coded'</li><li>'ESI'</li><li>'gender'</li><li>'race'</li><li>'recent_height_cm'</li><li>'recent_weight_kg'</li><li>'insurance'</li><li>'recent_date'</li><li>'age'</li><li>'English'</li><li>'recorded_time'</li><li>'Height'</li><li>'Weight'</li><li>'adredif'</li><li>'dmfsdif'</li><li>'Hfsdmdif'</li><li>'Wfsdmdif'</li><li>'nWe'</li><li>'minWe'</li><li>'maxWe'</li><li>'rmaxWe'</li></ol>\n"
      ],
      "text/latex": [
       "\\begin{enumerate*}\n",
       "\\item 'anon\\_id'\n",
       "\\item 'pat\\_enc\\_csn\\_id\\_coded'\n",
       "\\item 'label'\n",
       "\\item 'admit\\_time'\n",
       "\\item 'inpatient\\_data\\_id\\_coded'\n",
       "\\item 'ESI'\n",
       "\\item 'gender'\n",
       "\\item 'race'\n",
       "\\item 'recent\\_height\\_cm'\n",
       "\\item 'recent\\_weight\\_kg'\n",
       "\\item 'insurance'\n",
       "\\item 'recent\\_date'\n",
       "\\item 'age'\n",
       "\\item 'English'\n",
       "\\item 'recorded\\_time'\n",
       "\\item 'Height'\n",
       "\\item 'Weight'\n",
       "\\item 'adredif'\n",
       "\\item 'dmfsdif'\n",
       "\\item 'Hfsdmdif'\n",
       "\\item 'Wfsdmdif'\n",
       "\\item 'nWe'\n",
       "\\item 'minWe'\n",
       "\\item 'maxWe'\n",
       "\\item 'rmaxWe'\n",
       "\\end{enumerate*}\n"
      ],
      "text/markdown": [
       "1. 'anon_id'\n",
       "2. 'pat_enc_csn_id_coded'\n",
       "3. 'label'\n",
       "4. 'admit_time'\n",
       "5. 'inpatient_data_id_coded'\n",
       "6. 'ESI'\n",
       "7. 'gender'\n",
       "8. 'race'\n",
       "9. 'recent_height_cm'\n",
       "10. 'recent_weight_kg'\n",
       "11. 'insurance'\n",
       "12. 'recent_date'\n",
       "13. 'age'\n",
       "14. 'English'\n",
       "15. 'recorded_time'\n",
       "16. 'Height'\n",
       "17. 'Weight'\n",
       "18. 'adredif'\n",
       "19. 'dmfsdif'\n",
       "20. 'Hfsdmdif'\n",
       "21. 'Wfsdmdif'\n",
       "22. 'nWe'\n",
       "23. 'minWe'\n",
       "24. 'maxWe'\n",
       "25. 'rmaxWe'\n",
       "\n",
       "\n"
      ],
      "text/plain": [
       " [1] \"anon_id\"                 \"pat_enc_csn_id_coded\"   \n",
       " [3] \"label\"                   \"admit_time\"             \n",
       " [5] \"inpatient_data_id_coded\" \"ESI\"                    \n",
       " [7] \"gender\"                  \"race\"                   \n",
       " [9] \"recent_height_cm\"        \"recent_weight_kg\"       \n",
       "[11] \"insurance\"               \"recent_date\"            \n",
       "[13] \"age\"                     \"English\"                \n",
       "[15] \"recorded_time\"           \"Height\"                 \n",
       "[17] \"Weight\"                  \"adredif\"                \n",
       "[19] \"dmfsdif\"                 \"Hfsdmdif\"               \n",
       "[21] \"Wfsdmdif\"                \"nWe\"                    \n",
       "[23] \"minWe\"                   \"maxWe\"                  \n",
       "[25] \"rmaxWe\"                 "
      ]
     },
     "metadata": {},
     "output_type": "display_data"
    },
    {
     "data": {
      "text/html": [
       "1342"
      ],
      "text/latex": [
       "1342"
      ],
      "text/markdown": [
       "1342"
      ],
      "text/plain": [
       "[1] 1342"
      ]
     },
     "metadata": {},
     "output_type": "display_data"
    },
    {
     "data": {
      "text/html": [
       "45482"
      ],
      "text/latex": [
       "45482"
      ],
      "text/markdown": [
       "45482"
      ],
      "text/plain": [
       "[1] 45482"
      ]
     },
     "metadata": {},
     "output_type": "display_data"
    },
    {
     "data": {
      "text/html": [
       "<style>\n",
       ".list-inline {list-style: none; margin:0; padding: 0}\n",
       ".list-inline>li {display: inline-block}\n",
       ".list-inline>li:not(:last-child)::after {content: \"\\00b7\"; padding: 0 .5ex}\n",
       "</style>\n",
       "<ol class=list-inline><li>'anon_id'</li><li>'pat_enc_csn_id_coded'</li><li>'inpatient_data_id_coded'</li><li>'age'</li><li>'recent_weight_kg'</li><li>'recent_date'</li><li>'admit_time'</li><li>'recorded_time'</li><li>'Weight'</li><li>'Wfsdmdif'</li><li>'nWe'</li><li>'maxWe'</li><li>'rmaxWe'</li><li>'avg_Xself'</li><li>'r_avg_Xself'</li><li>'d1'</li></ol>\n"
      ],
      "text/latex": [
       "\\begin{enumerate*}\n",
       "\\item 'anon\\_id'\n",
       "\\item 'pat\\_enc\\_csn\\_id\\_coded'\n",
       "\\item 'inpatient\\_data\\_id\\_coded'\n",
       "\\item 'age'\n",
       "\\item 'recent\\_weight\\_kg'\n",
       "\\item 'recent\\_date'\n",
       "\\item 'admit\\_time'\n",
       "\\item 'recorded\\_time'\n",
       "\\item 'Weight'\n",
       "\\item 'Wfsdmdif'\n",
       "\\item 'nWe'\n",
       "\\item 'maxWe'\n",
       "\\item 'rmaxWe'\n",
       "\\item 'avg\\_Xself'\n",
       "\\item 'r\\_avg\\_Xself'\n",
       "\\item 'd1'\n",
       "\\end{enumerate*}\n"
      ],
      "text/markdown": [
       "1. 'anon_id'\n",
       "2. 'pat_enc_csn_id_coded'\n",
       "3. 'inpatient_data_id_coded'\n",
       "4. 'age'\n",
       "5. 'recent_weight_kg'\n",
       "6. 'recent_date'\n",
       "7. 'admit_time'\n",
       "8. 'recorded_time'\n",
       "9. 'Weight'\n",
       "10. 'Wfsdmdif'\n",
       "11. 'nWe'\n",
       "12. 'maxWe'\n",
       "13. 'rmaxWe'\n",
       "14. 'avg_Xself'\n",
       "15. 'r_avg_Xself'\n",
       "16. 'd1'\n",
       "\n",
       "\n"
      ],
      "text/plain": [
       " [1] \"anon_id\"                 \"pat_enc_csn_id_coded\"   \n",
       " [3] \"inpatient_data_id_coded\" \"age\"                    \n",
       " [5] \"recent_weight_kg\"        \"recent_date\"            \n",
       " [7] \"admit_time\"              \"recorded_time\"          \n",
       " [9] \"Weight\"                  \"Wfsdmdif\"               \n",
       "[11] \"nWe\"                     \"maxWe\"                  \n",
       "[13] \"rmaxWe\"                  \"avg_Xself\"              \n",
       "[15] \"r_avg_Xself\"             \"d1\"                     "
      ]
     },
     "metadata": {},
     "output_type": "display_data"
    }
   ],
   "source": [
    "# patients NO h from flowsheet but valid recent_height\n",
    "nrow(anti_join(h_recent, h, by=c(\"anon_id\"))) #6270\n",
    "length(unique(h_recent$anon_id)) #30139\n",
    "colnames(h)\n",
    "\n",
    "# patients NO w from flowsheet but valid recent_weight\n",
    "nrow(anti_join(w_recent, combinedW, by=c(\"anon_id\"))) #1342\n",
    "length(unique(w_recent$pat_enc_csn_id_coded)) #45482\n",
    "colnames(combinedW)"
   ]
  },
  {
   "cell_type": "code",
   "execution_count": 41,
   "metadata": {},
   "outputs": [
    {
     "name": "stderr",
     "output_type": "stream",
     "text": [
      "Joining, by = c(\"anon_id\", \"pat_enc_csn_id_coded\")\n",
      "\n"
     ]
    },
    {
     "data": {
      "text/html": [
       "43464"
      ],
      "text/latex": [
       "43464"
      ],
      "text/markdown": [
       "43464"
      ],
      "text/plain": [
       "[1] 43464"
      ]
     },
     "metadata": {},
     "output_type": "display_data"
    },
    {
     "data": {
      "text/html": [
       "43464"
      ],
      "text/latex": [
       "43464"
      ],
      "text/markdown": [
       "43464"
      ],
      "text/plain": [
       "[1] 43464"
      ]
     },
     "metadata": {},
     "output_type": "display_data"
    }
   ],
   "source": [
    "# combine valid H&W from flowsheet\n",
    "fsH <- h %>% select(anon_id, pat_enc_csn_id_coded, inpatient_data_id_coded, Height)\n",
    "fsW <- combinedW %>% select(anon_id, pat_enc_csn_id_coded, Weight)\n",
    "\n",
    "fsHW <- full_join(fsH, fsW)\n",
    "nrow(fsHW) #43464\n",
    "length(unique(fsHW$pat_enc_csn_id_coded)) #43464"
   ]
  },
  {
   "cell_type": "code",
   "execution_count": 57,
   "metadata": {},
   "outputs": [
    {
     "data": {
      "text/html": [
       "45796"
      ],
      "text/latex": [
       "45796"
      ],
      "text/markdown": [
       "45796"
      ],
      "text/plain": [
       "[1] 45796"
      ]
     },
     "metadata": {},
     "output_type": "display_data"
    },
    {
     "data": {
      "text/html": [
       "31513"
      ],
      "text/latex": [
       "31513"
      ],
      "text/markdown": [
       "31513"
      ],
      "text/plain": [
       "[1] 31513"
      ]
     },
     "metadata": {},
     "output_type": "display_data"
    },
    {
     "data": {
      "text/html": [
       "45796"
      ],
      "text/latex": [
       "45796"
      ],
      "text/markdown": [
       "45796"
      ],
      "text/plain": [
       "[1] 45796"
      ]
     },
     "metadata": {},
     "output_type": "display_data"
    },
    {
     "data": {
      "text/plain": [
       " recent_height_cm recent_weight_kg\n",
       " Min.   : 12.95   Min.   :  0.1   \n",
       " 1st Qu.:160.02   1st Qu.: 60.9   \n",
       " Median :167.64   Median : 73.1   \n",
       " Mean   :167.97   Mean   : 76.6   \n",
       " 3rd Qu.:175.26   3rd Qu.: 88.0   \n",
       " Max.   :210.82   Max.   :320.7   \n",
       " NA's   :1413     NA's   :310     "
      ]
     },
     "metadata": {},
     "output_type": "display_data"
    },
    {
     "data": {
      "text/html": [
       "12"
      ],
      "text/latex": [
       "12"
      ],
      "text/markdown": [
       "12"
      ],
      "text/plain": [
       "[1] 12"
      ]
     },
     "metadata": {},
     "output_type": "display_data"
    },
    {
     "data": {
      "text/html": [
       "4"
      ],
      "text/latex": [
       "4"
      ],
      "text/markdown": [
       "4"
      ],
      "text/plain": [
       "[1] 4"
      ]
     },
     "metadata": {},
     "output_type": "display_data"
    },
    {
     "data": {
      "text/plain": [
       " recent_height_cm recent_weight_kg\n",
       " Min.   :115.0    Min.   : 20.5   \n",
       " 1st Qu.:160.0    1st Qu.: 60.9   \n",
       " Median :167.6    Median : 73.1   \n",
       " Mean   :168.0    Mean   : 76.6   \n",
       " 3rd Qu.:175.3    3rd Qu.: 88.0   \n",
       " Max.   :210.8    Max.   :320.7   \n",
       " NA's   :1425     NA's   :314     "
      ]
     },
     "metadata": {},
     "output_type": "display_data"
    },
    {
     "data": {
      "text/html": [
       "0"
      ],
      "text/latex": [
       "0"
      ],
      "text/markdown": [
       "0"
      ],
      "text/plain": [
       "[1] 0"
      ]
     },
     "metadata": {},
     "output_type": "display_data"
    },
    {
     "data": {
      "text/html": [
       "<style>\n",
       ".list-inline {list-style: none; margin:0; padding: 0}\n",
       ".list-inline>li {display: inline-block}\n",
       ".list-inline>li:not(:last-child)::after {content: \"\\00b7\"; padding: 0 .5ex}\n",
       "</style>\n",
       "<ol class=list-inline><li>'anon_id'</li><li>'pat_enc_csn_id_coded'</li><li>'inpatient_data_id_coded'</li><li>'Height'</li><li>'Weight'</li></ol>\n"
      ],
      "text/latex": [
       "\\begin{enumerate*}\n",
       "\\item 'anon\\_id'\n",
       "\\item 'pat\\_enc\\_csn\\_id\\_coded'\n",
       "\\item 'inpatient\\_data\\_id\\_coded'\n",
       "\\item 'Height'\n",
       "\\item 'Weight'\n",
       "\\end{enumerate*}\n"
      ],
      "text/markdown": [
       "1. 'anon_id'\n",
       "2. 'pat_enc_csn_id_coded'\n",
       "3. 'inpatient_data_id_coded'\n",
       "4. 'Height'\n",
       "5. 'Weight'\n",
       "\n",
       "\n"
      ],
      "text/plain": [
       "[1] \"anon_id\"                 \"pat_enc_csn_id_coded\"   \n",
       "[3] \"inpatient_data_id_coded\" \"Height\"                 \n",
       "[5] \"Weight\"                 "
      ]
     },
     "metadata": {},
     "output_type": "display_data"
    },
    {
     "data": {
      "text/html": [
       "<style>\n",
       ".list-inline {list-style: none; margin:0; padding: 0}\n",
       ".list-inline>li {display: inline-block}\n",
       ".list-inline>li:not(:last-child)::after {content: \"\\00b7\"; padding: 0 .5ex}\n",
       "</style>\n",
       "<ol class=list-inline><li>'anon_id'</li><li>'pat_enc_csn_id_coded'</li><li>'label'</li><li>'admit_time'</li><li>'inpatient_data_id_coded'</li><li>'ESI'</li><li>'gender'</li><li>'race'</li><li>'recent_height_cm'</li><li>'recent_weight_kg'</li><li>'insurance'</li><li>'recent_date'</li><li>'age'</li><li>'English'</li></ol>\n"
      ],
      "text/latex": [
       "\\begin{enumerate*}\n",
       "\\item 'anon\\_id'\n",
       "\\item 'pat\\_enc\\_csn\\_id\\_coded'\n",
       "\\item 'label'\n",
       "\\item 'admit\\_time'\n",
       "\\item 'inpatient\\_data\\_id\\_coded'\n",
       "\\item 'ESI'\n",
       "\\item 'gender'\n",
       "\\item 'race'\n",
       "\\item 'recent\\_height\\_cm'\n",
       "\\item 'recent\\_weight\\_kg'\n",
       "\\item 'insurance'\n",
       "\\item 'recent\\_date'\n",
       "\\item 'age'\n",
       "\\item 'English'\n",
       "\\end{enumerate*}\n"
      ],
      "text/markdown": [
       "1. 'anon_id'\n",
       "2. 'pat_enc_csn_id_coded'\n",
       "3. 'label'\n",
       "4. 'admit_time'\n",
       "5. 'inpatient_data_id_coded'\n",
       "6. 'ESI'\n",
       "7. 'gender'\n",
       "8. 'race'\n",
       "9. 'recent_height_cm'\n",
       "10. 'recent_weight_kg'\n",
       "11. 'insurance'\n",
       "12. 'recent_date'\n",
       "13. 'age'\n",
       "14. 'English'\n",
       "\n",
       "\n"
      ],
      "text/plain": [
       " [1] \"anon_id\"                 \"pat_enc_csn_id_coded\"   \n",
       " [3] \"label\"                   \"admit_time\"             \n",
       " [5] \"inpatient_data_id_coded\" \"ESI\"                    \n",
       " [7] \"gender\"                  \"race\"                   \n",
       " [9] \"recent_height_cm\"        \"recent_weight_kg\"       \n",
       "[11] \"insurance\"               \"recent_date\"            \n",
       "[13] \"age\"                     \"English\"                "
      ]
     },
     "metadata": {},
     "output_type": "display_data"
    }
   ],
   "source": [
    "# check cohort_demo, with H and W already removed erroneous values\n",
    "cohort_demo <- read.csv(file.path(featuredir, \"cohort_demo.csv\"))\n",
    "nrow(cohort_demo) #45796\n",
    "length(unique(cohort_demo$anon_id)) #31513\n",
    "length(unique(cohort_demo$pat_enc_csn_id_coded)) #45796\n",
    "\n",
    "summary(cohort_demo %>% select(recent_height_cm, recent_weight_kg))\n",
    "\n",
    "nrow(cohort_demo %>% filter(recent_height_cm < 45*in_2_cm | recent_height_cm >  90*in_2_cm)) #12\n",
    "nrow(cohort_demo %>% filter(recent_weight_kg < 720*oz_2_kg | recent_weight_kg > 12000*oz_2_kg)) #4\n",
    "\n",
    "# replace cohort_demo H&W with NA for the bad\n",
    "cohort_demo <- cohort_demo %>% mutate(recent_height_cm = ifelse(recent_height_cm < 45*in_2_cm | recent_height_cm > 90*in_2_cm, \n",
    "                                                     NA, recent_height_cm),\n",
    "                                      recent_weight_kg = ifelse(recent_weight_kg < 720*oz_2_kg | recent_weight_kg > 12000*oz_2_kg, \n",
    "                                                     NA, recent_weight_kg))\n",
    "\n",
    "summary(cohort_demo %>% select(recent_height_cm, recent_weight_kg))\n",
    "\n",
    "# patients in flowsheet but no matching in demographics: all fs are in cohort_demo\n",
    "nrow(anti_join(fsHW, cohort_demo, by=c(\"anon_id\", \"pat_enc_csn_id_coded\"))) #0\n",
    "colnames(fsHW)\n",
    "colnames(cohort_demo)"
   ]
  },
  {
   "cell_type": "code",
   "execution_count": 61,
   "metadata": {},
   "outputs": [
    {
     "name": "stderr",
     "output_type": "stream",
     "text": [
      "Joining, by = c(\"anon_id\", \"pat_enc_csn_id_coded\", \"inpatient_data_id_coded\")\n",
      "\n"
     ]
    },
    {
     "data": {
      "text/html": [
       "45796"
      ],
      "text/latex": [
       "45796"
      ],
      "text/markdown": [
       "45796"
      ],
      "text/plain": [
       "[1] 45796"
      ]
     },
     "metadata": {},
     "output_type": "display_data"
    },
    {
     "data": {
      "text/html": [
       "31513"
      ],
      "text/latex": [
       "31513"
      ],
      "text/markdown": [
       "31513"
      ],
      "text/plain": [
       "[1] 31513"
      ]
     },
     "metadata": {},
     "output_type": "display_data"
    },
    {
     "data": {
      "text/html": [
       "45796"
      ],
      "text/latex": [
       "45796"
      ],
      "text/markdown": [
       "45796"
      ],
      "text/plain": [
       "[1] 45796"
      ]
     },
     "metadata": {},
     "output_type": "display_data"
    },
    {
     "name": "stderr",
     "output_type": "stream",
     "text": [
      "Adding missing grouping variables: `anon_id`, `pat_enc_csn_id_coded`\n",
      "\n"
     ]
    },
    {
     "data": {
      "text/plain": [
       "   anon_id          pat_enc_csn_id_coded     Height          Weight      \n",
       " Length:45796       Min.   :1.311e+11    Min.   :115.0   Min.   : 20.50  \n",
       " Class :character   1st Qu.:1.312e+11    1st Qu.:160.0   1st Qu.: 61.00  \n",
       " Mode  :character   Median :1.312e+11    Median :168.0   Median : 73.30  \n",
       "                    Mean   :1.312e+11    Mean   :168.2   Mean   : 76.92  \n",
       "                    3rd Qu.:1.313e+11    3rd Qu.:175.3   3rd Qu.: 88.00  \n",
       "                    Max.   :1.313e+11    Max.   :213.0   Max.   :320.69  \n",
       "                                         NA's   :1423    NA's   :312     \n",
       " recent_height_cm recent_weight_kg\n",
       " Min.   :115.0    Min.   : 20.5   \n",
       " 1st Qu.:160.0    1st Qu.: 60.9   \n",
       " Median :167.6    Median : 73.1   \n",
       " Mean   :168.0    Mean   : 76.6   \n",
       " 3rd Qu.:175.3    3rd Qu.: 88.0   \n",
       " Max.   :210.8    Max.   :320.7   \n",
       " NA's   :1425     NA's   :314     "
      ]
     },
     "metadata": {},
     "output_type": "display_data"
    }
   ],
   "source": [
    "cohort_hw <- left_join(cohort_demo, fsHW) %>% \n",
    "                group_by(anon_id, pat_enc_csn_id_coded) %>%\n",
    "                mutate(Height = ifelse(is.na(Height), recent_height_cm, round(Height * in_2_cm, 0)),\n",
    "                       Weight = ifelse(is.na(Weight), recent_weight_kg, round(Weight * oz_2_kg, 0))) \n",
    "\n",
    "nrow(cohort_hw) #45796 last\n",
    "length(unique(cohort_hw$anon_id)) #31513\n",
    "length(unique(cohort_hw$pat_enc_csn_id_coded)) #45796\n",
    "\n",
    "# the distributions are pretty close. this is good. \n",
    "summary(cohort_hw %>% select(Height, Weight, recent_height_cm, recent_weight_kg))"
   ]
  },
  {
   "cell_type": "code",
   "execution_count": 55,
   "metadata": {},
   "outputs": [
    {
     "data": {
      "text/html": [
       "<table>\n",
       "<caption>A grouped_df: 6 × 16</caption>\n",
       "<thead>\n",
       "\t<tr><th scope=col>anon_id</th><th scope=col>pat_enc_csn_id_coded</th><th scope=col>label</th><th scope=col>admit_time</th><th scope=col>inpatient_data_id_coded</th><th scope=col>ESI</th><th scope=col>gender</th><th scope=col>race</th><th scope=col>recent_height_cm</th><th scope=col>recent_weight_kg</th><th scope=col>insurance</th><th scope=col>recent_date</th><th scope=col>age</th><th scope=col>English</th><th scope=col>Height</th><th scope=col>Weight</th></tr>\n",
       "\t<tr><th scope=col>&lt;chr&gt;</th><th scope=col>&lt;dbl&gt;</th><th scope=col>&lt;int&gt;</th><th scope=col>&lt;chr&gt;</th><th scope=col>&lt;int&gt;</th><th scope=col>&lt;int&gt;</th><th scope=col>&lt;chr&gt;</th><th scope=col>&lt;chr&gt;</th><th scope=col>&lt;dbl&gt;</th><th scope=col>&lt;dbl&gt;</th><th scope=col>&lt;int&gt;</th><th scope=col>&lt;chr&gt;</th><th scope=col>&lt;int&gt;</th><th scope=col>&lt;int&gt;</th><th scope=col>&lt;dbl&gt;</th><th scope=col>&lt;dbl&gt;</th></tr>\n",
       "</thead>\n",
       "<tbody>\n",
       "\t<tr><td>JC29f8ad2</td><td>131274729058</td><td>0</td><td>2019-08-31 12:52:00</td><td>40679773</td><td>3</td><td>Female</td><td>White  </td><td>165.1</td><td>83.46</td><td>1</td><td>2020-03-31</td><td>52</td><td>1</td><td>165.0</td><td>81.0</td></tr>\n",
       "\t<tr><td>JC29f8ad3</td><td>131278291027</td><td>0</td><td>2019-10-05 23:48:00</td><td>42992239</td><td>3</td><td>Female</td><td>Asian  </td><td>   NA</td><td>   NA</td><td>1</td><td>2020-02-24</td><td>35</td><td>1</td><td>   NA</td><td>  NA</td></tr>\n",
       "\t<tr><td>JC29f8b9c</td><td>131266787806</td><td>0</td><td>2019-05-05 01:07:00</td><td>36261582</td><td>2</td><td>Male  </td><td>Unknown</td><td>   NA</td><td>   NA</td><td>0</td><td>2019-01-12</td><td>59</td><td>0</td><td>   NA</td><td>  NA</td></tr>\n",
       "\t<tr><td>JC29f8beb</td><td>131264387263</td><td>0</td><td>2019-03-15 03:35:00</td><td>34626013</td><td>3</td><td>Female</td><td>White  </td><td>154.9</td><td>65.40</td><td>1</td><td>2019-12-22</td><td>30</td><td>1</td><td>154.9</td><td>65.4</td></tr>\n",
       "\t<tr><td>JC29f8beb</td><td>131279241689</td><td>0</td><td>2019-11-27 15:29:00</td><td>43527040</td><td>3</td><td>Female</td><td>White  </td><td>154.9</td><td>65.40</td><td>1</td><td>2019-12-22</td><td>30</td><td>1</td><td>155.0</td><td>63.0</td></tr>\n",
       "\t<tr><td>JC29f8bef</td><td>131280937356</td><td>0</td><td>2019-11-30 10:35:00</td><td>44544574</td><td>3</td><td>Female</td><td>Asian  </td><td>156.0</td><td>51.70</td><td>1</td><td>2020-03-31</td><td>60</td><td>1</td><td>156.0</td><td>51.7</td></tr>\n",
       "</tbody>\n",
       "</table>\n"
      ],
      "text/latex": [
       "A grouped\\_df: 6 × 16\n",
       "\\begin{tabular}{llllllllllllllll}\n",
       " anon\\_id & pat\\_enc\\_csn\\_id\\_coded & label & admit\\_time & inpatient\\_data\\_id\\_coded & ESI & gender & race & recent\\_height\\_cm & recent\\_weight\\_kg & insurance & recent\\_date & age & English & Height & Weight\\\\\n",
       " <chr> & <dbl> & <int> & <chr> & <int> & <int> & <chr> & <chr> & <dbl> & <dbl> & <int> & <chr> & <int> & <int> & <dbl> & <dbl>\\\\\n",
       "\\hline\n",
       "\t JC29f8ad2 & 131274729058 & 0 & 2019-08-31 12:52:00 & 40679773 & 3 & Female & White   & 165.1 & 83.46 & 1 & 2020-03-31 & 52 & 1 & 165.0 & 81.0\\\\\n",
       "\t JC29f8ad3 & 131278291027 & 0 & 2019-10-05 23:48:00 & 42992239 & 3 & Female & Asian   &    NA &    NA & 1 & 2020-02-24 & 35 & 1 &    NA &   NA\\\\\n",
       "\t JC29f8b9c & 131266787806 & 0 & 2019-05-05 01:07:00 & 36261582 & 2 & Male   & Unknown &    NA &    NA & 0 & 2019-01-12 & 59 & 0 &    NA &   NA\\\\\n",
       "\t JC29f8beb & 131264387263 & 0 & 2019-03-15 03:35:00 & 34626013 & 3 & Female & White   & 154.9 & 65.40 & 1 & 2019-12-22 & 30 & 1 & 154.9 & 65.4\\\\\n",
       "\t JC29f8beb & 131279241689 & 0 & 2019-11-27 15:29:00 & 43527040 & 3 & Female & White   & 154.9 & 65.40 & 1 & 2019-12-22 & 30 & 1 & 155.0 & 63.0\\\\\n",
       "\t JC29f8bef & 131280937356 & 0 & 2019-11-30 10:35:00 & 44544574 & 3 & Female & Asian   & 156.0 & 51.70 & 1 & 2020-03-31 & 60 & 1 & 156.0 & 51.7\\\\\n",
       "\\end{tabular}\n"
      ],
      "text/markdown": [
       "\n",
       "A grouped_df: 6 × 16\n",
       "\n",
       "| anon_id &lt;chr&gt; | pat_enc_csn_id_coded &lt;dbl&gt; | label &lt;int&gt; | admit_time &lt;chr&gt; | inpatient_data_id_coded &lt;int&gt; | ESI &lt;int&gt; | gender &lt;chr&gt; | race &lt;chr&gt; | recent_height_cm &lt;dbl&gt; | recent_weight_kg &lt;dbl&gt; | insurance &lt;int&gt; | recent_date &lt;chr&gt; | age &lt;int&gt; | English &lt;int&gt; | Height &lt;dbl&gt; | Weight &lt;dbl&gt; |\n",
       "|---|---|---|---|---|---|---|---|---|---|---|---|---|---|---|---|\n",
       "| JC29f8ad2 | 131274729058 | 0 | 2019-08-31 12:52:00 | 40679773 | 3 | Female | White   | 165.1 | 83.46 | 1 | 2020-03-31 | 52 | 1 | 165.0 | 81.0 |\n",
       "| JC29f8ad3 | 131278291027 | 0 | 2019-10-05 23:48:00 | 42992239 | 3 | Female | Asian   |    NA |    NA | 1 | 2020-02-24 | 35 | 1 |    NA |   NA |\n",
       "| JC29f8b9c | 131266787806 | 0 | 2019-05-05 01:07:00 | 36261582 | 2 | Male   | Unknown |    NA |    NA | 0 | 2019-01-12 | 59 | 0 |    NA |   NA |\n",
       "| JC29f8beb | 131264387263 | 0 | 2019-03-15 03:35:00 | 34626013 | 3 | Female | White   | 154.9 | 65.40 | 1 | 2019-12-22 | 30 | 1 | 154.9 | 65.4 |\n",
       "| JC29f8beb | 131279241689 | 0 | 2019-11-27 15:29:00 | 43527040 | 3 | Female | White   | 154.9 | 65.40 | 1 | 2019-12-22 | 30 | 1 | 155.0 | 63.0 |\n",
       "| JC29f8bef | 131280937356 | 0 | 2019-11-30 10:35:00 | 44544574 | 3 | Female | Asian   | 156.0 | 51.70 | 1 | 2020-03-31 | 60 | 1 | 156.0 | 51.7 |\n",
       "\n"
      ],
      "text/plain": [
       "  anon_id   pat_enc_csn_id_coded label admit_time         \n",
       "1 JC29f8ad2 131274729058         0     2019-08-31 12:52:00\n",
       "2 JC29f8ad3 131278291027         0     2019-10-05 23:48:00\n",
       "3 JC29f8b9c 131266787806         0     2019-05-05 01:07:00\n",
       "4 JC29f8beb 131264387263         0     2019-03-15 03:35:00\n",
       "5 JC29f8beb 131279241689         0     2019-11-27 15:29:00\n",
       "6 JC29f8bef 131280937356         0     2019-11-30 10:35:00\n",
       "  inpatient_data_id_coded ESI gender race    recent_height_cm recent_weight_kg\n",
       "1 40679773                3   Female White   165.1            83.46           \n",
       "2 42992239                3   Female Asian      NA               NA           \n",
       "3 36261582                2   Male   Unknown    NA               NA           \n",
       "4 34626013                3   Female White   154.9            65.40           \n",
       "5 43527040                3   Female White   154.9            65.40           \n",
       "6 44544574                3   Female Asian   156.0            51.70           \n",
       "  insurance recent_date age English Height Weight\n",
       "1 1         2020-03-31  52  1       165.0  81.0  \n",
       "2 1         2020-02-24  35  1          NA    NA  \n",
       "3 0         2019-01-12  59  0          NA    NA  \n",
       "4 1         2019-12-22  30  1       154.9  65.4  \n",
       "5 1         2019-12-22  30  1       155.0  63.0  \n",
       "6 1         2020-03-31  60  1       156.0  51.7  "
      ]
     },
     "metadata": {},
     "output_type": "display_data"
    }
   ],
   "source": [
    "head(cohort_hw)"
   ]
  },
  {
   "cell_type": "code",
   "execution_count": 62,
   "metadata": {},
   "outputs": [],
   "source": [
    "# save file, this has all processed variables from demographics and processed HW from flowsheet\n",
    "cohort_hw <- cohort_hw %>% select(-recent_height_cm, -recent_weight_kg)\n",
    "write.csv(cohort_hw, file.path(featuredir, \"cohort_demoHW.csv\"), row.names=FALSE)"
   ]
  }
 ],
 "metadata": {
  "environment": {
   "name": "r-cpu.4-0.m71",
   "type": "gcloud",
   "uri": "gcr.io/deeplearning-platform-release/r-cpu.4-0:m71"
  },
  "kernelspec": {
   "display_name": "R",
   "language": "R",
   "name": "ir"
  },
  "language_info": {
   "codemirror_mode": "r",
   "file_extension": ".r",
   "mimetype": "text/x-r-source",
   "name": "R",
   "pygments_lexer": "r",
   "version": "4.0.3"
  },
  "toc": {
   "base_numbering": 1,
   "nav_menu": {},
   "number_sections": true,
   "sideBar": true,
   "skip_h1_title": false,
   "title_cell": "Table of Contents",
   "title_sidebar": "Contents",
   "toc_cell": false,
   "toc_position": {},
   "toc_section_display": true,
   "toc_window_display": false
  },
  "varInspector": {
   "cols": {
    "lenName": 16,
    "lenType": 16,
    "lenVar": 40
   },
   "kernels_config": {
    "python": {
     "delete_cmd_postfix": "",
     "delete_cmd_prefix": "del ",
     "library": "var_list.py",
     "varRefreshCmd": "print(var_dic_list())"
    },
    "r": {
     "delete_cmd_postfix": ") ",
     "delete_cmd_prefix": "rm(",
     "library": "var_list.r",
     "varRefreshCmd": "cat(var_dic_list()) "
    }
   },
   "types_to_exclude": [
    "module",
    "function",
    "builtin_function_or_method",
    "instance",
    "_Feature"
   ],
   "window_display": false
  }
 },
 "nbformat": 4,
 "nbformat_minor": 4
}
