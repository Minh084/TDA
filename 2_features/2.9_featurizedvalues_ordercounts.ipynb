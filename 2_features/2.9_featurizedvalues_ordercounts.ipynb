{
 "cells": [
  {
   "cell_type": "markdown",
   "id": "156b4584",
   "metadata": {},
   "source": [
    "### Description:\n",
    "- Read in the decile-binned values of labs and vitals `2_8_binned_labs_vitals`\n",
    "- Read in the data `order_code_counts` from sql order counts, combine Microbiology Culture with Microbiology \n",
    "- Combine this featurized data for full complex data modeling\n",
    "- Create a smaller random sample for testing \n",
    "\n",
    "**Notations**:\n",
    "- train vs val OR train_val vs test:\n",
    "    - `..._train`: used the training set (2015 - 2017) for value distributions\n",
    "    - `..._test`: used the training and validation set (2015 - 2018) for value distributions   \n",
    "- cohorts: \n",
    "    - `...coh4...` used 1_4_cohort\n",
    "    - `...coh5...` used 1_5_cohort_final\n",
    "    \n",
    "**Inputs**: \n",
    "- `2_8_binned_labs_vitals`: from feature_values, binned into deciles\n",
    "- `order_code_counts`: from SQL querried counts for different orders\n",
    "    \n",
    "**Outputs**: \n",
    "- have demo, vitals and labs in binned counts, order counts: long format, with year extracted\n",
    "- `2_9_features_all_long_year`:\n",
    "    - 2015 - 2017 as trained data for value distributions to bin validation data of 2018\n",
    "        - used for training and select model hyperparameters based on validation data\n",
    "    - test data > 2018 (2019 and some 2020) left unused\n",
    "    - after training and selecting hyperparameters, re-do value distributions on 2015 - 2018 (train + val) data\n",
    "    - test data > 2018 (2019 and some 2020) are now binned on based on these distributions\n",
    "    - binned test data is used for the final prediction and evaluation of model performance\n",
    "    \n",
    "**Notes**:\n",
    "- `coh4_order_code_counts` is a superset of `coh5_order_code_counts` including all 1_4_cohort\n",
    "- but `2_9_coh4_features_all_long_year` is NOT a superset of `2_9_coh5_features_all_long_year` --> run them separately"
   ]
  },
  {
   "cell_type": "code",
   "execution_count": 145,
   "id": "4375d545",
   "metadata": {},
   "outputs": [],
   "source": [
    "library(data.table)\n",
    "library(tidyverse)\n",
    "library(lubridate)\n",
    "# library(Matrix)\n",
    "# library(slam)\n",
    "# library(bit64)\n",
    "# library(mtools) for one hot coder, not available on Nero or use caret or tidyr\n",
    "options(repr.matrix.max.rows=200, repr.matrix.max.cols=30)"
   ]
  },
  {
   "cell_type": "code",
   "execution_count": 1,
   "id": "46dfeba0",
   "metadata": {},
   "outputs": [
    {
     "name": "stderr",
     "output_type": "stream",
     "text": [
      "Installing packages into ‘/home/jupyter/.R/library’\n",
      "(as ‘lib’ is unspecified)\n",
      "\n",
      "also installing the dependency ‘plogr’\n",
      "\n",
      "\n"
     ]
    }
   ],
   "source": [
    "# install.packages(c(\"dbplyr\", \"RSQLite\"))"
   ]
  },
  {
   "cell_type": "code",
   "execution_count": 146,
   "id": "8bc753c1",
   "metadata": {},
   "outputs": [],
   "source": [
    "datadir = \"../../DataTD\"\n",
    "cohortdir = \"../../OutputTD/1_cohort\"\n",
    "featuredir = \"../../OutputTD/2_features\""
   ]
  },
  {
   "cell_type": "code",
   "execution_count": 147,
   "id": "8be4b3fd",
   "metadata": {},
   "outputs": [
    {
     "data": {
      "text/html": [
       "41366"
      ],
      "text/latex": [
       "41366"
      ],
      "text/markdown": [
       "41366"
      ],
      "text/plain": [
       "[1] 41366"
      ]
     },
     "metadata": {},
     "output_type": "display_data"
    },
    {
     "data": {
      "text/html": [
       "43980"
      ],
      "text/latex": [
       "43980"
      ],
      "text/markdown": [
       "43980"
      ],
      "text/plain": [
       "[1] 43980"
      ]
     },
     "metadata": {},
     "output_type": "display_data"
    },
    {
     "data": {
      "text/html": [
       "22030"
      ],
      "text/latex": [
       "22030"
      ],
      "text/markdown": [
       "22030"
      ],
      "text/plain": [
       "[1] 22030"
      ]
     },
     "metadata": {},
     "output_type": "display_data"
    },
    {
     "data": {
      "text/html": [
       "9532"
      ],
      "text/latex": [
       "9532"
      ],
      "text/markdown": [
       "9532"
      ],
      "text/plain": [
       "[1] 9532"
      ]
     },
     "metadata": {},
     "output_type": "display_data"
    },
    {
     "data": {
      "text/html": [
       "12418"
      ],
      "text/latex": [
       "12418"
      ],
      "text/markdown": [
       "12418"
      ],
      "text/plain": [
       "[1] 12418"
      ]
     },
     "metadata": {},
     "output_type": "display_data"
    },
    {
     "data": {
      "text/html": [
       "31562"
      ],
      "text/latex": [
       "31562"
      ],
      "text/markdown": [
       "31562"
      ],
      "text/plain": [
       "[1] 31562"
      ]
     },
     "metadata": {},
     "output_type": "display_data"
    }
   ],
   "source": [
    "cohort5 <- read.csv(file.path(cohortdir,  '1_5_cohort_final.csv'))\n",
    "nrow(cohort5) #41366\n",
    "cohort4 <- read.csv(file.path(cohortdir,  '1_4_cohort.csv'))\n",
    "nrow(cohort4) #43980\n",
    "\n",
    "nrow(cohort4 %>% filter(year(admit_time) < 2018)) # coh4 vs coh5 22030 vs 20762\n",
    "nrow(cohort4 %>% filter(year(admit_time) == 2018)) # coh4 vs coh5 9532 vs 8929\n",
    "nrow(cohort4 %>% filter(year(admit_time)> 2018)) # coh4 vs coh5 12418 vs 11675\n",
    "nrow(cohort4 %>% filter(year(admit_time) < 2019)) # coh4 vs coh5 31562 vs 29691"
   ]
  },
  {
   "cell_type": "raw",
   "id": "073b1c48",
   "metadata": {},
   "source": [
    "# orders5 is only a subset of orders4 excluding obs without labs (1_5_cohort_final)\n",
    "orders5 <- read.csv(file.path(datadir, 'coh5_order_code_counts.csv'))\n",
    "nrow(orders5) #5730678"
   ]
  },
  {
   "cell_type": "code",
   "execution_count": 148,
   "id": "89937271",
   "metadata": {},
   "outputs": [
    {
     "data": {
      "text/html": [
       "6086852"
      ],
      "text/latex": [
       "6086852"
      ],
      "text/markdown": [
       "6086852"
      ],
      "text/plain": [
       "[1] 6086852"
      ]
     },
     "metadata": {},
     "output_type": "display_data"
    }
   ],
   "source": [
    "# this one used 1_4_cohort to query orders\n",
    "orders4 <- read.csv(file.path(datadir, 'coh4_order_code_counts.csv'))\n",
    "nrow(orders4) #6086852"
   ]
  },
  {
   "cell_type": "code",
   "execution_count": 149,
   "id": "6baa5d73",
   "metadata": {},
   "outputs": [
    {
     "data": {
      "text/html": [
       "<table class=\"dataframe\">\n",
       "<caption>A data.frame: 6 × 6</caption>\n",
       "<thead>\n",
       "\t<tr><th></th><th scope=col>anon_id</th><th scope=col>pat_enc_csn_id_coded</th><th scope=col>admit_time</th><th scope=col>feature_type</th><th scope=col>features</th><th scope=col>values</th></tr>\n",
       "\t<tr><th></th><th scope=col>&lt;chr&gt;</th><th scope=col>&lt;dbl&gt;</th><th scope=col>&lt;chr&gt;</th><th scope=col>&lt;chr&gt;</th><th scope=col>&lt;chr&gt;</th><th scope=col>&lt;int&gt;</th></tr>\n",
       "</thead>\n",
       "<tbody>\n",
       "\t<tr><th scope=row>1</th><td>JCe78a06</td><td>131062667066</td><td>2015-01-02 01:01:00+00:00</td><td>Diagnosis</td><td>R19.7                                       </td><td>1</td></tr>\n",
       "\t<tr><th scope=row>2</th><td>JCe78a06</td><td>131062667066</td><td>2015-01-02 01:01:00+00:00</td><td>Diagnosis</td><td>R40.4                                       </td><td>1</td></tr>\n",
       "\t<tr><th scope=row>3</th><td>JCe78a06</td><td>131062667066</td><td>2015-01-02 01:01:00+00:00</td><td>Diagnosis</td><td>Z23                                         </td><td>1</td></tr>\n",
       "\t<tr><th scope=row>4</th><td>JCe78a06</td><td>131062667066</td><td>2015-01-02 01:01:00+00:00</td><td>Meds     </td><td>EPINEPHRINE 1 MG/ML (1:1,000) (1ML) INJ SOLN</td><td>1</td></tr>\n",
       "\t<tr><th scope=row>5</th><td>JCe78a06</td><td>131062667066</td><td>2015-01-02 01:01:00+00:00</td><td>Diagnosis</td><td>J81.0                                       </td><td>1</td></tr>\n",
       "\t<tr><th scope=row>6</th><td>JCe78a06</td><td>131062667066</td><td>2015-01-02 01:01:00+00:00</td><td>Meds     </td><td>CEFTRIAXONE 1 GRAM/50 ML MINI-BAG PLUS      </td><td>1</td></tr>\n",
       "</tbody>\n",
       "</table>\n"
      ],
      "text/latex": [
       "A data.frame: 6 × 6\n",
       "\\begin{tabular}{r|llllll}\n",
       "  & anon\\_id & pat\\_enc\\_csn\\_id\\_coded & admit\\_time & feature\\_type & features & values\\\\\n",
       "  & <chr> & <dbl> & <chr> & <chr> & <chr> & <int>\\\\\n",
       "\\hline\n",
       "\t1 & JCe78a06 & 131062667066 & 2015-01-02 01:01:00+00:00 & Diagnosis & R19.7                                        & 1\\\\\n",
       "\t2 & JCe78a06 & 131062667066 & 2015-01-02 01:01:00+00:00 & Diagnosis & R40.4                                        & 1\\\\\n",
       "\t3 & JCe78a06 & 131062667066 & 2015-01-02 01:01:00+00:00 & Diagnosis & Z23                                          & 1\\\\\n",
       "\t4 & JCe78a06 & 131062667066 & 2015-01-02 01:01:00+00:00 & Meds      & EPINEPHRINE 1 MG/ML (1:1,000) (1ML) INJ SOLN & 1\\\\\n",
       "\t5 & JCe78a06 & 131062667066 & 2015-01-02 01:01:00+00:00 & Diagnosis & J81.0                                        & 1\\\\\n",
       "\t6 & JCe78a06 & 131062667066 & 2015-01-02 01:01:00+00:00 & Meds      & CEFTRIAXONE 1 GRAM/50 ML MINI-BAG PLUS       & 1\\\\\n",
       "\\end{tabular}\n"
      ],
      "text/markdown": [
       "\n",
       "A data.frame: 6 × 6\n",
       "\n",
       "| <!--/--> | anon_id &lt;chr&gt; | pat_enc_csn_id_coded &lt;dbl&gt; | admit_time &lt;chr&gt; | feature_type &lt;chr&gt; | features &lt;chr&gt; | values &lt;int&gt; |\n",
       "|---|---|---|---|---|---|---|\n",
       "| 1 | JCe78a06 | 131062667066 | 2015-01-02 01:01:00+00:00 | Diagnosis | R19.7                                        | 1 |\n",
       "| 2 | JCe78a06 | 131062667066 | 2015-01-02 01:01:00+00:00 | Diagnosis | R40.4                                        | 1 |\n",
       "| 3 | JCe78a06 | 131062667066 | 2015-01-02 01:01:00+00:00 | Diagnosis | Z23                                          | 1 |\n",
       "| 4 | JCe78a06 | 131062667066 | 2015-01-02 01:01:00+00:00 | Meds      | EPINEPHRINE 1 MG/ML (1:1,000) (1ML) INJ SOLN | 1 |\n",
       "| 5 | JCe78a06 | 131062667066 | 2015-01-02 01:01:00+00:00 | Diagnosis | J81.0                                        | 1 |\n",
       "| 6 | JCe78a06 | 131062667066 | 2015-01-02 01:01:00+00:00 | Meds      | CEFTRIAXONE 1 GRAM/50 ML MINI-BAG PLUS       | 1 |\n",
       "\n"
      ],
      "text/plain": [
       "  anon_id  pat_enc_csn_id_coded admit_time                feature_type\n",
       "1 JCe78a06 131062667066         2015-01-02 01:01:00+00:00 Diagnosis   \n",
       "2 JCe78a06 131062667066         2015-01-02 01:01:00+00:00 Diagnosis   \n",
       "3 JCe78a06 131062667066         2015-01-02 01:01:00+00:00 Diagnosis   \n",
       "4 JCe78a06 131062667066         2015-01-02 01:01:00+00:00 Meds        \n",
       "5 JCe78a06 131062667066         2015-01-02 01:01:00+00:00 Diagnosis   \n",
       "6 JCe78a06 131062667066         2015-01-02 01:01:00+00:00 Meds        \n",
       "  features                                     values\n",
       "1 R19.7                                        1     \n",
       "2 R40.4                                        1     \n",
       "3 Z23                                          1     \n",
       "4 EPINEPHRINE 1 MG/ML (1:1,000) (1ML) INJ SOLN 1     \n",
       "5 J81.0                                        1     \n",
       "6 CEFTRIAXONE 1 GRAM/50 ML MINI-BAG PLUS       1     "
      ]
     },
     "metadata": {},
     "output_type": "display_data"
    }
   ],
   "source": [
    "head(orders4)"
   ]
  },
  {
   "cell_type": "code",
   "execution_count": 150,
   "id": "17f56c39",
   "metadata": {},
   "outputs": [
    {
     "data": {
      "text/html": [
       "<table class=\"dataframe\">\n",
       "<caption>A grouped_df: 7 × 2</caption>\n",
       "<thead>\n",
       "\t<tr><th scope=col>feature_type</th><th scope=col>n</th></tr>\n",
       "\t<tr><th scope=col>&lt;chr&gt;</th><th scope=col>&lt;int&gt;</th></tr>\n",
       "</thead>\n",
       "<tbody>\n",
       "\t<tr><td>Diagnosis           </td><td>2834516</td></tr>\n",
       "\t<tr><td>Meds                </td><td>1868195</td></tr>\n",
       "\t<tr><td>Lab                 </td><td> 993484</td></tr>\n",
       "\t<tr><td>Imaging             </td><td> 299944</td></tr>\n",
       "\t<tr><td>Procedures          </td><td>  51696</td></tr>\n",
       "\t<tr><td>Microbiology Culture</td><td>  37374</td></tr>\n",
       "\t<tr><td>Microbiology        </td><td>   1643</td></tr>\n",
       "</tbody>\n",
       "</table>\n"
      ],
      "text/latex": [
       "A grouped\\_df: 7 × 2\n",
       "\\begin{tabular}{ll}\n",
       " feature\\_type & n\\\\\n",
       " <chr> & <int>\\\\\n",
       "\\hline\n",
       "\t Diagnosis            & 2834516\\\\\n",
       "\t Meds                 & 1868195\\\\\n",
       "\t Lab                  &  993484\\\\\n",
       "\t Imaging              &  299944\\\\\n",
       "\t Procedures           &   51696\\\\\n",
       "\t Microbiology Culture &   37374\\\\\n",
       "\t Microbiology         &    1643\\\\\n",
       "\\end{tabular}\n"
      ],
      "text/markdown": [
       "\n",
       "A grouped_df: 7 × 2\n",
       "\n",
       "| feature_type &lt;chr&gt; | n &lt;int&gt; |\n",
       "|---|---|\n",
       "| Diagnosis            | 2834516 |\n",
       "| Meds                 | 1868195 |\n",
       "| Lab                  |  993484 |\n",
       "| Imaging              |  299944 |\n",
       "| Procedures           |   51696 |\n",
       "| Microbiology Culture |   37374 |\n",
       "| Microbiology         |    1643 |\n",
       "\n"
      ],
      "text/plain": [
       "  feature_type         n      \n",
       "1 Diagnosis            2834516\n",
       "2 Meds                 1868195\n",
       "3 Lab                   993484\n",
       "4 Imaging               299944\n",
       "5 Procedures             51696\n",
       "6 Microbiology Culture   37374\n",
       "7 Microbiology            1643"
      ]
     },
     "metadata": {},
     "output_type": "display_data"
    }
   ],
   "source": [
    "orders4 %>% group_by(feature_type) %>% count(sort=TRUE)"
   ]
  },
  {
   "cell_type": "code",
   "execution_count": 151,
   "id": "f339ee9b",
   "metadata": {},
   "outputs": [
    {
     "data": {
      "text/html": [
       "<table class=\"dataframe\">\n",
       "<caption>A grouped_df: 6 × 2</caption>\n",
       "<thead>\n",
       "\t<tr><th scope=col>feature_type</th><th scope=col>n</th></tr>\n",
       "\t<tr><th scope=col>&lt;chr&gt;</th><th scope=col>&lt;int&gt;</th></tr>\n",
       "</thead>\n",
       "<tbody>\n",
       "\t<tr><td>Diagnosis   </td><td>2834516</td></tr>\n",
       "\t<tr><td>Meds        </td><td>1868195</td></tr>\n",
       "\t<tr><td>Lab         </td><td> 993484</td></tr>\n",
       "\t<tr><td>Imaging     </td><td> 299944</td></tr>\n",
       "\t<tr><td>Procedures  </td><td>  51696</td></tr>\n",
       "\t<tr><td>Microbiology</td><td>  39017</td></tr>\n",
       "</tbody>\n",
       "</table>\n"
      ],
      "text/latex": [
       "A grouped\\_df: 6 × 2\n",
       "\\begin{tabular}{ll}\n",
       " feature\\_type & n\\\\\n",
       " <chr> & <int>\\\\\n",
       "\\hline\n",
       "\t Diagnosis    & 2834516\\\\\n",
       "\t Meds         & 1868195\\\\\n",
       "\t Lab          &  993484\\\\\n",
       "\t Imaging      &  299944\\\\\n",
       "\t Procedures   &   51696\\\\\n",
       "\t Microbiology &   39017\\\\\n",
       "\\end{tabular}\n"
      ],
      "text/markdown": [
       "\n",
       "A grouped_df: 6 × 2\n",
       "\n",
       "| feature_type &lt;chr&gt; | n &lt;int&gt; |\n",
       "|---|---|\n",
       "| Diagnosis    | 2834516 |\n",
       "| Meds         | 1868195 |\n",
       "| Lab          |  993484 |\n",
       "| Imaging      |  299944 |\n",
       "| Procedures   |   51696 |\n",
       "| Microbiology |   39017 |\n",
       "\n"
      ],
      "text/plain": [
       "  feature_type n      \n",
       "1 Diagnosis    2834516\n",
       "2 Meds         1868195\n",
       "3 Lab           993484\n",
       "4 Imaging       299944\n",
       "5 Procedures     51696\n",
       "6 Microbiology   39017"
      ]
     },
     "metadata": {},
     "output_type": "display_data"
    }
   ],
   "source": [
    "orders4_micro <- orders4 %>% mutate(feature_type = ifelse(str_detect(feature_type, \"Microbiology\"), \"Microbiology\", feature_type))\n",
    "orders4_micro %>% group_by(feature_type) %>% count(sort=TRUE)"
   ]
  },
  {
   "cell_type": "raw",
   "id": "47a10444",
   "metadata": {},
   "source": [
    "orders5_micro <- orders5 %>% mutate(feature_type = ifelse(str_detect(feature_type, \"Microbiology\"), \"Microbiology\", feature_type))\n",
    "nrow(orders5_micro) #5730678\n",
    "length(unique(orders5_micro$pat_enc_csn_id_coded)) # 43970 there are 10 people who had no orders"
   ]
  },
  {
   "cell_type": "code",
   "execution_count": 152,
   "id": "a608a294",
   "metadata": {},
   "outputs": [
    {
     "data": {
      "text/html": [
       "43970"
      ],
      "text/latex": [
       "43970"
      ],
      "text/markdown": [
       "43970"
      ],
      "text/plain": [
       "[1] 43970"
      ]
     },
     "metadata": {},
     "output_type": "display_data"
    }
   ],
   "source": [
    "length(unique(orders4_micro$pat_enc_csn_id_coded)) # 43970 there are 10 people who had no orders"
   ]
  },
  {
   "cell_type": "code",
   "execution_count": 153,
   "id": "fb4e3a76",
   "metadata": {},
   "outputs": [
    {
     "data": {
      "text/html": [],
      "text/latex": [],
      "text/markdown": [],
      "text/plain": [
       "numeric(0)"
      ]
     },
     "metadata": {},
     "output_type": "display_data"
    },
    {
     "data": {
      "text/html": [
       "<style>\n",
       ".list-inline {list-style: none; margin:0; padding: 0}\n",
       ".list-inline>li {display: inline-block}\n",
       ".list-inline>li:not(:last-child)::after {content: \"\\00b7\"; padding: 0 .5ex}\n",
       "</style>\n",
       "<ol class=list-inline><li>131250899044</li><li>131232385768</li><li>131143463175</li><li>131244907345</li><li>131193906942</li><li>131239369230</li><li>131236364892</li><li>131179268110</li><li>131282120209</li><li>131239885415</li></ol>\n"
      ],
      "text/latex": [
       "\\begin{enumerate*}\n",
       "\\item 131250899044\n",
       "\\item 131232385768\n",
       "\\item 131143463175\n",
       "\\item 131244907345\n",
       "\\item 131193906942\n",
       "\\item 131239369230\n",
       "\\item 131236364892\n",
       "\\item 131179268110\n",
       "\\item 131282120209\n",
       "\\item 131239885415\n",
       "\\end{enumerate*}\n"
      ],
      "text/markdown": [
       "1. 131250899044\n",
       "2. 131232385768\n",
       "3. 131143463175\n",
       "4. 131244907345\n",
       "5. 131193906942\n",
       "6. 131239369230\n",
       "7. 131236364892\n",
       "8. 131179268110\n",
       "9. 131282120209\n",
       "10. 131239885415\n",
       "\n",
       "\n"
      ],
      "text/plain": [
       " [1] 131250899044 131232385768 131143463175 131244907345 131193906942\n",
       " [6] 131239369230 131236364892 131179268110 131282120209 131239885415"
      ]
     },
     "metadata": {},
     "output_type": "display_data"
    }
   ],
   "source": [
    "setdiff(orders4_micro$pat_enc_csn_id_coded, cohort4$pat_enc_csn_id_coded) # 0 \n",
    "setdiff(cohort4$pat_enc_csn_id_coded, orders4_micro$pat_enc_csn_id_coded) # 10"
   ]
  },
  {
   "cell_type": "code",
   "execution_count": 154,
   "id": "084bee74",
   "metadata": {},
   "outputs": [
    {
     "data": {
      "text/html": [
       "5730678"
      ],
      "text/latex": [
       "5730678"
      ],
      "text/markdown": [
       "5730678"
      ],
      "text/plain": [
       "[1] 5730678"
      ]
     },
     "metadata": {},
     "output_type": "display_data"
    },
    {
     "data": {
      "text/html": [
       "41366"
      ],
      "text/latex": [
       "41366"
      ],
      "text/markdown": [
       "41366"
      ],
      "text/plain": [
       "[1] 41366"
      ]
     },
     "metadata": {},
     "output_type": "display_data"
    }
   ],
   "source": [
    "# orders5 is only a subset of orders4 excluding obs without labs (1_5_cohort_final)\n",
    "orders5_micro <- orders4_micro %>% filter(pat_enc_csn_id_coded %in% cohort5$pat_enc_csn_id_coded)\n",
    "nrow(orders5_micro) #5730678\n",
    "length(unique(orders5_micro$pat_enc_csn_id_coded)) #41366"
   ]
  },
  {
   "cell_type": "markdown",
   "id": "e3d328fc",
   "metadata": {},
   "source": [
    "### Check the featurized binned labs_vitals and combine all features\n",
    "- Keep them both (`..._train` and `..._test`) in the same dataframe\n",
    "- Run `2_7_feature_values`, `2_8_binned_labs_vitals_train`, and `2_8_binned_labs_vitals_test` **separately** for coh4 and coh5 when combining"
   ]
  },
  {
   "cell_type": "code",
   "execution_count": 155,
   "id": "1d31f2c3",
   "metadata": {},
   "outputs": [
    {
     "data": {
      "text/html": [
       "3012942"
      ],
      "text/latex": [
       "3012942"
      ],
      "text/markdown": [
       "3012942"
      ],
      "text/plain": [
       "[1] 3012942"
      ]
     },
     "metadata": {},
     "output_type": "display_data"
    },
    {
     "data": {
      "text/html": [
       "41366"
      ],
      "text/latex": [
       "41366"
      ],
      "text/markdown": [
       "41366"
      ],
      "text/plain": [
       "[1] 41366"
      ]
     },
     "metadata": {},
     "output_type": "display_data"
    },
    {
     "data": {
      "text/html": [
       "<table class=\"dataframe\">\n",
       "<caption>A grouped_df: 3 × 2</caption>\n",
       "<thead>\n",
       "\t<tr><th scope=col>feature_type</th><th scope=col>n</th></tr>\n",
       "\t<tr><th scope=col>&lt;chr&gt;</th><th scope=col>&lt;int&gt;</th></tr>\n",
       "</thead>\n",
       "<tbody>\n",
       "\t<tr><td>demo  </td><td> 703222</td></tr>\n",
       "\t<tr><td>labs  </td><td>1358669</td></tr>\n",
       "\t<tr><td>vitals</td><td> 951051</td></tr>\n",
       "</tbody>\n",
       "</table>\n"
      ],
      "text/latex": [
       "A grouped\\_df: 3 × 2\n",
       "\\begin{tabular}{ll}\n",
       " feature\\_type & n\\\\\n",
       " <chr> & <int>\\\\\n",
       "\\hline\n",
       "\t demo   &  703222\\\\\n",
       "\t labs   & 1358669\\\\\n",
       "\t vitals &  951051\\\\\n",
       "\\end{tabular}\n"
      ],
      "text/markdown": [
       "\n",
       "A grouped_df: 3 × 2\n",
       "\n",
       "| feature_type &lt;chr&gt; | n &lt;int&gt; |\n",
       "|---|---|\n",
       "| demo   |  703222 |\n",
       "| labs   | 1358669 |\n",
       "| vitals |  951051 |\n",
       "\n"
      ],
      "text/plain": [
       "  feature_type n      \n",
       "1 demo          703222\n",
       "2 labs         1358669\n",
       "3 vitals        951051"
      ]
     },
     "metadata": {},
     "output_type": "display_data"
    }
   ],
   "source": [
    "# check all features with values\n",
    "values <- read.csv(file.path(featuredir, '2_7_coh5_feature_values.csv'))\n",
    "nrow(values) # coh4 vs coh5: 3085046 vs 3012942\n",
    "length(unique(values$pat_enc_csn_id_coded)) # 43980 vs 41366\n",
    "values %>% group_by(feature_type) %>% count()"
   ]
  },
  {
   "cell_type": "code",
   "execution_count": 156,
   "id": "78143f5d",
   "metadata": {},
   "outputs": [
    {
     "data": {
      "text/html": [
       "1240798"
      ],
      "text/latex": [
       "1240798"
      ],
      "text/markdown": [
       "1240798"
      ],
      "text/plain": [
       "[1] 1240798"
      ]
     },
     "metadata": {},
     "output_type": "display_data"
    },
    {
     "data": {
      "text/html": [
       "1694667"
      ],
      "text/latex": [
       "1694667"
      ],
      "text/markdown": [
       "1694667"
      ],
      "text/plain": [
       "[1] 1694667"
      ]
     },
     "metadata": {},
     "output_type": "display_data"
    }
   ],
   "source": [
    "# check train set\n",
    "trainbin <- values %>% filter(year(admit_time) %in% c(2015, 2016, 2017))\n",
    "testbin <- values %>% filter(year(admit_time) %in% c(2015, 2016, 2017, 2018))\n",
    "\n",
    "nrow(trainbin %>% filter(feature_type != 'demo')) #coh4 vs coh5 1254522 vs 1240798 (check against 2.8_)\n",
    "nrow(testbin %>% filter(feature_type != 'demo')) #coh4 vs coh5 1714603 vs 1694667 (check against 2.8_)"
   ]
  },
  {
   "cell_type": "code",
   "execution_count": 158,
   "id": "6dae2f86",
   "metadata": {},
   "outputs": [
    {
     "data": {
      "text/html": [
       "1825075"
      ],
      "text/latex": [
       "1825075"
      ],
      "text/markdown": [
       "1825075"
      ],
      "text/plain": [
       "[1] 1825075"
      ]
     },
     "metadata": {},
     "output_type": "display_data"
    },
    {
     "data": {
      "text/html": [
       "41366"
      ],
      "text/latex": [
       "41366"
      ],
      "text/markdown": [
       "41366"
      ],
      "text/plain": [
       "[1] 41366"
      ]
     },
     "metadata": {},
     "output_type": "display_data"
    },
    {
     "data": {
      "text/html": [
       "<table class=\"dataframe\">\n",
       "<caption>A grouped_df: 2 × 2</caption>\n",
       "<thead>\n",
       "\t<tr><th scope=col>feature_type</th><th scope=col>n</th></tr>\n",
       "\t<tr><th scope=col>&lt;chr&gt;</th><th scope=col>&lt;int&gt;</th></tr>\n",
       "</thead>\n",
       "<tbody>\n",
       "\t<tr><td>labs_results_train</td><td>1304104</td></tr>\n",
       "\t<tr><td>vitals_train      </td><td> 520971</td></tr>\n",
       "</tbody>\n",
       "</table>\n"
      ],
      "text/latex": [
       "A grouped\\_df: 2 × 2\n",
       "\\begin{tabular}{ll}\n",
       " feature\\_type & n\\\\\n",
       " <chr> & <int>\\\\\n",
       "\\hline\n",
       "\t labs\\_results\\_train & 1304104\\\\\n",
       "\t vitals\\_train       &  520971\\\\\n",
       "\\end{tabular}\n"
      ],
      "text/markdown": [
       "\n",
       "A grouped_df: 2 × 2\n",
       "\n",
       "| feature_type &lt;chr&gt; | n &lt;int&gt; |\n",
       "|---|---|\n",
       "| labs_results_train | 1304104 |\n",
       "| vitals_train       |  520971 |\n",
       "\n"
      ],
      "text/plain": [
       "  feature_type       n      \n",
       "1 labs_results_train 1304104\n",
       "2 vitals_train        520971"
      ]
     },
     "metadata": {},
     "output_type": "display_data"
    }
   ],
   "source": [
    "# read in train_binned labs and vitals\n",
    "trainbinned_labs_vitals <- read.csv(file.path(featuredir, '2_8_coh5_binned_labs_vitals_train.csv'))\n",
    "nrow(trainbinned_labs_vitals) #coh4 vs coh5: 1846044 vs 1825075\n",
    "length(unique(trainbinned_labs_vitals$pat_enc_csn_id_coded)) #43980 vs 41366\n",
    "trainbinned_labs_vitals %>% group_by(feature_type) %>% count()"
   ]
  },
  {
   "cell_type": "code",
   "execution_count": 159,
   "id": "fdac4e55",
   "metadata": {},
   "outputs": [
    {
     "data": {
      "text/html": [
       "1827530"
      ],
      "text/latex": [
       "1827530"
      ],
      "text/markdown": [
       "1827530"
      ],
      "text/plain": [
       "[1] 1827530"
      ]
     },
     "metadata": {},
     "output_type": "display_data"
    },
    {
     "data": {
      "text/html": [
       "41366"
      ],
      "text/latex": [
       "41366"
      ],
      "text/markdown": [
       "41366"
      ],
      "text/plain": [
       "[1] 41366"
      ]
     },
     "metadata": {},
     "output_type": "display_data"
    },
    {
     "data": {
      "text/html": [
       "<table class=\"dataframe\">\n",
       "<caption>A grouped_df: 2 × 2</caption>\n",
       "<thead>\n",
       "\t<tr><th scope=col>feature_type</th><th scope=col>n</th></tr>\n",
       "\t<tr><th scope=col>&lt;chr&gt;</th><th scope=col>&lt;int&gt;</th></tr>\n",
       "</thead>\n",
       "<tbody>\n",
       "\t<tr><td>labs_results_test</td><td>1304320</td></tr>\n",
       "\t<tr><td>vitals_test      </td><td> 523210</td></tr>\n",
       "</tbody>\n",
       "</table>\n"
      ],
      "text/latex": [
       "A grouped\\_df: 2 × 2\n",
       "\\begin{tabular}{ll}\n",
       " feature\\_type & n\\\\\n",
       " <chr> & <int>\\\\\n",
       "\\hline\n",
       "\t labs\\_results\\_test & 1304320\\\\\n",
       "\t vitals\\_test       &  523210\\\\\n",
       "\\end{tabular}\n"
      ],
      "text/markdown": [
       "\n",
       "A grouped_df: 2 × 2\n",
       "\n",
       "| feature_type &lt;chr&gt; | n &lt;int&gt; |\n",
       "|---|---|\n",
       "| labs_results_test | 1304320 |\n",
       "| vitals_test       |  523210 |\n",
       "\n"
      ],
      "text/plain": [
       "  feature_type      n      \n",
       "1 labs_results_test 1304320\n",
       "2 vitals_test        523210"
      ]
     },
     "metadata": {},
     "output_type": "display_data"
    }
   ],
   "source": [
    "# read in test_binned labs and vitals\n",
    "testbinned_labs_vitals <- read.csv(file.path(featuredir, '2_8_coh5_binned_labs_vitals_test.csv'))\n",
    "nrow(testbinned_labs_vitals) #coh4 vs coh5 1849438 vs 1827530\n",
    "length(unique(testbinned_labs_vitals$pat_enc_csn_id_coded)) # 43980 vs 41366\n",
    "testbinned_labs_vitals %>% group_by(feature_type) %>% count()"
   ]
  },
  {
   "cell_type": "code",
   "execution_count": 160,
   "id": "f922191c",
   "metadata": {},
   "outputs": [
    {
     "data": {
      "text/html": [
       "<table class=\"dataframe\">\n",
       "<caption>A data.frame: 6 × 6</caption>\n",
       "<thead>\n",
       "\t<tr><th></th><th scope=col>anon_id</th><th scope=col>pat_enc_csn_id_coded</th><th scope=col>admit_time</th><th scope=col>feature_type</th><th scope=col>features</th><th scope=col>values</th></tr>\n",
       "\t<tr><th></th><th scope=col>&lt;chr&gt;</th><th scope=col>&lt;dbl&gt;</th><th scope=col>&lt;chr&gt;</th><th scope=col>&lt;chr&gt;</th><th scope=col>&lt;chr&gt;</th><th scope=col>&lt;int&gt;</th></tr>\n",
       "</thead>\n",
       "<tbody>\n",
       "\t<tr><th scope=row>1</th><td>JC29f8ad2</td><td>131274729058</td><td>2019-08-31 12:52:00+00:00</td><td>labs_results_train</td><td>ALB_3     </td><td>1</td></tr>\n",
       "\t<tr><th scope=row>2</th><td>JC29f8ad2</td><td>131274729058</td><td>2019-08-31 12:52:00+00:00</td><td>labs_results_train</td><td>ALK_7     </td><td>1</td></tr>\n",
       "\t<tr><th scope=row>3</th><td>JC29f8ad2</td><td>131274729058</td><td>2019-08-31 12:52:00+00:00</td><td>labs_results_train</td><td>ALT_0     </td><td>1</td></tr>\n",
       "\t<tr><th scope=row>4</th><td>JC29f8ad2</td><td>131274729058</td><td>2019-08-31 12:52:00+00:00</td><td>labs_results_train</td><td>AST_1     </td><td>1</td></tr>\n",
       "\t<tr><th scope=row>5</th><td>JC29f8ad2</td><td>131274729058</td><td>2019-08-31 12:52:00+00:00</td><td>labs_results_train</td><td>AnionGap_9</td><td>1</td></tr>\n",
       "\t<tr><th scope=row>6</th><td>JC29f8ad2</td><td>131274729058</td><td>2019-08-31 12:52:00+00:00</td><td>labs_results_train</td><td>BUN_8     </td><td>1</td></tr>\n",
       "</tbody>\n",
       "</table>\n"
      ],
      "text/latex": [
       "A data.frame: 6 × 6\n",
       "\\begin{tabular}{r|llllll}\n",
       "  & anon\\_id & pat\\_enc\\_csn\\_id\\_coded & admit\\_time & feature\\_type & features & values\\\\\n",
       "  & <chr> & <dbl> & <chr> & <chr> & <chr> & <int>\\\\\n",
       "\\hline\n",
       "\t1 & JC29f8ad2 & 131274729058 & 2019-08-31 12:52:00+00:00 & labs\\_results\\_train & ALB\\_3      & 1\\\\\n",
       "\t2 & JC29f8ad2 & 131274729058 & 2019-08-31 12:52:00+00:00 & labs\\_results\\_train & ALK\\_7      & 1\\\\\n",
       "\t3 & JC29f8ad2 & 131274729058 & 2019-08-31 12:52:00+00:00 & labs\\_results\\_train & ALT\\_0      & 1\\\\\n",
       "\t4 & JC29f8ad2 & 131274729058 & 2019-08-31 12:52:00+00:00 & labs\\_results\\_train & AST\\_1      & 1\\\\\n",
       "\t5 & JC29f8ad2 & 131274729058 & 2019-08-31 12:52:00+00:00 & labs\\_results\\_train & AnionGap\\_9 & 1\\\\\n",
       "\t6 & JC29f8ad2 & 131274729058 & 2019-08-31 12:52:00+00:00 & labs\\_results\\_train & BUN\\_8      & 1\\\\\n",
       "\\end{tabular}\n"
      ],
      "text/markdown": [
       "\n",
       "A data.frame: 6 × 6\n",
       "\n",
       "| <!--/--> | anon_id &lt;chr&gt; | pat_enc_csn_id_coded &lt;dbl&gt; | admit_time &lt;chr&gt; | feature_type &lt;chr&gt; | features &lt;chr&gt; | values &lt;int&gt; |\n",
       "|---|---|---|---|---|---|---|\n",
       "| 1 | JC29f8ad2 | 131274729058 | 2019-08-31 12:52:00+00:00 | labs_results_train | ALB_3      | 1 |\n",
       "| 2 | JC29f8ad2 | 131274729058 | 2019-08-31 12:52:00+00:00 | labs_results_train | ALK_7      | 1 |\n",
       "| 3 | JC29f8ad2 | 131274729058 | 2019-08-31 12:52:00+00:00 | labs_results_train | ALT_0      | 1 |\n",
       "| 4 | JC29f8ad2 | 131274729058 | 2019-08-31 12:52:00+00:00 | labs_results_train | AST_1      | 1 |\n",
       "| 5 | JC29f8ad2 | 131274729058 | 2019-08-31 12:52:00+00:00 | labs_results_train | AnionGap_9 | 1 |\n",
       "| 6 | JC29f8ad2 | 131274729058 | 2019-08-31 12:52:00+00:00 | labs_results_train | BUN_8      | 1 |\n",
       "\n"
      ],
      "text/plain": [
       "  anon_id   pat_enc_csn_id_coded admit_time                feature_type      \n",
       "1 JC29f8ad2 131274729058         2019-08-31 12:52:00+00:00 labs_results_train\n",
       "2 JC29f8ad2 131274729058         2019-08-31 12:52:00+00:00 labs_results_train\n",
       "3 JC29f8ad2 131274729058         2019-08-31 12:52:00+00:00 labs_results_train\n",
       "4 JC29f8ad2 131274729058         2019-08-31 12:52:00+00:00 labs_results_train\n",
       "5 JC29f8ad2 131274729058         2019-08-31 12:52:00+00:00 labs_results_train\n",
       "6 JC29f8ad2 131274729058         2019-08-31 12:52:00+00:00 labs_results_train\n",
       "  features   values\n",
       "1 ALB_3      1     \n",
       "2 ALK_7      1     \n",
       "3 ALT_0      1     \n",
       "4 AST_1      1     \n",
       "5 AnionGap_9 1     \n",
       "6 BUN_8      1     "
      ]
     },
     "metadata": {},
     "output_type": "display_data"
    },
    {
     "data": {
      "text/html": [
       "<table class=\"dataframe\">\n",
       "<caption>A data.frame: 6 × 6</caption>\n",
       "<thead>\n",
       "\t<tr><th></th><th scope=col>anon_id</th><th scope=col>pat_enc_csn_id_coded</th><th scope=col>admit_time</th><th scope=col>feature_type</th><th scope=col>features</th><th scope=col>values</th></tr>\n",
       "\t<tr><th></th><th scope=col>&lt;chr&gt;</th><th scope=col>&lt;dbl&gt;</th><th scope=col>&lt;chr&gt;</th><th scope=col>&lt;chr&gt;</th><th scope=col>&lt;chr&gt;</th><th scope=col>&lt;int&gt;</th></tr>\n",
       "</thead>\n",
       "<tbody>\n",
       "\t<tr><th scope=row>1</th><td>JC29f8ad2</td><td>131274729058</td><td>2019-08-31 12:52:00+00:00</td><td>labs_results_test</td><td>ALB_3     </td><td>1</td></tr>\n",
       "\t<tr><th scope=row>2</th><td>JC29f8ad2</td><td>131274729058</td><td>2019-08-31 12:52:00+00:00</td><td>labs_results_test</td><td>ALK_7     </td><td>1</td></tr>\n",
       "\t<tr><th scope=row>3</th><td>JC29f8ad2</td><td>131274729058</td><td>2019-08-31 12:52:00+00:00</td><td>labs_results_test</td><td>ALT_0     </td><td>1</td></tr>\n",
       "\t<tr><th scope=row>4</th><td>JC29f8ad2</td><td>131274729058</td><td>2019-08-31 12:52:00+00:00</td><td>labs_results_test</td><td>AST_1     </td><td>1</td></tr>\n",
       "\t<tr><th scope=row>5</th><td>JC29f8ad2</td><td>131274729058</td><td>2019-08-31 12:52:00+00:00</td><td>labs_results_test</td><td>AnionGap_9</td><td>1</td></tr>\n",
       "\t<tr><th scope=row>6</th><td>JC29f8ad2</td><td>131274729058</td><td>2019-08-31 12:52:00+00:00</td><td>labs_results_test</td><td>BUN_8     </td><td>1</td></tr>\n",
       "</tbody>\n",
       "</table>\n"
      ],
      "text/latex": [
       "A data.frame: 6 × 6\n",
       "\\begin{tabular}{r|llllll}\n",
       "  & anon\\_id & pat\\_enc\\_csn\\_id\\_coded & admit\\_time & feature\\_type & features & values\\\\\n",
       "  & <chr> & <dbl> & <chr> & <chr> & <chr> & <int>\\\\\n",
       "\\hline\n",
       "\t1 & JC29f8ad2 & 131274729058 & 2019-08-31 12:52:00+00:00 & labs\\_results\\_test & ALB\\_3      & 1\\\\\n",
       "\t2 & JC29f8ad2 & 131274729058 & 2019-08-31 12:52:00+00:00 & labs\\_results\\_test & ALK\\_7      & 1\\\\\n",
       "\t3 & JC29f8ad2 & 131274729058 & 2019-08-31 12:52:00+00:00 & labs\\_results\\_test & ALT\\_0      & 1\\\\\n",
       "\t4 & JC29f8ad2 & 131274729058 & 2019-08-31 12:52:00+00:00 & labs\\_results\\_test & AST\\_1      & 1\\\\\n",
       "\t5 & JC29f8ad2 & 131274729058 & 2019-08-31 12:52:00+00:00 & labs\\_results\\_test & AnionGap\\_9 & 1\\\\\n",
       "\t6 & JC29f8ad2 & 131274729058 & 2019-08-31 12:52:00+00:00 & labs\\_results\\_test & BUN\\_8      & 1\\\\\n",
       "\\end{tabular}\n"
      ],
      "text/markdown": [
       "\n",
       "A data.frame: 6 × 6\n",
       "\n",
       "| <!--/--> | anon_id &lt;chr&gt; | pat_enc_csn_id_coded &lt;dbl&gt; | admit_time &lt;chr&gt; | feature_type &lt;chr&gt; | features &lt;chr&gt; | values &lt;int&gt; |\n",
       "|---|---|---|---|---|---|---|\n",
       "| 1 | JC29f8ad2 | 131274729058 | 2019-08-31 12:52:00+00:00 | labs_results_test | ALB_3      | 1 |\n",
       "| 2 | JC29f8ad2 | 131274729058 | 2019-08-31 12:52:00+00:00 | labs_results_test | ALK_7      | 1 |\n",
       "| 3 | JC29f8ad2 | 131274729058 | 2019-08-31 12:52:00+00:00 | labs_results_test | ALT_0      | 1 |\n",
       "| 4 | JC29f8ad2 | 131274729058 | 2019-08-31 12:52:00+00:00 | labs_results_test | AST_1      | 1 |\n",
       "| 5 | JC29f8ad2 | 131274729058 | 2019-08-31 12:52:00+00:00 | labs_results_test | AnionGap_9 | 1 |\n",
       "| 6 | JC29f8ad2 | 131274729058 | 2019-08-31 12:52:00+00:00 | labs_results_test | BUN_8      | 1 |\n",
       "\n"
      ],
      "text/plain": [
       "  anon_id   pat_enc_csn_id_coded admit_time                feature_type     \n",
       "1 JC29f8ad2 131274729058         2019-08-31 12:52:00+00:00 labs_results_test\n",
       "2 JC29f8ad2 131274729058         2019-08-31 12:52:00+00:00 labs_results_test\n",
       "3 JC29f8ad2 131274729058         2019-08-31 12:52:00+00:00 labs_results_test\n",
       "4 JC29f8ad2 131274729058         2019-08-31 12:52:00+00:00 labs_results_test\n",
       "5 JC29f8ad2 131274729058         2019-08-31 12:52:00+00:00 labs_results_test\n",
       "6 JC29f8ad2 131274729058         2019-08-31 12:52:00+00:00 labs_results_test\n",
       "  features   values\n",
       "1 ALB_3      1     \n",
       "2 ALK_7      1     \n",
       "3 ALT_0      1     \n",
       "4 AST_1      1     \n",
       "5 AnionGap_9 1     \n",
       "6 BUN_8      1     "
      ]
     },
     "metadata": {},
     "output_type": "display_data"
    }
   ],
   "source": [
    "head(trainbinned_labs_vitals)\n",
    "head(testbinned_labs_vitals)"
   ]
  },
  {
   "cell_type": "code",
   "execution_count": 161,
   "id": "447749f8",
   "metadata": {},
   "outputs": [
    {
     "data": {
      "text/html": [
       "703222"
      ],
      "text/latex": [
       "703222"
      ],
      "text/markdown": [
       "703222"
      ],
      "text/plain": [
       "[1] 703222"
      ]
     },
     "metadata": {},
     "output_type": "display_data"
    },
    {
     "data": {
      "text/html": [
       "41366"
      ],
      "text/latex": [
       "41366"
      ],
      "text/markdown": [
       "41366"
      ],
      "text/plain": [
       "[1] 41366"
      ]
     },
     "metadata": {},
     "output_type": "display_data"
    }
   ],
   "source": [
    "# get demographics features\n",
    "demos <- values %>% filter(feature_type == 'demo') %>% select(anon_id, pat_enc_csn_id_coded, admit_time, \n",
    "                                                              feature_type, features, values)\n",
    "nrow(demos) # coh4 747660 vs 703222\n",
    "length(unique(demos$pat_enc_csn_id_coded)) # 43980 vs 41366"
   ]
  },
  {
   "cell_type": "code",
   "execution_count": 162,
   "id": "73ce8fc4",
   "metadata": {},
   "outputs": [
    {
     "data": {
      "text/html": [
       "0"
      ],
      "text/latex": [
       "0"
      ],
      "text/markdown": [
       "0"
      ],
      "text/plain": [
       "[1] 0"
      ]
     },
     "metadata": {},
     "output_type": "display_data"
    },
    {
     "data": {
      "text/html": [
       "2604"
      ],
      "text/latex": [
       "2604"
      ],
      "text/markdown": [
       "2604"
      ],
      "text/plain": [
       "[1] 2604"
      ]
     },
     "metadata": {},
     "output_type": "display_data"
    },
    {
     "data": {
      "text/html": [
       "0"
      ],
      "text/latex": [
       "0"
      ],
      "text/markdown": [
       "0"
      ],
      "text/plain": [
       "[1] 0"
      ]
     },
     "metadata": {},
     "output_type": "display_data"
    },
    {
     "data": {
      "text/html": [
       "2604"
      ],
      "text/latex": [
       "2604"
      ],
      "text/markdown": [
       "2604"
      ],
      "text/plain": [
       "[1] 2604"
      ]
     },
     "metadata": {},
     "output_type": "display_data"
    }
   ],
   "source": [
    "# check overlapping cohort in features with values vs with order counts: should be the same, no diff\n",
    "length(setdiff(trainbinned_labs_vitals$pat_enc_csn_id_coded, orders4_micro$pat_enc_csn_id_coded))\n",
    "length(setdiff(orders4_micro$pat_enc_csn_id_coded, trainbinned_labs_vitals$pat_enc_csn_id_coded)) # 10 vs 2604\n",
    "\n",
    "length(setdiff(testbinned_labs_vitals$pat_enc_csn_id_coded, orders4_micro$pat_enc_csn_id_coded))\n",
    "length(setdiff(orders4_micro$pat_enc_csn_id_coded, testbinned_labs_vitals$pat_enc_csn_id_coded)) # 10 vs 2604"
   ]
  },
  {
   "cell_type": "markdown",
   "id": "242e17f6",
   "metadata": {},
   "source": [
    "### Use orders4_micro vs orders5_micro for coh4 vs coh5"
   ]
  },
  {
   "cell_type": "code",
   "execution_count": 169,
   "id": "e66bc075",
   "metadata": {},
   "outputs": [
    {
     "data": {
      "text/html": [
       "10086505"
      ],
      "text/latex": [
       "10086505"
      ],
      "text/markdown": [
       "10086505"
      ],
      "text/plain": [
       "[1] 10086505"
      ]
     },
     "metadata": {},
     "output_type": "display_data"
    },
    {
     "data": {
      "text/html": [
       "41366"
      ],
      "text/latex": [
       "41366"
      ],
      "text/markdown": [
       "41366"
      ],
      "text/plain": [
       "[1] 41366"
      ]
     },
     "metadata": {},
     "output_type": "display_data"
    },
    {
     "data": {
      "text/html": [
       "42207"
      ],
      "text/latex": [
       "42207"
      ],
      "text/markdown": [
       "42207"
      ],
      "text/plain": [
       "[1] 42207"
      ]
     },
     "metadata": {},
     "output_type": "display_data"
    },
    {
     "data": {
      "text/html": [
       "<table class=\"dataframe\">\n",
       "<caption>A grouped_df: 11 × 2</caption>\n",
       "<thead>\n",
       "\t<tr><th scope=col>feature_type</th><th scope=col>n</th></tr>\n",
       "\t<tr><th scope=col>&lt;chr&gt;</th><th scope=col>&lt;int&gt;</th></tr>\n",
       "</thead>\n",
       "<tbody>\n",
       "\t<tr><td>Diagnosis         </td><td>2680945</td></tr>\n",
       "\t<tr><td>Meds              </td><td>1747295</td></tr>\n",
       "\t<tr><td>labs_results_test </td><td>1304320</td></tr>\n",
       "\t<tr><td>labs_results_train</td><td>1304104</td></tr>\n",
       "\t<tr><td>Lab               </td><td> 932873</td></tr>\n",
       "\t<tr><td>demo              </td><td> 703222</td></tr>\n",
       "\t<tr><td>vitals_test       </td><td> 523210</td></tr>\n",
       "\t<tr><td>vitals_train      </td><td> 520971</td></tr>\n",
       "\t<tr><td>Imaging           </td><td> 282646</td></tr>\n",
       "\t<tr><td>Procedures        </td><td>  48863</td></tr>\n",
       "\t<tr><td>Microbiology      </td><td>  38056</td></tr>\n",
       "</tbody>\n",
       "</table>\n"
      ],
      "text/latex": [
       "A grouped\\_df: 11 × 2\n",
       "\\begin{tabular}{ll}\n",
       " feature\\_type & n\\\\\n",
       " <chr> & <int>\\\\\n",
       "\\hline\n",
       "\t Diagnosis          & 2680945\\\\\n",
       "\t Meds               & 1747295\\\\\n",
       "\t labs\\_results\\_test  & 1304320\\\\\n",
       "\t labs\\_results\\_train & 1304104\\\\\n",
       "\t Lab                &  932873\\\\\n",
       "\t demo               &  703222\\\\\n",
       "\t vitals\\_test        &  523210\\\\\n",
       "\t vitals\\_train       &  520971\\\\\n",
       "\t Imaging            &  282646\\\\\n",
       "\t Procedures         &   48863\\\\\n",
       "\t Microbiology       &   38056\\\\\n",
       "\\end{tabular}\n"
      ],
      "text/markdown": [
       "\n",
       "A grouped_df: 11 × 2\n",
       "\n",
       "| feature_type &lt;chr&gt; | n &lt;int&gt; |\n",
       "|---|---|\n",
       "| Diagnosis          | 2680945 |\n",
       "| Meds               | 1747295 |\n",
       "| labs_results_test  | 1304320 |\n",
       "| labs_results_train | 1304104 |\n",
       "| Lab                |  932873 |\n",
       "| demo               |  703222 |\n",
       "| vitals_test        |  523210 |\n",
       "| vitals_train       |  520971 |\n",
       "| Imaging            |  282646 |\n",
       "| Procedures         |   48863 |\n",
       "| Microbiology       |   38056 |\n",
       "\n"
      ],
      "text/plain": [
       "   feature_type       n      \n",
       "1  Diagnosis          2680945\n",
       "2  Meds               1747295\n",
       "3  labs_results_test  1304320\n",
       "4  labs_results_train 1304104\n",
       "5  Lab                 932873\n",
       "6  demo                703222\n",
       "7  vitals_test         523210\n",
       "8  vitals_train        520971\n",
       "9  Imaging             282646\n",
       "10 Procedures           48863\n",
       "11 Microbiology         38056"
      ]
     },
     "metadata": {},
     "output_type": "display_data"
    }
   ],
   "source": [
    "# combine all features for the complex data set, remove time column since demo doesn't have it\n",
    "features_all <- bind_rows(demos, trainbinned_labs_vitals, testbinned_labs_vitals, orders5_micro)\n",
    "nrow(features_all) #10529994 vs 10086505 (this include both train and test)\n",
    "length(unique(features_all$pat_enc_csn_id_coded)) #43980 vs 41366\n",
    "length(unique(features_all$features)) #42809 vs 42207\n",
    "features_all %>% group_by(feature_type) %>% count(sort=TRUE)"
   ]
  },
  {
   "cell_type": "code",
   "execution_count": 167,
   "id": "d1d91c00",
   "metadata": {},
   "outputs": [
    {
     "data": {
      "text/html": [
       "<table class=\"dataframe\">\n",
       "<caption>A data.frame: 6 × 6</caption>\n",
       "<thead>\n",
       "\t<tr><th></th><th scope=col>anon_id</th><th scope=col>pat_enc_csn_id_coded</th><th scope=col>admit_time</th><th scope=col>feature_type</th><th scope=col>features</th><th scope=col>values</th></tr>\n",
       "\t<tr><th></th><th scope=col>&lt;chr&gt;</th><th scope=col>&lt;dbl&gt;</th><th scope=col>&lt;chr&gt;</th><th scope=col>&lt;chr&gt;</th><th scope=col>&lt;chr&gt;</th><th scope=col>&lt;dbl&gt;</th></tr>\n",
       "</thead>\n",
       "<tbody>\n",
       "\t<tr><th scope=row>1</th><td>JC29f8ad2</td><td>131274729058</td><td>2019-08-31 12:52:00+00:00</td><td>demo</td><td>ESI_i</td><td>3</td></tr>\n",
       "\t<tr><th scope=row>2</th><td>JC29f8ad3</td><td>131278291027</td><td>2019-10-05 23:48:00+00:00</td><td>demo</td><td>ESI_i</td><td>3</td></tr>\n",
       "\t<tr><th scope=row>3</th><td>JC29f8b9c</td><td>131266787806</td><td>2019-05-05 01:07:00+00:00</td><td>demo</td><td>ESI_i</td><td>2</td></tr>\n",
       "\t<tr><th scope=row>4</th><td>JC29f8beb</td><td>131264387263</td><td>2019-03-15 03:35:00+00:00</td><td>demo</td><td>ESI_i</td><td>3</td></tr>\n",
       "\t<tr><th scope=row>5</th><td>JC29f8beb</td><td>131279241689</td><td>2019-11-27 15:29:00+00:00</td><td>demo</td><td>ESI_i</td><td>3</td></tr>\n",
       "\t<tr><th scope=row>6</th><td>JC29f8bef</td><td>131280937356</td><td>2019-11-30 10:35:00+00:00</td><td>demo</td><td>ESI_i</td><td>3</td></tr>\n",
       "</tbody>\n",
       "</table>\n"
      ],
      "text/latex": [
       "A data.frame: 6 × 6\n",
       "\\begin{tabular}{r|llllll}\n",
       "  & anon\\_id & pat\\_enc\\_csn\\_id\\_coded & admit\\_time & feature\\_type & features & values\\\\\n",
       "  & <chr> & <dbl> & <chr> & <chr> & <chr> & <dbl>\\\\\n",
       "\\hline\n",
       "\t1 & JC29f8ad2 & 131274729058 & 2019-08-31 12:52:00+00:00 & demo & ESI\\_i & 3\\\\\n",
       "\t2 & JC29f8ad3 & 131278291027 & 2019-10-05 23:48:00+00:00 & demo & ESI\\_i & 3\\\\\n",
       "\t3 & JC29f8b9c & 131266787806 & 2019-05-05 01:07:00+00:00 & demo & ESI\\_i & 2\\\\\n",
       "\t4 & JC29f8beb & 131264387263 & 2019-03-15 03:35:00+00:00 & demo & ESI\\_i & 3\\\\\n",
       "\t5 & JC29f8beb & 131279241689 & 2019-11-27 15:29:00+00:00 & demo & ESI\\_i & 3\\\\\n",
       "\t6 & JC29f8bef & 131280937356 & 2019-11-30 10:35:00+00:00 & demo & ESI\\_i & 3\\\\\n",
       "\\end{tabular}\n"
      ],
      "text/markdown": [
       "\n",
       "A data.frame: 6 × 6\n",
       "\n",
       "| <!--/--> | anon_id &lt;chr&gt; | pat_enc_csn_id_coded &lt;dbl&gt; | admit_time &lt;chr&gt; | feature_type &lt;chr&gt; | features &lt;chr&gt; | values &lt;dbl&gt; |\n",
       "|---|---|---|---|---|---|---|\n",
       "| 1 | JC29f8ad2 | 131274729058 | 2019-08-31 12:52:00+00:00 | demo | ESI_i | 3 |\n",
       "| 2 | JC29f8ad3 | 131278291027 | 2019-10-05 23:48:00+00:00 | demo | ESI_i | 3 |\n",
       "| 3 | JC29f8b9c | 131266787806 | 2019-05-05 01:07:00+00:00 | demo | ESI_i | 2 |\n",
       "| 4 | JC29f8beb | 131264387263 | 2019-03-15 03:35:00+00:00 | demo | ESI_i | 3 |\n",
       "| 5 | JC29f8beb | 131279241689 | 2019-11-27 15:29:00+00:00 | demo | ESI_i | 3 |\n",
       "| 6 | JC29f8bef | 131280937356 | 2019-11-30 10:35:00+00:00 | demo | ESI_i | 3 |\n",
       "\n"
      ],
      "text/plain": [
       "  anon_id   pat_enc_csn_id_coded admit_time                feature_type\n",
       "1 JC29f8ad2 131274729058         2019-08-31 12:52:00+00:00 demo        \n",
       "2 JC29f8ad3 131278291027         2019-10-05 23:48:00+00:00 demo        \n",
       "3 JC29f8b9c 131266787806         2019-05-05 01:07:00+00:00 demo        \n",
       "4 JC29f8beb 131264387263         2019-03-15 03:35:00+00:00 demo        \n",
       "5 JC29f8beb 131279241689         2019-11-27 15:29:00+00:00 demo        \n",
       "6 JC29f8bef 131280937356         2019-11-30 10:35:00+00:00 demo        \n",
       "  features values\n",
       "1 ESI_i    3     \n",
       "2 ESI_i    3     \n",
       "3 ESI_i    2     \n",
       "4 ESI_i    3     \n",
       "5 ESI_i    3     \n",
       "6 ESI_i    3     "
      ]
     },
     "metadata": {},
     "output_type": "display_data"
    }
   ],
   "source": [
    "head(features_all)"
   ]
  },
  {
   "cell_type": "code",
   "execution_count": 137,
   "id": "533d78ab",
   "metadata": {},
   "outputs": [
    {
     "data": {
      "text/html": [
       "<table class=\"dataframe\">\n",
       "<caption>A grouped_df: 6 × 2</caption>\n",
       "<thead>\n",
       "\t<tr><th scope=col>features</th><th scope=col>n</th></tr>\n",
       "\t<tr><th scope=col>&lt;chr&gt;</th><th scope=col>&lt;int&gt;</th></tr>\n",
       "</thead>\n",
       "<tbody>\n",
       "\t<tr><td>ALB_0 </td><td>2</td></tr>\n",
       "\t<tr><td>ALB_1 </td><td>2</td></tr>\n",
       "\t<tr><td>ALB_10</td><td>2</td></tr>\n",
       "\t<tr><td>ALB_2 </td><td>2</td></tr>\n",
       "\t<tr><td>ALB_3 </td><td>2</td></tr>\n",
       "\t<tr><td>ALB_4 </td><td>2</td></tr>\n",
       "</tbody>\n",
       "</table>\n"
      ],
      "text/latex": [
       "A grouped\\_df: 6 × 2\n",
       "\\begin{tabular}{ll}\n",
       " features & n\\\\\n",
       " <chr> & <int>\\\\\n",
       "\\hline\n",
       "\t ALB\\_0  & 2\\\\\n",
       "\t ALB\\_1  & 2\\\\\n",
       "\t ALB\\_10 & 2\\\\\n",
       "\t ALB\\_2  & 2\\\\\n",
       "\t ALB\\_3  & 2\\\\\n",
       "\t ALB\\_4  & 2\\\\\n",
       "\\end{tabular}\n"
      ],
      "text/markdown": [
       "\n",
       "A grouped_df: 6 × 2\n",
       "\n",
       "| features &lt;chr&gt; | n &lt;int&gt; |\n",
       "|---|---|\n",
       "| ALB_0  | 2 |\n",
       "| ALB_1  | 2 |\n",
       "| ALB_10 | 2 |\n",
       "| ALB_2  | 2 |\n",
       "| ALB_3  | 2 |\n",
       "| ALB_4  | 2 |\n",
       "\n"
      ],
      "text/plain": [
       "  features n\n",
       "1 ALB_0    2\n",
       "2 ALB_1    2\n",
       "3 ALB_10   2\n",
       "4 ALB_2    2\n",
       "5 ALB_3    2\n",
       "6 ALB_4    2"
      ]
     },
     "metadata": {},
     "output_type": "display_data"
    },
    {
     "data": {
      "text/html": [
       "<table class=\"dataframe\">\n",
       "<caption>A grouped_df: 6 × 2</caption>\n",
       "<thead>\n",
       "\t<tr><th scope=col>features</th><th scope=col>n</th></tr>\n",
       "\t<tr><th scope=col>&lt;chr&gt;</th><th scope=col>&lt;int&gt;</th></tr>\n",
       "</thead>\n",
       "<tbody>\n",
       "\t<tr><td>WBC_4</td><td>2</td></tr>\n",
       "\t<tr><td>WBC_5</td><td>2</td></tr>\n",
       "\t<tr><td>WBC_6</td><td>2</td></tr>\n",
       "\t<tr><td>WBC_7</td><td>2</td></tr>\n",
       "\t<tr><td>WBC_8</td><td>2</td></tr>\n",
       "\t<tr><td>WBC_9</td><td>2</td></tr>\n",
       "</tbody>\n",
       "</table>\n"
      ],
      "text/latex": [
       "A grouped\\_df: 6 × 2\n",
       "\\begin{tabular}{ll}\n",
       " features & n\\\\\n",
       " <chr> & <int>\\\\\n",
       "\\hline\n",
       "\t WBC\\_4 & 2\\\\\n",
       "\t WBC\\_5 & 2\\\\\n",
       "\t WBC\\_6 & 2\\\\\n",
       "\t WBC\\_7 & 2\\\\\n",
       "\t WBC\\_8 & 2\\\\\n",
       "\t WBC\\_9 & 2\\\\\n",
       "\\end{tabular}\n"
      ],
      "text/markdown": [
       "\n",
       "A grouped_df: 6 × 2\n",
       "\n",
       "| features &lt;chr&gt; | n &lt;int&gt; |\n",
       "|---|---|\n",
       "| WBC_4 | 2 |\n",
       "| WBC_5 | 2 |\n",
       "| WBC_6 | 2 |\n",
       "| WBC_7 | 2 |\n",
       "| WBC_8 | 2 |\n",
       "| WBC_9 | 2 |\n",
       "\n"
      ],
      "text/plain": [
       "  features n\n",
       "1 WBC_4    2\n",
       "2 WBC_5    2\n",
       "3 WBC_6    2\n",
       "4 WBC_7    2\n",
       "5 WBC_8    2\n",
       "6 WBC_9    2"
      ]
     },
     "metadata": {},
     "output_type": "display_data"
    }
   ],
   "source": [
    "n2 <- features_all %>% select(feature_type, features) %>% distinct() %>% \n",
    "        group_by(features) %>% count(sort=TRUE) %>% filter(n==2)\n",
    "head(n2)\n",
    "tail(n2)"
   ]
  },
  {
   "cell_type": "code",
   "execution_count": 138,
   "id": "07e4a1cc",
   "metadata": {},
   "outputs": [
    {
     "data": {
      "text/html": [
       "<table class=\"dataframe\">\n",
       "<caption>A data.frame: 8 × 1</caption>\n",
       "<thead>\n",
       "\t<tr><th scope=col>feature_type</th></tr>\n",
       "\t<tr><th scope=col>&lt;chr&gt;</th></tr>\n",
       "</thead>\n",
       "<tbody>\n",
       "\t<tr><td>labs_results_train</td></tr>\n",
       "\t<tr><td>vitals_train      </td></tr>\n",
       "\t<tr><td>labs_results_test </td></tr>\n",
       "\t<tr><td>vitals_test       </td></tr>\n",
       "\t<tr><td>Lab               </td></tr>\n",
       "\t<tr><td>Microbiology      </td></tr>\n",
       "\t<tr><td>Procedures        </td></tr>\n",
       "\t<tr><td>Imaging           </td></tr>\n",
       "</tbody>\n",
       "</table>\n"
      ],
      "text/latex": [
       "A data.frame: 8 × 1\n",
       "\\begin{tabular}{l}\n",
       " feature\\_type\\\\\n",
       " <chr>\\\\\n",
       "\\hline\n",
       "\t labs\\_results\\_train\\\\\n",
       "\t vitals\\_train      \\\\\n",
       "\t labs\\_results\\_test \\\\\n",
       "\t vitals\\_test       \\\\\n",
       "\t Lab               \\\\\n",
       "\t Microbiology      \\\\\n",
       "\t Procedures        \\\\\n",
       "\t Imaging           \\\\\n",
       "\\end{tabular}\n"
      ],
      "text/markdown": [
       "\n",
       "A data.frame: 8 × 1\n",
       "\n",
       "| feature_type &lt;chr&gt; |\n",
       "|---|\n",
       "| labs_results_train |\n",
       "| vitals_train       |\n",
       "| labs_results_test  |\n",
       "| vitals_test        |\n",
       "| Lab                |\n",
       "| Microbiology       |\n",
       "| Procedures         |\n",
       "| Imaging            |\n",
       "\n"
      ],
      "text/plain": [
       "  feature_type      \n",
       "1 labs_results_train\n",
       "2 vitals_train      \n",
       "3 labs_results_test \n",
       "4 vitals_test       \n",
       "5 Lab               \n",
       "6 Microbiology      \n",
       "7 Procedures        \n",
       "8 Imaging           "
      ]
     },
     "metadata": {},
     "output_type": "display_data"
    }
   ],
   "source": [
    "features_all %>% filter(features %in% n2$features) %>% distinct(feature_type)# group_by(features, feature_type) %>% count()"
   ]
  },
  {
   "cell_type": "code",
   "execution_count": 170,
   "id": "eeed7f72",
   "metadata": {},
   "outputs": [
    {
     "data": {
      "text/html": [
       "<table class=\"dataframe\">\n",
       "<caption>A grouped_df: 42752 × 3</caption>\n",
       "<thead>\n",
       "\t<tr><th scope=col>feature_type</th><th scope=col>features</th><th scope=col>n</th></tr>\n",
       "\t<tr><th scope=col>&lt;chr&gt;</th><th scope=col>&lt;chr&gt;</th><th scope=col>&lt;int&gt;</th></tr>\n",
       "</thead>\n",
       "<tbody>\n",
       "\t<tr><td>demo        </td><td>age                                       </td><td>41366</td></tr>\n",
       "\t<tr><td>demo        </td><td>delta_ESI                                 </td><td>41366</td></tr>\n",
       "\t<tr><td>demo        </td><td>delta_H                                   </td><td>41366</td></tr>\n",
       "\t<tr><td>demo        </td><td>delta_W                                   </td><td>41366</td></tr>\n",
       "\t<tr><td>demo        </td><td>English                                   </td><td>41366</td></tr>\n",
       "\t<tr><td>demo        </td><td>ESI_i                                     </td><td>41366</td></tr>\n",
       "\t<tr><td>demo        </td><td>gender                                    </td><td>41366</td></tr>\n",
       "\t<tr><td>demo        </td><td>Height_i                                  </td><td>41366</td></tr>\n",
       "\t<tr><td>demo        </td><td>insurance                                 </td><td>41366</td></tr>\n",
       "\t<tr><td>demo        </td><td>race.Asian                                </td><td>41366</td></tr>\n",
       "\t<tr><td>demo        </td><td>race.Black                                </td><td>41366</td></tr>\n",
       "\t<tr><td>demo        </td><td>race.Native.American                      </td><td>41366</td></tr>\n",
       "\t<tr><td>demo        </td><td>race.Other                                </td><td>41366</td></tr>\n",
       "\t<tr><td>demo        </td><td>race.Pacific.Islander                     </td><td>41366</td></tr>\n",
       "\t<tr><td>demo        </td><td>race.Unknown                              </td><td>41366</td></tr>\n",
       "\t<tr><td>demo        </td><td>race.White                                </td><td>41366</td></tr>\n",
       "\t<tr><td>demo        </td><td>Weight_i                                  </td><td>41366</td></tr>\n",
       "\t<tr><td>Lab         </td><td>METABOLIC PANEL, COMPREHENSIVE            </td><td>40120</td></tr>\n",
       "\t<tr><td>Lab         </td><td>CBC WITH DIFFERENTIAL                     </td><td>39102</td></tr>\n",
       "\t<tr><td>vitals_test </td><td>Temp_4                                    </td><td>31433</td></tr>\n",
       "\t<tr><td>vitals_train</td><td>Temp_4                                    </td><td>31433</td></tr>\n",
       "\t<tr><td>Lab         </td><td>URINALYSIS SCREEN, CULTURE IF POSITIVE    </td><td>27924</td></tr>\n",
       "\t<tr><td>Lab         </td><td>PROTHROMBIN TIME                          </td><td>27170</td></tr>\n",
       "\t<tr><td>vitals_test </td><td>RR_4                                      </td><td>24995</td></tr>\n",
       "\t<tr><td>vitals_train</td><td>RR_3                                      </td><td>24995</td></tr>\n",
       "\t<tr><td>Meds        </td><td>ONDANSETRON HCL (PF) 4 MG/2 ML INJ SOLN   </td><td>24817</td></tr>\n",
       "\t<tr><td>Lab         </td><td>PTT PARTIAL THROMBOPLASTIN TIME           </td><td>23259</td></tr>\n",
       "\t<tr><td>Lab         </td><td>METABOLIC PANEL, BASIC                    </td><td>22633</td></tr>\n",
       "\t<tr><td>Lab         </td><td>CBC W/O DIFF                              </td><td>21638</td></tr>\n",
       "\t<tr><td>Lab         </td><td>MAGNESIUM, SERUM/PLASMA                   </td><td>21435</td></tr>\n",
       "\t<tr><td>Lab         </td><td>RAINBOW DRAW (FOR ED/RRT/CODE BLUE ONLY)  </td><td>20435</td></tr>\n",
       "\t<tr><td>Meds        </td><td>ACETAMINOPHEN 325 MG PO TABS              </td><td>20330</td></tr>\n",
       "\t<tr><td>Meds        </td><td>NS IV BOLUS                               </td><td>19611</td></tr>\n",
       "\t<tr><td>Diagnosis   </td><td>Z79.899                                   </td><td>19563</td></tr>\n",
       "\t<tr><td>Diagnosis   </td><td>I10                                       </td><td>18804</td></tr>\n",
       "\t<tr><td>vitals_test </td><td>RR_5                                      </td><td>18585</td></tr>\n",
       "\t<tr><td>Lab         </td><td>TYPE AND SCREEN                           </td><td>17628</td></tr>\n",
       "\t<tr><td>vitals_test </td><td>RR_2                                      </td><td>17538</td></tr>\n",
       "\t<tr><td>vitals_train</td><td>RR_1                                      </td><td>17538</td></tr>\n",
       "\t<tr><td>vitals_train</td><td>RR_5                                      </td><td>16977</td></tr>\n",
       "\t<tr><td>Lab         </td><td>ABO/RH (ARI)                              </td><td>16366</td></tr>\n",
       "\t<tr><td>Lab         </td><td>TROPONIN I                                </td><td>16350</td></tr>\n",
       "\t<tr><td>Lab         </td><td>AB SCREEN (ASI)                           </td><td>16235</td></tr>\n",
       "\t<tr><td>vitals_test </td><td>Temp_2                                    </td><td>15244</td></tr>\n",
       "\t<tr><td>vitals_train</td><td>Temp_2                                    </td><td>15244</td></tr>\n",
       "\t<tr><td>Lab         </td><td>LIPASE                                    </td><td>15135</td></tr>\n",
       "\t<tr><td>Meds        </td><td>NALOXONE 0.4 MG/ML INJ SOLN               </td><td>14507</td></tr>\n",
       "\t<tr><td>Meds        </td><td>POLYETHYLENE GLYCOL 3350 17 GRAM PO PWPK  </td><td>14429</td></tr>\n",
       "\t<tr><td>Meds        </td><td>HYDROMORPHONE 1 MG/ML INJ SYRG            </td><td>14299</td></tr>\n",
       "\t<tr><td>Meds        </td><td>DOCUSATE SODIUM 100 MG PO CAPS            </td><td>14136</td></tr>\n",
       "\t<tr><td>vitals_train</td><td>DBP_6                                     </td><td>14052</td></tr>\n",
       "\t<tr><td>vitals_test </td><td>DBP_3                                     </td><td>14012</td></tr>\n",
       "\t<tr><td>Diagnosis   </td><td>E78.5                                     </td><td>13980</td></tr>\n",
       "\t<tr><td>vitals_train</td><td>SBP_5                                     </td><td>13570</td></tr>\n",
       "\t<tr><td>vitals_test </td><td>SBP_6                                     </td><td>13551</td></tr>\n",
       "\t<tr><td>vitals_test </td><td>DBP_6                                     </td><td>13517</td></tr>\n",
       "\t<tr><td>vitals_test </td><td>SBP_3                                     </td><td>13234</td></tr>\n",
       "\t<tr><td>Lab         </td><td>PHOSPHORUS, SERUM/PLASMA                  </td><td>13227</td></tr>\n",
       "\t<tr><td>Microbiology</td><td>BLOOD CULTURE (AEROBIC &amp; ANAEROBIC BOTTLE)</td><td>13139</td></tr>\n",
       "\t<tr><td>vitals_train</td><td>DBP_5                                     </td><td>12808</td></tr>\n",
       "\t<tr><td>vitals_test </td><td>DBP_5                                     </td><td>12766</td></tr>\n",
       "\t<tr><td>vitals_test </td><td>DBP_4                                     </td><td>12688</td></tr>\n",
       "\t<tr><td>vitals_train</td><td>DBP_4                                     </td><td>12666</td></tr>\n",
       "\t<tr><td>Lab         </td><td>TSH                                       </td><td>12657</td></tr>\n",
       "\t<tr><td>vitals_test </td><td>SBP_4                                     </td><td>12605</td></tr>\n",
       "\t<tr><td>Lab         </td><td>HEMOGLOBIN A1C                            </td><td>12590</td></tr>\n",
       "\t<tr><td>Meds        </td><td>OXYCODONE 5 MG PO TABS                    </td><td>12583</td></tr>\n",
       "\t<tr><td>vitals_train</td><td>SBP_7                                     </td><td>12550</td></tr>\n",
       "\t<tr><td>vitals_train</td><td>SBP_4                                     </td><td>12544</td></tr>\n",
       "\t<tr><td>vitals_train</td><td>DBP_8                                     </td><td>12521</td></tr>\n",
       "\t<tr><td>Imaging     </td><td>XR CHEST 1 VIEW                           </td><td>12508</td></tr>\n",
       "\t<tr><td>vitals_train</td><td>SBP_6                                     </td><td>12457</td></tr>\n",
       "\t<tr><td>Diagnosis   </td><td>R06.02                                    </td><td>12426</td></tr>\n",
       "\t<tr><td>Meds        </td><td>NS IV BOLUS - 1000 ML                     </td><td>12390</td></tr>\n",
       "\t<tr><td>vitals_test </td><td>Pulse_4                                   </td><td>12346</td></tr>\n",
       "\t<tr><td>vitals_train</td><td>Pulse_4                                   </td><td>12346</td></tr>\n",
       "\t<tr><td>Lab         </td><td>URINALYSIS WITH MICROSCOPIC               </td><td>12256</td></tr>\n",
       "\t<tr><td>vitals_train</td><td>DBP_7                                     </td><td>12156</td></tr>\n",
       "\t<tr><td>vitals_test </td><td>SBP_5                                     </td><td>12123</td></tr>\n",
       "\t<tr><td>vitals_test </td><td>Pulse_7                                   </td><td>11885</td></tr>\n",
       "\t<tr><td>vitals_train</td><td>SBP_3                                     </td><td>11873</td></tr>\n",
       "\t<tr><td>vitals_train</td><td>DBP_3                                     </td><td>11819</td></tr>\n",
       "\t<tr><td>vitals_test </td><td>DBP_7                                     </td><td>11815</td></tr>\n",
       "\t<tr><td>vitals_test </td><td>DBP_8                                     </td><td>11809</td></tr>\n",
       "\t<tr><td>vitals_test </td><td>Pulse_5                                   </td><td>11749</td></tr>\n",
       "\t<tr><td>vitals_train</td><td>Pulse_5                                   </td><td>11749</td></tr>\n",
       "\t<tr><td>Diagnosis   </td><td>Z23                                       </td><td>11658</td></tr>\n",
       "\t<tr><td>Meds        </td><td>ONDANSETRON 4 MG PO TBDL                  </td><td>11646</td></tr>\n",
       "\t<tr><td>vitals_test </td><td>DBP_2                                     </td><td>11641</td></tr>\n",
       "\t<tr><td>vitals_train</td><td>DBP_2                                     </td><td>11641</td></tr>\n",
       "\t<tr><td>vitals_test </td><td>RR_7                                      </td><td>11634</td></tr>\n",
       "\t<tr><td>vitals_train</td><td>RR_6                                      </td><td>11634</td></tr>\n",
       "\t<tr><td>Meds        </td><td>MIDAZOLAM 1 MG/ML INJ SOLN                </td><td>11579</td></tr>\n",
       "\t<tr><td>vitals_test </td><td>SBP_8                                     </td><td>11526</td></tr>\n",
       "\t<tr><td>vitals_test </td><td>SBP_2                                     </td><td>11428</td></tr>\n",
       "\t<tr><td>vitals_train</td><td>SBP_2                                     </td><td>11428</td></tr>\n",
       "\t<tr><td>vitals_test </td><td>SBP_7                                     </td><td>11401</td></tr>\n",
       "\t<tr><td>vitals_test </td><td>Temp_0                                    </td><td>11365</td></tr>\n",
       "\t<tr><td>vitals_train</td><td>Temp_0                                    </td><td>11365</td></tr>\n",
       "\t<tr><td>vitals_test </td><td>Pulse_6                                   </td><td>11264</td></tr>\n",
       "\t<tr><td>⋮</td><td>⋮</td><td>⋮</td></tr>\n",
       "\t<tr><td><span style=white-space:pre-wrap>Procedures  </span></td><td><span style=white-space:pre-wrap>NEG PROESS WOUND TX, &lt;CM W/SNAP                                                  </span></td><td>1</td></tr>\n",
       "\t<tr><td>Procedures  </td><td>NJX INTERLAMINAR LMBR/SAC W/IMG GUIDANCE                                         </td><td>1</td></tr>\n",
       "\t<tr><td>Procedures  </td><td>NORMAL SALINE SOLUTION INFUSION 250 CC                                           </td><td>1</td></tr>\n",
       "\t<tr><td>Procedures  </td><td>OPHTH BIOMETRY/PART INTERFEROMETRY W/INTRAOC 2ND EYE                             </td><td>1</td></tr>\n",
       "\t<tr><td>Procedures  </td><td>OPHTHALMIC ULTRASOUND BIOMICROSCOPY(UBM)                                         </td><td>1</td></tr>\n",
       "\t<tr><td><span style=white-space:pre-wrap>Procedures  </span></td><td><span style=white-space:pre-wrap>ORTHOTIC MANAGEMENT &amp; TRAINING, EA 15MIN                                         </span></td><td>1</td></tr>\n",
       "\t<tr><td>Procedures  </td><td>ORTHOVISC 15MG/2ML                                                               </td><td>1</td></tr>\n",
       "\t<tr><td>Procedures  </td><td>OSCILLATING TRACKING TEST                                                        </td><td>1</td></tr>\n",
       "\t<tr><td>Procedures  </td><td>OTO OTOACOUSTIC EMISSIONS,LIMITED MMC                                            </td><td>1</td></tr>\n",
       "\t<tr><td>Procedures  </td><td>PENTAMIDINE AEROSOLIZED UHA                                                      </td><td>1</td></tr>\n",
       "\t<tr><td>Procedures  </td><td>PERATIVE UPPER GI ENDOSCOPY                                                      </td><td>1</td></tr>\n",
       "\t<tr><td>Procedures  </td><td>PESSARYW/RUBBER                                                                  </td><td>1</td></tr>\n",
       "\t<tr><td>Procedures  </td><td>PROCTOSIGMOIDOSCOPY                                                              </td><td>1</td></tr>\n",
       "\t<tr><td>Procedures  </td><td>PROF SERV ALLERGEN IMMUNOTHERAPY 2/MORE INJ                                      </td><td>1</td></tr>\n",
       "\t<tr><td>Procedures  </td><td>PRP INJECTION                                                                    </td><td>1</td></tr>\n",
       "\t<tr><td>Procedures  </td><td>PRP SUPPLIES                                                                     </td><td>1</td></tr>\n",
       "\t<tr><td>Procedures  </td><td>PSA SCREENING                                                                    </td><td>1</td></tr>\n",
       "\t<tr><td>Procedures  </td><td>PSYCHOLOGICAL TESTING, PER HR-TECH                                               </td><td>1</td></tr>\n",
       "\t<tr><td>Procedures  </td><td>PULM FUNCT TST PLETHYSMOGRAP                                                     </td><td>1</td></tr>\n",
       "\t<tr><td>Procedures  </td><td>Pulmonary Artery Catheter Insertion                                              </td><td>1</td></tr>\n",
       "\t<tr><td>Procedures  </td><td>PULMONARY STRESS TEST SIMPLE                                                     </td><td>1</td></tr>\n",
       "\t<tr><td>Procedures  </td><td>RADIESSE                                                                         </td><td>1</td></tr>\n",
       "\t<tr><td>Procedures  </td><td>reduction of R inguinal hernia                                                   </td><td>1</td></tr>\n",
       "\t<tr><td>Procedures  </td><td>REMOVAL OF BENIGN SKIN LESION FCE/EAR/EYELD/NSE/LIP, 2.1-3.0 CM                  </td><td>1</td></tr>\n",
       "\t<tr><td>Procedures  </td><td>REMOVAL OF BENIGN SKIN LESION SCLP/NCK/HNDS/FEET/GENIT.,4.0+CM                   </td><td>1</td></tr>\n",
       "\t<tr><td>Procedures  </td><td>REMOVAL OF BENIGN SKIN LESION TRNK/ARM/LEG,0.5CM OR LESS                         </td><td>1</td></tr>\n",
       "\t<tr><td>Procedures  </td><td>REMOVAL OF HEMORRHOID CLOT                                                       </td><td>1</td></tr>\n",
       "\t<tr><td>Procedures  </td><td>REMOVAL OF INNER EYE FLUID                                                       </td><td>1</td></tr>\n",
       "\t<tr><td>Procedures  </td><td>REMOVAL OF MALIG. SKIN LESION SCLP/NCK/HNDS/FEET/GENIT.,1.1-2.0 CM               </td><td>1</td></tr>\n",
       "\t<tr><td>Procedures  </td><td>REMOVAL OF MALIG. SKIN LESION SCLP/NCK/HNDS/FEET/GENIT.,2.1-3.0 CM               </td><td>1</td></tr>\n",
       "\t<tr><td>Procedures  </td><td>REMOVAL OF MALIG. SKIN LESION SCLP/NCK/HNDS/FEET/GENIT.,3.1-4.0 CM               </td><td>1</td></tr>\n",
       "\t<tr><td>Procedures  </td><td>REMOVAL OF MALIG. SKIN LESION TRNK/ARM/LEG, 4.0+CM                               </td><td>1</td></tr>\n",
       "\t<tr><td>Procedures  </td><td>REMOVAL OF PERMANENT INTRAPERITON                                                </td><td>1</td></tr>\n",
       "\t<tr><td><span style=white-space:pre-wrap>Procedures  </span></td><td><span style=white-space:pre-wrap>REMOVAL OF SKIN TAGS, EACH ADD'L 10 TAGS, &gt;15                                    </span></td><td>1</td></tr>\n",
       "\t<tr><td>Procedures  </td><td>REMOVAL OF SUTURES                                                               </td><td>1</td></tr>\n",
       "\t<tr><td>Procedures  </td><td>REMOVE EAR CANAL LESION(S)                                                       </td><td>1</td></tr>\n",
       "\t<tr><td>Procedures  </td><td>REMOVE IMPACTED EAR WAX UNI                                                      </td><td>1</td></tr>\n",
       "\t<tr><td>Procedures  </td><td>REPAIR COMPLEX WOUND FHD/CHN/MTH/NCK/GEN/HND/FT, 1.1-2.5 CM                      </td><td>1</td></tr>\n",
       "\t<tr><td>Procedures  </td><td>REPAIR EYELID DEFECT                                                             </td><td>1</td></tr>\n",
       "\t<tr><td>Procedures  </td><td>REPAIR MODIFICATION OF A HEARING AID                                             </td><td>1</td></tr>\n",
       "\t<tr><td>Procedures  </td><td>REPAIR SUPERFICIAL WOUND(S) SCLP/NCK/GEN/TRNK/EXT., 2.6-7.5 CM                   </td><td>1</td></tr>\n",
       "\t<tr><td>Procedures  </td><td>Right IJ HD catheter - US guidance                                               </td><td>1</td></tr>\n",
       "\t<tr><td>Procedures  </td><td>RMV WOUND TISS;NON-SELEC DEBRID W/O ANES/SESSION                                 </td><td>1</td></tr>\n",
       "\t<tr><td><span style=white-space:pre-wrap>Procedures  </span></td><td><span style=white-space:pre-wrap>SEMEN ANALYSIS SPERM PRESENCE&amp;/MOTILITY SPR                                      </span></td><td>1</td></tr>\n",
       "\t<tr><td>Procedures  </td><td>SHAVE SKIN LESION FCE/EAR/EYELID/NSE/LIP/MM,0.5 CM OR LESS                       </td><td>1</td></tr>\n",
       "\t<tr><td>Procedures  </td><td>SHAVE SKIN LESION TRUNK/ARMS/LEGS, 1.1-2.0 CM                                    </td><td>1</td></tr>\n",
       "\t<tr><td>Procedures  </td><td>SHC TXP EXTERNAL BLOOD GASES (MANUAL ENTRY)                                      </td><td>1</td></tr>\n",
       "\t<tr><td>Procedures  </td><td>SKIN SUBSTITUTE GRAFIX CORE 5X5 PER 1 SQ CM WASTE                                </td><td>1</td></tr>\n",
       "\t<tr><td>Procedures  </td><td>SKIN SUBSTITUTE, DERMAGRAFTR, PER 1 SQ CM                                        </td><td>1</td></tr>\n",
       "\t<tr><td>Procedures  </td><td>SKIN TISSUE REARRANGE ADD-ON                                                     </td><td>1</td></tr>\n",
       "\t<tr><td>Procedures  </td><td>SKYLA IUD                                                                        </td><td>1</td></tr>\n",
       "\t<tr><td>Procedures  </td><td>SLCTV CATH PLMT VEN SYS 1ST ORDER BRANCH                                         </td><td>1</td></tr>\n",
       "\t<tr><td>Procedures  </td><td>SMOKING AND TOBACCO USE CESSATION COUNSELING VISIT; INTS                         </td><td>1</td></tr>\n",
       "\t<tr><td>Procedures  </td><td>SMR PRIM SRC WET MOUNT NFCT AGT                                                  </td><td>1</td></tr>\n",
       "\t<tr><td>Procedures  </td><td>SNIP INC LACRIMAL PUNCTUM                                                        </td><td>1</td></tr>\n",
       "\t<tr><td>Procedures  </td><td>SPEC STAINS HISTOCHEM STAINING FROZEN SCTJ                                       </td><td>1</td></tr>\n",
       "\t<tr><td>Procedures  </td><td>SPECIAL REPORTS                                                                  </td><td>1</td></tr>\n",
       "\t<tr><td>Procedures  </td><td>SPEECH/HEARING EVALUATION                                                        </td><td>1</td></tr>\n",
       "\t<tr><td>Procedures  </td><td>SPIRACUR SNAP DEVICE                                                             </td><td>1</td></tr>\n",
       "\t<tr><td>Procedures  </td><td>SPLINT                                                                           </td><td>1</td></tr>\n",
       "\t<tr><td>Procedures  </td><td>STAPLE/SUTURE REMOVAL                                                            </td><td>1</td></tr>\n",
       "\t<tr><td>Procedures  </td><td>STSG, TRUNK/ARMS/LEGS, 1ST 100 CM SQ                                             </td><td>1</td></tr>\n",
       "\t<tr><td>Procedures  </td><td>SUPRAPUBIC BLADDER ASPIRATION                                                    </td><td>1</td></tr>\n",
       "\t<tr><td>Procedures  </td><td>SURGICAL SUPPLIES, MISC                                                          </td><td>1</td></tr>\n",
       "\t<tr><td>Procedures  </td><td>SURGICAL TRAY                                                                    </td><td>1</td></tr>\n",
       "\t<tr><td>Procedures  </td><td>Suture Placement                                                                 </td><td>1</td></tr>\n",
       "\t<tr><td>Procedures  </td><td>TAP BLOCK UNIL BY INJECTION                                                      </td><td>1</td></tr>\n",
       "\t<tr><td>Procedures  </td><td>TARSORRPHAPHY W/TRANS TARSAL PLATE                                               </td><td>1</td></tr>\n",
       "\t<tr><td>Procedures  </td><td>THERAPEUTIC TRANSCRANIAL REPETETIVE MAGNETIC STIM TX PLANNING                    </td><td>1</td></tr>\n",
       "\t<tr><td>Procedures  </td><td>Thoracentesis - R                                                                </td><td>1</td></tr>\n",
       "\t<tr><td>Procedures  </td><td>Thoracentesis - Right                                                            </td><td>1</td></tr>\n",
       "\t<tr><td>Procedures  </td><td>Thoracentesis -right                                                             </td><td>1</td></tr>\n",
       "\t<tr><td>Procedures  </td><td>Thoracentesis left                                                               </td><td>1</td></tr>\n",
       "\t<tr><td>Procedures  </td><td>Thoracentesis right                                                              </td><td>1</td></tr>\n",
       "\t<tr><td>Procedures  </td><td>Thoracentesis uncer US guidance                                                  </td><td>1</td></tr>\n",
       "\t<tr><td>Procedures  </td><td>THORACOTOMY                                                                      </td><td>1</td></tr>\n",
       "\t<tr><td>Procedures  </td><td>TOBACCO USE CESSATION INTERVENTION, COUNSELING                                   </td><td>1</td></tr>\n",
       "\t<tr><td>Procedures  </td><td>TRACHEOTOMY TUBE CHANGE PRIOR TO ESTABLISHMENT OF FISTULA TRACT                  </td><td>1</td></tr>\n",
       "\t<tr><td>Procedures  </td><td>TRANSCATH OCCLU OR EMBOLIZ, PERCUTANEOUS, ANY METHOD, NON-CENTRAL NERVOUS  SYSTEM</td><td>1</td></tr>\n",
       "\t<tr><td>Procedures  </td><td>Transvenous pacing                                                               </td><td>1</td></tr>\n",
       "\t<tr><td>Procedures  </td><td>TREATMENT OF CORNEAL LESION                                                      </td><td>1</td></tr>\n",
       "\t<tr><td>Procedures  </td><td>TREATMENT OF MISCARRIAGE 1ST TRIMESTER                                           </td><td>1</td></tr>\n",
       "\t<tr><td>Procedures  </td><td>Trialysis                                                                        </td><td>1</td></tr>\n",
       "\t<tr><td>Procedures  </td><td>TRIAMCINOLONE ACETONIDE (TRIESCENCE) 2MG/0.05ML                                  </td><td>1</td></tr>\n",
       "\t<tr><td>Procedures  </td><td>TRICHIASIS ONCE PER DAY WHEN CRYOSURGERY OR ELECTROSURGERY IS PERFORMED.         </td><td>1</td></tr>\n",
       "\t<tr><td>Procedures  </td><td>TX 360 BLOCK                                                                     </td><td>1</td></tr>\n",
       "\t<tr><td><span style=white-space:pre-wrap>Procedures  </span></td><td><span style=white-space:pre-wrap>TX SPEECH/LANG/VOICE &amp;/OR AUDITORY PROCESS                                       </span></td><td>1</td></tr>\n",
       "\t<tr><td><span style=white-space:pre-wrap>Procedures  </span></td><td><span style=white-space:pre-wrap>UHA DEBRIDEMENT OF NAIL(S) BY ANY METHOD(S) 6/&gt;                                  </span></td><td>1</td></tr>\n",
       "\t<tr><td>Procedures  </td><td>UNLIS PX NVRS SYS                                                                </td><td>1</td></tr>\n",
       "\t<tr><td>Procedures  </td><td>UNLISTED ALLERGY/CLINICAL IMMUNOLOGIC SERVCE                                     </td><td>1</td></tr>\n",
       "\t<tr><td>Procedures  </td><td>UPPR GI SCOPE W SUBMUC INJ                                                       </td><td>1</td></tr>\n",
       "\t<tr><td>Procedures  </td><td>USE PANEL ORDER                                                                  </td><td>1</td></tr>\n",
       "\t<tr><td>Procedures  </td><td>VERTEPORFIN INJECTION 0.1 MG                                                     </td><td>1</td></tr>\n",
       "\t<tr><td>Procedures  </td><td>WAVEFRONT-GUIDED LIFT SAME FLAP LASER                                            </td><td>1</td></tr>\n",
       "\t<tr><td>Procedures  </td><td>WOUND VAC                                                                        </td><td>1</td></tr>\n",
       "\t<tr><td>Procedures  </td><td>XIAFLEX 0.1MG                                                                    </td><td>1</td></tr>\n",
       "\t<tr><td>Procedures  </td><td>XIAFLEX 0.9MG                                                                    </td><td>1</td></tr>\n",
       "\t<tr><td>vitals_test </td><td>Pulse_10                                                                         </td><td>1</td></tr>\n",
       "\t<tr><td>vitals_test </td><td>SBP_10                                                                           </td><td>1</td></tr>\n",
       "\t<tr><td>vitals_train</td><td>SBP_10                                                                           </td><td>1</td></tr>\n",
       "</tbody>\n",
       "</table>\n"
      ],
      "text/latex": [
       "A grouped\\_df: 42752 × 3\n",
       "\\begin{tabular}{lll}\n",
       " feature\\_type & features & n\\\\\n",
       " <chr> & <chr> & <int>\\\\\n",
       "\\hline\n",
       "\t demo         & age                                        & 41366\\\\\n",
       "\t demo         & delta\\_ESI                                  & 41366\\\\\n",
       "\t demo         & delta\\_H                                    & 41366\\\\\n",
       "\t demo         & delta\\_W                                    & 41366\\\\\n",
       "\t demo         & English                                    & 41366\\\\\n",
       "\t demo         & ESI\\_i                                      & 41366\\\\\n",
       "\t demo         & gender                                     & 41366\\\\\n",
       "\t demo         & Height\\_i                                   & 41366\\\\\n",
       "\t demo         & insurance                                  & 41366\\\\\n",
       "\t demo         & race.Asian                                 & 41366\\\\\n",
       "\t demo         & race.Black                                 & 41366\\\\\n",
       "\t demo         & race.Native.American                       & 41366\\\\\n",
       "\t demo         & race.Other                                 & 41366\\\\\n",
       "\t demo         & race.Pacific.Islander                      & 41366\\\\\n",
       "\t demo         & race.Unknown                               & 41366\\\\\n",
       "\t demo         & race.White                                 & 41366\\\\\n",
       "\t demo         & Weight\\_i                                   & 41366\\\\\n",
       "\t Lab          & METABOLIC PANEL, COMPREHENSIVE             & 40120\\\\\n",
       "\t Lab          & CBC WITH DIFFERENTIAL                      & 39102\\\\\n",
       "\t vitals\\_test  & Temp\\_4                                     & 31433\\\\\n",
       "\t vitals\\_train & Temp\\_4                                     & 31433\\\\\n",
       "\t Lab          & URINALYSIS SCREEN, CULTURE IF POSITIVE     & 27924\\\\\n",
       "\t Lab          & PROTHROMBIN TIME                           & 27170\\\\\n",
       "\t vitals\\_test  & RR\\_4                                       & 24995\\\\\n",
       "\t vitals\\_train & RR\\_3                                       & 24995\\\\\n",
       "\t Meds         & ONDANSETRON HCL (PF) 4 MG/2 ML INJ SOLN    & 24817\\\\\n",
       "\t Lab          & PTT PARTIAL THROMBOPLASTIN TIME            & 23259\\\\\n",
       "\t Lab          & METABOLIC PANEL, BASIC                     & 22633\\\\\n",
       "\t Lab          & CBC W/O DIFF                               & 21638\\\\\n",
       "\t Lab          & MAGNESIUM, SERUM/PLASMA                    & 21435\\\\\n",
       "\t Lab          & RAINBOW DRAW (FOR ED/RRT/CODE BLUE ONLY)   & 20435\\\\\n",
       "\t Meds         & ACETAMINOPHEN 325 MG PO TABS               & 20330\\\\\n",
       "\t Meds         & NS IV BOLUS                                & 19611\\\\\n",
       "\t Diagnosis    & Z79.899                                    & 19563\\\\\n",
       "\t Diagnosis    & I10                                        & 18804\\\\\n",
       "\t vitals\\_test  & RR\\_5                                       & 18585\\\\\n",
       "\t Lab          & TYPE AND SCREEN                            & 17628\\\\\n",
       "\t vitals\\_test  & RR\\_2                                       & 17538\\\\\n",
       "\t vitals\\_train & RR\\_1                                       & 17538\\\\\n",
       "\t vitals\\_train & RR\\_5                                       & 16977\\\\\n",
       "\t Lab          & ABO/RH (ARI)                               & 16366\\\\\n",
       "\t Lab          & TROPONIN I                                 & 16350\\\\\n",
       "\t Lab          & AB SCREEN (ASI)                            & 16235\\\\\n",
       "\t vitals\\_test  & Temp\\_2                                     & 15244\\\\\n",
       "\t vitals\\_train & Temp\\_2                                     & 15244\\\\\n",
       "\t Lab          & LIPASE                                     & 15135\\\\\n",
       "\t Meds         & NALOXONE 0.4 MG/ML INJ SOLN                & 14507\\\\\n",
       "\t Meds         & POLYETHYLENE GLYCOL 3350 17 GRAM PO PWPK   & 14429\\\\\n",
       "\t Meds         & HYDROMORPHONE 1 MG/ML INJ SYRG             & 14299\\\\\n",
       "\t Meds         & DOCUSATE SODIUM 100 MG PO CAPS             & 14136\\\\\n",
       "\t vitals\\_train & DBP\\_6                                      & 14052\\\\\n",
       "\t vitals\\_test  & DBP\\_3                                      & 14012\\\\\n",
       "\t Diagnosis    & E78.5                                      & 13980\\\\\n",
       "\t vitals\\_train & SBP\\_5                                      & 13570\\\\\n",
       "\t vitals\\_test  & SBP\\_6                                      & 13551\\\\\n",
       "\t vitals\\_test  & DBP\\_6                                      & 13517\\\\\n",
       "\t vitals\\_test  & SBP\\_3                                      & 13234\\\\\n",
       "\t Lab          & PHOSPHORUS, SERUM/PLASMA                   & 13227\\\\\n",
       "\t Microbiology & BLOOD CULTURE (AEROBIC \\& ANAEROBIC BOTTLE) & 13139\\\\\n",
       "\t vitals\\_train & DBP\\_5                                      & 12808\\\\\n",
       "\t vitals\\_test  & DBP\\_5                                      & 12766\\\\\n",
       "\t vitals\\_test  & DBP\\_4                                      & 12688\\\\\n",
       "\t vitals\\_train & DBP\\_4                                      & 12666\\\\\n",
       "\t Lab          & TSH                                        & 12657\\\\\n",
       "\t vitals\\_test  & SBP\\_4                                      & 12605\\\\\n",
       "\t Lab          & HEMOGLOBIN A1C                             & 12590\\\\\n",
       "\t Meds         & OXYCODONE 5 MG PO TABS                     & 12583\\\\\n",
       "\t vitals\\_train & SBP\\_7                                      & 12550\\\\\n",
       "\t vitals\\_train & SBP\\_4                                      & 12544\\\\\n",
       "\t vitals\\_train & DBP\\_8                                      & 12521\\\\\n",
       "\t Imaging      & XR CHEST 1 VIEW                            & 12508\\\\\n",
       "\t vitals\\_train & SBP\\_6                                      & 12457\\\\\n",
       "\t Diagnosis    & R06.02                                     & 12426\\\\\n",
       "\t Meds         & NS IV BOLUS - 1000 ML                      & 12390\\\\\n",
       "\t vitals\\_test  & Pulse\\_4                                    & 12346\\\\\n",
       "\t vitals\\_train & Pulse\\_4                                    & 12346\\\\\n",
       "\t Lab          & URINALYSIS WITH MICROSCOPIC                & 12256\\\\\n",
       "\t vitals\\_train & DBP\\_7                                      & 12156\\\\\n",
       "\t vitals\\_test  & SBP\\_5                                      & 12123\\\\\n",
       "\t vitals\\_test  & Pulse\\_7                                    & 11885\\\\\n",
       "\t vitals\\_train & SBP\\_3                                      & 11873\\\\\n",
       "\t vitals\\_train & DBP\\_3                                      & 11819\\\\\n",
       "\t vitals\\_test  & DBP\\_7                                      & 11815\\\\\n",
       "\t vitals\\_test  & DBP\\_8                                      & 11809\\\\\n",
       "\t vitals\\_test  & Pulse\\_5                                    & 11749\\\\\n",
       "\t vitals\\_train & Pulse\\_5                                    & 11749\\\\\n",
       "\t Diagnosis    & Z23                                        & 11658\\\\\n",
       "\t Meds         & ONDANSETRON 4 MG PO TBDL                   & 11646\\\\\n",
       "\t vitals\\_test  & DBP\\_2                                      & 11641\\\\\n",
       "\t vitals\\_train & DBP\\_2                                      & 11641\\\\\n",
       "\t vitals\\_test  & RR\\_7                                       & 11634\\\\\n",
       "\t vitals\\_train & RR\\_6                                       & 11634\\\\\n",
       "\t Meds         & MIDAZOLAM 1 MG/ML INJ SOLN                 & 11579\\\\\n",
       "\t vitals\\_test  & SBP\\_8                                      & 11526\\\\\n",
       "\t vitals\\_test  & SBP\\_2                                      & 11428\\\\\n",
       "\t vitals\\_train & SBP\\_2                                      & 11428\\\\\n",
       "\t vitals\\_test  & SBP\\_7                                      & 11401\\\\\n",
       "\t vitals\\_test  & Temp\\_0                                     & 11365\\\\\n",
       "\t vitals\\_train & Temp\\_0                                     & 11365\\\\\n",
       "\t vitals\\_test  & Pulse\\_6                                    & 11264\\\\\n",
       "\t ⋮ & ⋮ & ⋮\\\\\n",
       "\t Procedures   & NEG PROESS WOUND TX, <CM W/SNAP                                                   & 1\\\\\n",
       "\t Procedures   & NJX INTERLAMINAR LMBR/SAC W/IMG GUIDANCE                                          & 1\\\\\n",
       "\t Procedures   & NORMAL SALINE SOLUTION INFUSION 250 CC                                            & 1\\\\\n",
       "\t Procedures   & OPHTH BIOMETRY/PART INTERFEROMETRY W/INTRAOC 2ND EYE                              & 1\\\\\n",
       "\t Procedures   & OPHTHALMIC ULTRASOUND BIOMICROSCOPY(UBM)                                          & 1\\\\\n",
       "\t Procedures   & ORTHOTIC MANAGEMENT \\& TRAINING, EA 15MIN                                          & 1\\\\\n",
       "\t Procedures   & ORTHOVISC 15MG/2ML                                                                & 1\\\\\n",
       "\t Procedures   & OSCILLATING TRACKING TEST                                                         & 1\\\\\n",
       "\t Procedures   & OTO OTOACOUSTIC EMISSIONS,LIMITED MMC                                             & 1\\\\\n",
       "\t Procedures   & PENTAMIDINE AEROSOLIZED UHA                                                       & 1\\\\\n",
       "\t Procedures   & PERATIVE UPPER GI ENDOSCOPY                                                       & 1\\\\\n",
       "\t Procedures   & PESSARYW/RUBBER                                                                   & 1\\\\\n",
       "\t Procedures   & PROCTOSIGMOIDOSCOPY                                                               & 1\\\\\n",
       "\t Procedures   & PROF SERV ALLERGEN IMMUNOTHERAPY 2/MORE INJ                                       & 1\\\\\n",
       "\t Procedures   & PRP INJECTION                                                                     & 1\\\\\n",
       "\t Procedures   & PRP SUPPLIES                                                                      & 1\\\\\n",
       "\t Procedures   & PSA SCREENING                                                                     & 1\\\\\n",
       "\t Procedures   & PSYCHOLOGICAL TESTING, PER HR-TECH                                                & 1\\\\\n",
       "\t Procedures   & PULM FUNCT TST PLETHYSMOGRAP                                                      & 1\\\\\n",
       "\t Procedures   & Pulmonary Artery Catheter Insertion                                               & 1\\\\\n",
       "\t Procedures   & PULMONARY STRESS TEST SIMPLE                                                      & 1\\\\\n",
       "\t Procedures   & RADIESSE                                                                          & 1\\\\\n",
       "\t Procedures   & reduction of R inguinal hernia                                                    & 1\\\\\n",
       "\t Procedures   & REMOVAL OF BENIGN SKIN LESION FCE/EAR/EYELD/NSE/LIP, 2.1-3.0 CM                   & 1\\\\\n",
       "\t Procedures   & REMOVAL OF BENIGN SKIN LESION SCLP/NCK/HNDS/FEET/GENIT.,4.0+CM                    & 1\\\\\n",
       "\t Procedures   & REMOVAL OF BENIGN SKIN LESION TRNK/ARM/LEG,0.5CM OR LESS                          & 1\\\\\n",
       "\t Procedures   & REMOVAL OF HEMORRHOID CLOT                                                        & 1\\\\\n",
       "\t Procedures   & REMOVAL OF INNER EYE FLUID                                                        & 1\\\\\n",
       "\t Procedures   & REMOVAL OF MALIG. SKIN LESION SCLP/NCK/HNDS/FEET/GENIT.,1.1-2.0 CM                & 1\\\\\n",
       "\t Procedures   & REMOVAL OF MALIG. SKIN LESION SCLP/NCK/HNDS/FEET/GENIT.,2.1-3.0 CM                & 1\\\\\n",
       "\t Procedures   & REMOVAL OF MALIG. SKIN LESION SCLP/NCK/HNDS/FEET/GENIT.,3.1-4.0 CM                & 1\\\\\n",
       "\t Procedures   & REMOVAL OF MALIG. SKIN LESION TRNK/ARM/LEG, 4.0+CM                                & 1\\\\\n",
       "\t Procedures   & REMOVAL OF PERMANENT INTRAPERITON                                                 & 1\\\\\n",
       "\t Procedures   & REMOVAL OF SKIN TAGS, EACH ADD'L 10 TAGS, >15                                     & 1\\\\\n",
       "\t Procedures   & REMOVAL OF SUTURES                                                                & 1\\\\\n",
       "\t Procedures   & REMOVE EAR CANAL LESION(S)                                                        & 1\\\\\n",
       "\t Procedures   & REMOVE IMPACTED EAR WAX UNI                                                       & 1\\\\\n",
       "\t Procedures   & REPAIR COMPLEX WOUND FHD/CHN/MTH/NCK/GEN/HND/FT, 1.1-2.5 CM                       & 1\\\\\n",
       "\t Procedures   & REPAIR EYELID DEFECT                                                              & 1\\\\\n",
       "\t Procedures   & REPAIR MODIFICATION OF A HEARING AID                                              & 1\\\\\n",
       "\t Procedures   & REPAIR SUPERFICIAL WOUND(S) SCLP/NCK/GEN/TRNK/EXT., 2.6-7.5 CM                    & 1\\\\\n",
       "\t Procedures   & Right IJ HD catheter - US guidance                                                & 1\\\\\n",
       "\t Procedures   & RMV WOUND TISS;NON-SELEC DEBRID W/O ANES/SESSION                                  & 1\\\\\n",
       "\t Procedures   & SEMEN ANALYSIS SPERM PRESENCE\\&/MOTILITY SPR                                       & 1\\\\\n",
       "\t Procedures   & SHAVE SKIN LESION FCE/EAR/EYELID/NSE/LIP/MM,0.5 CM OR LESS                        & 1\\\\\n",
       "\t Procedures   & SHAVE SKIN LESION TRUNK/ARMS/LEGS, 1.1-2.0 CM                                     & 1\\\\\n",
       "\t Procedures   & SHC TXP EXTERNAL BLOOD GASES (MANUAL ENTRY)                                       & 1\\\\\n",
       "\t Procedures   & SKIN SUBSTITUTE GRAFIX CORE 5X5 PER 1 SQ CM WASTE                                 & 1\\\\\n",
       "\t Procedures   & SKIN SUBSTITUTE, DERMAGRAFTR, PER 1 SQ CM                                         & 1\\\\\n",
       "\t Procedures   & SKIN TISSUE REARRANGE ADD-ON                                                      & 1\\\\\n",
       "\t Procedures   & SKYLA IUD                                                                         & 1\\\\\n",
       "\t Procedures   & SLCTV CATH PLMT VEN SYS 1ST ORDER BRANCH                                          & 1\\\\\n",
       "\t Procedures   & SMOKING AND TOBACCO USE CESSATION COUNSELING VISIT; INTS                          & 1\\\\\n",
       "\t Procedures   & SMR PRIM SRC WET MOUNT NFCT AGT                                                   & 1\\\\\n",
       "\t Procedures   & SNIP INC LACRIMAL PUNCTUM                                                         & 1\\\\\n",
       "\t Procedures   & SPEC STAINS HISTOCHEM STAINING FROZEN SCTJ                                        & 1\\\\\n",
       "\t Procedures   & SPECIAL REPORTS                                                                   & 1\\\\\n",
       "\t Procedures   & SPEECH/HEARING EVALUATION                                                         & 1\\\\\n",
       "\t Procedures   & SPIRACUR SNAP DEVICE                                                              & 1\\\\\n",
       "\t Procedures   & SPLINT                                                                            & 1\\\\\n",
       "\t Procedures   & STAPLE/SUTURE REMOVAL                                                             & 1\\\\\n",
       "\t Procedures   & STSG, TRUNK/ARMS/LEGS, 1ST 100 CM SQ                                              & 1\\\\\n",
       "\t Procedures   & SUPRAPUBIC BLADDER ASPIRATION                                                     & 1\\\\\n",
       "\t Procedures   & SURGICAL SUPPLIES, MISC                                                           & 1\\\\\n",
       "\t Procedures   & SURGICAL TRAY                                                                     & 1\\\\\n",
       "\t Procedures   & Suture Placement                                                                  & 1\\\\\n",
       "\t Procedures   & TAP BLOCK UNIL BY INJECTION                                                       & 1\\\\\n",
       "\t Procedures   & TARSORRPHAPHY W/TRANS TARSAL PLATE                                                & 1\\\\\n",
       "\t Procedures   & THERAPEUTIC TRANSCRANIAL REPETETIVE MAGNETIC STIM TX PLANNING                     & 1\\\\\n",
       "\t Procedures   & Thoracentesis - R                                                                 & 1\\\\\n",
       "\t Procedures   & Thoracentesis - Right                                                             & 1\\\\\n",
       "\t Procedures   & Thoracentesis -right                                                              & 1\\\\\n",
       "\t Procedures   & Thoracentesis left                                                                & 1\\\\\n",
       "\t Procedures   & Thoracentesis right                                                               & 1\\\\\n",
       "\t Procedures   & Thoracentesis uncer US guidance                                                   & 1\\\\\n",
       "\t Procedures   & THORACOTOMY                                                                       & 1\\\\\n",
       "\t Procedures   & TOBACCO USE CESSATION INTERVENTION, COUNSELING                                    & 1\\\\\n",
       "\t Procedures   & TRACHEOTOMY TUBE CHANGE PRIOR TO ESTABLISHMENT OF FISTULA TRACT                   & 1\\\\\n",
       "\t Procedures   & TRANSCATH OCCLU OR EMBOLIZ, PERCUTANEOUS, ANY METHOD, NON-CENTRAL NERVOUS  SYSTEM & 1\\\\\n",
       "\t Procedures   & Transvenous pacing                                                                & 1\\\\\n",
       "\t Procedures   & TREATMENT OF CORNEAL LESION                                                       & 1\\\\\n",
       "\t Procedures   & TREATMENT OF MISCARRIAGE 1ST TRIMESTER                                            & 1\\\\\n",
       "\t Procedures   & Trialysis                                                                         & 1\\\\\n",
       "\t Procedures   & TRIAMCINOLONE ACETONIDE (TRIESCENCE) 2MG/0.05ML                                   & 1\\\\\n",
       "\t Procedures   & TRICHIASIS ONCE PER DAY WHEN CRYOSURGERY OR ELECTROSURGERY IS PERFORMED.          & 1\\\\\n",
       "\t Procedures   & TX 360 BLOCK                                                                      & 1\\\\\n",
       "\t Procedures   & TX SPEECH/LANG/VOICE \\&/OR AUDITORY PROCESS                                        & 1\\\\\n",
       "\t Procedures   & UHA DEBRIDEMENT OF NAIL(S) BY ANY METHOD(S) 6/>                                   & 1\\\\\n",
       "\t Procedures   & UNLIS PX NVRS SYS                                                                 & 1\\\\\n",
       "\t Procedures   & UNLISTED ALLERGY/CLINICAL IMMUNOLOGIC SERVCE                                      & 1\\\\\n",
       "\t Procedures   & UPPR GI SCOPE W SUBMUC INJ                                                        & 1\\\\\n",
       "\t Procedures   & USE PANEL ORDER                                                                   & 1\\\\\n",
       "\t Procedures   & VERTEPORFIN INJECTION 0.1 MG                                                      & 1\\\\\n",
       "\t Procedures   & WAVEFRONT-GUIDED LIFT SAME FLAP LASER                                             & 1\\\\\n",
       "\t Procedures   & WOUND VAC                                                                         & 1\\\\\n",
       "\t Procedures   & XIAFLEX 0.1MG                                                                     & 1\\\\\n",
       "\t Procedures   & XIAFLEX 0.9MG                                                                     & 1\\\\\n",
       "\t vitals\\_test  & Pulse\\_10                                                                          & 1\\\\\n",
       "\t vitals\\_test  & SBP\\_10                                                                            & 1\\\\\n",
       "\t vitals\\_train & SBP\\_10                                                                            & 1\\\\\n",
       "\\end{tabular}\n"
      ],
      "text/markdown": [
       "\n",
       "A grouped_df: 42752 × 3\n",
       "\n",
       "| feature_type &lt;chr&gt; | features &lt;chr&gt; | n &lt;int&gt; |\n",
       "|---|---|---|\n",
       "| demo         | age                                        | 41366 |\n",
       "| demo         | delta_ESI                                  | 41366 |\n",
       "| demo         | delta_H                                    | 41366 |\n",
       "| demo         | delta_W                                    | 41366 |\n",
       "| demo         | English                                    | 41366 |\n",
       "| demo         | ESI_i                                      | 41366 |\n",
       "| demo         | gender                                     | 41366 |\n",
       "| demo         | Height_i                                   | 41366 |\n",
       "| demo         | insurance                                  | 41366 |\n",
       "| demo         | race.Asian                                 | 41366 |\n",
       "| demo         | race.Black                                 | 41366 |\n",
       "| demo         | race.Native.American                       | 41366 |\n",
       "| demo         | race.Other                                 | 41366 |\n",
       "| demo         | race.Pacific.Islander                      | 41366 |\n",
       "| demo         | race.Unknown                               | 41366 |\n",
       "| demo         | race.White                                 | 41366 |\n",
       "| demo         | Weight_i                                   | 41366 |\n",
       "| Lab          | METABOLIC PANEL, COMPREHENSIVE             | 40120 |\n",
       "| Lab          | CBC WITH DIFFERENTIAL                      | 39102 |\n",
       "| vitals_test  | Temp_4                                     | 31433 |\n",
       "| vitals_train | Temp_4                                     | 31433 |\n",
       "| Lab          | URINALYSIS SCREEN, CULTURE IF POSITIVE     | 27924 |\n",
       "| Lab          | PROTHROMBIN TIME                           | 27170 |\n",
       "| vitals_test  | RR_4                                       | 24995 |\n",
       "| vitals_train | RR_3                                       | 24995 |\n",
       "| Meds         | ONDANSETRON HCL (PF) 4 MG/2 ML INJ SOLN    | 24817 |\n",
       "| Lab          | PTT PARTIAL THROMBOPLASTIN TIME            | 23259 |\n",
       "| Lab          | METABOLIC PANEL, BASIC                     | 22633 |\n",
       "| Lab          | CBC W/O DIFF                               | 21638 |\n",
       "| Lab          | MAGNESIUM, SERUM/PLASMA                    | 21435 |\n",
       "| Lab          | RAINBOW DRAW (FOR ED/RRT/CODE BLUE ONLY)   | 20435 |\n",
       "| Meds         | ACETAMINOPHEN 325 MG PO TABS               | 20330 |\n",
       "| Meds         | NS IV BOLUS                                | 19611 |\n",
       "| Diagnosis    | Z79.899                                    | 19563 |\n",
       "| Diagnosis    | I10                                        | 18804 |\n",
       "| vitals_test  | RR_5                                       | 18585 |\n",
       "| Lab          | TYPE AND SCREEN                            | 17628 |\n",
       "| vitals_test  | RR_2                                       | 17538 |\n",
       "| vitals_train | RR_1                                       | 17538 |\n",
       "| vitals_train | RR_5                                       | 16977 |\n",
       "| Lab          | ABO/RH (ARI)                               | 16366 |\n",
       "| Lab          | TROPONIN I                                 | 16350 |\n",
       "| Lab          | AB SCREEN (ASI)                            | 16235 |\n",
       "| vitals_test  | Temp_2                                     | 15244 |\n",
       "| vitals_train | Temp_2                                     | 15244 |\n",
       "| Lab          | LIPASE                                     | 15135 |\n",
       "| Meds         | NALOXONE 0.4 MG/ML INJ SOLN                | 14507 |\n",
       "| Meds         | POLYETHYLENE GLYCOL 3350 17 GRAM PO PWPK   | 14429 |\n",
       "| Meds         | HYDROMORPHONE 1 MG/ML INJ SYRG             | 14299 |\n",
       "| Meds         | DOCUSATE SODIUM 100 MG PO CAPS             | 14136 |\n",
       "| vitals_train | DBP_6                                      | 14052 |\n",
       "| vitals_test  | DBP_3                                      | 14012 |\n",
       "| Diagnosis    | E78.5                                      | 13980 |\n",
       "| vitals_train | SBP_5                                      | 13570 |\n",
       "| vitals_test  | SBP_6                                      | 13551 |\n",
       "| vitals_test  | DBP_6                                      | 13517 |\n",
       "| vitals_test  | SBP_3                                      | 13234 |\n",
       "| Lab          | PHOSPHORUS, SERUM/PLASMA                   | 13227 |\n",
       "| Microbiology | BLOOD CULTURE (AEROBIC &amp; ANAEROBIC BOTTLE) | 13139 |\n",
       "| vitals_train | DBP_5                                      | 12808 |\n",
       "| vitals_test  | DBP_5                                      | 12766 |\n",
       "| vitals_test  | DBP_4                                      | 12688 |\n",
       "| vitals_train | DBP_4                                      | 12666 |\n",
       "| Lab          | TSH                                        | 12657 |\n",
       "| vitals_test  | SBP_4                                      | 12605 |\n",
       "| Lab          | HEMOGLOBIN A1C                             | 12590 |\n",
       "| Meds         | OXYCODONE 5 MG PO TABS                     | 12583 |\n",
       "| vitals_train | SBP_7                                      | 12550 |\n",
       "| vitals_train | SBP_4                                      | 12544 |\n",
       "| vitals_train | DBP_8                                      | 12521 |\n",
       "| Imaging      | XR CHEST 1 VIEW                            | 12508 |\n",
       "| vitals_train | SBP_6                                      | 12457 |\n",
       "| Diagnosis    | R06.02                                     | 12426 |\n",
       "| Meds         | NS IV BOLUS - 1000 ML                      | 12390 |\n",
       "| vitals_test  | Pulse_4                                    | 12346 |\n",
       "| vitals_train | Pulse_4                                    | 12346 |\n",
       "| Lab          | URINALYSIS WITH MICROSCOPIC                | 12256 |\n",
       "| vitals_train | DBP_7                                      | 12156 |\n",
       "| vitals_test  | SBP_5                                      | 12123 |\n",
       "| vitals_test  | Pulse_7                                    | 11885 |\n",
       "| vitals_train | SBP_3                                      | 11873 |\n",
       "| vitals_train | DBP_3                                      | 11819 |\n",
       "| vitals_test  | DBP_7                                      | 11815 |\n",
       "| vitals_test  | DBP_8                                      | 11809 |\n",
       "| vitals_test  | Pulse_5                                    | 11749 |\n",
       "| vitals_train | Pulse_5                                    | 11749 |\n",
       "| Diagnosis    | Z23                                        | 11658 |\n",
       "| Meds         | ONDANSETRON 4 MG PO TBDL                   | 11646 |\n",
       "| vitals_test  | DBP_2                                      | 11641 |\n",
       "| vitals_train | DBP_2                                      | 11641 |\n",
       "| vitals_test  | RR_7                                       | 11634 |\n",
       "| vitals_train | RR_6                                       | 11634 |\n",
       "| Meds         | MIDAZOLAM 1 MG/ML INJ SOLN                 | 11579 |\n",
       "| vitals_test  | SBP_8                                      | 11526 |\n",
       "| vitals_test  | SBP_2                                      | 11428 |\n",
       "| vitals_train | SBP_2                                      | 11428 |\n",
       "| vitals_test  | SBP_7                                      | 11401 |\n",
       "| vitals_test  | Temp_0                                     | 11365 |\n",
       "| vitals_train | Temp_0                                     | 11365 |\n",
       "| vitals_test  | Pulse_6                                    | 11264 |\n",
       "| ⋮ | ⋮ | ⋮ |\n",
       "| Procedures   | NEG PROESS WOUND TX, &lt;CM W/SNAP                                                   | 1 |\n",
       "| Procedures   | NJX INTERLAMINAR LMBR/SAC W/IMG GUIDANCE                                          | 1 |\n",
       "| Procedures   | NORMAL SALINE SOLUTION INFUSION 250 CC                                            | 1 |\n",
       "| Procedures   | OPHTH BIOMETRY/PART INTERFEROMETRY W/INTRAOC 2ND EYE                              | 1 |\n",
       "| Procedures   | OPHTHALMIC ULTRASOUND BIOMICROSCOPY(UBM)                                          | 1 |\n",
       "| Procedures   | ORTHOTIC MANAGEMENT &amp; TRAINING, EA 15MIN                                          | 1 |\n",
       "| Procedures   | ORTHOVISC 15MG/2ML                                                                | 1 |\n",
       "| Procedures   | OSCILLATING TRACKING TEST                                                         | 1 |\n",
       "| Procedures   | OTO OTOACOUSTIC EMISSIONS,LIMITED MMC                                             | 1 |\n",
       "| Procedures   | PENTAMIDINE AEROSOLIZED UHA                                                       | 1 |\n",
       "| Procedures   | PERATIVE UPPER GI ENDOSCOPY                                                       | 1 |\n",
       "| Procedures   | PESSARYW/RUBBER                                                                   | 1 |\n",
       "| Procedures   | PROCTOSIGMOIDOSCOPY                                                               | 1 |\n",
       "| Procedures   | PROF SERV ALLERGEN IMMUNOTHERAPY 2/MORE INJ                                       | 1 |\n",
       "| Procedures   | PRP INJECTION                                                                     | 1 |\n",
       "| Procedures   | PRP SUPPLIES                                                                      | 1 |\n",
       "| Procedures   | PSA SCREENING                                                                     | 1 |\n",
       "| Procedures   | PSYCHOLOGICAL TESTING, PER HR-TECH                                                | 1 |\n",
       "| Procedures   | PULM FUNCT TST PLETHYSMOGRAP                                                      | 1 |\n",
       "| Procedures   | Pulmonary Artery Catheter Insertion                                               | 1 |\n",
       "| Procedures   | PULMONARY STRESS TEST SIMPLE                                                      | 1 |\n",
       "| Procedures   | RADIESSE                                                                          | 1 |\n",
       "| Procedures   | reduction of R inguinal hernia                                                    | 1 |\n",
       "| Procedures   | REMOVAL OF BENIGN SKIN LESION FCE/EAR/EYELD/NSE/LIP, 2.1-3.0 CM                   | 1 |\n",
       "| Procedures   | REMOVAL OF BENIGN SKIN LESION SCLP/NCK/HNDS/FEET/GENIT.,4.0+CM                    | 1 |\n",
       "| Procedures   | REMOVAL OF BENIGN SKIN LESION TRNK/ARM/LEG,0.5CM OR LESS                          | 1 |\n",
       "| Procedures   | REMOVAL OF HEMORRHOID CLOT                                                        | 1 |\n",
       "| Procedures   | REMOVAL OF INNER EYE FLUID                                                        | 1 |\n",
       "| Procedures   | REMOVAL OF MALIG. SKIN LESION SCLP/NCK/HNDS/FEET/GENIT.,1.1-2.0 CM                | 1 |\n",
       "| Procedures   | REMOVAL OF MALIG. SKIN LESION SCLP/NCK/HNDS/FEET/GENIT.,2.1-3.0 CM                | 1 |\n",
       "| Procedures   | REMOVAL OF MALIG. SKIN LESION SCLP/NCK/HNDS/FEET/GENIT.,3.1-4.0 CM                | 1 |\n",
       "| Procedures   | REMOVAL OF MALIG. SKIN LESION TRNK/ARM/LEG, 4.0+CM                                | 1 |\n",
       "| Procedures   | REMOVAL OF PERMANENT INTRAPERITON                                                 | 1 |\n",
       "| Procedures   | REMOVAL OF SKIN TAGS, EACH ADD'L 10 TAGS, &gt;15                                     | 1 |\n",
       "| Procedures   | REMOVAL OF SUTURES                                                                | 1 |\n",
       "| Procedures   | REMOVE EAR CANAL LESION(S)                                                        | 1 |\n",
       "| Procedures   | REMOVE IMPACTED EAR WAX UNI                                                       | 1 |\n",
       "| Procedures   | REPAIR COMPLEX WOUND FHD/CHN/MTH/NCK/GEN/HND/FT, 1.1-2.5 CM                       | 1 |\n",
       "| Procedures   | REPAIR EYELID DEFECT                                                              | 1 |\n",
       "| Procedures   | REPAIR MODIFICATION OF A HEARING AID                                              | 1 |\n",
       "| Procedures   | REPAIR SUPERFICIAL WOUND(S) SCLP/NCK/GEN/TRNK/EXT., 2.6-7.5 CM                    | 1 |\n",
       "| Procedures   | Right IJ HD catheter - US guidance                                                | 1 |\n",
       "| Procedures   | RMV WOUND TISS;NON-SELEC DEBRID W/O ANES/SESSION                                  | 1 |\n",
       "| Procedures   | SEMEN ANALYSIS SPERM PRESENCE&amp;/MOTILITY SPR                                       | 1 |\n",
       "| Procedures   | SHAVE SKIN LESION FCE/EAR/EYELID/NSE/LIP/MM,0.5 CM OR LESS                        | 1 |\n",
       "| Procedures   | SHAVE SKIN LESION TRUNK/ARMS/LEGS, 1.1-2.0 CM                                     | 1 |\n",
       "| Procedures   | SHC TXP EXTERNAL BLOOD GASES (MANUAL ENTRY)                                       | 1 |\n",
       "| Procedures   | SKIN SUBSTITUTE GRAFIX CORE 5X5 PER 1 SQ CM WASTE                                 | 1 |\n",
       "| Procedures   | SKIN SUBSTITUTE, DERMAGRAFTR, PER 1 SQ CM                                         | 1 |\n",
       "| Procedures   | SKIN TISSUE REARRANGE ADD-ON                                                      | 1 |\n",
       "| Procedures   | SKYLA IUD                                                                         | 1 |\n",
       "| Procedures   | SLCTV CATH PLMT VEN SYS 1ST ORDER BRANCH                                          | 1 |\n",
       "| Procedures   | SMOKING AND TOBACCO USE CESSATION COUNSELING VISIT; INTS                          | 1 |\n",
       "| Procedures   | SMR PRIM SRC WET MOUNT NFCT AGT                                                   | 1 |\n",
       "| Procedures   | SNIP INC LACRIMAL PUNCTUM                                                         | 1 |\n",
       "| Procedures   | SPEC STAINS HISTOCHEM STAINING FROZEN SCTJ                                        | 1 |\n",
       "| Procedures   | SPECIAL REPORTS                                                                   | 1 |\n",
       "| Procedures   | SPEECH/HEARING EVALUATION                                                         | 1 |\n",
       "| Procedures   | SPIRACUR SNAP DEVICE                                                              | 1 |\n",
       "| Procedures   | SPLINT                                                                            | 1 |\n",
       "| Procedures   | STAPLE/SUTURE REMOVAL                                                             | 1 |\n",
       "| Procedures   | STSG, TRUNK/ARMS/LEGS, 1ST 100 CM SQ                                              | 1 |\n",
       "| Procedures   | SUPRAPUBIC BLADDER ASPIRATION                                                     | 1 |\n",
       "| Procedures   | SURGICAL SUPPLIES, MISC                                                           | 1 |\n",
       "| Procedures   | SURGICAL TRAY                                                                     | 1 |\n",
       "| Procedures   | Suture Placement                                                                  | 1 |\n",
       "| Procedures   | TAP BLOCK UNIL BY INJECTION                                                       | 1 |\n",
       "| Procedures   | TARSORRPHAPHY W/TRANS TARSAL PLATE                                                | 1 |\n",
       "| Procedures   | THERAPEUTIC TRANSCRANIAL REPETETIVE MAGNETIC STIM TX PLANNING                     | 1 |\n",
       "| Procedures   | Thoracentesis - R                                                                 | 1 |\n",
       "| Procedures   | Thoracentesis - Right                                                             | 1 |\n",
       "| Procedures   | Thoracentesis -right                                                              | 1 |\n",
       "| Procedures   | Thoracentesis left                                                                | 1 |\n",
       "| Procedures   | Thoracentesis right                                                               | 1 |\n",
       "| Procedures   | Thoracentesis uncer US guidance                                                   | 1 |\n",
       "| Procedures   | THORACOTOMY                                                                       | 1 |\n",
       "| Procedures   | TOBACCO USE CESSATION INTERVENTION, COUNSELING                                    | 1 |\n",
       "| Procedures   | TRACHEOTOMY TUBE CHANGE PRIOR TO ESTABLISHMENT OF FISTULA TRACT                   | 1 |\n",
       "| Procedures   | TRANSCATH OCCLU OR EMBOLIZ, PERCUTANEOUS, ANY METHOD, NON-CENTRAL NERVOUS  SYSTEM | 1 |\n",
       "| Procedures   | Transvenous pacing                                                                | 1 |\n",
       "| Procedures   | TREATMENT OF CORNEAL LESION                                                       | 1 |\n",
       "| Procedures   | TREATMENT OF MISCARRIAGE 1ST TRIMESTER                                            | 1 |\n",
       "| Procedures   | Trialysis                                                                         | 1 |\n",
       "| Procedures   | TRIAMCINOLONE ACETONIDE (TRIESCENCE) 2MG/0.05ML                                   | 1 |\n",
       "| Procedures   | TRICHIASIS ONCE PER DAY WHEN CRYOSURGERY OR ELECTROSURGERY IS PERFORMED.          | 1 |\n",
       "| Procedures   | TX 360 BLOCK                                                                      | 1 |\n",
       "| Procedures   | TX SPEECH/LANG/VOICE &amp;/OR AUDITORY PROCESS                                        | 1 |\n",
       "| Procedures   | UHA DEBRIDEMENT OF NAIL(S) BY ANY METHOD(S) 6/&gt;                                   | 1 |\n",
       "| Procedures   | UNLIS PX NVRS SYS                                                                 | 1 |\n",
       "| Procedures   | UNLISTED ALLERGY/CLINICAL IMMUNOLOGIC SERVCE                                      | 1 |\n",
       "| Procedures   | UPPR GI SCOPE W SUBMUC INJ                                                        | 1 |\n",
       "| Procedures   | USE PANEL ORDER                                                                   | 1 |\n",
       "| Procedures   | VERTEPORFIN INJECTION 0.1 MG                                                      | 1 |\n",
       "| Procedures   | WAVEFRONT-GUIDED LIFT SAME FLAP LASER                                             | 1 |\n",
       "| Procedures   | WOUND VAC                                                                         | 1 |\n",
       "| Procedures   | XIAFLEX 0.1MG                                                                     | 1 |\n",
       "| Procedures   | XIAFLEX 0.9MG                                                                     | 1 |\n",
       "| vitals_test  | Pulse_10                                                                          | 1 |\n",
       "| vitals_test  | SBP_10                                                                            | 1 |\n",
       "| vitals_train | SBP_10                                                                            | 1 |\n",
       "\n"
      ],
      "text/plain": [
       "      feature_type\n",
       "1     demo        \n",
       "2     demo        \n",
       "3     demo        \n",
       "4     demo        \n",
       "5     demo        \n",
       "6     demo        \n",
       "7     demo        \n",
       "8     demo        \n",
       "9     demo        \n",
       "10    demo        \n",
       "11    demo        \n",
       "12    demo        \n",
       "13    demo        \n",
       "14    demo        \n",
       "15    demo        \n",
       "16    demo        \n",
       "17    demo        \n",
       "18    Lab         \n",
       "19    Lab         \n",
       "20    vitals_test \n",
       "21    vitals_train\n",
       "22    Lab         \n",
       "23    Lab         \n",
       "24    vitals_test \n",
       "25    vitals_train\n",
       "26    Meds        \n",
       "27    Lab         \n",
       "28    Lab         \n",
       "29    Lab         \n",
       "30    Lab         \n",
       "31    Lab         \n",
       "32    Meds        \n",
       "33    Meds        \n",
       "34    Diagnosis   \n",
       "35    Diagnosis   \n",
       "36    vitals_test \n",
       "37    Lab         \n",
       "38    vitals_test \n",
       "39    vitals_train\n",
       "40    vitals_train\n",
       "41    Lab         \n",
       "42    Lab         \n",
       "43    Lab         \n",
       "44    vitals_test \n",
       "45    vitals_train\n",
       "46    Lab         \n",
       "47    Meds        \n",
       "48    Meds        \n",
       "49    Meds        \n",
       "50    Meds        \n",
       "51    vitals_train\n",
       "52    vitals_test \n",
       "53    Diagnosis   \n",
       "54    vitals_train\n",
       "55    vitals_test \n",
       "56    vitals_test \n",
       "57    vitals_test \n",
       "58    Lab         \n",
       "59    Microbiology\n",
       "60    vitals_train\n",
       "61    vitals_test \n",
       "62    vitals_test \n",
       "63    vitals_train\n",
       "64    Lab         \n",
       "65    vitals_test \n",
       "66    Lab         \n",
       "67    Meds        \n",
       "68    vitals_train\n",
       "69    vitals_train\n",
       "70    vitals_train\n",
       "71    Imaging     \n",
       "72    vitals_train\n",
       "73    Diagnosis   \n",
       "74    Meds        \n",
       "75    vitals_test \n",
       "76    vitals_train\n",
       "77    Lab         \n",
       "78    vitals_train\n",
       "79    vitals_test \n",
       "80    vitals_test \n",
       "81    vitals_train\n",
       "82    vitals_train\n",
       "83    vitals_test \n",
       "84    vitals_test \n",
       "85    vitals_test \n",
       "86    vitals_train\n",
       "87    Diagnosis   \n",
       "88    Meds        \n",
       "89    vitals_test \n",
       "90    vitals_train\n",
       "91    vitals_test \n",
       "92    vitals_train\n",
       "93    Meds        \n",
       "94    vitals_test \n",
       "95    vitals_test \n",
       "96    vitals_train\n",
       "97    vitals_test \n",
       "98    vitals_test \n",
       "99    vitals_train\n",
       "100   vitals_test \n",
       "⋮     ⋮           \n",
       "42653 Procedures  \n",
       "42654 Procedures  \n",
       "42655 Procedures  \n",
       "42656 Procedures  \n",
       "42657 Procedures  \n",
       "42658 Procedures  \n",
       "42659 Procedures  \n",
       "42660 Procedures  \n",
       "42661 Procedures  \n",
       "42662 Procedures  \n",
       "42663 Procedures  \n",
       "42664 Procedures  \n",
       "42665 Procedures  \n",
       "42666 Procedures  \n",
       "42667 Procedures  \n",
       "42668 Procedures  \n",
       "42669 Procedures  \n",
       "42670 Procedures  \n",
       "42671 Procedures  \n",
       "42672 Procedures  \n",
       "42673 Procedures  \n",
       "42674 Procedures  \n",
       "42675 Procedures  \n",
       "42676 Procedures  \n",
       "42677 Procedures  \n",
       "42678 Procedures  \n",
       "42679 Procedures  \n",
       "42680 Procedures  \n",
       "42681 Procedures  \n",
       "42682 Procedures  \n",
       "42683 Procedures  \n",
       "42684 Procedures  \n",
       "42685 Procedures  \n",
       "42686 Procedures  \n",
       "42687 Procedures  \n",
       "42688 Procedures  \n",
       "42689 Procedures  \n",
       "42690 Procedures  \n",
       "42691 Procedures  \n",
       "42692 Procedures  \n",
       "42693 Procedures  \n",
       "42694 Procedures  \n",
       "42695 Procedures  \n",
       "42696 Procedures  \n",
       "42697 Procedures  \n",
       "42698 Procedures  \n",
       "42699 Procedures  \n",
       "42700 Procedures  \n",
       "42701 Procedures  \n",
       "42702 Procedures  \n",
       "42703 Procedures  \n",
       "42704 Procedures  \n",
       "42705 Procedures  \n",
       "42706 Procedures  \n",
       "42707 Procedures  \n",
       "42708 Procedures  \n",
       "42709 Procedures  \n",
       "42710 Procedures  \n",
       "42711 Procedures  \n",
       "42712 Procedures  \n",
       "42713 Procedures  \n",
       "42714 Procedures  \n",
       "42715 Procedures  \n",
       "42716 Procedures  \n",
       "42717 Procedures  \n",
       "42718 Procedures  \n",
       "42719 Procedures  \n",
       "42720 Procedures  \n",
       "42721 Procedures  \n",
       "42722 Procedures  \n",
       "42723 Procedures  \n",
       "42724 Procedures  \n",
       "42725 Procedures  \n",
       "42726 Procedures  \n",
       "42727 Procedures  \n",
       "42728 Procedures  \n",
       "42729 Procedures  \n",
       "42730 Procedures  \n",
       "42731 Procedures  \n",
       "42732 Procedures  \n",
       "42733 Procedures  \n",
       "42734 Procedures  \n",
       "42735 Procedures  \n",
       "42736 Procedures  \n",
       "42737 Procedures  \n",
       "42738 Procedures  \n",
       "42739 Procedures  \n",
       "42740 Procedures  \n",
       "42741 Procedures  \n",
       "42742 Procedures  \n",
       "42743 Procedures  \n",
       "42744 Procedures  \n",
       "42745 Procedures  \n",
       "42746 Procedures  \n",
       "42747 Procedures  \n",
       "42748 Procedures  \n",
       "42749 Procedures  \n",
       "42750 vitals_test \n",
       "42751 vitals_test \n",
       "42752 vitals_train\n",
       "      features                                                                         \n",
       "1     age                                                                              \n",
       "2     delta_ESI                                                                        \n",
       "3     delta_H                                                                          \n",
       "4     delta_W                                                                          \n",
       "5     English                                                                          \n",
       "6     ESI_i                                                                            \n",
       "7     gender                                                                           \n",
       "8     Height_i                                                                         \n",
       "9     insurance                                                                        \n",
       "10    race.Asian                                                                       \n",
       "11    race.Black                                                                       \n",
       "12    race.Native.American                                                             \n",
       "13    race.Other                                                                       \n",
       "14    race.Pacific.Islander                                                            \n",
       "15    race.Unknown                                                                     \n",
       "16    race.White                                                                       \n",
       "17    Weight_i                                                                         \n",
       "18    METABOLIC PANEL, COMPREHENSIVE                                                   \n",
       "19    CBC WITH DIFFERENTIAL                                                            \n",
       "20    Temp_4                                                                           \n",
       "21    Temp_4                                                                           \n",
       "22    URINALYSIS SCREEN, CULTURE IF POSITIVE                                           \n",
       "23    PROTHROMBIN TIME                                                                 \n",
       "24    RR_4                                                                             \n",
       "25    RR_3                                                                             \n",
       "26    ONDANSETRON HCL (PF) 4 MG/2 ML INJ SOLN                                          \n",
       "27    PTT PARTIAL THROMBOPLASTIN TIME                                                  \n",
       "28    METABOLIC PANEL, BASIC                                                           \n",
       "29    CBC W/O DIFF                                                                     \n",
       "30    MAGNESIUM, SERUM/PLASMA                                                          \n",
       "31    RAINBOW DRAW (FOR ED/RRT/CODE BLUE ONLY)                                         \n",
       "32    ACETAMINOPHEN 325 MG PO TABS                                                     \n",
       "33    NS IV BOLUS                                                                      \n",
       "34    Z79.899                                                                          \n",
       "35    I10                                                                              \n",
       "36    RR_5                                                                             \n",
       "37    TYPE AND SCREEN                                                                  \n",
       "38    RR_2                                                                             \n",
       "39    RR_1                                                                             \n",
       "40    RR_5                                                                             \n",
       "41    ABO/RH (ARI)                                                                     \n",
       "42    TROPONIN I                                                                       \n",
       "43    AB SCREEN (ASI)                                                                  \n",
       "44    Temp_2                                                                           \n",
       "45    Temp_2                                                                           \n",
       "46    LIPASE                                                                           \n",
       "47    NALOXONE 0.4 MG/ML INJ SOLN                                                      \n",
       "48    POLYETHYLENE GLYCOL 3350 17 GRAM PO PWPK                                         \n",
       "49    HYDROMORPHONE 1 MG/ML INJ SYRG                                                   \n",
       "50    DOCUSATE SODIUM 100 MG PO CAPS                                                   \n",
       "51    DBP_6                                                                            \n",
       "52    DBP_3                                                                            \n",
       "53    E78.5                                                                            \n",
       "54    SBP_5                                                                            \n",
       "55    SBP_6                                                                            \n",
       "56    DBP_6                                                                            \n",
       "57    SBP_3                                                                            \n",
       "58    PHOSPHORUS, SERUM/PLASMA                                                         \n",
       "59    BLOOD CULTURE (AEROBIC & ANAEROBIC BOTTLE)                                       \n",
       "60    DBP_5                                                                            \n",
       "61    DBP_5                                                                            \n",
       "62    DBP_4                                                                            \n",
       "63    DBP_4                                                                            \n",
       "64    TSH                                                                              \n",
       "65    SBP_4                                                                            \n",
       "66    HEMOGLOBIN A1C                                                                   \n",
       "67    OXYCODONE 5 MG PO TABS                                                           \n",
       "68    SBP_7                                                                            \n",
       "69    SBP_4                                                                            \n",
       "70    DBP_8                                                                            \n",
       "71    XR CHEST 1 VIEW                                                                  \n",
       "72    SBP_6                                                                            \n",
       "73    R06.02                                                                           \n",
       "74    NS IV BOLUS - 1000 ML                                                            \n",
       "75    Pulse_4                                                                          \n",
       "76    Pulse_4                                                                          \n",
       "77    URINALYSIS WITH MICROSCOPIC                                                      \n",
       "78    DBP_7                                                                            \n",
       "79    SBP_5                                                                            \n",
       "80    Pulse_7                                                                          \n",
       "81    SBP_3                                                                            \n",
       "82    DBP_3                                                                            \n",
       "83    DBP_7                                                                            \n",
       "84    DBP_8                                                                            \n",
       "85    Pulse_5                                                                          \n",
       "86    Pulse_5                                                                          \n",
       "87    Z23                                                                              \n",
       "88    ONDANSETRON 4 MG PO TBDL                                                         \n",
       "89    DBP_2                                                                            \n",
       "90    DBP_2                                                                            \n",
       "91    RR_7                                                                             \n",
       "92    RR_6                                                                             \n",
       "93    MIDAZOLAM 1 MG/ML INJ SOLN                                                       \n",
       "94    SBP_8                                                                            \n",
       "95    SBP_2                                                                            \n",
       "96    SBP_2                                                                            \n",
       "97    SBP_7                                                                            \n",
       "98    Temp_0                                                                           \n",
       "99    Temp_0                                                                           \n",
       "100   Pulse_6                                                                          \n",
       "⋮     ⋮                                                                                \n",
       "42653 NEG PROESS WOUND TX, <CM W/SNAP                                                  \n",
       "42654 NJX INTERLAMINAR LMBR/SAC W/IMG GUIDANCE                                         \n",
       "42655 NORMAL SALINE SOLUTION INFUSION 250 CC                                           \n",
       "42656 OPHTH BIOMETRY/PART INTERFEROMETRY W/INTRAOC 2ND EYE                             \n",
       "42657 OPHTHALMIC ULTRASOUND BIOMICROSCOPY(UBM)                                         \n",
       "42658 ORTHOTIC MANAGEMENT & TRAINING, EA 15MIN                                         \n",
       "42659 ORTHOVISC 15MG/2ML                                                               \n",
       "42660 OSCILLATING TRACKING TEST                                                        \n",
       "42661 OTO OTOACOUSTIC EMISSIONS,LIMITED MMC                                            \n",
       "42662 PENTAMIDINE AEROSOLIZED UHA                                                      \n",
       "42663 PERATIVE UPPER GI ENDOSCOPY                                                      \n",
       "42664 PESSARYW/RUBBER                                                                  \n",
       "42665 PROCTOSIGMOIDOSCOPY                                                              \n",
       "42666 PROF SERV ALLERGEN IMMUNOTHERAPY 2/MORE INJ                                      \n",
       "42667 PRP INJECTION                                                                    \n",
       "42668 PRP SUPPLIES                                                                     \n",
       "42669 PSA SCREENING                                                                    \n",
       "42670 PSYCHOLOGICAL TESTING, PER HR-TECH                                               \n",
       "42671 PULM FUNCT TST PLETHYSMOGRAP                                                     \n",
       "42672 Pulmonary Artery Catheter Insertion                                              \n",
       "42673 PULMONARY STRESS TEST SIMPLE                                                     \n",
       "42674 RADIESSE                                                                         \n",
       "42675 reduction of R inguinal hernia                                                   \n",
       "42676 REMOVAL OF BENIGN SKIN LESION FCE/EAR/EYELD/NSE/LIP, 2.1-3.0 CM                  \n",
       "42677 REMOVAL OF BENIGN SKIN LESION SCLP/NCK/HNDS/FEET/GENIT.,4.0+CM                   \n",
       "42678 REMOVAL OF BENIGN SKIN LESION TRNK/ARM/LEG,0.5CM OR LESS                         \n",
       "42679 REMOVAL OF HEMORRHOID CLOT                                                       \n",
       "42680 REMOVAL OF INNER EYE FLUID                                                       \n",
       "42681 REMOVAL OF MALIG. SKIN LESION SCLP/NCK/HNDS/FEET/GENIT.,1.1-2.0 CM               \n",
       "42682 REMOVAL OF MALIG. SKIN LESION SCLP/NCK/HNDS/FEET/GENIT.,2.1-3.0 CM               \n",
       "42683 REMOVAL OF MALIG. SKIN LESION SCLP/NCK/HNDS/FEET/GENIT.,3.1-4.0 CM               \n",
       "42684 REMOVAL OF MALIG. SKIN LESION TRNK/ARM/LEG, 4.0+CM                               \n",
       "42685 REMOVAL OF PERMANENT INTRAPERITON                                                \n",
       "42686 REMOVAL OF SKIN TAGS, EACH ADD'L 10 TAGS, >15                                    \n",
       "42687 REMOVAL OF SUTURES                                                               \n",
       "42688 REMOVE EAR CANAL LESION(S)                                                       \n",
       "42689 REMOVE IMPACTED EAR WAX UNI                                                      \n",
       "42690 REPAIR COMPLEX WOUND FHD/CHN/MTH/NCK/GEN/HND/FT, 1.1-2.5 CM                      \n",
       "42691 REPAIR EYELID DEFECT                                                             \n",
       "42692 REPAIR MODIFICATION OF A HEARING AID                                             \n",
       "42693 REPAIR SUPERFICIAL WOUND(S) SCLP/NCK/GEN/TRNK/EXT., 2.6-7.5 CM                   \n",
       "42694 Right IJ HD catheter - US guidance                                               \n",
       "42695 RMV WOUND TISS;NON-SELEC DEBRID W/O ANES/SESSION                                 \n",
       "42696 SEMEN ANALYSIS SPERM PRESENCE&/MOTILITY SPR                                      \n",
       "42697 SHAVE SKIN LESION FCE/EAR/EYELID/NSE/LIP/MM,0.5 CM OR LESS                       \n",
       "42698 SHAVE SKIN LESION TRUNK/ARMS/LEGS, 1.1-2.0 CM                                    \n",
       "42699 SHC TXP EXTERNAL BLOOD GASES (MANUAL ENTRY)                                      \n",
       "42700 SKIN SUBSTITUTE GRAFIX CORE 5X5 PER 1 SQ CM WASTE                                \n",
       "42701 SKIN SUBSTITUTE, DERMAGRAFTR, PER 1 SQ CM                                        \n",
       "42702 SKIN TISSUE REARRANGE ADD-ON                                                     \n",
       "42703 SKYLA IUD                                                                        \n",
       "42704 SLCTV CATH PLMT VEN SYS 1ST ORDER BRANCH                                         \n",
       "42705 SMOKING AND TOBACCO USE CESSATION COUNSELING VISIT; INTS                         \n",
       "42706 SMR PRIM SRC WET MOUNT NFCT AGT                                                  \n",
       "42707 SNIP INC LACRIMAL PUNCTUM                                                        \n",
       "42708 SPEC STAINS HISTOCHEM STAINING FROZEN SCTJ                                       \n",
       "42709 SPECIAL REPORTS                                                                  \n",
       "42710 SPEECH/HEARING EVALUATION                                                        \n",
       "42711 SPIRACUR SNAP DEVICE                                                             \n",
       "42712 SPLINT                                                                           \n",
       "42713 STAPLE/SUTURE REMOVAL                                                            \n",
       "42714 STSG, TRUNK/ARMS/LEGS, 1ST 100 CM SQ                                             \n",
       "42715 SUPRAPUBIC BLADDER ASPIRATION                                                    \n",
       "42716 SURGICAL SUPPLIES, MISC                                                          \n",
       "42717 SURGICAL TRAY                                                                    \n",
       "42718 Suture Placement                                                                 \n",
       "42719 TAP BLOCK UNIL BY INJECTION                                                      \n",
       "42720 TARSORRPHAPHY W/TRANS TARSAL PLATE                                               \n",
       "42721 THERAPEUTIC TRANSCRANIAL REPETETIVE MAGNETIC STIM TX PLANNING                    \n",
       "42722 Thoracentesis - R                                                                \n",
       "42723 Thoracentesis - Right                                                            \n",
       "42724 Thoracentesis -right                                                             \n",
       "42725 Thoracentesis left                                                               \n",
       "42726 Thoracentesis right                                                              \n",
       "42727 Thoracentesis uncer US guidance                                                  \n",
       "42728 THORACOTOMY                                                                      \n",
       "42729 TOBACCO USE CESSATION INTERVENTION, COUNSELING                                   \n",
       "42730 TRACHEOTOMY TUBE CHANGE PRIOR TO ESTABLISHMENT OF FISTULA TRACT                  \n",
       "42731 TRANSCATH OCCLU OR EMBOLIZ, PERCUTANEOUS, ANY METHOD, NON-CENTRAL NERVOUS  SYSTEM\n",
       "42732 Transvenous pacing                                                               \n",
       "42733 TREATMENT OF CORNEAL LESION                                                      \n",
       "42734 TREATMENT OF MISCARRIAGE 1ST TRIMESTER                                           \n",
       "42735 Trialysis                                                                        \n",
       "42736 TRIAMCINOLONE ACETONIDE (TRIESCENCE) 2MG/0.05ML                                  \n",
       "42737 TRICHIASIS ONCE PER DAY WHEN CRYOSURGERY OR ELECTROSURGERY IS PERFORMED.         \n",
       "42738 TX 360 BLOCK                                                                     \n",
       "42739 TX SPEECH/LANG/VOICE &/OR AUDITORY PROCESS                                       \n",
       "42740 UHA DEBRIDEMENT OF NAIL(S) BY ANY METHOD(S) 6/>                                  \n",
       "42741 UNLIS PX NVRS SYS                                                                \n",
       "42742 UNLISTED ALLERGY/CLINICAL IMMUNOLOGIC SERVCE                                     \n",
       "42743 UPPR GI SCOPE W SUBMUC INJ                                                       \n",
       "42744 USE PANEL ORDER                                                                  \n",
       "42745 VERTEPORFIN INJECTION 0.1 MG                                                     \n",
       "42746 WAVEFRONT-GUIDED LIFT SAME FLAP LASER                                            \n",
       "42747 WOUND VAC                                                                        \n",
       "42748 XIAFLEX 0.1MG                                                                    \n",
       "42749 XIAFLEX 0.9MG                                                                    \n",
       "42750 Pulse_10                                                                         \n",
       "42751 SBP_10                                                                           \n",
       "42752 SBP_10                                                                           \n",
       "      n    \n",
       "1     41366\n",
       "2     41366\n",
       "3     41366\n",
       "4     41366\n",
       "5     41366\n",
       "6     41366\n",
       "7     41366\n",
       "8     41366\n",
       "9     41366\n",
       "10    41366\n",
       "11    41366\n",
       "12    41366\n",
       "13    41366\n",
       "14    41366\n",
       "15    41366\n",
       "16    41366\n",
       "17    41366\n",
       "18    40120\n",
       "19    39102\n",
       "20    31433\n",
       "21    31433\n",
       "22    27924\n",
       "23    27170\n",
       "24    24995\n",
       "25    24995\n",
       "26    24817\n",
       "27    23259\n",
       "28    22633\n",
       "29    21638\n",
       "30    21435\n",
       "31    20435\n",
       "32    20330\n",
       "33    19611\n",
       "34    19563\n",
       "35    18804\n",
       "36    18585\n",
       "37    17628\n",
       "38    17538\n",
       "39    17538\n",
       "40    16977\n",
       "41    16366\n",
       "42    16350\n",
       "43    16235\n",
       "44    15244\n",
       "45    15244\n",
       "46    15135\n",
       "47    14507\n",
       "48    14429\n",
       "49    14299\n",
       "50    14136\n",
       "51    14052\n",
       "52    14012\n",
       "53    13980\n",
       "54    13570\n",
       "55    13551\n",
       "56    13517\n",
       "57    13234\n",
       "58    13227\n",
       "59    13139\n",
       "60    12808\n",
       "61    12766\n",
       "62    12688\n",
       "63    12666\n",
       "64    12657\n",
       "65    12605\n",
       "66    12590\n",
       "67    12583\n",
       "68    12550\n",
       "69    12544\n",
       "70    12521\n",
       "71    12508\n",
       "72    12457\n",
       "73    12426\n",
       "74    12390\n",
       "75    12346\n",
       "76    12346\n",
       "77    12256\n",
       "78    12156\n",
       "79    12123\n",
       "80    11885\n",
       "81    11873\n",
       "82    11819\n",
       "83    11815\n",
       "84    11809\n",
       "85    11749\n",
       "86    11749\n",
       "87    11658\n",
       "88    11646\n",
       "89    11641\n",
       "90    11641\n",
       "91    11634\n",
       "92    11634\n",
       "93    11579\n",
       "94    11526\n",
       "95    11428\n",
       "96    11428\n",
       "97    11401\n",
       "98    11365\n",
       "99    11365\n",
       "100   11264\n",
       "⋮     ⋮    \n",
       "42653 1    \n",
       "42654 1    \n",
       "42655 1    \n",
       "42656 1    \n",
       "42657 1    \n",
       "42658 1    \n",
       "42659 1    \n",
       "42660 1    \n",
       "42661 1    \n",
       "42662 1    \n",
       "42663 1    \n",
       "42664 1    \n",
       "42665 1    \n",
       "42666 1    \n",
       "42667 1    \n",
       "42668 1    \n",
       "42669 1    \n",
       "42670 1    \n",
       "42671 1    \n",
       "42672 1    \n",
       "42673 1    \n",
       "42674 1    \n",
       "42675 1    \n",
       "42676 1    \n",
       "42677 1    \n",
       "42678 1    \n",
       "42679 1    \n",
       "42680 1    \n",
       "42681 1    \n",
       "42682 1    \n",
       "42683 1    \n",
       "42684 1    \n",
       "42685 1    \n",
       "42686 1    \n",
       "42687 1    \n",
       "42688 1    \n",
       "42689 1    \n",
       "42690 1    \n",
       "42691 1    \n",
       "42692 1    \n",
       "42693 1    \n",
       "42694 1    \n",
       "42695 1    \n",
       "42696 1    \n",
       "42697 1    \n",
       "42698 1    \n",
       "42699 1    \n",
       "42700 1    \n",
       "42701 1    \n",
       "42702 1    \n",
       "42703 1    \n",
       "42704 1    \n",
       "42705 1    \n",
       "42706 1    \n",
       "42707 1    \n",
       "42708 1    \n",
       "42709 1    \n",
       "42710 1    \n",
       "42711 1    \n",
       "42712 1    \n",
       "42713 1    \n",
       "42714 1    \n",
       "42715 1    \n",
       "42716 1    \n",
       "42717 1    \n",
       "42718 1    \n",
       "42719 1    \n",
       "42720 1    \n",
       "42721 1    \n",
       "42722 1    \n",
       "42723 1    \n",
       "42724 1    \n",
       "42725 1    \n",
       "42726 1    \n",
       "42727 1    \n",
       "42728 1    \n",
       "42729 1    \n",
       "42730 1    \n",
       "42731 1    \n",
       "42732 1    \n",
       "42733 1    \n",
       "42734 1    \n",
       "42735 1    \n",
       "42736 1    \n",
       "42737 1    \n",
       "42738 1    \n",
       "42739 1    \n",
       "42740 1    \n",
       "42741 1    \n",
       "42742 1    \n",
       "42743 1    \n",
       "42744 1    \n",
       "42745 1    \n",
       "42746 1    \n",
       "42747 1    \n",
       "42748 1    \n",
       "42749 1    \n",
       "42750 1    \n",
       "42751 1    \n",
       "42752 1    "
      ]
     },
     "metadata": {},
     "output_type": "display_data"
    }
   ],
   "source": [
    "features_all %>% group_by(feature_type, features) %>% count(sort=TRUE) # 43356 vs 42752 "
   ]
  },
  {
   "cell_type": "code",
   "execution_count": 140,
   "id": "57614794",
   "metadata": {},
   "outputs": [
    {
     "data": {
      "text/html": [
       "<table class=\"dataframe\">\n",
       "<caption>A data.frame: 6 × 6</caption>\n",
       "<thead>\n",
       "\t<tr><th></th><th scope=col>anon_id</th><th scope=col>pat_enc_csn_id_coded</th><th scope=col>admit_time</th><th scope=col>feature_type</th><th scope=col>features</th><th scope=col>values</th></tr>\n",
       "\t<tr><th></th><th scope=col>&lt;chr&gt;</th><th scope=col>&lt;dbl&gt;</th><th scope=col>&lt;chr&gt;</th><th scope=col>&lt;chr&gt;</th><th scope=col>&lt;chr&gt;</th><th scope=col>&lt;dbl&gt;</th></tr>\n",
       "</thead>\n",
       "<tbody>\n",
       "\t<tr><th scope=row>1</th><td>JC29f8ad2</td><td>131274729058</td><td>2019-08-31 12:52:00+00:00</td><td>demo</td><td>ESI_i</td><td>3</td></tr>\n",
       "\t<tr><th scope=row>2</th><td>JC29f8ad3</td><td>131278291027</td><td>2019-10-05 23:48:00+00:00</td><td>demo</td><td>ESI_i</td><td>3</td></tr>\n",
       "\t<tr><th scope=row>3</th><td>JC29f8b9c</td><td>131266787806</td><td>2019-05-05 01:07:00+00:00</td><td>demo</td><td>ESI_i</td><td>2</td></tr>\n",
       "\t<tr><th scope=row>4</th><td>JC29f8beb</td><td>131264387263</td><td>2019-03-15 03:35:00+00:00</td><td>demo</td><td>ESI_i</td><td>3</td></tr>\n",
       "\t<tr><th scope=row>5</th><td>JC29f8beb</td><td>131279241689</td><td>2019-11-27 15:29:00+00:00</td><td>demo</td><td>ESI_i</td><td>3</td></tr>\n",
       "\t<tr><th scope=row>6</th><td>JC29f8bef</td><td>131280937356</td><td>2019-11-30 10:35:00+00:00</td><td>demo</td><td>ESI_i</td><td>3</td></tr>\n",
       "</tbody>\n",
       "</table>\n"
      ],
      "text/latex": [
       "A data.frame: 6 × 6\n",
       "\\begin{tabular}{r|llllll}\n",
       "  & anon\\_id & pat\\_enc\\_csn\\_id\\_coded & admit\\_time & feature\\_type & features & values\\\\\n",
       "  & <chr> & <dbl> & <chr> & <chr> & <chr> & <dbl>\\\\\n",
       "\\hline\n",
       "\t1 & JC29f8ad2 & 131274729058 & 2019-08-31 12:52:00+00:00 & demo & ESI\\_i & 3\\\\\n",
       "\t2 & JC29f8ad3 & 131278291027 & 2019-10-05 23:48:00+00:00 & demo & ESI\\_i & 3\\\\\n",
       "\t3 & JC29f8b9c & 131266787806 & 2019-05-05 01:07:00+00:00 & demo & ESI\\_i & 2\\\\\n",
       "\t4 & JC29f8beb & 131264387263 & 2019-03-15 03:35:00+00:00 & demo & ESI\\_i & 3\\\\\n",
       "\t5 & JC29f8beb & 131279241689 & 2019-11-27 15:29:00+00:00 & demo & ESI\\_i & 3\\\\\n",
       "\t6 & JC29f8bef & 131280937356 & 2019-11-30 10:35:00+00:00 & demo & ESI\\_i & 3\\\\\n",
       "\\end{tabular}\n"
      ],
      "text/markdown": [
       "\n",
       "A data.frame: 6 × 6\n",
       "\n",
       "| <!--/--> | anon_id &lt;chr&gt; | pat_enc_csn_id_coded &lt;dbl&gt; | admit_time &lt;chr&gt; | feature_type &lt;chr&gt; | features &lt;chr&gt; | values &lt;dbl&gt; |\n",
       "|---|---|---|---|---|---|---|\n",
       "| 1 | JC29f8ad2 | 131274729058 | 2019-08-31 12:52:00+00:00 | demo | ESI_i | 3 |\n",
       "| 2 | JC29f8ad3 | 131278291027 | 2019-10-05 23:48:00+00:00 | demo | ESI_i | 3 |\n",
       "| 3 | JC29f8b9c | 131266787806 | 2019-05-05 01:07:00+00:00 | demo | ESI_i | 2 |\n",
       "| 4 | JC29f8beb | 131264387263 | 2019-03-15 03:35:00+00:00 | demo | ESI_i | 3 |\n",
       "| 5 | JC29f8beb | 131279241689 | 2019-11-27 15:29:00+00:00 | demo | ESI_i | 3 |\n",
       "| 6 | JC29f8bef | 131280937356 | 2019-11-30 10:35:00+00:00 | demo | ESI_i | 3 |\n",
       "\n"
      ],
      "text/plain": [
       "  anon_id   pat_enc_csn_id_coded admit_time                feature_type\n",
       "1 JC29f8ad2 131274729058         2019-08-31 12:52:00+00:00 demo        \n",
       "2 JC29f8ad3 131278291027         2019-10-05 23:48:00+00:00 demo        \n",
       "3 JC29f8b9c 131266787806         2019-05-05 01:07:00+00:00 demo        \n",
       "4 JC29f8beb 131264387263         2019-03-15 03:35:00+00:00 demo        \n",
       "5 JC29f8beb 131279241689         2019-11-27 15:29:00+00:00 demo        \n",
       "6 JC29f8bef 131280937356         2019-11-30 10:35:00+00:00 demo        \n",
       "  features values\n",
       "1 ESI_i    3     \n",
       "2 ESI_i    3     \n",
       "3 ESI_i    2     \n",
       "4 ESI_i    3     \n",
       "5 ESI_i    3     \n",
       "6 ESI_i    3     "
      ]
     },
     "metadata": {},
     "output_type": "display_data"
    }
   ],
   "source": [
    "head(features_all)"
   ]
  },
  {
   "cell_type": "code",
   "execution_count": 171,
   "id": "efd47511",
   "metadata": {},
   "outputs": [
    {
     "data": {
      "text/html": [
       "10086505"
      ],
      "text/latex": [
       "10086505"
      ],
      "text/markdown": [
       "10086505"
      ],
      "text/plain": [
       "[1] 10086505"
      ]
     },
     "metadata": {},
     "output_type": "display_data"
    },
    {
     "data": {
      "text/plain": [
       "    Min.  1st Qu.   Median     Mean  3rd Qu.     Max. \n",
       "   0.000    1.000    1.000    3.276    2.000 1078.000 "
      ]
     },
     "metadata": {},
     "output_type": "display_data"
    }
   ],
   "source": [
    "nrow(features_all) #10529994 vs 10086505\n",
    "summary(features_all$values)\n",
    "# sum(is.na(features_all$first_label))"
   ]
  },
  {
   "cell_type": "code",
   "execution_count": 172,
   "id": "aaa41b7b",
   "metadata": {},
   "outputs": [],
   "source": [
    "features_all_year <- features_all %>% mutate(year = year(admit_time))"
   ]
  },
  {
   "cell_type": "code",
   "execution_count": 173,
   "id": "bf5280ed",
   "metadata": {},
   "outputs": [
    {
     "data": {
      "text/html": [
       "<table class=\"dataframe\">\n",
       "<caption>A grouped_df: 6 × 2</caption>\n",
       "<thead>\n",
       "\t<tr><th scope=col>year</th><th scope=col>n</th></tr>\n",
       "\t<tr><th scope=col>&lt;dbl&gt;</th><th scope=col>&lt;int&gt;</th></tr>\n",
       "</thead>\n",
       "<tbody>\n",
       "\t<tr><td>2015</td><td>1995746</td></tr>\n",
       "\t<tr><td>2016</td><td>1583617</td></tr>\n",
       "\t<tr><td>2017</td><td>1558080</td></tr>\n",
       "\t<tr><td>2018</td><td>2085851</td></tr>\n",
       "\t<tr><td>2019</td><td>2312418</td></tr>\n",
       "\t<tr><td>2020</td><td> 550793</td></tr>\n",
       "</tbody>\n",
       "</table>\n"
      ],
      "text/latex": [
       "A grouped\\_df: 6 × 2\n",
       "\\begin{tabular}{ll}\n",
       " year & n\\\\\n",
       " <dbl> & <int>\\\\\n",
       "\\hline\n",
       "\t 2015 & 1995746\\\\\n",
       "\t 2016 & 1583617\\\\\n",
       "\t 2017 & 1558080\\\\\n",
       "\t 2018 & 2085851\\\\\n",
       "\t 2019 & 2312418\\\\\n",
       "\t 2020 &  550793\\\\\n",
       "\\end{tabular}\n"
      ],
      "text/markdown": [
       "\n",
       "A grouped_df: 6 × 2\n",
       "\n",
       "| year &lt;dbl&gt; | n &lt;int&gt; |\n",
       "|---|---|\n",
       "| 2015 | 1995746 |\n",
       "| 2016 | 1583617 |\n",
       "| 2017 | 1558080 |\n",
       "| 2018 | 2085851 |\n",
       "| 2019 | 2312418 |\n",
       "| 2020 |  550793 |\n",
       "\n"
      ],
      "text/plain": [
       "  year n      \n",
       "1 2015 1995746\n",
       "2 2016 1583617\n",
       "3 2017 1558080\n",
       "4 2018 2085851\n",
       "5 2019 2312418\n",
       "6 2020  550793"
      ]
     },
     "metadata": {},
     "output_type": "display_data"
    }
   ],
   "source": [
    "# coh5\n",
    "features_all_year %>% group_by(year) %>% count()"
   ]
  },
  {
   "cell_type": "code",
   "execution_count": 143,
   "id": "bb213d03",
   "metadata": {},
   "outputs": [
    {
     "data": {
      "text/html": [
       "<table class=\"dataframe\">\n",
       "<caption>A grouped_df: 6 × 2</caption>\n",
       "<thead>\n",
       "\t<tr><th scope=col>year</th><th scope=col>n</th></tr>\n",
       "\t<tr><th scope=col>&lt;dbl&gt;</th><th scope=col>&lt;int&gt;</th></tr>\n",
       "</thead>\n",
       "<tbody>\n",
       "\t<tr><td>2015</td><td>2037462</td></tr>\n",
       "\t<tr><td>2016</td><td>1669123</td></tr>\n",
       "\t<tr><td>2017</td><td>1638834</td></tr>\n",
       "\t<tr><td>2018</td><td>2185662</td></tr>\n",
       "\t<tr><td>2019</td><td>2421534</td></tr>\n",
       "\t<tr><td>2020</td><td> 577379</td></tr>\n",
       "</tbody>\n",
       "</table>\n"
      ],
      "text/latex": [
       "A grouped\\_df: 6 × 2\n",
       "\\begin{tabular}{ll}\n",
       " year & n\\\\\n",
       " <dbl> & <int>\\\\\n",
       "\\hline\n",
       "\t 2015 & 2037462\\\\\n",
       "\t 2016 & 1669123\\\\\n",
       "\t 2017 & 1638834\\\\\n",
       "\t 2018 & 2185662\\\\\n",
       "\t 2019 & 2421534\\\\\n",
       "\t 2020 &  577379\\\\\n",
       "\\end{tabular}\n"
      ],
      "text/markdown": [
       "\n",
       "A grouped_df: 6 × 2\n",
       "\n",
       "| year &lt;dbl&gt; | n &lt;int&gt; |\n",
       "|---|---|\n",
       "| 2015 | 2037462 |\n",
       "| 2016 | 1669123 |\n",
       "| 2017 | 1638834 |\n",
       "| 2018 | 2185662 |\n",
       "| 2019 | 2421534 |\n",
       "| 2020 |  577379 |\n",
       "\n"
      ],
      "text/plain": [
       "  year n      \n",
       "1 2015 2037462\n",
       "2 2016 1669123\n",
       "3 2017 1638834\n",
       "4 2018 2185662\n",
       "5 2019 2421534\n",
       "6 2020  577379"
      ]
     },
     "metadata": {},
     "output_type": "display_data"
    }
   ],
   "source": [
    "#coh4\n",
    "features_all_year %>% group_by(year) %>% count()"
   ]
  },
  {
   "cell_type": "code",
   "execution_count": 45,
   "id": "42e7eaa6",
   "metadata": {},
   "outputs": [],
   "source": [
    "write.csv(features_all_year, file = file.path(featuredir, \"2_9_coh4_features_all_long_year.csv\"), row.names=FALSE) "
   ]
  },
  {
   "cell_type": "raw",
   "id": "6d2e3e3c",
   "metadata": {},
   "source": [
    "# this is not correct\n",
    "features5 <- features_all_year %>% filter(pat_enc_csn_id_coded %in% cohort5$pat_enc_csn_id_coded)\n",
    "nrow(features5) #10087257"
   ]
  },
  {
   "cell_type": "code",
   "execution_count": 174,
   "id": "062bfa29",
   "metadata": {},
   "outputs": [],
   "source": [
    "write.csv(features_all_year, file = file.path(featuredir, \"2_9_coh5_features_all_long_year.csv\"), row.names=FALSE) "
   ]
  },
  {
   "cell_type": "markdown",
   "id": "84ffd5d6",
   "metadata": {},
   "source": [
    "### TEST - OLD \n",
    "with 2_9_features_all_long.csv did not contain testbins with Conor's code, in SQL"
   ]
  },
  {
   "cell_type": "code",
   "execution_count": 106,
   "id": "2b05aacd",
   "metadata": {},
   "outputs": [
    {
     "data": {
      "text/html": [
       "8258975"
      ],
      "text/latex": [
       "8258975"
      ],
      "text/markdown": [
       "8258975"
      ],
      "text/plain": [
       "[1] 8258975"
      ]
     },
     "metadata": {},
     "output_type": "display_data"
    },
    {
     "data": {
      "text/html": [
       "8258975"
      ],
      "text/latex": [
       "8258975"
      ],
      "text/markdown": [
       "8258975"
      ],
      "text/plain": [
       "[1] 8258975"
      ]
     },
     "metadata": {},
     "output_type": "display_data"
    },
    {
     "data": {
      "text/html": [
       "FALSE"
      ],
      "text/latex": [
       "FALSE"
      ],
      "text/markdown": [
       "FALSE"
      ],
      "text/plain": [
       "[1] FALSE"
      ]
     },
     "metadata": {},
     "output_type": "display_data"
    },
    {
     "data": {
      "text/html": [
       "<style>\n",
       ".list-inline {list-style: none; margin:0; padding: 0}\n",
       ".list-inline>li {display: inline-block}\n",
       ".list-inline>li:not(:last-child)::after {content: \"\\00b7\"; padding: 0 .5ex}\n",
       "</style>\n",
       "<ol class=list-inline><li>'Component “anon_id”: 8257416 string mismatches'</li><li>'Component “pat_enc_csn_id_coded”: Mean relative difference: 0.0005188065'</li><li>'Component “admit_time”: 8258716 string mismatches'</li><li>'Component “feature_type”: 6592107 string mismatches'</li><li>'Component “features”: 8250486 string mismatches'</li><li>'Component “values”: Mean relative difference: 1.638'</li></ol>\n"
      ],
      "text/latex": [
       "\\begin{enumerate*}\n",
       "\\item 'Component “anon\\_id”: 8257416 string mismatches'\n",
       "\\item 'Component “pat\\_enc\\_csn\\_id\\_coded”: Mean relative difference: 0.0005188065'\n",
       "\\item 'Component “admit\\_time”: 8258716 string mismatches'\n",
       "\\item 'Component “feature\\_type”: 6592107 string mismatches'\n",
       "\\item 'Component “features”: 8250486 string mismatches'\n",
       "\\item 'Component “values”: Mean relative difference: 1.638'\n",
       "\\end{enumerate*}\n"
      ],
      "text/markdown": [
       "1. 'Component “anon_id”: 8257416 string mismatches'\n",
       "2. 'Component “pat_enc_csn_id_coded”: Mean relative difference: 0.0005188065'\n",
       "3. 'Component “admit_time”: 8258716 string mismatches'\n",
       "4. 'Component “feature_type”: 6592107 string mismatches'\n",
       "5. 'Component “features”: 8250486 string mismatches'\n",
       "6. 'Component “values”: Mean relative difference: 1.638'\n",
       "\n",
       "\n"
      ],
      "text/plain": [
       "[1] \"Component “anon_id”: 8257416 string mismatches\"                          \n",
       "[2] \"Component “pat_enc_csn_id_coded”: Mean relative difference: 0.0005188065\"\n",
       "[3] \"Component “admit_time”: 8258716 string mismatches\"                       \n",
       "[4] \"Component “feature_type”: 6592107 string mismatches\"                     \n",
       "[5] \"Component “features”: 8250486 string mismatches\"                         \n",
       "[6] \"Component “values”: Mean relative difference: 1.638\"                     "
      ]
     },
     "metadata": {},
     "output_type": "display_data"
    }
   ],
   "source": [
    "yr <- read.csv(file.path(featuredir, '2_9_features_all_long_year.csv'))\n",
    "yr0 <- yr %>% select(-year)\n",
    "nrow(yr0)\n",
    "nrow(features_all)\n",
    "identical(yr0, features_all)\n",
    "all.equal(yr0,features_all)"
   ]
  },
  {
   "cell_type": "code",
   "execution_count": 108,
   "id": "931c9f87",
   "metadata": {},
   "outputs": [],
   "source": [
    "yr0 <- yr0 %>% arrange(anon_id, pat_enc_csn_id_coded, admit_time, feature_type, features, values)\n",
    "ft <- features_all %>% arrange(anon_id, pat_enc_csn_id_coded, admit_time, feature_type, features, values)"
   ]
  },
  {
   "cell_type": "code",
   "execution_count": 109,
   "id": "6441e3a8",
   "metadata": {},
   "outputs": [
    {
     "data": {
      "text/html": [
       "TRUE"
      ],
      "text/latex": [
       "TRUE"
      ],
      "text/markdown": [
       "TRUE"
      ],
      "text/plain": [
       "[1] TRUE"
      ]
     },
     "metadata": {},
     "output_type": "display_data"
    },
    {
     "data": {
      "text/html": [
       "TRUE"
      ],
      "text/latex": [
       "TRUE"
      ],
      "text/markdown": [
       "TRUE"
      ],
      "text/plain": [
       "[1] TRUE"
      ]
     },
     "metadata": {},
     "output_type": "display_data"
    }
   ],
   "source": [
    "identical(yr0, ft)\n",
    "all.equal(yr0, ft)"
   ]
  },
  {
   "cell_type": "code",
   "execution_count": 100,
   "id": "a6d10809",
   "metadata": {},
   "outputs": [
    {
     "name": "stderr",
     "output_type": "stream",
     "text": [
      "Joining, by = c(\"anon_id\", \"pat_enc_csn_id_coded\", \"admit_time\", \"feature_type\", \"features\", \"values\")\n",
      "\n"
     ]
    }
   ],
   "source": [
    "joined <- inner_join(yr, features_all)"
   ]
  },
  {
   "cell_type": "code",
   "execution_count": 101,
   "id": "64a8427d",
   "metadata": {},
   "outputs": [
    {
     "data": {
      "text/plain": [
       "   anon_id          pat_enc_csn_id_coded  admit_time        feature_type      \n",
       " Length:8258975     Min.   :1.311e+11    Length:8258975     Length:8258975    \n",
       " Class :character   1st Qu.:1.312e+11    Class :character   Class :character  \n",
       " Mode  :character   Median :1.312e+11    Mode  :character   Mode  :character  \n",
       "                    Mean   :1.312e+11                                         \n",
       "                    3rd Qu.:1.313e+11                                         \n",
       "                    Max.   :1.313e+11                                         \n",
       "   features             values              year     \n",
       " Length:8258975     Min.   :   0.000   Min.   :2015  \n",
       " Class :character   1st Qu.:   1.000   1st Qu.:2016  \n",
       " Mode  :character   Median :   1.000   Median :2017  \n",
       "                    Mean   :   3.721   Mean   :2017  \n",
       "                    3rd Qu.:   2.000   3rd Qu.:2019  \n",
       "                    Max.   :1078.000   Max.   :2020  "
      ]
     },
     "metadata": {},
     "output_type": "display_data"
    }
   ],
   "source": [
    "summary(joined)"
   ]
  },
  {
   "cell_type": "code",
   "execution_count": 104,
   "id": "f2d529a3",
   "metadata": {},
   "outputs": [
    {
     "data": {
      "text/plain": [
       "   anon_id          pat_enc_csn_id_coded  admit_time        feature_type      \n",
       " Length:8258975     Min.   :1.311e+11    Length:8258975     Length:8258975    \n",
       " Class :character   1st Qu.:1.312e+11    Class :character   Class :character  \n",
       " Mode  :character   Median :1.312e+11    Mode  :character   Mode  :character  \n",
       "                    Mean   :1.312e+11                                         \n",
       "                    3rd Qu.:1.313e+11                                         \n",
       "                    Max.   :1.313e+11                                         \n",
       "   features             values              year     \n",
       " Length:8258975     Min.   :   0.000   Min.   :2015  \n",
       " Class :character   1st Qu.:   1.000   1st Qu.:2016  \n",
       " Mode  :character   Median :   1.000   Median :2017  \n",
       "                    Mean   :   3.721   Mean   :2017  \n",
       "                    3rd Qu.:   2.000   3rd Qu.:2019  \n",
       "                    Max.   :1078.000   Max.   :2020  "
      ]
     },
     "metadata": {},
     "output_type": "display_data"
    }
   ],
   "source": [
    "summary(yr)"
   ]
  },
  {
   "cell_type": "code",
   "execution_count": 105,
   "id": "682922c4",
   "metadata": {},
   "outputs": [
    {
     "data": {
      "text/plain": [
       "   anon_id          pat_enc_csn_id_coded  admit_time        feature_type      \n",
       " Length:8258975     Min.   :1.311e+11    Length:8258975     Length:8258975    \n",
       " Class :character   1st Qu.:1.312e+11    Class :character   Class :character  \n",
       " Mode  :character   Median :1.312e+11    Mode  :character   Mode  :character  \n",
       "                    Mean   :1.312e+11                                         \n",
       "                    3rd Qu.:1.313e+11                                         \n",
       "                    Max.   :1.313e+11                                         \n",
       "   features             values        \n",
       " Length:8258975     Min.   :   0.000  \n",
       " Class :character   1st Qu.:   1.000  \n",
       " Mode  :character   Median :   1.000  \n",
       "                    Mean   :   3.721  \n",
       "                    3rd Qu.:   2.000  \n",
       "                    Max.   :1078.000  "
      ]
     },
     "metadata": {},
     "output_type": "display_data"
    }
   ],
   "source": [
    "summary(features_all)"
   ]
  }
 ],
 "metadata": {
  "environment": {
   "name": "r-cpu.4-0.m71",
   "type": "gcloud",
   "uri": "gcr.io/deeplearning-platform-release/r-cpu.4-0:m71"
  },
  "kernelspec": {
   "display_name": "R",
   "language": "R",
   "name": "ir"
  },
  "language_info": {
   "codemirror_mode": "r",
   "file_extension": ".r",
   "mimetype": "text/x-r-source",
   "name": "R",
   "pygments_lexer": "r",
   "version": "4.1.0"
  }
 },
 "nbformat": 4,
 "nbformat_minor": 5
}
