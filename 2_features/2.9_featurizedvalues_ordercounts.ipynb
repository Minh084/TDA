{
 "cells": [
  {
   "cell_type": "markdown",
   "id": "660a5cca",
   "metadata": {},
   "source": [
    "### Description:\n",
    "- Read in the decile-binned values of labs and vitals `2_8_binned_labs_vitals`\n",
    "- Read in the data `order_code_counts` from sql order counts, combine Microbiology Culture with Microbiology \n",
    "- Combine this featurized data for full complex data modeling\n",
    "- Create a smaller random sample for testing \n",
    "\n",
    "**Notations**:\n",
    "- train vs val OR train_val vs test:\n",
    "    - `..._train`: used the training set (2015 - 2017) for value distributions\n",
    "    - `..._test`: used the training and validation set (2015 - 2018) for value distributions   \n",
    "- cohorts: \n",
    "    - `...coh4...` used 1_4_cohort\n",
    "    - `...coh5...` used 1_5_cohort_final\n",
    "    \n",
    "**Inputs**: \n",
    "- `2_8_binned_labs_vitals`: from feature_values, binned into deciles\n",
    "- `order_code_counts`: from SQL querried counts for different orders\n",
    "    \n",
    "**Outputs**: \n",
    "- have demo, vitals and labs in binned counts, order counts: long format, with year extracted\n",
    "- `2_9_cohX_features_all_long_year`: will be input to 3_models, sparse_matrix.py\n",
    "    - 2015 - 2017 as trained data for value distributions to bin validation data of 2018\n",
    "        - used for training and select model hyperparameters based on validation data\n",
    "    - test data > 2018 (2019 and some 2020) left unused\n",
    "    - after training and selecting hyperparameters, re-do value distributions on 2015 - 2018 (train + val) data\n",
    "    - test data > 2018 (2019 and some 2020) are now binned on based on these distributions\n",
    "    - binned test data is used for the final prediction and evaluation of model performance\n",
    "- `2_9_coh4_24hrpreadmit_features_all_long_year`: updated with labs and vitals only within 24hrs prior to admit_time\n",
    "    \n",
    "**Notes**:\n",
    "- `coh4_order_code_counts` is a superset of `coh5_order_code_counts` including all 1_4_cohort\n",
    "- but `2_9_coh4_features_all_long_year` is NOT a superset of `2_9_coh5_features_all_long_year` --> run them separately"
   ]
  },
  {
   "cell_type": "code",
   "execution_count": 1,
   "id": "f3ae1061",
   "metadata": {},
   "outputs": [
    {
     "name": "stderr",
     "output_type": "stream",
     "text": [
      "── \u001b[1mAttaching packages\u001b[22m ─────────────────────────────────────── tidyverse 1.3.1 ──\n",
      "\n",
      "\u001b[32m✔\u001b[39m \u001b[34mggplot2\u001b[39m 3.3.3     \u001b[32m✔\u001b[39m \u001b[34mpurrr  \u001b[39m 0.3.4\n",
      "\u001b[32m✔\u001b[39m \u001b[34mtibble \u001b[39m 3.1.2     \u001b[32m✔\u001b[39m \u001b[34mdplyr  \u001b[39m 1.0.6\n",
      "\u001b[32m✔\u001b[39m \u001b[34mtidyr  \u001b[39m 1.1.3     \u001b[32m✔\u001b[39m \u001b[34mstringr\u001b[39m 1.4.0\n",
      "\u001b[32m✔\u001b[39m \u001b[34mreadr  \u001b[39m 1.4.0     \u001b[32m✔\u001b[39m \u001b[34mforcats\u001b[39m 0.5.1\n",
      "\n",
      "── \u001b[1mConflicts\u001b[22m ────────────────────────────────────────── tidyverse_conflicts() ──\n",
      "\u001b[31m✖\u001b[39m \u001b[34mdplyr\u001b[39m::\u001b[32mbetween()\u001b[39m   masks \u001b[34mdata.table\u001b[39m::between()\n",
      "\u001b[31m✖\u001b[39m \u001b[34mdplyr\u001b[39m::\u001b[32mfilter()\u001b[39m    masks \u001b[34mstats\u001b[39m::filter()\n",
      "\u001b[31m✖\u001b[39m \u001b[34mdplyr\u001b[39m::\u001b[32mfirst()\u001b[39m     masks \u001b[34mdata.table\u001b[39m::first()\n",
      "\u001b[31m✖\u001b[39m \u001b[34mdplyr\u001b[39m::\u001b[32mlag()\u001b[39m       masks \u001b[34mstats\u001b[39m::lag()\n",
      "\u001b[31m✖\u001b[39m \u001b[34mdplyr\u001b[39m::\u001b[32mlast()\u001b[39m      masks \u001b[34mdata.table\u001b[39m::last()\n",
      "\u001b[31m✖\u001b[39m \u001b[34mpurrr\u001b[39m::\u001b[32mtranspose()\u001b[39m masks \u001b[34mdata.table\u001b[39m::transpose()\n",
      "\n",
      "\n",
      "Attaching package: ‘lubridate’\n",
      "\n",
      "\n",
      "The following objects are masked from ‘package:data.table’:\n",
      "\n",
      "    hour, isoweek, mday, minute, month, quarter, second, wday, week,\n",
      "    yday, year\n",
      "\n",
      "\n",
      "The following objects are masked from ‘package:base’:\n",
      "\n",
      "    date, intersect, setdiff, union\n",
      "\n",
      "\n"
     ]
    }
   ],
   "source": [
    "library(data.table)\n",
    "library(tidyverse)\n",
    "library(lubridate)\n",
    "# library(Matrix)\n",
    "# library(slam)\n",
    "# library(bit64)\n",
    "# library(mtools) for one hot coder, not available on Nero or use caret or tidyr\n",
    "options(repr.matrix.max.rows=200, repr.matrix.max.cols=30)"
   ]
  },
  {
   "cell_type": "code",
   "execution_count": 1,
   "id": "2c59382c",
   "metadata": {},
   "outputs": [
    {
     "name": "stderr",
     "output_type": "stream",
     "text": [
      "Installing packages into ‘/home/jupyter/.R/library’\n",
      "(as ‘lib’ is unspecified)\n",
      "\n",
      "also installing the dependency ‘plogr’\n",
      "\n",
      "\n"
     ]
    }
   ],
   "source": [
    "# install.packages(c(\"dbplyr\", \"RSQLite\"))"
   ]
  },
  {
   "cell_type": "code",
   "execution_count": 2,
   "id": "60f07b9f",
   "metadata": {},
   "outputs": [],
   "source": [
    "datadir = \"../../DataTD\"\n",
    "cohortdir = \"../../OutputTD/1_cohort\"\n",
    "featuredir = \"../../OutputTD/2_features\""
   ]
  },
  {
   "cell_type": "code",
   "execution_count": 3,
   "id": "84dbecbf",
   "metadata": {},
   "outputs": [
    {
     "data": {
      "text/html": [
       "41366"
      ],
      "text/latex": [
       "41366"
      ],
      "text/markdown": [
       "41366"
      ],
      "text/plain": [
       "[1] 41366"
      ]
     },
     "metadata": {},
     "output_type": "display_data"
    },
    {
     "data": {
      "text/html": [
       "43980"
      ],
      "text/latex": [
       "43980"
      ],
      "text/markdown": [
       "43980"
      ],
      "text/plain": [
       "[1] 43980"
      ]
     },
     "metadata": {},
     "output_type": "display_data"
    },
    {
     "data": {
      "text/html": [
       "22030"
      ],
      "text/latex": [
       "22030"
      ],
      "text/markdown": [
       "22030"
      ],
      "text/plain": [
       "[1] 22030"
      ]
     },
     "metadata": {},
     "output_type": "display_data"
    },
    {
     "data": {
      "text/html": [
       "9532"
      ],
      "text/latex": [
       "9532"
      ],
      "text/markdown": [
       "9532"
      ],
      "text/plain": [
       "[1] 9532"
      ]
     },
     "metadata": {},
     "output_type": "display_data"
    },
    {
     "data": {
      "text/html": [
       "12418"
      ],
      "text/latex": [
       "12418"
      ],
      "text/markdown": [
       "12418"
      ],
      "text/plain": [
       "[1] 12418"
      ]
     },
     "metadata": {},
     "output_type": "display_data"
    },
    {
     "data": {
      "text/html": [
       "31562"
      ],
      "text/latex": [
       "31562"
      ],
      "text/markdown": [
       "31562"
      ],
      "text/plain": [
       "[1] 31562"
      ]
     },
     "metadata": {},
     "output_type": "display_data"
    }
   ],
   "source": [
    "cohort5 <- read.csv(file.path(cohortdir,  '1_5_cohort_final.csv'))\n",
    "nrow(cohort5) #41366\n",
    "cohort4 <- read.csv(file.path(cohortdir,  '1_4_cohort.csv'))\n",
    "nrow(cohort4) #43980\n",
    "\n",
    "nrow(cohort4 %>% filter(year(admit_time) < 2018)) # coh4 vs coh5 22030 vs 20762\n",
    "nrow(cohort4 %>% filter(year(admit_time) == 2018)) # coh4 vs coh5 9532 vs 8929\n",
    "nrow(cohort4 %>% filter(year(admit_time)> 2018)) # coh4 vs coh5 12418 vs 11675\n",
    "nrow(cohort4 %>% filter(year(admit_time) < 2019)) # coh4 vs coh5 31562 vs 29691"
   ]
  },
  {
   "cell_type": "raw",
   "id": "51d52bf4",
   "metadata": {},
   "source": [
    "# orders5 is only a subset of orders4 excluding obs without labs (1_5_cohort_final)\n",
    "orders5 <- read.csv(file.path(datadir, 'coh5_order_code_counts.csv'))\n",
    "nrow(orders5) #5730678"
   ]
  },
  {
   "cell_type": "code",
   "execution_count": 4,
   "id": "f737944d",
   "metadata": {},
   "outputs": [
    {
     "data": {
      "text/html": [
       "6086852"
      ],
      "text/latex": [
       "6086852"
      ],
      "text/markdown": [
       "6086852"
      ],
      "text/plain": [
       "[1] 6086852"
      ]
     },
     "metadata": {},
     "output_type": "display_data"
    }
   ],
   "source": [
    "# this one used 1_4_cohort to query orders\n",
    "orders4 <- read.csv(file.path(datadir, 'coh4_order_code_counts.csv'))\n",
    "nrow(orders4) #6086852"
   ]
  },
  {
   "cell_type": "code",
   "execution_count": 5,
   "id": "a3b3cbcb",
   "metadata": {},
   "outputs": [
    {
     "data": {
      "text/html": [
       "<table class=\"dataframe\">\n",
       "<caption>A data.frame: 6 × 6</caption>\n",
       "<thead>\n",
       "\t<tr><th></th><th scope=col>anon_id</th><th scope=col>pat_enc_csn_id_coded</th><th scope=col>admit_time</th><th scope=col>feature_type</th><th scope=col>features</th><th scope=col>values</th></tr>\n",
       "\t<tr><th></th><th scope=col>&lt;chr&gt;</th><th scope=col>&lt;dbl&gt;</th><th scope=col>&lt;chr&gt;</th><th scope=col>&lt;chr&gt;</th><th scope=col>&lt;chr&gt;</th><th scope=col>&lt;int&gt;</th></tr>\n",
       "</thead>\n",
       "<tbody>\n",
       "\t<tr><th scope=row>1</th><td>JCe78a06</td><td>131062667066</td><td>2015-01-02 01:01:00+00:00</td><td>Diagnosis</td><td>R19.7                                       </td><td>1</td></tr>\n",
       "\t<tr><th scope=row>2</th><td>JCe78a06</td><td>131062667066</td><td>2015-01-02 01:01:00+00:00</td><td>Diagnosis</td><td>R40.4                                       </td><td>1</td></tr>\n",
       "\t<tr><th scope=row>3</th><td>JCe78a06</td><td>131062667066</td><td>2015-01-02 01:01:00+00:00</td><td>Diagnosis</td><td>Z23                                         </td><td>1</td></tr>\n",
       "\t<tr><th scope=row>4</th><td>JCe78a06</td><td>131062667066</td><td>2015-01-02 01:01:00+00:00</td><td>Meds     </td><td>EPINEPHRINE 1 MG/ML (1:1,000) (1ML) INJ SOLN</td><td>1</td></tr>\n",
       "\t<tr><th scope=row>5</th><td>JCe78a06</td><td>131062667066</td><td>2015-01-02 01:01:00+00:00</td><td>Diagnosis</td><td>J81.0                                       </td><td>1</td></tr>\n",
       "\t<tr><th scope=row>6</th><td>JCe78a06</td><td>131062667066</td><td>2015-01-02 01:01:00+00:00</td><td>Meds     </td><td>CEFTRIAXONE 1 GRAM/50 ML MINI-BAG PLUS      </td><td>1</td></tr>\n",
       "</tbody>\n",
       "</table>\n"
      ],
      "text/latex": [
       "A data.frame: 6 × 6\n",
       "\\begin{tabular}{r|llllll}\n",
       "  & anon\\_id & pat\\_enc\\_csn\\_id\\_coded & admit\\_time & feature\\_type & features & values\\\\\n",
       "  & <chr> & <dbl> & <chr> & <chr> & <chr> & <int>\\\\\n",
       "\\hline\n",
       "\t1 & JCe78a06 & 131062667066 & 2015-01-02 01:01:00+00:00 & Diagnosis & R19.7                                        & 1\\\\\n",
       "\t2 & JCe78a06 & 131062667066 & 2015-01-02 01:01:00+00:00 & Diagnosis & R40.4                                        & 1\\\\\n",
       "\t3 & JCe78a06 & 131062667066 & 2015-01-02 01:01:00+00:00 & Diagnosis & Z23                                          & 1\\\\\n",
       "\t4 & JCe78a06 & 131062667066 & 2015-01-02 01:01:00+00:00 & Meds      & EPINEPHRINE 1 MG/ML (1:1,000) (1ML) INJ SOLN & 1\\\\\n",
       "\t5 & JCe78a06 & 131062667066 & 2015-01-02 01:01:00+00:00 & Diagnosis & J81.0                                        & 1\\\\\n",
       "\t6 & JCe78a06 & 131062667066 & 2015-01-02 01:01:00+00:00 & Meds      & CEFTRIAXONE 1 GRAM/50 ML MINI-BAG PLUS       & 1\\\\\n",
       "\\end{tabular}\n"
      ],
      "text/markdown": [
       "\n",
       "A data.frame: 6 × 6\n",
       "\n",
       "| <!--/--> | anon_id &lt;chr&gt; | pat_enc_csn_id_coded &lt;dbl&gt; | admit_time &lt;chr&gt; | feature_type &lt;chr&gt; | features &lt;chr&gt; | values &lt;int&gt; |\n",
       "|---|---|---|---|---|---|---|\n",
       "| 1 | JCe78a06 | 131062667066 | 2015-01-02 01:01:00+00:00 | Diagnosis | R19.7                                        | 1 |\n",
       "| 2 | JCe78a06 | 131062667066 | 2015-01-02 01:01:00+00:00 | Diagnosis | R40.4                                        | 1 |\n",
       "| 3 | JCe78a06 | 131062667066 | 2015-01-02 01:01:00+00:00 | Diagnosis | Z23                                          | 1 |\n",
       "| 4 | JCe78a06 | 131062667066 | 2015-01-02 01:01:00+00:00 | Meds      | EPINEPHRINE 1 MG/ML (1:1,000) (1ML) INJ SOLN | 1 |\n",
       "| 5 | JCe78a06 | 131062667066 | 2015-01-02 01:01:00+00:00 | Diagnosis | J81.0                                        | 1 |\n",
       "| 6 | JCe78a06 | 131062667066 | 2015-01-02 01:01:00+00:00 | Meds      | CEFTRIAXONE 1 GRAM/50 ML MINI-BAG PLUS       | 1 |\n",
       "\n"
      ],
      "text/plain": [
       "  anon_id  pat_enc_csn_id_coded admit_time                feature_type\n",
       "1 JCe78a06 131062667066         2015-01-02 01:01:00+00:00 Diagnosis   \n",
       "2 JCe78a06 131062667066         2015-01-02 01:01:00+00:00 Diagnosis   \n",
       "3 JCe78a06 131062667066         2015-01-02 01:01:00+00:00 Diagnosis   \n",
       "4 JCe78a06 131062667066         2015-01-02 01:01:00+00:00 Meds        \n",
       "5 JCe78a06 131062667066         2015-01-02 01:01:00+00:00 Diagnosis   \n",
       "6 JCe78a06 131062667066         2015-01-02 01:01:00+00:00 Meds        \n",
       "  features                                     values\n",
       "1 R19.7                                        1     \n",
       "2 R40.4                                        1     \n",
       "3 Z23                                          1     \n",
       "4 EPINEPHRINE 1 MG/ML (1:1,000) (1ML) INJ SOLN 1     \n",
       "5 J81.0                                        1     \n",
       "6 CEFTRIAXONE 1 GRAM/50 ML MINI-BAG PLUS       1     "
      ]
     },
     "metadata": {},
     "output_type": "display_data"
    }
   ],
   "source": [
    "head(orders4)"
   ]
  },
  {
   "cell_type": "code",
   "execution_count": 6,
   "id": "2a0d80d8",
   "metadata": {},
   "outputs": [
    {
     "data": {
      "text/html": [
       "<table class=\"dataframe\">\n",
       "<caption>A grouped_df: 7 × 2</caption>\n",
       "<thead>\n",
       "\t<tr><th scope=col>feature_type</th><th scope=col>n</th></tr>\n",
       "\t<tr><th scope=col>&lt;chr&gt;</th><th scope=col>&lt;int&gt;</th></tr>\n",
       "</thead>\n",
       "<tbody>\n",
       "\t<tr><td>Diagnosis           </td><td>2834516</td></tr>\n",
       "\t<tr><td>Meds                </td><td>1868195</td></tr>\n",
       "\t<tr><td>Lab                 </td><td> 993484</td></tr>\n",
       "\t<tr><td>Imaging             </td><td> 299944</td></tr>\n",
       "\t<tr><td>Procedures          </td><td>  51696</td></tr>\n",
       "\t<tr><td>Microbiology Culture</td><td>  37374</td></tr>\n",
       "\t<tr><td>Microbiology        </td><td>   1643</td></tr>\n",
       "</tbody>\n",
       "</table>\n"
      ],
      "text/latex": [
       "A grouped\\_df: 7 × 2\n",
       "\\begin{tabular}{ll}\n",
       " feature\\_type & n\\\\\n",
       " <chr> & <int>\\\\\n",
       "\\hline\n",
       "\t Diagnosis            & 2834516\\\\\n",
       "\t Meds                 & 1868195\\\\\n",
       "\t Lab                  &  993484\\\\\n",
       "\t Imaging              &  299944\\\\\n",
       "\t Procedures           &   51696\\\\\n",
       "\t Microbiology Culture &   37374\\\\\n",
       "\t Microbiology         &    1643\\\\\n",
       "\\end{tabular}\n"
      ],
      "text/markdown": [
       "\n",
       "A grouped_df: 7 × 2\n",
       "\n",
       "| feature_type &lt;chr&gt; | n &lt;int&gt; |\n",
       "|---|---|\n",
       "| Diagnosis            | 2834516 |\n",
       "| Meds                 | 1868195 |\n",
       "| Lab                  |  993484 |\n",
       "| Imaging              |  299944 |\n",
       "| Procedures           |   51696 |\n",
       "| Microbiology Culture |   37374 |\n",
       "| Microbiology         |    1643 |\n",
       "\n"
      ],
      "text/plain": [
       "  feature_type         n      \n",
       "1 Diagnosis            2834516\n",
       "2 Meds                 1868195\n",
       "3 Lab                   993484\n",
       "4 Imaging               299944\n",
       "5 Procedures             51696\n",
       "6 Microbiology Culture   37374\n",
       "7 Microbiology            1643"
      ]
     },
     "metadata": {},
     "output_type": "display_data"
    }
   ],
   "source": [
    "orders4 %>% group_by(feature_type) %>% count(sort=TRUE)"
   ]
  },
  {
   "cell_type": "code",
   "execution_count": 7,
   "id": "47e5c50d",
   "metadata": {},
   "outputs": [
    {
     "data": {
      "text/html": [
       "<table class=\"dataframe\">\n",
       "<caption>A grouped_df: 6 × 2</caption>\n",
       "<thead>\n",
       "\t<tr><th scope=col>feature_type</th><th scope=col>n</th></tr>\n",
       "\t<tr><th scope=col>&lt;chr&gt;</th><th scope=col>&lt;int&gt;</th></tr>\n",
       "</thead>\n",
       "<tbody>\n",
       "\t<tr><td>Diagnosis   </td><td>2834516</td></tr>\n",
       "\t<tr><td>Meds        </td><td>1868195</td></tr>\n",
       "\t<tr><td>Lab         </td><td> 993484</td></tr>\n",
       "\t<tr><td>Imaging     </td><td> 299944</td></tr>\n",
       "\t<tr><td>Procedures  </td><td>  51696</td></tr>\n",
       "\t<tr><td>Microbiology</td><td>  39017</td></tr>\n",
       "</tbody>\n",
       "</table>\n"
      ],
      "text/latex": [
       "A grouped\\_df: 6 × 2\n",
       "\\begin{tabular}{ll}\n",
       " feature\\_type & n\\\\\n",
       " <chr> & <int>\\\\\n",
       "\\hline\n",
       "\t Diagnosis    & 2834516\\\\\n",
       "\t Meds         & 1868195\\\\\n",
       "\t Lab          &  993484\\\\\n",
       "\t Imaging      &  299944\\\\\n",
       "\t Procedures   &   51696\\\\\n",
       "\t Microbiology &   39017\\\\\n",
       "\\end{tabular}\n"
      ],
      "text/markdown": [
       "\n",
       "A grouped_df: 6 × 2\n",
       "\n",
       "| feature_type &lt;chr&gt; | n &lt;int&gt; |\n",
       "|---|---|\n",
       "| Diagnosis    | 2834516 |\n",
       "| Meds         | 1868195 |\n",
       "| Lab          |  993484 |\n",
       "| Imaging      |  299944 |\n",
       "| Procedures   |   51696 |\n",
       "| Microbiology |   39017 |\n",
       "\n"
      ],
      "text/plain": [
       "  feature_type n      \n",
       "1 Diagnosis    2834516\n",
       "2 Meds         1868195\n",
       "3 Lab           993484\n",
       "4 Imaging       299944\n",
       "5 Procedures     51696\n",
       "6 Microbiology   39017"
      ]
     },
     "metadata": {},
     "output_type": "display_data"
    }
   ],
   "source": [
    "orders4_micro <- orders4 %>% mutate(feature_type = ifelse(str_detect(feature_type, \"Microbiology\"), \"Microbiology\", feature_type))\n",
    "orders4_micro %>% group_by(feature_type) %>% count(sort=TRUE)"
   ]
  },
  {
   "cell_type": "raw",
   "id": "7f789791",
   "metadata": {},
   "source": [
    "orders5_micro <- orders5 %>% mutate(feature_type = ifelse(str_detect(feature_type, \"Microbiology\"), \"Microbiology\", feature_type))\n",
    "nrow(orders5_micro) #5730678\n",
    "length(unique(orders5_micro$pat_enc_csn_id_coded)) # 43970 there are 10 people who had no orders"
   ]
  },
  {
   "cell_type": "code",
   "execution_count": 8,
   "id": "790766f3",
   "metadata": {},
   "outputs": [
    {
     "data": {
      "text/html": [
       "43970"
      ],
      "text/latex": [
       "43970"
      ],
      "text/markdown": [
       "43970"
      ],
      "text/plain": [
       "[1] 43970"
      ]
     },
     "metadata": {},
     "output_type": "display_data"
    }
   ],
   "source": [
    "length(unique(orders4_micro$pat_enc_csn_id_coded)) # 43970 there are 10 people who had no orders"
   ]
  },
  {
   "cell_type": "code",
   "execution_count": 9,
   "id": "9fc61169",
   "metadata": {},
   "outputs": [
    {
     "data": {
      "text/html": [],
      "text/latex": [],
      "text/markdown": [],
      "text/plain": [
       "numeric(0)"
      ]
     },
     "metadata": {},
     "output_type": "display_data"
    },
    {
     "data": {
      "text/html": [
       "<style>\n",
       ".list-inline {list-style: none; margin:0; padding: 0}\n",
       ".list-inline>li {display: inline-block}\n",
       ".list-inline>li:not(:last-child)::after {content: \"\\00b7\"; padding: 0 .5ex}\n",
       "</style>\n",
       "<ol class=list-inline><li>131250899044</li><li>131232385768</li><li>131143463175</li><li>131244907345</li><li>131193906942</li><li>131239369230</li><li>131236364892</li><li>131179268110</li><li>131282120209</li><li>131239885415</li></ol>\n"
      ],
      "text/latex": [
       "\\begin{enumerate*}\n",
       "\\item 131250899044\n",
       "\\item 131232385768\n",
       "\\item 131143463175\n",
       "\\item 131244907345\n",
       "\\item 131193906942\n",
       "\\item 131239369230\n",
       "\\item 131236364892\n",
       "\\item 131179268110\n",
       "\\item 131282120209\n",
       "\\item 131239885415\n",
       "\\end{enumerate*}\n"
      ],
      "text/markdown": [
       "1. 131250899044\n",
       "2. 131232385768\n",
       "3. 131143463175\n",
       "4. 131244907345\n",
       "5. 131193906942\n",
       "6. 131239369230\n",
       "7. 131236364892\n",
       "8. 131179268110\n",
       "9. 131282120209\n",
       "10. 131239885415\n",
       "\n",
       "\n"
      ],
      "text/plain": [
       " [1] 131250899044 131232385768 131143463175 131244907345 131193906942\n",
       " [6] 131239369230 131236364892 131179268110 131282120209 131239885415"
      ]
     },
     "metadata": {},
     "output_type": "display_data"
    }
   ],
   "source": [
    "setdiff(orders4_micro$pat_enc_csn_id_coded, cohort4$pat_enc_csn_id_coded) # 0 \n",
    "setdiff(cohort4$pat_enc_csn_id_coded, orders4_micro$pat_enc_csn_id_coded) # 10"
   ]
  },
  {
   "cell_type": "code",
   "execution_count": 154,
   "id": "af330684",
   "metadata": {},
   "outputs": [
    {
     "data": {
      "text/html": [
       "5730678"
      ],
      "text/latex": [
       "5730678"
      ],
      "text/markdown": [
       "5730678"
      ],
      "text/plain": [
       "[1] 5730678"
      ]
     },
     "metadata": {},
     "output_type": "display_data"
    },
    {
     "data": {
      "text/html": [
       "41366"
      ],
      "text/latex": [
       "41366"
      ],
      "text/markdown": [
       "41366"
      ],
      "text/plain": [
       "[1] 41366"
      ]
     },
     "metadata": {},
     "output_type": "display_data"
    }
   ],
   "source": [
    "# orders5 is only a subset of orders4 excluding obs without labs (1_5_cohort_final)\n",
    "orders5_micro <- orders4_micro %>% filter(pat_enc_csn_id_coded %in% cohort5$pat_enc_csn_id_coded)\n",
    "nrow(orders5_micro) #5730678\n",
    "length(unique(orders5_micro$pat_enc_csn_id_coded)) #41366"
   ]
  },
  {
   "cell_type": "markdown",
   "id": "0460da94",
   "metadata": {},
   "source": [
    "### Check the featurized binned labs_vitals and combine all features\n",
    "- Keep them both (`..._train` and `..._test`) in the same dataframe\n",
    "- Run `2_7_feature_values`, `2_8_binned_labs_vitals_train`, and `2_8_binned_labs_vitals_test` **separately** for coh4 and coh5 when combining"
   ]
  },
  {
   "cell_type": "code",
   "execution_count": 32,
   "id": "75f0d2ef",
   "metadata": {},
   "outputs": [
    {
     "data": {
      "text/html": [
       "3085046"
      ],
      "text/latex": [
       "3085046"
      ],
      "text/markdown": [
       "3085046"
      ],
      "text/plain": [
       "[1] 3085046"
      ]
     },
     "metadata": {},
     "output_type": "display_data"
    },
    {
     "data": {
      "text/html": [
       "43980"
      ],
      "text/latex": [
       "43980"
      ],
      "text/markdown": [
       "43980"
      ],
      "text/plain": [
       "[1] 43980"
      ]
     },
     "metadata": {},
     "output_type": "display_data"
    },
    {
     "data": {
      "text/html": [
       "<table class=\"dataframe\">\n",
       "<caption>A grouped_df: 3 × 2</caption>\n",
       "<thead>\n",
       "\t<tr><th scope=col>feature_type</th><th scope=col>n</th></tr>\n",
       "\t<tr><th scope=col>&lt;chr&gt;</th><th scope=col>&lt;int&gt;</th></tr>\n",
       "</thead>\n",
       "<tbody>\n",
       "\t<tr><td>demo  </td><td> 747660</td></tr>\n",
       "\t<tr><td>labs  </td><td>1358669</td></tr>\n",
       "\t<tr><td>vitals</td><td> 978717</td></tr>\n",
       "</tbody>\n",
       "</table>\n"
      ],
      "text/latex": [
       "A grouped\\_df: 3 × 2\n",
       "\\begin{tabular}{ll}\n",
       " feature\\_type & n\\\\\n",
       " <chr> & <int>\\\\\n",
       "\\hline\n",
       "\t demo   &  747660\\\\\n",
       "\t labs   & 1358669\\\\\n",
       "\t vitals &  978717\\\\\n",
       "\\end{tabular}\n"
      ],
      "text/markdown": [
       "\n",
       "A grouped_df: 3 × 2\n",
       "\n",
       "| feature_type &lt;chr&gt; | n &lt;int&gt; |\n",
       "|---|---|\n",
       "| demo   |  747660 |\n",
       "| labs   | 1358669 |\n",
       "| vitals |  978717 |\n",
       "\n"
      ],
      "text/plain": [
       "  feature_type n      \n",
       "1 demo          747660\n",
       "2 labs         1358669\n",
       "3 vitals        978717"
      ]
     },
     "metadata": {},
     "output_type": "display_data"
    }
   ],
   "source": [
    "# check all features with values\n",
    "values <- read.csv(file.path(featuredir, '2_7_coh4_feature_values.csv'))\n",
    "nrow(values) # coh4 vs coh5: 3085046 vs 3012942\n",
    "length(unique(values$pat_enc_csn_id_coded)) # 43980 vs 41366\n",
    "values %>% group_by(feature_type) %>% count()"
   ]
  },
  {
   "cell_type": "code",
   "execution_count": 33,
   "id": "8d3eaf45",
   "metadata": {},
   "outputs": [
    {
     "data": {
      "text/html": [
       "747660"
      ],
      "text/latex": [
       "747660"
      ],
      "text/markdown": [
       "747660"
      ],
      "text/plain": [
       "[1] 747660"
      ]
     },
     "metadata": {},
     "output_type": "display_data"
    },
    {
     "data": {
      "text/html": [
       "43980"
      ],
      "text/latex": [
       "43980"
      ],
      "text/markdown": [
       "43980"
      ],
      "text/plain": [
       "[1] 43980"
      ]
     },
     "metadata": {},
     "output_type": "display_data"
    }
   ],
   "source": [
    "# get demographics features\n",
    "demos <- values %>% filter(feature_type == 'demo') %>% select(anon_id, pat_enc_csn_id_coded, admit_time, \n",
    "                                                              feature_type, features, values)\n",
    "nrow(demos) # coh4 747660 vs 703222\n",
    "length(unique(demos$pat_enc_csn_id_coded)) # 43980 vs 41366"
   ]
  },
  {
   "cell_type": "code",
   "execution_count": 11,
   "id": "f0750842",
   "metadata": {},
   "outputs": [
    {
     "data": {
      "text/html": [
       "<table class=\"dataframe\">\n",
       "<caption>A data.frame: 6 × 10</caption>\n",
       "<thead>\n",
       "\t<tr><th></th><th scope=col>anon_id</th><th scope=col>pat_enc_csn_id_coded</th><th scope=col>admit_time</th><th scope=col>first_label</th><th scope=col>death_24hr_recent_label</th><th scope=col>death_24hr_max_label</th><th scope=col>feature_type</th><th scope=col>features</th><th scope=col>values</th><th scope=col>time</th></tr>\n",
       "\t<tr><th></th><th scope=col>&lt;chr&gt;</th><th scope=col>&lt;dbl&gt;</th><th scope=col>&lt;chr&gt;</th><th scope=col>&lt;int&gt;</th><th scope=col>&lt;int&gt;</th><th scope=col>&lt;int&gt;</th><th scope=col>&lt;chr&gt;</th><th scope=col>&lt;chr&gt;</th><th scope=col>&lt;dbl&gt;</th><th scope=col>&lt;chr&gt;</th></tr>\n",
       "</thead>\n",
       "<tbody>\n",
       "\t<tr><th scope=row>1</th><td>JC29f8ad2</td><td>131274729058</td><td>2019-08-31 12:52:00+00:00</td><td>0</td><td>0</td><td>0</td><td>demo</td><td>ESI_i</td><td>3</td><td>NA</td></tr>\n",
       "\t<tr><th scope=row>2</th><td>JC29f8ad3</td><td>131278291027</td><td>2019-10-05 23:48:00+00:00</td><td>0</td><td>0</td><td>0</td><td>demo</td><td>ESI_i</td><td>3</td><td>NA</td></tr>\n",
       "\t<tr><th scope=row>3</th><td>JC29f8b9c</td><td>131266787806</td><td>2019-05-05 01:07:00+00:00</td><td>0</td><td>0</td><td>0</td><td>demo</td><td>ESI_i</td><td>2</td><td>NA</td></tr>\n",
       "\t<tr><th scope=row>4</th><td>JC29f8beb</td><td>131264387263</td><td>2019-03-15 03:35:00+00:00</td><td>0</td><td>0</td><td>0</td><td>demo</td><td>ESI_i</td><td>3</td><td>NA</td></tr>\n",
       "\t<tr><th scope=row>5</th><td>JC29f8beb</td><td>131279241689</td><td>2019-11-27 15:29:00+00:00</td><td>0</td><td>0</td><td>0</td><td>demo</td><td>ESI_i</td><td>3</td><td>NA</td></tr>\n",
       "\t<tr><th scope=row>6</th><td>JC29f8bef</td><td>131280937356</td><td>2019-11-30 10:35:00+00:00</td><td>0</td><td>0</td><td>0</td><td>demo</td><td>ESI_i</td><td>3</td><td>NA</td></tr>\n",
       "</tbody>\n",
       "</table>\n"
      ],
      "text/latex": [
       "A data.frame: 6 × 10\n",
       "\\begin{tabular}{r|llllllllll}\n",
       "  & anon\\_id & pat\\_enc\\_csn\\_id\\_coded & admit\\_time & first\\_label & death\\_24hr\\_recent\\_label & death\\_24hr\\_max\\_label & feature\\_type & features & values & time\\\\\n",
       "  & <chr> & <dbl> & <chr> & <int> & <int> & <int> & <chr> & <chr> & <dbl> & <chr>\\\\\n",
       "\\hline\n",
       "\t1 & JC29f8ad2 & 131274729058 & 2019-08-31 12:52:00+00:00 & 0 & 0 & 0 & demo & ESI\\_i & 3 & NA\\\\\n",
       "\t2 & JC29f8ad3 & 131278291027 & 2019-10-05 23:48:00+00:00 & 0 & 0 & 0 & demo & ESI\\_i & 3 & NA\\\\\n",
       "\t3 & JC29f8b9c & 131266787806 & 2019-05-05 01:07:00+00:00 & 0 & 0 & 0 & demo & ESI\\_i & 2 & NA\\\\\n",
       "\t4 & JC29f8beb & 131264387263 & 2019-03-15 03:35:00+00:00 & 0 & 0 & 0 & demo & ESI\\_i & 3 & NA\\\\\n",
       "\t5 & JC29f8beb & 131279241689 & 2019-11-27 15:29:00+00:00 & 0 & 0 & 0 & demo & ESI\\_i & 3 & NA\\\\\n",
       "\t6 & JC29f8bef & 131280937356 & 2019-11-30 10:35:00+00:00 & 0 & 0 & 0 & demo & ESI\\_i & 3 & NA\\\\\n",
       "\\end{tabular}\n"
      ],
      "text/markdown": [
       "\n",
       "A data.frame: 6 × 10\n",
       "\n",
       "| <!--/--> | anon_id &lt;chr&gt; | pat_enc_csn_id_coded &lt;dbl&gt; | admit_time &lt;chr&gt; | first_label &lt;int&gt; | death_24hr_recent_label &lt;int&gt; | death_24hr_max_label &lt;int&gt; | feature_type &lt;chr&gt; | features &lt;chr&gt; | values &lt;dbl&gt; | time &lt;chr&gt; |\n",
       "|---|---|---|---|---|---|---|---|---|---|---|\n",
       "| 1 | JC29f8ad2 | 131274729058 | 2019-08-31 12:52:00+00:00 | 0 | 0 | 0 | demo | ESI_i | 3 | NA |\n",
       "| 2 | JC29f8ad3 | 131278291027 | 2019-10-05 23:48:00+00:00 | 0 | 0 | 0 | demo | ESI_i | 3 | NA |\n",
       "| 3 | JC29f8b9c | 131266787806 | 2019-05-05 01:07:00+00:00 | 0 | 0 | 0 | demo | ESI_i | 2 | NA |\n",
       "| 4 | JC29f8beb | 131264387263 | 2019-03-15 03:35:00+00:00 | 0 | 0 | 0 | demo | ESI_i | 3 | NA |\n",
       "| 5 | JC29f8beb | 131279241689 | 2019-11-27 15:29:00+00:00 | 0 | 0 | 0 | demo | ESI_i | 3 | NA |\n",
       "| 6 | JC29f8bef | 131280937356 | 2019-11-30 10:35:00+00:00 | 0 | 0 | 0 | demo | ESI_i | 3 | NA |\n",
       "\n"
      ],
      "text/plain": [
       "  anon_id   pat_enc_csn_id_coded admit_time                first_label\n",
       "1 JC29f8ad2 131274729058         2019-08-31 12:52:00+00:00 0          \n",
       "2 JC29f8ad3 131278291027         2019-10-05 23:48:00+00:00 0          \n",
       "3 JC29f8b9c 131266787806         2019-05-05 01:07:00+00:00 0          \n",
       "4 JC29f8beb 131264387263         2019-03-15 03:35:00+00:00 0          \n",
       "5 JC29f8beb 131279241689         2019-11-27 15:29:00+00:00 0          \n",
       "6 JC29f8bef 131280937356         2019-11-30 10:35:00+00:00 0          \n",
       "  death_24hr_recent_label death_24hr_max_label feature_type features values\n",
       "1 0                       0                    demo         ESI_i    3     \n",
       "2 0                       0                    demo         ESI_i    3     \n",
       "3 0                       0                    demo         ESI_i    2     \n",
       "4 0                       0                    demo         ESI_i    3     \n",
       "5 0                       0                    demo         ESI_i    3     \n",
       "6 0                       0                    demo         ESI_i    3     \n",
       "  time\n",
       "1 NA  \n",
       "2 NA  \n",
       "3 NA  \n",
       "4 NA  \n",
       "5 NA  \n",
       "6 NA  "
      ]
     },
     "metadata": {},
     "output_type": "display_data"
    }
   ],
   "source": [
    "head(values)"
   ]
  },
  {
   "cell_type": "code",
   "execution_count": null,
   "id": "0d8229f1",
   "metadata": {},
   "outputs": [],
   "source": []
  },
  {
   "cell_type": "markdown",
   "id": "83fdb4f4",
   "metadata": {},
   "source": [
    "### ONLY THOSE within 24 hours prior to admit time!!! UPDATED"
   ]
  },
  {
   "cell_type": "code",
   "execution_count": 14,
   "id": "7b52c9a7",
   "metadata": {},
   "outputs": [
    {
     "data": {
      "text/html": [
       "3085046"
      ],
      "text/latex": [
       "3085046"
      ],
      "text/markdown": [
       "3085046"
      ],
      "text/plain": [
       "[1] 3085046"
      ]
     },
     "metadata": {},
     "output_type": "display_data"
    },
    {
     "data": {
      "text/html": [
       "40070"
      ],
      "text/latex": [
       "40070"
      ],
      "text/markdown": [
       "40070"
      ],
      "text/plain": [
       "[1] 40070"
      ]
     },
     "metadata": {},
     "output_type": "display_data"
    },
    {
     "data": {
      "text/html": [
       "3044976"
      ],
      "text/latex": [
       "3044976"
      ],
      "text/markdown": [
       "3044976"
      ],
      "text/plain": [
       "[1] 3044976"
      ]
     },
     "metadata": {},
     "output_type": "display_data"
    }
   ],
   "source": [
    "values <- values %>% mutate(admit_time = ymd_hms(admit_time), time = ymd_hms(time),\n",
    "                            hr_before_admit = round(as.numeric(difftime(admit_time, time, unit=\"hours\")), 1)) \n",
    "nrow(values)\n",
    "nrow(values %>% filter(hr_before_admit > 24))\n",
    "values <- values %>% filter(hr_before_admit <= 24 | is.na(hr_before_admit))\n",
    "nrow(values)"
   ]
  },
  {
   "cell_type": "code",
   "execution_count": 15,
   "id": "7a586b71",
   "metadata": {},
   "outputs": [
    {
     "data": {
      "text/html": [
       "3044976"
      ],
      "text/latex": [
       "3044976"
      ],
      "text/markdown": [
       "3044976"
      ],
      "text/plain": [
       "[1] 3044976"
      ]
     },
     "metadata": {},
     "output_type": "display_data"
    }
   ],
   "source": [
    "3085046 - 40070"
   ]
  },
  {
   "cell_type": "code",
   "execution_count": 16,
   "id": "09d1ef6a",
   "metadata": {},
   "outputs": [
    {
     "data": {
      "text/html": [
       "1221016"
      ],
      "text/latex": [
       "1221016"
      ],
      "text/markdown": [
       "1221016"
      ],
      "text/plain": [
       "[1] 1221016"
      ]
     },
     "metadata": {},
     "output_type": "display_data"
    },
    {
     "data": {
      "text/html": [
       "1678328"
      ],
      "text/latex": [
       "1678328"
      ],
      "text/markdown": [
       "1678328"
      ],
      "text/plain": [
       "[1] 1678328"
      ]
     },
     "metadata": {},
     "output_type": "display_data"
    }
   ],
   "source": [
    "# check train set\n",
    "trainbin <- values %>% filter(year(admit_time) %in% c(2015, 2016, 2017))\n",
    "testbin <- values %>% filter(year(admit_time) %in% c(2015, 2016, 2017, 2018))\n",
    "\n",
    "nrow(trainbin %>% filter(feature_type != 'demo')) #coh4 vs coh5 1254522 vs 1240798 (check against 2.8_)\n",
    "nrow(testbin %>% filter(feature_type != 'demo')) #coh4 vs coh5 1714603 vs 1694667 (check against 2.8_)"
   ]
  },
  {
   "cell_type": "code",
   "execution_count": 17,
   "id": "2ef8fbf0",
   "metadata": {},
   "outputs": [
    {
     "data": {
      "text/html": [
       "1825210"
      ],
      "text/latex": [
       "1825210"
      ],
      "text/markdown": [
       "1825210"
      ],
      "text/plain": [
       "[1] 1825210"
      ]
     },
     "metadata": {},
     "output_type": "display_data"
    },
    {
     "data": {
      "text/html": [
       "43980"
      ],
      "text/latex": [
       "43980"
      ],
      "text/markdown": [
       "43980"
      ],
      "text/plain": [
       "[1] 43980"
      ]
     },
     "metadata": {},
     "output_type": "display_data"
    },
    {
     "data": {
      "text/html": [
       "<table class=\"dataframe\">\n",
       "<caption>A grouped_df: 2 × 2</caption>\n",
       "<thead>\n",
       "\t<tr><th scope=col>feature_type</th><th scope=col>n</th></tr>\n",
       "\t<tr><th scope=col>&lt;chr&gt;</th><th scope=col>&lt;int&gt;</th></tr>\n",
       "</thead>\n",
       "<tbody>\n",
       "\t<tr><td>labs_results_train</td><td>1287050</td></tr>\n",
       "\t<tr><td>vitals_train      </td><td> 538160</td></tr>\n",
       "</tbody>\n",
       "</table>\n"
      ],
      "text/latex": [
       "A grouped\\_df: 2 × 2\n",
       "\\begin{tabular}{ll}\n",
       " feature\\_type & n\\\\\n",
       " <chr> & <int>\\\\\n",
       "\\hline\n",
       "\t labs\\_results\\_train & 1287050\\\\\n",
       "\t vitals\\_train       &  538160\\\\\n",
       "\\end{tabular}\n"
      ],
      "text/markdown": [
       "\n",
       "A grouped_df: 2 × 2\n",
       "\n",
       "| feature_type &lt;chr&gt; | n &lt;int&gt; |\n",
       "|---|---|\n",
       "| labs_results_train | 1287050 |\n",
       "| vitals_train       |  538160 |\n",
       "\n"
      ],
      "text/plain": [
       "  feature_type       n      \n",
       "1 labs_results_train 1287050\n",
       "2 vitals_train        538160"
      ]
     },
     "metadata": {},
     "output_type": "display_data"
    }
   ],
   "source": [
    "# read in train_binned labs and vitals\n",
    "trainbinned_labs_vitals <- read.csv(file.path(featuredir, '2_8_coh4_24hrpreadmit_binned_labs_vitals_train.csv'))\n",
    "nrow(trainbinned_labs_vitals) #coh4 vs coh5: 1846044 vs 1825075\n",
    "length(unique(trainbinned_labs_vitals$pat_enc_csn_id_coded)) #43980 vs 41366\n",
    "trainbinned_labs_vitals %>% group_by(feature_type) %>% count()"
   ]
  },
  {
   "cell_type": "code",
   "execution_count": 18,
   "id": "f5bf9171",
   "metadata": {},
   "outputs": [
    {
     "data": {
      "text/html": [
       "1826919"
      ],
      "text/latex": [
       "1826919"
      ],
      "text/markdown": [
       "1826919"
      ],
      "text/plain": [
       "[1] 1826919"
      ]
     },
     "metadata": {},
     "output_type": "display_data"
    },
    {
     "data": {
      "text/html": [
       "43980"
      ],
      "text/latex": [
       "43980"
      ],
      "text/markdown": [
       "43980"
      ],
      "text/plain": [
       "[1] 43980"
      ]
     },
     "metadata": {},
     "output_type": "display_data"
    },
    {
     "data": {
      "text/html": [
       "<table class=\"dataframe\">\n",
       "<caption>A grouped_df: 2 × 2</caption>\n",
       "<thead>\n",
       "\t<tr><th scope=col>feature_type</th><th scope=col>n</th></tr>\n",
       "\t<tr><th scope=col>&lt;chr&gt;</th><th scope=col>&lt;int&gt;</th></tr>\n",
       "</thead>\n",
       "<tbody>\n",
       "\t<tr><td>labs_results_train_test</td><td>1287256</td></tr>\n",
       "\t<tr><td>vitals_train_test      </td><td> 539663</td></tr>\n",
       "</tbody>\n",
       "</table>\n"
      ],
      "text/latex": [
       "A grouped\\_df: 2 × 2\n",
       "\\begin{tabular}{ll}\n",
       " feature\\_type & n\\\\\n",
       " <chr> & <int>\\\\\n",
       "\\hline\n",
       "\t labs\\_results\\_train\\_test & 1287256\\\\\n",
       "\t vitals\\_train\\_test       &  539663\\\\\n",
       "\\end{tabular}\n"
      ],
      "text/markdown": [
       "\n",
       "A grouped_df: 2 × 2\n",
       "\n",
       "| feature_type &lt;chr&gt; | n &lt;int&gt; |\n",
       "|---|---|\n",
       "| labs_results_train_test | 1287256 |\n",
       "| vitals_train_test       |  539663 |\n",
       "\n"
      ],
      "text/plain": [
       "  feature_type            n      \n",
       "1 labs_results_train_test 1287256\n",
       "2 vitals_train_test        539663"
      ]
     },
     "metadata": {},
     "output_type": "display_data"
    }
   ],
   "source": [
    "# read in test_binned labs and vitals\n",
    "testbinned_labs_vitals <- read.csv(file.path(featuredir, '2_8_coh4_24hrpreadmit_binned_labs_vitals_test.csv'))\n",
    "nrow(testbinned_labs_vitals) #coh4 vs coh5 1849438 vs 1827530\n",
    "length(unique(testbinned_labs_vitals$pat_enc_csn_id_coded)) # 43980 vs 41366\n",
    "testbinned_labs_vitals %>% group_by(feature_type) %>% count()"
   ]
  },
  {
   "cell_type": "code",
   "execution_count": 19,
   "id": "1235fb44",
   "metadata": {},
   "outputs": [
    {
     "data": {
      "text/html": [
       "<table class=\"dataframe\">\n",
       "<caption>A data.frame: 6 × 6</caption>\n",
       "<thead>\n",
       "\t<tr><th></th><th scope=col>anon_id</th><th scope=col>pat_enc_csn_id_coded</th><th scope=col>admit_time</th><th scope=col>feature_type</th><th scope=col>features</th><th scope=col>values</th></tr>\n",
       "\t<tr><th></th><th scope=col>&lt;chr&gt;</th><th scope=col>&lt;dbl&gt;</th><th scope=col>&lt;chr&gt;</th><th scope=col>&lt;chr&gt;</th><th scope=col>&lt;chr&gt;</th><th scope=col>&lt;int&gt;</th></tr>\n",
       "</thead>\n",
       "<tbody>\n",
       "\t<tr><th scope=row>1</th><td>JC29f8ad2</td><td>131274729058</td><td>2019-08-31 12:52:00+00:00</td><td>labs_results_train</td><td>ALB_4     </td><td>1</td></tr>\n",
       "\t<tr><th scope=row>2</th><td>JC29f8ad2</td><td>131274729058</td><td>2019-08-31 12:52:00+00:00</td><td>labs_results_train</td><td>ALK_7     </td><td>1</td></tr>\n",
       "\t<tr><th scope=row>3</th><td>JC29f8ad2</td><td>131274729058</td><td>2019-08-31 12:52:00+00:00</td><td>labs_results_train</td><td>ALT_0     </td><td>1</td></tr>\n",
       "\t<tr><th scope=row>4</th><td>JC29f8ad2</td><td>131274729058</td><td>2019-08-31 12:52:00+00:00</td><td>labs_results_train</td><td>AST_1     </td><td>1</td></tr>\n",
       "\t<tr><th scope=row>5</th><td>JC29f8ad2</td><td>131274729058</td><td>2019-08-31 12:52:00+00:00</td><td>labs_results_train</td><td>AnionGap_9</td><td>1</td></tr>\n",
       "\t<tr><th scope=row>6</th><td>JC29f8ad2</td><td>131274729058</td><td>2019-08-31 12:52:00+00:00</td><td>labs_results_train</td><td>BUN_8     </td><td>1</td></tr>\n",
       "</tbody>\n",
       "</table>\n"
      ],
      "text/latex": [
       "A data.frame: 6 × 6\n",
       "\\begin{tabular}{r|llllll}\n",
       "  & anon\\_id & pat\\_enc\\_csn\\_id\\_coded & admit\\_time & feature\\_type & features & values\\\\\n",
       "  & <chr> & <dbl> & <chr> & <chr> & <chr> & <int>\\\\\n",
       "\\hline\n",
       "\t1 & JC29f8ad2 & 131274729058 & 2019-08-31 12:52:00+00:00 & labs\\_results\\_train & ALB\\_4      & 1\\\\\n",
       "\t2 & JC29f8ad2 & 131274729058 & 2019-08-31 12:52:00+00:00 & labs\\_results\\_train & ALK\\_7      & 1\\\\\n",
       "\t3 & JC29f8ad2 & 131274729058 & 2019-08-31 12:52:00+00:00 & labs\\_results\\_train & ALT\\_0      & 1\\\\\n",
       "\t4 & JC29f8ad2 & 131274729058 & 2019-08-31 12:52:00+00:00 & labs\\_results\\_train & AST\\_1      & 1\\\\\n",
       "\t5 & JC29f8ad2 & 131274729058 & 2019-08-31 12:52:00+00:00 & labs\\_results\\_train & AnionGap\\_9 & 1\\\\\n",
       "\t6 & JC29f8ad2 & 131274729058 & 2019-08-31 12:52:00+00:00 & labs\\_results\\_train & BUN\\_8      & 1\\\\\n",
       "\\end{tabular}\n"
      ],
      "text/markdown": [
       "\n",
       "A data.frame: 6 × 6\n",
       "\n",
       "| <!--/--> | anon_id &lt;chr&gt; | pat_enc_csn_id_coded &lt;dbl&gt; | admit_time &lt;chr&gt; | feature_type &lt;chr&gt; | features &lt;chr&gt; | values &lt;int&gt; |\n",
       "|---|---|---|---|---|---|---|\n",
       "| 1 | JC29f8ad2 | 131274729058 | 2019-08-31 12:52:00+00:00 | labs_results_train | ALB_4      | 1 |\n",
       "| 2 | JC29f8ad2 | 131274729058 | 2019-08-31 12:52:00+00:00 | labs_results_train | ALK_7      | 1 |\n",
       "| 3 | JC29f8ad2 | 131274729058 | 2019-08-31 12:52:00+00:00 | labs_results_train | ALT_0      | 1 |\n",
       "| 4 | JC29f8ad2 | 131274729058 | 2019-08-31 12:52:00+00:00 | labs_results_train | AST_1      | 1 |\n",
       "| 5 | JC29f8ad2 | 131274729058 | 2019-08-31 12:52:00+00:00 | labs_results_train | AnionGap_9 | 1 |\n",
       "| 6 | JC29f8ad2 | 131274729058 | 2019-08-31 12:52:00+00:00 | labs_results_train | BUN_8      | 1 |\n",
       "\n"
      ],
      "text/plain": [
       "  anon_id   pat_enc_csn_id_coded admit_time                feature_type      \n",
       "1 JC29f8ad2 131274729058         2019-08-31 12:52:00+00:00 labs_results_train\n",
       "2 JC29f8ad2 131274729058         2019-08-31 12:52:00+00:00 labs_results_train\n",
       "3 JC29f8ad2 131274729058         2019-08-31 12:52:00+00:00 labs_results_train\n",
       "4 JC29f8ad2 131274729058         2019-08-31 12:52:00+00:00 labs_results_train\n",
       "5 JC29f8ad2 131274729058         2019-08-31 12:52:00+00:00 labs_results_train\n",
       "6 JC29f8ad2 131274729058         2019-08-31 12:52:00+00:00 labs_results_train\n",
       "  features   values\n",
       "1 ALB_4      1     \n",
       "2 ALK_7      1     \n",
       "3 ALT_0      1     \n",
       "4 AST_1      1     \n",
       "5 AnionGap_9 1     \n",
       "6 BUN_8      1     "
      ]
     },
     "metadata": {},
     "output_type": "display_data"
    },
    {
     "data": {
      "text/html": [
       "<table class=\"dataframe\">\n",
       "<caption>A data.frame: 6 × 6</caption>\n",
       "<thead>\n",
       "\t<tr><th></th><th scope=col>anon_id</th><th scope=col>pat_enc_csn_id_coded</th><th scope=col>admit_time</th><th scope=col>feature_type</th><th scope=col>features</th><th scope=col>values</th></tr>\n",
       "\t<tr><th></th><th scope=col>&lt;chr&gt;</th><th scope=col>&lt;dbl&gt;</th><th scope=col>&lt;chr&gt;</th><th scope=col>&lt;chr&gt;</th><th scope=col>&lt;chr&gt;</th><th scope=col>&lt;int&gt;</th></tr>\n",
       "</thead>\n",
       "<tbody>\n",
       "\t<tr><th scope=row>1</th><td>JC29f8ad2</td><td>131274729058</td><td>2019-08-31 12:52:00+00:00</td><td>labs_results_train_test</td><td>ALB_3     </td><td>1</td></tr>\n",
       "\t<tr><th scope=row>2</th><td>JC29f8ad2</td><td>131274729058</td><td>2019-08-31 12:52:00+00:00</td><td>labs_results_train_test</td><td>ALK_7     </td><td>1</td></tr>\n",
       "\t<tr><th scope=row>3</th><td>JC29f8ad2</td><td>131274729058</td><td>2019-08-31 12:52:00+00:00</td><td>labs_results_train_test</td><td>ALT_0     </td><td>1</td></tr>\n",
       "\t<tr><th scope=row>4</th><td>JC29f8ad2</td><td>131274729058</td><td>2019-08-31 12:52:00+00:00</td><td>labs_results_train_test</td><td>AST_1     </td><td>1</td></tr>\n",
       "\t<tr><th scope=row>5</th><td>JC29f8ad2</td><td>131274729058</td><td>2019-08-31 12:52:00+00:00</td><td>labs_results_train_test</td><td>AnionGap_9</td><td>1</td></tr>\n",
       "\t<tr><th scope=row>6</th><td>JC29f8ad2</td><td>131274729058</td><td>2019-08-31 12:52:00+00:00</td><td>labs_results_train_test</td><td>BUN_8     </td><td>1</td></tr>\n",
       "</tbody>\n",
       "</table>\n"
      ],
      "text/latex": [
       "A data.frame: 6 × 6\n",
       "\\begin{tabular}{r|llllll}\n",
       "  & anon\\_id & pat\\_enc\\_csn\\_id\\_coded & admit\\_time & feature\\_type & features & values\\\\\n",
       "  & <chr> & <dbl> & <chr> & <chr> & <chr> & <int>\\\\\n",
       "\\hline\n",
       "\t1 & JC29f8ad2 & 131274729058 & 2019-08-31 12:52:00+00:00 & labs\\_results\\_train\\_test & ALB\\_3      & 1\\\\\n",
       "\t2 & JC29f8ad2 & 131274729058 & 2019-08-31 12:52:00+00:00 & labs\\_results\\_train\\_test & ALK\\_7      & 1\\\\\n",
       "\t3 & JC29f8ad2 & 131274729058 & 2019-08-31 12:52:00+00:00 & labs\\_results\\_train\\_test & ALT\\_0      & 1\\\\\n",
       "\t4 & JC29f8ad2 & 131274729058 & 2019-08-31 12:52:00+00:00 & labs\\_results\\_train\\_test & AST\\_1      & 1\\\\\n",
       "\t5 & JC29f8ad2 & 131274729058 & 2019-08-31 12:52:00+00:00 & labs\\_results\\_train\\_test & AnionGap\\_9 & 1\\\\\n",
       "\t6 & JC29f8ad2 & 131274729058 & 2019-08-31 12:52:00+00:00 & labs\\_results\\_train\\_test & BUN\\_8      & 1\\\\\n",
       "\\end{tabular}\n"
      ],
      "text/markdown": [
       "\n",
       "A data.frame: 6 × 6\n",
       "\n",
       "| <!--/--> | anon_id &lt;chr&gt; | pat_enc_csn_id_coded &lt;dbl&gt; | admit_time &lt;chr&gt; | feature_type &lt;chr&gt; | features &lt;chr&gt; | values &lt;int&gt; |\n",
       "|---|---|---|---|---|---|---|\n",
       "| 1 | JC29f8ad2 | 131274729058 | 2019-08-31 12:52:00+00:00 | labs_results_train_test | ALB_3      | 1 |\n",
       "| 2 | JC29f8ad2 | 131274729058 | 2019-08-31 12:52:00+00:00 | labs_results_train_test | ALK_7      | 1 |\n",
       "| 3 | JC29f8ad2 | 131274729058 | 2019-08-31 12:52:00+00:00 | labs_results_train_test | ALT_0      | 1 |\n",
       "| 4 | JC29f8ad2 | 131274729058 | 2019-08-31 12:52:00+00:00 | labs_results_train_test | AST_1      | 1 |\n",
       "| 5 | JC29f8ad2 | 131274729058 | 2019-08-31 12:52:00+00:00 | labs_results_train_test | AnionGap_9 | 1 |\n",
       "| 6 | JC29f8ad2 | 131274729058 | 2019-08-31 12:52:00+00:00 | labs_results_train_test | BUN_8      | 1 |\n",
       "\n"
      ],
      "text/plain": [
       "  anon_id   pat_enc_csn_id_coded admit_time               \n",
       "1 JC29f8ad2 131274729058         2019-08-31 12:52:00+00:00\n",
       "2 JC29f8ad2 131274729058         2019-08-31 12:52:00+00:00\n",
       "3 JC29f8ad2 131274729058         2019-08-31 12:52:00+00:00\n",
       "4 JC29f8ad2 131274729058         2019-08-31 12:52:00+00:00\n",
       "5 JC29f8ad2 131274729058         2019-08-31 12:52:00+00:00\n",
       "6 JC29f8ad2 131274729058         2019-08-31 12:52:00+00:00\n",
       "  feature_type            features   values\n",
       "1 labs_results_train_test ALB_3      1     \n",
       "2 labs_results_train_test ALK_7      1     \n",
       "3 labs_results_train_test ALT_0      1     \n",
       "4 labs_results_train_test AST_1      1     \n",
       "5 labs_results_train_test AnionGap_9 1     \n",
       "6 labs_results_train_test BUN_8      1     "
      ]
     },
     "metadata": {},
     "output_type": "display_data"
    }
   ],
   "source": [
    "head(trainbinned_labs_vitals)\n",
    "head(testbinned_labs_vitals)"
   ]
  },
  {
   "cell_type": "code",
   "execution_count": 21,
   "id": "fb9e722d",
   "metadata": {},
   "outputs": [
    {
     "data": {
      "text/html": [
       "10"
      ],
      "text/latex": [
       "10"
      ],
      "text/markdown": [
       "10"
      ],
      "text/plain": [
       "[1] 10"
      ]
     },
     "metadata": {},
     "output_type": "display_data"
    },
    {
     "data": {
      "text/html": [
       "0"
      ],
      "text/latex": [
       "0"
      ],
      "text/markdown": [
       "0"
      ],
      "text/plain": [
       "[1] 0"
      ]
     },
     "metadata": {},
     "output_type": "display_data"
    },
    {
     "data": {
      "text/html": [
       "10"
      ],
      "text/latex": [
       "10"
      ],
      "text/markdown": [
       "10"
      ],
      "text/plain": [
       "[1] 10"
      ]
     },
     "metadata": {},
     "output_type": "display_data"
    },
    {
     "data": {
      "text/html": [
       "0"
      ],
      "text/latex": [
       "0"
      ],
      "text/markdown": [
       "0"
      ],
      "text/plain": [
       "[1] 0"
      ]
     },
     "metadata": {},
     "output_type": "display_data"
    }
   ],
   "source": [
    "# check overlapping cohort in features with values vs with order counts: should be the same, no diff\n",
    "length(setdiff(trainbinned_labs_vitals$pat_enc_csn_id_coded, orders4_micro$pat_enc_csn_id_coded))\n",
    "length(setdiff(orders4_micro$pat_enc_csn_id_coded, trainbinned_labs_vitals$pat_enc_csn_id_coded)) # co4 10 vs coh5 2604\n",
    "\n",
    "length(setdiff(testbinned_labs_vitals$pat_enc_csn_id_coded, orders4_micro$pat_enc_csn_id_coded))\n",
    "length(setdiff(orders4_micro$pat_enc_csn_id_coded, testbinned_labs_vitals$pat_enc_csn_id_coded)) # coh4 10 vs coh5 2604"
   ]
  },
  {
   "cell_type": "code",
   "execution_count": 31,
   "id": "450c4576",
   "metadata": {},
   "outputs": [
    {
     "data": {
      "text/html": [
       "<table class=\"dataframe\">\n",
       "<caption>A data.frame: 6 × 6</caption>\n",
       "<thead>\n",
       "\t<tr><th></th><th scope=col>anon_id</th><th scope=col>pat_enc_csn_id_coded</th><th scope=col>admit_time</th><th scope=col>feature_type</th><th scope=col>features</th><th scope=col>values</th></tr>\n",
       "\t<tr><th></th><th scope=col>&lt;chr&gt;</th><th scope=col>&lt;dbl&gt;</th><th scope=col>&lt;chr&gt;</th><th scope=col>&lt;chr&gt;</th><th scope=col>&lt;chr&gt;</th><th scope=col>&lt;int&gt;</th></tr>\n",
       "</thead>\n",
       "<tbody>\n",
       "\t<tr><th scope=row>1</th><td>JC29f8ad2</td><td>131274729058</td><td>2019-08-31 12:52:00+00:00</td><td>labs_results_train_test</td><td>ALB_3     </td><td>1</td></tr>\n",
       "\t<tr><th scope=row>2</th><td>JC29f8ad2</td><td>131274729058</td><td>2019-08-31 12:52:00+00:00</td><td>labs_results_train_test</td><td>ALK_7     </td><td>1</td></tr>\n",
       "\t<tr><th scope=row>3</th><td>JC29f8ad2</td><td>131274729058</td><td>2019-08-31 12:52:00+00:00</td><td>labs_results_train_test</td><td>ALT_0     </td><td>1</td></tr>\n",
       "\t<tr><th scope=row>4</th><td>JC29f8ad2</td><td>131274729058</td><td>2019-08-31 12:52:00+00:00</td><td>labs_results_train_test</td><td>AST_1     </td><td>1</td></tr>\n",
       "\t<tr><th scope=row>5</th><td>JC29f8ad2</td><td>131274729058</td><td>2019-08-31 12:52:00+00:00</td><td>labs_results_train_test</td><td>AnionGap_9</td><td>1</td></tr>\n",
       "\t<tr><th scope=row>6</th><td>JC29f8ad2</td><td>131274729058</td><td>2019-08-31 12:52:00+00:00</td><td>labs_results_train_test</td><td>BUN_8     </td><td>1</td></tr>\n",
       "</tbody>\n",
       "</table>\n"
      ],
      "text/latex": [
       "A data.frame: 6 × 6\n",
       "\\begin{tabular}{r|llllll}\n",
       "  & anon\\_id & pat\\_enc\\_csn\\_id\\_coded & admit\\_time & feature\\_type & features & values\\\\\n",
       "  & <chr> & <dbl> & <chr> & <chr> & <chr> & <int>\\\\\n",
       "\\hline\n",
       "\t1 & JC29f8ad2 & 131274729058 & 2019-08-31 12:52:00+00:00 & labs\\_results\\_train\\_test & ALB\\_3      & 1\\\\\n",
       "\t2 & JC29f8ad2 & 131274729058 & 2019-08-31 12:52:00+00:00 & labs\\_results\\_train\\_test & ALK\\_7      & 1\\\\\n",
       "\t3 & JC29f8ad2 & 131274729058 & 2019-08-31 12:52:00+00:00 & labs\\_results\\_train\\_test & ALT\\_0      & 1\\\\\n",
       "\t4 & JC29f8ad2 & 131274729058 & 2019-08-31 12:52:00+00:00 & labs\\_results\\_train\\_test & AST\\_1      & 1\\\\\n",
       "\t5 & JC29f8ad2 & 131274729058 & 2019-08-31 12:52:00+00:00 & labs\\_results\\_train\\_test & AnionGap\\_9 & 1\\\\\n",
       "\t6 & JC29f8ad2 & 131274729058 & 2019-08-31 12:52:00+00:00 & labs\\_results\\_train\\_test & BUN\\_8      & 1\\\\\n",
       "\\end{tabular}\n"
      ],
      "text/markdown": [
       "\n",
       "A data.frame: 6 × 6\n",
       "\n",
       "| <!--/--> | anon_id &lt;chr&gt; | pat_enc_csn_id_coded &lt;dbl&gt; | admit_time &lt;chr&gt; | feature_type &lt;chr&gt; | features &lt;chr&gt; | values &lt;int&gt; |\n",
       "|---|---|---|---|---|---|---|\n",
       "| 1 | JC29f8ad2 | 131274729058 | 2019-08-31 12:52:00+00:00 | labs_results_train_test | ALB_3      | 1 |\n",
       "| 2 | JC29f8ad2 | 131274729058 | 2019-08-31 12:52:00+00:00 | labs_results_train_test | ALK_7      | 1 |\n",
       "| 3 | JC29f8ad2 | 131274729058 | 2019-08-31 12:52:00+00:00 | labs_results_train_test | ALT_0      | 1 |\n",
       "| 4 | JC29f8ad2 | 131274729058 | 2019-08-31 12:52:00+00:00 | labs_results_train_test | AST_1      | 1 |\n",
       "| 5 | JC29f8ad2 | 131274729058 | 2019-08-31 12:52:00+00:00 | labs_results_train_test | AnionGap_9 | 1 |\n",
       "| 6 | JC29f8ad2 | 131274729058 | 2019-08-31 12:52:00+00:00 | labs_results_train_test | BUN_8      | 1 |\n",
       "\n"
      ],
      "text/plain": [
       "  anon_id   pat_enc_csn_id_coded admit_time               \n",
       "1 JC29f8ad2 131274729058         2019-08-31 12:52:00+00:00\n",
       "2 JC29f8ad2 131274729058         2019-08-31 12:52:00+00:00\n",
       "3 JC29f8ad2 131274729058         2019-08-31 12:52:00+00:00\n",
       "4 JC29f8ad2 131274729058         2019-08-31 12:52:00+00:00\n",
       "5 JC29f8ad2 131274729058         2019-08-31 12:52:00+00:00\n",
       "6 JC29f8ad2 131274729058         2019-08-31 12:52:00+00:00\n",
       "  feature_type            features   values\n",
       "1 labs_results_train_test ALB_3      1     \n",
       "2 labs_results_train_test ALK_7      1     \n",
       "3 labs_results_train_test ALT_0      1     \n",
       "4 labs_results_train_test AST_1      1     \n",
       "5 labs_results_train_test AnionGap_9 1     \n",
       "6 labs_results_train_test BUN_8      1     "
      ]
     },
     "metadata": {},
     "output_type": "display_data"
    }
   ],
   "source": [
    "head(testbinned_labs_vitals)"
   ]
  },
  {
   "cell_type": "markdown",
   "id": "a7636afa",
   "metadata": {},
   "source": [
    "### Use orders4_micro vs orders5_micro for coh4 vs coh5"
   ]
  },
  {
   "cell_type": "code",
   "execution_count": 34,
   "id": "ea5f59de",
   "metadata": {},
   "outputs": [
    {
     "data": {
      "text/html": [
       "10486641"
      ],
      "text/latex": [
       "10486641"
      ],
      "text/markdown": [
       "10486641"
      ],
      "text/plain": [
       "[1] 10486641"
      ]
     },
     "metadata": {},
     "output_type": "display_data"
    },
    {
     "data": {
      "text/html": [
       "43980"
      ],
      "text/latex": [
       "43980"
      ],
      "text/markdown": [
       "43980"
      ],
      "text/plain": [
       "[1] 43980"
      ]
     },
     "metadata": {},
     "output_type": "display_data"
    },
    {
     "data": {
      "text/html": [
       "42809"
      ],
      "text/latex": [
       "42809"
      ],
      "text/markdown": [
       "42809"
      ],
      "text/plain": [
       "[1] 42809"
      ]
     },
     "metadata": {},
     "output_type": "display_data"
    },
    {
     "data": {
      "text/html": [
       "<table class=\"dataframe\">\n",
       "<caption>A grouped_df: 11 × 2</caption>\n",
       "<thead>\n",
       "\t<tr><th scope=col>feature_type</th><th scope=col>n</th></tr>\n",
       "\t<tr><th scope=col>&lt;chr&gt;</th><th scope=col>&lt;int&gt;</th></tr>\n",
       "</thead>\n",
       "<tbody>\n",
       "\t<tr><td>Diagnosis              </td><td>2834516</td></tr>\n",
       "\t<tr><td>Meds                   </td><td>1868195</td></tr>\n",
       "\t<tr><td>labs_results_train_test</td><td>1287256</td></tr>\n",
       "\t<tr><td>labs_results_train     </td><td>1287050</td></tr>\n",
       "\t<tr><td>Lab                    </td><td> 993484</td></tr>\n",
       "\t<tr><td>demo                   </td><td> 747660</td></tr>\n",
       "\t<tr><td>vitals_train_test      </td><td> 539663</td></tr>\n",
       "\t<tr><td>vitals_train           </td><td> 538160</td></tr>\n",
       "\t<tr><td>Imaging                </td><td> 299944</td></tr>\n",
       "\t<tr><td>Procedures             </td><td>  51696</td></tr>\n",
       "\t<tr><td>Microbiology           </td><td>  39017</td></tr>\n",
       "</tbody>\n",
       "</table>\n"
      ],
      "text/latex": [
       "A grouped\\_df: 11 × 2\n",
       "\\begin{tabular}{ll}\n",
       " feature\\_type & n\\\\\n",
       " <chr> & <int>\\\\\n",
       "\\hline\n",
       "\t Diagnosis               & 2834516\\\\\n",
       "\t Meds                    & 1868195\\\\\n",
       "\t labs\\_results\\_train\\_test & 1287256\\\\\n",
       "\t labs\\_results\\_train      & 1287050\\\\\n",
       "\t Lab                     &  993484\\\\\n",
       "\t demo                    &  747660\\\\\n",
       "\t vitals\\_train\\_test       &  539663\\\\\n",
       "\t vitals\\_train            &  538160\\\\\n",
       "\t Imaging                 &  299944\\\\\n",
       "\t Procedures              &   51696\\\\\n",
       "\t Microbiology            &   39017\\\\\n",
       "\\end{tabular}\n"
      ],
      "text/markdown": [
       "\n",
       "A grouped_df: 11 × 2\n",
       "\n",
       "| feature_type &lt;chr&gt; | n &lt;int&gt; |\n",
       "|---|---|\n",
       "| Diagnosis               | 2834516 |\n",
       "| Meds                    | 1868195 |\n",
       "| labs_results_train_test | 1287256 |\n",
       "| labs_results_train      | 1287050 |\n",
       "| Lab                     |  993484 |\n",
       "| demo                    |  747660 |\n",
       "| vitals_train_test       |  539663 |\n",
       "| vitals_train            |  538160 |\n",
       "| Imaging                 |  299944 |\n",
       "| Procedures              |   51696 |\n",
       "| Microbiology            |   39017 |\n",
       "\n"
      ],
      "text/plain": [
       "   feature_type            n      \n",
       "1  Diagnosis               2834516\n",
       "2  Meds                    1868195\n",
       "3  labs_results_train_test 1287256\n",
       "4  labs_results_train      1287050\n",
       "5  Lab                      993484\n",
       "6  demo                     747660\n",
       "7  vitals_train_test        539663\n",
       "8  vitals_train             538160\n",
       "9  Imaging                  299944\n",
       "10 Procedures                51696\n",
       "11 Microbiology              39017"
      ]
     },
     "metadata": {},
     "output_type": "display_data"
    }
   ],
   "source": [
    "# combine all features for the complex data set, remove time column since demo doesn't have it\n",
    "features_all <- bind_rows(demos, trainbinned_labs_vitals, testbinned_labs_vitals, orders4_micro)\n",
    "nrow(features_all) #10529994 vs 10086505 (this include both train and test) # updated coh4 10486641\n",
    "length(unique(features_all$pat_enc_csn_id_coded)) #43980 vs 41366\n",
    "length(unique(features_all$features)) #42809 vs 42207\n",
    "features_all %>% group_by(feature_type) %>% count(sort=TRUE)"
   ]
  },
  {
   "cell_type": "code",
   "execution_count": 35,
   "id": "f4ff5af8",
   "metadata": {},
   "outputs": [
    {
     "data": {
      "text/html": [
       "<table class=\"dataframe\">\n",
       "<caption>A data.frame: 6 × 6</caption>\n",
       "<thead>\n",
       "\t<tr><th></th><th scope=col>anon_id</th><th scope=col>pat_enc_csn_id_coded</th><th scope=col>admit_time</th><th scope=col>feature_type</th><th scope=col>features</th><th scope=col>values</th></tr>\n",
       "\t<tr><th></th><th scope=col>&lt;chr&gt;</th><th scope=col>&lt;dbl&gt;</th><th scope=col>&lt;chr&gt;</th><th scope=col>&lt;chr&gt;</th><th scope=col>&lt;chr&gt;</th><th scope=col>&lt;dbl&gt;</th></tr>\n",
       "</thead>\n",
       "<tbody>\n",
       "\t<tr><th scope=row>1</th><td>JC29f8ad2</td><td>131274729058</td><td>2019-08-31 12:52:00+00:00</td><td>demo</td><td>ESI_i</td><td>3</td></tr>\n",
       "\t<tr><th scope=row>2</th><td>JC29f8ad3</td><td>131278291027</td><td>2019-10-05 23:48:00+00:00</td><td>demo</td><td>ESI_i</td><td>3</td></tr>\n",
       "\t<tr><th scope=row>3</th><td>JC29f8b9c</td><td>131266787806</td><td>2019-05-05 01:07:00+00:00</td><td>demo</td><td>ESI_i</td><td>2</td></tr>\n",
       "\t<tr><th scope=row>4</th><td>JC29f8beb</td><td>131264387263</td><td>2019-03-15 03:35:00+00:00</td><td>demo</td><td>ESI_i</td><td>3</td></tr>\n",
       "\t<tr><th scope=row>5</th><td>JC29f8beb</td><td>131279241689</td><td>2019-11-27 15:29:00+00:00</td><td>demo</td><td>ESI_i</td><td>3</td></tr>\n",
       "\t<tr><th scope=row>6</th><td>JC29f8bef</td><td>131280937356</td><td>2019-11-30 10:35:00+00:00</td><td>demo</td><td>ESI_i</td><td>3</td></tr>\n",
       "</tbody>\n",
       "</table>\n"
      ],
      "text/latex": [
       "A data.frame: 6 × 6\n",
       "\\begin{tabular}{r|llllll}\n",
       "  & anon\\_id & pat\\_enc\\_csn\\_id\\_coded & admit\\_time & feature\\_type & features & values\\\\\n",
       "  & <chr> & <dbl> & <chr> & <chr> & <chr> & <dbl>\\\\\n",
       "\\hline\n",
       "\t1 & JC29f8ad2 & 131274729058 & 2019-08-31 12:52:00+00:00 & demo & ESI\\_i & 3\\\\\n",
       "\t2 & JC29f8ad3 & 131278291027 & 2019-10-05 23:48:00+00:00 & demo & ESI\\_i & 3\\\\\n",
       "\t3 & JC29f8b9c & 131266787806 & 2019-05-05 01:07:00+00:00 & demo & ESI\\_i & 2\\\\\n",
       "\t4 & JC29f8beb & 131264387263 & 2019-03-15 03:35:00+00:00 & demo & ESI\\_i & 3\\\\\n",
       "\t5 & JC29f8beb & 131279241689 & 2019-11-27 15:29:00+00:00 & demo & ESI\\_i & 3\\\\\n",
       "\t6 & JC29f8bef & 131280937356 & 2019-11-30 10:35:00+00:00 & demo & ESI\\_i & 3\\\\\n",
       "\\end{tabular}\n"
      ],
      "text/markdown": [
       "\n",
       "A data.frame: 6 × 6\n",
       "\n",
       "| <!--/--> | anon_id &lt;chr&gt; | pat_enc_csn_id_coded &lt;dbl&gt; | admit_time &lt;chr&gt; | feature_type &lt;chr&gt; | features &lt;chr&gt; | values &lt;dbl&gt; |\n",
       "|---|---|---|---|---|---|---|\n",
       "| 1 | JC29f8ad2 | 131274729058 | 2019-08-31 12:52:00+00:00 | demo | ESI_i | 3 |\n",
       "| 2 | JC29f8ad3 | 131278291027 | 2019-10-05 23:48:00+00:00 | demo | ESI_i | 3 |\n",
       "| 3 | JC29f8b9c | 131266787806 | 2019-05-05 01:07:00+00:00 | demo | ESI_i | 2 |\n",
       "| 4 | JC29f8beb | 131264387263 | 2019-03-15 03:35:00+00:00 | demo | ESI_i | 3 |\n",
       "| 5 | JC29f8beb | 131279241689 | 2019-11-27 15:29:00+00:00 | demo | ESI_i | 3 |\n",
       "| 6 | JC29f8bef | 131280937356 | 2019-11-30 10:35:00+00:00 | demo | ESI_i | 3 |\n",
       "\n"
      ],
      "text/plain": [
       "  anon_id   pat_enc_csn_id_coded admit_time                feature_type\n",
       "1 JC29f8ad2 131274729058         2019-08-31 12:52:00+00:00 demo        \n",
       "2 JC29f8ad3 131278291027         2019-10-05 23:48:00+00:00 demo        \n",
       "3 JC29f8b9c 131266787806         2019-05-05 01:07:00+00:00 demo        \n",
       "4 JC29f8beb 131264387263         2019-03-15 03:35:00+00:00 demo        \n",
       "5 JC29f8beb 131279241689         2019-11-27 15:29:00+00:00 demo        \n",
       "6 JC29f8bef 131280937356         2019-11-30 10:35:00+00:00 demo        \n",
       "  features values\n",
       "1 ESI_i    3     \n",
       "2 ESI_i    3     \n",
       "3 ESI_i    2     \n",
       "4 ESI_i    3     \n",
       "5 ESI_i    3     \n",
       "6 ESI_i    3     "
      ]
     },
     "metadata": {},
     "output_type": "display_data"
    }
   ],
   "source": [
    "head(features_all)"
   ]
  },
  {
   "cell_type": "code",
   "execution_count": 36,
   "id": "0752c58f",
   "metadata": {},
   "outputs": [
    {
     "data": {
      "text/html": [
       "<table class=\"dataframe\">\n",
       "<caption>A grouped_df: 6 × 2</caption>\n",
       "<thead>\n",
       "\t<tr><th scope=col>features</th><th scope=col>n</th></tr>\n",
       "\t<tr><th scope=col>&lt;chr&gt;</th><th scope=col>&lt;int&gt;</th></tr>\n",
       "</thead>\n",
       "<tbody>\n",
       "\t<tr><td>ALB_0 </td><td>2</td></tr>\n",
       "\t<tr><td>ALB_1 </td><td>2</td></tr>\n",
       "\t<tr><td>ALB_10</td><td>2</td></tr>\n",
       "\t<tr><td>ALB_2 </td><td>2</td></tr>\n",
       "\t<tr><td>ALB_3 </td><td>2</td></tr>\n",
       "\t<tr><td>ALB_4 </td><td>2</td></tr>\n",
       "</tbody>\n",
       "</table>\n"
      ],
      "text/latex": [
       "A grouped\\_df: 6 × 2\n",
       "\\begin{tabular}{ll}\n",
       " features & n\\\\\n",
       " <chr> & <int>\\\\\n",
       "\\hline\n",
       "\t ALB\\_0  & 2\\\\\n",
       "\t ALB\\_1  & 2\\\\\n",
       "\t ALB\\_10 & 2\\\\\n",
       "\t ALB\\_2  & 2\\\\\n",
       "\t ALB\\_3  & 2\\\\\n",
       "\t ALB\\_4  & 2\\\\\n",
       "\\end{tabular}\n"
      ],
      "text/markdown": [
       "\n",
       "A grouped_df: 6 × 2\n",
       "\n",
       "| features &lt;chr&gt; | n &lt;int&gt; |\n",
       "|---|---|\n",
       "| ALB_0  | 2 |\n",
       "| ALB_1  | 2 |\n",
       "| ALB_10 | 2 |\n",
       "| ALB_2  | 2 |\n",
       "| ALB_3  | 2 |\n",
       "| ALB_4  | 2 |\n",
       "\n"
      ],
      "text/plain": [
       "  features n\n",
       "1 ALB_0    2\n",
       "2 ALB_1    2\n",
       "3 ALB_10   2\n",
       "4 ALB_2    2\n",
       "5 ALB_3    2\n",
       "6 ALB_4    2"
      ]
     },
     "metadata": {},
     "output_type": "display_data"
    },
    {
     "data": {
      "text/html": [
       "<table class=\"dataframe\">\n",
       "<caption>A grouped_df: 6 × 2</caption>\n",
       "<thead>\n",
       "\t<tr><th scope=col>features</th><th scope=col>n</th></tr>\n",
       "\t<tr><th scope=col>&lt;chr&gt;</th><th scope=col>&lt;int&gt;</th></tr>\n",
       "</thead>\n",
       "<tbody>\n",
       "\t<tr><td>WBC_4</td><td>2</td></tr>\n",
       "\t<tr><td>WBC_5</td><td>2</td></tr>\n",
       "\t<tr><td>WBC_6</td><td>2</td></tr>\n",
       "\t<tr><td>WBC_7</td><td>2</td></tr>\n",
       "\t<tr><td>WBC_8</td><td>2</td></tr>\n",
       "\t<tr><td>WBC_9</td><td>2</td></tr>\n",
       "</tbody>\n",
       "</table>\n"
      ],
      "text/latex": [
       "A grouped\\_df: 6 × 2\n",
       "\\begin{tabular}{ll}\n",
       " features & n\\\\\n",
       " <chr> & <int>\\\\\n",
       "\\hline\n",
       "\t WBC\\_4 & 2\\\\\n",
       "\t WBC\\_5 & 2\\\\\n",
       "\t WBC\\_6 & 2\\\\\n",
       "\t WBC\\_7 & 2\\\\\n",
       "\t WBC\\_8 & 2\\\\\n",
       "\t WBC\\_9 & 2\\\\\n",
       "\\end{tabular}\n"
      ],
      "text/markdown": [
       "\n",
       "A grouped_df: 6 × 2\n",
       "\n",
       "| features &lt;chr&gt; | n &lt;int&gt; |\n",
       "|---|---|\n",
       "| WBC_4 | 2 |\n",
       "| WBC_5 | 2 |\n",
       "| WBC_6 | 2 |\n",
       "| WBC_7 | 2 |\n",
       "| WBC_8 | 2 |\n",
       "| WBC_9 | 2 |\n",
       "\n"
      ],
      "text/plain": [
       "  features n\n",
       "1 WBC_4    2\n",
       "2 WBC_5    2\n",
       "3 WBC_6    2\n",
       "4 WBC_7    2\n",
       "5 WBC_8    2\n",
       "6 WBC_9    2"
      ]
     },
     "metadata": {},
     "output_type": "display_data"
    }
   ],
   "source": [
    "n2 <- features_all %>% select(feature_type, features) %>% distinct() %>% \n",
    "        group_by(features) %>% count(sort=TRUE) %>% filter(n==2)\n",
    "head(n2)\n",
    "tail(n2)"
   ]
  },
  {
   "cell_type": "code",
   "execution_count": 37,
   "id": "61939b20",
   "metadata": {},
   "outputs": [
    {
     "data": {
      "text/html": [
       "<table class=\"dataframe\">\n",
       "<caption>A data.frame: 8 × 1</caption>\n",
       "<thead>\n",
       "\t<tr><th scope=col>feature_type</th></tr>\n",
       "\t<tr><th scope=col>&lt;chr&gt;</th></tr>\n",
       "</thead>\n",
       "<tbody>\n",
       "\t<tr><td>labs_results_train     </td></tr>\n",
       "\t<tr><td>vitals_train           </td></tr>\n",
       "\t<tr><td>labs_results_train_test</td></tr>\n",
       "\t<tr><td>vitals_train_test      </td></tr>\n",
       "\t<tr><td>Lab                    </td></tr>\n",
       "\t<tr><td>Microbiology           </td></tr>\n",
       "\t<tr><td>Procedures             </td></tr>\n",
       "\t<tr><td>Imaging                </td></tr>\n",
       "</tbody>\n",
       "</table>\n"
      ],
      "text/latex": [
       "A data.frame: 8 × 1\n",
       "\\begin{tabular}{l}\n",
       " feature\\_type\\\\\n",
       " <chr>\\\\\n",
       "\\hline\n",
       "\t labs\\_results\\_train     \\\\\n",
       "\t vitals\\_train           \\\\\n",
       "\t labs\\_results\\_train\\_test\\\\\n",
       "\t vitals\\_train\\_test      \\\\\n",
       "\t Lab                    \\\\\n",
       "\t Microbiology           \\\\\n",
       "\t Procedures             \\\\\n",
       "\t Imaging                \\\\\n",
       "\\end{tabular}\n"
      ],
      "text/markdown": [
       "\n",
       "A data.frame: 8 × 1\n",
       "\n",
       "| feature_type &lt;chr&gt; |\n",
       "|---|\n",
       "| labs_results_train      |\n",
       "| vitals_train            |\n",
       "| labs_results_train_test |\n",
       "| vitals_train_test       |\n",
       "| Lab                     |\n",
       "| Microbiology            |\n",
       "| Procedures              |\n",
       "| Imaging                 |\n",
       "\n"
      ],
      "text/plain": [
       "  feature_type           \n",
       "1 labs_results_train     \n",
       "2 vitals_train           \n",
       "3 labs_results_train_test\n",
       "4 vitals_train_test      \n",
       "5 Lab                    \n",
       "6 Microbiology           \n",
       "7 Procedures             \n",
       "8 Imaging                "
      ]
     },
     "metadata": {},
     "output_type": "display_data"
    }
   ],
   "source": [
    "features_all %>% filter(features %in% n2$features) %>% distinct(feature_type)# group_by(features, feature_type) %>% count()"
   ]
  },
  {
   "cell_type": "code",
   "execution_count": 38,
   "id": "3512952f",
   "metadata": {},
   "outputs": [
    {
     "data": {
      "text/html": [
       "<table class=\"dataframe\">\n",
       "<caption>A grouped_df: 43357 × 3</caption>\n",
       "<thead>\n",
       "\t<tr><th scope=col>feature_type</th><th scope=col>features</th><th scope=col>n</th></tr>\n",
       "\t<tr><th scope=col>&lt;chr&gt;</th><th scope=col>&lt;chr&gt;</th><th scope=col>&lt;int&gt;</th></tr>\n",
       "</thead>\n",
       "<tbody>\n",
       "\t<tr><td>demo             </td><td>age                                       </td><td>43980</td></tr>\n",
       "\t<tr><td>demo             </td><td>delta_ESI                                 </td><td>43980</td></tr>\n",
       "\t<tr><td>demo             </td><td>delta_H                                   </td><td>43980</td></tr>\n",
       "\t<tr><td>demo             </td><td>delta_W                                   </td><td>43980</td></tr>\n",
       "\t<tr><td>demo             </td><td>English                                   </td><td>43980</td></tr>\n",
       "\t<tr><td>demo             </td><td>ESI_i                                     </td><td>43980</td></tr>\n",
       "\t<tr><td>demo             </td><td>gender                                    </td><td>43980</td></tr>\n",
       "\t<tr><td>demo             </td><td>Height_i                                  </td><td>43980</td></tr>\n",
       "\t<tr><td>demo             </td><td>insurance                                 </td><td>43980</td></tr>\n",
       "\t<tr><td>demo             </td><td>race.Asian                                </td><td>43980</td></tr>\n",
       "\t<tr><td>demo             </td><td>race.Black                                </td><td>43980</td></tr>\n",
       "\t<tr><td>demo             </td><td>race.Native.American                      </td><td>43980</td></tr>\n",
       "\t<tr><td>demo             </td><td>race.Other                                </td><td>43980</td></tr>\n",
       "\t<tr><td>demo             </td><td>race.Pacific.Islander                     </td><td>43980</td></tr>\n",
       "\t<tr><td>demo             </td><td>race.Unknown                              </td><td>43980</td></tr>\n",
       "\t<tr><td>demo             </td><td>race.White                                </td><td>43980</td></tr>\n",
       "\t<tr><td>demo             </td><td>Weight_i                                  </td><td>43980</td></tr>\n",
       "\t<tr><td>Lab              </td><td>METABOLIC PANEL, COMPREHENSIVE            </td><td>42223</td></tr>\n",
       "\t<tr><td>Lab              </td><td>CBC WITH DIFFERENTIAL                     </td><td>41251</td></tr>\n",
       "\t<tr><td>vitals_train     </td><td>Temp_4                                    </td><td>33392</td></tr>\n",
       "\t<tr><td>vitals_train_test</td><td>Temp_4                                    </td><td>33392</td></tr>\n",
       "\t<tr><td>Lab              </td><td>URINALYSIS SCREEN, CULTURE IF POSITIVE    </td><td>29174</td></tr>\n",
       "\t<tr><td>Lab              </td><td>PROTHROMBIN TIME                          </td><td>28681</td></tr>\n",
       "\t<tr><td>Meds             </td><td>ONDANSETRON HCL (PF) 4 MG/2 ML INJ SOLN   </td><td>26288</td></tr>\n",
       "\t<tr><td>vitals_train     </td><td>RR_3                                      </td><td>26279</td></tr>\n",
       "\t<tr><td>vitals_train_test</td><td>RR_4                                      </td><td>26279</td></tr>\n",
       "\t<tr><td>Lab              </td><td>PTT PARTIAL THROMBOPLASTIN TIME           </td><td>24503</td></tr>\n",
       "\t<tr><td>Lab              </td><td>METABOLIC PANEL, BASIC                    </td><td>23958</td></tr>\n",
       "\t<tr><td>Lab              </td><td>CBC W/O DIFF                              </td><td>22879</td></tr>\n",
       "\t<tr><td>Lab              </td><td>MAGNESIUM, SERUM/PLASMA                   </td><td>22648</td></tr>\n",
       "\t<tr><td>Meds             </td><td>ACETAMINOPHEN 325 MG PO TABS              </td><td>21567</td></tr>\n",
       "\t<tr><td>Lab              </td><td>RAINBOW DRAW (FOR ED/RRT/CODE BLUE ONLY)  </td><td>21392</td></tr>\n",
       "\t<tr><td>Diagnosis        </td><td>Z79.899                                   </td><td>20746</td></tr>\n",
       "\t<tr><td>Meds             </td><td>NS IV BOLUS                               </td><td>20517</td></tr>\n",
       "\t<tr><td>Diagnosis        </td><td>I10                                       </td><td>19785</td></tr>\n",
       "\t<tr><td>vitals_train_test</td><td>RR_5                                      </td><td>19047</td></tr>\n",
       "\t<tr><td>Lab              </td><td>TYPE AND SCREEN                           </td><td>18775</td></tr>\n",
       "\t<tr><td>vitals_train     </td><td>RR_1                                      </td><td>18341</td></tr>\n",
       "\t<tr><td>vitals_train_test</td><td>RR_2                                      </td><td>18341</td></tr>\n",
       "\t<tr><td>Lab              </td><td>ABO/RH (ARI)                              </td><td>17406</td></tr>\n",
       "\t<tr><td>vitals_train     </td><td>RR_5                                      </td><td>17372</td></tr>\n",
       "\t<tr><td>Lab              </td><td>AB SCREEN (ASI)                           </td><td>17259</td></tr>\n",
       "\t<tr><td>Lab              </td><td>TROPONIN I                                </td><td>16945</td></tr>\n",
       "\t<tr><td>vitals_train     </td><td>Temp_2                                    </td><td>16215</td></tr>\n",
       "\t<tr><td>vitals_train_test</td><td>Temp_2                                    </td><td>16215</td></tr>\n",
       "\t<tr><td>Lab              </td><td>LIPASE                                    </td><td>15717</td></tr>\n",
       "\t<tr><td>Meds             </td><td>NALOXONE 0.4 MG/ML INJ SOLN               </td><td>15518</td></tr>\n",
       "\t<tr><td>Meds             </td><td>POLYETHYLENE GLYCOL 3350 17 GRAM PO PWPK  </td><td>15419</td></tr>\n",
       "\t<tr><td>Meds             </td><td>HYDROMORPHONE 1 MG/ML INJ SYRG            </td><td>15217</td></tr>\n",
       "\t<tr><td>Meds             </td><td>DOCUSATE SODIUM 100 MG PO CAPS            </td><td>15060</td></tr>\n",
       "\t<tr><td>Diagnosis        </td><td>E78.5                                     </td><td>14663</td></tr>\n",
       "\t<tr><td>vitals_train     </td><td>DBP_6                                     </td><td>14457</td></tr>\n",
       "\t<tr><td>vitals_train_test</td><td>DBP_3                                     </td><td>14384</td></tr>\n",
       "\t<tr><td>Lab              </td><td>PHOSPHORUS, SERUM/PLASMA                  </td><td>14061</td></tr>\n",
       "\t<tr><td>vitals_train_test</td><td>SBP_6                                     </td><td>14013</td></tr>\n",
       "\t<tr><td>vitals_train_test</td><td>DBP_6                                     </td><td>13922</td></tr>\n",
       "\t<tr><td>vitals_train     </td><td>SBP_3                                     </td><td>13586</td></tr>\n",
       "\t<tr><td>Meds             </td><td>OXYCODONE 5 MG PO TABS                    </td><td>13510</td></tr>\n",
       "\t<tr><td><span style=white-space:pre-wrap>Microbiology     </span></td><td>BLOOD CULTURE (AEROBIC &amp; ANAEROBIC BOTTLE)</td><td>13478</td></tr>\n",
       "\t<tr><td>Lab              </td><td>TSH                                       </td><td>13358</td></tr>\n",
       "\t<tr><td>Lab              </td><td>HEMOGLOBIN A1C                            </td><td>13273</td></tr>\n",
       "\t<tr><td>vitals_train     </td><td>DBP_5                                     </td><td>13184</td></tr>\n",
       "\t<tr><td>vitals_train_test</td><td>DBP_5                                     </td><td>13155</td></tr>\n",
       "\t<tr><td>Imaging          </td><td>XR CHEST 1 VIEW                           </td><td>13127</td></tr>\n",
       "\t<tr><td>Diagnosis        </td><td>R06.02                                    </td><td>13085</td></tr>\n",
       "\t<tr><td>vitals_train_test</td><td>DBP_4                                     </td><td>13001</td></tr>\n",
       "\t<tr><td>vitals_train     </td><td>DBP_4                                     </td><td>12979</td></tr>\n",
       "\t<tr><td>Meds             </td><td>NS IV BOLUS - 1000 ML                     </td><td>12970</td></tr>\n",
       "\t<tr><td>Lab              </td><td>URINALYSIS WITH MICROSCOPIC               </td><td>12969</td></tr>\n",
       "\t<tr><td>vitals_train     </td><td>SBP_7                                     </td><td>12952</td></tr>\n",
       "\t<tr><td>vitals_train     </td><td>DBP_8                                     </td><td>12925</td></tr>\n",
       "\t<tr><td>vitals_train     </td><td>SBP_4                                     </td><td>12920</td></tr>\n",
       "\t<tr><td>vitals_train_test</td><td>SBP_4                                     </td><td>12920</td></tr>\n",
       "\t<tr><td>vitals_train     </td><td>SBP_6                                     </td><td>12857</td></tr>\n",
       "\t<tr><td>vitals_train     </td><td>Pulse_4                                   </td><td>12725</td></tr>\n",
       "\t<tr><td>vitals_train_test</td><td>Pulse_4                                   </td><td>12725</td></tr>\n",
       "\t<tr><td>vitals_train_test</td><td>SBP_7                                     </td><td>12557</td></tr>\n",
       "\t<tr><td>vitals_train     </td><td>DBP_7                                     </td><td>12505</td></tr>\n",
       "\t<tr><td>vitals_train     </td><td>SBP_5                                     </td><td>12485</td></tr>\n",
       "\t<tr><td>vitals_train_test</td><td>SBP_5                                     </td><td>12485</td></tr>\n",
       "\t<tr><td>Meds             </td><td>ONDANSETRON 4 MG PO TBDL                  </td><td>12436</td></tr>\n",
       "\t<tr><td>Meds             </td><td>MIDAZOLAM 1 MG/ML INJ SOLN                </td><td>12427</td></tr>\n",
       "\t<tr><td>Diagnosis        </td><td>Z23                                       </td><td>12285</td></tr>\n",
       "\t<tr><td>vitals_train_test</td><td>SBP_3                                     </td><td>12274</td></tr>\n",
       "\t<tr><td>vitals_train_test</td><td>Pulse_7                                   </td><td>12206</td></tr>\n",
       "\t<tr><td>vitals_train_test</td><td>DBP_8                                     </td><td>12172</td></tr>\n",
       "\t<tr><td>vitals_train_test</td><td>DBP_7                                     </td><td>12130</td></tr>\n",
       "\t<tr><td>vitals_train     </td><td>DBP_3                                     </td><td>12104</td></tr>\n",
       "\t<tr><td>vitals_train_test</td><td>SBP_2                                     </td><td>12075</td></tr>\n",
       "\t<tr><td>vitals_train     </td><td>Pulse_5                                   </td><td>12049</td></tr>\n",
       "\t<tr><td>vitals_train_test</td><td>Pulse_5                                   </td><td>12049</td></tr>\n",
       "\t<tr><td>Diagnosis        </td><td>Z01.818                                   </td><td>11942</td></tr>\n",
       "\t<tr><td>vitals_train     </td><td>DBP_2                                     </td><td>11912</td></tr>\n",
       "\t<tr><td>Meds             </td><td>SODIUM CHLORIDE 0.9 % 0.9 % IV SOLP       </td><td>11874</td></tr>\n",
       "\t<tr><td>vitals_train     </td><td>Temp_0                                    </td><td>11824</td></tr>\n",
       "\t<tr><td>vitals_train_test</td><td>Temp_0                                    </td><td>11824</td></tr>\n",
       "\t<tr><td>vitals_train     </td><td>RR_6                                      </td><td>11794</td></tr>\n",
       "\t<tr><td>vitals_train_test</td><td>RR_7                                      </td><td>11794</td></tr>\n",
       "\t<tr><td>Meds             </td><td>DEXTROSE 50 % IN WATER (D50W) IV SYRG     </td><td>11770</td></tr>\n",
       "\t<tr><td>Imaging          </td><td>XR CHEST 2 VIEWS                          </td><td>11692</td></tr>\n",
       "\t<tr><td>⋮</td><td>⋮</td><td>⋮</td></tr>\n",
       "\t<tr><td>Procedures       </td><td>NORMAL SALINE SOLUTION INFUSION 250 CC                                           </td><td>1</td></tr>\n",
       "\t<tr><td>Procedures       </td><td>OPHTH BIOMETRY/PART INTERFEROMETRY W/INTRAOC 2ND EYE                             </td><td>1</td></tr>\n",
       "\t<tr><td>Procedures       </td><td>OPHTHALMIC ULTRASOUND BIOMICROSCOPY(UBM)                                         </td><td>1</td></tr>\n",
       "\t<tr><td><span style=white-space:pre-wrap>Procedures       </span></td><td><span style=white-space:pre-wrap>ORTHOTIC MANAGEMENT &amp; TRAINING, EA 15MIN                                         </span></td><td>1</td></tr>\n",
       "\t<tr><td>Procedures       </td><td>ORTHOVISC 15MG/2ML                                                               </td><td>1</td></tr>\n",
       "\t<tr><td>Procedures       </td><td>OSCILLATING TRACKING TEST                                                        </td><td>1</td></tr>\n",
       "\t<tr><td>Procedures       </td><td>OTO OTOACOUSTIC EMISSIONS,LIMITED MMC                                            </td><td>1</td></tr>\n",
       "\t<tr><td>Procedures       </td><td>PENTAMIDINE AEROSOLIZED UHA                                                      </td><td>1</td></tr>\n",
       "\t<tr><td>Procedures       </td><td>PESSARYW/RUBBER                                                                  </td><td>1</td></tr>\n",
       "\t<tr><td>Procedures       </td><td>Pigtail Placemen in Left Chest                                                   </td><td>1</td></tr>\n",
       "\t<tr><td>Procedures       </td><td>Pigtail placement                                                                </td><td>1</td></tr>\n",
       "\t<tr><td>Procedures       </td><td>PROCTOSIGMOIDOSCOPY                                                              </td><td>1</td></tr>\n",
       "\t<tr><td>Procedures       </td><td>PROF SERV ALLERGEN IMMUNOTHERAPY 2/MORE INJ                                      </td><td>1</td></tr>\n",
       "\t<tr><td>Procedures       </td><td>PRP INJECTION                                                                    </td><td>1</td></tr>\n",
       "\t<tr><td>Procedures       </td><td>PRP SUPPLIES                                                                     </td><td>1</td></tr>\n",
       "\t<tr><td>Procedures       </td><td>PSA SCREENING                                                                    </td><td>1</td></tr>\n",
       "\t<tr><td>Procedures       </td><td>PSYCHOLOGICAL TESTING, PER HR-TECH                                               </td><td>1</td></tr>\n",
       "\t<tr><td><span style=white-space:pre-wrap>Procedures       </span></td><td><span style=white-space:pre-wrap>PSYTX PT&amp;/FAMILY 30 MINUTES                                                      </span></td><td>1</td></tr>\n",
       "\t<tr><td><span style=white-space:pre-wrap>Procedures       </span></td><td><span style=white-space:pre-wrap>PSYTX PT&amp;/FAMILY 45 MINUTES                                                      </span></td><td>1</td></tr>\n",
       "\t<tr><td>Procedures       </td><td>PULM FUNCT TST PLETHYSMOGRAP                                                     </td><td>1</td></tr>\n",
       "\t<tr><td>Procedures       </td><td>PULM FUNCTION TEST BY GAS                                                        </td><td>1</td></tr>\n",
       "\t<tr><td>Procedures       </td><td>Pulmonary Artery Catheter Insertion                                              </td><td>1</td></tr>\n",
       "\t<tr><td>Procedures       </td><td>PULMONARY STRESS TEST SIMPLE                                                     </td><td>1</td></tr>\n",
       "\t<tr><td>Procedures       </td><td>PULSE OX FOR OX SAT, MULTIPLE READINGS                                           </td><td>1</td></tr>\n",
       "\t<tr><td>Procedures       </td><td>RADIESSE                                                                         </td><td>1</td></tr>\n",
       "\t<tr><td>Procedures       </td><td>reduction of R inguinal hernia                                                   </td><td>1</td></tr>\n",
       "\t<tr><td>Procedures       </td><td>REMOVAL OF BENIGN SKIN LESION FCE/EAR/EYELD/NSE/LIP, 2.1-3.0 CM                  </td><td>1</td></tr>\n",
       "\t<tr><td>Procedures       </td><td>REMOVAL OF BENIGN SKIN LESION SCLP/NCK/HNDS/FEET/GENIT.,4.0+CM                   </td><td>1</td></tr>\n",
       "\t<tr><td>Procedures       </td><td>REMOVAL OF BENIGN SKIN LESION TRNK/ARM/LEG,0.5CM OR LESS                         </td><td>1</td></tr>\n",
       "\t<tr><td>Procedures       </td><td>REMOVAL OF HEMORRHOID CLOT                                                       </td><td>1</td></tr>\n",
       "\t<tr><td>Procedures       </td><td>REMOVAL OF INNER EYE FLUID                                                       </td><td>1</td></tr>\n",
       "\t<tr><td>Procedures       </td><td>REMOVAL OF MALIG. SKIN LESION SCLP/NCK/HNDS/FEET/GENIT.,1.1-2.0 CM               </td><td>1</td></tr>\n",
       "\t<tr><td>Procedures       </td><td>REMOVAL OF MALIG. SKIN LESION SCLP/NCK/HNDS/FEET/GENIT.,2.1-3.0 CM               </td><td>1</td></tr>\n",
       "\t<tr><td>Procedures       </td><td>REMOVAL OF MALIG. SKIN LESION SCLP/NCK/HNDS/FEET/GENIT.,3.1-4.0 CM               </td><td>1</td></tr>\n",
       "\t<tr><td>Procedures       </td><td>REMOVAL OF PERMANENT INTRAPERITON                                                </td><td>1</td></tr>\n",
       "\t<tr><td><span style=white-space:pre-wrap>Procedures       </span></td><td><span style=white-space:pre-wrap>REMOVAL OF SKIN TAGS, EACH ADD'L 10 TAGS, &gt;15                                    </span></td><td>1</td></tr>\n",
       "\t<tr><td>Procedures       </td><td>REMOVAL OF SUTURES                                                               </td><td>1</td></tr>\n",
       "\t<tr><td>Procedures       </td><td>REMOVE IMPACTED EAR WAX UNI                                                      </td><td>1</td></tr>\n",
       "\t<tr><td>Procedures       </td><td>REPAIR COMPLEX WOUND FHD/CHN/MTH/NCK/GEN/HND/FT, 1.1-2.5 CM                      </td><td>1</td></tr>\n",
       "\t<tr><td>Procedures       </td><td>REPAIR EYELID DEFECT                                                             </td><td>1</td></tr>\n",
       "\t<tr><td>Procedures       </td><td>REPAIR MODIFICATION OF A HEARING AID                                             </td><td>1</td></tr>\n",
       "\t<tr><td>Procedures       </td><td>REPAIR SUPERFICIAL WOUND(S) SCLP/NCK/GEN/TRNK/EXT., 2.6-7.5 CM                   </td><td>1</td></tr>\n",
       "\t<tr><td>Procedures       </td><td>Right IJ HD catheter - US guidance                                               </td><td>1</td></tr>\n",
       "\t<tr><td>Procedures       </td><td>RMV WOUND TISS;NON-SELEC DEBRID W/O ANES/SESSION                                 </td><td>1</td></tr>\n",
       "\t<tr><td><span style=white-space:pre-wrap>Procedures       </span></td><td><span style=white-space:pre-wrap>SEMEN ANALYSIS SPERM PRESENCE&amp;/MOTILITY SPR                                      </span></td><td>1</td></tr>\n",
       "\t<tr><td>Procedures       </td><td>SHAVE SKIN LESION FCE/EAR/EYELID/NSE/LIP/MM,0.5 CM OR LESS                       </td><td>1</td></tr>\n",
       "\t<tr><td>Procedures       </td><td>SHAVE SKIN LESION TRUNK/ARMS/LEGS, 1.1-2.0 CM                                    </td><td>1</td></tr>\n",
       "\t<tr><td>Procedures       </td><td>SHC TXP EXTERNAL BLOOD GASES (MANUAL ENTRY)                                      </td><td>1</td></tr>\n",
       "\t<tr><td>Procedures       </td><td>SKIN SUBSTITUTE GRAFIX CORE 5X5 PER 1 SQ CM WASTE                                </td><td>1</td></tr>\n",
       "\t<tr><td>Procedures       </td><td>SKIN SUBSTITUTE, DERMAGRAFTR, PER 1 SQ CM                                        </td><td>1</td></tr>\n",
       "\t<tr><td>Procedures       </td><td>SKIN TISSUE REARRANGE ADD-ON                                                     </td><td>1</td></tr>\n",
       "\t<tr><td>Procedures       </td><td>SKYLA IUD                                                                        </td><td>1</td></tr>\n",
       "\t<tr><td>Procedures       </td><td>SLCTV CATH PLMT VEN SYS 1ST ORDER BRANCH                                         </td><td>1</td></tr>\n",
       "\t<tr><td>Procedures       </td><td>SMOKING AND TOBACCO USE CESSATION COUNSELING VISIT; INTS                         </td><td>1</td></tr>\n",
       "\t<tr><td>Procedures       </td><td>SMR PRIM SRC WET MOUNT NFCT AGT                                                  </td><td>1</td></tr>\n",
       "\t<tr><td>Procedures       </td><td>SNIP INC LACRIMAL PUNCTUM                                                        </td><td>1</td></tr>\n",
       "\t<tr><td>Procedures       </td><td>SPEC STAINS HISTOCHEM STAINING FROZEN SCTJ                                       </td><td>1</td></tr>\n",
       "\t<tr><td>Procedures       </td><td>SPECIAL REPORTS                                                                  </td><td>1</td></tr>\n",
       "\t<tr><td>Procedures       </td><td>SPEECH/HEARING EVALUATION                                                        </td><td>1</td></tr>\n",
       "\t<tr><td>Procedures       </td><td>SPIRACUR SNAP DEVICE                                                             </td><td>1</td></tr>\n",
       "\t<tr><td>Procedures       </td><td>SPLINT                                                                           </td><td>1</td></tr>\n",
       "\t<tr><td>Procedures       </td><td>STAPLE/SUTURE REMOVAL                                                            </td><td>1</td></tr>\n",
       "\t<tr><td>Procedures       </td><td>STSG, TRUNK/ARMS/LEGS, 1ST 100 CM SQ                                             </td><td>1</td></tr>\n",
       "\t<tr><td>Procedures       </td><td>SUPRAPUBIC BLADDER ASPIRATION                                                    </td><td>1</td></tr>\n",
       "\t<tr><td>Procedures       </td><td>SURGICAL SUPPLIES, MISC                                                          </td><td>1</td></tr>\n",
       "\t<tr><td>Procedures       </td><td>SURGICAL TRAY                                                                    </td><td>1</td></tr>\n",
       "\t<tr><td>Procedures       </td><td>Suture Placement                                                                 </td><td>1</td></tr>\n",
       "\t<tr><td>Procedures       </td><td>TAP BLOCK UNIL BY INJECTION                                                      </td><td>1</td></tr>\n",
       "\t<tr><td>Procedures       </td><td>TARSORRPHAPHY W/TRANS TARSAL PLATE                                               </td><td>1</td></tr>\n",
       "\t<tr><td>Procedures       </td><td>THERAPEUTIC TRANSCRANIAL REPETETIVE MAGNETIC STIM TX PLANNING                    </td><td>1</td></tr>\n",
       "\t<tr><td>Procedures       </td><td>Thoracentesis - R                                                                </td><td>1</td></tr>\n",
       "\t<tr><td>Procedures       </td><td>Thoracentesis - Right                                                            </td><td>1</td></tr>\n",
       "\t<tr><td>Procedures       </td><td>Thoracentesis -right                                                             </td><td>1</td></tr>\n",
       "\t<tr><td>Procedures       </td><td>Thoracentesis left                                                               </td><td>1</td></tr>\n",
       "\t<tr><td>Procedures       </td><td>Thoracentesis right                                                              </td><td>1</td></tr>\n",
       "\t<tr><td>Procedures       </td><td>Thoracentesis uncer US guidance                                                  </td><td>1</td></tr>\n",
       "\t<tr><td>Procedures       </td><td>TOBACCO USE CESSATION INTERVENTION, COUNSELING                                   </td><td>1</td></tr>\n",
       "\t<tr><td>Procedures       </td><td>TRACHEOTOMY TUBE CHANGE PRIOR TO ESTABLISHMENT OF FISTULA TRACT                  </td><td>1</td></tr>\n",
       "\t<tr><td>Procedures       </td><td>TRANSCATH OCCLU OR EMBOLIZ, PERCUTANEOUS, ANY METHOD, NON-CENTRAL NERVOUS  SYSTEM</td><td>1</td></tr>\n",
       "\t<tr><td>Procedures       </td><td>Transvenous pacing                                                               </td><td>1</td></tr>\n",
       "\t<tr><td>Procedures       </td><td>TREATMENT OF CORNEAL LESION                                                      </td><td>1</td></tr>\n",
       "\t<tr><td>Procedures       </td><td>TREATMENT OF MISCARRIAGE 1ST TRIMESTER                                           </td><td>1</td></tr>\n",
       "\t<tr><td>Procedures       </td><td>Trialysis                                                                        </td><td>1</td></tr>\n",
       "\t<tr><td>Procedures       </td><td>TRICHIASIS ONCE PER DAY WHEN CRYOSURGERY OR ELECTROSURGERY IS PERFORMED.         </td><td>1</td></tr>\n",
       "\t<tr><td>Procedures       </td><td>TX 360 BLOCK                                                                     </td><td>1</td></tr>\n",
       "\t<tr><td><span style=white-space:pre-wrap>Procedures       </span></td><td><span style=white-space:pre-wrap>TX SPEECH/LANG/VOICE &amp;/OR AUDITORY PROCESS                                       </span></td><td>1</td></tr>\n",
       "\t<tr><td><span style=white-space:pre-wrap>Procedures       </span></td><td><span style=white-space:pre-wrap>UHA DEBRIDEMENT OF NAIL(S) BY ANY METHOD(S) 6/&gt;                                  </span></td><td>1</td></tr>\n",
       "\t<tr><td>Procedures       </td><td>UNLIS PX NVRS SYS                                                                </td><td>1</td></tr>\n",
       "\t<tr><td>Procedures       </td><td>UNLISTED ALLERGY/CLINICAL IMMUNOLOGIC SERVCE                                     </td><td>1</td></tr>\n",
       "\t<tr><td>Procedures       </td><td>UPPR GI SCOPE W SUBMUC INJ                                                       </td><td>1</td></tr>\n",
       "\t<tr><td>Procedures       </td><td>USE PANEL ORDER                                                                  </td><td>1</td></tr>\n",
       "\t<tr><td>Procedures       </td><td>VERTEPORFIN INJECTION 0.1 MG                                                     </td><td>1</td></tr>\n",
       "\t<tr><td>Procedures       </td><td>WAVEFRONT-GUIDED LIFT SAME FLAP LASER                                            </td><td>1</td></tr>\n",
       "\t<tr><td>Procedures       </td><td>WEDGE EXCISION SKIN,NAIL FOLD(INGROWN TOENAIL)                                   </td><td>1</td></tr>\n",
       "\t<tr><td>Procedures       </td><td>WOUND VAC                                                                        </td><td>1</td></tr>\n",
       "\t<tr><td>Procedures       </td><td>XIAFLEX 0.1MG                                                                    </td><td>1</td></tr>\n",
       "\t<tr><td>Procedures       </td><td>XIAFLEX 0.9MG                                                                    </td><td>1</td></tr>\n",
       "\t<tr><td>vitals_train     </td><td>SBP_10                                                                           </td><td>1</td></tr>\n",
       "\t<tr><td>vitals_train_test</td><td>Pulse_10                                                                         </td><td>1</td></tr>\n",
       "\t<tr><td>vitals_train_test</td><td>SBP_10                                                                           </td><td>1</td></tr>\n",
       "</tbody>\n",
       "</table>\n"
      ],
      "text/latex": [
       "A grouped\\_df: 43357 × 3\n",
       "\\begin{tabular}{lll}\n",
       " feature\\_type & features & n\\\\\n",
       " <chr> & <chr> & <int>\\\\\n",
       "\\hline\n",
       "\t demo              & age                                        & 43980\\\\\n",
       "\t demo              & delta\\_ESI                                  & 43980\\\\\n",
       "\t demo              & delta\\_H                                    & 43980\\\\\n",
       "\t demo              & delta\\_W                                    & 43980\\\\\n",
       "\t demo              & English                                    & 43980\\\\\n",
       "\t demo              & ESI\\_i                                      & 43980\\\\\n",
       "\t demo              & gender                                     & 43980\\\\\n",
       "\t demo              & Height\\_i                                   & 43980\\\\\n",
       "\t demo              & insurance                                  & 43980\\\\\n",
       "\t demo              & race.Asian                                 & 43980\\\\\n",
       "\t demo              & race.Black                                 & 43980\\\\\n",
       "\t demo              & race.Native.American                       & 43980\\\\\n",
       "\t demo              & race.Other                                 & 43980\\\\\n",
       "\t demo              & race.Pacific.Islander                      & 43980\\\\\n",
       "\t demo              & race.Unknown                               & 43980\\\\\n",
       "\t demo              & race.White                                 & 43980\\\\\n",
       "\t demo              & Weight\\_i                                   & 43980\\\\\n",
       "\t Lab               & METABOLIC PANEL, COMPREHENSIVE             & 42223\\\\\n",
       "\t Lab               & CBC WITH DIFFERENTIAL                      & 41251\\\\\n",
       "\t vitals\\_train      & Temp\\_4                                     & 33392\\\\\n",
       "\t vitals\\_train\\_test & Temp\\_4                                     & 33392\\\\\n",
       "\t Lab               & URINALYSIS SCREEN, CULTURE IF POSITIVE     & 29174\\\\\n",
       "\t Lab               & PROTHROMBIN TIME                           & 28681\\\\\n",
       "\t Meds              & ONDANSETRON HCL (PF) 4 MG/2 ML INJ SOLN    & 26288\\\\\n",
       "\t vitals\\_train      & RR\\_3                                       & 26279\\\\\n",
       "\t vitals\\_train\\_test & RR\\_4                                       & 26279\\\\\n",
       "\t Lab               & PTT PARTIAL THROMBOPLASTIN TIME            & 24503\\\\\n",
       "\t Lab               & METABOLIC PANEL, BASIC                     & 23958\\\\\n",
       "\t Lab               & CBC W/O DIFF                               & 22879\\\\\n",
       "\t Lab               & MAGNESIUM, SERUM/PLASMA                    & 22648\\\\\n",
       "\t Meds              & ACETAMINOPHEN 325 MG PO TABS               & 21567\\\\\n",
       "\t Lab               & RAINBOW DRAW (FOR ED/RRT/CODE BLUE ONLY)   & 21392\\\\\n",
       "\t Diagnosis         & Z79.899                                    & 20746\\\\\n",
       "\t Meds              & NS IV BOLUS                                & 20517\\\\\n",
       "\t Diagnosis         & I10                                        & 19785\\\\\n",
       "\t vitals\\_train\\_test & RR\\_5                                       & 19047\\\\\n",
       "\t Lab               & TYPE AND SCREEN                            & 18775\\\\\n",
       "\t vitals\\_train      & RR\\_1                                       & 18341\\\\\n",
       "\t vitals\\_train\\_test & RR\\_2                                       & 18341\\\\\n",
       "\t Lab               & ABO/RH (ARI)                               & 17406\\\\\n",
       "\t vitals\\_train      & RR\\_5                                       & 17372\\\\\n",
       "\t Lab               & AB SCREEN (ASI)                            & 17259\\\\\n",
       "\t Lab               & TROPONIN I                                 & 16945\\\\\n",
       "\t vitals\\_train      & Temp\\_2                                     & 16215\\\\\n",
       "\t vitals\\_train\\_test & Temp\\_2                                     & 16215\\\\\n",
       "\t Lab               & LIPASE                                     & 15717\\\\\n",
       "\t Meds              & NALOXONE 0.4 MG/ML INJ SOLN                & 15518\\\\\n",
       "\t Meds              & POLYETHYLENE GLYCOL 3350 17 GRAM PO PWPK   & 15419\\\\\n",
       "\t Meds              & HYDROMORPHONE 1 MG/ML INJ SYRG             & 15217\\\\\n",
       "\t Meds              & DOCUSATE SODIUM 100 MG PO CAPS             & 15060\\\\\n",
       "\t Diagnosis         & E78.5                                      & 14663\\\\\n",
       "\t vitals\\_train      & DBP\\_6                                      & 14457\\\\\n",
       "\t vitals\\_train\\_test & DBP\\_3                                      & 14384\\\\\n",
       "\t Lab               & PHOSPHORUS, SERUM/PLASMA                   & 14061\\\\\n",
       "\t vitals\\_train\\_test & SBP\\_6                                      & 14013\\\\\n",
       "\t vitals\\_train\\_test & DBP\\_6                                      & 13922\\\\\n",
       "\t vitals\\_train      & SBP\\_3                                      & 13586\\\\\n",
       "\t Meds              & OXYCODONE 5 MG PO TABS                     & 13510\\\\\n",
       "\t Microbiology      & BLOOD CULTURE (AEROBIC \\& ANAEROBIC BOTTLE) & 13478\\\\\n",
       "\t Lab               & TSH                                        & 13358\\\\\n",
       "\t Lab               & HEMOGLOBIN A1C                             & 13273\\\\\n",
       "\t vitals\\_train      & DBP\\_5                                      & 13184\\\\\n",
       "\t vitals\\_train\\_test & DBP\\_5                                      & 13155\\\\\n",
       "\t Imaging           & XR CHEST 1 VIEW                            & 13127\\\\\n",
       "\t Diagnosis         & R06.02                                     & 13085\\\\\n",
       "\t vitals\\_train\\_test & DBP\\_4                                      & 13001\\\\\n",
       "\t vitals\\_train      & DBP\\_4                                      & 12979\\\\\n",
       "\t Meds              & NS IV BOLUS - 1000 ML                      & 12970\\\\\n",
       "\t Lab               & URINALYSIS WITH MICROSCOPIC                & 12969\\\\\n",
       "\t vitals\\_train      & SBP\\_7                                      & 12952\\\\\n",
       "\t vitals\\_train      & DBP\\_8                                      & 12925\\\\\n",
       "\t vitals\\_train      & SBP\\_4                                      & 12920\\\\\n",
       "\t vitals\\_train\\_test & SBP\\_4                                      & 12920\\\\\n",
       "\t vitals\\_train      & SBP\\_6                                      & 12857\\\\\n",
       "\t vitals\\_train      & Pulse\\_4                                    & 12725\\\\\n",
       "\t vitals\\_train\\_test & Pulse\\_4                                    & 12725\\\\\n",
       "\t vitals\\_train\\_test & SBP\\_7                                      & 12557\\\\\n",
       "\t vitals\\_train      & DBP\\_7                                      & 12505\\\\\n",
       "\t vitals\\_train      & SBP\\_5                                      & 12485\\\\\n",
       "\t vitals\\_train\\_test & SBP\\_5                                      & 12485\\\\\n",
       "\t Meds              & ONDANSETRON 4 MG PO TBDL                   & 12436\\\\\n",
       "\t Meds              & MIDAZOLAM 1 MG/ML INJ SOLN                 & 12427\\\\\n",
       "\t Diagnosis         & Z23                                        & 12285\\\\\n",
       "\t vitals\\_train\\_test & SBP\\_3                                      & 12274\\\\\n",
       "\t vitals\\_train\\_test & Pulse\\_7                                    & 12206\\\\\n",
       "\t vitals\\_train\\_test & DBP\\_8                                      & 12172\\\\\n",
       "\t vitals\\_train\\_test & DBP\\_7                                      & 12130\\\\\n",
       "\t vitals\\_train      & DBP\\_3                                      & 12104\\\\\n",
       "\t vitals\\_train\\_test & SBP\\_2                                      & 12075\\\\\n",
       "\t vitals\\_train      & Pulse\\_5                                    & 12049\\\\\n",
       "\t vitals\\_train\\_test & Pulse\\_5                                    & 12049\\\\\n",
       "\t Diagnosis         & Z01.818                                    & 11942\\\\\n",
       "\t vitals\\_train      & DBP\\_2                                      & 11912\\\\\n",
       "\t Meds              & SODIUM CHLORIDE 0.9 \\% 0.9 \\% IV SOLP        & 11874\\\\\n",
       "\t vitals\\_train      & Temp\\_0                                     & 11824\\\\\n",
       "\t vitals\\_train\\_test & Temp\\_0                                     & 11824\\\\\n",
       "\t vitals\\_train      & RR\\_6                                       & 11794\\\\\n",
       "\t vitals\\_train\\_test & RR\\_7                                       & 11794\\\\\n",
       "\t Meds              & DEXTROSE 50 \\% IN WATER (D50W) IV SYRG      & 11770\\\\\n",
       "\t Imaging           & XR CHEST 2 VIEWS                           & 11692\\\\\n",
       "\t ⋮ & ⋮ & ⋮\\\\\n",
       "\t Procedures        & NORMAL SALINE SOLUTION INFUSION 250 CC                                            & 1\\\\\n",
       "\t Procedures        & OPHTH BIOMETRY/PART INTERFEROMETRY W/INTRAOC 2ND EYE                              & 1\\\\\n",
       "\t Procedures        & OPHTHALMIC ULTRASOUND BIOMICROSCOPY(UBM)                                          & 1\\\\\n",
       "\t Procedures        & ORTHOTIC MANAGEMENT \\& TRAINING, EA 15MIN                                          & 1\\\\\n",
       "\t Procedures        & ORTHOVISC 15MG/2ML                                                                & 1\\\\\n",
       "\t Procedures        & OSCILLATING TRACKING TEST                                                         & 1\\\\\n",
       "\t Procedures        & OTO OTOACOUSTIC EMISSIONS,LIMITED MMC                                             & 1\\\\\n",
       "\t Procedures        & PENTAMIDINE AEROSOLIZED UHA                                                       & 1\\\\\n",
       "\t Procedures        & PESSARYW/RUBBER                                                                   & 1\\\\\n",
       "\t Procedures        & Pigtail Placemen in Left Chest                                                    & 1\\\\\n",
       "\t Procedures        & Pigtail placement                                                                 & 1\\\\\n",
       "\t Procedures        & PROCTOSIGMOIDOSCOPY                                                               & 1\\\\\n",
       "\t Procedures        & PROF SERV ALLERGEN IMMUNOTHERAPY 2/MORE INJ                                       & 1\\\\\n",
       "\t Procedures        & PRP INJECTION                                                                     & 1\\\\\n",
       "\t Procedures        & PRP SUPPLIES                                                                      & 1\\\\\n",
       "\t Procedures        & PSA SCREENING                                                                     & 1\\\\\n",
       "\t Procedures        & PSYCHOLOGICAL TESTING, PER HR-TECH                                                & 1\\\\\n",
       "\t Procedures        & PSYTX PT\\&/FAMILY 30 MINUTES                                                       & 1\\\\\n",
       "\t Procedures        & PSYTX PT\\&/FAMILY 45 MINUTES                                                       & 1\\\\\n",
       "\t Procedures        & PULM FUNCT TST PLETHYSMOGRAP                                                      & 1\\\\\n",
       "\t Procedures        & PULM FUNCTION TEST BY GAS                                                         & 1\\\\\n",
       "\t Procedures        & Pulmonary Artery Catheter Insertion                                               & 1\\\\\n",
       "\t Procedures        & PULMONARY STRESS TEST SIMPLE                                                      & 1\\\\\n",
       "\t Procedures        & PULSE OX FOR OX SAT, MULTIPLE READINGS                                            & 1\\\\\n",
       "\t Procedures        & RADIESSE                                                                          & 1\\\\\n",
       "\t Procedures        & reduction of R inguinal hernia                                                    & 1\\\\\n",
       "\t Procedures        & REMOVAL OF BENIGN SKIN LESION FCE/EAR/EYELD/NSE/LIP, 2.1-3.0 CM                   & 1\\\\\n",
       "\t Procedures        & REMOVAL OF BENIGN SKIN LESION SCLP/NCK/HNDS/FEET/GENIT.,4.0+CM                    & 1\\\\\n",
       "\t Procedures        & REMOVAL OF BENIGN SKIN LESION TRNK/ARM/LEG,0.5CM OR LESS                          & 1\\\\\n",
       "\t Procedures        & REMOVAL OF HEMORRHOID CLOT                                                        & 1\\\\\n",
       "\t Procedures        & REMOVAL OF INNER EYE FLUID                                                        & 1\\\\\n",
       "\t Procedures        & REMOVAL OF MALIG. SKIN LESION SCLP/NCK/HNDS/FEET/GENIT.,1.1-2.0 CM                & 1\\\\\n",
       "\t Procedures        & REMOVAL OF MALIG. SKIN LESION SCLP/NCK/HNDS/FEET/GENIT.,2.1-3.0 CM                & 1\\\\\n",
       "\t Procedures        & REMOVAL OF MALIG. SKIN LESION SCLP/NCK/HNDS/FEET/GENIT.,3.1-4.0 CM                & 1\\\\\n",
       "\t Procedures        & REMOVAL OF PERMANENT INTRAPERITON                                                 & 1\\\\\n",
       "\t Procedures        & REMOVAL OF SKIN TAGS, EACH ADD'L 10 TAGS, >15                                     & 1\\\\\n",
       "\t Procedures        & REMOVAL OF SUTURES                                                                & 1\\\\\n",
       "\t Procedures        & REMOVE IMPACTED EAR WAX UNI                                                       & 1\\\\\n",
       "\t Procedures        & REPAIR COMPLEX WOUND FHD/CHN/MTH/NCK/GEN/HND/FT, 1.1-2.5 CM                       & 1\\\\\n",
       "\t Procedures        & REPAIR EYELID DEFECT                                                              & 1\\\\\n",
       "\t Procedures        & REPAIR MODIFICATION OF A HEARING AID                                              & 1\\\\\n",
       "\t Procedures        & REPAIR SUPERFICIAL WOUND(S) SCLP/NCK/GEN/TRNK/EXT., 2.6-7.5 CM                    & 1\\\\\n",
       "\t Procedures        & Right IJ HD catheter - US guidance                                                & 1\\\\\n",
       "\t Procedures        & RMV WOUND TISS;NON-SELEC DEBRID W/O ANES/SESSION                                  & 1\\\\\n",
       "\t Procedures        & SEMEN ANALYSIS SPERM PRESENCE\\&/MOTILITY SPR                                       & 1\\\\\n",
       "\t Procedures        & SHAVE SKIN LESION FCE/EAR/EYELID/NSE/LIP/MM,0.5 CM OR LESS                        & 1\\\\\n",
       "\t Procedures        & SHAVE SKIN LESION TRUNK/ARMS/LEGS, 1.1-2.0 CM                                     & 1\\\\\n",
       "\t Procedures        & SHC TXP EXTERNAL BLOOD GASES (MANUAL ENTRY)                                       & 1\\\\\n",
       "\t Procedures        & SKIN SUBSTITUTE GRAFIX CORE 5X5 PER 1 SQ CM WASTE                                 & 1\\\\\n",
       "\t Procedures        & SKIN SUBSTITUTE, DERMAGRAFTR, PER 1 SQ CM                                         & 1\\\\\n",
       "\t Procedures        & SKIN TISSUE REARRANGE ADD-ON                                                      & 1\\\\\n",
       "\t Procedures        & SKYLA IUD                                                                         & 1\\\\\n",
       "\t Procedures        & SLCTV CATH PLMT VEN SYS 1ST ORDER BRANCH                                          & 1\\\\\n",
       "\t Procedures        & SMOKING AND TOBACCO USE CESSATION COUNSELING VISIT; INTS                          & 1\\\\\n",
       "\t Procedures        & SMR PRIM SRC WET MOUNT NFCT AGT                                                   & 1\\\\\n",
       "\t Procedures        & SNIP INC LACRIMAL PUNCTUM                                                         & 1\\\\\n",
       "\t Procedures        & SPEC STAINS HISTOCHEM STAINING FROZEN SCTJ                                        & 1\\\\\n",
       "\t Procedures        & SPECIAL REPORTS                                                                   & 1\\\\\n",
       "\t Procedures        & SPEECH/HEARING EVALUATION                                                         & 1\\\\\n",
       "\t Procedures        & SPIRACUR SNAP DEVICE                                                              & 1\\\\\n",
       "\t Procedures        & SPLINT                                                                            & 1\\\\\n",
       "\t Procedures        & STAPLE/SUTURE REMOVAL                                                             & 1\\\\\n",
       "\t Procedures        & STSG, TRUNK/ARMS/LEGS, 1ST 100 CM SQ                                              & 1\\\\\n",
       "\t Procedures        & SUPRAPUBIC BLADDER ASPIRATION                                                     & 1\\\\\n",
       "\t Procedures        & SURGICAL SUPPLIES, MISC                                                           & 1\\\\\n",
       "\t Procedures        & SURGICAL TRAY                                                                     & 1\\\\\n",
       "\t Procedures        & Suture Placement                                                                  & 1\\\\\n",
       "\t Procedures        & TAP BLOCK UNIL BY INJECTION                                                       & 1\\\\\n",
       "\t Procedures        & TARSORRPHAPHY W/TRANS TARSAL PLATE                                                & 1\\\\\n",
       "\t Procedures        & THERAPEUTIC TRANSCRANIAL REPETETIVE MAGNETIC STIM TX PLANNING                     & 1\\\\\n",
       "\t Procedures        & Thoracentesis - R                                                                 & 1\\\\\n",
       "\t Procedures        & Thoracentesis - Right                                                             & 1\\\\\n",
       "\t Procedures        & Thoracentesis -right                                                              & 1\\\\\n",
       "\t Procedures        & Thoracentesis left                                                                & 1\\\\\n",
       "\t Procedures        & Thoracentesis right                                                               & 1\\\\\n",
       "\t Procedures        & Thoracentesis uncer US guidance                                                   & 1\\\\\n",
       "\t Procedures        & TOBACCO USE CESSATION INTERVENTION, COUNSELING                                    & 1\\\\\n",
       "\t Procedures        & TRACHEOTOMY TUBE CHANGE PRIOR TO ESTABLISHMENT OF FISTULA TRACT                   & 1\\\\\n",
       "\t Procedures        & TRANSCATH OCCLU OR EMBOLIZ, PERCUTANEOUS, ANY METHOD, NON-CENTRAL NERVOUS  SYSTEM & 1\\\\\n",
       "\t Procedures        & Transvenous pacing                                                                & 1\\\\\n",
       "\t Procedures        & TREATMENT OF CORNEAL LESION                                                       & 1\\\\\n",
       "\t Procedures        & TREATMENT OF MISCARRIAGE 1ST TRIMESTER                                            & 1\\\\\n",
       "\t Procedures        & Trialysis                                                                         & 1\\\\\n",
       "\t Procedures        & TRICHIASIS ONCE PER DAY WHEN CRYOSURGERY OR ELECTROSURGERY IS PERFORMED.          & 1\\\\\n",
       "\t Procedures        & TX 360 BLOCK                                                                      & 1\\\\\n",
       "\t Procedures        & TX SPEECH/LANG/VOICE \\&/OR AUDITORY PROCESS                                        & 1\\\\\n",
       "\t Procedures        & UHA DEBRIDEMENT OF NAIL(S) BY ANY METHOD(S) 6/>                                   & 1\\\\\n",
       "\t Procedures        & UNLIS PX NVRS SYS                                                                 & 1\\\\\n",
       "\t Procedures        & UNLISTED ALLERGY/CLINICAL IMMUNOLOGIC SERVCE                                      & 1\\\\\n",
       "\t Procedures        & UPPR GI SCOPE W SUBMUC INJ                                                        & 1\\\\\n",
       "\t Procedures        & USE PANEL ORDER                                                                   & 1\\\\\n",
       "\t Procedures        & VERTEPORFIN INJECTION 0.1 MG                                                      & 1\\\\\n",
       "\t Procedures        & WAVEFRONT-GUIDED LIFT SAME FLAP LASER                                             & 1\\\\\n",
       "\t Procedures        & WEDGE EXCISION SKIN,NAIL FOLD(INGROWN TOENAIL)                                    & 1\\\\\n",
       "\t Procedures        & WOUND VAC                                                                         & 1\\\\\n",
       "\t Procedures        & XIAFLEX 0.1MG                                                                     & 1\\\\\n",
       "\t Procedures        & XIAFLEX 0.9MG                                                                     & 1\\\\\n",
       "\t vitals\\_train      & SBP\\_10                                                                            & 1\\\\\n",
       "\t vitals\\_train\\_test & Pulse\\_10                                                                          & 1\\\\\n",
       "\t vitals\\_train\\_test & SBP\\_10                                                                            & 1\\\\\n",
       "\\end{tabular}\n"
      ],
      "text/markdown": [
       "\n",
       "A grouped_df: 43357 × 3\n",
       "\n",
       "| feature_type &lt;chr&gt; | features &lt;chr&gt; | n &lt;int&gt; |\n",
       "|---|---|---|\n",
       "| demo              | age                                        | 43980 |\n",
       "| demo              | delta_ESI                                  | 43980 |\n",
       "| demo              | delta_H                                    | 43980 |\n",
       "| demo              | delta_W                                    | 43980 |\n",
       "| demo              | English                                    | 43980 |\n",
       "| demo              | ESI_i                                      | 43980 |\n",
       "| demo              | gender                                     | 43980 |\n",
       "| demo              | Height_i                                   | 43980 |\n",
       "| demo              | insurance                                  | 43980 |\n",
       "| demo              | race.Asian                                 | 43980 |\n",
       "| demo              | race.Black                                 | 43980 |\n",
       "| demo              | race.Native.American                       | 43980 |\n",
       "| demo              | race.Other                                 | 43980 |\n",
       "| demo              | race.Pacific.Islander                      | 43980 |\n",
       "| demo              | race.Unknown                               | 43980 |\n",
       "| demo              | race.White                                 | 43980 |\n",
       "| demo              | Weight_i                                   | 43980 |\n",
       "| Lab               | METABOLIC PANEL, COMPREHENSIVE             | 42223 |\n",
       "| Lab               | CBC WITH DIFFERENTIAL                      | 41251 |\n",
       "| vitals_train      | Temp_4                                     | 33392 |\n",
       "| vitals_train_test | Temp_4                                     | 33392 |\n",
       "| Lab               | URINALYSIS SCREEN, CULTURE IF POSITIVE     | 29174 |\n",
       "| Lab               | PROTHROMBIN TIME                           | 28681 |\n",
       "| Meds              | ONDANSETRON HCL (PF) 4 MG/2 ML INJ SOLN    | 26288 |\n",
       "| vitals_train      | RR_3                                       | 26279 |\n",
       "| vitals_train_test | RR_4                                       | 26279 |\n",
       "| Lab               | PTT PARTIAL THROMBOPLASTIN TIME            | 24503 |\n",
       "| Lab               | METABOLIC PANEL, BASIC                     | 23958 |\n",
       "| Lab               | CBC W/O DIFF                               | 22879 |\n",
       "| Lab               | MAGNESIUM, SERUM/PLASMA                    | 22648 |\n",
       "| Meds              | ACETAMINOPHEN 325 MG PO TABS               | 21567 |\n",
       "| Lab               | RAINBOW DRAW (FOR ED/RRT/CODE BLUE ONLY)   | 21392 |\n",
       "| Diagnosis         | Z79.899                                    | 20746 |\n",
       "| Meds              | NS IV BOLUS                                | 20517 |\n",
       "| Diagnosis         | I10                                        | 19785 |\n",
       "| vitals_train_test | RR_5                                       | 19047 |\n",
       "| Lab               | TYPE AND SCREEN                            | 18775 |\n",
       "| vitals_train      | RR_1                                       | 18341 |\n",
       "| vitals_train_test | RR_2                                       | 18341 |\n",
       "| Lab               | ABO/RH (ARI)                               | 17406 |\n",
       "| vitals_train      | RR_5                                       | 17372 |\n",
       "| Lab               | AB SCREEN (ASI)                            | 17259 |\n",
       "| Lab               | TROPONIN I                                 | 16945 |\n",
       "| vitals_train      | Temp_2                                     | 16215 |\n",
       "| vitals_train_test | Temp_2                                     | 16215 |\n",
       "| Lab               | LIPASE                                     | 15717 |\n",
       "| Meds              | NALOXONE 0.4 MG/ML INJ SOLN                | 15518 |\n",
       "| Meds              | POLYETHYLENE GLYCOL 3350 17 GRAM PO PWPK   | 15419 |\n",
       "| Meds              | HYDROMORPHONE 1 MG/ML INJ SYRG             | 15217 |\n",
       "| Meds              | DOCUSATE SODIUM 100 MG PO CAPS             | 15060 |\n",
       "| Diagnosis         | E78.5                                      | 14663 |\n",
       "| vitals_train      | DBP_6                                      | 14457 |\n",
       "| vitals_train_test | DBP_3                                      | 14384 |\n",
       "| Lab               | PHOSPHORUS, SERUM/PLASMA                   | 14061 |\n",
       "| vitals_train_test | SBP_6                                      | 14013 |\n",
       "| vitals_train_test | DBP_6                                      | 13922 |\n",
       "| vitals_train      | SBP_3                                      | 13586 |\n",
       "| Meds              | OXYCODONE 5 MG PO TABS                     | 13510 |\n",
       "| Microbiology      | BLOOD CULTURE (AEROBIC &amp; ANAEROBIC BOTTLE) | 13478 |\n",
       "| Lab               | TSH                                        | 13358 |\n",
       "| Lab               | HEMOGLOBIN A1C                             | 13273 |\n",
       "| vitals_train      | DBP_5                                      | 13184 |\n",
       "| vitals_train_test | DBP_5                                      | 13155 |\n",
       "| Imaging           | XR CHEST 1 VIEW                            | 13127 |\n",
       "| Diagnosis         | R06.02                                     | 13085 |\n",
       "| vitals_train_test | DBP_4                                      | 13001 |\n",
       "| vitals_train      | DBP_4                                      | 12979 |\n",
       "| Meds              | NS IV BOLUS - 1000 ML                      | 12970 |\n",
       "| Lab               | URINALYSIS WITH MICROSCOPIC                | 12969 |\n",
       "| vitals_train      | SBP_7                                      | 12952 |\n",
       "| vitals_train      | DBP_8                                      | 12925 |\n",
       "| vitals_train      | SBP_4                                      | 12920 |\n",
       "| vitals_train_test | SBP_4                                      | 12920 |\n",
       "| vitals_train      | SBP_6                                      | 12857 |\n",
       "| vitals_train      | Pulse_4                                    | 12725 |\n",
       "| vitals_train_test | Pulse_4                                    | 12725 |\n",
       "| vitals_train_test | SBP_7                                      | 12557 |\n",
       "| vitals_train      | DBP_7                                      | 12505 |\n",
       "| vitals_train      | SBP_5                                      | 12485 |\n",
       "| vitals_train_test | SBP_5                                      | 12485 |\n",
       "| Meds              | ONDANSETRON 4 MG PO TBDL                   | 12436 |\n",
       "| Meds              | MIDAZOLAM 1 MG/ML INJ SOLN                 | 12427 |\n",
       "| Diagnosis         | Z23                                        | 12285 |\n",
       "| vitals_train_test | SBP_3                                      | 12274 |\n",
       "| vitals_train_test | Pulse_7                                    | 12206 |\n",
       "| vitals_train_test | DBP_8                                      | 12172 |\n",
       "| vitals_train_test | DBP_7                                      | 12130 |\n",
       "| vitals_train      | DBP_3                                      | 12104 |\n",
       "| vitals_train_test | SBP_2                                      | 12075 |\n",
       "| vitals_train      | Pulse_5                                    | 12049 |\n",
       "| vitals_train_test | Pulse_5                                    | 12049 |\n",
       "| Diagnosis         | Z01.818                                    | 11942 |\n",
       "| vitals_train      | DBP_2                                      | 11912 |\n",
       "| Meds              | SODIUM CHLORIDE 0.9 % 0.9 % IV SOLP        | 11874 |\n",
       "| vitals_train      | Temp_0                                     | 11824 |\n",
       "| vitals_train_test | Temp_0                                     | 11824 |\n",
       "| vitals_train      | RR_6                                       | 11794 |\n",
       "| vitals_train_test | RR_7                                       | 11794 |\n",
       "| Meds              | DEXTROSE 50 % IN WATER (D50W) IV SYRG      | 11770 |\n",
       "| Imaging           | XR CHEST 2 VIEWS                           | 11692 |\n",
       "| ⋮ | ⋮ | ⋮ |\n",
       "| Procedures        | NORMAL SALINE SOLUTION INFUSION 250 CC                                            | 1 |\n",
       "| Procedures        | OPHTH BIOMETRY/PART INTERFEROMETRY W/INTRAOC 2ND EYE                              | 1 |\n",
       "| Procedures        | OPHTHALMIC ULTRASOUND BIOMICROSCOPY(UBM)                                          | 1 |\n",
       "| Procedures        | ORTHOTIC MANAGEMENT &amp; TRAINING, EA 15MIN                                          | 1 |\n",
       "| Procedures        | ORTHOVISC 15MG/2ML                                                                | 1 |\n",
       "| Procedures        | OSCILLATING TRACKING TEST                                                         | 1 |\n",
       "| Procedures        | OTO OTOACOUSTIC EMISSIONS,LIMITED MMC                                             | 1 |\n",
       "| Procedures        | PENTAMIDINE AEROSOLIZED UHA                                                       | 1 |\n",
       "| Procedures        | PESSARYW/RUBBER                                                                   | 1 |\n",
       "| Procedures        | Pigtail Placemen in Left Chest                                                    | 1 |\n",
       "| Procedures        | Pigtail placement                                                                 | 1 |\n",
       "| Procedures        | PROCTOSIGMOIDOSCOPY                                                               | 1 |\n",
       "| Procedures        | PROF SERV ALLERGEN IMMUNOTHERAPY 2/MORE INJ                                       | 1 |\n",
       "| Procedures        | PRP INJECTION                                                                     | 1 |\n",
       "| Procedures        | PRP SUPPLIES                                                                      | 1 |\n",
       "| Procedures        | PSA SCREENING                                                                     | 1 |\n",
       "| Procedures        | PSYCHOLOGICAL TESTING, PER HR-TECH                                                | 1 |\n",
       "| Procedures        | PSYTX PT&amp;/FAMILY 30 MINUTES                                                       | 1 |\n",
       "| Procedures        | PSYTX PT&amp;/FAMILY 45 MINUTES                                                       | 1 |\n",
       "| Procedures        | PULM FUNCT TST PLETHYSMOGRAP                                                      | 1 |\n",
       "| Procedures        | PULM FUNCTION TEST BY GAS                                                         | 1 |\n",
       "| Procedures        | Pulmonary Artery Catheter Insertion                                               | 1 |\n",
       "| Procedures        | PULMONARY STRESS TEST SIMPLE                                                      | 1 |\n",
       "| Procedures        | PULSE OX FOR OX SAT, MULTIPLE READINGS                                            | 1 |\n",
       "| Procedures        | RADIESSE                                                                          | 1 |\n",
       "| Procedures        | reduction of R inguinal hernia                                                    | 1 |\n",
       "| Procedures        | REMOVAL OF BENIGN SKIN LESION FCE/EAR/EYELD/NSE/LIP, 2.1-3.0 CM                   | 1 |\n",
       "| Procedures        | REMOVAL OF BENIGN SKIN LESION SCLP/NCK/HNDS/FEET/GENIT.,4.0+CM                    | 1 |\n",
       "| Procedures        | REMOVAL OF BENIGN SKIN LESION TRNK/ARM/LEG,0.5CM OR LESS                          | 1 |\n",
       "| Procedures        | REMOVAL OF HEMORRHOID CLOT                                                        | 1 |\n",
       "| Procedures        | REMOVAL OF INNER EYE FLUID                                                        | 1 |\n",
       "| Procedures        | REMOVAL OF MALIG. SKIN LESION SCLP/NCK/HNDS/FEET/GENIT.,1.1-2.0 CM                | 1 |\n",
       "| Procedures        | REMOVAL OF MALIG. SKIN LESION SCLP/NCK/HNDS/FEET/GENIT.,2.1-3.0 CM                | 1 |\n",
       "| Procedures        | REMOVAL OF MALIG. SKIN LESION SCLP/NCK/HNDS/FEET/GENIT.,3.1-4.0 CM                | 1 |\n",
       "| Procedures        | REMOVAL OF PERMANENT INTRAPERITON                                                 | 1 |\n",
       "| Procedures        | REMOVAL OF SKIN TAGS, EACH ADD'L 10 TAGS, &gt;15                                     | 1 |\n",
       "| Procedures        | REMOVAL OF SUTURES                                                                | 1 |\n",
       "| Procedures        | REMOVE IMPACTED EAR WAX UNI                                                       | 1 |\n",
       "| Procedures        | REPAIR COMPLEX WOUND FHD/CHN/MTH/NCK/GEN/HND/FT, 1.1-2.5 CM                       | 1 |\n",
       "| Procedures        | REPAIR EYELID DEFECT                                                              | 1 |\n",
       "| Procedures        | REPAIR MODIFICATION OF A HEARING AID                                              | 1 |\n",
       "| Procedures        | REPAIR SUPERFICIAL WOUND(S) SCLP/NCK/GEN/TRNK/EXT., 2.6-7.5 CM                    | 1 |\n",
       "| Procedures        | Right IJ HD catheter - US guidance                                                | 1 |\n",
       "| Procedures        | RMV WOUND TISS;NON-SELEC DEBRID W/O ANES/SESSION                                  | 1 |\n",
       "| Procedures        | SEMEN ANALYSIS SPERM PRESENCE&amp;/MOTILITY SPR                                       | 1 |\n",
       "| Procedures        | SHAVE SKIN LESION FCE/EAR/EYELID/NSE/LIP/MM,0.5 CM OR LESS                        | 1 |\n",
       "| Procedures        | SHAVE SKIN LESION TRUNK/ARMS/LEGS, 1.1-2.0 CM                                     | 1 |\n",
       "| Procedures        | SHC TXP EXTERNAL BLOOD GASES (MANUAL ENTRY)                                       | 1 |\n",
       "| Procedures        | SKIN SUBSTITUTE GRAFIX CORE 5X5 PER 1 SQ CM WASTE                                 | 1 |\n",
       "| Procedures        | SKIN SUBSTITUTE, DERMAGRAFTR, PER 1 SQ CM                                         | 1 |\n",
       "| Procedures        | SKIN TISSUE REARRANGE ADD-ON                                                      | 1 |\n",
       "| Procedures        | SKYLA IUD                                                                         | 1 |\n",
       "| Procedures        | SLCTV CATH PLMT VEN SYS 1ST ORDER BRANCH                                          | 1 |\n",
       "| Procedures        | SMOKING AND TOBACCO USE CESSATION COUNSELING VISIT; INTS                          | 1 |\n",
       "| Procedures        | SMR PRIM SRC WET MOUNT NFCT AGT                                                   | 1 |\n",
       "| Procedures        | SNIP INC LACRIMAL PUNCTUM                                                         | 1 |\n",
       "| Procedures        | SPEC STAINS HISTOCHEM STAINING FROZEN SCTJ                                        | 1 |\n",
       "| Procedures        | SPECIAL REPORTS                                                                   | 1 |\n",
       "| Procedures        | SPEECH/HEARING EVALUATION                                                         | 1 |\n",
       "| Procedures        | SPIRACUR SNAP DEVICE                                                              | 1 |\n",
       "| Procedures        | SPLINT                                                                            | 1 |\n",
       "| Procedures        | STAPLE/SUTURE REMOVAL                                                             | 1 |\n",
       "| Procedures        | STSG, TRUNK/ARMS/LEGS, 1ST 100 CM SQ                                              | 1 |\n",
       "| Procedures        | SUPRAPUBIC BLADDER ASPIRATION                                                     | 1 |\n",
       "| Procedures        | SURGICAL SUPPLIES, MISC                                                           | 1 |\n",
       "| Procedures        | SURGICAL TRAY                                                                     | 1 |\n",
       "| Procedures        | Suture Placement                                                                  | 1 |\n",
       "| Procedures        | TAP BLOCK UNIL BY INJECTION                                                       | 1 |\n",
       "| Procedures        | TARSORRPHAPHY W/TRANS TARSAL PLATE                                                | 1 |\n",
       "| Procedures        | THERAPEUTIC TRANSCRANIAL REPETETIVE MAGNETIC STIM TX PLANNING                     | 1 |\n",
       "| Procedures        | Thoracentesis - R                                                                 | 1 |\n",
       "| Procedures        | Thoracentesis - Right                                                             | 1 |\n",
       "| Procedures        | Thoracentesis -right                                                              | 1 |\n",
       "| Procedures        | Thoracentesis left                                                                | 1 |\n",
       "| Procedures        | Thoracentesis right                                                               | 1 |\n",
       "| Procedures        | Thoracentesis uncer US guidance                                                   | 1 |\n",
       "| Procedures        | TOBACCO USE CESSATION INTERVENTION, COUNSELING                                    | 1 |\n",
       "| Procedures        | TRACHEOTOMY TUBE CHANGE PRIOR TO ESTABLISHMENT OF FISTULA TRACT                   | 1 |\n",
       "| Procedures        | TRANSCATH OCCLU OR EMBOLIZ, PERCUTANEOUS, ANY METHOD, NON-CENTRAL NERVOUS  SYSTEM | 1 |\n",
       "| Procedures        | Transvenous pacing                                                                | 1 |\n",
       "| Procedures        | TREATMENT OF CORNEAL LESION                                                       | 1 |\n",
       "| Procedures        | TREATMENT OF MISCARRIAGE 1ST TRIMESTER                                            | 1 |\n",
       "| Procedures        | Trialysis                                                                         | 1 |\n",
       "| Procedures        | TRICHIASIS ONCE PER DAY WHEN CRYOSURGERY OR ELECTROSURGERY IS PERFORMED.          | 1 |\n",
       "| Procedures        | TX 360 BLOCK                                                                      | 1 |\n",
       "| Procedures        | TX SPEECH/LANG/VOICE &amp;/OR AUDITORY PROCESS                                        | 1 |\n",
       "| Procedures        | UHA DEBRIDEMENT OF NAIL(S) BY ANY METHOD(S) 6/&gt;                                   | 1 |\n",
       "| Procedures        | UNLIS PX NVRS SYS                                                                 | 1 |\n",
       "| Procedures        | UNLISTED ALLERGY/CLINICAL IMMUNOLOGIC SERVCE                                      | 1 |\n",
       "| Procedures        | UPPR GI SCOPE W SUBMUC INJ                                                        | 1 |\n",
       "| Procedures        | USE PANEL ORDER                                                                   | 1 |\n",
       "| Procedures        | VERTEPORFIN INJECTION 0.1 MG                                                      | 1 |\n",
       "| Procedures        | WAVEFRONT-GUIDED LIFT SAME FLAP LASER                                             | 1 |\n",
       "| Procedures        | WEDGE EXCISION SKIN,NAIL FOLD(INGROWN TOENAIL)                                    | 1 |\n",
       "| Procedures        | WOUND VAC                                                                         | 1 |\n",
       "| Procedures        | XIAFLEX 0.1MG                                                                     | 1 |\n",
       "| Procedures        | XIAFLEX 0.9MG                                                                     | 1 |\n",
       "| vitals_train      | SBP_10                                                                            | 1 |\n",
       "| vitals_train_test | Pulse_10                                                                          | 1 |\n",
       "| vitals_train_test | SBP_10                                                                            | 1 |\n",
       "\n"
      ],
      "text/plain": [
       "      feature_type     \n",
       "1     demo             \n",
       "2     demo             \n",
       "3     demo             \n",
       "4     demo             \n",
       "5     demo             \n",
       "6     demo             \n",
       "7     demo             \n",
       "8     demo             \n",
       "9     demo             \n",
       "10    demo             \n",
       "11    demo             \n",
       "12    demo             \n",
       "13    demo             \n",
       "14    demo             \n",
       "15    demo             \n",
       "16    demo             \n",
       "17    demo             \n",
       "18    Lab              \n",
       "19    Lab              \n",
       "20    vitals_train     \n",
       "21    vitals_train_test\n",
       "22    Lab              \n",
       "23    Lab              \n",
       "24    Meds             \n",
       "25    vitals_train     \n",
       "26    vitals_train_test\n",
       "27    Lab              \n",
       "28    Lab              \n",
       "29    Lab              \n",
       "30    Lab              \n",
       "31    Meds             \n",
       "32    Lab              \n",
       "33    Diagnosis        \n",
       "34    Meds             \n",
       "35    Diagnosis        \n",
       "36    vitals_train_test\n",
       "37    Lab              \n",
       "38    vitals_train     \n",
       "39    vitals_train_test\n",
       "40    Lab              \n",
       "41    vitals_train     \n",
       "42    Lab              \n",
       "43    Lab              \n",
       "44    vitals_train     \n",
       "45    vitals_train_test\n",
       "46    Lab              \n",
       "47    Meds             \n",
       "48    Meds             \n",
       "49    Meds             \n",
       "50    Meds             \n",
       "51    Diagnosis        \n",
       "52    vitals_train     \n",
       "53    vitals_train_test\n",
       "54    Lab              \n",
       "55    vitals_train_test\n",
       "56    vitals_train_test\n",
       "57    vitals_train     \n",
       "58    Meds             \n",
       "59    Microbiology     \n",
       "60    Lab              \n",
       "61    Lab              \n",
       "62    vitals_train     \n",
       "63    vitals_train_test\n",
       "64    Imaging          \n",
       "65    Diagnosis        \n",
       "66    vitals_train_test\n",
       "67    vitals_train     \n",
       "68    Meds             \n",
       "69    Lab              \n",
       "70    vitals_train     \n",
       "71    vitals_train     \n",
       "72    vitals_train     \n",
       "73    vitals_train_test\n",
       "74    vitals_train     \n",
       "75    vitals_train     \n",
       "76    vitals_train_test\n",
       "77    vitals_train_test\n",
       "78    vitals_train     \n",
       "79    vitals_train     \n",
       "80    vitals_train_test\n",
       "81    Meds             \n",
       "82    Meds             \n",
       "83    Diagnosis        \n",
       "84    vitals_train_test\n",
       "85    vitals_train_test\n",
       "86    vitals_train_test\n",
       "87    vitals_train_test\n",
       "88    vitals_train     \n",
       "89    vitals_train_test\n",
       "90    vitals_train     \n",
       "91    vitals_train_test\n",
       "92    Diagnosis        \n",
       "93    vitals_train     \n",
       "94    Meds             \n",
       "95    vitals_train     \n",
       "96    vitals_train_test\n",
       "97    vitals_train     \n",
       "98    vitals_train_test\n",
       "99    Meds             \n",
       "100   Imaging          \n",
       "⋮     ⋮                \n",
       "43258 Procedures       \n",
       "43259 Procedures       \n",
       "43260 Procedures       \n",
       "43261 Procedures       \n",
       "43262 Procedures       \n",
       "43263 Procedures       \n",
       "43264 Procedures       \n",
       "43265 Procedures       \n",
       "43266 Procedures       \n",
       "43267 Procedures       \n",
       "43268 Procedures       \n",
       "43269 Procedures       \n",
       "43270 Procedures       \n",
       "43271 Procedures       \n",
       "43272 Procedures       \n",
       "43273 Procedures       \n",
       "43274 Procedures       \n",
       "43275 Procedures       \n",
       "43276 Procedures       \n",
       "43277 Procedures       \n",
       "43278 Procedures       \n",
       "43279 Procedures       \n",
       "43280 Procedures       \n",
       "43281 Procedures       \n",
       "43282 Procedures       \n",
       "43283 Procedures       \n",
       "43284 Procedures       \n",
       "43285 Procedures       \n",
       "43286 Procedures       \n",
       "43287 Procedures       \n",
       "43288 Procedures       \n",
       "43289 Procedures       \n",
       "43290 Procedures       \n",
       "43291 Procedures       \n",
       "43292 Procedures       \n",
       "43293 Procedures       \n",
       "43294 Procedures       \n",
       "43295 Procedures       \n",
       "43296 Procedures       \n",
       "43297 Procedures       \n",
       "43298 Procedures       \n",
       "43299 Procedures       \n",
       "43300 Procedures       \n",
       "43301 Procedures       \n",
       "43302 Procedures       \n",
       "43303 Procedures       \n",
       "43304 Procedures       \n",
       "43305 Procedures       \n",
       "43306 Procedures       \n",
       "43307 Procedures       \n",
       "43308 Procedures       \n",
       "43309 Procedures       \n",
       "43310 Procedures       \n",
       "43311 Procedures       \n",
       "43312 Procedures       \n",
       "43313 Procedures       \n",
       "43314 Procedures       \n",
       "43315 Procedures       \n",
       "43316 Procedures       \n",
       "43317 Procedures       \n",
       "43318 Procedures       \n",
       "43319 Procedures       \n",
       "43320 Procedures       \n",
       "43321 Procedures       \n",
       "43322 Procedures       \n",
       "43323 Procedures       \n",
       "43324 Procedures       \n",
       "43325 Procedures       \n",
       "43326 Procedures       \n",
       "43327 Procedures       \n",
       "43328 Procedures       \n",
       "43329 Procedures       \n",
       "43330 Procedures       \n",
       "43331 Procedures       \n",
       "43332 Procedures       \n",
       "43333 Procedures       \n",
       "43334 Procedures       \n",
       "43335 Procedures       \n",
       "43336 Procedures       \n",
       "43337 Procedures       \n",
       "43338 Procedures       \n",
       "43339 Procedures       \n",
       "43340 Procedures       \n",
       "43341 Procedures       \n",
       "43342 Procedures       \n",
       "43343 Procedures       \n",
       "43344 Procedures       \n",
       "43345 Procedures       \n",
       "43346 Procedures       \n",
       "43347 Procedures       \n",
       "43348 Procedures       \n",
       "43349 Procedures       \n",
       "43350 Procedures       \n",
       "43351 Procedures       \n",
       "43352 Procedures       \n",
       "43353 Procedures       \n",
       "43354 Procedures       \n",
       "43355 vitals_train     \n",
       "43356 vitals_train_test\n",
       "43357 vitals_train_test\n",
       "      features                                                                         \n",
       "1     age                                                                              \n",
       "2     delta_ESI                                                                        \n",
       "3     delta_H                                                                          \n",
       "4     delta_W                                                                          \n",
       "5     English                                                                          \n",
       "6     ESI_i                                                                            \n",
       "7     gender                                                                           \n",
       "8     Height_i                                                                         \n",
       "9     insurance                                                                        \n",
       "10    race.Asian                                                                       \n",
       "11    race.Black                                                                       \n",
       "12    race.Native.American                                                             \n",
       "13    race.Other                                                                       \n",
       "14    race.Pacific.Islander                                                            \n",
       "15    race.Unknown                                                                     \n",
       "16    race.White                                                                       \n",
       "17    Weight_i                                                                         \n",
       "18    METABOLIC PANEL, COMPREHENSIVE                                                   \n",
       "19    CBC WITH DIFFERENTIAL                                                            \n",
       "20    Temp_4                                                                           \n",
       "21    Temp_4                                                                           \n",
       "22    URINALYSIS SCREEN, CULTURE IF POSITIVE                                           \n",
       "23    PROTHROMBIN TIME                                                                 \n",
       "24    ONDANSETRON HCL (PF) 4 MG/2 ML INJ SOLN                                          \n",
       "25    RR_3                                                                             \n",
       "26    RR_4                                                                             \n",
       "27    PTT PARTIAL THROMBOPLASTIN TIME                                                  \n",
       "28    METABOLIC PANEL, BASIC                                                           \n",
       "29    CBC W/O DIFF                                                                     \n",
       "30    MAGNESIUM, SERUM/PLASMA                                                          \n",
       "31    ACETAMINOPHEN 325 MG PO TABS                                                     \n",
       "32    RAINBOW DRAW (FOR ED/RRT/CODE BLUE ONLY)                                         \n",
       "33    Z79.899                                                                          \n",
       "34    NS IV BOLUS                                                                      \n",
       "35    I10                                                                              \n",
       "36    RR_5                                                                             \n",
       "37    TYPE AND SCREEN                                                                  \n",
       "38    RR_1                                                                             \n",
       "39    RR_2                                                                             \n",
       "40    ABO/RH (ARI)                                                                     \n",
       "41    RR_5                                                                             \n",
       "42    AB SCREEN (ASI)                                                                  \n",
       "43    TROPONIN I                                                                       \n",
       "44    Temp_2                                                                           \n",
       "45    Temp_2                                                                           \n",
       "46    LIPASE                                                                           \n",
       "47    NALOXONE 0.4 MG/ML INJ SOLN                                                      \n",
       "48    POLYETHYLENE GLYCOL 3350 17 GRAM PO PWPK                                         \n",
       "49    HYDROMORPHONE 1 MG/ML INJ SYRG                                                   \n",
       "50    DOCUSATE SODIUM 100 MG PO CAPS                                                   \n",
       "51    E78.5                                                                            \n",
       "52    DBP_6                                                                            \n",
       "53    DBP_3                                                                            \n",
       "54    PHOSPHORUS, SERUM/PLASMA                                                         \n",
       "55    SBP_6                                                                            \n",
       "56    DBP_6                                                                            \n",
       "57    SBP_3                                                                            \n",
       "58    OXYCODONE 5 MG PO TABS                                                           \n",
       "59    BLOOD CULTURE (AEROBIC & ANAEROBIC BOTTLE)                                       \n",
       "60    TSH                                                                              \n",
       "61    HEMOGLOBIN A1C                                                                   \n",
       "62    DBP_5                                                                            \n",
       "63    DBP_5                                                                            \n",
       "64    XR CHEST 1 VIEW                                                                  \n",
       "65    R06.02                                                                           \n",
       "66    DBP_4                                                                            \n",
       "67    DBP_4                                                                            \n",
       "68    NS IV BOLUS - 1000 ML                                                            \n",
       "69    URINALYSIS WITH MICROSCOPIC                                                      \n",
       "70    SBP_7                                                                            \n",
       "71    DBP_8                                                                            \n",
       "72    SBP_4                                                                            \n",
       "73    SBP_4                                                                            \n",
       "74    SBP_6                                                                            \n",
       "75    Pulse_4                                                                          \n",
       "76    Pulse_4                                                                          \n",
       "77    SBP_7                                                                            \n",
       "78    DBP_7                                                                            \n",
       "79    SBP_5                                                                            \n",
       "80    SBP_5                                                                            \n",
       "81    ONDANSETRON 4 MG PO TBDL                                                         \n",
       "82    MIDAZOLAM 1 MG/ML INJ SOLN                                                       \n",
       "83    Z23                                                                              \n",
       "84    SBP_3                                                                            \n",
       "85    Pulse_7                                                                          \n",
       "86    DBP_8                                                                            \n",
       "87    DBP_7                                                                            \n",
       "88    DBP_3                                                                            \n",
       "89    SBP_2                                                                            \n",
       "90    Pulse_5                                                                          \n",
       "91    Pulse_5                                                                          \n",
       "92    Z01.818                                                                          \n",
       "93    DBP_2                                                                            \n",
       "94    SODIUM CHLORIDE 0.9 % 0.9 % IV SOLP                                              \n",
       "95    Temp_0                                                                           \n",
       "96    Temp_0                                                                           \n",
       "97    RR_6                                                                             \n",
       "98    RR_7                                                                             \n",
       "99    DEXTROSE 50 % IN WATER (D50W) IV SYRG                                            \n",
       "100   XR CHEST 2 VIEWS                                                                 \n",
       "⋮     ⋮                                                                                \n",
       "43258 NORMAL SALINE SOLUTION INFUSION 250 CC                                           \n",
       "43259 OPHTH BIOMETRY/PART INTERFEROMETRY W/INTRAOC 2ND EYE                             \n",
       "43260 OPHTHALMIC ULTRASOUND BIOMICROSCOPY(UBM)                                         \n",
       "43261 ORTHOTIC MANAGEMENT & TRAINING, EA 15MIN                                         \n",
       "43262 ORTHOVISC 15MG/2ML                                                               \n",
       "43263 OSCILLATING TRACKING TEST                                                        \n",
       "43264 OTO OTOACOUSTIC EMISSIONS,LIMITED MMC                                            \n",
       "43265 PENTAMIDINE AEROSOLIZED UHA                                                      \n",
       "43266 PESSARYW/RUBBER                                                                  \n",
       "43267 Pigtail Placemen in Left Chest                                                   \n",
       "43268 Pigtail placement                                                                \n",
       "43269 PROCTOSIGMOIDOSCOPY                                                              \n",
       "43270 PROF SERV ALLERGEN IMMUNOTHERAPY 2/MORE INJ                                      \n",
       "43271 PRP INJECTION                                                                    \n",
       "43272 PRP SUPPLIES                                                                     \n",
       "43273 PSA SCREENING                                                                    \n",
       "43274 PSYCHOLOGICAL TESTING, PER HR-TECH                                               \n",
       "43275 PSYTX PT&/FAMILY 30 MINUTES                                                      \n",
       "43276 PSYTX PT&/FAMILY 45 MINUTES                                                      \n",
       "43277 PULM FUNCT TST PLETHYSMOGRAP                                                     \n",
       "43278 PULM FUNCTION TEST BY GAS                                                        \n",
       "43279 Pulmonary Artery Catheter Insertion                                              \n",
       "43280 PULMONARY STRESS TEST SIMPLE                                                     \n",
       "43281 PULSE OX FOR OX SAT, MULTIPLE READINGS                                           \n",
       "43282 RADIESSE                                                                         \n",
       "43283 reduction of R inguinal hernia                                                   \n",
       "43284 REMOVAL OF BENIGN SKIN LESION FCE/EAR/EYELD/NSE/LIP, 2.1-3.0 CM                  \n",
       "43285 REMOVAL OF BENIGN SKIN LESION SCLP/NCK/HNDS/FEET/GENIT.,4.0+CM                   \n",
       "43286 REMOVAL OF BENIGN SKIN LESION TRNK/ARM/LEG,0.5CM OR LESS                         \n",
       "43287 REMOVAL OF HEMORRHOID CLOT                                                       \n",
       "43288 REMOVAL OF INNER EYE FLUID                                                       \n",
       "43289 REMOVAL OF MALIG. SKIN LESION SCLP/NCK/HNDS/FEET/GENIT.,1.1-2.0 CM               \n",
       "43290 REMOVAL OF MALIG. SKIN LESION SCLP/NCK/HNDS/FEET/GENIT.,2.1-3.0 CM               \n",
       "43291 REMOVAL OF MALIG. SKIN LESION SCLP/NCK/HNDS/FEET/GENIT.,3.1-4.0 CM               \n",
       "43292 REMOVAL OF PERMANENT INTRAPERITON                                                \n",
       "43293 REMOVAL OF SKIN TAGS, EACH ADD'L 10 TAGS, >15                                    \n",
       "43294 REMOVAL OF SUTURES                                                               \n",
       "43295 REMOVE IMPACTED EAR WAX UNI                                                      \n",
       "43296 REPAIR COMPLEX WOUND FHD/CHN/MTH/NCK/GEN/HND/FT, 1.1-2.5 CM                      \n",
       "43297 REPAIR EYELID DEFECT                                                             \n",
       "43298 REPAIR MODIFICATION OF A HEARING AID                                             \n",
       "43299 REPAIR SUPERFICIAL WOUND(S) SCLP/NCK/GEN/TRNK/EXT., 2.6-7.5 CM                   \n",
       "43300 Right IJ HD catheter - US guidance                                               \n",
       "43301 RMV WOUND TISS;NON-SELEC DEBRID W/O ANES/SESSION                                 \n",
       "43302 SEMEN ANALYSIS SPERM PRESENCE&/MOTILITY SPR                                      \n",
       "43303 SHAVE SKIN LESION FCE/EAR/EYELID/NSE/LIP/MM,0.5 CM OR LESS                       \n",
       "43304 SHAVE SKIN LESION TRUNK/ARMS/LEGS, 1.1-2.0 CM                                    \n",
       "43305 SHC TXP EXTERNAL BLOOD GASES (MANUAL ENTRY)                                      \n",
       "43306 SKIN SUBSTITUTE GRAFIX CORE 5X5 PER 1 SQ CM WASTE                                \n",
       "43307 SKIN SUBSTITUTE, DERMAGRAFTR, PER 1 SQ CM                                        \n",
       "43308 SKIN TISSUE REARRANGE ADD-ON                                                     \n",
       "43309 SKYLA IUD                                                                        \n",
       "43310 SLCTV CATH PLMT VEN SYS 1ST ORDER BRANCH                                         \n",
       "43311 SMOKING AND TOBACCO USE CESSATION COUNSELING VISIT; INTS                         \n",
       "43312 SMR PRIM SRC WET MOUNT NFCT AGT                                                  \n",
       "43313 SNIP INC LACRIMAL PUNCTUM                                                        \n",
       "43314 SPEC STAINS HISTOCHEM STAINING FROZEN SCTJ                                       \n",
       "43315 SPECIAL REPORTS                                                                  \n",
       "43316 SPEECH/HEARING EVALUATION                                                        \n",
       "43317 SPIRACUR SNAP DEVICE                                                             \n",
       "43318 SPLINT                                                                           \n",
       "43319 STAPLE/SUTURE REMOVAL                                                            \n",
       "43320 STSG, TRUNK/ARMS/LEGS, 1ST 100 CM SQ                                             \n",
       "43321 SUPRAPUBIC BLADDER ASPIRATION                                                    \n",
       "43322 SURGICAL SUPPLIES, MISC                                                          \n",
       "43323 SURGICAL TRAY                                                                    \n",
       "43324 Suture Placement                                                                 \n",
       "43325 TAP BLOCK UNIL BY INJECTION                                                      \n",
       "43326 TARSORRPHAPHY W/TRANS TARSAL PLATE                                               \n",
       "43327 THERAPEUTIC TRANSCRANIAL REPETETIVE MAGNETIC STIM TX PLANNING                    \n",
       "43328 Thoracentesis - R                                                                \n",
       "43329 Thoracentesis - Right                                                            \n",
       "43330 Thoracentesis -right                                                             \n",
       "43331 Thoracentesis left                                                               \n",
       "43332 Thoracentesis right                                                              \n",
       "43333 Thoracentesis uncer US guidance                                                  \n",
       "43334 TOBACCO USE CESSATION INTERVENTION, COUNSELING                                   \n",
       "43335 TRACHEOTOMY TUBE CHANGE PRIOR TO ESTABLISHMENT OF FISTULA TRACT                  \n",
       "43336 TRANSCATH OCCLU OR EMBOLIZ, PERCUTANEOUS, ANY METHOD, NON-CENTRAL NERVOUS  SYSTEM\n",
       "43337 Transvenous pacing                                                               \n",
       "43338 TREATMENT OF CORNEAL LESION                                                      \n",
       "43339 TREATMENT OF MISCARRIAGE 1ST TRIMESTER                                           \n",
       "43340 Trialysis                                                                        \n",
       "43341 TRICHIASIS ONCE PER DAY WHEN CRYOSURGERY OR ELECTROSURGERY IS PERFORMED.         \n",
       "43342 TX 360 BLOCK                                                                     \n",
       "43343 TX SPEECH/LANG/VOICE &/OR AUDITORY PROCESS                                       \n",
       "43344 UHA DEBRIDEMENT OF NAIL(S) BY ANY METHOD(S) 6/>                                  \n",
       "43345 UNLIS PX NVRS SYS                                                                \n",
       "43346 UNLISTED ALLERGY/CLINICAL IMMUNOLOGIC SERVCE                                     \n",
       "43347 UPPR GI SCOPE W SUBMUC INJ                                                       \n",
       "43348 USE PANEL ORDER                                                                  \n",
       "43349 VERTEPORFIN INJECTION 0.1 MG                                                     \n",
       "43350 WAVEFRONT-GUIDED LIFT SAME FLAP LASER                                            \n",
       "43351 WEDGE EXCISION SKIN,NAIL FOLD(INGROWN TOENAIL)                                   \n",
       "43352 WOUND VAC                                                                        \n",
       "43353 XIAFLEX 0.1MG                                                                    \n",
       "43354 XIAFLEX 0.9MG                                                                    \n",
       "43355 SBP_10                                                                           \n",
       "43356 Pulse_10                                                                         \n",
       "43357 SBP_10                                                                           \n",
       "      n    \n",
       "1     43980\n",
       "2     43980\n",
       "3     43980\n",
       "4     43980\n",
       "5     43980\n",
       "6     43980\n",
       "7     43980\n",
       "8     43980\n",
       "9     43980\n",
       "10    43980\n",
       "11    43980\n",
       "12    43980\n",
       "13    43980\n",
       "14    43980\n",
       "15    43980\n",
       "16    43980\n",
       "17    43980\n",
       "18    42223\n",
       "19    41251\n",
       "20    33392\n",
       "21    33392\n",
       "22    29174\n",
       "23    28681\n",
       "24    26288\n",
       "25    26279\n",
       "26    26279\n",
       "27    24503\n",
       "28    23958\n",
       "29    22879\n",
       "30    22648\n",
       "31    21567\n",
       "32    21392\n",
       "33    20746\n",
       "34    20517\n",
       "35    19785\n",
       "36    19047\n",
       "37    18775\n",
       "38    18341\n",
       "39    18341\n",
       "40    17406\n",
       "41    17372\n",
       "42    17259\n",
       "43    16945\n",
       "44    16215\n",
       "45    16215\n",
       "46    15717\n",
       "47    15518\n",
       "48    15419\n",
       "49    15217\n",
       "50    15060\n",
       "51    14663\n",
       "52    14457\n",
       "53    14384\n",
       "54    14061\n",
       "55    14013\n",
       "56    13922\n",
       "57    13586\n",
       "58    13510\n",
       "59    13478\n",
       "60    13358\n",
       "61    13273\n",
       "62    13184\n",
       "63    13155\n",
       "64    13127\n",
       "65    13085\n",
       "66    13001\n",
       "67    12979\n",
       "68    12970\n",
       "69    12969\n",
       "70    12952\n",
       "71    12925\n",
       "72    12920\n",
       "73    12920\n",
       "74    12857\n",
       "75    12725\n",
       "76    12725\n",
       "77    12557\n",
       "78    12505\n",
       "79    12485\n",
       "80    12485\n",
       "81    12436\n",
       "82    12427\n",
       "83    12285\n",
       "84    12274\n",
       "85    12206\n",
       "86    12172\n",
       "87    12130\n",
       "88    12104\n",
       "89    12075\n",
       "90    12049\n",
       "91    12049\n",
       "92    11942\n",
       "93    11912\n",
       "94    11874\n",
       "95    11824\n",
       "96    11824\n",
       "97    11794\n",
       "98    11794\n",
       "99    11770\n",
       "100   11692\n",
       "⋮     ⋮    \n",
       "43258 1    \n",
       "43259 1    \n",
       "43260 1    \n",
       "43261 1    \n",
       "43262 1    \n",
       "43263 1    \n",
       "43264 1    \n",
       "43265 1    \n",
       "43266 1    \n",
       "43267 1    \n",
       "43268 1    \n",
       "43269 1    \n",
       "43270 1    \n",
       "43271 1    \n",
       "43272 1    \n",
       "43273 1    \n",
       "43274 1    \n",
       "43275 1    \n",
       "43276 1    \n",
       "43277 1    \n",
       "43278 1    \n",
       "43279 1    \n",
       "43280 1    \n",
       "43281 1    \n",
       "43282 1    \n",
       "43283 1    \n",
       "43284 1    \n",
       "43285 1    \n",
       "43286 1    \n",
       "43287 1    \n",
       "43288 1    \n",
       "43289 1    \n",
       "43290 1    \n",
       "43291 1    \n",
       "43292 1    \n",
       "43293 1    \n",
       "43294 1    \n",
       "43295 1    \n",
       "43296 1    \n",
       "43297 1    \n",
       "43298 1    \n",
       "43299 1    \n",
       "43300 1    \n",
       "43301 1    \n",
       "43302 1    \n",
       "43303 1    \n",
       "43304 1    \n",
       "43305 1    \n",
       "43306 1    \n",
       "43307 1    \n",
       "43308 1    \n",
       "43309 1    \n",
       "43310 1    \n",
       "43311 1    \n",
       "43312 1    \n",
       "43313 1    \n",
       "43314 1    \n",
       "43315 1    \n",
       "43316 1    \n",
       "43317 1    \n",
       "43318 1    \n",
       "43319 1    \n",
       "43320 1    \n",
       "43321 1    \n",
       "43322 1    \n",
       "43323 1    \n",
       "43324 1    \n",
       "43325 1    \n",
       "43326 1    \n",
       "43327 1    \n",
       "43328 1    \n",
       "43329 1    \n",
       "43330 1    \n",
       "43331 1    \n",
       "43332 1    \n",
       "43333 1    \n",
       "43334 1    \n",
       "43335 1    \n",
       "43336 1    \n",
       "43337 1    \n",
       "43338 1    \n",
       "43339 1    \n",
       "43340 1    \n",
       "43341 1    \n",
       "43342 1    \n",
       "43343 1    \n",
       "43344 1    \n",
       "43345 1    \n",
       "43346 1    \n",
       "43347 1    \n",
       "43348 1    \n",
       "43349 1    \n",
       "43350 1    \n",
       "43351 1    \n",
       "43352 1    \n",
       "43353 1    \n",
       "43354 1    \n",
       "43355 1    \n",
       "43356 1    \n",
       "43357 1    "
      ]
     },
     "metadata": {},
     "output_type": "display_data"
    }
   ],
   "source": [
    "features_all %>% group_by(feature_type, features) %>% count(sort=TRUE) # 43356 vs 42752 "
   ]
  },
  {
   "cell_type": "code",
   "execution_count": 39,
   "id": "a04251fc",
   "metadata": {},
   "outputs": [
    {
     "data": {
      "text/html": [
       "<table class=\"dataframe\">\n",
       "<caption>A data.frame: 6 × 6</caption>\n",
       "<thead>\n",
       "\t<tr><th></th><th scope=col>anon_id</th><th scope=col>pat_enc_csn_id_coded</th><th scope=col>admit_time</th><th scope=col>feature_type</th><th scope=col>features</th><th scope=col>values</th></tr>\n",
       "\t<tr><th></th><th scope=col>&lt;chr&gt;</th><th scope=col>&lt;dbl&gt;</th><th scope=col>&lt;chr&gt;</th><th scope=col>&lt;chr&gt;</th><th scope=col>&lt;chr&gt;</th><th scope=col>&lt;dbl&gt;</th></tr>\n",
       "</thead>\n",
       "<tbody>\n",
       "\t<tr><th scope=row>1</th><td>JC29f8ad2</td><td>131274729058</td><td>2019-08-31 12:52:00+00:00</td><td>demo</td><td>ESI_i</td><td>3</td></tr>\n",
       "\t<tr><th scope=row>2</th><td>JC29f8ad3</td><td>131278291027</td><td>2019-10-05 23:48:00+00:00</td><td>demo</td><td>ESI_i</td><td>3</td></tr>\n",
       "\t<tr><th scope=row>3</th><td>JC29f8b9c</td><td>131266787806</td><td>2019-05-05 01:07:00+00:00</td><td>demo</td><td>ESI_i</td><td>2</td></tr>\n",
       "\t<tr><th scope=row>4</th><td>JC29f8beb</td><td>131264387263</td><td>2019-03-15 03:35:00+00:00</td><td>demo</td><td>ESI_i</td><td>3</td></tr>\n",
       "\t<tr><th scope=row>5</th><td>JC29f8beb</td><td>131279241689</td><td>2019-11-27 15:29:00+00:00</td><td>demo</td><td>ESI_i</td><td>3</td></tr>\n",
       "\t<tr><th scope=row>6</th><td>JC29f8bef</td><td>131280937356</td><td>2019-11-30 10:35:00+00:00</td><td>demo</td><td>ESI_i</td><td>3</td></tr>\n",
       "</tbody>\n",
       "</table>\n"
      ],
      "text/latex": [
       "A data.frame: 6 × 6\n",
       "\\begin{tabular}{r|llllll}\n",
       "  & anon\\_id & pat\\_enc\\_csn\\_id\\_coded & admit\\_time & feature\\_type & features & values\\\\\n",
       "  & <chr> & <dbl> & <chr> & <chr> & <chr> & <dbl>\\\\\n",
       "\\hline\n",
       "\t1 & JC29f8ad2 & 131274729058 & 2019-08-31 12:52:00+00:00 & demo & ESI\\_i & 3\\\\\n",
       "\t2 & JC29f8ad3 & 131278291027 & 2019-10-05 23:48:00+00:00 & demo & ESI\\_i & 3\\\\\n",
       "\t3 & JC29f8b9c & 131266787806 & 2019-05-05 01:07:00+00:00 & demo & ESI\\_i & 2\\\\\n",
       "\t4 & JC29f8beb & 131264387263 & 2019-03-15 03:35:00+00:00 & demo & ESI\\_i & 3\\\\\n",
       "\t5 & JC29f8beb & 131279241689 & 2019-11-27 15:29:00+00:00 & demo & ESI\\_i & 3\\\\\n",
       "\t6 & JC29f8bef & 131280937356 & 2019-11-30 10:35:00+00:00 & demo & ESI\\_i & 3\\\\\n",
       "\\end{tabular}\n"
      ],
      "text/markdown": [
       "\n",
       "A data.frame: 6 × 6\n",
       "\n",
       "| <!--/--> | anon_id &lt;chr&gt; | pat_enc_csn_id_coded &lt;dbl&gt; | admit_time &lt;chr&gt; | feature_type &lt;chr&gt; | features &lt;chr&gt; | values &lt;dbl&gt; |\n",
       "|---|---|---|---|---|---|---|\n",
       "| 1 | JC29f8ad2 | 131274729058 | 2019-08-31 12:52:00+00:00 | demo | ESI_i | 3 |\n",
       "| 2 | JC29f8ad3 | 131278291027 | 2019-10-05 23:48:00+00:00 | demo | ESI_i | 3 |\n",
       "| 3 | JC29f8b9c | 131266787806 | 2019-05-05 01:07:00+00:00 | demo | ESI_i | 2 |\n",
       "| 4 | JC29f8beb | 131264387263 | 2019-03-15 03:35:00+00:00 | demo | ESI_i | 3 |\n",
       "| 5 | JC29f8beb | 131279241689 | 2019-11-27 15:29:00+00:00 | demo | ESI_i | 3 |\n",
       "| 6 | JC29f8bef | 131280937356 | 2019-11-30 10:35:00+00:00 | demo | ESI_i | 3 |\n",
       "\n"
      ],
      "text/plain": [
       "  anon_id   pat_enc_csn_id_coded admit_time                feature_type\n",
       "1 JC29f8ad2 131274729058         2019-08-31 12:52:00+00:00 demo        \n",
       "2 JC29f8ad3 131278291027         2019-10-05 23:48:00+00:00 demo        \n",
       "3 JC29f8b9c 131266787806         2019-05-05 01:07:00+00:00 demo        \n",
       "4 JC29f8beb 131264387263         2019-03-15 03:35:00+00:00 demo        \n",
       "5 JC29f8beb 131279241689         2019-11-27 15:29:00+00:00 demo        \n",
       "6 JC29f8bef 131280937356         2019-11-30 10:35:00+00:00 demo        \n",
       "  features values\n",
       "1 ESI_i    3     \n",
       "2 ESI_i    3     \n",
       "3 ESI_i    2     \n",
       "4 ESI_i    3     \n",
       "5 ESI_i    3     \n",
       "6 ESI_i    3     "
      ]
     },
     "metadata": {},
     "output_type": "display_data"
    }
   ],
   "source": [
    "head(features_all)"
   ]
  },
  {
   "cell_type": "code",
   "execution_count": 40,
   "id": "a7e721cb",
   "metadata": {},
   "outputs": [
    {
     "data": {
      "text/html": [
       "10486641"
      ],
      "text/latex": [
       "10486641"
      ],
      "text/markdown": [
       "10486641"
      ],
      "text/plain": [
       "[1] 10486641"
      ]
     },
     "metadata": {},
     "output_type": "display_data"
    },
    {
     "data": {
      "text/plain": [
       "    Min.  1st Qu.   Median     Mean  3rd Qu.     Max. \n",
       "   0.000    1.000    1.000    3.336    2.000 1078.000 "
      ]
     },
     "metadata": {},
     "output_type": "display_data"
    }
   ],
   "source": [
    "nrow(features_all) #10529994 vs 10086505 vs updated coh4 10486641\n",
    "summary(features_all$values)\n",
    "# sum(is.na(features_all$first_label))"
   ]
  },
  {
   "cell_type": "code",
   "execution_count": 41,
   "id": "62252344",
   "metadata": {},
   "outputs": [],
   "source": [
    "features_all_year <- features_all %>% mutate(year = year(admit_time))"
   ]
  },
  {
   "cell_type": "code",
   "execution_count": 42,
   "id": "e25c85d5",
   "metadata": {},
   "outputs": [
    {
     "data": {
      "text/html": [
       "<table class=\"dataframe\">\n",
       "<caption>A grouped_df: 6 × 2</caption>\n",
       "<thead>\n",
       "\t<tr><th scope=col>year</th><th scope=col>n</th></tr>\n",
       "\t<tr><th scope=col>&lt;dbl&gt;</th><th scope=col>&lt;int&gt;</th></tr>\n",
       "</thead>\n",
       "<tbody>\n",
       "\t<tr><td>2015</td><td>2017816</td></tr>\n",
       "\t<tr><td>2016</td><td>1658549</td></tr>\n",
       "\t<tr><td>2017</td><td>1634383</td></tr>\n",
       "\t<tr><td>2018</td><td>2181789</td></tr>\n",
       "\t<tr><td>2019</td><td>2417385</td></tr>\n",
       "\t<tr><td>2020</td><td> 576719</td></tr>\n",
       "</tbody>\n",
       "</table>\n"
      ],
      "text/latex": [
       "A grouped\\_df: 6 × 2\n",
       "\\begin{tabular}{ll}\n",
       " year & n\\\\\n",
       " <dbl> & <int>\\\\\n",
       "\\hline\n",
       "\t 2015 & 2017816\\\\\n",
       "\t 2016 & 1658549\\\\\n",
       "\t 2017 & 1634383\\\\\n",
       "\t 2018 & 2181789\\\\\n",
       "\t 2019 & 2417385\\\\\n",
       "\t 2020 &  576719\\\\\n",
       "\\end{tabular}\n"
      ],
      "text/markdown": [
       "\n",
       "A grouped_df: 6 × 2\n",
       "\n",
       "| year &lt;dbl&gt; | n &lt;int&gt; |\n",
       "|---|---|\n",
       "| 2015 | 2017816 |\n",
       "| 2016 | 1658549 |\n",
       "| 2017 | 1634383 |\n",
       "| 2018 | 2181789 |\n",
       "| 2019 | 2417385 |\n",
       "| 2020 |  576719 |\n",
       "\n"
      ],
      "text/plain": [
       "  year n      \n",
       "1 2015 2017816\n",
       "2 2016 1658549\n",
       "3 2017 1634383\n",
       "4 2018 2181789\n",
       "5 2019 2417385\n",
       "6 2020  576719"
      ]
     },
     "metadata": {},
     "output_type": "display_data"
    }
   ],
   "source": [
    "# coh4 updated\n",
    "features_all_year %>% group_by(year) %>% count()"
   ]
  },
  {
   "cell_type": "code",
   "execution_count": 143,
   "id": "196ede89",
   "metadata": {},
   "outputs": [
    {
     "data": {
      "text/html": [
       "<table class=\"dataframe\">\n",
       "<caption>A grouped_df: 6 × 2</caption>\n",
       "<thead>\n",
       "\t<tr><th scope=col>year</th><th scope=col>n</th></tr>\n",
       "\t<tr><th scope=col>&lt;dbl&gt;</th><th scope=col>&lt;int&gt;</th></tr>\n",
       "</thead>\n",
       "<tbody>\n",
       "\t<tr><td>2015</td><td>2037462</td></tr>\n",
       "\t<tr><td>2016</td><td>1669123</td></tr>\n",
       "\t<tr><td>2017</td><td>1638834</td></tr>\n",
       "\t<tr><td>2018</td><td>2185662</td></tr>\n",
       "\t<tr><td>2019</td><td>2421534</td></tr>\n",
       "\t<tr><td>2020</td><td> 577379</td></tr>\n",
       "</tbody>\n",
       "</table>\n"
      ],
      "text/latex": [
       "A grouped\\_df: 6 × 2\n",
       "\\begin{tabular}{ll}\n",
       " year & n\\\\\n",
       " <dbl> & <int>\\\\\n",
       "\\hline\n",
       "\t 2015 & 2037462\\\\\n",
       "\t 2016 & 1669123\\\\\n",
       "\t 2017 & 1638834\\\\\n",
       "\t 2018 & 2185662\\\\\n",
       "\t 2019 & 2421534\\\\\n",
       "\t 2020 &  577379\\\\\n",
       "\\end{tabular}\n"
      ],
      "text/markdown": [
       "\n",
       "A grouped_df: 6 × 2\n",
       "\n",
       "| year &lt;dbl&gt; | n &lt;int&gt; |\n",
       "|---|---|\n",
       "| 2015 | 2037462 |\n",
       "| 2016 | 1669123 |\n",
       "| 2017 | 1638834 |\n",
       "| 2018 | 2185662 |\n",
       "| 2019 | 2421534 |\n",
       "| 2020 |  577379 |\n",
       "\n"
      ],
      "text/plain": [
       "  year n      \n",
       "1 2015 2037462\n",
       "2 2016 1669123\n",
       "3 2017 1638834\n",
       "4 2018 2185662\n",
       "5 2019 2421534\n",
       "6 2020  577379"
      ]
     },
     "metadata": {},
     "output_type": "display_data"
    }
   ],
   "source": [
    "#coh4\n",
    "features_all_year %>% group_by(year) %>% count()"
   ]
  },
  {
   "cell_type": "code",
   "execution_count": 43,
   "id": "e8a2f0c3",
   "metadata": {},
   "outputs": [],
   "source": [
    "# write.csv(features_all_year, file = file.path(featuredir, \"2_9_coh4_features_all_long_year.csv\"), row.names=FALSE) \n",
    "write.csv(features_all_year, file = file.path(featuredir, \"2_9_coh4_24hrpreadmit_features_all_long_year.csv\"), row.names=FALSE) "
   ]
  },
  {
   "cell_type": "raw",
   "id": "08f789ad",
   "metadata": {},
   "source": [
    "# this is not correct\n",
    "features5 <- features_all_year %>% filter(pat_enc_csn_id_coded %in% cohort5$pat_enc_csn_id_coded)\n",
    "nrow(features5) #10087257"
   ]
  },
  {
   "cell_type": "raw",
   "id": "c95b457a",
   "metadata": {},
   "source": [
    "write.csv(features_all_year, file = file.path(featuredir, \"2_9_coh5_features_all_long_year.csv\"), row.names=FALSE) "
   ]
  },
  {
   "cell_type": "markdown",
   "id": "0f2f6a09",
   "metadata": {},
   "source": [
    "### TEST - OLD \n",
    "with 2_9_features_all_long.csv did not contain testbins with Conor's code, in SQL"
   ]
  },
  {
   "cell_type": "code",
   "execution_count": 106,
   "id": "99b4f8ec",
   "metadata": {},
   "outputs": [
    {
     "data": {
      "text/html": [
       "8258975"
      ],
      "text/latex": [
       "8258975"
      ],
      "text/markdown": [
       "8258975"
      ],
      "text/plain": [
       "[1] 8258975"
      ]
     },
     "metadata": {},
     "output_type": "display_data"
    },
    {
     "data": {
      "text/html": [
       "8258975"
      ],
      "text/latex": [
       "8258975"
      ],
      "text/markdown": [
       "8258975"
      ],
      "text/plain": [
       "[1] 8258975"
      ]
     },
     "metadata": {},
     "output_type": "display_data"
    },
    {
     "data": {
      "text/html": [
       "FALSE"
      ],
      "text/latex": [
       "FALSE"
      ],
      "text/markdown": [
       "FALSE"
      ],
      "text/plain": [
       "[1] FALSE"
      ]
     },
     "metadata": {},
     "output_type": "display_data"
    },
    {
     "data": {
      "text/html": [
       "<style>\n",
       ".list-inline {list-style: none; margin:0; padding: 0}\n",
       ".list-inline>li {display: inline-block}\n",
       ".list-inline>li:not(:last-child)::after {content: \"\\00b7\"; padding: 0 .5ex}\n",
       "</style>\n",
       "<ol class=list-inline><li>'Component “anon_id”: 8257416 string mismatches'</li><li>'Component “pat_enc_csn_id_coded”: Mean relative difference: 0.0005188065'</li><li>'Component “admit_time”: 8258716 string mismatches'</li><li>'Component “feature_type”: 6592107 string mismatches'</li><li>'Component “features”: 8250486 string mismatches'</li><li>'Component “values”: Mean relative difference: 1.638'</li></ol>\n"
      ],
      "text/latex": [
       "\\begin{enumerate*}\n",
       "\\item 'Component “anon\\_id”: 8257416 string mismatches'\n",
       "\\item 'Component “pat\\_enc\\_csn\\_id\\_coded”: Mean relative difference: 0.0005188065'\n",
       "\\item 'Component “admit\\_time”: 8258716 string mismatches'\n",
       "\\item 'Component “feature\\_type”: 6592107 string mismatches'\n",
       "\\item 'Component “features”: 8250486 string mismatches'\n",
       "\\item 'Component “values”: Mean relative difference: 1.638'\n",
       "\\end{enumerate*}\n"
      ],
      "text/markdown": [
       "1. 'Component “anon_id”: 8257416 string mismatches'\n",
       "2. 'Component “pat_enc_csn_id_coded”: Mean relative difference: 0.0005188065'\n",
       "3. 'Component “admit_time”: 8258716 string mismatches'\n",
       "4. 'Component “feature_type”: 6592107 string mismatches'\n",
       "5. 'Component “features”: 8250486 string mismatches'\n",
       "6. 'Component “values”: Mean relative difference: 1.638'\n",
       "\n",
       "\n"
      ],
      "text/plain": [
       "[1] \"Component “anon_id”: 8257416 string mismatches\"                          \n",
       "[2] \"Component “pat_enc_csn_id_coded”: Mean relative difference: 0.0005188065\"\n",
       "[3] \"Component “admit_time”: 8258716 string mismatches\"                       \n",
       "[4] \"Component “feature_type”: 6592107 string mismatches\"                     \n",
       "[5] \"Component “features”: 8250486 string mismatches\"                         \n",
       "[6] \"Component “values”: Mean relative difference: 1.638\"                     "
      ]
     },
     "metadata": {},
     "output_type": "display_data"
    }
   ],
   "source": [
    "yr <- read.csv(file.path(featuredir, '2_9_features_all_long_year.csv'))\n",
    "yr0 <- yr %>% select(-year)\n",
    "nrow(yr0)\n",
    "nrow(features_all)\n",
    "identical(yr0, features_all)\n",
    "all.equal(yr0,features_all)"
   ]
  },
  {
   "cell_type": "code",
   "execution_count": 108,
   "id": "50796ed2",
   "metadata": {},
   "outputs": [],
   "source": [
    "yr0 <- yr0 %>% arrange(anon_id, pat_enc_csn_id_coded, admit_time, feature_type, features, values)\n",
    "ft <- features_all %>% arrange(anon_id, pat_enc_csn_id_coded, admit_time, feature_type, features, values)"
   ]
  },
  {
   "cell_type": "code",
   "execution_count": 109,
   "id": "cdc84ace",
   "metadata": {},
   "outputs": [
    {
     "data": {
      "text/html": [
       "TRUE"
      ],
      "text/latex": [
       "TRUE"
      ],
      "text/markdown": [
       "TRUE"
      ],
      "text/plain": [
       "[1] TRUE"
      ]
     },
     "metadata": {},
     "output_type": "display_data"
    },
    {
     "data": {
      "text/html": [
       "TRUE"
      ],
      "text/latex": [
       "TRUE"
      ],
      "text/markdown": [
       "TRUE"
      ],
      "text/plain": [
       "[1] TRUE"
      ]
     },
     "metadata": {},
     "output_type": "display_data"
    }
   ],
   "source": [
    "identical(yr0, ft)\n",
    "all.equal(yr0, ft)"
   ]
  },
  {
   "cell_type": "code",
   "execution_count": 100,
   "id": "424e4061",
   "metadata": {},
   "outputs": [
    {
     "name": "stderr",
     "output_type": "stream",
     "text": [
      "Joining, by = c(\"anon_id\", \"pat_enc_csn_id_coded\", \"admit_time\", \"feature_type\", \"features\", \"values\")\n",
      "\n"
     ]
    }
   ],
   "source": [
    "joined <- inner_join(yr, features_all)"
   ]
  },
  {
   "cell_type": "code",
   "execution_count": 101,
   "id": "7f7c7fcc",
   "metadata": {},
   "outputs": [
    {
     "data": {
      "text/plain": [
       "   anon_id          pat_enc_csn_id_coded  admit_time        feature_type      \n",
       " Length:8258975     Min.   :1.311e+11    Length:8258975     Length:8258975    \n",
       " Class :character   1st Qu.:1.312e+11    Class :character   Class :character  \n",
       " Mode  :character   Median :1.312e+11    Mode  :character   Mode  :character  \n",
       "                    Mean   :1.312e+11                                         \n",
       "                    3rd Qu.:1.313e+11                                         \n",
       "                    Max.   :1.313e+11                                         \n",
       "   features             values              year     \n",
       " Length:8258975     Min.   :   0.000   Min.   :2015  \n",
       " Class :character   1st Qu.:   1.000   1st Qu.:2016  \n",
       " Mode  :character   Median :   1.000   Median :2017  \n",
       "                    Mean   :   3.721   Mean   :2017  \n",
       "                    3rd Qu.:   2.000   3rd Qu.:2019  \n",
       "                    Max.   :1078.000   Max.   :2020  "
      ]
     },
     "metadata": {},
     "output_type": "display_data"
    }
   ],
   "source": [
    "summary(joined)"
   ]
  },
  {
   "cell_type": "code",
   "execution_count": 104,
   "id": "9a28d7c8",
   "metadata": {},
   "outputs": [
    {
     "data": {
      "text/plain": [
       "   anon_id          pat_enc_csn_id_coded  admit_time        feature_type      \n",
       " Length:8258975     Min.   :1.311e+11    Length:8258975     Length:8258975    \n",
       " Class :character   1st Qu.:1.312e+11    Class :character   Class :character  \n",
       " Mode  :character   Median :1.312e+11    Mode  :character   Mode  :character  \n",
       "                    Mean   :1.312e+11                                         \n",
       "                    3rd Qu.:1.313e+11                                         \n",
       "                    Max.   :1.313e+11                                         \n",
       "   features             values              year     \n",
       " Length:8258975     Min.   :   0.000   Min.   :2015  \n",
       " Class :character   1st Qu.:   1.000   1st Qu.:2016  \n",
       " Mode  :character   Median :   1.000   Median :2017  \n",
       "                    Mean   :   3.721   Mean   :2017  \n",
       "                    3rd Qu.:   2.000   3rd Qu.:2019  \n",
       "                    Max.   :1078.000   Max.   :2020  "
      ]
     },
     "metadata": {},
     "output_type": "display_data"
    }
   ],
   "source": [
    "summary(yr)"
   ]
  },
  {
   "cell_type": "code",
   "execution_count": 105,
   "id": "8f723ac3",
   "metadata": {},
   "outputs": [
    {
     "data": {
      "text/plain": [
       "   anon_id          pat_enc_csn_id_coded  admit_time        feature_type      \n",
       " Length:8258975     Min.   :1.311e+11    Length:8258975     Length:8258975    \n",
       " Class :character   1st Qu.:1.312e+11    Class :character   Class :character  \n",
       " Mode  :character   Median :1.312e+11    Mode  :character   Mode  :character  \n",
       "                    Mean   :1.312e+11                                         \n",
       "                    3rd Qu.:1.313e+11                                         \n",
       "                    Max.   :1.313e+11                                         \n",
       "   features             values        \n",
       " Length:8258975     Min.   :   0.000  \n",
       " Class :character   1st Qu.:   1.000  \n",
       " Mode  :character   Median :   1.000  \n",
       "                    Mean   :   3.721  \n",
       "                    3rd Qu.:   2.000  \n",
       "                    Max.   :1078.000  "
      ]
     },
     "metadata": {},
     "output_type": "display_data"
    }
   ],
   "source": [
    "summary(features_all)"
   ]
  }
 ],
 "metadata": {
  "environment": {
   "name": "r-cpu.4-0.m71",
   "type": "gcloud",
   "uri": "gcr.io/deeplearning-platform-release/r-cpu.4-0:m71"
  },
  "kernelspec": {
   "display_name": "R",
   "language": "R",
   "name": "ir"
  },
  "language_info": {
   "codemirror_mode": "r",
   "file_extension": ".r",
   "mimetype": "text/x-r-source",
   "name": "R",
   "pygments_lexer": "r",
   "version": "4.1.0"
  }
 },
 "nbformat": 4,
 "nbformat_minor": 5
}
