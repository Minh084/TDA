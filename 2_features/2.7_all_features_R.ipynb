{
 "cells": [
  {
   "cell_type": "markdown",
   "metadata": {},
   "source": [
    "### Descriptions:\n",
    "COHORT:\n",
    "- Original cohort queried from BQ, ER patients admitted to inpatients, 2015 - 2020, `1_1_cohort`: \n",
    "- Cohort with some other criteria, age >= 18 and full code only, `1_2_cohort`: \n",
    "- Cohort after removing patients without a complet set of vital signs, `1_3_cohort`: \n",
    "- *NEW*: cohort with labs: 1_3_cohort to query labs, then retain only those with at least a lab result, `cohort3L_withlabs`\n",
    "- Final cohort, with labels from Tiffany's, `1_4_cohort`: \n",
    "\n",
    "JOIN all features together first, then with the final cohort with labels:\n",
    "\n",
    "Inputs: \n",
    "- Final cohort with labels from  Tiffany\n",
    "- `2_3_coh2_vitals`: has all processed vital signs (not the summary stats)\n",
    "- `2_4_coh3_labs`: has all processed labs\n",
    "- `2_5_coh3_imputedHWESI`: has both demographics, imputed HW (with 1_2_cohort) and imputed ESI (with the latest cohort)\n",
    "\n",
    "Outputs: \n"
   ]
  },
  {
   "cell_type": "markdown",
   "metadata": {},
   "source": [
    "### Importing R libraries"
   ]
  },
  {
   "cell_type": "code",
   "execution_count": 11,
   "metadata": {
    "ExecuteTime": {
     "end_time": "2020-05-21T00:38:06.078240Z",
     "start_time": "2020-05-21T00:38:02.778Z"
    }
   },
   "outputs": [],
   "source": [
    "library(bigrquery)  # to query STARR-OMOP (stored in BigQuery) using SQL\n",
    "library(tidyverse)\n",
    "library(lubridate)\n",
    "# library(mice)\n",
    "# library(VIM) # for missing data plot\n",
    "\n",
    "# library(data.table)\n",
    "# library(Matrix)\n",
    "# library(caret) # import this before glmnet to avoid rlang version problem\n",
    "# library(glmnet)\n",
    "# library(bit64)\n",
    "\n",
    "# library(slam)\n",
    "# library(mtools) for one hot coder, not available on Nero or use caret or tidyr\n",
    "options(repr.matrix.max.rows=250, repr.matrix.max.cols=30)"
   ]
  },
  {
   "cell_type": "markdown",
   "metadata": {},
   "source": [
    "### Call back all datasets: \n",
    "* demographic with ESI\n",
    "* vitals with GCS (note that this data has 43320 rows, but for ESI imputation, remove those with GCS as well, so we have 43291 left)\n",
    "* labs, still with 9999999 values"
   ]
  },
  {
   "cell_type": "code",
   "execution_count": 62,
   "metadata": {},
   "outputs": [
    {
     "data": {
      "text/html": [
       "41627"
      ],
      "text/latex": [
       "41627"
      ],
      "text/markdown": [
       "41627"
      ],
      "text/plain": [
       "[1] 41627"
      ]
     },
     "metadata": {},
     "output_type": "display_data"
    },
    {
     "data": {
      "text/html": [
       "1367422"
      ],
      "text/latex": [
       "1367422"
      ],
      "text/markdown": [
       "1367422"
      ],
      "text/plain": [
       "[1] 1367422"
      ]
     },
     "metadata": {},
     "output_type": "display_data"
    },
    {
     "data": {
      "text/html": [
       "44258"
      ],
      "text/latex": [
       "44258"
      ],
      "text/markdown": [
       "44258"
      ],
      "text/plain": [
       "[1] 44258"
      ]
     },
     "metadata": {},
     "output_type": "display_data"
    },
    {
     "data": {
      "text/html": [
       "1011224"
      ],
      "text/latex": [
       "1011224"
      ],
      "text/markdown": [
       "1011224"
      ],
      "text/plain": [
       "[1] 1011224"
      ]
     },
     "metadata": {},
     "output_type": "display_data"
    }
   ],
   "source": [
    "# read inputs\n",
    "datadir = \"../../DataTD\"\n",
    "cohortdir = \"../../OutputTD/1_cohort\"\n",
    "featuredir = \"../../OutputTD/2_features\"\n",
    "\n",
    "cohort <- read.csv(file.path(cohortdir, 'cohort3L_withlabs.csv'))\n",
    "nrow(cohort)\n",
    "\n",
    "labs0 <- read.csv(file.path(featuredir, '2_4_coh3_labs.csv'))\n",
    "nrow(labs0)\n",
    "\n",
    "demos <- read.csv(file.path(featuredir, '2_5_coh3_imputedHWESI.csv'))\n",
    "nrow(demos)\n",
    "\n",
    "vitals0 <- read.csv(file.path(featuredir, '2_3_coh2_vitals.csv'))\n",
    "nrow(vitals)\n"
   ]
  },
  {
   "cell_type": "code",
   "execution_count": 61,
   "metadata": {},
   "outputs": [
    {
     "data": {
      "text/html": [
       "44258"
      ],
      "text/latex": [
       "44258"
      ],
      "text/markdown": [
       "44258"
      ],
      "text/plain": [
       "[1] 44258"
      ]
     },
     "metadata": {},
     "output_type": "display_data"
    },
    {
     "data": {
      "text/html": [
       "44258"
      ],
      "text/latex": [
       "44258"
      ],
      "text/markdown": [
       "44258"
      ],
      "text/plain": [
       "[1] 44258"
      ]
     },
     "metadata": {},
     "output_type": "display_data"
    },
    {
     "data": {
      "text/html": [
       "45613"
      ],
      "text/latex": [
       "45613"
      ],
      "text/markdown": [
       "45613"
      ],
      "text/plain": [
       "[1] 45613"
      ]
     },
     "metadata": {},
     "output_type": "display_data"
    },
    {
     "data": {
      "text/html": [
       "45613"
      ],
      "text/latex": [
       "45613"
      ],
      "text/markdown": [
       "45613"
      ],
      "text/plain": [
       "[1] 45613"
      ]
     },
     "metadata": {},
     "output_type": "display_data"
    },
    {
     "data": {
      "text/html": [
       "41627"
      ],
      "text/latex": [
       "41627"
      ],
      "text/markdown": [
       "41627"
      ],
      "text/plain": [
       "[1] 41627"
      ]
     },
     "metadata": {},
     "output_type": "display_data"
    },
    {
     "data": {
      "text/html": [
       "41627"
      ],
      "text/latex": [
       "41627"
      ],
      "text/markdown": [
       "41627"
      ],
      "text/plain": [
       "[1] 41627"
      ]
     },
     "metadata": {},
     "output_type": "display_data"
    },
    {
     "data": {
      "text/html": [
       "2631"
      ],
      "text/latex": [
       "2631"
      ],
      "text/markdown": [
       "2631"
      ],
      "text/plain": [
       "[1] 2631"
      ]
     },
     "metadata": {},
     "output_type": "display_data"
    },
    {
     "data": {
      "text/html": [
       "3986"
      ],
      "text/latex": [
       "3986"
      ],
      "text/markdown": [
       "3986"
      ],
      "text/plain": [
       "[1] 3986"
      ]
     },
     "metadata": {},
     "output_type": "display_data"
    },
    {
     "data": {
      "text/html": [
       "0"
      ],
      "text/latex": [
       "0"
      ],
      "text/markdown": [
       "0"
      ],
      "text/plain": [
       "[1] 0"
      ]
     },
     "metadata": {},
     "output_type": "display_data"
    }
   ],
   "source": [
    "nrow(demos %>% select(anon_id, pat_enc_csn_id_coded) %>% distinct())\n",
    "length(unique(demos$pat_enc_csn_id_coded)) # 3nd cohort, 44258\n",
    "\n",
    "nrow(vitals0 %>% select(anon_id, pat_enc_csn_id_coded) %>% distinct())\n",
    "length(unique(vitals0$pat_enc_csn_id_coded)) # 2nd cohort, larger 45613\n",
    "\n",
    "nrow(labs0 %>% select(anon_id, pat_enc_csn_id_coded) %>% distinct()) # 41627\n",
    "length(unique(labs0$pat_enc_csn_id_coded)) # 41627 (similar before, labs have less than cohort)\n",
    "\n",
    "length(setdiff(demos$pat_enc_csn_id_coded, cohort$pat_enc_csn_id_coded)) #2631 in A, not B, 0\n",
    "length(setdiff(vitals0$pat_enc_csn_id_coded, cohort$pat_enc_csn_id_coded)) #3986\n",
    "length(setdiff(labs0$pat_enc_csn_id_coded, cohort$pat_enc_csn_id_coded)) # 0\n"
   ]
  },
  {
   "cell_type": "code",
   "execution_count": 65,
   "metadata": {},
   "outputs": [
    {
     "data": {
      "text/html": [
       "<table class=\"dataframe\">\n",
       "<caption>A data.frame: 1 × 5</caption>\n",
       "<thead>\n",
       "\t<tr><th></th><th scope=col>anon_id</th><th scope=col>pat_enc_csn_id_coded</th><th scope=col>inpatient_data_id_coded</th><th scope=col>admit_time</th><th scope=col>label</th></tr>\n",
       "\t<tr><th></th><th scope=col>&lt;chr&gt;</th><th scope=col>&lt;dbl&gt;</th><th scope=col>&lt;int&gt;</th><th scope=col>&lt;chr&gt;</th><th scope=col>&lt;int&gt;</th></tr>\n",
       "</thead>\n",
       "<tbody>\n",
       "\t<tr><th scope=row>1</th><td>JCe33305</td><td>131063880385</td><td>13777312</td><td>2015-01-04 08:11:00+00:00</td><td>0</td></tr>\n",
       "</tbody>\n",
       "</table>\n"
      ],
      "text/latex": [
       "A data.frame: 1 × 5\n",
       "\\begin{tabular}{r|lllll}\n",
       "  & anon\\_id & pat\\_enc\\_csn\\_id\\_coded & inpatient\\_data\\_id\\_coded & admit\\_time & label\\\\\n",
       "  & <chr> & <dbl> & <int> & <chr> & <int>\\\\\n",
       "\\hline\n",
       "\t1 & JCe33305 & 131063880385 & 13777312 & 2015-01-04 08:11:00+00:00 & 0\\\\\n",
       "\\end{tabular}\n"
      ],
      "text/markdown": [
       "\n",
       "A data.frame: 1 × 5\n",
       "\n",
       "| <!--/--> | anon_id &lt;chr&gt; | pat_enc_csn_id_coded &lt;dbl&gt; | inpatient_data_id_coded &lt;int&gt; | admit_time &lt;chr&gt; | label &lt;int&gt; |\n",
       "|---|---|---|---|---|---|\n",
       "| 1 | JCe33305 | 131063880385 | 13777312 | 2015-01-04 08:11:00+00:00 | 0 |\n",
       "\n"
      ],
      "text/plain": [
       "  anon_id  pat_enc_csn_id_coded inpatient_data_id_coded\n",
       "1 JCe33305 131063880385         13777312               \n",
       "  admit_time                label\n",
       "1 2015-01-04 08:11:00+00:00 0    "
      ]
     },
     "metadata": {},
     "output_type": "display_data"
    },
    {
     "data": {
      "text/html": [
       "<table class=\"dataframe\">\n",
       "<caption>A data.frame: 1 × 22</caption>\n",
       "<thead>\n",
       "\t<tr><th></th><th scope=col>anon_id</th><th scope=col>pat_enc_csn_id_coded</th><th scope=col>inpatient_data_id_coded</th><th scope=col>admit_time</th><th scope=col>label</th><th scope=col>ESI_i</th><th scope=col>delta_ESI</th><th scope=col>gender</th><th scope=col>age</th><th scope=col>insurance</th><th scope=col>English</th><th scope=col>Height_i</th><th scope=col>delta_H</th><th scope=col>Weight_i</th><th scope=col>delta_W</th><th scope=col>race.Asian</th><th scope=col>race.Black</th><th scope=col>race.Native.American</th><th scope=col>race.Other</th><th scope=col>race.Pacific.Islander</th><th scope=col>race.Unknown</th><th scope=col>race.White</th></tr>\n",
       "\t<tr><th></th><th scope=col>&lt;chr&gt;</th><th scope=col>&lt;dbl&gt;</th><th scope=col>&lt;int&gt;</th><th scope=col>&lt;chr&gt;</th><th scope=col>&lt;int&gt;</th><th scope=col>&lt;int&gt;</th><th scope=col>&lt;int&gt;</th><th scope=col>&lt;int&gt;</th><th scope=col>&lt;int&gt;</th><th scope=col>&lt;int&gt;</th><th scope=col>&lt;int&gt;</th><th scope=col>&lt;dbl&gt;</th><th scope=col>&lt;int&gt;</th><th scope=col>&lt;dbl&gt;</th><th scope=col>&lt;int&gt;</th><th scope=col>&lt;int&gt;</th><th scope=col>&lt;int&gt;</th><th scope=col>&lt;int&gt;</th><th scope=col>&lt;int&gt;</th><th scope=col>&lt;int&gt;</th><th scope=col>&lt;int&gt;</th><th scope=col>&lt;int&gt;</th></tr>\n",
       "</thead>\n",
       "<tbody>\n",
       "\t<tr><th scope=row>1</th><td>JC29f8ad2</td><td>131274729058</td><td>40679773</td><td>2019-08-31 12:52:00</td><td>0</td><td>3</td><td>0</td><td>1</td><td>52</td><td>1</td><td>1</td><td>165</td><td>0</td><td>81</td><td>0</td><td>0</td><td>0</td><td>0</td><td>0</td><td>0</td><td>0</td><td>1</td></tr>\n",
       "</tbody>\n",
       "</table>\n"
      ],
      "text/latex": [
       "A data.frame: 1 × 22\n",
       "\\begin{tabular}{r|llllllllllllllllllllll}\n",
       "  & anon\\_id & pat\\_enc\\_csn\\_id\\_coded & inpatient\\_data\\_id\\_coded & admit\\_time & label & ESI\\_i & delta\\_ESI & gender & age & insurance & English & Height\\_i & delta\\_H & Weight\\_i & delta\\_W & race.Asian & race.Black & race.Native.American & race.Other & race.Pacific.Islander & race.Unknown & race.White\\\\\n",
       "  & <chr> & <dbl> & <int> & <chr> & <int> & <int> & <int> & <int> & <int> & <int> & <int> & <dbl> & <int> & <dbl> & <int> & <int> & <int> & <int> & <int> & <int> & <int> & <int>\\\\\n",
       "\\hline\n",
       "\t1 & JC29f8ad2 & 131274729058 & 40679773 & 2019-08-31 12:52:00 & 0 & 3 & 0 & 1 & 52 & 1 & 1 & 165 & 0 & 81 & 0 & 0 & 0 & 0 & 0 & 0 & 0 & 1\\\\\n",
       "\\end{tabular}\n"
      ],
      "text/markdown": [
       "\n",
       "A data.frame: 1 × 22\n",
       "\n",
       "| <!--/--> | anon_id &lt;chr&gt; | pat_enc_csn_id_coded &lt;dbl&gt; | inpatient_data_id_coded &lt;int&gt; | admit_time &lt;chr&gt; | label &lt;int&gt; | ESI_i &lt;int&gt; | delta_ESI &lt;int&gt; | gender &lt;int&gt; | age &lt;int&gt; | insurance &lt;int&gt; | English &lt;int&gt; | Height_i &lt;dbl&gt; | delta_H &lt;int&gt; | Weight_i &lt;dbl&gt; | delta_W &lt;int&gt; | race.Asian &lt;int&gt; | race.Black &lt;int&gt; | race.Native.American &lt;int&gt; | race.Other &lt;int&gt; | race.Pacific.Islander &lt;int&gt; | race.Unknown &lt;int&gt; | race.White &lt;int&gt; |\n",
       "|---|---|---|---|---|---|---|---|---|---|---|---|---|---|---|---|---|---|---|---|---|---|---|\n",
       "| 1 | JC29f8ad2 | 131274729058 | 40679773 | 2019-08-31 12:52:00 | 0 | 3 | 0 | 1 | 52 | 1 | 1 | 165 | 0 | 81 | 0 | 0 | 0 | 0 | 0 | 0 | 0 | 1 |\n",
       "\n"
      ],
      "text/plain": [
       "  anon_id   pat_enc_csn_id_coded inpatient_data_id_coded admit_time         \n",
       "1 JC29f8ad2 131274729058         40679773                2019-08-31 12:52:00\n",
       "  label ESI_i delta_ESI gender age insurance English Height_i delta_H Weight_i\n",
       "1 0     3     0         1      52  1         1       165      0       81      \n",
       "  delta_W race.Asian race.Black race.Native.American race.Other\n",
       "1 0       0          0          0                    0         \n",
       "  race.Pacific.Islander race.Unknown race.White\n",
       "1 0                     0            1         "
      ]
     },
     "metadata": {},
     "output_type": "display_data"
    },
    {
     "data": {
      "text/html": [
       "<table class=\"dataframe\">\n",
       "<caption>A data.frame: 1 × 11</caption>\n",
       "<thead>\n",
       "\t<tr><th></th><th scope=col>anon_id</th><th scope=col>pat_enc_csn_id_coded</th><th scope=col>inpatient_data_id_coded</th><th scope=col>admit_time</th><th scope=col>label</th><th scope=col>template</th><th scope=col>features</th><th scope=col>units</th><th scope=col>recorded_time</th><th scope=col>feature_type</th><th scope=col>values</th></tr>\n",
       "\t<tr><th></th><th scope=col>&lt;chr&gt;</th><th scope=col>&lt;dbl&gt;</th><th scope=col>&lt;int&gt;</th><th scope=col>&lt;chr&gt;</th><th scope=col>&lt;int&gt;</th><th scope=col>&lt;chr&gt;</th><th scope=col>&lt;chr&gt;</th><th scope=col>&lt;chr&gt;</th><th scope=col>&lt;chr&gt;</th><th scope=col>&lt;chr&gt;</th><th scope=col>&lt;dbl&gt;</th></tr>\n",
       "</thead>\n",
       "<tbody>\n",
       "\t<tr><th scope=row>1</th><td>JC29f8ad2</td><td>131274729058</td><td>40679773</td><td>2019-08-31 12:52:00+00:00</td><td>0</td><td>Custom Formula Data</td><td>Temp</td><td></td><td>2019-08-31 10:14:00+00:00</td><td>vitals</td><td>36.9</td></tr>\n",
       "</tbody>\n",
       "</table>\n"
      ],
      "text/latex": [
       "A data.frame: 1 × 11\n",
       "\\begin{tabular}{r|lllllllllll}\n",
       "  & anon\\_id & pat\\_enc\\_csn\\_id\\_coded & inpatient\\_data\\_id\\_coded & admit\\_time & label & template & features & units & recorded\\_time & feature\\_type & values\\\\\n",
       "  & <chr> & <dbl> & <int> & <chr> & <int> & <chr> & <chr> & <chr> & <chr> & <chr> & <dbl>\\\\\n",
       "\\hline\n",
       "\t1 & JC29f8ad2 & 131274729058 & 40679773 & 2019-08-31 12:52:00+00:00 & 0 & Custom Formula Data & Temp &  & 2019-08-31 10:14:00+00:00 & vitals & 36.9\\\\\n",
       "\\end{tabular}\n"
      ],
      "text/markdown": [
       "\n",
       "A data.frame: 1 × 11\n",
       "\n",
       "| <!--/--> | anon_id &lt;chr&gt; | pat_enc_csn_id_coded &lt;dbl&gt; | inpatient_data_id_coded &lt;int&gt; | admit_time &lt;chr&gt; | label &lt;int&gt; | template &lt;chr&gt; | features &lt;chr&gt; | units &lt;chr&gt; | recorded_time &lt;chr&gt; | feature_type &lt;chr&gt; | values &lt;dbl&gt; |\n",
       "|---|---|---|---|---|---|---|---|---|---|---|---|\n",
       "| 1 | JC29f8ad2 | 131274729058 | 40679773 | 2019-08-31 12:52:00+00:00 | 0 | Custom Formula Data | Temp | <!----> | 2019-08-31 10:14:00+00:00 | vitals | 36.9 |\n",
       "\n"
      ],
      "text/plain": [
       "  anon_id   pat_enc_csn_id_coded inpatient_data_id_coded\n",
       "1 JC29f8ad2 131274729058         40679773               \n",
       "  admit_time                label template            features units\n",
       "1 2019-08-31 12:52:00+00:00 0     Custom Formula Data Temp          \n",
       "  recorded_time             feature_type values\n",
       "1 2019-08-31 10:14:00+00:00 vitals       36.9  "
      ]
     },
     "metadata": {},
     "output_type": "display_data"
    },
    {
     "data": {
      "text/html": [
       "<table class=\"dataframe\">\n",
       "<caption>A data.frame: 1 × 16</caption>\n",
       "<thead>\n",
       "\t<tr><th></th><th scope=col>anon_id</th><th scope=col>pat_enc_csn_id_coded</th><th scope=col>inpatient_data_id_coded</th><th scope=col>admit_time</th><th scope=col>label</th><th scope=col>features</th><th scope=col>base_name</th><th scope=col>ord_value</th><th scope=col>values</th><th scope=col>reference_low</th><th scope=col>reference_high</th><th scope=col>reference_unit</th><th scope=col>result_in_range_yn</th><th scope=col>result_flag</th><th scope=col>result_time</th><th scope=col>feature_type</th></tr>\n",
       "\t<tr><th></th><th scope=col>&lt;chr&gt;</th><th scope=col>&lt;dbl&gt;</th><th scope=col>&lt;int&gt;</th><th scope=col>&lt;chr&gt;</th><th scope=col>&lt;int&gt;</th><th scope=col>&lt;chr&gt;</th><th scope=col>&lt;chr&gt;</th><th scope=col>&lt;chr&gt;</th><th scope=col>&lt;dbl&gt;</th><th scope=col>&lt;chr&gt;</th><th scope=col>&lt;chr&gt;</th><th scope=col>&lt;chr&gt;</th><th scope=col>&lt;chr&gt;</th><th scope=col>&lt;chr&gt;</th><th scope=col>&lt;chr&gt;</th><th scope=col>&lt;chr&gt;</th></tr>\n",
       "</thead>\n",
       "<tbody>\n",
       "\t<tr><th scope=row>1</th><td>JCe33305</td><td>131063880385</td><td>13777312</td><td>2015-01-04 08:11:00+00:00</td><td>0</td><td>Lactate</td><td>LACWBL</td><td>2.2</td><td>2.2</td><td></td><td></td><td>mmol/L</td><td></td><td></td><td>2015-01-04 03:18:00+00:00</td><td>labs</td></tr>\n",
       "</tbody>\n",
       "</table>\n"
      ],
      "text/latex": [
       "A data.frame: 1 × 16\n",
       "\\begin{tabular}{r|llllllllllllllll}\n",
       "  & anon\\_id & pat\\_enc\\_csn\\_id\\_coded & inpatient\\_data\\_id\\_coded & admit\\_time & label & features & base\\_name & ord\\_value & values & reference\\_low & reference\\_high & reference\\_unit & result\\_in\\_range\\_yn & result\\_flag & result\\_time & feature\\_type\\\\\n",
       "  & <chr> & <dbl> & <int> & <chr> & <int> & <chr> & <chr> & <chr> & <dbl> & <chr> & <chr> & <chr> & <chr> & <chr> & <chr> & <chr>\\\\\n",
       "\\hline\n",
       "\t1 & JCe33305 & 131063880385 & 13777312 & 2015-01-04 08:11:00+00:00 & 0 & Lactate & LACWBL & 2.2 & 2.2 &  &  & mmol/L &  &  & 2015-01-04 03:18:00+00:00 & labs\\\\\n",
       "\\end{tabular}\n"
      ],
      "text/markdown": [
       "\n",
       "A data.frame: 1 × 16\n",
       "\n",
       "| <!--/--> | anon_id &lt;chr&gt; | pat_enc_csn_id_coded &lt;dbl&gt; | inpatient_data_id_coded &lt;int&gt; | admit_time &lt;chr&gt; | label &lt;int&gt; | features &lt;chr&gt; | base_name &lt;chr&gt; | ord_value &lt;chr&gt; | values &lt;dbl&gt; | reference_low &lt;chr&gt; | reference_high &lt;chr&gt; | reference_unit &lt;chr&gt; | result_in_range_yn &lt;chr&gt; | result_flag &lt;chr&gt; | result_time &lt;chr&gt; | feature_type &lt;chr&gt; |\n",
       "|---|---|---|---|---|---|---|---|---|---|---|---|---|---|---|---|---|\n",
       "| 1 | JCe33305 | 131063880385 | 13777312 | 2015-01-04 08:11:00+00:00 | 0 | Lactate | LACWBL | 2.2 | 2.2 | <!----> | <!----> | mmol/L | <!----> | <!----> | 2015-01-04 03:18:00+00:00 | labs |\n",
       "\n"
      ],
      "text/plain": [
       "  anon_id  pat_enc_csn_id_coded inpatient_data_id_coded\n",
       "1 JCe33305 131063880385         13777312               \n",
       "  admit_time                label features base_name ord_value values\n",
       "1 2015-01-04 08:11:00+00:00 0     Lactate  LACWBL    2.2       2.2   \n",
       "  reference_low reference_high reference_unit result_in_range_yn result_flag\n",
       "1                              mmol/L                                       \n",
       "  result_time               feature_type\n",
       "1 2015-01-04 03:18:00+00:00 labs        "
      ]
     },
     "metadata": {},
     "output_type": "display_data"
    }
   ],
   "source": [
    "head(cohort, 1)\n",
    "head(demos, 1)\n",
    "head(vitals0, 1)\n",
    "head(labs0, 1)"
   ]
  },
  {
   "cell_type": "code",
   "execution_count": 73,
   "metadata": {},
   "outputs": [
    {
     "data": {
      "text/html": [
       "<style>\n",
       ".list-inline {list-style: none; margin:0; padding: 0}\n",
       ".list-inline>li {display: inline-block}\n",
       ".list-inline>li:not(:last-child)::after {content: \"\\00b7\"; padding: 0 .5ex}\n",
       "</style>\n",
       "<ol class=list-inline><li>'anon_id'</li><li>'pat_enc_csn_id_coded'</li><li>'inpatient_data_id_coded'</li><li>'admit_time'</li><li>'label'</li></ol>\n"
      ],
      "text/latex": [
       "\\begin{enumerate*}\n",
       "\\item 'anon\\_id'\n",
       "\\item 'pat\\_enc\\_csn\\_id\\_coded'\n",
       "\\item 'inpatient\\_data\\_id\\_coded'\n",
       "\\item 'admit\\_time'\n",
       "\\item 'label'\n",
       "\\end{enumerate*}\n"
      ],
      "text/markdown": [
       "1. 'anon_id'\n",
       "2. 'pat_enc_csn_id_coded'\n",
       "3. 'inpatient_data_id_coded'\n",
       "4. 'admit_time'\n",
       "5. 'label'\n",
       "\n",
       "\n"
      ],
      "text/plain": [
       "[1] \"anon_id\"                 \"pat_enc_csn_id_coded\"   \n",
       "[3] \"inpatient_data_id_coded\" \"admit_time\"             \n",
       "[5] \"label\"                  "
      ]
     },
     "metadata": {},
     "output_type": "display_data"
    },
    {
     "data": {
      "text/html": [
       "<style>\n",
       ".list-inline {list-style: none; margin:0; padding: 0}\n",
       ".list-inline>li {display: inline-block}\n",
       ".list-inline>li:not(:last-child)::after {content: \"\\00b7\"; padding: 0 .5ex}\n",
       "</style>\n",
       "<ol class=list-inline><li>'anon_id'</li><li>'pat_enc_csn_id_coded'</li><li>'inpatient_data_id_coded'</li><li>'admit_time'</li><li>'label'</li><li>'ESI_i'</li><li>'delta_ESI'</li><li>'gender'</li><li>'age'</li><li>'insurance'</li><li>'English'</li><li>'Height_i'</li><li>'delta_H'</li><li>'Weight_i'</li><li>'delta_W'</li><li>'race.Asian'</li><li>'race.Black'</li><li>'race.Native.American'</li><li>'race.Other'</li><li>'race.Pacific.Islander'</li><li>'race.Unknown'</li><li>'race.White'</li></ol>\n"
      ],
      "text/latex": [
       "\\begin{enumerate*}\n",
       "\\item 'anon\\_id'\n",
       "\\item 'pat\\_enc\\_csn\\_id\\_coded'\n",
       "\\item 'inpatient\\_data\\_id\\_coded'\n",
       "\\item 'admit\\_time'\n",
       "\\item 'label'\n",
       "\\item 'ESI\\_i'\n",
       "\\item 'delta\\_ESI'\n",
       "\\item 'gender'\n",
       "\\item 'age'\n",
       "\\item 'insurance'\n",
       "\\item 'English'\n",
       "\\item 'Height\\_i'\n",
       "\\item 'delta\\_H'\n",
       "\\item 'Weight\\_i'\n",
       "\\item 'delta\\_W'\n",
       "\\item 'race.Asian'\n",
       "\\item 'race.Black'\n",
       "\\item 'race.Native.American'\n",
       "\\item 'race.Other'\n",
       "\\item 'race.Pacific.Islander'\n",
       "\\item 'race.Unknown'\n",
       "\\item 'race.White'\n",
       "\\end{enumerate*}\n"
      ],
      "text/markdown": [
       "1. 'anon_id'\n",
       "2. 'pat_enc_csn_id_coded'\n",
       "3. 'inpatient_data_id_coded'\n",
       "4. 'admit_time'\n",
       "5. 'label'\n",
       "6. 'ESI_i'\n",
       "7. 'delta_ESI'\n",
       "8. 'gender'\n",
       "9. 'age'\n",
       "10. 'insurance'\n",
       "11. 'English'\n",
       "12. 'Height_i'\n",
       "13. 'delta_H'\n",
       "14. 'Weight_i'\n",
       "15. 'delta_W'\n",
       "16. 'race.Asian'\n",
       "17. 'race.Black'\n",
       "18. 'race.Native.American'\n",
       "19. 'race.Other'\n",
       "20. 'race.Pacific.Islander'\n",
       "21. 'race.Unknown'\n",
       "22. 'race.White'\n",
       "\n",
       "\n"
      ],
      "text/plain": [
       " [1] \"anon_id\"                 \"pat_enc_csn_id_coded\"   \n",
       " [3] \"inpatient_data_id_coded\" \"admit_time\"             \n",
       " [5] \"label\"                   \"ESI_i\"                  \n",
       " [7] \"delta_ESI\"               \"gender\"                 \n",
       " [9] \"age\"                     \"insurance\"              \n",
       "[11] \"English\"                 \"Height_i\"               \n",
       "[13] \"delta_H\"                 \"Weight_i\"               \n",
       "[15] \"delta_W\"                 \"race.Asian\"             \n",
       "[17] \"race.Black\"              \"race.Native.American\"   \n",
       "[19] \"race.Other\"              \"race.Pacific.Islander\"  \n",
       "[21] \"race.Unknown\"            \"race.White\"             "
      ]
     },
     "metadata": {},
     "output_type": "display_data"
    },
    {
     "data": {
      "text/html": [
       "<style>\n",
       ".list-inline {list-style: none; margin:0; padding: 0}\n",
       ".list-inline>li {display: inline-block}\n",
       ".list-inline>li:not(:last-child)::after {content: \"\\00b7\"; padding: 0 .5ex}\n",
       "</style>\n",
       "<ol class=list-inline><li>'anon_id'</li><li>'pat_enc_csn_id_coded'</li><li>'inpatient_data_id_coded'</li><li>'admit_time'</li><li>'label'</li><li>'features'</li><li>'values'</li><li>'feature_type'</li><li>'time'</li></ol>\n"
      ],
      "text/latex": [
       "\\begin{enumerate*}\n",
       "\\item 'anon\\_id'\n",
       "\\item 'pat\\_enc\\_csn\\_id\\_coded'\n",
       "\\item 'inpatient\\_data\\_id\\_coded'\n",
       "\\item 'admit\\_time'\n",
       "\\item 'label'\n",
       "\\item 'features'\n",
       "\\item 'values'\n",
       "\\item 'feature\\_type'\n",
       "\\item 'time'\n",
       "\\end{enumerate*}\n"
      ],
      "text/markdown": [
       "1. 'anon_id'\n",
       "2. 'pat_enc_csn_id_coded'\n",
       "3. 'inpatient_data_id_coded'\n",
       "4. 'admit_time'\n",
       "5. 'label'\n",
       "6. 'features'\n",
       "7. 'values'\n",
       "8. 'feature_type'\n",
       "9. 'time'\n",
       "\n",
       "\n"
      ],
      "text/plain": [
       "[1] \"anon_id\"                 \"pat_enc_csn_id_coded\"   \n",
       "[3] \"inpatient_data_id_coded\" \"admit_time\"             \n",
       "[5] \"label\"                   \"features\"               \n",
       "[7] \"values\"                  \"feature_type\"           \n",
       "[9] \"time\"                   "
      ]
     },
     "metadata": {},
     "output_type": "display_data"
    },
    {
     "data": {
      "text/html": [
       "<style>\n",
       ".list-inline {list-style: none; margin:0; padding: 0}\n",
       ".list-inline>li {display: inline-block}\n",
       ".list-inline>li:not(:last-child)::after {content: \"\\00b7\"; padding: 0 .5ex}\n",
       "</style>\n",
       "<ol class=list-inline><li>'anon_id'</li><li>'pat_enc_csn_id_coded'</li><li>'inpatient_data_id_coded'</li><li>'admit_time'</li><li>'label'</li><li>'features'</li><li>'values'</li><li>'feature_type'</li><li>'time'</li></ol>\n"
      ],
      "text/latex": [
       "\\begin{enumerate*}\n",
       "\\item 'anon\\_id'\n",
       "\\item 'pat\\_enc\\_csn\\_id\\_coded'\n",
       "\\item 'inpatient\\_data\\_id\\_coded'\n",
       "\\item 'admit\\_time'\n",
       "\\item 'label'\n",
       "\\item 'features'\n",
       "\\item 'values'\n",
       "\\item 'feature\\_type'\n",
       "\\item 'time'\n",
       "\\end{enumerate*}\n"
      ],
      "text/markdown": [
       "1. 'anon_id'\n",
       "2. 'pat_enc_csn_id_coded'\n",
       "3. 'inpatient_data_id_coded'\n",
       "4. 'admit_time'\n",
       "5. 'label'\n",
       "6. 'features'\n",
       "7. 'values'\n",
       "8. 'feature_type'\n",
       "9. 'time'\n",
       "\n",
       "\n"
      ],
      "text/plain": [
       "[1] \"anon_id\"                 \"pat_enc_csn_id_coded\"   \n",
       "[3] \"inpatient_data_id_coded\" \"admit_time\"             \n",
       "[5] \"label\"                   \"features\"               \n",
       "[7] \"values\"                  \"feature_type\"           \n",
       "[9] \"time\"                   "
      ]
     },
     "metadata": {},
     "output_type": "display_data"
    }
   ],
   "source": [
    "colnames(cohort)\n",
    "colnames(demos)\n",
    "colnames(vitals)\n",
    "colnames(labs)\n",
    "\n",
    "cohort <- cohort %>% mutate(admit_time = ymd_hms(admit_time)) "
   ]
  },
  {
   "cell_type": "code",
   "execution_count": 74,
   "metadata": {},
   "outputs": [
    {
     "name": "stderr",
     "output_type": "stream",
     "text": [
      "Joining, by = c(\"anon_id\", \"pat_enc_csn_id_coded\", \"inpatient_data_id_coded\", \"admit_time\", \"label\")\n",
      "\n"
     ]
    },
    {
     "data": {
      "text/html": [
       "707659"
      ],
      "text/latex": [
       "707659"
      ],
      "text/markdown": [
       "707659"
      ],
      "text/plain": [
       "[1] 707659"
      ]
     },
     "metadata": {},
     "output_type": "display_data"
    }
   ],
   "source": [
    "demo_long <- gather(demos, features, values, ESI_i:race.White, factor_key=TRUE) %>%\n",
    "                mutate(feature_type = \"demo\") %>% mutate(admit_time = ymd_hms(admit_time)) %>% \n",
    "             right_join(cohort)\n",
    "                \n",
    "nrow(demo_long) # 44258*17 (cols with values) --> n_cohort * 17 = 707659"
   ]
  },
  {
   "cell_type": "code",
   "execution_count": 75,
   "metadata": {},
   "outputs": [
    {
     "name": "stderr",
     "output_type": "stream",
     "text": [
      "Joining, by = c(\"anon_id\", \"pat_enc_csn_id_coded\", \"inpatient_data_id_coded\", \"admit_time\", \"label\")\n",
      "\n",
      "Joining, by = c(\"anon_id\", \"pat_enc_csn_id_coded\", \"inpatient_data_id_coded\", \"admit_time\", \"label\")\n",
      "\n"
     ]
    }
   ],
   "source": [
    "vitals <- vitals0 %>% select(anon_id, pat_enc_csn_id_coded, inpatient_data_id_coded, admit_time, label, \n",
    "                            features, values, feature_type, time = recorded_time) %>% \n",
    "                        mutate(admit_time = ymd_hms(admit_time)) %>% right_join(cohort)\n",
    "labs <- labs0 %>% select(anon_id, pat_enc_csn_id_coded, inpatient_data_id_coded, admit_time, label, \n",
    "                        features, values, feature_type, time = result_time) %>% \n",
    "                    mutate(admit_time = ymd_hms(admit_time)) %>% right_join(cohort)"
   ]
  },
  {
   "cell_type": "raw",
   "metadata": {},
   "source": [
    "# JCdcafca and 131187786922, 20015518, 0, 2016-05-15 20:57:00+00:00 \n",
    "# in the no_labels cohort (and Conor's cohort) but not in the updated cohort\n",
    "noinco <- cohort[cohort$pat_enc_csn_id_coded %in% no_labels$pat_enc_csn_id_coded,]\n",
    "head(no_labels[!no_labels$pat_enc_csn_id_coded %in% noinco$pat_enc_csn_id_coded, ])"
   ]
  },
  {
   "cell_type": "code",
   "execution_count": 82,
   "metadata": {},
   "outputs": [
    {
     "data": {
      "text/html": [
       "41627"
      ],
      "text/latex": [
       "41627"
      ],
      "text/markdown": [
       "41627"
      ],
      "text/plain": [
       "[1] 41627"
      ]
     },
     "metadata": {},
     "output_type": "display_data"
    },
    {
     "data": {
      "text/html": [
       "41627"
      ],
      "text/latex": [
       "41627"
      ],
      "text/markdown": [
       "41627"
      ],
      "text/plain": [
       "[1] 41627"
      ]
     },
     "metadata": {},
     "output_type": "display_data"
    },
    {
     "data": {
      "text/html": [
       "41627"
      ],
      "text/latex": [
       "41627"
      ],
      "text/markdown": [
       "41627"
      ],
      "text/plain": [
       "[1] 41627"
      ]
     },
     "metadata": {},
     "output_type": "display_data"
    },
    {
     "data": {
      "text/html": [
       "<table class=\"dataframe\">\n",
       "<caption>A data.frame: 1 × 8</caption>\n",
       "<thead>\n",
       "\t<tr><th></th><th scope=col>anon_id</th><th scope=col>pat_enc_csn_id_coded</th><th scope=col>inpatient_data_id_coded</th><th scope=col>admit_time</th><th scope=col>label</th><th scope=col>features</th><th scope=col>values</th><th scope=col>feature_type</th></tr>\n",
       "\t<tr><th></th><th scope=col>&lt;chr&gt;</th><th scope=col>&lt;dbl&gt;</th><th scope=col>&lt;int&gt;</th><th scope=col>&lt;dttm&gt;</th><th scope=col>&lt;int&gt;</th><th scope=col>&lt;fct&gt;</th><th scope=col>&lt;dbl&gt;</th><th scope=col>&lt;chr&gt;</th></tr>\n",
       "</thead>\n",
       "<tbody>\n",
       "\t<tr><th scope=row>1</th><td>JC29f8ad2</td><td>131274729058</td><td>40679773</td><td>2019-08-31 12:52:00</td><td>0</td><td>ESI_i</td><td>3</td><td>demo</td></tr>\n",
       "</tbody>\n",
       "</table>\n"
      ],
      "text/latex": [
       "A data.frame: 1 × 8\n",
       "\\begin{tabular}{r|llllllll}\n",
       "  & anon\\_id & pat\\_enc\\_csn\\_id\\_coded & inpatient\\_data\\_id\\_coded & admit\\_time & label & features & values & feature\\_type\\\\\n",
       "  & <chr> & <dbl> & <int> & <dttm> & <int> & <fct> & <dbl> & <chr>\\\\\n",
       "\\hline\n",
       "\t1 & JC29f8ad2 & 131274729058 & 40679773 & 2019-08-31 12:52:00 & 0 & ESI\\_i & 3 & demo\\\\\n",
       "\\end{tabular}\n"
      ],
      "text/markdown": [
       "\n",
       "A data.frame: 1 × 8\n",
       "\n",
       "| <!--/--> | anon_id &lt;chr&gt; | pat_enc_csn_id_coded &lt;dbl&gt; | inpatient_data_id_coded &lt;int&gt; | admit_time &lt;dttm&gt; | label &lt;int&gt; | features &lt;fct&gt; | values &lt;dbl&gt; | feature_type &lt;chr&gt; |\n",
       "|---|---|---|---|---|---|---|---|---|\n",
       "| 1 | JC29f8ad2 | 131274729058 | 40679773 | 2019-08-31 12:52:00 | 0 | ESI_i | 3 | demo |\n",
       "\n"
      ],
      "text/plain": [
       "  anon_id   pat_enc_csn_id_coded inpatient_data_id_coded admit_time         \n",
       "1 JC29f8ad2 131274729058         40679773                2019-08-31 12:52:00\n",
       "  label features values feature_type\n",
       "1 0     ESI_i    3      demo        "
      ]
     },
     "metadata": {},
     "output_type": "display_data"
    },
    {
     "data": {
      "text/html": [
       "<table class=\"dataframe\">\n",
       "<caption>A data.frame: 1 × 9</caption>\n",
       "<thead>\n",
       "\t<tr><th></th><th scope=col>anon_id</th><th scope=col>pat_enc_csn_id_coded</th><th scope=col>inpatient_data_id_coded</th><th scope=col>admit_time</th><th scope=col>label</th><th scope=col>features</th><th scope=col>values</th><th scope=col>feature_type</th><th scope=col>time</th></tr>\n",
       "\t<tr><th></th><th scope=col>&lt;chr&gt;</th><th scope=col>&lt;dbl&gt;</th><th scope=col>&lt;int&gt;</th><th scope=col>&lt;dttm&gt;</th><th scope=col>&lt;int&gt;</th><th scope=col>&lt;chr&gt;</th><th scope=col>&lt;dbl&gt;</th><th scope=col>&lt;chr&gt;</th><th scope=col>&lt;chr&gt;</th></tr>\n",
       "</thead>\n",
       "<tbody>\n",
       "\t<tr><th scope=row>1</th><td>JC29f8ad2</td><td>131274729058</td><td>40679773</td><td>2019-08-31 12:52:00</td><td>0</td><td>Temp</td><td>36.9</td><td>vitals</td><td>2019-08-31 10:14:00+00:00</td></tr>\n",
       "</tbody>\n",
       "</table>\n"
      ],
      "text/latex": [
       "A data.frame: 1 × 9\n",
       "\\begin{tabular}{r|lllllllll}\n",
       "  & anon\\_id & pat\\_enc\\_csn\\_id\\_coded & inpatient\\_data\\_id\\_coded & admit\\_time & label & features & values & feature\\_type & time\\\\\n",
       "  & <chr> & <dbl> & <int> & <dttm> & <int> & <chr> & <dbl> & <chr> & <chr>\\\\\n",
       "\\hline\n",
       "\t1 & JC29f8ad2 & 131274729058 & 40679773 & 2019-08-31 12:52:00 & 0 & Temp & 36.9 & vitals & 2019-08-31 10:14:00+00:00\\\\\n",
       "\\end{tabular}\n"
      ],
      "text/markdown": [
       "\n",
       "A data.frame: 1 × 9\n",
       "\n",
       "| <!--/--> | anon_id &lt;chr&gt; | pat_enc_csn_id_coded &lt;dbl&gt; | inpatient_data_id_coded &lt;int&gt; | admit_time &lt;dttm&gt; | label &lt;int&gt; | features &lt;chr&gt; | values &lt;dbl&gt; | feature_type &lt;chr&gt; | time &lt;chr&gt; |\n",
       "|---|---|---|---|---|---|---|---|---|---|\n",
       "| 1 | JC29f8ad2 | 131274729058 | 40679773 | 2019-08-31 12:52:00 | 0 | Temp | 36.9 | vitals | 2019-08-31 10:14:00+00:00 |\n",
       "\n"
      ],
      "text/plain": [
       "  anon_id   pat_enc_csn_id_coded inpatient_data_id_coded admit_time         \n",
       "1 JC29f8ad2 131274729058         40679773                2019-08-31 12:52:00\n",
       "  label features values feature_type time                     \n",
       "1 0     Temp     36.9   vitals       2019-08-31 10:14:00+00:00"
      ]
     },
     "metadata": {},
     "output_type": "display_data"
    },
    {
     "data": {
      "text/html": [
       "<table class=\"dataframe\">\n",
       "<caption>A data.frame: 1 × 9</caption>\n",
       "<thead>\n",
       "\t<tr><th></th><th scope=col>anon_id</th><th scope=col>pat_enc_csn_id_coded</th><th scope=col>inpatient_data_id_coded</th><th scope=col>admit_time</th><th scope=col>label</th><th scope=col>features</th><th scope=col>values</th><th scope=col>feature_type</th><th scope=col>time</th></tr>\n",
       "\t<tr><th></th><th scope=col>&lt;chr&gt;</th><th scope=col>&lt;dbl&gt;</th><th scope=col>&lt;int&gt;</th><th scope=col>&lt;dttm&gt;</th><th scope=col>&lt;int&gt;</th><th scope=col>&lt;chr&gt;</th><th scope=col>&lt;dbl&gt;</th><th scope=col>&lt;chr&gt;</th><th scope=col>&lt;chr&gt;</th></tr>\n",
       "</thead>\n",
       "<tbody>\n",
       "\t<tr><th scope=row>1</th><td>JCe33305</td><td>131063880385</td><td>13777312</td><td>2015-01-04 08:11:00</td><td>0</td><td>Lactate</td><td>2.2</td><td>labs</td><td>2015-01-04 03:18:00+00:00</td></tr>\n",
       "</tbody>\n",
       "</table>\n"
      ],
      "text/latex": [
       "A data.frame: 1 × 9\n",
       "\\begin{tabular}{r|lllllllll}\n",
       "  & anon\\_id & pat\\_enc\\_csn\\_id\\_coded & inpatient\\_data\\_id\\_coded & admit\\_time & label & features & values & feature\\_type & time\\\\\n",
       "  & <chr> & <dbl> & <int> & <dttm> & <int> & <chr> & <dbl> & <chr> & <chr>\\\\\n",
       "\\hline\n",
       "\t1 & JCe33305 & 131063880385 & 13777312 & 2015-01-04 08:11:00 & 0 & Lactate & 2.2 & labs & 2015-01-04 03:18:00+00:00\\\\\n",
       "\\end{tabular}\n"
      ],
      "text/markdown": [
       "\n",
       "A data.frame: 1 × 9\n",
       "\n",
       "| <!--/--> | anon_id &lt;chr&gt; | pat_enc_csn_id_coded &lt;dbl&gt; | inpatient_data_id_coded &lt;int&gt; | admit_time &lt;dttm&gt; | label &lt;int&gt; | features &lt;chr&gt; | values &lt;dbl&gt; | feature_type &lt;chr&gt; | time &lt;chr&gt; |\n",
       "|---|---|---|---|---|---|---|---|---|---|\n",
       "| 1 | JCe33305 | 131063880385 | 13777312 | 2015-01-04 08:11:00 | 0 | Lactate | 2.2 | labs | 2015-01-04 03:18:00+00:00 |\n",
       "\n"
      ],
      "text/plain": [
       "  anon_id  pat_enc_csn_id_coded inpatient_data_id_coded admit_time         \n",
       "1 JCe33305 131063880385         13777312                2015-01-04 08:11:00\n",
       "  label features values feature_type time                     \n",
       "1 0     Lactate  2.2    labs         2015-01-04 03:18:00+00:00"
      ]
     },
     "metadata": {},
     "output_type": "display_data"
    }
   ],
   "source": [
    "length(unique(demo_long$pat_enc_csn_id_coded))\n",
    "length(unique(vitals$pat_enc_csn_id_coded))\n",
    "length(unique(labs$pat_enc_csn_id_coded))\n",
    "\n",
    "head(demo_long, n=1)\n",
    "head(vitals, n=1)\n",
    "head(labs, n=1)"
   ]
  },
  {
   "cell_type": "code",
   "execution_count": 89,
   "metadata": {},
   "outputs": [
    {
     "data": {
      "text/html": [
       "3034259"
      ],
      "text/latex": [
       "3034259"
      ],
      "text/markdown": [
       "3034259"
      ],
      "text/plain": [
       "[1] 3034259"
      ]
     },
     "metadata": {},
     "output_type": "display_data"
    },
    {
     "data": {
      "text/html": [
       "41627"
      ],
      "text/latex": [
       "41627"
      ],
      "text/markdown": [
       "41627"
      ],
      "text/plain": [
       "[1] 41627"
      ]
     },
     "metadata": {},
     "output_type": "display_data"
    },
    {
     "data": {
      "text/html": [
       "41627"
      ],
      "text/latex": [
       "41627"
      ],
      "text/markdown": [
       "41627"
      ],
      "text/plain": [
       "[1] 41627"
      ]
     },
     "metadata": {},
     "output_type": "display_data"
    },
    {
     "data": {
      "text/html": [
       "<table class=\"dataframe\">\n",
       "<caption>A data.frame: 3 × 2</caption>\n",
       "<thead>\n",
       "\t<tr><th scope=col>feature_type</th><th scope=col>n</th></tr>\n",
       "\t<tr><th scope=col>&lt;chr&gt;</th><th scope=col>&lt;int&gt;</th></tr>\n",
       "</thead>\n",
       "<tbody>\n",
       "\t<tr><td>demo  </td><td> 707659</td></tr>\n",
       "\t<tr><td>labs  </td><td>1367422</td></tr>\n",
       "\t<tr><td>vitals</td><td> 959178</td></tr>\n",
       "</tbody>\n",
       "</table>\n"
      ],
      "text/latex": [
       "A data.frame: 3 × 2\n",
       "\\begin{tabular}{ll}\n",
       " feature\\_type & n\\\\\n",
       " <chr> & <int>\\\\\n",
       "\\hline\n",
       "\t demo   &  707659\\\\\n",
       "\t labs   & 1367422\\\\\n",
       "\t vitals &  959178\\\\\n",
       "\\end{tabular}\n"
      ],
      "text/markdown": [
       "\n",
       "A data.frame: 3 × 2\n",
       "\n",
       "| feature_type &lt;chr&gt; | n &lt;int&gt; |\n",
       "|---|---|\n",
       "| demo   |  707659 |\n",
       "| labs   | 1367422 |\n",
       "| vitals |  959178 |\n",
       "\n"
      ],
      "text/plain": [
       "  feature_type n      \n",
       "1 demo          707659\n",
       "2 labs         1367422\n",
       "3 vitals        959178"
      ]
     },
     "metadata": {},
     "output_type": "display_data"
    }
   ],
   "source": [
    "# combine demos, vitals and labs, long format, with \"time\"\n",
    "feats <- bind_rows(demo_long, vitals, labs)\n",
    "feats <- as.data.frame(unclass(feats))\n",
    "\n",
    "nrow(feats) #3034259\n",
    "nrow(feats %>% select(anon_id, pat_enc_csn_id_coded) %>% distinct())\n",
    "nrow(feats %>% select(pat_enc_csn_id_coded) %>% distinct()) # 41627\n",
    "\n",
    "feats %>% count(feature_type)"
   ]
  },
  {
   "cell_type": "code",
   "execution_count": 90,
   "metadata": {},
   "outputs": [
    {
     "data": {
      "text/plain": [
       "    Min.  1st Qu.   Median     Mean  3rd Qu.     Max. \n",
       "  -30.00     1.03    19.00    44.74    76.00 11900.00 "
      ]
     },
     "metadata": {},
     "output_type": "display_data"
    },
    {
     "data": {
      "text/html": [
       "<table class=\"dataframe\">\n",
       "<caption>A grouped_df: 66 × 3</caption>\n",
       "<thead>\n",
       "\t<tr><th scope=col>feature_type</th><th scope=col>features</th><th scope=col>n</th></tr>\n",
       "\t<tr><th scope=col>&lt;chr&gt;</th><th scope=col>&lt;chr&gt;</th><th scope=col>&lt;int&gt;</th></tr>\n",
       "</thead>\n",
       "<tbody>\n",
       "\t<tr><td>demo  </td><td>age                  </td><td> 41627</td></tr>\n",
       "\t<tr><td>demo  </td><td>delta_ESI            </td><td> 41627</td></tr>\n",
       "\t<tr><td>demo  </td><td>delta_H              </td><td> 41627</td></tr>\n",
       "\t<tr><td>demo  </td><td>delta_W              </td><td> 41627</td></tr>\n",
       "\t<tr><td>demo  </td><td>English              </td><td> 41627</td></tr>\n",
       "\t<tr><td>demo  </td><td>ESI_i                </td><td> 41627</td></tr>\n",
       "\t<tr><td>demo  </td><td>gender               </td><td> 41627</td></tr>\n",
       "\t<tr><td>demo  </td><td>Height_i             </td><td> 41627</td></tr>\n",
       "\t<tr><td>demo  </td><td>insurance            </td><td> 41627</td></tr>\n",
       "\t<tr><td>demo  </td><td>race.Asian           </td><td> 41627</td></tr>\n",
       "\t<tr><td>demo  </td><td>race.Black           </td><td> 41627</td></tr>\n",
       "\t<tr><td>demo  </td><td>race.Native.American </td><td> 41627</td></tr>\n",
       "\t<tr><td>demo  </td><td>race.Other           </td><td> 41627</td></tr>\n",
       "\t<tr><td>demo  </td><td>race.Pacific.Islander</td><td> 41627</td></tr>\n",
       "\t<tr><td>demo  </td><td>race.Unknown         </td><td> 41627</td></tr>\n",
       "\t<tr><td>demo  </td><td>race.White           </td><td> 41627</td></tr>\n",
       "\t<tr><td>demo  </td><td>Weight_i             </td><td> 41627</td></tr>\n",
       "\t<tr><td>labs  </td><td>ALB                  </td><td> 38310</td></tr>\n",
       "\t<tr><td>labs  </td><td>ALK                  </td><td> 38122</td></tr>\n",
       "\t<tr><td>labs  </td><td>ALT                  </td><td> 38027</td></tr>\n",
       "\t<tr><td>labs  </td><td>AnionGap             </td><td> 44574</td></tr>\n",
       "\t<tr><td>labs  </td><td>AST                  </td><td> 37985</td></tr>\n",
       "\t<tr><td>labs  </td><td>Base                 </td><td> 20476</td></tr>\n",
       "\t<tr><td>labs  </td><td>Basos                </td><td> 36180</td></tr>\n",
       "\t<tr><td>labs  </td><td>BUN                  </td><td> 44708</td></tr>\n",
       "\t<tr><td>labs  </td><td>Ca                   </td><td> 42122</td></tr>\n",
       "\t<tr><td>labs  </td><td>Cl                   </td><td> 45044</td></tr>\n",
       "\t<tr><td>labs  </td><td>CO2                  </td><td> 41983</td></tr>\n",
       "\t<tr><td>labs  </td><td>Cr                   </td><td> 44980</td></tr>\n",
       "\t<tr><td>labs  </td><td>eGFR                 </td><td> 39460</td></tr>\n",
       "\t<tr><td>labs  </td><td>Eos                  </td><td> 36680</td></tr>\n",
       "\t<tr><td>labs  </td><td>Glob                 </td><td> 37720</td></tr>\n",
       "\t<tr><td>labs  </td><td>Glucose              </td><td> 52000</td></tr>\n",
       "\t<tr><td>labs  </td><td>HCO3_a               </td><td>  1994</td></tr>\n",
       "\t<tr><td>labs  </td><td>HCO3_v               </td><td> 18773</td></tr>\n",
       "\t<tr><td>labs  </td><td>Hct                  </td><td> 45686</td></tr>\n",
       "\t<tr><td>labs  </td><td>Hgb                  </td><td> 45638</td></tr>\n",
       "\t<tr><td>labs  </td><td>INR                  </td><td> 19360</td></tr>\n",
       "\t<tr><td>labs  </td><td>K                    </td><td> 45707</td></tr>\n",
       "\t<tr><td>labs  </td><td>Lactate              </td><td> 22355</td></tr>\n",
       "\t<tr><td>labs  </td><td>Lymp                 </td><td> 38448</td></tr>\n",
       "\t<tr><td>labs  </td><td>MCH                  </td><td> 41996</td></tr>\n",
       "\t<tr><td>labs  </td><td>Mono                 </td><td> 38325</td></tr>\n",
       "\t<tr><td>labs  </td><td>Na                   </td><td> 45642</td></tr>\n",
       "\t<tr><td>labs  </td><td>Neut                 </td><td> 38506</td></tr>\n",
       "\t<tr><td>labs  </td><td>O2sat_a              </td><td>  1626</td></tr>\n",
       "\t<tr><td>labs  </td><td>O2sat_v              </td><td> 18968</td></tr>\n",
       "\t<tr><td>labs  </td><td>pCO2_a               </td><td>  1751</td></tr>\n",
       "\t<tr><td>labs  </td><td>pCO2_v               </td><td> 19030</td></tr>\n",
       "\t<tr><td>labs  </td><td>pH_a                 </td><td>  1779</td></tr>\n",
       "\t<tr><td>labs  </td><td>pH_v                 </td><td> 19028</td></tr>\n",
       "\t<tr><td>labs  </td><td>Platelet             </td><td> 42186</td></tr>\n",
       "\t<tr><td>labs  </td><td>PO2_a                </td><td>  1752</td></tr>\n",
       "\t<tr><td>labs  </td><td>PO2_v                </td><td> 19047</td></tr>\n",
       "\t<tr><td>labs  </td><td>PT                   </td><td> 19337</td></tr>\n",
       "\t<tr><td>labs  </td><td>RDW                  </td><td> 42002</td></tr>\n",
       "\t<tr><td>labs  </td><td>TBili                </td><td> 38401</td></tr>\n",
       "\t<tr><td>labs  </td><td>TCO2_a               </td><td>  4820</td></tr>\n",
       "\t<tr><td>labs  </td><td>TProtein             </td><td> 38200</td></tr>\n",
       "\t<tr><td>labs  </td><td>Trop                 </td><td> 16608</td></tr>\n",
       "\t<tr><td>labs  </td><td>WBC                  </td><td> 42086</td></tr>\n",
       "\t<tr><td>vitals</td><td>DBP                  </td><td>201198</td></tr>\n",
       "\t<tr><td>vitals</td><td>Pulse                </td><td>215288</td></tr>\n",
       "\t<tr><td>vitals</td><td>RR                   </td><td>203999</td></tr>\n",
       "\t<tr><td>vitals</td><td>SBP                  </td><td>201231</td></tr>\n",
       "\t<tr><td>vitals</td><td>Temp                 </td><td>137462</td></tr>\n",
       "</tbody>\n",
       "</table>\n"
      ],
      "text/latex": [
       "A grouped\\_df: 66 × 3\n",
       "\\begin{tabular}{lll}\n",
       " feature\\_type & features & n\\\\\n",
       " <chr> & <chr> & <int>\\\\\n",
       "\\hline\n",
       "\t demo   & age                   &  41627\\\\\n",
       "\t demo   & delta\\_ESI             &  41627\\\\\n",
       "\t demo   & delta\\_H               &  41627\\\\\n",
       "\t demo   & delta\\_W               &  41627\\\\\n",
       "\t demo   & English               &  41627\\\\\n",
       "\t demo   & ESI\\_i                 &  41627\\\\\n",
       "\t demo   & gender                &  41627\\\\\n",
       "\t demo   & Height\\_i              &  41627\\\\\n",
       "\t demo   & insurance             &  41627\\\\\n",
       "\t demo   & race.Asian            &  41627\\\\\n",
       "\t demo   & race.Black            &  41627\\\\\n",
       "\t demo   & race.Native.American  &  41627\\\\\n",
       "\t demo   & race.Other            &  41627\\\\\n",
       "\t demo   & race.Pacific.Islander &  41627\\\\\n",
       "\t demo   & race.Unknown          &  41627\\\\\n",
       "\t demo   & race.White            &  41627\\\\\n",
       "\t demo   & Weight\\_i              &  41627\\\\\n",
       "\t labs   & ALB                   &  38310\\\\\n",
       "\t labs   & ALK                   &  38122\\\\\n",
       "\t labs   & ALT                   &  38027\\\\\n",
       "\t labs   & AnionGap              &  44574\\\\\n",
       "\t labs   & AST                   &  37985\\\\\n",
       "\t labs   & Base                  &  20476\\\\\n",
       "\t labs   & Basos                 &  36180\\\\\n",
       "\t labs   & BUN                   &  44708\\\\\n",
       "\t labs   & Ca                    &  42122\\\\\n",
       "\t labs   & Cl                    &  45044\\\\\n",
       "\t labs   & CO2                   &  41983\\\\\n",
       "\t labs   & Cr                    &  44980\\\\\n",
       "\t labs   & eGFR                  &  39460\\\\\n",
       "\t labs   & Eos                   &  36680\\\\\n",
       "\t labs   & Glob                  &  37720\\\\\n",
       "\t labs   & Glucose               &  52000\\\\\n",
       "\t labs   & HCO3\\_a                &   1994\\\\\n",
       "\t labs   & HCO3\\_v                &  18773\\\\\n",
       "\t labs   & Hct                   &  45686\\\\\n",
       "\t labs   & Hgb                   &  45638\\\\\n",
       "\t labs   & INR                   &  19360\\\\\n",
       "\t labs   & K                     &  45707\\\\\n",
       "\t labs   & Lactate               &  22355\\\\\n",
       "\t labs   & Lymp                  &  38448\\\\\n",
       "\t labs   & MCH                   &  41996\\\\\n",
       "\t labs   & Mono                  &  38325\\\\\n",
       "\t labs   & Na                    &  45642\\\\\n",
       "\t labs   & Neut                  &  38506\\\\\n",
       "\t labs   & O2sat\\_a               &   1626\\\\\n",
       "\t labs   & O2sat\\_v               &  18968\\\\\n",
       "\t labs   & pCO2\\_a                &   1751\\\\\n",
       "\t labs   & pCO2\\_v                &  19030\\\\\n",
       "\t labs   & pH\\_a                  &   1779\\\\\n",
       "\t labs   & pH\\_v                  &  19028\\\\\n",
       "\t labs   & Platelet              &  42186\\\\\n",
       "\t labs   & PO2\\_a                 &   1752\\\\\n",
       "\t labs   & PO2\\_v                 &  19047\\\\\n",
       "\t labs   & PT                    &  19337\\\\\n",
       "\t labs   & RDW                   &  42002\\\\\n",
       "\t labs   & TBili                 &  38401\\\\\n",
       "\t labs   & TCO2\\_a                &   4820\\\\\n",
       "\t labs   & TProtein              &  38200\\\\\n",
       "\t labs   & Trop                  &  16608\\\\\n",
       "\t labs   & WBC                   &  42086\\\\\n",
       "\t vitals & DBP                   & 201198\\\\\n",
       "\t vitals & Pulse                 & 215288\\\\\n",
       "\t vitals & RR                    & 203999\\\\\n",
       "\t vitals & SBP                   & 201231\\\\\n",
       "\t vitals & Temp                  & 137462\\\\\n",
       "\\end{tabular}\n"
      ],
      "text/markdown": [
       "\n",
       "A grouped_df: 66 × 3\n",
       "\n",
       "| feature_type &lt;chr&gt; | features &lt;chr&gt; | n &lt;int&gt; |\n",
       "|---|---|---|\n",
       "| demo   | age                   |  41627 |\n",
       "| demo   | delta_ESI             |  41627 |\n",
       "| demo   | delta_H               |  41627 |\n",
       "| demo   | delta_W               |  41627 |\n",
       "| demo   | English               |  41627 |\n",
       "| demo   | ESI_i                 |  41627 |\n",
       "| demo   | gender                |  41627 |\n",
       "| demo   | Height_i              |  41627 |\n",
       "| demo   | insurance             |  41627 |\n",
       "| demo   | race.Asian            |  41627 |\n",
       "| demo   | race.Black            |  41627 |\n",
       "| demo   | race.Native.American  |  41627 |\n",
       "| demo   | race.Other            |  41627 |\n",
       "| demo   | race.Pacific.Islander |  41627 |\n",
       "| demo   | race.Unknown          |  41627 |\n",
       "| demo   | race.White            |  41627 |\n",
       "| demo   | Weight_i              |  41627 |\n",
       "| labs   | ALB                   |  38310 |\n",
       "| labs   | ALK                   |  38122 |\n",
       "| labs   | ALT                   |  38027 |\n",
       "| labs   | AnionGap              |  44574 |\n",
       "| labs   | AST                   |  37985 |\n",
       "| labs   | Base                  |  20476 |\n",
       "| labs   | Basos                 |  36180 |\n",
       "| labs   | BUN                   |  44708 |\n",
       "| labs   | Ca                    |  42122 |\n",
       "| labs   | Cl                    |  45044 |\n",
       "| labs   | CO2                   |  41983 |\n",
       "| labs   | Cr                    |  44980 |\n",
       "| labs   | eGFR                  |  39460 |\n",
       "| labs   | Eos                   |  36680 |\n",
       "| labs   | Glob                  |  37720 |\n",
       "| labs   | Glucose               |  52000 |\n",
       "| labs   | HCO3_a                |   1994 |\n",
       "| labs   | HCO3_v                |  18773 |\n",
       "| labs   | Hct                   |  45686 |\n",
       "| labs   | Hgb                   |  45638 |\n",
       "| labs   | INR                   |  19360 |\n",
       "| labs   | K                     |  45707 |\n",
       "| labs   | Lactate               |  22355 |\n",
       "| labs   | Lymp                  |  38448 |\n",
       "| labs   | MCH                   |  41996 |\n",
       "| labs   | Mono                  |  38325 |\n",
       "| labs   | Na                    |  45642 |\n",
       "| labs   | Neut                  |  38506 |\n",
       "| labs   | O2sat_a               |   1626 |\n",
       "| labs   | O2sat_v               |  18968 |\n",
       "| labs   | pCO2_a                |   1751 |\n",
       "| labs   | pCO2_v                |  19030 |\n",
       "| labs   | pH_a                  |   1779 |\n",
       "| labs   | pH_v                  |  19028 |\n",
       "| labs   | Platelet              |  42186 |\n",
       "| labs   | PO2_a                 |   1752 |\n",
       "| labs   | PO2_v                 |  19047 |\n",
       "| labs   | PT                    |  19337 |\n",
       "| labs   | RDW                   |  42002 |\n",
       "| labs   | TBili                 |  38401 |\n",
       "| labs   | TCO2_a                |   4820 |\n",
       "| labs   | TProtein              |  38200 |\n",
       "| labs   | Trop                  |  16608 |\n",
       "| labs   | WBC                   |  42086 |\n",
       "| vitals | DBP                   | 201198 |\n",
       "| vitals | Pulse                 | 215288 |\n",
       "| vitals | RR                    | 203999 |\n",
       "| vitals | SBP                   | 201231 |\n",
       "| vitals | Temp                  | 137462 |\n",
       "\n"
      ],
      "text/plain": [
       "   feature_type features              n     \n",
       "1  demo         age                    41627\n",
       "2  demo         delta_ESI              41627\n",
       "3  demo         delta_H                41627\n",
       "4  demo         delta_W                41627\n",
       "5  demo         English                41627\n",
       "6  demo         ESI_i                  41627\n",
       "7  demo         gender                 41627\n",
       "8  demo         Height_i               41627\n",
       "9  demo         insurance              41627\n",
       "10 demo         race.Asian             41627\n",
       "11 demo         race.Black             41627\n",
       "12 demo         race.Native.American   41627\n",
       "13 demo         race.Other             41627\n",
       "14 demo         race.Pacific.Islander  41627\n",
       "15 demo         race.Unknown           41627\n",
       "16 demo         race.White             41627\n",
       "17 demo         Weight_i               41627\n",
       "18 labs         ALB                    38310\n",
       "19 labs         ALK                    38122\n",
       "20 labs         ALT                    38027\n",
       "21 labs         AnionGap               44574\n",
       "22 labs         AST                    37985\n",
       "23 labs         Base                   20476\n",
       "24 labs         Basos                  36180\n",
       "25 labs         BUN                    44708\n",
       "26 labs         Ca                     42122\n",
       "27 labs         Cl                     45044\n",
       "28 labs         CO2                    41983\n",
       "29 labs         Cr                     44980\n",
       "30 labs         eGFR                   39460\n",
       "31 labs         Eos                    36680\n",
       "32 labs         Glob                   37720\n",
       "33 labs         Glucose                52000\n",
       "34 labs         HCO3_a                  1994\n",
       "35 labs         HCO3_v                 18773\n",
       "36 labs         Hct                    45686\n",
       "37 labs         Hgb                    45638\n",
       "38 labs         INR                    19360\n",
       "39 labs         K                      45707\n",
       "40 labs         Lactate                22355\n",
       "41 labs         Lymp                   38448\n",
       "42 labs         MCH                    41996\n",
       "43 labs         Mono                   38325\n",
       "44 labs         Na                     45642\n",
       "45 labs         Neut                   38506\n",
       "46 labs         O2sat_a                 1626\n",
       "47 labs         O2sat_v                18968\n",
       "48 labs         pCO2_a                  1751\n",
       "49 labs         pCO2_v                 19030\n",
       "50 labs         pH_a                    1779\n",
       "51 labs         pH_v                   19028\n",
       "52 labs         Platelet               42186\n",
       "53 labs         PO2_a                   1752\n",
       "54 labs         PO2_v                  19047\n",
       "55 labs         PT                     19337\n",
       "56 labs         RDW                    42002\n",
       "57 labs         TBili                  38401\n",
       "58 labs         TCO2_a                  4820\n",
       "59 labs         TProtein               38200\n",
       "60 labs         Trop                   16608\n",
       "61 labs         WBC                    42086\n",
       "62 vitals       DBP                   201198\n",
       "63 vitals       Pulse                 215288\n",
       "64 vitals       RR                    203999\n",
       "65 vitals       SBP                   201231\n",
       "66 vitals       Temp                  137462"
      ]
     },
     "metadata": {},
     "output_type": "display_data"
    }
   ],
   "source": [
    "summary(feats$values)\n",
    "feats %>% group_by(feature_type, features) %>% count()"
   ]
  },
  {
   "cell_type": "code",
   "execution_count": 91,
   "metadata": {},
   "outputs": [
    {
     "data": {
      "text/html": [
       "<table class=\"dataframe\">\n",
       "<caption>A data.frame: 6 × 9</caption>\n",
       "<thead>\n",
       "\t<tr><th></th><th scope=col>anon_id</th><th scope=col>pat_enc_csn_id_coded</th><th scope=col>inpatient_data_id_coded</th><th scope=col>admit_time</th><th scope=col>label</th><th scope=col>features</th><th scope=col>values</th><th scope=col>feature_type</th><th scope=col>time</th></tr>\n",
       "\t<tr><th></th><th scope=col>&lt;chr&gt;</th><th scope=col>&lt;dbl&gt;</th><th scope=col>&lt;int&gt;</th><th scope=col>&lt;dttm&gt;</th><th scope=col>&lt;int&gt;</th><th scope=col>&lt;chr&gt;</th><th scope=col>&lt;dbl&gt;</th><th scope=col>&lt;chr&gt;</th><th scope=col>&lt;chr&gt;</th></tr>\n",
       "</thead>\n",
       "<tbody>\n",
       "\t<tr><th scope=row>1</th><td>JC29f8ad2</td><td>131274729058</td><td>40679773</td><td>2019-08-31 12:52:00</td><td>0</td><td>ESI_i</td><td>3</td><td>demo</td><td>NA</td></tr>\n",
       "\t<tr><th scope=row>2</th><td>JC29f8ad3</td><td>131278291027</td><td>42992239</td><td>2019-10-05 23:48:00</td><td>0</td><td>ESI_i</td><td>3</td><td>demo</td><td>NA</td></tr>\n",
       "\t<tr><th scope=row>3</th><td>JC29f8b9c</td><td>131266787806</td><td>36261582</td><td>2019-05-05 01:07:00</td><td>0</td><td>ESI_i</td><td>2</td><td>demo</td><td>NA</td></tr>\n",
       "\t<tr><th scope=row>4</th><td>JC29f8beb</td><td>131264387263</td><td>34626013</td><td>2019-03-15 03:35:00</td><td>0</td><td>ESI_i</td><td>3</td><td>demo</td><td>NA</td></tr>\n",
       "\t<tr><th scope=row>5</th><td>JC29f8beb</td><td>131279241689</td><td>43527040</td><td>2019-11-27 15:29:00</td><td>0</td><td>ESI_i</td><td>3</td><td>demo</td><td>NA</td></tr>\n",
       "\t<tr><th scope=row>6</th><td>JC29f8bef</td><td>131280937356</td><td>44544574</td><td>2019-11-30 10:35:00</td><td>0</td><td>ESI_i</td><td>3</td><td>demo</td><td>NA</td></tr>\n",
       "</tbody>\n",
       "</table>\n"
      ],
      "text/latex": [
       "A data.frame: 6 × 9\n",
       "\\begin{tabular}{r|lllllllll}\n",
       "  & anon\\_id & pat\\_enc\\_csn\\_id\\_coded & inpatient\\_data\\_id\\_coded & admit\\_time & label & features & values & feature\\_type & time\\\\\n",
       "  & <chr> & <dbl> & <int> & <dttm> & <int> & <chr> & <dbl> & <chr> & <chr>\\\\\n",
       "\\hline\n",
       "\t1 & JC29f8ad2 & 131274729058 & 40679773 & 2019-08-31 12:52:00 & 0 & ESI\\_i & 3 & demo & NA\\\\\n",
       "\t2 & JC29f8ad3 & 131278291027 & 42992239 & 2019-10-05 23:48:00 & 0 & ESI\\_i & 3 & demo & NA\\\\\n",
       "\t3 & JC29f8b9c & 131266787806 & 36261582 & 2019-05-05 01:07:00 & 0 & ESI\\_i & 2 & demo & NA\\\\\n",
       "\t4 & JC29f8beb & 131264387263 & 34626013 & 2019-03-15 03:35:00 & 0 & ESI\\_i & 3 & demo & NA\\\\\n",
       "\t5 & JC29f8beb & 131279241689 & 43527040 & 2019-11-27 15:29:00 & 0 & ESI\\_i & 3 & demo & NA\\\\\n",
       "\t6 & JC29f8bef & 131280937356 & 44544574 & 2019-11-30 10:35:00 & 0 & ESI\\_i & 3 & demo & NA\\\\\n",
       "\\end{tabular}\n"
      ],
      "text/markdown": [
       "\n",
       "A data.frame: 6 × 9\n",
       "\n",
       "| <!--/--> | anon_id &lt;chr&gt; | pat_enc_csn_id_coded &lt;dbl&gt; | inpatient_data_id_coded &lt;int&gt; | admit_time &lt;dttm&gt; | label &lt;int&gt; | features &lt;chr&gt; | values &lt;dbl&gt; | feature_type &lt;chr&gt; | time &lt;chr&gt; |\n",
       "|---|---|---|---|---|---|---|---|---|---|\n",
       "| 1 | JC29f8ad2 | 131274729058 | 40679773 | 2019-08-31 12:52:00 | 0 | ESI_i | 3 | demo | NA |\n",
       "| 2 | JC29f8ad3 | 131278291027 | 42992239 | 2019-10-05 23:48:00 | 0 | ESI_i | 3 | demo | NA |\n",
       "| 3 | JC29f8b9c | 131266787806 | 36261582 | 2019-05-05 01:07:00 | 0 | ESI_i | 2 | demo | NA |\n",
       "| 4 | JC29f8beb | 131264387263 | 34626013 | 2019-03-15 03:35:00 | 0 | ESI_i | 3 | demo | NA |\n",
       "| 5 | JC29f8beb | 131279241689 | 43527040 | 2019-11-27 15:29:00 | 0 | ESI_i | 3 | demo | NA |\n",
       "| 6 | JC29f8bef | 131280937356 | 44544574 | 2019-11-30 10:35:00 | 0 | ESI_i | 3 | demo | NA |\n",
       "\n"
      ],
      "text/plain": [
       "  anon_id   pat_enc_csn_id_coded inpatient_data_id_coded admit_time         \n",
       "1 JC29f8ad2 131274729058         40679773                2019-08-31 12:52:00\n",
       "2 JC29f8ad3 131278291027         42992239                2019-10-05 23:48:00\n",
       "3 JC29f8b9c 131266787806         36261582                2019-05-05 01:07:00\n",
       "4 JC29f8beb 131264387263         34626013                2019-03-15 03:35:00\n",
       "5 JC29f8beb 131279241689         43527040                2019-11-27 15:29:00\n",
       "6 JC29f8bef 131280937356         44544574                2019-11-30 10:35:00\n",
       "  label features values feature_type time\n",
       "1 0     ESI_i    3      demo         NA  \n",
       "2 0     ESI_i    3      demo         NA  \n",
       "3 0     ESI_i    2      demo         NA  \n",
       "4 0     ESI_i    3      demo         NA  \n",
       "5 0     ESI_i    3      demo         NA  \n",
       "6 0     ESI_i    3      demo         NA  "
      ]
     },
     "metadata": {},
     "output_type": "display_data"
    }
   ],
   "source": [
    "head(feats)"
   ]
  },
  {
   "cell_type": "code",
   "execution_count": 92,
   "metadata": {},
   "outputs": [],
   "source": [
    "write.csv(feats, file.path(featuredir, \"2_7_cohort3L_features.csv\"), row.names=FALSE)"
   ]
  },
  {
   "cell_type": "raw",
   "metadata": {},
   "source": [
    "cohort_feats <- feats %>% select(anon_id, pat_enc_csn_id_coded, label_24hr_recent, admit_time,\n",
    "                                     feature_type, features, values, time)"
   ]
  },
  {
   "cell_type": "raw",
   "metadata": {},
   "source": [
    "head(cohort_feats)\n",
    "tail(cohort_feats)"
   ]
  },
  {
   "cell_type": "code",
   "execution_count": 82,
   "metadata": {},
   "outputs": [],
   "source": [
    "write.csv(cohort_feats, file.path(featuredir, \"cohort_features.csv\"), row.names=FALSE)"
   ]
  }
 ],
 "metadata": {
  "environment": {
   "name": "r-cpu.4-0.m71",
   "type": "gcloud",
   "uri": "gcr.io/deeplearning-platform-release/r-cpu.4-0:m71"
  },
  "kernelspec": {
   "display_name": "R",
   "language": "R",
   "name": "ir"
  },
  "language_info": {
   "codemirror_mode": "r",
   "file_extension": ".r",
   "mimetype": "text/x-r-source",
   "name": "R",
   "pygments_lexer": "r",
   "version": "4.1.0"
  },
  "toc": {
   "base_numbering": 1,
   "nav_menu": {},
   "number_sections": true,
   "sideBar": true,
   "skip_h1_title": false,
   "title_cell": "Table of Contents",
   "title_sidebar": "Contents",
   "toc_cell": false,
   "toc_position": {},
   "toc_section_display": true,
   "toc_window_display": false
  },
  "varInspector": {
   "cols": {
    "lenName": 16,
    "lenType": 16,
    "lenVar": 40
   },
   "kernels_config": {
    "python": {
     "delete_cmd_postfix": "",
     "delete_cmd_prefix": "del ",
     "library": "var_list.py",
     "varRefreshCmd": "print(var_dic_list())"
    },
    "r": {
     "delete_cmd_postfix": ") ",
     "delete_cmd_prefix": "rm(",
     "library": "var_list.r",
     "varRefreshCmd": "cat(var_dic_list()) "
    }
   },
   "types_to_exclude": [
    "module",
    "function",
    "builtin_function_or_method",
    "instance",
    "_Feature"
   ],
   "window_display": false
  }
 },
 "nbformat": 4,
 "nbformat_minor": 4
}
