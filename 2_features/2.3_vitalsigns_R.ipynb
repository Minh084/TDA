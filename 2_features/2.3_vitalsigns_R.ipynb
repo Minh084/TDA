{
 "cells": [
  {
   "cell_type": "markdown",
   "metadata": {},
   "source": [
    "### Description:\n",
    "\n",
    "- Clean variables from flowsheet, finalized with vital signs and GCS scores only\n",
    "- GCS and some other variables are ultimately not used due to inaccuracy and too many (or ALL) missing values.\n",
    "\n",
    "Inputs: \n",
    "- `flowsheet.csv` (from SQL)\n",
    "- `2_2_coh2_heightweight.csv` -- cohort which has demographics, ESI, and imputed HW processed\n",
    "\n",
    "\n",
    "Output files: \n",
    "\n",
    "- `2_3_coh2_vs1st` -- to update cohort after drop na\n",
    "- `1_3_cohort` -- cohort with a complete set of vital signs, for ESI imputation\n",
    "- `2_3_coh3_vitals_stats` -- summary stats of vital signs\n"
   ]
  },
  {
   "cell_type": "markdown",
   "metadata": {},
   "source": [
    "### Importing R libraries"
   ]
  },
  {
   "cell_type": "code",
   "execution_count": 1,
   "metadata": {
    "ExecuteTime": {
     "end_time": "2020-05-21T00:38:06.078240Z",
     "start_time": "2020-05-21T00:38:02.778Z"
    }
   },
   "outputs": [
    {
     "name": "stderr",
     "output_type": "stream",
     "text": [
      "── \u001b[1mAttaching packages\u001b[22m ─────────────────────────────────────── tidyverse 1.3.1 ──\n",
      "\n",
      "\u001b[32m✔\u001b[39m \u001b[34mggplot2\u001b[39m 3.3.3     \u001b[32m✔\u001b[39m \u001b[34mpurrr  \u001b[39m 0.3.4\n",
      "\u001b[32m✔\u001b[39m \u001b[34mtibble \u001b[39m 3.1.2     \u001b[32m✔\u001b[39m \u001b[34mdplyr  \u001b[39m 1.0.6\n",
      "\u001b[32m✔\u001b[39m \u001b[34mtidyr  \u001b[39m 1.1.3     \u001b[32m✔\u001b[39m \u001b[34mstringr\u001b[39m 1.4.0\n",
      "\u001b[32m✔\u001b[39m \u001b[34mreadr  \u001b[39m 1.4.0     \u001b[32m✔\u001b[39m \u001b[34mforcats\u001b[39m 0.5.1\n",
      "\n",
      "── \u001b[1mConflicts\u001b[22m ────────────────────────────────────────── tidyverse_conflicts() ──\n",
      "\u001b[31m✖\u001b[39m \u001b[34mdplyr\u001b[39m::\u001b[32mfilter()\u001b[39m masks \u001b[34mstats\u001b[39m::filter()\n",
      "\u001b[31m✖\u001b[39m \u001b[34mdplyr\u001b[39m::\u001b[32mlag()\u001b[39m    masks \u001b[34mstats\u001b[39m::lag()\n",
      "\n",
      "\n",
      "Attaching package: ‘lubridate’\n",
      "\n",
      "\n",
      "The following objects are masked from ‘package:base’:\n",
      "\n",
      "    date, intersect, setdiff, union\n",
      "\n",
      "\n"
     ]
    }
   ],
   "source": [
    "library(bigrquery)  # to query STARR-OMOP (stored in BigQuery) using SQL\n",
    "library(tidyverse)\n",
    "library(lubridate)\n",
    "\n",
    "# library(data.table)\n",
    "# library(Matrix)\n",
    "# library(caret) # import this before glmnet to avoid rlang version problem\n",
    "# library(glmnet)\n",
    "# library(bit64)\n",
    "\n",
    "# library(slam)\n",
    "# library(mtools) for one hot coder, not available on Nero or use caret or tidyr\n",
    "# library(mice)\n",
    "\n",
    "options(repr.matrix.max.rows=250, repr.matrix.max.cols=30)"
   ]
  },
  {
   "cell_type": "markdown",
   "metadata": {},
   "source": [
    "### Set up and run queries\n",
    "Do this on Nero GCP as querying from a local computer takes much longer time"
   ]
  },
  {
   "cell_type": "code",
   "execution_count": 7,
   "metadata": {},
   "outputs": [
    {
     "data": {
      "text/plain": [
       "NULL"
      ]
     },
     "metadata": {},
     "output_type": "display_data"
    }
   ],
   "source": [
    "# CREDENTIALS depending on LOCATIONS:\n",
    "# credential <- paste0(\"/home/\", \"minh084\", \"/.config/gcloud/application_default_credentials.json\")\n",
    "\n",
    "# local computer\n",
    "# credential <- \"C:/Users/User/AppData/Roaming/gcloud/application_default_credentials.json\"\n",
    "\n",
    "# Nero onprem\n",
    "# credential <- \"/home/minh084/.config/gcloud/application_default_credentials.json\"\n",
    "\n",
    "# Nero gcp notebook\n",
    "credential <- \"/home/jupyter/.config/gcloud/application_default_credentials.json\"\n",
    "\n",
    "project_id <- \"som-nero-phi-jonc101\"\n",
    "\n",
    "Sys.setenv(GOOGLE_APPLICATION_CREDENTIALS = credential)\n",
    "Sys.setenv(GCLOUD_PROJECT = project_id)\n",
    "gargle::credentials_app_default()"
   ]
  },
  {
   "cell_type": "code",
   "execution_count": 3,
   "metadata": {},
   "outputs": [
    {
     "data": {
      "text/plain": [
       "<BigQueryConnection>\n",
       "  Dataset: som-nero-phi-jonc101.shc_core\n",
       "  Billing: som-nero-phi-jonc101"
      ]
     },
     "metadata": {},
     "output_type": "display_data"
    },
    {
     "data": {
      "text/html": [
       "<style>\n",
       ".list-inline {list-style: none; margin:0; padding: 0}\n",
       ".list-inline>li {display: inline-block}\n",
       ".list-inline>li:not(:last-child)::after {content: \"\\00b7\"; padding: 0 .5ex}\n",
       "</style>\n",
       "<ol class=list-inline><li>'adt'</li><li>'allergy'</li><li>'culture_sensitivity'</li><li>'demographic'</li><li>'dep_map'</li><li>'diagnosis_code'</li><li>'drg_code'</li><li>'encounter'</li><li>'family_hx'</li><li>'flowsheet'</li><li>'lab_result'</li><li>'lda'</li><li>'mapped_meds'</li><li>'mar'</li><li>'med_orderset'</li><li>'ndc_code'</li><li>'order_med'</li><li>'order_proc'</li><li>'order_quest'</li><li>'proc_note'</li><li>'proc_orderset'</li><li>'procedure_code'</li><li>'prov_map'</li><li>'social_hx'</li><li>'treatment_team'</li></ol>\n"
      ],
      "text/latex": [
       "\\begin{enumerate*}\n",
       "\\item 'adt'\n",
       "\\item 'allergy'\n",
       "\\item 'culture\\_sensitivity'\n",
       "\\item 'demographic'\n",
       "\\item 'dep\\_map'\n",
       "\\item 'diagnosis\\_code'\n",
       "\\item 'drg\\_code'\n",
       "\\item 'encounter'\n",
       "\\item 'family\\_hx'\n",
       "\\item 'flowsheet'\n",
       "\\item 'lab\\_result'\n",
       "\\item 'lda'\n",
       "\\item 'mapped\\_meds'\n",
       "\\item 'mar'\n",
       "\\item 'med\\_orderset'\n",
       "\\item 'ndc\\_code'\n",
       "\\item 'order\\_med'\n",
       "\\item 'order\\_proc'\n",
       "\\item 'order\\_quest'\n",
       "\\item 'proc\\_note'\n",
       "\\item 'proc\\_orderset'\n",
       "\\item 'procedure\\_code'\n",
       "\\item 'prov\\_map'\n",
       "\\item 'social\\_hx'\n",
       "\\item 'treatment\\_team'\n",
       "\\end{enumerate*}\n"
      ],
      "text/markdown": [
       "1. 'adt'\n",
       "2. 'allergy'\n",
       "3. 'culture_sensitivity'\n",
       "4. 'demographic'\n",
       "5. 'dep_map'\n",
       "6. 'diagnosis_code'\n",
       "7. 'drg_code'\n",
       "8. 'encounter'\n",
       "9. 'family_hx'\n",
       "10. 'flowsheet'\n",
       "11. 'lab_result'\n",
       "12. 'lda'\n",
       "13. 'mapped_meds'\n",
       "14. 'mar'\n",
       "15. 'med_orderset'\n",
       "16. 'ndc_code'\n",
       "17. 'order_med'\n",
       "18. 'order_proc'\n",
       "19. 'order_quest'\n",
       "20. 'proc_note'\n",
       "21. 'proc_orderset'\n",
       "22. 'procedure_code'\n",
       "23. 'prov_map'\n",
       "24. 'social_hx'\n",
       "25. 'treatment_team'\n",
       "\n",
       "\n"
      ],
      "text/plain": [
       " [1] \"adt\"                 \"allergy\"             \"culture_sensitivity\"\n",
       " [4] \"demographic\"         \"dep_map\"             \"diagnosis_code\"     \n",
       " [7] \"drg_code\"            \"encounter\"           \"family_hx\"          \n",
       "[10] \"flowsheet\"           \"lab_result\"          \"lda\"                \n",
       "[13] \"mapped_meds\"         \"mar\"                 \"med_orderset\"       \n",
       "[16] \"ndc_code\"            \"order_med\"           \"order_proc\"         \n",
       "[19] \"order_quest\"         \"proc_note\"           \"proc_orderset\"      \n",
       "[22] \"procedure_code\"      \"prov_map\"            \"social_hx\"          \n",
       "[25] \"treatment_team\"     "
      ]
     },
     "metadata": {},
     "output_type": "display_data"
    }
   ],
   "source": [
    "library(DBI)\n",
    "con <- dbConnect(\n",
    "  bigrquery::bigquery(),\n",
    "  project = project_id,\n",
    "  dataset = \"shc_core\" #, billing = project_id\n",
    ")\n",
    "con \n",
    "dbListTables(con)"
   ]
  },
  {
   "cell_type": "raw",
   "metadata": {},
   "source": [
    "# m5_flowsheet.sql\n",
    "\n",
    "SELECT c.*,\n",
    "    f.template, f.row_disp_name, f.units, f.recorded_time_utc, f.num_value1, f.num_value2\n",
    "FROM \n",
    "    `som-nero-phi-jonc101.triageTD.1_2_cohort` as c \n",
    "JOIN \n",
    "    `som-nero-phi-jonc101.shc_core.flowsheet` as f\n",
    "ON \n",
    "    (c.anon_id=f.anon_id and c.inpatient_data_id_coded=f.inpatient_data_id_coded)\n",
    "WHERE\n",
    "    recorded_time_utc < admit_time --, 'yyyy-mm-dd hh24:mi:ss'\n",
    "AND row_disp_name in \n",
    "('Heart Rate', 'Pulse', \"Resting HR\", 'Resting Heart Rate (bpm)', 'Resting Pulse Rate: (Record BPM)', \n",
    " 'O2', 'O2 (LPM)', 'O2 Flow (L/min)', 'O2 Delivery Method', \n",
    " 'Resp Rate', 'Resp', 'Respiratory Rate',\n",
    " 'BP', 'NIBP', 'Arterial Systolic BP' , 'Arterial Diastolic BP' , 'Blood Pressure', \"Resting BP\", --'Resting Systolic Blood Pressure',\n",
    " 'Temp', 'Temp (in Celsius)', 'Temperature (Blood - PA line)', 'Temp 2', 'Temperature', \n",
    " 'Activity', 'Mobility', \n",
    " 'acuity score', 'Acuity as Level of Care',\n",
    " 'LOC', 'LOC Score')\n",
    "\n",
    "# submit the query:\n",
    "update.packages('Rcpp')\n",
    "df <- dbGetQuery(con, q)\n",
    "dim(df)\n",
    "colnames(df)"
   ]
  },
  {
   "cell_type": "markdown",
   "metadata": {},
   "source": [
    "### Check other flowsheet variables, mainly vital signs:\n",
    "   * Combine/collapse similar names into standard names for the below features\n",
    "   * Look at how common these are, look at the distributions, check extreme values on either sides\n",
    "   * Investigate some of these to see how far they are off from normal range to be considered errorneous.\n",
    "   * Note: num_value1 vs. num_value2, see details below\n",
    "   * Replace erroneous values as \"NA\".\n",
    "   \n",
    "**1. Blood pressure**: \n",
    "* DBP: num_value2 --> return NA if SBP > 10*DBP \n",
    "* There's no DBP without an SBP\n",
    "* Return NA for BP if both DBP and SBP are 0\n",
    "* SBP: return NA if < 30 or 33, same effect\n",
    "\n",
    "**2. Pulse**: return NA if < 21\n",
    "\n",
    "**3. Temp**: exist in both num_value1 and num_value2\n",
    "* num_value2 is not NA only when there's num_value1. if num_value1 is NA then num_value2 is also NA\n",
    "* For num_value1 <= 60, take it as Celcius degree\n",
    "* For num_value1 > 60, convert this temp in F to C\n",
    "* Return NA for num_value1 < 20 --> only 2: 0.1 and 9.4 (lowest 26C)\n",
    "\n",
    "**4. Respiratory Rate (RR)**: return NA for < 4 or > 60\n",
    "\n",
    "**5. SpO2**: return NA for < 40%. although there are lots of these, they are difficult to interpret without knowing O2 (LPM) and delivery device, which are not a lot here. missing can be considered as room air.\n",
    "\n",
    "**6. GCS**: points are different from scores, only use scores\n",
    "* num_value2 are the normal GCS score, num_value1 can be just points on 0-4 scale"
   ]
  },
  {
   "cell_type": "code",
   "execution_count": 2,
   "metadata": {},
   "outputs": [
    {
     "data": {
      "text/html": [
       "45796"
      ],
      "text/latex": [
       "45796"
      ],
      "text/markdown": [
       "45796"
      ],
      "text/plain": [
       "[1] 45796"
      ]
     },
     "metadata": {},
     "output_type": "display_data"
    },
    {
     "data": {
      "text/html": [
       "929494"
      ],
      "text/latex": [
       "929494"
      ],
      "text/markdown": [
       "929494"
      ],
      "text/plain": [
       "[1] 929494"
      ]
     },
     "metadata": {},
     "output_type": "display_data"
    },
    {
     "data": {
      "text/html": [
       "<style>\n",
       ".list-inline {list-style: none; margin:0; padding: 0}\n",
       ".list-inline>li {display: inline-block}\n",
       ".list-inline>li:not(:last-child)::after {content: \"\\00b7\"; padding: 0 .5ex}\n",
       "</style>\n",
       "<ol class=list-inline><li>'anon_id'</li><li>'pat_enc_csn_id_coded'</li><li>'label'</li><li>'admit_time'</li><li>'inpatient_data_id_coded'</li><li>'ESI'</li><li>'hosp_admsn_time'</li><li>'ed_time_hr'</li><li>'gender'</li><li>'race'</li><li>'language'</li><li>'recent_height_cm'</li><li>'recent_weight_kg'</li><li>'insurance'</li><li>'recent_date'</li><li>'age'</li><li>'template'</li><li>'row_disp_name'</li><li>'units'</li><li>'recorded_time_utc'</li><li>'num_value1'</li><li>'num_value2'</li></ol>\n"
      ],
      "text/latex": [
       "\\begin{enumerate*}\n",
       "\\item 'anon\\_id'\n",
       "\\item 'pat\\_enc\\_csn\\_id\\_coded'\n",
       "\\item 'label'\n",
       "\\item 'admit\\_time'\n",
       "\\item 'inpatient\\_data\\_id\\_coded'\n",
       "\\item 'ESI'\n",
       "\\item 'hosp\\_admsn\\_time'\n",
       "\\item 'ed\\_time\\_hr'\n",
       "\\item 'gender'\n",
       "\\item 'race'\n",
       "\\item 'language'\n",
       "\\item 'recent\\_height\\_cm'\n",
       "\\item 'recent\\_weight\\_kg'\n",
       "\\item 'insurance'\n",
       "\\item 'recent\\_date'\n",
       "\\item 'age'\n",
       "\\item 'template'\n",
       "\\item 'row\\_disp\\_name'\n",
       "\\item 'units'\n",
       "\\item 'recorded\\_time\\_utc'\n",
       "\\item 'num\\_value1'\n",
       "\\item 'num\\_value2'\n",
       "\\end{enumerate*}\n"
      ],
      "text/markdown": [
       "1. 'anon_id'\n",
       "2. 'pat_enc_csn_id_coded'\n",
       "3. 'label'\n",
       "4. 'admit_time'\n",
       "5. 'inpatient_data_id_coded'\n",
       "6. 'ESI'\n",
       "7. 'hosp_admsn_time'\n",
       "8. 'ed_time_hr'\n",
       "9. 'gender'\n",
       "10. 'race'\n",
       "11. 'language'\n",
       "12. 'recent_height_cm'\n",
       "13. 'recent_weight_kg'\n",
       "14. 'insurance'\n",
       "15. 'recent_date'\n",
       "16. 'age'\n",
       "17. 'template'\n",
       "18. 'row_disp_name'\n",
       "19. 'units'\n",
       "20. 'recorded_time_utc'\n",
       "21. 'num_value1'\n",
       "22. 'num_value2'\n",
       "\n",
       "\n"
      ],
      "text/plain": [
       " [1] \"anon_id\"                 \"pat_enc_csn_id_coded\"   \n",
       " [3] \"label\"                   \"admit_time\"             \n",
       " [5] \"inpatient_data_id_coded\" \"ESI\"                    \n",
       " [7] \"hosp_admsn_time\"         \"ed_time_hr\"             \n",
       " [9] \"gender\"                  \"race\"                   \n",
       "[11] \"language\"                \"recent_height_cm\"       \n",
       "[13] \"recent_weight_kg\"        \"insurance\"              \n",
       "[15] \"recent_date\"             \"age\"                    \n",
       "[17] \"template\"                \"row_disp_name\"          \n",
       "[19] \"units\"                   \"recorded_time_utc\"      \n",
       "[21] \"num_value1\"              \"num_value2\"             "
      ]
     },
     "metadata": {},
     "output_type": "display_data"
    }
   ],
   "source": [
    "# read inputs\n",
    "datadir = \"../../DataTD\"\n",
    "featuredir = \"../../OutputTD/2_features\"\n",
    "\n",
    "\n",
    "cohort <- read.csv(file.path(featuredir, \"2_2_coh2_heightweight.csv\"))\n",
    "vitals0 <- read.csv(file.path(datadir, \"flowsheet.csv\")) \n",
    "\n",
    "# check for unique CSNs and MRNs\n",
    "nrow(cohort) #45796\n",
    "nrow(vitals0) #depending on which cohort_demo used to query flowsheet 218930\n",
    "colnames(vitals0) #854342"
   ]
  },
  {
   "cell_type": "code",
   "execution_count": 3,
   "metadata": {},
   "outputs": [
    {
     "data": {
      "text/html": [
       "<table>\n",
       "<caption>A data.frame: 1 × 13</caption>\n",
       "<thead>\n",
       "\t<tr><th></th><th scope=col>anon_id</th><th scope=col>pat_enc_csn_id_coded</th><th scope=col>label</th><th scope=col>admit_time</th><th scope=col>inpatient_data_id_coded</th><th scope=col>ESI</th><th scope=col>gender</th><th scope=col>race</th><th scope=col>insurance</th><th scope=col>age</th><th scope=col>English</th><th scope=col>Height</th><th scope=col>Weight</th></tr>\n",
       "\t<tr><th></th><th scope=col>&lt;chr&gt;</th><th scope=col>&lt;dbl&gt;</th><th scope=col>&lt;int&gt;</th><th scope=col>&lt;chr&gt;</th><th scope=col>&lt;int&gt;</th><th scope=col>&lt;int&gt;</th><th scope=col>&lt;chr&gt;</th><th scope=col>&lt;chr&gt;</th><th scope=col>&lt;int&gt;</th><th scope=col>&lt;int&gt;</th><th scope=col>&lt;int&gt;</th><th scope=col>&lt;dbl&gt;</th><th scope=col>&lt;dbl&gt;</th></tr>\n",
       "</thead>\n",
       "<tbody>\n",
       "\t<tr><th scope=row>1</th><td>JC29f8ad2</td><td>131274729058</td><td>0</td><td>2019-08-31 12:52:00</td><td>40679773</td><td>3</td><td>Female</td><td>White</td><td>1</td><td>52</td><td>1</td><td>165</td><td>81</td></tr>\n",
       "</tbody>\n",
       "</table>\n"
      ],
      "text/latex": [
       "A data.frame: 1 × 13\n",
       "\\begin{tabular}{r|lllllllllllll}\n",
       "  & anon\\_id & pat\\_enc\\_csn\\_id\\_coded & label & admit\\_time & inpatient\\_data\\_id\\_coded & ESI & gender & race & insurance & age & English & Height & Weight\\\\\n",
       "  & <chr> & <dbl> & <int> & <chr> & <int> & <int> & <chr> & <chr> & <int> & <int> & <int> & <dbl> & <dbl>\\\\\n",
       "\\hline\n",
       "\t1 & JC29f8ad2 & 131274729058 & 0 & 2019-08-31 12:52:00 & 40679773 & 3 & Female & White & 1 & 52 & 1 & 165 & 81\\\\\n",
       "\\end{tabular}\n"
      ],
      "text/markdown": [
       "\n",
       "A data.frame: 1 × 13\n",
       "\n",
       "| <!--/--> | anon_id &lt;chr&gt; | pat_enc_csn_id_coded &lt;dbl&gt; | label &lt;int&gt; | admit_time &lt;chr&gt; | inpatient_data_id_coded &lt;int&gt; | ESI &lt;int&gt; | gender &lt;chr&gt; | race &lt;chr&gt; | insurance &lt;int&gt; | age &lt;int&gt; | English &lt;int&gt; | Height &lt;dbl&gt; | Weight &lt;dbl&gt; |\n",
       "|---|---|---|---|---|---|---|---|---|---|---|---|---|---|\n",
       "| 1 | JC29f8ad2 | 131274729058 | 0 | 2019-08-31 12:52:00 | 40679773 | 3 | Female | White | 1 | 52 | 1 | 165 | 81 |\n",
       "\n"
      ],
      "text/plain": [
       "  anon_id   pat_enc_csn_id_coded label admit_time         \n",
       "1 JC29f8ad2 131274729058         0     2019-08-31 12:52:00\n",
       "  inpatient_data_id_coded ESI gender race  insurance age English Height Weight\n",
       "1 40679773                3   Female White 1         52  1       165    81    "
      ]
     },
     "metadata": {},
     "output_type": "display_data"
    },
    {
     "data": {
      "text/html": [
       "<table>\n",
       "<caption>A data.frame: 1 × 22</caption>\n",
       "<thead>\n",
       "\t<tr><th></th><th scope=col>anon_id</th><th scope=col>pat_enc_csn_id_coded</th><th scope=col>label</th><th scope=col>admit_time</th><th scope=col>inpatient_data_id_coded</th><th scope=col>ESI</th><th scope=col>hosp_admsn_time</th><th scope=col>ed_time_hr</th><th scope=col>gender</th><th scope=col>race</th><th scope=col>language</th><th scope=col>recent_height_cm</th><th scope=col>recent_weight_kg</th><th scope=col>insurance</th><th scope=col>recent_date</th><th scope=col>age</th><th scope=col>template</th><th scope=col>row_disp_name</th><th scope=col>units</th><th scope=col>recorded_time_utc</th><th scope=col>num_value1</th><th scope=col>num_value2</th></tr>\n",
       "\t<tr><th></th><th scope=col>&lt;chr&gt;</th><th scope=col>&lt;dbl&gt;</th><th scope=col>&lt;int&gt;</th><th scope=col>&lt;chr&gt;</th><th scope=col>&lt;int&gt;</th><th scope=col>&lt;dbl&gt;</th><th scope=col>&lt;chr&gt;</th><th scope=col>&lt;dbl&gt;</th><th scope=col>&lt;chr&gt;</th><th scope=col>&lt;chr&gt;</th><th scope=col>&lt;chr&gt;</th><th scope=col>&lt;dbl&gt;</th><th scope=col>&lt;dbl&gt;</th><th scope=col>&lt;chr&gt;</th><th scope=col>&lt;chr&gt;</th><th scope=col>&lt;int&gt;</th><th scope=col>&lt;chr&gt;</th><th scope=col>&lt;chr&gt;</th><th scope=col>&lt;chr&gt;</th><th scope=col>&lt;chr&gt;</th><th scope=col>&lt;dbl&gt;</th><th scope=col>&lt;dbl&gt;</th></tr>\n",
       "</thead>\n",
       "<tbody>\n",
       "\t<tr><th scope=row>1</th><td>JCd2d5e8</td><td>131238583282</td><td>0</td><td>2017-08-23 08:29:00+00:00</td><td>26143772</td><td>3</td><td>2017-08-23 05:47:00+00:00</td><td>2.7</td><td>Female</td><td>Asian</td><td>English</td><td>152.4</td><td>52.16</td><td>MEDICAID</td><td>2019-01-01</td><td>52</td><td>Psych Assessment</td><td>Activity</td><td></td><td>2017-08-23 06:20:00+00:00</td><td>NA</td><td>NA</td></tr>\n",
       "</tbody>\n",
       "</table>\n"
      ],
      "text/latex": [
       "A data.frame: 1 × 22\n",
       "\\begin{tabular}{r|llllllllllllllllllllll}\n",
       "  & anon\\_id & pat\\_enc\\_csn\\_id\\_coded & label & admit\\_time & inpatient\\_data\\_id\\_coded & ESI & hosp\\_admsn\\_time & ed\\_time\\_hr & gender & race & language & recent\\_height\\_cm & recent\\_weight\\_kg & insurance & recent\\_date & age & template & row\\_disp\\_name & units & recorded\\_time\\_utc & num\\_value1 & num\\_value2\\\\\n",
       "  & <chr> & <dbl> & <int> & <chr> & <int> & <dbl> & <chr> & <dbl> & <chr> & <chr> & <chr> & <dbl> & <dbl> & <chr> & <chr> & <int> & <chr> & <chr> & <chr> & <chr> & <dbl> & <dbl>\\\\\n",
       "\\hline\n",
       "\t1 & JCd2d5e8 & 131238583282 & 0 & 2017-08-23 08:29:00+00:00 & 26143772 & 3 & 2017-08-23 05:47:00+00:00 & 2.7 & Female & Asian & English & 152.4 & 52.16 & MEDICAID & 2019-01-01 & 52 & Psych Assessment & Activity &  & 2017-08-23 06:20:00+00:00 & NA & NA\\\\\n",
       "\\end{tabular}\n"
      ],
      "text/markdown": [
       "\n",
       "A data.frame: 1 × 22\n",
       "\n",
       "| <!--/--> | anon_id &lt;chr&gt; | pat_enc_csn_id_coded &lt;dbl&gt; | label &lt;int&gt; | admit_time &lt;chr&gt; | inpatient_data_id_coded &lt;int&gt; | ESI &lt;dbl&gt; | hosp_admsn_time &lt;chr&gt; | ed_time_hr &lt;dbl&gt; | gender &lt;chr&gt; | race &lt;chr&gt; | language &lt;chr&gt; | recent_height_cm &lt;dbl&gt; | recent_weight_kg &lt;dbl&gt; | insurance &lt;chr&gt; | recent_date &lt;chr&gt; | age &lt;int&gt; | template &lt;chr&gt; | row_disp_name &lt;chr&gt; | units &lt;chr&gt; | recorded_time_utc &lt;chr&gt; | num_value1 &lt;dbl&gt; | num_value2 &lt;dbl&gt; |\n",
       "|---|---|---|---|---|---|---|---|---|---|---|---|---|---|---|---|---|---|---|---|---|---|---|\n",
       "| 1 | JCd2d5e8 | 131238583282 | 0 | 2017-08-23 08:29:00+00:00 | 26143772 | 3 | 2017-08-23 05:47:00+00:00 | 2.7 | Female | Asian | English | 152.4 | 52.16 | MEDICAID | 2019-01-01 | 52 | Psych Assessment | Activity | <!----> | 2017-08-23 06:20:00+00:00 | NA | NA |\n",
       "\n"
      ],
      "text/plain": [
       "  anon_id  pat_enc_csn_id_coded label admit_time               \n",
       "1 JCd2d5e8 131238583282         0     2017-08-23 08:29:00+00:00\n",
       "  inpatient_data_id_coded ESI hosp_admsn_time           ed_time_hr gender race \n",
       "1 26143772                3   2017-08-23 05:47:00+00:00 2.7        Female Asian\n",
       "  language recent_height_cm recent_weight_kg insurance recent_date age\n",
       "1 English  152.4            52.16            MEDICAID  2019-01-01  52 \n",
       "  template         row_disp_name units recorded_time_utc         num_value1\n",
       "1 Psych Assessment Activity            2017-08-23 06:20:00+00:00 NA        \n",
       "  num_value2\n",
       "1 NA        "
      ]
     },
     "metadata": {},
     "output_type": "display_data"
    }
   ],
   "source": [
    "head(cohort, n=1)\n",
    "head(vitals0, n=1)"
   ]
  },
  {
   "cell_type": "code",
   "execution_count": 4,
   "metadata": {},
   "outputs": [
    {
     "data": {
      "text/html": [
       "<table>\n",
       "<caption>A grouped_df: 3 × 2</caption>\n",
       "<thead>\n",
       "\t<tr><th scope=col>units</th><th scope=col>n</th></tr>\n",
       "\t<tr><th scope=col>&lt;chr&gt;</th><th scope=col>&lt;int&gt;</th></tr>\n",
       "</thead>\n",
       "<tbody>\n",
       "\t<tr><td>   </td><td>895345</td></tr>\n",
       "\t<tr><td>bpm</td><td>    12</td></tr>\n",
       "\t<tr><td>LPM</td><td> 34137</td></tr>\n",
       "</tbody>\n",
       "</table>\n"
      ],
      "text/latex": [
       "A grouped\\_df: 3 × 2\n",
       "\\begin{tabular}{ll}\n",
       " units & n\\\\\n",
       " <chr> & <int>\\\\\n",
       "\\hline\n",
       "\t     & 895345\\\\\n",
       "\t bpm &     12\\\\\n",
       "\t LPM &  34137\\\\\n",
       "\\end{tabular}\n"
      ],
      "text/markdown": [
       "\n",
       "A grouped_df: 3 × 2\n",
       "\n",
       "| units &lt;chr&gt; | n &lt;int&gt; |\n",
       "|---|---|\n",
       "| <!----> | 895345 |\n",
       "| bpm |     12 |\n",
       "| LPM |  34137 |\n",
       "\n"
      ],
      "text/plain": [
       "  units n     \n",
       "1       895345\n",
       "2 bpm       12\n",
       "3 LPM    34137"
      ]
     },
     "metadata": {},
     "output_type": "display_data"
    },
    {
     "data": {
      "text/html": [
       "<table>\n",
       "<caption>A grouped_df: 20 × 2</caption>\n",
       "<thead>\n",
       "\t<tr><th scope=col>row_disp_name</th><th scope=col>n</th></tr>\n",
       "\t<tr><th scope=col>&lt;chr&gt;</th><th scope=col>&lt;int&gt;</th></tr>\n",
       "</thead>\n",
       "<tbody>\n",
       "\t<tr><td>Pulse                           </td><td>227570</td></tr>\n",
       "\t<tr><td>Resp                            </td><td>216017</td></tr>\n",
       "\t<tr><td>BP                              </td><td>213405</td></tr>\n",
       "\t<tr><td>Temp                            </td><td> 82081</td></tr>\n",
       "\t<tr><td>Temp (in Celsius)               </td><td> 63143</td></tr>\n",
       "\t<tr><td>Heart Rate                      </td><td> 60926</td></tr>\n",
       "\t<tr><td>O2 (LPM)                        </td><td> 34137</td></tr>\n",
       "\t<tr><td>Mobility                        </td><td> 16097</td></tr>\n",
       "\t<tr><td>Activity                        </td><td>  8326</td></tr>\n",
       "\t<tr><td>LOC                             </td><td>  4034</td></tr>\n",
       "\t<tr><td>Respiratory Rate                </td><td>  1868</td></tr>\n",
       "\t<tr><td>LOC Score                       </td><td>  1175</td></tr>\n",
       "\t<tr><td>O2 Delivery Method              </td><td>   434</td></tr>\n",
       "\t<tr><td>Blood Pressure                  </td><td>   194</td></tr>\n",
       "\t<tr><td>O2 Flow (L/min)                 </td><td>    42</td></tr>\n",
       "\t<tr><td>Arterial Systolic BP            </td><td>    21</td></tr>\n",
       "\t<tr><td>Resp Rate                       </td><td>    11</td></tr>\n",
       "\t<tr><td>Resting Pulse Rate: (Record BPM)</td><td>     9</td></tr>\n",
       "\t<tr><td>Temperature                     </td><td>     3</td></tr>\n",
       "\t<tr><td>NIBP                            </td><td>     1</td></tr>\n",
       "</tbody>\n",
       "</table>\n"
      ],
      "text/latex": [
       "A grouped\\_df: 20 × 2\n",
       "\\begin{tabular}{ll}\n",
       " row\\_disp\\_name & n\\\\\n",
       " <chr> & <int>\\\\\n",
       "\\hline\n",
       "\t Pulse                            & 227570\\\\\n",
       "\t Resp                             & 216017\\\\\n",
       "\t BP                               & 213405\\\\\n",
       "\t Temp                             &  82081\\\\\n",
       "\t Temp (in Celsius)                &  63143\\\\\n",
       "\t Heart Rate                       &  60926\\\\\n",
       "\t O2 (LPM)                         &  34137\\\\\n",
       "\t Mobility                         &  16097\\\\\n",
       "\t Activity                         &   8326\\\\\n",
       "\t LOC                              &   4034\\\\\n",
       "\t Respiratory Rate                 &   1868\\\\\n",
       "\t LOC Score                        &   1175\\\\\n",
       "\t O2 Delivery Method               &    434\\\\\n",
       "\t Blood Pressure                   &    194\\\\\n",
       "\t O2 Flow (L/min)                  &     42\\\\\n",
       "\t Arterial Systolic BP             &     21\\\\\n",
       "\t Resp Rate                        &     11\\\\\n",
       "\t Resting Pulse Rate: (Record BPM) &      9\\\\\n",
       "\t Temperature                      &      3\\\\\n",
       "\t NIBP                             &      1\\\\\n",
       "\\end{tabular}\n"
      ],
      "text/markdown": [
       "\n",
       "A grouped_df: 20 × 2\n",
       "\n",
       "| row_disp_name &lt;chr&gt; | n &lt;int&gt; |\n",
       "|---|---|\n",
       "| Pulse                            | 227570 |\n",
       "| Resp                             | 216017 |\n",
       "| BP                               | 213405 |\n",
       "| Temp                             |  82081 |\n",
       "| Temp (in Celsius)                |  63143 |\n",
       "| Heart Rate                       |  60926 |\n",
       "| O2 (LPM)                         |  34137 |\n",
       "| Mobility                         |  16097 |\n",
       "| Activity                         |   8326 |\n",
       "| LOC                              |   4034 |\n",
       "| Respiratory Rate                 |   1868 |\n",
       "| LOC Score                        |   1175 |\n",
       "| O2 Delivery Method               |    434 |\n",
       "| Blood Pressure                   |    194 |\n",
       "| O2 Flow (L/min)                  |     42 |\n",
       "| Arterial Systolic BP             |     21 |\n",
       "| Resp Rate                        |     11 |\n",
       "| Resting Pulse Rate: (Record BPM) |      9 |\n",
       "| Temperature                      |      3 |\n",
       "| NIBP                             |      1 |\n",
       "\n"
      ],
      "text/plain": [
       "   row_disp_name                    n     \n",
       "1  Pulse                            227570\n",
       "2  Resp                             216017\n",
       "3  BP                               213405\n",
       "4  Temp                              82081\n",
       "5  Temp (in Celsius)                 63143\n",
       "6  Heart Rate                        60926\n",
       "7  O2 (LPM)                          34137\n",
       "8  Mobility                          16097\n",
       "9  Activity                           8326\n",
       "10 LOC                                4034\n",
       "11 Respiratory Rate                   1868\n",
       "12 LOC Score                          1175\n",
       "13 O2 Delivery Method                  434\n",
       "14 Blood Pressure                      194\n",
       "15 O2 Flow (L/min)                      42\n",
       "16 Arterial Systolic BP                 21\n",
       "17 Resp Rate                            11\n",
       "18 Resting Pulse Rate: (Record BPM)      9\n",
       "19 Temperature                           3\n",
       "20 NIBP                                  1"
      ]
     },
     "metadata": {},
     "output_type": "display_data"
    }
   ],
   "source": [
    "vitals0 %>% group_by(units) %>% count()\n",
    "vitals0 %>% group_by(row_disp_name) %>% count() %>% arrange(-n)"
   ]
  },
  {
   "cell_type": "code",
   "execution_count": 5,
   "metadata": {},
   "outputs": [
    {
     "data": {
      "text/html": [
       "<table>\n",
       "<caption>A data.frame: 23 × 5</caption>\n",
       "<thead>\n",
       "\t<tr><th scope=col>template</th><th scope=col>row_disp_name</th><th scope=col>units</th><th scope=col>num_value1</th><th scope=col>num_value2</th></tr>\n",
       "\t<tr><th scope=col>&lt;chr&gt;</th><th scope=col>&lt;chr&gt;</th><th scope=col>&lt;chr&gt;</th><th scope=col>&lt;dbl&gt;</th><th scope=col>&lt;dbl&gt;</th></tr>\n",
       "</thead>\n",
       "<tbody>\n",
       "\t<tr><td>DATA VALIDATE                   </td><td>Resp Rate                       </td><td>bpm</td><td>27</td><td>NA</td></tr>\n",
       "\t<tr><td>DATA VALIDATE                   </td><td>Resp Rate                       </td><td>bpm</td><td>26</td><td>NA</td></tr>\n",
       "\t<tr><td>DATA VALIDATE                   </td><td>Resp Rate                       </td><td>bpm</td><td>20</td><td>NA</td></tr>\n",
       "\t<tr><td>DATA VALIDATE                   </td><td>Resp Rate                       </td><td>bpm</td><td> 8</td><td>NA</td></tr>\n",
       "\t<tr><td>DATA VALIDATE                   </td><td>Resp Rate                       </td><td>bpm</td><td> 6</td><td>NA</td></tr>\n",
       "\t<tr><td>DATA VALIDATE                   </td><td>Resp Rate                       </td><td>bpm</td><td>29</td><td>NA</td></tr>\n",
       "\t<tr><td>VS                              </td><td>Resp Rate                       </td><td>bpm</td><td>19</td><td>NA</td></tr>\n",
       "\t<tr><td>DATA VALIDATE                   </td><td>Resp Rate                       </td><td>bpm</td><td>28</td><td>NA</td></tr>\n",
       "\t<tr><td>DATA VALIDATE                   </td><td>Resp Rate                       </td><td>bpm</td><td>10</td><td>NA</td></tr>\n",
       "\t<tr><td>DATA VALIDATE                   </td><td>Resp Rate                       </td><td>bpm</td><td> 2</td><td>NA</td></tr>\n",
       "\t<tr><td>DATA VALIDATE                   </td><td>Resp Rate                       </td><td>bpm</td><td>25</td><td>NA</td></tr>\n",
       "\t<tr><td>Clinical Opiate Withdrawal Scale</td><td>Resting Pulse Rate: (Record BPM)</td><td>   </td><td>NA</td><td>NA</td></tr>\n",
       "\t<tr><td>Clinical Opiate Withdrawal Scale</td><td>Resting Pulse Rate: (Record BPM)</td><td>   </td><td>NA</td><td>NA</td></tr>\n",
       "\t<tr><td>Clinical Opiate Withdrawal Scale</td><td>Resting Pulse Rate: (Record BPM)</td><td>   </td><td>NA</td><td>NA</td></tr>\n",
       "\t<tr><td>Clinical Opiate Withdrawal Scale</td><td>Resting Pulse Rate: (Record BPM)</td><td>   </td><td>NA</td><td>NA</td></tr>\n",
       "\t<tr><td>Clinical Opiate Withdrawal Scale</td><td>Resting Pulse Rate: (Record BPM)</td><td>   </td><td>NA</td><td>NA</td></tr>\n",
       "\t<tr><td>Clinical Opiate Withdrawal Scale</td><td>Resting Pulse Rate: (Record BPM)</td><td>   </td><td>NA</td><td>NA</td></tr>\n",
       "\t<tr><td>Clinical Opiate Withdrawal Scale</td><td>Resting Pulse Rate: (Record BPM)</td><td>   </td><td>NA</td><td>NA</td></tr>\n",
       "\t<tr><td>Clinical Opiate Withdrawal Scale</td><td>Resting Pulse Rate: (Record BPM)</td><td>   </td><td>NA</td><td>NA</td></tr>\n",
       "\t<tr><td>Clinical Opiate Withdrawal Scale</td><td>Resting Pulse Rate: (Record BPM)</td><td>   </td><td>NA</td><td>NA</td></tr>\n",
       "\t<tr><td>Simple Assessment               </td><td>Temperature                     </td><td>   </td><td>NA</td><td>NA</td></tr>\n",
       "\t<tr><td>Wounds                          </td><td>Temperature                     </td><td>   </td><td>NA</td><td>NA</td></tr>\n",
       "\t<tr><td>Wounds                          </td><td>Temperature                     </td><td>   </td><td>NA</td><td>NA</td></tr>\n",
       "</tbody>\n",
       "</table>\n"
      ],
      "text/latex": [
       "A data.frame: 23 × 5\n",
       "\\begin{tabular}{lllll}\n",
       " template & row\\_disp\\_name & units & num\\_value1 & num\\_value2\\\\\n",
       " <chr> & <chr> & <chr> & <dbl> & <dbl>\\\\\n",
       "\\hline\n",
       "\t DATA VALIDATE                    & Resp Rate                        & bpm & 27 & NA\\\\\n",
       "\t DATA VALIDATE                    & Resp Rate                        & bpm & 26 & NA\\\\\n",
       "\t DATA VALIDATE                    & Resp Rate                        & bpm & 20 & NA\\\\\n",
       "\t DATA VALIDATE                    & Resp Rate                        & bpm &  8 & NA\\\\\n",
       "\t DATA VALIDATE                    & Resp Rate                        & bpm &  6 & NA\\\\\n",
       "\t DATA VALIDATE                    & Resp Rate                        & bpm & 29 & NA\\\\\n",
       "\t VS                               & Resp Rate                        & bpm & 19 & NA\\\\\n",
       "\t DATA VALIDATE                    & Resp Rate                        & bpm & 28 & NA\\\\\n",
       "\t DATA VALIDATE                    & Resp Rate                        & bpm & 10 & NA\\\\\n",
       "\t DATA VALIDATE                    & Resp Rate                        & bpm &  2 & NA\\\\\n",
       "\t DATA VALIDATE                    & Resp Rate                        & bpm & 25 & NA\\\\\n",
       "\t Clinical Opiate Withdrawal Scale & Resting Pulse Rate: (Record BPM) &     & NA & NA\\\\\n",
       "\t Clinical Opiate Withdrawal Scale & Resting Pulse Rate: (Record BPM) &     & NA & NA\\\\\n",
       "\t Clinical Opiate Withdrawal Scale & Resting Pulse Rate: (Record BPM) &     & NA & NA\\\\\n",
       "\t Clinical Opiate Withdrawal Scale & Resting Pulse Rate: (Record BPM) &     & NA & NA\\\\\n",
       "\t Clinical Opiate Withdrawal Scale & Resting Pulse Rate: (Record BPM) &     & NA & NA\\\\\n",
       "\t Clinical Opiate Withdrawal Scale & Resting Pulse Rate: (Record BPM) &     & NA & NA\\\\\n",
       "\t Clinical Opiate Withdrawal Scale & Resting Pulse Rate: (Record BPM) &     & NA & NA\\\\\n",
       "\t Clinical Opiate Withdrawal Scale & Resting Pulse Rate: (Record BPM) &     & NA & NA\\\\\n",
       "\t Clinical Opiate Withdrawal Scale & Resting Pulse Rate: (Record BPM) &     & NA & NA\\\\\n",
       "\t Simple Assessment                & Temperature                      &     & NA & NA\\\\\n",
       "\t Wounds                           & Temperature                      &     & NA & NA\\\\\n",
       "\t Wounds                           & Temperature                      &     & NA & NA\\\\\n",
       "\\end{tabular}\n"
      ],
      "text/markdown": [
       "\n",
       "A data.frame: 23 × 5\n",
       "\n",
       "| template &lt;chr&gt; | row_disp_name &lt;chr&gt; | units &lt;chr&gt; | num_value1 &lt;dbl&gt; | num_value2 &lt;dbl&gt; |\n",
       "|---|---|---|---|---|\n",
       "| DATA VALIDATE                    | Resp Rate                        | bpm | 27 | NA |\n",
       "| DATA VALIDATE                    | Resp Rate                        | bpm | 26 | NA |\n",
       "| DATA VALIDATE                    | Resp Rate                        | bpm | 20 | NA |\n",
       "| DATA VALIDATE                    | Resp Rate                        | bpm |  8 | NA |\n",
       "| DATA VALIDATE                    | Resp Rate                        | bpm |  6 | NA |\n",
       "| DATA VALIDATE                    | Resp Rate                        | bpm | 29 | NA |\n",
       "| VS                               | Resp Rate                        | bpm | 19 | NA |\n",
       "| DATA VALIDATE                    | Resp Rate                        | bpm | 28 | NA |\n",
       "| DATA VALIDATE                    | Resp Rate                        | bpm | 10 | NA |\n",
       "| DATA VALIDATE                    | Resp Rate                        | bpm |  2 | NA |\n",
       "| DATA VALIDATE                    | Resp Rate                        | bpm | 25 | NA |\n",
       "| Clinical Opiate Withdrawal Scale | Resting Pulse Rate: (Record BPM) | <!----> | NA | NA |\n",
       "| Clinical Opiate Withdrawal Scale | Resting Pulse Rate: (Record BPM) | <!----> | NA | NA |\n",
       "| Clinical Opiate Withdrawal Scale | Resting Pulse Rate: (Record BPM) | <!----> | NA | NA |\n",
       "| Clinical Opiate Withdrawal Scale | Resting Pulse Rate: (Record BPM) | <!----> | NA | NA |\n",
       "| Clinical Opiate Withdrawal Scale | Resting Pulse Rate: (Record BPM) | <!----> | NA | NA |\n",
       "| Clinical Opiate Withdrawal Scale | Resting Pulse Rate: (Record BPM) | <!----> | NA | NA |\n",
       "| Clinical Opiate Withdrawal Scale | Resting Pulse Rate: (Record BPM) | <!----> | NA | NA |\n",
       "| Clinical Opiate Withdrawal Scale | Resting Pulse Rate: (Record BPM) | <!----> | NA | NA |\n",
       "| Clinical Opiate Withdrawal Scale | Resting Pulse Rate: (Record BPM) | <!----> | NA | NA |\n",
       "| Simple Assessment                | Temperature                      | <!----> | NA | NA |\n",
       "| Wounds                           | Temperature                      | <!----> | NA | NA |\n",
       "| Wounds                           | Temperature                      | <!----> | NA | NA |\n",
       "\n"
      ],
      "text/plain": [
       "   template                         row_disp_name                    units\n",
       "1  DATA VALIDATE                    Resp Rate                        bpm  \n",
       "2  DATA VALIDATE                    Resp Rate                        bpm  \n",
       "3  DATA VALIDATE                    Resp Rate                        bpm  \n",
       "4  DATA VALIDATE                    Resp Rate                        bpm  \n",
       "5  DATA VALIDATE                    Resp Rate                        bpm  \n",
       "6  DATA VALIDATE                    Resp Rate                        bpm  \n",
       "7  VS                               Resp Rate                        bpm  \n",
       "8  DATA VALIDATE                    Resp Rate                        bpm  \n",
       "9  DATA VALIDATE                    Resp Rate                        bpm  \n",
       "10 DATA VALIDATE                    Resp Rate                        bpm  \n",
       "11 DATA VALIDATE                    Resp Rate                        bpm  \n",
       "12 Clinical Opiate Withdrawal Scale Resting Pulse Rate: (Record BPM)      \n",
       "13 Clinical Opiate Withdrawal Scale Resting Pulse Rate: (Record BPM)      \n",
       "14 Clinical Opiate Withdrawal Scale Resting Pulse Rate: (Record BPM)      \n",
       "15 Clinical Opiate Withdrawal Scale Resting Pulse Rate: (Record BPM)      \n",
       "16 Clinical Opiate Withdrawal Scale Resting Pulse Rate: (Record BPM)      \n",
       "17 Clinical Opiate Withdrawal Scale Resting Pulse Rate: (Record BPM)      \n",
       "18 Clinical Opiate Withdrawal Scale Resting Pulse Rate: (Record BPM)      \n",
       "19 Clinical Opiate Withdrawal Scale Resting Pulse Rate: (Record BPM)      \n",
       "20 Clinical Opiate Withdrawal Scale Resting Pulse Rate: (Record BPM)      \n",
       "21 Simple Assessment                Temperature                           \n",
       "22 Wounds                           Temperature                           \n",
       "23 Wounds                           Temperature                           \n",
       "   num_value1 num_value2\n",
       "1  27         NA        \n",
       "2  26         NA        \n",
       "3  20         NA        \n",
       "4   8         NA        \n",
       "5   6         NA        \n",
       "6  29         NA        \n",
       "7  19         NA        \n",
       "8  28         NA        \n",
       "9  10         NA        \n",
       "10  2         NA        \n",
       "11 25         NA        \n",
       "12 NA         NA        \n",
       "13 NA         NA        \n",
       "14 NA         NA        \n",
       "15 NA         NA        \n",
       "16 NA         NA        \n",
       "17 NA         NA        \n",
       "18 NA         NA        \n",
       "19 NA         NA        \n",
       "20 NA         NA        \n",
       "21 NA         NA        \n",
       "22 NA         NA        \n",
       "23 NA         NA        "
      ]
     },
     "metadata": {},
     "output_type": "display_data"
    }
   ],
   "source": [
    "# should only keep \"Resp Rate\"\n",
    "vitals0 %>% filter(row_disp_name %in% c(\"Resp Rate\", \"Resting Pulse Rate: (Record BPM)\", \"Temperature\")) %>%\n",
    "            arrange(row_disp_name) %>% select(template, row_disp_name, num_value1, num_value2)\n",
    "# vitals0 %>% filter(row_disp_name %in% c(\"Blood Pressure\", \"Arterial Systolic BP\" , \"NIBP\")) %>%\n",
    "#             arrange(row_disp_name) %>% select(template, row_disp_name, units, num_value1, num_value2)"
   ]
  },
  {
   "cell_type": "markdown",
   "metadata": {},
   "source": [
    "#### First, check the original vitals data to see which variables can be kept\n",
    "Meaningful values:\n",
    "\n",
    "Pulse, Resp, BP, Temp, Temp (in Celsius), Heart Rate, Resp Rate, NIBP\n",
    "\n",
    "Already eliminated GCS from previous work in Triage project due to large missing data"
   ]
  },
  {
   "cell_type": "code",
   "execution_count": 6,
   "metadata": {},
   "outputs": [],
   "source": [
    "# check summary to see num_value1 vs num_value\n",
    "display_summary_num1and2 <- function(df, var1, var2){\n",
    "    suppressWarnings(\n",
    "        df %>% summarise(n=n(), \n",
    "                        mean1 = mean({{var1}}, na.rm=T), mean2 = mean({{var2}}, na.rm=T),\n",
    "                        median1 = median({{var1}}, na.rm=T), median2 = median({{var2}}, na.rm=T),\n",
    "                        min1 = min({{var1}}, na.rm=T), min2 = min({{var2}}, na.rm=T), \n",
    "                        max1 = max({{var1}}, na.rm=T), max2 = max({{var2}}, na.rm=T)) %>%\n",
    "                arrange(desc(n))\n",
    "    )\n",
    "}"
   ]
  },
  {
   "cell_type": "code",
   "execution_count": 7,
   "metadata": {},
   "outputs": [
    {
     "name": "stderr",
     "output_type": "stream",
     "text": [
      "`summarise()` ungrouping output (override with `.groups` argument)\n",
      "\n"
     ]
    },
    {
     "data": {
      "text/html": [
       "<table>\n",
       "<caption>A tibble: 20 × 10</caption>\n",
       "<thead>\n",
       "\t<tr><th scope=col>row_disp_name</th><th scope=col>n</th><th scope=col>mean1</th><th scope=col>mean2</th><th scope=col>median1</th><th scope=col>median2</th><th scope=col>min1</th><th scope=col>min2</th><th scope=col>max1</th><th scope=col>max2</th></tr>\n",
       "\t<tr><th scope=col>&lt;chr&gt;</th><th scope=col>&lt;int&gt;</th><th scope=col>&lt;dbl&gt;</th><th scope=col>&lt;dbl&gt;</th><th scope=col>&lt;dbl&gt;</th><th scope=col>&lt;dbl&gt;</th><th scope=col>&lt;dbl&gt;</th><th scope=col>&lt;dbl&gt;</th><th scope=col>&lt;dbl&gt;</th><th scope=col>&lt;dbl&gt;</th></tr>\n",
       "</thead>\n",
       "<tbody>\n",
       "\t<tr><td>Pulse                           </td><td>227570</td><td> 88.718216</td><td>     NaN</td><td> 87.0</td><td>  NA</td><td>  0.0</td><td> Inf</td><td>300.0</td><td> -Inf</td></tr>\n",
       "\t<tr><td>Resp                            </td><td>216017</td><td> 19.238866</td><td>     NaN</td><td> 18.0</td><td>  NA</td><td>  0.0</td><td> Inf</td><td>189.0</td><td> -Inf</td></tr>\n",
       "\t<tr><td>BP                              </td><td>213405</td><td>129.045829</td><td>75.78745</td><td>127.0</td><td>75.0</td><td>  0.0</td><td> 0.0</td><td>419.0</td><td>238.0</td></tr>\n",
       "\t<tr><td>Temp                            </td><td> 82081</td><td> 98.286312</td><td>98.32806</td><td> 98.2</td><td>98.3</td><td>  0.1</td><td>96.7</td><td>110.2</td><td>102.9</td></tr>\n",
       "\t<tr><td>Temp (in Celsius)               </td><td> 63143</td><td> 36.964841</td><td>     NaN</td><td> 36.8</td><td>  NA</td><td>-17.7</td><td> Inf</td><td> 43.4</td><td> -Inf</td></tr>\n",
       "\t<tr><td>Heart Rate                      </td><td> 60926</td><td> 90.556001</td><td>     NaN</td><td> 89.0</td><td>  NA</td><td>  0.0</td><td> Inf</td><td>295.0</td><td> -Inf</td></tr>\n",
       "\t<tr><td>O2 (LPM)                        </td><td> 34137</td><td>       NaN</td><td>     NaN</td><td>   NA</td><td>  NA</td><td>  Inf</td><td> Inf</td><td> -Inf</td><td> -Inf</td></tr>\n",
       "\t<tr><td>Mobility                        </td><td> 16097</td><td>       NaN</td><td>     NaN</td><td>   NA</td><td>  NA</td><td>  Inf</td><td> Inf</td><td> -Inf</td><td> -Inf</td></tr>\n",
       "\t<tr><td>Activity                        </td><td>  8326</td><td>       NaN</td><td>     NaN</td><td>   NA</td><td>  NA</td><td>  Inf</td><td> Inf</td><td> -Inf</td><td> -Inf</td></tr>\n",
       "\t<tr><td>LOC                             </td><td>  4034</td><td>       NaN</td><td>     NaN</td><td>   NA</td><td>  NA</td><td>  Inf</td><td> Inf</td><td> -Inf</td><td> -Inf</td></tr>\n",
       "\t<tr><td>Respiratory Rate                </td><td>  1868</td><td>  3.957663</td><td>     NaN</td><td>  4.0</td><td>  NA</td><td>  0.0</td><td> Inf</td><td>  4.0</td><td> -Inf</td></tr>\n",
       "\t<tr><td>LOC Score                       </td><td>  1175</td><td>       NaN</td><td>     NaN</td><td>   NA</td><td>  NA</td><td>  Inf</td><td> Inf</td><td> -Inf</td><td> -Inf</td></tr>\n",
       "\t<tr><td>O2 Delivery Method              </td><td>   434</td><td>       NaN</td><td>     NaN</td><td>   NA</td><td>  NA</td><td>  Inf</td><td> Inf</td><td> -Inf</td><td> -Inf</td></tr>\n",
       "\t<tr><td>Blood Pressure                  </td><td>   194</td><td>  1.917098</td><td>     NaN</td><td>  2.0</td><td>  NA</td><td>  0.0</td><td> Inf</td><td>  2.0</td><td> -Inf</td></tr>\n",
       "\t<tr><td>O2 Flow (L/min)                 </td><td>    42</td><td>  2.690476</td><td>     NaN</td><td>  2.0</td><td>  NA</td><td>  2.0</td><td> Inf</td><td>  8.0</td><td> -Inf</td></tr>\n",
       "\t<tr><td>Arterial Systolic BP            </td><td>    21</td><td>       NaN</td><td>     NaN</td><td>   NA</td><td>  NA</td><td>  Inf</td><td> Inf</td><td> -Inf</td><td> -Inf</td></tr>\n",
       "\t<tr><td>Resp Rate                       </td><td>    11</td><td> 18.181818</td><td>     NaN</td><td> 20.0</td><td>  NA</td><td>  2.0</td><td> Inf</td><td> 29.0</td><td> -Inf</td></tr>\n",
       "\t<tr><td>Resting Pulse Rate: (Record BPM)</td><td>     9</td><td>       NaN</td><td>     NaN</td><td>   NA</td><td>  NA</td><td>  Inf</td><td> Inf</td><td> -Inf</td><td> -Inf</td></tr>\n",
       "\t<tr><td>Temperature                     </td><td>     3</td><td>       NaN</td><td>     NaN</td><td>   NA</td><td>  NA</td><td>  Inf</td><td> Inf</td><td> -Inf</td><td> -Inf</td></tr>\n",
       "\t<tr><td>NIBP                            </td><td>     1</td><td>140.000000</td><td>58.00000</td><td>140.0</td><td>58.0</td><td>140.0</td><td>58.0</td><td>140.0</td><td> 58.0</td></tr>\n",
       "</tbody>\n",
       "</table>\n"
      ],
      "text/latex": [
       "A tibble: 20 × 10\n",
       "\\begin{tabular}{llllllllll}\n",
       " row\\_disp\\_name & n & mean1 & mean2 & median1 & median2 & min1 & min2 & max1 & max2\\\\\n",
       " <chr> & <int> & <dbl> & <dbl> & <dbl> & <dbl> & <dbl> & <dbl> & <dbl> & <dbl>\\\\\n",
       "\\hline\n",
       "\t Pulse                            & 227570 &  88.718216 &      NaN &  87.0 &   NA &   0.0 &  Inf & 300.0 &  -Inf\\\\\n",
       "\t Resp                             & 216017 &  19.238866 &      NaN &  18.0 &   NA &   0.0 &  Inf & 189.0 &  -Inf\\\\\n",
       "\t BP                               & 213405 & 129.045829 & 75.78745 & 127.0 & 75.0 &   0.0 &  0.0 & 419.0 & 238.0\\\\\n",
       "\t Temp                             &  82081 &  98.286312 & 98.32806 &  98.2 & 98.3 &   0.1 & 96.7 & 110.2 & 102.9\\\\\n",
       "\t Temp (in Celsius)                &  63143 &  36.964841 &      NaN &  36.8 &   NA & -17.7 &  Inf &  43.4 &  -Inf\\\\\n",
       "\t Heart Rate                       &  60926 &  90.556001 &      NaN &  89.0 &   NA &   0.0 &  Inf & 295.0 &  -Inf\\\\\n",
       "\t O2 (LPM)                         &  34137 &        NaN &      NaN &    NA &   NA &   Inf &  Inf &  -Inf &  -Inf\\\\\n",
       "\t Mobility                         &  16097 &        NaN &      NaN &    NA &   NA &   Inf &  Inf &  -Inf &  -Inf\\\\\n",
       "\t Activity                         &   8326 &        NaN &      NaN &    NA &   NA &   Inf &  Inf &  -Inf &  -Inf\\\\\n",
       "\t LOC                              &   4034 &        NaN &      NaN &    NA &   NA &   Inf &  Inf &  -Inf &  -Inf\\\\\n",
       "\t Respiratory Rate                 &   1868 &   3.957663 &      NaN &   4.0 &   NA &   0.0 &  Inf &   4.0 &  -Inf\\\\\n",
       "\t LOC Score                        &   1175 &        NaN &      NaN &    NA &   NA &   Inf &  Inf &  -Inf &  -Inf\\\\\n",
       "\t O2 Delivery Method               &    434 &        NaN &      NaN &    NA &   NA &   Inf &  Inf &  -Inf &  -Inf\\\\\n",
       "\t Blood Pressure                   &    194 &   1.917098 &      NaN &   2.0 &   NA &   0.0 &  Inf &   2.0 &  -Inf\\\\\n",
       "\t O2 Flow (L/min)                  &     42 &   2.690476 &      NaN &   2.0 &   NA &   2.0 &  Inf &   8.0 &  -Inf\\\\\n",
       "\t Arterial Systolic BP             &     21 &        NaN &      NaN &    NA &   NA &   Inf &  Inf &  -Inf &  -Inf\\\\\n",
       "\t Resp Rate                        &     11 &  18.181818 &      NaN &  20.0 &   NA &   2.0 &  Inf &  29.0 &  -Inf\\\\\n",
       "\t Resting Pulse Rate: (Record BPM) &      9 &        NaN &      NaN &    NA &   NA &   Inf &  Inf &  -Inf &  -Inf\\\\\n",
       "\t Temperature                      &      3 &        NaN &      NaN &    NA &   NA &   Inf &  Inf &  -Inf &  -Inf\\\\\n",
       "\t NIBP                             &      1 & 140.000000 & 58.00000 & 140.0 & 58.0 & 140.0 & 58.0 & 140.0 &  58.0\\\\\n",
       "\\end{tabular}\n"
      ],
      "text/markdown": [
       "\n",
       "A tibble: 20 × 10\n",
       "\n",
       "| row_disp_name &lt;chr&gt; | n &lt;int&gt; | mean1 &lt;dbl&gt; | mean2 &lt;dbl&gt; | median1 &lt;dbl&gt; | median2 &lt;dbl&gt; | min1 &lt;dbl&gt; | min2 &lt;dbl&gt; | max1 &lt;dbl&gt; | max2 &lt;dbl&gt; |\n",
       "|---|---|---|---|---|---|---|---|---|---|\n",
       "| Pulse                            | 227570 |  88.718216 |      NaN |  87.0 |   NA |   0.0 |  Inf | 300.0 |  -Inf |\n",
       "| Resp                             | 216017 |  19.238866 |      NaN |  18.0 |   NA |   0.0 |  Inf | 189.0 |  -Inf |\n",
       "| BP                               | 213405 | 129.045829 | 75.78745 | 127.0 | 75.0 |   0.0 |  0.0 | 419.0 | 238.0 |\n",
       "| Temp                             |  82081 |  98.286312 | 98.32806 |  98.2 | 98.3 |   0.1 | 96.7 | 110.2 | 102.9 |\n",
       "| Temp (in Celsius)                |  63143 |  36.964841 |      NaN |  36.8 |   NA | -17.7 |  Inf |  43.4 |  -Inf |\n",
       "| Heart Rate                       |  60926 |  90.556001 |      NaN |  89.0 |   NA |   0.0 |  Inf | 295.0 |  -Inf |\n",
       "| O2 (LPM)                         |  34137 |        NaN |      NaN |    NA |   NA |   Inf |  Inf |  -Inf |  -Inf |\n",
       "| Mobility                         |  16097 |        NaN |      NaN |    NA |   NA |   Inf |  Inf |  -Inf |  -Inf |\n",
       "| Activity                         |   8326 |        NaN |      NaN |    NA |   NA |   Inf |  Inf |  -Inf |  -Inf |\n",
       "| LOC                              |   4034 |        NaN |      NaN |    NA |   NA |   Inf |  Inf |  -Inf |  -Inf |\n",
       "| Respiratory Rate                 |   1868 |   3.957663 |      NaN |   4.0 |   NA |   0.0 |  Inf |   4.0 |  -Inf |\n",
       "| LOC Score                        |   1175 |        NaN |      NaN |    NA |   NA |   Inf |  Inf |  -Inf |  -Inf |\n",
       "| O2 Delivery Method               |    434 |        NaN |      NaN |    NA |   NA |   Inf |  Inf |  -Inf |  -Inf |\n",
       "| Blood Pressure                   |    194 |   1.917098 |      NaN |   2.0 |   NA |   0.0 |  Inf |   2.0 |  -Inf |\n",
       "| O2 Flow (L/min)                  |     42 |   2.690476 |      NaN |   2.0 |   NA |   2.0 |  Inf |   8.0 |  -Inf |\n",
       "| Arterial Systolic BP             |     21 |        NaN |      NaN |    NA |   NA |   Inf |  Inf |  -Inf |  -Inf |\n",
       "| Resp Rate                        |     11 |  18.181818 |      NaN |  20.0 |   NA |   2.0 |  Inf |  29.0 |  -Inf |\n",
       "| Resting Pulse Rate: (Record BPM) |      9 |        NaN |      NaN |    NA |   NA |   Inf |  Inf |  -Inf |  -Inf |\n",
       "| Temperature                      |      3 |        NaN |      NaN |    NA |   NA |   Inf |  Inf |  -Inf |  -Inf |\n",
       "| NIBP                             |      1 | 140.000000 | 58.00000 | 140.0 | 58.0 | 140.0 | 58.0 | 140.0 |  58.0 |\n",
       "\n"
      ],
      "text/plain": [
       "   row_disp_name                    n      mean1      mean2    median1 median2\n",
       "1  Pulse                            227570  88.718216      NaN  87.0     NA   \n",
       "2  Resp                             216017  19.238866      NaN  18.0     NA   \n",
       "3  BP                               213405 129.045829 75.78745 127.0   75.0   \n",
       "4  Temp                              82081  98.286312 98.32806  98.2   98.3   \n",
       "5  Temp (in Celsius)                 63143  36.964841      NaN  36.8     NA   \n",
       "6  Heart Rate                        60926  90.556001      NaN  89.0     NA   \n",
       "7  O2 (LPM)                          34137        NaN      NaN    NA     NA   \n",
       "8  Mobility                          16097        NaN      NaN    NA     NA   \n",
       "9  Activity                           8326        NaN      NaN    NA     NA   \n",
       "10 LOC                                4034        NaN      NaN    NA     NA   \n",
       "11 Respiratory Rate                   1868   3.957663      NaN   4.0     NA   \n",
       "12 LOC Score                          1175        NaN      NaN    NA     NA   \n",
       "13 O2 Delivery Method                  434        NaN      NaN    NA     NA   \n",
       "14 Blood Pressure                      194   1.917098      NaN   2.0     NA   \n",
       "15 O2 Flow (L/min)                      42   2.690476      NaN   2.0     NA   \n",
       "16 Arterial Systolic BP                 21        NaN      NaN    NA     NA   \n",
       "17 Resp Rate                            11  18.181818      NaN  20.0     NA   \n",
       "18 Resting Pulse Rate: (Record BPM)      9        NaN      NaN    NA     NA   \n",
       "19 Temperature                           3        NaN      NaN    NA     NA   \n",
       "20 NIBP                                  1 140.000000 58.00000 140.0   58.0   \n",
       "   min1  min2 max1  max2 \n",
       "1    0.0  Inf 300.0  -Inf\n",
       "2    0.0  Inf 189.0  -Inf\n",
       "3    0.0  0.0 419.0 238.0\n",
       "4    0.1 96.7 110.2 102.9\n",
       "5  -17.7  Inf  43.4  -Inf\n",
       "6    0.0  Inf 295.0  -Inf\n",
       "7    Inf  Inf  -Inf  -Inf\n",
       "8    Inf  Inf  -Inf  -Inf\n",
       "9    Inf  Inf  -Inf  -Inf\n",
       "10   Inf  Inf  -Inf  -Inf\n",
       "11   0.0  Inf   4.0  -Inf\n",
       "12   Inf  Inf  -Inf  -Inf\n",
       "13   Inf  Inf  -Inf  -Inf\n",
       "14   0.0  Inf   2.0  -Inf\n",
       "15   2.0  Inf   8.0  -Inf\n",
       "16   Inf  Inf  -Inf  -Inf\n",
       "17   2.0  Inf  29.0  -Inf\n",
       "18   Inf  Inf  -Inf  -Inf\n",
       "19   Inf  Inf  -Inf  -Inf\n",
       "20 140.0 58.0 140.0  58.0"
      ]
     },
     "metadata": {},
     "output_type": "display_data"
    }
   ],
   "source": [
    "vitals0 %>% group_by(row_disp_name) %>% display_summary_num1and2(num_value1, num_value2)# %>% arrange(desc(n))"
   ]
  },
  {
   "cell_type": "code",
   "execution_count": 8,
   "metadata": {},
   "outputs": [
    {
     "name": "stderr",
     "output_type": "stream",
     "text": [
      "`summarise()` ungrouping output (override with `.groups` argument)\n",
      "\n"
     ]
    },
    {
     "data": {
      "text/html": [
       "<table>\n",
       "<caption>A tibble: 7 × 10</caption>\n",
       "<thead>\n",
       "\t<tr><th scope=col>row_disp_name</th><th scope=col>n</th><th scope=col>mean1</th><th scope=col>mean2</th><th scope=col>median1</th><th scope=col>median2</th><th scope=col>min1</th><th scope=col>min2</th><th scope=col>max1</th><th scope=col>max2</th></tr>\n",
       "\t<tr><th scope=col>&lt;chr&gt;</th><th scope=col>&lt;int&gt;</th><th scope=col>&lt;dbl&gt;</th><th scope=col>&lt;dbl&gt;</th><th scope=col>&lt;dbl&gt;</th><th scope=col>&lt;dbl&gt;</th><th scope=col>&lt;dbl&gt;</th><th scope=col>&lt;dbl&gt;</th><th scope=col>&lt;dbl&gt;</th><th scope=col>&lt;dbl&gt;</th></tr>\n",
       "</thead>\n",
       "<tbody>\n",
       "\t<tr><td>Pulse            </td><td>227570</td><td> 88.71822</td><td>     NaN</td><td> 87.0</td><td>  NA</td><td>  0.0</td><td> Inf</td><td>300.0</td><td> -Inf</td></tr>\n",
       "\t<tr><td>Resp             </td><td>216017</td><td> 19.23887</td><td>     NaN</td><td> 18.0</td><td>  NA</td><td>  0.0</td><td> Inf</td><td>189.0</td><td> -Inf</td></tr>\n",
       "\t<tr><td>BP               </td><td>213405</td><td>129.04583</td><td>75.78745</td><td>127.0</td><td>75.0</td><td>  0.0</td><td> 0.0</td><td>419.0</td><td>238.0</td></tr>\n",
       "\t<tr><td>Temp             </td><td> 82081</td><td> 98.28631</td><td>98.32806</td><td> 98.2</td><td>98.3</td><td>  0.1</td><td>96.7</td><td>110.2</td><td>102.9</td></tr>\n",
       "\t<tr><td>Temp (in Celsius)</td><td> 63143</td><td> 36.96484</td><td>     NaN</td><td> 36.8</td><td>  NA</td><td>-17.7</td><td> Inf</td><td> 43.4</td><td> -Inf</td></tr>\n",
       "\t<tr><td>Resp Rate        </td><td>    11</td><td> 18.18182</td><td>     NaN</td><td> 20.0</td><td>  NA</td><td>  2.0</td><td> Inf</td><td> 29.0</td><td> -Inf</td></tr>\n",
       "\t<tr><td>NIBP             </td><td>     1</td><td>140.00000</td><td>58.00000</td><td>140.0</td><td>58.0</td><td>140.0</td><td>58.0</td><td>140.0</td><td> 58.0</td></tr>\n",
       "</tbody>\n",
       "</table>\n"
      ],
      "text/latex": [
       "A tibble: 7 × 10\n",
       "\\begin{tabular}{llllllllll}\n",
       " row\\_disp\\_name & n & mean1 & mean2 & median1 & median2 & min1 & min2 & max1 & max2\\\\\n",
       " <chr> & <int> & <dbl> & <dbl> & <dbl> & <dbl> & <dbl> & <dbl> & <dbl> & <dbl>\\\\\n",
       "\\hline\n",
       "\t Pulse             & 227570 &  88.71822 &      NaN &  87.0 &   NA &   0.0 &  Inf & 300.0 &  -Inf\\\\\n",
       "\t Resp              & 216017 &  19.23887 &      NaN &  18.0 &   NA &   0.0 &  Inf & 189.0 &  -Inf\\\\\n",
       "\t BP                & 213405 & 129.04583 & 75.78745 & 127.0 & 75.0 &   0.0 &  0.0 & 419.0 & 238.0\\\\\n",
       "\t Temp              &  82081 &  98.28631 & 98.32806 &  98.2 & 98.3 &   0.1 & 96.7 & 110.2 & 102.9\\\\\n",
       "\t Temp (in Celsius) &  63143 &  36.96484 &      NaN &  36.8 &   NA & -17.7 &  Inf &  43.4 &  -Inf\\\\\n",
       "\t Resp Rate         &     11 &  18.18182 &      NaN &  20.0 &   NA &   2.0 &  Inf &  29.0 &  -Inf\\\\\n",
       "\t NIBP              &      1 & 140.00000 & 58.00000 & 140.0 & 58.0 & 140.0 & 58.0 & 140.0 &  58.0\\\\\n",
       "\\end{tabular}\n"
      ],
      "text/markdown": [
       "\n",
       "A tibble: 7 × 10\n",
       "\n",
       "| row_disp_name &lt;chr&gt; | n &lt;int&gt; | mean1 &lt;dbl&gt; | mean2 &lt;dbl&gt; | median1 &lt;dbl&gt; | median2 &lt;dbl&gt; | min1 &lt;dbl&gt; | min2 &lt;dbl&gt; | max1 &lt;dbl&gt; | max2 &lt;dbl&gt; |\n",
       "|---|---|---|---|---|---|---|---|---|---|\n",
       "| Pulse             | 227570 |  88.71822 |      NaN |  87.0 |   NA |   0.0 |  Inf | 300.0 |  -Inf |\n",
       "| Resp              | 216017 |  19.23887 |      NaN |  18.0 |   NA |   0.0 |  Inf | 189.0 |  -Inf |\n",
       "| BP                | 213405 | 129.04583 | 75.78745 | 127.0 | 75.0 |   0.0 |  0.0 | 419.0 | 238.0 |\n",
       "| Temp              |  82081 |  98.28631 | 98.32806 |  98.2 | 98.3 |   0.1 | 96.7 | 110.2 | 102.9 |\n",
       "| Temp (in Celsius) |  63143 |  36.96484 |      NaN |  36.8 |   NA | -17.7 |  Inf |  43.4 |  -Inf |\n",
       "| Resp Rate         |     11 |  18.18182 |      NaN |  20.0 |   NA |   2.0 |  Inf |  29.0 |  -Inf |\n",
       "| NIBP              |      1 | 140.00000 | 58.00000 | 140.0 | 58.0 | 140.0 | 58.0 | 140.0 |  58.0 |\n",
       "\n"
      ],
      "text/plain": [
       "  row_disp_name     n      mean1     mean2    median1 median2 min1  min2 max1 \n",
       "1 Pulse             227570  88.71822      NaN  87.0     NA      0.0  Inf 300.0\n",
       "2 Resp              216017  19.23887      NaN  18.0     NA      0.0  Inf 189.0\n",
       "3 BP                213405 129.04583 75.78745 127.0   75.0      0.0  0.0 419.0\n",
       "4 Temp               82081  98.28631 98.32806  98.2   98.3      0.1 96.7 110.2\n",
       "5 Temp (in Celsius)  63143  36.96484      NaN  36.8     NA    -17.7  Inf  43.4\n",
       "6 Resp Rate             11  18.18182      NaN  20.0     NA      2.0  Inf  29.0\n",
       "7 NIBP                   1 140.00000 58.00000 140.0   58.0    140.0 58.0 140.0\n",
       "  max2 \n",
       "1  -Inf\n",
       "2  -Inf\n",
       "3 238.0\n",
       "4 102.9\n",
       "5  -Inf\n",
       "6  -Inf\n",
       "7  58.0"
      ]
     },
     "metadata": {},
     "output_type": "display_data"
    }
   ],
   "source": [
    "# keep only some variables\n",
    "vitals0 <- vitals0 %>% filter(row_disp_name %in% c('Pulse', 'Resp', 'BP', 'Temp', 'Temp (in Celsius)', \n",
    "                                                  ' Heart Rate', 'Resp Rate', 'NIBP'))\n",
    "vitals0 %>% group_by(row_disp_name) %>% display_summary_num1and2(num_value1, num_value2)# %>% arrange(desc(n))"
   ]
  },
  {
   "cell_type": "code",
   "execution_count": 9,
   "metadata": {},
   "outputs": [
    {
     "data": {
      "text/html": [
       "<style>\n",
       ".list-inline {list-style: none; margin:0; padding: 0}\n",
       ".list-inline>li {display: inline-block}\n",
       ".list-inline>li:not(:last-child)::after {content: \"\\00b7\"; padding: 0 .5ex}\n",
       "</style>\n",
       "<ol class=list-inline><li>'anon_id'</li><li>'pat_enc_csn_id_coded'</li><li>'label'</li><li>'admit_time'</li><li>'inpatient_data_id_coded'</li><li>'ESI'</li><li>'hosp_admsn_time'</li><li>'ed_time_hr'</li><li>'gender'</li><li>'race'</li><li>'language'</li><li>'recent_height_cm'</li><li>'recent_weight_kg'</li><li>'insurance'</li><li>'recent_date'</li><li>'age'</li><li>'template'</li><li>'row_disp_name'</li><li>'units'</li><li>'recorded_time_utc'</li><li>'num_value1'</li><li>'num_value2'</li></ol>\n"
      ],
      "text/latex": [
       "\\begin{enumerate*}\n",
       "\\item 'anon\\_id'\n",
       "\\item 'pat\\_enc\\_csn\\_id\\_coded'\n",
       "\\item 'label'\n",
       "\\item 'admit\\_time'\n",
       "\\item 'inpatient\\_data\\_id\\_coded'\n",
       "\\item 'ESI'\n",
       "\\item 'hosp\\_admsn\\_time'\n",
       "\\item 'ed\\_time\\_hr'\n",
       "\\item 'gender'\n",
       "\\item 'race'\n",
       "\\item 'language'\n",
       "\\item 'recent\\_height\\_cm'\n",
       "\\item 'recent\\_weight\\_kg'\n",
       "\\item 'insurance'\n",
       "\\item 'recent\\_date'\n",
       "\\item 'age'\n",
       "\\item 'template'\n",
       "\\item 'row\\_disp\\_name'\n",
       "\\item 'units'\n",
       "\\item 'recorded\\_time\\_utc'\n",
       "\\item 'num\\_value1'\n",
       "\\item 'num\\_value2'\n",
       "\\end{enumerate*}\n"
      ],
      "text/markdown": [
       "1. 'anon_id'\n",
       "2. 'pat_enc_csn_id_coded'\n",
       "3. 'label'\n",
       "4. 'admit_time'\n",
       "5. 'inpatient_data_id_coded'\n",
       "6. 'ESI'\n",
       "7. 'hosp_admsn_time'\n",
       "8. 'ed_time_hr'\n",
       "9. 'gender'\n",
       "10. 'race'\n",
       "11. 'language'\n",
       "12. 'recent_height_cm'\n",
       "13. 'recent_weight_kg'\n",
       "14. 'insurance'\n",
       "15. 'recent_date'\n",
       "16. 'age'\n",
       "17. 'template'\n",
       "18. 'row_disp_name'\n",
       "19. 'units'\n",
       "20. 'recorded_time_utc'\n",
       "21. 'num_value1'\n",
       "22. 'num_value2'\n",
       "\n",
       "\n"
      ],
      "text/plain": [
       " [1] \"anon_id\"                 \"pat_enc_csn_id_coded\"   \n",
       " [3] \"label\"                   \"admit_time\"             \n",
       " [5] \"inpatient_data_id_coded\" \"ESI\"                    \n",
       " [7] \"hosp_admsn_time\"         \"ed_time_hr\"             \n",
       " [9] \"gender\"                  \"race\"                   \n",
       "[11] \"language\"                \"recent_height_cm\"       \n",
       "[13] \"recent_weight_kg\"        \"insurance\"              \n",
       "[15] \"recent_date\"             \"age\"                    \n",
       "[17] \"template\"                \"row_disp_name\"          \n",
       "[19] \"units\"                   \"recorded_time_utc\"      \n",
       "[21] \"num_value1\"              \"num_value2\"             "
      ]
     },
     "metadata": {},
     "output_type": "display_data"
    }
   ],
   "source": [
    "colnames(vitals0)"
   ]
  },
  {
   "cell_type": "code",
   "execution_count": 80,
   "metadata": {},
   "outputs": [],
   "source": [
    "# combine cohort with vitals sign\n",
    "vitals <- vitals0 %>% \n",
    "                select(anon_id, pat_enc_csn_id_coded, inpatient_data_id_coded, \n",
    "                       template, row_disp_name, units, recorded_time_utc, num_value1, num_value2) %>%\n",
    "                rename(recorded_time = recorded_time_utc) %>%\n",
    "                filter(row_disp_name %in% c('Pulse', 'Resp', 'BP', 'Temp', 'Temp (in Celsius)', \n",
    "                                            'Heart Rate', 'Resp Rate', 'NIBP'))\n",
    "\n",
    "# calculate difftime takes a while\n",
    "# cohort_vitals <- left_join(cohort, vitals0) %>% \n",
    "#             mutate(timediff = as.numeric(difftime(admit_time, recorded_time, units = \"mins\"))) %>%\n",
    "#             distinct()\n",
    "# #             filter(ymd_hms(recorded_time) < ymd_hms(admit_time)) %>% # no need this one, SQL took care of this\n",
    "\n",
    "# nrow(cohort_vitals) \n",
    "# summary(cohort_vitals$timediff) # all positive --> recorded time is before admit time"
   ]
  },
  {
   "cell_type": "code",
   "execution_count": 81,
   "metadata": {},
   "outputs": [
    {
     "data": {
      "text/html": [
       "<table>\n",
       "<caption>A data.frame: 1 × 9</caption>\n",
       "<thead>\n",
       "\t<tr><th></th><th scope=col>anon_id</th><th scope=col>pat_enc_csn_id_coded</th><th scope=col>inpatient_data_id_coded</th><th scope=col>template</th><th scope=col>row_disp_name</th><th scope=col>units</th><th scope=col>recorded_time</th><th scope=col>num_value1</th><th scope=col>num_value2</th></tr>\n",
       "\t<tr><th></th><th scope=col>&lt;chr&gt;</th><th scope=col>&lt;dbl&gt;</th><th scope=col>&lt;int&gt;</th><th scope=col>&lt;chr&gt;</th><th scope=col>&lt;chr&gt;</th><th scope=col>&lt;chr&gt;</th><th scope=col>&lt;chr&gt;</th><th scope=col>&lt;dbl&gt;</th><th scope=col>&lt;dbl&gt;</th></tr>\n",
       "</thead>\n",
       "<tbody>\n",
       "\t<tr><th scope=row>1</th><td>JCe15c20</td><td>131254814765</td><td>31338316</td><td>Vitals</td><td>Resp</td><td></td><td>2018-08-22 16:00:00+00:00</td><td>16</td><td>NA</td></tr>\n",
       "</tbody>\n",
       "</table>\n"
      ],
      "text/latex": [
       "A data.frame: 1 × 9\n",
       "\\begin{tabular}{r|lllllllll}\n",
       "  & anon\\_id & pat\\_enc\\_csn\\_id\\_coded & inpatient\\_data\\_id\\_coded & template & row\\_disp\\_name & units & recorded\\_time & num\\_value1 & num\\_value2\\\\\n",
       "  & <chr> & <dbl> & <int> & <chr> & <chr> & <chr> & <chr> & <dbl> & <dbl>\\\\\n",
       "\\hline\n",
       "\t1 & JCe15c20 & 131254814765 & 31338316 & Vitals & Resp &  & 2018-08-22 16:00:00+00:00 & 16 & NA\\\\\n",
       "\\end{tabular}\n"
      ],
      "text/markdown": [
       "\n",
       "A data.frame: 1 × 9\n",
       "\n",
       "| <!--/--> | anon_id &lt;chr&gt; | pat_enc_csn_id_coded &lt;dbl&gt; | inpatient_data_id_coded &lt;int&gt; | template &lt;chr&gt; | row_disp_name &lt;chr&gt; | units &lt;chr&gt; | recorded_time &lt;chr&gt; | num_value1 &lt;dbl&gt; | num_value2 &lt;dbl&gt; |\n",
       "|---|---|---|---|---|---|---|---|---|---|\n",
       "| 1 | JCe15c20 | 131254814765 | 31338316 | Vitals | Resp | <!----> | 2018-08-22 16:00:00+00:00 | 16 | NA |\n",
       "\n"
      ],
      "text/plain": [
       "  anon_id  pat_enc_csn_id_coded inpatient_data_id_coded template row_disp_name\n",
       "1 JCe15c20 131254814765         31338316                Vitals   Resp         \n",
       "  units recorded_time             num_value1 num_value2\n",
       "1       2018-08-22 16:00:00+00:00 16         NA        "
      ]
     },
     "metadata": {},
     "output_type": "display_data"
    }
   ],
   "source": [
    "head(vitals, n=1)"
   ]
  },
  {
   "cell_type": "markdown",
   "metadata": {},
   "source": [
    "### First observations:\n",
    "- BP: num_value1 is SBP and num_value2 is DBP\n",
    "- Temp: nothing between 45 - 75\n",
    "    - for num_value1 > 75, it is in F\n",
    "    - for num_value1 < 45, it is in C\n",
    "        - there is one erroneous value < 10\n",
    "        - these num_value1 tend to have a num_value 2 that is in F or NA in num_value2\n",
    "- Temp in Celsius: cut off at < 26 as errors"
   ]
  },
  {
   "cell_type": "code",
   "execution_count": 51,
   "metadata": {},
   "outputs": [
    {
     "data": {
      "image/png": "[encoded data removed]",
      "text/plain": [
       "Plot with title \"Histogram of temp1$num_value1\""
      ]
     },
     "metadata": {
      "image/png": {
       "height": 420,
       "width": 420
      }
     },
     "output_type": "display_data"
    },
    {
     "data": {
      "text/plain": [
       "   Min. 1st Qu.  Median    Mean 3rd Qu.    Max.    NA's \n",
       "  96.70   97.90   98.30   98.33   98.60  102.90   81803 "
      ]
     },
     "metadata": {},
     "output_type": "display_data"
    },
    {
     "data": {
      "image/png": "[encoded data removed]",
      "text/plain": [
       "Plot with title \"Histogram of temp1$num_value2\""
      ]
     },
     "metadata": {
      "image/png": {
       "height": 420,
       "width": 420
      }
     },
     "output_type": "display_data"
    },
    {
     "data": {
      "image/png": "[encoded data removed]",
      "text/plain": [
       "Plot with title \"Histogram of temp1$num_value1\""
      ]
     },
     "metadata": {
      "image/png": {
       "height": 420,
       "width": 420
      }
     },
     "output_type": "display_data"
    },
    {
     "data": {
      "text/plain": [
       "   Min. 1st Qu.  Median    Mean 3rd Qu.    Max. \n",
       "   0.10   36.60   36.80   36.71   37.10   39.40 "
      ]
     },
     "metadata": {},
     "output_type": "display_data"
    },
    {
     "data": {
      "text/html": [
       "<table>\n",
       "<caption>A data.frame: 6 × 2</caption>\n",
       "<thead>\n",
       "\t<tr><th></th><th scope=col>num_value1</th><th scope=col>num_value2</th></tr>\n",
       "\t<tr><th></th><th scope=col>&lt;dbl&gt;</th><th scope=col>&lt;dbl&gt;</th></tr>\n",
       "</thead>\n",
       "<tbody>\n",
       "\t<tr><th scope=row>1</th><td> 0.1</td><td>  NA</td></tr>\n",
       "\t<tr><th scope=row>2</th><td> 9.4</td><td>  NA</td></tr>\n",
       "\t<tr><th scope=row>3</th><td>35.9</td><td>96.7</td></tr>\n",
       "\t<tr><th scope=row>4</th><td>36.0</td><td>96.8</td></tr>\n",
       "\t<tr><th scope=row>5</th><td>36.1</td><td>97.0</td></tr>\n",
       "\t<tr><th scope=row>6</th><td>36.2</td><td>97.2</td></tr>\n",
       "</tbody>\n",
       "</table>\n"
      ],
      "text/latex": [
       "A data.frame: 6 × 2\n",
       "\\begin{tabular}{r|ll}\n",
       "  & num\\_value1 & num\\_value2\\\\\n",
       "  & <dbl> & <dbl>\\\\\n",
       "\\hline\n",
       "\t1 &  0.1 &   NA\\\\\n",
       "\t2 &  9.4 &   NA\\\\\n",
       "\t3 & 35.9 & 96.7\\\\\n",
       "\t4 & 36.0 & 96.8\\\\\n",
       "\t5 & 36.1 & 97.0\\\\\n",
       "\t6 & 36.2 & 97.2\\\\\n",
       "\\end{tabular}\n"
      ],
      "text/markdown": [
       "\n",
       "A data.frame: 6 × 2\n",
       "\n",
       "| <!--/--> | num_value1 &lt;dbl&gt; | num_value2 &lt;dbl&gt; |\n",
       "|---|---|---|\n",
       "| 1 |  0.1 |   NA |\n",
       "| 2 |  9.4 |   NA |\n",
       "| 3 | 35.9 | 96.7 |\n",
       "| 4 | 36.0 | 96.8 |\n",
       "| 5 | 36.1 | 97.0 |\n",
       "| 6 | 36.2 | 97.2 |\n",
       "\n"
      ],
      "text/plain": [
       "  num_value1 num_value2\n",
       "1  0.1         NA      \n",
       "2  9.4         NA      \n",
       "3 35.9       96.7      \n",
       "4 36.0       96.8      \n",
       "5 36.1       97.0      \n",
       "6 36.2       97.2      "
      ]
     },
     "metadata": {},
     "output_type": "display_data"
    },
    {
     "data": {
      "text/html": [
       "0"
      ],
      "text/latex": [
       "0"
      ],
      "text/markdown": [
       "0"
      ],
      "text/plain": [
       "[1] 0"
      ]
     },
     "metadata": {},
     "output_type": "display_data"
    },
    {
     "data": {
      "image/png": "[encoded data removed]",
      "text/plain": [
       "Plot with title \"Histogram of temp1$num_value1\""
      ]
     },
     "metadata": {
      "image/png": {
       "height": 420,
       "width": 420
      }
     },
     "output_type": "display_data"
    }
   ],
   "source": [
    "temp1 <- vitals %>% filter(row_disp_name == \"Temp\") %>% select(num_value1, num_value2)\n",
    "hist(temp1$num_value1)\n",
    "hist(temp1$num_value2)\n",
    "summary(temp1$num_value2)\n",
    "\n",
    "temp1 <- vitals %>% filter(row_disp_name == \"Temp\") %>% select(num_value1, num_value2) %>% filter(num_value1 < 90, num_value1 > 45)\n",
    "hist(temp1$num_value1)\n",
    "\n",
    "temp1 <- vitals %>% filter(row_disp_name == \"Temp\") %>% select(num_value1, num_value2) %>% filter(num_value1 < 70) %>%\n",
    "            arrange(num_value1)\n",
    "hist(temp1$num_value1)\n",
    "summary(temp1$num_value1)\n",
    "\n",
    "head(temp1)\n",
    "\n",
    "nrow(vitals %>% filter(row_disp_name == \"Temp\") %>% select(num_value1, num_value2) %>% filter(num_value1 < 75, num_value1 > 45))"
   ]
  },
  {
   "cell_type": "code",
   "execution_count": 54,
   "metadata": {},
   "outputs": [
    {
     "data": {
      "text/plain": [
       "   Min. 1st Qu.  Median    Mean 3rd Qu.    Max.    NA's \n",
       " -17.70   36.60   36.80   36.96   37.20   43.40     252 "
      ]
     },
     "metadata": {},
     "output_type": "display_data"
    },
    {
     "data": {
      "text/html": [
       "<table>\n",
       "<caption>A data.frame: 41 × 9</caption>\n",
       "<thead>\n",
       "\t<tr><th scope=col>anon_id</th><th scope=col>pat_enc_csn_id_coded</th><th scope=col>inpatient_data_id_coded</th><th scope=col>template</th><th scope=col>row_disp_name</th><th scope=col>units</th><th scope=col>recorded_time</th><th scope=col>num_value1</th><th scope=col>num_value2</th></tr>\n",
       "\t<tr><th scope=col>&lt;chr&gt;</th><th scope=col>&lt;dbl&gt;</th><th scope=col>&lt;int&gt;</th><th scope=col>&lt;chr&gt;</th><th scope=col>&lt;chr&gt;</th><th scope=col>&lt;chr&gt;</th><th scope=col>&lt;chr&gt;</th><th scope=col>&lt;dbl&gt;</th><th scope=col>&lt;dbl&gt;</th></tr>\n",
       "</thead>\n",
       "<tbody>\n",
       "\t<tr><td>JCe2576f </td><td>131242579787</td><td>27727837</td><td>Custom Formula Data</td><td>Temp (in Celsius)</td><td></td><td>2017-12-20 01:00:00+00:00</td><td>-17.7</td><td>NA</td></tr>\n",
       "\t<tr><td>JCe32127 </td><td>131273852266</td><td>40114341</td><td>Custom Formula Data</td><td>Temp (in Celsius)</td><td></td><td>2019-07-22 21:27:00+00:00</td><td>-12.6</td><td>NA</td></tr>\n",
       "\t<tr><td>JCd97240 </td><td>131175721019</td><td>18240916</td><td>Custom Formula Data</td><td>Temp (in Celsius)</td><td></td><td>2016-01-12 02:12:00+00:00</td><td>  2.4</td><td>NA</td></tr>\n",
       "\t<tr><td>JCeafa07 </td><td>131115241228</td><td>16644440</td><td>Custom Formula Data</td><td>Temp (in Celsius)</td><td></td><td>2015-10-05 15:00:00+00:00</td><td>  2.4</td><td>NA</td></tr>\n",
       "\t<tr><td>JCd7deec </td><td>131266090665</td><td>35800683</td><td>Custom Formula Data</td><td>Temp (in Celsius)</td><td></td><td>2019-03-25 18:21:00+00:00</td><td>  2.4</td><td>NA</td></tr>\n",
       "\t<tr><td>JCe6e228 </td><td>131184920938</td><td>19575165</td><td>Custom Formula Data</td><td>Temp (in Celsius)</td><td></td><td>2016-05-22 02:00:00+00:00</td><td>  2.4</td><td>NA</td></tr>\n",
       "\t<tr><td>JCe33d66 </td><td>131154123054</td><td>17662687</td><td>Custom Formula Data</td><td>Temp (in Celsius)</td><td></td><td>2015-11-14 08:55:00+00:00</td><td>  2.5</td><td>NA</td></tr>\n",
       "\t<tr><td>JCdf832c </td><td>131189332121</td><td>20225551</td><td>Custom Formula Data</td><td>Temp (in Celsius)</td><td></td><td>2016-05-23 23:30:00+00:00</td><td>  2.5</td><td>NA</td></tr>\n",
       "\t<tr><td>JCe5647e </td><td>131122461685</td><td>16858543</td><td>Custom Formula Data</td><td>Temp (in Celsius)</td><td></td><td>2015-09-24 19:15:00+00:00</td><td>  2.6</td><td>NA</td></tr>\n",
       "\t<tr><td>JCd5875d </td><td>131180171898</td><td>18862288</td><td>Custom Formula Data</td><td>Temp (in Celsius)</td><td></td><td>2016-02-07 23:59:00+00:00</td><td>  2.6</td><td>NA</td></tr>\n",
       "\t<tr><td>JCe2fbc0 </td><td>131136975270</td><td>17429695</td><td>Custom Formula Data</td><td>Temp (in Celsius)</td><td></td><td>2015-11-18 17:01:00+00:00</td><td>  2.6</td><td>NA</td></tr>\n",
       "\t<tr><td>JCd6e384 </td><td>131124041393</td><td>16889798</td><td>Custom Formula Data</td><td>Temp (in Celsius)</td><td></td><td>2015-09-11 17:23:00+00:00</td><td>  2.6</td><td>NA</td></tr>\n",
       "\t<tr><td>JCde7bfb </td><td>131188614296</td><td>20129430</td><td>Custom Formula Data</td><td>Temp (in Celsius)</td><td></td><td>2016-05-21 23:30:00+00:00</td><td>  2.6</td><td>NA</td></tr>\n",
       "\t<tr><td>JCd81ea3 </td><td>131283431071</td><td>46124346</td><td>Custom Formula Data</td><td>Temp (in Celsius)</td><td></td><td>2020-02-17 05:30:00+00:00</td><td>  2.6</td><td>NA</td></tr>\n",
       "\t<tr><td>JCd010fe </td><td>131132719329</td><td>17233270</td><td>Custom Formula Data</td><td>Temp (in Celsius)</td><td></td><td>2015-11-19 17:56:00+00:00</td><td>  2.6</td><td>NA</td></tr>\n",
       "\t<tr><td>JCe2fb22 </td><td>131231569201</td><td>24833217</td><td>Custom Formula Data</td><td>Temp (in Celsius)</td><td></td><td>2017-05-02 20:34:00+00:00</td><td>  2.6</td><td>NA</td></tr>\n",
       "\t<tr><td>JCe27e0c </td><td>131255295794</td><td>31515259</td><td>Custom Formula Data</td><td>Temp (in Celsius)</td><td></td><td>2018-08-19 20:15:00+00:00</td><td>  2.7</td><td>NA</td></tr>\n",
       "\t<tr><td>JCe109f1 </td><td>131198428567</td><td>21415089</td><td>Custom Formula Data</td><td>Temp (in Celsius)</td><td></td><td>2016-08-20 02:29:00+00:00</td><td>  2.7</td><td>NA</td></tr>\n",
       "\t<tr><td>JCd18169 </td><td>131107301233</td><td>16387829</td><td>Custom Formula Data</td><td>Temp (in Celsius)</td><td></td><td>2015-08-15 02:58:00+00:00</td><td>  2.7</td><td>NA</td></tr>\n",
       "\t<tr><td>JCe3de62 </td><td>131107904712</td><td>16402756</td><td>Custom Formula Data</td><td>Temp (in Celsius)</td><td></td><td>2015-08-31 02:52:00+00:00</td><td>  2.8</td><td>NA</td></tr>\n",
       "\t<tr><td>JCdab3d0 </td><td>131110319573</td><td>16536101</td><td>Custom Formula Data</td><td>Temp (in Celsius)</td><td></td><td>2015-08-14 21:00:00+00:00</td><td>  2.9</td><td>NA</td></tr>\n",
       "\t<tr><td>JCcfed91 </td><td>131126251939</td><td>16985087</td><td>Custom Formula Data</td><td>Temp (in Celsius)</td><td></td><td>2015-10-29 22:00:00+00:00</td><td>  2.9</td><td>NA</td></tr>\n",
       "\t<tr><td>JCdbc37c </td><td>131201291643</td><td>21727373</td><td>Custom Formula Data</td><td>Temp (in Celsius)</td><td></td><td>2016-10-21 22:05:00+00:00</td><td>  3.1</td><td>NA</td></tr>\n",
       "\t<tr><td>JCe1e504 </td><td>131260781970</td><td>33338339</td><td>Custom Formula Data</td><td>Temp (in Celsius)</td><td></td><td>2018-11-07 02:00:00+00:00</td><td>  3.1</td><td>NA</td></tr>\n",
       "\t<tr><td>JCe0e5ae </td><td>131114790816</td><td>16635654</td><td>Custom Formula Data</td><td>Temp (in Celsius)</td><td></td><td>2015-10-10 21:56:00+00:00</td><td>  3.2</td><td>NA</td></tr>\n",
       "\t<tr><td>JCd6b3c8 </td><td>131107270857</td><td>16385255</td><td>Custom Formula Data</td><td>Temp (in Celsius)</td><td></td><td>2015-08-02 04:10:00+00:00</td><td>  3.3</td><td>NA</td></tr>\n",
       "\t<tr><td>JCd052b0 </td><td>131184751128</td><td>19553671</td><td>Custom Formula Data</td><td>Temp (in Celsius)</td><td></td><td>2016-05-09 03:19:00+00:00</td><td>  3.7</td><td>NA</td></tr>\n",
       "\t<tr><td>JCcebb4d </td><td>131159862545</td><td>17748622</td><td>Custom Formula Data</td><td>Temp (in Celsius)</td><td></td><td>2015-11-21 20:24:00+00:00</td><td>  3.7</td><td>NA</td></tr>\n",
       "\t<tr><td>JCd53168 </td><td>131200275756</td><td>21601182</td><td>Custom Formula Data</td><td>Temp (in Celsius)</td><td></td><td>2016-09-14 20:54:00+00:00</td><td>  3.8</td><td>NA</td></tr>\n",
       "\t<tr><td>JCe98ce6 </td><td>131203520141</td><td>21958176</td><td>Custom Formula Data</td><td>Temp (in Celsius)</td><td></td><td>2016-09-30 20:11:00+00:00</td><td>  4.0</td><td>NA</td></tr>\n",
       "\t<tr><td>JCde680b </td><td>131263588795</td><td>34321134</td><td>Custom Formula Data</td><td>Temp (in Celsius)</td><td></td><td>2019-01-18 16:33:00+00:00</td><td> 26.3</td><td>NA</td></tr>\n",
       "\t<tr><td>JCde680b </td><td>131263588795</td><td>34321134</td><td>Custom Formula Data</td><td>Temp (in Celsius)</td><td></td><td>2019-01-18 16:53:00+00:00</td><td> 26.4</td><td>NA</td></tr>\n",
       "\t<tr><td>JCde680b </td><td>131263588795</td><td>34321134</td><td>Custom Formula Data</td><td>Temp (in Celsius)</td><td></td><td>2019-01-18 18:20:00+00:00</td><td> 27.7</td><td>NA</td></tr>\n",
       "\t<tr><td>JC2a08731</td><td>131279102282</td><td>43446955</td><td>Custom Formula Data</td><td>Temp (in Celsius)</td><td></td><td>2019-10-16 12:05:00+00:00</td><td> 27.8</td><td>NA</td></tr>\n",
       "\t<tr><td>JCdd9bab </td><td>131263773440</td><td>34384015</td><td>Custom Formula Data</td><td>Temp (in Celsius)</td><td></td><td>2019-03-17 20:25:00+00:00</td><td> 28.1</td><td>NA</td></tr>\n",
       "\t<tr><td>JCe37fab </td><td>131181402655</td><td>19046301</td><td>Custom Formula Data</td><td>Temp (in Celsius)</td><td></td><td>2016-02-28 20:27:00+00:00</td><td> 28.9</td><td>NA</td></tr>\n",
       "\t<tr><td>JC2a0a71d</td><td>131283610582</td><td>46237162</td><td>Custom Formula Data</td><td>Temp (in Celsius)</td><td></td><td>2020-01-24 03:36:00+00:00</td><td> 29.4</td><td>NA</td></tr>\n",
       "\t<tr><td>JCe88fa0 </td><td>131224771962</td><td>24096907</td><td>Custom Formula Data</td><td>Temp (in Celsius)</td><td></td><td>2017-03-12 10:18:00+00:00</td><td> 29.5</td><td>NA</td></tr>\n",
       "\t<tr><td>JCe0a094 </td><td>131267573883</td><td>36777900</td><td>Custom Formula Data</td><td>Temp (in Celsius)</td><td></td><td>2019-05-25 21:30:00+00:00</td><td> 29.7</td><td>NA</td></tr>\n",
       "\t<tr><td>JCd97296 </td><td>131176042095</td><td>18290644</td><td>Custom Formula Data</td><td>Temp (in Celsius)</td><td></td><td>2016-02-06 20:35:00+00:00</td><td> 29.7</td><td>NA</td></tr>\n",
       "\t<tr><td>JCd97296 </td><td>131176042095</td><td>18290644</td><td>Custom Formula Data</td><td>Temp (in Celsius)</td><td></td><td>2016-02-06 20:45:00+00:00</td><td> 29.8</td><td>NA</td></tr>\n",
       "</tbody>\n",
       "</table>\n"
      ],
      "text/latex": [
       "A data.frame: 41 × 9\n",
       "\\begin{tabular}{lllllllll}\n",
       " anon\\_id & pat\\_enc\\_csn\\_id\\_coded & inpatient\\_data\\_id\\_coded & template & row\\_disp\\_name & units & recorded\\_time & num\\_value1 & num\\_value2\\\\\n",
       " <chr> & <dbl> & <int> & <chr> & <chr> & <chr> & <chr> & <dbl> & <dbl>\\\\\n",
       "\\hline\n",
       "\t JCe2576f  & 131242579787 & 27727837 & Custom Formula Data & Temp (in Celsius) &  & 2017-12-20 01:00:00+00:00 & -17.7 & NA\\\\\n",
       "\t JCe32127  & 131273852266 & 40114341 & Custom Formula Data & Temp (in Celsius) &  & 2019-07-22 21:27:00+00:00 & -12.6 & NA\\\\\n",
       "\t JCd97240  & 131175721019 & 18240916 & Custom Formula Data & Temp (in Celsius) &  & 2016-01-12 02:12:00+00:00 &   2.4 & NA\\\\\n",
       "\t JCeafa07  & 131115241228 & 16644440 & Custom Formula Data & Temp (in Celsius) &  & 2015-10-05 15:00:00+00:00 &   2.4 & NA\\\\\n",
       "\t JCd7deec  & 131266090665 & 35800683 & Custom Formula Data & Temp (in Celsius) &  & 2019-03-25 18:21:00+00:00 &   2.4 & NA\\\\\n",
       "\t JCe6e228  & 131184920938 & 19575165 & Custom Formula Data & Temp (in Celsius) &  & 2016-05-22 02:00:00+00:00 &   2.4 & NA\\\\\n",
       "\t JCe33d66  & 131154123054 & 17662687 & Custom Formula Data & Temp (in Celsius) &  & 2015-11-14 08:55:00+00:00 &   2.5 & NA\\\\\n",
       "\t JCdf832c  & 131189332121 & 20225551 & Custom Formula Data & Temp (in Celsius) &  & 2016-05-23 23:30:00+00:00 &   2.5 & NA\\\\\n",
       "\t JCe5647e  & 131122461685 & 16858543 & Custom Formula Data & Temp (in Celsius) &  & 2015-09-24 19:15:00+00:00 &   2.6 & NA\\\\\n",
       "\t JCd5875d  & 131180171898 & 18862288 & Custom Formula Data & Temp (in Celsius) &  & 2016-02-07 23:59:00+00:00 &   2.6 & NA\\\\\n",
       "\t JCe2fbc0  & 131136975270 & 17429695 & Custom Formula Data & Temp (in Celsius) &  & 2015-11-18 17:01:00+00:00 &   2.6 & NA\\\\\n",
       "\t JCd6e384  & 131124041393 & 16889798 & Custom Formula Data & Temp (in Celsius) &  & 2015-09-11 17:23:00+00:00 &   2.6 & NA\\\\\n",
       "\t JCde7bfb  & 131188614296 & 20129430 & Custom Formula Data & Temp (in Celsius) &  & 2016-05-21 23:30:00+00:00 &   2.6 & NA\\\\\n",
       "\t JCd81ea3  & 131283431071 & 46124346 & Custom Formula Data & Temp (in Celsius) &  & 2020-02-17 05:30:00+00:00 &   2.6 & NA\\\\\n",
       "\t JCd010fe  & 131132719329 & 17233270 & Custom Formula Data & Temp (in Celsius) &  & 2015-11-19 17:56:00+00:00 &   2.6 & NA\\\\\n",
       "\t JCe2fb22  & 131231569201 & 24833217 & Custom Formula Data & Temp (in Celsius) &  & 2017-05-02 20:34:00+00:00 &   2.6 & NA\\\\\n",
       "\t JCe27e0c  & 131255295794 & 31515259 & Custom Formula Data & Temp (in Celsius) &  & 2018-08-19 20:15:00+00:00 &   2.7 & NA\\\\\n",
       "\t JCe109f1  & 131198428567 & 21415089 & Custom Formula Data & Temp (in Celsius) &  & 2016-08-20 02:29:00+00:00 &   2.7 & NA\\\\\n",
       "\t JCd18169  & 131107301233 & 16387829 & Custom Formula Data & Temp (in Celsius) &  & 2015-08-15 02:58:00+00:00 &   2.7 & NA\\\\\n",
       "\t JCe3de62  & 131107904712 & 16402756 & Custom Formula Data & Temp (in Celsius) &  & 2015-08-31 02:52:00+00:00 &   2.8 & NA\\\\\n",
       "\t JCdab3d0  & 131110319573 & 16536101 & Custom Formula Data & Temp (in Celsius) &  & 2015-08-14 21:00:00+00:00 &   2.9 & NA\\\\\n",
       "\t JCcfed91  & 131126251939 & 16985087 & Custom Formula Data & Temp (in Celsius) &  & 2015-10-29 22:00:00+00:00 &   2.9 & NA\\\\\n",
       "\t JCdbc37c  & 131201291643 & 21727373 & Custom Formula Data & Temp (in Celsius) &  & 2016-10-21 22:05:00+00:00 &   3.1 & NA\\\\\n",
       "\t JCe1e504  & 131260781970 & 33338339 & Custom Formula Data & Temp (in Celsius) &  & 2018-11-07 02:00:00+00:00 &   3.1 & NA\\\\\n",
       "\t JCe0e5ae  & 131114790816 & 16635654 & Custom Formula Data & Temp (in Celsius) &  & 2015-10-10 21:56:00+00:00 &   3.2 & NA\\\\\n",
       "\t JCd6b3c8  & 131107270857 & 16385255 & Custom Formula Data & Temp (in Celsius) &  & 2015-08-02 04:10:00+00:00 &   3.3 & NA\\\\\n",
       "\t JCd052b0  & 131184751128 & 19553671 & Custom Formula Data & Temp (in Celsius) &  & 2016-05-09 03:19:00+00:00 &   3.7 & NA\\\\\n",
       "\t JCcebb4d  & 131159862545 & 17748622 & Custom Formula Data & Temp (in Celsius) &  & 2015-11-21 20:24:00+00:00 &   3.7 & NA\\\\\n",
       "\t JCd53168  & 131200275756 & 21601182 & Custom Formula Data & Temp (in Celsius) &  & 2016-09-14 20:54:00+00:00 &   3.8 & NA\\\\\n",
       "\t JCe98ce6  & 131203520141 & 21958176 & Custom Formula Data & Temp (in Celsius) &  & 2016-09-30 20:11:00+00:00 &   4.0 & NA\\\\\n",
       "\t JCde680b  & 131263588795 & 34321134 & Custom Formula Data & Temp (in Celsius) &  & 2019-01-18 16:33:00+00:00 &  26.3 & NA\\\\\n",
       "\t JCde680b  & 131263588795 & 34321134 & Custom Formula Data & Temp (in Celsius) &  & 2019-01-18 16:53:00+00:00 &  26.4 & NA\\\\\n",
       "\t JCde680b  & 131263588795 & 34321134 & Custom Formula Data & Temp (in Celsius) &  & 2019-01-18 18:20:00+00:00 &  27.7 & NA\\\\\n",
       "\t JC2a08731 & 131279102282 & 43446955 & Custom Formula Data & Temp (in Celsius) &  & 2019-10-16 12:05:00+00:00 &  27.8 & NA\\\\\n",
       "\t JCdd9bab  & 131263773440 & 34384015 & Custom Formula Data & Temp (in Celsius) &  & 2019-03-17 20:25:00+00:00 &  28.1 & NA\\\\\n",
       "\t JCe37fab  & 131181402655 & 19046301 & Custom Formula Data & Temp (in Celsius) &  & 2016-02-28 20:27:00+00:00 &  28.9 & NA\\\\\n",
       "\t JC2a0a71d & 131283610582 & 46237162 & Custom Formula Data & Temp (in Celsius) &  & 2020-01-24 03:36:00+00:00 &  29.4 & NA\\\\\n",
       "\t JCe88fa0  & 131224771962 & 24096907 & Custom Formula Data & Temp (in Celsius) &  & 2017-03-12 10:18:00+00:00 &  29.5 & NA\\\\\n",
       "\t JCe0a094  & 131267573883 & 36777900 & Custom Formula Data & Temp (in Celsius) &  & 2019-05-25 21:30:00+00:00 &  29.7 & NA\\\\\n",
       "\t JCd97296  & 131176042095 & 18290644 & Custom Formula Data & Temp (in Celsius) &  & 2016-02-06 20:35:00+00:00 &  29.7 & NA\\\\\n",
       "\t JCd97296  & 131176042095 & 18290644 & Custom Formula Data & Temp (in Celsius) &  & 2016-02-06 20:45:00+00:00 &  29.8 & NA\\\\\n",
       "\\end{tabular}\n"
      ],
      "text/markdown": [
       "\n",
       "A data.frame: 41 × 9\n",
       "\n",
       "| anon_id &lt;chr&gt; | pat_enc_csn_id_coded &lt;dbl&gt; | inpatient_data_id_coded &lt;int&gt; | template &lt;chr&gt; | row_disp_name &lt;chr&gt; | units &lt;chr&gt; | recorded_time &lt;chr&gt; | num_value1 &lt;dbl&gt; | num_value2 &lt;dbl&gt; |\n",
       "|---|---|---|---|---|---|---|---|---|\n",
       "| JCe2576f  | 131242579787 | 27727837 | Custom Formula Data | Temp (in Celsius) | <!----> | 2017-12-20 01:00:00+00:00 | -17.7 | NA |\n",
       "| JCe32127  | 131273852266 | 40114341 | Custom Formula Data | Temp (in Celsius) | <!----> | 2019-07-22 21:27:00+00:00 | -12.6 | NA |\n",
       "| JCd97240  | 131175721019 | 18240916 | Custom Formula Data | Temp (in Celsius) | <!----> | 2016-01-12 02:12:00+00:00 |   2.4 | NA |\n",
       "| JCeafa07  | 131115241228 | 16644440 | Custom Formula Data | Temp (in Celsius) | <!----> | 2015-10-05 15:00:00+00:00 |   2.4 | NA |\n",
       "| JCd7deec  | 131266090665 | 35800683 | Custom Formula Data | Temp (in Celsius) | <!----> | 2019-03-25 18:21:00+00:00 |   2.4 | NA |\n",
       "| JCe6e228  | 131184920938 | 19575165 | Custom Formula Data | Temp (in Celsius) | <!----> | 2016-05-22 02:00:00+00:00 |   2.4 | NA |\n",
       "| JCe33d66  | 131154123054 | 17662687 | Custom Formula Data | Temp (in Celsius) | <!----> | 2015-11-14 08:55:00+00:00 |   2.5 | NA |\n",
       "| JCdf832c  | 131189332121 | 20225551 | Custom Formula Data | Temp (in Celsius) | <!----> | 2016-05-23 23:30:00+00:00 |   2.5 | NA |\n",
       "| JCe5647e  | 131122461685 | 16858543 | Custom Formula Data | Temp (in Celsius) | <!----> | 2015-09-24 19:15:00+00:00 |   2.6 | NA |\n",
       "| JCd5875d  | 131180171898 | 18862288 | Custom Formula Data | Temp (in Celsius) | <!----> | 2016-02-07 23:59:00+00:00 |   2.6 | NA |\n",
       "| JCe2fbc0  | 131136975270 | 17429695 | Custom Formula Data | Temp (in Celsius) | <!----> | 2015-11-18 17:01:00+00:00 |   2.6 | NA |\n",
       "| JCd6e384  | 131124041393 | 16889798 | Custom Formula Data | Temp (in Celsius) | <!----> | 2015-09-11 17:23:00+00:00 |   2.6 | NA |\n",
       "| JCde7bfb  | 131188614296 | 20129430 | Custom Formula Data | Temp (in Celsius) | <!----> | 2016-05-21 23:30:00+00:00 |   2.6 | NA |\n",
       "| JCd81ea3  | 131283431071 | 46124346 | Custom Formula Data | Temp (in Celsius) | <!----> | 2020-02-17 05:30:00+00:00 |   2.6 | NA |\n",
       "| JCd010fe  | 131132719329 | 17233270 | Custom Formula Data | Temp (in Celsius) | <!----> | 2015-11-19 17:56:00+00:00 |   2.6 | NA |\n",
       "| JCe2fb22  | 131231569201 | 24833217 | Custom Formula Data | Temp (in Celsius) | <!----> | 2017-05-02 20:34:00+00:00 |   2.6 | NA |\n",
       "| JCe27e0c  | 131255295794 | 31515259 | Custom Formula Data | Temp (in Celsius) | <!----> | 2018-08-19 20:15:00+00:00 |   2.7 | NA |\n",
       "| JCe109f1  | 131198428567 | 21415089 | Custom Formula Data | Temp (in Celsius) | <!----> | 2016-08-20 02:29:00+00:00 |   2.7 | NA |\n",
       "| JCd18169  | 131107301233 | 16387829 | Custom Formula Data | Temp (in Celsius) | <!----> | 2015-08-15 02:58:00+00:00 |   2.7 | NA |\n",
       "| JCe3de62  | 131107904712 | 16402756 | Custom Formula Data | Temp (in Celsius) | <!----> | 2015-08-31 02:52:00+00:00 |   2.8 | NA |\n",
       "| JCdab3d0  | 131110319573 | 16536101 | Custom Formula Data | Temp (in Celsius) | <!----> | 2015-08-14 21:00:00+00:00 |   2.9 | NA |\n",
       "| JCcfed91  | 131126251939 | 16985087 | Custom Formula Data | Temp (in Celsius) | <!----> | 2015-10-29 22:00:00+00:00 |   2.9 | NA |\n",
       "| JCdbc37c  | 131201291643 | 21727373 | Custom Formula Data | Temp (in Celsius) | <!----> | 2016-10-21 22:05:00+00:00 |   3.1 | NA |\n",
       "| JCe1e504  | 131260781970 | 33338339 | Custom Formula Data | Temp (in Celsius) | <!----> | 2018-11-07 02:00:00+00:00 |   3.1 | NA |\n",
       "| JCe0e5ae  | 131114790816 | 16635654 | Custom Formula Data | Temp (in Celsius) | <!----> | 2015-10-10 21:56:00+00:00 |   3.2 | NA |\n",
       "| JCd6b3c8  | 131107270857 | 16385255 | Custom Formula Data | Temp (in Celsius) | <!----> | 2015-08-02 04:10:00+00:00 |   3.3 | NA |\n",
       "| JCd052b0  | 131184751128 | 19553671 | Custom Formula Data | Temp (in Celsius) | <!----> | 2016-05-09 03:19:00+00:00 |   3.7 | NA |\n",
       "| JCcebb4d  | 131159862545 | 17748622 | Custom Formula Data | Temp (in Celsius) | <!----> | 2015-11-21 20:24:00+00:00 |   3.7 | NA |\n",
       "| JCd53168  | 131200275756 | 21601182 | Custom Formula Data | Temp (in Celsius) | <!----> | 2016-09-14 20:54:00+00:00 |   3.8 | NA |\n",
       "| JCe98ce6  | 131203520141 | 21958176 | Custom Formula Data | Temp (in Celsius) | <!----> | 2016-09-30 20:11:00+00:00 |   4.0 | NA |\n",
       "| JCde680b  | 131263588795 | 34321134 | Custom Formula Data | Temp (in Celsius) | <!----> | 2019-01-18 16:33:00+00:00 |  26.3 | NA |\n",
       "| JCde680b  | 131263588795 | 34321134 | Custom Formula Data | Temp (in Celsius) | <!----> | 2019-01-18 16:53:00+00:00 |  26.4 | NA |\n",
       "| JCde680b  | 131263588795 | 34321134 | Custom Formula Data | Temp (in Celsius) | <!----> | 2019-01-18 18:20:00+00:00 |  27.7 | NA |\n",
       "| JC2a08731 | 131279102282 | 43446955 | Custom Formula Data | Temp (in Celsius) | <!----> | 2019-10-16 12:05:00+00:00 |  27.8 | NA |\n",
       "| JCdd9bab  | 131263773440 | 34384015 | Custom Formula Data | Temp (in Celsius) | <!----> | 2019-03-17 20:25:00+00:00 |  28.1 | NA |\n",
       "| JCe37fab  | 131181402655 | 19046301 | Custom Formula Data | Temp (in Celsius) | <!----> | 2016-02-28 20:27:00+00:00 |  28.9 | NA |\n",
       "| JC2a0a71d | 131283610582 | 46237162 | Custom Formula Data | Temp (in Celsius) | <!----> | 2020-01-24 03:36:00+00:00 |  29.4 | NA |\n",
       "| JCe88fa0  | 131224771962 | 24096907 | Custom Formula Data | Temp (in Celsius) | <!----> | 2017-03-12 10:18:00+00:00 |  29.5 | NA |\n",
       "| JCe0a094  | 131267573883 | 36777900 | Custom Formula Data | Temp (in Celsius) | <!----> | 2019-05-25 21:30:00+00:00 |  29.7 | NA |\n",
       "| JCd97296  | 131176042095 | 18290644 | Custom Formula Data | Temp (in Celsius) | <!----> | 2016-02-06 20:35:00+00:00 |  29.7 | NA |\n",
       "| JCd97296  | 131176042095 | 18290644 | Custom Formula Data | Temp (in Celsius) | <!----> | 2016-02-06 20:45:00+00:00 |  29.8 | NA |\n",
       "\n"
      ],
      "text/plain": [
       "   anon_id   pat_enc_csn_id_coded inpatient_data_id_coded template           \n",
       "1  JCe2576f  131242579787         27727837                Custom Formula Data\n",
       "2  JCe32127  131273852266         40114341                Custom Formula Data\n",
       "3  JCd97240  131175721019         18240916                Custom Formula Data\n",
       "4  JCeafa07  131115241228         16644440                Custom Formula Data\n",
       "5  JCd7deec  131266090665         35800683                Custom Formula Data\n",
       "6  JCe6e228  131184920938         19575165                Custom Formula Data\n",
       "7  JCe33d66  131154123054         17662687                Custom Formula Data\n",
       "8  JCdf832c  131189332121         20225551                Custom Formula Data\n",
       "9  JCe5647e  131122461685         16858543                Custom Formula Data\n",
       "10 JCd5875d  131180171898         18862288                Custom Formula Data\n",
       "11 JCe2fbc0  131136975270         17429695                Custom Formula Data\n",
       "12 JCd6e384  131124041393         16889798                Custom Formula Data\n",
       "13 JCde7bfb  131188614296         20129430                Custom Formula Data\n",
       "14 JCd81ea3  131283431071         46124346                Custom Formula Data\n",
       "15 JCd010fe  131132719329         17233270                Custom Formula Data\n",
       "16 JCe2fb22  131231569201         24833217                Custom Formula Data\n",
       "17 JCe27e0c  131255295794         31515259                Custom Formula Data\n",
       "18 JCe109f1  131198428567         21415089                Custom Formula Data\n",
       "19 JCd18169  131107301233         16387829                Custom Formula Data\n",
       "20 JCe3de62  131107904712         16402756                Custom Formula Data\n",
       "21 JCdab3d0  131110319573         16536101                Custom Formula Data\n",
       "22 JCcfed91  131126251939         16985087                Custom Formula Data\n",
       "23 JCdbc37c  131201291643         21727373                Custom Formula Data\n",
       "24 JCe1e504  131260781970         33338339                Custom Formula Data\n",
       "25 JCe0e5ae  131114790816         16635654                Custom Formula Data\n",
       "26 JCd6b3c8  131107270857         16385255                Custom Formula Data\n",
       "27 JCd052b0  131184751128         19553671                Custom Formula Data\n",
       "28 JCcebb4d  131159862545         17748622                Custom Formula Data\n",
       "29 JCd53168  131200275756         21601182                Custom Formula Data\n",
       "30 JCe98ce6  131203520141         21958176                Custom Formula Data\n",
       "31 JCde680b  131263588795         34321134                Custom Formula Data\n",
       "32 JCde680b  131263588795         34321134                Custom Formula Data\n",
       "33 JCde680b  131263588795         34321134                Custom Formula Data\n",
       "34 JC2a08731 131279102282         43446955                Custom Formula Data\n",
       "35 JCdd9bab  131263773440         34384015                Custom Formula Data\n",
       "36 JCe37fab  131181402655         19046301                Custom Formula Data\n",
       "37 JC2a0a71d 131283610582         46237162                Custom Formula Data\n",
       "38 JCe88fa0  131224771962         24096907                Custom Formula Data\n",
       "39 JCe0a094  131267573883         36777900                Custom Formula Data\n",
       "40 JCd97296  131176042095         18290644                Custom Formula Data\n",
       "41 JCd97296  131176042095         18290644                Custom Formula Data\n",
       "   row_disp_name     units recorded_time             num_value1 num_value2\n",
       "1  Temp (in Celsius)       2017-12-20 01:00:00+00:00 -17.7      NA        \n",
       "2  Temp (in Celsius)       2019-07-22 21:27:00+00:00 -12.6      NA        \n",
       "3  Temp (in Celsius)       2016-01-12 02:12:00+00:00   2.4      NA        \n",
       "4  Temp (in Celsius)       2015-10-05 15:00:00+00:00   2.4      NA        \n",
       "5  Temp (in Celsius)       2019-03-25 18:21:00+00:00   2.4      NA        \n",
       "6  Temp (in Celsius)       2016-05-22 02:00:00+00:00   2.4      NA        \n",
       "7  Temp (in Celsius)       2015-11-14 08:55:00+00:00   2.5      NA        \n",
       "8  Temp (in Celsius)       2016-05-23 23:30:00+00:00   2.5      NA        \n",
       "9  Temp (in Celsius)       2015-09-24 19:15:00+00:00   2.6      NA        \n",
       "10 Temp (in Celsius)       2016-02-07 23:59:00+00:00   2.6      NA        \n",
       "11 Temp (in Celsius)       2015-11-18 17:01:00+00:00   2.6      NA        \n",
       "12 Temp (in Celsius)       2015-09-11 17:23:00+00:00   2.6      NA        \n",
       "13 Temp (in Celsius)       2016-05-21 23:30:00+00:00   2.6      NA        \n",
       "14 Temp (in Celsius)       2020-02-17 05:30:00+00:00   2.6      NA        \n",
       "15 Temp (in Celsius)       2015-11-19 17:56:00+00:00   2.6      NA        \n",
       "16 Temp (in Celsius)       2017-05-02 20:34:00+00:00   2.6      NA        \n",
       "17 Temp (in Celsius)       2018-08-19 20:15:00+00:00   2.7      NA        \n",
       "18 Temp (in Celsius)       2016-08-20 02:29:00+00:00   2.7      NA        \n",
       "19 Temp (in Celsius)       2015-08-15 02:58:00+00:00   2.7      NA        \n",
       "20 Temp (in Celsius)       2015-08-31 02:52:00+00:00   2.8      NA        \n",
       "21 Temp (in Celsius)       2015-08-14 21:00:00+00:00   2.9      NA        \n",
       "22 Temp (in Celsius)       2015-10-29 22:00:00+00:00   2.9      NA        \n",
       "23 Temp (in Celsius)       2016-10-21 22:05:00+00:00   3.1      NA        \n",
       "24 Temp (in Celsius)       2018-11-07 02:00:00+00:00   3.1      NA        \n",
       "25 Temp (in Celsius)       2015-10-10 21:56:00+00:00   3.2      NA        \n",
       "26 Temp (in Celsius)       2015-08-02 04:10:00+00:00   3.3      NA        \n",
       "27 Temp (in Celsius)       2016-05-09 03:19:00+00:00   3.7      NA        \n",
       "28 Temp (in Celsius)       2015-11-21 20:24:00+00:00   3.7      NA        \n",
       "29 Temp (in Celsius)       2016-09-14 20:54:00+00:00   3.8      NA        \n",
       "30 Temp (in Celsius)       2016-09-30 20:11:00+00:00   4.0      NA        \n",
       "31 Temp (in Celsius)       2019-01-18 16:33:00+00:00  26.3      NA        \n",
       "32 Temp (in Celsius)       2019-01-18 16:53:00+00:00  26.4      NA        \n",
       "33 Temp (in Celsius)       2019-01-18 18:20:00+00:00  27.7      NA        \n",
       "34 Temp (in Celsius)       2019-10-16 12:05:00+00:00  27.8      NA        \n",
       "35 Temp (in Celsius)       2019-03-17 20:25:00+00:00  28.1      NA        \n",
       "36 Temp (in Celsius)       2016-02-28 20:27:00+00:00  28.9      NA        \n",
       "37 Temp (in Celsius)       2020-01-24 03:36:00+00:00  29.4      NA        \n",
       "38 Temp (in Celsius)       2017-03-12 10:18:00+00:00  29.5      NA        \n",
       "39 Temp (in Celsius)       2019-05-25 21:30:00+00:00  29.7      NA        \n",
       "40 Temp (in Celsius)       2016-02-06 20:35:00+00:00  29.7      NA        \n",
       "41 Temp (in Celsius)       2016-02-06 20:45:00+00:00  29.8      NA        "
      ]
     },
     "metadata": {},
     "output_type": "display_data"
    },
    {
     "data": {
      "image/png": "[encoded data removed]",
      "text/plain": [
       "Plot with title \"Histogram of temp2$num_value1\""
      ]
     },
     "metadata": {
      "image/png": {
       "height": 420,
       "width": 420
      }
     },
     "output_type": "display_data"
    },
    {
     "data": {
      "image/png": "[encoded data removed]",
      "text/plain": [
       "Plot with title \"Histogram of temp2$num_value1\""
      ]
     },
     "metadata": {
      "image/png": {
       "height": 420,
       "width": 420
      }
     },
     "output_type": "display_data"
    }
   ],
   "source": [
    "temp2 <- vitals %>% filter(row_disp_name == \"Temp (in Celsius)\")\n",
    "hist(temp2$num_value1)\n",
    "summary(temp2$num_value1)\n",
    "\n",
    "temp2 <- vitals %>% filter(row_disp_name == \"Temp (in Celsius)\", num_value1 < 30)\n",
    "temp2 %>% arrange(num_value1)\n",
    "\n",
    "temp2 <- vitals %>% filter(row_disp_name == \"Temp (in Celsius)\", num_value1 < 35, num_value1 >=30)\n",
    "hist(temp2$num_value1)"
   ]
  },
  {
   "cell_type": "code",
   "execution_count": 82,
   "metadata": {},
   "outputs": [
    {
     "data": {
      "text/html": [
       "802224"
      ],
      "text/latex": [
       "802224"
      ],
      "text/markdown": [
       "802224"
      ],
      "text/plain": [
       "[1] 802224"
      ]
     },
     "metadata": {},
     "output_type": "display_data"
    },
    {
     "data": {
      "text/html": [
       "<style>\n",
       ".list-inline {list-style: none; margin:0; padding: 0}\n",
       ".list-inline>li {display: inline-block}\n",
       ".list-inline>li:not(:last-child)::after {content: \"\\00b7\"; padding: 0 .5ex}\n",
       "</style>\n",
       "<ol class=list-inline><li>'RR'</li><li>'SBP'</li><li>'Temp'</li><li>'Pulse'</li><li>'NIBP'</li></ol>\n"
      ],
      "text/latex": [
       "\\begin{enumerate*}\n",
       "\\item 'RR'\n",
       "\\item 'SBP'\n",
       "\\item 'Temp'\n",
       "\\item 'Pulse'\n",
       "\\item 'NIBP'\n",
       "\\end{enumerate*}\n"
      ],
      "text/markdown": [
       "1. 'RR'\n",
       "2. 'SBP'\n",
       "3. 'Temp'\n",
       "4. 'Pulse'\n",
       "5. 'NIBP'\n",
       "\n",
       "\n"
      ],
      "text/plain": [
       "[1] \"RR\"    \"SBP\"   \"Temp\"  \"Pulse\" \"NIBP\" "
      ]
     },
     "metadata": {},
     "output_type": "display_data"
    },
    {
     "name": "stderr",
     "output_type": "stream",
     "text": [
      "`summarise()` ungrouping output (override with `.groups` argument)\n",
      "\n"
     ]
    },
    {
     "data": {
      "text/html": [
       "<table>\n",
       "<caption>A tibble: 4 × 10</caption>\n",
       "<thead>\n",
       "\t<tr><th scope=col>features</th><th scope=col>n</th><th scope=col>mean1</th><th scope=col>mean2</th><th scope=col>median1</th><th scope=col>median2</th><th scope=col>min1</th><th scope=col>min2</th><th scope=col>max1</th><th scope=col>max2</th></tr>\n",
       "\t<tr><th scope=col>&lt;chr&gt;</th><th scope=col>&lt;int&gt;</th><th scope=col>&lt;dbl&gt;</th><th scope=col>&lt;dbl&gt;</th><th scope=col>&lt;dbl&gt;</th><th scope=col>&lt;dbl&gt;</th><th scope=col>&lt;dbl&gt;</th><th scope=col>&lt;dbl&gt;</th><th scope=col>&lt;dbl&gt;</th><th scope=col>&lt;dbl&gt;</th></tr>\n",
       "</thead>\n",
       "<tbody>\n",
       "\t<tr><td>Pulse</td><td>227569</td><td> 88.71822</td><td>     NaN</td><td> 87.0</td><td>  NA</td><td>  0.0</td><td> Inf</td><td>300.0</td><td> -Inf</td></tr>\n",
       "\t<tr><td>RR   </td><td>216027</td><td> 19.23883</td><td>     NaN</td><td> 18.0</td><td>  NA</td><td>  0.0</td><td> Inf</td><td>189.0</td><td> -Inf</td></tr>\n",
       "\t<tr><td>SBP  </td><td>213404</td><td>129.04583</td><td>75.78745</td><td>127.0</td><td>75.0</td><td>  0.0</td><td> 0.0</td><td>419.0</td><td>238.0</td></tr>\n",
       "\t<tr><td>Temp </td><td>145223</td><td> 71.59947</td><td>98.32806</td><td> 97.5</td><td>98.3</td><td>-17.7</td><td>96.7</td><td>110.2</td><td>102.9</td></tr>\n",
       "</tbody>\n",
       "</table>\n"
      ],
      "text/latex": [
       "A tibble: 4 × 10\n",
       "\\begin{tabular}{llllllllll}\n",
       " features & n & mean1 & mean2 & median1 & median2 & min1 & min2 & max1 & max2\\\\\n",
       " <chr> & <int> & <dbl> & <dbl> & <dbl> & <dbl> & <dbl> & <dbl> & <dbl> & <dbl>\\\\\n",
       "\\hline\n",
       "\t Pulse & 227569 &  88.71822 &      NaN &  87.0 &   NA &   0.0 &  Inf & 300.0 &  -Inf\\\\\n",
       "\t RR    & 216027 &  19.23883 &      NaN &  18.0 &   NA &   0.0 &  Inf & 189.0 &  -Inf\\\\\n",
       "\t SBP   & 213404 & 129.04583 & 75.78745 & 127.0 & 75.0 &   0.0 &  0.0 & 419.0 & 238.0\\\\\n",
       "\t Temp  & 145223 &  71.59947 & 98.32806 &  97.5 & 98.3 & -17.7 & 96.7 & 110.2 & 102.9\\\\\n",
       "\\end{tabular}\n"
      ],
      "text/markdown": [
       "\n",
       "A tibble: 4 × 10\n",
       "\n",
       "| features &lt;chr&gt; | n &lt;int&gt; | mean1 &lt;dbl&gt; | mean2 &lt;dbl&gt; | median1 &lt;dbl&gt; | median2 &lt;dbl&gt; | min1 &lt;dbl&gt; | min2 &lt;dbl&gt; | max1 &lt;dbl&gt; | max2 &lt;dbl&gt; |\n",
       "|---|---|---|---|---|---|---|---|---|---|\n",
       "| Pulse | 227569 |  88.71822 |      NaN |  87.0 |   NA |   0.0 |  Inf | 300.0 |  -Inf |\n",
       "| RR    | 216027 |  19.23883 |      NaN |  18.0 |   NA |   0.0 |  Inf | 189.0 |  -Inf |\n",
       "| SBP   | 213404 | 129.04583 | 75.78745 | 127.0 | 75.0 |   0.0 |  0.0 | 419.0 | 238.0 |\n",
       "| Temp  | 145223 |  71.59947 | 98.32806 |  97.5 | 98.3 | -17.7 | 96.7 | 110.2 | 102.9 |\n",
       "\n"
      ],
      "text/plain": [
       "  features n      mean1     mean2    median1 median2 min1  min2 max1  max2 \n",
       "1 Pulse    227569  88.71822      NaN  87.0     NA      0.0  Inf 300.0  -Inf\n",
       "2 RR       216027  19.23883      NaN  18.0     NA      0.0  Inf 189.0  -Inf\n",
       "3 SBP      213404 129.04583 75.78745 127.0   75.0      0.0  0.0 419.0 238.0\n",
       "4 Temp     145223  71.59947 98.32806  97.5   98.3    -17.7 96.7 110.2 102.9"
      ]
     },
     "metadata": {},
     "output_type": "display_data"
    }
   ],
   "source": [
    "# rename the variables, combine similar ones\n",
    "# only 1 name: SpO2 and BP # ifelse(str_detect(features, paste(GCS, collapse=\"|\")), \"GCS\",\n",
    "Pulse = c(\"Pulse\", \"Heart Rate\") \n",
    "RR = c(\"Resp\", \"Resp Rate\") # not using Respiratory Rate, different scale\n",
    "\n",
    "# will name BP as SBP and take num_value1 only, DBP will be processed separately\n",
    "# distinct will reduce many rows, that have values with same recorded time\n",
    "vitals <- vitals %>% rename(features = row_disp_name) %>% \n",
    "                mutate(features = ifelse(features == \"BP\", \"SBP\",\n",
    "                                         ifelse(features %in% Pulse, \"Pulse\", \n",
    "                                                ifelse(str_detect(features, \"Temp\"), \"Temp\", \n",
    "                                                       ifelse(features %in% RR, \"RR\", as.character(features)))))) %>% # last ... in ifelse(cond, iftrue, ...)\n",
    "                distinct()\n",
    "nrow(vitals)       \n",
    "unique(vitals$features)\n",
    "fs_feats <- c(\"Pulse\", \"RR\", \"SBP\", \"Temp\")\n",
    "vitals %>% filter(features %in% fs_feats) %>% group_by(features) %>% display_summary_num1and2(num_value1, num_value2)"
   ]
  },
  {
   "cell_type": "markdown",
   "metadata": {},
   "source": [
    "### Clean Temp:\n",
    "- temp in Celsius is above 25 and below 45\n",
    "- anything < 25 is even less than 10 and considered to be erroneous\n",
    "- anything > 75 is considered in F \n",
    "- num_value2 is only F while num_value1 can be either F or C\n",
    "- HOWEVER, if num_value1 is NA or num_value1 < 26, there is no num_value2! **So we can just use num_value1 for temp!**"
   ]
  },
  {
   "cell_type": "code",
   "execution_count": 105,
   "metadata": {},
   "outputs": [
    {
     "data": {
      "text/plain": [
       "   num_value1      num_value2    \n",
       " Min.   :-17.7   Min.   : 96.70  \n",
       " 1st Qu.: 36.9   1st Qu.: 97.90  \n",
       " Median : 97.5   Median : 98.30  \n",
       " Mean   : 71.6   Mean   : 98.33  \n",
       " 3rd Qu.: 98.4   3rd Qu.: 98.60  \n",
       " Max.   :110.2   Max.   :102.90  \n",
       " NA's   :711     NA's   :144945  "
      ]
     },
     "metadata": {},
     "output_type": "display_data"
    },
    {
     "data": {
      "text/html": [
       "0"
      ],
      "text/latex": [
       "0"
      ],
      "text/markdown": [
       "0"
      ],
      "text/plain": [
       "[1] 0"
      ]
     },
     "metadata": {},
     "output_type": "display_data"
    },
    {
     "data": {
      "text/html": [
       "32"
      ],
      "text/latex": [
       "32"
      ],
      "text/markdown": [
       "32"
      ],
      "text/plain": [
       "[1] 32"
      ]
     },
     "metadata": {},
     "output_type": "display_data"
    }
   ],
   "source": [
    "summary(vitals %>% filter(features==\"Temp\") %>% select(num_value1, num_value2))\n",
    "nrow(vitals %>% filter(features==\"Temp\", is.na(num_value1), !is.na(num_value2)))\n",
    "nrow(vitals %>% filter(features==\"Temp\", num_value1 <= 25))"
   ]
  },
  {
   "cell_type": "markdown",
   "metadata": {},
   "source": [
    "### Check DBP and process this separately, to bind rows afterward"
   ]
  },
  {
   "cell_type": "code",
   "execution_count": 56,
   "metadata": {},
   "outputs": [
    {
     "data": {
      "text/html": [
       "0"
      ],
      "text/latex": [
       "0"
      ],
      "text/markdown": [
       "0"
      ],
      "text/plain": [
       "[1] 0"
      ]
     },
     "metadata": {},
     "output_type": "display_data"
    },
    {
     "data": {
      "text/html": [
       "0"
      ],
      "text/latex": [
       "0"
      ],
      "text/markdown": [
       "0"
      ],
      "text/plain": [
       "[1] 0"
      ]
     },
     "metadata": {},
     "output_type": "display_data"
    },
    {
     "data": {
      "text/html": [
       "<table>\n",
       "<caption>A data.frame: 157 × 9</caption>\n",
       "<thead>\n",
       "\t<tr><th scope=col>anon_id</th><th scope=col>pat_enc_csn_id_coded</th><th scope=col>inpatient_data_id_coded</th><th scope=col>template</th><th scope=col>features</th><th scope=col>units</th><th scope=col>recorded_time</th><th scope=col>num_value1</th><th scope=col>num_value2</th></tr>\n",
       "\t<tr><th scope=col>&lt;chr&gt;</th><th scope=col>&lt;dbl&gt;</th><th scope=col>&lt;int&gt;</th><th scope=col>&lt;chr&gt;</th><th scope=col>&lt;chr&gt;</th><th scope=col>&lt;chr&gt;</th><th scope=col>&lt;chr&gt;</th><th scope=col>&lt;dbl&gt;</th><th scope=col>&lt;dbl&gt;</th></tr>\n",
       "</thead>\n",
       "<tbody>\n",
       "\t<tr><td>JCd04de5 </td><td>131068992117</td><td>14201240</td><td>Vitals                  </td><td>SBP</td><td></td><td>2015-03-01 01:18:00+00:00</td><td> 60</td><td> 0</td></tr>\n",
       "\t<tr><td>JCd04de5 </td><td>131068992117</td><td>14201240</td><td>Vitals                  </td><td>SBP</td><td></td><td>2015-03-01 01:42:00+00:00</td><td> 74</td><td> 0</td></tr>\n",
       "\t<tr><td>JC2a1a193</td><td>131274427714</td><td>40485010</td><td>Hemodynamic Measurements</td><td>SBP</td><td></td><td>2019-08-24 20:31:04+00:00</td><td>  0</td><td> 0</td></tr>\n",
       "\t<tr><td>JCd4aff3 </td><td>131268077771</td><td>37106042</td><td>Vitals                  </td><td>SBP</td><td></td><td>2019-05-10 16:30:00+00:00</td><td> 80</td><td> 0</td></tr>\n",
       "\t<tr><td>JCd04de5 </td><td>131068992117</td><td>14201240</td><td>Vitals                  </td><td>SBP</td><td></td><td>2015-03-01 06:30:00+00:00</td><td> 74</td><td> 0</td></tr>\n",
       "\t<tr><td>JCdcddf3 </td><td>131066249809</td><td>14065631</td><td>IIC VS                  </td><td>SBP</td><td></td><td>2015-01-26 11:00:00+00:00</td><td> 80</td><td> 0</td></tr>\n",
       "\t<tr><td>JCe9159a </td><td>131101395078</td><td>16149752</td><td>Vitals                  </td><td>SBP</td><td></td><td>2015-07-27 14:59:00+00:00</td><td> 90</td><td> 0</td></tr>\n",
       "\t<tr><td>JCd3b2e3 </td><td>131106311493</td><td>16305407</td><td>Vitals                  </td><td>SBP</td><td></td><td>2015-07-16 04:58:29+00:00</td><td>110</td><td> 0</td></tr>\n",
       "\t<tr><td>JCde680b </td><td>131263588795</td><td>34321134</td><td>Vitals                  </td><td>SBP</td><td></td><td>2019-01-18 16:47:00+00:00</td><td> 64</td><td> 0</td></tr>\n",
       "\t<tr><td>JCeab0af </td><td>131235150982</td><td>25114989</td><td>Vitals                  </td><td>SBP</td><td></td><td>2017-06-30 17:44:00+00:00</td><td>126</td><td> 3</td></tr>\n",
       "\t<tr><td>JCe5c8bd </td><td>131261560579</td><td>33618434</td><td>Vitals                  </td><td>SBP</td><td></td><td>2018-12-04 19:50:00+00:00</td><td> 49</td><td> 3</td></tr>\n",
       "\t<tr><td>JCe71ce9 </td><td>131270622687</td><td>38304722</td><td>Vitals                  </td><td>SBP</td><td></td><td>2019-06-17 04:32:00+00:00</td><td>137</td><td> 3</td></tr>\n",
       "\t<tr><td>JCcc84fa </td><td>131247957696</td><td>29063296</td><td>Vitals                  </td><td>SBP</td><td></td><td>2018-02-25 01:00:00+00:00</td><td>142</td><td> 4</td></tr>\n",
       "\t<tr><td>JCcdf8ea </td><td>131254610457</td><td>31265936</td><td>Vitals                  </td><td>SBP</td><td></td><td>2018-06-23 23:05:00+00:00</td><td>149</td><td> 6</td></tr>\n",
       "\t<tr><td>JCd6d0b1 </td><td>131083141509</td><td>15050940</td><td>Vitals                  </td><td>SBP</td><td></td><td>2015-05-15 00:55:00+00:00</td><td>107</td><td> 6</td></tr>\n",
       "\t<tr><td>JCcf12f6 </td><td>131247595479</td><td>28957840</td><td>M/S VS                  </td><td>SBP</td><td></td><td>2018-01-30 01:53:00+00:00</td><td>170</td><td> 6</td></tr>\n",
       "\t<tr><td>JCd6683b </td><td>131179763687</td><td>18803230</td><td>Vitals                  </td><td>SBP</td><td></td><td>2016-03-14 00:00:00+00:00</td><td>151</td><td> 6</td></tr>\n",
       "\t<tr><td>JCe39a3a </td><td>131136175396</td><td>17395477</td><td>Vitals                  </td><td>SBP</td><td></td><td>2015-10-18 01:10:00+00:00</td><td>121</td><td> 6</td></tr>\n",
       "\t<tr><td>JCd39bc8 </td><td>131240101160</td><td>26710083</td><td>Vitals                  </td><td>SBP</td><td></td><td>2017-09-30 01:15:00+00:00</td><td>145</td><td> 6</td></tr>\n",
       "\t<tr><td>JCe9ca29 </td><td>131283232202</td><td>45999455</td><td>Vitals                  </td><td>SBP</td><td></td><td>2020-03-03 18:51:00+00:00</td><td>158</td><td> 7</td></tr>\n",
       "\t<tr><td>JCd27863 </td><td>131115241974</td><td>16644586</td><td>Vitals                  </td><td>SBP</td><td></td><td>2015-08-27 22:53:00+00:00</td><td>125</td><td> 7</td></tr>\n",
       "\t<tr><td>JCcf22bf </td><td>131203765780</td><td>21984351</td><td>Vitals                  </td><td>SBP</td><td></td><td>2016-10-31 18:10:00+00:00</td><td>122</td><td> 7</td></tr>\n",
       "\t<tr><td>JCe1c581 </td><td>131083288273</td><td>15067884</td><td>Vitals                  </td><td>SBP</td><td></td><td>2015-05-08 23:19:00+00:00</td><td> 92</td><td> 7</td></tr>\n",
       "\t<tr><td>JC2a0ea2f</td><td>131261654158</td><td>33647540</td><td>Vitals                  </td><td>SBP</td><td></td><td>2019-01-10 19:30:00+00:00</td><td>133</td><td> 8</td></tr>\n",
       "\t<tr><td>JCe8f38d </td><td>131199550837</td><td>21511436</td><td>Vitals                  </td><td>SBP</td><td></td><td>2016-08-27 18:35:00+00:00</td><td>117</td><td> 8</td></tr>\n",
       "\t<tr><td>JCe36fcf </td><td>131152369571</td><td>17606842</td><td>Vitals                  </td><td>SBP</td><td></td><td>2015-12-11 12:25:00+00:00</td><td>166</td><td> 8</td></tr>\n",
       "\t<tr><td>JCd945e1 </td><td>131252367582</td><td>30658106</td><td>Mod Sedation            </td><td>SBP</td><td></td><td>2018-07-01 22:37:00+00:00</td><td>171</td><td> 8</td></tr>\n",
       "\t<tr><td>JCcbab42 </td><td>131266042558</td><td>35767736</td><td>Vitals                  </td><td>SBP</td><td></td><td>2019-05-07 23:48:00+00:00</td><td>134</td><td> 9</td></tr>\n",
       "\t<tr><td>JCdc6867 </td><td>131177443004</td><td>18452981</td><td>Vitals                  </td><td>SBP</td><td></td><td>2016-01-11 02:38:00+00:00</td><td>112</td><td> 9</td></tr>\n",
       "\t<tr><td>JCe9f1e5 </td><td>131262100457</td><td>33802608</td><td>Vitals                  </td><td>SBP</td><td></td><td>2019-01-06 23:11:00+00:00</td><td>215</td><td>10</td></tr>\n",
       "\t<tr><td>JCcc3257 </td><td>131182220877</td><td>19167354</td><td>Vitals                  </td><td>SBP</td><td></td><td>2016-02-29 17:06:00+00:00</td><td> 69</td><td>10</td></tr>\n",
       "\t<tr><td>JCe075ac </td><td>131214942456</td><td>23099573</td><td>Vitals From Sheet       </td><td>SBP</td><td></td><td>2016-12-31 23:50:00+00:00</td><td>147</td><td>10</td></tr>\n",
       "\t<tr><td>JCdf7ad7 </td><td>131236570819</td><td>25468289</td><td>Stroke                  </td><td>SBP</td><td></td><td>2017-07-17 00:43:00+00:00</td><td>176</td><td>11</td></tr>\n",
       "\t<tr><td>JCe0be08 </td><td>131228140930</td><td>24448436</td><td>ICU VS                  </td><td>SBP</td><td></td><td>2017-04-15 02:45:00+00:00</td><td>194</td><td>11</td></tr>\n",
       "\t<tr><td>JCcfbc9d </td><td>131274990700</td><td>40843176</td><td>Vitals                  </td><td>SBP</td><td></td><td>2019-09-09 07:29:00+00:00</td><td>154</td><td>11</td></tr>\n",
       "\t<tr><td>JCd945e1 </td><td>131252367582</td><td>30658106</td><td>Mod Sedation            </td><td>SBP</td><td></td><td>2018-07-01 22:32:00+00:00</td><td>151</td><td>11</td></tr>\n",
       "\t<tr><td>JCe83d89 </td><td>131239293809</td><td>26410031</td><td>Vitals                  </td><td>SBP</td><td></td><td>2017-09-06 19:08:00+00:00</td><td>147</td><td>11</td></tr>\n",
       "\t<tr><td>JCd7488a </td><td>131103610976</td><td>16189611</td><td>Vitals                  </td><td>SBP</td><td></td><td>2015-07-31 20:42:34+00:00</td><td>151</td><td>11</td></tr>\n",
       "\t<tr><td>JCdddbd7 </td><td>131072408696</td><td>14309262</td><td>Vitals                  </td><td>SBP</td><td></td><td>2015-01-18 22:56:00+00:00</td><td>147</td><td>11</td></tr>\n",
       "\t<tr><td>JCd1232d </td><td>131257228811</td><td>32071589</td><td>DATA VALIDATE           </td><td>SBP</td><td></td><td>2018-08-26 01:11:00+00:00</td><td>157</td><td>12</td></tr>\n",
       "\t<tr><td>JCec0bc1 </td><td>131250333042</td><td>29910085</td><td>ICU VS                  </td><td>SBP</td><td></td><td>2018-05-06 00:47:00+00:00</td><td>157</td><td>12</td></tr>\n",
       "\t<tr><td>JCd9dc5f </td><td>131251027157</td><td>30169334</td><td>DATA VALIDATE           </td><td>SBP</td><td></td><td>2018-04-16 00:42:00+00:00</td><td> 94</td><td>12</td></tr>\n",
       "\t<tr><td>JCe1df14 </td><td>131244026887</td><td>28146494</td><td>ICU VS                  </td><td>SBP</td><td></td><td>2018-02-11 10:00:00+00:00</td><td>225</td><td>12</td></tr>\n",
       "\t<tr><td>JCe8e33a </td><td>131066865777</td><td>14139429</td><td>Vitals                  </td><td>SBP</td><td></td><td>2015-01-04 05:18:00+00:00</td><td>168</td><td>12</td></tr>\n",
       "\t<tr><td>JCe14e5b </td><td>131273610467</td><td>39958051</td><td>Vitals                  </td><td>SBP</td><td></td><td>2019-09-02 05:15:00+00:00</td><td> 51</td><td>13</td></tr>\n",
       "\t<tr><td>JCda2fe2 </td><td>131259025143</td><td>32709155</td><td>DATA VALIDATE           </td><td>SBP</td><td></td><td>2018-09-27 16:48:00+00:00</td><td> 35</td><td>13</td></tr>\n",
       "\t<tr><td>JCe5faab </td><td>131272707003</td><td>39379259</td><td>Vitals                  </td><td>SBP</td><td></td><td>2019-07-27 17:30:00+00:00</td><td> 64</td><td>13</td></tr>\n",
       "\t<tr><td>JCd5f334 </td><td>131199507206</td><td>21510749</td><td>Vitals                  </td><td>SBP</td><td></td><td>2016-09-15 08:06:00+00:00</td><td>102</td><td>13</td></tr>\n",
       "\t<tr><td>JCdcd7ba </td><td>131250954752</td><td>30144377</td><td>Vitals                  </td><td>SBP</td><td></td><td>2018-05-22 16:17:00+00:00</td><td>167</td><td>13</td></tr>\n",
       "\t<tr><td>JCe64650 </td><td>131115252104</td><td>16646852</td><td>IIC VS                  </td><td>SBP</td><td></td><td>2015-08-14 21:35:00+00:00</td><td>116</td><td>13</td></tr>\n",
       "\t<tr><td>JCe64650 </td><td>131115252104</td><td>16646852</td><td>ICU VS                  </td><td>SBP</td><td></td><td>2015-08-14 21:30:00+00:00</td><td>116</td><td>13</td></tr>\n",
       "\t<tr><td>JCe5faab </td><td>131272707003</td><td>39379259</td><td>Vitals                  </td><td>SBP</td><td></td><td>2019-07-27 17:31:00+00:00</td><td> 64</td><td>13</td></tr>\n",
       "\t<tr><td>JCe755c5 </td><td>131248642790</td><td>29289155</td><td>Vitals                  </td><td>SBP</td><td></td><td>2018-03-10 23:40:00+00:00</td><td> 71</td><td>13</td></tr>\n",
       "\t<tr><td>JCdc7ba4 </td><td>131126157814</td><td>16978993</td><td>Vitals                  </td><td>SBP</td><td></td><td>2015-10-15 01:00:00+00:00</td><td>102</td><td>14</td></tr>\n",
       "\t<tr><td>JC2a064c9</td><td>131262833367</td><td>34051642</td><td>DATA VALIDATE           </td><td>SBP</td><td></td><td>2019-02-21 13:30:00+00:00</td><td>120</td><td>14</td></tr>\n",
       "\t<tr><td>JC2a192c4</td><td>131262132737</td><td>33812901</td><td>Vitals                  </td><td>SBP</td><td></td><td>2019-02-09 03:00:00+00:00</td><td>109</td><td>14</td></tr>\n",
       "\t<tr><td>JCd748cd </td><td>131210993637</td><td>22663885</td><td>Vitals                  </td><td>SBP</td><td></td><td>2017-01-13 03:00:00+00:00</td><td> 88</td><td>15</td></tr>\n",
       "\t<tr><td>JCeb13d7 </td><td>131243442959</td><td>27930076</td><td>DATA VALIDATE           </td><td>SBP</td><td></td><td>2018-01-30 02:30:00+00:00</td><td> 70</td><td>15</td></tr>\n",
       "\t<tr><td>JCd82779 </td><td>131116726278</td><td>16703576</td><td>Vitals                  </td><td>SBP</td><td></td><td>2015-08-24 16:17:15+00:00</td><td> 52</td><td>16</td></tr>\n",
       "\t<tr><td>JCe5faab </td><td>131272707003</td><td>39379259</td><td>Vitals                  </td><td>SBP</td><td></td><td>2019-07-27 17:00:00+00:00</td><td> 77</td><td>16</td></tr>\n",
       "\t<tr><td>JCcd049b </td><td>131254214529</td><td>31126619</td><td>ICU VS                  </td><td>SBP</td><td></td><td>2018-07-31 22:15:00+00:00</td><td> 66</td><td>16</td></tr>\n",
       "\t<tr><td>JCcc3257 </td><td>131182220877</td><td>19167354</td><td>Vitals                  </td><td>SBP</td><td></td><td>2016-02-29 17:10:00+00:00</td><td> 69</td><td>16</td></tr>\n",
       "\t<tr><td>JCdec27a </td><td>131265725767</td><td>35554944</td><td>ICU VS                  </td><td>SBP</td><td></td><td>2019-03-17 06:33:00+00:00</td><td> 97</td><td>17</td></tr>\n",
       "\t<tr><td>JCdea02d </td><td>131242313634</td><td>27623952</td><td>Vitals                  </td><td>SBP</td><td></td><td>2017-12-22 06:06:00+00:00</td><td> 79</td><td>17</td></tr>\n",
       "\t<tr><td>JC2a064c9</td><td>131262833367</td><td>34051642</td><td>DATA VALIDATE           </td><td>SBP</td><td></td><td>2019-02-21 13:24:00+00:00</td><td> 82</td><td>17</td></tr>\n",
       "\t<tr><td>JCd9202c </td><td>131257031258</td><td>32001758</td><td>Vitals                  </td><td>SBP</td><td></td><td>2018-10-03 20:50:00+00:00</td><td> 75</td><td>17</td></tr>\n",
       "\t<tr><td>JCe5faab </td><td>131272707003</td><td>39379259</td><td>Vitals                  </td><td>SBP</td><td></td><td>2019-07-27 17:45:00+00:00</td><td> 61</td><td>17</td></tr>\n",
       "\t<tr><td>JCe3b1cb </td><td>131264705446</td><td>34853386</td><td>Vitals                  </td><td>SBP</td><td></td><td>2019-03-21 17:25:00+00:00</td><td> 81</td><td>18</td></tr>\n",
       "\t<tr><td>JCe3b1cb </td><td>131264705446</td><td>34853386</td><td>Vitals                  </td><td>SBP</td><td></td><td>2019-03-21 17:26:00+00:00</td><td> 81</td><td>18</td></tr>\n",
       "\t<tr><td>JCcf0d95 </td><td>131281577356</td><td>44951981</td><td>Vitals                  </td><td>SBP</td><td></td><td>2020-01-17 20:47:00+00:00</td><td> 63</td><td>18</td></tr>\n",
       "\t<tr><td>JCd9202c </td><td>131257031258</td><td>32001758</td><td>Vitals                  </td><td>SBP</td><td></td><td>2018-10-03 21:10:00+00:00</td><td> 78</td><td>18</td></tr>\n",
       "\t<tr><td>JCd5fcb6 </td><td>131237940684</td><td>25991698</td><td>Vitals                  </td><td>SBP</td><td></td><td>2017-08-21 10:45:00+00:00</td><td> 60</td><td>19</td></tr>\n",
       "\t<tr><td>JCe5faab </td><td>131272707003</td><td>39379259</td><td>Vitals                  </td><td>SBP</td><td></td><td>2019-07-27 17:50:00+00:00</td><td> 55</td><td>19</td></tr>\n",
       "\t<tr><td>JCdc4b08 </td><td>131200518347</td><td>21632265</td><td>Vital Signs             </td><td>SBP</td><td></td><td>2016-11-04 04:30:00+00:00</td><td>100</td><td>19</td></tr>\n",
       "\t<tr><td>JCce30c5 </td><td>131094044521</td><td>16007362</td><td>Vitals                  </td><td>SBP</td><td></td><td>2015-07-23 06:15:00+00:00</td><td>113</td><td>19</td></tr>\n",
       "\t<tr><td>...</td><td>...</td><td>...</td><td>...</td><td>...</td><td>...</td><td>...</td><td>...</td><td>...</td></tr>\n",
       "\t<tr><td>JCd97e25 </td><td>131262198353</td><td>33835199</td><td>Vitals                  </td><td>SBP</td><td></td><td>2019-01-05 00:15:00+00:00</td><td> 49</td><td> 21</td></tr>\n",
       "\t<tr><td>JCd748cd </td><td>131210993637</td><td>22663885</td><td>DATA VALIDATE           </td><td>SBP</td><td></td><td>2017-01-13 06:47:00+00:00</td><td> 52</td><td> 21</td></tr>\n",
       "\t<tr><td>JCe4e0bd </td><td>131193719357</td><td>20836395</td><td>Vitals                  </td><td>SBP</td><td></td><td>2016-07-19 22:31:00+00:00</td><td>105</td><td> 21</td></tr>\n",
       "\t<tr><td>JCe64a61 </td><td>131260177612</td><td>33122223</td><td>Vitals                  </td><td>SBP</td><td></td><td>2018-11-08 15:12:00+00:00</td><td>136</td><td> 21</td></tr>\n",
       "\t<tr><td>JCd48ea6 </td><td>131268249360</td><td>37218454</td><td>Vitals                  </td><td>SBP</td><td></td><td>2019-06-04 02:00:00+00:00</td><td> 58</td><td> 21</td></tr>\n",
       "\t<tr><td>JCd99742 </td><td>131220797272</td><td>23733225</td><td>DATA VALIDATE           </td><td>SBP</td><td></td><td>2017-02-24 09:07:00+00:00</td><td> 54</td><td> 21</td></tr>\n",
       "\t<tr><td>JCe5faab </td><td>131272707003</td><td>39379259</td><td>Vitals                  </td><td>SBP</td><td></td><td>2019-07-27 16:55:00+00:00</td><td> 75</td><td> 21</td></tr>\n",
       "\t<tr><td>JCccc0fc </td><td>131071802201</td><td>14234192</td><td>Vitals                  </td><td>SBP</td><td></td><td>2015-01-31 02:12:00+00:00</td><td> 72</td><td> 21</td></tr>\n",
       "\t<tr><td>JCe9f937 </td><td>131082004008</td><td>14919483</td><td>DATA VALIDATE           </td><td>SBP</td><td></td><td>2015-03-24 06:15:00+00:00</td><td> 74</td><td> 21</td></tr>\n",
       "\t<tr><td>JCe3b1cb </td><td>131264705446</td><td>34853386</td><td>Vitals                  </td><td>SBP</td><td></td><td>2019-03-21 17:15:00+00:00</td><td> 85</td><td> 21</td></tr>\n",
       "\t<tr><td>JCd098c4 </td><td>131126316406</td><td>16999316</td><td>ICU VS                  </td><td>SBP</td><td></td><td>2015-09-23 05:40:00+00:00</td><td> 50</td><td> 21</td></tr>\n",
       "\t<tr><td>JCdeca4f </td><td>131189958414</td><td>20314102</td><td>Vitals                  </td><td>SBP</td><td></td><td>2016-07-14 01:57:00+00:00</td><td> 72</td><td> 22</td></tr>\n",
       "\t<tr><td>JCdd1d6d </td><td>131211872028</td><td>22765685</td><td>Vitals                  </td><td>SBP</td><td></td><td>2016-12-15 00:00:00+00:00</td><td>126</td><td> 22</td></tr>\n",
       "\t<tr><td>JCd9202c </td><td>131257031258</td><td>32001758</td><td>Vitals                  </td><td>SBP</td><td></td><td>2018-10-03 20:36:00+00:00</td><td> 92</td><td> 22</td></tr>\n",
       "\t<tr><td>JCe7a7fd </td><td>131267995227</td><td>37053433</td><td>Vitals                  </td><td>SBP</td><td></td><td>2019-06-18 10:20:00+00:00</td><td> 99</td><td> 22</td></tr>\n",
       "\t<tr><td>JCe51250 </td><td>131180426096</td><td>18900980</td><td>Vitals                  </td><td>SBP</td><td></td><td>2016-02-25 03:30:00+00:00</td><td> 74</td><td> 22</td></tr>\n",
       "\t<tr><td>JCcc3257 </td><td>131182220877</td><td>19167354</td><td>Vitals                  </td><td>SBP</td><td></td><td>2016-02-29 17:15:00+00:00</td><td> 69</td><td> 22</td></tr>\n",
       "\t<tr><td>JC2a178b6</td><td>131261117332</td><td>33456527</td><td>Hemodynamic Measurements</td><td>SBP</td><td></td><td>2018-12-23 20:12:02+00:00</td><td> 84</td><td> 22</td></tr>\n",
       "\t<tr><td>JCdd9450 </td><td>131261846327</td><td>33714756</td><td>Stroke                  </td><td>SBP</td><td></td><td>2019-01-04 19:55:00+00:00</td><td>100</td><td> 22</td></tr>\n",
       "\t<tr><td>JCde680b </td><td>131263588795</td><td>34321134</td><td>DATA VALIDATE           </td><td>SBP</td><td></td><td>2019-01-18 16:57:00+00:00</td><td> 57</td><td> 22</td></tr>\n",
       "\t<tr><td>JCe418a5 </td><td>131194351824</td><td>20923027</td><td>Vitals From Sheet       </td><td>SBP</td><td></td><td>2016-09-10 20:05:03+00:00</td><td> 56</td><td> 22</td></tr>\n",
       "\t<tr><td>JCdd9450 </td><td>131261846327</td><td>33714756</td><td>DATA VALIDATE           </td><td>SBP</td><td></td><td>2019-01-04 20:00:00+00:00</td><td>100</td><td> 22</td></tr>\n",
       "\t<tr><td>JCcb7bac </td><td>131254357098</td><td>31174723</td><td>Vitals                  </td><td>SBP</td><td></td><td>2018-06-22 16:35:00+00:00</td><td> 53</td><td> 23</td></tr>\n",
       "\t<tr><td>JCd7b8f8 </td><td>131216422092</td><td>23241356</td><td>DATA VALIDATE           </td><td>SBP</td><td></td><td>2017-02-14 17:43:00+00:00</td><td>173</td><td> 23</td></tr>\n",
       "\t<tr><td>JCdd2c00 </td><td>131251050809</td><td>30178686</td><td>Vitals                  </td><td>SBP</td><td></td><td>2018-06-01 20:30:00+00:00</td><td> 70</td><td> 23</td></tr>\n",
       "\t<tr><td>JCe5faab </td><td>131272707003</td><td>39379259</td><td>Vitals                  </td><td>SBP</td><td></td><td>2019-07-27 19:49:00+00:00</td><td>111</td><td> 23</td></tr>\n",
       "\t<tr><td>JCdbc5f0 </td><td>131275899749</td><td>41433354</td><td>Vitals                  </td><td>SBP</td><td></td><td>2019-09-26 15:15:00+00:00</td><td> 50</td><td> 23</td></tr>\n",
       "\t<tr><td>JCe7730f </td><td>131261471214</td><td>33586230</td><td>IIC VS                  </td><td>SBP</td><td></td><td>2019-01-24 19:39:00+00:00</td><td> 95</td><td> 23</td></tr>\n",
       "\t<tr><td>JCe1000c </td><td>131222502256</td><td>23818910</td><td>ICU VS                  </td><td>SBP</td><td></td><td>2017-02-23 20:25:00+00:00</td><td> 95</td><td> 23</td></tr>\n",
       "\t<tr><td>JCe57dcd </td><td>131088431836</td><td>15421484</td><td>Vitals                  </td><td>SBP</td><td></td><td>2015-04-21 17:52:00+00:00</td><td>100</td><td> 23</td></tr>\n",
       "\t<tr><td>JCe57462 </td><td>131200799133</td><td>21667205</td><td>Vitals                  </td><td>SBP</td><td></td><td>2016-10-19 23:21:00+00:00</td><td> 68</td><td> 23</td></tr>\n",
       "\t<tr><td>JCe06272 </td><td>131267033630</td><td>36422700</td><td>DATA VALIDATE           </td><td>SBP</td><td></td><td>2019-05-04 00:10:00+00:00</td><td>110</td><td> 24</td></tr>\n",
       "\t<tr><td>JCe65e02 </td><td>131248291497</td><td>29179065</td><td>DATA VALIDATE           </td><td>SBP</td><td></td><td>2018-03-31 00:33:00+00:00</td><td> 53</td><td> 24</td></tr>\n",
       "\t<tr><td>JCd40aa4 </td><td>131178765150</td><td>18643252</td><td>DATA VALIDATE           </td><td>SBP</td><td></td><td>2016-02-29 20:45:00+00:00</td><td> 33</td><td> 24</td></tr>\n",
       "\t<tr><td>JCe5faab </td><td>131282427664</td><td>45485716</td><td>Vitals                  </td><td>SBP</td><td></td><td>2020-02-07 21:00:00+00:00</td><td> 87</td><td> 24</td></tr>\n",
       "\t<tr><td>JCde3e6d </td><td>131101795142</td><td>16162580</td><td>Vitals                  </td><td>SBP</td><td></td><td>2015-07-21 02:21:00+00:00</td><td> 90</td><td> 24</td></tr>\n",
       "\t<tr><td>JCd712a9 </td><td>131253478094</td><td>30941646</td><td>Vitals                  </td><td>SBP</td><td></td><td>2018-07-24 17:02:00+00:00</td><td> 85</td><td> 24</td></tr>\n",
       "\t<tr><td>JCe9d42a </td><td>131173896397</td><td>18165848</td><td>Vitals                  </td><td>SBP</td><td></td><td>2016-01-30 23:00:00+00:00</td><td>147</td><td> 24</td></tr>\n",
       "\t<tr><td>JCd599de </td><td>131275467946</td><td>41149531</td><td>Blood Administration    </td><td>SBP</td><td></td><td>2019-10-09 00:30:00+00:00</td><td> 85</td><td> 24</td></tr>\n",
       "\t<tr><td>JCcc3257 </td><td>131182220877</td><td>19167354</td><td>Vitals                  </td><td>SBP</td><td></td><td>2016-02-29 17:30:00+00:00</td><td> 77</td><td> 24</td></tr>\n",
       "\t<tr><td>JCd40aa4 </td><td>131178765150</td><td>18643252</td><td>Vitals                  </td><td>SBP</td><td></td><td>2016-02-29 20:46:51+00:00</td><td> 33</td><td> 24</td></tr>\n",
       "\t<tr><td>JCd8a0dd </td><td>131243731863</td><td>28036232</td><td>Vitals                  </td><td>SBP</td><td></td><td>2017-12-24 05:34:00+00:00</td><td> 62</td><td> 24</td></tr>\n",
       "\t<tr><td>JCdf0150 </td><td>131240332752</td><td>26798216</td><td>DATA VALIDATE           </td><td>SBP</td><td></td><td>2017-10-09 20:18:00+00:00</td><td> 70</td><td> 24</td></tr>\n",
       "\t<tr><td>JCdfdbd3 </td><td>131199950782</td><td>21562670</td><td>Vitals                  </td><td>SBP</td><td></td><td>2016-09-20 00:00:00+00:00</td><td>106</td><td> 24</td></tr>\n",
       "\t<tr><td>JCd748cd </td><td>131210993637</td><td>22663885</td><td>Vitals                  </td><td>SBP</td><td></td><td>2017-01-12 23:00:00+00:00</td><td> 88</td><td> 24</td></tr>\n",
       "\t<tr><td>JCd551a6 </td><td>131120502091</td><td>16786326</td><td>Vitals                  </td><td>SBP</td><td></td><td>2015-09-18 13:12:00+00:00</td><td>116</td><td> 24</td></tr>\n",
       "\t<tr><td>JCe5faab </td><td>131272707003</td><td>39379259</td><td>Vitals                  </td><td>SBP</td><td></td><td>2019-07-27 18:00:00+00:00</td><td> 83</td><td> 24</td></tr>\n",
       "\t<tr><td>JCcfa120 </td><td>131248417368</td><td>29223405</td><td>Vitals                  </td><td>SBP</td><td></td><td>2018-04-15 02:03:00+00:00</td><td> 77</td><td> 24</td></tr>\n",
       "\t<tr><td>JC2a178b6</td><td>131261117332</td><td>33456527</td><td>Hemodynamic Measurements</td><td>SBP</td><td></td><td>2018-12-23 20:10:01+00:00</td><td> 82</td><td> 24</td></tr>\n",
       "\t<tr><td>JCd69280 </td><td>131240054789</td><td>26692703</td><td>Vitals                  </td><td>SBP</td><td></td><td>2017-11-06 05:34:00+00:00</td><td> 56</td><td> 24</td></tr>\n",
       "\t<tr><td>JCebcc2b </td><td>131236454585</td><td>25439394</td><td>Vitals                  </td><td>SBP</td><td></td><td>2017-07-07 21:00:00+00:00</td><td>107</td><td> 24</td></tr>\n",
       "\t<tr><td>JCd0f763 </td><td>131123674025</td><td>16888708</td><td>Vitals                  </td><td>SBP</td><td></td><td>2015-10-10 22:30:00+00:00</td><td> 97</td><td> 24</td></tr>\n",
       "\t<tr><td>JCd7df22 </td><td>131265439305</td><td>35363366</td><td>Vitals                  </td><td>SBP</td><td></td><td>2019-03-10 00:01:00+00:00</td><td>226</td><td>201</td></tr>\n",
       "\t<tr><td>JCd2fbc3 </td><td>131244834683</td><td>28330694</td><td>Vitals                  </td><td>SBP</td><td></td><td>2018-01-11 22:35:00+00:00</td><td>225</td><td>201</td></tr>\n",
       "\t<tr><td>JC2a2e58f</td><td>131263690047</td><td>34355450</td><td>Vitals                  </td><td>SBP</td><td></td><td>2019-02-19 02:30:00+00:00</td><td>228</td><td>204</td></tr>\n",
       "\t<tr><td>JCd281f6 </td><td>131110144151</td><td>16526495</td><td>ICU VS                  </td><td>SBP</td><td></td><td>2015-08-24 15:15:00+00:00</td><td>227</td><td>204</td></tr>\n",
       "\t<tr><td>JCcc3d2d </td><td>131272479378</td><td>39237210</td><td><span style=white-space:pre-wrap>ICU Intake &amp; Output     </span></td><td>SBP</td><td></td><td>2019-07-24 21:00:00+00:00</td><td>251</td><td>205</td></tr>\n",
       "\t<tr><td>JCe758b8 </td><td>131199722656</td><td>21534425</td><td>Vitals                  </td><td>SBP</td><td></td><td>2016-09-02 09:25:00+00:00</td><td>247</td><td>209</td></tr>\n",
       "\t<tr><td>JC2a214c0</td><td>131277369421</td><td>42400601</td><td>Vitals                  </td><td>SBP</td><td></td><td>2019-11-10 06:30:00+00:00</td><td>226</td><td>210</td></tr>\n",
       "\t<tr><td>JCe35082 </td><td>131122489382</td><td>16862016</td><td>Vitals                  </td><td>SBP</td><td></td><td>2015-09-15 17:55:00+00:00</td><td>240</td><td>213</td></tr>\n",
       "\t<tr><td>JCdcaaa2 </td><td>131238140662</td><td>26066298</td><td>ICU VS                  </td><td>SBP</td><td></td><td>2017-10-01 19:33:00+00:00</td><td>243</td><td>213</td></tr>\n",
       "\t<tr><td>JCdb470c </td><td>131251557169</td><td>30356851</td><td>Vitals                  </td><td>SBP</td><td></td><td>2018-06-15 22:55:00+00:00</td><td>231</td><td>213</td></tr>\n",
       "\t<tr><td>JCe617b1 </td><td>131231070046</td><td>24771140</td><td>DATA VALIDATE           </td><td>SBP</td><td></td><td>2017-05-12 00:40:00+00:00</td><td>238</td><td>215</td></tr>\n",
       "\t<tr><td>JCe4316d </td><td>131238040733</td><td>26028984</td><td>Vitals                  </td><td>SBP</td><td></td><td>2017-09-25 08:32:47+00:00</td><td>236</td><td>218</td></tr>\n",
       "\t<tr><td>JCe65e02 </td><td>131248291497</td><td>29179065</td><td>DATA VALIDATE           </td><td>SBP</td><td></td><td>2018-03-31 00:30:00+00:00</td><td>235</td><td>218</td></tr>\n",
       "\t<tr><td>JCe758b8 </td><td>131199722656</td><td>21534425</td><td>Vitals                  </td><td>SBP</td><td></td><td>2016-09-02 09:50:00+00:00</td><td>232</td><td>218</td></tr>\n",
       "\t<tr><td>JCd27c23 </td><td>131273351187</td><td>39791114</td><td>Vitals                  </td><td>SBP</td><td></td><td>2019-06-29 11:08:00+00:00</td><td>237</td><td>219</td></tr>\n",
       "\t<tr><td>JCdbfdf4 </td><td>131209660093</td><td>22508223</td><td>Vitals                  </td><td>SBP</td><td></td><td>2016-11-21 23:04:00+00:00</td><td>269</td><td>220</td></tr>\n",
       "\t<tr><td>JC2a2acbf</td><td>131276512110</td><td>41903253</td><td>Vitals                  </td><td>SBP</td><td></td><td>2019-08-28 01:22:00+00:00</td><td>239</td><td>222</td></tr>\n",
       "\t<tr><td>JC2a0dc94</td><td>131275609609</td><td>41241439</td><td>Vitals                  </td><td>SBP</td><td></td><td>2019-08-29 22:20:00+00:00</td><td>242</td><td>222</td></tr>\n",
       "\t<tr><td>JC2a2acbf</td><td>131276512110</td><td>41903253</td><td>ICU VS                  </td><td>SBP</td><td></td><td>2019-08-28 01:21:00+00:00</td><td>234</td><td>222</td></tr>\n",
       "\t<tr><td>JCdca596 </td><td>131190189475</td><td>20344100</td><td>ICU VS                  </td><td>SBP</td><td></td><td>2016-06-24 19:52:00+00:00</td><td>260</td><td>225</td></tr>\n",
       "\t<tr><td>JCe758b8 </td><td>131199722656</td><td>21534425</td><td>Vitals                  </td><td>SBP</td><td></td><td>2016-09-02 09:40:00+00:00</td><td>246</td><td>230</td></tr>\n",
       "\t<tr><td>JCd7df22 </td><td>131265439305</td><td>35363366</td><td>Vitals                  </td><td>SBP</td><td></td><td>2019-03-10 00:05:00+00:00</td><td>257</td><td>233</td></tr>\n",
       "\t<tr><td>JCd27c23 </td><td>131273351187</td><td>39791114</td><td>DATA VALIDATE           </td><td>SBP</td><td></td><td>2019-06-29 11:10:00+00:00</td><td>251</td><td>238</td></tr>\n",
       "</tbody>\n",
       "</table>\n"
      ],
      "text/latex": [
       "A data.frame: 157 × 9\n",
       "\\begin{tabular}{lllllllll}\n",
       " anon\\_id & pat\\_enc\\_csn\\_id\\_coded & inpatient\\_data\\_id\\_coded & template & features & units & recorded\\_time & num\\_value1 & num\\_value2\\\\\n",
       " <chr> & <dbl> & <int> & <chr> & <chr> & <chr> & <chr> & <dbl> & <dbl>\\\\\n",
       "\\hline\n",
       "\t JCd04de5  & 131068992117 & 14201240 & Vitals                   & SBP &  & 2015-03-01 01:18:00+00:00 &  60 &  0\\\\\n",
       "\t JCd04de5  & 131068992117 & 14201240 & Vitals                   & SBP &  & 2015-03-01 01:42:00+00:00 &  74 &  0\\\\\n",
       "\t JC2a1a193 & 131274427714 & 40485010 & Hemodynamic Measurements & SBP &  & 2019-08-24 20:31:04+00:00 &   0 &  0\\\\\n",
       "\t JCd4aff3  & 131268077771 & 37106042 & Vitals                   & SBP &  & 2019-05-10 16:30:00+00:00 &  80 &  0\\\\\n",
       "\t JCd04de5  & 131068992117 & 14201240 & Vitals                   & SBP &  & 2015-03-01 06:30:00+00:00 &  74 &  0\\\\\n",
       "\t JCdcddf3  & 131066249809 & 14065631 & IIC VS                   & SBP &  & 2015-01-26 11:00:00+00:00 &  80 &  0\\\\\n",
       "\t JCe9159a  & 131101395078 & 16149752 & Vitals                   & SBP &  & 2015-07-27 14:59:00+00:00 &  90 &  0\\\\\n",
       "\t JCd3b2e3  & 131106311493 & 16305407 & Vitals                   & SBP &  & 2015-07-16 04:58:29+00:00 & 110 &  0\\\\\n",
       "\t JCde680b  & 131263588795 & 34321134 & Vitals                   & SBP &  & 2019-01-18 16:47:00+00:00 &  64 &  0\\\\\n",
       "\t JCeab0af  & 131235150982 & 25114989 & Vitals                   & SBP &  & 2017-06-30 17:44:00+00:00 & 126 &  3\\\\\n",
       "\t JCe5c8bd  & 131261560579 & 33618434 & Vitals                   & SBP &  & 2018-12-04 19:50:00+00:00 &  49 &  3\\\\\n",
       "\t JCe71ce9  & 131270622687 & 38304722 & Vitals                   & SBP &  & 2019-06-17 04:32:00+00:00 & 137 &  3\\\\\n",
       "\t JCcc84fa  & 131247957696 & 29063296 & Vitals                   & SBP &  & 2018-02-25 01:00:00+00:00 & 142 &  4\\\\\n",
       "\t JCcdf8ea  & 131254610457 & 31265936 & Vitals                   & SBP &  & 2018-06-23 23:05:00+00:00 & 149 &  6\\\\\n",
       "\t JCd6d0b1  & 131083141509 & 15050940 & Vitals                   & SBP &  & 2015-05-15 00:55:00+00:00 & 107 &  6\\\\\n",
       "\t JCcf12f6  & 131247595479 & 28957840 & M/S VS                   & SBP &  & 2018-01-30 01:53:00+00:00 & 170 &  6\\\\\n",
       "\t JCd6683b  & 131179763687 & 18803230 & Vitals                   & SBP &  & 2016-03-14 00:00:00+00:00 & 151 &  6\\\\\n",
       "\t JCe39a3a  & 131136175396 & 17395477 & Vitals                   & SBP &  & 2015-10-18 01:10:00+00:00 & 121 &  6\\\\\n",
       "\t JCd39bc8  & 131240101160 & 26710083 & Vitals                   & SBP &  & 2017-09-30 01:15:00+00:00 & 145 &  6\\\\\n",
       "\t JCe9ca29  & 131283232202 & 45999455 & Vitals                   & SBP &  & 2020-03-03 18:51:00+00:00 & 158 &  7\\\\\n",
       "\t JCd27863  & 131115241974 & 16644586 & Vitals                   & SBP &  & 2015-08-27 22:53:00+00:00 & 125 &  7\\\\\n",
       "\t JCcf22bf  & 131203765780 & 21984351 & Vitals                   & SBP &  & 2016-10-31 18:10:00+00:00 & 122 &  7\\\\\n",
       "\t JCe1c581  & 131083288273 & 15067884 & Vitals                   & SBP &  & 2015-05-08 23:19:00+00:00 &  92 &  7\\\\\n",
       "\t JC2a0ea2f & 131261654158 & 33647540 & Vitals                   & SBP &  & 2019-01-10 19:30:00+00:00 & 133 &  8\\\\\n",
       "\t JCe8f38d  & 131199550837 & 21511436 & Vitals                   & SBP &  & 2016-08-27 18:35:00+00:00 & 117 &  8\\\\\n",
       "\t JCe36fcf  & 131152369571 & 17606842 & Vitals                   & SBP &  & 2015-12-11 12:25:00+00:00 & 166 &  8\\\\\n",
       "\t JCd945e1  & 131252367582 & 30658106 & Mod Sedation             & SBP &  & 2018-07-01 22:37:00+00:00 & 171 &  8\\\\\n",
       "\t JCcbab42  & 131266042558 & 35767736 & Vitals                   & SBP &  & 2019-05-07 23:48:00+00:00 & 134 &  9\\\\\n",
       "\t JCdc6867  & 131177443004 & 18452981 & Vitals                   & SBP &  & 2016-01-11 02:38:00+00:00 & 112 &  9\\\\\n",
       "\t JCe9f1e5  & 131262100457 & 33802608 & Vitals                   & SBP &  & 2019-01-06 23:11:00+00:00 & 215 & 10\\\\\n",
       "\t JCcc3257  & 131182220877 & 19167354 & Vitals                   & SBP &  & 2016-02-29 17:06:00+00:00 &  69 & 10\\\\\n",
       "\t JCe075ac  & 131214942456 & 23099573 & Vitals From Sheet        & SBP &  & 2016-12-31 23:50:00+00:00 & 147 & 10\\\\\n",
       "\t JCdf7ad7  & 131236570819 & 25468289 & Stroke                   & SBP &  & 2017-07-17 00:43:00+00:00 & 176 & 11\\\\\n",
       "\t JCe0be08  & 131228140930 & 24448436 & ICU VS                   & SBP &  & 2017-04-15 02:45:00+00:00 & 194 & 11\\\\\n",
       "\t JCcfbc9d  & 131274990700 & 40843176 & Vitals                   & SBP &  & 2019-09-09 07:29:00+00:00 & 154 & 11\\\\\n",
       "\t JCd945e1  & 131252367582 & 30658106 & Mod Sedation             & SBP &  & 2018-07-01 22:32:00+00:00 & 151 & 11\\\\\n",
       "\t JCe83d89  & 131239293809 & 26410031 & Vitals                   & SBP &  & 2017-09-06 19:08:00+00:00 & 147 & 11\\\\\n",
       "\t JCd7488a  & 131103610976 & 16189611 & Vitals                   & SBP &  & 2015-07-31 20:42:34+00:00 & 151 & 11\\\\\n",
       "\t JCdddbd7  & 131072408696 & 14309262 & Vitals                   & SBP &  & 2015-01-18 22:56:00+00:00 & 147 & 11\\\\\n",
       "\t JCd1232d  & 131257228811 & 32071589 & DATA VALIDATE            & SBP &  & 2018-08-26 01:11:00+00:00 & 157 & 12\\\\\n",
       "\t JCec0bc1  & 131250333042 & 29910085 & ICU VS                   & SBP &  & 2018-05-06 00:47:00+00:00 & 157 & 12\\\\\n",
       "\t JCd9dc5f  & 131251027157 & 30169334 & DATA VALIDATE            & SBP &  & 2018-04-16 00:42:00+00:00 &  94 & 12\\\\\n",
       "\t JCe1df14  & 131244026887 & 28146494 & ICU VS                   & SBP &  & 2018-02-11 10:00:00+00:00 & 225 & 12\\\\\n",
       "\t JCe8e33a  & 131066865777 & 14139429 & Vitals                   & SBP &  & 2015-01-04 05:18:00+00:00 & 168 & 12\\\\\n",
       "\t JCe14e5b  & 131273610467 & 39958051 & Vitals                   & SBP &  & 2019-09-02 05:15:00+00:00 &  51 & 13\\\\\n",
       "\t JCda2fe2  & 131259025143 & 32709155 & DATA VALIDATE            & SBP &  & 2018-09-27 16:48:00+00:00 &  35 & 13\\\\\n",
       "\t JCe5faab  & 131272707003 & 39379259 & Vitals                   & SBP &  & 2019-07-27 17:30:00+00:00 &  64 & 13\\\\\n",
       "\t JCd5f334  & 131199507206 & 21510749 & Vitals                   & SBP &  & 2016-09-15 08:06:00+00:00 & 102 & 13\\\\\n",
       "\t JCdcd7ba  & 131250954752 & 30144377 & Vitals                   & SBP &  & 2018-05-22 16:17:00+00:00 & 167 & 13\\\\\n",
       "\t JCe64650  & 131115252104 & 16646852 & IIC VS                   & SBP &  & 2015-08-14 21:35:00+00:00 & 116 & 13\\\\\n",
       "\t JCe64650  & 131115252104 & 16646852 & ICU VS                   & SBP &  & 2015-08-14 21:30:00+00:00 & 116 & 13\\\\\n",
       "\t JCe5faab  & 131272707003 & 39379259 & Vitals                   & SBP &  & 2019-07-27 17:31:00+00:00 &  64 & 13\\\\\n",
       "\t JCe755c5  & 131248642790 & 29289155 & Vitals                   & SBP &  & 2018-03-10 23:40:00+00:00 &  71 & 13\\\\\n",
       "\t JCdc7ba4  & 131126157814 & 16978993 & Vitals                   & SBP &  & 2015-10-15 01:00:00+00:00 & 102 & 14\\\\\n",
       "\t JC2a064c9 & 131262833367 & 34051642 & DATA VALIDATE            & SBP &  & 2019-02-21 13:30:00+00:00 & 120 & 14\\\\\n",
       "\t JC2a192c4 & 131262132737 & 33812901 & Vitals                   & SBP &  & 2019-02-09 03:00:00+00:00 & 109 & 14\\\\\n",
       "\t JCd748cd  & 131210993637 & 22663885 & Vitals                   & SBP &  & 2017-01-13 03:00:00+00:00 &  88 & 15\\\\\n",
       "\t JCeb13d7  & 131243442959 & 27930076 & DATA VALIDATE            & SBP &  & 2018-01-30 02:30:00+00:00 &  70 & 15\\\\\n",
       "\t JCd82779  & 131116726278 & 16703576 & Vitals                   & SBP &  & 2015-08-24 16:17:15+00:00 &  52 & 16\\\\\n",
       "\t JCe5faab  & 131272707003 & 39379259 & Vitals                   & SBP &  & 2019-07-27 17:00:00+00:00 &  77 & 16\\\\\n",
       "\t JCcd049b  & 131254214529 & 31126619 & ICU VS                   & SBP &  & 2018-07-31 22:15:00+00:00 &  66 & 16\\\\\n",
       "\t JCcc3257  & 131182220877 & 19167354 & Vitals                   & SBP &  & 2016-02-29 17:10:00+00:00 &  69 & 16\\\\\n",
       "\t JCdec27a  & 131265725767 & 35554944 & ICU VS                   & SBP &  & 2019-03-17 06:33:00+00:00 &  97 & 17\\\\\n",
       "\t JCdea02d  & 131242313634 & 27623952 & Vitals                   & SBP &  & 2017-12-22 06:06:00+00:00 &  79 & 17\\\\\n",
       "\t JC2a064c9 & 131262833367 & 34051642 & DATA VALIDATE            & SBP &  & 2019-02-21 13:24:00+00:00 &  82 & 17\\\\\n",
       "\t JCd9202c  & 131257031258 & 32001758 & Vitals                   & SBP &  & 2018-10-03 20:50:00+00:00 &  75 & 17\\\\\n",
       "\t JCe5faab  & 131272707003 & 39379259 & Vitals                   & SBP &  & 2019-07-27 17:45:00+00:00 &  61 & 17\\\\\n",
       "\t JCe3b1cb  & 131264705446 & 34853386 & Vitals                   & SBP &  & 2019-03-21 17:25:00+00:00 &  81 & 18\\\\\n",
       "\t JCe3b1cb  & 131264705446 & 34853386 & Vitals                   & SBP &  & 2019-03-21 17:26:00+00:00 &  81 & 18\\\\\n",
       "\t JCcf0d95  & 131281577356 & 44951981 & Vitals                   & SBP &  & 2020-01-17 20:47:00+00:00 &  63 & 18\\\\\n",
       "\t JCd9202c  & 131257031258 & 32001758 & Vitals                   & SBP &  & 2018-10-03 21:10:00+00:00 &  78 & 18\\\\\n",
       "\t JCd5fcb6  & 131237940684 & 25991698 & Vitals                   & SBP &  & 2017-08-21 10:45:00+00:00 &  60 & 19\\\\\n",
       "\t JCe5faab  & 131272707003 & 39379259 & Vitals                   & SBP &  & 2019-07-27 17:50:00+00:00 &  55 & 19\\\\\n",
       "\t JCdc4b08  & 131200518347 & 21632265 & Vital Signs              & SBP &  & 2016-11-04 04:30:00+00:00 & 100 & 19\\\\\n",
       "\t JCce30c5  & 131094044521 & 16007362 & Vitals                   & SBP &  & 2015-07-23 06:15:00+00:00 & 113 & 19\\\\\n",
       "\t ... & ... & ... & ... & ... & ... & ... & ... & ...\\\\\n",
       "\t JCd97e25  & 131262198353 & 33835199 & Vitals                   & SBP &  & 2019-01-05 00:15:00+00:00 &  49 &  21\\\\\n",
       "\t JCd748cd  & 131210993637 & 22663885 & DATA VALIDATE            & SBP &  & 2017-01-13 06:47:00+00:00 &  52 &  21\\\\\n",
       "\t JCe4e0bd  & 131193719357 & 20836395 & Vitals                   & SBP &  & 2016-07-19 22:31:00+00:00 & 105 &  21\\\\\n",
       "\t JCe64a61  & 131260177612 & 33122223 & Vitals                   & SBP &  & 2018-11-08 15:12:00+00:00 & 136 &  21\\\\\n",
       "\t JCd48ea6  & 131268249360 & 37218454 & Vitals                   & SBP &  & 2019-06-04 02:00:00+00:00 &  58 &  21\\\\\n",
       "\t JCd99742  & 131220797272 & 23733225 & DATA VALIDATE            & SBP &  & 2017-02-24 09:07:00+00:00 &  54 &  21\\\\\n",
       "\t JCe5faab  & 131272707003 & 39379259 & Vitals                   & SBP &  & 2019-07-27 16:55:00+00:00 &  75 &  21\\\\\n",
       "\t JCccc0fc  & 131071802201 & 14234192 & Vitals                   & SBP &  & 2015-01-31 02:12:00+00:00 &  72 &  21\\\\\n",
       "\t JCe9f937  & 131082004008 & 14919483 & DATA VALIDATE            & SBP &  & 2015-03-24 06:15:00+00:00 &  74 &  21\\\\\n",
       "\t JCe3b1cb  & 131264705446 & 34853386 & Vitals                   & SBP &  & 2019-03-21 17:15:00+00:00 &  85 &  21\\\\\n",
       "\t JCd098c4  & 131126316406 & 16999316 & ICU VS                   & SBP &  & 2015-09-23 05:40:00+00:00 &  50 &  21\\\\\n",
       "\t JCdeca4f  & 131189958414 & 20314102 & Vitals                   & SBP &  & 2016-07-14 01:57:00+00:00 &  72 &  22\\\\\n",
       "\t JCdd1d6d  & 131211872028 & 22765685 & Vitals                   & SBP &  & 2016-12-15 00:00:00+00:00 & 126 &  22\\\\\n",
       "\t JCd9202c  & 131257031258 & 32001758 & Vitals                   & SBP &  & 2018-10-03 20:36:00+00:00 &  92 &  22\\\\\n",
       "\t JCe7a7fd  & 131267995227 & 37053433 & Vitals                   & SBP &  & 2019-06-18 10:20:00+00:00 &  99 &  22\\\\\n",
       "\t JCe51250  & 131180426096 & 18900980 & Vitals                   & SBP &  & 2016-02-25 03:30:00+00:00 &  74 &  22\\\\\n",
       "\t JCcc3257  & 131182220877 & 19167354 & Vitals                   & SBP &  & 2016-02-29 17:15:00+00:00 &  69 &  22\\\\\n",
       "\t JC2a178b6 & 131261117332 & 33456527 & Hemodynamic Measurements & SBP &  & 2018-12-23 20:12:02+00:00 &  84 &  22\\\\\n",
       "\t JCdd9450  & 131261846327 & 33714756 & Stroke                   & SBP &  & 2019-01-04 19:55:00+00:00 & 100 &  22\\\\\n",
       "\t JCde680b  & 131263588795 & 34321134 & DATA VALIDATE            & SBP &  & 2019-01-18 16:57:00+00:00 &  57 &  22\\\\\n",
       "\t JCe418a5  & 131194351824 & 20923027 & Vitals From Sheet        & SBP &  & 2016-09-10 20:05:03+00:00 &  56 &  22\\\\\n",
       "\t JCdd9450  & 131261846327 & 33714756 & DATA VALIDATE            & SBP &  & 2019-01-04 20:00:00+00:00 & 100 &  22\\\\\n",
       "\t JCcb7bac  & 131254357098 & 31174723 & Vitals                   & SBP &  & 2018-06-22 16:35:00+00:00 &  53 &  23\\\\\n",
       "\t JCd7b8f8  & 131216422092 & 23241356 & DATA VALIDATE            & SBP &  & 2017-02-14 17:43:00+00:00 & 173 &  23\\\\\n",
       "\t JCdd2c00  & 131251050809 & 30178686 & Vitals                   & SBP &  & 2018-06-01 20:30:00+00:00 &  70 &  23\\\\\n",
       "\t JCe5faab  & 131272707003 & 39379259 & Vitals                   & SBP &  & 2019-07-27 19:49:00+00:00 & 111 &  23\\\\\n",
       "\t JCdbc5f0  & 131275899749 & 41433354 & Vitals                   & SBP &  & 2019-09-26 15:15:00+00:00 &  50 &  23\\\\\n",
       "\t JCe7730f  & 131261471214 & 33586230 & IIC VS                   & SBP &  & 2019-01-24 19:39:00+00:00 &  95 &  23\\\\\n",
       "\t JCe1000c  & 131222502256 & 23818910 & ICU VS                   & SBP &  & 2017-02-23 20:25:00+00:00 &  95 &  23\\\\\n",
       "\t JCe57dcd  & 131088431836 & 15421484 & Vitals                   & SBP &  & 2015-04-21 17:52:00+00:00 & 100 &  23\\\\\n",
       "\t JCe57462  & 131200799133 & 21667205 & Vitals                   & SBP &  & 2016-10-19 23:21:00+00:00 &  68 &  23\\\\\n",
       "\t JCe06272  & 131267033630 & 36422700 & DATA VALIDATE            & SBP &  & 2019-05-04 00:10:00+00:00 & 110 &  24\\\\\n",
       "\t JCe65e02  & 131248291497 & 29179065 & DATA VALIDATE            & SBP &  & 2018-03-31 00:33:00+00:00 &  53 &  24\\\\\n",
       "\t JCd40aa4  & 131178765150 & 18643252 & DATA VALIDATE            & SBP &  & 2016-02-29 20:45:00+00:00 &  33 &  24\\\\\n",
       "\t JCe5faab  & 131282427664 & 45485716 & Vitals                   & SBP &  & 2020-02-07 21:00:00+00:00 &  87 &  24\\\\\n",
       "\t JCde3e6d  & 131101795142 & 16162580 & Vitals                   & SBP &  & 2015-07-21 02:21:00+00:00 &  90 &  24\\\\\n",
       "\t JCd712a9  & 131253478094 & 30941646 & Vitals                   & SBP &  & 2018-07-24 17:02:00+00:00 &  85 &  24\\\\\n",
       "\t JCe9d42a  & 131173896397 & 18165848 & Vitals                   & SBP &  & 2016-01-30 23:00:00+00:00 & 147 &  24\\\\\n",
       "\t JCd599de  & 131275467946 & 41149531 & Blood Administration     & SBP &  & 2019-10-09 00:30:00+00:00 &  85 &  24\\\\\n",
       "\t JCcc3257  & 131182220877 & 19167354 & Vitals                   & SBP &  & 2016-02-29 17:30:00+00:00 &  77 &  24\\\\\n",
       "\t JCd40aa4  & 131178765150 & 18643252 & Vitals                   & SBP &  & 2016-02-29 20:46:51+00:00 &  33 &  24\\\\\n",
       "\t JCd8a0dd  & 131243731863 & 28036232 & Vitals                   & SBP &  & 2017-12-24 05:34:00+00:00 &  62 &  24\\\\\n",
       "\t JCdf0150  & 131240332752 & 26798216 & DATA VALIDATE            & SBP &  & 2017-10-09 20:18:00+00:00 &  70 &  24\\\\\n",
       "\t JCdfdbd3  & 131199950782 & 21562670 & Vitals                   & SBP &  & 2016-09-20 00:00:00+00:00 & 106 &  24\\\\\n",
       "\t JCd748cd  & 131210993637 & 22663885 & Vitals                   & SBP &  & 2017-01-12 23:00:00+00:00 &  88 &  24\\\\\n",
       "\t JCd551a6  & 131120502091 & 16786326 & Vitals                   & SBP &  & 2015-09-18 13:12:00+00:00 & 116 &  24\\\\\n",
       "\t JCe5faab  & 131272707003 & 39379259 & Vitals                   & SBP &  & 2019-07-27 18:00:00+00:00 &  83 &  24\\\\\n",
       "\t JCcfa120  & 131248417368 & 29223405 & Vitals                   & SBP &  & 2018-04-15 02:03:00+00:00 &  77 &  24\\\\\n",
       "\t JC2a178b6 & 131261117332 & 33456527 & Hemodynamic Measurements & SBP &  & 2018-12-23 20:10:01+00:00 &  82 &  24\\\\\n",
       "\t JCd69280  & 131240054789 & 26692703 & Vitals                   & SBP &  & 2017-11-06 05:34:00+00:00 &  56 &  24\\\\\n",
       "\t JCebcc2b  & 131236454585 & 25439394 & Vitals                   & SBP &  & 2017-07-07 21:00:00+00:00 & 107 &  24\\\\\n",
       "\t JCd0f763  & 131123674025 & 16888708 & Vitals                   & SBP &  & 2015-10-10 22:30:00+00:00 &  97 &  24\\\\\n",
       "\t JCd7df22  & 131265439305 & 35363366 & Vitals                   & SBP &  & 2019-03-10 00:01:00+00:00 & 226 & 201\\\\\n",
       "\t JCd2fbc3  & 131244834683 & 28330694 & Vitals                   & SBP &  & 2018-01-11 22:35:00+00:00 & 225 & 201\\\\\n",
       "\t JC2a2e58f & 131263690047 & 34355450 & Vitals                   & SBP &  & 2019-02-19 02:30:00+00:00 & 228 & 204\\\\\n",
       "\t JCd281f6  & 131110144151 & 16526495 & ICU VS                   & SBP &  & 2015-08-24 15:15:00+00:00 & 227 & 204\\\\\n",
       "\t JCcc3d2d  & 131272479378 & 39237210 & ICU Intake \\& Output      & SBP &  & 2019-07-24 21:00:00+00:00 & 251 & 205\\\\\n",
       "\t JCe758b8  & 131199722656 & 21534425 & Vitals                   & SBP &  & 2016-09-02 09:25:00+00:00 & 247 & 209\\\\\n",
       "\t JC2a214c0 & 131277369421 & 42400601 & Vitals                   & SBP &  & 2019-11-10 06:30:00+00:00 & 226 & 210\\\\\n",
       "\t JCe35082  & 131122489382 & 16862016 & Vitals                   & SBP &  & 2015-09-15 17:55:00+00:00 & 240 & 213\\\\\n",
       "\t JCdcaaa2  & 131238140662 & 26066298 & ICU VS                   & SBP &  & 2017-10-01 19:33:00+00:00 & 243 & 213\\\\\n",
       "\t JCdb470c  & 131251557169 & 30356851 & Vitals                   & SBP &  & 2018-06-15 22:55:00+00:00 & 231 & 213\\\\\n",
       "\t JCe617b1  & 131231070046 & 24771140 & DATA VALIDATE            & SBP &  & 2017-05-12 00:40:00+00:00 & 238 & 215\\\\\n",
       "\t JCe4316d  & 131238040733 & 26028984 & Vitals                   & SBP &  & 2017-09-25 08:32:47+00:00 & 236 & 218\\\\\n",
       "\t JCe65e02  & 131248291497 & 29179065 & DATA VALIDATE            & SBP &  & 2018-03-31 00:30:00+00:00 & 235 & 218\\\\\n",
       "\t JCe758b8  & 131199722656 & 21534425 & Vitals                   & SBP &  & 2016-09-02 09:50:00+00:00 & 232 & 218\\\\\n",
       "\t JCd27c23  & 131273351187 & 39791114 & Vitals                   & SBP &  & 2019-06-29 11:08:00+00:00 & 237 & 219\\\\\n",
       "\t JCdbfdf4  & 131209660093 & 22508223 & Vitals                   & SBP &  & 2016-11-21 23:04:00+00:00 & 269 & 220\\\\\n",
       "\t JC2a2acbf & 131276512110 & 41903253 & Vitals                   & SBP &  & 2019-08-28 01:22:00+00:00 & 239 & 222\\\\\n",
       "\t JC2a0dc94 & 131275609609 & 41241439 & Vitals                   & SBP &  & 2019-08-29 22:20:00+00:00 & 242 & 222\\\\\n",
       "\t JC2a2acbf & 131276512110 & 41903253 & ICU VS                   & SBP &  & 2019-08-28 01:21:00+00:00 & 234 & 222\\\\\n",
       "\t JCdca596  & 131190189475 & 20344100 & ICU VS                   & SBP &  & 2016-06-24 19:52:00+00:00 & 260 & 225\\\\\n",
       "\t JCe758b8  & 131199722656 & 21534425 & Vitals                   & SBP &  & 2016-09-02 09:40:00+00:00 & 246 & 230\\\\\n",
       "\t JCd7df22  & 131265439305 & 35363366 & Vitals                   & SBP &  & 2019-03-10 00:05:00+00:00 & 257 & 233\\\\\n",
       "\t JCd27c23  & 131273351187 & 39791114 & DATA VALIDATE            & SBP &  & 2019-06-29 11:10:00+00:00 & 251 & 238\\\\\n",
       "\\end{tabular}\n"
      ],
      "text/markdown": [
       "\n",
       "A data.frame: 157 × 9\n",
       "\n",
       "| anon_id &lt;chr&gt; | pat_enc_csn_id_coded &lt;dbl&gt; | inpatient_data_id_coded &lt;int&gt; | template &lt;chr&gt; | features &lt;chr&gt; | units &lt;chr&gt; | recorded_time &lt;chr&gt; | num_value1 &lt;dbl&gt; | num_value2 &lt;dbl&gt; |\n",
       "|---|---|---|---|---|---|---|---|---|\n",
       "| JCd04de5  | 131068992117 | 14201240 | Vitals                   | SBP | <!----> | 2015-03-01 01:18:00+00:00 |  60 |  0 |\n",
       "| JCd04de5  | 131068992117 | 14201240 | Vitals                   | SBP | <!----> | 2015-03-01 01:42:00+00:00 |  74 |  0 |\n",
       "| JC2a1a193 | 131274427714 | 40485010 | Hemodynamic Measurements | SBP | <!----> | 2019-08-24 20:31:04+00:00 |   0 |  0 |\n",
       "| JCd4aff3  | 131268077771 | 37106042 | Vitals                   | SBP | <!----> | 2019-05-10 16:30:00+00:00 |  80 |  0 |\n",
       "| JCd04de5  | 131068992117 | 14201240 | Vitals                   | SBP | <!----> | 2015-03-01 06:30:00+00:00 |  74 |  0 |\n",
       "| JCdcddf3  | 131066249809 | 14065631 | IIC VS                   | SBP | <!----> | 2015-01-26 11:00:00+00:00 |  80 |  0 |\n",
       "| JCe9159a  | 131101395078 | 16149752 | Vitals                   | SBP | <!----> | 2015-07-27 14:59:00+00:00 |  90 |  0 |\n",
       "| JCd3b2e3  | 131106311493 | 16305407 | Vitals                   | SBP | <!----> | 2015-07-16 04:58:29+00:00 | 110 |  0 |\n",
       "| JCde680b  | 131263588795 | 34321134 | Vitals                   | SBP | <!----> | 2019-01-18 16:47:00+00:00 |  64 |  0 |\n",
       "| JCeab0af  | 131235150982 | 25114989 | Vitals                   | SBP | <!----> | 2017-06-30 17:44:00+00:00 | 126 |  3 |\n",
       "| JCe5c8bd  | 131261560579 | 33618434 | Vitals                   | SBP | <!----> | 2018-12-04 19:50:00+00:00 |  49 |  3 |\n",
       "| JCe71ce9  | 131270622687 | 38304722 | Vitals                   | SBP | <!----> | 2019-06-17 04:32:00+00:00 | 137 |  3 |\n",
       "| JCcc84fa  | 131247957696 | 29063296 | Vitals                   | SBP | <!----> | 2018-02-25 01:00:00+00:00 | 142 |  4 |\n",
       "| JCcdf8ea  | 131254610457 | 31265936 | Vitals                   | SBP | <!----> | 2018-06-23 23:05:00+00:00 | 149 |  6 |\n",
       "| JCd6d0b1  | 131083141509 | 15050940 | Vitals                   | SBP | <!----> | 2015-05-15 00:55:00+00:00 | 107 |  6 |\n",
       "| JCcf12f6  | 131247595479 | 28957840 | M/S VS                   | SBP | <!----> | 2018-01-30 01:53:00+00:00 | 170 |  6 |\n",
       "| JCd6683b  | 131179763687 | 18803230 | Vitals                   | SBP | <!----> | 2016-03-14 00:00:00+00:00 | 151 |  6 |\n",
       "| JCe39a3a  | 131136175396 | 17395477 | Vitals                   | SBP | <!----> | 2015-10-18 01:10:00+00:00 | 121 |  6 |\n",
       "| JCd39bc8  | 131240101160 | 26710083 | Vitals                   | SBP | <!----> | 2017-09-30 01:15:00+00:00 | 145 |  6 |\n",
       "| JCe9ca29  | 131283232202 | 45999455 | Vitals                   | SBP | <!----> | 2020-03-03 18:51:00+00:00 | 158 |  7 |\n",
       "| JCd27863  | 131115241974 | 16644586 | Vitals                   | SBP | <!----> | 2015-08-27 22:53:00+00:00 | 125 |  7 |\n",
       "| JCcf22bf  | 131203765780 | 21984351 | Vitals                   | SBP | <!----> | 2016-10-31 18:10:00+00:00 | 122 |  7 |\n",
       "| JCe1c581  | 131083288273 | 15067884 | Vitals                   | SBP | <!----> | 2015-05-08 23:19:00+00:00 |  92 |  7 |\n",
       "| JC2a0ea2f | 131261654158 | 33647540 | Vitals                   | SBP | <!----> | 2019-01-10 19:30:00+00:00 | 133 |  8 |\n",
       "| JCe8f38d  | 131199550837 | 21511436 | Vitals                   | SBP | <!----> | 2016-08-27 18:35:00+00:00 | 117 |  8 |\n",
       "| JCe36fcf  | 131152369571 | 17606842 | Vitals                   | SBP | <!----> | 2015-12-11 12:25:00+00:00 | 166 |  8 |\n",
       "| JCd945e1  | 131252367582 | 30658106 | Mod Sedation             | SBP | <!----> | 2018-07-01 22:37:00+00:00 | 171 |  8 |\n",
       "| JCcbab42  | 131266042558 | 35767736 | Vitals                   | SBP | <!----> | 2019-05-07 23:48:00+00:00 | 134 |  9 |\n",
       "| JCdc6867  | 131177443004 | 18452981 | Vitals                   | SBP | <!----> | 2016-01-11 02:38:00+00:00 | 112 |  9 |\n",
       "| JCe9f1e5  | 131262100457 | 33802608 | Vitals                   | SBP | <!----> | 2019-01-06 23:11:00+00:00 | 215 | 10 |\n",
       "| JCcc3257  | 131182220877 | 19167354 | Vitals                   | SBP | <!----> | 2016-02-29 17:06:00+00:00 |  69 | 10 |\n",
       "| JCe075ac  | 131214942456 | 23099573 | Vitals From Sheet        | SBP | <!----> | 2016-12-31 23:50:00+00:00 | 147 | 10 |\n",
       "| JCdf7ad7  | 131236570819 | 25468289 | Stroke                   | SBP | <!----> | 2017-07-17 00:43:00+00:00 | 176 | 11 |\n",
       "| JCe0be08  | 131228140930 | 24448436 | ICU VS                   | SBP | <!----> | 2017-04-15 02:45:00+00:00 | 194 | 11 |\n",
       "| JCcfbc9d  | 131274990700 | 40843176 | Vitals                   | SBP | <!----> | 2019-09-09 07:29:00+00:00 | 154 | 11 |\n",
       "| JCd945e1  | 131252367582 | 30658106 | Mod Sedation             | SBP | <!----> | 2018-07-01 22:32:00+00:00 | 151 | 11 |\n",
       "| JCe83d89  | 131239293809 | 26410031 | Vitals                   | SBP | <!----> | 2017-09-06 19:08:00+00:00 | 147 | 11 |\n",
       "| JCd7488a  | 131103610976 | 16189611 | Vitals                   | SBP | <!----> | 2015-07-31 20:42:34+00:00 | 151 | 11 |\n",
       "| JCdddbd7  | 131072408696 | 14309262 | Vitals                   | SBP | <!----> | 2015-01-18 22:56:00+00:00 | 147 | 11 |\n",
       "| JCd1232d  | 131257228811 | 32071589 | DATA VALIDATE            | SBP | <!----> | 2018-08-26 01:11:00+00:00 | 157 | 12 |\n",
       "| JCec0bc1  | 131250333042 | 29910085 | ICU VS                   | SBP | <!----> | 2018-05-06 00:47:00+00:00 | 157 | 12 |\n",
       "| JCd9dc5f  | 131251027157 | 30169334 | DATA VALIDATE            | SBP | <!----> | 2018-04-16 00:42:00+00:00 |  94 | 12 |\n",
       "| JCe1df14  | 131244026887 | 28146494 | ICU VS                   | SBP | <!----> | 2018-02-11 10:00:00+00:00 | 225 | 12 |\n",
       "| JCe8e33a  | 131066865777 | 14139429 | Vitals                   | SBP | <!----> | 2015-01-04 05:18:00+00:00 | 168 | 12 |\n",
       "| JCe14e5b  | 131273610467 | 39958051 | Vitals                   | SBP | <!----> | 2019-09-02 05:15:00+00:00 |  51 | 13 |\n",
       "| JCda2fe2  | 131259025143 | 32709155 | DATA VALIDATE            | SBP | <!----> | 2018-09-27 16:48:00+00:00 |  35 | 13 |\n",
       "| JCe5faab  | 131272707003 | 39379259 | Vitals                   | SBP | <!----> | 2019-07-27 17:30:00+00:00 |  64 | 13 |\n",
       "| JCd5f334  | 131199507206 | 21510749 | Vitals                   | SBP | <!----> | 2016-09-15 08:06:00+00:00 | 102 | 13 |\n",
       "| JCdcd7ba  | 131250954752 | 30144377 | Vitals                   | SBP | <!----> | 2018-05-22 16:17:00+00:00 | 167 | 13 |\n",
       "| JCe64650  | 131115252104 | 16646852 | IIC VS                   | SBP | <!----> | 2015-08-14 21:35:00+00:00 | 116 | 13 |\n",
       "| JCe64650  | 131115252104 | 16646852 | ICU VS                   | SBP | <!----> | 2015-08-14 21:30:00+00:00 | 116 | 13 |\n",
       "| JCe5faab  | 131272707003 | 39379259 | Vitals                   | SBP | <!----> | 2019-07-27 17:31:00+00:00 |  64 | 13 |\n",
       "| JCe755c5  | 131248642790 | 29289155 | Vitals                   | SBP | <!----> | 2018-03-10 23:40:00+00:00 |  71 | 13 |\n",
       "| JCdc7ba4  | 131126157814 | 16978993 | Vitals                   | SBP | <!----> | 2015-10-15 01:00:00+00:00 | 102 | 14 |\n",
       "| JC2a064c9 | 131262833367 | 34051642 | DATA VALIDATE            | SBP | <!----> | 2019-02-21 13:30:00+00:00 | 120 | 14 |\n",
       "| JC2a192c4 | 131262132737 | 33812901 | Vitals                   | SBP | <!----> | 2019-02-09 03:00:00+00:00 | 109 | 14 |\n",
       "| JCd748cd  | 131210993637 | 22663885 | Vitals                   | SBP | <!----> | 2017-01-13 03:00:00+00:00 |  88 | 15 |\n",
       "| JCeb13d7  | 131243442959 | 27930076 | DATA VALIDATE            | SBP | <!----> | 2018-01-30 02:30:00+00:00 |  70 | 15 |\n",
       "| JCd82779  | 131116726278 | 16703576 | Vitals                   | SBP | <!----> | 2015-08-24 16:17:15+00:00 |  52 | 16 |\n",
       "| JCe5faab  | 131272707003 | 39379259 | Vitals                   | SBP | <!----> | 2019-07-27 17:00:00+00:00 |  77 | 16 |\n",
       "| JCcd049b  | 131254214529 | 31126619 | ICU VS                   | SBP | <!----> | 2018-07-31 22:15:00+00:00 |  66 | 16 |\n",
       "| JCcc3257  | 131182220877 | 19167354 | Vitals                   | SBP | <!----> | 2016-02-29 17:10:00+00:00 |  69 | 16 |\n",
       "| JCdec27a  | 131265725767 | 35554944 | ICU VS                   | SBP | <!----> | 2019-03-17 06:33:00+00:00 |  97 | 17 |\n",
       "| JCdea02d  | 131242313634 | 27623952 | Vitals                   | SBP | <!----> | 2017-12-22 06:06:00+00:00 |  79 | 17 |\n",
       "| JC2a064c9 | 131262833367 | 34051642 | DATA VALIDATE            | SBP | <!----> | 2019-02-21 13:24:00+00:00 |  82 | 17 |\n",
       "| JCd9202c  | 131257031258 | 32001758 | Vitals                   | SBP | <!----> | 2018-10-03 20:50:00+00:00 |  75 | 17 |\n",
       "| JCe5faab  | 131272707003 | 39379259 | Vitals                   | SBP | <!----> | 2019-07-27 17:45:00+00:00 |  61 | 17 |\n",
       "| JCe3b1cb  | 131264705446 | 34853386 | Vitals                   | SBP | <!----> | 2019-03-21 17:25:00+00:00 |  81 | 18 |\n",
       "| JCe3b1cb  | 131264705446 | 34853386 | Vitals                   | SBP | <!----> | 2019-03-21 17:26:00+00:00 |  81 | 18 |\n",
       "| JCcf0d95  | 131281577356 | 44951981 | Vitals                   | SBP | <!----> | 2020-01-17 20:47:00+00:00 |  63 | 18 |\n",
       "| JCd9202c  | 131257031258 | 32001758 | Vitals                   | SBP | <!----> | 2018-10-03 21:10:00+00:00 |  78 | 18 |\n",
       "| JCd5fcb6  | 131237940684 | 25991698 | Vitals                   | SBP | <!----> | 2017-08-21 10:45:00+00:00 |  60 | 19 |\n",
       "| JCe5faab  | 131272707003 | 39379259 | Vitals                   | SBP | <!----> | 2019-07-27 17:50:00+00:00 |  55 | 19 |\n",
       "| JCdc4b08  | 131200518347 | 21632265 | Vital Signs              | SBP | <!----> | 2016-11-04 04:30:00+00:00 | 100 | 19 |\n",
       "| JCce30c5  | 131094044521 | 16007362 | Vitals                   | SBP | <!----> | 2015-07-23 06:15:00+00:00 | 113 | 19 |\n",
       "| ... | ... | ... | ... | ... | ... | ... | ... | ... |\n",
       "| JCd97e25  | 131262198353 | 33835199 | Vitals                   | SBP | <!----> | 2019-01-05 00:15:00+00:00 |  49 |  21 |\n",
       "| JCd748cd  | 131210993637 | 22663885 | DATA VALIDATE            | SBP | <!----> | 2017-01-13 06:47:00+00:00 |  52 |  21 |\n",
       "| JCe4e0bd  | 131193719357 | 20836395 | Vitals                   | SBP | <!----> | 2016-07-19 22:31:00+00:00 | 105 |  21 |\n",
       "| JCe64a61  | 131260177612 | 33122223 | Vitals                   | SBP | <!----> | 2018-11-08 15:12:00+00:00 | 136 |  21 |\n",
       "| JCd48ea6  | 131268249360 | 37218454 | Vitals                   | SBP | <!----> | 2019-06-04 02:00:00+00:00 |  58 |  21 |\n",
       "| JCd99742  | 131220797272 | 23733225 | DATA VALIDATE            | SBP | <!----> | 2017-02-24 09:07:00+00:00 |  54 |  21 |\n",
       "| JCe5faab  | 131272707003 | 39379259 | Vitals                   | SBP | <!----> | 2019-07-27 16:55:00+00:00 |  75 |  21 |\n",
       "| JCccc0fc  | 131071802201 | 14234192 | Vitals                   | SBP | <!----> | 2015-01-31 02:12:00+00:00 |  72 |  21 |\n",
       "| JCe9f937  | 131082004008 | 14919483 | DATA VALIDATE            | SBP | <!----> | 2015-03-24 06:15:00+00:00 |  74 |  21 |\n",
       "| JCe3b1cb  | 131264705446 | 34853386 | Vitals                   | SBP | <!----> | 2019-03-21 17:15:00+00:00 |  85 |  21 |\n",
       "| JCd098c4  | 131126316406 | 16999316 | ICU VS                   | SBP | <!----> | 2015-09-23 05:40:00+00:00 |  50 |  21 |\n",
       "| JCdeca4f  | 131189958414 | 20314102 | Vitals                   | SBP | <!----> | 2016-07-14 01:57:00+00:00 |  72 |  22 |\n",
       "| JCdd1d6d  | 131211872028 | 22765685 | Vitals                   | SBP | <!----> | 2016-12-15 00:00:00+00:00 | 126 |  22 |\n",
       "| JCd9202c  | 131257031258 | 32001758 | Vitals                   | SBP | <!----> | 2018-10-03 20:36:00+00:00 |  92 |  22 |\n",
       "| JCe7a7fd  | 131267995227 | 37053433 | Vitals                   | SBP | <!----> | 2019-06-18 10:20:00+00:00 |  99 |  22 |\n",
       "| JCe51250  | 131180426096 | 18900980 | Vitals                   | SBP | <!----> | 2016-02-25 03:30:00+00:00 |  74 |  22 |\n",
       "| JCcc3257  | 131182220877 | 19167354 | Vitals                   | SBP | <!----> | 2016-02-29 17:15:00+00:00 |  69 |  22 |\n",
       "| JC2a178b6 | 131261117332 | 33456527 | Hemodynamic Measurements | SBP | <!----> | 2018-12-23 20:12:02+00:00 |  84 |  22 |\n",
       "| JCdd9450  | 131261846327 | 33714756 | Stroke                   | SBP | <!----> | 2019-01-04 19:55:00+00:00 | 100 |  22 |\n",
       "| JCde680b  | 131263588795 | 34321134 | DATA VALIDATE            | SBP | <!----> | 2019-01-18 16:57:00+00:00 |  57 |  22 |\n",
       "| JCe418a5  | 131194351824 | 20923027 | Vitals From Sheet        | SBP | <!----> | 2016-09-10 20:05:03+00:00 |  56 |  22 |\n",
       "| JCdd9450  | 131261846327 | 33714756 | DATA VALIDATE            | SBP | <!----> | 2019-01-04 20:00:00+00:00 | 100 |  22 |\n",
       "| JCcb7bac  | 131254357098 | 31174723 | Vitals                   | SBP | <!----> | 2018-06-22 16:35:00+00:00 |  53 |  23 |\n",
       "| JCd7b8f8  | 131216422092 | 23241356 | DATA VALIDATE            | SBP | <!----> | 2017-02-14 17:43:00+00:00 | 173 |  23 |\n",
       "| JCdd2c00  | 131251050809 | 30178686 | Vitals                   | SBP | <!----> | 2018-06-01 20:30:00+00:00 |  70 |  23 |\n",
       "| JCe5faab  | 131272707003 | 39379259 | Vitals                   | SBP | <!----> | 2019-07-27 19:49:00+00:00 | 111 |  23 |\n",
       "| JCdbc5f0  | 131275899749 | 41433354 | Vitals                   | SBP | <!----> | 2019-09-26 15:15:00+00:00 |  50 |  23 |\n",
       "| JCe7730f  | 131261471214 | 33586230 | IIC VS                   | SBP | <!----> | 2019-01-24 19:39:00+00:00 |  95 |  23 |\n",
       "| JCe1000c  | 131222502256 | 23818910 | ICU VS                   | SBP | <!----> | 2017-02-23 20:25:00+00:00 |  95 |  23 |\n",
       "| JCe57dcd  | 131088431836 | 15421484 | Vitals                   | SBP | <!----> | 2015-04-21 17:52:00+00:00 | 100 |  23 |\n",
       "| JCe57462  | 131200799133 | 21667205 | Vitals                   | SBP | <!----> | 2016-10-19 23:21:00+00:00 |  68 |  23 |\n",
       "| JCe06272  | 131267033630 | 36422700 | DATA VALIDATE            | SBP | <!----> | 2019-05-04 00:10:00+00:00 | 110 |  24 |\n",
       "| JCe65e02  | 131248291497 | 29179065 | DATA VALIDATE            | SBP | <!----> | 2018-03-31 00:33:00+00:00 |  53 |  24 |\n",
       "| JCd40aa4  | 131178765150 | 18643252 | DATA VALIDATE            | SBP | <!----> | 2016-02-29 20:45:00+00:00 |  33 |  24 |\n",
       "| JCe5faab  | 131282427664 | 45485716 | Vitals                   | SBP | <!----> | 2020-02-07 21:00:00+00:00 |  87 |  24 |\n",
       "| JCde3e6d  | 131101795142 | 16162580 | Vitals                   | SBP | <!----> | 2015-07-21 02:21:00+00:00 |  90 |  24 |\n",
       "| JCd712a9  | 131253478094 | 30941646 | Vitals                   | SBP | <!----> | 2018-07-24 17:02:00+00:00 |  85 |  24 |\n",
       "| JCe9d42a  | 131173896397 | 18165848 | Vitals                   | SBP | <!----> | 2016-01-30 23:00:00+00:00 | 147 |  24 |\n",
       "| JCd599de  | 131275467946 | 41149531 | Blood Administration     | SBP | <!----> | 2019-10-09 00:30:00+00:00 |  85 |  24 |\n",
       "| JCcc3257  | 131182220877 | 19167354 | Vitals                   | SBP | <!----> | 2016-02-29 17:30:00+00:00 |  77 |  24 |\n",
       "| JCd40aa4  | 131178765150 | 18643252 | Vitals                   | SBP | <!----> | 2016-02-29 20:46:51+00:00 |  33 |  24 |\n",
       "| JCd8a0dd  | 131243731863 | 28036232 | Vitals                   | SBP | <!----> | 2017-12-24 05:34:00+00:00 |  62 |  24 |\n",
       "| JCdf0150  | 131240332752 | 26798216 | DATA VALIDATE            | SBP | <!----> | 2017-10-09 20:18:00+00:00 |  70 |  24 |\n",
       "| JCdfdbd3  | 131199950782 | 21562670 | Vitals                   | SBP | <!----> | 2016-09-20 00:00:00+00:00 | 106 |  24 |\n",
       "| JCd748cd  | 131210993637 | 22663885 | Vitals                   | SBP | <!----> | 2017-01-12 23:00:00+00:00 |  88 |  24 |\n",
       "| JCd551a6  | 131120502091 | 16786326 | Vitals                   | SBP | <!----> | 2015-09-18 13:12:00+00:00 | 116 |  24 |\n",
       "| JCe5faab  | 131272707003 | 39379259 | Vitals                   | SBP | <!----> | 2019-07-27 18:00:00+00:00 |  83 |  24 |\n",
       "| JCcfa120  | 131248417368 | 29223405 | Vitals                   | SBP | <!----> | 2018-04-15 02:03:00+00:00 |  77 |  24 |\n",
       "| JC2a178b6 | 131261117332 | 33456527 | Hemodynamic Measurements | SBP | <!----> | 2018-12-23 20:10:01+00:00 |  82 |  24 |\n",
       "| JCd69280  | 131240054789 | 26692703 | Vitals                   | SBP | <!----> | 2017-11-06 05:34:00+00:00 |  56 |  24 |\n",
       "| JCebcc2b  | 131236454585 | 25439394 | Vitals                   | SBP | <!----> | 2017-07-07 21:00:00+00:00 | 107 |  24 |\n",
       "| JCd0f763  | 131123674025 | 16888708 | Vitals                   | SBP | <!----> | 2015-10-10 22:30:00+00:00 |  97 |  24 |\n",
       "| JCd7df22  | 131265439305 | 35363366 | Vitals                   | SBP | <!----> | 2019-03-10 00:01:00+00:00 | 226 | 201 |\n",
       "| JCd2fbc3  | 131244834683 | 28330694 | Vitals                   | SBP | <!----> | 2018-01-11 22:35:00+00:00 | 225 | 201 |\n",
       "| JC2a2e58f | 131263690047 | 34355450 | Vitals                   | SBP | <!----> | 2019-02-19 02:30:00+00:00 | 228 | 204 |\n",
       "| JCd281f6  | 131110144151 | 16526495 | ICU VS                   | SBP | <!----> | 2015-08-24 15:15:00+00:00 | 227 | 204 |\n",
       "| JCcc3d2d  | 131272479378 | 39237210 | ICU Intake &amp; Output      | SBP | <!----> | 2019-07-24 21:00:00+00:00 | 251 | 205 |\n",
       "| JCe758b8  | 131199722656 | 21534425 | Vitals                   | SBP | <!----> | 2016-09-02 09:25:00+00:00 | 247 | 209 |\n",
       "| JC2a214c0 | 131277369421 | 42400601 | Vitals                   | SBP | <!----> | 2019-11-10 06:30:00+00:00 | 226 | 210 |\n",
       "| JCe35082  | 131122489382 | 16862016 | Vitals                   | SBP | <!----> | 2015-09-15 17:55:00+00:00 | 240 | 213 |\n",
       "| JCdcaaa2  | 131238140662 | 26066298 | ICU VS                   | SBP | <!----> | 2017-10-01 19:33:00+00:00 | 243 | 213 |\n",
       "| JCdb470c  | 131251557169 | 30356851 | Vitals                   | SBP | <!----> | 2018-06-15 22:55:00+00:00 | 231 | 213 |\n",
       "| JCe617b1  | 131231070046 | 24771140 | DATA VALIDATE            | SBP | <!----> | 2017-05-12 00:40:00+00:00 | 238 | 215 |\n",
       "| JCe4316d  | 131238040733 | 26028984 | Vitals                   | SBP | <!----> | 2017-09-25 08:32:47+00:00 | 236 | 218 |\n",
       "| JCe65e02  | 131248291497 | 29179065 | DATA VALIDATE            | SBP | <!----> | 2018-03-31 00:30:00+00:00 | 235 | 218 |\n",
       "| JCe758b8  | 131199722656 | 21534425 | Vitals                   | SBP | <!----> | 2016-09-02 09:50:00+00:00 | 232 | 218 |\n",
       "| JCd27c23  | 131273351187 | 39791114 | Vitals                   | SBP | <!----> | 2019-06-29 11:08:00+00:00 | 237 | 219 |\n",
       "| JCdbfdf4  | 131209660093 | 22508223 | Vitals                   | SBP | <!----> | 2016-11-21 23:04:00+00:00 | 269 | 220 |\n",
       "| JC2a2acbf | 131276512110 | 41903253 | Vitals                   | SBP | <!----> | 2019-08-28 01:22:00+00:00 | 239 | 222 |\n",
       "| JC2a0dc94 | 131275609609 | 41241439 | Vitals                   | SBP | <!----> | 2019-08-29 22:20:00+00:00 | 242 | 222 |\n",
       "| JC2a2acbf | 131276512110 | 41903253 | ICU VS                   | SBP | <!----> | 2019-08-28 01:21:00+00:00 | 234 | 222 |\n",
       "| JCdca596  | 131190189475 | 20344100 | ICU VS                   | SBP | <!----> | 2016-06-24 19:52:00+00:00 | 260 | 225 |\n",
       "| JCe758b8  | 131199722656 | 21534425 | Vitals                   | SBP | <!----> | 2016-09-02 09:40:00+00:00 | 246 | 230 |\n",
       "| JCd7df22  | 131265439305 | 35363366 | Vitals                   | SBP | <!----> | 2019-03-10 00:05:00+00:00 | 257 | 233 |\n",
       "| JCd27c23  | 131273351187 | 39791114 | DATA VALIDATE            | SBP | <!----> | 2019-06-29 11:10:00+00:00 | 251 | 238 |\n",
       "\n"
      ],
      "text/plain": [
       "    anon_id   pat_enc_csn_id_coded inpatient_data_id_coded\n",
       "1   JCd04de5  131068992117         14201240               \n",
       "2   JCd04de5  131068992117         14201240               \n",
       "3   JC2a1a193 131274427714         40485010               \n",
       "4   JCd4aff3  131268077771         37106042               \n",
       "5   JCd04de5  131068992117         14201240               \n",
       "6   JCdcddf3  131066249809         14065631               \n",
       "7   JCe9159a  131101395078         16149752               \n",
       "8   JCd3b2e3  131106311493         16305407               \n",
       "9   JCde680b  131263588795         34321134               \n",
       "10  JCeab0af  131235150982         25114989               \n",
       "11  JCe5c8bd  131261560579         33618434               \n",
       "12  JCe71ce9  131270622687         38304722               \n",
       "13  JCcc84fa  131247957696         29063296               \n",
       "14  JCcdf8ea  131254610457         31265936               \n",
       "15  JCd6d0b1  131083141509         15050940               \n",
       "16  JCcf12f6  131247595479         28957840               \n",
       "17  JCd6683b  131179763687         18803230               \n",
       "18  JCe39a3a  131136175396         17395477               \n",
       "19  JCd39bc8  131240101160         26710083               \n",
       "20  JCe9ca29  131283232202         45999455               \n",
       "21  JCd27863  131115241974         16644586               \n",
       "22  JCcf22bf  131203765780         21984351               \n",
       "23  JCe1c581  131083288273         15067884               \n",
       "24  JC2a0ea2f 131261654158         33647540               \n",
       "25  JCe8f38d  131199550837         21511436               \n",
       "26  JCe36fcf  131152369571         17606842               \n",
       "27  JCd945e1  131252367582         30658106               \n",
       "28  JCcbab42  131266042558         35767736               \n",
       "29  JCdc6867  131177443004         18452981               \n",
       "30  JCe9f1e5  131262100457         33802608               \n",
       "31  JCcc3257  131182220877         19167354               \n",
       "32  JCe075ac  131214942456         23099573               \n",
       "33  JCdf7ad7  131236570819         25468289               \n",
       "34  JCe0be08  131228140930         24448436               \n",
       "35  JCcfbc9d  131274990700         40843176               \n",
       "36  JCd945e1  131252367582         30658106               \n",
       "37  JCe83d89  131239293809         26410031               \n",
       "38  JCd7488a  131103610976         16189611               \n",
       "39  JCdddbd7  131072408696         14309262               \n",
       "40  JCd1232d  131257228811         32071589               \n",
       "41  JCec0bc1  131250333042         29910085               \n",
       "42  JCd9dc5f  131251027157         30169334               \n",
       "43  JCe1df14  131244026887         28146494               \n",
       "44  JCe8e33a  131066865777         14139429               \n",
       "45  JCe14e5b  131273610467         39958051               \n",
       "46  JCda2fe2  131259025143         32709155               \n",
       "47  JCe5faab  131272707003         39379259               \n",
       "48  JCd5f334  131199507206         21510749               \n",
       "49  JCdcd7ba  131250954752         30144377               \n",
       "50  JCe64650  131115252104         16646852               \n",
       "51  JCe64650  131115252104         16646852               \n",
       "52  JCe5faab  131272707003         39379259               \n",
       "53  JCe755c5  131248642790         29289155               \n",
       "54  JCdc7ba4  131126157814         16978993               \n",
       "55  JC2a064c9 131262833367         34051642               \n",
       "56  JC2a192c4 131262132737         33812901               \n",
       "57  JCd748cd  131210993637         22663885               \n",
       "58  JCeb13d7  131243442959         27930076               \n",
       "59  JCd82779  131116726278         16703576               \n",
       "60  JCe5faab  131272707003         39379259               \n",
       "61  JCcd049b  131254214529         31126619               \n",
       "62  JCcc3257  131182220877         19167354               \n",
       "63  JCdec27a  131265725767         35554944               \n",
       "64  JCdea02d  131242313634         27623952               \n",
       "65  JC2a064c9 131262833367         34051642               \n",
       "66  JCd9202c  131257031258         32001758               \n",
       "67  JCe5faab  131272707003         39379259               \n",
       "68  JCe3b1cb  131264705446         34853386               \n",
       "69  JCe3b1cb  131264705446         34853386               \n",
       "70  JCcf0d95  131281577356         44951981               \n",
       "71  JCd9202c  131257031258         32001758               \n",
       "72  JCd5fcb6  131237940684         25991698               \n",
       "73  JCe5faab  131272707003         39379259               \n",
       "74  JCdc4b08  131200518347         21632265               \n",
       "75  JCce30c5  131094044521         16007362               \n",
       "... ...       ...                  ...                    \n",
       "83  JCd97e25  131262198353         33835199               \n",
       "84  JCd748cd  131210993637         22663885               \n",
       "85  JCe4e0bd  131193719357         20836395               \n",
       "86  JCe64a61  131260177612         33122223               \n",
       "87  JCd48ea6  131268249360         37218454               \n",
       "88  JCd99742  131220797272         23733225               \n",
       "89  JCe5faab  131272707003         39379259               \n",
       "90  JCccc0fc  131071802201         14234192               \n",
       "91  JCe9f937  131082004008         14919483               \n",
       "92  JCe3b1cb  131264705446         34853386               \n",
       "93  JCd098c4  131126316406         16999316               \n",
       "94  JCdeca4f  131189958414         20314102               \n",
       "95  JCdd1d6d  131211872028         22765685               \n",
       "96  JCd9202c  131257031258         32001758               \n",
       "97  JCe7a7fd  131267995227         37053433               \n",
       "98  JCe51250  131180426096         18900980               \n",
       "99  JCcc3257  131182220877         19167354               \n",
       "100 JC2a178b6 131261117332         33456527               \n",
       "101 JCdd9450  131261846327         33714756               \n",
       "102 JCde680b  131263588795         34321134               \n",
       "103 JCe418a5  131194351824         20923027               \n",
       "104 JCdd9450  131261846327         33714756               \n",
       "105 JCcb7bac  131254357098         31174723               \n",
       "106 JCd7b8f8  131216422092         23241356               \n",
       "107 JCdd2c00  131251050809         30178686               \n",
       "108 JCe5faab  131272707003         39379259               \n",
       "109 JCdbc5f0  131275899749         41433354               \n",
       "110 JCe7730f  131261471214         33586230               \n",
       "111 JCe1000c  131222502256         23818910               \n",
       "112 JCe57dcd  131088431836         15421484               \n",
       "113 JCe57462  131200799133         21667205               \n",
       "114 JCe06272  131267033630         36422700               \n",
       "115 JCe65e02  131248291497         29179065               \n",
       "116 JCd40aa4  131178765150         18643252               \n",
       "117 JCe5faab  131282427664         45485716               \n",
       "118 JCde3e6d  131101795142         16162580               \n",
       "119 JCd712a9  131253478094         30941646               \n",
       "120 JCe9d42a  131173896397         18165848               \n",
       "121 JCd599de  131275467946         41149531               \n",
       "122 JCcc3257  131182220877         19167354               \n",
       "123 JCd40aa4  131178765150         18643252               \n",
       "124 JCd8a0dd  131243731863         28036232               \n",
       "125 JCdf0150  131240332752         26798216               \n",
       "126 JCdfdbd3  131199950782         21562670               \n",
       "127 JCd748cd  131210993637         22663885               \n",
       "128 JCd551a6  131120502091         16786326               \n",
       "129 JCe5faab  131272707003         39379259               \n",
       "130 JCcfa120  131248417368         29223405               \n",
       "131 JC2a178b6 131261117332         33456527               \n",
       "132 JCd69280  131240054789         26692703               \n",
       "133 JCebcc2b  131236454585         25439394               \n",
       "134 JCd0f763  131123674025         16888708               \n",
       "135 JCd7df22  131265439305         35363366               \n",
       "136 JCd2fbc3  131244834683         28330694               \n",
       "137 JC2a2e58f 131263690047         34355450               \n",
       "138 JCd281f6  131110144151         16526495               \n",
       "139 JCcc3d2d  131272479378         39237210               \n",
       "140 JCe758b8  131199722656         21534425               \n",
       "141 JC2a214c0 131277369421         42400601               \n",
       "142 JCe35082  131122489382         16862016               \n",
       "143 JCdcaaa2  131238140662         26066298               \n",
       "144 JCdb470c  131251557169         30356851               \n",
       "145 JCe617b1  131231070046         24771140               \n",
       "146 JCe4316d  131238040733         26028984               \n",
       "147 JCe65e02  131248291497         29179065               \n",
       "148 JCe758b8  131199722656         21534425               \n",
       "149 JCd27c23  131273351187         39791114               \n",
       "150 JCdbfdf4  131209660093         22508223               \n",
       "151 JC2a2acbf 131276512110         41903253               \n",
       "152 JC2a0dc94 131275609609         41241439               \n",
       "153 JC2a2acbf 131276512110         41903253               \n",
       "154 JCdca596  131190189475         20344100               \n",
       "155 JCe758b8  131199722656         21534425               \n",
       "156 JCd7df22  131265439305         35363366               \n",
       "157 JCd27c23  131273351187         39791114               \n",
       "    template                 features units recorded_time            \n",
       "1   Vitals                   SBP            2015-03-01 01:18:00+00:00\n",
       "2   Vitals                   SBP            2015-03-01 01:42:00+00:00\n",
       "3   Hemodynamic Measurements SBP            2019-08-24 20:31:04+00:00\n",
       "4   Vitals                   SBP            2019-05-10 16:30:00+00:00\n",
       "5   Vitals                   SBP            2015-03-01 06:30:00+00:00\n",
       "6   IIC VS                   SBP            2015-01-26 11:00:00+00:00\n",
       "7   Vitals                   SBP            2015-07-27 14:59:00+00:00\n",
       "8   Vitals                   SBP            2015-07-16 04:58:29+00:00\n",
       "9   Vitals                   SBP            2019-01-18 16:47:00+00:00\n",
       "10  Vitals                   SBP            2017-06-30 17:44:00+00:00\n",
       "11  Vitals                   SBP            2018-12-04 19:50:00+00:00\n",
       "12  Vitals                   SBP            2019-06-17 04:32:00+00:00\n",
       "13  Vitals                   SBP            2018-02-25 01:00:00+00:00\n",
       "14  Vitals                   SBP            2018-06-23 23:05:00+00:00\n",
       "15  Vitals                   SBP            2015-05-15 00:55:00+00:00\n",
       "16  M/S VS                   SBP            2018-01-30 01:53:00+00:00\n",
       "17  Vitals                   SBP            2016-03-14 00:00:00+00:00\n",
       "18  Vitals                   SBP            2015-10-18 01:10:00+00:00\n",
       "19  Vitals                   SBP            2017-09-30 01:15:00+00:00\n",
       "20  Vitals                   SBP            2020-03-03 18:51:00+00:00\n",
       "21  Vitals                   SBP            2015-08-27 22:53:00+00:00\n",
       "22  Vitals                   SBP            2016-10-31 18:10:00+00:00\n",
       "23  Vitals                   SBP            2015-05-08 23:19:00+00:00\n",
       "24  Vitals                   SBP            2019-01-10 19:30:00+00:00\n",
       "25  Vitals                   SBP            2016-08-27 18:35:00+00:00\n",
       "26  Vitals                   SBP            2015-12-11 12:25:00+00:00\n",
       "27  Mod Sedation             SBP            2018-07-01 22:37:00+00:00\n",
       "28  Vitals                   SBP            2019-05-07 23:48:00+00:00\n",
       "29  Vitals                   SBP            2016-01-11 02:38:00+00:00\n",
       "30  Vitals                   SBP            2019-01-06 23:11:00+00:00\n",
       "31  Vitals                   SBP            2016-02-29 17:06:00+00:00\n",
       "32  Vitals From Sheet        SBP            2016-12-31 23:50:00+00:00\n",
       "33  Stroke                   SBP            2017-07-17 00:43:00+00:00\n",
       "34  ICU VS                   SBP            2017-04-15 02:45:00+00:00\n",
       "35  Vitals                   SBP            2019-09-09 07:29:00+00:00\n",
       "36  Mod Sedation             SBP            2018-07-01 22:32:00+00:00\n",
       "37  Vitals                   SBP            2017-09-06 19:08:00+00:00\n",
       "38  Vitals                   SBP            2015-07-31 20:42:34+00:00\n",
       "39  Vitals                   SBP            2015-01-18 22:56:00+00:00\n",
       "40  DATA VALIDATE            SBP            2018-08-26 01:11:00+00:00\n",
       "41  ICU VS                   SBP            2018-05-06 00:47:00+00:00\n",
       "42  DATA VALIDATE            SBP            2018-04-16 00:42:00+00:00\n",
       "43  ICU VS                   SBP            2018-02-11 10:00:00+00:00\n",
       "44  Vitals                   SBP            2015-01-04 05:18:00+00:00\n",
       "45  Vitals                   SBP            2019-09-02 05:15:00+00:00\n",
       "46  DATA VALIDATE            SBP            2018-09-27 16:48:00+00:00\n",
       "47  Vitals                   SBP            2019-07-27 17:30:00+00:00\n",
       "48  Vitals                   SBP            2016-09-15 08:06:00+00:00\n",
       "49  Vitals                   SBP            2018-05-22 16:17:00+00:00\n",
       "50  IIC VS                   SBP            2015-08-14 21:35:00+00:00\n",
       "51  ICU VS                   SBP            2015-08-14 21:30:00+00:00\n",
       "52  Vitals                   SBP            2019-07-27 17:31:00+00:00\n",
       "53  Vitals                   SBP            2018-03-10 23:40:00+00:00\n",
       "54  Vitals                   SBP            2015-10-15 01:00:00+00:00\n",
       "55  DATA VALIDATE            SBP            2019-02-21 13:30:00+00:00\n",
       "56  Vitals                   SBP            2019-02-09 03:00:00+00:00\n",
       "57  Vitals                   SBP            2017-01-13 03:00:00+00:00\n",
       "58  DATA VALIDATE            SBP            2018-01-30 02:30:00+00:00\n",
       "59  Vitals                   SBP            2015-08-24 16:17:15+00:00\n",
       "60  Vitals                   SBP            2019-07-27 17:00:00+00:00\n",
       "61  ICU VS                   SBP            2018-07-31 22:15:00+00:00\n",
       "62  Vitals                   SBP            2016-02-29 17:10:00+00:00\n",
       "63  ICU VS                   SBP            2019-03-17 06:33:00+00:00\n",
       "64  Vitals                   SBP            2017-12-22 06:06:00+00:00\n",
       "65  DATA VALIDATE            SBP            2019-02-21 13:24:00+00:00\n",
       "66  Vitals                   SBP            2018-10-03 20:50:00+00:00\n",
       "67  Vitals                   SBP            2019-07-27 17:45:00+00:00\n",
       "68  Vitals                   SBP            2019-03-21 17:25:00+00:00\n",
       "69  Vitals                   SBP            2019-03-21 17:26:00+00:00\n",
       "70  Vitals                   SBP            2020-01-17 20:47:00+00:00\n",
       "71  Vitals                   SBP            2018-10-03 21:10:00+00:00\n",
       "72  Vitals                   SBP            2017-08-21 10:45:00+00:00\n",
       "73  Vitals                   SBP            2019-07-27 17:50:00+00:00\n",
       "74  Vital Signs              SBP            2016-11-04 04:30:00+00:00\n",
       "75  Vitals                   SBP            2015-07-23 06:15:00+00:00\n",
       "... ...                      ...      ...   ...                      \n",
       "83  Vitals                   SBP            2019-01-05 00:15:00+00:00\n",
       "84  DATA VALIDATE            SBP            2017-01-13 06:47:00+00:00\n",
       "85  Vitals                   SBP            2016-07-19 22:31:00+00:00\n",
       "86  Vitals                   SBP            2018-11-08 15:12:00+00:00\n",
       "87  Vitals                   SBP            2019-06-04 02:00:00+00:00\n",
       "88  DATA VALIDATE            SBP            2017-02-24 09:07:00+00:00\n",
       "89  Vitals                   SBP            2019-07-27 16:55:00+00:00\n",
       "90  Vitals                   SBP            2015-01-31 02:12:00+00:00\n",
       "91  DATA VALIDATE            SBP            2015-03-24 06:15:00+00:00\n",
       "92  Vitals                   SBP            2019-03-21 17:15:00+00:00\n",
       "93  ICU VS                   SBP            2015-09-23 05:40:00+00:00\n",
       "94  Vitals                   SBP            2016-07-14 01:57:00+00:00\n",
       "95  Vitals                   SBP            2016-12-15 00:00:00+00:00\n",
       "96  Vitals                   SBP            2018-10-03 20:36:00+00:00\n",
       "97  Vitals                   SBP            2019-06-18 10:20:00+00:00\n",
       "98  Vitals                   SBP            2016-02-25 03:30:00+00:00\n",
       "99  Vitals                   SBP            2016-02-29 17:15:00+00:00\n",
       "100 Hemodynamic Measurements SBP            2018-12-23 20:12:02+00:00\n",
       "101 Stroke                   SBP            2019-01-04 19:55:00+00:00\n",
       "102 DATA VALIDATE            SBP            2019-01-18 16:57:00+00:00\n",
       "103 Vitals From Sheet        SBP            2016-09-10 20:05:03+00:00\n",
       "104 DATA VALIDATE            SBP            2019-01-04 20:00:00+00:00\n",
       "105 Vitals                   SBP            2018-06-22 16:35:00+00:00\n",
       "106 DATA VALIDATE            SBP            2017-02-14 17:43:00+00:00\n",
       "107 Vitals                   SBP            2018-06-01 20:30:00+00:00\n",
       "108 Vitals                   SBP            2019-07-27 19:49:00+00:00\n",
       "109 Vitals                   SBP            2019-09-26 15:15:00+00:00\n",
       "110 IIC VS                   SBP            2019-01-24 19:39:00+00:00\n",
       "111 ICU VS                   SBP            2017-02-23 20:25:00+00:00\n",
       "112 Vitals                   SBP            2015-04-21 17:52:00+00:00\n",
       "113 Vitals                   SBP            2016-10-19 23:21:00+00:00\n",
       "114 DATA VALIDATE            SBP            2019-05-04 00:10:00+00:00\n",
       "115 DATA VALIDATE            SBP            2018-03-31 00:33:00+00:00\n",
       "116 DATA VALIDATE            SBP            2016-02-29 20:45:00+00:00\n",
       "117 Vitals                   SBP            2020-02-07 21:00:00+00:00\n",
       "118 Vitals                   SBP            2015-07-21 02:21:00+00:00\n",
       "119 Vitals                   SBP            2018-07-24 17:02:00+00:00\n",
       "120 Vitals                   SBP            2016-01-30 23:00:00+00:00\n",
       "121 Blood Administration     SBP            2019-10-09 00:30:00+00:00\n",
       "122 Vitals                   SBP            2016-02-29 17:30:00+00:00\n",
       "123 Vitals                   SBP            2016-02-29 20:46:51+00:00\n",
       "124 Vitals                   SBP            2017-12-24 05:34:00+00:00\n",
       "125 DATA VALIDATE            SBP            2017-10-09 20:18:00+00:00\n",
       "126 Vitals                   SBP            2016-09-20 00:00:00+00:00\n",
       "127 Vitals                   SBP            2017-01-12 23:00:00+00:00\n",
       "128 Vitals                   SBP            2015-09-18 13:12:00+00:00\n",
       "129 Vitals                   SBP            2019-07-27 18:00:00+00:00\n",
       "130 Vitals                   SBP            2018-04-15 02:03:00+00:00\n",
       "131 Hemodynamic Measurements SBP            2018-12-23 20:10:01+00:00\n",
       "132 Vitals                   SBP            2017-11-06 05:34:00+00:00\n",
       "133 Vitals                   SBP            2017-07-07 21:00:00+00:00\n",
       "134 Vitals                   SBP            2015-10-10 22:30:00+00:00\n",
       "135 Vitals                   SBP            2019-03-10 00:01:00+00:00\n",
       "136 Vitals                   SBP            2018-01-11 22:35:00+00:00\n",
       "137 Vitals                   SBP            2019-02-19 02:30:00+00:00\n",
       "138 ICU VS                   SBP            2015-08-24 15:15:00+00:00\n",
       "139 ICU Intake & Output      SBP            2019-07-24 21:00:00+00:00\n",
       "140 Vitals                   SBP            2016-09-02 09:25:00+00:00\n",
       "141 Vitals                   SBP            2019-11-10 06:30:00+00:00\n",
       "142 Vitals                   SBP            2015-09-15 17:55:00+00:00\n",
       "143 ICU VS                   SBP            2017-10-01 19:33:00+00:00\n",
       "144 Vitals                   SBP            2018-06-15 22:55:00+00:00\n",
       "145 DATA VALIDATE            SBP            2017-05-12 00:40:00+00:00\n",
       "146 Vitals                   SBP            2017-09-25 08:32:47+00:00\n",
       "147 DATA VALIDATE            SBP            2018-03-31 00:30:00+00:00\n",
       "148 Vitals                   SBP            2016-09-02 09:50:00+00:00\n",
       "149 Vitals                   SBP            2019-06-29 11:08:00+00:00\n",
       "150 Vitals                   SBP            2016-11-21 23:04:00+00:00\n",
       "151 Vitals                   SBP            2019-08-28 01:22:00+00:00\n",
       "152 Vitals                   SBP            2019-08-29 22:20:00+00:00\n",
       "153 ICU VS                   SBP            2019-08-28 01:21:00+00:00\n",
       "154 ICU VS                   SBP            2016-06-24 19:52:00+00:00\n",
       "155 Vitals                   SBP            2016-09-02 09:40:00+00:00\n",
       "156 Vitals                   SBP            2019-03-10 00:05:00+00:00\n",
       "157 DATA VALIDATE            SBP            2019-06-29 11:10:00+00:00\n",
       "    num_value1 num_value2\n",
       "1    60         0        \n",
       "2    74         0        \n",
       "3     0         0        \n",
       "4    80         0        \n",
       "5    74         0        \n",
       "6    80         0        \n",
       "7    90         0        \n",
       "8   110         0        \n",
       "9    64         0        \n",
       "10  126         3        \n",
       "11   49         3        \n",
       "12  137         3        \n",
       "13  142         4        \n",
       "14  149         6        \n",
       "15  107         6        \n",
       "16  170         6        \n",
       "17  151         6        \n",
       "18  121         6        \n",
       "19  145         6        \n",
       "20  158         7        \n",
       "21  125         7        \n",
       "22  122         7        \n",
       "23   92         7        \n",
       "24  133         8        \n",
       "25  117         8        \n",
       "26  166         8        \n",
       "27  171         8        \n",
       "28  134         9        \n",
       "29  112         9        \n",
       "30  215        10        \n",
       "31   69        10        \n",
       "32  147        10        \n",
       "33  176        11        \n",
       "34  194        11        \n",
       "35  154        11        \n",
       "36  151        11        \n",
       "37  147        11        \n",
       "38  151        11        \n",
       "39  147        11        \n",
       "40  157        12        \n",
       "41  157        12        \n",
       "42   94        12        \n",
       "43  225        12        \n",
       "44  168        12        \n",
       "45   51        13        \n",
       "46   35        13        \n",
       "47   64        13        \n",
       "48  102        13        \n",
       "49  167        13        \n",
       "50  116        13        \n",
       "51  116        13        \n",
       "52   64        13        \n",
       "53   71        13        \n",
       "54  102        14        \n",
       "55  120        14        \n",
       "56  109        14        \n",
       "57   88        15        \n",
       "58   70        15        \n",
       "59   52        16        \n",
       "60   77        16        \n",
       "61   66        16        \n",
       "62   69        16        \n",
       "63   97        17        \n",
       "64   79        17        \n",
       "65   82        17        \n",
       "66   75        17        \n",
       "67   61        17        \n",
       "68   81        18        \n",
       "69   81        18        \n",
       "70   63        18        \n",
       "71   78        18        \n",
       "72   60        19        \n",
       "73   55        19        \n",
       "74  100        19        \n",
       "75  113        19        \n",
       "... ...        ...       \n",
       "83   49         21       \n",
       "84   52         21       \n",
       "85  105         21       \n",
       "86  136         21       \n",
       "87   58         21       \n",
       "88   54         21       \n",
       "89   75         21       \n",
       "90   72         21       \n",
       "91   74         21       \n",
       "92   85         21       \n",
       "93   50         21       \n",
       "94   72         22       \n",
       "95  126         22       \n",
       "96   92         22       \n",
       "97   99         22       \n",
       "98   74         22       \n",
       "99   69         22       \n",
       "100  84         22       \n",
       "101 100         22       \n",
       "102  57         22       \n",
       "103  56         22       \n",
       "104 100         22       \n",
       "105  53         23       \n",
       "106 173         23       \n",
       "107  70         23       \n",
       "108 111         23       \n",
       "109  50         23       \n",
       "110  95         23       \n",
       "111  95         23       \n",
       "112 100         23       \n",
       "113  68         23       \n",
       "114 110         24       \n",
       "115  53         24       \n",
       "116  33         24       \n",
       "117  87         24       \n",
       "118  90         24       \n",
       "119  85         24       \n",
       "120 147         24       \n",
       "121  85         24       \n",
       "122  77         24       \n",
       "123  33         24       \n",
       "124  62         24       \n",
       "125  70         24       \n",
       "126 106         24       \n",
       "127  88         24       \n",
       "128 116         24       \n",
       "129  83         24       \n",
       "130  77         24       \n",
       "131  82         24       \n",
       "132  56         24       \n",
       "133 107         24       \n",
       "134  97         24       \n",
       "135 226        201       \n",
       "136 225        201       \n",
       "137 228        204       \n",
       "138 227        204       \n",
       "139 251        205       \n",
       "140 247        209       \n",
       "141 226        210       \n",
       "142 240        213       \n",
       "143 243        213       \n",
       "144 231        213       \n",
       "145 238        215       \n",
       "146 236        218       \n",
       "147 235        218       \n",
       "148 232        218       \n",
       "149 237        219       \n",
       "150 269        220       \n",
       "151 239        222       \n",
       "152 242        222       \n",
       "153 234        222       \n",
       "154 260        225       \n",
       "155 246        230       \n",
       "156 257        233       \n",
       "157 251        238       "
      ]
     },
     "metadata": {},
     "output_type": "display_data"
    }
   ],
   "source": [
    "# check DBP (num_value2). Note: BP always have 2 values\n",
    "nrow(vitals %>% filter(features == \"SBP\" & is.na(num_value1) & !is.na(num_value2)))\n",
    "nrow(vitals %>% filter(features == \"SBP\" & is.na(num_value2) & !is.na(num_value1)))\n",
    "\n",
    "# display some extrem values of DBP\n",
    "options(repr.matrix.max.rows=150, repr.matrix.max.cols=20)\n",
    "vitals %>% filter(features == 'SBP' & (num_value2 > 200 | num_value2 < 25)) %>% arrange(num_value2)"
   ]
  },
  {
   "cell_type": "code",
   "execution_count": 57,
   "metadata": {},
   "outputs": [
    {
     "data": {
      "text/plain": [
       "   Min. 1st Qu.  Median    Mean 3rd Qu.    Max.    NA's \n",
       "    0.0    64.0    75.0    75.8    86.0   238.0  589523 "
      ]
     },
     "metadata": {},
     "output_type": "display_data"
    },
    {
     "data": {
      "text/html": [
       "23"
      ],
      "text/latex": [
       "23"
      ],
      "text/markdown": [
       "23"
      ],
      "text/plain": [
       "[1] 23"
      ]
     },
     "metadata": {},
     "output_type": "display_data"
    },
    {
     "data": {
      "text/html": [
       "56"
      ],
      "text/latex": [
       "56"
      ],
      "text/markdown": [
       "56"
      ],
      "text/plain": [
       "[1] 56"
      ]
     },
     "metadata": {},
     "output_type": "display_data"
    },
    {
     "data": {
      "image/png": "[encoded data removed]",
      "text/plain": [
       "Plot with title \"Histogram of vitals[vitals$num_value2 > 150 & vitals$num_value2 < 200, ]$num_value2\""
      ]
     },
     "metadata": {
      "image/png": {
       "height": 420,
       "width": 420
      }
     },
     "output_type": "display_data"
    },
    {
     "data": {
      "image/png": "[encoded data removed]",
      "text/plain": [
       "Plot with title \"Histogram of vitals[vitals$num_value2 < 30, ]$num_value2\""
      ]
     },
     "metadata": {
      "image/png": {
       "height": 420,
       "width": 420
      }
     },
     "output_type": "display_data"
    }
   ],
   "source": [
    "# again, DBP value is num_value2\n",
    "summary(vitals$num_value2)\n",
    "nrow(vitals %>% filter(num_value2 > 200))\n",
    "nrow(vitals %>% filter(num_value2 < 15))\n",
    "\n",
    "hist(vitals[vitals$num_value2 > 150 & vitals$num_value2 < 200,]$num_value2, breaks =50)\n",
    "hist(vitals[vitals$num_value2 < 30,]$num_value2, breaks = 30)"
   ]
  },
  {
   "cell_type": "markdown",
   "metadata": {},
   "source": [
    "### Clean DBP \n",
    "- note: rows that are the same except for values: to be taken once --> will do together with other features, take averages!\n",
    "- consider erroneous values for DBP if SBP > 10*DBP, and if either SBP or DBP = 0\n",
    "- there's one patient who has duplicated recorded time"
   ]
  },
  {
   "cell_type": "code",
   "execution_count": 68,
   "metadata": {},
   "outputs": [
    {
     "data": {
      "text/html": [
       "212379"
      ],
      "text/latex": [
       "212379"
      ],
      "text/markdown": [
       "212379"
      ],
      "text/plain": [
       "[1] 212379"
      ]
     },
     "metadata": {},
     "output_type": "display_data"
    },
    {
     "data": {
      "text/plain": [
       "   Min. 1st Qu.  Median    Mean 3rd Qu.    Max. \n",
       "   10.0    64.0    75.0    75.8    86.0   238.0 "
      ]
     },
     "metadata": {},
     "output_type": "display_data"
    },
    {
     "data": {
      "image/png": "[encoded data removed]",
      "text/plain": [
       "Plot with title \"Histogram of DBP$num_value2\""
      ]
     },
     "metadata": {
      "image/png": {
       "height": 420,
       "width": 420
      }
     },
     "output_type": "display_data"
    }
   ],
   "source": [
    "# remove erroneous values for DBP if SBP > 10*DBP, and either SBP or DBP = 0\n",
    "# will bind rows later --> so ok to filter instead of replacing by NA\n",
    "DBP <- vitals %>% filter(features == \"SBP\" & num_value1*num_value2 !=0) %>% \n",
    "                    mutate(num_value2 = ifelse(num_value1 > 10*num_value2, NA, num_value2)) %>%\n",
    "                    drop_na(num_value2) \n",
    "nrow(DBP)\n",
    "summary(DBP$num_value2)\n",
    "hist(DBP$num_value2, col = \"dodgerblue\", breaks = 125)"
   ]
  },
  {
   "cell_type": "code",
   "execution_count": 59,
   "metadata": {},
   "outputs": [
    {
     "data": {
      "text/html": [
       "<table>\n",
       "<caption>A data.frame: 32 × 9</caption>\n",
       "<thead>\n",
       "\t<tr><th scope=col>anon_id</th><th scope=col>pat_enc_csn_id_coded</th><th scope=col>inpatient_data_id_coded</th><th scope=col>template</th><th scope=col>features</th><th scope=col>units</th><th scope=col>recorded_time</th><th scope=col>num_value1</th><th scope=col>num_value2</th></tr>\n",
       "\t<tr><th scope=col>&lt;chr&gt;</th><th scope=col>&lt;dbl&gt;</th><th scope=col>&lt;int&gt;</th><th scope=col>&lt;chr&gt;</th><th scope=col>&lt;chr&gt;</th><th scope=col>&lt;chr&gt;</th><th scope=col>&lt;chr&gt;</th><th scope=col>&lt;dbl&gt;</th><th scope=col>&lt;dbl&gt;</th></tr>\n",
       "</thead>\n",
       "<tbody>\n",
       "\t<tr><td>JCcc3257 </td><td>131182220877</td><td>19167354</td><td>Vitals       </td><td>SBP</td><td></td><td>2016-02-29 17:06:00+00:00</td><td> 69</td><td>10</td></tr>\n",
       "\t<tr><td>JCd9dc5f </td><td>131251027157</td><td>30169334</td><td>DATA VALIDATE</td><td>SBP</td><td></td><td>2018-04-16 00:42:00+00:00</td><td> 94</td><td>12</td></tr>\n",
       "\t<tr><td>JCe14e5b </td><td>131273610467</td><td>39958051</td><td>Vitals       </td><td>SBP</td><td></td><td>2019-09-02 05:15:00+00:00</td><td> 51</td><td>13</td></tr>\n",
       "\t<tr><td>JCda2fe2 </td><td>131259025143</td><td>32709155</td><td>DATA VALIDATE</td><td>SBP</td><td></td><td>2018-09-27 16:48:00+00:00</td><td> 35</td><td>13</td></tr>\n",
       "\t<tr><td>JCe5faab </td><td>131272707003</td><td>39379259</td><td>Vitals       </td><td>SBP</td><td></td><td>2019-07-27 17:30:00+00:00</td><td> 64</td><td>13</td></tr>\n",
       "\t<tr><td>JCd5f334 </td><td>131199507206</td><td>21510749</td><td>Vitals       </td><td>SBP</td><td></td><td>2016-09-15 08:06:00+00:00</td><td>102</td><td>13</td></tr>\n",
       "\t<tr><td>JCe64650 </td><td>131115252104</td><td>16646852</td><td>IIC VS       </td><td>SBP</td><td></td><td>2015-08-14 21:35:00+00:00</td><td>116</td><td>13</td></tr>\n",
       "\t<tr><td>JCe64650 </td><td>131115252104</td><td>16646852</td><td>ICU VS       </td><td>SBP</td><td></td><td>2015-08-14 21:30:00+00:00</td><td>116</td><td>13</td></tr>\n",
       "\t<tr><td>JCe5faab </td><td>131272707003</td><td>39379259</td><td>Vitals       </td><td>SBP</td><td></td><td>2019-07-27 17:31:00+00:00</td><td> 64</td><td>13</td></tr>\n",
       "\t<tr><td>JCe755c5 </td><td>131248642790</td><td>29289155</td><td>Vitals       </td><td>SBP</td><td></td><td>2018-03-10 23:40:00+00:00</td><td> 71</td><td>13</td></tr>\n",
       "\t<tr><td>JCdc7ba4 </td><td>131126157814</td><td>16978993</td><td>Vitals       </td><td>SBP</td><td></td><td>2015-10-15 01:00:00+00:00</td><td>102</td><td>14</td></tr>\n",
       "\t<tr><td>JC2a064c9</td><td>131262833367</td><td>34051642</td><td>DATA VALIDATE</td><td>SBP</td><td></td><td>2019-02-21 13:30:00+00:00</td><td>120</td><td>14</td></tr>\n",
       "\t<tr><td>JC2a192c4</td><td>131262132737</td><td>33812901</td><td>Vitals       </td><td>SBP</td><td></td><td>2019-02-09 03:00:00+00:00</td><td>109</td><td>14</td></tr>\n",
       "\t<tr><td>JCd748cd </td><td>131210993637</td><td>22663885</td><td>Vitals       </td><td>SBP</td><td></td><td>2017-01-13 03:00:00+00:00</td><td> 88</td><td>15</td></tr>\n",
       "\t<tr><td>JCeb13d7 </td><td>131243442959</td><td>27930076</td><td>DATA VALIDATE</td><td>SBP</td><td></td><td>2018-01-30 02:30:00+00:00</td><td> 70</td><td>15</td></tr>\n",
       "\t<tr><td>JCd82779 </td><td>131116726278</td><td>16703576</td><td>Vitals       </td><td>SBP</td><td></td><td>2015-08-24 16:17:15+00:00</td><td> 52</td><td>16</td></tr>\n",
       "\t<tr><td>JCe5faab </td><td>131272707003</td><td>39379259</td><td>Vitals       </td><td>SBP</td><td></td><td>2019-07-27 17:00:00+00:00</td><td> 77</td><td>16</td></tr>\n",
       "\t<tr><td>JCcd049b </td><td>131254214529</td><td>31126619</td><td>ICU VS       </td><td>SBP</td><td></td><td>2018-07-31 22:15:00+00:00</td><td> 66</td><td>16</td></tr>\n",
       "\t<tr><td>JCcc3257 </td><td>131182220877</td><td>19167354</td><td>Vitals       </td><td>SBP</td><td></td><td>2016-02-29 17:10:00+00:00</td><td> 69</td><td>16</td></tr>\n",
       "\t<tr><td>JCdec27a </td><td>131265725767</td><td>35554944</td><td>ICU VS       </td><td>SBP</td><td></td><td>2019-03-17 06:33:00+00:00</td><td> 97</td><td>17</td></tr>\n",
       "\t<tr><td>JCdea02d </td><td>131242313634</td><td>27623952</td><td>Vitals       </td><td>SBP</td><td></td><td>2017-12-22 06:06:00+00:00</td><td> 79</td><td>17</td></tr>\n",
       "\t<tr><td>JC2a064c9</td><td>131262833367</td><td>34051642</td><td>DATA VALIDATE</td><td>SBP</td><td></td><td>2019-02-21 13:24:00+00:00</td><td> 82</td><td>17</td></tr>\n",
       "\t<tr><td>JCd9202c </td><td>131257031258</td><td>32001758</td><td>Vitals       </td><td>SBP</td><td></td><td>2018-10-03 20:50:00+00:00</td><td> 75</td><td>17</td></tr>\n",
       "\t<tr><td>JCe5faab </td><td>131272707003</td><td>39379259</td><td>Vitals       </td><td>SBP</td><td></td><td>2019-07-27 17:45:00+00:00</td><td> 61</td><td>17</td></tr>\n",
       "\t<tr><td>JCe3b1cb </td><td>131264705446</td><td>34853386</td><td>Vitals       </td><td>SBP</td><td></td><td>2019-03-21 17:25:00+00:00</td><td> 81</td><td>18</td></tr>\n",
       "\t<tr><td>JCe3b1cb </td><td>131264705446</td><td>34853386</td><td>Vitals       </td><td>SBP</td><td></td><td>2019-03-21 17:26:00+00:00</td><td> 81</td><td>18</td></tr>\n",
       "\t<tr><td>JCcf0d95 </td><td>131281577356</td><td>44951981</td><td>Vitals       </td><td>SBP</td><td></td><td>2020-01-17 20:47:00+00:00</td><td> 63</td><td>18</td></tr>\n",
       "\t<tr><td>JCd9202c </td><td>131257031258</td><td>32001758</td><td>Vitals       </td><td>SBP</td><td></td><td>2018-10-03 21:10:00+00:00</td><td> 78</td><td>18</td></tr>\n",
       "\t<tr><td>JCd5fcb6 </td><td>131237940684</td><td>25991698</td><td>Vitals       </td><td>SBP</td><td></td><td>2017-08-21 10:45:00+00:00</td><td> 60</td><td>19</td></tr>\n",
       "\t<tr><td>JCe5faab </td><td>131272707003</td><td>39379259</td><td>Vitals       </td><td>SBP</td><td></td><td>2019-07-27 17:50:00+00:00</td><td> 55</td><td>19</td></tr>\n",
       "\t<tr><td>JCdc4b08 </td><td>131200518347</td><td>21632265</td><td>Vital Signs  </td><td>SBP</td><td></td><td>2016-11-04 04:30:00+00:00</td><td>100</td><td>19</td></tr>\n",
       "\t<tr><td>JCce30c5 </td><td>131094044521</td><td>16007362</td><td>Vitals       </td><td>SBP</td><td></td><td>2015-07-23 06:15:00+00:00</td><td>113</td><td>19</td></tr>\n",
       "</tbody>\n",
       "</table>\n"
      ],
      "text/latex": [
       "A data.frame: 32 × 9\n",
       "\\begin{tabular}{lllllllll}\n",
       " anon\\_id & pat\\_enc\\_csn\\_id\\_coded & inpatient\\_data\\_id\\_coded & template & features & units & recorded\\_time & num\\_value1 & num\\_value2\\\\\n",
       " <chr> & <dbl> & <int> & <chr> & <chr> & <chr> & <chr> & <dbl> & <dbl>\\\\\n",
       "\\hline\n",
       "\t JCcc3257  & 131182220877 & 19167354 & Vitals        & SBP &  & 2016-02-29 17:06:00+00:00 &  69 & 10\\\\\n",
       "\t JCd9dc5f  & 131251027157 & 30169334 & DATA VALIDATE & SBP &  & 2018-04-16 00:42:00+00:00 &  94 & 12\\\\\n",
       "\t JCe14e5b  & 131273610467 & 39958051 & Vitals        & SBP &  & 2019-09-02 05:15:00+00:00 &  51 & 13\\\\\n",
       "\t JCda2fe2  & 131259025143 & 32709155 & DATA VALIDATE & SBP &  & 2018-09-27 16:48:00+00:00 &  35 & 13\\\\\n",
       "\t JCe5faab  & 131272707003 & 39379259 & Vitals        & SBP &  & 2019-07-27 17:30:00+00:00 &  64 & 13\\\\\n",
       "\t JCd5f334  & 131199507206 & 21510749 & Vitals        & SBP &  & 2016-09-15 08:06:00+00:00 & 102 & 13\\\\\n",
       "\t JCe64650  & 131115252104 & 16646852 & IIC VS        & SBP &  & 2015-08-14 21:35:00+00:00 & 116 & 13\\\\\n",
       "\t JCe64650  & 131115252104 & 16646852 & ICU VS        & SBP &  & 2015-08-14 21:30:00+00:00 & 116 & 13\\\\\n",
       "\t JCe5faab  & 131272707003 & 39379259 & Vitals        & SBP &  & 2019-07-27 17:31:00+00:00 &  64 & 13\\\\\n",
       "\t JCe755c5  & 131248642790 & 29289155 & Vitals        & SBP &  & 2018-03-10 23:40:00+00:00 &  71 & 13\\\\\n",
       "\t JCdc7ba4  & 131126157814 & 16978993 & Vitals        & SBP &  & 2015-10-15 01:00:00+00:00 & 102 & 14\\\\\n",
       "\t JC2a064c9 & 131262833367 & 34051642 & DATA VALIDATE & SBP &  & 2019-02-21 13:30:00+00:00 & 120 & 14\\\\\n",
       "\t JC2a192c4 & 131262132737 & 33812901 & Vitals        & SBP &  & 2019-02-09 03:00:00+00:00 & 109 & 14\\\\\n",
       "\t JCd748cd  & 131210993637 & 22663885 & Vitals        & SBP &  & 2017-01-13 03:00:00+00:00 &  88 & 15\\\\\n",
       "\t JCeb13d7  & 131243442959 & 27930076 & DATA VALIDATE & SBP &  & 2018-01-30 02:30:00+00:00 &  70 & 15\\\\\n",
       "\t JCd82779  & 131116726278 & 16703576 & Vitals        & SBP &  & 2015-08-24 16:17:15+00:00 &  52 & 16\\\\\n",
       "\t JCe5faab  & 131272707003 & 39379259 & Vitals        & SBP &  & 2019-07-27 17:00:00+00:00 &  77 & 16\\\\\n",
       "\t JCcd049b  & 131254214529 & 31126619 & ICU VS        & SBP &  & 2018-07-31 22:15:00+00:00 &  66 & 16\\\\\n",
       "\t JCcc3257  & 131182220877 & 19167354 & Vitals        & SBP &  & 2016-02-29 17:10:00+00:00 &  69 & 16\\\\\n",
       "\t JCdec27a  & 131265725767 & 35554944 & ICU VS        & SBP &  & 2019-03-17 06:33:00+00:00 &  97 & 17\\\\\n",
       "\t JCdea02d  & 131242313634 & 27623952 & Vitals        & SBP &  & 2017-12-22 06:06:00+00:00 &  79 & 17\\\\\n",
       "\t JC2a064c9 & 131262833367 & 34051642 & DATA VALIDATE & SBP &  & 2019-02-21 13:24:00+00:00 &  82 & 17\\\\\n",
       "\t JCd9202c  & 131257031258 & 32001758 & Vitals        & SBP &  & 2018-10-03 20:50:00+00:00 &  75 & 17\\\\\n",
       "\t JCe5faab  & 131272707003 & 39379259 & Vitals        & SBP &  & 2019-07-27 17:45:00+00:00 &  61 & 17\\\\\n",
       "\t JCe3b1cb  & 131264705446 & 34853386 & Vitals        & SBP &  & 2019-03-21 17:25:00+00:00 &  81 & 18\\\\\n",
       "\t JCe3b1cb  & 131264705446 & 34853386 & Vitals        & SBP &  & 2019-03-21 17:26:00+00:00 &  81 & 18\\\\\n",
       "\t JCcf0d95  & 131281577356 & 44951981 & Vitals        & SBP &  & 2020-01-17 20:47:00+00:00 &  63 & 18\\\\\n",
       "\t JCd9202c  & 131257031258 & 32001758 & Vitals        & SBP &  & 2018-10-03 21:10:00+00:00 &  78 & 18\\\\\n",
       "\t JCd5fcb6  & 131237940684 & 25991698 & Vitals        & SBP &  & 2017-08-21 10:45:00+00:00 &  60 & 19\\\\\n",
       "\t JCe5faab  & 131272707003 & 39379259 & Vitals        & SBP &  & 2019-07-27 17:50:00+00:00 &  55 & 19\\\\\n",
       "\t JCdc4b08  & 131200518347 & 21632265 & Vital Signs   & SBP &  & 2016-11-04 04:30:00+00:00 & 100 & 19\\\\\n",
       "\t JCce30c5  & 131094044521 & 16007362 & Vitals        & SBP &  & 2015-07-23 06:15:00+00:00 & 113 & 19\\\\\n",
       "\\end{tabular}\n"
      ],
      "text/markdown": [
       "\n",
       "A data.frame: 32 × 9\n",
       "\n",
       "| anon_id &lt;chr&gt; | pat_enc_csn_id_coded &lt;dbl&gt; | inpatient_data_id_coded &lt;int&gt; | template &lt;chr&gt; | features &lt;chr&gt; | units &lt;chr&gt; | recorded_time &lt;chr&gt; | num_value1 &lt;dbl&gt; | num_value2 &lt;dbl&gt; |\n",
       "|---|---|---|---|---|---|---|---|---|\n",
       "| JCcc3257  | 131182220877 | 19167354 | Vitals        | SBP | <!----> | 2016-02-29 17:06:00+00:00 |  69 | 10 |\n",
       "| JCd9dc5f  | 131251027157 | 30169334 | DATA VALIDATE | SBP | <!----> | 2018-04-16 00:42:00+00:00 |  94 | 12 |\n",
       "| JCe14e5b  | 131273610467 | 39958051 | Vitals        | SBP | <!----> | 2019-09-02 05:15:00+00:00 |  51 | 13 |\n",
       "| JCda2fe2  | 131259025143 | 32709155 | DATA VALIDATE | SBP | <!----> | 2018-09-27 16:48:00+00:00 |  35 | 13 |\n",
       "| JCe5faab  | 131272707003 | 39379259 | Vitals        | SBP | <!----> | 2019-07-27 17:30:00+00:00 |  64 | 13 |\n",
       "| JCd5f334  | 131199507206 | 21510749 | Vitals        | SBP | <!----> | 2016-09-15 08:06:00+00:00 | 102 | 13 |\n",
       "| JCe64650  | 131115252104 | 16646852 | IIC VS        | SBP | <!----> | 2015-08-14 21:35:00+00:00 | 116 | 13 |\n",
       "| JCe64650  | 131115252104 | 16646852 | ICU VS        | SBP | <!----> | 2015-08-14 21:30:00+00:00 | 116 | 13 |\n",
       "| JCe5faab  | 131272707003 | 39379259 | Vitals        | SBP | <!----> | 2019-07-27 17:31:00+00:00 |  64 | 13 |\n",
       "| JCe755c5  | 131248642790 | 29289155 | Vitals        | SBP | <!----> | 2018-03-10 23:40:00+00:00 |  71 | 13 |\n",
       "| JCdc7ba4  | 131126157814 | 16978993 | Vitals        | SBP | <!----> | 2015-10-15 01:00:00+00:00 | 102 | 14 |\n",
       "| JC2a064c9 | 131262833367 | 34051642 | DATA VALIDATE | SBP | <!----> | 2019-02-21 13:30:00+00:00 | 120 | 14 |\n",
       "| JC2a192c4 | 131262132737 | 33812901 | Vitals        | SBP | <!----> | 2019-02-09 03:00:00+00:00 | 109 | 14 |\n",
       "| JCd748cd  | 131210993637 | 22663885 | Vitals        | SBP | <!----> | 2017-01-13 03:00:00+00:00 |  88 | 15 |\n",
       "| JCeb13d7  | 131243442959 | 27930076 | DATA VALIDATE | SBP | <!----> | 2018-01-30 02:30:00+00:00 |  70 | 15 |\n",
       "| JCd82779  | 131116726278 | 16703576 | Vitals        | SBP | <!----> | 2015-08-24 16:17:15+00:00 |  52 | 16 |\n",
       "| JCe5faab  | 131272707003 | 39379259 | Vitals        | SBP | <!----> | 2019-07-27 17:00:00+00:00 |  77 | 16 |\n",
       "| JCcd049b  | 131254214529 | 31126619 | ICU VS        | SBP | <!----> | 2018-07-31 22:15:00+00:00 |  66 | 16 |\n",
       "| JCcc3257  | 131182220877 | 19167354 | Vitals        | SBP | <!----> | 2016-02-29 17:10:00+00:00 |  69 | 16 |\n",
       "| JCdec27a  | 131265725767 | 35554944 | ICU VS        | SBP | <!----> | 2019-03-17 06:33:00+00:00 |  97 | 17 |\n",
       "| JCdea02d  | 131242313634 | 27623952 | Vitals        | SBP | <!----> | 2017-12-22 06:06:00+00:00 |  79 | 17 |\n",
       "| JC2a064c9 | 131262833367 | 34051642 | DATA VALIDATE | SBP | <!----> | 2019-02-21 13:24:00+00:00 |  82 | 17 |\n",
       "| JCd9202c  | 131257031258 | 32001758 | Vitals        | SBP | <!----> | 2018-10-03 20:50:00+00:00 |  75 | 17 |\n",
       "| JCe5faab  | 131272707003 | 39379259 | Vitals        | SBP | <!----> | 2019-07-27 17:45:00+00:00 |  61 | 17 |\n",
       "| JCe3b1cb  | 131264705446 | 34853386 | Vitals        | SBP | <!----> | 2019-03-21 17:25:00+00:00 |  81 | 18 |\n",
       "| JCe3b1cb  | 131264705446 | 34853386 | Vitals        | SBP | <!----> | 2019-03-21 17:26:00+00:00 |  81 | 18 |\n",
       "| JCcf0d95  | 131281577356 | 44951981 | Vitals        | SBP | <!----> | 2020-01-17 20:47:00+00:00 |  63 | 18 |\n",
       "| JCd9202c  | 131257031258 | 32001758 | Vitals        | SBP | <!----> | 2018-10-03 21:10:00+00:00 |  78 | 18 |\n",
       "| JCd5fcb6  | 131237940684 | 25991698 | Vitals        | SBP | <!----> | 2017-08-21 10:45:00+00:00 |  60 | 19 |\n",
       "| JCe5faab  | 131272707003 | 39379259 | Vitals        | SBP | <!----> | 2019-07-27 17:50:00+00:00 |  55 | 19 |\n",
       "| JCdc4b08  | 131200518347 | 21632265 | Vital Signs   | SBP | <!----> | 2016-11-04 04:30:00+00:00 | 100 | 19 |\n",
       "| JCce30c5  | 131094044521 | 16007362 | Vitals        | SBP | <!----> | 2015-07-23 06:15:00+00:00 | 113 | 19 |\n",
       "\n"
      ],
      "text/plain": [
       "   anon_id   pat_enc_csn_id_coded inpatient_data_id_coded template     \n",
       "1  JCcc3257  131182220877         19167354                Vitals       \n",
       "2  JCd9dc5f  131251027157         30169334                DATA VALIDATE\n",
       "3  JCe14e5b  131273610467         39958051                Vitals       \n",
       "4  JCda2fe2  131259025143         32709155                DATA VALIDATE\n",
       "5  JCe5faab  131272707003         39379259                Vitals       \n",
       "6  JCd5f334  131199507206         21510749                Vitals       \n",
       "7  JCe64650  131115252104         16646852                IIC VS       \n",
       "8  JCe64650  131115252104         16646852                ICU VS       \n",
       "9  JCe5faab  131272707003         39379259                Vitals       \n",
       "10 JCe755c5  131248642790         29289155                Vitals       \n",
       "11 JCdc7ba4  131126157814         16978993                Vitals       \n",
       "12 JC2a064c9 131262833367         34051642                DATA VALIDATE\n",
       "13 JC2a192c4 131262132737         33812901                Vitals       \n",
       "14 JCd748cd  131210993637         22663885                Vitals       \n",
       "15 JCeb13d7  131243442959         27930076                DATA VALIDATE\n",
       "16 JCd82779  131116726278         16703576                Vitals       \n",
       "17 JCe5faab  131272707003         39379259                Vitals       \n",
       "18 JCcd049b  131254214529         31126619                ICU VS       \n",
       "19 JCcc3257  131182220877         19167354                Vitals       \n",
       "20 JCdec27a  131265725767         35554944                ICU VS       \n",
       "21 JCdea02d  131242313634         27623952                Vitals       \n",
       "22 JC2a064c9 131262833367         34051642                DATA VALIDATE\n",
       "23 JCd9202c  131257031258         32001758                Vitals       \n",
       "24 JCe5faab  131272707003         39379259                Vitals       \n",
       "25 JCe3b1cb  131264705446         34853386                Vitals       \n",
       "26 JCe3b1cb  131264705446         34853386                Vitals       \n",
       "27 JCcf0d95  131281577356         44951981                Vitals       \n",
       "28 JCd9202c  131257031258         32001758                Vitals       \n",
       "29 JCd5fcb6  131237940684         25991698                Vitals       \n",
       "30 JCe5faab  131272707003         39379259                Vitals       \n",
       "31 JCdc4b08  131200518347         21632265                Vital Signs  \n",
       "32 JCce30c5  131094044521         16007362                Vitals       \n",
       "   features units recorded_time             num_value1 num_value2\n",
       "1  SBP            2016-02-29 17:06:00+00:00  69        10        \n",
       "2  SBP            2018-04-16 00:42:00+00:00  94        12        \n",
       "3  SBP            2019-09-02 05:15:00+00:00  51        13        \n",
       "4  SBP            2018-09-27 16:48:00+00:00  35        13        \n",
       "5  SBP            2019-07-27 17:30:00+00:00  64        13        \n",
       "6  SBP            2016-09-15 08:06:00+00:00 102        13        \n",
       "7  SBP            2015-08-14 21:35:00+00:00 116        13        \n",
       "8  SBP            2015-08-14 21:30:00+00:00 116        13        \n",
       "9  SBP            2019-07-27 17:31:00+00:00  64        13        \n",
       "10 SBP            2018-03-10 23:40:00+00:00  71        13        \n",
       "11 SBP            2015-10-15 01:00:00+00:00 102        14        \n",
       "12 SBP            2019-02-21 13:30:00+00:00 120        14        \n",
       "13 SBP            2019-02-09 03:00:00+00:00 109        14        \n",
       "14 SBP            2017-01-13 03:00:00+00:00  88        15        \n",
       "15 SBP            2018-01-30 02:30:00+00:00  70        15        \n",
       "16 SBP            2015-08-24 16:17:15+00:00  52        16        \n",
       "17 SBP            2019-07-27 17:00:00+00:00  77        16        \n",
       "18 SBP            2018-07-31 22:15:00+00:00  66        16        \n",
       "19 SBP            2016-02-29 17:10:00+00:00  69        16        \n",
       "20 SBP            2019-03-17 06:33:00+00:00  97        17        \n",
       "21 SBP            2017-12-22 06:06:00+00:00  79        17        \n",
       "22 SBP            2019-02-21 13:24:00+00:00  82        17        \n",
       "23 SBP            2018-10-03 20:50:00+00:00  75        17        \n",
       "24 SBP            2019-07-27 17:45:00+00:00  61        17        \n",
       "25 SBP            2019-03-21 17:25:00+00:00  81        18        \n",
       "26 SBP            2019-03-21 17:26:00+00:00  81        18        \n",
       "27 SBP            2020-01-17 20:47:00+00:00  63        18        \n",
       "28 SBP            2018-10-03 21:10:00+00:00  78        18        \n",
       "29 SBP            2017-08-21 10:45:00+00:00  60        19        \n",
       "30 SBP            2019-07-27 17:50:00+00:00  55        19        \n",
       "31 SBP            2016-11-04 04:30:00+00:00 100        19        \n",
       "32 SBP            2015-07-23 06:15:00+00:00 113        19        "
      ]
     },
     "metadata": {},
     "output_type": "display_data"
    }
   ],
   "source": [
    "# check DBP and SBP\n",
    "DBP %>% filter(num_value2 <20) %>% arrange(num_value2)"
   ]
  },
  {
   "cell_type": "code",
   "execution_count": 69,
   "metadata": {},
   "outputs": [
    {
     "data": {
      "text/html": [
       "212378"
      ],
      "text/latex": [
       "212378"
      ],
      "text/markdown": [
       "212378"
      ],
      "text/plain": [
       "[1] 212378"
      ]
     },
     "metadata": {},
     "output_type": "display_data"
    },
    {
     "data": {
      "text/html": [
       "<table>\n",
       "<caption>A data.frame: 0 × 8</caption>\n",
       "<thead>\n",
       "\t<tr><th scope=col>anon_id</th><th scope=col>pat_enc_csn_id_coded</th><th scope=col>inpatient_data_id_coded</th><th scope=col>template</th><th scope=col>features</th><th scope=col>units</th><th scope=col>recorded_time</th><th scope=col>values</th></tr>\n",
       "\t<tr><th scope=col>&lt;chr&gt;</th><th scope=col>&lt;dbl&gt;</th><th scope=col>&lt;int&gt;</th><th scope=col>&lt;chr&gt;</th><th scope=col>&lt;chr&gt;</th><th scope=col>&lt;chr&gt;</th><th scope=col>&lt;chr&gt;</th><th scope=col>&lt;dbl&gt;</th></tr>\n",
       "</thead>\n",
       "<tbody>\n",
       "</tbody>\n",
       "</table>\n"
      ],
      "text/latex": [
       "A data.frame: 0 × 8\n",
       "\\begin{tabular}{llllllll}\n",
       " anon\\_id & pat\\_enc\\_csn\\_id\\_coded & inpatient\\_data\\_id\\_coded & template & features & units & recorded\\_time & values\\\\\n",
       " <chr> & <dbl> & <int> & <chr> & <chr> & <chr> & <chr> & <dbl>\\\\\n",
       "\\hline\n",
       "\\end{tabular}\n"
      ],
      "text/markdown": [
       "\n",
       "A data.frame: 0 × 8\n",
       "\n",
       "| anon_id &lt;chr&gt; | pat_enc_csn_id_coded &lt;dbl&gt; | inpatient_data_id_coded &lt;int&gt; | template &lt;chr&gt; | features &lt;chr&gt; | units &lt;chr&gt; | recorded_time &lt;chr&gt; | values &lt;dbl&gt; |\n",
       "|---|---|---|---|---|---|---|---|\n",
       "\n"
      ],
      "text/plain": [
       "     anon_id pat_enc_csn_id_coded inpatient_data_id_coded template features\n",
       "     units recorded_time values"
      ]
     },
     "metadata": {},
     "output_type": "display_data"
    },
    {
     "data": {
      "text/html": [
       "<table>\n",
       "<caption>A grouped_df: 2 × 8</caption>\n",
       "<thead>\n",
       "\t<tr><th scope=col>anon_id</th><th scope=col>pat_enc_csn_id_coded</th><th scope=col>inpatient_data_id_coded</th><th scope=col>template</th><th scope=col>features</th><th scope=col>units</th><th scope=col>recorded_time</th><th scope=col>values</th></tr>\n",
       "\t<tr><th scope=col>&lt;chr&gt;</th><th scope=col>&lt;dbl&gt;</th><th scope=col>&lt;int&gt;</th><th scope=col>&lt;chr&gt;</th><th scope=col>&lt;chr&gt;</th><th scope=col>&lt;chr&gt;</th><th scope=col>&lt;chr&gt;</th><th scope=col>&lt;dbl&gt;</th></tr>\n",
       "</thead>\n",
       "<tbody>\n",
       "\t<tr><td>JCdc571d</td><td>131265716149</td><td>35550390</td><td>Vitals</td><td>DBP</td><td></td><td>2019-03-10 10:00:00+00:00</td><td>71</td></tr>\n",
       "\t<tr><td>JCdc571d</td><td>131265716149</td><td>35550390</td><td>Vitals</td><td>DBP</td><td></td><td>2019-03-10 10:00:00+00:00</td><td>63</td></tr>\n",
       "</tbody>\n",
       "</table>\n"
      ],
      "text/latex": [
       "A grouped\\_df: 2 × 8\n",
       "\\begin{tabular}{llllllll}\n",
       " anon\\_id & pat\\_enc\\_csn\\_id\\_coded & inpatient\\_data\\_id\\_coded & template & features & units & recorded\\_time & values\\\\\n",
       " <chr> & <dbl> & <int> & <chr> & <chr> & <chr> & <chr> & <dbl>\\\\\n",
       "\\hline\n",
       "\t JCdc571d & 131265716149 & 35550390 & Vitals & DBP &  & 2019-03-10 10:00:00+00:00 & 71\\\\\n",
       "\t JCdc571d & 131265716149 & 35550390 & Vitals & DBP &  & 2019-03-10 10:00:00+00:00 & 63\\\\\n",
       "\\end{tabular}\n"
      ],
      "text/markdown": [
       "\n",
       "A grouped_df: 2 × 8\n",
       "\n",
       "| anon_id &lt;chr&gt; | pat_enc_csn_id_coded &lt;dbl&gt; | inpatient_data_id_coded &lt;int&gt; | template &lt;chr&gt; | features &lt;chr&gt; | units &lt;chr&gt; | recorded_time &lt;chr&gt; | values &lt;dbl&gt; |\n",
       "|---|---|---|---|---|---|---|---|\n",
       "| JCdc571d | 131265716149 | 35550390 | Vitals | DBP | <!----> | 2019-03-10 10:00:00+00:00 | 71 |\n",
       "| JCdc571d | 131265716149 | 35550390 | Vitals | DBP | <!----> | 2019-03-10 10:00:00+00:00 | 63 |\n",
       "\n"
      ],
      "text/plain": [
       "  anon_id  pat_enc_csn_id_coded inpatient_data_id_coded template features units\n",
       "1 JCdc571d 131265716149         35550390                Vitals   DBP           \n",
       "2 JCdc571d 131265716149         35550390                Vitals   DBP           \n",
       "  recorded_time             values\n",
       "1 2019-03-10 10:00:00+00:00 71    \n",
       "2 2019-03-10 10:00:00+00:00 63    "
      ]
     },
     "metadata": {},
     "output_type": "display_data"
    }
   ],
   "source": [
    "# change variable name and drop SBP\n",
    "DBP <- DBP %>% mutate(features = \"DBP\") %>% select(-c(num_value1)) %>%\n",
    "                rename(values = num_value2) %>% distinct()\n",
    "\n",
    "# duplicated row for all columns\n",
    "nrow(DBP %>% distinct())\n",
    "DBP[duplicated(DBP), ]\n",
    "\n",
    "# rows that are the same except for values: to be taken once --> will do together with other features, take average!\n",
    "DBP %>% group_by_at(vars(-values)) %>% filter(n() > 1) "
   ]
  },
  {
   "cell_type": "code",
   "execution_count": 67,
   "metadata": {},
   "outputs": [
    {
     "data": {
      "text/html": [
       "<table>\n",
       "<caption>A data.frame: 9 × 9</caption>\n",
       "<thead>\n",
       "\t<tr><th scope=col>anon_id</th><th scope=col>pat_enc_csn_id_coded</th><th scope=col>inpatient_data_id_coded</th><th scope=col>template</th><th scope=col>features</th><th scope=col>units</th><th scope=col>recorded_time</th><th scope=col>num_value1</th><th scope=col>num_value2</th></tr>\n",
       "\t<tr><th scope=col>&lt;chr&gt;</th><th scope=col>&lt;dbl&gt;</th><th scope=col>&lt;int&gt;</th><th scope=col>&lt;chr&gt;</th><th scope=col>&lt;chr&gt;</th><th scope=col>&lt;chr&gt;</th><th scope=col>&lt;chr&gt;</th><th scope=col>&lt;dbl&gt;</th><th scope=col>&lt;dbl&gt;</th></tr>\n",
       "</thead>\n",
       "<tbody>\n",
       "\t<tr><td>JCdc571d</td><td>131265716149</td><td>35550390</td><td>Vitals             </td><td>Pulse</td><td></td><td>2019-03-10 10:00:00+00:00</td><td>110.0</td><td>NA</td></tr>\n",
       "\t<tr><td>JCdc571d</td><td>131265716149</td><td>35550390</td><td>Vitals             </td><td>Pulse</td><td></td><td>2019-03-10 10:00:00+00:00</td><td>105.0</td><td>NA</td></tr>\n",
       "\t<tr><td>JCdc571d</td><td>131265716149</td><td>35550390</td><td>Vitals             </td><td>RR   </td><td></td><td>2019-03-10 10:00:00+00:00</td><td> 32.0</td><td>NA</td></tr>\n",
       "\t<tr><td>JCdc571d</td><td>131265716149</td><td>35550390</td><td>Vitals             </td><td>RR   </td><td></td><td>2019-03-10 10:00:00+00:00</td><td> 26.0</td><td>NA</td></tr>\n",
       "\t<tr><td>JCdc571d</td><td>131265716149</td><td>35550390</td><td>Vitals             </td><td>SBP  </td><td></td><td>2019-03-10 10:00:00+00:00</td><td>128.0</td><td>71</td></tr>\n",
       "\t<tr><td>JCdc571d</td><td>131265716149</td><td>35550390</td><td>Vitals             </td><td>SBP  </td><td></td><td>2019-03-10 10:00:00+00:00</td><td>121.0</td><td>63</td></tr>\n",
       "\t<tr><td>JCdc571d</td><td>131265716149</td><td>35550390</td><td>Vitals             </td><td>Temp </td><td></td><td>2019-03-10 10:00:00+00:00</td><td> 97.7</td><td>NA</td></tr>\n",
       "\t<tr><td>JCdc571d</td><td>131265716149</td><td>35550390</td><td>Custom Formula Data</td><td>Temp </td><td></td><td>2019-03-10 10:00:00+00:00</td><td> 36.4</td><td>NA</td></tr>\n",
       "\t<tr><td>JCdc571d</td><td>131265716149</td><td>35550390</td><td>Vitals             </td><td>Temp </td><td></td><td>2019-03-10 10:00:00+00:00</td><td> 97.6</td><td>NA</td></tr>\n",
       "</tbody>\n",
       "</table>\n"
      ],
      "text/latex": [
       "A data.frame: 9 × 9\n",
       "\\begin{tabular}{lllllllll}\n",
       " anon\\_id & pat\\_enc\\_csn\\_id\\_coded & inpatient\\_data\\_id\\_coded & template & features & units & recorded\\_time & num\\_value1 & num\\_value2\\\\\n",
       " <chr> & <dbl> & <int> & <chr> & <chr> & <chr> & <chr> & <dbl> & <dbl>\\\\\n",
       "\\hline\n",
       "\t JCdc571d & 131265716149 & 35550390 & Vitals              & Pulse &  & 2019-03-10 10:00:00+00:00 & 110.0 & NA\\\\\n",
       "\t JCdc571d & 131265716149 & 35550390 & Vitals              & Pulse &  & 2019-03-10 10:00:00+00:00 & 105.0 & NA\\\\\n",
       "\t JCdc571d & 131265716149 & 35550390 & Vitals              & RR    &  & 2019-03-10 10:00:00+00:00 &  32.0 & NA\\\\\n",
       "\t JCdc571d & 131265716149 & 35550390 & Vitals              & RR    &  & 2019-03-10 10:00:00+00:00 &  26.0 & NA\\\\\n",
       "\t JCdc571d & 131265716149 & 35550390 & Vitals              & SBP   &  & 2019-03-10 10:00:00+00:00 & 128.0 & 71\\\\\n",
       "\t JCdc571d & 131265716149 & 35550390 & Vitals              & SBP   &  & 2019-03-10 10:00:00+00:00 & 121.0 & 63\\\\\n",
       "\t JCdc571d & 131265716149 & 35550390 & Vitals              & Temp  &  & 2019-03-10 10:00:00+00:00 &  97.7 & NA\\\\\n",
       "\t JCdc571d & 131265716149 & 35550390 & Custom Formula Data & Temp  &  & 2019-03-10 10:00:00+00:00 &  36.4 & NA\\\\\n",
       "\t JCdc571d & 131265716149 & 35550390 & Vitals              & Temp  &  & 2019-03-10 10:00:00+00:00 &  97.6 & NA\\\\\n",
       "\\end{tabular}\n"
      ],
      "text/markdown": [
       "\n",
       "A data.frame: 9 × 9\n",
       "\n",
       "| anon_id &lt;chr&gt; | pat_enc_csn_id_coded &lt;dbl&gt; | inpatient_data_id_coded &lt;int&gt; | template &lt;chr&gt; | features &lt;chr&gt; | units &lt;chr&gt; | recorded_time &lt;chr&gt; | num_value1 &lt;dbl&gt; | num_value2 &lt;dbl&gt; |\n",
       "|---|---|---|---|---|---|---|---|---|\n",
       "| JCdc571d | 131265716149 | 35550390 | Vitals              | Pulse | <!----> | 2019-03-10 10:00:00+00:00 | 110.0 | NA |\n",
       "| JCdc571d | 131265716149 | 35550390 | Vitals              | Pulse | <!----> | 2019-03-10 10:00:00+00:00 | 105.0 | NA |\n",
       "| JCdc571d | 131265716149 | 35550390 | Vitals              | RR    | <!----> | 2019-03-10 10:00:00+00:00 |  32.0 | NA |\n",
       "| JCdc571d | 131265716149 | 35550390 | Vitals              | RR    | <!----> | 2019-03-10 10:00:00+00:00 |  26.0 | NA |\n",
       "| JCdc571d | 131265716149 | 35550390 | Vitals              | SBP   | <!----> | 2019-03-10 10:00:00+00:00 | 128.0 | 71 |\n",
       "| JCdc571d | 131265716149 | 35550390 | Vitals              | SBP   | <!----> | 2019-03-10 10:00:00+00:00 | 121.0 | 63 |\n",
       "| JCdc571d | 131265716149 | 35550390 | Vitals              | Temp  | <!----> | 2019-03-10 10:00:00+00:00 |  97.7 | NA |\n",
       "| JCdc571d | 131265716149 | 35550390 | Custom Formula Data | Temp  | <!----> | 2019-03-10 10:00:00+00:00 |  36.4 | NA |\n",
       "| JCdc571d | 131265716149 | 35550390 | Vitals              | Temp  | <!----> | 2019-03-10 10:00:00+00:00 |  97.6 | NA |\n",
       "\n"
      ],
      "text/plain": [
       "  anon_id  pat_enc_csn_id_coded inpatient_data_id_coded template           \n",
       "1 JCdc571d 131265716149         35550390                Vitals             \n",
       "2 JCdc571d 131265716149         35550390                Vitals             \n",
       "3 JCdc571d 131265716149         35550390                Vitals             \n",
       "4 JCdc571d 131265716149         35550390                Vitals             \n",
       "5 JCdc571d 131265716149         35550390                Vitals             \n",
       "6 JCdc571d 131265716149         35550390                Vitals             \n",
       "7 JCdc571d 131265716149         35550390                Vitals             \n",
       "8 JCdc571d 131265716149         35550390                Custom Formula Data\n",
       "9 JCdc571d 131265716149         35550390                Vitals             \n",
       "  features units recorded_time             num_value1 num_value2\n",
       "1 Pulse          2019-03-10 10:00:00+00:00 110.0      NA        \n",
       "2 Pulse          2019-03-10 10:00:00+00:00 105.0      NA        \n",
       "3 RR             2019-03-10 10:00:00+00:00  32.0      NA        \n",
       "4 RR             2019-03-10 10:00:00+00:00  26.0      NA        \n",
       "5 SBP            2019-03-10 10:00:00+00:00 128.0      71        \n",
       "6 SBP            2019-03-10 10:00:00+00:00 121.0      63        \n",
       "7 Temp           2019-03-10 10:00:00+00:00  97.7      NA        \n",
       "8 Temp           2019-03-10 10:00:00+00:00  36.4      NA        \n",
       "9 Temp           2019-03-10 10:00:00+00:00  97.6      NA        "
      ]
     },
     "metadata": {},
     "output_type": "display_data"
    }
   ],
   "source": [
    "# check BP and other features, note that RR seems to be quite different, maybe take average is better\n",
    "vitals %>% filter(pat_enc_csn_id_coded == 131265716149, recorded_time == '2019-03-10 10:00:00+00:00') %>%\n",
    "        arrange(features)"
   ]
  },
  {
   "cell_type": "code",
   "execution_count": 108,
   "metadata": {},
   "outputs": [
    {
     "data": {
      "text/html": [
       "801954"
      ],
      "text/latex": [
       "801954"
      ],
      "text/markdown": [
       "801954"
      ],
      "text/plain": [
       "[1] 801954"
      ]
     },
     "metadata": {},
     "output_type": "display_data"
    },
    {
     "name": "stdout",
     "output_type": "stream",
     "text": [
      "[1] \"Pulse\"\n",
      "   Min. 1st Qu.  Median    Mean 3rd Qu.    Max.    NA's \n",
      "   0.00   73.00   87.00   88.72  102.00  300.00     590 \n",
      "[1] \"RR\"\n",
      "   Min. 1st Qu.  Median    Mean 3rd Qu.    Max.    NA's \n",
      "   0.00   16.00   18.00   19.24   21.00  189.00     566 \n"
     ]
    },
    {
     "data": {
      "image/png": "[encoded data removed]",
      "text/plain": [
       "Plot with title \"Pulse\""
      ]
     },
     "metadata": {
      "image/png": {
       "height": 420,
       "width": 420
      }
     },
     "output_type": "display_data"
    },
    {
     "name": "stdout",
     "output_type": "stream",
     "text": [
      "[1] \"SBP\"\n",
      "   Min. 1st Qu.  Median    Mean 3rd Qu.    Max.    NA's \n",
      "      0     111     127     129     145     419     982 \n"
     ]
    },
    {
     "data": {
      "image/png": "[encoded data removed]",
      "text/plain": [
       "Plot with title \"RR\""
      ]
     },
     "metadata": {
      "image/png": {
       "height": 420,
       "width": 420
      }
     },
     "output_type": "display_data"
    },
    {
     "name": "stdout",
     "output_type": "stream",
     "text": [
      "[1] \"Temp\"\n",
      "   Min. 1st Qu.  Median    Mean 3rd Qu.    Max.    NA's \n",
      " -17.70   36.90   97.50   71.66   98.40  110.20     711 \n"
     ]
    },
    {
     "data": {
      "image/png": "[encoded data removed]",
      "text/plain": [
       "Plot with title \"SBP\""
      ]
     },
     "metadata": {
      "image/png": {
       "height": 420,
       "width": 420
      }
     },
     "output_type": "display_data"
    },
    {
     "data": {
      "image/png": "[encoded data removed]",
      "text/plain": [
       "Plot with title \"Temp\""
      ]
     },
     "metadata": {
      "image/png": {
       "height": 420,
       "width": 420
      }
     },
     "output_type": "display_data"
    }
   ],
   "source": [
    "# this set, we look at num_value1 only, no DBP\n",
    "# keep only variable in the list of VS, all use num_value1\n",
    "vitals <- vitals %>% filter(features %in% fs_feats) %>%\n",
    "                        select(-c(num_value2)) %>% rename(values=num_value1) %>% distinct()\n",
    "\n",
    "# check for distributions of these\n",
    "nrow(vitals) # 801954\n",
    "for (f in fs_feats){\n",
    "    print(f)\n",
    "    df = vitals %>% select(features, values) %>%  filter(features==f)\n",
    "    val = df$values\n",
    "    print(summary(val))\n",
    "    hist(val, main = f, breaks = 100)\n",
    "}"
   ]
  },
  {
   "cell_type": "markdown",
   "metadata": {},
   "source": [
    "### Explore SBP, Pulse, RR"
   ]
  },
  {
   "cell_type": "code",
   "execution_count": 71,
   "metadata": {},
   "outputs": [
    {
     "data": {
      "text/html": [
       "3"
      ],
      "text/latex": [
       "3"
      ],
      "text/markdown": [
       "3"
      ],
      "text/plain": [
       "[1] 3"
      ]
     },
     "metadata": {},
     "output_type": "display_data"
    },
    {
     "data": {
      "text/html": [
       "<table>\n",
       "<caption>A data.frame: 39 × 8</caption>\n",
       "<thead>\n",
       "\t<tr><th scope=col>anon_id</th><th scope=col>pat_enc_csn_id_coded</th><th scope=col>inpatient_data_id_coded</th><th scope=col>template</th><th scope=col>features</th><th scope=col>units</th><th scope=col>recorded_time</th><th scope=col>values</th></tr>\n",
       "\t<tr><th scope=col>&lt;chr&gt;</th><th scope=col>&lt;dbl&gt;</th><th scope=col>&lt;int&gt;</th><th scope=col>&lt;chr&gt;</th><th scope=col>&lt;chr&gt;</th><th scope=col>&lt;chr&gt;</th><th scope=col>&lt;chr&gt;</th><th scope=col>&lt;dbl&gt;</th></tr>\n",
       "</thead>\n",
       "<tbody>\n",
       "\t<tr><td>JC2a1a193</td><td>131274427714</td><td>40485010</td><td>Hemodynamic Measurements</td><td>SBP</td><td></td><td>2019-08-24 20:31:04+00:00</td><td>  0</td></tr>\n",
       "\t<tr><td>JCd40aa4 </td><td>131178765150</td><td>18643252</td><td>DATA VALIDATE           </td><td>SBP</td><td></td><td>2016-02-29 20:45:00+00:00</td><td> 33</td></tr>\n",
       "\t<tr><td>JCd40aa4 </td><td>131178765150</td><td>18643252</td><td>Vitals                  </td><td>SBP</td><td></td><td>2016-02-29 20:46:51+00:00</td><td> 33</td></tr>\n",
       "\t<tr><td>JCda2fe2 </td><td>131259025143</td><td>32709155</td><td>DATA VALIDATE           </td><td>SBP</td><td></td><td>2018-09-27 16:48:00+00:00</td><td> 35</td></tr>\n",
       "\t<tr><td>JCe04ae2 </td><td>131279230382</td><td>43521438</td><td>Vitals                  </td><td>SBP</td><td></td><td>2019-11-01 02:10:00+00:00</td><td> 37</td></tr>\n",
       "\t<tr><td>JCebdb33 </td><td>131281205434</td><td>44717893</td><td>Vitals                  </td><td>SBP</td><td></td><td>2019-12-04 06:45:00+00:00</td><td> 41</td></tr>\n",
       "\t<tr><td>JCe26657 </td><td>131275652065</td><td>41270371</td><td>ICU VS                  </td><td>SBP</td><td></td><td>2019-08-22 21:39:00+00:00</td><td> 41</td></tr>\n",
       "\t<tr><td>JCe24bea </td><td>131272371893</td><td>39164758</td><td>Vitals                  </td><td>SBP</td><td></td><td>2019-08-06 22:27:00+00:00</td><td> 44</td></tr>\n",
       "\t<tr><td>JCd5e08c </td><td>131251219481</td><td>30241173</td><td>Vitals                  </td><td>SBP</td><td></td><td>2018-05-09 20:00:00+00:00</td><td> 45</td></tr>\n",
       "\t<tr><td>JCdf0150 </td><td>131240332752</td><td>26798216</td><td>DATA VALIDATE           </td><td>SBP</td><td></td><td>2017-10-09 18:28:00+00:00</td><td> 45</td></tr>\n",
       "\t<tr><td>JCe65e02 </td><td>131248291497</td><td>29179065</td><td>Vitals                  </td><td>SBP</td><td></td><td>2018-03-31 00:55:00+00:00</td><td> 45</td></tr>\n",
       "\t<tr><td>JCe65e02 </td><td>131248291497</td><td>29179065</td><td>Vitals                  </td><td>SBP</td><td></td><td>2018-03-31 00:37:00+00:00</td><td> 45</td></tr>\n",
       "\t<tr><td>JCcdc119 </td><td>131260230045</td><td>33142433</td><td>Vitals                  </td><td>SBP</td><td></td><td>2018-11-01 22:35:00+00:00</td><td> 46</td></tr>\n",
       "\t<tr><td>JCe9caf8 </td><td>131246135837</td><td>28679073</td><td>Vitals                  </td><td>SBP</td><td></td><td>2018-03-03 00:35:00+00:00</td><td> 46</td></tr>\n",
       "\t<tr><td>JC2a26af5</td><td>131267538662</td><td>36753709</td><td>Vitals                  </td><td>SBP</td><td></td><td>2019-05-19 06:36:17+00:00</td><td> 46</td></tr>\n",
       "\t<tr><td>JCd4bd12 </td><td>131082348253</td><td>14960046</td><td>Vitals                  </td><td>SBP</td><td></td><td>2015-03-31 00:20:00+00:00</td><td> 46</td></tr>\n",
       "\t<tr><td>JCd268e5 </td><td>131269206370</td><td>37917651</td><td>Vitals                  </td><td>SBP</td><td></td><td>2019-05-27 19:17:00+00:00</td><td> 47</td></tr>\n",
       "\t<tr><td>JCe334f5 </td><td>131258605721</td><td>32556087</td><td>Vitals                  </td><td>SBP</td><td></td><td>2018-10-25 06:45:00+00:00</td><td> 47</td></tr>\n",
       "\t<tr><td>JCe290dc </td><td>131255362799</td><td>31535582</td><td>Vitals                  </td><td>SBP</td><td></td><td>2018-07-11 07:27:00+00:00</td><td> 47</td></tr>\n",
       "\t<tr><td>JCd2eacf </td><td>131267801850</td><td>36928083</td><td>DATA VALIDATE           </td><td>SBP</td><td></td><td>2019-05-01 10:14:00+00:00</td><td> 47</td></tr>\n",
       "\t<tr><td>JCd2635a </td><td>131249543218</td><td>29609883</td><td>Vitals                  </td><td>SBP</td><td></td><td>2018-04-30 00:05:00+00:00</td><td> 47</td></tr>\n",
       "\t<tr><td>JCe1e4f8 </td><td>131194175380</td><td>20897314</td><td>Vitals                  </td><td>SBP</td><td></td><td>2016-08-27 16:45:00+00:00</td><td> 48</td></tr>\n",
       "\t<tr><td>JCdb1006 </td><td>131287325737</td><td>47708176</td><td>ICU VS                  </td><td>SBP</td><td></td><td>2020-03-20 20:15:00+00:00</td><td> 48</td></tr>\n",
       "\t<tr><td>JCe65e02 </td><td>131248291497</td><td>29179065</td><td>Vitals                  </td><td>SBP</td><td></td><td>2018-03-31 00:50:00+00:00</td><td> 48</td></tr>\n",
       "\t<tr><td>JCcf17f4 </td><td>131281488395</td><td>44892460</td><td>Vitals                  </td><td>SBP</td><td></td><td>2019-12-26 20:20:00+00:00</td><td> 48</td></tr>\n",
       "\t<tr><td>JCe0ac93 </td><td>131283990134</td><td>46459693</td><td>Vitals                  </td><td>SBP</td><td></td><td>2020-03-08 05:35:00+00:00</td><td> 48</td></tr>\n",
       "\t<tr><td>JC2a10d0b</td><td>131275274723</td><td>41023899</td><td>Vitals                  </td><td>SBP</td><td></td><td>2019-09-23 07:15:00+00:00</td><td> 48</td></tr>\n",
       "\t<tr><td>JCd1d1a5 </td><td>131249731566</td><td>29679448</td><td>Hemodynamic Measurements</td><td>SBP</td><td></td><td>2018-03-31 14:36:28+00:00</td><td> 49</td></tr>\n",
       "\t<tr><td>JCd97e25 </td><td>131262198353</td><td>33835199</td><td>Vitals                  </td><td>SBP</td><td></td><td>2019-01-05 00:15:00+00:00</td><td> 49</td></tr>\n",
       "\t<tr><td>JCda52e6 </td><td>131246070500</td><td>28670457</td><td>Vitals                  </td><td>SBP</td><td></td><td>2018-03-13 18:10:00+00:00</td><td> 49</td></tr>\n",
       "\t<tr><td>JCd8a0dd </td><td>131243731863</td><td>28036232</td><td>Vitals                  </td><td>SBP</td><td></td><td>2017-12-24 06:01:00+00:00</td><td> 49</td></tr>\n",
       "\t<tr><td>JCe5c8bd </td><td>131261560579</td><td>33618434</td><td>Vitals                  </td><td>SBP</td><td></td><td>2018-12-04 19:50:00+00:00</td><td> 49</td></tr>\n",
       "\t<tr><td>JCeb6df8 </td><td>131255151673</td><td>31462364</td><td>DATA VALIDATE           </td><td>SBP</td><td></td><td>2018-07-06 01:06:00+00:00</td><td> 49</td></tr>\n",
       "\t<tr><td>JCe75b8d </td><td>131222984635</td><td>23880586</td><td>Vitals                  </td><td>SBP</td><td></td><td>2017-03-15 20:10:00+00:00</td><td> 49</td></tr>\n",
       "\t<tr><td>JCd85b5c </td><td>131262137953</td><td>33814131</td><td>ICU VS                  </td><td>SBP</td><td></td><td>2018-12-17 18:01:00+00:00</td><td> 49</td></tr>\n",
       "\t<tr><td>JCe2ed1e </td><td>131253114883</td><td>30885830</td><td>ICU VS                  </td><td>SBP</td><td></td><td>2018-06-07 20:20:00+00:00</td><td> 49</td></tr>\n",
       "\t<tr><td>JCe31f7d </td><td>131106984780</td><td>16357293</td><td>Vitals                  </td><td>SBP</td><td></td><td>2015-07-24 13:10:00+00:00</td><td>301</td></tr>\n",
       "\t<tr><td>JC29fb16e</td><td>131265303327</td><td>35270016</td><td>Vitals                  </td><td>SBP</td><td></td><td>2019-03-19 04:50:00+00:00</td><td>355</td></tr>\n",
       "\t<tr><td>JCd4b902 </td><td>131231042129</td><td>24766500</td><td>Vitals                  </td><td>SBP</td><td></td><td>2017-05-30 19:58:00+00:00</td><td>419</td></tr>\n",
       "</tbody>\n",
       "</table>\n"
      ],
      "text/latex": [
       "A data.frame: 39 × 8\n",
       "\\begin{tabular}{llllllll}\n",
       " anon\\_id & pat\\_enc\\_csn\\_id\\_coded & inpatient\\_data\\_id\\_coded & template & features & units & recorded\\_time & values\\\\\n",
       " <chr> & <dbl> & <int> & <chr> & <chr> & <chr> & <chr> & <dbl>\\\\\n",
       "\\hline\n",
       "\t JC2a1a193 & 131274427714 & 40485010 & Hemodynamic Measurements & SBP &  & 2019-08-24 20:31:04+00:00 &   0\\\\\n",
       "\t JCd40aa4  & 131178765150 & 18643252 & DATA VALIDATE            & SBP &  & 2016-02-29 20:45:00+00:00 &  33\\\\\n",
       "\t JCd40aa4  & 131178765150 & 18643252 & Vitals                   & SBP &  & 2016-02-29 20:46:51+00:00 &  33\\\\\n",
       "\t JCda2fe2  & 131259025143 & 32709155 & DATA VALIDATE            & SBP &  & 2018-09-27 16:48:00+00:00 &  35\\\\\n",
       "\t JCe04ae2  & 131279230382 & 43521438 & Vitals                   & SBP &  & 2019-11-01 02:10:00+00:00 &  37\\\\\n",
       "\t JCebdb33  & 131281205434 & 44717893 & Vitals                   & SBP &  & 2019-12-04 06:45:00+00:00 &  41\\\\\n",
       "\t JCe26657  & 131275652065 & 41270371 & ICU VS                   & SBP &  & 2019-08-22 21:39:00+00:00 &  41\\\\\n",
       "\t JCe24bea  & 131272371893 & 39164758 & Vitals                   & SBP &  & 2019-08-06 22:27:00+00:00 &  44\\\\\n",
       "\t JCd5e08c  & 131251219481 & 30241173 & Vitals                   & SBP &  & 2018-05-09 20:00:00+00:00 &  45\\\\\n",
       "\t JCdf0150  & 131240332752 & 26798216 & DATA VALIDATE            & SBP &  & 2017-10-09 18:28:00+00:00 &  45\\\\\n",
       "\t JCe65e02  & 131248291497 & 29179065 & Vitals                   & SBP &  & 2018-03-31 00:55:00+00:00 &  45\\\\\n",
       "\t JCe65e02  & 131248291497 & 29179065 & Vitals                   & SBP &  & 2018-03-31 00:37:00+00:00 &  45\\\\\n",
       "\t JCcdc119  & 131260230045 & 33142433 & Vitals                   & SBP &  & 2018-11-01 22:35:00+00:00 &  46\\\\\n",
       "\t JCe9caf8  & 131246135837 & 28679073 & Vitals                   & SBP &  & 2018-03-03 00:35:00+00:00 &  46\\\\\n",
       "\t JC2a26af5 & 131267538662 & 36753709 & Vitals                   & SBP &  & 2019-05-19 06:36:17+00:00 &  46\\\\\n",
       "\t JCd4bd12  & 131082348253 & 14960046 & Vitals                   & SBP &  & 2015-03-31 00:20:00+00:00 &  46\\\\\n",
       "\t JCd268e5  & 131269206370 & 37917651 & Vitals                   & SBP &  & 2019-05-27 19:17:00+00:00 &  47\\\\\n",
       "\t JCe334f5  & 131258605721 & 32556087 & Vitals                   & SBP &  & 2018-10-25 06:45:00+00:00 &  47\\\\\n",
       "\t JCe290dc  & 131255362799 & 31535582 & Vitals                   & SBP &  & 2018-07-11 07:27:00+00:00 &  47\\\\\n",
       "\t JCd2eacf  & 131267801850 & 36928083 & DATA VALIDATE            & SBP &  & 2019-05-01 10:14:00+00:00 &  47\\\\\n",
       "\t JCd2635a  & 131249543218 & 29609883 & Vitals                   & SBP &  & 2018-04-30 00:05:00+00:00 &  47\\\\\n",
       "\t JCe1e4f8  & 131194175380 & 20897314 & Vitals                   & SBP &  & 2016-08-27 16:45:00+00:00 &  48\\\\\n",
       "\t JCdb1006  & 131287325737 & 47708176 & ICU VS                   & SBP &  & 2020-03-20 20:15:00+00:00 &  48\\\\\n",
       "\t JCe65e02  & 131248291497 & 29179065 & Vitals                   & SBP &  & 2018-03-31 00:50:00+00:00 &  48\\\\\n",
       "\t JCcf17f4  & 131281488395 & 44892460 & Vitals                   & SBP &  & 2019-12-26 20:20:00+00:00 &  48\\\\\n",
       "\t JCe0ac93  & 131283990134 & 46459693 & Vitals                   & SBP &  & 2020-03-08 05:35:00+00:00 &  48\\\\\n",
       "\t JC2a10d0b & 131275274723 & 41023899 & Vitals                   & SBP &  & 2019-09-23 07:15:00+00:00 &  48\\\\\n",
       "\t JCd1d1a5  & 131249731566 & 29679448 & Hemodynamic Measurements & SBP &  & 2018-03-31 14:36:28+00:00 &  49\\\\\n",
       "\t JCd97e25  & 131262198353 & 33835199 & Vitals                   & SBP &  & 2019-01-05 00:15:00+00:00 &  49\\\\\n",
       "\t JCda52e6  & 131246070500 & 28670457 & Vitals                   & SBP &  & 2018-03-13 18:10:00+00:00 &  49\\\\\n",
       "\t JCd8a0dd  & 131243731863 & 28036232 & Vitals                   & SBP &  & 2017-12-24 06:01:00+00:00 &  49\\\\\n",
       "\t JCe5c8bd  & 131261560579 & 33618434 & Vitals                   & SBP &  & 2018-12-04 19:50:00+00:00 &  49\\\\\n",
       "\t JCeb6df8  & 131255151673 & 31462364 & DATA VALIDATE            & SBP &  & 2018-07-06 01:06:00+00:00 &  49\\\\\n",
       "\t JCe75b8d  & 131222984635 & 23880586 & Vitals                   & SBP &  & 2017-03-15 20:10:00+00:00 &  49\\\\\n",
       "\t JCd85b5c  & 131262137953 & 33814131 & ICU VS                   & SBP &  & 2018-12-17 18:01:00+00:00 &  49\\\\\n",
       "\t JCe2ed1e  & 131253114883 & 30885830 & ICU VS                   & SBP &  & 2018-06-07 20:20:00+00:00 &  49\\\\\n",
       "\t JCe31f7d  & 131106984780 & 16357293 & Vitals                   & SBP &  & 2015-07-24 13:10:00+00:00 & 301\\\\\n",
       "\t JC29fb16e & 131265303327 & 35270016 & Vitals                   & SBP &  & 2019-03-19 04:50:00+00:00 & 355\\\\\n",
       "\t JCd4b902  & 131231042129 & 24766500 & Vitals                   & SBP &  & 2017-05-30 19:58:00+00:00 & 419\\\\\n",
       "\\end{tabular}\n"
      ],
      "text/markdown": [
       "\n",
       "A data.frame: 39 × 8\n",
       "\n",
       "| anon_id &lt;chr&gt; | pat_enc_csn_id_coded &lt;dbl&gt; | inpatient_data_id_coded &lt;int&gt; | template &lt;chr&gt; | features &lt;chr&gt; | units &lt;chr&gt; | recorded_time &lt;chr&gt; | values &lt;dbl&gt; |\n",
       "|---|---|---|---|---|---|---|---|\n",
       "| JC2a1a193 | 131274427714 | 40485010 | Hemodynamic Measurements | SBP | <!----> | 2019-08-24 20:31:04+00:00 |   0 |\n",
       "| JCd40aa4  | 131178765150 | 18643252 | DATA VALIDATE            | SBP | <!----> | 2016-02-29 20:45:00+00:00 |  33 |\n",
       "| JCd40aa4  | 131178765150 | 18643252 | Vitals                   | SBP | <!----> | 2016-02-29 20:46:51+00:00 |  33 |\n",
       "| JCda2fe2  | 131259025143 | 32709155 | DATA VALIDATE            | SBP | <!----> | 2018-09-27 16:48:00+00:00 |  35 |\n",
       "| JCe04ae2  | 131279230382 | 43521438 | Vitals                   | SBP | <!----> | 2019-11-01 02:10:00+00:00 |  37 |\n",
       "| JCebdb33  | 131281205434 | 44717893 | Vitals                   | SBP | <!----> | 2019-12-04 06:45:00+00:00 |  41 |\n",
       "| JCe26657  | 131275652065 | 41270371 | ICU VS                   | SBP | <!----> | 2019-08-22 21:39:00+00:00 |  41 |\n",
       "| JCe24bea  | 131272371893 | 39164758 | Vitals                   | SBP | <!----> | 2019-08-06 22:27:00+00:00 |  44 |\n",
       "| JCd5e08c  | 131251219481 | 30241173 | Vitals                   | SBP | <!----> | 2018-05-09 20:00:00+00:00 |  45 |\n",
       "| JCdf0150  | 131240332752 | 26798216 | DATA VALIDATE            | SBP | <!----> | 2017-10-09 18:28:00+00:00 |  45 |\n",
       "| JCe65e02  | 131248291497 | 29179065 | Vitals                   | SBP | <!----> | 2018-03-31 00:55:00+00:00 |  45 |\n",
       "| JCe65e02  | 131248291497 | 29179065 | Vitals                   | SBP | <!----> | 2018-03-31 00:37:00+00:00 |  45 |\n",
       "| JCcdc119  | 131260230045 | 33142433 | Vitals                   | SBP | <!----> | 2018-11-01 22:35:00+00:00 |  46 |\n",
       "| JCe9caf8  | 131246135837 | 28679073 | Vitals                   | SBP | <!----> | 2018-03-03 00:35:00+00:00 |  46 |\n",
       "| JC2a26af5 | 131267538662 | 36753709 | Vitals                   | SBP | <!----> | 2019-05-19 06:36:17+00:00 |  46 |\n",
       "| JCd4bd12  | 131082348253 | 14960046 | Vitals                   | SBP | <!----> | 2015-03-31 00:20:00+00:00 |  46 |\n",
       "| JCd268e5  | 131269206370 | 37917651 | Vitals                   | SBP | <!----> | 2019-05-27 19:17:00+00:00 |  47 |\n",
       "| JCe334f5  | 131258605721 | 32556087 | Vitals                   | SBP | <!----> | 2018-10-25 06:45:00+00:00 |  47 |\n",
       "| JCe290dc  | 131255362799 | 31535582 | Vitals                   | SBP | <!----> | 2018-07-11 07:27:00+00:00 |  47 |\n",
       "| JCd2eacf  | 131267801850 | 36928083 | DATA VALIDATE            | SBP | <!----> | 2019-05-01 10:14:00+00:00 |  47 |\n",
       "| JCd2635a  | 131249543218 | 29609883 | Vitals                   | SBP | <!----> | 2018-04-30 00:05:00+00:00 |  47 |\n",
       "| JCe1e4f8  | 131194175380 | 20897314 | Vitals                   | SBP | <!----> | 2016-08-27 16:45:00+00:00 |  48 |\n",
       "| JCdb1006  | 131287325737 | 47708176 | ICU VS                   | SBP | <!----> | 2020-03-20 20:15:00+00:00 |  48 |\n",
       "| JCe65e02  | 131248291497 | 29179065 | Vitals                   | SBP | <!----> | 2018-03-31 00:50:00+00:00 |  48 |\n",
       "| JCcf17f4  | 131281488395 | 44892460 | Vitals                   | SBP | <!----> | 2019-12-26 20:20:00+00:00 |  48 |\n",
       "| JCe0ac93  | 131283990134 | 46459693 | Vitals                   | SBP | <!----> | 2020-03-08 05:35:00+00:00 |  48 |\n",
       "| JC2a10d0b | 131275274723 | 41023899 | Vitals                   | SBP | <!----> | 2019-09-23 07:15:00+00:00 |  48 |\n",
       "| JCd1d1a5  | 131249731566 | 29679448 | Hemodynamic Measurements | SBP | <!----> | 2018-03-31 14:36:28+00:00 |  49 |\n",
       "| JCd97e25  | 131262198353 | 33835199 | Vitals                   | SBP | <!----> | 2019-01-05 00:15:00+00:00 |  49 |\n",
       "| JCda52e6  | 131246070500 | 28670457 | Vitals                   | SBP | <!----> | 2018-03-13 18:10:00+00:00 |  49 |\n",
       "| JCd8a0dd  | 131243731863 | 28036232 | Vitals                   | SBP | <!----> | 2017-12-24 06:01:00+00:00 |  49 |\n",
       "| JCe5c8bd  | 131261560579 | 33618434 | Vitals                   | SBP | <!----> | 2018-12-04 19:50:00+00:00 |  49 |\n",
       "| JCeb6df8  | 131255151673 | 31462364 | DATA VALIDATE            | SBP | <!----> | 2018-07-06 01:06:00+00:00 |  49 |\n",
       "| JCe75b8d  | 131222984635 | 23880586 | Vitals                   | SBP | <!----> | 2017-03-15 20:10:00+00:00 |  49 |\n",
       "| JCd85b5c  | 131262137953 | 33814131 | ICU VS                   | SBP | <!----> | 2018-12-17 18:01:00+00:00 |  49 |\n",
       "| JCe2ed1e  | 131253114883 | 30885830 | ICU VS                   | SBP | <!----> | 2018-06-07 20:20:00+00:00 |  49 |\n",
       "| JCe31f7d  | 131106984780 | 16357293 | Vitals                   | SBP | <!----> | 2015-07-24 13:10:00+00:00 | 301 |\n",
       "| JC29fb16e | 131265303327 | 35270016 | Vitals                   | SBP | <!----> | 2019-03-19 04:50:00+00:00 | 355 |\n",
       "| JCd4b902  | 131231042129 | 24766500 | Vitals                   | SBP | <!----> | 2017-05-30 19:58:00+00:00 | 419 |\n",
       "\n"
      ],
      "text/plain": [
       "   anon_id   pat_enc_csn_id_coded inpatient_data_id_coded\n",
       "1  JC2a1a193 131274427714         40485010               \n",
       "2  JCd40aa4  131178765150         18643252               \n",
       "3  JCd40aa4  131178765150         18643252               \n",
       "4  JCda2fe2  131259025143         32709155               \n",
       "5  JCe04ae2  131279230382         43521438               \n",
       "6  JCebdb33  131281205434         44717893               \n",
       "7  JCe26657  131275652065         41270371               \n",
       "8  JCe24bea  131272371893         39164758               \n",
       "9  JCd5e08c  131251219481         30241173               \n",
       "10 JCdf0150  131240332752         26798216               \n",
       "11 JCe65e02  131248291497         29179065               \n",
       "12 JCe65e02  131248291497         29179065               \n",
       "13 JCcdc119  131260230045         33142433               \n",
       "14 JCe9caf8  131246135837         28679073               \n",
       "15 JC2a26af5 131267538662         36753709               \n",
       "16 JCd4bd12  131082348253         14960046               \n",
       "17 JCd268e5  131269206370         37917651               \n",
       "18 JCe334f5  131258605721         32556087               \n",
       "19 JCe290dc  131255362799         31535582               \n",
       "20 JCd2eacf  131267801850         36928083               \n",
       "21 JCd2635a  131249543218         29609883               \n",
       "22 JCe1e4f8  131194175380         20897314               \n",
       "23 JCdb1006  131287325737         47708176               \n",
       "24 JCe65e02  131248291497         29179065               \n",
       "25 JCcf17f4  131281488395         44892460               \n",
       "26 JCe0ac93  131283990134         46459693               \n",
       "27 JC2a10d0b 131275274723         41023899               \n",
       "28 JCd1d1a5  131249731566         29679448               \n",
       "29 JCd97e25  131262198353         33835199               \n",
       "30 JCda52e6  131246070500         28670457               \n",
       "31 JCd8a0dd  131243731863         28036232               \n",
       "32 JCe5c8bd  131261560579         33618434               \n",
       "33 JCeb6df8  131255151673         31462364               \n",
       "34 JCe75b8d  131222984635         23880586               \n",
       "35 JCd85b5c  131262137953         33814131               \n",
       "36 JCe2ed1e  131253114883         30885830               \n",
       "37 JCe31f7d  131106984780         16357293               \n",
       "38 JC29fb16e 131265303327         35270016               \n",
       "39 JCd4b902  131231042129         24766500               \n",
       "   template                 features units recorded_time             values\n",
       "1  Hemodynamic Measurements SBP            2019-08-24 20:31:04+00:00   0   \n",
       "2  DATA VALIDATE            SBP            2016-02-29 20:45:00+00:00  33   \n",
       "3  Vitals                   SBP            2016-02-29 20:46:51+00:00  33   \n",
       "4  DATA VALIDATE            SBP            2018-09-27 16:48:00+00:00  35   \n",
       "5  Vitals                   SBP            2019-11-01 02:10:00+00:00  37   \n",
       "6  Vitals                   SBP            2019-12-04 06:45:00+00:00  41   \n",
       "7  ICU VS                   SBP            2019-08-22 21:39:00+00:00  41   \n",
       "8  Vitals                   SBP            2019-08-06 22:27:00+00:00  44   \n",
       "9  Vitals                   SBP            2018-05-09 20:00:00+00:00  45   \n",
       "10 DATA VALIDATE            SBP            2017-10-09 18:28:00+00:00  45   \n",
       "11 Vitals                   SBP            2018-03-31 00:55:00+00:00  45   \n",
       "12 Vitals                   SBP            2018-03-31 00:37:00+00:00  45   \n",
       "13 Vitals                   SBP            2018-11-01 22:35:00+00:00  46   \n",
       "14 Vitals                   SBP            2018-03-03 00:35:00+00:00  46   \n",
       "15 Vitals                   SBP            2019-05-19 06:36:17+00:00  46   \n",
       "16 Vitals                   SBP            2015-03-31 00:20:00+00:00  46   \n",
       "17 Vitals                   SBP            2019-05-27 19:17:00+00:00  47   \n",
       "18 Vitals                   SBP            2018-10-25 06:45:00+00:00  47   \n",
       "19 Vitals                   SBP            2018-07-11 07:27:00+00:00  47   \n",
       "20 DATA VALIDATE            SBP            2019-05-01 10:14:00+00:00  47   \n",
       "21 Vitals                   SBP            2018-04-30 00:05:00+00:00  47   \n",
       "22 Vitals                   SBP            2016-08-27 16:45:00+00:00  48   \n",
       "23 ICU VS                   SBP            2020-03-20 20:15:00+00:00  48   \n",
       "24 Vitals                   SBP            2018-03-31 00:50:00+00:00  48   \n",
       "25 Vitals                   SBP            2019-12-26 20:20:00+00:00  48   \n",
       "26 Vitals                   SBP            2020-03-08 05:35:00+00:00  48   \n",
       "27 Vitals                   SBP            2019-09-23 07:15:00+00:00  48   \n",
       "28 Hemodynamic Measurements SBP            2018-03-31 14:36:28+00:00  49   \n",
       "29 Vitals                   SBP            2019-01-05 00:15:00+00:00  49   \n",
       "30 Vitals                   SBP            2018-03-13 18:10:00+00:00  49   \n",
       "31 Vitals                   SBP            2017-12-24 06:01:00+00:00  49   \n",
       "32 Vitals                   SBP            2018-12-04 19:50:00+00:00  49   \n",
       "33 DATA VALIDATE            SBP            2018-07-06 01:06:00+00:00  49   \n",
       "34 Vitals                   SBP            2017-03-15 20:10:00+00:00  49   \n",
       "35 ICU VS                   SBP            2018-12-17 18:01:00+00:00  49   \n",
       "36 ICU VS                   SBP            2018-06-07 20:20:00+00:00  49   \n",
       "37 Vitals                   SBP            2015-07-24 13:10:00+00:00 301   \n",
       "38 Vitals                   SBP            2019-03-19 04:50:00+00:00 355   \n",
       "39 Vitals                   SBP            2017-05-30 19:58:00+00:00 419   "
      ]
     },
     "metadata": {},
     "output_type": "display_data"
    },
    {
     "data": {
      "image/png": "[encoded data removed]",
      "text/plain": [
       "Plot with title \"Histogram of df[df$values > 250, ]$values\""
      ]
     },
     "metadata": {
      "image/png": {
       "height": 420,
       "width": 420
      }
     },
     "output_type": "display_data"
    },
    {
     "data": {
      "image/png": "[encoded data removed]",
      "text/plain": [
       "Plot with title \"Histogram of df[df$values < 50, ]$values\""
      ]
     },
     "metadata": {
      "image/png": {
       "height": 420,
       "width": 420
      }
     },
     "output_type": "display_data"
    }
   ],
   "source": [
    "df <- vitals %>% filter(features == \"SBP\")\n",
    "nrow(filter(df, values > 310 | values <33))\n",
    "\n",
    "vitals %>% filter(features == 'SBP' & (values > 300 | values < 50)) %>% arrange(values)\n",
    "\n",
    "hist(df[df$values > 250,]$values, breaks=100)\n",
    "hist(df[df$values < 50,]$values, breaks = 50)"
   ]
  },
  {
   "cell_type": "code",
   "execution_count": 73,
   "metadata": {},
   "outputs": [
    {
     "data": {
      "text/html": [
       "44"
      ],
      "text/latex": [
       "44"
      ],
      "text/markdown": [
       "44"
      ],
      "text/plain": [
       "[1] 44"
      ]
     },
     "metadata": {},
     "output_type": "display_data"
    },
    {
     "data": {
      "text/html": [
       "<table>\n",
       "<caption>A data.frame: 44 × 8</caption>\n",
       "<thead>\n",
       "\t<tr><th scope=col>anon_id</th><th scope=col>pat_enc_csn_id_coded</th><th scope=col>inpatient_data_id_coded</th><th scope=col>template</th><th scope=col>features</th><th scope=col>units</th><th scope=col>recorded_time</th><th scope=col>values</th></tr>\n",
       "\t<tr><th scope=col>&lt;chr&gt;</th><th scope=col>&lt;dbl&gt;</th><th scope=col>&lt;int&gt;</th><th scope=col>&lt;chr&gt;</th><th scope=col>&lt;chr&gt;</th><th scope=col>&lt;chr&gt;</th><th scope=col>&lt;chr&gt;</th><th scope=col>&lt;dbl&gt;</th></tr>\n",
       "</thead>\n",
       "<tbody>\n",
       "\t<tr><td>JCe72d41 </td><td>131183649862</td><td>19383309</td><td>Vitals/Interventions</td><td>Pulse</td><td></td><td>2016-03-18 06:19:00+00:00</td><td>  0</td></tr>\n",
       "\t<tr><td>JCe72d41 </td><td>131183649862</td><td>19383309</td><td>Vitals/Interventions</td><td>Pulse</td><td></td><td>2016-03-18 06:21:00+00:00</td><td>  0</td></tr>\n",
       "\t<tr><td>JCcb8151 </td><td>131185153421</td><td>19616256</td><td>ICU VS              </td><td>Pulse</td><td></td><td>2016-04-21 07:46:00+00:00</td><td>  0</td></tr>\n",
       "\t<tr><td>JCe72d41 </td><td>131183649862</td><td>19383309</td><td>Vitals/Interventions</td><td>Pulse</td><td></td><td>2016-03-18 06:23:00+00:00</td><td>  0</td></tr>\n",
       "\t<tr><td>JCe72d41 </td><td>131183649862</td><td>19383309</td><td>Vitals/Interventions</td><td>Pulse</td><td></td><td>2016-03-18 06:25:00+00:00</td><td>  0</td></tr>\n",
       "\t<tr><td>JCe72d41 </td><td>131183649862</td><td>19383309</td><td>Vitals/Interventions</td><td>Pulse</td><td></td><td>2016-03-18 06:27:00+00:00</td><td>  0</td></tr>\n",
       "\t<tr><td>JCe72d41 </td><td>131183649862</td><td>19383309</td><td>Vitals/Interventions</td><td>Pulse</td><td></td><td>2016-03-18 06:16:00+00:00</td><td>  0</td></tr>\n",
       "\t<tr><td>JCe72d41 </td><td>131183649862</td><td>19383309</td><td>Vitals/Interventions</td><td>Pulse</td><td></td><td>2016-03-18 06:29:00+00:00</td><td>  0</td></tr>\n",
       "\t<tr><td>JCd8be4c </td><td>131275284311</td><td>41032910</td><td>M/S VS              </td><td>Pulse</td><td></td><td>2019-08-17 08:01:00+00:00</td><td>  3</td></tr>\n",
       "\t<tr><td>JCdb3e8d </td><td>131249091634</td><td>29445672</td><td>Vitals              </td><td>Pulse</td><td></td><td>2018-04-11 02:35:00+00:00</td><td>  4</td></tr>\n",
       "\t<tr><td>JCdddc50 </td><td>131244225995</td><td>28221085</td><td>Vitals              </td><td>Pulse</td><td></td><td>2018-02-06 00:45:00+00:00</td><td>  6</td></tr>\n",
       "\t<tr><td>JCe125dc </td><td>131199958618</td><td>21563822</td><td>Vitals              </td><td>Pulse</td><td></td><td>2016-10-11 19:16:36+00:00</td><td>  8</td></tr>\n",
       "\t<tr><td>JCe21d56 </td><td>131229395416</td><td>24565022</td><td>Vitals              </td><td>Pulse</td><td></td><td>2017-05-04 00:43:00+00:00</td><td>  8</td></tr>\n",
       "\t<tr><td>JCd21aca </td><td>131124315213</td><td>16890682</td><td>Vitals              </td><td>Pulse</td><td></td><td>2015-09-03 07:09:00+00:00</td><td>  9</td></tr>\n",
       "\t<tr><td>JCe95ab9 </td><td>131097575073</td><td>16086652</td><td>Vitals              </td><td>Pulse</td><td></td><td>2015-07-21 01:14:00+00:00</td><td> 10</td></tr>\n",
       "\t<tr><td>JCe418a5 </td><td>131194351824</td><td>20923027</td><td>Vitals From Sheet   </td><td>Pulse</td><td></td><td>2016-09-10 21:32:57+00:00</td><td> 10</td></tr>\n",
       "\t<tr><td>JCcc4144 </td><td>131210894426</td><td>22650507</td><td>Vitals              </td><td>Pulse</td><td></td><td>2017-01-12 20:00:00+00:00</td><td> 12</td></tr>\n",
       "\t<tr><td>JCe1eb9a </td><td>131181151153</td><td>19009004</td><td>Vitals              </td><td>Pulse</td><td></td><td>2016-02-27 00:28:00+00:00</td><td> 13</td></tr>\n",
       "\t<tr><td>JCe2e023 </td><td>131239533997</td><td>26498995</td><td>Vitals              </td><td>Pulse</td><td></td><td>2017-10-12 15:31:00+00:00</td><td> 14</td></tr>\n",
       "\t<tr><td>JCccf909 </td><td>131066595640</td><td>14107857</td><td>Vitals              </td><td>Pulse</td><td></td><td>2015-02-05 06:27:00+00:00</td><td> 16</td></tr>\n",
       "\t<tr><td>JCd5905e </td><td>131166114854</td><td>17968480</td><td>Vitals              </td><td>Pulse</td><td></td><td>2016-01-07 20:30:00+00:00</td><td> 16</td></tr>\n",
       "\t<tr><td>JCe17afe </td><td>131179282087</td><td>18728689</td><td>Vitals From Sheet   </td><td>Pulse</td><td></td><td>2016-03-19 18:44:48+00:00</td><td> 16</td></tr>\n",
       "\t<tr><td>JCd0c6fe </td><td>131255101155</td><td>31442848</td><td>Vitals              </td><td>Pulse</td><td></td><td>2018-08-29 07:44:00+00:00</td><td> 17</td></tr>\n",
       "\t<tr><td>JCd53581 </td><td>131261636508</td><td>33641512</td><td>Vitals              </td><td>Pulse</td><td></td><td>2019-01-22 15:01:00+00:00</td><td> 18</td></tr>\n",
       "\t<tr><td>JCd69db3 </td><td>131108039994</td><td>16402875</td><td>Mod Sedation        </td><td>Pulse</td><td></td><td>2015-08-29 12:35:00+00:00</td><td> 18</td></tr>\n",
       "\t<tr><td>JCce19de </td><td>131082470950</td><td>14974719</td><td>M/S VS              </td><td>Pulse</td><td></td><td>2015-04-26 12:00:00+00:00</td><td> 18</td></tr>\n",
       "\t<tr><td>JCcc0b51 </td><td>131087329773</td><td>15400588</td><td>Vitals              </td><td>Pulse</td><td></td><td>2015-06-06 23:26:00+00:00</td><td> 18</td></tr>\n",
       "\t<tr><td>JCceda35 </td><td>131102300379</td><td>16163489</td><td>Vitals              </td><td>Pulse</td><td></td><td>2015-08-10 22:27:00+00:00</td><td> 18</td></tr>\n",
       "\t<tr><td>JCe0019e </td><td>131157353933</td><td>17701090</td><td>Vitals              </td><td>Pulse</td><td></td><td>2016-01-06 01:05:00+00:00</td><td> 18</td></tr>\n",
       "\t<tr><td>JCe37754 </td><td>131178102591</td><td>18555783</td><td>Vitals              </td><td>Pulse</td><td></td><td>2016-02-27 04:48:00+00:00</td><td> 19</td></tr>\n",
       "\t<tr><td>JCdd7807 </td><td>131261416155</td><td>33567799</td><td>Vitals              </td><td>Pulse</td><td></td><td>2018-11-21 19:05:00+00:00</td><td> 20</td></tr>\n",
       "\t<tr><td>JCd43a54 </td><td>131130147849</td><td>17122509</td><td>Vitals              </td><td>Pulse</td><td></td><td>2015-10-10 07:42:00+00:00</td><td> 20</td></tr>\n",
       "\t<tr><td>JCce4162 </td><td>131074325337</td><td>14519992</td><td>Vitals              </td><td>Pulse</td><td></td><td>2015-01-30 02:53:00+00:00</td><td> 20</td></tr>\n",
       "\t<tr><td>JCdbd608 </td><td>131175860840</td><td>18259925</td><td>Vitals              </td><td>Pulse</td><td></td><td>2016-01-28 11:50:00+00:00</td><td> 21</td></tr>\n",
       "\t<tr><td>JCe488bb </td><td>131278084766</td><td>42859737</td><td>Vitals              </td><td>Pulse</td><td></td><td>2019-10-19 20:50:00+00:00</td><td> 21</td></tr>\n",
       "\t<tr><td>JCe488bb </td><td>131278084766</td><td>42859737</td><td>Vitals              </td><td>Pulse</td><td></td><td>2019-10-19 20:54:00+00:00</td><td> 23</td></tr>\n",
       "\t<tr><td>JCe24bea </td><td>131272371893</td><td>39164758</td><td>Vitals              </td><td>Pulse</td><td></td><td>2019-08-06 22:10:00+00:00</td><td> 24</td></tr>\n",
       "\t<tr><td>JCcd3b9d </td><td>131267453587</td><td>36698857</td><td>M/S VS              </td><td>Pulse</td><td></td><td>2019-04-06 21:56:00+00:00</td><td> 24</td></tr>\n",
       "\t<tr><td>JCce2ca8 </td><td>131258171527</td><td>32401742</td><td>ICU VS              </td><td>Pulse</td><td></td><td>2018-09-19 21:01:00+00:00</td><td> 24</td></tr>\n",
       "\t<tr><td>JCe41bc3 </td><td>131257487654</td><td>32165701</td><td>Vitals              </td><td>Pulse</td><td></td><td>2018-08-20 21:30:00+00:00</td><td> 24</td></tr>\n",
       "\t<tr><td>JCd7ee7f </td><td>131120992968</td><td>16804154</td><td>Vitals              </td><td>Pulse</td><td></td><td>2015-08-30 08:10:00+00:00</td><td>256</td></tr>\n",
       "\t<tr><td>JCd65661 </td><td>131212168136</td><td>22797839</td><td>DATA VALIDATE       </td><td>Pulse</td><td></td><td>2017-02-03 00:36:00+00:00</td><td>272</td></tr>\n",
       "\t<tr><td>JCe4ac0d </td><td>131252115231</td><td>30564703</td><td>Vitals              </td><td>Pulse</td><td></td><td>2018-05-21 18:30:00+00:00</td><td>273</td></tr>\n",
       "\t<tr><td>JC2a1b3e1</td><td>131259990774</td><td>33054859</td><td>Vitals              </td><td>Pulse</td><td></td><td>2018-10-25 15:07:50+00:00</td><td>300</td></tr>\n",
       "</tbody>\n",
       "</table>\n"
      ],
      "text/latex": [
       "A data.frame: 44 × 8\n",
       "\\begin{tabular}{llllllll}\n",
       " anon\\_id & pat\\_enc\\_csn\\_id\\_coded & inpatient\\_data\\_id\\_coded & template & features & units & recorded\\_time & values\\\\\n",
       " <chr> & <dbl> & <int> & <chr> & <chr> & <chr> & <chr> & <dbl>\\\\\n",
       "\\hline\n",
       "\t JCe72d41  & 131183649862 & 19383309 & Vitals/Interventions & Pulse &  & 2016-03-18 06:19:00+00:00 &   0\\\\\n",
       "\t JCe72d41  & 131183649862 & 19383309 & Vitals/Interventions & Pulse &  & 2016-03-18 06:21:00+00:00 &   0\\\\\n",
       "\t JCcb8151  & 131185153421 & 19616256 & ICU VS               & Pulse &  & 2016-04-21 07:46:00+00:00 &   0\\\\\n",
       "\t JCe72d41  & 131183649862 & 19383309 & Vitals/Interventions & Pulse &  & 2016-03-18 06:23:00+00:00 &   0\\\\\n",
       "\t JCe72d41  & 131183649862 & 19383309 & Vitals/Interventions & Pulse &  & 2016-03-18 06:25:00+00:00 &   0\\\\\n",
       "\t JCe72d41  & 131183649862 & 19383309 & Vitals/Interventions & Pulse &  & 2016-03-18 06:27:00+00:00 &   0\\\\\n",
       "\t JCe72d41  & 131183649862 & 19383309 & Vitals/Interventions & Pulse &  & 2016-03-18 06:16:00+00:00 &   0\\\\\n",
       "\t JCe72d41  & 131183649862 & 19383309 & Vitals/Interventions & Pulse &  & 2016-03-18 06:29:00+00:00 &   0\\\\\n",
       "\t JCd8be4c  & 131275284311 & 41032910 & M/S VS               & Pulse &  & 2019-08-17 08:01:00+00:00 &   3\\\\\n",
       "\t JCdb3e8d  & 131249091634 & 29445672 & Vitals               & Pulse &  & 2018-04-11 02:35:00+00:00 &   4\\\\\n",
       "\t JCdddc50  & 131244225995 & 28221085 & Vitals               & Pulse &  & 2018-02-06 00:45:00+00:00 &   6\\\\\n",
       "\t JCe125dc  & 131199958618 & 21563822 & Vitals               & Pulse &  & 2016-10-11 19:16:36+00:00 &   8\\\\\n",
       "\t JCe21d56  & 131229395416 & 24565022 & Vitals               & Pulse &  & 2017-05-04 00:43:00+00:00 &   8\\\\\n",
       "\t JCd21aca  & 131124315213 & 16890682 & Vitals               & Pulse &  & 2015-09-03 07:09:00+00:00 &   9\\\\\n",
       "\t JCe95ab9  & 131097575073 & 16086652 & Vitals               & Pulse &  & 2015-07-21 01:14:00+00:00 &  10\\\\\n",
       "\t JCe418a5  & 131194351824 & 20923027 & Vitals From Sheet    & Pulse &  & 2016-09-10 21:32:57+00:00 &  10\\\\\n",
       "\t JCcc4144  & 131210894426 & 22650507 & Vitals               & Pulse &  & 2017-01-12 20:00:00+00:00 &  12\\\\\n",
       "\t JCe1eb9a  & 131181151153 & 19009004 & Vitals               & Pulse &  & 2016-02-27 00:28:00+00:00 &  13\\\\\n",
       "\t JCe2e023  & 131239533997 & 26498995 & Vitals               & Pulse &  & 2017-10-12 15:31:00+00:00 &  14\\\\\n",
       "\t JCccf909  & 131066595640 & 14107857 & Vitals               & Pulse &  & 2015-02-05 06:27:00+00:00 &  16\\\\\n",
       "\t JCd5905e  & 131166114854 & 17968480 & Vitals               & Pulse &  & 2016-01-07 20:30:00+00:00 &  16\\\\\n",
       "\t JCe17afe  & 131179282087 & 18728689 & Vitals From Sheet    & Pulse &  & 2016-03-19 18:44:48+00:00 &  16\\\\\n",
       "\t JCd0c6fe  & 131255101155 & 31442848 & Vitals               & Pulse &  & 2018-08-29 07:44:00+00:00 &  17\\\\\n",
       "\t JCd53581  & 131261636508 & 33641512 & Vitals               & Pulse &  & 2019-01-22 15:01:00+00:00 &  18\\\\\n",
       "\t JCd69db3  & 131108039994 & 16402875 & Mod Sedation         & Pulse &  & 2015-08-29 12:35:00+00:00 &  18\\\\\n",
       "\t JCce19de  & 131082470950 & 14974719 & M/S VS               & Pulse &  & 2015-04-26 12:00:00+00:00 &  18\\\\\n",
       "\t JCcc0b51  & 131087329773 & 15400588 & Vitals               & Pulse &  & 2015-06-06 23:26:00+00:00 &  18\\\\\n",
       "\t JCceda35  & 131102300379 & 16163489 & Vitals               & Pulse &  & 2015-08-10 22:27:00+00:00 &  18\\\\\n",
       "\t JCe0019e  & 131157353933 & 17701090 & Vitals               & Pulse &  & 2016-01-06 01:05:00+00:00 &  18\\\\\n",
       "\t JCe37754  & 131178102591 & 18555783 & Vitals               & Pulse &  & 2016-02-27 04:48:00+00:00 &  19\\\\\n",
       "\t JCdd7807  & 131261416155 & 33567799 & Vitals               & Pulse &  & 2018-11-21 19:05:00+00:00 &  20\\\\\n",
       "\t JCd43a54  & 131130147849 & 17122509 & Vitals               & Pulse &  & 2015-10-10 07:42:00+00:00 &  20\\\\\n",
       "\t JCce4162  & 131074325337 & 14519992 & Vitals               & Pulse &  & 2015-01-30 02:53:00+00:00 &  20\\\\\n",
       "\t JCdbd608  & 131175860840 & 18259925 & Vitals               & Pulse &  & 2016-01-28 11:50:00+00:00 &  21\\\\\n",
       "\t JCe488bb  & 131278084766 & 42859737 & Vitals               & Pulse &  & 2019-10-19 20:50:00+00:00 &  21\\\\\n",
       "\t JCe488bb  & 131278084766 & 42859737 & Vitals               & Pulse &  & 2019-10-19 20:54:00+00:00 &  23\\\\\n",
       "\t JCe24bea  & 131272371893 & 39164758 & Vitals               & Pulse &  & 2019-08-06 22:10:00+00:00 &  24\\\\\n",
       "\t JCcd3b9d  & 131267453587 & 36698857 & M/S VS               & Pulse &  & 2019-04-06 21:56:00+00:00 &  24\\\\\n",
       "\t JCce2ca8  & 131258171527 & 32401742 & ICU VS               & Pulse &  & 2018-09-19 21:01:00+00:00 &  24\\\\\n",
       "\t JCe41bc3  & 131257487654 & 32165701 & Vitals               & Pulse &  & 2018-08-20 21:30:00+00:00 &  24\\\\\n",
       "\t JCd7ee7f  & 131120992968 & 16804154 & Vitals               & Pulse &  & 2015-08-30 08:10:00+00:00 & 256\\\\\n",
       "\t JCd65661  & 131212168136 & 22797839 & DATA VALIDATE        & Pulse &  & 2017-02-03 00:36:00+00:00 & 272\\\\\n",
       "\t JCe4ac0d  & 131252115231 & 30564703 & Vitals               & Pulse &  & 2018-05-21 18:30:00+00:00 & 273\\\\\n",
       "\t JC2a1b3e1 & 131259990774 & 33054859 & Vitals               & Pulse &  & 2018-10-25 15:07:50+00:00 & 300\\\\\n",
       "\\end{tabular}\n"
      ],
      "text/markdown": [
       "\n",
       "A data.frame: 44 × 8\n",
       "\n",
       "| anon_id &lt;chr&gt; | pat_enc_csn_id_coded &lt;dbl&gt; | inpatient_data_id_coded &lt;int&gt; | template &lt;chr&gt; | features &lt;chr&gt; | units &lt;chr&gt; | recorded_time &lt;chr&gt; | values &lt;dbl&gt; |\n",
       "|---|---|---|---|---|---|---|---|\n",
       "| JCe72d41  | 131183649862 | 19383309 | Vitals/Interventions | Pulse | <!----> | 2016-03-18 06:19:00+00:00 |   0 |\n",
       "| JCe72d41  | 131183649862 | 19383309 | Vitals/Interventions | Pulse | <!----> | 2016-03-18 06:21:00+00:00 |   0 |\n",
       "| JCcb8151  | 131185153421 | 19616256 | ICU VS               | Pulse | <!----> | 2016-04-21 07:46:00+00:00 |   0 |\n",
       "| JCe72d41  | 131183649862 | 19383309 | Vitals/Interventions | Pulse | <!----> | 2016-03-18 06:23:00+00:00 |   0 |\n",
       "| JCe72d41  | 131183649862 | 19383309 | Vitals/Interventions | Pulse | <!----> | 2016-03-18 06:25:00+00:00 |   0 |\n",
       "| JCe72d41  | 131183649862 | 19383309 | Vitals/Interventions | Pulse | <!----> | 2016-03-18 06:27:00+00:00 |   0 |\n",
       "| JCe72d41  | 131183649862 | 19383309 | Vitals/Interventions | Pulse | <!----> | 2016-03-18 06:16:00+00:00 |   0 |\n",
       "| JCe72d41  | 131183649862 | 19383309 | Vitals/Interventions | Pulse | <!----> | 2016-03-18 06:29:00+00:00 |   0 |\n",
       "| JCd8be4c  | 131275284311 | 41032910 | M/S VS               | Pulse | <!----> | 2019-08-17 08:01:00+00:00 |   3 |\n",
       "| JCdb3e8d  | 131249091634 | 29445672 | Vitals               | Pulse | <!----> | 2018-04-11 02:35:00+00:00 |   4 |\n",
       "| JCdddc50  | 131244225995 | 28221085 | Vitals               | Pulse | <!----> | 2018-02-06 00:45:00+00:00 |   6 |\n",
       "| JCe125dc  | 131199958618 | 21563822 | Vitals               | Pulse | <!----> | 2016-10-11 19:16:36+00:00 |   8 |\n",
       "| JCe21d56  | 131229395416 | 24565022 | Vitals               | Pulse | <!----> | 2017-05-04 00:43:00+00:00 |   8 |\n",
       "| JCd21aca  | 131124315213 | 16890682 | Vitals               | Pulse | <!----> | 2015-09-03 07:09:00+00:00 |   9 |\n",
       "| JCe95ab9  | 131097575073 | 16086652 | Vitals               | Pulse | <!----> | 2015-07-21 01:14:00+00:00 |  10 |\n",
       "| JCe418a5  | 131194351824 | 20923027 | Vitals From Sheet    | Pulse | <!----> | 2016-09-10 21:32:57+00:00 |  10 |\n",
       "| JCcc4144  | 131210894426 | 22650507 | Vitals               | Pulse | <!----> | 2017-01-12 20:00:00+00:00 |  12 |\n",
       "| JCe1eb9a  | 131181151153 | 19009004 | Vitals               | Pulse | <!----> | 2016-02-27 00:28:00+00:00 |  13 |\n",
       "| JCe2e023  | 131239533997 | 26498995 | Vitals               | Pulse | <!----> | 2017-10-12 15:31:00+00:00 |  14 |\n",
       "| JCccf909  | 131066595640 | 14107857 | Vitals               | Pulse | <!----> | 2015-02-05 06:27:00+00:00 |  16 |\n",
       "| JCd5905e  | 131166114854 | 17968480 | Vitals               | Pulse | <!----> | 2016-01-07 20:30:00+00:00 |  16 |\n",
       "| JCe17afe  | 131179282087 | 18728689 | Vitals From Sheet    | Pulse | <!----> | 2016-03-19 18:44:48+00:00 |  16 |\n",
       "| JCd0c6fe  | 131255101155 | 31442848 | Vitals               | Pulse | <!----> | 2018-08-29 07:44:00+00:00 |  17 |\n",
       "| JCd53581  | 131261636508 | 33641512 | Vitals               | Pulse | <!----> | 2019-01-22 15:01:00+00:00 |  18 |\n",
       "| JCd69db3  | 131108039994 | 16402875 | Mod Sedation         | Pulse | <!----> | 2015-08-29 12:35:00+00:00 |  18 |\n",
       "| JCce19de  | 131082470950 | 14974719 | M/S VS               | Pulse | <!----> | 2015-04-26 12:00:00+00:00 |  18 |\n",
       "| JCcc0b51  | 131087329773 | 15400588 | Vitals               | Pulse | <!----> | 2015-06-06 23:26:00+00:00 |  18 |\n",
       "| JCceda35  | 131102300379 | 16163489 | Vitals               | Pulse | <!----> | 2015-08-10 22:27:00+00:00 |  18 |\n",
       "| JCe0019e  | 131157353933 | 17701090 | Vitals               | Pulse | <!----> | 2016-01-06 01:05:00+00:00 |  18 |\n",
       "| JCe37754  | 131178102591 | 18555783 | Vitals               | Pulse | <!----> | 2016-02-27 04:48:00+00:00 |  19 |\n",
       "| JCdd7807  | 131261416155 | 33567799 | Vitals               | Pulse | <!----> | 2018-11-21 19:05:00+00:00 |  20 |\n",
       "| JCd43a54  | 131130147849 | 17122509 | Vitals               | Pulse | <!----> | 2015-10-10 07:42:00+00:00 |  20 |\n",
       "| JCce4162  | 131074325337 | 14519992 | Vitals               | Pulse | <!----> | 2015-01-30 02:53:00+00:00 |  20 |\n",
       "| JCdbd608  | 131175860840 | 18259925 | Vitals               | Pulse | <!----> | 2016-01-28 11:50:00+00:00 |  21 |\n",
       "| JCe488bb  | 131278084766 | 42859737 | Vitals               | Pulse | <!----> | 2019-10-19 20:50:00+00:00 |  21 |\n",
       "| JCe488bb  | 131278084766 | 42859737 | Vitals               | Pulse | <!----> | 2019-10-19 20:54:00+00:00 |  23 |\n",
       "| JCe24bea  | 131272371893 | 39164758 | Vitals               | Pulse | <!----> | 2019-08-06 22:10:00+00:00 |  24 |\n",
       "| JCcd3b9d  | 131267453587 | 36698857 | M/S VS               | Pulse | <!----> | 2019-04-06 21:56:00+00:00 |  24 |\n",
       "| JCce2ca8  | 131258171527 | 32401742 | ICU VS               | Pulse | <!----> | 2018-09-19 21:01:00+00:00 |  24 |\n",
       "| JCe41bc3  | 131257487654 | 32165701 | Vitals               | Pulse | <!----> | 2018-08-20 21:30:00+00:00 |  24 |\n",
       "| JCd7ee7f  | 131120992968 | 16804154 | Vitals               | Pulse | <!----> | 2015-08-30 08:10:00+00:00 | 256 |\n",
       "| JCd65661  | 131212168136 | 22797839 | DATA VALIDATE        | Pulse | <!----> | 2017-02-03 00:36:00+00:00 | 272 |\n",
       "| JCe4ac0d  | 131252115231 | 30564703 | Vitals               | Pulse | <!----> | 2018-05-21 18:30:00+00:00 | 273 |\n",
       "| JC2a1b3e1 | 131259990774 | 33054859 | Vitals               | Pulse | <!----> | 2018-10-25 15:07:50+00:00 | 300 |\n",
       "\n"
      ],
      "text/plain": [
       "   anon_id   pat_enc_csn_id_coded inpatient_data_id_coded template            \n",
       "1  JCe72d41  131183649862         19383309                Vitals/Interventions\n",
       "2  JCe72d41  131183649862         19383309                Vitals/Interventions\n",
       "3  JCcb8151  131185153421         19616256                ICU VS              \n",
       "4  JCe72d41  131183649862         19383309                Vitals/Interventions\n",
       "5  JCe72d41  131183649862         19383309                Vitals/Interventions\n",
       "6  JCe72d41  131183649862         19383309                Vitals/Interventions\n",
       "7  JCe72d41  131183649862         19383309                Vitals/Interventions\n",
       "8  JCe72d41  131183649862         19383309                Vitals/Interventions\n",
       "9  JCd8be4c  131275284311         41032910                M/S VS              \n",
       "10 JCdb3e8d  131249091634         29445672                Vitals              \n",
       "11 JCdddc50  131244225995         28221085                Vitals              \n",
       "12 JCe125dc  131199958618         21563822                Vitals              \n",
       "13 JCe21d56  131229395416         24565022                Vitals              \n",
       "14 JCd21aca  131124315213         16890682                Vitals              \n",
       "15 JCe95ab9  131097575073         16086652                Vitals              \n",
       "16 JCe418a5  131194351824         20923027                Vitals From Sheet   \n",
       "17 JCcc4144  131210894426         22650507                Vitals              \n",
       "18 JCe1eb9a  131181151153         19009004                Vitals              \n",
       "19 JCe2e023  131239533997         26498995                Vitals              \n",
       "20 JCccf909  131066595640         14107857                Vitals              \n",
       "21 JCd5905e  131166114854         17968480                Vitals              \n",
       "22 JCe17afe  131179282087         18728689                Vitals From Sheet   \n",
       "23 JCd0c6fe  131255101155         31442848                Vitals              \n",
       "24 JCd53581  131261636508         33641512                Vitals              \n",
       "25 JCd69db3  131108039994         16402875                Mod Sedation        \n",
       "26 JCce19de  131082470950         14974719                M/S VS              \n",
       "27 JCcc0b51  131087329773         15400588                Vitals              \n",
       "28 JCceda35  131102300379         16163489                Vitals              \n",
       "29 JCe0019e  131157353933         17701090                Vitals              \n",
       "30 JCe37754  131178102591         18555783                Vitals              \n",
       "31 JCdd7807  131261416155         33567799                Vitals              \n",
       "32 JCd43a54  131130147849         17122509                Vitals              \n",
       "33 JCce4162  131074325337         14519992                Vitals              \n",
       "34 JCdbd608  131175860840         18259925                Vitals              \n",
       "35 JCe488bb  131278084766         42859737                Vitals              \n",
       "36 JCe488bb  131278084766         42859737                Vitals              \n",
       "37 JCe24bea  131272371893         39164758                Vitals              \n",
       "38 JCcd3b9d  131267453587         36698857                M/S VS              \n",
       "39 JCce2ca8  131258171527         32401742                ICU VS              \n",
       "40 JCe41bc3  131257487654         32165701                Vitals              \n",
       "41 JCd7ee7f  131120992968         16804154                Vitals              \n",
       "42 JCd65661  131212168136         22797839                DATA VALIDATE       \n",
       "43 JCe4ac0d  131252115231         30564703                Vitals              \n",
       "44 JC2a1b3e1 131259990774         33054859                Vitals              \n",
       "   features units recorded_time             values\n",
       "1  Pulse          2016-03-18 06:19:00+00:00   0   \n",
       "2  Pulse          2016-03-18 06:21:00+00:00   0   \n",
       "3  Pulse          2016-04-21 07:46:00+00:00   0   \n",
       "4  Pulse          2016-03-18 06:23:00+00:00   0   \n",
       "5  Pulse          2016-03-18 06:25:00+00:00   0   \n",
       "6  Pulse          2016-03-18 06:27:00+00:00   0   \n",
       "7  Pulse          2016-03-18 06:16:00+00:00   0   \n",
       "8  Pulse          2016-03-18 06:29:00+00:00   0   \n",
       "9  Pulse          2019-08-17 08:01:00+00:00   3   \n",
       "10 Pulse          2018-04-11 02:35:00+00:00   4   \n",
       "11 Pulse          2018-02-06 00:45:00+00:00   6   \n",
       "12 Pulse          2016-10-11 19:16:36+00:00   8   \n",
       "13 Pulse          2017-05-04 00:43:00+00:00   8   \n",
       "14 Pulse          2015-09-03 07:09:00+00:00   9   \n",
       "15 Pulse          2015-07-21 01:14:00+00:00  10   \n",
       "16 Pulse          2016-09-10 21:32:57+00:00  10   \n",
       "17 Pulse          2017-01-12 20:00:00+00:00  12   \n",
       "18 Pulse          2016-02-27 00:28:00+00:00  13   \n",
       "19 Pulse          2017-10-12 15:31:00+00:00  14   \n",
       "20 Pulse          2015-02-05 06:27:00+00:00  16   \n",
       "21 Pulse          2016-01-07 20:30:00+00:00  16   \n",
       "22 Pulse          2016-03-19 18:44:48+00:00  16   \n",
       "23 Pulse          2018-08-29 07:44:00+00:00  17   \n",
       "24 Pulse          2019-01-22 15:01:00+00:00  18   \n",
       "25 Pulse          2015-08-29 12:35:00+00:00  18   \n",
       "26 Pulse          2015-04-26 12:00:00+00:00  18   \n",
       "27 Pulse          2015-06-06 23:26:00+00:00  18   \n",
       "28 Pulse          2015-08-10 22:27:00+00:00  18   \n",
       "29 Pulse          2016-01-06 01:05:00+00:00  18   \n",
       "30 Pulse          2016-02-27 04:48:00+00:00  19   \n",
       "31 Pulse          2018-11-21 19:05:00+00:00  20   \n",
       "32 Pulse          2015-10-10 07:42:00+00:00  20   \n",
       "33 Pulse          2015-01-30 02:53:00+00:00  20   \n",
       "34 Pulse          2016-01-28 11:50:00+00:00  21   \n",
       "35 Pulse          2019-10-19 20:50:00+00:00  21   \n",
       "36 Pulse          2019-10-19 20:54:00+00:00  23   \n",
       "37 Pulse          2019-08-06 22:10:00+00:00  24   \n",
       "38 Pulse          2019-04-06 21:56:00+00:00  24   \n",
       "39 Pulse          2018-09-19 21:01:00+00:00  24   \n",
       "40 Pulse          2018-08-20 21:30:00+00:00  24   \n",
       "41 Pulse          2015-08-30 08:10:00+00:00 256   \n",
       "42 Pulse          2017-02-03 00:36:00+00:00 272   \n",
       "43 Pulse          2018-05-21 18:30:00+00:00 273   \n",
       "44 Pulse          2018-10-25 15:07:50+00:00 300   "
      ]
     },
     "metadata": {},
     "output_type": "display_data"
    },
    {
     "data": {
      "image/png": "[encoded data removed]",
      "text/plain": [
       "Plot with title \"Histogram of df[df$values > 250, ]$values\""
      ]
     },
     "metadata": {
      "image/png": {
       "height": 420,
       "width": 420
      }
     },
     "output_type": "display_data"
    },
    {
     "data": {
      "image/png": "[encoded data removed]",
      "text/plain": [
       "Plot with title \"Histogram of df[df$values < 30, ]$values\""
      ]
     },
     "metadata": {
      "image/png": {
       "height": 420,
       "width": 420
      }
     },
     "output_type": "display_data"
    }
   ],
   "source": [
    "df <- vitals %>% filter(features == \"Pulse\")\n",
    "nrow(filter(df, values > 250 | values < 25)) # remove <10 only\n",
    "filter(df, values > 250 | values < 25) %>% arrange(values)\n",
    "\n",
    "hist(df[df$values > 250,]$values, breaks=100)\n",
    "hist(df[df$values < 30,]$values, breaks=25)"
   ]
  },
  {
   "cell_type": "code",
   "execution_count": 77,
   "metadata": {},
   "outputs": [
    {
     "data": {
      "text/html": [
       "247"
      ],
      "text/latex": [
       "247"
      ],
      "text/markdown": [
       "247"
      ],
      "text/plain": [
       "[1] 247"
      ]
     },
     "metadata": {},
     "output_type": "display_data"
    },
    {
     "data": {
      "text/html": [
       "<table>\n",
       "<caption>A data.frame: 187 × 8</caption>\n",
       "<thead>\n",
       "\t<tr><th scope=col>anon_id</th><th scope=col>pat_enc_csn_id_coded</th><th scope=col>inpatient_data_id_coded</th><th scope=col>template</th><th scope=col>features</th><th scope=col>units</th><th scope=col>recorded_time</th><th scope=col>values</th></tr>\n",
       "\t<tr><th scope=col>&lt;chr&gt;</th><th scope=col>&lt;dbl&gt;</th><th scope=col>&lt;int&gt;</th><th scope=col>&lt;chr&gt;</th><th scope=col>&lt;chr&gt;</th><th scope=col>&lt;chr&gt;</th><th scope=col>&lt;chr&gt;</th><th scope=col>&lt;dbl&gt;</th></tr>\n",
       "</thead>\n",
       "<tbody>\n",
       "\t<tr><td>JCe417b1 </td><td>131230525726</td><td>24701848</td><td>Vitals                   </td><td>RR</td><td>   </td><td>2017-05-29 02:30:00+00:00</td><td>1</td></tr>\n",
       "\t<tr><td>JCe63c45 </td><td>131274983183</td><td>40839473</td><td>ICU VS                   </td><td>RR</td><td>   </td><td>2019-09-26 05:35:00+00:00</td><td>1</td></tr>\n",
       "\t<tr><td>JCd6e0ff </td><td>131259219370</td><td>32779469</td><td>Vitals                   </td><td>RR</td><td>   </td><td>2018-10-28 19:00:00+00:00</td><td>1</td></tr>\n",
       "\t<tr><td>JCd70f22 </td><td>131100576218</td><td>16135288</td><td>RT Assess/ Treatment     </td><td>RR</td><td>   </td><td>2015-08-04 11:48:00+00:00</td><td>1</td></tr>\n",
       "\t<tr><td>JCdaaa7f </td><td>131123254891</td><td>16887606</td><td>Vitals                   </td><td>RR</td><td>   </td><td>2015-09-14 03:15:00+00:00</td><td>2</td></tr>\n",
       "\t<tr><td>JCd01751 </td><td>131275616770</td><td>41245015</td><td>Mod Sedation             </td><td>RR</td><td>   </td><td>2019-08-22 00:13:00+00:00</td><td>2</td></tr>\n",
       "\t<tr><td>JCd58afe </td><td>131258964263</td><td>32686475</td><td>RT Assess/ Treatment     </td><td>RR</td><td>   </td><td>2018-10-18 14:57:00+00:00</td><td>2</td></tr>\n",
       "\t<tr><td>JCdc673b </td><td>131259855944</td><td>33008510</td><td>Vitals                   </td><td>RR</td><td>   </td><td>2018-10-26 02:33:00+00:00</td><td>2</td></tr>\n",
       "\t<tr><td>JCe82ff5 </td><td>131239118324</td><td>26341902</td><td>Hemodynamic Measurements </td><td>RR</td><td>   </td><td>2017-09-21 23:55:44+00:00</td><td>2</td></tr>\n",
       "\t<tr><td>JCdb7e53 </td><td>131089191238</td><td>15430795</td><td>Cath/Angio               </td><td>RR</td><td>   </td><td>2015-04-23 21:30:00+00:00</td><td>2</td></tr>\n",
       "\t<tr><td>JCd01751 </td><td>131275616770</td><td>41245015</td><td>Mod Sedation             </td><td>RR</td><td>   </td><td>2019-08-22 00:14:00+00:00</td><td>2</td></tr>\n",
       "\t<tr><td>JC2a15d5c</td><td>131185152376</td><td>19616080</td><td>Vitals                   </td><td>RR</td><td>   </td><td>2016-05-15 02:55:00+00:00</td><td>2</td></tr>\n",
       "\t<tr><td>JCe1df11 </td><td>131093945149</td><td>15996455</td><td>Vitals                   </td><td>RR</td><td>   </td><td>2015-06-20 02:51:00+00:00</td><td>2</td></tr>\n",
       "\t<tr><td>JCcf57e7 </td><td>131282708421</td><td>45665940</td><td>DATA VALIDATE            </td><td>RR</td><td>bpm</td><td>2020-02-22 03:09:00+00:00</td><td>2</td></tr>\n",
       "\t<tr><td>JCd9c6be </td><td>131249092777</td><td>29446103</td><td>Vitals                   </td><td>RR</td><td>   </td><td>2018-04-24 05:09:00+00:00</td><td>2</td></tr>\n",
       "\t<tr><td>JCcb95e3 </td><td>131082830344</td><td>15014869</td><td>RT Assess/ Treatment     </td><td>RR</td><td>   </td><td>2015-04-02 23:40:00+00:00</td><td>2</td></tr>\n",
       "\t<tr><td>JCe1aaa1 </td><td>131276912621</td><td>42146314</td><td>RT Assess/ Treatment     </td><td>RR</td><td>   </td><td>2019-11-04 20:12:00+00:00</td><td>2</td></tr>\n",
       "\t<tr><td>JCd7955a </td><td>131107343530</td><td>16388194</td><td>DATA VALIDATE            </td><td>RR</td><td>   </td><td>2015-08-04 12:04:00+00:00</td><td>3</td></tr>\n",
       "\t<tr><td>JCd3d8ae </td><td>131065660828</td><td>13993175</td><td>Blood Administration     </td><td>RR</td><td>   </td><td>2015-01-28 08:10:00+00:00</td><td>3</td></tr>\n",
       "\t<tr><td>JCcc5b13 </td><td>131240006318</td><td>26674300</td><td>Hemodynamic Measurements </td><td>RR</td><td>   </td><td>2017-10-08 10:26:49+00:00</td><td>4</td></tr>\n",
       "\t<tr><td>JCdd24f8 </td><td>131280453949</td><td>44303489</td><td>Hemodynamic Measurements </td><td>RR</td><td>   </td><td>2020-01-05 20:40:32+00:00</td><td>4</td></tr>\n",
       "\t<tr><td>JCe8a036 </td><td>131271457676</td><td>38547207</td><td>Hemodynamic Measurements </td><td>RR</td><td>   </td><td>2019-07-23 21:07:10+00:00</td><td>4</td></tr>\n",
       "\t<tr><td>JC2a2a65f</td><td>131271336689</td><td>38470246</td><td>Hemodynamic Measurements </td><td>RR</td><td>   </td><td>2019-07-23 05:58:57+00:00</td><td>4</td></tr>\n",
       "\t<tr><td>JCd599de </td><td>131270558152</td><td>38263189</td><td>Hemodynamic Measurements </td><td>RR</td><td>   </td><td>2019-07-17 06:19:15+00:00</td><td>4</td></tr>\n",
       "\t<tr><td>JCdc02d7 </td><td>131282876096</td><td>45771941</td><td>Vitals                   </td><td>RR</td><td>   </td><td>2020-02-07 20:00:00+00:00</td><td>4</td></tr>\n",
       "\t<tr><td>JCe0936e </td><td>131188814712</td><td>20154990</td><td>Vitals                   </td><td>RR</td><td>   </td><td>2016-06-17 17:37:00+00:00</td><td>4</td></tr>\n",
       "\t<tr><td>JCeb867b </td><td>131241735239</td><td>27406482</td><td>Vitals                   </td><td>RR</td><td>   </td><td>2017-12-06 09:30:00+00:00</td><td>5</td></tr>\n",
       "\t<tr><td>JCd01751 </td><td>131275616770</td><td>41245015</td><td>Mod Sedation             </td><td>RR</td><td>   </td><td>2019-08-22 00:15:00+00:00</td><td>5</td></tr>\n",
       "\t<tr><td>JC2a0997b</td><td>131269285289</td><td>37969503</td><td>DATA VALIDATE            </td><td>RR</td><td>   </td><td>2019-07-03 10:10:00+00:00</td><td>5</td></tr>\n",
       "\t<tr><td>JC2a17e5c</td><td>131286099923</td><td>47200690</td><td>DATA VALIDATE            </td><td>RR</td><td>   </td><td>2020-03-11 19:07:00+00:00</td><td>5</td></tr>\n",
       "\t<tr><td>JCcf7ef1 </td><td>131200117019</td><td>21581352</td><td>ICU VS                   </td><td>RR</td><td>   </td><td>2016-10-25 20:00:00+00:00</td><td>5</td></tr>\n",
       "\t<tr><td>JCd1ac9d </td><td>131250103549</td><td>29821968</td><td>Vitals                   </td><td>RR</td><td>   </td><td>2018-03-22 05:45:00+00:00</td><td>5</td></tr>\n",
       "\t<tr><td>JC2a200b4</td><td>131277904745</td><td>42743953</td><td>DATA VALIDATE            </td><td>RR</td><td>   </td><td>2019-10-20 01:21:00+00:00</td><td>5</td></tr>\n",
       "\t<tr><td>JCd93d59 </td><td>131231257787</td><td>24794329</td><td>ICU VS                   </td><td>RR</td><td>   </td><td>2017-05-10 22:30:00+00:00</td><td>5</td></tr>\n",
       "\t<tr><td>JCe290dc </td><td>131255362799</td><td>31535582</td><td>ICU VS                   </td><td>RR</td><td>   </td><td>2018-07-11 07:25:00+00:00</td><td>6</td></tr>\n",
       "\t<tr><td>JCdf7d8b </td><td>131276601038</td><td>41989219</td><td>Hemodynamic Measurements </td><td>RR</td><td>   </td><td>2019-09-03 22:27:34+00:00</td><td>6</td></tr>\n",
       "\t<tr><td>JC2a2a65f</td><td>131271336689</td><td>38470246</td><td>Hemodynamic Measurements </td><td>RR</td><td>   </td><td>2019-07-23 04:52:01+00:00</td><td>6</td></tr>\n",
       "\t<tr><td>JCdbf377 </td><td>131273888080</td><td>40137427</td><td>Vitals                   </td><td>RR</td><td>   </td><td>2019-07-21 17:55:00+00:00</td><td>6</td></tr>\n",
       "\t<tr><td>JCdce4d4 </td><td>131261255413</td><td>33507500</td><td>Vitals                   </td><td>RR</td><td>   </td><td>2019-01-02 11:19:00+00:00</td><td>6</td></tr>\n",
       "\t<tr><td>JC2a222fe</td><td>131278948715</td><td>43348215</td><td>Stroke                   </td><td>RR</td><td>   </td><td>2019-12-08 23:30:00+00:00</td><td>6</td></tr>\n",
       "\t<tr><td>JCdefcf9 </td><td>131285470256</td><td>46982620</td><td>Vitals                   </td><td>RR</td><td>   </td><td>2020-03-17 02:15:00+00:00</td><td>6</td></tr>\n",
       "\t<tr><td>JCcf57e7 </td><td>131282708421</td><td>45665940</td><td>DATA VALIDATE            </td><td>RR</td><td>bpm</td><td>2020-02-22 03:15:00+00:00</td><td>6</td></tr>\n",
       "\t<tr><td>JCe91cea </td><td>131242266904</td><td>27608093</td><td>Vitals                   </td><td>RR</td><td>   </td><td>2017-11-27 18:30:00+00:00</td><td>6</td></tr>\n",
       "\t<tr><td>JCe09997 </td><td>131277091922</td><td>42217540</td><td>Blood Administration     </td><td>RR</td><td>   </td><td>2019-09-15 07:43:00+00:00</td><td>6</td></tr>\n",
       "\t<tr><td>JCddccad </td><td>131219355813</td><td>23573949</td><td>Blood Administration     </td><td>RR</td><td>   </td><td>2017-03-25 03:15:00+00:00</td><td>6</td></tr>\n",
       "\t<tr><td>JCe1654f </td><td>131134231938</td><td>17286549</td><td>Vitals                   </td><td>RR</td><td>   </td><td>2015-10-11 09:00:00+00:00</td><td>6</td></tr>\n",
       "\t<tr><td>JCd311c8 </td><td>131094187978</td><td>16022904</td><td>ICU VS                   </td><td>RR</td><td>   </td><td>2015-07-31 19:15:00+00:00</td><td>6</td></tr>\n",
       "\t<tr><td>JCd5c7bf </td><td>131139158844</td><td>17451840</td><td>Vitals                   </td><td>RR</td><td>   </td><td>2015-10-18 02:35:00+00:00</td><td>6</td></tr>\n",
       "\t<tr><td>JCcc5b13 </td><td>131240006318</td><td>26674300</td><td>Hemodynamic Measurements </td><td>RR</td><td>   </td><td>2017-10-08 09:46:04+00:00</td><td>6</td></tr>\n",
       "\t<tr><td>JCd6a5da </td><td>131090282451</td><td>15542744</td><td>Vitals                   </td><td>RR</td><td>   </td><td>2015-05-07 23:20:00+00:00</td><td>6</td></tr>\n",
       "\t<tr><td>JC2a0af08</td><td>131265367184</td><td>35312730</td><td>Vitals                   </td><td>RR</td><td>   </td><td>2019-02-21 04:27:00+00:00</td><td>6</td></tr>\n",
       "\t<tr><td>JC2a0997b</td><td>131269285289</td><td>37969503</td><td>Postpartum               </td><td>RR</td><td>   </td><td>2019-07-03 11:00:00+00:00</td><td>6</td></tr>\n",
       "\t<tr><td>JCe524e3 </td><td>131242079031</td><td>27535449</td><td>ICU VS                   </td><td>RR</td><td>   </td><td>2017-12-30 00:50:00+00:00</td><td>6</td></tr>\n",
       "\t<tr><td>JCe18113 </td><td>131276116059</td><td>41604223</td><td>RT Assess/ Treatment     </td><td>RR</td><td>   </td><td>2019-09-20 22:50:00+00:00</td><td>6</td></tr>\n",
       "\t<tr><td>JCeb867b </td><td>131241735239</td><td>27406482</td><td>Vitals                   </td><td>RR</td><td>   </td><td>2017-12-06 10:30:00+00:00</td><td>6</td></tr>\n",
       "\t<tr><td>JCd1cf6a </td><td>131282785022</td><td>45713169</td><td>Vitals                   </td><td>RR</td><td>   </td><td>2020-02-14 21:30:00+00:00</td><td>6</td></tr>\n",
       "\t<tr><td>JCcd9fb2 </td><td>131092367275</td><td>15796960</td><td>Vitals                   </td><td>RR</td><td>   </td><td>2015-06-21 23:20:00+00:00</td><td>6</td></tr>\n",
       "\t<tr><td>JCe0ddca </td><td>131229603585</td><td>24586995</td><td>ICU VS                   </td><td>RR</td><td>   </td><td>2017-04-27 18:00:00+00:00</td><td>6</td></tr>\n",
       "\t<tr><td>JCe2f12c </td><td>131286808835</td><td>47391836</td><td>ICU VS                   </td><td>RR</td><td>   </td><td>2020-02-28 23:00:00+00:00</td><td>6</td></tr>\n",
       "\t<tr><td>JCdba6d9 </td><td>131262894297</td><td>34073955</td><td>Hemodynamic Measurements </td><td>RR</td><td>   </td><td>2019-02-03 08:16:32+00:00</td><td>6</td></tr>\n",
       "\t<tr><td>JCcf796c </td><td>131259617676</td><td>32921339</td><td>Vitals                   </td><td>RR</td><td>   </td><td>2018-10-31 05:53:00+00:00</td><td>6</td></tr>\n",
       "\t<tr><td>JCdc3f42 </td><td>131273350585</td><td>39790849</td><td>DATA VALIDATE            </td><td>RR</td><td>   </td><td>2019-08-09 08:50:00+00:00</td><td>6</td></tr>\n",
       "\t<tr><td>JCdfe49d </td><td>131262416748</td><td>33906648</td><td>DATA VALIDATE            </td><td>RR</td><td>   </td><td>2019-01-07 06:25:00+00:00</td><td>6</td></tr>\n",
       "\t<tr><td>JCd4e973 </td><td>131273808957</td><td>40085899</td><td>Vitals                   </td><td>RR</td><td>   </td><td>2019-09-07 03:30:00+00:00</td><td>6</td></tr>\n",
       "\t<tr><td>JC2a178b6</td><td>131261117332</td><td>33456527</td><td>Hemodynamic Measurements </td><td>RR</td><td>   </td><td>2018-12-23 20:45:58+00:00</td><td>6</td></tr>\n",
       "\t<tr><td>JCcea3b4 </td><td>131262284032</td><td>33859911</td><td>Vitals                   </td><td>RR</td><td>   </td><td>2018-12-27 23:12:22+00:00</td><td>6</td></tr>\n",
       "\t<tr><td>JCd4e973 </td><td>131273808957</td><td>40085899</td><td>Vitals                   </td><td>RR</td><td>   </td><td>2019-09-07 03:52:00+00:00</td><td>6</td></tr>\n",
       "\t<tr><td>JCd06d45 </td><td>131262151109</td><td>33817618</td><td>Vitals                   </td><td>RR</td><td>   </td><td>2019-02-02 08:00:00+00:00</td><td>6</td></tr>\n",
       "\t<tr><td>JC2a1be28</td><td>131283153758</td><td>45946108</td><td>ICU VS                   </td><td>RR</td><td>   </td><td>2020-01-10 23:30:00+00:00</td><td>7</td></tr>\n",
       "\t<tr><td>JCe8e638 </td><td>131126283938</td><td>16991800</td><td>Tx/Procedure             </td><td>RR</td><td>   </td><td>2015-11-14 01:15:00+00:00</td><td>7</td></tr>\n",
       "\t<tr><td>JCe4464e </td><td>131200543551</td><td>21632765</td><td>DATA VALIDATE            </td><td>RR</td><td>   </td><td>2016-10-16 14:00:00+00:00</td><td>7</td></tr>\n",
       "\t<tr><td>JCcf399d </td><td>131082130644</td><td>14934217</td><td>Endoscopy Intra-Procedure</td><td>RR</td><td>   </td><td>2015-03-25 22:40:00+00:00</td><td>7</td></tr>\n",
       "\t<tr><td>JCcf7ef1 </td><td>131222569472</td><td>23828750</td><td>Vitals                   </td><td>RR</td><td>   </td><td>2017-04-13 11:15:00+00:00</td><td>7</td></tr>\n",
       "\t<tr><td>JCce19dc </td><td>131145038471</td><td>17525405</td><td>ICU VS                   </td><td>RR</td><td>   </td><td>2015-12-01 21:00:00+00:00</td><td>7</td></tr>\n",
       "\t<tr><td>JCcf6ff0 </td><td>131175551490</td><td>18211836</td><td>Vitals                   </td><td>RR</td><td>   </td><td>2016-02-06 01:00:00+00:00</td><td>7</td></tr>\n",
       "\t<tr><td>...</td><td>...</td><td>...</td><td>...</td><td>...</td><td>...</td><td>...</td><td>...</td></tr>\n",
       "\t<tr><td>JCd43a54 </td><td>131187019578</td><td>19899964</td><td>Vitals                  </td><td>RR</td><td></td><td>2016-05-12 23:15:00+00:00</td><td>  7</td></tr>\n",
       "\t<tr><td>JCe463c0 </td><td>131110269525</td><td>16535865</td><td>DATA VALIDATE           </td><td>RR</td><td></td><td>2015-09-10 20:00:00+00:00</td><td>  7</td></tr>\n",
       "\t<tr><td>JCcdd92b </td><td>131250942344</td><td>30140386</td><td>DATA VALIDATE           </td><td>RR</td><td></td><td>2018-04-23 23:30:00+00:00</td><td>  7</td></tr>\n",
       "\t<tr><td>JC2a309c4</td><td>131277985354</td><td>42795682</td><td>ICU VS                  </td><td>RR</td><td></td><td>2019-11-07 07:00:00+00:00</td><td>  7</td></tr>\n",
       "\t<tr><td>JCd6711a </td><td>131262697544</td><td>34004443</td><td>Vitals                  </td><td>RR</td><td></td><td>2019-02-02 19:40:00+00:00</td><td>  7</td></tr>\n",
       "\t<tr><td>JCcc4d1b </td><td>131282436270</td><td>45490073</td><td>Hemodynamic Measurements</td><td>RR</td><td></td><td>2020-01-10 00:36:58+00:00</td><td>  7</td></tr>\n",
       "\t<tr><td>JCe2f12c </td><td>131286808835</td><td>47391836</td><td>Vitals                  </td><td>RR</td><td></td><td>2020-02-28 23:30:00+00:00</td><td>  7</td></tr>\n",
       "\t<tr><td>JC2a04a93</td><td>131276851956</td><td>42132514</td><td>Vitals                  </td><td>RR</td><td></td><td>2019-09-26 10:30:00+00:00</td><td>  7</td></tr>\n",
       "\t<tr><td>JCe401ee </td><td>131115479140</td><td>16669368</td><td>Vitals                  </td><td>RR</td><td></td><td>2015-08-29 04:20:00+00:00</td><td>  7</td></tr>\n",
       "\t<tr><td>JCe4464e </td><td>131200543551</td><td>21632765</td><td>DATA VALIDATE           </td><td>RR</td><td></td><td>2016-10-16 14:12:00+00:00</td><td>  7</td></tr>\n",
       "\t<tr><td>JCcc9a29 </td><td>131249414013</td><td>29562262</td><td>Vitals                  </td><td>RR</td><td></td><td>2018-03-04 20:20:00+00:00</td><td> 71</td></tr>\n",
       "\t<tr><td>JCd17af0 </td><td>131269808041</td><td>38112287</td><td>Vitals                  </td><td>RR</td><td></td><td>2019-05-30 20:51:00+00:00</td><td> 73</td></tr>\n",
       "\t<tr><td>JCd98354 </td><td>131085396705</td><td>15325668</td><td>Vitals                  </td><td>RR</td><td></td><td>2015-05-29 01:30:00+00:00</td><td> 73</td></tr>\n",
       "\t<tr><td>JCd345f7 </td><td>131262690526</td><td>34002252</td><td>Hemodynamic Measurements</td><td>RR</td><td></td><td>2019-02-26 04:06:59+00:00</td><td> 75</td></tr>\n",
       "\t<tr><td>JCe3a80d </td><td>131255409999</td><td>31542711</td><td>Hemodynamic Measurements</td><td>RR</td><td></td><td>2018-08-02 21:21:35+00:00</td><td> 75</td></tr>\n",
       "\t<tr><td>JCe4a606 </td><td>131267602811</td><td>36797567</td><td>Hemodynamic Measurements</td><td>RR</td><td></td><td>2019-04-26 17:31:38+00:00</td><td> 76</td></tr>\n",
       "\t<tr><td>JCe378b8 </td><td>131092943166</td><td>15871367</td><td>Vitals                  </td><td>RR</td><td></td><td>2015-06-13 20:18:00+00:00</td><td> 77</td></tr>\n",
       "\t<tr><td>JC2a01569</td><td>131261770999</td><td>33689163</td><td>Hemodynamic Measurements</td><td>RR</td><td></td><td>2019-01-24 21:32:17+00:00</td><td> 77</td></tr>\n",
       "\t<tr><td>JCe5a025 </td><td>131090161627</td><td>15528197</td><td>Vitals                  </td><td>RR</td><td></td><td>2015-05-28 18:51:00+00:00</td><td> 78</td></tr>\n",
       "\t<tr><td>JC2a24ee9</td><td>131271277918</td><td>38432795</td><td>Vitals                  </td><td>RR</td><td></td><td>2019-05-30 03:30:00+00:00</td><td> 79</td></tr>\n",
       "\t<tr><td>JCe18113 </td><td>131276116059</td><td>41604223</td><td>DATA VALIDATE           </td><td>RR</td><td></td><td>2019-09-20 22:51:00+00:00</td><td> 81</td></tr>\n",
       "\t<tr><td>JCce2ca8 </td><td>131258171527</td><td>32401742</td><td>Vitals                  </td><td>RR</td><td></td><td>2018-09-19 21:25:00+00:00</td><td> 84</td></tr>\n",
       "\t<tr><td>JCd0d718 </td><td>131166221334</td><td>17983932</td><td>Vitals                  </td><td>RR</td><td></td><td>2015-12-19 15:06:00+00:00</td><td> 88</td></tr>\n",
       "\t<tr><td>JCd99a64 </td><td>131242212057</td><td>27587288</td><td>Vitals                  </td><td>RR</td><td></td><td>2017-11-09 17:41:00+00:00</td><td> 90</td></tr>\n",
       "\t<tr><td>JCdb52d3 </td><td>131276444911</td><td>41861207</td><td>Vitals                  </td><td>RR</td><td></td><td>2019-09-30 01:18:00+00:00</td><td> 92</td></tr>\n",
       "\t<tr><td>JCe31ee8 </td><td>131210847018</td><td>22648299</td><td>RT Assess/ Treatment    </td><td>RR</td><td></td><td>2016-12-27 04:25:00+00:00</td><td> 93</td></tr>\n",
       "\t<tr><td>JCe950b2 </td><td>131083193598</td><td>15053971</td><td>ICU VS                  </td><td>RR</td><td></td><td>2015-04-14 11:00:00+00:00</td><td> 93</td></tr>\n",
       "\t<tr><td>JCe0ac81 </td><td>131091175502</td><td>15650792</td><td>Vitals                  </td><td>RR</td><td></td><td>2015-07-08 03:03:15+00:00</td><td> 93</td></tr>\n",
       "\t<tr><td>JCe176e0 </td><td>131205359723</td><td>22057616</td><td>Vitals                  </td><td>RR</td><td></td><td>2016-11-24 02:09:00+00:00</td><td> 94</td></tr>\n",
       "\t<tr><td>JCe55e33 </td><td>131262364591</td><td>33888271</td><td>DATA VALIDATE           </td><td>RR</td><td></td><td>2019-01-09 16:54:00+00:00</td><td> 94</td></tr>\n",
       "\t<tr><td>JCe1fac8 </td><td>131258905288</td><td>32665381</td><td>Vitals                  </td><td>RR</td><td></td><td>2018-10-08 04:27:00+00:00</td><td> 95</td></tr>\n",
       "\t<tr><td>JCd7bed6 </td><td>131259202592</td><td>32772782</td><td>Vitals                  </td><td>RR</td><td></td><td>2018-11-29 07:09:00+00:00</td><td> 96</td></tr>\n",
       "\t<tr><td>JCccf5c5 </td><td>131211741721</td><td>22750199</td><td>Vitals                  </td><td>RR</td><td></td><td>2017-01-10 01:23:00+00:00</td><td> 96</td></tr>\n",
       "\t<tr><td>JCdc7ba4 </td><td>131126157814</td><td>16978993</td><td>Vitals                  </td><td>RR</td><td></td><td>2015-10-15 16:00:00+00:00</td><td> 96</td></tr>\n",
       "\t<tr><td>JCe247c0 </td><td>131170881629</td><td>18097597</td><td>Vitals                  </td><td>RR</td><td></td><td>2015-12-20 22:27:00+00:00</td><td> 97</td></tr>\n",
       "\t<tr><td>JCe3ad7c </td><td>131092857230</td><td>15860113</td><td>Vitals                  </td><td>RR</td><td></td><td>2015-06-09 01:03:00+00:00</td><td> 98</td></tr>\n",
       "\t<tr><td>JCd7cb5e </td><td>131176386140</td><td>18350053</td><td>Vitals                  </td><td>RR</td><td></td><td>2015-12-31 22:57:00+00:00</td><td> 98</td></tr>\n",
       "\t<tr><td>JCcc6611 </td><td>131121727871</td><td>16839840</td><td>Vitals                  </td><td>RR</td><td></td><td>2015-10-10 15:55:00+00:00</td><td> 98</td></tr>\n",
       "\t<tr><td>JCe84f06 </td><td>131175866199</td><td>18260711</td><td>ICU VS                  </td><td>RR</td><td></td><td>2016-01-03 04:20:00+00:00</td><td> 99</td></tr>\n",
       "\t<tr><td>JCe54820 </td><td>131224473258</td><td>24059886</td><td>Vitals                  </td><td>RR</td><td></td><td>2017-04-30 23:41:00+00:00</td><td>100</td></tr>\n",
       "\t<tr><td>JCd66aca </td><td>131184908639</td><td>19574051</td><td>Vitals                  </td><td>RR</td><td></td><td>2016-04-21 04:58:00+00:00</td><td>100</td></tr>\n",
       "\t<tr><td>JCddf7f9 </td><td>131258681817</td><td>32584557</td><td>Vitals                  </td><td>RR</td><td></td><td>2018-10-07 18:10:00+00:00</td><td>100</td></tr>\n",
       "\t<tr><td>JCe32301 </td><td>131248340290</td><td>29198523</td><td>Vitals                  </td><td>RR</td><td></td><td>2018-04-08 22:23:00+00:00</td><td>100</td></tr>\n",
       "\t<tr><td>JCce95b1 </td><td>131106848790</td><td>16341712</td><td>Vitals                  </td><td>RR</td><td></td><td>2015-08-14 10:11:00+00:00</td><td>102</td></tr>\n",
       "\t<tr><td>JCda5692 </td><td>131179085122</td><td>18697386</td><td>Vitals                  </td><td>RR</td><td></td><td>2016-03-26 19:16:00+00:00</td><td>106</td></tr>\n",
       "\t<tr><td>JCe56b3e </td><td>131079838356</td><td>14750383</td><td>IIC VS                  </td><td>RR</td><td></td><td>2015-03-09 03:00:00+00:00</td><td>107</td></tr>\n",
       "\t<tr><td>JCeb7ccc </td><td>131111471378</td><td>16565614</td><td>Vital Signs             </td><td>RR</td><td></td><td>2015-08-27 23:46:00+00:00</td><td>108</td></tr>\n",
       "\t<tr><td>JCdd7807 </td><td>131261416155</td><td>33567799</td><td>Vitals                  </td><td>RR</td><td></td><td>2018-11-21 19:05:00+00:00</td><td>108</td></tr>\n",
       "\t<tr><td>JCd1232d </td><td>131257228811</td><td>32071589</td><td>DATA VALIDATE           </td><td>RR</td><td></td><td>2018-08-26 01:13:00+00:00</td><td>110</td></tr>\n",
       "\t<tr><td>JCebf6ae </td><td>131236082726</td><td>25297254</td><td>Vitals                  </td><td>RR</td><td></td><td>2017-06-18 20:00:00+00:00</td><td>112</td></tr>\n",
       "\t<tr><td>JCdab3d0 </td><td>131072299235</td><td>14294507</td><td>Vitals                  </td><td>RR</td><td></td><td>2015-01-18 15:16:00+00:00</td><td>115</td></tr>\n",
       "\t<tr><td>JCd44a4f </td><td>131237444268</td><td>25802461</td><td>ICU VS                  </td><td>RR</td><td></td><td>2017-07-14 05:00:00+00:00</td><td>116</td></tr>\n",
       "\t<tr><td>JCeb23cd </td><td>131264180018</td><td>34526929</td><td>Vitals                  </td><td>RR</td><td></td><td>2019-04-01 15:52:00+00:00</td><td>116</td></tr>\n",
       "\t<tr><td>JCdd81f6 </td><td>131131167179</td><td>17157571</td><td>Vitals                  </td><td>RR</td><td></td><td>2015-11-25 00:00:00+00:00</td><td>116</td></tr>\n",
       "\t<tr><td>JCeb1454 </td><td>131236120755</td><td>25310935</td><td>Vitals From Sheet       </td><td>RR</td><td></td><td>2017-06-19 05:15:00+00:00</td><td>117</td></tr>\n",
       "\t<tr><td>JCe7ac73 </td><td>131258415153</td><td>32489021</td><td>Vitals                  </td><td>RR</td><td></td><td>2018-10-01 02:50:00+00:00</td><td>117</td></tr>\n",
       "\t<tr><td>JCeb9e87 </td><td>131256753161</td><td>31904130</td><td>Vitals                  </td><td>RR</td><td></td><td>2018-08-07 15:49:00+00:00</td><td>118</td></tr>\n",
       "\t<tr><td>JCdfc5d6 </td><td>131201858252</td><td>21798215</td><td>Vitals                  </td><td>RR</td><td></td><td>2016-10-24 04:23:00+00:00</td><td>118</td></tr>\n",
       "\t<tr><td>JCce423b </td><td>131110182740</td><td>16529817</td><td>M/S VS                  </td><td>RR</td><td></td><td>2015-09-19 00:16:00+00:00</td><td>118</td></tr>\n",
       "\t<tr><td>JCce3f12 </td><td>131146484997</td><td>17545747</td><td>Vitals                  </td><td>RR</td><td></td><td>2015-12-17 02:44:00+00:00</td><td>118</td></tr>\n",
       "\t<tr><td>JCe1eecd </td><td>131206610662</td><td>22189051</td><td>Blood Administration    </td><td>RR</td><td></td><td>2016-11-27 03:44:00+00:00</td><td>118</td></tr>\n",
       "\t<tr><td>JCdd0a4b </td><td>131241300880</td><td>27124675</td><td>Vitals                  </td><td>RR</td><td></td><td>2017-12-11 02:41:00+00:00</td><td>118</td></tr>\n",
       "\t<tr><td>JCdd43da </td><td>131264231219</td><td>34545842</td><td>Vitals                  </td><td>RR</td><td></td><td>2019-03-10 01:28:00+00:00</td><td>118</td></tr>\n",
       "\t<tr><td>JCd138cf </td><td>131250456451</td><td>29956152</td><td>Blood Administration    </td><td>RR</td><td></td><td>2018-04-03 02:44:00+00:00</td><td>118</td></tr>\n",
       "\t<tr><td>JCd86e6a </td><td>131191571573</td><td>20536644</td><td>Vitals                  </td><td>RR</td><td></td><td>2016-06-18 20:12:00+00:00</td><td>123</td></tr>\n",
       "\t<tr><td>JCdde080 </td><td>131240266571</td><td>26772498</td><td>Vitals                  </td><td>RR</td><td></td><td>2017-10-28 02:32:00+00:00</td><td>129</td></tr>\n",
       "\t<tr><td>JCcc5b13 </td><td>131240006318</td><td>26674300</td><td>Hemodynamic Measurements</td><td>RR</td><td></td><td>2017-10-08 09:32:55+00:00</td><td>132</td></tr>\n",
       "\t<tr><td>JCe4a606 </td><td>131267602811</td><td>36797567</td><td>Hemodynamic Measurements</td><td>RR</td><td></td><td>2019-04-26 19:43:57+00:00</td><td>133</td></tr>\n",
       "\t<tr><td>JCe1859c </td><td>131176042974</td><td>18290829</td><td>Vitals                  </td><td>RR</td><td></td><td>2016-02-01 23:30:00+00:00</td><td>158</td></tr>\n",
       "\t<tr><td>JCccf909 </td><td>131066595640</td><td>14107857</td><td>Vital Signs             </td><td>RR</td><td></td><td>2015-02-05 03:00:00+00:00</td><td>185</td></tr>\n",
       "\t<tr><td>JCd7da23 </td><td>131066458959</td><td>14091252</td><td>Vitals                  </td><td>RR</td><td></td><td>2015-02-19 07:30:00+00:00</td><td>185</td></tr>\n",
       "\t<tr><td>JCe95423 </td><td>131065292233</td><td>13948362</td><td>IIC VS                  </td><td>RR</td><td></td><td>2015-01-14 00:05:00+00:00</td><td>185</td></tr>\n",
       "\t<tr><td>JCd614a2 </td><td>131125508680</td><td>16939409</td><td>ICU VS                  </td><td>RR</td><td></td><td>2015-11-07 09:00:00+00:00</td><td>187</td></tr>\n",
       "\t<tr><td>JCd4d2a8 </td><td>131117089410</td><td>16716194</td><td>Vitals                  </td><td>RR</td><td></td><td>2015-08-22 02:35:00+00:00</td><td>187</td></tr>\n",
       "\t<tr><td>JCcce9f4 </td><td>131176298402</td><td>18334619</td><td>Vitals                  </td><td>RR</td><td></td><td>2016-01-08 23:44:00+00:00</td><td>189</td></tr>\n",
       "</tbody>\n",
       "</table>\n"
      ],
      "text/latex": [
       "A data.frame: 187 × 8\n",
       "\\begin{tabular}{llllllll}\n",
       " anon\\_id & pat\\_enc\\_csn\\_id\\_coded & inpatient\\_data\\_id\\_coded & template & features & units & recorded\\_time & values\\\\\n",
       " <chr> & <dbl> & <int> & <chr> & <chr> & <chr> & <chr> & <dbl>\\\\\n",
       "\\hline\n",
       "\t JCe417b1  & 131230525726 & 24701848 & Vitals                    & RR &     & 2017-05-29 02:30:00+00:00 & 1\\\\\n",
       "\t JCe63c45  & 131274983183 & 40839473 & ICU VS                    & RR &     & 2019-09-26 05:35:00+00:00 & 1\\\\\n",
       "\t JCd6e0ff  & 131259219370 & 32779469 & Vitals                    & RR &     & 2018-10-28 19:00:00+00:00 & 1\\\\\n",
       "\t JCd70f22  & 131100576218 & 16135288 & RT Assess/ Treatment      & RR &     & 2015-08-04 11:48:00+00:00 & 1\\\\\n",
       "\t JCdaaa7f  & 131123254891 & 16887606 & Vitals                    & RR &     & 2015-09-14 03:15:00+00:00 & 2\\\\\n",
       "\t JCd01751  & 131275616770 & 41245015 & Mod Sedation              & RR &     & 2019-08-22 00:13:00+00:00 & 2\\\\\n",
       "\t JCd58afe  & 131258964263 & 32686475 & RT Assess/ Treatment      & RR &     & 2018-10-18 14:57:00+00:00 & 2\\\\\n",
       "\t JCdc673b  & 131259855944 & 33008510 & Vitals                    & RR &     & 2018-10-26 02:33:00+00:00 & 2\\\\\n",
       "\t JCe82ff5  & 131239118324 & 26341902 & Hemodynamic Measurements  & RR &     & 2017-09-21 23:55:44+00:00 & 2\\\\\n",
       "\t JCdb7e53  & 131089191238 & 15430795 & Cath/Angio                & RR &     & 2015-04-23 21:30:00+00:00 & 2\\\\\n",
       "\t JCd01751  & 131275616770 & 41245015 & Mod Sedation              & RR &     & 2019-08-22 00:14:00+00:00 & 2\\\\\n",
       "\t JC2a15d5c & 131185152376 & 19616080 & Vitals                    & RR &     & 2016-05-15 02:55:00+00:00 & 2\\\\\n",
       "\t JCe1df11  & 131093945149 & 15996455 & Vitals                    & RR &     & 2015-06-20 02:51:00+00:00 & 2\\\\\n",
       "\t JCcf57e7  & 131282708421 & 45665940 & DATA VALIDATE             & RR & bpm & 2020-02-22 03:09:00+00:00 & 2\\\\\n",
       "\t JCd9c6be  & 131249092777 & 29446103 & Vitals                    & RR &     & 2018-04-24 05:09:00+00:00 & 2\\\\\n",
       "\t JCcb95e3  & 131082830344 & 15014869 & RT Assess/ Treatment      & RR &     & 2015-04-02 23:40:00+00:00 & 2\\\\\n",
       "\t JCe1aaa1  & 131276912621 & 42146314 & RT Assess/ Treatment      & RR &     & 2019-11-04 20:12:00+00:00 & 2\\\\\n",
       "\t JCd7955a  & 131107343530 & 16388194 & DATA VALIDATE             & RR &     & 2015-08-04 12:04:00+00:00 & 3\\\\\n",
       "\t JCd3d8ae  & 131065660828 & 13993175 & Blood Administration      & RR &     & 2015-01-28 08:10:00+00:00 & 3\\\\\n",
       "\t JCcc5b13  & 131240006318 & 26674300 & Hemodynamic Measurements  & RR &     & 2017-10-08 10:26:49+00:00 & 4\\\\\n",
       "\t JCdd24f8  & 131280453949 & 44303489 & Hemodynamic Measurements  & RR &     & 2020-01-05 20:40:32+00:00 & 4\\\\\n",
       "\t JCe8a036  & 131271457676 & 38547207 & Hemodynamic Measurements  & RR &     & 2019-07-23 21:07:10+00:00 & 4\\\\\n",
       "\t JC2a2a65f & 131271336689 & 38470246 & Hemodynamic Measurements  & RR &     & 2019-07-23 05:58:57+00:00 & 4\\\\\n",
       "\t JCd599de  & 131270558152 & 38263189 & Hemodynamic Measurements  & RR &     & 2019-07-17 06:19:15+00:00 & 4\\\\\n",
       "\t JCdc02d7  & 131282876096 & 45771941 & Vitals                    & RR &     & 2020-02-07 20:00:00+00:00 & 4\\\\\n",
       "\t JCe0936e  & 131188814712 & 20154990 & Vitals                    & RR &     & 2016-06-17 17:37:00+00:00 & 4\\\\\n",
       "\t JCeb867b  & 131241735239 & 27406482 & Vitals                    & RR &     & 2017-12-06 09:30:00+00:00 & 5\\\\\n",
       "\t JCd01751  & 131275616770 & 41245015 & Mod Sedation              & RR &     & 2019-08-22 00:15:00+00:00 & 5\\\\\n",
       "\t JC2a0997b & 131269285289 & 37969503 & DATA VALIDATE             & RR &     & 2019-07-03 10:10:00+00:00 & 5\\\\\n",
       "\t JC2a17e5c & 131286099923 & 47200690 & DATA VALIDATE             & RR &     & 2020-03-11 19:07:00+00:00 & 5\\\\\n",
       "\t JCcf7ef1  & 131200117019 & 21581352 & ICU VS                    & RR &     & 2016-10-25 20:00:00+00:00 & 5\\\\\n",
       "\t JCd1ac9d  & 131250103549 & 29821968 & Vitals                    & RR &     & 2018-03-22 05:45:00+00:00 & 5\\\\\n",
       "\t JC2a200b4 & 131277904745 & 42743953 & DATA VALIDATE             & RR &     & 2019-10-20 01:21:00+00:00 & 5\\\\\n",
       "\t JCd93d59  & 131231257787 & 24794329 & ICU VS                    & RR &     & 2017-05-10 22:30:00+00:00 & 5\\\\\n",
       "\t JCe290dc  & 131255362799 & 31535582 & ICU VS                    & RR &     & 2018-07-11 07:25:00+00:00 & 6\\\\\n",
       "\t JCdf7d8b  & 131276601038 & 41989219 & Hemodynamic Measurements  & RR &     & 2019-09-03 22:27:34+00:00 & 6\\\\\n",
       "\t JC2a2a65f & 131271336689 & 38470246 & Hemodynamic Measurements  & RR &     & 2019-07-23 04:52:01+00:00 & 6\\\\\n",
       "\t JCdbf377  & 131273888080 & 40137427 & Vitals                    & RR &     & 2019-07-21 17:55:00+00:00 & 6\\\\\n",
       "\t JCdce4d4  & 131261255413 & 33507500 & Vitals                    & RR &     & 2019-01-02 11:19:00+00:00 & 6\\\\\n",
       "\t JC2a222fe & 131278948715 & 43348215 & Stroke                    & RR &     & 2019-12-08 23:30:00+00:00 & 6\\\\\n",
       "\t JCdefcf9  & 131285470256 & 46982620 & Vitals                    & RR &     & 2020-03-17 02:15:00+00:00 & 6\\\\\n",
       "\t JCcf57e7  & 131282708421 & 45665940 & DATA VALIDATE             & RR & bpm & 2020-02-22 03:15:00+00:00 & 6\\\\\n",
       "\t JCe91cea  & 131242266904 & 27608093 & Vitals                    & RR &     & 2017-11-27 18:30:00+00:00 & 6\\\\\n",
       "\t JCe09997  & 131277091922 & 42217540 & Blood Administration      & RR &     & 2019-09-15 07:43:00+00:00 & 6\\\\\n",
       "\t JCddccad  & 131219355813 & 23573949 & Blood Administration      & RR &     & 2017-03-25 03:15:00+00:00 & 6\\\\\n",
       "\t JCe1654f  & 131134231938 & 17286549 & Vitals                    & RR &     & 2015-10-11 09:00:00+00:00 & 6\\\\\n",
       "\t JCd311c8  & 131094187978 & 16022904 & ICU VS                    & RR &     & 2015-07-31 19:15:00+00:00 & 6\\\\\n",
       "\t JCd5c7bf  & 131139158844 & 17451840 & Vitals                    & RR &     & 2015-10-18 02:35:00+00:00 & 6\\\\\n",
       "\t JCcc5b13  & 131240006318 & 26674300 & Hemodynamic Measurements  & RR &     & 2017-10-08 09:46:04+00:00 & 6\\\\\n",
       "\t JCd6a5da  & 131090282451 & 15542744 & Vitals                    & RR &     & 2015-05-07 23:20:00+00:00 & 6\\\\\n",
       "\t JC2a0af08 & 131265367184 & 35312730 & Vitals                    & RR &     & 2019-02-21 04:27:00+00:00 & 6\\\\\n",
       "\t JC2a0997b & 131269285289 & 37969503 & Postpartum                & RR &     & 2019-07-03 11:00:00+00:00 & 6\\\\\n",
       "\t JCe524e3  & 131242079031 & 27535449 & ICU VS                    & RR &     & 2017-12-30 00:50:00+00:00 & 6\\\\\n",
       "\t JCe18113  & 131276116059 & 41604223 & RT Assess/ Treatment      & RR &     & 2019-09-20 22:50:00+00:00 & 6\\\\\n",
       "\t JCeb867b  & 131241735239 & 27406482 & Vitals                    & RR &     & 2017-12-06 10:30:00+00:00 & 6\\\\\n",
       "\t JCd1cf6a  & 131282785022 & 45713169 & Vitals                    & RR &     & 2020-02-14 21:30:00+00:00 & 6\\\\\n",
       "\t JCcd9fb2  & 131092367275 & 15796960 & Vitals                    & RR &     & 2015-06-21 23:20:00+00:00 & 6\\\\\n",
       "\t JCe0ddca  & 131229603585 & 24586995 & ICU VS                    & RR &     & 2017-04-27 18:00:00+00:00 & 6\\\\\n",
       "\t JCe2f12c  & 131286808835 & 47391836 & ICU VS                    & RR &     & 2020-02-28 23:00:00+00:00 & 6\\\\\n",
       "\t JCdba6d9  & 131262894297 & 34073955 & Hemodynamic Measurements  & RR &     & 2019-02-03 08:16:32+00:00 & 6\\\\\n",
       "\t JCcf796c  & 131259617676 & 32921339 & Vitals                    & RR &     & 2018-10-31 05:53:00+00:00 & 6\\\\\n",
       "\t JCdc3f42  & 131273350585 & 39790849 & DATA VALIDATE             & RR &     & 2019-08-09 08:50:00+00:00 & 6\\\\\n",
       "\t JCdfe49d  & 131262416748 & 33906648 & DATA VALIDATE             & RR &     & 2019-01-07 06:25:00+00:00 & 6\\\\\n",
       "\t JCd4e973  & 131273808957 & 40085899 & Vitals                    & RR &     & 2019-09-07 03:30:00+00:00 & 6\\\\\n",
       "\t JC2a178b6 & 131261117332 & 33456527 & Hemodynamic Measurements  & RR &     & 2018-12-23 20:45:58+00:00 & 6\\\\\n",
       "\t JCcea3b4  & 131262284032 & 33859911 & Vitals                    & RR &     & 2018-12-27 23:12:22+00:00 & 6\\\\\n",
       "\t JCd4e973  & 131273808957 & 40085899 & Vitals                    & RR &     & 2019-09-07 03:52:00+00:00 & 6\\\\\n",
       "\t JCd06d45  & 131262151109 & 33817618 & Vitals                    & RR &     & 2019-02-02 08:00:00+00:00 & 6\\\\\n",
       "\t JC2a1be28 & 131283153758 & 45946108 & ICU VS                    & RR &     & 2020-01-10 23:30:00+00:00 & 7\\\\\n",
       "\t JCe8e638  & 131126283938 & 16991800 & Tx/Procedure              & RR &     & 2015-11-14 01:15:00+00:00 & 7\\\\\n",
       "\t JCe4464e  & 131200543551 & 21632765 & DATA VALIDATE             & RR &     & 2016-10-16 14:00:00+00:00 & 7\\\\\n",
       "\t JCcf399d  & 131082130644 & 14934217 & Endoscopy Intra-Procedure & RR &     & 2015-03-25 22:40:00+00:00 & 7\\\\\n",
       "\t JCcf7ef1  & 131222569472 & 23828750 & Vitals                    & RR &     & 2017-04-13 11:15:00+00:00 & 7\\\\\n",
       "\t JCce19dc  & 131145038471 & 17525405 & ICU VS                    & RR &     & 2015-12-01 21:00:00+00:00 & 7\\\\\n",
       "\t JCcf6ff0  & 131175551490 & 18211836 & Vitals                    & RR &     & 2016-02-06 01:00:00+00:00 & 7\\\\\n",
       "\t ... & ... & ... & ... & ... & ... & ... & ...\\\\\n",
       "\t JCd43a54  & 131187019578 & 19899964 & Vitals                   & RR &  & 2016-05-12 23:15:00+00:00 &   7\\\\\n",
       "\t JCe463c0  & 131110269525 & 16535865 & DATA VALIDATE            & RR &  & 2015-09-10 20:00:00+00:00 &   7\\\\\n",
       "\t JCcdd92b  & 131250942344 & 30140386 & DATA VALIDATE            & RR &  & 2018-04-23 23:30:00+00:00 &   7\\\\\n",
       "\t JC2a309c4 & 131277985354 & 42795682 & ICU VS                   & RR &  & 2019-11-07 07:00:00+00:00 &   7\\\\\n",
       "\t JCd6711a  & 131262697544 & 34004443 & Vitals                   & RR &  & 2019-02-02 19:40:00+00:00 &   7\\\\\n",
       "\t JCcc4d1b  & 131282436270 & 45490073 & Hemodynamic Measurements & RR &  & 2020-01-10 00:36:58+00:00 &   7\\\\\n",
       "\t JCe2f12c  & 131286808835 & 47391836 & Vitals                   & RR &  & 2020-02-28 23:30:00+00:00 &   7\\\\\n",
       "\t JC2a04a93 & 131276851956 & 42132514 & Vitals                   & RR &  & 2019-09-26 10:30:00+00:00 &   7\\\\\n",
       "\t JCe401ee  & 131115479140 & 16669368 & Vitals                   & RR &  & 2015-08-29 04:20:00+00:00 &   7\\\\\n",
       "\t JCe4464e  & 131200543551 & 21632765 & DATA VALIDATE            & RR &  & 2016-10-16 14:12:00+00:00 &   7\\\\\n",
       "\t JCcc9a29  & 131249414013 & 29562262 & Vitals                   & RR &  & 2018-03-04 20:20:00+00:00 &  71\\\\\n",
       "\t JCd17af0  & 131269808041 & 38112287 & Vitals                   & RR &  & 2019-05-30 20:51:00+00:00 &  73\\\\\n",
       "\t JCd98354  & 131085396705 & 15325668 & Vitals                   & RR &  & 2015-05-29 01:30:00+00:00 &  73\\\\\n",
       "\t JCd345f7  & 131262690526 & 34002252 & Hemodynamic Measurements & RR &  & 2019-02-26 04:06:59+00:00 &  75\\\\\n",
       "\t JCe3a80d  & 131255409999 & 31542711 & Hemodynamic Measurements & RR &  & 2018-08-02 21:21:35+00:00 &  75\\\\\n",
       "\t JCe4a606  & 131267602811 & 36797567 & Hemodynamic Measurements & RR &  & 2019-04-26 17:31:38+00:00 &  76\\\\\n",
       "\t JCe378b8  & 131092943166 & 15871367 & Vitals                   & RR &  & 2015-06-13 20:18:00+00:00 &  77\\\\\n",
       "\t JC2a01569 & 131261770999 & 33689163 & Hemodynamic Measurements & RR &  & 2019-01-24 21:32:17+00:00 &  77\\\\\n",
       "\t JCe5a025  & 131090161627 & 15528197 & Vitals                   & RR &  & 2015-05-28 18:51:00+00:00 &  78\\\\\n",
       "\t JC2a24ee9 & 131271277918 & 38432795 & Vitals                   & RR &  & 2019-05-30 03:30:00+00:00 &  79\\\\\n",
       "\t JCe18113  & 131276116059 & 41604223 & DATA VALIDATE            & RR &  & 2019-09-20 22:51:00+00:00 &  81\\\\\n",
       "\t JCce2ca8  & 131258171527 & 32401742 & Vitals                   & RR &  & 2018-09-19 21:25:00+00:00 &  84\\\\\n",
       "\t JCd0d718  & 131166221334 & 17983932 & Vitals                   & RR &  & 2015-12-19 15:06:00+00:00 &  88\\\\\n",
       "\t JCd99a64  & 131242212057 & 27587288 & Vitals                   & RR &  & 2017-11-09 17:41:00+00:00 &  90\\\\\n",
       "\t JCdb52d3  & 131276444911 & 41861207 & Vitals                   & RR &  & 2019-09-30 01:18:00+00:00 &  92\\\\\n",
       "\t JCe31ee8  & 131210847018 & 22648299 & RT Assess/ Treatment     & RR &  & 2016-12-27 04:25:00+00:00 &  93\\\\\n",
       "\t JCe950b2  & 131083193598 & 15053971 & ICU VS                   & RR &  & 2015-04-14 11:00:00+00:00 &  93\\\\\n",
       "\t JCe0ac81  & 131091175502 & 15650792 & Vitals                   & RR &  & 2015-07-08 03:03:15+00:00 &  93\\\\\n",
       "\t JCe176e0  & 131205359723 & 22057616 & Vitals                   & RR &  & 2016-11-24 02:09:00+00:00 &  94\\\\\n",
       "\t JCe55e33  & 131262364591 & 33888271 & DATA VALIDATE            & RR &  & 2019-01-09 16:54:00+00:00 &  94\\\\\n",
       "\t JCe1fac8  & 131258905288 & 32665381 & Vitals                   & RR &  & 2018-10-08 04:27:00+00:00 &  95\\\\\n",
       "\t JCd7bed6  & 131259202592 & 32772782 & Vitals                   & RR &  & 2018-11-29 07:09:00+00:00 &  96\\\\\n",
       "\t JCccf5c5  & 131211741721 & 22750199 & Vitals                   & RR &  & 2017-01-10 01:23:00+00:00 &  96\\\\\n",
       "\t JCdc7ba4  & 131126157814 & 16978993 & Vitals                   & RR &  & 2015-10-15 16:00:00+00:00 &  96\\\\\n",
       "\t JCe247c0  & 131170881629 & 18097597 & Vitals                   & RR &  & 2015-12-20 22:27:00+00:00 &  97\\\\\n",
       "\t JCe3ad7c  & 131092857230 & 15860113 & Vitals                   & RR &  & 2015-06-09 01:03:00+00:00 &  98\\\\\n",
       "\t JCd7cb5e  & 131176386140 & 18350053 & Vitals                   & RR &  & 2015-12-31 22:57:00+00:00 &  98\\\\\n",
       "\t JCcc6611  & 131121727871 & 16839840 & Vitals                   & RR &  & 2015-10-10 15:55:00+00:00 &  98\\\\\n",
       "\t JCe84f06  & 131175866199 & 18260711 & ICU VS                   & RR &  & 2016-01-03 04:20:00+00:00 &  99\\\\\n",
       "\t JCe54820  & 131224473258 & 24059886 & Vitals                   & RR &  & 2017-04-30 23:41:00+00:00 & 100\\\\\n",
       "\t JCd66aca  & 131184908639 & 19574051 & Vitals                   & RR &  & 2016-04-21 04:58:00+00:00 & 100\\\\\n",
       "\t JCddf7f9  & 131258681817 & 32584557 & Vitals                   & RR &  & 2018-10-07 18:10:00+00:00 & 100\\\\\n",
       "\t JCe32301  & 131248340290 & 29198523 & Vitals                   & RR &  & 2018-04-08 22:23:00+00:00 & 100\\\\\n",
       "\t JCce95b1  & 131106848790 & 16341712 & Vitals                   & RR &  & 2015-08-14 10:11:00+00:00 & 102\\\\\n",
       "\t JCda5692  & 131179085122 & 18697386 & Vitals                   & RR &  & 2016-03-26 19:16:00+00:00 & 106\\\\\n",
       "\t JCe56b3e  & 131079838356 & 14750383 & IIC VS                   & RR &  & 2015-03-09 03:00:00+00:00 & 107\\\\\n",
       "\t JCeb7ccc  & 131111471378 & 16565614 & Vital Signs              & RR &  & 2015-08-27 23:46:00+00:00 & 108\\\\\n",
       "\t JCdd7807  & 131261416155 & 33567799 & Vitals                   & RR &  & 2018-11-21 19:05:00+00:00 & 108\\\\\n",
       "\t JCd1232d  & 131257228811 & 32071589 & DATA VALIDATE            & RR &  & 2018-08-26 01:13:00+00:00 & 110\\\\\n",
       "\t JCebf6ae  & 131236082726 & 25297254 & Vitals                   & RR &  & 2017-06-18 20:00:00+00:00 & 112\\\\\n",
       "\t JCdab3d0  & 131072299235 & 14294507 & Vitals                   & RR &  & 2015-01-18 15:16:00+00:00 & 115\\\\\n",
       "\t JCd44a4f  & 131237444268 & 25802461 & ICU VS                   & RR &  & 2017-07-14 05:00:00+00:00 & 116\\\\\n",
       "\t JCeb23cd  & 131264180018 & 34526929 & Vitals                   & RR &  & 2019-04-01 15:52:00+00:00 & 116\\\\\n",
       "\t JCdd81f6  & 131131167179 & 17157571 & Vitals                   & RR &  & 2015-11-25 00:00:00+00:00 & 116\\\\\n",
       "\t JCeb1454  & 131236120755 & 25310935 & Vitals From Sheet        & RR &  & 2017-06-19 05:15:00+00:00 & 117\\\\\n",
       "\t JCe7ac73  & 131258415153 & 32489021 & Vitals                   & RR &  & 2018-10-01 02:50:00+00:00 & 117\\\\\n",
       "\t JCeb9e87  & 131256753161 & 31904130 & Vitals                   & RR &  & 2018-08-07 15:49:00+00:00 & 118\\\\\n",
       "\t JCdfc5d6  & 131201858252 & 21798215 & Vitals                   & RR &  & 2016-10-24 04:23:00+00:00 & 118\\\\\n",
       "\t JCce423b  & 131110182740 & 16529817 & M/S VS                   & RR &  & 2015-09-19 00:16:00+00:00 & 118\\\\\n",
       "\t JCce3f12  & 131146484997 & 17545747 & Vitals                   & RR &  & 2015-12-17 02:44:00+00:00 & 118\\\\\n",
       "\t JCe1eecd  & 131206610662 & 22189051 & Blood Administration     & RR &  & 2016-11-27 03:44:00+00:00 & 118\\\\\n",
       "\t JCdd0a4b  & 131241300880 & 27124675 & Vitals                   & RR &  & 2017-12-11 02:41:00+00:00 & 118\\\\\n",
       "\t JCdd43da  & 131264231219 & 34545842 & Vitals                   & RR &  & 2019-03-10 01:28:00+00:00 & 118\\\\\n",
       "\t JCd138cf  & 131250456451 & 29956152 & Blood Administration     & RR &  & 2018-04-03 02:44:00+00:00 & 118\\\\\n",
       "\t JCd86e6a  & 131191571573 & 20536644 & Vitals                   & RR &  & 2016-06-18 20:12:00+00:00 & 123\\\\\n",
       "\t JCdde080  & 131240266571 & 26772498 & Vitals                   & RR &  & 2017-10-28 02:32:00+00:00 & 129\\\\\n",
       "\t JCcc5b13  & 131240006318 & 26674300 & Hemodynamic Measurements & RR &  & 2017-10-08 09:32:55+00:00 & 132\\\\\n",
       "\t JCe4a606  & 131267602811 & 36797567 & Hemodynamic Measurements & RR &  & 2019-04-26 19:43:57+00:00 & 133\\\\\n",
       "\t JCe1859c  & 131176042974 & 18290829 & Vitals                   & RR &  & 2016-02-01 23:30:00+00:00 & 158\\\\\n",
       "\t JCccf909  & 131066595640 & 14107857 & Vital Signs              & RR &  & 2015-02-05 03:00:00+00:00 & 185\\\\\n",
       "\t JCd7da23  & 131066458959 & 14091252 & Vitals                   & RR &  & 2015-02-19 07:30:00+00:00 & 185\\\\\n",
       "\t JCe95423  & 131065292233 & 13948362 & IIC VS                   & RR &  & 2015-01-14 00:05:00+00:00 & 185\\\\\n",
       "\t JCd614a2  & 131125508680 & 16939409 & ICU VS                   & RR &  & 2015-11-07 09:00:00+00:00 & 187\\\\\n",
       "\t JCd4d2a8  & 131117089410 & 16716194 & Vitals                   & RR &  & 2015-08-22 02:35:00+00:00 & 187\\\\\n",
       "\t JCcce9f4  & 131176298402 & 18334619 & Vitals                   & RR &  & 2016-01-08 23:44:00+00:00 & 189\\\\\n",
       "\\end{tabular}\n"
      ],
      "text/markdown": [
       "\n",
       "A data.frame: 187 × 8\n",
       "\n",
       "| anon_id &lt;chr&gt; | pat_enc_csn_id_coded &lt;dbl&gt; | inpatient_data_id_coded &lt;int&gt; | template &lt;chr&gt; | features &lt;chr&gt; | units &lt;chr&gt; | recorded_time &lt;chr&gt; | values &lt;dbl&gt; |\n",
       "|---|---|---|---|---|---|---|---|\n",
       "| JCe417b1  | 131230525726 | 24701848 | Vitals                    | RR | <!----> | 2017-05-29 02:30:00+00:00 | 1 |\n",
       "| JCe63c45  | 131274983183 | 40839473 | ICU VS                    | RR | <!----> | 2019-09-26 05:35:00+00:00 | 1 |\n",
       "| JCd6e0ff  | 131259219370 | 32779469 | Vitals                    | RR | <!----> | 2018-10-28 19:00:00+00:00 | 1 |\n",
       "| JCd70f22  | 131100576218 | 16135288 | RT Assess/ Treatment      | RR | <!----> | 2015-08-04 11:48:00+00:00 | 1 |\n",
       "| JCdaaa7f  | 131123254891 | 16887606 | Vitals                    | RR | <!----> | 2015-09-14 03:15:00+00:00 | 2 |\n",
       "| JCd01751  | 131275616770 | 41245015 | Mod Sedation              | RR | <!----> | 2019-08-22 00:13:00+00:00 | 2 |\n",
       "| JCd58afe  | 131258964263 | 32686475 | RT Assess/ Treatment      | RR | <!----> | 2018-10-18 14:57:00+00:00 | 2 |\n",
       "| JCdc673b  | 131259855944 | 33008510 | Vitals                    | RR | <!----> | 2018-10-26 02:33:00+00:00 | 2 |\n",
       "| JCe82ff5  | 131239118324 | 26341902 | Hemodynamic Measurements  | RR | <!----> | 2017-09-21 23:55:44+00:00 | 2 |\n",
       "| JCdb7e53  | 131089191238 | 15430795 | Cath/Angio                | RR | <!----> | 2015-04-23 21:30:00+00:00 | 2 |\n",
       "| JCd01751  | 131275616770 | 41245015 | Mod Sedation              | RR | <!----> | 2019-08-22 00:14:00+00:00 | 2 |\n",
       "| JC2a15d5c | 131185152376 | 19616080 | Vitals                    | RR | <!----> | 2016-05-15 02:55:00+00:00 | 2 |\n",
       "| JCe1df11  | 131093945149 | 15996455 | Vitals                    | RR | <!----> | 2015-06-20 02:51:00+00:00 | 2 |\n",
       "| JCcf57e7  | 131282708421 | 45665940 | DATA VALIDATE             | RR | bpm | 2020-02-22 03:09:00+00:00 | 2 |\n",
       "| JCd9c6be  | 131249092777 | 29446103 | Vitals                    | RR | <!----> | 2018-04-24 05:09:00+00:00 | 2 |\n",
       "| JCcb95e3  | 131082830344 | 15014869 | RT Assess/ Treatment      | RR | <!----> | 2015-04-02 23:40:00+00:00 | 2 |\n",
       "| JCe1aaa1  | 131276912621 | 42146314 | RT Assess/ Treatment      | RR | <!----> | 2019-11-04 20:12:00+00:00 | 2 |\n",
       "| JCd7955a  | 131107343530 | 16388194 | DATA VALIDATE             | RR | <!----> | 2015-08-04 12:04:00+00:00 | 3 |\n",
       "| JCd3d8ae  | 131065660828 | 13993175 | Blood Administration      | RR | <!----> | 2015-01-28 08:10:00+00:00 | 3 |\n",
       "| JCcc5b13  | 131240006318 | 26674300 | Hemodynamic Measurements  | RR | <!----> | 2017-10-08 10:26:49+00:00 | 4 |\n",
       "| JCdd24f8  | 131280453949 | 44303489 | Hemodynamic Measurements  | RR | <!----> | 2020-01-05 20:40:32+00:00 | 4 |\n",
       "| JCe8a036  | 131271457676 | 38547207 | Hemodynamic Measurements  | RR | <!----> | 2019-07-23 21:07:10+00:00 | 4 |\n",
       "| JC2a2a65f | 131271336689 | 38470246 | Hemodynamic Measurements  | RR | <!----> | 2019-07-23 05:58:57+00:00 | 4 |\n",
       "| JCd599de  | 131270558152 | 38263189 | Hemodynamic Measurements  | RR | <!----> | 2019-07-17 06:19:15+00:00 | 4 |\n",
       "| JCdc02d7  | 131282876096 | 45771941 | Vitals                    | RR | <!----> | 2020-02-07 20:00:00+00:00 | 4 |\n",
       "| JCe0936e  | 131188814712 | 20154990 | Vitals                    | RR | <!----> | 2016-06-17 17:37:00+00:00 | 4 |\n",
       "| JCeb867b  | 131241735239 | 27406482 | Vitals                    | RR | <!----> | 2017-12-06 09:30:00+00:00 | 5 |\n",
       "| JCd01751  | 131275616770 | 41245015 | Mod Sedation              | RR | <!----> | 2019-08-22 00:15:00+00:00 | 5 |\n",
       "| JC2a0997b | 131269285289 | 37969503 | DATA VALIDATE             | RR | <!----> | 2019-07-03 10:10:00+00:00 | 5 |\n",
       "| JC2a17e5c | 131286099923 | 47200690 | DATA VALIDATE             | RR | <!----> | 2020-03-11 19:07:00+00:00 | 5 |\n",
       "| JCcf7ef1  | 131200117019 | 21581352 | ICU VS                    | RR | <!----> | 2016-10-25 20:00:00+00:00 | 5 |\n",
       "| JCd1ac9d  | 131250103549 | 29821968 | Vitals                    | RR | <!----> | 2018-03-22 05:45:00+00:00 | 5 |\n",
       "| JC2a200b4 | 131277904745 | 42743953 | DATA VALIDATE             | RR | <!----> | 2019-10-20 01:21:00+00:00 | 5 |\n",
       "| JCd93d59  | 131231257787 | 24794329 | ICU VS                    | RR | <!----> | 2017-05-10 22:30:00+00:00 | 5 |\n",
       "| JCe290dc  | 131255362799 | 31535582 | ICU VS                    | RR | <!----> | 2018-07-11 07:25:00+00:00 | 6 |\n",
       "| JCdf7d8b  | 131276601038 | 41989219 | Hemodynamic Measurements  | RR | <!----> | 2019-09-03 22:27:34+00:00 | 6 |\n",
       "| JC2a2a65f | 131271336689 | 38470246 | Hemodynamic Measurements  | RR | <!----> | 2019-07-23 04:52:01+00:00 | 6 |\n",
       "| JCdbf377  | 131273888080 | 40137427 | Vitals                    | RR | <!----> | 2019-07-21 17:55:00+00:00 | 6 |\n",
       "| JCdce4d4  | 131261255413 | 33507500 | Vitals                    | RR | <!----> | 2019-01-02 11:19:00+00:00 | 6 |\n",
       "| JC2a222fe | 131278948715 | 43348215 | Stroke                    | RR | <!----> | 2019-12-08 23:30:00+00:00 | 6 |\n",
       "| JCdefcf9  | 131285470256 | 46982620 | Vitals                    | RR | <!----> | 2020-03-17 02:15:00+00:00 | 6 |\n",
       "| JCcf57e7  | 131282708421 | 45665940 | DATA VALIDATE             | RR | bpm | 2020-02-22 03:15:00+00:00 | 6 |\n",
       "| JCe91cea  | 131242266904 | 27608093 | Vitals                    | RR | <!----> | 2017-11-27 18:30:00+00:00 | 6 |\n",
       "| JCe09997  | 131277091922 | 42217540 | Blood Administration      | RR | <!----> | 2019-09-15 07:43:00+00:00 | 6 |\n",
       "| JCddccad  | 131219355813 | 23573949 | Blood Administration      | RR | <!----> | 2017-03-25 03:15:00+00:00 | 6 |\n",
       "| JCe1654f  | 131134231938 | 17286549 | Vitals                    | RR | <!----> | 2015-10-11 09:00:00+00:00 | 6 |\n",
       "| JCd311c8  | 131094187978 | 16022904 | ICU VS                    | RR | <!----> | 2015-07-31 19:15:00+00:00 | 6 |\n",
       "| JCd5c7bf  | 131139158844 | 17451840 | Vitals                    | RR | <!----> | 2015-10-18 02:35:00+00:00 | 6 |\n",
       "| JCcc5b13  | 131240006318 | 26674300 | Hemodynamic Measurements  | RR | <!----> | 2017-10-08 09:46:04+00:00 | 6 |\n",
       "| JCd6a5da  | 131090282451 | 15542744 | Vitals                    | RR | <!----> | 2015-05-07 23:20:00+00:00 | 6 |\n",
       "| JC2a0af08 | 131265367184 | 35312730 | Vitals                    | RR | <!----> | 2019-02-21 04:27:00+00:00 | 6 |\n",
       "| JC2a0997b | 131269285289 | 37969503 | Postpartum                | RR | <!----> | 2019-07-03 11:00:00+00:00 | 6 |\n",
       "| JCe524e3  | 131242079031 | 27535449 | ICU VS                    | RR | <!----> | 2017-12-30 00:50:00+00:00 | 6 |\n",
       "| JCe18113  | 131276116059 | 41604223 | RT Assess/ Treatment      | RR | <!----> | 2019-09-20 22:50:00+00:00 | 6 |\n",
       "| JCeb867b  | 131241735239 | 27406482 | Vitals                    | RR | <!----> | 2017-12-06 10:30:00+00:00 | 6 |\n",
       "| JCd1cf6a  | 131282785022 | 45713169 | Vitals                    | RR | <!----> | 2020-02-14 21:30:00+00:00 | 6 |\n",
       "| JCcd9fb2  | 131092367275 | 15796960 | Vitals                    | RR | <!----> | 2015-06-21 23:20:00+00:00 | 6 |\n",
       "| JCe0ddca  | 131229603585 | 24586995 | ICU VS                    | RR | <!----> | 2017-04-27 18:00:00+00:00 | 6 |\n",
       "| JCe2f12c  | 131286808835 | 47391836 | ICU VS                    | RR | <!----> | 2020-02-28 23:00:00+00:00 | 6 |\n",
       "| JCdba6d9  | 131262894297 | 34073955 | Hemodynamic Measurements  | RR | <!----> | 2019-02-03 08:16:32+00:00 | 6 |\n",
       "| JCcf796c  | 131259617676 | 32921339 | Vitals                    | RR | <!----> | 2018-10-31 05:53:00+00:00 | 6 |\n",
       "| JCdc3f42  | 131273350585 | 39790849 | DATA VALIDATE             | RR | <!----> | 2019-08-09 08:50:00+00:00 | 6 |\n",
       "| JCdfe49d  | 131262416748 | 33906648 | DATA VALIDATE             | RR | <!----> | 2019-01-07 06:25:00+00:00 | 6 |\n",
       "| JCd4e973  | 131273808957 | 40085899 | Vitals                    | RR | <!----> | 2019-09-07 03:30:00+00:00 | 6 |\n",
       "| JC2a178b6 | 131261117332 | 33456527 | Hemodynamic Measurements  | RR | <!----> | 2018-12-23 20:45:58+00:00 | 6 |\n",
       "| JCcea3b4  | 131262284032 | 33859911 | Vitals                    | RR | <!----> | 2018-12-27 23:12:22+00:00 | 6 |\n",
       "| JCd4e973  | 131273808957 | 40085899 | Vitals                    | RR | <!----> | 2019-09-07 03:52:00+00:00 | 6 |\n",
       "| JCd06d45  | 131262151109 | 33817618 | Vitals                    | RR | <!----> | 2019-02-02 08:00:00+00:00 | 6 |\n",
       "| JC2a1be28 | 131283153758 | 45946108 | ICU VS                    | RR | <!----> | 2020-01-10 23:30:00+00:00 | 7 |\n",
       "| JCe8e638  | 131126283938 | 16991800 | Tx/Procedure              | RR | <!----> | 2015-11-14 01:15:00+00:00 | 7 |\n",
       "| JCe4464e  | 131200543551 | 21632765 | DATA VALIDATE             | RR | <!----> | 2016-10-16 14:00:00+00:00 | 7 |\n",
       "| JCcf399d  | 131082130644 | 14934217 | Endoscopy Intra-Procedure | RR | <!----> | 2015-03-25 22:40:00+00:00 | 7 |\n",
       "| JCcf7ef1  | 131222569472 | 23828750 | Vitals                    | RR | <!----> | 2017-04-13 11:15:00+00:00 | 7 |\n",
       "| JCce19dc  | 131145038471 | 17525405 | ICU VS                    | RR | <!----> | 2015-12-01 21:00:00+00:00 | 7 |\n",
       "| JCcf6ff0  | 131175551490 | 18211836 | Vitals                    | RR | <!----> | 2016-02-06 01:00:00+00:00 | 7 |\n",
       "| ... | ... | ... | ... | ... | ... | ... | ... |\n",
       "| JCd43a54  | 131187019578 | 19899964 | Vitals                   | RR | <!----> | 2016-05-12 23:15:00+00:00 |   7 |\n",
       "| JCe463c0  | 131110269525 | 16535865 | DATA VALIDATE            | RR | <!----> | 2015-09-10 20:00:00+00:00 |   7 |\n",
       "| JCcdd92b  | 131250942344 | 30140386 | DATA VALIDATE            | RR | <!----> | 2018-04-23 23:30:00+00:00 |   7 |\n",
       "| JC2a309c4 | 131277985354 | 42795682 | ICU VS                   | RR | <!----> | 2019-11-07 07:00:00+00:00 |   7 |\n",
       "| JCd6711a  | 131262697544 | 34004443 | Vitals                   | RR | <!----> | 2019-02-02 19:40:00+00:00 |   7 |\n",
       "| JCcc4d1b  | 131282436270 | 45490073 | Hemodynamic Measurements | RR | <!----> | 2020-01-10 00:36:58+00:00 |   7 |\n",
       "| JCe2f12c  | 131286808835 | 47391836 | Vitals                   | RR | <!----> | 2020-02-28 23:30:00+00:00 |   7 |\n",
       "| JC2a04a93 | 131276851956 | 42132514 | Vitals                   | RR | <!----> | 2019-09-26 10:30:00+00:00 |   7 |\n",
       "| JCe401ee  | 131115479140 | 16669368 | Vitals                   | RR | <!----> | 2015-08-29 04:20:00+00:00 |   7 |\n",
       "| JCe4464e  | 131200543551 | 21632765 | DATA VALIDATE            | RR | <!----> | 2016-10-16 14:12:00+00:00 |   7 |\n",
       "| JCcc9a29  | 131249414013 | 29562262 | Vitals                   | RR | <!----> | 2018-03-04 20:20:00+00:00 |  71 |\n",
       "| JCd17af0  | 131269808041 | 38112287 | Vitals                   | RR | <!----> | 2019-05-30 20:51:00+00:00 |  73 |\n",
       "| JCd98354  | 131085396705 | 15325668 | Vitals                   | RR | <!----> | 2015-05-29 01:30:00+00:00 |  73 |\n",
       "| JCd345f7  | 131262690526 | 34002252 | Hemodynamic Measurements | RR | <!----> | 2019-02-26 04:06:59+00:00 |  75 |\n",
       "| JCe3a80d  | 131255409999 | 31542711 | Hemodynamic Measurements | RR | <!----> | 2018-08-02 21:21:35+00:00 |  75 |\n",
       "| JCe4a606  | 131267602811 | 36797567 | Hemodynamic Measurements | RR | <!----> | 2019-04-26 17:31:38+00:00 |  76 |\n",
       "| JCe378b8  | 131092943166 | 15871367 | Vitals                   | RR | <!----> | 2015-06-13 20:18:00+00:00 |  77 |\n",
       "| JC2a01569 | 131261770999 | 33689163 | Hemodynamic Measurements | RR | <!----> | 2019-01-24 21:32:17+00:00 |  77 |\n",
       "| JCe5a025  | 131090161627 | 15528197 | Vitals                   | RR | <!----> | 2015-05-28 18:51:00+00:00 |  78 |\n",
       "| JC2a24ee9 | 131271277918 | 38432795 | Vitals                   | RR | <!----> | 2019-05-30 03:30:00+00:00 |  79 |\n",
       "| JCe18113  | 131276116059 | 41604223 | DATA VALIDATE            | RR | <!----> | 2019-09-20 22:51:00+00:00 |  81 |\n",
       "| JCce2ca8  | 131258171527 | 32401742 | Vitals                   | RR | <!----> | 2018-09-19 21:25:00+00:00 |  84 |\n",
       "| JCd0d718  | 131166221334 | 17983932 | Vitals                   | RR | <!----> | 2015-12-19 15:06:00+00:00 |  88 |\n",
       "| JCd99a64  | 131242212057 | 27587288 | Vitals                   | RR | <!----> | 2017-11-09 17:41:00+00:00 |  90 |\n",
       "| JCdb52d3  | 131276444911 | 41861207 | Vitals                   | RR | <!----> | 2019-09-30 01:18:00+00:00 |  92 |\n",
       "| JCe31ee8  | 131210847018 | 22648299 | RT Assess/ Treatment     | RR | <!----> | 2016-12-27 04:25:00+00:00 |  93 |\n",
       "| JCe950b2  | 131083193598 | 15053971 | ICU VS                   | RR | <!----> | 2015-04-14 11:00:00+00:00 |  93 |\n",
       "| JCe0ac81  | 131091175502 | 15650792 | Vitals                   | RR | <!----> | 2015-07-08 03:03:15+00:00 |  93 |\n",
       "| JCe176e0  | 131205359723 | 22057616 | Vitals                   | RR | <!----> | 2016-11-24 02:09:00+00:00 |  94 |\n",
       "| JCe55e33  | 131262364591 | 33888271 | DATA VALIDATE            | RR | <!----> | 2019-01-09 16:54:00+00:00 |  94 |\n",
       "| JCe1fac8  | 131258905288 | 32665381 | Vitals                   | RR | <!----> | 2018-10-08 04:27:00+00:00 |  95 |\n",
       "| JCd7bed6  | 131259202592 | 32772782 | Vitals                   | RR | <!----> | 2018-11-29 07:09:00+00:00 |  96 |\n",
       "| JCccf5c5  | 131211741721 | 22750199 | Vitals                   | RR | <!----> | 2017-01-10 01:23:00+00:00 |  96 |\n",
       "| JCdc7ba4  | 131126157814 | 16978993 | Vitals                   | RR | <!----> | 2015-10-15 16:00:00+00:00 |  96 |\n",
       "| JCe247c0  | 131170881629 | 18097597 | Vitals                   | RR | <!----> | 2015-12-20 22:27:00+00:00 |  97 |\n",
       "| JCe3ad7c  | 131092857230 | 15860113 | Vitals                   | RR | <!----> | 2015-06-09 01:03:00+00:00 |  98 |\n",
       "| JCd7cb5e  | 131176386140 | 18350053 | Vitals                   | RR | <!----> | 2015-12-31 22:57:00+00:00 |  98 |\n",
       "| JCcc6611  | 131121727871 | 16839840 | Vitals                   | RR | <!----> | 2015-10-10 15:55:00+00:00 |  98 |\n",
       "| JCe84f06  | 131175866199 | 18260711 | ICU VS                   | RR | <!----> | 2016-01-03 04:20:00+00:00 |  99 |\n",
       "| JCe54820  | 131224473258 | 24059886 | Vitals                   | RR | <!----> | 2017-04-30 23:41:00+00:00 | 100 |\n",
       "| JCd66aca  | 131184908639 | 19574051 | Vitals                   | RR | <!----> | 2016-04-21 04:58:00+00:00 | 100 |\n",
       "| JCddf7f9  | 131258681817 | 32584557 | Vitals                   | RR | <!----> | 2018-10-07 18:10:00+00:00 | 100 |\n",
       "| JCe32301  | 131248340290 | 29198523 | Vitals                   | RR | <!----> | 2018-04-08 22:23:00+00:00 | 100 |\n",
       "| JCce95b1  | 131106848790 | 16341712 | Vitals                   | RR | <!----> | 2015-08-14 10:11:00+00:00 | 102 |\n",
       "| JCda5692  | 131179085122 | 18697386 | Vitals                   | RR | <!----> | 2016-03-26 19:16:00+00:00 | 106 |\n",
       "| JCe56b3e  | 131079838356 | 14750383 | IIC VS                   | RR | <!----> | 2015-03-09 03:00:00+00:00 | 107 |\n",
       "| JCeb7ccc  | 131111471378 | 16565614 | Vital Signs              | RR | <!----> | 2015-08-27 23:46:00+00:00 | 108 |\n",
       "| JCdd7807  | 131261416155 | 33567799 | Vitals                   | RR | <!----> | 2018-11-21 19:05:00+00:00 | 108 |\n",
       "| JCd1232d  | 131257228811 | 32071589 | DATA VALIDATE            | RR | <!----> | 2018-08-26 01:13:00+00:00 | 110 |\n",
       "| JCebf6ae  | 131236082726 | 25297254 | Vitals                   | RR | <!----> | 2017-06-18 20:00:00+00:00 | 112 |\n",
       "| JCdab3d0  | 131072299235 | 14294507 | Vitals                   | RR | <!----> | 2015-01-18 15:16:00+00:00 | 115 |\n",
       "| JCd44a4f  | 131237444268 | 25802461 | ICU VS                   | RR | <!----> | 2017-07-14 05:00:00+00:00 | 116 |\n",
       "| JCeb23cd  | 131264180018 | 34526929 | Vitals                   | RR | <!----> | 2019-04-01 15:52:00+00:00 | 116 |\n",
       "| JCdd81f6  | 131131167179 | 17157571 | Vitals                   | RR | <!----> | 2015-11-25 00:00:00+00:00 | 116 |\n",
       "| JCeb1454  | 131236120755 | 25310935 | Vitals From Sheet        | RR | <!----> | 2017-06-19 05:15:00+00:00 | 117 |\n",
       "| JCe7ac73  | 131258415153 | 32489021 | Vitals                   | RR | <!----> | 2018-10-01 02:50:00+00:00 | 117 |\n",
       "| JCeb9e87  | 131256753161 | 31904130 | Vitals                   | RR | <!----> | 2018-08-07 15:49:00+00:00 | 118 |\n",
       "| JCdfc5d6  | 131201858252 | 21798215 | Vitals                   | RR | <!----> | 2016-10-24 04:23:00+00:00 | 118 |\n",
       "| JCce423b  | 131110182740 | 16529817 | M/S VS                   | RR | <!----> | 2015-09-19 00:16:00+00:00 | 118 |\n",
       "| JCce3f12  | 131146484997 | 17545747 | Vitals                   | RR | <!----> | 2015-12-17 02:44:00+00:00 | 118 |\n",
       "| JCe1eecd  | 131206610662 | 22189051 | Blood Administration     | RR | <!----> | 2016-11-27 03:44:00+00:00 | 118 |\n",
       "| JCdd0a4b  | 131241300880 | 27124675 | Vitals                   | RR | <!----> | 2017-12-11 02:41:00+00:00 | 118 |\n",
       "| JCdd43da  | 131264231219 | 34545842 | Vitals                   | RR | <!----> | 2019-03-10 01:28:00+00:00 | 118 |\n",
       "| JCd138cf  | 131250456451 | 29956152 | Blood Administration     | RR | <!----> | 2018-04-03 02:44:00+00:00 | 118 |\n",
       "| JCd86e6a  | 131191571573 | 20536644 | Vitals                   | RR | <!----> | 2016-06-18 20:12:00+00:00 | 123 |\n",
       "| JCdde080  | 131240266571 | 26772498 | Vitals                   | RR | <!----> | 2017-10-28 02:32:00+00:00 | 129 |\n",
       "| JCcc5b13  | 131240006318 | 26674300 | Hemodynamic Measurements | RR | <!----> | 2017-10-08 09:32:55+00:00 | 132 |\n",
       "| JCe4a606  | 131267602811 | 36797567 | Hemodynamic Measurements | RR | <!----> | 2019-04-26 19:43:57+00:00 | 133 |\n",
       "| JCe1859c  | 131176042974 | 18290829 | Vitals                   | RR | <!----> | 2016-02-01 23:30:00+00:00 | 158 |\n",
       "| JCccf909  | 131066595640 | 14107857 | Vital Signs              | RR | <!----> | 2015-02-05 03:00:00+00:00 | 185 |\n",
       "| JCd7da23  | 131066458959 | 14091252 | Vitals                   | RR | <!----> | 2015-02-19 07:30:00+00:00 | 185 |\n",
       "| JCe95423  | 131065292233 | 13948362 | IIC VS                   | RR | <!----> | 2015-01-14 00:05:00+00:00 | 185 |\n",
       "| JCd614a2  | 131125508680 | 16939409 | ICU VS                   | RR | <!----> | 2015-11-07 09:00:00+00:00 | 187 |\n",
       "| JCd4d2a8  | 131117089410 | 16716194 | Vitals                   | RR | <!----> | 2015-08-22 02:35:00+00:00 | 187 |\n",
       "| JCcce9f4  | 131176298402 | 18334619 | Vitals                   | RR | <!----> | 2016-01-08 23:44:00+00:00 | 189 |\n",
       "\n"
      ],
      "text/plain": [
       "    anon_id   pat_enc_csn_id_coded inpatient_data_id_coded\n",
       "1   JCe417b1  131230525726         24701848               \n",
       "2   JCe63c45  131274983183         40839473               \n",
       "3   JCd6e0ff  131259219370         32779469               \n",
       "4   JCd70f22  131100576218         16135288               \n",
       "5   JCdaaa7f  131123254891         16887606               \n",
       "6   JCd01751  131275616770         41245015               \n",
       "7   JCd58afe  131258964263         32686475               \n",
       "8   JCdc673b  131259855944         33008510               \n",
       "9   JCe82ff5  131239118324         26341902               \n",
       "10  JCdb7e53  131089191238         15430795               \n",
       "11  JCd01751  131275616770         41245015               \n",
       "12  JC2a15d5c 131185152376         19616080               \n",
       "13  JCe1df11  131093945149         15996455               \n",
       "14  JCcf57e7  131282708421         45665940               \n",
       "15  JCd9c6be  131249092777         29446103               \n",
       "16  JCcb95e3  131082830344         15014869               \n",
       "17  JCe1aaa1  131276912621         42146314               \n",
       "18  JCd7955a  131107343530         16388194               \n",
       "19  JCd3d8ae  131065660828         13993175               \n",
       "20  JCcc5b13  131240006318         26674300               \n",
       "21  JCdd24f8  131280453949         44303489               \n",
       "22  JCe8a036  131271457676         38547207               \n",
       "23  JC2a2a65f 131271336689         38470246               \n",
       "24  JCd599de  131270558152         38263189               \n",
       "25  JCdc02d7  131282876096         45771941               \n",
       "26  JCe0936e  131188814712         20154990               \n",
       "27  JCeb867b  131241735239         27406482               \n",
       "28  JCd01751  131275616770         41245015               \n",
       "29  JC2a0997b 131269285289         37969503               \n",
       "30  JC2a17e5c 131286099923         47200690               \n",
       "31  JCcf7ef1  131200117019         21581352               \n",
       "32  JCd1ac9d  131250103549         29821968               \n",
       "33  JC2a200b4 131277904745         42743953               \n",
       "34  JCd93d59  131231257787         24794329               \n",
       "35  JCe290dc  131255362799         31535582               \n",
       "36  JCdf7d8b  131276601038         41989219               \n",
       "37  JC2a2a65f 131271336689         38470246               \n",
       "38  JCdbf377  131273888080         40137427               \n",
       "39  JCdce4d4  131261255413         33507500               \n",
       "40  JC2a222fe 131278948715         43348215               \n",
       "41  JCdefcf9  131285470256         46982620               \n",
       "42  JCcf57e7  131282708421         45665940               \n",
       "43  JCe91cea  131242266904         27608093               \n",
       "44  JCe09997  131277091922         42217540               \n",
       "45  JCddccad  131219355813         23573949               \n",
       "46  JCe1654f  131134231938         17286549               \n",
       "47  JCd311c8  131094187978         16022904               \n",
       "48  JCd5c7bf  131139158844         17451840               \n",
       "49  JCcc5b13  131240006318         26674300               \n",
       "50  JCd6a5da  131090282451         15542744               \n",
       "51  JC2a0af08 131265367184         35312730               \n",
       "52  JC2a0997b 131269285289         37969503               \n",
       "53  JCe524e3  131242079031         27535449               \n",
       "54  JCe18113  131276116059         41604223               \n",
       "55  JCeb867b  131241735239         27406482               \n",
       "56  JCd1cf6a  131282785022         45713169               \n",
       "57  JCcd9fb2  131092367275         15796960               \n",
       "58  JCe0ddca  131229603585         24586995               \n",
       "59  JCe2f12c  131286808835         47391836               \n",
       "60  JCdba6d9  131262894297         34073955               \n",
       "61  JCcf796c  131259617676         32921339               \n",
       "62  JCdc3f42  131273350585         39790849               \n",
       "63  JCdfe49d  131262416748         33906648               \n",
       "64  JCd4e973  131273808957         40085899               \n",
       "65  JC2a178b6 131261117332         33456527               \n",
       "66  JCcea3b4  131262284032         33859911               \n",
       "67  JCd4e973  131273808957         40085899               \n",
       "68  JCd06d45  131262151109         33817618               \n",
       "69  JC2a1be28 131283153758         45946108               \n",
       "70  JCe8e638  131126283938         16991800               \n",
       "71  JCe4464e  131200543551         21632765               \n",
       "72  JCcf399d  131082130644         14934217               \n",
       "73  JCcf7ef1  131222569472         23828750               \n",
       "74  JCce19dc  131145038471         17525405               \n",
       "75  JCcf6ff0  131175551490         18211836               \n",
       "... ...       ...                  ...                    \n",
       "113 JCd43a54  131187019578         19899964               \n",
       "114 JCe463c0  131110269525         16535865               \n",
       "115 JCcdd92b  131250942344         30140386               \n",
       "116 JC2a309c4 131277985354         42795682               \n",
       "117 JCd6711a  131262697544         34004443               \n",
       "118 JCcc4d1b  131282436270         45490073               \n",
       "119 JCe2f12c  131286808835         47391836               \n",
       "120 JC2a04a93 131276851956         42132514               \n",
       "121 JCe401ee  131115479140         16669368               \n",
       "122 JCe4464e  131200543551         21632765               \n",
       "123 JCcc9a29  131249414013         29562262               \n",
       "124 JCd17af0  131269808041         38112287               \n",
       "125 JCd98354  131085396705         15325668               \n",
       "126 JCd345f7  131262690526         34002252               \n",
       "127 JCe3a80d  131255409999         31542711               \n",
       "128 JCe4a606  131267602811         36797567               \n",
       "129 JCe378b8  131092943166         15871367               \n",
       "130 JC2a01569 131261770999         33689163               \n",
       "131 JCe5a025  131090161627         15528197               \n",
       "132 JC2a24ee9 131271277918         38432795               \n",
       "133 JCe18113  131276116059         41604223               \n",
       "134 JCce2ca8  131258171527         32401742               \n",
       "135 JCd0d718  131166221334         17983932               \n",
       "136 JCd99a64  131242212057         27587288               \n",
       "137 JCdb52d3  131276444911         41861207               \n",
       "138 JCe31ee8  131210847018         22648299               \n",
       "139 JCe950b2  131083193598         15053971               \n",
       "140 JCe0ac81  131091175502         15650792               \n",
       "141 JCe176e0  131205359723         22057616               \n",
       "142 JCe55e33  131262364591         33888271               \n",
       "143 JCe1fac8  131258905288         32665381               \n",
       "144 JCd7bed6  131259202592         32772782               \n",
       "145 JCccf5c5  131211741721         22750199               \n",
       "146 JCdc7ba4  131126157814         16978993               \n",
       "147 JCe247c0  131170881629         18097597               \n",
       "148 JCe3ad7c  131092857230         15860113               \n",
       "149 JCd7cb5e  131176386140         18350053               \n",
       "150 JCcc6611  131121727871         16839840               \n",
       "151 JCe84f06  131175866199         18260711               \n",
       "152 JCe54820  131224473258         24059886               \n",
       "153 JCd66aca  131184908639         19574051               \n",
       "154 JCddf7f9  131258681817         32584557               \n",
       "155 JCe32301  131248340290         29198523               \n",
       "156 JCce95b1  131106848790         16341712               \n",
       "157 JCda5692  131179085122         18697386               \n",
       "158 JCe56b3e  131079838356         14750383               \n",
       "159 JCeb7ccc  131111471378         16565614               \n",
       "160 JCdd7807  131261416155         33567799               \n",
       "161 JCd1232d  131257228811         32071589               \n",
       "162 JCebf6ae  131236082726         25297254               \n",
       "163 JCdab3d0  131072299235         14294507               \n",
       "164 JCd44a4f  131237444268         25802461               \n",
       "165 JCeb23cd  131264180018         34526929               \n",
       "166 JCdd81f6  131131167179         17157571               \n",
       "167 JCeb1454  131236120755         25310935               \n",
       "168 JCe7ac73  131258415153         32489021               \n",
       "169 JCeb9e87  131256753161         31904130               \n",
       "170 JCdfc5d6  131201858252         21798215               \n",
       "171 JCce423b  131110182740         16529817               \n",
       "172 JCce3f12  131146484997         17545747               \n",
       "173 JCe1eecd  131206610662         22189051               \n",
       "174 JCdd0a4b  131241300880         27124675               \n",
       "175 JCdd43da  131264231219         34545842               \n",
       "176 JCd138cf  131250456451         29956152               \n",
       "177 JCd86e6a  131191571573         20536644               \n",
       "178 JCdde080  131240266571         26772498               \n",
       "179 JCcc5b13  131240006318         26674300               \n",
       "180 JCe4a606  131267602811         36797567               \n",
       "181 JCe1859c  131176042974         18290829               \n",
       "182 JCccf909  131066595640         14107857               \n",
       "183 JCd7da23  131066458959         14091252               \n",
       "184 JCe95423  131065292233         13948362               \n",
       "185 JCd614a2  131125508680         16939409               \n",
       "186 JCd4d2a8  131117089410         16716194               \n",
       "187 JCcce9f4  131176298402         18334619               \n",
       "    template                  features units recorded_time             values\n",
       "1   Vitals                    RR             2017-05-29 02:30:00+00:00 1     \n",
       "2   ICU VS                    RR             2019-09-26 05:35:00+00:00 1     \n",
       "3   Vitals                    RR             2018-10-28 19:00:00+00:00 1     \n",
       "4   RT Assess/ Treatment      RR             2015-08-04 11:48:00+00:00 1     \n",
       "5   Vitals                    RR             2015-09-14 03:15:00+00:00 2     \n",
       "6   Mod Sedation              RR             2019-08-22 00:13:00+00:00 2     \n",
       "7   RT Assess/ Treatment      RR             2018-10-18 14:57:00+00:00 2     \n",
       "8   Vitals                    RR             2018-10-26 02:33:00+00:00 2     \n",
       "9   Hemodynamic Measurements  RR             2017-09-21 23:55:44+00:00 2     \n",
       "10  Cath/Angio                RR             2015-04-23 21:30:00+00:00 2     \n",
       "11  Mod Sedation              RR             2019-08-22 00:14:00+00:00 2     \n",
       "12  Vitals                    RR             2016-05-15 02:55:00+00:00 2     \n",
       "13  Vitals                    RR             2015-06-20 02:51:00+00:00 2     \n",
       "14  DATA VALIDATE             RR       bpm   2020-02-22 03:09:00+00:00 2     \n",
       "15  Vitals                    RR             2018-04-24 05:09:00+00:00 2     \n",
       "16  RT Assess/ Treatment      RR             2015-04-02 23:40:00+00:00 2     \n",
       "17  RT Assess/ Treatment      RR             2019-11-04 20:12:00+00:00 2     \n",
       "18  DATA VALIDATE             RR             2015-08-04 12:04:00+00:00 3     \n",
       "19  Blood Administration      RR             2015-01-28 08:10:00+00:00 3     \n",
       "20  Hemodynamic Measurements  RR             2017-10-08 10:26:49+00:00 4     \n",
       "21  Hemodynamic Measurements  RR             2020-01-05 20:40:32+00:00 4     \n",
       "22  Hemodynamic Measurements  RR             2019-07-23 21:07:10+00:00 4     \n",
       "23  Hemodynamic Measurements  RR             2019-07-23 05:58:57+00:00 4     \n",
       "24  Hemodynamic Measurements  RR             2019-07-17 06:19:15+00:00 4     \n",
       "25  Vitals                    RR             2020-02-07 20:00:00+00:00 4     \n",
       "26  Vitals                    RR             2016-06-17 17:37:00+00:00 4     \n",
       "27  Vitals                    RR             2017-12-06 09:30:00+00:00 5     \n",
       "28  Mod Sedation              RR             2019-08-22 00:15:00+00:00 5     \n",
       "29  DATA VALIDATE             RR             2019-07-03 10:10:00+00:00 5     \n",
       "30  DATA VALIDATE             RR             2020-03-11 19:07:00+00:00 5     \n",
       "31  ICU VS                    RR             2016-10-25 20:00:00+00:00 5     \n",
       "32  Vitals                    RR             2018-03-22 05:45:00+00:00 5     \n",
       "33  DATA VALIDATE             RR             2019-10-20 01:21:00+00:00 5     \n",
       "34  ICU VS                    RR             2017-05-10 22:30:00+00:00 5     \n",
       "35  ICU VS                    RR             2018-07-11 07:25:00+00:00 6     \n",
       "36  Hemodynamic Measurements  RR             2019-09-03 22:27:34+00:00 6     \n",
       "37  Hemodynamic Measurements  RR             2019-07-23 04:52:01+00:00 6     \n",
       "38  Vitals                    RR             2019-07-21 17:55:00+00:00 6     \n",
       "39  Vitals                    RR             2019-01-02 11:19:00+00:00 6     \n",
       "40  Stroke                    RR             2019-12-08 23:30:00+00:00 6     \n",
       "41  Vitals                    RR             2020-03-17 02:15:00+00:00 6     \n",
       "42  DATA VALIDATE             RR       bpm   2020-02-22 03:15:00+00:00 6     \n",
       "43  Vitals                    RR             2017-11-27 18:30:00+00:00 6     \n",
       "44  Blood Administration      RR             2019-09-15 07:43:00+00:00 6     \n",
       "45  Blood Administration      RR             2017-03-25 03:15:00+00:00 6     \n",
       "46  Vitals                    RR             2015-10-11 09:00:00+00:00 6     \n",
       "47  ICU VS                    RR             2015-07-31 19:15:00+00:00 6     \n",
       "48  Vitals                    RR             2015-10-18 02:35:00+00:00 6     \n",
       "49  Hemodynamic Measurements  RR             2017-10-08 09:46:04+00:00 6     \n",
       "50  Vitals                    RR             2015-05-07 23:20:00+00:00 6     \n",
       "51  Vitals                    RR             2019-02-21 04:27:00+00:00 6     \n",
       "52  Postpartum                RR             2019-07-03 11:00:00+00:00 6     \n",
       "53  ICU VS                    RR             2017-12-30 00:50:00+00:00 6     \n",
       "54  RT Assess/ Treatment      RR             2019-09-20 22:50:00+00:00 6     \n",
       "55  Vitals                    RR             2017-12-06 10:30:00+00:00 6     \n",
       "56  Vitals                    RR             2020-02-14 21:30:00+00:00 6     \n",
       "57  Vitals                    RR             2015-06-21 23:20:00+00:00 6     \n",
       "58  ICU VS                    RR             2017-04-27 18:00:00+00:00 6     \n",
       "59  ICU VS                    RR             2020-02-28 23:00:00+00:00 6     \n",
       "60  Hemodynamic Measurements  RR             2019-02-03 08:16:32+00:00 6     \n",
       "61  Vitals                    RR             2018-10-31 05:53:00+00:00 6     \n",
       "62  DATA VALIDATE             RR             2019-08-09 08:50:00+00:00 6     \n",
       "63  DATA VALIDATE             RR             2019-01-07 06:25:00+00:00 6     \n",
       "64  Vitals                    RR             2019-09-07 03:30:00+00:00 6     \n",
       "65  Hemodynamic Measurements  RR             2018-12-23 20:45:58+00:00 6     \n",
       "66  Vitals                    RR             2018-12-27 23:12:22+00:00 6     \n",
       "67  Vitals                    RR             2019-09-07 03:52:00+00:00 6     \n",
       "68  Vitals                    RR             2019-02-02 08:00:00+00:00 6     \n",
       "69  ICU VS                    RR             2020-01-10 23:30:00+00:00 7     \n",
       "70  Tx/Procedure              RR             2015-11-14 01:15:00+00:00 7     \n",
       "71  DATA VALIDATE             RR             2016-10-16 14:00:00+00:00 7     \n",
       "72  Endoscopy Intra-Procedure RR             2015-03-25 22:40:00+00:00 7     \n",
       "73  Vitals                    RR             2017-04-13 11:15:00+00:00 7     \n",
       "74  ICU VS                    RR             2015-12-01 21:00:00+00:00 7     \n",
       "75  Vitals                    RR             2016-02-06 01:00:00+00:00 7     \n",
       "... ...                       ...      ...   ...                       ...   \n",
       "113 Vitals                    RR             2016-05-12 23:15:00+00:00   7   \n",
       "114 DATA VALIDATE             RR             2015-09-10 20:00:00+00:00   7   \n",
       "115 DATA VALIDATE             RR             2018-04-23 23:30:00+00:00   7   \n",
       "116 ICU VS                    RR             2019-11-07 07:00:00+00:00   7   \n",
       "117 Vitals                    RR             2019-02-02 19:40:00+00:00   7   \n",
       "118 Hemodynamic Measurements  RR             2020-01-10 00:36:58+00:00   7   \n",
       "119 Vitals                    RR             2020-02-28 23:30:00+00:00   7   \n",
       "120 Vitals                    RR             2019-09-26 10:30:00+00:00   7   \n",
       "121 Vitals                    RR             2015-08-29 04:20:00+00:00   7   \n",
       "122 DATA VALIDATE             RR             2016-10-16 14:12:00+00:00   7   \n",
       "123 Vitals                    RR             2018-03-04 20:20:00+00:00  71   \n",
       "124 Vitals                    RR             2019-05-30 20:51:00+00:00  73   \n",
       "125 Vitals                    RR             2015-05-29 01:30:00+00:00  73   \n",
       "126 Hemodynamic Measurements  RR             2019-02-26 04:06:59+00:00  75   \n",
       "127 Hemodynamic Measurements  RR             2018-08-02 21:21:35+00:00  75   \n",
       "128 Hemodynamic Measurements  RR             2019-04-26 17:31:38+00:00  76   \n",
       "129 Vitals                    RR             2015-06-13 20:18:00+00:00  77   \n",
       "130 Hemodynamic Measurements  RR             2019-01-24 21:32:17+00:00  77   \n",
       "131 Vitals                    RR             2015-05-28 18:51:00+00:00  78   \n",
       "132 Vitals                    RR             2019-05-30 03:30:00+00:00  79   \n",
       "133 DATA VALIDATE             RR             2019-09-20 22:51:00+00:00  81   \n",
       "134 Vitals                    RR             2018-09-19 21:25:00+00:00  84   \n",
       "135 Vitals                    RR             2015-12-19 15:06:00+00:00  88   \n",
       "136 Vitals                    RR             2017-11-09 17:41:00+00:00  90   \n",
       "137 Vitals                    RR             2019-09-30 01:18:00+00:00  92   \n",
       "138 RT Assess/ Treatment      RR             2016-12-27 04:25:00+00:00  93   \n",
       "139 ICU VS                    RR             2015-04-14 11:00:00+00:00  93   \n",
       "140 Vitals                    RR             2015-07-08 03:03:15+00:00  93   \n",
       "141 Vitals                    RR             2016-11-24 02:09:00+00:00  94   \n",
       "142 DATA VALIDATE             RR             2019-01-09 16:54:00+00:00  94   \n",
       "143 Vitals                    RR             2018-10-08 04:27:00+00:00  95   \n",
       "144 Vitals                    RR             2018-11-29 07:09:00+00:00  96   \n",
       "145 Vitals                    RR             2017-01-10 01:23:00+00:00  96   \n",
       "146 Vitals                    RR             2015-10-15 16:00:00+00:00  96   \n",
       "147 Vitals                    RR             2015-12-20 22:27:00+00:00  97   \n",
       "148 Vitals                    RR             2015-06-09 01:03:00+00:00  98   \n",
       "149 Vitals                    RR             2015-12-31 22:57:00+00:00  98   \n",
       "150 Vitals                    RR             2015-10-10 15:55:00+00:00  98   \n",
       "151 ICU VS                    RR             2016-01-03 04:20:00+00:00  99   \n",
       "152 Vitals                    RR             2017-04-30 23:41:00+00:00 100   \n",
       "153 Vitals                    RR             2016-04-21 04:58:00+00:00 100   \n",
       "154 Vitals                    RR             2018-10-07 18:10:00+00:00 100   \n",
       "155 Vitals                    RR             2018-04-08 22:23:00+00:00 100   \n",
       "156 Vitals                    RR             2015-08-14 10:11:00+00:00 102   \n",
       "157 Vitals                    RR             2016-03-26 19:16:00+00:00 106   \n",
       "158 IIC VS                    RR             2015-03-09 03:00:00+00:00 107   \n",
       "159 Vital Signs               RR             2015-08-27 23:46:00+00:00 108   \n",
       "160 Vitals                    RR             2018-11-21 19:05:00+00:00 108   \n",
       "161 DATA VALIDATE             RR             2018-08-26 01:13:00+00:00 110   \n",
       "162 Vitals                    RR             2017-06-18 20:00:00+00:00 112   \n",
       "163 Vitals                    RR             2015-01-18 15:16:00+00:00 115   \n",
       "164 ICU VS                    RR             2017-07-14 05:00:00+00:00 116   \n",
       "165 Vitals                    RR             2019-04-01 15:52:00+00:00 116   \n",
       "166 Vitals                    RR             2015-11-25 00:00:00+00:00 116   \n",
       "167 Vitals From Sheet         RR             2017-06-19 05:15:00+00:00 117   \n",
       "168 Vitals                    RR             2018-10-01 02:50:00+00:00 117   \n",
       "169 Vitals                    RR             2018-08-07 15:49:00+00:00 118   \n",
       "170 Vitals                    RR             2016-10-24 04:23:00+00:00 118   \n",
       "171 M/S VS                    RR             2015-09-19 00:16:00+00:00 118   \n",
       "172 Vitals                    RR             2015-12-17 02:44:00+00:00 118   \n",
       "173 Blood Administration      RR             2016-11-27 03:44:00+00:00 118   \n",
       "174 Vitals                    RR             2017-12-11 02:41:00+00:00 118   \n",
       "175 Vitals                    RR             2019-03-10 01:28:00+00:00 118   \n",
       "176 Blood Administration      RR             2018-04-03 02:44:00+00:00 118   \n",
       "177 Vitals                    RR             2016-06-18 20:12:00+00:00 123   \n",
       "178 Vitals                    RR             2017-10-28 02:32:00+00:00 129   \n",
       "179 Hemodynamic Measurements  RR             2017-10-08 09:32:55+00:00 132   \n",
       "180 Hemodynamic Measurements  RR             2019-04-26 19:43:57+00:00 133   \n",
       "181 Vitals                    RR             2016-02-01 23:30:00+00:00 158   \n",
       "182 Vital Signs               RR             2015-02-05 03:00:00+00:00 185   \n",
       "183 Vitals                    RR             2015-02-19 07:30:00+00:00 185   \n",
       "184 IIC VS                    RR             2015-01-14 00:05:00+00:00 185   \n",
       "185 ICU VS                    RR             2015-11-07 09:00:00+00:00 187   \n",
       "186 Vitals                    RR             2015-08-22 02:35:00+00:00 187   \n",
       "187 Vitals                    RR             2016-01-08 23:44:00+00:00 189   "
      ]
     },
     "metadata": {},
     "output_type": "display_data"
    },
    {
     "data": {
      "image/png": "[encoded data removed]",
      "text/plain": [
       "Plot with title \"Histogram of df[df$values > 50, ]$values\""
      ]
     },
     "metadata": {
      "image/png": {
       "height": 420,
       "width": 420
      }
     },
     "output_type": "display_data"
    },
    {
     "data": {
      "image/png": "[encoded data removed]",
      "text/plain": [
       "Plot with title \"Histogram of df[df$values < 10, ]$values\""
      ]
     },
     "metadata": {
      "image/png": {
       "height": 420,
       "width": 420
      }
     },
     "output_type": "display_data"
    }
   ],
   "source": [
    "df <- vitals %>% filter(features == \"RR\")\n",
    "nrow(filter(df, values > 70 | values < 8))\n",
    "\n",
    "# there are some 0\n",
    "filter(df, values > 70 | values < 8 & values > 0) %>% arrange(values)\n",
    "\n",
    "hist(df[df$values > 50,]$values, breaks=100)\n",
    "hist(df[df$values < 10,]$values, breaks=10)"
   ]
  },
  {
   "cell_type": "code",
   "execution_count": 109,
   "metadata": {},
   "outputs": [
    {
     "data": {
      "text/html": [
       "<style>\n",
       ".list-inline {list-style: none; margin:0; padding: 0}\n",
       ".list-inline>li {display: inline-block}\n",
       ".list-inline>li:not(:last-child)::after {content: \"\\00b7\"; padding: 0 .5ex}\n",
       "</style>\n",
       "<ol class=list-inline><li>'RR'</li><li>'SBP'</li><li>'Temp'</li><li>'Pulse'</li></ol>\n"
      ],
      "text/latex": [
       "\\begin{enumerate*}\n",
       "\\item 'RR'\n",
       "\\item 'SBP'\n",
       "\\item 'Temp'\n",
       "\\item 'Pulse'\n",
       "\\end{enumerate*}\n"
      ],
      "text/markdown": [
       "1. 'RR'\n",
       "2. 'SBP'\n",
       "3. 'Temp'\n",
       "4. 'Pulse'\n",
       "\n",
       "\n"
      ],
      "text/plain": [
       "[1] \"RR\"    \"SBP\"   \"Temp\"  \"Pulse\""
      ]
     },
     "metadata": {},
     "output_type": "display_data"
    },
    {
     "data": {
      "text/plain": [
       "   Min. 1st Qu.  Median    Mean 3rd Qu.    Max.    NA's \n",
       " -17.70   26.00   87.00   77.63  109.00  419.00    2849 "
      ]
     },
     "metadata": {},
     "output_type": "display_data"
    },
    {
     "data": {
      "text/html": [
       "<table>\n",
       "<caption>A data.frame: 6 × 8</caption>\n",
       "<thead>\n",
       "\t<tr><th></th><th scope=col>anon_id</th><th scope=col>pat_enc_csn_id_coded</th><th scope=col>inpatient_data_id_coded</th><th scope=col>template</th><th scope=col>features</th><th scope=col>units</th><th scope=col>recorded_time</th><th scope=col>values</th></tr>\n",
       "\t<tr><th></th><th scope=col>&lt;chr&gt;</th><th scope=col>&lt;dbl&gt;</th><th scope=col>&lt;int&gt;</th><th scope=col>&lt;chr&gt;</th><th scope=col>&lt;chr&gt;</th><th scope=col>&lt;chr&gt;</th><th scope=col>&lt;chr&gt;</th><th scope=col>&lt;dbl&gt;</th></tr>\n",
       "</thead>\n",
       "<tbody>\n",
       "\t<tr><th scope=row>1</th><td>JCe15c20</td><td>131254814765</td><td>31338316</td><td>Vitals       </td><td>RR  </td><td></td><td>2018-08-22 16:00:00+00:00</td><td> 16</td></tr>\n",
       "\t<tr><th scope=row>2</th><td>JCd0a8db</td><td>131264538689</td><td>34735715</td><td>DATA VALIDATE</td><td>SBP </td><td></td><td>2019-02-11 11:45:00+00:00</td><td>178</td></tr>\n",
       "\t<tr><th scope=row>3</th><td>JCdeb93e</td><td>131266509496</td><td>36078047</td><td>M/S VS       </td><td>Temp</td><td></td><td>2019-04-03 22:45:00+00:00</td><td> 98</td></tr>\n",
       "\t<tr><th scope=row>4</th><td>JCcbf217</td><td>131241202790</td><td>27087604</td><td>DATA VALIDATE</td><td>SBP </td><td></td><td>2017-12-18 06:30:00+00:00</td><td> 88</td></tr>\n",
       "\t<tr><th scope=row>5</th><td>JCd64572</td><td>131231133056</td><td>24776616</td><td>Vitals       </td><td>SBP </td><td></td><td>2017-06-21 20:45:00+00:00</td><td>163</td></tr>\n",
       "\t<tr><th scope=row>6</th><td>JCd884d0</td><td>131121019062</td><td>16807919</td><td>DATA VALIDATE</td><td>SBP </td><td></td><td>2015-10-16 19:00:00+00:00</td><td> 97</td></tr>\n",
       "</tbody>\n",
       "</table>\n"
      ],
      "text/latex": [
       "A data.frame: 6 × 8\n",
       "\\begin{tabular}{r|llllllll}\n",
       "  & anon\\_id & pat\\_enc\\_csn\\_id\\_coded & inpatient\\_data\\_id\\_coded & template & features & units & recorded\\_time & values\\\\\n",
       "  & <chr> & <dbl> & <int> & <chr> & <chr> & <chr> & <chr> & <dbl>\\\\\n",
       "\\hline\n",
       "\t1 & JCe15c20 & 131254814765 & 31338316 & Vitals        & RR   &  & 2018-08-22 16:00:00+00:00 &  16\\\\\n",
       "\t2 & JCd0a8db & 131264538689 & 34735715 & DATA VALIDATE & SBP  &  & 2019-02-11 11:45:00+00:00 & 178\\\\\n",
       "\t3 & JCdeb93e & 131266509496 & 36078047 & M/S VS        & Temp &  & 2019-04-03 22:45:00+00:00 &  98\\\\\n",
       "\t4 & JCcbf217 & 131241202790 & 27087604 & DATA VALIDATE & SBP  &  & 2017-12-18 06:30:00+00:00 &  88\\\\\n",
       "\t5 & JCd64572 & 131231133056 & 24776616 & Vitals        & SBP  &  & 2017-06-21 20:45:00+00:00 & 163\\\\\n",
       "\t6 & JCd884d0 & 131121019062 & 16807919 & DATA VALIDATE & SBP  &  & 2015-10-16 19:00:00+00:00 &  97\\\\\n",
       "\\end{tabular}\n"
      ],
      "text/markdown": [
       "\n",
       "A data.frame: 6 × 8\n",
       "\n",
       "| <!--/--> | anon_id &lt;chr&gt; | pat_enc_csn_id_coded &lt;dbl&gt; | inpatient_data_id_coded &lt;int&gt; | template &lt;chr&gt; | features &lt;chr&gt; | units &lt;chr&gt; | recorded_time &lt;chr&gt; | values &lt;dbl&gt; |\n",
       "|---|---|---|---|---|---|---|---|---|\n",
       "| 1 | JCe15c20 | 131254814765 | 31338316 | Vitals        | RR   | <!----> | 2018-08-22 16:00:00+00:00 |  16 |\n",
       "| 2 | JCd0a8db | 131264538689 | 34735715 | DATA VALIDATE | SBP  | <!----> | 2019-02-11 11:45:00+00:00 | 178 |\n",
       "| 3 | JCdeb93e | 131266509496 | 36078047 | M/S VS        | Temp | <!----> | 2019-04-03 22:45:00+00:00 |  98 |\n",
       "| 4 | JCcbf217 | 131241202790 | 27087604 | DATA VALIDATE | SBP  | <!----> | 2017-12-18 06:30:00+00:00 |  88 |\n",
       "| 5 | JCd64572 | 131231133056 | 24776616 | Vitals        | SBP  | <!----> | 2017-06-21 20:45:00+00:00 | 163 |\n",
       "| 6 | JCd884d0 | 131121019062 | 16807919 | DATA VALIDATE | SBP  | <!----> | 2015-10-16 19:00:00+00:00 |  97 |\n",
       "\n"
      ],
      "text/plain": [
       "  anon_id  pat_enc_csn_id_coded inpatient_data_id_coded template      features\n",
       "1 JCe15c20 131254814765         31338316                Vitals        RR      \n",
       "2 JCd0a8db 131264538689         34735715                DATA VALIDATE SBP     \n",
       "3 JCdeb93e 131266509496         36078047                M/S VS        Temp    \n",
       "4 JCcbf217 131241202790         27087604                DATA VALIDATE SBP     \n",
       "5 JCd64572 131231133056         24776616                Vitals        SBP     \n",
       "6 JCd884d0 131121019062         16807919                DATA VALIDATE SBP     \n",
       "  units recorded_time             values\n",
       "1       2018-08-22 16:00:00+00:00  16   \n",
       "2       2019-02-11 11:45:00+00:00 178   \n",
       "3       2019-04-03 22:45:00+00:00  98   \n",
       "4       2017-12-18 06:30:00+00:00  88   \n",
       "5       2017-06-21 20:45:00+00:00 163   \n",
       "6       2015-10-16 19:00:00+00:00  97   "
      ]
     },
     "metadata": {},
     "output_type": "display_data"
    }
   ],
   "source": [
    "unique(vitals$features)\n",
    "summary(vitals$values)\n",
    "\n",
    "head(vitals)"
   ]
  },
  {
   "cell_type": "markdown",
   "metadata": {},
   "source": [
    "### Clean the variables: Temp, SBP, Pulse, and RR"
   ]
  },
  {
   "cell_type": "code",
   "execution_count": 113,
   "metadata": {},
   "outputs": [
    {
     "data": {
      "text/plain": [
       "     values     \n",
       " Min.   :26.00  \n",
       " 1st Qu.:36.70  \n",
       " Median :37.00  \n",
       " Mean   :36.99  \n",
       " 3rd Qu.:37.00  \n",
       " Max.   :43.40  \n",
       " NA's   :743    "
      ]
     },
     "metadata": {},
     "output_type": "display_data"
    }
   ],
   "source": [
    "# nothing btwn 45-47, so if > 45 (or actually num_value1 >= 75), convert to C\n",
    "# replace num_value1 < 20 --> only 2: 0.1 and 9.4 for Temp, and a bunch for Temp(in C)\n",
    "vitals <- vitals %>% \n",
    "            mutate(values=ifelse(features==\"Temp\",                                  \n",
    "                                 ifelse(values < 26, NA,\n",
    "                                         ifelse(values <= 45, values, round((values - 32)*5.0/9.0))), values))\n",
    "\n",
    "summary(vitals %>% filter(features == \"Temp\") %>% select(values))"
   ]
  },
  {
   "cell_type": "code",
   "execution_count": 119,
   "metadata": {},
   "outputs": [
    {
     "data": {
      "text/html": [
       "798882"
      ],
      "text/latex": [
       "798882"
      ],
      "text/markdown": [
       "798882"
      ],
      "text/plain": [
       "[1] 798882"
      ]
     },
     "metadata": {},
     "output_type": "display_data"
    },
    {
     "data": {
      "text/html": [
       "<table>\n",
       "<caption>A data.frame: 4 × 2</caption>\n",
       "<thead>\n",
       "\t<tr><th scope=col>features</th><th scope=col>n</th></tr>\n",
       "\t<tr><th scope=col>&lt;chr&gt;</th><th scope=col>&lt;int&gt;</th></tr>\n",
       "</thead>\n",
       "<tbody>\n",
       "\t<tr><td>Pulse</td><td>226963</td></tr>\n",
       "\t<tr><td>RR   </td><td>215294</td></tr>\n",
       "\t<tr><td>SBP  </td><td>212421</td></tr>\n",
       "\t<tr><td>Temp </td><td>144204</td></tr>\n",
       "</tbody>\n",
       "</table>\n"
      ],
      "text/latex": [
       "A data.frame: 4 × 2\n",
       "\\begin{tabular}{ll}\n",
       " features & n\\\\\n",
       " <chr> & <int>\\\\\n",
       "\\hline\n",
       "\t Pulse & 226963\\\\\n",
       "\t RR    & 215294\\\\\n",
       "\t SBP   & 212421\\\\\n",
       "\t Temp  & 144204\\\\\n",
       "\\end{tabular}\n"
      ],
      "text/markdown": [
       "\n",
       "A data.frame: 4 × 2\n",
       "\n",
       "| features &lt;chr&gt; | n &lt;int&gt; |\n",
       "|---|---|\n",
       "| Pulse | 226963 |\n",
       "| RR    | 215294 |\n",
       "| SBP   | 212421 |\n",
       "| Temp  | 144204 |\n",
       "\n"
      ],
      "text/plain": [
       "  features n     \n",
       "1 Pulse    226963\n",
       "2 RR       215294\n",
       "3 SBP      212421\n",
       "4 Temp     144204"
      ]
     },
     "metadata": {},
     "output_type": "display_data"
    },
    {
     "data": {
      "text/html": [
       "45613"
      ],
      "text/latex": [
       "45613"
      ],
      "text/markdown": [
       "45613"
      ],
      "text/plain": [
       "[1] 45613"
      ]
     },
     "metadata": {},
     "output_type": "display_data"
    }
   ],
   "source": [
    "# remove  all NA's, by each feature, as the data is in the long format,\n",
    "# keep only distinct rows, ok with recorded_time same but different values\n",
    "vitals <- vitals %>% \n",
    "            mutate(values = ifelse(features == \"SBP\" & values < 30, NA, # < 33 or 30 same effect & > 310 old\n",
    "                             ifelse(features == \"Pulse\" & values < 11, NA, # 21 before\n",
    "                                 ifelse(features == \"RR\" & (values < 5 | values > 60), NA, # 60 before (tried 70)\n",
    "                                         ifelse(features == \"Temp\" & values < 26, NA, values))))) %>%  # 29 before, 26 min here\n",
    "            drop_na(values) %>% distinct()\n",
    "\n",
    "nrow(vitals)\n",
    "vitals %>% count(features) %>% arrange(-n)\n",
    "nrow(vitals %>% select(anon_id, pat_enc_csn_id_coded) %>% distinct())"
   ]
  },
  {
   "cell_type": "code",
   "execution_count": 120,
   "metadata": {},
   "outputs": [
    {
     "name": "stdout",
     "output_type": "stream",
     "text": [
      "[1] \"Pulse\"\n",
      "   Min. 1st Qu.  Median    Mean 3rd Qu.    Max. \n",
      "  12.00   73.00   87.00   88.72  102.00  300.00 \n",
      "[1] \"RR\"\n",
      "   Min. 1st Qu.  Median    Mean 3rd Qu.    Max. \n",
      "   5.00   16.00   18.00   19.22   21.00   60.00 \n"
     ]
    },
    {
     "data": {
      "image/png": "[encoded data removed]",
      "text/plain": [
       "Plot with title \"Pulse\""
      ]
     },
     "metadata": {
      "image/png": {
       "height": 420,
       "width": 420
      }
     },
     "output_type": "display_data"
    },
    {
     "name": "stdout",
     "output_type": "stream",
     "text": [
      "[1] \"SBP\"\n",
      "   Min. 1st Qu.  Median    Mean 3rd Qu.    Max. \n",
      "     33     111     127     129     145     419 \n"
     ]
    },
    {
     "data": {
      "image/png": "[encoded data removed]",
      "text/plain": [
       "Plot with title \"RR\""
      ]
     },
     "metadata": {
      "image/png": {
       "height": 420,
       "width": 420
      }
     },
     "output_type": "display_data"
    },
    {
     "name": "stdout",
     "output_type": "stream",
     "text": [
      "[1] \"Temp\"\n",
      "   Min. 1st Qu.  Median    Mean 3rd Qu.    Max. \n",
      "  26.00   36.70   37.00   36.99   37.00   43.40 \n"
     ]
    },
    {
     "data": {
      "image/png": "[encoded data removed]",
      "text/plain": [
       "Plot with title \"SBP\""
      ]
     },
     "metadata": {
      "image/png": {
       "height": 420,
       "width": 420
      }
     },
     "output_type": "display_data"
    },
    {
     "data": {
      "image/png": "[encoded data removed]",
      "text/plain": [
       "Plot with title \"Temp\""
      ]
     },
     "metadata": {
      "image/png": {
       "height": 420,
       "width": 420
      }
     },
     "output_type": "display_data"
    }
   ],
   "source": [
    "for (f in fs_feats){\n",
    "    print(f)\n",
    "    df = vitals %>% select(features, values) %>%  filter(features==f)\n",
    "    val = df$values\n",
    "    print(summary(val))\n",
    "    hist(val, main = f, col=\"dodgerblue\", xlim=c(min(val), max(val)), breaks= 120)\n",
    "}"
   ]
  },
  {
   "cell_type": "code",
   "execution_count": 124,
   "metadata": {},
   "outputs": [
    {
     "name": "stdout",
     "output_type": "stream",
     "text": [
      "[1] \"Pulse\"\n",
      "[1] 8\n",
      "[1] \"RR\"\n",
      "[1] 4\n",
      "[1] \"SBP\"\n",
      "[1] 4\n",
      "[1] \"Temp\"\n",
      "[1] 38\n"
     ]
    }
   ],
   "source": [
    "# look at duplicates rows with same recorded time, but different values. \n",
    "for (f in fs_feats){\n",
    "    print(f)\n",
    "    df <- vitals %>% filter(features == f) %>% group_by_at(vars(-values)) %>% filter(n() > 1)\n",
    "    print(nrow(df))\n",
    "}"
   ]
  },
  {
   "cell_type": "code",
   "execution_count": 126,
   "metadata": {},
   "outputs": [
    {
     "data": {
      "text/html": [
       "<table>\n",
       "<caption>A grouped_df: 2 × 8</caption>\n",
       "<thead>\n",
       "\t<tr><th scope=col>anon_id</th><th scope=col>pat_enc_csn_id_coded</th><th scope=col>inpatient_data_id_coded</th><th scope=col>template</th><th scope=col>features</th><th scope=col>units</th><th scope=col>recorded_time</th><th scope=col>values</th></tr>\n",
       "\t<tr><th scope=col>&lt;chr&gt;</th><th scope=col>&lt;dbl&gt;</th><th scope=col>&lt;int&gt;</th><th scope=col>&lt;chr&gt;</th><th scope=col>&lt;chr&gt;</th><th scope=col>&lt;chr&gt;</th><th scope=col>&lt;chr&gt;</th><th scope=col>&lt;dbl&gt;</th></tr>\n",
       "</thead>\n",
       "<tbody>\n",
       "\t<tr><td>JCdc571d</td><td>131265716149</td><td>35550390</td><td>Vitals</td><td>DBP</td><td></td><td>2019-03-10 10:00:00+00:00</td><td>71</td></tr>\n",
       "\t<tr><td>JCdc571d</td><td>131265716149</td><td>35550390</td><td>Vitals</td><td>DBP</td><td></td><td>2019-03-10 10:00:00+00:00</td><td>63</td></tr>\n",
       "</tbody>\n",
       "</table>\n"
      ],
      "text/latex": [
       "A grouped\\_df: 2 × 8\n",
       "\\begin{tabular}{llllllll}\n",
       " anon\\_id & pat\\_enc\\_csn\\_id\\_coded & inpatient\\_data\\_id\\_coded & template & features & units & recorded\\_time & values\\\\\n",
       " <chr> & <dbl> & <int> & <chr> & <chr> & <chr> & <chr> & <dbl>\\\\\n",
       "\\hline\n",
       "\t JCdc571d & 131265716149 & 35550390 & Vitals & DBP &  & 2019-03-10 10:00:00+00:00 & 71\\\\\n",
       "\t JCdc571d & 131265716149 & 35550390 & Vitals & DBP &  & 2019-03-10 10:00:00+00:00 & 63\\\\\n",
       "\\end{tabular}\n"
      ],
      "text/markdown": [
       "\n",
       "A grouped_df: 2 × 8\n",
       "\n",
       "| anon_id &lt;chr&gt; | pat_enc_csn_id_coded &lt;dbl&gt; | inpatient_data_id_coded &lt;int&gt; | template &lt;chr&gt; | features &lt;chr&gt; | units &lt;chr&gt; | recorded_time &lt;chr&gt; | values &lt;dbl&gt; |\n",
       "|---|---|---|---|---|---|---|---|\n",
       "| JCdc571d | 131265716149 | 35550390 | Vitals | DBP | <!----> | 2019-03-10 10:00:00+00:00 | 71 |\n",
       "| JCdc571d | 131265716149 | 35550390 | Vitals | DBP | <!----> | 2019-03-10 10:00:00+00:00 | 63 |\n",
       "\n"
      ],
      "text/plain": [
       "  anon_id  pat_enc_csn_id_coded inpatient_data_id_coded template features units\n",
       "1 JCdc571d 131265716149         35550390                Vitals   DBP           \n",
       "2 JCdc571d 131265716149         35550390                Vitals   DBP           \n",
       "  recorded_time             values\n",
       "1 2019-03-10 10:00:00+00:00 71    \n",
       "2 2019-03-10 10:00:00+00:00 63    "
      ]
     },
     "metadata": {},
     "output_type": "display_data"
    },
    {
     "data": {
      "text/html": [
       "<table>\n",
       "<caption>A grouped_df: 4 × 8</caption>\n",
       "<thead>\n",
       "\t<tr><th scope=col>anon_id</th><th scope=col>pat_enc_csn_id_coded</th><th scope=col>inpatient_data_id_coded</th><th scope=col>template</th><th scope=col>features</th><th scope=col>units</th><th scope=col>recorded_time</th><th scope=col>values</th></tr>\n",
       "\t<tr><th scope=col>&lt;chr&gt;</th><th scope=col>&lt;dbl&gt;</th><th scope=col>&lt;int&gt;</th><th scope=col>&lt;chr&gt;</th><th scope=col>&lt;chr&gt;</th><th scope=col>&lt;chr&gt;</th><th scope=col>&lt;chr&gt;</th><th scope=col>&lt;dbl&gt;</th></tr>\n",
       "</thead>\n",
       "<tbody>\n",
       "\t<tr><td>JCe62a6e</td><td>131180583645</td><td>18920151</td><td>IIC VS</td><td>SBP</td><td></td><td>2016-02-20 11:00:00+00:00</td><td>117</td></tr>\n",
       "\t<tr><td>JCe62a6e</td><td>131180583645</td><td>18920151</td><td>IIC VS</td><td>SBP</td><td></td><td>2016-02-20 11:00:00+00:00</td><td>100</td></tr>\n",
       "\t<tr><td>JCdc571d</td><td>131265716149</td><td>35550390</td><td>Vitals</td><td>SBP</td><td></td><td>2019-03-10 10:00:00+00:00</td><td>128</td></tr>\n",
       "\t<tr><td>JCdc571d</td><td>131265716149</td><td>35550390</td><td>Vitals</td><td>SBP</td><td></td><td>2019-03-10 10:00:00+00:00</td><td>121</td></tr>\n",
       "</tbody>\n",
       "</table>\n"
      ],
      "text/latex": [
       "A grouped\\_df: 4 × 8\n",
       "\\begin{tabular}{llllllll}\n",
       " anon\\_id & pat\\_enc\\_csn\\_id\\_coded & inpatient\\_data\\_id\\_coded & template & features & units & recorded\\_time & values\\\\\n",
       " <chr> & <dbl> & <int> & <chr> & <chr> & <chr> & <chr> & <dbl>\\\\\n",
       "\\hline\n",
       "\t JCe62a6e & 131180583645 & 18920151 & IIC VS & SBP &  & 2016-02-20 11:00:00+00:00 & 117\\\\\n",
       "\t JCe62a6e & 131180583645 & 18920151 & IIC VS & SBP &  & 2016-02-20 11:00:00+00:00 & 100\\\\\n",
       "\t JCdc571d & 131265716149 & 35550390 & Vitals & SBP &  & 2019-03-10 10:00:00+00:00 & 128\\\\\n",
       "\t JCdc571d & 131265716149 & 35550390 & Vitals & SBP &  & 2019-03-10 10:00:00+00:00 & 121\\\\\n",
       "\\end{tabular}\n"
      ],
      "text/markdown": [
       "\n",
       "A grouped_df: 4 × 8\n",
       "\n",
       "| anon_id &lt;chr&gt; | pat_enc_csn_id_coded &lt;dbl&gt; | inpatient_data_id_coded &lt;int&gt; | template &lt;chr&gt; | features &lt;chr&gt; | units &lt;chr&gt; | recorded_time &lt;chr&gt; | values &lt;dbl&gt; |\n",
       "|---|---|---|---|---|---|---|---|\n",
       "| JCe62a6e | 131180583645 | 18920151 | IIC VS | SBP | <!----> | 2016-02-20 11:00:00+00:00 | 117 |\n",
       "| JCe62a6e | 131180583645 | 18920151 | IIC VS | SBP | <!----> | 2016-02-20 11:00:00+00:00 | 100 |\n",
       "| JCdc571d | 131265716149 | 35550390 | Vitals | SBP | <!----> | 2019-03-10 10:00:00+00:00 | 128 |\n",
       "| JCdc571d | 131265716149 | 35550390 | Vitals | SBP | <!----> | 2019-03-10 10:00:00+00:00 | 121 |\n",
       "\n"
      ],
      "text/plain": [
       "  anon_id  pat_enc_csn_id_coded inpatient_data_id_coded template features units\n",
       "1 JCe62a6e 131180583645         18920151                IIC VS   SBP           \n",
       "2 JCe62a6e 131180583645         18920151                IIC VS   SBP           \n",
       "3 JCdc571d 131265716149         35550390                Vitals   SBP           \n",
       "4 JCdc571d 131265716149         35550390                Vitals   SBP           \n",
       "  recorded_time             values\n",
       "1 2016-02-20 11:00:00+00:00 117   \n",
       "2 2016-02-20 11:00:00+00:00 100   \n",
       "3 2019-03-10 10:00:00+00:00 128   \n",
       "4 2019-03-10 10:00:00+00:00 121   "
      ]
     },
     "metadata": {},
     "output_type": "display_data"
    },
    {
     "data": {
      "text/html": [
       "<table>\n",
       "<caption>A grouped_df: 4 × 8</caption>\n",
       "<thead>\n",
       "\t<tr><th scope=col>anon_id</th><th scope=col>pat_enc_csn_id_coded</th><th scope=col>inpatient_data_id_coded</th><th scope=col>template</th><th scope=col>features</th><th scope=col>units</th><th scope=col>recorded_time</th><th scope=col>values</th></tr>\n",
       "\t<tr><th scope=col>&lt;chr&gt;</th><th scope=col>&lt;dbl&gt;</th><th scope=col>&lt;int&gt;</th><th scope=col>&lt;chr&gt;</th><th scope=col>&lt;chr&gt;</th><th scope=col>&lt;chr&gt;</th><th scope=col>&lt;chr&gt;</th><th scope=col>&lt;dbl&gt;</th></tr>\n",
       "</thead>\n",
       "<tbody>\n",
       "\t<tr><td>JCdc571d </td><td>131265716149</td><td>35550390</td><td>Vitals</td><td>RR</td><td></td><td>2019-03-10 10:00:00+00:00</td><td>32</td></tr>\n",
       "\t<tr><td>JCdc571d </td><td>131265716149</td><td>35550390</td><td>Vitals</td><td>RR</td><td></td><td>2019-03-10 10:00:00+00:00</td><td>26</td></tr>\n",
       "\t<tr><td>JC2a22f76</td><td>131286819362</td><td>47396208</td><td>ICU VS</td><td>RR</td><td></td><td>2020-03-08 10:00:00+00:00</td><td>29</td></tr>\n",
       "\t<tr><td>JC2a22f76</td><td>131286819362</td><td>47396208</td><td>ICU VS</td><td>RR</td><td></td><td>2020-03-08 10:00:00+00:00</td><td>27</td></tr>\n",
       "</tbody>\n",
       "</table>\n"
      ],
      "text/latex": [
       "A grouped\\_df: 4 × 8\n",
       "\\begin{tabular}{llllllll}\n",
       " anon\\_id & pat\\_enc\\_csn\\_id\\_coded & inpatient\\_data\\_id\\_coded & template & features & units & recorded\\_time & values\\\\\n",
       " <chr> & <dbl> & <int> & <chr> & <chr> & <chr> & <chr> & <dbl>\\\\\n",
       "\\hline\n",
       "\t JCdc571d  & 131265716149 & 35550390 & Vitals & RR &  & 2019-03-10 10:00:00+00:00 & 32\\\\\n",
       "\t JCdc571d  & 131265716149 & 35550390 & Vitals & RR &  & 2019-03-10 10:00:00+00:00 & 26\\\\\n",
       "\t JC2a22f76 & 131286819362 & 47396208 & ICU VS & RR &  & 2020-03-08 10:00:00+00:00 & 29\\\\\n",
       "\t JC2a22f76 & 131286819362 & 47396208 & ICU VS & RR &  & 2020-03-08 10:00:00+00:00 & 27\\\\\n",
       "\\end{tabular}\n"
      ],
      "text/markdown": [
       "\n",
       "A grouped_df: 4 × 8\n",
       "\n",
       "| anon_id &lt;chr&gt; | pat_enc_csn_id_coded &lt;dbl&gt; | inpatient_data_id_coded &lt;int&gt; | template &lt;chr&gt; | features &lt;chr&gt; | units &lt;chr&gt; | recorded_time &lt;chr&gt; | values &lt;dbl&gt; |\n",
       "|---|---|---|---|---|---|---|---|\n",
       "| JCdc571d  | 131265716149 | 35550390 | Vitals | RR | <!----> | 2019-03-10 10:00:00+00:00 | 32 |\n",
       "| JCdc571d  | 131265716149 | 35550390 | Vitals | RR | <!----> | 2019-03-10 10:00:00+00:00 | 26 |\n",
       "| JC2a22f76 | 131286819362 | 47396208 | ICU VS | RR | <!----> | 2020-03-08 10:00:00+00:00 | 29 |\n",
       "| JC2a22f76 | 131286819362 | 47396208 | ICU VS | RR | <!----> | 2020-03-08 10:00:00+00:00 | 27 |\n",
       "\n"
      ],
      "text/plain": [
       "  anon_id   pat_enc_csn_id_coded inpatient_data_id_coded template features\n",
       "1 JCdc571d  131265716149         35550390                Vitals   RR      \n",
       "2 JCdc571d  131265716149         35550390                Vitals   RR      \n",
       "3 JC2a22f76 131286819362         47396208                ICU VS   RR      \n",
       "4 JC2a22f76 131286819362         47396208                ICU VS   RR      \n",
       "  units recorded_time             values\n",
       "1       2019-03-10 10:00:00+00:00 32    \n",
       "2       2019-03-10 10:00:00+00:00 26    \n",
       "3       2020-03-08 10:00:00+00:00 29    \n",
       "4       2020-03-08 10:00:00+00:00 27    "
      ]
     },
     "metadata": {},
     "output_type": "display_data"
    },
    {
     "data": {
      "text/html": [
       "<table>\n",
       "<caption>A grouped_df: 8 × 8</caption>\n",
       "<thead>\n",
       "\t<tr><th scope=col>anon_id</th><th scope=col>pat_enc_csn_id_coded</th><th scope=col>inpatient_data_id_coded</th><th scope=col>template</th><th scope=col>features</th><th scope=col>units</th><th scope=col>recorded_time</th><th scope=col>values</th></tr>\n",
       "\t<tr><th scope=col>&lt;chr&gt;</th><th scope=col>&lt;dbl&gt;</th><th scope=col>&lt;int&gt;</th><th scope=col>&lt;chr&gt;</th><th scope=col>&lt;chr&gt;</th><th scope=col>&lt;chr&gt;</th><th scope=col>&lt;chr&gt;</th><th scope=col>&lt;dbl&gt;</th></tr>\n",
       "</thead>\n",
       "<tbody>\n",
       "\t<tr><td>JCe768a6 </td><td>131073241118</td><td>14411297</td><td>ICU VS</td><td>Pulse</td><td></td><td>2015-03-08 10:00:00+00:00</td><td> 76</td></tr>\n",
       "\t<tr><td>JCe768a6 </td><td>131073241118</td><td>14411297</td><td>ICU VS</td><td>Pulse</td><td></td><td>2015-03-08 10:00:00+00:00</td><td> 75</td></tr>\n",
       "\t<tr><td>JCe62a6e </td><td>131180583645</td><td>18920151</td><td>IIC VS</td><td>Pulse</td><td></td><td>2016-02-20 11:00:00+00:00</td><td> 75</td></tr>\n",
       "\t<tr><td>JCe62a6e </td><td>131180583645</td><td>18920151</td><td>IIC VS</td><td>Pulse</td><td></td><td>2016-02-20 11:00:00+00:00</td><td> 79</td></tr>\n",
       "\t<tr><td>JCdc571d </td><td>131265716149</td><td>35550390</td><td>Vitals</td><td>Pulse</td><td></td><td>2019-03-10 10:00:00+00:00</td><td>110</td></tr>\n",
       "\t<tr><td>JCdc571d </td><td>131265716149</td><td>35550390</td><td>Vitals</td><td>Pulse</td><td></td><td>2019-03-10 10:00:00+00:00</td><td>105</td></tr>\n",
       "\t<tr><td>JC2a22f76</td><td>131286819362</td><td>47396208</td><td>ICU VS</td><td>Pulse</td><td></td><td>2020-03-08 10:00:00+00:00</td><td>130</td></tr>\n",
       "\t<tr><td>JC2a22f76</td><td>131286819362</td><td>47396208</td><td>ICU VS</td><td>Pulse</td><td></td><td>2020-03-08 10:00:00+00:00</td><td>125</td></tr>\n",
       "</tbody>\n",
       "</table>\n"
      ],
      "text/latex": [
       "A grouped\\_df: 8 × 8\n",
       "\\begin{tabular}{llllllll}\n",
       " anon\\_id & pat\\_enc\\_csn\\_id\\_coded & inpatient\\_data\\_id\\_coded & template & features & units & recorded\\_time & values\\\\\n",
       " <chr> & <dbl> & <int> & <chr> & <chr> & <chr> & <chr> & <dbl>\\\\\n",
       "\\hline\n",
       "\t JCe768a6  & 131073241118 & 14411297 & ICU VS & Pulse &  & 2015-03-08 10:00:00+00:00 &  76\\\\\n",
       "\t JCe768a6  & 131073241118 & 14411297 & ICU VS & Pulse &  & 2015-03-08 10:00:00+00:00 &  75\\\\\n",
       "\t JCe62a6e  & 131180583645 & 18920151 & IIC VS & Pulse &  & 2016-02-20 11:00:00+00:00 &  75\\\\\n",
       "\t JCe62a6e  & 131180583645 & 18920151 & IIC VS & Pulse &  & 2016-02-20 11:00:00+00:00 &  79\\\\\n",
       "\t JCdc571d  & 131265716149 & 35550390 & Vitals & Pulse &  & 2019-03-10 10:00:00+00:00 & 110\\\\\n",
       "\t JCdc571d  & 131265716149 & 35550390 & Vitals & Pulse &  & 2019-03-10 10:00:00+00:00 & 105\\\\\n",
       "\t JC2a22f76 & 131286819362 & 47396208 & ICU VS & Pulse &  & 2020-03-08 10:00:00+00:00 & 130\\\\\n",
       "\t JC2a22f76 & 131286819362 & 47396208 & ICU VS & Pulse &  & 2020-03-08 10:00:00+00:00 & 125\\\\\n",
       "\\end{tabular}\n"
      ],
      "text/markdown": [
       "\n",
       "A grouped_df: 8 × 8\n",
       "\n",
       "| anon_id &lt;chr&gt; | pat_enc_csn_id_coded &lt;dbl&gt; | inpatient_data_id_coded &lt;int&gt; | template &lt;chr&gt; | features &lt;chr&gt; | units &lt;chr&gt; | recorded_time &lt;chr&gt; | values &lt;dbl&gt; |\n",
       "|---|---|---|---|---|---|---|---|\n",
       "| JCe768a6  | 131073241118 | 14411297 | ICU VS | Pulse | <!----> | 2015-03-08 10:00:00+00:00 |  76 |\n",
       "| JCe768a6  | 131073241118 | 14411297 | ICU VS | Pulse | <!----> | 2015-03-08 10:00:00+00:00 |  75 |\n",
       "| JCe62a6e  | 131180583645 | 18920151 | IIC VS | Pulse | <!----> | 2016-02-20 11:00:00+00:00 |  75 |\n",
       "| JCe62a6e  | 131180583645 | 18920151 | IIC VS | Pulse | <!----> | 2016-02-20 11:00:00+00:00 |  79 |\n",
       "| JCdc571d  | 131265716149 | 35550390 | Vitals | Pulse | <!----> | 2019-03-10 10:00:00+00:00 | 110 |\n",
       "| JCdc571d  | 131265716149 | 35550390 | Vitals | Pulse | <!----> | 2019-03-10 10:00:00+00:00 | 105 |\n",
       "| JC2a22f76 | 131286819362 | 47396208 | ICU VS | Pulse | <!----> | 2020-03-08 10:00:00+00:00 | 130 |\n",
       "| JC2a22f76 | 131286819362 | 47396208 | ICU VS | Pulse | <!----> | 2020-03-08 10:00:00+00:00 | 125 |\n",
       "\n"
      ],
      "text/plain": [
       "  anon_id   pat_enc_csn_id_coded inpatient_data_id_coded template features\n",
       "1 JCe768a6  131073241118         14411297                ICU VS   Pulse   \n",
       "2 JCe768a6  131073241118         14411297                ICU VS   Pulse   \n",
       "3 JCe62a6e  131180583645         18920151                IIC VS   Pulse   \n",
       "4 JCe62a6e  131180583645         18920151                IIC VS   Pulse   \n",
       "5 JCdc571d  131265716149         35550390                Vitals   Pulse   \n",
       "6 JCdc571d  131265716149         35550390                Vitals   Pulse   \n",
       "7 JC2a22f76 131286819362         47396208                ICU VS   Pulse   \n",
       "8 JC2a22f76 131286819362         47396208                ICU VS   Pulse   \n",
       "  units recorded_time             values\n",
       "1       2015-03-08 10:00:00+00:00  76   \n",
       "2       2015-03-08 10:00:00+00:00  75   \n",
       "3       2016-02-20 11:00:00+00:00  75   \n",
       "4       2016-02-20 11:00:00+00:00  79   \n",
       "5       2019-03-10 10:00:00+00:00 110   \n",
       "6       2019-03-10 10:00:00+00:00 105   \n",
       "7       2020-03-08 10:00:00+00:00 130   \n",
       "8       2020-03-08 10:00:00+00:00 125   "
      ]
     },
     "metadata": {},
     "output_type": "display_data"
    },
    {
     "data": {
      "text/html": [
       "<table>\n",
       "<caption>A grouped_df: 38 × 8</caption>\n",
       "<thead>\n",
       "\t<tr><th scope=col>anon_id</th><th scope=col>pat_enc_csn_id_coded</th><th scope=col>inpatient_data_id_coded</th><th scope=col>template</th><th scope=col>features</th><th scope=col>units</th><th scope=col>recorded_time</th><th scope=col>values</th></tr>\n",
       "\t<tr><th scope=col>&lt;chr&gt;</th><th scope=col>&lt;dbl&gt;</th><th scope=col>&lt;int&gt;</th><th scope=col>&lt;chr&gt;</th><th scope=col>&lt;chr&gt;</th><th scope=col>&lt;chr&gt;</th><th scope=col>&lt;chr&gt;</th><th scope=col>&lt;dbl&gt;</th></tr>\n",
       "</thead>\n",
       "<tbody>\n",
       "\t<tr><td>JCd53348 </td><td>131262009998</td><td>33772084</td><td>Custom Formula Data</td><td>Temp</td><td></td><td>2019-01-21 11:30:00+00:00</td><td>36.9</td></tr>\n",
       "\t<tr><td>JCd53348 </td><td>131262009998</td><td>33772084</td><td>Custom Formula Data</td><td>Temp</td><td></td><td>2019-01-21 11:30:00+00:00</td><td>37.0</td></tr>\n",
       "\t<tr><td>JCdbb906 </td><td>131262467454</td><td>33923954</td><td>Custom Formula Data</td><td>Temp</td><td></td><td>2019-02-11 05:09:00+00:00</td><td>37.0</td></tr>\n",
       "\t<tr><td>JCdbb906 </td><td>131262467454</td><td>33923954</td><td>Custom Formula Data</td><td>Temp</td><td></td><td>2019-02-11 05:09:00+00:00</td><td>36.6</td></tr>\n",
       "\t<tr><td>JCe6d54b </td><td>131262755657</td><td>34024408</td><td>Custom Formula Data</td><td>Temp</td><td></td><td>2019-02-06 04:22:00+00:00</td><td>37.5</td></tr>\n",
       "\t<tr><td>JCe6d54b </td><td>131262755657</td><td>34024408</td><td>Custom Formula Data</td><td>Temp</td><td></td><td>2019-02-06 04:22:00+00:00</td><td>38.0</td></tr>\n",
       "\t<tr><td>JC2a12ea7</td><td>131263055091</td><td>34131380</td><td>Custom Formula Data</td><td>Temp</td><td></td><td>2019-01-03 04:15:00+00:00</td><td>36.7</td></tr>\n",
       "\t<tr><td>JC2a12ea7</td><td>131263055091</td><td>34131380</td><td>Custom Formula Data</td><td>Temp</td><td></td><td>2019-01-03 04:15:00+00:00</td><td>37.0</td></tr>\n",
       "\t<tr><td>JCd9a764 </td><td>131267455088</td><td>36699857</td><td>Custom Formula Data</td><td>Temp</td><td></td><td>2019-04-05 02:53:00+00:00</td><td>37.0</td></tr>\n",
       "\t<tr><td>JCd9a764 </td><td>131267455088</td><td>36699857</td><td>Custom Formula Data</td><td>Temp</td><td></td><td>2019-04-05 02:53:00+00:00</td><td>36.7</td></tr>\n",
       "\t<tr><td>JCd8e933 </td><td>131268049650</td><td>37087240</td><td>Custom Formula Data</td><td>Temp</td><td></td><td>2019-05-05 09:15:00+00:00</td><td>37.0</td></tr>\n",
       "\t<tr><td>JCd8e933 </td><td>131268049650</td><td>37087240</td><td>Custom Formula Data</td><td>Temp</td><td></td><td>2019-05-05 09:15:00+00:00</td><td>36.9</td></tr>\n",
       "\t<tr><td>JCd81521 </td><td>131269835157</td><td>38128654</td><td>Custom Formula Data</td><td>Temp</td><td></td><td>2019-06-22 02:35:00+00:00</td><td>37.0</td></tr>\n",
       "\t<tr><td>JCd81521 </td><td>131269835157</td><td>38128654</td><td>Custom Formula Data</td><td>Temp</td><td></td><td>2019-06-22 02:35:00+00:00</td><td>37.3</td></tr>\n",
       "\t<tr><td>JCd599de </td><td>131270558152</td><td>38263189</td><td>Custom Formula Data</td><td>Temp</td><td></td><td>2019-07-17 05:50:00+00:00</td><td>37.0</td></tr>\n",
       "\t<tr><td>JCd599de </td><td>131270558152</td><td>38263189</td><td>Custom Formula Data</td><td>Temp</td><td></td><td>2019-07-17 05:50:00+00:00</td><td>36.8</td></tr>\n",
       "\t<tr><td>JC2a151e8</td><td>131273341837</td><td>39785047</td><td>Custom Formula Data</td><td>Temp</td><td></td><td>2019-07-24 03:20:00+00:00</td><td>37.0</td></tr>\n",
       "\t<tr><td>JC2a151e8</td><td>131273341837</td><td>39785047</td><td>Custom Formula Data</td><td>Temp</td><td></td><td>2019-07-24 03:20:00+00:00</td><td>36.9</td></tr>\n",
       "\t<tr><td>JCdd4776 </td><td>131276449700</td><td>41864777</td><td>Custom Formula Data</td><td>Temp</td><td></td><td>2019-09-12 14:00:00+00:00</td><td>36.4</td></tr>\n",
       "\t<tr><td>JCdd4776 </td><td>131276449700</td><td>41864777</td><td>Custom Formula Data</td><td>Temp</td><td></td><td>2019-09-12 14:00:00+00:00</td><td>36.0</td></tr>\n",
       "\t<tr><td>JC2a1ed7e</td><td>131280162697</td><td>44115216</td><td>Custom Formula Data</td><td>Temp</td><td></td><td>2019-12-18 07:19:00+00:00</td><td>37.0</td></tr>\n",
       "\t<tr><td>JC2a1ed7e</td><td>131280162697</td><td>44115216</td><td>Custom Formula Data</td><td>Temp</td><td></td><td>2019-12-18 07:19:00+00:00</td><td>36.8</td></tr>\n",
       "\t<tr><td>JCe048f6 </td><td>131280235521</td><td>44165792</td><td>Custom Formula Data</td><td>Temp</td><td></td><td>2019-12-28 20:00:00+00:00</td><td>37.0</td></tr>\n",
       "\t<tr><td>JCe048f6 </td><td>131280235521</td><td>44165792</td><td>Custom Formula Data</td><td>Temp</td><td></td><td>2019-12-28 20:00:00+00:00</td><td>36.7</td></tr>\n",
       "\t<tr><td>JC2a2dbdc</td><td>131281210841</td><td>44721634</td><td>Custom Formula Data</td><td>Temp</td><td></td><td>2019-12-22 20:17:00+00:00</td><td>37.0</td></tr>\n",
       "\t<tr><td>JC2a2dbdc</td><td>131281210841</td><td>44721634</td><td>Custom Formula Data</td><td>Temp</td><td></td><td>2019-12-22 20:17:00+00:00</td><td>36.6</td></tr>\n",
       "\t<tr><td>JC2a2dbdc</td><td>131281210841</td><td>44721634</td><td>Custom Formula Data</td><td>Temp</td><td></td><td>2019-12-22 19:30:00+00:00</td><td>36.7</td></tr>\n",
       "\t<tr><td>JC2a2dbdc</td><td>131281210841</td><td>44721634</td><td>Custom Formula Data</td><td>Temp</td><td></td><td>2019-12-22 19:30:00+00:00</td><td>37.0</td></tr>\n",
       "\t<tr><td>JC2a2afe1</td><td>131281332633</td><td>44793648</td><td>Custom Formula Data</td><td>Temp</td><td></td><td>2019-12-03 20:45:00+00:00</td><td>36.6</td></tr>\n",
       "\t<tr><td>JC2a2afe1</td><td>131281332633</td><td>44793648</td><td>Custom Formula Data</td><td>Temp</td><td></td><td>2019-12-03 20:45:00+00:00</td><td>37.0</td></tr>\n",
       "\t<tr><td>JCd39a22 </td><td>131283146817</td><td>45943171</td><td>Custom Formula Data</td><td>Temp</td><td></td><td>2020-02-20 08:45:00+00:00</td><td>37.0</td></tr>\n",
       "\t<tr><td>JCd39a22 </td><td>131283146817</td><td>45943171</td><td>Custom Formula Data</td><td>Temp</td><td></td><td>2020-02-20 08:45:00+00:00</td><td>36.9</td></tr>\n",
       "\t<tr><td>JCd149b6 </td><td>131285474091</td><td>46985286</td><td>Custom Formula Data</td><td>Temp</td><td></td><td>2020-03-25 01:58:00+00:00</td><td>36.8</td></tr>\n",
       "\t<tr><td>JCd149b6 </td><td>131285474091</td><td>46985286</td><td>Custom Formula Data</td><td>Temp</td><td></td><td>2020-03-25 04:20:00+00:00</td><td>37.3</td></tr>\n",
       "\t<tr><td>JCd149b6 </td><td>131285474091</td><td>46985286</td><td>Custom Formula Data</td><td>Temp</td><td></td><td>2020-03-25 01:58:00+00:00</td><td>37.8</td></tr>\n",
       "\t<tr><td>JCd149b6 </td><td>131285474091</td><td>46985286</td><td>Custom Formula Data</td><td>Temp</td><td></td><td>2020-03-25 04:20:00+00:00</td><td>36.0</td></tr>\n",
       "\t<tr><td>JCd149b6 </td><td>131285474091</td><td>46985286</td><td>Custom Formula Data</td><td>Temp</td><td></td><td>2020-03-25 02:00:00+00:00</td><td>37.8</td></tr>\n",
       "\t<tr><td>JCd149b6 </td><td>131285474091</td><td>46985286</td><td>Custom Formula Data</td><td>Temp</td><td></td><td>2020-03-25 02:00:00+00:00</td><td>36.8</td></tr>\n",
       "</tbody>\n",
       "</table>\n"
      ],
      "text/latex": [
       "A grouped\\_df: 38 × 8\n",
       "\\begin{tabular}{llllllll}\n",
       " anon\\_id & pat\\_enc\\_csn\\_id\\_coded & inpatient\\_data\\_id\\_coded & template & features & units & recorded\\_time & values\\\\\n",
       " <chr> & <dbl> & <int> & <chr> & <chr> & <chr> & <chr> & <dbl>\\\\\n",
       "\\hline\n",
       "\t JCd53348  & 131262009998 & 33772084 & Custom Formula Data & Temp &  & 2019-01-21 11:30:00+00:00 & 36.9\\\\\n",
       "\t JCd53348  & 131262009998 & 33772084 & Custom Formula Data & Temp &  & 2019-01-21 11:30:00+00:00 & 37.0\\\\\n",
       "\t JCdbb906  & 131262467454 & 33923954 & Custom Formula Data & Temp &  & 2019-02-11 05:09:00+00:00 & 37.0\\\\\n",
       "\t JCdbb906  & 131262467454 & 33923954 & Custom Formula Data & Temp &  & 2019-02-11 05:09:00+00:00 & 36.6\\\\\n",
       "\t JCe6d54b  & 131262755657 & 34024408 & Custom Formula Data & Temp &  & 2019-02-06 04:22:00+00:00 & 37.5\\\\\n",
       "\t JCe6d54b  & 131262755657 & 34024408 & Custom Formula Data & Temp &  & 2019-02-06 04:22:00+00:00 & 38.0\\\\\n",
       "\t JC2a12ea7 & 131263055091 & 34131380 & Custom Formula Data & Temp &  & 2019-01-03 04:15:00+00:00 & 36.7\\\\\n",
       "\t JC2a12ea7 & 131263055091 & 34131380 & Custom Formula Data & Temp &  & 2019-01-03 04:15:00+00:00 & 37.0\\\\\n",
       "\t JCd9a764  & 131267455088 & 36699857 & Custom Formula Data & Temp &  & 2019-04-05 02:53:00+00:00 & 37.0\\\\\n",
       "\t JCd9a764  & 131267455088 & 36699857 & Custom Formula Data & Temp &  & 2019-04-05 02:53:00+00:00 & 36.7\\\\\n",
       "\t JCd8e933  & 131268049650 & 37087240 & Custom Formula Data & Temp &  & 2019-05-05 09:15:00+00:00 & 37.0\\\\\n",
       "\t JCd8e933  & 131268049650 & 37087240 & Custom Formula Data & Temp &  & 2019-05-05 09:15:00+00:00 & 36.9\\\\\n",
       "\t JCd81521  & 131269835157 & 38128654 & Custom Formula Data & Temp &  & 2019-06-22 02:35:00+00:00 & 37.0\\\\\n",
       "\t JCd81521  & 131269835157 & 38128654 & Custom Formula Data & Temp &  & 2019-06-22 02:35:00+00:00 & 37.3\\\\\n",
       "\t JCd599de  & 131270558152 & 38263189 & Custom Formula Data & Temp &  & 2019-07-17 05:50:00+00:00 & 37.0\\\\\n",
       "\t JCd599de  & 131270558152 & 38263189 & Custom Formula Data & Temp &  & 2019-07-17 05:50:00+00:00 & 36.8\\\\\n",
       "\t JC2a151e8 & 131273341837 & 39785047 & Custom Formula Data & Temp &  & 2019-07-24 03:20:00+00:00 & 37.0\\\\\n",
       "\t JC2a151e8 & 131273341837 & 39785047 & Custom Formula Data & Temp &  & 2019-07-24 03:20:00+00:00 & 36.9\\\\\n",
       "\t JCdd4776  & 131276449700 & 41864777 & Custom Formula Data & Temp &  & 2019-09-12 14:00:00+00:00 & 36.4\\\\\n",
       "\t JCdd4776  & 131276449700 & 41864777 & Custom Formula Data & Temp &  & 2019-09-12 14:00:00+00:00 & 36.0\\\\\n",
       "\t JC2a1ed7e & 131280162697 & 44115216 & Custom Formula Data & Temp &  & 2019-12-18 07:19:00+00:00 & 37.0\\\\\n",
       "\t JC2a1ed7e & 131280162697 & 44115216 & Custom Formula Data & Temp &  & 2019-12-18 07:19:00+00:00 & 36.8\\\\\n",
       "\t JCe048f6  & 131280235521 & 44165792 & Custom Formula Data & Temp &  & 2019-12-28 20:00:00+00:00 & 37.0\\\\\n",
       "\t JCe048f6  & 131280235521 & 44165792 & Custom Formula Data & Temp &  & 2019-12-28 20:00:00+00:00 & 36.7\\\\\n",
       "\t JC2a2dbdc & 131281210841 & 44721634 & Custom Formula Data & Temp &  & 2019-12-22 20:17:00+00:00 & 37.0\\\\\n",
       "\t JC2a2dbdc & 131281210841 & 44721634 & Custom Formula Data & Temp &  & 2019-12-22 20:17:00+00:00 & 36.6\\\\\n",
       "\t JC2a2dbdc & 131281210841 & 44721634 & Custom Formula Data & Temp &  & 2019-12-22 19:30:00+00:00 & 36.7\\\\\n",
       "\t JC2a2dbdc & 131281210841 & 44721634 & Custom Formula Data & Temp &  & 2019-12-22 19:30:00+00:00 & 37.0\\\\\n",
       "\t JC2a2afe1 & 131281332633 & 44793648 & Custom Formula Data & Temp &  & 2019-12-03 20:45:00+00:00 & 36.6\\\\\n",
       "\t JC2a2afe1 & 131281332633 & 44793648 & Custom Formula Data & Temp &  & 2019-12-03 20:45:00+00:00 & 37.0\\\\\n",
       "\t JCd39a22  & 131283146817 & 45943171 & Custom Formula Data & Temp &  & 2020-02-20 08:45:00+00:00 & 37.0\\\\\n",
       "\t JCd39a22  & 131283146817 & 45943171 & Custom Formula Data & Temp &  & 2020-02-20 08:45:00+00:00 & 36.9\\\\\n",
       "\t JCd149b6  & 131285474091 & 46985286 & Custom Formula Data & Temp &  & 2020-03-25 01:58:00+00:00 & 36.8\\\\\n",
       "\t JCd149b6  & 131285474091 & 46985286 & Custom Formula Data & Temp &  & 2020-03-25 04:20:00+00:00 & 37.3\\\\\n",
       "\t JCd149b6  & 131285474091 & 46985286 & Custom Formula Data & Temp &  & 2020-03-25 01:58:00+00:00 & 37.8\\\\\n",
       "\t JCd149b6  & 131285474091 & 46985286 & Custom Formula Data & Temp &  & 2020-03-25 04:20:00+00:00 & 36.0\\\\\n",
       "\t JCd149b6  & 131285474091 & 46985286 & Custom Formula Data & Temp &  & 2020-03-25 02:00:00+00:00 & 37.8\\\\\n",
       "\t JCd149b6  & 131285474091 & 46985286 & Custom Formula Data & Temp &  & 2020-03-25 02:00:00+00:00 & 36.8\\\\\n",
       "\\end{tabular}\n"
      ],
      "text/markdown": [
       "\n",
       "A grouped_df: 38 × 8\n",
       "\n",
       "| anon_id &lt;chr&gt; | pat_enc_csn_id_coded &lt;dbl&gt; | inpatient_data_id_coded &lt;int&gt; | template &lt;chr&gt; | features &lt;chr&gt; | units &lt;chr&gt; | recorded_time &lt;chr&gt; | values &lt;dbl&gt; |\n",
       "|---|---|---|---|---|---|---|---|\n",
       "| JCd53348  | 131262009998 | 33772084 | Custom Formula Data | Temp | <!----> | 2019-01-21 11:30:00+00:00 | 36.9 |\n",
       "| JCd53348  | 131262009998 | 33772084 | Custom Formula Data | Temp | <!----> | 2019-01-21 11:30:00+00:00 | 37.0 |\n",
       "| JCdbb906  | 131262467454 | 33923954 | Custom Formula Data | Temp | <!----> | 2019-02-11 05:09:00+00:00 | 37.0 |\n",
       "| JCdbb906  | 131262467454 | 33923954 | Custom Formula Data | Temp | <!----> | 2019-02-11 05:09:00+00:00 | 36.6 |\n",
       "| JCe6d54b  | 131262755657 | 34024408 | Custom Formula Data | Temp | <!----> | 2019-02-06 04:22:00+00:00 | 37.5 |\n",
       "| JCe6d54b  | 131262755657 | 34024408 | Custom Formula Data | Temp | <!----> | 2019-02-06 04:22:00+00:00 | 38.0 |\n",
       "| JC2a12ea7 | 131263055091 | 34131380 | Custom Formula Data | Temp | <!----> | 2019-01-03 04:15:00+00:00 | 36.7 |\n",
       "| JC2a12ea7 | 131263055091 | 34131380 | Custom Formula Data | Temp | <!----> | 2019-01-03 04:15:00+00:00 | 37.0 |\n",
       "| JCd9a764  | 131267455088 | 36699857 | Custom Formula Data | Temp | <!----> | 2019-04-05 02:53:00+00:00 | 37.0 |\n",
       "| JCd9a764  | 131267455088 | 36699857 | Custom Formula Data | Temp | <!----> | 2019-04-05 02:53:00+00:00 | 36.7 |\n",
       "| JCd8e933  | 131268049650 | 37087240 | Custom Formula Data | Temp | <!----> | 2019-05-05 09:15:00+00:00 | 37.0 |\n",
       "| JCd8e933  | 131268049650 | 37087240 | Custom Formula Data | Temp | <!----> | 2019-05-05 09:15:00+00:00 | 36.9 |\n",
       "| JCd81521  | 131269835157 | 38128654 | Custom Formula Data | Temp | <!----> | 2019-06-22 02:35:00+00:00 | 37.0 |\n",
       "| JCd81521  | 131269835157 | 38128654 | Custom Formula Data | Temp | <!----> | 2019-06-22 02:35:00+00:00 | 37.3 |\n",
       "| JCd599de  | 131270558152 | 38263189 | Custom Formula Data | Temp | <!----> | 2019-07-17 05:50:00+00:00 | 37.0 |\n",
       "| JCd599de  | 131270558152 | 38263189 | Custom Formula Data | Temp | <!----> | 2019-07-17 05:50:00+00:00 | 36.8 |\n",
       "| JC2a151e8 | 131273341837 | 39785047 | Custom Formula Data | Temp | <!----> | 2019-07-24 03:20:00+00:00 | 37.0 |\n",
       "| JC2a151e8 | 131273341837 | 39785047 | Custom Formula Data | Temp | <!----> | 2019-07-24 03:20:00+00:00 | 36.9 |\n",
       "| JCdd4776  | 131276449700 | 41864777 | Custom Formula Data | Temp | <!----> | 2019-09-12 14:00:00+00:00 | 36.4 |\n",
       "| JCdd4776  | 131276449700 | 41864777 | Custom Formula Data | Temp | <!----> | 2019-09-12 14:00:00+00:00 | 36.0 |\n",
       "| JC2a1ed7e | 131280162697 | 44115216 | Custom Formula Data | Temp | <!----> | 2019-12-18 07:19:00+00:00 | 37.0 |\n",
       "| JC2a1ed7e | 131280162697 | 44115216 | Custom Formula Data | Temp | <!----> | 2019-12-18 07:19:00+00:00 | 36.8 |\n",
       "| JCe048f6  | 131280235521 | 44165792 | Custom Formula Data | Temp | <!----> | 2019-12-28 20:00:00+00:00 | 37.0 |\n",
       "| JCe048f6  | 131280235521 | 44165792 | Custom Formula Data | Temp | <!----> | 2019-12-28 20:00:00+00:00 | 36.7 |\n",
       "| JC2a2dbdc | 131281210841 | 44721634 | Custom Formula Data | Temp | <!----> | 2019-12-22 20:17:00+00:00 | 37.0 |\n",
       "| JC2a2dbdc | 131281210841 | 44721634 | Custom Formula Data | Temp | <!----> | 2019-12-22 20:17:00+00:00 | 36.6 |\n",
       "| JC2a2dbdc | 131281210841 | 44721634 | Custom Formula Data | Temp | <!----> | 2019-12-22 19:30:00+00:00 | 36.7 |\n",
       "| JC2a2dbdc | 131281210841 | 44721634 | Custom Formula Data | Temp | <!----> | 2019-12-22 19:30:00+00:00 | 37.0 |\n",
       "| JC2a2afe1 | 131281332633 | 44793648 | Custom Formula Data | Temp | <!----> | 2019-12-03 20:45:00+00:00 | 36.6 |\n",
       "| JC2a2afe1 | 131281332633 | 44793648 | Custom Formula Data | Temp | <!----> | 2019-12-03 20:45:00+00:00 | 37.0 |\n",
       "| JCd39a22  | 131283146817 | 45943171 | Custom Formula Data | Temp | <!----> | 2020-02-20 08:45:00+00:00 | 37.0 |\n",
       "| JCd39a22  | 131283146817 | 45943171 | Custom Formula Data | Temp | <!----> | 2020-02-20 08:45:00+00:00 | 36.9 |\n",
       "| JCd149b6  | 131285474091 | 46985286 | Custom Formula Data | Temp | <!----> | 2020-03-25 01:58:00+00:00 | 36.8 |\n",
       "| JCd149b6  | 131285474091 | 46985286 | Custom Formula Data | Temp | <!----> | 2020-03-25 04:20:00+00:00 | 37.3 |\n",
       "| JCd149b6  | 131285474091 | 46985286 | Custom Formula Data | Temp | <!----> | 2020-03-25 01:58:00+00:00 | 37.8 |\n",
       "| JCd149b6  | 131285474091 | 46985286 | Custom Formula Data | Temp | <!----> | 2020-03-25 04:20:00+00:00 | 36.0 |\n",
       "| JCd149b6  | 131285474091 | 46985286 | Custom Formula Data | Temp | <!----> | 2020-03-25 02:00:00+00:00 | 37.8 |\n",
       "| JCd149b6  | 131285474091 | 46985286 | Custom Formula Data | Temp | <!----> | 2020-03-25 02:00:00+00:00 | 36.8 |\n",
       "\n"
      ],
      "text/plain": [
       "   anon_id   pat_enc_csn_id_coded inpatient_data_id_coded template           \n",
       "1  JCd53348  131262009998         33772084                Custom Formula Data\n",
       "2  JCd53348  131262009998         33772084                Custom Formula Data\n",
       "3  JCdbb906  131262467454         33923954                Custom Formula Data\n",
       "4  JCdbb906  131262467454         33923954                Custom Formula Data\n",
       "5  JCe6d54b  131262755657         34024408                Custom Formula Data\n",
       "6  JCe6d54b  131262755657         34024408                Custom Formula Data\n",
       "7  JC2a12ea7 131263055091         34131380                Custom Formula Data\n",
       "8  JC2a12ea7 131263055091         34131380                Custom Formula Data\n",
       "9  JCd9a764  131267455088         36699857                Custom Formula Data\n",
       "10 JCd9a764  131267455088         36699857                Custom Formula Data\n",
       "11 JCd8e933  131268049650         37087240                Custom Formula Data\n",
       "12 JCd8e933  131268049650         37087240                Custom Formula Data\n",
       "13 JCd81521  131269835157         38128654                Custom Formula Data\n",
       "14 JCd81521  131269835157         38128654                Custom Formula Data\n",
       "15 JCd599de  131270558152         38263189                Custom Formula Data\n",
       "16 JCd599de  131270558152         38263189                Custom Formula Data\n",
       "17 JC2a151e8 131273341837         39785047                Custom Formula Data\n",
       "18 JC2a151e8 131273341837         39785047                Custom Formula Data\n",
       "19 JCdd4776  131276449700         41864777                Custom Formula Data\n",
       "20 JCdd4776  131276449700         41864777                Custom Formula Data\n",
       "21 JC2a1ed7e 131280162697         44115216                Custom Formula Data\n",
       "22 JC2a1ed7e 131280162697         44115216                Custom Formula Data\n",
       "23 JCe048f6  131280235521         44165792                Custom Formula Data\n",
       "24 JCe048f6  131280235521         44165792                Custom Formula Data\n",
       "25 JC2a2dbdc 131281210841         44721634                Custom Formula Data\n",
       "26 JC2a2dbdc 131281210841         44721634                Custom Formula Data\n",
       "27 JC2a2dbdc 131281210841         44721634                Custom Formula Data\n",
       "28 JC2a2dbdc 131281210841         44721634                Custom Formula Data\n",
       "29 JC2a2afe1 131281332633         44793648                Custom Formula Data\n",
       "30 JC2a2afe1 131281332633         44793648                Custom Formula Data\n",
       "31 JCd39a22  131283146817         45943171                Custom Formula Data\n",
       "32 JCd39a22  131283146817         45943171                Custom Formula Data\n",
       "33 JCd149b6  131285474091         46985286                Custom Formula Data\n",
       "34 JCd149b6  131285474091         46985286                Custom Formula Data\n",
       "35 JCd149b6  131285474091         46985286                Custom Formula Data\n",
       "36 JCd149b6  131285474091         46985286                Custom Formula Data\n",
       "37 JCd149b6  131285474091         46985286                Custom Formula Data\n",
       "38 JCd149b6  131285474091         46985286                Custom Formula Data\n",
       "   features units recorded_time             values\n",
       "1  Temp           2019-01-21 11:30:00+00:00 36.9  \n",
       "2  Temp           2019-01-21 11:30:00+00:00 37.0  \n",
       "3  Temp           2019-02-11 05:09:00+00:00 37.0  \n",
       "4  Temp           2019-02-11 05:09:00+00:00 36.6  \n",
       "5  Temp           2019-02-06 04:22:00+00:00 37.5  \n",
       "6  Temp           2019-02-06 04:22:00+00:00 38.0  \n",
       "7  Temp           2019-01-03 04:15:00+00:00 36.7  \n",
       "8  Temp           2019-01-03 04:15:00+00:00 37.0  \n",
       "9  Temp           2019-04-05 02:53:00+00:00 37.0  \n",
       "10 Temp           2019-04-05 02:53:00+00:00 36.7  \n",
       "11 Temp           2019-05-05 09:15:00+00:00 37.0  \n",
       "12 Temp           2019-05-05 09:15:00+00:00 36.9  \n",
       "13 Temp           2019-06-22 02:35:00+00:00 37.0  \n",
       "14 Temp           2019-06-22 02:35:00+00:00 37.3  \n",
       "15 Temp           2019-07-17 05:50:00+00:00 37.0  \n",
       "16 Temp           2019-07-17 05:50:00+00:00 36.8  \n",
       "17 Temp           2019-07-24 03:20:00+00:00 37.0  \n",
       "18 Temp           2019-07-24 03:20:00+00:00 36.9  \n",
       "19 Temp           2019-09-12 14:00:00+00:00 36.4  \n",
       "20 Temp           2019-09-12 14:00:00+00:00 36.0  \n",
       "21 Temp           2019-12-18 07:19:00+00:00 37.0  \n",
       "22 Temp           2019-12-18 07:19:00+00:00 36.8  \n",
       "23 Temp           2019-12-28 20:00:00+00:00 37.0  \n",
       "24 Temp           2019-12-28 20:00:00+00:00 36.7  \n",
       "25 Temp           2019-12-22 20:17:00+00:00 37.0  \n",
       "26 Temp           2019-12-22 20:17:00+00:00 36.6  \n",
       "27 Temp           2019-12-22 19:30:00+00:00 36.7  \n",
       "28 Temp           2019-12-22 19:30:00+00:00 37.0  \n",
       "29 Temp           2019-12-03 20:45:00+00:00 36.6  \n",
       "30 Temp           2019-12-03 20:45:00+00:00 37.0  \n",
       "31 Temp           2020-02-20 08:45:00+00:00 37.0  \n",
       "32 Temp           2020-02-20 08:45:00+00:00 36.9  \n",
       "33 Temp           2020-03-25 01:58:00+00:00 36.8  \n",
       "34 Temp           2020-03-25 04:20:00+00:00 37.3  \n",
       "35 Temp           2020-03-25 01:58:00+00:00 37.8  \n",
       "36 Temp           2020-03-25 04:20:00+00:00 36.0  \n",
       "37 Temp           2020-03-25 02:00:00+00:00 37.8  \n",
       "38 Temp           2020-03-25 02:00:00+00:00 36.8  "
      ]
     },
     "metadata": {},
     "output_type": "display_data"
    }
   ],
   "source": [
    "# check for duplicates all but values\n",
    "DBP %>% group_by_at(vars(-values)) %>% filter(n() > 1) \n",
    "vitals %>% filter(features == \"SBP\") %>% group_by_at(vars(-values)) %>% filter(n() > 1) %>% arrange(pat_enc_csn_id_coded)\n",
    "vitals %>% filter(features == \"RR\") %>% group_by_at(vars(-values)) %>% filter(n() > 1) %>% arrange(pat_enc_csn_id_coded)\n",
    "vitals %>% filter(features == \"Pulse\") %>% group_by_at(vars(-values)) %>% filter(n() > 1) %>% arrange(pat_enc_csn_id_coded)\n",
    "vitals %>% filter(features == \"Temp\") %>% group_by_at(vars(-values)) %>% filter(n() > 1) %>% arrange(pat_enc_csn_id_coded)"
   ]
  },
  {
   "cell_type": "markdown",
   "metadata": {},
   "source": [
    "### Combined DBP back to VS!"
   ]
  },
  {
   "cell_type": "code",
   "execution_count": 128,
   "metadata": {},
   "outputs": [
    {
     "data": {
      "text/html": [
       "<table>\n",
       "<caption>A data.frame: 1 × 8</caption>\n",
       "<thead>\n",
       "\t<tr><th></th><th scope=col>anon_id</th><th scope=col>pat_enc_csn_id_coded</th><th scope=col>inpatient_data_id_coded</th><th scope=col>template</th><th scope=col>features</th><th scope=col>units</th><th scope=col>recorded_time</th><th scope=col>values</th></tr>\n",
       "\t<tr><th></th><th scope=col>&lt;chr&gt;</th><th scope=col>&lt;dbl&gt;</th><th scope=col>&lt;int&gt;</th><th scope=col>&lt;chr&gt;</th><th scope=col>&lt;chr&gt;</th><th scope=col>&lt;chr&gt;</th><th scope=col>&lt;chr&gt;</th><th scope=col>&lt;dbl&gt;</th></tr>\n",
       "</thead>\n",
       "<tbody>\n",
       "\t<tr><th scope=row>1</th><td>JCd0a8db</td><td>131264538689</td><td>34735715</td><td>DATA VALIDATE</td><td>DBP</td><td></td><td>2019-02-11 11:45:00+00:00</td><td>104</td></tr>\n",
       "</tbody>\n",
       "</table>\n"
      ],
      "text/latex": [
       "A data.frame: 1 × 8\n",
       "\\begin{tabular}{r|llllllll}\n",
       "  & anon\\_id & pat\\_enc\\_csn\\_id\\_coded & inpatient\\_data\\_id\\_coded & template & features & units & recorded\\_time & values\\\\\n",
       "  & <chr> & <dbl> & <int> & <chr> & <chr> & <chr> & <chr> & <dbl>\\\\\n",
       "\\hline\n",
       "\t1 & JCd0a8db & 131264538689 & 34735715 & DATA VALIDATE & DBP &  & 2019-02-11 11:45:00+00:00 & 104\\\\\n",
       "\\end{tabular}\n"
      ],
      "text/markdown": [
       "\n",
       "A data.frame: 1 × 8\n",
       "\n",
       "| <!--/--> | anon_id &lt;chr&gt; | pat_enc_csn_id_coded &lt;dbl&gt; | inpatient_data_id_coded &lt;int&gt; | template &lt;chr&gt; | features &lt;chr&gt; | units &lt;chr&gt; | recorded_time &lt;chr&gt; | values &lt;dbl&gt; |\n",
       "|---|---|---|---|---|---|---|---|---|\n",
       "| 1 | JCd0a8db | 131264538689 | 34735715 | DATA VALIDATE | DBP | <!----> | 2019-02-11 11:45:00+00:00 | 104 |\n",
       "\n"
      ],
      "text/plain": [
       "  anon_id  pat_enc_csn_id_coded inpatient_data_id_coded template      features\n",
       "1 JCd0a8db 131264538689         34735715                DATA VALIDATE DBP     \n",
       "  units recorded_time             values\n",
       "1       2019-02-11 11:45:00+00:00 104   "
      ]
     },
     "metadata": {},
     "output_type": "display_data"
    },
    {
     "data": {
      "text/html": [
       "<table>\n",
       "<caption>A data.frame: 1 × 8</caption>\n",
       "<thead>\n",
       "\t<tr><th></th><th scope=col>anon_id</th><th scope=col>pat_enc_csn_id_coded</th><th scope=col>inpatient_data_id_coded</th><th scope=col>template</th><th scope=col>features</th><th scope=col>units</th><th scope=col>recorded_time</th><th scope=col>values</th></tr>\n",
       "\t<tr><th></th><th scope=col>&lt;chr&gt;</th><th scope=col>&lt;dbl&gt;</th><th scope=col>&lt;int&gt;</th><th scope=col>&lt;chr&gt;</th><th scope=col>&lt;chr&gt;</th><th scope=col>&lt;chr&gt;</th><th scope=col>&lt;chr&gt;</th><th scope=col>&lt;dbl&gt;</th></tr>\n",
       "</thead>\n",
       "<tbody>\n",
       "\t<tr><th scope=row>1</th><td>JCe15c20</td><td>131254814765</td><td>31338316</td><td>Vitals</td><td>RR</td><td></td><td>2018-08-22 16:00:00+00:00</td><td>16</td></tr>\n",
       "</tbody>\n",
       "</table>\n"
      ],
      "text/latex": [
       "A data.frame: 1 × 8\n",
       "\\begin{tabular}{r|llllllll}\n",
       "  & anon\\_id & pat\\_enc\\_csn\\_id\\_coded & inpatient\\_data\\_id\\_coded & template & features & units & recorded\\_time & values\\\\\n",
       "  & <chr> & <dbl> & <int> & <chr> & <chr> & <chr> & <chr> & <dbl>\\\\\n",
       "\\hline\n",
       "\t1 & JCe15c20 & 131254814765 & 31338316 & Vitals & RR &  & 2018-08-22 16:00:00+00:00 & 16\\\\\n",
       "\\end{tabular}\n"
      ],
      "text/markdown": [
       "\n",
       "A data.frame: 1 × 8\n",
       "\n",
       "| <!--/--> | anon_id &lt;chr&gt; | pat_enc_csn_id_coded &lt;dbl&gt; | inpatient_data_id_coded &lt;int&gt; | template &lt;chr&gt; | features &lt;chr&gt; | units &lt;chr&gt; | recorded_time &lt;chr&gt; | values &lt;dbl&gt; |\n",
       "|---|---|---|---|---|---|---|---|---|\n",
       "| 1 | JCe15c20 | 131254814765 | 31338316 | Vitals | RR | <!----> | 2018-08-22 16:00:00+00:00 | 16 |\n",
       "\n"
      ],
      "text/plain": [
       "  anon_id  pat_enc_csn_id_coded inpatient_data_id_coded template features units\n",
       "1 JCe15c20 131254814765         31338316                Vitals   RR            \n",
       "  recorded_time             values\n",
       "1 2018-08-22 16:00:00+00:00 16    "
      ]
     },
     "metadata": {},
     "output_type": "display_data"
    }
   ],
   "source": [
    "head(DBP, n=1)\n",
    "head(vitals, n=1)"
   ]
  },
  {
   "cell_type": "code",
   "execution_count": 130,
   "metadata": {},
   "outputs": [
    {
     "data": {
      "text/html": [
       "212378"
      ],
      "text/latex": [
       "212378"
      ],
      "text/markdown": [
       "212378"
      ],
      "text/plain": [
       "[1] 212378"
      ]
     },
     "metadata": {},
     "output_type": "display_data"
    },
    {
     "data": {
      "text/html": [
       "798882"
      ],
      "text/latex": [
       "798882"
      ],
      "text/markdown": [
       "798882"
      ],
      "text/plain": [
       "[1] 798882"
      ]
     },
     "metadata": {},
     "output_type": "display_data"
    },
    {
     "data": {
      "text/html": [
       "45796"
      ],
      "text/latex": [
       "45796"
      ],
      "text/markdown": [
       "45796"
      ],
      "text/plain": [
       "[1] 45796"
      ]
     },
     "metadata": {},
     "output_type": "display_data"
    },
    {
     "data": {
      "text/plain": [
       "   Min. 1st Qu.  Median    Mean 3rd Qu.    Max. \n",
       "    5.0    36.7    72.0    72.3   102.0   419.0 "
      ]
     },
     "metadata": {},
     "output_type": "display_data"
    },
    {
     "data": {
      "text/html": [
       "1011260"
      ],
      "text/latex": [
       "1011260"
      ],
      "text/markdown": [
       "1011260"
      ],
      "text/plain": [
       "[1] 1011260"
      ]
     },
     "metadata": {},
     "output_type": "display_data"
    },
    {
     "data": {
      "text/html": [
       "45613"
      ],
      "text/latex": [
       "45613"
      ],
      "text/markdown": [
       "45613"
      ],
      "text/plain": [
       "[1] 45613"
      ]
     },
     "metadata": {},
     "output_type": "display_data"
    }
   ],
   "source": [
    "nrow(DBP)\n",
    "nrow(vitals)\n",
    "nrow(cohort) #\n",
    "\n",
    "vitals <- bind_rows(vitals, DBP) %>% mutate(feature_type = \"vitals\") \n",
    "summary(vitals$values)\n",
    "nrow(vitals) \n",
    "nrow(vitals %>% select(anon_id, pat_enc_csn_id_coded) %>% distinct()) #43,143"
   ]
  },
  {
   "cell_type": "code",
   "execution_count": 133,
   "metadata": {},
   "outputs": [],
   "source": [
    "# list the duplicated rows (except values) again\n",
    "dup <- vitals %>% group_by_at(vars(-values)) %>% filter(n() > 1) %>% arrange(pat_enc_csn_id_coded, features)"
   ]
  },
  {
   "cell_type": "code",
   "execution_count": 137,
   "metadata": {},
   "outputs": [
    {
     "data": {
      "text/html": [
       "56"
      ],
      "text/latex": [
       "56"
      ],
      "text/markdown": [
       "56"
      ],
      "text/plain": [
       "[1] 56"
      ]
     },
     "metadata": {},
     "output_type": "display_data"
    },
    {
     "name": "stderr",
     "output_type": "stream",
     "text": [
      "`summarise()` regrouping output by 'anon_id', 'pat_enc_csn_id_coded', 'inpatient_data_id_coded', 'template', 'features', 'units', 'recorded_time' (override with `.groups` argument)\n",
      "\n"
     ]
    },
    {
     "data": {
      "text/html": [
       "28"
      ],
      "text/latex": [
       "28"
      ],
      "text/markdown": [
       "28"
      ],
      "text/plain": [
       "[1] 28"
      ]
     },
     "metadata": {},
     "output_type": "display_data"
    }
   ],
   "source": [
    "nrow(dup)\n",
    "dup_avg <- dup %>% group_by_at(vars(-values)) %>% summarise(values = mean(values))\n",
    "nrow(dup_avg)"
   ]
  },
  {
   "cell_type": "code",
   "execution_count": 139,
   "metadata": {},
   "outputs": [
    {
     "name": "stderr",
     "output_type": "stream",
     "text": [
      "`summarise()` regrouping output by 'anon_id', 'pat_enc_csn_id_coded', 'inpatient_data_id_coded', 'template', 'features', 'units', 'recorded_time' (override with `.groups` argument)\n",
      "\n"
     ]
    },
    {
     "data": {
      "text/html": [
       "1011260"
      ],
      "text/latex": [
       "1011260"
      ],
      "text/markdown": [
       "1011260"
      ],
      "text/plain": [
       "[1] 1011260"
      ]
     },
     "metadata": {},
     "output_type": "display_data"
    },
    {
     "data": {
      "text/html": [
       "1011232"
      ],
      "text/latex": [
       "1011232"
      ],
      "text/markdown": [
       "1011232"
      ],
      "text/plain": [
       "[1] 1011232"
      ]
     },
     "metadata": {},
     "output_type": "display_data"
    }
   ],
   "source": [
    "# for those duplicated rows, take averages of values\n",
    "cohort_vitals <- vitals %>% group_by_at(vars(-values)) %>% summarise(values = mean(values))\n",
    "nrow(vitals)\n",
    "nrow(cohort_vitals)"
   ]
  },
  {
   "cell_type": "code",
   "execution_count": 140,
   "metadata": {},
   "outputs": [
    {
     "data": {
      "text/html": [
       "<table>\n",
       "<caption>A grouped_df: 1 × 9</caption>\n",
       "<thead>\n",
       "\t<tr><th scope=col>anon_id</th><th scope=col>pat_enc_csn_id_coded</th><th scope=col>inpatient_data_id_coded</th><th scope=col>template</th><th scope=col>features</th><th scope=col>units</th><th scope=col>recorded_time</th><th scope=col>feature_type</th><th scope=col>values</th></tr>\n",
       "\t<tr><th scope=col>&lt;chr&gt;</th><th scope=col>&lt;dbl&gt;</th><th scope=col>&lt;int&gt;</th><th scope=col>&lt;chr&gt;</th><th scope=col>&lt;chr&gt;</th><th scope=col>&lt;chr&gt;</th><th scope=col>&lt;chr&gt;</th><th scope=col>&lt;chr&gt;</th><th scope=col>&lt;dbl&gt;</th></tr>\n",
       "</thead>\n",
       "<tbody>\n",
       "\t<tr><td>JC29f8ad2</td><td>131274729058</td><td>40679773</td><td>Custom Formula Data</td><td>Temp</td><td></td><td>2019-08-31 10:14:00+00:00</td><td>vitals</td><td>36.9</td></tr>\n",
       "</tbody>\n",
       "</table>\n"
      ],
      "text/latex": [
       "A grouped\\_df: 1 × 9\n",
       "\\begin{tabular}{lllllllll}\n",
       " anon\\_id & pat\\_enc\\_csn\\_id\\_coded & inpatient\\_data\\_id\\_coded & template & features & units & recorded\\_time & feature\\_type & values\\\\\n",
       " <chr> & <dbl> & <int> & <chr> & <chr> & <chr> & <chr> & <chr> & <dbl>\\\\\n",
       "\\hline\n",
       "\t JC29f8ad2 & 131274729058 & 40679773 & Custom Formula Data & Temp &  & 2019-08-31 10:14:00+00:00 & vitals & 36.9\\\\\n",
       "\\end{tabular}\n"
      ],
      "text/markdown": [
       "\n",
       "A grouped_df: 1 × 9\n",
       "\n",
       "| anon_id &lt;chr&gt; | pat_enc_csn_id_coded &lt;dbl&gt; | inpatient_data_id_coded &lt;int&gt; | template &lt;chr&gt; | features &lt;chr&gt; | units &lt;chr&gt; | recorded_time &lt;chr&gt; | feature_type &lt;chr&gt; | values &lt;dbl&gt; |\n",
       "|---|---|---|---|---|---|---|---|---|\n",
       "| JC29f8ad2 | 131274729058 | 40679773 | Custom Formula Data | Temp | <!----> | 2019-08-31 10:14:00+00:00 | vitals | 36.9 |\n",
       "\n"
      ],
      "text/plain": [
       "  anon_id   pat_enc_csn_id_coded inpatient_data_id_coded template           \n",
       "1 JC29f8ad2 131274729058         40679773                Custom Formula Data\n",
       "  features units recorded_time             feature_type values\n",
       "1 Temp           2019-08-31 10:14:00+00:00 vitals       36.9  "
      ]
     },
     "metadata": {},
     "output_type": "display_data"
    }
   ],
   "source": [
    "head(cohort_vitals, n=1)"
   ]
  },
  {
   "cell_type": "code",
   "execution_count": 141,
   "metadata": {},
   "outputs": [
    {
     "data": {
      "text/plain": [
       "   Min. 1st Qu.  Median    Mean 3rd Qu.    Max. \n",
       "    5.0    36.7    72.0    72.3   102.0   419.0 "
      ]
     },
     "metadata": {},
     "output_type": "display_data"
    }
   ],
   "source": [
    "summary(cohort_vitals$values)"
   ]
  },
  {
   "cell_type": "code",
   "execution_count": 142,
   "metadata": {},
   "outputs": [],
   "source": [
    "# save cohort vital signs after cleaning, no NA's here, has recorded time, used for binning\n",
    "# cohort_vitals\n",
    "write.csv(vitals, file.path(featuredir, \"2_3_coh2_vitals.csv\"), row.names=FALSE)"
   ]
  },
  {
   "cell_type": "markdown",
   "metadata": {},
   "source": [
    "## Get the first set of vital signs - UPDATE COHORT\n",
    "This will result in an updated (smaller) cohort, only with observations whose have at least a complet set of vital signs.\n",
    "\n",
    "These blocks of code in this section are the same in:\n",
    "- `1_cohort/1.5_cohort_complete1vitals_R.ipynb`\n",
    "- second part of the `2.3_vitalsigns_R.ipynb`"
   ]
  },
  {
   "cell_type": "code",
   "execution_count": 114,
   "metadata": {},
   "outputs": [
    {
     "data": {
      "text/html": [
       "1011260"
      ],
      "text/latex": [
       "1011260"
      ],
      "text/markdown": [
       "1011260"
      ],
      "text/plain": [
       "[1] 1011260"
      ]
     },
     "metadata": {},
     "output_type": "display_data"
    },
    {
     "data": {
      "text/html": [
       "45613"
      ],
      "text/latex": [
       "45613"
      ],
      "text/markdown": [
       "45613"
      ],
      "text/plain": [
       "[1] 45613"
      ]
     },
     "metadata": {},
     "output_type": "display_data"
    }
   ],
   "source": [
    "# read inputs\n",
    "datadir = \"../../DataTD\"\n",
    "cohortdir = \"../../OutputTD/1_cohort\"\n",
    "featuredir = \"../../OutputTD/2_features\"\n",
    "\n",
    "cohort_vitals <- read.csv(file.path(featuredir, \"2_3_coh2_vitals.csv\"))\n",
    "nrow(cohort_vitals)\n",
    "length(unique(cohort_vitals$pat_enc_csn_id_coded))"
   ]
  },
  {
   "cell_type": "code",
   "execution_count": 29,
   "metadata": {},
   "outputs": [
    {
     "data": {
      "text/html": [
       "<table class=\"dataframe\">\n",
       "<caption>A data.frame: 6 × 9</caption>\n",
       "<thead>\n",
       "\t<tr><th></th><th scope=col>anon_id</th><th scope=col>pat_enc_csn_id_coded</th><th scope=col>inpatient_data_id_coded</th><th scope=col>template</th><th scope=col>features</th><th scope=col>units</th><th scope=col>recorded_time</th><th scope=col>values</th><th scope=col>feature_type</th></tr>\n",
       "\t<tr><th></th><th scope=col>&lt;chr&gt;</th><th scope=col>&lt;dbl&gt;</th><th scope=col>&lt;int&gt;</th><th scope=col>&lt;chr&gt;</th><th scope=col>&lt;chr&gt;</th><th scope=col>&lt;chr&gt;</th><th scope=col>&lt;chr&gt;</th><th scope=col>&lt;dbl&gt;</th><th scope=col>&lt;chr&gt;</th></tr>\n",
       "</thead>\n",
       "<tbody>\n",
       "\t<tr><th scope=row>1</th><td>JCe15c20</td><td>131254814765</td><td>31338316</td><td>Vitals       </td><td>RR  </td><td></td><td>2018-08-22 16:00:00+00:00</td><td> 16</td><td>vitals</td></tr>\n",
       "\t<tr><th scope=row>2</th><td>JCd0a8db</td><td>131264538689</td><td>34735715</td><td>DATA VALIDATE</td><td>SBP </td><td></td><td>2019-02-11 11:45:00+00:00</td><td>178</td><td>vitals</td></tr>\n",
       "\t<tr><th scope=row>3</th><td>JCdeb93e</td><td>131266509496</td><td>36078047</td><td>M/S VS       </td><td>Temp</td><td></td><td>2019-04-03 22:45:00+00:00</td><td> 37</td><td>vitals</td></tr>\n",
       "\t<tr><th scope=row>4</th><td>JCcbf217</td><td>131241202790</td><td>27087604</td><td>DATA VALIDATE</td><td>SBP </td><td></td><td>2017-12-18 06:30:00+00:00</td><td> 88</td><td>vitals</td></tr>\n",
       "\t<tr><th scope=row>5</th><td>JCd64572</td><td>131231133056</td><td>24776616</td><td>Vitals       </td><td>SBP </td><td></td><td>2017-06-21 20:45:00+00:00</td><td>163</td><td>vitals</td></tr>\n",
       "\t<tr><th scope=row>6</th><td>JCd884d0</td><td>131121019062</td><td>16807919</td><td>DATA VALIDATE</td><td>SBP </td><td></td><td>2015-10-16 19:00:00+00:00</td><td> 97</td><td>vitals</td></tr>\n",
       "</tbody>\n",
       "</table>\n"
      ],
      "text/latex": [
       "A data.frame: 6 × 9\n",
       "\\begin{tabular}{r|lllllllll}\n",
       "  & anon\\_id & pat\\_enc\\_csn\\_id\\_coded & inpatient\\_data\\_id\\_coded & template & features & units & recorded\\_time & values & feature\\_type\\\\\n",
       "  & <chr> & <dbl> & <int> & <chr> & <chr> & <chr> & <chr> & <dbl> & <chr>\\\\\n",
       "\\hline\n",
       "\t1 & JCe15c20 & 131254814765 & 31338316 & Vitals        & RR   &  & 2018-08-22 16:00:00+00:00 &  16 & vitals\\\\\n",
       "\t2 & JCd0a8db & 131264538689 & 34735715 & DATA VALIDATE & SBP  &  & 2019-02-11 11:45:00+00:00 & 178 & vitals\\\\\n",
       "\t3 & JCdeb93e & 131266509496 & 36078047 & M/S VS        & Temp &  & 2019-04-03 22:45:00+00:00 &  37 & vitals\\\\\n",
       "\t4 & JCcbf217 & 131241202790 & 27087604 & DATA VALIDATE & SBP  &  & 2017-12-18 06:30:00+00:00 &  88 & vitals\\\\\n",
       "\t5 & JCd64572 & 131231133056 & 24776616 & Vitals        & SBP  &  & 2017-06-21 20:45:00+00:00 & 163 & vitals\\\\\n",
       "\t6 & JCd884d0 & 131121019062 & 16807919 & DATA VALIDATE & SBP  &  & 2015-10-16 19:00:00+00:00 &  97 & vitals\\\\\n",
       "\\end{tabular}\n"
      ],
      "text/markdown": [
       "\n",
       "A data.frame: 6 × 9\n",
       "\n",
       "| <!--/--> | anon_id &lt;chr&gt; | pat_enc_csn_id_coded &lt;dbl&gt; | inpatient_data_id_coded &lt;int&gt; | template &lt;chr&gt; | features &lt;chr&gt; | units &lt;chr&gt; | recorded_time &lt;chr&gt; | values &lt;dbl&gt; | feature_type &lt;chr&gt; |\n",
       "|---|---|---|---|---|---|---|---|---|---|\n",
       "| 1 | JCe15c20 | 131254814765 | 31338316 | Vitals        | RR   | <!----> | 2018-08-22 16:00:00+00:00 |  16 | vitals |\n",
       "| 2 | JCd0a8db | 131264538689 | 34735715 | DATA VALIDATE | SBP  | <!----> | 2019-02-11 11:45:00+00:00 | 178 | vitals |\n",
       "| 3 | JCdeb93e | 131266509496 | 36078047 | M/S VS        | Temp | <!----> | 2019-04-03 22:45:00+00:00 |  37 | vitals |\n",
       "| 4 | JCcbf217 | 131241202790 | 27087604 | DATA VALIDATE | SBP  | <!----> | 2017-12-18 06:30:00+00:00 |  88 | vitals |\n",
       "| 5 | JCd64572 | 131231133056 | 24776616 | Vitals        | SBP  | <!----> | 2017-06-21 20:45:00+00:00 | 163 | vitals |\n",
       "| 6 | JCd884d0 | 131121019062 | 16807919 | DATA VALIDATE | SBP  | <!----> | 2015-10-16 19:00:00+00:00 |  97 | vitals |\n",
       "\n"
      ],
      "text/plain": [
       "  anon_id  pat_enc_csn_id_coded inpatient_data_id_coded template      features\n",
       "1 JCe15c20 131254814765         31338316                Vitals        RR      \n",
       "2 JCd0a8db 131264538689         34735715                DATA VALIDATE SBP     \n",
       "3 JCdeb93e 131266509496         36078047                M/S VS        Temp    \n",
       "4 JCcbf217 131241202790         27087604                DATA VALIDATE SBP     \n",
       "5 JCd64572 131231133056         24776616                Vitals        SBP     \n",
       "6 JCd884d0 131121019062         16807919                DATA VALIDATE SBP     \n",
       "  units recorded_time             values feature_type\n",
       "1       2018-08-22 16:00:00+00:00  16    vitals      \n",
       "2       2019-02-11 11:45:00+00:00 178    vitals      \n",
       "3       2019-04-03 22:45:00+00:00  37    vitals      \n",
       "4       2017-12-18 06:30:00+00:00  88    vitals      \n",
       "5       2017-06-21 20:45:00+00:00 163    vitals      \n",
       "6       2015-10-16 19:00:00+00:00  97    vitals      "
      ]
     },
     "metadata": {},
     "output_type": "display_data"
    }
   ],
   "source": [
    "head(vitals)"
   ]
  },
  {
   "cell_type": "code",
   "execution_count": 82,
   "metadata": {},
   "outputs": [
    {
     "name": "stderr",
     "output_type": "stream",
     "text": [
      "`summarise()` has grouped output by 'anon_id', 'pat_enc_csn_id_coded', 'inpatient_data_id_coded'. You can override using the `.groups` argument.\n",
      "\n"
     ]
    }
   ],
   "source": [
    "# same as above, but takes ~8min to run\n",
    "vs1st <- cohort_vitals %>% select(anon_id, pat_enc_csn_id_coded, inpatient_data_id_coded, \n",
    "                                  recorded_time, features, values, feature_type) %>% \n",
    "            mutate(recorded_time = ymd_hms(recorded_time)) %>% \n",
    "            group_by(anon_id, pat_enc_csn_id_coded, inpatient_data_id_coded, features) %>%\n",
    "            top_n(n=-1, recorded_time) %>% # slice_min(n=1, recorded_time, with_ties = FALSE) \n",
    "            summarise(first_val = mean(values, na.rm=TRUE)) %>% distinct()"
   ]
  },
  {
   "cell_type": "code",
   "execution_count": 48,
   "metadata": {},
   "outputs": [
    {
     "data": {
      "text/html": [
       "226510"
      ],
      "text/latex": [
       "226510"
      ],
      "text/markdown": [
       "226510"
      ],
      "text/plain": [
       "[1] 226510"
      ]
     },
     "metadata": {},
     "output_type": "display_data"
    },
    {
     "data": {
      "text/html": [
       "226510"
      ],
      "text/latex": [
       "226510"
      ],
      "text/markdown": [
       "226510"
      ],
      "text/plain": [
       "[1] 226510"
      ]
     },
     "metadata": {},
     "output_type": "display_data"
    },
    {
     "data": {
      "text/html": [
       "45613"
      ],
      "text/latex": [
       "45613"
      ],
      "text/markdown": [
       "45613"
      ],
      "text/plain": [
       "[1] 45613"
      ]
     },
     "metadata": {},
     "output_type": "display_data"
    },
    {
     "data": {
      "text/html": [
       "45613"
      ],
      "text/latex": [
       "45613"
      ],
      "text/markdown": [
       "45613"
      ],
      "text/plain": [
       "[1] 45613"
      ]
     },
     "metadata": {},
     "output_type": "display_data"
    }
   ],
   "source": [
    "# only have 1 unique time because we already took care of this \n",
    "nrow(vs1st) #226510\n",
    "nrow(vs1st %>% distinct(anon_id, pat_enc_csn_id_coded, features))\n",
    "nrow(vs1st %>% distinct(anon_id, pat_enc_csn_id_coded, inpatient_data_id_coded)) #45613\n",
    "nrow(vs1st %>% distinct(anon_id, pat_enc_csn_id_coded)) "
   ]
  },
  {
   "cell_type": "code",
   "execution_count": 92,
   "metadata": {},
   "outputs": [],
   "source": [
    "write.csv(vs1st, file.path(featuredir, \"2_3_coh2_vs1st.csv\"), row.names=FALSE)"
   ]
  },
  {
   "cell_type": "code",
   "execution_count": 115,
   "metadata": {},
   "outputs": [
    {
     "data": {
      "text/html": [
       "<style>\n",
       ".list-inline {list-style: none; margin:0; padding: 0}\n",
       ".list-inline>li {display: inline-block}\n",
       ".list-inline>li:not(:last-child)::after {content: \"\\00b7\"; padding: 0 .5ex}\n",
       "</style>\n",
       "<ol class=list-inline><li>'anon_id'</li><li>'pat_enc_csn_id_coded'</li><li>'inpatient_data_id_coded'</li><li>'DBP'</li><li>'Pulse'</li><li>'RR'</li><li>'SBP'</li><li>'Temp'</li></ol>\n"
      ],
      "text/latex": [
       "\\begin{enumerate*}\n",
       "\\item 'anon\\_id'\n",
       "\\item 'pat\\_enc\\_csn\\_id\\_coded'\n",
       "\\item 'inpatient\\_data\\_id\\_coded'\n",
       "\\item 'DBP'\n",
       "\\item 'Pulse'\n",
       "\\item 'RR'\n",
       "\\item 'SBP'\n",
       "\\item 'Temp'\n",
       "\\end{enumerate*}\n"
      ],
      "text/markdown": [
       "1. 'anon_id'\n",
       "2. 'pat_enc_csn_id_coded'\n",
       "3. 'inpatient_data_id_coded'\n",
       "4. 'DBP'\n",
       "5. 'Pulse'\n",
       "6. 'RR'\n",
       "7. 'SBP'\n",
       "8. 'Temp'\n",
       "\n",
       "\n"
      ],
      "text/plain": [
       "[1] \"anon_id\"                 \"pat_enc_csn_id_coded\"   \n",
       "[3] \"inpatient_data_id_coded\" \"DBP\"                    \n",
       "[5] \"Pulse\"                   \"RR\"                     \n",
       "[7] \"SBP\"                     \"Temp\"                   "
      ]
     },
     "metadata": {},
     "output_type": "display_data"
    },
    {
     "data": {
      "text/html": [
       "44258"
      ],
      "text/latex": [
       "44258"
      ],
      "text/markdown": [
       "44258"
      ],
      "text/plain": [
       "[1] 44258"
      ]
     },
     "metadata": {},
     "output_type": "display_data"
    }
   ],
   "source": [
    "# note: cohort size dropped further\n",
    "# get the the cohort with 1st complete set of VS for ESI imputation\n",
    "cohort1vs <- vs1st %>% drop_na() %>% spread(features, first_val) %>% drop_na() \n",
    "colnames(cohort1vs)\n",
    "nrow(cohort1vs %>% distinct(pat_enc_csn_id_coded))"
   ]
  },
  {
   "cell_type": "raw",
   "metadata": {},
   "source": [
    "# note: cohort size dropped further\n",
    "# get the the cohort with 1st (at least 1) complete set of VS \n",
    "cohort1vs <- vs1st %>% drop_na() %>% spread(features, first_val) %>% drop_na() %>% \n",
    "                select(anon_id, pat_enc_csn_id_coded, inpatient_data_id_coded)\n",
    "colnames(cohort1vs)\n",
    "nrow(cohort1vs %>% distinct(pat_enc_csn_id_coded)) #44258"
   ]
  },
  {
   "cell_type": "code",
   "execution_count": 116,
   "metadata": {},
   "outputs": [],
   "source": [
    "# 44258\n",
    "write.csv(cohort1vs, file.path(cohortdir, \"1_3_cohort.csv\"), row.names=FALSE)"
   ]
  },
  {
   "cell_type": "markdown",
   "metadata": {},
   "source": [
    "## Get other VS related features for simple data/model: \n",
    "\n",
    "- Demographic features\n",
    "- Vital signs: first and last values, summary statistics, difference from last - first and max - min\n",
    "- Updated cohort only contains those with at least a complete set of vital signs\n",
    "\n",
    "Note that first and last values at the same time might have more than 1. However, this was taken care of during the processing of vital signs, when we took the averages if there are multiple values at the same recorded_time"
   ]
  },
  {
   "cell_type": "code",
   "execution_count": 76,
   "metadata": {},
   "outputs": [],
   "source": [
    "# read inputs\n",
    "featuredir = \"../../OutputTD/2_features\"\n",
    "\n",
    "cohort1vs <- read.csv(file.path(featuredir, \"coh3_vs1st_complete.csv\"))\n",
    "cohort_vitals <- read.csv(file.path(featuredir, \"cohort_vitals.csv\"))"
   ]
  },
  {
   "cell_type": "code",
   "execution_count": 58,
   "metadata": {},
   "outputs": [
    {
     "data": {
      "text/html": [
       "44258"
      ],
      "text/latex": [
       "44258"
      ],
      "text/markdown": [
       "44258"
      ],
      "text/plain": [
       "[1] 44258"
      ]
     },
     "metadata": {},
     "output_type": "display_data"
    },
    {
     "data": {
      "text/html": [
       "44258"
      ],
      "text/latex": [
       "44258"
      ],
      "text/markdown": [
       "44258"
      ],
      "text/plain": [
       "[1] 44258"
      ]
     },
     "metadata": {},
     "output_type": "display_data"
    }
   ],
   "source": [
    "nrow(cohort1vs)\n",
    "nrow(cohort1vs %>% drop_na() %>% distinct())\n",
    "nrow(cohort1vs %>% distinct(pat_enc_csn_id_coded)) #44258"
   ]
  },
  {
   "cell_type": "code",
   "execution_count": 60,
   "metadata": {},
   "outputs": [
    {
     "data": {
      "text/html": [
       "<table class=\"dataframe\">\n",
       "<caption>A data.frame: 1 × 8</caption>\n",
       "<thead>\n",
       "\t<tr><th></th><th scope=col>anon_id</th><th scope=col>pat_enc_csn_id_coded</th><th scope=col>inpatient_data_id_coded</th><th scope=col>DBP</th><th scope=col>Pulse</th><th scope=col>RR</th><th scope=col>SBP</th><th scope=col>Temp</th></tr>\n",
       "\t<tr><th></th><th scope=col>&lt;chr&gt;</th><th scope=col>&lt;dbl&gt;</th><th scope=col>&lt;int&gt;</th><th scope=col>&lt;int&gt;</th><th scope=col>&lt;int&gt;</th><th scope=col>&lt;int&gt;</th><th scope=col>&lt;int&gt;</th><th scope=col>&lt;dbl&gt;</th></tr>\n",
       "</thead>\n",
       "<tbody>\n",
       "\t<tr><th scope=row>1</th><td>JC29f8ad2</td><td>131274729058</td><td>40679773</td><td>74</td><td>95</td><td>20</td><td>118</td><td>36.95</td></tr>\n",
       "</tbody>\n",
       "</table>\n"
      ],
      "text/latex": [
       "A data.frame: 1 × 8\n",
       "\\begin{tabular}{r|llllllll}\n",
       "  & anon\\_id & pat\\_enc\\_csn\\_id\\_coded & inpatient\\_data\\_id\\_coded & DBP & Pulse & RR & SBP & Temp\\\\\n",
       "  & <chr> & <dbl> & <int> & <int> & <int> & <int> & <int> & <dbl>\\\\\n",
       "\\hline\n",
       "\t1 & JC29f8ad2 & 131274729058 & 40679773 & 74 & 95 & 20 & 118 & 36.95\\\\\n",
       "\\end{tabular}\n"
      ],
      "text/markdown": [
       "\n",
       "A data.frame: 1 × 8\n",
       "\n",
       "| <!--/--> | anon_id &lt;chr&gt; | pat_enc_csn_id_coded &lt;dbl&gt; | inpatient_data_id_coded &lt;int&gt; | DBP &lt;int&gt; | Pulse &lt;int&gt; | RR &lt;int&gt; | SBP &lt;int&gt; | Temp &lt;dbl&gt; |\n",
       "|---|---|---|---|---|---|---|---|---|\n",
       "| 1 | JC29f8ad2 | 131274729058 | 40679773 | 74 | 95 | 20 | 118 | 36.95 |\n",
       "\n"
      ],
      "text/plain": [
       "  anon_id   pat_enc_csn_id_coded inpatient_data_id_coded DBP Pulse RR SBP Temp \n",
       "1 JC29f8ad2 131274729058         40679773                74  95    20 118 36.95"
      ]
     },
     "metadata": {},
     "output_type": "display_data"
    }
   ],
   "source": [
    "head(cohort1vs, n=1)"
   ]
  },
  {
   "cell_type": "code",
   "execution_count": 83,
   "metadata": {},
   "outputs": [
    {
     "name": "stderr",
     "output_type": "stream",
     "text": [
      "`summarise()` has grouped output by 'anon_id', 'pat_enc_csn_id_coded', 'inpatient_data_id_coded'. You can override using the `.groups` argument.\n",
      "\n"
     ]
    }
   ],
   "source": [
    "# get the most recent value of each feature, top_n(n=1, recorded_time) or slice_max\n",
    "vs_last <- cohort_vitals %>% select(anon_id, pat_enc_csn_id_coded, inpatient_data_id_coded, \n",
    "                                  recorded_time, features, values, feature_type) %>% \n",
    "            group_by(anon_id, pat_enc_csn_id_coded, inpatient_data_id_coded, features) %>%\n",
    "            top_n(n=1, recorded_time) %>%\n",
    "            summarise(last_val = mean(values, na.rm=TRUE)) %>% distinct() # %>% \n",
    "#             drop_na() %>% spread(features, last_val) %>% drop_na() "
   ]
  },
  {
   "cell_type": "code",
   "execution_count": 93,
   "metadata": {},
   "outputs": [
    {
     "data": {
      "text/html": [
       "44258"
      ],
      "text/latex": [
       "44258"
      ],
      "text/markdown": [
       "44258"
      ],
      "text/plain": [
       "[1] 44258"
      ]
     },
     "metadata": {},
     "output_type": "display_data"
    },
    {
     "data": {
      "text/html": [
       "226510"
      ],
      "text/latex": [
       "226510"
      ],
      "text/markdown": [
       "226510"
      ],
      "text/plain": [
       "[1] 226510"
      ]
     },
     "metadata": {},
     "output_type": "display_data"
    },
    {
     "data": {
      "text/html": [
       "45613"
      ],
      "text/latex": [
       "45613"
      ],
      "text/markdown": [
       "45613"
      ],
      "text/plain": [
       "[1] 45613"
      ]
     },
     "metadata": {},
     "output_type": "display_data"
    },
    {
     "data": {
      "text/html": [
       "45613"
      ],
      "text/latex": [
       "45613"
      ],
      "text/markdown": [
       "45613"
      ],
      "text/plain": [
       "[1] 45613"
      ]
     },
     "metadata": {},
     "output_type": "display_data"
    }
   ],
   "source": [
    "# only have 1 unique time because we already took care of this \n",
    "nrow(cohort1vs)\n",
    "nrow(vs_last)\n",
    "nrow(vs_last %>% distinct(anon_id, pat_enc_csn_id_coded, inpatient_data_id_coded))\n",
    "nrow(vs_last %>% distinct(pat_enc_csn_id_coded)) # 44258"
   ]
  },
  {
   "cell_type": "code",
   "execution_count": 74,
   "metadata": {},
   "outputs": [],
   "source": [
    "# check cohortID not in vitals as cohortIDs were derived before getting vitals\n",
    "# nrow(cohort %>% filter(!anon_id %in% vs1st$anon_id))"
   ]
  },
  {
   "cell_type": "code",
   "execution_count": 96,
   "metadata": {},
   "outputs": [
    {
     "data": {
      "text/html": [
       "<style>\n",
       ".list-inline {list-style: none; margin:0; padding: 0}\n",
       ".list-inline>li {display: inline-block}\n",
       ".list-inline>li:not(:last-child)::after {content: \"\\00b7\"; padding: 0 .5ex}\n",
       "</style>\n",
       "<ol class=list-inline><li>'anon_id'</li><li>'pat_enc_csn_id_coded'</li><li>'inpatient_data_id_coded'</li></ol>\n"
      ],
      "text/latex": [
       "\\begin{enumerate*}\n",
       "\\item 'anon\\_id'\n",
       "\\item 'pat\\_enc\\_csn\\_id\\_coded'\n",
       "\\item 'inpatient\\_data\\_id\\_coded'\n",
       "\\end{enumerate*}\n"
      ],
      "text/markdown": [
       "1. 'anon_id'\n",
       "2. 'pat_enc_csn_id_coded'\n",
       "3. 'inpatient_data_id_coded'\n",
       "\n",
       "\n"
      ],
      "text/plain": [
       "[1] \"anon_id\"                 \"pat_enc_csn_id_coded\"   \n",
       "[3] \"inpatient_data_id_coded\""
      ]
     },
     "metadata": {},
     "output_type": "display_data"
    },
    {
     "data": {
      "text/html": [
       "<style>\n",
       ".list-inline {list-style: none; margin:0; padding: 0}\n",
       ".list-inline>li {display: inline-block}\n",
       ".list-inline>li:not(:last-child)::after {content: \"\\00b7\"; padding: 0 .5ex}\n",
       "</style>\n",
       "<ol class=list-inline><li>'anon_id'</li><li>'pat_enc_csn_id_coded'</li><li>'inpatient_data_id_coded'</li><li>'features'</li><li>'first_val'</li></ol>\n"
      ],
      "text/latex": [
       "\\begin{enumerate*}\n",
       "\\item 'anon\\_id'\n",
       "\\item 'pat\\_enc\\_csn\\_id\\_coded'\n",
       "\\item 'inpatient\\_data\\_id\\_coded'\n",
       "\\item 'features'\n",
       "\\item 'first\\_val'\n",
       "\\end{enumerate*}\n"
      ],
      "text/markdown": [
       "1. 'anon_id'\n",
       "2. 'pat_enc_csn_id_coded'\n",
       "3. 'inpatient_data_id_coded'\n",
       "4. 'features'\n",
       "5. 'first_val'\n",
       "\n",
       "\n"
      ],
      "text/plain": [
       "[1] \"anon_id\"                 \"pat_enc_csn_id_coded\"   \n",
       "[3] \"inpatient_data_id_coded\" \"features\"               \n",
       "[5] \"first_val\"              "
      ]
     },
     "metadata": {},
     "output_type": "display_data"
    },
    {
     "data": {
      "text/html": [
       "<style>\n",
       ".list-inline {list-style: none; margin:0; padding: 0}\n",
       ".list-inline>li {display: inline-block}\n",
       ".list-inline>li:not(:last-child)::after {content: \"\\00b7\"; padding: 0 .5ex}\n",
       "</style>\n",
       "<ol class=list-inline><li>'anon_id'</li><li>'pat_enc_csn_id_coded'</li><li>'inpatient_data_id_coded'</li><li>'features'</li><li>'last_val'</li></ol>\n"
      ],
      "text/latex": [
       "\\begin{enumerate*}\n",
       "\\item 'anon\\_id'\n",
       "\\item 'pat\\_enc\\_csn\\_id\\_coded'\n",
       "\\item 'inpatient\\_data\\_id\\_coded'\n",
       "\\item 'features'\n",
       "\\item 'last\\_val'\n",
       "\\end{enumerate*}\n"
      ],
      "text/markdown": [
       "1. 'anon_id'\n",
       "2. 'pat_enc_csn_id_coded'\n",
       "3. 'inpatient_data_id_coded'\n",
       "4. 'features'\n",
       "5. 'last_val'\n",
       "\n",
       "\n"
      ],
      "text/plain": [
       "[1] \"anon_id\"                 \"pat_enc_csn_id_coded\"   \n",
       "[3] \"inpatient_data_id_coded\" \"features\"               \n",
       "[5] \"last_val\"               "
      ]
     },
     "metadata": {},
     "output_type": "display_data"
    },
    {
     "data": {
      "text/html": [
       "<style>\n",
       ".list-inline {list-style: none; margin:0; padding: 0}\n",
       ".list-inline>li {display: inline-block}\n",
       ".list-inline>li:not(:last-child)::after {content: \"\\00b7\"; padding: 0 .5ex}\n",
       "</style>\n",
       "<ol class=list-inline><li>'anon_id'</li><li>'pat_enc_csn_id_coded'</li><li>'inpatient_data_id_coded'</li><li>'template'</li><li>'features'</li><li>'units'</li><li>'recorded_time'</li><li>'values'</li><li>'feature_type'</li></ol>\n"
      ],
      "text/latex": [
       "\\begin{enumerate*}\n",
       "\\item 'anon\\_id'\n",
       "\\item 'pat\\_enc\\_csn\\_id\\_coded'\n",
       "\\item 'inpatient\\_data\\_id\\_coded'\n",
       "\\item 'template'\n",
       "\\item 'features'\n",
       "\\item 'units'\n",
       "\\item 'recorded\\_time'\n",
       "\\item 'values'\n",
       "\\item 'feature\\_type'\n",
       "\\end{enumerate*}\n"
      ],
      "text/markdown": [
       "1. 'anon_id'\n",
       "2. 'pat_enc_csn_id_coded'\n",
       "3. 'inpatient_data_id_coded'\n",
       "4. 'template'\n",
       "5. 'features'\n",
       "6. 'units'\n",
       "7. 'recorded_time'\n",
       "8. 'values'\n",
       "9. 'feature_type'\n",
       "\n",
       "\n"
      ],
      "text/plain": [
       "[1] \"anon_id\"                 \"pat_enc_csn_id_coded\"   \n",
       "[3] \"inpatient_data_id_coded\" \"template\"               \n",
       "[5] \"features\"                \"units\"                  \n",
       "[7] \"recorded_time\"           \"values\"                 \n",
       "[9] \"feature_type\"           "
      ]
     },
     "metadata": {},
     "output_type": "display_data"
    },
    {
     "data": {
      "text/html": [
       "45613"
      ],
      "text/latex": [
       "45613"
      ],
      "text/markdown": [
       "45613"
      ],
      "text/plain": [
       "[1] 45613"
      ]
     },
     "metadata": {},
     "output_type": "display_data"
    },
    {
     "data": {
      "text/html": [
       "45613"
      ],
      "text/latex": [
       "45613"
      ],
      "text/markdown": [
       "45613"
      ],
      "text/plain": [
       "[1] 45613"
      ]
     },
     "metadata": {},
     "output_type": "display_data"
    },
    {
     "data": {
      "text/html": [
       "44258"
      ],
      "text/latex": [
       "44258"
      ],
      "text/markdown": [
       "44258"
      ],
      "text/plain": [
       "[1] 44258"
      ]
     },
     "metadata": {},
     "output_type": "display_data"
    },
    {
     "data": {
      "text/html": [
       "1011260"
      ],
      "text/latex": [
       "1011260"
      ],
      "text/markdown": [
       "1011260"
      ],
      "text/plain": [
       "[1] 1011260"
      ]
     },
     "metadata": {},
     "output_type": "display_data"
    }
   ],
   "source": [
    "colnames(cohort1vs); colnames(vs1st); colnames(vs_last); colnames(cohort_vitals)\n",
    "nrow(vs1st %>% distinct(pat_enc_csn_id_coded)); nrow(vs_last %>% distinct(pat_enc_csn_id_coded))\n",
    "nrow(cohort1vs)\n",
    "nrow(cohort_vitals)"
   ]
  },
  {
   "cell_type": "code",
   "execution_count": 102,
   "metadata": {},
   "outputs": [
    {
     "name": "stderr",
     "output_type": "stream",
     "text": [
      "Joining, by = c(\"anon_id\", \"pat_enc_csn_id_coded\", \"inpatient_data_id_coded\")\n",
      "\n",
      "Joining, by = c(\"anon_id\", \"pat_enc_csn_id_coded\", \"inpatient_data_id_coded\", \"features\")\n",
      "\n",
      "Joining, by = c(\"anon_id\", \"pat_enc_csn_id_coded\", \"inpatient_data_id_coded\", \"features\")\n",
      "\n"
     ]
    },
    {
     "data": {
      "text/html": [
       "987260"
      ],
      "text/latex": [
       "987260"
      ],
      "text/markdown": [
       "987260"
      ],
      "text/plain": [
       "[1] 987260"
      ]
     },
     "metadata": {},
     "output_type": "display_data"
    },
    {
     "data": {
      "text/html": [
       "<table class=\"dataframe\">\n",
       "<caption>A grouped_df: 5 × 2</caption>\n",
       "<thead>\n",
       "\t<tr><th scope=col>features</th><th scope=col>n</th></tr>\n",
       "\t<tr><th scope=col>&lt;chr&gt;</th><th scope=col>&lt;int&gt;</th></tr>\n",
       "</thead>\n",
       "<tbody>\n",
       "\t<tr><td>DBP  </td><td>206624</td></tr>\n",
       "\t<tr><td>Pulse</td><td>221005</td></tr>\n",
       "\t<tr><td>RR   </td><td>209402</td></tr>\n",
       "\t<tr><td>SBP  </td><td>206661</td></tr>\n",
       "\t<tr><td>Temp </td><td>143568</td></tr>\n",
       "</tbody>\n",
       "</table>\n"
      ],
      "text/latex": [
       "A grouped\\_df: 5 × 2\n",
       "\\begin{tabular}{ll}\n",
       " features & n\\\\\n",
       " <chr> & <int>\\\\\n",
       "\\hline\n",
       "\t DBP   & 206624\\\\\n",
       "\t Pulse & 221005\\\\\n",
       "\t RR    & 209402\\\\\n",
       "\t SBP   & 206661\\\\\n",
       "\t Temp  & 143568\\\\\n",
       "\\end{tabular}\n"
      ],
      "text/markdown": [
       "\n",
       "A grouped_df: 5 × 2\n",
       "\n",
       "| features &lt;chr&gt; | n &lt;int&gt; |\n",
       "|---|---|\n",
       "| DBP   | 206624 |\n",
       "| Pulse | 221005 |\n",
       "| RR    | 209402 |\n",
       "| SBP   | 206661 |\n",
       "| Temp  | 143568 |\n",
       "\n"
      ],
      "text/plain": [
       "  features n     \n",
       "1 DBP      206624\n",
       "2 Pulse    221005\n",
       "3 RR       209402\n",
       "4 SBP      206661\n",
       "5 Temp     143568"
      ]
     },
     "metadata": {},
     "output_type": "display_data"
    }
   ],
   "source": [
    "# join the updated cohort (with a complete set of VS), first, last, and the rest of values for vitals\n",
    "coh3_vitals <- left_join(cohort1vs, vs1st) %>% left_join(vs_last) %>% left_join(cohort_vitals) %>%\n",
    "                select(anon_id, pat_enc_csn_id_coded, inpatient_data_id_coded, \n",
    "                       features, first_val, last_val, values, feature_type)\n",
    "nrow(coh3_vitals)\n",
    "coh3_vitals %>% group_by(features) %>% count()"
   ]
  },
  {
   "cell_type": "code",
   "execution_count": 103,
   "metadata": {},
   "outputs": [
    {
     "data": {
      "text/html": [
       "<table class=\"dataframe\">\n",
       "<caption>A grouped_df: 1 × 8</caption>\n",
       "<thead>\n",
       "\t<tr><th scope=col>anon_id</th><th scope=col>pat_enc_csn_id_coded</th><th scope=col>inpatient_data_id_coded</th><th scope=col>features</th><th scope=col>first_val</th><th scope=col>last_val</th><th scope=col>values</th><th scope=col>feature_type</th></tr>\n",
       "\t<tr><th scope=col>&lt;chr&gt;</th><th scope=col>&lt;dbl&gt;</th><th scope=col>&lt;int&gt;</th><th scope=col>&lt;chr&gt;</th><th scope=col>&lt;dbl&gt;</th><th scope=col>&lt;dbl&gt;</th><th scope=col>&lt;dbl&gt;</th><th scope=col>&lt;chr&gt;</th></tr>\n",
       "</thead>\n",
       "<tbody>\n",
       "\t<tr><td>JC29f8ad2</td><td>131274729058</td><td>40679773</td><td>DBP</td><td>74</td><td>62</td><td>74</td><td>vitals</td></tr>\n",
       "</tbody>\n",
       "</table>\n"
      ],
      "text/latex": [
       "A grouped\\_df: 1 × 8\n",
       "\\begin{tabular}{llllllll}\n",
       " anon\\_id & pat\\_enc\\_csn\\_id\\_coded & inpatient\\_data\\_id\\_coded & features & first\\_val & last\\_val & values & feature\\_type\\\\\n",
       " <chr> & <dbl> & <int> & <chr> & <dbl> & <dbl> & <dbl> & <chr>\\\\\n",
       "\\hline\n",
       "\t JC29f8ad2 & 131274729058 & 40679773 & DBP & 74 & 62 & 74 & vitals\\\\\n",
       "\\end{tabular}\n"
      ],
      "text/markdown": [
       "\n",
       "A grouped_df: 1 × 8\n",
       "\n",
       "| anon_id &lt;chr&gt; | pat_enc_csn_id_coded &lt;dbl&gt; | inpatient_data_id_coded &lt;int&gt; | features &lt;chr&gt; | first_val &lt;dbl&gt; | last_val &lt;dbl&gt; | values &lt;dbl&gt; | feature_type &lt;chr&gt; |\n",
       "|---|---|---|---|---|---|---|---|\n",
       "| JC29f8ad2 | 131274729058 | 40679773 | DBP | 74 | 62 | 74 | vitals |\n",
       "\n"
      ],
      "text/plain": [
       "  anon_id   pat_enc_csn_id_coded inpatient_data_id_coded features first_val\n",
       "1 JC29f8ad2 131274729058         40679773                DBP      74       \n",
       "  last_val values feature_type\n",
       "1 62       74     vitals      "
      ]
     },
     "metadata": {},
     "output_type": "display_data"
    }
   ],
   "source": [
    "head(coh3_vitals, n=1)"
   ]
  },
  {
   "cell_type": "code",
   "execution_count": 104,
   "metadata": {},
   "outputs": [
    {
     "name": "stderr",
     "output_type": "stream",
     "text": [
      "`summarise()` has grouped output by 'anon_id', 'pat_enc_csn_id_coded', 'features', 'first_val'. You can override using the `.groups` argument.\n",
      "\n"
     ]
    }
   ],
   "source": [
    "# get summary stats, including differences for first and last (0 if 1 value), min and max\n",
    "# all the NA were actually already dropped, so na.rm here is redundant\n",
    "vsum <- coh3_vitals %>% \n",
    "            group_by(anon_id, pat_enc_csn_id_coded, features, first_val, last_val) %>%\n",
    "            summarise(count = n(), meanx = mean(values, na.rm=TRUE), medianx = median(values, na.rm=TRUE), \n",
    "                      minx = min(values, na.rm=TRUE), maxx = max(values, na.rm=TRUE), sdx = sd(values, na.rm=TRUE),\n",
    "                      madx = mad(values, na.rm=TRUE), IQRx = IQR(values, na.rm=TRUE)) %>%\n",
    "            mutate(mmdiff = round(maxx - minx, 1), fldiff = round(last_val - first_val, 1)) #"
   ]
  },
  {
   "cell_type": "code",
   "execution_count": 106,
   "metadata": {},
   "outputs": [
    {
     "data": {
      "text/html": [
       "<table class=\"dataframe\">\n",
       "<caption>A grouped_df: 1 × 15</caption>\n",
       "<thead>\n",
       "\t<tr><th scope=col>anon_id</th><th scope=col>pat_enc_csn_id_coded</th><th scope=col>features</th><th scope=col>first_val</th><th scope=col>last_val</th><th scope=col>count</th><th scope=col>meanx</th><th scope=col>medianx</th><th scope=col>minx</th><th scope=col>maxx</th><th scope=col>sdx</th><th scope=col>madx</th><th scope=col>IQRx</th><th scope=col>mmdiff</th><th scope=col>fldiff</th></tr>\n",
       "\t<tr><th scope=col>&lt;chr&gt;</th><th scope=col>&lt;dbl&gt;</th><th scope=col>&lt;chr&gt;</th><th scope=col>&lt;dbl&gt;</th><th scope=col>&lt;dbl&gt;</th><th scope=col>&lt;int&gt;</th><th scope=col>&lt;dbl&gt;</th><th scope=col>&lt;dbl&gt;</th><th scope=col>&lt;dbl&gt;</th><th scope=col>&lt;dbl&gt;</th><th scope=col>&lt;dbl&gt;</th><th scope=col>&lt;dbl&gt;</th><th scope=col>&lt;dbl&gt;</th><th scope=col>&lt;dbl&gt;</th><th scope=col>&lt;dbl&gt;</th></tr>\n",
       "</thead>\n",
       "<tbody>\n",
       "\t<tr><td>JC29f8ad2</td><td>131274729058</td><td>DBP</td><td>74</td><td>62</td><td>2</td><td>68</td><td>68</td><td>62</td><td>74</td><td>8.485281</td><td>8.8956</td><td>6</td><td>12</td><td>-12</td></tr>\n",
       "</tbody>\n",
       "</table>\n"
      ],
      "text/latex": [
       "A grouped\\_df: 1 × 15\n",
       "\\begin{tabular}{lllllllllllllll}\n",
       " anon\\_id & pat\\_enc\\_csn\\_id\\_coded & features & first\\_val & last\\_val & count & meanx & medianx & minx & maxx & sdx & madx & IQRx & mmdiff & fldiff\\\\\n",
       " <chr> & <dbl> & <chr> & <dbl> & <dbl> & <int> & <dbl> & <dbl> & <dbl> & <dbl> & <dbl> & <dbl> & <dbl> & <dbl> & <dbl>\\\\\n",
       "\\hline\n",
       "\t JC29f8ad2 & 131274729058 & DBP & 74 & 62 & 2 & 68 & 68 & 62 & 74 & 8.485281 & 8.8956 & 6 & 12 & -12\\\\\n",
       "\\end{tabular}\n"
      ],
      "text/markdown": [
       "\n",
       "A grouped_df: 1 × 15\n",
       "\n",
       "| anon_id &lt;chr&gt; | pat_enc_csn_id_coded &lt;dbl&gt; | features &lt;chr&gt; | first_val &lt;dbl&gt; | last_val &lt;dbl&gt; | count &lt;int&gt; | meanx &lt;dbl&gt; | medianx &lt;dbl&gt; | minx &lt;dbl&gt; | maxx &lt;dbl&gt; | sdx &lt;dbl&gt; | madx &lt;dbl&gt; | IQRx &lt;dbl&gt; | mmdiff &lt;dbl&gt; | fldiff &lt;dbl&gt; |\n",
       "|---|---|---|---|---|---|---|---|---|---|---|---|---|---|---|\n",
       "| JC29f8ad2 | 131274729058 | DBP | 74 | 62 | 2 | 68 | 68 | 62 | 74 | 8.485281 | 8.8956 | 6 | 12 | -12 |\n",
       "\n"
      ],
      "text/plain": [
       "  anon_id   pat_enc_csn_id_coded features first_val last_val count meanx\n",
       "1 JC29f8ad2 131274729058         DBP      74        62       2     68   \n",
       "  medianx minx maxx sdx      madx   IQRx mmdiff fldiff\n",
       "1 68      62   74   8.485281 8.8956 6    12     -12   "
      ]
     },
     "metadata": {},
     "output_type": "display_data"
    }
   ],
   "source": [
    "head(vsum, n=1)"
   ]
  },
  {
   "cell_type": "code",
   "execution_count": 107,
   "metadata": {},
   "outputs": [
    {
     "data": {
      "text/html": [
       "221290"
      ],
      "text/latex": [
       "221290"
      ],
      "text/markdown": [
       "221290"
      ],
      "text/plain": [
       "[1] 221290"
      ]
     },
     "metadata": {},
     "output_type": "display_data"
    },
    {
     "data": {
      "text/html": [
       "<style>\n",
       ".list-inline {list-style: none; margin:0; padding: 0}\n",
       ".list-inline>li {display: inline-block}\n",
       ".list-inline>li:not(:last-child)::after {content: \"\\00b7\"; padding: 0 .5ex}\n",
       "</style>\n",
       "<ol class=list-inline><li>'anon_id'</li><li>'pat_enc_csn_id_coded'</li><li>'features'</li><li>'first_val'</li><li>'last_val'</li><li>'count'</li><li>'meanx'</li><li>'medianx'</li><li>'minx'</li><li>'maxx'</li><li>'sdx'</li><li>'madx'</li><li>'IQRx'</li><li>'mmdiff'</li><li>'fldiff'</li></ol>\n"
      ],
      "text/latex": [
       "\\begin{enumerate*}\n",
       "\\item 'anon\\_id'\n",
       "\\item 'pat\\_enc\\_csn\\_id\\_coded'\n",
       "\\item 'features'\n",
       "\\item 'first\\_val'\n",
       "\\item 'last\\_val'\n",
       "\\item 'count'\n",
       "\\item 'meanx'\n",
       "\\item 'medianx'\n",
       "\\item 'minx'\n",
       "\\item 'maxx'\n",
       "\\item 'sdx'\n",
       "\\item 'madx'\n",
       "\\item 'IQRx'\n",
       "\\item 'mmdiff'\n",
       "\\item 'fldiff'\n",
       "\\end{enumerate*}\n"
      ],
      "text/markdown": [
       "1. 'anon_id'\n",
       "2. 'pat_enc_csn_id_coded'\n",
       "3. 'features'\n",
       "4. 'first_val'\n",
       "5. 'last_val'\n",
       "6. 'count'\n",
       "7. 'meanx'\n",
       "8. 'medianx'\n",
       "9. 'minx'\n",
       "10. 'maxx'\n",
       "11. 'sdx'\n",
       "12. 'madx'\n",
       "13. 'IQRx'\n",
       "14. 'mmdiff'\n",
       "15. 'fldiff'\n",
       "\n",
       "\n"
      ],
      "text/plain": [
       " [1] \"anon_id\"              \"pat_enc_csn_id_coded\" \"features\"            \n",
       " [4] \"first_val\"            \"last_val\"             \"count\"               \n",
       " [7] \"meanx\"                \"medianx\"              \"minx\"                \n",
       "[10] \"maxx\"                 \"sdx\"                  \"madx\"                \n",
       "[13] \"IQRx\"                 \"mmdiff\"               \"fldiff\"              "
      ]
     },
     "metadata": {},
     "output_type": "display_data"
    },
    {
     "data": {
      "text/plain": [
       "   anon_id          pat_enc_csn_id_coded   features           first_val     \n",
       " Length:221290      Min.   :1.311e+11    Length:221290      Min.   :  6.00  \n",
       " Class :character   1st Qu.:1.312e+11    Class :character   1st Qu.: 36.80  \n",
       " Mode  :character   Median :1.312e+11    Mode  :character   Median : 71.00  \n",
       "                    Mean   :1.312e+11                       Mean   : 71.97  \n",
       "                    3rd Qu.:1.313e+11                       3rd Qu.:103.00  \n",
       "                    Max.   :1.313e+11                       Max.   :419.00  \n",
       "                                                                            \n",
       "    last_val          count             meanx           medianx      \n",
       " Min.   :  5.00   Min.   :  1.000   Min.   :  8.00   Min.   :  8.00  \n",
       " 1st Qu.: 36.80   1st Qu.:  2.000   1st Qu.: 36.75   1st Qu.: 36.80  \n",
       " Median : 68.00   Median :  3.000   Median : 70.20   Median : 70.00  \n",
       " Mean   : 69.02   Mean   :  4.461   Mean   : 70.15   Mean   : 69.93  \n",
       " 3rd Qu.: 98.00   3rd Qu.:  5.000   3rd Qu.: 99.67   3rd Qu.: 99.00  \n",
       " Max.   :257.00   Max.   :170.000   Max.   :281.50   Max.   :281.50  \n",
       "                                                                     \n",
       "      minx             maxx             sdx              madx          \n",
       " Min.   :  5.00   Min.   :  8.00   Min.   :  0.00   Min.   :  0.00000  \n",
       " 1st Qu.: 36.00   1st Qu.: 37.00   1st Qu.:  0.71   1st Qu.:  0.07413  \n",
       " Median : 62.00   Median : 77.00   Median :  4.00   Median :  1.48260  \n",
       " Mean   : 64.56   Mean   : 76.41   Mean   :  5.91   Mean   :  4.20745  \n",
       " 3rd Qu.: 92.00   3rd Qu.:110.00   3rd Qu.:  8.86   3rd Qu.:  5.93040  \n",
       " Max.   :230.00   Max.   :419.00   Max.   :194.45   Max.   :203.85750  \n",
       "                                   NA's   :32189                       \n",
       "      IQRx            mmdiff           fldiff        \n",
       " Min.   :  0.00   Min.   :  0.00   Min.   :-275.000  \n",
       " 1st Qu.:  0.15   1st Qu.:  0.30   1st Qu.:  -6.000  \n",
       " Median :  2.25   Median :  5.00   Median :   0.000  \n",
       " Mean   :  4.93   Mean   : 11.84   Mean   :  -2.952  \n",
       " 3rd Qu.:  7.25   3rd Qu.: 18.00   3rd Qu.:   0.100  \n",
       " Max.   :137.50   Max.   :275.00   Max.   : 152.000  \n",
       "                                                     "
      ]
     },
     "metadata": {},
     "output_type": "display_data"
    },
    {
     "data": {
      "text/plain": [
       "\n",
       "  DBP Pulse    RR   SBP  Temp \n",
       "44258 44258 44258 44258 44258 "
      ]
     },
     "metadata": {},
     "output_type": "display_data"
    }
   ],
   "source": [
    "nrow(vsum)\n",
    "colnames(vsum)\n",
    "summary(vsum)\n",
    "table(vsum$features)"
   ]
  },
  {
   "cell_type": "code",
   "execution_count": 108,
   "metadata": {},
   "outputs": [],
   "source": [
    "# replace na of sdx (due to denominator of n-1) as 0\n",
    "# wide to long on multiple cols to wide\n",
    "# remove rows with any na --> only complete cases of 1 set of vital signs\n",
    "vsum_wide <- vsum %>% mutate(sdx = ifelse(is.na(sdx), 0, sdx)) %>%\n",
    "                gather(variable, value, first_val:fldiff) %>%\n",
    "                unite(temp, features, variable) %>%\n",
    "                spread(temp, value) %>% drop_na()"
   ]
  },
  {
   "cell_type": "code",
   "execution_count": 111,
   "metadata": {},
   "outputs": [
    {
     "data": {
      "text/html": [
       "44258"
      ],
      "text/latex": [
       "44258"
      ],
      "text/markdown": [
       "44258"
      ],
      "text/plain": [
       "[1] 44258"
      ]
     },
     "metadata": {},
     "output_type": "display_data"
    },
    {
     "name": "stderr",
     "output_type": "stream",
     "text": [
      "Adding missing grouping variables: `anon_id`\n",
      "\n"
     ]
    },
    {
     "data": {
      "text/html": [
       "44258"
      ],
      "text/latex": [
       "44258"
      ],
      "text/markdown": [
       "44258"
      ],
      "text/plain": [
       "[1] 44258"
      ]
     },
     "metadata": {},
     "output_type": "display_data"
    },
    {
     "data": {
      "text/html": [
       "<style>\n",
       ".list-inline {list-style: none; margin:0; padding: 0}\n",
       ".list-inline>li {display: inline-block}\n",
       ".list-inline>li:not(:last-child)::after {content: \"\\00b7\"; padding: 0 .5ex}\n",
       "</style>\n",
       "<ol class=list-inline><li>'anon_id'</li><li>'pat_enc_csn_id_coded'</li><li>'DBP_count'</li><li>'DBP_first_val'</li><li>'DBP_fldiff'</li><li>'DBP_IQRx'</li><li>'DBP_last_val'</li><li>'DBP_madx'</li><li>'DBP_maxx'</li><li>'DBP_meanx'</li><li>'DBP_medianx'</li><li>'DBP_minx'</li><li>'DBP_mmdiff'</li><li>'DBP_sdx'</li><li>'Pulse_count'</li><li>'Pulse_first_val'</li><li>'Pulse_fldiff'</li><li>'Pulse_IQRx'</li><li>'Pulse_last_val'</li><li>'Pulse_madx'</li><li>'Pulse_maxx'</li><li>'Pulse_meanx'</li><li>'Pulse_medianx'</li><li>'Pulse_minx'</li><li>'Pulse_mmdiff'</li><li>'Pulse_sdx'</li><li>'RR_count'</li><li>'RR_first_val'</li><li>'RR_fldiff'</li><li>'RR_IQRx'</li><li>'RR_last_val'</li><li>'RR_madx'</li><li>'RR_maxx'</li><li>'RR_meanx'</li><li>'RR_medianx'</li><li>'RR_minx'</li><li>'RR_mmdiff'</li><li>'RR_sdx'</li><li>'SBP_count'</li><li>'SBP_first_val'</li><li>'SBP_fldiff'</li><li>'SBP_IQRx'</li><li>'SBP_last_val'</li><li>'SBP_madx'</li><li>'SBP_maxx'</li><li>'SBP_meanx'</li><li>'SBP_medianx'</li><li>'SBP_minx'</li><li>'SBP_mmdiff'</li><li>'SBP_sdx'</li><li>'Temp_count'</li><li>'Temp_first_val'</li><li>'Temp_fldiff'</li><li>'Temp_IQRx'</li><li>'Temp_last_val'</li><li>'Temp_madx'</li><li>'Temp_maxx'</li><li>'Temp_meanx'</li><li>'Temp_medianx'</li><li>'Temp_minx'</li><li>'Temp_mmdiff'</li><li>'Temp_sdx'</li></ol>\n"
      ],
      "text/latex": [
       "\\begin{enumerate*}\n",
       "\\item 'anon\\_id'\n",
       "\\item 'pat\\_enc\\_csn\\_id\\_coded'\n",
       "\\item 'DBP\\_count'\n",
       "\\item 'DBP\\_first\\_val'\n",
       "\\item 'DBP\\_fldiff'\n",
       "\\item 'DBP\\_IQRx'\n",
       "\\item 'DBP\\_last\\_val'\n",
       "\\item 'DBP\\_madx'\n",
       "\\item 'DBP\\_maxx'\n",
       "\\item 'DBP\\_meanx'\n",
       "\\item 'DBP\\_medianx'\n",
       "\\item 'DBP\\_minx'\n",
       "\\item 'DBP\\_mmdiff'\n",
       "\\item 'DBP\\_sdx'\n",
       "\\item 'Pulse\\_count'\n",
       "\\item 'Pulse\\_first\\_val'\n",
       "\\item 'Pulse\\_fldiff'\n",
       "\\item 'Pulse\\_IQRx'\n",
       "\\item 'Pulse\\_last\\_val'\n",
       "\\item 'Pulse\\_madx'\n",
       "\\item 'Pulse\\_maxx'\n",
       "\\item 'Pulse\\_meanx'\n",
       "\\item 'Pulse\\_medianx'\n",
       "\\item 'Pulse\\_minx'\n",
       "\\item 'Pulse\\_mmdiff'\n",
       "\\item 'Pulse\\_sdx'\n",
       "\\item 'RR\\_count'\n",
       "\\item 'RR\\_first\\_val'\n",
       "\\item 'RR\\_fldiff'\n",
       "\\item 'RR\\_IQRx'\n",
       "\\item 'RR\\_last\\_val'\n",
       "\\item 'RR\\_madx'\n",
       "\\item 'RR\\_maxx'\n",
       "\\item 'RR\\_meanx'\n",
       "\\item 'RR\\_medianx'\n",
       "\\item 'RR\\_minx'\n",
       "\\item 'RR\\_mmdiff'\n",
       "\\item 'RR\\_sdx'\n",
       "\\item 'SBP\\_count'\n",
       "\\item 'SBP\\_first\\_val'\n",
       "\\item 'SBP\\_fldiff'\n",
       "\\item 'SBP\\_IQRx'\n",
       "\\item 'SBP\\_last\\_val'\n",
       "\\item 'SBP\\_madx'\n",
       "\\item 'SBP\\_maxx'\n",
       "\\item 'SBP\\_meanx'\n",
       "\\item 'SBP\\_medianx'\n",
       "\\item 'SBP\\_minx'\n",
       "\\item 'SBP\\_mmdiff'\n",
       "\\item 'SBP\\_sdx'\n",
       "\\item 'Temp\\_count'\n",
       "\\item 'Temp\\_first\\_val'\n",
       "\\item 'Temp\\_fldiff'\n",
       "\\item 'Temp\\_IQRx'\n",
       "\\item 'Temp\\_last\\_val'\n",
       "\\item 'Temp\\_madx'\n",
       "\\item 'Temp\\_maxx'\n",
       "\\item 'Temp\\_meanx'\n",
       "\\item 'Temp\\_medianx'\n",
       "\\item 'Temp\\_minx'\n",
       "\\item 'Temp\\_mmdiff'\n",
       "\\item 'Temp\\_sdx'\n",
       "\\end{enumerate*}\n"
      ],
      "text/markdown": [
       "1. 'anon_id'\n",
       "2. 'pat_enc_csn_id_coded'\n",
       "3. 'DBP_count'\n",
       "4. 'DBP_first_val'\n",
       "5. 'DBP_fldiff'\n",
       "6. 'DBP_IQRx'\n",
       "7. 'DBP_last_val'\n",
       "8. 'DBP_madx'\n",
       "9. 'DBP_maxx'\n",
       "10. 'DBP_meanx'\n",
       "11. 'DBP_medianx'\n",
       "12. 'DBP_minx'\n",
       "13. 'DBP_mmdiff'\n",
       "14. 'DBP_sdx'\n",
       "15. 'Pulse_count'\n",
       "16. 'Pulse_first_val'\n",
       "17. 'Pulse_fldiff'\n",
       "18. 'Pulse_IQRx'\n",
       "19. 'Pulse_last_val'\n",
       "20. 'Pulse_madx'\n",
       "21. 'Pulse_maxx'\n",
       "22. 'Pulse_meanx'\n",
       "23. 'Pulse_medianx'\n",
       "24. 'Pulse_minx'\n",
       "25. 'Pulse_mmdiff'\n",
       "26. 'Pulse_sdx'\n",
       "27. 'RR_count'\n",
       "28. 'RR_first_val'\n",
       "29. 'RR_fldiff'\n",
       "30. 'RR_IQRx'\n",
       "31. 'RR_last_val'\n",
       "32. 'RR_madx'\n",
       "33. 'RR_maxx'\n",
       "34. 'RR_meanx'\n",
       "35. 'RR_medianx'\n",
       "36. 'RR_minx'\n",
       "37. 'RR_mmdiff'\n",
       "38. 'RR_sdx'\n",
       "39. 'SBP_count'\n",
       "40. 'SBP_first_val'\n",
       "41. 'SBP_fldiff'\n",
       "42. 'SBP_IQRx'\n",
       "43. 'SBP_last_val'\n",
       "44. 'SBP_madx'\n",
       "45. 'SBP_maxx'\n",
       "46. 'SBP_meanx'\n",
       "47. 'SBP_medianx'\n",
       "48. 'SBP_minx'\n",
       "49. 'SBP_mmdiff'\n",
       "50. 'SBP_sdx'\n",
       "51. 'Temp_count'\n",
       "52. 'Temp_first_val'\n",
       "53. 'Temp_fldiff'\n",
       "54. 'Temp_IQRx'\n",
       "55. 'Temp_last_val'\n",
       "56. 'Temp_madx'\n",
       "57. 'Temp_maxx'\n",
       "58. 'Temp_meanx'\n",
       "59. 'Temp_medianx'\n",
       "60. 'Temp_minx'\n",
       "61. 'Temp_mmdiff'\n",
       "62. 'Temp_sdx'\n",
       "\n",
       "\n"
      ],
      "text/plain": [
       " [1] \"anon_id\"              \"pat_enc_csn_id_coded\" \"DBP_count\"           \n",
       " [4] \"DBP_first_val\"        \"DBP_fldiff\"           \"DBP_IQRx\"            \n",
       " [7] \"DBP_last_val\"         \"DBP_madx\"             \"DBP_maxx\"            \n",
       "[10] \"DBP_meanx\"            \"DBP_medianx\"          \"DBP_minx\"            \n",
       "[13] \"DBP_mmdiff\"           \"DBP_sdx\"              \"Pulse_count\"         \n",
       "[16] \"Pulse_first_val\"      \"Pulse_fldiff\"         \"Pulse_IQRx\"          \n",
       "[19] \"Pulse_last_val\"       \"Pulse_madx\"           \"Pulse_maxx\"          \n",
       "[22] \"Pulse_meanx\"          \"Pulse_medianx\"        \"Pulse_minx\"          \n",
       "[25] \"Pulse_mmdiff\"         \"Pulse_sdx\"            \"RR_count\"            \n",
       "[28] \"RR_first_val\"         \"RR_fldiff\"            \"RR_IQRx\"             \n",
       "[31] \"RR_last_val\"          \"RR_madx\"              \"RR_maxx\"             \n",
       "[34] \"RR_meanx\"             \"RR_medianx\"           \"RR_minx\"             \n",
       "[37] \"RR_mmdiff\"            \"RR_sdx\"               \"SBP_count\"           \n",
       "[40] \"SBP_first_val\"        \"SBP_fldiff\"           \"SBP_IQRx\"            \n",
       "[43] \"SBP_last_val\"         \"SBP_madx\"             \"SBP_maxx\"            \n",
       "[46] \"SBP_meanx\"            \"SBP_medianx\"          \"SBP_minx\"            \n",
       "[49] \"SBP_mmdiff\"           \"SBP_sdx\"              \"Temp_count\"          \n",
       "[52] \"Temp_first_val\"       \"Temp_fldiff\"          \"Temp_IQRx\"           \n",
       "[55] \"Temp_last_val\"        \"Temp_madx\"            \"Temp_maxx\"           \n",
       "[58] \"Temp_meanx\"           \"Temp_medianx\"         \"Temp_minx\"           \n",
       "[61] \"Temp_mmdiff\"          \"Temp_sdx\"            "
      ]
     },
     "metadata": {},
     "output_type": "display_data"
    },
    {
     "data": {
      "text/plain": [
       "   anon_id          pat_enc_csn_id_coded   DBP_count      DBP_first_val   \n",
       " Length:44258       Min.   :1.311e+11    Min.   : 1.000   Min.   : 13.00  \n",
       " Class :character   1st Qu.:1.312e+11    1st Qu.: 2.000   1st Qu.: 67.00  \n",
       " Mode  :character   Median :1.312e+11    Median : 3.000   Median : 78.00  \n",
       "                    Mean   :1.312e+11    Mean   : 4.669   Mean   : 78.59  \n",
       "                    3rd Qu.:1.313e+11    3rd Qu.: 6.000   3rd Qu.: 89.00  \n",
       "                    Max.   :1.313e+11    Max.   :58.000   Max.   :219.00  \n",
       "   DBP_fldiff          DBP_IQRx        DBP_last_val       DBP_madx     \n",
       " Min.   :-146.000   Min.   :  0.000   Min.   : 16.00   Min.   : 0.000  \n",
       " 1st Qu.: -11.000   1st Qu.:  2.000   1st Qu.: 65.00   1st Qu.: 1.483  \n",
       " Median :   0.000   Median :  5.500   Median : 74.00   Median : 4.448  \n",
       " Mean   :  -3.516   Mean   :  6.879   Mean   : 75.08   Mean   : 5.935  \n",
       " 3rd Qu.:   3.000   3rd Qu.: 10.000   3rd Qu.: 85.00   3rd Qu.: 8.896  \n",
       " Max.   : 138.000   Max.   :115.750   Max.   :233.00   Max.   :83.767  \n",
       "    DBP_maxx        DBP_meanx       DBP_medianx        DBP_minx     \n",
       " Min.   : 18.00   Min.   : 18.00   Min.   : 18.00   Min.   : 10.00  \n",
       " 1st Qu.: 74.00   1st Qu.: 67.00   1st Qu.: 66.50   1st Qu.: 58.00  \n",
       " Median : 84.00   Median : 76.00   Median : 75.50   Median : 68.00  \n",
       " Mean   : 85.55   Mean   : 76.43   Mean   : 76.06   Mean   : 68.57  \n",
       " 3rd Qu.: 95.00   3rd Qu.: 85.00   3rd Qu.: 85.00   3rd Qu.: 78.00  \n",
       " Max.   :238.00   Max.   :168.50   Max.   :171.50   Max.   :156.00  \n",
       "   DBP_mmdiff        DBP_sdx        Pulse_count      Pulse_first_val \n",
       " Min.   :  0.00   Min.   : 0.000   Min.   :  1.000   Min.   : 13.00  \n",
       " 1st Qu.:  4.00   1st Qu.: 2.517   1st Qu.:  2.000   1st Qu.: 77.00  \n",
       " Median : 13.00   Median : 6.364   Median :  3.000   Median : 90.00  \n",
       " Mean   : 16.98   Mean   : 7.202   Mean   :  4.994   Mean   : 92.24  \n",
       " 3rd Qu.: 24.00   3rd Qu.:10.263   3rd Qu.:  6.000   3rd Qu.:106.00  \n",
       " Max.   :198.00   Max.   :73.681   Max.   :143.000   Max.   :273.00  \n",
       "  Pulse_fldiff        Pulse_IQRx      Pulse_last_val     Pulse_madx    \n",
       " Min.   :-169.000   Min.   :  0.000   Min.   : 18.00   Min.   : 0.000  \n",
       " 1st Qu.: -13.000   1st Qu.:  1.500   1st Qu.: 73.00   1st Qu.: 1.483  \n",
       " Median :  -4.000   Median :  4.750   Median : 85.00   Median : 3.707  \n",
       " Mean   :  -6.316   Mean   :  6.481   Mean   : 85.93   Mean   : 5.406  \n",
       " 3rd Qu.:   0.000   3rd Qu.:  9.000   3rd Qu.: 98.00   3rd Qu.: 7.413  \n",
       " Max.   : 105.000   Max.   :113.500   Max.   :200.00   Max.   :91.921  \n",
       "   Pulse_maxx      Pulse_meanx     Pulse_medianx      Pulse_minx    \n",
       " Min.   : 29.00   Min.   : 28.67   Min.   : 26.00   Min.   : 12.00  \n",
       " 1st Qu.: 81.00   1st Qu.: 75.00   1st Qu.: 74.00   1st Qu.: 68.00  \n",
       " Median : 94.00   Median : 86.95   Median : 86.50   Median : 79.00  \n",
       " Mean   : 96.68   Mean   : 88.19   Mean   : 87.75   Mean   : 80.92  \n",
       " 3rd Qu.:110.00   3rd Qu.:100.00   3rd Qu.: 99.50   3rd Qu.: 93.00  \n",
       " Max.   :300.00   Max.   :200.00   Max.   :200.00   Max.   :200.00  \n",
       "  Pulse_mmdiff      Pulse_sdx         RR_count        RR_first_val  \n",
       " Min.   :  0.00   Min.   : 0.000   Min.   :  1.000   Min.   : 6.00  \n",
       " 1st Qu.:  4.00   1st Qu.: 2.121   1st Qu.:  2.000   1st Qu.:17.00  \n",
       " Median : 12.00   Median : 5.345   Median :  3.000   Median :18.00  \n",
       " Mean   : 15.76   Mean   : 6.684   Mean   :  4.731   Mean   :19.18  \n",
       " 3rd Qu.: 22.00   3rd Qu.: 9.296   3rd Qu.:  6.000   3rd Qu.:20.00  \n",
       " Max.   :209.00   Max.   :74.246   Max.   :170.000   Max.   :60.00  \n",
       "   RR_fldiff           RR_IQRx        RR_last_val       RR_madx      \n",
       " Min.   :-42.0000   Min.   : 0.000   Min.   : 5.00   Min.   : 0.000  \n",
       " 1st Qu.: -2.0000   1st Qu.: 0.000   1st Qu.:16.00   1st Qu.: 0.000  \n",
       " Median :  0.0000   Median : 1.000   Median :18.00   Median : 1.483  \n",
       " Mean   : -0.6605   Mean   : 1.835   Mean   :18.52   Mean   : 1.492  \n",
       " 3rd Qu.:  0.0000   3rd Qu.: 2.750   3rd Qu.:20.00   3rd Qu.: 2.965  \n",
       " Max.   : 28.0000   Max.   :30.000   Max.   :60.00   Max.   :31.135  \n",
       "    RR_maxx         RR_meanx       RR_medianx       RR_minx     \n",
       " Min.   : 8.00   Min.   : 8.00   Min.   : 8.00   Min.   : 5.00  \n",
       " 1st Qu.:18.00   1st Qu.:17.00   1st Qu.:17.00   1st Qu.:16.00  \n",
       " Median :20.00   Median :18.00   Median :18.00   Median :16.00  \n",
       " Mean   :21.19   Mean   :18.81   Mean   :18.72   Mean   :16.73  \n",
       " 3rd Qu.:23.00   3rd Qu.:20.00   3rd Qu.:20.00   3rd Qu.:18.00  \n",
       " Max.   :60.00   Max.   :56.00   Max.   :56.00   Max.   :56.00  \n",
       "   RR_mmdiff          RR_sdx         SBP_count      SBP_first_val  \n",
       " Min.   : 0.000   Min.   : 0.000   Min.   : 1.000   Min.   : 37.0  \n",
       " 1st Qu.: 0.000   1st Qu.: 0.000   1st Qu.: 2.000   1st Qu.:116.0  \n",
       " Median : 2.000   Median : 1.414   Median : 3.000   Median :131.0  \n",
       " Mean   : 4.466   Mean   : 1.850   Mean   : 4.669   Mean   :132.9  \n",
       " 3rd Qu.: 7.000   3rd Qu.: 2.828   3rd Qu.: 6.000   3rd Qu.:148.0  \n",
       " Max.   :50.000   Max.   :29.698   Max.   :58.000   Max.   :419.0  \n",
       "   SBP_fldiff          SBP_IQRx        SBP_last_val      SBP_madx      \n",
       " Min.   :-275.000   Min.   :  0.000   Min.   : 41.0   Min.   :  0.000  \n",
       " 1st Qu.: -14.000   1st Qu.:  2.500   1st Qu.:113.0   1st Qu.:  1.483  \n",
       " Median :   0.000   Median :  7.500   Median :127.0   Median :  5.930  \n",
       " Mean   :  -4.253   Mean   :  9.205   Mean   :128.7   Mean   :  7.974  \n",
       " 3rd Qu.:   5.000   3rd Qu.: 13.000   3rd Qu.:142.0   3rd Qu.: 11.861  \n",
       " Max.   : 152.000   Max.   :137.500   Max.   :257.0   Max.   :203.857  \n",
       "    SBP_maxx       SBP_meanx      SBP_medianx       SBP_minx    \n",
       " Min.   : 56.0   Min.   : 53.7   Min.   : 53.0   Min.   : 33.0  \n",
       " 1st Qu.:124.0   1st Qu.:115.3   1st Qu.:115.0   1st Qu.:105.0  \n",
       " Median :139.0   Median :128.5   Median :128.0   Median :118.0  \n",
       " Mean   :141.4   Mean   :130.4   Mean   :130.2   Mean   :119.9  \n",
       " 3rd Qu.:156.0   3rd Qu.:143.2   3rd Qu.:143.5   3rd Qu.:134.0  \n",
       " Max.   :419.0   Max.   :281.5   Max.   :281.5   Max.   :230.0  \n",
       "   SBP_mmdiff        SBP_sdx          Temp_count     Temp_first_val \n",
       " Min.   :  0.00   Min.   :  0.000   Min.   : 1.000   Min.   :26.15  \n",
       " 1st Qu.:  6.00   1st Qu.:  3.464   1st Qu.: 2.000   1st Qu.:36.80  \n",
       " Median : 18.00   Median :  8.208   Median : 2.000   Median :36.90  \n",
       " Mean   : 21.54   Mean   :  9.251   Mean   : 3.244   Mean   :36.93  \n",
       " 3rd Qu.: 31.00   3rd Qu.: 13.367   3rd Qu.: 4.000   3rd Qu.:37.05  \n",
       " Max.   :275.00   Max.   :194.454   Max.   :64.000   Max.   :42.05  \n",
       "  Temp_fldiff         Temp_IQRx      Temp_last_val     Temp_madx      \n",
       " Min.   :-5.00000   Min.   :0.0000   Min.   :27.85   Min.   :0.00000  \n",
       " 1st Qu.: 0.00000   1st Qu.:0.0500   1st Qu.:36.80   1st Qu.:0.07413  \n",
       " Median : 0.00000   Median :0.1500   Median :36.95   Median :0.14826  \n",
       " Mean   :-0.01477   Mean   :0.2519   Mean   :36.92   Mean   :0.22920  \n",
       " 3rd Qu.: 0.00000   3rd Qu.:0.2500   3rd Qu.:37.00   3rd Qu.:0.29652  \n",
       " Max.   : 5.20000   Max.   :4.0250   Max.   :41.10   Max.   :2.96520  \n",
       "   Temp_maxx       Temp_meanx     Temp_medianx     Temp_minx    \n",
       " Min.   :28.00   Min.   :26.73   Min.   :26.35   Min.   :26.00  \n",
       " 1st Qu.:37.00   1st Qu.:36.75   1st Qu.:36.80   1st Qu.:36.00  \n",
       " Median :37.00   Median :36.90   Median :36.95   Median :36.80  \n",
       " Mean   :37.17   Mean   :36.93   Mean   :36.93   Mean   :36.68  \n",
       " 3rd Qu.:37.20   3rd Qu.:37.05   3rd Qu.:37.00   3rd Qu.:37.00  \n",
       " Max.   :43.40   Max.   :41.05   Max.   :41.15   Max.   :40.90  \n",
       "  Temp_mmdiff        Temp_sdx      \n",
       " Min.   :0.0000   Min.   :0.00000  \n",
       " 1st Qu.:0.1000   1st Qu.:0.07071  \n",
       " Median :0.3000   Median :0.21213  \n",
       " Mean   :0.4829   Mean   :0.25260  \n",
       " 3rd Qu.:0.5000   3rd Qu.:0.35355  \n",
       " Max.   :8.0000   Max.   :2.97714  "
      ]
     },
     "metadata": {},
     "output_type": "display_data"
    }
   ],
   "source": [
    "nrow(vsum_wide)\n",
    "nrow(vsum_wide %>% select(pat_enc_csn_id_coded) %>% distinct()) \n",
    "colnames(vsum_wide)\n",
    "summary(vsum_wide)"
   ]
  },
  {
   "cell_type": "code",
   "execution_count": 112,
   "metadata": {},
   "outputs": [],
   "source": [
    "# 44258\n",
    "write.csv(vsum_wide, file.path(featuredir, \"coh3_vitals_stats.csv\"), row.names=FALSE)"
   ]
  },
  {
   "cell_type": "code",
   "execution_count": 87,
   "metadata": {},
   "outputs": [],
   "source": []
  }
 ],
 "metadata": {
  "environment": {
   "name": "r-cpu.4-0.m71",
   "type": "gcloud",
   "uri": "gcr.io/deeplearning-platform-release/r-cpu.4-0:m71"
  },
  "kernelspec": {
   "display_name": "R",
   "language": "R",
   "name": "ir"
  },
  "language_info": {
   "codemirror_mode": "r",
   "file_extension": ".r",
   "mimetype": "text/x-r-source",
   "name": "R",
   "pygments_lexer": "r",
   "version": "4.0.3"
  },
  "toc": {
   "base_numbering": 1,
   "nav_menu": {},
   "number_sections": true,
   "sideBar": true,
   "skip_h1_title": false,
   "title_cell": "Table of Contents",
   "title_sidebar": "Contents",
   "toc_cell": false,
   "toc_position": {},
   "toc_section_display": true,
   "toc_window_display": false
  },
  "varInspector": {
   "cols": {
    "lenName": 16,
    "lenType": 16,
    "lenVar": 40
   },
   "kernels_config": {
    "python": {
     "delete_cmd_postfix": "",
     "delete_cmd_prefix": "del ",
     "library": "var_list.py",
     "varRefreshCmd": "print(var_dic_list())"
    },
    "r": {
     "delete_cmd_postfix": ") ",
     "delete_cmd_prefix": "rm(",
     "library": "var_list.r",
     "varRefreshCmd": "cat(var_dic_list()) "
    }
   },
   "types_to_exclude": [
    "module",
    "function",
    "builtin_function_or_method",
    "instance",
    "_Feature"
   ],
   "window_display": false
  }
 },
 "nbformat": 4,
 "nbformat_minor": 4
}
