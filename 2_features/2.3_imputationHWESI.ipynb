{
 "cells": [
  {
   "cell_type": "markdown",
   "metadata": {},
   "source": [
    "## Descriptions:\n",
    "Imputation of missing ESI and HW\n",
    "- Impute HW using some demographics variables\n",
    "- Get first values of vital signs to impute ESI\n",
    "\n",
    "**Inputs**:  \n",
    "- `cohort_demoHW` contains all processed variables in demographics (including ESI) and height and weight\n",
    "- `flowsheet` contrains vital signs\n",
    "\n",
    "\n",
    "**Outputs**: \n",
    "* `cohort_imputed_ESIHW` "
   ]
  },
  {
   "cell_type": "markdown",
   "metadata": {},
   "source": [
    "### Importing R libraries"
   ]
  },
  {
   "cell_type": "code",
   "execution_count": 3,
   "metadata": {
    "ExecuteTime": {
     "end_time": "2020-05-21T00:38:06.078240Z",
     "start_time": "2020-05-21T00:38:02.778Z"
    }
   },
   "outputs": [
    {
     "name": "stderr",
     "output_type": "stream",
     "text": [
      "Warning message:\n",
      "\"package 'mice' was built under R version 4.0.5\"\n",
      "\n",
      "Attaching package: 'mice'\n",
      "\n",
      "\n",
      "The following object is masked from 'package:stats':\n",
      "\n",
      "    filter\n",
      "\n",
      "\n",
      "The following objects are masked from 'package:base':\n",
      "\n",
      "    cbind, rbind\n",
      "\n",
      "\n"
     ]
    }
   ],
   "source": [
    "library(bigrquery)  # to query STARR-OMOP (stored in BigQuery) using SQL\n",
    "library(tidyverse)\n",
    "library(lubridate)\n",
    "library(mice)\n",
    "\n",
    "# library(data.table)\n",
    "# library(Matrix)\n",
    "# library(caret) # import this before glmnet to avoid rlang version problem\n",
    "# library(glmnet)\n",
    "# library(bit64)\n",
    "\n",
    "# library(slam)\n",
    "# library(mtools) for one hot coder, not available on Nero or use caret or tidyr\n",
    "options(repr.matrix.max.rows=250, repr.matrix.max.cols=30)"
   ]
  },
  {
   "cell_type": "code",
   "execution_count": 5,
   "metadata": {},
   "outputs": [
    {
     "data": {
      "text/html": [
       "45796"
      ],
      "text/latex": [
       "45796"
      ],
      "text/markdown": [
       "45796"
      ],
      "text/plain": [
       "[1] 45796"
      ]
     },
     "metadata": {},
     "output_type": "display_data"
    },
    {
     "data": {
      "text/html": [
       "31513"
      ],
      "text/latex": [
       "31513"
      ],
      "text/markdown": [
       "31513"
      ],
      "text/plain": [
       "[1] 31513"
      ]
     },
     "metadata": {},
     "output_type": "display_data"
    },
    {
     "data": {
      "text/html": [
       "45796"
      ],
      "text/latex": [
       "45796"
      ],
      "text/markdown": [
       "45796"
      ],
      "text/plain": [
       "[1] 45796"
      ]
     },
     "metadata": {},
     "output_type": "display_data"
    },
    {
     "data": {
      "text/html": [
       "45796"
      ],
      "text/latex": [
       "45796"
      ],
      "text/markdown": [
       "45796"
      ],
      "text/plain": [
       "[1] 45796"
      ]
     },
     "metadata": {},
     "output_type": "display_data"
    },
    {
     "data": {
      "text/html": [
       "<style>\n",
       ".list-inline {list-style: none; margin:0; padding: 0}\n",
       ".list-inline>li {display: inline-block}\n",
       ".list-inline>li:not(:last-child)::after {content: \"\\00b7\"; padding: 0 .5ex}\n",
       "</style>\n",
       "<ol class=list-inline><li>'anon_id'</li><li>'pat_enc_csn_id_coded'</li><li>'label'</li><li>'admit_time'</li><li>'inpatient_data_id_coded'</li><li>'ESI'</li><li>'gender'</li><li>'race'</li><li>'insurance'</li><li>'recent_date'</li><li>'age'</li><li>'English'</li><li>'Height'</li><li>'Weight'</li></ol>\n"
      ],
      "text/latex": [
       "\\begin{enumerate*}\n",
       "\\item 'anon\\_id'\n",
       "\\item 'pat\\_enc\\_csn\\_id\\_coded'\n",
       "\\item 'label'\n",
       "\\item 'admit\\_time'\n",
       "\\item 'inpatient\\_data\\_id\\_coded'\n",
       "\\item 'ESI'\n",
       "\\item 'gender'\n",
       "\\item 'race'\n",
       "\\item 'insurance'\n",
       "\\item 'recent\\_date'\n",
       "\\item 'age'\n",
       "\\item 'English'\n",
       "\\item 'Height'\n",
       "\\item 'Weight'\n",
       "\\end{enumerate*}\n"
      ],
      "text/markdown": [
       "1. 'anon_id'\n",
       "2. 'pat_enc_csn_id_coded'\n",
       "3. 'label'\n",
       "4. 'admit_time'\n",
       "5. 'inpatient_data_id_coded'\n",
       "6. 'ESI'\n",
       "7. 'gender'\n",
       "8. 'race'\n",
       "9. 'insurance'\n",
       "10. 'recent_date'\n",
       "11. 'age'\n",
       "12. 'English'\n",
       "13. 'Height'\n",
       "14. 'Weight'\n",
       "\n",
       "\n"
      ],
      "text/plain": [
       " [1] \"anon_id\"                 \"pat_enc_csn_id_coded\"   \n",
       " [3] \"label\"                   \"admit_time\"             \n",
       " [5] \"inpatient_data_id_coded\" \"ESI\"                    \n",
       " [7] \"gender\"                  \"race\"                   \n",
       " [9] \"insurance\"               \"recent_date\"            \n",
       "[11] \"age\"                     \"English\"                \n",
       "[13] \"Height\"                  \"Weight\"                 "
      ]
     },
     "metadata": {},
     "output_type": "display_data"
    }
   ],
   "source": [
    "# read inputs\n",
    "datadir = \"../../DataTD\"\n",
    "featuredir = \"../../OutputTD/2_features\"\n",
    "\n",
    "cohort <- read.csv(file.path(featuredir, \"cohort_demoHW.csv\"))\n",
    "\n",
    "# check for unique CSNs and MRNs\n",
    "nrow(cohort) #45986\n",
    "nrow(cohort %>% select(anon_id) %>% distinct()) #31484\n",
    "nrow(cohort %>% select(pat_enc_csn_id_coded) %>% distinct()) #31484\n",
    "nrow(cohort %>% select(anon_id, pat_enc_csn_id_coded) %>% distinct()) #31484\n",
    "\n",
    "colnames(cohort)"
   ]
  },
  {
   "cell_type": "markdown",
   "metadata": {},
   "source": [
    "### Imputation for Height and Weight using just the demographics set"
   ]
  },
  {
   "cell_type": "code",
   "execution_count": null,
   "metadata": {
    "ExecuteTime": {
     "end_time": "2020-05-21T00:41:21.906051Z",
     "start_time": "2020-05-21T00:38:56.152Z"
    }
   },
   "outputs": [],
   "source": [
    "# this takes awhile(~4min)\n",
    "# cohort_demo_clean <- read.csv(file.path(datadir, \"cohort_demo_clean.csv\"))\n",
    "demo_clean <- cohort_demo_clean %>% select(gender, race, age, medis, Height, Weight)\n",
    "\n",
    "md.pattern(demo_clean)\n",
    "demo_mice <- mice(demo_clean, m=3, maxit=50, meth='pmm', seed=123)\n",
    "demo_imp2 <- complete(demo_mice, 2)"
   ]
  },
  {
   "cell_type": "code",
   "execution_count": null,
   "metadata": {
    "ExecuteTime": {
     "end_time": "2020-05-21T00:43:18.194040Z",
     "start_time": "2020-05-21T00:43:18.149Z"
    }
   },
   "outputs": [],
   "source": [
    "summary(demo_imp2)"
   ]
  },
  {
   "cell_type": "code",
   "execution_count": null,
   "metadata": {},
   "outputs": [],
   "source": [
    "nrow(demo_imp2)\n",
    "head(demo_imp2, n=1)\n",
    "\n",
    "nrow(cohort_demo_clean)\n",
    "head(cohort_demo_clean, n=1)\n",
    "\n",
    "# here: keep bind the old set with the imputed set, just to compare\n",
    "demo_imp2name <- demo_imp2 %>% select(Height, Weight) %>% \n",
    "                    rename(Height_i = Height, Weight_i = Weight)\n",
    "cohort_demo_imputed_all <- bind_cols(cohort_demo_clean, demo_imp2name) \n",
    "head(cohort_demo_imputed_all, n=1)\n",
    "colnames(cohort_demo_imputed_all)"
   ]
  },
  {
   "cell_type": "code",
   "execution_count": null,
   "metadata": {},
   "outputs": [],
   "source": [
    "# all means we have both the original values and the imputed values in this same dataset, \n",
    "# but it doesn't have the indicators of missingness\n",
    "cohort_demo_imputed_all <- cohort_demo_imputed_all %>% \n",
    "    select(c(anon_id, pat_enc_csn_id_coded, inpatient_data_id_coded, label_max24, admit_time, ESI, \n",
    "             gender, race, age, medis, English, Height, Height_i, Weight, Weight_i))"
   ]
  },
  {
   "cell_type": "code",
   "execution_count": null,
   "metadata": {},
   "outputs": [],
   "source": [
    "# only keep the imputed versions of Height and Weight and add indicators\n",
    "cohort_demo_imputed <- cohort_demo_imputed_all %>% \n",
    "                        mutate(delta_H = ifelse(is.na(Height), 1, 0),\n",
    "                               delta_W = ifelse(is.na(Weight), 1, 0)) %>%\n",
    "                        select(-c(Height, Weight))\n",
    "summary(cohort_demo_imputed %>% select(delta_H, delta_W))\n",
    "head(cohort_demo_imputed, n=1)"
   ]
  },
  {
   "cell_type": "code",
   "execution_count": null,
   "metadata": {},
   "outputs": [],
   "source": [
    "# missing ESI\n",
    "summary(cohort_demo_imputed)\n",
    "apply(cohort_demo_clean[c(\"gender\", \"race\")], 2, table)"
   ]
  },
  {
   "cell_type": "code",
   "execution_count": null,
   "metadata": {
    "ExecuteTime": {
     "end_time": "2020-05-21T00:43:40.784690Z",
     "start_time": "2020-05-21T00:43:40.626Z"
    }
   },
   "outputs": [],
   "source": [
    "# from the cohort_demo_clean, imputed height and weight, save the new cohort_demo table\n",
    "write.csv(cohort_demo_imputed, file = file.path(datadir, \"cohort_demo_imputedHW.csv\"), row.names=FALSE)"
   ]
  },
  {
   "cell_type": "markdown",
   "metadata": {},
   "source": [
    "### ESI -- from acuity_level encounter table\n",
    "* use first vital values from vitals_clean to impute ESI\n",
    "* this require the vitals_clean dataset to be done\n",
    "* before: use cohort with at least 1 vs --> change: use cohort with a complete set of vs --> simple and complex models\n",
    "* vs1st_complete.csv is already updated"
   ]
  },
  {
   "cell_type": "code",
   "execution_count": null,
   "metadata": {},
   "outputs": [],
   "source": [
    "cohort_demo %>% group_by(ESI, label_max24) %>% count() %>% group_by(ESI) %>% mutate(p = round(100* n/sum(n), 2))\n",
    "# will need to impute with the first sets of vital signs"
   ]
  },
  {
   "cell_type": "code",
   "execution_count": null,
   "metadata": {},
   "outputs": [],
   "source": [
    "# cohort_demo_imputedHW %>% group_by(esi) %>% count(label_max24) # --> convert NA\n",
    "cohort_demo %>% group_by(ESI, label_max24) %>%\n",
    "                summarise(n_esi = n()) %>%\n",
    "                ungroup() %>% \n",
    "                mutate(percent = 100*n_esi/sum(n_esi)) %>%\n",
    "                select(ESI, label = label_max24, n_esi, percent)"
   ]
  },
  {
   "cell_type": "markdown",
   "metadata": {},
   "source": [
    "#### NEED vs1st_complete dataset, get from vitals notebook"
   ]
  },
  {
   "cell_type": "code",
   "execution_count": null,
   "metadata": {},
   "outputs": [],
   "source": [
    "# use the vs1st_complete.csv --> 41654, better cohort for imputation\n",
    "# if use vs1st.csv with GCS we have 43320, but remove these so only 43291\n",
    "vs1st <- read.csv(file.path(datadir, \"vs1st.csv\"))\n",
    "\n",
    "# vs1st <- read.csv(file.path(datadir, \"vs1st_complete.csv\"))\n",
    "nrow(vs1st)\n",
    "\n",
    "# this demo is not the same demo read from demographics, same as cohort_demo_imputed as above\n",
    "demo <- read.csv(file.path(datadir, \"cohort_demo_imputedHW.csv\"))\n",
    "nrow(demo)"
   ]
  },
  {
   "cell_type": "code",
   "execution_count": null,
   "metadata": {},
   "outputs": [],
   "source": [
    "# vs1wide <- vs1st %>% spread(features, first_val) %>% select(-GCS) # then need to filter out all NA as below\n",
    "# vs1wide <- vs1wide %>% filter_at(vars(DBP, Pulse, RR, SBP, SpO2, Temp), any_vars(!is.na(.)))\n",
    "\n",
    "# remove GCS (not many), and turn wide format for imputation\n",
    "vs1wide <- vs1st %>% filter(features != \"GCS\") %>% spread(features, first_val)\n",
    "head(vs1wide)\n",
    "nrow(vs1wide) # 43291 --> now 41654 for complete set of VS with final cohort\n",
    "nrow(vs1wide %>% filter_all(all_vars(is.na(.)))) # number of rows that have all NA\n",
    "nrow(vs1wide %>% drop_na()) # number of rows that have no NA (complete cases) accross all cols"
   ]
  },
  {
   "cell_type": "code",
   "execution_count": null,
   "metadata": {},
   "outputs": [],
   "source": [
    "colnames(demo)"
   ]
  },
  {
   "cell_type": "code",
   "execution_count": null,
   "metadata": {},
   "outputs": [],
   "source": [
    "vs1demo <- left_join(vs1wide, demo)\n",
    "nrow(vs1demo)\n",
    "head(vs1demo)\n",
    "colnames(vs1demo)"
   ]
  },
  {
   "cell_type": "code",
   "execution_count": null,
   "metadata": {},
   "outputs": [],
   "source": [
    "summary(vs1demo) # missing 1665 ESI"
   ]
  },
  {
   "cell_type": "code",
   "execution_count": null,
   "metadata": {},
   "outputs": [],
   "source": [
    "# this chunk takes a while (~ 5min)\n",
    "# m refers to the number of imputed datasets. Five is the default --> takes too long\n",
    "# meth='pmm' refers to the imputation method, predictive mean matching\n",
    "# complete(, returns the 2nd completed data set)\n",
    "vs1demo_imp <- vs1demo %>% select(ESI, gender, race, age, medis, Height_i, Weight_i, SBP, DBP, Pulse, RR, SpO2, Temp)\n",
    "\n",
    "md.pattern(vs1demo_imp)\n",
    "vs1demo_mice <- mice(vs1demo_imp, m=3, maxit=50, meth='pmm', seed=123)\n",
    "vs1demo_imp2 <- complete(vs1demo_mice, 2)"
   ]
  },
  {
   "cell_type": "code",
   "execution_count": null,
   "metadata": {},
   "outputs": [],
   "source": [
    "summary(vs1demo_imp2)"
   ]
  },
  {
   "cell_type": "code",
   "execution_count": null,
   "metadata": {},
   "outputs": [],
   "source": [
    "# rename the imputed variables from the imputed data set with an added _i\n",
    "# not doing this: SBP_i=SBP, DBP_i=DBP, Pulse_i=Pulse, RR_i=RR, SpO2_i=SpO2, Temp_i=Temp\n",
    "vs1demo_imp_name <- vs1demo_imp2 %>% select(ESI_i=ESI) \n",
    "\n",
    "# bind the imputed ESI with the original data and add a missing indicator for ESI\n",
    "vs1demo_all <- bind_cols(vs1demo, vs1demo_imp_name) %>% mutate(delta_ESI = ifelse(is.na(ESI), 1, 0))\n",
    "colnames(vs1demo_all)"
   ]
  },
  {
   "cell_type": "raw",
   "metadata": {},
   "source": [
    "# indicator colums for variables with missing values: turn missing to 1 and not missing to 0, then rename these variables\n",
    "# do this when there are multiple cols\n",
    "missing <- function(x) ifelse(is.na(x), 1, 0)\n",
    "vs1demo_ind <- vs1demo_all %>% mutate_at(.vars = vars(ESI, SBP, DBP, Pulse, RR, SpO2, Temp), .funs = missing) %>%\n",
    "                    rename(vs1demo_ind, delta_ESI=ESI, delta_SBP=SBP, delta_DBP=DBP, \n",
    "                           delta_Pulse=Pulse, delta_RR=RR, delta_SpO2=SpO2, delta_Temp=Temp)\n",
    "# colnames(vs1demo_ind) <- c('anon_id','pat_enc_csn_id_coded', \n",
    "#                            'delta_DBP','delta_Pulse', 'delta_RR', 'delta_SBP', 'delta_SpO2','delta_Temp',\n",
    "#                            'inpatient_data_id_coded', 'label_max24', 'admit_time', 'delta_ESI', \n",
    "#                            'gender', 'race','age', 'medis', 'English', \n",
    "#                            'Height_i', 'Weight_i', 'delta_H', 'delta_W', 'ESI_i', \n",
    "#                            'SBP_i', 'DBP_i', 'Pulse_i', 'RR_i', 'SpO2_i', 'Temp_i')"
   ]
  },
  {
   "cell_type": "code",
   "execution_count": null,
   "metadata": {},
   "outputs": [],
   "source": [
    "dim(vs1demo_all)\n",
    "head(vs1demo_all %>% filter(delta_ESI ==1))"
   ]
  },
  {
   "cell_type": "code",
   "execution_count": null,
   "metadata": {},
   "outputs": [],
   "source": [
    "# rearrange all the columns \n",
    "cohort_demo <- vs1demo_all %>% select(anon_id, pat_enc_csn_id_coded, inpatient_data_id_coded, label_max24, admit_time, \n",
    "                                      ESI_i, delta_ESI, gender, race, age, medis, English,  \n",
    "                                      Height_i, delta_H, Weight_i, delta_W,\n",
    "                                      SBP, DBP, Pulse, RR, SpO2, Temp)\n",
    "dim(cohort_demo)"
   ]
  },
  {
   "cell_type": "raw",
   "metadata": {},
   "source": [
    "# checking 3 patient, missign ESI, missing all vs except temp, and missing RR\n",
    "# cohort_demo %>% filter(pat_enc_csn_id_coded %in% c(131269803765, 131242423389, 131213936508))"
   ]
  },
  {
   "cell_type": "markdown",
   "metadata": {},
   "source": [
    "### One hot coding for gender and race\n",
    "* Gender: simply 1 for female and 0 for male\n",
    "* Race: one-hot coding as usual"
   ]
  },
  {
   "cell_type": "code",
   "execution_count": null,
   "metadata": {},
   "outputs": [],
   "source": [
    "# 1 for female and 0 for male:\n",
    "cohort_demo <- cohort_demo %>% mutate(gender = ifelse(gender == \"Male\", 0, 1),\n",
    "                                      race =  as.factor(race))\n",
    "summary(cohort_demo %>% select(gender, race))"
   ]
  },
  {
   "cell_type": "code",
   "execution_count": null,
   "metadata": {},
   "outputs": [],
   "source": [
    "# onehot coding for race:\n",
    "dummy <- dummyVars(~ race, data = cohort_demo) # if more ! gender + race\n",
    "race_1hot <- data.frame(predict(dummy, newdata = cohort_demo))\n",
    "cohort_demo <-  cohort_demo %>% select(-race) %>% bind_cols(race_1hot)\n",
    "ncol(cohort_demo)"
   ]
  },
  {
   "cell_type": "code",
   "execution_count": null,
   "metadata": {},
   "outputs": [],
   "source": [
    "summary(cohort_demo)"
   ]
  },
  {
   "cell_type": "code",
   "execution_count": null,
   "metadata": {},
   "outputs": [],
   "source": [
    "nrow(cohort_demo)\n",
    "head(cohort_demo, n=3)"
   ]
  },
  {
   "cell_type": "code",
   "execution_count": null,
   "metadata": {},
   "outputs": [],
   "source": [
    "# save file: all ESI (and first_val of vital signs imputed)\n",
    "write.csv(cohort_demo, file.path(datadir, \"cohort_demo_final.csv\"), row.names=FALSE)\n",
    "\n",
    "# this is the correct new cohort with at least one component of vital signs\n",
    "# cohort_has_vs <- cohort_demo %>% select(anon_id, pat_enc_csn_id_coded, inpatient_data_id_coded, label_max24, admit_time)\n",
    "\n",
    "# nrow(cohort_has_vs)\n",
    "# write.csv(cohort_has_vs, file.path(datadir, \"cohort_has_vs.csv\"), row.names=FALSE)"
   ]
  },
  {
   "cell_type": "raw",
   "metadata": {},
   "source": [
    "# cohort without ESI:\n",
    "cohort <- read.csv(file.path(datadir, \"cohort_final.csv\"))\n",
    "nrow(cohort)\n",
    "nrow(cohort %>% distinct(anon_id))\n",
    "noESI <- vs1demo %>% filter(is.na(ESI)) %>% select(anon_id, pat_enc_csn_id_coded) %>% left_join(cohort)\n",
    "nrow(noESI)\n",
    "# write.csv(noESI, file.path(datadir, \"noESI.csv\"), row.names=FALSE)"
   ]
  },
  {
   "cell_type": "raw",
   "metadata": {},
   "source": [
    "head(cohort, n=1)\n",
    "sapply(cohort, typeof)\n",
    "summary(cohort)"
   ]
  },
  {
   "cell_type": "markdown",
   "metadata": {},
   "source": [
    "### Get the dataset for simple models:\n",
    "A cohort with complete set of VS, with labels (43008 --> 41654), with the following features\n",
    "* get back the demographics (with imputed ESI using 1st set of vs)\n",
    "* vital signs (first values and summary statistics) only (no GCS)"
   ]
  },
  {
   "cell_type": "code",
   "execution_count": null,
   "metadata": {},
   "outputs": [],
   "source": [
    "vsum_wide <- read.csv(file.path(datadir, 'vitalsum_wide.csv'))\n",
    "nrow(vsum_wide)"
   ]
  },
  {
   "cell_type": "code",
   "execution_count": null,
   "metadata": {},
   "outputs": [],
   "source": [
    "demos <- read.csv(file.path(datadir, \"cohort_demo_final.csv\"))\n",
    "nrow(demos)\n",
    "colnames(demos)"
   ]
  },
  {
   "cell_type": "code",
   "execution_count": null,
   "metadata": {},
   "outputs": [],
   "source": [
    "# add demographic features to this data with vital signs\n",
    "demos <- demos %>% select(-c(inpatient_data_id_coded, label_max24, admit_time))\n",
    "data_simple <- left_join(vsum_wide, demos)\n",
    "dim(data_simple)\n",
    "nrow(data_simple %>% select(pat_enc_csn_id_coded) %>% distinct())\n",
    "colnames(data_simple)\n",
    "summary(data_simple)"
   ]
  },
  {
   "cell_type": "code",
   "execution_count": null,
   "metadata": {},
   "outputs": [],
   "source": [
    "# update cohort with labels to include only patients with a complete set of VS\n",
    "# cohort <- read.csv(\"./Data/cohort_labels.csv\")\n",
    "cohort <- read.csv(file.path(datadir, \"labels_with_death_delta.csv\")) \n",
    "\n",
    "dim(cohort)\n",
    "tail(cohort, 10)"
   ]
  },
  {
   "cell_type": "code",
   "execution_count": null,
   "metadata": {},
   "outputs": [],
   "source": [
    "cohort_final <- data_simple %>% select(anon_id, pat_enc_csn_id_coded) %>% left_join(cohort) #%>%\n",
    "#                 select(-c(int64_field_0))\n",
    "\n",
    "dim(cohort_final)\n",
    "head(cohort_final, n=1)"
   ]
  },
  {
   "cell_type": "code",
   "execution_count": null,
   "metadata": {},
   "outputs": [],
   "source": [
    "colnames(cohort_final)\n",
    "summary(cohort_final)"
   ]
  },
  {
   "cell_type": "code",
   "execution_count": null,
   "metadata": {},
   "outputs": [],
   "source": [
    "# updata data simple to include labels:\n",
    "data_simple <- left_join(cohort_final, data_simple)\n",
    "dim(data_simple)\n",
    "colnames(data_simple)"
   ]
  },
  {
   "cell_type": "code",
   "execution_count": null,
   "metadata": {},
   "outputs": [],
   "source": [
    "# need to check the label"
   ]
  },
  {
   "cell_type": "code",
   "execution_count": null,
   "metadata": {},
   "outputs": [],
   "source": [
    "# write.csv(cohort_final, file.path(datadir, 'cohort_final.csv'), row.names = FALSE)\n",
    "# write.csv(data_simple, file.path(datadir, \"data_simple.csv\"), row.names=FALSE)"
   ]
  },
  {
   "cell_type": "markdown",
   "metadata": {},
   "source": [
    "### EXTRA"
   ]
  },
  {
   "cell_type": "code",
   "execution_count": null,
   "metadata": {},
   "outputs": [],
   "source": [
    "# did not miss any BP\n",
    "added_vs <- read.csv(file.path(datadir, \"added_vs.csv\"))\n",
    "nrow(added_vs)\n",
    "added_vs %>% count(row_disp_name)\n",
    "head(added_vs)"
   ]
  }
 ],
 "metadata": {
  "environment": {
   "name": "r-cpu.4-0.m71",
   "type": "gcloud",
   "uri": "gcr.io/deeplearning-platform-release/r-cpu.4-0:m71"
  },
  "kernelspec": {
   "display_name": "R",
   "language": "R",
   "name": "ir"
  },
  "language_info": {
   "codemirror_mode": "r",
   "file_extension": ".r",
   "mimetype": "text/x-r-source",
   "name": "R",
   "pygments_lexer": "r",
   "version": "4.0.3"
  },
  "toc": {
   "base_numbering": 1,
   "nav_menu": {},
   "number_sections": true,
   "sideBar": true,
   "skip_h1_title": false,
   "title_cell": "Table of Contents",
   "title_sidebar": "Contents",
   "toc_cell": false,
   "toc_position": {},
   "toc_section_display": true,
   "toc_window_display": false
  },
  "varInspector": {
   "cols": {
    "lenName": 16,
    "lenType": 16,
    "lenVar": 40
   },
   "kernels_config": {
    "python": {
     "delete_cmd_postfix": "",
     "delete_cmd_prefix": "del ",
     "library": "var_list.py",
     "varRefreshCmd": "print(var_dic_list())"
    },
    "r": {
     "delete_cmd_postfix": ") ",
     "delete_cmd_prefix": "rm(",
     "library": "var_list.r",
     "varRefreshCmd": "cat(var_dic_list()) "
    }
   },
   "types_to_exclude": [
    "module",
    "function",
    "builtin_function_or_method",
    "instance",
    "_Feature"
   ],
   "window_display": false
  }
 },
 "nbformat": 4,
 "nbformat_minor": 4
}
