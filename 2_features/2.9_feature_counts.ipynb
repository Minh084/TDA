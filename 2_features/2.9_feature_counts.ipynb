{
 "cells": [
  {
   "cell_type": "markdown",
   "metadata": {},
   "source": [
    "This notebook was developped by Conor K. Corbin, modified by Minh Nguyen"
   ]
  },
  {
   "cell_type": "markdown",
   "metadata": {},
   "source": [
    "### Featurzire order counts"
   ]
  },
  {
   "cell_type": "code",
   "execution_count": 1,
   "metadata": {
    "ExecuteTime": {
     "end_time": "2020-05-28T18:47:57.528255Z",
     "start_time": "2020-05-28T18:47:54.874579Z"
    }
   },
   "outputs": [],
   "source": [
    "import os \n",
    "import numpy as np\n",
    "import pandas as pd\n",
    "from datetime import datetime, timedelta\n",
    "\n",
    "# %matplotlib inline\n",
    "# %load_ext rpy2.ipython"
   ]
  },
  {
   "cell_type": "code",
   "execution_count": 2,
   "metadata": {
    "ExecuteTime": {
     "end_time": "2020-05-22T19:26:31.720270Z",
     "start_time": "2020-05-22T19:26:28.451753Z"
    }
   },
   "outputs": [],
   "source": [
    "import os \n",
    "from google.cloud import bigquery\n",
    "from google.cloud.bigquery import dbapi\n",
    "\n",
    "##Use correct path based on whether you are, Nero or local\n",
    "# use Ctrl + Insert to copy and Shift + Insert to paste\n",
    "\n",
    "# for Nero:\n",
    "# os.environ['GOOGLE_APPLICATION_CREDENTIALS'] = '/home/minh084/.config/gcloud/application_default_credentials.json' \n",
    "os.environ['GOOGLE_APPLICATION_CREDENTIALS'] = '/home/jupyter/.config/gcloud/application_default_credentials.json'\n",
    "\n",
    "# for local computer:\n",
    "# os.environ['GOOGLE_APPLICATION_CREDENTIALS'] = r'C:\\Users\\User\\AppData\\Roaming\\gcloud\\application_default_credentials.json' \n",
    "\n",
    "##set correct Nero project\n",
    "os.environ['GCLOUD_PROJECT'] = 'som-nero-phi-jonc101' "
   ]
  },
  {
   "cell_type": "code",
   "execution_count": 6,
   "metadata": {},
   "outputs": [],
   "source": [
    "sqldir = \"../SQL/feature_counts/\"\n",
    "datadir = \"../../DataTD\"\n",
    "cohortdir = \"../../OutputTD/1_cohort\"\n",
    "featuredir = \"../../OutputTD/2_features\"\n",
    "\n",
    "pd.set_option('display.max_columns', 50)\n",
    "pd.set_option('display.max_rows', 50)"
   ]
  },
  {
   "cell_type": "markdown",
   "metadata": {},
   "source": [
    "## Create Count Based Representations of the following\n",
    "* Dx Codes (making sure to only use codes from prior admissions)\n",
    "* Lab/ Microbiology Lab orders (up until index time)\n",
    "* Procedures (up until index time)\n",
    "* Imaging orders (up until index time)\n",
    "* Medication Orders (up until index time)"
   ]
  },
  {
   "cell_type": "code",
   "execution_count": 8,
   "metadata": {},
   "outputs": [],
   "source": [
    "def featurize_code_counts(query):\n",
    "    \"\"\" \n",
    "    Turns a sql query into long form dataframe of of counts\n",
    "    supported queries for ref: dx_codes.sql, proc_orders.sql, meds.sql\n",
    "\n",
    "    Output: Long form dataframe with cols:\n",
    "        anon_id : pat_id\n",
    "        pat_enc_csn_id_coded : csn (our unit of analysis)\n",
    "        admit_time : our index time + 1 hour\n",
    "        feature_type : dx, meds, labs etc\n",
    "        features : name of feature\n",
    "        values : value of feature (which is a count)\n",
    "        \n",
    "    Notes: \n",
    "        * diagnosis from current encounter not included - but we look back through entire patient timeline\n",
    "        * meds, labs, imaging, procs we only look back a year. \n",
    "    \"\"\"\n",
    "\n",
    "    query_job = client.query(query)\n",
    "    df = query_job.result().to_dataframe()\n",
    "\n",
    "    df = df[['anon_id',\n",
    "             'pat_enc_csn_id_coded',\n",
    "             'admit_time',\n",
    "             'code',\n",
    "             'order_id',\n",
    "             'feature_type']].groupby(['pat_enc_csn_id_coded', 'admit_time', 'code']).agg({\n",
    "             'anon_id' : 'first',\n",
    "             'order_id' : 'count',\n",
    "             'feature_type' : 'first'}).reset_index().rename(columns={\n",
    "                               'order_id' : 'values',\n",
    "                               'code' : 'features'})[['anon_id', 'pat_enc_csn_id_coded', 'admit_time', 'feature_type', 'features', 'values']]\n",
    "    return df"
   ]
  },
  {
   "cell_type": "code",
   "execution_count": 10,
   "metadata": {},
   "outputs": [
    {
     "name": "stdout",
     "output_type": "stream",
     "text": [
      "../SQL/feature_counts/proc_orders.sql\n"
     ]
    },
    {
     "ename": "NameError",
     "evalue": "name 'client' is not defined",
     "output_type": "error",
     "traceback": [
      "\u001b[1;31m---------------------------------------------------------------------------\u001b[0m",
      "\u001b[1;31mNameError\u001b[0m                                 Traceback (most recent call last)",
      "\u001b[1;32m<ipython-input-10-d7be11dc3128>\u001b[0m in \u001b[0;36m<module>\u001b[1;34m\u001b[0m\n\u001b[0;32m      8\u001b[0m     \u001b[1;32mwith\u001b[0m \u001b[0mopen\u001b[0m\u001b[1;33m(\u001b[0m\u001b[0msql_file\u001b[0m\u001b[1;33m,\u001b[0m \u001b[1;34m'r'\u001b[0m\u001b[1;33m)\u001b[0m \u001b[1;32mas\u001b[0m \u001b[0mfr\u001b[0m\u001b[1;33m:\u001b[0m\u001b[1;33m\u001b[0m\u001b[1;33m\u001b[0m\u001b[0m\n\u001b[0;32m      9\u001b[0m         \u001b[0mquery\u001b[0m \u001b[1;33m=\u001b[0m \u001b[0mfr\u001b[0m\u001b[1;33m.\u001b[0m\u001b[0mread\u001b[0m\u001b[1;33m(\u001b[0m\u001b[1;33m)\u001b[0m\u001b[1;33m\u001b[0m\u001b[1;33m\u001b[0m\u001b[0m\n\u001b[1;32m---> 10\u001b[1;33m     \u001b[0mdf\u001b[0m \u001b[1;33m=\u001b[0m \u001b[0mfeaturize_code_counts\u001b[0m\u001b[1;33m(\u001b[0m\u001b[0mquery\u001b[0m\u001b[1;33m)\u001b[0m\u001b[1;33m\u001b[0m\u001b[1;33m\u001b[0m\u001b[0m\n\u001b[0m\u001b[0;32m     11\u001b[0m \u001b[1;33m\u001b[0m\u001b[0m\n\u001b[0;32m     12\u001b[0m     \u001b[0mlong_df\u001b[0m \u001b[1;33m=\u001b[0m \u001b[0mpd\u001b[0m\u001b[1;33m.\u001b[0m\u001b[0mconcat\u001b[0m\u001b[1;33m(\u001b[0m\u001b[1;33m[\u001b[0m\u001b[0mlong_df\u001b[0m\u001b[1;33m,\u001b[0m \u001b[0mdf\u001b[0m\u001b[1;33m]\u001b[0m\u001b[1;33m)\u001b[0m\u001b[1;33m\u001b[0m\u001b[1;33m\u001b[0m\u001b[0m\n",
      "\u001b[1;32m<ipython-input-8-877de3a7f5fa>\u001b[0m in \u001b[0;36mfeaturize_code_counts\u001b[1;34m(query)\u001b[0m\n\u001b[0;32m     17\u001b[0m     \"\"\"\n\u001b[0;32m     18\u001b[0m \u001b[1;33m\u001b[0m\u001b[0m\n\u001b[1;32m---> 19\u001b[1;33m     \u001b[0mquery_job\u001b[0m \u001b[1;33m=\u001b[0m \u001b[0mclient\u001b[0m\u001b[1;33m.\u001b[0m\u001b[0mquery\u001b[0m\u001b[1;33m(\u001b[0m\u001b[0mquery\u001b[0m\u001b[1;33m)\u001b[0m\u001b[1;33m\u001b[0m\u001b[1;33m\u001b[0m\u001b[0m\n\u001b[0m\u001b[0;32m     20\u001b[0m     \u001b[0mdf\u001b[0m \u001b[1;33m=\u001b[0m \u001b[0mquery_job\u001b[0m\u001b[1;33m.\u001b[0m\u001b[0mresult\u001b[0m\u001b[1;33m(\u001b[0m\u001b[1;33m)\u001b[0m\u001b[1;33m.\u001b[0m\u001b[0mto_dataframe\u001b[0m\u001b[1;33m(\u001b[0m\u001b[1;33m)\u001b[0m\u001b[1;33m\u001b[0m\u001b[1;33m\u001b[0m\u001b[0m\n\u001b[0;32m     21\u001b[0m \u001b[1;33m\u001b[0m\u001b[0m\n",
      "\u001b[1;31mNameError\u001b[0m: name 'client' is not defined"
     ]
    }
   ],
   "source": [
    "# Get counts for each of the kinds of orders we care about\n",
    "feature_types = ['proc_orders', 'meds']\n",
    "long_df = pd.DataFrame()\n",
    "\n",
    "for f in feature_types:\n",
    "    sql_file = ''.join([sqldir, f, '.sql'])\n",
    "    print(sql_file)\n",
    "    with open(sql_file, 'r') as fr:\n",
    "        query = fr.read()\n",
    "    df = featurize_code_counts(query)\n",
    "    \n",
    "    long_df = pd.concat([long_df, df])\n",
    "    print(\"processed: \", f)"
   ]
  },
  {
   "cell_type": "code",
   "execution_count": 13,
   "metadata": {},
   "outputs": [],
   "source": [
    "# Save to csv\n",
    "long_df['feature_type'] = long_df['feature_type'].transform(lambda x: '_'.join([x, 'current_csn']))\n",
    "long_df['features'] = long_df['features'].transform(lambda x: '_'.join([x, 'current_csn']))\n",
    "long_df.to_csv('count_features_long_one_month.csv', index=None)"
   ]
  },
  {
   "cell_type": "code",
   "execution_count": 10,
   "metadata": {},
   "outputs": [
    {
     "data": {
      "text/html": [
       "<div>\n",
       "<style scoped>\n",
       "    .dataframe tbody tr th:only-of-type {\n",
       "        vertical-align: middle;\n",
       "    }\n",
       "\n",
       "    .dataframe tbody tr th {\n",
       "        vertical-align: top;\n",
       "    }\n",
       "\n",
       "    .dataframe thead th {\n",
       "        text-align: right;\n",
       "    }\n",
       "</style>\n",
       "<table border=\"1\" class=\"dataframe\">\n",
       "  <thead>\n",
       "    <tr style=\"text-align: right;\">\n",
       "      <th></th>\n",
       "      <th>jc_uid</th>\n",
       "      <th>pat_enc_csn_id_coded</th>\n",
       "      <th>admit_time</th>\n",
       "      <th>feature_type</th>\n",
       "      <th>features</th>\n",
       "      <th>values</th>\n",
       "    </tr>\n",
       "  </thead>\n",
       "  <tbody>\n",
       "  </tbody>\n",
       "</table>\n",
       "</div>"
      ],
      "text/plain": [
       "Empty DataFrame\n",
       "Columns: [jc_uid, pat_enc_csn_id_coded, admit_time, feature_type, features, values]\n",
       "Index: []"
      ]
     },
     "execution_count": 10,
     "metadata": {},
     "output_type": "execute_result"
    }
   ],
   "source": [
    "long_df[long_df['feature_type'] == 'Lab'].head(20)"
   ]
  },
  {
   "cell_type": "code",
   "execution_count": 14,
   "metadata": {},
   "outputs": [
    {
     "data": {
      "text/html": [
       "<div>\n",
       "<style scoped>\n",
       "    .dataframe tbody tr th:only-of-type {\n",
       "        vertical-align: middle;\n",
       "    }\n",
       "\n",
       "    .dataframe tbody tr th {\n",
       "        vertical-align: top;\n",
       "    }\n",
       "\n",
       "    .dataframe thead th {\n",
       "        text-align: right;\n",
       "    }\n",
       "</style>\n",
       "<table border=\"1\" class=\"dataframe\">\n",
       "  <thead>\n",
       "    <tr style=\"text-align: right;\">\n",
       "      <th></th>\n",
       "      <th>jc_uid</th>\n",
       "      <th>pat_enc_csn_id_coded</th>\n",
       "      <th>admit_time</th>\n",
       "      <th>feature_type</th>\n",
       "      <th>features</th>\n",
       "      <th>values</th>\n",
       "    </tr>\n",
       "  </thead>\n",
       "  <tbody>\n",
       "    <tr>\n",
       "      <th>0</th>\n",
       "      <td>JCda8a27</td>\n",
       "      <td>131037296250</td>\n",
       "      <td>2014-07-19 02:54:00+00:00</td>\n",
       "      <td>Imaging_current_csn</td>\n",
       "      <td>IMGCTAP_current_csn</td>\n",
       "      <td>2</td>\n",
       "    </tr>\n",
       "    <tr>\n",
       "      <th>1</th>\n",
       "      <td>JCda8a27</td>\n",
       "      <td>131037296250</td>\n",
       "      <td>2014-07-19 02:54:00+00:00</td>\n",
       "      <td>Imaging_current_csn</td>\n",
       "      <td>IMGCTAPW_current_csn</td>\n",
       "      <td>2</td>\n",
       "    </tr>\n",
       "    <tr>\n",
       "      <th>2</th>\n",
       "      <td>JCda8a27</td>\n",
       "      <td>131037296250</td>\n",
       "      <td>2014-07-19 02:54:00+00:00</td>\n",
       "      <td>Imaging_current_csn</td>\n",
       "      <td>IMGDXCH1_current_csn</td>\n",
       "      <td>2</td>\n",
       "    </tr>\n",
       "    <tr>\n",
       "      <th>3</th>\n",
       "      <td>JCda8a27</td>\n",
       "      <td>131037296250</td>\n",
       "      <td>2014-07-19 02:54:00+00:00</td>\n",
       "      <td>Lab_current_csn</td>\n",
       "      <td>LABBLC_current_csn</td>\n",
       "      <td>2</td>\n",
       "    </tr>\n",
       "    <tr>\n",
       "      <th>4</th>\n",
       "      <td>JCda8a27</td>\n",
       "      <td>131037296250</td>\n",
       "      <td>2014-07-19 02:54:00+00:00</td>\n",
       "      <td>Lab_current_csn</td>\n",
       "      <td>LABBLC2_current_csn</td>\n",
       "      <td>2</td>\n",
       "    </tr>\n",
       "  </tbody>\n",
       "</table>\n",
       "</div>"
      ],
      "text/plain": [
       "     jc_uid  pat_enc_csn_id_coded                admit_time  \\\n",
       "0  JCda8a27          131037296250 2014-07-19 02:54:00+00:00   \n",
       "1  JCda8a27          131037296250 2014-07-19 02:54:00+00:00   \n",
       "2  JCda8a27          131037296250 2014-07-19 02:54:00+00:00   \n",
       "3  JCda8a27          131037296250 2014-07-19 02:54:00+00:00   \n",
       "4  JCda8a27          131037296250 2014-07-19 02:54:00+00:00   \n",
       "\n",
       "          feature_type              features  values  \n",
       "0  Imaging_current_csn   IMGCTAP_current_csn       2  \n",
       "1  Imaging_current_csn  IMGCTAPW_current_csn       2  \n",
       "2  Imaging_current_csn  IMGDXCH1_current_csn       2  \n",
       "3      Lab_current_csn    LABBLC_current_csn       2  \n",
       "4      Lab_current_csn   LABBLC2_current_csn       2  "
      ]
     },
     "execution_count": 14,
     "metadata": {},
     "output_type": "execute_result"
    }
   ],
   "source": [
    "long_df.head()"
   ]
  },
  {
   "cell_type": "code",
   "execution_count": 6,
   "metadata": {},
   "outputs": [
    {
     "data": {
      "text/plain": [
       "(30625, 5800)"
      ]
     },
     "execution_count": 6,
     "metadata": {},
     "output_type": "execute_result"
    }
   ],
   "source": [
    "long_df[['pat_enc_csn_id_coded', 'features', 'values']].pivot(index='pat_enc_csn_id_coded', columns='features', values='values').shape"
   ]
  },
  {
   "cell_type": "code",
   "execution_count": null,
   "metadata": {},
   "outputs": [],
   "source": []
  }
 ],
 "metadata": {
  "environment": {
   "name": "r-cpu.4-0.m71",
   "type": "gcloud",
   "uri": "gcr.io/deeplearning-platform-release/r-cpu.4-0:m71"
  },
  "kernelspec": {
   "display_name": "Python 3",
   "language": "python",
   "name": "python3"
  },
  "language_info": {
   "codemirror_mode": {
    "name": "ipython",
    "version": 3
   },
   "file_extension": ".py",
   "mimetype": "text/x-python",
   "name": "python",
   "nbconvert_exporter": "python",
   "pygments_lexer": "ipython3",
   "version": "3.8.5"
  }
 },
 "nbformat": 4,
 "nbformat_minor": 4
}
