{
 "cells": [
  {
   "cell_type": "markdown",
   "metadata": {},
   "source": [
    "## Descriptions:\n",
    "Imputation of missing ESI and HW\n",
    "- Impute HW using some demographics variables\n",
    "- Get first values of vital signs to impute ESI\n",
    "\n",
    "**Inputs**:  \n",
    "- `cohort_demoHW` contains all processed variables in demographics (including ESI) and height and weight\n",
    "- `flowsheet` contrains vital signs\n",
    "\n",
    "\n",
    "**Outputs**: \n",
    "* `cohort_imputed_ESIHW` "
   ]
  },
  {
   "cell_type": "markdown",
   "metadata": {},
   "source": [
    "### Importing R libraries"
   ]
  },
  {
   "cell_type": "code",
   "execution_count": 1,
   "metadata": {
    "ExecuteTime": {
     "end_time": "2020-05-21T00:38:06.078240Z",
     "start_time": "2020-05-21T00:38:02.778Z"
    }
   },
   "outputs": [
    {
     "name": "stderr",
     "output_type": "stream",
     "text": [
      "── \u001b[1mAttaching packages\u001b[22m ─────────────────────────────────────── tidyverse 1.3.1 ──\n",
      "\n",
      "\u001b[32m✔\u001b[39m \u001b[34mggplot2\u001b[39m 3.3.3     \u001b[32m✔\u001b[39m \u001b[34mpurrr  \u001b[39m 0.3.4\n",
      "\u001b[32m✔\u001b[39m \u001b[34mtibble \u001b[39m 3.1.2     \u001b[32m✔\u001b[39m \u001b[34mdplyr  \u001b[39m 1.0.6\n",
      "\u001b[32m✔\u001b[39m \u001b[34mtidyr  \u001b[39m 1.1.3     \u001b[32m✔\u001b[39m \u001b[34mstringr\u001b[39m 1.4.0\n",
      "\u001b[32m✔\u001b[39m \u001b[34mreadr  \u001b[39m 1.4.0     \u001b[32m✔\u001b[39m \u001b[34mforcats\u001b[39m 0.5.1\n",
      "\n",
      "── \u001b[1mConflicts\u001b[22m ────────────────────────────────────────── tidyverse_conflicts() ──\n",
      "\u001b[31m✖\u001b[39m \u001b[34mdplyr\u001b[39m::\u001b[32mfilter()\u001b[39m masks \u001b[34mstats\u001b[39m::filter()\n",
      "\u001b[31m✖\u001b[39m \u001b[34mdplyr\u001b[39m::\u001b[32mlag()\u001b[39m    masks \u001b[34mstats\u001b[39m::lag()\n",
      "\n",
      "\n",
      "Attaching package: ‘lubridate’\n",
      "\n",
      "\n",
      "The following objects are masked from ‘package:base’:\n",
      "\n",
      "    date, intersect, setdiff, union\n",
      "\n",
      "\n",
      "\n",
      "Attaching package: ‘mice’\n",
      "\n",
      "\n",
      "The following object is masked from ‘package:stats’:\n",
      "\n",
      "    filter\n",
      "\n",
      "\n",
      "The following objects are masked from ‘package:base’:\n",
      "\n",
      "    cbind, rbind\n",
      "\n",
      "\n"
     ]
    }
   ],
   "source": [
    "library(bigrquery)  # to query STARR-OMOP (stored in BigQuery) using SQL\n",
    "library(tidyverse)\n",
    "library(lubridate)\n",
    "library(mice)\n",
    "library(VIM) # for missing data plot\n",
    "\n",
    "# library(data.table)\n",
    "# library(Matrix)\n",
    "# library(caret) # import this before glmnet to avoid rlang version problem\n",
    "# library(glmnet)\n",
    "# library(bit64)\n",
    "\n",
    "# library(slam)\n",
    "# library(mtools) for one hot coder, not available on Nero or use caret or tidyr\n",
    "options(repr.matrix.max.rows=250, repr.matrix.max.cols=30)"
   ]
  },
  {
   "cell_type": "code",
   "execution_count": 11,
   "metadata": {},
   "outputs": [
    {
     "data": {
      "text/html": [
       "45796"
      ],
      "text/latex": [
       "45796"
      ],
      "text/markdown": [
       "45796"
      ],
      "text/plain": [
       "[1] 45796"
      ]
     },
     "metadata": {},
     "output_type": "display_data"
    },
    {
     "data": {
      "text/html": [
       "31513"
      ],
      "text/latex": [
       "31513"
      ],
      "text/markdown": [
       "31513"
      ],
      "text/plain": [
       "[1] 31513"
      ]
     },
     "metadata": {},
     "output_type": "display_data"
    },
    {
     "data": {
      "text/html": [
       "45796"
      ],
      "text/latex": [
       "45796"
      ],
      "text/markdown": [
       "45796"
      ],
      "text/plain": [
       "[1] 45796"
      ]
     },
     "metadata": {},
     "output_type": "display_data"
    },
    {
     "data": {
      "text/html": [
       "45796"
      ],
      "text/latex": [
       "45796"
      ],
      "text/markdown": [
       "45796"
      ],
      "text/plain": [
       "[1] 45796"
      ]
     },
     "metadata": {},
     "output_type": "display_data"
    },
    {
     "data": {
      "text/html": [
       "<style>\n",
       ".list-inline {list-style: none; margin:0; padding: 0}\n",
       ".list-inline>li {display: inline-block}\n",
       ".list-inline>li:not(:last-child)::after {content: \"\\00b7\"; padding: 0 .5ex}\n",
       "</style>\n",
       "<ol class=list-inline><li>'anon_id'</li><li>'pat_enc_csn_id_coded'</li><li>'label'</li><li>'admit_time'</li><li>'inpatient_data_id_coded'</li><li>'ESI'</li><li>'gender'</li><li>'race'</li><li>'insurance'</li><li>'age'</li><li>'English'</li><li>'Height'</li><li>'Weight'</li></ol>\n"
      ],
      "text/latex": [
       "\\begin{enumerate*}\n",
       "\\item 'anon\\_id'\n",
       "\\item 'pat\\_enc\\_csn\\_id\\_coded'\n",
       "\\item 'label'\n",
       "\\item 'admit\\_time'\n",
       "\\item 'inpatient\\_data\\_id\\_coded'\n",
       "\\item 'ESI'\n",
       "\\item 'gender'\n",
       "\\item 'race'\n",
       "\\item 'insurance'\n",
       "\\item 'age'\n",
       "\\item 'English'\n",
       "\\item 'Height'\n",
       "\\item 'Weight'\n",
       "\\end{enumerate*}\n"
      ],
      "text/markdown": [
       "1. 'anon_id'\n",
       "2. 'pat_enc_csn_id_coded'\n",
       "3. 'label'\n",
       "4. 'admit_time'\n",
       "5. 'inpatient_data_id_coded'\n",
       "6. 'ESI'\n",
       "7. 'gender'\n",
       "8. 'race'\n",
       "9. 'insurance'\n",
       "10. 'age'\n",
       "11. 'English'\n",
       "12. 'Height'\n",
       "13. 'Weight'\n",
       "\n",
       "\n"
      ],
      "text/plain": [
       " [1] \"anon_id\"                 \"pat_enc_csn_id_coded\"   \n",
       " [3] \"label\"                   \"admit_time\"             \n",
       " [5] \"inpatient_data_id_coded\" \"ESI\"                    \n",
       " [7] \"gender\"                  \"race\"                   \n",
       " [9] \"insurance\"               \"age\"                    \n",
       "[11] \"English\"                 \"Height\"                 \n",
       "[13] \"Weight\"                 "
      ]
     },
     "metadata": {},
     "output_type": "display_data"
    }
   ],
   "source": [
    "# read inputs\n",
    "datadir = \"../../DataTD\"\n",
    "featuredir = \"../../OutputTD/2_features\"\n",
    "\n",
    "cohort <- read.csv(file.path(featuredir, \"cohort_demoHW.csv\"))\n",
    "\n",
    "# check for unique CSNs and MRNs\n",
    "nrow(cohort) #45796\n",
    "nrow(cohort %>% select(anon_id) %>% distinct()) #31513\n",
    "nrow(cohort %>% select(pat_enc_csn_id_coded) %>% distinct()) #31513\n",
    "nrow(cohort %>% select(anon_id, pat_enc_csn_id_coded) %>% distinct()) #31513\n",
    "\n",
    "colnames(cohort)"
   ]
  },
  {
   "cell_type": "markdown",
   "metadata": {},
   "source": [
    "### Imputation for Height and Weight \n",
    "- Using just the demographics' variables: gender, race, age, insurance, Height, Weight\n",
    "- Output: keep imputed height and weight, and add indicators for missingness\n",
    "- Could use mice, however, simpler approach just use pmm method for 1 single imputation\n",
    "- Use m=10 (m=5 is ok) as dataset is large and we end up only get 1 imputed dataset\n",
    "- https://statisticalhorizons.com/predictive-mean-matching"
   ]
  },
  {
   "cell_type": "code",
   "execution_count": 32,
   "metadata": {
    "ExecuteTime": {
     "end_time": "2020-05-21T00:41:21.906051Z",
     "start_time": "2020-05-21T00:38:56.152Z"
    }
   },
   "outputs": [
    {
     "data": {
      "text/html": [
       "<table class=\"dataframe\">\n",
       "<caption>A matrix: 5 × 7 of type dbl</caption>\n",
       "<thead>\n",
       "\t<tr><th></th><th scope=col>gender</th><th scope=col>race</th><th scope=col>age</th><th scope=col>insurance</th><th scope=col>Weight</th><th scope=col>Height</th><th scope=col></th></tr>\n",
       "</thead>\n",
       "<tbody>\n",
       "\t<tr><th scope=row>44337</th><td>1</td><td>1</td><td>1</td><td>1</td><td>  1</td><td>   1</td><td>   0</td></tr>\n",
       "\t<tr><th scope=row>1147</th><td>1</td><td>1</td><td>1</td><td>1</td><td>  1</td><td>   0</td><td>   1</td></tr>\n",
       "\t<tr><th scope=row>36</th><td>1</td><td>1</td><td>1</td><td>1</td><td>  0</td><td>   1</td><td>   1</td></tr>\n",
       "\t<tr><th scope=row>276</th><td>1</td><td>1</td><td>1</td><td>1</td><td>  0</td><td>   0</td><td>   2</td></tr>\n",
       "\t<tr><th scope=row></th><td>0</td><td>0</td><td>0</td><td>0</td><td>312</td><td>1423</td><td>1735</td></tr>\n",
       "</tbody>\n",
       "</table>\n"
      ],
      "text/latex": [
       "A matrix: 5 × 7 of type dbl\n",
       "\\begin{tabular}{r|lllllll}\n",
       "  & gender & race & age & insurance & Weight & Height & \\\\\n",
       "\\hline\n",
       "\t44337 & 1 & 1 & 1 & 1 &   1 &    1 &    0\\\\\n",
       "\t1147 & 1 & 1 & 1 & 1 &   1 &    0 &    1\\\\\n",
       "\t36 & 1 & 1 & 1 & 1 &   0 &    1 &    1\\\\\n",
       "\t276 & 1 & 1 & 1 & 1 &   0 &    0 &    2\\\\\n",
       "\t & 0 & 0 & 0 & 0 & 312 & 1423 & 1735\\\\\n",
       "\\end{tabular}\n"
      ],
      "text/markdown": [
       "\n",
       "A matrix: 5 × 7 of type dbl\n",
       "\n",
       "| <!--/--> | gender | race | age | insurance | Weight | Height | <!----> |\n",
       "|---|---|---|---|---|---|---|---|\n",
       "| 44337 | 1 | 1 | 1 | 1 |   1 |    1 |    0 |\n",
       "| 1147 | 1 | 1 | 1 | 1 |   1 |    0 |    1 |\n",
       "| 36 | 1 | 1 | 1 | 1 |   0 |    1 |    1 |\n",
       "| 276 | 1 | 1 | 1 | 1 |   0 |    0 |    2 |\n",
       "| <!----> | 0 | 0 | 0 | 0 | 312 | 1423 | 1735 |\n",
       "\n"
      ],
      "text/plain": [
       "      gender race age insurance Weight Height     \n",
       "44337 1      1    1   1           1       1      0\n",
       "1147  1      1    1   1           1       0      1\n",
       "36    1      1    1   1           0       1      1\n",
       "276   1      1    1   1           0       0      2\n",
       "      0      0    0   0         312    1423   1735"
      ]
     },
     "metadata": {},
     "output_type": "display_data"
    },
    {
     "name": "stdout",
     "output_type": "stream",
     "text": [
      "\n",
      " iter imp variable\n",
      "  1   1  Height  Weight\n",
      "  1   2  Height  Weight\n",
      "  1   3  Height  Weight\n",
      "  1   4  Height  Weight\n",
      "  1   5  Height  Weight\n",
      "  1   6  Height  Weight\n",
      "  1   7  Height  Weight\n",
      "  1   8  Height  Weight\n",
      "  1   9  Height  Weight\n",
      "  1   10  Height  Weight\n",
      "  2   1  Height  Weight\n",
      "  2   2  Height  Weight\n",
      "  2   3  Height  Weight\n",
      "  2   4  Height  Weight\n",
      "  2   5  Height  Weight\n",
      "  2   6  Height  Weight\n",
      "  2   7  Height  Weight\n",
      "  2   8  Height  Weight\n",
      "  2   9  Height  Weight\n",
      "  2   10  Height  Weight\n",
      "  3   1  Height  Weight\n",
      "  3   2  Height  Weight\n",
      "  3   3  Height  Weight\n",
      "  3   4  Height  Weight\n",
      "  3   5  Height  Weight\n",
      "  3   6  Height  Weight\n",
      "  3   7  Height  Weight\n",
      "  3   8  Height  Weight\n",
      "  3   9  Height  Weight\n",
      "  3   10  Height  Weight\n",
      "  4   1  Height  Weight\n",
      "  4   2  Height  Weight\n",
      "  4   3  Height  Weight\n",
      "  4   4  Height  Weight\n",
      "  4   5  Height  Weight\n",
      "  4   6  Height  Weight\n",
      "  4   7  Height  Weight\n",
      "  4   8  Height  Weight\n",
      "  4   9  Height  Weight\n",
      "  4   10  Height  Weight\n",
      "  5   1  Height  Weight\n",
      "  5   2  Height  Weight\n",
      "  5   3  Height  Weight\n",
      "  5   4  Height  Weight\n",
      "  5   5  Height  Weight\n",
      "  5   6  Height  Weight\n",
      "  5   7  Height  Weight\n",
      "  5   8  Height  Weight\n",
      "  5   9  Height  Weight\n",
      "  5   10  Height  Weight\n",
      "  6   1  Height  Weight\n",
      "  6   2  Height  Weight\n",
      "  6   3  Height  Weight\n",
      "  6   4  Height  Weight\n",
      "  6   5  Height  Weight\n",
      "  6   6  Height  Weight\n",
      "  6   7  Height  Weight\n",
      "  6   8  Height  Weight\n",
      "  6   9  Height  Weight\n",
      "  6   10  Height  Weight\n",
      "  7   1  Height  Weight\n",
      "  7   2  Height  Weight\n",
      "  7   3  Height  Weight\n",
      "  7   4  Height  Weight\n",
      "  7   5  Height  Weight\n",
      "  7   6  Height  Weight\n",
      "  7   7  Height  Weight\n",
      "  7   8  Height  Weight\n",
      "  7   9  Height  Weight\n",
      "  7   10  Height  Weight\n",
      "  8   1  Height  Weight\n",
      "  8   2  Height  Weight\n",
      "  8   3  Height  Weight\n",
      "  8   4  Height  Weight\n",
      "  8   5  Height  Weight\n",
      "  8   6  Height  Weight\n",
      "  8   7  Height  Weight\n",
      "  8   8  Height  Weight\n",
      "  8   9  Height  Weight\n",
      "  8   10  Height  Weight\n",
      "  9   1  Height  Weight\n",
      "  9   2  Height  Weight\n",
      "  9   3  Height  Weight\n",
      "  9   4  Height  Weight\n",
      "  9   5  Height  Weight\n",
      "  9   6  Height  Weight\n",
      "  9   7  Height  Weight\n",
      "  9   8  Height  Weight\n",
      "  9   9  Height  Weight\n",
      "  9   10  Height  Weight\n",
      "  10   1  Height  Weight\n",
      "  10   2  Height  Weight\n",
      "  10   3  Height  Weight\n",
      "  10   4  Height  Weight\n",
      "  10   5  Height  Weight\n",
      "  10   6  Height  Weight\n",
      "  10   7  Height  Weight\n",
      "  10   8  Height  Weight\n",
      "  10   9  Height  Weight\n",
      "  10   10  Height  Weight\n",
      "  11   1  Height  Weight\n",
      "  11   2  Height  Weight\n",
      "  11   3  Height  Weight\n",
      "  11   4  Height  Weight\n",
      "  11   5  Height  Weight\n",
      "  11   6  Height  Weight\n",
      "  11   7  Height  Weight\n",
      "  11   8  Height  Weight\n",
      "  11   9  Height  Weight\n",
      "  11   10  Height  Weight\n",
      "  12   1  Height  Weight\n",
      "  12   2  Height  Weight\n",
      "  12   3  Height  Weight\n",
      "  12   4  Height  Weight\n",
      "  12   5  Height  Weight\n",
      "  12   6  Height  Weight\n",
      "  12   7  Height  Weight\n",
      "  12   8  Height  Weight\n",
      "  12   9  Height  Weight\n",
      "  12   10  Height  Weight\n",
      "  13   1  Height  Weight\n",
      "  13   2  Height  Weight\n",
      "  13   3  Height  Weight\n",
      "  13   4  Height  Weight\n",
      "  13   5  Height  Weight\n",
      "  13   6  Height  Weight\n",
      "  13   7  Height  Weight\n",
      "  13   8  Height  Weight\n",
      "  13   9  Height  Weight\n",
      "  13   10  Height  Weight\n",
      "  14   1  Height  Weight\n",
      "  14   2  Height  Weight\n",
      "  14   3  Height  Weight\n",
      "  14   4  Height  Weight\n",
      "  14   5  Height  Weight\n",
      "  14   6  Height  Weight\n",
      "  14   7  Height  Weight\n",
      "  14   8  Height  Weight\n",
      "  14   9  Height  Weight\n",
      "  14   10  Height  Weight\n",
      "  15   1  Height  Weight\n",
      "  15   2  Height  Weight\n",
      "  15   3  Height  Weight\n",
      "  15   4  Height  Weight\n",
      "  15   5  Height  Weight\n",
      "  15   6  Height  Weight\n",
      "  15   7  Height  Weight\n",
      "  15   8  Height  Weight\n",
      "  15   9  Height  Weight\n",
      "  15   10  Height  Weight\n",
      "  16   1  Height  Weight\n",
      "  16   2  Height  Weight\n",
      "  16   3  Height  Weight\n",
      "  16   4  Height  Weight\n",
      "  16   5  Height  Weight\n",
      "  16   6  Height  Weight\n",
      "  16   7  Height  Weight\n",
      "  16   8  Height  Weight\n",
      "  16   9  Height  Weight\n",
      "  16   10  Height  Weight\n",
      "  17   1  Height  Weight\n",
      "  17   2  Height  Weight\n",
      "  17   3  Height  Weight\n",
      "  17   4  Height  Weight\n",
      "  17   5  Height  Weight\n",
      "  17   6  Height  Weight\n",
      "  17   7  Height  Weight\n",
      "  17   8  Height  Weight\n",
      "  17   9  Height  Weight\n",
      "  17   10  Height  Weight\n",
      "  18   1  Height  Weight\n",
      "  18   2  Height  Weight\n",
      "  18   3  Height  Weight\n",
      "  18   4  Height  Weight\n",
      "  18   5  Height  Weight\n",
      "  18   6  Height  Weight\n",
      "  18   7  Height  Weight\n",
      "  18   8  Height  Weight\n",
      "  18   9  Height  Weight\n",
      "  18   10  Height  Weight\n",
      "  19   1  Height  Weight\n",
      "  19   2  Height  Weight\n",
      "  19   3  Height  Weight\n",
      "  19   4  Height  Weight\n",
      "  19   5  Height  Weight\n",
      "  19   6  Height  Weight\n",
      "  19   7  Height  Weight\n",
      "  19   8  Height  Weight\n",
      "  19   9  Height  Weight\n",
      "  19   10  Height  Weight\n",
      "  20   1  Height  Weight\n",
      "  20   2  Height  Weight\n",
      "  20   3  Height  Weight\n",
      "  20   4  Height  Weight\n",
      "  20   5  Height  Weight\n",
      "  20   6  Height  Weight\n",
      "  20   7  Height  Weight\n",
      "  20   8  Height  Weight\n",
      "  20   9  Height  Weight\n",
      "  20   10  Height  Weight\n",
      "  21   1  Height  Weight\n",
      "  21   2  Height  Weight\n",
      "  21   3  Height  Weight\n",
      "  21   4  Height  Weight\n",
      "  21   5  Height  Weight\n",
      "  21   6  Height  Weight\n",
      "  21   7  Height  Weight\n",
      "  21   8  Height  Weight\n",
      "  21   9  Height  Weight\n",
      "  21   10  Height  Weight\n",
      "  22   1  Height  Weight\n",
      "  22   2  Height  Weight\n",
      "  22   3  Height  Weight\n",
      "  22   4  Height  Weight\n",
      "  22   5  Height  Weight\n",
      "  22   6  Height  Weight\n",
      "  22   7  Height  Weight\n",
      "  22   8  Height  Weight\n",
      "  22   9  Height  Weight\n",
      "  22   10  Height  Weight\n",
      "  23   1  Height  Weight\n",
      "  23   2  Height  Weight\n",
      "  23   3  Height  Weight\n",
      "  23   4  Height  Weight\n",
      "  23   5  Height  Weight\n",
      "  23   6  Height  Weight\n",
      "  23   7  Height  Weight\n",
      "  23   8  Height  Weight\n",
      "  23   9  Height  Weight\n",
      "  23   10  Height  Weight\n",
      "  24   1  Height  Weight\n",
      "  24   2  Height  Weight\n",
      "  24   3  Height  Weight\n",
      "  24   4  Height  Weight\n",
      "  24   5  Height  Weight\n",
      "  24   6  Height  Weight\n",
      "  24   7  Height  Weight\n",
      "  24   8  Height  Weight\n",
      "  24   9  Height  Weight\n",
      "  24   10  Height  Weight\n",
      "  25   1  Height  Weight\n",
      "  25   2  Height  Weight\n",
      "  25   3  Height  Weight\n",
      "  25   4  Height  Weight\n",
      "  25   5  Height  Weight\n",
      "  25   6  Height  Weight\n",
      "  25   7  Height  Weight\n",
      "  25   8  Height  Weight\n",
      "  25   9  Height  Weight\n",
      "  25   10  Height  Weight\n",
      "  26   1  Height  Weight\n",
      "  26   2  Height  Weight\n",
      "  26   3  Height  Weight\n",
      "  26   4  Height  Weight\n",
      "  26   5  Height  Weight\n",
      "  26   6  Height  Weight\n",
      "  26   7  Height  Weight\n",
      "  26   8  Height  Weight\n",
      "  26   9  Height  Weight\n",
      "  26   10  Height  Weight\n",
      "  27   1  Height  Weight\n",
      "  27   2  Height  Weight\n",
      "  27   3  Height  Weight\n",
      "  27   4  Height  Weight\n",
      "  27   5  Height  Weight\n",
      "  27   6  Height  Weight\n",
      "  27   7  Height  Weight\n",
      "  27   8  Height  Weight\n",
      "  27   9  Height  Weight\n",
      "  27   10  Height  Weight\n",
      "  28   1  Height  Weight\n",
      "  28   2  Height  Weight\n",
      "  28   3  Height  Weight\n",
      "  28   4  Height  Weight\n",
      "  28   5  Height  Weight\n",
      "  28   6  Height  Weight\n",
      "  28   7  Height  Weight\n",
      "  28   8  Height  Weight\n",
      "  28   9  Height  Weight\n",
      "  28   10  Height  Weight\n",
      "  29   1  Height  Weight\n",
      "  29   2  Height  Weight\n",
      "  29   3  Height  Weight\n",
      "  29   4  Height  Weight\n",
      "  29   5  Height  Weight\n",
      "  29   6  Height  Weight\n",
      "  29   7  Height  Weight\n",
      "  29   8  Height  Weight\n",
      "  29   9  Height  Weight\n",
      "  29   10  Height  Weight\n",
      "  30   1  Height  Weight\n",
      "  30   2  Height  Weight\n",
      "  30   3  Height  Weight\n",
      "  30   4  Height  Weight\n",
      "  30   5  Height  Weight\n",
      "  30   6  Height  Weight\n",
      "  30   7  Height  Weight\n",
      "  30   8  Height  Weight\n",
      "  30   9  Height  Weight\n",
      "  30   10  Height  Weight\n",
      "  31   1  Height  Weight\n",
      "  31   2  Height  Weight\n",
      "  31   3  Height  Weight\n",
      "  31   4  Height  Weight\n",
      "  31   5  Height  Weight\n",
      "  31   6  Height  Weight\n",
      "  31   7  Height  Weight\n",
      "  31   8  Height  Weight\n",
      "  31   9  Height  Weight\n",
      "  31   10  Height  Weight\n",
      "  32   1  Height  Weight\n",
      "  32   2  Height  Weight\n",
      "  32   3  Height  Weight\n",
      "  32   4  Height  Weight\n",
      "  32   5  Height  Weight\n",
      "  32   6  Height  Weight\n",
      "  32   7  Height  Weight\n",
      "  32   8  Height  Weight\n",
      "  32   9  Height  Weight\n",
      "  32   10  Height  Weight\n",
      "  33   1  Height  Weight\n",
      "  33   2  Height  Weight\n",
      "  33   3  Height  Weight\n",
      "  33   4  Height  Weight\n",
      "  33   5  Height  Weight\n",
      "  33   6  Height  Weight\n",
      "  33   7  Height  Weight\n",
      "  33   8  Height  Weight\n",
      "  33   9  Height  Weight\n",
      "  33   10  Height  Weight\n",
      "  34   1  Height  Weight\n",
      "  34   2  Height  Weight\n",
      "  34   3  Height  Weight\n",
      "  34   4  Height  Weight\n",
      "  34   5  Height  Weight\n",
      "  34   6  Height  Weight\n",
      "  34   7  Height  Weight\n",
      "  34   8  Height  Weight\n",
      "  34   9  Height  Weight\n",
      "  34   10  Height  Weight\n",
      "  35   1  Height  Weight\n",
      "  35   2  Height  Weight\n",
      "  35   3  Height  Weight\n",
      "  35   4  Height  Weight\n",
      "  35   5  Height  Weight\n",
      "  35   6  Height  Weight\n",
      "  35   7  Height  Weight\n",
      "  35   8  Height  Weight\n",
      "  35   9  Height  Weight\n",
      "  35   10  Height  Weight\n",
      "  36   1  Height  Weight\n",
      "  36   2  Height  Weight\n",
      "  36   3  Height  Weight\n",
      "  36   4  Height  Weight\n",
      "  36   5  Height  Weight\n",
      "  36   6  Height  Weight\n",
      "  36   7  Height  Weight\n",
      "  36   8  Height  Weight\n",
      "  36   9  Height  Weight\n",
      "  36   10  Height  Weight\n",
      "  37   1  Height  Weight\n",
      "  37   2  Height  Weight\n",
      "  37   3  Height  Weight\n",
      "  37   4  Height  Weight\n",
      "  37   5  Height  Weight\n",
      "  37   6  Height  Weight\n",
      "  37   7  Height  Weight\n",
      "  37   8  Height  Weight\n",
      "  37   9  Height  Weight\n",
      "  37   10  Height  Weight\n",
      "  38   1  Height  Weight\n",
      "  38   2  Height  Weight\n",
      "  38   3  Height  Weight\n",
      "  38   4  Height  Weight\n",
      "  38   5  Height  Weight\n",
      "  38   6  Height  Weight\n",
      "  38   7  Height  Weight\n",
      "  38   8  Height  Weight\n",
      "  38   9  Height  Weight\n",
      "  38   10  Height  Weight\n",
      "  39   1  Height  Weight\n",
      "  39   2  Height  Weight\n",
      "  39   3  Height  Weight\n",
      "  39   4  Height  Weight\n",
      "  39   5  Height  Weight\n",
      "  39   6  Height  Weight\n",
      "  39   7  Height  Weight\n",
      "  39   8  Height  Weight\n",
      "  39   9  Height  Weight\n",
      "  39   10  Height  Weight\n",
      "  40   1  Height  Weight\n",
      "  40   2  Height  Weight\n",
      "  40   3  Height  Weight\n",
      "  40   4  Height  Weight\n",
      "  40   5  Height  Weight\n",
      "  40   6  Height  Weight\n",
      "  40   7  Height  Weight\n",
      "  40   8  Height  Weight\n",
      "  40   9  Height  Weight\n",
      "  40   10  Height  Weight\n",
      "  41   1  Height  Weight\n",
      "  41   2  Height  Weight\n",
      "  41   3  Height  Weight\n",
      "  41   4  Height  Weight\n",
      "  41   5  Height  Weight\n",
      "  41   6  Height  Weight\n",
      "  41   7  Height  Weight\n",
      "  41   8  Height  Weight\n",
      "  41   9  Height  Weight\n",
      "  41   10  Height  Weight\n",
      "  42   1  Height  Weight\n",
      "  42   2  Height  Weight\n",
      "  42   3  Height  Weight\n",
      "  42   4  Height  Weight\n",
      "  42   5  Height  Weight\n",
      "  42   6  Height  Weight\n",
      "  42   7  Height  Weight\n",
      "  42   8  Height  Weight\n",
      "  42   9  Height  Weight\n",
      "  42   10  Height  Weight\n",
      "  43   1  Height  Weight\n",
      "  43   2  Height  Weight\n",
      "  43   3  Height  Weight\n",
      "  43   4  Height  Weight\n",
      "  43   5  Height  Weight\n",
      "  43   6  Height  Weight\n",
      "  43   7  Height  Weight\n",
      "  43   8  Height  Weight\n",
      "  43   9  Height  Weight\n",
      "  43   10  Height  Weight\n",
      "  44   1  Height  Weight\n",
      "  44   2  Height  Weight\n",
      "  44   3  Height  Weight\n",
      "  44   4  Height  Weight\n",
      "  44   5  Height  Weight\n",
      "  44   6  Height  Weight\n",
      "  44   7  Height  Weight\n",
      "  44   8  Height  Weight\n",
      "  44   9  Height  Weight\n",
      "  44   10  Height  Weight\n",
      "  45   1  Height  Weight\n",
      "  45   2  Height  Weight\n",
      "  45   3  Height  Weight\n",
      "  45   4  Height  Weight\n",
      "  45   5  Height  Weight\n",
      "  45   6  Height  Weight\n",
      "  45   7  Height  Weight\n",
      "  45   8  Height  Weight\n",
      "  45   9  Height  Weight\n",
      "  45   10  Height  Weight\n",
      "  46   1  Height  Weight\n",
      "  46   2  Height  Weight\n",
      "  46   3  Height  Weight\n",
      "  46   4  Height  Weight\n",
      "  46   5  Height  Weight\n",
      "  46   6  Height  Weight\n",
      "  46   7  Height  Weight\n",
      "  46   8  Height  Weight\n",
      "  46   9  Height  Weight\n",
      "  46   10  Height  Weight\n",
      "  47   1  Height  Weight\n",
      "  47   2  Height  Weight\n",
      "  47   3  Height  Weight\n",
      "  47   4  Height  Weight\n",
      "  47   5  Height  Weight\n",
      "  47   6  Height  Weight\n",
      "  47   7  Height  Weight\n",
      "  47   8  Height  Weight\n",
      "  47   9  Height  Weight\n",
      "  47   10  Height  Weight\n",
      "  48   1  Height  Weight\n",
      "  48   2  Height  Weight\n",
      "  48   3  Height  Weight\n",
      "  48   4  Height  Weight\n",
      "  48   5  Height  Weight\n",
      "  48   6  Height  Weight\n",
      "  48   7  Height  Weight\n",
      "  48   8  Height  Weight\n",
      "  48   9  Height  Weight\n",
      "  48   10  Height  Weight\n",
      "  49   1  Height  Weight\n",
      "  49   2  Height  Weight\n",
      "  49   3  Height  Weight\n",
      "  49   4  Height  Weight\n",
      "  49   5  Height  Weight\n",
      "  49   6  Height  Weight\n",
      "  49   7  Height  Weight\n",
      "  49   8  Height  Weight\n",
      "  49   9  Height  Weight\n",
      "  49   10  Height  Weight\n",
      "  50   1  Height  Weight\n",
      "  50   2  Height  Weight\n",
      "  50   3  Height  Weight\n",
      "  50   4  Height  Weight\n",
      "  50   5  Height  Weight\n",
      "  50   6  Height  Weight\n",
      "  50   7  Height  Weight\n",
      "  50   8  Height  Weight\n",
      "  50   9  Height  Weight\n",
      "  50   10  Height  Weight\n"
     ]
    },
    {
     "name": "stderr",
     "output_type": "stream",
     "text": [
      "Warning message:\n",
      "“Number of logged events: 2”\n"
     ]
    },
    {
     "data": {
      "image/png": "[encoded data removed]",
      "text/plain": [
       "plot without title"
      ]
     },
     "metadata": {
      "image/png": {
       "height": 300,
       "width": 540
      }
     },
     "output_type": "display_data"
    }
   ],
   "source": [
    "# this takes awhile(~2min), set seed = 123\n",
    "# only impute 3 time, predictive mean matching\n",
    "\n",
    "cohort_hw <- cohort %>% select(gender, race, age, insurance, Height, Weight)\n",
    "\n",
    "md.pattern(cohort_hw)\n",
    "hw_mice <- mice(cohort_hw, m=10, maxit=50, meth='pmm', seed=123)"
   ]
  },
  {
   "cell_type": "code",
   "execution_count": 50,
   "metadata": {},
   "outputs": [
    {
     "name": "stderr",
     "output_type": "stream",
     "text": [
      "Warning message in plot.aggr(res, ...):\n",
      "“not enough horizontal space to display frequencies”\n"
     ]
    },
    {
     "name": "stdout",
     "output_type": "stream",
     "text": [
      "\n",
      " Variables sorted by number of missings: \n",
      "  Variable       Count\n",
      "    Height 0.031072583\n",
      "    Weight 0.006812822\n",
      "    gender 0.000000000\n",
      "      race 0.000000000\n",
      "       age 0.000000000\n",
      " insurance 0.000000000\n"
     ]
    },
    {
     "data": {
      "image/png": "[encoded data removed]",
      "text/plain": [
       "plot without title"
      ]
     },
     "metadata": {
      "image/png": {
       "height": 300,
       "width": 540
      }
     },
     "output_type": "display_data"
    }
   ],
   "source": [
    "options(repr.plot.width=9, repr.plot.height=5)\n",
    "aggr_plot <- aggr(cohort_hw, col=c('navyblue','red'), numbers=TRUE, sortVars=TRUE, \n",
    "                  labels=names(cohort_hw), cex.axis=.7, gap=3, ylab=c(\"Histogram of missing data\",\"Pattern\"))"
   ]
  },
  {
   "cell_type": "code",
   "execution_count": 33,
   "metadata": {
    "ExecuteTime": {
     "end_time": "2020-05-21T00:43:18.194040Z",
     "start_time": "2020-05-21T00:43:18.149Z"
    }
   },
   "outputs": [
    {
     "data": {
      "text/plain": [
       "    gender              race                age          insurance     \n",
       " Length:45796       Length:45796       Min.   :18.00   Min.   :0.0000  \n",
       " Class :character   Class :character   1st Qu.:44.00   1st Qu.:0.0000  \n",
       " Mode  :character   Mode  :character   Median :60.00   Median :0.0000  \n",
       "                                       Mean   :58.28   Mean   :0.4192  \n",
       "                                       3rd Qu.:73.00   3rd Qu.:1.0000  \n",
       "                                       Max.   :90.00   Max.   :1.0000  \n",
       "     Height          Weight      \n",
       " Min.   :115.0   Min.   : 20.50  \n",
       " 1st Qu.:160.0   1st Qu.: 61.00  \n",
       " Median :168.0   Median : 73.30  \n",
       " Mean   :168.2   Mean   : 76.92  \n",
       " 3rd Qu.:175.3   3rd Qu.: 88.00  \n",
       " Max.   :213.0   Max.   :320.69  "
      ]
     },
     "metadata": {},
     "output_type": "display_data"
    },
    {
     "data": {
      "text/html": [
       "<style>\n",
       ".list-inline {list-style: none; margin:0; padding: 0}\n",
       ".list-inline>li {display: inline-block}\n",
       ".list-inline>li:not(:last-child)::after {content: \"\\00b7\"; padding: 0 .5ex}\n",
       "</style>\n",
       "<ol class=list-inline><li>'gender'</li><li>'race'</li><li>'age'</li><li>'insurance'</li><li>'Height'</li><li>'Weight'</li></ol>\n"
      ],
      "text/latex": [
       "\\begin{enumerate*}\n",
       "\\item 'gender'\n",
       "\\item 'race'\n",
       "\\item 'age'\n",
       "\\item 'insurance'\n",
       "\\item 'Height'\n",
       "\\item 'Weight'\n",
       "\\end{enumerate*}\n"
      ],
      "text/markdown": [
       "1. 'gender'\n",
       "2. 'race'\n",
       "3. 'age'\n",
       "4. 'insurance'\n",
       "5. 'Height'\n",
       "6. 'Weight'\n",
       "\n",
       "\n"
      ],
      "text/plain": [
       "[1] \"gender\"    \"race\"      \"age\"       \"insurance\" \"Height\"    \"Weight\"   "
      ]
     },
     "metadata": {},
     "output_type": "display_data"
    }
   ],
   "source": [
    "# note: no pooling of results from analysis of multiply imputed dataset\n",
    "# chose the 2nd set. can also do a random number each time\n",
    "\n",
    "hw_mice2 <- complete(hw_mice, 2)\n",
    "summary(hw_mice2)\n",
    "colnames(hw_mice2)"
   ]
  },
  {
   "cell_type": "code",
   "execution_count": 34,
   "metadata": {},
   "outputs": [
    {
     "data": {
      "text/html": [
       "45796"
      ],
      "text/latex": [
       "45796"
      ],
      "text/markdown": [
       "45796"
      ],
      "text/plain": [
       "[1] 45796"
      ]
     },
     "metadata": {},
     "output_type": "display_data"
    },
    {
     "data": {
      "text/html": [
       "<style>\n",
       ".list-inline {list-style: none; margin:0; padding: 0}\n",
       ".list-inline>li {display: inline-block}\n",
       ".list-inline>li:not(:last-child)::after {content: \"\\00b7\"; padding: 0 .5ex}\n",
       "</style>\n",
       "<ol class=list-inline><li>'anon_id'</li><li>'pat_enc_csn_id_coded'</li><li>'label'</li><li>'admit_time'</li><li>'inpatient_data_id_coded'</li><li>'ESI'</li><li>'gender'</li><li>'race'</li><li>'insurance'</li><li>'age'</li><li>'English'</li><li>'Height'</li><li>'Weight'</li><li>'Height_i'</li><li>'Weight_i'</li></ol>\n"
      ],
      "text/latex": [
       "\\begin{enumerate*}\n",
       "\\item 'anon\\_id'\n",
       "\\item 'pat\\_enc\\_csn\\_id\\_coded'\n",
       "\\item 'label'\n",
       "\\item 'admit\\_time'\n",
       "\\item 'inpatient\\_data\\_id\\_coded'\n",
       "\\item 'ESI'\n",
       "\\item 'gender'\n",
       "\\item 'race'\n",
       "\\item 'insurance'\n",
       "\\item 'age'\n",
       "\\item 'English'\n",
       "\\item 'Height'\n",
       "\\item 'Weight'\n",
       "\\item 'Height\\_i'\n",
       "\\item 'Weight\\_i'\n",
       "\\end{enumerate*}\n"
      ],
      "text/markdown": [
       "1. 'anon_id'\n",
       "2. 'pat_enc_csn_id_coded'\n",
       "3. 'label'\n",
       "4. 'admit_time'\n",
       "5. 'inpatient_data_id_coded'\n",
       "6. 'ESI'\n",
       "7. 'gender'\n",
       "8. 'race'\n",
       "9. 'insurance'\n",
       "10. 'age'\n",
       "11. 'English'\n",
       "12. 'Height'\n",
       "13. 'Weight'\n",
       "14. 'Height_i'\n",
       "15. 'Weight_i'\n",
       "\n",
       "\n"
      ],
      "text/plain": [
       " [1] \"anon_id\"                 \"pat_enc_csn_id_coded\"   \n",
       " [3] \"label\"                   \"admit_time\"             \n",
       " [5] \"inpatient_data_id_coded\" \"ESI\"                    \n",
       " [7] \"gender\"                  \"race\"                   \n",
       " [9] \"insurance\"               \"age\"                    \n",
       "[11] \"English\"                 \"Height\"                 \n",
       "[13] \"Weight\"                  \"Height_i\"               \n",
       "[15] \"Weight_i\"               "
      ]
     },
     "metadata": {},
     "output_type": "display_data"
    }
   ],
   "source": [
    "nrow(hw_mice2) #45796\n",
    "\n",
    "# here: keep bind the old set with the imputed set, just to compare\n",
    "hw_mice2name <- hw_mice2 %>% select(Height, Weight) %>% \n",
    "                    rename(Height_i = Height, Weight_i = Weight)\n",
    "\n",
    "cohort_HWimputed2 <- bind_cols(cohort, hw_mice2name) \n",
    "colnames(cohort_HWimputed2)"
   ]
  },
  {
   "cell_type": "code",
   "execution_count": 35,
   "metadata": {},
   "outputs": [
    {
     "data": {
      "text/html": [
       "<table class=\"dataframe\">\n",
       "<caption>A data.frame: 1 × 15</caption>\n",
       "<thead>\n",
       "\t<tr><th></th><th scope=col>anon_id</th><th scope=col>pat_enc_csn_id_coded</th><th scope=col>label</th><th scope=col>admit_time</th><th scope=col>inpatient_data_id_coded</th><th scope=col>ESI</th><th scope=col>gender</th><th scope=col>race</th><th scope=col>insurance</th><th scope=col>age</th><th scope=col>English</th><th scope=col>Height</th><th scope=col>Weight</th><th scope=col>Height_i</th><th scope=col>Weight_i</th></tr>\n",
       "\t<tr><th></th><th scope=col>&lt;chr&gt;</th><th scope=col>&lt;dbl&gt;</th><th scope=col>&lt;int&gt;</th><th scope=col>&lt;chr&gt;</th><th scope=col>&lt;int&gt;</th><th scope=col>&lt;int&gt;</th><th scope=col>&lt;chr&gt;</th><th scope=col>&lt;chr&gt;</th><th scope=col>&lt;int&gt;</th><th scope=col>&lt;int&gt;</th><th scope=col>&lt;int&gt;</th><th scope=col>&lt;dbl&gt;</th><th scope=col>&lt;dbl&gt;</th><th scope=col>&lt;dbl&gt;</th><th scope=col>&lt;dbl&gt;</th></tr>\n",
       "</thead>\n",
       "<tbody>\n",
       "\t<tr><th scope=row>1</th><td>JC29f8ad2</td><td>131274729058</td><td>0</td><td>2019-08-31 12:52:00</td><td>40679773</td><td>3</td><td>Female</td><td>White</td><td>1</td><td>52</td><td>1</td><td>165</td><td>81</td><td>165</td><td>81</td></tr>\n",
       "</tbody>\n",
       "</table>\n"
      ],
      "text/latex": [
       "A data.frame: 1 × 15\n",
       "\\begin{tabular}{r|lllllllllllllll}\n",
       "  & anon\\_id & pat\\_enc\\_csn\\_id\\_coded & label & admit\\_time & inpatient\\_data\\_id\\_coded & ESI & gender & race & insurance & age & English & Height & Weight & Height\\_i & Weight\\_i\\\\\n",
       "  & <chr> & <dbl> & <int> & <chr> & <int> & <int> & <chr> & <chr> & <int> & <int> & <int> & <dbl> & <dbl> & <dbl> & <dbl>\\\\\n",
       "\\hline\n",
       "\t1 & JC29f8ad2 & 131274729058 & 0 & 2019-08-31 12:52:00 & 40679773 & 3 & Female & White & 1 & 52 & 1 & 165 & 81 & 165 & 81\\\\\n",
       "\\end{tabular}\n"
      ],
      "text/markdown": [
       "\n",
       "A data.frame: 1 × 15\n",
       "\n",
       "| <!--/--> | anon_id &lt;chr&gt; | pat_enc_csn_id_coded &lt;dbl&gt; | label &lt;int&gt; | admit_time &lt;chr&gt; | inpatient_data_id_coded &lt;int&gt; | ESI &lt;int&gt; | gender &lt;chr&gt; | race &lt;chr&gt; | insurance &lt;int&gt; | age &lt;int&gt; | English &lt;int&gt; | Height &lt;dbl&gt; | Weight &lt;dbl&gt; | Height_i &lt;dbl&gt; | Weight_i &lt;dbl&gt; |\n",
       "|---|---|---|---|---|---|---|---|---|---|---|---|---|---|---|---|\n",
       "| 1 | JC29f8ad2 | 131274729058 | 0 | 2019-08-31 12:52:00 | 40679773 | 3 | Female | White | 1 | 52 | 1 | 165 | 81 | 165 | 81 |\n",
       "\n"
      ],
      "text/plain": [
       "  anon_id   pat_enc_csn_id_coded label admit_time         \n",
       "1 JC29f8ad2 131274729058         0     2019-08-31 12:52:00\n",
       "  inpatient_data_id_coded ESI gender race  insurance age English Height Weight\n",
       "1 40679773                3   Female White 1         52  1       165    81    \n",
       "  Height_i Weight_i\n",
       "1 165      81      "
      ]
     },
     "metadata": {},
     "output_type": "display_data"
    }
   ],
   "source": [
    "head(cohort_HWimputed2, n=1)"
   ]
  },
  {
   "cell_type": "code",
   "execution_count": 36,
   "metadata": {},
   "outputs": [],
   "source": [
    "# 2 = we have both the original values and the imputed values in this same dataset, \n",
    "# but it doesn't have the indicators of missingness\n",
    "cohort_HWimputed2 <- cohort_HWimputed2 %>% \n",
    "                        select(c(anon_id, pat_enc_csn_id_coded, inpatient_data_id_coded, label, admit_time, ESI, \n",
    "                                 gender, race, age, insurance, English, Height, Height_i, Weight, Weight_i))"
   ]
  },
  {
   "cell_type": "code",
   "execution_count": 37,
   "metadata": {},
   "outputs": [
    {
     "data": {
      "text/plain": [
       "    delta_H           delta_W        \n",
       " Min.   :0.00000   Min.   :0.000000  \n",
       " 1st Qu.:0.00000   1st Qu.:0.000000  \n",
       " Median :0.00000   Median :0.000000  \n",
       " Mean   :0.03107   Mean   :0.006813  \n",
       " 3rd Qu.:0.00000   3rd Qu.:0.000000  \n",
       " Max.   :1.00000   Max.   :1.000000  "
      ]
     },
     "metadata": {},
     "output_type": "display_data"
    },
    {
     "data": {
      "text/html": [
       "<style>\n",
       ".list-inline {list-style: none; margin:0; padding: 0}\n",
       ".list-inline>li {display: inline-block}\n",
       ".list-inline>li:not(:last-child)::after {content: \"\\00b7\"; padding: 0 .5ex}\n",
       "</style>\n",
       "<ol class=list-inline><li>'anon_id'</li><li>'pat_enc_csn_id_coded'</li><li>'inpatient_data_id_coded'</li><li>'label'</li><li>'admit_time'</li><li>'ESI'</li><li>'gender'</li><li>'race'</li><li>'age'</li><li>'insurance'</li><li>'English'</li><li>'Height_i'</li><li>'Weight_i'</li><li>'delta_H'</li><li>'delta_W'</li></ol>\n"
      ],
      "text/latex": [
       "\\begin{enumerate*}\n",
       "\\item 'anon\\_id'\n",
       "\\item 'pat\\_enc\\_csn\\_id\\_coded'\n",
       "\\item 'inpatient\\_data\\_id\\_coded'\n",
       "\\item 'label'\n",
       "\\item 'admit\\_time'\n",
       "\\item 'ESI'\n",
       "\\item 'gender'\n",
       "\\item 'race'\n",
       "\\item 'age'\n",
       "\\item 'insurance'\n",
       "\\item 'English'\n",
       "\\item 'Height\\_i'\n",
       "\\item 'Weight\\_i'\n",
       "\\item 'delta\\_H'\n",
       "\\item 'delta\\_W'\n",
       "\\end{enumerate*}\n"
      ],
      "text/markdown": [
       "1. 'anon_id'\n",
       "2. 'pat_enc_csn_id_coded'\n",
       "3. 'inpatient_data_id_coded'\n",
       "4. 'label'\n",
       "5. 'admit_time'\n",
       "6. 'ESI'\n",
       "7. 'gender'\n",
       "8. 'race'\n",
       "9. 'age'\n",
       "10. 'insurance'\n",
       "11. 'English'\n",
       "12. 'Height_i'\n",
       "13. 'Weight_i'\n",
       "14. 'delta_H'\n",
       "15. 'delta_W'\n",
       "\n",
       "\n"
      ],
      "text/plain": [
       " [1] \"anon_id\"                 \"pat_enc_csn_id_coded\"   \n",
       " [3] \"inpatient_data_id_coded\" \"label\"                  \n",
       " [5] \"admit_time\"              \"ESI\"                    \n",
       " [7] \"gender\"                  \"race\"                   \n",
       " [9] \"age\"                     \"insurance\"              \n",
       "[11] \"English\"                 \"Height_i\"               \n",
       "[13] \"Weight_i\"                \"delta_H\"                \n",
       "[15] \"delta_W\"                "
      ]
     },
     "metadata": {},
     "output_type": "display_data"
    }
   ],
   "source": [
    "# only keep the imputed versions of Height and Weight and add indicators\n",
    "cohort_HWimputed <- cohort_HWimputed2 %>% \n",
    "                        mutate(delta_H = ifelse(is.na(Height), 1, 0),\n",
    "                               delta_W = ifelse(is.na(Weight), 1, 0)) %>%\n",
    "                        select(-c(Height, Weight))\n",
    "\n",
    "summary(cohort_HWimputed %>% select(delta_H, delta_W))\n",
    "colnames(cohort_HWimputed)"
   ]
  },
  {
   "cell_type": "markdown",
   "metadata": {},
   "source": [
    "### Imputation for ESI\n",
    "ESI -- from acuity_level encounter table\n",
    "- use first vital values from vitals_clean to impute ESI\n",
    "- this require the vitals_clean dataset to be done\n",
    "- before: use cohort with at least 1 vs --> change: use cohort with a complete set of vs --> simple and complex models\n",
    "- vs1st_complete.csv is already updated"
   ]
  },
  {
   "cell_type": "code",
   "execution_count": 52,
   "metadata": {},
   "outputs": [
    {
     "data": {
      "text/html": [
       "45796"
      ],
      "text/latex": [
       "45796"
      ],
      "text/markdown": [
       "45796"
      ],
      "text/plain": [
       "[1] 45796"
      ]
     },
     "metadata": {},
     "output_type": "display_data"
    },
    {
     "data": {
      "text/plain": [
       "   Min. 1st Qu.  Median    Mean 3rd Qu.    Max.    NA's \n",
       "  1.000   2.000   3.000   2.654   3.000   5.000    1861 "
      ]
     },
     "metadata": {},
     "output_type": "display_data"
    },
    {
     "data": {
      "text/plain": [
       "$gender\n",
       "\n",
       "Female   Male \n",
       " 21898  23898 \n",
       "\n",
       "$race\n",
       "\n",
       "           Asian            Black  Native American            Other \n",
       "            6871             3260              195            10510 \n",
       "Pacific Islander          Unknown            White \n",
       "             930              424            23606 \n"
      ]
     },
     "metadata": {},
     "output_type": "display_data"
    },
    {
     "data": {
      "image/png": "[encoded data removed]",
      "text/plain": [
       "Plot with title “Histogram of cohort_HWimputed$ESI”"
      ]
     },
     "metadata": {
      "image/png": {
       "height": 300,
       "width": 300
      }
     },
     "output_type": "display_data"
    }
   ],
   "source": [
    "# missing ESI: 1861 (4.06%)\n",
    "options(repr.plot.width=5, repr.plot.height=5)\n",
    "\n",
    "nrow(cohort_HWimputed)\n",
    "summary(cohort_HWimputed$ESI)\n",
    "apply(cohort_HWimputed[c(\"gender\", \"race\")], 2, table)\n",
    "hist(cohort_HWimputed$ESI)"
   ]
  },
  {
   "cell_type": "code",
   "execution_count": 53,
   "metadata": {},
   "outputs": [
    {
     "data": {
      "text/html": [
       "<table class=\"dataframe\">\n",
       "<caption>A grouped_df: 12 × 4</caption>\n",
       "<thead>\n",
       "\t<tr><th scope=col>ESI</th><th scope=col>label</th><th scope=col>n</th><th scope=col>p</th></tr>\n",
       "\t<tr><th scope=col>&lt;int&gt;</th><th scope=col>&lt;int&gt;</th><th scope=col>&lt;int&gt;</th><th scope=col>&lt;dbl&gt;</th></tr>\n",
       "</thead>\n",
       "<tbody>\n",
       "\t<tr><td> 1</td><td>0</td><td>  122</td><td>22.85</td></tr>\n",
       "\t<tr><td> 1</td><td>1</td><td>  412</td><td>77.15</td></tr>\n",
       "\t<tr><td> 2</td><td>0</td><td>11499</td><td>78.80</td></tr>\n",
       "\t<tr><td> 2</td><td>1</td><td> 3094</td><td>21.20</td></tr>\n",
       "\t<tr><td> 3</td><td>0</td><td>26403</td><td>93.01</td></tr>\n",
       "\t<tr><td> 3</td><td>1</td><td> 1983</td><td> 6.99</td></tr>\n",
       "\t<tr><td> 4</td><td>0</td><td>  366</td><td>90.15</td></tr>\n",
       "\t<tr><td> 4</td><td>1</td><td>   40</td><td> 9.85</td></tr>\n",
       "\t<tr><td> 5</td><td>0</td><td>   15</td><td>93.75</td></tr>\n",
       "\t<tr><td> 5</td><td>1</td><td>    1</td><td> 6.25</td></tr>\n",
       "\t<tr><td>NA</td><td>0</td><td> 1021</td><td>54.86</td></tr>\n",
       "\t<tr><td>NA</td><td>1</td><td>  840</td><td>45.14</td></tr>\n",
       "</tbody>\n",
       "</table>\n"
      ],
      "text/latex": [
       "A grouped\\_df: 12 × 4\n",
       "\\begin{tabular}{llll}\n",
       " ESI & label & n & p\\\\\n",
       " <int> & <int> & <int> & <dbl>\\\\\n",
       "\\hline\n",
       "\t  1 & 0 &   122 & 22.85\\\\\n",
       "\t  1 & 1 &   412 & 77.15\\\\\n",
       "\t  2 & 0 & 11499 & 78.80\\\\\n",
       "\t  2 & 1 &  3094 & 21.20\\\\\n",
       "\t  3 & 0 & 26403 & 93.01\\\\\n",
       "\t  3 & 1 &  1983 &  6.99\\\\\n",
       "\t  4 & 0 &   366 & 90.15\\\\\n",
       "\t  4 & 1 &    40 &  9.85\\\\\n",
       "\t  5 & 0 &    15 & 93.75\\\\\n",
       "\t  5 & 1 &     1 &  6.25\\\\\n",
       "\t NA & 0 &  1021 & 54.86\\\\\n",
       "\t NA & 1 &   840 & 45.14\\\\\n",
       "\\end{tabular}\n"
      ],
      "text/markdown": [
       "\n",
       "A grouped_df: 12 × 4\n",
       "\n",
       "| ESI &lt;int&gt; | label &lt;int&gt; | n &lt;int&gt; | p &lt;dbl&gt; |\n",
       "|---|---|---|---|\n",
       "|  1 | 0 |   122 | 22.85 |\n",
       "|  1 | 1 |   412 | 77.15 |\n",
       "|  2 | 0 | 11499 | 78.80 |\n",
       "|  2 | 1 |  3094 | 21.20 |\n",
       "|  3 | 0 | 26403 | 93.01 |\n",
       "|  3 | 1 |  1983 |  6.99 |\n",
       "|  4 | 0 |   366 | 90.15 |\n",
       "|  4 | 1 |    40 |  9.85 |\n",
       "|  5 | 0 |    15 | 93.75 |\n",
       "|  5 | 1 |     1 |  6.25 |\n",
       "| NA | 0 |  1021 | 54.86 |\n",
       "| NA | 1 |   840 | 45.14 |\n",
       "\n"
      ],
      "text/plain": [
       "   ESI label n     p    \n",
       "1   1  0       122 22.85\n",
       "2   1  1       412 77.15\n",
       "3   2  0     11499 78.80\n",
       "4   2  1      3094 21.20\n",
       "5   3  0     26403 93.01\n",
       "6   3  1      1983  6.99\n",
       "7   4  0       366 90.15\n",
       "8   4  1        40  9.85\n",
       "9   5  0        15 93.75\n",
       "10  5  1         1  6.25\n",
       "11 NA  0      1021 54.86\n",
       "12 NA  1       840 45.14"
      ]
     },
     "metadata": {},
     "output_type": "display_data"
    }
   ],
   "source": [
    "# missing ESI per label\n",
    "cohort %>% group_by(ESI, label) %>% count() %>% group_by(ESI) %>% mutate(p = round(100* n/sum(n), 2))"
   ]
  },
  {
   "cell_type": "raw",
   "metadata": {},
   "source": [
    "# cohort_HWimputed %>% group_by(ESI) %>% count(label_max24) # --> convert NA\n",
    "cohort %>% group_by(ESI, label_max24) %>%\n",
    "                summarise(n_esi = n()) %>%\n",
    "                ungroup() %>% \n",
    "                mutate(percent = 100*n_esi/sum(n_esi)) %>%\n",
    "                select(ESI, label = label_max24, n_esi, percent)"
   ]
  },
  {
   "cell_type": "markdown",
   "metadata": {},
   "source": [
    "#### NEED vs1st_complete dataset, get from vitals notebook"
   ]
  },
  {
   "cell_type": "code",
   "execution_count": null,
   "metadata": {},
   "outputs": [],
   "source": [
    "# use the vs1st_complete.csv --> 41654, better cohort for imputation\n",
    "# if use vs1st.csv with GCS we have 43320, but remove these so only 43291\n",
    "vs1st <- read.csv(file.path(datadir, \"vs1st.csv\"))\n",
    "\n",
    "# vs1st <- read.csv(file.path(datadir, \"vs1st_complete.csv\"))\n",
    "nrow(vs1st)\n",
    "\n",
    "# this demo is not the same demo read from demographics, same as cohort_demo_imputed as above\n",
    "demo <- read.csv(file.path(datadir, \"cohort_demo_imputedHW.csv\"))\n",
    "nrow(demo)"
   ]
  },
  {
   "cell_type": "code",
   "execution_count": null,
   "metadata": {},
   "outputs": [],
   "source": [
    "# vs1wide <- vs1st %>% spread(features, first_val) %>% select(-GCS) # then need to filter out all NA as below\n",
    "# vs1wide <- vs1wide %>% filter_at(vars(DBP, Pulse, RR, SBP, SpO2, Temp), any_vars(!is.na(.)))\n",
    "\n",
    "# remove GCS (not many), and turn wide format for imputation\n",
    "vs1wide <- vs1st %>% filter(features != \"GCS\") %>% spread(features, first_val)\n",
    "head(vs1wide)\n",
    "nrow(vs1wide) # 43291 --> now 41654 for complete set of VS with final cohort\n",
    "nrow(vs1wide %>% filter_all(all_vars(is.na(.)))) # number of rows that have all NA\n",
    "nrow(vs1wide %>% drop_na()) # number of rows that have no NA (complete cases) accross all cols"
   ]
  },
  {
   "cell_type": "code",
   "execution_count": null,
   "metadata": {},
   "outputs": [],
   "source": [
    "colnames(demo)"
   ]
  },
  {
   "cell_type": "code",
   "execution_count": null,
   "metadata": {},
   "outputs": [],
   "source": [
    "vs1demo <- left_join(vs1wide, demo)\n",
    "nrow(vs1demo)\n",
    "head(vs1demo)\n",
    "colnames(vs1demo)"
   ]
  },
  {
   "cell_type": "code",
   "execution_count": null,
   "metadata": {},
   "outputs": [],
   "source": [
    "summary(vs1demo) # missing 1665 ESI"
   ]
  },
  {
   "cell_type": "code",
   "execution_count": null,
   "metadata": {},
   "outputs": [],
   "source": [
    "# this chunk takes a while (~ 5min)\n",
    "# m refers to the number of imputed datasets. Five is the default --> takes too long\n",
    "# meth='pmm' refers to the imputation method, predictive mean matching\n",
    "# complete(, returns the 2nd completed data set)\n",
    "vs1demo_imp <- vs1demo %>% select(ESI, gender, race, age, medis, Height_i, Weight_i, SBP, DBP, Pulse, RR, SpO2, Temp)\n",
    "\n",
    "md.pattern(vs1demo_imp)\n",
    "vs1demo_mice <- mice(vs1demo_imp, m=3, maxit=50, meth='pmm', seed=123)\n",
    "vs1demo_imp2 <- complete(vs1demo_mice, 2)"
   ]
  },
  {
   "cell_type": "code",
   "execution_count": null,
   "metadata": {},
   "outputs": [],
   "source": [
    "summary(vs1demo_imp2)"
   ]
  },
  {
   "cell_type": "code",
   "execution_count": null,
   "metadata": {},
   "outputs": [],
   "source": [
    "# rename the imputed variables from the imputed data set with an added _i\n",
    "# not doing this: SBP_i=SBP, DBP_i=DBP, Pulse_i=Pulse, RR_i=RR, SpO2_i=SpO2, Temp_i=Temp\n",
    "vs1demo_imp_name <- vs1demo_imp2 %>% select(ESI_i=ESI) \n",
    "\n",
    "# bind the imputed ESI with the original data and add a missing indicator for ESI\n",
    "vs1demo_all <- bind_cols(vs1demo, vs1demo_imp_name) %>% mutate(delta_ESI = ifelse(is.na(ESI), 1, 0))\n",
    "colnames(vs1demo_all)"
   ]
  },
  {
   "cell_type": "raw",
   "metadata": {},
   "source": [
    "# indicator colums for variables with missing values: turn missing to 1 and not missing to 0, then rename these variables\n",
    "# do this when there are multiple cols\n",
    "missing <- function(x) ifelse(is.na(x), 1, 0)\n",
    "vs1demo_ind <- vs1demo_all %>% mutate_at(.vars = vars(ESI, SBP, DBP, Pulse, RR, SpO2, Temp), .funs = missing) %>%\n",
    "                    rename(vs1demo_ind, delta_ESI=ESI, delta_SBP=SBP, delta_DBP=DBP, \n",
    "                           delta_Pulse=Pulse, delta_RR=RR, delta_SpO2=SpO2, delta_Temp=Temp)\n",
    "# colnames(vs1demo_ind) <- c('anon_id','pat_enc_csn_id_coded', \n",
    "#                            'delta_DBP','delta_Pulse', 'delta_RR', 'delta_SBP', 'delta_SpO2','delta_Temp',\n",
    "#                            'inpatient_data_id_coded', 'label_max24', 'admit_time', 'delta_ESI', \n",
    "#                            'gender', 'race','age', 'medis', 'English', \n",
    "#                            'Height_i', 'Weight_i', 'delta_H', 'delta_W', 'ESI_i', \n",
    "#                            'SBP_i', 'DBP_i', 'Pulse_i', 'RR_i', 'SpO2_i', 'Temp_i')"
   ]
  },
  {
   "cell_type": "code",
   "execution_count": null,
   "metadata": {},
   "outputs": [],
   "source": [
    "dim(vs1demo_all)\n",
    "head(vs1demo_all %>% filter(delta_ESI ==1))"
   ]
  },
  {
   "cell_type": "code",
   "execution_count": null,
   "metadata": {},
   "outputs": [],
   "source": [
    "# rearrange all the columns \n",
    "cohort_demo <- vs1demo_all %>% select(anon_id, pat_enc_csn_id_coded, inpatient_data_id_coded, label_max24, admit_time, \n",
    "                                      ESI_i, delta_ESI, gender, race, age, medis, English,  \n",
    "                                      Height_i, delta_H, Weight_i, delta_W,\n",
    "                                      SBP, DBP, Pulse, RR, SpO2, Temp)\n",
    "dim(cohort_demo)"
   ]
  },
  {
   "cell_type": "raw",
   "metadata": {},
   "source": [
    "# checking 3 patient, missign ESI, missing all vs except temp, and missing RR\n",
    "# cohort_demo %>% filter(pat_enc_csn_id_coded %in% c(131269803765, 131242423389, 131213936508))"
   ]
  },
  {
   "cell_type": "markdown",
   "metadata": {},
   "source": [
    "### One hot coding for gender and race\n",
    "* Gender: simply 1 for female and 0 for male\n",
    "* Race: one-hot coding as usual"
   ]
  },
  {
   "cell_type": "code",
   "execution_count": null,
   "metadata": {},
   "outputs": [],
   "source": [
    "# 1 for female and 0 for male:\n",
    "cohort_demo <- cohort_demo %>% mutate(gender = ifelse(gender == \"Male\", 0, 1),\n",
    "                                      race =  as.factor(race))\n",
    "summary(cohort_demo %>% select(gender, race))"
   ]
  },
  {
   "cell_type": "code",
   "execution_count": null,
   "metadata": {},
   "outputs": [],
   "source": [
    "# onehot coding for race:\n",
    "dummy <- dummyVars(~ race, data = cohort_demo) # if more ! gender + race\n",
    "race_1hot <- data.frame(predict(dummy, newdata = cohort_demo))\n",
    "cohort_demo <-  cohort_demo %>% select(-race) %>% bind_cols(race_1hot)\n",
    "ncol(cohort_demo)"
   ]
  },
  {
   "cell_type": "code",
   "execution_count": null,
   "metadata": {},
   "outputs": [],
   "source": [
    "summary(cohort_demo)"
   ]
  },
  {
   "cell_type": "code",
   "execution_count": null,
   "metadata": {},
   "outputs": [],
   "source": [
    "nrow(cohort_demo)\n",
    "head(cohort_demo, n=3)"
   ]
  },
  {
   "cell_type": "code",
   "execution_count": null,
   "metadata": {},
   "outputs": [],
   "source": [
    "# save file: all ESI (and first_val of vital signs imputed)\n",
    "write.csv(cohort_demo, file.path(datadir, \"cohort_demo_final.csv\"), row.names=FALSE)\n",
    "\n",
    "# this is the correct new cohort with at least one component of vital signs\n",
    "# cohort_has_vs <- cohort_demo %>% select(anon_id, pat_enc_csn_id_coded, inpatient_data_id_coded, label_max24, admit_time)\n",
    "\n",
    "# nrow(cohort_has_vs)\n",
    "# write.csv(cohort_has_vs, file.path(datadir, \"cohort_has_vs.csv\"), row.names=FALSE)"
   ]
  },
  {
   "cell_type": "raw",
   "metadata": {},
   "source": [
    "# cohort without ESI:\n",
    "cohort <- read.csv(file.path(datadir, \"cohort_final.csv\"))\n",
    "nrow(cohort)\n",
    "nrow(cohort %>% distinct(anon_id))\n",
    "noESI <- vs1demo %>% filter(is.na(ESI)) %>% select(anon_id, pat_enc_csn_id_coded) %>% left_join(cohort)\n",
    "nrow(noESI)\n",
    "# write.csv(noESI, file.path(datadir, \"noESI.csv\"), row.names=FALSE)"
   ]
  },
  {
   "cell_type": "raw",
   "metadata": {},
   "source": [
    "head(cohort, n=1)\n",
    "sapply(cohort, typeof)\n",
    "summary(cohort)"
   ]
  },
  {
   "cell_type": "markdown",
   "metadata": {},
   "source": [
    "### Get the dataset for simple models:\n",
    "A cohort with complete set of VS, with labels (43008 --> 41654), with the following features\n",
    "* get back the demographics (with imputed ESI using 1st set of vs)\n",
    "* vital signs (first values and summary statistics) only (no GCS)"
   ]
  },
  {
   "cell_type": "code",
   "execution_count": null,
   "metadata": {},
   "outputs": [],
   "source": [
    "vsum_wide <- read.csv(file.path(datadir, 'vitalsum_wide.csv'))\n",
    "nrow(vsum_wide)"
   ]
  },
  {
   "cell_type": "code",
   "execution_count": null,
   "metadata": {},
   "outputs": [],
   "source": [
    "demos <- read.csv(file.path(datadir, \"cohort_demo_final.csv\"))\n",
    "nrow(demos)\n",
    "colnames(demos)"
   ]
  },
  {
   "cell_type": "code",
   "execution_count": null,
   "metadata": {},
   "outputs": [],
   "source": [
    "# add demographic features to this data with vital signs\n",
    "demos <- demos %>% select(-c(inpatient_data_id_coded, label_max24, admit_time))\n",
    "data_simple <- left_join(vsum_wide, demos)\n",
    "dim(data_simple)\n",
    "nrow(data_simple %>% select(pat_enc_csn_id_coded) %>% distinct())\n",
    "colnames(data_simple)\n",
    "summary(data_simple)"
   ]
  },
  {
   "cell_type": "code",
   "execution_count": null,
   "metadata": {},
   "outputs": [],
   "source": [
    "# update cohort with labels to include only patients with a complete set of VS\n",
    "# cohort <- read.csv(\"./Data/cohort_labels.csv\")\n",
    "cohort <- read.csv(file.path(datadir, \"labels_with_death_delta.csv\")) \n",
    "\n",
    "dim(cohort)\n",
    "tail(cohort, 10)"
   ]
  },
  {
   "cell_type": "code",
   "execution_count": null,
   "metadata": {},
   "outputs": [],
   "source": [
    "cohort_final <- data_simple %>% select(anon_id, pat_enc_csn_id_coded) %>% left_join(cohort) #%>%\n",
    "#                 select(-c(int64_field_0))\n",
    "\n",
    "dim(cohort_final)\n",
    "head(cohort_final, n=1)"
   ]
  },
  {
   "cell_type": "code",
   "execution_count": null,
   "metadata": {},
   "outputs": [],
   "source": [
    "colnames(cohort_final)\n",
    "summary(cohort_final)"
   ]
  },
  {
   "cell_type": "code",
   "execution_count": null,
   "metadata": {},
   "outputs": [],
   "source": [
    "# updata data simple to include labels:\n",
    "data_simple <- left_join(cohort_final, data_simple)\n",
    "dim(data_simple)\n",
    "colnames(data_simple)"
   ]
  },
  {
   "cell_type": "code",
   "execution_count": null,
   "metadata": {},
   "outputs": [],
   "source": [
    "# need to check the label"
   ]
  },
  {
   "cell_type": "code",
   "execution_count": null,
   "metadata": {},
   "outputs": [],
   "source": [
    "# write.csv(cohort_final, file.path(datadir, 'cohort_final.csv'), row.names = FALSE)\n",
    "# write.csv(data_simple, file.path(datadir, \"data_simple.csv\"), row.names=FALSE)"
   ]
  },
  {
   "cell_type": "markdown",
   "metadata": {},
   "source": [
    "### EXTRA"
   ]
  },
  {
   "cell_type": "code",
   "execution_count": null,
   "metadata": {},
   "outputs": [],
   "source": [
    "# did not miss any BP\n",
    "added_vs <- read.csv(file.path(datadir, \"added_vs.csv\"))\n",
    "nrow(added_vs)\n",
    "added_vs %>% count(row_disp_name)\n",
    "head(added_vs)"
   ]
  }
 ],
 "metadata": {
  "environment": {
   "name": "r-cpu.4-0.m71",
   "type": "gcloud",
   "uri": "gcr.io/deeplearning-platform-release/r-cpu.4-0:m71"
  },
  "kernelspec": {
   "display_name": "R",
   "language": "R",
   "name": "ir"
  },
  "language_info": {
   "codemirror_mode": "r",
   "file_extension": ".r",
   "mimetype": "text/x-r-source",
   "name": "R",
   "pygments_lexer": "r",
   "version": "4.1.0"
  },
  "toc": {
   "base_numbering": 1,
   "nav_menu": {},
   "number_sections": true,
   "sideBar": true,
   "skip_h1_title": false,
   "title_cell": "Table of Contents",
   "title_sidebar": "Contents",
   "toc_cell": false,
   "toc_position": {},
   "toc_section_display": true,
   "toc_window_display": false
  },
  "varInspector": {
   "cols": {
    "lenName": 16,
    "lenType": 16,
    "lenVar": 40
   },
   "kernels_config": {
    "python": {
     "delete_cmd_postfix": "",
     "delete_cmd_prefix": "del ",
     "library": "var_list.py",
     "varRefreshCmd": "print(var_dic_list())"
    },
    "r": {
     "delete_cmd_postfix": ") ",
     "delete_cmd_prefix": "rm(",
     "library": "var_list.r",
     "varRefreshCmd": "cat(var_dic_list()) "
    }
   },
   "types_to_exclude": [
    "module",
    "function",
    "builtin_function_or_method",
    "instance",
    "_Feature"
   ],
   "window_display": false
  }
 },
 "nbformat": 4,
 "nbformat_minor": 4
}
