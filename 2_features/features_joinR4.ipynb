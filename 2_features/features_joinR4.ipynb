{
 "cells": [
  {
   "cell_type": "markdown",
   "metadata": {},
   "source": [
    "### Descriptions:\n",
    "COHORT:\n",
    "* Conor's original cohort: 52,314\n",
    "* Remove admit years of 2014 and 2020: 52,298\n",
    "* Remove 8805 csn with non-full code or <18y.old: 43,493 \n",
    "* Remove 173 csn without vital signs and GCS, and 29 csn with only GCS and no other vital signs: 43,291\n",
    "* Remove 201 csn wihout any labels during hospital stays: 43,090\n",
    "* Further remove 82 patients without any labels at 24 hour mark: 43,008 (**cohort_labels.csv**)\n",
    "* **final**: remove all patients without a complete set of VS: 41,654\n",
    "\n",
    "On BQ **cohort_final_with_labels_complete1VS** is our most updated cohort, size of 41654 unique encounters, and *cohort_labels* from Tiffany is marked as to_keep on BQ\n",
    "\n",
    "JOIN all features together with the final cohort:\n",
    "\n",
    "Inputs: cohort_final (processed in R2 notebook), cohort_demo_final (R1), vitals_clean (R2), labs_clean (R3)\n",
    "\n",
    "* Combine cohort with demographic, vitals, and labs to the long format\n",
    "* Use final cohort size of 41,654, only patients who are full code, 18yr or above, and have at least a complete set of 1st VS\n",
    "* Demographic have indicators of missingness (ESI, H and W) and one hot coding for categorical variables (gender and race)\n",
    "\n",
    "Output: \n",
    "* **features_demos_vitals_labs.csv** 3,308,906 rows in long format with anon_id, csn, label_24_recent, admit_time, \n",
    "* with feature_type, features, values, and time (NA for demo, recorded for vitals and result for labs)"
   ]
  },
  {
   "cell_type": "markdown",
   "metadata": {},
   "source": [
    "### Importing R libraries"
   ]
  },
  {
   "cell_type": "code",
   "execution_count": 1,
   "metadata": {
    "ExecuteTime": {
     "end_time": "2020-05-21T00:38:06.078240Z",
     "start_time": "2020-05-21T00:38:02.778Z"
    },
    "collapsed": true,
    "jupyter": {
     "outputs_hidden": true
    }
   },
   "outputs": [
    {
     "name": "stderr",
     "output_type": "stream",
     "text": [
      "Loading required package: lattice\n",
      "\n",
      "Loading required package: ggplot2\n",
      "\n",
      "── \u001b[1mAttaching packages\u001b[22m ─────────────────────────────────────── tidyverse 1.3.0 ──\n",
      "\n",
      "\u001b[32m✔\u001b[39m \u001b[34mtibble \u001b[39m 3.0.3     \u001b[32m✔\u001b[39m \u001b[34mdplyr  \u001b[39m 1.0.0\n",
      "\u001b[32m✔\u001b[39m \u001b[34mtidyr  \u001b[39m 1.1.0     \u001b[32m✔\u001b[39m \u001b[34mstringr\u001b[39m 1.4.0\n",
      "\u001b[32m✔\u001b[39m \u001b[34mreadr  \u001b[39m 1.3.1     \u001b[32m✔\u001b[39m \u001b[34mforcats\u001b[39m 0.5.0\n",
      "\u001b[32m✔\u001b[39m \u001b[34mpurrr  \u001b[39m 0.3.4     \n",
      "\n",
      "── \u001b[1mConflicts\u001b[22m ────────────────────────────────────────── tidyverse_conflicts() ──\n",
      "\u001b[31m✖\u001b[39m \u001b[34mdplyr\u001b[39m::\u001b[32mbetween()\u001b[39m   masks \u001b[34mdata.table\u001b[39m::between()\n",
      "\u001b[31m✖\u001b[39m \u001b[34mdplyr\u001b[39m::\u001b[32mfilter()\u001b[39m    masks \u001b[34mstats\u001b[39m::filter()\n",
      "\u001b[31m✖\u001b[39m \u001b[34mdplyr\u001b[39m::\u001b[32mfirst()\u001b[39m     masks \u001b[34mdata.table\u001b[39m::first()\n",
      "\u001b[31m✖\u001b[39m \u001b[34mdplyr\u001b[39m::\u001b[32mlag()\u001b[39m       masks \u001b[34mstats\u001b[39m::lag()\n",
      "\u001b[31m✖\u001b[39m \u001b[34mdplyr\u001b[39m::\u001b[32mlast()\u001b[39m      masks \u001b[34mdata.table\u001b[39m::last()\n",
      "\u001b[31m✖\u001b[39m \u001b[34mpurrr\u001b[39m::\u001b[32mlift()\u001b[39m      masks \u001b[34mcaret\u001b[39m::lift()\n",
      "\u001b[31m✖\u001b[39m \u001b[34mdplyr\u001b[39m::\u001b[32mslice()\u001b[39m     masks \u001b[34mxgboost\u001b[39m::slice()\n",
      "\u001b[31m✖\u001b[39m \u001b[34mpurrr\u001b[39m::\u001b[32mtranspose()\u001b[39m masks \u001b[34mdata.table\u001b[39m::transpose()\n",
      "\n",
      "\n",
      "Attaching package: ‘lubridate’\n",
      "\n",
      "\n",
      "The following objects are masked from ‘package:data.table’:\n",
      "\n",
      "    hour, isoweek, mday, minute, month, quarter, second, wday, week,\n",
      "    yday, year\n",
      "\n",
      "\n",
      "The following objects are masked from ‘package:base’:\n",
      "\n",
      "    date, intersect, setdiff, union\n",
      "\n",
      "\n",
      "\n",
      "Attaching package: ‘Matrix’\n",
      "\n",
      "\n",
      "The following objects are masked from ‘package:tidyr’:\n",
      "\n",
      "    expand, pack, unpack\n",
      "\n",
      "\n",
      "Loaded glmnet 4.0-2\n",
      "\n",
      "Loading required package: bit\n",
      "\n",
      "Attaching package bit\n",
      "\n",
      "package:bit (c) 2008-2012 Jens Oehlschlaegel (GPL-2)\n",
      "\n",
      "creators: bit bitwhich\n",
      "\n",
      "coercion: as.logical as.integer as.bit as.bitwhich which\n",
      "\n",
      "operator: ! & | xor != ==\n",
      "\n",
      "querying: print length any all min max range sum summary\n",
      "\n",
      "bit access: length<- [ [<- [[ [[<-\n",
      "\n",
      "for more help type ?bit\n",
      "\n",
      "\n",
      "Attaching package: ‘bit’\n",
      "\n",
      "\n",
      "The following object is masked from ‘package:data.table’:\n",
      "\n",
      "    setattr\n",
      "\n",
      "\n",
      "The following object is masked from ‘package:base’:\n",
      "\n",
      "    xor\n",
      "\n",
      "\n",
      "Attaching package bit64\n",
      "\n",
      "package:bit64 (c) 2011-2012 Jens Oehlschlaegel\n",
      "\n",
      "creators: integer64 seq :\n",
      "\n",
      "coercion: as.integer64 as.vector as.logical as.integer as.double as.character as.bin\n",
      "\n",
      "logical operator: ! & | xor != == < <= >= >\n",
      "\n",
      "arithmetic operator: + - * / %/% %% ^\n",
      "\n",
      "math: sign abs sqrt log log2 log10\n",
      "\n",
      "math: floor ceiling trunc round\n",
      "\n",
      "querying: is.integer64 is.vector [is.atomic} [length] format print str\n",
      "\n",
      "values: is.na is.nan is.finite is.infinite\n",
      "\n",
      "aggregation: any all min max range sum prod\n",
      "\n",
      "cumulation: diff cummin cummax cumsum cumprod\n",
      "\n",
      "access: length<- [ [<- [[ [[<-\n",
      "\n",
      "combine: c rep cbind rbind as.data.frame\n",
      "\n",
      "WARNING don't use as subscripts\n",
      "\n",
      "WARNING semantics differ from integer\n",
      "\n",
      "for more help type ?bit64\n",
      "\n",
      "\n",
      "Attaching package: ‘bit64’\n",
      "\n",
      "\n",
      "The following object is masked from ‘package:bit’:\n",
      "\n",
      "    still.identical\n",
      "\n",
      "\n",
      "The following objects are masked from ‘package:base’:\n",
      "\n",
      "    :, %in%, is.double, match, order, rank\n",
      "\n",
      "\n",
      "\n",
      "Attaching package: ‘mice’\n",
      "\n",
      "\n",
      "The following objects are masked from ‘package:base’:\n",
      "\n",
      "    cbind, rbind\n",
      "\n",
      "\n"
     ]
    }
   ],
   "source": [
    "library(caret) # import this before glmnet to avoid rlang version problem\n",
    "library(xgboost)\n",
    "library(data.table)\n",
    "library(tidyverse)\n",
    "library(lubridate)\n",
    "library(Matrix)\n",
    "# library(slam)\n",
    "library(glmnet)\n",
    "library(bit64)\n",
    "# library(mtools) for one hot coder, not available on Nero or use caret or tidyr\n",
    "library(mice)\n",
    "options(repr.matrix.max.rows=200, repr.matrix.max.cols=40)"
   ]
  },
  {
   "cell_type": "markdown",
   "metadata": {},
   "source": [
    "### Call back all datasets: \n",
    "* demographic with ESI\n",
    "* vitals with GCS (note that this data has 43320 rows, but for ESI imputation, remove those with GCS as well, so we have 43291 left)\n",
    "* labs, still with 9999999 values"
   ]
  },
  {
   "cell_type": "code",
   "execution_count": 33,
   "metadata": {
    "collapsed": true,
    "jupyter": {
     "outputs_hidden": true
    }
   },
   "outputs": [
    {
     "data": {
      "text/html": [
       "41654"
      ],
      "text/latex": [
       "41654"
      ],
      "text/markdown": [
       "41654"
      ],
      "text/plain": [
       "[1] 41654"
      ]
     },
     "metadata": {},
     "output_type": "display_data"
    },
    {
     "data": {
      "text/html": [
       "41654"
      ],
      "text/latex": [
       "41654"
      ],
      "text/markdown": [
       "41654"
      ],
      "text/plain": [
       "[1] 41654"
      ]
     },
     "metadata": {},
     "output_type": "display_data"
    },
    {
     "data": {
      "text/html": [
       "1274287"
      ],
      "text/latex": [
       "1274287"
      ],
      "text/markdown": [
       "1274287"
      ],
      "text/plain": [
       "[1] 1274287"
      ]
     },
     "metadata": {},
     "output_type": "display_data"
    },
    {
     "data": {
      "text/html": [
       "1368351"
      ],
      "text/latex": [
       "1368351"
      ],
      "text/markdown": [
       "1368351"
      ],
      "text/plain": [
       "[1] 1368351"
      ]
     },
     "metadata": {},
     "output_type": "display_data"
    },
    {
     "data": {
      "text/html": [
       "41654"
      ],
      "text/latex": [
       "41654"
      ],
      "text/markdown": [
       "41654"
      ],
      "text/plain": [
       "[1] 41654"
      ]
     },
     "metadata": {},
     "output_type": "display_data"
    },
    {
     "data": {
      "text/html": [
       "43320"
      ],
      "text/latex": [
       "43320"
      ],
      "text/markdown": [
       "43320"
      ],
      "text/plain": [
       "[1] 43320"
      ]
     },
     "metadata": {},
     "output_type": "display_data"
    },
    {
     "data": {
      "text/html": [
       "39226"
      ],
      "text/latex": [
       "39226"
      ],
      "text/markdown": [
       "39226"
      ],
      "text/plain": [
       "[1] 39226"
      ]
     },
     "metadata": {},
     "output_type": "display_data"
    },
    {
     "data": {
      "text/html": [
       "41654"
      ],
      "text/latex": [
       "41654"
      ],
      "text/markdown": [
       "41654"
      ],
      "text/plain": [
       "[1] 41654"
      ]
     },
     "metadata": {},
     "output_type": "display_data"
    },
    {
     "data": {
      "text/html": [
       "41654"
      ],
      "text/latex": [
       "41654"
      ],
      "text/markdown": [
       "41654"
      ],
      "text/plain": [
       "[1] 41654"
      ]
     },
     "metadata": {},
     "output_type": "display_data"
    },
    {
     "data": {
      "text/html": [
       "39226"
      ],
      "text/latex": [
       "39226"
      ],
      "text/markdown": [
       "39226"
      ],
      "text/plain": [
       "[1] 39226"
      ]
     },
     "metadata": {},
     "output_type": "display_data"
    }
   ],
   "source": [
    "# nrow(cohort_vitals_clean %>% filter(anon_id == \"JCd49287\")) #23\n",
    "# cohort_demo_clean %>% filter(anon_id == \"JCd49287\")\n",
    "\n",
    "cohort <- read.csv(\"./Data/cohort_final.csv\")\n",
    "# demos <-  read.csv(\"./Data/cohort_demo_completed.csv\")\n",
    "demos <- read.csv(\"./Data/cohort_demo_final.csv\") # updated demographic with latest cohort\n",
    "vitals <- read.csv(\"./Data/vitals_clean.csv\")\n",
    "labs <- read.csv(\"./Data/labs_clean.csv\")\n",
    "\n",
    "nrow(cohort) # cohort final 41654\n",
    "nrow(demos)\n",
    "nrow(vitals) #1,274,314\n",
    "nrow(labs) #1,368,351\n",
    "\n",
    "nrow(demos %>% select(anon_id, pat_enc_csn_id_coded) %>% distinct())\n",
    "# nrow(demos %>% select(pat_enc_csn_id_coded) %>% distinct())\n",
    "\n",
    "nrow(vitals %>% select(anon_id, pat_enc_csn_id_coded) %>% distinct())\n",
    "# nrow(vitals %>% select(pat_enc_csn_id_coded) %>% distinct())\n",
    "\n",
    "nrow(labs %>% select(anon_id, pat_enc_csn_id_coded) %>% distinct()) # 39226\n",
    "# nrow(labs %>% select(pat_enc_csn_id_coded) %>% distinct())\n",
    "\n",
    "# nrow(demos %>% distinct(pat_enc_csn_id_coded) %>% filter(pat_enc_csn_id_coded %in% cohort$pat_enc_csn_id_coded))\n",
    "# nrow(vitals %>% distinct(pat_enc_csn_id_coded) %>% filter(pat_enc_csn_id_coded %in% cohort$pat_enc_csn_id_coded))\n",
    "# nrow(labs %>% distinct(pat_enc_csn_id_coded) %>% filter(pat_enc_csn_id_coded %in% cohort$pat_enc_csn_id_coded))\n",
    "\n",
    "nrow(cohort %>% distinct(pat_enc_csn_id_coded) %>% filter(pat_enc_csn_id_coded %in% demos$pat_enc_csn_id_coded))\n",
    "nrow(cohort %>% distinct(pat_enc_csn_id_coded) %>% filter(pat_enc_csn_id_coded %in% vitals$pat_enc_csn_id_coded))\n",
    "nrow(cohort %>% distinct(pat_enc_csn_id_coded) %>% filter(pat_enc_csn_id_coded %in% labs$pat_enc_csn_id_coded))"
   ]
  },
  {
   "cell_type": "code",
   "execution_count": 34,
   "metadata": {
    "collapsed": true,
    "jupyter": {
     "outputs_hidden": true
    }
   },
   "outputs": [
    {
     "data": {
      "text/html": [
       "<style>\n",
       ".list-inline {list-style: none; margin:0; padding: 0}\n",
       ".list-inline>li {display: inline-block}\n",
       ".list-inline>li:not(:last-child)::after {content: \"\\00b7\"; padding: 0 .5ex}\n",
       "</style>\n",
       "<ol class=list-inline><li>'anon_id'</li><li>'pat_enc_csn_id_coded'</li><li>'inpatient_data_id_coded'</li><li>'label_max24'</li><li>'admit_time'</li><li>'admit_label'</li><li>'label_24hr_recent'</li><li>'label_12hr_recent'</li><li>'has_admit_label'</li><li>'first_label'</li><li>'first_label_time_since_admit'</li><li>'acute_to_critical_label'</li><li>'critical_to_acute_label'</li></ol>\n"
      ],
      "text/latex": [
       "\\begin{enumerate*}\n",
       "\\item 'anon\\_id'\n",
       "\\item 'pat\\_enc\\_csn\\_id\\_coded'\n",
       "\\item 'inpatient\\_data\\_id\\_coded'\n",
       "\\item 'label\\_max24'\n",
       "\\item 'admit\\_time'\n",
       "\\item 'admit\\_label'\n",
       "\\item 'label\\_24hr\\_recent'\n",
       "\\item 'label\\_12hr\\_recent'\n",
       "\\item 'has\\_admit\\_label'\n",
       "\\item 'first\\_label'\n",
       "\\item 'first\\_label\\_time\\_since\\_admit'\n",
       "\\item 'acute\\_to\\_critical\\_label'\n",
       "\\item 'critical\\_to\\_acute\\_label'\n",
       "\\end{enumerate*}\n"
      ],
      "text/markdown": [
       "1. 'anon_id'\n",
       "2. 'pat_enc_csn_id_coded'\n",
       "3. 'inpatient_data_id_coded'\n",
       "4. 'label_max24'\n",
       "5. 'admit_time'\n",
       "6. 'admit_label'\n",
       "7. 'label_24hr_recent'\n",
       "8. 'label_12hr_recent'\n",
       "9. 'has_admit_label'\n",
       "10. 'first_label'\n",
       "11. 'first_label_time_since_admit'\n",
       "12. 'acute_to_critical_label'\n",
       "13. 'critical_to_acute_label'\n",
       "\n",
       "\n"
      ],
      "text/plain": [
       " [1] \"anon_id\"                      \"pat_enc_csn_id_coded\"        \n",
       " [3] \"inpatient_data_id_coded\"      \"label_max24\"                 \n",
       " [5] \"admit_time\"                   \"admit_label\"                 \n",
       " [7] \"label_24hr_recent\"            \"label_12hr_recent\"           \n",
       " [9] \"has_admit_label\"              \"first_label\"                 \n",
       "[11] \"first_label_time_since_admit\" \"acute_to_critical_label\"     \n",
       "[13] \"critical_to_acute_label\"     "
      ]
     },
     "metadata": {},
     "output_type": "display_data"
    },
    {
     "data": {
      "text/html": [
       "<style>\n",
       ".list-inline {list-style: none; margin:0; padding: 0}\n",
       ".list-inline>li {display: inline-block}\n",
       ".list-inline>li:not(:last-child)::after {content: \"\\00b7\"; padding: 0 .5ex}\n",
       "</style>\n",
       "<ol class=list-inline><li>'anon_id'</li><li>'pat_enc_csn_id_coded'</li><li>'inpatient_data_id_coded'</li><li>'label_max24'</li><li>'admit_time'</li><li>'ESI_i'</li><li>'delta_ESI'</li><li>'gender'</li><li>'age'</li><li>'medis'</li><li>'English'</li><li>'Height_i'</li><li>'delta_H'</li><li>'Weight_i'</li><li>'delta_W'</li><li>'SBP'</li><li>'DBP'</li><li>'Pulse'</li><li>'RR'</li><li>'SpO2'</li><li>'Temp'</li><li>'race.Asian'</li><li>'race.Black'</li><li>'race.Native.American'</li><li>'race.Other'</li><li>'race.Pacific.Islander'</li><li>'race.Unknown'</li><li>'race.White'</li></ol>\n"
      ],
      "text/latex": [
       "\\begin{enumerate*}\n",
       "\\item 'anon\\_id'\n",
       "\\item 'pat\\_enc\\_csn\\_id\\_coded'\n",
       "\\item 'inpatient\\_data\\_id\\_coded'\n",
       "\\item 'label\\_max24'\n",
       "\\item 'admit\\_time'\n",
       "\\item 'ESI\\_i'\n",
       "\\item 'delta\\_ESI'\n",
       "\\item 'gender'\n",
       "\\item 'age'\n",
       "\\item 'medis'\n",
       "\\item 'English'\n",
       "\\item 'Height\\_i'\n",
       "\\item 'delta\\_H'\n",
       "\\item 'Weight\\_i'\n",
       "\\item 'delta\\_W'\n",
       "\\item 'SBP'\n",
       "\\item 'DBP'\n",
       "\\item 'Pulse'\n",
       "\\item 'RR'\n",
       "\\item 'SpO2'\n",
       "\\item 'Temp'\n",
       "\\item 'race.Asian'\n",
       "\\item 'race.Black'\n",
       "\\item 'race.Native.American'\n",
       "\\item 'race.Other'\n",
       "\\item 'race.Pacific.Islander'\n",
       "\\item 'race.Unknown'\n",
       "\\item 'race.White'\n",
       "\\end{enumerate*}\n"
      ],
      "text/markdown": [
       "1. 'anon_id'\n",
       "2. 'pat_enc_csn_id_coded'\n",
       "3. 'inpatient_data_id_coded'\n",
       "4. 'label_max24'\n",
       "5. 'admit_time'\n",
       "6. 'ESI_i'\n",
       "7. 'delta_ESI'\n",
       "8. 'gender'\n",
       "9. 'age'\n",
       "10. 'medis'\n",
       "11. 'English'\n",
       "12. 'Height_i'\n",
       "13. 'delta_H'\n",
       "14. 'Weight_i'\n",
       "15. 'delta_W'\n",
       "16. 'SBP'\n",
       "17. 'DBP'\n",
       "18. 'Pulse'\n",
       "19. 'RR'\n",
       "20. 'SpO2'\n",
       "21. 'Temp'\n",
       "22. 'race.Asian'\n",
       "23. 'race.Black'\n",
       "24. 'race.Native.American'\n",
       "25. 'race.Other'\n",
       "26. 'race.Pacific.Islander'\n",
       "27. 'race.Unknown'\n",
       "28. 'race.White'\n",
       "\n",
       "\n"
      ],
      "text/plain": [
       " [1] \"anon_id\"                 \"pat_enc_csn_id_coded\"   \n",
       " [3] \"inpatient_data_id_coded\" \"label_max24\"            \n",
       " [5] \"admit_time\"              \"ESI_i\"                  \n",
       " [7] \"delta_ESI\"               \"gender\"                 \n",
       " [9] \"age\"                     \"medis\"                  \n",
       "[11] \"English\"                 \"Height_i\"               \n",
       "[13] \"delta_H\"                 \"Weight_i\"               \n",
       "[15] \"delta_W\"                 \"SBP\"                    \n",
       "[17] \"DBP\"                     \"Pulse\"                  \n",
       "[19] \"RR\"                      \"SpO2\"                   \n",
       "[21] \"Temp\"                    \"race.Asian\"             \n",
       "[23] \"race.Black\"              \"race.Native.American\"   \n",
       "[25] \"race.Other\"              \"race.Pacific.Islander\"  \n",
       "[27] \"race.Unknown\"            \"race.White\"             "
      ]
     },
     "metadata": {},
     "output_type": "display_data"
    },
    {
     "data": {
      "text/html": [
       "<style>\n",
       ".list-inline {list-style: none; margin:0; padding: 0}\n",
       ".list-inline>li {display: inline-block}\n",
       ".list-inline>li:not(:last-child)::after {content: \"\\00b7\"; padding: 0 .5ex}\n",
       "</style>\n",
       "<ol class=list-inline><li>'anon_id'</li><li>'pat_enc_csn_id_coded'</li><li>'inpatient_data_id_coded'</li><li>'label_max24'</li><li>'admit_time'</li><li>'features'</li><li>'recorded_time'</li><li>'values'</li><li>'feature_type'</li></ol>\n"
      ],
      "text/latex": [
       "\\begin{enumerate*}\n",
       "\\item 'anon\\_id'\n",
       "\\item 'pat\\_enc\\_csn\\_id\\_coded'\n",
       "\\item 'inpatient\\_data\\_id\\_coded'\n",
       "\\item 'label\\_max24'\n",
       "\\item 'admit\\_time'\n",
       "\\item 'features'\n",
       "\\item 'recorded\\_time'\n",
       "\\item 'values'\n",
       "\\item 'feature\\_type'\n",
       "\\end{enumerate*}\n"
      ],
      "text/markdown": [
       "1. 'anon_id'\n",
       "2. 'pat_enc_csn_id_coded'\n",
       "3. 'inpatient_data_id_coded'\n",
       "4. 'label_max24'\n",
       "5. 'admit_time'\n",
       "6. 'features'\n",
       "7. 'recorded_time'\n",
       "8. 'values'\n",
       "9. 'feature_type'\n",
       "\n",
       "\n"
      ],
      "text/plain": [
       "[1] \"anon_id\"                 \"pat_enc_csn_id_coded\"   \n",
       "[3] \"inpatient_data_id_coded\" \"label_max24\"            \n",
       "[5] \"admit_time\"              \"features\"               \n",
       "[7] \"recorded_time\"           \"values\"                 \n",
       "[9] \"feature_type\"           "
      ]
     },
     "metadata": {},
     "output_type": "display_data"
    },
    {
     "data": {
      "text/html": [
       "<style>\n",
       ".list-inline {list-style: none; margin:0; padding: 0}\n",
       ".list-inline>li {display: inline-block}\n",
       ".list-inline>li:not(:last-child)::after {content: \"\\00b7\"; padding: 0 .5ex}\n",
       "</style>\n",
       "<ol class=list-inline><li>'anon_id'</li><li>'pat_enc_csn_id_coded'</li><li>'inpatient_data_id_coded'</li><li>'label_max24'</li><li>'admit_time'</li><li>'admit_label'</li><li>'label_24hr_recent'</li><li>'label_12hr_recent'</li><li>'has_admit_label'</li><li>'first_label'</li><li>'first_label_time_since_admit'</li><li>'acute_to_critical_label'</li><li>'critical_to_acute_label'</li><li>'features'</li><li>'values'</li><li>'result_time'</li><li>'feature_type'</li></ol>\n"
      ],
      "text/latex": [
       "\\begin{enumerate*}\n",
       "\\item 'anon\\_id'\n",
       "\\item 'pat\\_enc\\_csn\\_id\\_coded'\n",
       "\\item 'inpatient\\_data\\_id\\_coded'\n",
       "\\item 'label\\_max24'\n",
       "\\item 'admit\\_time'\n",
       "\\item 'admit\\_label'\n",
       "\\item 'label\\_24hr\\_recent'\n",
       "\\item 'label\\_12hr\\_recent'\n",
       "\\item 'has\\_admit\\_label'\n",
       "\\item 'first\\_label'\n",
       "\\item 'first\\_label\\_time\\_since\\_admit'\n",
       "\\item 'acute\\_to\\_critical\\_label'\n",
       "\\item 'critical\\_to\\_acute\\_label'\n",
       "\\item 'features'\n",
       "\\item 'values'\n",
       "\\item 'result\\_time'\n",
       "\\item 'feature\\_type'\n",
       "\\end{enumerate*}\n"
      ],
      "text/markdown": [
       "1. 'anon_id'\n",
       "2. 'pat_enc_csn_id_coded'\n",
       "3. 'inpatient_data_id_coded'\n",
       "4. 'label_max24'\n",
       "5. 'admit_time'\n",
       "6. 'admit_label'\n",
       "7. 'label_24hr_recent'\n",
       "8. 'label_12hr_recent'\n",
       "9. 'has_admit_label'\n",
       "10. 'first_label'\n",
       "11. 'first_label_time_since_admit'\n",
       "12. 'acute_to_critical_label'\n",
       "13. 'critical_to_acute_label'\n",
       "14. 'features'\n",
       "15. 'values'\n",
       "16. 'result_time'\n",
       "17. 'feature_type'\n",
       "\n",
       "\n"
      ],
      "text/plain": [
       " [1] \"anon_id\"                      \"pat_enc_csn_id_coded\"        \n",
       " [3] \"inpatient_data_id_coded\"      \"label_max24\"                 \n",
       " [5] \"admit_time\"                   \"admit_label\"                 \n",
       " [7] \"label_24hr_recent\"            \"label_12hr_recent\"           \n",
       " [9] \"has_admit_label\"              \"first_label\"                 \n",
       "[11] \"first_label_time_since_admit\" \"acute_to_critical_label\"     \n",
       "[13] \"critical_to_acute_label\"      \"features\"                    \n",
       "[15] \"values\"                       \"result_time\"                 \n",
       "[17] \"feature_type\"                "
      ]
     },
     "metadata": {},
     "output_type": "display_data"
    }
   ],
   "source": [
    "colnames(cohort)\n",
    "colnames(demos)\n",
    "colnames(vitals)\n",
    "colnames(labs)"
   ]
  },
  {
   "cell_type": "markdown",
   "metadata": {},
   "source": [
    "### OLD --- when Tiffany had a list of patients who had no labels throughout the hospital stays"
   ]
  },
  {
   "cell_type": "markdown",
   "metadata": {},
   "source": [
    "### Remove patients in hospitals with missing levels of care\n",
    "* 202: no labels at all for the entire hospital stays, smallest set\n",
    "* 806: no levels at the admission level, adt table\n",
    "* 136: no levels of care at 0 - 12hrs\n",
    "* 82: no levels of care at the 24hrs"
   ]
  },
  {
   "cell_type": "code",
   "execution_count": 7,
   "metadata": {
    "collapsed": true,
    "jupyter": {
     "outputs_hidden": true
    }
   },
   "outputs": [
    {
     "data": {
      "text/html": [
       "<table>\n",
       "<caption>A data.frame: 6 × 6</caption>\n",
       "<thead>\n",
       "\t<tr><th></th><th scope=col>int64_field_0</th><th scope=col>anon_id</th><th scope=col>pat_enc_csn_id_coded</th><th scope=col>inpatient_data_id_coded</th><th scope=col>label_max24</th><th scope=col>admit_time</th></tr>\n",
       "\t<tr><th></th><th scope=col>&lt;int&gt;</th><th scope=col>&lt;fct&gt;</th><th scope=col>&lt;dbl&gt;</th><th scope=col>&lt;int&gt;</th><th scope=col>&lt;int&gt;</th><th scope=col>&lt;fct&gt;</th></tr>\n",
       "</thead>\n",
       "<tbody>\n",
       "\t<tr><th scope=row>1</th><td>101</td><td>JCcb8554</td><td>131178016708</td><td>18546350</td><td>0</td><td>2016-02-25 03:23:00+00:00</td></tr>\n",
       "\t<tr><th scope=row>2</th><td>332</td><td>JCcbb116</td><td>131065778333</td><td>14009021</td><td>0</td><td>2015-02-11 09:17:00+00:00</td></tr>\n",
       "\t<tr><th scope=row>3</th><td>412</td><td>JCcbc455</td><td>131112222787</td><td>16567238</td><td>0</td><td>2015-08-21 20:12:00+00:00</td></tr>\n",
       "\t<tr><th scope=row>4</th><td>529</td><td>JCcbe464</td><td>131080007580</td><td>14770205</td><td>0</td><td>2015-04-20 21:01:00+00:00</td></tr>\n",
       "\t<tr><th scope=row>5</th><td>690</td><td>JCcc0607</td><td>131109972005</td><td>16518630</td><td>0</td><td>2015-09-05 05:35:00+00:00</td></tr>\n",
       "\t<tr><th scope=row>6</th><td>830</td><td>JCcc2366</td><td>131126219970</td><td>16980216</td><td>0</td><td>2015-09-15 10:01:00+00:00</td></tr>\n",
       "</tbody>\n",
       "</table>\n"
      ],
      "text/latex": [
       "A data.frame: 6 × 6\n",
       "\\begin{tabular}{r|llllll}\n",
       "  & int64\\_field\\_0 & anon\\_id & pat\\_enc\\_csn\\_id\\_coded & inpatient\\_data\\_id\\_coded & label\\_max24 & admit\\_time\\\\\n",
       "  & <int> & <fct> & <dbl> & <int> & <int> & <fct>\\\\\n",
       "\\hline\n",
       "\t1 & 101 & JCcb8554 & 131178016708 & 18546350 & 0 & 2016-02-25 03:23:00+00:00\\\\\n",
       "\t2 & 332 & JCcbb116 & 131065778333 & 14009021 & 0 & 2015-02-11 09:17:00+00:00\\\\\n",
       "\t3 & 412 & JCcbc455 & 131112222787 & 16567238 & 0 & 2015-08-21 20:12:00+00:00\\\\\n",
       "\t4 & 529 & JCcbe464 & 131080007580 & 14770205 & 0 & 2015-04-20 21:01:00+00:00\\\\\n",
       "\t5 & 690 & JCcc0607 & 131109972005 & 16518630 & 0 & 2015-09-05 05:35:00+00:00\\\\\n",
       "\t6 & 830 & JCcc2366 & 131126219970 & 16980216 & 0 & 2015-09-15 10:01:00+00:00\\\\\n",
       "\\end{tabular}\n"
      ],
      "text/markdown": [
       "\n",
       "A data.frame: 6 × 6\n",
       "\n",
       "| <!--/--> | int64_field_0 &lt;int&gt; | anon_id &lt;fct&gt; | pat_enc_csn_id_coded &lt;dbl&gt; | inpatient_data_id_coded &lt;int&gt; | label_max24 &lt;int&gt; | admit_time &lt;fct&gt; |\n",
       "|---|---|---|---|---|---|---|\n",
       "| 1 | 101 | JCcb8554 | 131178016708 | 18546350 | 0 | 2016-02-25 03:23:00+00:00 |\n",
       "| 2 | 332 | JCcbb116 | 131065778333 | 14009021 | 0 | 2015-02-11 09:17:00+00:00 |\n",
       "| 3 | 412 | JCcbc455 | 131112222787 | 16567238 | 0 | 2015-08-21 20:12:00+00:00 |\n",
       "| 4 | 529 | JCcbe464 | 131080007580 | 14770205 | 0 | 2015-04-20 21:01:00+00:00 |\n",
       "| 5 | 690 | JCcc0607 | 131109972005 | 16518630 | 0 | 2015-09-05 05:35:00+00:00 |\n",
       "| 6 | 830 | JCcc2366 | 131126219970 | 16980216 | 0 | 2015-09-15 10:01:00+00:00 |\n",
       "\n"
      ],
      "text/plain": [
       "  int64_field_0 anon_id  pat_enc_csn_id_coded inpatient_data_id_coded\n",
       "1 101           JCcb8554 131178016708         18546350               \n",
       "2 332           JCcbb116 131065778333         14009021               \n",
       "3 412           JCcbc455 131112222787         16567238               \n",
       "4 529           JCcbe464 131080007580         14770205               \n",
       "5 690           JCcc0607 131109972005         16518630               \n",
       "6 830           JCcc2366 131126219970         16980216               \n",
       "  label_max24 admit_time               \n",
       "1 0           2016-02-25 03:23:00+00:00\n",
       "2 0           2015-02-11 09:17:00+00:00\n",
       "3 0           2015-08-21 20:12:00+00:00\n",
       "4 0           2015-04-20 21:01:00+00:00\n",
       "5 0           2015-09-05 05:35:00+00:00\n",
       "6 0           2015-09-15 10:01:00+00:00"
      ]
     },
     "metadata": {},
     "output_type": "display_data"
    }
   ],
   "source": [
    "# JCdcafca and 131187786922, 20015518, 0, 2016-05-15 20:57:00+00:00 \n",
    "# in the no_labels cohort (and Conor's cohort) but not in the updated cohort\n",
    "noinco <- cohort[cohort$pat_enc_csn_id_coded %in% no_labels$pat_enc_csn_id_coded,]\n",
    "head(no_labels[!no_labels$pat_enc_csn_id_coded %in% noinco$pat_enc_csn_id_coded, ])"
   ]
  },
  {
   "cell_type": "code",
   "execution_count": 90,
   "metadata": {
    "collapsed": true,
    "jupyter": {
     "outputs_hidden": true
    }
   },
   "outputs": [
    {
     "data": {
      "text/html": [
       "43090"
      ],
      "text/latex": [
       "43090"
      ],
      "text/markdown": [
       "43090"
      ],
      "text/plain": [
       "[1] 43090"
      ]
     },
     "metadata": {},
     "output_type": "display_data"
    },
    {
     "data": {
      "text/html": [
       "<table>\n",
       "<caption>A data.frame: 6 × 5</caption>\n",
       "<thead>\n",
       "\t<tr><th></th><th scope=col>anon_id</th><th scope=col>pat_enc_csn_id_coded</th><th scope=col>inpatient_data_id_coded</th><th scope=col>label_max24</th><th scope=col>admit_time</th></tr>\n",
       "\t<tr><th></th><th scope=col>&lt;fct&gt;</th><th scope=col>&lt;dbl&gt;</th><th scope=col>&lt;int&gt;</th><th scope=col>&lt;int&gt;</th><th scope=col>&lt;fct&gt;</th></tr>\n",
       "</thead>\n",
       "<tbody>\n",
       "\t<tr><th scope=row>1</th><td>JC29f8ad2</td><td>131274729058</td><td>40679773</td><td>0</td><td>2019-08-31 12:52:00</td></tr>\n",
       "\t<tr><th scope=row>2</th><td>JC29f8ad3</td><td>131278291027</td><td>42992239</td><td>0</td><td>2019-10-05 23:48:00</td></tr>\n",
       "\t<tr><th scope=row>3</th><td>JC29f8b9c</td><td>131266787806</td><td>36261582</td><td>0</td><td>2019-05-05 01:07:00</td></tr>\n",
       "\t<tr><th scope=row>4</th><td>JC29f8beb</td><td>131264387263</td><td>34626013</td><td>0</td><td>2019-03-15 03:35:00</td></tr>\n",
       "\t<tr><th scope=row>5</th><td>JC29f8beb</td><td>131279241689</td><td>43527040</td><td>0</td><td>2019-11-27 15:29:00</td></tr>\n",
       "\t<tr><th scope=row>6</th><td>JC29f8bef</td><td>131280937356</td><td>44544574</td><td>0</td><td>2019-11-30 10:35:00</td></tr>\n",
       "</tbody>\n",
       "</table>\n"
      ],
      "text/latex": [
       "A data.frame: 6 × 5\n",
       "\\begin{tabular}{r|lllll}\n",
       "  & anon\\_id & pat\\_enc\\_csn\\_id\\_coded & inpatient\\_data\\_id\\_coded & label\\_max24 & admit\\_time\\\\\n",
       "  & <fct> & <dbl> & <int> & <int> & <fct>\\\\\n",
       "\\hline\n",
       "\t1 & JC29f8ad2 & 131274729058 & 40679773 & 0 & 2019-08-31 12:52:00\\\\\n",
       "\t2 & JC29f8ad3 & 131278291027 & 42992239 & 0 & 2019-10-05 23:48:00\\\\\n",
       "\t3 & JC29f8b9c & 131266787806 & 36261582 & 0 & 2019-05-05 01:07:00\\\\\n",
       "\t4 & JC29f8beb & 131264387263 & 34626013 & 0 & 2019-03-15 03:35:00\\\\\n",
       "\t5 & JC29f8beb & 131279241689 & 43527040 & 0 & 2019-11-27 15:29:00\\\\\n",
       "\t6 & JC29f8bef & 131280937356 & 44544574 & 0 & 2019-11-30 10:35:00\\\\\n",
       "\\end{tabular}\n"
      ],
      "text/markdown": [
       "\n",
       "A data.frame: 6 × 5\n",
       "\n",
       "| <!--/--> | anon_id &lt;fct&gt; | pat_enc_csn_id_coded &lt;dbl&gt; | inpatient_data_id_coded &lt;int&gt; | label_max24 &lt;int&gt; | admit_time &lt;fct&gt; |\n",
       "|---|---|---|---|---|---|\n",
       "| 1 | JC29f8ad2 | 131274729058 | 40679773 | 0 | 2019-08-31 12:52:00 |\n",
       "| 2 | JC29f8ad3 | 131278291027 | 42992239 | 0 | 2019-10-05 23:48:00 |\n",
       "| 3 | JC29f8b9c | 131266787806 | 36261582 | 0 | 2019-05-05 01:07:00 |\n",
       "| 4 | JC29f8beb | 131264387263 | 34626013 | 0 | 2019-03-15 03:35:00 |\n",
       "| 5 | JC29f8beb | 131279241689 | 43527040 | 0 | 2019-11-27 15:29:00 |\n",
       "| 6 | JC29f8bef | 131280937356 | 44544574 | 0 | 2019-11-30 10:35:00 |\n",
       "\n"
      ],
      "text/plain": [
       "  anon_id   pat_enc_csn_id_coded inpatient_data_id_coded label_max24\n",
       "1 JC29f8ad2 131274729058         40679773                0          \n",
       "2 JC29f8ad3 131278291027         42992239                0          \n",
       "3 JC29f8b9c 131266787806         36261582                0          \n",
       "4 JC29f8beb 131264387263         34626013                0          \n",
       "5 JC29f8beb 131279241689         43527040                0          \n",
       "6 JC29f8bef 131280937356         44544574                0          \n",
       "  admit_time         \n",
       "1 2019-08-31 12:52:00\n",
       "2 2019-10-05 23:48:00\n",
       "3 2019-05-05 01:07:00\n",
       "4 2019-03-15 03:35:00\n",
       "5 2019-11-27 15:29:00\n",
       "6 2019-11-30 10:35:00"
      ]
     },
     "metadata": {},
     "output_type": "display_data"
    }
   ],
   "source": [
    "# remove patients in the final cohort with missing labels:\n",
    "cohort <- anti_join(cohort, no_labels, by = c(\"anon_id\", \"pat_enc_csn_id_coded\"))\n",
    "nrow(cohort) # 43291 - 202\n",
    "head(cohort)"
   ]
  },
  {
   "cell_type": "markdown",
   "metadata": {},
   "source": [
    "### OK to continue here"
   ]
  },
  {
   "cell_type": "raw",
   "metadata": {},
   "source": [
    "# remove the 1st set of vs and indicators of missing ness from demographics\n",
    "demos <- demos %>% select(-c(SBP_i, delta_SBP, DBP_i, delta_DBP, Pulse_i, delta_Pulse, \n",
    "                             RR_i, delta_RR, SpO2_i, delta_SpO2, Temp_i, delta_Temp))\n",
    "colnames(demos)"
   ]
  },
  {
   "cell_type": "code",
   "execution_count": 35,
   "metadata": {
    "collapsed": true,
    "jupyter": {
     "outputs_hidden": true
    }
   },
   "outputs": [
    {
     "name": "stderr",
     "output_type": "stream",
     "text": [
      "Adding missing grouping variables: `features`\n",
      "\n"
     ]
    },
    {
     "data": {
      "text/plain": [
       "  features          values      \n",
       " DBP  :203896   Min.   :  3.00  \n",
       " GCS  : 44442   1st Qu.: 37.00  \n",
       " Pulse:260114   Median : 82.00  \n",
       " RR   :206469   Mean   : 75.19  \n",
       " SBP  :203937   3rd Qu.: 99.00  \n",
       " SpO2 :218899   Max.   :419.00  \n",
       " Temp :136530                   "
      ]
     },
     "metadata": {},
     "output_type": "display_data"
    },
    {
     "name": "stderr",
     "output_type": "stream",
     "text": [
      "Adding missing grouping variables: `features`\n",
      "\n"
     ]
    },
    {
     "data": {
      "text/plain": [
       "    features           values       \n",
       " Glucose:  49639   Min.   : -30.00  \n",
       " K      :  43392   1st Qu.:   3.46  \n",
       " Hct    :  43307   Median :  12.40  \n",
       " Na     :  43275   Mean   :  38.90  \n",
       " Hgb    :  43261   3rd Qu.:  37.00  \n",
       " Cl     :  42976   Max.   :9655.00  \n",
       " (Other):1102501                    "
      ]
     },
     "metadata": {},
     "output_type": "display_data"
    }
   ],
   "source": [
    "summary(vitals %>% group_by(features) %>% select(values))\n",
    "summary(labs %>% group_by(features) %>% select(values))"
   ]
  },
  {
   "cell_type": "markdown",
   "metadata": {},
   "source": [
    "### Check cohort patients who are not in the vital signs table\n",
    "Note that all NA were dropped from vital signs. Another approach is to keep and impute them for same time in wide format tables"
   ]
  },
  {
   "cell_type": "code",
   "execution_count": 36,
   "metadata": {
    "collapsed": true,
    "jupyter": {
     "outputs_hidden": true
    }
   },
   "outputs": [
    {
     "data": {
      "text/html": [
       "<style>\n",
       ".list-inline {list-style: none; margin:0; padding: 0}\n",
       ".list-inline>li {display: inline-block}\n",
       ".list-inline>li:not(:last-child)::after {content: \"\\00b7\"; padding: 0 .5ex}\n",
       "</style>\n",
       "<ol class=list-inline><li>'anon_id'</li><li>'pat_enc_csn_id_coded'</li><li>'inpatient_data_id_coded'</li><li>'label_max24'</li><li>'admit_time'</li><li>'ESI_i'</li><li>'delta_ESI'</li><li>'gender'</li><li>'age'</li><li>'medis'</li><li>'English'</li><li>'Height_i'</li><li>'delta_H'</li><li>'Weight_i'</li><li>'delta_W'</li><li>'SBP'</li><li>'DBP'</li><li>'Pulse'</li><li>'RR'</li><li>'SpO2'</li><li>'Temp'</li><li>'race.Asian'</li><li>'race.Black'</li><li>'race.Native.American'</li><li>'race.Other'</li><li>'race.Pacific.Islander'</li><li>'race.Unknown'</li><li>'race.White'</li></ol>\n"
      ],
      "text/latex": [
       "\\begin{enumerate*}\n",
       "\\item 'anon\\_id'\n",
       "\\item 'pat\\_enc\\_csn\\_id\\_coded'\n",
       "\\item 'inpatient\\_data\\_id\\_coded'\n",
       "\\item 'label\\_max24'\n",
       "\\item 'admit\\_time'\n",
       "\\item 'ESI\\_i'\n",
       "\\item 'delta\\_ESI'\n",
       "\\item 'gender'\n",
       "\\item 'age'\n",
       "\\item 'medis'\n",
       "\\item 'English'\n",
       "\\item 'Height\\_i'\n",
       "\\item 'delta\\_H'\n",
       "\\item 'Weight\\_i'\n",
       "\\item 'delta\\_W'\n",
       "\\item 'SBP'\n",
       "\\item 'DBP'\n",
       "\\item 'Pulse'\n",
       "\\item 'RR'\n",
       "\\item 'SpO2'\n",
       "\\item 'Temp'\n",
       "\\item 'race.Asian'\n",
       "\\item 'race.Black'\n",
       "\\item 'race.Native.American'\n",
       "\\item 'race.Other'\n",
       "\\item 'race.Pacific.Islander'\n",
       "\\item 'race.Unknown'\n",
       "\\item 'race.White'\n",
       "\\end{enumerate*}\n"
      ],
      "text/markdown": [
       "1. 'anon_id'\n",
       "2. 'pat_enc_csn_id_coded'\n",
       "3. 'inpatient_data_id_coded'\n",
       "4. 'label_max24'\n",
       "5. 'admit_time'\n",
       "6. 'ESI_i'\n",
       "7. 'delta_ESI'\n",
       "8. 'gender'\n",
       "9. 'age'\n",
       "10. 'medis'\n",
       "11. 'English'\n",
       "12. 'Height_i'\n",
       "13. 'delta_H'\n",
       "14. 'Weight_i'\n",
       "15. 'delta_W'\n",
       "16. 'SBP'\n",
       "17. 'DBP'\n",
       "18. 'Pulse'\n",
       "19. 'RR'\n",
       "20. 'SpO2'\n",
       "21. 'Temp'\n",
       "22. 'race.Asian'\n",
       "23. 'race.Black'\n",
       "24. 'race.Native.American'\n",
       "25. 'race.Other'\n",
       "26. 'race.Pacific.Islander'\n",
       "27. 'race.Unknown'\n",
       "28. 'race.White'\n",
       "\n",
       "\n"
      ],
      "text/plain": [
       " [1] \"anon_id\"                 \"pat_enc_csn_id_coded\"   \n",
       " [3] \"inpatient_data_id_coded\" \"label_max24\"            \n",
       " [5] \"admit_time\"              \"ESI_i\"                  \n",
       " [7] \"delta_ESI\"               \"gender\"                 \n",
       " [9] \"age\"                     \"medis\"                  \n",
       "[11] \"English\"                 \"Height_i\"               \n",
       "[13] \"delta_H\"                 \"Weight_i\"               \n",
       "[15] \"delta_W\"                 \"SBP\"                    \n",
       "[17] \"DBP\"                     \"Pulse\"                  \n",
       "[19] \"RR\"                      \"SpO2\"                   \n",
       "[21] \"Temp\"                    \"race.Asian\"             \n",
       "[23] \"race.Black\"              \"race.Native.American\"   \n",
       "[25] \"race.Other\"              \"race.Pacific.Islander\"  \n",
       "[27] \"race.Unknown\"            \"race.White\"             "
      ]
     },
     "metadata": {},
     "output_type": "display_data"
    }
   ],
   "source": [
    "demos <- demos %>% select(-c(SBP, DBP, Pulse, RR, SpO2, Temp))\n",
    "colnames(demos)"
   ]
  },
  {
   "cell_type": "code",
   "execution_count": 48,
   "metadata": {
    "collapsed": true,
    "jupyter": {
     "outputs_hidden": true
    }
   },
   "outputs": [
    {
     "data": {
      "text/html": [
       "<style>\n",
       ".list-inline {list-style: none; margin:0; padding: 0}\n",
       ".list-inline>li {display: inline-block}\n",
       ".list-inline>li:not(:last-child)::after {content: \"\\00b7\"; padding: 0 .5ex}\n",
       "</style>\n",
       "<ol class=list-inline><li>41654</li><li>22</li></ol>\n"
      ],
      "text/latex": [
       "\\begin{enumerate*}\n",
       "\\item 41654\n",
       "\\item 22\n",
       "\\end{enumerate*}\n"
      ],
      "text/markdown": [
       "1. 41654\n",
       "2. 22\n",
       "\n",
       "\n"
      ],
      "text/plain": [
       "[1] 41654    22"
      ]
     },
     "metadata": {},
     "output_type": "display_data"
    },
    {
     "data": {
      "text/html": [
       "<style>\n",
       ".list-inline {list-style: none; margin:0; padding: 0}\n",
       ".list-inline>li {display: inline-block}\n",
       ".list-inline>li:not(:last-child)::after {content: \"\\00b7\"; padding: 0 .5ex}\n",
       "</style>\n",
       "<ol class=list-inline><li>'anon_id'</li><li>'pat_enc_csn_id_coded'</li><li>'inpatient_data_id_coded'</li><li>'label_max24'</li><li>'admit_time'</li><li>'ESI_i'</li><li>'delta_ESI'</li><li>'gender'</li><li>'age'</li><li>'medis'</li><li>'English'</li><li>'Height_i'</li><li>'delta_H'</li><li>'Weight_i'</li><li>'delta_W'</li><li>'race.Asian'</li><li>'race.Black'</li><li>'race.Native.American'</li><li>'race.Other'</li><li>'race.Pacific.Islander'</li><li>'race.Unknown'</li><li>'race.White'</li></ol>\n"
      ],
      "text/latex": [
       "\\begin{enumerate*}\n",
       "\\item 'anon\\_id'\n",
       "\\item 'pat\\_enc\\_csn\\_id\\_coded'\n",
       "\\item 'inpatient\\_data\\_id\\_coded'\n",
       "\\item 'label\\_max24'\n",
       "\\item 'admit\\_time'\n",
       "\\item 'ESI\\_i'\n",
       "\\item 'delta\\_ESI'\n",
       "\\item 'gender'\n",
       "\\item 'age'\n",
       "\\item 'medis'\n",
       "\\item 'English'\n",
       "\\item 'Height\\_i'\n",
       "\\item 'delta\\_H'\n",
       "\\item 'Weight\\_i'\n",
       "\\item 'delta\\_W'\n",
       "\\item 'race.Asian'\n",
       "\\item 'race.Black'\n",
       "\\item 'race.Native.American'\n",
       "\\item 'race.Other'\n",
       "\\item 'race.Pacific.Islander'\n",
       "\\item 'race.Unknown'\n",
       "\\item 'race.White'\n",
       "\\end{enumerate*}\n"
      ],
      "text/markdown": [
       "1. 'anon_id'\n",
       "2. 'pat_enc_csn_id_coded'\n",
       "3. 'inpatient_data_id_coded'\n",
       "4. 'label_max24'\n",
       "5. 'admit_time'\n",
       "6. 'ESI_i'\n",
       "7. 'delta_ESI'\n",
       "8. 'gender'\n",
       "9. 'age'\n",
       "10. 'medis'\n",
       "11. 'English'\n",
       "12. 'Height_i'\n",
       "13. 'delta_H'\n",
       "14. 'Weight_i'\n",
       "15. 'delta_W'\n",
       "16. 'race.Asian'\n",
       "17. 'race.Black'\n",
       "18. 'race.Native.American'\n",
       "19. 'race.Other'\n",
       "20. 'race.Pacific.Islander'\n",
       "21. 'race.Unknown'\n",
       "22. 'race.White'\n",
       "\n",
       "\n"
      ],
      "text/plain": [
       " [1] \"anon_id\"                 \"pat_enc_csn_id_coded\"   \n",
       " [3] \"inpatient_data_id_coded\" \"label_max24\"            \n",
       " [5] \"admit_time\"              \"ESI_i\"                  \n",
       " [7] \"delta_ESI\"               \"gender\"                 \n",
       " [9] \"age\"                     \"medis\"                  \n",
       "[11] \"English\"                 \"Height_i\"               \n",
       "[13] \"delta_H\"                 \"Weight_i\"               \n",
       "[15] \"delta_W\"                 \"race.Asian\"             \n",
       "[17] \"race.Black\"              \"race.Native.American\"   \n",
       "[19] \"race.Other\"              \"race.Pacific.Islander\"  \n",
       "[21] \"race.Unknown\"            \"race.White\"             "
      ]
     },
     "metadata": {},
     "output_type": "display_data"
    },
    {
     "data": {
      "text/html": [
       "<table>\n",
       "<caption>A data.frame: 1 × 6</caption>\n",
       "<thead>\n",
       "\t<tr><th></th><th scope=col>anon_id</th><th scope=col>pat_enc_csn_id_coded</th><th scope=col>admit_time</th><th scope=col>features</th><th scope=col>values</th><th scope=col>feature_type</th></tr>\n",
       "\t<tr><th></th><th scope=col>&lt;fct&gt;</th><th scope=col>&lt;dbl&gt;</th><th scope=col>&lt;fct&gt;</th><th scope=col>&lt;fct&gt;</th><th scope=col>&lt;dbl&gt;</th><th scope=col>&lt;chr&gt;</th></tr>\n",
       "</thead>\n",
       "<tbody>\n",
       "\t<tr><th scope=row>1</th><td>JC29f8ad2</td><td>131274729058</td><td>2019-08-31 12:52:00</td><td>ESI_i</td><td>3</td><td>demo</td></tr>\n",
       "</tbody>\n",
       "</table>\n"
      ],
      "text/latex": [
       "A data.frame: 1 × 6\n",
       "\\begin{tabular}{r|llllll}\n",
       "  & anon\\_id & pat\\_enc\\_csn\\_id\\_coded & admit\\_time & features & values & feature\\_type\\\\\n",
       "  & <fct> & <dbl> & <fct> & <fct> & <dbl> & <chr>\\\\\n",
       "\\hline\n",
       "\t1 & JC29f8ad2 & 131274729058 & 2019-08-31 12:52:00 & ESI\\_i & 3 & demo\\\\\n",
       "\\end{tabular}\n"
      ],
      "text/markdown": [
       "\n",
       "A data.frame: 1 × 6\n",
       "\n",
       "| <!--/--> | anon_id &lt;fct&gt; | pat_enc_csn_id_coded &lt;dbl&gt; | admit_time &lt;fct&gt; | features &lt;fct&gt; | values &lt;dbl&gt; | feature_type &lt;chr&gt; |\n",
       "|---|---|---|---|---|---|---|\n",
       "| 1 | JC29f8ad2 | 131274729058 | 2019-08-31 12:52:00 | ESI_i | 3 | demo |\n",
       "\n"
      ],
      "text/plain": [
       "  anon_id   pat_enc_csn_id_coded admit_time          features values\n",
       "1 JC29f8ad2 131274729058         2019-08-31 12:52:00 ESI_i    3     \n",
       "  feature_type\n",
       "1 demo        "
      ]
     },
     "metadata": {},
     "output_type": "display_data"
    },
    {
     "data": {
      "text/html": [
       "<style>\n",
       ".list-inline {list-style: none; margin:0; padding: 0}\n",
       ".list-inline>li {display: inline-block}\n",
       ".list-inline>li:not(:last-child)::after {content: \"\\00b7\"; padding: 0 .5ex}\n",
       "</style>\n",
       "<ol class=list-inline><li>41654</li><li>22</li></ol>\n"
      ],
      "text/latex": [
       "\\begin{enumerate*}\n",
       "\\item 41654\n",
       "\\item 22\n",
       "\\end{enumerate*}\n"
      ],
      "text/markdown": [
       "1. 41654\n",
       "2. 22\n",
       "\n",
       "\n"
      ],
      "text/plain": [
       "[1] 41654    22"
      ]
     },
     "metadata": {},
     "output_type": "display_data"
    },
    {
     "data": {
      "text/html": [
       "708118"
      ],
      "text/latex": [
       "708118"
      ],
      "text/markdown": [
       "708118"
      ],
      "text/plain": [
       "[1] 708118"
      ]
     },
     "metadata": {},
     "output_type": "display_data"
    }
   ],
   "source": [
    "dim(demos)\n",
    "colnames(demos)\n",
    "demo_long <- gather(demos, features, values, ESI_i:race.White, factor_key=TRUE) %>%\n",
    "                mutate(feature_type = \"demo\") %>% select(-c(inpatient_data_id_coded, label_max24))\n",
    "                \n",
    "head(demo_long, n=1)\n",
    "dim(demos)\n",
    "nrow(demo_long) # 43291*29 (cols with values)"
   ]
  },
  {
   "cell_type": "code",
   "execution_count": 49,
   "metadata": {
    "collapsed": true,
    "jupyter": {
     "outputs_hidden": true
    }
   },
   "outputs": [
    {
     "data": {
      "text/plain": [
       "   Min. 1st Qu.  Median    Mean 3rd Qu.    Max. \n",
       "   0.00    0.00    0.00   18.18    1.00  328.00 "
      ]
     },
     "metadata": {},
     "output_type": "display_data"
    },
    {
     "data": {
      "text/html": [
       "<table>\n",
       "<caption>A grouped_df: 17 × 2</caption>\n",
       "<thead>\n",
       "\t<tr><th scope=col>features</th><th scope=col>n</th></tr>\n",
       "\t<tr><th scope=col>&lt;fct&gt;</th><th scope=col>&lt;int&gt;</th></tr>\n",
       "</thead>\n",
       "<tbody>\n",
       "\t<tr><td>ESI_i                </td><td>41654</td></tr>\n",
       "\t<tr><td>delta_ESI            </td><td>41654</td></tr>\n",
       "\t<tr><td>gender               </td><td>41654</td></tr>\n",
       "\t<tr><td>age                  </td><td>41654</td></tr>\n",
       "\t<tr><td>medis                </td><td>41654</td></tr>\n",
       "\t<tr><td>English              </td><td>41654</td></tr>\n",
       "\t<tr><td>Height_i             </td><td>41654</td></tr>\n",
       "\t<tr><td>delta_H              </td><td>41654</td></tr>\n",
       "\t<tr><td>Weight_i             </td><td>41654</td></tr>\n",
       "\t<tr><td>delta_W              </td><td>41654</td></tr>\n",
       "\t<tr><td>race.Asian           </td><td>41654</td></tr>\n",
       "\t<tr><td>race.Black           </td><td>41654</td></tr>\n",
       "\t<tr><td>race.Native.American </td><td>41654</td></tr>\n",
       "\t<tr><td>race.Other           </td><td>41654</td></tr>\n",
       "\t<tr><td>race.Pacific.Islander</td><td>41654</td></tr>\n",
       "\t<tr><td>race.Unknown         </td><td>41654</td></tr>\n",
       "\t<tr><td>race.White           </td><td>41654</td></tr>\n",
       "</tbody>\n",
       "</table>\n"
      ],
      "text/latex": [
       "A grouped\\_df: 17 × 2\n",
       "\\begin{tabular}{ll}\n",
       " features & n\\\\\n",
       " <fct> & <int>\\\\\n",
       "\\hline\n",
       "\t ESI\\_i                 & 41654\\\\\n",
       "\t delta\\_ESI             & 41654\\\\\n",
       "\t gender                & 41654\\\\\n",
       "\t age                   & 41654\\\\\n",
       "\t medis                 & 41654\\\\\n",
       "\t English               & 41654\\\\\n",
       "\t Height\\_i              & 41654\\\\\n",
       "\t delta\\_H               & 41654\\\\\n",
       "\t Weight\\_i              & 41654\\\\\n",
       "\t delta\\_W               & 41654\\\\\n",
       "\t race.Asian            & 41654\\\\\n",
       "\t race.Black            & 41654\\\\\n",
       "\t race.Native.American  & 41654\\\\\n",
       "\t race.Other            & 41654\\\\\n",
       "\t race.Pacific.Islander & 41654\\\\\n",
       "\t race.Unknown          & 41654\\\\\n",
       "\t race.White            & 41654\\\\\n",
       "\\end{tabular}\n"
      ],
      "text/markdown": [
       "\n",
       "A grouped_df: 17 × 2\n",
       "\n",
       "| features &lt;fct&gt; | n &lt;int&gt; |\n",
       "|---|---|\n",
       "| ESI_i                 | 41654 |\n",
       "| delta_ESI             | 41654 |\n",
       "| gender                | 41654 |\n",
       "| age                   | 41654 |\n",
       "| medis                 | 41654 |\n",
       "| English               | 41654 |\n",
       "| Height_i              | 41654 |\n",
       "| delta_H               | 41654 |\n",
       "| Weight_i              | 41654 |\n",
       "| delta_W               | 41654 |\n",
       "| race.Asian            | 41654 |\n",
       "| race.Black            | 41654 |\n",
       "| race.Native.American  | 41654 |\n",
       "| race.Other            | 41654 |\n",
       "| race.Pacific.Islander | 41654 |\n",
       "| race.Unknown          | 41654 |\n",
       "| race.White            | 41654 |\n",
       "\n"
      ],
      "text/plain": [
       "   features              n    \n",
       "1  ESI_i                 41654\n",
       "2  delta_ESI             41654\n",
       "3  gender                41654\n",
       "4  age                   41654\n",
       "5  medis                 41654\n",
       "6  English               41654\n",
       "7  Height_i              41654\n",
       "8  delta_H               41654\n",
       "9  Weight_i              41654\n",
       "10 delta_W               41654\n",
       "11 race.Asian            41654\n",
       "12 race.Black            41654\n",
       "13 race.Native.American  41654\n",
       "14 race.Other            41654\n",
       "15 race.Pacific.Islander 41654\n",
       "16 race.Unknown          41654\n",
       "17 race.White            41654"
      ]
     },
     "metadata": {},
     "output_type": "display_data"
    }
   ],
   "source": [
    "summary(demo_long$values)\n",
    "demo_long %>% group_by(features) %>% count()"
   ]
  },
  {
   "cell_type": "code",
   "execution_count": 52,
   "metadata": {
    "collapsed": true,
    "jupyter": {
     "outputs_hidden": true
    }
   },
   "outputs": [
    {
     "data": {
      "text/html": [
       "<table>\n",
       "<caption>A data.frame: 1 × 6</caption>\n",
       "<thead>\n",
       "\t<tr><th></th><th scope=col>anon_id</th><th scope=col>pat_enc_csn_id_coded</th><th scope=col>admit_time</th><th scope=col>features</th><th scope=col>values</th><th scope=col>feature_type</th></tr>\n",
       "\t<tr><th></th><th scope=col>&lt;fct&gt;</th><th scope=col>&lt;dbl&gt;</th><th scope=col>&lt;fct&gt;</th><th scope=col>&lt;fct&gt;</th><th scope=col>&lt;dbl&gt;</th><th scope=col>&lt;chr&gt;</th></tr>\n",
       "</thead>\n",
       "<tbody>\n",
       "\t<tr><th scope=row>1</th><td>JC29f8ad2</td><td>131274729058</td><td>2019-08-31 12:52:00</td><td>ESI_i</td><td>3</td><td>demo</td></tr>\n",
       "</tbody>\n",
       "</table>\n"
      ],
      "text/latex": [
       "A data.frame: 1 × 6\n",
       "\\begin{tabular}{r|llllll}\n",
       "  & anon\\_id & pat\\_enc\\_csn\\_id\\_coded & admit\\_time & features & values & feature\\_type\\\\\n",
       "  & <fct> & <dbl> & <fct> & <fct> & <dbl> & <chr>\\\\\n",
       "\\hline\n",
       "\t1 & JC29f8ad2 & 131274729058 & 2019-08-31 12:52:00 & ESI\\_i & 3 & demo\\\\\n",
       "\\end{tabular}\n"
      ],
      "text/markdown": [
       "\n",
       "A data.frame: 1 × 6\n",
       "\n",
       "| <!--/--> | anon_id &lt;fct&gt; | pat_enc_csn_id_coded &lt;dbl&gt; | admit_time &lt;fct&gt; | features &lt;fct&gt; | values &lt;dbl&gt; | feature_type &lt;chr&gt; |\n",
       "|---|---|---|---|---|---|---|\n",
       "| 1 | JC29f8ad2 | 131274729058 | 2019-08-31 12:52:00 | ESI_i | 3 | demo |\n",
       "\n"
      ],
      "text/plain": [
       "  anon_id   pat_enc_csn_id_coded admit_time          features values\n",
       "1 JC29f8ad2 131274729058         2019-08-31 12:52:00 ESI_i    3     \n",
       "  feature_type\n",
       "1 demo        "
      ]
     },
     "metadata": {},
     "output_type": "display_data"
    },
    {
     "data": {
      "text/html": [
       "<table>\n",
       "<caption>A data.frame: 1 × 9</caption>\n",
       "<thead>\n",
       "\t<tr><th></th><th scope=col>anon_id</th><th scope=col>pat_enc_csn_id_coded</th><th scope=col>inpatient_data_id_coded</th><th scope=col>label_max24</th><th scope=col>admit_time</th><th scope=col>features</th><th scope=col>recorded_time</th><th scope=col>values</th><th scope=col>feature_type</th></tr>\n",
       "\t<tr><th></th><th scope=col>&lt;fct&gt;</th><th scope=col>&lt;dbl&gt;</th><th scope=col>&lt;int&gt;</th><th scope=col>&lt;int&gt;</th><th scope=col>&lt;fct&gt;</th><th scope=col>&lt;fct&gt;</th><th scope=col>&lt;fct&gt;</th><th scope=col>&lt;dbl&gt;</th><th scope=col>&lt;fct&gt;</th></tr>\n",
       "</thead>\n",
       "<tbody>\n",
       "\t<tr><th scope=row>1</th><td>JCcb658e</td><td>131231466934</td><td>24822070</td><td>0</td><td>2017-06-24 12:56:00</td><td>SBP</td><td>2017-06-24 09:00:00+00:00</td><td>117</td><td>vitals</td></tr>\n",
       "</tbody>\n",
       "</table>\n"
      ],
      "text/latex": [
       "A data.frame: 1 × 9\n",
       "\\begin{tabular}{r|lllllllll}\n",
       "  & anon\\_id & pat\\_enc\\_csn\\_id\\_coded & inpatient\\_data\\_id\\_coded & label\\_max24 & admit\\_time & features & recorded\\_time & values & feature\\_type\\\\\n",
       "  & <fct> & <dbl> & <int> & <int> & <fct> & <fct> & <fct> & <dbl> & <fct>\\\\\n",
       "\\hline\n",
       "\t1 & JCcb658e & 131231466934 & 24822070 & 0 & 2017-06-24 12:56:00 & SBP & 2017-06-24 09:00:00+00:00 & 117 & vitals\\\\\n",
       "\\end{tabular}\n"
      ],
      "text/markdown": [
       "\n",
       "A data.frame: 1 × 9\n",
       "\n",
       "| <!--/--> | anon_id &lt;fct&gt; | pat_enc_csn_id_coded &lt;dbl&gt; | inpatient_data_id_coded &lt;int&gt; | label_max24 &lt;int&gt; | admit_time &lt;fct&gt; | features &lt;fct&gt; | recorded_time &lt;fct&gt; | values &lt;dbl&gt; | feature_type &lt;fct&gt; |\n",
       "|---|---|---|---|---|---|---|---|---|---|\n",
       "| 1 | JCcb658e | 131231466934 | 24822070 | 0 | 2017-06-24 12:56:00 | SBP | 2017-06-24 09:00:00+00:00 | 117 | vitals |\n",
       "\n"
      ],
      "text/plain": [
       "  anon_id  pat_enc_csn_id_coded inpatient_data_id_coded label_max24\n",
       "1 JCcb658e 131231466934         24822070                0          \n",
       "  admit_time          features recorded_time             values feature_type\n",
       "1 2017-06-24 12:56:00 SBP      2017-06-24 09:00:00+00:00 117    vitals      "
      ]
     },
     "metadata": {},
     "output_type": "display_data"
    },
    {
     "data": {
      "text/html": [
       "<table>\n",
       "<caption>A data.frame: 1 × 17</caption>\n",
       "<thead>\n",
       "\t<tr><th></th><th scope=col>anon_id</th><th scope=col>pat_enc_csn_id_coded</th><th scope=col>inpatient_data_id_coded</th><th scope=col>label_max24</th><th scope=col>admit_time</th><th scope=col>admit_label</th><th scope=col>label_24hr_recent</th><th scope=col>label_12hr_recent</th><th scope=col>has_admit_label</th><th scope=col>first_label</th><th scope=col>first_label_time_since_admit</th><th scope=col>acute_to_critical_label</th><th scope=col>critical_to_acute_label</th><th scope=col>features</th><th scope=col>values</th><th scope=col>result_time</th><th scope=col>feature_type</th></tr>\n",
       "\t<tr><th></th><th scope=col>&lt;fct&gt;</th><th scope=col>&lt;dbl&gt;</th><th scope=col>&lt;int&gt;</th><th scope=col>&lt;int&gt;</th><th scope=col>&lt;fct&gt;</th><th scope=col>&lt;int&gt;</th><th scope=col>&lt;int&gt;</th><th scope=col>&lt;int&gt;</th><th scope=col>&lt;int&gt;</th><th scope=col>&lt;int&gt;</th><th scope=col>&lt;fct&gt;</th><th scope=col>&lt;int&gt;</th><th scope=col>&lt;int&gt;</th><th scope=col>&lt;fct&gt;</th><th scope=col>&lt;dbl&gt;</th><th scope=col>&lt;fct&gt;</th><th scope=col>&lt;fct&gt;</th></tr>\n",
       "</thead>\n",
       "<tbody>\n",
       "\t<tr><th scope=row>1</th><td>JC29f8ad2</td><td>131274729058</td><td>40679773</td><td>0</td><td>2019-08-31 12:52:00+00:00</td><td>0</td><td>0</td><td>0</td><td>1</td><td>0</td><td>0</td><td>0</td><td>0</td><td>Magnesium, Ser/Plas</td><td>2</td><td>2019-08-31 11:49:00</td><td>labs</td></tr>\n",
       "</tbody>\n",
       "</table>\n"
      ],
      "text/latex": [
       "A data.frame: 1 × 17\n",
       "\\begin{tabular}{r|lllllllllllllllll}\n",
       "  & anon\\_id & pat\\_enc\\_csn\\_id\\_coded & inpatient\\_data\\_id\\_coded & label\\_max24 & admit\\_time & admit\\_label & label\\_24hr\\_recent & label\\_12hr\\_recent & has\\_admit\\_label & first\\_label & first\\_label\\_time\\_since\\_admit & acute\\_to\\_critical\\_label & critical\\_to\\_acute\\_label & features & values & result\\_time & feature\\_type\\\\\n",
       "  & <fct> & <dbl> & <int> & <int> & <fct> & <int> & <int> & <int> & <int> & <int> & <fct> & <int> & <int> & <fct> & <dbl> & <fct> & <fct>\\\\\n",
       "\\hline\n",
       "\t1 & JC29f8ad2 & 131274729058 & 40679773 & 0 & 2019-08-31 12:52:00+00:00 & 0 & 0 & 0 & 1 & 0 & 0 & 0 & 0 & Magnesium, Ser/Plas & 2 & 2019-08-31 11:49:00 & labs\\\\\n",
       "\\end{tabular}\n"
      ],
      "text/markdown": [
       "\n",
       "A data.frame: 1 × 17\n",
       "\n",
       "| <!--/--> | anon_id &lt;fct&gt; | pat_enc_csn_id_coded &lt;dbl&gt; | inpatient_data_id_coded &lt;int&gt; | label_max24 &lt;int&gt; | admit_time &lt;fct&gt; | admit_label &lt;int&gt; | label_24hr_recent &lt;int&gt; | label_12hr_recent &lt;int&gt; | has_admit_label &lt;int&gt; | first_label &lt;int&gt; | first_label_time_since_admit &lt;fct&gt; | acute_to_critical_label &lt;int&gt; | critical_to_acute_label &lt;int&gt; | features &lt;fct&gt; | values &lt;dbl&gt; | result_time &lt;fct&gt; | feature_type &lt;fct&gt; |\n",
       "|---|---|---|---|---|---|---|---|---|---|---|---|---|---|---|---|---|---|\n",
       "| 1 | JC29f8ad2 | 131274729058 | 40679773 | 0 | 2019-08-31 12:52:00+00:00 | 0 | 0 | 0 | 1 | 0 | 0 | 0 | 0 | Magnesium, Ser/Plas | 2 | 2019-08-31 11:49:00 | labs |\n",
       "\n"
      ],
      "text/plain": [
       "  anon_id   pat_enc_csn_id_coded inpatient_data_id_coded label_max24\n",
       "1 JC29f8ad2 131274729058         40679773                0          \n",
       "  admit_time                admit_label label_24hr_recent label_12hr_recent\n",
       "1 2019-08-31 12:52:00+00:00 0           0                 0                \n",
       "  has_admit_label first_label first_label_time_since_admit\n",
       "1 1               0           0                           \n",
       "  acute_to_critical_label critical_to_acute_label features            values\n",
       "1 0                       0                       Magnesium, Ser/Plas 2     \n",
       "  result_time         feature_type\n",
       "1 2019-08-31 11:49:00 labs        "
      ]
     },
     "metadata": {},
     "output_type": "display_data"
    }
   ],
   "source": [
    "head(demo_long, n=1)\n",
    "head(vitals, n=1)\n",
    "head(labs, n=1)"
   ]
  },
  {
   "cell_type": "code",
   "execution_count": 53,
   "metadata": {
    "collapsed": true,
    "jupyter": {
     "outputs_hidden": true
    }
   },
   "outputs": [],
   "source": [
    "# clean vitals and labs to merge\n",
    "vitals <- vitals %>% select(anon_id, pat_enc_csn_id_coded, admit_time, features, values, feature_type, time=recorded_time) \n",
    "labs <- labs %>% select(anon_id, pat_enc_csn_id_coded, admit_time, features, values, feature_type, time=result_time)"
   ]
  },
  {
   "cell_type": "code",
   "execution_count": 63,
   "metadata": {
    "collapsed": true,
    "jupyter": {
     "outputs_hidden": true
    }
   },
   "outputs": [
    {
     "data": {
      "text/html": [
       "<table>\n",
       "<caption>A data.frame: 6 × 7</caption>\n",
       "<thead>\n",
       "\t<tr><th></th><th scope=col>anon_id</th><th scope=col>pat_enc_csn_id_coded</th><th scope=col>admit_time</th><th scope=col>features</th><th scope=col>values</th><th scope=col>feature_type</th><th scope=col>time</th></tr>\n",
       "\t<tr><th></th><th scope=col>&lt;fct&gt;</th><th scope=col>&lt;dbl&gt;</th><th scope=col>&lt;fct&gt;</th><th scope=col>&lt;fct&gt;</th><th scope=col>&lt;dbl&gt;</th><th scope=col>&lt;fct&gt;</th><th scope=col>&lt;fct&gt;</th></tr>\n",
       "</thead>\n",
       "<tbody>\n",
       "\t<tr><th scope=row>1</th><td>JCce9b8f</td><td>131117935744</td><td>2015-09-04 11:45:00+00:00</td><td>Base</td><td>-30</td><td>labs</td><td>2015-09-04 01:22:00</td></tr>\n",
       "\t<tr><th scope=row>2</th><td>JCcfa09a</td><td>131243846676</td><td>2018-01-21 10:31:00+00:00</td><td>Base</td><td>-30</td><td>labs</td><td>2018-01-21 01:22:00</td></tr>\n",
       "\t<tr><th scope=row>3</th><td>JCd08ac9</td><td>131102861750</td><td>2015-07-03 18:21:00+00:00</td><td>Base</td><td>-30</td><td>labs</td><td>2015-07-03 10:35:00</td></tr>\n",
       "\t<tr><th scope=row>4</th><td>JCd08ac9</td><td>131102861750</td><td>2015-07-03 18:21:00+00:00</td><td>Base</td><td>-30</td><td>labs</td><td>2015-07-03 08:41:00</td></tr>\n",
       "\t<tr><th scope=row>5</th><td>JCdab3d0</td><td>131094116026</td><td>2015-06-29 01:26:00+00:00</td><td>Base</td><td>-30</td><td>labs</td><td>2015-06-28 22:38:00</td></tr>\n",
       "\t<tr><th scope=row>6</th><td>JCdab3d0</td><td>131094116026</td><td>2015-06-29 01:26:00+00:00</td><td>Base</td><td>-30</td><td>labs</td><td>2015-06-28 13:25:00</td></tr>\n",
       "</tbody>\n",
       "</table>\n"
      ],
      "text/latex": [
       "A data.frame: 6 × 7\n",
       "\\begin{tabular}{r|lllllll}\n",
       "  & anon\\_id & pat\\_enc\\_csn\\_id\\_coded & admit\\_time & features & values & feature\\_type & time\\\\\n",
       "  & <fct> & <dbl> & <fct> & <fct> & <dbl> & <fct> & <fct>\\\\\n",
       "\\hline\n",
       "\t1 & JCce9b8f & 131117935744 & 2015-09-04 11:45:00+00:00 & Base & -30 & labs & 2015-09-04 01:22:00\\\\\n",
       "\t2 & JCcfa09a & 131243846676 & 2018-01-21 10:31:00+00:00 & Base & -30 & labs & 2018-01-21 01:22:00\\\\\n",
       "\t3 & JCd08ac9 & 131102861750 & 2015-07-03 18:21:00+00:00 & Base & -30 & labs & 2015-07-03 10:35:00\\\\\n",
       "\t4 & JCd08ac9 & 131102861750 & 2015-07-03 18:21:00+00:00 & Base & -30 & labs & 2015-07-03 08:41:00\\\\\n",
       "\t5 & JCdab3d0 & 131094116026 & 2015-06-29 01:26:00+00:00 & Base & -30 & labs & 2015-06-28 22:38:00\\\\\n",
       "\t6 & JCdab3d0 & 131094116026 & 2015-06-29 01:26:00+00:00 & Base & -30 & labs & 2015-06-28 13:25:00\\\\\n",
       "\\end{tabular}\n"
      ],
      "text/markdown": [
       "\n",
       "A data.frame: 6 × 7\n",
       "\n",
       "| <!--/--> | anon_id &lt;fct&gt; | pat_enc_csn_id_coded &lt;dbl&gt; | admit_time &lt;fct&gt; | features &lt;fct&gt; | values &lt;dbl&gt; | feature_type &lt;fct&gt; | time &lt;fct&gt; |\n",
       "|---|---|---|---|---|---|---|---|\n",
       "| 1 | JCce9b8f | 131117935744 | 2015-09-04 11:45:00+00:00 | Base | -30 | labs | 2015-09-04 01:22:00 |\n",
       "| 2 | JCcfa09a | 131243846676 | 2018-01-21 10:31:00+00:00 | Base | -30 | labs | 2018-01-21 01:22:00 |\n",
       "| 3 | JCd08ac9 | 131102861750 | 2015-07-03 18:21:00+00:00 | Base | -30 | labs | 2015-07-03 10:35:00 |\n",
       "| 4 | JCd08ac9 | 131102861750 | 2015-07-03 18:21:00+00:00 | Base | -30 | labs | 2015-07-03 08:41:00 |\n",
       "| 5 | JCdab3d0 | 131094116026 | 2015-06-29 01:26:00+00:00 | Base | -30 | labs | 2015-06-28 22:38:00 |\n",
       "| 6 | JCdab3d0 | 131094116026 | 2015-06-29 01:26:00+00:00 | Base | -30 | labs | 2015-06-28 13:25:00 |\n",
       "\n"
      ],
      "text/plain": [
       "  anon_id  pat_enc_csn_id_coded admit_time                features values\n",
       "1 JCce9b8f 131117935744         2015-09-04 11:45:00+00:00 Base     -30   \n",
       "2 JCcfa09a 131243846676         2018-01-21 10:31:00+00:00 Base     -30   \n",
       "3 JCd08ac9 131102861750         2015-07-03 18:21:00+00:00 Base     -30   \n",
       "4 JCd08ac9 131102861750         2015-07-03 18:21:00+00:00 Base     -30   \n",
       "5 JCdab3d0 131094116026         2015-06-29 01:26:00+00:00 Base     -30   \n",
       "6 JCdab3d0 131094116026         2015-06-29 01:26:00+00:00 Base     -30   \n",
       "  feature_type time               \n",
       "1 labs         2015-09-04 01:22:00\n",
       "2 labs         2018-01-21 01:22:00\n",
       "3 labs         2015-07-03 10:35:00\n",
       "4 labs         2015-07-03 08:41:00\n",
       "5 labs         2015-06-28 22:38:00\n",
       "6 labs         2015-06-28 13:25:00"
      ]
     },
     "metadata": {},
     "output_type": "display_data"
    },
    {
     "data": {
      "text/html": [
       "<table>\n",
       "<caption>A data.frame: 6 × 7</caption>\n",
       "<thead>\n",
       "\t<tr><th></th><th scope=col>anon_id</th><th scope=col>pat_enc_csn_id_coded</th><th scope=col>admit_time</th><th scope=col>features</th><th scope=col>values</th><th scope=col>feature_type</th><th scope=col>time</th></tr>\n",
       "\t<tr><th></th><th scope=col>&lt;fct&gt;</th><th scope=col>&lt;dbl&gt;</th><th scope=col>&lt;fct&gt;</th><th scope=col>&lt;fct&gt;</th><th scope=col>&lt;dbl&gt;</th><th scope=col>&lt;fct&gt;</th><th scope=col>&lt;fct&gt;</th></tr>\n",
       "</thead>\n",
       "<tbody>\n",
       "\t<tr><th scope=row>1</th><td>JCd924e2</td><td>131073340176</td><td>2015-03-17 07:09:00+00:00</td><td>AST (SGOT), Ser/Plas</td><td>9655</td><td>labs</td><td>2015-03-17 03:11:00</td></tr>\n",
       "\t<tr><th scope=row>2</th><td>JCe207ac</td><td>131267177049</td><td>2019-04-04 03:57:00+00:00</td><td>AST (SGOT), Ser/Plas</td><td>6729</td><td>labs</td><td>2019-04-03 21:44:00</td></tr>\n",
       "\t<tr><th scope=row>3</th><td>JCdcd138</td><td>131279658341</td><td>2019-11-02 03:04:00+00:00</td><td>AST (SGOT), Ser/Plas</td><td>6673</td><td>labs</td><td>2019-11-02 03:01:00</td></tr>\n",
       "\t<tr><th scope=row>4</th><td>JCe53597</td><td>131238056628</td><td>2017-08-17 23:06:00+00:00</td><td>AST (SGOT), Ser/Plas</td><td>6589</td><td>labs</td><td>2017-08-17 21:01:00</td></tr>\n",
       "\t<tr><th scope=row>5</th><td>JCe53597</td><td>131238056628</td><td>2017-08-17 23:06:00+00:00</td><td>AST (SGOT), Ser/Plas</td><td>6307</td><td>labs</td><td>2017-08-17 21:03:00</td></tr>\n",
       "\t<tr><th scope=row>6</th><td>JCea5c17</td><td>131249268828</td><td>2018-04-15 05:44:00+00:00</td><td>AST (SGOT), Ser/Plas</td><td>5985</td><td>labs</td><td>2018-04-15 03:33:00</td></tr>\n",
       "</tbody>\n",
       "</table>\n"
      ],
      "text/latex": [
       "A data.frame: 6 × 7\n",
       "\\begin{tabular}{r|lllllll}\n",
       "  & anon\\_id & pat\\_enc\\_csn\\_id\\_coded & admit\\_time & features & values & feature\\_type & time\\\\\n",
       "  & <fct> & <dbl> & <fct> & <fct> & <dbl> & <fct> & <fct>\\\\\n",
       "\\hline\n",
       "\t1 & JCd924e2 & 131073340176 & 2015-03-17 07:09:00+00:00 & AST (SGOT), Ser/Plas & 9655 & labs & 2015-03-17 03:11:00\\\\\n",
       "\t2 & JCe207ac & 131267177049 & 2019-04-04 03:57:00+00:00 & AST (SGOT), Ser/Plas & 6729 & labs & 2019-04-03 21:44:00\\\\\n",
       "\t3 & JCdcd138 & 131279658341 & 2019-11-02 03:04:00+00:00 & AST (SGOT), Ser/Plas & 6673 & labs & 2019-11-02 03:01:00\\\\\n",
       "\t4 & JCe53597 & 131238056628 & 2017-08-17 23:06:00+00:00 & AST (SGOT), Ser/Plas & 6589 & labs & 2017-08-17 21:01:00\\\\\n",
       "\t5 & JCe53597 & 131238056628 & 2017-08-17 23:06:00+00:00 & AST (SGOT), Ser/Plas & 6307 & labs & 2017-08-17 21:03:00\\\\\n",
       "\t6 & JCea5c17 & 131249268828 & 2018-04-15 05:44:00+00:00 & AST (SGOT), Ser/Plas & 5985 & labs & 2018-04-15 03:33:00\\\\\n",
       "\\end{tabular}\n"
      ],
      "text/markdown": [
       "\n",
       "A data.frame: 6 × 7\n",
       "\n",
       "| <!--/--> | anon_id &lt;fct&gt; | pat_enc_csn_id_coded &lt;dbl&gt; | admit_time &lt;fct&gt; | features &lt;fct&gt; | values &lt;dbl&gt; | feature_type &lt;fct&gt; | time &lt;fct&gt; |\n",
       "|---|---|---|---|---|---|---|---|\n",
       "| 1 | JCd924e2 | 131073340176 | 2015-03-17 07:09:00+00:00 | AST (SGOT), Ser/Plas | 9655 | labs | 2015-03-17 03:11:00 |\n",
       "| 2 | JCe207ac | 131267177049 | 2019-04-04 03:57:00+00:00 | AST (SGOT), Ser/Plas | 6729 | labs | 2019-04-03 21:44:00 |\n",
       "| 3 | JCdcd138 | 131279658341 | 2019-11-02 03:04:00+00:00 | AST (SGOT), Ser/Plas | 6673 | labs | 2019-11-02 03:01:00 |\n",
       "| 4 | JCe53597 | 131238056628 | 2017-08-17 23:06:00+00:00 | AST (SGOT), Ser/Plas | 6589 | labs | 2017-08-17 21:01:00 |\n",
       "| 5 | JCe53597 | 131238056628 | 2017-08-17 23:06:00+00:00 | AST (SGOT), Ser/Plas | 6307 | labs | 2017-08-17 21:03:00 |\n",
       "| 6 | JCea5c17 | 131249268828 | 2018-04-15 05:44:00+00:00 | AST (SGOT), Ser/Plas | 5985 | labs | 2018-04-15 03:33:00 |\n",
       "\n"
      ],
      "text/plain": [
       "  anon_id  pat_enc_csn_id_coded admit_time                features            \n",
       "1 JCd924e2 131073340176         2015-03-17 07:09:00+00:00 AST (SGOT), Ser/Plas\n",
       "2 JCe207ac 131267177049         2019-04-04 03:57:00+00:00 AST (SGOT), Ser/Plas\n",
       "3 JCdcd138 131279658341         2019-11-02 03:04:00+00:00 AST (SGOT), Ser/Plas\n",
       "4 JCe53597 131238056628         2017-08-17 23:06:00+00:00 AST (SGOT), Ser/Plas\n",
       "5 JCe53597 131238056628         2017-08-17 23:06:00+00:00 AST (SGOT), Ser/Plas\n",
       "6 JCea5c17 131249268828         2018-04-15 05:44:00+00:00 AST (SGOT), Ser/Plas\n",
       "  values feature_type time               \n",
       "1 9655   labs         2015-03-17 03:11:00\n",
       "2 6729   labs         2019-04-03 21:44:00\n",
       "3 6673   labs         2019-11-02 03:01:00\n",
       "4 6589   labs         2017-08-17 21:01:00\n",
       "5 6307   labs         2017-08-17 21:03:00\n",
       "6 5985   labs         2018-04-15 03:33:00"
      ]
     },
     "metadata": {},
     "output_type": "display_data"
    }
   ],
   "source": [
    "head(labs %>% arrange(values))\n",
    "head(labs %>% arrange(desc(values)))"
   ]
  },
  {
   "cell_type": "code",
   "execution_count": 55,
   "metadata": {
    "collapsed": true,
    "jupyter": {
     "outputs_hidden": true
    }
   },
   "outputs": [
    {
     "data": {
      "text/html": [
       "3350756"
      ],
      "text/latex": [
       "3350756"
      ],
      "text/markdown": [
       "3350756"
      ],
      "text/plain": [
       "[1] 3350756"
      ]
     },
     "metadata": {},
     "output_type": "display_data"
    }
   ],
   "source": [
    "# combine demos, vitals and labs, long format, with \"time\"\n",
    "feat3 <- bind_rows(demo_long, vitals, labs)\n",
    "feat3 <- as.data.frame(unclass(feat3))\n",
    "nrow(feat3)"
   ]
  },
  {
   "cell_type": "code",
   "execution_count": 56,
   "metadata": {
    "collapsed": true,
    "jupyter": {
     "outputs_hidden": true
    }
   },
   "outputs": [
    {
     "data": {
      "text/html": [
       "<table>\n",
       "<caption>A data.frame: 1 × 7</caption>\n",
       "<thead>\n",
       "\t<tr><th></th><th scope=col>anon_id</th><th scope=col>pat_enc_csn_id_coded</th><th scope=col>admit_time</th><th scope=col>features</th><th scope=col>values</th><th scope=col>feature_type</th><th scope=col>time</th></tr>\n",
       "\t<tr><th></th><th scope=col>&lt;fct&gt;</th><th scope=col>&lt;dbl&gt;</th><th scope=col>&lt;fct&gt;</th><th scope=col>&lt;fct&gt;</th><th scope=col>&lt;dbl&gt;</th><th scope=col>&lt;fct&gt;</th><th scope=col>&lt;fct&gt;</th></tr>\n",
       "</thead>\n",
       "<tbody>\n",
       "\t<tr><th scope=row>1</th><td>JC29f8ad2</td><td>131274729058</td><td>2019-08-31 12:52:00</td><td>ESI_i</td><td>3</td><td>demo</td><td>NA</td></tr>\n",
       "</tbody>\n",
       "</table>\n"
      ],
      "text/latex": [
       "A data.frame: 1 × 7\n",
       "\\begin{tabular}{r|lllllll}\n",
       "  & anon\\_id & pat\\_enc\\_csn\\_id\\_coded & admit\\_time & features & values & feature\\_type & time\\\\\n",
       "  & <fct> & <dbl> & <fct> & <fct> & <dbl> & <fct> & <fct>\\\\\n",
       "\\hline\n",
       "\t1 & JC29f8ad2 & 131274729058 & 2019-08-31 12:52:00 & ESI\\_i & 3 & demo & NA\\\\\n",
       "\\end{tabular}\n"
      ],
      "text/markdown": [
       "\n",
       "A data.frame: 1 × 7\n",
       "\n",
       "| <!--/--> | anon_id &lt;fct&gt; | pat_enc_csn_id_coded &lt;dbl&gt; | admit_time &lt;fct&gt; | features &lt;fct&gt; | values &lt;dbl&gt; | feature_type &lt;fct&gt; | time &lt;fct&gt; |\n",
       "|---|---|---|---|---|---|---|---|\n",
       "| 1 | JC29f8ad2 | 131274729058 | 2019-08-31 12:52:00 | ESI_i | 3 | demo | NA |\n",
       "\n"
      ],
      "text/plain": [
       "  anon_id   pat_enc_csn_id_coded admit_time          features values\n",
       "1 JC29f8ad2 131274729058         2019-08-31 12:52:00 ESI_i    3     \n",
       "  feature_type time\n",
       "1 demo         NA  "
      ]
     },
     "metadata": {},
     "output_type": "display_data"
    },
    {
     "data": {
      "text/html": [
       "<table>\n",
       "<caption>A data.frame: 1 × 7</caption>\n",
       "<thead>\n",
       "\t<tr><th></th><th scope=col>anon_id</th><th scope=col>pat_enc_csn_id_coded</th><th scope=col>admit_time</th><th scope=col>features</th><th scope=col>values</th><th scope=col>feature_type</th><th scope=col>time</th></tr>\n",
       "\t<tr><th></th><th scope=col>&lt;fct&gt;</th><th scope=col>&lt;dbl&gt;</th><th scope=col>&lt;fct&gt;</th><th scope=col>&lt;fct&gt;</th><th scope=col>&lt;dbl&gt;</th><th scope=col>&lt;fct&gt;</th><th scope=col>&lt;fct&gt;</th></tr>\n",
       "</thead>\n",
       "<tbody>\n",
       "\t<tr><th scope=row>3350756</th><td>JCec489c</td><td>131226296895</td><td>2017-05-08 01:56:00+00:00</td><td>Neut</td><td>7.71</td><td>labs</td><td>2017-05-08 00:58:00</td></tr>\n",
       "</tbody>\n",
       "</table>\n"
      ],
      "text/latex": [
       "A data.frame: 1 × 7\n",
       "\\begin{tabular}{r|lllllll}\n",
       "  & anon\\_id & pat\\_enc\\_csn\\_id\\_coded & admit\\_time & features & values & feature\\_type & time\\\\\n",
       "  & <fct> & <dbl> & <fct> & <fct> & <dbl> & <fct> & <fct>\\\\\n",
       "\\hline\n",
       "\t3350756 & JCec489c & 131226296895 & 2017-05-08 01:56:00+00:00 & Neut & 7.71 & labs & 2017-05-08 00:58:00\\\\\n",
       "\\end{tabular}\n"
      ],
      "text/markdown": [
       "\n",
       "A data.frame: 1 × 7\n",
       "\n",
       "| <!--/--> | anon_id &lt;fct&gt; | pat_enc_csn_id_coded &lt;dbl&gt; | admit_time &lt;fct&gt; | features &lt;fct&gt; | values &lt;dbl&gt; | feature_type &lt;fct&gt; | time &lt;fct&gt; |\n",
       "|---|---|---|---|---|---|---|---|\n",
       "| 3350756 | JCec489c | 131226296895 | 2017-05-08 01:56:00+00:00 | Neut | 7.71 | labs | 2017-05-08 00:58:00 |\n",
       "\n"
      ],
      "text/plain": [
       "        anon_id  pat_enc_csn_id_coded admit_time                features values\n",
       "3350756 JCec489c 131226296895         2017-05-08 01:56:00+00:00 Neut     7.71  \n",
       "        feature_type time               \n",
       "3350756 labs         2017-05-08 00:58:00"
      ]
     },
     "metadata": {},
     "output_type": "display_data"
    }
   ],
   "source": [
    "head(feat3, n=1)\n",
    "tail(feat3, n=1)"
   ]
  },
  {
   "cell_type": "code",
   "execution_count": 58,
   "metadata": {
    "collapsed": true,
    "jupyter": {
     "outputs_hidden": true
    }
   },
   "outputs": [
    {
     "data": {
      "text/html": [
       "<table>\n",
       "<caption>A data.frame: 3 × 2</caption>\n",
       "<thead>\n",
       "\t<tr><th scope=col>feature_type</th><th scope=col>n</th></tr>\n",
       "\t<tr><th scope=col>&lt;fct&gt;</th><th scope=col>&lt;int&gt;</th></tr>\n",
       "</thead>\n",
       "<tbody>\n",
       "\t<tr><td>demo  </td><td> 708118</td></tr>\n",
       "\t<tr><td>labs  </td><td>1368351</td></tr>\n",
       "\t<tr><td>vitals</td><td>1274287</td></tr>\n",
       "</tbody>\n",
       "</table>\n"
      ],
      "text/latex": [
       "A data.frame: 3 × 2\n",
       "\\begin{tabular}{ll}\n",
       " feature\\_type & n\\\\\n",
       " <fct> & <int>\\\\\n",
       "\\hline\n",
       "\t demo   &  708118\\\\\n",
       "\t labs   & 1368351\\\\\n",
       "\t vitals & 1274287\\\\\n",
       "\\end{tabular}\n"
      ],
      "text/markdown": [
       "\n",
       "A data.frame: 3 × 2\n",
       "\n",
       "| feature_type &lt;fct&gt; | n &lt;int&gt; |\n",
       "|---|---|\n",
       "| demo   |  708118 |\n",
       "| labs   | 1368351 |\n",
       "| vitals | 1274287 |\n",
       "\n"
      ],
      "text/plain": [
       "  feature_type n      \n",
       "1 demo          708118\n",
       "2 labs         1368351\n",
       "3 vitals       1274287"
      ]
     },
     "metadata": {},
     "output_type": "display_data"
    }
   ],
   "source": [
    "feat3 %>% count(feature_type)"
   ]
  },
  {
   "cell_type": "code",
   "execution_count": 61,
   "metadata": {
    "collapsed": true,
    "jupyter": {
     "outputs_hidden": true
    }
   },
   "outputs": [
    {
     "data": {
      "text/html": [
       "<table>\n",
       "<caption>A grouped_df: 72 × 3</caption>\n",
       "<thead>\n",
       "\t<tr><th scope=col>feature_type</th><th scope=col>features</th><th scope=col>n</th></tr>\n",
       "\t<tr><th scope=col>&lt;fct&gt;</th><th scope=col>&lt;fct&gt;</th><th scope=col>&lt;int&gt;</th></tr>\n",
       "</thead>\n",
       "<tbody>\n",
       "\t<tr><td>demo  </td><td>ESI_i                      </td><td> 41654</td></tr>\n",
       "\t<tr><td>demo  </td><td>delta_ESI                  </td><td> 41654</td></tr>\n",
       "\t<tr><td>demo  </td><td>gender                     </td><td> 41654</td></tr>\n",
       "\t<tr><td>demo  </td><td>age                        </td><td> 41654</td></tr>\n",
       "\t<tr><td>demo  </td><td>medis                      </td><td> 41654</td></tr>\n",
       "\t<tr><td>demo  </td><td>English                    </td><td> 41654</td></tr>\n",
       "\t<tr><td>demo  </td><td>Height_i                   </td><td> 41654</td></tr>\n",
       "\t<tr><td>demo  </td><td>delta_H                    </td><td> 41654</td></tr>\n",
       "\t<tr><td>demo  </td><td>Weight_i                   </td><td> 41654</td></tr>\n",
       "\t<tr><td>demo  </td><td>delta_W                    </td><td> 41654</td></tr>\n",
       "\t<tr><td>demo  </td><td>race.Asian                 </td><td> 41654</td></tr>\n",
       "\t<tr><td>demo  </td><td>race.Black                 </td><td> 41654</td></tr>\n",
       "\t<tr><td>demo  </td><td>race.Native.American       </td><td> 41654</td></tr>\n",
       "\t<tr><td>demo  </td><td>race.Other                 </td><td> 41654</td></tr>\n",
       "\t<tr><td>demo  </td><td>race.Pacific.Islander      </td><td> 41654</td></tr>\n",
       "\t<tr><td>demo  </td><td>race.Unknown               </td><td> 41654</td></tr>\n",
       "\t<tr><td>demo  </td><td>race.White                 </td><td> 41654</td></tr>\n",
       "\t<tr><td>labs  </td><td>Albumin, Ser/Plas          </td><td> 36239</td></tr>\n",
       "\t<tr><td>labs  </td><td>Alk P'TASE, Total, Ser/Plas</td><td> 36046</td></tr>\n",
       "\t<tr><td>labs  </td><td>ALT (SGPT), Ser/Plas       </td><td> 35956</td></tr>\n",
       "\t<tr><td>labs  </td><td>AnionGap                   </td><td> 42524</td></tr>\n",
       "\t<tr><td>labs  </td><td>AST (SGOT), Ser/Plas       </td><td> 35921</td></tr>\n",
       "\t<tr><td>labs  </td><td>Base                       </td><td> 19624</td></tr>\n",
       "\t<tr><td>labs  </td><td>Basos                      </td><td> 34147</td></tr>\n",
       "\t<tr><td>labs  </td><td>BUN                        </td><td> 42660</td></tr>\n",
       "\t<tr><td>labs  </td><td>Calcium, Ser/Plas          </td><td> 40099</td></tr>\n",
       "\t<tr><td>labs  </td><td>Cl                         </td><td> 42976</td></tr>\n",
       "\t<tr><td>labs  </td><td>CO2, Ser/Plas              </td><td> 39963</td></tr>\n",
       "\t<tr><td>labs  </td><td>Cr                         </td><td> 42836</td></tr>\n",
       "\t<tr><td>labs  </td><td>Eos                        </td><td> 34623</td></tr>\n",
       "\t<tr><td>labs  </td><td>Globulin                   </td><td> 35638</td></tr>\n",
       "\t<tr><td>labs  </td><td>Glucose                    </td><td> 49639</td></tr>\n",
       "\t<tr><td>labs  </td><td>HCO3_a                     </td><td>  1899</td></tr>\n",
       "\t<tr><td>labs  </td><td>HCO3_v                     </td><td> 18008</td></tr>\n",
       "\t<tr><td>labs  </td><td>Hct                        </td><td> 43307</td></tr>\n",
       "\t<tr><td>labs  </td><td>Hgb                        </td><td> 43261</td></tr>\n",
       "\t<tr><td>labs  </td><td>INR                        </td><td> 18509</td></tr>\n",
       "\t<tr><td>labs  </td><td>K                          </td><td> 43392</td></tr>\n",
       "\t<tr><td>labs  </td><td>Lactate                    </td><td> 21197</td></tr>\n",
       "\t<tr><td>labs  </td><td>Lymp                       </td><td> 36279</td></tr>\n",
       "\t<tr><td>labs  </td><td>Magnesium, Ser/Plas        </td><td>  7379</td></tr>\n",
       "\t<tr><td>labs  </td><td>MCH                        </td><td> 39909</td></tr>\n",
       "\t<tr><td>labs  </td><td>MCHC                       </td><td> 39908</td></tr>\n",
       "\t<tr><td>labs  </td><td>MCV                        </td><td> 39924</td></tr>\n",
       "\t<tr><td>labs  </td><td>Mono                       </td><td> 36164</td></tr>\n",
       "\t<tr><td>labs  </td><td>Na                         </td><td> 43275</td></tr>\n",
       "\t<tr><td>labs  </td><td>Neut                       </td><td> 36235</td></tr>\n",
       "\t<tr><td>labs  </td><td>O2sat_a                    </td><td>  1582</td></tr>\n",
       "\t<tr><td>labs  </td><td>O2sat_v                    </td><td> 18157</td></tr>\n",
       "\t<tr><td>labs  </td><td>pCO2_a                     </td><td>  1704</td></tr>\n",
       "\t<tr><td>labs  </td><td>pCO2_v                     </td><td> 18217</td></tr>\n",
       "\t<tr><td>labs  </td><td>pH_a                       </td><td>  1632</td></tr>\n",
       "\t<tr><td>labs  </td><td>pH_v                       </td><td> 18314</td></tr>\n",
       "\t<tr><td>labs  </td><td>Phosphorus, Ser/Plas       </td><td>  1857</td></tr>\n",
       "\t<tr><td>labs  </td><td>Platelet                   </td><td> 40099</td></tr>\n",
       "\t<tr><td>labs  </td><td>PO2_a                      </td><td>  1705</td></tr>\n",
       "\t<tr><td>labs  </td><td>PO2_v                      </td><td> 18236</td></tr>\n",
       "\t<tr><td>labs  </td><td>Protein, Total, Ser/Plas   </td><td> 36126</td></tr>\n",
       "\t<tr><td>labs  </td><td>PT                         </td><td> 18487</td></tr>\n",
       "\t<tr><td>labs  </td><td>RBC                        </td><td> 39955</td></tr>\n",
       "\t<tr><td>labs  </td><td>TBili                      </td><td> 36325</td></tr>\n",
       "\t<tr><td>labs  </td><td>TCO2 (v), ISTAT            </td><td> 17909</td></tr>\n",
       "\t<tr><td>labs  </td><td>TCO2_a                     </td><td>  4691</td></tr>\n",
       "\t<tr><td>labs  </td><td>Trop                       </td><td> 15822</td></tr>\n",
       "\t<tr><td>labs  </td><td>WBC                        </td><td> 39996</td></tr>\n",
       "\t<tr><td>vitals</td><td>DBP                        </td><td>203896</td></tr>\n",
       "\t<tr><td>vitals</td><td>GCS                        </td><td> 44442</td></tr>\n",
       "\t<tr><td>vitals</td><td>Pulse                      </td><td>260114</td></tr>\n",
       "\t<tr><td>vitals</td><td>RR                         </td><td>206469</td></tr>\n",
       "\t<tr><td>vitals</td><td>SBP                        </td><td>203937</td></tr>\n",
       "\t<tr><td>vitals</td><td>SpO2                       </td><td>218899</td></tr>\n",
       "\t<tr><td>vitals</td><td>Temp                       </td><td>136530</td></tr>\n",
       "</tbody>\n",
       "</table>\n"
      ],
      "text/latex": [
       "A grouped\\_df: 72 × 3\n",
       "\\begin{tabular}{lll}\n",
       " feature\\_type & features & n\\\\\n",
       " <fct> & <fct> & <int>\\\\\n",
       "\\hline\n",
       "\t demo   & ESI\\_i                       &  41654\\\\\n",
       "\t demo   & delta\\_ESI                   &  41654\\\\\n",
       "\t demo   & gender                      &  41654\\\\\n",
       "\t demo   & age                         &  41654\\\\\n",
       "\t demo   & medis                       &  41654\\\\\n",
       "\t demo   & English                     &  41654\\\\\n",
       "\t demo   & Height\\_i                    &  41654\\\\\n",
       "\t demo   & delta\\_H                     &  41654\\\\\n",
       "\t demo   & Weight\\_i                    &  41654\\\\\n",
       "\t demo   & delta\\_W                     &  41654\\\\\n",
       "\t demo   & race.Asian                  &  41654\\\\\n",
       "\t demo   & race.Black                  &  41654\\\\\n",
       "\t demo   & race.Native.American        &  41654\\\\\n",
       "\t demo   & race.Other                  &  41654\\\\\n",
       "\t demo   & race.Pacific.Islander       &  41654\\\\\n",
       "\t demo   & race.Unknown                &  41654\\\\\n",
       "\t demo   & race.White                  &  41654\\\\\n",
       "\t labs   & Albumin, Ser/Plas           &  36239\\\\\n",
       "\t labs   & Alk P'TASE, Total, Ser/Plas &  36046\\\\\n",
       "\t labs   & ALT (SGPT), Ser/Plas        &  35956\\\\\n",
       "\t labs   & AnionGap                    &  42524\\\\\n",
       "\t labs   & AST (SGOT), Ser/Plas        &  35921\\\\\n",
       "\t labs   & Base                        &  19624\\\\\n",
       "\t labs   & Basos                       &  34147\\\\\n",
       "\t labs   & BUN                         &  42660\\\\\n",
       "\t labs   & Calcium, Ser/Plas           &  40099\\\\\n",
       "\t labs   & Cl                          &  42976\\\\\n",
       "\t labs   & CO2, Ser/Plas               &  39963\\\\\n",
       "\t labs   & Cr                          &  42836\\\\\n",
       "\t labs   & Eos                         &  34623\\\\\n",
       "\t labs   & Globulin                    &  35638\\\\\n",
       "\t labs   & Glucose                     &  49639\\\\\n",
       "\t labs   & HCO3\\_a                      &   1899\\\\\n",
       "\t labs   & HCO3\\_v                      &  18008\\\\\n",
       "\t labs   & Hct                         &  43307\\\\\n",
       "\t labs   & Hgb                         &  43261\\\\\n",
       "\t labs   & INR                         &  18509\\\\\n",
       "\t labs   & K                           &  43392\\\\\n",
       "\t labs   & Lactate                     &  21197\\\\\n",
       "\t labs   & Lymp                        &  36279\\\\\n",
       "\t labs   & Magnesium, Ser/Plas         &   7379\\\\\n",
       "\t labs   & MCH                         &  39909\\\\\n",
       "\t labs   & MCHC                        &  39908\\\\\n",
       "\t labs   & MCV                         &  39924\\\\\n",
       "\t labs   & Mono                        &  36164\\\\\n",
       "\t labs   & Na                          &  43275\\\\\n",
       "\t labs   & Neut                        &  36235\\\\\n",
       "\t labs   & O2sat\\_a                     &   1582\\\\\n",
       "\t labs   & O2sat\\_v                     &  18157\\\\\n",
       "\t labs   & pCO2\\_a                      &   1704\\\\\n",
       "\t labs   & pCO2\\_v                      &  18217\\\\\n",
       "\t labs   & pH\\_a                        &   1632\\\\\n",
       "\t labs   & pH\\_v                        &  18314\\\\\n",
       "\t labs   & Phosphorus, Ser/Plas        &   1857\\\\\n",
       "\t labs   & Platelet                    &  40099\\\\\n",
       "\t labs   & PO2\\_a                       &   1705\\\\\n",
       "\t labs   & PO2\\_v                       &  18236\\\\\n",
       "\t labs   & Protein, Total, Ser/Plas    &  36126\\\\\n",
       "\t labs   & PT                          &  18487\\\\\n",
       "\t labs   & RBC                         &  39955\\\\\n",
       "\t labs   & TBili                       &  36325\\\\\n",
       "\t labs   & TCO2 (v), ISTAT             &  17909\\\\\n",
       "\t labs   & TCO2\\_a                      &   4691\\\\\n",
       "\t labs   & Trop                        &  15822\\\\\n",
       "\t labs   & WBC                         &  39996\\\\\n",
       "\t vitals & DBP                         & 203896\\\\\n",
       "\t vitals & GCS                         &  44442\\\\\n",
       "\t vitals & Pulse                       & 260114\\\\\n",
       "\t vitals & RR                          & 206469\\\\\n",
       "\t vitals & SBP                         & 203937\\\\\n",
       "\t vitals & SpO2                        & 218899\\\\\n",
       "\t vitals & Temp                        & 136530\\\\\n",
       "\\end{tabular}\n"
      ],
      "text/markdown": [
       "\n",
       "A grouped_df: 72 × 3\n",
       "\n",
       "| feature_type &lt;fct&gt; | features &lt;fct&gt; | n &lt;int&gt; |\n",
       "|---|---|---|\n",
       "| demo   | ESI_i                       |  41654 |\n",
       "| demo   | delta_ESI                   |  41654 |\n",
       "| demo   | gender                      |  41654 |\n",
       "| demo   | age                         |  41654 |\n",
       "| demo   | medis                       |  41654 |\n",
       "| demo   | English                     |  41654 |\n",
       "| demo   | Height_i                    |  41654 |\n",
       "| demo   | delta_H                     |  41654 |\n",
       "| demo   | Weight_i                    |  41654 |\n",
       "| demo   | delta_W                     |  41654 |\n",
       "| demo   | race.Asian                  |  41654 |\n",
       "| demo   | race.Black                  |  41654 |\n",
       "| demo   | race.Native.American        |  41654 |\n",
       "| demo   | race.Other                  |  41654 |\n",
       "| demo   | race.Pacific.Islander       |  41654 |\n",
       "| demo   | race.Unknown                |  41654 |\n",
       "| demo   | race.White                  |  41654 |\n",
       "| labs   | Albumin, Ser/Plas           |  36239 |\n",
       "| labs   | Alk P'TASE, Total, Ser/Plas |  36046 |\n",
       "| labs   | ALT (SGPT), Ser/Plas        |  35956 |\n",
       "| labs   | AnionGap                    |  42524 |\n",
       "| labs   | AST (SGOT), Ser/Plas        |  35921 |\n",
       "| labs   | Base                        |  19624 |\n",
       "| labs   | Basos                       |  34147 |\n",
       "| labs   | BUN                         |  42660 |\n",
       "| labs   | Calcium, Ser/Plas           |  40099 |\n",
       "| labs   | Cl                          |  42976 |\n",
       "| labs   | CO2, Ser/Plas               |  39963 |\n",
       "| labs   | Cr                          |  42836 |\n",
       "| labs   | Eos                         |  34623 |\n",
       "| labs   | Globulin                    |  35638 |\n",
       "| labs   | Glucose                     |  49639 |\n",
       "| labs   | HCO3_a                      |   1899 |\n",
       "| labs   | HCO3_v                      |  18008 |\n",
       "| labs   | Hct                         |  43307 |\n",
       "| labs   | Hgb                         |  43261 |\n",
       "| labs   | INR                         |  18509 |\n",
       "| labs   | K                           |  43392 |\n",
       "| labs   | Lactate                     |  21197 |\n",
       "| labs   | Lymp                        |  36279 |\n",
       "| labs   | Magnesium, Ser/Plas         |   7379 |\n",
       "| labs   | MCH                         |  39909 |\n",
       "| labs   | MCHC                        |  39908 |\n",
       "| labs   | MCV                         |  39924 |\n",
       "| labs   | Mono                        |  36164 |\n",
       "| labs   | Na                          |  43275 |\n",
       "| labs   | Neut                        |  36235 |\n",
       "| labs   | O2sat_a                     |   1582 |\n",
       "| labs   | O2sat_v                     |  18157 |\n",
       "| labs   | pCO2_a                      |   1704 |\n",
       "| labs   | pCO2_v                      |  18217 |\n",
       "| labs   | pH_a                        |   1632 |\n",
       "| labs   | pH_v                        |  18314 |\n",
       "| labs   | Phosphorus, Ser/Plas        |   1857 |\n",
       "| labs   | Platelet                    |  40099 |\n",
       "| labs   | PO2_a                       |   1705 |\n",
       "| labs   | PO2_v                       |  18236 |\n",
       "| labs   | Protein, Total, Ser/Plas    |  36126 |\n",
       "| labs   | PT                          |  18487 |\n",
       "| labs   | RBC                         |  39955 |\n",
       "| labs   | TBili                       |  36325 |\n",
       "| labs   | TCO2 (v), ISTAT             |  17909 |\n",
       "| labs   | TCO2_a                      |   4691 |\n",
       "| labs   | Trop                        |  15822 |\n",
       "| labs   | WBC                         |  39996 |\n",
       "| vitals | DBP                         | 203896 |\n",
       "| vitals | GCS                         |  44442 |\n",
       "| vitals | Pulse                       | 260114 |\n",
       "| vitals | RR                          | 206469 |\n",
       "| vitals | SBP                         | 203937 |\n",
       "| vitals | SpO2                        | 218899 |\n",
       "| vitals | Temp                        | 136530 |\n",
       "\n"
      ],
      "text/plain": [
       "   feature_type features                    n     \n",
       "1  demo         ESI_i                        41654\n",
       "2  demo         delta_ESI                    41654\n",
       "3  demo         gender                       41654\n",
       "4  demo         age                          41654\n",
       "5  demo         medis                        41654\n",
       "6  demo         English                      41654\n",
       "7  demo         Height_i                     41654\n",
       "8  demo         delta_H                      41654\n",
       "9  demo         Weight_i                     41654\n",
       "10 demo         delta_W                      41654\n",
       "11 demo         race.Asian                   41654\n",
       "12 demo         race.Black                   41654\n",
       "13 demo         race.Native.American         41654\n",
       "14 demo         race.Other                   41654\n",
       "15 demo         race.Pacific.Islander        41654\n",
       "16 demo         race.Unknown                 41654\n",
       "17 demo         race.White                   41654\n",
       "18 labs         Albumin, Ser/Plas            36239\n",
       "19 labs         Alk P'TASE, Total, Ser/Plas  36046\n",
       "20 labs         ALT (SGPT), Ser/Plas         35956\n",
       "21 labs         AnionGap                     42524\n",
       "22 labs         AST (SGOT), Ser/Plas         35921\n",
       "23 labs         Base                         19624\n",
       "24 labs         Basos                        34147\n",
       "25 labs         BUN                          42660\n",
       "26 labs         Calcium, Ser/Plas            40099\n",
       "27 labs         Cl                           42976\n",
       "28 labs         CO2, Ser/Plas                39963\n",
       "29 labs         Cr                           42836\n",
       "30 labs         Eos                          34623\n",
       "31 labs         Globulin                     35638\n",
       "32 labs         Glucose                      49639\n",
       "33 labs         HCO3_a                        1899\n",
       "34 labs         HCO3_v                       18008\n",
       "35 labs         Hct                          43307\n",
       "36 labs         Hgb                          43261\n",
       "37 labs         INR                          18509\n",
       "38 labs         K                            43392\n",
       "39 labs         Lactate                      21197\n",
       "40 labs         Lymp                         36279\n",
       "41 labs         Magnesium, Ser/Plas           7379\n",
       "42 labs         MCH                          39909\n",
       "43 labs         MCHC                         39908\n",
       "44 labs         MCV                          39924\n",
       "45 labs         Mono                         36164\n",
       "46 labs         Na                           43275\n",
       "47 labs         Neut                         36235\n",
       "48 labs         O2sat_a                       1582\n",
       "49 labs         O2sat_v                      18157\n",
       "50 labs         pCO2_a                        1704\n",
       "51 labs         pCO2_v                       18217\n",
       "52 labs         pH_a                          1632\n",
       "53 labs         pH_v                         18314\n",
       "54 labs         Phosphorus, Ser/Plas          1857\n",
       "55 labs         Platelet                     40099\n",
       "56 labs         PO2_a                         1705\n",
       "57 labs         PO2_v                        18236\n",
       "58 labs         Protein, Total, Ser/Plas     36126\n",
       "59 labs         PT                           18487\n",
       "60 labs         RBC                          39955\n",
       "61 labs         TBili                        36325\n",
       "62 labs         TCO2 (v), ISTAT              17909\n",
       "63 labs         TCO2_a                        4691\n",
       "64 labs         Trop                         15822\n",
       "65 labs         WBC                          39996\n",
       "66 vitals       DBP                         203896\n",
       "67 vitals       GCS                          44442\n",
       "68 vitals       Pulse                       260114\n",
       "69 vitals       RR                          206469\n",
       "70 vitals       SBP                         203937\n",
       "71 vitals       SpO2                        218899\n",
       "72 vitals       Temp                        136530"
      ]
     },
     "metadata": {},
     "output_type": "display_data"
    }
   ],
   "source": [
    "feat3 %>% group_by(feature_type, features) %>% count()"
   ]
  },
  {
   "cell_type": "code",
   "execution_count": 62,
   "metadata": {
    "collapsed": true,
    "jupyter": {
     "outputs_hidden": true
    }
   },
   "outputs": [
    {
     "data": {
      "text/plain": [
       "      anon_id        pat_enc_csn_id_coded               admit_time     \n",
       " JCe8f38d :   3464   Min.   :1.311e+11    2015-06-28 23:10:00:    551  \n",
       " JC29fe299:   3214   1st Qu.:1.312e+11    2016-01-19 03:57:00:    484  \n",
       " JC2a0d68b:   2595   Median :1.312e+11    2019-06-08 21:23:00:    479  \n",
       " JCe228ac :   2517   Mean   :1.312e+11    2015-11-22 18:04:00:    452  \n",
       " JCdd32fa :   2450   3rd Qu.:1.313e+11    2019-06-14 02:30:00:    413  \n",
       " JCe22af4 :   2429   Max.   :1.313e+11    2015-06-30 02:30:00:    404  \n",
       " (Other)  :3334087                        (Other)            :3347973  \n",
       "    features           values        feature_type    \n",
       " Pulse  : 260114   Min.   : -30.00   demo  : 708118  \n",
       " SpO2   : 218899   1st Qu.:   2.25   labs  :1368351  \n",
       " RR     : 206469   Median :  26.00   vitals:1274287  \n",
       " SBP    : 203937   Mean   :  48.32                   \n",
       " DBP    : 203896   3rd Qu.:  89.00                   \n",
       " Temp   : 136530   Max.   :9655.00                   \n",
       " (Other):2120911                                     \n",
       "                        time        \n",
       " 2015-09-20 02:00:00+00:00:     52  \n",
       " 2015-01-13 23:00:00+00:00:     51  \n",
       " 2015-09-09 02:00:00+00:00:     51  \n",
       " 2018-11-07 01:00:00+00:00:     51  \n",
       " 2015-01-04 01:00:00+00:00:     50  \n",
       " (Other)                  :2642383  \n",
       " NA's                     : 708118  "
      ]
     },
     "metadata": {},
     "output_type": "display_data"
    }
   ],
   "source": [
    "summary(feat3)"
   ]
  },
  {
   "cell_type": "code",
   "execution_count": 64,
   "metadata": {
    "collapsed": true,
    "jupyter": {
     "outputs_hidden": true
    }
   },
   "outputs": [
    {
     "data": {
      "text/html": [
       "43320"
      ],
      "text/latex": [
       "43320"
      ],
      "text/markdown": [
       "43320"
      ],
      "text/plain": [
       "[1] 43320"
      ]
     },
     "metadata": {},
     "output_type": "display_data"
    },
    {
     "data": {
      "text/html": [
       "43320"
      ],
      "text/latex": [
       "43320"
      ],
      "text/markdown": [
       "43320"
      ],
      "text/plain": [
       "[1] 43320"
      ]
     },
     "metadata": {},
     "output_type": "display_data"
    }
   ],
   "source": [
    "# remember the labs and vitals still contain patients who have no other vital signs except for a GCS\n",
    "nrow(feat3 %>% select(anon_id, pat_enc_csn_id_coded) %>% distinct())\n",
    "nrow(feat3 %>% select(pat_enc_csn_id_coded) %>% distinct())"
   ]
  },
  {
   "cell_type": "markdown",
   "metadata": {},
   "source": [
    "### Explore -- GCS and ESI -- No need to redo\n",
    "* GCS was not used to impute ESI because there are not many encounters with GCS score\n",
    "* So encounters without any other VS but even with GCS are excluded from the data\n",
    "* However, we check to see these encounters with GCS and they all have ESI\n",
    "* We will not keep them in the data anyways, because if some don't have ESI, it's too many loops to include/exclude"
   ]
  },
  {
   "cell_type": "raw",
   "metadata": {},
   "source": [
    "# check if those with GCS with ESI: ---> all have ESI!!!! \n",
    "gcs <- anti_join(feat3, cohort_has_vs) \n",
    "nrow(gcs)\n",
    "\n",
    "cohort_demo <- read.csv(\"./Data/cohort_demo.csv\")\n",
    "gcs <- left_join(gcs, cohort_demo)\n",
    "gcs"
   ]
  },
  {
   "cell_type": "markdown",
   "metadata": {},
   "source": [
    "### Join with the final cohort\n"
   ]
  },
  {
   "cell_type": "code",
   "execution_count": 66,
   "metadata": {
    "collapsed": true,
    "jupyter": {
     "outputs_hidden": true
    }
   },
   "outputs": [
    {
     "data": {
      "text/html": [
       "3350756"
      ],
      "text/latex": [
       "3350756"
      ],
      "text/markdown": [
       "3350756"
      ],
      "text/plain": [
       "[1] 3350756"
      ]
     },
     "metadata": {},
     "output_type": "display_data"
    },
    {
     "data": {
      "text/html": [
       "43320"
      ],
      "text/latex": [
       "43320"
      ],
      "text/markdown": [
       "43320"
      ],
      "text/plain": [
       "[1] 43320"
      ]
     },
     "metadata": {},
     "output_type": "display_data"
    },
    {
     "data": {
      "text/html": [
       "<table>\n",
       "<caption>A data.frame: 1 × 7</caption>\n",
       "<thead>\n",
       "\t<tr><th></th><th scope=col>anon_id</th><th scope=col>pat_enc_csn_id_coded</th><th scope=col>admit_time</th><th scope=col>features</th><th scope=col>values</th><th scope=col>feature_type</th><th scope=col>time</th></tr>\n",
       "\t<tr><th></th><th scope=col>&lt;fct&gt;</th><th scope=col>&lt;dbl&gt;</th><th scope=col>&lt;fct&gt;</th><th scope=col>&lt;fct&gt;</th><th scope=col>&lt;dbl&gt;</th><th scope=col>&lt;fct&gt;</th><th scope=col>&lt;fct&gt;</th></tr>\n",
       "</thead>\n",
       "<tbody>\n",
       "\t<tr><th scope=row>1</th><td>JC29f8ad2</td><td>131274729058</td><td>2019-08-31 12:52:00</td><td>ESI_i</td><td>3</td><td>demo</td><td>NA</td></tr>\n",
       "</tbody>\n",
       "</table>\n"
      ],
      "text/latex": [
       "A data.frame: 1 × 7\n",
       "\\begin{tabular}{r|lllllll}\n",
       "  & anon\\_id & pat\\_enc\\_csn\\_id\\_coded & admit\\_time & features & values & feature\\_type & time\\\\\n",
       "  & <fct> & <dbl> & <fct> & <fct> & <dbl> & <fct> & <fct>\\\\\n",
       "\\hline\n",
       "\t1 & JC29f8ad2 & 131274729058 & 2019-08-31 12:52:00 & ESI\\_i & 3 & demo & NA\\\\\n",
       "\\end{tabular}\n"
      ],
      "text/markdown": [
       "\n",
       "A data.frame: 1 × 7\n",
       "\n",
       "| <!--/--> | anon_id &lt;fct&gt; | pat_enc_csn_id_coded &lt;dbl&gt; | admit_time &lt;fct&gt; | features &lt;fct&gt; | values &lt;dbl&gt; | feature_type &lt;fct&gt; | time &lt;fct&gt; |\n",
       "|---|---|---|---|---|---|---|---|\n",
       "| 1 | JC29f8ad2 | 131274729058 | 2019-08-31 12:52:00 | ESI_i | 3 | demo | NA |\n",
       "\n"
      ],
      "text/plain": [
       "  anon_id   pat_enc_csn_id_coded admit_time          features values\n",
       "1 JC29f8ad2 131274729058         2019-08-31 12:52:00 ESI_i    3     \n",
       "  feature_type time\n",
       "1 demo         NA  "
      ]
     },
     "metadata": {},
     "output_type": "display_data"
    },
    {
     "data": {
      "text/html": [
       "41654"
      ],
      "text/latex": [
       "41654"
      ],
      "text/markdown": [
       "41654"
      ],
      "text/plain": [
       "[1] 41654"
      ]
     },
     "metadata": {},
     "output_type": "display_data"
    },
    {
     "data": {
      "text/html": [
       "<table>\n",
       "<caption>A data.frame: 1 × 13</caption>\n",
       "<thead>\n",
       "\t<tr><th></th><th scope=col>anon_id</th><th scope=col>pat_enc_csn_id_coded</th><th scope=col>inpatient_data_id_coded</th><th scope=col>label_max24</th><th scope=col>admit_time</th><th scope=col>admit_label</th><th scope=col>label_24hr_recent</th><th scope=col>label_12hr_recent</th><th scope=col>has_admit_label</th><th scope=col>first_label</th><th scope=col>first_label_time_since_admit</th><th scope=col>acute_to_critical_label</th><th scope=col>critical_to_acute_label</th></tr>\n",
       "\t<tr><th></th><th scope=col>&lt;fct&gt;</th><th scope=col>&lt;dbl&gt;</th><th scope=col>&lt;int&gt;</th><th scope=col>&lt;int&gt;</th><th scope=col>&lt;fct&gt;</th><th scope=col>&lt;int&gt;</th><th scope=col>&lt;int&gt;</th><th scope=col>&lt;int&gt;</th><th scope=col>&lt;int&gt;</th><th scope=col>&lt;int&gt;</th><th scope=col>&lt;fct&gt;</th><th scope=col>&lt;int&gt;</th><th scope=col>&lt;int&gt;</th></tr>\n",
       "</thead>\n",
       "<tbody>\n",
       "\t<tr><th scope=row>1</th><td>JC29f8ad2</td><td>131274729058</td><td>40679773</td><td>0</td><td>2019-08-31 12:52:00+00:00</td><td>0</td><td>0</td><td>0</td><td>1</td><td>0</td><td>0</td><td>0</td><td>0</td></tr>\n",
       "</tbody>\n",
       "</table>\n"
      ],
      "text/latex": [
       "A data.frame: 1 × 13\n",
       "\\begin{tabular}{r|lllllllllllll}\n",
       "  & anon\\_id & pat\\_enc\\_csn\\_id\\_coded & inpatient\\_data\\_id\\_coded & label\\_max24 & admit\\_time & admit\\_label & label\\_24hr\\_recent & label\\_12hr\\_recent & has\\_admit\\_label & first\\_label & first\\_label\\_time\\_since\\_admit & acute\\_to\\_critical\\_label & critical\\_to\\_acute\\_label\\\\\n",
       "  & <fct> & <dbl> & <int> & <int> & <fct> & <int> & <int> & <int> & <int> & <int> & <fct> & <int> & <int>\\\\\n",
       "\\hline\n",
       "\t1 & JC29f8ad2 & 131274729058 & 40679773 & 0 & 2019-08-31 12:52:00+00:00 & 0 & 0 & 0 & 1 & 0 & 0 & 0 & 0\\\\\n",
       "\\end{tabular}\n"
      ],
      "text/markdown": [
       "\n",
       "A data.frame: 1 × 13\n",
       "\n",
       "| <!--/--> | anon_id &lt;fct&gt; | pat_enc_csn_id_coded &lt;dbl&gt; | inpatient_data_id_coded &lt;int&gt; | label_max24 &lt;int&gt; | admit_time &lt;fct&gt; | admit_label &lt;int&gt; | label_24hr_recent &lt;int&gt; | label_12hr_recent &lt;int&gt; | has_admit_label &lt;int&gt; | first_label &lt;int&gt; | first_label_time_since_admit &lt;fct&gt; | acute_to_critical_label &lt;int&gt; | critical_to_acute_label &lt;int&gt; |\n",
       "|---|---|---|---|---|---|---|---|---|---|---|---|---|---|\n",
       "| 1 | JC29f8ad2 | 131274729058 | 40679773 | 0 | 2019-08-31 12:52:00+00:00 | 0 | 0 | 0 | 1 | 0 | 0 | 0 | 0 |\n",
       "\n"
      ],
      "text/plain": [
       "  anon_id   pat_enc_csn_id_coded inpatient_data_id_coded label_max24\n",
       "1 JC29f8ad2 131274729058         40679773                0          \n",
       "  admit_time                admit_label label_24hr_recent label_12hr_recent\n",
       "1 2019-08-31 12:52:00+00:00 0           0                 0                \n",
       "  has_admit_label first_label first_label_time_since_admit\n",
       "1 1               0           0                           \n",
       "  acute_to_critical_label critical_to_acute_label\n",
       "1 0                       0                      "
      ]
     },
     "metadata": {},
     "output_type": "display_data"
    }
   ],
   "source": [
    "nrow(feat3)\n",
    "nrow(feat3 %>% distinct(anon_id, pat_enc_csn_id_coded))\n",
    "head(feat3, n=1)\n",
    "nrow(cohort)\n",
    "head(cohort, n=1)"
   ]
  },
  {
   "cell_type": "code",
   "execution_count": 67,
   "metadata": {
    "collapsed": true,
    "jupyter": {
     "outputs_hidden": true
    }
   },
   "outputs": [
    {
     "data": {
      "text/html": [
       "<table>\n",
       "<caption>A data.frame: 1 × 13</caption>\n",
       "<thead>\n",
       "\t<tr><th></th><th scope=col>anon_id</th><th scope=col>pat_enc_csn_id_coded</th><th scope=col>inpatient_data_id_coded</th><th scope=col>label_max24</th><th scope=col>admit_time</th><th scope=col>admit_label</th><th scope=col>label_24hr_recent</th><th scope=col>label_12hr_recent</th><th scope=col>has_admit_label</th><th scope=col>first_label</th><th scope=col>first_label_time_since_admit</th><th scope=col>acute_to_critical_label</th><th scope=col>critical_to_acute_label</th></tr>\n",
       "\t<tr><th></th><th scope=col>&lt;fct&gt;</th><th scope=col>&lt;dbl&gt;</th><th scope=col>&lt;int&gt;</th><th scope=col>&lt;int&gt;</th><th scope=col>&lt;dttm&gt;</th><th scope=col>&lt;int&gt;</th><th scope=col>&lt;int&gt;</th><th scope=col>&lt;int&gt;</th><th scope=col>&lt;int&gt;</th><th scope=col>&lt;int&gt;</th><th scope=col>&lt;fct&gt;</th><th scope=col>&lt;int&gt;</th><th scope=col>&lt;int&gt;</th></tr>\n",
       "</thead>\n",
       "<tbody>\n",
       "\t<tr><th scope=row>1</th><td>JC29f8ad2</td><td>131274729058</td><td>40679773</td><td>0</td><td>2019-08-31 12:52:00</td><td>0</td><td>0</td><td>0</td><td>1</td><td>0</td><td>0</td><td>0</td><td>0</td></tr>\n",
       "</tbody>\n",
       "</table>\n"
      ],
      "text/latex": [
       "A data.frame: 1 × 13\n",
       "\\begin{tabular}{r|lllllllllllll}\n",
       "  & anon\\_id & pat\\_enc\\_csn\\_id\\_coded & inpatient\\_data\\_id\\_coded & label\\_max24 & admit\\_time & admit\\_label & label\\_24hr\\_recent & label\\_12hr\\_recent & has\\_admit\\_label & first\\_label & first\\_label\\_time\\_since\\_admit & acute\\_to\\_critical\\_label & critical\\_to\\_acute\\_label\\\\\n",
       "  & <fct> & <dbl> & <int> & <int> & <dttm> & <int> & <int> & <int> & <int> & <int> & <fct> & <int> & <int>\\\\\n",
       "\\hline\n",
       "\t1 & JC29f8ad2 & 131274729058 & 40679773 & 0 & 2019-08-31 12:52:00 & 0 & 0 & 0 & 1 & 0 & 0 & 0 & 0\\\\\n",
       "\\end{tabular}\n"
      ],
      "text/markdown": [
       "\n",
       "A data.frame: 1 × 13\n",
       "\n",
       "| <!--/--> | anon_id &lt;fct&gt; | pat_enc_csn_id_coded &lt;dbl&gt; | inpatient_data_id_coded &lt;int&gt; | label_max24 &lt;int&gt; | admit_time &lt;dttm&gt; | admit_label &lt;int&gt; | label_24hr_recent &lt;int&gt; | label_12hr_recent &lt;int&gt; | has_admit_label &lt;int&gt; | first_label &lt;int&gt; | first_label_time_since_admit &lt;fct&gt; | acute_to_critical_label &lt;int&gt; | critical_to_acute_label &lt;int&gt; |\n",
       "|---|---|---|---|---|---|---|---|---|---|---|---|---|---|\n",
       "| 1 | JC29f8ad2 | 131274729058 | 40679773 | 0 | 2019-08-31 12:52:00 | 0 | 0 | 0 | 1 | 0 | 0 | 0 | 0 |\n",
       "\n"
      ],
      "text/plain": [
       "  anon_id   pat_enc_csn_id_coded inpatient_data_id_coded label_max24\n",
       "1 JC29f8ad2 131274729058         40679773                0          \n",
       "  admit_time          admit_label label_24hr_recent label_12hr_recent\n",
       "1 2019-08-31 12:52:00 0           0                 0                \n",
       "  has_admit_label first_label first_label_time_since_admit\n",
       "1 1               0           0                           \n",
       "  acute_to_critical_label critical_to_acute_label\n",
       "1 0                       0                      "
      ]
     },
     "metadata": {},
     "output_type": "display_data"
    },
    {
     "data": {
      "text/html": [
       "<table>\n",
       "<caption>A data.frame: 1 × 7</caption>\n",
       "<thead>\n",
       "\t<tr><th></th><th scope=col>anon_id</th><th scope=col>pat_enc_csn_id_coded</th><th scope=col>admit_time</th><th scope=col>features</th><th scope=col>values</th><th scope=col>feature_type</th><th scope=col>time</th></tr>\n",
       "\t<tr><th></th><th scope=col>&lt;fct&gt;</th><th scope=col>&lt;dbl&gt;</th><th scope=col>&lt;dttm&gt;</th><th scope=col>&lt;fct&gt;</th><th scope=col>&lt;dbl&gt;</th><th scope=col>&lt;fct&gt;</th><th scope=col>&lt;fct&gt;</th></tr>\n",
       "</thead>\n",
       "<tbody>\n",
       "\t<tr><th scope=row>1</th><td>JC29f8ad2</td><td>131274729058</td><td>2019-08-31 12:52:00</td><td>ESI_i</td><td>3</td><td>demo</td><td>NA</td></tr>\n",
       "</tbody>\n",
       "</table>\n"
      ],
      "text/latex": [
       "A data.frame: 1 × 7\n",
       "\\begin{tabular}{r|lllllll}\n",
       "  & anon\\_id & pat\\_enc\\_csn\\_id\\_coded & admit\\_time & features & values & feature\\_type & time\\\\\n",
       "  & <fct> & <dbl> & <dttm> & <fct> & <dbl> & <fct> & <fct>\\\\\n",
       "\\hline\n",
       "\t1 & JC29f8ad2 & 131274729058 & 2019-08-31 12:52:00 & ESI\\_i & 3 & demo & NA\\\\\n",
       "\\end{tabular}\n"
      ],
      "text/markdown": [
       "\n",
       "A data.frame: 1 × 7\n",
       "\n",
       "| <!--/--> | anon_id &lt;fct&gt; | pat_enc_csn_id_coded &lt;dbl&gt; | admit_time &lt;dttm&gt; | features &lt;fct&gt; | values &lt;dbl&gt; | feature_type &lt;fct&gt; | time &lt;fct&gt; |\n",
       "|---|---|---|---|---|---|---|---|\n",
       "| 1 | JC29f8ad2 | 131274729058 | 2019-08-31 12:52:00 | ESI_i | 3 | demo | NA |\n",
       "\n"
      ],
      "text/plain": [
       "  anon_id   pat_enc_csn_id_coded admit_time          features values\n",
       "1 JC29f8ad2 131274729058         2019-08-31 12:52:00 ESI_i    3     \n",
       "  feature_type time\n",
       "1 demo         NA  "
      ]
     },
     "metadata": {},
     "output_type": "display_data"
    }
   ],
   "source": [
    "cohort <- cohort %>% mutate(admit_time = ymd_hms(admit_time))\n",
    "feat3 <- feat3 %>% mutate(admit_time = ymd_hms(admit_time))\n",
    "head(cohort, n=1)\n",
    "head(feat3, n=1)"
   ]
  },
  {
   "cell_type": "code",
   "execution_count": 68,
   "metadata": {
    "collapsed": true,
    "jupyter": {
     "outputs_hidden": true
    }
   },
   "outputs": [
    {
     "name": "stderr",
     "output_type": "stream",
     "text": [
      "Joining, by = c(\"anon_id\", \"pat_enc_csn_id_coded\", \"admit_time\")\n",
      "\n"
     ]
    },
    {
     "data": {
      "text/html": [
       "3308906"
      ],
      "text/latex": [
       "3308906"
      ],
      "text/markdown": [
       "3308906"
      ],
      "text/plain": [
       "[1] 3308906"
      ]
     },
     "metadata": {},
     "output_type": "display_data"
    },
    {
     "data": {
      "text/html": [
       "41654"
      ],
      "text/latex": [
       "41654"
      ],
      "text/markdown": [
       "41654"
      ],
      "text/plain": [
       "[1] 41654"
      ]
     },
     "metadata": {},
     "output_type": "display_data"
    }
   ],
   "source": [
    "final_feat3 <- left_join(cohort, feat3)\n",
    "nrow(final_feat3) # 3,308,906\n",
    "nrow(final_feat3 %>% distinct(anon_id, pat_enc_csn_id_coded))"
   ]
  },
  {
   "cell_type": "code",
   "execution_count": 74,
   "metadata": {
    "collapsed": true,
    "jupyter": {
     "outputs_hidden": true
    }
   },
   "outputs": [
    {
     "data": {
      "text/html": [
       "41654"
      ],
      "text/latex": [
       "41654"
      ],
      "text/markdown": [
       "41654"
      ],
      "text/plain": [
       "[1] 41654"
      ]
     },
     "metadata": {},
     "output_type": "display_data"
    },
    {
     "data": {
      "text/html": [
       "41654"
      ],
      "text/latex": [
       "41654"
      ],
      "text/markdown": [
       "41654"
      ],
      "text/plain": [
       "[1] 41654"
      ]
     },
     "metadata": {},
     "output_type": "display_data"
    },
    {
     "data": {
      "text/html": [
       "28985"
      ],
      "text/latex": [
       "28985"
      ],
      "text/markdown": [
       "28985"
      ],
      "text/plain": [
       "[1] 28985"
      ]
     },
     "metadata": {},
     "output_type": "display_data"
    }
   ],
   "source": [
    "nrow(final_feat3 %>% select(anon_id, pat_enc_csn_id_coded) %>% distinct())\n",
    "nrow(final_feat3 %>% select(pat_enc_csn_id_coded) %>% distinct())\n",
    "nrow(final_feat3 %>% select(anon_id) %>% distinct())"
   ]
  },
  {
   "cell_type": "code",
   "execution_count": 75,
   "metadata": {
    "collapsed": true,
    "jupyter": {
     "outputs_hidden": true
    }
   },
   "outputs": [
    {
     "data": {
      "text/html": [
       "<table>\n",
       "<caption>A data.frame: 1 × 17</caption>\n",
       "<thead>\n",
       "\t<tr><th></th><th scope=col>anon_id</th><th scope=col>pat_enc_csn_id_coded</th><th scope=col>inpatient_data_id_coded</th><th scope=col>label_max24</th><th scope=col>admit_time</th><th scope=col>admit_label</th><th scope=col>label_24hr_recent</th><th scope=col>label_12hr_recent</th><th scope=col>has_admit_label</th><th scope=col>first_label</th><th scope=col>first_label_time_since_admit</th><th scope=col>acute_to_critical_label</th><th scope=col>critical_to_acute_label</th><th scope=col>features</th><th scope=col>values</th><th scope=col>feature_type</th><th scope=col>time</th></tr>\n",
       "\t<tr><th></th><th scope=col>&lt;fct&gt;</th><th scope=col>&lt;dbl&gt;</th><th scope=col>&lt;int&gt;</th><th scope=col>&lt;int&gt;</th><th scope=col>&lt;dttm&gt;</th><th scope=col>&lt;int&gt;</th><th scope=col>&lt;int&gt;</th><th scope=col>&lt;int&gt;</th><th scope=col>&lt;int&gt;</th><th scope=col>&lt;int&gt;</th><th scope=col>&lt;fct&gt;</th><th scope=col>&lt;int&gt;</th><th scope=col>&lt;int&gt;</th><th scope=col>&lt;fct&gt;</th><th scope=col>&lt;dbl&gt;</th><th scope=col>&lt;fct&gt;</th><th scope=col>&lt;fct&gt;</th></tr>\n",
       "</thead>\n",
       "<tbody>\n",
       "\t<tr><th scope=row>1</th><td>JC29f8ad2</td><td>131274729058</td><td>40679773</td><td>0</td><td>2019-08-31 12:52:00</td><td>0</td><td>0</td><td>0</td><td>1</td><td>0</td><td>0</td><td>0</td><td>0</td><td>ESI_i</td><td>3</td><td>demo</td><td>NA</td></tr>\n",
       "</tbody>\n",
       "</table>\n"
      ],
      "text/latex": [
       "A data.frame: 1 × 17\n",
       "\\begin{tabular}{r|lllllllllllllllll}\n",
       "  & anon\\_id & pat\\_enc\\_csn\\_id\\_coded & inpatient\\_data\\_id\\_coded & label\\_max24 & admit\\_time & admit\\_label & label\\_24hr\\_recent & label\\_12hr\\_recent & has\\_admit\\_label & first\\_label & first\\_label\\_time\\_since\\_admit & acute\\_to\\_critical\\_label & critical\\_to\\_acute\\_label & features & values & feature\\_type & time\\\\\n",
       "  & <fct> & <dbl> & <int> & <int> & <dttm> & <int> & <int> & <int> & <int> & <int> & <fct> & <int> & <int> & <fct> & <dbl> & <fct> & <fct>\\\\\n",
       "\\hline\n",
       "\t1 & JC29f8ad2 & 131274729058 & 40679773 & 0 & 2019-08-31 12:52:00 & 0 & 0 & 0 & 1 & 0 & 0 & 0 & 0 & ESI\\_i & 3 & demo & NA\\\\\n",
       "\\end{tabular}\n"
      ],
      "text/markdown": [
       "\n",
       "A data.frame: 1 × 17\n",
       "\n",
       "| <!--/--> | anon_id &lt;fct&gt; | pat_enc_csn_id_coded &lt;dbl&gt; | inpatient_data_id_coded &lt;int&gt; | label_max24 &lt;int&gt; | admit_time &lt;dttm&gt; | admit_label &lt;int&gt; | label_24hr_recent &lt;int&gt; | label_12hr_recent &lt;int&gt; | has_admit_label &lt;int&gt; | first_label &lt;int&gt; | first_label_time_since_admit &lt;fct&gt; | acute_to_critical_label &lt;int&gt; | critical_to_acute_label &lt;int&gt; | features &lt;fct&gt; | values &lt;dbl&gt; | feature_type &lt;fct&gt; | time &lt;fct&gt; |\n",
       "|---|---|---|---|---|---|---|---|---|---|---|---|---|---|---|---|---|---|\n",
       "| 1 | JC29f8ad2 | 131274729058 | 40679773 | 0 | 2019-08-31 12:52:00 | 0 | 0 | 0 | 1 | 0 | 0 | 0 | 0 | ESI_i | 3 | demo | NA |\n",
       "\n"
      ],
      "text/plain": [
       "  anon_id   pat_enc_csn_id_coded inpatient_data_id_coded label_max24\n",
       "1 JC29f8ad2 131274729058         40679773                0          \n",
       "  admit_time          admit_label label_24hr_recent label_12hr_recent\n",
       "1 2019-08-31 12:52:00 0           0                 0                \n",
       "  has_admit_label first_label first_label_time_since_admit\n",
       "1 1               0           0                           \n",
       "  acute_to_critical_label critical_to_acute_label features values feature_type\n",
       "1 0                       0                       ESI_i    3      demo        \n",
       "  time\n",
       "1 NA  "
      ]
     },
     "metadata": {},
     "output_type": "display_data"
    }
   ],
   "source": [
    "head(final_feat3, n=1)"
   ]
  },
  {
   "cell_type": "code",
   "execution_count": 76,
   "metadata": {
    "collapsed": true,
    "jupyter": {
     "outputs_hidden": true
    }
   },
   "outputs": [
    {
     "data": {
      "text/html": [
       "<table>\n",
       "<caption>A data.frame: 3 × 2</caption>\n",
       "<thead>\n",
       "\t<tr><th scope=col>feature_type</th><th scope=col>n</th></tr>\n",
       "\t<tr><th scope=col>&lt;fct&gt;</th><th scope=col>&lt;int&gt;</th></tr>\n",
       "</thead>\n",
       "<tbody>\n",
       "\t<tr><td>demo  </td><td> 708118</td></tr>\n",
       "\t<tr><td>labs  </td><td>1368351</td></tr>\n",
       "\t<tr><td>vitals</td><td>1232437</td></tr>\n",
       "</tbody>\n",
       "</table>\n"
      ],
      "text/latex": [
       "A data.frame: 3 × 2\n",
       "\\begin{tabular}{ll}\n",
       " feature\\_type & n\\\\\n",
       " <fct> & <int>\\\\\n",
       "\\hline\n",
       "\t demo   &  708118\\\\\n",
       "\t labs   & 1368351\\\\\n",
       "\t vitals & 1232437\\\\\n",
       "\\end{tabular}\n"
      ],
      "text/markdown": [
       "\n",
       "A data.frame: 3 × 2\n",
       "\n",
       "| feature_type &lt;fct&gt; | n &lt;int&gt; |\n",
       "|---|---|\n",
       "| demo   |  708118 |\n",
       "| labs   | 1368351 |\n",
       "| vitals | 1232437 |\n",
       "\n"
      ],
      "text/plain": [
       "  feature_type n      \n",
       "1 demo          708118\n",
       "2 labs         1368351\n",
       "3 vitals       1232437"
      ]
     },
     "metadata": {},
     "output_type": "display_data"
    }
   ],
   "source": [
    "final_feat3 %>% count(feature_type)"
   ]
  },
  {
   "cell_type": "code",
   "execution_count": 78,
   "metadata": {
    "collapsed": true,
    "jupyter": {
     "outputs_hidden": true
    }
   },
   "outputs": [
    {
     "data": {
      "text/html": [
       "<table>\n",
       "<caption>A grouped_df: 72 × 3</caption>\n",
       "<thead>\n",
       "\t<tr><th scope=col>feature_type</th><th scope=col>features</th><th scope=col>n</th></tr>\n",
       "\t<tr><th scope=col>&lt;fct&gt;</th><th scope=col>&lt;fct&gt;</th><th scope=col>&lt;int&gt;</th></tr>\n",
       "</thead>\n",
       "<tbody>\n",
       "\t<tr><td>demo  </td><td>ESI_i                      </td><td> 41654</td></tr>\n",
       "\t<tr><td>demo  </td><td>delta_ESI                  </td><td> 41654</td></tr>\n",
       "\t<tr><td>demo  </td><td>gender                     </td><td> 41654</td></tr>\n",
       "\t<tr><td>demo  </td><td>age                        </td><td> 41654</td></tr>\n",
       "\t<tr><td>demo  </td><td>medis                      </td><td> 41654</td></tr>\n",
       "\t<tr><td>demo  </td><td>English                    </td><td> 41654</td></tr>\n",
       "\t<tr><td>demo  </td><td>Height_i                   </td><td> 41654</td></tr>\n",
       "\t<tr><td>demo  </td><td>delta_H                    </td><td> 41654</td></tr>\n",
       "\t<tr><td>demo  </td><td>Weight_i                   </td><td> 41654</td></tr>\n",
       "\t<tr><td>demo  </td><td>delta_W                    </td><td> 41654</td></tr>\n",
       "\t<tr><td>demo  </td><td>race.Asian                 </td><td> 41654</td></tr>\n",
       "\t<tr><td>demo  </td><td>race.Black                 </td><td> 41654</td></tr>\n",
       "\t<tr><td>demo  </td><td>race.Native.American       </td><td> 41654</td></tr>\n",
       "\t<tr><td>demo  </td><td>race.Other                 </td><td> 41654</td></tr>\n",
       "\t<tr><td>demo  </td><td>race.Pacific.Islander      </td><td> 41654</td></tr>\n",
       "\t<tr><td>demo  </td><td>race.Unknown               </td><td> 41654</td></tr>\n",
       "\t<tr><td>demo  </td><td>race.White                 </td><td> 41654</td></tr>\n",
       "\t<tr><td>labs  </td><td>Albumin, Ser/Plas          </td><td> 36239</td></tr>\n",
       "\t<tr><td>labs  </td><td>Alk P'TASE, Total, Ser/Plas</td><td> 36046</td></tr>\n",
       "\t<tr><td>labs  </td><td>ALT (SGPT), Ser/Plas       </td><td> 35956</td></tr>\n",
       "\t<tr><td>labs  </td><td>AnionGap                   </td><td> 42524</td></tr>\n",
       "\t<tr><td>labs  </td><td>AST (SGOT), Ser/Plas       </td><td> 35921</td></tr>\n",
       "\t<tr><td>labs  </td><td>Base                       </td><td> 19624</td></tr>\n",
       "\t<tr><td>labs  </td><td>Basos                      </td><td> 34147</td></tr>\n",
       "\t<tr><td>labs  </td><td>BUN                        </td><td> 42660</td></tr>\n",
       "\t<tr><td>labs  </td><td>Calcium, Ser/Plas          </td><td> 40099</td></tr>\n",
       "\t<tr><td>labs  </td><td>Cl                         </td><td> 42976</td></tr>\n",
       "\t<tr><td>labs  </td><td>CO2, Ser/Plas              </td><td> 39963</td></tr>\n",
       "\t<tr><td>labs  </td><td>Cr                         </td><td> 42836</td></tr>\n",
       "\t<tr><td>labs  </td><td>Eos                        </td><td> 34623</td></tr>\n",
       "\t<tr><td>labs  </td><td>Globulin                   </td><td> 35638</td></tr>\n",
       "\t<tr><td>labs  </td><td>Glucose                    </td><td> 49639</td></tr>\n",
       "\t<tr><td>labs  </td><td>HCO3_a                     </td><td>  1899</td></tr>\n",
       "\t<tr><td>labs  </td><td>HCO3_v                     </td><td> 18008</td></tr>\n",
       "\t<tr><td>labs  </td><td>Hct                        </td><td> 43307</td></tr>\n",
       "\t<tr><td>labs  </td><td>Hgb                        </td><td> 43261</td></tr>\n",
       "\t<tr><td>labs  </td><td>INR                        </td><td> 18509</td></tr>\n",
       "\t<tr><td>labs  </td><td>K                          </td><td> 43392</td></tr>\n",
       "\t<tr><td>labs  </td><td>Lactate                    </td><td> 21197</td></tr>\n",
       "\t<tr><td>labs  </td><td>Lymp                       </td><td> 36279</td></tr>\n",
       "\t<tr><td>labs  </td><td>Magnesium, Ser/Plas        </td><td>  7379</td></tr>\n",
       "\t<tr><td>labs  </td><td>MCH                        </td><td> 39909</td></tr>\n",
       "\t<tr><td>labs  </td><td>MCHC                       </td><td> 39908</td></tr>\n",
       "\t<tr><td>labs  </td><td>MCV                        </td><td> 39924</td></tr>\n",
       "\t<tr><td>labs  </td><td>Mono                       </td><td> 36164</td></tr>\n",
       "\t<tr><td>labs  </td><td>Na                         </td><td> 43275</td></tr>\n",
       "\t<tr><td>labs  </td><td>Neut                       </td><td> 36235</td></tr>\n",
       "\t<tr><td>labs  </td><td>O2sat_a                    </td><td>  1582</td></tr>\n",
       "\t<tr><td>labs  </td><td>O2sat_v                    </td><td> 18157</td></tr>\n",
       "\t<tr><td>labs  </td><td>pCO2_a                     </td><td>  1704</td></tr>\n",
       "\t<tr><td>labs  </td><td>pCO2_v                     </td><td> 18217</td></tr>\n",
       "\t<tr><td>labs  </td><td>pH_a                       </td><td>  1632</td></tr>\n",
       "\t<tr><td>labs  </td><td>pH_v                       </td><td> 18314</td></tr>\n",
       "\t<tr><td>labs  </td><td>Phosphorus, Ser/Plas       </td><td>  1857</td></tr>\n",
       "\t<tr><td>labs  </td><td>Platelet                   </td><td> 40099</td></tr>\n",
       "\t<tr><td>labs  </td><td>PO2_a                      </td><td>  1705</td></tr>\n",
       "\t<tr><td>labs  </td><td>PO2_v                      </td><td> 18236</td></tr>\n",
       "\t<tr><td>labs  </td><td>Protein, Total, Ser/Plas   </td><td> 36126</td></tr>\n",
       "\t<tr><td>labs  </td><td>PT                         </td><td> 18487</td></tr>\n",
       "\t<tr><td>labs  </td><td>RBC                        </td><td> 39955</td></tr>\n",
       "\t<tr><td>labs  </td><td>TBili                      </td><td> 36325</td></tr>\n",
       "\t<tr><td>labs  </td><td>TCO2 (v), ISTAT            </td><td> 17909</td></tr>\n",
       "\t<tr><td>labs  </td><td>TCO2_a                     </td><td>  4691</td></tr>\n",
       "\t<tr><td>labs  </td><td>Trop                       </td><td> 15822</td></tr>\n",
       "\t<tr><td>labs  </td><td>WBC                        </td><td> 39996</td></tr>\n",
       "\t<tr><td>vitals</td><td>DBP                        </td><td>196868</td></tr>\n",
       "\t<tr><td>vitals</td><td>GCS                        </td><td> 42838</td></tr>\n",
       "\t<tr><td>vitals</td><td>Pulse                      </td><td>250546</td></tr>\n",
       "\t<tr><td>vitals</td><td>RR                         </td><td>199283</td></tr>\n",
       "\t<tr><td>vitals</td><td>SBP                        </td><td>196904</td></tr>\n",
       "\t<tr><td>vitals</td><td>SpO2                       </td><td>211356</td></tr>\n",
       "\t<tr><td>vitals</td><td>Temp                       </td><td>134642</td></tr>\n",
       "</tbody>\n",
       "</table>\n"
      ],
      "text/latex": [
       "A grouped\\_df: 72 × 3\n",
       "\\begin{tabular}{lll}\n",
       " feature\\_type & features & n\\\\\n",
       " <fct> & <fct> & <int>\\\\\n",
       "\\hline\n",
       "\t demo   & ESI\\_i                       &  41654\\\\\n",
       "\t demo   & delta\\_ESI                   &  41654\\\\\n",
       "\t demo   & gender                      &  41654\\\\\n",
       "\t demo   & age                         &  41654\\\\\n",
       "\t demo   & medis                       &  41654\\\\\n",
       "\t demo   & English                     &  41654\\\\\n",
       "\t demo   & Height\\_i                    &  41654\\\\\n",
       "\t demo   & delta\\_H                     &  41654\\\\\n",
       "\t demo   & Weight\\_i                    &  41654\\\\\n",
       "\t demo   & delta\\_W                     &  41654\\\\\n",
       "\t demo   & race.Asian                  &  41654\\\\\n",
       "\t demo   & race.Black                  &  41654\\\\\n",
       "\t demo   & race.Native.American        &  41654\\\\\n",
       "\t demo   & race.Other                  &  41654\\\\\n",
       "\t demo   & race.Pacific.Islander       &  41654\\\\\n",
       "\t demo   & race.Unknown                &  41654\\\\\n",
       "\t demo   & race.White                  &  41654\\\\\n",
       "\t labs   & Albumin, Ser/Plas           &  36239\\\\\n",
       "\t labs   & Alk P'TASE, Total, Ser/Plas &  36046\\\\\n",
       "\t labs   & ALT (SGPT), Ser/Plas        &  35956\\\\\n",
       "\t labs   & AnionGap                    &  42524\\\\\n",
       "\t labs   & AST (SGOT), Ser/Plas        &  35921\\\\\n",
       "\t labs   & Base                        &  19624\\\\\n",
       "\t labs   & Basos                       &  34147\\\\\n",
       "\t labs   & BUN                         &  42660\\\\\n",
       "\t labs   & Calcium, Ser/Plas           &  40099\\\\\n",
       "\t labs   & Cl                          &  42976\\\\\n",
       "\t labs   & CO2, Ser/Plas               &  39963\\\\\n",
       "\t labs   & Cr                          &  42836\\\\\n",
       "\t labs   & Eos                         &  34623\\\\\n",
       "\t labs   & Globulin                    &  35638\\\\\n",
       "\t labs   & Glucose                     &  49639\\\\\n",
       "\t labs   & HCO3\\_a                      &   1899\\\\\n",
       "\t labs   & HCO3\\_v                      &  18008\\\\\n",
       "\t labs   & Hct                         &  43307\\\\\n",
       "\t labs   & Hgb                         &  43261\\\\\n",
       "\t labs   & INR                         &  18509\\\\\n",
       "\t labs   & K                           &  43392\\\\\n",
       "\t labs   & Lactate                     &  21197\\\\\n",
       "\t labs   & Lymp                        &  36279\\\\\n",
       "\t labs   & Magnesium, Ser/Plas         &   7379\\\\\n",
       "\t labs   & MCH                         &  39909\\\\\n",
       "\t labs   & MCHC                        &  39908\\\\\n",
       "\t labs   & MCV                         &  39924\\\\\n",
       "\t labs   & Mono                        &  36164\\\\\n",
       "\t labs   & Na                          &  43275\\\\\n",
       "\t labs   & Neut                        &  36235\\\\\n",
       "\t labs   & O2sat\\_a                     &   1582\\\\\n",
       "\t labs   & O2sat\\_v                     &  18157\\\\\n",
       "\t labs   & pCO2\\_a                      &   1704\\\\\n",
       "\t labs   & pCO2\\_v                      &  18217\\\\\n",
       "\t labs   & pH\\_a                        &   1632\\\\\n",
       "\t labs   & pH\\_v                        &  18314\\\\\n",
       "\t labs   & Phosphorus, Ser/Plas        &   1857\\\\\n",
       "\t labs   & Platelet                    &  40099\\\\\n",
       "\t labs   & PO2\\_a                       &   1705\\\\\n",
       "\t labs   & PO2\\_v                       &  18236\\\\\n",
       "\t labs   & Protein, Total, Ser/Plas    &  36126\\\\\n",
       "\t labs   & PT                          &  18487\\\\\n",
       "\t labs   & RBC                         &  39955\\\\\n",
       "\t labs   & TBili                       &  36325\\\\\n",
       "\t labs   & TCO2 (v), ISTAT             &  17909\\\\\n",
       "\t labs   & TCO2\\_a                      &   4691\\\\\n",
       "\t labs   & Trop                        &  15822\\\\\n",
       "\t labs   & WBC                         &  39996\\\\\n",
       "\t vitals & DBP                         & 196868\\\\\n",
       "\t vitals & GCS                         &  42838\\\\\n",
       "\t vitals & Pulse                       & 250546\\\\\n",
       "\t vitals & RR                          & 199283\\\\\n",
       "\t vitals & SBP                         & 196904\\\\\n",
       "\t vitals & SpO2                        & 211356\\\\\n",
       "\t vitals & Temp                        & 134642\\\\\n",
       "\\end{tabular}\n"
      ],
      "text/markdown": [
       "\n",
       "A grouped_df: 72 × 3\n",
       "\n",
       "| feature_type &lt;fct&gt; | features &lt;fct&gt; | n &lt;int&gt; |\n",
       "|---|---|---|\n",
       "| demo   | ESI_i                       |  41654 |\n",
       "| demo   | delta_ESI                   |  41654 |\n",
       "| demo   | gender                      |  41654 |\n",
       "| demo   | age                         |  41654 |\n",
       "| demo   | medis                       |  41654 |\n",
       "| demo   | English                     |  41654 |\n",
       "| demo   | Height_i                    |  41654 |\n",
       "| demo   | delta_H                     |  41654 |\n",
       "| demo   | Weight_i                    |  41654 |\n",
       "| demo   | delta_W                     |  41654 |\n",
       "| demo   | race.Asian                  |  41654 |\n",
       "| demo   | race.Black                  |  41654 |\n",
       "| demo   | race.Native.American        |  41654 |\n",
       "| demo   | race.Other                  |  41654 |\n",
       "| demo   | race.Pacific.Islander       |  41654 |\n",
       "| demo   | race.Unknown                |  41654 |\n",
       "| demo   | race.White                  |  41654 |\n",
       "| labs   | Albumin, Ser/Plas           |  36239 |\n",
       "| labs   | Alk P'TASE, Total, Ser/Plas |  36046 |\n",
       "| labs   | ALT (SGPT), Ser/Plas        |  35956 |\n",
       "| labs   | AnionGap                    |  42524 |\n",
       "| labs   | AST (SGOT), Ser/Plas        |  35921 |\n",
       "| labs   | Base                        |  19624 |\n",
       "| labs   | Basos                       |  34147 |\n",
       "| labs   | BUN                         |  42660 |\n",
       "| labs   | Calcium, Ser/Plas           |  40099 |\n",
       "| labs   | Cl                          |  42976 |\n",
       "| labs   | CO2, Ser/Plas               |  39963 |\n",
       "| labs   | Cr                          |  42836 |\n",
       "| labs   | Eos                         |  34623 |\n",
       "| labs   | Globulin                    |  35638 |\n",
       "| labs   | Glucose                     |  49639 |\n",
       "| labs   | HCO3_a                      |   1899 |\n",
       "| labs   | HCO3_v                      |  18008 |\n",
       "| labs   | Hct                         |  43307 |\n",
       "| labs   | Hgb                         |  43261 |\n",
       "| labs   | INR                         |  18509 |\n",
       "| labs   | K                           |  43392 |\n",
       "| labs   | Lactate                     |  21197 |\n",
       "| labs   | Lymp                        |  36279 |\n",
       "| labs   | Magnesium, Ser/Plas         |   7379 |\n",
       "| labs   | MCH                         |  39909 |\n",
       "| labs   | MCHC                        |  39908 |\n",
       "| labs   | MCV                         |  39924 |\n",
       "| labs   | Mono                        |  36164 |\n",
       "| labs   | Na                          |  43275 |\n",
       "| labs   | Neut                        |  36235 |\n",
       "| labs   | O2sat_a                     |   1582 |\n",
       "| labs   | O2sat_v                     |  18157 |\n",
       "| labs   | pCO2_a                      |   1704 |\n",
       "| labs   | pCO2_v                      |  18217 |\n",
       "| labs   | pH_a                        |   1632 |\n",
       "| labs   | pH_v                        |  18314 |\n",
       "| labs   | Phosphorus, Ser/Plas        |   1857 |\n",
       "| labs   | Platelet                    |  40099 |\n",
       "| labs   | PO2_a                       |   1705 |\n",
       "| labs   | PO2_v                       |  18236 |\n",
       "| labs   | Protein, Total, Ser/Plas    |  36126 |\n",
       "| labs   | PT                          |  18487 |\n",
       "| labs   | RBC                         |  39955 |\n",
       "| labs   | TBili                       |  36325 |\n",
       "| labs   | TCO2 (v), ISTAT             |  17909 |\n",
       "| labs   | TCO2_a                      |   4691 |\n",
       "| labs   | Trop                        |  15822 |\n",
       "| labs   | WBC                         |  39996 |\n",
       "| vitals | DBP                         | 196868 |\n",
       "| vitals | GCS                         |  42838 |\n",
       "| vitals | Pulse                       | 250546 |\n",
       "| vitals | RR                          | 199283 |\n",
       "| vitals | SBP                         | 196904 |\n",
       "| vitals | SpO2                        | 211356 |\n",
       "| vitals | Temp                        | 134642 |\n",
       "\n"
      ],
      "text/plain": [
       "   feature_type features                    n     \n",
       "1  demo         ESI_i                        41654\n",
       "2  demo         delta_ESI                    41654\n",
       "3  demo         gender                       41654\n",
       "4  demo         age                          41654\n",
       "5  demo         medis                        41654\n",
       "6  demo         English                      41654\n",
       "7  demo         Height_i                     41654\n",
       "8  demo         delta_H                      41654\n",
       "9  demo         Weight_i                     41654\n",
       "10 demo         delta_W                      41654\n",
       "11 demo         race.Asian                   41654\n",
       "12 demo         race.Black                   41654\n",
       "13 demo         race.Native.American         41654\n",
       "14 demo         race.Other                   41654\n",
       "15 demo         race.Pacific.Islander        41654\n",
       "16 demo         race.Unknown                 41654\n",
       "17 demo         race.White                   41654\n",
       "18 labs         Albumin, Ser/Plas            36239\n",
       "19 labs         Alk P'TASE, Total, Ser/Plas  36046\n",
       "20 labs         ALT (SGPT), Ser/Plas         35956\n",
       "21 labs         AnionGap                     42524\n",
       "22 labs         AST (SGOT), Ser/Plas         35921\n",
       "23 labs         Base                         19624\n",
       "24 labs         Basos                        34147\n",
       "25 labs         BUN                          42660\n",
       "26 labs         Calcium, Ser/Plas            40099\n",
       "27 labs         Cl                           42976\n",
       "28 labs         CO2, Ser/Plas                39963\n",
       "29 labs         Cr                           42836\n",
       "30 labs         Eos                          34623\n",
       "31 labs         Globulin                     35638\n",
       "32 labs         Glucose                      49639\n",
       "33 labs         HCO3_a                        1899\n",
       "34 labs         HCO3_v                       18008\n",
       "35 labs         Hct                          43307\n",
       "36 labs         Hgb                          43261\n",
       "37 labs         INR                          18509\n",
       "38 labs         K                            43392\n",
       "39 labs         Lactate                      21197\n",
       "40 labs         Lymp                         36279\n",
       "41 labs         Magnesium, Ser/Plas           7379\n",
       "42 labs         MCH                          39909\n",
       "43 labs         MCHC                         39908\n",
       "44 labs         MCV                          39924\n",
       "45 labs         Mono                         36164\n",
       "46 labs         Na                           43275\n",
       "47 labs         Neut                         36235\n",
       "48 labs         O2sat_a                       1582\n",
       "49 labs         O2sat_v                      18157\n",
       "50 labs         pCO2_a                        1704\n",
       "51 labs         pCO2_v                       18217\n",
       "52 labs         pH_a                          1632\n",
       "53 labs         pH_v                         18314\n",
       "54 labs         Phosphorus, Ser/Plas          1857\n",
       "55 labs         Platelet                     40099\n",
       "56 labs         PO2_a                         1705\n",
       "57 labs         PO2_v                        18236\n",
       "58 labs         Protein, Total, Ser/Plas     36126\n",
       "59 labs         PT                           18487\n",
       "60 labs         RBC                          39955\n",
       "61 labs         TBili                        36325\n",
       "62 labs         TCO2 (v), ISTAT              17909\n",
       "63 labs         TCO2_a                        4691\n",
       "64 labs         Trop                         15822\n",
       "65 labs         WBC                          39996\n",
       "66 vitals       DBP                         196868\n",
       "67 vitals       GCS                          42838\n",
       "68 vitals       Pulse                       250546\n",
       "69 vitals       RR                          199283\n",
       "70 vitals       SBP                         196904\n",
       "71 vitals       SpO2                        211356\n",
       "72 vitals       Temp                        134642"
      ]
     },
     "metadata": {},
     "output_type": "display_data"
    }
   ],
   "source": [
    "final_feat3 %>% group_by(feature_type, features) %>% count()"
   ]
  },
  {
   "cell_type": "code",
   "execution_count": 79,
   "metadata": {
    "collapsed": true,
    "jupyter": {
     "outputs_hidden": true
    }
   },
   "outputs": [
    {
     "data": {
      "text/plain": [
       "      anon_id        pat_enc_csn_id_coded inpatient_data_id_coded\n",
       " JCe8f38d :   3464   Min.   :1.311e+11    Min.   :13616753       \n",
       " JC29fe299:   3138   1st Qu.:1.312e+11    1st Qu.:18137027       \n",
       " JC2a0d68b:   2585   Median :1.312e+11    Median :25721698       \n",
       " JCe228ac :   2517   Mean   :1.312e+11    Mean   :26400576       \n",
       " JCdd32fa :   2450   3rd Qu.:1.313e+11    3rd Qu.:33134355       \n",
       " JCdc9c9c :   2372   Max.   :1.313e+11    Max.   :45698377       \n",
       " (Other)  :3292380                                               \n",
       "  label_max24       admit_time                   admit_label   \n",
       " Min.   :0.0000   Min.   :2015-01-01 08:24:00   Min.   :0.00   \n",
       " 1st Qu.:0.0000   1st Qu.:2016-01-15 04:15:00   1st Qu.:0.00   \n",
       " Median :0.0000   Median :2017-08-10 02:26:00   Median :0.00   \n",
       " Mean   :0.1763   Mean   :2017-07-04 16:50:32   Mean   :0.15   \n",
       " 3rd Qu.:0.0000   3rd Qu.:2018-11-25 09:19:00   3rd Qu.:0.00   \n",
       " Max.   :1.0000   Max.   :2019-12-31 22:00:00   Max.   :1.00   \n",
       "                                                NA's   :56446  \n",
       " label_24hr_recent label_12hr_recent has_admit_label   first_label    \n",
       " Min.   :0.0000    Min.   :0.000     Min.   :0.0000   Min.   :0.0000  \n",
       " 1st Qu.:0.0000    1st Qu.:0.000     1st Qu.:1.0000   1st Qu.:0.0000  \n",
       " Median :0.0000    Median :0.000     Median :1.0000   Median :0.0000  \n",
       " Mean   :0.1267    Mean   :0.152     Mean   :0.9829   Mean   :0.1496  \n",
       " 3rd Qu.:0.0000    3rd Qu.:0.000     3rd Qu.:1.0000   3rd Qu.:0.0000  \n",
       " Max.   :1.0000    Max.   :1.000     Max.   :1.0000   Max.   :1.0000  \n",
       "                   NA's   :4187                                       \n",
       "  first_label_time_since_admit acute_to_critical_label critical_to_acute_label\n",
       " 0              :3252460       Min.   :0.00000         Min.   :0.00000        \n",
       " 0 days 00:01:00:   8176       1st Qu.:0.00000         1st Qu.:0.00000        \n",
       " 0 days 01:52:00:    674       Median :0.00000         Median :0.00000        \n",
       " 0 days 00:09:00:    569       Mean   :0.02162         Mean   :0.04453        \n",
       " 0 days 00:06:00:    563       3rd Qu.:0.00000         3rd Qu.:0.00000        \n",
       " 0 days 03:11:00:    547       Max.   :1.00000         Max.   :1.00000        \n",
       " (Other)        :  45917                                                      \n",
       "    features           values        feature_type    \n",
       " Pulse  : 250546   Min.   : -30.00   demo  : 708118  \n",
       " SpO2   : 211356   1st Qu.:   2.00   labs  :1368351  \n",
       " RR     : 199283   Median :  25.00   vitals:1232437  \n",
       " SBP    : 196904   Mean   :  47.94                   \n",
       " DBP    : 196868   3rd Qu.:  89.00                   \n",
       " Temp   : 134642   Max.   :9655.00                   \n",
       " (Other):2119307                                     \n",
       "                        time        \n",
       " 2015-09-20 02:00:00+00:00:     52  \n",
       " 2018-11-07 01:00:00+00:00:     51  \n",
       " 2015-06-06 02:00:00+00:00:     50  \n",
       " 2015-06-29 00:00:00+00:00:     50  \n",
       " 2018-01-18 01:32:00      :     49  \n",
       " (Other)                  :2600536  \n",
       " NA's                     : 708118  "
      ]
     },
     "metadata": {},
     "output_type": "display_data"
    }
   ],
   "source": [
    "summary(final_feat3)"
   ]
  },
  {
   "cell_type": "code",
   "execution_count": 80,
   "metadata": {
    "collapsed": true,
    "jupyter": {
     "outputs_hidden": true
    }
   },
   "outputs": [
    {
     "data": {
      "text/html": [
       "<table>\n",
       "<caption>A data.frame: 6 × 8</caption>\n",
       "<thead>\n",
       "\t<tr><th></th><th scope=col>anon_id</th><th scope=col>pat_enc_csn_id_coded</th><th scope=col>label_24hr_recent</th><th scope=col>admit_time</th><th scope=col>feature_type</th><th scope=col>features</th><th scope=col>values</th><th scope=col>time</th></tr>\n",
       "\t<tr><th></th><th scope=col>&lt;fct&gt;</th><th scope=col>&lt;dbl&gt;</th><th scope=col>&lt;int&gt;</th><th scope=col>&lt;dttm&gt;</th><th scope=col>&lt;fct&gt;</th><th scope=col>&lt;fct&gt;</th><th scope=col>&lt;dbl&gt;</th><th scope=col>&lt;fct&gt;</th></tr>\n",
       "</thead>\n",
       "<tbody>\n",
       "\t<tr><th scope=row>1</th><td>JC29f8ad2</td><td>131274729058</td><td>0</td><td>2019-08-31 12:52:00</td><td>demo</td><td>ESI_i    </td><td> 3</td><td>NA</td></tr>\n",
       "\t<tr><th scope=row>2</th><td>JC29f8ad2</td><td>131274729058</td><td>0</td><td>2019-08-31 12:52:00</td><td>demo</td><td>delta_ESI</td><td> 0</td><td>NA</td></tr>\n",
       "\t<tr><th scope=row>3</th><td>JC29f8ad2</td><td>131274729058</td><td>0</td><td>2019-08-31 12:52:00</td><td>demo</td><td>gender   </td><td> 1</td><td>NA</td></tr>\n",
       "\t<tr><th scope=row>4</th><td>JC29f8ad2</td><td>131274729058</td><td>0</td><td>2019-08-31 12:52:00</td><td>demo</td><td>age      </td><td>52</td><td>NA</td></tr>\n",
       "\t<tr><th scope=row>5</th><td>JC29f8ad2</td><td>131274729058</td><td>0</td><td>2019-08-31 12:52:00</td><td>demo</td><td>medis    </td><td> 0</td><td>NA</td></tr>\n",
       "\t<tr><th scope=row>6</th><td>JC29f8ad2</td><td>131274729058</td><td>0</td><td>2019-08-31 12:52:00</td><td>demo</td><td>English  </td><td> 1</td><td>NA</td></tr>\n",
       "</tbody>\n",
       "</table>\n"
      ],
      "text/latex": [
       "A data.frame: 6 × 8\n",
       "\\begin{tabular}{r|llllllll}\n",
       "  & anon\\_id & pat\\_enc\\_csn\\_id\\_coded & label\\_24hr\\_recent & admit\\_time & feature\\_type & features & values & time\\\\\n",
       "  & <fct> & <dbl> & <int> & <dttm> & <fct> & <fct> & <dbl> & <fct>\\\\\n",
       "\\hline\n",
       "\t1 & JC29f8ad2 & 131274729058 & 0 & 2019-08-31 12:52:00 & demo & ESI\\_i     &  3 & NA\\\\\n",
       "\t2 & JC29f8ad2 & 131274729058 & 0 & 2019-08-31 12:52:00 & demo & delta\\_ESI &  0 & NA\\\\\n",
       "\t3 & JC29f8ad2 & 131274729058 & 0 & 2019-08-31 12:52:00 & demo & gender    &  1 & NA\\\\\n",
       "\t4 & JC29f8ad2 & 131274729058 & 0 & 2019-08-31 12:52:00 & demo & age       & 52 & NA\\\\\n",
       "\t5 & JC29f8ad2 & 131274729058 & 0 & 2019-08-31 12:52:00 & demo & medis     &  0 & NA\\\\\n",
       "\t6 & JC29f8ad2 & 131274729058 & 0 & 2019-08-31 12:52:00 & demo & English   &  1 & NA\\\\\n",
       "\\end{tabular}\n"
      ],
      "text/markdown": [
       "\n",
       "A data.frame: 6 × 8\n",
       "\n",
       "| <!--/--> | anon_id &lt;fct&gt; | pat_enc_csn_id_coded &lt;dbl&gt; | label_24hr_recent &lt;int&gt; | admit_time &lt;dttm&gt; | feature_type &lt;fct&gt; | features &lt;fct&gt; | values &lt;dbl&gt; | time &lt;fct&gt; |\n",
       "|---|---|---|---|---|---|---|---|---|\n",
       "| 1 | JC29f8ad2 | 131274729058 | 0 | 2019-08-31 12:52:00 | demo | ESI_i     |  3 | NA |\n",
       "| 2 | JC29f8ad2 | 131274729058 | 0 | 2019-08-31 12:52:00 | demo | delta_ESI |  0 | NA |\n",
       "| 3 | JC29f8ad2 | 131274729058 | 0 | 2019-08-31 12:52:00 | demo | gender    |  1 | NA |\n",
       "| 4 | JC29f8ad2 | 131274729058 | 0 | 2019-08-31 12:52:00 | demo | age       | 52 | NA |\n",
       "| 5 | JC29f8ad2 | 131274729058 | 0 | 2019-08-31 12:52:00 | demo | medis     |  0 | NA |\n",
       "| 6 | JC29f8ad2 | 131274729058 | 0 | 2019-08-31 12:52:00 | demo | English   |  1 | NA |\n",
       "\n"
      ],
      "text/plain": [
       "  anon_id   pat_enc_csn_id_coded label_24hr_recent admit_time         \n",
       "1 JC29f8ad2 131274729058         0                 2019-08-31 12:52:00\n",
       "2 JC29f8ad2 131274729058         0                 2019-08-31 12:52:00\n",
       "3 JC29f8ad2 131274729058         0                 2019-08-31 12:52:00\n",
       "4 JC29f8ad2 131274729058         0                 2019-08-31 12:52:00\n",
       "5 JC29f8ad2 131274729058         0                 2019-08-31 12:52:00\n",
       "6 JC29f8ad2 131274729058         0                 2019-08-31 12:52:00\n",
       "  feature_type features  values time\n",
       "1 demo         ESI_i      3     NA  \n",
       "2 demo         delta_ESI  0     NA  \n",
       "3 demo         gender     1     NA  \n",
       "4 demo         age       52     NA  \n",
       "5 demo         medis      0     NA  \n",
       "6 demo         English    1     NA  "
      ]
     },
     "metadata": {},
     "output_type": "display_data"
    }
   ],
   "source": [
    "final_feat3 <- final_feat3 %>% select(anon_id, pat_enc_csn_id_coded, label_24hr_recent, admit_time,\n",
    "                                     feature_type, features, values, time)\n",
    "head(final_feat3)"
   ]
  },
  {
   "cell_type": "code",
   "execution_count": 81,
   "metadata": {
    "collapsed": true,
    "jupyter": {
     "outputs_hidden": true
    }
   },
   "outputs": [
    {
     "data": {
      "text/html": [
       "<table>\n",
       "<caption>A data.frame: 6 × 8</caption>\n",
       "<thead>\n",
       "\t<tr><th></th><th scope=col>anon_id</th><th scope=col>pat_enc_csn_id_coded</th><th scope=col>label_24hr_recent</th><th scope=col>admit_time</th><th scope=col>feature_type</th><th scope=col>features</th><th scope=col>values</th><th scope=col>time</th></tr>\n",
       "\t<tr><th></th><th scope=col>&lt;fct&gt;</th><th scope=col>&lt;dbl&gt;</th><th scope=col>&lt;int&gt;</th><th scope=col>&lt;dttm&gt;</th><th scope=col>&lt;fct&gt;</th><th scope=col>&lt;fct&gt;</th><th scope=col>&lt;dbl&gt;</th><th scope=col>&lt;fct&gt;</th></tr>\n",
       "</thead>\n",
       "<tbody>\n",
       "\t<tr><th scope=row>3308901</th><td>JCec489c</td><td>131226296895</td><td>1</td><td>2017-05-08 01:56:00</td><td>labs</td><td>TBili</td><td>0.50</td><td>2017-05-08 01:13:00</td></tr>\n",
       "\t<tr><th scope=row>3308902</th><td>JCec489c</td><td>131226296895</td><td>1</td><td>2017-05-08 01:56:00</td><td>labs</td><td>Eos  </td><td>0.14</td><td>2017-05-08 00:58:00</td></tr>\n",
       "\t<tr><th scope=row>3308903</th><td>JCec489c</td><td>131226296895</td><td>1</td><td>2017-05-08 01:56:00</td><td>labs</td><td>Lymp </td><td>1.25</td><td>2017-05-08 00:58:00</td></tr>\n",
       "\t<tr><th scope=row>3308904</th><td>JCec489c</td><td>131226296895</td><td>1</td><td>2017-05-08 01:56:00</td><td>labs</td><td>Basos</td><td>0.10</td><td>2017-05-08 00:58:00</td></tr>\n",
       "\t<tr><th scope=row>3308905</th><td>JCec489c</td><td>131226296895</td><td>1</td><td>2017-05-08 01:56:00</td><td>labs</td><td>Mono </td><td>0.89</td><td>2017-05-08 00:58:00</td></tr>\n",
       "\t<tr><th scope=row>3308906</th><td>JCec489c</td><td>131226296895</td><td>1</td><td>2017-05-08 01:56:00</td><td>labs</td><td>Neut </td><td>7.71</td><td>2017-05-08 00:58:00</td></tr>\n",
       "</tbody>\n",
       "</table>\n"
      ],
      "text/latex": [
       "A data.frame: 6 × 8\n",
       "\\begin{tabular}{r|llllllll}\n",
       "  & anon\\_id & pat\\_enc\\_csn\\_id\\_coded & label\\_24hr\\_recent & admit\\_time & feature\\_type & features & values & time\\\\\n",
       "  & <fct> & <dbl> & <int> & <dttm> & <fct> & <fct> & <dbl> & <fct>\\\\\n",
       "\\hline\n",
       "\t3308901 & JCec489c & 131226296895 & 1 & 2017-05-08 01:56:00 & labs & TBili & 0.50 & 2017-05-08 01:13:00\\\\\n",
       "\t3308902 & JCec489c & 131226296895 & 1 & 2017-05-08 01:56:00 & labs & Eos   & 0.14 & 2017-05-08 00:58:00\\\\\n",
       "\t3308903 & JCec489c & 131226296895 & 1 & 2017-05-08 01:56:00 & labs & Lymp  & 1.25 & 2017-05-08 00:58:00\\\\\n",
       "\t3308904 & JCec489c & 131226296895 & 1 & 2017-05-08 01:56:00 & labs & Basos & 0.10 & 2017-05-08 00:58:00\\\\\n",
       "\t3308905 & JCec489c & 131226296895 & 1 & 2017-05-08 01:56:00 & labs & Mono  & 0.89 & 2017-05-08 00:58:00\\\\\n",
       "\t3308906 & JCec489c & 131226296895 & 1 & 2017-05-08 01:56:00 & labs & Neut  & 7.71 & 2017-05-08 00:58:00\\\\\n",
       "\\end{tabular}\n"
      ],
      "text/markdown": [
       "\n",
       "A data.frame: 6 × 8\n",
       "\n",
       "| <!--/--> | anon_id &lt;fct&gt; | pat_enc_csn_id_coded &lt;dbl&gt; | label_24hr_recent &lt;int&gt; | admit_time &lt;dttm&gt; | feature_type &lt;fct&gt; | features &lt;fct&gt; | values &lt;dbl&gt; | time &lt;fct&gt; |\n",
       "|---|---|---|---|---|---|---|---|---|\n",
       "| 3308901 | JCec489c | 131226296895 | 1 | 2017-05-08 01:56:00 | labs | TBili | 0.50 | 2017-05-08 01:13:00 |\n",
       "| 3308902 | JCec489c | 131226296895 | 1 | 2017-05-08 01:56:00 | labs | Eos   | 0.14 | 2017-05-08 00:58:00 |\n",
       "| 3308903 | JCec489c | 131226296895 | 1 | 2017-05-08 01:56:00 | labs | Lymp  | 1.25 | 2017-05-08 00:58:00 |\n",
       "| 3308904 | JCec489c | 131226296895 | 1 | 2017-05-08 01:56:00 | labs | Basos | 0.10 | 2017-05-08 00:58:00 |\n",
       "| 3308905 | JCec489c | 131226296895 | 1 | 2017-05-08 01:56:00 | labs | Mono  | 0.89 | 2017-05-08 00:58:00 |\n",
       "| 3308906 | JCec489c | 131226296895 | 1 | 2017-05-08 01:56:00 | labs | Neut  | 7.71 | 2017-05-08 00:58:00 |\n",
       "\n"
      ],
      "text/plain": [
       "        anon_id  pat_enc_csn_id_coded label_24hr_recent admit_time         \n",
       "3308901 JCec489c 131226296895         1                 2017-05-08 01:56:00\n",
       "3308902 JCec489c 131226296895         1                 2017-05-08 01:56:00\n",
       "3308903 JCec489c 131226296895         1                 2017-05-08 01:56:00\n",
       "3308904 JCec489c 131226296895         1                 2017-05-08 01:56:00\n",
       "3308905 JCec489c 131226296895         1                 2017-05-08 01:56:00\n",
       "3308906 JCec489c 131226296895         1                 2017-05-08 01:56:00\n",
       "        feature_type features values time               \n",
       "3308901 labs         TBili    0.50   2017-05-08 01:13:00\n",
       "3308902 labs         Eos      0.14   2017-05-08 00:58:00\n",
       "3308903 labs         Lymp     1.25   2017-05-08 00:58:00\n",
       "3308904 labs         Basos    0.10   2017-05-08 00:58:00\n",
       "3308905 labs         Mono     0.89   2017-05-08 00:58:00\n",
       "3308906 labs         Neut     7.71   2017-05-08 00:58:00"
      ]
     },
     "metadata": {},
     "output_type": "display_data"
    }
   ],
   "source": [
    "tail(final_feat3)"
   ]
  },
  {
   "cell_type": "code",
   "execution_count": 82,
   "metadata": {
    "collapsed": true,
    "jupyter": {
     "outputs_hidden": true
    }
   },
   "outputs": [],
   "source": [
    "write.csv(final_feat3, file = \"./Data/features_demos_vitals_labs.csv\", row.names=FALSE)"
   ]
  },
  {
   "cell_type": "markdown",
   "metadata": {},
   "source": [
    "### OLD --"
   ]
  },
  {
   "cell_type": "code",
   "execution_count": 101,
   "metadata": {
    "collapsed": true,
    "jupyter": {
     "outputs_hidden": true
    }
   },
   "outputs": [],
   "source": [
    "# write.csv(cohort, file = \"./Data/cohort_has_vs_hxlabels.csv\", row.names=FALSE)"
   ]
  },
  {
   "cell_type": "code",
   "execution_count": 103,
   "metadata": {
    "collapsed": true,
    "jupyter": {
     "outputs_hidden": true
    }
   },
   "outputs": [
    {
     "data": {
      "text/html": [
       "43291"
      ],
      "text/latex": [
       "43291"
      ],
      "text/markdown": [
       "43291"
      ],
      "text/plain": [
       "[1] 43291"
      ]
     },
     "metadata": {},
     "output_type": "display_data"
    }
   ],
   "source": [
    "# read Tiffany's label\n",
    "labels <- read.csv(\"./Data/labels.csv\")\n",
    "nrow(labels)"
   ]
  },
  {
   "cell_type": "code",
   "execution_count": 114,
   "metadata": {
    "collapsed": true,
    "jupyter": {
     "outputs_hidden": true
    }
   },
   "outputs": [
    {
     "data": {
      "text/html": [
       "<table>\n",
       "<caption>A data.frame: 1 × 8</caption>\n",
       "<thead>\n",
       "\t<tr><th></th><th scope=col>anon_id</th><th scope=col>pat_enc_csn_id_coded</th><th scope=col>inpatient_data_id_coded</th><th scope=col>label_max24</th><th scope=col>admit_time</th><th scope=col>admit_label</th><th scope=col>X_24hr_recent_label</th><th scope=col>X_12hr_recent_label</th></tr>\n",
       "\t<tr><th></th><th scope=col>&lt;fct&gt;</th><th scope=col>&lt;dbl&gt;</th><th scope=col>&lt;int&gt;</th><th scope=col>&lt;int&gt;</th><th scope=col>&lt;fct&gt;</th><th scope=col>&lt;dbl&gt;</th><th scope=col>&lt;dbl&gt;</th><th scope=col>&lt;dbl&gt;</th></tr>\n",
       "</thead>\n",
       "<tbody>\n",
       "\t<tr><th scope=row>1</th><td>JCcbd0bd</td><td>131093156488</td><td>15900683</td><td>0</td><td>2015-06-19 05:29:00+00:00</td><td>NA</td><td>NA</td><td>NA</td></tr>\n",
       "</tbody>\n",
       "</table>\n"
      ],
      "text/latex": [
       "A data.frame: 1 × 8\n",
       "\\begin{tabular}{r|llllllll}\n",
       "  & anon\\_id & pat\\_enc\\_csn\\_id\\_coded & inpatient\\_data\\_id\\_coded & label\\_max24 & admit\\_time & admit\\_label & X\\_24hr\\_recent\\_label & X\\_12hr\\_recent\\_label\\\\\n",
       "  & <fct> & <dbl> & <int> & <int> & <fct> & <dbl> & <dbl> & <dbl>\\\\\n",
       "\\hline\n",
       "\t1 & JCcbd0bd & 131093156488 & 15900683 & 0 & 2015-06-19 05:29:00+00:00 & NA & NA & NA\\\\\n",
       "\\end{tabular}\n"
      ],
      "text/markdown": [
       "\n",
       "A data.frame: 1 × 8\n",
       "\n",
       "| <!--/--> | anon_id &lt;fct&gt; | pat_enc_csn_id_coded &lt;dbl&gt; | inpatient_data_id_coded &lt;int&gt; | label_max24 &lt;int&gt; | admit_time &lt;fct&gt; | admit_label &lt;dbl&gt; | X_24hr_recent_label &lt;dbl&gt; | X_12hr_recent_label &lt;dbl&gt; |\n",
       "|---|---|---|---|---|---|---|---|---|\n",
       "| 1 | JCcbd0bd | 131093156488 | 15900683 | 0 | 2015-06-19 05:29:00+00:00 | NA | NA | NA |\n",
       "\n"
      ],
      "text/plain": [
       "  anon_id  pat_enc_csn_id_coded inpatient_data_id_coded label_max24\n",
       "1 JCcbd0bd 131093156488         15900683                0          \n",
       "  admit_time                admit_label X_24hr_recent_label X_12hr_recent_label\n",
       "1 2015-06-19 05:29:00+00:00 NA          NA                  NA                 "
      ]
     },
     "metadata": {},
     "output_type": "display_data"
    },
    {
     "data": {
      "text/html": [
       "<table>\n",
       "<caption>A data.frame: 1 × 5</caption>\n",
       "<thead>\n",
       "\t<tr><th></th><th scope=col>anon_id</th><th scope=col>pat_enc_csn_id_coded</th><th scope=col>inpatient_data_id_coded</th><th scope=col>label_max24</th><th scope=col>admit_time</th></tr>\n",
       "\t<tr><th></th><th scope=col>&lt;fct&gt;</th><th scope=col>&lt;dbl&gt;</th><th scope=col>&lt;int&gt;</th><th scope=col>&lt;int&gt;</th><th scope=col>&lt;fct&gt;</th></tr>\n",
       "</thead>\n",
       "<tbody>\n",
       "\t<tr><th scope=row>1</th><td>JC29f8ad2</td><td>131274729058</td><td>40679773</td><td>0</td><td>2019-08-31 12:52:00</td></tr>\n",
       "</tbody>\n",
       "</table>\n"
      ],
      "text/latex": [
       "A data.frame: 1 × 5\n",
       "\\begin{tabular}{r|lllll}\n",
       "  & anon\\_id & pat\\_enc\\_csn\\_id\\_coded & inpatient\\_data\\_id\\_coded & label\\_max24 & admit\\_time\\\\\n",
       "  & <fct> & <dbl> & <int> & <int> & <fct>\\\\\n",
       "\\hline\n",
       "\t1 & JC29f8ad2 & 131274729058 & 40679773 & 0 & 2019-08-31 12:52:00\\\\\n",
       "\\end{tabular}\n"
      ],
      "text/markdown": [
       "\n",
       "A data.frame: 1 × 5\n",
       "\n",
       "| <!--/--> | anon_id &lt;fct&gt; | pat_enc_csn_id_coded &lt;dbl&gt; | inpatient_data_id_coded &lt;int&gt; | label_max24 &lt;int&gt; | admit_time &lt;fct&gt; |\n",
       "|---|---|---|---|---|---|\n",
       "| 1 | JC29f8ad2 | 131274729058 | 40679773 | 0 | 2019-08-31 12:52:00 |\n",
       "\n"
      ],
      "text/plain": [
       "  anon_id   pat_enc_csn_id_coded inpatient_data_id_coded label_max24\n",
       "1 JC29f8ad2 131274729058         40679773                0          \n",
       "  admit_time         \n",
       "1 2019-08-31 12:52:00"
      ]
     },
     "metadata": {},
     "output_type": "display_data"
    }
   ],
   "source": [
    "head(labels, n=1)\n",
    "head(cohort, n=1)"
   ]
  },
  {
   "cell_type": "code",
   "execution_count": 112,
   "metadata": {
    "collapsed": true,
    "jupyter": {
     "outputs_hidden": true
    }
   },
   "outputs": [
    {
     "data": {
      "text/plain": [
       "      anon_id      pat_enc_csn_id_coded inpatient_data_id_coded  label_max24   \n",
       " JCe8f38d :   37   Min.   :1.311e+11    Min.   :13616753        Min.   :0.000  \n",
       " JC29fe299:   36   1st Qu.:1.312e+11    1st Qu.:19479492        1st Qu.:0.000  \n",
       " JC2a0d68b:   35   Median :1.312e+11    Median :26829094        Median :0.000  \n",
       " JCdd32fa :   34   Mean   :1.312e+11    Mean   :27179266        Mean   :0.138  \n",
       " JCdc9c9c :   32   3rd Qu.:1.313e+11    3rd Qu.:33542568        3rd Qu.:0.000  \n",
       " JCcfe0cb :   29   Max.   :1.313e+11    Max.   :45698377        Max.   :1.000  \n",
       " (Other)  :43088                                                               \n",
       "                     admit_time     admit_label     X_24hr_recent_label\n",
       " 2015-07-29 05:24:00+00:00:    3   Min.   :0.0000   Min.   :0.00000    \n",
       " 2018-06-26 01:39:00+00:00:    3   1st Qu.:0.0000   1st Qu.:0.00000    \n",
       " 2018-09-09 00:41:00+00:00:    3   Median :0.0000   Median :0.00000    \n",
       " 2019-10-05 01:25:00+00:00:    3   Mean   :0.1127   Mean   :0.09799    \n",
       " 2015-01-04 01:11:00+00:00:    2   3rd Qu.:0.0000   3rd Qu.:0.00000    \n",
       " 2015-01-10 00:04:00+00:00:    2   Max.   :1.0000   Max.   :1.00000    \n",
       " (Other)                  :43275   NA's   :806      NA's   :84         \n",
       " X_12hr_recent_label\n",
       " Min.   :0.0000     \n",
       " 1st Qu.:0.0000     \n",
       " Median :0.0000     \n",
       " Mean   :0.1161     \n",
       " 3rd Qu.:0.0000     \n",
       " Max.   :1.0000     \n",
       " NA's   :136        "
      ]
     },
     "metadata": {},
     "output_type": "display_data"
    },
    {
     "data": {
      "text/html": [
       "<style>\n",
       ".list-inline {list-style: none; margin:0; padding: 0}\n",
       ".list-inline>li {display: inline-block}\n",
       ".list-inline>li:not(:last-child)::after {content: \"\\00b7\"; padding: 0 .5ex}\n",
       "</style>\n",
       "<ol class=list-inline><li>'anon_id'</li><li>'pat_enc_csn_id_coded'</li><li>'inpatient_data_id_coded'</li><li>'label_max24'</li><li>'admit_time'</li><li>'admit_label'</li><li>'X_24hr_recent_label'</li><li>'X_12hr_recent_label'</li></ol>\n"
      ],
      "text/latex": [
       "\\begin{enumerate*}\n",
       "\\item 'anon\\_id'\n",
       "\\item 'pat\\_enc\\_csn\\_id\\_coded'\n",
       "\\item 'inpatient\\_data\\_id\\_coded'\n",
       "\\item 'label\\_max24'\n",
       "\\item 'admit\\_time'\n",
       "\\item 'admit\\_label'\n",
       "\\item 'X\\_24hr\\_recent\\_label'\n",
       "\\item 'X\\_12hr\\_recent\\_label'\n",
       "\\end{enumerate*}\n"
      ],
      "text/markdown": [
       "1. 'anon_id'\n",
       "2. 'pat_enc_csn_id_coded'\n",
       "3. 'inpatient_data_id_coded'\n",
       "4. 'label_max24'\n",
       "5. 'admit_time'\n",
       "6. 'admit_label'\n",
       "7. 'X_24hr_recent_label'\n",
       "8. 'X_12hr_recent_label'\n",
       "\n",
       "\n"
      ],
      "text/plain": [
       "[1] \"anon_id\"                 \"pat_enc_csn_id_coded\"   \n",
       "[3] \"inpatient_data_id_coded\" \"label_max24\"            \n",
       "[5] \"admit_time\"              \"admit_label\"            \n",
       "[7] \"X_24hr_recent_label\"     \"X_12hr_recent_label\"    "
      ]
     },
     "metadata": {},
     "output_type": "display_data"
    }
   ],
   "source": [
    "summary(labels)\n",
    "colnames(labels)"
   ]
  },
  {
   "cell_type": "code",
   "execution_count": 115,
   "metadata": {
    "collapsed": true,
    "jupyter": {
     "outputs_hidden": true
    }
   },
   "outputs": [
    {
     "name": "stderr",
     "output_type": "stream",
     "text": [
      "Joining, by = c(\"anon_id\", \"pat_enc_csn_id_coded\", \"inpatient_data_id_coded\", \"label_max24\")\n",
      "\n"
     ]
    },
    {
     "data": {
      "text/html": [
       "43090"
      ],
      "text/latex": [
       "43090"
      ],
      "text/markdown": [
       "43090"
      ],
      "text/plain": [
       "[1] 43090"
      ]
     },
     "metadata": {},
     "output_type": "display_data"
    },
    {
     "data": {
      "text/plain": [
       "      anon_id      pat_enc_csn_id_coded inpatient_data_id_coded\n",
       " JCe8f38d :   37   Min.   :1.311e+11    Min.   :13616753       \n",
       " JC29fe299:   36   1st Qu.:1.312e+11    1st Qu.:19477028       \n",
       " JC2a0d68b:   35   Median :1.312e+11    Median :26817183       \n",
       " JCdd32fa :   34   Mean   :1.312e+11    Mean   :27160060       \n",
       " JCdc9c9c :   32   3rd Qu.:1.313e+11    3rd Qu.:33520092       \n",
       " JCcfe0cb :   29   Max.   :1.313e+11    Max.   :45698377       \n",
       " (Other)  :42887                                               \n",
       "  label_max24                         admit_time     admit_label    \n",
       " Min.   :0.0000   2015-07-29 05:24:00+00:00:    3   Min.   :0.0000  \n",
       " 1st Qu.:0.0000   2018-06-26 01:39:00+00:00:    3   1st Qu.:0.0000  \n",
       " Median :0.0000   2018-09-09 00:41:00+00:00:    3   Median :0.0000  \n",
       " Mean   :0.1382   2019-10-05 01:25:00+00:00:    3   Mean   :0.1129  \n",
       " 3rd Qu.:0.0000   2015-01-04 01:11:00+00:00:    2   3rd Qu.:0.0000  \n",
       " Max.   :1.0000   2015-01-10 00:04:00+00:00:    2   Max.   :1.0000  \n",
       "                  (Other)                  :43074   NA's   :796     \n",
       " label_24hr_recent label_12hr_recent\n",
       " Min.   :0.0000    Min.   :0.0000   \n",
       " 1st Qu.:0.0000    1st Qu.:0.0000   \n",
       " Median :0.0000    Median :0.0000   \n",
       " Mean   :0.0981    Mean   :0.1161   \n",
       " 3rd Qu.:0.0000    3rd Qu.:0.0000   \n",
       " Max.   :1.0000    Max.   :1.0000   \n",
       " NA's   :82        NA's   :133      "
      ]
     },
     "metadata": {},
     "output_type": "display_data"
    }
   ],
   "source": [
    "new_cohort <- cohort %>% select(-admit_time) %>% left_join(labels) %>%\n",
    "                    rename(label_24hr_recent = X_24hr_recent_label, label_12hr_recent = X_12hr_recent_label)\n",
    "nrow(new_cohort)\n",
    "summary(new_cohort)"
   ]
  },
  {
   "cell_type": "code",
   "execution_count": 116,
   "metadata": {
    "collapsed": true,
    "jupyter": {
     "outputs_hidden": true
    }
   },
   "outputs": [],
   "source": [
    "# write.csv(new_cohort, \"./Data/cohort_final_with_labels.csv\", row.names = FALSE)"
   ]
  },
  {
   "cell_type": "code",
   "execution_count": 124,
   "metadata": {
    "collapsed": true,
    "jupyter": {
     "outputs_hidden": true
    }
   },
   "outputs": [
    {
     "data": {
      "text/html": [
       "43090"
      ],
      "text/latex": [
       "43090"
      ],
      "text/markdown": [
       "43090"
      ],
      "text/plain": [
       "[1] 43090"
      ]
     },
     "metadata": {},
     "output_type": "display_data"
    },
    {
     "data": {
      "text/html": [
       "43090"
      ],
      "text/latex": [
       "43090"
      ],
      "text/markdown": [
       "43090"
      ],
      "text/plain": [
       "[1] 43090"
      ]
     },
     "metadata": {},
     "output_type": "display_data"
    },
    {
     "data": {
      "text/html": [
       "43090"
      ],
      "text/latex": [
       "43090"
      ],
      "text/markdown": [
       "43090"
      ],
      "text/plain": [
       "[1] 43090"
      ]
     },
     "metadata": {},
     "output_type": "display_data"
    },
    {
     "data": {
      "text/html": [
       "3408194"
      ],
      "text/latex": [
       "3408194"
      ],
      "text/markdown": [
       "3408194"
      ],
      "text/plain": [
       "[1] 3408194"
      ]
     },
     "metadata": {},
     "output_type": "display_data"
    },
    {
     "data": {
      "text/html": [
       "3408194"
      ],
      "text/latex": [
       "3408194"
      ],
      "text/markdown": [
       "3408194"
      ],
      "text/plain": [
       "[1] 3408194"
      ]
     },
     "metadata": {},
     "output_type": "display_data"
    }
   ],
   "source": [
    "length(cohort$pat_enc_csn_id_coded %in% new_cohort$pat_enc_csn_id_coded)\n",
    "length(new_cohort$pat_enc_csn_id_coded %in% cohort$pat_enc_csn_id_coded)\n",
    "length(new_cohort$pat_enc_csn_id_coded %in% feat3$pat_enc_csn_id_coded)\n",
    "length(feat3$pat_enc_csn_id_coded %in% new_cohort$pat_enc_csn_id_coded)\n",
    "nrow(feat3)"
   ]
  }
 ],
 "metadata": {
  "environment": {
   "name": "r-cpu.4-0.m71",
   "type": "gcloud",
   "uri": "gcr.io/deeplearning-platform-release/r-cpu.4-0:m71"
  },
  "kernelspec": {
   "display_name": "R",
   "language": "R",
   "name": "ir"
  },
  "language_info": {
   "codemirror_mode": "r",
   "file_extension": ".r",
   "mimetype": "text/x-r-source",
   "name": "R",
   "pygments_lexer": "r",
   "version": "3.6.2"
  },
  "toc": {
   "base_numbering": 1,
   "nav_menu": {},
   "number_sections": true,
   "sideBar": true,
   "skip_h1_title": false,
   "title_cell": "Table of Contents",
   "title_sidebar": "Contents",
   "toc_cell": false,
   "toc_position": {},
   "toc_section_display": true,
   "toc_window_display": false
  },
  "varInspector": {
   "cols": {
    "lenName": 16,
    "lenType": 16,
    "lenVar": 40
   },
   "kernels_config": {
    "python": {
     "delete_cmd_postfix": "",
     "delete_cmd_prefix": "del ",
     "library": "var_list.py",
     "varRefreshCmd": "print(var_dic_list())"
    },
    "r": {
     "delete_cmd_postfix": ") ",
     "delete_cmd_prefix": "rm(",
     "library": "var_list.r",
     "varRefreshCmd": "cat(var_dic_list()) "
    }
   },
   "types_to_exclude": [
    "module",
    "function",
    "builtin_function_or_method",
    "instance",
    "_Feature"
   ],
   "window_display": false
  }
 },
 "nbformat": 4,
 "nbformat_minor": 4
}
