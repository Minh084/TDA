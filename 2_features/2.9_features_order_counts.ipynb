{
 "cells": [
  {
   "cell_type": "markdown",
   "metadata": {},
   "source": [
    "### Description:\n",
    "- Read in the decile-binned values of labs and vitals `2_8_binned_labs_vitals`\n",
    "- Read in the data `order_code_counts` from sql order counts, combine Microbiology Culture with Microbiology \n",
    "- Combine this featurized data for full complex data modeling\n",
    "- Create a smaller random sample for testing \n",
    "\n",
    "Inputs: \n",
    "- `2_8_binned_labs_vitals`: from feature_values --> binned into deciles, which were formed using the training set (2015 - 2017)\n",
    "- `order_code_counts`: from SQL querried counts for different orders\n",
    "\n",
    "Outputs:\n",
    "- `2_9_feature_counts`: both "
   ]
  },
  {
   "cell_type": "code",
   "execution_count": 1,
   "metadata": {},
   "outputs": [
    {
     "name": "stderr",
     "output_type": "stream",
     "text": [
      "── \u001b[1mAttaching packages\u001b[22m ─────────────────────────────────────── tidyverse 1.3.1 ──\n",
      "\n",
      "\u001b[32m✔\u001b[39m \u001b[34mggplot2\u001b[39m 3.3.3     \u001b[32m✔\u001b[39m \u001b[34mpurrr  \u001b[39m 0.3.4\n",
      "\u001b[32m✔\u001b[39m \u001b[34mtibble \u001b[39m 3.1.2     \u001b[32m✔\u001b[39m \u001b[34mdplyr  \u001b[39m 1.0.6\n",
      "\u001b[32m✔\u001b[39m \u001b[34mtidyr  \u001b[39m 1.1.3     \u001b[32m✔\u001b[39m \u001b[34mstringr\u001b[39m 1.4.0\n",
      "\u001b[32m✔\u001b[39m \u001b[34mreadr  \u001b[39m 1.4.0     \u001b[32m✔\u001b[39m \u001b[34mforcats\u001b[39m 0.5.1\n",
      "\n",
      "── \u001b[1mConflicts\u001b[22m ────────────────────────────────────────── tidyverse_conflicts() ──\n",
      "\u001b[31m✖\u001b[39m \u001b[34mdplyr\u001b[39m::\u001b[32mbetween()\u001b[39m   masks \u001b[34mdata.table\u001b[39m::between()\n",
      "\u001b[31m✖\u001b[39m \u001b[34mdplyr\u001b[39m::\u001b[32mfilter()\u001b[39m    masks \u001b[34mstats\u001b[39m::filter()\n",
      "\u001b[31m✖\u001b[39m \u001b[34mdplyr\u001b[39m::\u001b[32mfirst()\u001b[39m     masks \u001b[34mdata.table\u001b[39m::first()\n",
      "\u001b[31m✖\u001b[39m \u001b[34mdplyr\u001b[39m::\u001b[32mlag()\u001b[39m       masks \u001b[34mstats\u001b[39m::lag()\n",
      "\u001b[31m✖\u001b[39m \u001b[34mdplyr\u001b[39m::\u001b[32mlast()\u001b[39m      masks \u001b[34mdata.table\u001b[39m::last()\n",
      "\u001b[31m✖\u001b[39m \u001b[34mpurrr\u001b[39m::\u001b[32mtranspose()\u001b[39m masks \u001b[34mdata.table\u001b[39m::transpose()\n",
      "\n",
      "\n",
      "Attaching package: ‘lubridate’\n",
      "\n",
      "\n",
      "The following objects are masked from ‘package:data.table’:\n",
      "\n",
      "    hour, isoweek, mday, minute, month, quarter, second, wday, week,\n",
      "    yday, year\n",
      "\n",
      "\n",
      "The following objects are masked from ‘package:base’:\n",
      "\n",
      "    date, intersect, setdiff, union\n",
      "\n",
      "\n"
     ]
    }
   ],
   "source": [
    "library(data.table)\n",
    "library(tidyverse)\n",
    "library(lubridate)\n",
    "# library(Matrix)\n",
    "# library(slam)\n",
    "# library(bit64)\n",
    "# library(mtools) for one hot coder, not available on Nero or use caret or tidyr\n",
    "options(repr.matrix.max.rows=200, repr.matrix.max.cols=30)"
   ]
  },
  {
   "cell_type": "code",
   "execution_count": 1,
   "metadata": {},
   "outputs": [
    {
     "name": "stderr",
     "output_type": "stream",
     "text": [
      "Installing packages into ‘/home/jupyter/.R/library’\n",
      "(as ‘lib’ is unspecified)\n",
      "\n",
      "also installing the dependency ‘plogr’\n",
      "\n",
      "\n"
     ]
    }
   ],
   "source": [
    "# install.packages(c(\"dbplyr\", \"RSQLite\"))"
   ]
  },
  {
   "cell_type": "code",
   "execution_count": 2,
   "metadata": {},
   "outputs": [],
   "source": [
    "datadir = \"../../DataTD\"\n",
    "cohortdir = \"../../OutputTD/1_cohort\"\n",
    "featuredir = \"../../OutputTD/2_features\""
   ]
  },
  {
   "cell_type": "code",
   "execution_count": 3,
   "metadata": {},
   "outputs": [
    {
     "data": {
      "text/html": [
       "41366"
      ],
      "text/latex": [
       "41366"
      ],
      "text/markdown": [
       "41366"
      ],
      "text/plain": [
       "[1] 41366"
      ]
     },
     "metadata": {},
     "output_type": "display_data"
    }
   ],
   "source": [
    "cohort <- read.csv(file.path(cohortdir,  '1_5_cohort_final.csv'))\n",
    "nrow(cohort)"
   ]
  },
  {
   "cell_type": "code",
   "execution_count": 19,
   "metadata": {},
   "outputs": [
    {
     "data": {
      "text/html": [
       "5730678"
      ],
      "text/latex": [
       "5730678"
      ],
      "text/markdown": [
       "5730678"
      ],
      "text/plain": [
       "[1] 5730678"
      ]
     },
     "metadata": {},
     "output_type": "display_data"
    }
   ],
   "source": [
    "orders <- read.csv(file.path(datadir, 'order_code_counts.csv'))\n",
    "nrow(orders)"
   ]
  },
  {
   "cell_type": "code",
   "execution_count": 5,
   "metadata": {},
   "outputs": [
    {
     "data": {
      "text/html": [
       "<table class=\"dataframe\">\n",
       "<caption>A data.frame: 6 × 6</caption>\n",
       "<thead>\n",
       "\t<tr><th></th><th scope=col>anon_id</th><th scope=col>pat_enc_csn_id_coded</th><th scope=col>admit_time</th><th scope=col>feature_type</th><th scope=col>features</th><th scope=col>values</th></tr>\n",
       "\t<tr><th></th><th scope=col>&lt;chr&gt;</th><th scope=col>&lt;dbl&gt;</th><th scope=col>&lt;chr&gt;</th><th scope=col>&lt;chr&gt;</th><th scope=col>&lt;chr&gt;</th><th scope=col>&lt;int&gt;</th></tr>\n",
       "</thead>\n",
       "<tbody>\n",
       "\t<tr><th scope=row>1</th><td>JCe78a06</td><td>131062667066</td><td>2015-01-02 01:01:00+00:00</td><td>Diagnosis</td><td>I95.9                  </td><td>1</td></tr>\n",
       "\t<tr><th scope=row>2</th><td>JCe78a06</td><td>131062667066</td><td>2015-01-02 01:01:00+00:00</td><td>Diagnosis</td><td>F41.1                  </td><td>1</td></tr>\n",
       "\t<tr><th scope=row>3</th><td>JCe78a06</td><td>131062667066</td><td>2015-01-02 01:01:00+00:00</td><td>Diagnosis</td><td>I12.9                  </td><td>1</td></tr>\n",
       "\t<tr><th scope=row>4</th><td>JCe78a06</td><td>131062667066</td><td>2015-01-02 01:01:00+00:00</td><td>Diagnosis</td><td>I99.8                  </td><td>1</td></tr>\n",
       "\t<tr><th scope=row>5</th><td>JCe78a06</td><td>131062667066</td><td>2015-01-02 01:01:00+00:00</td><td>Lab      </td><td>MAGNESIUM, SERUM/PLASMA</td><td>1</td></tr>\n",
       "\t<tr><th scope=row>6</th><td>JCe78a06</td><td>131062667066</td><td>2015-01-02 01:01:00+00:00</td><td>Diagnosis</td><td>T45.515A               </td><td>1</td></tr>\n",
       "</tbody>\n",
       "</table>\n"
      ],
      "text/latex": [
       "A data.frame: 6 × 6\n",
       "\\begin{tabular}{r|llllll}\n",
       "  & anon\\_id & pat\\_enc\\_csn\\_id\\_coded & admit\\_time & feature\\_type & features & values\\\\\n",
       "  & <chr> & <dbl> & <chr> & <chr> & <chr> & <int>\\\\\n",
       "\\hline\n",
       "\t1 & JCe78a06 & 131062667066 & 2015-01-02 01:01:00+00:00 & Diagnosis & I95.9                   & 1\\\\\n",
       "\t2 & JCe78a06 & 131062667066 & 2015-01-02 01:01:00+00:00 & Diagnosis & F41.1                   & 1\\\\\n",
       "\t3 & JCe78a06 & 131062667066 & 2015-01-02 01:01:00+00:00 & Diagnosis & I12.9                   & 1\\\\\n",
       "\t4 & JCe78a06 & 131062667066 & 2015-01-02 01:01:00+00:00 & Diagnosis & I99.8                   & 1\\\\\n",
       "\t5 & JCe78a06 & 131062667066 & 2015-01-02 01:01:00+00:00 & Lab       & MAGNESIUM, SERUM/PLASMA & 1\\\\\n",
       "\t6 & JCe78a06 & 131062667066 & 2015-01-02 01:01:00+00:00 & Diagnosis & T45.515A                & 1\\\\\n",
       "\\end{tabular}\n"
      ],
      "text/markdown": [
       "\n",
       "A data.frame: 6 × 6\n",
       "\n",
       "| <!--/--> | anon_id &lt;chr&gt; | pat_enc_csn_id_coded &lt;dbl&gt; | admit_time &lt;chr&gt; | feature_type &lt;chr&gt; | features &lt;chr&gt; | values &lt;int&gt; |\n",
       "|---|---|---|---|---|---|---|\n",
       "| 1 | JCe78a06 | 131062667066 | 2015-01-02 01:01:00+00:00 | Diagnosis | I95.9                   | 1 |\n",
       "| 2 | JCe78a06 | 131062667066 | 2015-01-02 01:01:00+00:00 | Diagnosis | F41.1                   | 1 |\n",
       "| 3 | JCe78a06 | 131062667066 | 2015-01-02 01:01:00+00:00 | Diagnosis | I12.9                   | 1 |\n",
       "| 4 | JCe78a06 | 131062667066 | 2015-01-02 01:01:00+00:00 | Diagnosis | I99.8                   | 1 |\n",
       "| 5 | JCe78a06 | 131062667066 | 2015-01-02 01:01:00+00:00 | Lab       | MAGNESIUM, SERUM/PLASMA | 1 |\n",
       "| 6 | JCe78a06 | 131062667066 | 2015-01-02 01:01:00+00:00 | Diagnosis | T45.515A                | 1 |\n",
       "\n"
      ],
      "text/plain": [
       "  anon_id  pat_enc_csn_id_coded admit_time                feature_type\n",
       "1 JCe78a06 131062667066         2015-01-02 01:01:00+00:00 Diagnosis   \n",
       "2 JCe78a06 131062667066         2015-01-02 01:01:00+00:00 Diagnosis   \n",
       "3 JCe78a06 131062667066         2015-01-02 01:01:00+00:00 Diagnosis   \n",
       "4 JCe78a06 131062667066         2015-01-02 01:01:00+00:00 Diagnosis   \n",
       "5 JCe78a06 131062667066         2015-01-02 01:01:00+00:00 Lab         \n",
       "6 JCe78a06 131062667066         2015-01-02 01:01:00+00:00 Diagnosis   \n",
       "  features                values\n",
       "1 I95.9                   1     \n",
       "2 F41.1                   1     \n",
       "3 I12.9                   1     \n",
       "4 I99.8                   1     \n",
       "5 MAGNESIUM, SERUM/PLASMA 1     \n",
       "6 T45.515A                1     "
      ]
     },
     "metadata": {},
     "output_type": "display_data"
    }
   ],
   "source": [
    "head(orders)"
   ]
  },
  {
   "cell_type": "code",
   "execution_count": 16,
   "metadata": {},
   "outputs": [
    {
     "data": {
      "text/html": [
       "<table class=\"dataframe\">\n",
       "<caption>A grouped_df: 7 × 2</caption>\n",
       "<thead>\n",
       "\t<tr><th scope=col>feature_type</th><th scope=col>n</th></tr>\n",
       "\t<tr><th scope=col>&lt;chr&gt;</th><th scope=col>&lt;int&gt;</th></tr>\n",
       "</thead>\n",
       "<tbody>\n",
       "\t<tr><td>Diagnosis           </td><td>2680945</td></tr>\n",
       "\t<tr><td>Meds                </td><td>1747295</td></tr>\n",
       "\t<tr><td>Lab                 </td><td> 932873</td></tr>\n",
       "\t<tr><td>Imaging             </td><td> 282646</td></tr>\n",
       "\t<tr><td>Procedures          </td><td>  48863</td></tr>\n",
       "\t<tr><td>Microbiology Culture</td><td>  36447</td></tr>\n",
       "\t<tr><td>Microbiology        </td><td>   1609</td></tr>\n",
       "</tbody>\n",
       "</table>\n"
      ],
      "text/latex": [
       "A grouped\\_df: 7 × 2\n",
       "\\begin{tabular}{ll}\n",
       " feature\\_type & n\\\\\n",
       " <chr> & <int>\\\\\n",
       "\\hline\n",
       "\t Diagnosis            & 2680945\\\\\n",
       "\t Meds                 & 1747295\\\\\n",
       "\t Lab                  &  932873\\\\\n",
       "\t Imaging              &  282646\\\\\n",
       "\t Procedures           &   48863\\\\\n",
       "\t Microbiology Culture &   36447\\\\\n",
       "\t Microbiology         &    1609\\\\\n",
       "\\end{tabular}\n"
      ],
      "text/markdown": [
       "\n",
       "A grouped_df: 7 × 2\n",
       "\n",
       "| feature_type &lt;chr&gt; | n &lt;int&gt; |\n",
       "|---|---|\n",
       "| Diagnosis            | 2680945 |\n",
       "| Meds                 | 1747295 |\n",
       "| Lab                  |  932873 |\n",
       "| Imaging              |  282646 |\n",
       "| Procedures           |   48863 |\n",
       "| Microbiology Culture |   36447 |\n",
       "| Microbiology         |    1609 |\n",
       "\n"
      ],
      "text/plain": [
       "  feature_type         n      \n",
       "1 Diagnosis            2680945\n",
       "2 Meds                 1747295\n",
       "3 Lab                   932873\n",
       "4 Imaging               282646\n",
       "5 Procedures             48863\n",
       "6 Microbiology Culture   36447\n",
       "7 Microbiology            1609"
      ]
     },
     "metadata": {},
     "output_type": "display_data"
    }
   ],
   "source": [
    "orders %>% group_by(feature_type) %>% count(sort=TRUE)"
   ]
  },
  {
   "cell_type": "code",
   "execution_count": 20,
   "metadata": {},
   "outputs": [
    {
     "data": {
      "text/html": [
       "<table class=\"dataframe\">\n",
       "<caption>A grouped_df: 6 × 2</caption>\n",
       "<thead>\n",
       "\t<tr><th scope=col>feature_type</th><th scope=col>n</th></tr>\n",
       "\t<tr><th scope=col>&lt;chr&gt;</th><th scope=col>&lt;int&gt;</th></tr>\n",
       "</thead>\n",
       "<tbody>\n",
       "\t<tr><td>Diagnosis   </td><td>2680945</td></tr>\n",
       "\t<tr><td>Meds        </td><td>1747295</td></tr>\n",
       "\t<tr><td>Lab         </td><td> 932873</td></tr>\n",
       "\t<tr><td>Imaging     </td><td> 282646</td></tr>\n",
       "\t<tr><td>Procedures  </td><td>  48863</td></tr>\n",
       "\t<tr><td>Microbiology</td><td>  38056</td></tr>\n",
       "</tbody>\n",
       "</table>\n"
      ],
      "text/latex": [
       "A grouped\\_df: 6 × 2\n",
       "\\begin{tabular}{ll}\n",
       " feature\\_type & n\\\\\n",
       " <chr> & <int>\\\\\n",
       "\\hline\n",
       "\t Diagnosis    & 2680945\\\\\n",
       "\t Meds         & 1747295\\\\\n",
       "\t Lab          &  932873\\\\\n",
       "\t Imaging      &  282646\\\\\n",
       "\t Procedures   &   48863\\\\\n",
       "\t Microbiology &   38056\\\\\n",
       "\\end{tabular}\n"
      ],
      "text/markdown": [
       "\n",
       "A grouped_df: 6 × 2\n",
       "\n",
       "| feature_type &lt;chr&gt; | n &lt;int&gt; |\n",
       "|---|---|\n",
       "| Diagnosis    | 2680945 |\n",
       "| Meds         | 1747295 |\n",
       "| Lab          |  932873 |\n",
       "| Imaging      |  282646 |\n",
       "| Procedures   |   48863 |\n",
       "| Microbiology |   38056 |\n",
       "\n"
      ],
      "text/plain": [
       "  feature_type n      \n",
       "1 Diagnosis    2680945\n",
       "2 Meds         1747295\n",
       "3 Lab           932873\n",
       "4 Imaging       282646\n",
       "5 Procedures     48863\n",
       "6 Microbiology   38056"
      ]
     },
     "metadata": {},
     "output_type": "display_data"
    }
   ],
   "source": [
    "orders_micro <- orders %>% mutate(feature_type = ifelse(str_detect(feature_type, \"Microbiology\"), \"Microbiology\", feature_type))\n",
    "orders_micro %>% group_by(feature_type) %>% count(sort=TRUE)"
   ]
  },
  {
   "cell_type": "code",
   "execution_count": 21,
   "metadata": {},
   "outputs": [
    {
     "data": {
      "text/html": [
       "41366"
      ],
      "text/latex": [
       "41366"
      ],
      "text/markdown": [
       "41366"
      ],
      "text/plain": [
       "[1] 41366"
      ]
     },
     "metadata": {},
     "output_type": "display_data"
    }
   ],
   "source": [
    "length(unique(orders_micro$pat_enc_csn_id_coded))"
   ]
  },
  {
   "cell_type": "markdown",
   "metadata": {},
   "source": [
    "### Check the featurized binned labs_vitals and combine all "
   ]
  },
  {
   "cell_type": "code",
   "execution_count": 22,
   "metadata": {},
   "outputs": [
    {
     "data": {
      "text/html": [
       "1825075"
      ],
      "text/latex": [
       "1825075"
      ],
      "text/markdown": [
       "1825075"
      ],
      "text/plain": [
       "[1] 1825075"
      ]
     },
     "metadata": {},
     "output_type": "display_data"
    },
    {
     "data": {
      "text/html": [
       "41366"
      ],
      "text/latex": [
       "41366"
      ],
      "text/markdown": [
       "41366"
      ],
      "text/plain": [
       "[1] 41366"
      ]
     },
     "metadata": {},
     "output_type": "display_data"
    }
   ],
   "source": [
    "binned_labs_vitals <- read.csv(file.path(featuredir, '2_8_binned_labs_vitals.csv'))\n",
    "nrow(binned_labs_vitals)\n",
    "length(unique(binned_labs_vitals$pat_enc_csn_id_coded))"
   ]
  },
  {
   "cell_type": "code",
   "execution_count": 23,
   "metadata": {},
   "outputs": [
    {
     "data": {
      "text/html": [
       "<table class=\"dataframe\">\n",
       "<caption>A data.frame: 6 × 6</caption>\n",
       "<thead>\n",
       "\t<tr><th></th><th scope=col>anon_id</th><th scope=col>pat_enc_csn_id_coded</th><th scope=col>admit_time</th><th scope=col>feature_type</th><th scope=col>features</th><th scope=col>values</th></tr>\n",
       "\t<tr><th></th><th scope=col>&lt;chr&gt;</th><th scope=col>&lt;dbl&gt;</th><th scope=col>&lt;chr&gt;</th><th scope=col>&lt;chr&gt;</th><th scope=col>&lt;chr&gt;</th><th scope=col>&lt;int&gt;</th></tr>\n",
       "</thead>\n",
       "<tbody>\n",
       "\t<tr><th scope=row>1</th><td>JC29f8ad2</td><td>131274729058</td><td>2019-08-31 12:52:00+00:00</td><td>labs_results_train</td><td>ALB_3     </td><td>1</td></tr>\n",
       "\t<tr><th scope=row>2</th><td>JC29f8ad2</td><td>131274729058</td><td>2019-08-31 12:52:00+00:00</td><td>labs_results_train</td><td>ALK_7     </td><td>1</td></tr>\n",
       "\t<tr><th scope=row>3</th><td>JC29f8ad2</td><td>131274729058</td><td>2019-08-31 12:52:00+00:00</td><td>labs_results_train</td><td>ALT_0     </td><td>1</td></tr>\n",
       "\t<tr><th scope=row>4</th><td>JC29f8ad2</td><td>131274729058</td><td>2019-08-31 12:52:00+00:00</td><td>labs_results_train</td><td>AST_1     </td><td>1</td></tr>\n",
       "\t<tr><th scope=row>5</th><td>JC29f8ad2</td><td>131274729058</td><td>2019-08-31 12:52:00+00:00</td><td>labs_results_train</td><td>AnionGap_9</td><td>1</td></tr>\n",
       "\t<tr><th scope=row>6</th><td>JC29f8ad2</td><td>131274729058</td><td>2019-08-31 12:52:00+00:00</td><td>labs_results_train</td><td>BUN_8     </td><td>1</td></tr>\n",
       "</tbody>\n",
       "</table>\n"
      ],
      "text/latex": [
       "A data.frame: 6 × 6\n",
       "\\begin{tabular}{r|llllll}\n",
       "  & anon\\_id & pat\\_enc\\_csn\\_id\\_coded & admit\\_time & feature\\_type & features & values\\\\\n",
       "  & <chr> & <dbl> & <chr> & <chr> & <chr> & <int>\\\\\n",
       "\\hline\n",
       "\t1 & JC29f8ad2 & 131274729058 & 2019-08-31 12:52:00+00:00 & labs\\_results\\_train & ALB\\_3      & 1\\\\\n",
       "\t2 & JC29f8ad2 & 131274729058 & 2019-08-31 12:52:00+00:00 & labs\\_results\\_train & ALK\\_7      & 1\\\\\n",
       "\t3 & JC29f8ad2 & 131274729058 & 2019-08-31 12:52:00+00:00 & labs\\_results\\_train & ALT\\_0      & 1\\\\\n",
       "\t4 & JC29f8ad2 & 131274729058 & 2019-08-31 12:52:00+00:00 & labs\\_results\\_train & AST\\_1      & 1\\\\\n",
       "\t5 & JC29f8ad2 & 131274729058 & 2019-08-31 12:52:00+00:00 & labs\\_results\\_train & AnionGap\\_9 & 1\\\\\n",
       "\t6 & JC29f8ad2 & 131274729058 & 2019-08-31 12:52:00+00:00 & labs\\_results\\_train & BUN\\_8      & 1\\\\\n",
       "\\end{tabular}\n"
      ],
      "text/markdown": [
       "\n",
       "A data.frame: 6 × 6\n",
       "\n",
       "| <!--/--> | anon_id &lt;chr&gt; | pat_enc_csn_id_coded &lt;dbl&gt; | admit_time &lt;chr&gt; | feature_type &lt;chr&gt; | features &lt;chr&gt; | values &lt;int&gt; |\n",
       "|---|---|---|---|---|---|---|\n",
       "| 1 | JC29f8ad2 | 131274729058 | 2019-08-31 12:52:00+00:00 | labs_results_train | ALB_3      | 1 |\n",
       "| 2 | JC29f8ad2 | 131274729058 | 2019-08-31 12:52:00+00:00 | labs_results_train | ALK_7      | 1 |\n",
       "| 3 | JC29f8ad2 | 131274729058 | 2019-08-31 12:52:00+00:00 | labs_results_train | ALT_0      | 1 |\n",
       "| 4 | JC29f8ad2 | 131274729058 | 2019-08-31 12:52:00+00:00 | labs_results_train | AST_1      | 1 |\n",
       "| 5 | JC29f8ad2 | 131274729058 | 2019-08-31 12:52:00+00:00 | labs_results_train | AnionGap_9 | 1 |\n",
       "| 6 | JC29f8ad2 | 131274729058 | 2019-08-31 12:52:00+00:00 | labs_results_train | BUN_8      | 1 |\n",
       "\n"
      ],
      "text/plain": [
       "  anon_id   pat_enc_csn_id_coded admit_time                feature_type      \n",
       "1 JC29f8ad2 131274729058         2019-08-31 12:52:00+00:00 labs_results_train\n",
       "2 JC29f8ad2 131274729058         2019-08-31 12:52:00+00:00 labs_results_train\n",
       "3 JC29f8ad2 131274729058         2019-08-31 12:52:00+00:00 labs_results_train\n",
       "4 JC29f8ad2 131274729058         2019-08-31 12:52:00+00:00 labs_results_train\n",
       "5 JC29f8ad2 131274729058         2019-08-31 12:52:00+00:00 labs_results_train\n",
       "6 JC29f8ad2 131274729058         2019-08-31 12:52:00+00:00 labs_results_train\n",
       "  features   values\n",
       "1 ALB_3      1     \n",
       "2 ALK_7      1     \n",
       "3 ALT_0      1     \n",
       "4 AST_1      1     \n",
       "5 AnionGap_9 1     \n",
       "6 BUN_8      1     "
      ]
     },
     "metadata": {},
     "output_type": "display_data"
    }
   ],
   "source": [
    "head(binned_labs_vitals)"
   ]
  },
  {
   "cell_type": "code",
   "execution_count": 24,
   "metadata": {},
   "outputs": [
    {
     "data": {
      "text/html": [
       "<table class=\"dataframe\">\n",
       "<caption>A grouped_df: 2 × 2</caption>\n",
       "<thead>\n",
       "\t<tr><th scope=col>feature_type</th><th scope=col>n</th></tr>\n",
       "\t<tr><th scope=col>&lt;chr&gt;</th><th scope=col>&lt;int&gt;</th></tr>\n",
       "</thead>\n",
       "<tbody>\n",
       "\t<tr><td>labs_results_train</td><td>1304104</td></tr>\n",
       "\t<tr><td>vitals_train      </td><td> 520971</td></tr>\n",
       "</tbody>\n",
       "</table>\n"
      ],
      "text/latex": [
       "A grouped\\_df: 2 × 2\n",
       "\\begin{tabular}{ll}\n",
       " feature\\_type & n\\\\\n",
       " <chr> & <int>\\\\\n",
       "\\hline\n",
       "\t labs\\_results\\_train & 1304104\\\\\n",
       "\t vitals\\_train       &  520971\\\\\n",
       "\\end{tabular}\n"
      ],
      "text/markdown": [
       "\n",
       "A grouped_df: 2 × 2\n",
       "\n",
       "| feature_type &lt;chr&gt; | n &lt;int&gt; |\n",
       "|---|---|\n",
       "| labs_results_train | 1304104 |\n",
       "| vitals_train       |  520971 |\n",
       "\n"
      ],
      "text/plain": [
       "  feature_type       n      \n",
       "1 labs_results_train 1304104\n",
       "2 vitals_train        520971"
      ]
     },
     "metadata": {},
     "output_type": "display_data"
    }
   ],
   "source": [
    "binned_labs_vitals %>% group_by(feature_type) %>% count()"
   ]
  },
  {
   "cell_type": "code",
   "execution_count": 25,
   "metadata": {},
   "outputs": [
    {
     "data": {
      "text/html": [],
      "text/latex": [],
      "text/markdown": [],
      "text/plain": [
       "numeric(0)"
      ]
     },
     "metadata": {},
     "output_type": "display_data"
    },
    {
     "data": {
      "text/html": [],
      "text/latex": [],
      "text/markdown": [],
      "text/plain": [
       "numeric(0)"
      ]
     },
     "metadata": {},
     "output_type": "display_data"
    }
   ],
   "source": [
    "setdiff(binned_labs_vitals$pat_enc_csn_id_coded, orders_micro$pat_enc_csn_id_coded)\n",
    "setdiff(orders_micro$pat_enc_csn_id_coded, binned_labs_vitals$pat_enc_csn_id_coded)"
   ]
  },
  {
   "cell_type": "code",
   "execution_count": 29,
   "metadata": {},
   "outputs": [
    {
     "data": {
      "text/html": [
       "7555753"
      ],
      "text/latex": [
       "7555753"
      ],
      "text/markdown": [
       "7555753"
      ],
      "text/plain": [
       "[1] 7555753"
      ]
     },
     "metadata": {},
     "output_type": "display_data"
    },
    {
     "data": {
      "text/html": [
       "41366"
      ],
      "text/latex": [
       "41366"
      ],
      "text/markdown": [
       "41366"
      ],
      "text/plain": [
       "[1] 41366"
      ]
     },
     "metadata": {},
     "output_type": "display_data"
    },
    {
     "data": {
      "text/html": [
       "<table class=\"dataframe\">\n",
       "<caption>A grouped_df: 8 × 2</caption>\n",
       "<thead>\n",
       "\t<tr><th scope=col>feature_type</th><th scope=col>n</th></tr>\n",
       "\t<tr><th scope=col>&lt;chr&gt;</th><th scope=col>&lt;int&gt;</th></tr>\n",
       "</thead>\n",
       "<tbody>\n",
       "\t<tr><td>Diagnosis         </td><td>2680945</td></tr>\n",
       "\t<tr><td>Imaging           </td><td> 282646</td></tr>\n",
       "\t<tr><td>Lab               </td><td> 932873</td></tr>\n",
       "\t<tr><td>labs_results_train</td><td>1304104</td></tr>\n",
       "\t<tr><td>Meds              </td><td>1747295</td></tr>\n",
       "\t<tr><td>Microbiology      </td><td>  38056</td></tr>\n",
       "\t<tr><td>Procedures        </td><td>  48863</td></tr>\n",
       "\t<tr><td>vitals_train      </td><td> 520971</td></tr>\n",
       "</tbody>\n",
       "</table>\n"
      ],
      "text/latex": [
       "A grouped\\_df: 8 × 2\n",
       "\\begin{tabular}{ll}\n",
       " feature\\_type & n\\\\\n",
       " <chr> & <int>\\\\\n",
       "\\hline\n",
       "\t Diagnosis          & 2680945\\\\\n",
       "\t Imaging            &  282646\\\\\n",
       "\t Lab                &  932873\\\\\n",
       "\t labs\\_results\\_train & 1304104\\\\\n",
       "\t Meds               & 1747295\\\\\n",
       "\t Microbiology       &   38056\\\\\n",
       "\t Procedures         &   48863\\\\\n",
       "\t vitals\\_train       &  520971\\\\\n",
       "\\end{tabular}\n"
      ],
      "text/markdown": [
       "\n",
       "A grouped_df: 8 × 2\n",
       "\n",
       "| feature_type &lt;chr&gt; | n &lt;int&gt; |\n",
       "|---|---|\n",
       "| Diagnosis          | 2680945 |\n",
       "| Imaging            |  282646 |\n",
       "| Lab                |  932873 |\n",
       "| labs_results_train | 1304104 |\n",
       "| Meds               | 1747295 |\n",
       "| Microbiology       |   38056 |\n",
       "| Procedures         |   48863 |\n",
       "| vitals_train       |  520971 |\n",
       "\n"
      ],
      "text/plain": [
       "  feature_type       n      \n",
       "1 Diagnosis          2680945\n",
       "2 Imaging             282646\n",
       "3 Lab                 932873\n",
       "4 labs_results_train 1304104\n",
       "5 Meds               1747295\n",
       "6 Microbiology         38056\n",
       "7 Procedures           48863\n",
       "8 vitals_train        520971"
      ]
     },
     "metadata": {},
     "output_type": "display_data"
    }
   ],
   "source": [
    "featurized_counts <- bind_rows(binned_labs_vitals, orders_micro)\n",
    "nrow(featurized_counts)\n",
    "length(unique(featurized_counts$pat_enc_csn_id_coded))\n",
    "featurized_counts %>% group_by(feature_type) %>% count()"
   ]
  },
  {
   "cell_type": "code",
   "execution_count": 27,
   "metadata": {},
   "outputs": [
    {
     "data": {
      "text/html": [
       "<table class=\"dataframe\">\n",
       "<caption>A data.frame: 6 × 6</caption>\n",
       "<thead>\n",
       "\t<tr><th></th><th scope=col>anon_id</th><th scope=col>pat_enc_csn_id_coded</th><th scope=col>admit_time</th><th scope=col>feature_type</th><th scope=col>features</th><th scope=col>values</th></tr>\n",
       "\t<tr><th></th><th scope=col>&lt;chr&gt;</th><th scope=col>&lt;dbl&gt;</th><th scope=col>&lt;chr&gt;</th><th scope=col>&lt;chr&gt;</th><th scope=col>&lt;chr&gt;</th><th scope=col>&lt;int&gt;</th></tr>\n",
       "</thead>\n",
       "<tbody>\n",
       "\t<tr><th scope=row>1</th><td>JC29f8ad2</td><td>131274729058</td><td>2019-08-31 12:52:00+00:00</td><td>labs_results_train</td><td>ALB_3     </td><td>1</td></tr>\n",
       "\t<tr><th scope=row>2</th><td>JC29f8ad2</td><td>131274729058</td><td>2019-08-31 12:52:00+00:00</td><td>labs_results_train</td><td>ALK_7     </td><td>1</td></tr>\n",
       "\t<tr><th scope=row>3</th><td>JC29f8ad2</td><td>131274729058</td><td>2019-08-31 12:52:00+00:00</td><td>labs_results_train</td><td>ALT_0     </td><td>1</td></tr>\n",
       "\t<tr><th scope=row>4</th><td>JC29f8ad2</td><td>131274729058</td><td>2019-08-31 12:52:00+00:00</td><td>labs_results_train</td><td>AST_1     </td><td>1</td></tr>\n",
       "\t<tr><th scope=row>5</th><td>JC29f8ad2</td><td>131274729058</td><td>2019-08-31 12:52:00+00:00</td><td>labs_results_train</td><td>AnionGap_9</td><td>1</td></tr>\n",
       "\t<tr><th scope=row>6</th><td>JC29f8ad2</td><td>131274729058</td><td>2019-08-31 12:52:00+00:00</td><td>labs_results_train</td><td>BUN_8     </td><td>1</td></tr>\n",
       "</tbody>\n",
       "</table>\n"
      ],
      "text/latex": [
       "A data.frame: 6 × 6\n",
       "\\begin{tabular}{r|llllll}\n",
       "  & anon\\_id & pat\\_enc\\_csn\\_id\\_coded & admit\\_time & feature\\_type & features & values\\\\\n",
       "  & <chr> & <dbl> & <chr> & <chr> & <chr> & <int>\\\\\n",
       "\\hline\n",
       "\t1 & JC29f8ad2 & 131274729058 & 2019-08-31 12:52:00+00:00 & labs\\_results\\_train & ALB\\_3      & 1\\\\\n",
       "\t2 & JC29f8ad2 & 131274729058 & 2019-08-31 12:52:00+00:00 & labs\\_results\\_train & ALK\\_7      & 1\\\\\n",
       "\t3 & JC29f8ad2 & 131274729058 & 2019-08-31 12:52:00+00:00 & labs\\_results\\_train & ALT\\_0      & 1\\\\\n",
       "\t4 & JC29f8ad2 & 131274729058 & 2019-08-31 12:52:00+00:00 & labs\\_results\\_train & AST\\_1      & 1\\\\\n",
       "\t5 & JC29f8ad2 & 131274729058 & 2019-08-31 12:52:00+00:00 & labs\\_results\\_train & AnionGap\\_9 & 1\\\\\n",
       "\t6 & JC29f8ad2 & 131274729058 & 2019-08-31 12:52:00+00:00 & labs\\_results\\_train & BUN\\_8      & 1\\\\\n",
       "\\end{tabular}\n"
      ],
      "text/markdown": [
       "\n",
       "A data.frame: 6 × 6\n",
       "\n",
       "| <!--/--> | anon_id &lt;chr&gt; | pat_enc_csn_id_coded &lt;dbl&gt; | admit_time &lt;chr&gt; | feature_type &lt;chr&gt; | features &lt;chr&gt; | values &lt;int&gt; |\n",
       "|---|---|---|---|---|---|---|\n",
       "| 1 | JC29f8ad2 | 131274729058 | 2019-08-31 12:52:00+00:00 | labs_results_train | ALB_3      | 1 |\n",
       "| 2 | JC29f8ad2 | 131274729058 | 2019-08-31 12:52:00+00:00 | labs_results_train | ALK_7      | 1 |\n",
       "| 3 | JC29f8ad2 | 131274729058 | 2019-08-31 12:52:00+00:00 | labs_results_train | ALT_0      | 1 |\n",
       "| 4 | JC29f8ad2 | 131274729058 | 2019-08-31 12:52:00+00:00 | labs_results_train | AST_1      | 1 |\n",
       "| 5 | JC29f8ad2 | 131274729058 | 2019-08-31 12:52:00+00:00 | labs_results_train | AnionGap_9 | 1 |\n",
       "| 6 | JC29f8ad2 | 131274729058 | 2019-08-31 12:52:00+00:00 | labs_results_train | BUN_8      | 1 |\n",
       "\n"
      ],
      "text/plain": [
       "  anon_id   pat_enc_csn_id_coded admit_time                feature_type      \n",
       "1 JC29f8ad2 131274729058         2019-08-31 12:52:00+00:00 labs_results_train\n",
       "2 JC29f8ad2 131274729058         2019-08-31 12:52:00+00:00 labs_results_train\n",
       "3 JC29f8ad2 131274729058         2019-08-31 12:52:00+00:00 labs_results_train\n",
       "4 JC29f8ad2 131274729058         2019-08-31 12:52:00+00:00 labs_results_train\n",
       "5 JC29f8ad2 131274729058         2019-08-31 12:52:00+00:00 labs_results_train\n",
       "6 JC29f8ad2 131274729058         2019-08-31 12:52:00+00:00 labs_results_train\n",
       "  features   values\n",
       "1 ALB_3      1     \n",
       "2 ALK_7      1     \n",
       "3 ALT_0      1     \n",
       "4 AST_1      1     \n",
       "5 AnionGap_9 1     \n",
       "6 BUN_8      1     "
      ]
     },
     "metadata": {},
     "output_type": "display_data"
    }
   ],
   "source": [
    "head(featurized_counts)"
   ]
  },
  {
   "cell_type": "code",
   "execution_count": 30,
   "metadata": {},
   "outputs": [],
   "source": [
    "write.csv(featurized_counts, file = file.path(featuredir, \"2_9_feature_counts.csv\"), row.names=FALSE) "
   ]
  }
 ],
 "metadata": {
  "environment": {
   "name": "r-cpu.4-0.m71",
   "type": "gcloud",
   "uri": "gcr.io/deeplearning-platform-release/r-cpu.4-0:m71"
  },
  "kernelspec": {
   "display_name": "R",
   "language": "R",
   "name": "ir"
  },
  "language_info": {
   "codemirror_mode": "r",
   "file_extension": ".r",
   "mimetype": "text/x-r-source",
   "name": "R",
   "pygments_lexer": "r",
   "version": "4.0.3"
  }
 },
 "nbformat": 4,
 "nbformat_minor": 5
}
