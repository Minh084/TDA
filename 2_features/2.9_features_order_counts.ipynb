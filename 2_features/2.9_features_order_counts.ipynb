{
 "cells": [
  {
   "cell_type": "markdown",
   "metadata": {},
   "source": [
    "### Description:\n",
    "- Read in the decile-binned values of labs and vitals `2_8_binned_labs_vitals`\n",
    "- Read in the data `order_code_counts` from sql order counts, combine Microbiology Culture with Microbiology \n",
    "- Combine this featurized data for full complex data modeling\n",
    "- Create a smaller random sample for testing \n",
    "\n",
    "Inputs: \n",
    "- `2_8_binned_labs_vitals`: from feature_values --> binned into deciles, which were formed using the training set (2015 - 2017)\n",
    "- `order_code_counts`: from SQL querried counts for different orders\n",
    "\n",
    "Outputs:\n",
    "- `2_9_features_all_long`: have demo, vitals and labs in binned counts, and order counts, long format"
   ]
  },
  {
   "cell_type": "code",
   "execution_count": 1,
   "metadata": {},
   "outputs": [
    {
     "name": "stderr",
     "output_type": "stream",
     "text": [
      "── \u001b[1mAttaching packages\u001b[22m ─────────────────────────────────────── tidyverse 1.3.1 ──\n",
      "\n",
      "\u001b[32m✔\u001b[39m \u001b[34mggplot2\u001b[39m 3.3.3     \u001b[32m✔\u001b[39m \u001b[34mpurrr  \u001b[39m 0.3.4\n",
      "\u001b[32m✔\u001b[39m \u001b[34mtibble \u001b[39m 3.1.2     \u001b[32m✔\u001b[39m \u001b[34mdplyr  \u001b[39m 1.0.6\n",
      "\u001b[32m✔\u001b[39m \u001b[34mtidyr  \u001b[39m 1.1.3     \u001b[32m✔\u001b[39m \u001b[34mstringr\u001b[39m 1.4.0\n",
      "\u001b[32m✔\u001b[39m \u001b[34mreadr  \u001b[39m 1.4.0     \u001b[32m✔\u001b[39m \u001b[34mforcats\u001b[39m 0.5.1\n",
      "\n",
      "── \u001b[1mConflicts\u001b[22m ────────────────────────────────────────── tidyverse_conflicts() ──\n",
      "\u001b[31m✖\u001b[39m \u001b[34mdplyr\u001b[39m::\u001b[32mbetween()\u001b[39m   masks \u001b[34mdata.table\u001b[39m::between()\n",
      "\u001b[31m✖\u001b[39m \u001b[34mdplyr\u001b[39m::\u001b[32mfilter()\u001b[39m    masks \u001b[34mstats\u001b[39m::filter()\n",
      "\u001b[31m✖\u001b[39m \u001b[34mdplyr\u001b[39m::\u001b[32mfirst()\u001b[39m     masks \u001b[34mdata.table\u001b[39m::first()\n",
      "\u001b[31m✖\u001b[39m \u001b[34mdplyr\u001b[39m::\u001b[32mlag()\u001b[39m       masks \u001b[34mstats\u001b[39m::lag()\n",
      "\u001b[31m✖\u001b[39m \u001b[34mdplyr\u001b[39m::\u001b[32mlast()\u001b[39m      masks \u001b[34mdata.table\u001b[39m::last()\n",
      "\u001b[31m✖\u001b[39m \u001b[34mpurrr\u001b[39m::\u001b[32mtranspose()\u001b[39m masks \u001b[34mdata.table\u001b[39m::transpose()\n",
      "\n",
      "\n",
      "Attaching package: ‘lubridate’\n",
      "\n",
      "\n",
      "The following objects are masked from ‘package:data.table’:\n",
      "\n",
      "    hour, isoweek, mday, minute, month, quarter, second, wday, week,\n",
      "    yday, year\n",
      "\n",
      "\n",
      "The following objects are masked from ‘package:base’:\n",
      "\n",
      "    date, intersect, setdiff, union\n",
      "\n",
      "\n"
     ]
    }
   ],
   "source": [
    "library(data.table)\n",
    "library(tidyverse)\n",
    "library(lubridate)\n",
    "# library(Matrix)\n",
    "# library(slam)\n",
    "# library(bit64)\n",
    "# library(mtools) for one hot coder, not available on Nero or use caret or tidyr\n",
    "options(repr.matrix.max.rows=200, repr.matrix.max.cols=30)"
   ]
  },
  {
   "cell_type": "code",
   "execution_count": 1,
   "metadata": {},
   "outputs": [
    {
     "name": "stderr",
     "output_type": "stream",
     "text": [
      "Installing packages into ‘/home/jupyter/.R/library’\n",
      "(as ‘lib’ is unspecified)\n",
      "\n",
      "also installing the dependency ‘plogr’\n",
      "\n",
      "\n"
     ]
    }
   ],
   "source": [
    "# install.packages(c(\"dbplyr\", \"RSQLite\"))"
   ]
  },
  {
   "cell_type": "code",
   "execution_count": 2,
   "metadata": {},
   "outputs": [],
   "source": [
    "datadir = \"../../DataTD\"\n",
    "cohortdir = \"../../OutputTD/1_cohort\"\n",
    "featuredir = \"../../OutputTD/2_features\""
   ]
  },
  {
   "cell_type": "code",
   "execution_count": 58,
   "metadata": {},
   "outputs": [
    {
     "data": {
      "text/html": [
       "41366"
      ],
      "text/latex": [
       "41366"
      ],
      "text/markdown": [
       "41366"
      ],
      "text/plain": [
       "[1] 41366"
      ]
     },
     "metadata": {},
     "output_type": "display_data"
    },
    {
     "data": {
      "text/html": [
       "20762"
      ],
      "text/latex": [
       "20762"
      ],
      "text/markdown": [
       "20762"
      ],
      "text/plain": [
       "[1] 20762"
      ]
     },
     "metadata": {},
     "output_type": "display_data"
    },
    {
     "data": {
      "text/html": [
       "8929"
      ],
      "text/latex": [
       "8929"
      ],
      "text/markdown": [
       "8929"
      ],
      "text/plain": [
       "[1] 8929"
      ]
     },
     "metadata": {},
     "output_type": "display_data"
    },
    {
     "data": {
      "text/html": [
       "11675"
      ],
      "text/latex": [
       "11675"
      ],
      "text/markdown": [
       "11675"
      ],
      "text/plain": [
       "[1] 11675"
      ]
     },
     "metadata": {},
     "output_type": "display_data"
    }
   ],
   "source": [
    "cohort <- read.csv(file.path(cohortdir,  '1_5_cohort_final.csv'))\n",
    "nrow(cohort)\n",
    "\n",
    "nrow(cohort %>% filter(year(admit_time) < 2018)) # 20762\n",
    "nrow(cohort %>% filter(year(admit_time) == 2018)) # 8929\n",
    "nrow(cohort %>% filter(year(admit_time)> 2018)) # 11675"
   ]
  },
  {
   "cell_type": "code",
   "execution_count": 3,
   "metadata": {},
   "outputs": [
    {
     "data": {
      "text/html": [
       "5730678"
      ],
      "text/latex": [
       "5730678"
      ],
      "text/markdown": [
       "5730678"
      ],
      "text/plain": [
       "[1] 5730678"
      ]
     },
     "metadata": {},
     "output_type": "display_data"
    }
   ],
   "source": [
    "orders <- read.csv(file.path(datadir, 'order_code_counts.csv'))\n",
    "nrow(orders) #5730678"
   ]
  },
  {
   "cell_type": "code",
   "execution_count": 4,
   "metadata": {},
   "outputs": [
    {
     "data": {
      "text/html": [
       "<table class=\"dataframe\">\n",
       "<caption>A data.frame: 6 × 6</caption>\n",
       "<thead>\n",
       "\t<tr><th></th><th scope=col>anon_id</th><th scope=col>pat_enc_csn_id_coded</th><th scope=col>admit_time</th><th scope=col>feature_type</th><th scope=col>features</th><th scope=col>values</th></tr>\n",
       "\t<tr><th></th><th scope=col>&lt;chr&gt;</th><th scope=col>&lt;dbl&gt;</th><th scope=col>&lt;chr&gt;</th><th scope=col>&lt;chr&gt;</th><th scope=col>&lt;chr&gt;</th><th scope=col>&lt;int&gt;</th></tr>\n",
       "</thead>\n",
       "<tbody>\n",
       "\t<tr><th scope=row>1</th><td>JCe78a06</td><td>131062667066</td><td>2015-01-02 01:01:00+00:00</td><td>Diagnosis</td><td>I95.9                  </td><td>1</td></tr>\n",
       "\t<tr><th scope=row>2</th><td>JCe78a06</td><td>131062667066</td><td>2015-01-02 01:01:00+00:00</td><td>Diagnosis</td><td>F41.1                  </td><td>1</td></tr>\n",
       "\t<tr><th scope=row>3</th><td>JCe78a06</td><td>131062667066</td><td>2015-01-02 01:01:00+00:00</td><td>Diagnosis</td><td>I12.9                  </td><td>1</td></tr>\n",
       "\t<tr><th scope=row>4</th><td>JCe78a06</td><td>131062667066</td><td>2015-01-02 01:01:00+00:00</td><td>Diagnosis</td><td>I99.8                  </td><td>1</td></tr>\n",
       "\t<tr><th scope=row>5</th><td>JCe78a06</td><td>131062667066</td><td>2015-01-02 01:01:00+00:00</td><td>Lab      </td><td>MAGNESIUM, SERUM/PLASMA</td><td>1</td></tr>\n",
       "\t<tr><th scope=row>6</th><td>JCe78a06</td><td>131062667066</td><td>2015-01-02 01:01:00+00:00</td><td>Diagnosis</td><td>T45.515A               </td><td>1</td></tr>\n",
       "</tbody>\n",
       "</table>\n"
      ],
      "text/latex": [
       "A data.frame: 6 × 6\n",
       "\\begin{tabular}{r|llllll}\n",
       "  & anon\\_id & pat\\_enc\\_csn\\_id\\_coded & admit\\_time & feature\\_type & features & values\\\\\n",
       "  & <chr> & <dbl> & <chr> & <chr> & <chr> & <int>\\\\\n",
       "\\hline\n",
       "\t1 & JCe78a06 & 131062667066 & 2015-01-02 01:01:00+00:00 & Diagnosis & I95.9                   & 1\\\\\n",
       "\t2 & JCe78a06 & 131062667066 & 2015-01-02 01:01:00+00:00 & Diagnosis & F41.1                   & 1\\\\\n",
       "\t3 & JCe78a06 & 131062667066 & 2015-01-02 01:01:00+00:00 & Diagnosis & I12.9                   & 1\\\\\n",
       "\t4 & JCe78a06 & 131062667066 & 2015-01-02 01:01:00+00:00 & Diagnosis & I99.8                   & 1\\\\\n",
       "\t5 & JCe78a06 & 131062667066 & 2015-01-02 01:01:00+00:00 & Lab       & MAGNESIUM, SERUM/PLASMA & 1\\\\\n",
       "\t6 & JCe78a06 & 131062667066 & 2015-01-02 01:01:00+00:00 & Diagnosis & T45.515A                & 1\\\\\n",
       "\\end{tabular}\n"
      ],
      "text/markdown": [
       "\n",
       "A data.frame: 6 × 6\n",
       "\n",
       "| <!--/--> | anon_id &lt;chr&gt; | pat_enc_csn_id_coded &lt;dbl&gt; | admit_time &lt;chr&gt; | feature_type &lt;chr&gt; | features &lt;chr&gt; | values &lt;int&gt; |\n",
       "|---|---|---|---|---|---|---|\n",
       "| 1 | JCe78a06 | 131062667066 | 2015-01-02 01:01:00+00:00 | Diagnosis | I95.9                   | 1 |\n",
       "| 2 | JCe78a06 | 131062667066 | 2015-01-02 01:01:00+00:00 | Diagnosis | F41.1                   | 1 |\n",
       "| 3 | JCe78a06 | 131062667066 | 2015-01-02 01:01:00+00:00 | Diagnosis | I12.9                   | 1 |\n",
       "| 4 | JCe78a06 | 131062667066 | 2015-01-02 01:01:00+00:00 | Diagnosis | I99.8                   | 1 |\n",
       "| 5 | JCe78a06 | 131062667066 | 2015-01-02 01:01:00+00:00 | Lab       | MAGNESIUM, SERUM/PLASMA | 1 |\n",
       "| 6 | JCe78a06 | 131062667066 | 2015-01-02 01:01:00+00:00 | Diagnosis | T45.515A                | 1 |\n",
       "\n"
      ],
      "text/plain": [
       "  anon_id  pat_enc_csn_id_coded admit_time                feature_type\n",
       "1 JCe78a06 131062667066         2015-01-02 01:01:00+00:00 Diagnosis   \n",
       "2 JCe78a06 131062667066         2015-01-02 01:01:00+00:00 Diagnosis   \n",
       "3 JCe78a06 131062667066         2015-01-02 01:01:00+00:00 Diagnosis   \n",
       "4 JCe78a06 131062667066         2015-01-02 01:01:00+00:00 Diagnosis   \n",
       "5 JCe78a06 131062667066         2015-01-02 01:01:00+00:00 Lab         \n",
       "6 JCe78a06 131062667066         2015-01-02 01:01:00+00:00 Diagnosis   \n",
       "  features                values\n",
       "1 I95.9                   1     \n",
       "2 F41.1                   1     \n",
       "3 I12.9                   1     \n",
       "4 I99.8                   1     \n",
       "5 MAGNESIUM, SERUM/PLASMA 1     \n",
       "6 T45.515A                1     "
      ]
     },
     "metadata": {},
     "output_type": "display_data"
    }
   ],
   "source": [
    "head(orders)"
   ]
  },
  {
   "cell_type": "code",
   "execution_count": 5,
   "metadata": {},
   "outputs": [
    {
     "data": {
      "text/html": [
       "<table class=\"dataframe\">\n",
       "<caption>A grouped_df: 7 × 2</caption>\n",
       "<thead>\n",
       "\t<tr><th scope=col>feature_type</th><th scope=col>n</th></tr>\n",
       "\t<tr><th scope=col>&lt;chr&gt;</th><th scope=col>&lt;int&gt;</th></tr>\n",
       "</thead>\n",
       "<tbody>\n",
       "\t<tr><td>Diagnosis           </td><td>2680945</td></tr>\n",
       "\t<tr><td>Meds                </td><td>1747295</td></tr>\n",
       "\t<tr><td>Lab                 </td><td> 932873</td></tr>\n",
       "\t<tr><td>Imaging             </td><td> 282646</td></tr>\n",
       "\t<tr><td>Procedures          </td><td>  48863</td></tr>\n",
       "\t<tr><td>Microbiology Culture</td><td>  36447</td></tr>\n",
       "\t<tr><td>Microbiology        </td><td>   1609</td></tr>\n",
       "</tbody>\n",
       "</table>\n"
      ],
      "text/latex": [
       "A grouped\\_df: 7 × 2\n",
       "\\begin{tabular}{ll}\n",
       " feature\\_type & n\\\\\n",
       " <chr> & <int>\\\\\n",
       "\\hline\n",
       "\t Diagnosis            & 2680945\\\\\n",
       "\t Meds                 & 1747295\\\\\n",
       "\t Lab                  &  932873\\\\\n",
       "\t Imaging              &  282646\\\\\n",
       "\t Procedures           &   48863\\\\\n",
       "\t Microbiology Culture &   36447\\\\\n",
       "\t Microbiology         &    1609\\\\\n",
       "\\end{tabular}\n"
      ],
      "text/markdown": [
       "\n",
       "A grouped_df: 7 × 2\n",
       "\n",
       "| feature_type &lt;chr&gt; | n &lt;int&gt; |\n",
       "|---|---|\n",
       "| Diagnosis            | 2680945 |\n",
       "| Meds                 | 1747295 |\n",
       "| Lab                  |  932873 |\n",
       "| Imaging              |  282646 |\n",
       "| Procedures           |   48863 |\n",
       "| Microbiology Culture |   36447 |\n",
       "| Microbiology         |    1609 |\n",
       "\n"
      ],
      "text/plain": [
       "  feature_type         n      \n",
       "1 Diagnosis            2680945\n",
       "2 Meds                 1747295\n",
       "3 Lab                   932873\n",
       "4 Imaging               282646\n",
       "5 Procedures             48863\n",
       "6 Microbiology Culture   36447\n",
       "7 Microbiology            1609"
      ]
     },
     "metadata": {},
     "output_type": "display_data"
    }
   ],
   "source": [
    "orders %>% group_by(feature_type) %>% count(sort=TRUE)"
   ]
  },
  {
   "cell_type": "code",
   "execution_count": 6,
   "metadata": {},
   "outputs": [
    {
     "data": {
      "text/html": [
       "<table class=\"dataframe\">\n",
       "<caption>A grouped_df: 6 × 2</caption>\n",
       "<thead>\n",
       "\t<tr><th scope=col>feature_type</th><th scope=col>n</th></tr>\n",
       "\t<tr><th scope=col>&lt;chr&gt;</th><th scope=col>&lt;int&gt;</th></tr>\n",
       "</thead>\n",
       "<tbody>\n",
       "\t<tr><td>Diagnosis   </td><td>2680945</td></tr>\n",
       "\t<tr><td>Meds        </td><td>1747295</td></tr>\n",
       "\t<tr><td>Lab         </td><td> 932873</td></tr>\n",
       "\t<tr><td>Imaging     </td><td> 282646</td></tr>\n",
       "\t<tr><td>Procedures  </td><td>  48863</td></tr>\n",
       "\t<tr><td>Microbiology</td><td>  38056</td></tr>\n",
       "</tbody>\n",
       "</table>\n"
      ],
      "text/latex": [
       "A grouped\\_df: 6 × 2\n",
       "\\begin{tabular}{ll}\n",
       " feature\\_type & n\\\\\n",
       " <chr> & <int>\\\\\n",
       "\\hline\n",
       "\t Diagnosis    & 2680945\\\\\n",
       "\t Meds         & 1747295\\\\\n",
       "\t Lab          &  932873\\\\\n",
       "\t Imaging      &  282646\\\\\n",
       "\t Procedures   &   48863\\\\\n",
       "\t Microbiology &   38056\\\\\n",
       "\\end{tabular}\n"
      ],
      "text/markdown": [
       "\n",
       "A grouped_df: 6 × 2\n",
       "\n",
       "| feature_type &lt;chr&gt; | n &lt;int&gt; |\n",
       "|---|---|\n",
       "| Diagnosis    | 2680945 |\n",
       "| Meds         | 1747295 |\n",
       "| Lab          |  932873 |\n",
       "| Imaging      |  282646 |\n",
       "| Procedures   |   48863 |\n",
       "| Microbiology |   38056 |\n",
       "\n"
      ],
      "text/plain": [
       "  feature_type n      \n",
       "1 Diagnosis    2680945\n",
       "2 Meds         1747295\n",
       "3 Lab           932873\n",
       "4 Imaging       282646\n",
       "5 Procedures     48863\n",
       "6 Microbiology   38056"
      ]
     },
     "metadata": {},
     "output_type": "display_data"
    }
   ],
   "source": [
    "orders_micro <- orders %>% mutate(feature_type = ifelse(str_detect(feature_type, \"Microbiology\"), \"Microbiology\", feature_type))\n",
    "orders_micro %>% group_by(feature_type) %>% count(sort=TRUE)"
   ]
  },
  {
   "cell_type": "code",
   "execution_count": 7,
   "metadata": {},
   "outputs": [
    {
     "data": {
      "text/html": [
       "41366"
      ],
      "text/latex": [
       "41366"
      ],
      "text/markdown": [
       "41366"
      ],
      "text/plain": [
       "[1] 41366"
      ]
     },
     "metadata": {},
     "output_type": "display_data"
    }
   ],
   "source": [
    "length(unique(orders_micro$pat_enc_csn_id_coded))"
   ]
  },
  {
   "cell_type": "markdown",
   "metadata": {},
   "source": [
    "### Check the featurized binned labs_vitals and combine all features"
   ]
  },
  {
   "cell_type": "code",
   "execution_count": 16,
   "metadata": {},
   "outputs": [
    {
     "data": {
      "text/html": [
       "3012942"
      ],
      "text/latex": [
       "3012942"
      ],
      "text/markdown": [
       "3012942"
      ],
      "text/plain": [
       "[1] 3012942"
      ]
     },
     "metadata": {},
     "output_type": "display_data"
    },
    {
     "data": {
      "text/html": [
       "41366"
      ],
      "text/latex": [
       "41366"
      ],
      "text/markdown": [
       "41366"
      ],
      "text/plain": [
       "[1] 41366"
      ]
     },
     "metadata": {},
     "output_type": "display_data"
    },
    {
     "data": {
      "text/html": [
       "<table class=\"dataframe\">\n",
       "<caption>A grouped_df: 3 × 2</caption>\n",
       "<thead>\n",
       "\t<tr><th scope=col>feature_type</th><th scope=col>n</th></tr>\n",
       "\t<tr><th scope=col>&lt;chr&gt;</th><th scope=col>&lt;int&gt;</th></tr>\n",
       "</thead>\n",
       "<tbody>\n",
       "\t<tr><td>demo  </td><td> 703222</td></tr>\n",
       "\t<tr><td>labs  </td><td>1358669</td></tr>\n",
       "\t<tr><td>vitals</td><td> 951051</td></tr>\n",
       "</tbody>\n",
       "</table>\n"
      ],
      "text/latex": [
       "A grouped\\_df: 3 × 2\n",
       "\\begin{tabular}{ll}\n",
       " feature\\_type & n\\\\\n",
       " <chr> & <int>\\\\\n",
       "\\hline\n",
       "\t demo   &  703222\\\\\n",
       "\t labs   & 1358669\\\\\n",
       "\t vitals &  951051\\\\\n",
       "\\end{tabular}\n"
      ],
      "text/markdown": [
       "\n",
       "A grouped_df: 3 × 2\n",
       "\n",
       "| feature_type &lt;chr&gt; | n &lt;int&gt; |\n",
       "|---|---|\n",
       "| demo   |  703222 |\n",
       "| labs   | 1358669 |\n",
       "| vitals |  951051 |\n",
       "\n"
      ],
      "text/plain": [
       "  feature_type n      \n",
       "1 demo          703222\n",
       "2 labs         1358669\n",
       "3 vitals        951051"
      ]
     },
     "metadata": {},
     "output_type": "display_data"
    }
   ],
   "source": [
    "# check all features with values\n",
    "values <- read.csv(file.path(featuredir, '2_7_feature_values.csv'))\n",
    "nrow(values) # 3012942\n",
    "length(unique(values$pat_enc_csn_id_coded))\n",
    "values %>% group_by(feature_type) %>% count()"
   ]
  },
  {
   "cell_type": "code",
   "execution_count": 56,
   "metadata": {},
   "outputs": [
    {
     "data": {
      "text/html": [
       "1240798"
      ],
      "text/latex": [
       "1240798"
      ],
      "text/markdown": [
       "1240798"
      ],
      "text/plain": [
       "[1] 1240798"
      ]
     },
     "metadata": {},
     "output_type": "display_data"
    }
   ],
   "source": [
    "# check train set\n",
    "train <- values %>% filter(year(admit_time) %in% c(2015, 2016, 2017))\n",
    "nrow(train %>% filter(feature_type != 'demo')) # 1240798 (check against 2.8_featurize_vitals_labs)"
   ]
  },
  {
   "cell_type": "code",
   "execution_count": 15,
   "metadata": {},
   "outputs": [
    {
     "data": {
      "text/html": [
       "1825075"
      ],
      "text/latex": [
       "1825075"
      ],
      "text/markdown": [
       "1825075"
      ],
      "text/plain": [
       "[1] 1825075"
      ]
     },
     "metadata": {},
     "output_type": "display_data"
    },
    {
     "data": {
      "text/html": [
       "41366"
      ],
      "text/latex": [
       "41366"
      ],
      "text/markdown": [
       "41366"
      ],
      "text/plain": [
       "[1] 41366"
      ]
     },
     "metadata": {},
     "output_type": "display_data"
    },
    {
     "data": {
      "text/html": [
       "<table class=\"dataframe\">\n",
       "<caption>A grouped_df: 2 × 2</caption>\n",
       "<thead>\n",
       "\t<tr><th scope=col>feature_type</th><th scope=col>n</th></tr>\n",
       "\t<tr><th scope=col>&lt;chr&gt;</th><th scope=col>&lt;int&gt;</th></tr>\n",
       "</thead>\n",
       "<tbody>\n",
       "\t<tr><td>labs_results_train</td><td>1304104</td></tr>\n",
       "\t<tr><td>vitals_train      </td><td> 520971</td></tr>\n",
       "</tbody>\n",
       "</table>\n"
      ],
      "text/latex": [
       "A grouped\\_df: 2 × 2\n",
       "\\begin{tabular}{ll}\n",
       " feature\\_type & n\\\\\n",
       " <chr> & <int>\\\\\n",
       "\\hline\n",
       "\t labs\\_results\\_train & 1304104\\\\\n",
       "\t vitals\\_train       &  520971\\\\\n",
       "\\end{tabular}\n"
      ],
      "text/markdown": [
       "\n",
       "A grouped_df: 2 × 2\n",
       "\n",
       "| feature_type &lt;chr&gt; | n &lt;int&gt; |\n",
       "|---|---|\n",
       "| labs_results_train | 1304104 |\n",
       "| vitals_train       |  520971 |\n",
       "\n"
      ],
      "text/plain": [
       "  feature_type       n      \n",
       "1 labs_results_train 1304104\n",
       "2 vitals_train        520971"
      ]
     },
     "metadata": {},
     "output_type": "display_data"
    }
   ],
   "source": [
    "# read in binned labs and vitals\n",
    "binned_labs_vitals <- read.csv(file.path(featuredir, '2_8_binned_labs_vitals.csv'))\n",
    "nrow(binned_labs_vitals) # 1825075\n",
    "length(unique(binned_labs_vitals$pat_enc_csn_id_coded))\n",
    "binned_labs_vitals %>% group_by(feature_type) %>% count()"
   ]
  },
  {
   "cell_type": "code",
   "execution_count": 9,
   "metadata": {},
   "outputs": [
    {
     "data": {
      "text/html": [
       "<table class=\"dataframe\">\n",
       "<caption>A data.frame: 6 × 6</caption>\n",
       "<thead>\n",
       "\t<tr><th></th><th scope=col>anon_id</th><th scope=col>pat_enc_csn_id_coded</th><th scope=col>admit_time</th><th scope=col>feature_type</th><th scope=col>features</th><th scope=col>values</th></tr>\n",
       "\t<tr><th></th><th scope=col>&lt;chr&gt;</th><th scope=col>&lt;dbl&gt;</th><th scope=col>&lt;chr&gt;</th><th scope=col>&lt;chr&gt;</th><th scope=col>&lt;chr&gt;</th><th scope=col>&lt;int&gt;</th></tr>\n",
       "</thead>\n",
       "<tbody>\n",
       "\t<tr><th scope=row>1</th><td>JC29f8ad2</td><td>131274729058</td><td>2019-08-31 12:52:00+00:00</td><td>labs_results_train</td><td>ALB_3     </td><td>1</td></tr>\n",
       "\t<tr><th scope=row>2</th><td>JC29f8ad2</td><td>131274729058</td><td>2019-08-31 12:52:00+00:00</td><td>labs_results_train</td><td>ALK_7     </td><td>1</td></tr>\n",
       "\t<tr><th scope=row>3</th><td>JC29f8ad2</td><td>131274729058</td><td>2019-08-31 12:52:00+00:00</td><td>labs_results_train</td><td>ALT_0     </td><td>1</td></tr>\n",
       "\t<tr><th scope=row>4</th><td>JC29f8ad2</td><td>131274729058</td><td>2019-08-31 12:52:00+00:00</td><td>labs_results_train</td><td>AST_1     </td><td>1</td></tr>\n",
       "\t<tr><th scope=row>5</th><td>JC29f8ad2</td><td>131274729058</td><td>2019-08-31 12:52:00+00:00</td><td>labs_results_train</td><td>AnionGap_9</td><td>1</td></tr>\n",
       "\t<tr><th scope=row>6</th><td>JC29f8ad2</td><td>131274729058</td><td>2019-08-31 12:52:00+00:00</td><td>labs_results_train</td><td>BUN_8     </td><td>1</td></tr>\n",
       "</tbody>\n",
       "</table>\n"
      ],
      "text/latex": [
       "A data.frame: 6 × 6\n",
       "\\begin{tabular}{r|llllll}\n",
       "  & anon\\_id & pat\\_enc\\_csn\\_id\\_coded & admit\\_time & feature\\_type & features & values\\\\\n",
       "  & <chr> & <dbl> & <chr> & <chr> & <chr> & <int>\\\\\n",
       "\\hline\n",
       "\t1 & JC29f8ad2 & 131274729058 & 2019-08-31 12:52:00+00:00 & labs\\_results\\_train & ALB\\_3      & 1\\\\\n",
       "\t2 & JC29f8ad2 & 131274729058 & 2019-08-31 12:52:00+00:00 & labs\\_results\\_train & ALK\\_7      & 1\\\\\n",
       "\t3 & JC29f8ad2 & 131274729058 & 2019-08-31 12:52:00+00:00 & labs\\_results\\_train & ALT\\_0      & 1\\\\\n",
       "\t4 & JC29f8ad2 & 131274729058 & 2019-08-31 12:52:00+00:00 & labs\\_results\\_train & AST\\_1      & 1\\\\\n",
       "\t5 & JC29f8ad2 & 131274729058 & 2019-08-31 12:52:00+00:00 & labs\\_results\\_train & AnionGap\\_9 & 1\\\\\n",
       "\t6 & JC29f8ad2 & 131274729058 & 2019-08-31 12:52:00+00:00 & labs\\_results\\_train & BUN\\_8      & 1\\\\\n",
       "\\end{tabular}\n"
      ],
      "text/markdown": [
       "\n",
       "A data.frame: 6 × 6\n",
       "\n",
       "| <!--/--> | anon_id &lt;chr&gt; | pat_enc_csn_id_coded &lt;dbl&gt; | admit_time &lt;chr&gt; | feature_type &lt;chr&gt; | features &lt;chr&gt; | values &lt;int&gt; |\n",
       "|---|---|---|---|---|---|---|\n",
       "| 1 | JC29f8ad2 | 131274729058 | 2019-08-31 12:52:00+00:00 | labs_results_train | ALB_3      | 1 |\n",
       "| 2 | JC29f8ad2 | 131274729058 | 2019-08-31 12:52:00+00:00 | labs_results_train | ALK_7      | 1 |\n",
       "| 3 | JC29f8ad2 | 131274729058 | 2019-08-31 12:52:00+00:00 | labs_results_train | ALT_0      | 1 |\n",
       "| 4 | JC29f8ad2 | 131274729058 | 2019-08-31 12:52:00+00:00 | labs_results_train | AST_1      | 1 |\n",
       "| 5 | JC29f8ad2 | 131274729058 | 2019-08-31 12:52:00+00:00 | labs_results_train | AnionGap_9 | 1 |\n",
       "| 6 | JC29f8ad2 | 131274729058 | 2019-08-31 12:52:00+00:00 | labs_results_train | BUN_8      | 1 |\n",
       "\n"
      ],
      "text/plain": [
       "  anon_id   pat_enc_csn_id_coded admit_time                feature_type      \n",
       "1 JC29f8ad2 131274729058         2019-08-31 12:52:00+00:00 labs_results_train\n",
       "2 JC29f8ad2 131274729058         2019-08-31 12:52:00+00:00 labs_results_train\n",
       "3 JC29f8ad2 131274729058         2019-08-31 12:52:00+00:00 labs_results_train\n",
       "4 JC29f8ad2 131274729058         2019-08-31 12:52:00+00:00 labs_results_train\n",
       "5 JC29f8ad2 131274729058         2019-08-31 12:52:00+00:00 labs_results_train\n",
       "6 JC29f8ad2 131274729058         2019-08-31 12:52:00+00:00 labs_results_train\n",
       "  features   values\n",
       "1 ALB_3      1     \n",
       "2 ALK_7      1     \n",
       "3 ALT_0      1     \n",
       "4 AST_1      1     \n",
       "5 AnionGap_9 1     \n",
       "6 BUN_8      1     "
      ]
     },
     "metadata": {},
     "output_type": "display_data"
    }
   ],
   "source": [
    "head(binned_labs_vitals)"
   ]
  },
  {
   "cell_type": "code",
   "execution_count": 71,
   "metadata": {},
   "outputs": [
    {
     "data": {
      "text/html": [
       "703222"
      ],
      "text/latex": [
       "703222"
      ],
      "text/markdown": [
       "703222"
      ],
      "text/plain": [
       "[1] 703222"
      ]
     },
     "metadata": {},
     "output_type": "display_data"
    },
    {
     "data": {
      "text/html": [
       "41366"
      ],
      "text/latex": [
       "41366"
      ],
      "text/markdown": [
       "41366"
      ],
      "text/plain": [
       "[1] 41366"
      ]
     },
     "metadata": {},
     "output_type": "display_data"
    }
   ],
   "source": [
    "# get demographics features\n",
    "demos <- values %>% filter(feature_type == 'demo') %>% select(anon_id, pat_enc_csn_id_coded, admit_time, \n",
    "                                                              feature_type, features, values)\n",
    "nrow(demos)\n",
    "length(unique(demos$pat_enc_csn_id_coded))"
   ]
  },
  {
   "cell_type": "code",
   "execution_count": 21,
   "metadata": {},
   "outputs": [
    {
     "data": {
      "text/html": [],
      "text/latex": [],
      "text/markdown": [],
      "text/plain": [
       "numeric(0)"
      ]
     },
     "metadata": {},
     "output_type": "display_data"
    },
    {
     "data": {
      "text/html": [],
      "text/latex": [],
      "text/markdown": [],
      "text/plain": [
       "numeric(0)"
      ]
     },
     "metadata": {},
     "output_type": "display_data"
    }
   ],
   "source": [
    "# check overlapping cohort in features with values vs with order counts: should be the same, no diff\n",
    "setdiff(binned_labs_vitals$pat_enc_csn_id_coded, orders_micro$pat_enc_csn_id_coded)\n",
    "setdiff(orders_micro$pat_enc_csn_id_coded, binned_labs_vitals$pat_enc_csn_id_coded)"
   ]
  },
  {
   "cell_type": "code",
   "execution_count": 79,
   "metadata": {},
   "outputs": [
    {
     "data": {
      "text/html": [
       "8258975"
      ],
      "text/latex": [
       "8258975"
      ],
      "text/markdown": [
       "8258975"
      ],
      "text/plain": [
       "[1] 8258975"
      ]
     },
     "metadata": {},
     "output_type": "display_data"
    },
    {
     "data": {
      "text/html": [
       "41366"
      ],
      "text/latex": [
       "41366"
      ],
      "text/markdown": [
       "41366"
      ],
      "text/plain": [
       "[1] 41366"
      ]
     },
     "metadata": {},
     "output_type": "display_data"
    },
    {
     "data": {
      "text/html": [
       "42201"
      ],
      "text/latex": [
       "42201"
      ],
      "text/markdown": [
       "42201"
      ],
      "text/plain": [
       "[1] 42201"
      ]
     },
     "metadata": {},
     "output_type": "display_data"
    },
    {
     "data": {
      "text/html": [
       "<table class=\"dataframe\">\n",
       "<caption>A grouped_df: 9 × 2</caption>\n",
       "<thead>\n",
       "\t<tr><th scope=col>feature_type</th><th scope=col>n</th></tr>\n",
       "\t<tr><th scope=col>&lt;chr&gt;</th><th scope=col>&lt;int&gt;</th></tr>\n",
       "</thead>\n",
       "<tbody>\n",
       "\t<tr><td>Diagnosis         </td><td>2680945</td></tr>\n",
       "\t<tr><td>Meds              </td><td>1747295</td></tr>\n",
       "\t<tr><td>labs_results_train</td><td>1304104</td></tr>\n",
       "\t<tr><td>Lab               </td><td> 932873</td></tr>\n",
       "\t<tr><td>demo              </td><td> 703222</td></tr>\n",
       "\t<tr><td>vitals_train      </td><td> 520971</td></tr>\n",
       "\t<tr><td>Imaging           </td><td> 282646</td></tr>\n",
       "\t<tr><td>Procedures        </td><td>  48863</td></tr>\n",
       "\t<tr><td>Microbiology      </td><td>  38056</td></tr>\n",
       "</tbody>\n",
       "</table>\n"
      ],
      "text/latex": [
       "A grouped\\_df: 9 × 2\n",
       "\\begin{tabular}{ll}\n",
       " feature\\_type & n\\\\\n",
       " <chr> & <int>\\\\\n",
       "\\hline\n",
       "\t Diagnosis          & 2680945\\\\\n",
       "\t Meds               & 1747295\\\\\n",
       "\t labs\\_results\\_train & 1304104\\\\\n",
       "\t Lab                &  932873\\\\\n",
       "\t demo               &  703222\\\\\n",
       "\t vitals\\_train       &  520971\\\\\n",
       "\t Imaging            &  282646\\\\\n",
       "\t Procedures         &   48863\\\\\n",
       "\t Microbiology       &   38056\\\\\n",
       "\\end{tabular}\n"
      ],
      "text/markdown": [
       "\n",
       "A grouped_df: 9 × 2\n",
       "\n",
       "| feature_type &lt;chr&gt; | n &lt;int&gt; |\n",
       "|---|---|\n",
       "| Diagnosis          | 2680945 |\n",
       "| Meds               | 1747295 |\n",
       "| labs_results_train | 1304104 |\n",
       "| Lab                |  932873 |\n",
       "| demo               |  703222 |\n",
       "| vitals_train       |  520971 |\n",
       "| Imaging            |  282646 |\n",
       "| Procedures         |   48863 |\n",
       "| Microbiology       |   38056 |\n",
       "\n"
      ],
      "text/plain": [
       "  feature_type       n      \n",
       "1 Diagnosis          2680945\n",
       "2 Meds               1747295\n",
       "3 labs_results_train 1304104\n",
       "4 Lab                 932873\n",
       "5 demo                703222\n",
       "6 vitals_train        520971\n",
       "7 Imaging             282646\n",
       "8 Procedures           48863\n",
       "9 Microbiology         38056"
      ]
     },
     "metadata": {},
     "output_type": "display_data"
    }
   ],
   "source": [
    "# combine all features for the complex data set, remove time column since demo doesn't have it\n",
    "features_all <- bind_rows(demos, binned_labs_vitals, orders_micro)\n",
    "nrow(features_all) # 7555753\n",
    "length(unique(features_all$pat_enc_csn_id_coded))\n",
    "length(unique(features_all$features)) #42201, actually 42234 is the correct number of features (as some have 2 feature_types)\n",
    "features_all %>% group_by(feature_type) %>% count(sort=TRUE)"
   ]
  },
  {
   "cell_type": "code",
   "execution_count": 90,
   "metadata": {},
   "outputs": [
    {
     "data": {
      "text/html": [
       "<table class=\"dataframe\">\n",
       "<caption>A data.frame: 6 × 6</caption>\n",
       "<thead>\n",
       "\t<tr><th></th><th scope=col>anon_id</th><th scope=col>pat_enc_csn_id_coded</th><th scope=col>admit_time</th><th scope=col>feature_type</th><th scope=col>features</th><th scope=col>values</th></tr>\n",
       "\t<tr><th></th><th scope=col>&lt;chr&gt;</th><th scope=col>&lt;dbl&gt;</th><th scope=col>&lt;chr&gt;</th><th scope=col>&lt;chr&gt;</th><th scope=col>&lt;chr&gt;</th><th scope=col>&lt;dbl&gt;</th></tr>\n",
       "</thead>\n",
       "<tbody>\n",
       "\t<tr><th scope=row>1</th><td>JC29f8ad2</td><td>131274729058</td><td>2019-08-31 12:52:00+00:00</td><td>demo</td><td>ESI_i</td><td>3</td></tr>\n",
       "\t<tr><th scope=row>2</th><td>JC29f8ad3</td><td>131278291027</td><td>2019-10-05 23:48:00+00:00</td><td>demo</td><td>ESI_i</td><td>3</td></tr>\n",
       "\t<tr><th scope=row>3</th><td>JC29f8b9c</td><td>131266787806</td><td>2019-05-05 01:07:00+00:00</td><td>demo</td><td>ESI_i</td><td>2</td></tr>\n",
       "\t<tr><th scope=row>4</th><td>JC29f8beb</td><td>131264387263</td><td>2019-03-15 03:35:00+00:00</td><td>demo</td><td>ESI_i</td><td>3</td></tr>\n",
       "\t<tr><th scope=row>5</th><td>JC29f8beb</td><td>131279241689</td><td>2019-11-27 15:29:00+00:00</td><td>demo</td><td>ESI_i</td><td>3</td></tr>\n",
       "\t<tr><th scope=row>6</th><td>JC29f8bef</td><td>131280937356</td><td>2019-11-30 10:35:00+00:00</td><td>demo</td><td>ESI_i</td><td>3</td></tr>\n",
       "</tbody>\n",
       "</table>\n"
      ],
      "text/latex": [
       "A data.frame: 6 × 6\n",
       "\\begin{tabular}{r|llllll}\n",
       "  & anon\\_id & pat\\_enc\\_csn\\_id\\_coded & admit\\_time & feature\\_type & features & values\\\\\n",
       "  & <chr> & <dbl> & <chr> & <chr> & <chr> & <dbl>\\\\\n",
       "\\hline\n",
       "\t1 & JC29f8ad2 & 131274729058 & 2019-08-31 12:52:00+00:00 & demo & ESI\\_i & 3\\\\\n",
       "\t2 & JC29f8ad3 & 131278291027 & 2019-10-05 23:48:00+00:00 & demo & ESI\\_i & 3\\\\\n",
       "\t3 & JC29f8b9c & 131266787806 & 2019-05-05 01:07:00+00:00 & demo & ESI\\_i & 2\\\\\n",
       "\t4 & JC29f8beb & 131264387263 & 2019-03-15 03:35:00+00:00 & demo & ESI\\_i & 3\\\\\n",
       "\t5 & JC29f8beb & 131279241689 & 2019-11-27 15:29:00+00:00 & demo & ESI\\_i & 3\\\\\n",
       "\t6 & JC29f8bef & 131280937356 & 2019-11-30 10:35:00+00:00 & demo & ESI\\_i & 3\\\\\n",
       "\\end{tabular}\n"
      ],
      "text/markdown": [
       "\n",
       "A data.frame: 6 × 6\n",
       "\n",
       "| <!--/--> | anon_id &lt;chr&gt; | pat_enc_csn_id_coded &lt;dbl&gt; | admit_time &lt;chr&gt; | feature_type &lt;chr&gt; | features &lt;chr&gt; | values &lt;dbl&gt; |\n",
       "|---|---|---|---|---|---|---|\n",
       "| 1 | JC29f8ad2 | 131274729058 | 2019-08-31 12:52:00+00:00 | demo | ESI_i | 3 |\n",
       "| 2 | JC29f8ad3 | 131278291027 | 2019-10-05 23:48:00+00:00 | demo | ESI_i | 3 |\n",
       "| 3 | JC29f8b9c | 131266787806 | 2019-05-05 01:07:00+00:00 | demo | ESI_i | 2 |\n",
       "| 4 | JC29f8beb | 131264387263 | 2019-03-15 03:35:00+00:00 | demo | ESI_i | 3 |\n",
       "| 5 | JC29f8beb | 131279241689 | 2019-11-27 15:29:00+00:00 | demo | ESI_i | 3 |\n",
       "| 6 | JC29f8bef | 131280937356 | 2019-11-30 10:35:00+00:00 | demo | ESI_i | 3 |\n",
       "\n"
      ],
      "text/plain": [
       "  anon_id   pat_enc_csn_id_coded admit_time                feature_type\n",
       "1 JC29f8ad2 131274729058         2019-08-31 12:52:00+00:00 demo        \n",
       "2 JC29f8ad3 131278291027         2019-10-05 23:48:00+00:00 demo        \n",
       "3 JC29f8b9c 131266787806         2019-05-05 01:07:00+00:00 demo        \n",
       "4 JC29f8beb 131264387263         2019-03-15 03:35:00+00:00 demo        \n",
       "5 JC29f8beb 131279241689         2019-11-27 15:29:00+00:00 demo        \n",
       "6 JC29f8bef 131280937356         2019-11-30 10:35:00+00:00 demo        \n",
       "  features values\n",
       "1 ESI_i    3     \n",
       "2 ESI_i    3     \n",
       "3 ESI_i    2     \n",
       "4 ESI_i    3     \n",
       "5 ESI_i    3     \n",
       "6 ESI_i    3     "
      ]
     },
     "metadata": {},
     "output_type": "display_data"
    }
   ],
   "source": [
    "head(features_all)"
   ]
  },
  {
   "cell_type": "code",
   "execution_count": 81,
   "metadata": {},
   "outputs": [
    {
     "data": {
      "text/html": [
       "<table class=\"dataframe\">\n",
       "<caption>A grouped_df: 33 × 2</caption>\n",
       "<thead>\n",
       "\t<tr><th scope=col>features</th><th scope=col>n</th></tr>\n",
       "\t<tr><th scope=col>&lt;chr&gt;</th><th scope=col>&lt;int&gt;</th></tr>\n",
       "</thead>\n",
       "<tbody>\n",
       "\t<tr><td>ARTERIAL BLOOD GAS                                           </td><td>2</td></tr>\n",
       "\t<tr><td>ASPERGILLUS GALACTOMANNAN                                    </td><td>2</td></tr>\n",
       "\t<tr><td>BETA STREP THROAT SCREEN RAPID EIA                           </td><td>2</td></tr>\n",
       "\t<tr><td>BORDETELLA PERTUSSIS PCR                                     </td><td>2</td></tr>\n",
       "\t<tr><td>CRYPTOSPORIDIUM EIA                                          </td><td>2</td></tr>\n",
       "\t<tr><td>CULTURE, THROAT                                              </td><td>2</td></tr>\n",
       "\t<tr><td>HELICOBACTER PYLORI AB                                       </td><td>2</td></tr>\n",
       "\t<tr><td>HELICOBACTER PYLORI AG, STOOL                                </td><td>2</td></tr>\n",
       "\t<tr><td>Limited Ultrasound- Abdominal Aorta (Limited Retroperitoneal)</td><td>2</td></tr>\n",
       "\t<tr><td>LIMITED ULTRASOUND- ABDOMINAL AORTA (LIMITED RETROPERITONEAL)</td><td>2</td></tr>\n",
       "\t<tr><td>Limited Ultrasound- Cardiac Transthoracic ECHO               </td><td>2</td></tr>\n",
       "\t<tr><td>LIMITED ULTRASOUND- CARDIAC TRANSTHORACIC ECHO               </td><td>2</td></tr>\n",
       "\t<tr><td>Limited Ultrasound- Chest/Lung/Thoracic                      </td><td>2</td></tr>\n",
       "\t<tr><td>Limited Ultrasound- FAST/EFAST Scan                          </td><td>2</td></tr>\n",
       "\t<tr><td>LIMITED ULTRASOUND- FAST/EFAST SCAN                          </td><td>2</td></tr>\n",
       "\t<tr><td>Limited Ultrasound- Gallbladder Scan                         </td><td>2</td></tr>\n",
       "\t<tr><td>LIMITED ULTRASOUND- GALLBLADDER SCAN                         </td><td>2</td></tr>\n",
       "\t<tr><td>Limited Ultrasound- IVC Scan (Limited Retroperitoneal)       </td><td>2</td></tr>\n",
       "\t<tr><td>LIMITED ULTRASOUND- IVC SCAN (LIMITED RETROPERITONEAL)       </td><td>2</td></tr>\n",
       "\t<tr><td>LIMITED ULTRASOUND- OCULAR US                                </td><td>2</td></tr>\n",
       "\t<tr><td>LIMITED ULTRASOUND- PARACENTESIS FLUID LOCALIZATION          </td><td>2</td></tr>\n",
       "\t<tr><td>Limited Ultrasound- Pelvic, Transabdominal pregnant scan     </td><td>2</td></tr>\n",
       "\t<tr><td>LIMITED ULTRASOUND- PERIPHERAL IV ACCESS                     </td><td>2</td></tr>\n",
       "\t<tr><td>Limited Ultrasound- Renal/Urinary Tract Scan                 </td><td>2</td></tr>\n",
       "\t<tr><td>LIMITED ULTRASOUND- RENAL/URINARY TRACT SCAN                 </td><td>2</td></tr>\n",
       "\t<tr><td>Limited Ultrasound- Soft Tissue Abscess Evaluation           </td><td>2</td></tr>\n",
       "\t<tr><td>LIMITED ULTRASOUND- SOFT TISSUE ABSCESS EVALUATION           </td><td>2</td></tr>\n",
       "\t<tr><td>LIMITED ULTRASOUND- THORACIC/CHEST SCAN                      </td><td>2</td></tr>\n",
       "\t<tr><td>LIMITED ULTRASOUND- TRANSABDOMINAL PREGNANT PELVIC SCAN      </td><td>2</td></tr>\n",
       "\t<tr><td>Limited Ultrasound- US-guided Paracentesis                   </td><td>2</td></tr>\n",
       "\t<tr><td>Limited Ultrasound- US-guided Peripheral IV                  </td><td>2</td></tr>\n",
       "\t<tr><td>M. TUBERCULOSIS PCR, SPECIMEN                                </td><td>2</td></tr>\n",
       "\t<tr><td>QUANTIFERON TEST FOR LATENT TB                               </td><td>2</td></tr>\n",
       "</tbody>\n",
       "</table>\n"
      ],
      "text/latex": [
       "A grouped\\_df: 33 × 2\n",
       "\\begin{tabular}{ll}\n",
       " features & n\\\\\n",
       " <chr> & <int>\\\\\n",
       "\\hline\n",
       "\t ARTERIAL BLOOD GAS                                            & 2\\\\\n",
       "\t ASPERGILLUS GALACTOMANNAN                                     & 2\\\\\n",
       "\t BETA STREP THROAT SCREEN RAPID EIA                            & 2\\\\\n",
       "\t BORDETELLA PERTUSSIS PCR                                      & 2\\\\\n",
       "\t CRYPTOSPORIDIUM EIA                                           & 2\\\\\n",
       "\t CULTURE, THROAT                                               & 2\\\\\n",
       "\t HELICOBACTER PYLORI AB                                        & 2\\\\\n",
       "\t HELICOBACTER PYLORI AG, STOOL                                 & 2\\\\\n",
       "\t Limited Ultrasound- Abdominal Aorta (Limited Retroperitoneal) & 2\\\\\n",
       "\t LIMITED ULTRASOUND- ABDOMINAL AORTA (LIMITED RETROPERITONEAL) & 2\\\\\n",
       "\t Limited Ultrasound- Cardiac Transthoracic ECHO                & 2\\\\\n",
       "\t LIMITED ULTRASOUND- CARDIAC TRANSTHORACIC ECHO                & 2\\\\\n",
       "\t Limited Ultrasound- Chest/Lung/Thoracic                       & 2\\\\\n",
       "\t Limited Ultrasound- FAST/EFAST Scan                           & 2\\\\\n",
       "\t LIMITED ULTRASOUND- FAST/EFAST SCAN                           & 2\\\\\n",
       "\t Limited Ultrasound- Gallbladder Scan                          & 2\\\\\n",
       "\t LIMITED ULTRASOUND- GALLBLADDER SCAN                          & 2\\\\\n",
       "\t Limited Ultrasound- IVC Scan (Limited Retroperitoneal)        & 2\\\\\n",
       "\t LIMITED ULTRASOUND- IVC SCAN (LIMITED RETROPERITONEAL)        & 2\\\\\n",
       "\t LIMITED ULTRASOUND- OCULAR US                                 & 2\\\\\n",
       "\t LIMITED ULTRASOUND- PARACENTESIS FLUID LOCALIZATION           & 2\\\\\n",
       "\t Limited Ultrasound- Pelvic, Transabdominal pregnant scan      & 2\\\\\n",
       "\t LIMITED ULTRASOUND- PERIPHERAL IV ACCESS                      & 2\\\\\n",
       "\t Limited Ultrasound- Renal/Urinary Tract Scan                  & 2\\\\\n",
       "\t LIMITED ULTRASOUND- RENAL/URINARY TRACT SCAN                  & 2\\\\\n",
       "\t Limited Ultrasound- Soft Tissue Abscess Evaluation            & 2\\\\\n",
       "\t LIMITED ULTRASOUND- SOFT TISSUE ABSCESS EVALUATION            & 2\\\\\n",
       "\t LIMITED ULTRASOUND- THORACIC/CHEST SCAN                       & 2\\\\\n",
       "\t LIMITED ULTRASOUND- TRANSABDOMINAL PREGNANT PELVIC SCAN       & 2\\\\\n",
       "\t Limited Ultrasound- US-guided Paracentesis                    & 2\\\\\n",
       "\t Limited Ultrasound- US-guided Peripheral IV                   & 2\\\\\n",
       "\t M. TUBERCULOSIS PCR, SPECIMEN                                 & 2\\\\\n",
       "\t QUANTIFERON TEST FOR LATENT TB                                & 2\\\\\n",
       "\\end{tabular}\n"
      ],
      "text/markdown": [
       "\n",
       "A grouped_df: 33 × 2\n",
       "\n",
       "| features &lt;chr&gt; | n &lt;int&gt; |\n",
       "|---|---|\n",
       "| ARTERIAL BLOOD GAS                                            | 2 |\n",
       "| ASPERGILLUS GALACTOMANNAN                                     | 2 |\n",
       "| BETA STREP THROAT SCREEN RAPID EIA                            | 2 |\n",
       "| BORDETELLA PERTUSSIS PCR                                      | 2 |\n",
       "| CRYPTOSPORIDIUM EIA                                           | 2 |\n",
       "| CULTURE, THROAT                                               | 2 |\n",
       "| HELICOBACTER PYLORI AB                                        | 2 |\n",
       "| HELICOBACTER PYLORI AG, STOOL                                 | 2 |\n",
       "| Limited Ultrasound- Abdominal Aorta (Limited Retroperitoneal) | 2 |\n",
       "| LIMITED ULTRASOUND- ABDOMINAL AORTA (LIMITED RETROPERITONEAL) | 2 |\n",
       "| Limited Ultrasound- Cardiac Transthoracic ECHO                | 2 |\n",
       "| LIMITED ULTRASOUND- CARDIAC TRANSTHORACIC ECHO                | 2 |\n",
       "| Limited Ultrasound- Chest/Lung/Thoracic                       | 2 |\n",
       "| Limited Ultrasound- FAST/EFAST Scan                           | 2 |\n",
       "| LIMITED ULTRASOUND- FAST/EFAST SCAN                           | 2 |\n",
       "| Limited Ultrasound- Gallbladder Scan                          | 2 |\n",
       "| LIMITED ULTRASOUND- GALLBLADDER SCAN                          | 2 |\n",
       "| Limited Ultrasound- IVC Scan (Limited Retroperitoneal)        | 2 |\n",
       "| LIMITED ULTRASOUND- IVC SCAN (LIMITED RETROPERITONEAL)        | 2 |\n",
       "| LIMITED ULTRASOUND- OCULAR US                                 | 2 |\n",
       "| LIMITED ULTRASOUND- PARACENTESIS FLUID LOCALIZATION           | 2 |\n",
       "| Limited Ultrasound- Pelvic, Transabdominal pregnant scan      | 2 |\n",
       "| LIMITED ULTRASOUND- PERIPHERAL IV ACCESS                      | 2 |\n",
       "| Limited Ultrasound- Renal/Urinary Tract Scan                  | 2 |\n",
       "| LIMITED ULTRASOUND- RENAL/URINARY TRACT SCAN                  | 2 |\n",
       "| Limited Ultrasound- Soft Tissue Abscess Evaluation            | 2 |\n",
       "| LIMITED ULTRASOUND- SOFT TISSUE ABSCESS EVALUATION            | 2 |\n",
       "| LIMITED ULTRASOUND- THORACIC/CHEST SCAN                       | 2 |\n",
       "| LIMITED ULTRASOUND- TRANSABDOMINAL PREGNANT PELVIC SCAN       | 2 |\n",
       "| Limited Ultrasound- US-guided Paracentesis                    | 2 |\n",
       "| Limited Ultrasound- US-guided Peripheral IV                   | 2 |\n",
       "| M. TUBERCULOSIS PCR, SPECIMEN                                 | 2 |\n",
       "| QUANTIFERON TEST FOR LATENT TB                                | 2 |\n",
       "\n"
      ],
      "text/plain": [
       "   features                                                      n\n",
       "1  ARTERIAL BLOOD GAS                                            2\n",
       "2  ASPERGILLUS GALACTOMANNAN                                     2\n",
       "3  BETA STREP THROAT SCREEN RAPID EIA                            2\n",
       "4  BORDETELLA PERTUSSIS PCR                                      2\n",
       "5  CRYPTOSPORIDIUM EIA                                           2\n",
       "6  CULTURE, THROAT                                               2\n",
       "7  HELICOBACTER PYLORI AB                                        2\n",
       "8  HELICOBACTER PYLORI AG, STOOL                                 2\n",
       "9  Limited Ultrasound- Abdominal Aorta (Limited Retroperitoneal) 2\n",
       "10 LIMITED ULTRASOUND- ABDOMINAL AORTA (LIMITED RETROPERITONEAL) 2\n",
       "11 Limited Ultrasound- Cardiac Transthoracic ECHO                2\n",
       "12 LIMITED ULTRASOUND- CARDIAC TRANSTHORACIC ECHO                2\n",
       "13 Limited Ultrasound- Chest/Lung/Thoracic                       2\n",
       "14 Limited Ultrasound- FAST/EFAST Scan                           2\n",
       "15 LIMITED ULTRASOUND- FAST/EFAST SCAN                           2\n",
       "16 Limited Ultrasound- Gallbladder Scan                          2\n",
       "17 LIMITED ULTRASOUND- GALLBLADDER SCAN                          2\n",
       "18 Limited Ultrasound- IVC Scan (Limited Retroperitoneal)        2\n",
       "19 LIMITED ULTRASOUND- IVC SCAN (LIMITED RETROPERITONEAL)        2\n",
       "20 LIMITED ULTRASOUND- OCULAR US                                 2\n",
       "21 LIMITED ULTRASOUND- PARACENTESIS FLUID LOCALIZATION           2\n",
       "22 Limited Ultrasound- Pelvic, Transabdominal pregnant scan      2\n",
       "23 LIMITED ULTRASOUND- PERIPHERAL IV ACCESS                      2\n",
       "24 Limited Ultrasound- Renal/Urinary Tract Scan                  2\n",
       "25 LIMITED ULTRASOUND- RENAL/URINARY TRACT SCAN                  2\n",
       "26 Limited Ultrasound- Soft Tissue Abscess Evaluation            2\n",
       "27 LIMITED ULTRASOUND- SOFT TISSUE ABSCESS EVALUATION            2\n",
       "28 LIMITED ULTRASOUND- THORACIC/CHEST SCAN                       2\n",
       "29 LIMITED ULTRASOUND- TRANSABDOMINAL PREGNANT PELVIC SCAN       2\n",
       "30 Limited Ultrasound- US-guided Paracentesis                    2\n",
       "31 Limited Ultrasound- US-guided Peripheral IV                   2\n",
       "32 M. TUBERCULOSIS PCR, SPECIMEN                                 2\n",
       "33 QUANTIFERON TEST FOR LATENT TB                                2"
      ]
     },
     "metadata": {},
     "output_type": "display_data"
    }
   ],
   "source": [
    "n2 <- features_all %>% select(feature_type, features) %>% distinct() %>% \n",
    "        group_by(features) %>% count(sort=TRUE) %>% filter(n==2)\n",
    "n2"
   ]
  },
  {
   "cell_type": "code",
   "execution_count": 82,
   "metadata": {},
   "outputs": [
    {
     "data": {
      "text/html": [
       "<table class=\"dataframe\">\n",
       "<caption>A grouped_df: 66 × 3</caption>\n",
       "<thead>\n",
       "\t<tr><th scope=col>features</th><th scope=col>feature_type</th><th scope=col>n</th></tr>\n",
       "\t<tr><th scope=col>&lt;chr&gt;</th><th scope=col>&lt;chr&gt;</th><th scope=col>&lt;int&gt;</th></tr>\n",
       "</thead>\n",
       "<tbody>\n",
       "\t<tr><td>ARTERIAL BLOOD GAS                                           </td><td>Lab         </td><td>5348</td></tr>\n",
       "\t<tr><td>ARTERIAL BLOOD GAS                                           </td><td>Procedures  </td><td>  53</td></tr>\n",
       "\t<tr><td>ASPERGILLUS GALACTOMANNAN                                    </td><td>Lab         </td><td>  73</td></tr>\n",
       "\t<tr><td>ASPERGILLUS GALACTOMANNAN                                    </td><td>Microbiology</td><td>  18</td></tr>\n",
       "\t<tr><td>BETA STREP THROAT SCREEN RAPID EIA                           </td><td>Lab         </td><td> 355</td></tr>\n",
       "\t<tr><td>BETA STREP THROAT SCREEN RAPID EIA                           </td><td>Microbiology</td><td>   3</td></tr>\n",
       "\t<tr><td>BORDETELLA PERTUSSIS PCR                                     </td><td>Lab         </td><td>  41</td></tr>\n",
       "\t<tr><td>BORDETELLA PERTUSSIS PCR                                     </td><td>Microbiology</td><td>  27</td></tr>\n",
       "\t<tr><td>CRYPTOSPORIDIUM EIA                                          </td><td>Lab         </td><td>   1</td></tr>\n",
       "\t<tr><td>CRYPTOSPORIDIUM EIA                                          </td><td>Microbiology</td><td>   6</td></tr>\n",
       "\t<tr><td>CULTURE, THROAT                                              </td><td>Lab         </td><td>   4</td></tr>\n",
       "\t<tr><td>CULTURE, THROAT                                              </td><td>Microbiology</td><td>   5</td></tr>\n",
       "\t<tr><td>HELICOBACTER PYLORI AB                                       </td><td>Lab         </td><td> 403</td></tr>\n",
       "\t<tr><td>HELICOBACTER PYLORI AB                                       </td><td>Microbiology</td><td>  19</td></tr>\n",
       "\t<tr><td>HELICOBACTER PYLORI AG, STOOL                                </td><td>Lab         </td><td>  86</td></tr>\n",
       "\t<tr><td>HELICOBACTER PYLORI AG, STOOL                                </td><td>Microbiology</td><td>  33</td></tr>\n",
       "\t<tr><td>Limited Ultrasound- Abdominal Aorta (Limited Retroperitoneal)</td><td>Imaging     </td><td>   5</td></tr>\n",
       "\t<tr><td>Limited Ultrasound- Abdominal Aorta (Limited Retroperitoneal)</td><td>Procedures  </td><td>  32</td></tr>\n",
       "\t<tr><td>LIMITED ULTRASOUND- ABDOMINAL AORTA (LIMITED RETROPERITONEAL)</td><td>Imaging     </td><td>   5</td></tr>\n",
       "\t<tr><td>LIMITED ULTRASOUND- ABDOMINAL AORTA (LIMITED RETROPERITONEAL)</td><td>Procedures  </td><td> 270</td></tr>\n",
       "\t<tr><td>Limited Ultrasound- Cardiac Transthoracic ECHO               </td><td>Imaging     </td><td>  61</td></tr>\n",
       "\t<tr><td>Limited Ultrasound- Cardiac Transthoracic ECHO               </td><td>Procedures  </td><td> 372</td></tr>\n",
       "\t<tr><td>LIMITED ULTRASOUND- CARDIAC TRANSTHORACIC ECHO               </td><td>Imaging     </td><td>  61</td></tr>\n",
       "\t<tr><td>LIMITED ULTRASOUND- CARDIAC TRANSTHORACIC ECHO               </td><td>Procedures  </td><td>2167</td></tr>\n",
       "\t<tr><td>Limited Ultrasound- Chest/Lung/Thoracic                      </td><td>Imaging     </td><td>  28</td></tr>\n",
       "\t<tr><td>Limited Ultrasound- Chest/Lung/Thoracic                      </td><td>Procedures  </td><td> 180</td></tr>\n",
       "\t<tr><td>Limited Ultrasound- FAST/EFAST Scan                          </td><td>Imaging     </td><td>  21</td></tr>\n",
       "\t<tr><td>Limited Ultrasound- FAST/EFAST Scan                          </td><td>Procedures  </td><td> 159</td></tr>\n",
       "\t<tr><td>LIMITED ULTRASOUND- FAST/EFAST SCAN                          </td><td>Imaging     </td><td>  21</td></tr>\n",
       "\t<tr><td>LIMITED ULTRASOUND- FAST/EFAST SCAN                          </td><td>Procedures  </td><td>1048</td></tr>\n",
       "\t<tr><td>Limited Ultrasound- Gallbladder Scan                         </td><td>Imaging     </td><td>   7</td></tr>\n",
       "\t<tr><td>Limited Ultrasound- Gallbladder Scan                         </td><td>Procedures  </td><td>  40</td></tr>\n",
       "\t<tr><td>LIMITED ULTRASOUND- GALLBLADDER SCAN                         </td><td>Imaging     </td><td>   7</td></tr>\n",
       "\t<tr><td>LIMITED ULTRASOUND- GALLBLADDER SCAN                         </td><td>Procedures  </td><td> 370</td></tr>\n",
       "\t<tr><td>Limited Ultrasound- IVC Scan (Limited Retroperitoneal)       </td><td>Imaging     </td><td>  23</td></tr>\n",
       "\t<tr><td>Limited Ultrasound- IVC Scan (Limited Retroperitoneal)       </td><td>Procedures  </td><td> 131</td></tr>\n",
       "\t<tr><td>LIMITED ULTRASOUND- IVC SCAN (LIMITED RETROPERITONEAL)       </td><td>Imaging     </td><td>  23</td></tr>\n",
       "\t<tr><td>LIMITED ULTRASOUND- IVC SCAN (LIMITED RETROPERITONEAL)       </td><td>Procedures  </td><td> 927</td></tr>\n",
       "\t<tr><td>LIMITED ULTRASOUND- OCULAR US                                </td><td>Imaging     </td><td>   2</td></tr>\n",
       "\t<tr><td>LIMITED ULTRASOUND- OCULAR US                                </td><td>Procedures  </td><td>  74</td></tr>\n",
       "\t<tr><td>LIMITED ULTRASOUND- PARACENTESIS FLUID LOCALIZATION          </td><td>Imaging     </td><td>   2</td></tr>\n",
       "\t<tr><td>LIMITED ULTRASOUND- PARACENTESIS FLUID LOCALIZATION          </td><td>Procedures  </td><td> 186</td></tr>\n",
       "\t<tr><td>Limited Ultrasound- Pelvic, Transabdominal pregnant scan     </td><td>Imaging     </td><td>   1</td></tr>\n",
       "\t<tr><td>Limited Ultrasound- Pelvic, Transabdominal pregnant scan     </td><td>Procedures  </td><td>   3</td></tr>\n",
       "\t<tr><td>LIMITED ULTRASOUND- PERIPHERAL IV ACCESS                     </td><td>Imaging     </td><td>  77</td></tr>\n",
       "\t<tr><td>LIMITED ULTRASOUND- PERIPHERAL IV ACCESS                     </td><td>Procedures  </td><td>1326</td></tr>\n",
       "\t<tr><td>Limited Ultrasound- Renal/Urinary Tract Scan                 </td><td>Imaging     </td><td>   3</td></tr>\n",
       "\t<tr><td>Limited Ultrasound- Renal/Urinary Tract Scan                 </td><td>Procedures  </td><td>  38</td></tr>\n",
       "\t<tr><td>LIMITED ULTRASOUND- RENAL/URINARY TRACT SCAN                 </td><td>Imaging     </td><td>   3</td></tr>\n",
       "\t<tr><td>LIMITED ULTRASOUND- RENAL/URINARY TRACT SCAN                 </td><td>Procedures  </td><td> 309</td></tr>\n",
       "\t<tr><td>Limited Ultrasound- Soft Tissue Abscess Evaluation           </td><td>Imaging     </td><td>   2</td></tr>\n",
       "\t<tr><td>Limited Ultrasound- Soft Tissue Abscess Evaluation           </td><td>Procedures  </td><td>  21</td></tr>\n",
       "\t<tr><td>LIMITED ULTRASOUND- SOFT TISSUE ABSCESS EVALUATION           </td><td>Imaging     </td><td>   2</td></tr>\n",
       "\t<tr><td>LIMITED ULTRASOUND- SOFT TISSUE ABSCESS EVALUATION           </td><td>Procedures  </td><td> 156</td></tr>\n",
       "\t<tr><td>LIMITED ULTRASOUND- THORACIC/CHEST SCAN                      </td><td>Imaging     </td><td>  28</td></tr>\n",
       "\t<tr><td>LIMITED ULTRASOUND- THORACIC/CHEST SCAN                      </td><td>Procedures  </td><td>1102</td></tr>\n",
       "\t<tr><td>LIMITED ULTRASOUND- TRANSABDOMINAL PREGNANT PELVIC SCAN      </td><td>Imaging     </td><td>   1</td></tr>\n",
       "\t<tr><td>LIMITED ULTRASOUND- TRANSABDOMINAL PREGNANT PELVIC SCAN      </td><td>Procedures  </td><td>  28</td></tr>\n",
       "\t<tr><td>Limited Ultrasound- US-guided Paracentesis                   </td><td>Imaging     </td><td>   2</td></tr>\n",
       "\t<tr><td>Limited Ultrasound- US-guided Paracentesis                   </td><td>Procedures  </td><td>  56</td></tr>\n",
       "\t<tr><td>Limited Ultrasound- US-guided Peripheral IV                  </td><td>Imaging     </td><td>   3</td></tr>\n",
       "\t<tr><td>Limited Ultrasound- US-guided Peripheral IV                  </td><td>Procedures  </td><td>  12</td></tr>\n",
       "\t<tr><td>M. TUBERCULOSIS PCR, SPECIMEN                                </td><td>Lab         </td><td>  38</td></tr>\n",
       "\t<tr><td>M. TUBERCULOSIS PCR, SPECIMEN                                </td><td>Microbiology</td><td>  52</td></tr>\n",
       "\t<tr><td>QUANTIFERON TEST FOR LATENT TB                               </td><td>Lab         </td><td>3143</td></tr>\n",
       "\t<tr><td>QUANTIFERON TEST FOR LATENT TB                               </td><td>Microbiology</td><td>   1</td></tr>\n",
       "</tbody>\n",
       "</table>\n"
      ],
      "text/latex": [
       "A grouped\\_df: 66 × 3\n",
       "\\begin{tabular}{lll}\n",
       " features & feature\\_type & n\\\\\n",
       " <chr> & <chr> & <int>\\\\\n",
       "\\hline\n",
       "\t ARTERIAL BLOOD GAS                                            & Lab          & 5348\\\\\n",
       "\t ARTERIAL BLOOD GAS                                            & Procedures   &   53\\\\\n",
       "\t ASPERGILLUS GALACTOMANNAN                                     & Lab          &   73\\\\\n",
       "\t ASPERGILLUS GALACTOMANNAN                                     & Microbiology &   18\\\\\n",
       "\t BETA STREP THROAT SCREEN RAPID EIA                            & Lab          &  355\\\\\n",
       "\t BETA STREP THROAT SCREEN RAPID EIA                            & Microbiology &    3\\\\\n",
       "\t BORDETELLA PERTUSSIS PCR                                      & Lab          &   41\\\\\n",
       "\t BORDETELLA PERTUSSIS PCR                                      & Microbiology &   27\\\\\n",
       "\t CRYPTOSPORIDIUM EIA                                           & Lab          &    1\\\\\n",
       "\t CRYPTOSPORIDIUM EIA                                           & Microbiology &    6\\\\\n",
       "\t CULTURE, THROAT                                               & Lab          &    4\\\\\n",
       "\t CULTURE, THROAT                                               & Microbiology &    5\\\\\n",
       "\t HELICOBACTER PYLORI AB                                        & Lab          &  403\\\\\n",
       "\t HELICOBACTER PYLORI AB                                        & Microbiology &   19\\\\\n",
       "\t HELICOBACTER PYLORI AG, STOOL                                 & Lab          &   86\\\\\n",
       "\t HELICOBACTER PYLORI AG, STOOL                                 & Microbiology &   33\\\\\n",
       "\t Limited Ultrasound- Abdominal Aorta (Limited Retroperitoneal) & Imaging      &    5\\\\\n",
       "\t Limited Ultrasound- Abdominal Aorta (Limited Retroperitoneal) & Procedures   &   32\\\\\n",
       "\t LIMITED ULTRASOUND- ABDOMINAL AORTA (LIMITED RETROPERITONEAL) & Imaging      &    5\\\\\n",
       "\t LIMITED ULTRASOUND- ABDOMINAL AORTA (LIMITED RETROPERITONEAL) & Procedures   &  270\\\\\n",
       "\t Limited Ultrasound- Cardiac Transthoracic ECHO                & Imaging      &   61\\\\\n",
       "\t Limited Ultrasound- Cardiac Transthoracic ECHO                & Procedures   &  372\\\\\n",
       "\t LIMITED ULTRASOUND- CARDIAC TRANSTHORACIC ECHO                & Imaging      &   61\\\\\n",
       "\t LIMITED ULTRASOUND- CARDIAC TRANSTHORACIC ECHO                & Procedures   & 2167\\\\\n",
       "\t Limited Ultrasound- Chest/Lung/Thoracic                       & Imaging      &   28\\\\\n",
       "\t Limited Ultrasound- Chest/Lung/Thoracic                       & Procedures   &  180\\\\\n",
       "\t Limited Ultrasound- FAST/EFAST Scan                           & Imaging      &   21\\\\\n",
       "\t Limited Ultrasound- FAST/EFAST Scan                           & Procedures   &  159\\\\\n",
       "\t LIMITED ULTRASOUND- FAST/EFAST SCAN                           & Imaging      &   21\\\\\n",
       "\t LIMITED ULTRASOUND- FAST/EFAST SCAN                           & Procedures   & 1048\\\\\n",
       "\t Limited Ultrasound- Gallbladder Scan                          & Imaging      &    7\\\\\n",
       "\t Limited Ultrasound- Gallbladder Scan                          & Procedures   &   40\\\\\n",
       "\t LIMITED ULTRASOUND- GALLBLADDER SCAN                          & Imaging      &    7\\\\\n",
       "\t LIMITED ULTRASOUND- GALLBLADDER SCAN                          & Procedures   &  370\\\\\n",
       "\t Limited Ultrasound- IVC Scan (Limited Retroperitoneal)        & Imaging      &   23\\\\\n",
       "\t Limited Ultrasound- IVC Scan (Limited Retroperitoneal)        & Procedures   &  131\\\\\n",
       "\t LIMITED ULTRASOUND- IVC SCAN (LIMITED RETROPERITONEAL)        & Imaging      &   23\\\\\n",
       "\t LIMITED ULTRASOUND- IVC SCAN (LIMITED RETROPERITONEAL)        & Procedures   &  927\\\\\n",
       "\t LIMITED ULTRASOUND- OCULAR US                                 & Imaging      &    2\\\\\n",
       "\t LIMITED ULTRASOUND- OCULAR US                                 & Procedures   &   74\\\\\n",
       "\t LIMITED ULTRASOUND- PARACENTESIS FLUID LOCALIZATION           & Imaging      &    2\\\\\n",
       "\t LIMITED ULTRASOUND- PARACENTESIS FLUID LOCALIZATION           & Procedures   &  186\\\\\n",
       "\t Limited Ultrasound- Pelvic, Transabdominal pregnant scan      & Imaging      &    1\\\\\n",
       "\t Limited Ultrasound- Pelvic, Transabdominal pregnant scan      & Procedures   &    3\\\\\n",
       "\t LIMITED ULTRASOUND- PERIPHERAL IV ACCESS                      & Imaging      &   77\\\\\n",
       "\t LIMITED ULTRASOUND- PERIPHERAL IV ACCESS                      & Procedures   & 1326\\\\\n",
       "\t Limited Ultrasound- Renal/Urinary Tract Scan                  & Imaging      &    3\\\\\n",
       "\t Limited Ultrasound- Renal/Urinary Tract Scan                  & Procedures   &   38\\\\\n",
       "\t LIMITED ULTRASOUND- RENAL/URINARY TRACT SCAN                  & Imaging      &    3\\\\\n",
       "\t LIMITED ULTRASOUND- RENAL/URINARY TRACT SCAN                  & Procedures   &  309\\\\\n",
       "\t Limited Ultrasound- Soft Tissue Abscess Evaluation            & Imaging      &    2\\\\\n",
       "\t Limited Ultrasound- Soft Tissue Abscess Evaluation            & Procedures   &   21\\\\\n",
       "\t LIMITED ULTRASOUND- SOFT TISSUE ABSCESS EVALUATION            & Imaging      &    2\\\\\n",
       "\t LIMITED ULTRASOUND- SOFT TISSUE ABSCESS EVALUATION            & Procedures   &  156\\\\\n",
       "\t LIMITED ULTRASOUND- THORACIC/CHEST SCAN                       & Imaging      &   28\\\\\n",
       "\t LIMITED ULTRASOUND- THORACIC/CHEST SCAN                       & Procedures   & 1102\\\\\n",
       "\t LIMITED ULTRASOUND- TRANSABDOMINAL PREGNANT PELVIC SCAN       & Imaging      &    1\\\\\n",
       "\t LIMITED ULTRASOUND- TRANSABDOMINAL PREGNANT PELVIC SCAN       & Procedures   &   28\\\\\n",
       "\t Limited Ultrasound- US-guided Paracentesis                    & Imaging      &    2\\\\\n",
       "\t Limited Ultrasound- US-guided Paracentesis                    & Procedures   &   56\\\\\n",
       "\t Limited Ultrasound- US-guided Peripheral IV                   & Imaging      &    3\\\\\n",
       "\t Limited Ultrasound- US-guided Peripheral IV                   & Procedures   &   12\\\\\n",
       "\t M. TUBERCULOSIS PCR, SPECIMEN                                 & Lab          &   38\\\\\n",
       "\t M. TUBERCULOSIS PCR, SPECIMEN                                 & Microbiology &   52\\\\\n",
       "\t QUANTIFERON TEST FOR LATENT TB                                & Lab          & 3143\\\\\n",
       "\t QUANTIFERON TEST FOR LATENT TB                                & Microbiology &    1\\\\\n",
       "\\end{tabular}\n"
      ],
      "text/markdown": [
       "\n",
       "A grouped_df: 66 × 3\n",
       "\n",
       "| features &lt;chr&gt; | feature_type &lt;chr&gt; | n &lt;int&gt; |\n",
       "|---|---|---|\n",
       "| ARTERIAL BLOOD GAS                                            | Lab          | 5348 |\n",
       "| ARTERIAL BLOOD GAS                                            | Procedures   |   53 |\n",
       "| ASPERGILLUS GALACTOMANNAN                                     | Lab          |   73 |\n",
       "| ASPERGILLUS GALACTOMANNAN                                     | Microbiology |   18 |\n",
       "| BETA STREP THROAT SCREEN RAPID EIA                            | Lab          |  355 |\n",
       "| BETA STREP THROAT SCREEN RAPID EIA                            | Microbiology |    3 |\n",
       "| BORDETELLA PERTUSSIS PCR                                      | Lab          |   41 |\n",
       "| BORDETELLA PERTUSSIS PCR                                      | Microbiology |   27 |\n",
       "| CRYPTOSPORIDIUM EIA                                           | Lab          |    1 |\n",
       "| CRYPTOSPORIDIUM EIA                                           | Microbiology |    6 |\n",
       "| CULTURE, THROAT                                               | Lab          |    4 |\n",
       "| CULTURE, THROAT                                               | Microbiology |    5 |\n",
       "| HELICOBACTER PYLORI AB                                        | Lab          |  403 |\n",
       "| HELICOBACTER PYLORI AB                                        | Microbiology |   19 |\n",
       "| HELICOBACTER PYLORI AG, STOOL                                 | Lab          |   86 |\n",
       "| HELICOBACTER PYLORI AG, STOOL                                 | Microbiology |   33 |\n",
       "| Limited Ultrasound- Abdominal Aorta (Limited Retroperitoneal) | Imaging      |    5 |\n",
       "| Limited Ultrasound- Abdominal Aorta (Limited Retroperitoneal) | Procedures   |   32 |\n",
       "| LIMITED ULTRASOUND- ABDOMINAL AORTA (LIMITED RETROPERITONEAL) | Imaging      |    5 |\n",
       "| LIMITED ULTRASOUND- ABDOMINAL AORTA (LIMITED RETROPERITONEAL) | Procedures   |  270 |\n",
       "| Limited Ultrasound- Cardiac Transthoracic ECHO                | Imaging      |   61 |\n",
       "| Limited Ultrasound- Cardiac Transthoracic ECHO                | Procedures   |  372 |\n",
       "| LIMITED ULTRASOUND- CARDIAC TRANSTHORACIC ECHO                | Imaging      |   61 |\n",
       "| LIMITED ULTRASOUND- CARDIAC TRANSTHORACIC ECHO                | Procedures   | 2167 |\n",
       "| Limited Ultrasound- Chest/Lung/Thoracic                       | Imaging      |   28 |\n",
       "| Limited Ultrasound- Chest/Lung/Thoracic                       | Procedures   |  180 |\n",
       "| Limited Ultrasound- FAST/EFAST Scan                           | Imaging      |   21 |\n",
       "| Limited Ultrasound- FAST/EFAST Scan                           | Procedures   |  159 |\n",
       "| LIMITED ULTRASOUND- FAST/EFAST SCAN                           | Imaging      |   21 |\n",
       "| LIMITED ULTRASOUND- FAST/EFAST SCAN                           | Procedures   | 1048 |\n",
       "| Limited Ultrasound- Gallbladder Scan                          | Imaging      |    7 |\n",
       "| Limited Ultrasound- Gallbladder Scan                          | Procedures   |   40 |\n",
       "| LIMITED ULTRASOUND- GALLBLADDER SCAN                          | Imaging      |    7 |\n",
       "| LIMITED ULTRASOUND- GALLBLADDER SCAN                          | Procedures   |  370 |\n",
       "| Limited Ultrasound- IVC Scan (Limited Retroperitoneal)        | Imaging      |   23 |\n",
       "| Limited Ultrasound- IVC Scan (Limited Retroperitoneal)        | Procedures   |  131 |\n",
       "| LIMITED ULTRASOUND- IVC SCAN (LIMITED RETROPERITONEAL)        | Imaging      |   23 |\n",
       "| LIMITED ULTRASOUND- IVC SCAN (LIMITED RETROPERITONEAL)        | Procedures   |  927 |\n",
       "| LIMITED ULTRASOUND- OCULAR US                                 | Imaging      |    2 |\n",
       "| LIMITED ULTRASOUND- OCULAR US                                 | Procedures   |   74 |\n",
       "| LIMITED ULTRASOUND- PARACENTESIS FLUID LOCALIZATION           | Imaging      |    2 |\n",
       "| LIMITED ULTRASOUND- PARACENTESIS FLUID LOCALIZATION           | Procedures   |  186 |\n",
       "| Limited Ultrasound- Pelvic, Transabdominal pregnant scan      | Imaging      |    1 |\n",
       "| Limited Ultrasound- Pelvic, Transabdominal pregnant scan      | Procedures   |    3 |\n",
       "| LIMITED ULTRASOUND- PERIPHERAL IV ACCESS                      | Imaging      |   77 |\n",
       "| LIMITED ULTRASOUND- PERIPHERAL IV ACCESS                      | Procedures   | 1326 |\n",
       "| Limited Ultrasound- Renal/Urinary Tract Scan                  | Imaging      |    3 |\n",
       "| Limited Ultrasound- Renal/Urinary Tract Scan                  | Procedures   |   38 |\n",
       "| LIMITED ULTRASOUND- RENAL/URINARY TRACT SCAN                  | Imaging      |    3 |\n",
       "| LIMITED ULTRASOUND- RENAL/URINARY TRACT SCAN                  | Procedures   |  309 |\n",
       "| Limited Ultrasound- Soft Tissue Abscess Evaluation            | Imaging      |    2 |\n",
       "| Limited Ultrasound- Soft Tissue Abscess Evaluation            | Procedures   |   21 |\n",
       "| LIMITED ULTRASOUND- SOFT TISSUE ABSCESS EVALUATION            | Imaging      |    2 |\n",
       "| LIMITED ULTRASOUND- SOFT TISSUE ABSCESS EVALUATION            | Procedures   |  156 |\n",
       "| LIMITED ULTRASOUND- THORACIC/CHEST SCAN                       | Imaging      |   28 |\n",
       "| LIMITED ULTRASOUND- THORACIC/CHEST SCAN                       | Procedures   | 1102 |\n",
       "| LIMITED ULTRASOUND- TRANSABDOMINAL PREGNANT PELVIC SCAN       | Imaging      |    1 |\n",
       "| LIMITED ULTRASOUND- TRANSABDOMINAL PREGNANT PELVIC SCAN       | Procedures   |   28 |\n",
       "| Limited Ultrasound- US-guided Paracentesis                    | Imaging      |    2 |\n",
       "| Limited Ultrasound- US-guided Paracentesis                    | Procedures   |   56 |\n",
       "| Limited Ultrasound- US-guided Peripheral IV                   | Imaging      |    3 |\n",
       "| Limited Ultrasound- US-guided Peripheral IV                   | Procedures   |   12 |\n",
       "| M. TUBERCULOSIS PCR, SPECIMEN                                 | Lab          |   38 |\n",
       "| M. TUBERCULOSIS PCR, SPECIMEN                                 | Microbiology |   52 |\n",
       "| QUANTIFERON TEST FOR LATENT TB                                | Lab          | 3143 |\n",
       "| QUANTIFERON TEST FOR LATENT TB                                | Microbiology |    1 |\n",
       "\n"
      ],
      "text/plain": [
       "   features                                                      feature_type\n",
       "1  ARTERIAL BLOOD GAS                                            Lab         \n",
       "2  ARTERIAL BLOOD GAS                                            Procedures  \n",
       "3  ASPERGILLUS GALACTOMANNAN                                     Lab         \n",
       "4  ASPERGILLUS GALACTOMANNAN                                     Microbiology\n",
       "5  BETA STREP THROAT SCREEN RAPID EIA                            Lab         \n",
       "6  BETA STREP THROAT SCREEN RAPID EIA                            Microbiology\n",
       "7  BORDETELLA PERTUSSIS PCR                                      Lab         \n",
       "8  BORDETELLA PERTUSSIS PCR                                      Microbiology\n",
       "9  CRYPTOSPORIDIUM EIA                                           Lab         \n",
       "10 CRYPTOSPORIDIUM EIA                                           Microbiology\n",
       "11 CULTURE, THROAT                                               Lab         \n",
       "12 CULTURE, THROAT                                               Microbiology\n",
       "13 HELICOBACTER PYLORI AB                                        Lab         \n",
       "14 HELICOBACTER PYLORI AB                                        Microbiology\n",
       "15 HELICOBACTER PYLORI AG, STOOL                                 Lab         \n",
       "16 HELICOBACTER PYLORI AG, STOOL                                 Microbiology\n",
       "17 Limited Ultrasound- Abdominal Aorta (Limited Retroperitoneal) Imaging     \n",
       "18 Limited Ultrasound- Abdominal Aorta (Limited Retroperitoneal) Procedures  \n",
       "19 LIMITED ULTRASOUND- ABDOMINAL AORTA (LIMITED RETROPERITONEAL) Imaging     \n",
       "20 LIMITED ULTRASOUND- ABDOMINAL AORTA (LIMITED RETROPERITONEAL) Procedures  \n",
       "21 Limited Ultrasound- Cardiac Transthoracic ECHO                Imaging     \n",
       "22 Limited Ultrasound- Cardiac Transthoracic ECHO                Procedures  \n",
       "23 LIMITED ULTRASOUND- CARDIAC TRANSTHORACIC ECHO                Imaging     \n",
       "24 LIMITED ULTRASOUND- CARDIAC TRANSTHORACIC ECHO                Procedures  \n",
       "25 Limited Ultrasound- Chest/Lung/Thoracic                       Imaging     \n",
       "26 Limited Ultrasound- Chest/Lung/Thoracic                       Procedures  \n",
       "27 Limited Ultrasound- FAST/EFAST Scan                           Imaging     \n",
       "28 Limited Ultrasound- FAST/EFAST Scan                           Procedures  \n",
       "29 LIMITED ULTRASOUND- FAST/EFAST SCAN                           Imaging     \n",
       "30 LIMITED ULTRASOUND- FAST/EFAST SCAN                           Procedures  \n",
       "31 Limited Ultrasound- Gallbladder Scan                          Imaging     \n",
       "32 Limited Ultrasound- Gallbladder Scan                          Procedures  \n",
       "33 LIMITED ULTRASOUND- GALLBLADDER SCAN                          Imaging     \n",
       "34 LIMITED ULTRASOUND- GALLBLADDER SCAN                          Procedures  \n",
       "35 Limited Ultrasound- IVC Scan (Limited Retroperitoneal)        Imaging     \n",
       "36 Limited Ultrasound- IVC Scan (Limited Retroperitoneal)        Procedures  \n",
       "37 LIMITED ULTRASOUND- IVC SCAN (LIMITED RETROPERITONEAL)        Imaging     \n",
       "38 LIMITED ULTRASOUND- IVC SCAN (LIMITED RETROPERITONEAL)        Procedures  \n",
       "39 LIMITED ULTRASOUND- OCULAR US                                 Imaging     \n",
       "40 LIMITED ULTRASOUND- OCULAR US                                 Procedures  \n",
       "41 LIMITED ULTRASOUND- PARACENTESIS FLUID LOCALIZATION           Imaging     \n",
       "42 LIMITED ULTRASOUND- PARACENTESIS FLUID LOCALIZATION           Procedures  \n",
       "43 Limited Ultrasound- Pelvic, Transabdominal pregnant scan      Imaging     \n",
       "44 Limited Ultrasound- Pelvic, Transabdominal pregnant scan      Procedures  \n",
       "45 LIMITED ULTRASOUND- PERIPHERAL IV ACCESS                      Imaging     \n",
       "46 LIMITED ULTRASOUND- PERIPHERAL IV ACCESS                      Procedures  \n",
       "47 Limited Ultrasound- Renal/Urinary Tract Scan                  Imaging     \n",
       "48 Limited Ultrasound- Renal/Urinary Tract Scan                  Procedures  \n",
       "49 LIMITED ULTRASOUND- RENAL/URINARY TRACT SCAN                  Imaging     \n",
       "50 LIMITED ULTRASOUND- RENAL/URINARY TRACT SCAN                  Procedures  \n",
       "51 Limited Ultrasound- Soft Tissue Abscess Evaluation            Imaging     \n",
       "52 Limited Ultrasound- Soft Tissue Abscess Evaluation            Procedures  \n",
       "53 LIMITED ULTRASOUND- SOFT TISSUE ABSCESS EVALUATION            Imaging     \n",
       "54 LIMITED ULTRASOUND- SOFT TISSUE ABSCESS EVALUATION            Procedures  \n",
       "55 LIMITED ULTRASOUND- THORACIC/CHEST SCAN                       Imaging     \n",
       "56 LIMITED ULTRASOUND- THORACIC/CHEST SCAN                       Procedures  \n",
       "57 LIMITED ULTRASOUND- TRANSABDOMINAL PREGNANT PELVIC SCAN       Imaging     \n",
       "58 LIMITED ULTRASOUND- TRANSABDOMINAL PREGNANT PELVIC SCAN       Procedures  \n",
       "59 Limited Ultrasound- US-guided Paracentesis                    Imaging     \n",
       "60 Limited Ultrasound- US-guided Paracentesis                    Procedures  \n",
       "61 Limited Ultrasound- US-guided Peripheral IV                   Imaging     \n",
       "62 Limited Ultrasound- US-guided Peripheral IV                   Procedures  \n",
       "63 M. TUBERCULOSIS PCR, SPECIMEN                                 Lab         \n",
       "64 M. TUBERCULOSIS PCR, SPECIMEN                                 Microbiology\n",
       "65 QUANTIFERON TEST FOR LATENT TB                                Lab         \n",
       "66 QUANTIFERON TEST FOR LATENT TB                                Microbiology\n",
       "   n   \n",
       "1  5348\n",
       "2    53\n",
       "3    73\n",
       "4    18\n",
       "5   355\n",
       "6     3\n",
       "7    41\n",
       "8    27\n",
       "9     1\n",
       "10    6\n",
       "11    4\n",
       "12    5\n",
       "13  403\n",
       "14   19\n",
       "15   86\n",
       "16   33\n",
       "17    5\n",
       "18   32\n",
       "19    5\n",
       "20  270\n",
       "21   61\n",
       "22  372\n",
       "23   61\n",
       "24 2167\n",
       "25   28\n",
       "26  180\n",
       "27   21\n",
       "28  159\n",
       "29   21\n",
       "30 1048\n",
       "31    7\n",
       "32   40\n",
       "33    7\n",
       "34  370\n",
       "35   23\n",
       "36  131\n",
       "37   23\n",
       "38  927\n",
       "39    2\n",
       "40   74\n",
       "41    2\n",
       "42  186\n",
       "43    1\n",
       "44    3\n",
       "45   77\n",
       "46 1326\n",
       "47    3\n",
       "48   38\n",
       "49    3\n",
       "50  309\n",
       "51    2\n",
       "52   21\n",
       "53    2\n",
       "54  156\n",
       "55   28\n",
       "56 1102\n",
       "57    1\n",
       "58   28\n",
       "59    2\n",
       "60   56\n",
       "61    3\n",
       "62   12\n",
       "63   38\n",
       "64   52\n",
       "65 3143\n",
       "66    1"
      ]
     },
     "metadata": {},
     "output_type": "display_data"
    }
   ],
   "source": [
    "features_all %>% filter(features %in% n2$features) %>% group_by(features, feature_type) %>% count()"
   ]
  },
  {
   "cell_type": "code",
   "execution_count": 83,
   "metadata": {},
   "outputs": [
    {
     "data": {
      "text/html": [
       "<table class=\"dataframe\">\n",
       "<caption>A grouped_df: 42234 × 3</caption>\n",
       "<thead>\n",
       "\t<tr><th scope=col>feature_type</th><th scope=col>features</th><th scope=col>n</th></tr>\n",
       "\t<tr><th scope=col>&lt;chr&gt;</th><th scope=col>&lt;chr&gt;</th><th scope=col>&lt;int&gt;</th></tr>\n",
       "</thead>\n",
       "<tbody>\n",
       "\t<tr><td>demo        </td><td>age                                       </td><td>41366</td></tr>\n",
       "\t<tr><td>demo        </td><td>delta_ESI                                 </td><td>41366</td></tr>\n",
       "\t<tr><td>demo        </td><td>delta_H                                   </td><td>41366</td></tr>\n",
       "\t<tr><td>demo        </td><td>delta_W                                   </td><td>41366</td></tr>\n",
       "\t<tr><td>demo        </td><td>English                                   </td><td>41366</td></tr>\n",
       "\t<tr><td>demo        </td><td>ESI_i                                     </td><td>41366</td></tr>\n",
       "\t<tr><td>demo        </td><td>gender                                    </td><td>41366</td></tr>\n",
       "\t<tr><td>demo        </td><td>Height_i                                  </td><td>41366</td></tr>\n",
       "\t<tr><td>demo        </td><td>insurance                                 </td><td>41366</td></tr>\n",
       "\t<tr><td>demo        </td><td>race.Asian                                </td><td>41366</td></tr>\n",
       "\t<tr><td>demo        </td><td>race.Black                                </td><td>41366</td></tr>\n",
       "\t<tr><td>demo        </td><td>race.Native.American                      </td><td>41366</td></tr>\n",
       "\t<tr><td>demo        </td><td>race.Other                                </td><td>41366</td></tr>\n",
       "\t<tr><td>demo        </td><td>race.Pacific.Islander                     </td><td>41366</td></tr>\n",
       "\t<tr><td>demo        </td><td>race.Unknown                              </td><td>41366</td></tr>\n",
       "\t<tr><td>demo        </td><td>race.White                                </td><td>41366</td></tr>\n",
       "\t<tr><td>demo        </td><td>Weight_i                                  </td><td>41366</td></tr>\n",
       "\t<tr><td>Lab         </td><td>METABOLIC PANEL, COMPREHENSIVE            </td><td>40120</td></tr>\n",
       "\t<tr><td>Lab         </td><td>CBC WITH DIFFERENTIAL                     </td><td>39102</td></tr>\n",
       "\t<tr><td>vitals_train</td><td>Temp_4                                    </td><td>31433</td></tr>\n",
       "\t<tr><td>Lab         </td><td>URINALYSIS SCREEN, CULTURE IF POSITIVE    </td><td>27924</td></tr>\n",
       "\t<tr><td>Lab         </td><td>PROTHROMBIN TIME                          </td><td>27170</td></tr>\n",
       "\t<tr><td>vitals_train</td><td>RR_3                                      </td><td>24995</td></tr>\n",
       "\t<tr><td>Meds        </td><td>ONDANSETRON HCL (PF) 4 MG/2 ML INJ SOLN   </td><td>24817</td></tr>\n",
       "\t<tr><td>Lab         </td><td>PTT PARTIAL THROMBOPLASTIN TIME           </td><td>23259</td></tr>\n",
       "\t<tr><td>Lab         </td><td>METABOLIC PANEL, BASIC                    </td><td>22633</td></tr>\n",
       "\t<tr><td>Lab         </td><td>CBC W/O DIFF                              </td><td>21638</td></tr>\n",
       "\t<tr><td>Lab         </td><td>MAGNESIUM, SERUM/PLASMA                   </td><td>21435</td></tr>\n",
       "\t<tr><td>Lab         </td><td>RAINBOW DRAW (FOR ED/RRT/CODE BLUE ONLY)  </td><td>20435</td></tr>\n",
       "\t<tr><td>Meds        </td><td>ACETAMINOPHEN 325 MG PO TABS              </td><td>20330</td></tr>\n",
       "\t<tr><td>Meds        </td><td>NS IV BOLUS                               </td><td>19611</td></tr>\n",
       "\t<tr><td>Diagnosis   </td><td>Z79.899                                   </td><td>19563</td></tr>\n",
       "\t<tr><td>Diagnosis   </td><td>I10                                       </td><td>18804</td></tr>\n",
       "\t<tr><td>Lab         </td><td>TYPE AND SCREEN                           </td><td>17628</td></tr>\n",
       "\t<tr><td>vitals_train</td><td>RR_1                                      </td><td>17538</td></tr>\n",
       "\t<tr><td>vitals_train</td><td>RR_5                                      </td><td>16977</td></tr>\n",
       "\t<tr><td>Lab         </td><td>ABO/RH (ARI)                              </td><td>16366</td></tr>\n",
       "\t<tr><td>Lab         </td><td>TROPONIN I                                </td><td>16350</td></tr>\n",
       "\t<tr><td>Lab         </td><td>AB SCREEN (ASI)                           </td><td>16235</td></tr>\n",
       "\t<tr><td>vitals_train</td><td>Temp_2                                    </td><td>15244</td></tr>\n",
       "\t<tr><td>Lab         </td><td>LIPASE                                    </td><td>15135</td></tr>\n",
       "\t<tr><td>Meds        </td><td>NALOXONE 0.4 MG/ML INJ SOLN               </td><td>14507</td></tr>\n",
       "\t<tr><td>Meds        </td><td>POLYETHYLENE GLYCOL 3350 17 GRAM PO PWPK  </td><td>14429</td></tr>\n",
       "\t<tr><td>Meds        </td><td>HYDROMORPHONE 1 MG/ML INJ SYRG            </td><td>14299</td></tr>\n",
       "\t<tr><td>Meds        </td><td>DOCUSATE SODIUM 100 MG PO CAPS            </td><td>14136</td></tr>\n",
       "\t<tr><td>vitals_train</td><td>DBP_6                                     </td><td>14052</td></tr>\n",
       "\t<tr><td>Diagnosis   </td><td>E78.5                                     </td><td>13980</td></tr>\n",
       "\t<tr><td>vitals_train</td><td>SBP_5                                     </td><td>13570</td></tr>\n",
       "\t<tr><td>Lab         </td><td>PHOSPHORUS, SERUM/PLASMA                  </td><td>13227</td></tr>\n",
       "\t<tr><td>Microbiology</td><td>BLOOD CULTURE (AEROBIC &amp; ANAEROBIC BOTTLE)</td><td>13139</td></tr>\n",
       "\t<tr><td>vitals_train</td><td>DBP_5                                     </td><td>12808</td></tr>\n",
       "\t<tr><td>vitals_train</td><td>DBP_4                                     </td><td>12666</td></tr>\n",
       "\t<tr><td>Lab         </td><td>TSH                                       </td><td>12657</td></tr>\n",
       "\t<tr><td>Lab         </td><td>HEMOGLOBIN A1C                            </td><td>12590</td></tr>\n",
       "\t<tr><td>Meds        </td><td>OXYCODONE 5 MG PO TABS                    </td><td>12583</td></tr>\n",
       "\t<tr><td>vitals_train</td><td>SBP_7                                     </td><td>12550</td></tr>\n",
       "\t<tr><td>vitals_train</td><td>SBP_4                                     </td><td>12544</td></tr>\n",
       "\t<tr><td>vitals_train</td><td>DBP_8                                     </td><td>12521</td></tr>\n",
       "\t<tr><td>Imaging     </td><td>XR CHEST 1 VIEW                           </td><td>12508</td></tr>\n",
       "\t<tr><td>vitals_train</td><td>SBP_6                                     </td><td>12457</td></tr>\n",
       "\t<tr><td>Diagnosis   </td><td>R06.02                                    </td><td>12426</td></tr>\n",
       "\t<tr><td>Meds        </td><td>NS IV BOLUS - 1000 ML                     </td><td>12390</td></tr>\n",
       "\t<tr><td>vitals_train</td><td>Pulse_4                                   </td><td>12346</td></tr>\n",
       "\t<tr><td>Lab         </td><td>URINALYSIS WITH MICROSCOPIC               </td><td>12256</td></tr>\n",
       "\t<tr><td>vitals_train</td><td>DBP_7                                     </td><td>12156</td></tr>\n",
       "\t<tr><td>vitals_train</td><td>SBP_3                                     </td><td>11873</td></tr>\n",
       "\t<tr><td>vitals_train</td><td>DBP_3                                     </td><td>11819</td></tr>\n",
       "\t<tr><td>vitals_train</td><td>Pulse_5                                   </td><td>11749</td></tr>\n",
       "\t<tr><td>Diagnosis   </td><td>Z23                                       </td><td>11658</td></tr>\n",
       "\t<tr><td>Meds        </td><td>ONDANSETRON 4 MG PO TBDL                  </td><td>11646</td></tr>\n",
       "\t<tr><td>vitals_train</td><td>DBP_2                                     </td><td>11641</td></tr>\n",
       "\t<tr><td>vitals_train</td><td>RR_6                                      </td><td>11634</td></tr>\n",
       "\t<tr><td>Meds        </td><td>MIDAZOLAM 1 MG/ML INJ SOLN                </td><td>11579</td></tr>\n",
       "\t<tr><td>vitals_train</td><td>SBP_2                                     </td><td>11428</td></tr>\n",
       "\t<tr><td>vitals_train</td><td>Temp_0                                    </td><td>11365</td></tr>\n",
       "\t<tr><td>vitals_train</td><td>Pulse_6                                   </td><td>11264</td></tr>\n",
       "\t<tr><td>vitals_train</td><td>SBP_8                                     </td><td>11207</td></tr>\n",
       "\t<tr><td>vitals_train</td><td>Pulse_3                                   </td><td>11205</td></tr>\n",
       "\t<tr><td>Meds        </td><td>SODIUM CHLORIDE 0.9 % 0.9 % IV SOLP       </td><td>11147</td></tr>\n",
       "\t<tr><td>Lab         </td><td>NT - PROBNP                               </td><td>11134</td></tr>\n",
       "\t<tr><td>Diagnosis   </td><td>Z01.818                                   </td><td>11120</td></tr>\n",
       "\t<tr><td>Diagnosis   </td><td>R10.9                                     </td><td>11118</td></tr>\n",
       "\t<tr><td>vitals_train</td><td>Pulse_7                                   </td><td>11101</td></tr>\n",
       "\t<tr><td>Meds        </td><td>DEXTROSE 50 % IN WATER (D50W) IV SYRG     </td><td>11098</td></tr>\n",
       "\t<tr><td>Microbiology</td><td>BLOOD CULTURE (2 AEROBIC BOTTLES)         </td><td>11066</td></tr>\n",
       "\t<tr><td>Diagnosis   </td><td>IMO0002                                   </td><td>11039</td></tr>\n",
       "\t<tr><td>Imaging     </td><td>XR CHEST 2 VIEWS                          </td><td>11029</td></tr>\n",
       "\t<tr><td>Diagnosis   </td><td>R91.8                                     </td><td>10995</td></tr>\n",
       "\t<tr><td>Diagnosis   </td><td>D64.9                                     </td><td>10897</td></tr>\n",
       "\t<tr><td>Meds        </td><td>ACETAMINOPHEN 500 MG PO TABS              </td><td>10801</td></tr>\n",
       "\t<tr><td>Diagnosis   </td><td>K21.9                                     </td><td>10797</td></tr>\n",
       "\t<tr><td>vitals_train</td><td>Pulse_8                                   </td><td>10796</td></tr>\n",
       "\t<tr><td>vitals_train</td><td>Temp_5                                    </td><td>10657</td></tr>\n",
       "\t<tr><td>Meds        </td><td>LIDOCAINE (PF) 10 MG/ML (1 %) INJ SOLN    </td><td>10638</td></tr>\n",
       "\t<tr><td>Diagnosis   </td><td>R07.9                                     </td><td>10320</td></tr>\n",
       "\t<tr><td>Diagnosis   </td><td>Z87.891                                   </td><td>10172</td></tr>\n",
       "\t<tr><td>Meds        </td><td>SENNOSIDES 8.6 MG PO TABS                 </td><td>10162</td></tr>\n",
       "\t<tr><td>Diagnosis   </td><td>R94.31                                    </td><td>10145</td></tr>\n",
       "\t<tr><td>vitals_train</td><td>RR_0                                      </td><td>10122</td></tr>\n",
       "\t<tr><td>vitals_train</td><td>Pulse_2                                   </td><td>10059</td></tr>\n",
       "\t<tr><td>⋮</td><td>⋮</td><td>⋮</td></tr>\n",
       "\t<tr><td>Procedures  </td><td>NEEDLE BIOPSY OF SALIVARY GLAND                                                  </td><td>1</td></tr>\n",
       "\t<tr><td>Procedures  </td><td>NEEDLE ELECTROMYGRPHY LTD 1 EXT/AXIAL UNI/BILAT                                  </td><td>1</td></tr>\n",
       "\t<tr><td><span style=white-space:pre-wrap>Procedures  </span></td><td><span style=white-space:pre-wrap>NEG PROESS WOUND TX, &lt;CM W/SNAP                                                  </span></td><td>1</td></tr>\n",
       "\t<tr><td>Procedures  </td><td>NJX INTERLAMINAR LMBR/SAC W/IMG GUIDANCE                                         </td><td>1</td></tr>\n",
       "\t<tr><td>Procedures  </td><td>NORMAL SALINE SOLUTION INFUSION 250 CC                                           </td><td>1</td></tr>\n",
       "\t<tr><td>Procedures  </td><td>OPHTH BIOMETRY/PART INTERFEROMETRY W/INTRAOC 2ND EYE                             </td><td>1</td></tr>\n",
       "\t<tr><td>Procedures  </td><td>OPHTHALMIC ULTRASOUND BIOMICROSCOPY(UBM)                                         </td><td>1</td></tr>\n",
       "\t<tr><td><span style=white-space:pre-wrap>Procedures  </span></td><td><span style=white-space:pre-wrap>ORTHOTIC MANAGEMENT &amp; TRAINING, EA 15MIN                                         </span></td><td>1</td></tr>\n",
       "\t<tr><td>Procedures  </td><td>ORTHOVISC 15MG/2ML                                                               </td><td>1</td></tr>\n",
       "\t<tr><td>Procedures  </td><td>OSCILLATING TRACKING TEST                                                        </td><td>1</td></tr>\n",
       "\t<tr><td>Procedures  </td><td>OTO OTOACOUSTIC EMISSIONS,LIMITED MMC                                            </td><td>1</td></tr>\n",
       "\t<tr><td>Procedures  </td><td>PENTAMIDINE AEROSOLIZED UHA                                                      </td><td>1</td></tr>\n",
       "\t<tr><td>Procedures  </td><td>PERATIVE UPPER GI ENDOSCOPY                                                      </td><td>1</td></tr>\n",
       "\t<tr><td>Procedures  </td><td>PESSARYW/RUBBER                                                                  </td><td>1</td></tr>\n",
       "\t<tr><td>Procedures  </td><td>PROCTOSIGMOIDOSCOPY                                                              </td><td>1</td></tr>\n",
       "\t<tr><td>Procedures  </td><td>PROF SERV ALLERGEN IMMUNOTHERAPY 2/MORE INJ                                      </td><td>1</td></tr>\n",
       "\t<tr><td>Procedures  </td><td>PRP INJECTION                                                                    </td><td>1</td></tr>\n",
       "\t<tr><td>Procedures  </td><td>PRP SUPPLIES                                                                     </td><td>1</td></tr>\n",
       "\t<tr><td>Procedures  </td><td>PSA SCREENING                                                                    </td><td>1</td></tr>\n",
       "\t<tr><td>Procedures  </td><td>PSYCHOLOGICAL TESTING, PER HR-TECH                                               </td><td>1</td></tr>\n",
       "\t<tr><td>Procedures  </td><td>PULM FUNCT TST PLETHYSMOGRAP                                                     </td><td>1</td></tr>\n",
       "\t<tr><td>Procedures  </td><td>Pulmonary Artery Catheter Insertion                                              </td><td>1</td></tr>\n",
       "\t<tr><td>Procedures  </td><td>PULMONARY STRESS TEST SIMPLE                                                     </td><td>1</td></tr>\n",
       "\t<tr><td>Procedures  </td><td>RADIESSE                                                                         </td><td>1</td></tr>\n",
       "\t<tr><td>Procedures  </td><td>reduction of R inguinal hernia                                                   </td><td>1</td></tr>\n",
       "\t<tr><td>Procedures  </td><td>REMOVAL OF BENIGN SKIN LESION FCE/EAR/EYELD/NSE/LIP, 2.1-3.0 CM                  </td><td>1</td></tr>\n",
       "\t<tr><td>Procedures  </td><td>REMOVAL OF BENIGN SKIN LESION SCLP/NCK/HNDS/FEET/GENIT.,4.0+CM                   </td><td>1</td></tr>\n",
       "\t<tr><td>Procedures  </td><td>REMOVAL OF BENIGN SKIN LESION TRNK/ARM/LEG,0.5CM OR LESS                         </td><td>1</td></tr>\n",
       "\t<tr><td>Procedures  </td><td>REMOVAL OF HEMORRHOID CLOT                                                       </td><td>1</td></tr>\n",
       "\t<tr><td>Procedures  </td><td>REMOVAL OF INNER EYE FLUID                                                       </td><td>1</td></tr>\n",
       "\t<tr><td>Procedures  </td><td>REMOVAL OF MALIG. SKIN LESION SCLP/NCK/HNDS/FEET/GENIT.,1.1-2.0 CM               </td><td>1</td></tr>\n",
       "\t<tr><td>Procedures  </td><td>REMOVAL OF MALIG. SKIN LESION SCLP/NCK/HNDS/FEET/GENIT.,2.1-3.0 CM               </td><td>1</td></tr>\n",
       "\t<tr><td>Procedures  </td><td>REMOVAL OF MALIG. SKIN LESION SCLP/NCK/HNDS/FEET/GENIT.,3.1-4.0 CM               </td><td>1</td></tr>\n",
       "\t<tr><td>Procedures  </td><td>REMOVAL OF MALIG. SKIN LESION TRNK/ARM/LEG, 4.0+CM                               </td><td>1</td></tr>\n",
       "\t<tr><td>Procedures  </td><td>REMOVAL OF PERMANENT INTRAPERITON                                                </td><td>1</td></tr>\n",
       "\t<tr><td><span style=white-space:pre-wrap>Procedures  </span></td><td><span style=white-space:pre-wrap>REMOVAL OF SKIN TAGS, EACH ADD'L 10 TAGS, &gt;15                                    </span></td><td>1</td></tr>\n",
       "\t<tr><td>Procedures  </td><td>REMOVAL OF SUTURES                                                               </td><td>1</td></tr>\n",
       "\t<tr><td>Procedures  </td><td>REMOVE EAR CANAL LESION(S)                                                       </td><td>1</td></tr>\n",
       "\t<tr><td>Procedures  </td><td>REMOVE IMPACTED EAR WAX UNI                                                      </td><td>1</td></tr>\n",
       "\t<tr><td>Procedures  </td><td>REPAIR COMPLEX WOUND FHD/CHN/MTH/NCK/GEN/HND/FT, 1.1-2.5 CM                      </td><td>1</td></tr>\n",
       "\t<tr><td>Procedures  </td><td>REPAIR EYELID DEFECT                                                             </td><td>1</td></tr>\n",
       "\t<tr><td>Procedures  </td><td>REPAIR MODIFICATION OF A HEARING AID                                             </td><td>1</td></tr>\n",
       "\t<tr><td>Procedures  </td><td>REPAIR SUPERFICIAL WOUND(S) SCLP/NCK/GEN/TRNK/EXT., 2.6-7.5 CM                   </td><td>1</td></tr>\n",
       "\t<tr><td>Procedures  </td><td>Right IJ HD catheter - US guidance                                               </td><td>1</td></tr>\n",
       "\t<tr><td>Procedures  </td><td>RMV WOUND TISS;NON-SELEC DEBRID W/O ANES/SESSION                                 </td><td>1</td></tr>\n",
       "\t<tr><td><span style=white-space:pre-wrap>Procedures  </span></td><td><span style=white-space:pre-wrap>SEMEN ANALYSIS SPERM PRESENCE&amp;/MOTILITY SPR                                      </span></td><td>1</td></tr>\n",
       "\t<tr><td>Procedures  </td><td>SHAVE SKIN LESION FCE/EAR/EYELID/NSE/LIP/MM,0.5 CM OR LESS                       </td><td>1</td></tr>\n",
       "\t<tr><td>Procedures  </td><td>SHAVE SKIN LESION TRUNK/ARMS/LEGS, 1.1-2.0 CM                                    </td><td>1</td></tr>\n",
       "\t<tr><td>Procedures  </td><td>SHC TXP EXTERNAL BLOOD GASES (MANUAL ENTRY)                                      </td><td>1</td></tr>\n",
       "\t<tr><td>Procedures  </td><td>SKIN SUBSTITUTE GRAFIX CORE 5X5 PER 1 SQ CM WASTE                                </td><td>1</td></tr>\n",
       "\t<tr><td>Procedures  </td><td>SKIN SUBSTITUTE, DERMAGRAFTR, PER 1 SQ CM                                        </td><td>1</td></tr>\n",
       "\t<tr><td>Procedures  </td><td>SKIN TISSUE REARRANGE ADD-ON                                                     </td><td>1</td></tr>\n",
       "\t<tr><td>Procedures  </td><td>SKYLA IUD                                                                        </td><td>1</td></tr>\n",
       "\t<tr><td>Procedures  </td><td>SLCTV CATH PLMT VEN SYS 1ST ORDER BRANCH                                         </td><td>1</td></tr>\n",
       "\t<tr><td>Procedures  </td><td>SMOKING AND TOBACCO USE CESSATION COUNSELING VISIT; INTS                         </td><td>1</td></tr>\n",
       "\t<tr><td>Procedures  </td><td>SMR PRIM SRC WET MOUNT NFCT AGT                                                  </td><td>1</td></tr>\n",
       "\t<tr><td>Procedures  </td><td>SNIP INC LACRIMAL PUNCTUM                                                        </td><td>1</td></tr>\n",
       "\t<tr><td>Procedures  </td><td>SPEC STAINS HISTOCHEM STAINING FROZEN SCTJ                                       </td><td>1</td></tr>\n",
       "\t<tr><td>Procedures  </td><td>SPECIAL REPORTS                                                                  </td><td>1</td></tr>\n",
       "\t<tr><td>Procedures  </td><td>SPEECH/HEARING EVALUATION                                                        </td><td>1</td></tr>\n",
       "\t<tr><td>Procedures  </td><td>SPIRACUR SNAP DEVICE                                                             </td><td>1</td></tr>\n",
       "\t<tr><td>Procedures  </td><td>SPLINT                                                                           </td><td>1</td></tr>\n",
       "\t<tr><td>Procedures  </td><td>STAPLE/SUTURE REMOVAL                                                            </td><td>1</td></tr>\n",
       "\t<tr><td>Procedures  </td><td>STSG, TRUNK/ARMS/LEGS, 1ST 100 CM SQ                                             </td><td>1</td></tr>\n",
       "\t<tr><td>Procedures  </td><td>SUPRAPUBIC BLADDER ASPIRATION                                                    </td><td>1</td></tr>\n",
       "\t<tr><td>Procedures  </td><td>SURGICAL SUPPLIES, MISC                                                          </td><td>1</td></tr>\n",
       "\t<tr><td>Procedures  </td><td>SURGICAL TRAY                                                                    </td><td>1</td></tr>\n",
       "\t<tr><td>Procedures  </td><td>Suture Placement                                                                 </td><td>1</td></tr>\n",
       "\t<tr><td>Procedures  </td><td>TAP BLOCK UNIL BY INJECTION                                                      </td><td>1</td></tr>\n",
       "\t<tr><td>Procedures  </td><td>TARSORRPHAPHY W/TRANS TARSAL PLATE                                               </td><td>1</td></tr>\n",
       "\t<tr><td>Procedures  </td><td>THERAPEUTIC TRANSCRANIAL REPETETIVE MAGNETIC STIM TX PLANNING                    </td><td>1</td></tr>\n",
       "\t<tr><td>Procedures  </td><td>Thoracentesis - R                                                                </td><td>1</td></tr>\n",
       "\t<tr><td>Procedures  </td><td>Thoracentesis - Right                                                            </td><td>1</td></tr>\n",
       "\t<tr><td>Procedures  </td><td>Thoracentesis -right                                                             </td><td>1</td></tr>\n",
       "\t<tr><td>Procedures  </td><td>Thoracentesis left                                                               </td><td>1</td></tr>\n",
       "\t<tr><td>Procedures  </td><td>Thoracentesis right                                                              </td><td>1</td></tr>\n",
       "\t<tr><td>Procedures  </td><td>Thoracentesis uncer US guidance                                                  </td><td>1</td></tr>\n",
       "\t<tr><td>Procedures  </td><td>THORACOTOMY                                                                      </td><td>1</td></tr>\n",
       "\t<tr><td>Procedures  </td><td>TOBACCO USE CESSATION INTERVENTION, COUNSELING                                   </td><td>1</td></tr>\n",
       "\t<tr><td>Procedures  </td><td>TRACHEOTOMY TUBE CHANGE PRIOR TO ESTABLISHMENT OF FISTULA TRACT                  </td><td>1</td></tr>\n",
       "\t<tr><td>Procedures  </td><td>TRANSCATH OCCLU OR EMBOLIZ, PERCUTANEOUS, ANY METHOD, NON-CENTRAL NERVOUS  SYSTEM</td><td>1</td></tr>\n",
       "\t<tr><td>Procedures  </td><td>Transvenous pacing                                                               </td><td>1</td></tr>\n",
       "\t<tr><td>Procedures  </td><td>TREATMENT OF CORNEAL LESION                                                      </td><td>1</td></tr>\n",
       "\t<tr><td>Procedures  </td><td>TREATMENT OF MISCARRIAGE 1ST TRIMESTER                                           </td><td>1</td></tr>\n",
       "\t<tr><td>Procedures  </td><td>Trialysis                                                                        </td><td>1</td></tr>\n",
       "\t<tr><td>Procedures  </td><td>TRIAMCINOLONE ACETONIDE (TRIESCENCE) 2MG/0.05ML                                  </td><td>1</td></tr>\n",
       "\t<tr><td>Procedures  </td><td>TRICHIASIS ONCE PER DAY WHEN CRYOSURGERY OR ELECTROSURGERY IS PERFORMED.         </td><td>1</td></tr>\n",
       "\t<tr><td>Procedures  </td><td>TX 360 BLOCK                                                                     </td><td>1</td></tr>\n",
       "\t<tr><td><span style=white-space:pre-wrap>Procedures  </span></td><td><span style=white-space:pre-wrap>TX SPEECH/LANG/VOICE &amp;/OR AUDITORY PROCESS                                       </span></td><td>1</td></tr>\n",
       "\t<tr><td><span style=white-space:pre-wrap>Procedures  </span></td><td><span style=white-space:pre-wrap>UHA DEBRIDEMENT OF NAIL(S) BY ANY METHOD(S) 6/&gt;                                  </span></td><td>1</td></tr>\n",
       "\t<tr><td>Procedures  </td><td>UNLIS PX NVRS SYS                                                                </td><td>1</td></tr>\n",
       "\t<tr><td>Procedures  </td><td>UNLISTED ALLERGY/CLINICAL IMMUNOLOGIC SERVCE                                     </td><td>1</td></tr>\n",
       "\t<tr><td>Procedures  </td><td>UPPR GI SCOPE W SUBMUC INJ                                                       </td><td>1</td></tr>\n",
       "\t<tr><td>Procedures  </td><td>USE PANEL ORDER                                                                  </td><td>1</td></tr>\n",
       "\t<tr><td>Procedures  </td><td>VERTEPORFIN INJECTION 0.1 MG                                                     </td><td>1</td></tr>\n",
       "\t<tr><td>Procedures  </td><td>WAVEFRONT-GUIDED LIFT SAME FLAP LASER                                            </td><td>1</td></tr>\n",
       "\t<tr><td>Procedures  </td><td>WOUND VAC                                                                        </td><td>1</td></tr>\n",
       "\t<tr><td>Procedures  </td><td>XIAFLEX 0.1MG                                                                    </td><td>1</td></tr>\n",
       "\t<tr><td>Procedures  </td><td>XIAFLEX 0.9MG                                                                    </td><td>1</td></tr>\n",
       "\t<tr><td>vitals_train</td><td>SBP_10                                                                           </td><td>1</td></tr>\n",
       "</tbody>\n",
       "</table>\n"
      ],
      "text/latex": [
       "A grouped\\_df: 42234 × 3\n",
       "\\begin{tabular}{lll}\n",
       " feature\\_type & features & n\\\\\n",
       " <chr> & <chr> & <int>\\\\\n",
       "\\hline\n",
       "\t demo         & age                                        & 41366\\\\\n",
       "\t demo         & delta\\_ESI                                  & 41366\\\\\n",
       "\t demo         & delta\\_H                                    & 41366\\\\\n",
       "\t demo         & delta\\_W                                    & 41366\\\\\n",
       "\t demo         & English                                    & 41366\\\\\n",
       "\t demo         & ESI\\_i                                      & 41366\\\\\n",
       "\t demo         & gender                                     & 41366\\\\\n",
       "\t demo         & Height\\_i                                   & 41366\\\\\n",
       "\t demo         & insurance                                  & 41366\\\\\n",
       "\t demo         & race.Asian                                 & 41366\\\\\n",
       "\t demo         & race.Black                                 & 41366\\\\\n",
       "\t demo         & race.Native.American                       & 41366\\\\\n",
       "\t demo         & race.Other                                 & 41366\\\\\n",
       "\t demo         & race.Pacific.Islander                      & 41366\\\\\n",
       "\t demo         & race.Unknown                               & 41366\\\\\n",
       "\t demo         & race.White                                 & 41366\\\\\n",
       "\t demo         & Weight\\_i                                   & 41366\\\\\n",
       "\t Lab          & METABOLIC PANEL, COMPREHENSIVE             & 40120\\\\\n",
       "\t Lab          & CBC WITH DIFFERENTIAL                      & 39102\\\\\n",
       "\t vitals\\_train & Temp\\_4                                     & 31433\\\\\n",
       "\t Lab          & URINALYSIS SCREEN, CULTURE IF POSITIVE     & 27924\\\\\n",
       "\t Lab          & PROTHROMBIN TIME                           & 27170\\\\\n",
       "\t vitals\\_train & RR\\_3                                       & 24995\\\\\n",
       "\t Meds         & ONDANSETRON HCL (PF) 4 MG/2 ML INJ SOLN    & 24817\\\\\n",
       "\t Lab          & PTT PARTIAL THROMBOPLASTIN TIME            & 23259\\\\\n",
       "\t Lab          & METABOLIC PANEL, BASIC                     & 22633\\\\\n",
       "\t Lab          & CBC W/O DIFF                               & 21638\\\\\n",
       "\t Lab          & MAGNESIUM, SERUM/PLASMA                    & 21435\\\\\n",
       "\t Lab          & RAINBOW DRAW (FOR ED/RRT/CODE BLUE ONLY)   & 20435\\\\\n",
       "\t Meds         & ACETAMINOPHEN 325 MG PO TABS               & 20330\\\\\n",
       "\t Meds         & NS IV BOLUS                                & 19611\\\\\n",
       "\t Diagnosis    & Z79.899                                    & 19563\\\\\n",
       "\t Diagnosis    & I10                                        & 18804\\\\\n",
       "\t Lab          & TYPE AND SCREEN                            & 17628\\\\\n",
       "\t vitals\\_train & RR\\_1                                       & 17538\\\\\n",
       "\t vitals\\_train & RR\\_5                                       & 16977\\\\\n",
       "\t Lab          & ABO/RH (ARI)                               & 16366\\\\\n",
       "\t Lab          & TROPONIN I                                 & 16350\\\\\n",
       "\t Lab          & AB SCREEN (ASI)                            & 16235\\\\\n",
       "\t vitals\\_train & Temp\\_2                                     & 15244\\\\\n",
       "\t Lab          & LIPASE                                     & 15135\\\\\n",
       "\t Meds         & NALOXONE 0.4 MG/ML INJ SOLN                & 14507\\\\\n",
       "\t Meds         & POLYETHYLENE GLYCOL 3350 17 GRAM PO PWPK   & 14429\\\\\n",
       "\t Meds         & HYDROMORPHONE 1 MG/ML INJ SYRG             & 14299\\\\\n",
       "\t Meds         & DOCUSATE SODIUM 100 MG PO CAPS             & 14136\\\\\n",
       "\t vitals\\_train & DBP\\_6                                      & 14052\\\\\n",
       "\t Diagnosis    & E78.5                                      & 13980\\\\\n",
       "\t vitals\\_train & SBP\\_5                                      & 13570\\\\\n",
       "\t Lab          & PHOSPHORUS, SERUM/PLASMA                   & 13227\\\\\n",
       "\t Microbiology & BLOOD CULTURE (AEROBIC \\& ANAEROBIC BOTTLE) & 13139\\\\\n",
       "\t vitals\\_train & DBP\\_5                                      & 12808\\\\\n",
       "\t vitals\\_train & DBP\\_4                                      & 12666\\\\\n",
       "\t Lab          & TSH                                        & 12657\\\\\n",
       "\t Lab          & HEMOGLOBIN A1C                             & 12590\\\\\n",
       "\t Meds         & OXYCODONE 5 MG PO TABS                     & 12583\\\\\n",
       "\t vitals\\_train & SBP\\_7                                      & 12550\\\\\n",
       "\t vitals\\_train & SBP\\_4                                      & 12544\\\\\n",
       "\t vitals\\_train & DBP\\_8                                      & 12521\\\\\n",
       "\t Imaging      & XR CHEST 1 VIEW                            & 12508\\\\\n",
       "\t vitals\\_train & SBP\\_6                                      & 12457\\\\\n",
       "\t Diagnosis    & R06.02                                     & 12426\\\\\n",
       "\t Meds         & NS IV BOLUS - 1000 ML                      & 12390\\\\\n",
       "\t vitals\\_train & Pulse\\_4                                    & 12346\\\\\n",
       "\t Lab          & URINALYSIS WITH MICROSCOPIC                & 12256\\\\\n",
       "\t vitals\\_train & DBP\\_7                                      & 12156\\\\\n",
       "\t vitals\\_train & SBP\\_3                                      & 11873\\\\\n",
       "\t vitals\\_train & DBP\\_3                                      & 11819\\\\\n",
       "\t vitals\\_train & Pulse\\_5                                    & 11749\\\\\n",
       "\t Diagnosis    & Z23                                        & 11658\\\\\n",
       "\t Meds         & ONDANSETRON 4 MG PO TBDL                   & 11646\\\\\n",
       "\t vitals\\_train & DBP\\_2                                      & 11641\\\\\n",
       "\t vitals\\_train & RR\\_6                                       & 11634\\\\\n",
       "\t Meds         & MIDAZOLAM 1 MG/ML INJ SOLN                 & 11579\\\\\n",
       "\t vitals\\_train & SBP\\_2                                      & 11428\\\\\n",
       "\t vitals\\_train & Temp\\_0                                     & 11365\\\\\n",
       "\t vitals\\_train & Pulse\\_6                                    & 11264\\\\\n",
       "\t vitals\\_train & SBP\\_8                                      & 11207\\\\\n",
       "\t vitals\\_train & Pulse\\_3                                    & 11205\\\\\n",
       "\t Meds         & SODIUM CHLORIDE 0.9 \\% 0.9 \\% IV SOLP        & 11147\\\\\n",
       "\t Lab          & NT - PROBNP                                & 11134\\\\\n",
       "\t Diagnosis    & Z01.818                                    & 11120\\\\\n",
       "\t Diagnosis    & R10.9                                      & 11118\\\\\n",
       "\t vitals\\_train & Pulse\\_7                                    & 11101\\\\\n",
       "\t Meds         & DEXTROSE 50 \\% IN WATER (D50W) IV SYRG      & 11098\\\\\n",
       "\t Microbiology & BLOOD CULTURE (2 AEROBIC BOTTLES)          & 11066\\\\\n",
       "\t Diagnosis    & IMO0002                                    & 11039\\\\\n",
       "\t Imaging      & XR CHEST 2 VIEWS                           & 11029\\\\\n",
       "\t Diagnosis    & R91.8                                      & 10995\\\\\n",
       "\t Diagnosis    & D64.9                                      & 10897\\\\\n",
       "\t Meds         & ACETAMINOPHEN 500 MG PO TABS               & 10801\\\\\n",
       "\t Diagnosis    & K21.9                                      & 10797\\\\\n",
       "\t vitals\\_train & Pulse\\_8                                    & 10796\\\\\n",
       "\t vitals\\_train & Temp\\_5                                     & 10657\\\\\n",
       "\t Meds         & LIDOCAINE (PF) 10 MG/ML (1 \\%) INJ SOLN     & 10638\\\\\n",
       "\t Diagnosis    & R07.9                                      & 10320\\\\\n",
       "\t Diagnosis    & Z87.891                                    & 10172\\\\\n",
       "\t Meds         & SENNOSIDES 8.6 MG PO TABS                  & 10162\\\\\n",
       "\t Diagnosis    & R94.31                                     & 10145\\\\\n",
       "\t vitals\\_train & RR\\_0                                       & 10122\\\\\n",
       "\t vitals\\_train & Pulse\\_2                                    & 10059\\\\\n",
       "\t ⋮ & ⋮ & ⋮\\\\\n",
       "\t Procedures   & NEEDLE BIOPSY OF SALIVARY GLAND                                                   & 1\\\\\n",
       "\t Procedures   & NEEDLE ELECTROMYGRPHY LTD 1 EXT/AXIAL UNI/BILAT                                   & 1\\\\\n",
       "\t Procedures   & NEG PROESS WOUND TX, <CM W/SNAP                                                   & 1\\\\\n",
       "\t Procedures   & NJX INTERLAMINAR LMBR/SAC W/IMG GUIDANCE                                          & 1\\\\\n",
       "\t Procedures   & NORMAL SALINE SOLUTION INFUSION 250 CC                                            & 1\\\\\n",
       "\t Procedures   & OPHTH BIOMETRY/PART INTERFEROMETRY W/INTRAOC 2ND EYE                              & 1\\\\\n",
       "\t Procedures   & OPHTHALMIC ULTRASOUND BIOMICROSCOPY(UBM)                                          & 1\\\\\n",
       "\t Procedures   & ORTHOTIC MANAGEMENT \\& TRAINING, EA 15MIN                                          & 1\\\\\n",
       "\t Procedures   & ORTHOVISC 15MG/2ML                                                                & 1\\\\\n",
       "\t Procedures   & OSCILLATING TRACKING TEST                                                         & 1\\\\\n",
       "\t Procedures   & OTO OTOACOUSTIC EMISSIONS,LIMITED MMC                                             & 1\\\\\n",
       "\t Procedures   & PENTAMIDINE AEROSOLIZED UHA                                                       & 1\\\\\n",
       "\t Procedures   & PERATIVE UPPER GI ENDOSCOPY                                                       & 1\\\\\n",
       "\t Procedures   & PESSARYW/RUBBER                                                                   & 1\\\\\n",
       "\t Procedures   & PROCTOSIGMOIDOSCOPY                                                               & 1\\\\\n",
       "\t Procedures   & PROF SERV ALLERGEN IMMUNOTHERAPY 2/MORE INJ                                       & 1\\\\\n",
       "\t Procedures   & PRP INJECTION                                                                     & 1\\\\\n",
       "\t Procedures   & PRP SUPPLIES                                                                      & 1\\\\\n",
       "\t Procedures   & PSA SCREENING                                                                     & 1\\\\\n",
       "\t Procedures   & PSYCHOLOGICAL TESTING, PER HR-TECH                                                & 1\\\\\n",
       "\t Procedures   & PULM FUNCT TST PLETHYSMOGRAP                                                      & 1\\\\\n",
       "\t Procedures   & Pulmonary Artery Catheter Insertion                                               & 1\\\\\n",
       "\t Procedures   & PULMONARY STRESS TEST SIMPLE                                                      & 1\\\\\n",
       "\t Procedures   & RADIESSE                                                                          & 1\\\\\n",
       "\t Procedures   & reduction of R inguinal hernia                                                    & 1\\\\\n",
       "\t Procedures   & REMOVAL OF BENIGN SKIN LESION FCE/EAR/EYELD/NSE/LIP, 2.1-3.0 CM                   & 1\\\\\n",
       "\t Procedures   & REMOVAL OF BENIGN SKIN LESION SCLP/NCK/HNDS/FEET/GENIT.,4.0+CM                    & 1\\\\\n",
       "\t Procedures   & REMOVAL OF BENIGN SKIN LESION TRNK/ARM/LEG,0.5CM OR LESS                          & 1\\\\\n",
       "\t Procedures   & REMOVAL OF HEMORRHOID CLOT                                                        & 1\\\\\n",
       "\t Procedures   & REMOVAL OF INNER EYE FLUID                                                        & 1\\\\\n",
       "\t Procedures   & REMOVAL OF MALIG. SKIN LESION SCLP/NCK/HNDS/FEET/GENIT.,1.1-2.0 CM                & 1\\\\\n",
       "\t Procedures   & REMOVAL OF MALIG. SKIN LESION SCLP/NCK/HNDS/FEET/GENIT.,2.1-3.0 CM                & 1\\\\\n",
       "\t Procedures   & REMOVAL OF MALIG. SKIN LESION SCLP/NCK/HNDS/FEET/GENIT.,3.1-4.0 CM                & 1\\\\\n",
       "\t Procedures   & REMOVAL OF MALIG. SKIN LESION TRNK/ARM/LEG, 4.0+CM                                & 1\\\\\n",
       "\t Procedures   & REMOVAL OF PERMANENT INTRAPERITON                                                 & 1\\\\\n",
       "\t Procedures   & REMOVAL OF SKIN TAGS, EACH ADD'L 10 TAGS, >15                                     & 1\\\\\n",
       "\t Procedures   & REMOVAL OF SUTURES                                                                & 1\\\\\n",
       "\t Procedures   & REMOVE EAR CANAL LESION(S)                                                        & 1\\\\\n",
       "\t Procedures   & REMOVE IMPACTED EAR WAX UNI                                                       & 1\\\\\n",
       "\t Procedures   & REPAIR COMPLEX WOUND FHD/CHN/MTH/NCK/GEN/HND/FT, 1.1-2.5 CM                       & 1\\\\\n",
       "\t Procedures   & REPAIR EYELID DEFECT                                                              & 1\\\\\n",
       "\t Procedures   & REPAIR MODIFICATION OF A HEARING AID                                              & 1\\\\\n",
       "\t Procedures   & REPAIR SUPERFICIAL WOUND(S) SCLP/NCK/GEN/TRNK/EXT., 2.6-7.5 CM                    & 1\\\\\n",
       "\t Procedures   & Right IJ HD catheter - US guidance                                                & 1\\\\\n",
       "\t Procedures   & RMV WOUND TISS;NON-SELEC DEBRID W/O ANES/SESSION                                  & 1\\\\\n",
       "\t Procedures   & SEMEN ANALYSIS SPERM PRESENCE\\&/MOTILITY SPR                                       & 1\\\\\n",
       "\t Procedures   & SHAVE SKIN LESION FCE/EAR/EYELID/NSE/LIP/MM,0.5 CM OR LESS                        & 1\\\\\n",
       "\t Procedures   & SHAVE SKIN LESION TRUNK/ARMS/LEGS, 1.1-2.0 CM                                     & 1\\\\\n",
       "\t Procedures   & SHC TXP EXTERNAL BLOOD GASES (MANUAL ENTRY)                                       & 1\\\\\n",
       "\t Procedures   & SKIN SUBSTITUTE GRAFIX CORE 5X5 PER 1 SQ CM WASTE                                 & 1\\\\\n",
       "\t Procedures   & SKIN SUBSTITUTE, DERMAGRAFTR, PER 1 SQ CM                                         & 1\\\\\n",
       "\t Procedures   & SKIN TISSUE REARRANGE ADD-ON                                                      & 1\\\\\n",
       "\t Procedures   & SKYLA IUD                                                                         & 1\\\\\n",
       "\t Procedures   & SLCTV CATH PLMT VEN SYS 1ST ORDER BRANCH                                          & 1\\\\\n",
       "\t Procedures   & SMOKING AND TOBACCO USE CESSATION COUNSELING VISIT; INTS                          & 1\\\\\n",
       "\t Procedures   & SMR PRIM SRC WET MOUNT NFCT AGT                                                   & 1\\\\\n",
       "\t Procedures   & SNIP INC LACRIMAL PUNCTUM                                                         & 1\\\\\n",
       "\t Procedures   & SPEC STAINS HISTOCHEM STAINING FROZEN SCTJ                                        & 1\\\\\n",
       "\t Procedures   & SPECIAL REPORTS                                                                   & 1\\\\\n",
       "\t Procedures   & SPEECH/HEARING EVALUATION                                                         & 1\\\\\n",
       "\t Procedures   & SPIRACUR SNAP DEVICE                                                              & 1\\\\\n",
       "\t Procedures   & SPLINT                                                                            & 1\\\\\n",
       "\t Procedures   & STAPLE/SUTURE REMOVAL                                                             & 1\\\\\n",
       "\t Procedures   & STSG, TRUNK/ARMS/LEGS, 1ST 100 CM SQ                                              & 1\\\\\n",
       "\t Procedures   & SUPRAPUBIC BLADDER ASPIRATION                                                     & 1\\\\\n",
       "\t Procedures   & SURGICAL SUPPLIES, MISC                                                           & 1\\\\\n",
       "\t Procedures   & SURGICAL TRAY                                                                     & 1\\\\\n",
       "\t Procedures   & Suture Placement                                                                  & 1\\\\\n",
       "\t Procedures   & TAP BLOCK UNIL BY INJECTION                                                       & 1\\\\\n",
       "\t Procedures   & TARSORRPHAPHY W/TRANS TARSAL PLATE                                                & 1\\\\\n",
       "\t Procedures   & THERAPEUTIC TRANSCRANIAL REPETETIVE MAGNETIC STIM TX PLANNING                     & 1\\\\\n",
       "\t Procedures   & Thoracentesis - R                                                                 & 1\\\\\n",
       "\t Procedures   & Thoracentesis - Right                                                             & 1\\\\\n",
       "\t Procedures   & Thoracentesis -right                                                              & 1\\\\\n",
       "\t Procedures   & Thoracentesis left                                                                & 1\\\\\n",
       "\t Procedures   & Thoracentesis right                                                               & 1\\\\\n",
       "\t Procedures   & Thoracentesis uncer US guidance                                                   & 1\\\\\n",
       "\t Procedures   & THORACOTOMY                                                                       & 1\\\\\n",
       "\t Procedures   & TOBACCO USE CESSATION INTERVENTION, COUNSELING                                    & 1\\\\\n",
       "\t Procedures   & TRACHEOTOMY TUBE CHANGE PRIOR TO ESTABLISHMENT OF FISTULA TRACT                   & 1\\\\\n",
       "\t Procedures   & TRANSCATH OCCLU OR EMBOLIZ, PERCUTANEOUS, ANY METHOD, NON-CENTRAL NERVOUS  SYSTEM & 1\\\\\n",
       "\t Procedures   & Transvenous pacing                                                                & 1\\\\\n",
       "\t Procedures   & TREATMENT OF CORNEAL LESION                                                       & 1\\\\\n",
       "\t Procedures   & TREATMENT OF MISCARRIAGE 1ST TRIMESTER                                            & 1\\\\\n",
       "\t Procedures   & Trialysis                                                                         & 1\\\\\n",
       "\t Procedures   & TRIAMCINOLONE ACETONIDE (TRIESCENCE) 2MG/0.05ML                                   & 1\\\\\n",
       "\t Procedures   & TRICHIASIS ONCE PER DAY WHEN CRYOSURGERY OR ELECTROSURGERY IS PERFORMED.          & 1\\\\\n",
       "\t Procedures   & TX 360 BLOCK                                                                      & 1\\\\\n",
       "\t Procedures   & TX SPEECH/LANG/VOICE \\&/OR AUDITORY PROCESS                                        & 1\\\\\n",
       "\t Procedures   & UHA DEBRIDEMENT OF NAIL(S) BY ANY METHOD(S) 6/>                                   & 1\\\\\n",
       "\t Procedures   & UNLIS PX NVRS SYS                                                                 & 1\\\\\n",
       "\t Procedures   & UNLISTED ALLERGY/CLINICAL IMMUNOLOGIC SERVCE                                      & 1\\\\\n",
       "\t Procedures   & UPPR GI SCOPE W SUBMUC INJ                                                        & 1\\\\\n",
       "\t Procedures   & USE PANEL ORDER                                                                   & 1\\\\\n",
       "\t Procedures   & VERTEPORFIN INJECTION 0.1 MG                                                      & 1\\\\\n",
       "\t Procedures   & WAVEFRONT-GUIDED LIFT SAME FLAP LASER                                             & 1\\\\\n",
       "\t Procedures   & WOUND VAC                                                                         & 1\\\\\n",
       "\t Procedures   & XIAFLEX 0.1MG                                                                     & 1\\\\\n",
       "\t Procedures   & XIAFLEX 0.9MG                                                                     & 1\\\\\n",
       "\t vitals\\_train & SBP\\_10                                                                            & 1\\\\\n",
       "\\end{tabular}\n"
      ],
      "text/markdown": [
       "\n",
       "A grouped_df: 42234 × 3\n",
       "\n",
       "| feature_type &lt;chr&gt; | features &lt;chr&gt; | n &lt;int&gt; |\n",
       "|---|---|---|\n",
       "| demo         | age                                        | 41366 |\n",
       "| demo         | delta_ESI                                  | 41366 |\n",
       "| demo         | delta_H                                    | 41366 |\n",
       "| demo         | delta_W                                    | 41366 |\n",
       "| demo         | English                                    | 41366 |\n",
       "| demo         | ESI_i                                      | 41366 |\n",
       "| demo         | gender                                     | 41366 |\n",
       "| demo         | Height_i                                   | 41366 |\n",
       "| demo         | insurance                                  | 41366 |\n",
       "| demo         | race.Asian                                 | 41366 |\n",
       "| demo         | race.Black                                 | 41366 |\n",
       "| demo         | race.Native.American                       | 41366 |\n",
       "| demo         | race.Other                                 | 41366 |\n",
       "| demo         | race.Pacific.Islander                      | 41366 |\n",
       "| demo         | race.Unknown                               | 41366 |\n",
       "| demo         | race.White                                 | 41366 |\n",
       "| demo         | Weight_i                                   | 41366 |\n",
       "| Lab          | METABOLIC PANEL, COMPREHENSIVE             | 40120 |\n",
       "| Lab          | CBC WITH DIFFERENTIAL                      | 39102 |\n",
       "| vitals_train | Temp_4                                     | 31433 |\n",
       "| Lab          | URINALYSIS SCREEN, CULTURE IF POSITIVE     | 27924 |\n",
       "| Lab          | PROTHROMBIN TIME                           | 27170 |\n",
       "| vitals_train | RR_3                                       | 24995 |\n",
       "| Meds         | ONDANSETRON HCL (PF) 4 MG/2 ML INJ SOLN    | 24817 |\n",
       "| Lab          | PTT PARTIAL THROMBOPLASTIN TIME            | 23259 |\n",
       "| Lab          | METABOLIC PANEL, BASIC                     | 22633 |\n",
       "| Lab          | CBC W/O DIFF                               | 21638 |\n",
       "| Lab          | MAGNESIUM, SERUM/PLASMA                    | 21435 |\n",
       "| Lab          | RAINBOW DRAW (FOR ED/RRT/CODE BLUE ONLY)   | 20435 |\n",
       "| Meds         | ACETAMINOPHEN 325 MG PO TABS               | 20330 |\n",
       "| Meds         | NS IV BOLUS                                | 19611 |\n",
       "| Diagnosis    | Z79.899                                    | 19563 |\n",
       "| Diagnosis    | I10                                        | 18804 |\n",
       "| Lab          | TYPE AND SCREEN                            | 17628 |\n",
       "| vitals_train | RR_1                                       | 17538 |\n",
       "| vitals_train | RR_5                                       | 16977 |\n",
       "| Lab          | ABO/RH (ARI)                               | 16366 |\n",
       "| Lab          | TROPONIN I                                 | 16350 |\n",
       "| Lab          | AB SCREEN (ASI)                            | 16235 |\n",
       "| vitals_train | Temp_2                                     | 15244 |\n",
       "| Lab          | LIPASE                                     | 15135 |\n",
       "| Meds         | NALOXONE 0.4 MG/ML INJ SOLN                | 14507 |\n",
       "| Meds         | POLYETHYLENE GLYCOL 3350 17 GRAM PO PWPK   | 14429 |\n",
       "| Meds         | HYDROMORPHONE 1 MG/ML INJ SYRG             | 14299 |\n",
       "| Meds         | DOCUSATE SODIUM 100 MG PO CAPS             | 14136 |\n",
       "| vitals_train | DBP_6                                      | 14052 |\n",
       "| Diagnosis    | E78.5                                      | 13980 |\n",
       "| vitals_train | SBP_5                                      | 13570 |\n",
       "| Lab          | PHOSPHORUS, SERUM/PLASMA                   | 13227 |\n",
       "| Microbiology | BLOOD CULTURE (AEROBIC &amp; ANAEROBIC BOTTLE) | 13139 |\n",
       "| vitals_train | DBP_5                                      | 12808 |\n",
       "| vitals_train | DBP_4                                      | 12666 |\n",
       "| Lab          | TSH                                        | 12657 |\n",
       "| Lab          | HEMOGLOBIN A1C                             | 12590 |\n",
       "| Meds         | OXYCODONE 5 MG PO TABS                     | 12583 |\n",
       "| vitals_train | SBP_7                                      | 12550 |\n",
       "| vitals_train | SBP_4                                      | 12544 |\n",
       "| vitals_train | DBP_8                                      | 12521 |\n",
       "| Imaging      | XR CHEST 1 VIEW                            | 12508 |\n",
       "| vitals_train | SBP_6                                      | 12457 |\n",
       "| Diagnosis    | R06.02                                     | 12426 |\n",
       "| Meds         | NS IV BOLUS - 1000 ML                      | 12390 |\n",
       "| vitals_train | Pulse_4                                    | 12346 |\n",
       "| Lab          | URINALYSIS WITH MICROSCOPIC                | 12256 |\n",
       "| vitals_train | DBP_7                                      | 12156 |\n",
       "| vitals_train | SBP_3                                      | 11873 |\n",
       "| vitals_train | DBP_3                                      | 11819 |\n",
       "| vitals_train | Pulse_5                                    | 11749 |\n",
       "| Diagnosis    | Z23                                        | 11658 |\n",
       "| Meds         | ONDANSETRON 4 MG PO TBDL                   | 11646 |\n",
       "| vitals_train | DBP_2                                      | 11641 |\n",
       "| vitals_train | RR_6                                       | 11634 |\n",
       "| Meds         | MIDAZOLAM 1 MG/ML INJ SOLN                 | 11579 |\n",
       "| vitals_train | SBP_2                                      | 11428 |\n",
       "| vitals_train | Temp_0                                     | 11365 |\n",
       "| vitals_train | Pulse_6                                    | 11264 |\n",
       "| vitals_train | SBP_8                                      | 11207 |\n",
       "| vitals_train | Pulse_3                                    | 11205 |\n",
       "| Meds         | SODIUM CHLORIDE 0.9 % 0.9 % IV SOLP        | 11147 |\n",
       "| Lab          | NT - PROBNP                                | 11134 |\n",
       "| Diagnosis    | Z01.818                                    | 11120 |\n",
       "| Diagnosis    | R10.9                                      | 11118 |\n",
       "| vitals_train | Pulse_7                                    | 11101 |\n",
       "| Meds         | DEXTROSE 50 % IN WATER (D50W) IV SYRG      | 11098 |\n",
       "| Microbiology | BLOOD CULTURE (2 AEROBIC BOTTLES)          | 11066 |\n",
       "| Diagnosis    | IMO0002                                    | 11039 |\n",
       "| Imaging      | XR CHEST 2 VIEWS                           | 11029 |\n",
       "| Diagnosis    | R91.8                                      | 10995 |\n",
       "| Diagnosis    | D64.9                                      | 10897 |\n",
       "| Meds         | ACETAMINOPHEN 500 MG PO TABS               | 10801 |\n",
       "| Diagnosis    | K21.9                                      | 10797 |\n",
       "| vitals_train | Pulse_8                                    | 10796 |\n",
       "| vitals_train | Temp_5                                     | 10657 |\n",
       "| Meds         | LIDOCAINE (PF) 10 MG/ML (1 %) INJ SOLN     | 10638 |\n",
       "| Diagnosis    | R07.9                                      | 10320 |\n",
       "| Diagnosis    | Z87.891                                    | 10172 |\n",
       "| Meds         | SENNOSIDES 8.6 MG PO TABS                  | 10162 |\n",
       "| Diagnosis    | R94.31                                     | 10145 |\n",
       "| vitals_train | RR_0                                       | 10122 |\n",
       "| vitals_train | Pulse_2                                    | 10059 |\n",
       "| ⋮ | ⋮ | ⋮ |\n",
       "| Procedures   | NEEDLE BIOPSY OF SALIVARY GLAND                                                   | 1 |\n",
       "| Procedures   | NEEDLE ELECTROMYGRPHY LTD 1 EXT/AXIAL UNI/BILAT                                   | 1 |\n",
       "| Procedures   | NEG PROESS WOUND TX, &lt;CM W/SNAP                                                   | 1 |\n",
       "| Procedures   | NJX INTERLAMINAR LMBR/SAC W/IMG GUIDANCE                                          | 1 |\n",
       "| Procedures   | NORMAL SALINE SOLUTION INFUSION 250 CC                                            | 1 |\n",
       "| Procedures   | OPHTH BIOMETRY/PART INTERFEROMETRY W/INTRAOC 2ND EYE                              | 1 |\n",
       "| Procedures   | OPHTHALMIC ULTRASOUND BIOMICROSCOPY(UBM)                                          | 1 |\n",
       "| Procedures   | ORTHOTIC MANAGEMENT &amp; TRAINING, EA 15MIN                                          | 1 |\n",
       "| Procedures   | ORTHOVISC 15MG/2ML                                                                | 1 |\n",
       "| Procedures   | OSCILLATING TRACKING TEST                                                         | 1 |\n",
       "| Procedures   | OTO OTOACOUSTIC EMISSIONS,LIMITED MMC                                             | 1 |\n",
       "| Procedures   | PENTAMIDINE AEROSOLIZED UHA                                                       | 1 |\n",
       "| Procedures   | PERATIVE UPPER GI ENDOSCOPY                                                       | 1 |\n",
       "| Procedures   | PESSARYW/RUBBER                                                                   | 1 |\n",
       "| Procedures   | PROCTOSIGMOIDOSCOPY                                                               | 1 |\n",
       "| Procedures   | PROF SERV ALLERGEN IMMUNOTHERAPY 2/MORE INJ                                       | 1 |\n",
       "| Procedures   | PRP INJECTION                                                                     | 1 |\n",
       "| Procedures   | PRP SUPPLIES                                                                      | 1 |\n",
       "| Procedures   | PSA SCREENING                                                                     | 1 |\n",
       "| Procedures   | PSYCHOLOGICAL TESTING, PER HR-TECH                                                | 1 |\n",
       "| Procedures   | PULM FUNCT TST PLETHYSMOGRAP                                                      | 1 |\n",
       "| Procedures   | Pulmonary Artery Catheter Insertion                                               | 1 |\n",
       "| Procedures   | PULMONARY STRESS TEST SIMPLE                                                      | 1 |\n",
       "| Procedures   | RADIESSE                                                                          | 1 |\n",
       "| Procedures   | reduction of R inguinal hernia                                                    | 1 |\n",
       "| Procedures   | REMOVAL OF BENIGN SKIN LESION FCE/EAR/EYELD/NSE/LIP, 2.1-3.0 CM                   | 1 |\n",
       "| Procedures   | REMOVAL OF BENIGN SKIN LESION SCLP/NCK/HNDS/FEET/GENIT.,4.0+CM                    | 1 |\n",
       "| Procedures   | REMOVAL OF BENIGN SKIN LESION TRNK/ARM/LEG,0.5CM OR LESS                          | 1 |\n",
       "| Procedures   | REMOVAL OF HEMORRHOID CLOT                                                        | 1 |\n",
       "| Procedures   | REMOVAL OF INNER EYE FLUID                                                        | 1 |\n",
       "| Procedures   | REMOVAL OF MALIG. SKIN LESION SCLP/NCK/HNDS/FEET/GENIT.,1.1-2.0 CM                | 1 |\n",
       "| Procedures   | REMOVAL OF MALIG. SKIN LESION SCLP/NCK/HNDS/FEET/GENIT.,2.1-3.0 CM                | 1 |\n",
       "| Procedures   | REMOVAL OF MALIG. SKIN LESION SCLP/NCK/HNDS/FEET/GENIT.,3.1-4.0 CM                | 1 |\n",
       "| Procedures   | REMOVAL OF MALIG. SKIN LESION TRNK/ARM/LEG, 4.0+CM                                | 1 |\n",
       "| Procedures   | REMOVAL OF PERMANENT INTRAPERITON                                                 | 1 |\n",
       "| Procedures   | REMOVAL OF SKIN TAGS, EACH ADD'L 10 TAGS, &gt;15                                     | 1 |\n",
       "| Procedures   | REMOVAL OF SUTURES                                                                | 1 |\n",
       "| Procedures   | REMOVE EAR CANAL LESION(S)                                                        | 1 |\n",
       "| Procedures   | REMOVE IMPACTED EAR WAX UNI                                                       | 1 |\n",
       "| Procedures   | REPAIR COMPLEX WOUND FHD/CHN/MTH/NCK/GEN/HND/FT, 1.1-2.5 CM                       | 1 |\n",
       "| Procedures   | REPAIR EYELID DEFECT                                                              | 1 |\n",
       "| Procedures   | REPAIR MODIFICATION OF A HEARING AID                                              | 1 |\n",
       "| Procedures   | REPAIR SUPERFICIAL WOUND(S) SCLP/NCK/GEN/TRNK/EXT., 2.6-7.5 CM                    | 1 |\n",
       "| Procedures   | Right IJ HD catheter - US guidance                                                | 1 |\n",
       "| Procedures   | RMV WOUND TISS;NON-SELEC DEBRID W/O ANES/SESSION                                  | 1 |\n",
       "| Procedures   | SEMEN ANALYSIS SPERM PRESENCE&amp;/MOTILITY SPR                                       | 1 |\n",
       "| Procedures   | SHAVE SKIN LESION FCE/EAR/EYELID/NSE/LIP/MM,0.5 CM OR LESS                        | 1 |\n",
       "| Procedures   | SHAVE SKIN LESION TRUNK/ARMS/LEGS, 1.1-2.0 CM                                     | 1 |\n",
       "| Procedures   | SHC TXP EXTERNAL BLOOD GASES (MANUAL ENTRY)                                       | 1 |\n",
       "| Procedures   | SKIN SUBSTITUTE GRAFIX CORE 5X5 PER 1 SQ CM WASTE                                 | 1 |\n",
       "| Procedures   | SKIN SUBSTITUTE, DERMAGRAFTR, PER 1 SQ CM                                         | 1 |\n",
       "| Procedures   | SKIN TISSUE REARRANGE ADD-ON                                                      | 1 |\n",
       "| Procedures   | SKYLA IUD                                                                         | 1 |\n",
       "| Procedures   | SLCTV CATH PLMT VEN SYS 1ST ORDER BRANCH                                          | 1 |\n",
       "| Procedures   | SMOKING AND TOBACCO USE CESSATION COUNSELING VISIT; INTS                          | 1 |\n",
       "| Procedures   | SMR PRIM SRC WET MOUNT NFCT AGT                                                   | 1 |\n",
       "| Procedures   | SNIP INC LACRIMAL PUNCTUM                                                         | 1 |\n",
       "| Procedures   | SPEC STAINS HISTOCHEM STAINING FROZEN SCTJ                                        | 1 |\n",
       "| Procedures   | SPECIAL REPORTS                                                                   | 1 |\n",
       "| Procedures   | SPEECH/HEARING EVALUATION                                                         | 1 |\n",
       "| Procedures   | SPIRACUR SNAP DEVICE                                                              | 1 |\n",
       "| Procedures   | SPLINT                                                                            | 1 |\n",
       "| Procedures   | STAPLE/SUTURE REMOVAL                                                             | 1 |\n",
       "| Procedures   | STSG, TRUNK/ARMS/LEGS, 1ST 100 CM SQ                                              | 1 |\n",
       "| Procedures   | SUPRAPUBIC BLADDER ASPIRATION                                                     | 1 |\n",
       "| Procedures   | SURGICAL SUPPLIES, MISC                                                           | 1 |\n",
       "| Procedures   | SURGICAL TRAY                                                                     | 1 |\n",
       "| Procedures   | Suture Placement                                                                  | 1 |\n",
       "| Procedures   | TAP BLOCK UNIL BY INJECTION                                                       | 1 |\n",
       "| Procedures   | TARSORRPHAPHY W/TRANS TARSAL PLATE                                                | 1 |\n",
       "| Procedures   | THERAPEUTIC TRANSCRANIAL REPETETIVE MAGNETIC STIM TX PLANNING                     | 1 |\n",
       "| Procedures   | Thoracentesis - R                                                                 | 1 |\n",
       "| Procedures   | Thoracentesis - Right                                                             | 1 |\n",
       "| Procedures   | Thoracentesis -right                                                              | 1 |\n",
       "| Procedures   | Thoracentesis left                                                                | 1 |\n",
       "| Procedures   | Thoracentesis right                                                               | 1 |\n",
       "| Procedures   | Thoracentesis uncer US guidance                                                   | 1 |\n",
       "| Procedures   | THORACOTOMY                                                                       | 1 |\n",
       "| Procedures   | TOBACCO USE CESSATION INTERVENTION, COUNSELING                                    | 1 |\n",
       "| Procedures   | TRACHEOTOMY TUBE CHANGE PRIOR TO ESTABLISHMENT OF FISTULA TRACT                   | 1 |\n",
       "| Procedures   | TRANSCATH OCCLU OR EMBOLIZ, PERCUTANEOUS, ANY METHOD, NON-CENTRAL NERVOUS  SYSTEM | 1 |\n",
       "| Procedures   | Transvenous pacing                                                                | 1 |\n",
       "| Procedures   | TREATMENT OF CORNEAL LESION                                                       | 1 |\n",
       "| Procedures   | TREATMENT OF MISCARRIAGE 1ST TRIMESTER                                            | 1 |\n",
       "| Procedures   | Trialysis                                                                         | 1 |\n",
       "| Procedures   | TRIAMCINOLONE ACETONIDE (TRIESCENCE) 2MG/0.05ML                                   | 1 |\n",
       "| Procedures   | TRICHIASIS ONCE PER DAY WHEN CRYOSURGERY OR ELECTROSURGERY IS PERFORMED.          | 1 |\n",
       "| Procedures   | TX 360 BLOCK                                                                      | 1 |\n",
       "| Procedures   | TX SPEECH/LANG/VOICE &amp;/OR AUDITORY PROCESS                                        | 1 |\n",
       "| Procedures   | UHA DEBRIDEMENT OF NAIL(S) BY ANY METHOD(S) 6/&gt;                                   | 1 |\n",
       "| Procedures   | UNLIS PX NVRS SYS                                                                 | 1 |\n",
       "| Procedures   | UNLISTED ALLERGY/CLINICAL IMMUNOLOGIC SERVCE                                      | 1 |\n",
       "| Procedures   | UPPR GI SCOPE W SUBMUC INJ                                                        | 1 |\n",
       "| Procedures   | USE PANEL ORDER                                                                   | 1 |\n",
       "| Procedures   | VERTEPORFIN INJECTION 0.1 MG                                                      | 1 |\n",
       "| Procedures   | WAVEFRONT-GUIDED LIFT SAME FLAP LASER                                             | 1 |\n",
       "| Procedures   | WOUND VAC                                                                         | 1 |\n",
       "| Procedures   | XIAFLEX 0.1MG                                                                     | 1 |\n",
       "| Procedures   | XIAFLEX 0.9MG                                                                     | 1 |\n",
       "| vitals_train | SBP_10                                                                            | 1 |\n",
       "\n"
      ],
      "text/plain": [
       "      feature_type\n",
       "1     demo        \n",
       "2     demo        \n",
       "3     demo        \n",
       "4     demo        \n",
       "5     demo        \n",
       "6     demo        \n",
       "7     demo        \n",
       "8     demo        \n",
       "9     demo        \n",
       "10    demo        \n",
       "11    demo        \n",
       "12    demo        \n",
       "13    demo        \n",
       "14    demo        \n",
       "15    demo        \n",
       "16    demo        \n",
       "17    demo        \n",
       "18    Lab         \n",
       "19    Lab         \n",
       "20    vitals_train\n",
       "21    Lab         \n",
       "22    Lab         \n",
       "23    vitals_train\n",
       "24    Meds        \n",
       "25    Lab         \n",
       "26    Lab         \n",
       "27    Lab         \n",
       "28    Lab         \n",
       "29    Lab         \n",
       "30    Meds        \n",
       "31    Meds        \n",
       "32    Diagnosis   \n",
       "33    Diagnosis   \n",
       "34    Lab         \n",
       "35    vitals_train\n",
       "36    vitals_train\n",
       "37    Lab         \n",
       "38    Lab         \n",
       "39    Lab         \n",
       "40    vitals_train\n",
       "41    Lab         \n",
       "42    Meds        \n",
       "43    Meds        \n",
       "44    Meds        \n",
       "45    Meds        \n",
       "46    vitals_train\n",
       "47    Diagnosis   \n",
       "48    vitals_train\n",
       "49    Lab         \n",
       "50    Microbiology\n",
       "51    vitals_train\n",
       "52    vitals_train\n",
       "53    Lab         \n",
       "54    Lab         \n",
       "55    Meds        \n",
       "56    vitals_train\n",
       "57    vitals_train\n",
       "58    vitals_train\n",
       "59    Imaging     \n",
       "60    vitals_train\n",
       "61    Diagnosis   \n",
       "62    Meds        \n",
       "63    vitals_train\n",
       "64    Lab         \n",
       "65    vitals_train\n",
       "66    vitals_train\n",
       "67    vitals_train\n",
       "68    vitals_train\n",
       "69    Diagnosis   \n",
       "70    Meds        \n",
       "71    vitals_train\n",
       "72    vitals_train\n",
       "73    Meds        \n",
       "74    vitals_train\n",
       "75    vitals_train\n",
       "76    vitals_train\n",
       "77    vitals_train\n",
       "78    vitals_train\n",
       "79    Meds        \n",
       "80    Lab         \n",
       "81    Diagnosis   \n",
       "82    Diagnosis   \n",
       "83    vitals_train\n",
       "84    Meds        \n",
       "85    Microbiology\n",
       "86    Diagnosis   \n",
       "87    Imaging     \n",
       "88    Diagnosis   \n",
       "89    Diagnosis   \n",
       "90    Meds        \n",
       "91    Diagnosis   \n",
       "92    vitals_train\n",
       "93    vitals_train\n",
       "94    Meds        \n",
       "95    Diagnosis   \n",
       "96    Diagnosis   \n",
       "97    Meds        \n",
       "98    Diagnosis   \n",
       "99    vitals_train\n",
       "100   vitals_train\n",
       "⋮     ⋮           \n",
       "42135 Procedures  \n",
       "42136 Procedures  \n",
       "42137 Procedures  \n",
       "42138 Procedures  \n",
       "42139 Procedures  \n",
       "42140 Procedures  \n",
       "42141 Procedures  \n",
       "42142 Procedures  \n",
       "42143 Procedures  \n",
       "42144 Procedures  \n",
       "42145 Procedures  \n",
       "42146 Procedures  \n",
       "42147 Procedures  \n",
       "42148 Procedures  \n",
       "42149 Procedures  \n",
       "42150 Procedures  \n",
       "42151 Procedures  \n",
       "42152 Procedures  \n",
       "42153 Procedures  \n",
       "42154 Procedures  \n",
       "42155 Procedures  \n",
       "42156 Procedures  \n",
       "42157 Procedures  \n",
       "42158 Procedures  \n",
       "42159 Procedures  \n",
       "42160 Procedures  \n",
       "42161 Procedures  \n",
       "42162 Procedures  \n",
       "42163 Procedures  \n",
       "42164 Procedures  \n",
       "42165 Procedures  \n",
       "42166 Procedures  \n",
       "42167 Procedures  \n",
       "42168 Procedures  \n",
       "42169 Procedures  \n",
       "42170 Procedures  \n",
       "42171 Procedures  \n",
       "42172 Procedures  \n",
       "42173 Procedures  \n",
       "42174 Procedures  \n",
       "42175 Procedures  \n",
       "42176 Procedures  \n",
       "42177 Procedures  \n",
       "42178 Procedures  \n",
       "42179 Procedures  \n",
       "42180 Procedures  \n",
       "42181 Procedures  \n",
       "42182 Procedures  \n",
       "42183 Procedures  \n",
       "42184 Procedures  \n",
       "42185 Procedures  \n",
       "42186 Procedures  \n",
       "42187 Procedures  \n",
       "42188 Procedures  \n",
       "42189 Procedures  \n",
       "42190 Procedures  \n",
       "42191 Procedures  \n",
       "42192 Procedures  \n",
       "42193 Procedures  \n",
       "42194 Procedures  \n",
       "42195 Procedures  \n",
       "42196 Procedures  \n",
       "42197 Procedures  \n",
       "42198 Procedures  \n",
       "42199 Procedures  \n",
       "42200 Procedures  \n",
       "42201 Procedures  \n",
       "42202 Procedures  \n",
       "42203 Procedures  \n",
       "42204 Procedures  \n",
       "42205 Procedures  \n",
       "42206 Procedures  \n",
       "42207 Procedures  \n",
       "42208 Procedures  \n",
       "42209 Procedures  \n",
       "42210 Procedures  \n",
       "42211 Procedures  \n",
       "42212 Procedures  \n",
       "42213 Procedures  \n",
       "42214 Procedures  \n",
       "42215 Procedures  \n",
       "42216 Procedures  \n",
       "42217 Procedures  \n",
       "42218 Procedures  \n",
       "42219 Procedures  \n",
       "42220 Procedures  \n",
       "42221 Procedures  \n",
       "42222 Procedures  \n",
       "42223 Procedures  \n",
       "42224 Procedures  \n",
       "42225 Procedures  \n",
       "42226 Procedures  \n",
       "42227 Procedures  \n",
       "42228 Procedures  \n",
       "42229 Procedures  \n",
       "42230 Procedures  \n",
       "42231 Procedures  \n",
       "42232 Procedures  \n",
       "42233 Procedures  \n",
       "42234 vitals_train\n",
       "      features                                                                         \n",
       "1     age                                                                              \n",
       "2     delta_ESI                                                                        \n",
       "3     delta_H                                                                          \n",
       "4     delta_W                                                                          \n",
       "5     English                                                                          \n",
       "6     ESI_i                                                                            \n",
       "7     gender                                                                           \n",
       "8     Height_i                                                                         \n",
       "9     insurance                                                                        \n",
       "10    race.Asian                                                                       \n",
       "11    race.Black                                                                       \n",
       "12    race.Native.American                                                             \n",
       "13    race.Other                                                                       \n",
       "14    race.Pacific.Islander                                                            \n",
       "15    race.Unknown                                                                     \n",
       "16    race.White                                                                       \n",
       "17    Weight_i                                                                         \n",
       "18    METABOLIC PANEL, COMPREHENSIVE                                                   \n",
       "19    CBC WITH DIFFERENTIAL                                                            \n",
       "20    Temp_4                                                                           \n",
       "21    URINALYSIS SCREEN, CULTURE IF POSITIVE                                           \n",
       "22    PROTHROMBIN TIME                                                                 \n",
       "23    RR_3                                                                             \n",
       "24    ONDANSETRON HCL (PF) 4 MG/2 ML INJ SOLN                                          \n",
       "25    PTT PARTIAL THROMBOPLASTIN TIME                                                  \n",
       "26    METABOLIC PANEL, BASIC                                                           \n",
       "27    CBC W/O DIFF                                                                     \n",
       "28    MAGNESIUM, SERUM/PLASMA                                                          \n",
       "29    RAINBOW DRAW (FOR ED/RRT/CODE BLUE ONLY)                                         \n",
       "30    ACETAMINOPHEN 325 MG PO TABS                                                     \n",
       "31    NS IV BOLUS                                                                      \n",
       "32    Z79.899                                                                          \n",
       "33    I10                                                                              \n",
       "34    TYPE AND SCREEN                                                                  \n",
       "35    RR_1                                                                             \n",
       "36    RR_5                                                                             \n",
       "37    ABO/RH (ARI)                                                                     \n",
       "38    TROPONIN I                                                                       \n",
       "39    AB SCREEN (ASI)                                                                  \n",
       "40    Temp_2                                                                           \n",
       "41    LIPASE                                                                           \n",
       "42    NALOXONE 0.4 MG/ML INJ SOLN                                                      \n",
       "43    POLYETHYLENE GLYCOL 3350 17 GRAM PO PWPK                                         \n",
       "44    HYDROMORPHONE 1 MG/ML INJ SYRG                                                   \n",
       "45    DOCUSATE SODIUM 100 MG PO CAPS                                                   \n",
       "46    DBP_6                                                                            \n",
       "47    E78.5                                                                            \n",
       "48    SBP_5                                                                            \n",
       "49    PHOSPHORUS, SERUM/PLASMA                                                         \n",
       "50    BLOOD CULTURE (AEROBIC & ANAEROBIC BOTTLE)                                       \n",
       "51    DBP_5                                                                            \n",
       "52    DBP_4                                                                            \n",
       "53    TSH                                                                              \n",
       "54    HEMOGLOBIN A1C                                                                   \n",
       "55    OXYCODONE 5 MG PO TABS                                                           \n",
       "56    SBP_7                                                                            \n",
       "57    SBP_4                                                                            \n",
       "58    DBP_8                                                                            \n",
       "59    XR CHEST 1 VIEW                                                                  \n",
       "60    SBP_6                                                                            \n",
       "61    R06.02                                                                           \n",
       "62    NS IV BOLUS - 1000 ML                                                            \n",
       "63    Pulse_4                                                                          \n",
       "64    URINALYSIS WITH MICROSCOPIC                                                      \n",
       "65    DBP_7                                                                            \n",
       "66    SBP_3                                                                            \n",
       "67    DBP_3                                                                            \n",
       "68    Pulse_5                                                                          \n",
       "69    Z23                                                                              \n",
       "70    ONDANSETRON 4 MG PO TBDL                                                         \n",
       "71    DBP_2                                                                            \n",
       "72    RR_6                                                                             \n",
       "73    MIDAZOLAM 1 MG/ML INJ SOLN                                                       \n",
       "74    SBP_2                                                                            \n",
       "75    Temp_0                                                                           \n",
       "76    Pulse_6                                                                          \n",
       "77    SBP_8                                                                            \n",
       "78    Pulse_3                                                                          \n",
       "79    SODIUM CHLORIDE 0.9 % 0.9 % IV SOLP                                              \n",
       "80    NT - PROBNP                                                                      \n",
       "81    Z01.818                                                                          \n",
       "82    R10.9                                                                            \n",
       "83    Pulse_7                                                                          \n",
       "84    DEXTROSE 50 % IN WATER (D50W) IV SYRG                                            \n",
       "85    BLOOD CULTURE (2 AEROBIC BOTTLES)                                                \n",
       "86    IMO0002                                                                          \n",
       "87    XR CHEST 2 VIEWS                                                                 \n",
       "88    R91.8                                                                            \n",
       "89    D64.9                                                                            \n",
       "90    ACETAMINOPHEN 500 MG PO TABS                                                     \n",
       "91    K21.9                                                                            \n",
       "92    Pulse_8                                                                          \n",
       "93    Temp_5                                                                           \n",
       "94    LIDOCAINE (PF) 10 MG/ML (1 %) INJ SOLN                                           \n",
       "95    R07.9                                                                            \n",
       "96    Z87.891                                                                          \n",
       "97    SENNOSIDES 8.6 MG PO TABS                                                        \n",
       "98    R94.31                                                                           \n",
       "99    RR_0                                                                             \n",
       "100   Pulse_2                                                                          \n",
       "⋮     ⋮                                                                                \n",
       "42135 NEEDLE BIOPSY OF SALIVARY GLAND                                                  \n",
       "42136 NEEDLE ELECTROMYGRPHY LTD 1 EXT/AXIAL UNI/BILAT                                  \n",
       "42137 NEG PROESS WOUND TX, <CM W/SNAP                                                  \n",
       "42138 NJX INTERLAMINAR LMBR/SAC W/IMG GUIDANCE                                         \n",
       "42139 NORMAL SALINE SOLUTION INFUSION 250 CC                                           \n",
       "42140 OPHTH BIOMETRY/PART INTERFEROMETRY W/INTRAOC 2ND EYE                             \n",
       "42141 OPHTHALMIC ULTRASOUND BIOMICROSCOPY(UBM)                                         \n",
       "42142 ORTHOTIC MANAGEMENT & TRAINING, EA 15MIN                                         \n",
       "42143 ORTHOVISC 15MG/2ML                                                               \n",
       "42144 OSCILLATING TRACKING TEST                                                        \n",
       "42145 OTO OTOACOUSTIC EMISSIONS,LIMITED MMC                                            \n",
       "42146 PENTAMIDINE AEROSOLIZED UHA                                                      \n",
       "42147 PERATIVE UPPER GI ENDOSCOPY                                                      \n",
       "42148 PESSARYW/RUBBER                                                                  \n",
       "42149 PROCTOSIGMOIDOSCOPY                                                              \n",
       "42150 PROF SERV ALLERGEN IMMUNOTHERAPY 2/MORE INJ                                      \n",
       "42151 PRP INJECTION                                                                    \n",
       "42152 PRP SUPPLIES                                                                     \n",
       "42153 PSA SCREENING                                                                    \n",
       "42154 PSYCHOLOGICAL TESTING, PER HR-TECH                                               \n",
       "42155 PULM FUNCT TST PLETHYSMOGRAP                                                     \n",
       "42156 Pulmonary Artery Catheter Insertion                                              \n",
       "42157 PULMONARY STRESS TEST SIMPLE                                                     \n",
       "42158 RADIESSE                                                                         \n",
       "42159 reduction of R inguinal hernia                                                   \n",
       "42160 REMOVAL OF BENIGN SKIN LESION FCE/EAR/EYELD/NSE/LIP, 2.1-3.0 CM                  \n",
       "42161 REMOVAL OF BENIGN SKIN LESION SCLP/NCK/HNDS/FEET/GENIT.,4.0+CM                   \n",
       "42162 REMOVAL OF BENIGN SKIN LESION TRNK/ARM/LEG,0.5CM OR LESS                         \n",
       "42163 REMOVAL OF HEMORRHOID CLOT                                                       \n",
       "42164 REMOVAL OF INNER EYE FLUID                                                       \n",
       "42165 REMOVAL OF MALIG. SKIN LESION SCLP/NCK/HNDS/FEET/GENIT.,1.1-2.0 CM               \n",
       "42166 REMOVAL OF MALIG. SKIN LESION SCLP/NCK/HNDS/FEET/GENIT.,2.1-3.0 CM               \n",
       "42167 REMOVAL OF MALIG. SKIN LESION SCLP/NCK/HNDS/FEET/GENIT.,3.1-4.0 CM               \n",
       "42168 REMOVAL OF MALIG. SKIN LESION TRNK/ARM/LEG, 4.0+CM                               \n",
       "42169 REMOVAL OF PERMANENT INTRAPERITON                                                \n",
       "42170 REMOVAL OF SKIN TAGS, EACH ADD'L 10 TAGS, >15                                    \n",
       "42171 REMOVAL OF SUTURES                                                               \n",
       "42172 REMOVE EAR CANAL LESION(S)                                                       \n",
       "42173 REMOVE IMPACTED EAR WAX UNI                                                      \n",
       "42174 REPAIR COMPLEX WOUND FHD/CHN/MTH/NCK/GEN/HND/FT, 1.1-2.5 CM                      \n",
       "42175 REPAIR EYELID DEFECT                                                             \n",
       "42176 REPAIR MODIFICATION OF A HEARING AID                                             \n",
       "42177 REPAIR SUPERFICIAL WOUND(S) SCLP/NCK/GEN/TRNK/EXT., 2.6-7.5 CM                   \n",
       "42178 Right IJ HD catheter - US guidance                                               \n",
       "42179 RMV WOUND TISS;NON-SELEC DEBRID W/O ANES/SESSION                                 \n",
       "42180 SEMEN ANALYSIS SPERM PRESENCE&/MOTILITY SPR                                      \n",
       "42181 SHAVE SKIN LESION FCE/EAR/EYELID/NSE/LIP/MM,0.5 CM OR LESS                       \n",
       "42182 SHAVE SKIN LESION TRUNK/ARMS/LEGS, 1.1-2.0 CM                                    \n",
       "42183 SHC TXP EXTERNAL BLOOD GASES (MANUAL ENTRY)                                      \n",
       "42184 SKIN SUBSTITUTE GRAFIX CORE 5X5 PER 1 SQ CM WASTE                                \n",
       "42185 SKIN SUBSTITUTE, DERMAGRAFTR, PER 1 SQ CM                                        \n",
       "42186 SKIN TISSUE REARRANGE ADD-ON                                                     \n",
       "42187 SKYLA IUD                                                                        \n",
       "42188 SLCTV CATH PLMT VEN SYS 1ST ORDER BRANCH                                         \n",
       "42189 SMOKING AND TOBACCO USE CESSATION COUNSELING VISIT; INTS                         \n",
       "42190 SMR PRIM SRC WET MOUNT NFCT AGT                                                  \n",
       "42191 SNIP INC LACRIMAL PUNCTUM                                                        \n",
       "42192 SPEC STAINS HISTOCHEM STAINING FROZEN SCTJ                                       \n",
       "42193 SPECIAL REPORTS                                                                  \n",
       "42194 SPEECH/HEARING EVALUATION                                                        \n",
       "42195 SPIRACUR SNAP DEVICE                                                             \n",
       "42196 SPLINT                                                                           \n",
       "42197 STAPLE/SUTURE REMOVAL                                                            \n",
       "42198 STSG, TRUNK/ARMS/LEGS, 1ST 100 CM SQ                                             \n",
       "42199 SUPRAPUBIC BLADDER ASPIRATION                                                    \n",
       "42200 SURGICAL SUPPLIES, MISC                                                          \n",
       "42201 SURGICAL TRAY                                                                    \n",
       "42202 Suture Placement                                                                 \n",
       "42203 TAP BLOCK UNIL BY INJECTION                                                      \n",
       "42204 TARSORRPHAPHY W/TRANS TARSAL PLATE                                               \n",
       "42205 THERAPEUTIC TRANSCRANIAL REPETETIVE MAGNETIC STIM TX PLANNING                    \n",
       "42206 Thoracentesis - R                                                                \n",
       "42207 Thoracentesis - Right                                                            \n",
       "42208 Thoracentesis -right                                                             \n",
       "42209 Thoracentesis left                                                               \n",
       "42210 Thoracentesis right                                                              \n",
       "42211 Thoracentesis uncer US guidance                                                  \n",
       "42212 THORACOTOMY                                                                      \n",
       "42213 TOBACCO USE CESSATION INTERVENTION, COUNSELING                                   \n",
       "42214 TRACHEOTOMY TUBE CHANGE PRIOR TO ESTABLISHMENT OF FISTULA TRACT                  \n",
       "42215 TRANSCATH OCCLU OR EMBOLIZ, PERCUTANEOUS, ANY METHOD, NON-CENTRAL NERVOUS  SYSTEM\n",
       "42216 Transvenous pacing                                                               \n",
       "42217 TREATMENT OF CORNEAL LESION                                                      \n",
       "42218 TREATMENT OF MISCARRIAGE 1ST TRIMESTER                                           \n",
       "42219 Trialysis                                                                        \n",
       "42220 TRIAMCINOLONE ACETONIDE (TRIESCENCE) 2MG/0.05ML                                  \n",
       "42221 TRICHIASIS ONCE PER DAY WHEN CRYOSURGERY OR ELECTROSURGERY IS PERFORMED.         \n",
       "42222 TX 360 BLOCK                                                                     \n",
       "42223 TX SPEECH/LANG/VOICE &/OR AUDITORY PROCESS                                       \n",
       "42224 UHA DEBRIDEMENT OF NAIL(S) BY ANY METHOD(S) 6/>                                  \n",
       "42225 UNLIS PX NVRS SYS                                                                \n",
       "42226 UNLISTED ALLERGY/CLINICAL IMMUNOLOGIC SERVCE                                     \n",
       "42227 UPPR GI SCOPE W SUBMUC INJ                                                       \n",
       "42228 USE PANEL ORDER                                                                  \n",
       "42229 VERTEPORFIN INJECTION 0.1 MG                                                     \n",
       "42230 WAVEFRONT-GUIDED LIFT SAME FLAP LASER                                            \n",
       "42231 WOUND VAC                                                                        \n",
       "42232 XIAFLEX 0.1MG                                                                    \n",
       "42233 XIAFLEX 0.9MG                                                                    \n",
       "42234 SBP_10                                                                           \n",
       "      n    \n",
       "1     41366\n",
       "2     41366\n",
       "3     41366\n",
       "4     41366\n",
       "5     41366\n",
       "6     41366\n",
       "7     41366\n",
       "8     41366\n",
       "9     41366\n",
       "10    41366\n",
       "11    41366\n",
       "12    41366\n",
       "13    41366\n",
       "14    41366\n",
       "15    41366\n",
       "16    41366\n",
       "17    41366\n",
       "18    40120\n",
       "19    39102\n",
       "20    31433\n",
       "21    27924\n",
       "22    27170\n",
       "23    24995\n",
       "24    24817\n",
       "25    23259\n",
       "26    22633\n",
       "27    21638\n",
       "28    21435\n",
       "29    20435\n",
       "30    20330\n",
       "31    19611\n",
       "32    19563\n",
       "33    18804\n",
       "34    17628\n",
       "35    17538\n",
       "36    16977\n",
       "37    16366\n",
       "38    16350\n",
       "39    16235\n",
       "40    15244\n",
       "41    15135\n",
       "42    14507\n",
       "43    14429\n",
       "44    14299\n",
       "45    14136\n",
       "46    14052\n",
       "47    13980\n",
       "48    13570\n",
       "49    13227\n",
       "50    13139\n",
       "51    12808\n",
       "52    12666\n",
       "53    12657\n",
       "54    12590\n",
       "55    12583\n",
       "56    12550\n",
       "57    12544\n",
       "58    12521\n",
       "59    12508\n",
       "60    12457\n",
       "61    12426\n",
       "62    12390\n",
       "63    12346\n",
       "64    12256\n",
       "65    12156\n",
       "66    11873\n",
       "67    11819\n",
       "68    11749\n",
       "69    11658\n",
       "70    11646\n",
       "71    11641\n",
       "72    11634\n",
       "73    11579\n",
       "74    11428\n",
       "75    11365\n",
       "76    11264\n",
       "77    11207\n",
       "78    11205\n",
       "79    11147\n",
       "80    11134\n",
       "81    11120\n",
       "82    11118\n",
       "83    11101\n",
       "84    11098\n",
       "85    11066\n",
       "86    11039\n",
       "87    11029\n",
       "88    10995\n",
       "89    10897\n",
       "90    10801\n",
       "91    10797\n",
       "92    10796\n",
       "93    10657\n",
       "94    10638\n",
       "95    10320\n",
       "96    10172\n",
       "97    10162\n",
       "98    10145\n",
       "99    10122\n",
       "100   10059\n",
       "⋮     ⋮    \n",
       "42135 1    \n",
       "42136 1    \n",
       "42137 1    \n",
       "42138 1    \n",
       "42139 1    \n",
       "42140 1    \n",
       "42141 1    \n",
       "42142 1    \n",
       "42143 1    \n",
       "42144 1    \n",
       "42145 1    \n",
       "42146 1    \n",
       "42147 1    \n",
       "42148 1    \n",
       "42149 1    \n",
       "42150 1    \n",
       "42151 1    \n",
       "42152 1    \n",
       "42153 1    \n",
       "42154 1    \n",
       "42155 1    \n",
       "42156 1    \n",
       "42157 1    \n",
       "42158 1    \n",
       "42159 1    \n",
       "42160 1    \n",
       "42161 1    \n",
       "42162 1    \n",
       "42163 1    \n",
       "42164 1    \n",
       "42165 1    \n",
       "42166 1    \n",
       "42167 1    \n",
       "42168 1    \n",
       "42169 1    \n",
       "42170 1    \n",
       "42171 1    \n",
       "42172 1    \n",
       "42173 1    \n",
       "42174 1    \n",
       "42175 1    \n",
       "42176 1    \n",
       "42177 1    \n",
       "42178 1    \n",
       "42179 1    \n",
       "42180 1    \n",
       "42181 1    \n",
       "42182 1    \n",
       "42183 1    \n",
       "42184 1    \n",
       "42185 1    \n",
       "42186 1    \n",
       "42187 1    \n",
       "42188 1    \n",
       "42189 1    \n",
       "42190 1    \n",
       "42191 1    \n",
       "42192 1    \n",
       "42193 1    \n",
       "42194 1    \n",
       "42195 1    \n",
       "42196 1    \n",
       "42197 1    \n",
       "42198 1    \n",
       "42199 1    \n",
       "42200 1    \n",
       "42201 1    \n",
       "42202 1    \n",
       "42203 1    \n",
       "42204 1    \n",
       "42205 1    \n",
       "42206 1    \n",
       "42207 1    \n",
       "42208 1    \n",
       "42209 1    \n",
       "42210 1    \n",
       "42211 1    \n",
       "42212 1    \n",
       "42213 1    \n",
       "42214 1    \n",
       "42215 1    \n",
       "42216 1    \n",
       "42217 1    \n",
       "42218 1    \n",
       "42219 1    \n",
       "42220 1    \n",
       "42221 1    \n",
       "42222 1    \n",
       "42223 1    \n",
       "42224 1    \n",
       "42225 1    \n",
       "42226 1    \n",
       "42227 1    \n",
       "42228 1    \n",
       "42229 1    \n",
       "42230 1    \n",
       "42231 1    \n",
       "42232 1    \n",
       "42233 1    \n",
       "42234 1    "
      ]
     },
     "metadata": {},
     "output_type": "display_data"
    }
   ],
   "source": [
    "features_all %>% group_by(feature_type, features) %>% count(sort=TRUE)"
   ]
  },
  {
   "cell_type": "code",
   "execution_count": 84,
   "metadata": {},
   "outputs": [
    {
     "data": {
      "text/html": [
       "<table class=\"dataframe\">\n",
       "<caption>A data.frame: 6 × 6</caption>\n",
       "<thead>\n",
       "\t<tr><th></th><th scope=col>anon_id</th><th scope=col>pat_enc_csn_id_coded</th><th scope=col>admit_time</th><th scope=col>feature_type</th><th scope=col>features</th><th scope=col>values</th></tr>\n",
       "\t<tr><th></th><th scope=col>&lt;chr&gt;</th><th scope=col>&lt;dbl&gt;</th><th scope=col>&lt;chr&gt;</th><th scope=col>&lt;chr&gt;</th><th scope=col>&lt;chr&gt;</th><th scope=col>&lt;dbl&gt;</th></tr>\n",
       "</thead>\n",
       "<tbody>\n",
       "\t<tr><th scope=row>1</th><td>JC29f8ad2</td><td>131274729058</td><td>2019-08-31 12:52:00+00:00</td><td>demo</td><td>ESI_i</td><td>3</td></tr>\n",
       "\t<tr><th scope=row>2</th><td>JC29f8ad3</td><td>131278291027</td><td>2019-10-05 23:48:00+00:00</td><td>demo</td><td>ESI_i</td><td>3</td></tr>\n",
       "\t<tr><th scope=row>3</th><td>JC29f8b9c</td><td>131266787806</td><td>2019-05-05 01:07:00+00:00</td><td>demo</td><td>ESI_i</td><td>2</td></tr>\n",
       "\t<tr><th scope=row>4</th><td>JC29f8beb</td><td>131264387263</td><td>2019-03-15 03:35:00+00:00</td><td>demo</td><td>ESI_i</td><td>3</td></tr>\n",
       "\t<tr><th scope=row>5</th><td>JC29f8beb</td><td>131279241689</td><td>2019-11-27 15:29:00+00:00</td><td>demo</td><td>ESI_i</td><td>3</td></tr>\n",
       "\t<tr><th scope=row>6</th><td>JC29f8bef</td><td>131280937356</td><td>2019-11-30 10:35:00+00:00</td><td>demo</td><td>ESI_i</td><td>3</td></tr>\n",
       "</tbody>\n",
       "</table>\n"
      ],
      "text/latex": [
       "A data.frame: 6 × 6\n",
       "\\begin{tabular}{r|llllll}\n",
       "  & anon\\_id & pat\\_enc\\_csn\\_id\\_coded & admit\\_time & feature\\_type & features & values\\\\\n",
       "  & <chr> & <dbl> & <chr> & <chr> & <chr> & <dbl>\\\\\n",
       "\\hline\n",
       "\t1 & JC29f8ad2 & 131274729058 & 2019-08-31 12:52:00+00:00 & demo & ESI\\_i & 3\\\\\n",
       "\t2 & JC29f8ad3 & 131278291027 & 2019-10-05 23:48:00+00:00 & demo & ESI\\_i & 3\\\\\n",
       "\t3 & JC29f8b9c & 131266787806 & 2019-05-05 01:07:00+00:00 & demo & ESI\\_i & 2\\\\\n",
       "\t4 & JC29f8beb & 131264387263 & 2019-03-15 03:35:00+00:00 & demo & ESI\\_i & 3\\\\\n",
       "\t5 & JC29f8beb & 131279241689 & 2019-11-27 15:29:00+00:00 & demo & ESI\\_i & 3\\\\\n",
       "\t6 & JC29f8bef & 131280937356 & 2019-11-30 10:35:00+00:00 & demo & ESI\\_i & 3\\\\\n",
       "\\end{tabular}\n"
      ],
      "text/markdown": [
       "\n",
       "A data.frame: 6 × 6\n",
       "\n",
       "| <!--/--> | anon_id &lt;chr&gt; | pat_enc_csn_id_coded &lt;dbl&gt; | admit_time &lt;chr&gt; | feature_type &lt;chr&gt; | features &lt;chr&gt; | values &lt;dbl&gt; |\n",
       "|---|---|---|---|---|---|---|\n",
       "| 1 | JC29f8ad2 | 131274729058 | 2019-08-31 12:52:00+00:00 | demo | ESI_i | 3 |\n",
       "| 2 | JC29f8ad3 | 131278291027 | 2019-10-05 23:48:00+00:00 | demo | ESI_i | 3 |\n",
       "| 3 | JC29f8b9c | 131266787806 | 2019-05-05 01:07:00+00:00 | demo | ESI_i | 2 |\n",
       "| 4 | JC29f8beb | 131264387263 | 2019-03-15 03:35:00+00:00 | demo | ESI_i | 3 |\n",
       "| 5 | JC29f8beb | 131279241689 | 2019-11-27 15:29:00+00:00 | demo | ESI_i | 3 |\n",
       "| 6 | JC29f8bef | 131280937356 | 2019-11-30 10:35:00+00:00 | demo | ESI_i | 3 |\n",
       "\n"
      ],
      "text/plain": [
       "  anon_id   pat_enc_csn_id_coded admit_time                feature_type\n",
       "1 JC29f8ad2 131274729058         2019-08-31 12:52:00+00:00 demo        \n",
       "2 JC29f8ad3 131278291027         2019-10-05 23:48:00+00:00 demo        \n",
       "3 JC29f8b9c 131266787806         2019-05-05 01:07:00+00:00 demo        \n",
       "4 JC29f8beb 131264387263         2019-03-15 03:35:00+00:00 demo        \n",
       "5 JC29f8beb 131279241689         2019-11-27 15:29:00+00:00 demo        \n",
       "6 JC29f8bef 131280937356         2019-11-30 10:35:00+00:00 demo        \n",
       "  features values\n",
       "1 ESI_i    3     \n",
       "2 ESI_i    3     \n",
       "3 ESI_i    2     \n",
       "4 ESI_i    3     \n",
       "5 ESI_i    3     \n",
       "6 ESI_i    3     "
      ]
     },
     "metadata": {},
     "output_type": "display_data"
    }
   ],
   "source": [
    "head(features_all)"
   ]
  },
  {
   "cell_type": "code",
   "execution_count": 92,
   "metadata": {},
   "outputs": [
    {
     "data": {
      "text/html": [
       "8258975"
      ],
      "text/latex": [
       "8258975"
      ],
      "text/markdown": [
       "8258975"
      ],
      "text/plain": [
       "[1] 8258975"
      ]
     },
     "metadata": {},
     "output_type": "display_data"
    },
    {
     "data": {
      "text/plain": [
       "    Min.  1st Qu.   Median     Mean  3rd Qu.     Max. \n",
       "   0.000    1.000    1.000    3.721    2.000 1078.000 "
      ]
     },
     "metadata": {},
     "output_type": "display_data"
    }
   ],
   "source": [
    "nrow(features_all)\n",
    "summary(features_all$values)\n",
    "# sum(is.na(features_all$first_label))"
   ]
  },
  {
   "cell_type": "code",
   "execution_count": 93,
   "metadata": {},
   "outputs": [],
   "source": [
    "write.csv(features_all, file = file.path(featuredir, \"2_9_features_all_long.csv\"), row.names=FALSE) "
   ]
  },
  {
   "cell_type": "markdown",
   "metadata": {},
   "source": [
    "### TEST"
   ]
  },
  {
   "cell_type": "code",
   "execution_count": 106,
   "metadata": {},
   "outputs": [
    {
     "data": {
      "text/html": [
       "8258975"
      ],
      "text/latex": [
       "8258975"
      ],
      "text/markdown": [
       "8258975"
      ],
      "text/plain": [
       "[1] 8258975"
      ]
     },
     "metadata": {},
     "output_type": "display_data"
    },
    {
     "data": {
      "text/html": [
       "8258975"
      ],
      "text/latex": [
       "8258975"
      ],
      "text/markdown": [
       "8258975"
      ],
      "text/plain": [
       "[1] 8258975"
      ]
     },
     "metadata": {},
     "output_type": "display_data"
    },
    {
     "data": {
      "text/html": [
       "FALSE"
      ],
      "text/latex": [
       "FALSE"
      ],
      "text/markdown": [
       "FALSE"
      ],
      "text/plain": [
       "[1] FALSE"
      ]
     },
     "metadata": {},
     "output_type": "display_data"
    },
    {
     "data": {
      "text/html": [
       "<style>\n",
       ".list-inline {list-style: none; margin:0; padding: 0}\n",
       ".list-inline>li {display: inline-block}\n",
       ".list-inline>li:not(:last-child)::after {content: \"\\00b7\"; padding: 0 .5ex}\n",
       "</style>\n",
       "<ol class=list-inline><li>'Component “anon_id”: 8257416 string mismatches'</li><li>'Component “pat_enc_csn_id_coded”: Mean relative difference: 0.0005188065'</li><li>'Component “admit_time”: 8258716 string mismatches'</li><li>'Component “feature_type”: 6592107 string mismatches'</li><li>'Component “features”: 8250486 string mismatches'</li><li>'Component “values”: Mean relative difference: 1.638'</li></ol>\n"
      ],
      "text/latex": [
       "\\begin{enumerate*}\n",
       "\\item 'Component “anon\\_id”: 8257416 string mismatches'\n",
       "\\item 'Component “pat\\_enc\\_csn\\_id\\_coded”: Mean relative difference: 0.0005188065'\n",
       "\\item 'Component “admit\\_time”: 8258716 string mismatches'\n",
       "\\item 'Component “feature\\_type”: 6592107 string mismatches'\n",
       "\\item 'Component “features”: 8250486 string mismatches'\n",
       "\\item 'Component “values”: Mean relative difference: 1.638'\n",
       "\\end{enumerate*}\n"
      ],
      "text/markdown": [
       "1. 'Component “anon_id”: 8257416 string mismatches'\n",
       "2. 'Component “pat_enc_csn_id_coded”: Mean relative difference: 0.0005188065'\n",
       "3. 'Component “admit_time”: 8258716 string mismatches'\n",
       "4. 'Component “feature_type”: 6592107 string mismatches'\n",
       "5. 'Component “features”: 8250486 string mismatches'\n",
       "6. 'Component “values”: Mean relative difference: 1.638'\n",
       "\n",
       "\n"
      ],
      "text/plain": [
       "[1] \"Component “anon_id”: 8257416 string mismatches\"                          \n",
       "[2] \"Component “pat_enc_csn_id_coded”: Mean relative difference: 0.0005188065\"\n",
       "[3] \"Component “admit_time”: 8258716 string mismatches\"                       \n",
       "[4] \"Component “feature_type”: 6592107 string mismatches\"                     \n",
       "[5] \"Component “features”: 8250486 string mismatches\"                         \n",
       "[6] \"Component “values”: Mean relative difference: 1.638\"                     "
      ]
     },
     "metadata": {},
     "output_type": "display_data"
    }
   ],
   "source": [
    "yr <- read.csv(file.path(featuredir, '2_9_features_all_long_withyear.csv'))\n",
    "yr0 <- yr %>% select(-year)\n",
    "nrow(yr0)\n",
    "nrow(features_all)\n",
    "identical(yr0, features_all)\n",
    "all.equal(yr0,features_all)"
   ]
  },
  {
   "cell_type": "code",
   "execution_count": 108,
   "metadata": {},
   "outputs": [],
   "source": [
    "yr0 <- yr0 %>% arrange(anon_id, pat_enc_csn_id_coded, admit_time, feature_type, features, values)\n",
    "ft <- features_all %>% arrange(anon_id, pat_enc_csn_id_coded, admit_time, feature_type, features, values)"
   ]
  },
  {
   "cell_type": "code",
   "execution_count": 109,
   "metadata": {},
   "outputs": [
    {
     "data": {
      "text/html": [
       "TRUE"
      ],
      "text/latex": [
       "TRUE"
      ],
      "text/markdown": [
       "TRUE"
      ],
      "text/plain": [
       "[1] TRUE"
      ]
     },
     "metadata": {},
     "output_type": "display_data"
    },
    {
     "data": {
      "text/html": [
       "TRUE"
      ],
      "text/latex": [
       "TRUE"
      ],
      "text/markdown": [
       "TRUE"
      ],
      "text/plain": [
       "[1] TRUE"
      ]
     },
     "metadata": {},
     "output_type": "display_data"
    }
   ],
   "source": [
    "identical(yr0, ft)\n",
    "all.equal(yr0, ft)"
   ]
  },
  {
   "cell_type": "code",
   "execution_count": 100,
   "metadata": {},
   "outputs": [
    {
     "name": "stderr",
     "output_type": "stream",
     "text": [
      "Joining, by = c(\"anon_id\", \"pat_enc_csn_id_coded\", \"admit_time\", \"feature_type\", \"features\", \"values\")\n",
      "\n"
     ]
    }
   ],
   "source": [
    "joined <- inner_join(yr, features_all)"
   ]
  },
  {
   "cell_type": "code",
   "execution_count": 101,
   "metadata": {},
   "outputs": [
    {
     "data": {
      "text/plain": [
       "   anon_id          pat_enc_csn_id_coded  admit_time        feature_type      \n",
       " Length:8258975     Min.   :1.311e+11    Length:8258975     Length:8258975    \n",
       " Class :character   1st Qu.:1.312e+11    Class :character   Class :character  \n",
       " Mode  :character   Median :1.312e+11    Mode  :character   Mode  :character  \n",
       "                    Mean   :1.312e+11                                         \n",
       "                    3rd Qu.:1.313e+11                                         \n",
       "                    Max.   :1.313e+11                                         \n",
       "   features             values              year     \n",
       " Length:8258975     Min.   :   0.000   Min.   :2015  \n",
       " Class :character   1st Qu.:   1.000   1st Qu.:2016  \n",
       " Mode  :character   Median :   1.000   Median :2017  \n",
       "                    Mean   :   3.721   Mean   :2017  \n",
       "                    3rd Qu.:   2.000   3rd Qu.:2019  \n",
       "                    Max.   :1078.000   Max.   :2020  "
      ]
     },
     "metadata": {},
     "output_type": "display_data"
    }
   ],
   "source": [
    "summary(joined)"
   ]
  },
  {
   "cell_type": "code",
   "execution_count": 104,
   "metadata": {},
   "outputs": [
    {
     "data": {
      "text/plain": [
       "   anon_id          pat_enc_csn_id_coded  admit_time        feature_type      \n",
       " Length:8258975     Min.   :1.311e+11    Length:8258975     Length:8258975    \n",
       " Class :character   1st Qu.:1.312e+11    Class :character   Class :character  \n",
       " Mode  :character   Median :1.312e+11    Mode  :character   Mode  :character  \n",
       "                    Mean   :1.312e+11                                         \n",
       "                    3rd Qu.:1.313e+11                                         \n",
       "                    Max.   :1.313e+11                                         \n",
       "   features             values              year     \n",
       " Length:8258975     Min.   :   0.000   Min.   :2015  \n",
       " Class :character   1st Qu.:   1.000   1st Qu.:2016  \n",
       " Mode  :character   Median :   1.000   Median :2017  \n",
       "                    Mean   :   3.721   Mean   :2017  \n",
       "                    3rd Qu.:   2.000   3rd Qu.:2019  \n",
       "                    Max.   :1078.000   Max.   :2020  "
      ]
     },
     "metadata": {},
     "output_type": "display_data"
    }
   ],
   "source": [
    "summary(yr)"
   ]
  },
  {
   "cell_type": "code",
   "execution_count": 105,
   "metadata": {},
   "outputs": [
    {
     "data": {
      "text/plain": [
       "   anon_id          pat_enc_csn_id_coded  admit_time        feature_type      \n",
       " Length:8258975     Min.   :1.311e+11    Length:8258975     Length:8258975    \n",
       " Class :character   1st Qu.:1.312e+11    Class :character   Class :character  \n",
       " Mode  :character   Median :1.312e+11    Mode  :character   Mode  :character  \n",
       "                    Mean   :1.312e+11                                         \n",
       "                    3rd Qu.:1.313e+11                                         \n",
       "                    Max.   :1.313e+11                                         \n",
       "   features             values        \n",
       " Length:8258975     Min.   :   0.000  \n",
       " Class :character   1st Qu.:   1.000  \n",
       " Mode  :character   Median :   1.000  \n",
       "                    Mean   :   3.721  \n",
       "                    3rd Qu.:   2.000  \n",
       "                    Max.   :1078.000  "
      ]
     },
     "metadata": {},
     "output_type": "display_data"
    }
   ],
   "source": [
    "summary(features_all)"
   ]
  }
 ],
 "metadata": {
  "environment": {
   "name": "r-cpu.4-0.m71",
   "type": "gcloud",
   "uri": "gcr.io/deeplearning-platform-release/r-cpu.4-0:m71"
  },
  "kernelspec": {
   "display_name": "R",
   "language": "R",
   "name": "ir"
  },
  "language_info": {
   "codemirror_mode": "r",
   "file_extension": ".r",
   "mimetype": "text/x-r-source",
   "name": "R",
   "pygments_lexer": "r",
   "version": "4.0.3"
  }
 },
 "nbformat": 4,
 "nbformat_minor": 5
}
