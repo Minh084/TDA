{
 "cells": [
  {
   "cell_type": "markdown",
   "metadata": {},
   "source": [
    "### Descriptions:\n",
    "\n",
    "Inputs:\n",
    "\n",
    "- `1_4_cohort_test_results.csv`: original prediction at time 0 & 24, old data\n",
    "- `6_7_cohort4_test.csv`: prediction at time 0 & 24, new validation data\n",
    "- `14_cohort_final_test2.csv`: prediction at time 0 - 24, new data, new cohort, with old split\n",
    "- `14_cohort_final_test.csv`: prediction at time 0 - 24, new data, new cohort, with new split"
   ]
  },
  {
   "cell_type": "raw",
   "metadata": {},
   "source": [
    "if not working, it's because a package might be uninstalled Rcpp? from trying to install another package\n",
    "check the crash message from anaconda to see which package is missing\n",
    "go to the command windows, cd to R location C:\\...\\bin\n",
    "then R\n",
    "then reinstall the packages\n",
    "restart"
   ]
  },
  {
   "cell_type": "code",
   "execution_count": 1,
   "metadata": {},
   "outputs": [
    {
     "name": "stderr",
     "output_type": "stream",
     "text": [
      "Warning message:\n",
      "\"package 'ggplot2' was built under R version 4.0.5\"\n",
      "-- \u001b[1mAttaching packages\u001b[22m --------------------------------------- tidyverse 1.3.0 --\n",
      "\n",
      "\u001b[32mv\u001b[39m \u001b[34mtibble \u001b[39m 3.0.4     \u001b[32mv\u001b[39m \u001b[34mdplyr  \u001b[39m 1.0.2\n",
      "\u001b[32mv\u001b[39m \u001b[34mtidyr  \u001b[39m 1.1.2     \u001b[32mv\u001b[39m \u001b[34mstringr\u001b[39m 1.4.0\n",
      "\u001b[32mv\u001b[39m \u001b[34mreadr  \u001b[39m 1.4.0     \u001b[32mv\u001b[39m \u001b[34mforcats\u001b[39m 0.5.0\n",
      "\u001b[32mv\u001b[39m \u001b[34mpurrr  \u001b[39m 0.3.4     \n",
      "\n",
      "-- \u001b[1mConflicts\u001b[22m ------------------------------------------ tidyverse_conflicts() --\n",
      "\u001b[31mx\u001b[39m \u001b[34mdplyr\u001b[39m::\u001b[32mfilter()\u001b[39m masks \u001b[34mstats\u001b[39m::filter()\n",
      "\u001b[31mx\u001b[39m \u001b[34mdplyr\u001b[39m::\u001b[32mlag()\u001b[39m    masks \u001b[34mstats\u001b[39m::lag()\n",
      "\n",
      "\n",
      "Attaching package: 'lubridate'\n",
      "\n",
      "\n",
      "The following objects are masked from 'package:base':\n",
      "\n",
      "    date, intersect, setdiff, union\n",
      "\n",
      "\n",
      "\n",
      "Attaching package: 'gridExtra'\n",
      "\n",
      "\n",
      "The following object is masked from 'package:dplyr':\n",
      "\n",
      "    combine\n",
      "\n",
      "\n",
      "Type 'citation(\"pROC\")' for a citation.\n",
      "\n",
      "\n",
      "Attaching package: 'pROC'\n",
      "\n",
      "\n",
      "The following objects are masked from 'package:stats':\n",
      "\n",
      "    cov, smooth, var\n",
      "\n",
      "\n",
      "Loading required package: lattice\n",
      "\n",
      "\n",
      "Attaching package: 'caret'\n",
      "\n",
      "\n",
      "The following object is masked from 'package:purrr':\n",
      "\n",
      "    lift\n",
      "\n",
      "\n",
      "\n",
      "Attaching package: 'boot'\n",
      "\n",
      "\n",
      "The following object is masked from 'package:lattice':\n",
      "\n",
      "    melanoma\n",
      "\n",
      "\n",
      "The following object is masked from 'package:ROCit':\n",
      "\n",
      "    logit\n",
      "\n",
      "\n",
      "Warning message:\n",
      "\"package 'gbm' was built under R version 4.0.4\"\n",
      "Loaded gbm 2.1.8\n",
      "\n",
      "Loading required package: data.table\n",
      "\n",
      "\n",
      "Attaching package: 'data.table'\n",
      "\n",
      "\n",
      "The following objects are masked from 'package:lubridate':\n",
      "\n",
      "    hour, isoweek, mday, minute, month, quarter, second, wday, week,\n",
      "    yday, year\n",
      "\n",
      "\n",
      "The following objects are masked from 'package:dplyr':\n",
      "\n",
      "    between, first, last\n",
      "\n",
      "\n",
      "The following object is masked from 'package:purrr':\n",
      "\n",
      "    transpose\n",
      "\n",
      "\n",
      " \n",
      "\n",
      "cvAUC version: 1.1.0\n",
      "\n",
      "Notice to cvAUC users: Major speed improvements in version 1.1.0\n",
      "\n",
      " \n",
      "\n",
      "\n",
      "Attaching package: 'MLmetrics'\n",
      "\n",
      "\n",
      "The following object is masked from 'package:cvAUC':\n",
      "\n",
      "    AUC\n",
      "\n",
      "\n",
      "The following objects are masked from 'package:caret':\n",
      "\n",
      "    MAE, RMSE\n",
      "\n",
      "\n",
      "The following object is masked from 'package:base':\n",
      "\n",
      "    Recall\n",
      "\n",
      "\n",
      "Warning message:\n",
      "\"package 'cowplot' was built under R version 4.0.5\"\n",
      "\n",
      "Attaching package: 'cowplot'\n",
      "\n",
      "\n",
      "The following object is masked from 'package:lubridate':\n",
      "\n",
      "    stamp\n",
      "\n",
      "\n"
     ]
    }
   ],
   "source": [
    "library(ggplot2)\n",
    "library(ggExtra)\n",
    "library(tidyverse)\n",
    "library(lubridate)\n",
    "library(gridExtra)\n",
    "library(pROC)\n",
    "library(ROCR)\n",
    "library(ROCit)\n",
    "library(caret)\n",
    "library(boot)\n",
    "library(gbm)\n",
    "\n",
    "library(cvAUC)\n",
    "library(MLmetrics)\n",
    "library(cowplot)"
   ]
  },
  {
   "cell_type": "code",
   "execution_count": 2,
   "metadata": {},
   "outputs": [],
   "source": [
    "# directories\n",
    "# ORIGINAL DATA\n",
    "datadir0 = \"../../DataTD/\"\n",
    "cohortdir0 = \"../../OutputTD/1_cohort\"\n",
    "featuredir0 = \"../../OutputTD/2_features\"\n",
    "modeldir0 = \"../../OutputTD/3_models/1_4_cohort\"\n",
    "\n",
    "# VALIDATION NEW DATA \n",
    "datadir6 = \"../../DataTD/validation\"\n",
    "valdir = \"../../OutputTD/6_validation\"\n",
    "modeldir6 = \"../../OutputTD/6_validation/models\"\n",
    "\n",
    "# ALL NEW DATA\n",
    "datadir = \"../../DataTD/shc2021\"\n",
    "outdir = \"../../OutputTD/shc2021\"\n",
    "modeldir = \"../../OutputTD/shc2021/models\" # new split new data\n",
    "modeldir2 = \"../../OutputTD/shc2021/models2\" # old split new data\n",
    "figuredir = \"../../OutputTD/shc2021/figures\"\n",
    "\n",
    "# ALL FIGURES\n",
    "Figuredir = \"../../OutputTD/Figures\"\n",
    "\n",
    "# display rows and cols\n",
    "options(repr.matrix.max.rows=250, repr.matrix.max.cols=30)"
   ]
  },
  {
   "cell_type": "code",
   "execution_count": 35,
   "metadata": {},
   "outputs": [
    {
     "data": {
      "text/html": [
       "12418"
      ],
      "text/latex": [
       "12418"
      ],
      "text/markdown": [
       "12418"
      ],
      "text/plain": [
       "[1] 12418"
      ]
     },
     "metadata": {},
     "output_type": "display_data"
    },
    {
     "data": {
      "text/html": [
       "16484"
      ],
      "text/latex": [
       "16484"
      ],
      "text/markdown": [
       "16484"
      ],
      "text/plain": [
       "[1] 16484"
      ]
     },
     "metadata": {},
     "output_type": "display_data"
    },
    {
     "data": {
      "text/html": [
       "14277"
      ],
      "text/latex": [
       "14277"
      ],
      "text/markdown": [
       "14277"
      ],
      "text/plain": [
       "[1] 14277"
      ]
     },
     "metadata": {},
     "output_type": "display_data"
    },
    {
     "data": {
      "text/html": [
       "7759"
      ],
      "text/latex": [
       "7759"
      ],
      "text/markdown": [
       "7759"
      ],
      "text/plain": [
       "[1] 7759"
      ]
     },
     "metadata": {},
     "output_type": "display_data"
    }
   ],
   "source": [
    "results0 <- read.csv(file.path(modeldir0, '1_4_cohort_test_results.csv'))\n",
    "nrow(results0)\n",
    "results6 <- read.csv(file.path(valdir, '6_7_cohort4_test.csv'))\n",
    "nrow(results6)\n",
    "\n",
    "results2 <- read.csv(file.path(outdir, '14_cohort_noOR_final_test2.csv'))\n",
    "nrow(results2)\n",
    "results <- read.csv(file.path(outdir, '14_cohort_noOR_final_test.csv'))\n",
    "nrow(results)"
   ]
  },
  {
   "cell_type": "code",
   "execution_count": 36,
   "metadata": {},
   "outputs": [
    {
     "data": {
      "text/html": [
       "<table>\n",
       "<caption>A data.frame: 1 × 26</caption>\n",
       "<thead>\n",
       "\t<tr><th></th><th scope=col>anon_id</th><th scope=col>pat_enc_csn_id_coded</th><th scope=col>inpatient_data_id_coded</th><th scope=col>admit_time</th><th scope=col>label_max24</th><th scope=col>label_24hr_recent</th><th scope=col>admit_label</th><th scope=col>has_admit_label</th><th scope=col>died_within_24hrs</th><th scope=col>death_24hr_max_label</th><th scope=col>death_24hr_recent_label</th><th scope=col>first_label</th><th scope=col>first_label_minutes_since_admit</th><th scope=col>acute_to_critical_label_recent</th><th scope=col>critical_to_acute_label_recent</th><th scope=col>acute_to_critical_label_max</th><th scope=col>critical_to_acute_label_max</th><th scope=col>adm_year</th><th scope=col>transfer</th><th scope=col>pred_death_24hr_max</th><th scope=col>pred_death_24hr_recent</th><th scope=col>pred_first</th><th scope=col>diff0_24</th><th scope=col>abs_diff0_24</th><th scope=col>diff0_True</th><th scope=col>diff24_True</th></tr>\n",
       "\t<tr><th></th><th scope=col>&lt;chr&gt;</th><th scope=col>&lt;dbl&gt;</th><th scope=col>&lt;int&gt;</th><th scope=col>&lt;chr&gt;</th><th scope=col>&lt;int&gt;</th><th scope=col>&lt;int&gt;</th><th scope=col>&lt;int&gt;</th><th scope=col>&lt;int&gt;</th><th scope=col>&lt;int&gt;</th><th scope=col>&lt;int&gt;</th><th scope=col>&lt;int&gt;</th><th scope=col>&lt;int&gt;</th><th scope=col>&lt;int&gt;</th><th scope=col>&lt;int&gt;</th><th scope=col>&lt;int&gt;</th><th scope=col>&lt;int&gt;</th><th scope=col>&lt;int&gt;</th><th scope=col>&lt;int&gt;</th><th scope=col>&lt;int&gt;</th><th scope=col>&lt;dbl&gt;</th><th scope=col>&lt;dbl&gt;</th><th scope=col>&lt;dbl&gt;</th><th scope=col>&lt;dbl&gt;</th><th scope=col>&lt;dbl&gt;</th><th scope=col>&lt;dbl&gt;</th><th scope=col>&lt;dbl&gt;</th></tr>\n",
       "</thead>\n",
       "<tbody>\n",
       "\t<tr><th scope=row>1</th><td>JCe8840f</td><td>131264906504</td><td>34995073</td><td>2019-02-14 22:22:00</td><td>0</td><td>0</td><td>0</td><td>1</td><td>0</td><td>0</td><td>0</td><td>0</td><td>0</td><td>0</td><td>0</td><td>0</td><td>0</td><td>2019</td><td>0</td><td>0.2811781</td><td>0.2091965</td><td>0.2356759</td><td>0.03</td><td>0</td><td>0.24</td><td>0.21</td></tr>\n",
       "</tbody>\n",
       "</table>\n"
      ],
      "text/latex": [
       "A data.frame: 1 × 26\n",
       "\\begin{tabular}{r|llllllllllllllllllllllllll}\n",
       "  & anon\\_id & pat\\_enc\\_csn\\_id\\_coded & inpatient\\_data\\_id\\_coded & admit\\_time & label\\_max24 & label\\_24hr\\_recent & admit\\_label & has\\_admit\\_label & died\\_within\\_24hrs & death\\_24hr\\_max\\_label & death\\_24hr\\_recent\\_label & first\\_label & first\\_label\\_minutes\\_since\\_admit & acute\\_to\\_critical\\_label\\_recent & critical\\_to\\_acute\\_label\\_recent & acute\\_to\\_critical\\_label\\_max & critical\\_to\\_acute\\_label\\_max & adm\\_year & transfer & pred\\_death\\_24hr\\_max & pred\\_death\\_24hr\\_recent & pred\\_first & diff0\\_24 & abs\\_diff0\\_24 & diff0\\_True & diff24\\_True\\\\\n",
       "  & <chr> & <dbl> & <int> & <chr> & <int> & <int> & <int> & <int> & <int> & <int> & <int> & <int> & <int> & <int> & <int> & <int> & <int> & <int> & <int> & <dbl> & <dbl> & <dbl> & <dbl> & <dbl> & <dbl> & <dbl>\\\\\n",
       "\\hline\n",
       "\t1 & JCe8840f & 131264906504 & 34995073 & 2019-02-14 22:22:00 & 0 & 0 & 0 & 1 & 0 & 0 & 0 & 0 & 0 & 0 & 0 & 0 & 0 & 2019 & 0 & 0.2811781 & 0.2091965 & 0.2356759 & 0.03 & 0 & 0.24 & 0.21\\\\\n",
       "\\end{tabular}\n"
      ],
      "text/markdown": [
       "\n",
       "A data.frame: 1 × 26\n",
       "\n",
       "| <!--/--> | anon_id &lt;chr&gt; | pat_enc_csn_id_coded &lt;dbl&gt; | inpatient_data_id_coded &lt;int&gt; | admit_time &lt;chr&gt; | label_max24 &lt;int&gt; | label_24hr_recent &lt;int&gt; | admit_label &lt;int&gt; | has_admit_label &lt;int&gt; | died_within_24hrs &lt;int&gt; | death_24hr_max_label &lt;int&gt; | death_24hr_recent_label &lt;int&gt; | first_label &lt;int&gt; | first_label_minutes_since_admit &lt;int&gt; | acute_to_critical_label_recent &lt;int&gt; | critical_to_acute_label_recent &lt;int&gt; | acute_to_critical_label_max &lt;int&gt; | critical_to_acute_label_max &lt;int&gt; | adm_year &lt;int&gt; | transfer &lt;int&gt; | pred_death_24hr_max &lt;dbl&gt; | pred_death_24hr_recent &lt;dbl&gt; | pred_first &lt;dbl&gt; | diff0_24 &lt;dbl&gt; | abs_diff0_24 &lt;dbl&gt; | diff0_True &lt;dbl&gt; | diff24_True &lt;dbl&gt; |\n",
       "|---|---|---|---|---|---|---|---|---|---|---|---|---|---|---|---|---|---|---|---|---|---|---|---|---|---|---|\n",
       "| 1 | JCe8840f | 131264906504 | 34995073 | 2019-02-14 22:22:00 | 0 | 0 | 0 | 1 | 0 | 0 | 0 | 0 | 0 | 0 | 0 | 0 | 0 | 2019 | 0 | 0.2811781 | 0.2091965 | 0.2356759 | 0.03 | 0 | 0.24 | 0.21 |\n",
       "\n"
      ],
      "text/plain": [
       "  anon_id  pat_enc_csn_id_coded inpatient_data_id_coded admit_time         \n",
       "1 JCe8840f 131264906504         34995073                2019-02-14 22:22:00\n",
       "  label_max24 label_24hr_recent admit_label has_admit_label died_within_24hrs\n",
       "1 0           0                 0           1               0                \n",
       "  death_24hr_max_label death_24hr_recent_label first_label\n",
       "1 0                    0                       0          \n",
       "  first_label_minutes_since_admit acute_to_critical_label_recent\n",
       "1 0                               0                             \n",
       "  critical_to_acute_label_recent acute_to_critical_label_max\n",
       "1 0                              0                          \n",
       "  critical_to_acute_label_max adm_year transfer pred_death_24hr_max\n",
       "1 0                           2019     0        0.2811781          \n",
       "  pred_death_24hr_recent pred_first diff0_24 abs_diff0_24 diff0_True\n",
       "1 0.2091965              0.2356759  0.03     0            0.24      \n",
       "  diff24_True\n",
       "1 0.21       "
      ]
     },
     "metadata": {},
     "output_type": "display_data"
    },
    {
     "data": {
      "text/html": [
       "<table>\n",
       "<caption>A data.frame: 1 × 7</caption>\n",
       "<thead>\n",
       "\t<tr><th></th><th scope=col>anon_id</th><th scope=col>pat_enc_csn_id_coded</th><th scope=col>admit_time</th><th scope=col>first_label</th><th scope=col>death_24hr_recent_label</th><th scope=col>p1</th><th scope=col>p24</th></tr>\n",
       "\t<tr><th></th><th scope=col>&lt;chr&gt;</th><th scope=col>&lt;dbl&gt;</th><th scope=col>&lt;chr&gt;</th><th scope=col>&lt;int&gt;</th><th scope=col>&lt;int&gt;</th><th scope=col>&lt;dbl&gt;</th><th scope=col>&lt;dbl&gt;</th></tr>\n",
       "</thead>\n",
       "<tbody>\n",
       "\t<tr><th scope=row>1</th><td>JC641497</td><td>131284412456</td><td>2020-04-01 17:34:00+00:00</td><td>0</td><td>0</td><td>0.2116938</td><td>0.1481353</td></tr>\n",
       "</tbody>\n",
       "</table>\n"
      ],
      "text/latex": [
       "A data.frame: 1 × 7\n",
       "\\begin{tabular}{r|lllllll}\n",
       "  & anon\\_id & pat\\_enc\\_csn\\_id\\_coded & admit\\_time & first\\_label & death\\_24hr\\_recent\\_label & p1 & p24\\\\\n",
       "  & <chr> & <dbl> & <chr> & <int> & <int> & <dbl> & <dbl>\\\\\n",
       "\\hline\n",
       "\t1 & JC641497 & 131284412456 & 2020-04-01 17:34:00+00:00 & 0 & 0 & 0.2116938 & 0.1481353\\\\\n",
       "\\end{tabular}\n"
      ],
      "text/markdown": [
       "\n",
       "A data.frame: 1 × 7\n",
       "\n",
       "| <!--/--> | anon_id &lt;chr&gt; | pat_enc_csn_id_coded &lt;dbl&gt; | admit_time &lt;chr&gt; | first_label &lt;int&gt; | death_24hr_recent_label &lt;int&gt; | p1 &lt;dbl&gt; | p24 &lt;dbl&gt; |\n",
       "|---|---|---|---|---|---|---|---|\n",
       "| 1 | JC641497 | 131284412456 | 2020-04-01 17:34:00+00:00 | 0 | 0 | 0.2116938 | 0.1481353 |\n",
       "\n"
      ],
      "text/plain": [
       "  anon_id  pat_enc_csn_id_coded admit_time                first_label\n",
       "1 JC641497 131284412456         2020-04-01 17:34:00+00:00 0          \n",
       "  death_24hr_recent_label p1        p24      \n",
       "1 0                       0.2116938 0.1481353"
      ]
     },
     "metadata": {},
     "output_type": "display_data"
    },
    {
     "data": {
      "text/html": [
       "<table>\n",
       "<caption>A data.frame: 1 × 17</caption>\n",
       "<thead>\n",
       "\t<tr><th></th><th scope=col>anon_id</th><th scope=col>pat_enc_csn_id_coded</th><th scope=col>admit_time</th><th scope=col>first_label</th><th scope=col>death_3hr_recent_label</th><th scope=col>death_6hr_recent_label</th><th scope=col>death_9hr_recent_label</th><th scope=col>death_12hr_recent_label</th><th scope=col>death_24hr_recent_label</th><th scope=col>adm_year</th><th scope=col>adm_month</th><th scope=col>p1</th><th scope=col>p12</th><th scope=col>p24</th><th scope=col>p3</th><th scope=col>p6</th><th scope=col>p9</th></tr>\n",
       "\t<tr><th></th><th scope=col>&lt;chr&gt;</th><th scope=col>&lt;dbl&gt;</th><th scope=col>&lt;chr&gt;</th><th scope=col>&lt;int&gt;</th><th scope=col>&lt;int&gt;</th><th scope=col>&lt;int&gt;</th><th scope=col>&lt;int&gt;</th><th scope=col>&lt;int&gt;</th><th scope=col>&lt;int&gt;</th><th scope=col>&lt;int&gt;</th><th scope=col>&lt;int&gt;</th><th scope=col>&lt;dbl&gt;</th><th scope=col>&lt;dbl&gt;</th><th scope=col>&lt;dbl&gt;</th><th scope=col>&lt;dbl&gt;</th><th scope=col>&lt;dbl&gt;</th><th scope=col>&lt;dbl&gt;</th></tr>\n",
       "</thead>\n",
       "<tbody>\n",
       "\t<tr><th scope=row>1</th><td>JC1000116</td><td>131295313275</td><td>2020-09-29 22:45:00</td><td>0</td><td>0</td><td>0</td><td>0</td><td>0</td><td>0</td><td>2020</td><td>9</td><td>0.01271234</td><td>0.01227365</td><td>0.01035391</td><td>0.01100223</td><td>0.01341116</td><td>0.01158772</td></tr>\n",
       "</tbody>\n",
       "</table>\n"
      ],
      "text/latex": [
       "A data.frame: 1 × 17\n",
       "\\begin{tabular}{r|lllllllllllllllll}\n",
       "  & anon\\_id & pat\\_enc\\_csn\\_id\\_coded & admit\\_time & first\\_label & death\\_3hr\\_recent\\_label & death\\_6hr\\_recent\\_label & death\\_9hr\\_recent\\_label & death\\_12hr\\_recent\\_label & death\\_24hr\\_recent\\_label & adm\\_year & adm\\_month & p1 & p12 & p24 & p3 & p6 & p9\\\\\n",
       "  & <chr> & <dbl> & <chr> & <int> & <int> & <int> & <int> & <int> & <int> & <int> & <int> & <dbl> & <dbl> & <dbl> & <dbl> & <dbl> & <dbl>\\\\\n",
       "\\hline\n",
       "\t1 & JC1000116 & 131295313275 & 2020-09-29 22:45:00 & 0 & 0 & 0 & 0 & 0 & 0 & 2020 & 9 & 0.01271234 & 0.01227365 & 0.01035391 & 0.01100223 & 0.01341116 & 0.01158772\\\\\n",
       "\\end{tabular}\n"
      ],
      "text/markdown": [
       "\n",
       "A data.frame: 1 × 17\n",
       "\n",
       "| <!--/--> | anon_id &lt;chr&gt; | pat_enc_csn_id_coded &lt;dbl&gt; | admit_time &lt;chr&gt; | first_label &lt;int&gt; | death_3hr_recent_label &lt;int&gt; | death_6hr_recent_label &lt;int&gt; | death_9hr_recent_label &lt;int&gt; | death_12hr_recent_label &lt;int&gt; | death_24hr_recent_label &lt;int&gt; | adm_year &lt;int&gt; | adm_month &lt;int&gt; | p1 &lt;dbl&gt; | p12 &lt;dbl&gt; | p24 &lt;dbl&gt; | p3 &lt;dbl&gt; | p6 &lt;dbl&gt; | p9 &lt;dbl&gt; |\n",
       "|---|---|---|---|---|---|---|---|---|---|---|---|---|---|---|---|---|---|\n",
       "| 1 | JC1000116 | 131295313275 | 2020-09-29 22:45:00 | 0 | 0 | 0 | 0 | 0 | 0 | 2020 | 9 | 0.01271234 | 0.01227365 | 0.01035391 | 0.01100223 | 0.01341116 | 0.01158772 |\n",
       "\n"
      ],
      "text/plain": [
       "  anon_id   pat_enc_csn_id_coded admit_time          first_label\n",
       "1 JC1000116 131295313275         2020-09-29 22:45:00 0          \n",
       "  death_3hr_recent_label death_6hr_recent_label death_9hr_recent_label\n",
       "1 0                      0                      0                     \n",
       "  death_12hr_recent_label death_24hr_recent_label adm_year adm_month p1        \n",
       "1 0                       0                       2020     9         0.01271234\n",
       "  p12        p24        p3         p6         p9        \n",
       "1 0.01227365 0.01035391 0.01100223 0.01341116 0.01158772"
      ]
     },
     "metadata": {},
     "output_type": "display_data"
    },
    {
     "data": {
      "text/html": [
       "<table>\n",
       "<caption>A data.frame: 1 × 17</caption>\n",
       "<thead>\n",
       "\t<tr><th></th><th scope=col>anon_id</th><th scope=col>pat_enc_csn_id_coded</th><th scope=col>admit_time</th><th scope=col>first_label</th><th scope=col>death_3hr_recent_label</th><th scope=col>death_6hr_recent_label</th><th scope=col>death_9hr_recent_label</th><th scope=col>death_12hr_recent_label</th><th scope=col>death_24hr_recent_label</th><th scope=col>adm_year</th><th scope=col>adm_month</th><th scope=col>p1</th><th scope=col>p12</th><th scope=col>p24</th><th scope=col>p3</th><th scope=col>p6</th><th scope=col>p9</th></tr>\n",
       "\t<tr><th></th><th scope=col>&lt;chr&gt;</th><th scope=col>&lt;dbl&gt;</th><th scope=col>&lt;chr&gt;</th><th scope=col>&lt;int&gt;</th><th scope=col>&lt;int&gt;</th><th scope=col>&lt;int&gt;</th><th scope=col>&lt;int&gt;</th><th scope=col>&lt;int&gt;</th><th scope=col>&lt;int&gt;</th><th scope=col>&lt;int&gt;</th><th scope=col>&lt;int&gt;</th><th scope=col>&lt;dbl&gt;</th><th scope=col>&lt;dbl&gt;</th><th scope=col>&lt;dbl&gt;</th><th scope=col>&lt;dbl&gt;</th><th scope=col>&lt;dbl&gt;</th><th scope=col>&lt;dbl&gt;</th></tr>\n",
       "</thead>\n",
       "<tbody>\n",
       "\t<tr><th scope=row>1</th><td>JC1001688</td><td>131302440087</td><td>2021-02-26 11:46:00</td><td>0</td><td>0</td><td>0</td><td>0</td><td>0</td><td>0</td><td>2021</td><td>2</td><td>0.1015771</td><td>0.1105909</td><td>0.09438622</td><td>0.1149899</td><td>0.1076932</td><td>0.06862091</td></tr>\n",
       "</tbody>\n",
       "</table>\n"
      ],
      "text/latex": [
       "A data.frame: 1 × 17\n",
       "\\begin{tabular}{r|lllllllllllllllll}\n",
       "  & anon\\_id & pat\\_enc\\_csn\\_id\\_coded & admit\\_time & first\\_label & death\\_3hr\\_recent\\_label & death\\_6hr\\_recent\\_label & death\\_9hr\\_recent\\_label & death\\_12hr\\_recent\\_label & death\\_24hr\\_recent\\_label & adm\\_year & adm\\_month & p1 & p12 & p24 & p3 & p6 & p9\\\\\n",
       "  & <chr> & <dbl> & <chr> & <int> & <int> & <int> & <int> & <int> & <int> & <int> & <int> & <dbl> & <dbl> & <dbl> & <dbl> & <dbl> & <dbl>\\\\\n",
       "\\hline\n",
       "\t1 & JC1001688 & 131302440087 & 2021-02-26 11:46:00 & 0 & 0 & 0 & 0 & 0 & 0 & 2021 & 2 & 0.1015771 & 0.1105909 & 0.09438622 & 0.1149899 & 0.1076932 & 0.06862091\\\\\n",
       "\\end{tabular}\n"
      ],
      "text/markdown": [
       "\n",
       "A data.frame: 1 × 17\n",
       "\n",
       "| <!--/--> | anon_id &lt;chr&gt; | pat_enc_csn_id_coded &lt;dbl&gt; | admit_time &lt;chr&gt; | first_label &lt;int&gt; | death_3hr_recent_label &lt;int&gt; | death_6hr_recent_label &lt;int&gt; | death_9hr_recent_label &lt;int&gt; | death_12hr_recent_label &lt;int&gt; | death_24hr_recent_label &lt;int&gt; | adm_year &lt;int&gt; | adm_month &lt;int&gt; | p1 &lt;dbl&gt; | p12 &lt;dbl&gt; | p24 &lt;dbl&gt; | p3 &lt;dbl&gt; | p6 &lt;dbl&gt; | p9 &lt;dbl&gt; |\n",
       "|---|---|---|---|---|---|---|---|---|---|---|---|---|---|---|---|---|---|\n",
       "| 1 | JC1001688 | 131302440087 | 2021-02-26 11:46:00 | 0 | 0 | 0 | 0 | 0 | 0 | 2021 | 2 | 0.1015771 | 0.1105909 | 0.09438622 | 0.1149899 | 0.1076932 | 0.06862091 |\n",
       "\n"
      ],
      "text/plain": [
       "  anon_id   pat_enc_csn_id_coded admit_time          first_label\n",
       "1 JC1001688 131302440087         2021-02-26 11:46:00 0          \n",
       "  death_3hr_recent_label death_6hr_recent_label death_9hr_recent_label\n",
       "1 0                      0                      0                     \n",
       "  death_12hr_recent_label death_24hr_recent_label adm_year adm_month p1       \n",
       "1 0                       0                       2021     2         0.1015771\n",
       "  p12       p24        p3        p6        p9        \n",
       "1 0.1105909 0.09438622 0.1149899 0.1076932 0.06862091"
      ]
     },
     "metadata": {},
     "output_type": "display_data"
    }
   ],
   "source": [
    "head(results0, 1)\n",
    "head(results6, 1)\n",
    "head(results2, 1)\n",
    "head(results, 1)"
   ]
  },
  {
   "cell_type": "code",
   "execution_count": 37,
   "metadata": {},
   "outputs": [],
   "source": [
    "results0 <- results0 %>% select(anon_id, pat_enc_csn_id_coded, admit_time, \n",
    "                               first_label, death_24hr_recent_label, \n",
    "                               pred_first, pred_death_24hr_recent)"
   ]
  },
  {
   "cell_type": "markdown",
   "metadata": {},
   "source": [
    "### Original"
   ]
  },
  {
   "cell_type": "code",
   "execution_count": 35,
   "metadata": {},
   "outputs": [
    {
     "data": {
      "text/html": [
       "0.907253499579289"
      ],
      "text/latex": [
       "0.907253499579289"
      ],
      "text/markdown": [
       "0.907253499579289"
      ],
      "text/plain": [
       "[1] 0.9072535"
      ]
     },
     "metadata": {},
     "output_type": "display_data"
    },
    {
     "data": {
      "text/html": [
       "0.642238742593756"
      ],
      "text/latex": [
       "0.642238742593756"
      ],
      "text/markdown": [
       "0.642238742593756"
      ],
      "text/plain": [
       "[1] 0.6422387"
      ]
     },
     "metadata": {},
     "output_type": "display_data"
    },
    {
     "data": {
      "image/png": "[encoded data removed]",
      "text/plain": [
       "plot without title"
      ]
     },
     "metadata": {
      "image/png": {
       "height": 420,
       "width": 420
      }
     },
     "output_type": "display_data"
    },
    {
     "data": {
      "image/png": "[encoded data removed]",
      "text/plain": [
       "plot without title"
      ]
     },
     "metadata": {
      "image/png": {
       "height": 420,
       "width": 420
      }
     },
     "output_type": "display_data"
    }
   ],
   "source": [
    "# original, time0\n",
    "pred01_rocr = ROCR::prediction(results0$pred_first, results0$first_label)\n",
    "\n",
    "# same here\n",
    "pred_rocr = pred01_rocr\n",
    "\n",
    "# AUROC\n",
    "ROCR::performance(pred_rocr, measure = \"auc\", x.measure = \"cutoff\")@y.values[[1]]\n",
    "roc_perf <- ROCR::performance(pred_rocr,\"tpr\",\"fpr\")\n",
    "plot(roc_perf)\n",
    "\n",
    "# AUPRC\n",
    "ROCR::performance(pred_rocr, measure = \"aucpr\", x.measure = \"cutoff\")@y.values[[1]]\n",
    "prc_perf <- ROCR::performance(pred_rocr, \"prec\", \"rec\")\n",
    "plot(prc_perf)\n",
    "\n",
    "# acc = ROCR::performance(pred_rocr, measure = \"acc\", x.measure = \"cutoff\")@y.values[[1]]\n",
    "# mean(acc)"
   ]
  },
  {
   "cell_type": "code",
   "execution_count": 37,
   "metadata": {},
   "outputs": [
    {
     "data": {
      "text/html": [
       "0.852746095933298"
      ],
      "text/latex": [
       "0.852746095933298"
      ],
      "text/markdown": [
       "0.852746095933298"
      ],
      "text/plain": [
       "[1] 0.8527461"
      ]
     },
     "metadata": {},
     "output_type": "display_data"
    },
    {
     "data": {
      "text/html": [
       "0.491112785165401"
      ],
      "text/latex": [
       "0.491112785165401"
      ],
      "text/markdown": [
       "0.491112785165401"
      ],
      "text/plain": [
       "[1] 0.4911128"
      ]
     },
     "metadata": {},
     "output_type": "display_data"
    },
    {
     "data": {
      "image/png": "[encoded data removed]",
      "text/plain": [
       "plot without title"
      ]
     },
     "metadata": {
      "image/png": {
       "height": 420,
       "width": 420
      }
     },
     "output_type": "display_data"
    },
    {
     "data": {
      "image/png": "[encoded data removed]",
      "text/plain": [
       "plot without title"
      ]
     },
     "metadata": {
      "image/png": {
       "height": 420,
       "width": 420
      }
     },
     "output_type": "display_data"
    }
   ],
   "source": [
    "# original, time24\n",
    "pred024_rocr = ROCR::prediction(results0$pred_death_24hr_recent,results0$death_24hr_recent_label)\n",
    "# auc24 <- performance(pred24_rocr, measure = \"auc\")\n",
    "# auc24 <- auc24@y.values[[1]]\n",
    "\n",
    "pred_rocr = pred024_rocr\n",
    "\n",
    "# AUROC\n",
    "ROCR::performance(pred_rocr, measure = \"auc\", x.measure = \"cutoff\")@y.values[[1]]\n",
    "roc_perf <- ROCR::performance(pred_rocr,\"tpr\",\"fpr\")\n",
    "plot(roc_perf)\n",
    "\n",
    "# AUPRC\n",
    "ROCR::performance(pred_rocr, measure = \"aucpr\", x.measure = \"cutoff\")@y.values[[1]]\n",
    "prc_perf <- ROCR::performance(pred_rocr, \"prec\", \"rec\")\n",
    "plot(prc_perf)"
   ]
  },
  {
   "cell_type": "markdown",
   "metadata": {},
   "source": [
    "### For the valset, when combining, didn't work\n",
    "- need to read in separately"
   ]
  },
  {
   "cell_type": "code",
   "execution_count": 32,
   "metadata": {},
   "outputs": [
    {
     "data": {
      "text/html": [
       "0.919851383583108"
      ],
      "text/latex": [
       "0.919851383583108"
      ],
      "text/markdown": [
       "0.919851383583108"
      ],
      "text/plain": [
       "[1] 0.9198514"
      ]
     },
     "metadata": {},
     "output_type": "display_data"
    },
    {
     "data": {
      "text/html": [
       "0.657237790456292"
      ],
      "text/latex": [
       "0.657237790456292"
      ],
      "text/markdown": [
       "0.657237790456292"
      ],
      "text/plain": [
       "[1] 0.6572378"
      ]
     },
     "metadata": {},
     "output_type": "display_data"
    },
    {
     "data": {
      "text/html": [
       "0.873546853104521"
      ],
      "text/latex": [
       "0.873546853104521"
      ],
      "text/markdown": [
       "0.873546853104521"
      ],
      "text/plain": [
       "[1] 0.8735469"
      ]
     },
     "metadata": {},
     "output_type": "display_data"
    },
    {
     "data": {
      "text/html": [
       "0.536498685201251"
      ],
      "text/latex": [
       "0.536498685201251"
      ],
      "text/markdown": [
       "0.536498685201251"
      ],
      "text/plain": [
       "[1] 0.5364987"
      ]
     },
     "metadata": {},
     "output_type": "display_data"
    }
   ],
   "source": [
    "# validation\n",
    "# v1 <- read.csv(file.path(modeldir6, \"/6_7_cohort4_all/first_label/lightgbm_test_results.csv\"))\n",
    "# v24 <- read.csv(file.path(modeldir6, \"/6_7_cohort4_all/death_24hr_recent_label/lightgbm_test_results.csv\"))\n",
    "\n",
    "# pred_rocr60 = ROCR::prediction(v1$predictions, v1$first_label)\n",
    "# ROCR::performance(pred_rocr60, measure = \"auc\", x.measure = \"cutoff\")@y.values[[1]]\n",
    "# ROCR::performance(pred_rocr60, measure = \"aucpr\", x.measure = \"cutoff\")@y.values[[1]]\n",
    "\n",
    "# pred_rocr624 = ROCR::prediction(v24$predictions, v24$death_24hr_recent_label)\n",
    "# ROCR::performance(pred_rocr624, measure = \"auc\", x.measure = \"cutoff\")@y.values[[1]]\n",
    "# ROCR::performance(pred_rocr624, measure = \"aucpr\", x.measure = \"cutoff\")@y.values[[1]]\n",
    "\n",
    "# from the combined file\n",
    "# valtest <- v1 %>% select(pat_enc_csn_id_coded, p1=predictions) %>% inner_join(v24) %>%\n",
    "#                 select(anon_id, pat_enc_csn_id_coded, admit_time, first_label, death_24hr_recent_label, p1, p24=predictions)\n",
    "# nrow(valtest) # same as results6\n",
    "pred_rocr60 = ROCR::prediction(results6$p1, results6$first_label)\n",
    "ROCR::performance(pred_rocr60, measure = \"auc\", x.measure = \"cutoff\")@y.values[[1]]\n",
    "ROCR::performance(pred_rocr60, measure = \"aucpr\", x.measure = \"cutoff\")@y.values[[1]]\n",
    "\n",
    "pred_rocr624 = ROCR::prediction(results6$p24, results6$death_24hr_recent_label)\n",
    "ROCR::performance(pred_rocr624, measure = \"auc\", x.measure = \"cutoff\")@y.values[[1]]\n",
    "ROCR::performance(pred_rocr624, measure = \"aucpr\", x.measure = \"cutoff\")@y.values[[1]]"
   ]
  },
  {
   "cell_type": "code",
   "execution_count": 56,
   "metadata": {},
   "outputs": [
    {
     "data": {
      "text/html": [
       "0.919851383583108"
      ],
      "text/latex": [
       "0.919851383583108"
      ],
      "text/markdown": [
       "0.919851383583108"
      ],
      "text/plain": [
       "[1] 0.9198514"
      ]
     },
     "metadata": {},
     "output_type": "display_data"
    },
    {
     "data": {
      "text/html": [
       "0.657237790456292"
      ],
      "text/latex": [
       "0.657237790456292"
      ],
      "text/markdown": [
       "0.657237790456292"
      ],
      "text/plain": [
       "[1] 0.6572378"
      ]
     },
     "metadata": {},
     "output_type": "display_data"
    },
    {
     "data": {
      "text/html": [
       "0.873546853104521"
      ],
      "text/latex": [
       "0.873546853104521"
      ],
      "text/markdown": [
       "0.873546853104521"
      ],
      "text/plain": [
       "[1] 0.8735469"
      ]
     },
     "metadata": {},
     "output_type": "display_data"
    },
    {
     "data": {
      "text/html": [
       "0.536498685201251"
      ],
      "text/latex": [
       "0.536498685201251"
      ],
      "text/markdown": [
       "0.536498685201251"
      ],
      "text/plain": [
       "[1] 0.5364987"
      ]
     },
     "metadata": {},
     "output_type": "display_data"
    }
   ],
   "source": [
    "pred_rocr60 = ROCR::prediction(results6$p1, results6$first_label)\n",
    "ROCR::performance(pred_rocr60, measure = \"auc\", x.measure = \"cutoff\")@y.values[[1]]\n",
    "ROCR::performance(pred_rocr60, measure = \"aucpr\", x.measure = \"cutoff\")@y.values[[1]]\n",
    "\n",
    "pred_rocr624 = ROCR::prediction(results6$p24, results6$death_24hr_recent_label)\n",
    "ROCR::performance(pred_rocr624, measure = \"auc\", x.measure = \"cutoff\")@y.values[[1]]\n",
    "ROCR::performance(pred_rocr624, measure = \"aucpr\", x.measure = \"cutoff\")@y.values[[1]]"
   ]
  },
  {
   "cell_type": "code",
   "execution_count": 34,
   "metadata": {},
   "outputs": [
    {
     "data": {
      "text/html": [
       "<table>\n",
       "<caption>A data.frame: 2 × 7</caption>\n",
       "<thead>\n",
       "\t<tr><th></th><th scope=col>anon_id</th><th scope=col>pat_enc_csn_id_coded</th><th scope=col>admit_time</th><th scope=col>first_label</th><th scope=col>death_24hr_recent_label</th><th scope=col>p1</th><th scope=col>p24</th></tr>\n",
       "\t<tr><th></th><th scope=col>&lt;chr&gt;</th><th scope=col>&lt;dbl&gt;</th><th scope=col>&lt;chr&gt;</th><th scope=col>&lt;int&gt;</th><th scope=col>&lt;int&gt;</th><th scope=col>&lt;dbl&gt;</th><th scope=col>&lt;dbl&gt;</th></tr>\n",
       "</thead>\n",
       "<tbody>\n",
       "\t<tr><th scope=row>1</th><td>JC641497 </td><td>131284412456</td><td>2020-04-01 17:34:00+00:00</td><td>0</td><td>0</td><td>0.2116938</td><td>0.1481353</td></tr>\n",
       "\t<tr><th scope=row>2</th><td>JC2935494</td><td>131284535377</td><td>2020-04-03 05:57:00+00:00</td><td>1</td><td>1</td><td>0.1878302</td><td>0.0664162</td></tr>\n",
       "</tbody>\n",
       "</table>\n"
      ],
      "text/latex": [
       "A data.frame: 2 × 7\n",
       "\\begin{tabular}{r|lllllll}\n",
       "  & anon\\_id & pat\\_enc\\_csn\\_id\\_coded & admit\\_time & first\\_label & death\\_24hr\\_recent\\_label & p1 & p24\\\\\n",
       "  & <chr> & <dbl> & <chr> & <int> & <int> & <dbl> & <dbl>\\\\\n",
       "\\hline\n",
       "\t1 & JC641497  & 131284412456 & 2020-04-01 17:34:00+00:00 & 0 & 0 & 0.2116938 & 0.1481353\\\\\n",
       "\t2 & JC2935494 & 131284535377 & 2020-04-03 05:57:00+00:00 & 1 & 1 & 0.1878302 & 0.0664162\\\\\n",
       "\\end{tabular}\n"
      ],
      "text/markdown": [
       "\n",
       "A data.frame: 2 × 7\n",
       "\n",
       "| <!--/--> | anon_id &lt;chr&gt; | pat_enc_csn_id_coded &lt;dbl&gt; | admit_time &lt;chr&gt; | first_label &lt;int&gt; | death_24hr_recent_label &lt;int&gt; | p1 &lt;dbl&gt; | p24 &lt;dbl&gt; |\n",
       "|---|---|---|---|---|---|---|---|\n",
       "| 1 | JC641497  | 131284412456 | 2020-04-01 17:34:00+00:00 | 0 | 0 | 0.2116938 | 0.1481353 |\n",
       "| 2 | JC2935494 | 131284535377 | 2020-04-03 05:57:00+00:00 | 1 | 1 | 0.1878302 | 0.0664162 |\n",
       "\n"
      ],
      "text/plain": [
       "  anon_id   pat_enc_csn_id_coded admit_time                first_label\n",
       "1 JC641497  131284412456         2020-04-01 17:34:00+00:00 0          \n",
       "2 JC2935494 131284535377         2020-04-03 05:57:00+00:00 1          \n",
       "  death_24hr_recent_label p1        p24      \n",
       "1 0                       0.2116938 0.1481353\n",
       "2 1                       0.1878302 0.0664162"
      ]
     },
     "metadata": {},
     "output_type": "display_data"
    }
   ],
   "source": [
    "head(results6, 2)\n",
    "head(results)"
   ]
  },
  {
   "cell_type": "code",
   "execution_count": 43,
   "metadata": {},
   "outputs": [
    {
     "name": "stdout",
     "output_type": "stream",
     "text": [
      "[1] \"AUROC for new model/data with old time split\"\n"
     ]
    },
    {
     "data": {
      "text/html": [
       "0.921326756034019"
      ],
      "text/latex": [
       "0.921326756034019"
      ],
      "text/markdown": [
       "0.921326756034019"
      ],
      "text/plain": [
       "[1] 0.9213268"
      ]
     },
     "metadata": {},
     "output_type": "display_data"
    },
    {
     "data": {
      "text/html": [
       "0.915963608867874"
      ],
      "text/latex": [
       "0.915963608867874"
      ],
      "text/markdown": [
       "0.915963608867874"
      ],
      "text/plain": [
       "[1] 0.9159636"
      ]
     },
     "metadata": {},
     "output_type": "display_data"
    },
    {
     "data": {
      "text/html": [
       "0.91071705441051"
      ],
      "text/latex": [
       "0.91071705441051"
      ],
      "text/markdown": [
       "0.91071705441051"
      ],
      "text/plain": [
       "[1] 0.9107171"
      ]
     },
     "metadata": {},
     "output_type": "display_data"
    },
    {
     "data": {
      "text/html": [
       "0.905223182476234"
      ],
      "text/latex": [
       "0.905223182476234"
      ],
      "text/markdown": [
       "0.905223182476234"
      ],
      "text/plain": [
       "[1] 0.9052232"
      ]
     },
     "metadata": {},
     "output_type": "display_data"
    },
    {
     "data": {
      "text/html": [
       "0.898881080283156"
      ],
      "text/latex": [
       "0.898881080283156"
      ],
      "text/markdown": [
       "0.898881080283156"
      ],
      "text/plain": [
       "[1] 0.8988811"
      ]
     },
     "metadata": {},
     "output_type": "display_data"
    },
    {
     "data": {
      "text/html": [
       "0.883678568918125"
      ],
      "text/latex": [
       "0.883678568918125"
      ],
      "text/markdown": [
       "0.883678568918125"
      ],
      "text/plain": [
       "[1] 0.8836786"
      ]
     },
     "metadata": {},
     "output_type": "display_data"
    },
    {
     "name": "stdout",
     "output_type": "stream",
     "text": [
      "[1] \"AUPRC for new model/data with old time split\"\n"
     ]
    },
    {
     "data": {
      "text/html": [
       "0.658040279874404"
      ],
      "text/latex": [
       "0.658040279874404"
      ],
      "text/markdown": [
       "0.658040279874404"
      ],
      "text/plain": [
       "[1] 0.6580403"
      ]
     },
     "metadata": {},
     "output_type": "display_data"
    },
    {
     "data": {
      "text/html": [
       "0.658887218427493"
      ],
      "text/latex": [
       "0.658887218427493"
      ],
      "text/markdown": [
       "0.658887218427493"
      ],
      "text/plain": [
       "[1] 0.6588872"
      ]
     },
     "metadata": {},
     "output_type": "display_data"
    },
    {
     "data": {
      "text/html": [
       "0.642330053666234"
      ],
      "text/latex": [
       "0.642330053666234"
      ],
      "text/markdown": [
       "0.642330053666234"
      ],
      "text/plain": [
       "[1] 0.6423301"
      ]
     },
     "metadata": {},
     "output_type": "display_data"
    },
    {
     "data": {
      "text/html": [
       "0.634476667745708"
      ],
      "text/latex": [
       "0.634476667745708"
      ],
      "text/markdown": [
       "0.634476667745708"
      ],
      "text/plain": [
       "[1] 0.6344767"
      ]
     },
     "metadata": {},
     "output_type": "display_data"
    },
    {
     "data": {
      "text/html": [
       "0.615673833705244"
      ],
      "text/latex": [
       "0.615673833705244"
      ],
      "text/markdown": [
       "0.615673833705244"
      ],
      "text/plain": [
       "[1] 0.6156738"
      ]
     },
     "metadata": {},
     "output_type": "display_data"
    },
    {
     "data": {
      "text/html": [
       "0.525941589804301"
      ],
      "text/latex": [
       "0.525941589804301"
      ],
      "text/markdown": [
       "0.525941589804301"
      ],
      "text/plain": [
       "[1] 0.5259416"
      ]
     },
     "metadata": {},
     "output_type": "display_data"
    }
   ],
   "source": [
    "# new model/data old split, time0\n",
    "pred21_rocr = ROCR::prediction(results2$p1, results2$first_label)\n",
    "pred23_rocr = ROCR::prediction(results2$p3, results2$death_3hr_recent_label)\n",
    "pred26_rocr = ROCR::prediction(results2$p6, results2$death_6hr_recent_label)\n",
    "pred29_rocr = ROCR::prediction(results2$p9, results2$death_9hr_recent_label)\n",
    "pred212_rocr = ROCR::prediction(results2$p12, results2$death_12hr_recent_label)\n",
    "pred224_rocr = ROCR::prediction(results2$p24, results2$death_24hr_recent_label)\n",
    "\n",
    "print(\"AUROC for new model/data with old time split\")\n",
    "# AUROC\n",
    "ROCR::performance(pred21_rocr, measure = \"auc\", x.measure = \"cutoff\")@y.values[[1]]\n",
    "ROCR::performance(pred23_rocr, measure = \"auc\", x.measure = \"cutoff\")@y.values[[1]]\n",
    "ROCR::performance(pred26_rocr, measure = \"auc\", x.measure = \"cutoff\")@y.values[[1]]\n",
    "ROCR::performance(pred29_rocr, measure = \"auc\", x.measure = \"cutoff\")@y.values[[1]]\n",
    "ROCR::performance(pred212_rocr, measure = \"auc\", x.measure = \"cutoff\")@y.values[[1]]\n",
    "ROCR::performance(pred224_rocr, measure = \"auc\", x.measure = \"cutoff\")@y.values[[1]]\n",
    "\n",
    "print(\"AUPRC for new model/data with old time split\")\n",
    "\n",
    "# AUPRC\n",
    "ROCR::performance(pred21_rocr, measure = \"aucpr\", x.measure = \"cutoff\")@y.values[[1]]\n",
    "ROCR::performance(pred23_rocr, measure = \"aucpr\", x.measure = \"cutoff\")@y.values[[1]]\n",
    "ROCR::performance(pred26_rocr, measure = \"aucpr\", x.measure = \"cutoff\")@y.values[[1]]\n",
    "ROCR::performance(pred29_rocr, measure = \"aucpr\", x.measure = \"cutoff\")@y.values[[1]]\n",
    "ROCR::performance(pred212_rocr, measure = \"aucpr\", x.measure = \"cutoff\")@y.values[[1]]\n",
    "ROCR::performance(pred224_rocr, measure = \"aucpr\", x.measure = \"cutoff\")@y.values[[1]]"
   ]
  },
  {
   "cell_type": "code",
   "execution_count": 42,
   "metadata": {},
   "outputs": [
    {
     "name": "stdout",
     "output_type": "stream",
     "text": [
      "[1] \"AUROC for new model/data with NEW time split\"\n"
     ]
    },
    {
     "data": {
      "text/html": [
       "0.931707015856511"
      ],
      "text/latex": [
       "0.931707015856511"
      ],
      "text/markdown": [
       "0.931707015856511"
      ],
      "text/plain": [
       "[1] 0.931707"
      ]
     },
     "metadata": {},
     "output_type": "display_data"
    },
    {
     "data": {
      "text/html": [
       "0.925865639307152"
      ],
      "text/latex": [
       "0.925865639307152"
      ],
      "text/markdown": [
       "0.925865639307152"
      ],
      "text/plain": [
       "[1] 0.9258656"
      ]
     },
     "metadata": {},
     "output_type": "display_data"
    },
    {
     "data": {
      "text/html": [
       "0.918732439282582"
      ],
      "text/latex": [
       "0.918732439282582"
      ],
      "text/markdown": [
       "0.918732439282582"
      ],
      "text/plain": [
       "[1] 0.9187324"
      ]
     },
     "metadata": {},
     "output_type": "display_data"
    },
    {
     "data": {
      "text/html": [
       "0.914817714406269"
      ],
      "text/latex": [
       "0.914817714406269"
      ],
      "text/markdown": [
       "0.914817714406269"
      ],
      "text/plain": [
       "[1] 0.9148177"
      ]
     },
     "metadata": {},
     "output_type": "display_data"
    },
    {
     "data": {
      "text/html": [
       "0.9064009718119"
      ],
      "text/latex": [
       "0.9064009718119"
      ],
      "text/markdown": [
       "0.9064009718119"
      ],
      "text/plain": [
       "[1] 0.906401"
      ]
     },
     "metadata": {},
     "output_type": "display_data"
    },
    {
     "data": {
      "text/html": [
       "0.894135371789625"
      ],
      "text/latex": [
       "0.894135371789625"
      ],
      "text/markdown": [
       "0.894135371789625"
      ],
      "text/plain": [
       "[1] 0.8941354"
      ]
     },
     "metadata": {},
     "output_type": "display_data"
    },
    {
     "name": "stdout",
     "output_type": "stream",
     "text": [
      "[1] \"AUPRC for new model/data with NEW time split\"\n"
     ]
    },
    {
     "data": {
      "text/html": [
       "0.667232881131702"
      ],
      "text/latex": [
       "0.667232881131702"
      ],
      "text/markdown": [
       "0.667232881131702"
      ],
      "text/plain": [
       "[1] 0.6672329"
      ]
     },
     "metadata": {},
     "output_type": "display_data"
    },
    {
     "data": {
      "text/html": [
       "0.662108195774938"
      ],
      "text/latex": [
       "0.662108195774938"
      ],
      "text/markdown": [
       "0.662108195774938"
      ],
      "text/plain": [
       "[1] 0.6621082"
      ]
     },
     "metadata": {},
     "output_type": "display_data"
    },
    {
     "data": {
      "text/html": [
       "0.653948839593847"
      ],
      "text/latex": [
       "0.653948839593847"
      ],
      "text/markdown": [
       "0.653948839593847"
      ],
      "text/plain": [
       "[1] 0.6539488"
      ]
     },
     "metadata": {},
     "output_type": "display_data"
    },
    {
     "data": {
      "text/html": [
       "0.648460153984479"
      ],
      "text/latex": [
       "0.648460153984479"
      ],
      "text/markdown": [
       "0.648460153984479"
      ],
      "text/plain": [
       "[1] 0.6484602"
      ]
     },
     "metadata": {},
     "output_type": "display_data"
    },
    {
     "data": {
      "text/html": [
       "0.634342754326218"
      ],
      "text/latex": [
       "0.634342754326218"
      ],
      "text/markdown": [
       "0.634342754326218"
      ],
      "text/plain": [
       "[1] 0.6343428"
      ]
     },
     "metadata": {},
     "output_type": "display_data"
    },
    {
     "data": {
      "text/html": [
       "0.543253979975167"
      ],
      "text/latex": [
       "0.543253979975167"
      ],
      "text/markdown": [
       "0.543253979975167"
      ],
      "text/plain": [
       "[1] 0.543254"
      ]
     },
     "metadata": {},
     "output_type": "display_data"
    }
   ],
   "source": [
    "# new model new split\n",
    "pred1_rocr = ROCR::prediction(results$p1, results$first_label)\n",
    "pred3_rocr = ROCR::prediction(results$p3, results$death_3hr_recent_label)\n",
    "pred6_rocr = ROCR::prediction(results$p6, results$death_6hr_recent_label)\n",
    "pred9_rocr = ROCR::prediction(results$p9, results$death_9hr_recent_label)\n",
    "pred12_rocr = ROCR::prediction(results$p12, results$death_12hr_recent_label)\n",
    "pred24_rocr = ROCR::prediction(results$p24, results$death_24hr_recent_label)\n",
    "\n",
    "print(\"AUROC for new model/data with NEW time split\")\n",
    "# AUROC\n",
    "ROCR::performance(pred1_rocr, measure = \"auc\", x.measure = \"cutoff\")@y.values[[1]]\n",
    "ROCR::performance(pred3_rocr, measure = \"auc\", x.measure = \"cutoff\")@y.values[[1]]\n",
    "ROCR::performance(pred6_rocr, measure = \"auc\", x.measure = \"cutoff\")@y.values[[1]]\n",
    "ROCR::performance(pred9_rocr, measure = \"auc\", x.measure = \"cutoff\")@y.values[[1]]\n",
    "ROCR::performance(pred12_rocr, measure = \"auc\", x.measure = \"cutoff\")@y.values[[1]]\n",
    "ROCR::performance(pred24_rocr, measure = \"auc\", x.measure = \"cutoff\")@y.values[[1]]\n",
    "\n",
    "print(\"AUPRC for new model/data with NEW time split\")\n",
    "# AUPRC\n",
    "ROCR::performance(pred1_rocr, measure = \"aucpr\", x.measure = \"cutoff\")@y.values[[1]]\n",
    "ROCR::performance(pred3_rocr, measure = \"aucpr\", x.measure = \"cutoff\")@y.values[[1]]\n",
    "ROCR::performance(pred6_rocr, measure = \"aucpr\", x.measure = \"cutoff\")@y.values[[1]]\n",
    "ROCR::performance(pred9_rocr, measure = \"aucpr\", x.measure = \"cutoff\")@y.values[[1]]\n",
    "ROCR::performance(pred12_rocr, measure = \"aucpr\", x.measure = \"cutoff\")@y.values[[1]]\n",
    "ROCR::performance(pred24_rocr, measure = \"aucpr\", x.measure = \"cutoff\")@y.values[[1]]"
   ]
  },
  {
   "cell_type": "code",
   "execution_count": 6,
   "metadata": {},
   "outputs": [
    {
     "data": {
      "text/html": [
       "<dl>\n",
       "\t<dt>$cvAUC</dt>\n",
       "\t\t<dd>0.907253499579289</dd>\n",
       "\t<dt>$se</dt>\n",
       "\t\t<dd>0.0037962395072997</dd>\n",
       "\t<dt>$ci</dt>\n",
       "\t\t<dd><style>\n",
       ".list-inline {list-style: none; margin:0; padding: 0}\n",
       ".list-inline>li {display: inline-block}\n",
       ".list-inline>li:not(:last-child)::after {content: \"\\00b7\"; padding: 0 .5ex}\n",
       "</style>\n",
       "<ol class=list-inline><li>0.899813006868294</li><li>0.914693992290285</li></ol>\n",
       "</dd>\n",
       "\t<dt>$confidence</dt>\n",
       "\t\t<dd>0.95</dd>\n",
       "</dl>\n"
      ],
      "text/latex": [
       "\\begin{description}\n",
       "\\item[\\$cvAUC] 0.907253499579289\n",
       "\\item[\\$se] 0.0037962395072997\n",
       "\\item[\\$ci] \\begin{enumerate*}\n",
       "\\item 0.899813006868294\n",
       "\\item 0.914693992290285\n",
       "\\end{enumerate*}\n",
       "\n",
       "\\item[\\$confidence] 0.95\n",
       "\\end{description}\n"
      ],
      "text/markdown": [
       "$cvAUC\n",
       ":   0.907253499579289\n",
       "$se\n",
       ":   0.0037962395072997\n",
       "$ci\n",
       ":   1. 0.899813006868294\n",
       "2. 0.914693992290285\n",
       "\n",
       "\n",
       "\n",
       "$confidence\n",
       ":   0.95\n",
       "\n",
       "\n"
      ],
      "text/plain": [
       "$cvAUC\n",
       "[1] 0.9072535\n",
       "\n",
       "$se\n",
       "[1] 0.00379624\n",
       "\n",
       "$ci\n",
       "[1] 0.899813 0.914694\n",
       "\n",
       "$confidence\n",
       "[1] 0.95\n"
      ]
     },
     "metadata": {},
     "output_type": "display_data"
    },
    {
     "data": {
      "text/html": [
       "<dl>\n",
       "\t<dt>$cvAUC</dt>\n",
       "\t\t<dd>0.852746095933298</dd>\n",
       "\t<dt>$se</dt>\n",
       "\t\t<dd>0.00555063678075404</dd>\n",
       "\t<dt>$ci</dt>\n",
       "\t\t<dd><style>\n",
       ".list-inline {list-style: none; margin:0; padding: 0}\n",
       ".list-inline>li {display: inline-block}\n",
       ".list-inline>li:not(:last-child)::after {content: \"\\00b7\"; padding: 0 .5ex}\n",
       "</style>\n",
       "<ol class=list-inline><li>0.841867047751756</li><li>0.863625144114839</li></ol>\n",
       "</dd>\n",
       "\t<dt>$confidence</dt>\n",
       "\t\t<dd>0.95</dd>\n",
       "</dl>\n"
      ],
      "text/latex": [
       "\\begin{description}\n",
       "\\item[\\$cvAUC] 0.852746095933298\n",
       "\\item[\\$se] 0.00555063678075404\n",
       "\\item[\\$ci] \\begin{enumerate*}\n",
       "\\item 0.841867047751756\n",
       "\\item 0.863625144114839\n",
       "\\end{enumerate*}\n",
       "\n",
       "\\item[\\$confidence] 0.95\n",
       "\\end{description}\n"
      ],
      "text/markdown": [
       "$cvAUC\n",
       ":   0.852746095933298\n",
       "$se\n",
       ":   0.00555063678075404\n",
       "$ci\n",
       ":   1. 0.841867047751756\n",
       "2. 0.863625144114839\n",
       "\n",
       "\n",
       "\n",
       "$confidence\n",
       ":   0.95\n",
       "\n",
       "\n"
      ],
      "text/plain": [
       "$cvAUC\n",
       "[1] 0.8527461\n",
       "\n",
       "$se\n",
       "[1] 0.005550637\n",
       "\n",
       "$ci\n",
       "[1] 0.8418670 0.8636251\n",
       "\n",
       "$confidence\n",
       "[1] 0.95\n"
      ]
     },
     "metadata": {},
     "output_type": "display_data"
    }
   ],
   "source": [
    "# ORIGINAL\n",
    "# confidence interval for AUROC, using cross validation\n",
    "ci.cvAUC(results0$pred_first, results$first_label)\n",
    "ci.cvAUC(results0$pred_death_24hr_recent, results0$death_24hr_recent_label)"
   ]
  },
  {
   "cell_type": "code",
   "execution_count": 7,
   "metadata": {},
   "outputs": [
    {
     "name": "stderr",
     "output_type": "stream",
     "text": [
      "Setting levels: control = 0, case = 1\n",
      "\n",
      "Setting direction: controls < cases\n",
      "\n"
     ]
    },
    {
     "name": "stdout",
     "output_type": "stream",
     "text": [
      "95% CI: 0.8998-0.9147 (DeLong)\n",
      "95% CI: 0.8999-0.9145 (2000 stratified bootstrap replicates)\n"
     ]
    },
    {
     "name": "stderr",
     "output_type": "stream",
     "text": [
      "Setting levels: control = 0, case = 1\n",
      "\n",
      "Setting direction: controls < cases\n",
      "\n"
     ]
    },
    {
     "name": "stdout",
     "output_type": "stream",
     "text": [
      "95% CI: 0.8419-0.8636 (DeLong)\n",
      "95% CI: 0.8422-0.8645 (2000 stratified bootstrap replicates)\n"
     ]
    }
   ],
   "source": [
    "# confidence intervals for AUROC using delong and bootstrap methods\n",
    "proc1 <- pROC::roc(results0$first_label, results0$pred_first)\n",
    "# print(proc1)\n",
    "print(ci.auc(proc1))\n",
    "print(ci.auc(proc1, method = \"bootstrap\"))\n",
    "\n",
    "proc24 <- pROC::roc(results0$death_24hr_recent_label, results0$pred_death_24hr_recent)\n",
    "print(ci.auc(proc24))\n",
    "print(ci.auc(proc24, method = \"bootstrap\"))"
   ]
  },
  {
   "cell_type": "code",
   "execution_count": 51,
   "metadata": {},
   "outputs": [
    {
     "name": "stderr",
     "output_type": "stream",
     "text": [
      "Setting levels: control = 0, case = 1\n",
      "\n",
      "Setting direction: controls < cases\n",
      "\n"
     ]
    },
    {
     "name": "stdout",
     "output_type": "stream",
     "text": [
      "95% CI: 0.9134-0.9264 (DeLong)\n",
      "95% CI: 0.9132-0.9264 (2000 stratified bootstrap replicates)\n"
     ]
    },
    {
     "name": "stderr",
     "output_type": "stream",
     "text": [
      "Setting levels: control = 0, case = 1\n",
      "\n",
      "Setting direction: controls < cases\n",
      "\n"
     ]
    },
    {
     "name": "stdout",
     "output_type": "stream",
     "text": [
      "95% CI: 0.8644-0.8827 (DeLong)\n",
      "95% CI: 0.8637-0.8826 (2000 stratified bootstrap replicates)\n"
     ]
    }
   ],
   "source": [
    "# confidence intervals for AUROC using delong and bootstrap methods\n",
    "# NEW VALIDATION data\n",
    "proc1 <- pROC::roc(results6$first_label, results6$p1)\n",
    "print(ci.auc(proc1))\n",
    "print(ci.auc(proc1, method = \"bootstrap\"))\n",
    "\n",
    "proc24 <- pROC::roc(results6$death_24hr_recent_label, results6$p24)\n",
    "print(ci.auc(proc24))\n",
    "print(ci.auc(proc24, method = \"bootstrap\"))"
   ]
  },
  {
   "cell_type": "code",
   "execution_count": 48,
   "metadata": {},
   "outputs": [
    {
     "name": "stderr",
     "output_type": "stream",
     "text": [
      "Setting levels: control = 0, case = 1\n",
      "\n",
      "Setting direction: controls < cases\n",
      "\n"
     ]
    },
    {
     "name": "stdout",
     "output_type": "stream",
     "text": [
      "95% CI: 0.9146-0.9278 (2000 stratified bootstrap replicates)\n"
     ]
    },
    {
     "name": "stderr",
     "output_type": "stream",
     "text": [
      "Setting levels: control = 0, case = 1\n",
      "\n",
      "Setting direction: controls < cases\n",
      "\n"
     ]
    },
    {
     "name": "stdout",
     "output_type": "stream",
     "text": [
      "95% CI: 0.909-0.923 (2000 stratified bootstrap replicates)\n"
     ]
    },
    {
     "name": "stderr",
     "output_type": "stream",
     "text": [
      "Setting levels: control = 0, case = 1\n",
      "\n",
      "Setting direction: controls < cases\n",
      "\n"
     ]
    },
    {
     "name": "stdout",
     "output_type": "stream",
     "text": [
      "95% CI: 0.9031-0.9177 (2000 stratified bootstrap replicates)\n"
     ]
    },
    {
     "name": "stderr",
     "output_type": "stream",
     "text": [
      "Setting levels: control = 0, case = 1\n",
      "\n",
      "Setting direction: controls < cases\n",
      "\n"
     ]
    },
    {
     "name": "stdout",
     "output_type": "stream",
     "text": [
      "95% CI: 0.8978-0.9123 (2000 stratified bootstrap replicates)\n"
     ]
    },
    {
     "name": "stderr",
     "output_type": "stream",
     "text": [
      "Setting levels: control = 0, case = 1\n",
      "\n",
      "Setting direction: controls < cases\n",
      "\n"
     ]
    },
    {
     "name": "stdout",
     "output_type": "stream",
     "text": [
      "95% CI: 0.8906-0.9069 (2000 stratified bootstrap replicates)\n"
     ]
    },
    {
     "name": "stderr",
     "output_type": "stream",
     "text": [
      "Setting levels: control = 0, case = 1\n",
      "\n",
      "Setting direction: controls < cases\n",
      "\n"
     ]
    },
    {
     "name": "stdout",
     "output_type": "stream",
     "text": [
      "95% CI: 0.8737-0.8929 (2000 stratified bootstrap replicates)\n"
     ]
    }
   ],
   "source": [
    "# confidence intervals for AUROC using delong and bootstrap methods\n",
    "# NEW DATA MODEL and old SPLIT\n",
    "res = results2\n",
    "\n",
    "proc1 <- pROC::roc(res$first_label, res$p1)\n",
    "# print(ci.auc(proc1))\n",
    "print(ci.auc(proc1, method = \"bootstrap\"))\n",
    "\n",
    "proc3 <- pROC::roc(res$death_3hr_recent_label, res$p3)\n",
    "# print(ci.auc(proc3))\n",
    "print(ci.auc(proc3, method = \"bootstrap\"))\n",
    "\n",
    "proc6 <- pROC::roc(res$death_6hr_recent_label, res$p6)\n",
    "# print(ci.auc(proc6))\n",
    "print(ci.auc(proc6, method = \"bootstrap\"))\n",
    "\n",
    "proc9 <- pROC::roc(res$death_9hr_recent_label, res$p9)\n",
    "# print(ci.auc(proc6))\n",
    "print(ci.auc(proc9, method = \"bootstrap\"))\n",
    "\n",
    "proc12 <- pROC::roc(res$death_12hr_recent_label, res$p12)\n",
    "# print(ci.auc(proc12))\n",
    "print(ci.auc(proc12, method = \"bootstrap\"))\n",
    "\n",
    "proc24 <- pROC::roc(res$death_24hr_recent_label, res$p24)\n",
    "# print(ci.auc(proc24))\n",
    "print(ci.auc(proc24, method = \"bootstrap\"))"
   ]
  },
  {
   "cell_type": "code",
   "execution_count": 47,
   "metadata": {},
   "outputs": [
    {
     "name": "stderr",
     "output_type": "stream",
     "text": [
      "Setting levels: control = 0, case = 1\n",
      "\n",
      "Setting direction: controls < cases\n",
      "\n"
     ]
    },
    {
     "name": "stdout",
     "output_type": "stream",
     "text": [
      "95% CI: 0.9225-0.9403 (2000 stratified bootstrap replicates)\n"
     ]
    },
    {
     "name": "stderr",
     "output_type": "stream",
     "text": [
      "Setting levels: control = 0, case = 1\n",
      "\n",
      "Setting direction: controls < cases\n",
      "\n"
     ]
    },
    {
     "name": "stdout",
     "output_type": "stream",
     "text": [
      "95% CI: 0.9162-0.9349 (2000 stratified bootstrap replicates)\n"
     ]
    },
    {
     "name": "stderr",
     "output_type": "stream",
     "text": [
      "Setting levels: control = 0, case = 1\n",
      "\n",
      "Setting direction: controls < cases\n",
      "\n"
     ]
    },
    {
     "name": "stdout",
     "output_type": "stream",
     "text": [
      "95% CI: 0.909-0.928 (2000 stratified bootstrap replicates)\n"
     ]
    },
    {
     "name": "stderr",
     "output_type": "stream",
     "text": [
      "Setting levels: control = 0, case = 1\n",
      "\n",
      "Setting direction: controls < cases\n",
      "\n"
     ]
    },
    {
     "name": "stdout",
     "output_type": "stream",
     "text": [
      "95% CI: 0.9048-0.9245 (2000 stratified bootstrap replicates)\n"
     ]
    },
    {
     "name": "stderr",
     "output_type": "stream",
     "text": [
      "Setting levels: control = 0, case = 1\n",
      "\n",
      "Setting direction: controls < cases\n",
      "\n"
     ]
    },
    {
     "name": "stdout",
     "output_type": "stream",
     "text": [
      "95% CI: 0.8958-0.9169 (2000 stratified bootstrap replicates)\n"
     ]
    },
    {
     "name": "stderr",
     "output_type": "stream",
     "text": [
      "Setting levels: control = 0, case = 1\n",
      "\n",
      "Setting direction: controls < cases\n",
      "\n"
     ]
    },
    {
     "name": "stdout",
     "output_type": "stream",
     "text": [
      "95% CI: 0.882-0.9063 (2000 stratified bootstrap replicates)\n"
     ]
    }
   ],
   "source": [
    "# confidence intervals for AUROC using delong and bootstrap methods\n",
    "# NEW DATA MODEL and SPLIT\n",
    "res = results\n",
    "\n",
    "proc1 <- pROC::roc(res$first_label, res$p1)\n",
    "# print(ci.auc(proc1))\n",
    "print(ci.auc(proc1, method = \"bootstrap\"))\n",
    "\n",
    "proc3 <- pROC::roc(res$death_3hr_recent_label, res$p3)\n",
    "# print(ci.auc(proc3))\n",
    "print(ci.auc(proc3, method = \"bootstrap\"))\n",
    "\n",
    "proc6 <- pROC::roc(res$death_6hr_recent_label, res$p6)\n",
    "# print(ci.auc(proc6))\n",
    "print(ci.auc(proc6, method = \"bootstrap\"))\n",
    "\n",
    "proc9 <- pROC::roc(res$death_9hr_recent_label, res$p9)\n",
    "# print(ci.auc(proc6))\n",
    "print(ci.auc(proc9, method = \"bootstrap\"))\n",
    "\n",
    "proc12 <- pROC::roc(res$death_12hr_recent_label, res$p12)\n",
    "# print(ci.auc(proc12))\n",
    "print(ci.auc(proc12, method = \"bootstrap\"))\n",
    "\n",
    "proc24 <- pROC::roc(res$death_24hr_recent_label, res$p24)\n",
    "# print(ci.auc(proc24))\n",
    "print(ci.auc(proc24, method = \"bootstrap\"))"
   ]
  },
  {
   "cell_type": "code",
   "execution_count": 52,
   "metadata": {},
   "outputs": [],
   "source": [
    "# bootstrapping for AUPRC, first labels\n",
    "# ORIGINAL DATA\n",
    "prcboot1 <- function(data, indices) {\n",
    "    d <- data[indices, ] # allows boot to select sample\n",
    "    pred_rocr <- ROCR::prediction(d$pred_first, d$first_label)\n",
    "    pr <- ROCR::performance(pred_rocr, measure = \"aucpr\", x.measure = \"cutoff\")@y.values[[1]]\n",
    "    return(pr)\n",
    "}\n",
    "# bootstrapping for AUPRC, 24hr labels\n",
    "prcboot24 <- function(data, indices) {\n",
    "    d <- data[indices, ] # allows boot to select sample\n",
    "    pred_rocr <- ROCR::prediction(d$pred_death_24hr_recent, d$death_24hr_recent_label)\n",
    "    pr <- ROCR::performance(pred_rocr, measure = \"aucpr\", x.measure = \"cutoff\")@y.values[[1]]\n",
    "    return(pr)\n",
    "}"
   ]
  },
  {
   "cell_type": "code",
   "execution_count": null,
   "metadata": {},
   "outputs": [],
   "source": [
    "pred_rocr60 = ROCR::prediction(results6$p1, results6$first_label)\n",
    "ROCR::performance(pred_rocr60, measure = \"auc\", x.measure = \"cutoff\")@y.values[[1]]\n",
    "ROCR::performance(pred_rocr60, measure = \"aucpr\", x.measure = \"cutoff\")@y.values[[1]]\n",
    "\n",
    "pred_rocr624 = ROCR::prediction(results6$p24, results6$death_24hr_recent_label)\n",
    "ROCR::performance(pred_rocr624, measure = \"auc\", x.measure = \"cutoff\")@y.values[[1]]\n",
    "ROCR::performance(pred_rocr624, measure = \"aucpr\", x.measure = \"cutoff\")@y.values[[1]]"
   ]
  },
  {
   "cell_type": "code",
   "execution_count": null,
   "metadata": {},
   "outputs": [],
   "source": [
    "# bootstrapping with 2000 replications\n",
    "results01 <- boot(results1, prcboot1, R=2000)\n",
    "# boot.ci(results1, type=\"norm\")\n",
    "\n",
    "# bootstrapping with 2000 replications\n",
    "results024 <- boot(data=results1, statistic=prcboot24, R=2000)\n",
    "# boot.ci(results24, type=\"norm\")"
   ]
  },
  {
   "cell_type": "code",
   "execution_count": 10,
   "metadata": {},
   "outputs": [
    {
     "data": {
      "text/plain": [
       "BOOTSTRAP CONFIDENCE INTERVAL CALCULATIONS\n",
       "Based on 2000 bootstrap replicates\n",
       "\n",
       "CALL : \n",
       "boot.ci(boot.out = results1, type = c(\"norm\", \"basic\", \"perc\"))\n",
       "\n",
       "Intervals : \n",
       "Level      Normal              Basic              Percentile     \n",
       "95%   ( 0.6224,  0.6726 )   ( 0.6211,  0.6725 )   ( 0.6120,  0.6634 )  \n",
       "Calculations and Intervals on Original Scale"
      ]
     },
     "metadata": {},
     "output_type": "display_data"
    },
    {
     "data": {
      "text/plain": [
       "BOOTSTRAP CONFIDENCE INTERVAL CALCULATIONS\n",
       "Based on 2000 bootstrap replicates\n",
       "\n",
       "CALL : \n",
       "boot.ci(boot.out = results24, type = c(\"norm\", \"basic\", \"perc\"))\n",
       "\n",
       "Intervals : \n",
       "Level      Normal              Basic              Percentile     \n",
       "95%   ( 0.4702,  0.5277 )   ( 0.4707,  0.5285 )   ( 0.4537,  0.5115 )  \n",
       "Calculations and Intervals on Original Scale"
      ]
     },
     "metadata": {},
     "output_type": "display_data"
    }
   ],
   "source": [
    "# confidence intervals for AUPRC bootstrapping with different types, \"bca\" didn't work\n",
    "# use percentile now\n",
    "boot.ci(boot.out = results01, type = c(\"norm\", \"basic\", \"perc\"))\n",
    "boot.ci(boot.out = results024, type = c(\"norm\", \"basic\", \"perc\"))"
   ]
  },
  {
   "cell_type": "code",
   "execution_count": 58,
   "metadata": {},
   "outputs": [],
   "source": [
    "# bootstrapping for AUPRC, first labels\n",
    "# VALIDATION DATA\n",
    "prcboot1 <- function(data, indices) {\n",
    "    d <- data[indices, ] # allows boot to select sample\n",
    "    pred_rocr <- ROCR::prediction(d$p1, d$first_label)\n",
    "    pr <- ROCR::performance(pred_rocr, measure = \"aucpr\", x.measure = \"cutoff\")@y.values[[1]]\n",
    "    return(pr)\n",
    "}\n",
    "# bootstrapping for AUPRC, 24hr labels\n",
    "prcboot24 <- function(data, indices) {\n",
    "    d <- data[indices, ] # allows boot to select sample\n",
    "    pred_rocr <- ROCR::prediction(d$p24, d$death_24hr_recent_label)\n",
    "    pr <- ROCR::performance(pred_rocr, measure = \"aucpr\", x.measure = \"cutoff\")@y.values[[1]]\n",
    "    return(pr)\n",
    "}"
   ]
  },
  {
   "cell_type": "code",
   "execution_count": 59,
   "metadata": {},
   "outputs": [],
   "source": [
    "# bootstrapping with 2000 replications\n",
    "results61 <- boot(results6, prcboot1, R=2000)\n",
    "# boot.ci(results1, type=\"norm\")\n",
    "\n",
    "# bootstrapping with 2000 replications\n",
    "results624 <- boot(data=results6, statistic=prcboot24, R=2000)\n",
    "# boot.ci(results24, type=\"norm\")"
   ]
  },
  {
   "cell_type": "code",
   "execution_count": 60,
   "metadata": {},
   "outputs": [
    {
     "data": {
      "text/plain": [
       "BOOTSTRAP CONFIDENCE INTERVAL CALCULATIONS\n",
       "Based on 2000 bootstrap replicates\n",
       "\n",
       "CALL : \n",
       "boot.ci(boot.out = results61, type = c(\"norm\", \"basic\", \"perc\"))\n",
       "\n",
       "Intervals : \n",
       "Level      Normal              Basic              Percentile     \n",
       "95%   ( 0.6394,  0.6861 )   ( 0.6395,  0.6858 )   ( 0.6287,  0.6750 )  \n",
       "Calculations and Intervals on Original Scale"
      ]
     },
     "metadata": {},
     "output_type": "display_data"
    },
    {
     "data": {
      "text/plain": [
       "BOOTSTRAP CONFIDENCE INTERVAL CALCULATIONS\n",
       "Based on 2000 bootstrap replicates\n",
       "\n",
       "CALL : \n",
       "boot.ci(boot.out = results624, type = c(\"norm\", \"basic\", \"perc\"))\n",
       "\n",
       "Intervals : \n",
       "Level      Normal              Basic              Percentile     \n",
       "95%   ( 0.5192,  0.5690 )   ( 0.5195,  0.5693 )   ( 0.5037,  0.5534 )  \n",
       "Calculations and Intervals on Original Scale"
      ]
     },
     "metadata": {},
     "output_type": "display_data"
    }
   ],
   "source": [
    "# confidence intervals for AUPRC bootstrapping with different types, \"bca\" didn't work\n",
    "# use percentile now\n",
    "boot.ci(boot.out = results61, type = c(\"norm\", \"basic\", \"perc\"))\n",
    "boot.ci(boot.out = results624, type = c(\"norm\", \"basic\", \"perc\"))"
   ]
  },
  {
   "cell_type": "code",
   "execution_count": 62,
   "metadata": {},
   "outputs": [],
   "source": [
    "# NEW DATA\n",
    "prcboot1 <- function(data, indices) {\n",
    "    d <- data[indices, ] # allows boot to select sample\n",
    "    pred_rocr <- ROCR::prediction(d$p1, d$first_label)\n",
    "    pr <- ROCR::performance(pred_rocr, measure = \"aucpr\", x.measure = \"cutoff\")@y.values[[1]]\n",
    "    return(pr)\n",
    "}\n",
    "# bootstrapping for AUPRC, 24hr labels\n",
    "prcboot3 <- function(data, indices) {\n",
    "    d <- data[indices, ] # allows boot to select sample\n",
    "    pred_rocr <- ROCR::prediction(d$p3, d$death_3hr_recent_label)\n",
    "    pr <- ROCR::performance(pred_rocr, measure = \"aucpr\", x.measure = \"cutoff\")@y.values[[1]]\n",
    "    return(pr)\n",
    "}\n",
    "prcboot6 <- function(data, indices) {\n",
    "    d <- data[indices, ] # allows boot to select sample\n",
    "    pred_rocr <- ROCR::prediction(d$p6, d$death_6hr_recent_label)\n",
    "    pr <- ROCR::performance(pred_rocr, measure = \"aucpr\", x.measure = \"cutoff\")@y.values[[1]]\n",
    "    return(pr)\n",
    "}\n",
    "# bootstrapping for AUPRC, 24hr labels\n",
    "prcboot9 <- function(data, indices) {\n",
    "    d <- data[indices, ] # allows boot to select sample\n",
    "    pred_rocr <- ROCR::prediction(d$p9, d$death_9hr_recent_label)\n",
    "    pr <- ROCR::performance(pred_rocr, measure = \"aucpr\", x.measure = \"cutoff\")@y.values[[1]]\n",
    "    return(pr)\n",
    "}\n",
    "prcboot12 <- function(data, indices) {\n",
    "    d <- data[indices, ] # allows boot to select sample\n",
    "    pred_rocr <- ROCR::prediction(d$p12, d$death_12hr_recent_label)\n",
    "    pr <- ROCR::performance(pred_rocr, measure = \"aucpr\", x.measure = \"cutoff\")@y.values[[1]]\n",
    "    return(pr)\n",
    "}\n",
    "# bootstrapping for AUPRC, 24hr labels\n",
    "prcboot24 <- function(data, indices) {\n",
    "    d <- data[indices, ] # allows boot to select sample\n",
    "    pred_rocr <- ROCR::prediction(d$p24, d$death_24hr_recent_label)\n",
    "    pr <- ROCR::performance(pred_rocr, measure = \"aucpr\", x.measure = \"cutoff\")@y.values[[1]]\n",
    "    return(pr)\n",
    "}"
   ]
  },
  {
   "cell_type": "code",
   "execution_count": 63,
   "metadata": {},
   "outputs": [],
   "source": [
    "# NEW DATA OLD time split\n",
    "\n",
    "# bootstrapping with 2000 replications\n",
    "results21 <- boot(results2, prcboot1, R=2000)\n",
    "# boot.ci(results1, type=\"norm\")\n",
    "results23 <- boot(results2, prcboot1, R=2000)\n",
    "results26 <- boot(results2, prcboot1, R=2000)\n",
    "results29 <- boot(results2, prcboot1, R=2000)\n",
    "results212 <- boot(results2, prcboot1, R=2000)\n",
    "# bootstrapping with 2000 replications\n",
    "results224 <- boot(data=results2, statistic=prcboot24, R=2000)\n",
    "# boot.ci(results24, type=\"norm\")"
   ]
  },
  {
   "cell_type": "code",
   "execution_count": 64,
   "metadata": {},
   "outputs": [
    {
     "data": {
      "text/plain": [
       "BOOTSTRAP CONFIDENCE INTERVAL CALCULATIONS\n",
       "Based on 2000 bootstrap replicates\n",
       "\n",
       "CALL : \n",
       "boot.ci(boot.out = results21, type = c(\"norm\", \"basic\", \"perc\"))\n",
       "\n",
       "Intervals : \n",
       "Level      Normal              Basic              Percentile     \n",
       "95%   ( 0.6391,  0.6893 )   ( 0.6396,  0.6902 )   ( 0.6259,  0.6765 )  \n",
       "Calculations and Intervals on Original Scale"
      ]
     },
     "metadata": {},
     "output_type": "display_data"
    },
    {
     "data": {
      "text/plain": [
       "BOOTSTRAP CONFIDENCE INTERVAL CALCULATIONS\n",
       "Based on 2000 bootstrap replicates\n",
       "\n",
       "CALL : \n",
       "boot.ci(boot.out = results23, type = c(\"norm\", \"basic\", \"perc\"))\n",
       "\n",
       "Intervals : \n",
       "Level      Normal              Basic              Percentile     \n",
       "95%   ( 0.6390,  0.6898 )   ( 0.6394,  0.6901 )   ( 0.6260,  0.6766 )  \n",
       "Calculations and Intervals on Original Scale"
      ]
     },
     "metadata": {},
     "output_type": "display_data"
    },
    {
     "data": {
      "text/plain": [
       "BOOTSTRAP CONFIDENCE INTERVAL CALCULATIONS\n",
       "Based on 2000 bootstrap replicates\n",
       "\n",
       "CALL : \n",
       "boot.ci(boot.out = results26, type = c(\"norm\", \"basic\", \"perc\"))\n",
       "\n",
       "Intervals : \n",
       "Level      Normal              Basic              Percentile     \n",
       "95%   ( 0.6391,  0.6891 )   ( 0.6398,  0.6890 )   ( 0.6271,  0.6763 )  \n",
       "Calculations and Intervals on Original Scale"
      ]
     },
     "metadata": {},
     "output_type": "display_data"
    },
    {
     "data": {
      "text/plain": [
       "BOOTSTRAP CONFIDENCE INTERVAL CALCULATIONS\n",
       "Based on 2000 bootstrap replicates\n",
       "\n",
       "CALL : \n",
       "boot.ci(boot.out = results29, type = c(\"norm\", \"basic\", \"perc\"))\n",
       "\n",
       "Intervals : \n",
       "Level      Normal              Basic              Percentile     \n",
       "95%   ( 0.6396,  0.6895 )   ( 0.6397,  0.6900 )   ( 0.6261,  0.6764 )  \n",
       "Calculations and Intervals on Original Scale"
      ]
     },
     "metadata": {},
     "output_type": "display_data"
    },
    {
     "data": {
      "text/plain": [
       "BOOTSTRAP CONFIDENCE INTERVAL CALCULATIONS\n",
       "Based on 2000 bootstrap replicates\n",
       "\n",
       "CALL : \n",
       "boot.ci(boot.out = results212, type = c(\"norm\", \"basic\", \"perc\"))\n",
       "\n",
       "Intervals : \n",
       "Level      Normal              Basic              Percentile     \n",
       "95%   ( 0.6392,  0.6889 )   ( 0.6403,  0.6884 )   ( 0.6276,  0.6758 )  \n",
       "Calculations and Intervals on Original Scale"
      ]
     },
     "metadata": {},
     "output_type": "display_data"
    },
    {
     "data": {
      "text/plain": [
       "BOOTSTRAP CONFIDENCE INTERVAL CALCULATIONS\n",
       "Based on 2000 bootstrap replicates\n",
       "\n",
       "CALL : \n",
       "boot.ci(boot.out = results224, type = c(\"norm\", \"basic\", \"perc\"))\n",
       "\n",
       "Intervals : \n",
       "Level      Normal              Basic              Percentile     \n",
       "95%   ( 0.5057,  0.5613 )   ( 0.5057,  0.5602 )   ( 0.4917,  0.5462 )  \n",
       "Calculations and Intervals on Original Scale"
      ]
     },
     "metadata": {},
     "output_type": "display_data"
    }
   ],
   "source": [
    "# confidence intervals for AUPRC bootstrapping with different types, \"bca\" didn't work\n",
    "# use percentile now\n",
    "boot.ci(boot.out = results21, type = c(\"norm\", \"basic\", \"perc\"))\n",
    "boot.ci(boot.out = results23, type = c(\"norm\", \"basic\", \"perc\"))\n",
    "boot.ci(boot.out = results26, type = c(\"norm\", \"basic\", \"perc\"))\n",
    "boot.ci(boot.out = results29, type = c(\"norm\", \"basic\", \"perc\"))\n",
    "boot.ci(boot.out = results212, type = c(\"norm\", \"basic\", \"perc\"))\n",
    "boot.ci(boot.out = results224, type = c(\"norm\", \"basic\", \"perc\"))"
   ]
  },
  {
   "cell_type": "code",
   "execution_count": 65,
   "metadata": {},
   "outputs": [],
   "source": [
    "# NEW DATA NEW time split - MAIN one\n",
    "\n",
    "# bootstrapping with 2000 replications\n",
    "results_1 <- boot(results, prcboot1, R=2000)\n",
    "# boot.ci(results1, type=\"norm\")\n",
    "results_3 <- boot(results, prcboot1, R=2000)\n",
    "results_6 <- boot(results, prcboot1, R=2000)\n",
    "results_9 <- boot(results, prcboot1, R=2000)\n",
    "results_12 <- boot(results, prcboot1, R=2000)\n",
    "# bootstrapping with 2000 replications\n",
    "results_24 <- boot(data=results, statistic=prcboot24, R=2000)\n",
    "# boot.ci(results24, type=\"norm\")"
   ]
  },
  {
   "cell_type": "code",
   "execution_count": 66,
   "metadata": {},
   "outputs": [
    {
     "data": {
      "text/plain": [
       "BOOTSTRAP CONFIDENCE INTERVAL CALCULATIONS\n",
       "Based on 2000 bootstrap replicates\n",
       "\n",
       "CALL : \n",
       "boot.ci(boot.out = results_1, type = c(\"norm\", \"basic\", \"perc\"))\n",
       "\n",
       "Intervals : \n",
       "Level      Normal              Basic              Percentile     \n",
       "95%   ( 0.6370,  0.7064 )   ( 0.6382,  0.7070 )   ( 0.6274,  0.6962 )  \n",
       "Calculations and Intervals on Original Scale"
      ]
     },
     "metadata": {},
     "output_type": "display_data"
    },
    {
     "data": {
      "text/plain": [
       "BOOTSTRAP CONFIDENCE INTERVAL CALCULATIONS\n",
       "Based on 2000 bootstrap replicates\n",
       "\n",
       "CALL : \n",
       "boot.ci(boot.out = results_3, type = c(\"norm\", \"basic\", \"perc\"))\n",
       "\n",
       "Intervals : \n",
       "Level      Normal              Basic              Percentile     \n",
       "95%   ( 0.6368,  0.7068 )   ( 0.6360,  0.7056 )   ( 0.6289,  0.6985 )  \n",
       "Calculations and Intervals on Original Scale"
      ]
     },
     "metadata": {},
     "output_type": "display_data"
    },
    {
     "data": {
      "text/plain": [
       "BOOTSTRAP CONFIDENCE INTERVAL CALCULATIONS\n",
       "Based on 2000 bootstrap replicates\n",
       "\n",
       "CALL : \n",
       "boot.ci(boot.out = results_6, type = c(\"norm\", \"basic\", \"perc\"))\n",
       "\n",
       "Intervals : \n",
       "Level      Normal              Basic              Percentile     \n",
       "95%   ( 0.6376,  0.7079 )   ( 0.6387,  0.7103 )   ( 0.6242,  0.6957 )  \n",
       "Calculations and Intervals on Original Scale"
      ]
     },
     "metadata": {},
     "output_type": "display_data"
    },
    {
     "data": {
      "text/plain": [
       "BOOTSTRAP CONFIDENCE INTERVAL CALCULATIONS\n",
       "Based on 2000 bootstrap replicates\n",
       "\n",
       "CALL : \n",
       "boot.ci(boot.out = results_9, type = c(\"norm\", \"basic\", \"perc\"))\n",
       "\n",
       "Intervals : \n",
       "Level      Normal              Basic              Percentile     \n",
       "95%   ( 0.6373,  0.7059 )   ( 0.6370,  0.7063 )   ( 0.6281,  0.6974 )  \n",
       "Calculations and Intervals on Original Scale"
      ]
     },
     "metadata": {},
     "output_type": "display_data"
    },
    {
     "data": {
      "text/plain": [
       "BOOTSTRAP CONFIDENCE INTERVAL CALCULATIONS\n",
       "Based on 2000 bootstrap replicates\n",
       "\n",
       "CALL : \n",
       "boot.ci(boot.out = results_12, type = c(\"norm\", \"basic\", \"perc\"))\n",
       "\n",
       "Intervals : \n",
       "Level      Normal              Basic              Percentile     \n",
       "95%   ( 0.6365,  0.7078 )   ( 0.6361,  0.7079 )   ( 0.6266,  0.6983 )  \n",
       "Calculations and Intervals on Original Scale"
      ]
     },
     "metadata": {},
     "output_type": "display_data"
    },
    {
     "data": {
      "text/plain": [
       "BOOTSTRAP CONFIDENCE INTERVAL CALCULATIONS\n",
       "Based on 2000 bootstrap replicates\n",
       "\n",
       "CALL : \n",
       "boot.ci(boot.out = results_24, type = c(\"norm\", \"basic\", \"perc\"))\n",
       "\n",
       "Intervals : \n",
       "Level      Normal              Basic              Percentile     \n",
       "95%   ( 0.5102,  0.5882 )   ( 0.5108,  0.5878 )   ( 0.4987,  0.5757 )  \n",
       "Calculations and Intervals on Original Scale"
      ]
     },
     "metadata": {},
     "output_type": "display_data"
    }
   ],
   "source": [
    "# confidence intervals for AUPRC bootstrapping with different types, \"bca\" didn't work\n",
    "# use percentile now\n",
    "boot.ci(boot.out = results_1, type = c(\"norm\", \"basic\", \"perc\"))\n",
    "boot.ci(boot.out = results_3, type = c(\"norm\", \"basic\", \"perc\"))\n",
    "boot.ci(boot.out = results_6, type = c(\"norm\", \"basic\", \"perc\"))\n",
    "boot.ci(boot.out = results_9, type = c(\"norm\", \"basic\", \"perc\"))\n",
    "boot.ci(boot.out = results_12, type = c(\"norm\", \"basic\", \"perc\"))\n",
    "boot.ci(boot.out = results_24, type = c(\"norm\", \"basic\", \"perc\"))"
   ]
  },
  {
   "cell_type": "markdown",
   "metadata": {},
   "source": [
    "### Calibration plots"
   ]
  },
  {
   "cell_type": "code",
   "execution_count": 8,
   "metadata": {},
   "outputs": [
    {
     "data": {
      "text/html": [
       "<style>\n",
       ".list-inline {list-style: none; margin:0; padding: 0}\n",
       ".list-inline>li {display: inline-block}\n",
       ".list-inline>li:not(:last-child)::after {content: \"\\00b7\"; padding: 0 .5ex}\n",
       "</style>\n",
       "<ol class=list-inline><li>'anon_id'</li><li>'pat_enc_csn_id_coded'</li><li>'inpatient_data_id_coded'</li><li>'admit_time'</li><li>'label_max24'</li><li>'label_24hr_recent'</li><li>'admit_label'</li><li>'has_admit_label'</li><li>'died_within_24hrs'</li><li>'death_24hr_max_label'</li><li>'death_24hr_recent_label'</li><li>'first_label'</li><li>'first_label_minutes_since_admit'</li><li>'acute_to_critical_label_recent'</li><li>'critical_to_acute_label_recent'</li><li>'acute_to_critical_label_max'</li><li>'critical_to_acute_label_max'</li><li>'adm_year'</li><li>'transfer'</li><li>'pred_death_24hr_max'</li><li>'pred_death_24hr_recent'</li><li>'pred_first'</li><li>'diff0_24'</li><li>'abs_diff0_24'</li><li>'diff0_True'</li><li>'diff24_True'</li></ol>\n"
      ],
      "text/latex": [
       "\\begin{enumerate*}\n",
       "\\item 'anon\\_id'\n",
       "\\item 'pat\\_enc\\_csn\\_id\\_coded'\n",
       "\\item 'inpatient\\_data\\_id\\_coded'\n",
       "\\item 'admit\\_time'\n",
       "\\item 'label\\_max24'\n",
       "\\item 'label\\_24hr\\_recent'\n",
       "\\item 'admit\\_label'\n",
       "\\item 'has\\_admit\\_label'\n",
       "\\item 'died\\_within\\_24hrs'\n",
       "\\item 'death\\_24hr\\_max\\_label'\n",
       "\\item 'death\\_24hr\\_recent\\_label'\n",
       "\\item 'first\\_label'\n",
       "\\item 'first\\_label\\_minutes\\_since\\_admit'\n",
       "\\item 'acute\\_to\\_critical\\_label\\_recent'\n",
       "\\item 'critical\\_to\\_acute\\_label\\_recent'\n",
       "\\item 'acute\\_to\\_critical\\_label\\_max'\n",
       "\\item 'critical\\_to\\_acute\\_label\\_max'\n",
       "\\item 'adm\\_year'\n",
       "\\item 'transfer'\n",
       "\\item 'pred\\_death\\_24hr\\_max'\n",
       "\\item 'pred\\_death\\_24hr\\_recent'\n",
       "\\item 'pred\\_first'\n",
       "\\item 'diff0\\_24'\n",
       "\\item 'abs\\_diff0\\_24'\n",
       "\\item 'diff0\\_True'\n",
       "\\item 'diff24\\_True'\n",
       "\\end{enumerate*}\n"
      ],
      "text/markdown": [
       "1. 'anon_id'\n",
       "2. 'pat_enc_csn_id_coded'\n",
       "3. 'inpatient_data_id_coded'\n",
       "4. 'admit_time'\n",
       "5. 'label_max24'\n",
       "6. 'label_24hr_recent'\n",
       "7. 'admit_label'\n",
       "8. 'has_admit_label'\n",
       "9. 'died_within_24hrs'\n",
       "10. 'death_24hr_max_label'\n",
       "11. 'death_24hr_recent_label'\n",
       "12. 'first_label'\n",
       "13. 'first_label_minutes_since_admit'\n",
       "14. 'acute_to_critical_label_recent'\n",
       "15. 'critical_to_acute_label_recent'\n",
       "16. 'acute_to_critical_label_max'\n",
       "17. 'critical_to_acute_label_max'\n",
       "18. 'adm_year'\n",
       "19. 'transfer'\n",
       "20. 'pred_death_24hr_max'\n",
       "21. 'pred_death_24hr_recent'\n",
       "22. 'pred_first'\n",
       "23. 'diff0_24'\n",
       "24. 'abs_diff0_24'\n",
       "25. 'diff0_True'\n",
       "26. 'diff24_True'\n",
       "\n",
       "\n"
      ],
      "text/plain": [
       " [1] \"anon_id\"                         \"pat_enc_csn_id_coded\"           \n",
       " [3] \"inpatient_data_id_coded\"         \"admit_time\"                     \n",
       " [5] \"label_max24\"                     \"label_24hr_recent\"              \n",
       " [7] \"admit_label\"                     \"has_admit_label\"                \n",
       " [9] \"died_within_24hrs\"               \"death_24hr_max_label\"           \n",
       "[11] \"death_24hr_recent_label\"         \"first_label\"                    \n",
       "[13] \"first_label_minutes_since_admit\" \"acute_to_critical_label_recent\" \n",
       "[15] \"critical_to_acute_label_recent\"  \"acute_to_critical_label_max\"    \n",
       "[17] \"critical_to_acute_label_max\"     \"adm_year\"                       \n",
       "[19] \"transfer\"                        \"pred_death_24hr_max\"            \n",
       "[21] \"pred_death_24hr_recent\"          \"pred_first\"                     \n",
       "[23] \"diff0_24\"                        \"abs_diff0_24\"                   \n",
       "[25] \"diff0_True\"                      \"diff24_True\"                    "
      ]
     },
     "metadata": {},
     "output_type": "display_data"
    }
   ],
   "source": [
    "colnames(results)"
   ]
  },
  {
   "cell_type": "code",
   "execution_count": 9,
   "metadata": {},
   "outputs": [
    {
     "data": {
      "text/html": [
       "<table>\n",
       "<caption>A data.frame: 6 × 2</caption>\n",
       "<thead>\n",
       "\t<tr><th></th><th scope=col>death_24hr_recent_label</th><th scope=col>pred_death_24hr_recent</th></tr>\n",
       "\t<tr><th></th><th scope=col>&lt;int&gt;</th><th scope=col>&lt;dbl&gt;</th></tr>\n",
       "</thead>\n",
       "<tbody>\n",
       "\t<tr><th scope=row>1</th><td>0</td><td>0.2091965</td></tr>\n",
       "\t<tr><th scope=row>2</th><td>1</td><td>0.8461691</td></tr>\n",
       "\t<tr><th scope=row>3</th><td>1</td><td>0.7147856</td></tr>\n",
       "\t<tr><th scope=row>4</th><td>1</td><td>0.4850516</td></tr>\n",
       "\t<tr><th scope=row>5</th><td>0</td><td>0.3480069</td></tr>\n",
       "\t<tr><th scope=row>6</th><td>1</td><td>0.7169072</td></tr>\n",
       "</tbody>\n",
       "</table>\n"
      ],
      "text/latex": [
       "A data.frame: 6 × 2\n",
       "\\begin{tabular}{r|ll}\n",
       "  & death\\_24hr\\_recent\\_label & pred\\_death\\_24hr\\_recent\\\\\n",
       "  & <int> & <dbl>\\\\\n",
       "\\hline\n",
       "\t1 & 0 & 0.2091965\\\\\n",
       "\t2 & 1 & 0.8461691\\\\\n",
       "\t3 & 1 & 0.7147856\\\\\n",
       "\t4 & 1 & 0.4850516\\\\\n",
       "\t5 & 0 & 0.3480069\\\\\n",
       "\t6 & 1 & 0.7169072\\\\\n",
       "\\end{tabular}\n"
      ],
      "text/markdown": [
       "\n",
       "A data.frame: 6 × 2\n",
       "\n",
       "| <!--/--> | death_24hr_recent_label &lt;int&gt; | pred_death_24hr_recent &lt;dbl&gt; |\n",
       "|---|---|---|\n",
       "| 1 | 0 | 0.2091965 |\n",
       "| 2 | 1 | 0.8461691 |\n",
       "| 3 | 1 | 0.7147856 |\n",
       "| 4 | 1 | 0.4850516 |\n",
       "| 5 | 0 | 0.3480069 |\n",
       "| 6 | 1 | 0.7169072 |\n",
       "\n"
      ],
      "text/plain": [
       "  death_24hr_recent_label pred_death_24hr_recent\n",
       "1 0                       0.2091965             \n",
       "2 1                       0.8461691             \n",
       "3 1                       0.7147856             \n",
       "4 1                       0.4850516             \n",
       "5 0                       0.3480069             \n",
       "6 1                       0.7169072             "
      ]
     },
     "metadata": {},
     "output_type": "display_data"
    },
    {
     "data": {
      "text/plain": [
       "\n",
       "Call:\n",
       "calibration.formula(x = as.factor(death_24hr_recent_label)\n",
       " ~ pred_death_24hr_recent, data = results, class = \"1\")\n",
       "\n",
       "Models: pred_death_24hr_recent \n",
       "Event:  1 \n",
       "Cuts: 11 "
      ]
     },
     "metadata": {},
     "output_type": "display_data"
    },
    {
     "data": {
      "image/png": "[encoded data removed]",
      "text/plain": [
       "plot without title"
      ]
     },
     "metadata": {
      "image/png": {
       "height": 420,
       "width": 420
      }
     },
     "output_type": "display_data"
    },
    {
     "data": {
      "image/png": "[encoded data removed]",
      "text/plain": [
       "plot without title"
      ]
     },
     "metadata": {
      "image/png": {
       "height": 420,
       "width": 420
      }
     },
     "output_type": "display_data"
    },
    {
     "data": {
      "image/png": "[encoded data removed]",
      "text/plain": [
       "plot without title"
      ]
     },
     "metadata": {
      "image/png": {
       "height": 420,
       "width": 420
      }
     },
     "output_type": "display_data"
    }
   ],
   "source": [
    "head(results0[, c(\"death_24hr_recent_label\", \"pred_death_24hr_recent\")])\n",
    "\n",
    "softmaxHist <- ggplot(results0, aes(x = pred_death_24hr_recent))\n",
    "softmaxHist <- softmaxHist + geom_histogram(binwidth = 0.02)\n",
    "softmaxHist + facet_grid(death_24hr_recent_label ~ .) + xlab(\"pred_death_24hr_recent\")\n",
    "\n",
    "calPlotData <- calibration(as.factor(death_24hr_recent_label) ~ pred_death_24hr_recent, class = '1', data = results)\n",
    "calPlotData\n",
    "\n",
    "xyplot(calPlotData)\n",
    "plot(calPlotData, type = \"l\")"
   ]
  },
  {
   "cell_type": "code",
   "execution_count": 10,
   "metadata": {},
   "outputs": [
    {
     "data": {
      "image/png": "[encoded data removed]",
      "text/plain": [
       "Plot with title \"Calibration Plot for Binary Classification\""
      ]
     },
     "metadata": {
      "image/png": {
       "height": 420,
       "width": 420
      }
     },
     "output_type": "display_data"
    }
   ],
   "source": [
    "calibrate.plot(results0$death_24hr_recent_label, results0$pred_death_24hr_recent, \n",
    "               main=\"Calibration Plot for Binary Classification\")"
   ]
  },
  {
   "cell_type": "code",
   "execution_count": 11,
   "metadata": {},
   "outputs": [
    {
     "data": {
      "text/html": [
       "<table>\n",
       "<caption>A data.frame: 11 × 9</caption>\n",
       "<thead>\n",
       "\t<tr><th scope=col>calibModelVar</th><th scope=col>bin</th><th scope=col>Percent</th><th scope=col>Lower</th><th scope=col>Upper</th><th scope=col>Count</th><th scope=col>midpoint</th><th scope=col>Observed Average</th><th scope=col>Predicted Value</th></tr>\n",
       "\t<tr><th scope=col>&lt;chr&gt;</th><th scope=col>&lt;fct&gt;</th><th scope=col>&lt;dbl&gt;</th><th scope=col>&lt;dbl&gt;</th><th scope=col>&lt;dbl&gt;</th><th scope=col>&lt;dbl&gt;</th><th scope=col>&lt;dbl&gt;</th><th scope=col>&lt;dbl&gt;</th><th scope=col>&lt;dbl&gt;</th></tr>\n",
       "</thead>\n",
       "<tbody>\n",
       "\t<tr><td>pred_death_24hr_recent</td><td>[0,0.0909]    </td><td>  3.398707</td><td> 3.033441</td><td>  3.794617</td><td>305</td><td> 4.545455</td><td>0.03398707</td><td>0.04545455</td></tr>\n",
       "\t<tr><td>pred_death_24hr_recent</td><td>(0.0909,0.182]</td><td> 14.974293</td><td>13.236596</td><td> 16.845270</td><td>233</td><td>13.636364</td><td>0.14974293</td><td>0.13636364</td></tr>\n",
       "\t<tr><td>pred_death_24hr_recent</td><td>(0.182,0.273] </td><td> 22.482759</td><td>19.492044</td><td> 25.699258</td><td>163</td><td>22.727273</td><td>0.22482759</td><td>0.22727273</td></tr>\n",
       "\t<tr><td>pred_death_24hr_recent</td><td>(0.273,0.364] </td><td> 33.846154</td><td>29.160017</td><td> 38.779681</td><td>132</td><td>31.818182</td><td>0.33846154</td><td>0.31818182</td></tr>\n",
       "\t<tr><td>pred_death_24hr_recent</td><td>(0.364,0.455] </td><td> 48.221344</td><td>41.919190</td><td> 54.565651</td><td>122</td><td>40.909091</td><td>0.48221344</td><td>0.40909091</td></tr>\n",
       "\t<tr><td>pred_death_24hr_recent</td><td>(0.455,0.545] </td><td> 46.783626</td><td>39.126832</td><td> 54.553843</td><td> 80</td><td>50.000000</td><td>0.46783626</td><td>0.50000000</td></tr>\n",
       "\t<tr><td>pred_death_24hr_recent</td><td>(0.545,0.636] </td><td> 64.444444</td><td>55.751245</td><td> 72.488728</td><td> 87</td><td>59.090909</td><td>0.64444444</td><td>0.59090909</td></tr>\n",
       "\t<tr><td>pred_death_24hr_recent</td><td>(0.636,0.727] </td><td> 69.892473</td><td>59.502334</td><td> 78.974065</td><td> 65</td><td>68.181818</td><td>0.69892473</td><td>0.68181818</td></tr>\n",
       "\t<tr><td>pred_death_24hr_recent</td><td>(0.727,0.818] </td><td> 84.615385</td><td>74.667867</td><td> 91.789816</td><td> 66</td><td>77.272727</td><td>0.84615385</td><td>0.77272727</td></tr>\n",
       "\t<tr><td>pred_death_24hr_recent</td><td>(0.818,0.909] </td><td> 87.179487</td><td>72.570059</td><td> 95.703166</td><td> 34</td><td>86.363636</td><td>0.87179487</td><td>0.86363636</td></tr>\n",
       "\t<tr><td>pred_death_24hr_recent</td><td>(0.909,1]     </td><td>100.000000</td><td>39.763536</td><td>100.000000</td><td>  4</td><td>95.454545</td><td>1.00000000</td><td>0.95454545</td></tr>\n",
       "</tbody>\n",
       "</table>\n"
      ],
      "text/latex": [
       "A data.frame: 11 × 9\n",
       "\\begin{tabular}{lllllllll}\n",
       " calibModelVar & bin & Percent & Lower & Upper & Count & midpoint & Observed Average & Predicted Value\\\\\n",
       " <chr> & <fct> & <dbl> & <dbl> & <dbl> & <dbl> & <dbl> & <dbl> & <dbl>\\\\\n",
       "\\hline\n",
       "\t pred\\_death\\_24hr\\_recent & {[}0,0.0909{]}     &   3.398707 &  3.033441 &   3.794617 & 305 &  4.545455 & 0.03398707 & 0.04545455\\\\\n",
       "\t pred\\_death\\_24hr\\_recent & (0.0909,0.182{]} &  14.974293 & 13.236596 &  16.845270 & 233 & 13.636364 & 0.14974293 & 0.13636364\\\\\n",
       "\t pred\\_death\\_24hr\\_recent & (0.182,0.273{]}  &  22.482759 & 19.492044 &  25.699258 & 163 & 22.727273 & 0.22482759 & 0.22727273\\\\\n",
       "\t pred\\_death\\_24hr\\_recent & (0.273,0.364{]}  &  33.846154 & 29.160017 &  38.779681 & 132 & 31.818182 & 0.33846154 & 0.31818182\\\\\n",
       "\t pred\\_death\\_24hr\\_recent & (0.364,0.455{]}  &  48.221344 & 41.919190 &  54.565651 & 122 & 40.909091 & 0.48221344 & 0.40909091\\\\\n",
       "\t pred\\_death\\_24hr\\_recent & (0.455,0.545{]}  &  46.783626 & 39.126832 &  54.553843 &  80 & 50.000000 & 0.46783626 & 0.50000000\\\\\n",
       "\t pred\\_death\\_24hr\\_recent & (0.545,0.636{]}  &  64.444444 & 55.751245 &  72.488728 &  87 & 59.090909 & 0.64444444 & 0.59090909\\\\\n",
       "\t pred\\_death\\_24hr\\_recent & (0.636,0.727{]}  &  69.892473 & 59.502334 &  78.974065 &  65 & 68.181818 & 0.69892473 & 0.68181818\\\\\n",
       "\t pred\\_death\\_24hr\\_recent & (0.727,0.818{]}  &  84.615385 & 74.667867 &  91.789816 &  66 & 77.272727 & 0.84615385 & 0.77272727\\\\\n",
       "\t pred\\_death\\_24hr\\_recent & (0.818,0.909{]}  &  87.179487 & 72.570059 &  95.703166 &  34 & 86.363636 & 0.87179487 & 0.86363636\\\\\n",
       "\t pred\\_death\\_24hr\\_recent & (0.909,1{]}      & 100.000000 & 39.763536 & 100.000000 &   4 & 95.454545 & 1.00000000 & 0.95454545\\\\\n",
       "\\end{tabular}\n"
      ],
      "text/markdown": [
       "\n",
       "A data.frame: 11 × 9\n",
       "\n",
       "| calibModelVar &lt;chr&gt; | bin &lt;fct&gt; | Percent &lt;dbl&gt; | Lower &lt;dbl&gt; | Upper &lt;dbl&gt; | Count &lt;dbl&gt; | midpoint &lt;dbl&gt; | Observed Average &lt;dbl&gt; | Predicted Value &lt;dbl&gt; |\n",
       "|---|---|---|---|---|---|---|---|---|\n",
       "| pred_death_24hr_recent | [0,0.0909]     |   3.398707 |  3.033441 |   3.794617 | 305 |  4.545455 | 0.03398707 | 0.04545455 |\n",
       "| pred_death_24hr_recent | (0.0909,0.182] |  14.974293 | 13.236596 |  16.845270 | 233 | 13.636364 | 0.14974293 | 0.13636364 |\n",
       "| pred_death_24hr_recent | (0.182,0.273]  |  22.482759 | 19.492044 |  25.699258 | 163 | 22.727273 | 0.22482759 | 0.22727273 |\n",
       "| pred_death_24hr_recent | (0.273,0.364]  |  33.846154 | 29.160017 |  38.779681 | 132 | 31.818182 | 0.33846154 | 0.31818182 |\n",
       "| pred_death_24hr_recent | (0.364,0.455]  |  48.221344 | 41.919190 |  54.565651 | 122 | 40.909091 | 0.48221344 | 0.40909091 |\n",
       "| pred_death_24hr_recent | (0.455,0.545]  |  46.783626 | 39.126832 |  54.553843 |  80 | 50.000000 | 0.46783626 | 0.50000000 |\n",
       "| pred_death_24hr_recent | (0.545,0.636]  |  64.444444 | 55.751245 |  72.488728 |  87 | 59.090909 | 0.64444444 | 0.59090909 |\n",
       "| pred_death_24hr_recent | (0.636,0.727]  |  69.892473 | 59.502334 |  78.974065 |  65 | 68.181818 | 0.69892473 | 0.68181818 |\n",
       "| pred_death_24hr_recent | (0.727,0.818]  |  84.615385 | 74.667867 |  91.789816 |  66 | 77.272727 | 0.84615385 | 0.77272727 |\n",
       "| pred_death_24hr_recent | (0.818,0.909]  |  87.179487 | 72.570059 |  95.703166 |  34 | 86.363636 | 0.87179487 | 0.86363636 |\n",
       "| pred_death_24hr_recent | (0.909,1]      | 100.000000 | 39.763536 | 100.000000 |   4 | 95.454545 | 1.00000000 | 0.95454545 |\n",
       "\n"
      ],
      "text/plain": [
       "   calibModelVar          bin            Percent    Lower     Upper      Count\n",
       "1  pred_death_24hr_recent [0,0.0909]       3.398707  3.033441   3.794617 305  \n",
       "2  pred_death_24hr_recent (0.0909,0.182]  14.974293 13.236596  16.845270 233  \n",
       "3  pred_death_24hr_recent (0.182,0.273]   22.482759 19.492044  25.699258 163  \n",
       "4  pred_death_24hr_recent (0.273,0.364]   33.846154 29.160017  38.779681 132  \n",
       "5  pred_death_24hr_recent (0.364,0.455]   48.221344 41.919190  54.565651 122  \n",
       "6  pred_death_24hr_recent (0.455,0.545]   46.783626 39.126832  54.553843  80  \n",
       "7  pred_death_24hr_recent (0.545,0.636]   64.444444 55.751245  72.488728  87  \n",
       "8  pred_death_24hr_recent (0.636,0.727]   69.892473 59.502334  78.974065  65  \n",
       "9  pred_death_24hr_recent (0.727,0.818]   84.615385 74.667867  91.789816  66  \n",
       "10 pred_death_24hr_recent (0.818,0.909]   87.179487 72.570059  95.703166  34  \n",
       "11 pred_death_24hr_recent (0.909,1]      100.000000 39.763536 100.000000   4  \n",
       "   midpoint  Observed Average Predicted Value\n",
       "1   4.545455 0.03398707       0.04545455     \n",
       "2  13.636364 0.14974293       0.13636364     \n",
       "3  22.727273 0.22482759       0.22727273     \n",
       "4  31.818182 0.33846154       0.31818182     \n",
       "5  40.909091 0.48221344       0.40909091     \n",
       "6  50.000000 0.46783626       0.50000000     \n",
       "7  59.090909 0.64444444       0.59090909     \n",
       "8  68.181818 0.69892473       0.68181818     \n",
       "9  77.272727 0.84615385       0.77272727     \n",
       "10 86.363636 0.87179487       0.86363636     \n",
       "11 95.454545 1.00000000       0.95454545     "
      ]
     },
     "metadata": {},
     "output_type": "display_data"
    }
   ],
   "source": [
    "cal_plot_data24 = calibration(factor(death_24hr_recent_label) ~ pred_death_24hr_recent, \n",
    "  data = results0, class = 1)$data\n",
    "cal_plot_data24 <- cal_plot_data24 %>% mutate(\"Observed Average\" = Percent/100, \"Predicted Value\" = midpoint/100)\n",
    "cal_plot_data24"
   ]
  },
  {
   "cell_type": "code",
   "execution_count": 12,
   "metadata": {},
   "outputs": [
    {
     "data": {
      "text/html": [
       "<table>\n",
       "<caption>A data.frame: 11 × 9</caption>\n",
       "<thead>\n",
       "\t<tr><th scope=col>calibModelVar</th><th scope=col>bin</th><th scope=col>Percent</th><th scope=col>Lower</th><th scope=col>Upper</th><th scope=col>Count</th><th scope=col>midpoint</th><th scope=col>Observed Average</th><th scope=col>Predicted Value</th></tr>\n",
       "\t<tr><th scope=col>&lt;chr&gt;</th><th scope=col>&lt;fct&gt;</th><th scope=col>&lt;dbl&gt;</th><th scope=col>&lt;dbl&gt;</th><th scope=col>&lt;dbl&gt;</th><th scope=col>&lt;dbl&gt;</th><th scope=col>&lt;dbl&gt;</th><th scope=col>&lt;dbl&gt;</th><th scope=col>&lt;dbl&gt;</th></tr>\n",
       "</thead>\n",
       "<tbody>\n",
       "\t<tr><td>pred_first</td><td>[0,0.0909]    </td><td> 2.260669</td><td> 1.958136</td><td> 2.595842</td><td>196</td><td> 4.545455</td><td>0.02260669</td><td>0.04545455</td></tr>\n",
       "\t<tr><td>pred_first</td><td>(0.0909,0.182]</td><td>14.956405</td><td>13.182987</td><td>16.869050</td><td>223</td><td>13.636364</td><td>0.14956405</td><td>0.13636364</td></tr>\n",
       "\t<tr><td>pred_first</td><td>(0.182,0.273] </td><td>28.378378</td><td>24.981587</td><td>31.968076</td><td>189</td><td>22.727273</td><td>0.28378378</td><td>0.22727273</td></tr>\n",
       "\t<tr><td>pred_first</td><td>(0.273,0.364] </td><td>37.468983</td><td>32.726367</td><td>42.397098</td><td>151</td><td>31.818182</td><td>0.37468983</td><td>0.31818182</td></tr>\n",
       "\t<tr><td>pred_first</td><td>(0.364,0.455] </td><td>44.295302</td><td>38.569287</td><td>50.135869</td><td>132</td><td>40.909091</td><td>0.44295302</td><td>0.40909091</td></tr>\n",
       "\t<tr><td>pred_first</td><td>(0.455,0.545] </td><td>58.108108</td><td>51.320645</td><td>64.676063</td><td>129</td><td>50.000000</td><td>0.58108108</td><td>0.50000000</td></tr>\n",
       "\t<tr><td>pred_first</td><td>(0.545,0.636] </td><td>66.834171</td><td>59.826990</td><td>73.331045</td><td>133</td><td>59.090909</td><td>0.66834171</td><td>0.59090909</td></tr>\n",
       "\t<tr><td>pred_first</td><td>(0.636,0.727] </td><td>69.325153</td><td>61.632814</td><td>76.299261</td><td>113</td><td>68.181818</td><td>0.69325153</td><td>0.68181818</td></tr>\n",
       "\t<tr><td>pred_first</td><td>(0.727,0.818] </td><td>85.106383</td><td>78.138886</td><td>90.537982</td><td>120</td><td>77.272727</td><td>0.85106383</td><td>0.77272727</td></tr>\n",
       "\t<tr><td>pred_first</td><td>(0.818,0.909] </td><td>90.756303</td><td>84.062295</td><td>95.294783</td><td>108</td><td>86.363636</td><td>0.90756303</td><td>0.86363636</td></tr>\n",
       "\t<tr><td>pred_first</td><td>(0.909,1]     </td><td>95.652174</td><td>85.161322</td><td>99.469052</td><td> 44</td><td>95.454545</td><td>0.95652174</td><td>0.95454545</td></tr>\n",
       "</tbody>\n",
       "</table>\n"
      ],
      "text/latex": [
       "A data.frame: 11 × 9\n",
       "\\begin{tabular}{lllllllll}\n",
       " calibModelVar & bin & Percent & Lower & Upper & Count & midpoint & Observed Average & Predicted Value\\\\\n",
       " <chr> & <fct> & <dbl> & <dbl> & <dbl> & <dbl> & <dbl> & <dbl> & <dbl>\\\\\n",
       "\\hline\n",
       "\t pred\\_first & {[}0,0.0909{]}     &  2.260669 &  1.958136 &  2.595842 & 196 &  4.545455 & 0.02260669 & 0.04545455\\\\\n",
       "\t pred\\_first & (0.0909,0.182{]} & 14.956405 & 13.182987 & 16.869050 & 223 & 13.636364 & 0.14956405 & 0.13636364\\\\\n",
       "\t pred\\_first & (0.182,0.273{]}  & 28.378378 & 24.981587 & 31.968076 & 189 & 22.727273 & 0.28378378 & 0.22727273\\\\\n",
       "\t pred\\_first & (0.273,0.364{]}  & 37.468983 & 32.726367 & 42.397098 & 151 & 31.818182 & 0.37468983 & 0.31818182\\\\\n",
       "\t pred\\_first & (0.364,0.455{]}  & 44.295302 & 38.569287 & 50.135869 & 132 & 40.909091 & 0.44295302 & 0.40909091\\\\\n",
       "\t pred\\_first & (0.455,0.545{]}  & 58.108108 & 51.320645 & 64.676063 & 129 & 50.000000 & 0.58108108 & 0.50000000\\\\\n",
       "\t pred\\_first & (0.545,0.636{]}  & 66.834171 & 59.826990 & 73.331045 & 133 & 59.090909 & 0.66834171 & 0.59090909\\\\\n",
       "\t pred\\_first & (0.636,0.727{]}  & 69.325153 & 61.632814 & 76.299261 & 113 & 68.181818 & 0.69325153 & 0.68181818\\\\\n",
       "\t pred\\_first & (0.727,0.818{]}  & 85.106383 & 78.138886 & 90.537982 & 120 & 77.272727 & 0.85106383 & 0.77272727\\\\\n",
       "\t pred\\_first & (0.818,0.909{]}  & 90.756303 & 84.062295 & 95.294783 & 108 & 86.363636 & 0.90756303 & 0.86363636\\\\\n",
       "\t pred\\_first & (0.909,1{]}      & 95.652174 & 85.161322 & 99.469052 &  44 & 95.454545 & 0.95652174 & 0.95454545\\\\\n",
       "\\end{tabular}\n"
      ],
      "text/markdown": [
       "\n",
       "A data.frame: 11 × 9\n",
       "\n",
       "| calibModelVar &lt;chr&gt; | bin &lt;fct&gt; | Percent &lt;dbl&gt; | Lower &lt;dbl&gt; | Upper &lt;dbl&gt; | Count &lt;dbl&gt; | midpoint &lt;dbl&gt; | Observed Average &lt;dbl&gt; | Predicted Value &lt;dbl&gt; |\n",
       "|---|---|---|---|---|---|---|---|---|\n",
       "| pred_first | [0,0.0909]     |  2.260669 |  1.958136 |  2.595842 | 196 |  4.545455 | 0.02260669 | 0.04545455 |\n",
       "| pred_first | (0.0909,0.182] | 14.956405 | 13.182987 | 16.869050 | 223 | 13.636364 | 0.14956405 | 0.13636364 |\n",
       "| pred_first | (0.182,0.273]  | 28.378378 | 24.981587 | 31.968076 | 189 | 22.727273 | 0.28378378 | 0.22727273 |\n",
       "| pred_first | (0.273,0.364]  | 37.468983 | 32.726367 | 42.397098 | 151 | 31.818182 | 0.37468983 | 0.31818182 |\n",
       "| pred_first | (0.364,0.455]  | 44.295302 | 38.569287 | 50.135869 | 132 | 40.909091 | 0.44295302 | 0.40909091 |\n",
       "| pred_first | (0.455,0.545]  | 58.108108 | 51.320645 | 64.676063 | 129 | 50.000000 | 0.58108108 | 0.50000000 |\n",
       "| pred_first | (0.545,0.636]  | 66.834171 | 59.826990 | 73.331045 | 133 | 59.090909 | 0.66834171 | 0.59090909 |\n",
       "| pred_first | (0.636,0.727]  | 69.325153 | 61.632814 | 76.299261 | 113 | 68.181818 | 0.69325153 | 0.68181818 |\n",
       "| pred_first | (0.727,0.818]  | 85.106383 | 78.138886 | 90.537982 | 120 | 77.272727 | 0.85106383 | 0.77272727 |\n",
       "| pred_first | (0.818,0.909]  | 90.756303 | 84.062295 | 95.294783 | 108 | 86.363636 | 0.90756303 | 0.86363636 |\n",
       "| pred_first | (0.909,1]      | 95.652174 | 85.161322 | 99.469052 |  44 | 95.454545 | 0.95652174 | 0.95454545 |\n",
       "\n"
      ],
      "text/plain": [
       "   calibModelVar bin            Percent   Lower     Upper     Count midpoint \n",
       "1  pred_first    [0,0.0909]      2.260669  1.958136  2.595842 196    4.545455\n",
       "2  pred_first    (0.0909,0.182] 14.956405 13.182987 16.869050 223   13.636364\n",
       "3  pred_first    (0.182,0.273]  28.378378 24.981587 31.968076 189   22.727273\n",
       "4  pred_first    (0.273,0.364]  37.468983 32.726367 42.397098 151   31.818182\n",
       "5  pred_first    (0.364,0.455]  44.295302 38.569287 50.135869 132   40.909091\n",
       "6  pred_first    (0.455,0.545]  58.108108 51.320645 64.676063 129   50.000000\n",
       "7  pred_first    (0.545,0.636]  66.834171 59.826990 73.331045 133   59.090909\n",
       "8  pred_first    (0.636,0.727]  69.325153 61.632814 76.299261 113   68.181818\n",
       "9  pred_first    (0.727,0.818]  85.106383 78.138886 90.537982 120   77.272727\n",
       "10 pred_first    (0.818,0.909]  90.756303 84.062295 95.294783 108   86.363636\n",
       "11 pred_first    (0.909,1]      95.652174 85.161322 99.469052  44   95.454545\n",
       "   Observed Average Predicted Value\n",
       "1  0.02260669       0.04545455     \n",
       "2  0.14956405       0.13636364     \n",
       "3  0.28378378       0.22727273     \n",
       "4  0.37468983       0.31818182     \n",
       "5  0.44295302       0.40909091     \n",
       "6  0.58108108       0.50000000     \n",
       "7  0.66834171       0.59090909     \n",
       "8  0.69325153       0.68181818     \n",
       "9  0.85106383       0.77272727     \n",
       "10 0.90756303       0.86363636     \n",
       "11 0.95652174       0.95454545     "
      ]
     },
     "metadata": {},
     "output_type": "display_data"
    }
   ],
   "source": [
    "cal_plot_data1 = calibration(factor(first_label) ~ pred_first, \n",
    "                             data = results0, class = 1)$data\n",
    "cal_plot_data1 <- cal_plot_data1 %>% mutate(\"Observed Average\" = Percent/100, \"Predicted Value\" = midpoint/100)\n",
    "cal_plot_data1"
   ]
  },
  {
   "cell_type": "code",
   "execution_count": 20,
   "metadata": {},
   "outputs": [
    {
     "data": {
      "image/png": "[encoded data removed]",
      "text/plain": [
       "plot without title"
      ]
     },
     "metadata": {
      "image/png": {
       "height": 420,
       "width": 420
      }
     },
     "output_type": "display_data"
    }
   ],
   "source": [
    "# plot\n",
    "options(repr.plot.width=7, repr.plot.height=7)\n",
    "\n",
    "c1 <- ggplot() + xlab(\"Bin Midpoint\") +\n",
    "          geom_line(data = cal_plot_data1, aes(midpoint, Percent),\n",
    "                    color = \"#F8766D\") +\n",
    "          geom_point(data = cal_plot_data1, aes(midpoint, Percent),\n",
    "                    color = \"#F8766D\", size = 3) +\n",
    "          geom_line(aes(c(0, 100), c(0, 100)), linetype = 2, \n",
    "                    color = 'grey50') +\n",
    "          labs(x=\"Bin Midpoint based on Predicted Probability\", y=\"Observed Percentage\", \n",
    "              title = \"A: Outcome at t0\")\n",
    "\n",
    "p1 <- c1 + theme(axis.text=element_text(size=14),\n",
    "                 plot.title = element_text(size=16),\n",
    "                 axis.title=element_text(size=16), legend.key.size = unit(1, \"cm\"))#, face=\"bold\"\n",
    "\n",
    "# ggsave(\"../Figures/calibration1.pdf\", width = 12, height = 7, dpi = 1200)\n",
    "p1"
   ]
  },
  {
   "cell_type": "code",
   "execution_count": 23,
   "metadata": {},
   "outputs": [
    {
     "data": {
      "image/png": "[encoded data removed]",
      "text/plain": [
       "plot without title"
      ]
     },
     "metadata": {
      "image/png": {
       "height": 420,
       "width": 420
      }
     },
     "output_type": "display_data"
    }
   ],
   "source": [
    "# plot\n",
    "options(repr.plot.width=7, repr.plot.height=7)\n",
    "\n",
    "c2 <- ggplot() + xlab(\"Bin Midpoint\") +\n",
    "          geom_line(data = cal_plot_data24, aes(midpoint, Percent),\n",
    "                    color = \"#F8766D\") +\n",
    "          geom_point(data = cal_plot_data24, aes(midpoint, Percent),\n",
    "                    color = \"#F8766D\", size = 3) +\n",
    "          geom_line(aes(c(0, 100), c(0, 100)), linetype = 2, \n",
    "                    color = 'grey50') +\n",
    "          labs(x=\"Bin Midpoint based on Predicted Probability\", y=\"Observed Percentage\", \n",
    "               title = \"B: Outcome at t24\")\n",
    "\n",
    "p2 <- c2 + theme(axis.text=element_text(size=14),\n",
    "                 plot.title = element_text(size=16),\n",
    "                 axis.title=element_text(size=16), legend.key.size = unit(1, \"cm\"))#, face=\"bold\"\n",
    "\n",
    "p2\n",
    "# calibrate.plot(results$label_24hr_recent, results$lgbm24, main=\"Calibration Plot for Binary Classification\")"
   ]
  },
  {
   "cell_type": "code",
   "execution_count": 24,
   "metadata": {},
   "outputs": [
    {
     "data": {
      "image/png": "[encoded data removed]",
      "text/plain": [
       "plot without title"
      ]
     },
     "metadata": {
      "image/png": {
       "height": 420,
       "width": 822
      }
     },
     "output_type": "display_data"
    }
   ],
   "source": [
    "options(repr.plot.width=13.7, repr.plot.height=7)\n",
    "# grid.arrange(p1, p2, ncol=2)\n",
    "\n",
    "plotlist <- list(p1,p2)\n",
    "# to save side-by-side picture\n",
    "plot_grid(plotlist=plotlist)\n",
    "\n",
    "# no \"page 1 of 1\" on top of the saved fig as with glist from gridExtra\n",
    "ggsave(filename = file.path(figuredir, \"Fig3.3_calibration_plotsAB_notitle.png\"), width = 14, height = 7, dpi = 1200) \n",
    "\n",
    "# or, but will have \"page 1 of 1\" on top of the saved figure\n",
    "# plot_list <- vector(\"list\", 2) \n",
    "# plot_list[[1]] <- p1\n",
    "# plot_list[[2]] <- p2\n",
    "\n",
    "# glist <- lapply(plot_list, ggplotGrob)\n",
    "\n",
    "# ggsave(filename = file.path(figuredir, \"Fig3_Calibration_plots.png\"),\n",
    "#        marrangeGrob(glist, nrow = 1, ncol = 2), \n",
    "#        width = 14, height = 7, dpi = 1200)"
   ]
  },
  {
   "cell_type": "markdown",
   "metadata": {},
   "source": [
    "# New validation data"
   ]
  },
  {
   "cell_type": "code",
   "execution_count": 72,
   "metadata": {},
   "outputs": [
    {
     "data": {
      "image/png": "[encoded data removed]",
      "text/plain": [
       "plot without title"
      ]
     },
     "metadata": {
      "image/png": {
       "height": 420,
       "width": 822
      }
     },
     "output_type": "display_data"
    }
   ],
   "source": [
    "cal_plot_data1 = calibration(factor(first_label) ~ p1, \n",
    "                             data = results6, class = 1)$data\n",
    "cal_plot_data1 <- cal_plot_data1 %>% mutate(\"Observed Average\" = Percent/100, \"Predicted Value\" = midpoint/100)\n",
    "\n",
    "cal_plot_data24 = calibration(factor(death_24hr_recent_label) ~ p24, \n",
    "                              data = results6, class = 1)$data\n",
    "cal_plot_data24 <- cal_plot_data24 %>% mutate(\"Observed Average\" = Percent/100, \"Predicted Value\" = midpoint/100)\n",
    "\n",
    "\n",
    "c1 <- ggplot() + xlab(\"Bin Midpoint\") +\n",
    "          geom_line(data = cal_plot_data1, aes(midpoint, Percent),\n",
    "                    color = \"#F8766D\") +\n",
    "          geom_point(data = cal_plot_data1, aes(midpoint, Percent),\n",
    "                    color = \"#F8766D\", size = 3) +\n",
    "          geom_line(aes(c(0, 100), c(0, 100)), linetype = 2, \n",
    "                    color = 'grey50') +\n",
    "          labs(x=\"Bin Midpoint based on Predicted Probability\", y=\"Observed Percentage\", \n",
    "              title = \"A: Outcome at t0\")\n",
    "p1 <- c1 + theme(axis.text=element_text(size=14),\n",
    "                 plot.title = element_text(size=16),\n",
    "                 axis.title=element_text(size=16), legend.key.size = unit(1, \"cm\"))#, face=\"bold\"\n",
    "\n",
    "c24 <- ggplot() + xlab(\"Bin Midpoint\") +\n",
    "          geom_line(data = cal_plot_data24, aes(midpoint, Percent),\n",
    "                    color = \"#F8766D\") +\n",
    "          geom_point(data = cal_plot_data24, aes(midpoint, Percent),\n",
    "                    color = \"#F8766D\", size = 3) +\n",
    "          geom_line(aes(c(0, 100), c(0, 100)), linetype = 2, \n",
    "                    color = 'grey50') +\n",
    "          labs(x=\"Bin Midpoint based on Predicted Probability\", y=\"Observed Percentage\", \n",
    "               title = \"B: Outcome at t24\")\n",
    "p24 <- c24 + theme(axis.text=element_text(size=14),\n",
    "                 plot.title = element_text(size=16),\n",
    "                 axis.title=element_text(size=16), legend.key.size = unit(1, \"cm\"))#, face=\"bold\"\n",
    "options(repr.plot.width=13.7, repr.plot.height=7)\n",
    "# grid.arrange(p1, p2, ncol=2)\n",
    "\n",
    "plotlist <- list(p1, p24)\n",
    "# to save side-by-side picture\n",
    "plot_grid(plotlist=plotlist)\n",
    "\n",
    "# no \"page 1 of 1\" on top of the saved fig as with glist from gridExtra\n",
    "ggsave(filename = file.path(Figuredir, \"Fig_val_calibration_plotsAB_notitle.png\"), width = 14, height = 7, dpi = 1200) \n",
    "\n",
    "# or, but will have \"page 1 of 1\" on top of the saved figure\n",
    "# plot_list <- vector(\"list\", 2) \n",
    "# plot_list[[1]] <- p1\n",
    "# plot_list[[2]] <- p2\n",
    "\n",
    "# glist <- lapply(plot_list, ggplotGrob)\n",
    "\n",
    "# ggsave(filename = file.path(figuredir, \"Fig3_Calibration_plots.png\"),\n",
    "#        marrangeGrob(glist, nrow = 1, ncol = 2), \n",
    "#        width = 14, height = 7, dpi = 1200)"
   ]
  },
  {
   "cell_type": "code",
   "execution_count": 73,
   "metadata": {},
   "outputs": [
    {
     "data": {
      "image/png": "[encoded data removed]",
      "text/plain": [
       "plot without title"
      ]
     },
     "metadata": {
      "image/png": {
       "height": 420,
       "width": 822
      }
     },
     "output_type": "display_data"
    }
   ],
   "source": [
    "cal_plot_data1 = calibration(factor(first_label) ~ p1, \n",
    "                             data = results, class = 1)$data\n",
    "cal_plot_data1 <- cal_plot_data1 %>% mutate(\"Observed Average\" = Percent/100, \"Predicted Value\" = midpoint/100)\n",
    "\n",
    "cal_plot_data24 = calibration(factor(death_24hr_recent_label) ~ p24, \n",
    "                              data = results, class = 1)$data\n",
    "cal_plot_data24 <- cal_plot_data24 %>% mutate(\"Observed Average\" = Percent/100, \"Predicted Value\" = midpoint/100)\n",
    "\n",
    "\n",
    "c1 <- ggplot() + xlab(\"Bin Midpoint\") +\n",
    "          geom_line(data = cal_plot_data1, aes(midpoint, Percent),\n",
    "                    color = \"#F8766D\") +\n",
    "          geom_point(data = cal_plot_data1, aes(midpoint, Percent),\n",
    "                    color = \"#F8766D\", size = 3) +\n",
    "          geom_line(aes(c(0, 100), c(0, 100)), linetype = 2, \n",
    "                    color = 'grey50') +\n",
    "          labs(x=\"Bin Midpoint based on Predicted Probability\", y=\"Observed Percentage\", \n",
    "              title = \"A: Outcome at t0\")\n",
    "p1 <- c1 + theme(axis.text=element_text(size=14),\n",
    "                 plot.title = element_text(size=16),\n",
    "                 axis.title=element_text(size=16), legend.key.size = unit(1, \"cm\"))#, face=\"bold\"\n",
    "\n",
    "c24 <- ggplot() + xlab(\"Bin Midpoint\") +\n",
    "          geom_line(data = cal_plot_data24, aes(midpoint, Percent),\n",
    "                    color = \"#F8766D\") +\n",
    "          geom_point(data = cal_plot_data24, aes(midpoint, Percent),\n",
    "                    color = \"#F8766D\", size = 3) +\n",
    "          geom_line(aes(c(0, 100), c(0, 100)), linetype = 2, \n",
    "                    color = 'grey50') +\n",
    "          labs(x=\"Bin Midpoint based on Predicted Probability\", y=\"Observed Percentage\", \n",
    "               title = \"B: Outcome at t24\")\n",
    "p24 <- c24 + theme(axis.text=element_text(size=14),\n",
    "                 plot.title = element_text(size=16),\n",
    "                 axis.title=element_text(size=16), legend.key.size = unit(1, \"cm\"))#, face=\"bold\"\n",
    "options(repr.plot.width=13.7, repr.plot.height=7)\n",
    "# grid.arrange(p1, p2, ncol=2)\n",
    "\n",
    "plotlist <- list(p1, p24)\n",
    "# to save side-by-side picture\n",
    "plot_grid(plotlist=plotlist)\n",
    "\n",
    "# no \"page 1 of 1\" on top of the saved fig as with glist from gridExtra\n",
    "ggsave(filename = file.path(Figuredir, \"Fig_new_calibration_plotsAB_notitle.png\"), width = 14, height = 7, dpi = 1200) \n",
    "\n",
    "# or, but will have \"page 1 of 1\" on top of the saved figure\n",
    "# plot_list <- vector(\"list\", 2) \n",
    "# plot_list[[1]] <- p1\n",
    "# plot_list[[2]] <- p2\n",
    "\n",
    "# glist <- lapply(plot_list, ggplotGrob)\n",
    "\n",
    "# ggsave(filename = file.path(figuredir, \"Fig3_Calibration_plots.png\"),\n",
    "#        marrangeGrob(glist, nrow = 1, ncol = 2), \n",
    "#        width = 14, height = 7, dpi = 1200)"
   ]
  },
  {
   "cell_type": "markdown",
   "metadata": {},
   "source": [
    "### CHECK NPV and PPV"
   ]
  },
  {
   "cell_type": "code",
   "execution_count": null,
   "metadata": {},
   "outputs": [],
   "source": []
  },
  {
   "cell_type": "code",
   "execution_count": null,
   "metadata": {},
   "outputs": [],
   "source": [
    "# typeof(results$label_max24)\n",
    "# brier <- results %>% filter(label_max24 == 1) %>% select(label_max24, lgbm24max)\n",
    "# mean((results$label_max24 - results$lgbm24max)^2)"
   ]
  },
  {
   "cell_type": "code",
   "execution_count": 19,
   "metadata": {},
   "outputs": [],
   "source": [
    "# Confusion matrix \n",
    "cmatrix <- function(label, pred, cutoff) {\n",
    "    cat(\"cutoff = \", cutoff, \"\\n\")\n",
    "    pred2 = ifelse(pred > cutoff, 1, 0)\n",
    "    \n",
    "#     typeof(results$lgbm24max2)\n",
    "#     typeof(results$label_max24)\n",
    "\n",
    "    print(caret::confusionMatrix(factor(pred2), \n",
    "                       factor(label), \n",
    "                       positive='1'))\n",
    "}"
   ]
  },
  {
   "cell_type": "code",
   "execution_count": 20,
   "metadata": {},
   "outputs": [
    {
     "name": "stdout",
     "output_type": "stream",
     "text": [
      "cutoff =  0.609 \n",
      "Confusion Matrix and Statistics\n",
      "\n",
      "          Reference\n",
      "Prediction     0     1\n",
      "         0 10781  1119\n",
      "         1    99   419\n",
      "                                          \n",
      "               Accuracy : 0.9019          \n",
      "                 95% CI : (0.8966, 0.9071)\n",
      "    No Information Rate : 0.8761          \n",
      "    P-Value [Acc > NIR] : < 2.2e-16       \n",
      "                                          \n",
      "                  Kappa : 0.3682          \n",
      "                                          \n",
      " Mcnemar's Test P-Value : < 2.2e-16       \n",
      "                                          \n",
      "            Sensitivity : 0.27243         \n",
      "            Specificity : 0.99090         \n",
      "         Pos Pred Value : 0.80888         \n",
      "         Neg Pred Value : 0.90597         \n",
      "             Prevalence : 0.12385         \n",
      "         Detection Rate : 0.03374         \n",
      "   Detection Prevalence : 0.04171         \n",
      "      Balanced Accuracy : 0.63167         \n",
      "                                          \n",
      "       'Positive' Class : 1               \n",
      "                                          \n",
      "cutoff =  0.609 \n",
      "Confusion Matrix and Statistics\n",
      "\n",
      "          Reference\n",
      "Prediction     0     1\n",
      "         0 11068  1101\n",
      "         1    59   190\n",
      "                                          \n",
      "               Accuracy : 0.9066          \n",
      "                 95% CI : (0.9013, 0.9117)\n",
      "    No Information Rate : 0.896           \n",
      "    P-Value [Acc > NIR] : 4.955e-05       \n",
      "                                          \n",
      "                  Kappa : 0.2205          \n",
      "                                          \n",
      " Mcnemar's Test P-Value : < 2.2e-16       \n",
      "                                          \n",
      "            Sensitivity : 0.14717         \n",
      "            Specificity : 0.99470         \n",
      "         Pos Pred Value : 0.76305         \n",
      "         Neg Pred Value : 0.90952         \n",
      "             Prevalence : 0.10396         \n",
      "         Detection Rate : 0.01530         \n",
      "   Detection Prevalence : 0.02005         \n",
      "      Balanced Accuracy : 0.57094         \n",
      "                                          \n",
      "       'Positive' Class : 1               \n",
      "                                          \n"
     ]
    }
   ],
   "source": [
    "# Confusion matrix 2nd outcome at different cut-off p\n",
    "p=0.609\n",
    "cmatrix(results$first_label, results$pred_first, p)\n",
    "cmatrix(results$death_24hr_recent_label, results$pred_death_24hr_recent, p)"
   ]
  }
 ],
 "metadata": {
  "environment": {
   "name": "r-cpu.4-0.m71",
   "type": "gcloud",
   "uri": "gcr.io/deeplearning-platform-release/r-cpu.4-0:m71"
  },
  "kernelspec": {
   "display_name": "R",
   "language": "R",
   "name": "ir"
  },
  "language_info": {
   "codemirror_mode": "r",
   "file_extension": ".r",
   "mimetype": "text/x-r-source",
   "name": "R",
   "pygments_lexer": "r",
   "version": "4.0.3"
  }
 },
 "nbformat": 4,
 "nbformat_minor": 4
}
