{
 "cells": [
  {
   "cell_type": "markdown",
   "metadata": {},
   "source": [
    "### Descriptions:\n",
    "\n",
    "Inputs:\n",
    "\n",
    "- `1_4_cohort_test_results.csv`: original prediction at time 0 & 24, old data\n",
    "- `6_7_cohort4_test.csv`: prediction at time 0 & 24, new validation data\n",
    "- `14_cohort_final_test2.csv`: prediction at time 0 - 24, new data, new cohort, with old split\n",
    "- `14_cohort_final_test.csv`: prediction at time 0 - 24, new data, new cohort, with new split"
   ]
  },
  {
   "cell_type": "raw",
   "metadata": {},
   "source": [
    "if not working, it's because a package might be uninstalled Rcpp? from trying to install another package\n",
    "check the crash message from anaconda to see which package is missing\n",
    "go to the command windows, cd to R location C:\\...\\bin\n",
    "then R\n",
    "then reinstall the packages\n",
    "restart"
   ]
  },
  {
   "cell_type": "code",
   "execution_count": 5,
   "metadata": {},
   "outputs": [],
   "source": [
    "library(ggplot2)\n",
    "library(ggExtra)\n",
    "library(tidyverse)\n",
    "library(lubridate)\n",
    "library(gridExtra)\n",
    "library(pROC)\n",
    "library(ROCR)\n",
    "library(ROCit)\n",
    "library(caret)\n",
    "library(boot)\n",
    "library(gbm)\n",
    "\n",
    "library(cvAUC)\n",
    "library(MLmetrics)\n",
    "library(cowplot)"
   ]
  },
  {
   "cell_type": "code",
   "execution_count": 6,
   "metadata": {},
   "outputs": [],
   "source": [
    "# directories\n",
    "datadir0 = \"../../DataTD/\"\n",
    "cohortdir = \"../../OutputTD/1_cohort\"\n",
    "# featuredir = \"../../OutputTD/2_features\"\n",
    "modeldir0 = \"../../OutputTD/3_models/1_4_cohort\"\n",
    "\n",
    "datadir6 = \"../../DataTD/validation\"\n",
    "valdir = \"../../OutputTD/6_validation\"\n",
    "modeldir6 = \"../../OutputTD/6_validation/models\"\n",
    "datadir = \"../../DataTD/shc2021\"\n",
    "outdir = \"../../OutputTD/shc2021\"\n",
    "modeldir = \"../../OutputTD/shc2021/models\" # new split new data\n",
    "modeldir2 = \"../../OutputTD/shc2021/models2\" # old split new data\n",
    "\n",
    "figuredir0 = \"../../OutputTD/Figures\"\n",
    "figuredir = \"../../OutputTD/shc2021/figures\"\n",
    "\n",
    "# display rows and cols\n",
    "options(repr.matrix.max.rows=250, repr.matrix.max.cols=30)"
   ]
  },
  {
   "cell_type": "code",
   "execution_count": 25,
   "metadata": {},
   "outputs": [
    {
     "data": {
      "text/html": [
       "12418"
      ],
      "text/latex": [
       "12418"
      ],
      "text/markdown": [
       "12418"
      ],
      "text/plain": [
       "[1] 12418"
      ]
     },
     "metadata": {},
     "output_type": "display_data"
    },
    {
     "data": {
      "text/html": [
       "16484"
      ],
      "text/latex": [
       "16484"
      ],
      "text/markdown": [
       "16484"
      ],
      "text/plain": [
       "[1] 16484"
      ]
     },
     "metadata": {},
     "output_type": "display_data"
    },
    {
     "data": {
      "text/html": [
       "14113"
      ],
      "text/latex": [
       "14113"
      ],
      "text/markdown": [
       "14113"
      ],
      "text/plain": [
       "[1] 14113"
      ]
     },
     "metadata": {},
     "output_type": "display_data"
    },
    {
     "data": {
      "text/html": [
       "7664"
      ],
      "text/latex": [
       "7664"
      ],
      "text/markdown": [
       "7664"
      ],
      "text/plain": [
       "[1] 7664"
      ]
     },
     "metadata": {},
     "output_type": "display_data"
    }
   ],
   "source": [
    "results0 <- read.csv(file.path(modeldir0, '1_4_cohort_test_results.csv'))\n",
    "nrow(results0)\n",
    "results6 <- read.csv(file.path(valdir, '6_7_cohort4_test.csv'))\n",
    "nrow(results6)\n",
    "\n",
    "results2 <- read.csv(file.path(outdir, '14_cohort_final_test2.csv'))\n",
    "nrow(results2)\n",
    "results <- read.csv(file.path(outdir, '14_cohort_final_test.csv'))\n",
    "nrow(results)"
   ]
  },
  {
   "cell_type": "code",
   "execution_count": 26,
   "metadata": {},
   "outputs": [
    {
     "data": {
      "text/html": [
       "<table>\n",
       "<caption>A data.frame: 1 × 26</caption>\n",
       "<thead>\n",
       "\t<tr><th></th><th scope=col>anon_id</th><th scope=col>pat_enc_csn_id_coded</th><th scope=col>inpatient_data_id_coded</th><th scope=col>admit_time</th><th scope=col>label_max24</th><th scope=col>label_24hr_recent</th><th scope=col>admit_label</th><th scope=col>has_admit_label</th><th scope=col>died_within_24hrs</th><th scope=col>death_24hr_max_label</th><th scope=col>death_24hr_recent_label</th><th scope=col>first_label</th><th scope=col>first_label_minutes_since_admit</th><th scope=col>acute_to_critical_label_recent</th><th scope=col>critical_to_acute_label_recent</th><th scope=col>acute_to_critical_label_max</th><th scope=col>critical_to_acute_label_max</th><th scope=col>adm_year</th><th scope=col>transfer</th><th scope=col>pred_death_24hr_max</th><th scope=col>pred_death_24hr_recent</th><th scope=col>pred_first</th><th scope=col>diff0_24</th><th scope=col>abs_diff0_24</th><th scope=col>diff0_True</th><th scope=col>diff24_True</th></tr>\n",
       "\t<tr><th></th><th scope=col>&lt;chr&gt;</th><th scope=col>&lt;dbl&gt;</th><th scope=col>&lt;int&gt;</th><th scope=col>&lt;chr&gt;</th><th scope=col>&lt;int&gt;</th><th scope=col>&lt;int&gt;</th><th scope=col>&lt;int&gt;</th><th scope=col>&lt;int&gt;</th><th scope=col>&lt;int&gt;</th><th scope=col>&lt;int&gt;</th><th scope=col>&lt;int&gt;</th><th scope=col>&lt;int&gt;</th><th scope=col>&lt;int&gt;</th><th scope=col>&lt;int&gt;</th><th scope=col>&lt;int&gt;</th><th scope=col>&lt;int&gt;</th><th scope=col>&lt;int&gt;</th><th scope=col>&lt;int&gt;</th><th scope=col>&lt;int&gt;</th><th scope=col>&lt;dbl&gt;</th><th scope=col>&lt;dbl&gt;</th><th scope=col>&lt;dbl&gt;</th><th scope=col>&lt;dbl&gt;</th><th scope=col>&lt;dbl&gt;</th><th scope=col>&lt;dbl&gt;</th><th scope=col>&lt;dbl&gt;</th></tr>\n",
       "</thead>\n",
       "<tbody>\n",
       "\t<tr><th scope=row>1</th><td>JCe8840f</td><td>131264906504</td><td>34995073</td><td>2019-02-14 22:22:00</td><td>0</td><td>0</td><td>0</td><td>1</td><td>0</td><td>0</td><td>0</td><td>0</td><td>0</td><td>0</td><td>0</td><td>0</td><td>0</td><td>2019</td><td>0</td><td>0.2811781</td><td>0.2091965</td><td>0.2356759</td><td>0.03</td><td>0</td><td>0.24</td><td>0.21</td></tr>\n",
       "</tbody>\n",
       "</table>\n"
      ],
      "text/latex": [
       "A data.frame: 1 × 26\n",
       "\\begin{tabular}{r|llllllllllllllllllllllllll}\n",
       "  & anon\\_id & pat\\_enc\\_csn\\_id\\_coded & inpatient\\_data\\_id\\_coded & admit\\_time & label\\_max24 & label\\_24hr\\_recent & admit\\_label & has\\_admit\\_label & died\\_within\\_24hrs & death\\_24hr\\_max\\_label & death\\_24hr\\_recent\\_label & first\\_label & first\\_label\\_minutes\\_since\\_admit & acute\\_to\\_critical\\_label\\_recent & critical\\_to\\_acute\\_label\\_recent & acute\\_to\\_critical\\_label\\_max & critical\\_to\\_acute\\_label\\_max & adm\\_year & transfer & pred\\_death\\_24hr\\_max & pred\\_death\\_24hr\\_recent & pred\\_first & diff0\\_24 & abs\\_diff0\\_24 & diff0\\_True & diff24\\_True\\\\\n",
       "  & <chr> & <dbl> & <int> & <chr> & <int> & <int> & <int> & <int> & <int> & <int> & <int> & <int> & <int> & <int> & <int> & <int> & <int> & <int> & <int> & <dbl> & <dbl> & <dbl> & <dbl> & <dbl> & <dbl> & <dbl>\\\\\n",
       "\\hline\n",
       "\t1 & JCe8840f & 131264906504 & 34995073 & 2019-02-14 22:22:00 & 0 & 0 & 0 & 1 & 0 & 0 & 0 & 0 & 0 & 0 & 0 & 0 & 0 & 2019 & 0 & 0.2811781 & 0.2091965 & 0.2356759 & 0.03 & 0 & 0.24 & 0.21\\\\\n",
       "\\end{tabular}\n"
      ],
      "text/markdown": [
       "\n",
       "A data.frame: 1 × 26\n",
       "\n",
       "| <!--/--> | anon_id &lt;chr&gt; | pat_enc_csn_id_coded &lt;dbl&gt; | inpatient_data_id_coded &lt;int&gt; | admit_time &lt;chr&gt; | label_max24 &lt;int&gt; | label_24hr_recent &lt;int&gt; | admit_label &lt;int&gt; | has_admit_label &lt;int&gt; | died_within_24hrs &lt;int&gt; | death_24hr_max_label &lt;int&gt; | death_24hr_recent_label &lt;int&gt; | first_label &lt;int&gt; | first_label_minutes_since_admit &lt;int&gt; | acute_to_critical_label_recent &lt;int&gt; | critical_to_acute_label_recent &lt;int&gt; | acute_to_critical_label_max &lt;int&gt; | critical_to_acute_label_max &lt;int&gt; | adm_year &lt;int&gt; | transfer &lt;int&gt; | pred_death_24hr_max &lt;dbl&gt; | pred_death_24hr_recent &lt;dbl&gt; | pred_first &lt;dbl&gt; | diff0_24 &lt;dbl&gt; | abs_diff0_24 &lt;dbl&gt; | diff0_True &lt;dbl&gt; | diff24_True &lt;dbl&gt; |\n",
       "|---|---|---|---|---|---|---|---|---|---|---|---|---|---|---|---|---|---|---|---|---|---|---|---|---|---|---|\n",
       "| 1 | JCe8840f | 131264906504 | 34995073 | 2019-02-14 22:22:00 | 0 | 0 | 0 | 1 | 0 | 0 | 0 | 0 | 0 | 0 | 0 | 0 | 0 | 2019 | 0 | 0.2811781 | 0.2091965 | 0.2356759 | 0.03 | 0 | 0.24 | 0.21 |\n",
       "\n"
      ],
      "text/plain": [
       "  anon_id  pat_enc_csn_id_coded inpatient_data_id_coded admit_time         \n",
       "1 JCe8840f 131264906504         34995073                2019-02-14 22:22:00\n",
       "  label_max24 label_24hr_recent admit_label has_admit_label died_within_24hrs\n",
       "1 0           0                 0           1               0                \n",
       "  death_24hr_max_label death_24hr_recent_label first_label\n",
       "1 0                    0                       0          \n",
       "  first_label_minutes_since_admit acute_to_critical_label_recent\n",
       "1 0                               0                             \n",
       "  critical_to_acute_label_recent acute_to_critical_label_max\n",
       "1 0                              0                          \n",
       "  critical_to_acute_label_max adm_year transfer pred_death_24hr_max\n",
       "1 0                           2019     0        0.2811781          \n",
       "  pred_death_24hr_recent pred_first diff0_24 abs_diff0_24 diff0_True\n",
       "1 0.2091965              0.2356759  0.03     0            0.24      \n",
       "  diff24_True\n",
       "1 0.21       "
      ]
     },
     "metadata": {},
     "output_type": "display_data"
    },
    {
     "data": {
      "text/html": [
       "<table>\n",
       "<caption>A data.frame: 1 × 9</caption>\n",
       "<thead>\n",
       "\t<tr><th></th><th scope=col>anon_id</th><th scope=col>pat_enc_csn_id_coded</th><th scope=col>admit_time</th><th scope=col>first_label</th><th scope=col>death_24hr_recent_label</th><th scope=col>adm_year</th><th scope=col>adm_month</th><th scope=col>p1</th><th scope=col>p24</th></tr>\n",
       "\t<tr><th></th><th scope=col>&lt;chr&gt;</th><th scope=col>&lt;dbl&gt;</th><th scope=col>&lt;chr&gt;</th><th scope=col>&lt;int&gt;</th><th scope=col>&lt;int&gt;</th><th scope=col>&lt;int&gt;</th><th scope=col>&lt;int&gt;</th><th scope=col>&lt;dbl&gt;</th><th scope=col>&lt;dbl&gt;</th></tr>\n",
       "</thead>\n",
       "<tbody>\n",
       "\t<tr><th scope=row>1</th><td>JC1000116</td><td>131295313275</td><td>2020-09-29 22:45:00</td><td>0</td><td>0</td><td>2020</td><td>9</td><td>0.02273415</td><td>0.01132414</td></tr>\n",
       "</tbody>\n",
       "</table>\n"
      ],
      "text/latex": [
       "A data.frame: 1 × 9\n",
       "\\begin{tabular}{r|lllllllll}\n",
       "  & anon\\_id & pat\\_enc\\_csn\\_id\\_coded & admit\\_time & first\\_label & death\\_24hr\\_recent\\_label & adm\\_year & adm\\_month & p1 & p24\\\\\n",
       "  & <chr> & <dbl> & <chr> & <int> & <int> & <int> & <int> & <dbl> & <dbl>\\\\\n",
       "\\hline\n",
       "\t1 & JC1000116 & 131295313275 & 2020-09-29 22:45:00 & 0 & 0 & 2020 & 9 & 0.02273415 & 0.01132414\\\\\n",
       "\\end{tabular}\n"
      ],
      "text/markdown": [
       "\n",
       "A data.frame: 1 × 9\n",
       "\n",
       "| <!--/--> | anon_id &lt;chr&gt; | pat_enc_csn_id_coded &lt;dbl&gt; | admit_time &lt;chr&gt; | first_label &lt;int&gt; | death_24hr_recent_label &lt;int&gt; | adm_year &lt;int&gt; | adm_month &lt;int&gt; | p1 &lt;dbl&gt; | p24 &lt;dbl&gt; |\n",
       "|---|---|---|---|---|---|---|---|---|---|\n",
       "| 1 | JC1000116 | 131295313275 | 2020-09-29 22:45:00 | 0 | 0 | 2020 | 9 | 0.02273415 | 0.01132414 |\n",
       "\n"
      ],
      "text/plain": [
       "  anon_id   pat_enc_csn_id_coded admit_time          first_label\n",
       "1 JC1000116 131295313275         2020-09-29 22:45:00 0          \n",
       "  death_24hr_recent_label adm_year adm_month p1         p24       \n",
       "1 0                       2020     9         0.02273415 0.01132414"
      ]
     },
     "metadata": {},
     "output_type": "display_data"
    },
    {
     "data": {
      "text/html": [
       "<table>\n",
       "<caption>A data.frame: 1 × 17</caption>\n",
       "<thead>\n",
       "\t<tr><th></th><th scope=col>anon_id</th><th scope=col>pat_enc_csn_id_coded</th><th scope=col>admit_time</th><th scope=col>first_label</th><th scope=col>death_3hr_recent_label</th><th scope=col>death_6hr_recent_label</th><th scope=col>death_9hr_recent_label</th><th scope=col>death_12hr_recent_label</th><th scope=col>death_24hr_recent_label</th><th scope=col>adm_year</th><th scope=col>adm_month</th><th scope=col>p1</th><th scope=col>p12</th><th scope=col>p24</th><th scope=col>p3</th><th scope=col>p6</th><th scope=col>p9</th></tr>\n",
       "\t<tr><th></th><th scope=col>&lt;chr&gt;</th><th scope=col>&lt;dbl&gt;</th><th scope=col>&lt;chr&gt;</th><th scope=col>&lt;int&gt;</th><th scope=col>&lt;int&gt;</th><th scope=col>&lt;int&gt;</th><th scope=col>&lt;int&gt;</th><th scope=col>&lt;int&gt;</th><th scope=col>&lt;int&gt;</th><th scope=col>&lt;int&gt;</th><th scope=col>&lt;int&gt;</th><th scope=col>&lt;dbl&gt;</th><th scope=col>&lt;dbl&gt;</th><th scope=col>&lt;dbl&gt;</th><th scope=col>&lt;dbl&gt;</th><th scope=col>&lt;dbl&gt;</th><th scope=col>&lt;dbl&gt;</th></tr>\n",
       "</thead>\n",
       "<tbody>\n",
       "\t<tr><th scope=row>1</th><td>JC1000116</td><td>131295313275</td><td>2020-09-29 22:45:00</td><td>0</td><td>0</td><td>0</td><td>0</td><td>0</td><td>0</td><td>2020</td><td>9</td><td>0.0105307</td><td>0.01123712</td><td>0.01291768</td><td>0.01066307</td><td>0.01426807</td><td>0.01092208</td></tr>\n",
       "</tbody>\n",
       "</table>\n"
      ],
      "text/latex": [
       "A data.frame: 1 × 17\n",
       "\\begin{tabular}{r|lllllllllllllllll}\n",
       "  & anon\\_id & pat\\_enc\\_csn\\_id\\_coded & admit\\_time & first\\_label & death\\_3hr\\_recent\\_label & death\\_6hr\\_recent\\_label & death\\_9hr\\_recent\\_label & death\\_12hr\\_recent\\_label & death\\_24hr\\_recent\\_label & adm\\_year & adm\\_month & p1 & p12 & p24 & p3 & p6 & p9\\\\\n",
       "  & <chr> & <dbl> & <chr> & <int> & <int> & <int> & <int> & <int> & <int> & <int> & <int> & <dbl> & <dbl> & <dbl> & <dbl> & <dbl> & <dbl>\\\\\n",
       "\\hline\n",
       "\t1 & JC1000116 & 131295313275 & 2020-09-29 22:45:00 & 0 & 0 & 0 & 0 & 0 & 0 & 2020 & 9 & 0.0105307 & 0.01123712 & 0.01291768 & 0.01066307 & 0.01426807 & 0.01092208\\\\\n",
       "\\end{tabular}\n"
      ],
      "text/markdown": [
       "\n",
       "A data.frame: 1 × 17\n",
       "\n",
       "| <!--/--> | anon_id &lt;chr&gt; | pat_enc_csn_id_coded &lt;dbl&gt; | admit_time &lt;chr&gt; | first_label &lt;int&gt; | death_3hr_recent_label &lt;int&gt; | death_6hr_recent_label &lt;int&gt; | death_9hr_recent_label &lt;int&gt; | death_12hr_recent_label &lt;int&gt; | death_24hr_recent_label &lt;int&gt; | adm_year &lt;int&gt; | adm_month &lt;int&gt; | p1 &lt;dbl&gt; | p12 &lt;dbl&gt; | p24 &lt;dbl&gt; | p3 &lt;dbl&gt; | p6 &lt;dbl&gt; | p9 &lt;dbl&gt; |\n",
       "|---|---|---|---|---|---|---|---|---|---|---|---|---|---|---|---|---|---|\n",
       "| 1 | JC1000116 | 131295313275 | 2020-09-29 22:45:00 | 0 | 0 | 0 | 0 | 0 | 0 | 2020 | 9 | 0.0105307 | 0.01123712 | 0.01291768 | 0.01066307 | 0.01426807 | 0.01092208 |\n",
       "\n"
      ],
      "text/plain": [
       "  anon_id   pat_enc_csn_id_coded admit_time          first_label\n",
       "1 JC1000116 131295313275         2020-09-29 22:45:00 0          \n",
       "  death_3hr_recent_label death_6hr_recent_label death_9hr_recent_label\n",
       "1 0                      0                      0                     \n",
       "  death_12hr_recent_label death_24hr_recent_label adm_year adm_month p1       \n",
       "1 0                       0                       2020     9         0.0105307\n",
       "  p12        p24        p3         p6         p9        \n",
       "1 0.01123712 0.01291768 0.01066307 0.01426807 0.01092208"
      ]
     },
     "metadata": {},
     "output_type": "display_data"
    },
    {
     "data": {
      "text/html": [
       "<table>\n",
       "<caption>A data.frame: 1 × 17</caption>\n",
       "<thead>\n",
       "\t<tr><th></th><th scope=col>anon_id</th><th scope=col>pat_enc_csn_id_coded</th><th scope=col>admit_time</th><th scope=col>first_label</th><th scope=col>death_3hr_recent_label</th><th scope=col>death_6hr_recent_label</th><th scope=col>death_9hr_recent_label</th><th scope=col>death_12hr_recent_label</th><th scope=col>death_24hr_recent_label</th><th scope=col>adm_year</th><th scope=col>adm_month</th><th scope=col>p1</th><th scope=col>p12</th><th scope=col>p24</th><th scope=col>p3</th><th scope=col>p6</th><th scope=col>p9</th></tr>\n",
       "\t<tr><th></th><th scope=col>&lt;chr&gt;</th><th scope=col>&lt;dbl&gt;</th><th scope=col>&lt;chr&gt;</th><th scope=col>&lt;int&gt;</th><th scope=col>&lt;int&gt;</th><th scope=col>&lt;int&gt;</th><th scope=col>&lt;int&gt;</th><th scope=col>&lt;int&gt;</th><th scope=col>&lt;int&gt;</th><th scope=col>&lt;int&gt;</th><th scope=col>&lt;int&gt;</th><th scope=col>&lt;dbl&gt;</th><th scope=col>&lt;dbl&gt;</th><th scope=col>&lt;dbl&gt;</th><th scope=col>&lt;dbl&gt;</th><th scope=col>&lt;dbl&gt;</th><th scope=col>&lt;dbl&gt;</th></tr>\n",
       "</thead>\n",
       "<tbody>\n",
       "\t<tr><th scope=row>1</th><td>JC1001688</td><td>131302440087</td><td>2021-02-26 11:46:00</td><td>0</td><td>0</td><td>0</td><td>0</td><td>0</td><td>0</td><td>2021</td><td>2</td><td>0.1875911</td><td>0.1500773</td><td>0.1666534</td><td>0.2861808</td><td>0.194771</td><td>0.1378668</td></tr>\n",
       "</tbody>\n",
       "</table>\n"
      ],
      "text/latex": [
       "A data.frame: 1 × 17\n",
       "\\begin{tabular}{r|lllllllllllllllll}\n",
       "  & anon\\_id & pat\\_enc\\_csn\\_id\\_coded & admit\\_time & first\\_label & death\\_3hr\\_recent\\_label & death\\_6hr\\_recent\\_label & death\\_9hr\\_recent\\_label & death\\_12hr\\_recent\\_label & death\\_24hr\\_recent\\_label & adm\\_year & adm\\_month & p1 & p12 & p24 & p3 & p6 & p9\\\\\n",
       "  & <chr> & <dbl> & <chr> & <int> & <int> & <int> & <int> & <int> & <int> & <int> & <int> & <dbl> & <dbl> & <dbl> & <dbl> & <dbl> & <dbl>\\\\\n",
       "\\hline\n",
       "\t1 & JC1001688 & 131302440087 & 2021-02-26 11:46:00 & 0 & 0 & 0 & 0 & 0 & 0 & 2021 & 2 & 0.1875911 & 0.1500773 & 0.1666534 & 0.2861808 & 0.194771 & 0.1378668\\\\\n",
       "\\end{tabular}\n"
      ],
      "text/markdown": [
       "\n",
       "A data.frame: 1 × 17\n",
       "\n",
       "| <!--/--> | anon_id &lt;chr&gt; | pat_enc_csn_id_coded &lt;dbl&gt; | admit_time &lt;chr&gt; | first_label &lt;int&gt; | death_3hr_recent_label &lt;int&gt; | death_6hr_recent_label &lt;int&gt; | death_9hr_recent_label &lt;int&gt; | death_12hr_recent_label &lt;int&gt; | death_24hr_recent_label &lt;int&gt; | adm_year &lt;int&gt; | adm_month &lt;int&gt; | p1 &lt;dbl&gt; | p12 &lt;dbl&gt; | p24 &lt;dbl&gt; | p3 &lt;dbl&gt; | p6 &lt;dbl&gt; | p9 &lt;dbl&gt; |\n",
       "|---|---|---|---|---|---|---|---|---|---|---|---|---|---|---|---|---|---|\n",
       "| 1 | JC1001688 | 131302440087 | 2021-02-26 11:46:00 | 0 | 0 | 0 | 0 | 0 | 0 | 2021 | 2 | 0.1875911 | 0.1500773 | 0.1666534 | 0.2861808 | 0.194771 | 0.1378668 |\n",
       "\n"
      ],
      "text/plain": [
       "  anon_id   pat_enc_csn_id_coded admit_time          first_label\n",
       "1 JC1001688 131302440087         2021-02-26 11:46:00 0          \n",
       "  death_3hr_recent_label death_6hr_recent_label death_9hr_recent_label\n",
       "1 0                      0                      0                     \n",
       "  death_12hr_recent_label death_24hr_recent_label adm_year adm_month p1       \n",
       "1 0                       0                       2021     2         0.1875911\n",
       "  p12       p24       p3        p6       p9       \n",
       "1 0.1500773 0.1666534 0.2861808 0.194771 0.1378668"
      ]
     },
     "metadata": {},
     "output_type": "display_data"
    }
   ],
   "source": [
    "head(results0, 1)\n",
    "head(results6, 1)\n",
    "head(results2, 1)\n",
    "head(results, 1)"
   ]
  },
  {
   "cell_type": "code",
   "execution_count": 27,
   "metadata": {},
   "outputs": [],
   "source": [
    "results0 <- results0 %>% select(anon_id, pat_enc_csn_id_coded, admit_time, \n",
    "                               first_label, death_24hr_recent_label, \n",
    "                               pred_first, pred_death_24hr_recent)"
   ]
  },
  {
   "cell_type": "markdown",
   "metadata": {},
   "source": [
    "### Original"
   ]
  },
  {
   "cell_type": "code",
   "execution_count": 35,
   "metadata": {},
   "outputs": [
    {
     "data": {
      "text/html": [
       "0.907253499579289"
      ],
      "text/latex": [
       "0.907253499579289"
      ],
      "text/markdown": [
       "0.907253499579289"
      ],
      "text/plain": [
       "[1] 0.9072535"
      ]
     },
     "metadata": {},
     "output_type": "display_data"
    },
    {
     "data": {
      "text/html": [
       "0.642238742593756"
      ],
      "text/latex": [
       "0.642238742593756"
      ],
      "text/markdown": [
       "0.642238742593756"
      ],
      "text/plain": [
       "[1] 0.6422387"
      ]
     },
     "metadata": {},
     "output_type": "display_data"
    },
    {
     "data": {
      "image/png": "[encoded data removed]",
      "text/plain": [
       "plot without title"
      ]
     },
     "metadata": {
      "image/png": {
       "height": 420,
       "width": 420
      }
     },
     "output_type": "display_data"
    },
    {
     "data": {
      "image/png": "[encoded data removed]",
      "text/plain": [
       "plot without title"
      ]
     },
     "metadata": {
      "image/png": {
       "height": 420,
       "width": 420
      }
     },
     "output_type": "display_data"
    }
   ],
   "source": [
    "# original, time0\n",
    "pred01_rocr = ROCR::prediction(results0$pred_first, results0$first_label)\n",
    "\n",
    "# same here\n",
    "pred_rocr = pred01_rocr\n",
    "\n",
    "# AUROC\n",
    "ROCR::performance(pred_rocr, measure = \"auc\", x.measure = \"cutoff\")@y.values[[1]]\n",
    "roc_perf <- ROCR::performance(pred_rocr,\"tpr\",\"fpr\")\n",
    "plot(roc_perf)\n",
    "\n",
    "# AUPRC\n",
    "ROCR::performance(pred_rocr, measure = \"aucpr\", x.measure = \"cutoff\")@y.values[[1]]\n",
    "prc_perf <- ROCR::performance(pred_rocr, \"prec\", \"rec\")\n",
    "plot(prc_perf)\n",
    "\n",
    "# acc = ROCR::performance(pred_rocr, measure = \"acc\", x.measure = \"cutoff\")@y.values[[1]]\n",
    "# mean(acc)"
   ]
  },
  {
   "cell_type": "code",
   "execution_count": 37,
   "metadata": {},
   "outputs": [
    {
     "data": {
      "text/html": [
       "0.852746095933298"
      ],
      "text/latex": [
       "0.852746095933298"
      ],
      "text/markdown": [
       "0.852746095933298"
      ],
      "text/plain": [
       "[1] 0.8527461"
      ]
     },
     "metadata": {},
     "output_type": "display_data"
    },
    {
     "data": {
      "text/html": [
       "0.491112785165401"
      ],
      "text/latex": [
       "0.491112785165401"
      ],
      "text/markdown": [
       "0.491112785165401"
      ],
      "text/plain": [
       "[1] 0.4911128"
      ]
     },
     "metadata": {},
     "output_type": "display_data"
    },
    {
     "data": {
      "image/png": "[encoded data removed]",
      "text/plain": [
       "plot without title"
      ]
     },
     "metadata": {
      "image/png": {
       "height": 420,
       "width": 420
      }
     },
     "output_type": "display_data"
    },
    {
     "data": {
      "image/png": "[encoded data removed]",
      "text/plain": [
       "plot without title"
      ]
     },
     "metadata": {
      "image/png": {
       "height": 420,
       "width": 420
      }
     },
     "output_type": "display_data"
    }
   ],
   "source": [
    "# original, time24\n",
    "pred024_rocr = ROCR::prediction(results0$pred_death_24hr_recent,results0$death_24hr_recent_label)\n",
    "# auc24 <- performance(pred24_rocr, measure = \"auc\")\n",
    "# auc24 <- auc24@y.values[[1]]\n",
    "\n",
    "pred_rocr = pred024_rocr\n",
    "\n",
    "# AUROC\n",
    "ROCR::performance(pred_rocr, measure = \"auc\", x.measure = \"cutoff\")@y.values[[1]]\n",
    "roc_perf <- ROCR::performance(pred_rocr,\"tpr\",\"fpr\")\n",
    "plot(roc_perf)\n",
    "\n",
    "# AUPRC\n",
    "ROCR::performance(pred_rocr, measure = \"aucpr\", x.measure = \"cutoff\")@y.values[[1]]\n",
    "prc_perf <- ROCR::performance(pred_rocr, \"prec\", \"rec\")\n",
    "plot(prc_perf)"
   ]
  },
  {
   "cell_type": "code",
   "execution_count": 49,
   "metadata": {},
   "outputs": [
    {
     "data": {
      "text/html": [
       "0.874485542841694"
      ],
      "text/latex": [
       "0.874485542841694"
      ],
      "text/markdown": [
       "0.874485542841694"
      ],
      "text/plain": [
       "[1] 0.8744855"
      ]
     },
     "metadata": {},
     "output_type": "display_data"
    },
    {
     "data": {
      "text/html": [
       "0.541046767388163"
      ],
      "text/latex": [
       "0.541046767388163"
      ],
      "text/markdown": [
       "0.541046767388163"
      ],
      "text/plain": [
       "[1] 0.5410468"
      ]
     },
     "metadata": {},
     "output_type": "display_data"
    }
   ],
   "source": [
    "# validation\n",
    "pred60_rocr = ROCR::prediction(results6$p1, results6$first_label)\n",
    "pred624_rocr = ROCR::prediction(results6$p24, results6$death_24hr_recent_label)\n",
    "\n",
    "# AUROC\n",
    "# ROCR::performance(pred60_rocr, measure = \"auc\", x.measure = \"cutoff\")@y.values[[1]]\n",
    "ROCR::performance(pred624_rocr, measure = \"auc\", x.measure = \"cutoff\")@y.values[[1]]\n",
    "\n",
    "# AUPRC\n",
    "# ROCR::performance(pred60_rocr, measure = \"aucpr\", x.measure = \"cutoff\")@y.values[[1]]\n",
    "ROCR::performance(pred624_rocr, measure = \"aucpr\", x.measure = \"cutoff\")@y.values[[1]]"
   ]
  },
  {
   "cell_type": "code",
   "execution_count": null,
   "metadata": {},
   "outputs": [],
   "source": []
  },
  {
   "cell_type": "code",
   "execution_count": 51,
   "metadata": {},
   "outputs": [
    {
     "data": {
      "text/html": [
       "0.920478236604269"
      ],
      "text/latex": [
       "0.920478236604269"
      ],
      "text/markdown": [
       "0.920478236604269"
      ],
      "text/plain": [
       "[1] 0.9204782"
      ]
     },
     "metadata": {},
     "output_type": "display_data"
    },
    {
     "data": {
      "text/html": [
       "0.91251240356603"
      ],
      "text/latex": [
       "0.91251240356603"
      ],
      "text/markdown": [
       "0.91251240356603"
      ],
      "text/plain": [
       "[1] 0.9125124"
      ]
     },
     "metadata": {},
     "output_type": "display_data"
    },
    {
     "data": {
      "text/html": [
       "0.909247624377527"
      ],
      "text/latex": [
       "0.909247624377527"
      ],
      "text/markdown": [
       "0.909247624377527"
      ],
      "text/plain": [
       "[1] 0.9092476"
      ]
     },
     "metadata": {},
     "output_type": "display_data"
    },
    {
     "data": {
      "text/html": [
       "0.903628395178322"
      ],
      "text/latex": [
       "0.903628395178322"
      ],
      "text/markdown": [
       "0.903628395178322"
      ],
      "text/plain": [
       "[1] 0.9036284"
      ]
     },
     "metadata": {},
     "output_type": "display_data"
    },
    {
     "data": {
      "text/html": [
       "0.899903761074208"
      ],
      "text/latex": [
       "0.899903761074208"
      ],
      "text/markdown": [
       "0.899903761074208"
      ],
      "text/plain": [
       "[1] 0.8999038"
      ]
     },
     "metadata": {},
     "output_type": "display_data"
    },
    {
     "data": {
      "text/html": [
       "0.883464437248692"
      ],
      "text/latex": [
       "0.883464437248692"
      ],
      "text/markdown": [
       "0.883464437248692"
      ],
      "text/plain": [
       "[1] 0.8834644"
      ]
     },
     "metadata": {},
     "output_type": "display_data"
    },
    {
     "data": {
      "text/html": [
       "0.640243026330609"
      ],
      "text/latex": [
       "0.640243026330609"
      ],
      "text/markdown": [
       "0.640243026330609"
      ],
      "text/plain": [
       "[1] 0.640243"
      ]
     },
     "metadata": {},
     "output_type": "display_data"
    },
    {
     "data": {
      "text/html": [
       "0.634698686358468"
      ],
      "text/latex": [
       "0.634698686358468"
      ],
      "text/markdown": [
       "0.634698686358468"
      ],
      "text/plain": [
       "[1] 0.6346987"
      ]
     },
     "metadata": {},
     "output_type": "display_data"
    },
    {
     "data": {
      "text/html": [
       "0.624091196168619"
      ],
      "text/latex": [
       "0.624091196168619"
      ],
      "text/markdown": [
       "0.624091196168619"
      ],
      "text/plain": [
       "[1] 0.6240912"
      ]
     },
     "metadata": {},
     "output_type": "display_data"
    },
    {
     "data": {
      "text/html": [
       "0.620885819434421"
      ],
      "text/latex": [
       "0.620885819434421"
      ],
      "text/markdown": [
       "0.620885819434421"
      ],
      "text/plain": [
       "[1] 0.6208858"
      ]
     },
     "metadata": {},
     "output_type": "display_data"
    },
    {
     "data": {
      "text/html": [
       "0.606173128197594"
      ],
      "text/latex": [
       "0.606173128197594"
      ],
      "text/markdown": [
       "0.606173128197594"
      ],
      "text/plain": [
       "[1] 0.6061731"
      ]
     },
     "metadata": {},
     "output_type": "display_data"
    },
    {
     "data": {
      "text/html": [
       "0.518526488593295"
      ],
      "text/latex": [
       "0.518526488593295"
      ],
      "text/markdown": [
       "0.518526488593295"
      ],
      "text/plain": [
       "[1] 0.5185265"
      ]
     },
     "metadata": {},
     "output_type": "display_data"
    }
   ],
   "source": [
    "# new model old split, time0\n",
    "pred21_rocr = ROCR::prediction(results2$p1, results2$first_label)\n",
    "pred23_rocr = ROCR::prediction(results2$p3, results2$death_3hr_recent_label)\n",
    "pred26_rocr = ROCR::prediction(results2$p6, results2$death_6hr_recent_label)\n",
    "pred29_rocr = ROCR::prediction(results2$p9, results2$death_9hr_recent_label)\n",
    "pred212_rocr = ROCR::prediction(results2$p12, results2$death_12hr_recent_label)\n",
    "pred224_rocr = ROCR::prediction(results2$p24, results2$death_24hr_recent_label)\n",
    "\n",
    "# AUROC\n",
    "ROCR::performance(pred21_rocr, measure = \"auc\", x.measure = \"cutoff\")@y.values[[1]]\n",
    "ROCR::performance(pred23_rocr, measure = \"auc\", x.measure = \"cutoff\")@y.values[[1]]\n",
    "ROCR::performance(pred26_rocr, measure = \"auc\", x.measure = \"cutoff\")@y.values[[1]]\n",
    "ROCR::performance(pred29_rocr, measure = \"auc\", x.measure = \"cutoff\")@y.values[[1]]\n",
    "ROCR::performance(pred212_rocr, measure = \"auc\", x.measure = \"cutoff\")@y.values[[1]]\n",
    "ROCR::performance(pred224_rocr, measure = \"auc\", x.measure = \"cutoff\")@y.values[[1]]\n",
    "\n",
    "\n",
    "# AUPRC\n",
    "ROCR::performance(pred21_rocr, measure = \"aucpr\", x.measure = \"cutoff\")@y.values[[1]]\n",
    "ROCR::performance(pred23_rocr, measure = \"aucpr\", x.measure = \"cutoff\")@y.values[[1]]\n",
    "ROCR::performance(pred26_rocr, measure = \"aucpr\", x.measure = \"cutoff\")@y.values[[1]]\n",
    "ROCR::performance(pred29_rocr, measure = \"aucpr\", x.measure = \"cutoff\")@y.values[[1]]\n",
    "ROCR::performance(pred212_rocr, measure = \"aucpr\", x.measure = \"cutoff\")@y.values[[1]]\n",
    "ROCR::performance(pred224_rocr, measure = \"aucpr\", x.measure = \"cutoff\")@y.values[[1]]"
   ]
  },
  {
   "cell_type": "code",
   "execution_count": 52,
   "metadata": {},
   "outputs": [
    {
     "data": {
      "text/html": [
       "0.92981586392262"
      ],
      "text/latex": [
       "0.92981586392262"
      ],
      "text/markdown": [
       "0.92981586392262"
      ],
      "text/plain": [
       "[1] 0.9298159"
      ]
     },
     "metadata": {},
     "output_type": "display_data"
    },
    {
     "data": {
      "text/html": [
       "0.923015439156834"
      ],
      "text/latex": [
       "0.923015439156834"
      ],
      "text/markdown": [
       "0.923015439156834"
      ],
      "text/plain": [
       "[1] 0.9230154"
      ]
     },
     "metadata": {},
     "output_type": "display_data"
    },
    {
     "data": {
      "text/html": [
       "0.916082017732912"
      ],
      "text/latex": [
       "0.916082017732912"
      ],
      "text/markdown": [
       "0.916082017732912"
      ],
      "text/plain": [
       "[1] 0.916082"
      ]
     },
     "metadata": {},
     "output_type": "display_data"
    },
    {
     "data": {
      "text/html": [
       "0.9117683416256"
      ],
      "text/latex": [
       "0.9117683416256"
      ],
      "text/markdown": [
       "0.9117683416256"
      ],
      "text/plain": [
       "[1] 0.9117683"
      ]
     },
     "metadata": {},
     "output_type": "display_data"
    },
    {
     "data": {
      "text/html": [
       "0.904376945489262"
      ],
      "text/latex": [
       "0.904376945489262"
      ],
      "text/markdown": [
       "0.904376945489262"
      ],
      "text/plain": [
       "[1] 0.9043769"
      ]
     },
     "metadata": {},
     "output_type": "display_data"
    },
    {
     "data": {
      "text/html": [
       "0.894450197015485"
      ],
      "text/latex": [
       "0.894450197015485"
      ],
      "text/markdown": [
       "0.894450197015485"
      ],
      "text/plain": [
       "[1] 0.8944502"
      ]
     },
     "metadata": {},
     "output_type": "display_data"
    },
    {
     "data": {
      "text/html": [
       "0.650070937303327"
      ],
      "text/latex": [
       "0.650070937303327"
      ],
      "text/markdown": [
       "0.650070937303327"
      ],
      "text/plain": [
       "[1] 0.6500709"
      ]
     },
     "metadata": {},
     "output_type": "display_data"
    },
    {
     "data": {
      "text/html": [
       "0.644365856808707"
      ],
      "text/latex": [
       "0.644365856808707"
      ],
      "text/markdown": [
       "0.644365856808707"
      ],
      "text/plain": [
       "[1] 0.6443659"
      ]
     },
     "metadata": {},
     "output_type": "display_data"
    },
    {
     "data": {
      "text/html": [
       "0.632084176244067"
      ],
      "text/latex": [
       "0.632084176244067"
      ],
      "text/markdown": [
       "0.632084176244067"
      ],
      "text/plain": [
       "[1] 0.6320842"
      ]
     },
     "metadata": {},
     "output_type": "display_data"
    },
    {
     "data": {
      "text/html": [
       "0.636058378779568"
      ],
      "text/latex": [
       "0.636058378779568"
      ],
      "text/markdown": [
       "0.636058378779568"
      ],
      "text/plain": [
       "[1] 0.6360584"
      ]
     },
     "metadata": {},
     "output_type": "display_data"
    },
    {
     "data": {
      "text/html": [
       "0.618730142996365"
      ],
      "text/latex": [
       "0.618730142996365"
      ],
      "text/markdown": [
       "0.618730142996365"
      ],
      "text/plain": [
       "[1] 0.6187301"
      ]
     },
     "metadata": {},
     "output_type": "display_data"
    },
    {
     "data": {
      "text/html": [
       "0.531178689062114"
      ],
      "text/latex": [
       "0.531178689062114"
      ],
      "text/markdown": [
       "0.531178689062114"
      ],
      "text/plain": [
       "[1] 0.5311787"
      ]
     },
     "metadata": {},
     "output_type": "display_data"
    }
   ],
   "source": [
    "# new model new split\n",
    "pred1_rocr = ROCR::prediction(results$p1, results$first_label)\n",
    "pred3_rocr = ROCR::prediction(results$p3, results$death_3hr_recent_label)\n",
    "pred6_rocr = ROCR::prediction(results$p6, results$death_6hr_recent_label)\n",
    "pred9_rocr = ROCR::prediction(results$p9, results$death_9hr_recent_label)\n",
    "pred12_rocr = ROCR::prediction(results$p12, results$death_12hr_recent_label)\n",
    "pred24_rocr = ROCR::prediction(results$p24, results$death_24hr_recent_label)\n",
    "\n",
    "# AUROC\n",
    "ROCR::performance(pred1_rocr, measure = \"auc\", x.measure = \"cutoff\")@y.values[[1]]\n",
    "ROCR::performance(pred3_rocr, measure = \"auc\", x.measure = \"cutoff\")@y.values[[1]]\n",
    "ROCR::performance(pred6_rocr, measure = \"auc\", x.measure = \"cutoff\")@y.values[[1]]\n",
    "ROCR::performance(pred9_rocr, measure = \"auc\", x.measure = \"cutoff\")@y.values[[1]]\n",
    "ROCR::performance(pred12_rocr, measure = \"auc\", x.measure = \"cutoff\")@y.values[[1]]\n",
    "ROCR::performance(pred24_rocr, measure = \"auc\", x.measure = \"cutoff\")@y.values[[1]]\n",
    "\n",
    "# AUPRC\n",
    "ROCR::performance(pred1_rocr, measure = \"aucpr\", x.measure = \"cutoff\")@y.values[[1]]\n",
    "ROCR::performance(pred3_rocr, measure = \"aucpr\", x.measure = \"cutoff\")@y.values[[1]]\n",
    "ROCR::performance(pred6_rocr, measure = \"aucpr\", x.measure = \"cutoff\")@y.values[[1]]\n",
    "ROCR::performance(pred9_rocr, measure = \"aucpr\", x.measure = \"cutoff\")@y.values[[1]]\n",
    "ROCR::performance(pred12_rocr, measure = \"aucpr\", x.measure = \"cutoff\")@y.values[[1]]\n",
    "ROCR::performance(pred24_rocr, measure = \"aucpr\", x.measure = \"cutoff\")@y.values[[1]]"
   ]
  },
  {
   "cell_type": "code",
   "execution_count": null,
   "metadata": {},
   "outputs": [],
   "source": []
  },
  {
   "cell_type": "code",
   "execution_count": 6,
   "metadata": {},
   "outputs": [
    {
     "data": {
      "text/html": [
       "<dl>\n",
       "\t<dt>$cvAUC</dt>\n",
       "\t\t<dd>0.907253499579289</dd>\n",
       "\t<dt>$se</dt>\n",
       "\t\t<dd>0.0037962395072997</dd>\n",
       "\t<dt>$ci</dt>\n",
       "\t\t<dd><style>\n",
       ".list-inline {list-style: none; margin:0; padding: 0}\n",
       ".list-inline>li {display: inline-block}\n",
       ".list-inline>li:not(:last-child)::after {content: \"\\00b7\"; padding: 0 .5ex}\n",
       "</style>\n",
       "<ol class=list-inline><li>0.899813006868294</li><li>0.914693992290285</li></ol>\n",
       "</dd>\n",
       "\t<dt>$confidence</dt>\n",
       "\t\t<dd>0.95</dd>\n",
       "</dl>\n"
      ],
      "text/latex": [
       "\\begin{description}\n",
       "\\item[\\$cvAUC] 0.907253499579289\n",
       "\\item[\\$se] 0.0037962395072997\n",
       "\\item[\\$ci] \\begin{enumerate*}\n",
       "\\item 0.899813006868294\n",
       "\\item 0.914693992290285\n",
       "\\end{enumerate*}\n",
       "\n",
       "\\item[\\$confidence] 0.95\n",
       "\\end{description}\n"
      ],
      "text/markdown": [
       "$cvAUC\n",
       ":   0.907253499579289\n",
       "$se\n",
       ":   0.0037962395072997\n",
       "$ci\n",
       ":   1. 0.899813006868294\n",
       "2. 0.914693992290285\n",
       "\n",
       "\n",
       "\n",
       "$confidence\n",
       ":   0.95\n",
       "\n",
       "\n"
      ],
      "text/plain": [
       "$cvAUC\n",
       "[1] 0.9072535\n",
       "\n",
       "$se\n",
       "[1] 0.00379624\n",
       "\n",
       "$ci\n",
       "[1] 0.899813 0.914694\n",
       "\n",
       "$confidence\n",
       "[1] 0.95\n"
      ]
     },
     "metadata": {},
     "output_type": "display_data"
    },
    {
     "data": {
      "text/html": [
       "<dl>\n",
       "\t<dt>$cvAUC</dt>\n",
       "\t\t<dd>0.852746095933298</dd>\n",
       "\t<dt>$se</dt>\n",
       "\t\t<dd>0.00555063678075404</dd>\n",
       "\t<dt>$ci</dt>\n",
       "\t\t<dd><style>\n",
       ".list-inline {list-style: none; margin:0; padding: 0}\n",
       ".list-inline>li {display: inline-block}\n",
       ".list-inline>li:not(:last-child)::after {content: \"\\00b7\"; padding: 0 .5ex}\n",
       "</style>\n",
       "<ol class=list-inline><li>0.841867047751756</li><li>0.863625144114839</li></ol>\n",
       "</dd>\n",
       "\t<dt>$confidence</dt>\n",
       "\t\t<dd>0.95</dd>\n",
       "</dl>\n"
      ],
      "text/latex": [
       "\\begin{description}\n",
       "\\item[\\$cvAUC] 0.852746095933298\n",
       "\\item[\\$se] 0.00555063678075404\n",
       "\\item[\\$ci] \\begin{enumerate*}\n",
       "\\item 0.841867047751756\n",
       "\\item 0.863625144114839\n",
       "\\end{enumerate*}\n",
       "\n",
       "\\item[\\$confidence] 0.95\n",
       "\\end{description}\n"
      ],
      "text/markdown": [
       "$cvAUC\n",
       ":   0.852746095933298\n",
       "$se\n",
       ":   0.00555063678075404\n",
       "$ci\n",
       ":   1. 0.841867047751756\n",
       "2. 0.863625144114839\n",
       "\n",
       "\n",
       "\n",
       "$confidence\n",
       ":   0.95\n",
       "\n",
       "\n"
      ],
      "text/plain": [
       "$cvAUC\n",
       "[1] 0.8527461\n",
       "\n",
       "$se\n",
       "[1] 0.005550637\n",
       "\n",
       "$ci\n",
       "[1] 0.8418670 0.8636251\n",
       "\n",
       "$confidence\n",
       "[1] 0.95\n"
      ]
     },
     "metadata": {},
     "output_type": "display_data"
    }
   ],
   "source": [
    "# confidence interval for AUROC, using cross validation\n",
    "ci.cvAUC(results$pred_first, results$first_label)\n",
    "ci.cvAUC(results$pred_death_24hr_recent, results$death_24hr_recent_label)"
   ]
  },
  {
   "cell_type": "code",
   "execution_count": 7,
   "metadata": {},
   "outputs": [
    {
     "name": "stderr",
     "output_type": "stream",
     "text": [
      "Setting levels: control = 0, case = 1\n",
      "\n",
      "Setting direction: controls < cases\n",
      "\n"
     ]
    },
    {
     "name": "stdout",
     "output_type": "stream",
     "text": [
      "95% CI: 0.8998-0.9147 (DeLong)\n",
      "95% CI: 0.8999-0.9145 (2000 stratified bootstrap replicates)\n"
     ]
    },
    {
     "name": "stderr",
     "output_type": "stream",
     "text": [
      "Setting levels: control = 0, case = 1\n",
      "\n",
      "Setting direction: controls < cases\n",
      "\n"
     ]
    },
    {
     "name": "stdout",
     "output_type": "stream",
     "text": [
      "95% CI: 0.8419-0.8636 (DeLong)\n",
      "95% CI: 0.8422-0.8645 (2000 stratified bootstrap replicates)\n"
     ]
    }
   ],
   "source": [
    "# confidence intervals for AUROC using delong and bootstrap methods\n",
    "proc1 <- pROC::roc(results$first_label, results$pred_first)\n",
    "# print(proc1)\n",
    "print(ci.auc(proc1))\n",
    "print(ci.auc(proc1, method = \"bootstrap\"))\n",
    "\n",
    "proc24 <- pROC::roc(results$death_24hr_recent_label, results$pred_death_24hr_recent)\n",
    "print(ci.auc(proc24))\n",
    "print(ci.auc(proc24, method = \"bootstrap\"))"
   ]
  },
  {
   "cell_type": "code",
   "execution_count": 8,
   "metadata": {},
   "outputs": [],
   "source": [
    "# bootstrapping for AUPRC, first labels\n",
    "prcboot1 <- function(data, indices) {\n",
    "    d <- data[indices, ] # allows boot to select sample\n",
    "    pred_rocr <- ROCR::prediction(d$pred_first, d$first_label)\n",
    "    pr <- ROCR::performance(pred_rocr, measure = \"aucpr\", x.measure = \"cutoff\")@y.values[[1]]\n",
    "    return(pr)\n",
    "}\n",
    "# bootstrapping with 2000 replications\n",
    "results1 <- boot(results, prcboot1, R=2000)\n",
    "# boot.ci(results1, type=\"norm\")"
   ]
  },
  {
   "cell_type": "code",
   "execution_count": 9,
   "metadata": {},
   "outputs": [],
   "source": [
    "# bootstrapping for AUPRC, 24hr labels\n",
    "prcboot24 <- function(data, indices) {\n",
    "    d <- data[indices, ] # allows boot to select sample\n",
    "    pred_rocr <- ROCR::prediction(d$pred_death_24hr_recent, d$death_24hr_recent_label)\n",
    "    pr <- ROCR::performance(pred_rocr, measure = \"aucpr\", x.measure = \"cutoff\")@y.values[[1]]\n",
    "    return(pr)\n",
    "}\n",
    "# bootstrapping with 2000 replications\n",
    "results24 <- boot(data=results, statistic=prcboot24, R=2000)\n",
    "# boot.ci(results24, type=\"norm\")"
   ]
  },
  {
   "cell_type": "code",
   "execution_count": 10,
   "metadata": {},
   "outputs": [
    {
     "data": {
      "text/plain": [
       "BOOTSTRAP CONFIDENCE INTERVAL CALCULATIONS\n",
       "Based on 2000 bootstrap replicates\n",
       "\n",
       "CALL : \n",
       "boot.ci(boot.out = results1, type = c(\"norm\", \"basic\", \"perc\"))\n",
       "\n",
       "Intervals : \n",
       "Level      Normal              Basic              Percentile     \n",
       "95%   ( 0.6224,  0.6726 )   ( 0.6211,  0.6725 )   ( 0.6120,  0.6634 )  \n",
       "Calculations and Intervals on Original Scale"
      ]
     },
     "metadata": {},
     "output_type": "display_data"
    },
    {
     "data": {
      "text/plain": [
       "BOOTSTRAP CONFIDENCE INTERVAL CALCULATIONS\n",
       "Based on 2000 bootstrap replicates\n",
       "\n",
       "CALL : \n",
       "boot.ci(boot.out = results24, type = c(\"norm\", \"basic\", \"perc\"))\n",
       "\n",
       "Intervals : \n",
       "Level      Normal              Basic              Percentile     \n",
       "95%   ( 0.4702,  0.5277 )   ( 0.4707,  0.5285 )   ( 0.4537,  0.5115 )  \n",
       "Calculations and Intervals on Original Scale"
      ]
     },
     "metadata": {},
     "output_type": "display_data"
    }
   ],
   "source": [
    "# confidence intervals for AUPRC bootstrapping with different types, \"bca\" didn't work\n",
    "boot.ci(boot.out = results1, type = c(\"norm\", \"basic\", \"perc\"))\n",
    "boot.ci(boot.out = results24, type = c(\"norm\", \"basic\", \"perc\"))"
   ]
  },
  {
   "cell_type": "markdown",
   "metadata": {},
   "source": [
    "### Calibration plots"
   ]
  },
  {
   "cell_type": "code",
   "execution_count": 8,
   "metadata": {},
   "outputs": [
    {
     "data": {
      "text/html": [
       "<style>\n",
       ".list-inline {list-style: none; margin:0; padding: 0}\n",
       ".list-inline>li {display: inline-block}\n",
       ".list-inline>li:not(:last-child)::after {content: \"\\00b7\"; padding: 0 .5ex}\n",
       "</style>\n",
       "<ol class=list-inline><li>'anon_id'</li><li>'pat_enc_csn_id_coded'</li><li>'inpatient_data_id_coded'</li><li>'admit_time'</li><li>'label_max24'</li><li>'label_24hr_recent'</li><li>'admit_label'</li><li>'has_admit_label'</li><li>'died_within_24hrs'</li><li>'death_24hr_max_label'</li><li>'death_24hr_recent_label'</li><li>'first_label'</li><li>'first_label_minutes_since_admit'</li><li>'acute_to_critical_label_recent'</li><li>'critical_to_acute_label_recent'</li><li>'acute_to_critical_label_max'</li><li>'critical_to_acute_label_max'</li><li>'adm_year'</li><li>'transfer'</li><li>'pred_death_24hr_max'</li><li>'pred_death_24hr_recent'</li><li>'pred_first'</li><li>'diff0_24'</li><li>'abs_diff0_24'</li><li>'diff0_True'</li><li>'diff24_True'</li></ol>\n"
      ],
      "text/latex": [
       "\\begin{enumerate*}\n",
       "\\item 'anon\\_id'\n",
       "\\item 'pat\\_enc\\_csn\\_id\\_coded'\n",
       "\\item 'inpatient\\_data\\_id\\_coded'\n",
       "\\item 'admit\\_time'\n",
       "\\item 'label\\_max24'\n",
       "\\item 'label\\_24hr\\_recent'\n",
       "\\item 'admit\\_label'\n",
       "\\item 'has\\_admit\\_label'\n",
       "\\item 'died\\_within\\_24hrs'\n",
       "\\item 'death\\_24hr\\_max\\_label'\n",
       "\\item 'death\\_24hr\\_recent\\_label'\n",
       "\\item 'first\\_label'\n",
       "\\item 'first\\_label\\_minutes\\_since\\_admit'\n",
       "\\item 'acute\\_to\\_critical\\_label\\_recent'\n",
       "\\item 'critical\\_to\\_acute\\_label\\_recent'\n",
       "\\item 'acute\\_to\\_critical\\_label\\_max'\n",
       "\\item 'critical\\_to\\_acute\\_label\\_max'\n",
       "\\item 'adm\\_year'\n",
       "\\item 'transfer'\n",
       "\\item 'pred\\_death\\_24hr\\_max'\n",
       "\\item 'pred\\_death\\_24hr\\_recent'\n",
       "\\item 'pred\\_first'\n",
       "\\item 'diff0\\_24'\n",
       "\\item 'abs\\_diff0\\_24'\n",
       "\\item 'diff0\\_True'\n",
       "\\item 'diff24\\_True'\n",
       "\\end{enumerate*}\n"
      ],
      "text/markdown": [
       "1. 'anon_id'\n",
       "2. 'pat_enc_csn_id_coded'\n",
       "3. 'inpatient_data_id_coded'\n",
       "4. 'admit_time'\n",
       "5. 'label_max24'\n",
       "6. 'label_24hr_recent'\n",
       "7. 'admit_label'\n",
       "8. 'has_admit_label'\n",
       "9. 'died_within_24hrs'\n",
       "10. 'death_24hr_max_label'\n",
       "11. 'death_24hr_recent_label'\n",
       "12. 'first_label'\n",
       "13. 'first_label_minutes_since_admit'\n",
       "14. 'acute_to_critical_label_recent'\n",
       "15. 'critical_to_acute_label_recent'\n",
       "16. 'acute_to_critical_label_max'\n",
       "17. 'critical_to_acute_label_max'\n",
       "18. 'adm_year'\n",
       "19. 'transfer'\n",
       "20. 'pred_death_24hr_max'\n",
       "21. 'pred_death_24hr_recent'\n",
       "22. 'pred_first'\n",
       "23. 'diff0_24'\n",
       "24. 'abs_diff0_24'\n",
       "25. 'diff0_True'\n",
       "26. 'diff24_True'\n",
       "\n",
       "\n"
      ],
      "text/plain": [
       " [1] \"anon_id\"                         \"pat_enc_csn_id_coded\"           \n",
       " [3] \"inpatient_data_id_coded\"         \"admit_time\"                     \n",
       " [5] \"label_max24\"                     \"label_24hr_recent\"              \n",
       " [7] \"admit_label\"                     \"has_admit_label\"                \n",
       " [9] \"died_within_24hrs\"               \"death_24hr_max_label\"           \n",
       "[11] \"death_24hr_recent_label\"         \"first_label\"                    \n",
       "[13] \"first_label_minutes_since_admit\" \"acute_to_critical_label_recent\" \n",
       "[15] \"critical_to_acute_label_recent\"  \"acute_to_critical_label_max\"    \n",
       "[17] \"critical_to_acute_label_max\"     \"adm_year\"                       \n",
       "[19] \"transfer\"                        \"pred_death_24hr_max\"            \n",
       "[21] \"pred_death_24hr_recent\"          \"pred_first\"                     \n",
       "[23] \"diff0_24\"                        \"abs_diff0_24\"                   \n",
       "[25] \"diff0_True\"                      \"diff24_True\"                    "
      ]
     },
     "metadata": {},
     "output_type": "display_data"
    }
   ],
   "source": [
    "colnames(results)"
   ]
  },
  {
   "cell_type": "code",
   "execution_count": 9,
   "metadata": {},
   "outputs": [
    {
     "data": {
      "text/html": [
       "<table>\n",
       "<caption>A data.frame: 6 × 2</caption>\n",
       "<thead>\n",
       "\t<tr><th></th><th scope=col>death_24hr_recent_label</th><th scope=col>pred_death_24hr_recent</th></tr>\n",
       "\t<tr><th></th><th scope=col>&lt;int&gt;</th><th scope=col>&lt;dbl&gt;</th></tr>\n",
       "</thead>\n",
       "<tbody>\n",
       "\t<tr><th scope=row>1</th><td>0</td><td>0.2091965</td></tr>\n",
       "\t<tr><th scope=row>2</th><td>1</td><td>0.8461691</td></tr>\n",
       "\t<tr><th scope=row>3</th><td>1</td><td>0.7147856</td></tr>\n",
       "\t<tr><th scope=row>4</th><td>1</td><td>0.4850516</td></tr>\n",
       "\t<tr><th scope=row>5</th><td>0</td><td>0.3480069</td></tr>\n",
       "\t<tr><th scope=row>6</th><td>1</td><td>0.7169072</td></tr>\n",
       "</tbody>\n",
       "</table>\n"
      ],
      "text/latex": [
       "A data.frame: 6 × 2\n",
       "\\begin{tabular}{r|ll}\n",
       "  & death\\_24hr\\_recent\\_label & pred\\_death\\_24hr\\_recent\\\\\n",
       "  & <int> & <dbl>\\\\\n",
       "\\hline\n",
       "\t1 & 0 & 0.2091965\\\\\n",
       "\t2 & 1 & 0.8461691\\\\\n",
       "\t3 & 1 & 0.7147856\\\\\n",
       "\t4 & 1 & 0.4850516\\\\\n",
       "\t5 & 0 & 0.3480069\\\\\n",
       "\t6 & 1 & 0.7169072\\\\\n",
       "\\end{tabular}\n"
      ],
      "text/markdown": [
       "\n",
       "A data.frame: 6 × 2\n",
       "\n",
       "| <!--/--> | death_24hr_recent_label &lt;int&gt; | pred_death_24hr_recent &lt;dbl&gt; |\n",
       "|---|---|---|\n",
       "| 1 | 0 | 0.2091965 |\n",
       "| 2 | 1 | 0.8461691 |\n",
       "| 3 | 1 | 0.7147856 |\n",
       "| 4 | 1 | 0.4850516 |\n",
       "| 5 | 0 | 0.3480069 |\n",
       "| 6 | 1 | 0.7169072 |\n",
       "\n"
      ],
      "text/plain": [
       "  death_24hr_recent_label pred_death_24hr_recent\n",
       "1 0                       0.2091965             \n",
       "2 1                       0.8461691             \n",
       "3 1                       0.7147856             \n",
       "4 1                       0.4850516             \n",
       "5 0                       0.3480069             \n",
       "6 1                       0.7169072             "
      ]
     },
     "metadata": {},
     "output_type": "display_data"
    },
    {
     "data": {
      "text/plain": [
       "\n",
       "Call:\n",
       "calibration.formula(x = as.factor(death_24hr_recent_label)\n",
       " ~ pred_death_24hr_recent, data = results, class = \"1\")\n",
       "\n",
       "Models: pred_death_24hr_recent \n",
       "Event:  1 \n",
       "Cuts: 11 "
      ]
     },
     "metadata": {},
     "output_type": "display_data"
    },
    {
     "data": {
      "image/png": "[encoded data removed]",
      "text/plain": [
       "plot without title"
      ]
     },
     "metadata": {
      "image/png": {
       "height": 420,
       "width": 420
      }
     },
     "output_type": "display_data"
    },
    {
     "data": {
      "image/png": "[encoded data removed]",
      "text/plain": [
       "plot without title"
      ]
     },
     "metadata": {
      "image/png": {
       "height": 420,
       "width": 420
      }
     },
     "output_type": "display_data"
    },
    {
     "data": {
      "image/png": "[encoded data removed]",
      "text/plain": [
       "plot without title"
      ]
     },
     "metadata": {
      "image/png": {
       "height": 420,
       "width": 420
      }
     },
     "output_type": "display_data"
    }
   ],
   "source": [
    "head(results[, c(\"death_24hr_recent_label\", \"pred_death_24hr_recent\")])\n",
    "\n",
    "softmaxHist <- ggplot(results, aes(x = pred_death_24hr_recent))\n",
    "softmaxHist <- softmaxHist + geom_histogram(binwidth = 0.02)\n",
    "softmaxHist + facet_grid(death_24hr_recent_label ~ .) + xlab(\"pred_death_24hr_recent\")\n",
    "\n",
    "calPlotData <- calibration(as.factor(death_24hr_recent_label) ~ pred_death_24hr_recent, class = '1', data = results)\n",
    "calPlotData\n",
    "\n",
    "xyplot(calPlotData)\n",
    "plot(calPlotData, type = \"l\")"
   ]
  },
  {
   "cell_type": "code",
   "execution_count": 10,
   "metadata": {},
   "outputs": [
    {
     "data": {
      "image/png": "[encoded data removed]",
      "text/plain": [
       "Plot with title \"Calibration Plot for Binary Classification\""
      ]
     },
     "metadata": {
      "image/png": {
       "height": 420,
       "width": 420
      }
     },
     "output_type": "display_data"
    }
   ],
   "source": [
    "calibrate.plot(results$death_24hr_recent_label, results$pred_death_24hr_recent, \n",
    "               main=\"Calibration Plot for Binary Classification\")"
   ]
  },
  {
   "cell_type": "code",
   "execution_count": 11,
   "metadata": {},
   "outputs": [
    {
     "data": {
      "text/html": [
       "<table>\n",
       "<caption>A data.frame: 11 × 9</caption>\n",
       "<thead>\n",
       "\t<tr><th scope=col>calibModelVar</th><th scope=col>bin</th><th scope=col>Percent</th><th scope=col>Lower</th><th scope=col>Upper</th><th scope=col>Count</th><th scope=col>midpoint</th><th scope=col>Observed Average</th><th scope=col>Predicted Value</th></tr>\n",
       "\t<tr><th scope=col>&lt;chr&gt;</th><th scope=col>&lt;fct&gt;</th><th scope=col>&lt;dbl&gt;</th><th scope=col>&lt;dbl&gt;</th><th scope=col>&lt;dbl&gt;</th><th scope=col>&lt;dbl&gt;</th><th scope=col>&lt;dbl&gt;</th><th scope=col>&lt;dbl&gt;</th><th scope=col>&lt;dbl&gt;</th></tr>\n",
       "</thead>\n",
       "<tbody>\n",
       "\t<tr><td>pred_death_24hr_recent</td><td>[0,0.0909]    </td><td>  3.398707</td><td> 3.033441</td><td>  3.794617</td><td>305</td><td> 4.545455</td><td>0.03398707</td><td>0.04545455</td></tr>\n",
       "\t<tr><td>pred_death_24hr_recent</td><td>(0.0909,0.182]</td><td> 14.974293</td><td>13.236596</td><td> 16.845270</td><td>233</td><td>13.636364</td><td>0.14974293</td><td>0.13636364</td></tr>\n",
       "\t<tr><td>pred_death_24hr_recent</td><td>(0.182,0.273] </td><td> 22.482759</td><td>19.492044</td><td> 25.699258</td><td>163</td><td>22.727273</td><td>0.22482759</td><td>0.22727273</td></tr>\n",
       "\t<tr><td>pred_death_24hr_recent</td><td>(0.273,0.364] </td><td> 33.846154</td><td>29.160017</td><td> 38.779681</td><td>132</td><td>31.818182</td><td>0.33846154</td><td>0.31818182</td></tr>\n",
       "\t<tr><td>pred_death_24hr_recent</td><td>(0.364,0.455] </td><td> 48.221344</td><td>41.919190</td><td> 54.565651</td><td>122</td><td>40.909091</td><td>0.48221344</td><td>0.40909091</td></tr>\n",
       "\t<tr><td>pred_death_24hr_recent</td><td>(0.455,0.545] </td><td> 46.783626</td><td>39.126832</td><td> 54.553843</td><td> 80</td><td>50.000000</td><td>0.46783626</td><td>0.50000000</td></tr>\n",
       "\t<tr><td>pred_death_24hr_recent</td><td>(0.545,0.636] </td><td> 64.444444</td><td>55.751245</td><td> 72.488728</td><td> 87</td><td>59.090909</td><td>0.64444444</td><td>0.59090909</td></tr>\n",
       "\t<tr><td>pred_death_24hr_recent</td><td>(0.636,0.727] </td><td> 69.892473</td><td>59.502334</td><td> 78.974065</td><td> 65</td><td>68.181818</td><td>0.69892473</td><td>0.68181818</td></tr>\n",
       "\t<tr><td>pred_death_24hr_recent</td><td>(0.727,0.818] </td><td> 84.615385</td><td>74.667867</td><td> 91.789816</td><td> 66</td><td>77.272727</td><td>0.84615385</td><td>0.77272727</td></tr>\n",
       "\t<tr><td>pred_death_24hr_recent</td><td>(0.818,0.909] </td><td> 87.179487</td><td>72.570059</td><td> 95.703166</td><td> 34</td><td>86.363636</td><td>0.87179487</td><td>0.86363636</td></tr>\n",
       "\t<tr><td>pred_death_24hr_recent</td><td>(0.909,1]     </td><td>100.000000</td><td>39.763536</td><td>100.000000</td><td>  4</td><td>95.454545</td><td>1.00000000</td><td>0.95454545</td></tr>\n",
       "</tbody>\n",
       "</table>\n"
      ],
      "text/latex": [
       "A data.frame: 11 × 9\n",
       "\\begin{tabular}{lllllllll}\n",
       " calibModelVar & bin & Percent & Lower & Upper & Count & midpoint & Observed Average & Predicted Value\\\\\n",
       " <chr> & <fct> & <dbl> & <dbl> & <dbl> & <dbl> & <dbl> & <dbl> & <dbl>\\\\\n",
       "\\hline\n",
       "\t pred\\_death\\_24hr\\_recent & {[}0,0.0909{]}     &   3.398707 &  3.033441 &   3.794617 & 305 &  4.545455 & 0.03398707 & 0.04545455\\\\\n",
       "\t pred\\_death\\_24hr\\_recent & (0.0909,0.182{]} &  14.974293 & 13.236596 &  16.845270 & 233 & 13.636364 & 0.14974293 & 0.13636364\\\\\n",
       "\t pred\\_death\\_24hr\\_recent & (0.182,0.273{]}  &  22.482759 & 19.492044 &  25.699258 & 163 & 22.727273 & 0.22482759 & 0.22727273\\\\\n",
       "\t pred\\_death\\_24hr\\_recent & (0.273,0.364{]}  &  33.846154 & 29.160017 &  38.779681 & 132 & 31.818182 & 0.33846154 & 0.31818182\\\\\n",
       "\t pred\\_death\\_24hr\\_recent & (0.364,0.455{]}  &  48.221344 & 41.919190 &  54.565651 & 122 & 40.909091 & 0.48221344 & 0.40909091\\\\\n",
       "\t pred\\_death\\_24hr\\_recent & (0.455,0.545{]}  &  46.783626 & 39.126832 &  54.553843 &  80 & 50.000000 & 0.46783626 & 0.50000000\\\\\n",
       "\t pred\\_death\\_24hr\\_recent & (0.545,0.636{]}  &  64.444444 & 55.751245 &  72.488728 &  87 & 59.090909 & 0.64444444 & 0.59090909\\\\\n",
       "\t pred\\_death\\_24hr\\_recent & (0.636,0.727{]}  &  69.892473 & 59.502334 &  78.974065 &  65 & 68.181818 & 0.69892473 & 0.68181818\\\\\n",
       "\t pred\\_death\\_24hr\\_recent & (0.727,0.818{]}  &  84.615385 & 74.667867 &  91.789816 &  66 & 77.272727 & 0.84615385 & 0.77272727\\\\\n",
       "\t pred\\_death\\_24hr\\_recent & (0.818,0.909{]}  &  87.179487 & 72.570059 &  95.703166 &  34 & 86.363636 & 0.87179487 & 0.86363636\\\\\n",
       "\t pred\\_death\\_24hr\\_recent & (0.909,1{]}      & 100.000000 & 39.763536 & 100.000000 &   4 & 95.454545 & 1.00000000 & 0.95454545\\\\\n",
       "\\end{tabular}\n"
      ],
      "text/markdown": [
       "\n",
       "A data.frame: 11 × 9\n",
       "\n",
       "| calibModelVar &lt;chr&gt; | bin &lt;fct&gt; | Percent &lt;dbl&gt; | Lower &lt;dbl&gt; | Upper &lt;dbl&gt; | Count &lt;dbl&gt; | midpoint &lt;dbl&gt; | Observed Average &lt;dbl&gt; | Predicted Value &lt;dbl&gt; |\n",
       "|---|---|---|---|---|---|---|---|---|\n",
       "| pred_death_24hr_recent | [0,0.0909]     |   3.398707 |  3.033441 |   3.794617 | 305 |  4.545455 | 0.03398707 | 0.04545455 |\n",
       "| pred_death_24hr_recent | (0.0909,0.182] |  14.974293 | 13.236596 |  16.845270 | 233 | 13.636364 | 0.14974293 | 0.13636364 |\n",
       "| pred_death_24hr_recent | (0.182,0.273]  |  22.482759 | 19.492044 |  25.699258 | 163 | 22.727273 | 0.22482759 | 0.22727273 |\n",
       "| pred_death_24hr_recent | (0.273,0.364]  |  33.846154 | 29.160017 |  38.779681 | 132 | 31.818182 | 0.33846154 | 0.31818182 |\n",
       "| pred_death_24hr_recent | (0.364,0.455]  |  48.221344 | 41.919190 |  54.565651 | 122 | 40.909091 | 0.48221344 | 0.40909091 |\n",
       "| pred_death_24hr_recent | (0.455,0.545]  |  46.783626 | 39.126832 |  54.553843 |  80 | 50.000000 | 0.46783626 | 0.50000000 |\n",
       "| pred_death_24hr_recent | (0.545,0.636]  |  64.444444 | 55.751245 |  72.488728 |  87 | 59.090909 | 0.64444444 | 0.59090909 |\n",
       "| pred_death_24hr_recent | (0.636,0.727]  |  69.892473 | 59.502334 |  78.974065 |  65 | 68.181818 | 0.69892473 | 0.68181818 |\n",
       "| pred_death_24hr_recent | (0.727,0.818]  |  84.615385 | 74.667867 |  91.789816 |  66 | 77.272727 | 0.84615385 | 0.77272727 |\n",
       "| pred_death_24hr_recent | (0.818,0.909]  |  87.179487 | 72.570059 |  95.703166 |  34 | 86.363636 | 0.87179487 | 0.86363636 |\n",
       "| pred_death_24hr_recent | (0.909,1]      | 100.000000 | 39.763536 | 100.000000 |   4 | 95.454545 | 1.00000000 | 0.95454545 |\n",
       "\n"
      ],
      "text/plain": [
       "   calibModelVar          bin            Percent    Lower     Upper      Count\n",
       "1  pred_death_24hr_recent [0,0.0909]       3.398707  3.033441   3.794617 305  \n",
       "2  pred_death_24hr_recent (0.0909,0.182]  14.974293 13.236596  16.845270 233  \n",
       "3  pred_death_24hr_recent (0.182,0.273]   22.482759 19.492044  25.699258 163  \n",
       "4  pred_death_24hr_recent (0.273,0.364]   33.846154 29.160017  38.779681 132  \n",
       "5  pred_death_24hr_recent (0.364,0.455]   48.221344 41.919190  54.565651 122  \n",
       "6  pred_death_24hr_recent (0.455,0.545]   46.783626 39.126832  54.553843  80  \n",
       "7  pred_death_24hr_recent (0.545,0.636]   64.444444 55.751245  72.488728  87  \n",
       "8  pred_death_24hr_recent (0.636,0.727]   69.892473 59.502334  78.974065  65  \n",
       "9  pred_death_24hr_recent (0.727,0.818]   84.615385 74.667867  91.789816  66  \n",
       "10 pred_death_24hr_recent (0.818,0.909]   87.179487 72.570059  95.703166  34  \n",
       "11 pred_death_24hr_recent (0.909,1]      100.000000 39.763536 100.000000   4  \n",
       "   midpoint  Observed Average Predicted Value\n",
       "1   4.545455 0.03398707       0.04545455     \n",
       "2  13.636364 0.14974293       0.13636364     \n",
       "3  22.727273 0.22482759       0.22727273     \n",
       "4  31.818182 0.33846154       0.31818182     \n",
       "5  40.909091 0.48221344       0.40909091     \n",
       "6  50.000000 0.46783626       0.50000000     \n",
       "7  59.090909 0.64444444       0.59090909     \n",
       "8  68.181818 0.69892473       0.68181818     \n",
       "9  77.272727 0.84615385       0.77272727     \n",
       "10 86.363636 0.87179487       0.86363636     \n",
       "11 95.454545 1.00000000       0.95454545     "
      ]
     },
     "metadata": {},
     "output_type": "display_data"
    }
   ],
   "source": [
    "cal_plot_data24 = calibration(factor(death_24hr_recent_label) ~ pred_death_24hr_recent, \n",
    "  data = results, class = 1)$data\n",
    "cal_plot_data24 <- cal_plot_data24 %>% mutate(\"Observed Average\" = Percent/100, \"Predicted Value\" = midpoint/100)\n",
    "cal_plot_data24"
   ]
  },
  {
   "cell_type": "code",
   "execution_count": 12,
   "metadata": {},
   "outputs": [
    {
     "data": {
      "text/html": [
       "<table>\n",
       "<caption>A data.frame: 11 × 9</caption>\n",
       "<thead>\n",
       "\t<tr><th scope=col>calibModelVar</th><th scope=col>bin</th><th scope=col>Percent</th><th scope=col>Lower</th><th scope=col>Upper</th><th scope=col>Count</th><th scope=col>midpoint</th><th scope=col>Observed Average</th><th scope=col>Predicted Value</th></tr>\n",
       "\t<tr><th scope=col>&lt;chr&gt;</th><th scope=col>&lt;fct&gt;</th><th scope=col>&lt;dbl&gt;</th><th scope=col>&lt;dbl&gt;</th><th scope=col>&lt;dbl&gt;</th><th scope=col>&lt;dbl&gt;</th><th scope=col>&lt;dbl&gt;</th><th scope=col>&lt;dbl&gt;</th><th scope=col>&lt;dbl&gt;</th></tr>\n",
       "</thead>\n",
       "<tbody>\n",
       "\t<tr><td>pred_first</td><td>[0,0.0909]    </td><td> 2.260669</td><td> 1.958136</td><td> 2.595842</td><td>196</td><td> 4.545455</td><td>0.02260669</td><td>0.04545455</td></tr>\n",
       "\t<tr><td>pred_first</td><td>(0.0909,0.182]</td><td>14.956405</td><td>13.182987</td><td>16.869050</td><td>223</td><td>13.636364</td><td>0.14956405</td><td>0.13636364</td></tr>\n",
       "\t<tr><td>pred_first</td><td>(0.182,0.273] </td><td>28.378378</td><td>24.981587</td><td>31.968076</td><td>189</td><td>22.727273</td><td>0.28378378</td><td>0.22727273</td></tr>\n",
       "\t<tr><td>pred_first</td><td>(0.273,0.364] </td><td>37.468983</td><td>32.726367</td><td>42.397098</td><td>151</td><td>31.818182</td><td>0.37468983</td><td>0.31818182</td></tr>\n",
       "\t<tr><td>pred_first</td><td>(0.364,0.455] </td><td>44.295302</td><td>38.569287</td><td>50.135869</td><td>132</td><td>40.909091</td><td>0.44295302</td><td>0.40909091</td></tr>\n",
       "\t<tr><td>pred_first</td><td>(0.455,0.545] </td><td>58.108108</td><td>51.320645</td><td>64.676063</td><td>129</td><td>50.000000</td><td>0.58108108</td><td>0.50000000</td></tr>\n",
       "\t<tr><td>pred_first</td><td>(0.545,0.636] </td><td>66.834171</td><td>59.826990</td><td>73.331045</td><td>133</td><td>59.090909</td><td>0.66834171</td><td>0.59090909</td></tr>\n",
       "\t<tr><td>pred_first</td><td>(0.636,0.727] </td><td>69.325153</td><td>61.632814</td><td>76.299261</td><td>113</td><td>68.181818</td><td>0.69325153</td><td>0.68181818</td></tr>\n",
       "\t<tr><td>pred_first</td><td>(0.727,0.818] </td><td>85.106383</td><td>78.138886</td><td>90.537982</td><td>120</td><td>77.272727</td><td>0.85106383</td><td>0.77272727</td></tr>\n",
       "\t<tr><td>pred_first</td><td>(0.818,0.909] </td><td>90.756303</td><td>84.062295</td><td>95.294783</td><td>108</td><td>86.363636</td><td>0.90756303</td><td>0.86363636</td></tr>\n",
       "\t<tr><td>pred_first</td><td>(0.909,1]     </td><td>95.652174</td><td>85.161322</td><td>99.469052</td><td> 44</td><td>95.454545</td><td>0.95652174</td><td>0.95454545</td></tr>\n",
       "</tbody>\n",
       "</table>\n"
      ],
      "text/latex": [
       "A data.frame: 11 × 9\n",
       "\\begin{tabular}{lllllllll}\n",
       " calibModelVar & bin & Percent & Lower & Upper & Count & midpoint & Observed Average & Predicted Value\\\\\n",
       " <chr> & <fct> & <dbl> & <dbl> & <dbl> & <dbl> & <dbl> & <dbl> & <dbl>\\\\\n",
       "\\hline\n",
       "\t pred\\_first & {[}0,0.0909{]}     &  2.260669 &  1.958136 &  2.595842 & 196 &  4.545455 & 0.02260669 & 0.04545455\\\\\n",
       "\t pred\\_first & (0.0909,0.182{]} & 14.956405 & 13.182987 & 16.869050 & 223 & 13.636364 & 0.14956405 & 0.13636364\\\\\n",
       "\t pred\\_first & (0.182,0.273{]}  & 28.378378 & 24.981587 & 31.968076 & 189 & 22.727273 & 0.28378378 & 0.22727273\\\\\n",
       "\t pred\\_first & (0.273,0.364{]}  & 37.468983 & 32.726367 & 42.397098 & 151 & 31.818182 & 0.37468983 & 0.31818182\\\\\n",
       "\t pred\\_first & (0.364,0.455{]}  & 44.295302 & 38.569287 & 50.135869 & 132 & 40.909091 & 0.44295302 & 0.40909091\\\\\n",
       "\t pred\\_first & (0.455,0.545{]}  & 58.108108 & 51.320645 & 64.676063 & 129 & 50.000000 & 0.58108108 & 0.50000000\\\\\n",
       "\t pred\\_first & (0.545,0.636{]}  & 66.834171 & 59.826990 & 73.331045 & 133 & 59.090909 & 0.66834171 & 0.59090909\\\\\n",
       "\t pred\\_first & (0.636,0.727{]}  & 69.325153 & 61.632814 & 76.299261 & 113 & 68.181818 & 0.69325153 & 0.68181818\\\\\n",
       "\t pred\\_first & (0.727,0.818{]}  & 85.106383 & 78.138886 & 90.537982 & 120 & 77.272727 & 0.85106383 & 0.77272727\\\\\n",
       "\t pred\\_first & (0.818,0.909{]}  & 90.756303 & 84.062295 & 95.294783 & 108 & 86.363636 & 0.90756303 & 0.86363636\\\\\n",
       "\t pred\\_first & (0.909,1{]}      & 95.652174 & 85.161322 & 99.469052 &  44 & 95.454545 & 0.95652174 & 0.95454545\\\\\n",
       "\\end{tabular}\n"
      ],
      "text/markdown": [
       "\n",
       "A data.frame: 11 × 9\n",
       "\n",
       "| calibModelVar &lt;chr&gt; | bin &lt;fct&gt; | Percent &lt;dbl&gt; | Lower &lt;dbl&gt; | Upper &lt;dbl&gt; | Count &lt;dbl&gt; | midpoint &lt;dbl&gt; | Observed Average &lt;dbl&gt; | Predicted Value &lt;dbl&gt; |\n",
       "|---|---|---|---|---|---|---|---|---|\n",
       "| pred_first | [0,0.0909]     |  2.260669 |  1.958136 |  2.595842 | 196 |  4.545455 | 0.02260669 | 0.04545455 |\n",
       "| pred_first | (0.0909,0.182] | 14.956405 | 13.182987 | 16.869050 | 223 | 13.636364 | 0.14956405 | 0.13636364 |\n",
       "| pred_first | (0.182,0.273]  | 28.378378 | 24.981587 | 31.968076 | 189 | 22.727273 | 0.28378378 | 0.22727273 |\n",
       "| pred_first | (0.273,0.364]  | 37.468983 | 32.726367 | 42.397098 | 151 | 31.818182 | 0.37468983 | 0.31818182 |\n",
       "| pred_first | (0.364,0.455]  | 44.295302 | 38.569287 | 50.135869 | 132 | 40.909091 | 0.44295302 | 0.40909091 |\n",
       "| pred_first | (0.455,0.545]  | 58.108108 | 51.320645 | 64.676063 | 129 | 50.000000 | 0.58108108 | 0.50000000 |\n",
       "| pred_first | (0.545,0.636]  | 66.834171 | 59.826990 | 73.331045 | 133 | 59.090909 | 0.66834171 | 0.59090909 |\n",
       "| pred_first | (0.636,0.727]  | 69.325153 | 61.632814 | 76.299261 | 113 | 68.181818 | 0.69325153 | 0.68181818 |\n",
       "| pred_first | (0.727,0.818]  | 85.106383 | 78.138886 | 90.537982 | 120 | 77.272727 | 0.85106383 | 0.77272727 |\n",
       "| pred_first | (0.818,0.909]  | 90.756303 | 84.062295 | 95.294783 | 108 | 86.363636 | 0.90756303 | 0.86363636 |\n",
       "| pred_first | (0.909,1]      | 95.652174 | 85.161322 | 99.469052 |  44 | 95.454545 | 0.95652174 | 0.95454545 |\n",
       "\n"
      ],
      "text/plain": [
       "   calibModelVar bin            Percent   Lower     Upper     Count midpoint \n",
       "1  pred_first    [0,0.0909]      2.260669  1.958136  2.595842 196    4.545455\n",
       "2  pred_first    (0.0909,0.182] 14.956405 13.182987 16.869050 223   13.636364\n",
       "3  pred_first    (0.182,0.273]  28.378378 24.981587 31.968076 189   22.727273\n",
       "4  pred_first    (0.273,0.364]  37.468983 32.726367 42.397098 151   31.818182\n",
       "5  pred_first    (0.364,0.455]  44.295302 38.569287 50.135869 132   40.909091\n",
       "6  pred_first    (0.455,0.545]  58.108108 51.320645 64.676063 129   50.000000\n",
       "7  pred_first    (0.545,0.636]  66.834171 59.826990 73.331045 133   59.090909\n",
       "8  pred_first    (0.636,0.727]  69.325153 61.632814 76.299261 113   68.181818\n",
       "9  pred_first    (0.727,0.818]  85.106383 78.138886 90.537982 120   77.272727\n",
       "10 pred_first    (0.818,0.909]  90.756303 84.062295 95.294783 108   86.363636\n",
       "11 pred_first    (0.909,1]      95.652174 85.161322 99.469052  44   95.454545\n",
       "   Observed Average Predicted Value\n",
       "1  0.02260669       0.04545455     \n",
       "2  0.14956405       0.13636364     \n",
       "3  0.28378378       0.22727273     \n",
       "4  0.37468983       0.31818182     \n",
       "5  0.44295302       0.40909091     \n",
       "6  0.58108108       0.50000000     \n",
       "7  0.66834171       0.59090909     \n",
       "8  0.69325153       0.68181818     \n",
       "9  0.85106383       0.77272727     \n",
       "10 0.90756303       0.86363636     \n",
       "11 0.95652174       0.95454545     "
      ]
     },
     "metadata": {},
     "output_type": "display_data"
    }
   ],
   "source": [
    "cal_plot_data1 = calibration(factor(first_label) ~ pred_first, \n",
    "                             data = results, class = 1)$data\n",
    "cal_plot_data1 <- cal_plot_data1 %>% mutate(\"Observed Average\" = Percent/100, \"Predicted Value\" = midpoint/100)\n",
    "cal_plot_data1"
   ]
  },
  {
   "cell_type": "code",
   "execution_count": 20,
   "metadata": {},
   "outputs": [
    {
     "data": {
      "image/png": "[encoded data removed]",
      "text/plain": [
       "plot without title"
      ]
     },
     "metadata": {
      "image/png": {
       "height": 420,
       "width": 420
      }
     },
     "output_type": "display_data"
    }
   ],
   "source": [
    "# plot\n",
    "options(repr.plot.width=7, repr.plot.height=7)\n",
    "\n",
    "c1 <- ggplot() + xlab(\"Bin Midpoint\") +\n",
    "          geom_line(data = cal_plot_data1, aes(midpoint, Percent),\n",
    "                    color = \"#F8766D\") +\n",
    "          geom_point(data = cal_plot_data1, aes(midpoint, Percent),\n",
    "                    color = \"#F8766D\", size = 3) +\n",
    "          geom_line(aes(c(0, 100), c(0, 100)), linetype = 2, \n",
    "                    color = 'grey50') +\n",
    "          labs(x=\"Bin Midpoint based on Predicted Probability\", y=\"Observed Percentage\", \n",
    "              title = \"A: Outcome at t0\")\n",
    "\n",
    "p1 <- c1 + theme(axis.text=element_text(size=14),\n",
    "                 plot.title = element_text(size=16),\n",
    "                 axis.title=element_text(size=16), legend.key.size = unit(1, \"cm\"))#, face=\"bold\"\n",
    "\n",
    "# ggsave(\"../Figures/calibration1.pdf\", width = 12, height = 7, dpi = 1200)\n",
    "p1"
   ]
  },
  {
   "cell_type": "code",
   "execution_count": 23,
   "metadata": {},
   "outputs": [
    {
     "data": {
      "image/png": "[encoded data removed]",
      "text/plain": [
       "plot without title"
      ]
     },
     "metadata": {
      "image/png": {
       "height": 420,
       "width": 420
      }
     },
     "output_type": "display_data"
    }
   ],
   "source": [
    "# plot\n",
    "options(repr.plot.width=7, repr.plot.height=7)\n",
    "\n",
    "c2 <- ggplot() + xlab(\"Bin Midpoint\") +\n",
    "          geom_line(data = cal_plot_data24, aes(midpoint, Percent),\n",
    "                    color = \"#F8766D\") +\n",
    "          geom_point(data = cal_plot_data24, aes(midpoint, Percent),\n",
    "                    color = \"#F8766D\", size = 3) +\n",
    "          geom_line(aes(c(0, 100), c(0, 100)), linetype = 2, \n",
    "                    color = 'grey50') +\n",
    "          labs(x=\"Bin Midpoint based on Predicted Probability\", y=\"Observed Percentage\", \n",
    "               title = \"B: Outcome at t24\")\n",
    "\n",
    "p2 <- c2 + theme(axis.text=element_text(size=14),\n",
    "                 plot.title = element_text(size=16),\n",
    "                 axis.title=element_text(size=16), legend.key.size = unit(1, \"cm\"))#, face=\"bold\"\n",
    "\n",
    "p2\n",
    "# calibrate.plot(results$label_24hr_recent, results$lgbm24, main=\"Calibration Plot for Binary Classification\")"
   ]
  },
  {
   "cell_type": "code",
   "execution_count": 24,
   "metadata": {},
   "outputs": [
    {
     "data": {
      "image/png": "[encoded data removed]",
      "text/plain": [
       "plot without title"
      ]
     },
     "metadata": {
      "image/png": {
       "height": 420,
       "width": 822
      }
     },
     "output_type": "display_data"
    }
   ],
   "source": [
    "options(repr.plot.width=13.7, repr.plot.height=7)\n",
    "# grid.arrange(p1, p2, ncol=2)\n",
    "\n",
    "plotlist <- list(p1,p2)\n",
    "# to save side-by-side picture\n",
    "plot_grid(plotlist=plotlist)\n",
    "\n",
    "# no \"page 1 of 1\" on top of the saved fig as with glist from gridExtra\n",
    "ggsave(filename = file.path(figuredir, \"Fig3.3_calibration_plotsAB_notitle.png\"), width = 14, height = 7, dpi = 1200) \n",
    "\n",
    "# or, but will have \"page 1 of 1\" on top of the saved figure\n",
    "# plot_list <- vector(\"list\", 2) \n",
    "# plot_list[[1]] <- p1\n",
    "# plot_list[[2]] <- p2\n",
    "\n",
    "# glist <- lapply(plot_list, ggplotGrob)\n",
    "\n",
    "# ggsave(filename = file.path(figuredir, \"Fig3_Calibration_plots.png\"),\n",
    "#        marrangeGrob(glist, nrow = 1, ncol = 2), \n",
    "#        width = 14, height = 7, dpi = 1200)"
   ]
  },
  {
   "cell_type": "code",
   "execution_count": null,
   "metadata": {},
   "outputs": [],
   "source": [
    "# typeof(results$label_max24)\n",
    "# brier <- results %>% filter(label_max24 == 1) %>% select(label_max24, lgbm24max)\n",
    "# mean((results$label_max24 - results$lgbm24max)^2)"
   ]
  },
  {
   "cell_type": "code",
   "execution_count": 19,
   "metadata": {},
   "outputs": [],
   "source": [
    "# Confusion matrix \n",
    "cmatrix <- function(label, pred, cutoff) {\n",
    "    cat(\"cutoff = \", cutoff, \"\\n\")\n",
    "    pred2 = ifelse(pred > cutoff, 1, 0)\n",
    "    \n",
    "#     typeof(results$lgbm24max2)\n",
    "#     typeof(results$label_max24)\n",
    "\n",
    "    print(caret::confusionMatrix(factor(pred2), \n",
    "                       factor(label), \n",
    "                       positive='1'))\n",
    "}"
   ]
  },
  {
   "cell_type": "code",
   "execution_count": 20,
   "metadata": {},
   "outputs": [
    {
     "name": "stdout",
     "output_type": "stream",
     "text": [
      "cutoff =  0.609 \n",
      "Confusion Matrix and Statistics\n",
      "\n",
      "          Reference\n",
      "Prediction     0     1\n",
      "         0 10781  1119\n",
      "         1    99   419\n",
      "                                          \n",
      "               Accuracy : 0.9019          \n",
      "                 95% CI : (0.8966, 0.9071)\n",
      "    No Information Rate : 0.8761          \n",
      "    P-Value [Acc > NIR] : < 2.2e-16       \n",
      "                                          \n",
      "                  Kappa : 0.3682          \n",
      "                                          \n",
      " Mcnemar's Test P-Value : < 2.2e-16       \n",
      "                                          \n",
      "            Sensitivity : 0.27243         \n",
      "            Specificity : 0.99090         \n",
      "         Pos Pred Value : 0.80888         \n",
      "         Neg Pred Value : 0.90597         \n",
      "             Prevalence : 0.12385         \n",
      "         Detection Rate : 0.03374         \n",
      "   Detection Prevalence : 0.04171         \n",
      "      Balanced Accuracy : 0.63167         \n",
      "                                          \n",
      "       'Positive' Class : 1               \n",
      "                                          \n",
      "cutoff =  0.609 \n",
      "Confusion Matrix and Statistics\n",
      "\n",
      "          Reference\n",
      "Prediction     0     1\n",
      "         0 11068  1101\n",
      "         1    59   190\n",
      "                                          \n",
      "               Accuracy : 0.9066          \n",
      "                 95% CI : (0.9013, 0.9117)\n",
      "    No Information Rate : 0.896           \n",
      "    P-Value [Acc > NIR] : 4.955e-05       \n",
      "                                          \n",
      "                  Kappa : 0.2205          \n",
      "                                          \n",
      " Mcnemar's Test P-Value : < 2.2e-16       \n",
      "                                          \n",
      "            Sensitivity : 0.14717         \n",
      "            Specificity : 0.99470         \n",
      "         Pos Pred Value : 0.76305         \n",
      "         Neg Pred Value : 0.90952         \n",
      "             Prevalence : 0.10396         \n",
      "         Detection Rate : 0.01530         \n",
      "   Detection Prevalence : 0.02005         \n",
      "      Balanced Accuracy : 0.57094         \n",
      "                                          \n",
      "       'Positive' Class : 1               \n",
      "                                          \n"
     ]
    }
   ],
   "source": [
    "# Confusion matrix 2nd outcome at different cut-off p\n",
    "p=0.609\n",
    "cmatrix(results$first_label, results$pred_first, p)\n",
    "cmatrix(results$death_24hr_recent_label, results$pred_death_24hr_recent, p)"
   ]
  },
  {
   "cell_type": "markdown",
   "metadata": {},
   "source": [
    "### OLD stuff"
   ]
  },
  {
   "cell_type": "code",
   "execution_count": null,
   "metadata": {},
   "outputs": [],
   "source": [
    "under24max <- results %>% filter(admit_label==0, label_max24==1) %>%\n",
    "                mutate(pred2 = ifelse(lgbm24max > 0.609, 1, 0))\n",
    "nrow(under24max)\n",
    "sum(under24max$pred2)\n",
    "\n",
    "under24 <- results %>% filter(admit_label==0, label_24hr_recent==1) %>%\n",
    "            mutate(pred2 = ifelse(lgbm24 > 0.609, 1, 0))\n",
    "nrow(under24)\n",
    "sum(under24$pred2)"
   ]
  },
  {
   "cell_type": "code",
   "execution_count": null,
   "metadata": {},
   "outputs": [],
   "source": [
    "under24 %>% arrange(-lgbm24max)"
   ]
  },
  {
   "cell_type": "code",
   "execution_count": null,
   "metadata": {},
   "outputs": [],
   "source": [
    "death <- read.csv(\"./Data/full_cohort_2019_deaths_with_labels.csv\")\n",
    "nrow(death)\n",
    "colnames(death)\n",
    "death$admit_death_delta\n",
    "head(death[, c(\"admit_death_delta\", \"death_date_jittered\", \"admit_date\")])"
   ]
  },
  {
   "cell_type": "code",
   "execution_count": null,
   "metadata": {},
   "outputs": [],
   "source": [
    "death <- death %>% filter(admit_death_delta %in% c(\"0 days\", \"1 days\"), admit_label==0)\n",
    "death <- death %>% select(inpatient_data_id_coded, admit_death_delta, death_date_jittered, \n",
    "                          admit_date, admit_label, label_24hr_recent, label_max24)\n",
    "death\n",
    "# death[, c(\"pat_enc_csn_id_coded\", \"admit_death_delta\", \"death_date_jittered\", \"admit_date\", \"admit_label\", \"label_24hr_recent\", \"label_max24\")]"
   ]
  },
  {
   "cell_type": "code",
   "execution_count": null,
   "metadata": {},
   "outputs": [],
   "source": [
    "deaths <- read.csv(\"./Data/labels_deaths_2019_2018_dates.csv\")\n",
    "nrow(deaths)\n",
    "colnames(deaths)"
   ]
  },
  {
   "cell_type": "code",
   "execution_count": null,
   "metadata": {},
   "outputs": [],
   "source": [
    "library(lubridate)"
   ]
  },
  {
   "cell_type": "code",
   "execution_count": null,
   "metadata": {},
   "outputs": [],
   "source": [
    "deaths <- deaths %>% select(\"inpatient_data_id_coded\", \"admit_time\", \"admit_label\", \"label_24hr_recent\", \"label_max24\", \n",
    "                            'death_date_2018', 'death_date_2019', 'died') %>%\n",
    "            filter(died == \"True\", admit_label==0)\n",
    "#                             filter(admit_death_delta %in% c(\"0 days\", \"1 days\"), admit_label==1) \n",
    "\n",
    "deaths <- deaths %>% mutate(death_days = difftime(date(ymd(death_date_2018, tz = \"UTC\")), \n",
    "                                                  date(ymd_hms(admit_time, tz = \"UTC\")), units = \"days\"))"
   ]
  },
  {
   "cell_type": "code",
   "execution_count": null,
   "metadata": {},
   "outputs": [],
   "source": [
    "deaths"
   ]
  },
  {
   "cell_type": "code",
   "execution_count": null,
   "metadata": {},
   "outputs": [],
   "source": [
    "deaths <- deaths %>% filter(death_days <= 1, death_days >=0)\n",
    "deaths"
   ]
  },
  {
   "cell_type": "code",
   "execution_count": null,
   "metadata": {},
   "outputs": [],
   "source": [
    "options(scipen = 999)\n",
    "death$inpatient_data_id_coded %in% deaths$inpatient_data_id_coded\n",
    "death$inpatient_data_id_coded %in% results$inpatient_data_id_coded\n",
    "head(results[, c(\"inpatient_data_id_coded\", \"admit_label\")])"
   ]
  },
  {
   "cell_type": "code",
   "execution_count": null,
   "metadata": {},
   "outputs": [],
   "source": [
    "results_death <- results %>% select(inpatient_data_id_coded, lgbm24, lgbm24max, admit_time) %>% right_join(death)\n",
    "death\n",
    "results_death %>% arrange(label_max24)"
   ]
  }
 ],
 "metadata": {
  "environment": {
   "name": "r-cpu.4-0.m71",
   "type": "gcloud",
   "uri": "gcr.io/deeplearning-platform-release/r-cpu.4-0:m71"
  },
  "kernelspec": {
   "display_name": "R",
   "language": "R",
   "name": "ir"
  },
  "language_info": {
   "codemirror_mode": "r",
   "file_extension": ".r",
   "mimetype": "text/x-r-source",
   "name": "R",
   "pygments_lexer": "r",
   "version": "4.0.3"
  }
 },
 "nbformat": 4,
 "nbformat_minor": 4
}
