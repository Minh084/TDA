{
 "cells": [
  {
   "cell_type": "markdown",
   "metadata": {},
   "source": [
    "# Quality control\n",
    "- death is only accessed within the first 24 hours regardless of when the label time is"
   ]
  },
  {
   "cell_type": "code",
   "execution_count": 1,
   "metadata": {},
   "outputs": [
    {
     "name": "stderr",
     "output_type": "stream",
     "text": [
      "── \u001b[1mAttaching packages\u001b[22m ─────────────────────────────────────── tidyverse 1.3.1 ──\n",
      "\n",
      "\u001b[32m✔\u001b[39m \u001b[34mtibble \u001b[39m 3.1.2     \u001b[32m✔\u001b[39m \u001b[34mdplyr  \u001b[39m 1.0.6\n",
      "\u001b[32m✔\u001b[39m \u001b[34mtidyr  \u001b[39m 1.1.3     \u001b[32m✔\u001b[39m \u001b[34mstringr\u001b[39m 1.4.0\n",
      "\u001b[32m✔\u001b[39m \u001b[34mreadr  \u001b[39m 1.4.0     \u001b[32m✔\u001b[39m \u001b[34mforcats\u001b[39m 0.5.1\n",
      "\u001b[32m✔\u001b[39m \u001b[34mpurrr  \u001b[39m 0.3.4     \n",
      "\n",
      "── \u001b[1mConflicts\u001b[22m ────────────────────────────────────────── tidyverse_conflicts() ──\n",
      "\u001b[31m✖\u001b[39m \u001b[34mdplyr\u001b[39m::\u001b[32mfilter()\u001b[39m masks \u001b[34mstats\u001b[39m::filter()\n",
      "\u001b[31m✖\u001b[39m \u001b[34mdplyr\u001b[39m::\u001b[32mlag()\u001b[39m    masks \u001b[34mstats\u001b[39m::lag()\n",
      "\n",
      "\n",
      "Attaching package: ‘lubridate’\n",
      "\n",
      "\n",
      "The following object is masked from ‘package:cowplot’:\n",
      "\n",
      "    stamp\n",
      "\n",
      "\n",
      "The following objects are masked from ‘package:base’:\n",
      "\n",
      "    date, intersect, setdiff, union\n",
      "\n",
      "\n",
      "\n",
      "Attaching package: ‘gridExtra’\n",
      "\n",
      "\n",
      "The following object is masked from ‘package:dplyr’:\n",
      "\n",
      "    combine\n",
      "\n",
      "\n"
     ]
    }
   ],
   "source": [
    "library(cowplot) #Installing package into 'C:/Users/User/Documents/R/win-library/4.0'\n",
    "library(grid)\n",
    "library(ggplot2)\n",
    "library(ggExtra)\n",
    "library(tidyverse)\n",
    "library(lubridate)\n",
    "library(gridExtra)\n",
    "library(tableone)"
   ]
  },
  {
   "cell_type": "code",
   "execution_count": 2,
   "metadata": {},
   "outputs": [],
   "source": [
    "# install.packages(\"tableone\")"
   ]
  },
  {
   "cell_type": "code",
   "execution_count": 3,
   "metadata": {},
   "outputs": [],
   "source": [
    "# directories\n",
    "datadir = \"../../DataTD/shc2021\"\n",
    "outdir = \"../../OutputTD/shc2021\"\n",
    "figuredir = \"../../OutputTD/Figures\"\n",
    "tabledir = \"../../OutputTD/4_tables\"\n",
    "\n",
    "options(repr.matrix.max.rows=350, repr.matrix.max.cols=30)"
   ]
  },
  {
   "cell_type": "code",
   "execution_count": 4,
   "metadata": {},
   "outputs": [
    {
     "name": "stderr",
     "output_type": "stream",
     "text": [
      "\n",
      "\u001b[36m──\u001b[39m \u001b[1m\u001b[1mColumn specification\u001b[1m\u001b[22m \u001b[36m────────────────────────────────────────────────────────\u001b[39m\n",
      "cols(\n",
      "  .default = col_double(),\n",
      "  anon_id = \u001b[31mcol_character()\u001b[39m,\n",
      "  admit_time = \u001b[34mcol_datetime(format = \"\")\u001b[39m\n",
      ")\n",
      "\u001b[36mℹ\u001b[39m Use \u001b[30m\u001b[47m\u001b[30m\u001b[47m`spec()`\u001b[47m\u001b[30m\u001b[49m\u001b[39m for the full column specifications.\n",
      "\n",
      "\n"
     ]
    },
    {
     "data": {
      "text/html": [
       "52532"
      ],
      "text/latex": [
       "52532"
      ],
      "text/markdown": [
       "52532"
      ],
      "text/plain": [
       "[1] 52532"
      ]
     },
     "metadata": {},
     "output_type": "display_data"
    },
    {
     "data": {
      "text/html": [
       "52532"
      ],
      "text/latex": [
       "52532"
      ],
      "text/markdown": [
       "52532"
      ],
      "text/plain": [
       "[1] 52532"
      ]
     },
     "metadata": {},
     "output_type": "display_data"
    },
    {
     "name": "stderr",
     "output_type": "stream",
     "text": [
      "\n",
      "\u001b[36m──\u001b[39m \u001b[1m\u001b[1mColumn specification\u001b[1m\u001b[22m \u001b[36m────────────────────────────────────────────────────────\u001b[39m\n",
      "cols(\n",
      "  .default = col_double(),\n",
      "  anon_id = \u001b[31mcol_character()\u001b[39m,\n",
      "  admit_time = \u001b[34mcol_datetime(format = \"\")\u001b[39m\n",
      ")\n",
      "\u001b[36mℹ\u001b[39m Use \u001b[30m\u001b[47m\u001b[30m\u001b[47m`spec()`\u001b[47m\u001b[30m\u001b[49m\u001b[39m for the full column specifications.\n",
      "\n",
      "\n"
     ]
    },
    {
     "data": {
      "text/html": [
       "51846"
      ],
      "text/latex": [
       "51846"
      ],
      "text/markdown": [
       "51846"
      ],
      "text/plain": [
       "[1] 51846"
      ]
     },
     "metadata": {},
     "output_type": "display_data"
    },
    {
     "data": {
      "text/html": [
       "51846"
      ],
      "text/latex": [
       "51846"
      ],
      "text/markdown": [
       "51846"
      ],
      "text/plain": [
       "[1] 51846"
      ]
     },
     "metadata": {},
     "output_type": "display_data"
    }
   ],
   "source": [
    "coh4noOR <- read_csv(file.path(outdir, \"7_cohort4_3hr_labels_noOR.csv\"))\n",
    "nOR = nrow(coh4noOR)\n",
    "nOR\n",
    "length(unique(coh4noOR$pat_enc_csn_id_coded))\n",
    "\n",
    "coh4noORnoDKA <- read_csv(file.path(outdir, \"7_cohort4_3hr_labels_noOR_noDKA.csv\"))\n",
    "N = nrow(coh4noORnoDKA)\n",
    "N \n",
    "length(unique(coh4noORnoDKA$pat_enc_csn_id_coded))"
   ]
  },
  {
   "cell_type": "code",
   "execution_count": 5,
   "metadata": {},
   "outputs": [
    {
     "data": {
      "text/html": [
       "<style>\n",
       ".list-inline {list-style: none; margin:0; padding: 0}\n",
       ".list-inline>li {display: inline-block}\n",
       ".list-inline>li:not(:last-child)::after {content: \"\\00b7\"; padding: 0 .5ex}\n",
       "</style>\n",
       "<ol class=list-inline><li>'anon_id'</li><li>'pat_enc_csn_id_coded'</li><li>'admit_time'</li><li>'label_max3'</li><li>'label_3hr_recent'</li><li>'admit_label'</li><li>'has_admit_label'</li><li>'died_within_24hrs'</li><li>'death_3hr_max_label'</li><li>'death_3hr_recent_label'</li><li>'first_label'</li><li>'first_label_minutes_since_admit'</li><li>'acute_to_critical_label_recent_3hr'</li><li>'critical_to_acute_label_recent_3hr'</li><li>'acute_to_critical_label_max_3hr'</li><li>'critical_to_acute_label_max_3hr'</li><li>'label_max6'</li><li>'label_6hr_recent'</li><li>'death_6hr_max_label'</li><li>'death_6hr_recent_label'</li><li>'acute_to_critical_label_recent_6hr'</li><li>'critical_to_acute_label_recent_6hr'</li><li>'acute_to_critical_label_max_6hr'</li><li>'critical_to_acute_label_max_6hr'</li><li>'label_max9'</li><li>'label_9hr_recent'</li><li>'death_9hr_max_label'</li><li>'death_9hr_recent_label'</li><li>'acute_to_critical_label_recent_9hr'</li><li>'critical_to_acute_label_recent_9hr'</li><li>'acute_to_critical_label_max_9hr'</li><li>'critical_to_acute_label_max_9hr'</li><li>'label_max12'</li><li>'label_12hr_recent'</li><li>'death_12hr_max_label'</li><li>'death_12hr_recent_label'</li><li>'acute_to_critical_label_recent_12hr'</li><li>'critical_to_acute_label_recent_12hr'</li><li>'acute_to_critical_label_max_12hr'</li><li>'critical_to_acute_label_max_12hr'</li><li>'label_max24'</li><li>'label_24hr_recent'</li><li>'death_24hr_max_label'</li><li>'death_24hr_recent_label'</li><li>'acute_to_critical_label_recent_24hr'</li><li>'critical_to_acute_label_recent_24hr'</li><li>'acute_to_critical_label_max_24hr'</li><li>'critical_to_acute_label_max_24hr'</li></ol>\n"
      ],
      "text/latex": [
       "\\begin{enumerate*}\n",
       "\\item 'anon\\_id'\n",
       "\\item 'pat\\_enc\\_csn\\_id\\_coded'\n",
       "\\item 'admit\\_time'\n",
       "\\item 'label\\_max3'\n",
       "\\item 'label\\_3hr\\_recent'\n",
       "\\item 'admit\\_label'\n",
       "\\item 'has\\_admit\\_label'\n",
       "\\item 'died\\_within\\_24hrs'\n",
       "\\item 'death\\_3hr\\_max\\_label'\n",
       "\\item 'death\\_3hr\\_recent\\_label'\n",
       "\\item 'first\\_label'\n",
       "\\item 'first\\_label\\_minutes\\_since\\_admit'\n",
       "\\item 'acute\\_to\\_critical\\_label\\_recent\\_3hr'\n",
       "\\item 'critical\\_to\\_acute\\_label\\_recent\\_3hr'\n",
       "\\item 'acute\\_to\\_critical\\_label\\_max\\_3hr'\n",
       "\\item 'critical\\_to\\_acute\\_label\\_max\\_3hr'\n",
       "\\item 'label\\_max6'\n",
       "\\item 'label\\_6hr\\_recent'\n",
       "\\item 'death\\_6hr\\_max\\_label'\n",
       "\\item 'death\\_6hr\\_recent\\_label'\n",
       "\\item 'acute\\_to\\_critical\\_label\\_recent\\_6hr'\n",
       "\\item 'critical\\_to\\_acute\\_label\\_recent\\_6hr'\n",
       "\\item 'acute\\_to\\_critical\\_label\\_max\\_6hr'\n",
       "\\item 'critical\\_to\\_acute\\_label\\_max\\_6hr'\n",
       "\\item 'label\\_max9'\n",
       "\\item 'label\\_9hr\\_recent'\n",
       "\\item 'death\\_9hr\\_max\\_label'\n",
       "\\item 'death\\_9hr\\_recent\\_label'\n",
       "\\item 'acute\\_to\\_critical\\_label\\_recent\\_9hr'\n",
       "\\item 'critical\\_to\\_acute\\_label\\_recent\\_9hr'\n",
       "\\item 'acute\\_to\\_critical\\_label\\_max\\_9hr'\n",
       "\\item 'critical\\_to\\_acute\\_label\\_max\\_9hr'\n",
       "\\item 'label\\_max12'\n",
       "\\item 'label\\_12hr\\_recent'\n",
       "\\item 'death\\_12hr\\_max\\_label'\n",
       "\\item 'death\\_12hr\\_recent\\_label'\n",
       "\\item 'acute\\_to\\_critical\\_label\\_recent\\_12hr'\n",
       "\\item 'critical\\_to\\_acute\\_label\\_recent\\_12hr'\n",
       "\\item 'acute\\_to\\_critical\\_label\\_max\\_12hr'\n",
       "\\item 'critical\\_to\\_acute\\_label\\_max\\_12hr'\n",
       "\\item 'label\\_max24'\n",
       "\\item 'label\\_24hr\\_recent'\n",
       "\\item 'death\\_24hr\\_max\\_label'\n",
       "\\item 'death\\_24hr\\_recent\\_label'\n",
       "\\item 'acute\\_to\\_critical\\_label\\_recent\\_24hr'\n",
       "\\item 'critical\\_to\\_acute\\_label\\_recent\\_24hr'\n",
       "\\item 'acute\\_to\\_critical\\_label\\_max\\_24hr'\n",
       "\\item 'critical\\_to\\_acute\\_label\\_max\\_24hr'\n",
       "\\end{enumerate*}\n"
      ],
      "text/markdown": [
       "1. 'anon_id'\n",
       "2. 'pat_enc_csn_id_coded'\n",
       "3. 'admit_time'\n",
       "4. 'label_max3'\n",
       "5. 'label_3hr_recent'\n",
       "6. 'admit_label'\n",
       "7. 'has_admit_label'\n",
       "8. 'died_within_24hrs'\n",
       "9. 'death_3hr_max_label'\n",
       "10. 'death_3hr_recent_label'\n",
       "11. 'first_label'\n",
       "12. 'first_label_minutes_since_admit'\n",
       "13. 'acute_to_critical_label_recent_3hr'\n",
       "14. 'critical_to_acute_label_recent_3hr'\n",
       "15. 'acute_to_critical_label_max_3hr'\n",
       "16. 'critical_to_acute_label_max_3hr'\n",
       "17. 'label_max6'\n",
       "18. 'label_6hr_recent'\n",
       "19. 'death_6hr_max_label'\n",
       "20. 'death_6hr_recent_label'\n",
       "21. 'acute_to_critical_label_recent_6hr'\n",
       "22. 'critical_to_acute_label_recent_6hr'\n",
       "23. 'acute_to_critical_label_max_6hr'\n",
       "24. 'critical_to_acute_label_max_6hr'\n",
       "25. 'label_max9'\n",
       "26. 'label_9hr_recent'\n",
       "27. 'death_9hr_max_label'\n",
       "28. 'death_9hr_recent_label'\n",
       "29. 'acute_to_critical_label_recent_9hr'\n",
       "30. 'critical_to_acute_label_recent_9hr'\n",
       "31. 'acute_to_critical_label_max_9hr'\n",
       "32. 'critical_to_acute_label_max_9hr'\n",
       "33. 'label_max12'\n",
       "34. 'label_12hr_recent'\n",
       "35. 'death_12hr_max_label'\n",
       "36. 'death_12hr_recent_label'\n",
       "37. 'acute_to_critical_label_recent_12hr'\n",
       "38. 'critical_to_acute_label_recent_12hr'\n",
       "39. 'acute_to_critical_label_max_12hr'\n",
       "40. 'critical_to_acute_label_max_12hr'\n",
       "41. 'label_max24'\n",
       "42. 'label_24hr_recent'\n",
       "43. 'death_24hr_max_label'\n",
       "44. 'death_24hr_recent_label'\n",
       "45. 'acute_to_critical_label_recent_24hr'\n",
       "46. 'critical_to_acute_label_recent_24hr'\n",
       "47. 'acute_to_critical_label_max_24hr'\n",
       "48. 'critical_to_acute_label_max_24hr'\n",
       "\n",
       "\n"
      ],
      "text/plain": [
       " [1] \"anon_id\"                             \"pat_enc_csn_id_coded\"               \n",
       " [3] \"admit_time\"                          \"label_max3\"                         \n",
       " [5] \"label_3hr_recent\"                    \"admit_label\"                        \n",
       " [7] \"has_admit_label\"                     \"died_within_24hrs\"                  \n",
       " [9] \"death_3hr_max_label\"                 \"death_3hr_recent_label\"             \n",
       "[11] \"first_label\"                         \"first_label_minutes_since_admit\"    \n",
       "[13] \"acute_to_critical_label_recent_3hr\"  \"critical_to_acute_label_recent_3hr\" \n",
       "[15] \"acute_to_critical_label_max_3hr\"     \"critical_to_acute_label_max_3hr\"    \n",
       "[17] \"label_max6\"                          \"label_6hr_recent\"                   \n",
       "[19] \"death_6hr_max_label\"                 \"death_6hr_recent_label\"             \n",
       "[21] \"acute_to_critical_label_recent_6hr\"  \"critical_to_acute_label_recent_6hr\" \n",
       "[23] \"acute_to_critical_label_max_6hr\"     \"critical_to_acute_label_max_6hr\"    \n",
       "[25] \"label_max9\"                          \"label_9hr_recent\"                   \n",
       "[27] \"death_9hr_max_label\"                 \"death_9hr_recent_label\"             \n",
       "[29] \"acute_to_critical_label_recent_9hr\"  \"critical_to_acute_label_recent_9hr\" \n",
       "[31] \"acute_to_critical_label_max_9hr\"     \"critical_to_acute_label_max_9hr\"    \n",
       "[33] \"label_max12\"                         \"label_12hr_recent\"                  \n",
       "[35] \"death_12hr_max_label\"                \"death_12hr_recent_label\"            \n",
       "[37] \"acute_to_critical_label_recent_12hr\" \"critical_to_acute_label_recent_12hr\"\n",
       "[39] \"acute_to_critical_label_max_12hr\"    \"critical_to_acute_label_max_12hr\"   \n",
       "[41] \"label_max24\"                         \"label_24hr_recent\"                  \n",
       "[43] \"death_24hr_max_label\"                \"death_24hr_recent_label\"            \n",
       "[45] \"acute_to_critical_label_recent_24hr\" \"critical_to_acute_label_recent_24hr\"\n",
       "[47] \"acute_to_critical_label_max_24hr\"    \"critical_to_acute_label_max_24hr\"   "
      ]
     },
     "metadata": {},
     "output_type": "display_data"
    },
    {
     "data": {
      "text/html": [
       "<table class=\"dataframe\">\n",
       "<caption>A tibble: 2 × 48</caption>\n",
       "<thead>\n",
       "\t<tr><th scope=col>anon_id</th><th scope=col>pat_enc_csn_id_coded</th><th scope=col>admit_time</th><th scope=col>label_max3</th><th scope=col>label_3hr_recent</th><th scope=col>admit_label</th><th scope=col>has_admit_label</th><th scope=col>died_within_24hrs</th><th scope=col>death_3hr_max_label</th><th scope=col>death_3hr_recent_label</th><th scope=col>first_label</th><th scope=col>first_label_minutes_since_admit</th><th scope=col>acute_to_critical_label_recent_3hr</th><th scope=col>critical_to_acute_label_recent_3hr</th><th scope=col>acute_to_critical_label_max_3hr</th><th scope=col>⋯</th><th scope=col>label_12hr_recent</th><th scope=col>death_12hr_max_label</th><th scope=col>death_12hr_recent_label</th><th scope=col>acute_to_critical_label_recent_12hr</th><th scope=col>critical_to_acute_label_recent_12hr</th><th scope=col>acute_to_critical_label_max_12hr</th><th scope=col>critical_to_acute_label_max_12hr</th><th scope=col>label_max24</th><th scope=col>label_24hr_recent</th><th scope=col>death_24hr_max_label</th><th scope=col>death_24hr_recent_label</th><th scope=col>acute_to_critical_label_recent_24hr</th><th scope=col>critical_to_acute_label_recent_24hr</th><th scope=col>acute_to_critical_label_max_24hr</th><th scope=col>critical_to_acute_label_max_24hr</th></tr>\n",
       "\t<tr><th scope=col>&lt;chr&gt;</th><th scope=col>&lt;dbl&gt;</th><th scope=col>&lt;dttm&gt;</th><th scope=col>&lt;dbl&gt;</th><th scope=col>&lt;dbl&gt;</th><th scope=col>&lt;dbl&gt;</th><th scope=col>&lt;dbl&gt;</th><th scope=col>&lt;dbl&gt;</th><th scope=col>&lt;dbl&gt;</th><th scope=col>&lt;dbl&gt;</th><th scope=col>&lt;dbl&gt;</th><th scope=col>&lt;dbl&gt;</th><th scope=col>&lt;dbl&gt;</th><th scope=col>&lt;dbl&gt;</th><th scope=col>&lt;dbl&gt;</th><th scope=col>⋯</th><th scope=col>&lt;dbl&gt;</th><th scope=col>&lt;dbl&gt;</th><th scope=col>&lt;dbl&gt;</th><th scope=col>&lt;dbl&gt;</th><th scope=col>&lt;dbl&gt;</th><th scope=col>&lt;dbl&gt;</th><th scope=col>&lt;dbl&gt;</th><th scope=col>&lt;dbl&gt;</th><th scope=col>&lt;dbl&gt;</th><th scope=col>&lt;dbl&gt;</th><th scope=col>&lt;dbl&gt;</th><th scope=col>&lt;dbl&gt;</th><th scope=col>&lt;dbl&gt;</th><th scope=col>&lt;dbl&gt;</th><th scope=col>&lt;dbl&gt;</th></tr>\n",
       "</thead>\n",
       "<tbody>\n",
       "\t<tr><td>JC1000116</td><td>131066472308</td><td>2015-01-28 00:46:00</td><td>0</td><td>0</td><td>0</td><td>1</td><td>0</td><td>0</td><td>0</td><td>0</td><td>0</td><td>0</td><td>0</td><td>0</td><td>⋯</td><td>0</td><td>0</td><td>0</td><td>0</td><td>0</td><td>0</td><td>0</td><td>0</td><td>0</td><td>0</td><td>0</td><td>0</td><td>0</td><td>0</td><td>0</td></tr>\n",
       "\t<tr><td>JC1000116</td><td>131295313275</td><td>2020-09-29 22:45:00</td><td>0</td><td>0</td><td>0</td><td>1</td><td>0</td><td>0</td><td>0</td><td>0</td><td>0</td><td>0</td><td>0</td><td>0</td><td>⋯</td><td>0</td><td>0</td><td>0</td><td>0</td><td>0</td><td>0</td><td>0</td><td>0</td><td>0</td><td>0</td><td>0</td><td>0</td><td>0</td><td>0</td><td>0</td></tr>\n",
       "</tbody>\n",
       "</table>\n"
      ],
      "text/latex": [
       "A tibble: 2 × 48\n",
       "\\begin{tabular}{lllllllllllllllllllllllllllllll}\n",
       " anon\\_id & pat\\_enc\\_csn\\_id\\_coded & admit\\_time & label\\_max3 & label\\_3hr\\_recent & admit\\_label & has\\_admit\\_label & died\\_within\\_24hrs & death\\_3hr\\_max\\_label & death\\_3hr\\_recent\\_label & first\\_label & first\\_label\\_minutes\\_since\\_admit & acute\\_to\\_critical\\_label\\_recent\\_3hr & critical\\_to\\_acute\\_label\\_recent\\_3hr & acute\\_to\\_critical\\_label\\_max\\_3hr & ⋯ & label\\_12hr\\_recent & death\\_12hr\\_max\\_label & death\\_12hr\\_recent\\_label & acute\\_to\\_critical\\_label\\_recent\\_12hr & critical\\_to\\_acute\\_label\\_recent\\_12hr & acute\\_to\\_critical\\_label\\_max\\_12hr & critical\\_to\\_acute\\_label\\_max\\_12hr & label\\_max24 & label\\_24hr\\_recent & death\\_24hr\\_max\\_label & death\\_24hr\\_recent\\_label & acute\\_to\\_critical\\_label\\_recent\\_24hr & critical\\_to\\_acute\\_label\\_recent\\_24hr & acute\\_to\\_critical\\_label\\_max\\_24hr & critical\\_to\\_acute\\_label\\_max\\_24hr\\\\\n",
       " <chr> & <dbl> & <dttm> & <dbl> & <dbl> & <dbl> & <dbl> & <dbl> & <dbl> & <dbl> & <dbl> & <dbl> & <dbl> & <dbl> & <dbl> & ⋯ & <dbl> & <dbl> & <dbl> & <dbl> & <dbl> & <dbl> & <dbl> & <dbl> & <dbl> & <dbl> & <dbl> & <dbl> & <dbl> & <dbl> & <dbl>\\\\\n",
       "\\hline\n",
       "\t JC1000116 & 131066472308 & 2015-01-28 00:46:00 & 0 & 0 & 0 & 1 & 0 & 0 & 0 & 0 & 0 & 0 & 0 & 0 & ⋯ & 0 & 0 & 0 & 0 & 0 & 0 & 0 & 0 & 0 & 0 & 0 & 0 & 0 & 0 & 0\\\\\n",
       "\t JC1000116 & 131295313275 & 2020-09-29 22:45:00 & 0 & 0 & 0 & 1 & 0 & 0 & 0 & 0 & 0 & 0 & 0 & 0 & ⋯ & 0 & 0 & 0 & 0 & 0 & 0 & 0 & 0 & 0 & 0 & 0 & 0 & 0 & 0 & 0\\\\\n",
       "\\end{tabular}\n"
      ],
      "text/markdown": [
       "\n",
       "A tibble: 2 × 48\n",
       "\n",
       "| anon_id &lt;chr&gt; | pat_enc_csn_id_coded &lt;dbl&gt; | admit_time &lt;dttm&gt; | label_max3 &lt;dbl&gt; | label_3hr_recent &lt;dbl&gt; | admit_label &lt;dbl&gt; | has_admit_label &lt;dbl&gt; | died_within_24hrs &lt;dbl&gt; | death_3hr_max_label &lt;dbl&gt; | death_3hr_recent_label &lt;dbl&gt; | first_label &lt;dbl&gt; | first_label_minutes_since_admit &lt;dbl&gt; | acute_to_critical_label_recent_3hr &lt;dbl&gt; | critical_to_acute_label_recent_3hr &lt;dbl&gt; | acute_to_critical_label_max_3hr &lt;dbl&gt; | ⋯ ⋯ | label_12hr_recent &lt;dbl&gt; | death_12hr_max_label &lt;dbl&gt; | death_12hr_recent_label &lt;dbl&gt; | acute_to_critical_label_recent_12hr &lt;dbl&gt; | critical_to_acute_label_recent_12hr &lt;dbl&gt; | acute_to_critical_label_max_12hr &lt;dbl&gt; | critical_to_acute_label_max_12hr &lt;dbl&gt; | label_max24 &lt;dbl&gt; | label_24hr_recent &lt;dbl&gt; | death_24hr_max_label &lt;dbl&gt; | death_24hr_recent_label &lt;dbl&gt; | acute_to_critical_label_recent_24hr &lt;dbl&gt; | critical_to_acute_label_recent_24hr &lt;dbl&gt; | acute_to_critical_label_max_24hr &lt;dbl&gt; | critical_to_acute_label_max_24hr &lt;dbl&gt; |\n",
       "|---|---|---|---|---|---|---|---|---|---|---|---|---|---|---|---|---|---|---|---|---|---|---|---|---|---|---|---|---|---|---|\n",
       "| JC1000116 | 131066472308 | 2015-01-28 00:46:00 | 0 | 0 | 0 | 1 | 0 | 0 | 0 | 0 | 0 | 0 | 0 | 0 | ⋯ | 0 | 0 | 0 | 0 | 0 | 0 | 0 | 0 | 0 | 0 | 0 | 0 | 0 | 0 | 0 |\n",
       "| JC1000116 | 131295313275 | 2020-09-29 22:45:00 | 0 | 0 | 0 | 1 | 0 | 0 | 0 | 0 | 0 | 0 | 0 | 0 | ⋯ | 0 | 0 | 0 | 0 | 0 | 0 | 0 | 0 | 0 | 0 | 0 | 0 | 0 | 0 | 0 |\n",
       "\n"
      ],
      "text/plain": [
       "  anon_id   pat_enc_csn_id_coded admit_time          label_max3\n",
       "1 JC1000116 131066472308         2015-01-28 00:46:00 0         \n",
       "2 JC1000116 131295313275         2020-09-29 22:45:00 0         \n",
       "  label_3hr_recent admit_label has_admit_label died_within_24hrs\n",
       "1 0                0           1               0                \n",
       "2 0                0           1               0                \n",
       "  death_3hr_max_label death_3hr_recent_label first_label\n",
       "1 0                   0                      0          \n",
       "2 0                   0                      0          \n",
       "  first_label_minutes_since_admit acute_to_critical_label_recent_3hr\n",
       "1 0                               0                                 \n",
       "2 0                               0                                 \n",
       "  critical_to_acute_label_recent_3hr acute_to_critical_label_max_3hr ⋯\n",
       "1 0                                  0                               ⋯\n",
       "2 0                                  0                               ⋯\n",
       "  label_12hr_recent death_12hr_max_label death_12hr_recent_label\n",
       "1 0                 0                    0                      \n",
       "2 0                 0                    0                      \n",
       "  acute_to_critical_label_recent_12hr critical_to_acute_label_recent_12hr\n",
       "1 0                                   0                                  \n",
       "2 0                                   0                                  \n",
       "  acute_to_critical_label_max_12hr critical_to_acute_label_max_12hr label_max24\n",
       "1 0                                0                                0          \n",
       "2 0                                0                                0          \n",
       "  label_24hr_recent death_24hr_max_label death_24hr_recent_label\n",
       "1 0                 0                    0                      \n",
       "2 0                 0                    0                      \n",
       "  acute_to_critical_label_recent_24hr critical_to_acute_label_recent_24hr\n",
       "1 0                                   0                                  \n",
       "2 0                                   0                                  \n",
       "  acute_to_critical_label_max_24hr critical_to_acute_label_max_24hr\n",
       "1 0                                0                               \n",
       "2 0                                0                               "
      ]
     },
     "metadata": {},
     "output_type": "display_data"
    }
   ],
   "source": [
    "names(coh4noORnoDKA)\n",
    "head(coh4noOR, 2)"
   ]
  },
  {
   "cell_type": "code",
   "execution_count": 6,
   "metadata": {},
   "outputs": [
    {
     "data": {
      "text/plain": [
       "   anon_id          pat_enc_csn_id_coded   admit_time                 \n",
       " Length:52532       Min.   :1.311e+11    Min.   :2015-01-01 06:30:00  \n",
       " Class :character   1st Qu.:1.312e+11    1st Qu.:2016-12-19 23:49:45  \n",
       " Mode  :character   Median :1.313e+11    Median :2018-11-14 01:22:00  \n",
       "                    Mean   :1.312e+11    Mean   :2018-08-31 11:06:06  \n",
       "                    3rd Qu.:1.313e+11    3rd Qu.:2020-05-28 22:04:00  \n",
       "                    Max.   :1.313e+11    Max.   :2021-09-30 07:00:00  \n",
       "                                                                      \n",
       "   label_max3     label_3hr_recent  admit_label     has_admit_label \n",
       " Min.   :0.0000   Min.   :0.0000   Min.   :0.0000   Min.   :0.0000  \n",
       " 1st Qu.:0.0000   1st Qu.:0.0000   1st Qu.:0.0000   1st Qu.:1.0000  \n",
       " Median :0.0000   Median :0.0000   Median :0.0000   Median :1.0000  \n",
       " Mean   :0.1142   Mean   :0.1114   Mean   :0.1078   Mean   :0.9927  \n",
       " 3rd Qu.:0.0000   3rd Qu.:0.0000   3rd Qu.:0.0000   3rd Qu.:1.0000  \n",
       " Max.   :1.0000   Max.   :1.0000   Max.   :1.0000   Max.   :1.0000  \n",
       "                                   NA's   :386                      \n",
       " died_within_24hrs  death_3hr_max_label death_3hr_recent_label  first_label    \n",
       " Min.   :0.000000   Min.   :0.0000      Min.   :0.000          Min.   :0.0000  \n",
       " 1st Qu.:0.000000   1st Qu.:0.0000      1st Qu.:0.000          1st Qu.:0.0000  \n",
       " Median :0.000000   Median :0.0000      Median :0.000          Median :0.0000  \n",
       " Mean   :0.001485   Mean   :0.1148      Mean   :0.112          Mean   :0.1077  \n",
       " 3rd Qu.:0.000000   3rd Qu.:0.0000      3rd Qu.:0.000          3rd Qu.:0.0000  \n",
       " Max.   :1.000000   Max.   :1.0000      Max.   :1.000          Max.   :1.0000  \n",
       "                                                                               \n",
       " first_label_minutes_since_admit acute_to_critical_label_recent_3hr\n",
       " Min.   :  0.0000                Min.   :0.000000                  \n",
       " 1st Qu.:  0.0000                1st Qu.:0.000000                  \n",
       " Median :  0.0000                Median :0.000000                  \n",
       " Mean   :  0.4155                Mean   :0.006853                  \n",
       " 3rd Qu.:  0.0000                3rd Qu.:0.000000                  \n",
       " Max.   :179.0000                Max.   :1.000000                  \n",
       "                                                                   \n",
       " critical_to_acute_label_recent_3hr acute_to_critical_label_max_3hr\n",
       " Min.   :0.000000                   Min.   :0.0000                 \n",
       " 1st Qu.:0.000000                   1st Qu.:0.0000                 \n",
       " Median :0.000000                   Median :0.0000                 \n",
       " Mean   :0.002551                   Mean   :0.0071                 \n",
       " 3rd Qu.:0.000000                   3rd Qu.:0.0000                 \n",
       " Max.   :1.000000                   Max.   :1.0000                 \n",
       "                                                                   \n",
       " critical_to_acute_label_max_3hr   label_max6    label_6hr_recent\n",
       " Min.   :0                       Min.   :0.000   Min.   :0.0000  \n",
       " 1st Qu.:0                       1st Qu.:0.000   1st Qu.:0.0000  \n",
       " Median :0                       Median :0.000   Median :0.0000  \n",
       " Mean   :0                       Mean   :0.119   Mean   :0.1125  \n",
       " 3rd Qu.:0                       3rd Qu.:0.000   3rd Qu.:0.0000  \n",
       " Max.   :0                       Max.   :1.000   Max.   :1.0000  \n",
       "                                                                 \n",
       " death_6hr_max_label death_6hr_recent_label acute_to_critical_label_recent_6hr\n",
       " Min.   :0.0000      Min.   :0.0000         Min.   :0.00000                   \n",
       " 1st Qu.:0.0000      1st Qu.:0.0000         1st Qu.:0.00000                   \n",
       " Median :0.0000      Median :0.0000         Median :0.00000                   \n",
       " Mean   :0.1195      Mean   :0.1132         Mean   :0.01136                   \n",
       " 3rd Qu.:0.0000      3rd Qu.:0.0000         3rd Qu.:0.00000                   \n",
       " Max.   :1.0000      Max.   :1.0000         Max.   :1.00000                   \n",
       "                                                                              \n",
       " critical_to_acute_label_recent_6hr acute_to_critical_label_max_6hr\n",
       " Min.   :0.00000                    Min.   :0.00000                \n",
       " 1st Qu.:0.00000                    1st Qu.:0.00000                \n",
       " Median :0.00000                    Median :0.00000                \n",
       " Mean   :0.00592                    Mean   :0.01184                \n",
       " 3rd Qu.:0.00000                    3rd Qu.:0.00000                \n",
       " Max.   :1.00000                    Max.   :1.00000                \n",
       "                                                                   \n",
       " critical_to_acute_label_max_6hr   label_max9     label_9hr_recent\n",
       " Min.   :0                       Min.   :0.0000   Min.   :0.0000  \n",
       " 1st Qu.:0                       1st Qu.:0.0000   1st Qu.:0.0000  \n",
       " Median :0                       Median :0.0000   Median :0.0000  \n",
       " Mean   :0                       Mean   :0.1221   Mean   :0.1123  \n",
       " 3rd Qu.:0                       3rd Qu.:0.0000   3rd Qu.:0.0000  \n",
       " Max.   :0                       Max.   :1.0000   Max.   :1.0000  \n",
       "                                                                  \n",
       " death_9hr_max_label death_9hr_recent_label acute_to_critical_label_recent_9hr\n",
       " Min.   :0.0000      Min.   :0.0000         Min.   :0.00000                   \n",
       " 1st Qu.:0.0000      1st Qu.:0.0000         1st Qu.:0.00000                   \n",
       " Median :0.0000      Median :0.0000         Median :0.00000                   \n",
       " Mean   :0.1226      Mean   :0.1129         Mean   :0.01412                   \n",
       " 3rd Qu.:0.0000      3rd Qu.:0.0000         3rd Qu.:0.00000                   \n",
       " Max.   :1.0000      Max.   :1.0000         Max.   :1.00000                   \n",
       "                                                                              \n",
       " critical_to_acute_label_recent_9hr acute_to_critical_label_max_9hr\n",
       " Min.   :0.000000                   Min.   :0.00000                \n",
       " 1st Qu.:0.000000                   1st Qu.:0.00000                \n",
       " Median :0.000000                   Median :0.00000                \n",
       " Mean   :0.008928                   Mean   :0.01492                \n",
       " 3rd Qu.:0.000000                   3rd Qu.:0.00000                \n",
       " Max.   :1.000000                   Max.   :1.00000                \n",
       "                                                                   \n",
       " critical_to_acute_label_max_9hr  label_max12     label_12hr_recent\n",
       " Min.   :0                       Min.   :0.0000   Min.   :0.0000   \n",
       " 1st Qu.:0                       1st Qu.:0.0000   1st Qu.:0.0000   \n",
       " Median :0                       Median :0.0000   Median :0.0000   \n",
       " Mean   :0                       Mean   :0.1239   Mean   :0.1104   \n",
       " 3rd Qu.:0                       3rd Qu.:0.0000   3rd Qu.:0.0000   \n",
       " Max.   :0                       Max.   :1.0000   Max.   :1.0000   \n",
       "                                                                   \n",
       " death_12hr_max_label death_12hr_recent_label\n",
       " Min.   :0.0000       Min.   :0.000          \n",
       " 1st Qu.:0.0000       1st Qu.:0.000          \n",
       " Median :0.0000       Median :0.000          \n",
       " Mean   :0.1245       Mean   :0.111          \n",
       " 3rd Qu.:0.0000       3rd Qu.:0.000          \n",
       " Max.   :1.0000       Max.   :1.000          \n",
       "                                             \n",
       " acute_to_critical_label_recent_12hr critical_to_acute_label_recent_12hr\n",
       " Min.   :0.00000                     Min.   :0.00000                    \n",
       " 1st Qu.:0.00000                     1st Qu.:0.00000                    \n",
       " Median :0.00000                     Median :0.00000                    \n",
       " Mean   :0.01572                     Mean   :0.01243                    \n",
       " 3rd Qu.:0.00000                     3rd Qu.:0.00000                    \n",
       " Max.   :1.00000                     Max.   :1.00000                    \n",
       "                                                                        \n",
       " acute_to_critical_label_max_12hr critical_to_acute_label_max_12hr\n",
       " Min.   :0.00000                  Min.   :0                       \n",
       " 1st Qu.:0.00000                  1st Qu.:0                       \n",
       " Median :0.00000                  Median :0                       \n",
       " Mean   :0.01677                  Mean   :0                       \n",
       " 3rd Qu.:0.00000                  3rd Qu.:0                       \n",
       " Max.   :1.00000                  Max.   :0                       \n",
       "                                                                  \n",
       "  label_max24     label_24hr_recent death_24hr_max_label\n",
       " Min.   :0.0000   Min.   :0.00000   Min.   :0.0000      \n",
       " 1st Qu.:0.0000   1st Qu.:0.00000   1st Qu.:0.0000      \n",
       " Median :0.0000   Median :0.00000   Median :0.0000      \n",
       " Mean   :0.1298   Mean   :0.08852   Mean   :0.1302      \n",
       " 3rd Qu.:0.0000   3rd Qu.:0.00000   3rd Qu.:0.0000      \n",
       " Max.   :1.0000   Max.   :1.00000   Max.   :1.0000      \n",
       "                                                        \n",
       " death_24hr_recent_label acute_to_critical_label_recent_24hr\n",
       " Min.   :0.00000         Min.   :0.00000                    \n",
       " 1st Qu.:0.00000         1st Qu.:0.00000                    \n",
       " Median :0.00000         Median :0.00000                    \n",
       " Mean   :0.08901         Mean   :0.01805                    \n",
       " 3rd Qu.:0.00000         3rd Qu.:0.00000                    \n",
       " Max.   :1.00000         Max.   :1.00000                    \n",
       "                                                            \n",
       " critical_to_acute_label_recent_24hr acute_to_critical_label_max_24hr\n",
       " Min.   :0.00000                     Min.   :0.0000                  \n",
       " 1st Qu.:0.00000                     1st Qu.:0.0000                  \n",
       " Median :0.00000                     Median :0.0000                  \n",
       " Mean   :0.03674                     Mean   :0.0225                  \n",
       " 3rd Qu.:0.00000                     3rd Qu.:0.0000                  \n",
       " Max.   :1.00000                     Max.   :1.0000                  \n",
       "                                                                     \n",
       " critical_to_acute_label_max_24hr\n",
       " Min.   :0                       \n",
       " 1st Qu.:0                       \n",
       " Median :0                       \n",
       " Mean   :0                       \n",
       " 3rd Qu.:0                       \n",
       " Max.   :0                       \n",
       "                                 "
      ]
     },
     "metadata": {},
     "output_type": "display_data"
    },
    {
     "data": {
      "text/plain": [
       "   anon_id          pat_enc_csn_id_coded   admit_time                 \n",
       " Length:51846       Min.   :1.311e+11    Min.   :2015-01-01 06:30:00  \n",
       " Class :character   1st Qu.:1.312e+11    1st Qu.:2016-12-18 00:58:15  \n",
       " Mode  :character   Median :1.313e+11    Median :2018-11-12 22:09:00  \n",
       "                    Mean   :1.312e+11    Mean   :2018-08-30 16:17:28  \n",
       "                    3rd Qu.:1.313e+11    3rd Qu.:2020-05-29 22:45:00  \n",
       "                    Max.   :1.313e+11    Max.   :2021-09-30 07:00:00  \n",
       "                                                                      \n",
       "   label_max3     label_3hr_recent  admit_label     has_admit_label \n",
       " Min.   :0.0000   Min.   :0.000    Min.   :0.0000   Min.   :0.0000  \n",
       " 1st Qu.:0.0000   1st Qu.:0.000    1st Qu.:0.0000   1st Qu.:1.0000  \n",
       " Median :0.0000   Median :0.000    Median :0.0000   Median :1.0000  \n",
       " Mean   :0.1086   Mean   :0.106    Mean   :0.1024   Mean   :0.9926  \n",
       " 3rd Qu.:0.0000   3rd Qu.:0.000    3rd Qu.:0.0000   3rd Qu.:1.0000  \n",
       " Max.   :1.0000   Max.   :1.000    Max.   :1.0000   Max.   :1.0000  \n",
       "                                   NA's   :384                      \n",
       " died_within_24hrs  death_3hr_max_label death_3hr_recent_label  first_label    \n",
       " Min.   :0.000000   Min.   :0.0000      Min.   :0.0000         Min.   :0.0000  \n",
       " 1st Qu.:0.000000   1st Qu.:0.0000      1st Qu.:0.0000         1st Qu.:0.0000  \n",
       " Median :0.000000   Median :0.0000      Median :0.0000         Median :0.0000  \n",
       " Mean   :0.001466   Mean   :0.1093      Mean   :0.1066         Mean   :0.1023  \n",
       " 3rd Qu.:0.000000   3rd Qu.:0.0000      3rd Qu.:0.0000         3rd Qu.:0.0000  \n",
       " Max.   :1.000000   Max.   :1.0000      Max.   :1.0000         Max.   :1.0000  \n",
       "                                                                               \n",
       " first_label_minutes_since_admit acute_to_critical_label_recent_3hr\n",
       " Min.   :  0.0000                Min.   :0.000000                  \n",
       " 1st Qu.:  0.0000                1st Qu.:0.000000                  \n",
       " Median :  0.0000                Median :0.000000                  \n",
       " Mean   :  0.4209                Mean   :0.006731                  \n",
       " 3rd Qu.:  0.0000                3rd Qu.:0.000000                  \n",
       " Max.   :179.0000                Max.   :1.000000                  \n",
       "                                                                   \n",
       " critical_to_acute_label_recent_3hr acute_to_critical_label_max_3hr\n",
       " Min.   :0.000000                   Min.   :0.000000               \n",
       " 1st Qu.:0.000000                   1st Qu.:0.000000               \n",
       " Median :0.000000                   Median :0.000000               \n",
       " Mean   :0.002392                   Mean   :0.006982               \n",
       " 3rd Qu.:0.000000                   3rd Qu.:0.000000               \n",
       " Max.   :1.000000                   Max.   :1.000000               \n",
       "                                                                   \n",
       " critical_to_acute_label_max_3hr   label_max6     label_6hr_recent\n",
       " Min.   :0                       Min.   :0.0000   Min.   :0.0000  \n",
       " 1st Qu.:0                       1st Qu.:0.0000   1st Qu.:0.0000  \n",
       " Median :0                       Median :0.0000   Median :0.0000  \n",
       " Mean   :0                       Mean   :0.1134   Mean   :0.1076  \n",
       " 3rd Qu.:0                       3rd Qu.:0.0000   3rd Qu.:0.0000  \n",
       " Max.   :0                       Max.   :1.0000   Max.   :1.0000  \n",
       "                                                                  \n",
       " death_6hr_max_label death_6hr_recent_label acute_to_critical_label_recent_6hr\n",
       " Min.   :0.000       Min.   :0.0000         Min.   :0.00000                   \n",
       " 1st Qu.:0.000       1st Qu.:0.0000         1st Qu.:0.00000                   \n",
       " Median :0.000       Median :0.0000         Median :0.00000                   \n",
       " Mean   :0.114       Mean   :0.1082         Mean   :0.01123                   \n",
       " 3rd Qu.:0.000       3rd Qu.:0.0000         3rd Qu.:0.00000                   \n",
       " Max.   :1.000       Max.   :1.0000         Max.   :1.00000                   \n",
       "                                                                              \n",
       " critical_to_acute_label_recent_6hr acute_to_critical_label_max_6hr\n",
       " Min.   :0.000000                   Min.   :0.00000                \n",
       " 1st Qu.:0.000000                   1st Qu.:0.00000                \n",
       " Median :0.000000                   Median :0.00000                \n",
       " Mean   :0.005266                   Mean   :0.01169                \n",
       " 3rd Qu.:0.000000                   3rd Qu.:0.00000                \n",
       " Max.   :1.000000                   Max.   :1.00000                \n",
       "                                                                   \n",
       " critical_to_acute_label_max_6hr   label_max9     label_9hr_recent\n",
       " Min.   :0                       Min.   :0.0000   Min.   :0.0000  \n",
       " 1st Qu.:0                       1st Qu.:0.0000   1st Qu.:0.0000  \n",
       " Median :0                       Median :0.0000   Median :0.0000  \n",
       " Mean   :0                       Mean   :0.1165   Mean   :0.1079  \n",
       " 3rd Qu.:0                       3rd Qu.:0.0000   3rd Qu.:0.0000  \n",
       " Max.   :0                       Max.   :1.0000   Max.   :1.0000  \n",
       "                                                                  \n",
       " death_9hr_max_label death_9hr_recent_label acute_to_critical_label_recent_9hr\n",
       " Min.   :0.0000      Min.   :0.0000         Min.   :0.00000                   \n",
       " 1st Qu.:0.0000      1st Qu.:0.0000         1st Qu.:0.00000                   \n",
       " Median :0.0000      Median :0.0000         Median :0.00000                   \n",
       " Mean   :0.1171      Mean   :0.1085         Mean   :0.01402                   \n",
       " 3rd Qu.:0.0000      3rd Qu.:0.0000         3rd Qu.:0.00000                   \n",
       " Max.   :1.0000      Max.   :1.0000         Max.   :1.00000                   \n",
       "                                                                              \n",
       " critical_to_acute_label_recent_9hr acute_to_critical_label_max_9hr\n",
       " Min.   :0.000000                   Min.   :0.00000                \n",
       " 1st Qu.:0.000000                   1st Qu.:0.00000                \n",
       " Median :0.000000                   Median :0.00000                \n",
       " Mean   :0.007831                   Mean   :0.01477                \n",
       " 3rd Qu.:0.000000                   3rd Qu.:0.00000                \n",
       " Max.   :1.000000                   Max.   :1.00000                \n",
       "                                                                   \n",
       " critical_to_acute_label_max_9hr  label_max12     label_12hr_recent\n",
       " Min.   :0                       Min.   :0.0000   Min.   :0.0000   \n",
       " 1st Qu.:0                       1st Qu.:0.0000   1st Qu.:0.0000   \n",
       " Median :0                       Median :0.0000   Median :0.0000   \n",
       " Mean   :0                       Mean   :0.1184   Mean   :0.1064   \n",
       " 3rd Qu.:0                       3rd Qu.:0.0000   3rd Qu.:0.0000   \n",
       " Max.   :0                       Max.   :1.0000   Max.   :1.0000   \n",
       "                                                                   \n",
       " death_12hr_max_label death_12hr_recent_label\n",
       " Min.   :0.0000       Min.   :0.000          \n",
       " 1st Qu.:0.0000       1st Qu.:0.000          \n",
       " Median :0.0000       Median :0.000          \n",
       " Mean   :0.1189       Mean   :0.107          \n",
       " 3rd Qu.:0.0000       3rd Qu.:0.000          \n",
       " Max.   :1.0000       Max.   :1.000          \n",
       "                                             \n",
       " acute_to_critical_label_recent_12hr critical_to_acute_label_recent_12hr\n",
       " Min.   :0.00000                     Min.   :0.00000                    \n",
       " 1st Qu.:0.00000                     1st Qu.:0.00000                    \n",
       " Median :0.00000                     Median :0.00000                    \n",
       " Mean   :0.01564                     Mean   :0.01092                    \n",
       " 3rd Qu.:0.00000                     3rd Qu.:0.00000                    \n",
       " Max.   :1.00000                     Max.   :1.00000                    \n",
       "                                                                        \n",
       " acute_to_critical_label_max_12hr critical_to_acute_label_max_12hr\n",
       " Min.   :0.00000                  Min.   :0                       \n",
       " 1st Qu.:0.00000                  1st Qu.:0                       \n",
       " Median :0.00000                  Median :0                       \n",
       " Mean   :0.01665                  Mean   :0                       \n",
       " 3rd Qu.:0.00000                  3rd Qu.:0                       \n",
       " Max.   :1.00000                  Max.   :0                       \n",
       "                                                                  \n",
       "  label_max24     label_24hr_recent death_24hr_max_label\n",
       " Min.   :0.0000   Min.   :0.00000   Min.   :0.0000      \n",
       " 1st Qu.:0.0000   1st Qu.:0.00000   1st Qu.:0.0000      \n",
       " Median :0.0000   Median :0.00000   Median :0.0000      \n",
       " Mean   :0.1242   Mean   :0.08595   Mean   :0.1246      \n",
       " 3rd Qu.:0.0000   3rd Qu.:0.00000   3rd Qu.:0.0000      \n",
       " Max.   :1.0000   Max.   :1.00000   Max.   :1.0000      \n",
       "                                                        \n",
       " death_24hr_recent_label acute_to_critical_label_recent_24hr\n",
       " Min.   :0.00000         Min.   :0.00000                    \n",
       " 1st Qu.:0.00000         1st Qu.:0.00000                    \n",
       " Median :0.00000         Median :0.00000                    \n",
       " Mean   :0.08643         Mean   :0.01792                    \n",
       " 3rd Qu.:0.00000         3rd Qu.:0.00000                    \n",
       " Max.   :1.00000         Max.   :1.00000                    \n",
       "                                                            \n",
       " critical_to_acute_label_recent_24hr acute_to_critical_label_max_24hr\n",
       " Min.   :0.00000                     Min.   :0.00000                 \n",
       " 1st Qu.:0.00000                     1st Qu.:0.00000                 \n",
       " Median :0.00000                     Median :0.00000                 \n",
       " Mean   :0.03377                     Mean   :0.02235                 \n",
       " 3rd Qu.:0.00000                     3rd Qu.:0.00000                 \n",
       " Max.   :1.00000                     Max.   :1.00000                 \n",
       "                                                                     \n",
       " critical_to_acute_label_max_24hr\n",
       " Min.   :0                       \n",
       " 1st Qu.:0                       \n",
       " Median :0                       \n",
       " Mean   :0                       \n",
       " 3rd Qu.:0                       \n",
       " Max.   :0                       \n",
       "                                 "
      ]
     },
     "metadata": {},
     "output_type": "display_data"
    }
   ],
   "source": [
    "summary(coh4noOR)\n",
    "summary(coh4noORnoDKA)"
   ]
  },
  {
   "cell_type": "code",
   "execution_count": 7,
   "metadata": {},
   "outputs": [
    {
     "name": "stderr",
     "output_type": "stream",
     "text": [
      "\n",
      "\u001b[36m──\u001b[39m \u001b[1m\u001b[1mColumn specification\u001b[1m\u001b[22m \u001b[36m────────────────────────────────────────────────────────\u001b[39m\n",
      "cols(\n",
      "  anon_id = \u001b[31mcol_character()\u001b[39m,\n",
      "  pat_enc_csn_id_coded = \u001b[32mcol_double()\u001b[39m,\n",
      "  admit_time = \u001b[34mcol_datetime(format = \"\")\u001b[39m,\n",
      "  first_ed_time = \u001b[34mcol_datetime(format = \"\")\u001b[39m,\n",
      "  hours_in_ed = \u001b[32mcol_double()\u001b[39m\n",
      ")\n",
      "\n",
      "\n"
     ]
    },
    {
     "data": {
      "text/html": [
       "52532"
      ],
      "text/latex": [
       "52532"
      ],
      "text/markdown": [
       "52532"
      ],
      "text/plain": [
       "[1] 52532"
      ]
     },
     "metadata": {},
     "output_type": "display_data"
    },
    {
     "data": {
      "text/html": [
       "52532"
      ],
      "text/latex": [
       "52532"
      ],
      "text/markdown": [
       "52532"
      ],
      "text/plain": [
       "[1] 52532"
      ]
     },
     "metadata": {},
     "output_type": "display_data"
    },
    {
     "name": "stderr",
     "output_type": "stream",
     "text": [
      "\n",
      "\u001b[36m──\u001b[39m \u001b[1m\u001b[1mColumn specification\u001b[1m\u001b[22m \u001b[36m────────────────────────────────────────────────────────\u001b[39m\n",
      "cols(\n",
      "  anon_id = \u001b[31mcol_character()\u001b[39m,\n",
      "  pat_enc_csn_id_coded = \u001b[32mcol_double()\u001b[39m,\n",
      "  admit_time = \u001b[34mcol_datetime(format = \"\")\u001b[39m,\n",
      "  first_ed_time = \u001b[34mcol_datetime(format = \"\")\u001b[39m\n",
      ")\n",
      "\n",
      "\n"
     ]
    }
   ],
   "source": [
    "firstEDtime <- read_csv(file.path(outdir, \"9_door_to_dispo_time.csv\"))\n",
    "nrow(firstEDtime)\n",
    "length(unique(firstEDtime$pat_enc_csn_id_coded))\n",
    "\n",
    "# 9_cohort4_3hr_noOR_first_ed_time is just a subset of 2 cols less without pat_csn and first_ed_time\n",
    "firstEDtime2 <- read_csv(file.path(outdir, \"9_cohort4_3hr_noOR_first_ed_time.csv\"))\n",
    "# nrow(firstEDtime2)\n",
    "# length(unique(firstEDtime2$pat_enc_csn_id_coded))"
   ]
  },
  {
   "cell_type": "code",
   "execution_count": 8,
   "metadata": {},
   "outputs": [
    {
     "data": {
      "text/html": [
       "<table class=\"dataframe\">\n",
       "<caption>A tibble: 3 × 5</caption>\n",
       "<thead>\n",
       "\t<tr><th scope=col>anon_id</th><th scope=col>pat_enc_csn_id_coded</th><th scope=col>admit_time</th><th scope=col>first_ed_time</th><th scope=col>hours_in_ed</th></tr>\n",
       "\t<tr><th scope=col>&lt;chr&gt;</th><th scope=col>&lt;dbl&gt;</th><th scope=col>&lt;dttm&gt;</th><th scope=col>&lt;dttm&gt;</th><th scope=col>&lt;dbl&gt;</th></tr>\n",
       "</thead>\n",
       "<tbody>\n",
       "\t<tr><td>JC1170548</td><td>131062572931</td><td>2015-01-02 03:48:00</td><td>2015-01-01 18:40:00</td><td>9.13</td></tr>\n",
       "\t<tr><td>JC913990 </td><td>131062745090</td><td>2015-01-02 05:53:00</td><td>2015-01-02 01:56:00</td><td>3.95</td></tr>\n",
       "\t<tr><td>JC529112 </td><td>131062927111</td><td>2015-01-05 03:20:00</td><td>2015-01-04 18:13:00</td><td>9.12</td></tr>\n",
       "</tbody>\n",
       "</table>\n"
      ],
      "text/latex": [
       "A tibble: 3 × 5\n",
       "\\begin{tabular}{lllll}\n",
       " anon\\_id & pat\\_enc\\_csn\\_id\\_coded & admit\\_time & first\\_ed\\_time & hours\\_in\\_ed\\\\\n",
       " <chr> & <dbl> & <dttm> & <dttm> & <dbl>\\\\\n",
       "\\hline\n",
       "\t JC1170548 & 131062572931 & 2015-01-02 03:48:00 & 2015-01-01 18:40:00 & 9.13\\\\\n",
       "\t JC913990  & 131062745090 & 2015-01-02 05:53:00 & 2015-01-02 01:56:00 & 3.95\\\\\n",
       "\t JC529112  & 131062927111 & 2015-01-05 03:20:00 & 2015-01-04 18:13:00 & 9.12\\\\\n",
       "\\end{tabular}\n"
      ],
      "text/markdown": [
       "\n",
       "A tibble: 3 × 5\n",
       "\n",
       "| anon_id &lt;chr&gt; | pat_enc_csn_id_coded &lt;dbl&gt; | admit_time &lt;dttm&gt; | first_ed_time &lt;dttm&gt; | hours_in_ed &lt;dbl&gt; |\n",
       "|---|---|---|---|---|\n",
       "| JC1170548 | 131062572931 | 2015-01-02 03:48:00 | 2015-01-01 18:40:00 | 9.13 |\n",
       "| JC913990  | 131062745090 | 2015-01-02 05:53:00 | 2015-01-02 01:56:00 | 3.95 |\n",
       "| JC529112  | 131062927111 | 2015-01-05 03:20:00 | 2015-01-04 18:13:00 | 9.12 |\n",
       "\n"
      ],
      "text/plain": [
       "  anon_id   pat_enc_csn_id_coded admit_time          first_ed_time      \n",
       "1 JC1170548 131062572931         2015-01-02 03:48:00 2015-01-01 18:40:00\n",
       "2 JC913990  131062745090         2015-01-02 05:53:00 2015-01-02 01:56:00\n",
       "3 JC529112  131062927111         2015-01-05 03:20:00 2015-01-04 18:13:00\n",
       "  hours_in_ed\n",
       "1 9.13       \n",
       "2 3.95       \n",
       "3 9.12       "
      ]
     },
     "metadata": {},
     "output_type": "display_data"
    }
   ],
   "source": [
    "head(firstEDtime, 3)"
   ]
  },
  {
   "cell_type": "code",
   "execution_count": 9,
   "metadata": {},
   "outputs": [
    {
     "data": {
      "text/plain": [
       "   anon_id          pat_enc_csn_id_coded   admit_time                 \n",
       " Length:52532       Min.   :1.311e+11    Min.   :2015-01-01 06:30:00  \n",
       " Class :character   1st Qu.:1.312e+11    1st Qu.:2016-12-19 23:49:45  \n",
       " Mode  :character   Median :1.313e+11    Median :2018-11-14 01:22:00  \n",
       "                    Mean   :1.312e+11    Mean   :2018-08-31 11:06:06  \n",
       "                    3rd Qu.:1.313e+11    3rd Qu.:2020-05-28 22:04:00  \n",
       "                    Max.   :1.313e+11    Max.   :2021-09-30 07:00:00  \n",
       " first_ed_time                  hours_in_ed    \n",
       " Min.   :2015-01-01 00:02:00   Min.   :  0.02  \n",
       " 1st Qu.:2016-12-19 21:52:15   1st Qu.:  2.30  \n",
       " Median :2018-11-13 21:34:00   Median :  3.50  \n",
       " Mean   :2018-08-31 06:17:30   Mean   :  4.81  \n",
       " 3rd Qu.:2020-05-28 10:47:45   3rd Qu.:  5.25  \n",
       " Max.   :2021-09-30 06:28:00   Max.   :190.43  "
      ]
     },
     "metadata": {},
     "output_type": "display_data"
    }
   ],
   "source": [
    "summary(firstEDtime)"
   ]
  },
  {
   "cell_type": "code",
   "execution_count": 10,
   "metadata": {},
   "outputs": [
    {
     "name": "stderr",
     "output_type": "stream",
     "text": [
      "\n",
      "\u001b[36m──\u001b[39m \u001b[1m\u001b[1mColumn specification\u001b[1m\u001b[22m \u001b[36m────────────────────────────────────────────────────────\u001b[39m\n",
      "cols(\n",
      "  .default = col_character(),\n",
      "  pat_enc_csn_id_coded = \u001b[32mcol_double()\u001b[39m,\n",
      "  admit_time = \u001b[34mcol_datetime(format = \"\")\u001b[39m,\n",
      "  first_ed_time = \u001b[34mcol_datetime(format = \"\")\u001b[39m,\n",
      "  hours_in_ed = \u001b[32mcol_double()\u001b[39m,\n",
      "  discharge_time = \u001b[34mcol_datetime(format = \"\")\u001b[39m,\n",
      "  end_date = \u001b[34mcol_date(format = \"\")\u001b[39m,\n",
      "  hours_ip_since_admit = \u001b[32mcol_double()\u001b[39m,\n",
      "  hours_ED_entry_end_date = \u001b[32mcol_double()\u001b[39m,\n",
      "  died_before_discharge = \u001b[33mcol_logical()\u001b[39m,\n",
      "  last_emerg_lv_of_care = \u001b[33mcol_logical()\u001b[39m,\n",
      "  hr_to_first_loc_change = \u001b[32mcol_double()\u001b[39m,\n",
      "  personel_count = \u001b[32mcol_double()\u001b[39m\n",
      ")\n",
      "\u001b[36mℹ\u001b[39m Use \u001b[30m\u001b[47m\u001b[30m\u001b[47m`spec()`\u001b[47m\u001b[30m\u001b[49m\u001b[39m for the full column specifications.\n",
      "\n",
      "\n",
      "Warning message:\n",
      "“308 parsing failures.\n",
      " row                   col           expected                                       actual                                              file\n",
      "4014 last_emerg_lv_of_care 1/0/T/F/TRUE/FALSE Intermediate Care - With Cardiac Monitor     '../../OutputTD/shc2021/9_all_traj_time_team.csv'\n",
      "5812 last_emerg_lv_of_care 1/0/T/F/TRUE/FALSE Intermediate Care - With Cardiac Monitor     '../../OutputTD/shc2021/9_all_traj_time_team.csv'\n",
      "6423 last_emerg_lv_of_care 1/0/T/F/TRUE/FALSE Acute Care (Assessment or intervention q4-8) '../../OutputTD/shc2021/9_all_traj_time_team.csv'\n",
      "6467 last_emerg_lv_of_care 1/0/T/F/TRUE/FALSE Intermediate Care - No Cardiac Monitor       '../../OutputTD/shc2021/9_all_traj_time_team.csv'\n",
      "6937 last_emerg_lv_of_care 1/0/T/F/TRUE/FALSE Acute Care (Assessment or intervention q4-8) '../../OutputTD/shc2021/9_all_traj_time_team.csv'\n",
      ".... ..................... .................. ............................................ .................................................\n",
      "See problems(...) for more details.\n",
      "”\n"
     ]
    },
    {
     "data": {
      "text/html": [
       "52532"
      ],
      "text/latex": [
       "52532"
      ],
      "text/markdown": [
       "52532"
      ],
      "text/plain": [
       "[1] 52532"
      ]
     },
     "metadata": {},
     "output_type": "display_data"
    },
    {
     "data": {
      "text/html": [
       "6615"
      ],
      "text/latex": [
       "6615"
      ],
      "text/markdown": [
       "6615"
      ],
      "text/plain": [
       "[1] 6615"
      ]
     },
     "metadata": {},
     "output_type": "display_data"
    },
    {
     "data": {
      "text/html": [
       "52532"
      ],
      "text/latex": [
       "52532"
      ],
      "text/markdown": [
       "52532"
      ],
      "text/plain": [
       "[1] 52532"
      ]
     },
     "metadata": {},
     "output_type": "display_data"
    },
    {
     "data": {
      "text/html": [
       "12.5923246782913"
      ],
      "text/latex": [
       "12.5923246782913"
      ],
      "text/markdown": [
       "12.5923246782913"
      ],
      "text/plain": [
       "[1] 12.59232"
      ]
     },
     "metadata": {},
     "output_type": "display_data"
    },
    {
     "data": {
      "text/html": [
       "6615"
      ],
      "text/latex": [
       "6615"
      ],
      "text/markdown": [
       "6615"
      ],
      "text/plain": [
       "[1] 6615"
      ]
     },
     "metadata": {},
     "output_type": "display_data"
    }
   ],
   "source": [
    "# those with LOC changes within the first 24 hours since inpatient admission\n",
    "# loc_change <- read_csv(file.path(outdir, \"9_first_loc_change_time.csv\")) # %>% mutate(admit_time = ymd_hms(admit_time))\n",
    "all <- read_csv(file.path(outdir, \"9_all_traj_time_team.csv\")) # %>% mutate(admit_time = ymd_hms(admit_time))\n",
    "nrow(all)\n",
    "loc_change <- all %>% select(anon_id, pat_enc_csn_id_coded, hr_to_first_loc_change) %>% filter(!is.na(hr_to_first_loc_change)) #%>% distinct()\n",
    "n_loc_change = nrow(loc_change) \n",
    "n_loc_change\n",
    "nOR\n",
    "n_loc_change/nOR * 100\n",
    "length(unique(loc_change$pat_enc_csn_id_coded))"
   ]
  },
  {
   "cell_type": "code",
   "execution_count": 11,
   "metadata": {},
   "outputs": [
    {
     "data": {
      "text/html": [
       "<table class=\"dataframe\">\n",
       "<caption>A tibble: 1 × 20</caption>\n",
       "<thead>\n",
       "\t<tr><th scope=col>anon_id</th><th scope=col>pat_enc_csn_id_coded</th><th scope=col>admit_time</th><th scope=col>first_ed_time</th><th scope=col>hours_in_ed</th><th scope=col>discharge_time</th><th scope=col>end_date</th><th scope=col>hours_ip_since_admit</th><th scope=col>hours_ED_entry_end_date</th><th scope=col>died_before_discharge</th><th scope=col>first_ip_lv_of_care</th><th scope=col>first_ip_event_type</th><th scope=col>first_ip_pat_service</th><th scope=col>last_emerg_lv_of_care</th><th scope=col>last_emerg_event_type</th><th scope=col>last_emerg_pat_service</th><th scope=col>pat_loc_traj</th><th scope=col>pat_serv_traj</th><th scope=col>hr_to_first_loc_change</th><th scope=col>personel_count</th></tr>\n",
       "\t<tr><th scope=col>&lt;chr&gt;</th><th scope=col>&lt;dbl&gt;</th><th scope=col>&lt;dttm&gt;</th><th scope=col>&lt;dttm&gt;</th><th scope=col>&lt;dbl&gt;</th><th scope=col>&lt;dttm&gt;</th><th scope=col>&lt;date&gt;</th><th scope=col>&lt;dbl&gt;</th><th scope=col>&lt;dbl&gt;</th><th scope=col>&lt;lgl&gt;</th><th scope=col>&lt;chr&gt;</th><th scope=col>&lt;chr&gt;</th><th scope=col>&lt;chr&gt;</th><th scope=col>&lt;lgl&gt;</th><th scope=col>&lt;chr&gt;</th><th scope=col>&lt;chr&gt;</th><th scope=col>&lt;chr&gt;</th><th scope=col>&lt;chr&gt;</th><th scope=col>&lt;dbl&gt;</th><th scope=col>&lt;dbl&gt;</th></tr>\n",
       "</thead>\n",
       "<tbody>\n",
       "\t<tr><td>JC1170548</td><td>131062572931</td><td>2015-01-02 03:48:00</td><td>2015-01-01 18:40:00</td><td>9.13</td><td>2015-01-03 21:52:00</td><td>2015-01-03</td><td>24</td><td>48</td><td>NA</td><td>Intermediate Care - With Cardiac Monitor</td><td>Transfer In</td><td>General Medicine (University)</td><td>NA</td><td>Transfer Out</td><td>Emergency</td><td>['Intermediate Care - With Cardiac Monitor']</td><td>['Emergency', 'General Medicine (University)']</td><td>NA</td><td>4</td></tr>\n",
       "</tbody>\n",
       "</table>\n"
      ],
      "text/latex": [
       "A tibble: 1 × 20\n",
       "\\begin{tabular}{llllllllllllllllllll}\n",
       " anon\\_id & pat\\_enc\\_csn\\_id\\_coded & admit\\_time & first\\_ed\\_time & hours\\_in\\_ed & discharge\\_time & end\\_date & hours\\_ip\\_since\\_admit & hours\\_ED\\_entry\\_end\\_date & died\\_before\\_discharge & first\\_ip\\_lv\\_of\\_care & first\\_ip\\_event\\_type & first\\_ip\\_pat\\_service & last\\_emerg\\_lv\\_of\\_care & last\\_emerg\\_event\\_type & last\\_emerg\\_pat\\_service & pat\\_loc\\_traj & pat\\_serv\\_traj & hr\\_to\\_first\\_loc\\_change & personel\\_count\\\\\n",
       " <chr> & <dbl> & <dttm> & <dttm> & <dbl> & <dttm> & <date> & <dbl> & <dbl> & <lgl> & <chr> & <chr> & <chr> & <lgl> & <chr> & <chr> & <chr> & <chr> & <dbl> & <dbl>\\\\\n",
       "\\hline\n",
       "\t JC1170548 & 131062572931 & 2015-01-02 03:48:00 & 2015-01-01 18:40:00 & 9.13 & 2015-01-03 21:52:00 & 2015-01-03 & 24 & 48 & NA & Intermediate Care - With Cardiac Monitor & Transfer In & General Medicine (University) & NA & Transfer Out & Emergency & {[}'Intermediate Care - With Cardiac Monitor'{]} & {[}'Emergency', 'General Medicine (University)'{]} & NA & 4\\\\\n",
       "\\end{tabular}\n"
      ],
      "text/markdown": [
       "\n",
       "A tibble: 1 × 20\n",
       "\n",
       "| anon_id &lt;chr&gt; | pat_enc_csn_id_coded &lt;dbl&gt; | admit_time &lt;dttm&gt; | first_ed_time &lt;dttm&gt; | hours_in_ed &lt;dbl&gt; | discharge_time &lt;dttm&gt; | end_date &lt;date&gt; | hours_ip_since_admit &lt;dbl&gt; | hours_ED_entry_end_date &lt;dbl&gt; | died_before_discharge &lt;lgl&gt; | first_ip_lv_of_care &lt;chr&gt; | first_ip_event_type &lt;chr&gt; | first_ip_pat_service &lt;chr&gt; | last_emerg_lv_of_care &lt;lgl&gt; | last_emerg_event_type &lt;chr&gt; | last_emerg_pat_service &lt;chr&gt; | pat_loc_traj &lt;chr&gt; | pat_serv_traj &lt;chr&gt; | hr_to_first_loc_change &lt;dbl&gt; | personel_count &lt;dbl&gt; |\n",
       "|---|---|---|---|---|---|---|---|---|---|---|---|---|---|---|---|---|---|---|---|\n",
       "| JC1170548 | 131062572931 | 2015-01-02 03:48:00 | 2015-01-01 18:40:00 | 9.13 | 2015-01-03 21:52:00 | 2015-01-03 | 24 | 48 | NA | Intermediate Care - With Cardiac Monitor | Transfer In | General Medicine (University) | NA | Transfer Out | Emergency | ['Intermediate Care - With Cardiac Monitor'] | ['Emergency', 'General Medicine (University)'] | NA | 4 |\n",
       "\n"
      ],
      "text/plain": [
       "  anon_id   pat_enc_csn_id_coded admit_time          first_ed_time      \n",
       "1 JC1170548 131062572931         2015-01-02 03:48:00 2015-01-01 18:40:00\n",
       "  hours_in_ed discharge_time      end_date   hours_ip_since_admit\n",
       "1 9.13        2015-01-03 21:52:00 2015-01-03 24                  \n",
       "  hours_ED_entry_end_date died_before_discharge\n",
       "1 48                      NA                   \n",
       "  first_ip_lv_of_care                      first_ip_event_type\n",
       "1 Intermediate Care - With Cardiac Monitor Transfer In        \n",
       "  first_ip_pat_service          last_emerg_lv_of_care last_emerg_event_type\n",
       "1 General Medicine (University) NA                    Transfer Out         \n",
       "  last_emerg_pat_service pat_loc_traj                                \n",
       "1 Emergency              ['Intermediate Care - With Cardiac Monitor']\n",
       "  pat_serv_traj                                  hr_to_first_loc_change\n",
       "1 ['Emergency', 'General Medicine (University)'] NA                    \n",
       "  personel_count\n",
       "1 4             "
      ]
     },
     "metadata": {},
     "output_type": "display_data"
    },
    {
     "data": {
      "text/html": [
       "<table class=\"dataframe\">\n",
       "<caption>A tibble: 3 × 3</caption>\n",
       "<thead>\n",
       "\t<tr><th scope=col>anon_id</th><th scope=col>pat_enc_csn_id_coded</th><th scope=col>hr_to_first_loc_change</th></tr>\n",
       "\t<tr><th scope=col>&lt;chr&gt;</th><th scope=col>&lt;dbl&gt;</th><th scope=col>&lt;dbl&gt;</th></tr>\n",
       "</thead>\n",
       "<tbody>\n",
       "\t<tr><td>JC626278 </td><td>131064103797</td><td>12.82</td></tr>\n",
       "\t<tr><td>JC1729448</td><td>131064484335</td><td>17.75</td></tr>\n",
       "\t<tr><td>JC997878 </td><td>131064522540</td><td> 5.83</td></tr>\n",
       "</tbody>\n",
       "</table>\n"
      ],
      "text/latex": [
       "A tibble: 3 × 3\n",
       "\\begin{tabular}{lll}\n",
       " anon\\_id & pat\\_enc\\_csn\\_id\\_coded & hr\\_to\\_first\\_loc\\_change\\\\\n",
       " <chr> & <dbl> & <dbl>\\\\\n",
       "\\hline\n",
       "\t JC626278  & 131064103797 & 12.82\\\\\n",
       "\t JC1729448 & 131064484335 & 17.75\\\\\n",
       "\t JC997878  & 131064522540 &  5.83\\\\\n",
       "\\end{tabular}\n"
      ],
      "text/markdown": [
       "\n",
       "A tibble: 3 × 3\n",
       "\n",
       "| anon_id &lt;chr&gt; | pat_enc_csn_id_coded &lt;dbl&gt; | hr_to_first_loc_change &lt;dbl&gt; |\n",
       "|---|---|---|\n",
       "| JC626278  | 131064103797 | 12.82 |\n",
       "| JC1729448 | 131064484335 | 17.75 |\n",
       "| JC997878  | 131064522540 |  5.83 |\n",
       "\n"
      ],
      "text/plain": [
       "  anon_id   pat_enc_csn_id_coded hr_to_first_loc_change\n",
       "1 JC626278  131064103797         12.82                 \n",
       "2 JC1729448 131064484335         17.75                 \n",
       "3 JC997878  131064522540          5.83                 "
      ]
     },
     "metadata": {},
     "output_type": "display_data"
    }
   ],
   "source": [
    "head(all, 1)\n",
    "head(loc_change, 3)"
   ]
  },
  {
   "cell_type": "code",
   "execution_count": 12,
   "metadata": {},
   "outputs": [
    {
     "name": "stderr",
     "output_type": "stream",
     "text": [
      "Joining, by = \"pat_enc_csn_id_coded\"\n",
      "\n"
     ]
    },
    {
     "data": {
      "text/html": [
       "52532"
      ],
      "text/latex": [
       "52532"
      ],
      "text/markdown": [
       "52532"
      ],
      "text/plain": [
       "[1] 52532"
      ]
     },
     "metadata": {},
     "output_type": "display_data"
    },
    {
     "data": {
      "text/html": [
       "52532"
      ],
      "text/latex": [
       "52532"
      ],
      "text/markdown": [
       "52532"
      ],
      "text/plain": [
       "[1] 52532"
      ]
     },
     "metadata": {},
     "output_type": "display_data"
    }
   ],
   "source": [
    "loc_change <- coh4noOR %>% select(pat_enc_csn_id_coded, acute_to_critical_label_recent_3hr, critical_to_acute_label_recent_3hr,\n",
    "                                  acute_to_critical_label_recent_24hr, critical_to_acute_label_recent_24hr) %>%\n",
    "                    left_join(loc_change)\n",
    "nrow(loc_change) \n",
    "length(unique(loc_change$pat_enc_csn_id_coded))"
   ]
  },
  {
   "cell_type": "code",
   "execution_count": 13,
   "metadata": {},
   "outputs": [
    {
     "data": {
      "text/html": [
       "<table class=\"dataframe\">\n",
       "<caption>A tibble: 3 × 7</caption>\n",
       "<thead>\n",
       "\t<tr><th scope=col>pat_enc_csn_id_coded</th><th scope=col>acute_to_critical_label_recent_3hr</th><th scope=col>critical_to_acute_label_recent_3hr</th><th scope=col>acute_to_critical_label_recent_24hr</th><th scope=col>critical_to_acute_label_recent_24hr</th><th scope=col>anon_id</th><th scope=col>hr_to_first_loc_change</th></tr>\n",
       "\t<tr><th scope=col>&lt;dbl&gt;</th><th scope=col>&lt;dbl&gt;</th><th scope=col>&lt;dbl&gt;</th><th scope=col>&lt;dbl&gt;</th><th scope=col>&lt;dbl&gt;</th><th scope=col>&lt;chr&gt;</th><th scope=col>&lt;dbl&gt;</th></tr>\n",
       "</thead>\n",
       "<tbody>\n",
       "\t<tr><td>131066472308</td><td>0</td><td>0</td><td>0</td><td>0</td><td>NA</td><td>NA</td></tr>\n",
       "\t<tr><td>131295313275</td><td>0</td><td>0</td><td>0</td><td>0</td><td>NA</td><td>NA</td></tr>\n",
       "\t<tr><td>131100574537</td><td>0</td><td>0</td><td>0</td><td>0</td><td>NA</td><td>NA</td></tr>\n",
       "</tbody>\n",
       "</table>\n"
      ],
      "text/latex": [
       "A tibble: 3 × 7\n",
       "\\begin{tabular}{lllllll}\n",
       " pat\\_enc\\_csn\\_id\\_coded & acute\\_to\\_critical\\_label\\_recent\\_3hr & critical\\_to\\_acute\\_label\\_recent\\_3hr & acute\\_to\\_critical\\_label\\_recent\\_24hr & critical\\_to\\_acute\\_label\\_recent\\_24hr & anon\\_id & hr\\_to\\_first\\_loc\\_change\\\\\n",
       " <dbl> & <dbl> & <dbl> & <dbl> & <dbl> & <chr> & <dbl>\\\\\n",
       "\\hline\n",
       "\t 131066472308 & 0 & 0 & 0 & 0 & NA & NA\\\\\n",
       "\t 131295313275 & 0 & 0 & 0 & 0 & NA & NA\\\\\n",
       "\t 131100574537 & 0 & 0 & 0 & 0 & NA & NA\\\\\n",
       "\\end{tabular}\n"
      ],
      "text/markdown": [
       "\n",
       "A tibble: 3 × 7\n",
       "\n",
       "| pat_enc_csn_id_coded &lt;dbl&gt; | acute_to_critical_label_recent_3hr &lt;dbl&gt; | critical_to_acute_label_recent_3hr &lt;dbl&gt; | acute_to_critical_label_recent_24hr &lt;dbl&gt; | critical_to_acute_label_recent_24hr &lt;dbl&gt; | anon_id &lt;chr&gt; | hr_to_first_loc_change &lt;dbl&gt; |\n",
       "|---|---|---|---|---|---|---|\n",
       "| 131066472308 | 0 | 0 | 0 | 0 | NA | NA |\n",
       "| 131295313275 | 0 | 0 | 0 | 0 | NA | NA |\n",
       "| 131100574537 | 0 | 0 | 0 | 0 | NA | NA |\n",
       "\n"
      ],
      "text/plain": [
       "  pat_enc_csn_id_coded acute_to_critical_label_recent_3hr\n",
       "1 131066472308         0                                 \n",
       "2 131295313275         0                                 \n",
       "3 131100574537         0                                 \n",
       "  critical_to_acute_label_recent_3hr acute_to_critical_label_recent_24hr\n",
       "1 0                                  0                                  \n",
       "2 0                                  0                                  \n",
       "3 0                                  0                                  \n",
       "  critical_to_acute_label_recent_24hr anon_id hr_to_first_loc_change\n",
       "1 0                                   NA      NA                    \n",
       "2 0                                   NA      NA                    \n",
       "3 0                                   NA      NA                    "
      ]
     },
     "metadata": {},
     "output_type": "display_data"
    }
   ],
   "source": [
    "head(loc_change, 3)"
   ]
  },
  {
   "cell_type": "code",
   "execution_count": 14,
   "metadata": {},
   "outputs": [
    {
     "data": {
      "text/plain": [
       " pat_enc_csn_id_coded acute_to_critical_label_recent_3hr\n",
       " Min.   :1.311e+11    Min.   :0.0000                    \n",
       " 1st Qu.:1.312e+11    1st Qu.:0.0000                    \n",
       " Median :1.313e+11    Median :0.0000                    \n",
       " Mean   :1.312e+11    Mean   :0.2637                    \n",
       " 3rd Qu.:1.313e+11    3rd Qu.:1.0000                    \n",
       " Max.   :1.313e+11    Max.   :1.0000                    \n",
       "                                                        \n",
       " critical_to_acute_label_recent_3hr acute_to_critical_label_recent_24hr\n",
       " Min.   :0                          Min.   :1                          \n",
       " 1st Qu.:0                          1st Qu.:1                          \n",
       " Median :0                          Median :1                          \n",
       " Mean   :0                          Mean   :1                          \n",
       " 3rd Qu.:0                          3rd Qu.:1                          \n",
       " Max.   :0                          Max.   :1                          \n",
       "                                                                       \n",
       " critical_to_acute_label_recent_24hr   anon_id          hr_to_first_loc_change\n",
       " Min.   :0                           Length:948         Min.   : 0.020        \n",
       " 1st Qu.:0                           Class :character   1st Qu.: 2.775        \n",
       " Median :0                           Mode  :character   Median : 6.200        \n",
       " Mean   :0                                              Mean   : 8.314        \n",
       " 3rd Qu.:0                                              3rd Qu.:13.540        \n",
       " Max.   :0                                              Max.   :24.000        \n",
       "                                                        NA's   :21            "
      ]
     },
     "metadata": {},
     "output_type": "display_data"
    }
   ],
   "source": [
    "loc_change %>% filter(acute_to_critical_label_recent_24hr == 1) %>% summary(first_loc_change_hours_since_admit)"
   ]
  },
  {
   "cell_type": "code",
   "execution_count": 15,
   "metadata": {},
   "outputs": [
    {
     "data": {
      "text/plain": [
       " pat_enc_csn_id_coded acute_to_critical_label_recent_3hr\n",
       " Min.   :1.311e+11    Min.   :0.000000                  \n",
       " 1st Qu.:1.312e+11    1st Qu.:0.000000                  \n",
       " Median :1.313e+11    Median :0.000000                  \n",
       " Mean   :1.312e+11    Mean   :0.002132                  \n",
       " 3rd Qu.:1.313e+11    3rd Qu.:0.000000                  \n",
       " Max.   :1.313e+11    Max.   :1.000000                  \n",
       "                                                        \n",
       " critical_to_acute_label_recent_3hr acute_to_critical_label_recent_24hr\n",
       " Min.   :0.000000                   Min.   :0                          \n",
       " 1st Qu.:0.000000                   1st Qu.:0                          \n",
       " Median :0.000000                   Median :0                          \n",
       " Mean   :0.002598                   Mean   :0                          \n",
       " 3rd Qu.:0.000000                   3rd Qu.:0                          \n",
       " Max.   :1.000000                   Max.   :0                          \n",
       "                                                                       \n",
       " critical_to_acute_label_recent_24hr   anon_id          hr_to_first_loc_change\n",
       " Min.   :0.00000                     Length:51584       Min.   : 0.00         \n",
       " 1st Qu.:0.00000                     Class :character   1st Qu.: 2.45         \n",
       " Median :0.00000                     Mode  :character   Median : 9.69         \n",
       " Mean   :0.03741                                        Mean   :10.10         \n",
       " 3rd Qu.:0.00000                                        3rd Qu.:16.97         \n",
       " Max.   :1.00000                                        Max.   :24.00         \n",
       "                                                        NA's   :45896         "
      ]
     },
     "metadata": {},
     "output_type": "display_data"
    }
   ],
   "source": [
    "loc_change %>% filter(acute_to_critical_label_recent_24hr == 0) %>% summary(first_loc_change_hours_since_admit)"
   ]
  },
  {
   "cell_type": "code",
   "execution_count": 16,
   "metadata": {},
   "outputs": [
    {
     "name": "stderr",
     "output_type": "stream",
     "text": [
      "\n",
      "\u001b[36m──\u001b[39m \u001b[1m\u001b[1mColumn specification\u001b[1m\u001b[22m \u001b[36m────────────────────────────────────────────────────────\u001b[39m\n",
      "cols(\n",
      "  pat_enc_csn_id_coded = \u001b[32mcol_double()\u001b[39m,\n",
      "  door_to_dispo_all_notes = \u001b[32mcol_double()\u001b[39m,\n",
      "  door_to_dispo_rn_notes = \u001b[32mcol_double()\u001b[39m,\n",
      "  door_to_dispo_md_notes = \u001b[32mcol_double()\u001b[39m,\n",
      "  dispo_to_24hr_all_notes = \u001b[32mcol_double()\u001b[39m,\n",
      "  dispo_to_24hr_rn_notes = \u001b[32mcol_double()\u001b[39m,\n",
      "  dispo_to_24hr_md_notes = \u001b[32mcol_double()\u001b[39m\n",
      ")\n",
      "\n",
      "\n"
     ]
    },
    {
     "data": {
      "text/html": [
       "52532"
      ],
      "text/latex": [
       "52532"
      ],
      "text/markdown": [
       "52532"
      ],
      "text/plain": [
       "[1] 52532"
      ]
     },
     "metadata": {},
     "output_type": "display_data"
    },
    {
     "data": {
      "text/plain": [
       " pat_enc_csn_id_coded door_to_dispo_all_notes door_to_dispo_rn_notes\n",
       " Min.   :1.311e+11    Min.   :  1.00          Min.   :  1.000       \n",
       " 1st Qu.:1.312e+11    1st Qu.:  4.00          1st Qu.:  2.000       \n",
       " Median :1.313e+11    Median :  8.00          Median :  3.000       \n",
       " Mean   :1.312e+11    Mean   : 10.12          Mean   :  4.988       \n",
       " 3rd Qu.:1.313e+11    3rd Qu.: 13.00          3rd Qu.:  6.000       \n",
       " Max.   :1.313e+11    Max.   :265.00          Max.   :181.000       \n",
       "                      NA's   :548             NA's   :5682          \n",
       " door_to_dispo_md_notes dispo_to_24hr_all_notes dispo_to_24hr_rn_notes\n",
       " Min.   :  1.000        Min.   :  1.00          Min.   :  1.000       \n",
       " 1st Qu.:  2.000        1st Qu.: 12.00          1st Qu.:  3.000       \n",
       " Median :  4.000        Median : 17.00          Median :  5.000       \n",
       " Mean   :  5.223        Mean   : 19.84          Mean   :  5.958       \n",
       " 3rd Qu.:  7.000        3rd Qu.: 24.00          3rd Qu.:  8.000       \n",
       " Max.   :156.000        Max.   :543.00          Max.   :108.000       \n",
       " NA's   :7647           NA's   :22              NA's   :968           \n",
       " dispo_to_24hr_md_notes\n",
       " Min.   :  1.00        \n",
       " 1st Qu.:  4.00        \n",
       " Median :  8.00        \n",
       " Mean   : 11.15        \n",
       " 3rd Qu.: 14.00        \n",
       " Max.   :533.00        \n",
       " NA's   :2740          "
      ]
     },
     "metadata": {},
     "output_type": "display_data"
    }
   ],
   "source": [
    "notes <- read_csv(file.path(outdir, \"10_coh4_3hr_noOR_notes_counts.csv\"))\n",
    "nrow(notes) #52532\n",
    "summary(notes)"
   ]
  },
  {
   "cell_type": "code",
   "execution_count": 17,
   "metadata": {},
   "outputs": [
    {
     "data": {
      "text/html": [
       "<table class=\"dataframe\">\n",
       "<caption>A tibble: 3 × 7</caption>\n",
       "<thead>\n",
       "\t<tr><th scope=col>pat_enc_csn_id_coded</th><th scope=col>door_to_dispo_all_notes</th><th scope=col>door_to_dispo_rn_notes</th><th scope=col>door_to_dispo_md_notes</th><th scope=col>dispo_to_24hr_all_notes</th><th scope=col>dispo_to_24hr_rn_notes</th><th scope=col>dispo_to_24hr_md_notes</th></tr>\n",
       "\t<tr><th scope=col>&lt;dbl&gt;</th><th scope=col>&lt;dbl&gt;</th><th scope=col>&lt;dbl&gt;</th><th scope=col>&lt;dbl&gt;</th><th scope=col>&lt;dbl&gt;</th><th scope=col>&lt;dbl&gt;</th><th scope=col>&lt;dbl&gt;</th></tr>\n",
       "</thead>\n",
       "<tbody>\n",
       "\t<tr><td>131062572931</td><td>38</td><td>13</td><td>16</td><td>24</td><td>11</td><td> 6</td></tr>\n",
       "\t<tr><td>131062745090</td><td> 8</td><td> 3</td><td> 3</td><td> 8</td><td> 2</td><td> 3</td></tr>\n",
       "\t<tr><td>131062927111</td><td>24</td><td>11</td><td>11</td><td>28</td><td> 6</td><td>13</td></tr>\n",
       "</tbody>\n",
       "</table>\n"
      ],
      "text/latex": [
       "A tibble: 3 × 7\n",
       "\\begin{tabular}{lllllll}\n",
       " pat\\_enc\\_csn\\_id\\_coded & door\\_to\\_dispo\\_all\\_notes & door\\_to\\_dispo\\_rn\\_notes & door\\_to\\_dispo\\_md\\_notes & dispo\\_to\\_24hr\\_all\\_notes & dispo\\_to\\_24hr\\_rn\\_notes & dispo\\_to\\_24hr\\_md\\_notes\\\\\n",
       " <dbl> & <dbl> & <dbl> & <dbl> & <dbl> & <dbl> & <dbl>\\\\\n",
       "\\hline\n",
       "\t 131062572931 & 38 & 13 & 16 & 24 & 11 &  6\\\\\n",
       "\t 131062745090 &  8 &  3 &  3 &  8 &  2 &  3\\\\\n",
       "\t 131062927111 & 24 & 11 & 11 & 28 &  6 & 13\\\\\n",
       "\\end{tabular}\n"
      ],
      "text/markdown": [
       "\n",
       "A tibble: 3 × 7\n",
       "\n",
       "| pat_enc_csn_id_coded &lt;dbl&gt; | door_to_dispo_all_notes &lt;dbl&gt; | door_to_dispo_rn_notes &lt;dbl&gt; | door_to_dispo_md_notes &lt;dbl&gt; | dispo_to_24hr_all_notes &lt;dbl&gt; | dispo_to_24hr_rn_notes &lt;dbl&gt; | dispo_to_24hr_md_notes &lt;dbl&gt; |\n",
       "|---|---|---|---|---|---|---|\n",
       "| 131062572931 | 38 | 13 | 16 | 24 | 11 |  6 |\n",
       "| 131062745090 |  8 |  3 |  3 |  8 |  2 |  3 |\n",
       "| 131062927111 | 24 | 11 | 11 | 28 |  6 | 13 |\n",
       "\n"
      ],
      "text/plain": [
       "  pat_enc_csn_id_coded door_to_dispo_all_notes door_to_dispo_rn_notes\n",
       "1 131062572931         38                      13                    \n",
       "2 131062745090          8                       3                    \n",
       "3 131062927111         24                      11                    \n",
       "  door_to_dispo_md_notes dispo_to_24hr_all_notes dispo_to_24hr_rn_notes\n",
       "1 16                     24                      11                    \n",
       "2  3                      8                       2                    \n",
       "3 11                     28                       6                    \n",
       "  dispo_to_24hr_md_notes\n",
       "1  6                    \n",
       "2  3                    \n",
       "3 13                    "
      ]
     },
     "metadata": {},
     "output_type": "display_data"
    }
   ],
   "source": [
    "head(notes, 3)"
   ]
  },
  {
   "cell_type": "markdown",
   "metadata": {},
   "source": [
    "### Remove labels from cohort and combine 2 new features: \n",
    "- Door-to-dispo time = hours_in_ed\n",
    "- Number of notes in ed: rn, md, all"
   ]
  },
  {
   "cell_type": "code",
   "execution_count": 18,
   "metadata": {},
   "outputs": [],
   "source": [
    "coh4noOR <- coh4noOR %>% select(anon_id, pat_enc_csn_id_coded, admit_time, first_label,\n",
    "                                death_3hr_recent_label, death_6hr_recent_label, \n",
    "                                death_9hr_recent_label, death_12hr_recent_label, death_24hr_recent_label)\n",
    "coh4noORnoDKA <- coh4noORnoDKA %>% select(anon_id, pat_enc_csn_id_coded, admit_time, first_label,\n",
    "                                          death_3hr_recent_label, death_6hr_recent_label, death_9hr_recent_label, \n",
    "                                          death_12hr_recent_label, death_24hr_recent_label)"
   ]
  },
  {
   "cell_type": "code",
   "execution_count": 19,
   "metadata": {},
   "outputs": [
    {
     "name": "stderr",
     "output_type": "stream",
     "text": [
      "Joining, by = c(\"anon_id\", \"pat_enc_csn_id_coded\", \"admit_time\")\n",
      "\n",
      "Joining, by = \"pat_enc_csn_id_coded\"\n",
      "\n"
     ]
    },
    {
     "data": {
      "text/html": [
       "52532"
      ],
      "text/latex": [
       "52532"
      ],
      "text/markdown": [
       "52532"
      ],
      "text/plain": [
       "[1] 52532"
      ]
     },
     "metadata": {},
     "output_type": "display_data"
    },
    {
     "data": {
      "text/html": [
       "<style>\n",
       ".list-inline {list-style: none; margin:0; padding: 0}\n",
       ".list-inline>li {display: inline-block}\n",
       ".list-inline>li:not(:last-child)::after {content: \"\\00b7\"; padding: 0 .5ex}\n",
       "</style>\n",
       "<ol class=list-inline><li>'anon_id'</li><li>'pat_enc_csn_id_coded'</li><li>'admit_time'</li><li>'first_label'</li><li>'death_3hr_recent_label'</li><li>'death_6hr_recent_label'</li><li>'death_9hr_recent_label'</li><li>'death_12hr_recent_label'</li><li>'death_24hr_recent_label'</li><li>'hours_in_ed'</li><li>'door_to_dispo_all_notes'</li><li>'door_to_dispo_rn_notes'</li><li>'door_to_dispo_md_notes'</li></ol>\n"
      ],
      "text/latex": [
       "\\begin{enumerate*}\n",
       "\\item 'anon\\_id'\n",
       "\\item 'pat\\_enc\\_csn\\_id\\_coded'\n",
       "\\item 'admit\\_time'\n",
       "\\item 'first\\_label'\n",
       "\\item 'death\\_3hr\\_recent\\_label'\n",
       "\\item 'death\\_6hr\\_recent\\_label'\n",
       "\\item 'death\\_9hr\\_recent\\_label'\n",
       "\\item 'death\\_12hr\\_recent\\_label'\n",
       "\\item 'death\\_24hr\\_recent\\_label'\n",
       "\\item 'hours\\_in\\_ed'\n",
       "\\item 'door\\_to\\_dispo\\_all\\_notes'\n",
       "\\item 'door\\_to\\_dispo\\_rn\\_notes'\n",
       "\\item 'door\\_to\\_dispo\\_md\\_notes'\n",
       "\\end{enumerate*}\n"
      ],
      "text/markdown": [
       "1. 'anon_id'\n",
       "2. 'pat_enc_csn_id_coded'\n",
       "3. 'admit_time'\n",
       "4. 'first_label'\n",
       "5. 'death_3hr_recent_label'\n",
       "6. 'death_6hr_recent_label'\n",
       "7. 'death_9hr_recent_label'\n",
       "8. 'death_12hr_recent_label'\n",
       "9. 'death_24hr_recent_label'\n",
       "10. 'hours_in_ed'\n",
       "11. 'door_to_dispo_all_notes'\n",
       "12. 'door_to_dispo_rn_notes'\n",
       "13. 'door_to_dispo_md_notes'\n",
       "\n",
       "\n"
      ],
      "text/plain": [
       " [1] \"anon_id\"                 \"pat_enc_csn_id_coded\"   \n",
       " [3] \"admit_time\"              \"first_label\"            \n",
       " [5] \"death_3hr_recent_label\"  \"death_6hr_recent_label\" \n",
       " [7] \"death_9hr_recent_label\"  \"death_12hr_recent_label\"\n",
       " [9] \"death_24hr_recent_label\" \"hours_in_ed\"            \n",
       "[11] \"door_to_dispo_all_notes\" \"door_to_dispo_rn_notes\" \n",
       "[13] \"door_to_dispo_md_notes\" "
      ]
     },
     "metadata": {},
     "output_type": "display_data"
    },
    {
     "data": {
      "text/html": [
       "52532"
      ],
      "text/latex": [
       "52532"
      ],
      "text/markdown": [
       "52532"
      ],
      "text/plain": [
       "[1] 52532"
      ]
     },
     "metadata": {},
     "output_type": "display_data"
    }
   ],
   "source": [
    "new_features <- coh4noOR %>% left_join(firstEDtime) %>% left_join(notes %>% select(-dispo_to_24hr_all_notes,\n",
    "                                                                                   -dispo_to_24hr_rn_notes, \n",
    "                                                                                   -dispo_to_24hr_md_notes)) %>%\n",
    "                select(-first_ed_time)\n",
    "nrow(new_features)\n",
    "names(new_features)\n",
    "length(unique(new_features$pat_enc_csn_id_coded))"
   ]
  },
  {
   "cell_type": "code",
   "execution_count": 20,
   "metadata": {},
   "outputs": [
    {
     "data": {
      "text/html": [
       "<table class=\"dataframe\">\n",
       "<caption>A tibble: 3 × 13</caption>\n",
       "<thead>\n",
       "\t<tr><th scope=col>anon_id</th><th scope=col>pat_enc_csn_id_coded</th><th scope=col>admit_time</th><th scope=col>first_label</th><th scope=col>death_3hr_recent_label</th><th scope=col>death_6hr_recent_label</th><th scope=col>death_9hr_recent_label</th><th scope=col>death_12hr_recent_label</th><th scope=col>death_24hr_recent_label</th><th scope=col>hours_in_ed</th><th scope=col>door_to_dispo_all_notes</th><th scope=col>door_to_dispo_rn_notes</th><th scope=col>door_to_dispo_md_notes</th></tr>\n",
       "\t<tr><th scope=col>&lt;chr&gt;</th><th scope=col>&lt;dbl&gt;</th><th scope=col>&lt;dttm&gt;</th><th scope=col>&lt;dbl&gt;</th><th scope=col>&lt;dbl&gt;</th><th scope=col>&lt;dbl&gt;</th><th scope=col>&lt;dbl&gt;</th><th scope=col>&lt;dbl&gt;</th><th scope=col>&lt;dbl&gt;</th><th scope=col>&lt;dbl&gt;</th><th scope=col>&lt;dbl&gt;</th><th scope=col>&lt;dbl&gt;</th><th scope=col>&lt;dbl&gt;</th></tr>\n",
       "</thead>\n",
       "<tbody>\n",
       "\t<tr><td>JC1000116</td><td>131066472308</td><td>2015-01-28 00:46:00</td><td>0</td><td>0</td><td>0</td><td>0</td><td>0</td><td>0</td><td>20.37</td><td>33</td><td>23</td><td>8</td></tr>\n",
       "\t<tr><td>JC1000116</td><td>131295313275</td><td>2020-09-29 22:45:00</td><td>0</td><td>0</td><td>0</td><td>0</td><td>0</td><td>0</td><td> 6.72</td><td>10</td><td> 5</td><td>1</td></tr>\n",
       "\t<tr><td>JC1000296</td><td>131100574537</td><td>2015-07-03 04:51:00</td><td>0</td><td>0</td><td>0</td><td>0</td><td>0</td><td>0</td><td>24.80</td><td>26</td><td>18</td><td>6</td></tr>\n",
       "</tbody>\n",
       "</table>\n"
      ],
      "text/latex": [
       "A tibble: 3 × 13\n",
       "\\begin{tabular}{lllllllllllll}\n",
       " anon\\_id & pat\\_enc\\_csn\\_id\\_coded & admit\\_time & first\\_label & death\\_3hr\\_recent\\_label & death\\_6hr\\_recent\\_label & death\\_9hr\\_recent\\_label & death\\_12hr\\_recent\\_label & death\\_24hr\\_recent\\_label & hours\\_in\\_ed & door\\_to\\_dispo\\_all\\_notes & door\\_to\\_dispo\\_rn\\_notes & door\\_to\\_dispo\\_md\\_notes\\\\\n",
       " <chr> & <dbl> & <dttm> & <dbl> & <dbl> & <dbl> & <dbl> & <dbl> & <dbl> & <dbl> & <dbl> & <dbl> & <dbl>\\\\\n",
       "\\hline\n",
       "\t JC1000116 & 131066472308 & 2015-01-28 00:46:00 & 0 & 0 & 0 & 0 & 0 & 0 & 20.37 & 33 & 23 & 8\\\\\n",
       "\t JC1000116 & 131295313275 & 2020-09-29 22:45:00 & 0 & 0 & 0 & 0 & 0 & 0 &  6.72 & 10 &  5 & 1\\\\\n",
       "\t JC1000296 & 131100574537 & 2015-07-03 04:51:00 & 0 & 0 & 0 & 0 & 0 & 0 & 24.80 & 26 & 18 & 6\\\\\n",
       "\\end{tabular}\n"
      ],
      "text/markdown": [
       "\n",
       "A tibble: 3 × 13\n",
       "\n",
       "| anon_id &lt;chr&gt; | pat_enc_csn_id_coded &lt;dbl&gt; | admit_time &lt;dttm&gt; | first_label &lt;dbl&gt; | death_3hr_recent_label &lt;dbl&gt; | death_6hr_recent_label &lt;dbl&gt; | death_9hr_recent_label &lt;dbl&gt; | death_12hr_recent_label &lt;dbl&gt; | death_24hr_recent_label &lt;dbl&gt; | hours_in_ed &lt;dbl&gt; | door_to_dispo_all_notes &lt;dbl&gt; | door_to_dispo_rn_notes &lt;dbl&gt; | door_to_dispo_md_notes &lt;dbl&gt; |\n",
       "|---|---|---|---|---|---|---|---|---|---|---|---|---|\n",
       "| JC1000116 | 131066472308 | 2015-01-28 00:46:00 | 0 | 0 | 0 | 0 | 0 | 0 | 20.37 | 33 | 23 | 8 |\n",
       "| JC1000116 | 131295313275 | 2020-09-29 22:45:00 | 0 | 0 | 0 | 0 | 0 | 0 |  6.72 | 10 |  5 | 1 |\n",
       "| JC1000296 | 131100574537 | 2015-07-03 04:51:00 | 0 | 0 | 0 | 0 | 0 | 0 | 24.80 | 26 | 18 | 6 |\n",
       "\n"
      ],
      "text/plain": [
       "  anon_id   pat_enc_csn_id_coded admit_time          first_label\n",
       "1 JC1000116 131066472308         2015-01-28 00:46:00 0          \n",
       "2 JC1000116 131295313275         2020-09-29 22:45:00 0          \n",
       "3 JC1000296 131100574537         2015-07-03 04:51:00 0          \n",
       "  death_3hr_recent_label death_6hr_recent_label death_9hr_recent_label\n",
       "1 0                      0                      0                     \n",
       "2 0                      0                      0                     \n",
       "3 0                      0                      0                     \n",
       "  death_12hr_recent_label death_24hr_recent_label hours_in_ed\n",
       "1 0                       0                       20.37      \n",
       "2 0                       0                        6.72      \n",
       "3 0                       0                       24.80      \n",
       "  door_to_dispo_all_notes door_to_dispo_rn_notes door_to_dispo_md_notes\n",
       "1 33                      23                     8                     \n",
       "2 10                       5                     1                     \n",
       "3 26                      18                     6                     "
      ]
     },
     "metadata": {},
     "output_type": "display_data"
    }
   ],
   "source": [
    "head(new_features, 3)"
   ]
  },
  {
   "cell_type": "code",
   "execution_count": 21,
   "metadata": {},
   "outputs": [
    {
     "data": {
      "text/plain": [
       "   anon_id          pat_enc_csn_id_coded   admit_time                 \n",
       " Length:52532       Min.   :1.311e+11    Min.   :2015-01-01 06:30:00  \n",
       " Class :character   1st Qu.:1.312e+11    1st Qu.:2016-12-19 23:49:45  \n",
       " Mode  :character   Median :1.313e+11    Median :2018-11-14 01:22:00  \n",
       "                    Mean   :1.312e+11    Mean   :2018-08-31 11:06:06  \n",
       "                    3rd Qu.:1.313e+11    3rd Qu.:2020-05-28 22:04:00  \n",
       "                    Max.   :1.313e+11    Max.   :2021-09-30 07:00:00  \n",
       "                                                                      \n",
       "  first_label     death_3hr_recent_label death_6hr_recent_label\n",
       " Min.   :0.0000   Min.   :0.000          Min.   :0.0000        \n",
       " 1st Qu.:0.0000   1st Qu.:0.000          1st Qu.:0.0000        \n",
       " Median :0.0000   Median :0.000          Median :0.0000        \n",
       " Mean   :0.1077   Mean   :0.112          Mean   :0.1132        \n",
       " 3rd Qu.:0.0000   3rd Qu.:0.000          3rd Qu.:0.0000        \n",
       " Max.   :1.0000   Max.   :1.000          Max.   :1.0000        \n",
       "                                                               \n",
       " death_9hr_recent_label death_12hr_recent_label death_24hr_recent_label\n",
       " Min.   :0.0000         Min.   :0.000           Min.   :0.00000        \n",
       " 1st Qu.:0.0000         1st Qu.:0.000           1st Qu.:0.00000        \n",
       " Median :0.0000         Median :0.000           Median :0.00000        \n",
       " Mean   :0.1129         Mean   :0.111           Mean   :0.08901        \n",
       " 3rd Qu.:0.0000         3rd Qu.:0.000           3rd Qu.:0.00000        \n",
       " Max.   :1.0000         Max.   :1.000           Max.   :1.00000        \n",
       "                                                                       \n",
       "  hours_in_ed     door_to_dispo_all_notes door_to_dispo_rn_notes\n",
       " Min.   :  0.02   Min.   :  1.00          Min.   :  1.000       \n",
       " 1st Qu.:  2.30   1st Qu.:  4.00          1st Qu.:  2.000       \n",
       " Median :  3.50   Median :  8.00          Median :  3.000       \n",
       " Mean   :  4.81   Mean   : 10.12          Mean   :  4.988       \n",
       " 3rd Qu.:  5.25   3rd Qu.: 13.00          3rd Qu.:  6.000       \n",
       " Max.   :190.43   Max.   :265.00          Max.   :181.000       \n",
       "                  NA's   :548             NA's   :5682          \n",
       " door_to_dispo_md_notes\n",
       " Min.   :  1.000       \n",
       " 1st Qu.:  2.000       \n",
       " Median :  4.000       \n",
       " Mean   :  5.223       \n",
       " 3rd Qu.:  7.000       \n",
       " Max.   :156.000       \n",
       " NA's   :7647          "
      ]
     },
     "metadata": {},
     "output_type": "display_data"
    }
   ],
   "source": [
    "summary(new_features)"
   ]
  },
  {
   "cell_type": "code",
   "execution_count": 22,
   "metadata": {},
   "outputs": [
    {
     "data": {
      "text/plain": [
       "   anon_id          pat_enc_csn_id_coded   admit_time                 \n",
       " Length:52532       Min.   :1.311e+11    Min.   :2015-01-01 06:30:00  \n",
       " Class :character   1st Qu.:1.312e+11    1st Qu.:2016-12-19 23:49:45  \n",
       " Mode  :character   Median :1.313e+11    Median :2018-11-14 01:22:00  \n",
       "                    Mean   :1.312e+11    Mean   :2018-08-31 11:06:06  \n",
       "                    3rd Qu.:1.313e+11    3rd Qu.:2020-05-28 22:04:00  \n",
       "                    Max.   :1.313e+11    Max.   :2021-09-30 07:00:00  \n",
       "  first_label     death_3hr_recent_label death_6hr_recent_label\n",
       " Min.   :0.0000   Min.   :0.000          Min.   :0.0000        \n",
       " 1st Qu.:0.0000   1st Qu.:0.000          1st Qu.:0.0000        \n",
       " Median :0.0000   Median :0.000          Median :0.0000        \n",
       " Mean   :0.1077   Mean   :0.112          Mean   :0.1132        \n",
       " 3rd Qu.:0.0000   3rd Qu.:0.000          3rd Qu.:0.0000        \n",
       " Max.   :1.0000   Max.   :1.000          Max.   :1.0000        \n",
       " death_9hr_recent_label death_12hr_recent_label death_24hr_recent_label\n",
       " Min.   :0.0000         Min.   :0.000           Min.   :0.00000        \n",
       " 1st Qu.:0.0000         1st Qu.:0.000           1st Qu.:0.00000        \n",
       " Median :0.0000         Median :0.000           Median :0.00000        \n",
       " Mean   :0.1129         Mean   :0.111           Mean   :0.08901        \n",
       " 3rd Qu.:0.0000         3rd Qu.:0.000           3rd Qu.:0.00000        \n",
       " Max.   :1.0000         Max.   :1.000           Max.   :1.00000        \n",
       "  hours_in_ed     door_to_dispo_all_notes door_to_dispo_rn_notes\n",
       " Min.   :  0.02   Min.   :  0.00          Min.   :  0.000       \n",
       " 1st Qu.:  2.30   1st Qu.:  4.00          1st Qu.:  1.000       \n",
       " Median :  3.50   Median :  7.00          Median :  3.000       \n",
       " Mean   :  4.81   Mean   : 10.02          Mean   :  4.448       \n",
       " 3rd Qu.:  5.25   3rd Qu.: 12.00          3rd Qu.:  5.000       \n",
       " Max.   :190.43   Max.   :265.00          Max.   :181.000       \n",
       " door_to_dispo_md_notes\n",
       " Min.   :  0.000       \n",
       " 1st Qu.:  1.000       \n",
       " Median :  3.000       \n",
       " Mean   :  4.463       \n",
       " 3rd Qu.:  6.000       \n",
       " Max.   :156.000       "
      ]
     },
     "metadata": {},
     "output_type": "display_data"
    }
   ],
   "source": [
    "new_features <- new_features %>% mutate_if(is.numeric, ~replace(., is.na(.), 0))\n",
    "summary(new_features)"
   ]
  },
  {
   "cell_type": "code",
   "execution_count": 23,
   "metadata": {},
   "outputs": [],
   "source": [
    "# save the output\n",
    "write.csv(new_features, file.path(outdir, \"11_coh4_noOR_edtime_notecount.csv\"), row.names=FALSE)"
   ]
  },
  {
   "cell_type": "markdown",
   "metadata": {},
   "source": [
    "### COHORT4 no OR no DKA, and with main labels, 3 new features"
   ]
  },
  {
   "cell_type": "code",
   "execution_count": 40,
   "metadata": {},
   "outputs": [
    {
     "name": "stderr",
     "output_type": "stream",
     "text": [
      "Joining, by = c(\"anon_id\", \"pat_enc_csn_id_coded\", \"admit_time\", \"death_3hr_recent_label\", \"death_6hr_recent_label\", \"death_9hr_recent_label\", \"death_12hr_recent_label\", \"death_24hr_recent_label\")\n",
      "\n"
     ]
    },
    {
     "data": {
      "text/html": [
       "51846"
      ],
      "text/latex": [
       "51846"
      ],
      "text/markdown": [
       "51846"
      ],
      "text/plain": [
       "[1] 51846"
      ]
     },
     "metadata": {},
     "output_type": "display_data"
    },
    {
     "data": {
      "text/html": [
       "51846"
      ],
      "text/latex": [
       "51846"
      ],
      "text/markdown": [
       "51846"
      ],
      "text/plain": [
       "[1] 51846"
      ]
     },
     "metadata": {},
     "output_type": "display_data"
    },
    {
     "data": {
      "text/html": [
       "51846"
      ],
      "text/latex": [
       "51846"
      ],
      "text/markdown": [
       "51846"
      ],
      "text/plain": [
       "[1] 51846"
      ]
     },
     "metadata": {},
     "output_type": "display_data"
    },
    {
     "data": {
      "text/html": [
       "<style>\n",
       ".list-inline {list-style: none; margin:0; padding: 0}\n",
       ".list-inline>li {display: inline-block}\n",
       ".list-inline>li:not(:last-child)::after {content: \"\\00b7\"; padding: 0 .5ex}\n",
       "</style>\n",
       "<ol class=list-inline><li>'anon_id'</li><li>'pat_enc_csn_id_coded'</li><li>'admit_time'</li><li>'first_label'</li><li>'death_3hr_recent_label'</li><li>'death_6hr_recent_label'</li><li>'death_9hr_recent_label'</li><li>'death_12hr_recent_label'</li><li>'death_24hr_recent_label'</li><li>'hours_in_ed'</li><li>'door_to_dispo_all_notes'</li><li>'door_to_dispo_rn_notes'</li><li>'door_to_dispo_md_notes'</li></ol>\n"
      ],
      "text/latex": [
       "\\begin{enumerate*}\n",
       "\\item 'anon\\_id'\n",
       "\\item 'pat\\_enc\\_csn\\_id\\_coded'\n",
       "\\item 'admit\\_time'\n",
       "\\item 'first\\_label'\n",
       "\\item 'death\\_3hr\\_recent\\_label'\n",
       "\\item 'death\\_6hr\\_recent\\_label'\n",
       "\\item 'death\\_9hr\\_recent\\_label'\n",
       "\\item 'death\\_12hr\\_recent\\_label'\n",
       "\\item 'death\\_24hr\\_recent\\_label'\n",
       "\\item 'hours\\_in\\_ed'\n",
       "\\item 'door\\_to\\_dispo\\_all\\_notes'\n",
       "\\item 'door\\_to\\_dispo\\_rn\\_notes'\n",
       "\\item 'door\\_to\\_dispo\\_md\\_notes'\n",
       "\\end{enumerate*}\n"
      ],
      "text/markdown": [
       "1. 'anon_id'\n",
       "2. 'pat_enc_csn_id_coded'\n",
       "3. 'admit_time'\n",
       "4. 'first_label'\n",
       "5. 'death_3hr_recent_label'\n",
       "6. 'death_6hr_recent_label'\n",
       "7. 'death_9hr_recent_label'\n",
       "8. 'death_12hr_recent_label'\n",
       "9. 'death_24hr_recent_label'\n",
       "10. 'hours_in_ed'\n",
       "11. 'door_to_dispo_all_notes'\n",
       "12. 'door_to_dispo_rn_notes'\n",
       "13. 'door_to_dispo_md_notes'\n",
       "\n",
       "\n"
      ],
      "text/plain": [
       " [1] \"anon_id\"                 \"pat_enc_csn_id_coded\"   \n",
       " [3] \"admit_time\"              \"first_label\"            \n",
       " [5] \"death_3hr_recent_label\"  \"death_6hr_recent_label\" \n",
       " [7] \"death_9hr_recent_label\"  \"death_12hr_recent_label\"\n",
       " [9] \"death_24hr_recent_label\" \"hours_in_ed\"            \n",
       "[11] \"door_to_dispo_all_notes\" \"door_to_dispo_rn_notes\" \n",
       "[13] \"door_to_dispo_md_notes\" "
      ]
     },
     "metadata": {},
     "output_type": "display_data"
    }
   ],
   "source": [
    "cohort_new_features <- coh4noORnoDKA %>% left_join(new_features)\n",
    "nrow(coh4noORnoDKA)\n",
    "nrow(cohort_new_features)\n",
    "length(cohort_new_features$pat_enc_csn_id_coded)\n",
    "names(cohort_new_features)"
   ]
  },
  {
   "cell_type": "code",
   "execution_count": null,
   "metadata": {},
   "outputs": [],
   "source": [
    "# save the output\n",
    "write.csv(cohort_new_features, file.path(outdir, \"11_coh4_noOR_noDKA_edtime_notecount.csv\"), row.names=FALSE)"
   ]
  },
  {
   "cell_type": "markdown",
   "metadata": {},
   "source": [
    "### Other exploratory features:"
   ]
  },
  {
   "cell_type": "raw",
   "metadata": {},
   "source": [
    "all <- read_csv(file.path(outdir, \"9_all_traj_time_team.csv\"))\n",
    "nrow(all) #52532"
   ]
  },
  {
   "cell_type": "code",
   "execution_count": 32,
   "metadata": {},
   "outputs": [
    {
     "data": {
      "text/html": [
       "<table class=\"dataframe\">\n",
       "<caption>A tibble: 3 × 20</caption>\n",
       "<thead>\n",
       "\t<tr><th scope=col>anon_id</th><th scope=col>pat_enc_csn_id_coded</th><th scope=col>admit_time</th><th scope=col>first_ed_time</th><th scope=col>hours_in_ed</th><th scope=col>discharge_time</th><th scope=col>end_date</th><th scope=col>hours_ip_since_admit</th><th scope=col>hours_ED_entry_end_date</th><th scope=col>died_before_discharge</th><th scope=col>first_ip_lv_of_care</th><th scope=col>first_ip_event_type</th><th scope=col>first_ip_pat_service</th><th scope=col>last_emerg_lv_of_care</th><th scope=col>last_emerg_event_type</th><th scope=col>last_emerg_pat_service</th><th scope=col>pat_loc_traj</th><th scope=col>pat_serv_traj</th><th scope=col>hr_to_first_loc_change</th><th scope=col>personel_count</th></tr>\n",
       "\t<tr><th scope=col>&lt;chr&gt;</th><th scope=col>&lt;dbl&gt;</th><th scope=col>&lt;dttm&gt;</th><th scope=col>&lt;dttm&gt;</th><th scope=col>&lt;dbl&gt;</th><th scope=col>&lt;dttm&gt;</th><th scope=col>&lt;date&gt;</th><th scope=col>&lt;dbl&gt;</th><th scope=col>&lt;dbl&gt;</th><th scope=col>&lt;lgl&gt;</th><th scope=col>&lt;chr&gt;</th><th scope=col>&lt;chr&gt;</th><th scope=col>&lt;chr&gt;</th><th scope=col>&lt;lgl&gt;</th><th scope=col>&lt;chr&gt;</th><th scope=col>&lt;chr&gt;</th><th scope=col>&lt;chr&gt;</th><th scope=col>&lt;chr&gt;</th><th scope=col>&lt;dbl&gt;</th><th scope=col>&lt;dbl&gt;</th></tr>\n",
       "</thead>\n",
       "<tbody>\n",
       "\t<tr><td>JC1819531</td><td>131093580451</td><td>2015-07-22 07:35:00</td><td>2015-07-21 22:45:00</td><td> 8.83</td><td>2015-07-28 22:51:00</td><td>2015-07-28</td><td>144</td><td>168</td><td>NA</td><td>Acute Care (Assessment or intervention q4-8)</td><td>Transfer In</td><td>Orthopaedic Surgery          </td><td>NA</td><td>Transfer Out</td><td>Emergency</td><td>['Acute Care (Assessment or intervention q4-8)']</td><td>['Emergency', 'Orthopaedic Surgery']          </td><td>NA</td><td>4</td></tr>\n",
       "\t<tr><td>JC1848148</td><td>131093583167</td><td>2015-07-24 21:35:00</td><td>2015-07-24 00:35:00</td><td>21.00</td><td>2015-08-03 02:10:00</td><td>2015-08-03</td><td>240</td><td>240</td><td>NA</td><td>Intermediate Care - With Cardiac Monitor    </td><td>Transfer In</td><td>Thoracic Surgery             </td><td>NA</td><td>Transfer Out</td><td>Emergency</td><td>['Intermediate Care - With Cardiac Monitor']    </td><td>['Emergency', 'Thoracic Surgery']             </td><td>NA</td><td>6</td></tr>\n",
       "\t<tr><td>JC537945 </td><td>131093586417</td><td>2015-07-23 00:24:00</td><td>2015-07-22 22:37:00</td><td> 1.78</td><td>2015-07-28 20:05:00</td><td>2015-07-28</td><td>120</td><td>144</td><td>NA</td><td>Acute Care (Assessment or intervention q4-8)</td><td>Transfer In</td><td>General Medicine (University)</td><td>NA</td><td>Transfer Out</td><td>Emergency</td><td>['Acute Care (Assessment or intervention q4-8)']</td><td>['Emergency', 'General Medicine (University)']</td><td>NA</td><td>1</td></tr>\n",
       "</tbody>\n",
       "</table>\n"
      ],
      "text/latex": [
       "A tibble: 3 × 20\n",
       "\\begin{tabular}{llllllllllllllllllll}\n",
       " anon\\_id & pat\\_enc\\_csn\\_id\\_coded & admit\\_time & first\\_ed\\_time & hours\\_in\\_ed & discharge\\_time & end\\_date & hours\\_ip\\_since\\_admit & hours\\_ED\\_entry\\_end\\_date & died\\_before\\_discharge & first\\_ip\\_lv\\_of\\_care & first\\_ip\\_event\\_type & first\\_ip\\_pat\\_service & last\\_emerg\\_lv\\_of\\_care & last\\_emerg\\_event\\_type & last\\_emerg\\_pat\\_service & pat\\_loc\\_traj & pat\\_serv\\_traj & hr\\_to\\_first\\_loc\\_change & personel\\_count\\\\\n",
       " <chr> & <dbl> & <dttm> & <dttm> & <dbl> & <dttm> & <date> & <dbl> & <dbl> & <lgl> & <chr> & <chr> & <chr> & <lgl> & <chr> & <chr> & <chr> & <chr> & <dbl> & <dbl>\\\\\n",
       "\\hline\n",
       "\t JC1819531 & 131093580451 & 2015-07-22 07:35:00 & 2015-07-21 22:45:00 &  8.83 & 2015-07-28 22:51:00 & 2015-07-28 & 144 & 168 & NA & Acute Care (Assessment or intervention q4-8) & Transfer In & Orthopaedic Surgery           & NA & Transfer Out & Emergency & {[}'Acute Care (Assessment or intervention q4-8)'{]} & {[}'Emergency', 'Orthopaedic Surgery'{]}           & NA & 4\\\\\n",
       "\t JC1848148 & 131093583167 & 2015-07-24 21:35:00 & 2015-07-24 00:35:00 & 21.00 & 2015-08-03 02:10:00 & 2015-08-03 & 240 & 240 & NA & Intermediate Care - With Cardiac Monitor     & Transfer In & Thoracic Surgery              & NA & Transfer Out & Emergency & {[}'Intermediate Care - With Cardiac Monitor'{]}     & {[}'Emergency', 'Thoracic Surgery'{]}              & NA & 6\\\\\n",
       "\t JC537945  & 131093586417 & 2015-07-23 00:24:00 & 2015-07-22 22:37:00 &  1.78 & 2015-07-28 20:05:00 & 2015-07-28 & 120 & 144 & NA & Acute Care (Assessment or intervention q4-8) & Transfer In & General Medicine (University) & NA & Transfer Out & Emergency & {[}'Acute Care (Assessment or intervention q4-8)'{]} & {[}'Emergency', 'General Medicine (University)'{]} & NA & 1\\\\\n",
       "\\end{tabular}\n"
      ],
      "text/markdown": [
       "\n",
       "A tibble: 3 × 20\n",
       "\n",
       "| anon_id &lt;chr&gt; | pat_enc_csn_id_coded &lt;dbl&gt; | admit_time &lt;dttm&gt; | first_ed_time &lt;dttm&gt; | hours_in_ed &lt;dbl&gt; | discharge_time &lt;dttm&gt; | end_date &lt;date&gt; | hours_ip_since_admit &lt;dbl&gt; | hours_ED_entry_end_date &lt;dbl&gt; | died_before_discharge &lt;lgl&gt; | first_ip_lv_of_care &lt;chr&gt; | first_ip_event_type &lt;chr&gt; | first_ip_pat_service &lt;chr&gt; | last_emerg_lv_of_care &lt;lgl&gt; | last_emerg_event_type &lt;chr&gt; | last_emerg_pat_service &lt;chr&gt; | pat_loc_traj &lt;chr&gt; | pat_serv_traj &lt;chr&gt; | hr_to_first_loc_change &lt;dbl&gt; | personel_count &lt;dbl&gt; |\n",
       "|---|---|---|---|---|---|---|---|---|---|---|---|---|---|---|---|---|---|---|---|\n",
       "| JC1819531 | 131093580451 | 2015-07-22 07:35:00 | 2015-07-21 22:45:00 |  8.83 | 2015-07-28 22:51:00 | 2015-07-28 | 144 | 168 | NA | Acute Care (Assessment or intervention q4-8) | Transfer In | Orthopaedic Surgery           | NA | Transfer Out | Emergency | ['Acute Care (Assessment or intervention q4-8)'] | ['Emergency', 'Orthopaedic Surgery']           | NA | 4 |\n",
       "| JC1848148 | 131093583167 | 2015-07-24 21:35:00 | 2015-07-24 00:35:00 | 21.00 | 2015-08-03 02:10:00 | 2015-08-03 | 240 | 240 | NA | Intermediate Care - With Cardiac Monitor     | Transfer In | Thoracic Surgery              | NA | Transfer Out | Emergency | ['Intermediate Care - With Cardiac Monitor']     | ['Emergency', 'Thoracic Surgery']              | NA | 6 |\n",
       "| JC537945  | 131093586417 | 2015-07-23 00:24:00 | 2015-07-22 22:37:00 |  1.78 | 2015-07-28 20:05:00 | 2015-07-28 | 120 | 144 | NA | Acute Care (Assessment or intervention q4-8) | Transfer In | General Medicine (University) | NA | Transfer Out | Emergency | ['Acute Care (Assessment or intervention q4-8)'] | ['Emergency', 'General Medicine (University)'] | NA | 1 |\n",
       "\n"
      ],
      "text/plain": [
       "  anon_id   pat_enc_csn_id_coded admit_time          first_ed_time      \n",
       "1 JC1819531 131093580451         2015-07-22 07:35:00 2015-07-21 22:45:00\n",
       "2 JC1848148 131093583167         2015-07-24 21:35:00 2015-07-24 00:35:00\n",
       "3 JC537945  131093586417         2015-07-23 00:24:00 2015-07-22 22:37:00\n",
       "  hours_in_ed discharge_time      end_date   hours_ip_since_admit\n",
       "1  8.83       2015-07-28 22:51:00 2015-07-28 144                 \n",
       "2 21.00       2015-08-03 02:10:00 2015-08-03 240                 \n",
       "3  1.78       2015-07-28 20:05:00 2015-07-28 120                 \n",
       "  hours_ED_entry_end_date died_before_discharge\n",
       "1 168                     NA                   \n",
       "2 240                     NA                   \n",
       "3 144                     NA                   \n",
       "  first_ip_lv_of_care                          first_ip_event_type\n",
       "1 Acute Care (Assessment or intervention q4-8) Transfer In        \n",
       "2 Intermediate Care - With Cardiac Monitor     Transfer In        \n",
       "3 Acute Care (Assessment or intervention q4-8) Transfer In        \n",
       "  first_ip_pat_service          last_emerg_lv_of_care last_emerg_event_type\n",
       "1 Orthopaedic Surgery           NA                    Transfer Out         \n",
       "2 Thoracic Surgery              NA                    Transfer Out         \n",
       "3 General Medicine (University) NA                    Transfer Out         \n",
       "  last_emerg_pat_service pat_loc_traj                                    \n",
       "1 Emergency              ['Acute Care (Assessment or intervention q4-8)']\n",
       "2 Emergency              ['Intermediate Care - With Cardiac Monitor']    \n",
       "3 Emergency              ['Acute Care (Assessment or intervention q4-8)']\n",
       "  pat_serv_traj                                  hr_to_first_loc_change\n",
       "1 ['Emergency', 'Orthopaedic Surgery']           NA                    \n",
       "2 ['Emergency', 'Thoracic Surgery']              NA                    \n",
       "3 ['Emergency', 'General Medicine (University)'] NA                    \n",
       "  personel_count\n",
       "1 4             \n",
       "2 6             \n",
       "3 1             "
      ]
     },
     "metadata": {},
     "output_type": "display_data"
    }
   ],
   "source": [
    "all[4013:4015,]"
   ]
  },
  {
   "cell_type": "code",
   "execution_count": 33,
   "metadata": {},
   "outputs": [
    {
     "data": {
      "text/plain": [
       "   anon_id          pat_enc_csn_id_coded   admit_time                 \n",
       " Length:52532       Min.   :1.311e+11    Min.   :2015-01-01 06:30:00  \n",
       " Class :character   1st Qu.:1.312e+11    1st Qu.:2016-12-19 23:49:45  \n",
       " Mode  :character   Median :1.313e+11    Median :2018-11-14 01:22:00  \n",
       "                    Mean   :1.312e+11    Mean   :2018-08-31 11:06:06  \n",
       "                    3rd Qu.:1.313e+11    3rd Qu.:2020-05-28 22:04:00  \n",
       "                    Max.   :1.313e+11    Max.   :2021-09-30 07:00:00  \n",
       "                                                                      \n",
       " first_ed_time                  hours_in_ed     discharge_time               \n",
       " Min.   :2015-01-01 00:02:00   Min.   :  0.02   Min.   :2015-01-01 20:08:00  \n",
       " 1st Qu.:2016-12-19 21:52:15   1st Qu.:  2.30   1st Qu.:2016-12-24 06:45:00  \n",
       " Median :2018-11-13 21:34:00   Median :  3.50   Median :2018-11-16 02:06:00  \n",
       " Mean   :2018-08-31 06:17:30   Mean   :  4.81   Mean   :2018-09-03 03:56:57  \n",
       " 3rd Qu.:2020-05-28 10:47:45   3rd Qu.:  5.25   3rd Qu.:2020-05-28 23:07:00  \n",
       " Max.   :2021-09-30 06:28:00   Max.   :190.43   Max.   :2021-09-30 07:00:00  \n",
       "                                                NA's   :163                  \n",
       "    end_date          hours_ip_since_admit hours_ED_entry_end_date\n",
       " Min.   :1933-10-09   Min.   :-750936.0    Min.   :-750912.0      \n",
       " 1st Qu.:2016-12-24   1st Qu.:     48.0    1st Qu.:     48.0      \n",
       " Median :2018-11-16   Median :     96.0    Median :     96.0      \n",
       " Mean   :2018-09-02   Mean   :    127.9    Mean   :    134.8      \n",
       " 3rd Qu.:2020-05-29   3rd Qu.:    168.0    3rd Qu.:    168.0      \n",
       " Max.   :2021-11-29   Max.   :   5568.0    Max.   :   5568.0      \n",
       " NA's   :147          NA's   :147          NA's   :147            \n",
       " died_before_discharge first_ip_lv_of_care first_ip_event_type\n",
       " Mode:logical          Length:52532        Length:52532       \n",
       " TRUE:544              Class :character    Class :character   \n",
       " NA's:51988            Mode  :character    Mode  :character   \n",
       "                                                              \n",
       "                                                              \n",
       "                                                              \n",
       "                                                              \n",
       " first_ip_pat_service last_emerg_lv_of_care last_emerg_event_type\n",
       " Length:52532         Mode:logical          Length:52532         \n",
       " Class :character     NA's:52532            Class :character     \n",
       " Mode  :character                           Mode  :character     \n",
       "                                                                 \n",
       "                                                                 \n",
       "                                                                 \n",
       "                                                                 \n",
       " last_emerg_pat_service pat_loc_traj       pat_serv_traj     \n",
       " Length:52532           Length:52532       Length:52532      \n",
       " Class :character       Class :character   Class :character  \n",
       " Mode  :character       Mode  :character   Mode  :character  \n",
       "                                                             \n",
       "                                                             \n",
       "                                                             \n",
       "                                                             \n",
       " hr_to_first_loc_change personel_count  \n",
       " Min.   : 0.00          Min.   : 1.000  \n",
       " 1st Qu.: 2.48          1st Qu.: 2.000  \n",
       " Median : 8.87          Median : 3.000  \n",
       " Mean   : 9.85          Mean   : 3.763  \n",
       " 3rd Qu.:16.58          3rd Qu.: 5.000  \n",
       " Max.   :24.00          Max.   :35.000  \n",
       " NA's   :45917          NA's   :367     "
      ]
     },
     "metadata": {},
     "output_type": "display_data"
    }
   ],
   "source": [
    "summary(all)"
   ]
  },
  {
   "cell_type": "code",
   "execution_count": null,
   "metadata": {},
   "outputs": [],
   "source": []
  }
 ],
 "metadata": {
  "environment": {
   "name": "r-cpu.4-0.m71",
   "type": "gcloud",
   "uri": "gcr.io/deeplearning-platform-release/r-cpu.4-0:m71"
  },
  "kernelspec": {
   "display_name": "R",
   "language": "R",
   "name": "ir"
  },
  "language_info": {
   "codemirror_mode": "r",
   "file_extension": ".r",
   "mimetype": "text/x-r-source",
   "name": "R",
   "pygments_lexer": "r",
   "version": "4.1.0"
  }
 },
 "nbformat": 4,
 "nbformat_minor": 4
}
