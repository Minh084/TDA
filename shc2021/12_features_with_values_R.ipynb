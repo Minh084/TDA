{
 "cells": [
  {
   "cell_type": "markdown",
   "metadata": {},
   "source": [
    "### Descriptions:\n",
    "\n",
    "JOIN all features with values together first, in the *long* format, to be merged with feature counts\n",
    "\n",
    "**Inputs:** \n",
    "- `6_5_coh2_vitals`: has all processed vital signs (not the summary stats)\n",
    "- `6_6_coh3_labs`: has all processed labs\n",
    "- `6_8_coh4_all_imputedHWESI`: has demographics & imputed HW (cohort4_all) & imputed ESI (cohort3 and finalized w/ cohort4)\n",
    "- `6_4_cohort4`: cohort3 with labels and not in old cohort\n",
    "\n",
    "**Outputs:**\n",
    "- `6_9_coh4_feature_values`: used cohort4, only new cohort, no overlapping!"
   ]
  },
  {
   "cell_type": "markdown",
   "metadata": {},
   "source": [
    "### Importing R libraries"
   ]
  },
  {
   "cell_type": "code",
   "execution_count": 22,
   "metadata": {
    "ExecuteTime": {
     "end_time": "2020-05-21T00:38:06.078240Z",
     "start_time": "2020-05-21T00:38:02.778Z"
    }
   },
   "outputs": [],
   "source": [
    "library(bigrquery)  # to query STARR-OMOP (stored in BigQuery) using SQL\n",
    "library(tidyverse)\n",
    "library(lubridate)\n",
    "# library(mice)\n",
    "# library(VIM) # for missing data plot\n",
    "\n",
    "# library(data.table)\n",
    "# library(Matrix)\n",
    "# library(caret) # import this before glmnet to avoid rlang version problem\n",
    "# library(glmnet)\n",
    "# library(bit64)\n",
    "\n",
    "# library(slam)\n",
    "# library(mtools) for one hot coder, not available on Nero or use caret or tidyr\n",
    "options(repr.matrix.max.rows=250, repr.matrix.max.cols=30)"
   ]
  },
  {
   "cell_type": "markdown",
   "metadata": {},
   "source": [
    "### Call back all datasets: \n",
    "* demographic with imputed HW and ESI\n",
    "* vitals, cohort with at least a complete set of vs only\n",
    "* labs, cohort with at least a lab result\n",
    "* cohort_final"
   ]
  },
  {
   "cell_type": "code",
   "execution_count": 23,
   "metadata": {},
   "outputs": [
    {
     "data": {
      "text/html": [
       "1418197"
      ],
      "text/latex": [
       "1418197"
      ],
      "text/markdown": [
       "1418197"
      ],
      "text/plain": [
       "[1] 1418197"
      ]
     },
     "metadata": {},
     "output_type": "display_data"
    },
    {
     "data": {
      "text/html": [
       "1887672"
      ],
      "text/latex": [
       "1887672"
      ],
      "text/markdown": [
       "1887672"
      ],
      "text/plain": [
       "[1] 1887672"
      ]
     },
     "metadata": {},
     "output_type": "display_data"
    },
    {
     "data": {
      "text/html": [
       "52532"
      ],
      "text/latex": [
       "52532"
      ],
      "text/markdown": [
       "52532"
      ],
      "text/plain": [
       "[1] 52532"
      ]
     },
     "metadata": {},
     "output_type": "display_data"
    },
    {
     "data": {
      "text/html": [
       "51846"
      ],
      "text/latex": [
       "51846"
      ],
      "text/markdown": [
       "51846"
      ],
      "text/plain": [
       "[1] 51846"
      ]
     },
     "metadata": {},
     "output_type": "display_data"
    }
   ],
   "source": [
    "# read inputs\n",
    "datadir6 = \"../../DataTD/shc2021\"\n",
    "outdir = \"../../OutputTD/shc2021\"\n",
    "\n",
    "vitals0 <- read.csv(file.path(outdir, '5_coh2_vitals.csv'))\n",
    "nrow(vitals0) #1418197\n",
    "\n",
    "labs0 <- read.csv(file.path(outdir, '6_coh3_labs.csv'))\n",
    "nrow(labs0) #1887672\n",
    "\n",
    "demos <- read.csv(file.path(outdir, '8_coh4_all_imputedHWESI.csv'))\n",
    "nrow(demos) # all cohort4 52532\n",
    "\n",
    "# only new cohort with new features (door-to-dispo time and note counts x3)\n",
    "cohort4 <- read.csv(file.path(outdir, '11_coh4_noOR_noDKA_edtime_notecount.csv'))\n",
    "nrow(cohort4) # 51846"
   ]
  },
  {
   "cell_type": "code",
   "execution_count": 24,
   "metadata": {},
   "outputs": [
    {
     "data": {
      "text/html": [
       "<style>\n",
       ".list-inline {list-style: none; margin:0; padding: 0}\n",
       ".list-inline>li {display: inline-block}\n",
       ".list-inline>li:not(:last-child)::after {content: \"\\00b7\"; padding: 0 .5ex}\n",
       "</style>\n",
       "<ol class=list-inline><li>'anon_id'</li><li>'pat_enc_csn_id_coded'</li><li>'admit_time'</li><li>'first_label'</li><li>'death_3hr_recent_label'</li><li>'death_6hr_recent_label'</li><li>'death_9hr_recent_label'</li><li>'death_12hr_recent_label'</li><li>'death_24hr_recent_label'</li><li>'hours_in_ed'</li><li>'door_to_dispo_all_notes'</li><li>'door_to_dispo_rn_notes'</li><li>'door_to_dispo_md_notes'</li></ol>\n"
      ],
      "text/latex": [
       "\\begin{enumerate*}\n",
       "\\item 'anon\\_id'\n",
       "\\item 'pat\\_enc\\_csn\\_id\\_coded'\n",
       "\\item 'admit\\_time'\n",
       "\\item 'first\\_label'\n",
       "\\item 'death\\_3hr\\_recent\\_label'\n",
       "\\item 'death\\_6hr\\_recent\\_label'\n",
       "\\item 'death\\_9hr\\_recent\\_label'\n",
       "\\item 'death\\_12hr\\_recent\\_label'\n",
       "\\item 'death\\_24hr\\_recent\\_label'\n",
       "\\item 'hours\\_in\\_ed'\n",
       "\\item 'door\\_to\\_dispo\\_all\\_notes'\n",
       "\\item 'door\\_to\\_dispo\\_rn\\_notes'\n",
       "\\item 'door\\_to\\_dispo\\_md\\_notes'\n",
       "\\end{enumerate*}\n"
      ],
      "text/markdown": [
       "1. 'anon_id'\n",
       "2. 'pat_enc_csn_id_coded'\n",
       "3. 'admit_time'\n",
       "4. 'first_label'\n",
       "5. 'death_3hr_recent_label'\n",
       "6. 'death_6hr_recent_label'\n",
       "7. 'death_9hr_recent_label'\n",
       "8. 'death_12hr_recent_label'\n",
       "9. 'death_24hr_recent_label'\n",
       "10. 'hours_in_ed'\n",
       "11. 'door_to_dispo_all_notes'\n",
       "12. 'door_to_dispo_rn_notes'\n",
       "13. 'door_to_dispo_md_notes'\n",
       "\n",
       "\n"
      ],
      "text/plain": [
       " [1] \"anon_id\"                 \"pat_enc_csn_id_coded\"   \n",
       " [3] \"admit_time\"              \"first_label\"            \n",
       " [5] \"death_3hr_recent_label\"  \"death_6hr_recent_label\" \n",
       " [7] \"death_9hr_recent_label\"  \"death_12hr_recent_label\"\n",
       " [9] \"death_24hr_recent_label\" \"hours_in_ed\"            \n",
       "[11] \"door_to_dispo_all_notes\" \"door_to_dispo_rn_notes\" \n",
       "[13] \"door_to_dispo_md_notes\" "
      ]
     },
     "metadata": {},
     "output_type": "display_data"
    }
   ],
   "source": [
    "names(cohort4)"
   ]
  },
  {
   "cell_type": "code",
   "execution_count": 25,
   "metadata": {},
   "outputs": [
    {
     "data": {
      "text/html": [
       "11094"
      ],
      "text/latex": [
       "11094"
      ],
      "text/markdown": [
       "11094"
      ],
      "text/plain": [
       "[1] 11094"
      ]
     },
     "metadata": {},
     "output_type": "display_data"
    },
    {
     "data": {
      "text/html": [
       "0"
      ],
      "text/latex": [
       "0"
      ],
      "text/markdown": [
       "0"
      ],
      "text/plain": [
       "[1] 0"
      ]
     },
     "metadata": {},
     "output_type": "display_data"
    },
    {
     "data": {
      "text/html": [
       "5109"
      ],
      "text/latex": [
       "5109"
      ],
      "text/markdown": [
       "5109"
      ],
      "text/plain": [
       "[1] 5109"
      ]
     },
     "metadata": {},
     "output_type": "display_data"
    },
    {
     "data": {
      "text/html": [
       "2593"
      ],
      "text/latex": [
       "2593"
      ],
      "text/markdown": [
       "2593"
      ],
      "text/plain": [
       "[1] 2593"
      ]
     },
     "metadata": {},
     "output_type": "display_data"
    }
   ],
   "source": [
    "# these come from different cohort\n",
    "length(setdiff(vitals0$pat_enc_csn_id_coded, cohort4$pat_enc_csn_id_coded)) # 11094 different cohort\n",
    "length(setdiff(cohort4$pat_enc_csn_id_coded, vitals0$pat_enc_csn_id_coded)) # 0\n",
    "\n",
    "length(setdiff(vitals0$pat_enc_csn_id_coded, labs0$pat_enc_csn_id_coded)) # 5109 different cohort\n",
    "length(setdiff(cohort4$pat_enc_csn_id_coded, labs0$pat_enc_csn_id_coded)) # 2593 less than before,, good"
   ]
  },
  {
   "cell_type": "code",
   "execution_count": 26,
   "metadata": {},
   "outputs": [
    {
     "data": {
      "text/html": [
       "62940"
      ],
      "text/latex": [
       "62940"
      ],
      "text/markdown": [
       "62940"
      ],
      "text/plain": [
       "[1] 62940"
      ]
     },
     "metadata": {},
     "output_type": "display_data"
    },
    {
     "data": {
      "text/html": [
       "62940"
      ],
      "text/latex": [
       "62940"
      ],
      "text/markdown": [
       "62940"
      ],
      "text/plain": [
       "[1] 62940"
      ]
     },
     "metadata": {},
     "output_type": "display_data"
    },
    {
     "data": {
      "text/html": [
       "52532"
      ],
      "text/latex": [
       "52532"
      ],
      "text/markdown": [
       "52532"
      ],
      "text/plain": [
       "[1] 52532"
      ]
     },
     "metadata": {},
     "output_type": "display_data"
    },
    {
     "data": {
      "text/html": [
       "52532"
      ],
      "text/latex": [
       "52532"
      ],
      "text/markdown": [
       "52532"
      ],
      "text/plain": [
       "[1] 52532"
      ]
     },
     "metadata": {},
     "output_type": "display_data"
    },
    {
     "data": {
      "text/html": [
       "57831"
      ],
      "text/latex": [
       "57831"
      ],
      "text/markdown": [
       "57831"
      ],
      "text/plain": [
       "[1] 57831"
      ]
     },
     "metadata": {},
     "output_type": "display_data"
    },
    {
     "data": {
      "text/html": [
       "57831"
      ],
      "text/latex": [
       "57831"
      ],
      "text/markdown": [
       "57831"
      ],
      "text/plain": [
       "[1] 57831"
      ]
     },
     "metadata": {},
     "output_type": "display_data"
    },
    {
     "data": {
      "text/html": [
       "51846"
      ],
      "text/latex": [
       "51846"
      ],
      "text/markdown": [
       "51846"
      ],
      "text/plain": [
       "[1] 51846"
      ]
     },
     "metadata": {},
     "output_type": "display_data"
    },
    {
     "data": {
      "text/html": [
       "51846"
      ],
      "text/latex": [
       "51846"
      ],
      "text/markdown": [
       "51846"
      ],
      "text/plain": [
       "[1] 51846"
      ]
     },
     "metadata": {},
     "output_type": "display_data"
    },
    {
     "data": {
      "text/html": [
       "686"
      ],
      "text/latex": [
       "686"
      ],
      "text/markdown": [
       "686"
      ],
      "text/plain": [
       "[1] 686"
      ]
     },
     "metadata": {},
     "output_type": "display_data"
    },
    {
     "data": {
      "text/html": [
       "11094"
      ],
      "text/latex": [
       "11094"
      ],
      "text/markdown": [
       "11094"
      ],
      "text/plain": [
       "[1] 11094"
      ]
     },
     "metadata": {},
     "output_type": "display_data"
    },
    {
     "data": {
      "text/html": [
       "8578"
      ],
      "text/latex": [
       "8578"
      ],
      "text/markdown": [
       "8578"
      ],
      "text/plain": [
       "[1] 8578"
      ]
     },
     "metadata": {},
     "output_type": "display_data"
    }
   ],
   "source": [
    "nrow(vitals0 %>% select(anon_id, pat_enc_csn_id_coded) %>% distinct())\n",
    "length(unique(vitals0$pat_enc_csn_id_coded)) # 2nd cohort, larger 45613\n",
    "\n",
    "nrow(demos %>% select(anon_id, pat_enc_csn_id_coded) %>% distinct())\n",
    "length(unique(demos$pat_enc_csn_id_coded)) # 3nd cohort, 44258, using only those with a complete set of VS for ESI imputation\n",
    "\n",
    "nrow(labs0 %>% select(anon_id, pat_enc_csn_id_coded) %>% distinct()) # 41627\n",
    "length(unique(labs0$pat_enc_csn_id_coded)) # 41627 (similar before, labs have less than cohort)\n",
    "\n",
    "nrow(cohort4 %>% select(anon_id, pat_enc_csn_id_coded) %>% distinct()) # 43980\n",
    "length(unique(cohort4$pat_enc_csn_id_coded)) # 41627 (similar before, labs have less than cohort)\n",
    "\n",
    "length(setdiff(demos$pat_enc_csn_id_coded, cohort4$pat_enc_csn_id_coded)) # 278\n",
    "length(setdiff(vitals0$pat_enc_csn_id_coded, cohort4$pat_enc_csn_id_coded)) # 1633\n",
    "length(setdiff(labs0$pat_enc_csn_id_coded, cohort4$pat_enc_csn_id_coded)) # 261"
   ]
  },
  {
   "cell_type": "code",
   "execution_count": 27,
   "metadata": {},
   "outputs": [
    {
     "data": {
      "text/html": [
       "<table class=\"dataframe\">\n",
       "<caption>A data.frame: 1 × 13</caption>\n",
       "<thead>\n",
       "\t<tr><th></th><th scope=col>anon_id</th><th scope=col>pat_enc_csn_id_coded</th><th scope=col>admit_time</th><th scope=col>first_label</th><th scope=col>death_3hr_recent_label</th><th scope=col>death_6hr_recent_label</th><th scope=col>death_9hr_recent_label</th><th scope=col>death_12hr_recent_label</th><th scope=col>death_24hr_recent_label</th><th scope=col>hours_in_ed</th><th scope=col>door_to_dispo_all_notes</th><th scope=col>door_to_dispo_rn_notes</th><th scope=col>door_to_dispo_md_notes</th></tr>\n",
       "\t<tr><th></th><th scope=col>&lt;chr&gt;</th><th scope=col>&lt;dbl&gt;</th><th scope=col>&lt;chr&gt;</th><th scope=col>&lt;int&gt;</th><th scope=col>&lt;int&gt;</th><th scope=col>&lt;int&gt;</th><th scope=col>&lt;int&gt;</th><th scope=col>&lt;int&gt;</th><th scope=col>&lt;int&gt;</th><th scope=col>&lt;dbl&gt;</th><th scope=col>&lt;int&gt;</th><th scope=col>&lt;int&gt;</th><th scope=col>&lt;int&gt;</th></tr>\n",
       "</thead>\n",
       "<tbody>\n",
       "\t<tr><th scope=row>1</th><td>JC1000116</td><td>131066472308</td><td>2015-01-28 00:46:00</td><td>0</td><td>0</td><td>0</td><td>0</td><td>0</td><td>0</td><td>20.37</td><td>33</td><td>23</td><td>8</td></tr>\n",
       "</tbody>\n",
       "</table>\n"
      ],
      "text/latex": [
       "A data.frame: 1 × 13\n",
       "\\begin{tabular}{r|lllllllllllll}\n",
       "  & anon\\_id & pat\\_enc\\_csn\\_id\\_coded & admit\\_time & first\\_label & death\\_3hr\\_recent\\_label & death\\_6hr\\_recent\\_label & death\\_9hr\\_recent\\_label & death\\_12hr\\_recent\\_label & death\\_24hr\\_recent\\_label & hours\\_in\\_ed & door\\_to\\_dispo\\_all\\_notes & door\\_to\\_dispo\\_rn\\_notes & door\\_to\\_dispo\\_md\\_notes\\\\\n",
       "  & <chr> & <dbl> & <chr> & <int> & <int> & <int> & <int> & <int> & <int> & <dbl> & <int> & <int> & <int>\\\\\n",
       "\\hline\n",
       "\t1 & JC1000116 & 131066472308 & 2015-01-28 00:46:00 & 0 & 0 & 0 & 0 & 0 & 0 & 20.37 & 33 & 23 & 8\\\\\n",
       "\\end{tabular}\n"
      ],
      "text/markdown": [
       "\n",
       "A data.frame: 1 × 13\n",
       "\n",
       "| <!--/--> | anon_id &lt;chr&gt; | pat_enc_csn_id_coded &lt;dbl&gt; | admit_time &lt;chr&gt; | first_label &lt;int&gt; | death_3hr_recent_label &lt;int&gt; | death_6hr_recent_label &lt;int&gt; | death_9hr_recent_label &lt;int&gt; | death_12hr_recent_label &lt;int&gt; | death_24hr_recent_label &lt;int&gt; | hours_in_ed &lt;dbl&gt; | door_to_dispo_all_notes &lt;int&gt; | door_to_dispo_rn_notes &lt;int&gt; | door_to_dispo_md_notes &lt;int&gt; |\n",
       "|---|---|---|---|---|---|---|---|---|---|---|---|---|---|\n",
       "| 1 | JC1000116 | 131066472308 | 2015-01-28 00:46:00 | 0 | 0 | 0 | 0 | 0 | 0 | 20.37 | 33 | 23 | 8 |\n",
       "\n"
      ],
      "text/plain": [
       "  anon_id   pat_enc_csn_id_coded admit_time          first_label\n",
       "1 JC1000116 131066472308         2015-01-28 00:46:00 0          \n",
       "  death_3hr_recent_label death_6hr_recent_label death_9hr_recent_label\n",
       "1 0                      0                      0                     \n",
       "  death_12hr_recent_label death_24hr_recent_label hours_in_ed\n",
       "1 0                       0                       20.37      \n",
       "  door_to_dispo_all_notes door_to_dispo_rn_notes door_to_dispo_md_notes\n",
       "1 33                      23                     8                     "
      ]
     },
     "metadata": {},
     "output_type": "display_data"
    },
    {
     "data": {
      "text/html": [
       "<table class=\"dataframe\">\n",
       "<caption>A data.frame: 1 × 22</caption>\n",
       "<thead>\n",
       "\t<tr><th></th><th scope=col>anon_id</th><th scope=col>pat_enc_csn_id_coded</th><th scope=col>inpatient_data_id_coded</th><th scope=col>admit_time</th><th scope=col>label</th><th scope=col>ESI_i</th><th scope=col>delta_ESI</th><th scope=col>gender</th><th scope=col>age</th><th scope=col>insurance</th><th scope=col>English</th><th scope=col>Height_i</th><th scope=col>delta_H</th><th scope=col>Weight_i</th><th scope=col>delta_W</th><th scope=col>race.Asian</th><th scope=col>race.Black</th><th scope=col>race.Native.American</th><th scope=col>race.Other</th><th scope=col>race.Pacific.Islander</th><th scope=col>race.Unknown</th><th scope=col>race.White</th></tr>\n",
       "\t<tr><th></th><th scope=col>&lt;chr&gt;</th><th scope=col>&lt;dbl&gt;</th><th scope=col>&lt;int&gt;</th><th scope=col>&lt;chr&gt;</th><th scope=col>&lt;int&gt;</th><th scope=col>&lt;int&gt;</th><th scope=col>&lt;int&gt;</th><th scope=col>&lt;int&gt;</th><th scope=col>&lt;int&gt;</th><th scope=col>&lt;int&gt;</th><th scope=col>&lt;int&gt;</th><th scope=col>&lt;dbl&gt;</th><th scope=col>&lt;int&gt;</th><th scope=col>&lt;dbl&gt;</th><th scope=col>&lt;int&gt;</th><th scope=col>&lt;int&gt;</th><th scope=col>&lt;int&gt;</th><th scope=col>&lt;int&gt;</th><th scope=col>&lt;int&gt;</th><th scope=col>&lt;int&gt;</th><th scope=col>&lt;int&gt;</th><th scope=col>&lt;int&gt;</th></tr>\n",
       "</thead>\n",
       "<tbody>\n",
       "\t<tr><th scope=row>1</th><td>JC1000116</td><td>131066472308</td><td>19328596</td><td>2015-01-28 00:46:00</td><td>0</td><td>3</td><td>0</td><td>1</td><td>38</td><td>1</td><td>0</td><td>154</td><td>0</td><td>73.05</td><td>0</td><td>0</td><td>0</td><td>0</td><td>1</td><td>0</td><td>0</td><td>0</td></tr>\n",
       "</tbody>\n",
       "</table>\n"
      ],
      "text/latex": [
       "A data.frame: 1 × 22\n",
       "\\begin{tabular}{r|llllllllllllllllllllll}\n",
       "  & anon\\_id & pat\\_enc\\_csn\\_id\\_coded & inpatient\\_data\\_id\\_coded & admit\\_time & label & ESI\\_i & delta\\_ESI & gender & age & insurance & English & Height\\_i & delta\\_H & Weight\\_i & delta\\_W & race.Asian & race.Black & race.Native.American & race.Other & race.Pacific.Islander & race.Unknown & race.White\\\\\n",
       "  & <chr> & <dbl> & <int> & <chr> & <int> & <int> & <int> & <int> & <int> & <int> & <int> & <dbl> & <int> & <dbl> & <int> & <int> & <int> & <int> & <int> & <int> & <int> & <int>\\\\\n",
       "\\hline\n",
       "\t1 & JC1000116 & 131066472308 & 19328596 & 2015-01-28 00:46:00 & 0 & 3 & 0 & 1 & 38 & 1 & 0 & 154 & 0 & 73.05 & 0 & 0 & 0 & 0 & 1 & 0 & 0 & 0\\\\\n",
       "\\end{tabular}\n"
      ],
      "text/markdown": [
       "\n",
       "A data.frame: 1 × 22\n",
       "\n",
       "| <!--/--> | anon_id &lt;chr&gt; | pat_enc_csn_id_coded &lt;dbl&gt; | inpatient_data_id_coded &lt;int&gt; | admit_time &lt;chr&gt; | label &lt;int&gt; | ESI_i &lt;int&gt; | delta_ESI &lt;int&gt; | gender &lt;int&gt; | age &lt;int&gt; | insurance &lt;int&gt; | English &lt;int&gt; | Height_i &lt;dbl&gt; | delta_H &lt;int&gt; | Weight_i &lt;dbl&gt; | delta_W &lt;int&gt; | race.Asian &lt;int&gt; | race.Black &lt;int&gt; | race.Native.American &lt;int&gt; | race.Other &lt;int&gt; | race.Pacific.Islander &lt;int&gt; | race.Unknown &lt;int&gt; | race.White &lt;int&gt; |\n",
       "|---|---|---|---|---|---|---|---|---|---|---|---|---|---|---|---|---|---|---|---|---|---|---|\n",
       "| 1 | JC1000116 | 131066472308 | 19328596 | 2015-01-28 00:46:00 | 0 | 3 | 0 | 1 | 38 | 1 | 0 | 154 | 0 | 73.05 | 0 | 0 | 0 | 0 | 1 | 0 | 0 | 0 |\n",
       "\n"
      ],
      "text/plain": [
       "  anon_id   pat_enc_csn_id_coded inpatient_data_id_coded admit_time         \n",
       "1 JC1000116 131066472308         19328596                2015-01-28 00:46:00\n",
       "  label ESI_i delta_ESI gender age insurance English Height_i delta_H Weight_i\n",
       "1 0     3     0         1      38  1         0       154      0       73.05   \n",
       "  delta_W race.Asian race.Black race.Native.American race.Other\n",
       "1 0       0          0          0                    1         \n",
       "  race.Pacific.Islander race.Unknown race.White\n",
       "1 0                     0            0         "
      ]
     },
     "metadata": {},
     "output_type": "display_data"
    },
    {
     "data": {
      "text/html": [
       "<table class=\"dataframe\">\n",
       "<caption>A data.frame: 1 × 11</caption>\n",
       "<thead>\n",
       "\t<tr><th></th><th scope=col>anon_id</th><th scope=col>pat_enc_csn_id_coded</th><th scope=col>inpatient_data_id_coded</th><th scope=col>admit_time</th><th scope=col>label</th><th scope=col>template</th><th scope=col>features</th><th scope=col>units</th><th scope=col>recorded_time</th><th scope=col>feature_type</th><th scope=col>values</th></tr>\n",
       "\t<tr><th></th><th scope=col>&lt;chr&gt;</th><th scope=col>&lt;dbl&gt;</th><th scope=col>&lt;int&gt;</th><th scope=col>&lt;chr&gt;</th><th scope=col>&lt;int&gt;</th><th scope=col>&lt;chr&gt;</th><th scope=col>&lt;chr&gt;</th><th scope=col>&lt;chr&gt;</th><th scope=col>&lt;chr&gt;</th><th scope=col>&lt;chr&gt;</th><th scope=col>&lt;dbl&gt;</th></tr>\n",
       "</thead>\n",
       "<tbody>\n",
       "\t<tr><th scope=row>1</th><td>JC1000116</td><td>131066472308</td><td>19328596</td><td>2015-01-28 00:46:00+00:00</td><td>0</td><td>ICU Intake &amp; Output</td><td>DBP</td><td></td><td>2015-01-27 07:30:00+00:00</td><td>vitals</td><td>57</td></tr>\n",
       "</tbody>\n",
       "</table>\n"
      ],
      "text/latex": [
       "A data.frame: 1 × 11\n",
       "\\begin{tabular}{r|lllllllllll}\n",
       "  & anon\\_id & pat\\_enc\\_csn\\_id\\_coded & inpatient\\_data\\_id\\_coded & admit\\_time & label & template & features & units & recorded\\_time & feature\\_type & values\\\\\n",
       "  & <chr> & <dbl> & <int> & <chr> & <int> & <chr> & <chr> & <chr> & <chr> & <chr> & <dbl>\\\\\n",
       "\\hline\n",
       "\t1 & JC1000116 & 131066472308 & 19328596 & 2015-01-28 00:46:00+00:00 & 0 & ICU Intake \\& Output & DBP &  & 2015-01-27 07:30:00+00:00 & vitals & 57\\\\\n",
       "\\end{tabular}\n"
      ],
      "text/markdown": [
       "\n",
       "A data.frame: 1 × 11\n",
       "\n",
       "| <!--/--> | anon_id &lt;chr&gt; | pat_enc_csn_id_coded &lt;dbl&gt; | inpatient_data_id_coded &lt;int&gt; | admit_time &lt;chr&gt; | label &lt;int&gt; | template &lt;chr&gt; | features &lt;chr&gt; | units &lt;chr&gt; | recorded_time &lt;chr&gt; | feature_type &lt;chr&gt; | values &lt;dbl&gt; |\n",
       "|---|---|---|---|---|---|---|---|---|---|---|---|\n",
       "| 1 | JC1000116 | 131066472308 | 19328596 | 2015-01-28 00:46:00+00:00 | 0 | ICU Intake &amp; Output | DBP | <!----> | 2015-01-27 07:30:00+00:00 | vitals | 57 |\n",
       "\n"
      ],
      "text/plain": [
       "  anon_id   pat_enc_csn_id_coded inpatient_data_id_coded\n",
       "1 JC1000116 131066472308         19328596               \n",
       "  admit_time                label template            features units\n",
       "1 2015-01-28 00:46:00+00:00 0     ICU Intake & Output DBP           \n",
       "  recorded_time             feature_type values\n",
       "1 2015-01-27 07:30:00+00:00 vitals       57    "
      ]
     },
     "metadata": {},
     "output_type": "display_data"
    },
    {
     "data": {
      "text/html": [
       "<table class=\"dataframe\">\n",
       "<caption>A data.frame: 1 × 16</caption>\n",
       "<thead>\n",
       "\t<tr><th></th><th scope=col>anon_id</th><th scope=col>pat_enc_csn_id_coded</th><th scope=col>inpatient_data_id_coded</th><th scope=col>admit_time</th><th scope=col>label</th><th scope=col>features</th><th scope=col>base_name</th><th scope=col>ord_value</th><th scope=col>values</th><th scope=col>reference_low</th><th scope=col>reference_high</th><th scope=col>reference_unit</th><th scope=col>result_in_range_yn</th><th scope=col>result_flag</th><th scope=col>result_time</th><th scope=col>feature_type</th></tr>\n",
       "\t<tr><th></th><th scope=col>&lt;chr&gt;</th><th scope=col>&lt;dbl&gt;</th><th scope=col>&lt;int&gt;</th><th scope=col>&lt;chr&gt;</th><th scope=col>&lt;int&gt;</th><th scope=col>&lt;chr&gt;</th><th scope=col>&lt;chr&gt;</th><th scope=col>&lt;chr&gt;</th><th scope=col>&lt;dbl&gt;</th><th scope=col>&lt;chr&gt;</th><th scope=col>&lt;chr&gt;</th><th scope=col>&lt;chr&gt;</th><th scope=col>&lt;chr&gt;</th><th scope=col>&lt;chr&gt;</th><th scope=col>&lt;chr&gt;</th><th scope=col>&lt;chr&gt;</th></tr>\n",
       "</thead>\n",
       "<tbody>\n",
       "\t<tr><th scope=row>1</th><td>JC1749400</td><td>131065392332</td><td>19198682</td><td>2015-01-13 13:49:00+00:00</td><td>1</td><td>pH_a</td><td>PHA</td><td>7.32</td><td>7.32</td><td>7.35</td><td>7.45</td><td></td><td></td><td>Low</td><td>2015-01-13 09:21:00+00:00</td><td>labs</td></tr>\n",
       "</tbody>\n",
       "</table>\n"
      ],
      "text/latex": [
       "A data.frame: 1 × 16\n",
       "\\begin{tabular}{r|llllllllllllllll}\n",
       "  & anon\\_id & pat\\_enc\\_csn\\_id\\_coded & inpatient\\_data\\_id\\_coded & admit\\_time & label & features & base\\_name & ord\\_value & values & reference\\_low & reference\\_high & reference\\_unit & result\\_in\\_range\\_yn & result\\_flag & result\\_time & feature\\_type\\\\\n",
       "  & <chr> & <dbl> & <int> & <chr> & <int> & <chr> & <chr> & <chr> & <dbl> & <chr> & <chr> & <chr> & <chr> & <chr> & <chr> & <chr>\\\\\n",
       "\\hline\n",
       "\t1 & JC1749400 & 131065392332 & 19198682 & 2015-01-13 13:49:00+00:00 & 1 & pH\\_a & PHA & 7.32 & 7.32 & 7.35 & 7.45 &  &  & Low & 2015-01-13 09:21:00+00:00 & labs\\\\\n",
       "\\end{tabular}\n"
      ],
      "text/markdown": [
       "\n",
       "A data.frame: 1 × 16\n",
       "\n",
       "| <!--/--> | anon_id &lt;chr&gt; | pat_enc_csn_id_coded &lt;dbl&gt; | inpatient_data_id_coded &lt;int&gt; | admit_time &lt;chr&gt; | label &lt;int&gt; | features &lt;chr&gt; | base_name &lt;chr&gt; | ord_value &lt;chr&gt; | values &lt;dbl&gt; | reference_low &lt;chr&gt; | reference_high &lt;chr&gt; | reference_unit &lt;chr&gt; | result_in_range_yn &lt;chr&gt; | result_flag &lt;chr&gt; | result_time &lt;chr&gt; | feature_type &lt;chr&gt; |\n",
       "|---|---|---|---|---|---|---|---|---|---|---|---|---|---|---|---|---|\n",
       "| 1 | JC1749400 | 131065392332 | 19198682 | 2015-01-13 13:49:00+00:00 | 1 | pH_a | PHA | 7.32 | 7.32 | 7.35 | 7.45 | <!----> | <!----> | Low | 2015-01-13 09:21:00+00:00 | labs |\n",
       "\n"
      ],
      "text/plain": [
       "  anon_id   pat_enc_csn_id_coded inpatient_data_id_coded\n",
       "1 JC1749400 131065392332         19198682               \n",
       "  admit_time                label features base_name ord_value values\n",
       "1 2015-01-13 13:49:00+00:00 1     pH_a     PHA       7.32      7.32  \n",
       "  reference_low reference_high reference_unit result_in_range_yn result_flag\n",
       "1 7.35          7.45                                             Low        \n",
       "  result_time               feature_type\n",
       "1 2015-01-13 09:21:00+00:00 labs        "
      ]
     },
     "metadata": {},
     "output_type": "display_data"
    }
   ],
   "source": [
    "head(cohort4, 1)\n",
    "head(demos, 1)\n",
    "head(vitals0, 1)\n",
    "head(labs0, 1)"
   ]
  },
  {
   "cell_type": "code",
   "execution_count": 28,
   "metadata": {},
   "outputs": [
    {
     "data": {
      "text/html": [
       "<style>\n",
       ".list-inline {list-style: none; margin:0; padding: 0}\n",
       ".list-inline>li {display: inline-block}\n",
       ".list-inline>li:not(:last-child)::after {content: \"\\00b7\"; padding: 0 .5ex}\n",
       "</style>\n",
       "<ol class=list-inline><li>'anon_id'</li><li>'pat_enc_csn_id_coded'</li><li>'admit_time'</li><li>'first_label'</li><li>'death_3hr_recent_label'</li><li>'death_6hr_recent_label'</li><li>'death_9hr_recent_label'</li><li>'death_12hr_recent_label'</li><li>'death_24hr_recent_label'</li><li>'hours_in_ed'</li><li>'door_to_dispo_all_notes'</li><li>'door_to_dispo_rn_notes'</li><li>'door_to_dispo_md_notes'</li></ol>\n"
      ],
      "text/latex": [
       "\\begin{enumerate*}\n",
       "\\item 'anon\\_id'\n",
       "\\item 'pat\\_enc\\_csn\\_id\\_coded'\n",
       "\\item 'admit\\_time'\n",
       "\\item 'first\\_label'\n",
       "\\item 'death\\_3hr\\_recent\\_label'\n",
       "\\item 'death\\_6hr\\_recent\\_label'\n",
       "\\item 'death\\_9hr\\_recent\\_label'\n",
       "\\item 'death\\_12hr\\_recent\\_label'\n",
       "\\item 'death\\_24hr\\_recent\\_label'\n",
       "\\item 'hours\\_in\\_ed'\n",
       "\\item 'door\\_to\\_dispo\\_all\\_notes'\n",
       "\\item 'door\\_to\\_dispo\\_rn\\_notes'\n",
       "\\item 'door\\_to\\_dispo\\_md\\_notes'\n",
       "\\end{enumerate*}\n"
      ],
      "text/markdown": [
       "1. 'anon_id'\n",
       "2. 'pat_enc_csn_id_coded'\n",
       "3. 'admit_time'\n",
       "4. 'first_label'\n",
       "5. 'death_3hr_recent_label'\n",
       "6. 'death_6hr_recent_label'\n",
       "7. 'death_9hr_recent_label'\n",
       "8. 'death_12hr_recent_label'\n",
       "9. 'death_24hr_recent_label'\n",
       "10. 'hours_in_ed'\n",
       "11. 'door_to_dispo_all_notes'\n",
       "12. 'door_to_dispo_rn_notes'\n",
       "13. 'door_to_dispo_md_notes'\n",
       "\n",
       "\n"
      ],
      "text/plain": [
       " [1] \"anon_id\"                 \"pat_enc_csn_id_coded\"   \n",
       " [3] \"admit_time\"              \"first_label\"            \n",
       " [5] \"death_3hr_recent_label\"  \"death_6hr_recent_label\" \n",
       " [7] \"death_9hr_recent_label\"  \"death_12hr_recent_label\"\n",
       " [9] \"death_24hr_recent_label\" \"hours_in_ed\"            \n",
       "[11] \"door_to_dispo_all_notes\" \"door_to_dispo_rn_notes\" \n",
       "[13] \"door_to_dispo_md_notes\" "
      ]
     },
     "metadata": {},
     "output_type": "display_data"
    },
    {
     "data": {
      "text/html": [
       "<style>\n",
       ".list-inline {list-style: none; margin:0; padding: 0}\n",
       ".list-inline>li {display: inline-block}\n",
       ".list-inline>li:not(:last-child)::after {content: \"\\00b7\"; padding: 0 .5ex}\n",
       "</style>\n",
       "<ol class=list-inline><li>'anon_id'</li><li>'pat_enc_csn_id_coded'</li><li>'inpatient_data_id_coded'</li><li>'admit_time'</li><li>'label'</li><li>'ESI_i'</li><li>'delta_ESI'</li><li>'gender'</li><li>'age'</li><li>'insurance'</li><li>'English'</li><li>'Height_i'</li><li>'delta_H'</li><li>'Weight_i'</li><li>'delta_W'</li><li>'race.Asian'</li><li>'race.Black'</li><li>'race.Native.American'</li><li>'race.Other'</li><li>'race.Pacific.Islander'</li><li>'race.Unknown'</li><li>'race.White'</li></ol>\n"
      ],
      "text/latex": [
       "\\begin{enumerate*}\n",
       "\\item 'anon\\_id'\n",
       "\\item 'pat\\_enc\\_csn\\_id\\_coded'\n",
       "\\item 'inpatient\\_data\\_id\\_coded'\n",
       "\\item 'admit\\_time'\n",
       "\\item 'label'\n",
       "\\item 'ESI\\_i'\n",
       "\\item 'delta\\_ESI'\n",
       "\\item 'gender'\n",
       "\\item 'age'\n",
       "\\item 'insurance'\n",
       "\\item 'English'\n",
       "\\item 'Height\\_i'\n",
       "\\item 'delta\\_H'\n",
       "\\item 'Weight\\_i'\n",
       "\\item 'delta\\_W'\n",
       "\\item 'race.Asian'\n",
       "\\item 'race.Black'\n",
       "\\item 'race.Native.American'\n",
       "\\item 'race.Other'\n",
       "\\item 'race.Pacific.Islander'\n",
       "\\item 'race.Unknown'\n",
       "\\item 'race.White'\n",
       "\\end{enumerate*}\n"
      ],
      "text/markdown": [
       "1. 'anon_id'\n",
       "2. 'pat_enc_csn_id_coded'\n",
       "3. 'inpatient_data_id_coded'\n",
       "4. 'admit_time'\n",
       "5. 'label'\n",
       "6. 'ESI_i'\n",
       "7. 'delta_ESI'\n",
       "8. 'gender'\n",
       "9. 'age'\n",
       "10. 'insurance'\n",
       "11. 'English'\n",
       "12. 'Height_i'\n",
       "13. 'delta_H'\n",
       "14. 'Weight_i'\n",
       "15. 'delta_W'\n",
       "16. 'race.Asian'\n",
       "17. 'race.Black'\n",
       "18. 'race.Native.American'\n",
       "19. 'race.Other'\n",
       "20. 'race.Pacific.Islander'\n",
       "21. 'race.Unknown'\n",
       "22. 'race.White'\n",
       "\n",
       "\n"
      ],
      "text/plain": [
       " [1] \"anon_id\"                 \"pat_enc_csn_id_coded\"   \n",
       " [3] \"inpatient_data_id_coded\" \"admit_time\"             \n",
       " [5] \"label\"                   \"ESI_i\"                  \n",
       " [7] \"delta_ESI\"               \"gender\"                 \n",
       " [9] \"age\"                     \"insurance\"              \n",
       "[11] \"English\"                 \"Height_i\"               \n",
       "[13] \"delta_H\"                 \"Weight_i\"               \n",
       "[15] \"delta_W\"                 \"race.Asian\"             \n",
       "[17] \"race.Black\"              \"race.Native.American\"   \n",
       "[19] \"race.Other\"              \"race.Pacific.Islander\"  \n",
       "[21] \"race.Unknown\"            \"race.White\"             "
      ]
     },
     "metadata": {},
     "output_type": "display_data"
    },
    {
     "data": {
      "text/html": [
       "<style>\n",
       ".list-inline {list-style: none; margin:0; padding: 0}\n",
       ".list-inline>li {display: inline-block}\n",
       ".list-inline>li:not(:last-child)::after {content: \"\\00b7\"; padding: 0 .5ex}\n",
       "</style>\n",
       "<ol class=list-inline><li>'anon_id'</li><li>'pat_enc_csn_id_coded'</li><li>'inpatient_data_id_coded'</li><li>'admit_time'</li><li>'label'</li><li>'template'</li><li>'features'</li><li>'units'</li><li>'recorded_time'</li><li>'feature_type'</li><li>'values'</li></ol>\n"
      ],
      "text/latex": [
       "\\begin{enumerate*}\n",
       "\\item 'anon\\_id'\n",
       "\\item 'pat\\_enc\\_csn\\_id\\_coded'\n",
       "\\item 'inpatient\\_data\\_id\\_coded'\n",
       "\\item 'admit\\_time'\n",
       "\\item 'label'\n",
       "\\item 'template'\n",
       "\\item 'features'\n",
       "\\item 'units'\n",
       "\\item 'recorded\\_time'\n",
       "\\item 'feature\\_type'\n",
       "\\item 'values'\n",
       "\\end{enumerate*}\n"
      ],
      "text/markdown": [
       "1. 'anon_id'\n",
       "2. 'pat_enc_csn_id_coded'\n",
       "3. 'inpatient_data_id_coded'\n",
       "4. 'admit_time'\n",
       "5. 'label'\n",
       "6. 'template'\n",
       "7. 'features'\n",
       "8. 'units'\n",
       "9. 'recorded_time'\n",
       "10. 'feature_type'\n",
       "11. 'values'\n",
       "\n",
       "\n"
      ],
      "text/plain": [
       " [1] \"anon_id\"                 \"pat_enc_csn_id_coded\"   \n",
       " [3] \"inpatient_data_id_coded\" \"admit_time\"             \n",
       " [5] \"label\"                   \"template\"               \n",
       " [7] \"features\"                \"units\"                  \n",
       " [9] \"recorded_time\"           \"feature_type\"           \n",
       "[11] \"values\"                 "
      ]
     },
     "metadata": {},
     "output_type": "display_data"
    },
    {
     "data": {
      "text/html": [
       "<style>\n",
       ".list-inline {list-style: none; margin:0; padding: 0}\n",
       ".list-inline>li {display: inline-block}\n",
       ".list-inline>li:not(:last-child)::after {content: \"\\00b7\"; padding: 0 .5ex}\n",
       "</style>\n",
       "<ol class=list-inline><li>'anon_id'</li><li>'pat_enc_csn_id_coded'</li><li>'inpatient_data_id_coded'</li><li>'admit_time'</li><li>'label'</li><li>'features'</li><li>'base_name'</li><li>'ord_value'</li><li>'values'</li><li>'reference_low'</li><li>'reference_high'</li><li>'reference_unit'</li><li>'result_in_range_yn'</li><li>'result_flag'</li><li>'result_time'</li><li>'feature_type'</li></ol>\n"
      ],
      "text/latex": [
       "\\begin{enumerate*}\n",
       "\\item 'anon\\_id'\n",
       "\\item 'pat\\_enc\\_csn\\_id\\_coded'\n",
       "\\item 'inpatient\\_data\\_id\\_coded'\n",
       "\\item 'admit\\_time'\n",
       "\\item 'label'\n",
       "\\item 'features'\n",
       "\\item 'base\\_name'\n",
       "\\item 'ord\\_value'\n",
       "\\item 'values'\n",
       "\\item 'reference\\_low'\n",
       "\\item 'reference\\_high'\n",
       "\\item 'reference\\_unit'\n",
       "\\item 'result\\_in\\_range\\_yn'\n",
       "\\item 'result\\_flag'\n",
       "\\item 'result\\_time'\n",
       "\\item 'feature\\_type'\n",
       "\\end{enumerate*}\n"
      ],
      "text/markdown": [
       "1. 'anon_id'\n",
       "2. 'pat_enc_csn_id_coded'\n",
       "3. 'inpatient_data_id_coded'\n",
       "4. 'admit_time'\n",
       "5. 'label'\n",
       "6. 'features'\n",
       "7. 'base_name'\n",
       "8. 'ord_value'\n",
       "9. 'values'\n",
       "10. 'reference_low'\n",
       "11. 'reference_high'\n",
       "12. 'reference_unit'\n",
       "13. 'result_in_range_yn'\n",
       "14. 'result_flag'\n",
       "15. 'result_time'\n",
       "16. 'feature_type'\n",
       "\n",
       "\n"
      ],
      "text/plain": [
       " [1] \"anon_id\"                 \"pat_enc_csn_id_coded\"   \n",
       " [3] \"inpatient_data_id_coded\" \"admit_time\"             \n",
       " [5] \"label\"                   \"features\"               \n",
       " [7] \"base_name\"               \"ord_value\"              \n",
       " [9] \"values\"                  \"reference_low\"          \n",
       "[11] \"reference_high\"          \"reference_unit\"         \n",
       "[13] \"result_in_range_yn\"      \"result_flag\"            \n",
       "[15] \"result_time\"             \"feature_type\"           "
      ]
     },
     "metadata": {},
     "output_type": "display_data"
    }
   ],
   "source": [
    "colnames(cohort4)\n",
    "colnames(demos)\n",
    "colnames(vitals0)\n",
    "colnames(labs0)\n",
    "\n",
    "# cohort <- cohort %>% mutate(admit_time = ymd_hms(admit_time)) "
   ]
  },
  {
   "cell_type": "code",
   "execution_count": 31,
   "metadata": {},
   "outputs": [
    {
     "data": {
      "text/html": [
       "51846"
      ],
      "text/latex": [
       "51846"
      ],
      "text/markdown": [
       "51846"
      ],
      "text/plain": [
       "[1] 51846"
      ]
     },
     "metadata": {},
     "output_type": "display_data"
    }
   ],
   "source": [
    "# cohort <- cohort4 %>% select(anon_id, pat_enc_csn_id_coded, admit_time, first_label, death_24hr_recent_label, death_24hr_max_label)\n",
    "cohort <- cohort4 %>% select(anon_id, pat_enc_csn_id_coded, admit_time, first_label,\n",
    "                             death_3hr_recent_label, death_6hr_recent_label, death_9hr_recent_label,\n",
    "                             death_12hr_recent_label, death_24hr_recent_label)\n",
    "nrow(cohort)"
   ]
  },
  {
   "cell_type": "code",
   "execution_count": 32,
   "metadata": {},
   "outputs": [
    {
     "data": {
      "text/html": [
       "51846"
      ],
      "text/latex": [
       "51846"
      ],
      "text/markdown": [
       "51846"
      ],
      "text/plain": [
       "[1] 51846"
      ]
     },
     "metadata": {},
     "output_type": "display_data"
    },
    {
     "data": {
      "text/html": [
       "0"
      ],
      "text/latex": [
       "0"
      ],
      "text/markdown": [
       "0"
      ],
      "text/plain": [
       "[1] 0"
      ]
     },
     "metadata": {},
     "output_type": "display_data"
    },
    {
     "data": {
      "text/plain": [
       "   anon_id          pat_enc_csn_id_coded    ed_hour           rn_note       \n",
       " Length:51846       Min.   :1.311e+11    Min.   :  0.020   Min.   :  0.000  \n",
       " Class :character   1st Qu.:1.312e+11    1st Qu.:  2.300   1st Qu.:  1.000  \n",
       " Mode  :character   Median :1.313e+11    Median :  3.500   Median :  3.000  \n",
       "                    Mean   :1.312e+11    Mean   :  4.816   Mean   :  4.449  \n",
       "                    3rd Qu.:1.313e+11    3rd Qu.:  5.250   3rd Qu.:  5.000  \n",
       "                    Max.   :1.313e+11    Max.   :190.430   Max.   :181.000  \n",
       "    md_note           all_note      feature_type      \n",
       " Min.   :  0.000   Min.   :  0.00   Length:51846      \n",
       " 1st Qu.:  1.000   1st Qu.:  4.00   Class :character  \n",
       " Median :  3.000   Median :  7.00   Mode  :character  \n",
       " Mean   :  4.466   Mean   : 10.02                     \n",
       " 3rd Qu.:  6.000   3rd Qu.: 12.00                     \n",
       " Max.   :156.000   Max.   :265.00                     "
      ]
     },
     "metadata": {},
     "output_type": "display_data"
    },
    {
     "data": {
      "text/html": [
       "207384"
      ],
      "text/latex": [
       "207384"
      ],
      "text/markdown": [
       "207384"
      ],
      "text/plain": [
       "[1] 207384"
      ]
     },
     "metadata": {},
     "output_type": "display_data"
    },
    {
     "data": {
      "text/html": [
       "207384"
      ],
      "text/latex": [
       "207384"
      ],
      "text/markdown": [
       "207384"
      ],
      "text/plain": [
       "[1] 207384"
      ]
     },
     "metadata": {},
     "output_type": "display_data"
    }
   ],
   "source": [
    "time_count <- cohort4 %>% select(anon_id, pat_enc_csn_id_coded, ed_hour = hours_in_ed, \n",
    "                                 rn_note=door_to_dispo_rn_notes, md_note=door_to_dispo_md_notes,\n",
    "                                 all_note=door_to_dispo_all_notes) %>%\n",
    "                mutate(feature_type = 'edtime_notecount')\n",
    "nrow(time_count)\n",
    "sum(is.na(time_count)) # na was converted to 0, no notes\n",
    "summary(time_count)\n",
    "\n",
    "# turn to long format\n",
    "tc_long <- gather(time_count, features, values, ed_hour:all_note, factor_key=TRUE) %>%\n",
    "                mutate(feature_type = \"time_count\")\n",
    "nrow(tc_long)\n",
    "nrow(time_count) * 4"
   ]
  },
  {
   "cell_type": "code",
   "execution_count": 33,
   "metadata": {},
   "outputs": [
    {
     "name": "stderr",
     "output_type": "stream",
     "text": [
      "Joining, by = c(\"anon_id\", \"pat_enc_csn_id_coded\")\n",
      "\n"
     ]
    },
    {
     "data": {
      "text/html": [
       "0"
      ],
      "text/latex": [
       "0"
      ],
      "text/markdown": [
       "0"
      ],
      "text/plain": [
       "[1] 0"
      ]
     },
     "metadata": {},
     "output_type": "display_data"
    },
    {
     "data": {
      "text/html": [
       "881382"
      ],
      "text/latex": [
       "881382"
      ],
      "text/markdown": [
       "881382"
      ],
      "text/plain": [
       "[1] 881382"
      ]
     },
     "metadata": {},
     "output_type": "display_data"
    },
    {
     "data": {
      "text/html": [
       "881382"
      ],
      "text/latex": [
       "881382"
      ],
      "text/markdown": [
       "881382"
      ],
      "text/plain": [
       "[1] 881382"
      ]
     },
     "metadata": {},
     "output_type": "display_data"
    }
   ],
   "source": [
    "# turn the wide format to long for demographics\n",
    "demo_long <- gather(demos, features, values, ESI_i:race.White, factor_key=TRUE) %>%\n",
    "                mutate(feature_type = \"demo\") %>% \n",
    "                select(-admit_time, -label, -inpatient_data_id_coded) %>% #mutate(admit_time = ymd_hms(admit_time)) %>% \n",
    "             right_join(cohort)\n",
    "\n",
    "sum(is.na(demos))\n",
    "nrow(demo_long) # = nrow(cohort) *17 = 881382\n",
    "nrow(cohort) * 17"
   ]
  },
  {
   "cell_type": "code",
   "execution_count": 34,
   "metadata": {},
   "outputs": [
    {
     "data": {
      "text/html": [
       "<table class=\"dataframe\">\n",
       "<caption>A data.frame: 2 × 12</caption>\n",
       "<thead>\n",
       "\t<tr><th></th><th scope=col>anon_id</th><th scope=col>pat_enc_csn_id_coded</th><th scope=col>features</th><th scope=col>values</th><th scope=col>feature_type</th><th scope=col>admit_time</th><th scope=col>first_label</th><th scope=col>death_3hr_recent_label</th><th scope=col>death_6hr_recent_label</th><th scope=col>death_9hr_recent_label</th><th scope=col>death_12hr_recent_label</th><th scope=col>death_24hr_recent_label</th></tr>\n",
       "\t<tr><th></th><th scope=col>&lt;chr&gt;</th><th scope=col>&lt;dbl&gt;</th><th scope=col>&lt;fct&gt;</th><th scope=col>&lt;dbl&gt;</th><th scope=col>&lt;chr&gt;</th><th scope=col>&lt;chr&gt;</th><th scope=col>&lt;int&gt;</th><th scope=col>&lt;int&gt;</th><th scope=col>&lt;int&gt;</th><th scope=col>&lt;int&gt;</th><th scope=col>&lt;int&gt;</th><th scope=col>&lt;int&gt;</th></tr>\n",
       "</thead>\n",
       "<tbody>\n",
       "\t<tr><th scope=row>1</th><td>JC1000116</td><td>131066472308</td><td>ESI_i</td><td>3</td><td>demo</td><td>2015-01-28 00:46:00</td><td>0</td><td>0</td><td>0</td><td>0</td><td>0</td><td>0</td></tr>\n",
       "\t<tr><th scope=row>2</th><td>JC1000116</td><td>131295313275</td><td>ESI_i</td><td>3</td><td>demo</td><td>2020-09-29 22:45:00</td><td>0</td><td>0</td><td>0</td><td>0</td><td>0</td><td>0</td></tr>\n",
       "</tbody>\n",
       "</table>\n"
      ],
      "text/latex": [
       "A data.frame: 2 × 12\n",
       "\\begin{tabular}{r|llllllllllll}\n",
       "  & anon\\_id & pat\\_enc\\_csn\\_id\\_coded & features & values & feature\\_type & admit\\_time & first\\_label & death\\_3hr\\_recent\\_label & death\\_6hr\\_recent\\_label & death\\_9hr\\_recent\\_label & death\\_12hr\\_recent\\_label & death\\_24hr\\_recent\\_label\\\\\n",
       "  & <chr> & <dbl> & <fct> & <dbl> & <chr> & <chr> & <int> & <int> & <int> & <int> & <int> & <int>\\\\\n",
       "\\hline\n",
       "\t1 & JC1000116 & 131066472308 & ESI\\_i & 3 & demo & 2015-01-28 00:46:00 & 0 & 0 & 0 & 0 & 0 & 0\\\\\n",
       "\t2 & JC1000116 & 131295313275 & ESI\\_i & 3 & demo & 2020-09-29 22:45:00 & 0 & 0 & 0 & 0 & 0 & 0\\\\\n",
       "\\end{tabular}\n"
      ],
      "text/markdown": [
       "\n",
       "A data.frame: 2 × 12\n",
       "\n",
       "| <!--/--> | anon_id &lt;chr&gt; | pat_enc_csn_id_coded &lt;dbl&gt; | features &lt;fct&gt; | values &lt;dbl&gt; | feature_type &lt;chr&gt; | admit_time &lt;chr&gt; | first_label &lt;int&gt; | death_3hr_recent_label &lt;int&gt; | death_6hr_recent_label &lt;int&gt; | death_9hr_recent_label &lt;int&gt; | death_12hr_recent_label &lt;int&gt; | death_24hr_recent_label &lt;int&gt; |\n",
       "|---|---|---|---|---|---|---|---|---|---|---|---|---|\n",
       "| 1 | JC1000116 | 131066472308 | ESI_i | 3 | demo | 2015-01-28 00:46:00 | 0 | 0 | 0 | 0 | 0 | 0 |\n",
       "| 2 | JC1000116 | 131295313275 | ESI_i | 3 | demo | 2020-09-29 22:45:00 | 0 | 0 | 0 | 0 | 0 | 0 |\n",
       "\n"
      ],
      "text/plain": [
       "  anon_id   pat_enc_csn_id_coded features values feature_type\n",
       "1 JC1000116 131066472308         ESI_i    3      demo        \n",
       "2 JC1000116 131295313275         ESI_i    3      demo        \n",
       "  admit_time          first_label death_3hr_recent_label death_6hr_recent_label\n",
       "1 2015-01-28 00:46:00 0           0                      0                     \n",
       "2 2020-09-29 22:45:00 0           0                      0                     \n",
       "  death_9hr_recent_label death_12hr_recent_label death_24hr_recent_label\n",
       "1 0                      0                       0                      \n",
       "2 0                      0                       0                      "
      ]
     },
     "metadata": {},
     "output_type": "display_data"
    }
   ],
   "source": [
    "head(demo_long, 2)"
   ]
  },
  {
   "cell_type": "code",
   "execution_count": 35,
   "metadata": {},
   "outputs": [
    {
     "name": "stderr",
     "output_type": "stream",
     "text": [
      "Joining, by = c(\"anon_id\", \"pat_enc_csn_id_coded\")\n",
      "\n",
      "Joining, by = c(\"anon_id\", \"pat_enc_csn_id_coded\")\n",
      "\n"
     ]
    }
   ],
   "source": [
    "# drop admit_time from vitals and labs because they might be in different formats utc -- mess up the merge\n",
    "vitals <- vitals0 %>% select(anon_id, pat_enc_csn_id_coded, features, values, feature_type, \n",
    "                             time = recorded_time) %>% #mutate(admit_time = ymd_hms(admit_time)) %>%\n",
    "                         right_join(cohort) #%>% drop_na()\n",
    "labs <- labs0 %>% select(anon_id, pat_enc_csn_id_coded, features, values, feature_type, \n",
    "                         time = result_time) %>% #mutate(admit_time = ymd_hms(admit_time)) %>% \n",
    "                    right_join(cohort) %>% drop_na() # due to csn without labs in cohort4"
   ]
  },
  {
   "cell_type": "raw",
   "metadata": {},
   "source": [
    "# JCdcafca and 131187786922, 20015518, 0, 2016-05-15 20:57:00+00:00 \n",
    "# in the no_labels cohort (and Conor's cohort) but not in the updated cohort\n",
    "noinco <- cohort[cohort$pat_enc_csn_id_coded %in% no_labels$pat_enc_csn_id_coded,]\n",
    "head(no_labels[!no_labels$pat_enc_csn_id_coded %in% noinco$pat_enc_csn_id_coded, ])"
   ]
  },
  {
   "cell_type": "code",
   "execution_count": 36,
   "metadata": {},
   "outputs": [
    {
     "data": {
      "text/html": [
       "51846"
      ],
      "text/latex": [
       "51846"
      ],
      "text/markdown": [
       "51846"
      ],
      "text/plain": [
       "[1] 51846"
      ]
     },
     "metadata": {},
     "output_type": "display_data"
    },
    {
     "data": {
      "text/html": [
       "51846"
      ],
      "text/latex": [
       "51846"
      ],
      "text/markdown": [
       "51846"
      ],
      "text/plain": [
       "[1] 51846"
      ]
     },
     "metadata": {},
     "output_type": "display_data"
    },
    {
     "data": {
      "text/html": [
       "49253"
      ],
      "text/latex": [
       "49253"
      ],
      "text/markdown": [
       "49253"
      ],
      "text/plain": [
       "[1] 49253"
      ]
     },
     "metadata": {},
     "output_type": "display_data"
    },
    {
     "data": {
      "text/html": [
       "51846"
      ],
      "text/latex": [
       "51846"
      ],
      "text/markdown": [
       "51846"
      ],
      "text/plain": [
       "[1] 51846"
      ]
     },
     "metadata": {},
     "output_type": "display_data"
    },
    {
     "data": {
      "text/html": [
       "<table class=\"dataframe\">\n",
       "<caption>A data.frame: 1 × 12</caption>\n",
       "<thead>\n",
       "\t<tr><th></th><th scope=col>anon_id</th><th scope=col>pat_enc_csn_id_coded</th><th scope=col>features</th><th scope=col>values</th><th scope=col>feature_type</th><th scope=col>admit_time</th><th scope=col>first_label</th><th scope=col>death_3hr_recent_label</th><th scope=col>death_6hr_recent_label</th><th scope=col>death_9hr_recent_label</th><th scope=col>death_12hr_recent_label</th><th scope=col>death_24hr_recent_label</th></tr>\n",
       "\t<tr><th></th><th scope=col>&lt;chr&gt;</th><th scope=col>&lt;dbl&gt;</th><th scope=col>&lt;fct&gt;</th><th scope=col>&lt;dbl&gt;</th><th scope=col>&lt;chr&gt;</th><th scope=col>&lt;chr&gt;</th><th scope=col>&lt;int&gt;</th><th scope=col>&lt;int&gt;</th><th scope=col>&lt;int&gt;</th><th scope=col>&lt;int&gt;</th><th scope=col>&lt;int&gt;</th><th scope=col>&lt;int&gt;</th></tr>\n",
       "</thead>\n",
       "<tbody>\n",
       "\t<tr><th scope=row>1</th><td>JC1000116</td><td>131066472308</td><td>ESI_i</td><td>3</td><td>demo</td><td>2015-01-28 00:46:00</td><td>0</td><td>0</td><td>0</td><td>0</td><td>0</td><td>0</td></tr>\n",
       "</tbody>\n",
       "</table>\n"
      ],
      "text/latex": [
       "A data.frame: 1 × 12\n",
       "\\begin{tabular}{r|llllllllllll}\n",
       "  & anon\\_id & pat\\_enc\\_csn\\_id\\_coded & features & values & feature\\_type & admit\\_time & first\\_label & death\\_3hr\\_recent\\_label & death\\_6hr\\_recent\\_label & death\\_9hr\\_recent\\_label & death\\_12hr\\_recent\\_label & death\\_24hr\\_recent\\_label\\\\\n",
       "  & <chr> & <dbl> & <fct> & <dbl> & <chr> & <chr> & <int> & <int> & <int> & <int> & <int> & <int>\\\\\n",
       "\\hline\n",
       "\t1 & JC1000116 & 131066472308 & ESI\\_i & 3 & demo & 2015-01-28 00:46:00 & 0 & 0 & 0 & 0 & 0 & 0\\\\\n",
       "\\end{tabular}\n"
      ],
      "text/markdown": [
       "\n",
       "A data.frame: 1 × 12\n",
       "\n",
       "| <!--/--> | anon_id &lt;chr&gt; | pat_enc_csn_id_coded &lt;dbl&gt; | features &lt;fct&gt; | values &lt;dbl&gt; | feature_type &lt;chr&gt; | admit_time &lt;chr&gt; | first_label &lt;int&gt; | death_3hr_recent_label &lt;int&gt; | death_6hr_recent_label &lt;int&gt; | death_9hr_recent_label &lt;int&gt; | death_12hr_recent_label &lt;int&gt; | death_24hr_recent_label &lt;int&gt; |\n",
       "|---|---|---|---|---|---|---|---|---|---|---|---|---|\n",
       "| 1 | JC1000116 | 131066472308 | ESI_i | 3 | demo | 2015-01-28 00:46:00 | 0 | 0 | 0 | 0 | 0 | 0 |\n",
       "\n"
      ],
      "text/plain": [
       "  anon_id   pat_enc_csn_id_coded features values feature_type\n",
       "1 JC1000116 131066472308         ESI_i    3      demo        \n",
       "  admit_time          first_label death_3hr_recent_label death_6hr_recent_label\n",
       "1 2015-01-28 00:46:00 0           0                      0                     \n",
       "  death_9hr_recent_label death_12hr_recent_label death_24hr_recent_label\n",
       "1 0                      0                       0                      "
      ]
     },
     "metadata": {},
     "output_type": "display_data"
    },
    {
     "data": {
      "text/html": [
       "<table class=\"dataframe\">\n",
       "<caption>A data.frame: 1 × 13</caption>\n",
       "<thead>\n",
       "\t<tr><th></th><th scope=col>anon_id</th><th scope=col>pat_enc_csn_id_coded</th><th scope=col>features</th><th scope=col>values</th><th scope=col>feature_type</th><th scope=col>time</th><th scope=col>admit_time</th><th scope=col>first_label</th><th scope=col>death_3hr_recent_label</th><th scope=col>death_6hr_recent_label</th><th scope=col>death_9hr_recent_label</th><th scope=col>death_12hr_recent_label</th><th scope=col>death_24hr_recent_label</th></tr>\n",
       "\t<tr><th></th><th scope=col>&lt;chr&gt;</th><th scope=col>&lt;dbl&gt;</th><th scope=col>&lt;chr&gt;</th><th scope=col>&lt;dbl&gt;</th><th scope=col>&lt;chr&gt;</th><th scope=col>&lt;chr&gt;</th><th scope=col>&lt;chr&gt;</th><th scope=col>&lt;int&gt;</th><th scope=col>&lt;int&gt;</th><th scope=col>&lt;int&gt;</th><th scope=col>&lt;int&gt;</th><th scope=col>&lt;int&gt;</th><th scope=col>&lt;int&gt;</th></tr>\n",
       "</thead>\n",
       "<tbody>\n",
       "\t<tr><th scope=row>1</th><td>JC1000116</td><td>131066472308</td><td>DBP</td><td>57</td><td>vitals</td><td>2015-01-27 07:30:00+00:00</td><td>2015-01-28 00:46:00</td><td>0</td><td>0</td><td>0</td><td>0</td><td>0</td><td>0</td></tr>\n",
       "</tbody>\n",
       "</table>\n"
      ],
      "text/latex": [
       "A data.frame: 1 × 13\n",
       "\\begin{tabular}{r|lllllllllllll}\n",
       "  & anon\\_id & pat\\_enc\\_csn\\_id\\_coded & features & values & feature\\_type & time & admit\\_time & first\\_label & death\\_3hr\\_recent\\_label & death\\_6hr\\_recent\\_label & death\\_9hr\\_recent\\_label & death\\_12hr\\_recent\\_label & death\\_24hr\\_recent\\_label\\\\\n",
       "  & <chr> & <dbl> & <chr> & <dbl> & <chr> & <chr> & <chr> & <int> & <int> & <int> & <int> & <int> & <int>\\\\\n",
       "\\hline\n",
       "\t1 & JC1000116 & 131066472308 & DBP & 57 & vitals & 2015-01-27 07:30:00+00:00 & 2015-01-28 00:46:00 & 0 & 0 & 0 & 0 & 0 & 0\\\\\n",
       "\\end{tabular}\n"
      ],
      "text/markdown": [
       "\n",
       "A data.frame: 1 × 13\n",
       "\n",
       "| <!--/--> | anon_id &lt;chr&gt; | pat_enc_csn_id_coded &lt;dbl&gt; | features &lt;chr&gt; | values &lt;dbl&gt; | feature_type &lt;chr&gt; | time &lt;chr&gt; | admit_time &lt;chr&gt; | first_label &lt;int&gt; | death_3hr_recent_label &lt;int&gt; | death_6hr_recent_label &lt;int&gt; | death_9hr_recent_label &lt;int&gt; | death_12hr_recent_label &lt;int&gt; | death_24hr_recent_label &lt;int&gt; |\n",
       "|---|---|---|---|---|---|---|---|---|---|---|---|---|---|\n",
       "| 1 | JC1000116 | 131066472308 | DBP | 57 | vitals | 2015-01-27 07:30:00+00:00 | 2015-01-28 00:46:00 | 0 | 0 | 0 | 0 | 0 | 0 |\n",
       "\n"
      ],
      "text/plain": [
       "  anon_id   pat_enc_csn_id_coded features values feature_type\n",
       "1 JC1000116 131066472308         DBP      57     vitals      \n",
       "  time                      admit_time          first_label\n",
       "1 2015-01-27 07:30:00+00:00 2015-01-28 00:46:00 0          \n",
       "  death_3hr_recent_label death_6hr_recent_label death_9hr_recent_label\n",
       "1 0                      0                      0                     \n",
       "  death_12hr_recent_label death_24hr_recent_label\n",
       "1 0                       0                      "
      ]
     },
     "metadata": {},
     "output_type": "display_data"
    },
    {
     "data": {
      "text/html": [
       "<table class=\"dataframe\">\n",
       "<caption>A data.frame: 1 × 13</caption>\n",
       "<thead>\n",
       "\t<tr><th></th><th scope=col>anon_id</th><th scope=col>pat_enc_csn_id_coded</th><th scope=col>features</th><th scope=col>values</th><th scope=col>feature_type</th><th scope=col>time</th><th scope=col>admit_time</th><th scope=col>first_label</th><th scope=col>death_3hr_recent_label</th><th scope=col>death_6hr_recent_label</th><th scope=col>death_9hr_recent_label</th><th scope=col>death_12hr_recent_label</th><th scope=col>death_24hr_recent_label</th></tr>\n",
       "\t<tr><th></th><th scope=col>&lt;chr&gt;</th><th scope=col>&lt;dbl&gt;</th><th scope=col>&lt;chr&gt;</th><th scope=col>&lt;dbl&gt;</th><th scope=col>&lt;chr&gt;</th><th scope=col>&lt;chr&gt;</th><th scope=col>&lt;chr&gt;</th><th scope=col>&lt;int&gt;</th><th scope=col>&lt;int&gt;</th><th scope=col>&lt;int&gt;</th><th scope=col>&lt;int&gt;</th><th scope=col>&lt;int&gt;</th><th scope=col>&lt;int&gt;</th></tr>\n",
       "</thead>\n",
       "<tbody>\n",
       "\t<tr><th scope=row>1</th><td>JC559806</td><td>1.31126e+11</td><td>TCO2_a</td><td>30</td><td>labs</td><td>2015-10-27 06:24:00+00:00</td><td>2015-10-27 06:57:00</td><td>1</td><td>1</td><td>1</td><td>1</td><td>1</td><td>1</td></tr>\n",
       "</tbody>\n",
       "</table>\n"
      ],
      "text/latex": [
       "A data.frame: 1 × 13\n",
       "\\begin{tabular}{r|lllllllllllll}\n",
       "  & anon\\_id & pat\\_enc\\_csn\\_id\\_coded & features & values & feature\\_type & time & admit\\_time & first\\_label & death\\_3hr\\_recent\\_label & death\\_6hr\\_recent\\_label & death\\_9hr\\_recent\\_label & death\\_12hr\\_recent\\_label & death\\_24hr\\_recent\\_label\\\\\n",
       "  & <chr> & <dbl> & <chr> & <dbl> & <chr> & <chr> & <chr> & <int> & <int> & <int> & <int> & <int> & <int>\\\\\n",
       "\\hline\n",
       "\t1 & JC559806 & 1.31126e+11 & TCO2\\_a & 30 & labs & 2015-10-27 06:24:00+00:00 & 2015-10-27 06:57:00 & 1 & 1 & 1 & 1 & 1 & 1\\\\\n",
       "\\end{tabular}\n"
      ],
      "text/markdown": [
       "\n",
       "A data.frame: 1 × 13\n",
       "\n",
       "| <!--/--> | anon_id &lt;chr&gt; | pat_enc_csn_id_coded &lt;dbl&gt; | features &lt;chr&gt; | values &lt;dbl&gt; | feature_type &lt;chr&gt; | time &lt;chr&gt; | admit_time &lt;chr&gt; | first_label &lt;int&gt; | death_3hr_recent_label &lt;int&gt; | death_6hr_recent_label &lt;int&gt; | death_9hr_recent_label &lt;int&gt; | death_12hr_recent_label &lt;int&gt; | death_24hr_recent_label &lt;int&gt; |\n",
       "|---|---|---|---|---|---|---|---|---|---|---|---|---|---|\n",
       "| 1 | JC559806 | 1.31126e+11 | TCO2_a | 30 | labs | 2015-10-27 06:24:00+00:00 | 2015-10-27 06:57:00 | 1 | 1 | 1 | 1 | 1 | 1 |\n",
       "\n"
      ],
      "text/plain": [
       "  anon_id  pat_enc_csn_id_coded features values feature_type\n",
       "1 JC559806 1.31126e+11          TCO2_a   30     labs        \n",
       "  time                      admit_time          first_label\n",
       "1 2015-10-27 06:24:00+00:00 2015-10-27 06:57:00 1          \n",
       "  death_3hr_recent_label death_6hr_recent_label death_9hr_recent_label\n",
       "1 1                      1                      1                     \n",
       "  death_12hr_recent_label death_24hr_recent_label\n",
       "1 1                       1                      "
      ]
     },
     "metadata": {},
     "output_type": "display_data"
    },
    {
     "data": {
      "text/html": [
       "<table class=\"dataframe\">\n",
       "<caption>A data.frame: 1 × 5</caption>\n",
       "<thead>\n",
       "\t<tr><th></th><th scope=col>anon_id</th><th scope=col>pat_enc_csn_id_coded</th><th scope=col>feature_type</th><th scope=col>features</th><th scope=col>values</th></tr>\n",
       "\t<tr><th></th><th scope=col>&lt;chr&gt;</th><th scope=col>&lt;dbl&gt;</th><th scope=col>&lt;chr&gt;</th><th scope=col>&lt;fct&gt;</th><th scope=col>&lt;dbl&gt;</th></tr>\n",
       "</thead>\n",
       "<tbody>\n",
       "\t<tr><th scope=row>1</th><td>JC1000116</td><td>131066472308</td><td>time_count</td><td>ed_hour</td><td>20.37</td></tr>\n",
       "</tbody>\n",
       "</table>\n"
      ],
      "text/latex": [
       "A data.frame: 1 × 5\n",
       "\\begin{tabular}{r|lllll}\n",
       "  & anon\\_id & pat\\_enc\\_csn\\_id\\_coded & feature\\_type & features & values\\\\\n",
       "  & <chr> & <dbl> & <chr> & <fct> & <dbl>\\\\\n",
       "\\hline\n",
       "\t1 & JC1000116 & 131066472308 & time\\_count & ed\\_hour & 20.37\\\\\n",
       "\\end{tabular}\n"
      ],
      "text/markdown": [
       "\n",
       "A data.frame: 1 × 5\n",
       "\n",
       "| <!--/--> | anon_id &lt;chr&gt; | pat_enc_csn_id_coded &lt;dbl&gt; | feature_type &lt;chr&gt; | features &lt;fct&gt; | values &lt;dbl&gt; |\n",
       "|---|---|---|---|---|---|\n",
       "| 1 | JC1000116 | 131066472308 | time_count | ed_hour | 20.37 |\n",
       "\n"
      ],
      "text/plain": [
       "  anon_id   pat_enc_csn_id_coded feature_type features values\n",
       "1 JC1000116 131066472308         time_count   ed_hour  20.37 "
      ]
     },
     "metadata": {},
     "output_type": "display_data"
    }
   ],
   "source": [
    "length(unique(demo_long$pat_enc_csn_id_coded))\n",
    "length(unique(vitals$pat_enc_csn_id_coded))\n",
    "length(unique(labs$pat_enc_csn_id_coded)) # 49253 due to drop NA\n",
    "length(unique(tc_long$pat_enc_csn_id_coded)) # 51846\n",
    "\n",
    "head(demo_long, n=1)\n",
    "head(vitals, n=1)\n",
    "head(labs, n=1)\n",
    "head(tc_long, 1)"
   ]
  },
  {
   "cell_type": "code",
   "execution_count": 37,
   "metadata": {},
   "outputs": [
    {
     "data": {
      "text/plain": [
       "   Min. 1st Qu.  Median    Mean 3rd Qu.    Max. \n",
       "  0.000   2.000   4.000   5.938   7.000 265.000 "
      ]
     },
     "metadata": {},
     "output_type": "display_data"
    },
    {
     "data": {
      "text/plain": [
       "   Min. 1st Qu.  Median    Mean 3rd Qu.    Max. \n",
       "   0.00    0.00    0.00   18.19    1.00  322.00 "
      ]
     },
     "metadata": {},
     "output_type": "display_data"
    },
    {
     "data": {
      "text/plain": [
       "   Min. 1st Qu.  Median    Mean 3rd Qu.    Max. \n",
       "   5.00   36.70   72.00   72.28  102.00  419.00 "
      ]
     },
     "metadata": {},
     "output_type": "display_data"
    },
    {
     "data": {
      "text/plain": [
       "    Min.  1st Qu.   Median     Mean  3rd Qu.     Max. \n",
       "  -30.00     3.40    12.70    38.75    38.00 11900.00 "
      ]
     },
     "metadata": {},
     "output_type": "display_data"
    }
   ],
   "source": [
    "summary(tc_long$values)\n",
    "summary(demo_long$values)\n",
    "summary(vitals$values)\n",
    "summary(labs$values) # negatives"
   ]
  },
  {
   "cell_type": "code",
   "execution_count": 38,
   "metadata": {},
   "outputs": [
    {
     "data": {
      "text/html": [
       "3867101"
      ],
      "text/latex": [
       "3867101"
      ],
      "text/markdown": [
       "3867101"
      ],
      "text/plain": [
       "[1] 3867101"
      ]
     },
     "metadata": {},
     "output_type": "display_data"
    },
    {
     "data": {
      "text/html": [
       "51846"
      ],
      "text/latex": [
       "51846"
      ],
      "text/markdown": [
       "51846"
      ],
      "text/plain": [
       "[1] 51846"
      ]
     },
     "metadata": {},
     "output_type": "display_data"
    },
    {
     "data": {
      "text/html": [
       "51846"
      ],
      "text/latex": [
       "51846"
      ],
      "text/markdown": [
       "51846"
      ],
      "text/plain": [
       "[1] 51846"
      ]
     },
     "metadata": {},
     "output_type": "display_data"
    },
    {
     "data": {
      "text/html": [
       "<table class=\"dataframe\">\n",
       "<caption>A data.frame: 4 × 2</caption>\n",
       "<thead>\n",
       "\t<tr><th scope=col>feature_type</th><th scope=col>n</th></tr>\n",
       "\t<tr><th scope=col>&lt;chr&gt;</th><th scope=col>&lt;int&gt;</th></tr>\n",
       "</thead>\n",
       "<tbody>\n",
       "\t<tr><td>demo      </td><td> 881382</td></tr>\n",
       "\t<tr><td>labs      </td><td>1610383</td></tr>\n",
       "\t<tr><td>time_count</td><td> 207384</td></tr>\n",
       "\t<tr><td>vitals    </td><td>1167952</td></tr>\n",
       "</tbody>\n",
       "</table>\n"
      ],
      "text/latex": [
       "A data.frame: 4 × 2\n",
       "\\begin{tabular}{ll}\n",
       " feature\\_type & n\\\\\n",
       " <chr> & <int>\\\\\n",
       "\\hline\n",
       "\t demo       &  881382\\\\\n",
       "\t labs       & 1610383\\\\\n",
       "\t time\\_count &  207384\\\\\n",
       "\t vitals     & 1167952\\\\\n",
       "\\end{tabular}\n"
      ],
      "text/markdown": [
       "\n",
       "A data.frame: 4 × 2\n",
       "\n",
       "| feature_type &lt;chr&gt; | n &lt;int&gt; |\n",
       "|---|---|\n",
       "| demo       |  881382 |\n",
       "| labs       | 1610383 |\n",
       "| time_count |  207384 |\n",
       "| vitals     | 1167952 |\n",
       "\n"
      ],
      "text/plain": [
       "  feature_type n      \n",
       "1 demo          881382\n",
       "2 labs         1610383\n",
       "3 time_count    207384\n",
       "4 vitals       1167952"
      ]
     },
     "metadata": {},
     "output_type": "display_data"
    },
    {
     "data": {
      "text/plain": [
       "    Min.  1st Qu.   Median     Mean  3rd Qu.     Max. \n",
       "  -30.00     1.02    17.00    42.43    72.00 11900.00 "
      ]
     },
     "metadata": {},
     "output_type": "display_data"
    }
   ],
   "source": [
    "# combine demos, vitals and labs, long format, with \"time\"\n",
    "feats <- bind_rows(demo_long, tc_long, vitals, labs)\n",
    "feats <- as.data.frame(unclass(feats))\n",
    "\n",
    "nrow(feats) #3711563\n",
    "nrow(feats %>% select(anon_id, pat_enc_csn_id_coded) %>% distinct()) # 51846\n",
    "nrow(feats %>% select(pat_enc_csn_id_coded) %>% distinct()) # 51846\n",
    "\n",
    "feats %>% count(feature_type) # shouldn't have NA\n",
    "summary(feats$values) "
   ]
  },
  {
   "cell_type": "code",
   "execution_count": 39,
   "metadata": {},
   "outputs": [
    {
     "data": {
      "text/html": [
       "<table class=\"dataframe\">\n",
       "<caption>A grouped_df: 70 × 3</caption>\n",
       "<thead>\n",
       "\t<tr><th scope=col>feature_type</th><th scope=col>features</th><th scope=col>n</th></tr>\n",
       "\t<tr><th scope=col>&lt;chr&gt;</th><th scope=col>&lt;chr&gt;</th><th scope=col>&lt;int&gt;</th></tr>\n",
       "</thead>\n",
       "<tbody>\n",
       "\t<tr><td>demo      </td><td>age                  </td><td> 51846</td></tr>\n",
       "\t<tr><td>demo      </td><td>delta_ESI            </td><td> 51846</td></tr>\n",
       "\t<tr><td>demo      </td><td>delta_H              </td><td> 51846</td></tr>\n",
       "\t<tr><td>demo      </td><td>delta_W              </td><td> 51846</td></tr>\n",
       "\t<tr><td>demo      </td><td>English              </td><td> 51846</td></tr>\n",
       "\t<tr><td>demo      </td><td>ESI_i                </td><td> 51846</td></tr>\n",
       "\t<tr><td>demo      </td><td>gender               </td><td> 51846</td></tr>\n",
       "\t<tr><td>demo      </td><td>Height_i             </td><td> 51846</td></tr>\n",
       "\t<tr><td>demo      </td><td>insurance            </td><td> 51846</td></tr>\n",
       "\t<tr><td>demo      </td><td>race.Asian           </td><td> 51846</td></tr>\n",
       "\t<tr><td>demo      </td><td>race.Black           </td><td> 51846</td></tr>\n",
       "\t<tr><td>demo      </td><td>race.Native.American </td><td> 51846</td></tr>\n",
       "\t<tr><td>demo      </td><td>race.Other           </td><td> 51846</td></tr>\n",
       "\t<tr><td>demo      </td><td>race.Pacific.Islander</td><td> 51846</td></tr>\n",
       "\t<tr><td>demo      </td><td>race.Unknown         </td><td> 51846</td></tr>\n",
       "\t<tr><td>demo      </td><td>race.White           </td><td> 51846</td></tr>\n",
       "\t<tr><td>demo      </td><td>Weight_i             </td><td> 51846</td></tr>\n",
       "\t<tr><td>labs      </td><td>ALB                  </td><td> 45743</td></tr>\n",
       "\t<tr><td>labs      </td><td>ALK                  </td><td> 45536</td></tr>\n",
       "\t<tr><td>labs      </td><td>ALT                  </td><td> 45444</td></tr>\n",
       "\t<tr><td>labs      </td><td>AnionGap             </td><td> 51290</td></tr>\n",
       "\t<tr><td>labs      </td><td>AST                  </td><td> 45405</td></tr>\n",
       "\t<tr><td>labs      </td><td>Base                 </td><td> 24797</td></tr>\n",
       "\t<tr><td>labs      </td><td>Basos                </td><td> 42484</td></tr>\n",
       "\t<tr><td>labs      </td><td>BUN                  </td><td> 51376</td></tr>\n",
       "\t<tr><td>labs      </td><td>Ca                   </td><td> 49337</td></tr>\n",
       "\t<tr><td>labs      </td><td>Cl                   </td><td> 51668</td></tr>\n",
       "\t<tr><td>labs      </td><td>CO2                  </td><td> 49196</td></tr>\n",
       "\t<tr><td>labs      </td><td>Cr                   </td><td> 52259</td></tr>\n",
       "\t<tr><td>labs      </td><td>eGFR                 </td><td> 47670</td></tr>\n",
       "\t<tr><td>labs      </td><td>Eos                  </td><td> 43215</td></tr>\n",
       "\t<tr><td>labs      </td><td>Glob                 </td><td> 45153</td></tr>\n",
       "\t<tr><td>labs      </td><td>Glucose              </td><td> 59712</td></tr>\n",
       "\t<tr><td>labs      </td><td>HCO3_a               </td><td>  2007</td></tr>\n",
       "\t<tr><td>labs      </td><td>HCO3_v               </td><td> 23032</td></tr>\n",
       "\t<tr><td>labs      </td><td>Hct                  </td><td> 53013</td></tr>\n",
       "\t<tr><td>labs      </td><td>Hgb                  </td><td> 52962</td></tr>\n",
       "\t<tr><td>labs      </td><td>INR                  </td><td> 22296</td></tr>\n",
       "\t<tr><td>labs      </td><td>K                    </td><td> 52885</td></tr>\n",
       "\t<tr><td>labs      </td><td>Lactate              </td><td> 27666</td></tr>\n",
       "\t<tr><td>labs      </td><td>Lymp                 </td><td> 45567</td></tr>\n",
       "\t<tr><td>labs      </td><td>MCH                  </td><td> 49353</td></tr>\n",
       "\t<tr><td>labs      </td><td>Mono                 </td><td> 45409</td></tr>\n",
       "\t<tr><td>labs      </td><td>Na                   </td><td> 52827</td></tr>\n",
       "\t<tr><td>labs      </td><td>Neut                 </td><td> 45649</td></tr>\n",
       "\t<tr><td>labs      </td><td>O2sat_a              </td><td>  1517</td></tr>\n",
       "\t<tr><td>labs      </td><td>O2sat_v              </td><td> 23355</td></tr>\n",
       "\t<tr><td>labs      </td><td>pCO2_a               </td><td>  1634</td></tr>\n",
       "\t<tr><td>labs      </td><td>pCO2_v               </td><td> 23433</td></tr>\n",
       "\t<tr><td>labs      </td><td>pH_a                 </td><td>  1663</td></tr>\n",
       "\t<tr><td>labs      </td><td>pH_v                 </td><td> 23431</td></tr>\n",
       "\t<tr><td>labs      </td><td>Platelet             </td><td> 49547</td></tr>\n",
       "\t<tr><td>labs      </td><td>PO2_a                </td><td>  1632</td></tr>\n",
       "\t<tr><td>labs      </td><td>PO2_v                </td><td> 23451</td></tr>\n",
       "\t<tr><td>labs      </td><td>PT                   </td><td> 22263</td></tr>\n",
       "\t<tr><td>labs      </td><td>RDW                  </td><td> 49354</td></tr>\n",
       "\t<tr><td>labs      </td><td>TBili                </td><td> 45891</td></tr>\n",
       "\t<tr><td>labs      </td><td>TCO2_a               </td><td>  4296</td></tr>\n",
       "\t<tr><td>labs      </td><td>TProtein             </td><td> 45610</td></tr>\n",
       "\t<tr><td>labs      </td><td>Trop                 </td><td> 20888</td></tr>\n",
       "\t<tr><td>labs      </td><td>WBC                  </td><td> 49467</td></tr>\n",
       "\t<tr><td>time_count</td><td>all_note             </td><td> 51846</td></tr>\n",
       "\t<tr><td>time_count</td><td>ed_hour              </td><td> 51846</td></tr>\n",
       "\t<tr><td>time_count</td><td>md_note              </td><td> 51846</td></tr>\n",
       "\t<tr><td>time_count</td><td>rn_note              </td><td> 51846</td></tr>\n",
       "\t<tr><td>vitals    </td><td>DBP                  </td><td>243614</td></tr>\n",
       "\t<tr><td>vitals    </td><td>Pulse                </td><td>265350</td></tr>\n",
       "\t<tr><td>vitals    </td><td>RR                   </td><td>250460</td></tr>\n",
       "\t<tr><td>vitals    </td><td>SBP                  </td><td>243655</td></tr>\n",
       "\t<tr><td>vitals    </td><td>Temp                 </td><td>164873</td></tr>\n",
       "</tbody>\n",
       "</table>\n"
      ],
      "text/latex": [
       "A grouped\\_df: 70 × 3\n",
       "\\begin{tabular}{lll}\n",
       " feature\\_type & features & n\\\\\n",
       " <chr> & <chr> & <int>\\\\\n",
       "\\hline\n",
       "\t demo       & age                   &  51846\\\\\n",
       "\t demo       & delta\\_ESI             &  51846\\\\\n",
       "\t demo       & delta\\_H               &  51846\\\\\n",
       "\t demo       & delta\\_W               &  51846\\\\\n",
       "\t demo       & English               &  51846\\\\\n",
       "\t demo       & ESI\\_i                 &  51846\\\\\n",
       "\t demo       & gender                &  51846\\\\\n",
       "\t demo       & Height\\_i              &  51846\\\\\n",
       "\t demo       & insurance             &  51846\\\\\n",
       "\t demo       & race.Asian            &  51846\\\\\n",
       "\t demo       & race.Black            &  51846\\\\\n",
       "\t demo       & race.Native.American  &  51846\\\\\n",
       "\t demo       & race.Other            &  51846\\\\\n",
       "\t demo       & race.Pacific.Islander &  51846\\\\\n",
       "\t demo       & race.Unknown          &  51846\\\\\n",
       "\t demo       & race.White            &  51846\\\\\n",
       "\t demo       & Weight\\_i              &  51846\\\\\n",
       "\t labs       & ALB                   &  45743\\\\\n",
       "\t labs       & ALK                   &  45536\\\\\n",
       "\t labs       & ALT                   &  45444\\\\\n",
       "\t labs       & AnionGap              &  51290\\\\\n",
       "\t labs       & AST                   &  45405\\\\\n",
       "\t labs       & Base                  &  24797\\\\\n",
       "\t labs       & Basos                 &  42484\\\\\n",
       "\t labs       & BUN                   &  51376\\\\\n",
       "\t labs       & Ca                    &  49337\\\\\n",
       "\t labs       & Cl                    &  51668\\\\\n",
       "\t labs       & CO2                   &  49196\\\\\n",
       "\t labs       & Cr                    &  52259\\\\\n",
       "\t labs       & eGFR                  &  47670\\\\\n",
       "\t labs       & Eos                   &  43215\\\\\n",
       "\t labs       & Glob                  &  45153\\\\\n",
       "\t labs       & Glucose               &  59712\\\\\n",
       "\t labs       & HCO3\\_a                &   2007\\\\\n",
       "\t labs       & HCO3\\_v                &  23032\\\\\n",
       "\t labs       & Hct                   &  53013\\\\\n",
       "\t labs       & Hgb                   &  52962\\\\\n",
       "\t labs       & INR                   &  22296\\\\\n",
       "\t labs       & K                     &  52885\\\\\n",
       "\t labs       & Lactate               &  27666\\\\\n",
       "\t labs       & Lymp                  &  45567\\\\\n",
       "\t labs       & MCH                   &  49353\\\\\n",
       "\t labs       & Mono                  &  45409\\\\\n",
       "\t labs       & Na                    &  52827\\\\\n",
       "\t labs       & Neut                  &  45649\\\\\n",
       "\t labs       & O2sat\\_a               &   1517\\\\\n",
       "\t labs       & O2sat\\_v               &  23355\\\\\n",
       "\t labs       & pCO2\\_a                &   1634\\\\\n",
       "\t labs       & pCO2\\_v                &  23433\\\\\n",
       "\t labs       & pH\\_a                  &   1663\\\\\n",
       "\t labs       & pH\\_v                  &  23431\\\\\n",
       "\t labs       & Platelet              &  49547\\\\\n",
       "\t labs       & PO2\\_a                 &   1632\\\\\n",
       "\t labs       & PO2\\_v                 &  23451\\\\\n",
       "\t labs       & PT                    &  22263\\\\\n",
       "\t labs       & RDW                   &  49354\\\\\n",
       "\t labs       & TBili                 &  45891\\\\\n",
       "\t labs       & TCO2\\_a                &   4296\\\\\n",
       "\t labs       & TProtein              &  45610\\\\\n",
       "\t labs       & Trop                  &  20888\\\\\n",
       "\t labs       & WBC                   &  49467\\\\\n",
       "\t time\\_count & all\\_note              &  51846\\\\\n",
       "\t time\\_count & ed\\_hour               &  51846\\\\\n",
       "\t time\\_count & md\\_note               &  51846\\\\\n",
       "\t time\\_count & rn\\_note               &  51846\\\\\n",
       "\t vitals     & DBP                   & 243614\\\\\n",
       "\t vitals     & Pulse                 & 265350\\\\\n",
       "\t vitals     & RR                    & 250460\\\\\n",
       "\t vitals     & SBP                   & 243655\\\\\n",
       "\t vitals     & Temp                  & 164873\\\\\n",
       "\\end{tabular}\n"
      ],
      "text/markdown": [
       "\n",
       "A grouped_df: 70 × 3\n",
       "\n",
       "| feature_type &lt;chr&gt; | features &lt;chr&gt; | n &lt;int&gt; |\n",
       "|---|---|---|\n",
       "| demo       | age                   |  51846 |\n",
       "| demo       | delta_ESI             |  51846 |\n",
       "| demo       | delta_H               |  51846 |\n",
       "| demo       | delta_W               |  51846 |\n",
       "| demo       | English               |  51846 |\n",
       "| demo       | ESI_i                 |  51846 |\n",
       "| demo       | gender                |  51846 |\n",
       "| demo       | Height_i              |  51846 |\n",
       "| demo       | insurance             |  51846 |\n",
       "| demo       | race.Asian            |  51846 |\n",
       "| demo       | race.Black            |  51846 |\n",
       "| demo       | race.Native.American  |  51846 |\n",
       "| demo       | race.Other            |  51846 |\n",
       "| demo       | race.Pacific.Islander |  51846 |\n",
       "| demo       | race.Unknown          |  51846 |\n",
       "| demo       | race.White            |  51846 |\n",
       "| demo       | Weight_i              |  51846 |\n",
       "| labs       | ALB                   |  45743 |\n",
       "| labs       | ALK                   |  45536 |\n",
       "| labs       | ALT                   |  45444 |\n",
       "| labs       | AnionGap              |  51290 |\n",
       "| labs       | AST                   |  45405 |\n",
       "| labs       | Base                  |  24797 |\n",
       "| labs       | Basos                 |  42484 |\n",
       "| labs       | BUN                   |  51376 |\n",
       "| labs       | Ca                    |  49337 |\n",
       "| labs       | Cl                    |  51668 |\n",
       "| labs       | CO2                   |  49196 |\n",
       "| labs       | Cr                    |  52259 |\n",
       "| labs       | eGFR                  |  47670 |\n",
       "| labs       | Eos                   |  43215 |\n",
       "| labs       | Glob                  |  45153 |\n",
       "| labs       | Glucose               |  59712 |\n",
       "| labs       | HCO3_a                |   2007 |\n",
       "| labs       | HCO3_v                |  23032 |\n",
       "| labs       | Hct                   |  53013 |\n",
       "| labs       | Hgb                   |  52962 |\n",
       "| labs       | INR                   |  22296 |\n",
       "| labs       | K                     |  52885 |\n",
       "| labs       | Lactate               |  27666 |\n",
       "| labs       | Lymp                  |  45567 |\n",
       "| labs       | MCH                   |  49353 |\n",
       "| labs       | Mono                  |  45409 |\n",
       "| labs       | Na                    |  52827 |\n",
       "| labs       | Neut                  |  45649 |\n",
       "| labs       | O2sat_a               |   1517 |\n",
       "| labs       | O2sat_v               |  23355 |\n",
       "| labs       | pCO2_a                |   1634 |\n",
       "| labs       | pCO2_v                |  23433 |\n",
       "| labs       | pH_a                  |   1663 |\n",
       "| labs       | pH_v                  |  23431 |\n",
       "| labs       | Platelet              |  49547 |\n",
       "| labs       | PO2_a                 |   1632 |\n",
       "| labs       | PO2_v                 |  23451 |\n",
       "| labs       | PT                    |  22263 |\n",
       "| labs       | RDW                   |  49354 |\n",
       "| labs       | TBili                 |  45891 |\n",
       "| labs       | TCO2_a                |   4296 |\n",
       "| labs       | TProtein              |  45610 |\n",
       "| labs       | Trop                  |  20888 |\n",
       "| labs       | WBC                   |  49467 |\n",
       "| time_count | all_note              |  51846 |\n",
       "| time_count | ed_hour               |  51846 |\n",
       "| time_count | md_note               |  51846 |\n",
       "| time_count | rn_note               |  51846 |\n",
       "| vitals     | DBP                   | 243614 |\n",
       "| vitals     | Pulse                 | 265350 |\n",
       "| vitals     | RR                    | 250460 |\n",
       "| vitals     | SBP                   | 243655 |\n",
       "| vitals     | Temp                  | 164873 |\n",
       "\n"
      ],
      "text/plain": [
       "   feature_type features              n     \n",
       "1  demo         age                    51846\n",
       "2  demo         delta_ESI              51846\n",
       "3  demo         delta_H                51846\n",
       "4  demo         delta_W                51846\n",
       "5  demo         English                51846\n",
       "6  demo         ESI_i                  51846\n",
       "7  demo         gender                 51846\n",
       "8  demo         Height_i               51846\n",
       "9  demo         insurance              51846\n",
       "10 demo         race.Asian             51846\n",
       "11 demo         race.Black             51846\n",
       "12 demo         race.Native.American   51846\n",
       "13 demo         race.Other             51846\n",
       "14 demo         race.Pacific.Islander  51846\n",
       "15 demo         race.Unknown           51846\n",
       "16 demo         race.White             51846\n",
       "17 demo         Weight_i               51846\n",
       "18 labs         ALB                    45743\n",
       "19 labs         ALK                    45536\n",
       "20 labs         ALT                    45444\n",
       "21 labs         AnionGap               51290\n",
       "22 labs         AST                    45405\n",
       "23 labs         Base                   24797\n",
       "24 labs         Basos                  42484\n",
       "25 labs         BUN                    51376\n",
       "26 labs         Ca                     49337\n",
       "27 labs         Cl                     51668\n",
       "28 labs         CO2                    49196\n",
       "29 labs         Cr                     52259\n",
       "30 labs         eGFR                   47670\n",
       "31 labs         Eos                    43215\n",
       "32 labs         Glob                   45153\n",
       "33 labs         Glucose                59712\n",
       "34 labs         HCO3_a                  2007\n",
       "35 labs         HCO3_v                 23032\n",
       "36 labs         Hct                    53013\n",
       "37 labs         Hgb                    52962\n",
       "38 labs         INR                    22296\n",
       "39 labs         K                      52885\n",
       "40 labs         Lactate                27666\n",
       "41 labs         Lymp                   45567\n",
       "42 labs         MCH                    49353\n",
       "43 labs         Mono                   45409\n",
       "44 labs         Na                     52827\n",
       "45 labs         Neut                   45649\n",
       "46 labs         O2sat_a                 1517\n",
       "47 labs         O2sat_v                23355\n",
       "48 labs         pCO2_a                  1634\n",
       "49 labs         pCO2_v                 23433\n",
       "50 labs         pH_a                    1663\n",
       "51 labs         pH_v                   23431\n",
       "52 labs         Platelet               49547\n",
       "53 labs         PO2_a                   1632\n",
       "54 labs         PO2_v                  23451\n",
       "55 labs         PT                     22263\n",
       "56 labs         RDW                    49354\n",
       "57 labs         TBili                  45891\n",
       "58 labs         TCO2_a                  4296\n",
       "59 labs         TProtein               45610\n",
       "60 labs         Trop                   20888\n",
       "61 labs         WBC                    49467\n",
       "62 time_count   all_note               51846\n",
       "63 time_count   ed_hour                51846\n",
       "64 time_count   md_note                51846\n",
       "65 time_count   rn_note                51846\n",
       "66 vitals       DBP                   243614\n",
       "67 vitals       Pulse                 265350\n",
       "68 vitals       RR                    250460\n",
       "69 vitals       SBP                   243655\n",
       "70 vitals       Temp                  164873"
      ]
     },
     "metadata": {},
     "output_type": "display_data"
    }
   ],
   "source": [
    "feats %>% group_by(feature_type, features) %>% count()"
   ]
  },
  {
   "cell_type": "code",
   "execution_count": 40,
   "metadata": {},
   "outputs": [
    {
     "data": {
      "text/html": [
       "<style>\n",
       ".list-inline {list-style: none; margin:0; padding: 0}\n",
       ".list-inline>li {display: inline-block}\n",
       ".list-inline>li:not(:last-child)::after {content: \"\\00b7\"; padding: 0 .5ex}\n",
       "</style>\n",
       "<ol class=list-inline><li>'anon_id'</li><li>'pat_enc_csn_id_coded'</li><li>'features'</li><li>'values'</li><li>'feature_type'</li><li>'admit_time'</li><li>'first_label'</li><li>'death_3hr_recent_label'</li><li>'death_6hr_recent_label'</li><li>'death_9hr_recent_label'</li><li>'death_12hr_recent_label'</li><li>'death_24hr_recent_label'</li><li>'time'</li></ol>\n"
      ],
      "text/latex": [
       "\\begin{enumerate*}\n",
       "\\item 'anon\\_id'\n",
       "\\item 'pat\\_enc\\_csn\\_id\\_coded'\n",
       "\\item 'features'\n",
       "\\item 'values'\n",
       "\\item 'feature\\_type'\n",
       "\\item 'admit\\_time'\n",
       "\\item 'first\\_label'\n",
       "\\item 'death\\_3hr\\_recent\\_label'\n",
       "\\item 'death\\_6hr\\_recent\\_label'\n",
       "\\item 'death\\_9hr\\_recent\\_label'\n",
       "\\item 'death\\_12hr\\_recent\\_label'\n",
       "\\item 'death\\_24hr\\_recent\\_label'\n",
       "\\item 'time'\n",
       "\\end{enumerate*}\n"
      ],
      "text/markdown": [
       "1. 'anon_id'\n",
       "2. 'pat_enc_csn_id_coded'\n",
       "3. 'features'\n",
       "4. 'values'\n",
       "5. 'feature_type'\n",
       "6. 'admit_time'\n",
       "7. 'first_label'\n",
       "8. 'death_3hr_recent_label'\n",
       "9. 'death_6hr_recent_label'\n",
       "10. 'death_9hr_recent_label'\n",
       "11. 'death_12hr_recent_label'\n",
       "12. 'death_24hr_recent_label'\n",
       "13. 'time'\n",
       "\n",
       "\n"
      ],
      "text/plain": [
       " [1] \"anon_id\"                 \"pat_enc_csn_id_coded\"   \n",
       " [3] \"features\"                \"values\"                 \n",
       " [5] \"feature_type\"            \"admit_time\"             \n",
       " [7] \"first_label\"             \"death_3hr_recent_label\" \n",
       " [9] \"death_6hr_recent_label\"  \"death_9hr_recent_label\" \n",
       "[11] \"death_12hr_recent_label\" \"death_24hr_recent_label\"\n",
       "[13] \"time\"                   "
      ]
     },
     "metadata": {},
     "output_type": "display_data"
    }
   ],
   "source": [
    "names(feats)"
   ]
  },
  {
   "cell_type": "code",
   "execution_count": 41,
   "metadata": {},
   "outputs": [
    {
     "data": {
      "text/html": [
       "3867101"
      ],
      "text/latex": [
       "3867101"
      ],
      "text/markdown": [
       "3867101"
      ],
      "text/plain": [
       "[1] 3867101"
      ]
     },
     "metadata": {},
     "output_type": "display_data"
    },
    {
     "data": {
      "text/html": [
       "51846"
      ],
      "text/latex": [
       "51846"
      ],
      "text/markdown": [
       "51846"
      ],
      "text/plain": [
       "[1] 51846"
      ]
     },
     "metadata": {},
     "output_type": "display_data"
    }
   ],
   "source": [
    "# rearrange columns\n",
    "cohort_feats <- feats %>% select(anon_id, pat_enc_csn_id_coded, admit_time, first_label, \n",
    "                                 death_3hr_recent_label, death_6hr_recent_label, death_9hr_recent_label, \n",
    "                                 death_12hr_recent_label, death_24hr_recent_label,\n",
    "                                 feature_type, features, values, time)\n",
    "nrow(cohort_feats) # 3867101 \n",
    "length(unique(cohort_feats$pat_enc_csn_id_coded)) # 51846"
   ]
  },
  {
   "cell_type": "code",
   "execution_count": 42,
   "metadata": {},
   "outputs": [
    {
     "data": {
      "text/html": [
       "<table class=\"dataframe\">\n",
       "<caption>A data.frame: 1 × 13</caption>\n",
       "<thead>\n",
       "\t<tr><th></th><th scope=col>anon_id</th><th scope=col>pat_enc_csn_id_coded</th><th scope=col>admit_time</th><th scope=col>first_label</th><th scope=col>death_3hr_recent_label</th><th scope=col>death_6hr_recent_label</th><th scope=col>death_9hr_recent_label</th><th scope=col>death_12hr_recent_label</th><th scope=col>death_24hr_recent_label</th><th scope=col>feature_type</th><th scope=col>features</th><th scope=col>values</th><th scope=col>time</th></tr>\n",
       "\t<tr><th></th><th scope=col>&lt;chr&gt;</th><th scope=col>&lt;dbl&gt;</th><th scope=col>&lt;chr&gt;</th><th scope=col>&lt;int&gt;</th><th scope=col>&lt;int&gt;</th><th scope=col>&lt;int&gt;</th><th scope=col>&lt;int&gt;</th><th scope=col>&lt;int&gt;</th><th scope=col>&lt;int&gt;</th><th scope=col>&lt;chr&gt;</th><th scope=col>&lt;chr&gt;</th><th scope=col>&lt;dbl&gt;</th><th scope=col>&lt;chr&gt;</th></tr>\n",
       "</thead>\n",
       "<tbody>\n",
       "\t<tr><th scope=row>1</th><td>JC1000116</td><td>131066472308</td><td>2015-01-28 00:46:00</td><td>0</td><td>0</td><td>0</td><td>0</td><td>0</td><td>0</td><td>demo</td><td>ESI_i</td><td>3</td><td>NA</td></tr>\n",
       "</tbody>\n",
       "</table>\n"
      ],
      "text/latex": [
       "A data.frame: 1 × 13\n",
       "\\begin{tabular}{r|lllllllllllll}\n",
       "  & anon\\_id & pat\\_enc\\_csn\\_id\\_coded & admit\\_time & first\\_label & death\\_3hr\\_recent\\_label & death\\_6hr\\_recent\\_label & death\\_9hr\\_recent\\_label & death\\_12hr\\_recent\\_label & death\\_24hr\\_recent\\_label & feature\\_type & features & values & time\\\\\n",
       "  & <chr> & <dbl> & <chr> & <int> & <int> & <int> & <int> & <int> & <int> & <chr> & <chr> & <dbl> & <chr>\\\\\n",
       "\\hline\n",
       "\t1 & JC1000116 & 131066472308 & 2015-01-28 00:46:00 & 0 & 0 & 0 & 0 & 0 & 0 & demo & ESI\\_i & 3 & NA\\\\\n",
       "\\end{tabular}\n"
      ],
      "text/markdown": [
       "\n",
       "A data.frame: 1 × 13\n",
       "\n",
       "| <!--/--> | anon_id &lt;chr&gt; | pat_enc_csn_id_coded &lt;dbl&gt; | admit_time &lt;chr&gt; | first_label &lt;int&gt; | death_3hr_recent_label &lt;int&gt; | death_6hr_recent_label &lt;int&gt; | death_9hr_recent_label &lt;int&gt; | death_12hr_recent_label &lt;int&gt; | death_24hr_recent_label &lt;int&gt; | feature_type &lt;chr&gt; | features &lt;chr&gt; | values &lt;dbl&gt; | time &lt;chr&gt; |\n",
       "|---|---|---|---|---|---|---|---|---|---|---|---|---|---|\n",
       "| 1 | JC1000116 | 131066472308 | 2015-01-28 00:46:00 | 0 | 0 | 0 | 0 | 0 | 0 | demo | ESI_i | 3 | NA |\n",
       "\n"
      ],
      "text/plain": [
       "  anon_id   pat_enc_csn_id_coded admit_time          first_label\n",
       "1 JC1000116 131066472308         2015-01-28 00:46:00 0          \n",
       "  death_3hr_recent_label death_6hr_recent_label death_9hr_recent_label\n",
       "1 0                      0                      0                     \n",
       "  death_12hr_recent_label death_24hr_recent_label feature_type features values\n",
       "1 0                       0                       demo         ESI_i    3     \n",
       "  time\n",
       "1 NA  "
      ]
     },
     "metadata": {},
     "output_type": "display_data"
    },
    {
     "data": {
      "text/html": [
       "<table class=\"dataframe\">\n",
       "<caption>A data.frame: 1 × 13</caption>\n",
       "<thead>\n",
       "\t<tr><th></th><th scope=col>anon_id</th><th scope=col>pat_enc_csn_id_coded</th><th scope=col>admit_time</th><th scope=col>first_label</th><th scope=col>death_3hr_recent_label</th><th scope=col>death_6hr_recent_label</th><th scope=col>death_9hr_recent_label</th><th scope=col>death_12hr_recent_label</th><th scope=col>death_24hr_recent_label</th><th scope=col>feature_type</th><th scope=col>features</th><th scope=col>values</th><th scope=col>time</th></tr>\n",
       "\t<tr><th></th><th scope=col>&lt;chr&gt;</th><th scope=col>&lt;dbl&gt;</th><th scope=col>&lt;chr&gt;</th><th scope=col>&lt;int&gt;</th><th scope=col>&lt;int&gt;</th><th scope=col>&lt;int&gt;</th><th scope=col>&lt;int&gt;</th><th scope=col>&lt;int&gt;</th><th scope=col>&lt;int&gt;</th><th scope=col>&lt;chr&gt;</th><th scope=col>&lt;chr&gt;</th><th scope=col>&lt;dbl&gt;</th><th scope=col>&lt;chr&gt;</th></tr>\n",
       "</thead>\n",
       "<tbody>\n",
       "\t<tr><th scope=row>3867101</th><td>JC2553680</td><td>1.3128e+11</td><td>2019-12-07 07:22:00</td><td>0</td><td>0</td><td>0</td><td>0</td><td>0</td><td>0</td><td>labs</td><td>O2sat_v</td><td>99.5</td><td>2019-12-07 07:03:00+00:00</td></tr>\n",
       "</tbody>\n",
       "</table>\n"
      ],
      "text/latex": [
       "A data.frame: 1 × 13\n",
       "\\begin{tabular}{r|lllllllllllll}\n",
       "  & anon\\_id & pat\\_enc\\_csn\\_id\\_coded & admit\\_time & first\\_label & death\\_3hr\\_recent\\_label & death\\_6hr\\_recent\\_label & death\\_9hr\\_recent\\_label & death\\_12hr\\_recent\\_label & death\\_24hr\\_recent\\_label & feature\\_type & features & values & time\\\\\n",
       "  & <chr> & <dbl> & <chr> & <int> & <int> & <int> & <int> & <int> & <int> & <chr> & <chr> & <dbl> & <chr>\\\\\n",
       "\\hline\n",
       "\t3867101 & JC2553680 & 1.3128e+11 & 2019-12-07 07:22:00 & 0 & 0 & 0 & 0 & 0 & 0 & labs & O2sat\\_v & 99.5 & 2019-12-07 07:03:00+00:00\\\\\n",
       "\\end{tabular}\n"
      ],
      "text/markdown": [
       "\n",
       "A data.frame: 1 × 13\n",
       "\n",
       "| <!--/--> | anon_id &lt;chr&gt; | pat_enc_csn_id_coded &lt;dbl&gt; | admit_time &lt;chr&gt; | first_label &lt;int&gt; | death_3hr_recent_label &lt;int&gt; | death_6hr_recent_label &lt;int&gt; | death_9hr_recent_label &lt;int&gt; | death_12hr_recent_label &lt;int&gt; | death_24hr_recent_label &lt;int&gt; | feature_type &lt;chr&gt; | features &lt;chr&gt; | values &lt;dbl&gt; | time &lt;chr&gt; |\n",
       "|---|---|---|---|---|---|---|---|---|---|---|---|---|---|\n",
       "| 3867101 | JC2553680 | 1.3128e+11 | 2019-12-07 07:22:00 | 0 | 0 | 0 | 0 | 0 | 0 | labs | O2sat_v | 99.5 | 2019-12-07 07:03:00+00:00 |\n",
       "\n"
      ],
      "text/plain": [
       "        anon_id   pat_enc_csn_id_coded admit_time          first_label\n",
       "3867101 JC2553680 1.3128e+11           2019-12-07 07:22:00 0          \n",
       "        death_3hr_recent_label death_6hr_recent_label death_9hr_recent_label\n",
       "3867101 0                      0                      0                     \n",
       "        death_12hr_recent_label death_24hr_recent_label feature_type features\n",
       "3867101 0                       0                       labs         O2sat_v \n",
       "        values time                     \n",
       "3867101 99.5   2019-12-07 07:03:00+00:00"
      ]
     },
     "metadata": {},
     "output_type": "display_data"
    }
   ],
   "source": [
    "head(cohort_feats, 1)\n",
    "tail(cohort_feats, 1)"
   ]
  },
  {
   "cell_type": "code",
   "execution_count": 43,
   "metadata": {},
   "outputs": [],
   "source": [
    "# only have new cohort\n",
    "write.csv(cohort_feats, file.path(outdir, \"12_coh4_noOR_noDKA_feature_values.csv\"), row.names=FALSE)"
   ]
  },
  {
   "cell_type": "raw",
   "metadata": {},
   "source": [
    "featuredir = \"../../OutputTD/2_features\"\n",
    "cohort4_0_feats <- read.csv(file.path(featuredir, \"2_7_coh4_feature_values.csv\"))\n",
    "nrow(cohort4_0_feats) # 3085046\n",
    "length(unique(cohort4_0_feats$pat_enc_csn_id_coded))"
   ]
  },
  {
   "cell_type": "raw",
   "metadata": {},
   "source": [
    "# NO overlapping! sanity check\n",
    "length(setdiff(cohort4_feats$pat_enc_csn_id_coded, cohort4_0$pat_enc_csn_id_coded))\n",
    "length(setdiff(cohort4_0_feats$pat_enc_csn_id_coded, cohort4_feats$pat_enc_csn_id_coded))"
   ]
  }
 ],
 "metadata": {
  "environment": {
   "name": "r-cpu.4-0.m71",
   "type": "gcloud",
   "uri": "gcr.io/deeplearning-platform-release/r-cpu.4-0:m71"
  },
  "kernelspec": {
   "display_name": "R",
   "language": "R",
   "name": "ir"
  },
  "language_info": {
   "codemirror_mode": "r",
   "file_extension": ".r",
   "mimetype": "text/x-r-source",
   "name": "R",
   "pygments_lexer": "r",
   "version": "4.1.0"
  },
  "toc": {
   "base_numbering": 1,
   "nav_menu": {},
   "number_sections": true,
   "sideBar": true,
   "skip_h1_title": false,
   "title_cell": "Table of Contents",
   "title_sidebar": "Contents",
   "toc_cell": false,
   "toc_position": {},
   "toc_section_display": true,
   "toc_window_display": false
  },
  "varInspector": {
   "cols": {
    "lenName": 16,
    "lenType": 16,
    "lenVar": 40
   },
   "kernels_config": {
    "python": {
     "delete_cmd_postfix": "",
     "delete_cmd_prefix": "del ",
     "library": "var_list.py",
     "varRefreshCmd": "print(var_dic_list())"
    },
    "r": {
     "delete_cmd_postfix": ") ",
     "delete_cmd_prefix": "rm(",
     "library": "var_list.r",
     "varRefreshCmd": "cat(var_dic_list()) "
    }
   },
   "types_to_exclude": [
    "module",
    "function",
    "builtin_function_or_method",
    "instance",
    "_Feature"
   ],
   "window_display": false
  }
 },
 "nbformat": 4,
 "nbformat_minor": 4
}
