{
 "cells": [
  {
   "cell_type": "markdown",
   "id": "major-wyoming",
   "metadata": {},
   "source": [
    "# Personel Count\n",
    "\n",
    "Counting the number of personel on the treatment team prior to admit."
   ]
  },
  {
   "cell_type": "code",
   "execution_count": 1,
   "id": "primary-snowboard",
   "metadata": {},
   "outputs": [],
   "source": [
    "import pandas as pd\n",
    "import numpy as np\n",
    "from datetime import datetime\n",
    "from datetime import timedelta\n",
    "import matplotlib.pyplot as plt\n",
    "import seaborn as sns\n",
    "from scipy import stats"
   ]
  },
  {
   "cell_type": "markdown",
   "id": "rubber-surge",
   "metadata": {},
   "source": [
    "Queried BQ to get the treatment team for each CSN prior to admit time using the following code:"
   ]
  },
  {
   "cell_type": "raw",
   "id": "fantastic-vermont",
   "metadata": {},
   "source": [
    "select distinct anon_id, team.pat_enc_csn_id_coded, name, prov_map_id, team.trtmnt_tm_begin_dt_jittered_utc\n",
    "    from `som-nero-phi-jonc101.shc_core_2021.treatment_team` as team\n",
    "    left join \n",
    "    (select distinct pat_enc_csn_id_coded, admit_time\n",
    "       from `som-nero-phi-jonc101.triageTD.7_cohort4_3hr_labels_noOR`\n",
    "    ) as cohort\n",
    "    on team.pat_enc_csn_id_coded = cohort.pat_enc_csn_id_coded\n",
    "    where trtmnt_tm_begin_dt_jittered_utc < admit_time"
   ]
  },
  {
   "cell_type": "code",
   "execution_count": 4,
   "id": "private-carrier",
   "metadata": {},
   "outputs": [],
   "source": [
    "# read in the file\n",
    "\n",
    "datadir = \"../../DataTD/shc2021\"\n",
    "\n",
    "personel_file = \"{}/7_cohort4_3hr_noOR_personel.csv\".format(datadir)\n",
    "\n",
    "personel = pd.read_csv(personel_file)"
   ]
  },
  {
   "cell_type": "code",
   "execution_count": 6,
   "id": "technical-moore",
   "metadata": {},
   "outputs": [
    {
     "name": "stdout",
     "output_type": "stream",
     "text": [
      "52165\n"
     ]
    },
    {
     "data": {
      "text/html": [
       "<div>\n",
       "<style scoped>\n",
       "    .dataframe tbody tr th:only-of-type {\n",
       "        vertical-align: middle;\n",
       "    }\n",
       "\n",
       "    .dataframe tbody tr th {\n",
       "        vertical-align: top;\n",
       "    }\n",
       "\n",
       "    .dataframe thead th {\n",
       "        text-align: right;\n",
       "    }\n",
       "</style>\n",
       "<table border=\"1\" class=\"dataframe\">\n",
       "  <thead>\n",
       "    <tr style=\"text-align: right;\">\n",
       "      <th></th>\n",
       "      <th>anon_id</th>\n",
       "      <th>pat_enc_csn_id_coded</th>\n",
       "      <th>name</th>\n",
       "      <th>prov_map_id</th>\n",
       "      <th>trtmnt_tm_begin_dt_jittered_utc</th>\n",
       "    </tr>\n",
       "  </thead>\n",
       "  <tbody>\n",
       "    <tr>\n",
       "      <th>0</th>\n",
       "      <td>JC2468368</td>\n",
       "      <td>131272840102</td>\n",
       "      <td>Medical Student</td>\n",
       "      <td>SS0304861</td>\n",
       "      <td>2019-06-27 00:47:00 UTC</td>\n",
       "    </tr>\n",
       "    <tr>\n",
       "      <th>1</th>\n",
       "      <td>JC518811</td>\n",
       "      <td>131304771841</td>\n",
       "      <td>Medical Student</td>\n",
       "      <td>SS0288219</td>\n",
       "      <td>2021-02-02 00:38:00 UTC</td>\n",
       "    </tr>\n",
       "    <tr>\n",
       "      <th>2</th>\n",
       "      <td>JC2495027</td>\n",
       "      <td>131313718819</td>\n",
       "      <td>Medical Student</td>\n",
       "      <td>SS0291810</td>\n",
       "      <td>2021-06-06 19:08:00 UTC</td>\n",
       "    </tr>\n",
       "    <tr>\n",
       "      <th>3</th>\n",
       "      <td>JC2005143</td>\n",
       "      <td>131305074284</td>\n",
       "      <td>Resident</td>\n",
       "      <td>S25750</td>\n",
       "      <td>2021-03-12 03:19:00 UTC</td>\n",
       "    </tr>\n",
       "    <tr>\n",
       "      <th>4</th>\n",
       "      <td>JC2905250</td>\n",
       "      <td>131313318544</td>\n",
       "      <td>Resident</td>\n",
       "      <td>SS0329473</td>\n",
       "      <td>2021-06-24 20:39:00 UTC</td>\n",
       "    </tr>\n",
       "  </tbody>\n",
       "</table>\n",
       "</div>"
      ],
      "text/plain": [
       "     anon_id  pat_enc_csn_id_coded             name prov_map_id  \\\n",
       "0  JC2468368          131272840102  Medical Student   SS0304861   \n",
       "1   JC518811          131304771841  Medical Student   SS0288219   \n",
       "2  JC2495027          131313718819  Medical Student   SS0291810   \n",
       "3  JC2005143          131305074284         Resident      S25750   \n",
       "4  JC2905250          131313318544         Resident   SS0329473   \n",
       "\n",
       "  trtmnt_tm_begin_dt_jittered_utc  \n",
       "0         2019-06-27 00:47:00 UTC  \n",
       "1         2021-02-02 00:38:00 UTC  \n",
       "2         2021-06-06 19:08:00 UTC  \n",
       "3         2021-03-12 03:19:00 UTC  \n",
       "4         2021-06-24 20:39:00 UTC  "
      ]
     },
     "execution_count": 6,
     "metadata": {},
     "output_type": "execute_result"
    }
   ],
   "source": [
    "print(personel.pat_enc_csn_id_coded.nunique()) # missing some csns from our cohort - about 400\n",
    "\n",
    "personel.head()"
   ]
  },
  {
   "cell_type": "code",
   "execution_count": 7,
   "id": "honest-hardwood",
   "metadata": {},
   "outputs": [
    {
     "name": "stdout",
     "output_type": "stream",
     "text": [
      "(202155, 5)\n",
      "(196310, 2)\n"
     ]
    }
   ],
   "source": [
    "# get distinct personel for each csn\n",
    "distinct_personel = personel[['pat_enc_csn_id_coded', 'prov_map_id']].drop_duplicates()\n",
    "\n",
    "print(personel.shape)\n",
    "print(distinct_personel.shape) # there were many dupliate personel"
   ]
  },
  {
   "cell_type": "code",
   "execution_count": 9,
   "id": "descending-outreach",
   "metadata": {},
   "outputs": [
    {
     "data": {
      "text/html": [
       "<div>\n",
       "<style scoped>\n",
       "    .dataframe tbody tr th:only-of-type {\n",
       "        vertical-align: middle;\n",
       "    }\n",
       "\n",
       "    .dataframe tbody tr th {\n",
       "        vertical-align: top;\n",
       "    }\n",
       "\n",
       "    .dataframe thead th {\n",
       "        text-align: right;\n",
       "    }\n",
       "</style>\n",
       "<table border=\"1\" class=\"dataframe\">\n",
       "  <thead>\n",
       "    <tr style=\"text-align: right;\">\n",
       "      <th></th>\n",
       "      <th>pat_enc_csn_id_coded</th>\n",
       "      <th>personel_count</th>\n",
       "    </tr>\n",
       "  </thead>\n",
       "  <tbody>\n",
       "    <tr>\n",
       "      <th>0</th>\n",
       "      <td>131062572931</td>\n",
       "      <td>4</td>\n",
       "    </tr>\n",
       "    <tr>\n",
       "      <th>1</th>\n",
       "      <td>131062745090</td>\n",
       "      <td>7</td>\n",
       "    </tr>\n",
       "    <tr>\n",
       "      <th>2</th>\n",
       "      <td>131062927111</td>\n",
       "      <td>9</td>\n",
       "    </tr>\n",
       "    <tr>\n",
       "      <th>3</th>\n",
       "      <td>131063006922</td>\n",
       "      <td>4</td>\n",
       "    </tr>\n",
       "    <tr>\n",
       "      <th>4</th>\n",
       "      <td>131063022232</td>\n",
       "      <td>5</td>\n",
       "    </tr>\n",
       "  </tbody>\n",
       "</table>\n",
       "</div>"
      ],
      "text/plain": [
       "   pat_enc_csn_id_coded  personel_count\n",
       "0          131062572931               4\n",
       "1          131062745090               7\n",
       "2          131062927111               9\n",
       "3          131063006922               4\n",
       "4          131063022232               5"
      ]
     },
     "execution_count": 9,
     "metadata": {},
     "output_type": "execute_result"
    }
   ],
   "source": [
    "# count the number of distinct personel for each csn\n",
    "counts = distinct_personel.groupby(['pat_enc_csn_id_coded']).size().reset_index(name='personel_count')\n",
    "counts.head()"
   ]
  },
  {
   "cell_type": "code",
   "execution_count": 10,
   "id": "super-alfred",
   "metadata": {},
   "outputs": [],
   "source": [
    "# save this file\n",
    "savefile = \"../../OutputTD/shc2021/XX_personel_count.csv\"\n",
    "counts.to_csv(savefile, index=False)"
   ]
  }
 ],
 "metadata": {
  "kernelspec": {
   "display_name": "Python 3",
   "language": "python",
   "name": "python3"
  },
  "language_info": {
   "codemirror_mode": {
    "name": "ipython",
    "version": 3
   },
   "file_extension": ".py",
   "mimetype": "text/x-python",
   "name": "python",
   "nbconvert_exporter": "python",
   "pygments_lexer": "ipython3",
   "version": "3.8.5"
  }
 },
 "nbformat": 4,
 "nbformat_minor": 5
}
