{
 "cells": [
  {
   "cell_type": "markdown",
   "id": "f9f22b0d",
   "metadata": {},
   "source": [
    "### Description: NEW\n",
    "Refine new cohort4 to only include CSNs that are not already in the original cohort\n",
    "- New cohort: shc_core_2021, from 04/2020 - 2021\n",
    "- Original old cohort: shc_core, 2015 - 03/2020\n",
    "\n",
    "However, some CSNs in the new cohort are also in the old cohort, but with different anon_id and admit time\n",
    "- Remove these overlapping CSNs. This is clean if use both cohort4 from old and new data\n",
    "- When using Demographics/HW data later in 6.8 notebook, be aware that there are a few overlapped CSNs. This is due to cohort2 was used to get demo/HW data. These overlapped CSNs were actually removed from cohort3 already. They are removed from new cohort4 again when merging with the old demo/HW data to prevent further issues. But this `cohort4` remain intact.\n",
    "\n",
    "**Input:**\n",
    "- `1_4_cohort.csv` (original cohort4)\n",
    "- `6_7_0_cohort4` (new cohort4 with labels)\n",
    "\n",
    "\n",
    "**Output:**\n",
    "- `6_7_cohort4` size 60,464. This is the *final cohort* combing 2015 - 03/2020 (43,980) and 04/2020 - 2021 (16,484) data\n"
   ]
  },
  {
   "cell_type": "code",
   "execution_count": 1,
   "id": "df2d9be2",
   "metadata": {},
   "outputs": [
    {
     "name": "stderr",
     "output_type": "stream",
     "text": [
      "── \u001b[1mAttaching packages\u001b[22m ─────────────────────────────────────── tidyverse 1.3.1 ──\n",
      "\n",
      "\u001b[32m✔\u001b[39m \u001b[34mggplot2\u001b[39m 3.3.5     \u001b[32m✔\u001b[39m \u001b[34mpurrr  \u001b[39m 0.3.4\n",
      "\u001b[32m✔\u001b[39m \u001b[34mtibble \u001b[39m 3.1.2     \u001b[32m✔\u001b[39m \u001b[34mdplyr  \u001b[39m 1.0.6\n",
      "\u001b[32m✔\u001b[39m \u001b[34mtidyr  \u001b[39m 1.1.3     \u001b[32m✔\u001b[39m \u001b[34mstringr\u001b[39m 1.4.0\n",
      "\u001b[32m✔\u001b[39m \u001b[34mreadr  \u001b[39m 1.4.0     \u001b[32m✔\u001b[39m \u001b[34mforcats\u001b[39m 0.5.1\n",
      "\n",
      "── \u001b[1mConflicts\u001b[22m ────────────────────────────────────────── tidyverse_conflicts() ──\n",
      "\u001b[31m✖\u001b[39m \u001b[34mdplyr\u001b[39m::\u001b[32mbetween()\u001b[39m   masks \u001b[34mdata.table\u001b[39m::between()\n",
      "\u001b[31m✖\u001b[39m \u001b[34mdplyr\u001b[39m::\u001b[32mfilter()\u001b[39m    masks \u001b[34mstats\u001b[39m::filter()\n",
      "\u001b[31m✖\u001b[39m \u001b[34mdplyr\u001b[39m::\u001b[32mfirst()\u001b[39m     masks \u001b[34mdata.table\u001b[39m::first()\n",
      "\u001b[31m✖\u001b[39m \u001b[34mdplyr\u001b[39m::\u001b[32mlag()\u001b[39m       masks \u001b[34mstats\u001b[39m::lag()\n",
      "\u001b[31m✖\u001b[39m \u001b[34mdplyr\u001b[39m::\u001b[32mlast()\u001b[39m      masks \u001b[34mdata.table\u001b[39m::last()\n",
      "\u001b[31m✖\u001b[39m \u001b[34mpurrr\u001b[39m::\u001b[32mtranspose()\u001b[39m masks \u001b[34mdata.table\u001b[39m::transpose()\n",
      "\n",
      "\n",
      "Attaching package: ‘lubridate’\n",
      "\n",
      "\n",
      "The following objects are masked from ‘package:data.table’:\n",
      "\n",
      "    hour, isoweek, mday, minute, month, quarter, second, wday, week,\n",
      "    yday, year\n",
      "\n",
      "\n",
      "The following objects are masked from ‘package:base’:\n",
      "\n",
      "    date, intersect, setdiff, union\n",
      "\n",
      "\n"
     ]
    }
   ],
   "source": [
    "library(data.table)\n",
    "library(tidyverse)\n",
    "library(lubridate)\n",
    "# library(Matrix)\n",
    "# library(slam)\n",
    "# library(bit64)\n",
    "# library(mtools) for one hot coder, not available on Nero or use caret or tidyr\n",
    "options(repr.matrix.max.rows=200, repr.matrix.max.cols=30)"
   ]
  },
  {
   "cell_type": "code",
   "execution_count": 2,
   "id": "7016b6be",
   "metadata": {},
   "outputs": [],
   "source": [
    "datadir = \"../../DataTD/shc2021\"\n",
    "outdir = \"../../OutputTD/shc2021\""
   ]
  },
  {
   "cell_type": "markdown",
   "id": "cad768b3",
   "metadata": {},
   "source": [
    "### Combine all labels across different times"
   ]
  },
  {
   "cell_type": "code",
   "execution_count": 6,
   "id": "b38e0dfc",
   "metadata": {},
   "outputs": [
    {
     "name": "stderr",
     "output_type": "stream",
     "text": [
      "\n",
      "\u001b[36m──\u001b[39m \u001b[1m\u001b[1mColumn specification\u001b[1m\u001b[22m \u001b[36m────────────────────────────────────────────────────────\u001b[39m\n",
      "cols(\n",
      "  anon_id = \u001b[31mcol_character()\u001b[39m,\n",
      "  pat_enc_csn_id_coded = \u001b[32mcol_double()\u001b[39m,\n",
      "  admit_time = \u001b[34mcol_datetime(format = \"\")\u001b[39m,\n",
      "  label_max3 = \u001b[32mcol_double()\u001b[39m,\n",
      "  label_3hr_recent = \u001b[32mcol_double()\u001b[39m,\n",
      "  admit_label = \u001b[32mcol_double()\u001b[39m,\n",
      "  has_admit_label = \u001b[32mcol_double()\u001b[39m,\n",
      "  died_within_24hrs = \u001b[32mcol_double()\u001b[39m,\n",
      "  death_3hr_max_label = \u001b[32mcol_double()\u001b[39m,\n",
      "  death_3hr_recent_label = \u001b[32mcol_double()\u001b[39m,\n",
      "  first_label = \u001b[32mcol_double()\u001b[39m,\n",
      "  first_label_minutes_since_admit = \u001b[32mcol_double()\u001b[39m,\n",
      "  acute_to_critical_label_recent_3hr = \u001b[32mcol_double()\u001b[39m,\n",
      "  critical_to_acute_label_recent_3hr = \u001b[32mcol_double()\u001b[39m,\n",
      "  acute_to_critical_label_max_3hr = \u001b[32mcol_double()\u001b[39m,\n",
      "  critical_to_acute_label_max_3hr = \u001b[32mcol_double()\u001b[39m\n",
      ")\n",
      "\n",
      "\n",
      "\n",
      "\u001b[36m──\u001b[39m \u001b[1m\u001b[1mColumn specification\u001b[1m\u001b[22m \u001b[36m────────────────────────────────────────────────────────\u001b[39m\n",
      "cols(\n",
      "  anon_id = \u001b[31mcol_character()\u001b[39m,\n",
      "  pat_enc_csn_id_coded = \u001b[32mcol_double()\u001b[39m,\n",
      "  admit_time = \u001b[34mcol_datetime(format = \"\")\u001b[39m,\n",
      "  label_max6 = \u001b[32mcol_double()\u001b[39m,\n",
      "  label_6hr_recent = \u001b[32mcol_double()\u001b[39m,\n",
      "  admit_label = \u001b[32mcol_double()\u001b[39m,\n",
      "  has_admit_label = \u001b[32mcol_double()\u001b[39m,\n",
      "  died_within_24hrs = \u001b[32mcol_double()\u001b[39m,\n",
      "  death_6hr_max_label = \u001b[32mcol_double()\u001b[39m,\n",
      "  death_6hr_recent_label = \u001b[32mcol_double()\u001b[39m,\n",
      "  first_label = \u001b[32mcol_double()\u001b[39m,\n",
      "  first_label_minutes_since_admit = \u001b[32mcol_double()\u001b[39m,\n",
      "  acute_to_critical_label_recent_6hr = \u001b[32mcol_double()\u001b[39m,\n",
      "  critical_to_acute_label_recent_6hr = \u001b[32mcol_double()\u001b[39m,\n",
      "  acute_to_critical_label_max_6hr = \u001b[32mcol_double()\u001b[39m,\n",
      "  critical_to_acute_label_max_6hr = \u001b[32mcol_double()\u001b[39m\n",
      ")\n",
      "\n",
      "\n",
      "\n",
      "\u001b[36m──\u001b[39m \u001b[1m\u001b[1mColumn specification\u001b[1m\u001b[22m \u001b[36m────────────────────────────────────────────────────────\u001b[39m\n",
      "cols(\n",
      "  anon_id = \u001b[31mcol_character()\u001b[39m,\n",
      "  pat_enc_csn_id_coded = \u001b[32mcol_double()\u001b[39m,\n",
      "  admit_time = \u001b[34mcol_datetime(format = \"\")\u001b[39m,\n",
      "  label_max9 = \u001b[32mcol_double()\u001b[39m,\n",
      "  label_9hr_recent = \u001b[32mcol_double()\u001b[39m,\n",
      "  admit_label = \u001b[32mcol_double()\u001b[39m,\n",
      "  has_admit_label = \u001b[32mcol_double()\u001b[39m,\n",
      "  died_within_24hrs = \u001b[32mcol_double()\u001b[39m,\n",
      "  death_9hr_max_label = \u001b[32mcol_double()\u001b[39m,\n",
      "  death_9hr_recent_label = \u001b[32mcol_double()\u001b[39m,\n",
      "  first_label = \u001b[32mcol_double()\u001b[39m,\n",
      "  first_label_minutes_since_admit = \u001b[32mcol_double()\u001b[39m,\n",
      "  acute_to_critical_label_recent_9hr = \u001b[32mcol_double()\u001b[39m,\n",
      "  critical_to_acute_label_recent_9hr = \u001b[32mcol_double()\u001b[39m,\n",
      "  acute_to_critical_label_max_9hr = \u001b[32mcol_double()\u001b[39m,\n",
      "  critical_to_acute_label_max_9hr = \u001b[32mcol_double()\u001b[39m\n",
      ")\n",
      "\n",
      "\n",
      "\n",
      "\u001b[36m──\u001b[39m \u001b[1m\u001b[1mColumn specification\u001b[1m\u001b[22m \u001b[36m────────────────────────────────────────────────────────\u001b[39m\n",
      "cols(\n",
      "  anon_id = \u001b[31mcol_character()\u001b[39m,\n",
      "  pat_enc_csn_id_coded = \u001b[32mcol_double()\u001b[39m,\n",
      "  admit_time = \u001b[34mcol_datetime(format = \"\")\u001b[39m,\n",
      "  label_max12 = \u001b[32mcol_double()\u001b[39m,\n",
      "  label_12hr_recent = \u001b[32mcol_double()\u001b[39m,\n",
      "  admit_label = \u001b[32mcol_double()\u001b[39m,\n",
      "  has_admit_label = \u001b[32mcol_double()\u001b[39m,\n",
      "  died_within_24hrs = \u001b[32mcol_double()\u001b[39m,\n",
      "  death_12hr_max_label = \u001b[32mcol_double()\u001b[39m,\n",
      "  death_12hr_recent_label = \u001b[32mcol_double()\u001b[39m,\n",
      "  first_label = \u001b[32mcol_double()\u001b[39m,\n",
      "  first_label_minutes_since_admit = \u001b[32mcol_double()\u001b[39m,\n",
      "  acute_to_critical_label_recent_12hr = \u001b[32mcol_double()\u001b[39m,\n",
      "  critical_to_acute_label_recent_12hr = \u001b[32mcol_double()\u001b[39m,\n",
      "  acute_to_critical_label_max_12hr = \u001b[32mcol_double()\u001b[39m,\n",
      "  critical_to_acute_label_max_12hr = \u001b[32mcol_double()\u001b[39m\n",
      ")\n",
      "\n",
      "\n",
      "\n",
      "\u001b[36m──\u001b[39m \u001b[1m\u001b[1mColumn specification\u001b[1m\u001b[22m \u001b[36m────────────────────────────────────────────────────────\u001b[39m\n",
      "cols(\n",
      "  anon_id = \u001b[31mcol_character()\u001b[39m,\n",
      "  pat_enc_csn_id_coded = \u001b[32mcol_double()\u001b[39m,\n",
      "  admit_time = \u001b[34mcol_datetime(format = \"\")\u001b[39m,\n",
      "  label_max24 = \u001b[32mcol_double()\u001b[39m,\n",
      "  label_24hr_recent = \u001b[32mcol_double()\u001b[39m,\n",
      "  admit_label = \u001b[32mcol_double()\u001b[39m,\n",
      "  has_admit_label = \u001b[32mcol_double()\u001b[39m,\n",
      "  died_within_24hrs = \u001b[32mcol_double()\u001b[39m,\n",
      "  death_24hr_max_label = \u001b[32mcol_double()\u001b[39m,\n",
      "  death_24hr_recent_label = \u001b[32mcol_double()\u001b[39m,\n",
      "  first_label = \u001b[32mcol_double()\u001b[39m,\n",
      "  first_label_minutes_since_admit = \u001b[32mcol_double()\u001b[39m,\n",
      "  acute_to_critical_label_recent_24hr = \u001b[32mcol_double()\u001b[39m,\n",
      "  critical_to_acute_label_recent_24hr = \u001b[32mcol_double()\u001b[39m,\n",
      "  acute_to_critical_label_max_24hr = \u001b[32mcol_double()\u001b[39m,\n",
      "  critical_to_acute_label_max_24hr = \u001b[32mcol_double()\u001b[39m\n",
      ")\n",
      "\n",
      "\n"
     ]
    }
   ],
   "source": [
    "# use cohort having labels within the first 3 hours as the main cohort\n",
    "cohort3hr <- read_csv(\"../../OutputTD/shc2021/7_cohort4_3hr_labels.csv\")\n",
    "cohort6hr <- read_csv(\"../../OutputTD/shc2021/7_cohort4_6hr_labels.csv\")\n",
    "cohort9hr <- read_csv(\"../../OutputTD/shc2021/7_cohort4_9hr_labels.csv\")\n",
    "cohort12hr <- read_csv(\"../../OutputTD/shc2021/7_cohort4_12hr_labels.csv\")\n",
    "cohort24hr <- read_csv(\"../../OutputTD/shc2021/7_cohort4_24hr_labels.csv\")"
   ]
  },
  {
   "cell_type": "code",
   "execution_count": 7,
   "id": "5f5eb7d0",
   "metadata": {},
   "outputs": [
    {
     "data": {
      "text/html": [
       "<style>\n",
       ".list-inline {list-style: none; margin:0; padding: 0}\n",
       ".list-inline>li {display: inline-block}\n",
       ".list-inline>li:not(:last-child)::after {content: \"\\00b7\"; padding: 0 .5ex}\n",
       "</style>\n",
       "<ol class=list-inline><li>60648</li><li>16</li></ol>\n"
      ],
      "text/latex": [
       "\\begin{enumerate*}\n",
       "\\item 60648\n",
       "\\item 16\n",
       "\\end{enumerate*}\n"
      ],
      "text/markdown": [
       "1. 60648\n",
       "2. 16\n",
       "\n",
       "\n"
      ],
      "text/plain": [
       "[1] 60648    16"
      ]
     },
     "metadata": {},
     "output_type": "display_data"
    },
    {
     "data": {
      "text/html": [
       "<style>\n",
       ".list-inline {list-style: none; margin:0; padding: 0}\n",
       ".list-inline>li {display: inline-block}\n",
       ".list-inline>li:not(:last-child)::after {content: \"\\00b7\"; padding: 0 .5ex}\n",
       "</style>\n",
       "<ol class=list-inline><li>60772</li><li>16</li></ol>\n"
      ],
      "text/latex": [
       "\\begin{enumerate*}\n",
       "\\item 60772\n",
       "\\item 16\n",
       "\\end{enumerate*}\n"
      ],
      "text/markdown": [
       "1. 60772\n",
       "2. 16\n",
       "\n",
       "\n"
      ],
      "text/plain": [
       "[1] 60772    16"
      ]
     },
     "metadata": {},
     "output_type": "display_data"
    },
    {
     "data": {
      "text/html": [
       "<style>\n",
       ".list-inline {list-style: none; margin:0; padding: 0}\n",
       ".list-inline>li {display: inline-block}\n",
       ".list-inline>li:not(:last-child)::after {content: \"\\00b7\"; padding: 0 .5ex}\n",
       "</style>\n",
       "<ol class=list-inline><li>60817</li><li>16</li></ol>\n"
      ],
      "text/latex": [
       "\\begin{enumerate*}\n",
       "\\item 60817\n",
       "\\item 16\n",
       "\\end{enumerate*}\n"
      ],
      "text/markdown": [
       "1. 60817\n",
       "2. 16\n",
       "\n",
       "\n"
      ],
      "text/plain": [
       "[1] 60817    16"
      ]
     },
     "metadata": {},
     "output_type": "display_data"
    },
    {
     "data": {
      "text/html": [
       "<style>\n",
       ".list-inline {list-style: none; margin:0; padding: 0}\n",
       ".list-inline>li {display: inline-block}\n",
       ".list-inline>li:not(:last-child)::after {content: \"\\00b7\"; padding: 0 .5ex}\n",
       "</style>\n",
       "<ol class=list-inline><li>60841</li><li>16</li></ol>\n"
      ],
      "text/latex": [
       "\\begin{enumerate*}\n",
       "\\item 60841\n",
       "\\item 16\n",
       "\\end{enumerate*}\n"
      ],
      "text/markdown": [
       "1. 60841\n",
       "2. 16\n",
       "\n",
       "\n"
      ],
      "text/plain": [
       "[1] 60841    16"
      ]
     },
     "metadata": {},
     "output_type": "display_data"
    },
    {
     "data": {
      "text/html": [
       "<style>\n",
       ".list-inline {list-style: none; margin:0; padding: 0}\n",
       ".list-inline>li {display: inline-block}\n",
       ".list-inline>li:not(:last-child)::after {content: \"\\00b7\"; padding: 0 .5ex}\n",
       "</style>\n",
       "<ol class=list-inline><li>60894</li><li>16</li></ol>\n"
      ],
      "text/latex": [
       "\\begin{enumerate*}\n",
       "\\item 60894\n",
       "\\item 16\n",
       "\\end{enumerate*}\n"
      ],
      "text/markdown": [
       "1. 60894\n",
       "2. 16\n",
       "\n",
       "\n"
      ],
      "text/plain": [
       "[1] 60894    16"
      ]
     },
     "metadata": {},
     "output_type": "display_data"
    }
   ],
   "source": [
    "dim(cohort3hr)\n",
    "dim(cohort6hr)\n",
    "dim(cohort9hr)\n",
    "dim(cohort12hr)\n",
    "dim(cohort24hr)"
   ]
  },
  {
   "cell_type": "code",
   "execution_count": 8,
   "id": "99f1b5c9",
   "metadata": {},
   "outputs": [
    {
     "name": "stderr",
     "output_type": "stream",
     "text": [
      "Joining, by = c(\"anon_id\", \"pat_enc_csn_id_coded\", \"admit_time\", \"admit_label\", \"has_admit_label\", \"died_within_24hrs\", \"first_label\", \"first_label_minutes_since_admit\")\n",
      "\n",
      "Joining, by = c(\"anon_id\", \"pat_enc_csn_id_coded\", \"admit_time\", \"admit_label\", \"has_admit_label\", \"died_within_24hrs\", \"first_label\", \"first_label_minutes_since_admit\")\n",
      "\n",
      "Joining, by = c(\"anon_id\", \"pat_enc_csn_id_coded\", \"admit_time\", \"admit_label\", \"has_admit_label\", \"died_within_24hrs\", \"first_label\", \"first_label_minutes_since_admit\")\n",
      "\n",
      "Joining, by = c(\"anon_id\", \"pat_enc_csn_id_coded\", \"admit_time\", \"admit_label\", \"has_admit_label\", \"died_within_24hrs\", \"first_label\", \"first_label_minutes_since_admit\")\n",
      "\n"
     ]
    },
    {
     "data": {
      "text/html": [
       "<style>\n",
       ".list-inline {list-style: none; margin:0; padding: 0}\n",
       ".list-inline>li {display: inline-block}\n",
       ".list-inline>li:not(:last-child)::after {content: \"\\00b7\"; padding: 0 .5ex}\n",
       "</style>\n",
       "<ol class=list-inline><li>60648</li><li>48</li></ol>\n"
      ],
      "text/latex": [
       "\\begin{enumerate*}\n",
       "\\item 60648\n",
       "\\item 48\n",
       "\\end{enumerate*}\n"
      ],
      "text/markdown": [
       "1. 60648\n",
       "2. 48\n",
       "\n",
       "\n"
      ],
      "text/plain": [
       "[1] 60648    48"
      ]
     },
     "metadata": {},
     "output_type": "display_data"
    }
   ],
   "source": [
    "cohort_labels <- left_join(cohort3hr, cohort6hr) %>% left_join(cohort9hr) %>% left_join(cohort12hr) %>% left_join(cohort24hr)\n",
    "dim(cohort_labels)"
   ]
  },
  {
   "cell_type": "code",
   "execution_count": 9,
   "id": "db817850",
   "metadata": {},
   "outputs": [
    {
     "data": {
      "text/html": [
       "<table class=\"dataframe\">\n",
       "<caption>A tibble: 1 × 48</caption>\n",
       "<thead>\n",
       "\t<tr><th scope=col>anon_id</th><th scope=col>pat_enc_csn_id_coded</th><th scope=col>admit_time</th><th scope=col>label_max3</th><th scope=col>label_3hr_recent</th><th scope=col>admit_label</th><th scope=col>has_admit_label</th><th scope=col>died_within_24hrs</th><th scope=col>death_3hr_max_label</th><th scope=col>death_3hr_recent_label</th><th scope=col>first_label</th><th scope=col>first_label_minutes_since_admit</th><th scope=col>acute_to_critical_label_recent_3hr</th><th scope=col>critical_to_acute_label_recent_3hr</th><th scope=col>acute_to_critical_label_max_3hr</th><th scope=col>⋯</th><th scope=col>label_12hr_recent</th><th scope=col>death_12hr_max_label</th><th scope=col>death_12hr_recent_label</th><th scope=col>acute_to_critical_label_recent_12hr</th><th scope=col>critical_to_acute_label_recent_12hr</th><th scope=col>acute_to_critical_label_max_12hr</th><th scope=col>critical_to_acute_label_max_12hr</th><th scope=col>label_max24</th><th scope=col>label_24hr_recent</th><th scope=col>death_24hr_max_label</th><th scope=col>death_24hr_recent_label</th><th scope=col>acute_to_critical_label_recent_24hr</th><th scope=col>critical_to_acute_label_recent_24hr</th><th scope=col>acute_to_critical_label_max_24hr</th><th scope=col>critical_to_acute_label_max_24hr</th></tr>\n",
       "\t<tr><th scope=col>&lt;chr&gt;</th><th scope=col>&lt;dbl&gt;</th><th scope=col>&lt;dttm&gt;</th><th scope=col>&lt;dbl&gt;</th><th scope=col>&lt;dbl&gt;</th><th scope=col>&lt;dbl&gt;</th><th scope=col>&lt;dbl&gt;</th><th scope=col>&lt;dbl&gt;</th><th scope=col>&lt;dbl&gt;</th><th scope=col>&lt;dbl&gt;</th><th scope=col>&lt;dbl&gt;</th><th scope=col>&lt;dbl&gt;</th><th scope=col>&lt;dbl&gt;</th><th scope=col>&lt;dbl&gt;</th><th scope=col>&lt;dbl&gt;</th><th scope=col>⋯</th><th scope=col>&lt;dbl&gt;</th><th scope=col>&lt;dbl&gt;</th><th scope=col>&lt;dbl&gt;</th><th scope=col>&lt;dbl&gt;</th><th scope=col>&lt;dbl&gt;</th><th scope=col>&lt;dbl&gt;</th><th scope=col>&lt;dbl&gt;</th><th scope=col>&lt;dbl&gt;</th><th scope=col>&lt;dbl&gt;</th><th scope=col>&lt;dbl&gt;</th><th scope=col>&lt;dbl&gt;</th><th scope=col>&lt;dbl&gt;</th><th scope=col>&lt;dbl&gt;</th><th scope=col>&lt;dbl&gt;</th><th scope=col>&lt;dbl&gt;</th></tr>\n",
       "</thead>\n",
       "<tbody>\n",
       "\t<tr><td>JC1000116</td><td>131066472308</td><td>2015-01-28 00:46:00</td><td>0</td><td>0</td><td>0</td><td>1</td><td>0</td><td>0</td><td>0</td><td>0</td><td>0</td><td>0</td><td>0</td><td>0</td><td>⋯</td><td>0</td><td>0</td><td>0</td><td>0</td><td>0</td><td>0</td><td>0</td><td>0</td><td>0</td><td>0</td><td>0</td><td>0</td><td>0</td><td>0</td><td>0</td></tr>\n",
       "</tbody>\n",
       "</table>\n"
      ],
      "text/latex": [
       "A tibble: 1 × 48\n",
       "\\begin{tabular}{lllllllllllllllllllllllllllllll}\n",
       " anon\\_id & pat\\_enc\\_csn\\_id\\_coded & admit\\_time & label\\_max3 & label\\_3hr\\_recent & admit\\_label & has\\_admit\\_label & died\\_within\\_24hrs & death\\_3hr\\_max\\_label & death\\_3hr\\_recent\\_label & first\\_label & first\\_label\\_minutes\\_since\\_admit & acute\\_to\\_critical\\_label\\_recent\\_3hr & critical\\_to\\_acute\\_label\\_recent\\_3hr & acute\\_to\\_critical\\_label\\_max\\_3hr & ⋯ & label\\_12hr\\_recent & death\\_12hr\\_max\\_label & death\\_12hr\\_recent\\_label & acute\\_to\\_critical\\_label\\_recent\\_12hr & critical\\_to\\_acute\\_label\\_recent\\_12hr & acute\\_to\\_critical\\_label\\_max\\_12hr & critical\\_to\\_acute\\_label\\_max\\_12hr & label\\_max24 & label\\_24hr\\_recent & death\\_24hr\\_max\\_label & death\\_24hr\\_recent\\_label & acute\\_to\\_critical\\_label\\_recent\\_24hr & critical\\_to\\_acute\\_label\\_recent\\_24hr & acute\\_to\\_critical\\_label\\_max\\_24hr & critical\\_to\\_acute\\_label\\_max\\_24hr\\\\\n",
       " <chr> & <dbl> & <dttm> & <dbl> & <dbl> & <dbl> & <dbl> & <dbl> & <dbl> & <dbl> & <dbl> & <dbl> & <dbl> & <dbl> & <dbl> & ⋯ & <dbl> & <dbl> & <dbl> & <dbl> & <dbl> & <dbl> & <dbl> & <dbl> & <dbl> & <dbl> & <dbl> & <dbl> & <dbl> & <dbl> & <dbl>\\\\\n",
       "\\hline\n",
       "\t JC1000116 & 131066472308 & 2015-01-28 00:46:00 & 0 & 0 & 0 & 1 & 0 & 0 & 0 & 0 & 0 & 0 & 0 & 0 & ⋯ & 0 & 0 & 0 & 0 & 0 & 0 & 0 & 0 & 0 & 0 & 0 & 0 & 0 & 0 & 0\\\\\n",
       "\\end{tabular}\n"
      ],
      "text/markdown": [
       "\n",
       "A tibble: 1 × 48\n",
       "\n",
       "| anon_id &lt;chr&gt; | pat_enc_csn_id_coded &lt;dbl&gt; | admit_time &lt;dttm&gt; | label_max3 &lt;dbl&gt; | label_3hr_recent &lt;dbl&gt; | admit_label &lt;dbl&gt; | has_admit_label &lt;dbl&gt; | died_within_24hrs &lt;dbl&gt; | death_3hr_max_label &lt;dbl&gt; | death_3hr_recent_label &lt;dbl&gt; | first_label &lt;dbl&gt; | first_label_minutes_since_admit &lt;dbl&gt; | acute_to_critical_label_recent_3hr &lt;dbl&gt; | critical_to_acute_label_recent_3hr &lt;dbl&gt; | acute_to_critical_label_max_3hr &lt;dbl&gt; | ⋯ ⋯ | label_12hr_recent &lt;dbl&gt; | death_12hr_max_label &lt;dbl&gt; | death_12hr_recent_label &lt;dbl&gt; | acute_to_critical_label_recent_12hr &lt;dbl&gt; | critical_to_acute_label_recent_12hr &lt;dbl&gt; | acute_to_critical_label_max_12hr &lt;dbl&gt; | critical_to_acute_label_max_12hr &lt;dbl&gt; | label_max24 &lt;dbl&gt; | label_24hr_recent &lt;dbl&gt; | death_24hr_max_label &lt;dbl&gt; | death_24hr_recent_label &lt;dbl&gt; | acute_to_critical_label_recent_24hr &lt;dbl&gt; | critical_to_acute_label_recent_24hr &lt;dbl&gt; | acute_to_critical_label_max_24hr &lt;dbl&gt; | critical_to_acute_label_max_24hr &lt;dbl&gt; |\n",
       "|---|---|---|---|---|---|---|---|---|---|---|---|---|---|---|---|---|---|---|---|---|---|---|---|---|---|---|---|---|---|---|\n",
       "| JC1000116 | 131066472308 | 2015-01-28 00:46:00 | 0 | 0 | 0 | 1 | 0 | 0 | 0 | 0 | 0 | 0 | 0 | 0 | ⋯ | 0 | 0 | 0 | 0 | 0 | 0 | 0 | 0 | 0 | 0 | 0 | 0 | 0 | 0 | 0 |\n",
       "\n"
      ],
      "text/plain": [
       "  anon_id   pat_enc_csn_id_coded admit_time          label_max3\n",
       "1 JC1000116 131066472308         2015-01-28 00:46:00 0         \n",
       "  label_3hr_recent admit_label has_admit_label died_within_24hrs\n",
       "1 0                0           1               0                \n",
       "  death_3hr_max_label death_3hr_recent_label first_label\n",
       "1 0                   0                      0          \n",
       "  first_label_minutes_since_admit acute_to_critical_label_recent_3hr\n",
       "1 0                               0                                 \n",
       "  critical_to_acute_label_recent_3hr acute_to_critical_label_max_3hr ⋯\n",
       "1 0                                  0                               ⋯\n",
       "  label_12hr_recent death_12hr_max_label death_12hr_recent_label\n",
       "1 0                 0                    0                      \n",
       "  acute_to_critical_label_recent_12hr critical_to_acute_label_recent_12hr\n",
       "1 0                                   0                                  \n",
       "  acute_to_critical_label_max_12hr critical_to_acute_label_max_12hr label_max24\n",
       "1 0                                0                                0          \n",
       "  label_24hr_recent death_24hr_max_label death_24hr_recent_label\n",
       "1 0                 0                    0                      \n",
       "  acute_to_critical_label_recent_24hr critical_to_acute_label_recent_24hr\n",
       "1 0                                   0                                  \n",
       "  acute_to_critical_label_max_24hr critical_to_acute_label_max_24hr\n",
       "1 0                                0                               "
      ]
     },
     "metadata": {},
     "output_type": "display_data"
    },
    {
     "data": {
      "text/html": [
       "<style>\n",
       ".list-inline {list-style: none; margin:0; padding: 0}\n",
       ".list-inline>li {display: inline-block}\n",
       ".list-inline>li:not(:last-child)::after {content: \"\\00b7\"; padding: 0 .5ex}\n",
       "</style>\n",
       "<ol class=list-inline><li>'anon_id'</li><li>'pat_enc_csn_id_coded'</li><li>'admit_time'</li><li>'label_max3'</li><li>'label_3hr_recent'</li><li>'admit_label'</li><li>'has_admit_label'</li><li>'died_within_24hrs'</li><li>'death_3hr_max_label'</li><li>'death_3hr_recent_label'</li><li>'first_label'</li><li>'first_label_minutes_since_admit'</li><li>'acute_to_critical_label_recent_3hr'</li><li>'critical_to_acute_label_recent_3hr'</li><li>'acute_to_critical_label_max_3hr'</li><li>'critical_to_acute_label_max_3hr'</li><li>'label_max6'</li><li>'label_6hr_recent'</li><li>'death_6hr_max_label'</li><li>'death_6hr_recent_label'</li><li>'acute_to_critical_label_recent_6hr'</li><li>'critical_to_acute_label_recent_6hr'</li><li>'acute_to_critical_label_max_6hr'</li><li>'critical_to_acute_label_max_6hr'</li><li>'label_max9'</li><li>'label_9hr_recent'</li><li>'death_9hr_max_label'</li><li>'death_9hr_recent_label'</li><li>'acute_to_critical_label_recent_9hr'</li><li>'critical_to_acute_label_recent_9hr'</li><li>'acute_to_critical_label_max_9hr'</li><li>'critical_to_acute_label_max_9hr'</li><li>'label_max12'</li><li>'label_12hr_recent'</li><li>'death_12hr_max_label'</li><li>'death_12hr_recent_label'</li><li>'acute_to_critical_label_recent_12hr'</li><li>'critical_to_acute_label_recent_12hr'</li><li>'acute_to_critical_label_max_12hr'</li><li>'critical_to_acute_label_max_12hr'</li><li>'label_max24'</li><li>'label_24hr_recent'</li><li>'death_24hr_max_label'</li><li>'death_24hr_recent_label'</li><li>'acute_to_critical_label_recent_24hr'</li><li>'critical_to_acute_label_recent_24hr'</li><li>'acute_to_critical_label_max_24hr'</li><li>'critical_to_acute_label_max_24hr'</li></ol>\n"
      ],
      "text/latex": [
       "\\begin{enumerate*}\n",
       "\\item 'anon\\_id'\n",
       "\\item 'pat\\_enc\\_csn\\_id\\_coded'\n",
       "\\item 'admit\\_time'\n",
       "\\item 'label\\_max3'\n",
       "\\item 'label\\_3hr\\_recent'\n",
       "\\item 'admit\\_label'\n",
       "\\item 'has\\_admit\\_label'\n",
       "\\item 'died\\_within\\_24hrs'\n",
       "\\item 'death\\_3hr\\_max\\_label'\n",
       "\\item 'death\\_3hr\\_recent\\_label'\n",
       "\\item 'first\\_label'\n",
       "\\item 'first\\_label\\_minutes\\_since\\_admit'\n",
       "\\item 'acute\\_to\\_critical\\_label\\_recent\\_3hr'\n",
       "\\item 'critical\\_to\\_acute\\_label\\_recent\\_3hr'\n",
       "\\item 'acute\\_to\\_critical\\_label\\_max\\_3hr'\n",
       "\\item 'critical\\_to\\_acute\\_label\\_max\\_3hr'\n",
       "\\item 'label\\_max6'\n",
       "\\item 'label\\_6hr\\_recent'\n",
       "\\item 'death\\_6hr\\_max\\_label'\n",
       "\\item 'death\\_6hr\\_recent\\_label'\n",
       "\\item 'acute\\_to\\_critical\\_label\\_recent\\_6hr'\n",
       "\\item 'critical\\_to\\_acute\\_label\\_recent\\_6hr'\n",
       "\\item 'acute\\_to\\_critical\\_label\\_max\\_6hr'\n",
       "\\item 'critical\\_to\\_acute\\_label\\_max\\_6hr'\n",
       "\\item 'label\\_max9'\n",
       "\\item 'label\\_9hr\\_recent'\n",
       "\\item 'death\\_9hr\\_max\\_label'\n",
       "\\item 'death\\_9hr\\_recent\\_label'\n",
       "\\item 'acute\\_to\\_critical\\_label\\_recent\\_9hr'\n",
       "\\item 'critical\\_to\\_acute\\_label\\_recent\\_9hr'\n",
       "\\item 'acute\\_to\\_critical\\_label\\_max\\_9hr'\n",
       "\\item 'critical\\_to\\_acute\\_label\\_max\\_9hr'\n",
       "\\item 'label\\_max12'\n",
       "\\item 'label\\_12hr\\_recent'\n",
       "\\item 'death\\_12hr\\_max\\_label'\n",
       "\\item 'death\\_12hr\\_recent\\_label'\n",
       "\\item 'acute\\_to\\_critical\\_label\\_recent\\_12hr'\n",
       "\\item 'critical\\_to\\_acute\\_label\\_recent\\_12hr'\n",
       "\\item 'acute\\_to\\_critical\\_label\\_max\\_12hr'\n",
       "\\item 'critical\\_to\\_acute\\_label\\_max\\_12hr'\n",
       "\\item 'label\\_max24'\n",
       "\\item 'label\\_24hr\\_recent'\n",
       "\\item 'death\\_24hr\\_max\\_label'\n",
       "\\item 'death\\_24hr\\_recent\\_label'\n",
       "\\item 'acute\\_to\\_critical\\_label\\_recent\\_24hr'\n",
       "\\item 'critical\\_to\\_acute\\_label\\_recent\\_24hr'\n",
       "\\item 'acute\\_to\\_critical\\_label\\_max\\_24hr'\n",
       "\\item 'critical\\_to\\_acute\\_label\\_max\\_24hr'\n",
       "\\end{enumerate*}\n"
      ],
      "text/markdown": [
       "1. 'anon_id'\n",
       "2. 'pat_enc_csn_id_coded'\n",
       "3. 'admit_time'\n",
       "4. 'label_max3'\n",
       "5. 'label_3hr_recent'\n",
       "6. 'admit_label'\n",
       "7. 'has_admit_label'\n",
       "8. 'died_within_24hrs'\n",
       "9. 'death_3hr_max_label'\n",
       "10. 'death_3hr_recent_label'\n",
       "11. 'first_label'\n",
       "12. 'first_label_minutes_since_admit'\n",
       "13. 'acute_to_critical_label_recent_3hr'\n",
       "14. 'critical_to_acute_label_recent_3hr'\n",
       "15. 'acute_to_critical_label_max_3hr'\n",
       "16. 'critical_to_acute_label_max_3hr'\n",
       "17. 'label_max6'\n",
       "18. 'label_6hr_recent'\n",
       "19. 'death_6hr_max_label'\n",
       "20. 'death_6hr_recent_label'\n",
       "21. 'acute_to_critical_label_recent_6hr'\n",
       "22. 'critical_to_acute_label_recent_6hr'\n",
       "23. 'acute_to_critical_label_max_6hr'\n",
       "24. 'critical_to_acute_label_max_6hr'\n",
       "25. 'label_max9'\n",
       "26. 'label_9hr_recent'\n",
       "27. 'death_9hr_max_label'\n",
       "28. 'death_9hr_recent_label'\n",
       "29. 'acute_to_critical_label_recent_9hr'\n",
       "30. 'critical_to_acute_label_recent_9hr'\n",
       "31. 'acute_to_critical_label_max_9hr'\n",
       "32. 'critical_to_acute_label_max_9hr'\n",
       "33. 'label_max12'\n",
       "34. 'label_12hr_recent'\n",
       "35. 'death_12hr_max_label'\n",
       "36. 'death_12hr_recent_label'\n",
       "37. 'acute_to_critical_label_recent_12hr'\n",
       "38. 'critical_to_acute_label_recent_12hr'\n",
       "39. 'acute_to_critical_label_max_12hr'\n",
       "40. 'critical_to_acute_label_max_12hr'\n",
       "41. 'label_max24'\n",
       "42. 'label_24hr_recent'\n",
       "43. 'death_24hr_max_label'\n",
       "44. 'death_24hr_recent_label'\n",
       "45. 'acute_to_critical_label_recent_24hr'\n",
       "46. 'critical_to_acute_label_recent_24hr'\n",
       "47. 'acute_to_critical_label_max_24hr'\n",
       "48. 'critical_to_acute_label_max_24hr'\n",
       "\n",
       "\n"
      ],
      "text/plain": [
       " [1] \"anon_id\"                             \"pat_enc_csn_id_coded\"               \n",
       " [3] \"admit_time\"                          \"label_max3\"                         \n",
       " [5] \"label_3hr_recent\"                    \"admit_label\"                        \n",
       " [7] \"has_admit_label\"                     \"died_within_24hrs\"                  \n",
       " [9] \"death_3hr_max_label\"                 \"death_3hr_recent_label\"             \n",
       "[11] \"first_label\"                         \"first_label_minutes_since_admit\"    \n",
       "[13] \"acute_to_critical_label_recent_3hr\"  \"critical_to_acute_label_recent_3hr\" \n",
       "[15] \"acute_to_critical_label_max_3hr\"     \"critical_to_acute_label_max_3hr\"    \n",
       "[17] \"label_max6\"                          \"label_6hr_recent\"                   \n",
       "[19] \"death_6hr_max_label\"                 \"death_6hr_recent_label\"             \n",
       "[21] \"acute_to_critical_label_recent_6hr\"  \"critical_to_acute_label_recent_6hr\" \n",
       "[23] \"acute_to_critical_label_max_6hr\"     \"critical_to_acute_label_max_6hr\"    \n",
       "[25] \"label_max9\"                          \"label_9hr_recent\"                   \n",
       "[27] \"death_9hr_max_label\"                 \"death_9hr_recent_label\"             \n",
       "[29] \"acute_to_critical_label_recent_9hr\"  \"critical_to_acute_label_recent_9hr\" \n",
       "[31] \"acute_to_critical_label_max_9hr\"     \"critical_to_acute_label_max_9hr\"    \n",
       "[33] \"label_max12\"                         \"label_12hr_recent\"                  \n",
       "[35] \"death_12hr_max_label\"                \"death_12hr_recent_label\"            \n",
       "[37] \"acute_to_critical_label_recent_12hr\" \"critical_to_acute_label_recent_12hr\"\n",
       "[39] \"acute_to_critical_label_max_12hr\"    \"critical_to_acute_label_max_12hr\"   \n",
       "[41] \"label_max24\"                         \"label_24hr_recent\"                  \n",
       "[43] \"death_24hr_max_label\"                \"death_24hr_recent_label\"            \n",
       "[45] \"acute_to_critical_label_recent_24hr\" \"critical_to_acute_label_recent_24hr\"\n",
       "[47] \"acute_to_critical_label_max_24hr\"    \"critical_to_acute_label_max_24hr\"   "
      ]
     },
     "metadata": {},
     "output_type": "display_data"
    }
   ],
   "source": [
    "head(cohort_labels, 1)\n",
    "colnames(cohort_labels)"
   ]
  },
  {
   "cell_type": "code",
   "execution_count": 34,
   "id": "28c04e5e",
   "metadata": {},
   "outputs": [],
   "source": [
    "# cohort has labels within the first 3 hours\n",
    "write.csv(cohort_labels, file = file.path(outdir, \"7_cohort4_labels.csv\"), row.names=FALSE) "
   ]
  },
  {
   "cell_type": "markdown",
   "id": "d45143b9",
   "metadata": {},
   "source": [
    "# Use this 7_cohort4_labels to query diagnosis, department, and treatment team"
   ]
  },
  {
   "cell_type": "markdown",
   "id": "ce134049",
   "metadata": {},
   "source": [
    "### Get a cohort_op: \n",
    "\n",
    "Remove surg patients \n",
    "\n",
    "Those who had a OR related department_id within 24hrs since admission or prior to admission within the same visit \n",
    "pull up the departments names for our cohort before time 24\n",
    "\n",
    "Those have dept_name contains within 24 hours of inpatient admission\n",
    "\n",
    "\"PRE-OP\", \"INTRA-OP\", \"PACU\", \"MAIN OPERATING ROOM\", \"SURGERY\", \"CARDIAC CATH LAB\" from shc_core_2021"
   ]
  },
  {
   "cell_type": "code",
   "execution_count": 35,
   "id": "cee4b051",
   "metadata": {},
   "outputs": [
    {
     "name": "stderr",
     "output_type": "stream",
     "text": [
      "\n",
      "\u001b[36m──\u001b[39m \u001b[1m\u001b[1mColumn specification\u001b[1m\u001b[22m \u001b[36m────────────────────────────────────────────────────────\u001b[39m\n",
      "cols(\n",
      "  dept_id = \u001b[32mcol_double()\u001b[39m,\n",
      "  dept_name = \u001b[31mcol_character()\u001b[39m\n",
      ")\n",
      "\n",
      "\n"
     ]
    },
    {
     "data": {
      "text/html": [
       "1171180"
      ],
      "text/latex": [
       "1171180"
      ],
      "text/markdown": [
       "1171180"
      ],
      "text/plain": [
       "[1] 1171180"
      ]
     },
     "metadata": {},
     "output_type": "display_data"
    }
   ],
   "source": [
    "dept <- read_csv(file.path(datadir, \"dept_2021.csv\")) \n",
    "nrow(dept) #1171180"
   ]
  },
  {
   "cell_type": "code",
   "execution_count": 11,
   "id": "6f32f135",
   "metadata": {},
   "outputs": [
    {
     "name": "stderr",
     "output_type": "stream",
     "text": [
      "\n",
      "\u001b[36m──\u001b[39m \u001b[1m\u001b[1mColumn specification\u001b[1m\u001b[22m \u001b[36m────────────────────────────────────────────────────────\u001b[39m\n",
      "cols(\n",
      "  anon_id = \u001b[31mcol_character()\u001b[39m,\n",
      "  pat_enc_csn_id_coded = \u001b[32mcol_double()\u001b[39m,\n",
      "  effective_time_jittered_utc = \u001b[34mcol_datetime(format = \"\")\u001b[39m,\n",
      "  seq_num_in_enc = \u001b[32mcol_double()\u001b[39m,\n",
      "  pat_class = \u001b[31mcol_character()\u001b[39m,\n",
      "  base_pat_class_c = \u001b[32mcol_double()\u001b[39m,\n",
      "  pat_lvl_of_care_c = \u001b[32mcol_double()\u001b[39m,\n",
      "  pat_lv_of_care = \u001b[31mcol_character()\u001b[39m,\n",
      "  event_type = \u001b[31mcol_character()\u001b[39m,\n",
      "  pat_service = \u001b[31mcol_character()\u001b[39m,\n",
      "  department_id = \u001b[32mcol_double()\u001b[39m\n",
      ")\n",
      "\n",
      "\n"
     ]
    },
    {
     "data": {
      "text/html": [
       "<style>\n",
       ".list-inline {list-style: none; margin:0; padding: 0}\n",
       ".list-inline>li {display: inline-block}\n",
       ".list-inline>li:not(:last-child)::after {content: \"\\00b7\"; padding: 0 .5ex}\n",
       "</style>\n",
       "<ol class=list-inline><li>1181264</li><li>11</li></ol>\n"
      ],
      "text/latex": [
       "\\begin{enumerate*}\n",
       "\\item 1181264\n",
       "\\item 11\n",
       "\\end{enumerate*}\n"
      ],
      "text/markdown": [
       "1. 1181264\n",
       "2. 11\n",
       "\n",
       "\n"
      ],
      "text/plain": [
       "[1] 1181264      11"
      ]
     },
     "metadata": {},
     "output_type": "display_data"
    }
   ],
   "source": [
    "adt <- read_csv(\"../../DataTD/shc2021/cohort3_adt_2021.csv\")\n",
    "dim(adt)"
   ]
  },
  {
   "cell_type": "code",
   "execution_count": 36,
   "id": "64f8bbb1",
   "metadata": {},
   "outputs": [
    {
     "data": {
      "text/html": [
       "<table class=\"dataframe\">\n",
       "<caption>A tibble: 1 × 11</caption>\n",
       "<thead>\n",
       "\t<tr><th scope=col>anon_id</th><th scope=col>pat_enc_csn_id_coded</th><th scope=col>effective_time_jittered_utc</th><th scope=col>seq_num_in_enc</th><th scope=col>pat_class</th><th scope=col>base_pat_class_c</th><th scope=col>pat_lvl_of_care_c</th><th scope=col>pat_lv_of_care</th><th scope=col>event_type</th><th scope=col>pat_service</th><th scope=col>department_id</th></tr>\n",
       "\t<tr><th scope=col>&lt;chr&gt;</th><th scope=col>&lt;dbl&gt;</th><th scope=col>&lt;dttm&gt;</th><th scope=col>&lt;dbl&gt;</th><th scope=col>&lt;chr&gt;</th><th scope=col>&lt;dbl&gt;</th><th scope=col>&lt;dbl&gt;</th><th scope=col>&lt;chr&gt;</th><th scope=col>&lt;chr&gt;</th><th scope=col>&lt;chr&gt;</th><th scope=col>&lt;dbl&gt;</th></tr>\n",
       "</thead>\n",
       "<tbody>\n",
       "\t<tr><td>JC681028</td><td>1.31313e+11</td><td>2021-08-06 06:41:00</td><td>49</td><td>Inpatient</td><td>NA</td><td>8</td><td>Critical Care</td><td>Patient Update</td><td>Pulmonary</td><td>120201006</td></tr>\n",
       "</tbody>\n",
       "</table>\n"
      ],
      "text/latex": [
       "A tibble: 1 × 11\n",
       "\\begin{tabular}{lllllllllll}\n",
       " anon\\_id & pat\\_enc\\_csn\\_id\\_coded & effective\\_time\\_jittered\\_utc & seq\\_num\\_in\\_enc & pat\\_class & base\\_pat\\_class\\_c & pat\\_lvl\\_of\\_care\\_c & pat\\_lv\\_of\\_care & event\\_type & pat\\_service & department\\_id\\\\\n",
       " <chr> & <dbl> & <dttm> & <dbl> & <chr> & <dbl> & <dbl> & <chr> & <chr> & <chr> & <dbl>\\\\\n",
       "\\hline\n",
       "\t JC681028 & 1.31313e+11 & 2021-08-06 06:41:00 & 49 & Inpatient & NA & 8 & Critical Care & Patient Update & Pulmonary & 120201006\\\\\n",
       "\\end{tabular}\n"
      ],
      "text/markdown": [
       "\n",
       "A tibble: 1 × 11\n",
       "\n",
       "| anon_id &lt;chr&gt; | pat_enc_csn_id_coded &lt;dbl&gt; | effective_time_jittered_utc &lt;dttm&gt; | seq_num_in_enc &lt;dbl&gt; | pat_class &lt;chr&gt; | base_pat_class_c &lt;dbl&gt; | pat_lvl_of_care_c &lt;dbl&gt; | pat_lv_of_care &lt;chr&gt; | event_type &lt;chr&gt; | pat_service &lt;chr&gt; | department_id &lt;dbl&gt; |\n",
       "|---|---|---|---|---|---|---|---|---|---|---|\n",
       "| JC681028 | 1.31313e+11 | 2021-08-06 06:41:00 | 49 | Inpatient | NA | 8 | Critical Care | Patient Update | Pulmonary | 120201006 |\n",
       "\n"
      ],
      "text/plain": [
       "  anon_id  pat_enc_csn_id_coded effective_time_jittered_utc seq_num_in_enc\n",
       "1 JC681028 1.31313e+11          2021-08-06 06:41:00         49            \n",
       "  pat_class base_pat_class_c pat_lvl_of_care_c pat_lv_of_care event_type    \n",
       "1 Inpatient NA               8                 Critical Care  Patient Update\n",
       "  pat_service department_id\n",
       "1 Pulmonary   120201006    "
      ]
     },
     "metadata": {},
     "output_type": "display_data"
    },
    {
     "data": {
      "text/html": [
       "<table class=\"dataframe\">\n",
       "<caption>A tibble: 1 × 2</caption>\n",
       "<thead>\n",
       "\t<tr><th scope=col>dept_id</th><th scope=col>dept_name</th></tr>\n",
       "\t<tr><th scope=col>&lt;dbl&gt;</th><th scope=col>&lt;chr&gt;</th></tr>\n",
       "</thead>\n",
       "<tbody>\n",
       "\t<tr><td>110100017</td><td>M7</td></tr>\n",
       "</tbody>\n",
       "</table>\n"
      ],
      "text/latex": [
       "A tibble: 1 × 2\n",
       "\\begin{tabular}{ll}\n",
       " dept\\_id & dept\\_name\\\\\n",
       " <dbl> & <chr>\\\\\n",
       "\\hline\n",
       "\t 110100017 & M7\\\\\n",
       "\\end{tabular}\n"
      ],
      "text/markdown": [
       "\n",
       "A tibble: 1 × 2\n",
       "\n",
       "| dept_id &lt;dbl&gt; | dept_name &lt;chr&gt; |\n",
       "|---|---|\n",
       "| 110100017 | M7 |\n",
       "\n"
      ],
      "text/plain": [
       "  dept_id   dept_name\n",
       "1 110100017 M7       "
      ]
     },
     "metadata": {},
     "output_type": "display_data"
    }
   ],
   "source": [
    "head(adt, 1)\n",
    "head(dept, 1)"
   ]
  },
  {
   "cell_type": "code",
   "execution_count": 37,
   "id": "188ae4ef",
   "metadata": {},
   "outputs": [
    {
     "data": {
      "text/html": [
       "<table class=\"dataframe\">\n",
       "<caption>A tibble: 25 × 2</caption>\n",
       "<thead>\n",
       "\t<tr><th scope=col>dept_id</th><th scope=col>dept_name</th></tr>\n",
       "\t<tr><th scope=col>&lt;dbl&gt;</th><th scope=col>&lt;chr&gt;</th></tr>\n",
       "</thead>\n",
       "<tbody>\n",
       "\t<tr><td>120201070</td><td>VCP CATH INTRA-OP        </td></tr>\n",
       "\t<tr><td>120201061</td><td>VCP INTRA-OP             </td></tr>\n",
       "\t<tr><td>120201028</td><td>VCP CARDIAC CATH LAB     </td></tr>\n",
       "\t<tr><td>120201023</td><td>VCP PRE-OP/DAY CARE      </td></tr>\n",
       "\t<tr><td>120201022</td><td>VCP PACU - RECOVERY ROOM </td></tr>\n",
       "\t<tr><td>120201021</td><td>VCP SURGERY              </td></tr>\n",
       "\t<tr><td>117301008</td><td>CATH AMC PACU            </td></tr>\n",
       "\t<tr><td>117301007</td><td>CATH AMC PRE-OP          </td></tr>\n",
       "\t<tr><td>  7301010</td><td>CATH AMC INTRA-OP        </td></tr>\n",
       "\t<tr><td>  7301008</td><td>ZZCATH ASC PACU          </td></tr>\n",
       "\t<tr><td>  7301007</td><td>ZZCATH ASC PRE-OP        </td></tr>\n",
       "\t<tr><td>  7301003</td><td>CATH PACU                </td></tr>\n",
       "\t<tr><td>  7301002</td><td>CATH INTRA-OP            </td></tr>\n",
       "\t<tr><td>  7301001</td><td>CATH PRE-OP              </td></tr>\n",
       "\t<tr><td>  7101003</td><td>ASC PACU                 </td></tr>\n",
       "\t<tr><td>  7101002</td><td>ASC INTRA-OP             </td></tr>\n",
       "\t<tr><td>  7101001</td><td>ASC PRE-OP               </td></tr>\n",
       "\t<tr><td>  7101000</td><td>AMBULATORY SURGERY CENTER</td></tr>\n",
       "\t<tr><td>  7001003</td><td>MOR PACU                 </td></tr>\n",
       "\t<tr><td>  7001002</td><td>MOR INTRA-OP             </td></tr>\n",
       "\t<tr><td>  7001001</td><td>MOR PRE-OP               </td></tr>\n",
       "\t<tr><td>  7001000</td><td>MAIN OPERATING ROOM      </td></tr>\n",
       "\t<tr><td>  6001003</td><td>500P PACU                </td></tr>\n",
       "\t<tr><td>  6001002</td><td>500P INTRA-OP            </td></tr>\n",
       "\t<tr><td>  6001001</td><td>500P PRE-OP              </td></tr>\n",
       "</tbody>\n",
       "</table>\n"
      ],
      "text/latex": [
       "A tibble: 25 × 2\n",
       "\\begin{tabular}{ll}\n",
       " dept\\_id & dept\\_name\\\\\n",
       " <dbl> & <chr>\\\\\n",
       "\\hline\n",
       "\t 120201070 & VCP CATH INTRA-OP        \\\\\n",
       "\t 120201061 & VCP INTRA-OP             \\\\\n",
       "\t 120201028 & VCP CARDIAC CATH LAB     \\\\\n",
       "\t 120201023 & VCP PRE-OP/DAY CARE      \\\\\n",
       "\t 120201022 & VCP PACU - RECOVERY ROOM \\\\\n",
       "\t 120201021 & VCP SURGERY              \\\\\n",
       "\t 117301008 & CATH AMC PACU            \\\\\n",
       "\t 117301007 & CATH AMC PRE-OP          \\\\\n",
       "\t   7301010 & CATH AMC INTRA-OP        \\\\\n",
       "\t   7301008 & ZZCATH ASC PACU          \\\\\n",
       "\t   7301007 & ZZCATH ASC PRE-OP        \\\\\n",
       "\t   7301003 & CATH PACU                \\\\\n",
       "\t   7301002 & CATH INTRA-OP            \\\\\n",
       "\t   7301001 & CATH PRE-OP              \\\\\n",
       "\t   7101003 & ASC PACU                 \\\\\n",
       "\t   7101002 & ASC INTRA-OP             \\\\\n",
       "\t   7101001 & ASC PRE-OP               \\\\\n",
       "\t   7101000 & AMBULATORY SURGERY CENTER\\\\\n",
       "\t   7001003 & MOR PACU                 \\\\\n",
       "\t   7001002 & MOR INTRA-OP             \\\\\n",
       "\t   7001001 & MOR PRE-OP               \\\\\n",
       "\t   7001000 & MAIN OPERATING ROOM      \\\\\n",
       "\t   6001003 & 500P PACU                \\\\\n",
       "\t   6001002 & 500P INTRA-OP            \\\\\n",
       "\t   6001001 & 500P PRE-OP              \\\\\n",
       "\\end{tabular}\n"
      ],
      "text/markdown": [
       "\n",
       "A tibble: 25 × 2\n",
       "\n",
       "| dept_id &lt;dbl&gt; | dept_name &lt;chr&gt; |\n",
       "|---|---|\n",
       "| 120201070 | VCP CATH INTRA-OP         |\n",
       "| 120201061 | VCP INTRA-OP              |\n",
       "| 120201028 | VCP CARDIAC CATH LAB      |\n",
       "| 120201023 | VCP PRE-OP/DAY CARE       |\n",
       "| 120201022 | VCP PACU - RECOVERY ROOM  |\n",
       "| 120201021 | VCP SURGERY               |\n",
       "| 117301008 | CATH AMC PACU             |\n",
       "| 117301007 | CATH AMC PRE-OP           |\n",
       "|   7301010 | CATH AMC INTRA-OP         |\n",
       "|   7301008 | ZZCATH ASC PACU           |\n",
       "|   7301007 | ZZCATH ASC PRE-OP         |\n",
       "|   7301003 | CATH PACU                 |\n",
       "|   7301002 | CATH INTRA-OP             |\n",
       "|   7301001 | CATH PRE-OP               |\n",
       "|   7101003 | ASC PACU                  |\n",
       "|   7101002 | ASC INTRA-OP              |\n",
       "|   7101001 | ASC PRE-OP                |\n",
       "|   7101000 | AMBULATORY SURGERY CENTER |\n",
       "|   7001003 | MOR PACU                  |\n",
       "|   7001002 | MOR INTRA-OP              |\n",
       "|   7001001 | MOR PRE-OP                |\n",
       "|   7001000 | MAIN OPERATING ROOM       |\n",
       "|   6001003 | 500P PACU                 |\n",
       "|   6001002 | 500P INTRA-OP             |\n",
       "|   6001001 | 500P PRE-OP               |\n",
       "\n"
      ],
      "text/plain": [
       "   dept_id   dept_name                \n",
       "1  120201070 VCP CATH INTRA-OP        \n",
       "2  120201061 VCP INTRA-OP             \n",
       "3  120201028 VCP CARDIAC CATH LAB     \n",
       "4  120201023 VCP PRE-OP/DAY CARE      \n",
       "5  120201022 VCP PACU - RECOVERY ROOM \n",
       "6  120201021 VCP SURGERY              \n",
       "7  117301008 CATH AMC PACU            \n",
       "8  117301007 CATH AMC PRE-OP          \n",
       "9    7301010 CATH AMC INTRA-OP        \n",
       "10   7301008 ZZCATH ASC PACU          \n",
       "11   7301007 ZZCATH ASC PRE-OP        \n",
       "12   7301003 CATH PACU                \n",
       "13   7301002 CATH INTRA-OP            \n",
       "14   7301001 CATH PRE-OP              \n",
       "15   7101003 ASC PACU                 \n",
       "16   7101002 ASC INTRA-OP             \n",
       "17   7101001 ASC PRE-OP               \n",
       "18   7101000 AMBULATORY SURGERY CENTER\n",
       "19   7001003 MOR PACU                 \n",
       "20   7001002 MOR INTRA-OP             \n",
       "21   7001001 MOR PRE-OP               \n",
       "22   7001000 MAIN OPERATING ROOM      \n",
       "23   6001003 500P PACU                \n",
       "24   6001002 500P INTRA-OP            \n",
       "25   6001001 500P PRE-OP              "
      ]
     },
     "metadata": {},
     "output_type": "display_data"
    },
    {
     "data": {
      "text/html": [
       "<table class=\"dataframe\">\n",
       "<caption>A tibble: 25 × 2</caption>\n",
       "<thead>\n",
       "\t<tr><th scope=col>dept_id</th><th scope=col>dept_name</th></tr>\n",
       "\t<tr><th scope=col>&lt;dbl&gt;</th><th scope=col>&lt;chr&gt;</th></tr>\n",
       "</thead>\n",
       "<tbody>\n",
       "\t<tr><td>120201070</td><td>VCP CATH INTRA-OP        </td></tr>\n",
       "\t<tr><td>120201061</td><td>VCP INTRA-OP             </td></tr>\n",
       "\t<tr><td>120201028</td><td>VCP CARDIAC CATH LAB     </td></tr>\n",
       "\t<tr><td>120201023</td><td>VCP PRE-OP/DAY CARE      </td></tr>\n",
       "\t<tr><td>120201022</td><td>VCP PACU - RECOVERY ROOM </td></tr>\n",
       "\t<tr><td>120201021</td><td>VCP SURGERY              </td></tr>\n",
       "\t<tr><td>117301008</td><td>CATH AMC PACU            </td></tr>\n",
       "\t<tr><td>117301007</td><td>CATH AMC PRE-OP          </td></tr>\n",
       "\t<tr><td>  7301010</td><td>CATH AMC INTRA-OP        </td></tr>\n",
       "\t<tr><td>  7301008</td><td>ZZCATH ASC PACU          </td></tr>\n",
       "\t<tr><td>  7301007</td><td>ZZCATH ASC PRE-OP        </td></tr>\n",
       "\t<tr><td>  7301003</td><td>CATH PACU                </td></tr>\n",
       "\t<tr><td>  7301002</td><td>CATH INTRA-OP            </td></tr>\n",
       "\t<tr><td>  7301001</td><td>CATH PRE-OP              </td></tr>\n",
       "\t<tr><td>  7101003</td><td>ASC PACU                 </td></tr>\n",
       "\t<tr><td>  7101002</td><td>ASC INTRA-OP             </td></tr>\n",
       "\t<tr><td>  7101001</td><td>ASC PRE-OP               </td></tr>\n",
       "\t<tr><td>  7101000</td><td>AMBULATORY SURGERY CENTER</td></tr>\n",
       "\t<tr><td>  7001003</td><td>MOR PACU                 </td></tr>\n",
       "\t<tr><td>  7001002</td><td>MOR INTRA-OP             </td></tr>\n",
       "\t<tr><td>  7001001</td><td>MOR PRE-OP               </td></tr>\n",
       "\t<tr><td>  7001000</td><td>MAIN OPERATING ROOM      </td></tr>\n",
       "\t<tr><td>  6001003</td><td>500P PACU                </td></tr>\n",
       "\t<tr><td>  6001002</td><td>500P INTRA-OP            </td></tr>\n",
       "\t<tr><td>  6001001</td><td>500P PRE-OP              </td></tr>\n",
       "</tbody>\n",
       "</table>\n"
      ],
      "text/latex": [
       "A tibble: 25 × 2\n",
       "\\begin{tabular}{ll}\n",
       " dept\\_id & dept\\_name\\\\\n",
       " <dbl> & <chr>\\\\\n",
       "\\hline\n",
       "\t 120201070 & VCP CATH INTRA-OP        \\\\\n",
       "\t 120201061 & VCP INTRA-OP             \\\\\n",
       "\t 120201028 & VCP CARDIAC CATH LAB     \\\\\n",
       "\t 120201023 & VCP PRE-OP/DAY CARE      \\\\\n",
       "\t 120201022 & VCP PACU - RECOVERY ROOM \\\\\n",
       "\t 120201021 & VCP SURGERY              \\\\\n",
       "\t 117301008 & CATH AMC PACU            \\\\\n",
       "\t 117301007 & CATH AMC PRE-OP          \\\\\n",
       "\t   7301010 & CATH AMC INTRA-OP        \\\\\n",
       "\t   7301008 & ZZCATH ASC PACU          \\\\\n",
       "\t   7301007 & ZZCATH ASC PRE-OP        \\\\\n",
       "\t   7301003 & CATH PACU                \\\\\n",
       "\t   7301002 & CATH INTRA-OP            \\\\\n",
       "\t   7301001 & CATH PRE-OP              \\\\\n",
       "\t   7101003 & ASC PACU                 \\\\\n",
       "\t   7101002 & ASC INTRA-OP             \\\\\n",
       "\t   7101001 & ASC PRE-OP               \\\\\n",
       "\t   7101000 & AMBULATORY SURGERY CENTER\\\\\n",
       "\t   7001003 & MOR PACU                 \\\\\n",
       "\t   7001002 & MOR INTRA-OP             \\\\\n",
       "\t   7001001 & MOR PRE-OP               \\\\\n",
       "\t   7001000 & MAIN OPERATING ROOM      \\\\\n",
       "\t   6001003 & 500P PACU                \\\\\n",
       "\t   6001002 & 500P INTRA-OP            \\\\\n",
       "\t   6001001 & 500P PRE-OP              \\\\\n",
       "\\end{tabular}\n"
      ],
      "text/markdown": [
       "\n",
       "A tibble: 25 × 2\n",
       "\n",
       "| dept_id &lt;dbl&gt; | dept_name &lt;chr&gt; |\n",
       "|---|---|\n",
       "| 120201070 | VCP CATH INTRA-OP         |\n",
       "| 120201061 | VCP INTRA-OP              |\n",
       "| 120201028 | VCP CARDIAC CATH LAB      |\n",
       "| 120201023 | VCP PRE-OP/DAY CARE       |\n",
       "| 120201022 | VCP PACU - RECOVERY ROOM  |\n",
       "| 120201021 | VCP SURGERY               |\n",
       "| 117301008 | CATH AMC PACU             |\n",
       "| 117301007 | CATH AMC PRE-OP           |\n",
       "|   7301010 | CATH AMC INTRA-OP         |\n",
       "|   7301008 | ZZCATH ASC PACU           |\n",
       "|   7301007 | ZZCATH ASC PRE-OP         |\n",
       "|   7301003 | CATH PACU                 |\n",
       "|   7301002 | CATH INTRA-OP             |\n",
       "|   7301001 | CATH PRE-OP               |\n",
       "|   7101003 | ASC PACU                  |\n",
       "|   7101002 | ASC INTRA-OP              |\n",
       "|   7101001 | ASC PRE-OP                |\n",
       "|   7101000 | AMBULATORY SURGERY CENTER |\n",
       "|   7001003 | MOR PACU                  |\n",
       "|   7001002 | MOR INTRA-OP              |\n",
       "|   7001001 | MOR PRE-OP                |\n",
       "|   7001000 | MAIN OPERATING ROOM       |\n",
       "|   6001003 | 500P PACU                 |\n",
       "|   6001002 | 500P INTRA-OP             |\n",
       "|   6001001 | 500P PRE-OP               |\n",
       "\n"
      ],
      "text/plain": [
       "   dept_id   dept_name                \n",
       "1  120201070 VCP CATH INTRA-OP        \n",
       "2  120201061 VCP INTRA-OP             \n",
       "3  120201028 VCP CARDIAC CATH LAB     \n",
       "4  120201023 VCP PRE-OP/DAY CARE      \n",
       "5  120201022 VCP PACU - RECOVERY ROOM \n",
       "6  120201021 VCP SURGERY              \n",
       "7  117301008 CATH AMC PACU            \n",
       "8  117301007 CATH AMC PRE-OP          \n",
       "9    7301010 CATH AMC INTRA-OP        \n",
       "10   7301008 ZZCATH ASC PACU          \n",
       "11   7301007 ZZCATH ASC PRE-OP        \n",
       "12   7301003 CATH PACU                \n",
       "13   7301002 CATH INTRA-OP            \n",
       "14   7301001 CATH PRE-OP              \n",
       "15   7101003 ASC PACU                 \n",
       "16   7101002 ASC INTRA-OP             \n",
       "17   7101001 ASC PRE-OP               \n",
       "18   7101000 AMBULATORY SURGERY CENTER\n",
       "19   7001003 MOR PACU                 \n",
       "20   7001002 MOR INTRA-OP             \n",
       "21   7001001 MOR PRE-OP               \n",
       "22   7001000 MAIN OPERATING ROOM      \n",
       "23   6001003 500P PACU                \n",
       "24   6001002 500P INTRA-OP            \n",
       "25   6001001 500P PRE-OP              "
      ]
     },
     "metadata": {},
     "output_type": "display_data"
    }
   ],
   "source": [
    "op = paste(c(\"PRE-OP\", \"INTRA-OP\", \"PACU\", \"MAIN OPERATING ROOM\", \"SURGERY\", \"CARDIAC CATH LAB\"), collapse = '|')\n",
    "op_dept <- dept %>% filter(str_detect(dept_name, op)) %>% distinct() %>% arrange(-dept_id)\n",
    "op_dept\n",
    "\n",
    "# id = c(120201023, 117301007, 7301007, 7301001, )\n",
    "\n",
    "dept %>% filter(dept_id %in% op_dept$dept_id) %>% distinct() %>% arrange(-dept_id)"
   ]
  },
  {
   "cell_type": "code",
   "execution_count": 38,
   "id": "f8b36cc5",
   "metadata": {},
   "outputs": [
    {
     "name": "stderr",
     "output_type": "stream",
     "text": [
      "Joining, by = c(\"anon_id\", \"pat_enc_csn_id_coded\")\n",
      "\n"
     ]
    },
    {
     "data": {
      "text/html": [
       "8116"
      ],
      "text/latex": [
       "8116"
      ],
      "text/markdown": [
       "8116"
      ],
      "text/plain": [
       "[1] 8116"
      ]
     },
     "metadata": {},
     "output_type": "display_data"
    }
   ],
   "source": [
    "cohort_op <- cohort_labels %>% select(anon_id, pat_enc_csn_id_coded, admit_time) %>% left_join(adt) %>%\n",
    "                mutate(event_admit_delta = round(difftime(effective_time_jittered_utc, admit_time, units=\"hours\"), 0)) %>%\n",
    "                filter(department_id %in% op_dept$dept_id, event_admit_delta <= 24) %>% distinct(pat_enc_csn_id_coded)\n",
    "nrow(cohort_op) # 8116"
   ]
  },
  {
   "cell_type": "code",
   "execution_count": 39,
   "id": "825bdbe0",
   "metadata": {},
   "outputs": [
    {
     "data": {
      "text/html": [
       "60648"
      ],
      "text/latex": [
       "60648"
      ],
      "text/markdown": [
       "60648"
      ],
      "text/plain": [
       "[1] 60648"
      ]
     },
     "metadata": {},
     "output_type": "display_data"
    },
    {
     "name": "stderr",
     "output_type": "stream",
     "text": [
      "Joining, by = \"pat_enc_csn_id_coded\"\n",
      "\n"
     ]
    },
    {
     "data": {
      "text/html": [
       "52532"
      ],
      "text/latex": [
       "52532"
      ],
      "text/markdown": [
       "52532"
      ],
      "text/plain": [
       "[1] 52532"
      ]
     },
     "metadata": {},
     "output_type": "display_data"
    }
   ],
   "source": [
    "length(unique(cohort_labels$pat_enc_csn_id_coded)) #60648\n",
    "cohort_no_op <- anti_join(cohort_labels, cohort_op) #52532\n",
    "length(unique(cohort_no_op$pat_enc_csn_id_coded))\n",
    "# head(cohort_adt)"
   ]
  },
  {
   "cell_type": "code",
   "execution_count": 40,
   "id": "a1db9f7a",
   "metadata": {},
   "outputs": [
    {
     "data": {
      "text/html": [
       "<table class=\"dataframe\">\n",
       "<caption>A tibble: 1 × 48</caption>\n",
       "<thead>\n",
       "\t<tr><th scope=col>anon_id</th><th scope=col>pat_enc_csn_id_coded</th><th scope=col>admit_time</th><th scope=col>label_max3</th><th scope=col>label_3hr_recent</th><th scope=col>admit_label</th><th scope=col>has_admit_label</th><th scope=col>died_within_24hrs</th><th scope=col>death_3hr_max_label</th><th scope=col>death_3hr_recent_label</th><th scope=col>first_label</th><th scope=col>first_label_minutes_since_admit</th><th scope=col>acute_to_critical_label_recent_3hr</th><th scope=col>critical_to_acute_label_recent_3hr</th><th scope=col>acute_to_critical_label_max_3hr</th><th scope=col>⋯</th><th scope=col>label_12hr_recent</th><th scope=col>death_12hr_max_label</th><th scope=col>death_12hr_recent_label</th><th scope=col>acute_to_critical_label_recent_12hr</th><th scope=col>critical_to_acute_label_recent_12hr</th><th scope=col>acute_to_critical_label_max_12hr</th><th scope=col>critical_to_acute_label_max_12hr</th><th scope=col>label_max24</th><th scope=col>label_24hr_recent</th><th scope=col>death_24hr_max_label</th><th scope=col>death_24hr_recent_label</th><th scope=col>acute_to_critical_label_recent_24hr</th><th scope=col>critical_to_acute_label_recent_24hr</th><th scope=col>acute_to_critical_label_max_24hr</th><th scope=col>critical_to_acute_label_max_24hr</th></tr>\n",
       "\t<tr><th scope=col>&lt;chr&gt;</th><th scope=col>&lt;dbl&gt;</th><th scope=col>&lt;dttm&gt;</th><th scope=col>&lt;dbl&gt;</th><th scope=col>&lt;dbl&gt;</th><th scope=col>&lt;dbl&gt;</th><th scope=col>&lt;dbl&gt;</th><th scope=col>&lt;dbl&gt;</th><th scope=col>&lt;dbl&gt;</th><th scope=col>&lt;dbl&gt;</th><th scope=col>&lt;dbl&gt;</th><th scope=col>&lt;dbl&gt;</th><th scope=col>&lt;dbl&gt;</th><th scope=col>&lt;dbl&gt;</th><th scope=col>&lt;dbl&gt;</th><th scope=col>⋯</th><th scope=col>&lt;dbl&gt;</th><th scope=col>&lt;dbl&gt;</th><th scope=col>&lt;dbl&gt;</th><th scope=col>&lt;dbl&gt;</th><th scope=col>&lt;dbl&gt;</th><th scope=col>&lt;dbl&gt;</th><th scope=col>&lt;dbl&gt;</th><th scope=col>&lt;dbl&gt;</th><th scope=col>&lt;dbl&gt;</th><th scope=col>&lt;dbl&gt;</th><th scope=col>&lt;dbl&gt;</th><th scope=col>&lt;dbl&gt;</th><th scope=col>&lt;dbl&gt;</th><th scope=col>&lt;dbl&gt;</th><th scope=col>&lt;dbl&gt;</th></tr>\n",
       "</thead>\n",
       "<tbody>\n",
       "\t<tr><td>JC1000116</td><td>131066472308</td><td>2015-01-28 00:46:00</td><td>0</td><td>0</td><td>0</td><td>1</td><td>0</td><td>0</td><td>0</td><td>0</td><td>0</td><td>0</td><td>0</td><td>0</td><td>⋯</td><td>0</td><td>0</td><td>0</td><td>0</td><td>0</td><td>0</td><td>0</td><td>0</td><td>0</td><td>0</td><td>0</td><td>0</td><td>0</td><td>0</td><td>0</td></tr>\n",
       "</tbody>\n",
       "</table>\n"
      ],
      "text/latex": [
       "A tibble: 1 × 48\n",
       "\\begin{tabular}{lllllllllllllllllllllllllllllll}\n",
       " anon\\_id & pat\\_enc\\_csn\\_id\\_coded & admit\\_time & label\\_max3 & label\\_3hr\\_recent & admit\\_label & has\\_admit\\_label & died\\_within\\_24hrs & death\\_3hr\\_max\\_label & death\\_3hr\\_recent\\_label & first\\_label & first\\_label\\_minutes\\_since\\_admit & acute\\_to\\_critical\\_label\\_recent\\_3hr & critical\\_to\\_acute\\_label\\_recent\\_3hr & acute\\_to\\_critical\\_label\\_max\\_3hr & ⋯ & label\\_12hr\\_recent & death\\_12hr\\_max\\_label & death\\_12hr\\_recent\\_label & acute\\_to\\_critical\\_label\\_recent\\_12hr & critical\\_to\\_acute\\_label\\_recent\\_12hr & acute\\_to\\_critical\\_label\\_max\\_12hr & critical\\_to\\_acute\\_label\\_max\\_12hr & label\\_max24 & label\\_24hr\\_recent & death\\_24hr\\_max\\_label & death\\_24hr\\_recent\\_label & acute\\_to\\_critical\\_label\\_recent\\_24hr & critical\\_to\\_acute\\_label\\_recent\\_24hr & acute\\_to\\_critical\\_label\\_max\\_24hr & critical\\_to\\_acute\\_label\\_max\\_24hr\\\\\n",
       " <chr> & <dbl> & <dttm> & <dbl> & <dbl> & <dbl> & <dbl> & <dbl> & <dbl> & <dbl> & <dbl> & <dbl> & <dbl> & <dbl> & <dbl> & ⋯ & <dbl> & <dbl> & <dbl> & <dbl> & <dbl> & <dbl> & <dbl> & <dbl> & <dbl> & <dbl> & <dbl> & <dbl> & <dbl> & <dbl> & <dbl>\\\\\n",
       "\\hline\n",
       "\t JC1000116 & 131066472308 & 2015-01-28 00:46:00 & 0 & 0 & 0 & 1 & 0 & 0 & 0 & 0 & 0 & 0 & 0 & 0 & ⋯ & 0 & 0 & 0 & 0 & 0 & 0 & 0 & 0 & 0 & 0 & 0 & 0 & 0 & 0 & 0\\\\\n",
       "\\end{tabular}\n"
      ],
      "text/markdown": [
       "\n",
       "A tibble: 1 × 48\n",
       "\n",
       "| anon_id &lt;chr&gt; | pat_enc_csn_id_coded &lt;dbl&gt; | admit_time &lt;dttm&gt; | label_max3 &lt;dbl&gt; | label_3hr_recent &lt;dbl&gt; | admit_label &lt;dbl&gt; | has_admit_label &lt;dbl&gt; | died_within_24hrs &lt;dbl&gt; | death_3hr_max_label &lt;dbl&gt; | death_3hr_recent_label &lt;dbl&gt; | first_label &lt;dbl&gt; | first_label_minutes_since_admit &lt;dbl&gt; | acute_to_critical_label_recent_3hr &lt;dbl&gt; | critical_to_acute_label_recent_3hr &lt;dbl&gt; | acute_to_critical_label_max_3hr &lt;dbl&gt; | ⋯ ⋯ | label_12hr_recent &lt;dbl&gt; | death_12hr_max_label &lt;dbl&gt; | death_12hr_recent_label &lt;dbl&gt; | acute_to_critical_label_recent_12hr &lt;dbl&gt; | critical_to_acute_label_recent_12hr &lt;dbl&gt; | acute_to_critical_label_max_12hr &lt;dbl&gt; | critical_to_acute_label_max_12hr &lt;dbl&gt; | label_max24 &lt;dbl&gt; | label_24hr_recent &lt;dbl&gt; | death_24hr_max_label &lt;dbl&gt; | death_24hr_recent_label &lt;dbl&gt; | acute_to_critical_label_recent_24hr &lt;dbl&gt; | critical_to_acute_label_recent_24hr &lt;dbl&gt; | acute_to_critical_label_max_24hr &lt;dbl&gt; | critical_to_acute_label_max_24hr &lt;dbl&gt; |\n",
       "|---|---|---|---|---|---|---|---|---|---|---|---|---|---|---|---|---|---|---|---|---|---|---|---|---|---|---|---|---|---|---|\n",
       "| JC1000116 | 131066472308 | 2015-01-28 00:46:00 | 0 | 0 | 0 | 1 | 0 | 0 | 0 | 0 | 0 | 0 | 0 | 0 | ⋯ | 0 | 0 | 0 | 0 | 0 | 0 | 0 | 0 | 0 | 0 | 0 | 0 | 0 | 0 | 0 |\n",
       "\n"
      ],
      "text/plain": [
       "  anon_id   pat_enc_csn_id_coded admit_time          label_max3\n",
       "1 JC1000116 131066472308         2015-01-28 00:46:00 0         \n",
       "  label_3hr_recent admit_label has_admit_label died_within_24hrs\n",
       "1 0                0           1               0                \n",
       "  death_3hr_max_label death_3hr_recent_label first_label\n",
       "1 0                   0                      0          \n",
       "  first_label_minutes_since_admit acute_to_critical_label_recent_3hr\n",
       "1 0                               0                                 \n",
       "  critical_to_acute_label_recent_3hr acute_to_critical_label_max_3hr ⋯\n",
       "1 0                                  0                               ⋯\n",
       "  label_12hr_recent death_12hr_max_label death_12hr_recent_label\n",
       "1 0                 0                    0                      \n",
       "  acute_to_critical_label_recent_12hr critical_to_acute_label_recent_12hr\n",
       "1 0                                   0                                  \n",
       "  acute_to_critical_label_max_12hr critical_to_acute_label_max_12hr label_max24\n",
       "1 0                                0                                0          \n",
       "  label_24hr_recent death_24hr_max_label death_24hr_recent_label\n",
       "1 0                 0                    0                      \n",
       "  acute_to_critical_label_recent_24hr critical_to_acute_label_recent_24hr\n",
       "1 0                                   0                                  \n",
       "  acute_to_critical_label_max_24hr critical_to_acute_label_max_24hr\n",
       "1 0                                0                               "
      ]
     },
     "metadata": {},
     "output_type": "display_data"
    }
   ],
   "source": [
    "head(cohort_no_op, 1)"
   ]
  },
  {
   "cell_type": "raw",
   "id": "aaabcfa1",
   "metadata": {},
   "source": [
    "# check overlapping cohort\n",
    "length(setdiff(cohort0$pat_enc_csn_id_coded, cohort6$pat_enc_csn_id_coded))\n",
    "length(setdiff(cohort6$pat_enc_csn_id_coded, cohort0$pat_enc_csn_id_coded)) "
   ]
  },
  {
   "cell_type": "raw",
   "id": "6de4e786",
   "metadata": {},
   "source": [
    "# csn in cohort4 but not in 0\n",
    "csn_new <- setdiff(cohort6$pat_enc_csn_id_coded, cohort0$pat_enc_csn_id_coded)\n",
    "head(csn_new)"
   ]
  },
  {
   "cell_type": "code",
   "execution_count": 41,
   "id": "40553f53",
   "metadata": {},
   "outputs": [
    {
     "data": {
      "text/html": [
       "35144"
      ],
      "text/latex": [
       "35144"
      ],
      "text/markdown": [
       "35144"
      ],
      "text/plain": [
       "[1] 35144"
      ]
     },
     "metadata": {},
     "output_type": "display_data"
    },
    {
     "data": {
      "text/html": [
       "52532"
      ],
      "text/latex": [
       "52532"
      ],
      "text/markdown": [
       "52532"
      ],
      "text/plain": [
       "[1] 52532"
      ]
     },
     "metadata": {},
     "output_type": "display_data"
    },
    {
     "data": {
      "text/html": [
       "52532"
      ],
      "text/latex": [
       "52532"
      ],
      "text/markdown": [
       "52532"
      ],
      "text/plain": [
       "[1] 52532"
      ]
     },
     "metadata": {},
     "output_type": "display_data"
    },
    {
     "data": {
      "text/html": [
       "<table class=\"dataframe\">\n",
       "<caption>A tibble: 6 × 48</caption>\n",
       "<thead>\n",
       "\t<tr><th scope=col>anon_id</th><th scope=col>pat_enc_csn_id_coded</th><th scope=col>admit_time</th><th scope=col>label_max3</th><th scope=col>label_3hr_recent</th><th scope=col>admit_label</th><th scope=col>has_admit_label</th><th scope=col>died_within_24hrs</th><th scope=col>death_3hr_max_label</th><th scope=col>death_3hr_recent_label</th><th scope=col>first_label</th><th scope=col>first_label_minutes_since_admit</th><th scope=col>acute_to_critical_label_recent_3hr</th><th scope=col>critical_to_acute_label_recent_3hr</th><th scope=col>acute_to_critical_label_max_3hr</th><th scope=col>⋯</th><th scope=col>label_12hr_recent</th><th scope=col>death_12hr_max_label</th><th scope=col>death_12hr_recent_label</th><th scope=col>acute_to_critical_label_recent_12hr</th><th scope=col>critical_to_acute_label_recent_12hr</th><th scope=col>acute_to_critical_label_max_12hr</th><th scope=col>critical_to_acute_label_max_12hr</th><th scope=col>label_max24</th><th scope=col>label_24hr_recent</th><th scope=col>death_24hr_max_label</th><th scope=col>death_24hr_recent_label</th><th scope=col>acute_to_critical_label_recent_24hr</th><th scope=col>critical_to_acute_label_recent_24hr</th><th scope=col>acute_to_critical_label_max_24hr</th><th scope=col>critical_to_acute_label_max_24hr</th></tr>\n",
       "\t<tr><th scope=col>&lt;chr&gt;</th><th scope=col>&lt;dbl&gt;</th><th scope=col>&lt;dttm&gt;</th><th scope=col>&lt;dbl&gt;</th><th scope=col>&lt;dbl&gt;</th><th scope=col>&lt;dbl&gt;</th><th scope=col>&lt;dbl&gt;</th><th scope=col>&lt;dbl&gt;</th><th scope=col>&lt;dbl&gt;</th><th scope=col>&lt;dbl&gt;</th><th scope=col>&lt;dbl&gt;</th><th scope=col>&lt;dbl&gt;</th><th scope=col>&lt;dbl&gt;</th><th scope=col>&lt;dbl&gt;</th><th scope=col>&lt;dbl&gt;</th><th scope=col>⋯</th><th scope=col>&lt;dbl&gt;</th><th scope=col>&lt;dbl&gt;</th><th scope=col>&lt;dbl&gt;</th><th scope=col>&lt;dbl&gt;</th><th scope=col>&lt;dbl&gt;</th><th scope=col>&lt;dbl&gt;</th><th scope=col>&lt;dbl&gt;</th><th scope=col>&lt;dbl&gt;</th><th scope=col>&lt;dbl&gt;</th><th scope=col>&lt;dbl&gt;</th><th scope=col>&lt;dbl&gt;</th><th scope=col>&lt;dbl&gt;</th><th scope=col>&lt;dbl&gt;</th><th scope=col>&lt;dbl&gt;</th><th scope=col>&lt;dbl&gt;</th></tr>\n",
       "</thead>\n",
       "<tbody>\n",
       "\t<tr><td>JC1000116</td><td>131066472308</td><td>2015-01-28 00:46:00</td><td>0</td><td>0</td><td>0</td><td>1</td><td>0</td><td>0</td><td>0</td><td>0</td><td>0</td><td>0</td><td>0</td><td>0</td><td>⋯</td><td>0</td><td>0</td><td>0</td><td>0</td><td>0</td><td>0</td><td>0</td><td>0</td><td>0</td><td>0</td><td>0</td><td>0</td><td>0</td><td>0</td><td>0</td></tr>\n",
       "\t<tr><td>JC1000116</td><td>131295313275</td><td>2020-09-29 22:45:00</td><td>0</td><td>0</td><td>0</td><td>1</td><td>0</td><td>0</td><td>0</td><td>0</td><td>0</td><td>0</td><td>0</td><td>0</td><td>⋯</td><td>0</td><td>0</td><td>0</td><td>0</td><td>0</td><td>0</td><td>0</td><td>0</td><td>0</td><td>0</td><td>0</td><td>0</td><td>0</td><td>0</td><td>0</td></tr>\n",
       "\t<tr><td>JC1000296</td><td>131100574537</td><td>2015-07-03 04:51:00</td><td>0</td><td>0</td><td>0</td><td>1</td><td>0</td><td>0</td><td>0</td><td>0</td><td>0</td><td>0</td><td>0</td><td>0</td><td>⋯</td><td>0</td><td>0</td><td>0</td><td>0</td><td>0</td><td>0</td><td>0</td><td>0</td><td>0</td><td>0</td><td>0</td><td>0</td><td>0</td><td>0</td><td>0</td></tr>\n",
       "\t<tr><td>JC1000441</td><td>131074233004</td><td>2015-02-23 06:51:00</td><td>0</td><td>0</td><td>0</td><td>1</td><td>0</td><td>0</td><td>0</td><td>0</td><td>0</td><td>0</td><td>0</td><td>0</td><td>⋯</td><td>0</td><td>0</td><td>0</td><td>0</td><td>0</td><td>0</td><td>0</td><td>0</td><td>0</td><td>0</td><td>0</td><td>0</td><td>0</td><td>0</td><td>0</td></tr>\n",
       "\t<tr><td>JC1000527</td><td>131084989828</td><td>2015-05-26 23:19:00</td><td>0</td><td>0</td><td>0</td><td>1</td><td>0</td><td>0</td><td>0</td><td>0</td><td>0</td><td>0</td><td>0</td><td>0</td><td>⋯</td><td>0</td><td>0</td><td>0</td><td>0</td><td>0</td><td>0</td><td>0</td><td>0</td><td>0</td><td>0</td><td>0</td><td>0</td><td>0</td><td>0</td><td>0</td></tr>\n",
       "\t<tr><td>JC1000904</td><td>131080383001</td><td>2015-03-03 11:02:00</td><td>0</td><td>0</td><td>0</td><td>1</td><td>0</td><td>0</td><td>0</td><td>0</td><td>0</td><td>0</td><td>0</td><td>0</td><td>⋯</td><td>0</td><td>0</td><td>0</td><td>0</td><td>0</td><td>0</td><td>0</td><td>0</td><td>0</td><td>0</td><td>0</td><td>0</td><td>0</td><td>0</td><td>0</td></tr>\n",
       "</tbody>\n",
       "</table>\n"
      ],
      "text/latex": [
       "A tibble: 6 × 48\n",
       "\\begin{tabular}{lllllllllllllllllllllllllllllll}\n",
       " anon\\_id & pat\\_enc\\_csn\\_id\\_coded & admit\\_time & label\\_max3 & label\\_3hr\\_recent & admit\\_label & has\\_admit\\_label & died\\_within\\_24hrs & death\\_3hr\\_max\\_label & death\\_3hr\\_recent\\_label & first\\_label & first\\_label\\_minutes\\_since\\_admit & acute\\_to\\_critical\\_label\\_recent\\_3hr & critical\\_to\\_acute\\_label\\_recent\\_3hr & acute\\_to\\_critical\\_label\\_max\\_3hr & ⋯ & label\\_12hr\\_recent & death\\_12hr\\_max\\_label & death\\_12hr\\_recent\\_label & acute\\_to\\_critical\\_label\\_recent\\_12hr & critical\\_to\\_acute\\_label\\_recent\\_12hr & acute\\_to\\_critical\\_label\\_max\\_12hr & critical\\_to\\_acute\\_label\\_max\\_12hr & label\\_max24 & label\\_24hr\\_recent & death\\_24hr\\_max\\_label & death\\_24hr\\_recent\\_label & acute\\_to\\_critical\\_label\\_recent\\_24hr & critical\\_to\\_acute\\_label\\_recent\\_24hr & acute\\_to\\_critical\\_label\\_max\\_24hr & critical\\_to\\_acute\\_label\\_max\\_24hr\\\\\n",
       " <chr> & <dbl> & <dttm> & <dbl> & <dbl> & <dbl> & <dbl> & <dbl> & <dbl> & <dbl> & <dbl> & <dbl> & <dbl> & <dbl> & <dbl> & ⋯ & <dbl> & <dbl> & <dbl> & <dbl> & <dbl> & <dbl> & <dbl> & <dbl> & <dbl> & <dbl> & <dbl> & <dbl> & <dbl> & <dbl> & <dbl>\\\\\n",
       "\\hline\n",
       "\t JC1000116 & 131066472308 & 2015-01-28 00:46:00 & 0 & 0 & 0 & 1 & 0 & 0 & 0 & 0 & 0 & 0 & 0 & 0 & ⋯ & 0 & 0 & 0 & 0 & 0 & 0 & 0 & 0 & 0 & 0 & 0 & 0 & 0 & 0 & 0\\\\\n",
       "\t JC1000116 & 131295313275 & 2020-09-29 22:45:00 & 0 & 0 & 0 & 1 & 0 & 0 & 0 & 0 & 0 & 0 & 0 & 0 & ⋯ & 0 & 0 & 0 & 0 & 0 & 0 & 0 & 0 & 0 & 0 & 0 & 0 & 0 & 0 & 0\\\\\n",
       "\t JC1000296 & 131100574537 & 2015-07-03 04:51:00 & 0 & 0 & 0 & 1 & 0 & 0 & 0 & 0 & 0 & 0 & 0 & 0 & ⋯ & 0 & 0 & 0 & 0 & 0 & 0 & 0 & 0 & 0 & 0 & 0 & 0 & 0 & 0 & 0\\\\\n",
       "\t JC1000441 & 131074233004 & 2015-02-23 06:51:00 & 0 & 0 & 0 & 1 & 0 & 0 & 0 & 0 & 0 & 0 & 0 & 0 & ⋯ & 0 & 0 & 0 & 0 & 0 & 0 & 0 & 0 & 0 & 0 & 0 & 0 & 0 & 0 & 0\\\\\n",
       "\t JC1000527 & 131084989828 & 2015-05-26 23:19:00 & 0 & 0 & 0 & 1 & 0 & 0 & 0 & 0 & 0 & 0 & 0 & 0 & ⋯ & 0 & 0 & 0 & 0 & 0 & 0 & 0 & 0 & 0 & 0 & 0 & 0 & 0 & 0 & 0\\\\\n",
       "\t JC1000904 & 131080383001 & 2015-03-03 11:02:00 & 0 & 0 & 0 & 1 & 0 & 0 & 0 & 0 & 0 & 0 & 0 & 0 & ⋯ & 0 & 0 & 0 & 0 & 0 & 0 & 0 & 0 & 0 & 0 & 0 & 0 & 0 & 0 & 0\\\\\n",
       "\\end{tabular}\n"
      ],
      "text/markdown": [
       "\n",
       "A tibble: 6 × 48\n",
       "\n",
       "| anon_id &lt;chr&gt; | pat_enc_csn_id_coded &lt;dbl&gt; | admit_time &lt;dttm&gt; | label_max3 &lt;dbl&gt; | label_3hr_recent &lt;dbl&gt; | admit_label &lt;dbl&gt; | has_admit_label &lt;dbl&gt; | died_within_24hrs &lt;dbl&gt; | death_3hr_max_label &lt;dbl&gt; | death_3hr_recent_label &lt;dbl&gt; | first_label &lt;dbl&gt; | first_label_minutes_since_admit &lt;dbl&gt; | acute_to_critical_label_recent_3hr &lt;dbl&gt; | critical_to_acute_label_recent_3hr &lt;dbl&gt; | acute_to_critical_label_max_3hr &lt;dbl&gt; | ⋯ ⋯ | label_12hr_recent &lt;dbl&gt; | death_12hr_max_label &lt;dbl&gt; | death_12hr_recent_label &lt;dbl&gt; | acute_to_critical_label_recent_12hr &lt;dbl&gt; | critical_to_acute_label_recent_12hr &lt;dbl&gt; | acute_to_critical_label_max_12hr &lt;dbl&gt; | critical_to_acute_label_max_12hr &lt;dbl&gt; | label_max24 &lt;dbl&gt; | label_24hr_recent &lt;dbl&gt; | death_24hr_max_label &lt;dbl&gt; | death_24hr_recent_label &lt;dbl&gt; | acute_to_critical_label_recent_24hr &lt;dbl&gt; | critical_to_acute_label_recent_24hr &lt;dbl&gt; | acute_to_critical_label_max_24hr &lt;dbl&gt; | critical_to_acute_label_max_24hr &lt;dbl&gt; |\n",
       "|---|---|---|---|---|---|---|---|---|---|---|---|---|---|---|---|---|---|---|---|---|---|---|---|---|---|---|---|---|---|---|\n",
       "| JC1000116 | 131066472308 | 2015-01-28 00:46:00 | 0 | 0 | 0 | 1 | 0 | 0 | 0 | 0 | 0 | 0 | 0 | 0 | ⋯ | 0 | 0 | 0 | 0 | 0 | 0 | 0 | 0 | 0 | 0 | 0 | 0 | 0 | 0 | 0 |\n",
       "| JC1000116 | 131295313275 | 2020-09-29 22:45:00 | 0 | 0 | 0 | 1 | 0 | 0 | 0 | 0 | 0 | 0 | 0 | 0 | ⋯ | 0 | 0 | 0 | 0 | 0 | 0 | 0 | 0 | 0 | 0 | 0 | 0 | 0 | 0 | 0 |\n",
       "| JC1000296 | 131100574537 | 2015-07-03 04:51:00 | 0 | 0 | 0 | 1 | 0 | 0 | 0 | 0 | 0 | 0 | 0 | 0 | ⋯ | 0 | 0 | 0 | 0 | 0 | 0 | 0 | 0 | 0 | 0 | 0 | 0 | 0 | 0 | 0 |\n",
       "| JC1000441 | 131074233004 | 2015-02-23 06:51:00 | 0 | 0 | 0 | 1 | 0 | 0 | 0 | 0 | 0 | 0 | 0 | 0 | ⋯ | 0 | 0 | 0 | 0 | 0 | 0 | 0 | 0 | 0 | 0 | 0 | 0 | 0 | 0 | 0 |\n",
       "| JC1000527 | 131084989828 | 2015-05-26 23:19:00 | 0 | 0 | 0 | 1 | 0 | 0 | 0 | 0 | 0 | 0 | 0 | 0 | ⋯ | 0 | 0 | 0 | 0 | 0 | 0 | 0 | 0 | 0 | 0 | 0 | 0 | 0 | 0 | 0 |\n",
       "| JC1000904 | 131080383001 | 2015-03-03 11:02:00 | 0 | 0 | 0 | 1 | 0 | 0 | 0 | 0 | 0 | 0 | 0 | 0 | ⋯ | 0 | 0 | 0 | 0 | 0 | 0 | 0 | 0 | 0 | 0 | 0 | 0 | 0 | 0 | 0 |\n",
       "\n"
      ],
      "text/plain": [
       "  anon_id   pat_enc_csn_id_coded admit_time          label_max3\n",
       "1 JC1000116 131066472308         2015-01-28 00:46:00 0         \n",
       "2 JC1000116 131295313275         2020-09-29 22:45:00 0         \n",
       "3 JC1000296 131100574537         2015-07-03 04:51:00 0         \n",
       "4 JC1000441 131074233004         2015-02-23 06:51:00 0         \n",
       "5 JC1000527 131084989828         2015-05-26 23:19:00 0         \n",
       "6 JC1000904 131080383001         2015-03-03 11:02:00 0         \n",
       "  label_3hr_recent admit_label has_admit_label died_within_24hrs\n",
       "1 0                0           1               0                \n",
       "2 0                0           1               0                \n",
       "3 0                0           1               0                \n",
       "4 0                0           1               0                \n",
       "5 0                0           1               0                \n",
       "6 0                0           1               0                \n",
       "  death_3hr_max_label death_3hr_recent_label first_label\n",
       "1 0                   0                      0          \n",
       "2 0                   0                      0          \n",
       "3 0                   0                      0          \n",
       "4 0                   0                      0          \n",
       "5 0                   0                      0          \n",
       "6 0                   0                      0          \n",
       "  first_label_minutes_since_admit acute_to_critical_label_recent_3hr\n",
       "1 0                               0                                 \n",
       "2 0                               0                                 \n",
       "3 0                               0                                 \n",
       "4 0                               0                                 \n",
       "5 0                               0                                 \n",
       "6 0                               0                                 \n",
       "  critical_to_acute_label_recent_3hr acute_to_critical_label_max_3hr ⋯\n",
       "1 0                                  0                               ⋯\n",
       "2 0                                  0                               ⋯\n",
       "3 0                                  0                               ⋯\n",
       "4 0                                  0                               ⋯\n",
       "5 0                                  0                               ⋯\n",
       "6 0                                  0                               ⋯\n",
       "  label_12hr_recent death_12hr_max_label death_12hr_recent_label\n",
       "1 0                 0                    0                      \n",
       "2 0                 0                    0                      \n",
       "3 0                 0                    0                      \n",
       "4 0                 0                    0                      \n",
       "5 0                 0                    0                      \n",
       "6 0                 0                    0                      \n",
       "  acute_to_critical_label_recent_12hr critical_to_acute_label_recent_12hr\n",
       "1 0                                   0                                  \n",
       "2 0                                   0                                  \n",
       "3 0                                   0                                  \n",
       "4 0                                   0                                  \n",
       "5 0                                   0                                  \n",
       "6 0                                   0                                  \n",
       "  acute_to_critical_label_max_12hr critical_to_acute_label_max_12hr label_max24\n",
       "1 0                                0                                0          \n",
       "2 0                                0                                0          \n",
       "3 0                                0                                0          \n",
       "4 0                                0                                0          \n",
       "5 0                                0                                0          \n",
       "6 0                                0                                0          \n",
       "  label_24hr_recent death_24hr_max_label death_24hr_recent_label\n",
       "1 0                 0                    0                      \n",
       "2 0                 0                    0                      \n",
       "3 0                 0                    0                      \n",
       "4 0                 0                    0                      \n",
       "5 0                 0                    0                      \n",
       "6 0                 0                    0                      \n",
       "  acute_to_critical_label_recent_24hr critical_to_acute_label_recent_24hr\n",
       "1 0                                   0                                  \n",
       "2 0                                   0                                  \n",
       "3 0                                   0                                  \n",
       "4 0                                   0                                  \n",
       "5 0                                   0                                  \n",
       "6 0                                   0                                  \n",
       "  acute_to_critical_label_max_24hr critical_to_acute_label_max_24hr\n",
       "1 0                                0                               \n",
       "2 0                                0                               \n",
       "3 0                                0                               \n",
       "4 0                                0                               \n",
       "5 0                                0                               \n",
       "6 0                                0                               "
      ]
     },
     "metadata": {},
     "output_type": "display_data"
    }
   ],
   "source": [
    "nrow(cohort_no_op %>% select(anon_id) %>% distinct()) # 35144\n",
    "nrow(cohort_no_op %>% select(pat_enc_csn_id_coded) %>% distinct()) # 52532\n",
    "nrow(cohort_no_op %>% select(anon_id, pat_enc_csn_id_coded) %>% distinct()) # 52532\n",
    "head(cohort_no_op)"
   ]
  },
  {
   "cell_type": "code",
   "execution_count": 42,
   "id": "3d2fc539",
   "metadata": {},
   "outputs": [
    {
     "name": "stderr",
     "output_type": "stream",
     "text": [
      "Joining, by = c(\"anon_id\", \"pat_enc_csn_id_coded\", \"admit_time\", \"label_max3\", \"label_3hr_recent\", \"admit_label\", \"has_admit_label\", \"died_within_24hrs\", \"death_3hr_max_label\", \"death_3hr_recent_label\", \"first_label\", \"first_label_minutes_since_admit\", \"acute_to_critical_label_recent_3hr\", \"critical_to_acute_label_recent_3hr\", \"acute_to_critical_label_max_3hr\", \"critical_to_acute_label_max_3hr\", \"label_max6\", \"label_6hr_recent\", \"death_6hr_max_label\", \"death_6hr_recent_label\", \"acute_to_critical_label_recent_6hr\", \"critical_to_acute_label_recent_6hr\", \"acute_to_critical_label_max_6hr\", \"critical_to_acute_label_max_6hr\", \"label_max9\", \"label_9hr_recent\", \"death_9hr_max_label\", \"death_9hr_recent_label\", \"acute_to_critical_label_recent_9hr\", \"critical_to_acute_label_recent_9hr\", \"acute_to_critical_label_max_9hr\", \"critical_to_acute_label_max_9hr\", \"label_max12\", \"label_12hr_recent\", \"death_12hr_max_label\", \"death_12hr_recent_label\", \"acute_to_critical_label_recent_12hr\", \"critical_to_acute_label_recent_12hr\", \"acute_to_critical_label_max_12hr\", \"critical_to_acute_label_max_12hr\", \"label_max24\", \"label_24hr_recent\", \"death_24hr_max_label\", \"death_24hr_recent_label\", \"acute_to_critical_label_recent_24hr\", \"critical_to_acute_label_recent_24hr\", \"acute_to_critical_label_max_24hr\", \"critical_to_acute_label_max_24hr\")\n",
      "\n"
     ]
    },
    {
     "data": {
      "text/html": [
       "<style>\n",
       ".list-inline {list-style: none; margin:0; padding: 0}\n",
       ".list-inline>li {display: inline-block}\n",
       ".list-inline>li:not(:last-child)::after {content: \"\\00b7\"; padding: 0 .5ex}\n",
       "</style>\n",
       "<ol class=list-inline><li>52532</li><li>48</li></ol>\n"
      ],
      "text/latex": [
       "\\begin{enumerate*}\n",
       "\\item 52532\n",
       "\\item 48\n",
       "\\end{enumerate*}\n"
      ],
      "text/markdown": [
       "1. 52532\n",
       "2. 48\n",
       "\n",
       "\n"
      ],
      "text/plain": [
       "[1] 52532    48"
      ]
     },
     "metadata": {},
     "output_type": "display_data"
    },
    {
     "data": {
      "text/html": [
       "<table class=\"dataframe\">\n",
       "<caption>A tibble: 1 × 48</caption>\n",
       "<thead>\n",
       "\t<tr><th scope=col>anon_id</th><th scope=col>pat_enc_csn_id_coded</th><th scope=col>admit_time</th><th scope=col>label_max3</th><th scope=col>label_3hr_recent</th><th scope=col>admit_label</th><th scope=col>has_admit_label</th><th scope=col>died_within_24hrs</th><th scope=col>death_3hr_max_label</th><th scope=col>death_3hr_recent_label</th><th scope=col>first_label</th><th scope=col>first_label_minutes_since_admit</th><th scope=col>acute_to_critical_label_recent_3hr</th><th scope=col>critical_to_acute_label_recent_3hr</th><th scope=col>acute_to_critical_label_max_3hr</th><th scope=col>⋯</th><th scope=col>label_12hr_recent</th><th scope=col>death_12hr_max_label</th><th scope=col>death_12hr_recent_label</th><th scope=col>acute_to_critical_label_recent_12hr</th><th scope=col>critical_to_acute_label_recent_12hr</th><th scope=col>acute_to_critical_label_max_12hr</th><th scope=col>critical_to_acute_label_max_12hr</th><th scope=col>label_max24</th><th scope=col>label_24hr_recent</th><th scope=col>death_24hr_max_label</th><th scope=col>death_24hr_recent_label</th><th scope=col>acute_to_critical_label_recent_24hr</th><th scope=col>critical_to_acute_label_recent_24hr</th><th scope=col>acute_to_critical_label_max_24hr</th><th scope=col>critical_to_acute_label_max_24hr</th></tr>\n",
       "\t<tr><th scope=col>&lt;chr&gt;</th><th scope=col>&lt;dbl&gt;</th><th scope=col>&lt;dttm&gt;</th><th scope=col>&lt;dbl&gt;</th><th scope=col>&lt;dbl&gt;</th><th scope=col>&lt;dbl&gt;</th><th scope=col>&lt;dbl&gt;</th><th scope=col>&lt;dbl&gt;</th><th scope=col>&lt;dbl&gt;</th><th scope=col>&lt;dbl&gt;</th><th scope=col>&lt;dbl&gt;</th><th scope=col>&lt;dbl&gt;</th><th scope=col>&lt;dbl&gt;</th><th scope=col>&lt;dbl&gt;</th><th scope=col>&lt;dbl&gt;</th><th scope=col>⋯</th><th scope=col>&lt;dbl&gt;</th><th scope=col>&lt;dbl&gt;</th><th scope=col>&lt;dbl&gt;</th><th scope=col>&lt;dbl&gt;</th><th scope=col>&lt;dbl&gt;</th><th scope=col>&lt;dbl&gt;</th><th scope=col>&lt;dbl&gt;</th><th scope=col>&lt;dbl&gt;</th><th scope=col>&lt;dbl&gt;</th><th scope=col>&lt;dbl&gt;</th><th scope=col>&lt;dbl&gt;</th><th scope=col>&lt;dbl&gt;</th><th scope=col>&lt;dbl&gt;</th><th scope=col>&lt;dbl&gt;</th><th scope=col>&lt;dbl&gt;</th></tr>\n",
       "</thead>\n",
       "<tbody>\n",
       "\t<tr><td>JC1000116</td><td>131066472308</td><td>2015-01-28 00:46:00</td><td>0</td><td>0</td><td>0</td><td>1</td><td>0</td><td>0</td><td>0</td><td>0</td><td>0</td><td>0</td><td>0</td><td>0</td><td>⋯</td><td>0</td><td>0</td><td>0</td><td>0</td><td>0</td><td>0</td><td>0</td><td>0</td><td>0</td><td>0</td><td>0</td><td>0</td><td>0</td><td>0</td><td>0</td></tr>\n",
       "</tbody>\n",
       "</table>\n"
      ],
      "text/latex": [
       "A tibble: 1 × 48\n",
       "\\begin{tabular}{lllllllllllllllllllllllllllllll}\n",
       " anon\\_id & pat\\_enc\\_csn\\_id\\_coded & admit\\_time & label\\_max3 & label\\_3hr\\_recent & admit\\_label & has\\_admit\\_label & died\\_within\\_24hrs & death\\_3hr\\_max\\_label & death\\_3hr\\_recent\\_label & first\\_label & first\\_label\\_minutes\\_since\\_admit & acute\\_to\\_critical\\_label\\_recent\\_3hr & critical\\_to\\_acute\\_label\\_recent\\_3hr & acute\\_to\\_critical\\_label\\_max\\_3hr & ⋯ & label\\_12hr\\_recent & death\\_12hr\\_max\\_label & death\\_12hr\\_recent\\_label & acute\\_to\\_critical\\_label\\_recent\\_12hr & critical\\_to\\_acute\\_label\\_recent\\_12hr & acute\\_to\\_critical\\_label\\_max\\_12hr & critical\\_to\\_acute\\_label\\_max\\_12hr & label\\_max24 & label\\_24hr\\_recent & death\\_24hr\\_max\\_label & death\\_24hr\\_recent\\_label & acute\\_to\\_critical\\_label\\_recent\\_24hr & critical\\_to\\_acute\\_label\\_recent\\_24hr & acute\\_to\\_critical\\_label\\_max\\_24hr & critical\\_to\\_acute\\_label\\_max\\_24hr\\\\\n",
       " <chr> & <dbl> & <dttm> & <dbl> & <dbl> & <dbl> & <dbl> & <dbl> & <dbl> & <dbl> & <dbl> & <dbl> & <dbl> & <dbl> & <dbl> & ⋯ & <dbl> & <dbl> & <dbl> & <dbl> & <dbl> & <dbl> & <dbl> & <dbl> & <dbl> & <dbl> & <dbl> & <dbl> & <dbl> & <dbl> & <dbl>\\\\\n",
       "\\hline\n",
       "\t JC1000116 & 131066472308 & 2015-01-28 00:46:00 & 0 & 0 & 0 & 1 & 0 & 0 & 0 & 0 & 0 & 0 & 0 & 0 & ⋯ & 0 & 0 & 0 & 0 & 0 & 0 & 0 & 0 & 0 & 0 & 0 & 0 & 0 & 0 & 0\\\\\n",
       "\\end{tabular}\n"
      ],
      "text/markdown": [
       "\n",
       "A tibble: 1 × 48\n",
       "\n",
       "| anon_id &lt;chr&gt; | pat_enc_csn_id_coded &lt;dbl&gt; | admit_time &lt;dttm&gt; | label_max3 &lt;dbl&gt; | label_3hr_recent &lt;dbl&gt; | admit_label &lt;dbl&gt; | has_admit_label &lt;dbl&gt; | died_within_24hrs &lt;dbl&gt; | death_3hr_max_label &lt;dbl&gt; | death_3hr_recent_label &lt;dbl&gt; | first_label &lt;dbl&gt; | first_label_minutes_since_admit &lt;dbl&gt; | acute_to_critical_label_recent_3hr &lt;dbl&gt; | critical_to_acute_label_recent_3hr &lt;dbl&gt; | acute_to_critical_label_max_3hr &lt;dbl&gt; | ⋯ ⋯ | label_12hr_recent &lt;dbl&gt; | death_12hr_max_label &lt;dbl&gt; | death_12hr_recent_label &lt;dbl&gt; | acute_to_critical_label_recent_12hr &lt;dbl&gt; | critical_to_acute_label_recent_12hr &lt;dbl&gt; | acute_to_critical_label_max_12hr &lt;dbl&gt; | critical_to_acute_label_max_12hr &lt;dbl&gt; | label_max24 &lt;dbl&gt; | label_24hr_recent &lt;dbl&gt; | death_24hr_max_label &lt;dbl&gt; | death_24hr_recent_label &lt;dbl&gt; | acute_to_critical_label_recent_24hr &lt;dbl&gt; | critical_to_acute_label_recent_24hr &lt;dbl&gt; | acute_to_critical_label_max_24hr &lt;dbl&gt; | critical_to_acute_label_max_24hr &lt;dbl&gt; |\n",
       "|---|---|---|---|---|---|---|---|---|---|---|---|---|---|---|---|---|---|---|---|---|---|---|---|---|---|---|---|---|---|---|\n",
       "| JC1000116 | 131066472308 | 2015-01-28 00:46:00 | 0 | 0 | 0 | 1 | 0 | 0 | 0 | 0 | 0 | 0 | 0 | 0 | ⋯ | 0 | 0 | 0 | 0 | 0 | 0 | 0 | 0 | 0 | 0 | 0 | 0 | 0 | 0 | 0 |\n",
       "\n"
      ],
      "text/plain": [
       "  anon_id   pat_enc_csn_id_coded admit_time          label_max3\n",
       "1 JC1000116 131066472308         2015-01-28 00:46:00 0         \n",
       "  label_3hr_recent admit_label has_admit_label died_within_24hrs\n",
       "1 0                0           1               0                \n",
       "  death_3hr_max_label death_3hr_recent_label first_label\n",
       "1 0                   0                      0          \n",
       "  first_label_minutes_since_admit acute_to_critical_label_recent_3hr\n",
       "1 0                               0                                 \n",
       "  critical_to_acute_label_recent_3hr acute_to_critical_label_max_3hr ⋯\n",
       "1 0                                  0                               ⋯\n",
       "  label_12hr_recent death_12hr_max_label death_12hr_recent_label\n",
       "1 0                 0                    0                      \n",
       "  acute_to_critical_label_recent_12hr critical_to_acute_label_recent_12hr\n",
       "1 0                                   0                                  \n",
       "  acute_to_critical_label_max_12hr critical_to_acute_label_max_12hr label_max24\n",
       "1 0                                0                                0          \n",
       "  label_24hr_recent death_24hr_max_label death_24hr_recent_label\n",
       "1 0                 0                    0                      \n",
       "  acute_to_critical_label_recent_24hr critical_to_acute_label_recent_24hr\n",
       "1 0                                   0                                  \n",
       "  acute_to_critical_label_max_24hr critical_to_acute_label_max_24hr\n",
       "1 0                                0                               "
      ]
     },
     "metadata": {},
     "output_type": "display_data"
    },
    {
     "data": {
      "text/html": [
       "<style>\n",
       ".list-inline {list-style: none; margin:0; padding: 0}\n",
       ".list-inline>li {display: inline-block}\n",
       ".list-inline>li:not(:last-child)::after {content: \"\\00b7\"; padding: 0 .5ex}\n",
       "</style>\n",
       "<ol class=list-inline><li>'anon_id'</li><li>'pat_enc_csn_id_coded'</li><li>'admit_time'</li><li>'label_max3'</li><li>'label_3hr_recent'</li><li>'admit_label'</li><li>'has_admit_label'</li><li>'died_within_24hrs'</li><li>'death_3hr_max_label'</li><li>'death_3hr_recent_label'</li><li>'first_label'</li><li>'first_label_minutes_since_admit'</li><li>'acute_to_critical_label_recent_3hr'</li><li>'critical_to_acute_label_recent_3hr'</li><li>'acute_to_critical_label_max_3hr'</li><li>'critical_to_acute_label_max_3hr'</li><li>'label_max6'</li><li>'label_6hr_recent'</li><li>'death_6hr_max_label'</li><li>'death_6hr_recent_label'</li><li>'acute_to_critical_label_recent_6hr'</li><li>'critical_to_acute_label_recent_6hr'</li><li>'acute_to_critical_label_max_6hr'</li><li>'critical_to_acute_label_max_6hr'</li><li>'label_max9'</li><li>'label_9hr_recent'</li><li>'death_9hr_max_label'</li><li>'death_9hr_recent_label'</li><li>'acute_to_critical_label_recent_9hr'</li><li>'critical_to_acute_label_recent_9hr'</li><li>'acute_to_critical_label_max_9hr'</li><li>'critical_to_acute_label_max_9hr'</li><li>'label_max12'</li><li>'label_12hr_recent'</li><li>'death_12hr_max_label'</li><li>'death_12hr_recent_label'</li><li>'acute_to_critical_label_recent_12hr'</li><li>'critical_to_acute_label_recent_12hr'</li><li>'acute_to_critical_label_max_12hr'</li><li>'critical_to_acute_label_max_12hr'</li><li>'label_max24'</li><li>'label_24hr_recent'</li><li>'death_24hr_max_label'</li><li>'death_24hr_recent_label'</li><li>'acute_to_critical_label_recent_24hr'</li><li>'critical_to_acute_label_recent_24hr'</li><li>'acute_to_critical_label_max_24hr'</li><li>'critical_to_acute_label_max_24hr'</li></ol>\n"
      ],
      "text/latex": [
       "\\begin{enumerate*}\n",
       "\\item 'anon\\_id'\n",
       "\\item 'pat\\_enc\\_csn\\_id\\_coded'\n",
       "\\item 'admit\\_time'\n",
       "\\item 'label\\_max3'\n",
       "\\item 'label\\_3hr\\_recent'\n",
       "\\item 'admit\\_label'\n",
       "\\item 'has\\_admit\\_label'\n",
       "\\item 'died\\_within\\_24hrs'\n",
       "\\item 'death\\_3hr\\_max\\_label'\n",
       "\\item 'death\\_3hr\\_recent\\_label'\n",
       "\\item 'first\\_label'\n",
       "\\item 'first\\_label\\_minutes\\_since\\_admit'\n",
       "\\item 'acute\\_to\\_critical\\_label\\_recent\\_3hr'\n",
       "\\item 'critical\\_to\\_acute\\_label\\_recent\\_3hr'\n",
       "\\item 'acute\\_to\\_critical\\_label\\_max\\_3hr'\n",
       "\\item 'critical\\_to\\_acute\\_label\\_max\\_3hr'\n",
       "\\item 'label\\_max6'\n",
       "\\item 'label\\_6hr\\_recent'\n",
       "\\item 'death\\_6hr\\_max\\_label'\n",
       "\\item 'death\\_6hr\\_recent\\_label'\n",
       "\\item 'acute\\_to\\_critical\\_label\\_recent\\_6hr'\n",
       "\\item 'critical\\_to\\_acute\\_label\\_recent\\_6hr'\n",
       "\\item 'acute\\_to\\_critical\\_label\\_max\\_6hr'\n",
       "\\item 'critical\\_to\\_acute\\_label\\_max\\_6hr'\n",
       "\\item 'label\\_max9'\n",
       "\\item 'label\\_9hr\\_recent'\n",
       "\\item 'death\\_9hr\\_max\\_label'\n",
       "\\item 'death\\_9hr\\_recent\\_label'\n",
       "\\item 'acute\\_to\\_critical\\_label\\_recent\\_9hr'\n",
       "\\item 'critical\\_to\\_acute\\_label\\_recent\\_9hr'\n",
       "\\item 'acute\\_to\\_critical\\_label\\_max\\_9hr'\n",
       "\\item 'critical\\_to\\_acute\\_label\\_max\\_9hr'\n",
       "\\item 'label\\_max12'\n",
       "\\item 'label\\_12hr\\_recent'\n",
       "\\item 'death\\_12hr\\_max\\_label'\n",
       "\\item 'death\\_12hr\\_recent\\_label'\n",
       "\\item 'acute\\_to\\_critical\\_label\\_recent\\_12hr'\n",
       "\\item 'critical\\_to\\_acute\\_label\\_recent\\_12hr'\n",
       "\\item 'acute\\_to\\_critical\\_label\\_max\\_12hr'\n",
       "\\item 'critical\\_to\\_acute\\_label\\_max\\_12hr'\n",
       "\\item 'label\\_max24'\n",
       "\\item 'label\\_24hr\\_recent'\n",
       "\\item 'death\\_24hr\\_max\\_label'\n",
       "\\item 'death\\_24hr\\_recent\\_label'\n",
       "\\item 'acute\\_to\\_critical\\_label\\_recent\\_24hr'\n",
       "\\item 'critical\\_to\\_acute\\_label\\_recent\\_24hr'\n",
       "\\item 'acute\\_to\\_critical\\_label\\_max\\_24hr'\n",
       "\\item 'critical\\_to\\_acute\\_label\\_max\\_24hr'\n",
       "\\end{enumerate*}\n"
      ],
      "text/markdown": [
       "1. 'anon_id'\n",
       "2. 'pat_enc_csn_id_coded'\n",
       "3. 'admit_time'\n",
       "4. 'label_max3'\n",
       "5. 'label_3hr_recent'\n",
       "6. 'admit_label'\n",
       "7. 'has_admit_label'\n",
       "8. 'died_within_24hrs'\n",
       "9. 'death_3hr_max_label'\n",
       "10. 'death_3hr_recent_label'\n",
       "11. 'first_label'\n",
       "12. 'first_label_minutes_since_admit'\n",
       "13. 'acute_to_critical_label_recent_3hr'\n",
       "14. 'critical_to_acute_label_recent_3hr'\n",
       "15. 'acute_to_critical_label_max_3hr'\n",
       "16. 'critical_to_acute_label_max_3hr'\n",
       "17. 'label_max6'\n",
       "18. 'label_6hr_recent'\n",
       "19. 'death_6hr_max_label'\n",
       "20. 'death_6hr_recent_label'\n",
       "21. 'acute_to_critical_label_recent_6hr'\n",
       "22. 'critical_to_acute_label_recent_6hr'\n",
       "23. 'acute_to_critical_label_max_6hr'\n",
       "24. 'critical_to_acute_label_max_6hr'\n",
       "25. 'label_max9'\n",
       "26. 'label_9hr_recent'\n",
       "27. 'death_9hr_max_label'\n",
       "28. 'death_9hr_recent_label'\n",
       "29. 'acute_to_critical_label_recent_9hr'\n",
       "30. 'critical_to_acute_label_recent_9hr'\n",
       "31. 'acute_to_critical_label_max_9hr'\n",
       "32. 'critical_to_acute_label_max_9hr'\n",
       "33. 'label_max12'\n",
       "34. 'label_12hr_recent'\n",
       "35. 'death_12hr_max_label'\n",
       "36. 'death_12hr_recent_label'\n",
       "37. 'acute_to_critical_label_recent_12hr'\n",
       "38. 'critical_to_acute_label_recent_12hr'\n",
       "39. 'acute_to_critical_label_max_12hr'\n",
       "40. 'critical_to_acute_label_max_12hr'\n",
       "41. 'label_max24'\n",
       "42. 'label_24hr_recent'\n",
       "43. 'death_24hr_max_label'\n",
       "44. 'death_24hr_recent_label'\n",
       "45. 'acute_to_critical_label_recent_24hr'\n",
       "46. 'critical_to_acute_label_recent_24hr'\n",
       "47. 'acute_to_critical_label_max_24hr'\n",
       "48. 'critical_to_acute_label_max_24hr'\n",
       "\n",
       "\n"
      ],
      "text/plain": [
       " [1] \"anon_id\"                             \"pat_enc_csn_id_coded\"               \n",
       " [3] \"admit_time\"                          \"label_max3\"                         \n",
       " [5] \"label_3hr_recent\"                    \"admit_label\"                        \n",
       " [7] \"has_admit_label\"                     \"died_within_24hrs\"                  \n",
       " [9] \"death_3hr_max_label\"                 \"death_3hr_recent_label\"             \n",
       "[11] \"first_label\"                         \"first_label_minutes_since_admit\"    \n",
       "[13] \"acute_to_critical_label_recent_3hr\"  \"critical_to_acute_label_recent_3hr\" \n",
       "[15] \"acute_to_critical_label_max_3hr\"     \"critical_to_acute_label_max_3hr\"    \n",
       "[17] \"label_max6\"                          \"label_6hr_recent\"                   \n",
       "[19] \"death_6hr_max_label\"                 \"death_6hr_recent_label\"             \n",
       "[21] \"acute_to_critical_label_recent_6hr\"  \"critical_to_acute_label_recent_6hr\" \n",
       "[23] \"acute_to_critical_label_max_6hr\"     \"critical_to_acute_label_max_6hr\"    \n",
       "[25] \"label_max9\"                          \"label_9hr_recent\"                   \n",
       "[27] \"death_9hr_max_label\"                 \"death_9hr_recent_label\"             \n",
       "[29] \"acute_to_critical_label_recent_9hr\"  \"critical_to_acute_label_recent_9hr\" \n",
       "[31] \"acute_to_critical_label_max_9hr\"     \"critical_to_acute_label_max_9hr\"    \n",
       "[33] \"label_max12\"                         \"label_12hr_recent\"                  \n",
       "[35] \"death_12hr_max_label\"                \"death_12hr_recent_label\"            \n",
       "[37] \"acute_to_critical_label_recent_12hr\" \"critical_to_acute_label_recent_12hr\"\n",
       "[39] \"acute_to_critical_label_max_12hr\"    \"critical_to_acute_label_max_12hr\"   \n",
       "[41] \"label_max24\"                         \"label_24hr_recent\"                  \n",
       "[43] \"death_24hr_max_label\"                \"death_24hr_recent_label\"            \n",
       "[45] \"acute_to_critical_label_recent_24hr\" \"critical_to_acute_label_recent_24hr\"\n",
       "[47] \"acute_to_critical_label_max_24hr\"    \"critical_to_acute_label_max_24hr\"   "
      ]
     },
     "metadata": {},
     "output_type": "display_data"
    }
   ],
   "source": [
    "cohort_final <- left_join(cohort_no_op, cohort_labels)\n",
    "dim(cohort_final) # 52532, 48\n",
    "head(cohort_final, 1)\n",
    "colnames(cohort_final)"
   ]
  },
  {
   "cell_type": "code",
   "execution_count": 43,
   "id": "18b64d79",
   "metadata": {},
   "outputs": [
    {
     "data": {
      "text/html": [
       "386"
      ],
      "text/latex": [
       "386"
      ],
      "text/markdown": [
       "386"
      ],
      "text/plain": [
       "[1] 386"
      ]
     },
     "metadata": {},
     "output_type": "display_data"
    },
    {
     "data": {
      "text/plain": [
       "   anon_id          pat_enc_csn_id_coded   admit_time                 \n",
       " Length:52532       Min.   :1.311e+11    Min.   :2015-01-01 06:30:00  \n",
       " Class :character   1st Qu.:1.312e+11    1st Qu.:2016-12-19 23:49:45  \n",
       " Mode  :character   Median :1.313e+11    Median :2018-11-14 01:22:00  \n",
       "                    Mean   :1.312e+11    Mean   :2018-08-31 11:06:06  \n",
       "                    3rd Qu.:1.313e+11    3rd Qu.:2020-05-28 22:04:00  \n",
       "                    Max.   :1.313e+11    Max.   :2021-09-30 07:00:00  \n",
       "                                                                      \n",
       "   label_max3     label_3hr_recent  admit_label     has_admit_label \n",
       " Min.   :0.0000   Min.   :0.0000   Min.   :0.0000   Min.   :0.0000  \n",
       " 1st Qu.:0.0000   1st Qu.:0.0000   1st Qu.:0.0000   1st Qu.:1.0000  \n",
       " Median :0.0000   Median :0.0000   Median :0.0000   Median :1.0000  \n",
       " Mean   :0.1142   Mean   :0.1114   Mean   :0.1078   Mean   :0.9927  \n",
       " 3rd Qu.:0.0000   3rd Qu.:0.0000   3rd Qu.:0.0000   3rd Qu.:1.0000  \n",
       " Max.   :1.0000   Max.   :1.0000   Max.   :1.0000   Max.   :1.0000  \n",
       "                                   NA's   :386                      \n",
       " died_within_24hrs  death_3hr_max_label death_3hr_recent_label  first_label    \n",
       " Min.   :0.000000   Min.   :0.0000      Min.   :0.000          Min.   :0.0000  \n",
       " 1st Qu.:0.000000   1st Qu.:0.0000      1st Qu.:0.000          1st Qu.:0.0000  \n",
       " Median :0.000000   Median :0.0000      Median :0.000          Median :0.0000  \n",
       " Mean   :0.001485   Mean   :0.1148      Mean   :0.112          Mean   :0.1077  \n",
       " 3rd Qu.:0.000000   3rd Qu.:0.0000      3rd Qu.:0.000          3rd Qu.:0.0000  \n",
       " Max.   :1.000000   Max.   :1.0000      Max.   :1.000          Max.   :1.0000  \n",
       "                                                                               \n",
       " first_label_minutes_since_admit acute_to_critical_label_recent_3hr\n",
       " Min.   :  0.0000                Min.   :0.000000                  \n",
       " 1st Qu.:  0.0000                1st Qu.:0.000000                  \n",
       " Median :  0.0000                Median :0.000000                  \n",
       " Mean   :  0.4155                Mean   :0.006853                  \n",
       " 3rd Qu.:  0.0000                3rd Qu.:0.000000                  \n",
       " Max.   :179.0000                Max.   :1.000000                  \n",
       "                                                                   \n",
       " critical_to_acute_label_recent_3hr acute_to_critical_label_max_3hr\n",
       " Min.   :0.000000                   Min.   :0.0000                 \n",
       " 1st Qu.:0.000000                   1st Qu.:0.0000                 \n",
       " Median :0.000000                   Median :0.0000                 \n",
       " Mean   :0.002551                   Mean   :0.0071                 \n",
       " 3rd Qu.:0.000000                   3rd Qu.:0.0000                 \n",
       " Max.   :1.000000                   Max.   :1.0000                 \n",
       "                                                                   \n",
       " critical_to_acute_label_max_3hr   label_max6    label_6hr_recent\n",
       " Min.   :0                       Min.   :0.000   Min.   :0.0000  \n",
       " 1st Qu.:0                       1st Qu.:0.000   1st Qu.:0.0000  \n",
       " Median :0                       Median :0.000   Median :0.0000  \n",
       " Mean   :0                       Mean   :0.119   Mean   :0.1125  \n",
       " 3rd Qu.:0                       3rd Qu.:0.000   3rd Qu.:0.0000  \n",
       " Max.   :0                       Max.   :1.000   Max.   :1.0000  \n",
       "                                                                 \n",
       " death_6hr_max_label death_6hr_recent_label acute_to_critical_label_recent_6hr\n",
       " Min.   :0.0000      Min.   :0.0000         Min.   :0.00000                   \n",
       " 1st Qu.:0.0000      1st Qu.:0.0000         1st Qu.:0.00000                   \n",
       " Median :0.0000      Median :0.0000         Median :0.00000                   \n",
       " Mean   :0.1195      Mean   :0.1132         Mean   :0.01136                   \n",
       " 3rd Qu.:0.0000      3rd Qu.:0.0000         3rd Qu.:0.00000                   \n",
       " Max.   :1.0000      Max.   :1.0000         Max.   :1.00000                   \n",
       "                                                                              \n",
       " critical_to_acute_label_recent_6hr acute_to_critical_label_max_6hr\n",
       " Min.   :0.00000                    Min.   :0.00000                \n",
       " 1st Qu.:0.00000                    1st Qu.:0.00000                \n",
       " Median :0.00000                    Median :0.00000                \n",
       " Mean   :0.00592                    Mean   :0.01184                \n",
       " 3rd Qu.:0.00000                    3rd Qu.:0.00000                \n",
       " Max.   :1.00000                    Max.   :1.00000                \n",
       "                                                                   \n",
       " critical_to_acute_label_max_6hr   label_max9     label_9hr_recent\n",
       " Min.   :0                       Min.   :0.0000   Min.   :0.0000  \n",
       " 1st Qu.:0                       1st Qu.:0.0000   1st Qu.:0.0000  \n",
       " Median :0                       Median :0.0000   Median :0.0000  \n",
       " Mean   :0                       Mean   :0.1221   Mean   :0.1123  \n",
       " 3rd Qu.:0                       3rd Qu.:0.0000   3rd Qu.:0.0000  \n",
       " Max.   :0                       Max.   :1.0000   Max.   :1.0000  \n",
       "                                                                  \n",
       " death_9hr_max_label death_9hr_recent_label acute_to_critical_label_recent_9hr\n",
       " Min.   :0.0000      Min.   :0.0000         Min.   :0.00000                   \n",
       " 1st Qu.:0.0000      1st Qu.:0.0000         1st Qu.:0.00000                   \n",
       " Median :0.0000      Median :0.0000         Median :0.00000                   \n",
       " Mean   :0.1226      Mean   :0.1129         Mean   :0.01412                   \n",
       " 3rd Qu.:0.0000      3rd Qu.:0.0000         3rd Qu.:0.00000                   \n",
       " Max.   :1.0000      Max.   :1.0000         Max.   :1.00000                   \n",
       "                                                                              \n",
       " critical_to_acute_label_recent_9hr acute_to_critical_label_max_9hr\n",
       " Min.   :0.000000                   Min.   :0.00000                \n",
       " 1st Qu.:0.000000                   1st Qu.:0.00000                \n",
       " Median :0.000000                   Median :0.00000                \n",
       " Mean   :0.008928                   Mean   :0.01492                \n",
       " 3rd Qu.:0.000000                   3rd Qu.:0.00000                \n",
       " Max.   :1.000000                   Max.   :1.00000                \n",
       "                                                                   \n",
       " critical_to_acute_label_max_9hr  label_max12     label_12hr_recent\n",
       " Min.   :0                       Min.   :0.0000   Min.   :0.0000   \n",
       " 1st Qu.:0                       1st Qu.:0.0000   1st Qu.:0.0000   \n",
       " Median :0                       Median :0.0000   Median :0.0000   \n",
       " Mean   :0                       Mean   :0.1239   Mean   :0.1104   \n",
       " 3rd Qu.:0                       3rd Qu.:0.0000   3rd Qu.:0.0000   \n",
       " Max.   :0                       Max.   :1.0000   Max.   :1.0000   \n",
       "                                                                   \n",
       " death_12hr_max_label death_12hr_recent_label\n",
       " Min.   :0.0000       Min.   :0.000          \n",
       " 1st Qu.:0.0000       1st Qu.:0.000          \n",
       " Median :0.0000       Median :0.000          \n",
       " Mean   :0.1245       Mean   :0.111          \n",
       " 3rd Qu.:0.0000       3rd Qu.:0.000          \n",
       " Max.   :1.0000       Max.   :1.000          \n",
       "                                             \n",
       " acute_to_critical_label_recent_12hr critical_to_acute_label_recent_12hr\n",
       " Min.   :0.00000                     Min.   :0.00000                    \n",
       " 1st Qu.:0.00000                     1st Qu.:0.00000                    \n",
       " Median :0.00000                     Median :0.00000                    \n",
       " Mean   :0.01572                     Mean   :0.01243                    \n",
       " 3rd Qu.:0.00000                     3rd Qu.:0.00000                    \n",
       " Max.   :1.00000                     Max.   :1.00000                    \n",
       "                                                                        \n",
       " acute_to_critical_label_max_12hr critical_to_acute_label_max_12hr\n",
       " Min.   :0.00000                  Min.   :0                       \n",
       " 1st Qu.:0.00000                  1st Qu.:0                       \n",
       " Median :0.00000                  Median :0                       \n",
       " Mean   :0.01677                  Mean   :0                       \n",
       " 3rd Qu.:0.00000                  3rd Qu.:0                       \n",
       " Max.   :1.00000                  Max.   :0                       \n",
       "                                                                  \n",
       "  label_max24     label_24hr_recent death_24hr_max_label\n",
       " Min.   :0.0000   Min.   :0.00000   Min.   :0.0000      \n",
       " 1st Qu.:0.0000   1st Qu.:0.00000   1st Qu.:0.0000      \n",
       " Median :0.0000   Median :0.00000   Median :0.0000      \n",
       " Mean   :0.1298   Mean   :0.08852   Mean   :0.1302      \n",
       " 3rd Qu.:0.0000   3rd Qu.:0.00000   3rd Qu.:0.0000      \n",
       " Max.   :1.0000   Max.   :1.00000   Max.   :1.0000      \n",
       "                                                        \n",
       " death_24hr_recent_label acute_to_critical_label_recent_24hr\n",
       " Min.   :0.00000         Min.   :0.00000                    \n",
       " 1st Qu.:0.00000         1st Qu.:0.00000                    \n",
       " Median :0.00000         Median :0.00000                    \n",
       " Mean   :0.08901         Mean   :0.01805                    \n",
       " 3rd Qu.:0.00000         3rd Qu.:0.00000                    \n",
       " Max.   :1.00000         Max.   :1.00000                    \n",
       "                                                            \n",
       " critical_to_acute_label_recent_24hr acute_to_critical_label_max_24hr\n",
       " Min.   :0.00000                     Min.   :0.0000                  \n",
       " 1st Qu.:0.00000                     1st Qu.:0.0000                  \n",
       " Median :0.00000                     Median :0.0000                  \n",
       " Mean   :0.03674                     Mean   :0.0225                  \n",
       " 3rd Qu.:0.00000                     3rd Qu.:0.0000                  \n",
       " Max.   :1.00000                     Max.   :1.0000                  \n",
       "                                                                     \n",
       " critical_to_acute_label_max_24hr\n",
       " Min.   :0                       \n",
       " 1st Qu.:0                       \n",
       " Median :0                       \n",
       " Mean   :0                       \n",
       " 3rd Qu.:0                       \n",
       " Max.   :0                       \n",
       "                                 "
      ]
     },
     "metadata": {},
     "output_type": "display_data"
    }
   ],
   "source": [
    "sum(is.na(cohort_final))\n",
    "summary(cohort_final)"
   ]
  },
  {
   "cell_type": "code",
   "execution_count": 20,
   "id": "7c2dda4b",
   "metadata": {},
   "outputs": [],
   "source": [
    "# cohort has labels within the first 3 hours, and no OR\n",
    "write.csv(cohort_final, file = file.path(outdir, \"7_cohort4_3hr_labels_noOR.csv\"), row.names=FALSE) "
   ]
  },
  {
   "cell_type": "markdown",
   "id": "ba68a11e",
   "metadata": {},
   "source": [
    "### DKA patients"
   ]
  },
  {
   "cell_type": "code",
   "execution_count": 44,
   "id": "6fb1e6e3",
   "metadata": {},
   "outputs": [
    {
     "name": "stderr",
     "output_type": "stream",
     "text": [
      "\n",
      "\u001b[36m──\u001b[39m \u001b[1m\u001b[1mColumn specification\u001b[1m\u001b[22m \u001b[36m────────────────────────────────────────────────────────\u001b[39m\n",
      "cols(\n",
      "  dx_name = \u001b[31mcol_character()\u001b[39m,\n",
      "  icd10 = \u001b[31mcol_character()\u001b[39m,\n",
      "  pat_enc_csn_id_jittered = \u001b[32mcol_double()\u001b[39m\n",
      ")\n",
      "\n",
      "\n"
     ]
    },
    {
     "data": {
      "text/html": [
       "3640536"
      ],
      "text/latex": [
       "3640536"
      ],
      "text/markdown": [
       "3640536"
      ],
      "text/plain": [
       "[1] 3640536"
      ]
     },
     "metadata": {},
     "output_type": "display_data"
    }
   ],
   "source": [
    "dx <- read_csv(file.path(datadir, \"diagnosis_2021.csv\")) # %>% mutate(admit_time = ymd_hms(admit_time))\n",
    "nrow(dx) #3640536"
   ]
  },
  {
   "cell_type": "code",
   "execution_count": 45,
   "id": "c12f1916",
   "metadata": {},
   "outputs": [
    {
     "data": {
      "text/html": [
       "<table class=\"dataframe\">\n",
       "<caption>A tibble: 1 × 3</caption>\n",
       "<thead>\n",
       "\t<tr><th scope=col>dx_name</th><th scope=col>icd10</th><th scope=col>pat_enc_csn_id_jittered</th></tr>\n",
       "\t<tr><th scope=col>&lt;chr&gt;</th><th scope=col>&lt;chr&gt;</th><th scope=col>&lt;dbl&gt;</th></tr>\n",
       "</thead>\n",
       "<tbody>\n",
       "\t<tr><td>Hodgkin's disease, unspecified type, of lymph nodes of multiple sites</td><td>C81.98</td><td>131066472308</td></tr>\n",
       "</tbody>\n",
       "</table>\n"
      ],
      "text/latex": [
       "A tibble: 1 × 3\n",
       "\\begin{tabular}{lll}\n",
       " dx\\_name & icd10 & pat\\_enc\\_csn\\_id\\_jittered\\\\\n",
       " <chr> & <chr> & <dbl>\\\\\n",
       "\\hline\n",
       "\t Hodgkin's disease, unspecified type, of lymph nodes of multiple sites & C81.98 & 131066472308\\\\\n",
       "\\end{tabular}\n"
      ],
      "text/markdown": [
       "\n",
       "A tibble: 1 × 3\n",
       "\n",
       "| dx_name &lt;chr&gt; | icd10 &lt;chr&gt; | pat_enc_csn_id_jittered &lt;dbl&gt; |\n",
       "|---|---|---|\n",
       "| Hodgkin's disease, unspecified type, of lymph nodes of multiple sites | C81.98 | 131066472308 |\n",
       "\n"
      ],
      "text/plain": [
       "  dx_name                                                               icd10 \n",
       "1 Hodgkin's disease, unspecified type, of lymph nodes of multiple sites C81.98\n",
       "  pat_enc_csn_id_jittered\n",
       "1 131066472308           "
      ]
     },
     "metadata": {},
     "output_type": "display_data"
    }
   ],
   "source": [
    "head(dx,1)"
   ]
  },
  {
   "cell_type": "code",
   "execution_count": 46,
   "id": "2b4ed40a",
   "metadata": {},
   "outputs": [
    {
     "data": {
      "text/html": [
       "<table class=\"dataframe\">\n",
       "<caption>A tibble: 49 × 1</caption>\n",
       "<thead>\n",
       "\t<tr><th scope=col>dx_name</th></tr>\n",
       "\t<tr><th scope=col>&lt;chr&gt;</th></tr>\n",
       "</thead>\n",
       "<tbody>\n",
       "\t<tr><td>Diabetic ketoacidosis without coma associated with type 2 diabetes mellitus (CMS-HCC)                                        </td></tr>\n",
       "\t<tr><td>Type 2 diabetes mellitus with ketoacidosis without coma                                                                      </td></tr>\n",
       "\t<tr><td>Other specified diabetes mellitus with ketoacidosis without coma                                                             </td></tr>\n",
       "\t<tr><td>Diabetic ketoacidosis without coma associated with type 1 diabetes mellitus (CMS-HCC)                                        </td></tr>\n",
       "\t<tr><td>Type 1 diabetes mellitus with ketoacidosis without coma                                                                      </td></tr>\n",
       "\t<tr><td>Type 1 diabetes mellitus with ketoacidosis without coma (CMS-HCC)                                                            </td></tr>\n",
       "\t<tr><td>Diabetic ketoacidosis with coma associated with other specified diabetes mellitus (CMS-HCC)                                  </td></tr>\n",
       "\t<tr><td>Other specified diabetes mellitus with ketoacidosis with coma                                                                </td></tr>\n",
       "\t<tr><td>Diabetic ketoacidosis without coma associated with other specified diabetes mellitus (CMS-HCC)                               </td></tr>\n",
       "\t<tr><td>Diabetes mellitus due to underlying condition with ketoacidosis without coma                                                 </td></tr>\n",
       "\t<tr><td>Diabetic ketoacidosis without coma associated with diabetes mellitus due to underlying condition (CMS-HCC)                   </td></tr>\n",
       "\t<tr><td>Type II or unspecified type diabetes mellitus with ketoacidosis, uncontrolled(250.12)                                        </td></tr>\n",
       "\t<tr><td>Secondary diabetes mellitus with ketoacidosis, uncontrolled (CMS-HCC)                                                        </td></tr>\n",
       "\t<tr><td>Type 2 diabetes mellitus with ketoacidosis without coma, with long-term current use of insulin (CMS-HCC)                     </td></tr>\n",
       "\t<tr><td>Type II diabetes mellitus with ketoacidosis, uncontrolled (CMS-HCC)                                                          </td></tr>\n",
       "\t<tr><td>Drug or chemical induced diabetes mellitus with ketoacidosis without coma                                                    </td></tr>\n",
       "\t<tr><td>Type 2 diabetes mellitus with ketoacidosis without coma, without long-term current use of insulin (CMS-HCC)                  </td></tr>\n",
       "\t<tr><td>DKA (diabetic ketoacidosis) (CMS-HCC)                                                                                        </td></tr>\n",
       "\t<tr><td>Diabetes with ketoacidosis (CMS-HCC)                                                                                         </td></tr>\n",
       "\t<tr><td>Diabetes mellitus of other type with ketoacidosis without coma, unspecified long term insulin use status                     </td></tr>\n",
       "\t<tr><td>Diabetic ketoacidosis with coma associated with type 2 diabetes mellitus (CMS-HCC)                                           </td></tr>\n",
       "\t<tr><td>Hyperosmolar hyperglycemic coma due to diabetes mellitus without ketoacidosis (CMS-HCC)                                      </td></tr>\n",
       "\t<tr><td>Diabetic ketoacidosis without coma (CMS-HCC)                                                                                 </td></tr>\n",
       "\t<tr><td>Type II or unspecified type diabetes mellitus with ketoacidosis, not stated as uncontrolled                                  </td></tr>\n",
       "\t<tr><td>DKA (diabetic ketoacidoses)                                                                                                  </td></tr>\n",
       "\t<tr><td>Type I (juvenile type) diabetes mellitus with ketoacidosis, not stated as uncontrolled(250.11)                               </td></tr>\n",
       "\t<tr><td>Type I (juvenile type) diabetes mellitus with ketoacidosis, uncontrolled                                                     </td></tr>\n",
       "\t<tr><td>Type 1 diabetes mellitus with ketoacidosis with coma                                                                         </td></tr>\n",
       "\t<tr><td>Diabetic ketoacidosis with coma associated with type 1 diabetes mellitus (CMS-HCC)                                           </td></tr>\n",
       "\t<tr><td>Type 2 diabetes mellitus with ketoacidosis without coma, unspecified long term insulin use status                            </td></tr>\n",
       "\t<tr><td>Diabetes mellitus due to underlying condition with ketoacidosis with coma                                                    </td></tr>\n",
       "\t<tr><td>Diabetes mellitus due to underlying condition with ketoacidosis without coma, unspecified long term insulin use status       </td></tr>\n",
       "\t<tr><td>Diabetic ketoacidosis with coma associated with drug or chemical induced diabetes mellitus (CMS-HCC)                         </td></tr>\n",
       "\t<tr><td>Diabetes mellitus due to underlying condition with ketoacidosis without coma, with long-term current use of insulin (CMS-HCC)</td></tr>\n",
       "\t<tr><td>Type 2 diabetes mellitus with ketoacidosis without coma, unspecified whether long term insulin use (CMS-HCC)                 </td></tr>\n",
       "\t<tr><td>Type I diabetes mellitus with ketoacidosis (CMS-HCC)                                                                         </td></tr>\n",
       "\t<tr><td>Type 2 diabetes mellitus with ketoacidosis without coma (CMS-HCC)                                                            </td></tr>\n",
       "\t<tr><td>Diabetic ketoacidosis with coma associated with diabetes mellitus due to underlying condition (CMS-HCC)                      </td></tr>\n",
       "\t<tr><td>Type 1 diabetes mellitus with ketoacidosis and without coma (CMS-HCC)                                                        </td></tr>\n",
       "\t<tr><td>Diabetic ketoacidosis associated with other specified diabetes mellitus                                                      </td></tr>\n",
       "\t<tr><td>Diabetic ketoacidosis without coma associated with drug or chemical induced diabetes mellitus (CMS-HCC)                      </td></tr>\n",
       "\t<tr><td>Uncontrolled type 2 diabetes mellitus with ketoacidosis without coma, with long-term current use of insulin (CMS-HCC)        </td></tr>\n",
       "\t<tr><td>Type 2 diabetes mellitus with ketoacidosis with coma                                                                         </td></tr>\n",
       "\t<tr><td>Diabetes mellitus with ketoacidosis, uncontrolled (CMS-HCC)                                                                  </td></tr>\n",
       "\t<tr><td>Diabetic ketoacidosis (CMS-HCC)                                                                                              </td></tr>\n",
       "\t<tr><td>DKA, type 1 (CMS-HCC)                                                                                                        </td></tr>\n",
       "\t<tr><td>Uncontrolled type 2 diabetes mellitus with ketoacidosis without coma, unspecified long term insulin use status               </td></tr>\n",
       "\t<tr><td>Uncontrolled type 1 diabetes mellitus with ketoacidosis without coma (CMS-HCC)                                               </td></tr>\n",
       "\t<tr><td>Drug or chemical induced diabetes mellitus with ketoacidosis with coma (CMS-HCC)                                             </td></tr>\n",
       "</tbody>\n",
       "</table>\n"
      ],
      "text/latex": [
       "A tibble: 49 × 1\n",
       "\\begin{tabular}{l}\n",
       " dx\\_name\\\\\n",
       " <chr>\\\\\n",
       "\\hline\n",
       "\t Diabetic ketoacidosis without coma associated with type 2 diabetes mellitus (CMS-HCC)                                        \\\\\n",
       "\t Type 2 diabetes mellitus with ketoacidosis without coma                                                                      \\\\\n",
       "\t Other specified diabetes mellitus with ketoacidosis without coma                                                             \\\\\n",
       "\t Diabetic ketoacidosis without coma associated with type 1 diabetes mellitus (CMS-HCC)                                        \\\\\n",
       "\t Type 1 diabetes mellitus with ketoacidosis without coma                                                                      \\\\\n",
       "\t Type 1 diabetes mellitus with ketoacidosis without coma (CMS-HCC)                                                            \\\\\n",
       "\t Diabetic ketoacidosis with coma associated with other specified diabetes mellitus (CMS-HCC)                                  \\\\\n",
       "\t Other specified diabetes mellitus with ketoacidosis with coma                                                                \\\\\n",
       "\t Diabetic ketoacidosis without coma associated with other specified diabetes mellitus (CMS-HCC)                               \\\\\n",
       "\t Diabetes mellitus due to underlying condition with ketoacidosis without coma                                                 \\\\\n",
       "\t Diabetic ketoacidosis without coma associated with diabetes mellitus due to underlying condition (CMS-HCC)                   \\\\\n",
       "\t Type II or unspecified type diabetes mellitus with ketoacidosis, uncontrolled(250.12)                                        \\\\\n",
       "\t Secondary diabetes mellitus with ketoacidosis, uncontrolled (CMS-HCC)                                                        \\\\\n",
       "\t Type 2 diabetes mellitus with ketoacidosis without coma, with long-term current use of insulin (CMS-HCC)                     \\\\\n",
       "\t Type II diabetes mellitus with ketoacidosis, uncontrolled (CMS-HCC)                                                          \\\\\n",
       "\t Drug or chemical induced diabetes mellitus with ketoacidosis without coma                                                    \\\\\n",
       "\t Type 2 diabetes mellitus with ketoacidosis without coma, without long-term current use of insulin (CMS-HCC)                  \\\\\n",
       "\t DKA (diabetic ketoacidosis) (CMS-HCC)                                                                                        \\\\\n",
       "\t Diabetes with ketoacidosis (CMS-HCC)                                                                                         \\\\\n",
       "\t Diabetes mellitus of other type with ketoacidosis without coma, unspecified long term insulin use status                     \\\\\n",
       "\t Diabetic ketoacidosis with coma associated with type 2 diabetes mellitus (CMS-HCC)                                           \\\\\n",
       "\t Hyperosmolar hyperglycemic coma due to diabetes mellitus without ketoacidosis (CMS-HCC)                                      \\\\\n",
       "\t Diabetic ketoacidosis without coma (CMS-HCC)                                                                                 \\\\\n",
       "\t Type II or unspecified type diabetes mellitus with ketoacidosis, not stated as uncontrolled                                  \\\\\n",
       "\t DKA (diabetic ketoacidoses)                                                                                                  \\\\\n",
       "\t Type I (juvenile type) diabetes mellitus with ketoacidosis, not stated as uncontrolled(250.11)                               \\\\\n",
       "\t Type I (juvenile type) diabetes mellitus with ketoacidosis, uncontrolled                                                     \\\\\n",
       "\t Type 1 diabetes mellitus with ketoacidosis with coma                                                                         \\\\\n",
       "\t Diabetic ketoacidosis with coma associated with type 1 diabetes mellitus (CMS-HCC)                                           \\\\\n",
       "\t Type 2 diabetes mellitus with ketoacidosis without coma, unspecified long term insulin use status                            \\\\\n",
       "\t Diabetes mellitus due to underlying condition with ketoacidosis with coma                                                    \\\\\n",
       "\t Diabetes mellitus due to underlying condition with ketoacidosis without coma, unspecified long term insulin use status       \\\\\n",
       "\t Diabetic ketoacidosis with coma associated with drug or chemical induced diabetes mellitus (CMS-HCC)                         \\\\\n",
       "\t Diabetes mellitus due to underlying condition with ketoacidosis without coma, with long-term current use of insulin (CMS-HCC)\\\\\n",
       "\t Type 2 diabetes mellitus with ketoacidosis without coma, unspecified whether long term insulin use (CMS-HCC)                 \\\\\n",
       "\t Type I diabetes mellitus with ketoacidosis (CMS-HCC)                                                                         \\\\\n",
       "\t Type 2 diabetes mellitus with ketoacidosis without coma (CMS-HCC)                                                            \\\\\n",
       "\t Diabetic ketoacidosis with coma associated with diabetes mellitus due to underlying condition (CMS-HCC)                      \\\\\n",
       "\t Type 1 diabetes mellitus with ketoacidosis and without coma (CMS-HCC)                                                        \\\\\n",
       "\t Diabetic ketoacidosis associated with other specified diabetes mellitus                                                      \\\\\n",
       "\t Diabetic ketoacidosis without coma associated with drug or chemical induced diabetes mellitus (CMS-HCC)                      \\\\\n",
       "\t Uncontrolled type 2 diabetes mellitus with ketoacidosis without coma, with long-term current use of insulin (CMS-HCC)        \\\\\n",
       "\t Type 2 diabetes mellitus with ketoacidosis with coma                                                                         \\\\\n",
       "\t Diabetes mellitus with ketoacidosis, uncontrolled (CMS-HCC)                                                                  \\\\\n",
       "\t Diabetic ketoacidosis (CMS-HCC)                                                                                              \\\\\n",
       "\t DKA, type 1 (CMS-HCC)                                                                                                        \\\\\n",
       "\t Uncontrolled type 2 diabetes mellitus with ketoacidosis without coma, unspecified long term insulin use status               \\\\\n",
       "\t Uncontrolled type 1 diabetes mellitus with ketoacidosis without coma (CMS-HCC)                                               \\\\\n",
       "\t Drug or chemical induced diabetes mellitus with ketoacidosis with coma (CMS-HCC)                                             \\\\\n",
       "\\end{tabular}\n"
      ],
      "text/markdown": [
       "\n",
       "A tibble: 49 × 1\n",
       "\n",
       "| dx_name &lt;chr&gt; |\n",
       "|---|\n",
       "| Diabetic ketoacidosis without coma associated with type 2 diabetes mellitus (CMS-HCC)                                         |\n",
       "| Type 2 diabetes mellitus with ketoacidosis without coma                                                                       |\n",
       "| Other specified diabetes mellitus with ketoacidosis without coma                                                              |\n",
       "| Diabetic ketoacidosis without coma associated with type 1 diabetes mellitus (CMS-HCC)                                         |\n",
       "| Type 1 diabetes mellitus with ketoacidosis without coma                                                                       |\n",
       "| Type 1 diabetes mellitus with ketoacidosis without coma (CMS-HCC)                                                             |\n",
       "| Diabetic ketoacidosis with coma associated with other specified diabetes mellitus (CMS-HCC)                                   |\n",
       "| Other specified diabetes mellitus with ketoacidosis with coma                                                                 |\n",
       "| Diabetic ketoacidosis without coma associated with other specified diabetes mellitus (CMS-HCC)                                |\n",
       "| Diabetes mellitus due to underlying condition with ketoacidosis without coma                                                  |\n",
       "| Diabetic ketoacidosis without coma associated with diabetes mellitus due to underlying condition (CMS-HCC)                    |\n",
       "| Type II or unspecified type diabetes mellitus with ketoacidosis, uncontrolled(250.12)                                         |\n",
       "| Secondary diabetes mellitus with ketoacidosis, uncontrolled (CMS-HCC)                                                         |\n",
       "| Type 2 diabetes mellitus with ketoacidosis without coma, with long-term current use of insulin (CMS-HCC)                      |\n",
       "| Type II diabetes mellitus with ketoacidosis, uncontrolled (CMS-HCC)                                                           |\n",
       "| Drug or chemical induced diabetes mellitus with ketoacidosis without coma                                                     |\n",
       "| Type 2 diabetes mellitus with ketoacidosis without coma, without long-term current use of insulin (CMS-HCC)                   |\n",
       "| DKA (diabetic ketoacidosis) (CMS-HCC)                                                                                         |\n",
       "| Diabetes with ketoacidosis (CMS-HCC)                                                                                          |\n",
       "| Diabetes mellitus of other type with ketoacidosis without coma, unspecified long term insulin use status                      |\n",
       "| Diabetic ketoacidosis with coma associated with type 2 diabetes mellitus (CMS-HCC)                                            |\n",
       "| Hyperosmolar hyperglycemic coma due to diabetes mellitus without ketoacidosis (CMS-HCC)                                       |\n",
       "| Diabetic ketoacidosis without coma (CMS-HCC)                                                                                  |\n",
       "| Type II or unspecified type diabetes mellitus with ketoacidosis, not stated as uncontrolled                                   |\n",
       "| DKA (diabetic ketoacidoses)                                                                                                   |\n",
       "| Type I (juvenile type) diabetes mellitus with ketoacidosis, not stated as uncontrolled(250.11)                                |\n",
       "| Type I (juvenile type) diabetes mellitus with ketoacidosis, uncontrolled                                                      |\n",
       "| Type 1 diabetes mellitus with ketoacidosis with coma                                                                          |\n",
       "| Diabetic ketoacidosis with coma associated with type 1 diabetes mellitus (CMS-HCC)                                            |\n",
       "| Type 2 diabetes mellitus with ketoacidosis without coma, unspecified long term insulin use status                             |\n",
       "| Diabetes mellitus due to underlying condition with ketoacidosis with coma                                                     |\n",
       "| Diabetes mellitus due to underlying condition with ketoacidosis without coma, unspecified long term insulin use status        |\n",
       "| Diabetic ketoacidosis with coma associated with drug or chemical induced diabetes mellitus (CMS-HCC)                          |\n",
       "| Diabetes mellitus due to underlying condition with ketoacidosis without coma, with long-term current use of insulin (CMS-HCC) |\n",
       "| Type 2 diabetes mellitus with ketoacidosis without coma, unspecified whether long term insulin use (CMS-HCC)                  |\n",
       "| Type I diabetes mellitus with ketoacidosis (CMS-HCC)                                                                          |\n",
       "| Type 2 diabetes mellitus with ketoacidosis without coma (CMS-HCC)                                                             |\n",
       "| Diabetic ketoacidosis with coma associated with diabetes mellitus due to underlying condition (CMS-HCC)                       |\n",
       "| Type 1 diabetes mellitus with ketoacidosis and without coma (CMS-HCC)                                                         |\n",
       "| Diabetic ketoacidosis associated with other specified diabetes mellitus                                                       |\n",
       "| Diabetic ketoacidosis without coma associated with drug or chemical induced diabetes mellitus (CMS-HCC)                       |\n",
       "| Uncontrolled type 2 diabetes mellitus with ketoacidosis without coma, with long-term current use of insulin (CMS-HCC)         |\n",
       "| Type 2 diabetes mellitus with ketoacidosis with coma                                                                          |\n",
       "| Diabetes mellitus with ketoacidosis, uncontrolled (CMS-HCC)                                                                   |\n",
       "| Diabetic ketoacidosis (CMS-HCC)                                                                                               |\n",
       "| DKA, type 1 (CMS-HCC)                                                                                                         |\n",
       "| Uncontrolled type 2 diabetes mellitus with ketoacidosis without coma, unspecified long term insulin use status                |\n",
       "| Uncontrolled type 1 diabetes mellitus with ketoacidosis without coma (CMS-HCC)                                                |\n",
       "| Drug or chemical induced diabetes mellitus with ketoacidosis with coma (CMS-HCC)                                              |\n",
       "\n"
      ],
      "text/plain": [
       "   dx_name                                                                                                                      \n",
       "1  Diabetic ketoacidosis without coma associated with type 2 diabetes mellitus (CMS-HCC)                                        \n",
       "2  Type 2 diabetes mellitus with ketoacidosis without coma                                                                      \n",
       "3  Other specified diabetes mellitus with ketoacidosis without coma                                                             \n",
       "4  Diabetic ketoacidosis without coma associated with type 1 diabetes mellitus (CMS-HCC)                                        \n",
       "5  Type 1 diabetes mellitus with ketoacidosis without coma                                                                      \n",
       "6  Type 1 diabetes mellitus with ketoacidosis without coma (CMS-HCC)                                                            \n",
       "7  Diabetic ketoacidosis with coma associated with other specified diabetes mellitus (CMS-HCC)                                  \n",
       "8  Other specified diabetes mellitus with ketoacidosis with coma                                                                \n",
       "9  Diabetic ketoacidosis without coma associated with other specified diabetes mellitus (CMS-HCC)                               \n",
       "10 Diabetes mellitus due to underlying condition with ketoacidosis without coma                                                 \n",
       "11 Diabetic ketoacidosis without coma associated with diabetes mellitus due to underlying condition (CMS-HCC)                   \n",
       "12 Type II or unspecified type diabetes mellitus with ketoacidosis, uncontrolled(250.12)                                        \n",
       "13 Secondary diabetes mellitus with ketoacidosis, uncontrolled (CMS-HCC)                                                        \n",
       "14 Type 2 diabetes mellitus with ketoacidosis without coma, with long-term current use of insulin (CMS-HCC)                     \n",
       "15 Type II diabetes mellitus with ketoacidosis, uncontrolled (CMS-HCC)                                                          \n",
       "16 Drug or chemical induced diabetes mellitus with ketoacidosis without coma                                                    \n",
       "17 Type 2 diabetes mellitus with ketoacidosis without coma, without long-term current use of insulin (CMS-HCC)                  \n",
       "18 DKA (diabetic ketoacidosis) (CMS-HCC)                                                                                        \n",
       "19 Diabetes with ketoacidosis (CMS-HCC)                                                                                         \n",
       "20 Diabetes mellitus of other type with ketoacidosis without coma, unspecified long term insulin use status                     \n",
       "21 Diabetic ketoacidosis with coma associated with type 2 diabetes mellitus (CMS-HCC)                                           \n",
       "22 Hyperosmolar hyperglycemic coma due to diabetes mellitus without ketoacidosis (CMS-HCC)                                      \n",
       "23 Diabetic ketoacidosis without coma (CMS-HCC)                                                                                 \n",
       "24 Type II or unspecified type diabetes mellitus with ketoacidosis, not stated as uncontrolled                                  \n",
       "25 DKA (diabetic ketoacidoses)                                                                                                  \n",
       "26 Type I (juvenile type) diabetes mellitus with ketoacidosis, not stated as uncontrolled(250.11)                               \n",
       "27 Type I (juvenile type) diabetes mellitus with ketoacidosis, uncontrolled                                                     \n",
       "28 Type 1 diabetes mellitus with ketoacidosis with coma                                                                         \n",
       "29 Diabetic ketoacidosis with coma associated with type 1 diabetes mellitus (CMS-HCC)                                           \n",
       "30 Type 2 diabetes mellitus with ketoacidosis without coma, unspecified long term insulin use status                            \n",
       "31 Diabetes mellitus due to underlying condition with ketoacidosis with coma                                                    \n",
       "32 Diabetes mellitus due to underlying condition with ketoacidosis without coma, unspecified long term insulin use status       \n",
       "33 Diabetic ketoacidosis with coma associated with drug or chemical induced diabetes mellitus (CMS-HCC)                         \n",
       "34 Diabetes mellitus due to underlying condition with ketoacidosis without coma, with long-term current use of insulin (CMS-HCC)\n",
       "35 Type 2 diabetes mellitus with ketoacidosis without coma, unspecified whether long term insulin use (CMS-HCC)                 \n",
       "36 Type I diabetes mellitus with ketoacidosis (CMS-HCC)                                                                         \n",
       "37 Type 2 diabetes mellitus with ketoacidosis without coma (CMS-HCC)                                                            \n",
       "38 Diabetic ketoacidosis with coma associated with diabetes mellitus due to underlying condition (CMS-HCC)                      \n",
       "39 Type 1 diabetes mellitus with ketoacidosis and without coma (CMS-HCC)                                                        \n",
       "40 Diabetic ketoacidosis associated with other specified diabetes mellitus                                                      \n",
       "41 Diabetic ketoacidosis without coma associated with drug or chemical induced diabetes mellitus (CMS-HCC)                      \n",
       "42 Uncontrolled type 2 diabetes mellitus with ketoacidosis without coma, with long-term current use of insulin (CMS-HCC)        \n",
       "43 Type 2 diabetes mellitus with ketoacidosis with coma                                                                         \n",
       "44 Diabetes mellitus with ketoacidosis, uncontrolled (CMS-HCC)                                                                  \n",
       "45 Diabetic ketoacidosis (CMS-HCC)                                                                                              \n",
       "46 DKA, type 1 (CMS-HCC)                                                                                                        \n",
       "47 Uncontrolled type 2 diabetes mellitus with ketoacidosis without coma, unspecified long term insulin use status               \n",
       "48 Uncontrolled type 1 diabetes mellitus with ketoacidosis without coma (CMS-HCC)                                               \n",
       "49 Drug or chemical induced diabetes mellitus with ketoacidosis with coma (CMS-HCC)                                             "
      ]
     },
     "metadata": {},
     "output_type": "display_data"
    }
   ],
   "source": [
    "# get dx_name contains both \"diabet\" and \"ketoacidos\"\n",
    "dka <- dx %>% filter(grepl(\"diabet|DKA\", dx_name, ignore.case = TRUE),  \n",
    "                     grepl(\"ketoacidos|DKA\", dx_name, ignore.case = TRUE)) %>% distinct(dx_name) #%>% arrange(-dept_id)\n",
    "dka\n",
    "\n",
    "# dx %>% filter(dx_name %in% dka$dx_name) %>% distinct(dx_name) # %>% arrange(-dept_id)"
   ]
  },
  {
   "cell_type": "code",
   "execution_count": 47,
   "id": "01a11b9e",
   "metadata": {},
   "outputs": [
    {
     "data": {
      "text/html": [
       "<table class=\"dataframe\">\n",
       "<caption>A tibble: 3 × 1</caption>\n",
       "<thead>\n",
       "\t<tr><th scope=col>dx_name</th></tr>\n",
       "\t<tr><th scope=col>&lt;chr&gt;</th></tr>\n",
       "</thead>\n",
       "<tbody>\n",
       "\t<tr><td>DKA (diabetic ketoacidosis) (CMS-HCC)</td></tr>\n",
       "\t<tr><td>DKA (diabetic ketoacidoses)          </td></tr>\n",
       "\t<tr><td>DKA, type 1 (CMS-HCC)                </td></tr>\n",
       "</tbody>\n",
       "</table>\n"
      ],
      "text/latex": [
       "A tibble: 3 × 1\n",
       "\\begin{tabular}{l}\n",
       " dx\\_name\\\\\n",
       " <chr>\\\\\n",
       "\\hline\n",
       "\t DKA (diabetic ketoacidosis) (CMS-HCC)\\\\\n",
       "\t DKA (diabetic ketoacidoses)          \\\\\n",
       "\t DKA, type 1 (CMS-HCC)                \\\\\n",
       "\\end{tabular}\n"
      ],
      "text/markdown": [
       "\n",
       "A tibble: 3 × 1\n",
       "\n",
       "| dx_name &lt;chr&gt; |\n",
       "|---|\n",
       "| DKA (diabetic ketoacidosis) (CMS-HCC) |\n",
       "| DKA (diabetic ketoacidoses)           |\n",
       "| DKA, type 1 (CMS-HCC)                 |\n",
       "\n"
      ],
      "text/plain": [
       "  dx_name                              \n",
       "1 DKA (diabetic ketoacidosis) (CMS-HCC)\n",
       "2 DKA (diabetic ketoacidoses)          \n",
       "3 DKA, type 1 (CMS-HCC)                "
      ]
     },
     "metadata": {},
     "output_type": "display_data"
    }
   ],
   "source": [
    "dx %>% filter(grepl(\"DKA\", dx_name, ignore.case = TRUE)) %>% distinct(dx_name)"
   ]
  },
  {
   "cell_type": "code",
   "execution_count": 48,
   "id": "83cb708b",
   "metadata": {},
   "outputs": [
    {
     "data": {
      "text/html": [
       "726"
      ],
      "text/latex": [
       "726"
      ],
      "text/markdown": [
       "726"
      ],
      "text/plain": [
       "[1] 726"
      ]
     },
     "metadata": {},
     "output_type": "display_data"
    },
    {
     "data": {
      "text/html": [
       "<table class=\"dataframe\">\n",
       "<caption>A tibble: 6 × 1</caption>\n",
       "<thead>\n",
       "\t<tr><th scope=col>pat_enc_csn_id_coded</th></tr>\n",
       "\t<tr><th scope=col>&lt;dbl&gt;</th></tr>\n",
       "</thead>\n",
       "<tbody>\n",
       "\t<tr><td>131243371751</td></tr>\n",
       "\t<tr><td>131203847107</td></tr>\n",
       "\t<tr><td>131277704987</td></tr>\n",
       "\t<tr><td>131254806278</td></tr>\n",
       "\t<tr><td>131126251939</td></tr>\n",
       "\t<tr><td>131242696174</td></tr>\n",
       "</tbody>\n",
       "</table>\n"
      ],
      "text/latex": [
       "A tibble: 6 × 1\n",
       "\\begin{tabular}{l}\n",
       " pat\\_enc\\_csn\\_id\\_coded\\\\\n",
       " <dbl>\\\\\n",
       "\\hline\n",
       "\t 131243371751\\\\\n",
       "\t 131203847107\\\\\n",
       "\t 131277704987\\\\\n",
       "\t 131254806278\\\\\n",
       "\t 131126251939\\\\\n",
       "\t 131242696174\\\\\n",
       "\\end{tabular}\n"
      ],
      "text/markdown": [
       "\n",
       "A tibble: 6 × 1\n",
       "\n",
       "| pat_enc_csn_id_coded &lt;dbl&gt; |\n",
       "|---|\n",
       "| 131243371751 |\n",
       "| 131203847107 |\n",
       "| 131277704987 |\n",
       "| 131254806278 |\n",
       "| 131126251939 |\n",
       "| 131242696174 |\n",
       "\n"
      ],
      "text/plain": [
       "  pat_enc_csn_id_coded\n",
       "1 131243371751        \n",
       "2 131203847107        \n",
       "3 131277704987        \n",
       "4 131254806278        \n",
       "5 131126251939        \n",
       "6 131242696174        "
      ]
     },
     "metadata": {},
     "output_type": "display_data"
    }
   ],
   "source": [
    "# nrow(cohort %>% select(anon_id, pat_enc_csn_id_coded, admit_time) %>% \n",
    "#             left_join(dx, by=c('pat_enc_csn_id_coded' = \"pat_enc_csn_id_jittered\")) %>%\n",
    "#             filter(dx_name %in% dka$dx_name) %>% distinct(pat_enc_csn_id_coded))\n",
    "\n",
    "cohort_dka <-  cohort_labels %>% select(anon_id, pat_enc_csn_id_coded, admit_time) %>% \n",
    "                            left_join(dx, by=c('pat_enc_csn_id_coded' = \"pat_enc_csn_id_jittered\")) %>%\n",
    "                            filter(dx_name %in% dka$dx_name) %>% distinct(pat_enc_csn_id_coded) # dx_name\n",
    "nrow(cohort_dka) #726\n",
    "head(cohort_dka)"
   ]
  },
  {
   "cell_type": "code",
   "execution_count": 49,
   "id": "3c3cffb3",
   "metadata": {},
   "outputs": [
    {
     "data": {
      "text/html": [
       "60648"
      ],
      "text/latex": [
       "60648"
      ],
      "text/markdown": [
       "60648"
      ],
      "text/plain": [
       "[1] 60648"
      ]
     },
     "metadata": {},
     "output_type": "display_data"
    },
    {
     "name": "stderr",
     "output_type": "stream",
     "text": [
      "Joining, by = \"pat_enc_csn_id_coded\"\n",
      "\n"
     ]
    },
    {
     "data": {
      "text/html": [
       "59922"
      ],
      "text/latex": [
       "59922"
      ],
      "text/markdown": [
       "59922"
      ],
      "text/plain": [
       "[1] 59922"
      ]
     },
     "metadata": {},
     "output_type": "display_data"
    }
   ],
   "source": [
    "# sanity check 60648 - 726 = 59922\n",
    "length(unique(cohort_labels$pat_enc_csn_id_coded)) # 60648\n",
    "cohort_no_dka <- anti_join(cohort_labels, cohort_dka) # 59922\n",
    "length(unique(cohort_no_dka$pat_enc_csn_id_coded))"
   ]
  },
  {
   "cell_type": "code",
   "execution_count": 50,
   "id": "2b40a63c",
   "metadata": {},
   "outputs": [
    {
     "data": {
      "text/html": [
       "52532"
      ],
      "text/latex": [
       "52532"
      ],
      "text/markdown": [
       "52532"
      ],
      "text/plain": [
       "[1] 52532"
      ]
     },
     "metadata": {},
     "output_type": "display_data"
    },
    {
     "name": "stderr",
     "output_type": "stream",
     "text": [
      "Joining, by = \"pat_enc_csn_id_coded\"\n",
      "\n"
     ]
    },
    {
     "data": {
      "text/html": [
       "51846"
      ],
      "text/latex": [
       "51846"
      ],
      "text/markdown": [
       "51846"
      ],
      "text/plain": [
       "[1] 51846"
      ]
     },
     "metadata": {},
     "output_type": "display_data"
    }
   ],
   "source": [
    "# no OR and no DKA (686 non overlapping patient visits)\n",
    "length(unique(cohort_no_op$pat_enc_csn_id_coded)) #52532\n",
    "cohort_no_op_no_dka <- anti_join(cohort_no_op, cohort_dka)\n",
    "length(unique(cohort_no_op_no_dka$pat_enc_csn_id_coded)) #51846"
   ]
  },
  {
   "cell_type": "code",
   "execution_count": 29,
   "id": "566b9de1",
   "metadata": {},
   "outputs": [
    {
     "data": {
      "text/html": [
       "<table class=\"dataframe\">\n",
       "<caption>A tibble: 1 × 48</caption>\n",
       "<thead>\n",
       "\t<tr><th scope=col>anon_id</th><th scope=col>pat_enc_csn_id_coded</th><th scope=col>admit_time</th><th scope=col>label_max3</th><th scope=col>label_3hr_recent</th><th scope=col>admit_label</th><th scope=col>has_admit_label</th><th scope=col>died_within_24hrs</th><th scope=col>death_3hr_max_label</th><th scope=col>death_3hr_recent_label</th><th scope=col>first_label</th><th scope=col>first_label_minutes_since_admit</th><th scope=col>acute_to_critical_label_recent_3hr</th><th scope=col>critical_to_acute_label_recent_3hr</th><th scope=col>acute_to_critical_label_max_3hr</th><th scope=col>⋯</th><th scope=col>label_12hr_recent</th><th scope=col>death_12hr_max_label</th><th scope=col>death_12hr_recent_label</th><th scope=col>acute_to_critical_label_recent_12hr</th><th scope=col>critical_to_acute_label_recent_12hr</th><th scope=col>acute_to_critical_label_max_12hr</th><th scope=col>critical_to_acute_label_max_12hr</th><th scope=col>label_max24</th><th scope=col>label_24hr_recent</th><th scope=col>death_24hr_max_label</th><th scope=col>death_24hr_recent_label</th><th scope=col>acute_to_critical_label_recent_24hr</th><th scope=col>critical_to_acute_label_recent_24hr</th><th scope=col>acute_to_critical_label_max_24hr</th><th scope=col>critical_to_acute_label_max_24hr</th></tr>\n",
       "\t<tr><th scope=col>&lt;chr&gt;</th><th scope=col>&lt;dbl&gt;</th><th scope=col>&lt;dttm&gt;</th><th scope=col>&lt;dbl&gt;</th><th scope=col>&lt;dbl&gt;</th><th scope=col>&lt;dbl&gt;</th><th scope=col>&lt;dbl&gt;</th><th scope=col>&lt;dbl&gt;</th><th scope=col>&lt;dbl&gt;</th><th scope=col>&lt;dbl&gt;</th><th scope=col>&lt;dbl&gt;</th><th scope=col>&lt;dbl&gt;</th><th scope=col>&lt;dbl&gt;</th><th scope=col>&lt;dbl&gt;</th><th scope=col>&lt;dbl&gt;</th><th scope=col>⋯</th><th scope=col>&lt;dbl&gt;</th><th scope=col>&lt;dbl&gt;</th><th scope=col>&lt;dbl&gt;</th><th scope=col>&lt;dbl&gt;</th><th scope=col>&lt;dbl&gt;</th><th scope=col>&lt;dbl&gt;</th><th scope=col>&lt;dbl&gt;</th><th scope=col>&lt;dbl&gt;</th><th scope=col>&lt;dbl&gt;</th><th scope=col>&lt;dbl&gt;</th><th scope=col>&lt;dbl&gt;</th><th scope=col>&lt;dbl&gt;</th><th scope=col>&lt;dbl&gt;</th><th scope=col>&lt;dbl&gt;</th><th scope=col>&lt;dbl&gt;</th></tr>\n",
       "</thead>\n",
       "<tbody>\n",
       "\t<tr><td>JC1000116</td><td>131066472308</td><td>2015-01-28 00:46:00</td><td>0</td><td>0</td><td>0</td><td>1</td><td>0</td><td>0</td><td>0</td><td>0</td><td>0</td><td>0</td><td>0</td><td>0</td><td>⋯</td><td>0</td><td>0</td><td>0</td><td>0</td><td>0</td><td>0</td><td>0</td><td>0</td><td>0</td><td>0</td><td>0</td><td>0</td><td>0</td><td>0</td><td>0</td></tr>\n",
       "</tbody>\n",
       "</table>\n"
      ],
      "text/latex": [
       "A tibble: 1 × 48\n",
       "\\begin{tabular}{lllllllllllllllllllllllllllllll}\n",
       " anon\\_id & pat\\_enc\\_csn\\_id\\_coded & admit\\_time & label\\_max3 & label\\_3hr\\_recent & admit\\_label & has\\_admit\\_label & died\\_within\\_24hrs & death\\_3hr\\_max\\_label & death\\_3hr\\_recent\\_label & first\\_label & first\\_label\\_minutes\\_since\\_admit & acute\\_to\\_critical\\_label\\_recent\\_3hr & critical\\_to\\_acute\\_label\\_recent\\_3hr & acute\\_to\\_critical\\_label\\_max\\_3hr & ⋯ & label\\_12hr\\_recent & death\\_12hr\\_max\\_label & death\\_12hr\\_recent\\_label & acute\\_to\\_critical\\_label\\_recent\\_12hr & critical\\_to\\_acute\\_label\\_recent\\_12hr & acute\\_to\\_critical\\_label\\_max\\_12hr & critical\\_to\\_acute\\_label\\_max\\_12hr & label\\_max24 & label\\_24hr\\_recent & death\\_24hr\\_max\\_label & death\\_24hr\\_recent\\_label & acute\\_to\\_critical\\_label\\_recent\\_24hr & critical\\_to\\_acute\\_label\\_recent\\_24hr & acute\\_to\\_critical\\_label\\_max\\_24hr & critical\\_to\\_acute\\_label\\_max\\_24hr\\\\\n",
       " <chr> & <dbl> & <dttm> & <dbl> & <dbl> & <dbl> & <dbl> & <dbl> & <dbl> & <dbl> & <dbl> & <dbl> & <dbl> & <dbl> & <dbl> & ⋯ & <dbl> & <dbl> & <dbl> & <dbl> & <dbl> & <dbl> & <dbl> & <dbl> & <dbl> & <dbl> & <dbl> & <dbl> & <dbl> & <dbl> & <dbl>\\\\\n",
       "\\hline\n",
       "\t JC1000116 & 131066472308 & 2015-01-28 00:46:00 & 0 & 0 & 0 & 1 & 0 & 0 & 0 & 0 & 0 & 0 & 0 & 0 & ⋯ & 0 & 0 & 0 & 0 & 0 & 0 & 0 & 0 & 0 & 0 & 0 & 0 & 0 & 0 & 0\\\\\n",
       "\\end{tabular}\n"
      ],
      "text/markdown": [
       "\n",
       "A tibble: 1 × 48\n",
       "\n",
       "| anon_id &lt;chr&gt; | pat_enc_csn_id_coded &lt;dbl&gt; | admit_time &lt;dttm&gt; | label_max3 &lt;dbl&gt; | label_3hr_recent &lt;dbl&gt; | admit_label &lt;dbl&gt; | has_admit_label &lt;dbl&gt; | died_within_24hrs &lt;dbl&gt; | death_3hr_max_label &lt;dbl&gt; | death_3hr_recent_label &lt;dbl&gt; | first_label &lt;dbl&gt; | first_label_minutes_since_admit &lt;dbl&gt; | acute_to_critical_label_recent_3hr &lt;dbl&gt; | critical_to_acute_label_recent_3hr &lt;dbl&gt; | acute_to_critical_label_max_3hr &lt;dbl&gt; | ⋯ ⋯ | label_12hr_recent &lt;dbl&gt; | death_12hr_max_label &lt;dbl&gt; | death_12hr_recent_label &lt;dbl&gt; | acute_to_critical_label_recent_12hr &lt;dbl&gt; | critical_to_acute_label_recent_12hr &lt;dbl&gt; | acute_to_critical_label_max_12hr &lt;dbl&gt; | critical_to_acute_label_max_12hr &lt;dbl&gt; | label_max24 &lt;dbl&gt; | label_24hr_recent &lt;dbl&gt; | death_24hr_max_label &lt;dbl&gt; | death_24hr_recent_label &lt;dbl&gt; | acute_to_critical_label_recent_24hr &lt;dbl&gt; | critical_to_acute_label_recent_24hr &lt;dbl&gt; | acute_to_critical_label_max_24hr &lt;dbl&gt; | critical_to_acute_label_max_24hr &lt;dbl&gt; |\n",
       "|---|---|---|---|---|---|---|---|---|---|---|---|---|---|---|---|---|---|---|---|---|---|---|---|---|---|---|---|---|---|---|\n",
       "| JC1000116 | 131066472308 | 2015-01-28 00:46:00 | 0 | 0 | 0 | 1 | 0 | 0 | 0 | 0 | 0 | 0 | 0 | 0 | ⋯ | 0 | 0 | 0 | 0 | 0 | 0 | 0 | 0 | 0 | 0 | 0 | 0 | 0 | 0 | 0 |\n",
       "\n"
      ],
      "text/plain": [
       "  anon_id   pat_enc_csn_id_coded admit_time          label_max3\n",
       "1 JC1000116 131066472308         2015-01-28 00:46:00 0         \n",
       "  label_3hr_recent admit_label has_admit_label died_within_24hrs\n",
       "1 0                0           1               0                \n",
       "  death_3hr_max_label death_3hr_recent_label first_label\n",
       "1 0                   0                      0          \n",
       "  first_label_minutes_since_admit acute_to_critical_label_recent_3hr\n",
       "1 0                               0                                 \n",
       "  critical_to_acute_label_recent_3hr acute_to_critical_label_max_3hr ⋯\n",
       "1 0                                  0                               ⋯\n",
       "  label_12hr_recent death_12hr_max_label death_12hr_recent_label\n",
       "1 0                 0                    0                      \n",
       "  acute_to_critical_label_recent_12hr critical_to_acute_label_recent_12hr\n",
       "1 0                                   0                                  \n",
       "  acute_to_critical_label_max_12hr critical_to_acute_label_max_12hr label_max24\n",
       "1 0                                0                                0          \n",
       "  label_24hr_recent death_24hr_max_label death_24hr_recent_label\n",
       "1 0                 0                    0                      \n",
       "  acute_to_critical_label_recent_24hr critical_to_acute_label_recent_24hr\n",
       "1 0                                   0                                  \n",
       "  acute_to_critical_label_max_24hr critical_to_acute_label_max_24hr\n",
       "1 0                                0                               "
      ]
     },
     "metadata": {},
     "output_type": "display_data"
    }
   ],
   "source": [
    "head(cohort_no_op_no_dka, 1)"
   ]
  },
  {
   "cell_type": "code",
   "execution_count": 51,
   "id": "09b51d69",
   "metadata": {},
   "outputs": [
    {
     "data": {
      "text/html": [
       "<table class=\"dataframe\">\n",
       "<caption>A tibble: 0 × 1</caption>\n",
       "<thead>\n",
       "\t<tr><th scope=col>dx_name</th></tr>\n",
       "\t<tr><th scope=col>&lt;chr&gt;</th></tr>\n",
       "</thead>\n",
       "<tbody>\n",
       "</tbody>\n",
       "</table>\n"
      ],
      "text/latex": [
       "A tibble: 0 × 1\n",
       "\\begin{tabular}{l}\n",
       " dx\\_name\\\\\n",
       " <chr>\\\\\n",
       "\\hline\n",
       "\\end{tabular}\n"
      ],
      "text/markdown": [
       "\n",
       "A tibble: 0 × 1\n",
       "\n",
       "| dx_name &lt;chr&gt; |\n",
       "|---|\n",
       "\n"
      ],
      "text/plain": [
       "     dx_name"
      ]
     },
     "metadata": {},
     "output_type": "display_data"
    }
   ],
   "source": [
    "# sanity check to make sure no DKA in the cohort\n",
    "left_join(cohort_no_op_no_dka, dx, by=c('pat_enc_csn_id_coded' = \"pat_enc_csn_id_jittered\")) %>% \n",
    "        filter(grepl(\"diabet|DKA\", dx_name, ignore.case = TRUE),  \n",
    "        grepl(\"ketoacidos|DKA\", dx_name, ignore.case = TRUE)) %>% distinct(dx_name)"
   ]
  },
  {
   "cell_type": "code",
   "execution_count": 31,
   "id": "2114c764",
   "metadata": {},
   "outputs": [],
   "source": [
    "# cohort has labels within the first 3 hours, and no OR no DKA\n",
    "write.csv(cohort_no_op_no_dka, file = file.path(outdir, \"7_cohort4_3hr_labels_noOR_noDKA.csv\"), row.names=FALSE) "
   ]
  }
 ],
 "metadata": {
  "environment": {
   "name": "r-cpu.4-0.m71",
   "type": "gcloud",
   "uri": "gcr.io/deeplearning-platform-release/r-cpu.4-0:m71"
  },
  "kernelspec": {
   "display_name": "R",
   "language": "R",
   "name": "ir"
  },
  "language_info": {
   "codemirror_mode": "r",
   "file_extension": ".r",
   "mimetype": "text/x-r-source",
   "name": "R",
   "pygments_lexer": "r",
   "version": "4.1.0"
  }
 },
 "nbformat": 4,
 "nbformat_minor": 5
}
