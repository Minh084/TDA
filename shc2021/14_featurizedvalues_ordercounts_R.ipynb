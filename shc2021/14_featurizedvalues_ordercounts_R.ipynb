{
 "cells": [
  {
   "cell_type": "markdown",
   "metadata": {},
   "source": [
    "### Description:\n",
    "**REMOVE 1 patient visit = 131289492397 from the final cohort4**\n",
    "- Read in the decile-binned values of labs and vitals\n",
    "- Read in the data `coh4_order_code_counts` from sql order counts, combine Microbiology Culture with Microbiology \n",
    "- Combine this featurized data for full complex data modeling\n",
    "- Create a smaller random sample for testing \n",
    "    \n",
    "**Inputs**: \n",
    "- `6_10_coh4_binned_labs_vitals_train`: from feature_values, binned into deciles, 2015 - 03/2020\n",
    "- `6_10_coh4_binned_labs_vitals_test`: 2015 - 03/2020 + 04/2020 - 2021\n",
    "- `coh4_order_code_counts` and `coh4_order_code_counts_2021`: (from SQL) queried counts for different orders\n",
    "    \n",
    "**Outputs**: \n",
    "- have demo, vitals and labs in binned counts, order counts: long format, with year extracted\n",
    "- `6_11_coh4_features_all_long_year`: will be input to 3_models, sparse_matrix.py\n",
    "    - 2015 - 2018 as trained data for value distributions to bin validation data of 2018\n",
    "        - used for training and select model hyperparameters based on validation data\n",
    "    - test data 2019 - 03/2020 left unused\n",
    "    - after training and selecting hyperparameters, re-do value distribution on 2015 - 03/2020 (train + val) data\n",
    "    - test data (04/2020 - 2021) are now binned on based on this new train/val distribution\n",
    "    - binned test data is used for the final prediction and evaluation of new model after THICK DESCRIPTION work\n"
   ]
  },
  {
   "cell_type": "code",
   "execution_count": 77,
   "metadata": {},
   "outputs": [],
   "source": [
    "library(data.table)\n",
    "library(tidyverse)\n",
    "library(lubridate)\n",
    "# library(Matrix)\n",
    "# library(slam)\n",
    "# library(bit64)\n",
    "# library(mtools) for one hot coder, not available on Nero or use caret or tidyr\n",
    "options(repr.matrix.max.rows=200, repr.matrix.max.cols=30)"
   ]
  },
  {
   "cell_type": "code",
   "execution_count": 78,
   "metadata": {},
   "outputs": [],
   "source": [
    "# install.packages(c(\"dbplyr\", \"RSQLite\"))"
   ]
  },
  {
   "cell_type": "code",
   "execution_count": 79,
   "metadata": {},
   "outputs": [],
   "source": [
    "datadir = \"../../DataTD/shc2021\"\n",
    "outdir = \"../../OutputTD/shc2021\""
   ]
  },
  {
   "cell_type": "code",
   "execution_count": 80,
   "metadata": {},
   "outputs": [
    {
     "data": {
      "text/html": [
       "51846"
      ],
      "text/latex": [
       "51846"
      ],
      "text/markdown": [
       "51846"
      ],
      "text/plain": [
       "[1] 51846"
      ]
     },
     "metadata": {},
     "output_type": "display_data"
    },
    {
     "data": {
      "text/html": [
       "51846"
      ],
      "text/latex": [
       "51846"
      ],
      "text/markdown": [
       "51846"
      ],
      "text/plain": [
       "[1] 51846"
      ]
     },
     "metadata": {},
     "output_type": "display_data"
    }
   ],
   "source": [
    "cohort4 <- read.csv(file.path(outdir, '11_coh4_noOR_noDKA_edtime_notecount.csv'))\n",
    "nrow(cohort4)\n",
    "\n",
    "cohort <- cohort4 %>% select(anon_id, pat_enc_csn_id_coded, admit_time, first_label,\n",
    "                             death_3hr_recent_label, death_6hr_recent_label, death_9hr_recent_label,\n",
    "                             death_12hr_recent_label, death_24hr_recent_label)\n",
    "nrow(cohort)"
   ]
  },
  {
   "cell_type": "raw",
   "metadata": {},
   "source": [
    "# Cold_Counts_val.sql under ../SQL/feature_counts -- OLD\n",
    "\n",
    "# Sequence of codes assigned to patients \n",
    "\n",
    "WITH sequence as (\n",
    "-- # Get (lab, procedure, imaging and microbiology orders from order_proc) within one year prior to current admission time\n",
    "SELECT DISTINCT lab.order_proc_id_coded as order_id,\n",
    "                lab.order_type as feature_type,\n",
    "                lab.description as features,\n",
    "                cohort.anon_id, cohort.pat_enc_csn_id_coded, cohort.admit_time, \n",
    "                cohort.first_label, cohort.death_24hr_recent_label\n",
    "    \n",
    "FROM triageTD.6_7_cohort4 as cohort\n",
    "INNER JOIN shc_core_2021.order_proc as lab\n",
    "USING (anon_id)\n",
    "WHERE \n",
    "(lab.order_type in ('Imaging', 'Procedures', 'Lab')\n",
    "AND lab.order_time_jittered_utc < cohort.admit_time\n",
    "AND timestamp_add(lab.order_time_jittered_utc, INTERVAL 24*365 HOUR) >= cohort.admit_time)\n",
    "OR\n",
    "(lab.order_type in ('Microbiology', 'Microbiology Culture')\n",
    "AND lab.order_time_jittered_utc < cohort.admit_time\n",
    "AND lab.pat_enc_csn_id_coded = cohort.pat_enc_csn_id_coded)\n",
    "UNION DISTINCT\n",
    "\n",
    "-- # Get icd10 codes from full timeline, from all previous admissions\n",
    "SELECT DISTINCT pat_enc_csn_id_coded as order_id, -- fill in because dx table doesn't have order_id\n",
    "                'Diagnosis' as feature_type, dx.icd10 as features,\n",
    "                cohort.anon_id, cohort.pat_enc_csn_id_coded, cohort.admit_time, \n",
    "                cohort.first_label, cohort.death_24hr_recent_label\n",
    "    \n",
    "FROM triageTD.6_7_cohort4 as cohort\n",
    "INNER JOIN shc_core_2021.diagnosis as dx\n",
    "USING (anon_id)\n",
    "WHERE cohort.pat_enc_csn_id_coded <> dx.pat_enc_csn_id_jittered\n",
    "AND dx.start_date_utc < cohort.admit_time \n",
    "AND dx.icd10 is not NULL\n",
    "UNION DISTINCT\n",
    "\n",
    "-- # Get med orders from order_med from within one year prior to current admission time\n",
    "SELECT DISTINCT med.order_med_id_coded order_id,\n",
    "                'Meds' as feature_type, med.med_description as features,\n",
    "                cohort.anon_id, cohort.pat_enc_csn_id_coded, cohort.admit_time, \n",
    "                cohort.first_label, cohort.death_24hr_recent_label\n",
    "    \n",
    "FROM triageTD.6_7_cohort4 as cohort\n",
    "INNER JOIN shc_core_2021.order_med as med\n",
    "USING (anon_id)\n",
    "WHERE med.order_start_time_utc < cohort.admit_time\n",
    "AND timestamp_add(med.order_start_time_utc, INTERVAL 24*365 HOUR) >= cohort.admit_time\n",
    "AND med.order_start_time_utc IS NOT NULL) -- maybe redundent but fine\n",
    "\n",
    "-- # Group by feature and encounter, and count # distinct orders/assignemnts of the feature\n",
    "SELECT anon_id, pat_enc_csn_id_coded, admit_time, feature_type, features, COUNT (DISTINCT order_id) as values\n",
    "FROM sequence\n",
    "GROUP BY anon_id, pat_enc_csn_id_coded, admit_time, feature_type, features\n",
    "ORDER BY pat_enc_csn_id_coded"
   ]
  },
  {
   "cell_type": "code",
   "execution_count": 81,
   "metadata": {},
   "outputs": [
    {
     "data": {
      "text/html": [
       "8333201"
      ],
      "text/latex": [
       "8333201"
      ],
      "text/markdown": [
       "8333201"
      ],
      "text/plain": [
       "[1] 8333201"
      ]
     },
     "metadata": {},
     "output_type": "display_data"
    }
   ],
   "source": [
    "# this one used cohort noOR only to query orders\n",
    "orders <- read.csv(file.path(datadir, 'coh4_noOR_order_code_counts_2021.csv'))\n",
    "nrow(orders) #8333201"
   ]
  },
  {
   "cell_type": "code",
   "execution_count": 82,
   "metadata": {},
   "outputs": [
    {
     "data": {
      "text/html": [
       "<table class=\"dataframe\">\n",
       "<caption>A data.frame: 1 × 6</caption>\n",
       "<thead>\n",
       "\t<tr><th></th><th scope=col>anon_id</th><th scope=col>pat_enc_csn_id_coded</th><th scope=col>admit_time</th><th scope=col>feature_type</th><th scope=col>features</th><th scope=col>values</th></tr>\n",
       "\t<tr><th></th><th scope=col>&lt;chr&gt;</th><th scope=col>&lt;dbl&gt;</th><th scope=col>&lt;chr&gt;</th><th scope=col>&lt;chr&gt;</th><th scope=col>&lt;chr&gt;</th><th scope=col>&lt;int&gt;</th></tr>\n",
       "</thead>\n",
       "<tbody>\n",
       "\t<tr><th scope=row>1</th><td>JC1170548</td><td>131062572931</td><td>2015-01-02 03:48:00+00:00</td><td>Diagnosis</td><td>E10.10</td><td>1</td></tr>\n",
       "</tbody>\n",
       "</table>\n"
      ],
      "text/latex": [
       "A data.frame: 1 × 6\n",
       "\\begin{tabular}{r|llllll}\n",
       "  & anon\\_id & pat\\_enc\\_csn\\_id\\_coded & admit\\_time & feature\\_type & features & values\\\\\n",
       "  & <chr> & <dbl> & <chr> & <chr> & <chr> & <int>\\\\\n",
       "\\hline\n",
       "\t1 & JC1170548 & 131062572931 & 2015-01-02 03:48:00+00:00 & Diagnosis & E10.10 & 1\\\\\n",
       "\\end{tabular}\n"
      ],
      "text/markdown": [
       "\n",
       "A data.frame: 1 × 6\n",
       "\n",
       "| <!--/--> | anon_id &lt;chr&gt; | pat_enc_csn_id_coded &lt;dbl&gt; | admit_time &lt;chr&gt; | feature_type &lt;chr&gt; | features &lt;chr&gt; | values &lt;int&gt; |\n",
       "|---|---|---|---|---|---|---|\n",
       "| 1 | JC1170548 | 131062572931 | 2015-01-02 03:48:00+00:00 | Diagnosis | E10.10 | 1 |\n",
       "\n"
      ],
      "text/plain": [
       "  anon_id   pat_enc_csn_id_coded admit_time                feature_type\n",
       "1 JC1170548 131062572931         2015-01-02 03:48:00+00:00 Diagnosis   \n",
       "  features values\n",
       "1 E10.10   1     "
      ]
     },
     "metadata": {},
     "output_type": "display_data"
    }
   ],
   "source": [
    "head(orders, 1)"
   ]
  },
  {
   "cell_type": "code",
   "execution_count": 83,
   "metadata": {},
   "outputs": [
    {
     "data": {
      "text/html": [
       "<table class=\"dataframe\">\n",
       "<caption>A grouped_df: 7 × 2</caption>\n",
       "<thead>\n",
       "\t<tr><th scope=col>feature_type</th><th scope=col>n</th></tr>\n",
       "\t<tr><th scope=col>&lt;chr&gt;</th><th scope=col>&lt;int&gt;</th></tr>\n",
       "</thead>\n",
       "<tbody>\n",
       "\t<tr><td>Diagnosis           </td><td>4169163</td></tr>\n",
       "\t<tr><td>Meds                </td><td>2388260</td></tr>\n",
       "\t<tr><td>Lab                 </td><td>1290428</td></tr>\n",
       "\t<tr><td>Imaging             </td><td> 371008</td></tr>\n",
       "\t<tr><td>Procedures          </td><td>  66677</td></tr>\n",
       "\t<tr><td>Microbiology Culture</td><td>  45617</td></tr>\n",
       "\t<tr><td>Microbiology        </td><td>   2048</td></tr>\n",
       "</tbody>\n",
       "</table>\n"
      ],
      "text/latex": [
       "A grouped\\_df: 7 × 2\n",
       "\\begin{tabular}{ll}\n",
       " feature\\_type & n\\\\\n",
       " <chr> & <int>\\\\\n",
       "\\hline\n",
       "\t Diagnosis            & 4169163\\\\\n",
       "\t Meds                 & 2388260\\\\\n",
       "\t Lab                  & 1290428\\\\\n",
       "\t Imaging              &  371008\\\\\n",
       "\t Procedures           &   66677\\\\\n",
       "\t Microbiology Culture &   45617\\\\\n",
       "\t Microbiology         &    2048\\\\\n",
       "\\end{tabular}\n"
      ],
      "text/markdown": [
       "\n",
       "A grouped_df: 7 × 2\n",
       "\n",
       "| feature_type &lt;chr&gt; | n &lt;int&gt; |\n",
       "|---|---|\n",
       "| Diagnosis            | 4169163 |\n",
       "| Meds                 | 2388260 |\n",
       "| Lab                  | 1290428 |\n",
       "| Imaging              |  371008 |\n",
       "| Procedures           |   66677 |\n",
       "| Microbiology Culture |   45617 |\n",
       "| Microbiology         |    2048 |\n",
       "\n"
      ],
      "text/plain": [
       "  feature_type         n      \n",
       "1 Diagnosis            4169163\n",
       "2 Meds                 2388260\n",
       "3 Lab                  1290428\n",
       "4 Imaging               371008\n",
       "5 Procedures             66677\n",
       "6 Microbiology Culture   45617\n",
       "7 Microbiology            2048"
      ]
     },
     "metadata": {},
     "output_type": "display_data"
    }
   ],
   "source": [
    "orders %>% group_by(feature_type) %>% count(sort=TRUE)"
   ]
  },
  {
   "cell_type": "code",
   "execution_count": 84,
   "metadata": {},
   "outputs": [
    {
     "data": {
      "text/html": [
       "<table class=\"dataframe\">\n",
       "<caption>A grouped_df: 6 × 2</caption>\n",
       "<thead>\n",
       "\t<tr><th scope=col>feature_type</th><th scope=col>n</th></tr>\n",
       "\t<tr><th scope=col>&lt;chr&gt;</th><th scope=col>&lt;int&gt;</th></tr>\n",
       "</thead>\n",
       "<tbody>\n",
       "\t<tr><td>Diagnosis   </td><td>4169163</td></tr>\n",
       "\t<tr><td>Meds        </td><td>2388260</td></tr>\n",
       "\t<tr><td>Lab         </td><td>1290428</td></tr>\n",
       "\t<tr><td>Imaging     </td><td> 371008</td></tr>\n",
       "\t<tr><td>Procedures  </td><td>  66677</td></tr>\n",
       "\t<tr><td>Microbiology</td><td>  47665</td></tr>\n",
       "</tbody>\n",
       "</table>\n"
      ],
      "text/latex": [
       "A grouped\\_df: 6 × 2\n",
       "\\begin{tabular}{ll}\n",
       " feature\\_type & n\\\\\n",
       " <chr> & <int>\\\\\n",
       "\\hline\n",
       "\t Diagnosis    & 4169163\\\\\n",
       "\t Meds         & 2388260\\\\\n",
       "\t Lab          & 1290428\\\\\n",
       "\t Imaging      &  371008\\\\\n",
       "\t Procedures   &   66677\\\\\n",
       "\t Microbiology &   47665\\\\\n",
       "\\end{tabular}\n"
      ],
      "text/markdown": [
       "\n",
       "A grouped_df: 6 × 2\n",
       "\n",
       "| feature_type &lt;chr&gt; | n &lt;int&gt; |\n",
       "|---|---|\n",
       "| Diagnosis    | 4169163 |\n",
       "| Meds         | 2388260 |\n",
       "| Lab          | 1290428 |\n",
       "| Imaging      |  371008 |\n",
       "| Procedures   |   66677 |\n",
       "| Microbiology |   47665 |\n",
       "\n"
      ],
      "text/plain": [
       "  feature_type n      \n",
       "1 Diagnosis    4169163\n",
       "2 Meds         2388260\n",
       "3 Lab          1290428\n",
       "4 Imaging       371008\n",
       "5 Procedures     66677\n",
       "6 Microbiology   47665"
      ]
     },
     "metadata": {},
     "output_type": "display_data"
    }
   ],
   "source": [
    "orders_micro <- orders %>% mutate(feature_type = ifelse(str_detect(feature_type, \"Microbiology\"), \"Microbiology\", feature_type))\n",
    "orders_micro %>% group_by(feature_type) %>% count(sort=TRUE)"
   ]
  },
  {
   "cell_type": "code",
   "execution_count": 85,
   "metadata": {},
   "outputs": [
    {
     "data": {
      "text/html": [
       "<table class=\"dataframe\">\n",
       "<caption>A tibble: 6 × 3</caption>\n",
       "<thead>\n",
       "\t<tr><th scope=col>feature_type</th><th scope=col>avg</th><th scope=col>sd</th></tr>\n",
       "\t<tr><th scope=col>&lt;chr&gt;</th><th scope=col>&lt;dbl&gt;</th><th scope=col>&lt;dbl&gt;</th></tr>\n",
       "</thead>\n",
       "<tbody>\n",
       "\t<tr><td>Diagnosis   </td><td>1.000000</td><td> 0.0000000</td></tr>\n",
       "\t<tr><td>Imaging     </td><td>3.347750</td><td> 5.5440964</td></tr>\n",
       "\t<tr><td>Lab         </td><td>7.429079</td><td>17.2114416</td></tr>\n",
       "\t<tr><td>Meds        </td><td>3.042515</td><td> 6.4621015</td></tr>\n",
       "\t<tr><td>Microbiology</td><td>2.286646</td><td> 0.7761681</td></tr>\n",
       "\t<tr><td>Procedures  </td><td>2.103064</td><td> 4.8880191</td></tr>\n",
       "</tbody>\n",
       "</table>\n"
      ],
      "text/latex": [
       "A tibble: 6 × 3\n",
       "\\begin{tabular}{lll}\n",
       " feature\\_type & avg & sd\\\\\n",
       " <chr> & <dbl> & <dbl>\\\\\n",
       "\\hline\n",
       "\t Diagnosis    & 1.000000 &  0.0000000\\\\\n",
       "\t Imaging      & 3.347750 &  5.5440964\\\\\n",
       "\t Lab          & 7.429079 & 17.2114416\\\\\n",
       "\t Meds         & 3.042515 &  6.4621015\\\\\n",
       "\t Microbiology & 2.286646 &  0.7761681\\\\\n",
       "\t Procedures   & 2.103064 &  4.8880191\\\\\n",
       "\\end{tabular}\n"
      ],
      "text/markdown": [
       "\n",
       "A tibble: 6 × 3\n",
       "\n",
       "| feature_type &lt;chr&gt; | avg &lt;dbl&gt; | sd &lt;dbl&gt; |\n",
       "|---|---|---|\n",
       "| Diagnosis    | 1.000000 |  0.0000000 |\n",
       "| Imaging      | 3.347750 |  5.5440964 |\n",
       "| Lab          | 7.429079 | 17.2114416 |\n",
       "| Meds         | 3.042515 |  6.4621015 |\n",
       "| Microbiology | 2.286646 |  0.7761681 |\n",
       "| Procedures   | 2.103064 |  4.8880191 |\n",
       "\n"
      ],
      "text/plain": [
       "  feature_type avg      sd        \n",
       "1 Diagnosis    1.000000  0.0000000\n",
       "2 Imaging      3.347750  5.5440964\n",
       "3 Lab          7.429079 17.2114416\n",
       "4 Meds         3.042515  6.4621015\n",
       "5 Microbiology 2.286646  0.7761681\n",
       "6 Procedures   2.103064  4.8880191"
      ]
     },
     "metadata": {},
     "output_type": "display_data"
    }
   ],
   "source": [
    "orders_micro %>% group_by(feature_type) %>% summarise(avg = mean(values), sd = sd(values))"
   ]
  },
  {
   "cell_type": "code",
   "execution_count": 86,
   "metadata": {},
   "outputs": [
    {
     "data": {
      "text/html": [
       "52525"
      ],
      "text/latex": [
       "52525"
      ],
      "text/markdown": [
       "52525"
      ],
      "text/plain": [
       "[1] 52525"
      ]
     },
     "metadata": {},
     "output_type": "display_data"
    },
    {
     "data": {
      "text/html": [
       "686"
      ],
      "text/latex": [
       "686"
      ],
      "text/markdown": [
       "686"
      ],
      "text/plain": [
       "[1] 686"
      ]
     },
     "metadata": {},
     "output_type": "display_data"
    },
    {
     "data": {
      "text/html": [
       "7"
      ],
      "text/latex": [
       "7"
      ],
      "text/markdown": [
       "7"
      ],
      "text/plain": [
       "[1] 7"
      ]
     },
     "metadata": {},
     "output_type": "display_data"
    }
   ],
   "source": [
    "length(unique(orders_micro$pat_enc_csn_id_coded)) # 52525\n",
    "length(setdiff(orders_micro$pat_enc_csn_id_coded, cohort$pat_enc_csn_id_coded)) # 686 # ok because this is from cohort noOR\n",
    "length(setdiff(cohort$pat_enc_csn_id_coded, orders_micro$pat_enc_csn_id_coded)) # 7\n",
    "# not everyone has orders\n",
    "# for the new cohort, every has orders"
   ]
  },
  {
   "cell_type": "code",
   "execution_count": 87,
   "metadata": {},
   "outputs": [
    {
     "data": {
      "text/html": [
       "<table class=\"dataframe\">\n",
       "<caption>A data.frame: 1 × 6</caption>\n",
       "<thead>\n",
       "\t<tr><th></th><th scope=col>anon_id</th><th scope=col>pat_enc_csn_id_coded</th><th scope=col>admit_time</th><th scope=col>feature_type</th><th scope=col>features</th><th scope=col>values</th></tr>\n",
       "\t<tr><th></th><th scope=col>&lt;chr&gt;</th><th scope=col>&lt;dbl&gt;</th><th scope=col>&lt;chr&gt;</th><th scope=col>&lt;chr&gt;</th><th scope=col>&lt;chr&gt;</th><th scope=col>&lt;int&gt;</th></tr>\n",
       "</thead>\n",
       "<tbody>\n",
       "\t<tr><th scope=row>1</th><td>JC1170548</td><td>131062572931</td><td>2015-01-02 03:48:00+00:00</td><td>Diagnosis</td><td>E10.10</td><td>1</td></tr>\n",
       "</tbody>\n",
       "</table>\n"
      ],
      "text/latex": [
       "A data.frame: 1 × 6\n",
       "\\begin{tabular}{r|llllll}\n",
       "  & anon\\_id & pat\\_enc\\_csn\\_id\\_coded & admit\\_time & feature\\_type & features & values\\\\\n",
       "  & <chr> & <dbl> & <chr> & <chr> & <chr> & <int>\\\\\n",
       "\\hline\n",
       "\t1 & JC1170548 & 131062572931 & 2015-01-02 03:48:00+00:00 & Diagnosis & E10.10 & 1\\\\\n",
       "\\end{tabular}\n"
      ],
      "text/markdown": [
       "\n",
       "A data.frame: 1 × 6\n",
       "\n",
       "| <!--/--> | anon_id &lt;chr&gt; | pat_enc_csn_id_coded &lt;dbl&gt; | admit_time &lt;chr&gt; | feature_type &lt;chr&gt; | features &lt;chr&gt; | values &lt;int&gt; |\n",
       "|---|---|---|---|---|---|---|\n",
       "| 1 | JC1170548 | 131062572931 | 2015-01-02 03:48:00+00:00 | Diagnosis | E10.10 | 1 |\n",
       "\n"
      ],
      "text/plain": [
       "  anon_id   pat_enc_csn_id_coded admit_time                feature_type\n",
       "1 JC1170548 131062572931         2015-01-02 03:48:00+00:00 Diagnosis   \n",
       "  features values\n",
       "1 E10.10   1     "
      ]
     },
     "metadata": {},
     "output_type": "display_data"
    },
    {
     "data": {
      "text/html": [
       "<table class=\"dataframe\">\n",
       "<caption>A data.frame: 1 × 9</caption>\n",
       "<thead>\n",
       "\t<tr><th></th><th scope=col>anon_id</th><th scope=col>pat_enc_csn_id_coded</th><th scope=col>admit_time</th><th scope=col>first_label</th><th scope=col>death_3hr_recent_label</th><th scope=col>death_6hr_recent_label</th><th scope=col>death_9hr_recent_label</th><th scope=col>death_12hr_recent_label</th><th scope=col>death_24hr_recent_label</th></tr>\n",
       "\t<tr><th></th><th scope=col>&lt;chr&gt;</th><th scope=col>&lt;dbl&gt;</th><th scope=col>&lt;chr&gt;</th><th scope=col>&lt;int&gt;</th><th scope=col>&lt;int&gt;</th><th scope=col>&lt;int&gt;</th><th scope=col>&lt;int&gt;</th><th scope=col>&lt;int&gt;</th><th scope=col>&lt;int&gt;</th></tr>\n",
       "</thead>\n",
       "<tbody>\n",
       "\t<tr><th scope=row>1</th><td>JC1000116</td><td>131066472308</td><td>2015-01-28 00:46:00</td><td>0</td><td>0</td><td>0</td><td>0</td><td>0</td><td>0</td></tr>\n",
       "</tbody>\n",
       "</table>\n"
      ],
      "text/latex": [
       "A data.frame: 1 × 9\n",
       "\\begin{tabular}{r|lllllllll}\n",
       "  & anon\\_id & pat\\_enc\\_csn\\_id\\_coded & admit\\_time & first\\_label & death\\_3hr\\_recent\\_label & death\\_6hr\\_recent\\_label & death\\_9hr\\_recent\\_label & death\\_12hr\\_recent\\_label & death\\_24hr\\_recent\\_label\\\\\n",
       "  & <chr> & <dbl> & <chr> & <int> & <int> & <int> & <int> & <int> & <int>\\\\\n",
       "\\hline\n",
       "\t1 & JC1000116 & 131066472308 & 2015-01-28 00:46:00 & 0 & 0 & 0 & 0 & 0 & 0\\\\\n",
       "\\end{tabular}\n"
      ],
      "text/markdown": [
       "\n",
       "A data.frame: 1 × 9\n",
       "\n",
       "| <!--/--> | anon_id &lt;chr&gt; | pat_enc_csn_id_coded &lt;dbl&gt; | admit_time &lt;chr&gt; | first_label &lt;int&gt; | death_3hr_recent_label &lt;int&gt; | death_6hr_recent_label &lt;int&gt; | death_9hr_recent_label &lt;int&gt; | death_12hr_recent_label &lt;int&gt; | death_24hr_recent_label &lt;int&gt; |\n",
       "|---|---|---|---|---|---|---|---|---|---|\n",
       "| 1 | JC1000116 | 131066472308 | 2015-01-28 00:46:00 | 0 | 0 | 0 | 0 | 0 | 0 |\n",
       "\n"
      ],
      "text/plain": [
       "  anon_id   pat_enc_csn_id_coded admit_time          first_label\n",
       "1 JC1000116 131066472308         2015-01-28 00:46:00 0          \n",
       "  death_3hr_recent_label death_6hr_recent_label death_9hr_recent_label\n",
       "1 0                      0                      0                     \n",
       "  death_12hr_recent_label death_24hr_recent_label\n",
       "1 0                       0                      "
      ]
     },
     "metadata": {},
     "output_type": "display_data"
    }
   ],
   "source": [
    "head(orders_micro, 1)\n",
    "head(cohort, 1)"
   ]
  },
  {
   "cell_type": "code",
   "execution_count": 88,
   "metadata": {},
   "outputs": [
    {
     "data": {
      "text/html": [
       "51839"
      ],
      "text/latex": [
       "51839"
      ],
      "text/markdown": [
       "51839"
      ],
      "text/plain": [
       "[1] 51839"
      ]
     },
     "metadata": {},
     "output_type": "display_data"
    }
   ],
   "source": [
    "orders_micro <- orders_micro %>% filter(pat_enc_csn_id_coded %in% cohort$pat_enc_csn_id_coded)\n",
    "length(unique(orders_micro$pat_enc_csn_id_coded)) # 51839 (7 missing)"
   ]
  },
  {
   "cell_type": "markdown",
   "metadata": {},
   "source": [
    "### Get the demographic features from each cohort, then combine"
   ]
  },
  {
   "cell_type": "markdown",
   "metadata": {},
   "source": [
    "#### Run the old cohort"
   ]
  },
  {
   "cell_type": "code",
   "execution_count": 89,
   "metadata": {},
   "outputs": [
    {
     "data": {
      "text/html": [
       "3867101"
      ],
      "text/latex": [
       "3867101"
      ],
      "text/markdown": [
       "3867101"
      ],
      "text/plain": [
       "[1] 3867101"
      ]
     },
     "metadata": {},
     "output_type": "display_data"
    },
    {
     "data": {
      "text/html": [
       "51846"
      ],
      "text/latex": [
       "51846"
      ],
      "text/markdown": [
       "51846"
      ],
      "text/plain": [
       "[1] 51846"
      ]
     },
     "metadata": {},
     "output_type": "display_data"
    },
    {
     "data": {
      "text/html": [
       "<table class=\"dataframe\">\n",
       "<caption>A grouped_df: 4 × 2</caption>\n",
       "<thead>\n",
       "\t<tr><th scope=col>feature_type</th><th scope=col>n</th></tr>\n",
       "\t<tr><th scope=col>&lt;chr&gt;</th><th scope=col>&lt;int&gt;</th></tr>\n",
       "</thead>\n",
       "<tbody>\n",
       "\t<tr><td>demo      </td><td> 881382</td></tr>\n",
       "\t<tr><td>labs      </td><td>1610383</td></tr>\n",
       "\t<tr><td>time_count</td><td> 207384</td></tr>\n",
       "\t<tr><td>vitals    </td><td>1167952</td></tr>\n",
       "</tbody>\n",
       "</table>\n"
      ],
      "text/latex": [
       "A grouped\\_df: 4 × 2\n",
       "\\begin{tabular}{ll}\n",
       " feature\\_type & n\\\\\n",
       " <chr> & <int>\\\\\n",
       "\\hline\n",
       "\t demo       &  881382\\\\\n",
       "\t labs       & 1610383\\\\\n",
       "\t time\\_count &  207384\\\\\n",
       "\t vitals     & 1167952\\\\\n",
       "\\end{tabular}\n"
      ],
      "text/markdown": [
       "\n",
       "A grouped_df: 4 × 2\n",
       "\n",
       "| feature_type &lt;chr&gt; | n &lt;int&gt; |\n",
       "|---|---|\n",
       "| demo       |  881382 |\n",
       "| labs       | 1610383 |\n",
       "| time_count |  207384 |\n",
       "| vitals     | 1167952 |\n",
       "\n"
      ],
      "text/plain": [
       "  feature_type n      \n",
       "1 demo          881382\n",
       "2 labs         1610383\n",
       "3 time_count    207384\n",
       "4 vitals       1167952"
      ]
     },
     "metadata": {},
     "output_type": "display_data"
    }
   ],
   "source": [
    "# check all features with values\n",
    "values <- read.csv(file.path(outdir, '12_coh4_noOR_noDKA_feature_values.csv'))\n",
    "nrow(values) # coh4 3867101 \n",
    "length(unique(values$pat_enc_csn_id_coded)) # 51846 \n",
    "values %>% group_by(feature_type) %>% count()"
   ]
  },
  {
   "cell_type": "code",
   "execution_count": 90,
   "metadata": {},
   "outputs": [
    {
     "data": {
      "text/html": [
       "881382"
      ],
      "text/latex": [
       "881382"
      ],
      "text/markdown": [
       "881382"
      ],
      "text/plain": [
       "[1] 881382"
      ]
     },
     "metadata": {},
     "output_type": "display_data"
    },
    {
     "data": {
      "text/html": [
       "51846"
      ],
      "text/latex": [
       "51846"
      ],
      "text/markdown": [
       "51846"
      ],
      "text/plain": [
       "[1] 51846"
      ]
     },
     "metadata": {},
     "output_type": "display_data"
    }
   ],
   "source": [
    "# get demographics features\n",
    "demos <- values %>% filter(feature_type == 'demo') %>% select(anon_id, pat_enc_csn_id_coded, admit_time, \n",
    "                                                              feature_type, features, values)\n",
    "nrow(demos) # coh4 881382 \n",
    "length(unique(demos$pat_enc_csn_id_coded)) # 51846"
   ]
  },
  {
   "cell_type": "code",
   "execution_count": 91,
   "metadata": {},
   "outputs": [
    {
     "data": {
      "text/html": [
       "<table class=\"dataframe\">\n",
       "<caption>A grouped_df: 1 × 2</caption>\n",
       "<thead>\n",
       "\t<tr><th scope=col>feature_type</th><th scope=col>n</th></tr>\n",
       "\t<tr><th scope=col>&lt;chr&gt;</th><th scope=col>&lt;int&gt;</th></tr>\n",
       "</thead>\n",
       "<tbody>\n",
       "\t<tr><td>demo</td><td>881382</td></tr>\n",
       "</tbody>\n",
       "</table>\n"
      ],
      "text/latex": [
       "A grouped\\_df: 1 × 2\n",
       "\\begin{tabular}{ll}\n",
       " feature\\_type & n\\\\\n",
       " <chr> & <int>\\\\\n",
       "\\hline\n",
       "\t demo & 881382\\\\\n",
       "\\end{tabular}\n"
      ],
      "text/markdown": [
       "\n",
       "A grouped_df: 1 × 2\n",
       "\n",
       "| feature_type &lt;chr&gt; | n &lt;int&gt; |\n",
       "|---|---|\n",
       "| demo | 881382 |\n",
       "\n"
      ],
      "text/plain": [
       "  feature_type n     \n",
       "1 demo         881382"
      ]
     },
     "metadata": {},
     "output_type": "display_data"
    },
    {
     "data": {
      "text/html": [
       "<table class=\"dataframe\">\n",
       "<caption>A grouped_df: 17 × 2</caption>\n",
       "<thead>\n",
       "\t<tr><th scope=col>features</th><th scope=col>n</th></tr>\n",
       "\t<tr><th scope=col>&lt;chr&gt;</th><th scope=col>&lt;int&gt;</th></tr>\n",
       "</thead>\n",
       "<tbody>\n",
       "\t<tr><td>age                  </td><td>51846</td></tr>\n",
       "\t<tr><td>delta_ESI            </td><td>51846</td></tr>\n",
       "\t<tr><td>delta_H              </td><td>51846</td></tr>\n",
       "\t<tr><td>delta_W              </td><td>51846</td></tr>\n",
       "\t<tr><td>English              </td><td>51846</td></tr>\n",
       "\t<tr><td>ESI_i                </td><td>51846</td></tr>\n",
       "\t<tr><td>gender               </td><td>51846</td></tr>\n",
       "\t<tr><td>Height_i             </td><td>51846</td></tr>\n",
       "\t<tr><td>insurance            </td><td>51846</td></tr>\n",
       "\t<tr><td>race.Asian           </td><td>51846</td></tr>\n",
       "\t<tr><td>race.Black           </td><td>51846</td></tr>\n",
       "\t<tr><td>race.Native.American </td><td>51846</td></tr>\n",
       "\t<tr><td>race.Other           </td><td>51846</td></tr>\n",
       "\t<tr><td>race.Pacific.Islander</td><td>51846</td></tr>\n",
       "\t<tr><td>race.Unknown         </td><td>51846</td></tr>\n",
       "\t<tr><td>race.White           </td><td>51846</td></tr>\n",
       "\t<tr><td>Weight_i             </td><td>51846</td></tr>\n",
       "</tbody>\n",
       "</table>\n"
      ],
      "text/latex": [
       "A grouped\\_df: 17 × 2\n",
       "\\begin{tabular}{ll}\n",
       " features & n\\\\\n",
       " <chr> & <int>\\\\\n",
       "\\hline\n",
       "\t age                   & 51846\\\\\n",
       "\t delta\\_ESI             & 51846\\\\\n",
       "\t delta\\_H               & 51846\\\\\n",
       "\t delta\\_W               & 51846\\\\\n",
       "\t English               & 51846\\\\\n",
       "\t ESI\\_i                 & 51846\\\\\n",
       "\t gender                & 51846\\\\\n",
       "\t Height\\_i              & 51846\\\\\n",
       "\t insurance             & 51846\\\\\n",
       "\t race.Asian            & 51846\\\\\n",
       "\t race.Black            & 51846\\\\\n",
       "\t race.Native.American  & 51846\\\\\n",
       "\t race.Other            & 51846\\\\\n",
       "\t race.Pacific.Islander & 51846\\\\\n",
       "\t race.Unknown          & 51846\\\\\n",
       "\t race.White            & 51846\\\\\n",
       "\t Weight\\_i              & 51846\\\\\n",
       "\\end{tabular}\n"
      ],
      "text/markdown": [
       "\n",
       "A grouped_df: 17 × 2\n",
       "\n",
       "| features &lt;chr&gt; | n &lt;int&gt; |\n",
       "|---|---|\n",
       "| age                   | 51846 |\n",
       "| delta_ESI             | 51846 |\n",
       "| delta_H               | 51846 |\n",
       "| delta_W               | 51846 |\n",
       "| English               | 51846 |\n",
       "| ESI_i                 | 51846 |\n",
       "| gender                | 51846 |\n",
       "| Height_i              | 51846 |\n",
       "| insurance             | 51846 |\n",
       "| race.Asian            | 51846 |\n",
       "| race.Black            | 51846 |\n",
       "| race.Native.American  | 51846 |\n",
       "| race.Other            | 51846 |\n",
       "| race.Pacific.Islander | 51846 |\n",
       "| race.Unknown          | 51846 |\n",
       "| race.White            | 51846 |\n",
       "| Weight_i              | 51846 |\n",
       "\n"
      ],
      "text/plain": [
       "   features              n    \n",
       "1  age                   51846\n",
       "2  delta_ESI             51846\n",
       "3  delta_H               51846\n",
       "4  delta_W               51846\n",
       "5  English               51846\n",
       "6  ESI_i                 51846\n",
       "7  gender                51846\n",
       "8  Height_i              51846\n",
       "9  insurance             51846\n",
       "10 race.Asian            51846\n",
       "11 race.Black            51846\n",
       "12 race.Native.American  51846\n",
       "13 race.Other            51846\n",
       "14 race.Pacific.Islander 51846\n",
       "15 race.Unknown          51846\n",
       "16 race.White            51846\n",
       "17 Weight_i              51846"
      ]
     },
     "metadata": {},
     "output_type": "display_data"
    }
   ],
   "source": [
    "demos %>% group_by(feature_type) %>% count()\n",
    "demos %>% group_by(features) %>% count()"
   ]
  },
  {
   "cell_type": "markdown",
   "metadata": {},
   "source": [
    "### Check the featurized binned labs_vitals\n",
    "- Keep them both (`..._train` and `..._test`) in the same dataframe\n",
    "- Run `2_7_feature_values`, `2_8_binned_labs_vitals_train`, and `2_8_binned_labs_vitals_test` \n",
    "- Rerun the old cohort and new cohort separately, then combine the demos and order counts features\n",
    "- The featurirzed labs and vitals are already combined in the previous notebook 6.10"
   ]
  },
  {
   "cell_type": "code",
   "execution_count": 125,
   "metadata": {},
   "outputs": [
    {
     "data": {
      "text/html": [
       "2178440"
      ],
      "text/latex": [
       "2178440"
      ],
      "text/markdown": [
       "2178440"
      ],
      "text/plain": [
       "[1] 2178440"
      ]
     },
     "metadata": {},
     "output_type": "display_data"
    },
    {
     "data": {
      "text/html": [
       "51845"
      ],
      "text/latex": [
       "51845"
      ],
      "text/markdown": [
       "51845"
      ],
      "text/plain": [
       "[1] 51845"
      ]
     },
     "metadata": {},
     "output_type": "display_data"
    },
    {
     "data": {
      "text/html": [
       "<table class=\"dataframe\">\n",
       "<caption>A grouped_df: 2 × 2</caption>\n",
       "<thead>\n",
       "\t<tr><th scope=col>feature_type</th><th scope=col>n</th></tr>\n",
       "\t<tr><th scope=col>&lt;chr&gt;</th><th scope=col>&lt;int&gt;</th></tr>\n",
       "</thead>\n",
       "<tbody>\n",
       "\t<tr><td>labs_results_train</td><td>1535102</td></tr>\n",
       "\t<tr><td>vitals_train      </td><td> 643338</td></tr>\n",
       "</tbody>\n",
       "</table>\n"
      ],
      "text/latex": [
       "A grouped\\_df: 2 × 2\n",
       "\\begin{tabular}{ll}\n",
       " feature\\_type & n\\\\\n",
       " <chr> & <int>\\\\\n",
       "\\hline\n",
       "\t labs\\_results\\_train & 1535102\\\\\n",
       "\t vitals\\_train       &  643338\\\\\n",
       "\\end{tabular}\n"
      ],
      "text/markdown": [
       "\n",
       "A grouped_df: 2 × 2\n",
       "\n",
       "| feature_type &lt;chr&gt; | n &lt;int&gt; |\n",
       "|---|---|\n",
       "| labs_results_train | 1535102 |\n",
       "| vitals_train       |  643338 |\n",
       "\n"
      ],
      "text/plain": [
       "  feature_type       n      \n",
       "1 labs_results_train 1535102\n",
       "2 vitals_train        643338"
      ]
     },
     "metadata": {},
     "output_type": "display_data"
    }
   ],
   "source": [
    "# read in train_binned labs and vitals\n",
    "# trainbinned_labs_vitals <- read.csv(file.path(outdir, '13_coh4_binned_labs_vitals_train.csv'))\n",
    "trainbinned_labs_vitals <- read.csv(file.path(outdir, '13.2_coh4_binned_labs_vitals_train.csv'))\n",
    "\n",
    "nrow(trainbinned_labs_vitals) #coh4: old 2185308\n",
    "length(unique(trainbinned_labs_vitals$pat_enc_csn_id_coded)) # 51845\n",
    "trainbinned_labs_vitals %>% group_by(feature_type) %>% count()"
   ]
  },
  {
   "cell_type": "code",
   "execution_count": 126,
   "metadata": {},
   "outputs": [
    {
     "data": {
      "text/html": [
       "131289492397"
      ],
      "text/latex": [
       "131289492397"
      ],
      "text/markdown": [
       "131289492397"
      ],
      "text/plain": [
       "[1] 131289492397"
      ]
     },
     "metadata": {},
     "output_type": "display_data"
    }
   ],
   "source": [
    "# this patient has no vitals or labs within 24 hours? difftime in featurized didn't take this one!!!! removed \n",
    "setdiff(cohort$pat_enc_csn_id_coded, trainbinned_labs_vitals$pat_enc_csn_id_coded)"
   ]
  },
  {
   "cell_type": "code",
   "execution_count": 127,
   "metadata": {},
   "outputs": [
    {
     "data": {
      "text/html": [
       "2185293"
      ],
      "text/latex": [
       "2185293"
      ],
      "text/markdown": [
       "2185293"
      ],
      "text/plain": [
       "[1] 2185293"
      ]
     },
     "metadata": {},
     "output_type": "display_data"
    },
    {
     "data": {
      "text/html": [
       "51845"
      ],
      "text/latex": [
       "51845"
      ],
      "text/markdown": [
       "51845"
      ],
      "text/plain": [
       "[1] 51845"
      ]
     },
     "metadata": {},
     "output_type": "display_data"
    },
    {
     "data": {
      "text/html": [
       "<table class=\"dataframe\">\n",
       "<caption>A grouped_df: 2 × 2</caption>\n",
       "<thead>\n",
       "\t<tr><th scope=col>feature_type</th><th scope=col>n</th></tr>\n",
       "\t<tr><th scope=col>&lt;chr&gt;</th><th scope=col>&lt;int&gt;</th></tr>\n",
       "</thead>\n",
       "<tbody>\n",
       "\t<tr><td>labs_results_test</td><td>1535266</td></tr>\n",
       "\t<tr><td>vitals_test      </td><td> 650027</td></tr>\n",
       "</tbody>\n",
       "</table>\n"
      ],
      "text/latex": [
       "A grouped\\_df: 2 × 2\n",
       "\\begin{tabular}{ll}\n",
       " feature\\_type & n\\\\\n",
       " <chr> & <int>\\\\\n",
       "\\hline\n",
       "\t labs\\_results\\_test & 1535266\\\\\n",
       "\t vitals\\_test       &  650027\\\\\n",
       "\\end{tabular}\n"
      ],
      "text/markdown": [
       "\n",
       "A grouped_df: 2 × 2\n",
       "\n",
       "| feature_type &lt;chr&gt; | n &lt;int&gt; |\n",
       "|---|---|\n",
       "| labs_results_test | 1535266 |\n",
       "| vitals_test       |  650027 |\n",
       "\n"
      ],
      "text/plain": [
       "  feature_type      n      \n",
       "1 labs_results_test 1535266\n",
       "2 vitals_test        650027"
      ]
     },
     "metadata": {},
     "output_type": "display_data"
    }
   ],
   "source": [
    "# read in test_binned labs and vitals, new cohort\n",
    "# testbinned_labs_vitals <- read.csv(file.path(outdir, '13_coh4_binned_labs_vitals_test.csv'))\n",
    "testbinned_labs_vitals <- read.csv(file.path(outdir, '13.2_coh4_binned_labs_vitals_test.csv'))\n",
    "\n",
    "nrow(testbinned_labs_vitals) #coh4 2184675 \n",
    "length(unique(testbinned_labs_vitals$pat_enc_csn_id_coded)) # 51845\n",
    "testbinned_labs_vitals %>% group_by(feature_type) %>% count()"
   ]
  },
  {
   "cell_type": "raw",
   "metadata": {},
   "source": [
    "# read in test_binned labs and vitals, new cohort\n",
    "testbinned_labs_vitals1 <- read.csv(file.path(outdir, '13_coh4_binned_labs_vitals_test.csv'))\n",
    "\n",
    "nrow(testbinned_labs_vitals1) #coh4 2184675 \n",
    "\n",
    "# read in test_binned labs and vitals, new cohort\n",
    "testbinned_labs_vitals2 <- read.csv(file.path(outdir, '13_coh4_all_binned_labs_vitals_test.csv'))\n",
    "\n",
    "nrow(testbinned_labs_vitals2) #coh4 2184675 \n",
    "all.equal(testbinned_labs_vitals2, testbinned_labs_vitals1)"
   ]
  },
  {
   "cell_type": "code",
   "execution_count": 96,
   "metadata": {},
   "outputs": [
    {
     "data": {
      "text/html": [
       "<table class=\"dataframe\">\n",
       "<caption>A data.frame: 1 × 6</caption>\n",
       "<thead>\n",
       "\t<tr><th></th><th scope=col>anon_id</th><th scope=col>pat_enc_csn_id_coded</th><th scope=col>admit_time</th><th scope=col>feature_type</th><th scope=col>features</th><th scope=col>values</th></tr>\n",
       "\t<tr><th></th><th scope=col>&lt;chr&gt;</th><th scope=col>&lt;dbl&gt;</th><th scope=col>&lt;chr&gt;</th><th scope=col>&lt;chr&gt;</th><th scope=col>&lt;chr&gt;</th><th scope=col>&lt;int&gt;</th></tr>\n",
       "</thead>\n",
       "<tbody>\n",
       "\t<tr><th scope=row>1</th><td>JC1000116</td><td>131066472308</td><td>2015-01-28 00:46:00+00:00</td><td>labs_results_train</td><td>ALB_2</td><td>1</td></tr>\n",
       "</tbody>\n",
       "</table>\n"
      ],
      "text/latex": [
       "A data.frame: 1 × 6\n",
       "\\begin{tabular}{r|llllll}\n",
       "  & anon\\_id & pat\\_enc\\_csn\\_id\\_coded & admit\\_time & feature\\_type & features & values\\\\\n",
       "  & <chr> & <dbl> & <chr> & <chr> & <chr> & <int>\\\\\n",
       "\\hline\n",
       "\t1 & JC1000116 & 131066472308 & 2015-01-28 00:46:00+00:00 & labs\\_results\\_train & ALB\\_2 & 1\\\\\n",
       "\\end{tabular}\n"
      ],
      "text/markdown": [
       "\n",
       "A data.frame: 1 × 6\n",
       "\n",
       "| <!--/--> | anon_id &lt;chr&gt; | pat_enc_csn_id_coded &lt;dbl&gt; | admit_time &lt;chr&gt; | feature_type &lt;chr&gt; | features &lt;chr&gt; | values &lt;int&gt; |\n",
       "|---|---|---|---|---|---|---|\n",
       "| 1 | JC1000116 | 131066472308 | 2015-01-28 00:46:00+00:00 | labs_results_train | ALB_2 | 1 |\n",
       "\n"
      ],
      "text/plain": [
       "  anon_id   pat_enc_csn_id_coded admit_time                feature_type      \n",
       "1 JC1000116 131066472308         2015-01-28 00:46:00+00:00 labs_results_train\n",
       "  features values\n",
       "1 ALB_2    1     "
      ]
     },
     "metadata": {},
     "output_type": "display_data"
    },
    {
     "data": {
      "text/html": [
       "<table class=\"dataframe\">\n",
       "<caption>A data.frame: 1 × 6</caption>\n",
       "<thead>\n",
       "\t<tr><th></th><th scope=col>anon_id</th><th scope=col>pat_enc_csn_id_coded</th><th scope=col>admit_time</th><th scope=col>feature_type</th><th scope=col>features</th><th scope=col>values</th></tr>\n",
       "\t<tr><th></th><th scope=col>&lt;chr&gt;</th><th scope=col>&lt;dbl&gt;</th><th scope=col>&lt;chr&gt;</th><th scope=col>&lt;chr&gt;</th><th scope=col>&lt;chr&gt;</th><th scope=col>&lt;int&gt;</th></tr>\n",
       "</thead>\n",
       "<tbody>\n",
       "\t<tr><th scope=row>1</th><td>JC1000116</td><td>131066472308</td><td>2015-01-28 00:46:00+00:00</td><td>labs_results_test</td><td>ALB_1</td><td>1</td></tr>\n",
       "</tbody>\n",
       "</table>\n"
      ],
      "text/latex": [
       "A data.frame: 1 × 6\n",
       "\\begin{tabular}{r|llllll}\n",
       "  & anon\\_id & pat\\_enc\\_csn\\_id\\_coded & admit\\_time & feature\\_type & features & values\\\\\n",
       "  & <chr> & <dbl> & <chr> & <chr> & <chr> & <int>\\\\\n",
       "\\hline\n",
       "\t1 & JC1000116 & 131066472308 & 2015-01-28 00:46:00+00:00 & labs\\_results\\_test & ALB\\_1 & 1\\\\\n",
       "\\end{tabular}\n"
      ],
      "text/markdown": [
       "\n",
       "A data.frame: 1 × 6\n",
       "\n",
       "| <!--/--> | anon_id &lt;chr&gt; | pat_enc_csn_id_coded &lt;dbl&gt; | admit_time &lt;chr&gt; | feature_type &lt;chr&gt; | features &lt;chr&gt; | values &lt;int&gt; |\n",
       "|---|---|---|---|---|---|---|\n",
       "| 1 | JC1000116 | 131066472308 | 2015-01-28 00:46:00+00:00 | labs_results_test | ALB_1 | 1 |\n",
       "\n"
      ],
      "text/plain": [
       "  anon_id   pat_enc_csn_id_coded admit_time                feature_type     \n",
       "1 JC1000116 131066472308         2015-01-28 00:46:00+00:00 labs_results_test\n",
       "  features values\n",
       "1 ALB_1    1     "
      ]
     },
     "metadata": {},
     "output_type": "display_data"
    }
   ],
   "source": [
    "head(trainbinned_labs_vitals, 1)\n",
    "head(testbinned_labs_vitals, 1)"
   ]
  },
  {
   "cell_type": "markdown",
   "metadata": {},
   "source": [
    "### Combine all features"
   ]
  },
  {
   "cell_type": "code",
   "execution_count": 97,
   "metadata": {},
   "outputs": [
    {
     "data": {
      "text/html": [
       "<table class=\"dataframe\">\n",
       "<caption>A data.frame: 1 × 6</caption>\n",
       "<thead>\n",
       "\t<tr><th></th><th scope=col>anon_id</th><th scope=col>pat_enc_csn_id_coded</th><th scope=col>admit_time</th><th scope=col>feature_type</th><th scope=col>features</th><th scope=col>values</th></tr>\n",
       "\t<tr><th></th><th scope=col>&lt;chr&gt;</th><th scope=col>&lt;dbl&gt;</th><th scope=col>&lt;chr&gt;</th><th scope=col>&lt;chr&gt;</th><th scope=col>&lt;chr&gt;</th><th scope=col>&lt;dbl&gt;</th></tr>\n",
       "</thead>\n",
       "<tbody>\n",
       "\t<tr><th scope=row>1</th><td>JC1000116</td><td>131066472308</td><td>2015-01-28 00:46:00</td><td>demo</td><td>ESI_i</td><td>3</td></tr>\n",
       "</tbody>\n",
       "</table>\n"
      ],
      "text/latex": [
       "A data.frame: 1 × 6\n",
       "\\begin{tabular}{r|llllll}\n",
       "  & anon\\_id & pat\\_enc\\_csn\\_id\\_coded & admit\\_time & feature\\_type & features & values\\\\\n",
       "  & <chr> & <dbl> & <chr> & <chr> & <chr> & <dbl>\\\\\n",
       "\\hline\n",
       "\t1 & JC1000116 & 131066472308 & 2015-01-28 00:46:00 & demo & ESI\\_i & 3\\\\\n",
       "\\end{tabular}\n"
      ],
      "text/markdown": [
       "\n",
       "A data.frame: 1 × 6\n",
       "\n",
       "| <!--/--> | anon_id &lt;chr&gt; | pat_enc_csn_id_coded &lt;dbl&gt; | admit_time &lt;chr&gt; | feature_type &lt;chr&gt; | features &lt;chr&gt; | values &lt;dbl&gt; |\n",
       "|---|---|---|---|---|---|---|\n",
       "| 1 | JC1000116 | 131066472308 | 2015-01-28 00:46:00 | demo | ESI_i | 3 |\n",
       "\n"
      ],
      "text/plain": [
       "  anon_id   pat_enc_csn_id_coded admit_time          feature_type features\n",
       "1 JC1000116 131066472308         2015-01-28 00:46:00 demo         ESI_i   \n",
       "  values\n",
       "1 3     "
      ]
     },
     "metadata": {},
     "output_type": "display_data"
    },
    {
     "data": {
      "text/html": [
       "<table class=\"dataframe\">\n",
       "<caption>A data.frame: 1 × 6</caption>\n",
       "<thead>\n",
       "\t<tr><th></th><th scope=col>anon_id</th><th scope=col>pat_enc_csn_id_coded</th><th scope=col>admit_time</th><th scope=col>feature_type</th><th scope=col>features</th><th scope=col>values</th></tr>\n",
       "\t<tr><th></th><th scope=col>&lt;chr&gt;</th><th scope=col>&lt;dbl&gt;</th><th scope=col>&lt;chr&gt;</th><th scope=col>&lt;chr&gt;</th><th scope=col>&lt;chr&gt;</th><th scope=col>&lt;int&gt;</th></tr>\n",
       "</thead>\n",
       "<tbody>\n",
       "\t<tr><th scope=row>1</th><td>JC1170548</td><td>131062572931</td><td>2015-01-02 03:48:00+00:00</td><td>Diagnosis</td><td>E10.10</td><td>1</td></tr>\n",
       "</tbody>\n",
       "</table>\n"
      ],
      "text/latex": [
       "A data.frame: 1 × 6\n",
       "\\begin{tabular}{r|llllll}\n",
       "  & anon\\_id & pat\\_enc\\_csn\\_id\\_coded & admit\\_time & feature\\_type & features & values\\\\\n",
       "  & <chr> & <dbl> & <chr> & <chr> & <chr> & <int>\\\\\n",
       "\\hline\n",
       "\t1 & JC1170548 & 131062572931 & 2015-01-02 03:48:00+00:00 & Diagnosis & E10.10 & 1\\\\\n",
       "\\end{tabular}\n"
      ],
      "text/markdown": [
       "\n",
       "A data.frame: 1 × 6\n",
       "\n",
       "| <!--/--> | anon_id &lt;chr&gt; | pat_enc_csn_id_coded &lt;dbl&gt; | admit_time &lt;chr&gt; | feature_type &lt;chr&gt; | features &lt;chr&gt; | values &lt;int&gt; |\n",
       "|---|---|---|---|---|---|---|\n",
       "| 1 | JC1170548 | 131062572931 | 2015-01-02 03:48:00+00:00 | Diagnosis | E10.10 | 1 |\n",
       "\n"
      ],
      "text/plain": [
       "  anon_id   pat_enc_csn_id_coded admit_time                feature_type\n",
       "1 JC1170548 131062572931         2015-01-02 03:48:00+00:00 Diagnosis   \n",
       "  features values\n",
       "1 E10.10   1     "
      ]
     },
     "metadata": {},
     "output_type": "display_data"
    },
    {
     "data": {
      "text/html": [
       "<table class=\"dataframe\">\n",
       "<caption>A data.frame: 1 × 6</caption>\n",
       "<thead>\n",
       "\t<tr><th></th><th scope=col>anon_id</th><th scope=col>pat_enc_csn_id_coded</th><th scope=col>admit_time</th><th scope=col>feature_type</th><th scope=col>features</th><th scope=col>values</th></tr>\n",
       "\t<tr><th></th><th scope=col>&lt;chr&gt;</th><th scope=col>&lt;dbl&gt;</th><th scope=col>&lt;chr&gt;</th><th scope=col>&lt;chr&gt;</th><th scope=col>&lt;chr&gt;</th><th scope=col>&lt;int&gt;</th></tr>\n",
       "</thead>\n",
       "<tbody>\n",
       "\t<tr><th scope=row>1</th><td>JC1000116</td><td>131066472308</td><td>2015-01-28 00:46:00+00:00</td><td>labs_results_train</td><td>ALB_2</td><td>1</td></tr>\n",
       "</tbody>\n",
       "</table>\n"
      ],
      "text/latex": [
       "A data.frame: 1 × 6\n",
       "\\begin{tabular}{r|llllll}\n",
       "  & anon\\_id & pat\\_enc\\_csn\\_id\\_coded & admit\\_time & feature\\_type & features & values\\\\\n",
       "  & <chr> & <dbl> & <chr> & <chr> & <chr> & <int>\\\\\n",
       "\\hline\n",
       "\t1 & JC1000116 & 131066472308 & 2015-01-28 00:46:00+00:00 & labs\\_results\\_train & ALB\\_2 & 1\\\\\n",
       "\\end{tabular}\n"
      ],
      "text/markdown": [
       "\n",
       "A data.frame: 1 × 6\n",
       "\n",
       "| <!--/--> | anon_id &lt;chr&gt; | pat_enc_csn_id_coded &lt;dbl&gt; | admit_time &lt;chr&gt; | feature_type &lt;chr&gt; | features &lt;chr&gt; | values &lt;int&gt; |\n",
       "|---|---|---|---|---|---|---|\n",
       "| 1 | JC1000116 | 131066472308 | 2015-01-28 00:46:00+00:00 | labs_results_train | ALB_2 | 1 |\n",
       "\n"
      ],
      "text/plain": [
       "  anon_id   pat_enc_csn_id_coded admit_time                feature_type      \n",
       "1 JC1000116 131066472308         2015-01-28 00:46:00+00:00 labs_results_train\n",
       "  features values\n",
       "1 ALB_2    1     "
      ]
     },
     "metadata": {},
     "output_type": "display_data"
    },
    {
     "data": {
      "text/html": [
       "<table class=\"dataframe\">\n",
       "<caption>A data.frame: 1 × 6</caption>\n",
       "<thead>\n",
       "\t<tr><th></th><th scope=col>anon_id</th><th scope=col>pat_enc_csn_id_coded</th><th scope=col>admit_time</th><th scope=col>feature_type</th><th scope=col>features</th><th scope=col>values</th></tr>\n",
       "\t<tr><th></th><th scope=col>&lt;chr&gt;</th><th scope=col>&lt;dbl&gt;</th><th scope=col>&lt;chr&gt;</th><th scope=col>&lt;chr&gt;</th><th scope=col>&lt;chr&gt;</th><th scope=col>&lt;int&gt;</th></tr>\n",
       "</thead>\n",
       "<tbody>\n",
       "\t<tr><th scope=row>1</th><td>JC1000116</td><td>131066472308</td><td>2015-01-28 00:46:00+00:00</td><td>labs_results_test</td><td>ALB_1</td><td>1</td></tr>\n",
       "</tbody>\n",
       "</table>\n"
      ],
      "text/latex": [
       "A data.frame: 1 × 6\n",
       "\\begin{tabular}{r|llllll}\n",
       "  & anon\\_id & pat\\_enc\\_csn\\_id\\_coded & admit\\_time & feature\\_type & features & values\\\\\n",
       "  & <chr> & <dbl> & <chr> & <chr> & <chr> & <int>\\\\\n",
       "\\hline\n",
       "\t1 & JC1000116 & 131066472308 & 2015-01-28 00:46:00+00:00 & labs\\_results\\_test & ALB\\_1 & 1\\\\\n",
       "\\end{tabular}\n"
      ],
      "text/markdown": [
       "\n",
       "A data.frame: 1 × 6\n",
       "\n",
       "| <!--/--> | anon_id &lt;chr&gt; | pat_enc_csn_id_coded &lt;dbl&gt; | admit_time &lt;chr&gt; | feature_type &lt;chr&gt; | features &lt;chr&gt; | values &lt;int&gt; |\n",
       "|---|---|---|---|---|---|---|\n",
       "| 1 | JC1000116 | 131066472308 | 2015-01-28 00:46:00+00:00 | labs_results_test | ALB_1 | 1 |\n",
       "\n"
      ],
      "text/plain": [
       "  anon_id   pat_enc_csn_id_coded admit_time                feature_type     \n",
       "1 JC1000116 131066472308         2015-01-28 00:46:00+00:00 labs_results_test\n",
       "  features values\n",
       "1 ALB_1    1     "
      ]
     },
     "metadata": {},
     "output_type": "display_data"
    }
   ],
   "source": [
    "head(demos, 1)\n",
    "head(orders_micro,1)\n",
    "head(trainbinned_labs_vitals, 1)\n",
    "head(testbinned_labs_vitals, 1)"
   ]
  },
  {
   "cell_type": "code",
   "execution_count": 128,
   "metadata": {},
   "outputs": [
    {
     "data": {
      "text/html": [
       "13471900"
      ],
      "text/latex": [
       "13471900"
      ],
      "text/markdown": [
       "13471900"
      ],
      "text/plain": [
       "[1] 13471900"
      ]
     },
     "metadata": {},
     "output_type": "display_data"
    },
    {
     "data": {
      "text/html": [
       "51845"
      ],
      "text/latex": [
       "51845"
      ],
      "text/markdown": [
       "51845"
      ],
      "text/plain": [
       "[1] 51845"
      ]
     },
     "metadata": {},
     "output_type": "display_data"
    },
    {
     "data": {
      "text/html": [
       "48087"
      ],
      "text/latex": [
       "48087"
      ],
      "text/markdown": [
       "48087"
      ],
      "text/plain": [
       "[1] 48087"
      ]
     },
     "metadata": {},
     "output_type": "display_data"
    },
    {
     "data": {
      "text/html": [
       "<table class=\"dataframe\">\n",
       "<caption>A grouped_df: 11 × 2</caption>\n",
       "<thead>\n",
       "\t<tr><th scope=col>feature_type</th><th scope=col>n</th></tr>\n",
       "\t<tr><th scope=col>&lt;chr&gt;</th><th scope=col>&lt;int&gt;</th></tr>\n",
       "</thead>\n",
       "<tbody>\n",
       "\t<tr><td>Diagnosis         </td><td>4117094</td></tr>\n",
       "\t<tr><td>Meds              </td><td>2354880</td></tr>\n",
       "\t<tr><td>labs_results_test </td><td>1535266</td></tr>\n",
       "\t<tr><td>labs_results_train</td><td>1535102</td></tr>\n",
       "\t<tr><td>Lab               </td><td>1274123</td></tr>\n",
       "\t<tr><td>demo              </td><td> 881365</td></tr>\n",
       "\t<tr><td>vitals_test       </td><td> 650027</td></tr>\n",
       "\t<tr><td>vitals_train      </td><td> 643338</td></tr>\n",
       "\t<tr><td>Imaging           </td><td> 367675</td></tr>\n",
       "\t<tr><td>Procedures        </td><td>  65928</td></tr>\n",
       "\t<tr><td>Microbiology      </td><td>  47102</td></tr>\n",
       "</tbody>\n",
       "</table>\n"
      ],
      "text/latex": [
       "A grouped\\_df: 11 × 2\n",
       "\\begin{tabular}{ll}\n",
       " feature\\_type & n\\\\\n",
       " <chr> & <int>\\\\\n",
       "\\hline\n",
       "\t Diagnosis          & 4117094\\\\\n",
       "\t Meds               & 2354880\\\\\n",
       "\t labs\\_results\\_test  & 1535266\\\\\n",
       "\t labs\\_results\\_train & 1535102\\\\\n",
       "\t Lab                & 1274123\\\\\n",
       "\t demo               &  881365\\\\\n",
       "\t vitals\\_test        &  650027\\\\\n",
       "\t vitals\\_train       &  643338\\\\\n",
       "\t Imaging            &  367675\\\\\n",
       "\t Procedures         &   65928\\\\\n",
       "\t Microbiology       &   47102\\\\\n",
       "\\end{tabular}\n"
      ],
      "text/markdown": [
       "\n",
       "A grouped_df: 11 × 2\n",
       "\n",
       "| feature_type &lt;chr&gt; | n &lt;int&gt; |\n",
       "|---|---|\n",
       "| Diagnosis          | 4117094 |\n",
       "| Meds               | 2354880 |\n",
       "| labs_results_test  | 1535266 |\n",
       "| labs_results_train | 1535102 |\n",
       "| Lab                | 1274123 |\n",
       "| demo               |  881365 |\n",
       "| vitals_test        |  650027 |\n",
       "| vitals_train       |  643338 |\n",
       "| Imaging            |  367675 |\n",
       "| Procedures         |   65928 |\n",
       "| Microbiology       |   47102 |\n",
       "\n"
      ],
      "text/plain": [
       "   feature_type       n      \n",
       "1  Diagnosis          4117094\n",
       "2  Meds               2354880\n",
       "3  labs_results_test  1535266\n",
       "4  labs_results_train 1535102\n",
       "5  Lab                1274123\n",
       "6  demo                881365\n",
       "7  vitals_test         650027\n",
       "8  vitals_train        643338\n",
       "9  Imaging             367675\n",
       "10 Procedures           65928\n",
       "11 Microbiology         47102"
      ]
     },
     "metadata": {},
     "output_type": "display_data"
    }
   ],
   "source": [
    "# combine all features for the complex data set, remove time column since demo doesn't have it\n",
    "features_all <- bind_rows(demos, orders_micro, trainbinned_labs_vitals, testbinned_labs_vitals) %>%\n",
    "                    filter(pat_enc_csn_id_coded != 131289492397) %>% mutate(admit_time = ymd_hms(admit_time))\n",
    "nrow(features_all) # 14269242 \n",
    "length(unique(features_all$pat_enc_csn_id_coded)) # 51845\n",
    "length(unique(features_all$features)) # 49278\n",
    "features_all %>% group_by(feature_type) %>% count(sort=TRUE)"
   ]
  },
  {
   "cell_type": "code",
   "execution_count": 99,
   "metadata": {},
   "outputs": [
    {
     "data": {
      "text/html": [
       "<table class=\"dataframe\">\n",
       "<caption>A data.frame: 1 × 6</caption>\n",
       "<thead>\n",
       "\t<tr><th></th><th scope=col>anon_id</th><th scope=col>pat_enc_csn_id_coded</th><th scope=col>admit_time</th><th scope=col>feature_type</th><th scope=col>features</th><th scope=col>values</th></tr>\n",
       "\t<tr><th></th><th scope=col>&lt;chr&gt;</th><th scope=col>&lt;dbl&gt;</th><th scope=col>&lt;dttm&gt;</th><th scope=col>&lt;chr&gt;</th><th scope=col>&lt;chr&gt;</th><th scope=col>&lt;dbl&gt;</th></tr>\n",
       "</thead>\n",
       "<tbody>\n",
       "\t<tr><th scope=row>1</th><td>JC1000116</td><td>131066472308</td><td>2015-01-28 00:46:00</td><td>demo</td><td>ESI_i</td><td>3</td></tr>\n",
       "</tbody>\n",
       "</table>\n"
      ],
      "text/latex": [
       "A data.frame: 1 × 6\n",
       "\\begin{tabular}{r|llllll}\n",
       "  & anon\\_id & pat\\_enc\\_csn\\_id\\_coded & admit\\_time & feature\\_type & features & values\\\\\n",
       "  & <chr> & <dbl> & <dttm> & <chr> & <chr> & <dbl>\\\\\n",
       "\\hline\n",
       "\t1 & JC1000116 & 131066472308 & 2015-01-28 00:46:00 & demo & ESI\\_i & 3\\\\\n",
       "\\end{tabular}\n"
      ],
      "text/markdown": [
       "\n",
       "A data.frame: 1 × 6\n",
       "\n",
       "| <!--/--> | anon_id &lt;chr&gt; | pat_enc_csn_id_coded &lt;dbl&gt; | admit_time &lt;dttm&gt; | feature_type &lt;chr&gt; | features &lt;chr&gt; | values &lt;dbl&gt; |\n",
       "|---|---|---|---|---|---|---|\n",
       "| 1 | JC1000116 | 131066472308 | 2015-01-28 00:46:00 | demo | ESI_i | 3 |\n",
       "\n"
      ],
      "text/plain": [
       "  anon_id   pat_enc_csn_id_coded admit_time          feature_type features\n",
       "1 JC1000116 131066472308         2015-01-28 00:46:00 demo         ESI_i   \n",
       "  values\n",
       "1 3     "
      ]
     },
     "metadata": {},
     "output_type": "display_data"
    },
    {
     "data": {
      "text/html": [
       "<table class=\"dataframe\">\n",
       "<caption>A data.frame: 1 × 6</caption>\n",
       "<thead>\n",
       "\t<tr><th></th><th scope=col>anon_id</th><th scope=col>pat_enc_csn_id_coded</th><th scope=col>admit_time</th><th scope=col>feature_type</th><th scope=col>features</th><th scope=col>values</th></tr>\n",
       "\t<tr><th></th><th scope=col>&lt;chr&gt;</th><th scope=col>&lt;dbl&gt;</th><th scope=col>&lt;dttm&gt;</th><th scope=col>&lt;chr&gt;</th><th scope=col>&lt;chr&gt;</th><th scope=col>&lt;dbl&gt;</th></tr>\n",
       "</thead>\n",
       "<tbody>\n",
       "\t<tr><th scope=row>13471900</th><td>JC999925</td><td>1.31274e+11</td><td>2019-07-29 01:55:00</td><td>labs_results_test</td><td>eGFR_2</td><td>1</td></tr>\n",
       "</tbody>\n",
       "</table>\n"
      ],
      "text/latex": [
       "A data.frame: 1 × 6\n",
       "\\begin{tabular}{r|llllll}\n",
       "  & anon\\_id & pat\\_enc\\_csn\\_id\\_coded & admit\\_time & feature\\_type & features & values\\\\\n",
       "  & <chr> & <dbl> & <dttm> & <chr> & <chr> & <dbl>\\\\\n",
       "\\hline\n",
       "\t13471900 & JC999925 & 1.31274e+11 & 2019-07-29 01:55:00 & labs\\_results\\_test & eGFR\\_2 & 1\\\\\n",
       "\\end{tabular}\n"
      ],
      "text/markdown": [
       "\n",
       "A data.frame: 1 × 6\n",
       "\n",
       "| <!--/--> | anon_id &lt;chr&gt; | pat_enc_csn_id_coded &lt;dbl&gt; | admit_time &lt;dttm&gt; | feature_type &lt;chr&gt; | features &lt;chr&gt; | values &lt;dbl&gt; |\n",
       "|---|---|---|---|---|---|---|\n",
       "| 13471900 | JC999925 | 1.31274e+11 | 2019-07-29 01:55:00 | labs_results_test | eGFR_2 | 1 |\n",
       "\n"
      ],
      "text/plain": [
       "         anon_id  pat_enc_csn_id_coded admit_time          feature_type     \n",
       "13471900 JC999925 1.31274e+11          2019-07-29 01:55:00 labs_results_test\n",
       "         features values\n",
       "13471900 eGFR_2   1     "
      ]
     },
     "metadata": {},
     "output_type": "display_data"
    }
   ],
   "source": [
    "head(features_all, 1)\n",
    "tail(features_all, 1)"
   ]
  },
  {
   "cell_type": "code",
   "execution_count": 100,
   "metadata": {},
   "outputs": [
    {
     "data": {
      "text/html": [
       "<table class=\"dataframe\">\n",
       "<caption>A data.frame: 1 × 1</caption>\n",
       "<thead>\n",
       "\t<tr><th scope=col>admit_time</th></tr>\n",
       "\t<tr><th scope=col>&lt;dttm&gt;</th></tr>\n",
       "</thead>\n",
       "<tbody>\n",
       "\t<tr><td>2015-01-02 03:48:00</td></tr>\n",
       "</tbody>\n",
       "</table>\n"
      ],
      "text/latex": [
       "A data.frame: 1 × 1\n",
       "\\begin{tabular}{l}\n",
       " admit\\_time\\\\\n",
       " <dttm>\\\\\n",
       "\\hline\n",
       "\t 2015-01-02 03:48:00\\\\\n",
       "\\end{tabular}\n"
      ],
      "text/markdown": [
       "\n",
       "A data.frame: 1 × 1\n",
       "\n",
       "| admit_time &lt;dttm&gt; |\n",
       "|---|\n",
       "| 2015-01-02 03:48:00 |\n",
       "\n"
      ],
      "text/plain": [
       "  admit_time         \n",
       "1 2015-01-02 03:48:00"
      ]
     },
     "metadata": {},
     "output_type": "display_data"
    }
   ],
   "source": [
    "features_all %>% filter(pat_enc_csn_id_coded == 131062572931) %>% distinct(admit_time)"
   ]
  },
  {
   "cell_type": "code",
   "execution_count": 101,
   "metadata": {},
   "outputs": [
    {
     "data": {
      "text/html": [
       "<table class=\"dataframe\">\n",
       "<caption>A grouped_df: 6 × 2</caption>\n",
       "<thead>\n",
       "\t<tr><th scope=col>features</th><th scope=col>n</th></tr>\n",
       "\t<tr><th scope=col>&lt;chr&gt;</th><th scope=col>&lt;int&gt;</th></tr>\n",
       "</thead>\n",
       "<tbody>\n",
       "\t<tr><td>ALB_0 </td><td>2</td></tr>\n",
       "\t<tr><td>ALB_1 </td><td>2</td></tr>\n",
       "\t<tr><td>ALB_10</td><td>2</td></tr>\n",
       "\t<tr><td>ALB_2 </td><td>2</td></tr>\n",
       "\t<tr><td>ALB_3 </td><td>2</td></tr>\n",
       "\t<tr><td>ALB_4 </td><td>2</td></tr>\n",
       "</tbody>\n",
       "</table>\n"
      ],
      "text/latex": [
       "A grouped\\_df: 6 × 2\n",
       "\\begin{tabular}{ll}\n",
       " features & n\\\\\n",
       " <chr> & <int>\\\\\n",
       "\\hline\n",
       "\t ALB\\_0  & 2\\\\\n",
       "\t ALB\\_1  & 2\\\\\n",
       "\t ALB\\_10 & 2\\\\\n",
       "\t ALB\\_2  & 2\\\\\n",
       "\t ALB\\_3  & 2\\\\\n",
       "\t ALB\\_4  & 2\\\\\n",
       "\\end{tabular}\n"
      ],
      "text/markdown": [
       "\n",
       "A grouped_df: 6 × 2\n",
       "\n",
       "| features &lt;chr&gt; | n &lt;int&gt; |\n",
       "|---|---|\n",
       "| ALB_0  | 2 |\n",
       "| ALB_1  | 2 |\n",
       "| ALB_10 | 2 |\n",
       "| ALB_2  | 2 |\n",
       "| ALB_3  | 2 |\n",
       "| ALB_4  | 2 |\n",
       "\n"
      ],
      "text/plain": [
       "  features n\n",
       "1 ALB_0    2\n",
       "2 ALB_1    2\n",
       "3 ALB_10   2\n",
       "4 ALB_2    2\n",
       "5 ALB_3    2\n",
       "6 ALB_4    2"
      ]
     },
     "metadata": {},
     "output_type": "display_data"
    },
    {
     "data": {
      "text/html": [
       "<table class=\"dataframe\">\n",
       "<caption>A grouped_df: 6 × 2</caption>\n",
       "<thead>\n",
       "\t<tr><th scope=col>features</th><th scope=col>n</th></tr>\n",
       "\t<tr><th scope=col>&lt;chr&gt;</th><th scope=col>&lt;int&gt;</th></tr>\n",
       "</thead>\n",
       "<tbody>\n",
       "\t<tr><td>WBC_4</td><td>2</td></tr>\n",
       "\t<tr><td>WBC_5</td><td>2</td></tr>\n",
       "\t<tr><td>WBC_6</td><td>2</td></tr>\n",
       "\t<tr><td>WBC_7</td><td>2</td></tr>\n",
       "\t<tr><td>WBC_8</td><td>2</td></tr>\n",
       "\t<tr><td>WBC_9</td><td>2</td></tr>\n",
       "</tbody>\n",
       "</table>\n"
      ],
      "text/latex": [
       "A grouped\\_df: 6 × 2\n",
       "\\begin{tabular}{ll}\n",
       " features & n\\\\\n",
       " <chr> & <int>\\\\\n",
       "\\hline\n",
       "\t WBC\\_4 & 2\\\\\n",
       "\t WBC\\_5 & 2\\\\\n",
       "\t WBC\\_6 & 2\\\\\n",
       "\t WBC\\_7 & 2\\\\\n",
       "\t WBC\\_8 & 2\\\\\n",
       "\t WBC\\_9 & 2\\\\\n",
       "\\end{tabular}\n"
      ],
      "text/markdown": [
       "\n",
       "A grouped_df: 6 × 2\n",
       "\n",
       "| features &lt;chr&gt; | n &lt;int&gt; |\n",
       "|---|---|\n",
       "| WBC_4 | 2 |\n",
       "| WBC_5 | 2 |\n",
       "| WBC_6 | 2 |\n",
       "| WBC_7 | 2 |\n",
       "| WBC_8 | 2 |\n",
       "| WBC_9 | 2 |\n",
       "\n"
      ],
      "text/plain": [
       "  features n\n",
       "1 WBC_4    2\n",
       "2 WBC_5    2\n",
       "3 WBC_6    2\n",
       "4 WBC_7    2\n",
       "5 WBC_8    2\n",
       "6 WBC_9    2"
      ]
     },
     "metadata": {},
     "output_type": "display_data"
    }
   ],
   "source": [
    "# sanity check \n",
    "n2 <- features_all %>% select(feature_type, features) %>% distinct() %>% \n",
    "        group_by(features) %>% count(sort=TRUE) %>% filter(n==2)\n",
    "head(n2)\n",
    "tail(n2)"
   ]
  },
  {
   "cell_type": "code",
   "execution_count": 102,
   "metadata": {},
   "outputs": [
    {
     "data": {
      "text/html": [
       "<table class=\"dataframe\">\n",
       "<caption>A data.frame: 9 × 1</caption>\n",
       "<thead>\n",
       "\t<tr><th scope=col>feature_type</th></tr>\n",
       "\t<tr><th scope=col>&lt;chr&gt;</th></tr>\n",
       "</thead>\n",
       "<tbody>\n",
       "\t<tr><td>Lab               </td></tr>\n",
       "\t<tr><td>Procedures        </td></tr>\n",
       "\t<tr><td>Microbiology      </td></tr>\n",
       "\t<tr><td>Imaging           </td></tr>\n",
       "\t<tr><td>Meds              </td></tr>\n",
       "\t<tr><td>labs_results_train</td></tr>\n",
       "\t<tr><td>vitals_train      </td></tr>\n",
       "\t<tr><td>labs_results_test </td></tr>\n",
       "\t<tr><td>vitals_test       </td></tr>\n",
       "</tbody>\n",
       "</table>\n"
      ],
      "text/latex": [
       "A data.frame: 9 × 1\n",
       "\\begin{tabular}{l}\n",
       " feature\\_type\\\\\n",
       " <chr>\\\\\n",
       "\\hline\n",
       "\t Lab               \\\\\n",
       "\t Procedures        \\\\\n",
       "\t Microbiology      \\\\\n",
       "\t Imaging           \\\\\n",
       "\t Meds              \\\\\n",
       "\t labs\\_results\\_train\\\\\n",
       "\t vitals\\_train      \\\\\n",
       "\t labs\\_results\\_test \\\\\n",
       "\t vitals\\_test       \\\\\n",
       "\\end{tabular}\n"
      ],
      "text/markdown": [
       "\n",
       "A data.frame: 9 × 1\n",
       "\n",
       "| feature_type &lt;chr&gt; |\n",
       "|---|\n",
       "| Lab                |\n",
       "| Procedures         |\n",
       "| Microbiology       |\n",
       "| Imaging            |\n",
       "| Meds               |\n",
       "| labs_results_train |\n",
       "| vitals_train       |\n",
       "| labs_results_test  |\n",
       "| vitals_test        |\n",
       "\n"
      ],
      "text/plain": [
       "  feature_type      \n",
       "1 Lab               \n",
       "2 Procedures        \n",
       "3 Microbiology      \n",
       "4 Imaging           \n",
       "5 Meds              \n",
       "6 labs_results_train\n",
       "7 vitals_train      \n",
       "8 labs_results_test \n",
       "9 vitals_test       "
      ]
     },
     "metadata": {},
     "output_type": "display_data"
    }
   ],
   "source": [
    "features_all %>% filter(features %in% n2$features) %>% distinct(feature_type)# group_by(features, feature_type) %>% count()"
   ]
  },
  {
   "cell_type": "code",
   "execution_count": 103,
   "metadata": {},
   "outputs": [
    {
     "data": {
      "text/html": [
       "<table class=\"dataframe\">\n",
       "<caption>A grouped_df: 30 × 3</caption>\n",
       "<thead>\n",
       "\t<tr><th scope=col>feature_type</th><th scope=col>features</th><th scope=col>n</th></tr>\n",
       "\t<tr><th scope=col>&lt;chr&gt;</th><th scope=col>&lt;chr&gt;</th><th scope=col>&lt;int&gt;</th></tr>\n",
       "</thead>\n",
       "<tbody>\n",
       "\t<tr><td>demo        </td><td>age                                    </td><td>51845</td></tr>\n",
       "\t<tr><td>demo        </td><td>delta_ESI                              </td><td>51845</td></tr>\n",
       "\t<tr><td>demo        </td><td>delta_H                                </td><td>51845</td></tr>\n",
       "\t<tr><td>demo        </td><td>delta_W                                </td><td>51845</td></tr>\n",
       "\t<tr><td>demo        </td><td>English                                </td><td>51845</td></tr>\n",
       "\t<tr><td>demo        </td><td>ESI_i                                  </td><td>51845</td></tr>\n",
       "\t<tr><td>demo        </td><td>gender                                 </td><td>51845</td></tr>\n",
       "\t<tr><td>demo        </td><td>Height_i                               </td><td>51845</td></tr>\n",
       "\t<tr><td>demo        </td><td>insurance                              </td><td>51845</td></tr>\n",
       "\t<tr><td>demo        </td><td>race.Asian                             </td><td>51845</td></tr>\n",
       "\t<tr><td>demo        </td><td>race.Black                             </td><td>51845</td></tr>\n",
       "\t<tr><td>demo        </td><td>race.Native.American                   </td><td>51845</td></tr>\n",
       "\t<tr><td>demo        </td><td>race.Other                             </td><td>51845</td></tr>\n",
       "\t<tr><td>demo        </td><td>race.Pacific.Islander                  </td><td>51845</td></tr>\n",
       "\t<tr><td>demo        </td><td>race.Unknown                           </td><td>51845</td></tr>\n",
       "\t<tr><td>demo        </td><td>race.White                             </td><td>51845</td></tr>\n",
       "\t<tr><td>demo        </td><td>Weight_i                               </td><td>51845</td></tr>\n",
       "\t<tr><td>Lab         </td><td>METABOLIC PANEL, COMPREHENSIVE         </td><td>50353</td></tr>\n",
       "\t<tr><td>Lab         </td><td>CBC WITH DIFFERENTIAL                  </td><td>49372</td></tr>\n",
       "\t<tr><td>vitals_test </td><td>Temp_4                                 </td><td>38494</td></tr>\n",
       "\t<tr><td>vitals_train</td><td>Temp_4                                 </td><td>38494</td></tr>\n",
       "\t<tr><td>Lab         </td><td>URINALYSIS SCREEN, CULTURE IF POSITIVE </td><td>35958</td></tr>\n",
       "\t<tr><td>Lab         </td><td>PROTHROMBIN TIME                       </td><td>34073</td></tr>\n",
       "\t<tr><td>Meds        </td><td>ONDANSETRON HCL (PF) 4 MG/2 ML INJ SOLN</td><td>30972</td></tr>\n",
       "\t<tr><td>vitals_test </td><td>RR_3                                   </td><td>30216</td></tr>\n",
       "\t<tr><td>vitals_train</td><td>RR_3                                   </td><td>30216</td></tr>\n",
       "\t<tr><td>Lab         </td><td>PTT PARTIAL THROMBOPLASTIN TIME        </td><td>29901</td></tr>\n",
       "\t<tr><td>Lab         </td><td>METABOLIC PANEL, BASIC                 </td><td>28355</td></tr>\n",
       "\t<tr><td>Lab         </td><td>MAGNESIUM, SERUM/PLASMA                </td><td>27687</td></tr>\n",
       "\t<tr><td>Diagnosis   </td><td>Z79.899                                </td><td>27326</td></tr>\n",
       "</tbody>\n",
       "</table>\n"
      ],
      "text/latex": [
       "A grouped\\_df: 30 × 3\n",
       "\\begin{tabular}{lll}\n",
       " feature\\_type & features & n\\\\\n",
       " <chr> & <chr> & <int>\\\\\n",
       "\\hline\n",
       "\t demo         & age                                     & 51845\\\\\n",
       "\t demo         & delta\\_ESI                               & 51845\\\\\n",
       "\t demo         & delta\\_H                                 & 51845\\\\\n",
       "\t demo         & delta\\_W                                 & 51845\\\\\n",
       "\t demo         & English                                 & 51845\\\\\n",
       "\t demo         & ESI\\_i                                   & 51845\\\\\n",
       "\t demo         & gender                                  & 51845\\\\\n",
       "\t demo         & Height\\_i                                & 51845\\\\\n",
       "\t demo         & insurance                               & 51845\\\\\n",
       "\t demo         & race.Asian                              & 51845\\\\\n",
       "\t demo         & race.Black                              & 51845\\\\\n",
       "\t demo         & race.Native.American                    & 51845\\\\\n",
       "\t demo         & race.Other                              & 51845\\\\\n",
       "\t demo         & race.Pacific.Islander                   & 51845\\\\\n",
       "\t demo         & race.Unknown                            & 51845\\\\\n",
       "\t demo         & race.White                              & 51845\\\\\n",
       "\t demo         & Weight\\_i                                & 51845\\\\\n",
       "\t Lab          & METABOLIC PANEL, COMPREHENSIVE          & 50353\\\\\n",
       "\t Lab          & CBC WITH DIFFERENTIAL                   & 49372\\\\\n",
       "\t vitals\\_test  & Temp\\_4                                  & 38494\\\\\n",
       "\t vitals\\_train & Temp\\_4                                  & 38494\\\\\n",
       "\t Lab          & URINALYSIS SCREEN, CULTURE IF POSITIVE  & 35958\\\\\n",
       "\t Lab          & PROTHROMBIN TIME                        & 34073\\\\\n",
       "\t Meds         & ONDANSETRON HCL (PF) 4 MG/2 ML INJ SOLN & 30972\\\\\n",
       "\t vitals\\_test  & RR\\_3                                    & 30216\\\\\n",
       "\t vitals\\_train & RR\\_3                                    & 30216\\\\\n",
       "\t Lab          & PTT PARTIAL THROMBOPLASTIN TIME         & 29901\\\\\n",
       "\t Lab          & METABOLIC PANEL, BASIC                  & 28355\\\\\n",
       "\t Lab          & MAGNESIUM, SERUM/PLASMA                 & 27687\\\\\n",
       "\t Diagnosis    & Z79.899                                 & 27326\\\\\n",
       "\\end{tabular}\n"
      ],
      "text/markdown": [
       "\n",
       "A grouped_df: 30 × 3\n",
       "\n",
       "| feature_type &lt;chr&gt; | features &lt;chr&gt; | n &lt;int&gt; |\n",
       "|---|---|---|\n",
       "| demo         | age                                     | 51845 |\n",
       "| demo         | delta_ESI                               | 51845 |\n",
       "| demo         | delta_H                                 | 51845 |\n",
       "| demo         | delta_W                                 | 51845 |\n",
       "| demo         | English                                 | 51845 |\n",
       "| demo         | ESI_i                                   | 51845 |\n",
       "| demo         | gender                                  | 51845 |\n",
       "| demo         | Height_i                                | 51845 |\n",
       "| demo         | insurance                               | 51845 |\n",
       "| demo         | race.Asian                              | 51845 |\n",
       "| demo         | race.Black                              | 51845 |\n",
       "| demo         | race.Native.American                    | 51845 |\n",
       "| demo         | race.Other                              | 51845 |\n",
       "| demo         | race.Pacific.Islander                   | 51845 |\n",
       "| demo         | race.Unknown                            | 51845 |\n",
       "| demo         | race.White                              | 51845 |\n",
       "| demo         | Weight_i                                | 51845 |\n",
       "| Lab          | METABOLIC PANEL, COMPREHENSIVE          | 50353 |\n",
       "| Lab          | CBC WITH DIFFERENTIAL                   | 49372 |\n",
       "| vitals_test  | Temp_4                                  | 38494 |\n",
       "| vitals_train | Temp_4                                  | 38494 |\n",
       "| Lab          | URINALYSIS SCREEN, CULTURE IF POSITIVE  | 35958 |\n",
       "| Lab          | PROTHROMBIN TIME                        | 34073 |\n",
       "| Meds         | ONDANSETRON HCL (PF) 4 MG/2 ML INJ SOLN | 30972 |\n",
       "| vitals_test  | RR_3                                    | 30216 |\n",
       "| vitals_train | RR_3                                    | 30216 |\n",
       "| Lab          | PTT PARTIAL THROMBOPLASTIN TIME         | 29901 |\n",
       "| Lab          | METABOLIC PANEL, BASIC                  | 28355 |\n",
       "| Lab          | MAGNESIUM, SERUM/PLASMA                 | 27687 |\n",
       "| Diagnosis    | Z79.899                                 | 27326 |\n",
       "\n"
      ],
      "text/plain": [
       "   feature_type features                                n    \n",
       "1  demo         age                                     51845\n",
       "2  demo         delta_ESI                               51845\n",
       "3  demo         delta_H                                 51845\n",
       "4  demo         delta_W                                 51845\n",
       "5  demo         English                                 51845\n",
       "6  demo         ESI_i                                   51845\n",
       "7  demo         gender                                  51845\n",
       "8  demo         Height_i                                51845\n",
       "9  demo         insurance                               51845\n",
       "10 demo         race.Asian                              51845\n",
       "11 demo         race.Black                              51845\n",
       "12 demo         race.Native.American                    51845\n",
       "13 demo         race.Other                              51845\n",
       "14 demo         race.Pacific.Islander                   51845\n",
       "15 demo         race.Unknown                            51845\n",
       "16 demo         race.White                              51845\n",
       "17 demo         Weight_i                                51845\n",
       "18 Lab          METABOLIC PANEL, COMPREHENSIVE          50353\n",
       "19 Lab          CBC WITH DIFFERENTIAL                   49372\n",
       "20 vitals_test  Temp_4                                  38494\n",
       "21 vitals_train Temp_4                                  38494\n",
       "22 Lab          URINALYSIS SCREEN, CULTURE IF POSITIVE  35958\n",
       "23 Lab          PROTHROMBIN TIME                        34073\n",
       "24 Meds         ONDANSETRON HCL (PF) 4 MG/2 ML INJ SOLN 30972\n",
       "25 vitals_test  RR_3                                    30216\n",
       "26 vitals_train RR_3                                    30216\n",
       "27 Lab          PTT PARTIAL THROMBOPLASTIN TIME         29901\n",
       "28 Lab          METABOLIC PANEL, BASIC                  28355\n",
       "29 Lab          MAGNESIUM, SERUM/PLASMA                 27687\n",
       "30 Diagnosis    Z79.899                                 27326"
      ]
     },
     "metadata": {},
     "output_type": "display_data"
    }
   ],
   "source": [
    "features_all %>% group_by(feature_type, features) %>% count(sort=TRUE) %>% head(30)"
   ]
  },
  {
   "cell_type": "code",
   "execution_count": 129,
   "metadata": {},
   "outputs": [
    {
     "data": {
      "text/html": [
       "<style>\n",
       ".list-inline {list-style: none; margin:0; padding: 0}\n",
       ".list-inline>li {display: inline-block}\n",
       ".list-inline>li:not(:last-child)::after {content: \"\\00b7\"; padding: 0 .5ex}\n",
       "</style>\n",
       "<ol class=list-inline><li>'anon_id'</li><li>'pat_enc_csn_id_coded'</li><li>'admit_time'</li><li>'feature_type'</li><li>'features'</li><li>'values'</li></ol>\n"
      ],
      "text/latex": [
       "\\begin{enumerate*}\n",
       "\\item 'anon\\_id'\n",
       "\\item 'pat\\_enc\\_csn\\_id\\_coded'\n",
       "\\item 'admit\\_time'\n",
       "\\item 'feature\\_type'\n",
       "\\item 'features'\n",
       "\\item 'values'\n",
       "\\end{enumerate*}\n"
      ],
      "text/markdown": [
       "1. 'anon_id'\n",
       "2. 'pat_enc_csn_id_coded'\n",
       "3. 'admit_time'\n",
       "4. 'feature_type'\n",
       "5. 'features'\n",
       "6. 'values'\n",
       "\n",
       "\n"
      ],
      "text/plain": [
       "[1] \"anon_id\"              \"pat_enc_csn_id_coded\" \"admit_time\"          \n",
       "[4] \"feature_type\"         \"features\"             \"values\"              "
      ]
     },
     "metadata": {},
     "output_type": "display_data"
    },
    {
     "data": {
      "text/html": [
       "13471900"
      ],
      "text/latex": [
       "13471900"
      ],
      "text/markdown": [
       "13471900"
      ],
      "text/plain": [
       "[1] 13471900"
      ]
     },
     "metadata": {},
     "output_type": "display_data"
    },
    {
     "data": {
      "text/plain": [
       "    Min.  1st Qu.   Median     Mean  3rd Qu.     Max. \n",
       "   0.000    1.000    1.000    3.245    2.000 1129.000 "
      ]
     },
     "metadata": {},
     "output_type": "display_data"
    },
    {
     "data": {
      "text/html": [
       "0"
      ],
      "text/latex": [
       "0"
      ],
      "text/markdown": [
       "0"
      ],
      "text/plain": [
       "[1] 0"
      ]
     },
     "metadata": {},
     "output_type": "display_data"
    }
   ],
   "source": [
    "names(features_all)\n",
    "nrow(features_all) # 13584533\n",
    "summary(features_all$values)\n",
    "sum(is.na(features_all$values))"
   ]
  },
  {
   "cell_type": "code",
   "execution_count": 130,
   "metadata": {},
   "outputs": [
    {
     "data": {
      "text/html": [
       "<table class=\"dataframe\">\n",
       "<caption>A grouped_df: 7 × 2</caption>\n",
       "<thead>\n",
       "\t<tr><th scope=col>year</th><th scope=col>n</th></tr>\n",
       "\t<tr><th scope=col>&lt;dbl&gt;</th><th scope=col>&lt;int&gt;</th></tr>\n",
       "</thead>\n",
       "<tbody>\n",
       "\t<tr><td>2015</td><td>1809832</td></tr>\n",
       "\t<tr><td>2016</td><td>1504263</td></tr>\n",
       "\t<tr><td>2017</td><td>1472043</td></tr>\n",
       "\t<tr><td>2018</td><td>1987060</td></tr>\n",
       "\t<tr><td>2019</td><td>2208136</td></tr>\n",
       "\t<tr><td>2020</td><td>2342905</td></tr>\n",
       "\t<tr><td>2021</td><td>2147661</td></tr>\n",
       "</tbody>\n",
       "</table>\n"
      ],
      "text/latex": [
       "A grouped\\_df: 7 × 2\n",
       "\\begin{tabular}{ll}\n",
       " year & n\\\\\n",
       " <dbl> & <int>\\\\\n",
       "\\hline\n",
       "\t 2015 & 1809832\\\\\n",
       "\t 2016 & 1504263\\\\\n",
       "\t 2017 & 1472043\\\\\n",
       "\t 2018 & 1987060\\\\\n",
       "\t 2019 & 2208136\\\\\n",
       "\t 2020 & 2342905\\\\\n",
       "\t 2021 & 2147661\\\\\n",
       "\\end{tabular}\n"
      ],
      "text/markdown": [
       "\n",
       "A grouped_df: 7 × 2\n",
       "\n",
       "| year &lt;dbl&gt; | n &lt;int&gt; |\n",
       "|---|---|\n",
       "| 2015 | 1809832 |\n",
       "| 2016 | 1504263 |\n",
       "| 2017 | 1472043 |\n",
       "| 2018 | 1987060 |\n",
       "| 2019 | 2208136 |\n",
       "| 2020 | 2342905 |\n",
       "| 2021 | 2147661 |\n",
       "\n"
      ],
      "text/plain": [
       "  year n      \n",
       "1 2015 1809832\n",
       "2 2016 1504263\n",
       "3 2017 1472043\n",
       "4 2018 1987060\n",
       "5 2019 2208136\n",
       "6 2020 2342905\n",
       "7 2021 2147661"
      ]
     },
     "metadata": {},
     "output_type": "display_data"
    }
   ],
   "source": [
    "features_all_year <- features_all %>% mutate(year = year(admit_time)) #, month = month(admit_time))\n",
    "features_all_year %>% group_by(year) %>% count()\n",
    "# features_all_year %>% group_by(month) %>% count()"
   ]
  },
  {
   "cell_type": "code",
   "execution_count": 107,
   "metadata": {},
   "outputs": [
    {
     "data": {
      "text/html": [
       "<table class=\"dataframe\">\n",
       "<caption>A grouped_df: 7 × 2</caption>\n",
       "<thead>\n",
       "\t<tr><th scope=col>year</th><th scope=col>n</th></tr>\n",
       "\t<tr><th scope=col>&lt;dbl&gt;</th><th scope=col>&lt;int&gt;</th></tr>\n",
       "</thead>\n",
       "<tbody>\n",
       "\t<tr><td>2015</td><td>7147</td></tr>\n",
       "\t<tr><td>2016</td><td>6053</td></tr>\n",
       "\t<tr><td>2017</td><td>5804</td></tr>\n",
       "\t<tr><td>2018</td><td>8131</td></tr>\n",
       "\t<tr><td>2019</td><td>8550</td></tr>\n",
       "\t<tr><td>2020</td><td>8497</td></tr>\n",
       "\t<tr><td>2021</td><td>7664</td></tr>\n",
       "</tbody>\n",
       "</table>\n"
      ],
      "text/latex": [
       "A grouped\\_df: 7 × 2\n",
       "\\begin{tabular}{ll}\n",
       " year & n\\\\\n",
       " <dbl> & <int>\\\\\n",
       "\\hline\n",
       "\t 2015 & 7147\\\\\n",
       "\t 2016 & 6053\\\\\n",
       "\t 2017 & 5804\\\\\n",
       "\t 2018 & 8131\\\\\n",
       "\t 2019 & 8550\\\\\n",
       "\t 2020 & 8497\\\\\n",
       "\t 2021 & 7664\\\\\n",
       "\\end{tabular}\n"
      ],
      "text/markdown": [
       "\n",
       "A grouped_df: 7 × 2\n",
       "\n",
       "| year &lt;dbl&gt; | n &lt;int&gt; |\n",
       "|---|---|\n",
       "| 2015 | 7147 |\n",
       "| 2016 | 6053 |\n",
       "| 2017 | 5804 |\n",
       "| 2018 | 8131 |\n",
       "| 2019 | 8550 |\n",
       "| 2020 | 8497 |\n",
       "| 2021 | 7664 |\n",
       "\n"
      ],
      "text/plain": [
       "  year n   \n",
       "1 2015 7147\n",
       "2 2016 6053\n",
       "3 2017 5804\n",
       "4 2018 8131\n",
       "5 2019 8550\n",
       "6 2020 8497\n",
       "7 2021 7664"
      ]
     },
     "metadata": {},
     "output_type": "display_data"
    }
   ],
   "source": [
    "cohort %>% mutate(year = year(admit_time)) %>% group_by(year) %>% count()"
   ]
  },
  {
   "cell_type": "code",
   "execution_count": 121,
   "metadata": {},
   "outputs": [
    {
     "data": {
      "text/html": [
       "13478150"
      ],
      "text/latex": [
       "13478150"
      ],
      "text/markdown": [
       "13478150"
      ],
      "text/plain": [
       "[1] 13478150"
      ]
     },
     "metadata": {},
     "output_type": "display_data"
    },
    {
     "data": {
      "text/html": [
       "51845"
      ],
      "text/latex": [
       "51845"
      ],
      "text/markdown": [
       "51845"
      ],
      "text/plain": [
       "[1] 51845"
      ]
     },
     "metadata": {},
     "output_type": "display_data"
    },
    {
     "data": {
      "text/html": [
       "0"
      ],
      "text/latex": [
       "0"
      ],
      "text/markdown": [
       "0"
      ],
      "text/plain": [
       "[1] 0"
      ]
     },
     "metadata": {},
     "output_type": "display_data"
    },
    {
     "data": {
      "text/html": [
       "1"
      ],
      "text/latex": [
       "1"
      ],
      "text/markdown": [
       "1"
      ],
      "text/plain": [
       "[1] 1"
      ]
     },
     "metadata": {},
     "output_type": "display_data"
    }
   ],
   "source": [
    "nrow(features_all_year)\n",
    "length(unique(features_all_year$pat_enc_csn_id_coded)) # 60464\n",
    "length(setdiff(features_all_year$pat_enc_csn_id_coded, cohort$pat_enc_csn_id_coded))\n",
    "length(setdiff(cohort$pat_enc_csn_id_coded, features_all_year$pat_enc_csn_id_coded)) # has not remove the 1 ptvisit yet"
   ]
  },
  {
   "cell_type": "code",
   "execution_count": 109,
   "metadata": {},
   "outputs": [
    {
     "data": {
      "text/html": [
       "<table class=\"dataframe\">\n",
       "<caption>A data.frame: 3 × 9</caption>\n",
       "<thead>\n",
       "\t<tr><th></th><th scope=col>anon_id</th><th scope=col>pat_enc_csn_id_coded</th><th scope=col>admit_time</th><th scope=col>first_label</th><th scope=col>death_3hr_recent_label</th><th scope=col>death_6hr_recent_label</th><th scope=col>death_9hr_recent_label</th><th scope=col>death_12hr_recent_label</th><th scope=col>death_24hr_recent_label</th></tr>\n",
       "\t<tr><th></th><th scope=col>&lt;chr&gt;</th><th scope=col>&lt;dbl&gt;</th><th scope=col>&lt;chr&gt;</th><th scope=col>&lt;int&gt;</th><th scope=col>&lt;int&gt;</th><th scope=col>&lt;int&gt;</th><th scope=col>&lt;int&gt;</th><th scope=col>&lt;int&gt;</th><th scope=col>&lt;int&gt;</th></tr>\n",
       "</thead>\n",
       "<tbody>\n",
       "\t<tr><th scope=row>1</th><td>JC1000116</td><td>131066472308</td><td>2015-01-28 00:46:00</td><td>0</td><td>0</td><td>0</td><td>0</td><td>0</td><td>0</td></tr>\n",
       "\t<tr><th scope=row>2</th><td>JC1000116</td><td>131295313275</td><td>2020-09-29 22:45:00</td><td>0</td><td>0</td><td>0</td><td>0</td><td>0</td><td>0</td></tr>\n",
       "\t<tr><th scope=row>3</th><td>JC1000296</td><td>131100574537</td><td>2015-07-03 04:51:00</td><td>0</td><td>0</td><td>0</td><td>0</td><td>0</td><td>0</td></tr>\n",
       "</tbody>\n",
       "</table>\n"
      ],
      "text/latex": [
       "A data.frame: 3 × 9\n",
       "\\begin{tabular}{r|lllllllll}\n",
       "  & anon\\_id & pat\\_enc\\_csn\\_id\\_coded & admit\\_time & first\\_label & death\\_3hr\\_recent\\_label & death\\_6hr\\_recent\\_label & death\\_9hr\\_recent\\_label & death\\_12hr\\_recent\\_label & death\\_24hr\\_recent\\_label\\\\\n",
       "  & <chr> & <dbl> & <chr> & <int> & <int> & <int> & <int> & <int> & <int>\\\\\n",
       "\\hline\n",
       "\t1 & JC1000116 & 131066472308 & 2015-01-28 00:46:00 & 0 & 0 & 0 & 0 & 0 & 0\\\\\n",
       "\t2 & JC1000116 & 131295313275 & 2020-09-29 22:45:00 & 0 & 0 & 0 & 0 & 0 & 0\\\\\n",
       "\t3 & JC1000296 & 131100574537 & 2015-07-03 04:51:00 & 0 & 0 & 0 & 0 & 0 & 0\\\\\n",
       "\\end{tabular}\n"
      ],
      "text/markdown": [
       "\n",
       "A data.frame: 3 × 9\n",
       "\n",
       "| <!--/--> | anon_id &lt;chr&gt; | pat_enc_csn_id_coded &lt;dbl&gt; | admit_time &lt;chr&gt; | first_label &lt;int&gt; | death_3hr_recent_label &lt;int&gt; | death_6hr_recent_label &lt;int&gt; | death_9hr_recent_label &lt;int&gt; | death_12hr_recent_label &lt;int&gt; | death_24hr_recent_label &lt;int&gt; |\n",
       "|---|---|---|---|---|---|---|---|---|---|\n",
       "| 1 | JC1000116 | 131066472308 | 2015-01-28 00:46:00 | 0 | 0 | 0 | 0 | 0 | 0 |\n",
       "| 2 | JC1000116 | 131295313275 | 2020-09-29 22:45:00 | 0 | 0 | 0 | 0 | 0 | 0 |\n",
       "| 3 | JC1000296 | 131100574537 | 2015-07-03 04:51:00 | 0 | 0 | 0 | 0 | 0 | 0 |\n",
       "\n"
      ],
      "text/plain": [
       "  anon_id   pat_enc_csn_id_coded admit_time          first_label\n",
       "1 JC1000116 131066472308         2015-01-28 00:46:00 0          \n",
       "2 JC1000116 131295313275         2020-09-29 22:45:00 0          \n",
       "3 JC1000296 131100574537         2015-07-03 04:51:00 0          \n",
       "  death_3hr_recent_label death_6hr_recent_label death_9hr_recent_label\n",
       "1 0                      0                      0                     \n",
       "2 0                      0                      0                     \n",
       "3 0                      0                      0                     \n",
       "  death_12hr_recent_label death_24hr_recent_label\n",
       "1 0                       0                      \n",
       "2 0                       0                      \n",
       "3 0                       0                      "
      ]
     },
     "metadata": {},
     "output_type": "display_data"
    }
   ],
   "source": [
    "head(cohort,3)"
   ]
  },
  {
   "cell_type": "code",
   "execution_count": 110,
   "metadata": {},
   "outputs": [
    {
     "data": {
      "text/html": [
       "<table class=\"dataframe\">\n",
       "<caption>A data.frame: 1 × 7</caption>\n",
       "<thead>\n",
       "\t<tr><th></th><th scope=col>anon_id</th><th scope=col>pat_enc_csn_id_coded</th><th scope=col>admit_time</th><th scope=col>feature_type</th><th scope=col>features</th><th scope=col>values</th><th scope=col>year</th></tr>\n",
       "\t<tr><th></th><th scope=col>&lt;chr&gt;</th><th scope=col>&lt;dbl&gt;</th><th scope=col>&lt;dttm&gt;</th><th scope=col>&lt;chr&gt;</th><th scope=col>&lt;chr&gt;</th><th scope=col>&lt;dbl&gt;</th><th scope=col>&lt;dbl&gt;</th></tr>\n",
       "</thead>\n",
       "<tbody>\n",
       "\t<tr><th scope=row>1</th><td>JC1000116</td><td>131066472308</td><td>2015-01-28 00:46:00</td><td>demo</td><td>ESI_i</td><td>3</td><td>2015</td></tr>\n",
       "</tbody>\n",
       "</table>\n"
      ],
      "text/latex": [
       "A data.frame: 1 × 7\n",
       "\\begin{tabular}{r|lllllll}\n",
       "  & anon\\_id & pat\\_enc\\_csn\\_id\\_coded & admit\\_time & feature\\_type & features & values & year\\\\\n",
       "  & <chr> & <dbl> & <dttm> & <chr> & <chr> & <dbl> & <dbl>\\\\\n",
       "\\hline\n",
       "\t1 & JC1000116 & 131066472308 & 2015-01-28 00:46:00 & demo & ESI\\_i & 3 & 2015\\\\\n",
       "\\end{tabular}\n"
      ],
      "text/markdown": [
       "\n",
       "A data.frame: 1 × 7\n",
       "\n",
       "| <!--/--> | anon_id &lt;chr&gt; | pat_enc_csn_id_coded &lt;dbl&gt; | admit_time &lt;dttm&gt; | feature_type &lt;chr&gt; | features &lt;chr&gt; | values &lt;dbl&gt; | year &lt;dbl&gt; |\n",
       "|---|---|---|---|---|---|---|---|\n",
       "| 1 | JC1000116 | 131066472308 | 2015-01-28 00:46:00 | demo | ESI_i | 3 | 2015 |\n",
       "\n"
      ],
      "text/plain": [
       "  anon_id   pat_enc_csn_id_coded admit_time          feature_type features\n",
       "1 JC1000116 131066472308         2015-01-28 00:46:00 demo         ESI_i   \n",
       "  values year\n",
       "1 3      2015"
      ]
     },
     "metadata": {},
     "output_type": "display_data"
    }
   ],
   "source": [
    "head(features_all_year, 1)"
   ]
  },
  {
   "cell_type": "code",
   "execution_count": 111,
   "metadata": {},
   "outputs": [
    {
     "data": {
      "text/html": [
       "51845"
      ],
      "text/latex": [
       "51845"
      ],
      "text/markdown": [
       "51845"
      ],
      "text/plain": [
       "[1] 51845"
      ]
     },
     "metadata": {},
     "output_type": "display_data"
    },
    {
     "data": {
      "text/plain": [
       "   anon_id          pat_enc_csn_id_coded  admit_time         first_label    \n",
       " Length:51845       Min.   :1.311e+11    Length:51845       Min.   :0.0000  \n",
       " Class :character   1st Qu.:1.312e+11    Class :character   1st Qu.:0.0000  \n",
       " Mode  :character   Median :1.313e+11    Mode  :character   Median :0.0000  \n",
       "                    Mean   :1.312e+11                       Mean   :0.1023  \n",
       "                    3rd Qu.:1.313e+11                       3rd Qu.:0.0000  \n",
       "                    Max.   :1.313e+11                       Max.   :1.0000  \n",
       " death_3hr_recent_label death_6hr_recent_label death_9hr_recent_label\n",
       " Min.   :0.0000         Min.   :0.0000         Min.   :0.0000        \n",
       " 1st Qu.:0.0000         1st Qu.:0.0000         1st Qu.:0.0000        \n",
       " Median :0.0000         Median :0.0000         Median :0.0000        \n",
       " Mean   :0.1066         Mean   :0.1082         Mean   :0.1085        \n",
       " 3rd Qu.:0.0000         3rd Qu.:0.0000         3rd Qu.:0.0000        \n",
       " Max.   :1.0000         Max.   :1.0000         Max.   :1.0000        \n",
       " death_12hr_recent_label death_24hr_recent_label\n",
       " Min.   :0.000           Min.   :0.00000        \n",
       " 1st Qu.:0.000           1st Qu.:0.00000        \n",
       " Median :0.000           Median :0.00000        \n",
       " Mean   :0.107           Mean   :0.08643        \n",
       " 3rd Qu.:0.000           3rd Qu.:0.00000        \n",
       " Max.   :1.000           Max.   :1.00000        "
      ]
     },
     "metadata": {},
     "output_type": "display_data"
    }
   ],
   "source": [
    "cohort_final <- cohort %>% filter(pat_enc_csn_id_coded != 131289492397)\n",
    "nrow(cohort_final)\n",
    "summary(cohort_final)"
   ]
  },
  {
   "cell_type": "code",
   "execution_count": 131,
   "metadata": {},
   "outputs": [
    {
     "data": {
      "text/html": [
       "0"
      ],
      "text/latex": [
       "0"
      ],
      "text/markdown": [
       "0"
      ],
      "text/plain": [
       "[1] 0"
      ]
     },
     "metadata": {},
     "output_type": "display_data"
    },
    {
     "data": {
      "text/html": [
       "0"
      ],
      "text/latex": [
       "0"
      ],
      "text/markdown": [
       "0"
      ],
      "text/plain": [
       "[1] 0"
      ]
     },
     "metadata": {},
     "output_type": "display_data"
    }
   ],
   "source": [
    "length(setdiff(features_all_year$pat_enc_csn_id_coded, cohort_final$pat_enc_csn_id_coded)) # 686 # ok because this is from cohort noOR\n",
    "length(setdiff(cohort_final$pat_enc_csn_id_coded, features_all_year$pat_enc_csn_id_coded)) # 7"
   ]
  },
  {
   "cell_type": "markdown",
   "metadata": {},
   "source": [
    "# FINAL COHORT no OR no DKA, remove 1"
   ]
  },
  {
   "cell_type": "code",
   "execution_count": 123,
   "metadata": {},
   "outputs": [],
   "source": [
    "# remove 1 single csn, noOR, noDKA\n",
    "write.csv(cohort_final, file = file.path(outdir, \"14_cohort_final.csv\"), row.names=FALSE) "
   ]
  },
  {
   "cell_type": "code",
   "execution_count": 132,
   "metadata": {},
   "outputs": [],
   "source": [
    "# write.csv(features_all_year, file = file.path(outdir, \"14_coh_all_features_all_long_year.csv\"), row.names=FALSE)\n",
    "write.csv(features_all_year, file = file.path(outdir, \"14_2_coh_all_features_all_long_year.csv\"), row.names=FALSE) "
   ]
  },
  {
   "cell_type": "code",
   "execution_count": 114,
   "metadata": {},
   "outputs": [
    {
     "data": {
      "text/plain": [
       "   anon_id          pat_enc_csn_id_coded   admit_time                 \n",
       " Length:13471900    Min.   :1.311e+11    Min.   :2015-01-01 06:30:00  \n",
       " Class :character   1st Qu.:1.312e+11    1st Qu.:2017-01-14 04:45:00  \n",
       " Mode  :character   Median :1.313e+11    Median :2018-12-25 21:38:00  \n",
       "                    Mean   :1.312e+11    Mean   :2018-09-28 18:57:48  \n",
       "                    3rd Qu.:1.313e+11    3rd Qu.:2020-07-08 03:24:00  \n",
       "                    Max.   :1.313e+11    Max.   :2021-09-30 07:00:00  \n",
       " feature_type         features             values              year     \n",
       " Length:13471900    Length:13471900    Min.   :   0.000   Min.   :2015  \n",
       " Class :character   Class :character   1st Qu.:   1.000   1st Qu.:2017  \n",
       " Mode  :character   Mode  :character   Median :   1.000   Median :2018  \n",
       "                                       Mean   :   3.245   Mean   :2018  \n",
       "                                       3rd Qu.:   2.000   3rd Qu.:2020  \n",
       "                                       Max.   :1129.000   Max.   :2021  "
      ]
     },
     "metadata": {},
     "output_type": "display_data"
    }
   ],
   "source": [
    "summary(features_all_year)"
   ]
  },
  {
   "cell_type": "code",
   "execution_count": null,
   "metadata": {},
   "outputs": [],
   "source": []
  }
 ],
 "metadata": {
  "environment": {
   "name": "r-cpu.4-0.m71",
   "type": "gcloud",
   "uri": "gcr.io/deeplearning-platform-release/r-cpu.4-0:m71"
  },
  "kernelspec": {
   "display_name": "R",
   "language": "R",
   "name": "ir"
  },
  "language_info": {
   "codemirror_mode": "r",
   "file_extension": ".r",
   "mimetype": "text/x-r-source",
   "name": "R",
   "pygments_lexer": "r",
   "version": "4.0.3"
  }
 },
 "nbformat": 4,
 "nbformat_minor": 5
}
