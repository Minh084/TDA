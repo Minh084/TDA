{
 "cells": [
  {
   "cell_type": "markdown",
   "metadata": {},
   "source": [
    "### Descriptions:\n",
    "\n",
    "JOIN all features with values together first, in the *long* format, to be merged with feature counts\n",
    "\n",
    "**Inputs:** \n",
    "- `6_5_coh2_vitals`: has all processed vital signs (not the summary stats)\n",
    "- `6_6_coh3_labs`: has all processed labs\n",
    "- `6_8_coh4_all_imputedHWESI`: has demographics & imputed HW (cohort4_all) & imputed ESI (cohort3 and finalized w/ cohort4)\n",
    "- `6_4_cohort4`: cohort3 with labels and not in old cohort\n",
    "\n",
    "**Outputs:**\n",
    "- `6_9_coh4_feature_values`: used cohort4, only new cohort, no overlapping!"
   ]
  },
  {
   "cell_type": "markdown",
   "metadata": {},
   "source": [
    "### Importing R libraries"
   ]
  },
  {
   "cell_type": "code",
   "execution_count": 16,
   "metadata": {
    "ExecuteTime": {
     "end_time": "2020-05-21T00:38:06.078240Z",
     "start_time": "2020-05-21T00:38:02.778Z"
    }
   },
   "outputs": [],
   "source": [
    "library(bigrquery)  # to query STARR-OMOP (stored in BigQuery) using SQL\n",
    "library(tidyverse)\n",
    "library(lubridate)\n",
    "# library(mice)\n",
    "# library(VIM) # for missing data plot\n",
    "\n",
    "# library(data.table)\n",
    "# library(Matrix)\n",
    "# library(caret) # import this before glmnet to avoid rlang version problem\n",
    "# library(glmnet)\n",
    "# library(bit64)\n",
    "\n",
    "# library(slam)\n",
    "# library(mtools) for one hot coder, not available on Nero or use caret or tidyr\n",
    "options(repr.matrix.max.rows=250, repr.matrix.max.cols=30)"
   ]
  },
  {
   "cell_type": "markdown",
   "metadata": {},
   "source": [
    "### Call back all datasets: \n",
    "* demographic with imputed HW and ESI\n",
    "* vitals, cohort with at least a complete set of vs only\n",
    "* labs, cohort with at least a lab result\n",
    "* cohort_final"
   ]
  },
  {
   "cell_type": "code",
   "execution_count": 17,
   "metadata": {},
   "outputs": [
    {
     "data": {
      "text/html": [
       "402453"
      ],
      "text/latex": [
       "402453"
      ],
      "text/markdown": [
       "402453"
      ],
      "text/plain": [
       "[1] 402453"
      ]
     },
     "metadata": {},
     "output_type": "display_data"
    },
    {
     "data": {
      "text/html": [
       "513368"
      ],
      "text/latex": [
       "513368"
      ],
      "text/markdown": [
       "513368"
      ],
      "text/plain": [
       "[1] 513368"
      ]
     },
     "metadata": {},
     "output_type": "display_data"
    },
    {
     "data": {
      "text/html": [
       "60464"
      ],
      "text/latex": [
       "60464"
      ],
      "text/markdown": [
       "60464"
      ],
      "text/plain": [
       "[1] 60464"
      ]
     },
     "metadata": {},
     "output_type": "display_data"
    },
    {
     "data": {
      "text/html": [
       "16484"
      ],
      "text/latex": [
       "16484"
      ],
      "text/markdown": [
       "16484"
      ],
      "text/plain": [
       "[1] 16484"
      ]
     },
     "metadata": {},
     "output_type": "display_data"
    }
   ],
   "source": [
    "# read inputs\n",
    "datadir6 = \"../../DataTD/validation\"\n",
    "valdir = \"../../OutputTD/6_validation\"\n",
    "\n",
    "vitals0 <- read.csv(file.path(valdir, '6_5_coh2_vitals.csv'))\n",
    "nrow(vitals0)\n",
    "\n",
    "labs0 <- read.csv(file.path(valdir, '6_6_coh3_labs.csv'))\n",
    "nrow(labs0)\n",
    "\n",
    "demos <- read.csv(file.path(valdir, '6_8_coh4_all_imputedHWESI.csv'))\n",
    "nrow(demos) # all cohort\n",
    "\n",
    "# only new cohort\n",
    "cohort4 <- read.csv(file.path(valdir, '6_7_cohort4.csv'))\n",
    "nrow(cohort4) # 16484"
   ]
  },
  {
   "cell_type": "code",
   "execution_count": 18,
   "metadata": {},
   "outputs": [
    {
     "data": {
      "text/html": [
       "627"
      ],
      "text/latex": [
       "627"
      ],
      "text/markdown": [
       "627"
      ],
      "text/plain": [
       "[1] 627"
      ]
     },
     "metadata": {},
     "output_type": "display_data"
    },
    {
     "data": {
      "text/html": [
       "0"
      ],
      "text/latex": [
       "0"
      ],
      "text/markdown": [
       "0"
      ],
      "text/plain": [
       "[1] 0"
      ]
     },
     "metadata": {},
     "output_type": "display_data"
    },
    {
     "data": {
      "text/html": [
       "1129"
      ],
      "text/latex": [
       "1129"
      ],
      "text/markdown": [
       "1129"
      ],
      "text/plain": [
       "[1] 1129"
      ]
     },
     "metadata": {},
     "output_type": "display_data"
    },
    {
     "data": {
      "text/html": [
       "708"
      ],
      "text/latex": [
       "708"
      ],
      "text/markdown": [
       "708"
      ],
      "text/plain": [
       "[1] 708"
      ]
     },
     "metadata": {},
     "output_type": "display_data"
    }
   ],
   "source": [
    "length(setdiff(vitals0$pat_enc_csn_id_coded, cohort4$pat_enc_csn_id_coded)) # 1633\n",
    "length(setdiff(cohort4$pat_enc_csn_id_coded, vitals0$pat_enc_csn_id_coded)) # 0\n",
    "\n",
    "length(setdiff(vitals0$pat_enc_csn_id_coded, labs0$pat_enc_csn_id_coded)) # 3986\n",
    "length(setdiff(cohort4$pat_enc_csn_id_coded, labs0$pat_enc_csn_id_coded)) # 2614"
   ]
  },
  {
   "cell_type": "code",
   "execution_count": 19,
   "metadata": {},
   "outputs": [
    {
     "data": {
      "text/html": [
       "17111"
      ],
      "text/latex": [
       "17111"
      ],
      "text/markdown": [
       "17111"
      ],
      "text/plain": [
       "[1] 17111"
      ]
     },
     "metadata": {},
     "output_type": "display_data"
    },
    {
     "data": {
      "text/html": [
       "17111"
      ],
      "text/latex": [
       "17111"
      ],
      "text/markdown": [
       "17111"
      ],
      "text/plain": [
       "[1] 17111"
      ]
     },
     "metadata": {},
     "output_type": "display_data"
    },
    {
     "data": {
      "text/html": [
       "60464"
      ],
      "text/latex": [
       "60464"
      ],
      "text/markdown": [
       "60464"
      ],
      "text/plain": [
       "[1] 60464"
      ]
     },
     "metadata": {},
     "output_type": "display_data"
    },
    {
     "data": {
      "text/html": [
       "60464"
      ],
      "text/latex": [
       "60464"
      ],
      "text/markdown": [
       "60464"
      ],
      "text/plain": [
       "[1] 60464"
      ]
     },
     "metadata": {},
     "output_type": "display_data"
    },
    {
     "data": {
      "text/html": [
       "15982"
      ],
      "text/latex": [
       "15982"
      ],
      "text/markdown": [
       "15982"
      ],
      "text/plain": [
       "[1] 15982"
      ]
     },
     "metadata": {},
     "output_type": "display_data"
    },
    {
     "data": {
      "text/html": [
       "15982"
      ],
      "text/latex": [
       "15982"
      ],
      "text/markdown": [
       "15982"
      ],
      "text/plain": [
       "[1] 15982"
      ]
     },
     "metadata": {},
     "output_type": "display_data"
    },
    {
     "data": {
      "text/html": [
       "16484"
      ],
      "text/latex": [
       "16484"
      ],
      "text/markdown": [
       "16484"
      ],
      "text/plain": [
       "[1] 16484"
      ]
     },
     "metadata": {},
     "output_type": "display_data"
    },
    {
     "data": {
      "text/html": [
       "16484"
      ],
      "text/latex": [
       "16484"
      ],
      "text/markdown": [
       "16484"
      ],
      "text/plain": [
       "[1] 16484"
      ]
     },
     "metadata": {},
     "output_type": "display_data"
    },
    {
     "data": {
      "text/html": [
       "43980"
      ],
      "text/latex": [
       "43980"
      ],
      "text/markdown": [
       "43980"
      ],
      "text/plain": [
       "[1] 43980"
      ]
     },
     "metadata": {},
     "output_type": "display_data"
    },
    {
     "data": {
      "text/html": [
       "627"
      ],
      "text/latex": [
       "627"
      ],
      "text/markdown": [
       "627"
      ],
      "text/plain": [
       "[1] 627"
      ]
     },
     "metadata": {},
     "output_type": "display_data"
    },
    {
     "data": {
      "text/html": [
       "206"
      ],
      "text/latex": [
       "206"
      ],
      "text/markdown": [
       "206"
      ],
      "text/plain": [
       "[1] 206"
      ]
     },
     "metadata": {},
     "output_type": "display_data"
    }
   ],
   "source": [
    "nrow(vitals0 %>% select(anon_id, pat_enc_csn_id_coded) %>% distinct())\n",
    "length(unique(vitals0$pat_enc_csn_id_coded)) # 2nd cohort, larger 45613\n",
    "\n",
    "nrow(demos %>% select(anon_id, pat_enc_csn_id_coded) %>% distinct())\n",
    "length(unique(demos$pat_enc_csn_id_coded)) # 3nd cohort, 44258, using only those with a complete set of VS for ESI imputation\n",
    "\n",
    "nrow(labs0 %>% select(anon_id, pat_enc_csn_id_coded) %>% distinct()) # 41627\n",
    "length(unique(labs0$pat_enc_csn_id_coded)) # 41627 (similar before, labs have less than cohort)\n",
    "\n",
    "nrow(cohort4 %>% select(anon_id, pat_enc_csn_id_coded) %>% distinct()) # 43980\n",
    "length(unique(cohort4$pat_enc_csn_id_coded)) # 41627 (similar before, labs have less than cohort)\n",
    "\n",
    "length(setdiff(demos$pat_enc_csn_id_coded, cohort4$pat_enc_csn_id_coded)) # 278\n",
    "length(setdiff(vitals0$pat_enc_csn_id_coded, cohort4$pat_enc_csn_id_coded)) # 1633\n",
    "length(setdiff(labs0$pat_enc_csn_id_coded, cohort4$pat_enc_csn_id_coded)) # 261"
   ]
  },
  {
   "cell_type": "code",
   "execution_count": 20,
   "metadata": {},
   "outputs": [
    {
     "data": {
      "text/html": [
       "<table class=\"dataframe\">\n",
       "<caption>A data.frame: 1 × 18</caption>\n",
       "<thead>\n",
       "\t<tr><th></th><th scope=col>anon_id</th><th scope=col>pat_enc_csn_id_coded</th><th scope=col>inpatient_data_id_coded</th><th scope=col>admit_time</th><th scope=col>label_max24</th><th scope=col>label_24hr_recent</th><th scope=col>admit_label</th><th scope=col>has_admit_label</th><th scope=col>died_within_24hrs</th><th scope=col>death_24hr_max_label</th><th scope=col>death_24hr_recent_label</th><th scope=col>first_label</th><th scope=col>first_label_minutes_since_admit</th><th scope=col>acute_to_critical_label_recent</th><th scope=col>critical_to_acute_label_recent</th><th scope=col>acute_to_critical_label_max</th><th scope=col>critical_to_acute_label_max</th><th scope=col>previous_icu_visit</th></tr>\n",
       "\t<tr><th></th><th scope=col>&lt;chr&gt;</th><th scope=col>&lt;dbl&gt;</th><th scope=col>&lt;int&gt;</th><th scope=col>&lt;chr&gt;</th><th scope=col>&lt;int&gt;</th><th scope=col>&lt;int&gt;</th><th scope=col>&lt;int&gt;</th><th scope=col>&lt;int&gt;</th><th scope=col>&lt;int&gt;</th><th scope=col>&lt;int&gt;</th><th scope=col>&lt;int&gt;</th><th scope=col>&lt;int&gt;</th><th scope=col>&lt;int&gt;</th><th scope=col>&lt;int&gt;</th><th scope=col>&lt;int&gt;</th><th scope=col>&lt;int&gt;</th><th scope=col>&lt;int&gt;</th><th scope=col>&lt;chr&gt;</th></tr>\n",
       "</thead>\n",
       "<tbody>\n",
       "\t<tr><th scope=row>1</th><td>JC1000116</td><td>131295313275</td><td>57868578</td><td>2020-09-29 22:45:00+00:00</td><td>0</td><td>0</td><td>0</td><td>1</td><td>0</td><td>0</td><td>0</td><td>0</td><td>0</td><td>0</td><td>0</td><td>0</td><td>0</td><td>False</td></tr>\n",
       "</tbody>\n",
       "</table>\n"
      ],
      "text/latex": [
       "A data.frame: 1 × 18\n",
       "\\begin{tabular}{r|llllllllllllllllll}\n",
       "  & anon\\_id & pat\\_enc\\_csn\\_id\\_coded & inpatient\\_data\\_id\\_coded & admit\\_time & label\\_max24 & label\\_24hr\\_recent & admit\\_label & has\\_admit\\_label & died\\_within\\_24hrs & death\\_24hr\\_max\\_label & death\\_24hr\\_recent\\_label & first\\_label & first\\_label\\_minutes\\_since\\_admit & acute\\_to\\_critical\\_label\\_recent & critical\\_to\\_acute\\_label\\_recent & acute\\_to\\_critical\\_label\\_max & critical\\_to\\_acute\\_label\\_max & previous\\_icu\\_visit\\\\\n",
       "  & <chr> & <dbl> & <int> & <chr> & <int> & <int> & <int> & <int> & <int> & <int> & <int> & <int> & <int> & <int> & <int> & <int> & <int> & <chr>\\\\\n",
       "\\hline\n",
       "\t1 & JC1000116 & 131295313275 & 57868578 & 2020-09-29 22:45:00+00:00 & 0 & 0 & 0 & 1 & 0 & 0 & 0 & 0 & 0 & 0 & 0 & 0 & 0 & False\\\\\n",
       "\\end{tabular}\n"
      ],
      "text/markdown": [
       "\n",
       "A data.frame: 1 × 18\n",
       "\n",
       "| <!--/--> | anon_id &lt;chr&gt; | pat_enc_csn_id_coded &lt;dbl&gt; | inpatient_data_id_coded &lt;int&gt; | admit_time &lt;chr&gt; | label_max24 &lt;int&gt; | label_24hr_recent &lt;int&gt; | admit_label &lt;int&gt; | has_admit_label &lt;int&gt; | died_within_24hrs &lt;int&gt; | death_24hr_max_label &lt;int&gt; | death_24hr_recent_label &lt;int&gt; | first_label &lt;int&gt; | first_label_minutes_since_admit &lt;int&gt; | acute_to_critical_label_recent &lt;int&gt; | critical_to_acute_label_recent &lt;int&gt; | acute_to_critical_label_max &lt;int&gt; | critical_to_acute_label_max &lt;int&gt; | previous_icu_visit &lt;chr&gt; |\n",
       "|---|---|---|---|---|---|---|---|---|---|---|---|---|---|---|---|---|---|---|\n",
       "| 1 | JC1000116 | 131295313275 | 57868578 | 2020-09-29 22:45:00+00:00 | 0 | 0 | 0 | 1 | 0 | 0 | 0 | 0 | 0 | 0 | 0 | 0 | 0 | False |\n",
       "\n"
      ],
      "text/plain": [
       "  anon_id   pat_enc_csn_id_coded inpatient_data_id_coded\n",
       "1 JC1000116 131295313275         57868578               \n",
       "  admit_time                label_max24 label_24hr_recent admit_label\n",
       "1 2020-09-29 22:45:00+00:00 0           0                 0          \n",
       "  has_admit_label died_within_24hrs death_24hr_max_label\n",
       "1 1               0                 0                   \n",
       "  death_24hr_recent_label first_label first_label_minutes_since_admit\n",
       "1 0                       0           0                              \n",
       "  acute_to_critical_label_recent critical_to_acute_label_recent\n",
       "1 0                              0                             \n",
       "  acute_to_critical_label_max critical_to_acute_label_max previous_icu_visit\n",
       "1 0                           0                           False             "
      ]
     },
     "metadata": {},
     "output_type": "display_data"
    },
    {
     "data": {
      "text/html": [
       "<table class=\"dataframe\">\n",
       "<caption>A data.frame: 1 × 22</caption>\n",
       "<thead>\n",
       "\t<tr><th></th><th scope=col>anon_id</th><th scope=col>pat_enc_csn_id_coded</th><th scope=col>inpatient_data_id_coded</th><th scope=col>admit_time</th><th scope=col>label</th><th scope=col>ESI_i</th><th scope=col>delta_ESI</th><th scope=col>gender</th><th scope=col>age</th><th scope=col>insurance</th><th scope=col>English</th><th scope=col>Height_i</th><th scope=col>delta_H</th><th scope=col>Weight_i</th><th scope=col>delta_W</th><th scope=col>race.Asian</th><th scope=col>race.Black</th><th scope=col>race.Native.American</th><th scope=col>race.Other</th><th scope=col>race.Pacific.Islander</th><th scope=col>race.Unknown</th><th scope=col>race.White</th></tr>\n",
       "\t<tr><th></th><th scope=col>&lt;chr&gt;</th><th scope=col>&lt;dbl&gt;</th><th scope=col>&lt;int&gt;</th><th scope=col>&lt;chr&gt;</th><th scope=col>&lt;int&gt;</th><th scope=col>&lt;int&gt;</th><th scope=col>&lt;int&gt;</th><th scope=col>&lt;int&gt;</th><th scope=col>&lt;int&gt;</th><th scope=col>&lt;int&gt;</th><th scope=col>&lt;int&gt;</th><th scope=col>&lt;dbl&gt;</th><th scope=col>&lt;int&gt;</th><th scope=col>&lt;dbl&gt;</th><th scope=col>&lt;int&gt;</th><th scope=col>&lt;int&gt;</th><th scope=col>&lt;int&gt;</th><th scope=col>&lt;int&gt;</th><th scope=col>&lt;int&gt;</th><th scope=col>&lt;int&gt;</th><th scope=col>&lt;int&gt;</th><th scope=col>&lt;int&gt;</th></tr>\n",
       "</thead>\n",
       "<tbody>\n",
       "\t<tr><th scope=row>1</th><td>JC29f8ad2</td><td>131274729058</td><td>40679773</td><td>2019-08-31 12:52:00</td><td>0</td><td>3</td><td>0</td><td>1</td><td>52</td><td>1</td><td>1</td><td>165</td><td>0</td><td>81</td><td>0</td><td>0</td><td>0</td><td>0</td><td>0</td><td>0</td><td>0</td><td>1</td></tr>\n",
       "</tbody>\n",
       "</table>\n"
      ],
      "text/latex": [
       "A data.frame: 1 × 22\n",
       "\\begin{tabular}{r|llllllllllllllllllllll}\n",
       "  & anon\\_id & pat\\_enc\\_csn\\_id\\_coded & inpatient\\_data\\_id\\_coded & admit\\_time & label & ESI\\_i & delta\\_ESI & gender & age & insurance & English & Height\\_i & delta\\_H & Weight\\_i & delta\\_W & race.Asian & race.Black & race.Native.American & race.Other & race.Pacific.Islander & race.Unknown & race.White\\\\\n",
       "  & <chr> & <dbl> & <int> & <chr> & <int> & <int> & <int> & <int> & <int> & <int> & <int> & <dbl> & <int> & <dbl> & <int> & <int> & <int> & <int> & <int> & <int> & <int> & <int>\\\\\n",
       "\\hline\n",
       "\t1 & JC29f8ad2 & 131274729058 & 40679773 & 2019-08-31 12:52:00 & 0 & 3 & 0 & 1 & 52 & 1 & 1 & 165 & 0 & 81 & 0 & 0 & 0 & 0 & 0 & 0 & 0 & 1\\\\\n",
       "\\end{tabular}\n"
      ],
      "text/markdown": [
       "\n",
       "A data.frame: 1 × 22\n",
       "\n",
       "| <!--/--> | anon_id &lt;chr&gt; | pat_enc_csn_id_coded &lt;dbl&gt; | inpatient_data_id_coded &lt;int&gt; | admit_time &lt;chr&gt; | label &lt;int&gt; | ESI_i &lt;int&gt; | delta_ESI &lt;int&gt; | gender &lt;int&gt; | age &lt;int&gt; | insurance &lt;int&gt; | English &lt;int&gt; | Height_i &lt;dbl&gt; | delta_H &lt;int&gt; | Weight_i &lt;dbl&gt; | delta_W &lt;int&gt; | race.Asian &lt;int&gt; | race.Black &lt;int&gt; | race.Native.American &lt;int&gt; | race.Other &lt;int&gt; | race.Pacific.Islander &lt;int&gt; | race.Unknown &lt;int&gt; | race.White &lt;int&gt; |\n",
       "|---|---|---|---|---|---|---|---|---|---|---|---|---|---|---|---|---|---|---|---|---|---|---|\n",
       "| 1 | JC29f8ad2 | 131274729058 | 40679773 | 2019-08-31 12:52:00 | 0 | 3 | 0 | 1 | 52 | 1 | 1 | 165 | 0 | 81 | 0 | 0 | 0 | 0 | 0 | 0 | 0 | 1 |\n",
       "\n"
      ],
      "text/plain": [
       "  anon_id   pat_enc_csn_id_coded inpatient_data_id_coded admit_time         \n",
       "1 JC29f8ad2 131274729058         40679773                2019-08-31 12:52:00\n",
       "  label ESI_i delta_ESI gender age insurance English Height_i delta_H Weight_i\n",
       "1 0     3     0         1      52  1         1       165      0       81      \n",
       "  delta_W race.Asian race.Black race.Native.American race.Other\n",
       "1 0       0          0          0                    0         \n",
       "  race.Pacific.Islander race.Unknown race.White\n",
       "1 0                     0            1         "
      ]
     },
     "metadata": {},
     "output_type": "display_data"
    },
    {
     "data": {
      "text/html": [
       "<table class=\"dataframe\">\n",
       "<caption>A data.frame: 1 × 11</caption>\n",
       "<thead>\n",
       "\t<tr><th></th><th scope=col>anon_id</th><th scope=col>pat_enc_csn_id_coded</th><th scope=col>inpatient_data_id_coded</th><th scope=col>admit_time</th><th scope=col>label</th><th scope=col>template</th><th scope=col>features</th><th scope=col>units</th><th scope=col>recorded_time</th><th scope=col>feature_type</th><th scope=col>values</th></tr>\n",
       "\t<tr><th></th><th scope=col>&lt;chr&gt;</th><th scope=col>&lt;dbl&gt;</th><th scope=col>&lt;int&gt;</th><th scope=col>&lt;chr&gt;</th><th scope=col>&lt;int&gt;</th><th scope=col>&lt;chr&gt;</th><th scope=col>&lt;chr&gt;</th><th scope=col>&lt;chr&gt;</th><th scope=col>&lt;chr&gt;</th><th scope=col>&lt;chr&gt;</th><th scope=col>&lt;dbl&gt;</th></tr>\n",
       "</thead>\n",
       "<tbody>\n",
       "\t<tr><th scope=row>1</th><td>JC1000116</td><td>131295313275</td><td>57868578</td><td>2020-09-29 22:45:00+00:00</td><td>0</td><td>Custom Formula Data</td><td>Temp</td><td></td><td>2020-09-29 15:55:00+00:00</td><td>vitals</td><td>36.6</td></tr>\n",
       "</tbody>\n",
       "</table>\n"
      ],
      "text/latex": [
       "A data.frame: 1 × 11\n",
       "\\begin{tabular}{r|lllllllllll}\n",
       "  & anon\\_id & pat\\_enc\\_csn\\_id\\_coded & inpatient\\_data\\_id\\_coded & admit\\_time & label & template & features & units & recorded\\_time & feature\\_type & values\\\\\n",
       "  & <chr> & <dbl> & <int> & <chr> & <int> & <chr> & <chr> & <chr> & <chr> & <chr> & <dbl>\\\\\n",
       "\\hline\n",
       "\t1 & JC1000116 & 131295313275 & 57868578 & 2020-09-29 22:45:00+00:00 & 0 & Custom Formula Data & Temp &  & 2020-09-29 15:55:00+00:00 & vitals & 36.6\\\\\n",
       "\\end{tabular}\n"
      ],
      "text/markdown": [
       "\n",
       "A data.frame: 1 × 11\n",
       "\n",
       "| <!--/--> | anon_id &lt;chr&gt; | pat_enc_csn_id_coded &lt;dbl&gt; | inpatient_data_id_coded &lt;int&gt; | admit_time &lt;chr&gt; | label &lt;int&gt; | template &lt;chr&gt; | features &lt;chr&gt; | units &lt;chr&gt; | recorded_time &lt;chr&gt; | feature_type &lt;chr&gt; | values &lt;dbl&gt; |\n",
       "|---|---|---|---|---|---|---|---|---|---|---|---|\n",
       "| 1 | JC1000116 | 131295313275 | 57868578 | 2020-09-29 22:45:00+00:00 | 0 | Custom Formula Data | Temp | <!----> | 2020-09-29 15:55:00+00:00 | vitals | 36.6 |\n",
       "\n"
      ],
      "text/plain": [
       "  anon_id   pat_enc_csn_id_coded inpatient_data_id_coded\n",
       "1 JC1000116 131295313275         57868578               \n",
       "  admit_time                label template            features units\n",
       "1 2020-09-29 22:45:00+00:00 0     Custom Formula Data Temp          \n",
       "  recorded_time             feature_type values\n",
       "1 2020-09-29 15:55:00+00:00 vitals       36.6  "
      ]
     },
     "metadata": {},
     "output_type": "display_data"
    },
    {
     "data": {
      "text/html": [
       "<table class=\"dataframe\">\n",
       "<caption>A data.frame: 1 × 16</caption>\n",
       "<thead>\n",
       "\t<tr><th></th><th scope=col>anon_id</th><th scope=col>pat_enc_csn_id_coded</th><th scope=col>inpatient_data_id_coded</th><th scope=col>admit_time</th><th scope=col>label</th><th scope=col>features</th><th scope=col>base_name</th><th scope=col>ord_value</th><th scope=col>values</th><th scope=col>reference_low</th><th scope=col>reference_high</th><th scope=col>reference_unit</th><th scope=col>result_in_range_yn</th><th scope=col>result_flag</th><th scope=col>result_time</th><th scope=col>feature_type</th></tr>\n",
       "\t<tr><th></th><th scope=col>&lt;chr&gt;</th><th scope=col>&lt;dbl&gt;</th><th scope=col>&lt;int&gt;</th><th scope=col>&lt;chr&gt;</th><th scope=col>&lt;int&gt;</th><th scope=col>&lt;chr&gt;</th><th scope=col>&lt;chr&gt;</th><th scope=col>&lt;chr&gt;</th><th scope=col>&lt;dbl&gt;</th><th scope=col>&lt;chr&gt;</th><th scope=col>&lt;chr&gt;</th><th scope=col>&lt;chr&gt;</th><th scope=col>&lt;lgl&gt;</th><th scope=col>&lt;chr&gt;</th><th scope=col>&lt;chr&gt;</th><th scope=col>&lt;chr&gt;</th></tr>\n",
       "</thead>\n",
       "<tbody>\n",
       "\t<tr><th scope=row>1</th><td>JC2013943</td><td>1.31288e+11</td><td>53346407</td><td>2020-04-11 22:13:00+00:00</td><td>0</td><td>O2sat_a</td><td>O2SATA</td><td>98</td><td>98</td><td>95</td><td>98</td><td>%</td><td>NA</td><td></td><td>2020-04-11 21:48:00+00:00</td><td>labs</td></tr>\n",
       "</tbody>\n",
       "</table>\n"
      ],
      "text/latex": [
       "A data.frame: 1 × 16\n",
       "\\begin{tabular}{r|llllllllllllllll}\n",
       "  & anon\\_id & pat\\_enc\\_csn\\_id\\_coded & inpatient\\_data\\_id\\_coded & admit\\_time & label & features & base\\_name & ord\\_value & values & reference\\_low & reference\\_high & reference\\_unit & result\\_in\\_range\\_yn & result\\_flag & result\\_time & feature\\_type\\\\\n",
       "  & <chr> & <dbl> & <int> & <chr> & <int> & <chr> & <chr> & <chr> & <dbl> & <chr> & <chr> & <chr> & <lgl> & <chr> & <chr> & <chr>\\\\\n",
       "\\hline\n",
       "\t1 & JC2013943 & 1.31288e+11 & 53346407 & 2020-04-11 22:13:00+00:00 & 0 & O2sat\\_a & O2SATA & 98 & 98 & 95 & 98 & \\% & NA &  & 2020-04-11 21:48:00+00:00 & labs\\\\\n",
       "\\end{tabular}\n"
      ],
      "text/markdown": [
       "\n",
       "A data.frame: 1 × 16\n",
       "\n",
       "| <!--/--> | anon_id &lt;chr&gt; | pat_enc_csn_id_coded &lt;dbl&gt; | inpatient_data_id_coded &lt;int&gt; | admit_time &lt;chr&gt; | label &lt;int&gt; | features &lt;chr&gt; | base_name &lt;chr&gt; | ord_value &lt;chr&gt; | values &lt;dbl&gt; | reference_low &lt;chr&gt; | reference_high &lt;chr&gt; | reference_unit &lt;chr&gt; | result_in_range_yn &lt;lgl&gt; | result_flag &lt;chr&gt; | result_time &lt;chr&gt; | feature_type &lt;chr&gt; |\n",
       "|---|---|---|---|---|---|---|---|---|---|---|---|---|---|---|---|---|\n",
       "| 1 | JC2013943 | 1.31288e+11 | 53346407 | 2020-04-11 22:13:00+00:00 | 0 | O2sat_a | O2SATA | 98 | 98 | 95 | 98 | % | NA | <!----> | 2020-04-11 21:48:00+00:00 | labs |\n",
       "\n"
      ],
      "text/plain": [
       "  anon_id   pat_enc_csn_id_coded inpatient_data_id_coded\n",
       "1 JC2013943 1.31288e+11          53346407               \n",
       "  admit_time                label features base_name ord_value values\n",
       "1 2020-04-11 22:13:00+00:00 0     O2sat_a  O2SATA    98        98    \n",
       "  reference_low reference_high reference_unit result_in_range_yn result_flag\n",
       "1 95            98             %              NA                            \n",
       "  result_time               feature_type\n",
       "1 2020-04-11 21:48:00+00:00 labs        "
      ]
     },
     "metadata": {},
     "output_type": "display_data"
    }
   ],
   "source": [
    "head(cohort4, 1)\n",
    "head(demos, 1)\n",
    "head(vitals0, 1)\n",
    "head(labs0, 1)"
   ]
  },
  {
   "cell_type": "code",
   "execution_count": 21,
   "metadata": {},
   "outputs": [
    {
     "data": {
      "text/html": [
       "<style>\n",
       ".list-inline {list-style: none; margin:0; padding: 0}\n",
       ".list-inline>li {display: inline-block}\n",
       ".list-inline>li:not(:last-child)::after {content: \"\\00b7\"; padding: 0 .5ex}\n",
       "</style>\n",
       "<ol class=list-inline><li>'anon_id'</li><li>'pat_enc_csn_id_coded'</li><li>'inpatient_data_id_coded'</li><li>'admit_time'</li><li>'label_max24'</li><li>'label_24hr_recent'</li><li>'admit_label'</li><li>'has_admit_label'</li><li>'died_within_24hrs'</li><li>'death_24hr_max_label'</li><li>'death_24hr_recent_label'</li><li>'first_label'</li><li>'first_label_minutes_since_admit'</li><li>'acute_to_critical_label_recent'</li><li>'critical_to_acute_label_recent'</li><li>'acute_to_critical_label_max'</li><li>'critical_to_acute_label_max'</li><li>'previous_icu_visit'</li></ol>\n"
      ],
      "text/latex": [
       "\\begin{enumerate*}\n",
       "\\item 'anon\\_id'\n",
       "\\item 'pat\\_enc\\_csn\\_id\\_coded'\n",
       "\\item 'inpatient\\_data\\_id\\_coded'\n",
       "\\item 'admit\\_time'\n",
       "\\item 'label\\_max24'\n",
       "\\item 'label\\_24hr\\_recent'\n",
       "\\item 'admit\\_label'\n",
       "\\item 'has\\_admit\\_label'\n",
       "\\item 'died\\_within\\_24hrs'\n",
       "\\item 'death\\_24hr\\_max\\_label'\n",
       "\\item 'death\\_24hr\\_recent\\_label'\n",
       "\\item 'first\\_label'\n",
       "\\item 'first\\_label\\_minutes\\_since\\_admit'\n",
       "\\item 'acute\\_to\\_critical\\_label\\_recent'\n",
       "\\item 'critical\\_to\\_acute\\_label\\_recent'\n",
       "\\item 'acute\\_to\\_critical\\_label\\_max'\n",
       "\\item 'critical\\_to\\_acute\\_label\\_max'\n",
       "\\item 'previous\\_icu\\_visit'\n",
       "\\end{enumerate*}\n"
      ],
      "text/markdown": [
       "1. 'anon_id'\n",
       "2. 'pat_enc_csn_id_coded'\n",
       "3. 'inpatient_data_id_coded'\n",
       "4. 'admit_time'\n",
       "5. 'label_max24'\n",
       "6. 'label_24hr_recent'\n",
       "7. 'admit_label'\n",
       "8. 'has_admit_label'\n",
       "9. 'died_within_24hrs'\n",
       "10. 'death_24hr_max_label'\n",
       "11. 'death_24hr_recent_label'\n",
       "12. 'first_label'\n",
       "13. 'first_label_minutes_since_admit'\n",
       "14. 'acute_to_critical_label_recent'\n",
       "15. 'critical_to_acute_label_recent'\n",
       "16. 'acute_to_critical_label_max'\n",
       "17. 'critical_to_acute_label_max'\n",
       "18. 'previous_icu_visit'\n",
       "\n",
       "\n"
      ],
      "text/plain": [
       " [1] \"anon_id\"                         \"pat_enc_csn_id_coded\"           \n",
       " [3] \"inpatient_data_id_coded\"         \"admit_time\"                     \n",
       " [5] \"label_max24\"                     \"label_24hr_recent\"              \n",
       " [7] \"admit_label\"                     \"has_admit_label\"                \n",
       " [9] \"died_within_24hrs\"               \"death_24hr_max_label\"           \n",
       "[11] \"death_24hr_recent_label\"         \"first_label\"                    \n",
       "[13] \"first_label_minutes_since_admit\" \"acute_to_critical_label_recent\" \n",
       "[15] \"critical_to_acute_label_recent\"  \"acute_to_critical_label_max\"    \n",
       "[17] \"critical_to_acute_label_max\"     \"previous_icu_visit\"             "
      ]
     },
     "metadata": {},
     "output_type": "display_data"
    },
    {
     "data": {
      "text/html": [
       "<style>\n",
       ".list-inline {list-style: none; margin:0; padding: 0}\n",
       ".list-inline>li {display: inline-block}\n",
       ".list-inline>li:not(:last-child)::after {content: \"\\00b7\"; padding: 0 .5ex}\n",
       "</style>\n",
       "<ol class=list-inline><li>'anon_id'</li><li>'pat_enc_csn_id_coded'</li><li>'inpatient_data_id_coded'</li><li>'admit_time'</li><li>'label'</li><li>'ESI_i'</li><li>'delta_ESI'</li><li>'gender'</li><li>'age'</li><li>'insurance'</li><li>'English'</li><li>'Height_i'</li><li>'delta_H'</li><li>'Weight_i'</li><li>'delta_W'</li><li>'race.Asian'</li><li>'race.Black'</li><li>'race.Native.American'</li><li>'race.Other'</li><li>'race.Pacific.Islander'</li><li>'race.Unknown'</li><li>'race.White'</li></ol>\n"
      ],
      "text/latex": [
       "\\begin{enumerate*}\n",
       "\\item 'anon\\_id'\n",
       "\\item 'pat\\_enc\\_csn\\_id\\_coded'\n",
       "\\item 'inpatient\\_data\\_id\\_coded'\n",
       "\\item 'admit\\_time'\n",
       "\\item 'label'\n",
       "\\item 'ESI\\_i'\n",
       "\\item 'delta\\_ESI'\n",
       "\\item 'gender'\n",
       "\\item 'age'\n",
       "\\item 'insurance'\n",
       "\\item 'English'\n",
       "\\item 'Height\\_i'\n",
       "\\item 'delta\\_H'\n",
       "\\item 'Weight\\_i'\n",
       "\\item 'delta\\_W'\n",
       "\\item 'race.Asian'\n",
       "\\item 'race.Black'\n",
       "\\item 'race.Native.American'\n",
       "\\item 'race.Other'\n",
       "\\item 'race.Pacific.Islander'\n",
       "\\item 'race.Unknown'\n",
       "\\item 'race.White'\n",
       "\\end{enumerate*}\n"
      ],
      "text/markdown": [
       "1. 'anon_id'\n",
       "2. 'pat_enc_csn_id_coded'\n",
       "3. 'inpatient_data_id_coded'\n",
       "4. 'admit_time'\n",
       "5. 'label'\n",
       "6. 'ESI_i'\n",
       "7. 'delta_ESI'\n",
       "8. 'gender'\n",
       "9. 'age'\n",
       "10. 'insurance'\n",
       "11. 'English'\n",
       "12. 'Height_i'\n",
       "13. 'delta_H'\n",
       "14. 'Weight_i'\n",
       "15. 'delta_W'\n",
       "16. 'race.Asian'\n",
       "17. 'race.Black'\n",
       "18. 'race.Native.American'\n",
       "19. 'race.Other'\n",
       "20. 'race.Pacific.Islander'\n",
       "21. 'race.Unknown'\n",
       "22. 'race.White'\n",
       "\n",
       "\n"
      ],
      "text/plain": [
       " [1] \"anon_id\"                 \"pat_enc_csn_id_coded\"   \n",
       " [3] \"inpatient_data_id_coded\" \"admit_time\"             \n",
       " [5] \"label\"                   \"ESI_i\"                  \n",
       " [7] \"delta_ESI\"               \"gender\"                 \n",
       " [9] \"age\"                     \"insurance\"              \n",
       "[11] \"English\"                 \"Height_i\"               \n",
       "[13] \"delta_H\"                 \"Weight_i\"               \n",
       "[15] \"delta_W\"                 \"race.Asian\"             \n",
       "[17] \"race.Black\"              \"race.Native.American\"   \n",
       "[19] \"race.Other\"              \"race.Pacific.Islander\"  \n",
       "[21] \"race.Unknown\"            \"race.White\"             "
      ]
     },
     "metadata": {},
     "output_type": "display_data"
    },
    {
     "data": {
      "text/html": [
       "<style>\n",
       ".list-inline {list-style: none; margin:0; padding: 0}\n",
       ".list-inline>li {display: inline-block}\n",
       ".list-inline>li:not(:last-child)::after {content: \"\\00b7\"; padding: 0 .5ex}\n",
       "</style>\n",
       "<ol class=list-inline><li>'anon_id'</li><li>'pat_enc_csn_id_coded'</li><li>'inpatient_data_id_coded'</li><li>'admit_time'</li><li>'label'</li><li>'template'</li><li>'features'</li><li>'units'</li><li>'recorded_time'</li><li>'feature_type'</li><li>'values'</li></ol>\n"
      ],
      "text/latex": [
       "\\begin{enumerate*}\n",
       "\\item 'anon\\_id'\n",
       "\\item 'pat\\_enc\\_csn\\_id\\_coded'\n",
       "\\item 'inpatient\\_data\\_id\\_coded'\n",
       "\\item 'admit\\_time'\n",
       "\\item 'label'\n",
       "\\item 'template'\n",
       "\\item 'features'\n",
       "\\item 'units'\n",
       "\\item 'recorded\\_time'\n",
       "\\item 'feature\\_type'\n",
       "\\item 'values'\n",
       "\\end{enumerate*}\n"
      ],
      "text/markdown": [
       "1. 'anon_id'\n",
       "2. 'pat_enc_csn_id_coded'\n",
       "3. 'inpatient_data_id_coded'\n",
       "4. 'admit_time'\n",
       "5. 'label'\n",
       "6. 'template'\n",
       "7. 'features'\n",
       "8. 'units'\n",
       "9. 'recorded_time'\n",
       "10. 'feature_type'\n",
       "11. 'values'\n",
       "\n",
       "\n"
      ],
      "text/plain": [
       " [1] \"anon_id\"                 \"pat_enc_csn_id_coded\"   \n",
       " [3] \"inpatient_data_id_coded\" \"admit_time\"             \n",
       " [5] \"label\"                   \"template\"               \n",
       " [7] \"features\"                \"units\"                  \n",
       " [9] \"recorded_time\"           \"feature_type\"           \n",
       "[11] \"values\"                 "
      ]
     },
     "metadata": {},
     "output_type": "display_data"
    },
    {
     "data": {
      "text/html": [
       "<style>\n",
       ".list-inline {list-style: none; margin:0; padding: 0}\n",
       ".list-inline>li {display: inline-block}\n",
       ".list-inline>li:not(:last-child)::after {content: \"\\00b7\"; padding: 0 .5ex}\n",
       "</style>\n",
       "<ol class=list-inline><li>'anon_id'</li><li>'pat_enc_csn_id_coded'</li><li>'inpatient_data_id_coded'</li><li>'admit_time'</li><li>'label'</li><li>'features'</li><li>'base_name'</li><li>'ord_value'</li><li>'values'</li><li>'reference_low'</li><li>'reference_high'</li><li>'reference_unit'</li><li>'result_in_range_yn'</li><li>'result_flag'</li><li>'result_time'</li><li>'feature_type'</li></ol>\n"
      ],
      "text/latex": [
       "\\begin{enumerate*}\n",
       "\\item 'anon\\_id'\n",
       "\\item 'pat\\_enc\\_csn\\_id\\_coded'\n",
       "\\item 'inpatient\\_data\\_id\\_coded'\n",
       "\\item 'admit\\_time'\n",
       "\\item 'label'\n",
       "\\item 'features'\n",
       "\\item 'base\\_name'\n",
       "\\item 'ord\\_value'\n",
       "\\item 'values'\n",
       "\\item 'reference\\_low'\n",
       "\\item 'reference\\_high'\n",
       "\\item 'reference\\_unit'\n",
       "\\item 'result\\_in\\_range\\_yn'\n",
       "\\item 'result\\_flag'\n",
       "\\item 'result\\_time'\n",
       "\\item 'feature\\_type'\n",
       "\\end{enumerate*}\n"
      ],
      "text/markdown": [
       "1. 'anon_id'\n",
       "2. 'pat_enc_csn_id_coded'\n",
       "3. 'inpatient_data_id_coded'\n",
       "4. 'admit_time'\n",
       "5. 'label'\n",
       "6. 'features'\n",
       "7. 'base_name'\n",
       "8. 'ord_value'\n",
       "9. 'values'\n",
       "10. 'reference_low'\n",
       "11. 'reference_high'\n",
       "12. 'reference_unit'\n",
       "13. 'result_in_range_yn'\n",
       "14. 'result_flag'\n",
       "15. 'result_time'\n",
       "16. 'feature_type'\n",
       "\n",
       "\n"
      ],
      "text/plain": [
       " [1] \"anon_id\"                 \"pat_enc_csn_id_coded\"   \n",
       " [3] \"inpatient_data_id_coded\" \"admit_time\"             \n",
       " [5] \"label\"                   \"features\"               \n",
       " [7] \"base_name\"               \"ord_value\"              \n",
       " [9] \"values\"                  \"reference_low\"          \n",
       "[11] \"reference_high\"          \"reference_unit\"         \n",
       "[13] \"result_in_range_yn\"      \"result_flag\"            \n",
       "[15] \"result_time\"             \"feature_type\"           "
      ]
     },
     "metadata": {},
     "output_type": "display_data"
    }
   ],
   "source": [
    "colnames(cohort4)\n",
    "colnames(demos)\n",
    "colnames(vitals0)\n",
    "colnames(labs0)\n",
    "\n",
    "# cohort <- cohort %>% mutate(admit_time = ymd_hms(admit_time)) "
   ]
  },
  {
   "cell_type": "code",
   "execution_count": 22,
   "metadata": {},
   "outputs": [],
   "source": [
    "cohort <- cohort4 %>% select(anon_id, pat_enc_csn_id_coded, admit_time, first_label, death_24hr_recent_label, death_24hr_max_label)"
   ]
  },
  {
   "cell_type": "code",
   "execution_count": 23,
   "metadata": {},
   "outputs": [
    {
     "name": "stderr",
     "output_type": "stream",
     "text": [
      "Joining, by = c(\"anon_id\", \"pat_enc_csn_id_coded\")\n",
      "\n"
     ]
    },
    {
     "data": {
      "text/html": [
       "280228"
      ],
      "text/latex": [
       "280228"
      ],
      "text/markdown": [
       "280228"
      ],
      "text/plain": [
       "[1] 280228"
      ]
     },
     "metadata": {},
     "output_type": "display_data"
    }
   ],
   "source": [
    "# turn the wide format to long for demographics\n",
    "demo_long <- gather(demos, features, values, ESI_i:race.White, factor_key=TRUE) %>%\n",
    "                mutate(feature_type = \"demo\") %>% select(-admit_time) %>% #mutate(admit_time = ymd_hms(admit_time)) %>% \n",
    "             right_join(cohort)\n",
    "                \n",
    "nrow(demo_long) # --> 43980 * 17 = 747660"
   ]
  },
  {
   "cell_type": "code",
   "execution_count": 24,
   "metadata": {},
   "outputs": [
    {
     "name": "stderr",
     "output_type": "stream",
     "text": [
      "Joining, by = c(\"anon_id\", \"pat_enc_csn_id_coded\", \"admit_time\")\n",
      "\n",
      "Joining, by = c(\"anon_id\", \"pat_enc_csn_id_coded\", \"admit_time\")\n",
      "\n"
     ]
    }
   ],
   "source": [
    "vitals <- vitals0 %>% select(anon_id, pat_enc_csn_id_coded, inpatient_data_id_coded, admit_time, label, \n",
    "                            features, values, feature_type, time = recorded_time) %>% #mutate(admit_time = ymd_hms(admit_time)) %>%\n",
    "                         right_join(cohort) #%>% drop_na()\n",
    "labs <- labs0 %>% select(anon_id, pat_enc_csn_id_coded, inpatient_data_id_coded, admit_time, label, \n",
    "                        features, values, feature_type, time = result_time) %>% #mutate(admit_time = ymd_hms(admit_time)) %>% \n",
    "                    right_join(cohort) %>% drop_na() # due to csn without labs in cohort4"
   ]
  },
  {
   "cell_type": "raw",
   "metadata": {},
   "source": [
    "# JCdcafca and 131187786922, 20015518, 0, 2016-05-15 20:57:00+00:00 \n",
    "# in the no_labels cohort (and Conor's cohort) but not in the updated cohort\n",
    "noinco <- cohort[cohort$pat_enc_csn_id_coded %in% no_labels$pat_enc_csn_id_coded,]\n",
    "head(no_labels[!no_labels$pat_enc_csn_id_coded %in% noinco$pat_enc_csn_id_coded, ])"
   ]
  },
  {
   "cell_type": "code",
   "execution_count": 25,
   "metadata": {},
   "outputs": [
    {
     "data": {
      "text/html": [
       "16484"
      ],
      "text/latex": [
       "16484"
      ],
      "text/markdown": [
       "16484"
      ],
      "text/plain": [
       "[1] 16484"
      ]
     },
     "metadata": {},
     "output_type": "display_data"
    },
    {
     "data": {
      "text/html": [
       "16484"
      ],
      "text/latex": [
       "16484"
      ],
      "text/markdown": [
       "16484"
      ],
      "text/plain": [
       "[1] 16484"
      ]
     },
     "metadata": {},
     "output_type": "display_data"
    },
    {
     "data": {
      "text/html": [
       "15775"
      ],
      "text/latex": [
       "15775"
      ],
      "text/markdown": [
       "15775"
      ],
      "text/plain": [
       "[1] 15775"
      ]
     },
     "metadata": {},
     "output_type": "display_data"
    },
    {
     "data": {
      "text/html": [
       "<table class=\"dataframe\">\n",
       "<caption>A data.frame: 1 × 11</caption>\n",
       "<thead>\n",
       "\t<tr><th></th><th scope=col>anon_id</th><th scope=col>pat_enc_csn_id_coded</th><th scope=col>inpatient_data_id_coded</th><th scope=col>label</th><th scope=col>features</th><th scope=col>values</th><th scope=col>feature_type</th><th scope=col>admit_time</th><th scope=col>first_label</th><th scope=col>death_24hr_recent_label</th><th scope=col>death_24hr_max_label</th></tr>\n",
       "\t<tr><th></th><th scope=col>&lt;chr&gt;</th><th scope=col>&lt;dbl&gt;</th><th scope=col>&lt;int&gt;</th><th scope=col>&lt;int&gt;</th><th scope=col>&lt;fct&gt;</th><th scope=col>&lt;dbl&gt;</th><th scope=col>&lt;chr&gt;</th><th scope=col>&lt;chr&gt;</th><th scope=col>&lt;int&gt;</th><th scope=col>&lt;int&gt;</th><th scope=col>&lt;int&gt;</th></tr>\n",
       "</thead>\n",
       "<tbody>\n",
       "\t<tr><th scope=row>1</th><td>JC1000116</td><td>131295313275</td><td>57868578</td><td>0</td><td>ESI_i</td><td>3</td><td>demo</td><td>2020-09-29 22:45:00+00:00</td><td>0</td><td>0</td><td>0</td></tr>\n",
       "</tbody>\n",
       "</table>\n"
      ],
      "text/latex": [
       "A data.frame: 1 × 11\n",
       "\\begin{tabular}{r|lllllllllll}\n",
       "  & anon\\_id & pat\\_enc\\_csn\\_id\\_coded & inpatient\\_data\\_id\\_coded & label & features & values & feature\\_type & admit\\_time & first\\_label & death\\_24hr\\_recent\\_label & death\\_24hr\\_max\\_label\\\\\n",
       "  & <chr> & <dbl> & <int> & <int> & <fct> & <dbl> & <chr> & <chr> & <int> & <int> & <int>\\\\\n",
       "\\hline\n",
       "\t1 & JC1000116 & 131295313275 & 57868578 & 0 & ESI\\_i & 3 & demo & 2020-09-29 22:45:00+00:00 & 0 & 0 & 0\\\\\n",
       "\\end{tabular}\n"
      ],
      "text/markdown": [
       "\n",
       "A data.frame: 1 × 11\n",
       "\n",
       "| <!--/--> | anon_id &lt;chr&gt; | pat_enc_csn_id_coded &lt;dbl&gt; | inpatient_data_id_coded &lt;int&gt; | label &lt;int&gt; | features &lt;fct&gt; | values &lt;dbl&gt; | feature_type &lt;chr&gt; | admit_time &lt;chr&gt; | first_label &lt;int&gt; | death_24hr_recent_label &lt;int&gt; | death_24hr_max_label &lt;int&gt; |\n",
       "|---|---|---|---|---|---|---|---|---|---|---|---|\n",
       "| 1 | JC1000116 | 131295313275 | 57868578 | 0 | ESI_i | 3 | demo | 2020-09-29 22:45:00+00:00 | 0 | 0 | 0 |\n",
       "\n"
      ],
      "text/plain": [
       "  anon_id   pat_enc_csn_id_coded inpatient_data_id_coded label features values\n",
       "1 JC1000116 131295313275         57868578                0     ESI_i    3     \n",
       "  feature_type admit_time                first_label death_24hr_recent_label\n",
       "1 demo         2020-09-29 22:45:00+00:00 0           0                      \n",
       "  death_24hr_max_label\n",
       "1 0                   "
      ]
     },
     "metadata": {},
     "output_type": "display_data"
    },
    {
     "data": {
      "text/html": [
       "<table class=\"dataframe\">\n",
       "<caption>A data.frame: 1 × 12</caption>\n",
       "<thead>\n",
       "\t<tr><th></th><th scope=col>anon_id</th><th scope=col>pat_enc_csn_id_coded</th><th scope=col>inpatient_data_id_coded</th><th scope=col>admit_time</th><th scope=col>label</th><th scope=col>features</th><th scope=col>values</th><th scope=col>feature_type</th><th scope=col>time</th><th scope=col>first_label</th><th scope=col>death_24hr_recent_label</th><th scope=col>death_24hr_max_label</th></tr>\n",
       "\t<tr><th></th><th scope=col>&lt;chr&gt;</th><th scope=col>&lt;dbl&gt;</th><th scope=col>&lt;int&gt;</th><th scope=col>&lt;chr&gt;</th><th scope=col>&lt;int&gt;</th><th scope=col>&lt;chr&gt;</th><th scope=col>&lt;dbl&gt;</th><th scope=col>&lt;chr&gt;</th><th scope=col>&lt;chr&gt;</th><th scope=col>&lt;int&gt;</th><th scope=col>&lt;int&gt;</th><th scope=col>&lt;int&gt;</th></tr>\n",
       "</thead>\n",
       "<tbody>\n",
       "\t<tr><th scope=row>1</th><td>JC1000116</td><td>131295313275</td><td>57868578</td><td>2020-09-29 22:45:00+00:00</td><td>0</td><td>Temp</td><td>36.6</td><td>vitals</td><td>2020-09-29 15:55:00+00:00</td><td>0</td><td>0</td><td>0</td></tr>\n",
       "</tbody>\n",
       "</table>\n"
      ],
      "text/latex": [
       "A data.frame: 1 × 12\n",
       "\\begin{tabular}{r|llllllllllll}\n",
       "  & anon\\_id & pat\\_enc\\_csn\\_id\\_coded & inpatient\\_data\\_id\\_coded & admit\\_time & label & features & values & feature\\_type & time & first\\_label & death\\_24hr\\_recent\\_label & death\\_24hr\\_max\\_label\\\\\n",
       "  & <chr> & <dbl> & <int> & <chr> & <int> & <chr> & <dbl> & <chr> & <chr> & <int> & <int> & <int>\\\\\n",
       "\\hline\n",
       "\t1 & JC1000116 & 131295313275 & 57868578 & 2020-09-29 22:45:00+00:00 & 0 & Temp & 36.6 & vitals & 2020-09-29 15:55:00+00:00 & 0 & 0 & 0\\\\\n",
       "\\end{tabular}\n"
      ],
      "text/markdown": [
       "\n",
       "A data.frame: 1 × 12\n",
       "\n",
       "| <!--/--> | anon_id &lt;chr&gt; | pat_enc_csn_id_coded &lt;dbl&gt; | inpatient_data_id_coded &lt;int&gt; | admit_time &lt;chr&gt; | label &lt;int&gt; | features &lt;chr&gt; | values &lt;dbl&gt; | feature_type &lt;chr&gt; | time &lt;chr&gt; | first_label &lt;int&gt; | death_24hr_recent_label &lt;int&gt; | death_24hr_max_label &lt;int&gt; |\n",
       "|---|---|---|---|---|---|---|---|---|---|---|---|---|\n",
       "| 1 | JC1000116 | 131295313275 | 57868578 | 2020-09-29 22:45:00+00:00 | 0 | Temp | 36.6 | vitals | 2020-09-29 15:55:00+00:00 | 0 | 0 | 0 |\n",
       "\n"
      ],
      "text/plain": [
       "  anon_id   pat_enc_csn_id_coded inpatient_data_id_coded\n",
       "1 JC1000116 131295313275         57868578               \n",
       "  admit_time                label features values feature_type\n",
       "1 2020-09-29 22:45:00+00:00 0     Temp     36.6   vitals      \n",
       "  time                      first_label death_24hr_recent_label\n",
       "1 2020-09-29 15:55:00+00:00 0           0                      \n",
       "  death_24hr_max_label\n",
       "1 0                   "
      ]
     },
     "metadata": {},
     "output_type": "display_data"
    },
    {
     "data": {
      "text/html": [
       "<table class=\"dataframe\">\n",
       "<caption>A data.frame: 1 × 12</caption>\n",
       "<thead>\n",
       "\t<tr><th></th><th scope=col>anon_id</th><th scope=col>pat_enc_csn_id_coded</th><th scope=col>inpatient_data_id_coded</th><th scope=col>admit_time</th><th scope=col>label</th><th scope=col>features</th><th scope=col>values</th><th scope=col>feature_type</th><th scope=col>time</th><th scope=col>first_label</th><th scope=col>death_24hr_recent_label</th><th scope=col>death_24hr_max_label</th></tr>\n",
       "\t<tr><th></th><th scope=col>&lt;chr&gt;</th><th scope=col>&lt;dbl&gt;</th><th scope=col>&lt;int&gt;</th><th scope=col>&lt;chr&gt;</th><th scope=col>&lt;int&gt;</th><th scope=col>&lt;chr&gt;</th><th scope=col>&lt;dbl&gt;</th><th scope=col>&lt;chr&gt;</th><th scope=col>&lt;chr&gt;</th><th scope=col>&lt;int&gt;</th><th scope=col>&lt;int&gt;</th><th scope=col>&lt;int&gt;</th></tr>\n",
       "</thead>\n",
       "<tbody>\n",
       "\t<tr><th scope=row>1</th><td>JC2013943</td><td>1.31288e+11</td><td>53346407</td><td>2020-04-11 22:13:00+00:00</td><td>0</td><td>O2sat_a</td><td>98</td><td>labs</td><td>2020-04-11 21:48:00+00:00</td><td>0</td><td>0</td><td>0</td></tr>\n",
       "</tbody>\n",
       "</table>\n"
      ],
      "text/latex": [
       "A data.frame: 1 × 12\n",
       "\\begin{tabular}{r|llllllllllll}\n",
       "  & anon\\_id & pat\\_enc\\_csn\\_id\\_coded & inpatient\\_data\\_id\\_coded & admit\\_time & label & features & values & feature\\_type & time & first\\_label & death\\_24hr\\_recent\\_label & death\\_24hr\\_max\\_label\\\\\n",
       "  & <chr> & <dbl> & <int> & <chr> & <int> & <chr> & <dbl> & <chr> & <chr> & <int> & <int> & <int>\\\\\n",
       "\\hline\n",
       "\t1 & JC2013943 & 1.31288e+11 & 53346407 & 2020-04-11 22:13:00+00:00 & 0 & O2sat\\_a & 98 & labs & 2020-04-11 21:48:00+00:00 & 0 & 0 & 0\\\\\n",
       "\\end{tabular}\n"
      ],
      "text/markdown": [
       "\n",
       "A data.frame: 1 × 12\n",
       "\n",
       "| <!--/--> | anon_id &lt;chr&gt; | pat_enc_csn_id_coded &lt;dbl&gt; | inpatient_data_id_coded &lt;int&gt; | admit_time &lt;chr&gt; | label &lt;int&gt; | features &lt;chr&gt; | values &lt;dbl&gt; | feature_type &lt;chr&gt; | time &lt;chr&gt; | first_label &lt;int&gt; | death_24hr_recent_label &lt;int&gt; | death_24hr_max_label &lt;int&gt; |\n",
       "|---|---|---|---|---|---|---|---|---|---|---|---|---|\n",
       "| 1 | JC2013943 | 1.31288e+11 | 53346407 | 2020-04-11 22:13:00+00:00 | 0 | O2sat_a | 98 | labs | 2020-04-11 21:48:00+00:00 | 0 | 0 | 0 |\n",
       "\n"
      ],
      "text/plain": [
       "  anon_id   pat_enc_csn_id_coded inpatient_data_id_coded\n",
       "1 JC2013943 1.31288e+11          53346407               \n",
       "  admit_time                label features values feature_type\n",
       "1 2020-04-11 22:13:00+00:00 0     O2sat_a  98     labs        \n",
       "  time                      first_label death_24hr_recent_label\n",
       "1 2020-04-11 21:48:00+00:00 0           0                      \n",
       "  death_24hr_max_label\n",
       "1 0                   "
      ]
     },
     "metadata": {},
     "output_type": "display_data"
    }
   ],
   "source": [
    "length(unique(demo_long$pat_enc_csn_id_coded))\n",
    "length(unique(vitals$pat_enc_csn_id_coded))\n",
    "length(unique(labs$pat_enc_csn_id_coded)) # 41366 due to drop NA\n",
    "\n",
    "head(demo_long, n=1)\n",
    "head(vitals, n=1)\n",
    "head(labs, n=1)"
   ]
  },
  {
   "cell_type": "code",
   "execution_count": 26,
   "metadata": {},
   "outputs": [
    {
     "data": {
      "text/html": [
       "1175680"
      ],
      "text/latex": [
       "1175680"
      ],
      "text/markdown": [
       "1175680"
      ],
      "text/plain": [
       "[1] 1175680"
      ]
     },
     "metadata": {},
     "output_type": "display_data"
    },
    {
     "data": {
      "text/html": [
       "16484"
      ],
      "text/latex": [
       "16484"
      ],
      "text/markdown": [
       "16484"
      ],
      "text/plain": [
       "[1] 16484"
      ]
     },
     "metadata": {},
     "output_type": "display_data"
    },
    {
     "data": {
      "text/html": [
       "16484"
      ],
      "text/latex": [
       "16484"
      ],
      "text/markdown": [
       "16484"
      ],
      "text/plain": [
       "[1] 16484"
      ]
     },
     "metadata": {},
     "output_type": "display_data"
    },
    {
     "data": {
      "text/html": [
       "<table class=\"dataframe\">\n",
       "<caption>A data.frame: 3 × 2</caption>\n",
       "<thead>\n",
       "\t<tr><th scope=col>feature_type</th><th scope=col>n</th></tr>\n",
       "\t<tr><th scope=col>&lt;chr&gt;</th><th scope=col>&lt;int&gt;</th></tr>\n",
       "</thead>\n",
       "<tbody>\n",
       "\t<tr><td>demo  </td><td>280228</td></tr>\n",
       "\t<tr><td>labs  </td><td>506845</td></tr>\n",
       "\t<tr><td>vitals</td><td>388607</td></tr>\n",
       "</tbody>\n",
       "</table>\n"
      ],
      "text/latex": [
       "A data.frame: 3 × 2\n",
       "\\begin{tabular}{ll}\n",
       " feature\\_type & n\\\\\n",
       " <chr> & <int>\\\\\n",
       "\\hline\n",
       "\t demo   & 280228\\\\\n",
       "\t labs   & 506845\\\\\n",
       "\t vitals & 388607\\\\\n",
       "\\end{tabular}\n"
      ],
      "text/markdown": [
       "\n",
       "A data.frame: 3 × 2\n",
       "\n",
       "| feature_type &lt;chr&gt; | n &lt;int&gt; |\n",
       "|---|---|\n",
       "| demo   | 280228 |\n",
       "| labs   | 506845 |\n",
       "| vitals | 388607 |\n",
       "\n"
      ],
      "text/plain": [
       "  feature_type n     \n",
       "1 demo         280228\n",
       "2 labs         506845\n",
       "3 vitals       388607"
      ]
     },
     "metadata": {},
     "output_type": "display_data"
    },
    {
     "data": {
      "text/plain": [
       "   Min. 1st Qu.  Median    Mean 3rd Qu.    Max. \n",
       " -31.20    1.00   20.00   45.27   78.00 7000.00 "
      ]
     },
     "metadata": {},
     "output_type": "display_data"
    }
   ],
   "source": [
    "# combine demos, vitals and labs, long format, with \"time\"\n",
    "feats <- bind_rows(demo_long, vitals, labs)\n",
    "feats <- as.data.frame(unclass(feats))\n",
    "\n",
    "nrow(feats) #3034259\n",
    "nrow(feats %>% select(anon_id, pat_enc_csn_id_coded) %>% distinct())\n",
    "nrow(feats %>% select(pat_enc_csn_id_coded) %>% distinct()) # 41627\n",
    "\n",
    "feats %>% count(feature_type) # shouldn't have NA\n",
    "summary(feats$values) "
   ]
  },
  {
   "cell_type": "code",
   "execution_count": 27,
   "metadata": {},
   "outputs": [
    {
     "data": {
      "text/html": [
       "<table class=\"dataframe\">\n",
       "<caption>A grouped_df: 66 × 3</caption>\n",
       "<thead>\n",
       "\t<tr><th scope=col>feature_type</th><th scope=col>features</th><th scope=col>n</th></tr>\n",
       "\t<tr><th scope=col>&lt;chr&gt;</th><th scope=col>&lt;chr&gt;</th><th scope=col>&lt;int&gt;</th></tr>\n",
       "</thead>\n",
       "<tbody>\n",
       "\t<tr><td>demo  </td><td>age                  </td><td>16484</td></tr>\n",
       "\t<tr><td>demo  </td><td>delta_ESI            </td><td>16484</td></tr>\n",
       "\t<tr><td>demo  </td><td>delta_H              </td><td>16484</td></tr>\n",
       "\t<tr><td>demo  </td><td>delta_W              </td><td>16484</td></tr>\n",
       "\t<tr><td>demo  </td><td>English              </td><td>16484</td></tr>\n",
       "\t<tr><td>demo  </td><td>ESI_i                </td><td>16484</td></tr>\n",
       "\t<tr><td>demo  </td><td>gender               </td><td>16484</td></tr>\n",
       "\t<tr><td>demo  </td><td>Height_i             </td><td>16484</td></tr>\n",
       "\t<tr><td>demo  </td><td>insurance            </td><td>16484</td></tr>\n",
       "\t<tr><td>demo  </td><td>race.Asian           </td><td>16484</td></tr>\n",
       "\t<tr><td>demo  </td><td>race.Black           </td><td>16484</td></tr>\n",
       "\t<tr><td>demo  </td><td>race.Native.American </td><td>16484</td></tr>\n",
       "\t<tr><td>demo  </td><td>race.Other           </td><td>16484</td></tr>\n",
       "\t<tr><td>demo  </td><td>race.Pacific.Islander</td><td>16484</td></tr>\n",
       "\t<tr><td>demo  </td><td>race.Unknown         </td><td>16484</td></tr>\n",
       "\t<tr><td>demo  </td><td>race.White           </td><td>16484</td></tr>\n",
       "\t<tr><td>demo  </td><td>Weight_i             </td><td>16484</td></tr>\n",
       "\t<tr><td>labs  </td><td>ALB                  </td><td>14566</td></tr>\n",
       "\t<tr><td>labs  </td><td>ALK                  </td><td>14532</td></tr>\n",
       "\t<tr><td>labs  </td><td>ALT                  </td><td>14521</td></tr>\n",
       "\t<tr><td>labs  </td><td>AnionGap             </td><td>15259</td></tr>\n",
       "\t<tr><td>labs  </td><td>AST                  </td><td>14513</td></tr>\n",
       "\t<tr><td>labs  </td><td>Base                 </td><td> 7980</td></tr>\n",
       "\t<tr><td>labs  </td><td>Basos                </td><td>13589</td></tr>\n",
       "\t<tr><td>labs  </td><td>BUN                  </td><td>15267</td></tr>\n",
       "\t<tr><td>labs  </td><td>Ca                   </td><td>15288</td></tr>\n",
       "\t<tr><td>labs  </td><td>Cl                   </td><td>15332</td></tr>\n",
       "\t<tr><td>labs  </td><td>CO2                  </td><td>15268</td></tr>\n",
       "\t<tr><td>labs  </td><td>Cr                   </td><td>16059</td></tr>\n",
       "\t<tr><td>labs  </td><td>eGFR                 </td><td>15864</td></tr>\n",
       "\t<tr><td>labs  </td><td>Eos                  </td><td>13872</td></tr>\n",
       "\t<tr><td>labs  </td><td>Glob                 </td><td>14477</td></tr>\n",
       "\t<tr><td>labs  </td><td>Glucose              </td><td>18491</td></tr>\n",
       "\t<tr><td>labs  </td><td>HCO3_a               </td><td>  434</td></tr>\n",
       "\t<tr><td>labs  </td><td>HCO3_v               </td><td> 7546</td></tr>\n",
       "\t<tr><td>labs  </td><td>Hct                  </td><td>16532</td></tr>\n",
       "\t<tr><td>labs  </td><td>Hgb                  </td><td>16515</td></tr>\n",
       "\t<tr><td>labs  </td><td>INR                  </td><td> 7195</td></tr>\n",
       "\t<tr><td>labs  </td><td>K                    </td><td>16285</td></tr>\n",
       "\t<tr><td>labs  </td><td>Lactate              </td><td> 9180</td></tr>\n",
       "\t<tr><td>labs  </td><td>Lymp                 </td><td>14749</td></tr>\n",
       "\t<tr><td>labs  </td><td>MCH                  </td><td>15538</td></tr>\n",
       "\t<tr><td>labs  </td><td>Mono                 </td><td>14705</td></tr>\n",
       "\t<tr><td>labs  </td><td>Na                   </td><td>16255</td></tr>\n",
       "\t<tr><td>labs  </td><td>Neut                 </td><td>14783</td></tr>\n",
       "\t<tr><td>labs  </td><td>O2sat_a              </td><td>  176</td></tr>\n",
       "\t<tr><td>labs  </td><td>O2sat_v              </td><td> 7775</td></tr>\n",
       "\t<tr><td>labs  </td><td>pCO2_a               </td><td>  188</td></tr>\n",
       "\t<tr><td>labs  </td><td>pCO2_v               </td><td> 7806</td></tr>\n",
       "\t<tr><td>labs  </td><td>pH_a                 </td><td>  195</td></tr>\n",
       "\t<tr><td>labs  </td><td>pH_v                 </td><td> 7806</td></tr>\n",
       "\t<tr><td>labs  </td><td>Platelet             </td><td>15580</td></tr>\n",
       "\t<tr><td>labs  </td><td>PO2_a                </td><td>  188</td></tr>\n",
       "\t<tr><td>labs  </td><td>PO2_v                </td><td> 7812</td></tr>\n",
       "\t<tr><td>labs  </td><td>PT                   </td><td> 7181</td></tr>\n",
       "\t<tr><td>labs  </td><td>RDW                  </td><td>15536</td></tr>\n",
       "\t<tr><td>labs  </td><td>TBili                </td><td>14646</td></tr>\n",
       "\t<tr><td>labs  </td><td>TCO2_a               </td><td>  444</td></tr>\n",
       "\t<tr><td>labs  </td><td>TProtein             </td><td>14533</td></tr>\n",
       "\t<tr><td>labs  </td><td>Trop                 </td><td> 6811</td></tr>\n",
       "\t<tr><td>labs  </td><td>WBC                  </td><td>15573</td></tr>\n",
       "\t<tr><td>vitals</td><td>DBP                  </td><td>81905</td></tr>\n",
       "\t<tr><td>vitals</td><td>Pulse                </td><td>91209</td></tr>\n",
       "\t<tr><td>vitals</td><td>RR                   </td><td>86094</td></tr>\n",
       "\t<tr><td>vitals</td><td>SBP                  </td><td>81915</td></tr>\n",
       "\t<tr><td>vitals</td><td>Temp                 </td><td>47484</td></tr>\n",
       "</tbody>\n",
       "</table>\n"
      ],
      "text/latex": [
       "A grouped\\_df: 66 × 3\n",
       "\\begin{tabular}{lll}\n",
       " feature\\_type & features & n\\\\\n",
       " <chr> & <chr> & <int>\\\\\n",
       "\\hline\n",
       "\t demo   & age                   & 16484\\\\\n",
       "\t demo   & delta\\_ESI             & 16484\\\\\n",
       "\t demo   & delta\\_H               & 16484\\\\\n",
       "\t demo   & delta\\_W               & 16484\\\\\n",
       "\t demo   & English               & 16484\\\\\n",
       "\t demo   & ESI\\_i                 & 16484\\\\\n",
       "\t demo   & gender                & 16484\\\\\n",
       "\t demo   & Height\\_i              & 16484\\\\\n",
       "\t demo   & insurance             & 16484\\\\\n",
       "\t demo   & race.Asian            & 16484\\\\\n",
       "\t demo   & race.Black            & 16484\\\\\n",
       "\t demo   & race.Native.American  & 16484\\\\\n",
       "\t demo   & race.Other            & 16484\\\\\n",
       "\t demo   & race.Pacific.Islander & 16484\\\\\n",
       "\t demo   & race.Unknown          & 16484\\\\\n",
       "\t demo   & race.White            & 16484\\\\\n",
       "\t demo   & Weight\\_i              & 16484\\\\\n",
       "\t labs   & ALB                   & 14566\\\\\n",
       "\t labs   & ALK                   & 14532\\\\\n",
       "\t labs   & ALT                   & 14521\\\\\n",
       "\t labs   & AnionGap              & 15259\\\\\n",
       "\t labs   & AST                   & 14513\\\\\n",
       "\t labs   & Base                  &  7980\\\\\n",
       "\t labs   & Basos                 & 13589\\\\\n",
       "\t labs   & BUN                   & 15267\\\\\n",
       "\t labs   & Ca                    & 15288\\\\\n",
       "\t labs   & Cl                    & 15332\\\\\n",
       "\t labs   & CO2                   & 15268\\\\\n",
       "\t labs   & Cr                    & 16059\\\\\n",
       "\t labs   & eGFR                  & 15864\\\\\n",
       "\t labs   & Eos                   & 13872\\\\\n",
       "\t labs   & Glob                  & 14477\\\\\n",
       "\t labs   & Glucose               & 18491\\\\\n",
       "\t labs   & HCO3\\_a                &   434\\\\\n",
       "\t labs   & HCO3\\_v                &  7546\\\\\n",
       "\t labs   & Hct                   & 16532\\\\\n",
       "\t labs   & Hgb                   & 16515\\\\\n",
       "\t labs   & INR                   &  7195\\\\\n",
       "\t labs   & K                     & 16285\\\\\n",
       "\t labs   & Lactate               &  9180\\\\\n",
       "\t labs   & Lymp                  & 14749\\\\\n",
       "\t labs   & MCH                   & 15538\\\\\n",
       "\t labs   & Mono                  & 14705\\\\\n",
       "\t labs   & Na                    & 16255\\\\\n",
       "\t labs   & Neut                  & 14783\\\\\n",
       "\t labs   & O2sat\\_a               &   176\\\\\n",
       "\t labs   & O2sat\\_v               &  7775\\\\\n",
       "\t labs   & pCO2\\_a                &   188\\\\\n",
       "\t labs   & pCO2\\_v                &  7806\\\\\n",
       "\t labs   & pH\\_a                  &   195\\\\\n",
       "\t labs   & pH\\_v                  &  7806\\\\\n",
       "\t labs   & Platelet              & 15580\\\\\n",
       "\t labs   & PO2\\_a                 &   188\\\\\n",
       "\t labs   & PO2\\_v                 &  7812\\\\\n",
       "\t labs   & PT                    &  7181\\\\\n",
       "\t labs   & RDW                   & 15536\\\\\n",
       "\t labs   & TBili                 & 14646\\\\\n",
       "\t labs   & TCO2\\_a                &   444\\\\\n",
       "\t labs   & TProtein              & 14533\\\\\n",
       "\t labs   & Trop                  &  6811\\\\\n",
       "\t labs   & WBC                   & 15573\\\\\n",
       "\t vitals & DBP                   & 81905\\\\\n",
       "\t vitals & Pulse                 & 91209\\\\\n",
       "\t vitals & RR                    & 86094\\\\\n",
       "\t vitals & SBP                   & 81915\\\\\n",
       "\t vitals & Temp                  & 47484\\\\\n",
       "\\end{tabular}\n"
      ],
      "text/markdown": [
       "\n",
       "A grouped_df: 66 × 3\n",
       "\n",
       "| feature_type &lt;chr&gt; | features &lt;chr&gt; | n &lt;int&gt; |\n",
       "|---|---|---|\n",
       "| demo   | age                   | 16484 |\n",
       "| demo   | delta_ESI             | 16484 |\n",
       "| demo   | delta_H               | 16484 |\n",
       "| demo   | delta_W               | 16484 |\n",
       "| demo   | English               | 16484 |\n",
       "| demo   | ESI_i                 | 16484 |\n",
       "| demo   | gender                | 16484 |\n",
       "| demo   | Height_i              | 16484 |\n",
       "| demo   | insurance             | 16484 |\n",
       "| demo   | race.Asian            | 16484 |\n",
       "| demo   | race.Black            | 16484 |\n",
       "| demo   | race.Native.American  | 16484 |\n",
       "| demo   | race.Other            | 16484 |\n",
       "| demo   | race.Pacific.Islander | 16484 |\n",
       "| demo   | race.Unknown          | 16484 |\n",
       "| demo   | race.White            | 16484 |\n",
       "| demo   | Weight_i              | 16484 |\n",
       "| labs   | ALB                   | 14566 |\n",
       "| labs   | ALK                   | 14532 |\n",
       "| labs   | ALT                   | 14521 |\n",
       "| labs   | AnionGap              | 15259 |\n",
       "| labs   | AST                   | 14513 |\n",
       "| labs   | Base                  |  7980 |\n",
       "| labs   | Basos                 | 13589 |\n",
       "| labs   | BUN                   | 15267 |\n",
       "| labs   | Ca                    | 15288 |\n",
       "| labs   | Cl                    | 15332 |\n",
       "| labs   | CO2                   | 15268 |\n",
       "| labs   | Cr                    | 16059 |\n",
       "| labs   | eGFR                  | 15864 |\n",
       "| labs   | Eos                   | 13872 |\n",
       "| labs   | Glob                  | 14477 |\n",
       "| labs   | Glucose               | 18491 |\n",
       "| labs   | HCO3_a                |   434 |\n",
       "| labs   | HCO3_v                |  7546 |\n",
       "| labs   | Hct                   | 16532 |\n",
       "| labs   | Hgb                   | 16515 |\n",
       "| labs   | INR                   |  7195 |\n",
       "| labs   | K                     | 16285 |\n",
       "| labs   | Lactate               |  9180 |\n",
       "| labs   | Lymp                  | 14749 |\n",
       "| labs   | MCH                   | 15538 |\n",
       "| labs   | Mono                  | 14705 |\n",
       "| labs   | Na                    | 16255 |\n",
       "| labs   | Neut                  | 14783 |\n",
       "| labs   | O2sat_a               |   176 |\n",
       "| labs   | O2sat_v               |  7775 |\n",
       "| labs   | pCO2_a                |   188 |\n",
       "| labs   | pCO2_v                |  7806 |\n",
       "| labs   | pH_a                  |   195 |\n",
       "| labs   | pH_v                  |  7806 |\n",
       "| labs   | Platelet              | 15580 |\n",
       "| labs   | PO2_a                 |   188 |\n",
       "| labs   | PO2_v                 |  7812 |\n",
       "| labs   | PT                    |  7181 |\n",
       "| labs   | RDW                   | 15536 |\n",
       "| labs   | TBili                 | 14646 |\n",
       "| labs   | TCO2_a                |   444 |\n",
       "| labs   | TProtein              | 14533 |\n",
       "| labs   | Trop                  |  6811 |\n",
       "| labs   | WBC                   | 15573 |\n",
       "| vitals | DBP                   | 81905 |\n",
       "| vitals | Pulse                 | 91209 |\n",
       "| vitals | RR                    | 86094 |\n",
       "| vitals | SBP                   | 81915 |\n",
       "| vitals | Temp                  | 47484 |\n",
       "\n"
      ],
      "text/plain": [
       "   feature_type features              n    \n",
       "1  demo         age                   16484\n",
       "2  demo         delta_ESI             16484\n",
       "3  demo         delta_H               16484\n",
       "4  demo         delta_W               16484\n",
       "5  demo         English               16484\n",
       "6  demo         ESI_i                 16484\n",
       "7  demo         gender                16484\n",
       "8  demo         Height_i              16484\n",
       "9  demo         insurance             16484\n",
       "10 demo         race.Asian            16484\n",
       "11 demo         race.Black            16484\n",
       "12 demo         race.Native.American  16484\n",
       "13 demo         race.Other            16484\n",
       "14 demo         race.Pacific.Islander 16484\n",
       "15 demo         race.Unknown          16484\n",
       "16 demo         race.White            16484\n",
       "17 demo         Weight_i              16484\n",
       "18 labs         ALB                   14566\n",
       "19 labs         ALK                   14532\n",
       "20 labs         ALT                   14521\n",
       "21 labs         AnionGap              15259\n",
       "22 labs         AST                   14513\n",
       "23 labs         Base                   7980\n",
       "24 labs         Basos                 13589\n",
       "25 labs         BUN                   15267\n",
       "26 labs         Ca                    15288\n",
       "27 labs         Cl                    15332\n",
       "28 labs         CO2                   15268\n",
       "29 labs         Cr                    16059\n",
       "30 labs         eGFR                  15864\n",
       "31 labs         Eos                   13872\n",
       "32 labs         Glob                  14477\n",
       "33 labs         Glucose               18491\n",
       "34 labs         HCO3_a                  434\n",
       "35 labs         HCO3_v                 7546\n",
       "36 labs         Hct                   16532\n",
       "37 labs         Hgb                   16515\n",
       "38 labs         INR                    7195\n",
       "39 labs         K                     16285\n",
       "40 labs         Lactate                9180\n",
       "41 labs         Lymp                  14749\n",
       "42 labs         MCH                   15538\n",
       "43 labs         Mono                  14705\n",
       "44 labs         Na                    16255\n",
       "45 labs         Neut                  14783\n",
       "46 labs         O2sat_a                 176\n",
       "47 labs         O2sat_v                7775\n",
       "48 labs         pCO2_a                  188\n",
       "49 labs         pCO2_v                 7806\n",
       "50 labs         pH_a                    195\n",
       "51 labs         pH_v                   7806\n",
       "52 labs         Platelet              15580\n",
       "53 labs         PO2_a                   188\n",
       "54 labs         PO2_v                  7812\n",
       "55 labs         PT                     7181\n",
       "56 labs         RDW                   15536\n",
       "57 labs         TBili                 14646\n",
       "58 labs         TCO2_a                  444\n",
       "59 labs         TProtein              14533\n",
       "60 labs         Trop                   6811\n",
       "61 labs         WBC                   15573\n",
       "62 vitals       DBP                   81905\n",
       "63 vitals       Pulse                 91209\n",
       "64 vitals       RR                    86094\n",
       "65 vitals       SBP                   81915\n",
       "66 vitals       Temp                  47484"
      ]
     },
     "metadata": {},
     "output_type": "display_data"
    }
   ],
   "source": [
    "feats %>% group_by(feature_type, features) %>% count()"
   ]
  },
  {
   "cell_type": "code",
   "execution_count": 28,
   "metadata": {},
   "outputs": [
    {
     "data": {
      "text/html": [
       "1175680"
      ],
      "text/latex": [
       "1175680"
      ],
      "text/markdown": [
       "1175680"
      ],
      "text/plain": [
       "[1] 1175680"
      ]
     },
     "metadata": {},
     "output_type": "display_data"
    },
    {
     "data": {
      "text/html": [
       "16484"
      ],
      "text/latex": [
       "16484"
      ],
      "text/markdown": [
       "16484"
      ],
      "text/plain": [
       "[1] 16484"
      ]
     },
     "metadata": {},
     "output_type": "display_data"
    }
   ],
   "source": [
    "# rearrange columns\n",
    "cohort4_feats <- feats %>% select(anon_id, pat_enc_csn_id_coded, admit_time, \n",
    "                                 first_label, death_24hr_recent_label, death_24hr_max_label,\n",
    "                                 feature_type, features, values, time)\n",
    "nrow(cohort4_feats) # 1175680 \n",
    "length(unique(cohort4_feats$pat_enc_csn_id_coded)) # 16484"
   ]
  },
  {
   "cell_type": "code",
   "execution_count": 29,
   "metadata": {},
   "outputs": [
    {
     "data": {
      "text/html": [
       "<table class=\"dataframe\">\n",
       "<caption>A data.frame: 3 × 10</caption>\n",
       "<thead>\n",
       "\t<tr><th></th><th scope=col>anon_id</th><th scope=col>pat_enc_csn_id_coded</th><th scope=col>admit_time</th><th scope=col>first_label</th><th scope=col>death_24hr_recent_label</th><th scope=col>death_24hr_max_label</th><th scope=col>feature_type</th><th scope=col>features</th><th scope=col>values</th><th scope=col>time</th></tr>\n",
       "\t<tr><th></th><th scope=col>&lt;chr&gt;</th><th scope=col>&lt;dbl&gt;</th><th scope=col>&lt;chr&gt;</th><th scope=col>&lt;int&gt;</th><th scope=col>&lt;int&gt;</th><th scope=col>&lt;int&gt;</th><th scope=col>&lt;chr&gt;</th><th scope=col>&lt;chr&gt;</th><th scope=col>&lt;dbl&gt;</th><th scope=col>&lt;chr&gt;</th></tr>\n",
       "</thead>\n",
       "<tbody>\n",
       "\t<tr><th scope=row>1</th><td>JC1000116</td><td>131295313275</td><td>2020-09-29 22:45:00+00:00</td><td>0</td><td>0</td><td>0</td><td>demo</td><td>ESI_i</td><td>3</td><td>NA</td></tr>\n",
       "\t<tr><th scope=row>2</th><td>JC1000939</td><td>131295018112</td><td>2020-08-22 11:41:00+00:00</td><td>0</td><td>1</td><td>1</td><td>demo</td><td>ESI_i</td><td>2</td><td>NA</td></tr>\n",
       "\t<tr><th scope=row>3</th><td>JC1001688</td><td>131288774622</td><td>2020-06-19 21:36:00+00:00</td><td>0</td><td>0</td><td>0</td><td>demo</td><td>ESI_i</td><td>3</td><td>NA</td></tr>\n",
       "</tbody>\n",
       "</table>\n"
      ],
      "text/latex": [
       "A data.frame: 3 × 10\n",
       "\\begin{tabular}{r|llllllllll}\n",
       "  & anon\\_id & pat\\_enc\\_csn\\_id\\_coded & admit\\_time & first\\_label & death\\_24hr\\_recent\\_label & death\\_24hr\\_max\\_label & feature\\_type & features & values & time\\\\\n",
       "  & <chr> & <dbl> & <chr> & <int> & <int> & <int> & <chr> & <chr> & <dbl> & <chr>\\\\\n",
       "\\hline\n",
       "\t1 & JC1000116 & 131295313275 & 2020-09-29 22:45:00+00:00 & 0 & 0 & 0 & demo & ESI\\_i & 3 & NA\\\\\n",
       "\t2 & JC1000939 & 131295018112 & 2020-08-22 11:41:00+00:00 & 0 & 1 & 1 & demo & ESI\\_i & 2 & NA\\\\\n",
       "\t3 & JC1001688 & 131288774622 & 2020-06-19 21:36:00+00:00 & 0 & 0 & 0 & demo & ESI\\_i & 3 & NA\\\\\n",
       "\\end{tabular}\n"
      ],
      "text/markdown": [
       "\n",
       "A data.frame: 3 × 10\n",
       "\n",
       "| <!--/--> | anon_id &lt;chr&gt; | pat_enc_csn_id_coded &lt;dbl&gt; | admit_time &lt;chr&gt; | first_label &lt;int&gt; | death_24hr_recent_label &lt;int&gt; | death_24hr_max_label &lt;int&gt; | feature_type &lt;chr&gt; | features &lt;chr&gt; | values &lt;dbl&gt; | time &lt;chr&gt; |\n",
       "|---|---|---|---|---|---|---|---|---|---|---|\n",
       "| 1 | JC1000116 | 131295313275 | 2020-09-29 22:45:00+00:00 | 0 | 0 | 0 | demo | ESI_i | 3 | NA |\n",
       "| 2 | JC1000939 | 131295018112 | 2020-08-22 11:41:00+00:00 | 0 | 1 | 1 | demo | ESI_i | 2 | NA |\n",
       "| 3 | JC1001688 | 131288774622 | 2020-06-19 21:36:00+00:00 | 0 | 0 | 0 | demo | ESI_i | 3 | NA |\n",
       "\n"
      ],
      "text/plain": [
       "  anon_id   pat_enc_csn_id_coded admit_time                first_label\n",
       "1 JC1000116 131295313275         2020-09-29 22:45:00+00:00 0          \n",
       "2 JC1000939 131295018112         2020-08-22 11:41:00+00:00 0          \n",
       "3 JC1001688 131288774622         2020-06-19 21:36:00+00:00 0          \n",
       "  death_24hr_recent_label death_24hr_max_label feature_type features values\n",
       "1 0                       0                    demo         ESI_i    3     \n",
       "2 1                       1                    demo         ESI_i    2     \n",
       "3 0                       0                    demo         ESI_i    3     \n",
       "  time\n",
       "1 NA  \n",
       "2 NA  \n",
       "3 NA  "
      ]
     },
     "metadata": {},
     "output_type": "display_data"
    },
    {
     "data": {
      "text/html": [
       "<table class=\"dataframe\">\n",
       "<caption>A data.frame: 3 × 10</caption>\n",
       "<thead>\n",
       "\t<tr><th></th><th scope=col>anon_id</th><th scope=col>pat_enc_csn_id_coded</th><th scope=col>admit_time</th><th scope=col>first_label</th><th scope=col>death_24hr_recent_label</th><th scope=col>death_24hr_max_label</th><th scope=col>feature_type</th><th scope=col>features</th><th scope=col>values</th><th scope=col>time</th></tr>\n",
       "\t<tr><th></th><th scope=col>&lt;chr&gt;</th><th scope=col>&lt;dbl&gt;</th><th scope=col>&lt;chr&gt;</th><th scope=col>&lt;int&gt;</th><th scope=col>&lt;int&gt;</th><th scope=col>&lt;int&gt;</th><th scope=col>&lt;chr&gt;</th><th scope=col>&lt;chr&gt;</th><th scope=col>&lt;dbl&gt;</th><th scope=col>&lt;chr&gt;</th></tr>\n",
       "</thead>\n",
       "<tbody>\n",
       "\t<tr><th scope=row>1175678</th><td>JC2701145</td><td>131311244469</td><td>2021-06-03 08:02:00+00:00</td><td>1</td><td>0</td><td>1</td><td>labs</td><td>O2sat_v</td><td>35.0</td><td>2021-06-02 23:52:00+00:00</td></tr>\n",
       "\t<tr><th scope=row>1175679</th><td>JC543041 </td><td>131314663470</td><td>2021-07-07 21:26:00+00:00</td><td>1</td><td>1</td><td>1</td><td>labs</td><td>O2sat_v</td><td>71.0</td><td>2021-07-07 20:01:00+00:00</td></tr>\n",
       "\t<tr><th scope=row>1175680</th><td>JC1804671</td><td>131317693203</td><td>2021-08-19 11:24:00+00:00</td><td>0</td><td>0</td><td>0</td><td>labs</td><td>O2sat_v</td><td>58.2</td><td>2021-08-19 09:15:00+00:00</td></tr>\n",
       "</tbody>\n",
       "</table>\n"
      ],
      "text/latex": [
       "A data.frame: 3 × 10\n",
       "\\begin{tabular}{r|llllllllll}\n",
       "  & anon\\_id & pat\\_enc\\_csn\\_id\\_coded & admit\\_time & first\\_label & death\\_24hr\\_recent\\_label & death\\_24hr\\_max\\_label & feature\\_type & features & values & time\\\\\n",
       "  & <chr> & <dbl> & <chr> & <int> & <int> & <int> & <chr> & <chr> & <dbl> & <chr>\\\\\n",
       "\\hline\n",
       "\t1175678 & JC2701145 & 131311244469 & 2021-06-03 08:02:00+00:00 & 1 & 0 & 1 & labs & O2sat\\_v & 35.0 & 2021-06-02 23:52:00+00:00\\\\\n",
       "\t1175679 & JC543041  & 131314663470 & 2021-07-07 21:26:00+00:00 & 1 & 1 & 1 & labs & O2sat\\_v & 71.0 & 2021-07-07 20:01:00+00:00\\\\\n",
       "\t1175680 & JC1804671 & 131317693203 & 2021-08-19 11:24:00+00:00 & 0 & 0 & 0 & labs & O2sat\\_v & 58.2 & 2021-08-19 09:15:00+00:00\\\\\n",
       "\\end{tabular}\n"
      ],
      "text/markdown": [
       "\n",
       "A data.frame: 3 × 10\n",
       "\n",
       "| <!--/--> | anon_id &lt;chr&gt; | pat_enc_csn_id_coded &lt;dbl&gt; | admit_time &lt;chr&gt; | first_label &lt;int&gt; | death_24hr_recent_label &lt;int&gt; | death_24hr_max_label &lt;int&gt; | feature_type &lt;chr&gt; | features &lt;chr&gt; | values &lt;dbl&gt; | time &lt;chr&gt; |\n",
       "|---|---|---|---|---|---|---|---|---|---|---|\n",
       "| 1175678 | JC2701145 | 131311244469 | 2021-06-03 08:02:00+00:00 | 1 | 0 | 1 | labs | O2sat_v | 35.0 | 2021-06-02 23:52:00+00:00 |\n",
       "| 1175679 | JC543041  | 131314663470 | 2021-07-07 21:26:00+00:00 | 1 | 1 | 1 | labs | O2sat_v | 71.0 | 2021-07-07 20:01:00+00:00 |\n",
       "| 1175680 | JC1804671 | 131317693203 | 2021-08-19 11:24:00+00:00 | 0 | 0 | 0 | labs | O2sat_v | 58.2 | 2021-08-19 09:15:00+00:00 |\n",
       "\n"
      ],
      "text/plain": [
       "        anon_id   pat_enc_csn_id_coded admit_time                first_label\n",
       "1175678 JC2701145 131311244469         2021-06-03 08:02:00+00:00 1          \n",
       "1175679 JC543041  131314663470         2021-07-07 21:26:00+00:00 1          \n",
       "1175680 JC1804671 131317693203         2021-08-19 11:24:00+00:00 0          \n",
       "        death_24hr_recent_label death_24hr_max_label feature_type features\n",
       "1175678 0                       1                    labs         O2sat_v \n",
       "1175679 1                       1                    labs         O2sat_v \n",
       "1175680 0                       0                    labs         O2sat_v \n",
       "        values time                     \n",
       "1175678 35.0   2021-06-02 23:52:00+00:00\n",
       "1175679 71.0   2021-07-07 20:01:00+00:00\n",
       "1175680 58.2   2021-08-19 09:15:00+00:00"
      ]
     },
     "metadata": {},
     "output_type": "display_data"
    }
   ],
   "source": [
    "head(cohort4_feats, 3)\n",
    "tail(cohort4_feats, 3)"
   ]
  },
  {
   "cell_type": "code",
   "execution_count": 30,
   "metadata": {},
   "outputs": [],
   "source": [
    "# only have new cohort\n",
    "write.csv(cohort4_feats, file.path(valdir, \"6_9_coh4_feature_values.csv\"), row.names=FALSE)"
   ]
  },
  {
   "cell_type": "code",
   "execution_count": 35,
   "metadata": {},
   "outputs": [
    {
     "data": {
      "text/html": [
       "3085046"
      ],
      "text/latex": [
       "3085046"
      ],
      "text/markdown": [
       "3085046"
      ],
      "text/plain": [
       "[1] 3085046"
      ]
     },
     "metadata": {},
     "output_type": "display_data"
    },
    {
     "data": {
      "text/html": [
       "43980"
      ],
      "text/latex": [
       "43980"
      ],
      "text/markdown": [
       "43980"
      ],
      "text/plain": [
       "[1] 43980"
      ]
     },
     "metadata": {},
     "output_type": "display_data"
    }
   ],
   "source": [
    "featuredir = \"../../OutputTD/2_features\"\n",
    "cohort4_0_feats <- read.csv(file.path(featuredir, \"2_7_coh4_feature_values.csv\"))\n",
    "nrow(cohort4_0_feats) # 3085046\n",
    "length(unique(cohort4_0_feats$pat_enc_csn_id_coded))"
   ]
  },
  {
   "cell_type": "code",
   "execution_count": 36,
   "metadata": {},
   "outputs": [
    {
     "data": {
      "text/html": [
       "16484"
      ],
      "text/latex": [
       "16484"
      ],
      "text/markdown": [
       "16484"
      ],
      "text/plain": [
       "[1] 16484"
      ]
     },
     "metadata": {},
     "output_type": "display_data"
    },
    {
     "data": {
      "text/html": [
       "43980"
      ],
      "text/latex": [
       "43980"
      ],
      "text/markdown": [
       "43980"
      ],
      "text/plain": [
       "[1] 43980"
      ]
     },
     "metadata": {},
     "output_type": "display_data"
    }
   ],
   "source": [
    "# NO overlapping! sanity check\n",
    "length(setdiff(cohort4_feats$pat_enc_csn_id_coded, cohort4_0$pat_enc_csn_id_coded))\n",
    "length(setdiff(cohort4_0_feats$pat_enc_csn_id_coded, cohort4_feats$pat_enc_csn_id_coded))"
   ]
  }
 ],
 "metadata": {
  "environment": {
   "name": "r-cpu.4-0.m71",
   "type": "gcloud",
   "uri": "gcr.io/deeplearning-platform-release/r-cpu.4-0:m71"
  },
  "kernelspec": {
   "display_name": "R",
   "language": "R",
   "name": "ir"
  },
  "language_info": {
   "codemirror_mode": "r",
   "file_extension": ".r",
   "mimetype": "text/x-r-source",
   "name": "R",
   "pygments_lexer": "r",
   "version": "4.0.3"
  },
  "toc": {
   "base_numbering": 1,
   "nav_menu": {},
   "number_sections": true,
   "sideBar": true,
   "skip_h1_title": false,
   "title_cell": "Table of Contents",
   "title_sidebar": "Contents",
   "toc_cell": false,
   "toc_position": {},
   "toc_section_display": true,
   "toc_window_display": false
  },
  "varInspector": {
   "cols": {
    "lenName": 16,
    "lenType": 16,
    "lenVar": 40
   },
   "kernels_config": {
    "python": {
     "delete_cmd_postfix": "",
     "delete_cmd_prefix": "del ",
     "library": "var_list.py",
     "varRefreshCmd": "print(var_dic_list())"
    },
    "r": {
     "delete_cmd_postfix": ") ",
     "delete_cmd_prefix": "rm(",
     "library": "var_list.r",
     "varRefreshCmd": "cat(var_dic_list()) "
    }
   },
   "types_to_exclude": [
    "module",
    "function",
    "builtin_function_or_method",
    "instance",
    "_Feature"
   ],
   "window_display": false
  }
 },
 "nbformat": 4,
 "nbformat_minor": 4
}
