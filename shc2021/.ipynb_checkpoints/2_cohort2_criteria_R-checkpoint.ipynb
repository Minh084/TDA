{
 "cells": [
  {
   "cell_type": "markdown",
   "metadata": {},
   "source": [
    "### Descriptions:\n",
    "\n",
    "Some initial inclusion/(exclusion) criteria\n",
    "- have inpatient ID, Hospital encounters only (remove those with NA)\n",
    "- full code status only (no other code prior to or within 24 hr since admission)\n",
    "- 18 years and older\n",
    "- when processing other features, will exclude a few more, mainly those without a complete set of vitals\n",
    "- add other unprocessed variables from demographics table\n",
    "\n",
    "**Changes**:\n",
    "- Use shc_core_2021\n",
    "- DataTD/validation\n",
    "- OutputTD/6_validation\n",
    "- There is no `recent_date` from `shc_core_2021/demographics` anymore\n",
    "\n",
    "**Inputs**: \n",
    "- `6_1_cohort1`: only keept years of admission 04/2020 - 2021 as original data has up to 03/2020. However, this doesn't waranty that there are no overlapping CSNs. Some CSNs had another anon_id in the old data. This will be dealt with in Notebook 6.7 when finalizing the cohort.\n",
    "- `encounters_2021` (from SQL) : join with  table to get ESI and inpatient ID information\n",
    "- `code_status_2021` (from SQL): exclude patients who have any order for EXISTING code status that is not full prior to and within 24hrs after inpatient admission (even if code was cancelled later)\n",
    "- `demographics_2021` (from SQL): exclude patients who are < 18 year old\n",
    "\n",
    "**Outputs**: \n",
    "- `2_cohort2`"
   ]
  },
  {
   "cell_type": "markdown",
   "metadata": {},
   "source": [
    "### Importing R libraries"
   ]
  },
  {
   "cell_type": "code",
   "execution_count": 1,
   "metadata": {
    "ExecuteTime": {
     "end_time": "2020-05-21T00:38:06.078240Z",
     "start_time": "2020-05-21T00:38:02.778Z"
    }
   },
   "outputs": [
    {
     "name": "stderr",
     "output_type": "stream",
     "text": [
      "── \u001b[1mAttaching packages\u001b[22m ─────────────────────────────────────── tidyverse 1.3.1 ──\n",
      "\n",
      "\u001b[32m✔\u001b[39m \u001b[34mggplot2\u001b[39m 3.3.3     \u001b[32m✔\u001b[39m \u001b[34mpurrr  \u001b[39m 0.3.4\n",
      "\u001b[32m✔\u001b[39m \u001b[34mtibble \u001b[39m 3.1.2     \u001b[32m✔\u001b[39m \u001b[34mdplyr  \u001b[39m 1.0.6\n",
      "\u001b[32m✔\u001b[39m \u001b[34mtidyr  \u001b[39m 1.1.3     \u001b[32m✔\u001b[39m \u001b[34mstringr\u001b[39m 1.4.0\n",
      "\u001b[32m✔\u001b[39m \u001b[34mreadr  \u001b[39m 1.4.0     \u001b[32m✔\u001b[39m \u001b[34mforcats\u001b[39m 0.5.1\n",
      "\n",
      "── \u001b[1mConflicts\u001b[22m ────────────────────────────────────────── tidyverse_conflicts() ──\n",
      "\u001b[31m✖\u001b[39m \u001b[34mdplyr\u001b[39m::\u001b[32mfilter()\u001b[39m masks \u001b[34mstats\u001b[39m::filter()\n",
      "\u001b[31m✖\u001b[39m \u001b[34mdplyr\u001b[39m::\u001b[32mlag()\u001b[39m    masks \u001b[34mstats\u001b[39m::lag()\n",
      "\n",
      "\n",
      "Attaching package: ‘lubridate’\n",
      "\n",
      "\n",
      "The following objects are masked from ‘package:base’:\n",
      "\n",
      "    date, intersect, setdiff, union\n",
      "\n",
      "\n"
     ]
    }
   ],
   "source": [
    "library(bigrquery)  # to query STARR-OMOP (stored in BigQuery) using SQL\n",
    "library(tidyverse)\n",
    "library(lubridate)\n",
    "\n",
    "# library(data.table)\n",
    "# library(Matrix)\n",
    "# library(caret) # import this before glmnet to avoid rlang version problem\n",
    "# library(glmnet)\n",
    "# library(bit64)\n",
    "\n",
    "# library(slam)\n",
    "# library(mtools) for one hot coder, not available on Nero or use caret or tidyr\n",
    "# library(mice)\n",
    "\n",
    "options(repr.matrix.max.rows=250, repr.matrix.max.cols=30)"
   ]
  },
  {
   "cell_type": "markdown",
   "metadata": {},
   "source": [
    "### Set up BigQuery\n",
    "\n",
    "https://bigrquery.r-dbi.org/\n",
    "\n",
    "The bigrquery package makes it easy to work with data stored in Google BigQuery by allowing you to query BigQuery tables and retrieve metadata about your projects, datasets, tables, and jobs. The bigrquery package provides three levels of abstraction on top of BigQuery:\n",
    "\n",
    "- The low-level API provides thin wrappers over the underlying REST API. All the low-level functions start with `bq_`, and mostly have the form bq_noun_verb(). This level of abstraction is most appropriate if you’re familiar with the REST API and you want do something not supported in the higher-level APIs.\n",
    "\n",
    "- The `DBI` interface wraps the low-level API and makes working with BigQuery like working with any other database system. This is most convenient layer if you want to execute SQL queries in BigQuery or upload smaller amounts (i.e. <100 MB) of data.\n",
    "\n",
    "- The `dplyr` interface lets you treat BigQuery tables as if they are in-memory data frames. This is the most convenient layer if you don’t want to write SQL, but instead want dbplyr to write it for you.\n"
   ]
  },
  {
   "cell_type": "code",
   "execution_count": 2,
   "metadata": {},
   "outputs": [
    {
     "data": {
      "text/plain": [
       "NULL"
      ]
     },
     "metadata": {},
     "output_type": "display_data"
    }
   ],
   "source": [
    "# CREDENTIALS depending on LOCATIONS:\n",
    "# credential <- paste0(\"/home/\", \"minh084\", \"/.config/gcloud/application_default_credentials.json\")\n",
    "\n",
    "# local computer\n",
    "# credential <- \"C:/Users/User/AppData/Roaming/gcloud/application_default_credentials.json\"\n",
    "\n",
    "# Nero onprem\n",
    "# credential <- \"/home/minh084/.config/gcloud/application_default_credentials.json\"\n",
    "\n",
    "# Nero gcp notebook\n",
    "credential <- \"/home/jupyter/.config/gcloud/application_default_credentials.json\"\n",
    "\n",
    "project_id <- \"som-nero-phi-jonc101\"\n",
    "\n",
    "Sys.setenv(GOOGLE_APPLICATION_CREDENTIALS = credential)\n",
    "Sys.setenv(GCLOUD_PROJECT = project_id)\n",
    "gargle::credentials_app_default()"
   ]
  },
  {
   "cell_type": "code",
   "execution_count": 3,
   "metadata": {},
   "outputs": [
    {
     "data": {
      "text/plain": [
       "<BigQueryConnection>\n",
       "  Dataset: som-nero-phi-jonc101.shc_core_2021\n",
       "  Billing: som-nero-phi-jonc101"
      ]
     },
     "metadata": {},
     "output_type": "display_data"
    },
    {
     "data": {
      "text/html": [
       "<style>\n",
       ".list-inline {list-style: none; margin:0; padding: 0}\n",
       ".list-inline>li {display: inline-block}\n",
       ".list-inline>li:not(:last-child)::after {content: \"\\00b7\"; padding: 0 .5ex}\n",
       "</style>\n",
       "<ol class=list-inline><li>'adt'</li><li>'alert'</li><li>'alert_history'</li><li>'alerts_orders'</li><li>'allergy'</li><li>'alt_com_action'</li><li>'clinical_doc_meta'</li><li>'culture_sensitivity'</li><li>'demographic'</li><li>'dep_map'</li><li>'diagnosis'</li><li>'drg_code'</li><li>'encounter'</li><li>'f_ip_hsp_admission'</li><li>'family_hx'</li><li>'flowsheet'</li><li>'lab_result'</li><li>'lda'</li><li>'med_orderset'</li><li>'myc_mesg'</li><li>'ndc_code'</li><li>'order_comment'</li><li>'order_med'</li><li>'order_proc'</li><li>'order_quest'</li><li>'pharmacy_mar'</li><li>'proc_note'</li><li>'proc_orderset'</li><li>'procedure'</li><li>'prov_map'</li><li>'social_hx'</li><li>'temp_table'</li><li>'treatment_team'</li><li>'treatment_team_code'</li><li>'yn_jon_chen_lpch'</li></ol>\n"
      ],
      "text/latex": [
       "\\begin{enumerate*}\n",
       "\\item 'adt'\n",
       "\\item 'alert'\n",
       "\\item 'alert\\_history'\n",
       "\\item 'alerts\\_orders'\n",
       "\\item 'allergy'\n",
       "\\item 'alt\\_com\\_action'\n",
       "\\item 'clinical\\_doc\\_meta'\n",
       "\\item 'culture\\_sensitivity'\n",
       "\\item 'demographic'\n",
       "\\item 'dep\\_map'\n",
       "\\item 'diagnosis'\n",
       "\\item 'drg\\_code'\n",
       "\\item 'encounter'\n",
       "\\item 'f\\_ip\\_hsp\\_admission'\n",
       "\\item 'family\\_hx'\n",
       "\\item 'flowsheet'\n",
       "\\item 'lab\\_result'\n",
       "\\item 'lda'\n",
       "\\item 'med\\_orderset'\n",
       "\\item 'myc\\_mesg'\n",
       "\\item 'ndc\\_code'\n",
       "\\item 'order\\_comment'\n",
       "\\item 'order\\_med'\n",
       "\\item 'order\\_proc'\n",
       "\\item 'order\\_quest'\n",
       "\\item 'pharmacy\\_mar'\n",
       "\\item 'proc\\_note'\n",
       "\\item 'proc\\_orderset'\n",
       "\\item 'procedure'\n",
       "\\item 'prov\\_map'\n",
       "\\item 'social\\_hx'\n",
       "\\item 'temp\\_table'\n",
       "\\item 'treatment\\_team'\n",
       "\\item 'treatment\\_team\\_code'\n",
       "\\item 'yn\\_jon\\_chen\\_lpch'\n",
       "\\end{enumerate*}\n"
      ],
      "text/markdown": [
       "1. 'adt'\n",
       "2. 'alert'\n",
       "3. 'alert_history'\n",
       "4. 'alerts_orders'\n",
       "5. 'allergy'\n",
       "6. 'alt_com_action'\n",
       "7. 'clinical_doc_meta'\n",
       "8. 'culture_sensitivity'\n",
       "9. 'demographic'\n",
       "10. 'dep_map'\n",
       "11. 'diagnosis'\n",
       "12. 'drg_code'\n",
       "13. 'encounter'\n",
       "14. 'f_ip_hsp_admission'\n",
       "15. 'family_hx'\n",
       "16. 'flowsheet'\n",
       "17. 'lab_result'\n",
       "18. 'lda'\n",
       "19. 'med_orderset'\n",
       "20. 'myc_mesg'\n",
       "21. 'ndc_code'\n",
       "22. 'order_comment'\n",
       "23. 'order_med'\n",
       "24. 'order_proc'\n",
       "25. 'order_quest'\n",
       "26. 'pharmacy_mar'\n",
       "27. 'proc_note'\n",
       "28. 'proc_orderset'\n",
       "29. 'procedure'\n",
       "30. 'prov_map'\n",
       "31. 'social_hx'\n",
       "32. 'temp_table'\n",
       "33. 'treatment_team'\n",
       "34. 'treatment_team_code'\n",
       "35. 'yn_jon_chen_lpch'\n",
       "\n",
       "\n"
      ],
      "text/plain": [
       " [1] \"adt\"                 \"alert\"               \"alert_history\"      \n",
       " [4] \"alerts_orders\"       \"allergy\"             \"alt_com_action\"     \n",
       " [7] \"clinical_doc_meta\"   \"culture_sensitivity\" \"demographic\"        \n",
       "[10] \"dep_map\"             \"diagnosis\"           \"drg_code\"           \n",
       "[13] \"encounter\"           \"f_ip_hsp_admission\"  \"family_hx\"          \n",
       "[16] \"flowsheet\"           \"lab_result\"          \"lda\"                \n",
       "[19] \"med_orderset\"        \"myc_mesg\"            \"ndc_code\"           \n",
       "[22] \"order_comment\"       \"order_med\"           \"order_proc\"         \n",
       "[25] \"order_quest\"         \"pharmacy_mar\"        \"proc_note\"          \n",
       "[28] \"proc_orderset\"       \"procedure\"           \"prov_map\"           \n",
       "[31] \"social_hx\"           \"temp_table\"          \"treatment_team\"     \n",
       "[34] \"treatment_team_code\" \"yn_jon_chen_lpch\"   "
      ]
     },
     "metadata": {},
     "output_type": "display_data"
    }
   ],
   "source": [
    "library(DBI)\n",
    "con <- dbConnect(\n",
    "  bigrquery::bigquery(),\n",
    "  project = project_id,\n",
    "  dataset = \"shc_core_2021\" #, billing = project_id\n",
    ")\n",
    "con \n",
    "dbListTables(con)"
   ]
  },
  {
   "cell_type": "markdown",
   "metadata": {},
   "source": [
    "### shc_core_2021\n",
    "* Use init cohort, with admit_time (this is the effective time < event time for admission) from adt table\n",
    "* No longer checking for admission order from order_proc because these orders don't have the level of care\n",
    "* Get inpatient id and acuity_level = ESI from encounter table\n",
    "* Keep patients with FULL CODE status and >=18 year old\n",
    "* Keep aptients with admit years from 2020 - 2021"
   ]
  },
  {
   "cell_type": "code",
   "execution_count": 4,
   "metadata": {},
   "outputs": [
    {
     "data": {
      "text/html": [
       "75455"
      ],
      "text/latex": [
       "75455"
      ],
      "text/markdown": [
       "75455"
      ],
      "text/plain": [
       "[1] 75455"
      ]
     },
     "metadata": {},
     "output_type": "display_data"
    },
    {
     "data": {
      "text/html": [
       "<style>\n",
       ".list-inline {list-style: none; margin:0; padding: 0}\n",
       ".list-inline>li {display: inline-block}\n",
       ".list-inline>li:not(:last-child)::after {content: \"\\00b7\"; padding: 0 .5ex}\n",
       "</style>\n",
       "<ol class=list-inline><li>'anon_id'</li><li>'pat_enc_csn_id_coded'</li><li>'admit_time_jittered'</li><li>'label'</li></ol>\n"
      ],
      "text/latex": [
       "\\begin{enumerate*}\n",
       "\\item 'anon\\_id'\n",
       "\\item 'pat\\_enc\\_csn\\_id\\_coded'\n",
       "\\item 'admit\\_time\\_jittered'\n",
       "\\item 'label'\n",
       "\\end{enumerate*}\n"
      ],
      "text/markdown": [
       "1. 'anon_id'\n",
       "2. 'pat_enc_csn_id_coded'\n",
       "3. 'admit_time_jittered'\n",
       "4. 'label'\n",
       "\n",
       "\n"
      ],
      "text/plain": [
       "[1] \"anon_id\"              \"pat_enc_csn_id_coded\" \"admit_time_jittered\" \n",
       "[4] \"label\"               "
      ]
     },
     "metadata": {},
     "output_type": "display_data"
    }
   ],
   "source": [
    "outdir =  \"../../OutputTD/shc2021\"\n",
    "\n",
    "cohort1 <- read.csv(file.path(outdir, \"1_cohort1.csv\"))\n",
    "nrow(cohort1) #75455\n",
    "colnames(cohort1)"
   ]
  },
  {
   "cell_type": "code",
   "execution_count": 5,
   "metadata": {},
   "outputs": [
    {
     "data": {
      "text/html": [
       "<style>\n",
       ".list-inline {list-style: none; margin:0; padding: 0}\n",
       ".list-inline>li {display: inline-block}\n",
       ".list-inline>li:not(:last-child)::after {content: \"\\00b7\"; padding: 0 .5ex}\n",
       "</style>\n",
       "<ol class=list-inline><li>2015</li><li>2020</li><li>2017</li><li>2016</li><li>2018</li><li>2019</li><li>2021</li></ol>\n"
      ],
      "text/latex": [
       "\\begin{enumerate*}\n",
       "\\item 2015\n",
       "\\item 2020\n",
       "\\item 2017\n",
       "\\item 2016\n",
       "\\item 2018\n",
       "\\item 2019\n",
       "\\item 2021\n",
       "\\end{enumerate*}\n"
      ],
      "text/markdown": [
       "1. 2015\n",
       "2. 2020\n",
       "3. 2017\n",
       "4. 2016\n",
       "5. 2018\n",
       "6. 2019\n",
       "7. 2021\n",
       "\n",
       "\n"
      ],
      "text/plain": [
       "[1] 2015 2020 2017 2016 2018 2019 2021"
      ]
     },
     "metadata": {},
     "output_type": "display_data"
    },
    {
     "data": {
      "text/plain": [
       "\n",
       " 2015  2016  2017  2018  2019  2020  2021 \n",
       "10094  8735  8549 12045 12664 12445 10923 "
      ]
     },
     "metadata": {},
     "output_type": "display_data"
    }
   ],
   "source": [
    "# Check admit years\n",
    "cohort1 <- cohort1 %>% mutate(admit_time = ymd_hms(admit_time_jittered), \n",
    "                              adm_year = year(admit_time),\n",
    "                              adm_month = month(admit_time))\n",
    "unique(cohort1$adm_year)\n",
    "table(cohort1$adm_year)\n",
    "# nrow(cohort1 %>% filter(adm_year==2021))"
   ]
  },
  {
   "cell_type": "code",
   "execution_count": 6,
   "metadata": {},
   "outputs": [
    {
     "data": {
      "text/html": [
       "47905"
      ],
      "text/latex": [
       "47905"
      ],
      "text/markdown": [
       "47905"
      ],
      "text/plain": [
       "[1] 47905"
      ]
     },
     "metadata": {},
     "output_type": "display_data"
    },
    {
     "data": {
      "text/html": [
       "75455"
      ],
      "text/latex": [
       "75455"
      ],
      "text/markdown": [
       "75455"
      ],
      "text/plain": [
       "[1] 75455"
      ]
     },
     "metadata": {},
     "output_type": "display_data"
    },
    {
     "data": {
      "text/html": [
       "75455"
      ],
      "text/latex": [
       "75455"
      ],
      "text/markdown": [
       "75455"
      ],
      "text/plain": [
       "[1] 75455"
      ]
     },
     "metadata": {},
     "output_type": "display_data"
    }
   ],
   "source": [
    "# 1 MRN (patient) can have multiple CSNs (visits/encounters)\n",
    "# but 1 CSN is associated with 1 MRN, for this cohort\n",
    "\n",
    "nrow(cohort1 %>% distinct(anon_id)) # \n",
    "nrow(cohort1 %>% distinct(pat_enc_csn_id_coded))\n",
    "nrow(cohort1 %>% distinct(anon_id, pat_enc_csn_id_coded))\n",
    "# nrow(cohort1 %>% group_by(anon_id, pat_enc_csn_id_coded, inpatient_data_id_coded) %>% unique()) # unique rows"
   ]
  },
  {
   "cell_type": "code",
   "execution_count": 8,
   "metadata": {},
   "outputs": [
    {
     "data": {
      "text/html": [
       "47905"
      ],
      "text/latex": [
       "47905"
      ],
      "text/markdown": [
       "47905"
      ],
      "text/plain": [
       "[1] 47905"
      ]
     },
     "metadata": {},
     "output_type": "display_data"
    },
    {
     "data": {
      "text/plain": [
       "   Min. 1st Qu.  Median    Mean 3rd Qu.    Max. \n",
       "  1.000   1.000   1.000   1.575   2.000  47.000 "
      ]
     },
     "metadata": {},
     "output_type": "display_data"
    },
    {
     "data": {
      "image/png": "[encoded data removed]",
      "text/plain": [
       "Plot with title “Histogram of cohort1_count[cohort1_count$csn > 1, ]$csn”"
      ]
     },
     "metadata": {
      "image/png": {
       "height": 420,
       "width": 420
      }
     },
     "output_type": "display_data"
    }
   ],
   "source": [
    "# count how many visits/csn each MRN (anon_id) has\n",
    "cohort1_count <- cohort1 %>% count(anon_id, sort = TRUE, name = 'csn')\n",
    "nrow(cohort1_count)\n",
    "summary(cohort1_count$csn)\n",
    "\n",
    "# display histogram of freq of patients who have more than 1 visit\n",
    "hist(cohort1_count[cohort1_count$csn >1, ]$csn, breaks=47, col=\"powderblue\")"
   ]
  },
  {
   "cell_type": "code",
   "execution_count": 9,
   "metadata": {},
   "outputs": [
    {
     "data": {
      "text/html": [
       "<table class=\"dataframe\">\n",
       "<caption>A data.frame: 6 × 2</caption>\n",
       "<thead>\n",
       "\t<tr><th></th><th scope=col>anon_id</th><th scope=col>csn</th></tr>\n",
       "\t<tr><th></th><th scope=col>&lt;chr&gt;</th><th scope=col>&lt;int&gt;</th></tr>\n",
       "</thead>\n",
       "<tbody>\n",
       "\t<tr><th scope=row>1</th><td>JC2456368</td><td>47</td></tr>\n",
       "\t<tr><th scope=row>2</th><td>JC1241340</td><td>44</td></tr>\n",
       "\t<tr><th scope=row>3</th><td>JC3252278</td><td>44</td></tr>\n",
       "\t<tr><th scope=row>4</th><td>JC648147 </td><td>40</td></tr>\n",
       "\t<tr><th scope=row>5</th><td>JC1093600</td><td>36</td></tr>\n",
       "\t<tr><th scope=row>6</th><td>JC1396494</td><td>34</td></tr>\n",
       "</tbody>\n",
       "</table>\n"
      ],
      "text/latex": [
       "A data.frame: 6 × 2\n",
       "\\begin{tabular}{r|ll}\n",
       "  & anon\\_id & csn\\\\\n",
       "  & <chr> & <int>\\\\\n",
       "\\hline\n",
       "\t1 & JC2456368 & 47\\\\\n",
       "\t2 & JC1241340 & 44\\\\\n",
       "\t3 & JC3252278 & 44\\\\\n",
       "\t4 & JC648147  & 40\\\\\n",
       "\t5 & JC1093600 & 36\\\\\n",
       "\t6 & JC1396494 & 34\\\\\n",
       "\\end{tabular}\n"
      ],
      "text/markdown": [
       "\n",
       "A data.frame: 6 × 2\n",
       "\n",
       "| <!--/--> | anon_id &lt;chr&gt; | csn &lt;int&gt; |\n",
       "|---|---|---|\n",
       "| 1 | JC2456368 | 47 |\n",
       "| 2 | JC1241340 | 44 |\n",
       "| 3 | JC3252278 | 44 |\n",
       "| 4 | JC648147  | 40 |\n",
       "| 5 | JC1093600 | 36 |\n",
       "| 6 | JC1396494 | 34 |\n",
       "\n"
      ],
      "text/plain": [
       "  anon_id   csn\n",
       "1 JC2456368 47 \n",
       "2 JC1241340 44 \n",
       "3 JC3252278 44 \n",
       "4 JC648147  40 \n",
       "5 JC1093600 36 \n",
       "6 JC1396494 34 "
      ]
     },
     "metadata": {},
     "output_type": "display_data"
    }
   ],
   "source": [
    "head(cohort1_count)"
   ]
  },
  {
   "cell_type": "markdown",
   "metadata": {},
   "source": [
    "### Encounter, hospital, inpatient IDs\n",
    "\n",
    "Errors on pat_csn (all NA if SQL is run here in R)\n",
    "\n",
    "Run `data_BQ/m1_encounter.sql`, output is `encounters.csv`\n",
    "\n",
    "* This table gives us the inpatient id and ESI level\n",
    "* Either Hospital encounter or empty (NA) type: only keep Hospital Encounter\n",
    "* All Visit type are NA, as this might be more applicable to outpatient encounters\n",
    "* Acuity levels are ESI with some missing (~2200)\n",
    "\n",
    "==> we can remove enc_type and visit_type\n",
    "* Hospital Admission time (such as ED arrival) is probably before the admit time (to inpatient) from order proc\n",
    "* Admit time from init cohort is effective_time_jittered_utc, same as Hospital admission time, all times are UTC"
   ]
  },
  {
   "cell_type": "raw",
   "metadata": {},
   "source": [
    "# this is done in 6_data_BQ.sql\n",
    "\n",
    "# m1_encounter.sql # problems running this in R: the pat_enc_csn turn to NA\n",
    "# Warning message in as.integer.integer64(x): “NAs produced by integer overflow” --> all csn become NA\n",
    "# query the encounter table from shc_core on BQ, takes too long on local computers\n",
    "\n",
    "q = \"\n",
    "SELECT c.*,\n",
    "    e.inpatient_data_id_coded, \n",
    "    e.enc_type, e.visit_type, e.acuity_level, e.ACUITY_LEVEL_C,\n",
    "    e.hosp_admsn_time_jittered_utc\n",
    "FROM \n",
    "    `som-nero-phi-jonc101.shc_core_2021.encounter` as e\n",
    "RIGHT JOIN \n",
    "    `som-nero-phi-jonc101.triageTD.6_1_cohort_validation` as c\n",
    "ON (c.anon_id=e.anon_id and c.pat_enc_csn_id_coded=e.pat_enc_csn_id_coded)\n",
    "ORDER BY\n",
    "  c.anon_id\n",
    "\"\n",
    "\n",
    "# submit the query:\n",
    "update.packages('Rcpp')\n",
    "\n",
    "df <- dbGetQuery(con, q)\n",
    "dim(df) # \n",
    "colnames(df)\n",
    "head(df, 3)"
   ]
  },
  {
   "cell_type": "raw",
   "metadata": {},
   "source": [
    "write.csv(df, file.path(datadir, \"encounters_2021_test.csv\"), row.names=FALSE)"
   ]
  },
  {
   "cell_type": "code",
   "execution_count": 66,
   "metadata": {},
   "outputs": [],
   "source": [
    "datadir = \"../../DataTD/shc2021\"\n",
    "outdir = \"../../OutputTD/shc2021\""
   ]
  },
  {
   "cell_type": "code",
   "execution_count": 42,
   "metadata": {},
   "outputs": [
    {
     "data": {
      "text/html": [
       "75455"
      ],
      "text/latex": [
       "75455"
      ],
      "text/markdown": [
       "75455"
      ],
      "text/plain": [
       "[1] 75455"
      ]
     },
     "metadata": {},
     "output_type": "display_data"
    }
   ],
   "source": [
    "# data from 04/2020 - 2021\n",
    "enc <- read.csv(file.path(datadir, \"encounters_2021.csv\"))\n",
    "nrow(enc)"
   ]
  },
  {
   "cell_type": "code",
   "execution_count": 43,
   "metadata": {},
   "outputs": [
    {
     "data": {
      "text/html": [
       "<table class=\"dataframe\">\n",
       "<caption>A data.frame: 0 × 10</caption>\n",
       "<thead>\n",
       "\t<tr><th scope=col>anon_id</th><th scope=col>pat_enc_csn_id_coded</th><th scope=col>admit_time_jittered</th><th scope=col>label</th><th scope=col>inpatient_data_id_coded</th><th scope=col>enc_type</th><th scope=col>visit_type</th><th scope=col>acuity_level</th><th scope=col>ACUITY_LEVEL_C</th><th scope=col>hosp_admsn_time_jittered_utc</th></tr>\n",
       "\t<tr><th scope=col>&lt;chr&gt;</th><th scope=col>&lt;dbl&gt;</th><th scope=col>&lt;chr&gt;</th><th scope=col>&lt;int&gt;</th><th scope=col>&lt;dbl&gt;</th><th scope=col>&lt;chr&gt;</th><th scope=col>&lt;lgl&gt;</th><th scope=col>&lt;chr&gt;</th><th scope=col>&lt;dbl&gt;</th><th scope=col>&lt;chr&gt;</th></tr>\n",
       "</thead>\n",
       "<tbody>\n",
       "</tbody>\n",
       "</table>\n"
      ],
      "text/latex": [
       "A data.frame: 0 × 10\n",
       "\\begin{tabular}{llllllllll}\n",
       " anon\\_id & pat\\_enc\\_csn\\_id\\_coded & admit\\_time\\_jittered & label & inpatient\\_data\\_id\\_coded & enc\\_type & visit\\_type & acuity\\_level & ACUITY\\_LEVEL\\_C & hosp\\_admsn\\_time\\_jittered\\_utc\\\\\n",
       " <chr> & <dbl> & <chr> & <int> & <dbl> & <chr> & <lgl> & <chr> & <dbl> & <chr>\\\\\n",
       "\\hline\n",
       "\\end{tabular}\n"
      ],
      "text/markdown": [
       "\n",
       "A data.frame: 0 × 10\n",
       "\n",
       "| anon_id &lt;chr&gt; | pat_enc_csn_id_coded &lt;dbl&gt; | admit_time_jittered &lt;chr&gt; | label &lt;int&gt; | inpatient_data_id_coded &lt;dbl&gt; | enc_type &lt;chr&gt; | visit_type &lt;lgl&gt; | acuity_level &lt;chr&gt; | ACUITY_LEVEL_C &lt;dbl&gt; | hosp_admsn_time_jittered_utc &lt;chr&gt; |\n",
       "|---|---|---|---|---|---|---|---|---|---|\n",
       "\n"
      ],
      "text/plain": [
       "     anon_id pat_enc_csn_id_coded admit_time_jittered label\n",
       "     inpatient_data_id_coded enc_type visit_type acuity_level ACUITY_LEVEL_C\n",
       "     hosp_admsn_time_jittered_utc"
      ]
     },
     "metadata": {},
     "output_type": "display_data"
    }
   ],
   "source": [
    "enc %>% filter(is.na(inpatient_data_id_coded))"
   ]
  },
  {
   "cell_type": "code",
   "execution_count": 44,
   "metadata": {},
   "outputs": [
    {
     "data": {
      "text/html": [
       "<table class=\"dataframe\">\n",
       "<caption>A data.frame: 10 × 2</caption>\n",
       "<thead>\n",
       "\t<tr><th scope=col>var</th><th scope=col>n</th></tr>\n",
       "\t<tr><th scope=col>&lt;chr&gt;</th><th scope=col>&lt;int&gt;</th></tr>\n",
       "</thead>\n",
       "<tbody>\n",
       "\t<tr><td>enc_type                    </td><td>    1</td></tr>\n",
       "\t<tr><td>visit_type                  </td><td>    1</td></tr>\n",
       "\t<tr><td>label                       </td><td>    2</td></tr>\n",
       "\t<tr><td>acuity_level                </td><td>    6</td></tr>\n",
       "\t<tr><td>ACUITY_LEVEL_C              </td><td>    6</td></tr>\n",
       "\t<tr><td>anon_id                     </td><td>47905</td></tr>\n",
       "\t<tr><td>hosp_admsn_time_jittered_utc</td><td>74395</td></tr>\n",
       "\t<tr><td>admit_time_jittered         </td><td>74419</td></tr>\n",
       "\t<tr><td>inpatient_data_id_coded     </td><td>75455</td></tr>\n",
       "\t<tr><td>pat_enc_csn_id_coded        </td><td>75455</td></tr>\n",
       "</tbody>\n",
       "</table>\n"
      ],
      "text/latex": [
       "A data.frame: 10 × 2\n",
       "\\begin{tabular}{ll}\n",
       " var & n\\\\\n",
       " <chr> & <int>\\\\\n",
       "\\hline\n",
       "\t enc\\_type                     &     1\\\\\n",
       "\t visit\\_type                   &     1\\\\\n",
       "\t label                        &     2\\\\\n",
       "\t acuity\\_level                 &     6\\\\\n",
       "\t ACUITY\\_LEVEL\\_C               &     6\\\\\n",
       "\t anon\\_id                      & 47905\\\\\n",
       "\t hosp\\_admsn\\_time\\_jittered\\_utc & 74395\\\\\n",
       "\t admit\\_time\\_jittered          & 74419\\\\\n",
       "\t inpatient\\_data\\_id\\_coded      & 75455\\\\\n",
       "\t pat\\_enc\\_csn\\_id\\_coded         & 75455\\\\\n",
       "\\end{tabular}\n"
      ],
      "text/markdown": [
       "\n",
       "A data.frame: 10 × 2\n",
       "\n",
       "| var &lt;chr&gt; | n &lt;int&gt; |\n",
       "|---|---|\n",
       "| enc_type                     |     1 |\n",
       "| visit_type                   |     1 |\n",
       "| label                        |     2 |\n",
       "| acuity_level                 |     6 |\n",
       "| ACUITY_LEVEL_C               |     6 |\n",
       "| anon_id                      | 47905 |\n",
       "| hosp_admsn_time_jittered_utc | 74395 |\n",
       "| admit_time_jittered          | 74419 |\n",
       "| inpatient_data_id_coded      | 75455 |\n",
       "| pat_enc_csn_id_coded         | 75455 |\n",
       "\n"
      ],
      "text/plain": [
       "   var                          n    \n",
       "1  enc_type                         1\n",
       "2  visit_type                       1\n",
       "3  label                            2\n",
       "4  acuity_level                     6\n",
       "5  ACUITY_LEVEL_C                   6\n",
       "6  anon_id                      47905\n",
       "7  hosp_admsn_time_jittered_utc 74395\n",
       "8  admit_time_jittered          74419\n",
       "9  inpatient_data_id_coded      75455\n",
       "10 pat_enc_csn_id_coded         75455"
      ]
     },
     "metadata": {},
     "output_type": "display_data"
    }
   ],
   "source": [
    "enc %>% gather(var, value) %>% distinct() %>% count(var) %>% arrange(n)"
   ]
  },
  {
   "cell_type": "code",
   "execution_count": 45,
   "metadata": {},
   "outputs": [
    {
     "data": {
      "text/plain": [
       " acuity_level         enc_type         visit_type    \n",
       " Length:75455       Length:75455       Mode:logical  \n",
       " Class :character   Class :character   NA's:75455    \n",
       " Mode  :character   Mode  :character                 "
      ]
     },
     "metadata": {},
     "output_type": "display_data"
    },
    {
     "data": {
      "text/plain": [
       "   Min. 1st Qu.  Median    Mean 3rd Qu.    Max.    NA's \n",
       "  1.000   2.000   3.000   2.611   3.000   5.000    2375 "
      ]
     },
     "metadata": {},
     "output_type": "display_data"
    },
    {
     "data": {
      "text/plain": [
       "$acuity_level\n",
       "\n",
       "                1-Resuscitation      2-Emergent        3-Urgent   4-Semi-Urgent \n",
       "           2375            1390           26309           44723             631 \n",
       "   5-Non-Urgent \n",
       "             27 \n",
       "\n",
       "$enc_type\n",
       "\n",
       "Hospital Encounter \n",
       "             75455 \n",
       "\n",
       "$visit_type\n",
       "< table of extent 0 >\n"
      ]
     },
     "metadata": {},
     "output_type": "display_data"
    }
   ],
   "source": [
    "summary(enc %>% select(acuity_level, enc_type, visit_type))\n",
    "summary(enc$ACUITY_LEVEL_C)\n",
    "\n",
    "# if summary doesn't display (not factor), use table\n",
    "apply(enc[c(\"acuity_level\", \"enc_type\", \"visit_type\")], 2, table)"
   ]
  },
  {
   "cell_type": "code",
   "execution_count": 46,
   "metadata": {},
   "outputs": [
    {
     "data": {
      "text/html": [
       "<table class=\"dataframe\">\n",
       "<caption>A grouped_df: 1 × 2</caption>\n",
       "<thead>\n",
       "\t<tr><th scope=col>enc_type</th><th scope=col>n</th></tr>\n",
       "\t<tr><th scope=col>&lt;chr&gt;</th><th scope=col>&lt;int&gt;</th></tr>\n",
       "</thead>\n",
       "<tbody>\n",
       "\t<tr><td>Hospital Encounter</td><td>75455</td></tr>\n",
       "</tbody>\n",
       "</table>\n"
      ],
      "text/latex": [
       "A grouped\\_df: 1 × 2\n",
       "\\begin{tabular}{ll}\n",
       " enc\\_type & n\\\\\n",
       " <chr> & <int>\\\\\n",
       "\\hline\n",
       "\t Hospital Encounter & 75455\\\\\n",
       "\\end{tabular}\n"
      ],
      "text/markdown": [
       "\n",
       "A grouped_df: 1 × 2\n",
       "\n",
       "| enc_type &lt;chr&gt; | n &lt;int&gt; |\n",
       "|---|---|\n",
       "| Hospital Encounter | 75455 |\n",
       "\n"
      ],
      "text/plain": [
       "  enc_type           n    \n",
       "1 Hospital Encounter 75455"
      ]
     },
     "metadata": {},
     "output_type": "display_data"
    },
    {
     "data": {
      "text/html": [
       "<table class=\"dataframe\">\n",
       "<caption>A grouped_df: 6 × 2</caption>\n",
       "<thead>\n",
       "\t<tr><th scope=col>acuity_level</th><th scope=col>n</th></tr>\n",
       "\t<tr><th scope=col>&lt;chr&gt;</th><th scope=col>&lt;int&gt;</th></tr>\n",
       "</thead>\n",
       "<tbody>\n",
       "\t<tr><td>               </td><td> 2375</td></tr>\n",
       "\t<tr><td>1-Resuscitation</td><td> 1390</td></tr>\n",
       "\t<tr><td>2-Emergent     </td><td>26309</td></tr>\n",
       "\t<tr><td>3-Urgent       </td><td>44723</td></tr>\n",
       "\t<tr><td>4-Semi-Urgent  </td><td>  631</td></tr>\n",
       "\t<tr><td>5-Non-Urgent   </td><td>   27</td></tr>\n",
       "</tbody>\n",
       "</table>\n"
      ],
      "text/latex": [
       "A grouped\\_df: 6 × 2\n",
       "\\begin{tabular}{ll}\n",
       " acuity\\_level & n\\\\\n",
       " <chr> & <int>\\\\\n",
       "\\hline\n",
       "\t                 &  2375\\\\\n",
       "\t 1-Resuscitation &  1390\\\\\n",
       "\t 2-Emergent      & 26309\\\\\n",
       "\t 3-Urgent        & 44723\\\\\n",
       "\t 4-Semi-Urgent   &   631\\\\\n",
       "\t 5-Non-Urgent    &    27\\\\\n",
       "\\end{tabular}\n"
      ],
      "text/markdown": [
       "\n",
       "A grouped_df: 6 × 2\n",
       "\n",
       "| acuity_level &lt;chr&gt; | n &lt;int&gt; |\n",
       "|---|---|\n",
       "| <!----> |  2375 |\n",
       "| 1-Resuscitation |  1390 |\n",
       "| 2-Emergent      | 26309 |\n",
       "| 3-Urgent        | 44723 |\n",
       "| 4-Semi-Urgent   |   631 |\n",
       "| 5-Non-Urgent    |    27 |\n",
       "\n"
      ],
      "text/plain": [
       "  acuity_level    n    \n",
       "1                  2375\n",
       "2 1-Resuscitation  1390\n",
       "3 2-Emergent      26309\n",
       "4 3-Urgent        44723\n",
       "5 4-Semi-Urgent     631\n",
       "6 5-Non-Urgent       27"
      ]
     },
     "metadata": {},
     "output_type": "display_data"
    },
    {
     "data": {
      "text/html": [
       "<table class=\"dataframe\">\n",
       "<caption>A grouped_df: 6 × 3</caption>\n",
       "<thead>\n",
       "\t<tr><th scope=col>ACUITY_LEVEL_C</th><th scope=col>acuity_level</th><th scope=col>n</th></tr>\n",
       "\t<tr><th scope=col>&lt;dbl&gt;</th><th scope=col>&lt;chr&gt;</th><th scope=col>&lt;int&gt;</th></tr>\n",
       "</thead>\n",
       "<tbody>\n",
       "\t<tr><td> 1</td><td>1-Resuscitation</td><td> 1390</td></tr>\n",
       "\t<tr><td> 2</td><td>2-Emergent     </td><td>26309</td></tr>\n",
       "\t<tr><td> 3</td><td>3-Urgent       </td><td>44723</td></tr>\n",
       "\t<tr><td> 4</td><td>4-Semi-Urgent  </td><td>  631</td></tr>\n",
       "\t<tr><td> 5</td><td>5-Non-Urgent   </td><td>   27</td></tr>\n",
       "\t<tr><td>NA</td><td>               </td><td> 2375</td></tr>\n",
       "</tbody>\n",
       "</table>\n"
      ],
      "text/latex": [
       "A grouped\\_df: 6 × 3\n",
       "\\begin{tabular}{lll}\n",
       " ACUITY\\_LEVEL\\_C & acuity\\_level & n\\\\\n",
       " <dbl> & <chr> & <int>\\\\\n",
       "\\hline\n",
       "\t  1 & 1-Resuscitation &  1390\\\\\n",
       "\t  2 & 2-Emergent      & 26309\\\\\n",
       "\t  3 & 3-Urgent        & 44723\\\\\n",
       "\t  4 & 4-Semi-Urgent   &   631\\\\\n",
       "\t  5 & 5-Non-Urgent    &    27\\\\\n",
       "\t NA &                 &  2375\\\\\n",
       "\\end{tabular}\n"
      ],
      "text/markdown": [
       "\n",
       "A grouped_df: 6 × 3\n",
       "\n",
       "| ACUITY_LEVEL_C &lt;dbl&gt; | acuity_level &lt;chr&gt; | n &lt;int&gt; |\n",
       "|---|---|---|\n",
       "|  1 | 1-Resuscitation |  1390 |\n",
       "|  2 | 2-Emergent      | 26309 |\n",
       "|  3 | 3-Urgent        | 44723 |\n",
       "|  4 | 4-Semi-Urgent   |   631 |\n",
       "|  5 | 5-Non-Urgent    |    27 |\n",
       "| NA | <!----> |  2375 |\n",
       "\n"
      ],
      "text/plain": [
       "  ACUITY_LEVEL_C acuity_level    n    \n",
       "1  1             1-Resuscitation  1390\n",
       "2  2             2-Emergent      26309\n",
       "3  3             3-Urgent        44723\n",
       "4  4             4-Semi-Urgent     631\n",
       "5  5             5-Non-Urgent       27\n",
       "6 NA                              2375"
      ]
     },
     "metadata": {},
     "output_type": "display_data"
    }
   ],
   "source": [
    "# tables\n",
    "enc %>% group_by(enc_type) %>% count()\n",
    "enc %>% group_by(acuity_level) %>% count() # 3.14 % missing\n",
    "enc %>% group_by(ACUITY_LEVEL_C, acuity_level) %>% count()"
   ]
  },
  {
   "cell_type": "code",
   "execution_count": 47,
   "metadata": {},
   "outputs": [
    {
     "data": {
      "text/html": [
       "<table class=\"dataframe\">\n",
       "<caption>A data.frame: 1 × 10</caption>\n",
       "<thead>\n",
       "\t<tr><th></th><th scope=col>anon_id</th><th scope=col>pat_enc_csn_id_coded</th><th scope=col>admit_time_jittered</th><th scope=col>label</th><th scope=col>inpatient_data_id_coded</th><th scope=col>enc_type</th><th scope=col>visit_type</th><th scope=col>acuity_level</th><th scope=col>ACUITY_LEVEL_C</th><th scope=col>hosp_admsn_time_jittered_utc</th></tr>\n",
       "\t<tr><th></th><th scope=col>&lt;chr&gt;</th><th scope=col>&lt;dbl&gt;</th><th scope=col>&lt;chr&gt;</th><th scope=col>&lt;int&gt;</th><th scope=col>&lt;dbl&gt;</th><th scope=col>&lt;chr&gt;</th><th scope=col>&lt;lgl&gt;</th><th scope=col>&lt;chr&gt;</th><th scope=col>&lt;dbl&gt;</th><th scope=col>&lt;chr&gt;</th></tr>\n",
       "</thead>\n",
       "<tbody>\n",
       "\t<tr><th scope=row>1</th><td>JC1000116</td><td>131066472308</td><td>2015-01-28 00:46:00+00:00</td><td>0</td><td>19328596</td><td>Hospital Encounter</td><td>NA</td><td>3-Urgent</td><td>3</td><td>2015-01-27 04:24:00+00:00</td></tr>\n",
       "</tbody>\n",
       "</table>\n"
      ],
      "text/latex": [
       "A data.frame: 1 × 10\n",
       "\\begin{tabular}{r|llllllllll}\n",
       "  & anon\\_id & pat\\_enc\\_csn\\_id\\_coded & admit\\_time\\_jittered & label & inpatient\\_data\\_id\\_coded & enc\\_type & visit\\_type & acuity\\_level & ACUITY\\_LEVEL\\_C & hosp\\_admsn\\_time\\_jittered\\_utc\\\\\n",
       "  & <chr> & <dbl> & <chr> & <int> & <dbl> & <chr> & <lgl> & <chr> & <dbl> & <chr>\\\\\n",
       "\\hline\n",
       "\t1 & JC1000116 & 131066472308 & 2015-01-28 00:46:00+00:00 & 0 & 19328596 & Hospital Encounter & NA & 3-Urgent & 3 & 2015-01-27 04:24:00+00:00\\\\\n",
       "\\end{tabular}\n"
      ],
      "text/markdown": [
       "\n",
       "A data.frame: 1 × 10\n",
       "\n",
       "| <!--/--> | anon_id &lt;chr&gt; | pat_enc_csn_id_coded &lt;dbl&gt; | admit_time_jittered &lt;chr&gt; | label &lt;int&gt; | inpatient_data_id_coded &lt;dbl&gt; | enc_type &lt;chr&gt; | visit_type &lt;lgl&gt; | acuity_level &lt;chr&gt; | ACUITY_LEVEL_C &lt;dbl&gt; | hosp_admsn_time_jittered_utc &lt;chr&gt; |\n",
       "|---|---|---|---|---|---|---|---|---|---|---|\n",
       "| 1 | JC1000116 | 131066472308 | 2015-01-28 00:46:00+00:00 | 0 | 19328596 | Hospital Encounter | NA | 3-Urgent | 3 | 2015-01-27 04:24:00+00:00 |\n",
       "\n"
      ],
      "text/plain": [
       "  anon_id   pat_enc_csn_id_coded admit_time_jittered       label\n",
       "1 JC1000116 131066472308         2015-01-28 00:46:00+00:00 0    \n",
       "  inpatient_data_id_coded enc_type           visit_type acuity_level\n",
       "1 19328596                Hospital Encounter NA         3-Urgent    \n",
       "  ACUITY_LEVEL_C hosp_admsn_time_jittered_utc\n",
       "1 3              2015-01-27 04:24:00+00:00   "
      ]
     },
     "metadata": {},
     "output_type": "display_data"
    },
    {
     "data": {
      "text/html": [
       "<table class=\"dataframe\">\n",
       "<caption>A data.frame: 1 × 7</caption>\n",
       "<thead>\n",
       "\t<tr><th></th><th scope=col>anon_id</th><th scope=col>pat_enc_csn_id_coded</th><th scope=col>admit_time_jittered</th><th scope=col>label</th><th scope=col>admit_time</th><th scope=col>adm_year</th><th scope=col>adm_month</th></tr>\n",
       "\t<tr><th></th><th scope=col>&lt;chr&gt;</th><th scope=col>&lt;dbl&gt;</th><th scope=col>&lt;chr&gt;</th><th scope=col>&lt;int&gt;</th><th scope=col>&lt;dttm&gt;</th><th scope=col>&lt;dbl&gt;</th><th scope=col>&lt;dbl&gt;</th></tr>\n",
       "</thead>\n",
       "<tbody>\n",
       "\t<tr><th scope=row>1</th><td>JC1000116</td><td>131066472308</td><td>2015-01-28 00:46:00+00:00</td><td>0</td><td>2015-01-28 00:46:00</td><td>2015</td><td>1</td></tr>\n",
       "</tbody>\n",
       "</table>\n"
      ],
      "text/latex": [
       "A data.frame: 1 × 7\n",
       "\\begin{tabular}{r|lllllll}\n",
       "  & anon\\_id & pat\\_enc\\_csn\\_id\\_coded & admit\\_time\\_jittered & label & admit\\_time & adm\\_year & adm\\_month\\\\\n",
       "  & <chr> & <dbl> & <chr> & <int> & <dttm> & <dbl> & <dbl>\\\\\n",
       "\\hline\n",
       "\t1 & JC1000116 & 131066472308 & 2015-01-28 00:46:00+00:00 & 0 & 2015-01-28 00:46:00 & 2015 & 1\\\\\n",
       "\\end{tabular}\n"
      ],
      "text/markdown": [
       "\n",
       "A data.frame: 1 × 7\n",
       "\n",
       "| <!--/--> | anon_id &lt;chr&gt; | pat_enc_csn_id_coded &lt;dbl&gt; | admit_time_jittered &lt;chr&gt; | label &lt;int&gt; | admit_time &lt;dttm&gt; | adm_year &lt;dbl&gt; | adm_month &lt;dbl&gt; |\n",
       "|---|---|---|---|---|---|---|---|\n",
       "| 1 | JC1000116 | 131066472308 | 2015-01-28 00:46:00+00:00 | 0 | 2015-01-28 00:46:00 | 2015 | 1 |\n",
       "\n"
      ],
      "text/plain": [
       "  anon_id   pat_enc_csn_id_coded admit_time_jittered       label\n",
       "1 JC1000116 131066472308         2015-01-28 00:46:00+00:00 0    \n",
       "  admit_time          adm_year adm_month\n",
       "1 2015-01-28 00:46:00 2015     1        "
      ]
     },
     "metadata": {},
     "output_type": "display_data"
    }
   ],
   "source": [
    "head(enc, 1)\n",
    "head(cohort1, 1)"
   ]
  },
  {
   "cell_type": "code",
   "execution_count": 48,
   "metadata": {},
   "outputs": [
    {
     "name": "stderr",
     "output_type": "stream",
     "text": [
      "Joining, by = c(\"anon_id\", \"pat_enc_csn_id_coded\")\n",
      "\n"
     ]
    },
    {
     "data": {
      "text/html": [
       "75455"
      ],
      "text/latex": [
       "75455"
      ],
      "text/markdown": [
       "75455"
      ],
      "text/plain": [
       "[1] 75455"
      ]
     },
     "metadata": {},
     "output_type": "display_data"
    },
    {
     "data": {
      "text/plain": [
       "   Min. 1st Qu.  Median    Mean 3rd Qu.    Max. \n",
       "  0.000   2.267   3.467   4.576   5.183 190.433 "
      ]
     },
     "metadata": {},
     "output_type": "display_data"
    },
    {
     "data": {
      "image/png": "[encoded data removed]",
      "text/plain": [
       "Plot with title “Histogram of cohort_enc$ed_time_hr”"
      ]
     },
     "metadata": {
      "image/png": {
       "height": 420,
       "width": 420
      }
     },
     "output_type": "display_data"
    }
   ],
   "source": [
    "# join the encounter table with cohort table to get the inpatient data id coded\n",
    "# removed those empty encounter type (18), only Hospital Encounter left\n",
    "enc <- enc %>% filter(enc_type == \"Hospital Encounter\") %>%\n",
    "                select(anon_id, pat_enc_csn_id_coded, inpatient_data_id_coded, \n",
    "                       ESI = ACUITY_LEVEL_C, hosp_admsn_time = hosp_admsn_time_jittered_utc) %>% \n",
    "                mutate(hosp_admsn_time = ymd_hms(hosp_admsn_time))\n",
    "\n",
    "cohort_enc <- inner_join(cohort1, enc) %>% \n",
    "            mutate(ed_time_hr = as.numeric(difftime(admit_time, hosp_admsn_time, units =\"hours\")))\n",
    "\n",
    "nrow(cohort_enc)\n",
    "summary(cohort_enc$ed_time_hr)\n",
    "hist(cohort_enc$ed_time_hr, xlim=c(0, 20), breaks=300, col=\"blue\")"
   ]
  },
  {
   "cell_type": "markdown",
   "metadata": {},
   "source": [
    "### Code status\n",
    "\n",
    "* Process code status: keep patients whose code status is Full prior to admission or within 24 hour after admission. Otherwise interventions might not match with presentations.\n",
    "* In other words: remove patients whose have a code status not FULL, anytime before admission or within 24 hour after admission \n",
    "* Note that in the display_name, some codes are blank but they are converted to something in description --> use description"
   ]
  },
  {
   "cell_type": "raw",
   "metadata": {},
   "source": [
    "# m2_codestatus.sql\n",
    "\n",
    "q = \"\n",
    "SELECT c.*,\n",
    "    o.order_type, o.order_status, o.display_name, o.description, \n",
    "    o.order_time_jittered_utc\n",
    "FROM \n",
    "    `som-nero-phi-jonc101.shc_core_2021.order_proc` as o\n",
    "JOIN \n",
    "    `som-nero-phi-jonc101.triageTD.6_1_cohort_validation` as c\n",
    "ON (c.anon_id=o.anon_id and c.pat_enc_csn_id_coded=o.pat_enc_csn_id_coded)\n",
    "WHERE o.order_type = \"Code Status\"\n",
    "ORDER BY\n",
    "  c.anon_id\n",
    "\"\n",
    "\n",
    "# submit the query:\n",
    "update.packages('Rcpp')\n",
    "df <- dbGetQuery(con, q)\n",
    "dim(df)\n",
    "colnames(df)\n",
    "head(df, 3)"
   ]
  },
  {
   "cell_type": "code",
   "execution_count": 49,
   "metadata": {},
   "outputs": [
    {
     "data": {
      "text/html": [
       "233249"
      ],
      "text/latex": [
       "233249"
      ],
      "text/markdown": [
       "233249"
      ],
      "text/plain": [
       "[1] 233249"
      ]
     },
     "metadata": {},
     "output_type": "display_data"
    },
    {
     "data": {
      "text/plain": [
       " order_status       display_name       description       \n",
       " Length:233249      Length:233249      Length:233249     \n",
       " Class :character   Class :character   Class :character  \n",
       " Mode  :character   Mode  :character   Mode  :character  "
      ]
     },
     "metadata": {},
     "output_type": "display_data"
    },
    {
     "data": {
      "text/plain": [
       "$order_status\n",
       "\n",
       "         Canceled     Sent \n",
       "      29   233191       29 \n",
       "\n",
       "$display_name\n",
       "\n",
       "           DNR/C DNR/Comfort Care          DNR/DNE          DNR/DNI \n",
       "              38             9834             7207            37146 \n",
       "       Full code        Full Code     Partial code     Partial Code \n",
       "             718           169991                7             8308 \n",
       "\n",
       "$description\n",
       "\n",
       "           DNR/C DNR/COMFORT CARE          DNR/DNE          DNR/DNI \n",
       "              38             9834             7207            37146 \n",
       "       FULL CODE     PARTIAL CODE \n",
       "          170709             8315 \n"
      ]
     },
     "metadata": {},
     "output_type": "display_data"
    }
   ],
   "source": [
    "# codestatus.csv is from querying code status order from order_proc\n",
    "code <- read.csv(file.path(datadir, \"code_status_2021.csv\")) \n",
    "nrow(code) #\n",
    "summary(code %>% select(order_status, display_name, description))\n",
    "\n",
    "# if summary doesn't display (not factor), use table\n",
    "apply(code[c(\"order_status\", \"display_name\", \"description\")], 2, table)"
   ]
  },
  {
   "cell_type": "code",
   "execution_count": 50,
   "metadata": {},
   "outputs": [
    {
     "data": {
      "text/html": [
       "<table class=\"dataframe\">\n",
       "<caption>A grouped_df: 3 × 2</caption>\n",
       "<thead>\n",
       "\t<tr><th scope=col>order_status</th><th scope=col>n</th></tr>\n",
       "\t<tr><th scope=col>&lt;chr&gt;</th><th scope=col>&lt;int&gt;</th></tr>\n",
       "</thead>\n",
       "<tbody>\n",
       "\t<tr><td>        </td><td>    29</td></tr>\n",
       "\t<tr><td>Canceled</td><td>233191</td></tr>\n",
       "\t<tr><td>Sent    </td><td>    29</td></tr>\n",
       "</tbody>\n",
       "</table>\n"
      ],
      "text/latex": [
       "A grouped\\_df: 3 × 2\n",
       "\\begin{tabular}{ll}\n",
       " order\\_status & n\\\\\n",
       " <chr> & <int>\\\\\n",
       "\\hline\n",
       "\t          &     29\\\\\n",
       "\t Canceled & 233191\\\\\n",
       "\t Sent     &     29\\\\\n",
       "\\end{tabular}\n"
      ],
      "text/markdown": [
       "\n",
       "A grouped_df: 3 × 2\n",
       "\n",
       "| order_status &lt;chr&gt; | n &lt;int&gt; |\n",
       "|---|---|\n",
       "| <!----> |     29 |\n",
       "| Canceled | 233191 |\n",
       "| Sent     |     29 |\n",
       "\n"
      ],
      "text/plain": [
       "  order_status n     \n",
       "1                  29\n",
       "2 Canceled     233191\n",
       "3 Sent             29"
      ]
     },
     "metadata": {},
     "output_type": "display_data"
    },
    {
     "data": {
      "text/html": [
       "<table class=\"dataframe\">\n",
       "<caption>A grouped_df: 8 × 2</caption>\n",
       "<thead>\n",
       "\t<tr><th scope=col>display_name</th><th scope=col>n</th></tr>\n",
       "\t<tr><th scope=col>&lt;chr&gt;</th><th scope=col>&lt;int&gt;</th></tr>\n",
       "</thead>\n",
       "<tbody>\n",
       "\t<tr><td>DNR/C           </td><td>    38</td></tr>\n",
       "\t<tr><td>DNR/Comfort Care</td><td>  9834</td></tr>\n",
       "\t<tr><td>DNR/DNE         </td><td>  7207</td></tr>\n",
       "\t<tr><td>DNR/DNI         </td><td> 37146</td></tr>\n",
       "\t<tr><td>Full code       </td><td>   718</td></tr>\n",
       "\t<tr><td>Full Code       </td><td>169991</td></tr>\n",
       "\t<tr><td>Partial code    </td><td>     7</td></tr>\n",
       "\t<tr><td>Partial Code    </td><td>  8308</td></tr>\n",
       "</tbody>\n",
       "</table>\n"
      ],
      "text/latex": [
       "A grouped\\_df: 8 × 2\n",
       "\\begin{tabular}{ll}\n",
       " display\\_name & n\\\\\n",
       " <chr> & <int>\\\\\n",
       "\\hline\n",
       "\t DNR/C            &     38\\\\\n",
       "\t DNR/Comfort Care &   9834\\\\\n",
       "\t DNR/DNE          &   7207\\\\\n",
       "\t DNR/DNI          &  37146\\\\\n",
       "\t Full code        &    718\\\\\n",
       "\t Full Code        & 169991\\\\\n",
       "\t Partial code     &      7\\\\\n",
       "\t Partial Code     &   8308\\\\\n",
       "\\end{tabular}\n"
      ],
      "text/markdown": [
       "\n",
       "A grouped_df: 8 × 2\n",
       "\n",
       "| display_name &lt;chr&gt; | n &lt;int&gt; |\n",
       "|---|---|\n",
       "| DNR/C            |     38 |\n",
       "| DNR/Comfort Care |   9834 |\n",
       "| DNR/DNE          |   7207 |\n",
       "| DNR/DNI          |  37146 |\n",
       "| Full code        |    718 |\n",
       "| Full Code        | 169991 |\n",
       "| Partial code     |      7 |\n",
       "| Partial Code     |   8308 |\n",
       "\n"
      ],
      "text/plain": [
       "  display_name     n     \n",
       "1 DNR/C                38\n",
       "2 DNR/Comfort Care   9834\n",
       "3 DNR/DNE            7207\n",
       "4 DNR/DNI           37146\n",
       "5 Full code           718\n",
       "6 Full Code        169991\n",
       "7 Partial code          7\n",
       "8 Partial Code       8308"
      ]
     },
     "metadata": {},
     "output_type": "display_data"
    },
    {
     "data": {
      "text/html": [
       "<table class=\"dataframe\">\n",
       "<caption>A grouped_df: 6 × 2</caption>\n",
       "<thead>\n",
       "\t<tr><th scope=col>description</th><th scope=col>n</th></tr>\n",
       "\t<tr><th scope=col>&lt;chr&gt;</th><th scope=col>&lt;int&gt;</th></tr>\n",
       "</thead>\n",
       "<tbody>\n",
       "\t<tr><td>DNR/C           </td><td>    38</td></tr>\n",
       "\t<tr><td>DNR/COMFORT CARE</td><td>  9834</td></tr>\n",
       "\t<tr><td>DNR/DNE         </td><td>  7207</td></tr>\n",
       "\t<tr><td>DNR/DNI         </td><td> 37146</td></tr>\n",
       "\t<tr><td>FULL CODE       </td><td>170709</td></tr>\n",
       "\t<tr><td>PARTIAL CODE    </td><td>  8315</td></tr>\n",
       "</tbody>\n",
       "</table>\n"
      ],
      "text/latex": [
       "A grouped\\_df: 6 × 2\n",
       "\\begin{tabular}{ll}\n",
       " description & n\\\\\n",
       " <chr> & <int>\\\\\n",
       "\\hline\n",
       "\t DNR/C            &     38\\\\\n",
       "\t DNR/COMFORT CARE &   9834\\\\\n",
       "\t DNR/DNE          &   7207\\\\\n",
       "\t DNR/DNI          &  37146\\\\\n",
       "\t FULL CODE        & 170709\\\\\n",
       "\t PARTIAL CODE     &   8315\\\\\n",
       "\\end{tabular}\n"
      ],
      "text/markdown": [
       "\n",
       "A grouped_df: 6 × 2\n",
       "\n",
       "| description &lt;chr&gt; | n &lt;int&gt; |\n",
       "|---|---|\n",
       "| DNR/C            |     38 |\n",
       "| DNR/COMFORT CARE |   9834 |\n",
       "| DNR/DNE          |   7207 |\n",
       "| DNR/DNI          |  37146 |\n",
       "| FULL CODE        | 170709 |\n",
       "| PARTIAL CODE     |   8315 |\n",
       "\n"
      ],
      "text/plain": [
       "  description      n     \n",
       "1 DNR/C                38\n",
       "2 DNR/COMFORT CARE   9834\n",
       "3 DNR/DNE            7207\n",
       "4 DNR/DNI           37146\n",
       "5 FULL CODE        170709\n",
       "6 PARTIAL CODE       8315"
      ]
     },
     "metadata": {},
     "output_type": "display_data"
    }
   ],
   "source": [
    "# tables\n",
    "code %>% group_by(order_status) %>% count()\n",
    "code %>% group_by(display_name) %>% count()\n",
    "code %>% group_by(description) %>% count()"
   ]
  },
  {
   "cell_type": "code",
   "execution_count": 51,
   "metadata": {},
   "outputs": [
    {
     "data": {
      "text/html": [
       "<table class=\"dataframe\">\n",
       "<caption>A data.frame: 1 × 9</caption>\n",
       "<thead>\n",
       "\t<tr><th></th><th scope=col>anon_id</th><th scope=col>pat_enc_csn_id_coded</th><th scope=col>admit_time_jittered</th><th scope=col>label</th><th scope=col>order_type</th><th scope=col>order_status</th><th scope=col>display_name</th><th scope=col>description</th><th scope=col>order_time_jittered_utc</th></tr>\n",
       "\t<tr><th></th><th scope=col>&lt;chr&gt;</th><th scope=col>&lt;dbl&gt;</th><th scope=col>&lt;chr&gt;</th><th scope=col>&lt;int&gt;</th><th scope=col>&lt;chr&gt;</th><th scope=col>&lt;chr&gt;</th><th scope=col>&lt;chr&gt;</th><th scope=col>&lt;chr&gt;</th><th scope=col>&lt;chr&gt;</th></tr>\n",
       "</thead>\n",
       "<tbody>\n",
       "\t<tr><th scope=row>1</th><td>JC1000116</td><td>131066472308</td><td>2015-01-28 00:46:00+00:00</td><td>0</td><td>Code Status</td><td>Canceled</td><td>Full Code</td><td>FULL CODE</td><td>2015-01-27 10:26:00+00:00</td></tr>\n",
       "</tbody>\n",
       "</table>\n"
      ],
      "text/latex": [
       "A data.frame: 1 × 9\n",
       "\\begin{tabular}{r|lllllllll}\n",
       "  & anon\\_id & pat\\_enc\\_csn\\_id\\_coded & admit\\_time\\_jittered & label & order\\_type & order\\_status & display\\_name & description & order\\_time\\_jittered\\_utc\\\\\n",
       "  & <chr> & <dbl> & <chr> & <int> & <chr> & <chr> & <chr> & <chr> & <chr>\\\\\n",
       "\\hline\n",
       "\t1 & JC1000116 & 131066472308 & 2015-01-28 00:46:00+00:00 & 0 & Code Status & Canceled & Full Code & FULL CODE & 2015-01-27 10:26:00+00:00\\\\\n",
       "\\end{tabular}\n"
      ],
      "text/markdown": [
       "\n",
       "A data.frame: 1 × 9\n",
       "\n",
       "| <!--/--> | anon_id &lt;chr&gt; | pat_enc_csn_id_coded &lt;dbl&gt; | admit_time_jittered &lt;chr&gt; | label &lt;int&gt; | order_type &lt;chr&gt; | order_status &lt;chr&gt; | display_name &lt;chr&gt; | description &lt;chr&gt; | order_time_jittered_utc &lt;chr&gt; |\n",
       "|---|---|---|---|---|---|---|---|---|---|\n",
       "| 1 | JC1000116 | 131066472308 | 2015-01-28 00:46:00+00:00 | 0 | Code Status | Canceled | Full Code | FULL CODE | 2015-01-27 10:26:00+00:00 |\n",
       "\n"
      ],
      "text/plain": [
       "  anon_id   pat_enc_csn_id_coded admit_time_jittered       label order_type \n",
       "1 JC1000116 131066472308         2015-01-28 00:46:00+00:00 0     Code Status\n",
       "  order_status display_name description order_time_jittered_utc  \n",
       "1 Canceled     Full Code    FULL CODE   2015-01-27 10:26:00+00:00"
      ]
     },
     "metadata": {},
     "output_type": "display_data"
    }
   ],
   "source": [
    "head(code, n=1) "
   ]
  },
  {
   "cell_type": "code",
   "execution_count": 52,
   "metadata": {},
   "outputs": [
    {
     "data": {
      "text/html": [
       "113155"
      ],
      "text/latex": [
       "113155"
      ],
      "text/markdown": [
       "113155"
      ],
      "text/plain": [
       "[1] 113155"
      ]
     },
     "metadata": {},
     "output_type": "display_data"
    },
    {
     "data": {
      "text/plain": [
       "   anon_id          pat_enc_csn_id_coded           description   \n",
       " Length:113155      Min.   :1.311e+11    DNR/C           :   21  \n",
       " Class :character   1st Qu.:1.312e+11    DNR/COMFORT CARE: 5061  \n",
       " Mode  :character   Median :1.313e+11    DNR/DNE         : 3636  \n",
       "                    Mean   :1.312e+11    DNR/DNI         :18481  \n",
       "                    3rd Qu.:1.313e+11    FULL CODE       :82052  \n",
       "                    Max.   :1.313e+11    PARTIAL CODE    : 3904  \n",
       "   order_time                 \n",
       " Min.   :2015-01-01 03:58:00  \n",
       " 1st Qu.:2016-12-30 18:38:00  \n",
       " Median :2018-11-19 10:58:00  \n",
       " Mean   :2018-09-02 13:00:46  \n",
       " 3rd Qu.:2020-05-16 02:00:30  \n",
       " Max.   :2021-09-30 07:00:00  "
      ]
     },
     "metadata": {},
     "output_type": "display_data"
    }
   ],
   "source": [
    "code <- code %>% select(anon_id, pat_enc_csn_id_coded, description, order_time = order_time_jittered_utc) %>% \n",
    "                    mutate(order_time = ymd_hms(order_time),\n",
    "                           description = factor(description)) %>% distinct() \n",
    "nrow(code) \n",
    "summary(code) "
   ]
  },
  {
   "cell_type": "code",
   "execution_count": 53,
   "metadata": {},
   "outputs": [
    {
     "name": "stderr",
     "output_type": "stream",
     "text": [
      "Joining, by = c(\"anon_id\", \"pat_enc_csn_id_coded\")\n",
      "\n"
     ]
    },
    {
     "data": {
      "text/html": [
       "120388"
      ],
      "text/latex": [
       "120388"
      ],
      "text/markdown": [
       "120388"
      ],
      "text/plain": [
       "[1] 120388"
      ]
     },
     "metadata": {},
     "output_type": "display_data"
    },
    {
     "data": {
      "text/html": [
       "75455"
      ],
      "text/latex": [
       "75455"
      ],
      "text/markdown": [
       "75455"
      ],
      "text/plain": [
       "[1] 75455"
      ]
     },
     "metadata": {},
     "output_type": "display_data"
    }
   ],
   "source": [
    "# calculate the difference btwn admit time and code status order time\n",
    "code <- left_join(cohort_enc, code) %>% \n",
    "            mutate(code_diff_hr = as.numeric(difftime(order_time, admit_time, units = 'hours')))\n",
    "\n",
    "nrow(code %>% group_by(anon_id, pat_enc_csn_id_coded) %>% unique()) # \n",
    "nrow(code %>% select(anon_id, pat_enc_csn_id_coded) %>% group_by(anon_id, pat_enc_csn_id_coded) %>% unique()) #"
   ]
  },
  {
   "cell_type": "code",
   "execution_count": 54,
   "metadata": {},
   "outputs": [
    {
     "data": {
      "text/plain": [
       "    Min.  1st Qu.   Median     Mean  3rd Qu.     Max.     NA's \n",
       " -71.267    1.250    2.683   51.124   35.567 8922.567     7233 "
      ]
     },
     "metadata": {},
     "output_type": "display_data"
    },
    {
     "data": {
      "image/png": "[encoded data removed]",
      "text/plain": [
       "Plot with title “Histogram of code$code_diff_hr”"
      ]
     },
     "metadata": {
      "image/png": {
       "height": 420,
       "width": 420
      }
     },
     "output_type": "display_data"
    }
   ],
   "source": [
    "# code order time is prior to or within 24 hours after admission, time diff in hours (code time - admit time)\n",
    "summary(code$code_diff_hr)\n",
    "hist(code$code_diff_hr,  xlim=c(-80, 48), breaks=720, col=\"steelblue\")"
   ]
  },
  {
   "cell_type": "code",
   "execution_count": 55,
   "metadata": {},
   "outputs": [
    {
     "data": {
      "text/html": [
       "31103"
      ],
      "text/latex": [
       "31103"
      ],
      "text/markdown": [
       "31103"
      ],
      "text/plain": [
       "[1] 31103"
      ]
     },
     "metadata": {},
     "output_type": "display_data"
    },
    {
     "data": {
      "text/html": [
       "13323"
      ],
      "text/latex": [
       "13323"
      ],
      "text/markdown": [
       "13323"
      ],
      "text/plain": [
       "[1] 13323"
      ]
     },
     "metadata": {},
     "output_type": "display_data"
    },
    {
     "data": {
      "text/html": [
       "12188"
      ],
      "text/latex": [
       "12188"
      ],
      "text/markdown": [
       "12188"
      ],
      "text/plain": [
       "[1] 12188"
      ]
     },
     "metadata": {},
     "output_type": "display_data"
    }
   ],
   "source": [
    "# number of patients whose code status are either full or na (if exists, consider na = FULL) \n",
    "nrow(filter(code, description != \"FULL CODE\" & !is.na(description))) # to be removed\n",
    "\n",
    "# cohort of patients whose code status before admission or 24 hour after admission is not FULL CODE\n",
    "code_notfull <- code %>% \n",
    "                filter(code_diff_hr <=24 & description != \"FULL CODE\" & !is.na(description)) %>% \n",
    "                select(anon_id, pat_enc_csn_id_coded, inpatient_data_id_coded, admit_time, description) %>%\n",
    "                distinct()\n",
    "\n",
    "# number of patients whose code status is not full 24\n",
    "nrow(code_notfull) # 13323\n",
    "nrow(code_notfull %>% select(anon_id, pat_enc_csn_id_coded) %>% distinct()) # 9022"
   ]
  },
  {
   "cell_type": "code",
   "execution_count": 56,
   "metadata": {},
   "outputs": [
    {
     "name": "stderr",
     "output_type": "stream",
     "text": [
      "Joining, by = c(\"anon_id\", \"pat_enc_csn_id_coded\", \"admit_time\", \"inpatient_data_id_coded\")\n",
      "\n"
     ]
    },
    {
     "data": {
      "text/html": [
       "63267"
      ],
      "text/latex": [
       "63267"
      ],
      "text/markdown": [
       "63267"
      ],
      "text/plain": [
       "[1] 63267"
      ]
     },
     "metadata": {},
     "output_type": "display_data"
    },
    {
     "data": {
      "text/html": [
       "63267"
      ],
      "text/latex": [
       "63267"
      ],
      "text/markdown": [
       "63267"
      ],
      "text/plain": [
       "[1] 63267"
      ]
     },
     "metadata": {},
     "output_type": "display_data"
    },
    {
     "data": {
      "text/html": [
       "0"
      ],
      "text/latex": [
       "0"
      ],
      "text/markdown": [
       "0"
      ],
      "text/plain": [
       "[1] 0"
      ]
     },
     "metadata": {},
     "output_type": "display_data"
    }
   ],
   "source": [
    "# remove 13323 non-fullcode, non-na code patients from the cohort\n",
    "cohort_code <- anti_join(cohort_enc, code_notfull) \n",
    "nrow(cohort_code) # 63267\n",
    "nrow(unique(cohort_code %>% select(anon_id, pat_enc_csn_id_coded))) \n",
    "nrow(filter(cohort_code, is.na(admit_time)))"
   ]
  },
  {
   "cell_type": "code",
   "execution_count": 57,
   "metadata": {},
   "outputs": [
    {
     "data": {
      "text/html": [
       "<table class=\"dataframe\">\n",
       "<caption>A data.frame: 1 × 11</caption>\n",
       "<thead>\n",
       "\t<tr><th></th><th scope=col>anon_id</th><th scope=col>pat_enc_csn_id_coded</th><th scope=col>admit_time_jittered</th><th scope=col>label</th><th scope=col>admit_time</th><th scope=col>adm_year</th><th scope=col>adm_month</th><th scope=col>inpatient_data_id_coded</th><th scope=col>ESI</th><th scope=col>hosp_admsn_time</th><th scope=col>ed_time_hr</th></tr>\n",
       "\t<tr><th></th><th scope=col>&lt;chr&gt;</th><th scope=col>&lt;dbl&gt;</th><th scope=col>&lt;chr&gt;</th><th scope=col>&lt;int&gt;</th><th scope=col>&lt;dttm&gt;</th><th scope=col>&lt;dbl&gt;</th><th scope=col>&lt;dbl&gt;</th><th scope=col>&lt;dbl&gt;</th><th scope=col>&lt;dbl&gt;</th><th scope=col>&lt;dttm&gt;</th><th scope=col>&lt;dbl&gt;</th></tr>\n",
       "</thead>\n",
       "<tbody>\n",
       "\t<tr><th scope=row>1</th><td>JC1000116</td><td>131066472308</td><td>2015-01-28 00:46:00+00:00</td><td>0</td><td>2015-01-28 00:46:00</td><td>2015</td><td>1</td><td>19328596</td><td>3</td><td>2015-01-27 04:24:00</td><td>20.36667</td></tr>\n",
       "</tbody>\n",
       "</table>\n"
      ],
      "text/latex": [
       "A data.frame: 1 × 11\n",
       "\\begin{tabular}{r|lllllllllll}\n",
       "  & anon\\_id & pat\\_enc\\_csn\\_id\\_coded & admit\\_time\\_jittered & label & admit\\_time & adm\\_year & adm\\_month & inpatient\\_data\\_id\\_coded & ESI & hosp\\_admsn\\_time & ed\\_time\\_hr\\\\\n",
       "  & <chr> & <dbl> & <chr> & <int> & <dttm> & <dbl> & <dbl> & <dbl> & <dbl> & <dttm> & <dbl>\\\\\n",
       "\\hline\n",
       "\t1 & JC1000116 & 131066472308 & 2015-01-28 00:46:00+00:00 & 0 & 2015-01-28 00:46:00 & 2015 & 1 & 19328596 & 3 & 2015-01-27 04:24:00 & 20.36667\\\\\n",
       "\\end{tabular}\n"
      ],
      "text/markdown": [
       "\n",
       "A data.frame: 1 × 11\n",
       "\n",
       "| <!--/--> | anon_id &lt;chr&gt; | pat_enc_csn_id_coded &lt;dbl&gt; | admit_time_jittered &lt;chr&gt; | label &lt;int&gt; | admit_time &lt;dttm&gt; | adm_year &lt;dbl&gt; | adm_month &lt;dbl&gt; | inpatient_data_id_coded &lt;dbl&gt; | ESI &lt;dbl&gt; | hosp_admsn_time &lt;dttm&gt; | ed_time_hr &lt;dbl&gt; |\n",
       "|---|---|---|---|---|---|---|---|---|---|---|---|\n",
       "| 1 | JC1000116 | 131066472308 | 2015-01-28 00:46:00+00:00 | 0 | 2015-01-28 00:46:00 | 2015 | 1 | 19328596 | 3 | 2015-01-27 04:24:00 | 20.36667 |\n",
       "\n"
      ],
      "text/plain": [
       "  anon_id   pat_enc_csn_id_coded admit_time_jittered       label\n",
       "1 JC1000116 131066472308         2015-01-28 00:46:00+00:00 0    \n",
       "  admit_time          adm_year adm_month inpatient_data_id_coded ESI\n",
       "1 2015-01-28 00:46:00 2015     1         19328596                3  \n",
       "  hosp_admsn_time     ed_time_hr\n",
       "1 2015-01-27 04:24:00 20.36667  "
      ]
     },
     "metadata": {},
     "output_type": "display_data"
    }
   ],
   "source": [
    "head(cohort_code, n=1)"
   ]
  },
  {
   "cell_type": "raw",
   "metadata": {},
   "source": [
    "cohort_code2 <- inner_join(cohort_code, code) %>% filter(code_diff_hr <=24)\n",
    "nrow(cohort_code2)\n",
    "\n",
    "cohort_code2 %>% group_by(description) %>% count() # all FULL CODE"
   ]
  },
  {
   "cell_type": "markdown",
   "metadata": {},
   "source": [
    "### Age from demographic variables\n",
    "1. Age (only >=18)\n",
    "2. insurance = Medical/care/caid and n/a insurance --> medis =1 otherwise 0\n",
    "3. language --> Engl = 1 for English, otherwise 0\n",
    "4. leave height and weight to be processed with flowsheet age (>=18 only)"
   ]
  },
  {
   "cell_type": "raw",
   "metadata": {},
   "source": [
    "q = \"\n",
    "SELECT c.anon_id,\n",
    "    d.gender, d.canonical_race as race, d.language, \n",
    "    d.recent_ht_in_cms as recent_height_cm, d.recent_wt_in_kgs as recent_weight_kg,\n",
    "    d.insurance_payor_name as insurance \n",
    "    DATE(CAST(d.birth_date_jittered as TIMESTAMP)) as dob\n",
    "FROM \n",
    "    `som-nero-phi-jonc101.shc_core_2021.demographic` as d\n",
    "JOIN \n",
    "    `som-nero-phi-jonc101.triageTD.6_1_cohort_validation` as c\n",
    "ON c.anon_id=d.anon_id\n",
    "ORDER BY\n",
    "  c.anon_id\n",
    "\"\n",
    "# submit the query:\n",
    "update.packages('Rcpp')\n",
    "df <- dbGetQuery(con, q)\n",
    "dim(df)\n",
    "colnames(df)\n",
    "head(df, 3)"
   ]
  },
  {
   "cell_type": "code",
   "execution_count": 59,
   "metadata": {},
   "outputs": [
    {
     "data": {
      "text/html": [
       "47904"
      ],
      "text/latex": [
       "47904"
      ],
      "text/markdown": [
       "47904"
      ],
      "text/plain": [
       "[1] 47904"
      ]
     },
     "metadata": {},
     "output_type": "display_data"
    },
    {
     "data": {
      "text/plain": [
       "   anon_id             gender              race             language        \n",
       " Length:47904       Length:47904       Length:47904       Length:47904      \n",
       " Class :character   Class :character   Class :character   Class :character  \n",
       " Mode  :character   Mode  :character   Mode  :character   Mode  :character  \n",
       "                                                                            \n",
       "                                                                            \n",
       "                                                                            \n",
       "                                                                            \n",
       " recent_height_cm recent_weight_kg  insurance             dob           \n",
       " Min.   : 12.7    Min.   :  0.00   Length:47904       Length:47904      \n",
       " 1st Qu.:160.0    1st Qu.: 60.30   Class :character   Class :character  \n",
       " Median :167.6    Median : 72.57   Mode  :character   Mode  :character  \n",
       " Mean   :167.6    Mean   : 75.71                                        \n",
       " 3rd Qu.:175.3    3rd Qu.: 87.00                                        \n",
       " Max.   :213.4    Max.   :504.85                                        \n",
       " NA's   :1998     NA's   :338                                           "
      ]
     },
     "metadata": {},
     "output_type": "display_data"
    }
   ],
   "source": [
    "demo <- read.csv(file.path(datadir, \"demographics_2021.csv\")) %>% distinct()\n",
    "nrow(demo) # 47904\n",
    "summary(demo)"
   ]
  },
  {
   "cell_type": "code",
   "execution_count": 60,
   "metadata": {},
   "outputs": [
    {
     "data": {
      "text/html": [
       "<table class=\"dataframe\">\n",
       "<caption>A data.frame: 6 × 8</caption>\n",
       "<thead>\n",
       "\t<tr><th></th><th scope=col>anon_id</th><th scope=col>gender</th><th scope=col>race</th><th scope=col>language</th><th scope=col>recent_height_cm</th><th scope=col>recent_weight_kg</th><th scope=col>insurance</th><th scope=col>dob</th></tr>\n",
       "\t<tr><th></th><th scope=col>&lt;chr&gt;</th><th scope=col>&lt;chr&gt;</th><th scope=col>&lt;chr&gt;</th><th scope=col>&lt;chr&gt;</th><th scope=col>&lt;dbl&gt;</th><th scope=col>&lt;dbl&gt;</th><th scope=col>&lt;chr&gt;</th><th scope=col>&lt;chr&gt;</th></tr>\n",
       "</thead>\n",
       "<tbody>\n",
       "\t<tr><th scope=row>1</th><td>JC1000116</td><td>Female</td><td>Other</td><td>Spanish   </td><td>154.00</td><td>73.05</td><td>HPSM    </td><td>1977-01-23</td></tr>\n",
       "\t<tr><th scope=row>2</th><td>JC1000159</td><td>Female</td><td>White</td><td>English   </td><td>162.56</td><td>70.31</td><td>MEDICARE</td><td>1923-04-03</td></tr>\n",
       "\t<tr><th scope=row>3</th><td>JC1000296</td><td>Male  </td><td>Other</td><td>Spanish   </td><td>163.40</td><td>61.25</td><td>MEDICARE</td><td>1952-11-20</td></tr>\n",
       "\t<tr><th scope=row>4</th><td>JC1000441</td><td>Female</td><td>Other</td><td>English   </td><td>167.64</td><td>90.00</td><td>MEDI-CAL</td><td>1992-10-11</td></tr>\n",
       "\t<tr><th scope=row>5</th><td>JC1000527</td><td>Female</td><td>Asian</td><td>Vietnamese</td><td>152.40</td><td>47.00</td><td>        </td><td>1931-09-17</td></tr>\n",
       "\t<tr><th scope=row>6</th><td>JC1000701</td><td>Male  </td><td>Asian</td><td>Cantonese </td><td>157.48</td><td>57.06</td><td>        </td><td>1927-10-10</td></tr>\n",
       "</tbody>\n",
       "</table>\n"
      ],
      "text/latex": [
       "A data.frame: 6 × 8\n",
       "\\begin{tabular}{r|llllllll}\n",
       "  & anon\\_id & gender & race & language & recent\\_height\\_cm & recent\\_weight\\_kg & insurance & dob\\\\\n",
       "  & <chr> & <chr> & <chr> & <chr> & <dbl> & <dbl> & <chr> & <chr>\\\\\n",
       "\\hline\n",
       "\t1 & JC1000116 & Female & Other & Spanish    & 154.00 & 73.05 & HPSM     & 1977-01-23\\\\\n",
       "\t2 & JC1000159 & Female & White & English    & 162.56 & 70.31 & MEDICARE & 1923-04-03\\\\\n",
       "\t3 & JC1000296 & Male   & Other & Spanish    & 163.40 & 61.25 & MEDICARE & 1952-11-20\\\\\n",
       "\t4 & JC1000441 & Female & Other & English    & 167.64 & 90.00 & MEDI-CAL & 1992-10-11\\\\\n",
       "\t5 & JC1000527 & Female & Asian & Vietnamese & 152.40 & 47.00 &          & 1931-09-17\\\\\n",
       "\t6 & JC1000701 & Male   & Asian & Cantonese  & 157.48 & 57.06 &          & 1927-10-10\\\\\n",
       "\\end{tabular}\n"
      ],
      "text/markdown": [
       "\n",
       "A data.frame: 6 × 8\n",
       "\n",
       "| <!--/--> | anon_id &lt;chr&gt; | gender &lt;chr&gt; | race &lt;chr&gt; | language &lt;chr&gt; | recent_height_cm &lt;dbl&gt; | recent_weight_kg &lt;dbl&gt; | insurance &lt;chr&gt; | dob &lt;chr&gt; |\n",
       "|---|---|---|---|---|---|---|---|---|\n",
       "| 1 | JC1000116 | Female | Other | Spanish    | 154.00 | 73.05 | HPSM     | 1977-01-23 |\n",
       "| 2 | JC1000159 | Female | White | English    | 162.56 | 70.31 | MEDICARE | 1923-04-03 |\n",
       "| 3 | JC1000296 | Male   | Other | Spanish    | 163.40 | 61.25 | MEDICARE | 1952-11-20 |\n",
       "| 4 | JC1000441 | Female | Other | English    | 167.64 | 90.00 | MEDI-CAL | 1992-10-11 |\n",
       "| 5 | JC1000527 | Female | Asian | Vietnamese | 152.40 | 47.00 | <!----> | 1931-09-17 |\n",
       "| 6 | JC1000701 | Male   | Asian | Cantonese  | 157.48 | 57.06 | <!----> | 1927-10-10 |\n",
       "\n"
      ],
      "text/plain": [
       "  anon_id   gender race  language   recent_height_cm recent_weight_kg insurance\n",
       "1 JC1000116 Female Other Spanish    154.00           73.05            HPSM     \n",
       "2 JC1000159 Female White English    162.56           70.31            MEDICARE \n",
       "3 JC1000296 Male   Other Spanish    163.40           61.25            MEDICARE \n",
       "4 JC1000441 Female Other English    167.64           90.00            MEDI-CAL \n",
       "5 JC1000527 Female Asian Vietnamese 152.40           47.00                     \n",
       "6 JC1000701 Male   Asian Cantonese  157.48           57.06                     \n",
       "  dob       \n",
       "1 1977-01-23\n",
       "2 1923-04-03\n",
       "3 1952-11-20\n",
       "4 1992-10-11\n",
       "5 1931-09-17\n",
       "6 1927-10-10"
      ]
     },
     "metadata": {},
     "output_type": "display_data"
    }
   ],
   "source": [
    "head(demo)"
   ]
  },
  {
   "cell_type": "code",
   "execution_count": 61,
   "metadata": {},
   "outputs": [
    {
     "name": "stderr",
     "output_type": "stream",
     "text": [
      "Joining, by = \"anon_id\"\n",
      "\n"
     ]
    },
    {
     "data": {
      "text/html": [
       "63050"
      ],
      "text/latex": [
       "63050"
      ],
      "text/markdown": [
       "63050"
      ],
      "text/plain": [
       "[1] 63050"
      ]
     },
     "metadata": {},
     "output_type": "display_data"
    },
    {
     "data": {
      "text/plain": [
       "   anon_id          pat_enc_csn_id_coded admit_time_jittered     label      \n",
       " Length:63050       Min.   :1.311e+11    Length:63050        Min.   :0.000  \n",
       " Class :character   1st Qu.:1.312e+11    Class :character    1st Qu.:0.000  \n",
       " Mode  :character   Median :1.313e+11    Mode  :character    Median :0.000  \n",
       "                    Mean   :1.312e+11                        Mean   :0.139  \n",
       "                    3rd Qu.:1.313e+11                        3rd Qu.:0.000  \n",
       "                    Max.   :1.313e+11                        Max.   :1.000  \n",
       "                                                                            \n",
       "   admit_time                     adm_year      adm_month     \n",
       " Min.   :2015-01-01 04:52:00   Min.   :2015   Min.   : 1.000  \n",
       " 1st Qu.:2016-12-27 04:51:15   1st Qu.:2016   1st Qu.: 3.000  \n",
       " Median :2018-11-15 00:08:30   Median :2018   Median : 6.000  \n",
       " Mean   :2018-09-02 16:29:46   Mean   :2018   Mean   : 6.347  \n",
       " 3rd Qu.:2020-05-27 07:31:15   3rd Qu.:2020   3rd Qu.: 9.000  \n",
       " Max.   :2021-09-30 07:00:00   Max.   :2021   Max.   :12.000  \n",
       "                                                              \n",
       " inpatient_data_id_coded      ESI        hosp_admsn_time              \n",
       " Min.   :18839023        Min.   :1.000   Min.   :2015-01-01 00:02:00  \n",
       " 1st Qu.:27991297        1st Qu.:2.000   1st Qu.:2016-12-27 01:43:45  \n",
       " Median :38223187        Median :3.000   Median :2018-11-14 20:39:00  \n",
       " Mean   :41283830        Mean   :2.625   Mean   :2018-09-02 11:51:32  \n",
       " 3rd Qu.:54060667        3rd Qu.:3.000   3rd Qu.:2020-05-27 03:23:00  \n",
       " Max.   :73231043        Max.   :5.000   Max.   :2021-09-30 07:00:00  \n",
       "                         NA's   :1967                                 \n",
       "   ed_time_hr          gender                    race             language    \n",
       " Min.   :  0.000   Female :29971   Asian           : 9713   English   :52631  \n",
       " 1st Qu.:  2.233   Male   :33072   Black           : 4409   Spanish   : 5412  \n",
       " Median :  3.450   Unknown:    7   Native American :  262   Mandarin  :  990  \n",
       " Mean   :  4.637                   Other           :15029   Vietnamese:  766  \n",
       " 3rd Qu.:  5.200                   Pacific Islander: 1301   Cantonese :  393  \n",
       " Max.   :190.433                   Unknown         :  440   Russian   :  363  \n",
       "                                   White           :31896   (Other)   : 2495  \n",
       " recent_height_cm recent_weight_kg       insurance          age        \n",
       " Min.   : 12.95   Min.   :  0.10   MEDICARE   :23706   Min.   : 18.00  \n",
       " 1st Qu.:160.02   1st Qu.: 60.90   BLUE CROSS : 4463   1st Qu.: 45.00  \n",
       " Median :167.64   Median : 73.30   HPSM       : 4243   Median : 61.00  \n",
       " Mean   :168.01   Mean   : 76.73              : 3672   Mean   : 58.82  \n",
       " 3rd Qu.:175.30   3rd Qu.: 88.30   MEDI-CAL   : 2581   3rd Qu.: 73.00  \n",
       " Max.   :213.36   Max.   :504.85   BLUE SHIELD: 2578   Max.   :118.00  \n",
       " NA's   :1658     NA's   :284      (Other)    :21807                   "
      ]
     },
     "metadata": {},
     "output_type": "display_data"
    }
   ],
   "source": [
    "# calculate age, only keep patients age >=18, (304 < 18)\n",
    "cohort_age <- left_join(cohort_code, demo) %>%\n",
    "                    mutate(dob = ymd(dob), gender = factor(gender), \n",
    "                           race = factor(race), language = factor(language), insurance = factor(insurance),\n",
    "                           age = round(as.numeric(difftime(ymd_hms(admit_time), dob, units=\"days\")/365),0)) %>%\n",
    "                    filter(age >= 18) %>% select(-dob)\n",
    "nrow(cohort_age) # 63050\n",
    "summary(cohort_age)"
   ]
  },
  {
   "cell_type": "code",
   "execution_count": 62,
   "metadata": {},
   "outputs": [
    {
     "data": {
      "text/html": [
       "42037"
      ],
      "text/latex": [
       "42037"
      ],
      "text/markdown": [
       "42037"
      ],
      "text/plain": [
       "[1] 42037"
      ]
     },
     "metadata": {},
     "output_type": "display_data"
    },
    {
     "data": {
      "text/html": [
       "63050"
      ],
      "text/latex": [
       "63050"
      ],
      "text/markdown": [
       "63050"
      ],
      "text/plain": [
       "[1] 63050"
      ]
     },
     "metadata": {},
     "output_type": "display_data"
    },
    {
     "data": {
      "text/html": [
       "<table class=\"dataframe\">\n",
       "<caption>A data.frame: 0 × 18</caption>\n",
       "<thead>\n",
       "\t<tr><th scope=col>anon_id</th><th scope=col>pat_enc_csn_id_coded</th><th scope=col>admit_time_jittered</th><th scope=col>label</th><th scope=col>admit_time</th><th scope=col>adm_year</th><th scope=col>adm_month</th><th scope=col>inpatient_data_id_coded</th><th scope=col>ESI</th><th scope=col>hosp_admsn_time</th><th scope=col>ed_time_hr</th><th scope=col>gender</th><th scope=col>race</th><th scope=col>language</th><th scope=col>recent_height_cm</th><th scope=col>recent_weight_kg</th><th scope=col>insurance</th><th scope=col>age</th></tr>\n",
       "\t<tr><th scope=col>&lt;chr&gt;</th><th scope=col>&lt;dbl&gt;</th><th scope=col>&lt;chr&gt;</th><th scope=col>&lt;int&gt;</th><th scope=col>&lt;dttm&gt;</th><th scope=col>&lt;dbl&gt;</th><th scope=col>&lt;dbl&gt;</th><th scope=col>&lt;dbl&gt;</th><th scope=col>&lt;dbl&gt;</th><th scope=col>&lt;dttm&gt;</th><th scope=col>&lt;dbl&gt;</th><th scope=col>&lt;fct&gt;</th><th scope=col>&lt;fct&gt;</th><th scope=col>&lt;fct&gt;</th><th scope=col>&lt;dbl&gt;</th><th scope=col>&lt;dbl&gt;</th><th scope=col>&lt;fct&gt;</th><th scope=col>&lt;dbl&gt;</th></tr>\n",
       "</thead>\n",
       "<tbody>\n",
       "</tbody>\n",
       "</table>\n"
      ],
      "text/latex": [
       "A data.frame: 0 × 18\n",
       "\\begin{tabular}{llllllllllllllllll}\n",
       " anon\\_id & pat\\_enc\\_csn\\_id\\_coded & admit\\_time\\_jittered & label & admit\\_time & adm\\_year & adm\\_month & inpatient\\_data\\_id\\_coded & ESI & hosp\\_admsn\\_time & ed\\_time\\_hr & gender & race & language & recent\\_height\\_cm & recent\\_weight\\_kg & insurance & age\\\\\n",
       " <chr> & <dbl> & <chr> & <int> & <dttm> & <dbl> & <dbl> & <dbl> & <dbl> & <dttm> & <dbl> & <fct> & <fct> & <fct> & <dbl> & <dbl> & <fct> & <dbl>\\\\\n",
       "\\hline\n",
       "\\end{tabular}\n"
      ],
      "text/markdown": [
       "\n",
       "A data.frame: 0 × 18\n",
       "\n",
       "| anon_id &lt;chr&gt; | pat_enc_csn_id_coded &lt;dbl&gt; | admit_time_jittered &lt;chr&gt; | label &lt;int&gt; | admit_time &lt;dttm&gt; | adm_year &lt;dbl&gt; | adm_month &lt;dbl&gt; | inpatient_data_id_coded &lt;dbl&gt; | ESI &lt;dbl&gt; | hosp_admsn_time &lt;dttm&gt; | ed_time_hr &lt;dbl&gt; | gender &lt;fct&gt; | race &lt;fct&gt; | language &lt;fct&gt; | recent_height_cm &lt;dbl&gt; | recent_weight_kg &lt;dbl&gt; | insurance &lt;fct&gt; | age &lt;dbl&gt; |\n",
       "|---|---|---|---|---|---|---|---|---|---|---|---|---|---|---|---|---|---|\n",
       "\n"
      ],
      "text/plain": [
       "     anon_id pat_enc_csn_id_coded admit_time_jittered label admit_time adm_year\n",
       "     adm_month inpatient_data_id_coded ESI hosp_admsn_time ed_time_hr gender\n",
       "     race language recent_height_cm recent_weight_kg insurance age"
      ]
     },
     "metadata": {},
     "output_type": "display_data"
    }
   ],
   "source": [
    "# checking duplicates\n",
    "nrow(cohort_age %>% select(anon_id) %>% distinct()) # 31513 vs 31511\n",
    "nrow(cohort_age %>% select(anon_id, pat_enc_csn_id_coded) %>% distinct()) # 45796 vs 45794\n",
    "cohort_age[duplicated(cohort_age[, c('anon_id','pat_enc_csn_id_coded')]),]\n",
    "\n",
    "# cohort_demo %>% filter(anon_id == \"JCd49287\") # pat_enc_csn_id_coded = 131195706986, \n",
    "# cohort_demo <- cohort_demo %>% filter (!(anon_id == \"JCd49287\" & race == \"Unknown\"))"
   ]
  },
  {
   "cell_type": "code",
   "execution_count": 63,
   "metadata": {},
   "outputs": [
    {
     "data": {
      "text/plain": [
       "      ESI            gender                    race       recent_height_cm\n",
       " Min.   :1.000   Female :29971   Asian           : 9713   Min.   : 12.95  \n",
       " 1st Qu.:2.000   Male   :33072   Black           : 4409   1st Qu.:160.02  \n",
       " Median :3.000   Unknown:    7   Native American :  262   Median :167.64  \n",
       " Mean   :2.625                   Other           :15029   Mean   :168.01  \n",
       " 3rd Qu.:3.000                   Pacific Islander: 1301   3rd Qu.:175.30  \n",
       " Max.   :5.000                   Unknown         :  440   Max.   :213.36  \n",
       " NA's   :1967                    White           :31896   NA's   :1658    \n",
       " recent_weight_kg      age        \n",
       " Min.   :  0.10   Min.   : 18.00  \n",
       " 1st Qu.: 60.90   1st Qu.: 45.00  \n",
       " Median : 73.30   Median : 61.00  \n",
       " Mean   : 76.73   Mean   : 58.82  \n",
       " 3rd Qu.: 88.30   3rd Qu.: 73.00  \n",
       " Max.   :504.85   Max.   :118.00  \n",
       " NA's   :284                      "
      ]
     },
     "metadata": {},
     "output_type": "display_data"
    },
    {
     "name": "stderr",
     "output_type": "stream",
     "text": [
      "Warning message:\n",
      "“attributes are not identical across measure variables;\n",
      "they will be dropped”\n"
     ]
    },
    {
     "data": {
      "text/html": [
       "<table class=\"dataframe\">\n",
       "<caption>A data.frame: 18 × 2</caption>\n",
       "<thead>\n",
       "\t<tr><th scope=col>var</th><th scope=col>n</th></tr>\n",
       "\t<tr><th scope=col>&lt;chr&gt;</th><th scope=col>&lt;int&gt;</th></tr>\n",
       "</thead>\n",
       "<tbody>\n",
       "\t<tr><td>label                  </td><td>    2</td></tr>\n",
       "\t<tr><td>gender                 </td><td>    3</td></tr>\n",
       "\t<tr><td>ESI                    </td><td>    6</td></tr>\n",
       "\t<tr><td>adm_year               </td><td>    7</td></tr>\n",
       "\t<tr><td>race                   </td><td>    7</td></tr>\n",
       "\t<tr><td>adm_month              </td><td>   12</td></tr>\n",
       "\t<tr><td>language               </td><td>   56</td></tr>\n",
       "\t<tr><td>age                    </td><td>   93</td></tr>\n",
       "\t<tr><td>insurance              </td><td>  117</td></tr>\n",
       "\t<tr><td>recent_height_cm       </td><td>  876</td></tr>\n",
       "\t<tr><td>ed_time_hr             </td><td> 2030</td></tr>\n",
       "\t<tr><td>recent_weight_kg       </td><td> 3721</td></tr>\n",
       "\t<tr><td>anon_id                </td><td>42037</td></tr>\n",
       "\t<tr><td>hosp_admsn_time        </td><td>62312</td></tr>\n",
       "\t<tr><td>admit_time             </td><td>62315</td></tr>\n",
       "\t<tr><td>admit_time_jittered    </td><td>62315</td></tr>\n",
       "\t<tr><td>inpatient_data_id_coded</td><td>63050</td></tr>\n",
       "\t<tr><td>pat_enc_csn_id_coded   </td><td>63050</td></tr>\n",
       "</tbody>\n",
       "</table>\n"
      ],
      "text/latex": [
       "A data.frame: 18 × 2\n",
       "\\begin{tabular}{ll}\n",
       " var & n\\\\\n",
       " <chr> & <int>\\\\\n",
       "\\hline\n",
       "\t label                   &     2\\\\\n",
       "\t gender                  &     3\\\\\n",
       "\t ESI                     &     6\\\\\n",
       "\t adm\\_year                &     7\\\\\n",
       "\t race                    &     7\\\\\n",
       "\t adm\\_month               &    12\\\\\n",
       "\t language                &    56\\\\\n",
       "\t age                     &    93\\\\\n",
       "\t insurance               &   117\\\\\n",
       "\t recent\\_height\\_cm        &   876\\\\\n",
       "\t ed\\_time\\_hr              &  2030\\\\\n",
       "\t recent\\_weight\\_kg        &  3721\\\\\n",
       "\t anon\\_id                 & 42037\\\\\n",
       "\t hosp\\_admsn\\_time         & 62312\\\\\n",
       "\t admit\\_time              & 62315\\\\\n",
       "\t admit\\_time\\_jittered     & 62315\\\\\n",
       "\t inpatient\\_data\\_id\\_coded & 63050\\\\\n",
       "\t pat\\_enc\\_csn\\_id\\_coded    & 63050\\\\\n",
       "\\end{tabular}\n"
      ],
      "text/markdown": [
       "\n",
       "A data.frame: 18 × 2\n",
       "\n",
       "| var &lt;chr&gt; | n &lt;int&gt; |\n",
       "|---|---|\n",
       "| label                   |     2 |\n",
       "| gender                  |     3 |\n",
       "| ESI                     |     6 |\n",
       "| adm_year                |     7 |\n",
       "| race                    |     7 |\n",
       "| adm_month               |    12 |\n",
       "| language                |    56 |\n",
       "| age                     |    93 |\n",
       "| insurance               |   117 |\n",
       "| recent_height_cm        |   876 |\n",
       "| ed_time_hr              |  2030 |\n",
       "| recent_weight_kg        |  3721 |\n",
       "| anon_id                 | 42037 |\n",
       "| hosp_admsn_time         | 62312 |\n",
       "| admit_time              | 62315 |\n",
       "| admit_time_jittered     | 62315 |\n",
       "| inpatient_data_id_coded | 63050 |\n",
       "| pat_enc_csn_id_coded    | 63050 |\n",
       "\n"
      ],
      "text/plain": [
       "   var                     n    \n",
       "1  label                       2\n",
       "2  gender                      3\n",
       "3  ESI                         6\n",
       "4  adm_year                    7\n",
       "5  race                        7\n",
       "6  adm_month                  12\n",
       "7  language                   56\n",
       "8  age                        93\n",
       "9  insurance                 117\n",
       "10 recent_height_cm          876\n",
       "11 ed_time_hr               2030\n",
       "12 recent_weight_kg         3721\n",
       "13 anon_id                 42037\n",
       "14 hosp_admsn_time         62312\n",
       "15 admit_time              62315\n",
       "16 admit_time_jittered     62315\n",
       "17 inpatient_data_id_coded 63050\n",
       "18 pat_enc_csn_id_coded    63050"
      ]
     },
     "metadata": {},
     "output_type": "display_data"
    },
    {
     "name": "stderr",
     "output_type": "stream",
     "text": [
      "Warning message:\n",
      "“`summarise_each_()` was deprecated in dplyr 0.7.0.\n",
      "Please use `across()` instead.\n",
      "\u001b[90mThis warning is displayed once every 8 hours.\u001b[39m\n",
      "\u001b[90mCall `lifecycle::last_warnings()` to see where this warning was generated.\u001b[39m”\n",
      "Warning message:\n",
      "“`funs()` was deprecated in dplyr 0.8.0.\n",
      "Please use a list of either functions or lambdas: \n",
      "\n",
      "  # Simple named list: \n",
      "  list(mean = mean, median = median)\n",
      "\n",
      "  # Auto named with `tibble::lst()`: \n",
      "  tibble::lst(mean, median)\n",
      "\n",
      "  # Using lambdas\n",
      "  list(~ mean(., trim = .2), ~ median(., na.rm = TRUE))\n",
      "\u001b[90mThis warning is displayed once every 8 hours.\u001b[39m\n",
      "\u001b[90mCall `lifecycle::last_warnings()` to see where this warning was generated.\u001b[39m”\n"
     ]
    },
    {
     "data": {
      "text/html": [
       "<table class=\"dataframe\">\n",
       "<caption>A data.frame: 1 × 18</caption>\n",
       "<thead>\n",
       "\t<tr><th scope=col>anon_id</th><th scope=col>pat_enc_csn_id_coded</th><th scope=col>admit_time_jittered</th><th scope=col>label</th><th scope=col>admit_time</th><th scope=col>adm_year</th><th scope=col>adm_month</th><th scope=col>inpatient_data_id_coded</th><th scope=col>ESI</th><th scope=col>hosp_admsn_time</th><th scope=col>ed_time_hr</th><th scope=col>gender</th><th scope=col>race</th><th scope=col>language</th><th scope=col>recent_height_cm</th><th scope=col>recent_weight_kg</th><th scope=col>insurance</th><th scope=col>age</th></tr>\n",
       "\t<tr><th scope=col>&lt;int&gt;</th><th scope=col>&lt;int&gt;</th><th scope=col>&lt;int&gt;</th><th scope=col>&lt;int&gt;</th><th scope=col>&lt;int&gt;</th><th scope=col>&lt;int&gt;</th><th scope=col>&lt;int&gt;</th><th scope=col>&lt;int&gt;</th><th scope=col>&lt;int&gt;</th><th scope=col>&lt;int&gt;</th><th scope=col>&lt;int&gt;</th><th scope=col>&lt;int&gt;</th><th scope=col>&lt;int&gt;</th><th scope=col>&lt;int&gt;</th><th scope=col>&lt;int&gt;</th><th scope=col>&lt;int&gt;</th><th scope=col>&lt;int&gt;</th><th scope=col>&lt;int&gt;</th></tr>\n",
       "</thead>\n",
       "<tbody>\n",
       "\t<tr><td>42037</td><td>63050</td><td>62315</td><td>2</td><td>62315</td><td>7</td><td>12</td><td>63050</td><td>6</td><td>62312</td><td>2030</td><td>3</td><td>7</td><td>56</td><td>876</td><td>3721</td><td>117</td><td>93</td></tr>\n",
       "</tbody>\n",
       "</table>\n"
      ],
      "text/latex": [
       "A data.frame: 1 × 18\n",
       "\\begin{tabular}{llllllllllllllllll}\n",
       " anon\\_id & pat\\_enc\\_csn\\_id\\_coded & admit\\_time\\_jittered & label & admit\\_time & adm\\_year & adm\\_month & inpatient\\_data\\_id\\_coded & ESI & hosp\\_admsn\\_time & ed\\_time\\_hr & gender & race & language & recent\\_height\\_cm & recent\\_weight\\_kg & insurance & age\\\\\n",
       " <int> & <int> & <int> & <int> & <int> & <int> & <int> & <int> & <int> & <int> & <int> & <int> & <int> & <int> & <int> & <int> & <int> & <int>\\\\\n",
       "\\hline\n",
       "\t 42037 & 63050 & 62315 & 2 & 62315 & 7 & 12 & 63050 & 6 & 62312 & 2030 & 3 & 7 & 56 & 876 & 3721 & 117 & 93\\\\\n",
       "\\end{tabular}\n"
      ],
      "text/markdown": [
       "\n",
       "A data.frame: 1 × 18\n",
       "\n",
       "| anon_id &lt;int&gt; | pat_enc_csn_id_coded &lt;int&gt; | admit_time_jittered &lt;int&gt; | label &lt;int&gt; | admit_time &lt;int&gt; | adm_year &lt;int&gt; | adm_month &lt;int&gt; | inpatient_data_id_coded &lt;int&gt; | ESI &lt;int&gt; | hosp_admsn_time &lt;int&gt; | ed_time_hr &lt;int&gt; | gender &lt;int&gt; | race &lt;int&gt; | language &lt;int&gt; | recent_height_cm &lt;int&gt; | recent_weight_kg &lt;int&gt; | insurance &lt;int&gt; | age &lt;int&gt; |\n",
       "|---|---|---|---|---|---|---|---|---|---|---|---|---|---|---|---|---|---|\n",
       "| 42037 | 63050 | 62315 | 2 | 62315 | 7 | 12 | 63050 | 6 | 62312 | 2030 | 3 | 7 | 56 | 876 | 3721 | 117 | 93 |\n",
       "\n"
      ],
      "text/plain": [
       "  anon_id pat_enc_csn_id_coded admit_time_jittered label admit_time adm_year\n",
       "1 42037   63050                62315               2     62315      7       \n",
       "  adm_month inpatient_data_id_coded ESI hosp_admsn_time ed_time_hr gender race\n",
       "1 12        63050                   6   62312           2030       3      7   \n",
       "  language recent_height_cm recent_weight_kg insurance age\n",
       "1 56       876              3721             117       93 "
      ]
     },
     "metadata": {},
     "output_type": "display_data"
    }
   ],
   "source": [
    "summary(cohort_age %>% select(ESI, gender, race, recent_height_cm, recent_weight_kg, age))\n",
    "cohort_age %>% gather(var, value) %>% distinct() %>% count(var) %>% arrange(n)\n",
    "cohort_age %>% summarise_each(funs(n_distinct))\n",
    "# cohort_demo %>% summarise(across(all_of(.), count))"
   ]
  },
  {
   "cell_type": "code",
   "execution_count": 64,
   "metadata": {},
   "outputs": [
    {
     "data": {
      "text/plain": [
       "   Min. 1st Qu.  Median    Mean 3rd Qu.    Max. \n",
       "  18.00   45.00   61.00   58.82   73.00  118.00 "
      ]
     },
     "metadata": {},
     "output_type": "display_data"
    },
    {
     "data": {
      "image/png": "[encoded data removed]",
      "text/plain": [
       "Plot with title “Histogram of cohort_age$age”"
      ]
     },
     "metadata": {
      "image/png": {
       "height": 420,
       "width": 420
      }
     },
     "output_type": "display_data"
    }
   ],
   "source": [
    "summary(cohort_age$age)\n",
    "hist(cohort_age$age, breaks=100, col=\"dodgerblue\")"
   ]
  },
  {
   "cell_type": "code",
   "execution_count": 67,
   "metadata": {},
   "outputs": [],
   "source": [
    "# this is the updated cohort meeting encounter/codestatus/age criteria\n",
    "# save to 6_validation folder\n",
    "write.csv(cohort_age, file = file.path(outdir, \"2_cohort2.csv\"), row.names=FALSE)"
   ]
  },
  {
   "cell_type": "code",
   "execution_count": 68,
   "metadata": {},
   "outputs": [
    {
     "data": {
      "text/html": [
       "<table class=\"dataframe\">\n",
       "<caption>A data.frame: 6 × 18</caption>\n",
       "<thead>\n",
       "\t<tr><th></th><th scope=col>anon_id</th><th scope=col>pat_enc_csn_id_coded</th><th scope=col>admit_time_jittered</th><th scope=col>label</th><th scope=col>admit_time</th><th scope=col>adm_year</th><th scope=col>adm_month</th><th scope=col>inpatient_data_id_coded</th><th scope=col>ESI</th><th scope=col>hosp_admsn_time</th><th scope=col>ed_time_hr</th><th scope=col>gender</th><th scope=col>race</th><th scope=col>language</th><th scope=col>recent_height_cm</th><th scope=col>recent_weight_kg</th><th scope=col>insurance</th><th scope=col>age</th></tr>\n",
       "\t<tr><th></th><th scope=col>&lt;chr&gt;</th><th scope=col>&lt;dbl&gt;</th><th scope=col>&lt;chr&gt;</th><th scope=col>&lt;int&gt;</th><th scope=col>&lt;dttm&gt;</th><th scope=col>&lt;dbl&gt;</th><th scope=col>&lt;dbl&gt;</th><th scope=col>&lt;dbl&gt;</th><th scope=col>&lt;dbl&gt;</th><th scope=col>&lt;dttm&gt;</th><th scope=col>&lt;dbl&gt;</th><th scope=col>&lt;fct&gt;</th><th scope=col>&lt;fct&gt;</th><th scope=col>&lt;fct&gt;</th><th scope=col>&lt;dbl&gt;</th><th scope=col>&lt;dbl&gt;</th><th scope=col>&lt;fct&gt;</th><th scope=col>&lt;dbl&gt;</th></tr>\n",
       "</thead>\n",
       "<tbody>\n",
       "\t<tr><th scope=row>1</th><td>JC1000116</td><td>131066472308</td><td>2015-01-28 00:46:00+00:00</td><td>0</td><td>2015-01-28 00:46:00</td><td>2015</td><td>1</td><td>19328596</td><td>3</td><td>2015-01-27 04:24:00</td><td>20.366667</td><td>Female</td><td>Other</td><td>Spanish   </td><td>154.00</td><td>73.05</td><td>HPSM    </td><td>38</td></tr>\n",
       "\t<tr><th scope=row>2</th><td>JC1000116</td><td>131295313275</td><td>2020-09-29 22:45:00+00:00</td><td>0</td><td>2020-09-29 22:45:00</td><td>2020</td><td>9</td><td>57868578</td><td>3</td><td>2020-09-29 16:02:00</td><td> 6.716667</td><td>Female</td><td>Other</td><td>Spanish   </td><td>154.00</td><td>73.05</td><td>HPSM    </td><td>44</td></tr>\n",
       "\t<tr><th scope=row>3</th><td>JC1000296</td><td>131100574537</td><td>2015-07-03 04:51:00+00:00</td><td>0</td><td>2015-07-03 04:51:00</td><td>2015</td><td>7</td><td>21370977</td><td>2</td><td>2015-07-02 04:03:00</td><td>24.800000</td><td>Male  </td><td>Other</td><td>Spanish   </td><td>163.40</td><td>61.25</td><td>MEDICARE</td><td>63</td></tr>\n",
       "\t<tr><th scope=row>4</th><td>JC1000441</td><td>131074233004</td><td>2015-02-23 06:51:00+00:00</td><td>0</td><td>2015-02-23 06:51:00</td><td>2015</td><td>2</td><td>19747233</td><td>3</td><td>2015-02-22 20:52:00</td><td> 9.983333</td><td>Female</td><td>Other</td><td>English   </td><td>167.64</td><td>90.00</td><td>MEDI-CAL</td><td>22</td></tr>\n",
       "\t<tr><th scope=row>5</th><td>JC1000441</td><td>131074471154</td><td>2015-02-26 23:07:00+00:00</td><td>0</td><td>2015-02-26 23:07:00</td><td>2015</td><td>2</td><td>19773625</td><td>3</td><td>2015-02-26 14:00:00</td><td> 9.116667</td><td>Female</td><td>Other</td><td>English   </td><td>167.64</td><td>90.00</td><td>MEDI-CAL</td><td>22</td></tr>\n",
       "\t<tr><th scope=row>6</th><td>JC1000527</td><td>131084989828</td><td>2015-05-26 23:19:00+00:00</td><td>0</td><td>2015-05-26 23:19:00</td><td>2015</td><td>5</td><td>20506310</td><td>3</td><td>2015-05-26 18:57:00</td><td> 4.366667</td><td>Female</td><td>Asian</td><td>Vietnamese</td><td>152.40</td><td>47.00</td><td>        </td><td>84</td></tr>\n",
       "</tbody>\n",
       "</table>\n"
      ],
      "text/latex": [
       "A data.frame: 6 × 18\n",
       "\\begin{tabular}{r|llllllllllllllllll}\n",
       "  & anon\\_id & pat\\_enc\\_csn\\_id\\_coded & admit\\_time\\_jittered & label & admit\\_time & adm\\_year & adm\\_month & inpatient\\_data\\_id\\_coded & ESI & hosp\\_admsn\\_time & ed\\_time\\_hr & gender & race & language & recent\\_height\\_cm & recent\\_weight\\_kg & insurance & age\\\\\n",
       "  & <chr> & <dbl> & <chr> & <int> & <dttm> & <dbl> & <dbl> & <dbl> & <dbl> & <dttm> & <dbl> & <fct> & <fct> & <fct> & <dbl> & <dbl> & <fct> & <dbl>\\\\\n",
       "\\hline\n",
       "\t1 & JC1000116 & 131066472308 & 2015-01-28 00:46:00+00:00 & 0 & 2015-01-28 00:46:00 & 2015 & 1 & 19328596 & 3 & 2015-01-27 04:24:00 & 20.366667 & Female & Other & Spanish    & 154.00 & 73.05 & HPSM     & 38\\\\\n",
       "\t2 & JC1000116 & 131295313275 & 2020-09-29 22:45:00+00:00 & 0 & 2020-09-29 22:45:00 & 2020 & 9 & 57868578 & 3 & 2020-09-29 16:02:00 &  6.716667 & Female & Other & Spanish    & 154.00 & 73.05 & HPSM     & 44\\\\\n",
       "\t3 & JC1000296 & 131100574537 & 2015-07-03 04:51:00+00:00 & 0 & 2015-07-03 04:51:00 & 2015 & 7 & 21370977 & 2 & 2015-07-02 04:03:00 & 24.800000 & Male   & Other & Spanish    & 163.40 & 61.25 & MEDICARE & 63\\\\\n",
       "\t4 & JC1000441 & 131074233004 & 2015-02-23 06:51:00+00:00 & 0 & 2015-02-23 06:51:00 & 2015 & 2 & 19747233 & 3 & 2015-02-22 20:52:00 &  9.983333 & Female & Other & English    & 167.64 & 90.00 & MEDI-CAL & 22\\\\\n",
       "\t5 & JC1000441 & 131074471154 & 2015-02-26 23:07:00+00:00 & 0 & 2015-02-26 23:07:00 & 2015 & 2 & 19773625 & 3 & 2015-02-26 14:00:00 &  9.116667 & Female & Other & English    & 167.64 & 90.00 & MEDI-CAL & 22\\\\\n",
       "\t6 & JC1000527 & 131084989828 & 2015-05-26 23:19:00+00:00 & 0 & 2015-05-26 23:19:00 & 2015 & 5 & 20506310 & 3 & 2015-05-26 18:57:00 &  4.366667 & Female & Asian & Vietnamese & 152.40 & 47.00 &          & 84\\\\\n",
       "\\end{tabular}\n"
      ],
      "text/markdown": [
       "\n",
       "A data.frame: 6 × 18\n",
       "\n",
       "| <!--/--> | anon_id &lt;chr&gt; | pat_enc_csn_id_coded &lt;dbl&gt; | admit_time_jittered &lt;chr&gt; | label &lt;int&gt; | admit_time &lt;dttm&gt; | adm_year &lt;dbl&gt; | adm_month &lt;dbl&gt; | inpatient_data_id_coded &lt;dbl&gt; | ESI &lt;dbl&gt; | hosp_admsn_time &lt;dttm&gt; | ed_time_hr &lt;dbl&gt; | gender &lt;fct&gt; | race &lt;fct&gt; | language &lt;fct&gt; | recent_height_cm &lt;dbl&gt; | recent_weight_kg &lt;dbl&gt; | insurance &lt;fct&gt; | age &lt;dbl&gt; |\n",
       "|---|---|---|---|---|---|---|---|---|---|---|---|---|---|---|---|---|---|---|\n",
       "| 1 | JC1000116 | 131066472308 | 2015-01-28 00:46:00+00:00 | 0 | 2015-01-28 00:46:00 | 2015 | 1 | 19328596 | 3 | 2015-01-27 04:24:00 | 20.366667 | Female | Other | Spanish    | 154.00 | 73.05 | HPSM     | 38 |\n",
       "| 2 | JC1000116 | 131295313275 | 2020-09-29 22:45:00+00:00 | 0 | 2020-09-29 22:45:00 | 2020 | 9 | 57868578 | 3 | 2020-09-29 16:02:00 |  6.716667 | Female | Other | Spanish    | 154.00 | 73.05 | HPSM     | 44 |\n",
       "| 3 | JC1000296 | 131100574537 | 2015-07-03 04:51:00+00:00 | 0 | 2015-07-03 04:51:00 | 2015 | 7 | 21370977 | 2 | 2015-07-02 04:03:00 | 24.800000 | Male   | Other | Spanish    | 163.40 | 61.25 | MEDICARE | 63 |\n",
       "| 4 | JC1000441 | 131074233004 | 2015-02-23 06:51:00+00:00 | 0 | 2015-02-23 06:51:00 | 2015 | 2 | 19747233 | 3 | 2015-02-22 20:52:00 |  9.983333 | Female | Other | English    | 167.64 | 90.00 | MEDI-CAL | 22 |\n",
       "| 5 | JC1000441 | 131074471154 | 2015-02-26 23:07:00+00:00 | 0 | 2015-02-26 23:07:00 | 2015 | 2 | 19773625 | 3 | 2015-02-26 14:00:00 |  9.116667 | Female | Other | English    | 167.64 | 90.00 | MEDI-CAL | 22 |\n",
       "| 6 | JC1000527 | 131084989828 | 2015-05-26 23:19:00+00:00 | 0 | 2015-05-26 23:19:00 | 2015 | 5 | 20506310 | 3 | 2015-05-26 18:57:00 |  4.366667 | Female | Asian | Vietnamese | 152.40 | 47.00 | <!----> | 84 |\n",
       "\n"
      ],
      "text/plain": [
       "  anon_id   pat_enc_csn_id_coded admit_time_jittered       label\n",
       "1 JC1000116 131066472308         2015-01-28 00:46:00+00:00 0    \n",
       "2 JC1000116 131295313275         2020-09-29 22:45:00+00:00 0    \n",
       "3 JC1000296 131100574537         2015-07-03 04:51:00+00:00 0    \n",
       "4 JC1000441 131074233004         2015-02-23 06:51:00+00:00 0    \n",
       "5 JC1000441 131074471154         2015-02-26 23:07:00+00:00 0    \n",
       "6 JC1000527 131084989828         2015-05-26 23:19:00+00:00 0    \n",
       "  admit_time          adm_year adm_month inpatient_data_id_coded ESI\n",
       "1 2015-01-28 00:46:00 2015     1         19328596                3  \n",
       "2 2020-09-29 22:45:00 2020     9         57868578                3  \n",
       "3 2015-07-03 04:51:00 2015     7         21370977                2  \n",
       "4 2015-02-23 06:51:00 2015     2         19747233                3  \n",
       "5 2015-02-26 23:07:00 2015     2         19773625                3  \n",
       "6 2015-05-26 23:19:00 2015     5         20506310                3  \n",
       "  hosp_admsn_time     ed_time_hr gender race  language   recent_height_cm\n",
       "1 2015-01-27 04:24:00 20.366667  Female Other Spanish    154.00          \n",
       "2 2020-09-29 16:02:00  6.716667  Female Other Spanish    154.00          \n",
       "3 2015-07-02 04:03:00 24.800000  Male   Other Spanish    163.40          \n",
       "4 2015-02-22 20:52:00  9.983333  Female Other English    167.64          \n",
       "5 2015-02-26 14:00:00  9.116667  Female Other English    167.64          \n",
       "6 2015-05-26 18:57:00  4.366667  Female Asian Vietnamese 152.40          \n",
       "  recent_weight_kg insurance age\n",
       "1 73.05            HPSM      38 \n",
       "2 73.05            HPSM      44 \n",
       "3 61.25            MEDICARE  63 \n",
       "4 90.00            MEDI-CAL  22 \n",
       "5 90.00            MEDI-CAL  22 \n",
       "6 47.00                      84 "
      ]
     },
     "metadata": {},
     "output_type": "display_data"
    }
   ],
   "source": [
    "head(cohort_age)"
   ]
  },
  {
   "cell_type": "code",
   "execution_count": 69,
   "metadata": {},
   "outputs": [
    {
     "data": {
      "text/html": [
       "63050"
      ],
      "text/latex": [
       "63050"
      ],
      "text/markdown": [
       "63050"
      ],
      "text/plain": [
       "[1] 63050"
      ]
     },
     "metadata": {},
     "output_type": "display_data"
    }
   ],
   "source": [
    "nrow(cohort_age)"
   ]
  }
 ],
 "metadata": {
  "environment": {
   "name": "r-cpu.4-0.m71",
   "type": "gcloud",
   "uri": "gcr.io/deeplearning-platform-release/r-cpu.4-0:m71"
  },
  "kernelspec": {
   "display_name": "R",
   "language": "R",
   "name": "ir"
  },
  "language_info": {
   "codemirror_mode": "r",
   "file_extension": ".r",
   "mimetype": "text/x-r-source",
   "name": "R",
   "pygments_lexer": "r",
   "version": "4.1.0"
  },
  "toc": {
   "base_numbering": 1,
   "nav_menu": {},
   "number_sections": true,
   "sideBar": true,
   "skip_h1_title": false,
   "title_cell": "Table of Contents",
   "title_sidebar": "Contents",
   "toc_cell": false,
   "toc_position": {},
   "toc_section_display": true,
   "toc_window_display": false
  },
  "varInspector": {
   "cols": {
    "lenName": 16,
    "lenType": 16,
    "lenVar": 40
   },
   "kernels_config": {
    "python": {
     "delete_cmd_postfix": "",
     "delete_cmd_prefix": "del ",
     "library": "var_list.py",
     "varRefreshCmd": "print(var_dic_list())"
    },
    "r": {
     "delete_cmd_postfix": ") ",
     "delete_cmd_prefix": "rm(",
     "library": "var_list.r",
     "varRefreshCmd": "cat(var_dic_list()) "
    }
   },
   "types_to_exclude": [
    "module",
    "function",
    "builtin_function_or_method",
    "instance",
    "_Feature"
   ],
   "window_display": false
  }
 },
 "nbformat": 4,
 "nbformat_minor": 4
}
