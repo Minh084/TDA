{
 "cells": [
  {
   "cell_type": "markdown",
   "metadata": {},
   "source": [
    "# Deaths\n",
    "\n",
    "Looking into the number of deaths based on different labels."
   ]
  },
  {
   "cell_type": "code",
   "execution_count": 1,
   "metadata": {},
   "outputs": [],
   "source": [
    "import pandas as pd\n",
    "import numpy as np\n",
    "from datetime import datetime\n",
    "from datetime import timedelta\n",
    "import matplotlib.pyplot as plt\n",
    "import seaborn as sns \n",
    "from scipy import stats"
   ]
  },
  {
   "cell_type": "code",
   "execution_count": 45,
   "metadata": {},
   "outputs": [],
   "source": [
    "# read in data files\n",
    "datadir = \"/home/eulalio/BMI212/2019_data/\"\n",
    "\n",
    "adt_file = datadir + \"traige_cohort_2019_adt.csv\"\n",
    "csn_file = datadir + \"cohort_2019_csns.csv\"\n",
    "results_file = datadir + \"results_gbw.csv\"\n",
    "labels_file = datadir + \"triage_cohort_2019_all_labels.csv\"\n",
    "demo_file = datadir + \"cohort_demo.csv\"\n",
    "death_file = datadir + \"death_dates.csv\"\n",
    "\n",
    "full_adt = pd.read_csv(adt_file)\n",
    "csns = pd.read_csv(csn_file)\n",
    "results = pd.read_csv(results_file)\n",
    "labels = pd.read_csv(labels_file)\n",
    "demo = pd.read_csv(demo_file)\n",
    "deaths = pd.read_csv(death_file)"
   ]
  },
  {
   "cell_type": "code",
   "execution_count": 19,
   "metadata": {},
   "outputs": [
    {
     "data": {
      "text/plain": [
       "41654"
      ]
     },
     "execution_count": 19,
     "metadata": {},
     "output_type": "execute_result"
    }
   ],
   "source": [
    "# filter down to csns in our cohort - should be 41,654 csns\n",
    "adt = full_adt[full_adt.pat_enc_csn_id_coded.isin(csns.pat_enc_csn_id_coded)]\n",
    "keep_csns = adt.pat_enc_csn_id_coded.values\n",
    "adt.pat_enc_csn_id_coded.nunique() # needs to be 61,654"
   ]
  },
  {
   "cell_type": "code",
   "execution_count": 46,
   "metadata": {},
   "outputs": [
    {
     "data": {
      "text/plain": [
       "2019-01-01    3076\n",
       "2020-03-31      78\n",
       "2019-09-17       8\n",
       "2020-01-07       8\n",
       "2019-04-21       8\n",
       "              ... \n",
       "2019-01-02       1\n",
       "2019-09-18       1\n",
       "2020-01-31       1\n",
       "2019-03-04       1\n",
       "2020-03-10       1\n",
       "Name: death_date_jittered, Length: 422, dtype: int64"
      ]
     },
     "execution_count": 46,
     "metadata": {},
     "output_type": "execute_result"
    }
   ],
   "source": [
    "# get the table with death data\n",
    "deaths.columns\n",
    "\n",
    "deaths.death_date_jittered.value_counts()"
   ]
  },
  {
   "cell_type": "code",
   "execution_count": 48,
   "metadata": {},
   "outputs": [
    {
     "data": {
      "text/plain": [
       "2020-03-31    70\n",
       "2020-02-29    13\n",
       "2019-08-15    12\n",
       "2020-03-21    11\n",
       "2019-11-23    11\n",
       "              ..\n",
       "2019-08-08     1\n",
       "2020-03-03     1\n",
       "2019-05-03     1\n",
       "2019-08-01     1\n",
       "2019-12-19     1\n",
       "Name: death_date_jittered, Length: 330, dtype: int64"
      ]
     },
     "execution_count": 48,
     "metadata": {},
     "output_type": "execute_result"
    }
   ],
   "source": [
    "# connect death data with cohort data\n",
    "results_death = results.merge(deaths)\n",
    "\n",
    "results_death.death_date_jittered.value_counts()"
   ]
  },
  {
   "cell_type": "markdown",
   "metadata": {},
   "source": [
    "# use results analysis code to work wtih deaths"
   ]
  }
 ],
 "metadata": {
  "kernelspec": {
   "display_name": "Python 3",
   "language": "python",
   "name": "python3"
  },
  "language_info": {
   "codemirror_mode": {
    "name": "ipython",
    "version": 3
   },
   "file_extension": ".py",
   "mimetype": "text/x-python",
   "name": "python",
   "nbconvert_exporter": "python",
   "pygments_lexer": "ipython3",
   "version": "3.8.5"
  }
 },
 "nbformat": 4,
 "nbformat_minor": 2
}
